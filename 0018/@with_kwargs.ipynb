{
 "cells": [
  {
   "cell_type": "code",
   "execution_count": 1,
   "id": "8c875534-f996-4686-b913-37e6c102042f",
   "metadata": {},
   "outputs": [
    {
     "data": {
      "text/plain": [
       "@with_kwargs (macro with 2 methods)"
      ]
     },
     "execution_count": 1,
     "metadata": {},
     "output_type": "execute_result"
    }
   ],
   "source": [
    "using ConcreteStructs\n",
    "\n",
    "@concrete struct Foo a; b; c end\n",
    "\n",
    "macro with_kwargs(typename::Symbol)\n",
    "    T = Core.eval(__module__, typename)\n",
    "    names = fieldnames(T)\n",
    "    kwargs = Expr(:parameters, names...)\n",
    "    :($typename($kwargs) = $typename($(names...))) |> esc\n",
    "end\n",
    "\n",
    "macro with_kwargs(typename::Symbol, kwargs_expr)\n",
    "    T = Core.eval(__module__, typename)\n",
    "    names = fieldnames(T)\n",
    "    D = Core.eval(__module__, kwargs_expr)\n",
    "    kwargs = Expr(:parameters)\n",
    "    for name in names\n",
    "        val = get(D, name, nothing)\n",
    "        if isnothing(val)\n",
    "            push!(kwargs.args, name)\n",
    "        else\n",
    "            push!(kwargs.args, Expr(:kw, name, val))\n",
    "        end\n",
    "    end\n",
    "    :($typename($kwargs) = $typename($(names...))) |> esc\n",
    "end\n"
   ]
  },
  {
   "cell_type": "code",
   "execution_count": 2,
   "id": "11319ef7-5bdb-44ba-be3c-e67f076decd5",
   "metadata": {},
   "outputs": [
    {
     "data": {
      "text/plain": [
       ":(Foo(; a, b, c) = begin\n",
       "          #= In[1]:9 =#\n",
       "          Foo(a, b, c)\n",
       "      end)"
      ]
     },
     "execution_count": 2,
     "metadata": {},
     "output_type": "execute_result"
    }
   ],
   "source": [
    "@macroexpand @with_kwargs Foo"
   ]
  },
  {
   "cell_type": "code",
   "execution_count": 3,
   "id": "fa377088-60f7-4604-a6fc-54e8a7d4e88e",
   "metadata": {},
   "outputs": [
    {
     "data": {
      "text/plain": [
       "Foo"
      ]
     },
     "execution_count": 3,
     "metadata": {},
     "output_type": "execute_result"
    }
   ],
   "source": [
    "@with_kwargs Foo"
   ]
  },
  {
   "cell_type": "code",
   "execution_count": 4,
   "id": "edf59eb2-5e10-467a-939c-f1e24fcb29f7",
   "metadata": {},
   "outputs": [
    {
     "data": {
      "text/html": [
       "# 2 methods for type constructor:<ul><li> Foo(; <i>a, b, c</i>) in Main at In[1]:9</li> <li> Foo(a::<b>__T_a</b>, b::<b>__T_b</b>, c::<b>__T_c</b>)<i> where {__T_a, __T_b, __T_c}</i> in Main at <a href=\"file://D:/.julia/packages/ConcreteStructs/kcpNb/src/ConcreteStructs.jl\" target=\"_blank\">D:\\.julia\\packages\\ConcreteStructs\\kcpNb\\src\\ConcreteStructs.jl:141</a></li> </ul>"
      ],
      "text/plain": [
       "# 2 methods for type constructor:\n",
       "[1] Foo(; a, b, c) in Main at In[1]:9\n",
       "[2] Foo(a::__T_a, b::__T_b, c::__T_c) where {__T_a, __T_b, __T_c} in Main at D:\\.julia\\packages\\ConcreteStructs\\kcpNb\\src\\ConcreteStructs.jl:141"
      ]
     },
     "execution_count": 4,
     "metadata": {},
     "output_type": "execute_result"
    }
   ],
   "source": [
    "methods(Foo)"
   ]
  },
  {
   "cell_type": "code",
   "execution_count": 5,
   "id": "cd170661-6be7-44a3-88b0-4828b8a5d945",
   "metadata": {},
   "outputs": [
    {
     "data": {
      "text/plain": [
       "Foo{Int64, Float64, String}(1, 2.0, \"three\")"
      ]
     },
     "execution_count": 5,
     "metadata": {},
     "output_type": "execute_result"
    }
   ],
   "source": [
    "Foo(a = 1, b = 2.0, c = \"three\")"
   ]
  },
  {
   "cell_type": "code",
   "execution_count": 6,
   "id": "ec149a1c-3aae-49b8-8a26-bc5547b4f063",
   "metadata": {},
   "outputs": [
    {
     "data": {
      "text/plain": [
       ":(Foo(; a = 1, b, c = \"three\") = begin\n",
       "          #= In[1]:25 =#\n",
       "          Foo(a, b, c)\n",
       "      end)"
      ]
     },
     "execution_count": 6,
     "metadata": {},
     "output_type": "execute_result"
    }
   ],
   "source": [
    "@macroexpand @with_kwargs Foo (a = 1, c = \"three\")"
   ]
  },
  {
   "cell_type": "code",
   "execution_count": 7,
   "id": "f7e8e3c0-2652-4526-a45c-e4a5655c3660",
   "metadata": {},
   "outputs": [
    {
     "data": {
      "text/plain": [
       "Foo"
      ]
     },
     "execution_count": 7,
     "metadata": {},
     "output_type": "execute_result"
    }
   ],
   "source": [
    "@with_kwargs Foo (a = 1, c = \"three\")"
   ]
  },
  {
   "cell_type": "code",
   "execution_count": 8,
   "id": "fd7f21e2-6a32-46f3-8c06-4232888ea4be",
   "metadata": {},
   "outputs": [
    {
     "data": {
      "text/html": [
       "# 2 methods for type constructor:<ul><li> Foo(; <i>a, b, c</i>) in Main at In[1]:25</li> <li> Foo(a::<b>__T_a</b>, b::<b>__T_b</b>, c::<b>__T_c</b>)<i> where {__T_a, __T_b, __T_c}</i> in Main at <a href=\"file://D:/.julia/packages/ConcreteStructs/kcpNb/src/ConcreteStructs.jl\" target=\"_blank\">D:\\.julia\\packages\\ConcreteStructs\\kcpNb\\src\\ConcreteStructs.jl:141</a></li> </ul>"
      ],
      "text/plain": [
       "# 2 methods for type constructor:\n",
       "[1] Foo(; a, b, c) in Main at In[1]:25\n",
       "[2] Foo(a::__T_a, b::__T_b, c::__T_c) where {__T_a, __T_b, __T_c} in Main at D:\\.julia\\packages\\ConcreteStructs\\kcpNb\\src\\ConcreteStructs.jl:141"
      ]
     },
     "execution_count": 8,
     "metadata": {},
     "output_type": "execute_result"
    }
   ],
   "source": [
    "methods(Foo)"
   ]
  },
  {
   "cell_type": "code",
   "execution_count": 9,
   "id": "471242b4-ef24-42e4-aef4-6ba485e7f3ce",
   "metadata": {},
   "outputs": [
    {
     "data": {
      "text/plain": [
       "Foo{Int64, Float64, String}(1, 2.0, \"three\")"
      ]
     },
     "execution_count": 9,
     "metadata": {},
     "output_type": "execute_result"
    }
   ],
   "source": [
    "Foo(b = 2.0)"
   ]
  },
  {
   "cell_type": "code",
   "execution_count": 10,
   "id": "d6a7092d-9915-4899-8609-a24a58b569b0",
   "metadata": {},
   "outputs": [
    {
     "data": {
      "text/plain": [
       ":(Foo(; a = 1, b = 2.0, c = \"three\") = begin\n",
       "          #= In[1]:25 =#\n",
       "          Foo(a, b, c)\n",
       "      end)"
      ]
     },
     "execution_count": 10,
     "metadata": {},
     "output_type": "execute_result"
    }
   ],
   "source": [
    "default = (a = 1, b = 2.0, c = \"three\")\n",
    "@macroexpand @with_kwargs Foo default"
   ]
  },
  {
   "cell_type": "code",
   "execution_count": 11,
   "id": "a1f7c4fb-ce2e-4f7d-b46c-0dd6bcabcd18",
   "metadata": {},
   "outputs": [
    {
     "data": {
      "text/plain": [
       "Foo"
      ]
     },
     "execution_count": 11,
     "metadata": {},
     "output_type": "execute_result"
    }
   ],
   "source": [
    "@with_kwargs Foo default"
   ]
  },
  {
   "cell_type": "code",
   "execution_count": 12,
   "id": "14402c69-d028-427a-87d6-8c4bb28f11ad",
   "metadata": {},
   "outputs": [
    {
     "data": {
      "text/html": [
       "# 2 methods for type constructor:<ul><li> Foo(; <i>a, b, c</i>) in Main at In[1]:25</li> <li> Foo(a::<b>__T_a</b>, b::<b>__T_b</b>, c::<b>__T_c</b>)<i> where {__T_a, __T_b, __T_c}</i> in Main at <a href=\"file://D:/.julia/packages/ConcreteStructs/kcpNb/src/ConcreteStructs.jl\" target=\"_blank\">D:\\.julia\\packages\\ConcreteStructs\\kcpNb\\src\\ConcreteStructs.jl:141</a></li> </ul>"
      ],
      "text/plain": [
       "# 2 methods for type constructor:\n",
       "[1] Foo(; a, b, c) in Main at In[1]:25\n",
       "[2] Foo(a::__T_a, b::__T_b, c::__T_c) where {__T_a, __T_b, __T_c} in Main at D:\\.julia\\packages\\ConcreteStructs\\kcpNb\\src\\ConcreteStructs.jl:141"
      ]
     },
     "execution_count": 12,
     "metadata": {},
     "output_type": "execute_result"
    }
   ],
   "source": [
    "methods(Foo)"
   ]
  },
  {
   "cell_type": "code",
   "execution_count": 13,
   "id": "dd805ca4-5e36-4d64-ac5e-d876b85a9fd1",
   "metadata": {},
   "outputs": [
    {
     "data": {
      "text/plain": [
       "Foo{Int64, Float64, String}(1, 2.0, \"three\")"
      ]
     },
     "execution_count": 13,
     "metadata": {},
     "output_type": "execute_result"
    }
   ],
   "source": [
    "Foo()"
   ]
  },
  {
   "cell_type": "code",
   "execution_count": null,
   "id": "317b46dd-8c19-4fd0-a9a6-719793138de6",
   "metadata": {},
   "outputs": [],
   "source": []
  }
 ],
 "metadata": {
  "jupytext": {
   "formats": "ipynb,auto:hydrogen"
  },
  "kernelspec": {
   "display_name": "Julia 1.6.2",
   "language": "julia",
   "name": "julia-1.6"
  },
  "language_info": {
   "file_extension": ".jl",
   "mimetype": "application/julia",
   "name": "julia",
   "version": "1.6.2"
  }
 },
 "nbformat": 4,
 "nbformat_minor": 5
}
