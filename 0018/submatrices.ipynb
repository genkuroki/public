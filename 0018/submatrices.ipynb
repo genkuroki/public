{
 "cells": [
  {
   "cell_type": "code",
   "execution_count": 1,
   "id": "f3b69e1d-f7a1-42e0-98cc-a864ddf962e3",
   "metadata": {},
   "outputs": [
    {
     "data": {
      "text/plain": [
       "7×7 Matrix{Int64}:\n",
       " 11  12  13  14  15  16  17\n",
       " 21  22  23  24  25  26  27\n",
       " 31  32  33  34  35  36  37\n",
       " 41  42  43  44  45  46  47\n",
       " 51  52  53  54  55  56  57\n",
       " 61  62  63  64  65  66  67\n",
       " 71  72  73  74  75  76  77"
      ]
     },
     "execution_count": 1,
     "metadata": {},
     "output_type": "execute_result"
    }
   ],
   "source": [
    "A = 10(1:7) .+ (1:7)'"
   ]
  },
  {
   "cell_type": "code",
   "execution_count": 2,
   "id": "3b1ede27-7df4-4aca-ab74-924fb6b025a1",
   "metadata": {},
   "outputs": [
    {
     "data": {
      "text/plain": [
       "(Bool[1, 1, 0, 1, 0, 0, 0], Bool[0, 1, 1, 0, 0, 0, 1])"
      ]
     },
     "execution_count": 2,
     "metadata": {},
     "output_type": "execute_result"
    }
   ],
   "source": [
    "I = Bool[1, 1, 0, 1, 0, 0, 0]\n",
    "J = Bool[0, 1, 1, 0, 0, 0, 1]\n",
    "I, J"
   ]
  },
  {
   "cell_type": "code",
   "execution_count": 3,
   "id": "1fa2d957-4190-4703-9a76-d3aedc773f2e",
   "metadata": {},
   "outputs": [
    {
     "data": {
      "text/plain": [
       "3×3 view(::Matrix{Int64}, [1, 2, 4], [2, 3, 7]) with eltype Int64:\n",
       " 12  13  17\n",
       " 22  23  27\n",
       " 42  43  47"
      ]
     },
     "execution_count": 3,
     "metadata": {},
     "output_type": "execute_result"
    }
   ],
   "source": [
    "A11 = @view A[I, J]"
   ]
  },
  {
   "cell_type": "code",
   "execution_count": 4,
   "id": "e969e667-de13-4aab-869b-9f9128346856",
   "metadata": {},
   "outputs": [
    {
     "data": {
      "text/plain": [
       "3×4 view(::Matrix{Int64}, [1, 2, 4], [1, 4, 5, 6]) with eltype Int64:\n",
       " 11  14  15  16\n",
       " 21  24  25  26\n",
       " 41  44  45  46"
      ]
     },
     "execution_count": 4,
     "metadata": {},
     "output_type": "execute_result"
    }
   ],
   "source": [
    "A12 = @view A[I, .!J]"
   ]
  },
  {
   "cell_type": "code",
   "execution_count": 5,
   "id": "1a2de457-5d91-47dc-9e00-ca81f0da5a03",
   "metadata": {},
   "outputs": [
    {
     "data": {
      "text/plain": [
       "4×3 view(::Matrix{Int64}, [3, 5, 6, 7], [2, 3, 7]) with eltype Int64:\n",
       " 32  33  37\n",
       " 52  53  57\n",
       " 62  63  67\n",
       " 72  73  77"
      ]
     },
     "execution_count": 5,
     "metadata": {},
     "output_type": "execute_result"
    }
   ],
   "source": [
    "A21 = @view A[.!I, J]"
   ]
  },
  {
   "cell_type": "code",
   "execution_count": 6,
   "id": "aac1d45e-4a50-4d5b-8f49-c0a7bd5e752b",
   "metadata": {},
   "outputs": [
    {
     "data": {
      "text/plain": [
       "4×4 view(::Matrix{Int64}, [3, 5, 6, 7], [1, 4, 5, 6]) with eltype Int64:\n",
       " 31  34  35  36\n",
       " 51  54  55  56\n",
       " 61  64  65  66\n",
       " 71  74  75  76"
      ]
     },
     "execution_count": 6,
     "metadata": {},
     "output_type": "execute_result"
    }
   ],
   "source": [
    "A22 = @view A[.!I, .!J]"
   ]
  },
  {
   "cell_type": "code",
   "execution_count": null,
   "id": "b4376c9e-e6ad-4b77-8da0-198262c1c7f8",
   "metadata": {},
   "outputs": [],
   "source": []
  }
 ],
 "metadata": {
  "kernelspec": {
   "display_name": "Julia 1.6.2",
   "language": "julia",
   "name": "julia-1.6"
  },
  "language_info": {
   "file_extension": ".jl",
   "mimetype": "application/julia",
   "name": "julia",
   "version": "1.6.2"
  }
 },
 "nbformat": 4,
 "nbformat_minor": 5
}
