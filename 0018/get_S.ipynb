{
 "cells": [
  {
   "cell_type": "code",
   "execution_count": 1,
   "id": "8131157b-6fca-4057-b612-10b2af7b464c",
   "metadata": {},
   "outputs": [],
   "source": [
    "using BenchmarkTools"
   ]
  },
  {
   "cell_type": "code",
   "execution_count": 2,
   "id": "ea390c09-e572-4989-9680-4fd2d19fb95b",
   "metadata": {},
   "outputs": [
    {
     "data": {
      "text/plain": [
       "30000×30000 BitMatrix:\n",
       " 1  1  1  1  1  1  1  1  1  1  1  1  1  …  1  1  1  1  1  1  1  1  1  1  1  1\n",
       " 1  1  1  1  1  1  1  1  1  1  1  1  1     1  1  1  1  1  1  1  1  1  1  1  1\n",
       " 1  1  1  1  1  1  1  1  1  1  1  1  1     1  1  1  1  1  1  1  1  1  1  1  1\n",
       " 1  1  1  1  1  1  1  1  1  1  1  1  1     1  1  1  1  1  1  1  1  1  1  1  1\n",
       " 1  1  1  1  1  1  1  1  1  1  1  1  1     1  1  1  1  1  1  1  1  1  1  1  1\n",
       " 1  1  1  1  1  1  1  1  1  1  1  1  1  …  1  1  1  1  1  1  1  1  1  1  1  1\n",
       " 1  1  1  1  1  1  1  1  1  1  1  1  1     1  1  1  1  1  1  1  1  1  1  1  1\n",
       " 1  1  1  1  1  1  1  1  1  1  1  1  1     1  1  1  1  1  1  1  1  1  1  1  1\n",
       " 1  1  1  1  1  1  1  1  1  1  1  1  1     1  1  1  1  1  1  1  1  1  1  1  1\n",
       " 1  1  1  1  1  1  1  1  1  1  1  1  1     1  1  1  1  1  1  1  1  1  1  1  1\n",
       " 1  1  1  1  1  1  1  1  1  1  1  1  1  …  1  1  1  1  1  1  1  1  1  1  1  1\n",
       " 1  1  1  1  1  1  1  1  1  1  1  1  1     1  1  1  1  1  1  1  1  1  1  1  1\n",
       " 1  1  1  1  1  1  1  1  1  1  1  1  1     1  1  1  1  1  1  1  1  1  1  1  1\n",
       " ⋮              ⋮              ⋮        ⋱        ⋮              ⋮           \n",
       " 1  1  1  1  1  1  1  1  1  1  1  1  1     1  1  1  1  1  1  1  1  1  1  1  1\n",
       " 1  1  1  1  1  1  1  1  1  1  1  1  1     1  1  1  1  1  1  1  1  1  1  1  1\n",
       " 1  1  1  1  1  1  1  1  1  1  1  1  1  …  1  1  1  1  1  1  1  1  1  1  1  1\n",
       " 1  1  1  1  1  1  1  1  1  1  1  1  1     1  1  1  1  1  1  1  1  1  1  1  1\n",
       " 1  1  1  1  1  1  1  1  1  1  1  1  1     1  1  1  1  1  1  1  1  1  1  1  1\n",
       " 1  1  1  1  1  1  1  1  1  1  1  1  1     1  1  1  1  1  1  1  1  1  1  1  1\n",
       " 1  1  1  1  1  1  1  1  1  1  1  1  1     1  1  1  1  1  1  1  1  1  1  1  1\n",
       " 1  1  1  1  1  1  1  1  1  1  1  1  1  …  1  1  1  1  1  1  1  1  1  1  1  1\n",
       " 1  1  1  1  1  1  1  1  1  1  1  1  1     1  1  1  1  1  1  1  1  1  1  1  1\n",
       " 1  1  1  1  1  1  1  1  1  1  1  1  1     1  1  1  1  1  1  1  1  1  1  1  1\n",
       " 1  1  1  1  1  1  1  1  1  1  1  1  1     1  1  1  1  1  1  1  1  1  1  1  1\n",
       " 1  1  1  1  1  1  1  1  1  1  1  1  1     1  1  1  1  1  1  1  1  1  1  1  1"
      ]
     },
     "execution_count": 2,
     "metadata": {},
     "output_type": "execute_result"
    }
   ],
   "source": [
    "W = trues(30000, 30000)\n",
    "W[rand(1:length(W), round(Int, √length(W)))] .= 0\n",
    "W"
   ]
  },
  {
   "cell_type": "code",
   "execution_count": 3,
   "id": "b1575306-8b95-4d2c-9c79-1c465eba25e0",
   "metadata": {},
   "outputs": [
    {
     "data": {
      "text/plain": [
       "get_S (generic function with 1 method)"
      ]
     },
     "execution_count": 3,
     "metadata": {},
     "output_type": "execute_result"
    }
   ],
   "source": [
    "function get_S(W)\n",
    "    zeroidxs = getindex.(findall(iszero, W), [1 2])\n",
    "    S1 = Set(zeroidxs[:,1])\n",
    "    S2 = Set(zeroidxs[:,2])\n",
    "    return S1, S2\n",
    "end"
   ]
  },
  {
   "cell_type": "code",
   "execution_count": 4,
   "id": "a043dc24-410d-4099-a815-4195d462c7b6",
   "metadata": {},
   "outputs": [
    {
     "name": "stdout",
     "output_type": "stream",
     "text": [
      "  1.417 s (37 allocations: 3.04 MiB)\n"
     ]
    },
    {
     "data": {
      "text/plain": [
       "(Set([29965, 11950, 1703, 12427, 7685, 3406, 28804, 28900, 27640, 23970  …  21616, 12084, 1711, 15380, 17984, 10808, 25754, 19700, 8546, 4159]), Set([29965, 12427, 7685, 18374, 3406, 28804, 23970, 27640, 28576, 1090  …  21616, 1711, 15380, 15271, 4724, 19700, 8546, 4159, 8992, 24824]))"
      ]
     },
     "execution_count": 4,
     "metadata": {},
     "output_type": "execute_result"
    }
   ],
   "source": [
    "@btime get_S($W)"
   ]
  },
  {
   "cell_type": "code",
   "execution_count": 5,
   "id": "192bc966-d31f-4155-b4e8-5cbcb7a651ba",
   "metadata": {},
   "outputs": [
    {
     "data": {
      "text/plain": [
       "get_S1 (generic function with 1 method)"
      ]
     },
     "execution_count": 5,
     "metadata": {},
     "output_type": "execute_result"
    }
   ],
   "source": [
    "function get_S1(W)\n",
    "    zeroidxs = getindex.(findall(iszero, W), [1 2])\n",
    "    S1 = unique(zeroidxs[:,1])\n",
    "    S2 = unique(zeroidxs[:,2])\n",
    "    return S1, S2\n",
    "end"
   ]
  },
  {
   "cell_type": "code",
   "execution_count": 6,
   "id": "b0037716-294a-4f42-8b9f-d967941f1c25",
   "metadata": {},
   "outputs": [
    {
     "name": "stdout",
     "output_type": "stream",
     "text": [
      "  1.405 s (107 allocations: 4.42 MiB)\n"
     ]
    },
    {
     "data": {
      "text/plain": [
       "([28964, 9239, 3629, 28630, 18881, 20153, 560, 27587, 14451, 14695  …  8650, 25408, 17539, 10018, 21219, 8738, 5215, 8790, 2839, 25963], [1, 3, 4, 6, 10, 13, 14, 15, 16, 18  …  29987, 29988, 29990, 29992, 29993, 29995, 29996, 29997, 29998, 29999])"
      ]
     },
     "execution_count": 6,
     "metadata": {},
     "output_type": "execute_result"
    }
   ],
   "source": [
    "@btime get_S1($W)"
   ]
  },
  {
   "cell_type": "code",
   "execution_count": 7,
   "id": "25b599e4-30f0-4df5-8b9c-65b0250c3985",
   "metadata": {},
   "outputs": [
    {
     "data": {
      "text/plain": [
       "true"
      ]
     },
     "execution_count": 7,
     "metadata": {},
     "output_type": "execute_result"
    }
   ],
   "source": [
    "sort.(unique.(collect.(get_S(W)))) == sort.(get_S1(W))"
   ]
  },
  {
   "cell_type": "code",
   "execution_count": 8,
   "id": "86488769-efcf-49bd-8270-f3f899b2b595",
   "metadata": {},
   "outputs": [
    {
     "data": {
      "text/plain": [
       "get_S2 (generic function with 1 method)"
      ]
     },
     "execution_count": 8,
     "metadata": {},
     "output_type": "execute_result"
    }
   ],
   "source": [
    "function get_S2(W)\n",
    "    m, n = size(W)\n",
    "    b1, b2 = fill(false, m), fill(false, n)\n",
    "    Threads.@threads for j in 1:n\n",
    "        for i in 1:n\n",
    "            @inbounds if W[i, j] == 0\n",
    "                b1[i] = b2[j] = true\n",
    "            end\n",
    "        end\n",
    "    end\n",
    "    b1, b2\n",
    "end"
   ]
  },
  {
   "cell_type": "code",
   "execution_count": 9,
   "id": "3999ed80-4e54-4965-8866-ac0aeb300f00",
   "metadata": {},
   "outputs": [
    {
     "name": "stdout",
     "output_type": "stream",
     "text": [
      "  74.563 ms (65 allocations: 64.98 KiB)\n"
     ]
    },
    {
     "data": {
      "text/plain": [
       "(Bool[1, 1, 1, 0, 1, 1, 1, 0, 0, 0  …  0, 0, 1, 1, 0, 0, 1, 1, 0, 1], Bool[1, 0, 1, 1, 0, 1, 0, 0, 0, 1  …  0, 1, 1, 0, 1, 1, 1, 1, 1, 0])"
      ]
     },
     "execution_count": 9,
     "metadata": {},
     "output_type": "execute_result"
    }
   ],
   "source": [
    "@btime get_S2($W)"
   ]
  },
  {
   "cell_type": "code",
   "execution_count": 10,
   "id": "fe270def-befd-4ecb-b1da-cef8edfbf577",
   "metadata": {},
   "outputs": [
    {
     "data": {
      "text/plain": [
       "get_S3 (generic function with 1 method)"
      ]
     },
     "execution_count": 10,
     "metadata": {},
     "output_type": "execute_result"
    }
   ],
   "source": [
    "get_S3(W) = findall.(get_S2(W))"
   ]
  },
  {
   "cell_type": "code",
   "execution_count": 11,
   "id": "51ac3c45-f47c-426a-826e-8fc2baff8a79",
   "metadata": {},
   "outputs": [
    {
     "name": "stdout",
     "output_type": "stream",
     "text": [
      "  74.948 ms (69 allocations: 361.20 KiB)\n"
     ]
    },
    {
     "data": {
      "text/plain": [
       "([1, 2, 3, 5, 6, 7, 12, 14, 15, 16  …  29983, 29985, 29987, 29988, 29990, 29993, 29994, 29997, 29998, 30000], [1, 3, 4, 6, 10, 13, 14, 15, 16, 18  …  29987, 29988, 29990, 29992, 29993, 29995, 29996, 29997, 29998, 29999])"
      ]
     },
     "execution_count": 11,
     "metadata": {},
     "output_type": "execute_result"
    }
   ],
   "source": [
    "@btime get_S3($W)"
   ]
  },
  {
   "cell_type": "code",
   "execution_count": 12,
   "id": "6b96cb08-d166-4100-9e52-24af43143f5b",
   "metadata": {},
   "outputs": [
    {
     "data": {
      "text/plain": [
       "true"
      ]
     },
     "execution_count": 12,
     "metadata": {},
     "output_type": "execute_result"
    }
   ],
   "source": [
    "sort.(get_S1(W)) == get_S3(W)"
   ]
  },
  {
   "cell_type": "code",
   "execution_count": 13,
   "id": "b2250d88-83cf-42ee-a37e-3e852ff4c6b3",
   "metadata": {},
   "outputs": [
    {
     "data": {
      "text/plain": [
       "Tuple{Set{Int64}, Set{Int64}}"
      ]
     },
     "execution_count": 13,
     "metadata": {},
     "output_type": "execute_result"
    }
   ],
   "source": [
    "get_S(W) |> typeof"
   ]
  },
  {
   "cell_type": "code",
   "execution_count": 14,
   "id": "73caf69f-553e-4aab-842f-36154d87acb9",
   "metadata": {},
   "outputs": [
    {
     "data": {
      "text/plain": [
       "Tuple{Vector{Int64}, Vector{Int64}}"
      ]
     },
     "execution_count": 14,
     "metadata": {},
     "output_type": "execute_result"
    }
   ],
   "source": [
    "get_S1(W) |> typeof"
   ]
  },
  {
   "cell_type": "code",
   "execution_count": 15,
   "id": "19f1e038-4f0f-4a91-beea-708083ecd891",
   "metadata": {},
   "outputs": [
    {
     "data": {
      "text/plain": [
       "Tuple{Vector{Bool}, Vector{Bool}}"
      ]
     },
     "execution_count": 15,
     "metadata": {},
     "output_type": "execute_result"
    }
   ],
   "source": [
    "get_S2(W) |> typeof"
   ]
  },
  {
   "cell_type": "code",
   "execution_count": 16,
   "id": "25508b66-4eaf-4faa-aafe-1672bd753221",
   "metadata": {},
   "outputs": [
    {
     "data": {
      "text/plain": [
       "Tuple{Vector{Int64}, Vector{Int64}}"
      ]
     },
     "execution_count": 16,
     "metadata": {},
     "output_type": "execute_result"
    }
   ],
   "source": [
    "get_S3(W) |> typeof"
   ]
  },
  {
   "cell_type": "code",
   "execution_count": null,
   "id": "ecedceab-da5b-4e7e-9139-3f803c527675",
   "metadata": {},
   "outputs": [],
   "source": []
  }
 ],
 "metadata": {
  "jupytext": {
   "formats": "ipynb,auto:hydrogen"
  },
  "kernelspec": {
   "display_name": "Julia 1.6.2",
   "language": "julia",
   "name": "julia-1.6"
  },
  "language_info": {
   "file_extension": ".jl",
   "mimetype": "application/julia",
   "name": "julia",
   "version": "1.6.2"
  }
 },
 "nbformat": 4,
 "nbformat_minor": 5
}
