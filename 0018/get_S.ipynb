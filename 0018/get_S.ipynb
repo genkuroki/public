{
 "cells": [
  {
   "cell_type": "code",
   "execution_count": 1,
   "id": "ea390c09-e572-4989-9680-4fd2d19fb95b",
   "metadata": {},
   "outputs": [
    {
     "data": {
      "text/plain": [
       "10000×10000 BitMatrix:\n",
       " 1  1  1  1  1  1  0  1  1  1  1  0  0  …  1  1  1  1  1  1  1  1  1  1  1  1\n",
       " 1  1  1  1  1  1  1  1  1  1  1  1  1     1  1  1  1  0  1  1  1  1  1  1  1\n",
       " 1  1  1  1  1  1  1  0  1  1  0  1  1     1  1  1  1  1  1  1  1  1  1  1  1\n",
       " 0  1  1  1  1  1  1  1  1  1  1  1  1     1  1  1  1  1  1  1  1  1  1  1  1\n",
       " 0  1  1  1  1  1  1  1  1  1  1  1  1     1  0  1  1  1  1  1  1  1  1  1  1\n",
       " 1  1  1  1  1  1  1  1  1  1  0  1  1  …  1  1  1  1  1  1  1  1  1  1  1  0\n",
       " 0  1  1  1  1  1  1  1  1  1  1  1  0     1  0  1  1  1  1  1  1  1  1  1  1\n",
       " 0  0  1  1  1  1  1  1  0  1  1  1  1     1  1  1  1  1  1  1  1  1  1  1  1\n",
       " 1  1  1  0  1  1  1  1  1  1  1  1  1     1  1  0  1  1  1  1  0  1  1  1  1\n",
       " 1  1  1  1  1  0  0  1  1  1  1  1  1     1  1  1  1  0  1  1  1  1  1  1  0\n",
       " 1  1  1  1  1  1  1  1  1  0  1  1  1  …  1  1  1  1  1  1  1  1  1  1  1  1\n",
       " 1  1  1  1  1  1  0  1  1  0  1  1  1     1  1  1  1  1  1  0  0  1  1  1  1\n",
       " 1  1  1  1  1  1  1  1  1  1  1  1  1     1  0  1  1  1  1  1  1  1  1  1  1\n",
       " ⋮              ⋮              ⋮        ⋱        ⋮              ⋮           \n",
       " 0  1  1  1  1  1  1  0  1  1  1  1  1     1  1  1  1  1  1  1  1  1  1  1  1\n",
       " 1  1  1  1  0  1  1  1  1  1  1  1  1     1  1  1  1  1  1  1  1  1  1  1  1\n",
       " 1  1  1  1  1  1  1  1  1  1  1  1  1  …  1  1  1  1  1  1  1  1  1  1  1  1\n",
       " 1  0  1  1  1  1  1  1  0  1  1  1  1     1  1  1  1  1  1  1  1  1  1  1  1\n",
       " 1  1  1  1  1  1  1  1  0  1  0  1  1     1  1  1  1  1  1  1  1  1  1  1  1\n",
       " 1  1  1  1  1  1  1  1  1  1  1  1  1     1  1  1  1  1  1  1  1  1  1  1  1\n",
       " 1  1  1  1  0  1  1  1  1  1  1  1  1     1  0  1  1  1  1  1  0  1  1  1  1\n",
       " 1  1  1  1  1  0  0  1  1  1  1  1  1  …  1  1  1  1  1  1  1  1  1  1  0  1\n",
       " 1  1  1  1  1  1  1  1  1  1  1  1  1     1  1  1  1  1  1  0  1  1  1  1  1\n",
       " 1  0  1  1  1  1  0  1  1  1  1  1  1     1  1  1  1  1  0  0  1  0  1  1  1\n",
       " 1  1  1  1  0  1  1  1  1  0  1  1  0     1  1  1  1  1  1  1  0  1  0  1  1\n",
       " 1  1  1  1  1  1  1  1  1  1  1  1  1     1  1  1  1  0  1  1  1  1  0  1  0"
      ]
     },
     "execution_count": 1,
     "metadata": {},
     "output_type": "execute_result"
    }
   ],
   "source": [
    "W = trues(10000, 10000)\n",
    "W[rand(1:length(W), round(Int, 0.1length(W)))] .= 0\n",
    "W"
   ]
  },
  {
   "cell_type": "code",
   "execution_count": 2,
   "id": "b1575306-8b95-4d2c-9c79-1c465eba25e0",
   "metadata": {},
   "outputs": [
    {
     "data": {
      "text/plain": [
       "get_S (generic function with 1 method)"
      ]
     },
     "execution_count": 2,
     "metadata": {},
     "output_type": "execute_result"
    }
   ],
   "source": [
    "function get_S(W)\n",
    "    zeroidxs = getindex.(findall(iszero, W), [1 2])\n",
    "    S1 = Set(zeroidxs[:,1])\n",
    "    S2 = Set(zeroidxs[:,2])\n",
    "    return S1, S2\n",
    "end"
   ]
  },
  {
   "cell_type": "code",
   "execution_count": 3,
   "id": "a043dc24-410d-4099-a815-4195d462c7b6",
   "metadata": {},
   "outputs": [
    {
     "name": "stdout",
     "output_type": "stream",
     "text": [
      "  0.936446 seconds (838.01 k allocations: 884.316 MiB, 15.88% gc time, 19.82% compilation time)\n",
      "  0.649912 seconds (47 allocations: 835.398 MiB, 2.57% gc time)\n",
      "  0.723757 seconds (47 allocations: 835.398 MiB, 9.25% gc time)\n"
     ]
    },
    {
     "data": {
      "text/plain": [
       "(Set([664, 7513, 5713, 1328, 4211, 4407, 2656, 3431, 8368, 8814  …  786, 790, 9551, 4888, 395, 8856, 9108, 4675, 8612, 611]), Set([664, 7513, 5713, 1328, 4211, 4407, 2656, 3431, 8368, 8814  …  786, 790, 9551, 4888, 395, 8856, 9108, 4675, 8612, 611]))"
      ]
     },
     "execution_count": 3,
     "metadata": {},
     "output_type": "execute_result"
    }
   ],
   "source": [
    "@time get_S(W)\n",
    "@time get_S(W)\n",
    "@time get_S(W)"
   ]
  },
  {
   "cell_type": "code",
   "execution_count": 4,
   "id": "192bc966-d31f-4155-b4e8-5cbcb7a651ba",
   "metadata": {},
   "outputs": [
    {
     "data": {
      "text/plain": [
       "get_S1 (generic function with 1 method)"
      ]
     },
     "execution_count": 4,
     "metadata": {},
     "output_type": "execute_result"
    }
   ],
   "source": [
    "function get_S1(W)\n",
    "    zeroidxs = getindex.(findall(iszero, W), [1 2])\n",
    "    S1 = unique(zeroidxs[:,1])\n",
    "    S2 = unique(zeroidxs[:,2])\n",
    "    return S1, S2\n",
    "end"
   ]
  },
  {
   "cell_type": "code",
   "execution_count": 5,
   "id": "b0037716-294a-4f42-8b9f-d967941f1c25",
   "metadata": {},
   "outputs": [
    {
     "name": "stdout",
     "output_type": "stream",
     "text": [
      "  0.649692 seconds (112.07 k allocations: 555.228 MiB, 2.11% gc time, 6.71% compilation time)\n",
      "  0.644539 seconds (105 allocations: 548.277 MiB, 8.10% gc time)\n",
      "  0.615422 seconds (105 allocations: 548.277 MiB, 3.68% gc time)\n"
     ]
    },
    {
     "data": {
      "text/plain": [
       "([4, 5, 7, 8, 15, 22, 33, 55, 58, 64  …  5403, 8384, 1140, 6681, 7925, 6499, 5359, 4325, 8720, 2188], [1, 2, 3, 4, 5, 6, 7, 8, 9, 10  …  9991, 9992, 9993, 9994, 9995, 9996, 9997, 9998, 9999, 10000])"
      ]
     },
     "execution_count": 5,
     "metadata": {},
     "output_type": "execute_result"
    }
   ],
   "source": [
    "@time get_S1(W)\n",
    "@time get_S1(W)\n",
    "@time get_S1(W)"
   ]
  },
  {
   "cell_type": "code",
   "execution_count": 6,
   "id": "25b599e4-30f0-4df5-8b9c-65b0250c3985",
   "metadata": {},
   "outputs": [
    {
     "data": {
      "text/plain": [
       "true"
      ]
     },
     "execution_count": 6,
     "metadata": {},
     "output_type": "execute_result"
    }
   ],
   "source": [
    "sort.(unique.(collect.(get_S(W)))) == sort.(get_S1(W))"
   ]
  },
  {
   "cell_type": "code",
   "execution_count": 7,
   "id": "86488769-efcf-49bd-8270-f3f899b2b595",
   "metadata": {},
   "outputs": [
    {
     "data": {
      "text/plain": [
       "get_S2 (generic function with 1 method)"
      ]
     },
     "execution_count": 7,
     "metadata": {},
     "output_type": "execute_result"
    }
   ],
   "source": [
    "function get_S2(W)\n",
    "    m, n = size(W)\n",
    "    b1, b2 = fill(false, m), fill(false, n)\n",
    "    Threads.@threads for j in 1:n\n",
    "        for i in 1:n\n",
    "            @inbounds if W[i, j] == 0\n",
    "                b1[i] = b2[j] = true\n",
    "            end\n",
    "        end\n",
    "    end\n",
    "    b1, b2\n",
    "end"
   ]
  },
  {
   "cell_type": "code",
   "execution_count": 8,
   "id": "f4c2f9e2-7152-4eb0-963c-84a9f34b667f",
   "metadata": {},
   "outputs": [
    {
     "name": "stdout",
     "output_type": "stream",
     "text": [
      "  0.072647 seconds (128.54 k allocations: 7.628 MiB, 41.91% compilation time)\n",
      "  0.015655 seconds (66 allocations: 26.172 KiB)\n",
      "  0.038858 seconds (72 allocations: 26.328 KiB)\n"
     ]
    },
    {
     "data": {
      "text/plain": [
       "(Bool[1, 1, 1, 1, 1, 1, 1, 1, 1, 1  …  1, 1, 1, 1, 1, 1, 1, 1, 1, 1], Bool[1, 1, 1, 1, 1, 1, 1, 1, 1, 1  …  1, 1, 1, 1, 1, 1, 1, 1, 1, 1])"
      ]
     },
     "execution_count": 8,
     "metadata": {},
     "output_type": "execute_result"
    }
   ],
   "source": [
    "@time get_S2(W)\n",
    "@time get_S2(W)\n",
    "@time get_S2(W)"
   ]
  },
  {
   "cell_type": "code",
   "execution_count": 9,
   "id": "fe270def-befd-4ecb-b1da-cef8edfbf577",
   "metadata": {},
   "outputs": [
    {
     "data": {
      "text/plain": [
       "get_S3 (generic function with 1 method)"
      ]
     },
     "execution_count": 9,
     "metadata": {},
     "output_type": "execute_result"
    }
   ],
   "source": [
    "get_S3(W) = findall.(get_S2(W))"
   ]
  },
  {
   "cell_type": "code",
   "execution_count": 10,
   "id": "51ac3c45-f47c-426a-826e-8fc2baff8a79",
   "metadata": {},
   "outputs": [
    {
     "name": "stdout",
     "output_type": "stream",
     "text": [
      "  0.033386 seconds (84.05 k allocations: 5.480 MiB, 53.61% compilation time)\n",
      "  0.033802 seconds (77 allocations: 182.906 KiB)\n",
      "  0.023342 seconds (77 allocations: 182.766 KiB)\n"
     ]
    },
    {
     "data": {
      "text/plain": [
       "([1, 2, 3, 4, 5, 6, 7, 8, 9, 10  …  9991, 9992, 9993, 9994, 9995, 9996, 9997, 9998, 9999, 10000], [1, 2, 3, 4, 5, 6, 7, 8, 9, 10  …  9991, 9992, 9993, 9994, 9995, 9996, 9997, 9998, 9999, 10000])"
      ]
     },
     "execution_count": 10,
     "metadata": {},
     "output_type": "execute_result"
    }
   ],
   "source": [
    "@time get_S3(W)\n",
    "@time get_S3(W)\n",
    "@time get_S3(W)"
   ]
  },
  {
   "cell_type": "code",
   "execution_count": 11,
   "id": "6b96cb08-d166-4100-9e52-24af43143f5b",
   "metadata": {},
   "outputs": [
    {
     "data": {
      "text/plain": [
       "true"
      ]
     },
     "execution_count": 11,
     "metadata": {},
     "output_type": "execute_result"
    }
   ],
   "source": [
    "sort.(get_S1(W)) == get_S3(W)"
   ]
  },
  {
   "cell_type": "code",
   "execution_count": 12,
   "id": "b2250d88-83cf-42ee-a37e-3e852ff4c6b3",
   "metadata": {},
   "outputs": [
    {
     "data": {
      "text/plain": [
       "Tuple{Set{Int64}, Set{Int64}}"
      ]
     },
     "execution_count": 12,
     "metadata": {},
     "output_type": "execute_result"
    }
   ],
   "source": [
    "get_S(W) |> typeof"
   ]
  },
  {
   "cell_type": "code",
   "execution_count": 13,
   "id": "73caf69f-553e-4aab-842f-36154d87acb9",
   "metadata": {},
   "outputs": [
    {
     "data": {
      "text/plain": [
       "Tuple{Vector{Int64}, Vector{Int64}}"
      ]
     },
     "execution_count": 13,
     "metadata": {},
     "output_type": "execute_result"
    }
   ],
   "source": [
    "get_S1(W) |> typeof"
   ]
  },
  {
   "cell_type": "code",
   "execution_count": 14,
   "id": "19f1e038-4f0f-4a91-beea-708083ecd891",
   "metadata": {},
   "outputs": [
    {
     "data": {
      "text/plain": [
       "Tuple{Vector{Bool}, Vector{Bool}}"
      ]
     },
     "execution_count": 14,
     "metadata": {},
     "output_type": "execute_result"
    }
   ],
   "source": [
    "get_S2(W) |> typeof"
   ]
  },
  {
   "cell_type": "code",
   "execution_count": 15,
   "id": "25508b66-4eaf-4faa-aafe-1672bd753221",
   "metadata": {},
   "outputs": [
    {
     "data": {
      "text/plain": [
       "Tuple{Vector{Int64}, Vector{Int64}}"
      ]
     },
     "execution_count": 15,
     "metadata": {},
     "output_type": "execute_result"
    }
   ],
   "source": [
    "get_S3(W) |> typeof"
   ]
  },
  {
   "cell_type": "code",
   "execution_count": null,
   "id": "f37380b6-e3f2-4d06-907e-9a70c0b0fec6",
   "metadata": {},
   "outputs": [],
   "source": []
  }
 ],
 "metadata": {
  "jupytext": {
   "formats": "ipynb,auto:hydrogen"
  },
  "kernelspec": {
   "display_name": "Julia 1.6.2",
   "language": "julia",
   "name": "julia-1.6"
  },
  "language_info": {
   "file_extension": ".jl",
   "mimetype": "application/julia",
   "name": "julia",
   "version": "1.6.2"
  }
 },
 "nbformat": 4,
 "nbformat_minor": 5
}
