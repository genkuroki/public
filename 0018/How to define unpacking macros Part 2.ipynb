{
 "cells": [
  {
   "cell_type": "markdown",
   "id": "e854d27b-caa5-4908-bb94-642efb96787e",
   "metadata": {},
   "source": [
    "* https://discourse.julialang.org/t/for-monte-carlo-simulation-with-same-code-same-algorithm-how-fast-is-julia-compared-with-fortran/67021/41\n",
    "* https://discourse.julialang.org/t/for-monte-carlo-simulation-with-same-code-same-algorithm-how-fast-is-julia-compared-with-fortran/67021/43\n",
    "* https://github.com/genkuroki/public/blob/main/0018/%40defkwargs.ipynb\n",
    "* https://github.com/genkuroki/public/blob/main/0018/%40defunpack.ipynb\n",
    "* https://github.com/genkuroki/public/blob/main/0018/How%20to%20define%20unpacking%20macros.ipynb\n",
    "* https://github.com/genkuroki/public/blob/main/0018/How%20to%20define%20unpacking%20macros%20Part%202.ipynb"
   ]
  },
  {
   "cell_type": "code",
   "execution_count": 1,
   "id": "78071cda-a7da-4127-b361-c47acb58be98",
   "metadata": {},
   "outputs": [
    {
     "data": {
      "text/plain": [
       "Foo{String, Int64, Int64, Int64, Int64, Int64, Int64, Int64, Int64, Int64, Int64, Int64, Char, Int64, Int64, Int64, Int64, Int64, Int64, Int64, Int64, Int64, Int64, Int64, Int64, Float64}(\"meow\", 2, 3, 4, 5, 6, 7, 8, 9, 10, 11, 12, 'm', 14, 15, 16, 17, 18, 19, 20, 21, 22, 23, 24, 25, 99.99)"
      ]
     },
     "execution_count": 1,
     "metadata": {},
     "output_type": "execute_result"
    }
   ],
   "source": [
    "using ConcreteStructs\n",
    "\n",
    "@concrete struct Foo a; b; c; d; e; f; g; h; i; j; k; l; m; n; o; p; q; r; s; t; u; v; w; x; y; z end\n",
    "\n",
    "names = fieldnames(Foo)\n",
    "kwargs = Expr(:parameters, (Expr(:kw, name, v) for (v, name) in enumerate(names))...)\n",
    "@eval Foo($kwargs) = Foo($(names...))\n",
    "\n",
    "foo = Foo(a = \"meow\", m = 'm', z = 99.99)"
   ]
  },
  {
   "cell_type": "code",
   "execution_count": 2,
   "id": "74449736-96b7-4e9b-a3ac-65638c25fa54",
   "metadata": {},
   "outputs": [
    {
     "name": "stdout",
     "output_type": "stream",
     "text": [
      "a = \"meow\"\n",
      "b = 2\n",
      "c = 3\n",
      "d = 4\n",
      "e = 5\n",
      "f = 6\n",
      "g = 7\n",
      "h = 8\n",
      "i = 9\n",
      "j = 10\n",
      "k = 11\n",
      "l = 12\n",
      "m = 'm'\n",
      "n = 14\n",
      "o = 15\n",
      "p = 16\n",
      "q = 17\n",
      "r = 18\n",
      "s = 19\n",
      "t = 20\n",
      "u = 21\n",
      "v = 22\n",
      "w = 23\n",
      "x = 24\n",
      "y = 25\n",
      "z = 99.99\n"
     ]
    }
   ],
   "source": [
    "\"\"\"\n",
    "`@unpackall_Foo(obj)` unpacks all fields of the object `obj` of type `Foo`.\n",
    "\"\"\"\n",
    "macro unpackall_Foo(obj)\n",
    "    names = fieldnames(Foo)\n",
    "    Expr(:(=),\n",
    "        Expr(:tuple, names...),\n",
    "        Expr(:tuple, (:($obj.$name) for name in names)...)\n",
    "    ) |> esc\n",
    "end\n",
    "\n",
    "let\n",
    "    @unpackall_Foo foo\n",
    "    @show a b c d e f g h i j k l m n o p q r s t u v w x y z\n",
    "end;"
   ]
  },
  {
   "cell_type": "code",
   "execution_count": 3,
   "id": "90036de8-0846-4152-8a37-e3dc172613ec",
   "metadata": {},
   "outputs": [
    {
     "name": "stdout",
     "output_type": "stream",
     "text": [
      "a = \"meow\"\n",
      "b = 2\n",
      "c = 3\n",
      "d = 4\n",
      "e = 5\n",
      "f = 6\n",
      "g = 7\n",
      "h = 8\n",
      "i = 9\n",
      "j = 10\n",
      "k = 11\n",
      "l = 12\n",
      "m = 'm'\n",
      "n = 14\n",
      "o = 15\n",
      "p = 16\n",
      "q = 17\n",
      "r = 18\n",
      "s = 19\n",
      "t = 20\n",
      "u = 21\n",
      "v = 22\n",
      "w = 23\n",
      "x = 24\n",
      "y = 25\n",
      "z = 99.99\n"
     ]
    }
   ],
   "source": [
    "using Parameters\n",
    "\n",
    "let\n",
    "    @unpack a, b, c, d, e, f, g, h, i, j, k, l, m, n, o, p, q, r, s, t, u, v, w, x, y, z = foo\n",
    "    @show a b c d e f g h i j k l m n o p q r s t u v w x y z\n",
    "end;"
   ]
  },
  {
   "cell_type": "code",
   "execution_count": 4,
   "id": "4dff51e3-17e8-48d5-9705-24cee4a74a02",
   "metadata": {},
   "outputs": [
    {
     "data": {
      "text/html": [
       "# 2 methods for type constructor:<ul><li> Foo(; <i>a, b, c, d, e, f, g, h, i, j, k, l, m, n, o, p, q, r, s, t, u, v, w, x, y, z</i>) in Main at In[1]:7</li> <li> Foo(a::<b>__T_a</b>, b::<b>__T_b</b>, c::<b>__T_c</b>, d::<b>__T_d</b>, e::<b>__T_e</b>, f::<b>__T_f</b>, g::<b>__T_g</b>, h::<b>__T_h</b>, i::<b>__T_i</b>, j::<b>__T_j</b>, k::<b>__T_k</b>, l::<b>__T_l</b>, m::<b>__T_m</b>, n::<b>__T_n</b>, o::<b>__T_o</b>, p::<b>__T_p</b>, q::<b>__T_q</b>, r::<b>__T_r</b>, s::<b>__T_s</b>, t::<b>__T_t</b>, u::<b>__T_u</b>, v::<b>__T_v</b>, w::<b>__T_w</b>, x::<b>__T_x</b>, y::<b>__T_y</b>, z::<b>__T_z</b>)<i> where {__T_a, __T_b, __T_c, __T_d, __T_e, __T_f, __T_g, __T_h, __T_i, __T_j, __T_k, __T_l, __T_m, __T_n, __T_o, __T_p, __T_q, __T_r, __T_s, __T_t, __T_u, __T_v, __T_w, __T_x, __T_y, __T_z}</i> in Main at <a href=\"file://D:/.julia/packages/ConcreteStructs/kcpNb/src/ConcreteStructs.jl\" target=\"_blank\">D:\\.julia\\packages\\ConcreteStructs\\kcpNb\\src\\ConcreteStructs.jl:141</a></li> </ul>"
      ],
      "text/plain": [
       "# 2 methods for type constructor:\n",
       "[1] Foo(; a, b, c, d, e, f, g, h, i, j, k, l, m, n, o, p, q, r, s, t, u, v, w, x, y, z) in Main at In[1]:7\n",
       "[2] Foo(a::__T_a, b::__T_b, c::__T_c, d::__T_d, e::__T_e, f::__T_f, g::__T_g, h::__T_h, i::__T_i, j::__T_j, k::__T_k, l::__T_l, m::__T_m, n::__T_n, o::__T_o, p::__T_p, q::__T_q, r::__T_r, s::__T_s, t::__T_t, u::__T_u, v::__T_v, w::__T_w, x::__T_x, y::__T_y, z::__T_z) where {__T_a, __T_b, __T_c, __T_d, __T_e, __T_f, __T_g, __T_h, __T_i, __T_j, __T_k, __T_l, __T_m, __T_n, __T_o, __T_p, __T_q, __T_r, __T_s, __T_t, __T_u, __T_v, __T_w, __T_x, __T_y, __T_z} in Main at D:\\.julia\\packages\\ConcreteStructs\\kcpNb\\src\\ConcreteStructs.jl:141"
      ]
     },
     "execution_count": 4,
     "metadata": {},
     "output_type": "execute_result"
    }
   ],
   "source": [
    "methods(Foo)"
   ]
  },
  {
   "cell_type": "code",
   "execution_count": 5,
   "id": "baa395c5-f637-4ac6-8e2c-dae1445e2bd3",
   "metadata": {},
   "outputs": [
    {
     "data": {
      "text/latex": [
       "\\texttt{@unpackall\\_Foo(obj)} unpacks all fields of the object \\texttt{obj} of type \\texttt{Foo}.\n",
       "\n"
      ],
      "text/markdown": [
       "`@unpackall_Foo(obj)` unpacks all fields of the object `obj` of type `Foo`.\n"
      ],
      "text/plain": [
       "  \u001b[36m@unpackall_Foo(obj)\u001b[39m unpacks all fields of the object \u001b[36mobj\u001b[39m of type \u001b[36mFoo\u001b[39m."
      ]
     },
     "execution_count": 5,
     "metadata": {},
     "output_type": "execute_result"
    }
   ],
   "source": [
    "?@unpackall_Foo"
   ]
  },
  {
   "cell_type": "code",
   "execution_count": 6,
   "id": "1f8f4c03-7c38-40f3-92b6-818f34ae4e30",
   "metadata": {},
   "outputs": [
    {
     "data": {
      "text/latex": [
       "\\begin{verbatim}\n",
       "@unpack a, b, c, ... = dict_or_typeinstance\n",
       "\\end{verbatim}\n",
       "Unpack fields/properties/keys from a composite type, a \\texttt{Dict\\{Symbol\\}}, a \\texttt{Dict\\{String\\}}, or a module into variables.\n",
       "\n",
       "Example with dict:\n",
       "\n",
       "\\begin{verbatim}\n",
       "d = Dict{Symbol,Any}(:a=>5.0,:b=>2,:c=>\"Hi!\")\n",
       "@unpack a, c = d\n",
       "a == 5.0 #true\n",
       "c == \"Hi!\" #true\n",
       "\\end{verbatim}\n",
       "Example with type:\n",
       "\n",
       "\\begin{verbatim}\n",
       "struct A; a; b; c; end\n",
       "d = A(4,7.0,\"Hi\")\n",
       "@unpack a, c = d\n",
       "a == 4 #true\n",
       "c == \"Hi\" #true\n",
       "\\end{verbatim}\n",
       "Note that its functionality can be extended by adding methods to the \\texttt{UnPack.unpack} function.\n",
       "\n"
      ],
      "text/markdown": [
       "```julia_skip\n",
       "@unpack a, b, c, ... = dict_or_typeinstance\n",
       "```\n",
       "\n",
       "Unpack fields/properties/keys from a composite type, a `Dict{Symbol}`, a `Dict{String}`, or a module into variables.\n",
       "\n",
       "Example with dict:\n",
       "\n",
       "```julia\n",
       "d = Dict{Symbol,Any}(:a=>5.0,:b=>2,:c=>\"Hi!\")\n",
       "@unpack a, c = d\n",
       "a == 5.0 #true\n",
       "c == \"Hi!\" #true\n",
       "```\n",
       "\n",
       "Example with type:\n",
       "\n",
       "```julia\n",
       "struct A; a; b; c; end\n",
       "d = A(4,7.0,\"Hi\")\n",
       "@unpack a, c = d\n",
       "a == 4 #true\n",
       "c == \"Hi\" #true\n",
       "```\n",
       "\n",
       "Note that its functionality can be extended by adding methods to the `UnPack.unpack` function.\n"
      ],
      "text/plain": [
       "\u001b[36m  @unpack a, b, c, ... = dict_or_typeinstance\u001b[39m\n",
       "\n",
       "  Unpack fields/properties/keys from a composite type, a \u001b[36mDict{Symbol}\u001b[39m, a\n",
       "  \u001b[36mDict{String}\u001b[39m, or a module into variables.\n",
       "\n",
       "  Example with dict:\n",
       "\n",
       "\u001b[36m  d = Dict{Symbol,Any}(:a=>5.0,:b=>2,:c=>\"Hi!\")\u001b[39m\n",
       "\u001b[36m  @unpack a, c = d\u001b[39m\n",
       "\u001b[36m  a == 5.0 #true\u001b[39m\n",
       "\u001b[36m  c == \"Hi!\" #true\u001b[39m\n",
       "\n",
       "  Example with type:\n",
       "\n",
       "\u001b[36m  struct A; a; b; c; end\u001b[39m\n",
       "\u001b[36m  d = A(4,7.0,\"Hi\")\u001b[39m\n",
       "\u001b[36m  @unpack a, c = d\u001b[39m\n",
       "\u001b[36m  a == 4 #true\u001b[39m\n",
       "\u001b[36m  c == \"Hi\" #true\u001b[39m\n",
       "\n",
       "  Note that its functionality can be extended by adding methods to the\n",
       "  \u001b[36mUnPack.unpack\u001b[39m function."
      ]
     },
     "execution_count": 6,
     "metadata": {},
     "output_type": "execute_result"
    }
   ],
   "source": [
    "?@unpack"
   ]
  },
  {
   "cell_type": "code",
   "execution_count": null,
   "id": "7d1b9603-619d-4461-bf9f-c03c94fb340c",
   "metadata": {},
   "outputs": [],
   "source": []
  }
 ],
 "metadata": {
  "jupytext": {
   "formats": "ipynb,jl:hydrogen"
  },
  "kernelspec": {
   "display_name": "Julia 1.6.2",
   "language": "julia",
   "name": "julia-1.6"
  },
  "language_info": {
   "file_extension": ".jl",
   "mimetype": "application/julia",
   "name": "julia",
   "version": "1.6.2"
  }
 },
 "nbformat": 4,
 "nbformat_minor": 5
}
