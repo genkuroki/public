{
 "cells": [
  {
   "cell_type": "code",
   "execution_count": 1,
   "id": "c9e24824-4ce3-4763-acde-0ba598d5f9cd",
   "metadata": {},
   "outputs": [
    {
     "data": {
      "text/latex": [
       "\\texttt{@unpackall\\_Foo(obj)} unpacks all fields of the object \\texttt{obj} of type \\texttt{Foo}.\n",
       "\n"
      ],
      "text/markdown": [
       "`@unpackall_Foo(obj)` unpacks all fields of the object `obj` of type `Foo`.\n"
      ],
      "text/plain": [
       "  \u001b[36m@unpackall_Foo(obj)\u001b[39m unpacks all fields of the object \u001b[36mobj\u001b[39m of type \u001b[36mFoo\u001b[39m."
      ]
     },
     "execution_count": 1,
     "metadata": {},
     "output_type": "execute_result"
    }
   ],
   "source": [
    "struct Foo{A, B, C} a::A; b::B; c::C end\n",
    "\n",
    "\"\"\"\n",
    "`@unpackall_Foo(obj)` unpacks all fields of the object `obj` of type `Foo`.\n",
    "\"\"\"\n",
    "macro unpackall_Foo(obj)\n",
    "    names = fieldnames(Foo)\n",
    "    Expr(:(=),\n",
    "        Expr(:tuple, names...),\n",
    "        Expr(:tuple, (:($obj.$name) for name in names)...)\n",
    "    ) |> esc\n",
    "end\n",
    "\n",
    "@doc @unpackall_Foo"
   ]
  },
  {
   "cell_type": "code",
   "execution_count": 2,
   "id": "7bef91b3-8454-4b7c-8690-6b15e60ec8a5",
   "metadata": {},
   "outputs": [
    {
     "data": {
      "text/plain": [
       ":((a, b, c) = (foo.a, foo.b, foo.c))"
      ]
     },
     "execution_count": 2,
     "metadata": {},
     "output_type": "execute_result"
    }
   ],
   "source": [
    "@macroexpand @unpackall_Foo foo"
   ]
  },
  {
   "cell_type": "code",
   "execution_count": 3,
   "id": "5a343f0e-4093-455c-a1fd-5aeb82856307",
   "metadata": {},
   "outputs": [
    {
     "data": {
      "text/plain": [
       "(1, 2.0, \"three\")"
      ]
     },
     "execution_count": 3,
     "metadata": {},
     "output_type": "execute_result"
    }
   ],
   "source": [
    "@unpackall_Foo Foo(1, 2.0, \"three\")"
   ]
  },
  {
   "cell_type": "code",
   "execution_count": 4,
   "id": "1e130758-76c6-4623-a0f4-e655d7a8a234",
   "metadata": {},
   "outputs": [
    {
     "data": {
      "text/plain": [
       "(1, 2.0, \"three\")"
      ]
     },
     "execution_count": 4,
     "metadata": {},
     "output_type": "execute_result"
    }
   ],
   "source": [
    "a, b, c"
   ]
  },
  {
   "cell_type": "code",
   "execution_count": 5,
   "id": "abc15a56-8d3d-4eba-a752-51abd7bd9646",
   "metadata": {},
   "outputs": [
    {
     "name": "stdout",
     "output_type": "stream",
     "text": [
      "a = 1\n",
      "b = 2.0\n",
      "c = \"three\"\n"
     ]
    }
   ],
   "source": [
    "foo = Foo(1, 2.0, \"three\")\n",
    "\n",
    "function f(foo::Foo)\n",
    "    @unpackall_Foo foo\n",
    "    @show a b c\n",
    "    return\n",
    "end\n",
    "\n",
    "f(foo)"
   ]
  },
  {
   "cell_type": "markdown",
   "id": "0acb0f83-f4b5-4c0d-bffa-8abda8b2f1d6",
   "metadata": {},
   "source": [
    "See also https://github.com/genkuroki/public/blob/main/0018/%40defunpack.ipynb"
   ]
  },
  {
   "cell_type": "code",
   "execution_count": null,
   "id": "9a3fae1d-62c5-498d-9665-8d30ff7a117a",
   "metadata": {},
   "outputs": [],
   "source": []
  }
 ],
 "metadata": {
  "jupytext": {
   "formats": "ipynb,jl:hydrogen"
  },
  "kernelspec": {
   "display_name": "Julia 1.6.2",
   "language": "julia",
   "name": "julia-1.6"
  },
  "language_info": {
   "file_extension": ".jl",
   "mimetype": "application/julia",
   "name": "julia",
   "version": "1.6.2"
  }
 },
 "nbformat": 4,
 "nbformat_minor": 5
}
