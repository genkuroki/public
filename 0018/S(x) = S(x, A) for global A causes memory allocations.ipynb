{
 "cells": [
  {
   "cell_type": "code",
   "execution_count": 1,
   "id": "f25d6062-b2f4-48c2-b964-4d3dd9d654bc",
   "metadata": {},
   "outputs": [],
   "source": [
    "using LinearAlgebra\n",
    "\n",
    "S(x, A) = dot(x, A, x)\n",
    "S(x) = S(x, A)\n",
    "\n",
    "niters = 10^6\n",
    "n = 10\n",
    "A = randn(n, n)\n",
    "x = randn(n);"
   ]
  },
  {
   "cell_type": "code",
   "execution_count": 2,
   "id": "d12ef063-2740-49e5-b2bf-e42e680bd625",
   "metadata": {},
   "outputs": [
    {
     "name": "stdout",
     "output_type": "stream",
     "text": [
      "Variables\n",
      "  #self#\u001b[36m::Core.Const(S)\u001b[39m\n",
      "  x\u001b[36m::Vector{Float64}\u001b[39m\n",
      "  A\u001b[36m::Matrix{Float64}\u001b[39m\n",
      "\n",
      "Body\u001b[36m::Float64\u001b[39m\n",
      "\u001b[90m1 ─\u001b[39m %1 = Main.dot(x, A, x)\u001b[36m::Float64\u001b[39m\n",
      "\u001b[90m└──\u001b[39m      return %1\n"
     ]
    }
   ],
   "source": [
    "@code_warntype S(x, A)"
   ]
  },
  {
   "cell_type": "code",
   "execution_count": 3,
   "id": "2c7a249b-3533-4bcf-8041-627c8426bdf2",
   "metadata": {},
   "outputs": [
    {
     "name": "stdout",
     "output_type": "stream",
     "text": [
      "Variables\n",
      "  #self#\u001b[36m::Core.Const(S)\u001b[39m\n",
      "  x\u001b[36m::Vector{Float64}\u001b[39m\n",
      "\n",
      "Body\u001b[91m\u001b[1m::Any\u001b[22m\u001b[39m\n",
      "\u001b[90m1 ─\u001b[39m %1 = Main.S(x, Main.A)\u001b[91m\u001b[1m::Any\u001b[22m\u001b[39m\n",
      "\u001b[90m└──\u001b[39m      return %1\n"
     ]
    }
   ],
   "source": [
    "@code_warntype S(x)"
   ]
  },
  {
   "cell_type": "code",
   "execution_count": 4,
   "id": "1538a189-6b31-4795-91a1-d6d7309e76bd",
   "metadata": {},
   "outputs": [
    {
     "name": "stdout",
     "output_type": "stream",
     "text": [
      "Variables\n",
      "  #self#\u001b[36m::Core.Const(f)\u001b[39m\n",
      "  niters\u001b[36m::Int64\u001b[39m\n",
      "  x\u001b[36m::Vector{Float64}\u001b[39m\n",
      "  A\u001b[36m::Matrix{Float64}\u001b[39m\n",
      "  @_5\u001b[33m\u001b[1m::Union{Nothing, Tuple{Int64, Int64}}\u001b[22m\u001b[39m\n",
      "  y\u001b[36m::Vector{Float64}\u001b[39m\n",
      "  i\u001b[36m::Int64\u001b[39m\n",
      "\n",
      "Body\u001b[36m::Vector{Float64}\u001b[39m\n",
      "\u001b[90m1 ─\u001b[39m %1  = Main.eltype(x)\u001b[36m::Core.Const(Float64)\u001b[39m\n",
      "\u001b[90m│  \u001b[39m %2  = Core.apply_type(Main.Vector, %1)\u001b[36m::Core.Const(Vector{Float64})\u001b[39m\n",
      "\u001b[90m│  \u001b[39m       (y = (%2)(Main.undef, niters))\n",
      "\u001b[90m│  \u001b[39m %4  = (1:niters)\u001b[36m::Core.PartialStruct(UnitRange{Int64}, Any[Core.Const(1), Int64])\u001b[39m\n",
      "\u001b[90m│  \u001b[39m       (@_5 = Base.iterate(%4))\n",
      "\u001b[90m│  \u001b[39m %6  = (@_5 === nothing)\u001b[36m::Bool\u001b[39m\n",
      "\u001b[90m│  \u001b[39m %7  = Base.not_int(%6)\u001b[36m::Bool\u001b[39m\n",
      "\u001b[90m└──\u001b[39m       goto #4 if not %7\n",
      "\u001b[90m2 ┄\u001b[39m %9  = @_5::Tuple{Int64, Int64}\u001b[36m::Tuple{Int64, Int64}\u001b[39m\n",
      "\u001b[90m│  \u001b[39m       (i = Core.getfield(%9, 1))\n",
      "\u001b[90m│  \u001b[39m %11 = Core.getfield(%9, 2)\u001b[36m::Int64\u001b[39m\n",
      "\u001b[90m│  \u001b[39m %12 = Main.S(x, A)\u001b[36m::Float64\u001b[39m\n",
      "\u001b[90m│  \u001b[39m       Base.setindex!(y, %12, i)\n",
      "\u001b[90m│  \u001b[39m       (@_5 = Base.iterate(%4, %11))\n",
      "\u001b[90m│  \u001b[39m %15 = (@_5 === nothing)\u001b[36m::Bool\u001b[39m\n",
      "\u001b[90m│  \u001b[39m %16 = Base.not_int(%15)\u001b[36m::Bool\u001b[39m\n",
      "\u001b[90m└──\u001b[39m       goto #4 if not %16\n",
      "\u001b[90m3 ─\u001b[39m       goto #2\n",
      "\u001b[90m4 ┄\u001b[39m       return y\n"
     ]
    }
   ],
   "source": [
    "function f(niters, x, A)\n",
    "    y = Vector{eltype(x)}(undef, niters)\n",
    "    for i in 1:niters\n",
    "        y[i] = S(x, A)\n",
    "    end\n",
    "    y\n",
    "end\n",
    "\n",
    "@code_warntype f(niters, x, A)"
   ]
  },
  {
   "cell_type": "code",
   "execution_count": 5,
   "id": "ee4cd480-b4c7-447b-817a-ef0ebbd7e7e0",
   "metadata": {},
   "outputs": [
    {
     "name": "stdout",
     "output_type": "stream",
     "text": [
      "Variables\n",
      "  #self#\u001b[36m::Core.Const(f)\u001b[39m\n",
      "  niters\u001b[36m::Int64\u001b[39m\n",
      "  x\u001b[36m::Vector{Float64}\u001b[39m\n",
      "  @_4\u001b[33m\u001b[1m::Union{Nothing, Tuple{Int64, Int64}}\u001b[22m\u001b[39m\n",
      "  y\u001b[36m::Vector{Float64}\u001b[39m\n",
      "  i\u001b[36m::Int64\u001b[39m\n",
      "\n",
      "Body\u001b[36m::Vector{Float64}\u001b[39m\n",
      "\u001b[90m1 ─\u001b[39m %1  = Main.eltype(x)\u001b[36m::Core.Const(Float64)\u001b[39m\n",
      "\u001b[90m│  \u001b[39m %2  = Core.apply_type(Main.Vector, %1)\u001b[36m::Core.Const(Vector{Float64})\u001b[39m\n",
      "\u001b[90m│  \u001b[39m       (y = (%2)(Main.undef, niters))\n",
      "\u001b[90m│  \u001b[39m %4  = (1:niters)\u001b[36m::Core.PartialStruct(UnitRange{Int64}, Any[Core.Const(1), Int64])\u001b[39m\n",
      "\u001b[90m│  \u001b[39m       (@_4 = Base.iterate(%4))\n",
      "\u001b[90m│  \u001b[39m %6  = (@_4 === nothing)\u001b[36m::Bool\u001b[39m\n",
      "\u001b[90m│  \u001b[39m %7  = Base.not_int(%6)\u001b[36m::Bool\u001b[39m\n",
      "\u001b[90m└──\u001b[39m       goto #4 if not %7\n",
      "\u001b[90m2 ┄\u001b[39m %9  = @_4::Tuple{Int64, Int64}\u001b[36m::Tuple{Int64, Int64}\u001b[39m\n",
      "\u001b[90m│  \u001b[39m       (i = Core.getfield(%9, 1))\n",
      "\u001b[90m│  \u001b[39m %11 = Core.getfield(%9, 2)\u001b[36m::Int64\u001b[39m\n",
      "\u001b[90m│  \u001b[39m %12 = Main.S(x)\u001b[91m\u001b[1m::Any\u001b[22m\u001b[39m\n",
      "\u001b[90m│  \u001b[39m       Base.setindex!(y, %12, i)\n",
      "\u001b[90m│  \u001b[39m       (@_4 = Base.iterate(%4, %11))\n",
      "\u001b[90m│  \u001b[39m %15 = (@_4 === nothing)\u001b[36m::Bool\u001b[39m\n",
      "\u001b[90m│  \u001b[39m %16 = Base.not_int(%15)\u001b[36m::Bool\u001b[39m\n",
      "\u001b[90m└──\u001b[39m       goto #4 if not %16\n",
      "\u001b[90m3 ─\u001b[39m       goto #2\n",
      "\u001b[90m4 ┄\u001b[39m       return y\n"
     ]
    }
   ],
   "source": [
    "function f(niters, x)\n",
    "    y = Vector{eltype(x)}(undef, niters)\n",
    "    for i in 1:niters\n",
    "        y[i] = S(x)\n",
    "    end\n",
    "    y\n",
    "end\n",
    "\n",
    "@code_warntype f(niters, x)"
   ]
  },
  {
   "cell_type": "code",
   "execution_count": 6,
   "id": "5c5a8353-f001-479f-9fbe-e16727be89db",
   "metadata": {},
   "outputs": [
    {
     "name": "stdout",
     "output_type": "stream",
     "text": [
      "  51.096 ms (2 allocations: 7.63 MiB)\n",
      "  88.823 ms (1999491 allocations: 38.14 MiB)\n"
     ]
    }
   ],
   "source": [
    "using BenchmarkTools\n",
    "\n",
    "@btime f(niters, $x, $A)\n",
    "@btime f(niters, $x);"
   ]
  },
  {
   "cell_type": "code",
   "execution_count": null,
   "id": "64f0e794-5865-47b1-ad36-6715265dbf19",
   "metadata": {},
   "outputs": [],
   "source": []
  }
 ],
 "metadata": {
  "jupytext": {
   "formats": "ipynb,auto:hydrogen"
  },
  "kernelspec": {
   "display_name": "Julia 1.6.2",
   "language": "julia",
   "name": "julia-1.6"
  },
  "language_info": {
   "file_extension": ".jl",
   "mimetype": "application/julia",
   "name": "julia",
   "version": "1.6.2"
  }
 },
 "nbformat": 4,
 "nbformat_minor": 5
}
