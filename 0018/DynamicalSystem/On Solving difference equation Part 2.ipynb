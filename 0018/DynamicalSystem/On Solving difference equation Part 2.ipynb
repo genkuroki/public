{
 "cells": [
  {
   "cell_type": "markdown",
   "id": "f7cf2580-db78-4f98-a14a-a01fa3607b8d",
   "metadata": {},
   "source": [
    "There are a few bugs in the code of https://discourse.julialang.org/t/solving-difference-equation-part-2/67057.\n",
    "\n",
    "* The code `for k in 2:length(x)` in the function `seqper_new(x; tol=1e-3)` must be corrected as `for k in 2:(length(x) ÷ 2 + 1)`.\n",
    "* `nxblock * (ii - 1) + jj` must be `nyblock * (ii - 1) + jj`.\n",
    "* `(i - 1) * xpts + j` must be `(i - 1) * ypts + j`\n",
    "* The `Threads.@threads for` loop of the function `isoperiodic_test` is not thread-safe, so that the result changes with each execution.  Threads are conflicting at the line `set_parameter!(ds, [par1range[i], par2range[j]])`, where the same `ds` will be modified by multiple threads.\n",
    "\n",
    "Memory allocations are also unnecessarily too much.\n",
    "\n",
    "* The size of the array `sol_last` in memory is (NIter + 1) * xpts * ypts * 8 bytes = 2001 * 100 * 100 * 8 bytes = 153 MB, which is quite large, but it is discarded at the end of the function `isoperiodic_test`.\n",
    "* Each execution of the `DynamicalSystems.trajectory` function results in a wasted memory allocation, which is repeated tens of thousands of times.\n",
    "\n",
    "Other points that need improvement\n",
    "\n",
    "* The calculation results are saved to a file, and the results cannot be reused without going through the file.\n",
    "* The code is unnecessarily complicated.\n",
    "* You have created the complicated function `isoperiodic_test` to do most of all the work you want to do.\n",
    "\n",
    "Furthermore, it is not necessary to use `DynamicalSystems.jl` in this case.\n",
    "\n",
    "__My test implementation:__"
   ]
  },
  {
   "cell_type": "code",
   "execution_count": 1,
   "id": "2d7dbc8d-14ef-49fe-8545-3c78a43e16d2",
   "metadata": {},
   "outputs": [
    {
     "data": {
      "text/plain": [
       "load_period (generic function with 2 methods)"
      ]
     },
     "execution_count": 1,
     "metadata": {},
     "output_type": "execute_result"
    }
   ],
   "source": [
    "using Base.Threads\n",
    "using Plots\n",
    "pyplot() # https://github.com/JuliaPlots/Plots.jl/issues/3560\n",
    "using CSV\n",
    "using DataFrames\n",
    "\n",
    "function f(x, p)\n",
    "   r, k = p\n",
    "   a, mu, d = 5.0, 0.5, 0.2\n",
    "   xnew1 = x[1]*exp(r*(1-x[1]/k)-x[2]/(a+x[1]^2))\n",
    "   xnew2 = x[2]*exp(mu*x[1]/(a+x[1]^2)-d)\n",
    "   xnew1, xnew2\n",
    "end\n",
    "\n",
    "function traj2d!(tr1, tr2, f, p, x0, niters, nwarmup)\n",
    "    x = x0\n",
    "    for _ in 1:nwarmup\n",
    "        x = f(x, p)\n",
    "    end\n",
    "    @inbounds tr1[1], tr2[1] = x\n",
    "    for i in 2:niters+1\n",
    "        x = f(x, p)\n",
    "        @inbounds tr1[i], tr2[i] = x\n",
    "    end\n",
    "end\n",
    "\n",
    "function findperiod(x; tol=1e-3)\n",
    "    n = length(x)\n",
    "    @inbounds for k in 2:(n ÷ 2 + 1)\n",
    "        if abs(x[k] - x[1]) ≤ tol\n",
    "            all(j -> abs(x[j] - x[j-k+1]) ≤ tol, k:n) && return k - 1\n",
    "        end\n",
    "    end \n",
    "    return n\n",
    "end\n",
    "\n",
    "function calcperiod2d(f = f, niters = 2000, nwarmup = 50000, x0 = (0.4, 0.5),\n",
    "        r = (1:0.05:5)[1:end-1], k = (2:0.05:5)[1:end-1], tol=1e-3\n",
    "    )\n",
    "    tmp1 = [Vector{Float64}(undef, niters+1) for _ in 1:nthreads()]\n",
    "    tmp2 = [Vector{Float64}(undef, niters+1) for _ in 1:nthreads()]\n",
    "    period = Matrix{Int}(undef, length(r), length(k))\n",
    "    @threads for j in eachindex(k)\n",
    "        tid = threadid()\n",
    "        tr1, tr2 = tmp1[tid], tmp2[tid]\n",
    "        for i in eachindex(r)\n",
    "            p = (r[i], k[j])\n",
    "            traj2d!(tr1, tr2, f, p, x0, niters, nwarmup)\n",
    "            @inbounds period[i, j] = findperiod(tr1; tol)\n",
    "        end\n",
    "    end\n",
    "    period, r, k\n",
    "end\n",
    "\n",
    "xm1ox(x) = (x - 1)/x # x minus 1 over x : {x ≥　1} -> {0 ≤ y < 1}\n",
    "inv1my(y) = 1/(1 - y) # inverse of 1 minus 1 : {0 ≤ y < 1} -> {x ≥ 1}\n",
    "\n",
    "function plot_period(r, k, period; kwargs...)\n",
    "    cbtick = [1, 2, 3, 4, 5, 6, 10, 30]\n",
    "    colorbar_ticks = (xm1ox.(cbtick), string.(cbtick))\n",
    "    heatmap(r, k, xm1ox.(period)'; xlabel=\"r\", ylabel=\"k\", title=\"period\",\n",
    "        colorbar_ticks, kwargs...)\n",
    "end\n",
    "\n",
    "function save_period(r, k, period; fn = \"result.csv\")\n",
    "    ii, jj = reim(complex.(axes(r, 1), axes(k, 1)'))\n",
    "    rr, kk = reim(complex.(r, k'))\n",
    "    df = DataFrame(i = vec(ii), j = vec(jj), r = vec(rr), k = vec(kk), period = vec(period))\n",
    "    CSV.write(fn, df)\n",
    "end\n",
    "\n",
    "function load_period(fn = \"result.txt\")\n",
    "    df = CSV.read(fn, DataFrame)\n",
    "    imax = maximum(df.i)\n",
    "    jmax = maximum(df.j)\n",
    "    r = reshape(df.r, imax, jmax)[1:imax]\n",
    "    k = reshape(df.k, imax, jmax)[1:imax:end]\n",
    "    period = reshape(df.period, imax, jmax)\n",
    "    period, r, k\n",
    "end"
   ]
  },
  {
   "cell_type": "code",
   "execution_count": 2,
   "id": "6e08d2f7-85d1-45cb-9df8-dd7105ad62d6",
   "metadata": {},
   "outputs": [
    {
     "data": {
      "text/plain": [
       "LogLevel(1001)"
      ]
     },
     "execution_count": 2,
     "metadata": {},
     "output_type": "execute_result"
    }
   ],
   "source": [
    "using Logging\n",
    "disable_logging(Logging.Warn)"
   ]
  },
  {
   "cell_type": "code",
   "execution_count": 3,
   "id": "dbfbe567-7d7c-4d3e-ba07-b9ac6b42a49a",
   "metadata": {},
   "outputs": [
    {
     "name": "stdout",
     "output_type": "stream",
     "text": [
      "  3.109461 seconds (517.41 k allocations: 33.035 MiB, 7.54% compilation time)\n",
      "  2.870107 seconds (228 allocations: 433.594 KiB)\n",
      "  2.909849 seconds (221 allocations: 433.531 KiB)\n"
     ]
    },
    {
     "data": {
      "image/png": "[encoded data removed]"
     },
     "execution_count": 3,
     "metadata": {},
     "output_type": "execute_result"
    }
   ],
   "source": [
    "period, r, k = @time calcperiod2d()\n",
    "period, r, k = @time calcperiod2d()\n",
    "period, r, k = @time calcperiod2d()\n",
    "plot_period(r, k, period)"
   ]
  },
  {
   "cell_type": "code",
   "execution_count": 4,
   "id": "2a778b2e-d204-41d3-9420-5a9e28c5aa47",
   "metadata": {},
   "outputs": [
    {
     "data": {
      "text/html": [
       "<div class=\"data-frame\"><p>4,800 rows × 5 columns</p><table class=\"data-frame\"><thead><tr><th></th><th>i</th><th>j</th><th>r</th><th>k</th><th>period</th></tr><tr><th></th><th title=\"Int64\">Int64</th><th title=\"Int64\">Int64</th><th title=\"Float64\">Float64</th><th title=\"Float64\">Float64</th><th title=\"Int64\">Int64</th></tr></thead><tbody><tr><th>1</th><td>1</td><td>1</td><td>1.0</td><td>2.0</td><td>1</td></tr><tr><th>2</th><td>2</td><td>1</td><td>1.05</td><td>2.0</td><td>1</td></tr><tr><th>3</th><td>3</td><td>1</td><td>1.1</td><td>2.0</td><td>1</td></tr><tr><th>4</th><td>4</td><td>1</td><td>1.15</td><td>2.0</td><td>1</td></tr><tr><th>5</th><td>5</td><td>1</td><td>1.2</td><td>2.0</td><td>1</td></tr><tr><th>6</th><td>6</td><td>1</td><td>1.25</td><td>2.0</td><td>1</td></tr><tr><th>7</th><td>7</td><td>1</td><td>1.3</td><td>2.0</td><td>1</td></tr><tr><th>8</th><td>8</td><td>1</td><td>1.35</td><td>2.0</td><td>1</td></tr><tr><th>9</th><td>9</td><td>1</td><td>1.4</td><td>2.0</td><td>1</td></tr><tr><th>10</th><td>10</td><td>1</td><td>1.45</td><td>2.0</td><td>1</td></tr><tr><th>11</th><td>11</td><td>1</td><td>1.5</td><td>2.0</td><td>1</td></tr><tr><th>12</th><td>12</td><td>1</td><td>1.55</td><td>2.0</td><td>1</td></tr><tr><th>13</th><td>13</td><td>1</td><td>1.6</td><td>2.0</td><td>1</td></tr><tr><th>14</th><td>14</td><td>1</td><td>1.65</td><td>2.0</td><td>1</td></tr><tr><th>15</th><td>15</td><td>1</td><td>1.7</td><td>2.0</td><td>1</td></tr><tr><th>16</th><td>16</td><td>1</td><td>1.75</td><td>2.0</td><td>1</td></tr><tr><th>17</th><td>17</td><td>1</td><td>1.8</td><td>2.0</td><td>1</td></tr><tr><th>18</th><td>18</td><td>1</td><td>1.85</td><td>2.0</td><td>1</td></tr><tr><th>19</th><td>19</td><td>1</td><td>1.9</td><td>2.0</td><td>1</td></tr><tr><th>20</th><td>20</td><td>1</td><td>1.95</td><td>2.0</td><td>1</td></tr><tr><th>21</th><td>21</td><td>1</td><td>2.0</td><td>2.0</td><td>2</td></tr><tr><th>22</th><td>22</td><td>1</td><td>2.05</td><td>2.0</td><td>2</td></tr><tr><th>23</th><td>23</td><td>1</td><td>2.1</td><td>2.0</td><td>2</td></tr><tr><th>24</th><td>24</td><td>1</td><td>2.15</td><td>2.0</td><td>2</td></tr><tr><th>25</th><td>25</td><td>1</td><td>2.2</td><td>2.0</td><td>2</td></tr><tr><th>26</th><td>26</td><td>1</td><td>2.25</td><td>2.0</td><td>2</td></tr><tr><th>27</th><td>27</td><td>1</td><td>2.3</td><td>2.0</td><td>2</td></tr><tr><th>28</th><td>28</td><td>1</td><td>2.35</td><td>2.0</td><td>2</td></tr><tr><th>29</th><td>29</td><td>1</td><td>2.4</td><td>2.0</td><td>2</td></tr><tr><th>30</th><td>30</td><td>1</td><td>2.45</td><td>2.0</td><td>2</td></tr><tr><th>&vellip;</th><td>&vellip;</td><td>&vellip;</td><td>&vellip;</td><td>&vellip;</td><td>&vellip;</td></tr></tbody></table></div>"
      ],
      "text/latex": [
       "\\begin{tabular}{r|ccccc}\n",
       "\t& i & j & r & k & period\\\\\n",
       "\t\\hline\n",
       "\t& Int64 & Int64 & Float64 & Float64 & Int64\\\\\n",
       "\t\\hline\n",
       "\t1 & 1 & 1 & 1.0 & 2.0 & 1 \\\\\n",
       "\t2 & 2 & 1 & 1.05 & 2.0 & 1 \\\\\n",
       "\t3 & 3 & 1 & 1.1 & 2.0 & 1 \\\\\n",
       "\t4 & 4 & 1 & 1.15 & 2.0 & 1 \\\\\n",
       "\t5 & 5 & 1 & 1.2 & 2.0 & 1 \\\\\n",
       "\t6 & 6 & 1 & 1.25 & 2.0 & 1 \\\\\n",
       "\t7 & 7 & 1 & 1.3 & 2.0 & 1 \\\\\n",
       "\t8 & 8 & 1 & 1.35 & 2.0 & 1 \\\\\n",
       "\t9 & 9 & 1 & 1.4 & 2.0 & 1 \\\\\n",
       "\t10 & 10 & 1 & 1.45 & 2.0 & 1 \\\\\n",
       "\t11 & 11 & 1 & 1.5 & 2.0 & 1 \\\\\n",
       "\t12 & 12 & 1 & 1.55 & 2.0 & 1 \\\\\n",
       "\t13 & 13 & 1 & 1.6 & 2.0 & 1 \\\\\n",
       "\t14 & 14 & 1 & 1.65 & 2.0 & 1 \\\\\n",
       "\t15 & 15 & 1 & 1.7 & 2.0 & 1 \\\\\n",
       "\t16 & 16 & 1 & 1.75 & 2.0 & 1 \\\\\n",
       "\t17 & 17 & 1 & 1.8 & 2.0 & 1 \\\\\n",
       "\t18 & 18 & 1 & 1.85 & 2.0 & 1 \\\\\n",
       "\t19 & 19 & 1 & 1.9 & 2.0 & 1 \\\\\n",
       "\t20 & 20 & 1 & 1.95 & 2.0 & 1 \\\\\n",
       "\t21 & 21 & 1 & 2.0 & 2.0 & 2 \\\\\n",
       "\t22 & 22 & 1 & 2.05 & 2.0 & 2 \\\\\n",
       "\t23 & 23 & 1 & 2.1 & 2.0 & 2 \\\\\n",
       "\t24 & 24 & 1 & 2.15 & 2.0 & 2 \\\\\n",
       "\t25 & 25 & 1 & 2.2 & 2.0 & 2 \\\\\n",
       "\t26 & 26 & 1 & 2.25 & 2.0 & 2 \\\\\n",
       "\t27 & 27 & 1 & 2.3 & 2.0 & 2 \\\\\n",
       "\t28 & 28 & 1 & 2.35 & 2.0 & 2 \\\\\n",
       "\t29 & 29 & 1 & 2.4 & 2.0 & 2 \\\\\n",
       "\t30 & 30 & 1 & 2.45 & 2.0 & 2 \\\\\n",
       "\t$\\dots$ & $\\dots$ & $\\dots$ & $\\dots$ & $\\dots$ & $\\dots$ \\\\\n",
       "\\end{tabular}\n"
      ],
      "text/plain": [
       "\u001b[1m4800×5 DataFrame\u001b[0m\n",
       "\u001b[1m  Row \u001b[0m│\u001b[1m i     \u001b[0m\u001b[1m j     \u001b[0m\u001b[1m r       \u001b[0m\u001b[1m k       \u001b[0m\u001b[1m period \u001b[0m\n",
       "\u001b[1m      \u001b[0m│\u001b[90m Int64 \u001b[0m\u001b[90m Int64 \u001b[0m\u001b[90m Float64 \u001b[0m\u001b[90m Float64 \u001b[0m\u001b[90m Int64  \u001b[0m\n",
       "──────┼────────────────────────────────────────\n",
       "    1 │     1      1     1.0      2.0        1\n",
       "    2 │     2      1     1.05     2.0        1\n",
       "    3 │     3      1     1.1      2.0        1\n",
       "    4 │     4      1     1.15     2.0        1\n",
       "    5 │     5      1     1.2      2.0        1\n",
       "    6 │     6      1     1.25     2.0        1\n",
       "    7 │     7      1     1.3      2.0        1\n",
       "    8 │     8      1     1.35     2.0        1\n",
       "    9 │     9      1     1.4      2.0        1\n",
       "   10 │    10      1     1.45     2.0        1\n",
       "   11 │    11      1     1.5      2.0        1\n",
       "  ⋮   │   ⋮      ⋮       ⋮        ⋮       ⋮\n",
       " 4791 │    71     60     4.5      4.95    2001\n",
       " 4792 │    72     60     4.55     4.95    2001\n",
       " 4793 │    73     60     4.6      4.95    2001\n",
       " 4794 │    74     60     4.65     4.95    2001\n",
       " 4795 │    75     60     4.7      4.95    2001\n",
       " 4796 │    76     60     4.75     4.95    2001\n",
       " 4797 │    77     60     4.8      4.95    2001\n",
       " 4798 │    78     60     4.85     4.95    2001\n",
       " 4799 │    79     60     4.9      4.95    2001\n",
       " 4800 │    80     60     4.95     4.95    2001\n",
       "\u001b[36m                              4779 rows omitted\u001b[0m"
      ]
     },
     "execution_count": 4,
     "metadata": {},
     "output_type": "execute_result"
    }
   ],
   "source": [
    "period, r, k = calcperiod2d()\n",
    "fn = save_period(r, k, period; fn = \"result.csv\")\n",
    "df = CSV.read(fn, DataFrame)"
   ]
  },
  {
   "cell_type": "code",
   "execution_count": 5,
   "id": "8ad42317-a374-497c-a1b6-f08b628ba002",
   "metadata": {},
   "outputs": [
    {
     "data": {
      "image/png": "[encoded data removed]"
     },
     "execution_count": 5,
     "metadata": {},
     "output_type": "execute_result"
    }
   ],
   "source": [
    "period, r, k = load_period(fn)\n",
    "plot_period(r, k, period)"
   ]
  },
  {
   "cell_type": "code",
   "execution_count": 6,
   "id": "13ea5421-cc40-4f29-b977-d9fea19f4454",
   "metadata": {},
   "outputs": [
    {
     "name": "stdout",
     "output_type": "stream",
     "text": [
      "  6.311571 seconds (904 allocations: 518.463 KiB, 0.07% compilation time)\n",
      "  6.340179 seconds (253 allocations: 474.734 KiB)\n",
      "  6.341094 seconds (251 allocations: 474.641 KiB)\n"
     ]
    },
    {
     "data": {
      "image/png": "[encoded data removed]"
     },
     "execution_count": 6,
     "metadata": {},
     "output_type": "execute_result"
    }
   ],
   "source": [
    "niters = 2000\n",
    "nwarmup = 50000\n",
    "x0 = (0.4, 0.5)\n",
    "r = range(1, 5, length=100+1)[1:end-1]\n",
    "k = range(2, 5, length=100+1)[1:end-1]\n",
    "period, = @time calcperiod2d(f, niters, nwarmup, x0, r, k)\n",
    "period, = @time calcperiod2d(f, niters, nwarmup, x0, r, k)\n",
    "period, = @time calcperiod2d(f, niters, nwarmup, x0, r, k)\n",
    "plot_period(r, k, period)"
   ]
  },
  {
   "cell_type": "code",
   "execution_count": 7,
   "id": "85ceacaf-5ae9-4395-9f4a-6257a4bfcc2a",
   "metadata": {},
   "outputs": [
    {
     "name": "stdout",
     "output_type": "stream",
     "text": [
      " 25.035733 seconds (225 allocations: 701.062 KiB)\n",
      " 24.258212 seconds (331 allocations: 710.266 KiB)\n",
      " 24.257828 seconds (331 allocations: 710.266 KiB)\n"
     ]
    },
    {
     "data": {
      "image/png": "[encoded data removed]"
     },
     "execution_count": 7,
     "metadata": {},
     "output_type": "execute_result"
    }
   ],
   "source": [
    "niters = 2000\n",
    "nwarmup = 50000\n",
    "x0 = (0.4, 0.5)\n",
    "r = range(1, 5, length=200+1)[1:end-1]\n",
    "k = range(2, 5, length=200+1)[1:end-1]\n",
    "period, = @time calcperiod2d(f, niters, nwarmup, x0, r, k)\n",
    "period, = @time calcperiod2d(f, niters, nwarmup, x0, r, k)\n",
    "period, = @time calcperiod2d(f, niters, nwarmup, x0, r, k)\n",
    "plot_period(r, k, period)"
   ]
  },
  {
   "cell_type": "code",
   "execution_count": null,
   "id": "482cd2fc-d474-4e99-8ba0-4f431b8a5226",
   "metadata": {},
   "outputs": [],
   "source": []
  }
 ],
 "metadata": {
  "jupytext": {
   "formats": "ipynb,auto:hydrogen"
  },
  "kernelspec": {
   "display_name": "Julia 1.6.2",
   "language": "julia",
   "name": "julia-1.6"
  },
  "language_info": {
   "file_extension": ".jl",
   "mimetype": "application/julia",
   "name": "julia",
   "version": "1.6.2"
  }
 },
 "nbformat": 4,
 "nbformat_minor": 5
}
