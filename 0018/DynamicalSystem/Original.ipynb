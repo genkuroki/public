{
 "cells": [
  {
   "cell_type": "markdown",
   "id": "0f7d06b5-c38f-4458-9ecc-923b4c8df1a4",
   "metadata": {},
   "source": [
    "https://discourse.julialang.org/t/solving-difference-equation-part-2/67057"
   ]
  },
  {
   "cell_type": "code",
   "execution_count": 7,
   "id": "8ea4a12e-6ab3-4941-b204-62040289563f",
   "metadata": {},
   "outputs": [
    {
     "data": {
      "text/plain": [
       "dds_jac (generic function with 1 method)"
      ]
     },
     "execution_count": 7,
     "metadata": {},
     "output_type": "execute_result"
    }
   ],
   "source": [
    "using DynamicalSystems, DelimitedFiles, .Threads,  BenchmarkTools\n",
    "## Components of a test DiscreteDynamicalSystem\n",
    "\n",
    "function dds_constructor(u0 = [0.5, 0.7];  r=1.0, k=2.0)\n",
    "    return DiscreteDynamicalSystem(dds_rule, u0, [r, k], dds_jac)\n",
    "end\n",
    "## equations of motion:\n",
    "function dds_rule(x, par, n)\n",
    "   r, k = par\n",
    "   a, mu, d = 5.0, 0.5, 0.2\n",
    "   dx = x[1]*exp(r*(1-x[1]/k)-x[2]/(a+x[1]^2))\n",
    "   dy = x[2]*exp(mu*x[1]/(a+x[1]^2)-d)\n",
    "   return @SVector [dx, dy]\n",
    "end\n",
    "## Jacobian:\n",
    "function dds_jac( x, par, n)\n",
    "    r, k = par;\n",
    "    a = 5.0; mu = 0.5; d = 0.2;\n",
    "    J11 = exp(- x[2]/(x[1]^2 + a) - r*(x[1]/k - 1)) - x[1]*exp(- x[2]/(x[1]^2 + a) - r*(x[1]/k - 1))*(r/k - (2*x[1]*x[2])/(x[1]^2 + a)^2)\n",
    "    J12 = -(x[1]*exp(- x[2]/(x[1]^2 + a) - r*(x[1]/k - 1)))/(x[1]^2 + a)\n",
    "    J21 = x[2]*exp((mu*x[1])/(x[1]^2 + a) - d)*(mu/(x[1]^2 + a) - (2*mu*x[1]^2)/(x[1]^2 + a)^2)\n",
    "    J22 = exp((mu*x[1])/(x[1]^2 + a) - d)\n",
    "    return @SMatrix [J11  J12; J21 J22]\n",
    "end"
   ]
  },
  {
   "cell_type": "code",
   "execution_count": 8,
   "id": "a39cd4cc-b61b-47c7-ad35-c0ee2e47c258",
   "metadata": {},
   "outputs": [
    {
     "data": {
      "text/plain": [
       "seqper_new (generic function with 1 method)"
      ]
     },
     "execution_count": 8,
     "metadata": {},
     "output_type": "execute_result"
    }
   ],
   "source": [
    "function seqper_new(x; tol=1e-3)       # function to calculate periodicity \n",
    "    @inbounds for k in 2:length(x)\n",
    "        if abs(x[k] - x[1]) ≤ tol\n",
    "            all(j -> abs(x[j] - x[j-k+1]) ≤ tol, k:lastindex(x)) && return k - 1\n",
    "        end\n",
    "    end \n",
    "    return length(x)\n",
    "end"
   ]
  },
  {
   "cell_type": "code",
   "execution_count": 9,
   "id": "41739bc4-8cbc-4dc6-8d72-e0bd961dc6b7",
   "metadata": {},
   "outputs": [
    {
     "data": {
      "text/plain": [
       "meshh (generic function with 1 method)"
      ]
     },
     "execution_count": 9,
     "metadata": {},
     "output_type": "execute_result"
    }
   ],
   "source": [
    "function meshh(x,y)    # create a meshgrid of x and y\n",
    "    len_x = length(x);\n",
    "    len_y = length(y);\n",
    "    xmesh = Float64[]\n",
    "    ymesh = Float64[]\n",
    "    for i in 1:len_x\n",
    "        for j in 1:len_y\n",
    "            push!(xmesh, x[i])\n",
    "            push!(ymesh, y[j])\n",
    "        end\n",
    "    end\n",
    "    return  xmesh, ymesh \n",
    "end"
   ]
  },
  {
   "cell_type": "code",
   "execution_count": 10,
   "id": "d4469ae9-3b5d-4494-8e24-65128f6c0689",
   "metadata": {},
   "outputs": [
    {
     "data": {
      "text/plain": [
       "isoperiodic_test (generic function with 1 method)"
      ]
     },
     "execution_count": 10,
     "metadata": {},
     "output_type": "execute_result"
    }
   ],
   "source": [
    "#function isoperiodic_test(ds, par_area::Matrix{Float64}, NIter::Int64, filename::String,\n",
    "function isoperiodic_test(ds, par_area::Matrix{Float64}, NIter::Int64, iso_filename::String,\n",
    "                         nxblock::Int64, nyblock::Int64, NTr::Int64, xpts::Int64, ypts::Int64)    \n",
    "\n",
    "    io = open(iso_filename, \"a\")   # opeing file to write output\n",
    "    p1_st =  par_area[1];          # beginning of first parameter \n",
    "    p1_nd =  par_area[2];          # end of first parameter\n",
    "    p2_st =  par_area[3];          # beginning of second parameter\n",
    "    p2_nd =  par_area[4];          # end of second parameter\n",
    "\n",
    "    p1_block = range(p1_st, p1_nd, length=nxblock + 1);    # divide par_area in blocks \n",
    "    p2_block = range(p2_st, p2_nd, length=nyblock + 1);    # divide par_area in blocks \n",
    "    l_bipar = xpts * ypts;                                 # total number of pts in each block\n",
    "    total_blocks = nxblock * nyblock                       # total number of blocks\n",
    "    sol_last = Array{Float64,2}(undef, NIter + 1, l_bipar);   # stores x values of solution for l_bipar (r,k) paris\n",
    "\n",
    "    for ii in 1:nxblock\n",
    "         step1size = (p1_block[ii + 1] - p1_block[ii]) / xpts;\n",
    "         par1range = range(p1_block[ii], p1_block[ii + 1] - step1size, length=xpts);\n",
    "        for jj in 1:nyblock\n",
    "            #display(\"Progress: \" * string(nxblock * (ii - 1) + jj) * \" out of \" * string(total_blocks) * \" steps.\")\n",
    "            display(\"Progress: \" * string(nyblock * (ii - 1) + jj) * \" out of \" * string(total_blocks) * \" steps.\")\n",
    "            step2size = (p2_block[jj + 1] - p2_block[jj]) / ypts;\n",
    "            par2range = range(p2_block[jj], p2_block[jj + 1] - step2size, length=ypts);   \n",
    "            Threads.@threads for i = 1:xpts         \n",
    "                for j = 1:ypts\n",
    "                     set_parameter!(ds, [par1range[i], par2range[j]]) # change the parameter values <-- thread unsafe! bug!\n",
    "                     tr = trajectory(ds, NIter; Ttr=NTr);             # find the solution\n",
    "                     #sol_last[:,(i - 1) * xpts + j] =  tr[:,1];       # store x-values\n",
    "                     sol_last[:,(i - 1) * ypts + j] =  tr[:,1];       # store x-values\n",
    "                end\n",
    "            end\n",
    "            periods = seqper_new.(eachcol(sol_last), tol=0.001)       # seqper_new calculates periodicity \n",
    "            par1mesh, par2mesh = meshh(par1range, par2range)          # meshgrid of parameter values\n",
    "            writedlm(io, [par1mesh par2mesh periods])                 # write data in txt file\n",
    "        end \n",
    "    end\n",
    "    close(io)\n",
    "    return iso_filename\n",
    "end"
   ]
  },
  {
   "cell_type": "code",
   "execution_count": 11,
   "id": "81f6eb60-5058-4ed1-a2c8-e2a5e831fbd0",
   "metadata": {},
   "outputs": [
    {
     "data": {
      "text/plain": [
       "\"Progress: 1 out of 1 steps.\""
      ]
     },
     "metadata": {},
     "output_type": "display_data"
    },
    {
     "name": "stdout",
     "output_type": "stream",
     "text": [
      "  7.667223 seconds (568.46 k allocations: 654.800 MiB, 12.64% gc time, 14.79% compilation time)\n"
     ]
    },
    {
     "data": {
      "text/plain": [
       "\"isoperiodic_test_data.txt\""
      ]
     },
     "execution_count": 11,
     "metadata": {},
     "output_type": "execute_result"
    }
   ],
   "source": [
    "##  Test\n",
    "\n",
    "parameter_area = [1.0 5.0 2.0 5.0]\n",
    "nxblock = 1;\n",
    "nyblock = 1;\n",
    "xpts = 100;\n",
    "ypts = 100;\n",
    "NIter = 2000;\n",
    "NTr = 50000;\n",
    "init = [0.4, 0.5];\n",
    "ds = dds_constructor(init);\n",
    "##\n",
    "iso_filename = \"isoperiodic_test_data.txt\"\n",
    "isfile(iso_filename) && rm(iso_filename)\n",
    "@time isoperiodic_test(ds, parameter_area, NIter, iso_filename, nxblock, nyblock, NTr, xpts, ypts)"
   ]
  },
  {
   "cell_type": "code",
   "execution_count": 13,
   "id": "fc7ee1f6-cb34-4f2a-b59e-e648861eeb4d",
   "metadata": {},
   "outputs": [
    {
     "data": {
      "text/plain": [
       "\"Progress: 1 out of 4 steps.\""
      ]
     },
     "metadata": {},
     "output_type": "display_data"
    },
    {
     "data": {
      "text/plain": [
       "\"Progress: 2 out of 4 steps.\""
      ]
     },
     "metadata": {},
     "output_type": "display_data"
    },
    {
     "data": {
      "text/plain": [
       "\"Progress: 3 out of 4 steps.\""
      ]
     },
     "metadata": {},
     "output_type": "display_data"
    },
    {
     "data": {
      "text/plain": [
       "\"Progress: 4 out of 4 steps.\""
      ]
     },
     "metadata": {},
     "output_type": "display_data"
    },
    {
     "name": "stdout",
     "output_type": "stream",
     "text": [
      " 34.819818 seconds (401.61 k allocations: 2.007 GiB, 14.48% gc time)\n"
     ]
    },
    {
     "data": {
      "text/plain": [
       "\"isoperiodic_test_data2x2.txt\""
      ]
     },
     "execution_count": 13,
     "metadata": {},
     "output_type": "execute_result"
    }
   ],
   "source": [
    "##  Test\n",
    "\n",
    "parameter_area = [1.0 5.0 2.0 5.0]\n",
    "nxblock = 2;\n",
    "nyblock = 2;\n",
    "xpts = 100;\n",
    "ypts = 100;\n",
    "NIter = 2000;\n",
    "NTr = 50000;\n",
    "init = [0.4, 0.5];\n",
    "ds = dds_constructor(init);\n",
    "##\n",
    "iso_filename = \"isoperiodic_test_data2x2.txt\"\n",
    "isfile(iso_filename) && rm(iso_filename)\n",
    "@time isoperiodic_test(ds, parameter_area, NIter, iso_filename, nxblock, nyblock, NTr, xpts, ypts)"
   ]
  },
  {
   "cell_type": "code",
   "execution_count": null,
   "id": "f9050b49-4b9e-4ee8-8a2e-48f679ed8fc3",
   "metadata": {},
   "outputs": [],
   "source": []
  }
 ],
 "metadata": {
  "jupytext": {
   "encoding": "# -*- coding: utf-8 -*-",
   "formats": "ipynb,jl:hydrogen"
  },
  "kernelspec": {
   "display_name": "Julia 1.6.2",
   "language": "julia",
   "name": "julia-1.6"
  },
  "language_info": {
   "file_extension": ".jl",
   "mimetype": "application/julia",
   "name": "julia",
   "version": "1.6.2"
  }
 },
 "nbformat": 4,
 "nbformat_minor": 5
}
