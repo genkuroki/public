{
 "cells": [
  {
   "cell_type": "code",
   "execution_count": 1,
   "id": "7c5fe550-a8e3-42c5-91e5-bf14bff7e87f",
   "metadata": {},
   "outputs": [],
   "source": [
    "using DynamicalSystems"
   ]
  },
  {
   "cell_type": "code",
   "execution_count": 2,
   "id": "a6725c46-81f9-41d4-b5ea-3a997a5891bf",
   "metadata": {},
   "outputs": [
    {
     "data": {
      "text/plain": [
       "2-dimensional discrete dynamical system\n",
       " state:       [0, 1]\n",
       " rule f:      f\n",
       " in-place?    false\n",
       " jacobian:    ForwardDiff\n",
       " parameters:  nothing"
      ]
     },
     "execution_count": 2,
     "metadata": {},
     "output_type": "execute_result"
    }
   ],
   "source": [
    "f(u, p, t) = SVector(u[2], u[1]+u[2])\n",
    "u0 = [0, 1]\n",
    "prob = DiscreteDynamicalSystem(f, u0, nothing)"
   ]
  },
  {
   "cell_type": "code",
   "execution_count": 3,
   "id": "159d79b8-d124-4f3d-8ff5-68cf3f1baf52",
   "metadata": {
    "tags": []
   },
   "outputs": [
    {
     "data": {
      "text/plain": [
       "2-dimensional Dataset{Int64} with 21 points\n",
       "     55       89\n",
       "     89      144\n",
       "    144      233\n",
       "    233      377\n",
       "    377      610\n",
       "    610      987\n",
       "    987     1597\n",
       "   1597     2584\n",
       "   2584     4181\n",
       "   4181     6765\n",
       "   6765    10946\n",
       "  10946    17711\n",
       "  17711    28657\n",
       "  28657    46368\n",
       "  46368    75025\n",
       "  75025   121393\n",
       " 121393   196418\n",
       " 196418   317811\n",
       " 317811   514229\n",
       " 514229   832040\n",
       " 832040  1346269"
      ]
     },
     "execution_count": 3,
     "metadata": {},
     "output_type": "execute_result"
    }
   ],
   "source": [
    "tr = trajectory(prob, 20, Ttr=10)"
   ]
  },
  {
   "cell_type": "code",
   "execution_count": 4,
   "id": "8a8fc90c-9b6a-44a0-9ccb-998eb3458184",
   "metadata": {
    "tags": []
   },
   "outputs": [
    {
     "data": {
      "text/plain": [
       "2-dimensional Dataset{Int64} with 21 points\n",
       "    0      1\n",
       "    1      1\n",
       "    1      2\n",
       "    2      3\n",
       "    3      5\n",
       "    5      8\n",
       "    8     13\n",
       "   13     21\n",
       "   21     34\n",
       "   34     55\n",
       "   55     89\n",
       "   89    144\n",
       "  144    233\n",
       "  233    377\n",
       "  377    610\n",
       "  610    987\n",
       "  987   1597\n",
       " 1597   2584\n",
       " 2584   4181\n",
       " 4181   6765\n",
       " 6765  10946"
      ]
     },
     "execution_count": 4,
     "metadata": {},
     "output_type": "execute_result"
    }
   ],
   "source": [
    "tr = trajectory(prob, 20, Ttr=0)"
   ]
  },
  {
   "cell_type": "code",
   "execution_count": 5,
   "id": "1ea94593-8309-403e-ac7b-9e37551d9bcb",
   "metadata": {},
   "outputs": [
    {
     "name": "stdout",
     "output_type": "stream",
     "text": [
      "Dataset{2, Int64}\n",
      "  data: Array{SVector{2, Int64}}((21,))\n",
      "    1: SVector{2, Int64}\n",
      "      data: Tuple{Int64, Int64}\n",
      "        1: Int64 0\n",
      "        2: Int64 1\n",
      "    2: SVector{2, Int64}\n",
      "      data: Tuple{Int64, Int64}\n",
      "        1: Int64 1\n",
      "        2: Int64 1\n",
      "    3: SVector{2, Int64}\n",
      "      data: Tuple{Int64, Int64}\n",
      "        1: Int64 1\n",
      "        2: Int64 2\n",
      "    4: SVector{2, Int64}\n",
      "      data: Tuple{Int64, Int64}\n",
      "        1: Int64 2\n",
      "        2: Int64 3\n",
      "    5: SVector{2, Int64}\n",
      "      data: Tuple{Int64, Int64}\n",
      "        1: Int64 3\n",
      "        2: Int64 5\n",
      "    ...\n",
      "    17: SVector{2, Int64}\n",
      "      data: Tuple{Int64, Int64}\n",
      "        1: Int64 987\n",
      "        2: Int64 1597\n",
      "    18: SVector{2, Int64}\n",
      "      data: Tuple{Int64, Int64}\n",
      "        1: Int64 1597\n",
      "        2: Int64 2584\n",
      "    19: SVector{2, Int64}\n",
      "      data: Tuple{Int64, Int64}\n",
      "        1: Int64 2584\n",
      "        2: Int64 4181\n",
      "    20: SVector{2, Int64}\n",
      "      data: Tuple{Int64, Int64}\n",
      "        1: Int64 4181\n",
      "        2: Int64 6765\n",
      "    21: SVector{2, Int64}\n",
      "      data: Tuple{Int64, Int64}\n",
      "        1: Int64 6765\n",
      "        2: Int64 10946\n"
     ]
    }
   ],
   "source": [
    "dump(tr)"
   ]
  },
  {
   "cell_type": "code",
   "execution_count": null,
   "id": "c48813e3-8701-4a6c-8932-6e1fc2fa175f",
   "metadata": {},
   "outputs": [],
   "source": []
  }
 ],
 "metadata": {
  "jupytext": {
   "formats": "ipynb,auto:hydrogen"
  },
  "kernelspec": {
   "display_name": "Julia 1.6.2",
   "language": "julia",
   "name": "julia-1.6"
  },
  "language_info": {
   "file_extension": ".jl",
   "mimetype": "application/julia",
   "name": "julia",
   "version": "1.6.2"
  }
 },
 "nbformat": 4,
 "nbformat_minor": 5
}
