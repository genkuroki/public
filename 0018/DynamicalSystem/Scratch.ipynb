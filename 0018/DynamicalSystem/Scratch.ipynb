{
 "cells": [
  {
   "cell_type": "code",
   "execution_count": 1,
   "id": "33a7e12a-9927-4527-9090-5286d027fc7e",
   "metadata": {},
   "outputs": [
    {
     "data": {
      "text/plain": [
       "xoxp1 (generic function with 1 method)"
      ]
     },
     "execution_count": 1,
     "metadata": {},
     "output_type": "execute_result"
    }
   ],
   "source": [
    "using Base.Threads\n",
    "using ProgressMeter\n",
    "using Plots\n",
    "nthreads()\n",
    "xoxp1(x) = x/(x+1) # {x > 0} -> {0 < y < 1}"
   ]
  },
  {
   "cell_type": "code",
   "execution_count": 2,
   "id": "19dabe81-cbf1-43cb-81f1-582652df4dcb",
   "metadata": {},
   "outputs": [],
   "source": [
    "using DynamicalSystems\n",
    "using StaticArrays"
   ]
  },
  {
   "cell_type": "code",
   "execution_count": 3,
   "id": "0c2f854a-d368-48c1-a331-8e3c4b64b42e",
   "metadata": {},
   "outputs": [
    {
     "data": {
      "text/plain": [
       "f (generic function with 2 methods)"
      ]
     },
     "execution_count": 3,
     "metadata": {},
     "output_type": "execute_result"
    }
   ],
   "source": [
    "function f(x, p)\n",
    "   r, k = p\n",
    "   a, mu, d = 5.0, 0.5, 0.2\n",
    "   x1new = x[1]*exp(r*(1-x[1]/k)-x[2]/(a+x[1]^2))\n",
    "   x2new = x[2]*exp(mu*x[1]/(a+x[1]^2)-d)\n",
    "   x1new, x2new\n",
    "end\n",
    "\n",
    "f(x, p, t) = SVector(f(x, p))"
   ]
  },
  {
   "cell_type": "code",
   "execution_count": 4,
   "id": "d625bb25-e2e6-42d0-9b4e-1d2228bdbb24",
   "metadata": {},
   "outputs": [
    {
     "data": {
      "text/plain": [
       "traj2d! (generic function with 1 method)"
      ]
     },
     "execution_count": 4,
     "metadata": {},
     "output_type": "execute_result"
    }
   ],
   "source": [
    "function traj2d!(tr1, tr2, f, p, x0, niters, nwarmup)\n",
    "    x = x0\n",
    "    for _ in 1:nwarmup\n",
    "        x = f(x, p)\n",
    "    end\n",
    "    @inbounds tr1[1], tr2[1] = x\n",
    "    for i in 2:niters+1\n",
    "        x = f(x, p)\n",
    "        @inbounds tr1[i], tr2[i] = x\n",
    "    end\n",
    "end"
   ]
  },
  {
   "cell_type": "code",
   "execution_count": 5,
   "id": "d2a55cac-0a36-4a13-bf12-28dac21f5b15",
   "metadata": {},
   "outputs": [
    {
     "data": {
      "text/plain": [
       "traj2d_ds! (generic function with 1 method)"
      ]
     },
     "execution_count": 5,
     "metadata": {},
     "output_type": "execute_result"
    }
   ],
   "source": [
    "function traj2d_ds!(tr1, tr2, dds, niters, nwarmup)\n",
    "    integ = integrator(dds, dds.u0)\n",
    "    nwarmup != 0 && step!(integ, nwarmup)\n",
    "    @inbounds tr1[1], tr2[1] = DynamicalSystems.DynamicalSystemsBase.obtain_access(integ.u, nothing)\n",
    "    for i in 2:niters+1\n",
    "        step!(integ)\n",
    "        @inbounds tr1[i], tr2[i] = DynamicalSystems.DynamicalSystemsBase.obtain_access(integ.u, nothing)\n",
    "    end\n",
    "end"
   ]
  },
  {
   "cell_type": "code",
   "execution_count": 6,
   "id": "70cf1984-f4b7-48d6-8f9e-afb7bcb07189",
   "metadata": {},
   "outputs": [
    {
     "name": "stdout",
     "output_type": "stream",
     "text": [
      "tr1 = [55, 89, 144, 233, 377, 610, 987, 1597, 2584, 4181, 6765]\n",
      "tr2 = [89, 144, 233, 377, 610, 987, 1597, 2584, 4181, 6765, 10946]\n"
     ]
    }
   ],
   "source": [
    "niters = 10\n",
    "nwarmup = 10\n",
    "tr1 = zeros(Int, niters+1)\n",
    "tr2 = similar(tr1)\n",
    "traj2d!(tr1, tr2, ((a, b), p) -> (b, a+b), nothing, (0, 1), niters, nwarmup)\n",
    "@show tr1 tr2;"
   ]
  },
  {
   "cell_type": "code",
   "execution_count": 7,
   "id": "be2907e7-8a13-4bfe-87de-ccd7dba88e45",
   "metadata": {},
   "outputs": [
    {
     "data": {
      "text/plain": [
       "findperiod (generic function with 1 method)"
      ]
     },
     "execution_count": 7,
     "metadata": {},
     "output_type": "execute_result"
    }
   ],
   "source": [
    "function findperiod(x; tol=1e-3)\n",
    "    n = length(x)\n",
    "    @inbounds for k in 2:(n ÷ 2 + 1)\n",
    "        if abs(x[k] - x[1]) ≤ tol\n",
    "            all(j -> abs(x[j] - x[j-k+1]) ≤ tol, k:n) && return k - 1\n",
    "        end\n",
    "    end \n",
    "    return n\n",
    "end"
   ]
  },
  {
   "cell_type": "code",
   "execution_count": 8,
   "id": "7ebe3d3b-a42a-4a8c-96a7-017ea5e3bda2",
   "metadata": {},
   "outputs": [
    {
     "data": {
      "text/plain": [
       "7"
      ]
     },
     "execution_count": 8,
     "metadata": {},
     "output_type": "execute_result"
    }
   ],
   "source": [
    "x = [1, 2, 3, 4, 1, 2, 3]\n",
    "findperiod(x)"
   ]
  },
  {
   "cell_type": "code",
   "execution_count": 9,
   "id": "ba91080f-a577-47f9-94ad-26bf864ccd26",
   "metadata": {},
   "outputs": [
    {
     "data": {
      "text/plain": [
       "4"
      ]
     },
     "execution_count": 9,
     "metadata": {},
     "output_type": "execute_result"
    }
   ],
   "source": [
    "x = [1, 2, 3, 4, 1, 2, 3, 4]\n",
    "findperiod(x)"
   ]
  },
  {
   "cell_type": "code",
   "execution_count": 10,
   "id": "8d347ce8-a547-4109-8ed1-5f77a40aceb9",
   "metadata": {},
   "outputs": [
    {
     "data": {
      "text/plain": [
       "4"
      ]
     },
     "execution_count": 10,
     "metadata": {},
     "output_type": "execute_result"
    }
   ],
   "source": [
    "x = [1, 2, 3, 4, 1, 2, 3, 4, 1, 2, 3]\n",
    "findperiod(x)"
   ]
  },
  {
   "cell_type": "code",
   "execution_count": 11,
   "id": "3a07a15c-d951-430c-99cf-130acf1954b3",
   "metadata": {},
   "outputs": [
    {
     "data": {
      "text/plain": [
       "20"
      ]
     },
     "execution_count": 11,
     "metadata": {},
     "output_type": "execute_result"
    }
   ],
   "source": [
    "x = @. sinpi(0:0.1:10) + 1e-4randn()\n",
    "findperiod(x)"
   ]
  },
  {
   "cell_type": "code",
   "execution_count": 12,
   "id": "a28832f3-5207-4723-b6bb-bf80def14f53",
   "metadata": {},
   "outputs": [
    {
     "ename": "LoadError",
     "evalue": "InexactError: Int64(1.5e-323)",
     "output_type": "error",
     "traceback": [
      "InexactError: Int64(1.5e-323)",
      "",
      "Stacktrace:",
      " [1] Int64",
      "   @ .\\float.jl:723 [inlined]",
      " [2] convert",
      "   @ .\\number.jl:7 [inlined]",
      " [3] setindex!",
      "   @ .\\array.jl:839 [inlined]",
      " [4] traj2d_ds!(tr1::Vector{Float64}, tr2::Vector{Int64}, dds::DiscreteDynamicalSystem{false, SVector{2, Float64}, 2, typeof(f), Vector{Float64}, DynamicalSystemsBase.var\"#9#15\"{typeof(f)}, SMatrix{2, 2, Float64, 4}, true}, niters::Int64, nwarmup::Int64)",
      "   @ Main .\\In[5]:4",
      " [5] top-level scope",
      "   @ In[12]:8",
      " [6] eval",
      "   @ .\\boot.jl:360 [inlined]",
      " [7] include_string(mapexpr::typeof(REPL.softscope), mod::Module, code::String, filename::String)",
      "   @ Base .\\loading.jl:1116"
     ]
    }
   ],
   "source": [
    "niters = 2000\n",
    "nwarmup = 50000\n",
    "tr1_ds = zeros(niters+1)\n",
    "tr2_ds = similar(tr1)\n",
    "x0 = (0.4, 0.5)\n",
    "p = (2.5, 4.0)\n",
    "dds = DiscreteDynamicalSystem(f, SVector(x0), collect(p))\n",
    "traj2d_ds!(tr1_ds, tr2_ds, dds, niters, nwarmup)\n",
    "@show tr1_ds[1:10];"
   ]
  },
  {
   "cell_type": "code",
   "execution_count": 13,
   "id": "0e6fe6d6-259b-47c2-90af-2d2293fa6f25",
   "metadata": {},
   "outputs": [
    {
     "name": "stdout",
     "output_type": "stream",
     "text": [
      "tr1[1:10] = [6.841647133951477, 1.1583528660485214, 6.841647133951486, 1.1583528660485158, 6.8416471339514775, 1.1583528660485207, 6.8416471339514855, 1.1583528660485163, 6.841647133951477, 1.1583528660485214]\n"
     ]
    }
   ],
   "source": [
    "niters = 2000\n",
    "nwarmup = 50000\n",
    "tr1 = zeros(niters+1)\n",
    "tr2 = similar(tr1)\n",
    "x0 = (0.4, 0.5)\n",
    "p = (2.5, 4.0)\n",
    "traj2d!(tr1, tr2, f, p, x0, niters, nwarmup)\n",
    "@show tr1[1:10];"
   ]
  },
  {
   "cell_type": "code",
   "execution_count": 14,
   "id": "515ca0b2-0fa4-462f-984f-66652cc0b73e",
   "metadata": {},
   "outputs": [
    {
     "data": {
      "text/plain": [
       "false"
      ]
     },
     "execution_count": 14,
     "metadata": {},
     "output_type": "execute_result"
    }
   ],
   "source": [
    "tr1_ds == tr1"
   ]
  },
  {
   "cell_type": "code",
   "execution_count": 15,
   "id": "22b153b0-c3f9-46f7-91bd-8d5115ddbac4",
   "metadata": {},
   "outputs": [
    {
     "ename": "LoadError",
     "evalue": "LoadError: UndefVarError: @btime not defined\nin expression starting at In[15]:1",
     "output_type": "error",
     "traceback": [
      "LoadError: UndefVarError: @btime not defined\nin expression starting at In[15]:1",
      "",
      "Stacktrace:",
      " [1] top-level scope",
      "   @ :0",
      " [2] eval",
      "   @ .\\boot.jl:360 [inlined]",
      " [3] include_string(mapexpr::typeof(REPL.softscope), mod::Module, code::String, filename::String)",
      "   @ Base .\\loading.jl:1116"
     ]
    }
   ],
   "source": [
    "@btime traj2d!($tr1, $tr2, f, p, x0, niters, nwarmup)\n",
    "@btime traj2d_ds!($tr1_ds, $tr2_ds, dds, niters, nwarmup);"
   ]
  },
  {
   "cell_type": "code",
   "execution_count": 16,
   "id": "93f06f82-0507-4683-85e6-c276e5bc33c6",
   "metadata": {},
   "outputs": [
    {
     "data": {
      "text/plain": [
       "calcperiod2d! (generic function with 1 method)"
      ]
     },
     "execution_count": 16,
     "metadata": {},
     "output_type": "execute_result"
    }
   ],
   "source": [
    "function calcperiod2d!(tr1, tr2, f, p, x0, niters, nwarmup; tol=1e-3)\n",
    "    traj2d!(tr1, tr2, f, p, x0, niters, nwarmup)\n",
    "    findperiod(tr1; tol)\n",
    "end"
   ]
  },
  {
   "cell_type": "code",
   "execution_count": 17,
   "id": "a9c80b49-8d92-4be5-a982-b4d8f2112b37",
   "metadata": {},
   "outputs": [
    {
     "name": "stdout",
     "output_type": "stream",
     "text": [
      "  4.183 ms (0 allocations: 0 bytes)\n"
     ]
    },
    {
     "data": {
      "text/plain": [
       "4"
      ]
     },
     "execution_count": 17,
     "metadata": {},
     "output_type": "execute_result"
    }
   ],
   "source": [
    "using BenchmarkTools\n",
    "@btime calcperiod2d!($(zeros(2001)), $(zeros(2001)), f, (2.6, 4.0), (0.4, 0.5), 2000, 50000; tol=1e-3)"
   ]
  },
  {
   "cell_type": "code",
   "execution_count": 18,
   "id": "41b5fbf0-d7a1-4c5d-8abc-e751f57c2e24",
   "metadata": {},
   "outputs": [
    {
     "name": "stderr",
     "output_type": "stream",
     "text": [
      "\u001b[32mProgress: 100%|█████████████████████████████████████████| Time: 0:00:23\u001b[39mmm9mm\n"
     ]
    },
    {
     "name": "stdout",
     "output_type": "stream",
     "text": [
      " 23.874924 seconds (1.61 M allocations: 92.468 MiB, 0.15% gc time, 3.29% compilation time)\n"
     ]
    },
    {
     "data": {
      "image/svg+xml": [
       "<?xml version=\"1.0\" encoding=\"utf-8\"?>\n",
       "<svg xmlns=\"http://www.w3.org/2000/svg\" xmlns:xlink=\"http://www.w3.org/1999/xlink\" width=\"600\" height=\"400\" viewBox=\"0 0 2400 1600\">\n",
       "<defs>\n",
       "  <clipPath id=\"clip980\">\n",
       "    <rect x=\"0\" y=\"0\" width=\"2400\" height=\"1600\"/>\n",
       "  </clipPath>\n",
       "</defs>\n",
       "<path clip-path=\"url(#clip980)\" d=\"\n",
       "M0 1600 L2400 1600 L2400 0 L0 0  Z\n",
       "  \" fill=\"#ffffff\" fill-rule=\"evenodd\" fill-opacity=\"1\"/>\n",
       "<defs>\n",
       "  <clipPath id=\"clip981\">\n",
       "    <rect x=\"480\" y=\"0\" width=\"1681\" height=\"1600\"/>\n",
       "  </clipPath>\n",
       "</defs>\n",
       "<path clip-path=\"url(#clip980)\" d=\"\n",
       "M220.19 1423.18 L2112.76 1423.18 L2112.76 123.472 L220.19 123.472  Z\n",
       "  \" fill=\"#ffffff\" fill-rule=\"evenodd\" fill-opacity=\"1\"/>\n",
       "<defs>\n",
       "  <clipPath id=\"clip982\">\n",
       "    <rect x=\"220\" y=\"123\" width=\"1894\" height=\"1301\"/>\n",
       "  </clipPath>\n",
       "</defs>\n",
       "<polyline clip-path=\"url(#clip982)\" style=\"stroke:#000000; stroke-linecap:butt; stroke-linejoin:round; stroke-width:2; stroke-opacity:0.1; fill:none\" points=\"\n",
       "  232.019,1423.18 232.019,123.472 \n",
       "  \"/>\n",
       "<polyline clip-path=\"url(#clip982)\" style=\"stroke:#000000; stroke-linecap:butt; stroke-linejoin:round; stroke-width:2; stroke-opacity:0.1; fill:none\" points=\"\n",
       "  705.16,1423.18 705.16,123.472 \n",
       "  \"/>\n",
       "<polyline clip-path=\"url(#clip982)\" style=\"stroke:#000000; stroke-linecap:butt; stroke-linejoin:round; stroke-width:2; stroke-opacity:0.1; fill:none\" points=\"\n",
       "  1178.3,1423.18 1178.3,123.472 \n",
       "  \"/>\n",
       "<polyline clip-path=\"url(#clip982)\" style=\"stroke:#000000; stroke-linecap:butt; stroke-linejoin:round; stroke-width:2; stroke-opacity:0.1; fill:none\" points=\"\n",
       "  1651.44,1423.18 1651.44,123.472 \n",
       "  \"/>\n",
       "<polyline clip-path=\"url(#clip980)\" style=\"stroke:#000000; stroke-linecap:butt; stroke-linejoin:round; stroke-width:4; stroke-opacity:1; fill:none\" points=\"\n",
       "  220.19,1423.18 2112.76,1423.18 \n",
       "  \"/>\n",
       "<polyline clip-path=\"url(#clip980)\" style=\"stroke:#000000; stroke-linecap:butt; stroke-linejoin:round; stroke-width:4; stroke-opacity:1; fill:none\" points=\"\n",
       "  232.019,1423.18 232.019,1404.28 \n",
       "  \"/>\n",
       "<polyline clip-path=\"url(#clip980)\" style=\"stroke:#000000; stroke-linecap:butt; stroke-linejoin:round; stroke-width:4; stroke-opacity:1; fill:none\" points=\"\n",
       "  705.16,1423.18 705.16,1404.28 \n",
       "  \"/>\n",
       "<polyline clip-path=\"url(#clip980)\" style=\"stroke:#000000; stroke-linecap:butt; stroke-linejoin:round; stroke-width:4; stroke-opacity:1; fill:none\" points=\"\n",
       "  1178.3,1423.18 1178.3,1404.28 \n",
       "  \"/>\n",
       "<polyline clip-path=\"url(#clip980)\" style=\"stroke:#000000; stroke-linecap:butt; stroke-linejoin:round; stroke-width:4; stroke-opacity:1; fill:none\" points=\"\n",
       "  1651.44,1423.18 1651.44,1404.28 \n",
       "  \"/>\n",
       "<path clip-path=\"url(#clip980)\" d=\"M222.401 1479.92 L230.04 1479.92 L230.04 1453.55 L221.73 1455.22 L221.73 1450.96 L229.993 1449.29 L234.669 1449.29 L234.669 1479.92 L242.308 1479.92 L242.308 1483.85 L222.401 1483.85 L222.401 1479.92 Z\" fill=\"#000000\" fill-rule=\"evenodd\" fill-opacity=\"1\" /><path clip-path=\"url(#clip980)\" d=\"M699.813 1479.92 L716.132 1479.92 L716.132 1483.85 L694.188 1483.85 L694.188 1479.92 Q696.85 1477.16 701.433 1472.53 Q706.04 1467.88 707.22 1466.54 Q709.466 1464.01 710.345 1462.28 Q711.248 1460.52 711.248 1458.83 Q711.248 1456.07 709.304 1454.34 Q707.382 1452.6 704.281 1452.6 Q702.082 1452.6 699.628 1453.37 Q697.197 1454.13 694.42 1455.68 L694.42 1450.96 Q697.244 1449.82 699.697 1449.25 Q702.151 1448.67 704.188 1448.67 Q709.558 1448.67 712.753 1451.35 Q715.947 1454.04 715.947 1458.53 Q715.947 1460.66 715.137 1462.58 Q714.35 1464.48 712.244 1467.07 Q711.665 1467.74 708.563 1470.96 Q705.461 1474.15 699.813 1479.92 Z\" fill=\"#000000\" fill-rule=\"evenodd\" fill-opacity=\"1\" /><path clip-path=\"url(#clip980)\" d=\"M1182.55 1465.22 Q1185.91 1465.94 1187.78 1468.2 Q1189.68 1470.47 1189.68 1473.81 Q1189.68 1478.92 1186.16 1481.72 Q1182.64 1484.52 1176.16 1484.52 Q1173.98 1484.52 1171.67 1484.08 Q1169.38 1483.67 1166.92 1482.81 L1166.92 1478.3 Q1168.87 1479.43 1171.18 1480.01 Q1173.5 1480.59 1176.02 1480.59 Q1180.42 1480.59 1182.71 1478.85 Q1185.03 1477.12 1185.03 1473.81 Q1185.03 1470.75 1182.87 1469.04 Q1180.74 1467.3 1176.92 1467.3 L1172.9 1467.3 L1172.9 1463.46 L1177.11 1463.46 Q1180.56 1463.46 1182.39 1462.09 Q1184.22 1460.7 1184.22 1458.11 Q1184.22 1455.45 1182.32 1454.04 Q1180.44 1452.6 1176.92 1452.6 Q1175 1452.6 1172.8 1453.02 Q1170.6 1453.44 1167.97 1454.31 L1167.97 1450.15 Q1170.63 1449.41 1172.94 1449.04 Q1175.28 1448.67 1177.34 1448.67 Q1182.67 1448.67 1185.77 1451.1 Q1188.87 1453.5 1188.87 1457.63 Q1188.87 1460.5 1187.23 1462.49 Q1185.58 1464.45 1182.55 1465.22 Z\" fill=\"#000000\" fill-rule=\"evenodd\" fill-opacity=\"1\" /><path clip-path=\"url(#clip980)\" d=\"M1654.45 1453.37 L1642.65 1471.81 L1654.45 1471.81 L1654.45 1453.37 M1653.23 1449.29 L1659.11 1449.29 L1659.11 1471.81 L1664.04 1471.81 L1664.04 1475.7 L1659.11 1475.7 L1659.11 1483.85 L1654.45 1483.85 L1654.45 1475.7 L1638.85 1475.7 L1638.85 1471.19 L1653.23 1449.29 Z\" fill=\"#000000\" fill-rule=\"evenodd\" fill-opacity=\"1\" /><path clip-path=\"url(#clip980)\" d=\"M1176.91 1537.87 Q1175.93 1537.3 1174.75 1537.04 Q1173.6 1536.76 1172.2 1536.76 Q1167.24 1536.76 1164.56 1540 Q1161.92 1543.22 1161.92 1549.27 L1161.92 1568.04 L1156.03 1568.04 L1156.03 1532.4 L1161.92 1532.4 L1161.92 1537.93 Q1163.77 1534.69 1166.73 1533.13 Q1169.69 1531.54 1173.92 1531.54 Q1174.53 1531.54 1175.26 1531.63 Q1175.99 1531.7 1176.88 1531.85 L1176.91 1537.87 Z\" fill=\"#000000\" fill-rule=\"evenodd\" fill-opacity=\"1\" /><polyline clip-path=\"url(#clip982)\" style=\"stroke:#000000; stroke-linecap:butt; stroke-linejoin:round; stroke-width:2; stroke-opacity:0.1; fill:none\" points=\"\n",
       "  220.19,1412.35 2112.76,1412.35 \n",
       "  \"/>\n",
       "<polyline clip-path=\"url(#clip982)\" style=\"stroke:#000000; stroke-linecap:butt; stroke-linejoin:round; stroke-width:2; stroke-opacity:0.1; fill:none\" points=\"\n",
       "  220.19,1195.73 2112.76,1195.73 \n",
       "  \"/>\n",
       "<polyline clip-path=\"url(#clip982)\" style=\"stroke:#000000; stroke-linecap:butt; stroke-linejoin:round; stroke-width:2; stroke-opacity:0.1; fill:none\" points=\"\n",
       "  220.19,979.113 2112.76,979.113 \n",
       "  \"/>\n",
       "<polyline clip-path=\"url(#clip982)\" style=\"stroke:#000000; stroke-linecap:butt; stroke-linejoin:round; stroke-width:2; stroke-opacity:0.1; fill:none\" points=\"\n",
       "  220.19,762.495 2112.76,762.495 \n",
       "  \"/>\n",
       "<polyline clip-path=\"url(#clip982)\" style=\"stroke:#000000; stroke-linecap:butt; stroke-linejoin:round; stroke-width:2; stroke-opacity:0.1; fill:none\" points=\"\n",
       "  220.19,545.877 2112.76,545.877 \n",
       "  \"/>\n",
       "<polyline clip-path=\"url(#clip982)\" style=\"stroke:#000000; stroke-linecap:butt; stroke-linejoin:round; stroke-width:2; stroke-opacity:0.1; fill:none\" points=\"\n",
       "  220.19,329.259 2112.76,329.259 \n",
       "  \"/>\n",
       "<polyline clip-path=\"url(#clip980)\" style=\"stroke:#000000; stroke-linecap:butt; stroke-linejoin:round; stroke-width:4; stroke-opacity:1; fill:none\" points=\"\n",
       "  220.19,1423.18 220.19,123.472 \n",
       "  \"/>\n",
       "<polyline clip-path=\"url(#clip980)\" style=\"stroke:#000000; stroke-linecap:butt; stroke-linejoin:round; stroke-width:4; stroke-opacity:1; fill:none\" points=\"\n",
       "  220.19,1412.35 236.961,1412.35 \n",
       "  \"/>\n",
       "<polyline clip-path=\"url(#clip980)\" style=\"stroke:#000000; stroke-linecap:butt; stroke-linejoin:round; stroke-width:4; stroke-opacity:1; fill:none\" points=\"\n",
       "  220.19,1195.73 236.961,1195.73 \n",
       "  \"/>\n",
       "<polyline clip-path=\"url(#clip980)\" style=\"stroke:#000000; stroke-linecap:butt; stroke-linejoin:round; stroke-width:4; stroke-opacity:1; fill:none\" points=\"\n",
       "  220.19,979.113 236.961,979.113 \n",
       "  \"/>\n",
       "<polyline clip-path=\"url(#clip980)\" style=\"stroke:#000000; stroke-linecap:butt; stroke-linejoin:round; stroke-width:4; stroke-opacity:1; fill:none\" points=\"\n",
       "  220.19,762.495 236.961,762.495 \n",
       "  \"/>\n",
       "<polyline clip-path=\"url(#clip980)\" style=\"stroke:#000000; stroke-linecap:butt; stroke-linejoin:round; stroke-width:4; stroke-opacity:1; fill:none\" points=\"\n",
       "  220.19,545.877 236.961,545.877 \n",
       "  \"/>\n",
       "<polyline clip-path=\"url(#clip980)\" style=\"stroke:#000000; stroke-linecap:butt; stroke-linejoin:round; stroke-width:4; stroke-opacity:1; fill:none\" points=\"\n",
       "  220.19,329.259 236.961,329.259 \n",
       "  \"/>\n",
       "<path clip-path=\"url(#clip980)\" d=\"M121.043 1425.69 L137.362 1425.69 L137.362 1429.63 L115.418 1429.63 L115.418 1425.69 Q118.08 1422.94 122.663 1418.31 Q127.269 1413.66 128.45 1412.31 Q130.695 1409.79 131.575 1408.05 Q132.478 1406.3 132.478 1404.61 Q132.478 1401.85 130.533 1400.12 Q128.612 1398.38 125.51 1398.38 Q123.311 1398.38 120.857 1399.14 Q118.427 1399.91 115.649 1401.46 L115.649 1396.74 Q118.473 1395.6 120.927 1395.02 Q123.38 1394.44 125.418 1394.44 Q130.788 1394.44 133.982 1397.13 Q137.177 1399.81 137.177 1404.31 Q137.177 1406.43 136.367 1408.36 Q135.579 1410.25 133.473 1412.85 Q132.894 1413.52 129.792 1416.74 Q126.691 1419.93 121.043 1425.69 Z\" fill=\"#000000\" fill-rule=\"evenodd\" fill-opacity=\"1\" /><path clip-path=\"url(#clip980)\" d=\"M147.177 1423.75 L152.061 1423.75 L152.061 1429.63 L147.177 1429.63 L147.177 1423.75 Z\" fill=\"#000000\" fill-rule=\"evenodd\" fill-opacity=\"1\" /><path clip-path=\"url(#clip980)\" d=\"M172.246 1398.15 Q168.635 1398.15 166.806 1401.71 Q165.001 1405.25 165.001 1412.38 Q165.001 1419.49 166.806 1423.05 Q168.635 1426.6 172.246 1426.6 Q175.88 1426.6 177.686 1423.05 Q179.514 1419.49 179.514 1412.38 Q179.514 1405.25 177.686 1401.71 Q175.88 1398.15 172.246 1398.15 M172.246 1394.44 Q178.056 1394.44 181.112 1399.05 Q184.19 1403.63 184.19 1412.38 Q184.19 1421.11 181.112 1425.72 Q178.056 1430.3 172.246 1430.3 Q166.436 1430.3 163.357 1425.72 Q160.302 1421.11 160.302 1412.38 Q160.302 1403.63 163.357 1399.05 Q166.436 1394.44 172.246 1394.44 Z\" fill=\"#000000\" fill-rule=\"evenodd\" fill-opacity=\"1\" /><path clip-path=\"url(#clip980)\" d=\"M122.038 1209.08 L138.357 1209.08 L138.357 1213.01 L116.413 1213.01 L116.413 1209.08 Q119.075 1206.32 123.658 1201.69 Q128.265 1197.04 129.445 1195.7 Q131.691 1193.17 132.57 1191.44 Q133.473 1189.68 133.473 1187.99 Q133.473 1185.23 131.529 1183.5 Q129.607 1181.76 126.505 1181.76 Q124.306 1181.76 121.853 1182.53 Q119.422 1183.29 116.644 1184.84 L116.644 1180.12 Q119.468 1178.98 121.922 1178.4 Q124.376 1177.83 126.413 1177.83 Q131.783 1177.83 134.978 1180.51 Q138.172 1183.2 138.172 1187.69 Q138.172 1189.82 137.362 1191.74 Q136.575 1193.64 134.468 1196.23 Q133.89 1196.9 130.788 1200.12 Q127.686 1203.31 122.038 1209.08 Z\" fill=\"#000000\" fill-rule=\"evenodd\" fill-opacity=\"1\" /><path clip-path=\"url(#clip980)\" d=\"M148.172 1207.13 L153.056 1207.13 L153.056 1213.01 L148.172 1213.01 L148.172 1207.13 Z\" fill=\"#000000\" fill-rule=\"evenodd\" fill-opacity=\"1\" /><path clip-path=\"url(#clip980)\" d=\"M163.288 1178.45 L181.644 1178.45 L181.644 1182.39 L167.57 1182.39 L167.57 1190.86 Q168.589 1190.51 169.607 1190.35 Q170.626 1190.16 171.644 1190.16 Q177.431 1190.16 180.811 1193.34 Q184.19 1196.51 184.19 1201.92 Q184.19 1207.5 180.718 1210.6 Q177.246 1213.68 170.927 1213.68 Q168.751 1213.68 166.482 1213.31 Q164.237 1212.94 161.829 1212.2 L161.829 1207.5 Q163.913 1208.64 166.135 1209.19 Q168.357 1209.75 170.834 1209.75 Q174.839 1209.75 177.176 1207.64 Q179.514 1205.53 179.514 1201.92 Q179.514 1198.31 177.176 1196.21 Q174.839 1194.1 170.834 1194.1 Q168.959 1194.1 167.084 1194.52 Q165.232 1194.93 163.288 1195.81 L163.288 1178.45 Z\" fill=\"#000000\" fill-rule=\"evenodd\" fill-opacity=\"1\" /><path clip-path=\"url(#clip980)\" d=\"M131.181 977.759 Q134.538 978.476 136.413 980.745 Q138.311 983.013 138.311 986.347 Q138.311 991.463 134.792 994.263 Q131.274 997.064 124.793 997.064 Q122.617 997.064 120.302 996.625 Q118.01 996.208 115.556 995.351 L115.556 990.838 Q117.501 991.972 119.816 992.55 Q122.13 993.129 124.654 993.129 Q129.052 993.129 131.343 991.393 Q133.658 989.657 133.658 986.347 Q133.658 983.291 131.505 981.578 Q129.376 979.842 125.556 979.842 L121.529 979.842 L121.529 976 L125.742 976 Q129.191 976 131.019 974.634 Q132.848 973.245 132.848 970.652 Q132.848 967.99 130.95 966.578 Q129.075 965.143 125.556 965.143 Q123.635 965.143 121.436 965.56 Q119.237 965.977 116.598 966.856 L116.598 962.69 Q119.26 961.949 121.575 961.578 Q123.913 961.208 125.973 961.208 Q131.297 961.208 134.399 963.639 Q137.501 966.046 137.501 970.166 Q137.501 973.037 135.857 975.027 Q134.214 976.995 131.181 977.759 Z\" fill=\"#000000\" fill-rule=\"evenodd\" fill-opacity=\"1\" /><path clip-path=\"url(#clip980)\" d=\"M147.177 990.513 L152.061 990.513 L152.061 996.393 L147.177 996.393 L147.177 990.513 Z\" fill=\"#000000\" fill-rule=\"evenodd\" fill-opacity=\"1\" /><path clip-path=\"url(#clip980)\" d=\"M172.246 964.912 Q168.635 964.912 166.806 968.477 Q165.001 972.018 165.001 979.148 Q165.001 986.254 166.806 989.819 Q168.635 993.361 172.246 993.361 Q175.88 993.361 177.686 989.819 Q179.514 986.254 179.514 979.148 Q179.514 972.018 177.686 968.477 Q175.88 964.912 172.246 964.912 M172.246 961.208 Q178.056 961.208 181.112 965.814 Q184.19 970.398 184.19 979.148 Q184.19 987.875 181.112 992.481 Q178.056 997.064 172.246 997.064 Q166.436 997.064 163.357 992.481 Q160.302 987.875 160.302 979.148 Q160.302 970.398 163.357 965.814 Q166.436 961.208 172.246 961.208 Z\" fill=\"#000000\" fill-rule=\"evenodd\" fill-opacity=\"1\" /><path clip-path=\"url(#clip980)\" d=\"M132.177 761.141 Q135.533 761.859 137.408 764.127 Q139.306 766.396 139.306 769.729 Q139.306 774.845 135.788 777.645 Q132.269 780.446 125.788 780.446 Q123.612 780.446 121.297 780.007 Q119.006 779.59 116.552 778.733 L116.552 774.22 Q118.496 775.354 120.811 775.933 Q123.126 776.511 125.649 776.511 Q130.047 776.511 132.339 774.775 Q134.654 773.039 134.654 769.729 Q134.654 766.673 132.501 764.96 Q130.371 763.224 126.552 763.224 L122.524 763.224 L122.524 759.382 L126.737 759.382 Q130.186 759.382 132.015 758.016 Q133.843 756.627 133.843 754.034 Q133.843 751.372 131.945 749.96 Q130.07 748.525 126.552 748.525 Q124.63 748.525 122.431 748.942 Q120.232 749.359 117.593 750.238 L117.593 746.072 Q120.255 745.331 122.57 744.96 Q124.908 744.59 126.968 744.59 Q132.292 744.59 135.394 747.021 Q138.496 749.428 138.496 753.548 Q138.496 756.419 136.853 758.409 Q135.209 760.377 132.177 761.141 Z\" fill=\"#000000\" fill-rule=\"evenodd\" fill-opacity=\"1\" /><path clip-path=\"url(#clip980)\" d=\"M148.172 773.895 L153.056 773.895 L153.056 779.775 L148.172 779.775 L148.172 773.895 Z\" fill=\"#000000\" fill-rule=\"evenodd\" fill-opacity=\"1\" /><path clip-path=\"url(#clip980)\" d=\"M163.288 745.215 L181.644 745.215 L181.644 749.15 L167.57 749.15 L167.57 757.622 Q168.589 757.275 169.607 757.113 Q170.626 756.928 171.644 756.928 Q177.431 756.928 180.811 760.099 Q184.19 763.271 184.19 768.687 Q184.19 774.266 180.718 777.368 Q177.246 780.446 170.927 780.446 Q168.751 780.446 166.482 780.076 Q164.237 779.706 161.829 778.965 L161.829 774.266 Q163.913 775.4 166.135 775.956 Q168.357 776.511 170.834 776.511 Q174.839 776.511 177.176 774.405 Q179.514 772.298 179.514 768.687 Q179.514 765.076 177.176 762.97 Q174.839 760.863 170.834 760.863 Q168.959 760.863 167.084 761.28 Q165.232 761.696 163.288 762.576 L163.288 745.215 Z\" fill=\"#000000\" fill-rule=\"evenodd\" fill-opacity=\"1\" /><path clip-path=\"url(#clip980)\" d=\"M129.862 532.671 L118.056 551.12 L129.862 551.12 L129.862 532.671 M128.635 528.597 L134.515 528.597 L134.515 551.12 L139.445 551.12 L139.445 555.009 L134.515 555.009 L134.515 563.157 L129.862 563.157 L129.862 555.009 L114.26 555.009 L114.26 550.495 L128.635 528.597 Z\" fill=\"#000000\" fill-rule=\"evenodd\" fill-opacity=\"1\" /><path clip-path=\"url(#clip980)\" d=\"M147.177 557.278 L152.061 557.278 L152.061 563.157 L147.177 563.157 L147.177 557.278 Z\" fill=\"#000000\" fill-rule=\"evenodd\" fill-opacity=\"1\" /><path clip-path=\"url(#clip980)\" d=\"M172.246 531.676 Q168.635 531.676 166.806 535.241 Q165.001 538.782 165.001 545.912 Q165.001 553.018 166.806 556.583 Q168.635 560.125 172.246 560.125 Q175.88 560.125 177.686 556.583 Q179.514 553.018 179.514 545.912 Q179.514 538.782 177.686 535.241 Q175.88 531.676 172.246 531.676 M172.246 527.972 Q178.056 527.972 181.112 532.579 Q184.19 537.162 184.19 545.912 Q184.19 554.639 181.112 559.245 Q178.056 563.828 172.246 563.828 Q166.436 563.828 163.357 559.245 Q160.302 554.639 160.302 545.912 Q160.302 537.162 163.357 532.579 Q166.436 527.972 172.246 527.972 Z\" fill=\"#000000\" fill-rule=\"evenodd\" fill-opacity=\"1\" /><path clip-path=\"url(#clip980)\" d=\"M130.857 316.053 L119.052 334.502 L130.857 334.502 L130.857 316.053 M129.63 311.979 L135.51 311.979 L135.51 334.502 L140.441 334.502 L140.441 338.391 L135.51 338.391 L135.51 346.539 L130.857 346.539 L130.857 338.391 L115.256 338.391 L115.256 333.877 L129.63 311.979 Z\" fill=\"#000000\" fill-rule=\"evenodd\" fill-opacity=\"1\" /><path clip-path=\"url(#clip980)\" d=\"M148.172 340.66 L153.056 340.66 L153.056 346.539 L148.172 346.539 L148.172 340.66 Z\" fill=\"#000000\" fill-rule=\"evenodd\" fill-opacity=\"1\" /><path clip-path=\"url(#clip980)\" d=\"M163.288 311.979 L181.644 311.979 L181.644 315.914 L167.57 315.914 L167.57 324.387 Q168.589 324.039 169.607 323.877 Q170.626 323.692 171.644 323.692 Q177.431 323.692 180.811 326.863 Q184.19 330.035 184.19 335.451 Q184.19 341.03 180.718 344.132 Q177.246 347.21 170.927 347.21 Q168.751 347.21 166.482 346.84 Q164.237 346.47 161.829 345.729 L161.829 341.03 Q163.913 342.164 166.135 342.72 Q168.357 343.275 170.834 343.275 Q174.839 343.275 177.176 341.169 Q179.514 339.062 179.514 335.451 Q179.514 331.84 177.176 329.734 Q174.839 327.627 170.834 327.627 Q168.959 327.627 167.084 328.044 Q165.232 328.461 163.288 329.34 L163.288 311.979 Z\" fill=\"#000000\" fill-rule=\"evenodd\" fill-opacity=\"1\" /><path clip-path=\"url(#clip980)\" d=\"M14.479 789.145 L14.479 783.256 L43.7294 783.256 L28.3562 765.783 L28.3562 758.303 L45.0344 777.209 L64.0042 757.507 L64.0042 765.146 L46.5939 783.256 L64.0042 783.256 L64.0042 789.145 L14.479 789.145 Z\" fill=\"#000000\" fill-rule=\"evenodd\" fill-opacity=\"1\" /><path clip-path=\"url(#clip980)\" d=\"M783.156 65.7705 L783.156 89.8329 L775.662 89.8329 L775.662 27.2059 L783.156 27.2059 L783.156 34.0924 Q785.506 30.0415 789.071 28.0971 Q792.676 26.1121 797.659 26.1121 Q805.922 26.1121 811.067 32.6746 Q816.252 39.2371 816.252 49.9314 Q816.252 60.6258 811.067 67.1883 Q805.922 73.7508 797.659 73.7508 Q792.676 73.7508 789.071 71.8063 Q785.506 69.8214 783.156 65.7705 M808.515 49.9314 Q808.515 41.7081 805.112 37.0496 Q801.75 32.3505 795.836 32.3505 Q789.921 32.3505 786.519 37.0496 Q783.156 41.7081 783.156 49.9314 Q783.156 58.1548 786.519 62.8538 Q789.921 67.5124 795.836 67.5124 Q801.75 67.5124 805.112 62.8538 Q808.515 58.1548 808.515 49.9314 Z\" fill=\"#000000\" fill-rule=\"evenodd\" fill-opacity=\"1\" /><path clip-path=\"url(#clip980)\" d=\"M867.415 48.0275 L867.415 51.6733 L833.144 51.6733 Q833.631 59.3701 837.762 63.421 Q841.935 67.4314 849.348 67.4314 Q853.642 67.4314 857.652 66.3781 Q861.703 65.3249 865.673 63.2184 L865.673 70.267 Q861.663 71.9684 857.45 72.8596 Q853.237 73.7508 848.902 73.7508 Q838.046 73.7508 831.686 67.4314 Q825.367 61.1119 825.367 50.3365 Q825.367 39.1965 831.362 32.6746 Q837.398 26.1121 847.606 26.1121 Q856.761 26.1121 862.068 32.0264 Q867.415 37.9003 867.415 48.0275 M859.961 45.84 Q859.88 39.7232 856.518 36.0774 Q853.196 32.4315 847.687 32.4315 Q841.449 32.4315 837.681 35.9558 Q833.955 39.4801 833.388 45.8805 L859.961 45.84 Z\" fill=\"#000000\" fill-rule=\"evenodd\" fill-opacity=\"1\" /><path clip-path=\"url(#clip980)\" d=\"M905.939 34.1734 Q904.683 33.4443 903.185 33.1202 Q901.726 32.7556 899.944 32.7556 Q893.624 32.7556 890.222 36.8875 Q886.859 40.9789 886.859 48.6757 L886.859 72.576 L879.365 72.576 L879.365 27.2059 L886.859 27.2059 L886.859 34.2544 Q889.209 30.1225 892.976 28.1376 Q896.744 26.1121 902.131 26.1121 Q902.901 26.1121 903.833 26.2337 Q904.764 26.3147 905.899 26.5172 L905.939 34.1734 Z\" fill=\"#000000\" fill-rule=\"evenodd\" fill-opacity=\"1\" /><path clip-path=\"url(#clip980)\" d=\"M913.757 27.2059 L921.211 27.2059 L921.211 72.576 L913.757 72.576 L913.757 27.2059 M913.757 9.54393 L921.211 9.54393 L921.211 18.9825 L913.757 18.9825 L913.757 9.54393 Z\" fill=\"#000000\" fill-rule=\"evenodd\" fill-opacity=\"1\" /><path clip-path=\"url(#clip980)\" d=\"M954.388 32.4315 Q948.393 32.4315 944.909 37.1306 Q941.425 41.7891 941.425 49.9314 Q941.425 58.0738 944.868 62.7728 Q948.352 67.4314 954.388 67.4314 Q960.343 67.4314 963.827 62.7323 Q967.31 58.0333 967.31 49.9314 Q967.31 41.8701 963.827 37.1711 Q960.343 32.4315 954.388 32.4315 M954.388 26.1121 Q964.11 26.1121 969.66 32.4315 Q975.21 38.7509 975.21 49.9314 Q975.21 61.0714 969.66 67.4314 Q964.11 73.7508 954.388 73.7508 Q944.625 73.7508 939.076 67.4314 Q933.566 61.0714 933.566 49.9314 Q933.566 38.7509 939.076 32.4315 Q944.625 26.1121 954.388 26.1121 Z\" fill=\"#000000\" fill-rule=\"evenodd\" fill-opacity=\"1\" /><path clip-path=\"url(#clip980)\" d=\"M1017.42 34.0924 L1017.42 9.54393 L1024.87 9.54393 L1024.87 72.576 L1017.42 72.576 L1017.42 65.7705 Q1015.07 69.8214 1011.47 71.8063 Q1007.9 73.7508 1002.88 73.7508 Q994.654 73.7508 989.469 67.1883 Q984.324 60.6258 984.324 49.9314 Q984.324 39.2371 989.469 32.6746 Q994.654 26.1121 1002.88 26.1121 Q1007.9 26.1121 1011.47 28.0971 Q1015.07 30.0415 1017.42 34.0924 M992.021 49.9314 Q992.021 58.1548 995.383 62.8538 Q998.786 67.5124 1004.7 67.5124 Q1010.61 67.5124 1014.02 62.8538 Q1017.42 58.1548 1017.42 49.9314 Q1017.42 41.7081 1014.02 37.0496 Q1010.61 32.3505 1004.7 32.3505 Q998.786 32.3505 995.383 37.0496 Q992.021 41.7081 992.021 49.9314 Z\" fill=\"#000000\" fill-rule=\"evenodd\" fill-opacity=\"1\" /><path clip-path=\"url(#clip980)\" d=\"M1053.47 12.096 L1060.36 12.096 L1039.29 80.2727 L1032.41 80.2727 L1053.47 12.096 Z\" fill=\"#000000\" fill-rule=\"evenodd\" fill-opacity=\"1\" /><path clip-path=\"url(#clip980)\" d=\"M1086.08 9.62495 Q1080.65 18.942 1078.02 28.0566 Q1075.39 37.1711 1075.39 46.5287 Q1075.39 55.8863 1078.02 65.0818 Q1080.7 74.2369 1086.08 83.5134 L1079.6 83.5134 Q1073.53 73.9938 1070.49 64.7983 Q1067.49 55.6027 1067.49 46.5287 Q1067.49 37.4952 1070.49 28.3401 Q1073.48 19.1851 1079.6 9.62495 L1086.08 9.62495 Z\" fill=\"#000000\" fill-rule=\"evenodd\" fill-opacity=\"1\" /><path clip-path=\"url(#clip980)\" d=\"M1107.76 65.7705 L1107.76 89.8329 L1100.26 89.8329 L1100.26 27.2059 L1107.76 27.2059 L1107.76 34.0924 Q1110.1 30.0415 1113.67 28.0971 Q1117.27 26.1121 1122.26 26.1121 Q1130.52 26.1121 1135.67 32.6746 Q1140.85 39.2371 1140.85 49.9314 Q1140.85 60.6258 1135.67 67.1883 Q1130.52 73.7508 1122.26 73.7508 Q1117.27 73.7508 1113.67 71.8063 Q1110.1 69.8214 1107.76 65.7705 M1133.11 49.9314 Q1133.11 41.7081 1129.71 37.0496 Q1126.35 32.3505 1120.43 32.3505 Q1114.52 32.3505 1111.12 37.0496 Q1107.76 41.7081 1107.76 49.9314 Q1107.76 58.1548 1111.12 62.8538 Q1114.52 67.5124 1120.43 67.5124 Q1126.35 67.5124 1129.71 62.8538 Q1133.11 58.1548 1133.11 49.9314 Z\" fill=\"#000000\" fill-rule=\"evenodd\" fill-opacity=\"1\" /><path clip-path=\"url(#clip980)\" d=\"M1192.01 48.0275 L1192.01 51.6733 L1157.74 51.6733 Q1158.23 59.3701 1162.36 63.421 Q1166.53 67.4314 1173.95 67.4314 Q1178.24 67.4314 1182.25 66.3781 Q1186.3 65.3249 1190.27 63.2184 L1190.27 70.267 Q1186.26 71.9684 1182.05 72.8596 Q1177.84 73.7508 1173.5 73.7508 Q1162.65 73.7508 1156.29 67.4314 Q1149.97 61.1119 1149.97 50.3365 Q1149.97 39.1965 1155.96 32.6746 Q1162 26.1121 1172.21 26.1121 Q1181.36 26.1121 1186.67 32.0264 Q1192.01 37.9003 1192.01 48.0275 M1184.56 45.84 Q1184.48 39.7232 1181.12 36.0774 Q1177.8 32.4315 1172.29 32.4315 Q1166.05 32.4315 1162.28 35.9558 Q1158.55 39.4801 1157.99 45.8805 L1184.56 45.84 Z\" fill=\"#000000\" fill-rule=\"evenodd\" fill-opacity=\"1\" /><path clip-path=\"url(#clip980)\" d=\"M1230.54 34.1734 Q1229.28 33.4443 1227.78 33.1202 Q1226.33 32.7556 1224.54 32.7556 Q1218.22 32.7556 1214.82 36.8875 Q1211.46 40.9789 1211.46 48.6757 L1211.46 72.576 L1203.96 72.576 L1203.96 27.2059 L1211.46 27.2059 L1211.46 34.2544 Q1213.81 30.1225 1217.58 28.1376 Q1221.34 26.1121 1226.73 26.1121 Q1227.5 26.1121 1228.43 26.2337 Q1229.36 26.3147 1230.5 26.5172 L1230.54 34.1734 Z\" fill=\"#000000\" fill-rule=\"evenodd\" fill-opacity=\"1\" /><path clip-path=\"url(#clip980)\" d=\"M1238.36 27.2059 L1245.81 27.2059 L1245.81 72.576 L1238.36 72.576 L1238.36 27.2059 M1238.36 9.54393 L1245.81 9.54393 L1245.81 18.9825 L1238.36 18.9825 L1238.36 9.54393 Z\" fill=\"#000000\" fill-rule=\"evenodd\" fill-opacity=\"1\" /><path clip-path=\"url(#clip980)\" d=\"M1278.99 32.4315 Q1272.99 32.4315 1269.51 37.1306 Q1266.02 41.7891 1266.02 49.9314 Q1266.02 58.0738 1269.47 62.7728 Q1272.95 67.4314 1278.99 67.4314 Q1284.94 67.4314 1288.43 62.7323 Q1291.91 58.0333 1291.91 49.9314 Q1291.91 41.8701 1288.43 37.1711 Q1284.94 32.4315 1278.99 32.4315 M1278.99 26.1121 Q1288.71 26.1121 1294.26 32.4315 Q1299.81 38.7509 1299.81 49.9314 Q1299.81 61.0714 1294.26 67.4314 Q1288.71 73.7508 1278.99 73.7508 Q1269.22 73.7508 1263.67 67.4314 Q1258.17 61.0714 1258.17 49.9314 Q1258.17 38.7509 1263.67 32.4315 Q1269.22 26.1121 1278.99 26.1121 Z\" fill=\"#000000\" fill-rule=\"evenodd\" fill-opacity=\"1\" /><path clip-path=\"url(#clip980)\" d=\"M1342.02 34.0924 L1342.02 9.54393 L1349.47 9.54393 L1349.47 72.576 L1342.02 72.576 L1342.02 65.7705 Q1339.67 69.8214 1336.06 71.8063 Q1332.5 73.7508 1327.48 73.7508 Q1319.25 73.7508 1314.07 67.1883 Q1308.92 60.6258 1308.92 49.9314 Q1308.92 39.2371 1314.07 32.6746 Q1319.25 26.1121 1327.48 26.1121 Q1332.5 26.1121 1336.06 28.0971 Q1339.67 30.0415 1342.02 34.0924 M1316.62 49.9314 Q1316.62 58.1548 1319.98 62.8538 Q1323.38 67.5124 1329.3 67.5124 Q1335.21 67.5124 1338.62 62.8538 Q1342.02 58.1548 1342.02 49.9314 Q1342.02 41.7081 1338.62 37.0496 Q1335.21 32.3505 1329.3 32.3505 Q1323.38 32.3505 1319.98 37.0496 Q1316.62 41.7081 1316.62 49.9314 Z\" fill=\"#000000\" fill-rule=\"evenodd\" fill-opacity=\"1\" /><path clip-path=\"url(#clip980)\" d=\"M1421.54 20.5624 L1421.54 43.1259 L1444.1 43.1259 L1444.1 50.0125 L1421.54 50.0125 L1421.54 72.576 L1414.73 72.576 L1414.73 50.0125 L1392.17 50.0125 L1392.17 43.1259 L1414.73 43.1259 L1414.73 20.5624 L1421.54 20.5624 Z\" fill=\"#000000\" fill-rule=\"evenodd\" fill-opacity=\"1\" /><path clip-path=\"url(#clip980)\" d=\"M1489.55 65.6895 L1502.92 65.6895 L1502.92 19.5497 L1488.38 22.4663 L1488.38 15.0127 L1502.84 12.096 L1511.02 12.096 L1511.02 65.6895 L1524.39 65.6895 L1524.39 72.576 L1489.55 72.576 L1489.55 65.6895 Z\" fill=\"#000000\" fill-rule=\"evenodd\" fill-opacity=\"1\" /><path clip-path=\"url(#clip980)\" d=\"M1538.69 9.62495 L1545.17 9.62495 Q1551.25 19.1851 1554.25 28.3401 Q1557.28 37.4952 1557.28 46.5287 Q1557.28 55.6027 1554.25 64.7983 Q1551.25 73.9938 1545.17 83.5134 L1538.69 83.5134 Q1544.08 74.2369 1546.71 65.0818 Q1549.38 55.8863 1549.38 46.5287 Q1549.38 37.1711 1546.71 28.0566 Q1544.08 18.942 1538.69 9.62495 Z\" fill=\"#000000\" fill-rule=\"evenodd\" fill-opacity=\"1\" /><g clip-path=\"url(#clip982)\">\n",
       "<image width=\"1893\" height=\"1300\" xlink:href=\"data:image/png;base64,\n",
       "iVBORw0KGgoAAAANSUhEUgAAB2UAAAUUCAYAAADvAcmPAAAgAElEQVR4nOzZsYkCARRF0VHMDM1E\n",
       "sIoR69gaTGQr2EJsQzAwtgGbsBLtYeEyoucU8PjZD+5sGBbPAQBI/G2OU58AvInDeJ/6hLe1Pf9O\n",
       "fQJ8lNv+ku7vrutse7kas234r8fPKd33BwEAvsN86gMAAAAAAAAAPpkoCwAAAAAAABASZQEAAAAA\n",
       "AABCoiwAAAAAAABASJQFAAAAAAAACImyAAAAAAAAACFRFgAAAAAAACAkygIAAAAAAACERFkAAAAA\n",
       "AACAkCgLAAAAAAAAEBJlAQAAAAAAAEKiLAAAAAAAAEBIlAUAAAAAAAAIibIAAAAAAAAAIVEWAAAA\n",
       "AAAAICTKAgAAAAAAAIREWQAAAAAAAICQKAsAAAAAAAAQEmUBAAAAAAAAQqIsAAAAAAAAQEiUBQAA\n",
       "AAAAAAiJsgAAAAAAAAAhURYAAAAAAAAgJMoCAAAAAAAAhERZAAAAAAAAgJAoCwAAAAAAABASZQEA\n",
       "AAAAAABCoiwAAAAAAABASJQFAAAAAAAACImyAAAAAAAAACFRFgAAAAAAACAkygIAAAAAAACERFkA\n",
       "AAAAAACAkCgLAAAAAAAAEBJlAQAAAAAAAEKiLAAAAAAAAEBIlAUAAAAAAAAIibIAAAAAAAAAIVEW\n",
       "AAAAAAAAICTKAgAAAAAAAIREWQAAAAAAAICQKAsAAAAAAAAQEmUBAAAAAAAAQqIsAAAAAAAAQEiU\n",
       "BQAAAAAAAAiJsgAAAAAAAAAhURYAAAAAAAAgJMoCAAAAAAAAhERZAAAAAAAAgJAoCwAAAAAAABAS\n",
       "ZQEAAAAAAABCoiwAAAAAAABASJQFAAAAAAAACImyAAAAAAAAACFRFgAAAAAAACAkygIAAAAAAACE\n",
       "RFkAAAAAAACAkCgLAAAAAAAAEBJlAQAAAAAAAEKiLAAAAAAAAEBIlAUAAAAAAAAIibIAAAAAAAAA\n",
       "IVEWAAAAAAAAICTKAgAAAAAAAIREWQAAAAAAAICQKAsAAAAAAAAQEmUBAAAAAAAAQqIsAAAAAAAA\n",
       "QEiUBQAAAAAAAAiJsgAAAAAAAAAhURYAAAAAAAAgJMoCAAAAAAAAhERZAAAAAAAAgJAoCwAAAAAA\n",
       "ABASZQEAAAAAAABCoiwAAAAAAABASJQFAAAAAAAACImyAAAAAAAAACFRFgAAAAAAACAkygIAAAAA\n",
       "AACERFkAAAAAAACAkCgLAAAAAAAAEBJlAQAAAAAAAEKiLAAAAAAAAEBIlAUAAAAAAAAIibIAAAAA\n",
       "AAAAIVEWAAAAAAAAICTKAgAAAAAAAIREWQAAAAAAAICQKAsAAAAAAAAQEmUBAAAAAAAAQqIsAAAA\n",
       "AAAAQEiUBQAAAAAAAAiJsgAAAAAAAAAhURYAAAAAAAAgJMoCAAAAAAAAhERZAAAAAAAAgJAoCwAA\n",
       "AAAAABASZQEAAAAAAABCoiwAAAAAAABASJQFAAAAAAAACImyAAAAAAAAACFRFgAAAAAAACAkygIA\n",
       "AAAAAACERFkAAAAAAACAkCgLAAAAAAAAEBJlAQAAAAAAAEKiLAAAAAAAAEBIlAUAAAAAAAAIibIA\n",
       "AAAAAAAAIVEWAAAAAAAAICTKAgAAAAAAAIREWQAAAAAAAICQKAsAAAAAAAAQEmUBAAAAAAAAQqIs\n",
       "AAAAAAAAQEiUBQAAAAAAAAiJsgAAAAAAAAAhURYAAAAAAAAgJMoCAAAAAAAAhERZAAAAAAAAgJAo\n",
       "CwAAAAAAABASZQEAAAAAAABCoiwAAAAAAABASJQFAAAAAAAACImyAAAAAAAAACFRFgAAAAAAACAk\n",
       "ygIAAAAAAACERFkAAAAAAACAkCgLAAAAAAAAEBJlAQAAAAAAAEKiLAAAAAAAAEBIlAUAAAAAAAAI\n",
       "ibIAAAAAAAAAIVEWAAAAAAAAICTKAgAAAAAAAIREWQAAAAAAAICQKAsAAAAAAAAQEmUBAAAAAAAA\n",
       "QqIsAAAAAAAAQEiUBQAAAAAAAAiJsgAAAAAAAAAhURYAAAAAAAAgJMoCAAAAAAAAhERZAAAAAAAA\n",
       "gJAoCwAAAAAAABASZQEAAAAAAABCoiwAAAAAAABASJQFAAAAAAAACImyAAAAAAAAACFRFgAAAAAA\n",
       "ACAkygIAAAAAAACERFkAAAAAAACAkCgLAAAAAAAAEBJlAQAAAAAAAEKiLAAAAAAAAEBIlAUAAAAA\n",
       "AAAIibIAAAAAAAAAIVEWAAAAAAAAICTKAgAAAAAAAIREWQAAAAAAAICQKAsAAAAAAAAQEmUBAAAA\n",
       "AAAAQqIsAAAAAAAAQEiUBQAAAAAAAAiJsgAAAAAAAAAhURYAAAAAAAAgJMoCAAAAAAAAhERZAAAA\n",
       "AAAAgJAoCwAAAAAAABASZQEAAAAAAABCoiwAAAAAAABASJQFAAAAAAAACImyAAAAAAAAACFRFgAA\n",
       "AAAAACAkygIAAAAAAACERFkAAAAAAACAkCgLAAAAAAAAEBJlAQAAAAAAAEKiLAAAAAAAAEBIlAUA\n",
       "AAAAAAAIibIAAAAAAAAAIVEWAAAAAAAAICTKAgAAAAAAAIREWQAAAAAAAICQKAsAAAAAAAAQEmUB\n",
       "AAAAAAAAQqIsAAAAAAAAQEiUBQAAAAAAAAiJsgAAAAAAAAAhURYAAAAAAAAgJMoCAAAAAAAAhERZ\n",
       "AAAAAAAAgJAoCwAAAAAAABASZQEAAAAAAABCoiwAAAAAAABASJQFAAAAAAAACImyAAAAAAAAACFR\n",
       "FgAAAAAAACAkygIAAAAAAACERFkAAAAAAACAkCgLAAAAAAAAEBJlAQAAAAAAAEKiLAAAAAAAAEBI\n",
       "lAUAAAAAAAAIibIAAAAAAAAAIVEWAAAAAAAAICTKAgAAAAAAAIREWQAAAAAAAICQKAsAAAAAAAAQ\n",
       "EmUBAAAAAAAAQqIsAAAAAAAAQEiUBQAAAAAAAAiJsgAAAAAAAAAhURYAAAAAAAAgJMoCAAAAAAAA\n",
       "hERZAAAAAAAAgJAoCwAAAAAAABASZQEAAAAAAABCoiwAAAAAAABASJQFAAAAAAAACImyAAAAAAAA\n",
       "ACFRFgAAAAAAACAkygIAAAAAAACERFkAAAAAAACAkCgLAAAAAAAAEBJlAQAAAAAAAEKiLAAAAAAA\n",
       "AEBIlAUAAAAAAAAIibIAAAAAAAAAIVEWAAAAAAAAICTKAgAAAAAAAIREWQAAAAAAAICQKAsAAAAA\n",
       "AAAQEmUBAAAAAAAAQqIsAAAAAAAAQEiUBQAAAAAAAAiJsgAAAAAAAAAhURYAAAAAAAAgJMoCAAAA\n",
       "AAAAhERZAAAAAAAAgJAoCwAAAAAAABASZQEAAAAAAABCoiwAAAAAAABASJQFAAAAAAAACImyAAAA\n",
       "AAAAACFRFgAAAAAAACAkygIAAAAAAACERFkAAAAAAACAkCgLAAAAAAAAEBJlAQAAAAAAAEKiLAAA\n",
       "AAAAAEBIlAUAAAAAAAAIibIAAAAAAAAAIVEWAAAAAAAAICTKAgAAAAAAAIREWQAAAAAAAICQKAsA\n",
       "AAAAAAAQEmUBAAAAAAAAQqIsAAAAAAAAQEiUBQAAAAAAAAiJsgAAAAAAAAAhURYAAAAAAAAgJMoC\n",
       "AAAAAAAAhERZAAAAAAAAgJAoCwAAAAAAABASZQEAAAAAAABCoiwAAAAAAABASJQFAAAAAAAACImy\n",
       "AAAAAAAAACFRFgAAAAAAACAkygIAAAAAAACERFkAAAAAAACAkCgLAAAAAAAAEBJlAQAAAAAAAEKi\n",
       "LAAAAAAAAEBIlAUAAAAAAAAIibIAAAAAAAAAIVEWAAAAAAAAICTKAgAAAAAAAIREWQAAAAAAAICQ\n",
       "KAsAAAAAAAAQEmUBAAAAAAAAQqIsAAAAAAAAQEiUBQAAAAAAAAiJsgAAAAAAAAAhURYAAAAAAAAg\n",
       "JMoCAAAAAAAAhERZAAAAAAAAgJAoCwAAAAAAABASZQEAAAAAAABCoiwAAAAAAABASJQFAAAAAAAA\n",
       "CImyAAAAAAAAACFRFgAAAAAAACAkygIAAAAAAACERFkAAAAAAACAkCgLAAAAAAAAEBJlAQAAAAAA\n",
       "AEKiLAAAAAAAAEBIlAUAAAAAAAAIibIAAAAAAAAAIVEWAAAAAAAAICTKAgAAAAAAAIREWQAAAAAA\n",
       "AICQKAsAAAAAAAAQEmUBAAAAAAAAQqIsAAAAAAAAQEiUBQAAAAAAAAiJsgAAAAAAAAAhURYAAAAA\n",
       "AAAgJMoCAAAAAAAAhERZAAAAAAAAgJAoCwAAAAAAABASZQEAAAAAAABCoiwAAAAAAABASJQFAAAA\n",
       "AAAACImyAAAAAAAAACFRFgAAAAAAACAkygIAAAAAAACERFkAAAAAAACAkCgLAAAAAAAAEBJlAQAA\n",
       "AAAAAEKiLAAAAAAAAEBIlAUAAAAAAAAIibIAAAAAAAAAIVEWAAAAAAAAICTKAgAAAAAAAIREWQAA\n",
       "AAAAAICQKAsAAAAAAAAQEmUBAAAAAAAAQqIsAAAAAAAAQEiUBQAAAAAAAAiJsgAAAAAAAAAhURYA\n",
       "AAAAAAAgJMoCAAAAAAAAhERZAAAAAAAAgJAoCwAAAAAAABASZQEAAAAAAABCoiwAAAAAAABASJQF\n",
       "AAAAAAAACImyAAAAAAAAACFRFgAAAAAAACAkygIAAAAAAACERFkAAAAAAACAkCgLAAAAAAAAEBJl\n",
       "AQAAAAAAAEKiLAAAAAAAAEBIlAUAAAAAAAAIibIAAAAAAAAAIVEWAAAAAAAAICTKAgAAAAAAAIRE\n",
       "WQAAAAAAAICQKAsAAAAAAAAQEmUBAAAAAAAAQqIsAAAAAAAAQEiUBQAAAAAAAAiJsgAAAAAAAAAh\n",
       "URYAAAAAAAAgJMoCAAAAAAAAhERZAAAAAAAAgJAoCwAAAAAAABASZQEAAAAAAABCoiwAAAAAAABA\n",
       "SJQFAAAAAAAACImyAAAAAAAAACFRFgAAAAAAACAkygIAAAAAAACERFkAAAAAAACAkCgLAAAAAAAA\n",
       "EBJlAQAAAAAAAEKiLAAAAAAAAEBIlAUAAAAAAAAIibIAAAAAAAAAIVEWAAAAAAAAICTKAgAAAAAA\n",
       "AIREWQAAAAAAAICQKAsAAAAAAAAQEmUBAAAAAAAAQqIsAAAAAAAAQEiUBQAAAAAAAAiJsgAAAAAA\n",
       "AAAhURYAAAAAAAAgJMoCAAAAAAAAhERZAAAAAAAAgJAoCwAAAAAAABASZQEAAAAAAABCoiwAAAAA\n",
       "AABASJQFAAAAAAAACImyAAAAAAAAACFRFgAAAAAAACAkygIAAAAAAACERFkAAAAAAACAkCgLAAAA\n",
       "AAAAEBJlAQAAAAAAAEKiLAAAAAAAAEBIlAUAAAAAAAAIibIAAAAAAAAAIVEWAAAAAAAAICTKAgAA\n",
       "AAAAAIREWQAAAAAAAICQKAsAAAAAAAAQEmUBAAAAAAAAQqIsAAAAAAAAQEiUBQAAAAAAAAiJsgAA\n",
       "AAAAAAAhURYAAAAAAAAgJMoCAAAAAAAAhERZAAAAAAAAgJAoCwAAAAAAABASZQEAAAAAAABCoiwA\n",
       "AAAAAABASJQFAAAAAAAACImyAAAAAAAAACFRFgAAAAAAACAkygIAAAAAAACERFkAAAAAAACAkCgL\n",
       "AAAAAAAAEBJlAQAAAAAAAEKiLAAAAAAAAEBIlAUAAAAAAAAIibIAAAAAAAAAIVEWAAAAAAAAICTK\n",
       "AgAAAAAAAIREWQAAAAAAAICQKAsAAAAAAAAQEmUBAAAAAAAAQqIsAAAAAAAAQEiUBQAAAAAAAAiJ\n",
       "sgAAAAAAAAAhURYAAAAAAAAgJMoCAAAAAAAAhERZAAAAAAAAgJAoCwAAAAAAABASZQEAAAAAAABC\n",
       "oiwAAAAAAABASJQFAAAAAAAACImyAAAAAAAAACFRFgAAAAAAACAkygIAAAAAAACERFkAAAAAAACA\n",
       "kCgLAAAAAAAAEBJlAQAAAAAAAEKiLAAAAAAAAEBIlAUAAAAAAAAIibIAAAAAAAAAIVEWAAAAAAAA\n",
       "ICTKAgAAAAAAAIREWQAAAAAAAICQKAsAAAAAAAAQEmUBAAAAAAAAQqIsAAAAAAAAQEiUBQAAAAAA\n",
       "AAiJsgAAAAAAAAAhURYAAAAAAAAgJMoCAAAAAAAAhERZAAAAAAAAgJAoCwAAAAAAABASZQEAAAAA\n",
       "AABCoiwAAAAAAABASJQFAAAAAAAACImyAAAAAAAAACFRFgAAAAAAACAkygIAAAAAAACERFkAAAAA\n",
       "AACAkCgLAAAAAAAAEBJlAQAAAAAAAEKiLAAAAAAAAEBIlAUAAAAAAAAIibIAAAAAAAAAIVEWAAAA\n",
       "AAAAICTKAgAAAAAAAIREWQAAAAAAAICQKAsAAAAAAAAQEmUBAAAAAAAAQqIsAAAAAAAAQEiUBQAA\n",
       "AAAAAAiJsgAAAAAAAAAhURYAAAAAAAAgJMoCAAAAAAAAhERZAAAAAAAAgJAoCwAAAAAAABASZQEA\n",
       "AAAAAABCoiwAAAAAAABASJQFAAAAAAAACImyAAAAAAAAACFRFgAAAAAAACAkygIAAAAAAACERFkA\n",
       "AAAAAACAkCgLAAAAAAAAEBJlAQAAAAAAAEKiLAAAAAAAAEBIlAUAAAAAAAAIibIAAAAAAAAAIVEW\n",
       "AAAAAAAAICTKAgAAAAAAAIREWQAAAAAAAICQKAsAAAAAAAAQEmUBAAAAAAAAQqIsAAAAAAAAQEiU\n",
       "BQAAAAAAAAiJsgAAAAAAAAAhURYAAAAAAAAgJMoCAAAAAAAAhERZAAAAAAAAgJAoCwAAAAAAABAS\n",
       "ZQEAAAAAAABCoiwAAAAAAABASJQFAAAAAAAACImyAAAAAAAAACFRFgAAAAAAACAkygIAAAAAAACE\n",
       "RFkAAAAAAACAkCgLAAAAAAAAEBJlAQAAAAAAAEKiLAAAAAAAAEBIlAUAAAAAAAAIibIAAAAAAAAA\n",
       "IVEWAAAAAAAAICTKAgAAAAAAAIREWQAAAAAAAICQKAsAAAAAAAAQEmUBAAAAAAAAQqIsAAAAAAAA\n",
       "QEiUBQAAAAAAAAiJsgAAAAAAAAAhURYAAAAAAAAgJMoCAAAAAAAAhERZAAAAAAAAgJAoCwAAAAAA\n",
       "ABASZQEAAAAAAABCoiwAAAAAAABASJQFAAAAAAAACImyAAAAAAAAACFRFgAAAAAAACAkygIAAAAA\n",
       "AACERFkAAAAAAACAkCgLAAAAAAAAEBJlAQAAAAAAAEKiLAAAAAAAAEBIlAUAAAAAAAAIibIAAAAA\n",
       "AAAAIVEWAAAAAAAAICTKAgAAAAAAALzYs2MBAAAAgEH+1qPYVxqNpCwAAAAAAADASMoCAAAAAAAA\n",
       "jKQsAAAAAAAAwEjKAgAAAAAAAIykLAAAAAAAAMBIygIAAAAAAACMpCwAAAAAAADASMoCAAAAAAAA\n",
       "jKQsAAAAAAAAwEjKAgAAAAAAAIykLAAAAAAAAMBIygIAAAAAAACMpCwAAAAAAADASMoCAAAAAAAA\n",
       "jKQsAAAAAAAAwEjKAgAAAAAAAIykLAAAAAAAAMBIygIAAAAAAACMpCwAAAAAAADASMoCAAAAAAAA\n",
       "jKQsAAAAAAAAwEjKAgAAAAAAAIykLAAAAAAAAMBIygIAAAAAAACMpCwAAAAAAADASMoCAAAAAAAA\n",
       "jKQsAAAAAAAAwEjKAgAAAAAAAIykLAAAAAAAAMBIygIAAAAAAACMpCwAAAAAAADASMoCAAAAAAAA\n",
       "jKQsAAAAAAAAwEjKAgAAAAAAAIykLAAAAAAAAMBIygIAAAAAAACMpCwAAAAAAADASMoCAAAAAAAA\n",
       "jKQsAAAAAAAAwEjKAgAAAAAAAIykLAAAAAAAAMBIygIAAAAAAACMpCwAAAAAAADASMoCAAAAAAAA\n",
       "jKQsAAAAAAAAwEjKAgAAAAAAAIykLAAAAAAAAMBIygIAAAAAAACMpCwAAAAAAADASMoCAAAAAAAA\n",
       "jKQsAAAAAAAAwEjKAgAAAAAAAIykLAAAAAAAAMBIygIAAAAAAACMpCwAAAAAAADASMoCAAAAAAAA\n",
       "jKQsAAAAAAAAwEjKAgAAAAAAAIykLAAAAAAAAMBIygIAAAAAAACMpCwAAAAAAADASMoCAAAAAAAA\n",
       "jKQsAAAAAAAAwEjKAgAAAAAAAIykLAAAAAAAAMBIygIAAAAAAACMpCwAAAAAAADASMoCAAAAAAAA\n",
       "jKQsAAAAAAAAwEjKAgAAAAAAAIykLAAAAAAAAMBIygIAAAAAAACMpCwAAAAAAADASMoCAAAAAAAA\n",
       "jKQsAAAAAAAAwEjKAgAAAAAAAIykLAAAAAAAAMBIygIAAAAAAACMpCwAAAAAAADASMoCAAAAAAAA\n",
       "jKQsAAAAAAAAwEjKAgAAAAAAAIykLAAAAAAAAMBIygIAAAAAAACMpCwAAAAAAADASMoCAAAAAAAA\n",
       "jKQsAAAAAAAAwEjKAgAAAAAAAIykLAAAAAAAAMBIygIAAAAAAACMpCwAAAAAAADASMoCAAAAAAAA\n",
       "jKQsAAAAAAAAwEjKAgAAAAAAAIykLAAAAAAAAMBIygIAAAAAAACMpCwAAAAAAADASMoCAAAAAAAA\n",
       "jKQsAAAAAAAAwEjKAgAAAAAAAIykLAAAAAAAAMBIygIAAAAAAACMpCwAAAAAAADASMoCAAAAAAAA\n",
       "jKQsAAAAAAAAwEjKAgAAAAAAAIykLAAAAAAAAMBIygIAAAAAAACMpCwAAAAAAADASMoCAAAAAAAA\n",
       "jKQsAAAAAAAAwEjKAgAAAAAAAIykLAAAAAAAAMBIygIAAAAAAACMpCwAAAAAAADASMoCAAAAAAAA\n",
       "jKQsAAAAAAAAwEjKAgAAAAAAAIykLAAAAAAAAMBIygIAAAAAAACMpCwAAAAAAADASMoCAAAAAAAA\n",
       "jKQsAAAAAAAAwEjKAgAAAAAAAIykLAAAAAAAAMBIygIAAAAAAACMpCwAAAAAAADASMoCAAAAAAAA\n",
       "jKQsAAAAAAAAwEjKAgAAAAAAAIykLAAAAAAAAMBIygIAAAAAAACMpCwAAAAAAADASMoCAAAAAAAA\n",
       "jKQsAAAAAAAAwEjKAgAAAAAAAIykLAAAAAAAAMBIygIAAAAAAACMpCwAAAAAAADASMoCAAAAAAAA\n",
       "jKQsAAAAAAAAwEjKAgAAAAAAAIykLAAAAAAAAMBIygIAAAAAAACMpCwAAAAAAADASMoCAAAAAAAA\n",
       "jKQsAAAAAAAAwEjKAgAAAAAAAIykLAAAAAAAAMBIygIAAAAAAACMpCwAAAAAAADASMoCAAAAAAAA\n",
       "jKQsAAAAAAAAwEjKAgAAAAAAAIykLAAAAAAAAMBIygIAAAAAAACMpCwAAAAAAADASMoCAAAAAAAA\n",
       "jKQsAAAAAAAAwEjKAgAAAAAAAIykLAAAAAAAAMBIygIAAAAAAACMpCwAAAAAAADASMoCAAAAAAAA\n",
       "jKQsAAAAAAAAwEjKAgAAAAAAAIykLAAAAAAAAMBIygIAAAAAAACMpCwAAAAAAADASMoCAAAAAAAA\n",
       "jKQsAAAAAAAAwEjKAgAAAAAAAIykLAAAAAAAAMBIygIAAAAAAACMpCwAAAAAAADASMoCAAAAAAAA\n",
       "jKQsAAAAAAAAwEjKAgAAAAAAAIykLAAAAAAAAMBIygIAAAAAAACMpCwAAAAAAADASMoCAAAAAAAA\n",
       "jKQsAAAAAAAAwEjKAgAAAAAAAIykLAAAAAAAAMBIygIAAAAAAACMpCwAAAAAAADASMoCAAAAAAAA\n",
       "jKQsAAAAAAAAwEjKAgAAAAAAAIykLAAAAAAAAMBIygIAAAAAAACMpCwAAAAAAADASMoCAAAAAAAA\n",
       "jKQsAAAAAAAAwEjKAgAAAAAAAIykLAAAAAAAAMBIygIAAAAAAACMpCwAAAAAAADASMoCAAAAAAAA\n",
       "jKQsAAAAAAAAwEjKAgAAAAAAAIykLAAAAAAAAMBIygIAAAAAAACMpCwAAAAAAADASMoCAAAAAAAA\n",
       "jKQsAAAAAAAAwEjKAgAAAAAAAIykLAAAAAAAAMBIygIAAAAAAACMpCwAAAAAAADASMoCAAAAAAAA\n",
       "jKQsAAAAAAAAwEjKAgAAAAAAAIykLAAAAAAAAMBIygIAAAAAAACMpCwAAAAAAADASMoCAAAAAAAA\n",
       "jKQsAAAAAAAAwEjKAgAAAAAAAIykLAAAAAAAAMBIygIAAAAAAACMpCwAAAAAAADASMoCAAAAAAAA\n",
       "jKQsAAAAAAAAwEjKAgAAAAAAAIykLAAAAAAAAMBIygIAAAAAAACMpCwAAAAAAADASMoCAAAAAAAA\n",
       "jKQsAAAAAAAAwEjKAgAAAAAAAIykLAAAAAAAAMBIygIAAAAAAACMpCwAAAAAAADASMoCAAAAAAAA\n",
       "jKQsAAAAAAAAwEjKAgAAAAAAAIykLAAAAAAAAMBIygIAAAAAAACMpCwAAAAAAADASMoCAAAAAAAA\n",
       "jKQsAAAAAAAAwEjKAgAAAAAAAIykLAAAAAAAAMBIygIAAAAAAACMpCwAAAAAAADASMoCAAAAAAAA\n",
       "jKQsAAAAAAAAwEjKAgAAAAAAAIykLAAAAAAAAMBIygIAAAAAAACMpCwAAAAAAADASMoCAAAAAAAA\n",
       "jKQsAAAAAAAAwEjKAgAAAAAAAIykLAAAAAAAAMBIygIAAAAAAACMpCwAAAAAAADASMoCAAAAAAAA\n",
       "jKQsAAAAAAAAwEjKAgAAAAAAAIykLAAAAAAAAMBIygIAAAAAAACMpCwAAAAAAADASMoCAAAAAAAA\n",
       "jKQsAAAAAAAAwEjKAgAAAAAAAIykLAAAAAAAAMBIygIAAAAAAACMpCwAAAAAAADASMoCAAAAAAAA\n",
       "jKQsAAAAAAAAwEjKAgAAAAAAAIykLAAAAAAAAMBIygIAAAAAAACMpCwAAAAAAADASMoCAAAAAAAA\n",
       "jKQsAAAAAAAAwEjKAgAAAAAAAIykLAAAAAAAAMBIygIAAAAAAACMpCwAAAAAAADASMoCAAAAAAAA\n",
       "jKQsAAAAAAAAwEjKAgAAAAAAAIykLAAAAAAAAMBIygIAAAAAAACMpCwAAAAAAADASMoCAAAAAAAA\n",
       "jKQsAAAAAAAAwEjKAgAAAAAAAIykLAAAAAAAAMBIygIAAAAAAACMpCwAAAAAAADASMoCAAAAAAAA\n",
       "jKQsAAAAAAAAwEjKAgAAAAAAAIykLAAAAFL45WUAABEFSURBVAAAAMBIygIAAAAAAACMpCwAAAAA\n",
       "AADASMoCAAAAAAAAjKQsAAAAAAAAwEjKAgAAAAAAAIykLAAAAAAAAMBIygIAAAAAAACMpCwAAAAA\n",
       "AADASMoCAAAAAAAAjKQsAAAAAAAAwEjKAgAAAAAAAIykLAAAAAAAAMBIygIAAAAAAACMpCwAAAAA\n",
       "AADASMoCAAAAAAAAjKQsAAAAAAAAwEjKAgAAAAAAAIykLAAAAAAAAMBIygIAAAAAAACMpCwAAAAA\n",
       "AADASMoCAAAAAAAAjKQsAAAAAAAAwEjKAgAAAAAAAIykLAAAAAAAAMBIygIAAAAAAACMpCwAAAAA\n",
       "AADASMoCAAAAAAAAjKQsAAAAAAAAwEjKAgAAAAAAAIykLAAAAAAAAMBIygIAAAAAAACMpCwAAAAA\n",
       "AADASMoCAAAAAAAAjKQsAAAAAAAAwEjKAgAAAAAAAIykLAAAAAAAAMBIygIAAAAAAACMpCwAAAAA\n",
       "AADASMoCAAAAAAAAjKQsAAAAAAAAwEjKAgAAAAAAAIykLAAAAAAAAMBIygIAAAAAAACMpCwAAAAA\n",
       "AADASMoCAAAAAAAAjKQsAAAAAAAAwEjKAgAAAAAAAIykLAAAAAAAAMBIygIAAAAAAACMpCwAAAAA\n",
       "AADASMoCAAAAAAAAjKQsAAAAAAAAwEjKAgAAAAAAAIykLAAAAAAAAMBIygIAAAAAAACMpCwAAAAA\n",
       "AADASMoCAAAAAAAAjKQsAAAAAAAAwEjKAgAAAAAAAIykLAAAAAAAAMBIygIAAAAAAACMpCwAAAAA\n",
       "AADASMoCAAAAAAAAjKQsAAAAAAAAwEjKAgAAAAAAAIykLAAAAAAAAMBIygIAAAAAAACMpCwAAAAA\n",
       "AADASMoCAAAAAAAAjKQsAAAAAAAAwEjKAgAAAAAAAIykLAAAAAAAAMBIygIAAAAAAACMpCwAAAAA\n",
       "AADASMoCAAAAAAAAjKQsAAAAAAAAwEjKAgAAAAAAAIykLAAAAAAAAMBIygIAAAAAAACMpCwAAAAA\n",
       "AADASMoCAAAAAAAAjKQsAAAAAAAAwEjKAgAAAAAAAIykLAAAAAAAAMBIygIAAAAAAACMpCwAAAAA\n",
       "AADASMoCAAAAAAAAjKQsAAAAAAAAwEjKAgAAAAAAAIykLAAAAAAAAMBIygIAAAAAAACMpCwAAAAA\n",
       "AADASMoCAAAAAAAAjKQsAAAAAAAAwEjKAgAAAAAAAIykLAAAAAAAAMBIygIAAAAAAACMpCwAAAAA\n",
       "AADASMoCAAAAAAAAjKQsAAAAAAAAwEjKAgAAAAAAAIykLAAAAAAAAMBIygIAAAAAAACMpCwAAAAA\n",
       "AADASMoCAAAAAAAAjKQsAAAAAAAAwEjKAgAAAAAAAIykLAAAAAAAAMBIygIAAAAAAACMpCwAAAAA\n",
       "AADASMoCAAAAAAAAjKQsAAAAAAAAwEjKAgAAAAAAAIykLAAAAAAAAMBIygIAAAAAAACMpCwAAAAA\n",
       "AADASMoCAAAAAAAAjKQsAAAAAAAAwEjKAgAAAAAAAIykLAAAAAAAAMBIygIAAAAAAACMpCwAAAAA\n",
       "AADASMoCAAAAAAAAjKQsAAAAAAAAwEjKAgAAAAAAAIykLAAAAAAAAMBIygIAAAAAAACMpCwAAAAA\n",
       "AADASMoCAAAAAAAAjKQsAAAAAAAAwEjKAgAAAAAAAIykLAAAAAAAAMBIygIAAAAAAACMpCwAAAAA\n",
       "AADASMoCAAAAAAAAjKQsAAAAAAAAwEjKAgAAAAAAAIykLAAAAAAAAMBIygIAAAAAAACMpCwAAAAA\n",
       "AADASMoCAAAAAAAAjKQsAAAAAAAAwEjKAgAAAAAAAIykLAAAAAAAAMBIygIAAAAAAACMpCwAAAAA\n",
       "AADASMoCAAAAAAAAjKQsAAAAAAAAwEjKAgAAAAAAAIykLAAAAAAAAMBIygIAAAAAAACMpCwAAAAA\n",
       "AADASMoCAAAAAAAAjKQsAAAAAAAAwEjKAgAAAAAAAIykLAAAAAAAAMBIygIAAAAAAACMpCwAAAAA\n",
       "AADASMoCAAAAAAAAjKQsAAAAAAAAwEjKAgAAAAAAAIykLAAAAAAAAMBIygIAAAAAAACMpCwAAAAA\n",
       "AADASMoCAAAAAAAAjKQsAAAAAAAAwEjKAgAAAAAAAIykLAAAAAAAAMBIygIAAAAAAACMpCwAAAAA\n",
       "AADASMoCAAAAAAAAjKQsAAAAAAAAwEjKAgAAAAAAAIykLAAAAAAAAMBIygIAAAAAAACMpCwAAAAA\n",
       "AADASMoCAAAAAAAAjKQsAAAAAAAAwEjKAgAAAAAAAIykLAAAAAAAAMBIygIAAAAAAACMpCwAAAAA\n",
       "AADASMoCAAAAAAAAjKQsAAAAAAAAwEjKAgAAAAAAAIykLAAAAAAAAMBIygIAAAAAAACMpCwAAAAA\n",
       "AADASMoCAAAAAAAAjKQsAAAAAAAAwEjKAgAAAAAAAIykLAAAAAAAAMBIygIAAAAAAACMpCwAAAAA\n",
       "AADASMoCAAAAAAAAjKQsAAAAAAAAwEjKAgAAAAAAAIykLAAAAAAAAMBIygIAAAAAAACMpCwAAAAA\n",
       "AADASMoCAAAAAAAAjKQsAAAAAAAAwEjKAgAAAAAAAIykLAAAAAAAAMBIygIAAAAAAACMpCwAAAAA\n",
       "AADASMoCAAAAAAAAjKQsAAAAAAAAwEjKAgAAAAAAAIykLAAAAAAAAMBIygIAAAAAAACMpCwAAAAA\n",
       "AADASMoCAAAAAAAAjKQsAAAAAAAAwEjKAgAAAAAAAIykLAAAAAAAAMBIygIAAAAAAACMpCwAAAAA\n",
       "AADASMoCAAAAAAAAjKQsAAAAAAAAwEjKAgAAAAAAAIykLAAAAAAAAMBIygIAAAAAAACMpCwAAAAA\n",
       "AADASMoCAAAAAAAAjKQsAAAAAAAAwEjKAgAAAAAAAIykLAAAAAAAAMBIygIAAAAAAACMpCwAAAAA\n",
       "AADASMoCAAAAAAAAjKQsAAAAAAAAwEjKAgAAAAAAAIykLAAAAAAAAMBIygIAAAAAAACMpCwAAAAA\n",
       "AADASMoCAAAAAAAAjKQsAAAAAAAAwEjKAgAAAAAAAIykLAAAAAAAAMBIygIAAAAAAACMpCwAAAAA\n",
       "AADASMoCAAAAAAAAjKQsAAAAAAAAwEjKAgAAAAAAAIykLAAAAAAAAMBIygIAAAAAAACMpCy1Z8cC\n",
       "AAAAAIP8rUexrzQCAAAAAAAARlIWAAAAAAAAYCRlAQAAAAAAAEZSFgAAAAAAAGAkZQEAAAAAAABG\n",
       "UhYAAAAAAABgJGUBAAAAAAAARlIWAAAAAAAAYCRlAQAAAAAAAEZSFgAAAAAAAGAkZQEAAAAAAABG\n",
       "UhYAAAAAAABgJGUBAAAAAAAARlIWAAAAAAAAYCRlAQAAAAAAAEZSFgAAAAAAAGAkZQEAAAAAAABG\n",
       "UhYAAAAAAABgJGUBAAAAAAAARlIWAAAAAAAAYCRlAQAAAAAAAEZSFgAAAAAAAGAkZQEAAAAAAABG\n",
       "UhYAAAAAAABgJGUBAAAAAAAARlIWAAAAAAAAYCRlAQAAAAAAAEZSFgAAAAAAAGAkZQEAAAAAAABG\n",
       "UhYAAAAAAABgJGUBAAAAAAAARlIWAAAAAAAAYCRlAQAAAAAAAEZSFgAAAAAAAGAkZQEAAAAAAABG\n",
       "UhYAAAAAAABgJGUBAAAAAAAARlIWAAAAAAAAYCRlAQAAAAAAAEZSFgAAAAAAAGAkZQEAAAAAAABG\n",
       "UhYAAAAAAABgJGUBAAAAAAAARlIWAAAAAAAAYCRlAQAAAAAAAEZSFgAAAAAAAGAkZQEAAAAAAABG\n",
       "UhYAAAAAAABgJGUBAAAAAAAARlIWAAAAAAAAYCRlAQAAAAAAAEZSFgAAAAAAAGAkZQEAAAAAAABG\n",
       "UhYAAAAAAABgJGUBAAAAAAAARlIWAAAAAAAAYCRlAQAAAAAAAEZSFgAAAAAAAGAkZQEAAAAAAABG\n",
       "UhYAAAAAAABgJGUBAAAAAAAARlIWAAAAAAAAYCRlAQAAAAAAAEZSFgAAAAAAAGAkZQEAAAAAAABG\n",
       "UhYAAAAAAABgJGUBAAAAAAAARlIWAAAAAAAAYCRlAQAAAAAAAEZSFgAAAAAAAGAkZQEAAAAAAABG\n",
       "UhYAAAAAAABgJGUBAAAAAAAARlIWAAAAAAAAYCRlAQAAAAAAAEZSFgAAAAAAAGAkZQEAAAAAAABG\n",
       "UhYAAAAAAABgJGUBAAAAAAAARlIWAAAAAAAAYCRlAQAAAAAAAEZSFgAAAAAAAGAkZQEAAAAAAABG\n",
       "UhYAAAAAAABgJGUBAAAAAAAARlIWAAAAAAAAYCRlAQAAAAAAAEZSFgAAAAAAAGAkZQEAAAAAAABG\n",
       "UhYAAAAAAABgJGUBAAAAAAAARlIWAAAAAAAAYCRlAQAAAAAAAEZSFgAAAAAAAGAkZQEAAAAAAABG\n",
       "UhYAAAAAAABgJGUBAAAAAAAARlIWAAAAAAAAYCRlAQAAAAAAAEZSFgAAAAAAAGAkZQEAAAAAAABG\n",
       "UhYAAAAAAABgJGUBAAAAAAAARlIWAAAAAAAAYCRlAQAAAAAAAEZSFgAAAAAAAGAkZQEAAAAAAABG\n",
       "UhYAAAAAAABgJGUBAAAAAAAARlIWAAAAAAAAYCRlAQAAAAAAAEZSFgAAAAAAAGAkZQEAAAAAAABG\n",
       "UhYAAAAAAABgJGUBAAAAAAAARlIWAAAAAAAAYCRlAQAAAAAAAEZSFgAAAAAAAGAkZQEAAAAAAABG\n",
       "UhYAAAAAAABgJGUBAAAAAAAARlIWAAAAAAAAYCRlAQAAAAAAAEZSFgAAAAAAAGAkZQEAAAAAAABG\n",
       "UhYAAAAAAABgJGUBAAAAAAAARlIWAAAAAAAAYCRlAQAAAAAAAEZSFgAAAAAAAGAkZQEAAAAAAABG\n",
       "UhYAAAAAAABgJGUBAAAAAAAARlIWAAAAAAAAYCRlAQAAAAAAAEZSFgAAAAAAAGAkZQEAAAAAAABG\n",
       "UhYAAAAAAABgJGUBAAAAAAAARlIWAAAAAAAAYCRlAQAAAAAAAEZSFgAAAAAAAGAkZQEAAAAAAABG\n",
       "UhYAAAAAAABgJGUBAAAAAAAARlIWAAAAAAAAYCRlAQAAAAAAAEZSFgAAAAAAAGAkZQEAAAAAAABG\n",
       "UhYAAAAAAABgJGUBAAAAAAAARlIWAAAAAAAAYCRlAQAAAAAAAEZSFgAAAAAAAGAkZQEAAAAAAABG\n",
       "UhYAAAAAAABgJGUBAAAAAAAARlIWAAAAAAAAYCRlAQAAAAAAAEZSFgAAAAAAAGAkZQEAAAAAAABG\n",
       "UhYAAAAAAABgJGUBAAAAAAAARlIWAAAAAAAAYCRlAQAAAAAAAEZSFgAAAAAAAGAkZQEAAAAAAABG\n",
       "UhYAAAAAAABgJGUBAAAAAAAARlIWAAAAAAAAYCRlAQAAAAAAAEZSFgAAAAAAAGAkZQEAAAAAAABG\n",
       "UhYAAAAAAABgJGUBAAAAAAAARlIWAAAAAAAAYCRlAQAAAAAAAEZSFgAAAAAAAGAkZQEAAAAAAABG\n",
       "UhYAAAAAAABgJGUBAAAAAAAARlIWAAAAAAAAYCRlAQAAAAAAAEZSFgAAAAAAAGAkZQEAAAAAAABG\n",
       "UhYAAAAAAABgJGUBAAAAAAAARlIWAAAAAAAAYCRlAQAAAAAAAEZSFgAAAAAAAGAkZQEAAAAAAABG\n",
       "UhYAAAAAAABgJGUBAAAAAAAARlIWAAAAAAAAYCRlAQAAAAAAAEZSFgAAAAAAAGAkZQEAAAAAAABG\n",
       "UhYAAAAAAABgJGUBAAAAAAAARlIWAAAAAAAAYCRlAQAAAAAAAEZSFgAAAAAAAGAkZQEAAAAAAABG\n",
       "UhYAAAAAAABgJGUBAAAAAAAARlIWAAAAAAAAYCRlAQAAAAAAAEZSFgAAAAAAAGAkZQEAAAAAAABG\n",
       "ASH6FMY/rJ7pAAAAAElFTkSuQmCC\n",
       "\" transform=\"translate(220, 123)\"/>\n",
       "</g>\n",
       "<defs>\n",
       "  <clipPath id=\"clip983\">\n",
       "    <rect x=\"2160\" y=\"123\" width=\"73\" height=\"1301\"/>\n",
       "  </clipPath>\n",
       "</defs>\n",
       "<g clip-path=\"url(#clip983)\">\n",
       "<image width=\"72\" height=\"1300\" xlink:href=\"data:image/png;base64,\n",
       "iVBORw0KGgoAAAANSUhEUgAAAEgAAAUUCAYAAAB8mVRsAAALUklEQVR4nO3dwY3kRhBFQbaQ/lsh\n",
       "L6WtkgXKdyQPERYMHj641dWc2d+/5+/78L/+evsH+DqBgkBBoCBQmHP/fftn+DQLCgIFgYJAYe79\n",
       "8/bP8GkWFAQKAgWBgpN0sKAgUBAoCBTmekivLCgIFAQKAoW5x0N6Y0FBoCBQECg4SQcLCgIFgYJA\n",
       "wUM6WFAQKAgUBAquO4IFBYGCQEGgMI+T9MqCgkBBoCBQcN0RLCgIFAQKAoV5XHesLCgIFAQKAoV5\n",
       "zj9v/wyfZkFBoCBQECgIFFzaBwsKAgWBgkDBfVCwoCBQECgIFDykgwUFgYJAQaDguiNYUBAoCBQE\n",
       "CvNzkl5ZUBAoCBQECvMcf3B7Y0FBoCBQECg4SQcLCgIFgYJAwUk6WFAQKAgUBAre7ggWFAQKAgWB\n",
       "wvycpFcWFAQKAgWBglfwggUFgYJAQaDgJB0sKAgUBAoCBV8cBgsKAgWBgkBBoOCjRrCgIFAQKAgU\n",
       "fNQIFhQECgIFgYKTdLCgIFAQKAgU5jnn7Z/h0ywoCBQECgIFJ+lgQUGgIFAQKLiTDhYUBAoCBYGC\n",
       "h3SwoCBQECgIFObnTnplQUGgIFAQKDhJBwsKAgWBgkDB2x3BgoJAQaAgUHDdESwoCBQECgIF1x3B\n",
       "goJAQaAgUHDdESwoCBQECgIFgYJ/xYIFBYGCQEGg4FcygwUFgYJAQaDgJB0sKAgUBAoCBQ/pYEFB\n",
       "oCBQECh4SAcLCgIFgYJAwUM6WFAQKAgUBArzXA/pjQUFgYJAQaDgJB0sKAgUBAoCBQ/pYEFBoCBQ\n",
       "ECh4SAcLCgIFgYJAYZ5z3/4ZPs2CgkBBoCBQcJIOFhQECgIFgYKTdLCgIFAQKAgUBAo+agQLCgIF\n",
       "gYJAwUeNYEFBoCBQECjM4yC9sqAgUBAoCBTmuU7SGwsKAgWBgkDBSTpYUBAoCBQECh7SwYKCQEGg\n",
       "IFAYf4BqZ0FBoCBQECg4SQcLCgIFgYJAwUM6WFAQKAgUBArznN/bP8OnWVAQKAgUBApzr4f0xoKC\n",
       "QEGgIFBw3REsKAgUBAoCBdcdwYKCQEGgIFAQKMw9Gm3UCQIFgYJAwUeNYEFBoCBQECjM45vVlQUF\n",
       "gYJAQaAw10l6ZUFBoCBQECjM4056pU4QKAgUBApO0sGCgkBBoCBQcCcdLCgIFAQKAgWv4AV1gkBB\n",
       "oCBQ8ApesKAgUBAoCBTcSQcLCgIFgYJAYe7VaKNOECgIFAQKrjuCBQWBgkBBoCBQcB8ULCgIFAQK\n",
       "AoV53Aet1AkCBYGCQMFJOlhQECgIFAQKHtLBgoJAQaAgUPArmcGCgkBBoCBQ8CuZQZ0gUBAoCBT8\n",
       "V8bBgoJAQaAgUHAnHSwoCBQECgIFf3A7qBMECgIFgYLrjmBBQaAgUBAouO4IFhQECgIFgYKTdLCg\n",
       "IFAQKAgUvIIX1AkCBYGCQEGg4KNGsKAgUBAoCBRc2gcLCgIFgYJAwUk6WFAQKAgUBAr+24hgQUGg\n",
       "IFAQKPgP2II6QaAgUBAouO4IFhQECgIFgYIvDoMFBYGCQEGg4CQdLCgIFAQKAoU5HtIrCwoCBYGC\n",
       "QMGvZAZ1gkBBoCBQcN0RLCgIFAQKAgUP6WBBQaAgUBAoeLsjWFAQKAgUBAoCBR81ggUFgYJAQaDg\n",
       "IR0sKAgUBAoCBb83H9QJAgWBgkBhjkv7lQUFgYJAQaDguiNYUBAoCBQECh7SwYKCQEGgIFDwkA4W\n",
       "FAQKAgWBgj9uEiwoCBQECgIFJ+lgQUGgIFAQKHhIBwsKAgWBgkDBe9JBnSBQECgIFLwnHSwoCBQE\n",
       "CgIF1x3BgoJAQaAgUBAo+FcsWFAQKAgUBAreUQwWFAQKAgWBgpN0sKAgUBAoCBTmPh7SGwsKAgWB\n",
       "gkDBdUewoCBQECgIFFx3BAsKAgWBgkDBSTpYUBAoCBQECk7SwYKCQEGgIFBwkg4WFAQKAgWBgpN0\n",
       "sKAgUBAoCBQ8pIMFBYGCQEGgMMd70isLCgIFgYJAwUk6WFAQKAgUBAoCBd+sBgsKAgWBgkBh7n37\n",
       "R/g2CwoCBYGCQMFJOlhQECgIFAQK/gJVsKAgUBAoCBScpIMFBYGCQEGg4PWXYEFBoCBQECh4kTxY\n",
       "UBAoCBQECt7uCBYUBAoCBYGCO+lgQUGgIFAQKLiTDhYUBAoCBYGCO+lgQUGgIFAQKLjuCBYUBAoC\n",
       "BYGCQME3q8GCgkBBoCBQcB8ULCgIFAQKAgXfrAYLCgIFgYJAYc7bP8HHWVAQKAgUBApO0sGCgkBB\n",
       "oCBQ8PpLsKAgUBAoCBRcdwQLCgIFgYJAwXVHsKAgUBAoCBScpIMFBYGCQEGg4CQdLCgIFAQKAgVf\n",
       "HAYLCgIFgYJAYfxW+M6CgkBBoCBQcJIOFhQECgIFgYJAwTerwYKCQEGgIFDwzWqwoCBQECgIFJyk\n",
       "gwUFgYJAQaDgJB0sKAgUBAoChTnef1lZUBAoCBQECq47ggUFgYJAQaDguiNYUBAoCBQECk7SwYKC\n",
       "QEGgIFDwP/UGCwoCBYGCQMH/1BssKAgUBAoCBW93BAsKAgWBgkDBX6AKFhQECgIFgYK/QBUsKAgU\n",
       "BAoCBYGCb1aDBQWBgkBBoOAdxWBBQaAgUBAo+G2fYEFBoCBQECg4SQcLCgIFgYJAwTuKwYKCQEGg\n",
       "IFDwjmKwoCBQECgIFJykgwUFgYJAQaDgFbxgQUGgIFAQKPjjJsGCgkBBoCBQcN0RLCgIFAQKAgVf\n",
       "HAYLCgIFgYJAwUk6WFAQKAgUBApO0sGCgkBBoCBQECj4qBEsKAgUBAoCBQ/pYEFBoCBQECi4DwoW\n",
       "FAQKAgWBgpN0sKAgUBAoCBScpIMFBYGCQEGg4CQdLCgIFAQKAgV/3CRYUBAoCBQECv5XhGBBQaAg\n",
       "UBAouO4IFhQECgIFgcLcx1N6Y0FBoCBQECg4SQcLCgIFgYJAwReHwYKCQEGgIFDwxWGwoCBQECgI\n",
       "FAQK7oOCBQWBgkBBoOCb1WBBQaAgUBAoOEkHCwoCBYGCQMEfNwkWFAQKAgWBwhzvv6wsKAgUBAoC\n",
       "Ba+/BAsKAgWBgkBhrpP0yoKCQEGgIFBwkg4WFAQKAgWBgjvpYEFBoCBQECh4uyNYUBAoCBQECnP8\n",
       "MsvKgoJAQaAgUHDdESwoCBQECgIFgYLfmw8WFAQKAgWBgtdfggUFgYJAQaDg0j5YUBAoCBQECq47\n",
       "ggUFgYJAQaAw53HhsbGgIFAQKAgUXHcECwoCBYGCQMFDOlhQECgIFAQK7qSDBQWBgkBBoOBOOlhQ\n",
       "ECgIFAQKc35O0hsLCgIFgYJAwUk6WFAQKAgUBApzPaRXFhQECgIFgYKTdLCgIFAQKAgUBApzfv4V\n",
       "21hQECgIFAQKPmoECwoCBYGCQMGlfbCgIFAQKAgUnKSDBQWBgkBBoOAhHSwoCBQECgIFXxwGCwoC\n",
       "BYGCQGHu8+ftn+HTLCgIFAQKAgXXHcGCgkBBoCBQ8HZHsKAgUBAoCBTmXNcdGwsKAgWBgkDBSTpY\n",
       "UBAoCBQECnN8cbiyoCBQECgIFJykgwUFgYJAQaAgUPBRI1hQECgIFAQKc6+PGhsLCgIFgYJAwX1Q\n",
       "sKAgUBAoCBS8oxgsKAgUBAoCBSfpYEFBoCBQECjMdZJeWVAQKAgUBApO0sGCgkBBoCBQmOPtjpUF\n",
       "BYGCQEGg4G+5BgsKAgWBgkDBe9LBgoJAQaAgUHAnHSwoCBQECgIFJ+lgQUGgIFAQKHhIBwsKAgWB\n",
       "gkBBoOCb1WBBQaAgUBAo+KgRLCgIFAQKAoV5fLO6sqAgUBAoCBScpIMFBYGCQEGg4B3FYEFBoCBQ\n",
       "ECjM4yS9sqAgUBAoCBS83REsKAgUBAoCBV8cBgsKAgWBgkDBdUewoCBQECgIFOY+9+2f4dMsKAgU\n",
       "BAoCBdcdwYKCQEGgIFCYx0l6ZUFBoCBQECj8B4FI7TdsedWZAAAAAElFTkSuQmCC\n",
       "\" transform=\"translate(2161, 123)\"/>\n",
       "</g>\n",
       "<path clip-path=\"url(#clip980)\" d=\"M2280.7 1405.35 Q2277.09 1405.35 2275.26 1408.91 Q2273.45 1412.46 2273.45 1419.59 Q2273.45 1426.69 2275.26 1430.26 Q2277.09 1433.8 2280.7 1433.8 Q2284.33 1433.8 2286.14 1430.26 Q2287.97 1426.69 2287.97 1419.59 Q2287.97 1412.46 2286.14 1408.91 Q2284.33 1405.35 2280.7 1405.35 M2280.7 1401.65 Q2286.51 1401.65 2289.57 1406.25 Q2292.64 1410.84 2292.64 1419.59 Q2292.64 1428.31 2289.57 1432.92 Q2286.51 1437.5 2280.7 1437.5 Q2274.89 1437.5 2271.81 1432.92 Q2268.76 1428.31 2268.76 1419.59 Q2268.76 1410.84 2271.81 1406.25 Q2274.89 1401.65 2280.7 1401.65 Z\" fill=\"#000000\" fill-rule=\"evenodd\" fill-opacity=\"1\" /><path clip-path=\"url(#clip980)\" d=\"M2300.86 1430.95 L2305.75 1430.95 L2305.75 1436.83 L2300.86 1436.83 L2300.86 1430.95 Z\" fill=\"#000000\" fill-rule=\"evenodd\" fill-opacity=\"1\" /><path clip-path=\"url(#clip980)\" d=\"M2315.98 1402.27 L2334.33 1402.27 L2334.33 1406.21 L2320.26 1406.21 L2320.26 1414.68 Q2321.28 1414.33 2322.3 1414.17 Q2323.32 1413.98 2324.33 1413.98 Q2330.12 1413.98 2333.5 1417.16 Q2336.88 1420.33 2336.88 1425.74 Q2336.88 1431.32 2333.41 1434.42 Q2329.94 1437.5 2323.62 1437.5 Q2321.44 1437.5 2319.17 1437.13 Q2316.93 1436.76 2314.52 1436.02 L2314.52 1431.32 Q2316.6 1432.46 2318.83 1433.01 Q2321.05 1433.57 2323.52 1433.57 Q2327.53 1433.57 2329.87 1431.46 Q2332.2 1429.35 2332.2 1425.74 Q2332.2 1422.13 2329.87 1420.03 Q2327.53 1417.92 2323.52 1417.92 Q2321.65 1417.92 2319.77 1418.34 Q2317.92 1418.75 2315.98 1419.63 L2315.98 1402.27 Z\" fill=\"#000000\" fill-rule=\"evenodd\" fill-opacity=\"1\" /><path clip-path=\"url(#clip980)\" d=\"M2356.09 1405.35 Q2352.48 1405.35 2350.65 1408.91 Q2348.85 1412.46 2348.85 1419.59 Q2348.85 1426.69 2350.65 1430.26 Q2352.48 1433.8 2356.09 1433.8 Q2359.73 1433.8 2361.53 1430.26 Q2363.36 1426.69 2363.36 1419.59 Q2363.36 1412.46 2361.53 1408.91 Q2359.73 1405.35 2356.09 1405.35 M2356.09 1401.65 Q2361.9 1401.65 2364.96 1406.25 Q2368.04 1410.84 2368.04 1419.59 Q2368.04 1428.31 2364.96 1432.92 Q2361.9 1437.5 2356.09 1437.5 Q2350.28 1437.5 2347.2 1432.92 Q2344.15 1428.31 2344.15 1419.59 Q2344.15 1410.84 2347.2 1406.25 Q2350.28 1401.65 2356.09 1401.65 Z\" fill=\"#000000\" fill-rule=\"evenodd\" fill-opacity=\"1\" /><path clip-path=\"url(#clip980)\" d=\"M2280.7 1275.25 Q2277.09 1275.25 2275.26 1278.81 Q2273.45 1282.36 2273.45 1289.49 Q2273.45 1296.59 2275.26 1300.16 Q2277.09 1303.7 2280.7 1303.7 Q2284.33 1303.7 2286.14 1300.16 Q2287.97 1296.59 2287.97 1289.49 Q2287.97 1282.36 2286.14 1278.81 Q2284.33 1275.25 2280.7 1275.25 M2280.7 1271.55 Q2286.51 1271.55 2289.57 1276.15 Q2292.64 1280.74 2292.64 1289.49 Q2292.64 1298.21 2289.57 1302.82 Q2286.51 1307.4 2280.7 1307.4 Q2274.89 1307.4 2271.81 1302.82 Q2268.76 1298.21 2268.76 1289.49 Q2268.76 1280.74 2271.81 1276.15 Q2274.89 1271.55 2280.7 1271.55 Z\" fill=\"#000000\" fill-rule=\"evenodd\" fill-opacity=\"1\" /><path clip-path=\"url(#clip980)\" d=\"M2300.86 1300.85 L2305.75 1300.85 L2305.75 1306.73 L2300.86 1306.73 L2300.86 1300.85 Z\" fill=\"#000000\" fill-rule=\"evenodd\" fill-opacity=\"1\" /><path clip-path=\"url(#clip980)\" d=\"M2315.98 1272.17 L2334.33 1272.17 L2334.33 1276.11 L2320.26 1276.11 L2320.26 1284.58 Q2321.28 1284.23 2322.3 1284.07 Q2323.32 1283.88 2324.33 1283.88 Q2330.12 1283.88 2333.5 1287.05 Q2336.88 1290.23 2336.88 1295.64 Q2336.88 1301.22 2333.41 1304.32 Q2329.94 1307.4 2323.62 1307.4 Q2321.44 1307.4 2319.17 1307.03 Q2316.93 1306.66 2314.52 1305.92 L2314.52 1301.22 Q2316.6 1302.36 2318.83 1302.91 Q2321.05 1303.47 2323.52 1303.47 Q2327.53 1303.47 2329.87 1301.36 Q2332.2 1299.25 2332.2 1295.64 Q2332.2 1292.03 2329.87 1289.92 Q2327.53 1287.82 2323.52 1287.82 Q2321.65 1287.82 2319.77 1288.24 Q2317.92 1288.65 2315.98 1289.53 L2315.98 1272.17 Z\" fill=\"#000000\" fill-rule=\"evenodd\" fill-opacity=\"1\" /><path clip-path=\"url(#clip980)\" d=\"M2346.14 1272.17 L2364.5 1272.17 L2364.5 1276.11 L2350.42 1276.11 L2350.42 1284.58 Q2351.44 1284.23 2352.46 1284.07 Q2353.48 1283.88 2354.5 1283.88 Q2360.28 1283.88 2363.66 1287.05 Q2367.04 1290.23 2367.04 1295.64 Q2367.04 1301.22 2363.57 1304.32 Q2360.1 1307.4 2353.78 1307.4 Q2351.6 1307.4 2349.33 1307.03 Q2347.09 1306.66 2344.68 1305.92 L2344.68 1301.22 Q2346.76 1302.36 2348.99 1302.91 Q2351.21 1303.47 2353.69 1303.47 Q2357.69 1303.47 2360.03 1301.36 Q2362.37 1299.25 2362.37 1295.64 Q2362.37 1292.03 2360.03 1289.92 Q2357.69 1287.82 2353.69 1287.82 Q2351.81 1287.82 2349.94 1288.24 Q2348.08 1288.65 2346.14 1289.53 L2346.14 1272.17 Z\" fill=\"#000000\" fill-rule=\"evenodd\" fill-opacity=\"1\" /><path clip-path=\"url(#clip980)\" d=\"M2280.7 1145.15 Q2277.09 1145.15 2275.26 1148.71 Q2273.45 1152.25 2273.45 1159.38 Q2273.45 1166.49 2275.26 1170.06 Q2277.09 1173.6 2280.7 1173.6 Q2284.33 1173.6 2286.14 1170.06 Q2287.97 1166.49 2287.97 1159.38 Q2287.97 1152.25 2286.14 1148.71 Q2284.33 1145.15 2280.7 1145.15 M2280.7 1141.44 Q2286.51 1141.44 2289.57 1146.05 Q2292.64 1150.63 2292.64 1159.38 Q2292.64 1168.11 2289.57 1172.72 Q2286.51 1177.3 2280.7 1177.3 Q2274.89 1177.3 2271.81 1172.72 Q2268.76 1168.11 2268.76 1159.38 Q2268.76 1150.63 2271.81 1146.05 Q2274.89 1141.44 2280.7 1141.44 Z\" fill=\"#000000\" fill-rule=\"evenodd\" fill-opacity=\"1\" /><path clip-path=\"url(#clip980)\" d=\"M2300.86 1170.75 L2305.75 1170.75 L2305.75 1176.63 L2300.86 1176.63 L2300.86 1170.75 Z\" fill=\"#000000\" fill-rule=\"evenodd\" fill-opacity=\"1\" /><path clip-path=\"url(#clip980)\" d=\"M2326.51 1157.49 Q2323.36 1157.49 2321.51 1159.64 Q2319.68 1161.79 2319.68 1165.54 Q2319.68 1169.27 2321.51 1171.44 Q2323.36 1173.6 2326.51 1173.6 Q2329.66 1173.6 2331.49 1171.44 Q2333.34 1169.27 2333.34 1165.54 Q2333.34 1161.79 2331.49 1159.64 Q2329.66 1157.49 2326.51 1157.49 M2335.79 1142.83 L2335.79 1147.09 Q2334.03 1146.26 2332.23 1145.82 Q2330.45 1145.38 2328.69 1145.38 Q2324.06 1145.38 2321.6 1148.5 Q2319.17 1151.63 2318.83 1157.95 Q2320.19 1155.94 2322.25 1154.87 Q2324.31 1153.78 2326.79 1153.78 Q2332 1153.78 2335.01 1156.95 Q2338.04 1160.1 2338.04 1165.54 Q2338.04 1170.87 2334.89 1174.08 Q2331.74 1177.3 2326.51 1177.3 Q2320.51 1177.3 2317.34 1172.72 Q2314.17 1168.11 2314.17 1159.38 Q2314.17 1151.19 2318.06 1146.33 Q2321.95 1141.44 2328.5 1141.44 Q2330.26 1141.44 2332.04 1141.79 Q2333.85 1142.14 2335.79 1142.83 Z\" fill=\"#000000\" fill-rule=\"evenodd\" fill-opacity=\"1\" /><path clip-path=\"url(#clip980)\" d=\"M2356.09 1145.15 Q2352.48 1145.15 2350.65 1148.71 Q2348.85 1152.25 2348.85 1159.38 Q2348.85 1166.49 2350.65 1170.06 Q2352.48 1173.6 2356.09 1173.6 Q2359.73 1173.6 2361.53 1170.06 Q2363.36 1166.49 2363.36 1159.38 Q2363.36 1152.25 2361.53 1148.71 Q2359.73 1145.15 2356.09 1145.15 M2356.09 1141.44 Q2361.9 1141.44 2364.96 1146.05 Q2368.04 1150.63 2368.04 1159.38 Q2368.04 1168.11 2364.96 1172.72 Q2361.9 1177.3 2356.09 1177.3 Q2350.28 1177.3 2347.2 1172.72 Q2344.15 1168.11 2344.15 1159.38 Q2344.15 1150.63 2347.2 1146.05 Q2350.28 1141.44 2356.09 1141.44 Z\" fill=\"#000000\" fill-rule=\"evenodd\" fill-opacity=\"1\" /><path clip-path=\"url(#clip980)\" d=\"M2280.7 1015.05 Q2277.09 1015.05 2275.26 1018.61 Q2273.45 1022.15 2273.45 1029.28 Q2273.45 1036.39 2275.26 1039.95 Q2277.09 1043.5 2280.7 1043.5 Q2284.33 1043.5 2286.14 1039.95 Q2287.97 1036.39 2287.97 1029.28 Q2287.97 1022.15 2286.14 1018.61 Q2284.33 1015.05 2280.7 1015.05 M2280.7 1011.34 Q2286.51 1011.34 2289.57 1015.95 Q2292.64 1020.53 2292.64 1029.28 Q2292.64 1038.01 2289.57 1042.62 Q2286.51 1047.2 2280.7 1047.2 Q2274.89 1047.2 2271.81 1042.62 Q2268.76 1038.01 2268.76 1029.28 Q2268.76 1020.53 2271.81 1015.95 Q2274.89 1011.34 2280.7 1011.34 Z\" fill=\"#000000\" fill-rule=\"evenodd\" fill-opacity=\"1\" /><path clip-path=\"url(#clip980)\" d=\"M2300.86 1040.65 L2305.75 1040.65 L2305.75 1046.53 L2300.86 1046.53 L2300.86 1040.65 Z\" fill=\"#000000\" fill-rule=\"evenodd\" fill-opacity=\"1\" /><path clip-path=\"url(#clip980)\" d=\"M2326.51 1027.39 Q2323.36 1027.39 2321.51 1029.54 Q2319.68 1031.69 2319.68 1035.44 Q2319.68 1039.17 2321.51 1041.34 Q2323.36 1043.5 2326.51 1043.5 Q2329.66 1043.5 2331.49 1041.34 Q2333.34 1039.17 2333.34 1035.44 Q2333.34 1031.69 2331.49 1029.54 Q2329.66 1027.39 2326.51 1027.39 M2335.79 1012.73 L2335.79 1016.99 Q2334.03 1016.16 2332.23 1015.72 Q2330.45 1015.28 2328.69 1015.28 Q2324.06 1015.28 2321.6 1018.4 Q2319.17 1021.53 2318.83 1027.85 Q2320.19 1025.83 2322.25 1024.77 Q2324.31 1023.68 2326.79 1023.68 Q2332 1023.68 2335.01 1026.85 Q2338.04 1030 2338.04 1035.44 Q2338.04 1040.76 2334.89 1043.98 Q2331.74 1047.2 2326.51 1047.2 Q2320.51 1047.2 2317.34 1042.62 Q2314.17 1038.01 2314.17 1029.28 Q2314.17 1021.09 2318.06 1016.23 Q2321.95 1011.34 2328.5 1011.34 Q2330.26 1011.34 2332.04 1011.69 Q2333.85 1012.04 2335.79 1012.73 Z\" fill=\"#000000\" fill-rule=\"evenodd\" fill-opacity=\"1\" /><path clip-path=\"url(#clip980)\" d=\"M2346.14 1011.97 L2364.5 1011.97 L2364.5 1015.9 L2350.42 1015.9 L2350.42 1024.38 Q2351.44 1024.03 2352.46 1023.87 Q2353.48 1023.68 2354.5 1023.68 Q2360.28 1023.68 2363.66 1026.85 Q2367.04 1030.02 2367.04 1035.44 Q2367.04 1041.02 2363.57 1044.12 Q2360.1 1047.2 2353.78 1047.2 Q2351.6 1047.2 2349.33 1046.83 Q2347.09 1046.46 2344.68 1045.72 L2344.68 1041.02 Q2346.76 1042.15 2348.99 1042.71 Q2351.21 1043.26 2353.69 1043.26 Q2357.69 1043.26 2360.03 1041.16 Q2362.37 1039.05 2362.37 1035.44 Q2362.37 1031.83 2360.03 1029.72 Q2357.69 1027.62 2353.69 1027.62 Q2351.81 1027.62 2349.94 1028.03 Q2348.08 1028.45 2346.14 1029.33 L2346.14 1011.97 Z\" fill=\"#000000\" fill-rule=\"evenodd\" fill-opacity=\"1\" /><path clip-path=\"url(#clip980)\" d=\"M2280.7 884.947 Q2277.09 884.947 2275.26 888.512 Q2273.45 892.053 2273.45 899.183 Q2273.45 906.289 2275.26 909.854 Q2277.09 913.396 2280.7 913.396 Q2284.33 913.396 2286.14 909.854 Q2287.97 906.289 2287.97 899.183 Q2287.97 892.053 2286.14 888.512 Q2284.33 884.947 2280.7 884.947 M2280.7 881.243 Q2286.51 881.243 2289.57 885.85 Q2292.64 890.433 2292.64 899.183 Q2292.64 907.91 2289.57 912.516 Q2286.51 917.099 2280.7 917.099 Q2274.89 917.099 2271.81 912.516 Q2268.76 907.91 2268.76 899.183 Q2268.76 890.433 2271.81 885.85 Q2274.89 881.243 2280.7 881.243 Z\" fill=\"#000000\" fill-rule=\"evenodd\" fill-opacity=\"1\" /><path clip-path=\"url(#clip980)\" d=\"M2300.86 910.548 L2305.75 910.548 L2305.75 916.428 L2300.86 916.428 L2300.86 910.548 Z\" fill=\"#000000\" fill-rule=\"evenodd\" fill-opacity=\"1\" /><path clip-path=\"url(#clip980)\" d=\"M2314.75 881.868 L2336.97 881.868 L2336.97 883.859 L2324.43 916.428 L2319.54 916.428 L2331.35 885.803 L2314.75 885.803 L2314.75 881.868 Z\" fill=\"#000000\" fill-rule=\"evenodd\" fill-opacity=\"1\" /><path clip-path=\"url(#clip980)\" d=\"M2356.09 884.947 Q2352.48 884.947 2350.65 888.512 Q2348.85 892.053 2348.85 899.183 Q2348.85 906.289 2350.65 909.854 Q2352.48 913.396 2356.09 913.396 Q2359.73 913.396 2361.53 909.854 Q2363.36 906.289 2363.36 899.183 Q2363.36 892.053 2361.53 888.512 Q2359.73 884.947 2356.09 884.947 M2356.09 881.243 Q2361.9 881.243 2364.96 885.85 Q2368.04 890.433 2368.04 899.183 Q2368.04 907.91 2364.96 912.516 Q2361.9 917.099 2356.09 917.099 Q2350.28 917.099 2347.2 912.516 Q2344.15 907.91 2344.15 899.183 Q2344.15 890.433 2347.2 885.85 Q2350.28 881.243 2356.09 881.243 Z\" fill=\"#000000\" fill-rule=\"evenodd\" fill-opacity=\"1\" /><path clip-path=\"url(#clip980)\" d=\"M2280.7 754.846 Q2277.09 754.846 2275.26 758.411 Q2273.45 761.952 2273.45 769.082 Q2273.45 776.188 2275.26 779.753 Q2277.09 783.295 2280.7 783.295 Q2284.33 783.295 2286.14 779.753 Q2287.97 776.188 2287.97 769.082 Q2287.97 761.952 2286.14 758.411 Q2284.33 754.846 2280.7 754.846 M2280.7 751.142 Q2286.51 751.142 2289.57 755.749 Q2292.64 760.332 2292.64 769.082 Q2292.64 777.809 2289.57 782.415 Q2286.51 786.999 2280.7 786.999 Q2274.89 786.999 2271.81 782.415 Q2268.76 777.809 2268.76 769.082 Q2268.76 760.332 2271.81 755.749 Q2274.89 751.142 2280.7 751.142 Z\" fill=\"#000000\" fill-rule=\"evenodd\" fill-opacity=\"1\" /><path clip-path=\"url(#clip980)\" d=\"M2300.86 780.448 L2305.75 780.448 L2305.75 786.327 L2300.86 786.327 L2300.86 780.448 Z\" fill=\"#000000\" fill-rule=\"evenodd\" fill-opacity=\"1\" /><path clip-path=\"url(#clip980)\" d=\"M2314.75 751.767 L2336.97 751.767 L2336.97 753.758 L2324.43 786.327 L2319.54 786.327 L2331.35 755.702 L2314.75 755.702 L2314.75 751.767 Z\" fill=\"#000000\" fill-rule=\"evenodd\" fill-opacity=\"1\" /><path clip-path=\"url(#clip980)\" d=\"M2346.14 751.767 L2364.5 751.767 L2364.5 755.702 L2350.42 755.702 L2350.42 764.175 Q2351.44 763.827 2352.46 763.665 Q2353.48 763.48 2354.5 763.48 Q2360.28 763.48 2363.66 766.652 Q2367.04 769.823 2367.04 775.239 Q2367.04 780.818 2363.57 783.92 Q2360.1 786.999 2353.78 786.999 Q2351.6 786.999 2349.33 786.628 Q2347.09 786.258 2344.68 785.517 L2344.68 780.818 Q2346.76 781.952 2348.99 782.508 Q2351.21 783.063 2353.69 783.063 Q2357.69 783.063 2360.03 780.957 Q2362.37 778.851 2362.37 775.239 Q2362.37 771.628 2360.03 769.522 Q2357.69 767.415 2353.69 767.415 Q2351.81 767.415 2349.94 767.832 Q2348.08 768.249 2346.14 769.128 L2346.14 751.767 Z\" fill=\"#000000\" fill-rule=\"evenodd\" fill-opacity=\"1\" /><path clip-path=\"url(#clip980)\" d=\"M2280.7 624.745 Q2277.09 624.745 2275.26 628.31 Q2273.45 631.852 2273.45 638.981 Q2273.45 646.088 2275.26 649.653 Q2277.09 653.194 2280.7 653.194 Q2284.33 653.194 2286.14 649.653 Q2287.97 646.088 2287.97 638.981 Q2287.97 631.852 2286.14 628.31 Q2284.33 624.745 2280.7 624.745 M2280.7 621.042 Q2286.51 621.042 2289.57 625.648 Q2292.64 630.231 2292.64 638.981 Q2292.64 647.708 2289.57 652.315 Q2286.51 656.898 2280.7 656.898 Q2274.89 656.898 2271.81 652.315 Q2268.76 647.708 2268.76 638.981 Q2268.76 630.231 2271.81 625.648 Q2274.89 621.042 2280.7 621.042 Z\" fill=\"#000000\" fill-rule=\"evenodd\" fill-opacity=\"1\" /><path clip-path=\"url(#clip980)\" d=\"M2300.86 650.347 L2305.75 650.347 L2305.75 656.227 L2300.86 656.227 L2300.86 650.347 Z\" fill=\"#000000\" fill-rule=\"evenodd\" fill-opacity=\"1\" /><path clip-path=\"url(#clip980)\" d=\"M2325.93 639.815 Q2322.6 639.815 2320.68 641.597 Q2318.78 643.379 2318.78 646.504 Q2318.78 649.629 2320.68 651.412 Q2322.6 653.194 2325.93 653.194 Q2329.26 653.194 2331.19 651.412 Q2333.11 649.606 2333.11 646.504 Q2333.11 643.379 2331.19 641.597 Q2329.29 639.815 2325.93 639.815 M2321.26 637.824 Q2318.25 637.083 2316.56 635.023 Q2314.89 632.963 2314.89 630 Q2314.89 625.856 2317.83 623.449 Q2320.79 621.042 2325.93 621.042 Q2331.09 621.042 2334.03 623.449 Q2336.97 625.856 2336.97 630 Q2336.97 632.963 2335.28 635.023 Q2333.62 637.083 2330.63 637.824 Q2334.01 638.611 2335.89 640.903 Q2337.78 643.194 2337.78 646.504 Q2337.78 651.528 2334.7 654.213 Q2331.65 656.898 2325.93 656.898 Q2320.21 656.898 2317.14 654.213 Q2314.08 651.528 2314.08 646.504 Q2314.08 643.194 2315.98 640.903 Q2317.88 638.611 2321.26 637.824 M2319.54 630.44 Q2319.54 633.125 2321.21 634.629 Q2322.9 636.134 2325.93 636.134 Q2328.94 636.134 2330.63 634.629 Q2332.34 633.125 2332.34 630.44 Q2332.34 627.755 2330.63 626.25 Q2328.94 624.745 2325.93 624.745 Q2322.9 624.745 2321.21 626.25 Q2319.54 627.755 2319.54 630.44 Z\" fill=\"#000000\" fill-rule=\"evenodd\" fill-opacity=\"1\" /><path clip-path=\"url(#clip980)\" d=\"M2356.09 624.745 Q2352.48 624.745 2350.65 628.31 Q2348.85 631.852 2348.85 638.981 Q2348.85 646.088 2350.65 649.653 Q2352.48 653.194 2356.09 653.194 Q2359.73 653.194 2361.53 649.653 Q2363.36 646.088 2363.36 638.981 Q2363.36 631.852 2361.53 628.31 Q2359.73 624.745 2356.09 624.745 M2356.09 621.042 Q2361.9 621.042 2364.96 625.648 Q2368.04 630.231 2368.04 638.981 Q2368.04 647.708 2364.96 652.315 Q2361.9 656.898 2356.09 656.898 Q2350.28 656.898 2347.2 652.315 Q2344.15 647.708 2344.15 638.981 Q2344.15 630.231 2347.2 625.648 Q2350.28 621.042 2356.09 621.042 Z\" fill=\"#000000\" fill-rule=\"evenodd\" fill-opacity=\"1\" /><path clip-path=\"url(#clip980)\" d=\"M2280.7 494.645 Q2277.09 494.645 2275.26 498.209 Q2273.45 501.751 2273.45 508.881 Q2273.45 515.987 2275.26 519.552 Q2277.09 523.093 2280.7 523.093 Q2284.33 523.093 2286.14 519.552 Q2287.97 515.987 2287.97 508.881 Q2287.97 501.751 2286.14 498.209 Q2284.33 494.645 2280.7 494.645 M2280.7 490.941 Q2286.51 490.941 2289.57 495.547 Q2292.64 500.131 2292.64 508.881 Q2292.64 517.607 2289.57 522.214 Q2286.51 526.797 2280.7 526.797 Q2274.89 526.797 2271.81 522.214 Q2268.76 517.607 2268.76 508.881 Q2268.76 500.131 2271.81 495.547 Q2274.89 490.941 2280.7 490.941 Z\" fill=\"#000000\" fill-rule=\"evenodd\" fill-opacity=\"1\" /><path clip-path=\"url(#clip980)\" d=\"M2300.86 520.246 L2305.75 520.246 L2305.75 526.126 L2300.86 526.126 L2300.86 520.246 Z\" fill=\"#000000\" fill-rule=\"evenodd\" fill-opacity=\"1\" /><path clip-path=\"url(#clip980)\" d=\"M2325.93 509.714 Q2322.6 509.714 2320.68 511.496 Q2318.78 513.279 2318.78 516.404 Q2318.78 519.529 2320.68 521.311 Q2322.6 523.093 2325.93 523.093 Q2329.26 523.093 2331.19 521.311 Q2333.11 519.506 2333.11 516.404 Q2333.11 513.279 2331.19 511.496 Q2329.29 509.714 2325.93 509.714 M2321.26 507.723 Q2318.25 506.982 2316.56 504.922 Q2314.89 502.862 2314.89 499.899 Q2314.89 495.756 2317.83 493.348 Q2320.79 490.941 2325.93 490.941 Q2331.09 490.941 2334.03 493.348 Q2336.97 495.756 2336.97 499.899 Q2336.97 502.862 2335.28 504.922 Q2333.62 506.982 2330.63 507.723 Q2334.01 508.51 2335.89 510.802 Q2337.78 513.094 2337.78 516.404 Q2337.78 521.427 2334.7 524.112 Q2331.65 526.797 2325.93 526.797 Q2320.21 526.797 2317.14 524.112 Q2314.08 521.427 2314.08 516.404 Q2314.08 513.094 2315.98 510.802 Q2317.88 508.51 2321.26 507.723 M2319.54 500.339 Q2319.54 503.024 2321.21 504.529 Q2322.9 506.033 2325.93 506.033 Q2328.94 506.033 2330.63 504.529 Q2332.34 503.024 2332.34 500.339 Q2332.34 497.654 2330.63 496.149 Q2328.94 494.645 2325.93 494.645 Q2322.9 494.645 2321.21 496.149 Q2319.54 497.654 2319.54 500.339 Z\" fill=\"#000000\" fill-rule=\"evenodd\" fill-opacity=\"1\" /><path clip-path=\"url(#clip980)\" d=\"M2346.14 491.566 L2364.5 491.566 L2364.5 495.501 L2350.42 495.501 L2350.42 503.973 Q2351.44 503.626 2352.46 503.464 Q2353.48 503.279 2354.5 503.279 Q2360.28 503.279 2363.66 506.45 Q2367.04 509.621 2367.04 515.038 Q2367.04 520.617 2363.57 523.718 Q2360.1 526.797 2353.78 526.797 Q2351.6 526.797 2349.33 526.427 Q2347.09 526.056 2344.68 525.316 L2344.68 520.617 Q2346.76 521.751 2348.99 522.306 Q2351.21 522.862 2353.69 522.862 Q2357.69 522.862 2360.03 520.756 Q2362.37 518.649 2362.37 515.038 Q2362.37 511.427 2360.03 509.32 Q2357.69 507.214 2353.69 507.214 Q2351.81 507.214 2349.94 507.631 Q2348.08 508.047 2346.14 508.927 L2346.14 491.566 Z\" fill=\"#000000\" fill-rule=\"evenodd\" fill-opacity=\"1\" /><path clip-path=\"url(#clip980)\" d=\"M2280.7 364.544 Q2277.09 364.544 2275.26 368.109 Q2273.45 371.65 2273.45 378.78 Q2273.45 385.886 2275.26 389.451 Q2277.09 392.993 2280.7 392.993 Q2284.33 392.993 2286.14 389.451 Q2287.97 385.886 2287.97 378.78 Q2287.97 371.65 2286.14 368.109 Q2284.33 364.544 2280.7 364.544 M2280.7 360.84 Q2286.51 360.84 2289.57 365.447 Q2292.64 370.03 2292.64 378.78 Q2292.64 387.507 2289.57 392.113 Q2286.51 396.696 2280.7 396.696 Q2274.89 396.696 2271.81 392.113 Q2268.76 387.507 2268.76 378.78 Q2268.76 370.03 2271.81 365.447 Q2274.89 360.84 2280.7 360.84 Z\" fill=\"#000000\" fill-rule=\"evenodd\" fill-opacity=\"1\" /><path clip-path=\"url(#clip980)\" d=\"M2300.86 390.146 L2305.75 390.146 L2305.75 396.025 L2300.86 396.025 L2300.86 390.146 Z\" fill=\"#000000\" fill-rule=\"evenodd\" fill-opacity=\"1\" /><path clip-path=\"url(#clip980)\" d=\"M2316.07 395.308 L2316.07 391.048 Q2317.83 391.882 2319.64 392.321 Q2321.44 392.761 2323.18 392.761 Q2327.81 392.761 2330.24 389.659 Q2332.69 386.534 2333.04 380.192 Q2331.7 382.183 2329.64 383.247 Q2327.58 384.312 2325.08 384.312 Q2319.89 384.312 2316.86 381.187 Q2313.85 378.039 2313.85 372.599 Q2313.85 367.275 2317 364.058 Q2320.14 360.84 2325.38 360.84 Q2331.37 360.84 2334.52 365.447 Q2337.69 370.03 2337.69 378.78 Q2337.69 386.951 2333.8 391.835 Q2329.94 396.696 2323.39 396.696 Q2321.63 396.696 2319.82 396.349 Q2318.01 396.002 2316.07 395.308 M2325.38 380.655 Q2328.52 380.655 2330.35 378.502 Q2332.2 376.349 2332.2 372.599 Q2332.2 368.872 2330.35 366.72 Q2328.52 364.544 2325.38 364.544 Q2322.23 364.544 2320.38 366.72 Q2318.55 368.872 2318.55 372.599 Q2318.55 376.349 2320.38 378.502 Q2322.23 380.655 2325.38 380.655 Z\" fill=\"#000000\" fill-rule=\"evenodd\" fill-opacity=\"1\" /><path clip-path=\"url(#clip980)\" d=\"M2356.09 364.544 Q2352.48 364.544 2350.65 368.109 Q2348.85 371.65 2348.85 378.78 Q2348.85 385.886 2350.65 389.451 Q2352.48 392.993 2356.09 392.993 Q2359.73 392.993 2361.53 389.451 Q2363.36 385.886 2363.36 378.78 Q2363.36 371.65 2361.53 368.109 Q2359.73 364.544 2356.09 364.544 M2356.09 360.84 Q2361.9 360.84 2364.96 365.447 Q2368.04 370.03 2368.04 378.78 Q2368.04 387.507 2364.96 392.113 Q2361.9 396.696 2356.09 396.696 Q2350.28 396.696 2347.2 392.113 Q2344.15 387.507 2344.15 378.78 Q2344.15 370.03 2347.2 365.447 Q2350.28 360.84 2356.09 360.84 Z\" fill=\"#000000\" fill-rule=\"evenodd\" fill-opacity=\"1\" /><path clip-path=\"url(#clip980)\" d=\"M2280.7 234.443 Q2277.09 234.443 2275.26 238.008 Q2273.45 241.549 2273.45 248.679 Q2273.45 255.786 2275.26 259.35 Q2277.09 262.892 2280.7 262.892 Q2284.33 262.892 2286.14 259.35 Q2287.97 255.786 2287.97 248.679 Q2287.97 241.549 2286.14 238.008 Q2284.33 234.443 2280.7 234.443 M2280.7 230.739 Q2286.51 230.739 2289.57 235.346 Q2292.64 239.929 2292.64 248.679 Q2292.64 257.406 2289.57 262.012 Q2286.51 266.596 2280.7 266.596 Q2274.89 266.596 2271.81 262.012 Q2268.76 257.406 2268.76 248.679 Q2268.76 239.929 2271.81 235.346 Q2274.89 230.739 2280.7 230.739 Z\" fill=\"#000000\" fill-rule=\"evenodd\" fill-opacity=\"1\" /><path clip-path=\"url(#clip980)\" d=\"M2300.86 260.045 L2305.75 260.045 L2305.75 265.924 L2300.86 265.924 L2300.86 260.045 Z\" fill=\"#000000\" fill-rule=\"evenodd\" fill-opacity=\"1\" /><path clip-path=\"url(#clip980)\" d=\"M2316.07 265.207 L2316.07 260.948 Q2317.83 261.781 2319.64 262.221 Q2321.44 262.66 2323.18 262.66 Q2327.81 262.66 2330.24 259.559 Q2332.69 256.434 2333.04 250.091 Q2331.7 252.082 2329.64 253.147 Q2327.58 254.211 2325.08 254.211 Q2319.89 254.211 2316.86 251.086 Q2313.85 247.938 2313.85 242.499 Q2313.85 237.175 2317 233.957 Q2320.14 230.739 2325.38 230.739 Q2331.37 230.739 2334.52 235.346 Q2337.69 239.929 2337.69 248.679 Q2337.69 256.85 2333.8 261.735 Q2329.94 266.596 2323.39 266.596 Q2321.63 266.596 2319.82 266.248 Q2318.01 265.901 2316.07 265.207 M2325.38 250.554 Q2328.52 250.554 2330.35 248.401 Q2332.2 246.249 2332.2 242.499 Q2332.2 238.772 2330.35 236.619 Q2328.52 234.443 2325.38 234.443 Q2322.23 234.443 2320.38 236.619 Q2318.55 238.772 2318.55 242.499 Q2318.55 246.249 2320.38 248.401 Q2322.23 250.554 2325.38 250.554 Z\" fill=\"#000000\" fill-rule=\"evenodd\" fill-opacity=\"1\" /><path clip-path=\"url(#clip980)\" d=\"M2346.14 231.364 L2364.5 231.364 L2364.5 235.3 L2350.42 235.3 L2350.42 243.772 Q2351.44 243.424 2352.46 243.262 Q2353.48 243.077 2354.5 243.077 Q2360.28 243.077 2363.66 246.249 Q2367.04 249.42 2367.04 254.836 Q2367.04 260.415 2363.57 263.517 Q2360.1 266.596 2353.78 266.596 Q2351.6 266.596 2349.33 266.225 Q2347.09 265.855 2344.68 265.114 L2344.68 260.415 Q2346.76 261.549 2348.99 262.105 Q2351.21 262.66 2353.69 262.66 Q2357.69 262.66 2360.03 260.554 Q2362.37 258.448 2362.37 254.836 Q2362.37 251.225 2360.03 249.119 Q2357.69 247.012 2353.69 247.012 Q2351.81 247.012 2349.94 247.429 Q2348.08 247.846 2346.14 248.725 L2346.14 231.364 Z\" fill=\"#000000\" fill-rule=\"evenodd\" fill-opacity=\"1\" /><polyline clip-path=\"url(#clip980)\" style=\"stroke:#000000; stroke-linecap:butt; stroke-linejoin:round; stroke-width:4; stroke-opacity:1; fill:none\" points=\"\n",
       "  2232.76,1423.18 2232.76,1423.18 2256.76,1423.18 2232.76,1423.18 2232.76,1293.08 2256.76,1293.08 2232.76,1293.08 2232.76,1162.98 2256.76,1162.98 2232.76,1162.98 \n",
       "  2232.76,1032.88 2256.76,1032.88 2232.76,1032.88 2232.76,902.777 2256.76,902.777 2232.76,902.777 2232.76,772.676 2256.76,772.676 2232.76,772.676 2232.76,642.575 \n",
       "  2256.76,642.575 2232.76,642.575 2232.76,512.475 2256.76,512.475 2232.76,512.475 2232.76,382.374 2256.76,382.374 2232.76,382.374 2232.76,252.273 2256.76,252.273 \n",
       "  2232.76,252.273 2232.76,123.472 \n",
       "  \"/>\n",
       "</svg>\n"
      ]
     },
     "execution_count": 18,
     "metadata": {},
     "output_type": "execute_result"
    }
   ],
   "source": [
    "function calcperiod2d(f = f, niters = 2000, nwarmup = 50000, x0 = (0.4, 0.5),\n",
    "        r = (1:0.05:5)[1:end-1], k = (2:0.05:5)[1:end-1], tol=1e-3\n",
    "    )\n",
    "    tr1 = Vector{Float64}(undef, niters+1)\n",
    "    tr2 = similar(tr1)\n",
    "    period = Matrix{Int}(undef, length(r), length(k))\n",
    "    prog = Progress(length(r)*length(k))\n",
    "    for j in eachindex(k)\n",
    "        for i in eachindex(r)\n",
    "            @inbounds period[i, j] = calcperiod2d!(tr1, tr2, f, (r[i], k[j]), x0, niters, nwarmup; tol)\n",
    "            next!(prog)\n",
    "        end\n",
    "    end\n",
    "    period, r, k\n",
    "end\n",
    "\n",
    "period, r, k = @time calcperiod2d()\n",
    "heatmap(r, k, xoxp1.(period'); xlabel=\"r\", ylabel=\"k\", title=\"period/(period + 1)\")"
   ]
  },
  {
   "cell_type": "code",
   "execution_count": 19,
   "id": "02626442-ce48-46e1-81b4-ff43e181dca0",
   "metadata": {},
   "outputs": [
    {
     "data": {
      "text/plain": [
       "calcperiod2d_threads (generic function with 8 methods)"
      ]
     },
     "execution_count": 19,
     "metadata": {},
     "output_type": "execute_result"
    }
   ],
   "source": [
    "function calcperiod2d_threads(f = f, niters = 2000, nwarmup = 50000, x0 = (0.4, 0.5),\n",
    "        r = (1:0.05:5)[1:end-1], k = (2:0.05:5)[1:end-1], tol=1e-3\n",
    "    )\n",
    "    tr1 = [Vector{Float64}(undef, niters+1) for _ in 1:nthreads()]\n",
    "    tr2 = [Vector{Float64}(undef, niters+1) for _ in 1:nthreads()]\n",
    "    period = Matrix{Int}(undef, length(r), length(k))\n",
    "    #prog = Progress(length(r)*length(k))\n",
    "    @threads for j in eachindex(k)\n",
    "        tid = threadid()\n",
    "        for i in eachindex(r)\n",
    "            @inbounds period[i, j] = calcperiod2d!(tr1[tid], tr2[tid], f, (r[i], k[j]), x0, niters, nwarmup; tol)\n",
    "            #next!(prog)\n",
    "        end\n",
    "    end\n",
    "    period, r, k\n",
    "end"
   ]
  },
  {
   "cell_type": "code",
   "execution_count": 20,
   "id": "3a1d0029-8e79-4ca4-b104-7e6972ad0046",
   "metadata": {},
   "outputs": [
    {
     "name": "stdout",
     "output_type": "stream",
     "text": [
      "  3.071326 seconds (407.54 k allocations: 26.321 MiB, 2.87% compilation time)\n"
     ]
    },
    {
     "ename": "LoadError",
     "evalue": "BoundsError: attempt to access Tuple{Matrix{Int64}, StepRangeLen{Float64, Base.TwicePrecision{Float64}, Base.TwicePrecision{Float64}}, StepRangeLen{Float64, Base.TwicePrecision{Float64}, Base.TwicePrecision{Float64}}} at index [4]",
     "output_type": "error",
     "traceback": [
      "BoundsError: attempt to access Tuple{Matrix{Int64}, StepRangeLen{Float64, Base.TwicePrecision{Float64}, Base.TwicePrecision{Float64}}, StepRangeLen{Float64, Base.TwicePrecision{Float64}, Base.TwicePrecision{Float64}}} at index [4]",
      "",
      "Stacktrace:",
      " [1] indexed_iterate",
      "   @ .\\tuple.jl:86 [inlined]",
      " [2] top-level scope",
      "   @ .\\timing.jl:215 [inlined]",
      " [3] top-level scope",
      "   @ .\\In[20]:0",
      " [4] eval",
      "   @ .\\boot.jl:360 [inlined]",
      " [5] include_string(mapexpr::typeof(REPL.softscope), mod::Module, code::String, filename::String)",
      "   @ Base .\\loading.jl:1116"
     ]
    }
   ],
   "source": [
    "period, r, k_th, r, k = @time calcperiod2d_threads(); flush(stdout)\n",
    "period, r, k_th, r, k = @time calcperiod2d_threads(); flush(stdout)\n",
    "period, r, k_th, r, k = @time calcperiod2d_threads(); flush(stdout)\n",
    "heatmap(r, k, xoxp1.(period_th'); xlabel=\"r\", ylabel=\"k\", title=\"period/(period + 1)\")"
   ]
  },
  {
   "cell_type": "code",
   "execution_count": 21,
   "id": "fa718165-d0e4-49d4-8a1b-d305075d3a8b",
   "metadata": {},
   "outputs": [
    {
     "name": "stdout",
     "output_type": "stream",
     "text": [
      "  3.019271 seconds (113 allocations: 424.531 KiB)\n",
      "  2.945049 seconds (112 allocations: 424.203 KiB)\n",
      "  2.978982 seconds (112 allocations: 424.203 KiB)\n"
     ]
    },
    {
     "ename": "LoadError",
     "evalue": "UndefVarError: period_th not defined",
     "output_type": "error",
     "traceback": [
      "UndefVarError: period_th not defined",
      "",
      "Stacktrace:",
      " [1] top-level scope",
      "   @ In[21]:4",
      " [2] eval",
      "   @ .\\boot.jl:360 [inlined]",
      " [3] include_string(mapexpr::typeof(REPL.softscope), mod::Module, code::String, filename::String)",
      "   @ Base .\\loading.jl:1116"
     ]
    }
   ],
   "source": [
    "period, r, k_th = @time calcperiod2d_threads(); flush(stdout)\n",
    "period, r, k_th = @time calcperiod2d_threads(); flush(stdout)\n",
    "period, r, k_th = @time calcperiod2d_threads(); flush(stdout)\n",
    "heatmap(r, k, xoxp1.(period_th'); xlabel=\"r\", ylabel=\"k\", title=\"period/(period + 1)\")"
   ]
  },
  {
   "cell_type": "code",
   "execution_count": 22,
   "id": "a775bd5b-90bc-4947-9ab2-02e5cee0bbe9",
   "metadata": {},
   "outputs": [
    {
     "ename": "LoadError",
     "evalue": "UndefVarError: period_th not defined",
     "output_type": "error",
     "traceback": [
      "UndefVarError: period_th not defined",
      "",
      "Stacktrace:",
      " [1] top-level scope",
      "   @ In[22]:1",
      " [2] eval",
      "   @ .\\boot.jl:360 [inlined]",
      " [3] include_string(mapexpr::typeof(REPL.softscope), mod::Module, code::String, filename::String)",
      "   @ Base .\\loading.jl:1116"
     ]
    }
   ],
   "source": [
    "period == period_th"
   ]
  },
  {
   "cell_type": "code",
   "execution_count": 23,
   "id": "037fd505-2e17-45f3-8576-4500076e079e",
   "metadata": {},
   "outputs": [
    {
     "data": {
      "text/plain": [
       "60×80 adjoint(::Matrix{Int64}) with eltype Int64:\n",
       " 1  1  1  1  1  1  1  1  1  1  1  1  1  …  2001  2001  2001  2001  2001  2001\n",
       " 1  1  1  1  1  1  1  1  1  1  1  1  1     2001  2001  2001  2001  2001  2001\n",
       " 1  1  1  1  1  1  1  1  1  1  1  1  1     2001  2001  2001  2001  2001  2001\n",
       " 1  1  1  1  1  1  1  1  1  1  1  1  1     2001  2001  2001  2001  2001  2001\n",
       " 1  1  1  1  1  1  1  1  1  1  1  1  1     2001  2001  2001  2001  2001  2001\n",
       " 1  1  1  1  1  1  1  1  1  1  1  1  1  …  2001  2001  2001  2001  2001  2001\n",
       " 1  1  1  1  1  1  1  1  1  1  1  1  1     2001  2001  2001  2001  2001  2001\n",
       " 1  1  1  1  1  1  1  1  1  1  1  1  1     2001  2001  2001  2001  2001  2001\n",
       " 1  1  1  1  1  1  1  1  1  1  1  1  1     2001  2001  2001  2001  2001  2001\n",
       " 1  1  1  1  1  1  1  1  1  1  1  1  1     2001  2001  2001  2001  2001  2001\n",
       " 1  1  1  1  1  1  1  1  1  1  1  1  1  …  2001  2001  2001  2001  2001  2001\n",
       " 1  1  1  1  1  1  1  1  1  1  1  1  1     2001  2001  2001  2001  2001  2001\n",
       " 1  1  1  1  1  1  1  1  1  1  1  1  1     2001  2001  2001  2001  2001  2001\n",
       " ⋮              ⋮              ⋮        ⋱           ⋮                    \n",
       " 1  1  1  1  1  1  1  1  1  1  1  1  1     2001  2001  2001  2001  2001  2001\n",
       " 1  1  1  1  1  1  1  1  1  1  1  1  1     2001  2001  2001  2001  2001  2001\n",
       " 1  1  1  1  1  1  1  1  1  1  1  1  1  …  2001  2001  2001  2001  2001  2001\n",
       " 1  1  1  1  1  1  1  1  1  1  1  1  1     2001  2001  2001  2001  2001  2001\n",
       " 1  1  1  1  1  1  1  1  1  1  1  1  1     2001  2001  2001  2001  2001  2001\n",
       " 1  1  1  1  1  1  1  1  1  1  1  1  1     2001  2001  2001  2001  2001  2001\n",
       " 1  1  1  1  1  1  1  1  1  1  1  1  1     2001  2001  2001  2001  2001  2001\n",
       " 1  1  1  1  1  1  1  1  1  1  1  1  1  …  2001  2001  2001  2001  2001  2001\n",
       " 1  1  1  1  1  1  1  1  1  1  1  1  1     2001  2001  2001  2001  2001  2001\n",
       " 1  1  1  1  1  1  1  1  1  1  1  1  1     2001  2001  2001  2001  2001  2001\n",
       " 1  1  1  1  1  1  1  1  1  1  1  1  1     2001  2001  2001  2001  2001  2001\n",
       " 1  1  1  1  1  1  1  1  1  1  1  1  1     2001  2001  2001  2001  2001  2001"
      ]
     },
     "execution_count": 23,
     "metadata": {},
     "output_type": "execute_result"
    }
   ],
   "source": [
    "period'"
   ]
  },
  {
   "cell_type": "code",
   "execution_count": 24,
   "id": "fbc017cd-83fb-46eb-9318-15cf0d79ce15",
   "metadata": {},
   "outputs": [
    {
     "ename": "LoadError",
     "evalue": "MethodError: no method matching calcperiod2d_threads(::typeof(f); niters=2000, nwarmup=50000, x0=(0.4, 0.5), r=1.0:0.05:4.95, k=2.0:0.05:4.95, tol=0.001)\n\u001b[0mClosest candidates are:\n\u001b[0m  calcperiod2d_threads(::Any) at In[19]:1\u001b[91m got unsupported keyword arguments \"niters\", \"nwarmup\", \"x0\", \"r\", \"k\", \"tol\"\u001b[39m\n\u001b[0m  calcperiod2d_threads(::Any, \u001b[91m::Any\u001b[39m) at In[19]:1\u001b[91m got unsupported keyword arguments \"niters\", \"nwarmup\", \"x0\", \"r\", \"k\", \"tol\"\u001b[39m\n\u001b[0m  calcperiod2d_threads(::Any, \u001b[91m::Any\u001b[39m, \u001b[91m::Any\u001b[39m) at In[19]:1\u001b[91m got unsupported keyword arguments \"niters\", \"nwarmup\", \"x0\", \"r\", \"k\", \"tol\"\u001b[39m\n\u001b[0m  ...",
     "output_type": "error",
     "traceback": [
      "MethodError: no method matching calcperiod2d_threads(::typeof(f); niters=2000, nwarmup=50000, x0=(0.4, 0.5), r=1.0:0.05:4.95, k=2.0:0.05:4.95, tol=0.001)\n\u001b[0mClosest candidates are:\n\u001b[0m  calcperiod2d_threads(::Any) at In[19]:1\u001b[91m got unsupported keyword arguments \"niters\", \"nwarmup\", \"x0\", \"r\", \"k\", \"tol\"\u001b[39m\n\u001b[0m  calcperiod2d_threads(::Any, \u001b[91m::Any\u001b[39m) at In[19]:1\u001b[91m got unsupported keyword arguments \"niters\", \"nwarmup\", \"x0\", \"r\", \"k\", \"tol\"\u001b[39m\n\u001b[0m  calcperiod2d_threads(::Any, \u001b[91m::Any\u001b[39m, \u001b[91m::Any\u001b[39m) at In[19]:1\u001b[91m got unsupported keyword arguments \"niters\", \"nwarmup\", \"x0\", \"r\", \"k\", \"tol\"\u001b[39m\n\u001b[0m  ...",
      "",
      "Stacktrace:",
      "  [1] var\"##core#275\"()",
      "    @ Main D:\\.julia\\packages\\BenchmarkTools\\KqlO8\\src\\execution.jl:479",
      "  [2] var\"##sample#276\"(__params::BenchmarkTools.Parameters)",
      "    @ Main D:\\.julia\\packages\\BenchmarkTools\\KqlO8\\src\\execution.jl:485",
      "  [3] _run(b::BenchmarkTools.Benchmark, p::BenchmarkTools.Parameters; verbose::Bool, pad::String, kwargs::Base.Iterators.Pairs{Symbol, Integer, NTuple{4, Symbol}, NamedTuple{(:samples, :evals, :gctrial, :gcsample), Tuple{Int64, Int64, Bool, Bool}}})",
      "    @ BenchmarkTools D:\\.julia\\packages\\BenchmarkTools\\KqlO8\\src\\execution.jl:98",
      "  [4] #invokelatest#2",
      "    @ .\\essentials.jl:710 [inlined]",
      "  [5] #run_result#45",
      "    @ D:\\.julia\\packages\\BenchmarkTools\\KqlO8\\src\\execution.jl:33 [inlined]",
      "  [6] run(b::BenchmarkTools.Benchmark, p::BenchmarkTools.Parameters; progressid::Nothing, nleaves::Float64, ndone::Float64, kwargs::Base.Iterators.Pairs{Symbol, Integer, NTuple{5, Symbol}, NamedTuple{(:verbose, :samples, :evals, :gctrial, :gcsample), Tuple{Bool, Int64, Int64, Bool, Bool}}})",
      "    @ BenchmarkTools D:\\.julia\\packages\\BenchmarkTools\\KqlO8\\src\\execution.jl:116",
      "  [7] #warmup#54",
      "    @ D:\\.julia\\packages\\BenchmarkTools\\KqlO8\\src\\execution.jl:168 [inlined]",
      "  [8] warmup(item::BenchmarkTools.Benchmark)",
      "    @ BenchmarkTools D:\\.julia\\packages\\BenchmarkTools\\KqlO8\\src\\execution.jl:168",
      "  [9] top-level scope",
      "    @ D:\\.julia\\packages\\BenchmarkTools\\KqlO8\\src\\execution.jl:565",
      " [10] eval",
      "    @ .\\boot.jl:360 [inlined]",
      " [11] include_string(mapexpr::typeof(REPL.softscope), mod::Module, code::String, filename::String)",
      "    @ Base .\\loading.jl:1116"
     ]
    }
   ],
   "source": [
    "@btime calcperiod2d_threads(f; niters = 2000, nwarmup = 50000, x0 = (0.4, 0.5),\n",
    "    r = (1:0.05:5)[1:end-1], k = (2:0.05:5)[1:end-1], tol=1e-3)"
   ]
  },
  {
   "cell_type": "code",
   "execution_count": 25,
   "id": "930c134b-aa43-40da-93df-8a4070c9c300",
   "metadata": {},
   "outputs": [],
   "source": [
    "@code_warntype calcperiod2d_threads(f; niters = 2000, nwarmup = 50000, x0 = (0.4, 0.5),\n",
    "    r = (1:0.05:5)[1:end-1], k = (2:0.05:5)[1:end-1], tol=1e-3)"
   ]
  },
  {
   "cell_type": "code",
   "execution_count": null,
   "id": "e26e78e1-4dbf-4e39-b3b5-1acebd346aad",
   "metadata": {},
   "outputs": [],
   "source": []
  }
 ],
 "metadata": {
  "jupytext": {
   "encoding": "# -*- coding: utf-8 -*-",
   "formats": "ipynb,jl:hydrogen"
  },
  "kernelspec": {
   "display_name": "Julia 1.6.2",
   "language": "julia",
   "name": "julia-1.6"
  },
  "language_info": {
   "file_extension": ".jl",
   "mimetype": "application/julia",
   "name": "julia",
   "version": "1.6.2"
  }
 },
 "nbformat": 4,
 "nbformat_minor": 5
}
