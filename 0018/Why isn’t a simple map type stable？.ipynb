{
 "cells": [
  {
   "cell_type": "markdown",
   "id": "acbd3c97-9523-485b-a725-263cb06d639d",
   "metadata": {},
   "source": [
    "https://discourse.julialang.org/t/why-isnt-a-simple-map-type-stable/67028\n",
    "\n",
    "https://docs.julialang.org/en/v1/manual/performance-tips/#man-performance-captured-1"
   ]
  },
  {
   "cell_type": "code",
   "execution_count": 1,
   "id": "70d47608-12bd-406d-8961-5b740fc812f1",
   "metadata": {},
   "outputs": [
    {
     "name": "stdout",
     "output_type": "stream",
     "text": [
      "Variables\n",
      "  #self#\u001b[36m::Core.Const(gen1)\u001b[39m\n",
      "  n\u001b[36m::Int64\u001b[39m\n",
      "  #1\u001b[36m::var\"#1#2\"\u001b[39m\n",
      "  prevx\u001b[91m\u001b[1m::Core.Box\u001b[22m\u001b[39m\n",
      "\n",
      "Body\u001b[91m\u001b[1m::Vector{_A} where _A\u001b[22m\u001b[39m\n",
      "\u001b[90m1 ─\u001b[39m      (prevx = Core.Box())\n",
      "\u001b[90m│  \u001b[39m      Core.setfield!(prevx, :contents, 0.0)\n",
      "\u001b[90m│  \u001b[39m      (#1 = %new(Main.:(var\"#1#2\"), prevx))\n",
      "\u001b[90m│  \u001b[39m %4 = #1\u001b[36m::var\"#1#2\"\u001b[39m\n",
      "\u001b[90m│  \u001b[39m %5 = (1:n)\u001b[36m::Core.PartialStruct(UnitRange{Int64}, Any[Core.Const(1), Int64])\u001b[39m\n",
      "\u001b[90m│  \u001b[39m %6 = Main.map(%4, %5)\u001b[91m\u001b[1m::Vector{_A} where _A\u001b[22m\u001b[39m\n",
      "\u001b[90m└──\u001b[39m      return %6\n"
     ]
    }
   ],
   "source": [
    "function gen1(n)\n",
    "    prevx = 0.0\n",
    "    map(1:n) do _\n",
    "        x = randn()\n",
    "        r = prevx + x\n",
    "        prevx = x\n",
    "        r\n",
    "    end\n",
    "end\n",
    "\n",
    "@code_warntype gen1(10)"
   ]
  },
  {
   "cell_type": "code",
   "execution_count": 2,
   "id": "f8d844d8-8e18-47bc-ba48-14a9fb3c0f65",
   "metadata": {},
   "outputs": [
    {
     "name": "stdout",
     "output_type": "stream",
     "text": [
      "Variables\n",
      "  #self#\u001b[36m::Core.Const(gen1_rev1)\u001b[39m\n",
      "  n\u001b[36m::Int64\u001b[39m\n",
      "  #3\u001b[36m::var\"#3#4\"{Array{Float64, 0}}\u001b[39m\n",
      "  prevx\u001b[36m::Array{Float64, 0}\u001b[39m\n",
      "\n",
      "Body\u001b[36m::Vector{Float64}\u001b[39m\n",
      "\u001b[90m1 ─\u001b[39m      (prevx = Main.fill(0.0))\n",
      "\u001b[90m│  \u001b[39m %2 = Main.:(var\"#3#4\")\u001b[36m::Core.Const(var\"#3#4\")\u001b[39m\n",
      "\u001b[90m│  \u001b[39m %3 = Core.typeof(prevx)\u001b[36m::Core.Const(Array{Float64, 0})\u001b[39m\n",
      "\u001b[90m│  \u001b[39m %4 = Core.apply_type(%2, %3)\u001b[36m::Core.Const(var\"#3#4\"{Array{Float64, 0}})\u001b[39m\n",
      "\u001b[90m│  \u001b[39m      (#3 = %new(%4, prevx))\n",
      "\u001b[90m│  \u001b[39m %6 = #3\u001b[36m::var\"#3#4\"{Array{Float64, 0}}\u001b[39m\n",
      "\u001b[90m│  \u001b[39m %7 = (1:n)\u001b[36m::Core.PartialStruct(UnitRange{Int64}, Any[Core.Const(1), Int64])\u001b[39m\n",
      "\u001b[90m│  \u001b[39m %8 = Main.map(%6, %7)\u001b[36m::Vector{Float64}\u001b[39m\n",
      "\u001b[90m└──\u001b[39m      return %8\n"
     ]
    }
   ],
   "source": [
    "function gen1_rev1(n)\n",
    "    prevx = fill(0.0)\n",
    "    map(1:n) do _\n",
    "        x = randn()\n",
    "        r = prevx[] + x\n",
    "        prevx[] = x\n",
    "        r\n",
    "    end\n",
    "end\n",
    "\n",
    "@code_warntype gen1_rev1(10)"
   ]
  },
  {
   "cell_type": "code",
   "execution_count": 3,
   "id": "cf5ab668-b78a-4a06-b79b-df26fa9cce62",
   "metadata": {},
   "outputs": [
    {
     "name": "stdout",
     "output_type": "stream",
     "text": [
      "Variables\n",
      "  #self#\u001b[36m::Core.Const(gen1_rev2)\u001b[39m\n",
      "  n\u001b[36m::Int64\u001b[39m\n",
      "  #5\u001b[36m::var\"#5#6\"{Base.RefValue{Float64}}\u001b[39m\n",
      "  prevx\u001b[36m::Base.RefValue{Float64}\u001b[39m\n",
      "\n",
      "Body\u001b[36m::Vector{Float64}\u001b[39m\n",
      "\u001b[90m1 ─\u001b[39m      (prevx = Main.Ref(0.0))\n",
      "\u001b[90m│  \u001b[39m %2 = Main.:(var\"#5#6\")\u001b[36m::Core.Const(var\"#5#6\")\u001b[39m\n",
      "\u001b[90m│  \u001b[39m %3 = Core.typeof(prevx)\u001b[36m::Core.Const(Base.RefValue{Float64})\u001b[39m\n",
      "\u001b[90m│  \u001b[39m %4 = Core.apply_type(%2, %3)\u001b[36m::Core.Const(var\"#5#6\"{Base.RefValue{Float64}})\u001b[39m\n",
      "\u001b[90m│  \u001b[39m      (#5 = %new(%4, prevx))\n",
      "\u001b[90m│  \u001b[39m %6 = #5\u001b[36m::var\"#5#6\"{Base.RefValue{Float64}}\u001b[39m\n",
      "\u001b[90m│  \u001b[39m %7 = (1:n)\u001b[36m::Core.PartialStruct(UnitRange{Int64}, Any[Core.Const(1), Int64])\u001b[39m\n",
      "\u001b[90m│  \u001b[39m %8 = Main.map(%6, %7)\u001b[36m::Vector{Float64}\u001b[39m\n",
      "\u001b[90m└──\u001b[39m      return %8\n"
     ]
    }
   ],
   "source": [
    "function gen1_rev2(n)\n",
    "    prevx = Ref(0.0)\n",
    "    map(1:n) do _\n",
    "        x = randn()\n",
    "        r = prevx[] + x\n",
    "        prevx[] = x\n",
    "        r\n",
    "    end\n",
    "end\n",
    "\n",
    "@code_warntype gen1_rev2(10)"
   ]
  },
  {
   "cell_type": "code",
   "execution_count": 4,
   "id": "c0b9c956-1655-40f8-9bc8-14a82890bacd",
   "metadata": {},
   "outputs": [
    {
     "name": "stdout",
     "output_type": "stream",
     "text": [
      "Variables\n",
      "  #self#\u001b[36m::Core.Const(gen1_rev3)\u001b[39m\n",
      "  n\u001b[36m::Int64\u001b[39m\n",
      "  #7\u001b[36m::var\"#7#8\"\u001b[39m\n",
      "  prevx\u001b[91m\u001b[1m::Core.Box\u001b[22m\u001b[39m\n",
      "\n",
      "Body\u001b[36m::Vector{Float64}\u001b[39m\n",
      "\u001b[90m1 ─\u001b[39m      (prevx = Core.Box())\n",
      "\u001b[90m│  \u001b[39m %2 = prevx\u001b[91m\u001b[1m::Core.Box\u001b[22m\u001b[39m\n",
      "\u001b[90m│  \u001b[39m %3 = Base.convert(Main.Float64, 0.0)\u001b[36m::Core.Const(0.0)\u001b[39m\n",
      "\u001b[90m│  \u001b[39m %4 = Core.typeassert(%3, Main.Float64)\u001b[36m::Core.Const(0.0)\u001b[39m\n",
      "\u001b[90m│  \u001b[39m      Core.setfield!(%2, :contents, %4)\n",
      "\u001b[90m│  \u001b[39m      (#7 = %new(Main.:(var\"#7#8\"), prevx))\n",
      "\u001b[90m│  \u001b[39m %7 = #7\u001b[36m::var\"#7#8\"\u001b[39m\n",
      "\u001b[90m│  \u001b[39m %8 = (1:n)\u001b[36m::Core.PartialStruct(UnitRange{Int64}, Any[Core.Const(1), Int64])\u001b[39m\n",
      "\u001b[90m│  \u001b[39m %9 = Main.map(%7, %8)\u001b[36m::Vector{Float64}\u001b[39m\n",
      "\u001b[90m└──\u001b[39m      return %9\n"
     ]
    }
   ],
   "source": [
    "function gen1_rev3(n)\n",
    "    prevx::Float64 = 0.0\n",
    "    map(1:n) do _\n",
    "        x = randn()\n",
    "        r = prevx + x\n",
    "        prevx = x\n",
    "        r\n",
    "    end\n",
    "end\n",
    "\n",
    "@code_warntype gen1_rev3(10)"
   ]
  },
  {
   "cell_type": "code",
   "execution_count": null,
   "id": "31f20f71-5e92-44f4-9c8c-4ca42a44493d",
   "metadata": {},
   "outputs": [],
   "source": []
  }
 ],
 "metadata": {
  "jupytext": {
   "formats": "ipynb,auto:hydrogen"
  },
  "kernelspec": {
   "display_name": "Julia 1.6.2",
   "language": "julia",
   "name": "julia-1.6"
  },
  "language_info": {
   "file_extension": ".jl",
   "mimetype": "application/julia",
   "name": "julia",
   "version": "1.6.2"
  }
 },
 "nbformat": 4,
 "nbformat_minor": 5
}
