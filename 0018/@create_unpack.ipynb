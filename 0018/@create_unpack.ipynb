{
 "cells": [
  {
   "cell_type": "code",
   "execution_count": 1,
   "id": "f5334c4c-cf45-4a2f-ac61-87205094d4b2",
   "metadata": {},
   "outputs": [
    {
     "data": {
      "text/plain": [
       "Main.CreateUnPack"
      ]
     },
     "execution_count": 1,
     "metadata": {},
     "output_type": "execute_result"
    }
   ],
   "source": [
    "\"\"\"\n",
    "The `CreateUnPack` module only exports the `@create_unpack` macro,\n",
    "which creates a macro unpacking fields or properties of an object.\n",
    "\n",
    "__Simple Intended Usage:__\n",
    "```\n",
    "julia> using .CreateUnPack\n",
    "\n",
    "julia> struct Foo{A, B, C} a::A; b::B; c::C end\n",
    "\n",
    "julia> @create_unpack all_Foo Foo\n",
    "@unpackall_Foo (macro with 1 method)\n",
    "\n",
    "help?> @unpackall_Foo\n",
    "@unpackall_Foo(x) unpacks the fields (:a, :b, :c) of x.\n",
    "\n",
    "julia> @macroexpand @unpackall_Foo foo\n",
    ":((a, b, c) = (foo.a, foo.b, foo.c))\n",
    "\n",
    "julia> @unpackall_Foo Foo(1, 2.0, \"three\")\n",
    "(1, 2.0, \"three\")\n",
    "\n",
    "julia> a, b, c\n",
    "(1, 2.0, \"three\")\n",
    "```\n",
    "\"\"\"\n",
    "module CreateUnPack\n",
    "\n",
    "export @create_unpack\n",
    "\n",
    "\"\"\"\n",
    "    @create_unpack(name::Symbol, expr)\n",
    "\n",
    "creates the macro named `Symbol(:unpack, name)`\n",
    "which unpacks the fields specified by `expr` of an object.\n",
    "\n",
    "Let `val` be the value of `expr`.\n",
    "\n",
    "* If `val` is a tuple of symbols, then set the unpacking fields to `val`.\n",
    "* If `val` is a typp, then set the unpacking fields to `fieldnames(val)`.\n",
    "* Otherwise, set the unpacking fields to `propertynames(val)`.\n",
    "\n",
    "__Example:__\n",
    "\n",
    "```\n",
    "julia> @create_unpack _cat_and_dog (:cat, :dog)\n",
    "@unpack_cat_and_dog (macro with 1 method)\n",
    "\n",
    "help?> @unpack_cat_and_dog\n",
    "@unpack_cat_and_dog(obj) unpacks the fields (:cat, :dog) of obj.\n",
    "\n",
    "julia> @macroexpand @unpack_cat_and_dog x\n",
    ":((cat, dog) = (x.cat, x.dog))\n",
    "\n",
    "julia> @unpack_cat_and_dog (dog = \"bowwow\", mouse = \"squeak\", cat = \"meow\")\n",
    "(\"meow\", \"bowwow\")\n",
    "\n",
    "julia> cat, dog\n",
    "(\"meow\", \"bowwow\")\n",
    "\n",
    "julia> struct Foo{A, B, C} a::A; b::B; c::C end\n",
    "\n",
    "julia> @create_unpack all_Foo Foo\n",
    "@unpackall_Foo (macro with 1 method)\n",
    "\n",
    "help?> @unpackall_Foo\n",
    "@unpackall_Foo(obj) unpacks the fields (:a, :b, :c) of obj.\n",
    "\n",
    "julia> @macroexpand @unpackall_Foo foo\n",
    ":((a, b, c) = (foo.a, foo.b, foo.c))\n",
    "\n",
    "julia> @unpackall_Foo Foo(1, 2.0, \"three\")\n",
    "(1, 2.0, \"three\")\n",
    "\n",
    "julia> a, b, c\n",
    "(1, 2.0, \"three\")\n",
    "\n",
    "julia> baz = (p = \"one\", q = 2.0, r = 3)\n",
    "\n",
    "julia> @create_unpack all_baz baz\n",
    "@unpackall_baz (macro with 1 method)\n",
    "\n",
    "help?> @unpackall_baz\n",
    "@unpackall_baz(obj) unpacks the fields (:p, :q, :r) of obj.\n",
    "\n",
    "julia> @macroexpand @unpackall_baz baz\n",
    ":((p, q, r) = (baz.p, baz.q, baz.r))\n",
    "\n",
    "julia> @unpackall_baz baz\n",
    "(\"one\", '2', 3)\n",
    "\n",
    "julia> p, q, r\n",
    "(\"one\", '2', 3)\n",
    "\n",
    "```\n",
    "\"\"\"\n",
    "macro create_unpack(name::Symbol, expr)\n",
    "    macroname = Symbol(:unpack, name)\n",
    "    atmacroname = Symbol('@', macroname)\n",
    "    val = Core.eval(__module__, expr)\n",
    "    names = val isa Tuple{Vararg{Symbol}} ? val :\n",
    "            val isa Type ? fieldnames(val) : propertynames(val)\n",
    "    docstr = \"\"\"`$atmacroname(obj)` unpacks the fields `$names` of `obj`.\"\"\"\n",
    "    quote\n",
    "        macro $macroname(obj)\n",
    "            Expr(:(=),\n",
    "                Expr(:tuple, $names...),\n",
    "                Expr(:tuple, (:($obj.$name) for name in $names)...)\n",
    "            ) |> esc\n",
    "        end\n",
    "        @doc $docstr $(:($atmacroname))\n",
    "        $atmacroname\n",
    "    end |> esc\n",
    "end\n",
    "\n",
    "end"
   ]
  },
  {
   "cell_type": "code",
   "execution_count": 2,
   "id": "e75c7fd2-f659-4a95-8f8c-1b28b5dac6e8",
   "metadata": {},
   "outputs": [
    {
     "data": {
      "text/latex": [
       "The \\texttt{CreateUnPack} module only exports the \\texttt{@create\\_unpack} macro, which creates a macro unpacking fields or properties of an object.\n",
       "\n",
       "\\textbf{Simple Intended Usage:}\n",
       "\n",
       "\\begin{verbatim}\n",
       "julia> using .CreateUnPack\n",
       "\n",
       "julia> struct Foo{A, B, C} a::A; b::B; c::C end\n",
       "\n",
       "julia> @create_unpack all_Foo Foo\n",
       "@unpackall_Foo (macro with 1 method)\n",
       "\n",
       "help?> @unpackall_Foo\n",
       "@unpackall_Foo(x) unpacks the fields (:a, :b, :c) of x.\n",
       "\n",
       "julia> @macroexpand @unpackall_Foo foo\n",
       ":((a, b, c) = (foo.a, foo.b, foo.c))\n",
       "\n",
       "julia> @unpackall_Foo Foo(1, 2.0, \"three\")\n",
       "(1, 2.0, \"three\")\n",
       "\n",
       "julia> a, b, c\n",
       "(1, 2.0, \"three\")\n",
       "\\end{verbatim}\n"
      ],
      "text/markdown": [
       "The `CreateUnPack` module only exports the `@create_unpack` macro, which creates a macro unpacking fields or properties of an object.\n",
       "\n",
       "**Simple Intended Usage:**\n",
       "\n",
       "```\n",
       "julia> using .CreateUnPack\n",
       "\n",
       "julia> struct Foo{A, B, C} a::A; b::B; c::C end\n",
       "\n",
       "julia> @create_unpack all_Foo Foo\n",
       "@unpackall_Foo (macro with 1 method)\n",
       "\n",
       "help?> @unpackall_Foo\n",
       "@unpackall_Foo(x) unpacks the fields (:a, :b, :c) of x.\n",
       "\n",
       "julia> @macroexpand @unpackall_Foo foo\n",
       ":((a, b, c) = (foo.a, foo.b, foo.c))\n",
       "\n",
       "julia> @unpackall_Foo Foo(1, 2.0, \"three\")\n",
       "(1, 2.0, \"three\")\n",
       "\n",
       "julia> a, b, c\n",
       "(1, 2.0, \"three\")\n",
       "```\n"
      ],
      "text/plain": [
       "  The \u001b[36mCreateUnPack\u001b[39m module only exports the \u001b[36m@create_unpack\u001b[39m macro, which creates\n",
       "  a macro unpacking fields or properties of an object.\n",
       "\n",
       "  \u001b[1mSimple Intended Usage:\u001b[22m\n",
       "\n",
       "\u001b[36m  julia> using .CreateUnPack\u001b[39m\n",
       "\u001b[36m  \u001b[39m\n",
       "\u001b[36m  julia> struct Foo{A, B, C} a::A; b::B; c::C end\u001b[39m\n",
       "\u001b[36m  \u001b[39m\n",
       "\u001b[36m  julia> @create_unpack all_Foo Foo\u001b[39m\n",
       "\u001b[36m  @unpackall_Foo (macro with 1 method)\u001b[39m\n",
       "\u001b[36m  \u001b[39m\n",
       "\u001b[36m  help?> @unpackall_Foo\u001b[39m\n",
       "\u001b[36m  @unpackall_Foo(x) unpacks the fields (:a, :b, :c) of x.\u001b[39m\n",
       "\u001b[36m  \u001b[39m\n",
       "\u001b[36m  julia> @macroexpand @unpackall_Foo foo\u001b[39m\n",
       "\u001b[36m  :((a, b, c) = (foo.a, foo.b, foo.c))\u001b[39m\n",
       "\u001b[36m  \u001b[39m\n",
       "\u001b[36m  julia> @unpackall_Foo Foo(1, 2.0, \"three\")\u001b[39m\n",
       "\u001b[36m  (1, 2.0, \"three\")\u001b[39m\n",
       "\u001b[36m  \u001b[39m\n",
       "\u001b[36m  julia> a, b, c\u001b[39m\n",
       "\u001b[36m  (1, 2.0, \"three\")\u001b[39m"
      ]
     },
     "execution_count": 2,
     "metadata": {},
     "output_type": "execute_result"
    }
   ],
   "source": [
    "@doc CreateUnPack"
   ]
  },
  {
   "cell_type": "code",
   "execution_count": 3,
   "id": "ea8779c8-1475-40ab-ab5f-60141f79a688",
   "metadata": {},
   "outputs": [
    {
     "data": {
      "text/latex": [
       "\\begin{verbatim}\n",
       "@create_unpack(name::Symbol, expr)\n",
       "\\end{verbatim}\n",
       "creates the macro named \\texttt{Symbol(:unpack, name)} which unpacks the fields specified by \\texttt{expr} of an object.\n",
       "\n",
       "Let \\texttt{val} be the value of \\texttt{expr}.\n",
       "\n",
       "\\begin{itemize}\n",
       "\\item If \\texttt{val} is a tuple of symbols, then set the unpacking fields to \\texttt{val}.\n",
       "\n",
       "\n",
       "\\item If \\texttt{val} is a typp, then set the unpacking fields to \\texttt{fieldnames(val)}.\n",
       "\n",
       "\n",
       "\\item Otherwise, set the unpacking fields to \\texttt{propertynames(val)}.\n",
       "\n",
       "\\end{itemize}\n",
       "\\textbf{Example:}\n",
       "\n",
       "\\begin{verbatim}\n",
       "julia> @create_unpack _cat_and_dog (:cat, :dog)\n",
       "@unpack_cat_and_dog (macro with 1 method)\n",
       "\n",
       "help?> @unpack_cat_and_dog\n",
       "@unpack_cat_and_dog(obj) unpacks the fields (:cat, :dog) of obj.\n",
       "\n",
       "julia> @macroexpand @unpack_cat_and_dog x\n",
       ":((cat, dog) = (x.cat, x.dog))\n",
       "\n",
       "julia> @unpack_cat_and_dog (dog = \"bowwow\", mouse = \"squeak\", cat = \"meow\")\n",
       "(\"meow\", \"bowwow\")\n",
       "\n",
       "julia> cat, dog\n",
       "(\"meow\", \"bowwow\")\n",
       "\n",
       "julia> struct Foo{A, B, C} a::A; b::B; c::C end\n",
       "\n",
       "julia> @create_unpack all_Foo Foo\n",
       "@unpackall_Foo (macro with 1 method)\n",
       "\n",
       "help?> @unpackall_Foo\n",
       "@unpackall_Foo(obj) unpacks the fields (:a, :b, :c) of obj.\n",
       "\n",
       "julia> @macroexpand @unpackall_Foo foo\n",
       ":((a, b, c) = (foo.a, foo.b, foo.c))\n",
       "\n",
       "julia> @unpackall_Foo Foo(1, 2.0, \"three\")\n",
       "(1, 2.0, \"three\")\n",
       "\n",
       "julia> a, b, c\n",
       "(1, 2.0, \"three\")\n",
       "\n",
       "julia> baz = (p = \"one\", q = 2.0, r = 3)\n",
       "\n",
       "julia> @create_unpack all_baz baz\n",
       "@unpackall_baz (macro with 1 method)\n",
       "\n",
       "help?> @unpackall_baz\n",
       "@unpackall_baz(obj) unpacks the fields (:p, :q, :r) of obj.\n",
       "\n",
       "julia> @macroexpand @unpackall_baz baz\n",
       ":((p, q, r) = (baz.p, baz.q, baz.r))\n",
       "\n",
       "julia> @unpackall_baz baz\n",
       "(\"one\", '2', 3)\n",
       "\n",
       "julia> p, q, r\n",
       "(\"one\", '2', 3)\n",
       "\n",
       "\\end{verbatim}\n"
      ],
      "text/markdown": [
       "```\n",
       "@create_unpack(name::Symbol, expr)\n",
       "```\n",
       "\n",
       "creates the macro named `Symbol(:unpack, name)` which unpacks the fields specified by `expr` of an object.\n",
       "\n",
       "Let `val` be the value of `expr`.\n",
       "\n",
       "  * If `val` is a tuple of symbols, then set the unpacking fields to `val`.\n",
       "  * If `val` is a typp, then set the unpacking fields to `fieldnames(val)`.\n",
       "  * Otherwise, set the unpacking fields to `propertynames(val)`.\n",
       "\n",
       "**Example:**\n",
       "\n",
       "```\n",
       "julia> @create_unpack _cat_and_dog (:cat, :dog)\n",
       "@unpack_cat_and_dog (macro with 1 method)\n",
       "\n",
       "help?> @unpack_cat_and_dog\n",
       "@unpack_cat_and_dog(obj) unpacks the fields (:cat, :dog) of obj.\n",
       "\n",
       "julia> @macroexpand @unpack_cat_and_dog x\n",
       ":((cat, dog) = (x.cat, x.dog))\n",
       "\n",
       "julia> @unpack_cat_and_dog (dog = \"bowwow\", mouse = \"squeak\", cat = \"meow\")\n",
       "(\"meow\", \"bowwow\")\n",
       "\n",
       "julia> cat, dog\n",
       "(\"meow\", \"bowwow\")\n",
       "\n",
       "julia> struct Foo{A, B, C} a::A; b::B; c::C end\n",
       "\n",
       "julia> @create_unpack all_Foo Foo\n",
       "@unpackall_Foo (macro with 1 method)\n",
       "\n",
       "help?> @unpackall_Foo\n",
       "@unpackall_Foo(obj) unpacks the fields (:a, :b, :c) of obj.\n",
       "\n",
       "julia> @macroexpand @unpackall_Foo foo\n",
       ":((a, b, c) = (foo.a, foo.b, foo.c))\n",
       "\n",
       "julia> @unpackall_Foo Foo(1, 2.0, \"three\")\n",
       "(1, 2.0, \"three\")\n",
       "\n",
       "julia> a, b, c\n",
       "(1, 2.0, \"three\")\n",
       "\n",
       "julia> baz = (p = \"one\", q = 2.0, r = 3)\n",
       "\n",
       "julia> @create_unpack all_baz baz\n",
       "@unpackall_baz (macro with 1 method)\n",
       "\n",
       "help?> @unpackall_baz\n",
       "@unpackall_baz(obj) unpacks the fields (:p, :q, :r) of obj.\n",
       "\n",
       "julia> @macroexpand @unpackall_baz baz\n",
       ":((p, q, r) = (baz.p, baz.q, baz.r))\n",
       "\n",
       "julia> @unpackall_baz baz\n",
       "(\"one\", '2', 3)\n",
       "\n",
       "julia> p, q, r\n",
       "(\"one\", '2', 3)\n",
       "\n",
       "```\n"
      ],
      "text/plain": [
       "\u001b[36m  @create_unpack(name::Symbol, expr)\u001b[39m\n",
       "\n",
       "  creates the macro named \u001b[36mSymbol(:unpack, name)\u001b[39m which unpacks the fields\n",
       "  specified by \u001b[36mexpr\u001b[39m of an object.\n",
       "\n",
       "  Let \u001b[36mval\u001b[39m be the value of \u001b[36mexpr\u001b[39m.\n",
       "\n",
       "    •  If \u001b[36mval\u001b[39m is a tuple of symbols, then set the unpacking fields to\n",
       "       \u001b[36mval\u001b[39m.\n",
       "\n",
       "    •  If \u001b[36mval\u001b[39m is a typp, then set the unpacking fields to\n",
       "       \u001b[36mfieldnames(val)\u001b[39m.\n",
       "\n",
       "    •  Otherwise, set the unpacking fields to \u001b[36mpropertynames(val)\u001b[39m.\n",
       "\n",
       "  \u001b[1mExample:\u001b[22m\n",
       "\n",
       "\u001b[36m  julia> @create_unpack _cat_and_dog (:cat, :dog)\u001b[39m\n",
       "\u001b[36m  @unpack_cat_and_dog (macro with 1 method)\u001b[39m\n",
       "\u001b[36m  \u001b[39m\n",
       "\u001b[36m  help?> @unpack_cat_and_dog\u001b[39m\n",
       "\u001b[36m  @unpack_cat_and_dog(obj) unpacks the fields (:cat, :dog) of obj.\u001b[39m\n",
       "\u001b[36m  \u001b[39m\n",
       "\u001b[36m  julia> @macroexpand @unpack_cat_and_dog x\u001b[39m\n",
       "\u001b[36m  :((cat, dog) = (x.cat, x.dog))\u001b[39m\n",
       "\u001b[36m  \u001b[39m\n",
       "\u001b[36m  julia> @unpack_cat_and_dog (dog = \"bowwow\", mouse = \"squeak\", cat = \"meow\")\u001b[39m\n",
       "\u001b[36m  (\"meow\", \"bowwow\")\u001b[39m\n",
       "\u001b[36m  \u001b[39m\n",
       "\u001b[36m  julia> cat, dog\u001b[39m\n",
       "\u001b[36m  (\"meow\", \"bowwow\")\u001b[39m\n",
       "\u001b[36m  \u001b[39m\n",
       "\u001b[36m  julia> struct Foo{A, B, C} a::A; b::B; c::C end\u001b[39m\n",
       "\u001b[36m  \u001b[39m\n",
       "\u001b[36m  julia> @create_unpack all_Foo Foo\u001b[39m\n",
       "\u001b[36m  @unpackall_Foo (macro with 1 method)\u001b[39m\n",
       "\u001b[36m  \u001b[39m\n",
       "\u001b[36m  help?> @unpackall_Foo\u001b[39m\n",
       "\u001b[36m  @unpackall_Foo(obj) unpacks the fields (:a, :b, :c) of obj.\u001b[39m\n",
       "\u001b[36m  \u001b[39m\n",
       "\u001b[36m  julia> @macroexpand @unpackall_Foo foo\u001b[39m\n",
       "\u001b[36m  :((a, b, c) = (foo.a, foo.b, foo.c))\u001b[39m\n",
       "\u001b[36m  \u001b[39m\n",
       "\u001b[36m  julia> @unpackall_Foo Foo(1, 2.0, \"three\")\u001b[39m\n",
       "\u001b[36m  (1, 2.0, \"three\")\u001b[39m\n",
       "\u001b[36m  \u001b[39m\n",
       "\u001b[36m  julia> a, b, c\u001b[39m\n",
       "\u001b[36m  (1, 2.0, \"three\")\u001b[39m\n",
       "\u001b[36m  \u001b[39m\n",
       "\u001b[36m  julia> baz = (p = \"one\", q = 2.0, r = 3)\u001b[39m\n",
       "\u001b[36m  \u001b[39m\n",
       "\u001b[36m  julia> @create_unpack all_baz baz\u001b[39m\n",
       "\u001b[36m  @unpackall_baz (macro with 1 method)\u001b[39m\n",
       "\u001b[36m  \u001b[39m\n",
       "\u001b[36m  help?> @unpackall_baz\u001b[39m\n",
       "\u001b[36m  @unpackall_baz(obj) unpacks the fields (:p, :q, :r) of obj.\u001b[39m\n",
       "\u001b[36m  \u001b[39m\n",
       "\u001b[36m  julia> @macroexpand @unpackall_baz baz\u001b[39m\n",
       "\u001b[36m  :((p, q, r) = (baz.p, baz.q, baz.r))\u001b[39m\n",
       "\u001b[36m  \u001b[39m\n",
       "\u001b[36m  julia> @unpackall_baz baz\u001b[39m\n",
       "\u001b[36m  (\"one\", '2', 3)\u001b[39m\n",
       "\u001b[36m  \u001b[39m\n",
       "\u001b[36m  julia> p, q, r\u001b[39m\n",
       "\u001b[36m  (\"one\", '2', 3)\u001b[39m\n",
       "\u001b[36m  \u001b[39m"
      ]
     },
     "execution_count": 3,
     "metadata": {},
     "output_type": "execute_result"
    }
   ],
   "source": [
    "using .CreateUnPack\n",
    "@doc @create_unpack"
   ]
  },
  {
   "cell_type": "code",
   "execution_count": 4,
   "id": "3718b7c8-aa41-4019-ab99-a9aafcd58fbd",
   "metadata": {},
   "outputs": [
    {
     "data": {
      "text/plain": [
       "@unpack_cat_and_dog (macro with 1 method)"
      ]
     },
     "execution_count": 4,
     "metadata": {},
     "output_type": "execute_result"
    }
   ],
   "source": [
    "@create_unpack _cat_and_dog (:cat, :dog)"
   ]
  },
  {
   "cell_type": "code",
   "execution_count": 5,
   "id": "1c694a6e-0294-44eb-ad30-9227e2deecd3",
   "metadata": {},
   "outputs": [
    {
     "data": {
      "text/latex": [
       "\\texttt{@unpack\\_cat\\_and\\_dog(obj)} unpacks the fields \\texttt{(:cat, :dog)} of \\texttt{obj}.\n",
       "\n"
      ],
      "text/markdown": [
       "`@unpack_cat_and_dog(obj)` unpacks the fields `(:cat, :dog)` of `obj`.\n"
      ],
      "text/plain": [
       "  \u001b[36m@unpack_cat_and_dog(obj)\u001b[39m unpacks the fields \u001b[36m(:cat, :dog)\u001b[39m of \u001b[36mobj\u001b[39m."
      ]
     },
     "execution_count": 5,
     "metadata": {},
     "output_type": "execute_result"
    }
   ],
   "source": [
    "?@unpack_cat_and_dog"
   ]
  },
  {
   "cell_type": "code",
   "execution_count": 6,
   "id": "d89d6718-8d10-4ad1-bbed-68ac8187d8bb",
   "metadata": {},
   "outputs": [
    {
     "data": {
      "text/plain": [
       ":((cat, dog) = (x.cat, x.dog))"
      ]
     },
     "execution_count": 6,
     "metadata": {},
     "output_type": "execute_result"
    }
   ],
   "source": [
    "@macroexpand @unpack_cat_and_dog x"
   ]
  },
  {
   "cell_type": "code",
   "execution_count": 7,
   "id": "0d6bdc7b-db78-4db4-9486-119ebae2e087",
   "metadata": {},
   "outputs": [
    {
     "data": {
      "text/plain": [
       "(\"meow\", \"bowwow\")"
      ]
     },
     "execution_count": 7,
     "metadata": {},
     "output_type": "execute_result"
    }
   ],
   "source": [
    "@unpack_cat_and_dog (dog = \"bowwow\", mouse = \"squeak\", cat = \"meow\")"
   ]
  },
  {
   "cell_type": "code",
   "execution_count": 8,
   "id": "6d938e2c-f368-4cfb-9467-f2955b4ed3aa",
   "metadata": {},
   "outputs": [
    {
     "data": {
      "text/plain": [
       "(\"meow\", \"bowwow\")"
      ]
     },
     "execution_count": 8,
     "metadata": {},
     "output_type": "execute_result"
    }
   ],
   "source": [
    "cat, dog"
   ]
  },
  {
   "cell_type": "code",
   "execution_count": 9,
   "id": "8672a90c-0a67-4539-a555-89f58c145126",
   "metadata": {
    "tags": []
   },
   "outputs": [],
   "source": [
    "struct Foo{A, B, C} a::A; b::B; c::C end"
   ]
  },
  {
   "cell_type": "code",
   "execution_count": 10,
   "id": "207cef53-6b5d-49be-8320-6a9193346f75",
   "metadata": {},
   "outputs": [
    {
     "data": {
      "text/plain": [
       "@unpackall_Foo (macro with 1 method)"
      ]
     },
     "execution_count": 10,
     "metadata": {},
     "output_type": "execute_result"
    }
   ],
   "source": [
    "@create_unpack all_Foo Foo"
   ]
  },
  {
   "cell_type": "code",
   "execution_count": 11,
   "id": "6ad206ae-811e-4dcb-ab4f-d33f8321569f",
   "metadata": {},
   "outputs": [
    {
     "data": {
      "text/latex": [
       "\\texttt{@unpackall\\_Foo(obj)} unpacks the fields \\texttt{(:a, :b, :c)} of \\texttt{obj}.\n",
       "\n"
      ],
      "text/markdown": [
       "`@unpackall_Foo(obj)` unpacks the fields `(:a, :b, :c)` of `obj`.\n"
      ],
      "text/plain": [
       "  \u001b[36m@unpackall_Foo(obj)\u001b[39m unpacks the fields \u001b[36m(:a, :b, :c)\u001b[39m of \u001b[36mobj\u001b[39m."
      ]
     },
     "execution_count": 11,
     "metadata": {},
     "output_type": "execute_result"
    }
   ],
   "source": [
    "?@unpackall_Foo"
   ]
  },
  {
   "cell_type": "code",
   "execution_count": 12,
   "id": "5431214c-a1f5-474e-9736-6302b4a1e43d",
   "metadata": {},
   "outputs": [
    {
     "data": {
      "text/plain": [
       ":((a, b, c) = (foo.a, foo.b, foo.c))"
      ]
     },
     "execution_count": 12,
     "metadata": {},
     "output_type": "execute_result"
    }
   ],
   "source": [
    "@macroexpand @unpackall_Foo foo"
   ]
  },
  {
   "cell_type": "code",
   "execution_count": 13,
   "id": "71e1e22d-6ef6-4bd0-8466-372359317ce5",
   "metadata": {},
   "outputs": [
    {
     "data": {
      "text/plain": [
       "(1, 2.0, \"three\")"
      ]
     },
     "execution_count": 13,
     "metadata": {},
     "output_type": "execute_result"
    }
   ],
   "source": [
    "@unpackall_Foo Foo(1, 2.0, \"three\")"
   ]
  },
  {
   "cell_type": "code",
   "execution_count": 14,
   "id": "f387bccb-6c3f-4e9c-900b-2913702f0833",
   "metadata": {},
   "outputs": [
    {
     "data": {
      "text/plain": [
       "(1, 2.0, \"three\")"
      ]
     },
     "execution_count": 14,
     "metadata": {},
     "output_type": "execute_result"
    }
   ],
   "source": [
    "a, b, c"
   ]
  },
  {
   "cell_type": "code",
   "execution_count": 15,
   "id": "e2c16850-e026-432a-9b79-930563c4e4ba",
   "metadata": {},
   "outputs": [
    {
     "data": {
      "text/plain": [
       "f (generic function with 1 method)"
      ]
     },
     "execution_count": 15,
     "metadata": {},
     "output_type": "execute_result"
    }
   ],
   "source": [
    "function f(foo::Foo)\n",
    "    @unpackall_Foo foo\n",
    "    @show a b c\n",
    "    a, b, c\n",
    "end"
   ]
  },
  {
   "cell_type": "code",
   "execution_count": 16,
   "id": "81fa3d9b-f51f-4ef5-b54b-3695027d7f54",
   "metadata": {},
   "outputs": [
    {
     "name": "stdout",
     "output_type": "stream",
     "text": [
      "a = 1\n",
      "b = 2.0\n",
      "c = \"three\"\n"
     ]
    },
    {
     "data": {
      "text/plain": [
       "(1, 2.0, \"three\")"
      ]
     },
     "execution_count": 16,
     "metadata": {},
     "output_type": "execute_result"
    }
   ],
   "source": [
    "f(Foo(1, 2.0, \"three\"))"
   ]
  },
  {
   "cell_type": "code",
   "execution_count": 17,
   "id": "69922ccd-2b09-413a-b544-540f144774ca",
   "metadata": {},
   "outputs": [
    {
     "data": {
      "text/plain": [
       "(p = \"one\", q = 2.0, r = 3)"
      ]
     },
     "execution_count": 17,
     "metadata": {},
     "output_type": "execute_result"
    }
   ],
   "source": [
    "baz = (p = \"one\", q = 2.0, r = 3)"
   ]
  },
  {
   "cell_type": "code",
   "execution_count": 18,
   "id": "85ef2b2e-9e86-4b69-bfb2-5aaf38db478a",
   "metadata": {},
   "outputs": [
    {
     "data": {
      "text/plain": [
       "@unpackall_baz (macro with 1 method)"
      ]
     },
     "execution_count": 18,
     "metadata": {},
     "output_type": "execute_result"
    }
   ],
   "source": [
    "@create_unpack all_baz baz"
   ]
  },
  {
   "cell_type": "code",
   "execution_count": 19,
   "id": "4b233ad9-ec54-49a4-b20d-4f2c44b671a2",
   "metadata": {},
   "outputs": [
    {
     "data": {
      "text/latex": [
       "\\texttt{@unpackall\\_baz(obj)} unpacks the fields \\texttt{(:p, :q, :r)} of \\texttt{obj}.\n",
       "\n"
      ],
      "text/markdown": [
       "`@unpackall_baz(obj)` unpacks the fields `(:p, :q, :r)` of `obj`.\n"
      ],
      "text/plain": [
       "  \u001b[36m@unpackall_baz(obj)\u001b[39m unpacks the fields \u001b[36m(:p, :q, :r)\u001b[39m of \u001b[36mobj\u001b[39m."
      ]
     },
     "execution_count": 19,
     "metadata": {},
     "output_type": "execute_result"
    }
   ],
   "source": [
    "?@unpackall_baz"
   ]
  },
  {
   "cell_type": "code",
   "execution_count": 20,
   "id": "ab64ced3-5b8c-4cd0-b712-4d15bedbd544",
   "metadata": {},
   "outputs": [
    {
     "data": {
      "text/plain": [
       ":((p, q, r) = (baz.p, baz.q, baz.r))"
      ]
     },
     "execution_count": 20,
     "metadata": {},
     "output_type": "execute_result"
    }
   ],
   "source": [
    "@macroexpand @unpackall_baz baz"
   ]
  },
  {
   "cell_type": "code",
   "execution_count": 21,
   "id": "5ca296e8-85e5-4a4b-ae7f-a5994979c6e6",
   "metadata": {},
   "outputs": [
    {
     "data": {
      "text/plain": [
       "(\"one\", 2.0, 3)"
      ]
     },
     "execution_count": 21,
     "metadata": {},
     "output_type": "execute_result"
    }
   ],
   "source": [
    "@unpackall_baz baz"
   ]
  },
  {
   "cell_type": "code",
   "execution_count": 22,
   "id": "d1880da4-8b0f-4e58-a941-160afe178c2a",
   "metadata": {},
   "outputs": [
    {
     "data": {
      "text/plain": [
       "(\"one\", 2.0, 3)"
      ]
     },
     "execution_count": 22,
     "metadata": {},
     "output_type": "execute_result"
    }
   ],
   "source": [
    "p, q, r"
   ]
  },
  {
   "cell_type": "code",
   "execution_count": 23,
   "id": "901207bb-4244-4b4a-bc6d-69ade1cb8909",
   "metadata": {},
   "outputs": [
    {
     "data": {
      "text/plain": [
       "Main.A"
      ]
     },
     "execution_count": 23,
     "metadata": {},
     "output_type": "execute_result"
    }
   ],
   "source": [
    "module A\n",
    "using ..CreateUnPack\n",
    "struct Bar{X, Y} x::X; y::Y end\n",
    "@create_unpack Bar Bar\n",
    "end"
   ]
  },
  {
   "cell_type": "code",
   "execution_count": 24,
   "id": "6e6703df-b868-413e-9f1b-3289084d847b",
   "metadata": {},
   "outputs": [
    {
     "data": {
      "text/latex": [
       "\\texttt{@unpackBar(obj)} unpacks the fields \\texttt{(:x, :y)} of \\texttt{obj}.\n",
       "\n"
      ],
      "text/markdown": [
       "`@unpackBar(obj)` unpacks the fields `(:x, :y)` of `obj`.\n"
      ],
      "text/plain": [
       "  \u001b[36m@unpackBar(obj)\u001b[39m unpacks the fields \u001b[36m(:x, :y)\u001b[39m of \u001b[36mobj\u001b[39m."
      ]
     },
     "execution_count": 24,
     "metadata": {},
     "output_type": "execute_result"
    }
   ],
   "source": [
    "?A.@unpackBar"
   ]
  },
  {
   "cell_type": "code",
   "execution_count": 25,
   "id": "80bdbc8c-1d95-4acf-94fc-babf9d43a05a",
   "metadata": {},
   "outputs": [
    {
     "data": {
      "text/plain": [
       ":((x, y) = (bar.x, bar.y))"
      ]
     },
     "execution_count": 25,
     "metadata": {},
     "output_type": "execute_result"
    }
   ],
   "source": [
    "@macroexpand A.@unpackBar bar"
   ]
  },
  {
   "cell_type": "code",
   "execution_count": 26,
   "id": "187a75fa-b1df-4b2b-9103-69dee945b0f2",
   "metadata": {},
   "outputs": [
    {
     "data": {
      "text/plain": [
       "(1, 2)"
      ]
     },
     "execution_count": 26,
     "metadata": {},
     "output_type": "execute_result"
    }
   ],
   "source": [
    "A.@unpackBar A.Bar(1, 2)"
   ]
  },
  {
   "cell_type": "code",
   "execution_count": 27,
   "id": "e905401c-09b3-44ce-bec2-012a65fd26b1",
   "metadata": {},
   "outputs": [
    {
     "data": {
      "text/plain": [
       "(1, 2)"
      ]
     },
     "execution_count": 27,
     "metadata": {},
     "output_type": "execute_result"
    }
   ],
   "source": [
    "x, y"
   ]
  },
  {
   "cell_type": "code",
   "execution_count": null,
   "id": "8ba78a6f-36fd-436e-83ee-8d33baa3c70e",
   "metadata": {},
   "outputs": [],
   "source": []
  }
 ],
 "metadata": {
  "jupytext": {
   "formats": "ipynb,jl:hydrogen"
  },
  "kernelspec": {
   "display_name": "Julia 1.6.2",
   "language": "julia",
   "name": "julia-1.6"
  },
  "language_info": {
   "file_extension": ".jl",
   "mimetype": "application/julia",
   "name": "julia",
   "version": "1.6.2"
  }
 },
 "nbformat": 4,
 "nbformat_minor": 5
}
