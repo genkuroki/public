{
 "cells": [
  {
   "cell_type": "code",
   "execution_count": 1,
   "id": "af90089f-455c-44d1-990b-cd54915de641",
   "metadata": {},
   "outputs": [
    {
     "data": {
      "text/plain": [
       "7×8 Matrix{Int64}:\n",
       " 11  12  13  14  15  16  17  18\n",
       " 21  22  23  24  25  26  27  28\n",
       " 31  32  33  34  35  36  37  38\n",
       " 41  42  43  44  45  46  47  48\n",
       " 51  52  53  54  55  56  57  58\n",
       " 61  62  63  64  65  66  67  68\n",
       " 71  72  73  74  75  76  77  78"
      ]
     },
     "execution_count": 1,
     "metadata": {},
     "output_type": "execute_result"
    }
   ],
   "source": [
    "A = 10(1:7) .+ (1:8)'"
   ]
  },
  {
   "cell_type": "code",
   "execution_count": 2,
   "id": "1e1229b5-cc75-45d0-846e-6faa9fcc4123",
   "metadata": {},
   "outputs": [
    {
     "data": {
      "text/plain": [
       "(Bool[1, 0, 1, 0, 1, 0, 1], Bool[1, 1, 1, 1, 0, 0, 0, 0])"
      ]
     },
     "execution_count": 2,
     "metadata": {},
     "output_type": "execute_result"
    }
   ],
   "source": [
    "m1 = Bool[1, 0, 1, 0, 1, 0, 1]\n",
    "m2 = Bool[1, 1, 1, 1, 0, 0, 0, 0]\n",
    "m1, m2"
   ]
  },
  {
   "cell_type": "code",
   "execution_count": 3,
   "id": "f19c204e-8063-49d4-9cd6-2299f53886a9",
   "metadata": {},
   "outputs": [
    {
     "data": {
      "text/plain": [
       "4×4 Matrix{Int64}:\n",
       " 11  12  13  14\n",
       " 31  32  33  34\n",
       " 51  52  53  54\n",
       " 71  72  73  74"
      ]
     },
     "execution_count": 3,
     "metadata": {},
     "output_type": "execute_result"
    }
   ],
   "source": [
    "getindex(A, m1, m2)"
   ]
  },
  {
   "cell_type": "code",
   "execution_count": 4,
   "id": "b478e6e6-8378-4ca6-a0da-8419724edfa1",
   "metadata": {},
   "outputs": [
    {
     "data": {
      "text/html": [
       "getindex(A::<b>AbstractArray</b>, I...) in Base at <a href=\"https://github.com/JuliaLang/julia/tree/1b93d53fc4bb59350ada898038ed4de2994cce33/base/abstractarray.jl#L1167\" target=\"_blank\">abstractarray.jl:1167</a>"
      ],
      "text/plain": [
       "getindex(A::AbstractArray, I...) in Base at abstractarray.jl:1167"
      ]
     },
     "execution_count": 4,
     "metadata": {},
     "output_type": "execute_result"
    }
   ],
   "source": [
    "@which getindex(A, m1, m2)"
   ]
  },
  {
   "cell_type": "code",
   "execution_count": 5,
   "id": "9eddd610-90e6-4574-b59a-9c7aded25ca6",
   "metadata": {},
   "outputs": [
    {
     "data": {
      "text/plain": [
       "([1, 3, 5, 7], [1, 2, 3, 4])"
      ]
     },
     "execution_count": 5,
     "metadata": {},
     "output_type": "execute_result"
    }
   ],
   "source": [
    "M = to_indices(A, (m1, m2))"
   ]
  },
  {
   "cell_type": "code",
   "execution_count": 6,
   "id": "531d30c4-2151-492c-a0ef-f7b401ae5851",
   "metadata": {},
   "outputs": [
    {
     "name": "stdout",
     "output_type": "stream",
     "text": [
      "Tuple{Base.LogicalIndex{Int64, Vector{Bool}}, Base.LogicalIndex{Int64, Vector{Bool}}}\n",
      "  1: Base.LogicalIndex{Int64, Vector{Bool}}\n",
      "    mask: Array{Bool}((7,)) Bool[1, 0, 1, 0, 1, 0, 1]\n",
      "    sum: Int64 4\n",
      "  2: Base.LogicalIndex{Int64, Vector{Bool}}\n",
      "    mask: Array{Bool}((8,)) Bool[1, 1, 1, 1, 0, 0, 0, 0]\n",
      "    sum: Int64 4\n"
     ]
    }
   ],
   "source": [
    "dump(M)"
   ]
  },
  {
   "cell_type": "code",
   "execution_count": 7,
   "id": "827403f0-88ce-44f1-a792-358026d1a104",
   "metadata": {},
   "outputs": [
    {
     "data": {
      "text/plain": [
       "4-element Base.LogicalIndex{Int64, Vector{Bool}}:\n",
       " 1\n",
       " 3\n",
       " 5\n",
       " 7"
      ]
     },
     "execution_count": 7,
     "metadata": {},
     "output_type": "execute_result"
    }
   ],
   "source": [
    "M[1]"
   ]
  },
  {
   "cell_type": "code",
   "execution_count": 8,
   "id": "ee7bba76-8aab-40d0-a7a9-f1581d9d14ac",
   "metadata": {},
   "outputs": [
    {
     "data": {
      "text/latex": [
       "\\begin{verbatim}\n",
       "LogicalIndex(mask)\n",
       "\\end{verbatim}\n",
       "The \\texttt{LogicalIndex} type is a special vector that simply contains all indices I where \\texttt{mask[I]} is true. This specialized type does not support indexing directly as doing so would require O(n) lookup time. \\texttt{AbstractArray\\{Bool\\}} are wrapped with \\texttt{LogicalIndex} upon calling \\href{@ref}{\\texttt{to\\_indices}}.\n",
       "\n"
      ],
      "text/markdown": [
       "```\n",
       "LogicalIndex(mask)\n",
       "```\n",
       "\n",
       "The `LogicalIndex` type is a special vector that simply contains all indices I where `mask[I]` is true. This specialized type does not support indexing directly as doing so would require O(n) lookup time. `AbstractArray{Bool}` are wrapped with `LogicalIndex` upon calling [`to_indices`](@ref).\n"
      ],
      "text/plain": [
       "\u001b[36m  LogicalIndex(mask)\u001b[39m\n",
       "\n",
       "  The \u001b[36mLogicalIndex\u001b[39m type is a special vector that simply contains all indices I\n",
       "  where \u001b[36mmask[I]\u001b[39m is true. This specialized type does not support indexing\n",
       "  directly as doing so would require O(n) lookup time. \u001b[36mAbstractArray{Bool}\u001b[39m are\n",
       "  wrapped with \u001b[36mLogicalIndex\u001b[39m upon calling \u001b[36mto_indices\u001b[39m."
      ]
     },
     "execution_count": 8,
     "metadata": {},
     "output_type": "execute_result"
    }
   ],
   "source": [
    "?Base.LogicalIndex"
   ]
  },
  {
   "cell_type": "code",
   "execution_count": 9,
   "id": "36d157e0-ea80-479d-a613-c62f432365a9",
   "metadata": {},
   "outputs": [
    {
     "data": {
      "text/plain": [
       "4×4 view(::Matrix{Int64}, [1, 3, 5, 7], [1, 2, 3, 4]) with eltype Int64:\n",
       " 11  12  13  14\n",
       " 31  32  33  34\n",
       " 51  52  53  54\n",
       " 71  72  73  74"
      ]
     },
     "execution_count": 9,
     "metadata": {},
     "output_type": "execute_result"
    }
   ],
   "source": [
    "W = view(A, m1, m2)"
   ]
  },
  {
   "cell_type": "code",
   "execution_count": 10,
   "id": "b61c0ce0-6636-4a2e-9c74-141dc057b534",
   "metadata": {},
   "outputs": [
    {
     "name": "stdout",
     "output_type": "stream",
     "text": [
      "SubArray{Int64, 2, Matrix{Int64}, Tuple{Vector{Int64}, Vector{Int64}}, false}\n",
      "  parent: Array{Int64}((7, 8)) [11 12 … 17 18; 21 22 … 27 28; … ; 61 62 … 67 68; 71 72 … 77 78]\n",
      "  indices: Tuple{Vector{Int64}, Vector{Int64}}\n",
      "    1: Array{Int64}((4,)) [1, 3, 5, 7]\n",
      "    2: Array{Int64}((4,)) [1, 2, 3, 4]\n",
      "  offset1: Int64 0\n",
      "  stride1: Int64 0\n"
     ]
    }
   ],
   "source": [
    "dump(W)"
   ]
  },
  {
   "cell_type": "code",
   "execution_count": 11,
   "id": "5d84791d-ec16-48c9-8915-be18595a67bd",
   "metadata": {},
   "outputs": [
    {
     "data": {
      "text/html": [
       "view(A::<b>AbstractArray</b>, I::<b>Vararg{Any, N}</b>)<i> where N</i> in Base at <a href=\"https://github.com/JuliaLang/julia/tree/1b93d53fc4bb59350ada898038ed4de2994cce33/base/subarray.jl#L174\" target=\"_blank\">subarray.jl:174</a>"
      ],
      "text/plain": [
       "view(A::AbstractArray, I::Vararg{Any, N}) where N in Base at subarray.jl:174"
      ]
     },
     "execution_count": 11,
     "metadata": {},
     "output_type": "execute_result"
    }
   ],
   "source": [
    "@which view(A, m1, m2)"
   ]
  },
  {
   "cell_type": "code",
   "execution_count": 12,
   "id": "026760c8-25d0-41ca-a98a-1bb4cc9595ec",
   "metadata": {},
   "outputs": [
    {
     "data": {
      "text/plain": [
       "([1, 3, 5, 7], [1, 2, 3, 4])"
      ]
     },
     "execution_count": 12,
     "metadata": {},
     "output_type": "execute_result"
    }
   ],
   "source": [
    "i1, i2 = findall.((m1, m2))"
   ]
  },
  {
   "cell_type": "code",
   "execution_count": 13,
   "id": "5a9099cd-8b9f-4668-a9c2-dec24a237134",
   "metadata": {},
   "outputs": [
    {
     "data": {
      "text/html": [
       "getindex(A::<b>AbstractArray</b>, I...) in Base at <a href=\"https://github.com/JuliaLang/julia/tree/1b93d53fc4bb59350ada898038ed4de2994cce33/base/abstractarray.jl#L1167\" target=\"_blank\">abstractarray.jl:1167</a>"
      ],
      "text/plain": [
       "getindex(A::AbstractArray, I...) in Base at abstractarray.jl:1167"
      ]
     },
     "execution_count": 13,
     "metadata": {},
     "output_type": "execute_result"
    }
   ],
   "source": [
    "@which getindex(A, i1, i2)"
   ]
  },
  {
   "cell_type": "code",
   "execution_count": 14,
   "id": "64859a89-cebc-4ff5-ac6b-391ec2180519",
   "metadata": {},
   "outputs": [
    {
     "data": {
      "text/plain": [
       "([1, 3, 5, 7], [1, 2, 3, 4])"
      ]
     },
     "execution_count": 14,
     "metadata": {},
     "output_type": "execute_result"
    }
   ],
   "source": [
    "I = to_indices(A, (i1, i2))"
   ]
  },
  {
   "cell_type": "code",
   "execution_count": 15,
   "id": "08a0cdb5-558f-4161-8039-7e17d382c91a",
   "metadata": {},
   "outputs": [
    {
     "data": {
      "text/plain": [
       "4-element Vector{Int64}:\n",
       " 1\n",
       " 3\n",
       " 5\n",
       " 7"
      ]
     },
     "execution_count": 15,
     "metadata": {},
     "output_type": "execute_result"
    }
   ],
   "source": [
    "I[1]"
   ]
  },
  {
   "cell_type": "code",
   "execution_count": 16,
   "id": "12914772-b5d8-4ef1-9446-8b2f7b54edbd",
   "metadata": {},
   "outputs": [
    {
     "data": {
      "text/html": [
       "to_indices(A, inds, I::<b>Tuple{Any, Vararg{Any, N} where N}</b>) in Base at <a href=\"https://github.com/JuliaLang/julia/tree/1b93d53fc4bb59350ada898038ed4de2994cce33/base/indices.jl#L332\" target=\"_blank\">indices.jl:332</a>"
      ],
      "text/plain": [
       "to_indices(A, inds, I::Tuple{Any, Vararg{Any, N} where N}) in Base at indices.jl:332"
      ]
     },
     "execution_count": 16,
     "metadata": {},
     "output_type": "execute_result"
    }
   ],
   "source": [
    "@which to_indices(A, axes(A), (i1, i2))"
   ]
  },
  {
   "cell_type": "code",
   "execution_count": 17,
   "id": "107b2c2e-1874-46ad-b6e3-0919240d2721",
   "metadata": {},
   "outputs": [
    {
     "data": {
      "text/html": [
       "to_index(A, i) in Base at <a href=\"https://github.com/JuliaLang/julia/tree/1b93d53fc4bb59350ada898038ed4de2994cce33/base/indices.jl#L277\" target=\"_blank\">indices.jl:277</a>"
      ],
      "text/plain": [
       "to_index(A, i) in Base at indices.jl:277"
      ]
     },
     "execution_count": 17,
     "metadata": {},
     "output_type": "execute_result"
    }
   ],
   "source": [
    "@which Base.to_index(A, i1)"
   ]
  },
  {
   "cell_type": "code",
   "execution_count": 18,
   "id": "85891846-b7c0-4f6e-9a81-82c47cf9ea3e",
   "metadata": {},
   "outputs": [
    {
     "data": {
      "text/html": [
       "Base.LogicalIndex(mask::<b>AbstractVector{Bool}</b>) in Base at <a href=\"https://github.com/JuliaLang/julia/tree/1b93d53fc4bb59350ada898038ed4de2994cce33/base/multidimensional.jl#L728\" target=\"_blank\">multidimensional.jl:728</a>"
      ],
      "text/plain": [
       "Base.LogicalIndex(mask::AbstractVector{Bool}) in Base at multidimensional.jl:728"
      ]
     },
     "execution_count": 18,
     "metadata": {},
     "output_type": "execute_result"
    }
   ],
   "source": [
    "@which Base.LogicalIndex(m1)"
   ]
  },
  {
   "cell_type": "code",
   "execution_count": 19,
   "id": "0d33cc9f-ebca-43e9-b16e-4cc9155a2ecc",
   "metadata": {},
   "outputs": [],
   "source": [
    "B = rand(Bool, 10^5);"
   ]
  },
  {
   "cell_type": "code",
   "execution_count": 20,
   "id": "0d9efa90-66a7-4e00-a219-ea6c972d8bc3",
   "metadata": {},
   "outputs": [
    {
     "data": {
      "text/plain": [
       "100000"
      ]
     },
     "execution_count": 20,
     "metadata": {},
     "output_type": "execute_result"
    }
   ],
   "source": [
    "sizeof(B)"
   ]
  },
  {
   "cell_type": "code",
   "execution_count": 21,
   "id": "e8127c7f-cd17-4a8d-a718-bad0ca9f2374",
   "metadata": {},
   "outputs": [],
   "source": [
    "b = BitVector(B);"
   ]
  },
  {
   "cell_type": "code",
   "execution_count": 22,
   "id": "4c423705-098f-4846-98d7-9cbb241b6578",
   "metadata": {},
   "outputs": [
    {
     "data": {
      "text/plain": [
       "12504"
      ]
     },
     "execution_count": 22,
     "metadata": {},
     "output_type": "execute_result"
    }
   ],
   "source": [
    "sizeof(b)"
   ]
  },
  {
   "cell_type": "code",
   "execution_count": 23,
   "id": "05dad4cc-4704-4d48-a7f6-f09ed8ff61bd",
   "metadata": {},
   "outputs": [
    {
     "data": {
      "text/html": [
       "8-element Vector{Method}:<ul><li> checkbounds(::<b>Type{Bool}</b>, A::<b>AbstractArray</b>, I::<b>Base.LogicalIndex</b>) in Base at <a href=\"https://github.com/JuliaLang/julia/tree/1b93d53fc4bb59350ada898038ed4de2994cce33/base/multidimensional.jl#L784\" target=\"_blank\">multidimensional.jl:784</a><li> checkindex(::<b>Type{Bool}</b>, indx::<b>AbstractUnitRange</b>, I::<b>Base.LogicalIndex</b>) in Base at <a href=\"https://github.com/JuliaLang/julia/tree/1b93d53fc4bb59350ada898038ed4de2994cce33/base/multidimensional.jl#L785\" target=\"_blank\">multidimensional.jl:785</a><li> checkindex(::<b>Type{Bool}</b>, inds::<b>Tuple</b>, I::<b>Base.LogicalIndex</b>) in Base at <a href=\"https://github.com/JuliaLang/julia/tree/1b93d53fc4bb59350ada898038ed4de2994cce33/base/multidimensional.jl#L786\" target=\"_blank\">multidimensional.jl:786</a><li> collect(L::<b>Base.LogicalIndex</b>) in Base at <a href=\"https://github.com/JuliaLang/julia/tree/1b93d53fc4bb59350ada898038ed4de2994cce33/base/multidimensional.jl#L733\" target=\"_blank\">multidimensional.jl:733</a><li> iterate(L::<b>Base.LogicalIndex</b>, s) in Base at <a href=\"https://github.com/JuliaLang/julia/tree/1b93d53fc4bb59350ada898038ed4de2994cce33/base/multidimensional.jl#L749\" target=\"_blank\">multidimensional.jl:749</a><li> length(L::<b>Base.LogicalIndex</b>) in Base at <a href=\"https://github.com/JuliaLang/julia/tree/1b93d53fc4bb59350ada898038ed4de2994cce33/base/multidimensional.jl#L732\" target=\"_blank\">multidimensional.jl:732</a><li> show(io::<b>IO</b>, r::<b>Base.LogicalIndex</b>) in Base at <a href=\"https://github.com/JuliaLang/julia/tree/1b93d53fc4bb59350ada898038ed4de2994cce33/base/multidimensional.jl#L734\" target=\"_blank\">multidimensional.jl:734</a><li> size(L::<b>Base.LogicalIndex</b>) in Base at <a href=\"https://github.com/JuliaLang/julia/tree/1b93d53fc4bb59350ada898038ed4de2994cce33/base/multidimensional.jl#L731\" target=\"_blank\">multidimensional.jl:731</a></ul>"
      ],
      "text/plain": [
       "[1] checkbounds(::Type{Bool}, A::AbstractArray, I::Base.LogicalIndex) in Base at multidimensional.jl:784\n",
       "[2] checkindex(::Type{Bool}, indx::AbstractUnitRange, I::Base.LogicalIndex) in Base at multidimensional.jl:785\n",
       "[3] checkindex(::Type{Bool}, inds::Tuple, I::Base.LogicalIndex) in Base at multidimensional.jl:786\n",
       "[4] collect(L::Base.LogicalIndex) in Base at multidimensional.jl:733\n",
       "[5] iterate(L::Base.LogicalIndex, s) in Base at multidimensional.jl:749\n",
       "[6] length(L::Base.LogicalIndex) in Base at multidimensional.jl:732\n",
       "[7] show(io::IO, r::Base.LogicalIndex) in Base at multidimensional.jl:734\n",
       "[8] size(L::Base.LogicalIndex) in Base at multidimensional.jl:731"
      ]
     },
     "execution_count": 23,
     "metadata": {},
     "output_type": "execute_result"
    }
   ],
   "source": [
    "methodswith(Base.LogicalIndex)"
   ]
  },
  {
   "cell_type": "code",
   "execution_count": null,
   "id": "2b9df184-a468-4368-ad9c-e611c87d7318",
   "metadata": {},
   "outputs": [],
   "source": []
  }
 ],
 "metadata": {
  "kernelspec": {
   "display_name": "Julia 1.6.2",
   "language": "julia",
   "name": "julia-1.6"
  },
  "language_info": {
   "file_extension": ".jl",
   "mimetype": "application/julia",
   "name": "julia",
   "version": "1.6.2"
  }
 },
 "nbformat": 4,
 "nbformat_minor": 5
}
