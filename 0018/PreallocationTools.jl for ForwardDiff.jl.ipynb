{
 "cells": [
  {
   "cell_type": "markdown",
   "id": "8948bcac-1ac6-4bb6-b45d-4aeeabb788fe",
   "metadata": {},
   "source": [
    "https://discourse.julialang.org/t/how-to-make-this-function-compatible-with-forwarddiff/67415"
   ]
  },
  {
   "cell_type": "code",
   "execution_count": 1,
   "id": "a2abf0cf-d563-46b8-87ae-fda31314d634",
   "metadata": {},
   "outputs": [
    {
     "name": "stdout",
     "output_type": "stream",
     "text": [
      "f(x, tmp) = 9.0\n"
     ]
    },
    {
     "data": {
      "text/plain": [
       "3-element Vector{Float64}:\n",
       " 1.0\n",
       " 1.0\n",
       " 1.0"
      ]
     },
     "execution_count": 1,
     "metadata": {},
     "output_type": "execute_result"
    }
   ],
   "source": [
    "using ForwardDiff\n",
    "using PreallocationTools\n",
    "\n",
    "function f(x, tmp)\n",
    "    tmp = get_tmp(tmp, x)\n",
    "    @. tmp = x + 1\n",
    "    sum(tmp)\n",
    "end\n",
    "\n",
    "x = [1.0, 2.0, 3.0]\n",
    "tmp = dualcache(similar(x))\n",
    "@show f(x, tmp)\n",
    "ForwardDiff.gradient(x -> f(x, tmp), x)"
   ]
  },
  {
   "cell_type": "code",
   "execution_count": null,
   "id": "9f9058c4-f60c-4851-9aa5-77bcd587b8f9",
   "metadata": {},
   "outputs": [],
   "source": []
  }
 ],
 "metadata": {
  "jupytext": {
   "formats": "ipynb,auto:hydrogen"
  },
  "kernelspec": {
   "display_name": "Julia 1.6.2",
   "language": "julia",
   "name": "julia-1.6"
  },
  "language_info": {
   "file_extension": ".jl",
   "mimetype": "application/julia",
   "name": "julia",
   "version": "1.6.2"
  }
 },
 "nbformat": 4,
 "nbformat_minor": 5
}
