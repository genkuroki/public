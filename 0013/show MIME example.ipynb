{
 "cells": [
  {
   "cell_type": "code",
   "execution_count": 1,
   "id": "e7cd438a-765e-423c-885e-8e80958f30ea",
   "metadata": {},
   "outputs": [
    {
     "data": {
      "text/plain": [
       "3×4 Matrix{Int64}:\n",
       " 4  4  2  6\n",
       " 4  0  2  6\n",
       " 6  5  6  6"
      ]
     },
     "execution_count": 1,
     "metadata": {},
     "output_type": "execute_result"
    }
   ],
   "source": [
    "A = rand(0:9, 3, 4)"
   ]
  },
  {
   "cell_type": "code",
   "execution_count": 2,
   "id": "4c28d46e-5c60-4567-9558-f9c3c273661f",
   "metadata": {},
   "outputs": [
    {
     "data": {
      "text/plain": [
       "3×4 Matrix{Int64}:\n",
       " 4  4  2  6\n",
       " 4  0  2  6\n",
       " 6  5  6  6"
      ]
     },
     "metadata": {},
     "output_type": "display_data"
    }
   ],
   "source": [
    "display(A)"
   ]
  },
  {
   "cell_type": "code",
   "execution_count": 3,
   "id": "589d0bde-9e30-4e71-bd22-5a16df0b2411",
   "metadata": {},
   "outputs": [
    {
     "data": {
      "text/plain": [
       "3×4 Matrix{Int64}:\n",
       " 4  4  2  6\n",
       " 4  0  2  6\n",
       " 6  5  6  6"
      ]
     },
     "metadata": {},
     "output_type": "display_data"
    },
    {
     "name": "stdout",
     "output_type": "stream",
     "text": [
      "A = "
     ]
    }
   ],
   "source": [
    "print(\"A = \"); display(A)"
   ]
  },
  {
   "cell_type": "code",
   "execution_count": 4,
   "id": "e7d266f6-7c68-4ff6-83af-8ddba308c1be",
   "metadata": {},
   "outputs": [
    {
     "name": "stdout",
     "output_type": "stream",
     "text": [
      "A = "
     ]
    },
    {
     "data": {
      "text/plain": [
       "3×4 Matrix{Int64}:\n",
       " 4  4  2  6\n",
       " 4  0  2  6\n",
       " 6  5  6  6"
      ]
     },
     "metadata": {},
     "output_type": "display_data"
    }
   ],
   "source": [
    "print(\"A = \"); flush(stdout); display(A)"
   ]
  },
  {
   "cell_type": "code",
   "execution_count": 5,
   "id": "dcf31c15-7698-4cc8-8b69-f75b105008b3",
   "metadata": {},
   "outputs": [
    {
     "name": "stdout",
     "output_type": "stream",
     "text": [
      "A = 3×4 Matrix{Int64}:\n",
      " 4  4  2  6\n",
      " 4  0  2  6\n",
      " 6  5  6  6"
     ]
    }
   ],
   "source": [
    "print(\"A = \"); show(stdout, MIME\"text/plain\"(), A)"
   ]
  },
  {
   "cell_type": "code",
   "execution_count": 6,
   "id": "95c78d3d-a82d-4cc2-8b9c-ef602e5dd810",
   "metadata": {},
   "outputs": [
    {
     "name": "stdout",
     "output_type": "stream",
     "text": [
      "A = 3×4 Matrix{Int64}:\n",
      " 4  4  2  6\n",
      " 4  0  2  6\n",
      " 6  5  6  6"
     ]
    }
   ],
   "source": [
    "print(\"A = \"); show(stdout, MIME(\"text/plain\"), A)"
   ]
  },
  {
   "cell_type": "code",
   "execution_count": 7,
   "id": "ecf9c8a5-f8c2-46ea-86d4-1b2248bae792",
   "metadata": {},
   "outputs": [
    {
     "name": "stdout",
     "output_type": "stream",
     "text": [
      "search: \u001b[0m\u001b[1mM\u001b[22m\u001b[0m\u001b[1mI\u001b[22m\u001b[0m\u001b[1mM\u001b[22m\u001b[0m\u001b[1mE\u001b[22m @\u001b[0m\u001b[1mM\u001b[22m\u001b[0m\u001b[1mI\u001b[22m\u001b[0m\u001b[1mM\u001b[22m\u001b[0m\u001b[1mE\u001b[22m_str \u001b[0m\u001b[1mm\u001b[22mt\u001b[0m\u001b[1mi\u001b[22m\u001b[0m\u001b[1mm\u001b[22m\u001b[0m\u001b[1me\u001b[22m istext\u001b[0m\u001b[1mm\u001b[22m\u001b[0m\u001b[1mi\u001b[22m\u001b[0m\u001b[1mm\u001b[22m\u001b[0m\u001b[1me\u001b[22m \u001b[0m\u001b[1mm\u001b[22m\u001b[0m\u001b[1mi\u001b[22mn\u001b[0m\u001b[1mm\u001b[22max \u001b[0m\u001b[1mm\u001b[22m\u001b[0m\u001b[1mi\u001b[22mni\u001b[0m\u001b[1mm\u001b[22mum \u001b[0m\u001b[1mm\u001b[22m\u001b[0m\u001b[1mi\u001b[22mni\u001b[0m\u001b[1mm\u001b[22mum! \u001b[0m\u001b[1mm\u001b[22max\u001b[0m\u001b[1mi\u001b[22m\u001b[0m\u001b[1mm\u001b[22mum \u001b[0m\u001b[1mm\u001b[22max\u001b[0m\u001b[1mi\u001b[22m\u001b[0m\u001b[1mm\u001b[22mum!\n",
      "\n"
     ]
    },
    {
     "data": {
      "text/latex": [
       "\\begin{verbatim}\n",
       "MIME\n",
       "\\end{verbatim}\n",
       "A type representing a standard internet data format. \"MIME\" stands for \"Multipurpose Internet Mail Extensions\", since the standard was originally used to describe multimedia attachments to email messages.\n",
       "\n",
       "A \\texttt{MIME} object can be passed as the second argument to \\href{@ref}{\\texttt{show}} to request output in that format.\n",
       "\n",
       "\\section{Examples}\n",
       "\\begin{verbatim}\n",
       "julia> show(stdout, MIME(\"text/plain\"), \"hi\")\n",
       "\"hi\"\n",
       "\\end{verbatim}\n"
      ],
      "text/markdown": [
       "```\n",
       "MIME\n",
       "```\n",
       "\n",
       "A type representing a standard internet data format. \"MIME\" stands for \"Multipurpose Internet Mail Extensions\", since the standard was originally used to describe multimedia attachments to email messages.\n",
       "\n",
       "A `MIME` object can be passed as the second argument to [`show`](@ref) to request output in that format.\n",
       "\n",
       "# Examples\n",
       "\n",
       "```jldoctest\n",
       "julia> show(stdout, MIME(\"text/plain\"), \"hi\")\n",
       "\"hi\"\n",
       "```\n"
      ],
      "text/plain": [
       "\u001b[36m  MIME\u001b[39m\n",
       "\n",
       "  A type representing a standard internet data format. \"MIME\" stands for\n",
       "  \"Multipurpose Internet Mail Extensions\", since the standard was originally\n",
       "  used to describe multimedia attachments to email messages.\n",
       "\n",
       "  A \u001b[36mMIME\u001b[39m object can be passed as the second argument to \u001b[36mshow\u001b[39m to request output\n",
       "  in that format.\n",
       "\n",
       "\u001b[1m  Examples\u001b[22m\n",
       "\u001b[1m  ≡≡≡≡≡≡≡≡≡≡\u001b[22m\n",
       "\n",
       "\u001b[36m  julia> show(stdout, MIME(\"text/plain\"), \"hi\")\u001b[39m\n",
       "\u001b[36m  \"hi\"\u001b[39m"
      ]
     },
     "execution_count": 7,
     "metadata": {},
     "output_type": "execute_result"
    }
   ],
   "source": [
    "?MIME"
   ]
  },
  {
   "cell_type": "code",
   "execution_count": null,
   "id": "09642e59-7c73-4104-8dc1-f9696031fcb8",
   "metadata": {},
   "outputs": [],
   "source": []
  }
 ],
 "metadata": {
  "jupytext": {
   "formats": "ipynb,auto:hydrogen"
  },
  "kernelspec": {
   "display_name": "Julia 1.8.0-DEV",
   "language": "julia",
   "name": "julia-1.8"
  },
  "language_info": {
   "file_extension": ".jl",
   "mimetype": "application/julia",
   "name": "julia",
   "version": "1.8.0"
  }
 },
 "nbformat": 4,
 "nbformat_minor": 5
}
