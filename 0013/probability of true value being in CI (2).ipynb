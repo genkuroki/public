{
 "cells": [
  {
   "cell_type": "code",
   "execution_count": 1,
   "id": "31daed5b-3441-4101-9053-f4da3092c039",
   "metadata": {},
   "outputs": [
    {
     "data": {
      "text/plain": [
       "prob_trueisinci (generic function with 1 method)"
      ]
     },
     "execution_count": 1,
     "metadata": {},
     "output_type": "execute_result"
    }
   ],
   "source": [
    "using Distributions, StatsPlots, Roots\n",
    "\n",
    "tstat(μ, X) = (mean(X) - μ)/√(var(X) / length(X))\n",
    "pvalue(μ, X) = 2ccdf(TDist(length(X) - 1), abs(tstat(μ, X)))\n",
    "\n",
    "function ci(X, α)\n",
    "    X̄ = mean(X)\n",
    "    c = quantile(TDist(length(X) - 1), 1 - α/2)\n",
    "    d = √(var(X) / length(X))\n",
    "    X̄ - c*d, X̄ + c*d\n",
    "end\n",
    "\n",
    "isininterval(x, int) = first(int) ≤ x ≤ last(int)\n",
    "isinci(μ, X, α) = isininterval(μ, ci(X, α))\n",
    "prob_trueisinci(dist, n, α; L=10^6) = mean(isinci(mean(dist), rand(dist, n), α) for _ in 1:L)"
   ]
  },
  {
   "cell_type": "code",
   "execution_count": 2,
   "id": "c8b70a6d-dc3f-4ad1-9496-593c858190eb",
   "metadata": {},
   "outputs": [
    {
     "data": {
      "text/plain": [
       "ci_roots (generic function with 1 method)"
      ]
     },
     "execution_count": 2,
     "metadata": {},
     "output_type": "execute_result"
    }
   ],
   "source": [
    "ci_roots(X, α) = find_zeros(μ -> log(pvalue(μ, X)) - log(α), -1e2, 1e2)"
   ]
  },
  {
   "cell_type": "code",
   "execution_count": 11,
   "id": "65d9862c-d496-4d15-8451-ac4aa3f9dd9d",
   "metadata": {},
   "outputs": [
    {
     "name": "stdout",
     "output_type": "stream",
     "text": [
      "X = rand(10) = [0.07216261752154651, 0.7165046938826786, 0.6870240534046868, 0.6127106455187047, 0.3577924298396431, 0.7075845797002751, 0.5798514163856187, 0.8067481795323362, 0.8759849319313946, 0.46544674905407213]\n",
      "ci(X, 0.05) = (0.41853005159769674, 0.7578320077564945)\n",
      "ci_roots(X, 0.05) = [0.4185300515976967, 0.7578320077564945]\n"
     ]
    }
   ],
   "source": [
    "@show X = rand(10)\n",
    "@show ci(X, 0.05)\n",
    "@show ci_roots(X, 0.05);"
   ]
  },
  {
   "cell_type": "code",
   "execution_count": 15,
   "id": "375c8589-d2b6-4faf-9851-d255eda4819c",
   "metadata": {},
   "outputs": [
    {
     "data": {
      "text/plain": [
       "prob_trueisinci_roots (generic function with 1 method)"
      ]
     },
     "execution_count": 15,
     "metadata": {},
     "output_type": "execute_result"
    }
   ],
   "source": [
    "isinci_roots(μ, X, α) = isininterval(μ, ci_roots(X, α))\n",
    "prob_trueisinci_roots(dist, n, α; L=10^4) = mean(isinci_roots(mean(dist), rand(dist, n), α) for _ in 1:L)"
   ]
  },
  {
   "cell_type": "code",
   "execution_count": 17,
   "id": "225649bf-4fe2-4b95-9868-675a45cca4b8",
   "metadata": {},
   "outputs": [
    {
     "name": "stdout",
     "output_type": "stream",
     "text": [
      "  8.507424 seconds (11.24 M allocations: 283.322 MiB, 0.41% gc time)\n"
     ]
    },
    {
     "data": {
      "text/plain": [
       "0.9482"
      ]
     },
     "execution_count": 17,
     "metadata": {},
     "output_type": "execute_result"
    }
   ],
   "source": [
    "@time prob_trueisinci_roots(Normal(), 20, 0.05)"
   ]
  },
  {
   "cell_type": "code",
   "execution_count": null,
   "id": "07bc2738-51d2-4e5b-8cbe-7c93846d147e",
   "metadata": {},
   "outputs": [],
   "source": []
  }
 ],
 "metadata": {
  "jupytext": {
   "formats": "ipynb,auto:hydrogen"
  },
  "kernelspec": {
   "display_name": "Julia 1.8.0-DEV",
   "language": "julia",
   "name": "julia-1.8"
  },
  "language_info": {
   "file_extension": ".jl",
   "mimetype": "application/julia",
   "name": "julia",
   "version": "1.8.0"
  }
 },
 "nbformat": 4,
 "nbformat_minor": 5
}
