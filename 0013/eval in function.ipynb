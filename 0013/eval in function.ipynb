{
 "cells": [
  {
   "cell_type": "code",
   "execution_count": 1,
   "id": "44be3bf5-7007-400d-9216-2eb68b3e7656",
   "metadata": {},
   "outputs": [
    {
     "ename": "LoadError",
     "evalue": "UndefVarError: a not defined",
     "output_type": "error",
     "traceback": [
      "UndefVarError: a not defined",
      "",
      "Stacktrace:",
      " [1] top-level scope",
      "   @ none:1",
      " [2] eval",
      "   @ .\\boot.jl:373 [inlined]",
      " [3] eval",
      "   @ .\\In[1]:1 [inlined]",
      " [4] f(x::Int64)",
      "   @ Main.A .\\In[1]:5",
      " [5] top-level scope",
      "   @ In[1]:10",
      " [6] eval",
      "   @ .\\boot.jl:373 [inlined]",
      " [7] include_string(mapexpr::typeof(REPL.softscope), mod::Module, code::String, filename::String)",
      "   @ Base .\\loading.jl:1207"
     ]
    }
   ],
   "source": [
    "module A\n",
    "\n",
    "function f(x)\n",
    "    a = x^2\n",
    "    eval(:(a + 1))\n",
    "end\n",
    "\n",
    "end\n",
    "\n",
    "A.f(3)"
   ]
  },
  {
   "cell_type": "code",
   "execution_count": 2,
   "id": "646c6349-c844-4a65-9596-4ece280906ef",
   "metadata": {},
   "outputs": [
    {
     "data": {
      "text/plain": [
       "10"
      ]
     },
     "execution_count": 2,
     "metadata": {},
     "output_type": "execute_result"
    }
   ],
   "source": [
    "module A1\n",
    "\n",
    "function f(x)\n",
    "    global a = x^2\n",
    "    eval(:(a + 1))\n",
    "end\n",
    "\n",
    "end\n",
    "\n",
    "A1.f(3)"
   ]
  },
  {
   "cell_type": "code",
   "execution_count": 3,
   "id": "37a462dd-abfa-4b51-930e-d8bc9bdcb592",
   "metadata": {},
   "outputs": [
    {
     "data": {
      "text/plain": [
       "10"
      ]
     },
     "execution_count": 3,
     "metadata": {},
     "output_type": "execute_result"
    }
   ],
   "source": [
    "module B\n",
    "\n",
    "function f(x)\n",
    "    a = x^2\n",
    "    eval(:($a + 1))\n",
    "end\n",
    "\n",
    "end\n",
    "\n",
    "B.f(3)"
   ]
  },
  {
   "cell_type": "code",
   "execution_count": 4,
   "id": "5401ce62-8e09-427e-b882-4d0e51d1d610",
   "metadata": {},
   "outputs": [
    {
     "name": "stdout",
     "output_type": "stream",
     "text": [
      "MethodInstance for Main.B.f(::\u001b[0mInt64)\n",
      "  from f(x) in Main.B at In[3]:3\n",
      "Arguments\n",
      "  #self#\u001b[36m::Core.Const(Main.B.f)\u001b[39m\n",
      "  x\u001b[36m::Int64\u001b[39m\n",
      "Locals\n",
      "  a\u001b[36m::Int64\u001b[39m\n",
      "Body\u001b[91m\u001b[1m::Any\u001b[22m\u001b[39m\n",
      "\u001b[90m1 ─\u001b[39m %1 = Core.apply_type(Base.Val, 2)\u001b[36m::Core.Const(Val{2})\u001b[39m\n",
      "\u001b[90m│  \u001b[39m %2 = (%1)()\u001b[36m::Core.Const(Val{2}())\u001b[39m\n",
      "\u001b[90m│  \u001b[39m      (a = Base.literal_pow(Main.B.:^, x, %2))\n",
      "\u001b[90m│  \u001b[39m %4 = Core._expr(:call, :+, a, 1)\u001b[36m::Expr\u001b[39m\n",
      "\u001b[90m│  \u001b[39m %5 = Main.B.eval(%4)\u001b[91m\u001b[1m::Any\u001b[22m\u001b[39m\n",
      "\u001b[90m└──\u001b[39m      return %5\n",
      "\n"
     ]
    }
   ],
   "source": [
    "@code_warntype B.f(3)"
   ]
  },
  {
   "cell_type": "code",
   "execution_count": 5,
   "id": "e7f087e0-30ba-4576-a9aa-bd10b49fcf7f",
   "metadata": {},
   "outputs": [
    {
     "data": {
      "text/plain": [
       "10"
      ]
     },
     "execution_count": 5,
     "metadata": {},
     "output_type": "execute_result"
    }
   ],
   "source": [
    "module C\n",
    "\n",
    "function f(x)\n",
    "    a = x^2\n",
    "    eval(Expr(:call, :+, a, 1))\n",
    "end\n",
    "\n",
    "end\n",
    "\n",
    "C.f(3)"
   ]
  },
  {
   "cell_type": "code",
   "execution_count": 6,
   "id": "0bb4f838-938a-4a8f-9836-14fe41d888af",
   "metadata": {},
   "outputs": [
    {
     "name": "stdout",
     "output_type": "stream",
     "text": [
      "MethodInstance for Main.C.f(::\u001b[0mInt64)\n",
      "  from f(x) in Main.C at In[5]:3\n",
      "Arguments\n",
      "  #self#\u001b[36m::Core.Const(Main.C.f)\u001b[39m\n",
      "  x\u001b[36m::Int64\u001b[39m\n",
      "Locals\n",
      "  a\u001b[36m::Int64\u001b[39m\n",
      "Body\u001b[91m\u001b[1m::Any\u001b[22m\u001b[39m\n",
      "\u001b[90m1 ─\u001b[39m %1 = Core.apply_type(Base.Val, 2)\u001b[36m::Core.Const(Val{2})\u001b[39m\n",
      "\u001b[90m│  \u001b[39m %2 = (%1)()\u001b[36m::Core.Const(Val{2}())\u001b[39m\n",
      "\u001b[90m│  \u001b[39m      (a = Base.literal_pow(Main.C.:^, x, %2))\n",
      "\u001b[90m│  \u001b[39m %4 = Main.C.Expr(:call, :+, a, 1)\u001b[36m::Expr\u001b[39m\n",
      "\u001b[90m│  \u001b[39m %5 = Main.C.eval(%4)\u001b[91m\u001b[1m::Any\u001b[22m\u001b[39m\n",
      "\u001b[90m└──\u001b[39m      return %5\n",
      "\n"
     ]
    }
   ],
   "source": [
    "@code_warntype C.f(3)"
   ]
  },
  {
   "cell_type": "code",
   "execution_count": 7,
   "id": "0c174895-2ee4-4583-8655-8a1600e2b20d",
   "metadata": {},
   "outputs": [
    {
     "data": {
      "text/plain": [
       "10"
      ]
     },
     "execution_count": 7,
     "metadata": {},
     "output_type": "execute_result"
    }
   ],
   "source": [
    "module D\n",
    "\n",
    "function f(x)\n",
    "    a = x^2\n",
    "    a + 1\n",
    "end\n",
    "\n",
    "end\n",
    "\n",
    "D.f(3)"
   ]
  },
  {
   "cell_type": "code",
   "execution_count": 8,
   "id": "e0c7e6ba-7586-44bf-99de-4e85fa7e85a5",
   "metadata": {},
   "outputs": [
    {
     "name": "stdout",
     "output_type": "stream",
     "text": [
      "MethodInstance for Main.D.f(::\u001b[0mInt64)\n",
      "  from f(x) in Main.D at In[7]:3\n",
      "Arguments\n",
      "  #self#\u001b[36m::Core.Const(Main.D.f)\u001b[39m\n",
      "  x\u001b[36m::Int64\u001b[39m\n",
      "Locals\n",
      "  a\u001b[36m::Int64\u001b[39m\n",
      "Body\u001b[36m::Int64\u001b[39m\n",
      "\u001b[90m1 ─\u001b[39m %1 = Core.apply_type(Base.Val, 2)\u001b[36m::Core.Const(Val{2})\u001b[39m\n",
      "\u001b[90m│  \u001b[39m %2 = (%1)()\u001b[36m::Core.Const(Val{2}())\u001b[39m\n",
      "\u001b[90m│  \u001b[39m      (a = Base.literal_pow(Main.D.:^, x, %2))\n",
      "\u001b[90m│  \u001b[39m %4 = (a + 1)\u001b[36m::Int64\u001b[39m\n",
      "\u001b[90m└──\u001b[39m      return %4\n",
      "\n"
     ]
    }
   ],
   "source": [
    "@code_warntype D.f(3)"
   ]
  },
  {
   "cell_type": "code",
   "execution_count": 9,
   "id": "713df00a-bbda-4090-86f0-eb62e5a27adb",
   "metadata": {},
   "outputs": [
    {
     "data": {
      "text/plain": [
       "true"
      ]
     },
     "execution_count": 9,
     "metadata": {},
     "output_type": "execute_result"
    }
   ],
   "source": [
    "z = 9\n",
    ":($z + 1) == Expr(:call, :+, z, 1)"
   ]
  },
  {
   "cell_type": "code",
   "execution_count": null,
   "id": "aecc9614-e87c-4d42-9f62-c8a7a3599f29",
   "metadata": {},
   "outputs": [],
   "source": []
  }
 ],
 "metadata": {
  "jupytext": {
   "formats": "ipynb,auto:hydrogen"
  },
  "kernelspec": {
   "display_name": "Julia 1.8.0-DEV",
   "language": "julia",
   "name": "julia-1.8"
  },
  "language_info": {
   "file_extension": ".jl",
   "mimetype": "application/julia",
   "name": "julia",
   "version": "1.8.0"
  }
 },
 "nbformat": 4,
 "nbformat_minor": 5
}
