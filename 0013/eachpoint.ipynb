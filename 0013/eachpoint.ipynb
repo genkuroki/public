{
 "cells": [
  {
   "cell_type": "markdown",
   "id": "45048429-dc1b-4d73-9e96-3f997003ce1f",
   "metadata": {},
   "source": [
    "https://discourse.julialang.org/t/generically-iterating-over-arrays-of-points/65273/2"
   ]
  },
  {
   "cell_type": "code",
   "execution_count": 7,
   "id": "f63b1b7f-a48f-4189-9652-4bdbcdda0557",
   "metadata": {},
   "outputs": [
    {
     "name": "stdout",
     "output_type": "stream",
     "text": [
      "[1, 2, 3]\n",
      "[4, 5, 6]\n",
      "[7, 8, 9]\n",
      "[10, 11, 12]\n",
      "[13, 14, 15]\n"
     ]
    }
   ],
   "source": [
    "using StaticArrays\n",
    "\n",
    "eachpoint(itr) = itr\n",
    "eachpoint(ptmatrix::AbstractMatrix) = eachcol(ptmatrix)\n",
    "\n",
    "function f(pts)\n",
    "    for pt in eachpoint(pts)\n",
    "        println(pt)\n",
    "    end\n",
    "end\n",
    "\n",
    "f(SVector(k+1, k+2, k+3) for k in 0:3:12)"
   ]
  },
  {
   "cell_type": "code",
   "execution_count": 6,
   "id": "2f476c08-f1aa-480c-9812-c77a588e6583",
   "metadata": {},
   "outputs": [
    {
     "name": "stdout",
     "output_type": "stream",
     "text": [
      "[1, 2, 3]\n",
      "[4, 5, 6]\n",
      "[7, 8, 9]\n",
      "[10, 11, 12]\n",
      "[13, 14, 15]\n"
     ]
    }
   ],
   "source": [
    "f(reshape(1:15, 3, 5))"
   ]
  },
  {
   "cell_type": "code",
   "execution_count": null,
   "id": "bd7301e1-5352-4931-a1a0-29e269e4918c",
   "metadata": {},
   "outputs": [],
   "source": []
  }
 ],
 "metadata": {
  "jupytext": {
   "formats": "ipynb,auto:hydrogen"
  },
  "kernelspec": {
   "display_name": "Julia 1.8.0-DEV",
   "language": "julia",
   "name": "julia-1.8"
  },
  "language_info": {
   "file_extension": ".jl",
   "mimetype": "application/julia",
   "name": "julia",
   "version": "1.8.0"
  }
 },
 "nbformat": 4,
 "nbformat_minor": 5
}
