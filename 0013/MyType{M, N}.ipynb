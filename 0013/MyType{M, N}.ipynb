{
 "cells": [
  {
   "cell_type": "code",
   "execution_count": 3,
   "id": "99102bf3-be2f-4fde-840b-29ac8ed37e14",
   "metadata": {},
   "outputs": [
    {
     "name": "stdout",
     "output_type": "stream",
     "text": [
      "MethodInstance for (MyType{3})()\n",
      "  from (MyType{N})() where N in Main at In[3]:5\n",
      "Static Parameters\n",
      "  N = \u001b[36m3\u001b[39m\n",
      "Arguments\n",
      "  #self#\u001b[36m::Type{MyType{3}}\u001b[39m\n",
      "Locals\n",
      "  M\u001b[36m::Int64\u001b[39m\n",
      "Body\u001b[91m\u001b[1m::MyType{3}\u001b[22m\u001b[39m\n",
      "\u001b[90m1 ─\u001b[39m      Core.NewvarNode(:(M))\n",
      "\u001b[90m│  \u001b[39m %2 = ($(Expr(:static_parameter, 1)) ≥ 0)\u001b[36m::Core.Const(true)\u001b[39m\n",
      "\u001b[90m│  \u001b[39m      %2\n",
      "\u001b[90m└──\u001b[39m      goto #3\n",
      "\u001b[90m2 ─\u001b[39m      Core.Const(:(Base.AssertionError(\"N ≥ 0\")))\n",
      "\u001b[90m└──\u001b[39m      Core.Const(:(Base.throw(%5)))\n",
      "\u001b[90m3 ┄\u001b[39m      (M = Main.calcM($(Expr(:static_parameter, 1))))\n",
      "\u001b[90m│  \u001b[39m %8 = Core.apply_type(Main.MyType, $(Expr(:static_parameter, 1)), M)\u001b[91m\u001b[1m::Type{MyType{3, _A}} where _A\u001b[22m\u001b[39m\n",
      "\u001b[90m│  \u001b[39m %9 = (%8)()\u001b[91m\u001b[1m::MyType{3}\u001b[22m\u001b[39m\n",
      "\u001b[90m└──\u001b[39m      return %9\n",
      "\n"
     ]
    }
   ],
   "source": [
    "@inline calcM(x) = 2^x\n",
    "\n",
    "struct MyType{N,M} end\n",
    "\n",
    "function MyType{N}() where N\n",
    "    @assert N ≥ 0\n",
    "    M = calcM(N)\n",
    "    MyType{N,M}()\n",
    "end\n",
    "\n",
    "@code_warntype MyType{3}() # not inferred of course"
   ]
  },
  {
   "cell_type": "code",
   "execution_count": 4,
   "id": "f9d82c9d-632c-4992-a652-ec5ab1233e7a",
   "metadata": {},
   "outputs": [
    {
     "data": {
      "text/plain": [
       "MyType{3, 8}()"
      ]
     },
     "execution_count": 4,
     "metadata": {},
     "output_type": "execute_result"
    }
   ],
   "source": [
    "MyType{3}()"
   ]
  },
  {
   "cell_type": "code",
   "execution_count": 28,
   "id": "d9229c45-9bd2-425c-a175-d66b47c46aa0",
   "metadata": {},
   "outputs": [
    {
     "name": "stdout",
     "output_type": "stream",
     "text": [
      "MyType{3}() = MyType{3, 8}()\n",
      "MethodInstance for (MyType{3})()\n",
      "  from (MyType{N})() where N in Main at In[28]:1\n",
      "Static Parameters\n",
      "  N = \u001b[36m3\u001b[39m\n",
      "Arguments\n",
      "  #self#\u001b[36m::Type{MyType{3}}\u001b[39m\n",
      "Locals\n",
      "  M\u001b[36m::Int64\u001b[39m\n",
      "Body\u001b[91m\u001b[1m::MyType{3}\u001b[22m\u001b[39m\n",
      "\u001b[90m1 ─\u001b[39m      (M = 2 ^ $(Expr(:static_parameter, 1)))\n",
      "\u001b[90m│  \u001b[39m %2 = Core.apply_type(Main.MyType, $(Expr(:static_parameter, 1)), M)\u001b[91m\u001b[1m::Type{MyType{3, _A}} where _A\u001b[22m\u001b[39m\n",
      "\u001b[90m│  \u001b[39m %3 = (%2)()\u001b[91m\u001b[1m::MyType{3}\u001b[22m\u001b[39m\n",
      "\u001b[90m└──\u001b[39m      return %3\n",
      "\n"
     ]
    }
   ],
   "source": [
    "function MyType{N}() where N\n",
    "    #T = typeof(N)\n",
    "    M = 2^N\n",
    "    MyType{N, M}()\n",
    "end\n",
    "\n",
    "@show MyType{3}()\n",
    "\n",
    "@code_warntype MyType{3}()"
   ]
  },
  {
   "cell_type": "code",
   "execution_count": 29,
   "id": "b2342ffc-1727-44dc-ac15-7d03455a4fd3",
   "metadata": {},
   "outputs": [
    {
     "data": {
      "text/plain": [
       "CodeInfo(\n",
       "\u001b[90m1 ─\u001b[39m       nothing\u001b[90m::Nothing\u001b[39m\n",
       "\u001b[90m2 ┄\u001b[39m %2  = φ (#1 => 2, #6 => %23)\u001b[36m::Int64\u001b[39m\n",
       "\u001b[90m│  \u001b[39m %3  = φ (#1 => 2, #6 => %17)\u001b[36m::Int64\u001b[39m\n",
       "\u001b[90m│  \u001b[39m %4  = φ (#1 => 1, #6 => %15)\u001b[36m::Int64\u001b[39m\n",
       "\u001b[90m│  \u001b[39m %5  = Base.slt_int(0, %4)\u001b[36m::Bool\u001b[39m\n",
       "\u001b[90m└──\u001b[39m       goto #7 if not %5\n",
       "\u001b[90m3 ─\u001b[39m %7  = Base.cttz_int(%4)\u001b[36m::Int64\u001b[39m\n",
       "\u001b[90m│  \u001b[39m %8  = Base.add_int(%7, 1)\u001b[36m::Int64\u001b[39m\n",
       "\u001b[90m│  \u001b[39m %9  = Base.sle_int(0, %8)\u001b[36m::Bool\u001b[39m\n",
       "\u001b[90m│  \u001b[39m %10 = Base.bitcast(UInt64, %8)\u001b[36m::UInt64\u001b[39m\n",
       "\u001b[90m│  \u001b[39m %11 = Base.ashr_int(%4, %10)\u001b[36m::Int64\u001b[39m\n",
       "\u001b[90m│  \u001b[39m %12 = Base.neg_int(%8)\u001b[36m::Int64\u001b[39m\n",
       "\u001b[90m│  \u001b[39m %13 = Base.bitcast(UInt64, %12)\u001b[36m::UInt64\u001b[39m\n",
       "\u001b[90m│  \u001b[39m %14 = Base.shl_int(%4, %13)\u001b[36m::Int64\u001b[39m\n",
       "\u001b[90m└──\u001b[39m %15 = Base.ifelse(%9, %11, %14)\u001b[36m::Int64\u001b[39m\n",
       "\u001b[90m4 ┄\u001b[39m %16 = φ (#3 => %8, #5 => %18)\u001b[36m::Int64\u001b[39m\n",
       "\u001b[90m│  \u001b[39m %17 = φ (#3 => %3, #5 => %21)\u001b[36m::Int64\u001b[39m\n",
       "\u001b[90m│  \u001b[39m %18 = Base.sub_int(%16, 1)\u001b[36m::Int64\u001b[39m\n",
       "\u001b[90m│  \u001b[39m %19 = Base.sle_int(0, %18)\u001b[36m::Bool\u001b[39m\n",
       "\u001b[90m└──\u001b[39m       goto #6 if not %19\n",
       "\u001b[90m5 ─\u001b[39m %21 = Base.mul_int(%17, %17)\u001b[36m::Int64\u001b[39m\n",
       "\u001b[90m└──\u001b[39m       goto #4\n",
       "\u001b[90m6 ─\u001b[39m %23 = Base.mul_int(%2, %17)\u001b[36m::Int64\u001b[39m\n",
       "\u001b[90m└──\u001b[39m       goto #2\n",
       "\u001b[90m7 ─\u001b[39m       goto #8\n",
       "\u001b[90m8 ─\u001b[39m       goto #9\n",
       "\u001b[90m9 ─\u001b[39m %27 = Core.apply_type(Main.MyType, $(Expr(:static_parameter, 1)), %2)\u001b[36m::Type{MyType{3, _A}} where _A\u001b[39m\n",
       "\u001b[90m│  \u001b[39m %28 = (%27)()\u001b[36m::MyType{3}\u001b[39m\n",
       "\u001b[90m└──\u001b[39m       return %28\n",
       ") => MyType{3}"
      ]
     },
     "execution_count": 29,
     "metadata": {},
     "output_type": "execute_result"
    }
   ],
   "source": [
    "@code_typed MyType{3}()"
   ]
  },
  {
   "cell_type": "code",
   "execution_count": 30,
   "id": "1d408b4b-41f3-4678-a063-c0475909df00",
   "metadata": {},
   "outputs": [
    {
     "data": {
      "text/plain": [
       "IJulia.IJuliaStdio{Base.PipeEndpoint}(IOContext(Base.PipeEndpoint(Base.Libc.WindowsRawSocket(0x00000000000003a8) open, 0 bytes waiting)))"
      ]
     },
     "execution_count": 30,
     "metadata": {},
     "output_type": "execute_result"
    }
   ],
   "source": [
    "using PyCall\n",
    "sys = pyimport(\"sys\")\n",
    "sys.stdout = stdout\n",
    "sys.stderr = stderr"
   ]
  },
  {
   "cell_type": "code",
   "execution_count": 36,
   "id": "c7ed6e00-79bb-4940-831c-280f4fe41f55",
   "metadata": {},
   "outputs": [
    {
     "name": "stdout",
     "output_type": "stream",
     "text": [
      "1\n",
      "2\n",
      "3\n",
      "4\n",
      "5\n",
      "6\n",
      "7\n",
      "8\n",
      "9\n",
      "10\n"
     ]
    }
   ],
   "source": [
    "for i in 1:10\n",
    "    print(i, \"\\n\"); flush(stdout)\n",
    "    sleep(0.5)\n",
    "end"
   ]
  },
  {
   "cell_type": "code",
   "execution_count": null,
   "id": "7447548a-4d4a-45be-8464-cfaad89dc130",
   "metadata": {},
   "outputs": [],
   "source": []
  }
 ],
 "metadata": {
  "jupytext": {
   "formats": "ipynb,auto:hydrogen"
  },
  "kernelspec": {
   "display_name": "Julia 1.8.0-DEV",
   "language": "julia",
   "name": "julia-1.8"
  },
  "language_info": {
   "file_extension": ".jl",
   "mimetype": "application/julia",
   "name": "julia",
   "version": "1.8.0"
  }
 },
 "nbformat": 4,
 "nbformat_minor": 5
}
