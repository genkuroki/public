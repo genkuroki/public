{
 "cells": [
  {
   "cell_type": "markdown",
   "id": "27572887-d698-4119-826a-f3629ac7c66f",
   "metadata": {},
   "source": [
    "https://qiita.com/ytaki0801/items/fc785de02eb45cde94fa"
   ]
  },
  {
   "cell_type": "code",
   "execution_count": 1,
   "id": "45d4f26d-5d8e-4f9d-aca3-6e1dc2f6c632",
   "metadata": {},
   "outputs": [
    {
     "name": "stdout",
     "output_type": "stream",
     "text": [
      "ev(fib21, Dict()) = 10946\n"
     ]
    }
   ],
   "source": [
    "fib21 = \n",
    "[[[\"lambda\", [\"u\"], [\"u\", \"u\"]],\n",
    "        [\"lambda\", [\"u\"],\n",
    "            [\"lambda\", [\"n\", \"a\", \"b\"],\n",
    "                [\"if\", [\"=\", \"n\", 0], \"a\",\n",
    "                    [[\"u\", \"u\"], [\"-\", \"n\", 1], \"b\", [\"+\", \"a\", \"b\"]]]]]],\n",
    "    21, 0, 1]\n",
    "\n",
    "g = Dict(\"=\" => \"==\", \"+\" => \"+\", \"-\" => \"-\")\n",
    "function ev(s, e)\n",
    "    s isa String     && return merge(g, e)[s]\n",
    "    s isa Int        && return s\n",
    "    s[1] == \"if\"     && return ev(s[2], e) ? ev(s[3], e) : ev(s[4], e)\n",
    "    s[1] == \"lambda\" && return vcat(s, [e])\n",
    "    f, a = ev(s[1], e), ev.(s[2:end], Ref(e))\n",
    "    f isa String     && return eval(Expr(:call, Symbol(f), a...))\n",
    "    return ev(f[3], merge(f[4], Dict(zip(f[2], a))))\n",
    "end\n",
    "\n",
    "@show ev(fib21, Dict());"
   ]
  },
  {
   "cell_type": "code",
   "execution_count": 2,
   "id": "e7a3366c-e0e7-48e4-b550-f5e18f027023",
   "metadata": {},
   "outputs": [
    {
     "name": "stdout",
     "output_type": "stream",
     "text": [
      "ev(fib21, Dict()) = 10946\n"
     ]
    }
   ],
   "source": [
    "fib21 = \n",
    "[[[\"lambda\", [\"u\"], [\"u\", \"u\"]],\n",
    "        [\"lambda\", [\"u\"],\n",
    "            [\"lambda\", [\"n\", \"a\", \"b\"],\n",
    "                [\"if\", [\"=\", \"n\", 0], \"a\",\n",
    "                    [[\"u\", \"u\"], [\"-\", \"n\", 1], \"b\", [\"+\", \"a\", \"b\"]]]]]],\n",
    "    21, 0, 1]\n",
    "\n",
    "g = Dict(\"=\" => ==, \"+\" => +, \"-\" => -)\n",
    "function ev(s, e)\n",
    "    s isa String     && return merge(g, e)[s]\n",
    "    s isa Int        && return s\n",
    "    s[1] == \"if\"     && return ev(s[2], e) ? ev(s[3], e) : ev(s[4], e)\n",
    "    s[1] == \"lambda\" && return vcat(s, [e])\n",
    "    f, a = ev(s[1], e), ev.(s[2:end], Ref(e))\n",
    "    f isa Function   && return f(a...)\n",
    "    return ev(f[3], merge(f[4], Dict(zip(f[2], a))))\n",
    "end\n",
    "\n",
    "@show ev(fib21, Dict());"
   ]
  },
  {
   "cell_type": "code",
   "execution_count": 3,
   "id": "0a1a143d-7c25-458a-a019-236c49fe46ae",
   "metadata": {},
   "outputs": [
    {
     "name": "stdout",
     "output_type": "stream",
     "text": [
      "ev(fib21, Dict()) = 10946\n"
     ]
    }
   ],
   "source": [
    "fib21 = \n",
    "[[[:lambda, [:u], [:u, :u]],\n",
    "        [:lambda, [:u],\n",
    "            [:lambda, [:n, :a, :b],\n",
    "                [:if, [:(=), :n, 0], :a,\n",
    "                    [[:u, :u], [:(-), :n, 1], :b, [:(+), :a, :b]]]]]],\n",
    "    21, 0, 1]\n",
    "\n",
    "g = Dict(:(=) => ==, :(+) => +, :(-) => -)\n",
    "function ev(s, e)\n",
    "    s isa Symbol     && return merge(g, e)[s]\n",
    "    s isa Int        && return s\n",
    "    s[1] === :if     && return ev(s[2], e) ? ev(s[3], e) : ev(s[4], e)\n",
    "    s[1] === :lambda && return vcat(s, [e])\n",
    "    f, a = ev(s[1], e), ev.(s[2:end], Ref(e))\n",
    "    f isa Function   && return f(a...)\n",
    "    return ev(f[3], merge(f[4], Dict(zip(f[2], a))))\n",
    "end\n",
    "\n",
    "@show ev(fib21, Dict());"
   ]
  },
  {
   "cell_type": "code",
   "execution_count": null,
   "id": "fe239c89-5100-4ffd-991f-ed1be0265748",
   "metadata": {},
   "outputs": [],
   "source": []
  }
 ],
 "metadata": {
  "kernelspec": {
   "display_name": "Julia 1.6.2",
   "language": "julia",
   "name": "julia-1.6"
  },
  "language_info": {
   "file_extension": ".jl",
   "mimetype": "application/julia",
   "name": "julia",
   "version": "1.6.2"
  }
 },
 "nbformat": 4,
 "nbformat_minor": 5
}
