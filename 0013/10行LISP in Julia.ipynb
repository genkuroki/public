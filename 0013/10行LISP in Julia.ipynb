{
 "cells": [
  {
   "cell_type": "markdown",
   "id": "27572887-d698-4119-826a-f3629ac7c66f",
   "metadata": {},
   "source": [
    "https://qiita.com/ytaki0801/items/fc785de02eb45cde94fa"
   ]
  },
  {
   "cell_type": "code",
   "execution_count": 1,
   "id": "45d4f26d-5d8e-4f9d-aca3-6e1dc2f6c632",
   "metadata": {},
   "outputs": [
    {
     "name": "stdout",
     "output_type": "stream",
     "text": [
      "ev(fib21, Dict()) = 10946\n"
     ]
    }
   ],
   "source": [
    "fib21 = \n",
    "[[[\"lambda\", [\"u\"], [\"u\", \"u\"]],\n",
    "        [\"lambda\", [\"u\"],\n",
    "            [\"lambda\", [\"n\", \"a\", \"b\"],\n",
    "                [\"if\", [\"=\", \"n\", 0], \"a\",\n",
    "                    [[\"u\", \"u\"], [\"-\", \"n\", 1], \"b\", [\"+\", \"a\", \"b\"]]]]]],\n",
    "    21, 0, 1]\n",
    "\n",
    "g = Dict(\"=\"=>\"==\",\"+\"=>\"+\",\"-\"=>\"-\")\n",
    "function ev(s, e)\n",
    "    if isa(s, String) return merge(g, e)[s]\n",
    "    elseif isa(s, Int) return s\n",
    "    elseif s[1] == \"if\" return ev(s[2], e) ? ev(s[3], e) : ev(s[4], e)\n",
    "    elseif s[1] == \"lambda\" return vcat(s, [e])\n",
    "    else\n",
    "        f = ev(s[1], e); a = map(x -> ev(x, e), s[2:end])\n",
    "        if isa(f, String) return eval(Expr(:call, Symbol(f), a...))\n",
    "        else return ev(f[3], merge(f[4], Dict(k for k = zip(f[2], a))))\n",
    "        end\n",
    "    end\n",
    "end\n",
    "\n",
    "@show ev(fib21, Dict());"
   ]
  },
  {
   "cell_type": "code",
   "execution_count": 2,
   "id": "4862ba06-8b66-4fe6-8375-ccb73b9e9615",
   "metadata": {},
   "outputs": [
    {
     "name": "stdout",
     "output_type": "stream",
     "text": [
      "ev(fib21, Dict()) = 10946\n"
     ]
    }
   ],
   "source": [
    "fib21 = \n",
    "[[[\"lambda\", [\"u\"], [\"u\", \"u\"]],\n",
    "        [\"lambda\", [\"u\"],\n",
    "            [\"lambda\", [\"n\", \"a\", \"b\"],\n",
    "                [\"if\", [\"=\", \"n\", 0], \"a\",\n",
    "                    [[\"u\", \"u\"], [\"-\", \"n\", 1], \"b\", [\"+\", \"a\", \"b\"]]]]]],\n",
    "    21, 0, 1]\n",
    "\n",
    "g = Dict(\"=\" => \"==\", \"+\" => \"+\", \"-\" => \"-\")\n",
    "function ev(s, e)\n",
    "    s isa String     && return merge(g, e)[s]\n",
    "    s isa Int        && return s\n",
    "    s[1] == \"if\"     && return ev(s[2], e) ? ev(s[3], e) : ev(s[4], e)\n",
    "    s[1] == \"lambda\" && return vcat(s, [e])\n",
    "    f, a = ev(s[1], e), ev.(s[2:end], Ref(e))\n",
    "    f isa String     && return eval(Expr(:call, Symbol(f), a...))\n",
    "    return ev(f[3], merge(f[4], Dict(zip(f[2], a))))\n",
    "end\n",
    "\n",
    "@show ev(fib21, Dict());"
   ]
  },
  {
   "cell_type": "code",
   "execution_count": 3,
   "id": "e7a3366c-e0e7-48e4-b550-f5e18f027023",
   "metadata": {},
   "outputs": [
    {
     "name": "stdout",
     "output_type": "stream",
     "text": [
      "ev(fib21, Dict()) = 10946\n"
     ]
    }
   ],
   "source": [
    "fib21 = \n",
    "[[[\"lambda\", [\"u\"], [\"u\", \"u\"]],\n",
    "        [\"lambda\", [\"u\"],\n",
    "            [\"lambda\", [\"n\", \"a\", \"b\"],\n",
    "                [\"if\", [\"=\", \"n\", 0], \"a\",\n",
    "                    [[\"u\", \"u\"], [\"-\", \"n\", 1], \"b\", [\"+\", \"a\", \"b\"]]]]]],\n",
    "    21, 0, 1]\n",
    "\n",
    "g = Dict(\"=\" => ==, \"+\" => +, \"-\" => -)\n",
    "function ev(s, e)\n",
    "    s isa String     && return merge(g, e)[s]\n",
    "    s isa Int        && return s\n",
    "    s[1] == \"if\"     && return ev(s[2], e) ? ev(s[3], e) : ev(s[4], e)\n",
    "    s[1] == \"lambda\" && return vcat(s, [e])\n",
    "    f, a = ev(s[1], e), ev.(s[2:end], Ref(e))\n",
    "    f isa Function   && return f(a...)\n",
    "    return ev(f[3], merge(f[4], Dict(zip(f[2], a))))\n",
    "end\n",
    "\n",
    "@show ev(fib21, Dict());"
   ]
  },
  {
   "cell_type": "code",
   "execution_count": 4,
   "id": "0a1a143d-7c25-458a-a019-236c49fe46ae",
   "metadata": {},
   "outputs": [
    {
     "name": "stdout",
     "output_type": "stream",
     "text": [
      "ev(fib21, Dict()) = 10946\n"
     ]
    }
   ],
   "source": [
    "fib21 = \n",
    "[[[:lambda, [:u], [:u, :u]],\n",
    "        [:lambda, [:u],\n",
    "            [:lambda, [:n, :a, :b],\n",
    "                [:if, [:(=), :n, 0], :a,\n",
    "                    [[:u, :u], [:-, :n, 1], :b, [:+, :a, :b]]]]]],\n",
    "    21, 0, 1]\n",
    "\n",
    "g = Dict(:(=) => ==, :+ => +, :- => -)\n",
    "function ev(s, e)\n",
    "    s isa Symbol     && return merge(g, e)[s]\n",
    "    s isa Int        && return s\n",
    "    s[1] === :if     && return ev(s[2], e) ? ev(s[3], e) : ev(s[4], e)\n",
    "    s[1] === :lambda && return vcat(s, [e])\n",
    "    f, a = ev(s[1], e), ev.(s[2:end], Ref(e))\n",
    "    f isa Function   && return f(a...)\n",
    "    return ev(f[3], merge(f[4], Dict(zip(f[2], a))))\n",
    "end\n",
    "\n",
    "@show ev(fib21, Dict());"
   ]
  },
  {
   "cell_type": "code",
   "execution_count": 5,
   "id": "61b907f2-f6ad-4aae-8a99-36a0cd5d9ee6",
   "metadata": {},
   "outputs": [
    {
     "name": "stdout",
     "output_type": "stream",
     "text": [
      "fib(21, 0, 1) = 10946\n",
      "[fib(n, 0, 1) for n = 1:10] = [1, 1, 2, 3, 5, 8, 13, 21, 34, 55]\n"
     ]
    }
   ],
   "source": [
    "fib(n, a, b) = (u -> u(u))(u -> (n, a, b) -> n == 0 ? a : u(u)(n-1, b, a+b))(n, a, b)\n",
    "@show fib(21, 0, 1)\n",
    "@show [fib(n, 0, 1) for n in 1:10];"
   ]
  },
  {
   "cell_type": "code",
   "execution_count": 6,
   "id": "a490c75d-0262-4b29-bd0f-03851b09b5ba",
   "metadata": {},
   "outputs": [
    {
     "name": "stdout",
     "output_type": "stream",
     "text": [
      "f(f, 21, 0, 1) = 10946\n",
      "[f(f, n, 0, 1) for n = 1:10] = [1, 1, 2, 3, 5, 8, 13, 21, 34, 55]\n"
     ]
    }
   ],
   "source": [
    "f(u, n, a, b) = n == 0 ? a : u(u, n-1, b, a+b)\n",
    "@show f(f, 21, 0, 1)\n",
    "@show [f(f, n, 0, 1) for n in 1:10];"
   ]
  },
  {
   "cell_type": "code",
   "execution_count": 7,
   "id": "2e4a9102-59ca-45ed-8e96-0e7ea5545c3c",
   "metadata": {},
   "outputs": [
    {
     "name": "stdout",
     "output_type": "stream",
     "text": [
      "#= In[7]:19 =# @ev(fib21) = 10946\n"
     ]
    }
   ],
   "source": [
    "fib21 = \n",
    "[[[\"lambda\", [\"u\"], [\"u\", \"u\"]],\n",
    "        [\"lambda\", [\"u\"],\n",
    "            [\"lambda\", [\"n\", \"a\", \"b\"],\n",
    "                [\"if\", [\"=\", \"n\", 0], \"a\",\n",
    "                    [[\"u\", \"u\"], [\"-\", \"n\", 1], \"b\", [\"+\", \"a\", \"b\"]]]]]],\n",
    "    21, 0, 1]\n",
    "\n",
    "g = Dict(\"=\" => :(==), \"+\" => :+, \"-\" => :-)\n",
    "function ev(s)\n",
    "    s isa String     && return get(g, s, Symbol(s))\n",
    "    s isa Int        && return s\n",
    "    s[1] == \"if\"     && return Expr(:if, ev(s[2]), ev(s[3]), ev(s[4]))\n",
    "    s[1] == \"lambda\" && return Expr(:(->), Expr(:tuple, Symbol.(s[2])...), ev(s[3]))\n",
    "    Expr(:call, ev.(s)...)\n",
    "end\n",
    "macro ev(x) ev(Core.eval(__module__, x)) end\n",
    "\n",
    "@show @ev fib21;"
   ]
  },
  {
   "cell_type": "code",
   "execution_count": 8,
   "id": "41c54b51-3f39-4374-b4c4-d14c0f958de1",
   "metadata": {},
   "outputs": [
    {
     "data": {
      "text/plain": [
       ":(((((u,)->u(u)))(((u,)->((n, a, b)->if n == 0\n",
       "                  a\n",
       "              else\n",
       "                  (u(u))(n - 1, b, a + b)\n",
       "              end))))(21, 0, 1))"
      ]
     },
     "execution_count": 8,
     "metadata": {},
     "output_type": "execute_result"
    }
   ],
   "source": [
    "ev(fib21)"
   ]
  },
  {
   "cell_type": "code",
   "execution_count": 9,
   "id": "b210c228-748d-4343-a7b0-3e6edb518492",
   "metadata": {},
   "outputs": [
    {
     "name": "stdout",
     "output_type": "stream",
     "text": [
      "Fib(21, 0, 1) = 10946\n",
      "[Fib(n, 0, 1) for n = 1:10] = [1, 1, 2, 3, 5, 8, 13, 21, 34, 55]\n"
     ]
    }
   ],
   "source": [
    "Fib = @ev [[\"lambda\", [\"u\"], [\"u\", \"u\"]],\n",
    "    [\"lambda\", [\"u\"],\n",
    "        [\"lambda\", [\"n\", \"a\", \"b\"],\n",
    "            [\"if\", [\"=\", \"n\", 0], \"a\",\n",
    "                [[\"u\", \"u\"], [\"-\", \"n\", 1], \"b\", [\"+\", \"a\", \"b\"]]]]]]\n",
    "\n",
    "@show Fib(21, 0, 1)\n",
    "@show [Fib(n, 0, 1) for n in 1:10];"
   ]
  },
  {
   "cell_type": "code",
   "execution_count": 10,
   "id": "2c902f6c-4bb1-48a5-9013-d006ced1b2ed",
   "metadata": {},
   "outputs": [
    {
     "name": "stdout",
     "output_type": "stream",
     "text": [
      "\t\u001b[0m.text\n",
      "\t\u001b[96m\u001b[1mmovq\u001b[22m\u001b[39m\t\u001b[0m%rdx\u001b[0m, \u001b[0m%rax\n",
      "\t\u001b[96m\u001b[1mtestq\u001b[22m\u001b[39m\t\u001b[0m%rcx\u001b[0m, \u001b[0m%rcx\n",
      "\t\u001b[96m\u001b[1mje\u001b[22m\u001b[39m\t\u001b[91mL47\u001b[39m\n",
      "\t\u001b[96m\u001b[1mpushq\u001b[22m\u001b[39m\t\u001b[0m%rbp\n",
      "\t\u001b[96m\u001b[1mmovq\u001b[22m\u001b[39m\t\u001b[0m%rsp\u001b[0m, \u001b[0m%rbp\n",
      "\t\u001b[96m\u001b[1msubq\u001b[22m\u001b[39m\t\u001b[33m$32\u001b[39m\u001b[0m, \u001b[0m%rsp\n",
      "\t\u001b[96m\u001b[1mdecq\u001b[22m\u001b[39m\t\u001b[0m%rcx\n",
      "\t\u001b[96m\u001b[1maddq\u001b[22m\u001b[39m\t\u001b[0m%r8\u001b[0m, \u001b[0m%rax\n",
      "\t\u001b[96m\u001b[1mmovabsq\u001b[22m\u001b[39m\t\u001b[93m$.text\u001b[39m\u001b[0m, \u001b[0m%r9\n",
      "\t\u001b[96m\u001b[1mmovq\u001b[22m\u001b[39m\t\u001b[0m%r8\u001b[0m, \u001b[0m%rdx\n",
      "\t\u001b[96m\u001b[1mmovq\u001b[22m\u001b[39m\t\u001b[0m%rax\u001b[0m, \u001b[0m%r8\n",
      "\t\u001b[96m\u001b[1mcallq\u001b[22m\u001b[39m\t\u001b[0m*\u001b[0m%r9\n",
      "\t\u001b[96m\u001b[1maddq\u001b[22m\u001b[39m\t\u001b[33m$32\u001b[39m\u001b[0m, \u001b[0m%rsp\n",
      "\t\u001b[96m\u001b[1mpopq\u001b[22m\u001b[39m\t\u001b[0m%rbp\n",
      "\t\u001b[96m\u001b[1mretq\u001b[22m\u001b[39m\n",
      "\u001b[91mL47:\u001b[39m\n",
      "\t\u001b[96m\u001b[1mretq\u001b[22m\u001b[39m\n"
     ]
    }
   ],
   "source": [
    "@code_native debuginfo=:none Fib(21, 0, 1)"
   ]
  },
  {
   "cell_type": "code",
   "execution_count": 11,
   "id": "c6b53654-3818-4086-85a5-de438fa88a98",
   "metadata": {},
   "outputs": [
    {
     "name": "stdout",
     "output_type": "stream",
     "text": [
      "\t\u001b[0m.text\n",
      "\t\u001b[96m\u001b[1mmovq\u001b[22m\u001b[39m\t\u001b[0m%rdx\u001b[0m, \u001b[0m%rax\n",
      "\t\u001b[96m\u001b[1mtestq\u001b[22m\u001b[39m\t\u001b[0m%rcx\u001b[0m, \u001b[0m%rcx\n",
      "\t\u001b[96m\u001b[1mje\u001b[22m\u001b[39m\t\u001b[91mL47\u001b[39m\n",
      "\t\u001b[96m\u001b[1mpushq\u001b[22m\u001b[39m\t\u001b[0m%rbp\n",
      "\t\u001b[96m\u001b[1mmovq\u001b[22m\u001b[39m\t\u001b[0m%rsp\u001b[0m, \u001b[0m%rbp\n",
      "\t\u001b[96m\u001b[1msubq\u001b[22m\u001b[39m\t\u001b[33m$32\u001b[39m\u001b[0m, \u001b[0m%rsp\n",
      "\t\u001b[96m\u001b[1mdecq\u001b[22m\u001b[39m\t\u001b[0m%rcx\n",
      "\t\u001b[96m\u001b[1maddq\u001b[22m\u001b[39m\t\u001b[0m%r8\u001b[0m, \u001b[0m%rax\n",
      "\t\u001b[96m\u001b[1mmovabsq\u001b[22m\u001b[39m\t\u001b[93m$.text\u001b[39m\u001b[0m, \u001b[0m%r9\n",
      "\t\u001b[96m\u001b[1mmovq\u001b[22m\u001b[39m\t\u001b[0m%r8\u001b[0m, \u001b[0m%rdx\n",
      "\t\u001b[96m\u001b[1mmovq\u001b[22m\u001b[39m\t\u001b[0m%rax\u001b[0m, \u001b[0m%r8\n",
      "\t\u001b[96m\u001b[1mcallq\u001b[22m\u001b[39m\t\u001b[0m*\u001b[0m%r9\n",
      "\t\u001b[96m\u001b[1maddq\u001b[22m\u001b[39m\t\u001b[33m$32\u001b[39m\u001b[0m, \u001b[0m%rsp\n",
      "\t\u001b[96m\u001b[1mpopq\u001b[22m\u001b[39m\t\u001b[0m%rbp\n",
      "\t\u001b[96m\u001b[1mretq\u001b[22m\u001b[39m\n",
      "\u001b[91mL47:\u001b[39m\n",
      "\t\u001b[96m\u001b[1mretq\u001b[22m\u001b[39m\n"
     ]
    }
   ],
   "source": [
    "f(u, n, a, b) = n == 0 ? a : u(u, n-1, b, a+b)\n",
    "@code_native debuginfo=:none f(f, 21, 0, 1)"
   ]
  },
  {
   "cell_type": "code",
   "execution_count": 12,
   "id": "ac568006-c96a-4445-9a59-beb131378c55",
   "metadata": {},
   "outputs": [
    {
     "name": "stdout",
     "output_type": "stream",
     "text": [
      "#= In[12]:19 =# @ev(fib21) = 10946\n"
     ]
    }
   ],
   "source": [
    "fib21 = \n",
    "[[[:lambda, [:u], [:u, :u]],\n",
    "        [:lambda, [:u],\n",
    "            [:lambda, [:n, :a, :b],\n",
    "                [:if, [:(==), :n, 0], :a,\n",
    "                    [[:u, :u], [:-, :n, 1], :b, [:+, :a, :b]]]]]],\n",
    "    21, 0, 1]\n",
    "\n",
    "g = Dict(:(=) => :(==), :+ => :+, :- => :-)\n",
    "function ev(s)\n",
    "    s isa Symbol     && return get(g, s, s)\n",
    "    s isa Int        && return s\n",
    "    s[1] === :if     && return Expr(:if, ev(s[2]), ev(s[3]), ev(s[4]))\n",
    "    s[1] === :lambda && return Expr(:(->), Expr(:tuple, s[2]...), ev(s[3]))\n",
    "    Expr(:call, ev.(s)...)\n",
    "end\n",
    "macro ev(x) ev(Core.eval(__module__, x)) end\n",
    "\n",
    "@show @ev fib21;"
   ]
  },
  {
   "cell_type": "code",
   "execution_count": 13,
   "id": "251a9ca9-f448-4297-b922-dcf5214a4c04",
   "metadata": {},
   "outputs": [
    {
     "data": {
      "text/plain": [
       ":(((((u,)->u(u)))(((u,)->((n, a, b)->if n == 0\n",
       "                  a\n",
       "              else\n",
       "                  (u(u))(n - 1, b, a + b)\n",
       "              end))))(21, 0, 1))"
      ]
     },
     "execution_count": 13,
     "metadata": {},
     "output_type": "execute_result"
    }
   ],
   "source": [
    "ev(fib21)"
   ]
  },
  {
   "cell_type": "code",
   "execution_count": 14,
   "id": "9d39a9c6-3904-42e8-94c0-6c4c45d92b2e",
   "metadata": {},
   "outputs": [
    {
     "name": "stdout",
     "output_type": "stream",
     "text": [
      "Fib(21, 0, 1) = 10946\n",
      "[Fib(n, 0, 1) for n = 1:10] = [1, 1, 2, 3, 5, 8, 13, 21, 34, 55]\n"
     ]
    }
   ],
   "source": [
    "Fib = @ev [[:lambda, [:u], [:u, :u]],\n",
    "        [:lambda, [:u],\n",
    "            [:lambda, [:n, :a, :b],\n",
    "                [:if, [:(==), :n, 0], :a,\n",
    "                    [[:u, :u], [:-, :n, 1], :b, [:+, :a, :b]]]]]]\n",
    "\n",
    "@show Fib(21, 0, 1)\n",
    "@show [Fib(n, 0, 1) for n in 1:10];"
   ]
  },
  {
   "cell_type": "code",
   "execution_count": 15,
   "id": "1af8bfe1-8b32-4ecb-b2a0-9a3a41f46a9d",
   "metadata": {},
   "outputs": [
    {
     "name": "stdout",
     "output_type": "stream",
     "text": [
      "\t\u001b[0m.text\n",
      "\t\u001b[96m\u001b[1mmovq\u001b[22m\u001b[39m\t\u001b[0m%rdx\u001b[0m, \u001b[0m%rax\n",
      "\t\u001b[96m\u001b[1mtestq\u001b[22m\u001b[39m\t\u001b[0m%rcx\u001b[0m, \u001b[0m%rcx\n",
      "\t\u001b[96m\u001b[1mje\u001b[22m\u001b[39m\t\u001b[91mL47\u001b[39m\n",
      "\t\u001b[96m\u001b[1mpushq\u001b[22m\u001b[39m\t\u001b[0m%rbp\n",
      "\t\u001b[96m\u001b[1mmovq\u001b[22m\u001b[39m\t\u001b[0m%rsp\u001b[0m, \u001b[0m%rbp\n",
      "\t\u001b[96m\u001b[1msubq\u001b[22m\u001b[39m\t\u001b[33m$32\u001b[39m\u001b[0m, \u001b[0m%rsp\n",
      "\t\u001b[96m\u001b[1mdecq\u001b[22m\u001b[39m\t\u001b[0m%rcx\n",
      "\t\u001b[96m\u001b[1maddq\u001b[22m\u001b[39m\t\u001b[0m%r8\u001b[0m, \u001b[0m%rax\n",
      "\t\u001b[96m\u001b[1mmovabsq\u001b[22m\u001b[39m\t\u001b[93m$.text\u001b[39m\u001b[0m, \u001b[0m%r9\n",
      "\t\u001b[96m\u001b[1mmovq\u001b[22m\u001b[39m\t\u001b[0m%r8\u001b[0m, \u001b[0m%rdx\n",
      "\t\u001b[96m\u001b[1mmovq\u001b[22m\u001b[39m\t\u001b[0m%rax\u001b[0m, \u001b[0m%r8\n",
      "\t\u001b[96m\u001b[1mcallq\u001b[22m\u001b[39m\t\u001b[0m*\u001b[0m%r9\n",
      "\t\u001b[96m\u001b[1maddq\u001b[22m\u001b[39m\t\u001b[33m$32\u001b[39m\u001b[0m, \u001b[0m%rsp\n",
      "\t\u001b[96m\u001b[1mpopq\u001b[22m\u001b[39m\t\u001b[0m%rbp\n",
      "\t\u001b[96m\u001b[1mretq\u001b[22m\u001b[39m\n",
      "\u001b[91mL47:\u001b[39m\n",
      "\t\u001b[96m\u001b[1mretq\u001b[22m\u001b[39m\n"
     ]
    }
   ],
   "source": [
    "@code_native debuginfo=:none Fib(21, 0, 1)"
   ]
  },
  {
   "cell_type": "code",
   "execution_count": 16,
   "id": "b843aa6f-9d4a-43a4-891b-d34d4659700b",
   "metadata": {},
   "outputs": [
    {
     "name": "stdout",
     "output_type": "stream",
     "text": [
      "\t\u001b[0m.text\n",
      "\t\u001b[96m\u001b[1mmovq\u001b[22m\u001b[39m\t\u001b[0m%rdx\u001b[0m, \u001b[0m%rax\n",
      "\t\u001b[96m\u001b[1mtestq\u001b[22m\u001b[39m\t\u001b[0m%rcx\u001b[0m, \u001b[0m%rcx\n",
      "\t\u001b[96m\u001b[1mje\u001b[22m\u001b[39m\t\u001b[91mL47\u001b[39m\n",
      "\t\u001b[96m\u001b[1mpushq\u001b[22m\u001b[39m\t\u001b[0m%rbp\n",
      "\t\u001b[96m\u001b[1mmovq\u001b[22m\u001b[39m\t\u001b[0m%rsp\u001b[0m, \u001b[0m%rbp\n",
      "\t\u001b[96m\u001b[1msubq\u001b[22m\u001b[39m\t\u001b[33m$32\u001b[39m\u001b[0m, \u001b[0m%rsp\n",
      "\t\u001b[96m\u001b[1mdecq\u001b[22m\u001b[39m\t\u001b[0m%rcx\n",
      "\t\u001b[96m\u001b[1maddq\u001b[22m\u001b[39m\t\u001b[0m%r8\u001b[0m, \u001b[0m%rax\n",
      "\t\u001b[96m\u001b[1mmovabsq\u001b[22m\u001b[39m\t\u001b[93m$.text\u001b[39m\u001b[0m, \u001b[0m%r9\n",
      "\t\u001b[96m\u001b[1mmovq\u001b[22m\u001b[39m\t\u001b[0m%r8\u001b[0m, \u001b[0m%rdx\n",
      "\t\u001b[96m\u001b[1mmovq\u001b[22m\u001b[39m\t\u001b[0m%rax\u001b[0m, \u001b[0m%r8\n",
      "\t\u001b[96m\u001b[1mcallq\u001b[22m\u001b[39m\t\u001b[0m*\u001b[0m%r9\n",
      "\t\u001b[96m\u001b[1maddq\u001b[22m\u001b[39m\t\u001b[33m$32\u001b[39m\u001b[0m, \u001b[0m%rsp\n",
      "\t\u001b[96m\u001b[1mpopq\u001b[22m\u001b[39m\t\u001b[0m%rbp\n",
      "\t\u001b[96m\u001b[1mretq\u001b[22m\u001b[39m\n",
      "\u001b[91mL47:\u001b[39m\n",
      "\t\u001b[96m\u001b[1mretq\u001b[22m\u001b[39m\n"
     ]
    }
   ],
   "source": [
    "f(u, n, a, b) = n == 0 ? a : u(u, n-1, b, a+b)\n",
    "@code_native debuginfo=:none f(f, 21, 0, 1)"
   ]
  },
  {
   "cell_type": "code",
   "execution_count": null,
   "id": "618afe50-795e-445c-9b3b-93fc0f00fdf6",
   "metadata": {},
   "outputs": [],
   "source": []
  }
 ],
 "metadata": {
  "jupytext": {
   "formats": "ipynb,jl:hydrogen"
  },
  "kernelspec": {
   "display_name": "Julia 1.6.2",
   "language": "julia",
   "name": "julia-1.6"
  },
  "language_info": {
   "file_extension": ".jl",
   "mimetype": "application/julia",
   "name": "julia",
   "version": "1.6.2"
  }
 },
 "nbformat": 4,
 "nbformat_minor": 5
}
