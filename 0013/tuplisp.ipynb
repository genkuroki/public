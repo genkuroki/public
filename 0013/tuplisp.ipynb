{
 "cells": [
  {
   "cell_type": "code",
   "execution_count": 1,
   "id": "a5bff5c0-2806-4836-8c2f-10728b04af0a",
   "metadata": {},
   "outputs": [
    {
     "name": "stdout",
     "output_type": "stream",
     "text": [
      "(methods(fib)).ms[1] = (::var\"#3#6\")(n, a, b) in Main\n",
      "fib(21, 0, 1) = 10946\n"
     ]
    }
   ],
   "source": [
    "fib_l = \n",
    "((:lambda, (:u,), (:u, :u)),\n",
    "    (:lambda, (:u,),\n",
    "        (:lambda, (:n, :a, :b),\n",
    "            (:if, (:(==), :n, 0), :a,\n",
    "                ((:u, :u), (:-, :n, 1), :b, (:+, :a, :b))))))\n",
    "\n",
    "l2j(s) = s\n",
    "function l2j(s::Tuple)\n",
    "    s[1] === :if     && return Expr(l2j.(s)...)\n",
    "    s[1] === :lambda && return Expr(:(->), Expr(:tuple, s[2]...), l2j(s[3]))\n",
    "    Expr(:call, l2j.(s)...)\n",
    "end\n",
    "macro l(x) l2j(Core.eval(__module__, x)) end\n",
    "\n",
    "fib= @l fib_l\n",
    "@show methods(fib).ms[1]\n",
    "@show fib(21, 0, 1);"
   ]
  },
  {
   "cell_type": "code",
   "execution_count": 7,
   "id": "41eddd6d-ebaf-496f-b27b-20c8ff4b6a2c",
   "metadata": {},
   "outputs": [
    {
     "data": {
      "text/plain": [
       "10-element Vector{Any}:\n",
       "  1.0\n",
       "  2.0\n",
       "  3.0\n",
       "  4.0\n",
       "  5.0\n",
       "  6.0\n",
       "  7.0\n",
       "  8.0\n",
       "  9.0\n",
       " 10.0"
      ]
     },
     "execution_count": 7,
     "metadata": {},
     "output_type": "execute_result"
    }
   ],
   "source": [
    "f_l =\n",
    "((:lambda, (:u,), (:u, :u)),\n",
    "    (:lambda, (:u,),\n",
    "        (:lambda, (:n,),\n",
    "            (:if, (:(≤), :n, 0), (:vcat,),\n",
    "                (:vcat, ((:u, :u), (:-, :n, 1)), :n)))))\n",
    "\n",
    "f = @l f_l\n",
    "f(10.0)"
   ]
  },
  {
   "cell_type": "code",
   "execution_count": null,
   "id": "bb31085c-a196-45ae-aa16-2bbe49bbb32b",
   "metadata": {},
   "outputs": [],
   "source": []
  }
 ],
 "metadata": {
  "jupytext": {
   "formats": "ipynb,auto:hydrogen"
  },
  "kernelspec": {
   "display_name": "Julia 1.6.2",
   "language": "julia",
   "name": "julia-1.6"
  },
  "language_info": {
   "file_extension": ".jl",
   "mimetype": "application/julia",
   "name": "julia",
   "version": "1.6.2"
  }
 },
 "nbformat": 4,
 "nbformat_minor": 5
}
