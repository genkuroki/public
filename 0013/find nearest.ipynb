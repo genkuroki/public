{
 "cells": [
  {
   "cell_type": "code",
   "execution_count": 1,
   "id": "f45998f5-ae50-46d1-a263-4af354c30335",
   "metadata": {},
   "outputs": [
    {
     "data": {
      "text/plain": [
       "v\"1.6.2\""
      ]
     },
     "execution_count": 1,
     "metadata": {},
     "output_type": "execute_result"
    }
   ],
   "source": [
    "VERSION"
   ]
  },
  {
   "cell_type": "code",
   "execution_count": 2,
   "id": "f2b17966-a97b-405c-8b5f-e76be272ac9c",
   "metadata": {},
   "outputs": [
    {
     "data": {
      "text/plain": [
       "indnearest (generic function with 1 method)"
      ]
     },
     "execution_count": 2,
     "metadata": {},
     "output_type": "execute_result"
    }
   ],
   "source": [
    "indnearest_alloc(M, x) = argmin(@. abs(M - x)) # allocates!\n",
    "\n",
    "# See https://github.com/JuliaLang/julia/blob/master/base/reduce.jl#L862\n",
    "valindargmin(f, X) = mapfoldl(((i, x),) -> (f(x), i, x),\n",
    "    ((v, i, x), (w, j, y)) -> v ≥ w ? (w, j, y) : (v, i, x), pairs(X))\n",
    "valindargnearest(M, x) = valindargmin(m -> abs(m - x), M)\n",
    "valindnearest(M, x) = ((val, ind, arg) = valindargnearest(M, x); (val, ind))\n",
    "indargnearest(M, x) = ((val, ind, arg) = valindargnearest(M, x); (ind, arg))\n",
    "indnearest(M, x) = ((val, ind, arg) = valindargnearest(M, x); ind)"
   ]
  },
  {
   "cell_type": "code",
   "execution_count": 3,
   "id": "f3b3e1e6-fd8d-4ee7-a1fe-d2216d1cba31",
   "metadata": {},
   "outputs": [
    {
     "data": {
      "text/plain": [
       "7×6 Matrix{Float64}:\n",
       " -0.454462   -0.449462   -0.444462   -0.439462   -0.434462   -0.429462\n",
       " -0.359382   -0.353982   -0.348582   -0.343182   -0.337782   -0.332382\n",
       " -0.203301   -0.197501   -0.191701   -0.185901   -0.180101   -0.174301\n",
       " -0.0105447  -0.0043447   0.0018553   0.0080553   0.0142553   0.0204553\n",
       "  0.188771    0.195371    0.201971    0.208571    0.215171    0.221771\n",
       "  0.363493    0.370493    0.377493    0.384493    0.391493    0.398493\n",
       "  0.486354    0.493754    0.501154    0.508554    0.515954    0.523354"
      ]
     },
     "execution_count": 3,
     "metadata": {},
     "output_type": "execute_result"
    }
   ],
   "source": [
    "f(x, y) = sin(x) * cos(x) + 0.01x * y\n",
    "M = f.(2.5:0.2:3.7, (1:0.2:2)')"
   ]
  },
  {
   "cell_type": "code",
   "execution_count": 4,
   "id": "3274a90d-0570-40b3-8e9d-61a7b5a55d4a",
   "metadata": {},
   "outputs": [
    {
     "data": {
      "text/plain": [
       "CartesianIndex(5, 3)"
      ]
     },
     "execution_count": 4,
     "metadata": {},
     "output_type": "execute_result"
    }
   ],
   "source": [
    "indnearest_alloc(M, 0.2)"
   ]
  },
  {
   "cell_type": "code",
   "execution_count": 5,
   "id": "53a86fd0-338d-4699-927a-129d5ac47918",
   "metadata": {},
   "outputs": [
    {
     "data": {
      "text/plain": [
       "(5, 3)"
      ]
     },
     "execution_count": 5,
     "metadata": {},
     "output_type": "execute_result"
    }
   ],
   "source": [
    "Tuple(indnearest_alloc(M, 0.2))"
   ]
  },
  {
   "cell_type": "code",
   "execution_count": 6,
   "id": "f47e7d8d-3765-4ece-aba7-4b8cbb17e45f",
   "metadata": {},
   "outputs": [
    {
     "data": {
      "text/plain": [
       "(0.001970681756688908, CartesianIndex(5, 3), 0.20197068175668892)"
      ]
     },
     "execution_count": 6,
     "metadata": {},
     "output_type": "execute_result"
    }
   ],
   "source": [
    "valindargnearest(M, 0.2)"
   ]
  },
  {
   "cell_type": "code",
   "execution_count": 7,
   "id": "ca9b3c46-fc63-4a84-8a5d-6def6d6a66ab",
   "metadata": {},
   "outputs": [
    {
     "data": {
      "text/plain": [
       "(0.001970681756688908, CartesianIndex(5, 3))"
      ]
     },
     "execution_count": 7,
     "metadata": {},
     "output_type": "execute_result"
    }
   ],
   "source": [
    "valindnearest(M, 0.2)"
   ]
  },
  {
   "cell_type": "code",
   "execution_count": 8,
   "id": "c2dd7ce1-fc01-4d8c-98a0-9e18314efa06",
   "metadata": {},
   "outputs": [
    {
     "data": {
      "text/plain": [
       "(CartesianIndex(5, 3), 0.20197068175668892)"
      ]
     },
     "execution_count": 8,
     "metadata": {},
     "output_type": "execute_result"
    }
   ],
   "source": [
    "indargnearest(M, 0.2)"
   ]
  },
  {
   "cell_type": "code",
   "execution_count": 9,
   "id": "a30fa29b-d515-4bb2-9bc8-08b01dec18cc",
   "metadata": {},
   "outputs": [
    {
     "data": {
      "text/plain": [
       "CartesianIndex(5, 3)"
      ]
     },
     "execution_count": 9,
     "metadata": {},
     "output_type": "execute_result"
    }
   ],
   "source": [
    "indnearest(M, 0.2)"
   ]
  },
  {
   "cell_type": "code",
   "execution_count": 10,
   "id": "113600b8-9294-4c7b-81fb-f12d921cc3f3",
   "metadata": {},
   "outputs": [
    {
     "data": {
      "text/plain": [
       "(5, 3)"
      ]
     },
     "execution_count": 10,
     "metadata": {},
     "output_type": "execute_result"
    }
   ],
   "source": [
    "Tuple(indnearest(M, 0.2))"
   ]
  },
  {
   "cell_type": "code",
   "execution_count": 11,
   "id": "6f8bb205-c88d-4f82-a04f-4f7bf6139e56",
   "metadata": {},
   "outputs": [
    {
     "name": "stdout",
     "output_type": "stream",
     "text": [
      "  145.232 ns (1 allocation: 448 bytes)\n",
      "  58.673 ns (0 allocations: 0 bytes)\n",
      "  58.961 ns (0 allocations: 0 bytes)\n",
      "  59.225 ns (0 allocations: 0 bytes)\n",
      "  60.183 ns (0 allocations: 0 bytes)\n",
      "  57.739 ns (0 allocations: 0 bytes)\n"
     ]
    }
   ],
   "source": [
    "using BenchmarkTools\n",
    "@btime indnearest_alloc($M, 0.2)\n",
    "@btime valindargnearest($M, 0.2)\n",
    "@btime valindnearest($M, 0.2)\n",
    "@btime indargnearest($M, 0.2)\n",
    "@btime indnearest($M, 0.2)\n",
    "@btime Tuple(indnearest($M, 0.2));"
   ]
  },
  {
   "cell_type": "code",
   "execution_count": null,
   "id": "c77cc201-266e-412a-abc8-64c10001e105",
   "metadata": {},
   "outputs": [],
   "source": []
  }
 ],
 "metadata": {
  "jupytext": {
   "formats": "ipynb,auto:hydrogen"
  },
  "kernelspec": {
   "display_name": "Julia 1.6.2",
   "language": "julia",
   "name": "julia-1.6"
  },
  "language_info": {
   "file_extension": ".jl",
   "mimetype": "application/julia",
   "name": "julia",
   "version": "1.6.2"
  }
 },
 "nbformat": 4,
 "nbformat_minor": 5
}
