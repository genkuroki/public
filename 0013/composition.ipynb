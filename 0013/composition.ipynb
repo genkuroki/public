{
 "cells": [
  {
   "cell_type": "code",
   "execution_count": 1,
   "id": "bc229892-1e2a-4218-8633-e9bb6a8ee162",
   "metadata": {},
   "outputs": [
    {
     "name": "stdout",
     "output_type": "stream",
     "text": [
      "Q.Goblin() = Goblin(88, 77, \"dagger\")\n",
      "propertynames(Q.Goblin()) = (:hp, :atk, :weapon)\n",
      "Q.Slime() = Slime(55, 44, \"acid\")\n",
      "propertynames(Q.Slime()) = (:hp, :atk, :sp)\n",
      "\n",
      "g = Q.Goblin(123, 45, \"dirty dagger\") = Goblin(123, 45, \"dirty dagger\")\n",
      "g.hp = 123\n",
      "g.atk = 45\n",
      "g.weapon = \"dirty dagger\"\n",
      "g.hp = 99 = 99\n",
      "g = Goblin(99, 45, \"dirty dagger\")\n",
      "g.atk = 11 = 11\n",
      "g = Goblin(99, 11, \"dirty dagger\")\n",
      "g.weapon = \"nothing\" = \"nothing\"\n",
      "g = Goblin(99, 11, \"nothing\")\n",
      "\n",
      "s = Q.Slime(123, 45, \"weak acid\") = Slime(123, 45, \"weak acid\")\n",
      "s.hp = 123\n",
      "s.atk = 45\n",
      "s.sp = \"weak acid\"\n",
      "s.hp = 66 = 66\n",
      "s = Slime(66, 45, \"weak acid\")\n",
      "s.atk = 99 = 99\n",
      "s = Slime(66, 99, \"weak acid\")\n",
      "s.sp = \"strong acid\" = \"strong acid\"\n",
      "s = Slime(66, 99, \"strong acid\")\n"
     ]
    }
   ],
   "source": [
    "module Q\n",
    "\n",
    "using InteractiveUtils: subtypes\n",
    "\n",
    "abstract type Creature end\n",
    "\n",
    "Base.@kwdef mutable struct _Common\n",
    "    hp::Int = 200\n",
    "    atk::Int = 100\n",
    "end\n",
    "\n",
    "Base.@kwdef mutable struct Goblin <: Creature\n",
    "    _common::_Common = _Common(88, 77)\n",
    "    weapon::String = \"dagger\"\n",
    "end\n",
    "\n",
    "Base.@kwdef mutable struct Slime <: Creature\n",
    "    _common::_Common = _Common(55, 44)\n",
    "    sp::String = \"acid\"\n",
    "end\n",
    "\n",
    "for T in subtypes(Creature)\n",
    "    n = length(fieldnames(_Common))\n",
    "    @eval $(nameof(T))(a...) = $T(_Common(a[1:$n]...), a[$n+1:end]...)\n",
    "    @eval Base.getproperty(x::$T, p::Symbol) =\n",
    "        p ∈ fieldnames(_Common) ? getfield(x._common, p) : getfield(x, p)\n",
    "    @eval Base.setproperty!(x::$T, p::Symbol, v) =\n",
    "        p ∈ fieldnames(_Common) ? setfield!(x._common, p, v) : setfield!(x, p, v)\n",
    "    @eval Base.propertynames(x::$T) = (fieldnames(_Common)...,\n",
    "        (p for p in fieldnames($T) if first(string(p)) != '_')...)\n",
    "    @eval function Base.show(io::IO, x::$T)\n",
    "        props = getproperty.(Ref(x), propertynames(x))\n",
    "        print(io, nameof($T), '(', repr(first(props)))\n",
    "        for p in props[2:end] print(io, \", \", repr(p)) end\n",
    "        print(io, ')')\n",
    "    end\n",
    "end\n",
    "\n",
    "end\n",
    "\n",
    "@show Q.Goblin()\n",
    "@show propertynames(Q.Goblin())\n",
    "@show Q.Slime()\n",
    "@show propertynames(Q.Slime())\n",
    "println()\n",
    "@show g = Q.Goblin(123, 45, \"dirty dagger\")\n",
    "@show g.hp\n",
    "@show g.atk\n",
    "@show g.weapon\n",
    "@show g.hp = 99\n",
    "@show g\n",
    "@show g.atk = 11\n",
    "@show g\n",
    "@show g.weapon = \"nothing\"\n",
    "@show g\n",
    "println()\n",
    "@show s = Q.Slime(123, 45, \"weak acid\")\n",
    "@show s.hp\n",
    "@show s.atk\n",
    "@show s.sp\n",
    "@show s.hp = 66\n",
    "@show s\n",
    "@show s.atk = 99\n",
    "@show s\n",
    "@show s.sp = \"strong acid\"\n",
    "@show s;"
   ]
  },
  {
   "cell_type": "code",
   "execution_count": 2,
   "id": "b7e56030-c03d-423d-a27f-9496abe9976c",
   "metadata": {},
   "outputs": [
    {
     "name": "stdout",
     "output_type": "stream",
     "text": [
      "Goblin(a...) = begin\n",
      "        (Main.Q.Goblin)(_Common(a[1:2]...), a[2 + 1:end]...)\n",
      "    end"
     ]
    }
   ],
   "source": [
    "T = Q.Goblin\n",
    "n = 2\n",
    ":($(nameof(T))(a...) = $T(_Common(a[1:$n]...), a[$n+1:end]...)) |> Base.remove_linenums! |> print"
   ]
  },
  {
   "cell_type": "code",
   "execution_count": 3,
   "id": "984fcd31-4b4d-4dd0-bc6c-4122e5d6af7d",
   "metadata": {},
   "outputs": [
    {
     "name": "stdout",
     "output_type": "stream",
     "text": [
      "Base.getproperty(x::Main.Q.Goblin, p::Symbol) = begin\n",
      "        if p ∈ fieldnames(_Common)\n",
      "            getfield(x._common, p)\n",
      "        else\n",
      "            getfield(x, p)\n",
      "        end\n",
      "    end"
     ]
    }
   ],
   "source": [
    ":(Base.getproperty(x::$T, p::Symbol) =\n",
    "    p ∈ fieldnames(_Common) ? getfield(x._common, p) : getfield(x, p)) |> Base.remove_linenums! |> print"
   ]
  },
  {
   "cell_type": "code",
   "execution_count": 4,
   "id": "458388c3-709e-41b4-b455-ad78a5c42359",
   "metadata": {},
   "outputs": [
    {
     "name": "stdout",
     "output_type": "stream",
     "text": [
      "Base.setproperty!(x::Main.Q.Goblin, p::Symbol, v) = begin\n",
      "        if p ∈ fieldnames(_Common)\n",
      "            setfield!(x._common, p, v)\n",
      "        else\n",
      "            setfield!(x, p, v)\n",
      "        end\n",
      "    end"
     ]
    }
   ],
   "source": [
    ":(Base.setproperty!(x::$T, p::Symbol, v) =\n",
    "    p ∈ fieldnames(_Common) ? setfield!(x._common, p, v) : setfield!(x, p, v)) |> Base.remove_linenums! |> print"
   ]
  },
  {
   "cell_type": "code",
   "execution_count": 5,
   "id": "5d2c0d56-d425-463e-9111-5ced5e6cfb5b",
   "metadata": {},
   "outputs": [
    {
     "name": "stdout",
     "output_type": "stream",
     "text": [
      "Base.propertynames(x::Main.Q.Goblin) = begin\n",
      "        (fieldnames(_Common)..., (p for p = fieldnames(Main.Q.Goblin) if first(string(p)) != '_')...)\n",
      "    end"
     ]
    }
   ],
   "source": [
    ":(Base.propertynames(x::$T) = (fieldnames(_Common)...,\n",
    "    (p for p in fieldnames($T) if first(string(p)) != '_')...)) |> Base.remove_linenums! |> print"
   ]
  },
  {
   "cell_type": "code",
   "execution_count": 6,
   "id": "8ab53eb4-6316-4007-94bc-66b268fc256f",
   "metadata": {},
   "outputs": [
    {
     "name": "stdout",
     "output_type": "stream",
     "text": [
      "function Base.show(io::IO, x::Main.Q.Goblin)\n",
      "    props = getproperty.(Ref(x), propertynames(x))\n",
      "    print(io, nameof(Main.Q.Goblin), '(', repr(first(props)))\n",
      "    for p = props[2:end]\n",
      "        print(io, \", \", repr(p))\n",
      "    end\n",
      "    print(io, ')')\n",
      "end"
     ]
    }
   ],
   "source": [
    ":(function Base.show(io::IO, x::$T)\n",
    "    props = getproperty.(Ref(x), propertynames(x))\n",
    "    print(io, nameof($T), '(', repr(first(props)))\n",
    "    for p in props[2:end] print(io, \", \", repr(p)) end\n",
    "    print(io, ')')\n",
    "end) |> Base.remove_linenums! |> print"
   ]
  },
  {
   "cell_type": "code",
   "execution_count": 7,
   "id": "62a38690-09af-4cc5-a65b-9ab0c2a65b4e",
   "metadata": {},
   "outputs": [
    {
     "name": "stdout",
     "output_type": "stream",
     "text": [
      "O.Goblin() = Main.O.Goblin(Main.O._Common(88, 77), \"dagger\")\n",
      "O.Slime() = Main.O.Slime(Main.O._Common(55, 44), \"acid\")\n",
      "\n",
      "g = O.Goblin(123, 45, \"dirty dagger\") = Main.O.Goblin(Main.O._Common(123, 45), \"dirty dagger\")\n",
      "O.hp(g) = 123\n",
      "O.atk(g) = 45\n",
      "O.weapon(g) = \"dirty dagger\"\n",
      "O.set_hp!(g, 99) = 99\n",
      "g = Main.O.Goblin(Main.O._Common(99, 45), \"dirty dagger\")\n",
      "O.set_atk!(g, 11) = 11\n",
      "g = Main.O.Goblin(Main.O._Common(99, 11), \"dirty dagger\")\n",
      "O.set_weapon!(g, \"nothing\") = \"nothing\"\n",
      "g = Main.O.Goblin(Main.O._Common(99, 11), \"nothing\")\n",
      "\n",
      "s = O.Slime(123, 45, \"weak acid\") = Main.O.Slime(Main.O._Common(123, 45), \"weak acid\")\n",
      "O.hp(s) = 123\n",
      "O.atk(s) = 45\n",
      "O.sp(s) = \"weak acid\"\n",
      "O.set_hp!(s, 66) = 66\n",
      "s = Main.O.Slime(Main.O._Common(66, 45), \"weak acid\")\n",
      "O.set_atk!(s, 99) = 99\n",
      "s = Main.O.Slime(Main.O._Common(66, 99), \"weak acid\")\n",
      "O.set_sp!(s, \"strong acid\") = \"strong acid\"\n",
      "s = Main.O.Slime(Main.O._Common(66, 99), \"strong acid\")\n"
     ]
    }
   ],
   "source": [
    "module O\n",
    "\n",
    "using InteractiveUtils: subtypes\n",
    "\n",
    "abstract type Creature end\n",
    "\n",
    "Base.@kwdef mutable struct _Common\n",
    "    hp::Int = 200\n",
    "    atk::Int = 100\n",
    "end\n",
    "for p in fieldnames(_Common)\n",
    "    @eval $p(x::Creature) = getfield(x._common, $(QuoteNode(p)))\n",
    "    @eval $(Symbol(:set_, p, :!))(x::Creature, v) = setfield!(x._common, $(QuoteNode(p)), v)\n",
    "end\n",
    "\n",
    "Base.@kwdef mutable struct Goblin <: Creature\n",
    "    _common::_Common = _Common(88, 77)\n",
    "    weapon::String = \"dagger\"\n",
    "end\n",
    "\n",
    "Base.@kwdef mutable struct Slime <: Creature\n",
    "    _common::_Common = _Common(55, 44)\n",
    "    sp::String = \"acid\"\n",
    "end\n",
    "\n",
    "for T in subtypes(Creature)\n",
    "    n = length(fieldnames(_Common))\n",
    "    @eval $(nameof(T))(a...) = $T(_Common(a[1:$n]...), a[$n+1:end]...)\n",
    "    for p in fieldnames(T)\n",
    "        first(string(p)) == '_' && continue\n",
    "        @eval $p(x::$T) = getfield(x, $(QuoteNode(p)))\n",
    "        @eval $(Symbol(:set_, p, :!))(x::$T, v) = setfield!(x, $(QuoteNode(p)), v)\n",
    "    end\n",
    "end\n",
    "\n",
    "end\n",
    "\n",
    "@show O.Goblin()\n",
    "@show O.Slime()\n",
    "println()\n",
    "@show g = O.Goblin(123, 45, \"dirty dagger\")\n",
    "@show O.hp(g)\n",
    "@show O.atk(g)\n",
    "@show O.weapon(g)\n",
    "@show O.set_hp!(g, 99)\n",
    "@show g\n",
    "@show O.set_atk!(g, 11)\n",
    "@show g\n",
    "@show O.set_weapon!(g, \"nothing\")\n",
    "@show g\n",
    "println()\n",
    "@show s = O.Slime(123, 45, \"weak acid\")\n",
    "@show O.hp(s)\n",
    "@show O.atk(s)\n",
    "@show O.sp(s)\n",
    "@show O.set_hp!(s, 66)\n",
    "@show s\n",
    "@show O.set_atk!(s, 99)\n",
    "@show s\n",
    "@show O.set_sp!(s, \"strong acid\")\n",
    "@show s;"
   ]
  },
  {
   "cell_type": "code",
   "execution_count": 8,
   "id": "824f2cea-74c1-41e2-9b7b-1f0dcae90edf",
   "metadata": {},
   "outputs": [
    {
     "name": "stdout",
     "output_type": "stream",
     "text": [
      "hp(x::Creature) = begin\n",
      "        getfield(x._common, :hp)\n",
      "    end"
     ]
    }
   ],
   "source": [
    "p = :hp\n",
    ":($p(x::Creature) = getfield(x._common, $(QuoteNode(p)))) |> Base.remove_linenums! |> print"
   ]
  },
  {
   "cell_type": "code",
   "execution_count": 9,
   "id": "f71adcf5-c75a-4769-8eb1-7776729f332a",
   "metadata": {},
   "outputs": [
    {
     "name": "stdout",
     "output_type": "stream",
     "text": [
      "set_hp!(x::Creature, v) = begin\n",
      "        setfield!(x._common, :hp, v)\n",
      "    end"
     ]
    }
   ],
   "source": [
    ":($(Symbol(:set_, p, :!))(x::Creature, v) = setfield!(x._common, $(QuoteNode(p)), v)) |> Base.remove_linenums! |> print"
   ]
  },
  {
   "cell_type": "code",
   "execution_count": 10,
   "id": "f01ce037-3cbe-4cb2-8f06-7b52763f331b",
   "metadata": {},
   "outputs": [
    {
     "name": "stdout",
     "output_type": "stream",
     "text": [
      "Goblin(a...) = begin\n",
      "        (Main.O.Goblin)(_Common(a[1:2]...), a[2 + 1:end]...)\n",
      "    end"
     ]
    }
   ],
   "source": [
    "T = O.Goblin\n",
    "n = 2\n",
    ":($(nameof(T))(a...) = $T(_Common(a[1:$n]...), a[$n+1:end]...)) |> Base.remove_linenums! |> print"
   ]
  },
  {
   "cell_type": "code",
   "execution_count": 11,
   "id": "480944ea-e6f1-4486-b917-7b015ba13b8b",
   "metadata": {},
   "outputs": [
    {
     "name": "stdout",
     "output_type": "stream",
     "text": [
      "hp(x::Main.O.Goblin) = begin\n",
      "        getfield(x, :hp)\n",
      "    end"
     ]
    }
   ],
   "source": [
    ":($p(x::$T) = getfield(x, $(QuoteNode(p)))) |> Base.remove_linenums! |> print"
   ]
  },
  {
   "cell_type": "code",
   "execution_count": 12,
   "id": "0e009b56-3dd9-4939-ab9f-bb5e52ca7736",
   "metadata": {},
   "outputs": [
    {
     "name": "stdout",
     "output_type": "stream",
     "text": [
      "set_hp!(x::Main.O.Goblin, v) = begin\n",
      "        setfield!(x, :hp, v)\n",
      "    end"
     ]
    }
   ],
   "source": [
    ":($(Symbol(:set_, p, :!))(x::$T, v) = setfield!(x, $(QuoteNode(p)), v)) |> Base.remove_linenums! |> print"
   ]
  },
  {
   "cell_type": "code",
   "execution_count": 13,
   "id": "0c470b23-3f3c-4856-94ad-007c95de50bc",
   "metadata": {},
   "outputs": [
    {
     "name": "stdout",
     "output_type": "stream",
     "text": [
      "x = hp"
     ]
    }
   ],
   "source": [
    "p = :hp\n",
    ":(x = $p) |> Base.remove_linenums! |> print"
   ]
  },
  {
   "cell_type": "code",
   "execution_count": 14,
   "id": "6a705cb3-a15e-40f9-a5ab-d1587380cd68",
   "metadata": {},
   "outputs": [
    {
     "name": "stdout",
     "output_type": "stream",
     "text": [
      "x = :hp"
     ]
    }
   ],
   "source": [
    "p = :hp\n",
    ":(x = $(QuoteNode(p))) |> Base.remove_linenums! |> print"
   ]
  },
  {
   "cell_type": "code",
   "execution_count": null,
   "id": "6ba7d27c-bcc9-4be9-980f-82a01f6e8c00",
   "metadata": {},
   "outputs": [],
   "source": []
  }
 ],
 "metadata": {
  "jupytext": {
   "encoding": "# -*- coding: utf-8 -*-",
   "formats": "ipynb,jl:hydrogen"
  },
  "kernelspec": {
   "display_name": "Julia 1.6.2",
   "language": "julia",
   "name": "julia-1.6"
  },
  "language_info": {
   "file_extension": ".jl",
   "mimetype": "application/julia",
   "name": "julia",
   "version": "1.6.2"
  }
 },
 "nbformat": 4,
 "nbformat_minor": 5
}
