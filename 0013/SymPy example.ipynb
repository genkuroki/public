{
 "cells": [
  {
   "cell_type": "code",
   "execution_count": 1,
   "id": "e621682a-1efe-4ee8-b67c-5adbd1fb96fb",
   "metadata": {},
   "outputs": [
    {
     "data": {
      "text/plain": [
       "(a,)"
      ]
     },
     "execution_count": 1,
     "metadata": {},
     "output_type": "execute_result"
    }
   ],
   "source": [
    "using SymPy\n",
    "@syms z\n",
    "@syms x::real\n",
    "@syms a::positive"
   ]
  },
  {
   "cell_type": "code",
   "execution_count": 2,
   "id": "c6e290f3-30af-44d9-8ac1-0e85666804e1",
   "metadata": {},
   "outputs": [
    {
     "data": {
      "text/latex": [
       "$\\begin{equation*}\\sin^{2}{\\left(z \\right)} + \\cos^{2}{\\left(z \\right)}\\end{equation*}$\n"
      ],
      "text/plain": [
       "   2         2   \n",
       "sin (z) + cos (z)"
      ]
     },
     "execution_count": 2,
     "metadata": {},
     "output_type": "execute_result"
    }
   ],
   "source": [
    "expr = cos(z)^2 + sin(z)^2"
   ]
  },
  {
   "cell_type": "code",
   "execution_count": 3,
   "id": "42202aa8-1b2f-4a4b-b90c-d781f3bb1cfa",
   "metadata": {},
   "outputs": [
    {
     "data": {
      "text/latex": [
       "$\\begin{equation*}1\\end{equation*}$\n"
      ],
      "text/plain": [
       "1"
      ]
     },
     "execution_count": 3,
     "metadata": {},
     "output_type": "execute_result"
    }
   ],
   "source": [
    "expr.simplify()"
   ]
  },
  {
   "cell_type": "code",
   "execution_count": 4,
   "id": "c33f0b9f-60d0-4192-8be1-907d080383e7",
   "metadata": {},
   "outputs": [
    {
     "data": {
      "text/latex": [
       "$\\begin{equation*}\\sin^{2}{\\left(z \\right)} + \\cos^{2}{\\left(z \\right)} = 1\\end{equation*}$\n"
      ],
      "text/plain": [
       "   2         2       \n",
       "sin (z) + cos (z) = 1"
      ]
     },
     "execution_count": 4,
     "metadata": {},
     "output_type": "execute_result"
    }
   ],
   "source": [
    "Eq(expr, expr.simplify())"
   ]
  },
  {
   "cell_type": "code",
   "execution_count": 5,
   "id": "3a41d946-9df8-49c7-be41-02fb6ba43c97",
   "metadata": {},
   "outputs": [
    {
     "data": {
      "text/latex": [
       "$\\begin{equation*}\\int\\limits_{-\\infty}^{\\infty} e^{- \\frac{x^{2}}{a}}\\, dx\\end{equation*}$\n"
      ],
      "text/plain": [
       " oo         \n",
       "  /         \n",
       " |          \n",
       " |     2    \n",
       " |   -x     \n",
       " |   ----   \n",
       " |    a     \n",
       " |  e     dx\n",
       " |          \n",
       "/           \n",
       "-oo         "
      ]
     },
     "execution_count": 5,
     "metadata": {},
     "output_type": "execute_result"
    }
   ],
   "source": [
    "G = sympy.Integral(exp(-x^2/a), (x, -oo, oo))"
   ]
  },
  {
   "cell_type": "code",
   "execution_count": 6,
   "id": "6532dfff-4036-4e6a-95ff-9ae813fb00e5",
   "metadata": {},
   "outputs": [
    {
     "data": {
      "text/latex": [
       "$\\begin{equation*}\\int\\limits_{-\\infty}^{\\infty} e^{- \\frac{x^{2}}{a}}\\, dx = \\sqrt{\\pi} \\sqrt{a}\\end{equation*}$\n"
      ],
      "text/plain": [
       " oo                        \n",
       "  /                        \n",
       " |                         \n",
       " |     2                   \n",
       " |   -x                    \n",
       " |   ----                  \n",
       " |    a          ____   ___\n",
       " |  e     dx = \\/ pi *\\/ a \n",
       " |                         \n",
       "/                          \n",
       "-oo                        "
      ]
     },
     "execution_count": 6,
     "metadata": {},
     "output_type": "execute_result"
    }
   ],
   "source": [
    "Eq(G, G.doit())"
   ]
  },
  {
   "cell_type": "code",
   "execution_count": null,
   "id": "36650b63-e1d5-4a97-9a71-321f2c1ae349",
   "metadata": {},
   "outputs": [],
   "source": []
  }
 ],
 "metadata": {
  "jupytext": {
   "formats": "ipynb,auto:hydrogen"
  },
  "kernelspec": {
   "display_name": "Julia 1.8.0-DEV",
   "language": "julia",
   "name": "julia-1.8"
  },
  "language_info": {
   "file_extension": ".jl",
   "mimetype": "application/julia",
   "name": "julia",
   "version": "1.8.0"
  }
 },
 "nbformat": 4,
 "nbformat_minor": 5
}
