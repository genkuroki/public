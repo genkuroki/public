{
 "cells": [
  {
   "cell_type": "code",
   "execution_count": 1,
   "id": "20a3723c-586b-4654-9f9d-69d3185dde79",
   "metadata": {},
   "outputs": [
    {
     "name": "stdout",
     "output_type": "stream",
     "text": [
      "y == z = true\n"
     ]
    }
   ],
   "source": [
    "using Statistics\n",
    "X = rand(Float32, 10^7)\n",
    "\n",
    "x = copy(X); y = quantile!(x, [0.02, 0.98])\n",
    "x = copy(X); z = [quantile!(x, 0.02), quantile!(x, 0.98)]\n",
    "@show y == z;"
   ]
  },
  {
   "cell_type": "code",
   "execution_count": 2,
   "id": "f3833681-6bec-4740-9aa5-d9a5d16b9efd",
   "metadata": {},
   "outputs": [
    {
     "name": "stdout",
     "output_type": "stream",
     "text": [
      "  1.162702 seconds (2 allocations: 192 bytes)\n",
      "  1.168330 seconds (2 allocations: 192 bytes)\n",
      "  1.161032 seconds (2 allocations: 192 bytes)\n"
     ]
    }
   ],
   "source": [
    "x = copy(X); @time quantile!(x, [0.02, 0.98])\n",
    "x = copy(X); @time quantile!(x, [0.02, 0.98])\n",
    "x = copy(X); @time quantile!(x, [0.02, 0.98]);"
   ]
  },
  {
   "cell_type": "code",
   "execution_count": 3,
   "id": "076b00fd-59f8-4095-861d-290ea8b60b86",
   "metadata": {},
   "outputs": [
    {
     "name": "stdout",
     "output_type": "stream",
     "text": [
      "  0.163733 seconds (3 allocations: 128 bytes)\n",
      "  0.190804 seconds (3 allocations: 128 bytes)\n",
      "  0.179826 seconds (3 allocations: 128 bytes)\n"
     ]
    }
   ],
   "source": [
    "x = copy(X); @time [quantile!(x, 0.02), quantile!(x, 0.98)]\n",
    "x = copy(X); @time [quantile!(x, 0.02), quantile!(x, 0.98)]\n",
    "x = copy(X); @time [quantile!(x, 0.02), quantile!(x, 0.98)];"
   ]
  },
  {
   "cell_type": "code",
   "execution_count": 4,
   "id": "b49f0dc1-50e4-4dea-8a9c-ff4790fe4ab4",
   "metadata": {},
   "outputs": [
    {
     "name": "stdout",
     "output_type": "stream",
     "text": [
      "myquantile!(x, [0.02, 0.98]):\n",
      "Statistics._quantilesort!(v, sorted, minp, maxp):               1.165920 seconds\n",
      "map(x->Statistics._quantile(v, x, alpha=alpha, beta=beta), p):  0.000001 seconds (1 allocation: 96 bytes)\n",
      "\n",
      "[myquantile!(x, 0.02), myquantile!(x, 0.98)]:\n",
      "Statistics._quantilesort!(v, sorted, p, p):          0.079420 seconds\n",
      "Statistics._quantile(v, p, alpha=alpha, beta=beta):  0.000000 seconds\n",
      "Statistics._quantilesort!(v, sorted, p, p):          0.085581 seconds\n",
      "Statistics._quantile(v, p, alpha=alpha, beta=beta):  0.000000 seconds\n",
      "\n",
      "u == v = true\n"
     ]
    }
   ],
   "source": [
    "# `@time`'s added version of https://github.com/JuliaLang/Statistics.jl/blob/master/src/Statistics.jl#L949-L959\n",
    "\n",
    "function myquantile!(v::AbstractVector, p::Union{AbstractArray, Tuple{Vararg{Real}}};\n",
    "                   sorted::Bool=false, alpha::Real=1., beta::Real=alpha)\n",
    "    if !isempty(p)\n",
    "        minp, maxp = extrema(p)\n",
    "        print(\"Statistics._quantilesort!(v, sorted, minp, maxp):             \")\n",
    "        @time Statistics._quantilesort!(v, sorted, minp, maxp)\n",
    "    end\n",
    "    print(\"map(x->Statistics._quantile(v, x, alpha=alpha, beta=beta), p):\")\n",
    "    return @time map(x->Statistics._quantile(v, x, alpha=alpha, beta=beta), p)\n",
    "end\n",
    "\n",
    "myquantile!(v::AbstractVector, p::Real; sorted::Bool=false, alpha::Real=1., beta::Real=alpha) = begin\n",
    "    print(\"Statistics._quantilesort!(v, sorted, p, p):        \")\n",
    "    @time Statistics._quantilesort!(v, sorted, p, p)\n",
    "    print(\"Statistics._quantile(v, p, alpha=alpha, beta=beta):\")\n",
    "    @time Statistics._quantile(v, p, alpha=alpha, beta=beta)\n",
    "end\n",
    "\n",
    "println(\"myquantile!(x, [0.02, 0.98]):\")\n",
    "x = copy(X); u = myquantile!(x, [0.02, 0.98])\n",
    "println(\"\\n[myquantile!(x, 0.02), myquantile!(x, 0.98)]:\")\n",
    "x = copy(X); v = [myquantile!(x, 0.02), myquantile!(x, 0.98)]\n",
    "println(); @show u == v;"
   ]
  },
  {
   "cell_type": "code",
   "execution_count": 5,
   "id": "66111a8b-9bbb-4183-ad37-46fd196881c7",
   "metadata": {},
   "outputs": [
    {
     "name": "stdout",
     "output_type": "stream",
     "text": [
      "  0.133984 seconds (2 allocations: 192 bytes)\n",
      "  0.138859 seconds (2 allocations: 192 bytes)\n",
      "  0.161751 seconds (2 allocations: 192 bytes)\n"
     ]
    }
   ],
   "source": [
    "x = copy(X); @time y = quantile!(x, [0.499, 0.501])\n",
    "x = copy(X); @time y = quantile!(x, [0.499, 0.501])\n",
    "x = copy(X); @time y = quantile!(x, [0.499, 0.501]);"
   ]
  },
  {
   "cell_type": "code",
   "execution_count": 6,
   "id": "a75c31e2-52ba-487e-a510-c8cd1636d69a",
   "metadata": {},
   "outputs": [
    {
     "name": "stdout",
     "output_type": "stream",
     "text": [
      "  0.235203 seconds (3 allocations: 128 bytes)\n",
      "  0.225585 seconds (3 allocations: 128 bytes)\n",
      "  0.200007 seconds (3 allocations: 128 bytes)\n"
     ]
    }
   ],
   "source": [
    "x = copy(X); @time z = [quantile!(x, 0.499), quantile!(x, 0.501)]\n",
    "x = copy(X); @time z = [quantile!(x, 0.499), quantile!(x, 0.501)]\n",
    "x = copy(X); @time z = [quantile!(x, 0.499), quantile!(x, 0.501)];"
   ]
  },
  {
   "cell_type": "code",
   "execution_count": 7,
   "id": "8955e1fb-d41b-4d46-82f6-0fb0ecb9d6ba",
   "metadata": {},
   "outputs": [
    {
     "data": {
      "text/html": [
       "quantile!(v::<b>AbstractVector{T} where T</b>, p::<b>Union{Tuple{Vararg{Real, N} where N}, AbstractArray}</b>; <i>sorted, alpha, beta</i>) in Statistics at <a href=\"file://C:/buildbot/worker/package_win64/build/usr/share/julia/stdlib/v1.6/Statistics/src/Statistics.jl\" target=\"_blank\">D:\\Julia-1.6.2\\share\\julia\\stdlib\\v1.6\\Statistics\\src\\Statistics.jl:934</a>"
      ],
      "text/plain": [
       "quantile!(v::AbstractVector{T} where T, p::Union{Tuple{Vararg{Real, N} where N}, AbstractArray}; sorted, alpha, beta) in Statistics at D:\\Julia-1.6.2\\share\\julia\\stdlib\\v1.6\\Statistics\\src\\Statistics.jl:934"
      ]
     },
     "execution_count": 7,
     "metadata": {},
     "output_type": "execute_result"
    }
   ],
   "source": [
    "@which quantile!(x, [0.02, 0.98])"
   ]
  },
  {
   "cell_type": "code",
   "execution_count": 8,
   "id": "8f6806ea-9ca2-400a-a79b-4f0145eaf205",
   "metadata": {},
   "outputs": [
    {
     "data": {
      "text/html": [
       "quantile!(v::<b>AbstractVector{T} where T</b>, p::<b>Real</b>; <i>sorted, alpha, beta</i>) in Statistics at <a href=\"file://C:/buildbot/worker/package_win64/build/usr/share/julia/stdlib/v1.6/Statistics/src/Statistics.jl\" target=\"_blank\">D:\\Julia-1.6.2\\share\\julia\\stdlib\\v1.6\\Statistics\\src\\Statistics.jl:943</a>"
      ],
      "text/plain": [
       "quantile!(v::AbstractVector{T} where T, p::Real; sorted, alpha, beta) in Statistics at D:\\Julia-1.6.2\\share\\julia\\stdlib\\v1.6\\Statistics\\src\\Statistics.jl:943"
      ]
     },
     "execution_count": 8,
     "metadata": {},
     "output_type": "execute_result"
    }
   ],
   "source": [
    "@which quantile!(x, 0.02)"
   ]
  },
  {
   "cell_type": "code",
   "execution_count": 9,
   "id": "71456ebc-33ee-48a5-917b-86716151b50f",
   "metadata": {},
   "outputs": [
    {
     "data": {
      "text/html": [
       "sort!(v::<b>AbstractVector{T} where T</b>, lo::<b>Integer</b>, hi::<b>Integer</b>, a::<b>PartialQuickSort</b>, o::<b>Base.Order.Ordering</b>) in Base.Sort at <a href=\"https://github.com/JuliaLang/julia/tree/1b93d53fc4bb59350ada898038ed4de2994cce33/base/sort.jl#L623\" target=\"_blank\">sort.jl:623</a>"
      ],
      "text/plain": [
       "sort!(v::AbstractVector{T} where T, lo::Integer, hi::Integer, a::PartialQuickSort, o::Base.Order.Ordering) in Base.Sort at sort.jl:623"
      ]
     },
     "execution_count": 9,
     "metadata": {},
     "output_type": "execute_result"
    }
   ],
   "source": [
    "@which sort!(x, 1, length(x), Base.Sort.PartialQuickSort(2*10^5:98*10^5), Base.Sort.Forward)"
   ]
  },
  {
   "cell_type": "code",
   "execution_count": null,
   "id": "24024cc6-890e-4751-b980-8ca3f9bfd1b0",
   "metadata": {},
   "outputs": [],
   "source": []
  }
 ],
 "metadata": {
  "jupytext": {
   "formats": "ipynb,auto:hydrogen"
  },
  "kernelspec": {
   "display_name": "Julia 1.6.2",
   "language": "julia",
   "name": "julia-1.6"
  },
  "language_info": {
   "file_extension": ".jl",
   "mimetype": "application/julia",
   "name": "julia",
   "version": "1.6.2"
  }
 },
 "nbformat": 4,
 "nbformat_minor": 5
}
