{
 "cells": [
  {
   "cell_type": "markdown",
   "id": "6b1876a0-c314-4760-9622-73cbd8f34fe4",
   "metadata": {},
   "source": [
    "https://discourse.julialang.org/t/problem-with-distrubuted-package/65199/5"
   ]
  },
  {
   "cell_type": "code",
   "execution_count": 1,
   "id": "c88dcd6d-e7e3-4b6a-969b-ffd0dd0573b1",
   "metadata": {},
   "outputs": [
    {
     "name": "stdout",
     "output_type": "stream",
     "text": [
      "addprocs() = [2, 3, 4, 5, 6, 7, 8, 9, 10, 11, 12, 13]\n"
     ]
    },
    {
     "data": {
      "text/plain": [
       "EnsembleSolution Solution of length 100 with uType:\n",
       "ODESolution{Float64, 1, Vector{Float64}, Nothing, Nothing, Vector{Float64}, Vector{Vector{Float64}}, ODEProblem{Float64, Tuple{Float64, Float64}, false, SciMLBase.NullParameters, ODEFunction{false, typeof(f), LinearAlgebra.UniformScaling{Bool}, Nothing, Nothing, Nothing, Nothing, Nothing, Nothing, Nothing, Nothing, Nothing, Nothing, Nothing, Nothing, typeof(SciMLBase.DEFAULT_OBSERVED), Nothing}, Base.Iterators.Pairs{Union{}, Union{}, Tuple{}, NamedTuple{(), Tuple{}}}, SciMLBase.StandardODEProblem}, Tsit5, OrdinaryDiffEq.InterpolationData{ODEFunction{false, typeof(f), LinearAlgebra.UniformScaling{Bool}, Nothing, Nothing, Nothing, Nothing, Nothing, Nothing, Nothing, Nothing, Nothing, Nothing, Nothing, Nothing, typeof(SciMLBase.DEFAULT_OBSERVED), Nothing}, Vector{Float64}, Vector{Float64}, Vector{Vector{Float64}}, OrdinaryDiffEq.Tsit5ConstantCache{Float64, Float64}}, DiffEqBase.DEStats}"
      ]
     },
     "execution_count": 1,
     "metadata": {},
     "output_type": "execute_result"
    }
   ],
   "source": [
    "using Distributed\n",
    "using DifferentialEquations\n",
    "# using Plots\n",
    "\n",
    "@show addprocs()\n",
    "\n",
    "@everywhere using DifferentialEquations\n",
    "# Linear ODE which starts at 0.5 and solves from t=0.0 to t=1.0\n",
    "@everywhere f(u,p,t) = 1.01*u\n",
    "prob = ODEProblem(f,0.5,(0.0,1.0))\n",
    "\n",
    "@everywhere function prob_func(prob,i,repeat) # i is the unique id 1:trajectories for the problem\n",
    "  remake(prob,u0=rand()*prob.u0)\n",
    "end\n",
    "\n",
    "ensemble_prob = EnsembleProblem(prob,prob_func=prob_func)\n",
    "sim = solve(ensemble_prob,Tsit5(),EnsembleDistributed(),trajectories=100)"
   ]
  },
  {
   "cell_type": "code",
   "execution_count": 2,
   "id": "04c2582e-a803-4c66-a27c-61be91889bf7",
   "metadata": {},
   "outputs": [
    {
     "name": "stdout",
     "output_type": "stream",
     "text": [
      "Julia Version 1.6.2\n",
      "Commit 1b93d53fc4 (2021-07-14 15:36 UTC)\n",
      "Platform Info:\n",
      "  OS: Windows (x86_64-w64-mingw32)\n",
      "  CPU: Intel(R) Core(TM) i7-10750H CPU @ 2.60GHz\n",
      "  WORD_SIZE: 64\n",
      "  LIBM: libopenlibm\n",
      "  LLVM: libLLVM-11.0.1 (ORCJIT, skylake)\n",
      "Environment:\n",
      "  JULIA_DEPOT_PATH = D:\\.julia\n",
      "  JULIA_NUM_THREADS = 12\n",
      "  JULIA_PYTHONCALL_EXE = D:\\.julia\\conda\\3\\python.exe\n"
     ]
    }
   ],
   "source": [
    "versioninfo()"
   ]
  },
  {
   "cell_type": "code",
   "execution_count": 3,
   "id": "bf37446a-7c0f-44be-b045-b08fdfd91c43",
   "metadata": {},
   "outputs": [
    {
     "name": "stdout",
     "output_type": "stream",
     "text": [
      "\u001b[32m\u001b[1m      Status\u001b[22m\u001b[39m `D:\\.julia\\environments\\v1.6\\Project.toml`\n",
      " \u001b[90m [0c46a032] \u001b[39mDifferentialEquations v6.17.2\n",
      "\u001b[32m\u001b[1m      Status\u001b[22m\u001b[39m `D:\\.julia\\environments\\v1.6\\Manifest.toml`\n",
      " \u001b[90m [2b5f629d] \u001b[39mDiffEqBase v6.69.0\n",
      "\u001b[32m\u001b[1m      Status\u001b[22m\u001b[39m `D:\\.julia\\environments\\v1.6\\Manifest.toml`\n",
      " \u001b[90m [0bca4576] \u001b[39mSciMLBase v1.18.2\n"
     ]
    }
   ],
   "source": [
    "using Pkg\n",
    "Pkg.status(\"DifferentialEquations\")\n",
    "Pkg.status(\"DiffEqBase\"; mode=PKGMODE_MANIFEST)\n",
    "Pkg.status(\"SciMLBase\"; mode=PKGMODE_MANIFEST)"
   ]
  },
  {
   "cell_type": "code",
   "execution_count": null,
   "id": "38ccf9d6-bec2-4229-858d-d5b5a1a0cebd",
   "metadata": {},
   "outputs": [],
   "source": []
  }
 ],
 "metadata": {
  "jupytext": {
   "formats": "ipynb,auto:hydrogen"
  },
  "kernelspec": {
   "display_name": "Julia 1.6.2",
   "language": "julia",
   "name": "julia-1.6"
  },
  "language_info": {
   "file_extension": ".jl",
   "mimetype": "application/julia",
   "name": "julia",
   "version": "1.6.2"
  }
 },
 "nbformat": 4,
 "nbformat_minor": 5
}
