{
 "cells": [
  {
   "cell_type": "markdown",
   "id": "2b8b8c13-85b7-4583-bca3-c1b7d2bfc806",
   "metadata": {},
   "source": [
    "https://discourse.julialang.org/t/fast-performance-of-array-comprehension-without-allocations/65352\n",
    "\n",
    "https://github.com/JuliaSIMD/LoopVectorization.jl/issues/307"
   ]
  },
  {
   "cell_type": "code",
   "execution_count": 1,
   "id": "36d90de8-05f0-4268-9c05-25f9bac532d4",
   "metadata": {},
   "outputs": [
    {
     "name": "stdout",
     "output_type": "stream",
     "text": [
      "a ≈ b ≈ c = true\n",
      "LoopVectorization.@turbo:  39.741 ms (0 allocations: 0 bytes)\n",
      "comprehension:             782.135 ms (2 allocations: 432.00 MiB)\n",
      "broadcast:                 707.889 ms (0 allocations: 0 bytes)\n"
     ]
    }
   ],
   "source": [
    "using BenchmarkTools\n",
    "using LoopVectorization\n",
    "\n",
    "function assign!(u, x, y, z)\n",
    "    @turbo for k in 1:length(z)\n",
    "        for j in 1:length(y)\n",
    "            for i in 1:length(x)\n",
    "                u[i, j, k] = sin(x[i]) + sin(y[j]) + sin(z[k])\n",
    "            end \n",
    "        end \n",
    "    end \n",
    "end\n",
    "\n",
    "itot = 384 \n",
    "dx = 1. / itot\n",
    "x = dx*collect(0:itot-1); y = dx*collect(0:itot-1); z = dx*collect(0:itot-1)\n",
    "u = zeros(itot+8, itot+8, itot+8)\n",
    "\n",
    "uv = @view u[5:5+itot-1, 5:5+itot-1, 5:5+itot-1]\n",
    "xx, yy, zz = reshape(x, (:, 1, 1)), reshape(y, (1, :, 1)), reshape(z, (1, 1, :))\n",
    "\n",
    "assign!(uv, x, y, z)\n",
    "a = deepcopy(uv)\n",
    "uv[:, :, :] = [ sin(x) + sin(y) + sin(z) for x=x, y=y, z=z ]\n",
    "b = deepcopy(uv)\n",
    "@. uv = sin(xx) + sin(yy) + sin(zz)\n",
    "c = deepcopy(uv)\n",
    "@show a ≈ b ≈ c\n",
    "\n",
    "print(\"LoopVectorization.@turbo:\")\n",
    "@btime assign!($uv, $x, $y, $z)\n",
    "print(\"comprehension:           \")\n",
    "@btime $uv[:, :, :] = [ sin(x) + sin(y) + sin(z) for x=$x, y=$y, z=$z ]\n",
    "print(\"broadcast:               \")\n",
    "@btime @. $uv = sin($xx) + sin($yy) + sin($zz);"
   ]
  },
  {
   "cell_type": "code",
   "execution_count": 2,
   "id": "e2507769-5d88-47d6-81c3-485f899055ff",
   "metadata": {},
   "outputs": [
    {
     "name": "stdout",
     "output_type": "stream",
     "text": [
      "\u001b[32m\u001b[1m      Status\u001b[22m\u001b[39m `D:\\.julia\\environments\\v1.6\\Project.toml`\n",
      " \u001b[90m [476501e8] \u001b[39mSLEEFPirates v0.6.23 `https://github.com/JuliaSIMD/SLEEFPirates.jl.git#master`\n",
      "\u001b[32m\u001b[1m      Status\u001b[22m\u001b[39m `D:\\.julia\\environments\\v1.6\\Project.toml`\n",
      " \u001b[90m [bdcacae8] \u001b[39mLoopVectorization v0.12.56 `https://github.com/JuliaSIMD/LoopVectorization.jl.git#master`\n"
     ]
    }
   ],
   "source": [
    "using Pkg\n",
    "Pkg.status(\"SLEEFPirates\")\n",
    "Pkg.status(\"LoopVectorization\")"
   ]
  },
  {
   "cell_type": "code",
   "execution_count": null,
   "id": "2b81277e-5c99-481d-84d5-e9dd590072a5",
   "metadata": {},
   "outputs": [],
   "source": []
  }
 ],
 "metadata": {
  "jupytext": {
   "formats": "ipynb,auto:hydrogen"
  },
  "kernelspec": {
   "display_name": "Julia 1.6.2",
   "language": "julia",
   "name": "julia-1.6"
  },
  "language_info": {
   "file_extension": ".jl",
   "mimetype": "application/julia",
   "name": "julia",
   "version": "1.6.2"
  }
 },
 "nbformat": 4,
 "nbformat_minor": 5
}
