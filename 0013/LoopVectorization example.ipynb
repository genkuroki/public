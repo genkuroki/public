{
 "cells": [
  {
   "cell_type": "markdown",
   "id": "2b8b8c13-85b7-4583-bca3-c1b7d2bfc806",
   "metadata": {},
   "source": [
    "https://discourse.julialang.org/t/fast-performance-of-array-comprehension-without-allocations/65352\n",
    "\n",
    "https://github.com/JuliaSIMD/LoopVectorization.jl/issues/307"
   ]
  },
  {
   "cell_type": "code",
   "execution_count": 1,
   "id": "e2507769-5d88-47d6-81c3-485f899055ff",
   "metadata": {},
   "outputs": [
    {
     "name": "stdout",
     "output_type": "stream",
     "text": [
      "Julia v1.6.2\n",
      "\u001b[32m\u001b[1m      Status\u001b[22m\u001b[39m `D:\\.julia\\environments\\v1.6\\Project.toml`\n",
      " \u001b[90m [476501e8] \u001b[39mSLEEFPirates v0.6.23 `https://github.com/JuliaSIMD/SLEEFPirates.jl.git#master`\n",
      "\u001b[32m\u001b[1m      Status\u001b[22m\u001b[39m `D:\\.julia\\environments\\v1.6\\Project.toml`\n",
      " \u001b[90m [bdcacae8] \u001b[39mLoopVectorization v0.12.56 `https://github.com/JuliaSIMD/LoopVectorization.jl.git#master`\n"
     ]
    }
   ],
   "source": [
    "println(\"Julia v$VERSION\")\n",
    "using Pkg\n",
    "Pkg.status(\"SLEEFPirates\")\n",
    "Pkg.status(\"LoopVectorization\")"
   ]
  },
  {
   "cell_type": "code",
   "execution_count": 2,
   "id": "36d90de8-05f0-4268-9c05-25f9bac532d4",
   "metadata": {},
   "outputs": [
    {
     "name": "stdout",
     "output_type": "stream",
     "text": [
      "a ≈ b ≈ c ≈ d = true\n",
      "LoopVectorization.@turbo:  39.716 ms (0 allocations: 0 bytes)\n",
      "comprehension:             647.147 ms (2 allocations: 432.00 MiB)\n",
      "simple broadcast:          600.589 ms (0 allocations: 0 bytes)\n",
      "assign_broadcast!:         44.035 ms (0 allocations: 0 bytes)\n"
     ]
    }
   ],
   "source": [
    "using BenchmarkTools\n",
    "using LoopVectorization\n",
    "\n",
    "function assign!(u, x, y, z)\n",
    "    @turbo for k in 1:length(z)\n",
    "        for j in 1:length(y)\n",
    "            for i in 1:length(x)\n",
    "                u[i, j, k] = sin(x[i]) + sin(y[j]) + sin(z[k])\n",
    "            end \n",
    "        end \n",
    "    end \n",
    "end\n",
    "\n",
    "function assign_broadcast!(uv, X, Y, Z, xx, yy, zz)\n",
    "    @. X = sin(xx)\n",
    "    @. Y = sin(yy)\n",
    "    @. Z = sin(zz)\n",
    "    @. uv = X + Y + Z\n",
    "end\n",
    "\n",
    "itot = 384 \n",
    "dx = 1. / itot\n",
    "x = dx*collect(0:itot-1); y = dx*collect(0:itot-1); z = dx*collect(0:itot-1)\n",
    "u = zeros(itot+8, itot+8, itot+8)\n",
    "\n",
    "uv = @view u[5:5+itot-1, 5:5+itot-1, 5:5+itot-1]\n",
    "xx, yy, zz = reshape(x, (:, 1, 1)), reshape(y, (1, :, 1)), reshape(z, (1, 1, :))\n",
    "X, Y, Z = similar(xx), similar(yy), similar(zz)\n",
    "\n",
    "assign!(uv, x, y, z)\n",
    "a = deepcopy(uv)\n",
    "uv[:, :, :] = [ sin(x) + sin(y) + sin(z) for x=x, y=y, z=z ]\n",
    "b = deepcopy(uv)\n",
    "@. uv = sin(xx) + sin(yy) + sin(zz)\n",
    "c = deepcopy(uv)\n",
    "assign_broadcast!(uv, X, Y, Z, xx, yy, zz)\n",
    "d = deepcopy(uv)\n",
    "@show a ≈ b ≈ c ≈ d\n",
    "\n",
    "print(\"LoopVectorization.@turbo:\")\n",
    "@btime assign!($uv, $x, $y, $z)\n",
    "print(\"comprehension:           \")\n",
    "@btime $uv[:, :, :] = [ sin(x) + sin(y) + sin(z) for x=$x, y=$y, z=$z ]\n",
    "print(\"simple broadcast:        \")\n",
    "@btime @. $uv = sin($xx) + sin($yy) + sin($zz)\n",
    "print(\"assign_broadcast!:       \")\n",
    "@btime assign_broadcast!($uv, $X, $Y, $Z, $xx, $yy, $zz);"
   ]
  },
  {
   "cell_type": "code",
   "execution_count": null,
   "id": "364d167b-7e55-4b88-b261-f70d8f1329bb",
   "metadata": {},
   "outputs": [],
   "source": []
  }
 ],
 "metadata": {
  "jupytext": {
   "encoding": "# -*- coding: utf-8 -*-",
   "formats": "ipynb,jl:hydrogen"
  },
  "kernelspec": {
   "display_name": "Julia 1.6.2",
   "language": "julia",
   "name": "julia-1.6"
  },
  "language_info": {
   "file_extension": ".jl",
   "mimetype": "application/julia",
   "name": "julia",
   "version": "1.6.2"
  }
 },
 "nbformat": 4,
 "nbformat_minor": 5
}
