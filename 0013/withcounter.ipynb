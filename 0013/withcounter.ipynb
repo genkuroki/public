{
 "cells": [
  {
   "cell_type": "code",
   "execution_count": 1,
   "id": "7fdfe667-6098-40cd-8e8e-f41fc41a88e7",
   "metadata": {},
   "outputs": [
    {
     "name": "stdout",
     "output_type": "stream",
     "text": [
      "f(1.0) = 0.8414709848078965\n"
     ]
    }
   ],
   "source": [
    "using Roots\n",
    "\n",
    "function withcounter(f, n = 0)\n",
    "    c = Ref(n)\n",
    "    F(x...; y...) = (c[] += 1; f(x...; y...))\n",
    "    getcounter() = c[]\n",
    "    setcounter!(n) = c[] = n\n",
    "    F, getcounter, setcounter!\n",
    "end\n",
    "\n",
    "f(x::Float64)::Float64 = @ccall sin(x::Float64)::Float64\n",
    "@show f(1.0);"
   ]
  },
  {
   "cell_type": "code",
   "execution_count": 2,
   "id": "0c5c8abe-9316-42d6-bdc1-11918cf4307e",
   "metadata": {},
   "outputs": [
    {
     "name": "stdout",
     "output_type": "stream",
     "text": [
      "find_zero(F, 0.9) = 1.0\n",
      "getcounter() = 11\n"
     ]
    }
   ],
   "source": [
    "F, getcounter, setcounter! = withcounter(x -> f(x) - 0.8414709848078965)\n",
    "@show find_zero(F, 0.9)\n",
    "@show getcounter();"
   ]
  },
  {
   "cell_type": "code",
   "execution_count": 3,
   "id": "53e446b0-27e7-4029-8fdf-1d80f277ec16",
   "metadata": {},
   "outputs": [
    {
     "name": "stdout",
     "output_type": "stream",
     "text": [
      "find_zeros(F, 0, 2π) = [1.0, 2.141592653589793]\n",
      "getcounter() = 1270\n"
     ]
    }
   ],
   "source": [
    "setcounter!(0)\n",
    "@show find_zeros(F, 0, 2π)\n",
    "@show getcounter();"
   ]
  },
  {
   "cell_type": "code",
   "execution_count": 4,
   "id": "669a2075-3c8d-4b67-902a-d290de54dce6",
   "metadata": {},
   "outputs": [
    {
     "name": "stdout",
     "output_type": "stream",
     "text": [
      "F (function of type var\"#F#2\"{var\"#F#1#3\"{var\"#6#7\", Base.RefValue{Int64}}})\n",
      "  #F#1: F#1 (function of type var\"#F#1#3\"{var\"#6#7\", Base.RefValue{Int64}})\n",
      "    f: #6 (function of type var\"#6#7\")\n",
      "    c: Base.RefValue{Int64}\n",
      "      x: Int64 1270\n"
     ]
    }
   ],
   "source": [
    "dump(F)"
   ]
  },
  {
   "cell_type": "code",
   "execution_count": null,
   "id": "1ac07c39-832c-451b-8aa8-ea79553650af",
   "metadata": {},
   "outputs": [],
   "source": []
  }
 ],
 "metadata": {
  "jupytext": {
   "formats": "ipynb,auto:hydrogen"
  },
  "kernelspec": {
   "display_name": "Julia 1.8.0-DEV",
   "language": "julia",
   "name": "julia-1.8"
  },
  "language_info": {
   "file_extension": ".jl",
   "mimetype": "application/julia",
   "name": "julia",
   "version": "1.8.0"
  }
 },
 "nbformat": 4,
 "nbformat_minor": 5
}
