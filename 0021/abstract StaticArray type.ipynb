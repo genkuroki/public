{
 "cells": [
  {
   "cell_type": "code",
   "execution_count": 1,
   "id": "0c344ace-10bf-4aeb-a782-e0f13ae8fd93",
   "metadata": {},
   "outputs": [],
   "source": [
    "using StaticArrays"
   ]
  },
  {
   "cell_type": "code",
   "execution_count": 2,
   "id": "1aa2b897-e9a7-4adc-8a1c-3c7f5027d826",
   "metadata": {},
   "outputs": [
    {
     "data": {
      "text/plain": [
       "5-element Vector{Float64}:\n",
       " 1.0\n",
       " 2.0\n",
       " 3.0\n",
       " 4.0\n",
       " 5.0"
      ]
     },
     "execution_count": 2,
     "metadata": {},
     "output_type": "execute_result"
    }
   ],
   "source": [
    "v = collect(1.0:5.0)"
   ]
  },
  {
   "cell_type": "code",
   "execution_count": 5,
   "id": "f3be2db4-ce6e-4dcc-95d6-1ed177747d45",
   "metadata": {},
   "outputs": [
    {
     "data": {
      "text/plain": [
       "5-element SizedVector{5, Float64, Vector{Float64}} with indices SOneTo(5):\n",
       " 1.0\n",
       " 2.0\n",
       " 3.0\n",
       " 4.0\n",
       " 5.0"
      ]
     },
     "execution_count": 5,
     "metadata": {},
     "output_type": "execute_result"
    }
   ],
   "source": [
    "w = v[SOneTo(5)]"
   ]
  },
  {
   "cell_type": "code",
   "execution_count": 6,
   "id": "f3dcc8ec-89a9-40c7-bba3-d0bbe9440e37",
   "metadata": {},
   "outputs": [
    {
     "data": {
      "text/plain": [
       "SizedVector{5, Float64, Vector{Float64}} (alias for SizedArray{Tuple{5}, Float64, 1, 1, Array{Float64, 1}})"
      ]
     },
     "execution_count": 6,
     "metadata": {},
     "output_type": "execute_result"
    }
   ],
   "source": [
    "typeof(w)"
   ]
  },
  {
   "cell_type": "code",
   "execution_count": 7,
   "id": "f282e1c2-e158-4da6-af8c-884a5243048d",
   "metadata": {},
   "outputs": [],
   "source": [
    "using MetaUtils"
   ]
  },
  {
   "cell_type": "code",
   "execution_count": 8,
   "id": "28dae618-c83c-44ef-8750-9a2e5d95f7ab",
   "metadata": {},
   "outputs": [
    {
     "name": "stdout",
     "output_type": "stream",
     "text": [
      "AbstractVector{T} where T\n",
      "├─ AbstractRange\n",
      "│  ├─ LinRange\n",
      "│  ├─ OrdinalRange\n",
      "│  │  ├─ AbstractUnitRange\n",
      "│  │  │  ├─ Base.IdentityUnitRange\n",
      "│  │  │  ├─ Base.OneTo\n",
      "│  │  │  ├─ Base.Slice\n",
      "│  │  │  ├─ SOneTo\n",
      "│  │  │  └─ UnitRange\n",
      "│  │  └─ StepRange\n",
      "│  └─ StepRangeLen\n",
      "├─ Base.LogicalIndex\n",
      "├─ Base.ReinterpretArray{T, 1, S, A, IsReshaped} where {T, S, A<:(AbstractArray{S, N} where N), IsReshaped}\n",
      "├─ Base.ReshapedArray{T, 1, P, MI} where {T, P<:AbstractArray, MI<:Tuple{Vararg{Base.MultiplicativeInverses.SignedMultiplicativeInverse{Int64}, N} where N}}\n",
      "├─ BitVector\n",
      "├─ CartesianIndices{1, R} where R<:Tuple{OrdinalRange{Int64, Int64}}\n",
      "├─ Core.Compiler.AbstractRange\n",
      "│  ├─ Core.Compiler.LinRange\n",
      "│  ├─ Core.Compiler.OrdinalRange\n",
      "│  │  ├─ Core.Compiler.AbstractUnitRange\n",
      "│  │  │  ├─ Core.Compiler.IdentityUnitRange\n",
      "│  │  │  ├─ Core.Compiler.OneTo\n",
      "│  │  │  ├─ Core.Compiler.Slice\n",
      "│  │  │  ├─ Core.Compiler.StmtRange\n",
      "│  │  │  └─ Core.Compiler.UnitRange\n",
      "│  │  └─ Core.Compiler.StepRange\n",
      "│  └─ Core.Compiler.StepRangeLen\n",
      "├─ Core.Compiler.BitArray{1}\n",
      "├─ Core.Compiler.LinearIndices{1, R} where R<:Tuple{Core.Compiler.AbstractUnitRange{Int64}}\n",
      "├─ DenseVector{T} where T\n",
      "│  ├─ Base.CodeUnits\n",
      "│  ├─ Base.Experimental.Const{T, 1} where T\n",
      "│  ├─ Random.UnsafeView\n",
      "│  ├─ SharedArrays.SharedVector{T} where T\n",
      "│  └─ Vector{T} where T\n",
      "├─ LinearIndices{1, R} where R<:Tuple{AbstractUnitRange{Int64}}\n",
      "├─ PermutedDimsArray{T, 1, perm, iperm, AA} where {T, perm, iperm, AA<:AbstractArray}\n",
      "├─ SparseArrays.AbstractSparseVector{Tv, Ti} where {Tv, Ti}\n",
      "│  └─ SparseArrays.SparseVector\n",
      "├─ StaticArrays.TrivialView{A, T, 1} where {A, T}\n",
      "├─ StaticArray{S, T, 1} where {S<:Tuple, T}\n",
      "│  ├─ FieldArray{N, T, 1} where {N<:Tuple, T}\n",
      "│  │  └─ FieldVector\n",
      "│  ├─ MArray{S, T, 1, L} where {S<:Tuple, T, L}\n",
      "│  ├─ SArray{S, T, 1, L} where {S<:Tuple, T, L}\n",
      "│  ├─ SizedArray{S, T, 1, M, TData} where {S<:Tuple, T, M, TData<:AbstractArray{T, M}}\n",
      "│  └─ StaticArrays.SUnitRange\n",
      "├─ SubArray{T, 1, P, I, L} where {T, P, I, L}\n",
      "├─ Test.GenericArray{T, 1} where T\n",
      "└─ ZMQ.Message\n"
     ]
    }
   ],
   "source": [
    "print_subtypes(AbstractVector)"
   ]
  },
  {
   "cell_type": "code",
   "execution_count": 9,
   "id": "c68be995-ba9f-46b7-b26a-275992574d55",
   "metadata": {},
   "outputs": [
    {
     "name": "stdout",
     "output_type": "stream",
     "text": [
      "StaticArray\n",
      "├─ FieldArray{N, T, D} where {N<:Tuple, T, D}\n",
      "│  ├─ FieldMatrix\n",
      "│  └─ FieldVector\n",
      "├─ MArray\n",
      "├─ SArray\n",
      "├─ SHermitianCompact\n",
      "├─ SizedArray\n",
      "└─ StaticArrays.SUnitRange\n"
     ]
    }
   ],
   "source": [
    "print_subtypes(StaticArray)"
   ]
  },
  {
   "cell_type": "code",
   "execution_count": 13,
   "id": "2dc173b1-5b01-4531-88fc-7a5eb424cfef",
   "metadata": {},
   "outputs": [
    {
     "name": "stdout",
     "output_type": "stream",
     "text": [
      "StaticVector{N, T} where {N, T}\n",
      "├─ FieldArray{Tuple{N}, T, 1} where {N, T}\n",
      "│  └─ FieldVector\n",
      "├─ MArray{Tuple{N}, T, 1, L} where {N, T, L}\n",
      "├─ SArray{Tuple{N}, T, 1, L} where {N, T, L}\n",
      "├─ SizedArray{Tuple{N}, T, 1, M, TData} where {N, T, M, TData<:AbstractArray{T, M}}\n",
      "└─ StaticArrays.SUnitRange\n"
     ]
    }
   ],
   "source": [
    "print_subtypes(StaticVector)"
   ]
  },
  {
   "cell_type": "code",
   "execution_count": 12,
   "id": "3de65110-ce0d-4221-89b3-c585e7aab684",
   "metadata": {},
   "outputs": [
    {
     "name": "stdout",
     "output_type": "stream",
     "text": [
      "search: \u001b[0m\u001b[1mS\u001b[22m\u001b[0m\u001b[1mt\u001b[22m\u001b[0m\u001b[1ma\u001b[22m\u001b[0m\u001b[1mt\u001b[22m\u001b[0m\u001b[1mi\u001b[22m\u001b[0m\u001b[1mc\u001b[22m\u001b[0m\u001b[1mA\u001b[22m\u001b[0m\u001b[1mr\u001b[22m\u001b[0m\u001b[1mr\u001b[22m\u001b[0m\u001b[1ma\u001b[22m\u001b[0m\u001b[1my\u001b[22m \u001b[0m\u001b[1mS\u001b[22m\u001b[0m\u001b[1mt\u001b[22m\u001b[0m\u001b[1ma\u001b[22m\u001b[0m\u001b[1mt\u001b[22m\u001b[0m\u001b[1mi\u001b[22m\u001b[0m\u001b[1mc\u001b[22m\u001b[0m\u001b[1mA\u001b[22m\u001b[0m\u001b[1mr\u001b[22m\u001b[0m\u001b[1mr\u001b[22m\u001b[0m\u001b[1ma\u001b[22m\u001b[0m\u001b[1my\u001b[22ms \u001b[0m\u001b[1mS\u001b[22m\u001b[0m\u001b[1mt\u001b[22m\u001b[0m\u001b[1ma\u001b[22m\u001b[0m\u001b[1mt\u001b[22m\u001b[0m\u001b[1mi\u001b[22m\u001b[0m\u001b[1mc\u001b[22mM\u001b[0m\u001b[1ma\u001b[22mt\u001b[0m\u001b[1mr\u001b[22mix \u001b[0m\u001b[1mS\u001b[22m\u001b[0m\u001b[1mt\u001b[22m\u001b[0m\u001b[1ma\u001b[22m\u001b[0m\u001b[1mt\u001b[22m\u001b[0m\u001b[1mi\u001b[22m\u001b[0m\u001b[1mc\u001b[22mSc\u001b[0m\u001b[1ma\u001b[22mla\u001b[0m\u001b[1mr\u001b[22m\n",
      "\n"
     ]
    },
    {
     "data": {
      "text/latex": [
       "\\begin{verbatim}\n",
       "abstract type StaticArray{S, T, N} <: AbstractArray{T, N} end\n",
       "StaticScalar{T}     = StaticArray{Tuple{}, T, 0}\n",
       "StaticVector{N,T}   = StaticArray{Tuple{N}, T, 1}\n",
       "StaticMatrix{N,M,T} = StaticArray{Tuple{N,M}, T, 2}\n",
       "\\end{verbatim}\n",
       "\\texttt{StaticArray}s are Julia arrays with fixed, known size.\n",
       "\n",
       "\\subsection{Dev docs}\n",
       "They must define the following methods:\n",
       "\n",
       "\\begin{itemize}\n",
       "\\item Constructors that accept a flat tuple of data.\n",
       "\n",
       "\n",
       "\\item \\texttt{getindex()} with an integer (linear indexing) (preferably \\texttt{@inline} with \\texttt{@boundscheck}).\n",
       "\n",
       "\n",
       "\\item \\texttt{Tuple()}, returning the data in a flat Tuple.\n",
       "\n",
       "\\end{itemize}\n",
       "It may be useful to implement:\n",
       "\n",
       "\\begin{itemize}\n",
       "\\item \\texttt{similar\\_type(::Type\\{MyStaticArray\\}, ::Type\\{NewElType\\}, ::Size\\{NewSize\\})}, returning a type (or type constructor) that accepts a flat tuple of data.\n",
       "\n",
       "\\end{itemize}\n",
       "For mutable containers you may also need to define the following:\n",
       "\n",
       "\\begin{itemize}\n",
       "\\item \\texttt{setindex!} for a single element (linear indexing).\n",
       "\n",
       "\n",
       "\\item \\texttt{similar(::Type\\{MyStaticArray\\}, ::Type\\{NewElType\\}, ::Size\\{NewSize\\})}.\n",
       "\n",
       "\n",
       "\\item In some cases, a zero-parameter constructor, \\texttt{MyStaticArray\\{...\\}()} for unintialized data is assumed to exist.\n",
       "\n",
       "\\end{itemize}\n",
       "(see also \\texttt{SVector}, \\texttt{SMatrix}, \\texttt{SArray}, \\texttt{MVector}, \\texttt{MMatrix}, \\texttt{MArray}, \\texttt{SizedArray}, \\texttt{FieldVector}, \\texttt{FieldMatrix} and \\texttt{FieldArray})\n",
       "\n"
      ],
      "text/markdown": [
       "```\n",
       "abstract type StaticArray{S, T, N} <: AbstractArray{T, N} end\n",
       "StaticScalar{T}     = StaticArray{Tuple{}, T, 0}\n",
       "StaticVector{N,T}   = StaticArray{Tuple{N}, T, 1}\n",
       "StaticMatrix{N,M,T} = StaticArray{Tuple{N,M}, T, 2}\n",
       "```\n",
       "\n",
       "`StaticArray`s are Julia arrays with fixed, known size.\n",
       "\n",
       "## Dev docs\n",
       "\n",
       "They must define the following methods:\n",
       "\n",
       "  * Constructors that accept a flat tuple of data.\n",
       "  * `getindex()` with an integer (linear indexing) (preferably `@inline` with `@boundscheck`).\n",
       "  * `Tuple()`, returning the data in a flat Tuple.\n",
       "\n",
       "It may be useful to implement:\n",
       "\n",
       "  * `similar_type(::Type{MyStaticArray}, ::Type{NewElType}, ::Size{NewSize})`, returning a type (or type constructor) that accepts a flat tuple of data.\n",
       "\n",
       "For mutable containers you may also need to define the following:\n",
       "\n",
       "  * `setindex!` for a single element (linear indexing).\n",
       "  * `similar(::Type{MyStaticArray}, ::Type{NewElType}, ::Size{NewSize})`.\n",
       "  * In some cases, a zero-parameter constructor, `MyStaticArray{...}()` for unintialized data is assumed to exist.\n",
       "\n",
       "(see also `SVector`, `SMatrix`, `SArray`, `MVector`, `MMatrix`, `MArray`, `SizedArray`, `FieldVector`, `FieldMatrix` and `FieldArray`)\n"
      ],
      "text/plain": [
       "\u001b[36m  abstract type StaticArray{S, T, N} <: AbstractArray{T, N} end\u001b[39m\n",
       "\u001b[36m  StaticScalar{T}     = StaticArray{Tuple{}, T, 0}\u001b[39m\n",
       "\u001b[36m  StaticVector{N,T}   = StaticArray{Tuple{N}, T, 1}\u001b[39m\n",
       "\u001b[36m  StaticMatrix{N,M,T} = StaticArray{Tuple{N,M}, T, 2}\u001b[39m\n",
       "\n",
       "  \u001b[36mStaticArray\u001b[39ms are Julia arrays with fixed, known size.\n",
       "\n",
       "\u001b[1m  Dev docs\u001b[22m\n",
       "\u001b[1m  ==========\u001b[22m\n",
       "\n",
       "  They must define the following methods:\n",
       "\n",
       "    •  Constructors that accept a flat tuple of data.\n",
       "\n",
       "    •  \u001b[36mgetindex()\u001b[39m with an integer (linear indexing) (preferably \u001b[36m@inline\u001b[39m\n",
       "       with \u001b[36m@boundscheck\u001b[39m).\n",
       "\n",
       "    •  \u001b[36mTuple()\u001b[39m, returning the data in a flat Tuple.\n",
       "\n",
       "  It may be useful to implement:\n",
       "\n",
       "    •  \u001b[36msimilar_type(::Type{MyStaticArray}, ::Type{NewElType},\n",
       "       ::Size{NewSize})\u001b[39m, returning a type (or type constructor) that\n",
       "       accepts a flat tuple of data.\n",
       "\n",
       "  For mutable containers you may also need to define the following:\n",
       "\n",
       "    •  \u001b[36msetindex!\u001b[39m for a single element (linear indexing).\n",
       "\n",
       "    •  \u001b[36msimilar(::Type{MyStaticArray}, ::Type{NewElType},\n",
       "       ::Size{NewSize})\u001b[39m.\n",
       "\n",
       "    •  In some cases, a zero-parameter constructor, \u001b[36mMyStaticArray{...}()\u001b[39m\n",
       "       for unintialized data is assumed to exist.\n",
       "\n",
       "  (see also \u001b[36mSVector\u001b[39m, \u001b[36mSMatrix\u001b[39m, \u001b[36mSArray\u001b[39m, \u001b[36mMVector\u001b[39m, \u001b[36mMMatrix\u001b[39m, \u001b[36mMArray\u001b[39m, \u001b[36mSizedArray\u001b[39m,\n",
       "  \u001b[36mFieldVector\u001b[39m, \u001b[36mFieldMatrix\u001b[39m and \u001b[36mFieldArray\u001b[39m)"
      ]
     },
     "execution_count": 12,
     "metadata": {},
     "output_type": "execute_result"
    }
   ],
   "source": [
    "?StaticArray"
   ]
  },
  {
   "cell_type": "code",
   "execution_count": 11,
   "id": "64280735-6d2b-40d9-b462-42639d41c938",
   "metadata": {},
   "outputs": [
    {
     "name": "stdout",
     "output_type": "stream",
     "text": [
      "search: \u001b[0m\u001b[1mF\u001b[22m\u001b[0m\u001b[1mi\u001b[22m\u001b[0m\u001b[1me\u001b[22m\u001b[0m\u001b[1ml\u001b[22m\u001b[0m\u001b[1md\u001b[22m\u001b[0m\u001b[1mA\u001b[22m\u001b[0m\u001b[1mr\u001b[22m\u001b[0m\u001b[1mr\u001b[22m\u001b[0m\u001b[1ma\u001b[22m\u001b[0m\u001b[1my\u001b[22m \u001b[0m\u001b[1mF\u001b[22m\u001b[0m\u001b[1mi\u001b[22m\u001b[0m\u001b[1me\u001b[22m\u001b[0m\u001b[1ml\u001b[22m\u001b[0m\u001b[1md\u001b[22mM\u001b[0m\u001b[1ma\u001b[22mt\u001b[0m\u001b[1mr\u001b[22mix\n",
      "\n"
     ]
    },
    {
     "data": {
      "text/latex": [
       "\\begin{verbatim}\n",
       "abstract FieldArray{N, T, D} <: StaticArray{N, T, D}\n",
       "\\end{verbatim}\n",
       "Inheriting from this type will make it easy to create your own rank-D tensor types. A \\texttt{FieldArray} will automatically define \\texttt{getindex} and \\texttt{setindex!} appropriately. An immutable \\texttt{FieldArray} will be as performant as an \\texttt{SArray} of similar length and element type, while a mutable \\texttt{FieldArray} will behave similarly to an \\texttt{MArray}.\n",
       "\n",
       "Note that you must define the fields of any \\texttt{FieldArray} subtype in column major order. If you want to use an alternative ordering you will need to pay special attention in providing your own definitions of \\texttt{getindex}, \\texttt{setindex!} and tuple conversion.\n",
       "\n",
       "If you define a \\texttt{FieldArray} which is parametric on the element type you should consider defining \\texttt{similar\\_type} as in the \\texttt{FieldVector} example.\n",
       "\n",
       "\\section{Example}\n",
       "\\begin{verbatim}\n",
       "struct Stiffness <: FieldArray{Tuple{2,2,2,2}, Float64, 4}\n",
       "    xxxx::Float64\n",
       "    yxxx::Float64\n",
       "    xyxx::Float64\n",
       "    yyxx::Float64\n",
       "    xxyx::Float64\n",
       "    yxyx::Float64\n",
       "    xyyx::Float64\n",
       "    yyyx::Float64\n",
       "    xxxy::Float64\n",
       "    yxxy::Float64\n",
       "    xyxy::Float64\n",
       "    yyxy::Float64\n",
       "    xxyy::Float64\n",
       "    yxyy::Float64\n",
       "    xyyy::Float64\n",
       "    yyyy::Float64\n",
       "end\n",
       "\\end{verbatim}\n"
      ],
      "text/markdown": [
       "```\n",
       "abstract FieldArray{N, T, D} <: StaticArray{N, T, D}\n",
       "```\n",
       "\n",
       "Inheriting from this type will make it easy to create your own rank-D tensor types. A `FieldArray` will automatically define `getindex` and `setindex!` appropriately. An immutable `FieldArray` will be as performant as an `SArray` of similar length and element type, while a mutable `FieldArray` will behave similarly to an `MArray`.\n",
       "\n",
       "Note that you must define the fields of any `FieldArray` subtype in column major order. If you want to use an alternative ordering you will need to pay special attention in providing your own definitions of `getindex`, `setindex!` and tuple conversion.\n",
       "\n",
       "If you define a `FieldArray` which is parametric on the element type you should consider defining `similar_type` as in the `FieldVector` example.\n",
       "\n",
       "# Example\n",
       "\n",
       "```\n",
       "struct Stiffness <: FieldArray{Tuple{2,2,2,2}, Float64, 4}\n",
       "    xxxx::Float64\n",
       "    yxxx::Float64\n",
       "    xyxx::Float64\n",
       "    yyxx::Float64\n",
       "    xxyx::Float64\n",
       "    yxyx::Float64\n",
       "    xyyx::Float64\n",
       "    yyyx::Float64\n",
       "    xxxy::Float64\n",
       "    yxxy::Float64\n",
       "    xyxy::Float64\n",
       "    yyxy::Float64\n",
       "    xxyy::Float64\n",
       "    yxyy::Float64\n",
       "    xyyy::Float64\n",
       "    yyyy::Float64\n",
       "end\n",
       "```\n"
      ],
      "text/plain": [
       "\u001b[36m  abstract FieldArray{N, T, D} <: StaticArray{N, T, D}\u001b[39m\n",
       "\n",
       "  Inheriting from this type will make it easy to create your own rank-D tensor\n",
       "  types. A \u001b[36mFieldArray\u001b[39m will automatically define \u001b[36mgetindex\u001b[39m and \u001b[36msetindex!\u001b[39m\n",
       "  appropriately. An immutable \u001b[36mFieldArray\u001b[39m will be as performant as an \u001b[36mSArray\u001b[39m of\n",
       "  similar length and element type, while a mutable \u001b[36mFieldArray\u001b[39m will behave\n",
       "  similarly to an \u001b[36mMArray\u001b[39m.\n",
       "\n",
       "  Note that you must define the fields of any \u001b[36mFieldArray\u001b[39m subtype in column\n",
       "  major order. If you want to use an alternative ordering you will need to pay\n",
       "  special attention in providing your own definitions of \u001b[36mgetindex\u001b[39m, \u001b[36msetindex!\u001b[39m\n",
       "  and tuple conversion.\n",
       "\n",
       "  If you define a \u001b[36mFieldArray\u001b[39m which is parametric on the element type you\n",
       "  should consider defining \u001b[36msimilar_type\u001b[39m as in the \u001b[36mFieldVector\u001b[39m example.\n",
       "\n",
       "\u001b[1m  Example\u001b[22m\n",
       "\u001b[1m  ≡≡≡≡≡≡≡≡≡\u001b[22m\n",
       "\n",
       "\u001b[36m  struct Stiffness <: FieldArray{Tuple{2,2,2,2}, Float64, 4}\u001b[39m\n",
       "\u001b[36m      xxxx::Float64\u001b[39m\n",
       "\u001b[36m      yxxx::Float64\u001b[39m\n",
       "\u001b[36m      xyxx::Float64\u001b[39m\n",
       "\u001b[36m      yyxx::Float64\u001b[39m\n",
       "\u001b[36m      xxyx::Float64\u001b[39m\n",
       "\u001b[36m      yxyx::Float64\u001b[39m\n",
       "\u001b[36m      xyyx::Float64\u001b[39m\n",
       "\u001b[36m      yyyx::Float64\u001b[39m\n",
       "\u001b[36m      xxxy::Float64\u001b[39m\n",
       "\u001b[36m      yxxy::Float64\u001b[39m\n",
       "\u001b[36m      xyxy::Float64\u001b[39m\n",
       "\u001b[36m      yyxy::Float64\u001b[39m\n",
       "\u001b[36m      xxyy::Float64\u001b[39m\n",
       "\u001b[36m      yxyy::Float64\u001b[39m\n",
       "\u001b[36m      xyyy::Float64\u001b[39m\n",
       "\u001b[36m      yyyy::Float64\u001b[39m\n",
       "\u001b[36m  end\u001b[39m"
      ]
     },
     "execution_count": 11,
     "metadata": {},
     "output_type": "execute_result"
    }
   ],
   "source": [
    "?FieldArray"
   ]
  },
  {
   "cell_type": "code",
   "execution_count": 14,
   "id": "57006d07-d3be-40cf-87be-ec94dd58fa0c",
   "metadata": {},
   "outputs": [
    {
     "name": "stdout",
     "output_type": "stream",
     "text": [
      "search: \u001b[0m\u001b[1mS\u001b[22m\u001b[0m\u001b[1mO\u001b[22m\u001b[0m\u001b[1mn\u001b[22m\u001b[0m\u001b[1me\u001b[22m\u001b[0m\u001b[1mT\u001b[22m\u001b[0m\u001b[1mo\u001b[22m un\u001b[0m\u001b[1ms\u001b[22mafe_p\u001b[0m\u001b[1mo\u001b[22mi\u001b[0m\u001b[1mn\u001b[22mt\u001b[0m\u001b[1me\u001b[22mr_\u001b[0m\u001b[1mt\u001b[22m\u001b[0m\u001b[1mo\u001b[22m_objref i\u001b[0m\u001b[1ms\u001b[22mc\u001b[0m\u001b[1mo\u001b[22m\u001b[0m\u001b[1mn\u001b[22mcr\u001b[0m\u001b[1me\u001b[22m\u001b[0m\u001b[1mt\u001b[22metype\n",
      "\n"
     ]
    },
    {
     "data": {
      "text/latex": [
       "\\begin{verbatim}\n",
       "SOneTo(n)\n",
       "\\end{verbatim}\n",
       "Return a statically-sized \\texttt{AbstractUnitRange} starting at \\texttt{1}, functioning as the \\texttt{axes} of a \\texttt{StaticArray}.\n",
       "\n"
      ],
      "text/markdown": [
       "```\n",
       "SOneTo(n)\n",
       "```\n",
       "\n",
       "Return a statically-sized `AbstractUnitRange` starting at `1`, functioning as the `axes` of a `StaticArray`.\n"
      ],
      "text/plain": [
       "\u001b[36m  SOneTo(n)\u001b[39m\n",
       "\n",
       "  Return a statically-sized \u001b[36mAbstractUnitRange\u001b[39m starting at \u001b[36m1\u001b[39m, functioning as\n",
       "  the \u001b[36maxes\u001b[39m of a \u001b[36mStaticArray\u001b[39m."
      ]
     },
     "execution_count": 14,
     "metadata": {},
     "output_type": "execute_result"
    }
   ],
   "source": [
    "?SOneTo"
   ]
  },
  {
   "cell_type": "code",
   "execution_count": 15,
   "id": "fca00965-4e74-478e-8ccd-b3f3a9f7281b",
   "metadata": {},
   "outputs": [
    {
     "name": "stdout",
     "output_type": "stream",
     "text": [
      "SizedVector{5, Float64, Vector{Float64}}\n",
      "  data: Array{Float64}((5,)) [1.0, 2.0, 3.0, 4.0, 5.0]\n"
     ]
    }
   ],
   "source": [
    "dump(w)"
   ]
  },
  {
   "cell_type": "code",
   "execution_count": 16,
   "id": "08bdef26-33cb-48ca-ba9b-48f81b75253a",
   "metadata": {},
   "outputs": [
    {
     "data": {
      "text/plain": [
       "5-element SVector{5, Float64} with indices SOneTo(5):\n",
       " 1.0\n",
       " 2.0\n",
       " 3.0\n",
       " 4.0\n",
       " 5.0"
      ]
     },
     "execution_count": 16,
     "metadata": {},
     "output_type": "execute_result"
    }
   ],
   "source": [
    "s = SVector(v...)"
   ]
  },
  {
   "cell_type": "code",
   "execution_count": 17,
   "id": "795e41c3-1cce-497b-9151-cfd71e9e16b6",
   "metadata": {},
   "outputs": [
    {
     "name": "stdout",
     "output_type": "stream",
     "text": [
      "SVector{5, Float64}\n",
      "  data: NTuple{5, Float64}\n",
      "    1: Float64 1.0\n",
      "    2: Float64 2.0\n",
      "    3: Float64 3.0\n",
      "    4: Float64 4.0\n",
      "    5: Float64 5.0\n"
     ]
    }
   ],
   "source": [
    "dump(s)"
   ]
  },
  {
   "cell_type": "code",
   "execution_count": 18,
   "id": "3deae9ac-4cfb-435e-8ba6-5ab28f0c6788",
   "metadata": {},
   "outputs": [
    {
     "data": {
      "text/plain": [
       "5-element MVector{5, Float64} with indices SOneTo(5):\n",
       " 1.0\n",
       " 2.0\n",
       " 3.0\n",
       " 4.0\n",
       " 5.0"
      ]
     },
     "execution_count": 18,
     "metadata": {},
     "output_type": "execute_result"
    }
   ],
   "source": [
    "m = MVector(v...)"
   ]
  },
  {
   "cell_type": "code",
   "execution_count": 19,
   "id": "69874a23-271b-457f-8d36-37b6e9ac50e5",
   "metadata": {},
   "outputs": [
    {
     "name": "stdout",
     "output_type": "stream",
     "text": [
      "MVector{5, Float64}\n",
      "  data: NTuple{5, Float64}\n",
      "    1: Float64 1.0\n",
      "    2: Float64 2.0\n",
      "    3: Float64 3.0\n",
      "    4: Float64 4.0\n",
      "    5: Float64 5.0\n"
     ]
    }
   ],
   "source": [
    "dump(m)"
   ]
  },
  {
   "cell_type": "code",
   "execution_count": 20,
   "id": "d25ee6a5-5913-4c12-a044-5a814536ef29",
   "metadata": {},
   "outputs": [
    {
     "name": "stdout",
     "output_type": "stream",
     "text": [
      "search: \u001b[0m\u001b[1mM\u001b[22m\u001b[0m\u001b[1mV\u001b[22m\u001b[0m\u001b[1me\u001b[22m\u001b[0m\u001b[1mc\u001b[22m\u001b[0m\u001b[1mt\u001b[22m\u001b[0m\u001b[1mo\u001b[22m\u001b[0m\u001b[1mr\u001b[22m @\u001b[0m\u001b[1mM\u001b[22m\u001b[0m\u001b[1mV\u001b[22m\u001b[0m\u001b[1me\u001b[22m\u001b[0m\u001b[1mc\u001b[22m\u001b[0m\u001b[1mt\u001b[22m\u001b[0m\u001b[1mo\u001b[22m\u001b[0m\u001b[1mr\u001b[22m\n",
      "\n"
     ]
    },
    {
     "data": {
      "text/latex": [
       "\\begin{verbatim}\n",
       "MVector{S,T}(undef)\n",
       "MVector{S,T}(x::NTuple{S, T})\n",
       "MVector{S,T}(x1, x2, x3, ...)\n",
       "\\end{verbatim}\n",
       "Construct a statically-sized, mutable vector \\texttt{MVector}. Data may optionally be provided upon construction, and can be mutated later. Constructors may drop the \\texttt{T} and \\texttt{S} parameters if they are inferrable from the input (e.g. \\texttt{MVector(1,2,3)} constructs an \\texttt{MVector\\{3, Int\\}}).\n",
       "\n",
       "\\begin{verbatim}\n",
       "MVector{S}(vec::Vector)\n",
       "\\end{verbatim}\n",
       "Construct a statically-sized, mutable vector of length \\texttt{S} using the data from \\texttt{vec}. The parameter \\texttt{S} is mandatory since the length of \\texttt{vec} is unknown to the compiler (the element type may optionally also be specified).\n",
       "\n"
      ],
      "text/markdown": [
       "```\n",
       "MVector{S,T}(undef)\n",
       "MVector{S,T}(x::NTuple{S, T})\n",
       "MVector{S,T}(x1, x2, x3, ...)\n",
       "```\n",
       "\n",
       "Construct a statically-sized, mutable vector `MVector`. Data may optionally be provided upon construction, and can be mutated later. Constructors may drop the `T` and `S` parameters if they are inferrable from the input (e.g. `MVector(1,2,3)` constructs an `MVector{3, Int}`).\n",
       "\n",
       "```\n",
       "MVector{S}(vec::Vector)\n",
       "```\n",
       "\n",
       "Construct a statically-sized, mutable vector of length `S` using the data from `vec`. The parameter `S` is mandatory since the length of `vec` is unknown to the compiler (the element type may optionally also be specified).\n"
      ],
      "text/plain": [
       "\u001b[36m  MVector{S,T}(undef)\u001b[39m\n",
       "\u001b[36m  MVector{S,T}(x::NTuple{S, T})\u001b[39m\n",
       "\u001b[36m  MVector{S,T}(x1, x2, x3, ...)\u001b[39m\n",
       "\n",
       "  Construct a statically-sized, mutable vector \u001b[36mMVector\u001b[39m. Data may optionally be\n",
       "  provided upon construction, and can be mutated later. Constructors may drop\n",
       "  the \u001b[36mT\u001b[39m and \u001b[36mS\u001b[39m parameters if they are inferrable from the input (e.g.\n",
       "  \u001b[36mMVector(1,2,3)\u001b[39m constructs an \u001b[36mMVector{3, Int}\u001b[39m).\n",
       "\n",
       "\u001b[36m  MVector{S}(vec::Vector)\u001b[39m\n",
       "\n",
       "  Construct a statically-sized, mutable vector of length \u001b[36mS\u001b[39m using the data from\n",
       "  \u001b[36mvec\u001b[39m. The parameter \u001b[36mS\u001b[39m is mandatory since the length of \u001b[36mvec\u001b[39m is unknown to the\n",
       "  compiler (the element type may optionally also be specified)."
      ]
     },
     "execution_count": 20,
     "metadata": {},
     "output_type": "execute_result"
    }
   ],
   "source": [
    "?MVector"
   ]
  },
  {
   "cell_type": "code",
   "execution_count": 25,
   "id": "6eff5cc3-f8bd-45dd-90ad-0f93a83956a4",
   "metadata": {},
   "outputs": [
    {
     "data": {
      "text/plain": [
       "true"
      ]
     },
     "execution_count": 25,
     "metadata": {},
     "output_type": "execute_result"
    }
   ],
   "source": [
    "411557987 / 131002976 == 1π"
   ]
  },
  {
   "cell_type": "code",
   "execution_count": 23,
   "id": "30043c32-38a1-4bf5-9634-84b316ea3a2b",
   "metadata": {},
   "outputs": [
    {
     "data": {
      "text/plain": [
       "411557987//65501488"
      ]
     },
     "execution_count": 23,
     "metadata": {},
     "output_type": "execute_result"
    }
   ],
   "source": [
    "r = setprecision(56) do; rationalize(2big(π)) end"
   ]
  },
  {
   "cell_type": "code",
   "execution_count": 26,
   "id": "7d3ba55e-3668-433a-9d8a-de30e4f2ff51",
   "metadata": {},
   "outputs": [
    {
     "data": {
      "text/plain": [
       "true"
      ]
     },
     "execution_count": 26,
     "metadata": {},
     "output_type": "execute_result"
    }
   ],
   "source": [
    "411557987 / 65501488 == 2π"
   ]
  },
  {
   "cell_type": "code",
   "execution_count": 28,
   "id": "4b9e5394-4b22-4649-a941-f5fba9433716",
   "metadata": {},
   "outputs": [],
   "source": [
    "Base.@irrational tau 6.28318530717958647693 2big(π)"
   ]
  },
  {
   "cell_type": "code",
   "execution_count": 38,
   "id": "30415749-4f55-4e76-be89-12c7512c9217",
   "metadata": {},
   "outputs": [
    {
     "data": {
      "text/plain": [
       "true"
      ]
     },
     "execution_count": 38,
     "metadata": {},
     "output_type": "execute_result"
    }
   ],
   "source": [
    "411557987 / 65501488 == 1tau"
   ]
  },
  {
   "cell_type": "code",
   "execution_count": 34,
   "id": "c3fb62dd-9b8c-46a6-a126-1a6372619f73",
   "metadata": {},
   "outputs": [
    {
     "data": {
      "text/plain": [
       "331414130//52746197"
      ]
     },
     "execution_count": 34,
     "metadata": {},
     "output_type": "execute_result"
    }
   ],
   "source": [
    "setprecision(56) do; rationalize(float(tau)) end"
   ]
  },
  {
   "cell_type": "code",
   "execution_count": 35,
   "id": "e701e075-46bf-4c26-b615-19212b2a0b24",
   "metadata": {},
   "outputs": [
    {
     "data": {
      "text/plain": [
       "6.283185307179587"
      ]
     },
     "execution_count": 35,
     "metadata": {},
     "output_type": "execute_result"
    }
   ],
   "source": [
    "331414130 / 52746197 == 1tau"
   ]
  },
  {
   "cell_type": "code",
   "execution_count": 39,
   "id": "096e8e23-d3cf-4ad5-9c76-977fbb91a2f6",
   "metadata": {},
   "outputs": [
    {
     "data": {
      "text/plain": [
       "411557987//65501488"
      ]
     },
     "execution_count": 39,
     "metadata": {},
     "output_type": "execute_result"
    }
   ],
   "source": [
    "const τ = 411557987 // 65501488"
   ]
  },
  {
   "cell_type": "markdown",
   "id": "414a4e11-f6e1-4b35-b29a-8d2349ce53db",
   "metadata": {},
   "source": [
    "We can get the following:\n",
    "\n",
    "```julia\n",
    "julia> 411557987 / 65501488 == 2π\n",
    "true\n",
    "```\n",
    "\n",
    "It seems that 2π is a simple rational number. So it should be enough to define `τ` as follows:\n",
    "\n",
    "```julia\n",
    "julia> const τ = 411557987 // 65501488\n",
    "```\n",
    "\n",
    "Just kidding.  How to make it:\n",
    "```julia\n",
    "julia> r = setprecision(56) do; rationalize(2big(π)) end\n",
    "411557987 // 65501488\n",
    "```"
   ]
  },
  {
   "cell_type": "code",
   "execution_count": null,
   "id": "0b671319-876e-4c75-a0e7-53ff0f532b0b",
   "metadata": {},
   "outputs": [],
   "source": []
  }
 ],
 "metadata": {
  "kernelspec": {
   "display_name": "Julia 1.6.2",
   "language": "julia",
   "name": "julia-1.6"
  },
  "language_info": {
   "file_extension": ".jl",
   "mimetype": "application/julia",
   "name": "julia",
   "version": "1.6.2"
  }
 },
 "nbformat": 4,
 "nbformat_minor": 5
}
