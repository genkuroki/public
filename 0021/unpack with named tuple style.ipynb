{
 "cells": [
  {
   "cell_type": "code",
   "execution_count": 1,
   "id": "3b42381a-5845-4e3d-afb0-e5987ad93490",
   "metadata": {},
   "outputs": [
    {
     "data": {
      "text/plain": [
       "f (generic function with 1 method)"
      ]
     },
     "execution_count": 1,
     "metadata": {},
     "output_type": "execute_result"
    }
   ],
   "source": [
    "function f(x)\n",
    "    (; a, b, c, d) = x\n",
    "    @show a b c d\n",
    "end"
   ]
  },
  {
   "cell_type": "code",
   "execution_count": 2,
   "id": "57639f6f-c9ce-41c8-bbdc-cb073b3a1c89",
   "metadata": {},
   "outputs": [
    {
     "name": "stdout",
     "output_type": "stream",
     "text": [
      "nt = (a = 1, b = 2.0, c = \"three\", d = 0x04)\n"
     ]
    }
   ],
   "source": [
    "a = 1\n",
    "b = 2.0\n",
    "c = \"three\"\n",
    "d = 0x04\n",
    "\n",
    "nt = (; a, b, c, d)\n",
    "@show nt;"
   ]
  },
  {
   "cell_type": "code",
   "execution_count": 3,
   "id": "bfabe42e-85e3-4297-8177-8c2fc699d1b9",
   "metadata": {},
   "outputs": [
    {
     "name": "stdout",
     "output_type": "stream",
     "text": [
      "a = 1\n",
      "b = 2.0\n",
      "c = \"three\"\n",
      "d = 0x04\n"
     ]
    }
   ],
   "source": [
    "f(nt);"
   ]
  },
  {
   "cell_type": "code",
   "execution_count": 4,
   "id": "f1710043-f228-42a6-ac10-be07a405509f",
   "metadata": {},
   "outputs": [
    {
     "data": {
      "text/plain": [
       "f (generic function with 1 method)"
      ]
     },
     "execution_count": 4,
     "metadata": {},
     "output_type": "execute_result"
    }
   ],
   "source": [
    "function f(x)\n",
    "    (; a, b, c, d) = x\n",
    "    @show a b c d\n",
    "end"
   ]
  },
  {
   "cell_type": "code",
   "execution_count": 5,
   "id": "3e0edbcc-08eb-4d37-bfdf-ff0d8b5854c0",
   "metadata": {},
   "outputs": [
    {
     "name": "stdout",
     "output_type": "stream",
     "text": [
      "foo = Foo{Int64, Float64, String, UInt8}(1, 2.0, \"three\", 0x04)\n"
     ]
    }
   ],
   "source": [
    "Base.@kwdef struct Foo{A, B, C, D}\n",
    "    a::A = 1\n",
    "    b::B = 2.0\n",
    "    c::C = \"three\"\n",
    "    d::D = 0x04\n",
    "end\n",
    "\n",
    "foo = Foo()\n",
    "@show foo;"
   ]
  },
  {
   "cell_type": "code",
   "execution_count": 6,
   "id": "3ce38b37-58df-4fc8-bf81-0d3898761687",
   "metadata": {},
   "outputs": [
    {
     "name": "stdout",
     "output_type": "stream",
     "text": [
      "a = 1\n",
      "b = 2.0\n",
      "c = \"three\"\n",
      "d = 0x04\n"
     ]
    }
   ],
   "source": [
    "f(foo);"
   ]
  },
  {
   "cell_type": "code",
   "execution_count": 7,
   "id": "f66ca582-e461-4995-b57f-71a653a103e3",
   "metadata": {},
   "outputs": [
    {
     "data": {
      "text/plain": [
       "f (generic function with 1 method)"
      ]
     },
     "execution_count": 7,
     "metadata": {},
     "output_type": "execute_result"
    }
   ],
   "source": [
    "function f(x)\n",
    "    (; a, b, c, d) = x\n",
    "    @show a b c d\n",
    "end"
   ]
  },
  {
   "cell_type": "code",
   "execution_count": 8,
   "id": "1f773b2f-9249-449f-b50d-82c37284fd23",
   "metadata": {},
   "outputs": [
    {
     "data": {
      "text/html": [
       "<div class=\"data-frame\"><p>5 rows × 4 columns</p><table class=\"data-frame\"><thead><tr><th></th><th>a</th><th>b</th><th>c</th><th>d</th></tr><tr><th></th><th title=\"Int64\">Int64</th><th title=\"Float64\">Float64</th><th title=\"String\">String</th><th title=\"UInt8\">UInt8</th></tr></thead><tbody><tr><th>1</th><td>1</td><td>1.0</td><td>one</td><td>1</td></tr><tr><th>2</th><td>2</td><td>2.0</td><td>two</td><td>2</td></tr><tr><th>3</th><td>3</td><td>3.0</td><td>three</td><td>3</td></tr><tr><th>4</th><td>4</td><td>4.0</td><td>four</td><td>4</td></tr><tr><th>5</th><td>5</td><td>5.0</td><td>five</td><td>5</td></tr></tbody></table></div>"
      ],
      "text/latex": [
       "\\begin{tabular}{r|cccc}\n",
       "\t& a & b & c & d\\\\\n",
       "\t\\hline\n",
       "\t& Int64 & Float64 & String & UInt8\\\\\n",
       "\t\\hline\n",
       "\t1 & 1 & 1.0 & one & 1 \\\\\n",
       "\t2 & 2 & 2.0 & two & 2 \\\\\n",
       "\t3 & 3 & 3.0 & three & 3 \\\\\n",
       "\t4 & 4 & 4.0 & four & 4 \\\\\n",
       "\t5 & 5 & 5.0 & five & 5 \\\\\n",
       "\\end{tabular}\n"
      ],
      "text/plain": [
       "\u001b[1m5×4 DataFrame\u001b[0m\n",
       "\u001b[1m Row \u001b[0m│\u001b[1m a     \u001b[0m\u001b[1m b       \u001b[0m\u001b[1m c      \u001b[0m\u001b[1m d     \u001b[0m\n",
       "\u001b[1m     \u001b[0m│\u001b[90m Int64 \u001b[0m\u001b[90m Float64 \u001b[0m\u001b[90m String \u001b[0m\u001b[90m UInt8 \u001b[0m\n",
       "─────┼───────────────────────────────\n",
       "   1 │     1      1.0  one         1\n",
       "   2 │     2      2.0  two         2\n",
       "   3 │     3      3.0  three       3\n",
       "   4 │     4      4.0  four        4\n",
       "   5 │     5      5.0  five        5"
      ]
     },
     "execution_count": 8,
     "metadata": {},
     "output_type": "execute_result"
    }
   ],
   "source": [
    "using DataFrames\n",
    "\n",
    "a = collect(1:5)\n",
    "b = collect(1.0:5.0)\n",
    "c = [\"one\", \"two\", \"three\", \"four\", \"five\"]\n",
    "d = collect(0x01:0x05)\n",
    "\n",
    "df = DataFrame(; a, b, c, d)"
   ]
  },
  {
   "cell_type": "code",
   "execution_count": 9,
   "id": "5e424f86-726b-4d48-a0de-b47d2134e541",
   "metadata": {},
   "outputs": [
    {
     "name": "stdout",
     "output_type": "stream",
     "text": [
      "a = [1, 2, 3, 4, 5]\n",
      "b = [1.0, 2.0, 3.0, 4.0, 5.0]\n",
      "c = [\"one\", \"two\", \"three\", \"four\", \"five\"]\n",
      "d = UInt8[0x01, 0x02, 0x03, 0x04, 0x05]\n"
     ]
    }
   ],
   "source": [
    "f(df);"
   ]
  },
  {
   "cell_type": "code",
   "execution_count": 10,
   "id": "fea27308-0812-46ba-9e7e-bc5bb4da7191",
   "metadata": {},
   "outputs": [
    {
     "name": "stdout",
     "output_type": "stream",
     "text": [
      "nt = (a = 1, b = 2.0, c = \"three\", d = 0x04)\n"
     ]
    }
   ],
   "source": [
    "@show nt;"
   ]
  },
  {
   "cell_type": "code",
   "execution_count": 11,
   "id": "aacfc683-ab79-4270-9fef-83626eb05232",
   "metadata": {},
   "outputs": [
    {
     "data": {
      "text/plain": [
       "NamedTuple{(:a, :b, :c, :d), Tuple{Int64, Float64, String, UInt8}}"
      ]
     },
     "execution_count": 11,
     "metadata": {},
     "output_type": "execute_result"
    }
   ],
   "source": [
    "typeof(nt)"
   ]
  },
  {
   "cell_type": "code",
   "execution_count": 12,
   "id": "1b2f5ab2-4373-4600-9b65-25bdfbd26ae3",
   "metadata": {},
   "outputs": [
    {
     "name": "stdout",
     "output_type": "stream",
     "text": [
      "NamedTuple{(:a, :b, :c, :d), Tuple{Int64, Float64, String, UInt8}}\n",
      "  a: Int64 1\n",
      "  b: Float64 2.0\n",
      "  c: String \"three\"\n",
      "  d: UInt8 0x04\n"
     ]
    }
   ],
   "source": [
    "dump(nt)"
   ]
  },
  {
   "cell_type": "code",
   "execution_count": 13,
   "id": "4ecf8afe-bfed-4c99-9932-13719c87648e",
   "metadata": {},
   "outputs": [
    {
     "name": "stdout",
     "output_type": "stream",
     "text": [
      "foo = Foo{Int64, Float64, String, UInt8}(1, 2.0, \"three\", 0x04)\n"
     ]
    }
   ],
   "source": [
    "@show foo;"
   ]
  },
  {
   "cell_type": "code",
   "execution_count": 14,
   "id": "a0386724-f651-4288-b0f7-74f400c7e27a",
   "metadata": {},
   "outputs": [
    {
     "name": "stdout",
     "output_type": "stream",
     "text": [
      "Foo{Int64, Float64, String, UInt8}\n",
      "  a: Int64 1\n",
      "  b: Float64 2.0\n",
      "  c: String \"three\"\n",
      "  d: UInt8 0x04\n"
     ]
    }
   ],
   "source": [
    "dump(foo)"
   ]
  },
  {
   "cell_type": "code",
   "execution_count": 15,
   "id": "ab10d8de-9d9a-49b7-b1ac-fabc5a66200f",
   "metadata": {},
   "outputs": [
    {
     "data": {
      "text/plain": [
       "g (generic function with 2 methods)"
      ]
     },
     "execution_count": 15,
     "metadata": {},
     "output_type": "execute_result"
    }
   ],
   "source": [
    "g(x::NamedTuple{(:a, :b, :c, :d)}) = @show x\n",
    "g(x::NamedTuple{(:a, :b, :c)}) = @show x"
   ]
  },
  {
   "cell_type": "code",
   "execution_count": 16,
   "id": "0efffe00-66fa-4e9a-b15f-ab8e0e61327f",
   "metadata": {},
   "outputs": [
    {
     "name": "stdout",
     "output_type": "stream",
     "text": [
      "x = (a = 1, b = 2.0, c = \"three\", d = 0x04)\n"
     ]
    },
    {
     "data": {
      "text/plain": [
       "(a = 1, b = 2.0, c = \"three\", d = 0x04)"
      ]
     },
     "execution_count": 16,
     "metadata": {},
     "output_type": "execute_result"
    }
   ],
   "source": [
    "g(nt)"
   ]
  },
  {
   "cell_type": "code",
   "execution_count": 17,
   "id": "348a7273-51f1-4ca7-92d4-1dba50708017",
   "metadata": {},
   "outputs": [
    {
     "data": {
      "text/html": [
       "g(x::<b>NamedTuple{(:a, :b, :c, :d)}</b>) in Main at In[15]:1"
      ],
      "text/plain": [
       "g(x::NamedTuple{(:a, :b, :c, :d)}) in Main at In[15]:1"
      ]
     },
     "execution_count": 17,
     "metadata": {},
     "output_type": "execute_result"
    }
   ],
   "source": [
    "@which g(nt)"
   ]
  },
  {
   "cell_type": "code",
   "execution_count": 18,
   "id": "3bfbb4e8-c387-42e4-bb07-83fbd5f658ca",
   "metadata": {},
   "outputs": [
    {
     "data": {
      "text/plain": [
       "(a = 10, b = 20.0, c = \"thirty\")"
      ]
     },
     "execution_count": 18,
     "metadata": {},
     "output_type": "execute_result"
    }
   ],
   "source": [
    "nt2 = (; a = 10, b = 20.0, c = \"thirty\")"
   ]
  },
  {
   "cell_type": "code",
   "execution_count": 19,
   "id": "7d9f98ed-d73f-41e6-95ab-441a2c9b7762",
   "metadata": {},
   "outputs": [
    {
     "name": "stdout",
     "output_type": "stream",
     "text": [
      "x = (a = 10, b = 20.0, c = \"thirty\")\n"
     ]
    },
    {
     "data": {
      "text/plain": [
       "(a = 10, b = 20.0, c = \"thirty\")"
      ]
     },
     "execution_count": 19,
     "metadata": {},
     "output_type": "execute_result"
    }
   ],
   "source": [
    "g(nt2)"
   ]
  },
  {
   "cell_type": "code",
   "execution_count": 20,
   "id": "26d3934a-926b-4b47-844b-92dcca2fa96a",
   "metadata": {},
   "outputs": [
    {
     "data": {
      "text/html": [
       "g(x::<b>NamedTuple{(:a, :b, :c)}</b>) in Main at In[15]:2"
      ],
      "text/plain": [
       "g(x::NamedTuple{(:a, :b, :c)}) in Main at In[15]:2"
      ]
     },
     "execution_count": 20,
     "metadata": {},
     "output_type": "execute_result"
    }
   ],
   "source": [
    "@which g(nt2)"
   ]
  },
  {
   "cell_type": "code",
   "execution_count": null,
   "id": "c72e5e4c-6898-4c16-8ad3-f1a1b80203dc",
   "metadata": {},
   "outputs": [],
   "source": []
  }
 ],
 "metadata": {
  "jupytext": {
   "formats": "ipynb,jl:hydrogen"
  },
  "kernelspec": {
   "display_name": "Julia 1.7.0",
   "language": "julia",
   "name": "julia-1.7"
  },
  "language_info": {
   "file_extension": ".jl",
   "mimetype": "application/julia",
   "name": "julia",
   "version": "1.7.0"
  }
 },
 "nbformat": 4,
 "nbformat_minor": 5
}
