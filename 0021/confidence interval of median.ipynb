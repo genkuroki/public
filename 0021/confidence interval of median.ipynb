{
 "cells": [
  {
   "cell_type": "code",
   "execution_count": 1,
   "id": "54a36156-f48e-42cb-815c-1dceda13b807",
   "metadata": {},
   "outputs": [
    {
     "data": {
      "text/plain": [
       "ci_median (generic function with 4 methods)"
      ]
     },
     "execution_count": 1,
     "metadata": {},
     "output_type": "execute_result"
    }
   ],
   "source": [
    "using Random\n",
    "using Statistics\n",
    "using Distributions\n",
    "is_in(ci, x) = first(ci) ≤ x ≤ last(ci)\n",
    "\n",
    "function ci_median(X, Y = similar(X), α = 0.5, A = similar(Y, 10^4))\n",
    "    for i in eachindex(A)\n",
    "        sample!(X, Y)\n",
    "        A[i] = median!(Y)\n",
    "    end\n",
    "    quantile!(A, (α/2, 1-α/2))\n",
    "end"
   ]
  },
  {
   "cell_type": "code",
   "execution_count": 2,
   "id": "e578d496-0aed-4207-9589-21d79a8620c6",
   "metadata": {},
   "outputs": [
    {
     "data": {
      "text/plain": [
       "sim (generic function with 1 method)"
      ]
     },
     "execution_count": 2,
     "metadata": {},
     "output_type": "execute_result"
    }
   ],
   "source": [
    "function sim(; dist = Exponential(), a = median(dist), n = 10, α = 0.5, L = 10^4, M = 10^3)\n",
    "    c = 0\n",
    "    X = Vector{Float64}(undef, n)\n",
    "    Y = similar(X)\n",
    "    A = similar(Y, M)\n",
    "    for i in 1:L\n",
    "        rand!(dist, X)\n",
    "        ci = ci_median(X, Y, α, A)\n",
    "        c += is_in(ci, a)\n",
    "    end\n",
    "    c/L\n",
    "end"
   ]
  },
  {
   "cell_type": "code",
   "execution_count": 3,
   "id": "4790fd4e-c0d9-4b75-b0cd-987d7171061e",
   "metadata": {},
   "outputs": [
    {
     "name": "stdout",
     "output_type": "stream",
     "text": [
      "  2.872738 seconds (16 allocations: 43.656 KiB)\n"
     ]
    },
    {
     "data": {
      "text/plain": [
       "0.4953"
      ]
     },
     "execution_count": 3,
     "metadata": {},
     "output_type": "execute_result"
    }
   ],
   "source": [
    "@time sim()"
   ]
  },
  {
   "cell_type": "code",
   "execution_count": 4,
   "id": "020daa82-1864-4d3b-94fb-4f0add8e0fdc",
   "metadata": {},
   "outputs": [
    {
     "name": "stdout",
     "output_type": "stream",
     "text": [
      "  6.591007 seconds (3 allocations: 8.406 KiB)\n"
     ]
    },
    {
     "data": {
      "text/plain": [
       "0.4889"
      ]
     },
     "execution_count": 4,
     "metadata": {},
     "output_type": "execute_result"
    }
   ],
   "source": [
    "@time sim(n = 20)"
   ]
  },
  {
   "cell_type": "code",
   "execution_count": 5,
   "id": "e332e8cc-a461-427c-9f43-bc0f9f346084",
   "metadata": {},
   "outputs": [
    {
     "name": "stdout",
     "output_type": "stream",
     "text": [
      "  3.027164 seconds (3 allocations: 8.250 KiB)\n"
     ]
    },
    {
     "data": {
      "text/plain": [
       "0.505"
      ]
     },
     "execution_count": 5,
     "metadata": {},
     "output_type": "execute_result"
    }
   ],
   "source": [
    "@time sim(dist = Uniform())"
   ]
  },
  {
   "cell_type": "code",
   "execution_count": 6,
   "id": "0ae9599e-b717-4d9c-8879-15a1e302a4af",
   "metadata": {},
   "outputs": [
    {
     "name": "stdout",
     "output_type": "stream",
     "text": [
      "  2.885745 seconds (3 allocations: 8.250 KiB)\n"
     ]
    },
    {
     "data": {
      "text/plain": [
       "0.497"
      ]
     },
     "execution_count": 6,
     "metadata": {},
     "output_type": "execute_result"
    }
   ],
   "source": [
    "@time sim(dist = Normal())"
   ]
  },
  {
   "cell_type": "code",
   "execution_count": 7,
   "id": "af73b367-ba1e-419f-9255-d99ec905faba",
   "metadata": {},
   "outputs": [
    {
     "name": "stdout",
     "output_type": "stream",
     "text": [
      "  2.894998 seconds (35.70 k allocations: 2.058 MiB, 0.64% compilation time)\n"
     ]
    },
    {
     "data": {
      "text/plain": [
       "0.4938"
      ]
     },
     "execution_count": 7,
     "metadata": {},
     "output_type": "execute_result"
    }
   ],
   "source": [
    "@time sim(dist = Beta(0.1, 0.1), a = 0.5)"
   ]
  },
  {
   "cell_type": "code",
   "execution_count": 8,
   "id": "1d234592-2248-4fc9-8afe-a74732a70e29",
   "metadata": {},
   "outputs": [
    {
     "data": {
      "text/plain": [
       "sim_bad (generic function with 1 method)"
      ]
     },
     "execution_count": 8,
     "metadata": {},
     "output_type": "execute_result"
    }
   ],
   "source": [
    "function sim_bad(; dist = Exponential(), a = median(dist), n = 10, α = 0.5, L = 10^4)\n",
    "    c = 0\n",
    "    X = Vector{Float64}(undef, n)\n",
    "    for i in 1:L\n",
    "        rand!(dist, X)\n",
    "        ci = quantile(X, (α/2, 1-α/2))\n",
    "        c += is_in(ci, a)\n",
    "    end\n",
    "    c/L\n",
    "end"
   ]
  },
  {
   "cell_type": "code",
   "execution_count": 9,
   "id": "c2a897af-d966-4744-9701-a94af0d816d7",
   "metadata": {},
   "outputs": [
    {
     "name": "stdout",
     "output_type": "stream",
     "text": [
      "  0.002594 seconds (10.00 k allocations: 1.526 MiB)\n"
     ]
    },
    {
     "data": {
      "text/plain": [
       "0.8653"
      ]
     },
     "execution_count": 9,
     "metadata": {},
     "output_type": "execute_result"
    }
   ],
   "source": [
    "@time sim_bad()"
   ]
  },
  {
   "cell_type": "code",
   "execution_count": 10,
   "id": "6a82cb26-b44f-4ced-ae83-7d13f4937d13",
   "metadata": {},
   "outputs": [
    {
     "name": "stdout",
     "output_type": "stream",
     "text": [
      "  0.007316 seconds (10.00 k allocations: 2.289 MiB)\n"
     ]
    },
    {
     "data": {
      "text/plain": [
       "0.9742"
      ]
     },
     "execution_count": 10,
     "metadata": {},
     "output_type": "execute_result"
    }
   ],
   "source": [
    "@time sim_bad(n = 20)"
   ]
  },
  {
   "cell_type": "code",
   "execution_count": 11,
   "id": "d82b4752-cafa-4dce-9982-c8d990d4cd6e",
   "metadata": {},
   "outputs": [
    {
     "name": "stdout",
     "output_type": "stream",
     "text": [
      "  0.002878 seconds (10.00 k allocations: 1.526 MiB)\n"
     ]
    },
    {
     "data": {
      "text/plain": [
       "0.8702"
      ]
     },
     "execution_count": 11,
     "metadata": {},
     "output_type": "execute_result"
    }
   ],
   "source": [
    "@time sim_bad(dist = Uniform())"
   ]
  },
  {
   "cell_type": "code",
   "execution_count": 12,
   "id": "da2971d8-0ce1-4612-908b-515f566f581e",
   "metadata": {},
   "outputs": [
    {
     "name": "stdout",
     "output_type": "stream",
     "text": [
      "  0.005128 seconds (10.00 k allocations: 1.526 MiB)\n"
     ]
    },
    {
     "data": {
      "text/plain": [
       "0.8541"
      ]
     },
     "execution_count": 12,
     "metadata": {},
     "output_type": "execute_result"
    }
   ],
   "source": [
    "@time sim_bad(dist = Normal())"
   ]
  },
  {
   "cell_type": "code",
   "execution_count": 13,
   "id": "363dd802-1011-47c3-be09-0d1ab9693adf",
   "metadata": {},
   "outputs": [
    {
     "name": "stdout",
     "output_type": "stream",
     "text": [
      "  0.012234 seconds (20.00 k allocations: 2.136 MiB)\n"
     ]
    },
    {
     "data": {
      "text/plain": [
       "0.8721"
      ]
     },
     "execution_count": 13,
     "metadata": {},
     "output_type": "execute_result"
    }
   ],
   "source": [
    "@time sim_bad(dist = Beta(0.1, 0.1), a = 0.5)"
   ]
  },
  {
   "cell_type": "code",
   "execution_count": null,
   "id": "fe2a22ff-0404-4d92-b195-1095b4e004a7",
   "metadata": {},
   "outputs": [],
   "source": []
  }
 ],
 "metadata": {
  "kernelspec": {
   "display_name": "Julia 1.6.2",
   "language": "julia",
   "name": "julia-1.6"
  },
  "language_info": {
   "file_extension": ".jl",
   "mimetype": "application/julia",
   "name": "julia",
   "version": "1.6.2"
  }
 },
 "nbformat": 4,
 "nbformat_minor": 5
}
