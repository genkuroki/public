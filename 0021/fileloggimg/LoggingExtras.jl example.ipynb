{
 "cells": [
  {
   "cell_type": "markdown",
   "id": "6ebf3dfc-7025-4a71-aa1a-d67bcdc7f0e0",
   "metadata": {},
   "source": [
    "* https://discourse.julialang.org/t/how-to-save-logging-output-to-a-log-file/14004/11\n",
    "* https://github.com/JuliaLogging/LoggingExtras.jl"
   ]
  },
  {
   "cell_type": "code",
   "execution_count": 1,
   "id": "6d2cc07a-85da-476e-9688-657e61888787",
   "metadata": {},
   "outputs": [],
   "source": [
    "#using Logging\n",
    "using LoggingExtras"
   ]
  },
  {
   "cell_type": "code",
   "execution_count": 2,
   "id": "30bb7d93-ca62-4351-9c13-fe40fa0293a6",
   "metadata": {},
   "outputs": [],
   "source": [
    "io = open(\"a.txt\", \"w+\")\n",
    "logger = SimpleLogger(io)\n",
    "with_logger(logger) do\n",
    "    @info(\" here is some context specific logging with SimpleLogger\")\n",
    "end\n",
    "read(\"a.txt\", String) |> print"
   ]
  },
  {
   "cell_type": "code",
   "execution_count": 3,
   "id": "2f58fb1e-25c7-482b-88d7-897c8444084b",
   "metadata": {},
   "outputs": [
    {
     "name": "stdout",
     "output_type": "stream",
     "text": [
      "┌ Info:  here is some context specific logging with SimpleLogger\n",
      "└ @ Main In[2]:4\n"
     ]
    }
   ],
   "source": [
    "flush(io)\n",
    "read(\"a.txt\", String) |> print"
   ]
  },
  {
   "cell_type": "code",
   "execution_count": 4,
   "id": "724e35f6-145a-481c-a592-e7da81c3f481",
   "metadata": {},
   "outputs": [],
   "source": [
    "close(io)"
   ]
  },
  {
   "cell_type": "code",
   "execution_count": 5,
   "id": "d52789ca-929c-4f35-9864-2ed119d2e8be",
   "metadata": {},
   "outputs": [
    {
     "name": "stdout",
     "output_type": "stream",
     "text": [
      "┌ Info:  here is some context specific logging with SimpleLogger\n",
      "└ @ Main In[2]:4\n"
     ]
    }
   ],
   "source": [
    "io = open(\"b.txt\", \"w+\")\n",
    "logger = FileLogger(io)\n",
    "with_logger(logger) do\n",
    "    @info(\" here is some context specific logging with FileLogger\")\n",
    "end\n",
    "read(\"a.txt\", String) |> print"
   ]
  },
  {
   "cell_type": "code",
   "execution_count": 6,
   "id": "4ba588e4-3ed9-4417-aae8-3874392d8b78",
   "metadata": {},
   "outputs": [],
   "source": [
    "close(io)"
   ]
  },
  {
   "cell_type": "code",
   "execution_count": 7,
   "id": "3898ef9c-c558-4aec-8be3-8f9d84d97b49",
   "metadata": {},
   "outputs": [
    {
     "name": "stdout",
     "output_type": "stream",
     "text": [
      "search: \u001b[0m\u001b[1mF\u001b[22m\u001b[0m\u001b[1mi\u001b[22m\u001b[0m\u001b[1ml\u001b[22m\u001b[0m\u001b[1me\u001b[22m\u001b[0m\u001b[1mL\u001b[22m\u001b[0m\u001b[1mo\u001b[22m\u001b[0m\u001b[1mg\u001b[22m\u001b[0m\u001b[1mg\u001b[22m\u001b[0m\u001b[1me\u001b[22m\u001b[0m\u001b[1mr\u001b[22m Early\u001b[0m\u001b[1mF\u001b[22m\u001b[0m\u001b[1mi\u001b[22m\u001b[0m\u001b[1ml\u001b[22mt\u001b[0m\u001b[1me\u001b[22mred\u001b[0m\u001b[1mL\u001b[22m\u001b[0m\u001b[1mo\u001b[22m\u001b[0m\u001b[1mg\u001b[22m\u001b[0m\u001b[1mg\u001b[22m\u001b[0m\u001b[1me\u001b[22m\u001b[0m\u001b[1mr\u001b[22m Active\u001b[0m\u001b[1mF\u001b[22m\u001b[0m\u001b[1mi\u001b[22m\u001b[0m\u001b[1ml\u001b[22mt\u001b[0m\u001b[1me\u001b[22mred\u001b[0m\u001b[1mL\u001b[22m\u001b[0m\u001b[1mo\u001b[22m\u001b[0m\u001b[1mg\u001b[22m\u001b[0m\u001b[1mg\u001b[22m\u001b[0m\u001b[1me\u001b[22m\u001b[0m\u001b[1mr\u001b[22m\n",
      "\n"
     ]
    },
    {
     "data": {
      "text/latex": [
       "\\begin{verbatim}\n",
       "FileLogger(path::AbstractString; append=false, always_flush=true)\n",
       "\\end{verbatim}\n",
       "Create a logger sink that write messages to a file specified with \\texttt{path}. To append to the file (rather than truncating the file first), use \\texttt{append=true}. If \\texttt{always\\_flush=true} the stream is flushed after every handled log message.\n",
       "\n",
       "\\rule{\\textwidth}{1pt}\n",
       "\\begin{verbatim}\n",
       "FileLogger(io::IOStream; always_flush=true)\n",
       "\\end{verbatim}\n",
       "Create a logger sink that write messages to the \\texttt{io::IOStream}. The stream is expected to be open and writeable. If \\texttt{always\\_flush=true} the stream is flushed after every handled log message.\n",
       "\n",
       "\\section{Examples}\n",
       "\\begin{verbatim}\n",
       "io = open(\"path/to/file.log\", \"a\") # append to the file\n",
       "logger = FileLogger(io)\n",
       "\\end{verbatim}\n"
      ],
      "text/markdown": [
       "```\n",
       "FileLogger(path::AbstractString; append=false, always_flush=true)\n",
       "```\n",
       "\n",
       "Create a logger sink that write messages to a file specified with `path`. To append to the file (rather than truncating the file first), use `append=true`. If `always_flush=true` the stream is flushed after every handled log message.\n",
       "\n",
       "---\n",
       "\n",
       "```\n",
       "FileLogger(io::IOStream; always_flush=true)\n",
       "```\n",
       "\n",
       "Create a logger sink that write messages to the `io::IOStream`. The stream is expected to be open and writeable. If `always_flush=true` the stream is flushed after every handled log message.\n",
       "\n",
       "# Examples\n",
       "\n",
       "```julia\n",
       "io = open(\"path/to/file.log\", \"a\") # append to the file\n",
       "logger = FileLogger(io)\n",
       "```\n"
      ],
      "text/plain": [
       "\u001b[36m  FileLogger(path::AbstractString; append=false, always_flush=true)\u001b[39m\n",
       "\n",
       "  Create a logger sink that write messages to a file specified with \u001b[36mpath\u001b[39m. To\n",
       "  append to the file (rather than truncating the file first), use \u001b[36mappend=true\u001b[39m.\n",
       "  If \u001b[36malways_flush=true\u001b[39m the stream is flushed after every handled log message.\n",
       "\n",
       "  ────────────────────────────────────────────────────────────────────────────\n",
       "\n",
       "\u001b[36m  FileLogger(io::IOStream; always_flush=true)\u001b[39m\n",
       "\n",
       "  Create a logger sink that write messages to the \u001b[36mio::IOStream\u001b[39m. The stream is\n",
       "  expected to be open and writeable. If \u001b[36malways_flush=true\u001b[39m the stream is\n",
       "  flushed after every handled log message.\n",
       "\n",
       "\u001b[1m  Examples\u001b[22m\n",
       "\u001b[1m  ≡≡≡≡≡≡≡≡≡≡\u001b[22m\n",
       "\n",
       "\u001b[36m  io = open(\"path/to/file.log\", \"a\") # append to the file\u001b[39m\n",
       "\u001b[36m  logger = FileLogger(io)\u001b[39m"
      ]
     },
     "execution_count": 7,
     "metadata": {},
     "output_type": "execute_result"
    }
   ],
   "source": [
    "?FileLogger"
   ]
  },
  {
   "cell_type": "code",
   "execution_count": null,
   "id": "50902293-4d7d-423c-ab58-c768838ca1e5",
   "metadata": {},
   "outputs": [],
   "source": []
  }
 ],
 "metadata": {
  "jupytext": {
   "formats": "ipynb,auto:hydrogen"
  },
  "kernelspec": {
   "display_name": "Julia 1.6.2",
   "language": "julia",
   "name": "julia-1.6"
  },
  "language_info": {
   "file_extension": ".jl",
   "mimetype": "application/julia",
   "name": "julia",
   "version": "1.6.2"
  }
 },
 "nbformat": 4,
 "nbformat_minor": 5
}
