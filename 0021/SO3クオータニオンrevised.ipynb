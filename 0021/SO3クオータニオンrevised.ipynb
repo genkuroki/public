{
 "cells": [
  {
   "cell_type": "markdown",
   "id": "62438b30-1e4e-49d5-9af3-a7e9f5c8fb3d",
   "metadata": {},
   "source": [
    "* https://github.com/KB-satou/GotchaGotcha/blob/master/SO3%E3%82%AF%E3%82%AA%E3%83%BC%E3%82%BF%E3%83%8B%E3%82%AA%E3%83%B3.ipynb\n",
    "* https://twitter.com/KB_satou/status/1440604608405983245"
   ]
  },
  {
   "cell_type": "code",
   "execution_count": 1,
   "id": "0bbef52b-6fd9-4849-9a38-89db46c587e8",
   "metadata": {},
   "outputs": [],
   "source": [
    "using SymPy, LinearAlgebra"
   ]
  },
  {
   "cell_type": "code",
   "execution_count": 2,
   "id": "9c84e071-9495-45c9-9e5f-69dca8ea8fc8",
   "metadata": {},
   "outputs": [],
   "source": [
    "struct Quaternion{T}\n",
    "  w::T\n",
    "  x::T\n",
    "  y::T\n",
    "  z::T\n",
    "end"
   ]
  },
  {
   "cell_type": "code",
   "execution_count": 3,
   "id": "e6e45b46-1475-4d34-b2e4-a4ff44c97bfe",
   "metadata": {},
   "outputs": [],
   "source": [
    "Base.:*(p::Quaternion, q::Quaternion) = (\n",
    "  Quaternion(p.w*q.w -p.x*q.x -p.y*q.y -p.z*q.z\n",
    "    ,p.w*q.x + p.x*q.w + p.y*q.z -p.z*q.y \n",
    "    ,p.w*q.y + p.y*q.w + p.z*q.x -p.x*q.z \n",
    "    ,p.w*q.z + p.z*q.w + p.x*q.y -p.y*q.x \n",
    "    )\n",
    ")\n",
    "\n",
    "Base.:*(α, q::Quaternion) =  Quaternion( α*q.w, α*q.x, α*q.y, α*q.z)\n",
    "Base.:+(p::Quaternion, q::Quaternion) = Quaternion(p.w+q.w, p.x+q.x, p.y+q.y, p.z+q.z)\n",
    "Base.:-(p::Quaternion, q::Quaternion) = Quaternion(p.w-q.w, p.x-q.x, p.y-q.y, p.z-q.z)\n",
    "Base.:(==)(p::Quaternion, q::Quaternion) = (p.w, p.x, p.y, p.z) == (q.w, q.x, q.y, q.z)\n",
    "\n",
    "Base.show(io::IO, q::Quaternion) = show(io::IO, [q.w, q.x, q.y, q.z])\n",
    "Base.show(io::IO, ::MIME\"text/plain\", q::Quaternion) = show(io::IO, MIME(\"text/plain\"), [q.w, q.x, q.y, q.z])\n",
    "Base.show(io::IO, ::MIME\"text/latex\", q::Quaternion{Sym}) = show(io, MIME(\"text/latex\"), [q.w, q.x, q.y, q.z])\n",
    "\n",
    "SymPy.expand(q::Quaternion) = Quaternion(expand(q.w), expand(q.x), expand(q.y), expand(q.z))"
   ]
  },
  {
   "cell_type": "code",
   "execution_count": 4,
   "id": "d514513e-f115-452c-b70c-081259360cbb",
   "metadata": {},
   "outputs": [
    {
     "data": {
      "text/plain": [
       "(θ,)"
      ]
     },
     "execution_count": 4,
     "metadata": {},
     "output_type": "execute_result"
    }
   ],
   "source": [
    "@syms w1::real w2::real x1::real x2::real y1::real y2::real z1::real z2::real \n",
    "@syms w3::real x3::real y3::real z3::real\n",
    "@syms w::real x::real y::real z::real\n",
    "@syms a::real b::real c::real\n",
    "@syms a1::real b1::real c1::real\n",
    "@syms a2::real b2::real c2::real\n",
    "@syms α::real β::real\n",
    "@syms θ::real"
   ]
  },
  {
   "cell_type": "code",
   "execution_count": 5,
   "id": "f357e765-c8af-4ec5-9693-83ba7c0ca6a8",
   "metadata": {},
   "outputs": [
    {
     "data": {
      "text/latex": [
       "$\\left[ \\begin{array}{r}w_{1} w_{2} - x_{1} x_{2} - y_{1} y_{2} - z_{1} z_{2}\\\\w_{1} x_{2} + w_{2} x_{1} + y_{1} z_{2} - y_{2} z_{1}\\\\w_{1} y_{2} + w_{2} y_{1} - x_{1} z_{2} + x_{2} z_{1}\\\\w_{1} z_{2} + w_{2} z_{1} + x_{1} y_{2} - x_{2} y_{1}\\end{array} \\right]$\n"
      ],
      "text/plain": [
       "4-element Vector{Sym}:\n",
       " w1*w2 - x1*x2 - y1*y2 - z1*z2\n",
       " w1*x2 + w2*x1 + y1*z2 - y2*z1\n",
       " w1*y2 + w2*y1 - x1*z2 + x2*z1\n",
       " w1*z2 + w2*z1 + x1*y2 - x2*y1"
      ]
     },
     "execution_count": 5,
     "metadata": {},
     "output_type": "execute_result"
    }
   ],
   "source": [
    "q = Quaternion(w,x,y,z)\n",
    "q1 = Quaternion(w1,x1,y1,z1)\n",
    "q2 = Quaternion(w2,x2,y2,z2)\n",
    "q1 * q2"
   ]
  },
  {
   "cell_type": "markdown",
   "id": "89c75c2e-c0b7-43a4-97e7-710c6fc1e4d7",
   "metadata": {},
   "source": [
    "## 線形性の確認"
   ]
  },
  {
   "cell_type": "code",
   "execution_count": 6,
   "id": "6d512c63-e805-4429-a9b0-c36343e67087",
   "metadata": {},
   "outputs": [
    {
     "data": {
      "text/latex": [
       "$\\left[ \\begin{array}{r}w w_{1} α + w w_{2} β - x x_{1} α - x x_{2} β - y y_{1} α - y y_{2} β - z z_{1} α - z z_{2} β\\\\w x_{1} α + w x_{2} β + w_{1} x α + w_{2} x β + y z_{1} α + y z_{2} β - y_{1} z α - y_{2} z β\\\\w y_{1} α + w y_{2} β + w_{1} y α + w_{2} y β - x z_{1} α - x z_{2} β + x_{1} z α + x_{2} z β\\\\w z_{1} α + w z_{2} β + w_{1} z α + w_{2} z β + x y_{1} α + x y_{2} β - x_{1} y α - x_{2} y β\\end{array} \\right]$\n"
      ],
      "text/plain": [
       "4-element Vector{Sym}:\n",
       " w*w1*α + w*w2*β - x*x1*α - x*x2*β - y*y1*α - y*y2*β - z*z1*α - z*z2*β\n",
       " w*x1*α + w*x2*β + w1*x*α + w2*x*β + y*z1*α + y*z2*β - y1*z*α - y2*z*β\n",
       " w*y1*α + w*y2*β + w1*y*α + w2*y*β - x*z1*α - x*z2*β + x1*z*α + x2*z*β\n",
       " w*z1*α + w*z2*β + w1*z*α + w2*z*β + x*y1*α + x*y2*β - x1*y*α - x2*y*β"
      ]
     },
     "execution_count": 6,
     "metadata": {},
     "output_type": "execute_result"
    }
   ],
   "source": [
    "Q1 = expand(q*(α*q1 + β*q2))"
   ]
  },
  {
   "cell_type": "code",
   "execution_count": 7,
   "id": "e7a1da70-9187-4205-9cb0-a49561f3e4a3",
   "metadata": {},
   "outputs": [
    {
     "data": {
      "text/latex": [
       "$\\left[ \\begin{array}{r}w w_{1} α + w w_{2} β - x x_{1} α - x x_{2} β - y y_{1} α - y y_{2} β - z z_{1} α - z z_{2} β\\\\w x_{1} α + w x_{2} β + w_{1} x α + w_{2} x β + y z_{1} α + y z_{2} β - y_{1} z α - y_{2} z β\\\\w y_{1} α + w y_{2} β + w_{1} y α + w_{2} y β - x z_{1} α - x z_{2} β + x_{1} z α + x_{2} z β\\\\w z_{1} α + w z_{2} β + w_{1} z α + w_{2} z β + x y_{1} α + x y_{2} β - x_{1} y α - x_{2} y β\\end{array} \\right]$\n"
      ],
      "text/plain": [
       "4-element Vector{Sym}:\n",
       " w*w1*α + w*w2*β - x*x1*α - x*x2*β - y*y1*α - y*y2*β - z*z1*α - z*z2*β\n",
       " w*x1*α + w*x2*β + w1*x*α + w2*x*β + y*z1*α + y*z2*β - y1*z*α - y2*z*β\n",
       " w*y1*α + w*y2*β + w1*y*α + w2*y*β - x*z1*α - x*z2*β + x1*z*α + x2*z*β\n",
       " w*z1*α + w*z2*β + w1*z*α + w2*z*β + x*y1*α + x*y2*β - x1*y*α - x2*y*β"
      ]
     },
     "execution_count": 7,
     "metadata": {},
     "output_type": "execute_result"
    }
   ],
   "source": [
    "Q2 = expand(α*(q*q1) + β*(q*q2))"
   ]
  },
  {
   "cell_type": "code",
   "execution_count": 8,
   "id": "02a86a99-0c1f-4d34-bb60-7314b87fc1e3",
   "metadata": {},
   "outputs": [
    {
     "data": {
      "text/plain": [
       "true"
      ]
     },
     "execution_count": 8,
     "metadata": {},
     "output_type": "execute_result"
    }
   ],
   "source": [
    "Q1 == Q2"
   ]
  },
  {
   "cell_type": "code",
   "execution_count": 9,
   "id": "f5d4fb95-a33a-4319-8483-42ca160c633a",
   "metadata": {},
   "outputs": [],
   "source": [
    "Base.adjoint(q::Quaternion) = Quaternion(q.w, -q.x, -q.y , -q.z)\n",
    "Base.abs2(p::Quaternion) = p.w*p.w + p.x*p.x + p.y*p.y + p.z*p.z"
   ]
  },
  {
   "cell_type": "code",
   "execution_count": 10,
   "id": "649f2857-0e27-48c2-8624-47eaa7edf8d1",
   "metadata": {},
   "outputs": [
    {
     "data": {
      "text/latex": [
       "$\\left[ \\begin{array}{r}w_{1}^{2} + x_{1}^{2} + y_{1}^{2} + z_{1}^{2}\\\\0\\\\0\\\\0\\end{array} \\right]$\n"
      ],
      "text/plain": [
       "4-element Vector{Sym}:\n",
       " w1^2 + x1^2 + y1^2 + z1^2\n",
       "                         0\n",
       "                         0\n",
       "                         0"
      ]
     },
     "execution_count": 10,
     "metadata": {},
     "output_type": "execute_result"
    }
   ],
   "source": [
    "q1*adjoint(q1)"
   ]
  },
  {
   "cell_type": "code",
   "execution_count": 11,
   "id": "7ce74db3-0916-4f50-93b0-6b391d68c5b1",
   "metadata": {},
   "outputs": [
    {
     "data": {
      "text/latex": [
       "$\\begin{equation*}w_{1}^{2} + x_{1}^{2} + y_{1}^{2} + z_{1}^{2}\\end{equation*}$\n"
      ],
      "text/plain": [
       "  2     2     2     2\n",
       "w1  + x1  + y1  + z1 "
      ]
     },
     "execution_count": 11,
     "metadata": {},
     "output_type": "execute_result"
    }
   ],
   "source": [
    "abs2(q1)"
   ]
  },
  {
   "cell_type": "code",
   "execution_count": 12,
   "id": "8e658e70-92f4-47d9-8aea-6e8df4a4e9b8",
   "metadata": {},
   "outputs": [
    {
     "data": {
      "text/latex": [
       "$\\begin{equation*}\\left(w_{1} w_{2} - x_{1} x_{2} - y_{1} y_{2} - z_{1} z_{2}\\right)^{2} + \\left(w_{1} x_{2} + w_{2} x_{1} + y_{1} z_{2} - y_{2} z_{1}\\right)^{2} + \\left(w_{1} y_{2} + w_{2} y_{1} - x_{1} z_{2} + x_{2} z_{1}\\right)^{2} + \\left(w_{1} z_{2} + w_{2} z_{1} + x_{1} y_{2} - x_{2} y_{1}\\right)^{2}\\end{equation*}$\n"
      ],
      "text/plain": [
       "                               2                                  2           \n",
       "(w1*w2 - x1*x2 - y1*y2 - z1*z2)  + (w1*x2 + w2*x1 + y1*z2 - y2*z1)  + (w1*y2 +\n",
       "\n",
       "                       2                                  2\n",
       " w2*y1 - x1*z2 + x2*z1)  + (w1*z2 + w2*z1 + x1*y2 - x2*y1) "
      ]
     },
     "execution_count": 12,
     "metadata": {},
     "output_type": "execute_result"
    }
   ],
   "source": [
    "abs2(q1*q2)"
   ]
  },
  {
   "cell_type": "code",
   "execution_count": 13,
   "id": "6b84f72f-10b5-4076-b97a-0b3b0b3c285e",
   "metadata": {},
   "outputs": [
    {
     "data": {
      "text/latex": [
       "$\\begin{equation*}w_{2}^{2} + x_{2}^{2} + y_{2}^{2} + z_{2}^{2}\\end{equation*}$\n"
      ],
      "text/plain": [
       "  2     2     2     2\n",
       "w2  + x2  + y2  + z2 "
      ]
     },
     "execution_count": 13,
     "metadata": {},
     "output_type": "execute_result"
    }
   ],
   "source": [
    "expand(subs(expand(abs2(q1*q2)), w1^2 => 1-x1^2-y1^2-z1^2))"
   ]
  },
  {
   "cell_type": "code",
   "execution_count": 14,
   "id": "e0d15998-7376-4787-a270-e10bb6694ce2",
   "metadata": {},
   "outputs": [
    {
     "data": {
      "text/latex": [
       "$\\begin{equation*}\\left(w_{1} w_{2} - x_{1} x_{2} - y_{1} y_{2} - z_{1} z_{2}\\right)^{2} + \\left(w_{1} x_{2} + w_{2} x_{1} + y_{1} z_{2} - y_{2} z_{1}\\right)^{2} + \\left(w_{1} y_{2} + w_{2} y_{1} - x_{1} z_{2} + x_{2} z_{1}\\right)^{2} + \\left(w_{1} z_{2} + w_{2} z_{1} + x_{1} y_{2} - x_{2} y_{1}\\right)^{2}\\end{equation*}$\n"
      ],
      "text/plain": [
       "                               2                                  2           \n",
       "(w1*w2 - x1*x2 - y1*y2 - z1*z2)  + (w1*x2 + w2*x1 + y1*z2 - y2*z1)  + (w1*y2 +\n",
       "\n",
       "                       2                                  2\n",
       " w2*y1 - x1*z2 + x2*z1)  + (w1*z2 + w2*z1 + x1*y2 - x2*y1) "
      ]
     },
     "execution_count": 14,
     "metadata": {},
     "output_type": "execute_result"
    }
   ],
   "source": [
    "subs(abs2(q1*q2), w1^2 => 1-x1^2-y1^2-z1^2)"
   ]
  },
  {
   "cell_type": "code",
   "execution_count": 15,
   "id": "cf0d54d4-edd0-44ae-b6bf-1bb0323bf967",
   "metadata": {},
   "outputs": [
    {
     "data": {
      "text/latex": [
       "$\\begin{equation*}w_{1}^{2} w_{2}^{2} + w_{1}^{2} x_{2}^{2} + w_{1}^{2} y_{2}^{2} + w_{1}^{2} z_{2}^{2} + w_{2}^{2} x_{1}^{2} + w_{2}^{2} y_{1}^{2} + w_{2}^{2} z_{1}^{2} + x_{1}^{2} x_{2}^{2} + x_{1}^{2} y_{2}^{2} + x_{1}^{2} z_{2}^{2} + x_{2}^{2} y_{1}^{2} + x_{2}^{2} z_{1}^{2} + y_{1}^{2} y_{2}^{2} + y_{1}^{2} z_{2}^{2} + y_{2}^{2} z_{1}^{2} + z_{1}^{2} z_{2}^{2}\\end{equation*}$\n"
      ],
      "text/plain": [
       "  2   2     2   2     2   2     2   2     2   2     2   2     2   2     2   2 \n",
       "w1 *w2  + w1 *x2  + w1 *y2  + w1 *z2  + w2 *x1  + w2 *y1  + w2 *z1  + x1 *x2  \n",
       "\n",
       "    2   2     2   2     2   2     2   2     2   2     2   2     2   2     2   \n",
       "+ x1 *y2  + x1 *z2  + x2 *y1  + x2 *z1  + y1 *y2  + y1 *z2  + y2 *z1  + z1 *z2\n",
       "\n",
       "2\n",
       " "
      ]
     },
     "execution_count": 15,
     "metadata": {},
     "output_type": "execute_result"
    }
   ],
   "source": [
    "expand(subs(expand(abs2(q1*q2)), w1^2 +x1^2+y1^2+z1^2=> 1))"
   ]
  },
  {
   "cell_type": "code",
   "execution_count": 16,
   "id": "8e2d9d85-05a4-4afe-b138-6bff4f9b20fb",
   "metadata": {},
   "outputs": [
    {
     "data": {
      "text/latex": [
       "$\\begin{equation*}w_{2}^{2} x_{1}^{2} + w_{2}^{2} y_{1}^{2} + w_{2}^{2} z_{1}^{2} + w_{2}^{2} \\left(- x_{1}^{2} - y_{1}^{2} - z_{1}^{2} + 1\\right) + x_{1}^{2} x_{2}^{2} + x_{1}^{2} y_{2}^{2} + x_{1}^{2} z_{2}^{2} + x_{2}^{2} y_{1}^{2} + x_{2}^{2} z_{1}^{2} + x_{2}^{2} \\left(- x_{1}^{2} - y_{1}^{2} - z_{1}^{2} + 1\\right) + y_{1}^{2} y_{2}^{2} + y_{1}^{2} z_{2}^{2} + y_{2}^{2} z_{1}^{2} + y_{2}^{2} \\left(- x_{1}^{2} - y_{1}^{2} - z_{1}^{2} + 1\\right) + z_{1}^{2} z_{2}^{2} + z_{2}^{2} \\left(- x_{1}^{2} - y_{1}^{2} - z_{1}^{2} + 1\\right)\\end{equation*}$\n"
      ],
      "text/plain": [
       "  2   2     2   2     2   2     2 /    2     2     2    \\     2   2     2   2 \n",
       "w2 *x1  + w2 *y1  + w2 *z1  + w2 *\\- x1  - y1  - z1  + 1/ + x1 *x2  + x1 *y2  \n",
       "\n",
       "    2   2     2   2     2   2     2 /    2     2     2    \\     2   2     2   \n",
       "+ x1 *z2  + x2 *y1  + x2 *z1  + x2 *\\- x1  - y1  - z1  + 1/ + y1 *y2  + y1 *z2\n",
       "\n",
       "2     2   2     2 /    2     2     2    \\     2   2     2 /    2     2     2  \n",
       "  + y2 *z1  + y2 *\\- x1  - y1  - z1  + 1/ + z1 *z2  + z2 *\\- x1  - y1  - z1  +\n",
       "\n",
       "  \\\n",
       " 1/"
      ]
     },
     "execution_count": 16,
     "metadata": {},
     "output_type": "execute_result"
    }
   ],
   "source": [
    "subs(expand(abs2(q1*q2)), w1^2 => 1-x1^2-y1^2-z1^2)"
   ]
  },
  {
   "cell_type": "code",
   "execution_count": 17,
   "id": "a69ddfb7-d56d-4bfc-811e-8b90d36b86eb",
   "metadata": {},
   "outputs": [
    {
     "data": {
      "text/latex": [
       "$\\left[ \\begin{array}{r}0\\\\a\\\\b\\\\c\\end{array} \\right]$\n"
      ],
      "text/plain": [
       "4-element Vector{Sym}:\n",
       " 0\n",
       " a\n",
       " b\n",
       " c"
      ]
     },
     "execution_count": 17,
     "metadata": {},
     "output_type": "execute_result"
    }
   ],
   "source": [
    "v = Quaternion(zero(Sym),a,b,c)"
   ]
  },
  {
   "cell_type": "code",
   "execution_count": 18,
   "id": "af40571d-a1c1-4b24-b21d-d752830c9e67",
   "metadata": {},
   "outputs": [
    {
     "data": {
      "text/latex": [
       "$\\left[ \\begin{array}{r}w\\\\x\\\\y\\\\z\\end{array} \\right]$\n"
      ],
      "text/plain": [
       "4-element Vector{Sym}:\n",
       " w\n",
       " x\n",
       " y\n",
       " z"
      ]
     },
     "execution_count": 18,
     "metadata": {},
     "output_type": "execute_result"
    }
   ],
   "source": [
    "q = Quaternion(w,x,y,z)"
   ]
  },
  {
   "cell_type": "code",
   "execution_count": 19,
   "id": "f619c281-9941-4bb2-8f7e-29a17b264081",
   "metadata": {},
   "outputs": [
    {
     "data": {
      "text/latex": [
       "$\\left[ \\begin{array}{r}0\\\\a w^{2} + a x^{2} - a y^{2} - a z^{2} - 2 b w z + 2 b x y + 2 c w y + 2 c x z\\\\2 a w z + 2 a x y + b w^{2} - b x^{2} + b y^{2} - b z^{2} - 2 c w x + 2 c y z\\\\- 2 a w y + 2 a x z + 2 b w x + 2 b y z + c w^{2} - c x^{2} - c y^{2} + c z^{2}\\end{array} \\right]$\n"
      ],
      "text/plain": [
       "4-element Vector{Sym}:\n",
       "                                                                      0\n",
       "  a*w^2 + a*x^2 - a*y^2 - a*z^2 - 2*b*w*z + 2*b*x*y + 2*c*w*y + 2*c*x*z\n",
       "  2*a*w*z + 2*a*x*y + b*w^2 - b*x^2 + b*y^2 - b*z^2 - 2*c*w*x + 2*c*y*z\n",
       " -2*a*w*y + 2*a*x*z + 2*b*w*x + 2*b*y*z + c*w^2 - c*x^2 - c*y^2 + c*z^2"
      ]
     },
     "execution_count": 19,
     "metadata": {},
     "output_type": "execute_result"
    }
   ],
   "source": [
    "expand(q*(v)*adjoint(q))"
   ]
  },
  {
   "cell_type": "code",
   "execution_count": 20,
   "id": "67da0943-5b55-4171-979d-9f0a19bda530",
   "metadata": {},
   "outputs": [
    {
     "data": {
      "text/latex": [
       "$\\left[ \\begin{array}{r}w \\left(- a x - b y - c z\\right) + x \\left(a w - b z + c y\\right) + y \\left(a z + b w - c x\\right) + z \\left(- a y + b x + c w\\right)\\\\w \\left(a w - b z + c y\\right) - x \\left(- a x - b y - c z\\right) + y \\left(- a y + b x + c w\\right) - z \\left(a z + b w - c x\\right)\\\\w \\left(a z + b w - c x\\right) - x \\left(- a y + b x + c w\\right) - y \\left(- a x - b y - c z\\right) + z \\left(a w - b z + c y\\right)\\\\w \\left(- a y + b x + c w\\right) + x \\left(a z + b w - c x\\right) - y \\left(a w - b z + c y\\right) - z \\left(- a x - b y - c z\\right)\\end{array} \\right]$\n"
      ],
      "text/plain": [
       "4-element Vector{Sym}:\n",
       " w*(-a*x - b*y - c*z) + x*(a*w - b*z + c*y) + y*(a*z + b*w - c*x) + z*(-a*y + b*x + c*w)\n",
       " w*(a*w - b*z + c*y) - x*(-a*x - b*y - c*z) + y*(-a*y + b*x + c*w) - z*(a*z + b*w - c*x)\n",
       " w*(a*z + b*w - c*x) - x*(-a*y + b*x + c*w) - y*(-a*x - b*y - c*z) + z*(a*w - b*z + c*y)\n",
       " w*(-a*y + b*x + c*w) + x*(a*z + b*w - c*x) - y*(a*w - b*z + c*y) - z*(-a*x - b*y - c*z)"
      ]
     },
     "execution_count": 20,
     "metadata": {},
     "output_type": "execute_result"
    }
   ],
   "source": [
    "(q*(v)*adjoint(q))"
   ]
  },
  {
   "cell_type": "code",
   "execution_count": 21,
   "id": "8d3debd1-39ab-40ba-ab24-6cbf161a8fe5",
   "metadata": {},
   "outputs": [
    {
     "data": {
      "text/latex": [
       "$\\left[ \\begin{array}{r}0\\\\2 w y + 2 x z\\\\- 2 w x + 2 y z\\\\w^{2} - x^{2} - y^{2} + z^{2}\\end{array} \\right]$\n"
      ],
      "text/plain": [
       "4-element Vector{Sym}:\n",
       "                     0\n",
       "         2*w*y + 2*x*z\n",
       "        -2*w*x + 2*y*z\n",
       " w^2 - x^2 - y^2 + z^2"
      ]
     },
     "execution_count": 21,
     "metadata": {},
     "output_type": "execute_result"
    }
   ],
   "source": [
    "expand(q*Quaternion(0,1,0,0)*adjoint(q))\n",
    "expand(q*Quaternion(0,0,1,0)*adjoint(q))\n",
    "expand(q*Quaternion(0,0,0,1)*adjoint(q))"
   ]
  },
  {
   "cell_type": "code",
   "execution_count": 22,
   "id": "653363ad-2ff6-494e-872a-719037b9f6cc",
   "metadata": {},
   "outputs": [],
   "source": [
    "Base.collect(q::Quaternion) = [q.w, q.x, q.y, q.z]"
   ]
  },
  {
   "cell_type": "code",
   "execution_count": 23,
   "id": "1213e806-71f3-4374-928a-fe24b6011b7f",
   "metadata": {},
   "outputs": [
    {
     "data": {
      "text/latex": [
       "$\\left[ \\begin{array}{rrr}0&0&0\\\\w^{2} + x^{2} - y^{2} - z^{2}&- 2 w z + 2 x y&2 w y + 2 x z\\\\2 w z + 2 x y&w^{2} - x^{2} + y^{2} - z^{2}&- 2 w x + 2 y z\\\\- 2 w y + 2 x z&2 w x + 2 y z&w^{2} - x^{2} - y^{2} + z^{2}\\end{array}\\right]$\n"
      ],
      "text/plain": [
       "4×3 Matrix{Sym}:\n",
       "                     0                      0                      0\n",
       " w^2 + x^2 - y^2 - z^2         -2*w*z + 2*x*y          2*w*y + 2*x*z\n",
       "         2*w*z + 2*x*y  w^2 - x^2 + y^2 - z^2         -2*w*x + 2*y*z\n",
       "        -2*w*y + 2*x*z          2*w*x + 2*y*z  w^2 - x^2 - y^2 + z^2"
      ]
     },
     "execution_count": 23,
     "metadata": {},
     "output_type": "execute_result"
    }
   ],
   "source": [
    "M = [collect(expand(q*Quaternion(0,1,0,0)*adjoint(q))) collect(expand(q*Quaternion(0,0,1,0)*adjoint(q))) collect(expand(q*Quaternion(0,0,0,1)*adjoint(q)))]"
   ]
  },
  {
   "cell_type": "code",
   "execution_count": 24,
   "id": "e755d851-04c8-4194-ad75-a25ffd235a0a",
   "metadata": {},
   "outputs": [
    {
     "data": {
      "text/latex": [
       "$\\left[ \\begin{array}{rrr}w^{4} + 2 w^{2} x^{2} + 2 w^{2} y^{2} + 2 w^{2} z^{2} + x^{4} + 2 x^{2} y^{2} + 2 x^{2} z^{2} + y^{4} + 2 y^{2} z^{2} + z^{4}&0&0\\\\0&w^{4} + 2 w^{2} x^{2} + 2 w^{2} y^{2} + 2 w^{2} z^{2} + x^{4} + 2 x^{2} y^{2} + 2 x^{2} z^{2} + y^{4} + 2 y^{2} z^{2} + z^{4}&0\\\\0&0&w^{4} + 2 w^{2} x^{2} + 2 w^{2} y^{2} + 2 w^{2} z^{2} + x^{4} + 2 x^{2} y^{2} + 2 x^{2} z^{2} + y^{4} + 2 y^{2} z^{2} + z^{4}\\end{array}\\right]$\n"
      ],
      "text/plain": [
       "3×3 Matrix{Sym}:\n",
       " w^4 + 2*w^2*x^2 + 2*w^2*y^2 + 2*w^2*z^2 + x^4 + 2*x^2*y^2 + 2*x^2*z^2 + y^4 + 2*y^2*z^2 + z^4  …                                                                                              0\n",
       "                                                                                             0                                                                                                 0\n",
       "                                                                                             0     w^4 + 2*w^2*x^2 + 2*w^2*y^2 + 2*w^2*z^2 + x^4 + 2*x^2*y^2 + 2*x^2*z^2 + y^4 + 2*y^2*z^2 + z^4"
      ]
     },
     "execution_count": 24,
     "metadata": {},
     "output_type": "execute_result"
    }
   ],
   "source": [
    "MtM = expand.(M' * M)"
   ]
  },
  {
   "cell_type": "code",
   "execution_count": 25,
   "id": "c6d8a5b1-bf60-43c6-9fb4-2e31355167e2",
   "metadata": {},
   "outputs": [
    {
     "data": {
      "text/latex": [
       "$\\left[ \\begin{array}{rrr}1&0&0\\\\0&1&0\\\\0&0&1\\end{array}\\right]$\n"
      ],
      "text/plain": [
       "3×3 Matrix{Sym}:\n",
       " 1  0  0\n",
       " 0  1  0\n",
       " 0  0  1"
      ]
     },
     "execution_count": 25,
     "metadata": {},
     "output_type": "execute_result"
    }
   ],
   "source": [
    "expand.(subs.(MtM, w^2 => 1-x^2-y^2-z^2))"
   ]
  },
  {
   "cell_type": "code",
   "execution_count": 26,
   "id": "b3dfe011-d9c6-463e-a3a1-989d2af956b8",
   "metadata": {},
   "outputs": [
    {
     "data": {
      "text/latex": [
       "$\\begin{equation*}w^{6} + 3 w^{4} x^{2} + 3 w^{4} y^{2} + 3 w^{4} z^{2} + 3 w^{2} x^{4} + 6 w^{2} x^{2} y^{2} + 6 w^{2} x^{2} z^{2} + 3 w^{2} y^{4} + 6 w^{2} y^{2} z^{2} + 3 w^{2} z^{4} + x^{6} + 3 x^{4} y^{2} + 3 x^{4} z^{2} + 3 x^{2} y^{4} + 6 x^{2} y^{2} z^{2} + 3 x^{2} z^{4} + y^{6} + 3 y^{4} z^{2} + 3 y^{2} z^{4} + z^{6}\\end{equation*}$\n"
      ],
      "text/plain": [
       " 6      4  2      4  2      4  2      2  4      2  2  2      2  2  2      2  4\n",
       "w  + 3*w *x  + 3*w *y  + 3*w *z  + 3*w *x  + 6*w *x *y  + 6*w *x *z  + 3*w *y \n",
       "\n",
       "      2  2  2      2  4    6      4  2      4  2      2  4      2  2  2      2\n",
       " + 6*w *y *z  + 3*w *z  + x  + 3*x *y  + 3*x *z  + 3*x *y  + 6*x *y *z  + 3*x \n",
       "\n",
       "  4    6      4  2      2  4    6\n",
       "*z  + y  + 3*y *z  + 3*y *z  + z "
      ]
     },
     "execution_count": 26,
     "metadata": {},
     "output_type": "execute_result"
    }
   ],
   "source": [
    "detM = det(M[2:end,:])"
   ]
  },
  {
   "cell_type": "code",
   "execution_count": 27,
   "id": "76b4bdf7-a58d-4e6d-af67-5e698565e13b",
   "metadata": {},
   "outputs": [
    {
     "data": {
      "text/latex": [
       "$\\begin{equation*}1\\end{equation*}$\n"
      ],
      "text/plain": [
       "1"
      ]
     },
     "execution_count": 27,
     "metadata": {},
     "output_type": "execute_result"
    }
   ],
   "source": [
    "expand.(subs(detM, w^2 => 1-x^2-y^2-z^2))"
   ]
  },
  {
   "cell_type": "code",
   "execution_count": 28,
   "id": "bb972b67-4e7f-4b41-b749-f439cb908be8",
   "metadata": {},
   "outputs": [
    {
     "data": {
      "text/latex": [
       "$\\left[ \\begin{array}{rrr}0&0&0\\\\w^{2} - z^{2}&- 2 w z&0\\\\2 w z&w^{2} - z^{2}&0\\\\0&0&w^{2} + z^{2}\\end{array}\\right]$\n"
      ],
      "text/plain": [
       "4×3 Matrix{Sym}:\n",
       "         0          0          0\n",
       " w^2 - z^2     -2*w*z          0\n",
       "     2*w*z  w^2 - z^2          0\n",
       "         0          0  w^2 + z^2"
      ]
     },
     "execution_count": 28,
     "metadata": {},
     "output_type": "execute_result"
    }
   ],
   "source": [
    "M2 = subs.(subs.(M,x,0),y,0)"
   ]
  },
  {
   "cell_type": "code",
   "execution_count": 29,
   "id": "19f49c57-400d-4dbb-98e9-47ce61f31f1a",
   "metadata": {},
   "outputs": [
    {
     "data": {
      "text/latex": [
       "$\\left[ \\begin{array}{rrr}0&0&0\\\\- z^{2} + \\cos^{2}{\\left(θ \\right)}&- 2 z \\cos{\\left(θ \\right)}&0\\\\2 z \\cos{\\left(θ \\right)}&- z^{2} + \\cos^{2}{\\left(θ \\right)}&0\\\\0&0&z^{2} + \\cos^{2}{\\left(θ \\right)}\\end{array}\\right]$\n"
      ],
      "text/plain": [
       "4×3 Matrix{Sym}:\n",
       "               0                0               0\n",
       " -z^2 + cos(θ)^2      -2*z*cos(θ)               0\n",
       "      2*z*cos(θ)  -z^2 + cos(θ)^2               0\n",
       "               0                0  z^2 + cos(θ)^2"
      ]
     },
     "execution_count": 29,
     "metadata": {},
     "output_type": "execute_result"
    }
   ],
   "source": [
    "M3 = subs.(M2, w, cos(θ))"
   ]
  },
  {
   "cell_type": "code",
   "execution_count": 30,
   "id": "e9de6a82-30d6-428b-9894-9756b36cbc58",
   "metadata": {},
   "outputs": [
    {
     "data": {
      "text/latex": [
       "$\\left[ \\begin{array}{rrr}0&0&0\\\\- \\sin^{2}{\\left(θ \\right)} + \\cos^{2}{\\left(θ \\right)}&- 2 \\sin{\\left(θ \\right)} \\cos{\\left(θ \\right)}&0\\\\2 \\sin{\\left(θ \\right)} \\cos{\\left(θ \\right)}&- \\sin^{2}{\\left(θ \\right)} + \\cos^{2}{\\left(θ \\right)}&0\\\\0&0&\\sin^{2}{\\left(θ \\right)} + \\cos^{2}{\\left(θ \\right)}\\end{array}\\right]$\n"
      ],
      "text/plain": [
       "4×3 Matrix{Sym}:\n",
       "                    0                     0                    0\n",
       " -sin(θ)^2 + cos(θ)^2      -2*sin(θ)*cos(θ)                    0\n",
       "      2*sin(θ)*cos(θ)  -sin(θ)^2 + cos(θ)^2                    0\n",
       "                    0                     0  sin(θ)^2 + cos(θ)^2"
      ]
     },
     "execution_count": 30,
     "metadata": {},
     "output_type": "execute_result"
    }
   ],
   "source": [
    "M4 = subs.(M3, z, sin(θ))"
   ]
  },
  {
   "cell_type": "code",
   "execution_count": 31,
   "id": "d12d70f9-fe32-4f6e-8698-568b63ab26bf",
   "metadata": {},
   "outputs": [
    {
     "data": {
      "text/latex": [
       "$\\left[ \\begin{array}{rrr}0&0&0\\\\\\cos{\\left(2 θ \\right)}&- \\sin{\\left(2 θ \\right)}&0\\\\\\sin{\\left(2 θ \\right)}&\\cos{\\left(2 θ \\right)}&0\\\\0&0&1\\end{array}\\right]$\n"
      ],
      "text/plain": [
       "4×3 Matrix{Sym}:\n",
       "        0          0  0\n",
       " cos(2*θ)  -sin(2*θ)  0\n",
       " sin(2*θ)   cos(2*θ)  0\n",
       "        0          0  1"
      ]
     },
     "execution_count": 31,
     "metadata": {},
     "output_type": "execute_result"
    }
   ],
   "source": [
    "simplify.(M4)"
   ]
  },
  {
   "cell_type": "code",
   "execution_count": 32,
   "id": "699b0da2-abfd-4809-9f3c-bdf2583fff00",
   "metadata": {},
   "outputs": [
    {
     "data": {
      "text/latex": [
       "$\\left[ \\begin{array}{rrr}0&0&0\\\\- z^{2} + \\cos^{2}{\\left(\\frac{θ}{2} \\right)}&- 2 z \\cos{\\left(\\frac{θ}{2} \\right)}&0\\\\2 z \\cos{\\left(\\frac{θ}{2} \\right)}&- z^{2} + \\cos^{2}{\\left(\\frac{θ}{2} \\right)}&0\\\\0&0&z^{2} + \\cos^{2}{\\left(\\frac{θ}{2} \\right)}\\end{array}\\right]$\n"
      ],
      "text/plain": [
       "4×3 Matrix{Sym}:\n",
       "                 0                  0                 0\n",
       " -z^2 + cos(θ/2)^2      -2*z*cos(θ/2)                 0\n",
       "      2*z*cos(θ/2)  -z^2 + cos(θ/2)^2                 0\n",
       "                 0                  0  z^2 + cos(θ/2)^2"
      ]
     },
     "execution_count": 32,
     "metadata": {},
     "output_type": "execute_result"
    }
   ],
   "source": [
    "M3 = subs.(M2, w, cos(θ/2))"
   ]
  },
  {
   "cell_type": "code",
   "execution_count": 33,
   "id": "e50ef230-40ce-41bd-8169-62fdd758097c",
   "metadata": {},
   "outputs": [
    {
     "data": {
      "text/latex": [
       "$\\left[ \\begin{array}{rrr}0&0&0\\\\- \\sin^{2}{\\left(\\frac{θ}{2} \\right)} + \\cos^{2}{\\left(\\frac{θ}{2} \\right)}&- 2 \\sin{\\left(\\frac{θ}{2} \\right)} \\cos{\\left(\\frac{θ}{2} \\right)}&0\\\\2 \\sin{\\left(\\frac{θ}{2} \\right)} \\cos{\\left(\\frac{θ}{2} \\right)}&- \\sin^{2}{\\left(\\frac{θ}{2} \\right)} + \\cos^{2}{\\left(\\frac{θ}{2} \\right)}&0\\\\0&0&\\sin^{2}{\\left(\\frac{θ}{2} \\right)} + \\cos^{2}{\\left(\\frac{θ}{2} \\right)}\\end{array}\\right]$\n"
      ],
      "text/plain": [
       "4×3 Matrix{Sym}:\n",
       "                        0                         0                        0\n",
       " -sin(θ/2)^2 + cos(θ/2)^2      -2*sin(θ/2)*cos(θ/2)                        0\n",
       "      2*sin(θ/2)*cos(θ/2)  -sin(θ/2)^2 + cos(θ/2)^2                        0\n",
       "                        0                         0  sin(θ/2)^2 + cos(θ/2)^2"
      ]
     },
     "execution_count": 33,
     "metadata": {},
     "output_type": "execute_result"
    }
   ],
   "source": [
    "M4 = subs.(M3, z, sin(θ/2))"
   ]
  },
  {
   "cell_type": "code",
   "execution_count": 34,
   "id": "1a5a3488-1c42-4ffa-8b99-58d81f6319be",
   "metadata": {},
   "outputs": [
    {
     "data": {
      "text/latex": [
       "$\\left[ \\begin{array}{rrr}0&0&0\\\\\\cos{\\left(θ \\right)}&- \\sin{\\left(θ \\right)}&0\\\\\\sin{\\left(θ \\right)}&\\cos{\\left(θ \\right)}&0\\\\0&0&1\\end{array}\\right]$\n"
      ],
      "text/plain": [
       "4×3 Matrix{Sym}:\n",
       "      0        0  0\n",
       " cos(θ)  -sin(θ)  0\n",
       " sin(θ)   cos(θ)  0\n",
       "      0        0  1"
      ]
     },
     "execution_count": 34,
     "metadata": {},
     "output_type": "execute_result"
    }
   ],
   "source": [
    "simplify.(M4)"
   ]
  },
  {
   "cell_type": "code",
   "execution_count": null,
   "id": "50a7f561-e7ea-4c38-b7bf-b3a64cdb8d7a",
   "metadata": {},
   "outputs": [],
   "source": []
  }
 ],
 "metadata": {
  "jupytext": {
   "encoding": "# -*- coding: utf-8 -*-",
   "formats": "ipynb,jl:hydrogen"
  },
  "kernelspec": {
   "display_name": "Julia 1.6.2",
   "language": "julia",
   "name": "julia-1.6"
  },
  "language_info": {
   "file_extension": ".jl",
   "mimetype": "application/julia",
   "name": "julia",
   "version": "1.6.2"
  }
 },
 "nbformat": 4,
 "nbformat_minor": 5
}
