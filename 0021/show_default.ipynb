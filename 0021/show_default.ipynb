{
 "cells": [
  {
   "cell_type": "code",
   "execution_count": 1,
   "id": "9abf5926-d9b6-46d8-a7cf-1579a33a04af",
   "metadata": {},
   "outputs": [
    {
     "name": "stdout",
     "output_type": "stream",
     "text": [
      "\n",
      "Welcome to Nemo version 0.26.1\n",
      "\n",
      "Nemo comes with absolutely no warranty whatsoever\n",
      "\n"
     ]
    }
   ],
   "source": [
    "using Nemo"
   ]
  },
  {
   "cell_type": "code",
   "execution_count": 2,
   "id": "c06a29c8-7a01-4748-828d-703dc8964ff4",
   "metadata": {},
   "outputs": [
    {
     "name": "stdout",
     "output_type": "stream",
     "text": [
      "1//93326215443944152681699238856266700490715968264381621468592963895217599993229915608941463976156518286253697920827223758251185210916864000000000000000000000000\n",
      "Rational{BigInt}\n",
      "93326215443944152681699238856266700490715968264381621468592963895217599993229915608941463976156518286253697920827223758251185210916864000000000000000000000000\n",
      "IF100 = 1//93326215443944152681699238856266700490715968264381621468592963895217599993229915608941463976156518286253697920827223758251185210916864000000000000000000000000\n",
      "4611686018892667708\n"
     ]
    }
   ],
   "source": [
    "using Nemo\n",
    "\n",
    "function inv_fact(n)\n",
    "    R=big(1)//1\n",
    "    for i in 1:n\n",
    "        R*=1//i #produit ds fmpq\n",
    "    end\n",
    "    return R\n",
    "end\n",
    "\n",
    "IF100=inv_fact(100)\n",
    "println(IF100) #OK\n",
    "println(typeof(IF100)) #OK\n",
    "println(IF100.den) #OK\n",
    "IF100=QQ(IF100)\n",
    "@show IF100 #OK\n",
    "println(IF100.den) #WRONG !"
   ]
  },
  {
   "cell_type": "code",
   "execution_count": 3,
   "id": "a301e914-3401-4b15-b4a7-b492940f3cb0",
   "metadata": {},
   "outputs": [
    {
     "name": "stdout",
     "output_type": "stream",
     "text": [
      "fmpq\n",
      "  num: Int64 1\n",
      "  den: Int64 4611686018892667708\n"
     ]
    }
   ],
   "source": [
    "dump(IF100)"
   ]
  },
  {
   "cell_type": "markdown",
   "id": "e866c88a-a8b2-48b1-be15-eeb0559a777e",
   "metadata": {},
   "source": [
    "Base.show_default(stdout, IF100)"
   ]
  },
  {
   "cell_type": "markdown",
   "id": "6fb1b8c2-4c39-4d51-8e44-4f5f38f52011",
   "metadata": {},
   "source": [
    "https://discourse.julialang.org/t/can-i-disable-overloaded-base-show-and-print-the-raw-form-of-an-object/68286/5"
   ]
  },
  {
   "cell_type": "code",
   "execution_count": null,
   "id": "872cf9f8-f1f3-4acc-9f7c-94a9b8c06078",
   "metadata": {},
   "outputs": [],
   "source": []
  }
 ],
 "metadata": {
  "kernelspec": {
   "display_name": "Julia 1.6.2",
   "language": "julia",
   "name": "julia-1.6"
  },
  "language_info": {
   "file_extension": ".jl",
   "mimetype": "application/julia",
   "name": "julia",
   "version": "1.6.2"
  }
 },
 "nbformat": 4,
 "nbformat_minor": 5
}
