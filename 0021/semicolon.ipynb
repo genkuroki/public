{
 "cells": [
  {
   "cell_type": "code",
   "execution_count": 1,
   "id": "526808d4-b9d3-4a18-8035-098a1fe3f997",
   "metadata": {},
   "outputs": [
    {
     "data": {
      "text/plain": [
       "f (generic function with 1 method)"
      ]
     },
     "execution_count": 1,
     "metadata": {},
     "output_type": "execute_result"
    }
   ],
   "source": [
    "f(x; a = 2, b = 5) = a*x + b"
   ]
  },
  {
   "cell_type": "code",
   "execution_count": 2,
   "id": "b0683e1b-948e-4791-ab32-0b478e6f16fc",
   "metadata": {},
   "outputs": [
    {
     "data": {
      "text/plain": [
       "(-3, 10)"
      ]
     },
     "execution_count": 2,
     "metadata": {},
     "output_type": "execute_result"
    }
   ],
   "source": [
    "a, b = -3, 10"
   ]
  },
  {
   "cell_type": "code",
   "execution_count": 3,
   "id": "09baf5f8-bf19-4468-ac55-dadc9d4ccd45",
   "metadata": {},
   "outputs": [
    {
     "data": {
      "text/plain": [
       "4"
      ]
     },
     "execution_count": 3,
     "metadata": {},
     "output_type": "execute_result"
    }
   ],
   "source": [
    "f(2, a = a, b = b)"
   ]
  },
  {
   "cell_type": "code",
   "execution_count": 4,
   "id": "fc971d1d-5ac1-47c4-b69e-8e15515a9789",
   "metadata": {},
   "outputs": [
    {
     "data": {
      "text/plain": [
       "4"
      ]
     },
     "execution_count": 4,
     "metadata": {},
     "output_type": "execute_result"
    }
   ],
   "source": [
    "f(2; a = a, b = b)"
   ]
  },
  {
   "cell_type": "code",
   "execution_count": 5,
   "id": "2110b91a-fd6b-4afc-925a-b2c63bc56d5f",
   "metadata": {},
   "outputs": [
    {
     "data": {
      "text/plain": [
       "4"
      ]
     },
     "execution_count": 5,
     "metadata": {},
     "output_type": "execute_result"
    }
   ],
   "source": [
    "f(2; a, b)"
   ]
  },
  {
   "cell_type": "code",
   "execution_count": null,
   "id": "6513be05-dd2c-403a-b231-cee509dd5f36",
   "metadata": {},
   "outputs": [],
   "source": []
  }
 ],
 "metadata": {
  "kernelspec": {
   "display_name": "Julia 1.6.2",
   "language": "julia",
   "name": "julia-1.6"
  },
  "language_info": {
   "file_extension": ".jl",
   "mimetype": "application/julia",
   "name": "julia",
   "version": "1.6.2"
  }
 },
 "nbformat": 4,
 "nbformat_minor": 5
}
