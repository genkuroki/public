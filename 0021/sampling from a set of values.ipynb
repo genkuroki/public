{
 "cells": [
  {
   "cell_type": "code",
   "execution_count": 1,
   "id": "20179d1d-c50d-414b-a985-31a4fd5b28b8",
   "metadata": {},
   "outputs": [
    {
     "data": {
      "text/plain": [
       "5"
      ]
     },
     "execution_count": 1,
     "metadata": {},
     "output_type": "execute_result"
    }
   ],
   "source": [
    "using StatsBase\n",
    "\n",
    "sample([2, 3, 5], ProbabilityWeights([0.2, 0.3, 0.5]))"
   ]
  },
  {
   "cell_type": "code",
   "execution_count": 2,
   "id": "a2d88628-4f3f-437d-adb1-e5032517948c",
   "metadata": {},
   "outputs": [
    {
     "data": {
      "text/plain": [
       "3-element Vector{Tuple{Int64, Float64}}:\n",
       " (2, 0.199735)\n",
       " (3, 0.299381)\n",
       " (5, 0.500884)"
      ]
     },
     "execution_count": 2,
     "metadata": {},
     "output_type": "execute_result"
    }
   ],
   "source": [
    "using StatsBase\n",
    "\n",
    "a = sample([2, 3, 5], ProbabilityWeights([0.2, 0.3, 0.5]), 10^6)\n",
    "[(x, count(==(x), a)/length(a)) for x in sort(unique(a))]"
   ]
  },
  {
   "cell_type": "code",
   "execution_count": 3,
   "id": "b914ca34-87dc-40d6-91c2-8aa55fa92446",
   "metadata": {},
   "outputs": [
    {
     "name": "stdout",
     "output_type": "stream",
     "text": [
      "search: \u001b[0m\u001b[1ms\u001b[22m\u001b[0m\u001b[1ma\u001b[22m\u001b[0m\u001b[1mm\u001b[22m\u001b[0m\u001b[1mp\u001b[22m\u001b[0m\u001b[1ml\u001b[22m\u001b[0m\u001b[1me\u001b[22m \u001b[0m\u001b[1ms\u001b[22m\u001b[0m\u001b[1ma\u001b[22m\u001b[0m\u001b[1mm\u001b[22m\u001b[0m\u001b[1mp\u001b[22m\u001b[0m\u001b[1ml\u001b[22m\u001b[0m\u001b[1me\u001b[22m! \u001b[0m\u001b[1ms\u001b[22m\u001b[0m\u001b[1ma\u001b[22m\u001b[0m\u001b[1mm\u001b[22m\u001b[0m\u001b[1mp\u001b[22m\u001b[0m\u001b[1ml\u001b[22m\u001b[0m\u001b[1me\u001b[22mpair w\u001b[0m\u001b[1ms\u001b[22m\u001b[0m\u001b[1ma\u001b[22m\u001b[0m\u001b[1mm\u001b[22m\u001b[0m\u001b[1mp\u001b[22m\u001b[0m\u001b[1ml\u001b[22m\u001b[0m\u001b[1me\u001b[22m w\u001b[0m\u001b[1ms\u001b[22m\u001b[0m\u001b[1ma\u001b[22m\u001b[0m\u001b[1mm\u001b[22m\u001b[0m\u001b[1mp\u001b[22m\u001b[0m\u001b[1ml\u001b[22m\u001b[0m\u001b[1me\u001b[22m!\n",
      "\n"
     ]
    },
    {
     "data": {
      "text/latex": [
       "\\begin{verbatim}\n",
       "sample([rng], a, [wv::AbstractWeights])\n",
       "\\end{verbatim}\n",
       "Select a single random element of \\texttt{a}. Sampling probabilities are proportional to the weights given in \\texttt{wv}, if provided.\n",
       "\n",
       "Optionally specify a random number generator \\texttt{rng} as the first argument (defaults to \\texttt{Random.GLOBAL\\_RNG}).\n",
       "\n",
       "\\rule{\\textwidth}{1pt}\n",
       "\\begin{verbatim}\n",
       "sample([rng], a, [wv::AbstractWeights], n::Integer; replace=true, ordered=false)\n",
       "\\end{verbatim}\n",
       "Select a random, optionally weighted sample of size \\texttt{n} from an array \\texttt{a} using a polyalgorithm. Sampling probabilities are proportional to the weights given in \\texttt{wv}, if provided. \\texttt{replace} dictates whether sampling is performed with replacement. \\texttt{ordered} dictates whether an ordered sample (also called a sequential sample, i.e. a sample where items appear in the same order as in \\texttt{a}) should be taken.\n",
       "\n",
       "Optionally specify a random number generator \\texttt{rng} as the first argument (defaults to \\texttt{Random.GLOBAL\\_RNG}).\n",
       "\n",
       "\\rule{\\textwidth}{1pt}\n",
       "\\begin{verbatim}\n",
       "sample([rng], a, [wv::AbstractWeights], dims::Dims; replace=true, ordered=false)\n",
       "\\end{verbatim}\n",
       "Select a random, optionally weighted sample from an array \\texttt{a} specifying the dimensions \\texttt{dims} of the output array. Sampling probabilities are proportional to the weights given in \\texttt{wv}, if provided. \\texttt{replace} dictates whether sampling is performed with replacement. \\texttt{ordered} dictates whether an ordered sample (also called a sequential sample, i.e. a sample where items appear in the same order as in \\texttt{a}) should be taken.\n",
       "\n",
       "Optionally specify a random number generator \\texttt{rng} as the first argument (defaults to \\texttt{Random.GLOBAL\\_RNG}).\n",
       "\n",
       "\\rule{\\textwidth}{1pt}\n",
       "\\begin{verbatim}\n",
       "sample([rng], wv::AbstractWeights)\n",
       "\\end{verbatim}\n",
       "Select a single random integer in \\texttt{1:length(wv)} with probabilities proportional to the weights given in \\texttt{wv}.\n",
       "\n",
       "Optionally specify a random number generator \\texttt{rng} as the first argument (defaults to \\texttt{Random.GLOBAL\\_RNG}).\n",
       "\n"
      ],
      "text/markdown": [
       "```\n",
       "sample([rng], a, [wv::AbstractWeights])\n",
       "```\n",
       "\n",
       "Select a single random element of `a`. Sampling probabilities are proportional to the weights given in `wv`, if provided.\n",
       "\n",
       "Optionally specify a random number generator `rng` as the first argument (defaults to `Random.GLOBAL_RNG`).\n",
       "\n",
       "---\n",
       "\n",
       "```\n",
       "sample([rng], a, [wv::AbstractWeights], n::Integer; replace=true, ordered=false)\n",
       "```\n",
       "\n",
       "Select a random, optionally weighted sample of size `n` from an array `a` using a polyalgorithm. Sampling probabilities are proportional to the weights given in `wv`, if provided. `replace` dictates whether sampling is performed with replacement. `ordered` dictates whether an ordered sample (also called a sequential sample, i.e. a sample where items appear in the same order as in `a`) should be taken.\n",
       "\n",
       "Optionally specify a random number generator `rng` as the first argument (defaults to `Random.GLOBAL_RNG`).\n",
       "\n",
       "---\n",
       "\n",
       "```\n",
       "sample([rng], a, [wv::AbstractWeights], dims::Dims; replace=true, ordered=false)\n",
       "```\n",
       "\n",
       "Select a random, optionally weighted sample from an array `a` specifying the dimensions `dims` of the output array. Sampling probabilities are proportional to the weights given in `wv`, if provided. `replace` dictates whether sampling is performed with replacement. `ordered` dictates whether an ordered sample (also called a sequential sample, i.e. a sample where items appear in the same order as in `a`) should be taken.\n",
       "\n",
       "Optionally specify a random number generator `rng` as the first argument (defaults to `Random.GLOBAL_RNG`).\n",
       "\n",
       "---\n",
       "\n",
       "```\n",
       "sample([rng], wv::AbstractWeights)\n",
       "```\n",
       "\n",
       "Select a single random integer in `1:length(wv)` with probabilities proportional to the weights given in `wv`.\n",
       "\n",
       "Optionally specify a random number generator `rng` as the first argument (defaults to `Random.GLOBAL_RNG`).\n"
      ],
      "text/plain": [
       "\u001b[36m  sample([rng], a, [wv::AbstractWeights])\u001b[39m\n",
       "\n",
       "  Select a single random element of \u001b[36ma\u001b[39m. Sampling probabilities are proportional\n",
       "  to the weights given in \u001b[36mwv\u001b[39m, if provided.\n",
       "\n",
       "  Optionally specify a random number generator \u001b[36mrng\u001b[39m as the first argument\n",
       "  (defaults to \u001b[36mRandom.GLOBAL_RNG\u001b[39m).\n",
       "\n",
       "  ────────────────────────────────────────────────────────────────────────────\n",
       "\n",
       "\u001b[36m  sample([rng], a, [wv::AbstractWeights], n::Integer; replace=true, ordered=false)\u001b[39m\n",
       "\n",
       "  Select a random, optionally weighted sample of size \u001b[36mn\u001b[39m from an array \u001b[36ma\u001b[39m using\n",
       "  a polyalgorithm. Sampling probabilities are proportional to the weights\n",
       "  given in \u001b[36mwv\u001b[39m, if provided. \u001b[36mreplace\u001b[39m dictates whether sampling is performed\n",
       "  with replacement. \u001b[36mordered\u001b[39m dictates whether an ordered sample (also called a\n",
       "  sequential sample, i.e. a sample where items appear in the same order as in\n",
       "  \u001b[36ma\u001b[39m) should be taken.\n",
       "\n",
       "  Optionally specify a random number generator \u001b[36mrng\u001b[39m as the first argument\n",
       "  (defaults to \u001b[36mRandom.GLOBAL_RNG\u001b[39m).\n",
       "\n",
       "  ────────────────────────────────────────────────────────────────────────────\n",
       "\n",
       "\u001b[36m  sample([rng], a, [wv::AbstractWeights], dims::Dims; replace=true, ordered=false)\u001b[39m\n",
       "\n",
       "  Select a random, optionally weighted sample from an array \u001b[36ma\u001b[39m specifying the\n",
       "  dimensions \u001b[36mdims\u001b[39m of the output array. Sampling probabilities are proportional\n",
       "  to the weights given in \u001b[36mwv\u001b[39m, if provided. \u001b[36mreplace\u001b[39m dictates whether sampling\n",
       "  is performed with replacement. \u001b[36mordered\u001b[39m dictates whether an ordered sample\n",
       "  (also called a sequential sample, i.e. a sample where items appear in the\n",
       "  same order as in \u001b[36ma\u001b[39m) should be taken.\n",
       "\n",
       "  Optionally specify a random number generator \u001b[36mrng\u001b[39m as the first argument\n",
       "  (defaults to \u001b[36mRandom.GLOBAL_RNG\u001b[39m).\n",
       "\n",
       "  ────────────────────────────────────────────────────────────────────────────\n",
       "\n",
       "\u001b[36m  sample([rng], wv::AbstractWeights)\u001b[39m\n",
       "\n",
       "  Select a single random integer in \u001b[36m1:length(wv)\u001b[39m with probabilities\n",
       "  proportional to the weights given in \u001b[36mwv\u001b[39m.\n",
       "\n",
       "  Optionally specify a random number generator \u001b[36mrng\u001b[39m as the first argument\n",
       "  (defaults to \u001b[36mRandom.GLOBAL_RNG\u001b[39m)."
      ]
     },
     "execution_count": 3,
     "metadata": {},
     "output_type": "execute_result"
    }
   ],
   "source": [
    "?sample"
   ]
  },
  {
   "cell_type": "code",
   "execution_count": 4,
   "id": "cefdb864-147f-4592-8727-de297ffcbbbd",
   "metadata": {},
   "outputs": [
    {
     "data": {
      "text/plain": [
       "2"
      ]
     },
     "execution_count": 4,
     "metadata": {},
     "output_type": "execute_result"
    }
   ],
   "source": [
    "using Distributions\n",
    "\n",
    "rand(DiscreteNonParametric([2, 3, 5], [0.2, 0.3, 0.5]))"
   ]
  },
  {
   "cell_type": "code",
   "execution_count": 5,
   "id": "e5bda530-ef7f-4d44-97ca-3f039e42dbea",
   "metadata": {},
   "outputs": [
    {
     "data": {
      "text/plain": [
       "3-element Vector{Tuple{Int64, Float64}}:\n",
       " (2, 0.200463)\n",
       " (3, 0.300786)\n",
       " (5, 0.498751)"
      ]
     },
     "execution_count": 5,
     "metadata": {},
     "output_type": "execute_result"
    }
   ],
   "source": [
    "using Distributions\n",
    "\n",
    "a = rand(DiscreteNonParametric([2, 3, 5], [0.2, 0.3, 0.5]), 10^6)\n",
    "[(x, count(==(x), a)/length(a)) for x in sort(unique(a))]"
   ]
  },
  {
   "cell_type": "code",
   "execution_count": 6,
   "id": "06c11958-8ba5-4c92-8247-0fb6ce51922d",
   "metadata": {},
   "outputs": [
    {
     "name": "stdout",
     "output_type": "stream",
     "text": [
      "search: \u001b[0m\u001b[1mD\u001b[22m\u001b[0m\u001b[1mi\u001b[22m\u001b[0m\u001b[1ms\u001b[22m\u001b[0m\u001b[1mc\u001b[22m\u001b[0m\u001b[1mr\u001b[22m\u001b[0m\u001b[1me\u001b[22m\u001b[0m\u001b[1mt\u001b[22m\u001b[0m\u001b[1me\u001b[22m\u001b[0m\u001b[1mN\u001b[22m\u001b[0m\u001b[1mo\u001b[22m\u001b[0m\u001b[1mn\u001b[22m\u001b[0m\u001b[1mP\u001b[22m\u001b[0m\u001b[1ma\u001b[22m\u001b[0m\u001b[1mr\u001b[22m\u001b[0m\u001b[1ma\u001b[22m\u001b[0m\u001b[1mm\u001b[22m\u001b[0m\u001b[1me\u001b[22m\u001b[0m\u001b[1mt\u001b[22m\u001b[0m\u001b[1mr\u001b[22m\u001b[0m\u001b[1mi\u001b[22m\u001b[0m\u001b[1mc\u001b[22m\n",
      "\n"
     ]
    },
    {
     "data": {
      "text/latex": [
       "\\begin{verbatim}\n",
       "DiscreteNonParametric(xs, ps)\n",
       "\\end{verbatim}\n",
       "A \\emph{Discrete nonparametric distribution} explicitly defines an arbitrary probability mass function in terms of a list of real support values and their corresponding probabilities\n",
       "\n",
       "\\begin{verbatim}\n",
       "d = DiscreteNonParametric(xs, ps)\n",
       "\n",
       "params(d)  # Get the parameters, i.e. (xs, ps)\n",
       "support(d) # Get a sorted AbstractVector describing the support (xs) of the distribution\n",
       "probs(d)   # Get a Vector of the probabilities (ps) associated with the support\n",
       "\\end{verbatim}\n",
       "External links\n",
       "\n",
       "\\begin{itemize}\n",
       "\\item \\href{http://en.wikipedia.org/wiki/Probability_mass_function}{Probability mass function on Wikipedia}\n",
       "\n",
       "\\end{itemize}\n"
      ],
      "text/markdown": [
       "```\n",
       "DiscreteNonParametric(xs, ps)\n",
       "```\n",
       "\n",
       "A *Discrete nonparametric distribution* explicitly defines an arbitrary probability mass function in terms of a list of real support values and their corresponding probabilities\n",
       "\n",
       "```julia\n",
       "d = DiscreteNonParametric(xs, ps)\n",
       "\n",
       "params(d)  # Get the parameters, i.e. (xs, ps)\n",
       "support(d) # Get a sorted AbstractVector describing the support (xs) of the distribution\n",
       "probs(d)   # Get a Vector of the probabilities (ps) associated with the support\n",
       "```\n",
       "\n",
       "External links\n",
       "\n",
       "  * [Probability mass function on Wikipedia](http://en.wikipedia.org/wiki/Probability_mass_function)\n"
      ],
      "text/plain": [
       "\u001b[36m  DiscreteNonParametric(xs, ps)\u001b[39m\n",
       "\n",
       "  A \u001b[4mDiscrete nonparametric distribution\u001b[24m explicitly defines an arbitrary\n",
       "  probability mass function in terms of a list of real support values and\n",
       "  their corresponding probabilities\n",
       "\n",
       "\u001b[36m  d = DiscreteNonParametric(xs, ps)\u001b[39m\n",
       "\u001b[36m  \u001b[39m\n",
       "\u001b[36m  params(d)  # Get the parameters, i.e. (xs, ps)\u001b[39m\n",
       "\u001b[36m  support(d) # Get a sorted AbstractVector describing the support (xs) of the distribution\u001b[39m\n",
       "\u001b[36m  probs(d)   # Get a Vector of the probabilities (ps) associated with the support\u001b[39m\n",
       "\n",
       "  External links\n",
       "\n",
       "    •  Probability mass function on Wikipedia\n",
       "       (http://en.wikipedia.org/wiki/Probability_mass_function)"
      ]
     },
     "execution_count": 6,
     "metadata": {},
     "output_type": "execute_result"
    }
   ],
   "source": [
    "?DiscreteNonParametric"
   ]
  },
  {
   "cell_type": "code",
   "execution_count": null,
   "id": "6372d402-c877-4d97-9c4b-23d4d18a7185",
   "metadata": {},
   "outputs": [],
   "source": []
  }
 ],
 "metadata": {
  "jupytext": {
   "formats": "ipynb,auto:hydrogen"
  },
  "kernelspec": {
   "display_name": "Julia 1.6.2",
   "language": "julia",
   "name": "julia-1.6"
  },
  "language_info": {
   "file_extension": ".jl",
   "mimetype": "application/julia",
   "name": "julia",
   "version": "1.6.2"
  }
 },
 "nbformat": 4,
 "nbformat_minor": 5
}
