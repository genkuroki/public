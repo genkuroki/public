{
 "cells": [
  {
   "cell_type": "code",
   "execution_count": 1,
   "id": "7968026f-4c63-4997-9146-88bf1592a83b",
   "metadata": {},
   "outputs": [],
   "source": [
    "using SpecialFunctions"
   ]
  },
  {
   "cell_type": "code",
   "execution_count": 2,
   "id": "589fb381-7493-49d7-b53d-884e1d98c1f3",
   "metadata": {},
   "outputs": [
    {
     "data": {
      "text/plain": [
       "4.992508740634694e-9"
      ]
     },
     "execution_count": 2,
     "metadata": {},
     "output_type": "execute_result"
    }
   ],
   "source": [
    "beta(10, 20)"
   ]
  },
  {
   "cell_type": "code",
   "execution_count": 3,
   "id": "44e75596-d55f-4e7c-9414-2d2d8dd666dc",
   "metadata": {},
   "outputs": [
    {
     "data": {
      "text/plain": [
       "4.992508740634678e-9"
      ]
     },
     "execution_count": 3,
     "metadata": {},
     "output_type": "execute_result"
    }
   ],
   "source": [
    "gamma(10)gamma(20)/gamma(30)"
   ]
  },
  {
   "cell_type": "code",
   "execution_count": 4,
   "id": "9afaec54-ac00-47bf-bf08-b6cf776b7250",
   "metadata": {},
   "outputs": [
    {
     "data": {
      "text/plain": [
       "6.926873882071902e-51"
      ]
     },
     "execution_count": 4,
     "metadata": {},
     "output_type": "execute_result"
    }
   ],
   "source": [
    "beta(60, 120)"
   ]
  },
  {
   "cell_type": "code",
   "execution_count": 5,
   "id": "1632c8e5-4ecd-4835-b76e-248ede6f5934",
   "metadata": {},
   "outputs": [
    {
     "data": {
      "text/plain": [
       "0.0"
      ]
     },
     "execution_count": 5,
     "metadata": {},
     "output_type": "execute_result"
    }
   ],
   "source": [
    "gamma(60)gamma(120)/gamma(180)"
   ]
  },
  {
   "cell_type": "code",
   "execution_count": 6,
   "id": "7473b5e2-b923-4bee-893d-43589091a532",
   "metadata": {},
   "outputs": [
    {
     "data": {
      "text/plain": [
       "3.6072854497946974e-84"
      ]
     },
     "execution_count": 6,
     "metadata": {},
     "output_type": "execute_result"
    }
   ],
   "source": [
    "beta(100, 200)"
   ]
  },
  {
   "cell_type": "code",
   "execution_count": 7,
   "id": "e7b20b3f-2cb7-4df7-92da-2a50b243209d",
   "metadata": {},
   "outputs": [
    {
     "data": {
      "text/plain": [
       "NaN"
      ]
     },
     "execution_count": 7,
     "metadata": {},
     "output_type": "execute_result"
    }
   ],
   "source": [
    "gamma(100)gamma(200)/gamma(300)"
   ]
  },
  {
   "cell_type": "code",
   "execution_count": 8,
   "id": "11806c85-0385-4037-8f00-a9b90a750759",
   "metadata": {},
   "outputs": [
    {
     "data": {
      "text/plain": [
       "0.0"
      ]
     },
     "execution_count": 8,
     "metadata": {},
     "output_type": "execute_result"
    }
   ],
   "source": [
    "beta(1000, 2000)"
   ]
  },
  {
   "cell_type": "code",
   "execution_count": 9,
   "id": "6b492c82-d68d-4289-bb37-24764c7318da",
   "metadata": {},
   "outputs": [
    {
     "data": {
      "text/plain": [
       "-1911.8746142144519"
      ]
     },
     "execution_count": 9,
     "metadata": {},
     "output_type": "execute_result"
    }
   ],
   "source": [
    "logbeta(1000, 2000)"
   ]
  },
  {
   "cell_type": "code",
   "execution_count": 10,
   "id": "d5243c00-66af-4b63-bbba-1fe8eefd0b38",
   "metadata": {},
   "outputs": [
    {
     "data": {
      "text/plain": [
       "-1911.8746142144519"
      ]
     },
     "execution_count": 10,
     "metadata": {},
     "output_type": "execute_result"
    }
   ],
   "source": [
    "loggamma(1000) + loggamma(2000) - loggamma(3000)"
   ]
  },
  {
   "cell_type": "code",
   "execution_count": null,
   "id": "1dba99d3-2d5c-4f38-8b2f-658bfc876f1a",
   "metadata": {},
   "outputs": [],
   "source": []
  }
 ],
 "metadata": {
  "kernelspec": {
   "display_name": "Julia 1.6.2",
   "language": "julia",
   "name": "julia-1.6"
  },
  "language_info": {
   "file_extension": ".jl",
   "mimetype": "application/julia",
   "name": "julia",
   "version": "1.6.2"
  }
 },
 "nbformat": 4,
 "nbformat_minor": 5
}
