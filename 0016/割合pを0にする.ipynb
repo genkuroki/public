{
 "cells": [
  {
   "cell_type": "code",
   "execution_count": 1,
   "id": "7d274a9f-99eb-4064-8784-bae4e60d23e1",
   "metadata": {},
   "outputs": [
    {
     "data": {
      "text/plain": [
       "4×6 Matrix{Int64}:\n",
       " 1  5   9  13  17  21\n",
       " 2  6  10  14  18  22\n",
       " 3  7  11  15  19  23\n",
       " 4  8  12  16  20  24"
      ]
     },
     "execution_count": 1,
     "metadata": {},
     "output_type": "execute_result"
    }
   ],
   "source": [
    "A = collect(reshape(1:24, 4, 6))"
   ]
  },
  {
   "cell_type": "code",
   "execution_count": 2,
   "id": "7aaa31ba-0c2e-44d8-8505-231e0d490e57",
   "metadata": {},
   "outputs": [
    {
     "data": {
      "text/plain": [
       "4×6 Matrix{Int64}:\n",
       " 1  5   9  13  17  21\n",
       " 0  6  10  14   0  22\n",
       " 3  0  11  15   0  23\n",
       " 4  8  12  16   0  24"
      ]
     },
     "execution_count": 2,
     "metadata": {},
     "output_type": "execute_result"
    }
   ],
   "source": [
    "f(x, p) = rand() ≤ p ? zero(x) : x\n",
    "B = f.(A, 0.25)"
   ]
  },
  {
   "cell_type": "code",
   "execution_count": 3,
   "id": "0f50ca86-b555-4316-9562-2e92cca0f993",
   "metadata": {},
   "outputs": [
    {
     "data": {
      "text/plain": [
       "4×6 Matrix{Int64}:\n",
       " 0  5   9  13  17  21\n",
       " 2  6  10  14  18  22\n",
       " 3  0   0  15   0  23\n",
       " 0  8   0  16  20  24"
      ]
     },
     "execution_count": 3,
     "metadata": {},
     "output_type": "execute_result"
    }
   ],
   "source": [
    "using StatsBase\n",
    "g!(X, p) = (A[sample(keys(A), round(Int, p*length(A)); replace=false)] .= 0; A)\n",
    "g!(copy(A), 0.25)"
   ]
  },
  {
   "cell_type": "code",
   "execution_count": null,
   "id": "88b68413-af99-4f60-9a94-555f1a1e9da5",
   "metadata": {},
   "outputs": [],
   "source": []
  }
 ],
 "metadata": {
  "jupytext": {
   "formats": "ipynb,auto:hydrogen"
  },
  "kernelspec": {
   "display_name": "Julia 1.8.0-DEV",
   "language": "julia",
   "name": "julia-1.8"
  },
  "language_info": {
   "file_extension": ".jl",
   "mimetype": "application/julia",
   "name": "julia",
   "version": "1.8.0"
  }
 },
 "nbformat": 4,
 "nbformat_minor": 5
}
