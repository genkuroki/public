{
 "cells": [
  {
   "cell_type": "code",
   "execution_count": 1,
   "id": "2901b24e-6523-4c75-acc8-50bd402a8020",
   "metadata": {},
   "outputs": [
    {
     "name": "stdout",
     "output_type": "stream",
     "text": [
      "  2.588 ms (120571 allocations: 2.15 MiB)\n",
      "  2.571 ms (120571 allocations: 2.15 MiB)\n",
      "  4.219 ms (220571 allocations: 3.67 MiB)\n"
     ]
    }
   ],
   "source": [
    "using BenchmarkTools\n",
    "\n",
    "struct Thing\n",
    "    somevalue::Int\n",
    "end\n",
    "\n",
    "things = [Thing(rand(1:5)) for _ = 1:100000]\n",
    "\n",
    "threes_getprop = Iterators.filter(a -> getproperty(a, :somevalue) === 3, things)\n",
    "threes_prop = Iterators.filter(a -> a.somevalue === 3, things)\n",
    "\n",
    "conditional_property_iterator(iterable, property::Symbol, value) = Iterators.filter(a -> getproperty(a, property) === value, iterable)\n",
    "threes_cond = conditional_property_iterator(things, :somevalue, 3)\n",
    "\n",
    "function test_threes_getproperty()\n",
    "    for i in threes_getprop\n",
    "        i.somevalue + rand(Int)\n",
    "    end\n",
    "end\n",
    "\n",
    "function test_threes_prop()\n",
    "    for i in threes_prop\n",
    "        i.somevalue + rand(Int)\n",
    "    end\n",
    "end\n",
    "\n",
    "function test_threes_cond()\n",
    "    for i in threes_cond\n",
    "        i.somevalue + rand(Int)\n",
    "    end\n",
    "end\n",
    "\n",
    "@btime test_threes_getproperty()\n",
    "@btime test_threes_prop()\n",
    "@btime test_threes_cond()"
   ]
  },
  {
   "cell_type": "code",
   "execution_count": 14,
   "id": "c3d40437-ed96-4902-9b8e-be95c5ea1f69",
   "metadata": {},
   "outputs": [
    {
     "name": "stdout",
     "output_type": "stream",
     "text": [
      "  174.300 μs (0 allocations: 0 bytes)\n",
      "  169.700 μs (0 allocations: 0 bytes)\n",
      "  1.650 ms (100000 allocations: 1.53 MiB)\n"
     ]
    }
   ],
   "source": [
    "function test_threes(threes_itr)\n",
    "    for i in threes_itr\n",
    "        i.somevalue + rand(Int)\n",
    "    end\n",
    "end\n",
    "\n",
    "@btime test_threes($threes_getprop)\n",
    "@btime test_threes($threes_prop)\n",
    "@btime test_threes($threes_cond)"
   ]
  },
  {
   "cell_type": "code",
   "execution_count": 15,
   "id": "92a9177c-5921-4ed0-ae3f-5bb781a1eeaf",
   "metadata": {},
   "outputs": [
    {
     "data": {
      "text/plain": [
       "Base.Iterators.Filter{ComposedFunction{Base.Fix2{typeof(===), Int64}, Base.Fix2{typeof(getproperty), Symbol}}, Vector{Thing}}(Base.Fix2{typeof(===), Int64}(===, 3) ∘ Base.Fix2{typeof(getproperty), Symbol}(getproperty, :somevalue), Thing[Thing(3), Thing(3), Thing(1), Thing(4), Thing(1), Thing(1), Thing(3), Thing(3), Thing(3), Thing(2)  …  Thing(4), Thing(1), Thing(4), Thing(4), Thing(2), Thing(1), Thing(2), Thing(5), Thing(3), Thing(1)])"
      ]
     },
     "execution_count": 15,
     "metadata": {},
     "output_type": "execute_result"
    }
   ],
   "source": [
    "conditional_property_iterator2(iterable, property, value) = Iterators.filter(Base.Fix2(===, value)∘Base.Fix2(getproperty, property), iterable)\n",
    "threes_cond2 = conditional_property_iterator2(things, :somevalue, 3)"
   ]
  },
  {
   "cell_type": "code",
   "execution_count": 16,
   "id": "45de195d-ccf6-441e-9c48-7a2b2b60fb05",
   "metadata": {},
   "outputs": [
    {
     "name": "stdout",
     "output_type": "stream",
     "text": [
      "  1.652 ms (100000 allocations: 1.53 MiB)\n"
     ]
    }
   ],
   "source": [
    "@btime test_threes($threes_cond2)"
   ]
  },
  {
   "cell_type": "code",
   "execution_count": 22,
   "id": "edd547ca-bf27-4f78-b101-001d544c646f",
   "metadata": {},
   "outputs": [
    {
     "name": "stdout",
     "output_type": "stream",
     "text": [
      "  288.900 μs (9 allocations: 326.55 KiB)\n",
      "  293.100 μs (9 allocations: 326.55 KiB)\n",
      "  1.759 ms (100009 allocations: 1.84 MiB)\n"
     ]
    },
    {
     "data": {
      "text/plain": [
       "20112-element Vector{Thing}:\n",
       " Thing(3)\n",
       " Thing(3)\n",
       " Thing(3)\n",
       " Thing(3)\n",
       " Thing(3)\n",
       " Thing(3)\n",
       " Thing(3)\n",
       " Thing(3)\n",
       " Thing(3)\n",
       " Thing(3)\n",
       " Thing(3)\n",
       " Thing(3)\n",
       " Thing(3)\n",
       " ⋮\n",
       " Thing(3)\n",
       " Thing(3)\n",
       " Thing(3)\n",
       " Thing(3)\n",
       " Thing(3)\n",
       " Thing(3)\n",
       " Thing(3)\n",
       " Thing(3)\n",
       " Thing(3)\n",
       " Thing(3)\n",
       " Thing(3)\n",
       " Thing(3)"
      ]
     },
     "execution_count": 22,
     "metadata": {},
     "output_type": "execute_result"
    }
   ],
   "source": [
    "@btime collect($threes_getprop)\n",
    "@btime collect($threes_prop)\n",
    "@btime collect($threes_cond)"
   ]
  },
  {
   "cell_type": "code",
   "execution_count": 23,
   "id": "c7db8a0d-d4c7-41b6-8bce-67819136554c",
   "metadata": {},
   "outputs": [
    {
     "name": "stdout",
     "output_type": "stream",
     "text": [
      "MethodInstance for collect(::\u001b[0mBase.Iterators.Filter{var\"#3#4\", Vector{Thing}})\n",
      "  from collect(itr) in Base at array.jl:694\n",
      "Arguments\n",
      "  #self#\u001b[36m::Core.Const(collect)\u001b[39m\n",
      "  itr\u001b[36m::Base.Iterators.Filter{var\"#3#4\", Vector{Thing}}\u001b[39m\n",
      "Body\u001b[36m::Vector{Thing}\u001b[39m\n",
      "\u001b[90m1 ─\u001b[39m %1 = (1:1)\u001b[36m::Core.Const(1:1)\u001b[39m\n",
      "\u001b[90m│  \u001b[39m %2 = Base.IteratorEltype(itr)\u001b[36m::Core.Const(Base.HasEltype())\u001b[39m\n",
      "\u001b[90m│  \u001b[39m %3 = Base.IteratorSize(itr)\u001b[36m::Core.Const(Base.SizeUnknown())\u001b[39m\n",
      "\u001b[90m│  \u001b[39m %4 = Base._collect(%1, itr, %2, %3)\u001b[36m::Vector{Thing}\u001b[39m\n",
      "\u001b[90m└──\u001b[39m      return %4\n",
      "\n"
     ]
    }
   ],
   "source": [
    "@code_warntype collect(threes_getprop)"
   ]
  },
  {
   "cell_type": "code",
   "execution_count": 34,
   "id": "72944ac1-37ae-4037-a20a-1149a8027fa7",
   "metadata": {},
   "outputs": [
    {
     "name": "stdout",
     "output_type": "stream",
     "text": [
      "MethodInstance for Base._similar_for(::\u001b[0mUnitRange{Int64}, ::\u001b[0mType{Thing}, ::\u001b[0mBase.Iterators.Filter{var\"#5#6\", Vector{Thing}}, ::\u001b[0mBase.SizeUnknown)\n",
      "  from _similar_for(c::AbstractArray, ::Type{T}, itr, ::Base.SizeUnknown) where T in Base at array.jl:657\n",
      "Static Parameters\n",
      "  T = \u001b[36mThing\u001b[39m\n",
      "Arguments\n",
      "  #self#\u001b[36m::Core.Const(Base._similar_for)\u001b[39m\n",
      "  c\u001b[36m::UnitRange{Int64}\u001b[39m\n",
      "  _\u001b[36m::Core.Const(Thing)\u001b[39m\n",
      "  itr\u001b[36m::Base.Iterators.Filter{var\"#5#6\", Vector{Thing}}\u001b[39m\n",
      "  _\u001b[36m::Core.Const(Base.SizeUnknown())\u001b[39m\n",
      "Body\u001b[36m::Vector{Thing}\u001b[39m\n",
      "\u001b[90m1 ─\u001b[39m %1 = Base.similar(c, $(Expr(:static_parameter, 1)), 0)\u001b[36m::Vector{Thing}\u001b[39m\n",
      "\u001b[90m└──\u001b[39m      return %1\n",
      "\n"
     ]
    }
   ],
   "source": [
    "@code_warntype Base._similar_for(1:1, Thing, threes_prop, Base.SizeUnknown())"
   ]
  },
  {
   "cell_type": "code",
   "execution_count": 35,
   "id": "af60cb1d-f518-4b40-ac59-e8e582ccfcf1",
   "metadata": {},
   "outputs": [
    {
     "name": "stdout",
     "output_type": "stream",
     "text": [
      "MethodInstance for Base._similar_for(::\u001b[0mUnitRange{Int64}, ::\u001b[0mType{Thing}, ::\u001b[0mBase.Iterators.Filter{var\"#7#8\"{Symbol, Int64}, Vector{Thing}}, ::\u001b[0mBase.SizeUnknown)\n",
      "  from _similar_for(c::AbstractArray, ::Type{T}, itr, ::Base.SizeUnknown) where T in Base at array.jl:657\n",
      "Static Parameters\n",
      "  T = \u001b[36mThing\u001b[39m\n",
      "Arguments\n",
      "  #self#\u001b[36m::Core.Const(Base._similar_for)\u001b[39m\n",
      "  c\u001b[36m::UnitRange{Int64}\u001b[39m\n",
      "  _\u001b[36m::Core.Const(Thing)\u001b[39m\n",
      "  itr\u001b[36m::Base.Iterators.Filter{var\"#7#8\"{Symbol, Int64}, Vector{Thing}}\u001b[39m\n",
      "  _\u001b[36m::Core.Const(Base.SizeUnknown())\u001b[39m\n",
      "Body\u001b[36m::Vector{Thing}\u001b[39m\n",
      "\u001b[90m1 ─\u001b[39m %1 = Base.similar(c, $(Expr(:static_parameter, 1)), 0)\u001b[36m::Vector{Thing}\u001b[39m\n",
      "\u001b[90m└──\u001b[39m      return %1\n",
      "\n"
     ]
    }
   ],
   "source": [
    "@code_warntype Base._similar_for(1:1, Thing, threes_cond, Base.SizeUnknown())"
   ]
  },
  {
   "cell_type": "code",
   "execution_count": 37,
   "id": "d450c71f-b636-4ade-a6ad-5de3807722c9",
   "metadata": {},
   "outputs": [
    {
     "data": {
      "text/plain": [
       "Thing[]"
      ]
     },
     "execution_count": 37,
     "metadata": {},
     "output_type": "execute_result"
    }
   ],
   "source": [
    "Base._similar_for(1:1, Thing, threes_cond, Base.SizeUnknown())"
   ]
  },
  {
   "cell_type": "code",
   "execution_count": 36,
   "id": "377edc23-846a-4962-89a4-28238b110dfa",
   "metadata": {},
   "outputs": [
    {
     "data": {
      "text/plain": [
       "20112-element Vector{Thing}:\n",
       " Thing(3)\n",
       " Thing(3)\n",
       " Thing(3)\n",
       " Thing(3)\n",
       " Thing(3)\n",
       " Thing(3)\n",
       " Thing(3)\n",
       " Thing(3)\n",
       " Thing(3)\n",
       " Thing(3)\n",
       " Thing(3)\n",
       " Thing(3)\n",
       " Thing(3)\n",
       " ⋮\n",
       " Thing(3)\n",
       " Thing(3)\n",
       " Thing(3)\n",
       " Thing(3)\n",
       " Thing(3)\n",
       " Thing(3)\n",
       " Thing(3)\n",
       " Thing(3)\n",
       " Thing(3)\n",
       " Thing(3)\n",
       " Thing(3)\n",
       " Thing(3)"
      ]
     },
     "execution_count": 36,
     "metadata": {},
     "output_type": "execute_result"
    }
   ],
   "source": [
    "Base._collect(1:1, threes_cond, Base.HasEltype(), Base.SizeUnknown())"
   ]
  },
  {
   "cell_type": "code",
   "execution_count": 27,
   "id": "cfc66800-0da6-41ba-8b00-faed1d125232",
   "metadata": {},
   "outputs": [
    {
     "name": "stdout",
     "output_type": "stream",
     "text": [
      "MethodInstance for Base._collect(::\u001b[0mUnitRange{Int64}, ::\u001b[0mBase.Iterators.Filter{var\"#7#8\"{Symbol, Int64}, Vector{Thing}}, ::\u001b[0mBase.HasEltype, ::\u001b[0mBase.SizeUnknown)\n",
      "  from _collect(cont, itr, ::Base.HasEltype, isz::Base.SizeUnknown) in Base at array.jl:703\n",
      "Arguments\n",
      "  #self#\u001b[36m::Core.Const(Base._collect)\u001b[39m\n",
      "  cont\u001b[36m::UnitRange{Int64}\u001b[39m\n",
      "  itr\u001b[36m::Base.Iterators.Filter{var\"#7#8\"{Symbol, Int64}, Vector{Thing}}\u001b[39m\n",
      "  _\u001b[36m::Core.Const(Base.HasEltype())\u001b[39m\n",
      "  isz\u001b[36m::Core.Const(Base.SizeUnknown())\u001b[39m\n",
      "Locals\n",
      "  @_6\u001b[33m\u001b[1m::Union{Nothing, Tuple{Thing, Int64}}\u001b[22m\u001b[39m\n",
      "  a\u001b[36m::Vector{Thing}\u001b[39m\n",
      "  x\u001b[36m::Thing\u001b[39m\n",
      "Body\u001b[36m::Vector{Thing}\u001b[39m\n",
      "\u001b[90m1 ─\u001b[39m %1  = Base.eltype(itr)\u001b[36m::Core.Const(Thing)\u001b[39m\n",
      "\u001b[90m│  \u001b[39m       (a = Base._similar_for(cont, %1, itr, isz))\n",
      "\u001b[90m│  \u001b[39m %3  = itr\u001b[36m::Base.Iterators.Filter{var\"#7#8\"{Symbol, Int64}, Vector{Thing}}\u001b[39m\n",
      "\u001b[90m│  \u001b[39m       (@_6 = Base.iterate(%3))\n",
      "\u001b[90m│  \u001b[39m %5  = (@_6 === nothing)\u001b[36m::Bool\u001b[39m\n",
      "\u001b[90m│  \u001b[39m %6  = Base.not_int(%5)\u001b[36m::Bool\u001b[39m\n",
      "\u001b[90m└──\u001b[39m       goto #4 if not %6\n",
      "\u001b[90m2 ┄\u001b[39m %8  = @_6\u001b[36m::Tuple{Thing, Int64}\u001b[39m\n",
      "\u001b[90m│  \u001b[39m       (x = Core.getfield(%8, 1))\n",
      "\u001b[90m│  \u001b[39m %10 = Core.getfield(%8, 2)\u001b[36m::Int64\u001b[39m\n",
      "\u001b[90m│  \u001b[39m       Base.push!(a, x)\n",
      "\u001b[90m│  \u001b[39m       (@_6 = Base.iterate(%3, %10))\n",
      "\u001b[90m│  \u001b[39m %13 = (@_6 === nothing)\u001b[36m::Bool\u001b[39m\n",
      "\u001b[90m│  \u001b[39m %14 = Base.not_int(%13)\u001b[36m::Bool\u001b[39m\n",
      "\u001b[90m└──\u001b[39m       goto #4 if not %14\n",
      "\u001b[90m3 ─\u001b[39m       goto #2\n",
      "\u001b[90m4 ┄\u001b[39m       return a\n",
      "\n"
     ]
    }
   ],
   "source": [
    "@code_warntype Base._collect(1:1, threes_cond, Base.HasEltype(), Base.SizeUnknown())"
   ]
  },
  {
   "cell_type": "code",
   "execution_count": 39,
   "id": "0c3cfcb2-cd48-430b-9f44-b755d7ab10df",
   "metadata": {},
   "outputs": [
    {
     "name": "stdout",
     "output_type": "stream",
     "text": [
      "MethodInstance for iterate(::\u001b[0mBase.Iterators.Filter{var\"#7#8\"{Symbol, Int64}, Vector{Thing}}, ::\u001b[0mInt64)\n",
      "  from iterate(f::Base.Iterators.Filter, state...) in Base.Iterators at iterators.jl:444\n",
      "Arguments\n",
      "  #self#\u001b[36m::Core.Const(iterate)\u001b[39m\n",
      "  f\u001b[36m::Base.Iterators.Filter{var\"#7#8\"{Symbol, Int64}, Vector{Thing}}\u001b[39m\n",
      "  state\u001b[36m::Tuple{Int64}\u001b[39m\n",
      "Locals\n",
      "  y\u001b[33m\u001b[1m::Union{Nothing, Tuple{Thing, Int64}}\u001b[22m\u001b[39m\n",
      "Body\u001b[33m\u001b[1m::Union{Nothing, Tuple{Thing, Int64}}\u001b[22m\u001b[39m\n",
      "\u001b[90m1 ─\u001b[39m %1  = Base.getproperty(f, :itr)\u001b[36m::Vector{Thing}\u001b[39m\n",
      "\u001b[90m│  \u001b[39m %2  = Core.tuple(%1)\u001b[36m::Tuple{Vector{Thing}}\u001b[39m\n",
      "\u001b[90m└──\u001b[39m       (y = Core._apply_iterate(Base.iterate, Base.Iterators.iterate, %2, state))\n",
      "\u001b[90m2 ┄\u001b[39m %4  = (y !== Base.Iterators.nothing)\u001b[36m::Bool\u001b[39m\n",
      "\u001b[90m└──\u001b[39m       goto #6 if not %4\n",
      "\u001b[90m3 ─\u001b[39m %6  = Base.getproperty(f, :flt)\u001b[36m::var\"#7#8\"{Symbol, Int64}\u001b[39m\n",
      "\u001b[90m│  \u001b[39m %7  = Base.getindex(y::Tuple{Thing, Int64}, 1)\u001b[36m::Thing\u001b[39m\n",
      "\u001b[90m│  \u001b[39m %8  = (%6)(%7)\u001b[36m::Bool\u001b[39m\n",
      "\u001b[90m└──\u001b[39m       goto #5 if not %8\n",
      "\u001b[90m4 ─\u001b[39m       return y::Tuple{Thing, Int64}\n",
      "\u001b[90m5 ─\u001b[39m %11 = Base.getproperty(f, :itr)\u001b[36m::Vector{Thing}\u001b[39m\n",
      "\u001b[90m│  \u001b[39m %12 = Base.getindex(y::Tuple{Thing, Int64}, 2)\u001b[36m::Int64\u001b[39m\n",
      "\u001b[90m│  \u001b[39m       (y = Base.Iterators.iterate(%11, %12))\n",
      "\u001b[90m└──\u001b[39m       goto #2\n",
      "\u001b[90m6 ─\u001b[39m       return Base.Iterators.nothing\n",
      "\n"
     ]
    }
   ],
   "source": [
    "@code_warntype iterate(threes_cond, 1)"
   ]
  },
  {
   "cell_type": "code",
   "execution_count": 29,
   "id": "8488226f-2265-40fc-8306-5170e2c5ec25",
   "metadata": {},
   "outputs": [
    {
     "data": {
      "text/plain": [
       "Thing"
      ]
     },
     "execution_count": 29,
     "metadata": {},
     "output_type": "execute_result"
    }
   ],
   "source": [
    "threes_getprop |> eltype"
   ]
  },
  {
   "cell_type": "code",
   "execution_count": 30,
   "id": "3d8baf8a-13fe-429e-b28e-8639aa81a7d2",
   "metadata": {},
   "outputs": [
    {
     "data": {
      "text/plain": [
       "Thing"
      ]
     },
     "execution_count": 30,
     "metadata": {},
     "output_type": "execute_result"
    }
   ],
   "source": [
    "threes_prop |> eltype"
   ]
  },
  {
   "cell_type": "code",
   "execution_count": 31,
   "id": "c2d0611d-b60c-4934-800f-dce9aefec0ae",
   "metadata": {},
   "outputs": [
    {
     "data": {
      "text/plain": [
       "Thing"
      ]
     },
     "execution_count": 31,
     "metadata": {},
     "output_type": "execute_result"
    }
   ],
   "source": [
    "threes_cond |> eltype"
   ]
  },
  {
   "cell_type": "code",
   "execution_count": 32,
   "id": "b5f32377-e303-4d24-83e3-ad72b0f64566",
   "metadata": {},
   "outputs": [
    {
     "name": "stdout",
     "output_type": "stream",
     "text": [
      "#7 (function of type var\"#7#8\"{Symbol, Int64})\n",
      "  property: Symbol somevalue\n",
      "  value: Int64 3\n"
     ]
    }
   ],
   "source": [
    "threes_cond.flt |> dump"
   ]
  },
  {
   "cell_type": "code",
   "execution_count": 33,
   "id": "658efbbd-1726-433b-b13a-44416d775baf",
   "metadata": {},
   "outputs": [
    {
     "name": "stdout",
     "output_type": "stream",
     "text": [
      "ComposedFunction{Base.Fix2{typeof(===), Int64}, Base.Fix2{typeof(getproperty), Symbol}}(Base.Fix2{typeof(===), Int64}(===, 3), Base.Fix2{typeof(getproperty), Symbol}(getproperty, :somevalue)) (function of type ComposedFunction{Base.Fix2{typeof(===), Int64}, Base.Fix2{typeof(getproperty), Symbol}})\n",
      "  outer: Base.Fix2{typeof(===), Int64}(===, 3) (function of type Base.Fix2{typeof(===), Int64})\n",
      "    f: === (function of type typeof(===))\n",
      "    x: Int64 3\n",
      "  inner: Base.Fix2{typeof(getproperty), Symbol}(getproperty, :somevalue) (function of type Base.Fix2{typeof(getproperty), Symbol})\n",
      "    f: getproperty (function of type typeof(getproperty))\n",
      "    x: Symbol somevalue\n"
     ]
    }
   ],
   "source": [
    "threes_cond2.flt |> dump"
   ]
  },
  {
   "cell_type": "code",
   "execution_count": null,
   "id": "d06d94e7-39fc-4f15-89b3-22d085d2d02f",
   "metadata": {},
   "outputs": [],
   "source": []
  }
 ],
 "metadata": {
  "kernelspec": {
   "display_name": "Julia 1.8.0-DEV",
   "language": "julia",
   "name": "julia-1.8"
  },
  "language_info": {
   "file_extension": ".jl",
   "mimetype": "application/julia",
   "name": "julia",
   "version": "1.8.0"
  }
 },
 "nbformat": 4,
 "nbformat_minor": 5
}
