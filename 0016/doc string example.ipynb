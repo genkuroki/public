{
 "cells": [
  {
   "cell_type": "code",
   "execution_count": 1,
   "id": "d52d01be-9861-4ddd-8d5d-9af37f150e91",
   "metadata": {},
   "outputs": [
    {
     "name": "stdout",
     "output_type": "stream",
     "text": [
      "a = TypeA(10)\n",
      "b = TypeB(5.5)\n",
      "c = [1.0, 2.0, 3.0, 4.0, 5.0, 6.0, 7.0, 8.0, 9.0, 10.0]\n"
     ]
    }
   ],
   "source": [
    "mutable struct TypeA\n",
    "    n::Int\n",
    "end\n",
    "\n",
    "mutable struct TypeB\n",
    "    x::Float64\n",
    "end\n",
    "\n",
    "\"\"\"\n",
    "`fun!(a::TypeA, b::TypeB, c::AbstractVector{Float64})` only mutates `b`.\n",
    "\"\"\"\n",
    "function fun!(a::TypeA, b::TypeB, c::AbstractVector{Float64})\n",
    "    b.x = sum(c) / a.n\n",
    "end\n",
    "\n",
    "a, b, c = TypeA(10), TypeB(0.0), collect(1.0:10.0)\n",
    "fun!(a, b, c)\n",
    "@show a b c;"
   ]
  },
  {
   "cell_type": "code",
   "execution_count": 2,
   "id": "3a5dda70-53c3-4726-a7c7-0fd772dd3954",
   "metadata": {},
   "outputs": [
    {
     "data": {
      "text/latex": [
       "\\texttt{fun!(a::TypeA, b::TypeB, c::AbstractVector\\{Float64\\})} only mutates \\texttt{b}.\n",
       "\n"
      ],
      "text/markdown": [
       "`fun!(a::TypeA, b::TypeB, c::AbstractVector{Float64})` only mutates `b`.\n"
      ],
      "text/plain": [
       "  \u001b[36mfun!(a::TypeA, b::TypeB, c::AbstractVector{Float64})\u001b[39m only mutates \u001b[36mb\u001b[39m."
      ]
     },
     "execution_count": 2,
     "metadata": {},
     "output_type": "execute_result"
    }
   ],
   "source": [
    "@doc fun!"
   ]
  },
  {
   "cell_type": "code",
   "execution_count": 3,
   "id": "0f91b293-0618-41a3-b187-33f14b4aacb1",
   "metadata": {},
   "outputs": [
    {
     "name": "stdout",
     "output_type": "stream",
     "text": [
      "search: \u001b[0m\u001b[1mf\u001b[22m\u001b[0m\u001b[1mu\u001b[22m\u001b[0m\u001b[1mn\u001b[22m\u001b[0m\u001b[1m!\u001b[22m \u001b[0m\u001b[1mf\u001b[22m\u001b[0m\u001b[1mu\u001b[22m\u001b[0m\u001b[1mn\u001b[22mction \u001b[0m\u001b[1mF\u001b[22m\u001b[0m\u001b[1mu\u001b[22m\u001b[0m\u001b[1mn\u001b[22mction \u001b[0m\u001b[1mf\u001b[22m\u001b[0m\u001b[1mu\u001b[22m\u001b[0m\u001b[1mn\u001b[22mctionloc @\u001b[0m\u001b[1mf\u001b[22m\u001b[0m\u001b[1mu\u001b[22m\u001b[0m\u001b[1mn\u001b[22mctionloc @c\u001b[0m\u001b[1mf\u001b[22m\u001b[0m\u001b[1mu\u001b[22m\u001b[0m\u001b[1mn\u001b[22mction \u001b[0m\u001b[1mf\u001b[22m\u001b[0m\u001b[1mu\u001b[22mll\u001b[0m\u001b[1mn\u001b[22mame\n",
      "\n"
     ]
    },
    {
     "data": {
      "text/latex": [
       "\\texttt{fun!(a::TypeA, b::TypeB, c::AbstractVector\\{Float64\\})} only mutates \\texttt{b}.\n",
       "\n"
      ],
      "text/markdown": [
       "`fun!(a::TypeA, b::TypeB, c::AbstractVector{Float64})` only mutates `b`.\n"
      ],
      "text/plain": [
       "  \u001b[36mfun!(a::TypeA, b::TypeB, c::AbstractVector{Float64})\u001b[39m only mutates \u001b[36mb\u001b[39m."
      ]
     },
     "execution_count": 3,
     "metadata": {},
     "output_type": "execute_result"
    }
   ],
   "source": [
    "?fun!"
   ]
  },
  {
   "cell_type": "code",
   "execution_count": null,
   "id": "380238b8-0ff0-48ee-ba93-78bcda883a68",
   "metadata": {},
   "outputs": [],
   "source": []
  }
 ],
 "metadata": {
  "jupytext": {
   "formats": "ipynb,auto:hydrogen"
  },
  "kernelspec": {
   "display_name": "Julia 1.6.2",
   "language": "julia",
   "name": "julia-1.6"
  },
  "language_info": {
   "file_extension": ".jl",
   "mimetype": "application/julia",
   "name": "julia",
   "version": "1.6.2"
  }
 },
 "nbformat": 4,
 "nbformat_minor": 5
}
