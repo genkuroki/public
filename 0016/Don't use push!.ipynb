{
 "cells": [
  {
   "cell_type": "code",
   "execution_count": 1,
   "id": "25dede7f-9677-4705-9296-97d3a082074c",
   "metadata": {},
   "outputs": [],
   "source": [
    "function f(L)\n",
    "    a = []\n",
    "    for i in 1:L\n",
    "        push!(a, rand())\n",
    "    end\n",
    "    a\n",
    "end\n",
    "\n",
    "function g(L)\n",
    "    a = Float64[]\n",
    "    for i in 1:L\n",
    "        push!(a, rand())\n",
    "    end\n",
    "    a\n",
    "end\n",
    "\n",
    "function h(L)\n",
    "    a = Vector{Float64}(undef, L)\n",
    "    for i in eachindex(a)\n",
    "        a[i] = rand()\n",
    "    end\n",
    "    a\n",
    "end\n",
    "\n",
    "f(1); g(1); h(1); # compile"
   ]
  },
  {
   "cell_type": "code",
   "execution_count": 2,
   "id": "58647f78-de4e-432e-a81e-799ffb386cae",
   "metadata": {},
   "outputs": [
    {
     "name": "stdout",
     "output_type": "stream",
     "text": [
      "a = [] and push!:                             0.013857 seconds (1.00 M allocations: 25.040 MiB)\n",
      "a = Float64[] and push!:                      0.027145 seconds (14 allocations: 9.781 MiB, 66.85% gc time)\n",
      "a = Vector{Float64}(undef, L) and a[i] =...:  0.002316 seconds (2 allocations: 7.629 MiB)\n"
     ]
    }
   ],
   "source": [
    "print(\"a = [] and push!:                           \")\n",
    "@time a = f(10^6)\n",
    "print(\"a = Float64[] and push!:                    \")\n",
    "@time b = g(10^6)\n",
    "print(\"a = Vector{Float64}(undef, L) and a[i] =...:\")\n",
    "@time c = h(10^6);"
   ]
  },
  {
   "cell_type": "code",
   "execution_count": null,
   "id": "80c2890f-06cc-40bd-9327-59b40ecf526d",
   "metadata": {},
   "outputs": [],
   "source": [
    "using BenchmarkTools\n",
    "\n",
    "println(\"Test of constructors\")\n",
    "print(\"a = [] and push!:                          \")\n",
    "@btime a = f(10^6)\n",
    "print(\"a = Float64[] and push!:                    \")\n",
    "@btime b = g(10^6)\n",
    "print(\"a = Vector{Float64}(undef, L) and a[i] =...:\")\n",
    "@btime c = h(10^6);"
   ]
  },
  {
   "cell_type": "code",
   "execution_count": null,
   "id": "37d27b2a-5447-4c51-a613-d8ee23acbefc",
   "metadata": {},
   "outputs": [],
   "source": [
    "println(\"Test of sum\")\n",
    "print(\"a = [] and push!:                        \")\n",
    "@btime sum($a)\n",
    "print(\"a = Float64[] and push!:                    \")\n",
    "@btime sum($b)\n",
    "print(\"a = Vector{Float64}(undef, L) and a[i] =...:\")\n",
    "@btime sum($c);"
   ]
  },
  {
   "cell_type": "code",
   "execution_count": null,
   "id": "dba64283-4546-4e78-b12e-1efaa2ef5d64",
   "metadata": {},
   "outputs": [],
   "source": []
  }
 ],
 "metadata": {
  "jupytext": {
   "formats": "ipynb,auto:hydrogen"
  },
  "kernelspec": {
   "display_name": "Julia 1.8.0-DEV",
   "language": "julia",
   "name": "julia-1.8"
  },
  "language_info": {
   "file_extension": ".jl",
   "mimetype": "application/julia",
   "name": "julia",
   "version": "1.8.0"
  }
 },
 "nbformat": 4,
 "nbformat_minor": 5
}
