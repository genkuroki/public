{
 "cells": [
  {
   "cell_type": "code",
   "execution_count": 1,
   "id": "6d3657a6-0fed-46c9-a85f-8eda50f2aa65",
   "metadata": {},
   "outputs": [
    {
     "data": {
      "text/plain": [
       "v\"1.7.0-beta3.0\""
      ]
     },
     "execution_count": 1,
     "metadata": {},
     "output_type": "execute_result"
    }
   ],
   "source": [
    "using MetaUtils\n",
    "VERSION"
   ]
  },
  {
   "cell_type": "code",
   "execution_count": 2,
   "id": "02790ce3-426a-4950-8d4d-199d36add6c2",
   "metadata": {},
   "outputs": [
    {
     "name": "stdout",
     "output_type": "stream",
     "text": [
      "Number\n",
      "├─ Complex\n",
      "└─ Real\n",
      "   ├─ AbstractFloat\n",
      "   │  ├─ BigFloat\n",
      "   │  ├─ Float16\n",
      "   │  ├─ Float32\n",
      "   │  └─ Float64\n",
      "   ├─ AbstractIrrational\n",
      "   │  └─ Irrational\n",
      "   ├─ Integer\n",
      "   │  ├─ Bool\n",
      "   │  ├─ Signed\n",
      "   │  │  ├─ BigInt\n",
      "   │  │  ├─ Int128\n",
      "   │  │  ├─ Int16\n",
      "   │  │  ├─ Int32\n",
      "   │  │  ├─ Int64\n",
      "   │  │  └─ Int8\n",
      "   │  └─ Unsigned\n",
      "   │     ├─ UInt128\n",
      "   │     ├─ UInt16\n",
      "   │     ├─ UInt32\n",
      "   │     ├─ UInt64\n",
      "   │     └─ UInt8\n",
      "   └─ Rational\n"
     ]
    }
   ],
   "source": [
    "print_subtypes(Number)"
   ]
  },
  {
   "cell_type": "code",
   "execution_count": 3,
   "id": "352ceffb-2b96-45f0-80e1-e32ec3110b21",
   "metadata": {},
   "outputs": [
    {
     "name": "stdout",
     "output_type": "stream",
     "text": [
      "AbstractVector\n",
      "├─ AbstractRange\n",
      "│  ├─ LinRange\n",
      "│  ├─ OrdinalRange\n",
      "│  │  ├─ AbstractUnitRange\n",
      "│  │  │  ├─ Base.IdentityUnitRange\n",
      "│  │  │  ├─ Base.OneTo\n",
      "│  │  │  ├─ Base.Slice\n",
      "│  │  │  └─ UnitRange\n",
      "│  │  └─ StepRange\n",
      "│  └─ StepRangeLen\n",
      "├─ Base.ExceptionStack\n",
      "├─ Base.LogicalIndex\n",
      "├─ Base.MethodList\n",
      "├─ Base.ReinterpretArray{T, 1, S, A} where {T, S, A<:(AbstractArray{S})}\n",
      "├─ Base.ReshapedArray{T, 1} where T\n",
      "├─ BitVector\n",
      "├─ CartesianIndices{1, R} where R<:Tuple{OrdinalRange{Int64, Int64}}\n",
      "├─ Core.Compiler.AbstractRange\n",
      "│  ├─ Core.Compiler.LinRange\n",
      "│  ├─ Core.Compiler.OrdinalRange\n",
      "│  │  ├─ Core.Compiler.AbstractUnitRange\n",
      "│  │  │  ├─ Core.Compiler.IdentityUnitRange\n",
      "│  │  │  ├─ Core.Compiler.OneTo\n",
      "│  │  │  ├─ Core.Compiler.Slice\n",
      "│  │  │  ├─ Core.Compiler.StmtRange\n",
      "│  │  │  └─ Core.Compiler.UnitRange\n",
      "│  │  └─ Core.Compiler.StepRange\n",
      "│  └─ Core.Compiler.StepRangeLen\n",
      "├─ Core.Compiler.BitArray{1}\n",
      "├─ Core.Compiler.ExceptionStack\n",
      "├─ Core.Compiler.LinearIndices{1, R} where R<:Tuple{Core.Compiler.AbstractUnitRange{Int64}}\n",
      "├─ Core.Compiler.MethodList\n",
      "├─ DenseVector\n",
      "│  ├─ Base.CodeUnits\n",
      "│  ├─ Base.Experimental.Const{T, 1} where T\n",
      "│  ├─ Random.UnsafeView\n",
      "│  ├─ SharedArrays.SharedVector\n",
      "│  └─ Vector\n",
      "├─ LinearIndices{1, R} where R<:Tuple{AbstractUnitRange{Int64}}\n",
      "├─ PermutedDimsArray{T, 1} where T\n",
      "├─ SparseArrays.AbstractSparseVector\n",
      "│  └─ SparseArrays.SparseVector\n",
      "├─ SubArray{T, 1} where T\n",
      "├─ Test.GenericArray{T, 1} where T\n",
      "└─ ZMQ.Message\n"
     ]
    }
   ],
   "source": [
    "print_subtypes(AbstractVector)"
   ]
  },
  {
   "cell_type": "code",
   "execution_count": 4,
   "id": "ef53a20c-91c1-4e90-b33b-ff6d902a55bd",
   "metadata": {},
   "outputs": [
    {
     "name": "stdout",
     "output_type": "stream",
     "text": [
      "AbstractMatrix\n",
      "├─ Base.ReinterpretArray{T, 2, S, A} where {T, S, A<:(AbstractArray{S})}\n",
      "├─ Base.ReshapedArray{T, 2} where T\n",
      "├─ Base.SCartesianIndices2\n",
      "├─ BitMatrix\n",
      "├─ CartesianIndices{2, R} where R<:Tuple{OrdinalRange{Int64, Int64}, OrdinalRange{Int64, Int64}}\n",
      "├─ Core.Compiler.BitArray{2}\n",
      "├─ Core.Compiler.LinearIndices{2, R} where R<:Tuple{Core.Compiler.AbstractUnitRange{Int64}, Core.Compiler.AbstractUnitRange{Int64}}\n",
      "├─ DenseMatrix\n",
      "│  ├─ Base.Experimental.Const{T, 2} where T\n",
      "│  ├─ Matrix\n",
      "│  ├─ SharedArrays.SharedMatrix\n",
      "│  └─ SuiteSparse.CHOLMOD.Dense\n",
      "├─ LinearAlgebra.AbstractQ\n",
      "│  ├─ LinearAlgebra.HessenbergQ\n",
      "│  ├─ LinearAlgebra.QRCompactWYQ\n",
      "│  ├─ LinearAlgebra.QRPackedQ\n",
      "│  └─ SuiteSparse.SPQR.QRSparseQ\n",
      "├─ LinearAlgebra.AbstractTriangular\n",
      "│  ├─ LinearAlgebra.LowerTriangular\n",
      "│  ├─ LinearAlgebra.UnitLowerTriangular\n",
      "│  ├─ LinearAlgebra.UnitUpperTriangular\n",
      "│  └─ LinearAlgebra.UpperTriangular\n",
      "├─ LinearAlgebra.Adjoint\n",
      "├─ LinearAlgebra.Bidiagonal\n",
      "├─ LinearAlgebra.Diagonal\n",
      "├─ LinearAlgebra.Hermitian\n",
      "├─ LinearAlgebra.LQPackedQ\n",
      "├─ LinearAlgebra.SymTridiagonal\n",
      "├─ LinearAlgebra.Symmetric\n",
      "├─ LinearAlgebra.Transpose\n",
      "├─ LinearAlgebra.Tridiagonal\n",
      "├─ LinearAlgebra.UpperHessenberg\n",
      "├─ LinearIndices{2, R} where R<:Tuple{AbstractUnitRange{Int64}, AbstractUnitRange{Int64}}\n",
      "├─ PermutedDimsArray{T, 2} where T\n",
      "├─ SparseArrays.AbstractSparseMatrix\n",
      "│  ├─ SparseArrays.AbstractSparseMatrixCSC\n",
      "│  │  └─ SparseArrays.SparseMatrixCSC\n",
      "│  └─ SuiteSparse.CHOLMOD.Sparse\n",
      "├─ SubArray{T, 2} where T\n",
      "├─ SuiteSparse.CHOLMOD.FactorComponent\n",
      "└─ Test.GenericArray{T, 2} where T\n"
     ]
    }
   ],
   "source": [
    "print_subtypes(AbstractMatrix)"
   ]
  },
  {
   "cell_type": "code",
   "execution_count": 5,
   "id": "1908be1e-fb57-4375-bb77-a8463e5699b1",
   "metadata": {},
   "outputs": [
    {
     "name": "stdout",
     "output_type": "stream",
     "text": [
      "AbstractString\n",
      "├─ String\n",
      "├─ SubString\n",
      "├─ SubstitutionString\n",
      "└─ Test.GenericString\n"
     ]
    }
   ],
   "source": [
    "print_subtypes(AbstractString)"
   ]
  },
  {
   "cell_type": "code",
   "execution_count": 6,
   "id": "b7aa5980-b384-4c70-89b9-d9096fc06e4e",
   "metadata": {},
   "outputs": [
    {
     "name": "stdout",
     "output_type": "stream",
     "text": [
      "AbstractDict\n",
      "├─ Base.EnvDict\n",
      "├─ Base.ImmutableDict\n",
      "├─ Base.Pairs\n",
      "├─ Dict\n",
      "├─ IdDict\n",
      "├─ Test.GenericDict\n",
      "└─ WeakKeyDict\n"
     ]
    }
   ],
   "source": [
    "print_subtypes(AbstractDict)"
   ]
  },
  {
   "cell_type": "code",
   "execution_count": 7,
   "id": "0c8572db-02a7-446e-b193-16795ce8655c",
   "metadata": {},
   "outputs": [
    {
     "name": "stdout",
     "output_type": "stream",
     "text": [
      "AbstractSet\n",
      "├─ Base.IdSet\n",
      "├─ Base.KeySet\n",
      "├─ BitSet\n",
      "├─ Set\n",
      "└─ Test.GenericSet\n"
     ]
    }
   ],
   "source": [
    "print_subtypes(AbstractSet)"
   ]
  },
  {
   "cell_type": "code",
   "execution_count": 8,
   "id": "663eade4-1381-43da-aa4a-275f0211a079",
   "metadata": {},
   "outputs": [
    {
     "data": {
      "text/plain": [
       "0.0:0.1:1.0"
      ]
     },
     "execution_count": 8,
     "metadata": {},
     "output_type": "execute_result"
    }
   ],
   "source": [
    "ran = range(0, 1, 11)"
   ]
  },
  {
   "cell_type": "code",
   "execution_count": 9,
   "id": "54031cbe-83d2-47df-85f1-918dd8fa7358",
   "metadata": {},
   "outputs": [
    {
     "name": "stdout",
     "output_type": "stream",
     "text": [
      "StepRangeLen{Float64, Base.TwicePrecision{Float64}, Base.TwicePrecision{Float64}}\n",
      "  ref: Base.TwicePrecision{Float64}\n",
      "    hi: Float64 0.0\n",
      "    lo: Float64 0.0\n",
      "  step: Base.TwicePrecision{Float64}\n",
      "    hi: Float64 0.09999999999999964\n",
      "    lo: Float64 3.552713678800501e-16\n",
      "  len: Int64 11\n",
      "  offset: Int64 1\n"
     ]
    }
   ],
   "source": [
    "dump(ran)"
   ]
  },
  {
   "cell_type": "code",
   "execution_count": 10,
   "id": "52025218-a9fa-4fec-b269-dfaa1e9e8670",
   "metadata": {},
   "outputs": [
    {
     "data": {
      "text/plain": [
       "11×11 reshape(::UnitRange{Int64}, 11, 11) with eltype Int64:\n",
       "  1  12  23  34  45  56  67  78  89  100  111\n",
       "  2  13  24  35  46  57  68  79  90  101  112\n",
       "  3  14  25  36  47  58  69  80  91  102  113\n",
       "  4  15  26  37  48  59  70  81  92  103  114\n",
       "  5  16  27  38  49  60  71  82  93  104  115\n",
       "  6  17  28  39  50  61  72  83  94  105  116\n",
       "  7  18  29  40  51  62  73  84  95  106  117\n",
       "  8  19  30  41  52  63  74  85  96  107  118\n",
       "  9  20  31  42  53  64  75  86  97  108  119\n",
       " 10  21  32  43  54  65  76  87  98  109  120\n",
       " 11  22  33  44  55  66  77  88  99  110  121"
      ]
     },
     "execution_count": 10,
     "metadata": {},
     "output_type": "execute_result"
    }
   ],
   "source": [
    "A = reshape(1:11^2, 11, 11)"
   ]
  },
  {
   "cell_type": "code",
   "execution_count": 11,
   "id": "182a5e7d-7dac-4fe7-b678-5d02119d60d9",
   "metadata": {},
   "outputs": [
    {
     "name": "stdout",
     "output_type": "stream",
     "text": [
      "Base.ReshapedArray{Int64, 2, UnitRange{Int64}, Tuple{}}\n",
      "  parent: UnitRange{Int64}\n",
      "    start: Int64 1\n",
      "    stop: Int64 121\n",
      "  dims: Tuple{Int64, Int64}\n",
      "    1: Int64 11\n",
      "    2: Int64 11\n",
      "  mi: Tuple{} ()\n"
     ]
    }
   ],
   "source": [
    "dump(A)"
   ]
  },
  {
   "cell_type": "code",
   "execution_count": 12,
   "id": "bf073b3d-dcee-471b-9d0b-719109d15f21",
   "metadata": {},
   "outputs": [
    {
     "data": {
      "text/plain": [
       "11-element Vector{Float64}:\n",
       " 429.0\n",
       " 434.5\n",
       " 440.0\n",
       " 445.5\n",
       " 451.0\n",
       " 456.5\n",
       " 462.0\n",
       " 467.5\n",
       " 473.0\n",
       " 478.5\n",
       " 484.0"
      ]
     },
     "execution_count": 12,
     "metadata": {},
     "output_type": "execute_result"
    }
   ],
   "source": [
    "A * ran"
   ]
  },
  {
   "cell_type": "code",
   "execution_count": 22,
   "id": "c7e15119-d6ac-4e6e-aa35-b44fcd816187",
   "metadata": {},
   "outputs": [
    {
     "data": {
      "text/plain": [
       "π = 3.1415926535897..."
      ]
     },
     "execution_count": 22,
     "metadata": {},
     "output_type": "execute_result"
    }
   ],
   "source": [
    "π"
   ]
  },
  {
   "cell_type": "code",
   "execution_count": 23,
   "id": "07e45edd-03c2-4e55-b386-f74ff0ce3439",
   "metadata": {},
   "outputs": [
    {
     "data": {
      "text/plain": [
       "3.141592653589793"
      ]
     },
     "execution_count": 23,
     "metadata": {},
     "output_type": "execute_result"
    }
   ],
   "source": [
    "1π"
   ]
  },
  {
   "cell_type": "code",
   "execution_count": 24,
   "id": "556fb2c9-bb87-4eb1-ac24-5a47af12cd15",
   "metadata": {},
   "outputs": [
    {
     "data": {
      "text/plain": [
       "3.1415927f0"
      ]
     },
     "execution_count": 24,
     "metadata": {},
     "output_type": "execute_result"
    }
   ],
   "source": [
    "1f0π"
   ]
  },
  {
   "cell_type": "code",
   "execution_count": 25,
   "id": "d4062de2-296c-4774-a563-d239e5396b05",
   "metadata": {},
   "outputs": [
    {
     "data": {
      "text/plain": [
       "Float16(3.14)"
      ]
     },
     "execution_count": 25,
     "metadata": {},
     "output_type": "execute_result"
    }
   ],
   "source": [
    "Float16(1)π"
   ]
  },
  {
   "cell_type": "code",
   "execution_count": 26,
   "id": "c549ab0c-3c33-4ead-86db-68af1e05dec2",
   "metadata": {},
   "outputs": [
    {
     "data": {
      "text/plain": [
       "3.141592653589793238462643383279502884197169399375105820974944592307816406286198"
      ]
     },
     "execution_count": 26,
     "metadata": {},
     "output_type": "execute_result"
    }
   ],
   "source": [
    "big(1)π"
   ]
  },
  {
   "cell_type": "code",
   "execution_count": 33,
   "id": "5a7e5993-0b7b-490c-8852-64c6a823176f",
   "metadata": {},
   "outputs": [
    {
     "data": {
      "text/plain": [
       "10×4 Matrix{Int64}:\n",
       " 1   1    1     1\n",
       " 1   2    4     8\n",
       " 1   3    9    27\n",
       " 1   4   16    64\n",
       " 1   5   25   125\n",
       " 1   6   36   216\n",
       " 1   7   49   343\n",
       " 1   8   64   512\n",
       " 1   9   81   729\n",
       " 1  10  100  1000"
      ]
     },
     "execution_count": 33,
     "metadata": {},
     "output_type": "execute_result"
    }
   ],
   "source": [
    "(1:10) .^ (0:3)'"
   ]
  },
  {
   "cell_type": "code",
   "execution_count": 42,
   "id": "c08e5d3a-1339-47cb-ba8d-72fba91af62d",
   "metadata": {},
   "outputs": [
    {
     "data": {
      "image/svg+xml": [
       "<?xml version=\"1.0\" encoding=\"utf-8\"?>\n",
       "<svg xmlns=\"http://www.w3.org/2000/svg\" xmlns:xlink=\"http://www.w3.org/1999/xlink\" width=\"600\" height=\"400\" viewBox=\"0 0 2400 1600\">\n",
       "<defs>\n",
       "  <clipPath id=\"clip100\">\n",
       "    <rect x=\"0\" y=\"0\" width=\"2400\" height=\"1600\"/>\n",
       "  </clipPath>\n",
       "</defs>\n",
       "<path clip-path=\"url(#clip100)\" d=\"\n",
       "M0 1600 L2400 1600 L2400 0 L0 0  Z\n",
       "  \" fill=\"#ffffff\" fill-rule=\"evenodd\" fill-opacity=\"1\"/>\n",
       "<defs>\n",
       "  <clipPath id=\"clip101\">\n",
       "    <rect x=\"480\" y=\"0\" width=\"1681\" height=\"1600\"/>\n",
       "  </clipPath>\n",
       "</defs>\n",
       "<path clip-path=\"url(#clip100)\" d=\"\n",
       "M193.936 1486.45 L2352.76 1486.45 L2352.76 47.2441 L193.936 47.2441  Z\n",
       "  \" fill=\"#ffffff\" fill-rule=\"evenodd\" fill-opacity=\"1\"/>\n",
       "<defs>\n",
       "  <clipPath id=\"clip102\">\n",
       "    <rect x=\"193\" y=\"47\" width=\"2160\" height=\"1440\"/>\n",
       "  </clipPath>\n",
       "</defs>\n",
       "<polyline clip-path=\"url(#clip102)\" style=\"stroke:#000000; stroke-linecap:butt; stroke-linejoin:round; stroke-width:2; stroke-opacity:0.1; fill:none\" points=\"\n",
       "  389.332,1486.45 389.332,47.2441 \n",
       "  \"/>\n",
       "<polyline clip-path=\"url(#clip102)\" style=\"stroke:#000000; stroke-linecap:butt; stroke-linejoin:round; stroke-width:2; stroke-opacity:0.1; fill:none\" points=\"\n",
       "  684.003,1486.45 684.003,47.2441 \n",
       "  \"/>\n",
       "<polyline clip-path=\"url(#clip102)\" style=\"stroke:#000000; stroke-linecap:butt; stroke-linejoin:round; stroke-width:2; stroke-opacity:0.1; fill:none\" points=\"\n",
       "  978.675,1486.45 978.675,47.2441 \n",
       "  \"/>\n",
       "<polyline clip-path=\"url(#clip102)\" style=\"stroke:#000000; stroke-linecap:butt; stroke-linejoin:round; stroke-width:2; stroke-opacity:0.1; fill:none\" points=\"\n",
       "  1273.35,1486.45 1273.35,47.2441 \n",
       "  \"/>\n",
       "<polyline clip-path=\"url(#clip102)\" style=\"stroke:#000000; stroke-linecap:butt; stroke-linejoin:round; stroke-width:2; stroke-opacity:0.1; fill:none\" points=\"\n",
       "  1568.02,1486.45 1568.02,47.2441 \n",
       "  \"/>\n",
       "<polyline clip-path=\"url(#clip102)\" style=\"stroke:#000000; stroke-linecap:butt; stroke-linejoin:round; stroke-width:2; stroke-opacity:0.1; fill:none\" points=\"\n",
       "  1862.69,1486.45 1862.69,47.2441 \n",
       "  \"/>\n",
       "<polyline clip-path=\"url(#clip102)\" style=\"stroke:#000000; stroke-linecap:butt; stroke-linejoin:round; stroke-width:2; stroke-opacity:0.1; fill:none\" points=\"\n",
       "  2157.36,1486.45 2157.36,47.2441 \n",
       "  \"/>\n",
       "<polyline clip-path=\"url(#clip100)\" style=\"stroke:#000000; stroke-linecap:butt; stroke-linejoin:round; stroke-width:4; stroke-opacity:1; fill:none\" points=\"\n",
       "  193.936,1486.45 2352.76,1486.45 \n",
       "  \"/>\n",
       "<polyline clip-path=\"url(#clip100)\" style=\"stroke:#000000; stroke-linecap:butt; stroke-linejoin:round; stroke-width:4; stroke-opacity:1; fill:none\" points=\"\n",
       "  389.332,1486.45 389.332,1467.55 \n",
       "  \"/>\n",
       "<polyline clip-path=\"url(#clip100)\" style=\"stroke:#000000; stroke-linecap:butt; stroke-linejoin:round; stroke-width:4; stroke-opacity:1; fill:none\" points=\"\n",
       "  684.003,1486.45 684.003,1467.55 \n",
       "  \"/>\n",
       "<polyline clip-path=\"url(#clip100)\" style=\"stroke:#000000; stroke-linecap:butt; stroke-linejoin:round; stroke-width:4; stroke-opacity:1; fill:none\" points=\"\n",
       "  978.675,1486.45 978.675,1467.55 \n",
       "  \"/>\n",
       "<polyline clip-path=\"url(#clip100)\" style=\"stroke:#000000; stroke-linecap:butt; stroke-linejoin:round; stroke-width:4; stroke-opacity:1; fill:none\" points=\"\n",
       "  1273.35,1486.45 1273.35,1467.55 \n",
       "  \"/>\n",
       "<polyline clip-path=\"url(#clip100)\" style=\"stroke:#000000; stroke-linecap:butt; stroke-linejoin:round; stroke-width:4; stroke-opacity:1; fill:none\" points=\"\n",
       "  1568.02,1486.45 1568.02,1467.55 \n",
       "  \"/>\n",
       "<polyline clip-path=\"url(#clip100)\" style=\"stroke:#000000; stroke-linecap:butt; stroke-linejoin:round; stroke-width:4; stroke-opacity:1; fill:none\" points=\"\n",
       "  1862.69,1486.45 1862.69,1467.55 \n",
       "  \"/>\n",
       "<polyline clip-path=\"url(#clip100)\" style=\"stroke:#000000; stroke-linecap:butt; stroke-linejoin:round; stroke-width:4; stroke-opacity:1; fill:none\" points=\"\n",
       "  2157.36,1486.45 2157.36,1467.55 \n",
       "  \"/>\n",
       "<path clip-path=\"url(#clip100)\" d=\"M358.799 1530.29 L388.475 1530.29 L388.475 1534.23 L358.799 1534.23 L358.799 1530.29 Z\" fill=\"#000000\" fill-rule=\"evenodd\" fill-opacity=\"1\" /><path clip-path=\"url(#clip100)\" d=\"M412.734 1528.49 Q416.091 1529.2 417.966 1531.47 Q419.864 1533.74 419.864 1537.07 Q419.864 1542.19 416.345 1544.99 Q412.827 1547.79 406.346 1547.79 Q404.17 1547.79 401.855 1547.35 Q399.563 1546.93 397.109 1546.08 L397.109 1541.56 Q399.054 1542.7 401.369 1543.28 Q403.684 1543.86 406.207 1543.86 Q410.605 1543.86 412.896 1542.12 Q415.211 1540.38 415.211 1537.07 Q415.211 1534.02 413.058 1532.31 Q410.929 1530.57 407.109 1530.57 L403.082 1530.57 L403.082 1526.73 L407.295 1526.73 Q410.744 1526.73 412.572 1525.36 Q414.401 1523.97 414.401 1521.38 Q414.401 1518.72 412.503 1517.31 Q410.628 1515.87 407.109 1515.87 Q405.188 1515.87 402.989 1516.29 Q400.79 1516.7 398.151 1517.58 L398.151 1513.42 Q400.813 1512.68 403.128 1512.31 Q405.466 1511.93 407.526 1511.93 Q412.85 1511.93 415.952 1514.37 Q419.054 1516.77 419.054 1520.89 Q419.054 1523.76 417.41 1525.75 Q415.767 1527.72 412.734 1528.49 Z\" fill=\"#000000\" fill-rule=\"evenodd\" fill-opacity=\"1\" /><path clip-path=\"url(#clip100)\" d=\"M653.945 1530.29 L683.621 1530.29 L683.621 1534.23 L653.945 1534.23 L653.945 1530.29 Z\" fill=\"#000000\" fill-rule=\"evenodd\" fill-opacity=\"1\" /><path clip-path=\"url(#clip100)\" d=\"M697.741 1543.18 L714.061 1543.18 L714.061 1547.12 L692.117 1547.12 L692.117 1543.18 Q694.779 1540.43 699.362 1535.8 Q703.968 1531.15 705.149 1529.81 Q707.394 1527.28 708.274 1525.55 Q709.177 1523.79 709.177 1522.1 Q709.177 1519.34 707.232 1517.61 Q705.311 1515.87 702.209 1515.87 Q700.01 1515.87 697.556 1516.63 Q695.126 1517.4 692.348 1518.95 L692.348 1514.23 Q695.172 1513.09 697.626 1512.51 Q700.079 1511.93 702.116 1511.93 Q707.487 1511.93 710.681 1514.62 Q713.876 1517.31 713.876 1521.8 Q713.876 1523.93 713.065 1525.85 Q712.278 1527.74 710.172 1530.34 Q709.593 1531.01 706.491 1534.23 Q703.39 1537.42 697.741 1543.18 Z\" fill=\"#000000\" fill-rule=\"evenodd\" fill-opacity=\"1\" /><path clip-path=\"url(#clip100)\" d=\"M948.432 1530.29 L978.107 1530.29 L978.107 1534.23 L948.432 1534.23 L948.432 1530.29 Z\" fill=\"#000000\" fill-rule=\"evenodd\" fill-opacity=\"1\" /><path clip-path=\"url(#clip100)\" d=\"M989.01 1543.18 L996.649 1543.18 L996.649 1516.82 L988.339 1518.49 L988.339 1514.23 L996.603 1512.56 L1001.28 1512.56 L1001.28 1543.18 L1008.92 1543.18 L1008.92 1547.12 L989.01 1547.12 L989.01 1543.18 Z\" fill=\"#000000\" fill-rule=\"evenodd\" fill-opacity=\"1\" /><path clip-path=\"url(#clip100)\" d=\"M1273.35 1515.64 Q1269.73 1515.64 1267.91 1519.2 Q1266.1 1522.75 1266.1 1529.87 Q1266.1 1536.98 1267.91 1540.55 Q1269.73 1544.09 1273.35 1544.09 Q1276.98 1544.09 1278.79 1540.55 Q1280.61 1536.98 1280.61 1529.87 Q1280.61 1522.75 1278.79 1519.2 Q1276.98 1515.64 1273.35 1515.64 M1273.35 1511.93 Q1279.16 1511.93 1282.21 1516.54 Q1285.29 1521.12 1285.29 1529.87 Q1285.29 1538.6 1282.21 1543.21 Q1279.16 1547.79 1273.35 1547.79 Q1267.54 1547.79 1264.46 1543.21 Q1261.4 1538.6 1261.4 1529.87 Q1261.4 1521.12 1264.46 1516.54 Q1267.54 1511.93 1273.35 1511.93 Z\" fill=\"#000000\" fill-rule=\"evenodd\" fill-opacity=\"1\" /><path clip-path=\"url(#clip100)\" d=\"M1558.4 1543.18 L1566.04 1543.18 L1566.04 1516.82 L1557.73 1518.49 L1557.73 1514.23 L1565.99 1512.56 L1570.67 1512.56 L1570.67 1543.18 L1578.31 1543.18 L1578.31 1547.12 L1558.4 1547.12 L1558.4 1543.18 Z\" fill=\"#000000\" fill-rule=\"evenodd\" fill-opacity=\"1\" /><path clip-path=\"url(#clip100)\" d=\"M1857.34 1543.18 L1873.66 1543.18 L1873.66 1547.12 L1851.72 1547.12 L1851.72 1543.18 Q1854.38 1540.43 1858.96 1535.8 Q1863.57 1531.15 1864.75 1529.81 Q1866.99 1527.28 1867.87 1525.55 Q1868.78 1523.79 1868.78 1522.1 Q1868.78 1519.34 1866.83 1517.61 Q1864.91 1515.87 1861.81 1515.87 Q1859.61 1515.87 1857.16 1516.63 Q1854.73 1517.4 1851.95 1518.95 L1851.95 1514.23 Q1854.77 1513.09 1857.23 1512.51 Q1859.68 1511.93 1861.72 1511.93 Q1867.09 1511.93 1870.28 1514.62 Q1873.48 1517.31 1873.48 1521.8 Q1873.48 1523.93 1872.67 1525.85 Q1871.88 1527.74 1869.77 1530.34 Q1869.19 1531.01 1866.09 1534.23 Q1862.99 1537.42 1857.34 1543.18 Z\" fill=\"#000000\" fill-rule=\"evenodd\" fill-opacity=\"1\" /><path clip-path=\"url(#clip100)\" d=\"M2161.61 1528.49 Q2164.96 1529.2 2166.84 1531.47 Q2168.74 1533.74 2168.74 1537.07 Q2168.74 1542.19 2165.22 1544.99 Q2161.7 1547.79 2155.22 1547.79 Q2153.04 1547.79 2150.73 1547.35 Q2148.44 1546.93 2145.98 1546.08 L2145.98 1541.56 Q2147.93 1542.7 2150.24 1543.28 Q2152.56 1543.86 2155.08 1543.86 Q2159.48 1543.86 2161.77 1542.12 Q2164.08 1540.38 2164.08 1537.07 Q2164.08 1534.02 2161.93 1532.31 Q2159.8 1530.57 2155.98 1530.57 L2151.96 1530.57 L2151.96 1526.73 L2156.17 1526.73 Q2159.62 1526.73 2161.45 1525.36 Q2163.27 1523.97 2163.27 1521.38 Q2163.27 1518.72 2161.38 1517.31 Q2159.5 1515.87 2155.98 1515.87 Q2154.06 1515.87 2151.86 1516.29 Q2149.66 1516.7 2147.02 1517.58 L2147.02 1513.42 Q2149.69 1512.68 2152 1512.31 Q2154.34 1511.93 2156.4 1511.93 Q2161.72 1511.93 2164.83 1514.37 Q2167.93 1516.77 2167.93 1520.89 Q2167.93 1523.76 2166.28 1525.75 Q2164.64 1527.72 2161.61 1528.49 Z\" fill=\"#000000\" fill-rule=\"evenodd\" fill-opacity=\"1\" /><polyline clip-path=\"url(#clip102)\" style=\"stroke:#000000; stroke-linecap:butt; stroke-linejoin:round; stroke-width:2; stroke-opacity:0.1; fill:none\" points=\"\n",
       "  193.936,1301.03 2352.76,1301.03 \n",
       "  \"/>\n",
       "<polyline clip-path=\"url(#clip102)\" style=\"stroke:#000000; stroke-linecap:butt; stroke-linejoin:round; stroke-width:2; stroke-opacity:0.1; fill:none\" points=\"\n",
       "  193.936,1019.41 2352.76,1019.41 \n",
       "  \"/>\n",
       "<polyline clip-path=\"url(#clip102)\" style=\"stroke:#000000; stroke-linecap:butt; stroke-linejoin:round; stroke-width:2; stroke-opacity:0.1; fill:none\" points=\"\n",
       "  193.936,737.801 2352.76,737.801 \n",
       "  \"/>\n",
       "<polyline clip-path=\"url(#clip102)\" style=\"stroke:#000000; stroke-linecap:butt; stroke-linejoin:round; stroke-width:2; stroke-opacity:0.1; fill:none\" points=\"\n",
       "  193.936,456.188 2352.76,456.188 \n",
       "  \"/>\n",
       "<polyline clip-path=\"url(#clip102)\" style=\"stroke:#000000; stroke-linecap:butt; stroke-linejoin:round; stroke-width:2; stroke-opacity:0.1; fill:none\" points=\"\n",
       "  193.936,174.575 2352.76,174.575 \n",
       "  \"/>\n",
       "<polyline clip-path=\"url(#clip100)\" style=\"stroke:#000000; stroke-linecap:butt; stroke-linejoin:round; stroke-width:4; stroke-opacity:1; fill:none\" points=\"\n",
       "  193.936,1486.45 193.936,47.2441 \n",
       "  \"/>\n",
       "<polyline clip-path=\"url(#clip100)\" style=\"stroke:#000000; stroke-linecap:butt; stroke-linejoin:round; stroke-width:4; stroke-opacity:1; fill:none\" points=\"\n",
       "  193.936,1301.03 212.834,1301.03 \n",
       "  \"/>\n",
       "<polyline clip-path=\"url(#clip100)\" style=\"stroke:#000000; stroke-linecap:butt; stroke-linejoin:round; stroke-width:4; stroke-opacity:1; fill:none\" points=\"\n",
       "  193.936,1019.41 212.834,1019.41 \n",
       "  \"/>\n",
       "<polyline clip-path=\"url(#clip100)\" style=\"stroke:#000000; stroke-linecap:butt; stroke-linejoin:round; stroke-width:4; stroke-opacity:1; fill:none\" points=\"\n",
       "  193.936,737.801 212.834,737.801 \n",
       "  \"/>\n",
       "<polyline clip-path=\"url(#clip100)\" style=\"stroke:#000000; stroke-linecap:butt; stroke-linejoin:round; stroke-width:4; stroke-opacity:1; fill:none\" points=\"\n",
       "  193.936,456.188 212.834,456.188 \n",
       "  \"/>\n",
       "<polyline clip-path=\"url(#clip100)\" style=\"stroke:#000000; stroke-linecap:butt; stroke-linejoin:round; stroke-width:4; stroke-opacity:1; fill:none\" points=\"\n",
       "  193.936,174.575 212.834,174.575 \n",
       "  \"/>\n",
       "<path clip-path=\"url(#clip100)\" d=\"M50.9921 1301.48 L80.6679 1301.48 L80.6679 1305.41 L50.9921 1305.41 L50.9921 1301.48 Z\" fill=\"#000000\" fill-rule=\"evenodd\" fill-opacity=\"1\" /><path clip-path=\"url(#clip100)\" d=\"M91.5706 1314.37 L99.2095 1314.37 L99.2095 1288.01 L90.8993 1289.67 L90.8993 1285.41 L99.1632 1283.75 L103.839 1283.75 L103.839 1314.37 L111.478 1314.37 L111.478 1318.31 L91.5706 1318.31 L91.5706 1314.37 Z\" fill=\"#000000\" fill-rule=\"evenodd\" fill-opacity=\"1\" /><path clip-path=\"url(#clip100)\" d=\"M120.922 1312.43 L125.807 1312.43 L125.807 1318.31 L120.922 1318.31 L120.922 1312.43 Z\" fill=\"#000000\" fill-rule=\"evenodd\" fill-opacity=\"1\" /><path clip-path=\"url(#clip100)\" d=\"M145.992 1286.83 Q142.381 1286.83 140.552 1290.39 Q138.746 1293.93 138.746 1301.06 Q138.746 1308.17 140.552 1311.73 Q142.381 1315.28 145.992 1315.28 Q149.626 1315.28 151.431 1311.73 Q153.26 1308.17 153.26 1301.06 Q153.26 1293.93 151.431 1290.39 Q149.626 1286.83 145.992 1286.83 M145.992 1283.12 Q151.802 1283.12 154.857 1287.73 Q157.936 1292.31 157.936 1301.06 Q157.936 1309.79 154.857 1314.4 Q151.802 1318.98 145.992 1318.98 Q140.181 1318.98 137.103 1314.4 Q134.047 1309.79 134.047 1301.06 Q134.047 1292.31 137.103 1287.73 Q140.181 1283.12 145.992 1283.12 Z\" fill=\"#000000\" fill-rule=\"evenodd\" fill-opacity=\"1\" /><path clip-path=\"url(#clip100)\" d=\"M51.9875 1019.87 L81.6633 1019.87 L81.6633 1023.8 L51.9875 1023.8 L51.9875 1019.87 Z\" fill=\"#000000\" fill-rule=\"evenodd\" fill-opacity=\"1\" /><path clip-path=\"url(#clip100)\" d=\"M101.756 1005.21 Q98.1447 1005.21 96.316 1008.78 Q94.5104 1012.32 94.5104 1019.45 Q94.5104 1026.56 96.316 1030.12 Q98.1447 1033.66 101.756 1033.66 Q105.39 1033.66 107.196 1030.12 Q109.024 1026.56 109.024 1019.45 Q109.024 1012.32 107.196 1008.78 Q105.39 1005.21 101.756 1005.21 M101.756 1001.51 Q107.566 1001.51 110.621 1006.12 Q113.7 1010.7 113.7 1019.45 Q113.7 1028.18 110.621 1032.78 Q107.566 1037.37 101.756 1037.37 Q95.9456 1037.37 92.8669 1032.78 Q89.8114 1028.18 89.8114 1019.45 Q89.8114 1010.7 92.8669 1006.12 Q95.9456 1001.51 101.756 1001.51 Z\" fill=\"#000000\" fill-rule=\"evenodd\" fill-opacity=\"1\" /><path clip-path=\"url(#clip100)\" d=\"M121.918 1030.82 L126.802 1030.82 L126.802 1036.69 L121.918 1036.69 L121.918 1030.82 Z\" fill=\"#000000\" fill-rule=\"evenodd\" fill-opacity=\"1\" /><path clip-path=\"url(#clip100)\" d=\"M137.033 1002.13 L155.39 1002.13 L155.39 1006.07 L141.316 1006.07 L141.316 1014.54 Q142.334 1014.19 143.353 1014.03 Q144.371 1013.85 145.39 1013.85 Q151.177 1013.85 154.556 1017.02 Q157.936 1020.19 157.936 1025.61 Q157.936 1031.19 154.464 1034.29 Q150.992 1037.37 144.672 1037.37 Q142.496 1037.37 140.228 1037 Q137.982 1036.63 135.575 1035.88 L135.575 1031.19 Q137.658 1032.32 139.881 1032.88 Q142.103 1033.43 144.58 1033.43 Q148.584 1033.43 150.922 1031.32 Q153.26 1029.22 153.26 1025.61 Q153.26 1022 150.922 1019.89 Q148.584 1017.78 144.58 1017.78 Q142.705 1017.78 140.83 1018.2 Q138.978 1018.62 137.033 1019.5 L137.033 1002.13 Z\" fill=\"#000000\" fill-rule=\"evenodd\" fill-opacity=\"1\" /><path clip-path=\"url(#clip100)\" d=\"M100.76 723.6 Q97.1493 723.6 95.3206 727.165 Q93.515 730.707 93.515 737.836 Q93.515 744.943 95.3206 748.507 Q97.1493 752.049 100.76 752.049 Q104.395 752.049 106.2 748.507 Q108.029 744.943 108.029 737.836 Q108.029 730.707 106.2 727.165 Q104.395 723.6 100.76 723.6 M100.76 719.896 Q106.571 719.896 109.626 724.503 Q112.705 729.086 112.705 737.836 Q112.705 746.563 109.626 751.169 Q106.571 755.753 100.76 755.753 Q94.9502 755.753 91.8715 751.169 Q88.816 746.563 88.816 737.836 Q88.816 729.086 91.8715 724.503 Q94.9502 719.896 100.76 719.896 Z\" fill=\"#000000\" fill-rule=\"evenodd\" fill-opacity=\"1\" /><path clip-path=\"url(#clip100)\" d=\"M120.922 749.202 L125.807 749.202 L125.807 755.081 L120.922 755.081 L120.922 749.202 Z\" fill=\"#000000\" fill-rule=\"evenodd\" fill-opacity=\"1\" /><path clip-path=\"url(#clip100)\" d=\"M145.992 723.6 Q142.381 723.6 140.552 727.165 Q138.746 730.707 138.746 737.836 Q138.746 744.943 140.552 748.507 Q142.381 752.049 145.992 752.049 Q149.626 752.049 151.431 748.507 Q153.26 744.943 153.26 737.836 Q153.26 730.707 151.431 727.165 Q149.626 723.6 145.992 723.6 M145.992 719.896 Q151.802 719.896 154.857 724.503 Q157.936 729.086 157.936 737.836 Q157.936 746.563 154.857 751.169 Q151.802 755.753 145.992 755.753 Q140.181 755.753 137.103 751.169 Q134.047 746.563 134.047 737.836 Q134.047 729.086 137.103 724.503 Q140.181 719.896 145.992 719.896 Z\" fill=\"#000000\" fill-rule=\"evenodd\" fill-opacity=\"1\" /><path clip-path=\"url(#clip100)\" d=\"M101.756 441.987 Q98.1447 441.987 96.316 445.552 Q94.5104 449.093 94.5104 456.223 Q94.5104 463.329 96.316 466.894 Q98.1447 470.436 101.756 470.436 Q105.39 470.436 107.196 466.894 Q109.024 463.329 109.024 456.223 Q109.024 449.093 107.196 445.552 Q105.39 441.987 101.756 441.987 M101.756 438.283 Q107.566 438.283 110.621 442.89 Q113.7 447.473 113.7 456.223 Q113.7 464.95 110.621 469.556 Q107.566 474.14 101.756 474.14 Q95.9456 474.14 92.8669 469.556 Q89.8114 464.95 89.8114 456.223 Q89.8114 447.473 92.8669 442.89 Q95.9456 438.283 101.756 438.283 Z\" fill=\"#000000\" fill-rule=\"evenodd\" fill-opacity=\"1\" /><path clip-path=\"url(#clip100)\" d=\"M121.918 467.589 L126.802 467.589 L126.802 473.468 L121.918 473.468 L121.918 467.589 Z\" fill=\"#000000\" fill-rule=\"evenodd\" fill-opacity=\"1\" /><path clip-path=\"url(#clip100)\" d=\"M137.033 438.908 L155.39 438.908 L155.39 442.843 L141.316 442.843 L141.316 451.316 Q142.334 450.968 143.353 450.806 Q144.371 450.621 145.39 450.621 Q151.177 450.621 154.556 453.792 Q157.936 456.964 157.936 462.38 Q157.936 467.959 154.464 471.061 Q150.992 474.14 144.672 474.14 Q142.496 474.14 140.228 473.769 Q137.982 473.399 135.575 472.658 L135.575 467.959 Q137.658 469.093 139.881 469.649 Q142.103 470.204 144.58 470.204 Q148.584 470.204 150.922 468.098 Q153.26 465.991 153.26 462.38 Q153.26 458.769 150.922 456.663 Q148.584 454.556 144.58 454.556 Q142.705 454.556 140.83 454.973 Q138.978 455.39 137.033 456.269 L137.033 438.908 Z\" fill=\"#000000\" fill-rule=\"evenodd\" fill-opacity=\"1\" /><path clip-path=\"url(#clip100)\" d=\"M91.5706 187.92 L99.2095 187.92 L99.2095 161.554 L90.8993 163.221 L90.8993 158.962 L99.1632 157.295 L103.839 157.295 L103.839 187.92 L111.478 187.92 L111.478 191.855 L91.5706 191.855 L91.5706 187.92 Z\" fill=\"#000000\" fill-rule=\"evenodd\" fill-opacity=\"1\" /><path clip-path=\"url(#clip100)\" d=\"M120.922 185.976 L125.807 185.976 L125.807 191.855 L120.922 191.855 L120.922 185.976 Z\" fill=\"#000000\" fill-rule=\"evenodd\" fill-opacity=\"1\" /><path clip-path=\"url(#clip100)\" d=\"M145.992 160.374 Q142.381 160.374 140.552 163.939 Q138.746 167.48 138.746 174.61 Q138.746 181.716 140.552 185.281 Q142.381 188.823 145.992 188.823 Q149.626 188.823 151.431 185.281 Q153.26 181.716 153.26 174.61 Q153.26 167.48 151.431 163.939 Q149.626 160.374 145.992 160.374 M145.992 156.67 Q151.802 156.67 154.857 161.277 Q157.936 165.86 157.936 174.61 Q157.936 183.337 154.857 187.943 Q151.802 192.526 145.992 192.526 Q140.181 192.526 137.103 187.943 Q134.047 183.337 134.047 174.61 Q134.047 165.86 137.103 161.277 Q140.181 156.67 145.992 156.67 Z\" fill=\"#000000\" fill-rule=\"evenodd\" fill-opacity=\"1\" /><circle clip-path=\"url(#clip102)\" cx=\"347.608\" cy=\"672.215\" r=\"14\" fill=\"#009af9\" fill-rule=\"evenodd\" fill-opacity=\"1\" stroke=\"#000000\" stroke-opacity=\"1\" stroke-width=\"3.2\"/>\n",
       "<circle clip-path=\"url(#clip102)\" cx=\"445.054\" cy=\"881.66\" r=\"14\" fill=\"#009af9\" fill-rule=\"evenodd\" fill-opacity=\"1\" stroke=\"#000000\" stroke-opacity=\"1\" stroke-width=\"3.2\"/>\n",
       "<circle clip-path=\"url(#clip102)\" cx=\"542.501\" cy=\"1161.89\" r=\"14\" fill=\"#009af9\" fill-rule=\"evenodd\" fill-opacity=\"1\" stroke=\"#000000\" stroke-opacity=\"1\" stroke-width=\"3.2\"/>\n",
       "<circle clip-path=\"url(#clip102)\" cx=\"639.947\" cy=\"1156.13\" r=\"14\" fill=\"#009af9\" fill-rule=\"evenodd\" fill-opacity=\"1\" stroke=\"#000000\" stroke-opacity=\"1\" stroke-width=\"3.2\"/>\n",
       "<circle clip-path=\"url(#clip102)\" cx=\"737.393\" cy=\"1227.8\" r=\"14\" fill=\"#009af9\" fill-rule=\"evenodd\" fill-opacity=\"1\" stroke=\"#000000\" stroke-opacity=\"1\" stroke-width=\"3.2\"/>\n",
       "<circle clip-path=\"url(#clip102)\" cx=\"834.839\" cy=\"1445.72\" r=\"14\" fill=\"#009af9\" fill-rule=\"evenodd\" fill-opacity=\"1\" stroke=\"#000000\" stroke-opacity=\"1\" stroke-width=\"3.2\"/>\n",
       "<circle clip-path=\"url(#clip102)\" cx=\"932.285\" cy=\"939.182\" r=\"14\" fill=\"#009af9\" fill-rule=\"evenodd\" fill-opacity=\"1\" stroke=\"#000000\" stroke-opacity=\"1\" stroke-width=\"3.2\"/>\n",
       "<circle clip-path=\"url(#clip102)\" cx=\"1029.73\" cy=\"1069.03\" r=\"14\" fill=\"#009af9\" fill-rule=\"evenodd\" fill-opacity=\"1\" stroke=\"#000000\" stroke-opacity=\"1\" stroke-width=\"3.2\"/>\n",
       "<circle clip-path=\"url(#clip102)\" cx=\"1127.18\" cy=\"872.207\" r=\"14\" fill=\"#009af9\" fill-rule=\"evenodd\" fill-opacity=\"1\" stroke=\"#000000\" stroke-opacity=\"1\" stroke-width=\"3.2\"/>\n",
       "<circle clip-path=\"url(#clip102)\" cx=\"1224.62\" cy=\"840.543\" r=\"14\" fill=\"#009af9\" fill-rule=\"evenodd\" fill-opacity=\"1\" stroke=\"#000000\" stroke-opacity=\"1\" stroke-width=\"3.2\"/>\n",
       "<circle clip-path=\"url(#clip102)\" cx=\"1322.07\" cy=\"756.368\" r=\"14\" fill=\"#009af9\" fill-rule=\"evenodd\" fill-opacity=\"1\" stroke=\"#000000\" stroke-opacity=\"1\" stroke-width=\"3.2\"/>\n",
       "<circle clip-path=\"url(#clip102)\" cx=\"1419.52\" cy=\"627.728\" r=\"14\" fill=\"#009af9\" fill-rule=\"evenodd\" fill-opacity=\"1\" stroke=\"#000000\" stroke-opacity=\"1\" stroke-width=\"3.2\"/>\n",
       "<circle clip-path=\"url(#clip102)\" cx=\"1516.96\" cy=\"311.188\" r=\"14\" fill=\"#009af9\" fill-rule=\"evenodd\" fill-opacity=\"1\" stroke=\"#000000\" stroke-opacity=\"1\" stroke-width=\"3.2\"/>\n",
       "<circle clip-path=\"url(#clip102)\" cx=\"1614.41\" cy=\"436.858\" r=\"14\" fill=\"#009af9\" fill-rule=\"evenodd\" fill-opacity=\"1\" stroke=\"#000000\" stroke-opacity=\"1\" stroke-width=\"3.2\"/>\n",
       "<circle clip-path=\"url(#clip102)\" cx=\"1711.85\" cy=\"316.335\" r=\"14\" fill=\"#009af9\" fill-rule=\"evenodd\" fill-opacity=\"1\" stroke=\"#000000\" stroke-opacity=\"1\" stroke-width=\"3.2\"/>\n",
       "<circle clip-path=\"url(#clip102)\" cx=\"1809.3\" cy=\"87.9763\" r=\"14\" fill=\"#009af9\" fill-rule=\"evenodd\" fill-opacity=\"1\" stroke=\"#000000\" stroke-opacity=\"1\" stroke-width=\"3.2\"/>\n",
       "<circle clip-path=\"url(#clip102)\" cx=\"1906.75\" cy=\"263.467\" r=\"14\" fill=\"#009af9\" fill-rule=\"evenodd\" fill-opacity=\"1\" stroke=\"#000000\" stroke-opacity=\"1\" stroke-width=\"3.2\"/>\n",
       "<circle clip-path=\"url(#clip102)\" cx=\"2004.19\" cy=\"450.074\" r=\"14\" fill=\"#009af9\" fill-rule=\"evenodd\" fill-opacity=\"1\" stroke=\"#000000\" stroke-opacity=\"1\" stroke-width=\"3.2\"/>\n",
       "<circle clip-path=\"url(#clip102)\" cx=\"2101.64\" cy=\"422.638\" r=\"14\" fill=\"#009af9\" fill-rule=\"evenodd\" fill-opacity=\"1\" stroke=\"#000000\" stroke-opacity=\"1\" stroke-width=\"3.2\"/>\n",
       "<circle clip-path=\"url(#clip102)\" cx=\"2199.08\" cy=\"635.005\" r=\"14\" fill=\"#009af9\" fill-rule=\"evenodd\" fill-opacity=\"1\" stroke=\"#000000\" stroke-opacity=\"1\" stroke-width=\"3.2\"/>\n",
       "<polyline clip-path=\"url(#clip102)\" style=\"stroke:#009af9; stroke-linecap:butt; stroke-linejoin:round; stroke-width:4; stroke-opacity:1; fill:none\" points=\"\n",
       "  255.035,563.755 264.979,581.928 274.924,600.279 366.877,774.604 458.829,945.374 514.089,1039.35 569.348,1122.75 616.07,1182.83 662.791,1231.76 688.167,1253.2 \n",
       "  713.544,1270.83 738.92,1284.5 764.296,1294.13 811.085,1301.03 857.875,1293.76 908.038,1270.44 958.201,1231.72 987.26,1202.67 1016.32,1169.11 1045.38,1131.35 \n",
       "  1074.44,1089.77 1126.09,1007.7 1177.74,917.356 1223.03,833.51 1268.32,747.407 1317.7,653.344 1367.08,561.646 1416.75,474.388 1466.43,394.598 1493.89,354.531 \n",
       "  1521.35,317.79 1548.81,284.693 1576.27,255.529 1602.4,231.662 1628.52,211.771 1654.65,196.013 1680.78,184.512 1707.95,177.165 1735.11,174.579 1762.28,176.777 \n",
       "  1789.45,183.74 1812.31,193.253 1835.18,206.044 1858.05,222.037 1880.92,241.134 1936.76,300.056 1992.6,374.65 2045.09,456.682 2097.58,547.611 2181.68,704.553 \n",
       "  2265.77,864.185 2278.72,888.162 2291.66,911.848 \n",
       "  \"/>\n",
       "<polyline clip-path=\"url(#clip102)\" style=\"stroke:#e26f46; stroke-linecap:butt; stroke-linejoin:round; stroke-width:8; stroke-opacity:1; fill:none\" points=\"\n",
       "  255.035,374.586 260.007,393.324 264.979,411.818 269.952,430.067 274.924,448.075 297.912,528.206 320.9,603.293 343.888,673.452 366.877,738.799 389.865,799.452 \n",
       "  412.853,855.525 435.841,907.136 458.829,954.401 486.459,1005.62 514.089,1050.94 541.719,1090.54 569.348,1124.65 592.709,1149.33 616.07,1170.35 639.431,1187.83 \n",
       "  662.791,1201.88 688.167,1213.4 713.544,1221.19 738.92,1225.39 764.296,1226.16 811.085,1219.13 857.875,1201.96 908.038,1173.4 958.201,1135.53 1016.32,1081.6 \n",
       "  1074.44,1018.67 1177.74,890.431 1268.32,767.794 1367.08,631.976 1466.43,502.198 1521.35,436.824 1576.27,377.999 1628.52,329.558 1680.78,289.849 1707.95,273.108 \n",
       "  1735.11,259.288 1762.28,248.582 1789.45,241.181 1835.18,236.721 1880.92,243.09 1908.84,252.693 1936.76,266.881 1964.68,285.863 1992.6,309.847 2018.85,337.14 \n",
       "  2045.09,369.211 2071.34,406.233 2097.58,448.378 2118.61,485.951 2139.63,527.011 2160.65,571.649 2181.68,619.952 2202.7,672.01 2223.73,727.912 2244.75,787.747 \n",
       "  2265.77,851.603 2272.24,872.081 2278.72,892.95 2285.19,914.215 2291.66,935.876 \n",
       "  \"/>\n",
       "<path clip-path=\"url(#clip100)\" d=\"\n",
       "M265.897 302.578 L988.124 302.578 L988.124 95.2176 L265.897 95.2176  Z\n",
       "  \" fill=\"#ffffff\" fill-rule=\"evenodd\" fill-opacity=\"1\"/>\n",
       "<polyline clip-path=\"url(#clip100)\" style=\"stroke:#000000; stroke-linecap:butt; stroke-linejoin:round; stroke-width:4; stroke-opacity:1; fill:none\" points=\"\n",
       "  265.897,302.578 988.124,302.578 988.124,95.2176 265.897,95.2176 265.897,302.578 \n",
       "  \"/>\n",
       "<circle clip-path=\"url(#clip100)\" cx=\"361.844\" cy=\"147.058\" r=\"23\" fill=\"#009af9\" fill-rule=\"evenodd\" fill-opacity=\"1\" stroke=\"#000000\" stroke-opacity=\"1\" stroke-width=\"5.12\"/>\n",
       "<path clip-path=\"url(#clip100)\" d=\"M476.704 142.347 L476.704 128.319 L480.963 128.319 L480.963 164.338 L476.704 164.338 L476.704 160.449 Q475.361 162.763 473.301 163.898 Q471.264 165.009 468.394 165.009 Q463.695 165.009 460.732 161.259 Q457.792 157.509 457.792 151.398 Q457.792 145.287 460.732 141.537 Q463.695 137.787 468.394 137.787 Q471.264 137.787 473.301 138.921 Q475.361 140.032 476.704 142.347 M462.19 151.398 Q462.19 156.097 464.111 158.782 Q466.056 161.444 469.435 161.444 Q472.815 161.444 474.759 158.782 Q476.704 156.097 476.704 151.398 Q476.704 146.699 474.759 144.037 Q472.815 141.352 469.435 141.352 Q466.056 141.352 464.111 144.037 Q462.19 146.699 462.19 151.398 Z\" fill=\"#000000\" fill-rule=\"evenodd\" fill-opacity=\"1\" /><path clip-path=\"url(#clip100)\" d=\"M501.518 151.305 Q496.356 151.305 494.366 152.486 Q492.375 153.666 492.375 156.514 Q492.375 158.782 493.856 160.125 Q495.361 161.444 497.93 161.444 Q501.472 161.444 503.602 158.944 Q505.754 156.421 505.754 152.254 L505.754 151.305 L501.518 151.305 M510.014 149.546 L510.014 164.338 L505.754 164.338 L505.754 160.402 Q504.296 162.763 502.12 163.898 Q499.944 165.009 496.796 165.009 Q492.815 165.009 490.454 162.787 Q488.116 160.541 488.116 156.791 Q488.116 152.416 491.032 150.194 Q493.972 147.972 499.782 147.972 L505.754 147.972 L505.754 147.555 Q505.754 144.615 503.81 143.018 Q501.889 141.398 498.393 141.398 Q496.171 141.398 494.065 141.93 Q491.958 142.463 490.014 143.527 L490.014 139.592 Q492.352 138.69 494.551 138.25 Q496.75 137.787 498.833 137.787 Q504.458 137.787 507.236 140.703 Q510.014 143.62 510.014 149.546 Z\" fill=\"#000000\" fill-rule=\"evenodd\" fill-opacity=\"1\" /><path clip-path=\"url(#clip100)\" d=\"M523 131.051 L523 138.412 L531.773 138.412 L531.773 141.722 L523 141.722 L523 155.796 Q523 158.967 523.856 159.87 Q524.736 160.773 527.398 160.773 L531.773 160.773 L531.773 164.338 L527.398 164.338 Q522.467 164.338 520.592 162.509 Q518.717 160.657 518.717 155.796 L518.717 141.722 L515.592 141.722 L515.592 138.412 L518.717 138.412 L518.717 131.051 L523 131.051 Z\" fill=\"#000000\" fill-rule=\"evenodd\" fill-opacity=\"1\" /><path clip-path=\"url(#clip100)\" d=\"M549.157 151.305 Q543.995 151.305 542.004 152.486 Q540.014 153.666 540.014 156.514 Q540.014 158.782 541.495 160.125 Q543 161.444 545.569 161.444 Q549.111 161.444 551.24 158.944 Q553.393 156.421 553.393 152.254 L553.393 151.305 L549.157 151.305 M557.652 149.546 L557.652 164.338 L553.393 164.338 L553.393 160.402 Q551.935 162.763 549.759 163.898 Q547.583 165.009 544.435 165.009 Q540.453 165.009 538.092 162.787 Q535.754 160.541 535.754 156.791 Q535.754 152.416 538.671 150.194 Q541.611 147.972 547.421 147.972 L553.393 147.972 L553.393 147.555 Q553.393 144.615 551.449 143.018 Q549.527 141.398 546.032 141.398 Q543.81 141.398 541.703 141.93 Q539.597 142.463 537.652 143.527 L537.652 139.592 Q539.99 138.69 542.189 138.25 Q544.389 137.787 546.472 137.787 Q552.097 137.787 554.875 140.703 Q557.652 143.62 557.652 149.546 Z\" fill=\"#000000\" fill-rule=\"evenodd\" fill-opacity=\"1\" /><polyline clip-path=\"url(#clip100)\" style=\"stroke:#009af9; stroke-linecap:butt; stroke-linejoin:round; stroke-width:4; stroke-opacity:1; fill:none\" points=\"\n",
       "  289.884,198.898 433.805,198.898 \n",
       "  \"/>\n",
       "<path clip-path=\"url(#clip100)\" d=\"M471.634 218.585 Q469.829 223.215 468.116 224.627 Q466.403 226.039 463.532 226.039 L460.13 226.039 L460.13 222.474 L462.63 222.474 Q464.389 222.474 465.361 221.64 Q466.333 220.807 467.514 217.705 L468.278 215.761 L457.792 190.252 L462.306 190.252 L470.407 210.529 L478.509 190.252 L483.023 190.252 L471.634 218.585 Z\" fill=\"#000000\" fill-rule=\"evenodd\" fill-opacity=\"1\" /><path clip-path=\"url(#clip100)\" d=\"M504.528 194.65 L534.203 194.65 L534.203 198.539 L504.528 198.539 L504.528 194.65 M504.528 204.094 L534.203 204.094 L534.203 208.029 L504.528 208.029 L504.528 204.094 Z\" fill=\"#000000\" fill-rule=\"evenodd\" fill-opacity=\"1\" /><path clip-path=\"url(#clip100)\" d=\"M575.291 191.016 L575.291 195.043 Q573.486 194.117 571.541 193.655 Q569.597 193.192 567.513 193.192 Q564.342 193.192 562.745 194.164 Q561.171 195.136 561.171 197.08 Q561.171 198.562 562.305 199.418 Q563.439 200.252 566.865 201.016 L568.324 201.34 Q572.861 202.312 574.759 204.094 Q576.68 205.854 576.68 209.025 Q576.68 212.636 573.81 214.742 Q570.962 216.849 565.962 216.849 Q563.879 216.849 561.611 216.432 Q559.365 216.039 556.865 215.228 L556.865 210.83 Q559.226 212.057 561.518 212.682 Q563.81 213.284 566.055 213.284 Q569.064 213.284 570.685 212.266 Q572.305 211.224 572.305 209.349 Q572.305 207.613 571.124 206.687 Q569.967 205.761 566.009 204.904 L564.527 204.557 Q560.569 203.724 558.81 202.011 Q557.05 200.275 557.05 197.266 Q557.05 193.608 559.643 191.618 Q562.236 189.627 567.004 189.627 Q569.365 189.627 571.449 189.974 Q573.532 190.321 575.291 191.016 Z\" fill=\"#000000\" fill-rule=\"evenodd\" fill-opacity=\"1\" /><path clip-path=\"url(#clip100)\" d=\"M583.462 190.252 L587.722 190.252 L587.722 216.178 L583.462 216.178 L583.462 190.252 M583.462 180.159 L587.722 180.159 L587.722 185.553 L583.462 185.553 L583.462 180.159 Z\" fill=\"#000000\" fill-rule=\"evenodd\" fill-opacity=\"1\" /><path clip-path=\"url(#clip100)\" d=\"M618.184 200.529 L618.184 216.178 L613.925 216.178 L613.925 200.668 Q613.925 196.988 612.49 195.159 Q611.055 193.33 608.184 193.33 Q604.735 193.33 602.745 195.53 Q600.754 197.729 600.754 201.525 L600.754 216.178 L596.472 216.178 L596.472 190.252 L600.754 190.252 L600.754 194.28 Q602.282 191.942 604.342 190.784 Q606.425 189.627 609.134 189.627 Q613.601 189.627 615.893 192.405 Q618.184 195.159 618.184 200.529 Z\" fill=\"#000000\" fill-rule=\"evenodd\" fill-opacity=\"1\" /><path clip-path=\"url(#clip100)\" d=\"M636.911 180.206 Q633.809 185.53 632.305 190.738 Q630.8 195.946 630.8 201.293 Q630.8 206.641 632.305 211.895 Q633.832 217.127 636.911 222.428 L633.207 222.428 Q629.735 216.988 627.999 211.733 Q626.286 206.479 626.286 201.293 Q626.286 196.131 627.999 190.9 Q629.712 185.668 633.207 180.206 L636.911 180.206 Z\" fill=\"#000000\" fill-rule=\"evenodd\" fill-opacity=\"1\" /><path clip-path=\"url(#clip100)\" d=\"M666.726 190.252 L657.351 202.867 L667.212 216.178 L662.189 216.178 L654.643 205.992 L647.096 216.178 L642.073 216.178 L652.143 202.613 L642.93 190.252 L647.953 190.252 L654.828 199.488 L661.703 190.252 L666.726 190.252 Z\" fill=\"#000000\" fill-rule=\"evenodd\" fill-opacity=\"1\" /><path clip-path=\"url(#clip100)\" d=\"M672.559 180.206 L676.263 180.206 Q679.735 185.668 681.448 190.9 Q683.184 196.131 683.184 201.293 Q683.184 206.479 681.448 211.733 Q679.735 216.988 676.263 222.428 L672.559 222.428 Q675.638 217.127 677.142 211.895 Q678.67 206.641 678.67 201.293 Q678.67 195.946 677.142 190.738 Q675.638 185.53 672.559 180.206 Z\" fill=\"#000000\" fill-rule=\"evenodd\" fill-opacity=\"1\" /><polyline clip-path=\"url(#clip100)\" style=\"stroke:#e26f46; stroke-linecap:butt; stroke-linejoin:round; stroke-width:4; stroke-opacity:1; fill:none\" points=\"\n",
       "  289.884,250.738 433.805,250.738 \n",
       "  \"/>\n",
       "<path clip-path=\"url(#clip100)\" d=\"M476.704 246.027 L476.704 231.999 L480.963 231.999 L480.963 268.018 L476.704 268.018 L476.704 264.129 Q475.361 266.443 473.301 267.578 Q471.264 268.689 468.394 268.689 Q463.695 268.689 460.732 264.939 Q457.792 261.189 457.792 255.078 Q457.792 248.967 460.732 245.217 Q463.695 241.467 468.394 241.467 Q471.264 241.467 473.301 242.601 Q475.361 243.712 476.704 246.027 M462.19 255.078 Q462.19 259.777 464.111 262.462 Q466.056 265.124 469.435 265.124 Q472.815 265.124 474.759 262.462 Q476.704 259.777 476.704 255.078 Q476.704 250.379 474.759 247.717 Q472.815 245.032 469.435 245.032 Q466.056 245.032 464.111 247.717 Q462.19 250.379 462.19 255.078 Z\" fill=\"#000000\" fill-rule=\"evenodd\" fill-opacity=\"1\" /><path clip-path=\"url(#clip100)\" d=\"M511.912 253.99 L511.912 256.073 L492.329 256.073 Q492.606 260.471 494.967 262.786 Q497.352 265.078 501.588 265.078 Q504.042 265.078 506.333 264.476 Q508.648 263.874 510.916 262.67 L510.916 266.698 Q508.625 267.67 506.217 268.18 Q503.81 268.689 501.333 268.689 Q495.13 268.689 491.495 265.078 Q487.884 261.467 487.884 255.309 Q487.884 248.944 491.31 245.217 Q494.759 241.467 500.592 241.467 Q505.824 241.467 508.856 244.846 Q511.912 248.203 511.912 253.99 M507.653 252.74 Q507.606 249.245 505.685 247.161 Q503.787 245.078 500.639 245.078 Q497.074 245.078 494.921 247.092 Q492.792 249.106 492.468 252.763 L507.653 252.74 Z\" fill=\"#000000\" fill-rule=\"evenodd\" fill-opacity=\"1\" /><path clip-path=\"url(#clip100)\" d=\"M535.963 254.754 Q535.963 250.124 534.041 247.578 Q532.143 245.032 528.694 245.032 Q525.268 245.032 523.347 247.578 Q521.449 250.124 521.449 254.754 Q521.449 259.36 523.347 261.906 Q525.268 264.453 528.694 264.453 Q532.143 264.453 534.041 261.906 Q535.963 259.36 535.963 254.754 M540.222 264.8 Q540.222 271.42 537.282 274.638 Q534.342 277.879 528.277 277.879 Q526.032 277.879 524.041 277.531 Q522.051 277.207 520.176 276.513 L520.176 272.369 Q522.051 273.388 523.879 273.874 Q525.708 274.36 527.606 274.36 Q531.796 274.36 533.879 272.161 Q535.963 269.985 535.963 265.564 L535.963 263.457 Q534.643 265.749 532.583 266.883 Q530.523 268.018 527.653 268.018 Q522.884 268.018 519.967 264.383 Q517.051 260.749 517.051 254.754 Q517.051 248.735 519.967 245.101 Q522.884 241.467 527.653 241.467 Q530.523 241.467 532.583 242.601 Q534.643 243.735 535.963 246.027 L535.963 242.092 L540.222 242.092 L540.222 264.8 Z\" fill=\"#000000\" fill-rule=\"evenodd\" fill-opacity=\"1\" /><path clip-path=\"url(#clip100)\" d=\"M564.018 246.073 Q563.3 245.657 562.444 245.471 Q561.611 245.263 560.592 245.263 Q556.981 245.263 555.037 247.624 Q553.115 249.962 553.115 254.36 L553.115 268.018 L548.833 268.018 L548.833 242.092 L553.115 242.092 L553.115 246.12 Q554.458 243.758 556.611 242.624 Q558.763 241.467 561.842 241.467 Q562.282 241.467 562.814 241.536 Q563.347 241.583 563.995 241.698 L564.018 246.073 Z\" fill=\"#000000\" fill-rule=\"evenodd\" fill-opacity=\"1\" /><path clip-path=\"url(#clip100)\" d=\"M589.62 253.99 L589.62 256.073 L570.037 256.073 Q570.314 260.471 572.675 262.786 Q575.06 265.078 579.296 265.078 Q581.749 265.078 584.041 264.476 Q586.356 263.874 588.624 262.67 L588.624 266.698 Q586.333 267.67 583.925 268.18 Q581.518 268.689 579.041 268.689 Q572.837 268.689 569.203 265.078 Q565.592 261.467 565.592 255.309 Q565.592 248.944 569.018 245.217 Q572.467 241.467 578.3 241.467 Q583.532 241.467 586.564 244.846 Q589.62 248.203 589.62 253.99 M585.361 252.74 Q585.314 249.245 583.393 247.161 Q581.495 245.078 578.347 245.078 Q574.782 245.078 572.629 247.092 Q570.499 249.106 570.175 252.763 L585.361 252.74 Z\" fill=\"#000000\" fill-rule=\"evenodd\" fill-opacity=\"1\" /><path clip-path=\"url(#clip100)\" d=\"M618.786 253.99 L618.786 256.073 L599.203 256.073 Q599.481 260.471 601.842 262.786 Q604.226 265.078 608.462 265.078 Q610.916 265.078 613.208 264.476 Q615.522 263.874 617.791 262.67 L617.791 266.698 Q615.499 267.67 613.092 268.18 Q610.684 268.689 608.208 268.689 Q602.004 268.689 598.37 265.078 Q594.759 261.467 594.759 255.309 Q594.759 248.944 598.185 245.217 Q601.634 241.467 607.467 241.467 Q612.698 241.467 615.731 244.846 Q618.786 248.203 618.786 253.99 M614.527 252.74 Q614.481 249.245 612.559 247.161 Q610.661 245.078 607.513 245.078 Q603.948 245.078 601.796 247.092 Q599.666 249.106 599.342 252.763 L614.527 252.74 Z\" fill=\"#000000\" fill-rule=\"evenodd\" fill-opacity=\"1\" /><path clip-path=\"url(#clip100)\" d=\"M623.624 253.133 L636.101 253.133 L636.101 256.93 L623.624 256.93 L623.624 253.133 Z\" fill=\"#000000\" fill-rule=\"evenodd\" fill-opacity=\"1\" /><path clip-path=\"url(#clip100)\" d=\"M657.652 249.383 Q661.008 250.101 662.883 252.369 Q664.781 254.638 664.781 257.971 Q664.781 263.087 661.263 265.888 Q657.744 268.689 651.263 268.689 Q649.087 268.689 646.772 268.249 Q644.481 267.832 642.027 266.976 L642.027 262.462 Q643.971 263.596 646.286 264.175 Q648.601 264.754 651.124 264.754 Q655.522 264.754 657.814 263.018 Q660.129 261.281 660.129 257.971 Q660.129 254.916 657.976 253.203 Q655.846 251.467 652.027 251.467 L647.999 251.467 L647.999 247.624 L652.212 247.624 Q655.661 247.624 657.49 246.258 Q659.318 244.87 659.318 242.277 Q659.318 239.615 657.42 238.203 Q655.545 236.768 652.027 236.768 Q650.106 236.768 647.906 237.184 Q645.707 237.601 643.069 238.481 L643.069 234.314 Q645.731 233.573 648.045 233.203 Q650.383 232.833 652.443 232.833 Q657.768 232.833 660.869 235.263 Q663.971 237.67 663.971 241.791 Q663.971 244.661 662.328 246.652 Q660.684 248.62 657.652 249.383 Z\" fill=\"#000000\" fill-rule=\"evenodd\" fill-opacity=\"1\" /><path clip-path=\"url(#clip100)\" d=\"M692.235 264.129 L692.235 277.879 L687.953 277.879 L687.953 242.092 L692.235 242.092 L692.235 246.027 Q693.578 243.712 695.615 242.601 Q697.675 241.467 700.522 241.467 Q705.244 241.467 708.184 245.217 Q711.147 248.967 711.147 255.078 Q711.147 261.189 708.184 264.939 Q705.244 268.689 700.522 268.689 Q697.675 268.689 695.615 267.578 Q693.578 266.443 692.235 264.129 M706.726 255.078 Q706.726 250.379 704.781 247.717 Q702.86 245.032 699.48 245.032 Q696.101 245.032 694.156 247.717 Q692.235 250.379 692.235 255.078 Q692.235 259.777 694.156 262.462 Q696.101 265.124 699.48 265.124 Q702.86 265.124 704.781 262.462 Q706.726 259.777 706.726 255.078 Z\" fill=\"#000000\" fill-rule=\"evenodd\" fill-opacity=\"1\" /><path clip-path=\"url(#clip100)\" d=\"M728.253 245.078 Q724.827 245.078 722.837 247.763 Q720.846 250.425 720.846 255.078 Q720.846 259.731 722.813 262.416 Q724.804 265.078 728.253 265.078 Q731.656 265.078 733.647 262.393 Q735.637 259.707 735.637 255.078 Q735.637 250.471 733.647 247.786 Q731.656 245.078 728.253 245.078 M728.253 241.467 Q733.809 241.467 736.98 245.078 Q740.151 248.689 740.151 255.078 Q740.151 261.444 736.98 265.078 Q733.809 268.689 728.253 268.689 Q722.675 268.689 719.503 265.078 Q716.355 261.444 716.355 255.078 Q716.355 248.689 719.503 245.078 Q722.675 241.467 728.253 241.467 Z\" fill=\"#000000\" fill-rule=\"evenodd\" fill-opacity=\"1\" /><path clip-path=\"url(#clip100)\" d=\"M747.212 231.999 L751.471 231.999 L751.471 268.018 L747.212 268.018 L747.212 231.999 Z\" fill=\"#000000\" fill-rule=\"evenodd\" fill-opacity=\"1\" /><path clip-path=\"url(#clip100)\" d=\"M771.17 270.425 Q769.364 275.055 767.651 276.467 Q765.938 277.879 763.068 277.879 L759.665 277.879 L759.665 274.314 L762.165 274.314 Q763.924 274.314 764.897 273.48 Q765.869 272.647 767.049 269.545 L767.813 267.601 L757.327 242.092 L761.841 242.092 L769.943 262.369 L778.045 242.092 L782.559 242.092 L771.17 270.425 Z\" fill=\"#000000\" fill-rule=\"evenodd\" fill-opacity=\"1\" /><path clip-path=\"url(#clip100)\" d=\"M809.989 252.369 L809.989 268.018 L805.73 268.018 L805.73 252.508 Q805.73 248.828 804.295 246.999 Q802.859 245.17 799.989 245.17 Q796.54 245.17 794.549 247.37 Q792.558 249.569 792.558 253.365 L792.558 268.018 L788.276 268.018 L788.276 242.092 L792.558 242.092 L792.558 246.12 Q794.086 243.782 796.146 242.624 Q798.23 241.467 800.938 241.467 Q805.406 241.467 807.697 244.245 Q809.989 246.999 809.989 252.369 Z\" fill=\"#000000\" fill-rule=\"evenodd\" fill-opacity=\"1\" /><path clip-path=\"url(#clip100)\" d=\"M828.531 245.078 Q825.105 245.078 823.114 247.763 Q821.123 250.425 821.123 255.078 Q821.123 259.731 823.091 262.416 Q825.081 265.078 828.531 265.078 Q831.933 265.078 833.924 262.393 Q835.915 259.707 835.915 255.078 Q835.915 250.471 833.924 247.786 Q831.933 245.078 828.531 245.078 M828.531 241.467 Q834.086 241.467 837.257 245.078 Q840.429 248.689 840.429 255.078 Q840.429 261.444 837.257 265.078 Q834.086 268.689 828.531 268.689 Q822.952 268.689 819.781 265.078 Q816.632 261.444 816.632 255.078 Q816.632 248.689 819.781 245.078 Q822.952 241.467 828.531 241.467 Z\" fill=\"#000000\" fill-rule=\"evenodd\" fill-opacity=\"1\" /><path clip-path=\"url(#clip100)\" d=\"M867.674 247.069 Q869.271 244.198 871.493 242.833 Q873.715 241.467 876.725 241.467 Q880.776 241.467 882.975 244.314 Q885.174 247.138 885.174 252.369 L885.174 268.018 L880.891 268.018 L880.891 252.508 Q880.891 248.782 879.572 246.976 Q878.252 245.17 875.544 245.17 Q872.234 245.17 870.313 247.37 Q868.391 249.569 868.391 253.365 L868.391 268.018 L864.109 268.018 L864.109 252.508 Q864.109 248.758 862.79 246.976 Q861.47 245.17 858.716 245.17 Q855.452 245.17 853.53 247.393 Q851.609 249.592 851.609 253.365 L851.609 268.018 L847.327 268.018 L847.327 242.092 L851.609 242.092 L851.609 246.12 Q853.067 243.735 855.104 242.601 Q857.141 241.467 859.942 241.467 Q862.766 241.467 864.734 242.902 Q866.725 244.337 867.674 247.069 Z\" fill=\"#000000\" fill-rule=\"evenodd\" fill-opacity=\"1\" /><path clip-path=\"url(#clip100)\" d=\"M893.669 242.092 L897.928 242.092 L897.928 268.018 L893.669 268.018 L893.669 242.092 M893.669 231.999 L897.928 231.999 L897.928 237.393 L893.669 237.393 L893.669 231.999 Z\" fill=\"#000000\" fill-rule=\"evenodd\" fill-opacity=\"1\" /><path clip-path=\"url(#clip100)\" d=\"M918.623 254.985 Q913.461 254.985 911.47 256.166 Q909.479 257.346 909.479 260.194 Q909.479 262.462 910.961 263.805 Q912.465 265.124 915.035 265.124 Q918.576 265.124 920.706 262.624 Q922.859 260.101 922.859 255.934 L922.859 254.985 L918.623 254.985 M927.118 253.226 L927.118 268.018 L922.859 268.018 L922.859 264.082 Q921.4 266.443 919.224 267.578 Q917.049 268.689 913.9 268.689 Q909.919 268.689 907.558 266.467 Q905.22 264.221 905.22 260.471 Q905.22 256.096 908.137 253.874 Q911.076 251.652 916.887 251.652 L922.859 251.652 L922.859 251.235 Q922.859 248.295 920.914 246.698 Q918.993 245.078 915.498 245.078 Q913.275 245.078 911.169 245.61 Q909.062 246.143 907.118 247.207 L907.118 243.272 Q909.456 242.37 911.655 241.93 Q913.854 241.467 915.937 241.467 Q921.562 241.467 924.34 244.383 Q927.118 247.3 927.118 253.226 Z\" fill=\"#000000\" fill-rule=\"evenodd\" fill-opacity=\"1\" /><path clip-path=\"url(#clip100)\" d=\"M935.891 231.999 L940.15 231.999 L940.15 268.018 L935.891 268.018 L935.891 231.999 Z\" fill=\"#000000\" fill-rule=\"evenodd\" fill-opacity=\"1\" /></svg>\n"
      ]
     },
     "execution_count": 42,
     "metadata": {},
     "output_type": "execute_result"
    }
   ],
   "source": [
    "using Plots\n",
    "x = range(-π, π; length=20)\n",
    "xlim = extrema(x) .* 1.1\n",
    "y = @. sin(x) + 0.3randn()\n",
    "X = x .^ (0:3)'\n",
    "β̂ = X \\ y\n",
    "f(x) = evalpoly(x, β̂)\n",
    "scatter(x, y; label=\"data\", color=1, legend=:topleft)\n",
    "plot!(sin, xlim...; label=\"y = sin(x)\", color=1)\n",
    "plot!(f, xlim...; label=\"degree-3 polynomial\", color=2, lw=2)"
   ]
  },
  {
   "cell_type": "code",
   "execution_count": 43,
   "id": "4ba36762-aa21-4b01-ad52-5cb7c14508e7",
   "metadata": {},
   "outputs": [
    {
     "data": {
      "text/plain": [
       "10×4 Matrix{Int64}:\n",
       " 1   1    1     1\n",
       " 1   2    4     8\n",
       " 1   3    9    27\n",
       " 1   4   16    64\n",
       " 1   5   25   125\n",
       " 1   6   36   216\n",
       " 1   7   49   343\n",
       " 1   8   64   512\n",
       " 1   9   81   729\n",
       " 1  10  100  1000"
      ]
     },
     "execution_count": 43,
     "metadata": {},
     "output_type": "execute_result"
    }
   ],
   "source": [
    "[a ^ b for a in 1:10, b in 0:3]"
   ]
  },
  {
   "cell_type": "code",
   "execution_count": 57,
   "id": "222b5b2e-1b17-43cd-a667-4d0515fa8e41",
   "metadata": {},
   "outputs": [
    {
     "data": {
      "text/plain": [
       "7-element Vector{Int64}:\n",
       " 36\n",
       " 16\n",
       "  4\n",
       "  0\n",
       "  4\n",
       " 16\n",
       " 36"
      ]
     },
     "execution_count": 57,
     "metadata": {},
     "output_type": "execute_result"
    }
   ],
   "source": [
    "[x^2 for x in -6:6 if iseven(x)]"
   ]
  },
  {
   "cell_type": "code",
   "execution_count": 58,
   "id": "c0fdc421-403f-4173-b6ac-a9af35e8afe4",
   "metadata": {},
   "outputs": [
    {
     "data": {
      "text/plain": [
       "112"
      ]
     },
     "execution_count": 58,
     "metadata": {},
     "output_type": "execute_result"
    }
   ],
   "source": [
    "sum(x^2 for x in -6:6 if iseven(x))"
   ]
  },
  {
   "cell_type": "code",
   "execution_count": 59,
   "id": "b1fe88d0-be2c-439d-9e91-00e310af2481",
   "metadata": {},
   "outputs": [
    {
     "data": {
      "text/plain": [
       "(36, 16, 4, 0, 4, 16, 36)"
      ]
     },
     "execution_count": 59,
     "metadata": {},
     "output_type": "execute_result"
    }
   ],
   "source": [
    "Tuple(x^2 for x in -6:6 if iseven(x))"
   ]
  },
  {
   "cell_type": "code",
   "execution_count": 60,
   "id": "a065f8e8-9628-4655-9c2f-61c830af6c1a",
   "metadata": {},
   "outputs": [
    {
     "data": {
      "text/plain": [
       "Set{Int64} with 4 elements:\n",
       "  0\n",
       "  4\n",
       "  16\n",
       "  36"
      ]
     },
     "execution_count": 60,
     "metadata": {},
     "output_type": "execute_result"
    }
   ],
   "source": [
    "Set(x^2 for x in -6:6 if iseven(x))"
   ]
  },
  {
   "cell_type": "code",
   "execution_count": 61,
   "id": "39709d77-83af-48ec-9009-d9c66f2eafc6",
   "metadata": {},
   "outputs": [
    {
     "data": {
      "text/plain": [
       "Dict{Int64, Int64} with 7 entries:\n",
       "  0  => 0\n",
       "  4  => 16\n",
       "  6  => 36\n",
       "  2  => 4\n",
       "  -6 => 36\n",
       "  -4 => 16\n",
       "  -2 => 4"
      ]
     },
     "execution_count": 61,
     "metadata": {},
     "output_type": "execute_result"
    }
   ],
   "source": [
    "Dict(x => x^2 for x in -6:6 if iseven(x))"
   ]
  },
  {
   "cell_type": "code",
   "execution_count": 83,
   "id": "246c4638-36a6-40a2-aded-7d47284071f8",
   "metadata": {},
   "outputs": [
    {
     "data": {
      "text/plain": [
       "10-element SharedVector{Tuple{Int64, Int64}}:\n",
       " (0, 0)\n",
       " (0, 0)\n",
       " (0, 0)\n",
       " (0, 0)\n",
       " (0, 0)\n",
       " (0, 0)\n",
       " (0, 0)\n",
       " (0, 0)\n",
       " (0, 0)\n",
       " (0, 0)"
      ]
     },
     "execution_count": 83,
     "metadata": {},
     "output_type": "execute_result"
    }
   ],
   "source": [
    "SharedArray{typeof((1, 2))}((10,))"
   ]
  },
  {
   "cell_type": "code",
   "execution_count": 1,
   "id": "fe54f2cf-15a9-4156-9821-58ae55a0738d",
   "metadata": {},
   "outputs": [
    {
     "data": {
      "text/plain": [
       "10-element SharedVector{Tuple{UnitRange{Int64}, UnitRange{Int64}}}:\n",
       " (0:0, 0:0)\n",
       " (0:0, 0:0)\n",
       " (0:0, 0:0)\n",
       " (0:0, 0:0)\n",
       " (0:0, 0:0)\n",
       " (0:0, 0:0)\n",
       " (0:0, 0:0)\n",
       " (0:0, 0:0)\n",
       " (0:0, 0:0)\n",
       " (0:0, 0:0)"
      ]
     },
     "execution_count": 1,
     "metadata": {},
     "output_type": "execute_result"
    }
   ],
   "source": [
    "using Distributed\n",
    "using SharedArrays\n",
    "\n",
    "rmprocs(procs()[2:end])\n",
    "addprocs(4)\n",
    "\n",
    "S = SharedArray{typeof((1:2, 1:2))}((10,))"
   ]
  },
  {
   "cell_type": "code",
   "execution_count": 2,
   "id": "e3028885-19d9-4a7f-9ae0-b262d58e914c",
   "metadata": {},
   "outputs": [
    {
     "data": {
      "text/plain": [
       "10-element SharedVector{Tuple{UnitRange{Int64}, UnitRange{Int64}}}:\n",
       " (2:4, 6:8)\n",
       " (3:6, 9:12)\n",
       " (4:8, 12:16)\n",
       " (5:10, 15:20)\n",
       " (2:4, 6:8)\n",
       " (3:6, 9:12)\n",
       " (4:8, 12:16)\n",
       " (5:10, 15:20)\n",
       " (2:4, 6:8)\n",
       " (3:6, 9:12)"
      ]
     },
     "execution_count": 2,
     "metadata": {},
     "output_type": "execute_result"
    }
   ],
   "source": [
    "for k in eachindex(S)\n",
    "    remotecall_fetch(workers()[mod1(k, nworkers())]) do\n",
    "        pid = myid()\n",
    "        S[k] = (pid:2pid, 3pid:4pid)\n",
    "    end      \n",
    "end\n",
    "S"
   ]
  },
  {
   "cell_type": "code",
   "execution_count": 6,
   "id": "c475bbd6-20de-46d1-b464-8d71d3737bfb",
   "metadata": {},
   "outputs": [
    {
     "data": {
      "text/plain": [
       "Future(2, 1, 36, nothing)"
      ]
     },
     "execution_count": 6,
     "metadata": {},
     "output_type": "execute_result"
    }
   ],
   "source": [
    "F = remotecall(W[1]) do\n",
    "    pid = myid()\n",
    "    S[1] = (1:2, 3:4)\n",
    "end"
   ]
  },
  {
   "cell_type": "code",
   "execution_count": 7,
   "id": "5068a1a8-c68e-40c3-b41c-6bb56c11bb12",
   "metadata": {},
   "outputs": [
    {
     "data": {
      "text/plain": [
       "10-element SharedVector{Tuple{UnitRange{Int64}, UnitRange{Int64}}}:\n",
       " (1:2, 3:4)\n",
       " (3:6, 9:12)\n",
       " (4:8, 12:16)\n",
       " (5:10, 15:20)\n",
       " (2:4, 6:8)\n",
       " (3:6, 9:12)\n",
       " (4:8, 12:16)\n",
       " (5:10, 15:20)\n",
       " (2:4, 6:8)\n",
       " (3:6, 9:12)"
      ]
     },
     "execution_count": 7,
     "metadata": {},
     "output_type": "execute_result"
    }
   ],
   "source": [
    "S"
   ]
  },
  {
   "cell_type": "code",
   "execution_count": 8,
   "id": "e1a2521e-ded8-436f-be74-6a0a01d47fea",
   "metadata": {},
   "outputs": [
    {
     "data": {
      "text/plain": [
       "(1:2, 3:4)"
      ]
     },
     "execution_count": 8,
     "metadata": {},
     "output_type": "execute_result"
    }
   ],
   "source": [
    "fetch(F)"
   ]
  },
  {
   "cell_type": "code",
   "execution_count": null,
   "id": "5813ef5f-4301-4f59-b531-026e35942cce",
   "metadata": {},
   "outputs": [],
   "source": []
  }
 ],
 "metadata": {
  "kernelspec": {
   "display_name": "Julia 1.7.0-beta3",
   "language": "julia",
   "name": "julia-1.7"
  },
  "language_info": {
   "file_extension": ".jl",
   "mimetype": "application/julia",
   "name": "julia",
   "version": "1.7.0"
  }
 },
 "nbformat": 4,
 "nbformat_minor": 5
}
