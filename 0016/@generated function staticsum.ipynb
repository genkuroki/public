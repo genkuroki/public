{
 "cells": [
  {
   "cell_type": "code",
   "execution_count": 1,
   "id": "f40e2193-363d-4f60-bde7-9ed15a11bdd7",
   "metadata": {},
   "outputs": [
    {
     "data": {
      "text/latex": [
       "\\begin{verbatim}\n",
       "@generated f\n",
       "@generated(f)\n",
       "\\end{verbatim}\n",
       "\\texttt{@generated} is used to annotate a function which will be generated. In the body of the generated function, only types of arguments can be read (not the values). The function returns a quoted expression evaluated when the function is called. The \\texttt{@generated} macro should not be used on functions mutating the global scope or depending on mutable elements.\n",
       "\n",
       "See \\href{@ref}{Metaprogramming} for further details.\n",
       "\n",
       "\\subsection{Example:}\n",
       "\\begin{verbatim}\n",
       "julia> @generated function bar(x)\n",
       "           if x <: Integer\n",
       "               return :(x ^ 2)\n",
       "           else\n",
       "               return :(x)\n",
       "           end\n",
       "       end\n",
       "bar (generic function with 1 method)\n",
       "\n",
       "julia> bar(4)\n",
       "16\n",
       "\n",
       "julia> bar(\"baz\")\n",
       "\"baz\"\n",
       "\\end{verbatim}\n"
      ],
      "text/markdown": [
       "```\n",
       "@generated f\n",
       "@generated(f)\n",
       "```\n",
       "\n",
       "`@generated` is used to annotate a function which will be generated. In the body of the generated function, only types of arguments can be read (not the values). The function returns a quoted expression evaluated when the function is called. The `@generated` macro should not be used on functions mutating the global scope or depending on mutable elements.\n",
       "\n",
       "See [Metaprogramming](@ref) for further details.\n",
       "\n",
       "## Example:\n",
       "\n",
       "```julia\n",
       "julia> @generated function bar(x)\n",
       "           if x <: Integer\n",
       "               return :(x ^ 2)\n",
       "           else\n",
       "               return :(x)\n",
       "           end\n",
       "       end\n",
       "bar (generic function with 1 method)\n",
       "\n",
       "julia> bar(4)\n",
       "16\n",
       "\n",
       "julia> bar(\"baz\")\n",
       "\"baz\"\n",
       "```\n"
      ],
      "text/plain": [
       "\u001b[36m  @generated f\u001b[39m\n",
       "\u001b[36m  @generated(f)\u001b[39m\n",
       "\n",
       "  \u001b[36m@generated\u001b[39m is used to annotate a function which will be generated. In the\n",
       "  body of the generated function, only types of arguments can be read (not the\n",
       "  values). The function returns a quoted expression evaluated when the\n",
       "  function is called. The \u001b[36m@generated\u001b[39m macro should not be used on functions\n",
       "  mutating the global scope or depending on mutable elements.\n",
       "\n",
       "  See Metaprogramming for further details.\n",
       "\n",
       "\u001b[1m  Example:\u001b[22m\n",
       "\u001b[1m  ==========\u001b[22m\n",
       "\n",
       "\u001b[36m  julia> @generated function bar(x)\u001b[39m\n",
       "\u001b[36m             if x <: Integer\u001b[39m\n",
       "\u001b[36m                 return :(x ^ 2)\u001b[39m\n",
       "\u001b[36m             else\u001b[39m\n",
       "\u001b[36m                 return :(x)\u001b[39m\n",
       "\u001b[36m             end\u001b[39m\n",
       "\u001b[36m         end\u001b[39m\n",
       "\u001b[36m  bar (generic function with 1 method)\u001b[39m\n",
       "\u001b[36m  \u001b[39m\n",
       "\u001b[36m  julia> bar(4)\u001b[39m\n",
       "\u001b[36m  16\u001b[39m\n",
       "\u001b[36m  \u001b[39m\n",
       "\u001b[36m  julia> bar(\"baz\")\u001b[39m\n",
       "\u001b[36m  \"baz\"\u001b[39m"
      ]
     },
     "execution_count": 1,
     "metadata": {},
     "output_type": "execute_result"
    }
   ],
   "source": [
    "?@generated"
   ]
  },
  {
   "cell_type": "code",
   "execution_count": 2,
   "id": "2ccdcfc8-3b0c-4009-a334-a2ce2615d9d1",
   "metadata": {},
   "outputs": [
    {
     "data": {
      "text/plain": [
       "_staticsum (generic function with 1 method)"
      ]
     },
     "execution_count": 2,
     "metadata": {},
     "output_type": "execute_result"
    }
   ],
   "source": [
    "function _staticsum(f, a, b)\n",
    "    expr = :(f($a))\n",
    "    for i in a+1:b\n",
    "        expr = :($expr + f($i))\n",
    "    end\n",
    "    expr\n",
    "end"
   ]
  },
  {
   "cell_type": "code",
   "execution_count": 3,
   "id": "0bbfc572-757e-408d-9207-df83e4885989",
   "metadata": {},
   "outputs": [
    {
     "data": {
      "text/plain": [
       ":(((((((f(-3) + f(-2)) + f(-1)) + f(0)) + f(1)) + f(2)) + f(3)) + f(4))"
      ]
     },
     "execution_count": 3,
     "metadata": {},
     "output_type": "execute_result"
    }
   ],
   "source": [
    "_staticsum(:f, -3, 4)"
   ]
  },
  {
   "cell_type": "code",
   "execution_count": 4,
   "id": "af1f5fd7-d7a3-4ce3-922b-5bffc94ae6b4",
   "metadata": {},
   "outputs": [
    {
     "data": {
      "text/plain": [
       "staticsum (generic function with 1 method)"
      ]
     },
     "execution_count": 4,
     "metadata": {},
     "output_type": "execute_result"
    }
   ],
   "source": [
    "@generated function staticsum(f, ::Val{a}, ::Val{b}) where {a, b}\n",
    "    @assert b - a < 100\n",
    "    expr = :(f($a))\n",
    "    for i in a+1:b\n",
    "        expr = :($expr + f($i))\n",
    "    end\n",
    "    expr\n",
    "end"
   ]
  },
  {
   "cell_type": "code",
   "execution_count": 5,
   "id": "3c7d3ba6-211b-4bfa-a924-29c0c931a909",
   "metadata": {},
   "outputs": [
    {
     "data": {
      "text/plain": [
       "55"
      ]
     },
     "execution_count": 5,
     "metadata": {},
     "output_type": "execute_result"
    }
   ],
   "source": [
    "staticsum(identity, Val(1), Val(10))"
   ]
  },
  {
   "cell_type": "code",
   "execution_count": 6,
   "id": "564fa3ba-48d2-423d-848f-14109e957117",
   "metadata": {},
   "outputs": [
    {
     "data": {
      "text/plain": [
       "3.120857876802125"
      ]
     },
     "execution_count": 6,
     "metadata": {},
     "output_type": "execute_result"
    }
   ],
   "source": [
    "2staticsum(x -> sin(x)/x, Val(1), Val(100)) + 1"
   ]
  },
  {
   "cell_type": "code",
   "execution_count": 7,
   "id": "1b9d5fb8-e513-43ab-80b9-f5b8213b9f4a",
   "metadata": {},
   "outputs": [
    {
     "data": {
      "text/plain": [
       "F_static (generic function with 1 method)"
      ]
     },
     "execution_count": 7,
     "metadata": {},
     "output_type": "execute_result"
    }
   ],
   "source": [
    "F(n) = 2sum(x -> sin(x)/x, 1:n) + 1\n",
    "F_static(n) = 2staticsum(x -> sin(x)/x, Val(1), Val(n)) + 1"
   ]
  },
  {
   "cell_type": "code",
   "execution_count": 8,
   "id": "09b922df-33db-4051-9ce6-91f7d38e0c19",
   "metadata": {},
   "outputs": [
    {
     "name": "stdout",
     "output_type": "stream",
     "text": [
      "F(100) == F_static(100) = true\n",
      "  991.667 ns (0 allocations: 0 bytes)\n",
      "  2.000 ns (0 allocations: 0 bytes)\n"
     ]
    },
    {
     "data": {
      "text/plain": [
       "3.120857876802125"
      ]
     },
     "execution_count": 8,
     "metadata": {},
     "output_type": "execute_result"
    }
   ],
   "source": [
    "using BenchmarkTools\n",
    "@show F(100) == F_static(100)\n",
    "@btime F(100)\n",
    "@btime F_static(100)"
   ]
  },
  {
   "cell_type": "code",
   "execution_count": 9,
   "id": "9aeaa838-955b-40ac-b9ca-903fc21009a2",
   "metadata": {},
   "outputs": [
    {
     "data": {
      "text/plain": [
       "BenchmarkTools.Trial: 10000 samples with 12 evaluations.\n",
       " Range \u001b[90m(\u001b[39m\u001b[36m\u001b[1mmin\u001b[22m\u001b[39m … \u001b[35mmax\u001b[39m\u001b[90m):  \u001b[39m\u001b[36m\u001b[1m983.333 ns\u001b[22m\u001b[39m … \u001b[35m  5.067 μs\u001b[39m  \u001b[90m┊\u001b[39m GC \u001b[90m(\u001b[39mmin … max\u001b[90m): \u001b[39m0.00% … 0.00%\n",
       " Time  \u001b[90m(\u001b[39m\u001b[34m\u001b[1mmedian\u001b[22m\u001b[39m\u001b[90m):     \u001b[39m\u001b[34m\u001b[1m  1.025 μs               \u001b[22m\u001b[39m\u001b[90m┊\u001b[39m GC \u001b[90m(\u001b[39mmedian\u001b[90m):    \u001b[39m0.00%\n",
       " Time  \u001b[90m(\u001b[39m\u001b[32m\u001b[1mmean\u001b[22m\u001b[39m ± \u001b[32mσ\u001b[39m\u001b[90m):   \u001b[39m\u001b[32m\u001b[1m  1.054 μs\u001b[22m\u001b[39m ± \u001b[32m227.020 ns\u001b[39m  \u001b[90m┊\u001b[39m GC \u001b[90m(\u001b[39mmean ± σ\u001b[90m):  \u001b[39m0.00% ± 0.00%\n",
       "\n",
       "  \u001b[34m█\u001b[39m\u001b[39m \u001b[39m \u001b[39m \u001b[39m \u001b[39m \u001b[39m \u001b[39m \u001b[39m \u001b[39m \u001b[39m \u001b[39m \u001b[39m \u001b[39m \u001b[39m \u001b[39m \u001b[39m \u001b[39m \u001b[39m \u001b[39m \u001b[39m \u001b[39m \u001b[39m \u001b[39m \u001b[39m \u001b[39m \u001b[39m \u001b[39m \u001b[39m \u001b[39m \u001b[39m \u001b[39m \u001b[39m \u001b[39m \u001b[39m \u001b[39m \u001b[39m \u001b[39m \u001b[39m \u001b[39m \u001b[39m \u001b[39m \u001b[39m \u001b[39m \u001b[39m \u001b[39m \u001b[39m \u001b[39m \u001b[39m \u001b[39m \u001b[39m \u001b[39m \u001b[39m \u001b[39m \u001b[39m \u001b[39m \u001b[39m \u001b[39m \u001b[39m \u001b[39m \u001b[39m \u001b[39m \u001b[39m \n",
       "  \u001b[34m█\u001b[39m\u001b[39m▁\u001b[39m▁\u001b[39m▁\u001b[39m▁\u001b[39m▁\u001b[39m▁\u001b[39m▁\u001b[39m▁\u001b[39m▁\u001b[39m▁\u001b[39m▁\u001b[39m▁\u001b[39m▁\u001b[39m▁\u001b[39m▁\u001b[39m▁\u001b[39m▁\u001b[39m▁\u001b[39m▁\u001b[39m▁\u001b[39m▁\u001b[39m▁\u001b[39m▁\u001b[39m▁\u001b[39m▁\u001b[39m▁\u001b[39m▁\u001b[39m▁\u001b[39m▁\u001b[39m▁\u001b[39m▁\u001b[39m▁\u001b[39m▁\u001b[39m▁\u001b[39m▁\u001b[39m▁\u001b[39m▁\u001b[39m▁\u001b[39m▁\u001b[39m▁\u001b[39m▁\u001b[39m▁\u001b[39m▁\u001b[39m▁\u001b[39m▁\u001b[39m▁\u001b[39m▁\u001b[39m▁\u001b[39m▁\u001b[39m▁\u001b[39m▁\u001b[39m▁\u001b[39m \u001b[39m▁\u001b[39m▁\u001b[39m▁\u001b[39m▁\u001b[39m▁\u001b[39m \u001b[39m▁\u001b[39m \u001b[39m▁\n",
       "  1.35 μs\u001b[90m          Histogram: frequency by time\u001b[39m         1.02 μs \u001b[0m\u001b[1m<\u001b[22m\n",
       "\n",
       " Memory estimate\u001b[90m: \u001b[39m\u001b[33m0 bytes\u001b[39m, allocs estimate\u001b[90m: \u001b[39m\u001b[33m0\u001b[39m."
      ]
     },
     "execution_count": 9,
     "metadata": {},
     "output_type": "execute_result"
    }
   ],
   "source": [
    "@benchmark F(100)"
   ]
  },
  {
   "cell_type": "code",
   "execution_count": 10,
   "id": "93156a93-90e1-45a6-9f54-42d7b35217d6",
   "metadata": {},
   "outputs": [
    {
     "data": {
      "text/plain": [
       "BenchmarkTools.Trial: 10000 samples with 1000 evaluations.\n",
       " Range \u001b[90m(\u001b[39m\u001b[36m\u001b[1mmin\u001b[22m\u001b[39m … \u001b[35mmax\u001b[39m\u001b[90m):  \u001b[39m\u001b[36m\u001b[1m1.900 ns\u001b[22m\u001b[39m … \u001b[35m39.300 ns\u001b[39m  \u001b[90m┊\u001b[39m GC \u001b[90m(\u001b[39mmin … max\u001b[90m): \u001b[39m0.00% … 0.00%\n",
       " Time  \u001b[90m(\u001b[39m\u001b[34m\u001b[1mmedian\u001b[22m\u001b[39m\u001b[90m):     \u001b[39m\u001b[34m\u001b[1m2.000 ns              \u001b[22m\u001b[39m\u001b[90m┊\u001b[39m GC \u001b[90m(\u001b[39mmedian\u001b[90m):    \u001b[39m0.00%\n",
       " Time  \u001b[90m(\u001b[39m\u001b[32m\u001b[1mmean\u001b[22m\u001b[39m ± \u001b[32mσ\u001b[39m\u001b[90m):   \u001b[39m\u001b[32m\u001b[1m2.132 ns\u001b[22m\u001b[39m ± \u001b[32m 1.112 ns\u001b[39m  \u001b[90m┊\u001b[39m GC \u001b[90m(\u001b[39mmean ± σ\u001b[90m):  \u001b[39m0.00% ± 0.00%\n",
       "\n",
       "  \u001b[34m█\u001b[39m\u001b[39m \u001b[39m \u001b[39m \u001b[39m \u001b[39m \u001b[39m \u001b[39m \u001b[39m \u001b[39m \u001b[39m \u001b[39m \u001b[39m \u001b[39m \u001b[39m \u001b[39m \u001b[39m \u001b[39m \u001b[39m \u001b[39m \u001b[39m \u001b[39m \u001b[39m \u001b[39m \u001b[39m \u001b[39m \u001b[39m \u001b[39m \u001b[39m \u001b[39m \u001b[39m \u001b[39m \u001b[39m \u001b[39m \u001b[39m \u001b[39m \u001b[39m \u001b[39m \u001b[39m \u001b[39m \u001b[39m \u001b[39m \u001b[39m \u001b[39m \u001b[39m \u001b[39m \u001b[39m \u001b[39m \u001b[39m \u001b[39m \u001b[39m \u001b[39m \u001b[39m \u001b[39m \u001b[39m \u001b[39m \u001b[39m \u001b[39m \u001b[39m \u001b[39m \n",
       "  \u001b[34m█\u001b[39m\u001b[39m▁\u001b[39m▁\u001b[39m▁\u001b[39m▁\u001b[39m▁\u001b[39m▁\u001b[39m▁\u001b[39m▁\u001b[39m▁\u001b[39m▁\u001b[39m▁\u001b[39m▁\u001b[39m▁\u001b[39m▁\u001b[39m▁\u001b[39m▁\u001b[39m▁\u001b[39m▁\u001b[39m▁\u001b[39m▁\u001b[39m▁\u001b[39m▁\u001b[39m▁\u001b[39m▁\u001b[39m▁\u001b[39m▁\u001b[39m▁\u001b[39m▁\u001b[39m▁\u001b[39m▁\u001b[39m▁\u001b[39m▁\u001b[39m▁\u001b[39m▁\u001b[39m▁\u001b[39m▁\u001b[39m▁\u001b[39m▁\u001b[39m▁\u001b[39m▁\u001b[39m▁\u001b[39m▁\u001b[39m▁\u001b[39m▁\u001b[39m▁\u001b[39m▁\u001b[39m▁\u001b[39m▁\u001b[39m▁\u001b[39m▁\u001b[39m▁\u001b[39m▁\u001b[39m▁\u001b[39m▁\u001b[39m▁\u001b[39m▁\u001b[39m▁\u001b[39m \u001b[39m▂\n",
       "  2.9 ns\u001b[90m         Histogram: frequency by time\u001b[39m           2 ns \u001b[0m\u001b[1m<\u001b[22m\n",
       "\n",
       " Memory estimate\u001b[90m: \u001b[39m\u001b[33m0 bytes\u001b[39m, allocs estimate\u001b[90m: \u001b[39m\u001b[33m0\u001b[39m."
      ]
     },
     "execution_count": 10,
     "metadata": {},
     "output_type": "execute_result"
    }
   ],
   "source": [
    "@benchmark F_static(100)"
   ]
  },
  {
   "cell_type": "code",
   "execution_count": 11,
   "id": "7f082e61-e900-4e45-bc4c-1d680718341e",
   "metadata": {},
   "outputs": [
    {
     "name": "stdout",
     "output_type": "stream",
     "text": [
      "Variables\n",
      "  #self#\u001b[36m::Core.Const(staticsum)\u001b[39m\n",
      "  f\u001b[36m::Core.Const(var\"#8#9\"())\u001b[39m\n",
      "  #unused#@_3\u001b[36m::Core.Const(Val{1}())\u001b[39m\n",
      "  #unused#@_4\u001b[36m::Core.Const(Val{5}())\u001b[39m\n",
      "\n",
      "Body\u001b[36m::Float64\u001b[39m\n",
      "\u001b[90m1 ─\u001b[39m %1 = (f)(1)\u001b[36m::Float64\u001b[39m\n",
      "\u001b[90m│  \u001b[39m %2 = (f)(2)\u001b[36m::Float64\u001b[39m\n",
      "\u001b[90m│  \u001b[39m %3 = (%1 + %2)\u001b[36m::Float64\u001b[39m\n",
      "\u001b[90m│  \u001b[39m %4 = (f)(3)\u001b[36m::Float64\u001b[39m\n",
      "\u001b[90m│  \u001b[39m %5 = (%3 + %4)\u001b[36m::Float64\u001b[39m\n",
      "\u001b[90m│  \u001b[39m %6 = (f)(4)\u001b[36m::Float64\u001b[39m\n",
      "\u001b[90m│  \u001b[39m %7 = (%5 + %6)\u001b[36m::Float64\u001b[39m\n",
      "\u001b[90m│  \u001b[39m %8 = (f)(5)\u001b[36m::Float64\u001b[39m\n",
      "\u001b[90m│  \u001b[39m %9 = (%7 + %8)\u001b[36m::Float64\u001b[39m\n",
      "\u001b[90m└──\u001b[39m      return %9\n"
     ]
    }
   ],
   "source": [
    "@code_warntype staticsum(x -> sin(x)/x, Val(1), Val(5))"
   ]
  },
  {
   "cell_type": "code",
   "execution_count": 12,
   "id": "0e0a08d1-5938-4768-8514-88bff348c8ed",
   "metadata": {},
   "outputs": [
    {
     "data": {
      "text/plain": [
       "CodeInfo(\n",
       "\u001b[90m1 ─\u001b[39m %1  = Base.muladd_float(0.3258084466825465, 2.480158728947673e-5, -0.001388888888887411)\u001b[36m::Float64\u001b[39m\n",
       "\u001b[90m│  \u001b[39m %2  = Base.muladd_float(0.3258084466825465, %1, 0.0416666666666666)\u001b[36m::Float64\u001b[39m\n",
       "\u001b[90m│  \u001b[39m %3  = Base.mul_float(0.3258084466825465, %2)\u001b[36m::Float64\u001b[39m\n",
       "\u001b[90m│  \u001b[39m %4  = Base.muladd_float(0.3258084466825465, -1.1359647557788195e-11, 2.087572321298175e-9)\u001b[36m::Float64\u001b[39m\n",
       "\u001b[90m│  \u001b[39m %5  = Base.muladd_float(0.3258084466825465, %4, -2.7557314351390663e-7)\u001b[36m::Float64\u001b[39m\n",
       "\u001b[90m│  \u001b[39m %6  = Base.mul_float(0.10615114392969374, 0.10615114392969374)\u001b[36m::Float64\u001b[39m\n",
       "\u001b[90m│  \u001b[39m %7  = Base.mul_float(%6, %5)\u001b[36m::Float64\u001b[39m\n",
       "\u001b[90m│  \u001b[39m %8  = Base.add_float(%3, %7)\u001b[36m::Float64\u001b[39m\n",
       "\u001b[90m│  \u001b[39m %9  = Base.mul_float(0.3258084466825465, %8)\u001b[36m::Float64\u001b[39m\n",
       "\u001b[90m│  \u001b[39m %10 = Base.sub_float(%9, -2.8419927711204204e-17)\u001b[36m::Float64\u001b[39m\n",
       "\u001b[90m│  \u001b[39m %11 = Base.add_float(-5.551115123125783e-17, %10)\u001b[36m::Float64\u001b[39m\n",
       "\u001b[90m│  \u001b[39m %12 = Base.add_float(0.8370957766587268, %11)\u001b[36m::Float64\u001b[39m\n",
       "\u001b[90m│  \u001b[39m %13 = Base.div_float(%12, 1.0)\u001b[36m::Float64\u001b[39m\n",
       "\u001b[90m│  \u001b[39m %14 = Base.muladd_float(0.18421579309275318, 2.480158728947673e-5, -0.001388888888887411)\u001b[36m::Float64\u001b[39m\n",
       "\u001b[90m│  \u001b[39m %15 = Base.muladd_float(0.18421579309275318, %14, 0.0416666666666666)\u001b[36m::Float64\u001b[39m\n",
       "\u001b[90m│  \u001b[39m %16 = Base.mul_float(0.18421579309275318, %15)\u001b[36m::Float64\u001b[39m\n",
       "\u001b[90m│  \u001b[39m %17 = Base.muladd_float(0.18421579309275318, -1.1359647557788195e-11, 2.087572321298175e-9)\u001b[36m::Float64\u001b[39m\n",
       "\u001b[90m│  \u001b[39m %18 = Base.muladd_float(0.18421579309275318, %17, -2.7557314351390663e-7)\u001b[36m::Float64\u001b[39m\n",
       "\u001b[90m│  \u001b[39m %19 = Base.mul_float(0.03393545842479205, 0.03393545842479205)\u001b[36m::Float64\u001b[39m\n",
       "\u001b[90m│  \u001b[39m %20 = Base.mul_float(%19, %18)\u001b[36m::Float64\u001b[39m\n",
       "\u001b[90m│  \u001b[39m %21 = Base.add_float(%16, %20)\u001b[36m::Float64\u001b[39m\n",
       "\u001b[90m│  \u001b[39m %22 = Base.mul_float(0.18421579309275318, %21)\u001b[36m::Float64\u001b[39m\n",
       "\u001b[90m│  \u001b[39m %23 = Base.sub_float(%22, -2.4555552148344996e-18)\u001b[36m::Float64\u001b[39m\n",
       "\u001b[90m│  \u001b[39m %24 = Base.add_float(4.163336342344337e-17, %23)\u001b[36m::Float64\u001b[39m\n",
       "\u001b[90m│  \u001b[39m %25 = Base.add_float(0.9078921034536234, %24)\u001b[36m::Float64\u001b[39m\n",
       "\u001b[90m│  \u001b[39m %26 = Base.div_float(%25, 2.0)\u001b[36m::Float64\u001b[39m\n",
       "\u001b[90m│  \u001b[39m %27 = Base.add_float(%13, %26)\u001b[36m::Float64\u001b[39m\n",
       "\u001b[90m│  \u001b[39m %28 = Base.muladd_float(0.020048479550599185, 2.7557313707070068e-6, -0.0001984126982985795)\u001b[36m::Float64\u001b[39m\n",
       "\u001b[90m│  \u001b[39m %29 = Base.muladd_float(0.020048479550599185, %28, 0.00833333333332249)\u001b[36m::Float64\u001b[39m\n",
       "\u001b[90m│  \u001b[39m %30 = Base.muladd_float(0.020048479550599185, 1.58969099521155e-10, -2.5050760253406863e-8)\u001b[36m::Float64\u001b[39m\n",
       "\u001b[90m│  \u001b[39m %31 = Base.mul_float(0.020048479550599185, 0.0004019415322907937)\u001b[36m::Float64\u001b[39m\n",
       "\u001b[90m│  \u001b[39m %32 = Base.mul_float(%31, %30)\u001b[36m::Float64\u001b[39m\n",
       "\u001b[90m│  \u001b[39m %33 = Base.add_float(%29, %32)\u001b[36m::Float64\u001b[39m\n",
       "\u001b[90m│  \u001b[39m %34 = Base.mul_float(-0.002838717420010044, %33)\u001b[36m::Float64\u001b[39m\n",
       "\u001b[90m│  \u001b[39m %35 = Base.sub_float(-5.721188722588272e-18, %34)\u001b[36m::Float64\u001b[39m\n",
       "\u001b[90m│  \u001b[39m %36 = Base.mul_float(0.020048479550599185, %35)\u001b[36m::Float64\u001b[39m\n",
       "\u001b[90m│  \u001b[39m %37 = Base.sub_float(%36, -1.1442377445176544e-17)\u001b[36m::Float64\u001b[39m\n",
       "\u001b[90m│  \u001b[39m %38 = Base.sub_float(%37, 0.000473119570001673)\u001b[36m::Float64\u001b[39m\n",
       "\u001b[90m│  \u001b[39m %39 = Base.sub_float(-0.14159265358979323, %38)\u001b[36m::Float64\u001b[39m\n",
       "\u001b[90m│  \u001b[39m %40 = Base.neg_float(%39)\u001b[36m::Float64\u001b[39m\n",
       "\u001b[90m│  \u001b[39m %41 = Base.div_float(%40, 3.0)\u001b[36m::Float64\u001b[39m\n",
       "\u001b[90m│  \u001b[39m %42 = Base.add_float(%27, %41)\u001b[36m::Float64\u001b[39m\n",
       "\u001b[90m│  \u001b[39m %43 = Base.muladd_float(0.5074980593735381, 2.480158728947673e-5, -0.001388888888887411)\u001b[36m::Float64\u001b[39m\n",
       "\u001b[90m│  \u001b[39m %44 = Base.muladd_float(0.5074980593735381, %43, 0.0416666666666666)\u001b[36m::Float64\u001b[39m\n",
       "\u001b[90m│  \u001b[39m %45 = Base.mul_float(0.5074980593735381, %44)\u001b[36m::Float64\u001b[39m\n",
       "\u001b[90m│  \u001b[39m %46 = Base.muladd_float(0.5074980593735381, -1.1359647557788195e-11, 2.087572321298175e-9)\u001b[36m::Float64\u001b[39m\n",
       "\u001b[90m│  \u001b[39m %47 = Base.muladd_float(0.5074980593735381, %46, -2.7557314351390663e-7)\u001b[36m::Float64\u001b[39m\n",
       "\u001b[90m│  \u001b[39m %48 = Base.mul_float(0.2575542802679072, 0.2575542802679072)\u001b[36m::Float64\u001b[39m\n",
       "\u001b[90m│  \u001b[39m %49 = Base.mul_float(%48, %47)\u001b[36m::Float64\u001b[39m\n",
       "\u001b[90m│  \u001b[39m %50 = Base.add_float(%45, %49)\u001b[36m::Float64\u001b[39m\n",
       "\u001b[90m│  \u001b[39m %51 = Base.mul_float(0.5074980593735381, %50)\u001b[36m::Float64\u001b[39m\n",
       "\u001b[90m│  \u001b[39m %52 = Base.sub_float(%51, -2.731839701438954e-17)\u001b[36m::Float64\u001b[39m\n",
       "\u001b[90m│  \u001b[39m %53 = Base.add_float(0.0, %52)\u001b[36m::Float64\u001b[39m\n",
       "\u001b[90m│  \u001b[39m %54 = Base.add_float(0.746250970313231, %53)\u001b[36m::Float64\u001b[39m\n",
       "\u001b[90m│  \u001b[39m %55 = Base.neg_float(%54)\u001b[36m::Float64\u001b[39m\n",
       "\u001b[90m│  \u001b[39m %56 = Base.div_float(%55, 4.0)\u001b[36m::Float64\u001b[39m\n",
       "\u001b[90m│  \u001b[39m %57 = Base.add_float(%42, %56)\u001b[36m::Float64\u001b[39m\n",
       "\u001b[90m│  \u001b[39m %58 = Base.muladd_float(0.08272009860415833, 2.480158728947673e-5, -0.001388888888887411)\u001b[36m::Float64\u001b[39m\n",
       "\u001b[90m│  \u001b[39m %59 = Base.muladd_float(0.08272009860415833, %58, 0.0416666666666666)\u001b[36m::Float64\u001b[39m\n",
       "\u001b[90m│  \u001b[39m %60 = Base.mul_float(0.08272009860415833, %59)\u001b[36m::Float64\u001b[39m\n",
       "\u001b[90m│  \u001b[39m %61 = Base.muladd_float(0.08272009860415833, -1.1359647557788195e-11, 2.087572321298175e-9)\u001b[36m::Float64\u001b[39m\n",
       "\u001b[90m│  \u001b[39m %62 = Base.muladd_float(0.08272009860415833, %61, -2.7557314351390663e-7)\u001b[36m::Float64\u001b[39m\n",
       "\u001b[90m│  \u001b[39m %63 = Base.mul_float(0.0068426147130816765, 0.0068426147130816765)\u001b[36m::Float64\u001b[39m\n",
       "\u001b[90m│  \u001b[39m %64 = Base.mul_float(%63, %62)\u001b[36m::Float64\u001b[39m\n",
       "\u001b[90m│  \u001b[39m %65 = Base.add_float(%60, %64)\u001b[36m::Float64\u001b[39m\n",
       "\u001b[90m│  \u001b[39m %66 = Base.mul_float(0.08272009860415833, %65)\u001b[36m::Float64\u001b[39m\n",
       "\u001b[90m│  \u001b[39m %67 = Base.sub_float(%66, -4.936430769462966e-18)\u001b[36m::Float64\u001b[39m\n",
       "\u001b[90m│  \u001b[39m %68 = Base.add_float(-1.3877787807814457e-17, %67)\u001b[36m::Float64\u001b[39m\n",
       "\u001b[90m│  \u001b[39m %69 = Base.add_float(0.9586399506979209, %68)\u001b[36m::Float64\u001b[39m\n",
       "\u001b[90m│  \u001b[39m %70 = Base.neg_float(%69)\u001b[36m::Float64\u001b[39m\n",
       "\u001b[90m│  \u001b[39m %71 = Base.div_float(%70, 5.0)\u001b[36m::Float64\u001b[39m\n",
       "\u001b[90m│  \u001b[39m %72 = Base.add_float(%57, %71)\u001b[36m::Float64\u001b[39m\n",
       "\u001b[90m└──\u001b[39m       return %72\n",
       ") => Float64"
      ]
     },
     "execution_count": 12,
     "metadata": {},
     "output_type": "execute_result"
    }
   ],
   "source": [
    "@code_typed staticsum(x -> sin(x)/x, Val(1), Val(5))"
   ]
  },
  {
   "cell_type": "code",
   "execution_count": 13,
   "id": "d5f2da78-4b47-4c05-b592-ff627b4e79ed",
   "metadata": {},
   "outputs": [
    {
     "data": {
      "text/plain": [
       "CodeInfo(\n",
       "\u001b[90m1 ─\u001b[39m %1 = Base.add_sum\u001b[36m::typeof(Base.add_sum)\u001b[39m\n",
       "\u001b[90m│  \u001b[39m %2 = invoke Base._mapreduce(_2::var\"#12#13\", %1::typeof(Base.add_sum), $(QuoteNode(IndexLinear()))::IndexLinear, _3::UnitRange{Int64})\u001b[36m::Float64\u001b[39m\n",
       "\u001b[90m└──\u001b[39m      return %2\n",
       ") => Float64"
      ]
     },
     "execution_count": 13,
     "metadata": {},
     "output_type": "execute_result"
    }
   ],
   "source": [
    "@code_typed sum(x -> sin(x)/x, 1:5)"
   ]
  },
  {
   "cell_type": "code",
   "execution_count": null,
   "id": "ad296712-98c5-4cae-8a59-149332029389",
   "metadata": {},
   "outputs": [],
   "source": []
  }
 ],
 "metadata": {
  "jupytext": {
   "formats": "ipynb,auto:hydrogen"
  },
  "kernelspec": {
   "display_name": "Julia 1.6.2",
   "language": "julia",
   "name": "julia-1.6"
  },
  "language_info": {
   "file_extension": ".jl",
   "mimetype": "application/julia",
   "name": "julia",
   "version": "1.6.2"
  }
 },
 "nbformat": 4,
 "nbformat_minor": 5
}
