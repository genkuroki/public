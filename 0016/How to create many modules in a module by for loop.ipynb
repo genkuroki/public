{
 "cells": [
  {
   "cell_type": "code",
   "execution_count": 1,
   "id": "fba0e155-0412-45d3-86e1-1e37e9e265da",
   "metadata": {},
   "outputs": [
    {
     "data": {
      "text/plain": [
       "Main.O"
      ]
     },
     "execution_count": 1,
     "metadata": {},
     "output_type": "execute_result"
    }
   ],
   "source": [
    "module O\n",
    "\n",
    "struct Program f::Function end\n",
    "const TestSet = Dict{Symbol, Program}()\n",
    "\n",
    "filenames = (\"dir/A.jl\", \"dir/B.jl\", \"dir/C.jl\")\n",
    "rmext(x) = replace(x, r\"\\.[^.]*$\"=>\"\")\n",
    "\n",
    "for fn in filenames\n",
    "    s = rmext(basename(fn))\n",
    "    m = Symbol(s)\n",
    "    @eval module $m\n",
    "        using ..O\n",
    "        f() = \"f defined in the module O.\" * $s # or include(fn)\n",
    "        O.TestSet[Symbol($s)] = O.Program(f)\n",
    "    end\n",
    "end\n",
    "\n",
    "end"
   ]
  },
  {
   "cell_type": "code",
   "execution_count": 2,
   "id": "3ee49203-f7d5-43ba-9016-89186c44ec38",
   "metadata": {},
   "outputs": [
    {
     "data": {
      "text/plain": [
       "Dict{Symbol, Main.O.Program} with 3 entries:\n",
       "  :A => Program(f)\n",
       "  :B => Program(f)\n",
       "  :C => Program(f)"
      ]
     },
     "execution_count": 2,
     "metadata": {},
     "output_type": "execute_result"
    }
   ],
   "source": [
    "O.TestSet"
   ]
  },
  {
   "cell_type": "code",
   "execution_count": 3,
   "id": "fccb638b-7ad0-4c50-9b0e-453198374e19",
   "metadata": {},
   "outputs": [
    {
     "data": {
      "text/plain": [
       "\"f defined in the module O.A\""
      ]
     },
     "execution_count": 3,
     "metadata": {},
     "output_type": "execute_result"
    }
   ],
   "source": [
    "O.TestSet[:A].f()"
   ]
  },
  {
   "cell_type": "code",
   "execution_count": 4,
   "id": "3648bbcb-2279-49fd-b527-8010521fd950",
   "metadata": {},
   "outputs": [
    {
     "data": {
      "text/plain": [
       "\"f defined in the module O.A\""
      ]
     },
     "execution_count": 4,
     "metadata": {},
     "output_type": "execute_result"
    }
   ],
   "source": [
    "O.A.f()"
   ]
  },
  {
   "cell_type": "code",
   "execution_count": 5,
   "id": "737d4f93-390b-4646-825e-8910072e87aa",
   "metadata": {},
   "outputs": [
    {
     "data": {
      "text/plain": [
       "\"f defined in the module O.B\""
      ]
     },
     "execution_count": 5,
     "metadata": {},
     "output_type": "execute_result"
    }
   ],
   "source": [
    "O.TestSet[:B].f()"
   ]
  },
  {
   "cell_type": "code",
   "execution_count": 6,
   "id": "f65797ab-676d-4fb9-ac16-61a4987721df",
   "metadata": {},
   "outputs": [
    {
     "name": "stdout",
     "output_type": "stream",
     "text": [
      "f (function of type typeof(Main.O.A.f))\n"
     ]
    }
   ],
   "source": [
    "O.TestSet[:A].f |> dump"
   ]
  },
  {
   "cell_type": "code",
   "execution_count": 7,
   "id": "fe45b851-cb0e-4c65-8e5e-c5041dca7df8",
   "metadata": {},
   "outputs": [
    {
     "name": "stdout",
     "output_type": "stream",
     "text": [
      "f (function of type typeof(Main.O.B.f))\n"
     ]
    }
   ],
   "source": [
    "O.TestSet[:B].f |> dump"
   ]
  },
  {
   "cell_type": "code",
   "execution_count": 8,
   "id": "da15922d-33e6-479b-85f8-04c48f99bb30",
   "metadata": {},
   "outputs": [
    {
     "name": "stdout",
     "output_type": "stream",
     "text": [
      "f (function of type typeof(Main.O.C.f))\n"
     ]
    }
   ],
   "source": [
    "O.TestSet[:C].f |> dump"
   ]
  },
  {
   "cell_type": "code",
   "execution_count": 9,
   "id": "a2d4087c-a20b-43fb-942e-e4ecc29d559c",
   "metadata": {},
   "outputs": [
    {
     "data": {
      "text/plain": [
       "Main.P"
      ]
     },
     "execution_count": 9,
     "metadata": {},
     "output_type": "execute_result"
    }
   ],
   "source": [
    "module P\n",
    "\n",
    "struct Program f::Function end\n",
    "const TestSet = Dict{Symbol, Program}()\n",
    "\n",
    "filenames = (\"dir/A.jl\", \"dir/B.jl\", \"dir/C.jl\")\n",
    "rmext(x) = replace(x, r\"\\.[^.]*$\"=>\"\")\n",
    "\n",
    "for fn in filenames\n",
    "    let m = Symbol(rmext(basename(fn)))\n",
    "        f() = \"f defined in \" * string(m) * \".jl\" # or include(fn)\n",
    "        TestSet[m] = Program(f)\n",
    "    end\n",
    "end\n",
    "\n",
    "end"
   ]
  },
  {
   "cell_type": "code",
   "execution_count": 10,
   "id": "08620b65-8dec-472f-b1b8-201b208b3c0f",
   "metadata": {},
   "outputs": [
    {
     "data": {
      "text/plain": [
       "Dict{Symbol, Main.P.Program} with 3 entries:\n",
       "  :A => Program(f)\n",
       "  :B => Program(f)\n",
       "  :C => Program(f)"
      ]
     },
     "execution_count": 10,
     "metadata": {},
     "output_type": "execute_result"
    }
   ],
   "source": [
    "P.TestSet"
   ]
  },
  {
   "cell_type": "code",
   "execution_count": 11,
   "id": "f5d5b47d-276f-4646-8a1b-bee3ffe2a0f9",
   "metadata": {},
   "outputs": [
    {
     "data": {
      "text/plain": [
       "\"f defined in A.jl\""
      ]
     },
     "execution_count": 11,
     "metadata": {},
     "output_type": "execute_result"
    }
   ],
   "source": [
    "P.TestSet[:A].f()"
   ]
  },
  {
   "cell_type": "code",
   "execution_count": 12,
   "id": "b7f8dc10-b6d7-4731-af4c-29121274559e",
   "metadata": {},
   "outputs": [
    {
     "data": {
      "text/plain": [
       "\"f defined in B.jl\""
      ]
     },
     "execution_count": 12,
     "metadata": {},
     "output_type": "execute_result"
    }
   ],
   "source": [
    "P.TestSet[:B].f()"
   ]
  },
  {
   "cell_type": "code",
   "execution_count": 13,
   "id": "54ce2b33-e23d-4bc7-945c-db89af1d8739",
   "metadata": {},
   "outputs": [
    {
     "name": "stdout",
     "output_type": "stream",
     "text": [
      "f (function of type Main.P.var\"#f#1\"{Symbol})\n",
      "  m: Symbol A\n"
     ]
    }
   ],
   "source": [
    "P.TestSet[:A].f |> dump"
   ]
  },
  {
   "cell_type": "code",
   "execution_count": 14,
   "id": "758a3a0b-43de-4706-8528-bc066bb3fcfe",
   "metadata": {},
   "outputs": [
    {
     "name": "stdout",
     "output_type": "stream",
     "text": [
      "f (function of type Main.P.var\"#f#1\"{Symbol})\n",
      "  m: Symbol B\n"
     ]
    }
   ],
   "source": [
    "P.TestSet[:B].f |> dump"
   ]
  },
  {
   "cell_type": "code",
   "execution_count": 15,
   "id": "2270fc1b-5445-4704-a4cf-d19090e6a61a",
   "metadata": {},
   "outputs": [
    {
     "name": "stdout",
     "output_type": "stream",
     "text": [
      "f (function of type Main.P.var\"#f#1\"{Symbol})\n",
      "  m: Symbol C\n"
     ]
    }
   ],
   "source": [
    "P.TestSet[:C].f |> dump"
   ]
  },
  {
   "cell_type": "code",
   "execution_count": null,
   "id": "8b631b6b-13ab-4325-b37f-776be508dfd2",
   "metadata": {},
   "outputs": [],
   "source": []
  }
 ],
 "metadata": {
  "jupytext": {
   "formats": "ipynb,auto:hydrogen"
  },
  "kernelspec": {
   "display_name": "Julia 1.6.2",
   "language": "julia",
   "name": "julia-1.6"
  },
  "language_info": {
   "file_extension": ".jl",
   "mimetype": "application/julia",
   "name": "julia",
   "version": "1.6.2"
  }
 },
 "nbformat": 4,
 "nbformat_minor": 5
}
