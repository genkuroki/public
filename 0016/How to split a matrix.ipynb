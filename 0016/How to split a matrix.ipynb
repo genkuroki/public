{
 "cells": [
  {
   "cell_type": "code",
   "execution_count": 1,
   "id": "69cd1b80-b3cd-495f-a21c-7c04ce83f4a5",
   "metadata": {},
   "outputs": [
    {
     "data": {
      "text/plain": [
       "9×9 Matrix{Int64}:\n",
       " 11  12  13  14  15  16  17  18  19\n",
       " 21  22  23  24  25  26  27  28  29\n",
       " 31  32  33  34  35  36  37  38  39\n",
       " 41  42  43  44  45  46  47  48  49\n",
       " 51  52  53  54  55  56  57  58  59\n",
       " 61  62  63  64  65  66  67  68  69\n",
       " 71  72  73  74  75  76  77  78  79\n",
       " 81  82  83  84  85  86  87  88  89\n",
       " 91  92  93  94  95  96  97  98  99"
      ]
     },
     "execution_count": 1,
     "metadata": {},
     "output_type": "execute_result"
    }
   ],
   "source": [
    "A = 10(1:9) .+ (1:9)'"
   ]
  },
  {
   "cell_type": "code",
   "execution_count": 2,
   "id": "4d6fc7f5-9ccf-45a2-9f09-9eea5a446ef7",
   "metadata": {},
   "outputs": [
    {
     "data": {
      "text/plain": [
       "3×3 view(::Matrix{Int64}, 1:3, 1:3) with eltype Int64:\n",
       " 11  12  13\n",
       " 21  22  23\n",
       " 31  32  33"
      ]
     },
     "execution_count": 2,
     "metadata": {},
     "output_type": "execute_result"
    }
   ],
   "source": [
    "i = 4\n",
    "@views A00 = A[begin:i-1, begin:i-1]"
   ]
  },
  {
   "cell_type": "code",
   "execution_count": 3,
   "id": "20853339-1771-4e92-b7a9-28cb48d8550e",
   "metadata": {},
   "outputs": [
    {
     "data": {
      "text/plain": [
       "3×1 view(::Matrix{Int64}, 1:3, 4:4) with eltype Int64:\n",
       " 14\n",
       " 24\n",
       " 34"
      ]
     },
     "execution_count": 3,
     "metadata": {},
     "output_type": "execute_result"
    }
   ],
   "source": [
    "@views a10 = A[begin:i-1, i:i]"
   ]
  },
  {
   "cell_type": "code",
   "execution_count": 4,
   "id": "e670d77b-d261-4db0-a328-2f978f6e72f2",
   "metadata": {},
   "outputs": [
    {
     "data": {
      "text/plain": [
       "3×5 view(::Matrix{Int64}, 1:3, 5:9) with eltype Int64:\n",
       " 15  16  17  18  19\n",
       " 25  26  27  28  29\n",
       " 35  36  37  38  39"
      ]
     },
     "execution_count": 4,
     "metadata": {},
     "output_type": "execute_result"
    }
   ],
   "source": [
    "@views A02 = A[begin:i-1, i+1:end]"
   ]
  },
  {
   "cell_type": "code",
   "execution_count": 5,
   "id": "9fcb906f-54cd-46d0-8053-6387ba62d577",
   "metadata": {},
   "outputs": [
    {
     "data": {
      "text/plain": [
       "1×3 view(::Matrix{Int64}, 4:4, 1:3) with eltype Int64:\n",
       " 41  42  43"
      ]
     },
     "execution_count": 5,
     "metadata": {},
     "output_type": "execute_result"
    }
   ],
   "source": [
    "@views A10 = A[i:i, begin:i-1]"
   ]
  },
  {
   "cell_type": "code",
   "execution_count": 6,
   "id": "0882df33-2a84-484e-8f24-ea6c514b2471",
   "metadata": {},
   "outputs": [
    {
     "data": {
      "text/plain": [
       "1×1 view(::Matrix{Int64}, 4:4, 4:4) with eltype Int64:\n",
       " 44"
      ]
     },
     "execution_count": 6,
     "metadata": {},
     "output_type": "execute_result"
    }
   ],
   "source": [
    "@views a11 = A[i:i, i:i]"
   ]
  },
  {
   "cell_type": "code",
   "execution_count": 7,
   "id": "d46fb7b2-a0b8-4247-a10f-e9d3d17e330d",
   "metadata": {},
   "outputs": [
    {
     "data": {
      "text/plain": [
       "1×5 view(::Matrix{Int64}, 4:4, 5:9) with eltype Int64:\n",
       " 45  46  47  48  49"
      ]
     },
     "execution_count": 7,
     "metadata": {},
     "output_type": "execute_result"
    }
   ],
   "source": [
    "@views a12 = A[i:i, i+1:end]"
   ]
  },
  {
   "cell_type": "code",
   "execution_count": 8,
   "id": "62404899-83ec-43c7-a10a-6fde6ed117fb",
   "metadata": {},
   "outputs": [
    {
     "data": {
      "text/plain": [
       "5×3 view(::Matrix{Int64}, 5:9, 1:3) with eltype Int64:\n",
       " 51  52  53\n",
       " 61  62  63\n",
       " 71  72  73\n",
       " 81  82  83\n",
       " 91  92  93"
      ]
     },
     "execution_count": 8,
     "metadata": {},
     "output_type": "execute_result"
    }
   ],
   "source": [
    "@views A20 = A[i+1:end, begin:i-1]"
   ]
  },
  {
   "cell_type": "code",
   "execution_count": 9,
   "id": "d8d475fe-d318-4b0d-a278-4693aaec64ab",
   "metadata": {},
   "outputs": [
    {
     "data": {
      "text/plain": [
       "5×1 view(::Matrix{Int64}, 5:9, 4:4) with eltype Int64:\n",
       " 54\n",
       " 64\n",
       " 74\n",
       " 84\n",
       " 94"
      ]
     },
     "execution_count": 9,
     "metadata": {},
     "output_type": "execute_result"
    }
   ],
   "source": [
    "@views a21 = A[i+1:end, i:i]"
   ]
  },
  {
   "cell_type": "code",
   "execution_count": 10,
   "id": "bbbb15c4-5b48-4759-8514-1801d3010bb1",
   "metadata": {},
   "outputs": [
    {
     "data": {
      "text/plain": [
       "5×5 view(::Matrix{Int64}, 5:9, 5:9) with eltype Int64:\n",
       " 55  56  57  58  59\n",
       " 65  66  67  68  69\n",
       " 75  76  77  78  79\n",
       " 85  86  87  88  89\n",
       " 95  96  97  98  99"
      ]
     },
     "execution_count": 10,
     "metadata": {},
     "output_type": "execute_result"
    }
   ],
   "source": [
    "@views A22 = A[i+1:end, i+1:end]"
   ]
  },
  {
   "cell_type": "code",
   "execution_count": null,
   "id": "7e2802b6-ce02-4a1d-83f3-97556b9738f7",
   "metadata": {},
   "outputs": [],
   "source": []
  }
 ],
 "metadata": {
  "jupytext": {
   "formats": "ipynb,auto:hydrogen"
  },
  "kernelspec": {
   "display_name": "Julia 1.6.2",
   "language": "julia",
   "name": "julia-1.6"
  },
  "language_info": {
   "file_extension": ".jl",
   "mimetype": "application/julia",
   "name": "julia",
   "version": "1.6.2"
  }
 },
 "nbformat": 4,
 "nbformat_minor": 5
}
