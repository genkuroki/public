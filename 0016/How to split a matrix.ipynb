{
 "cells": [
  {
   "cell_type": "code",
   "execution_count": 1,
   "id": "69cd1b80-b3cd-495f-a21c-7c04ce83f4a5",
   "metadata": {},
   "outputs": [
    {
     "data": {
      "text/plain": [
       "9×9 Matrix{Int64}:\n",
       " 11  12  13  14  15  16  17  18  19\n",
       " 21  22  23  24  25  26  27  28  29\n",
       " 31  32  33  34  35  36  37  38  39\n",
       " 41  42  43  44  45  46  47  48  49\n",
       " 51  52  53  54  55  56  57  58  59\n",
       " 61  62  63  64  65  66  67  68  69\n",
       " 71  72  73  74  75  76  77  78  79\n",
       " 81  82  83  84  85  86  87  88  89\n",
       " 91  92  93  94  95  96  97  98  99"
      ]
     },
     "execution_count": 1,
     "metadata": {},
     "output_type": "execute_result"
    }
   ],
   "source": [
    "A = 10(1:9) .+ (1:9)'"
   ]
  },
  {
   "cell_type": "code",
   "execution_count": 2,
   "id": "4d6fc7f5-9ccf-45a2-9f09-9eea5a446ef7",
   "metadata": {},
   "outputs": [
    {
     "data": {
      "text/plain": [
       "3×3 view(::Matrix{Int64}, 1:3, 1:3) with eltype Int64:\n",
       " 11  12  13\n",
       " 21  22  23\n",
       " 31  32  33"
      ]
     },
     "execution_count": 2,
     "metadata": {},
     "output_type": "execute_result"
    }
   ],
   "source": [
    "i = 4\n",
    "@views A00 = A[begin:i-1, begin:i-1]"
   ]
  },
  {
   "cell_type": "code",
   "execution_count": 3,
   "id": "20853339-1771-4e92-b7a9-28cb48d8550e",
   "metadata": {},
   "outputs": [
    {
     "data": {
      "text/plain": [
       "3×1 view(::Matrix{Int64}, 1:3, 4:4) with eltype Int64:\n",
       " 14\n",
       " 24\n",
       " 34"
      ]
     },
     "execution_count": 3,
     "metadata": {},
     "output_type": "execute_result"
    }
   ],
   "source": [
    "@views a10 = A[begin:i-1, i:i]"
   ]
  },
  {
   "cell_type": "code",
   "execution_count": 4,
   "id": "e670d77b-d261-4db0-a328-2f978f6e72f2",
   "metadata": {},
   "outputs": [
    {
     "data": {
      "text/plain": [
       "3×5 view(::Matrix{Int64}, 1:3, 5:9) with eltype Int64:\n",
       " 15  16  17  18  19\n",
       " 25  26  27  28  29\n",
       " 35  36  37  38  39"
      ]
     },
     "execution_count": 4,
     "metadata": {},
     "output_type": "execute_result"
    }
   ],
   "source": [
    "@views A02 = A[begin:i-1, i+1:end]"
   ]
  },
  {
   "cell_type": "code",
   "execution_count": 5,
   "id": "9fcb906f-54cd-46d0-8053-6387ba62d577",
   "metadata": {},
   "outputs": [
    {
     "data": {
      "text/plain": [
       "1×3 view(::Matrix{Int64}, 4:4, 1:3) with eltype Int64:\n",
       " 41  42  43"
      ]
     },
     "execution_count": 5,
     "metadata": {},
     "output_type": "execute_result"
    }
   ],
   "source": [
    "@views A10 = A[i:i, begin:i-1]"
   ]
  },
  {
   "cell_type": "code",
   "execution_count": 6,
   "id": "0882df33-2a84-484e-8f24-ea6c514b2471",
   "metadata": {},
   "outputs": [
    {
     "data": {
      "text/plain": [
       "1×1 view(::Matrix{Int64}, 4:4, 4:4) with eltype Int64:\n",
       " 44"
      ]
     },
     "execution_count": 6,
     "metadata": {},
     "output_type": "execute_result"
    }
   ],
   "source": [
    "@views a11 = A[i:i, i:i]"
   ]
  },
  {
   "cell_type": "code",
   "execution_count": 7,
   "id": "d46fb7b2-a0b8-4247-a10f-e9d3d17e330d",
   "metadata": {},
   "outputs": [
    {
     "data": {
      "text/plain": [
       "1×5 view(::Matrix{Int64}, 4:4, 5:9) with eltype Int64:\n",
       " 45  46  47  48  49"
      ]
     },
     "execution_count": 7,
     "metadata": {},
     "output_type": "execute_result"
    }
   ],
   "source": [
    "@views a12 = A[i:i, i+1:end]"
   ]
  },
  {
   "cell_type": "code",
   "execution_count": 8,
   "id": "62404899-83ec-43c7-a10a-6fde6ed117fb",
   "metadata": {},
   "outputs": [
    {
     "data": {
      "text/plain": [
       "5×3 view(::Matrix{Int64}, 5:9, 1:3) with eltype Int64:\n",
       " 51  52  53\n",
       " 61  62  63\n",
       " 71  72  73\n",
       " 81  82  83\n",
       " 91  92  93"
      ]
     },
     "execution_count": 8,
     "metadata": {},
     "output_type": "execute_result"
    }
   ],
   "source": [
    "@views A20 = A[i+1:end, begin:i-1]"
   ]
  },
  {
   "cell_type": "code",
   "execution_count": 9,
   "id": "d8d475fe-d318-4b0d-a278-4693aaec64ab",
   "metadata": {},
   "outputs": [
    {
     "data": {
      "text/plain": [
       "5×1 view(::Matrix{Int64}, 5:9, 4:4) with eltype Int64:\n",
       " 54\n",
       " 64\n",
       " 74\n",
       " 84\n",
       " 94"
      ]
     },
     "execution_count": 9,
     "metadata": {},
     "output_type": "execute_result"
    }
   ],
   "source": [
    "@views a21 = A[i+1:end, i:i]"
   ]
  },
  {
   "cell_type": "code",
   "execution_count": 10,
   "id": "bbbb15c4-5b48-4759-8514-1801d3010bb1",
   "metadata": {},
   "outputs": [
    {
     "data": {
      "text/plain": [
       "5×5 view(::Matrix{Int64}, 5:9, 5:9) with eltype Int64:\n",
       " 55  56  57  58  59\n",
       " 65  66  67  68  69\n",
       " 75  76  77  78  79\n",
       " 85  86  87  88  89\n",
       " 95  96  97  98  99"
      ]
     },
     "execution_count": 10,
     "metadata": {},
     "output_type": "execute_result"
    }
   ],
   "source": [
    "@views A22 = A[i+1:end, i+1:end]"
   ]
  },
  {
   "cell_type": "code",
   "execution_count": 11,
   "id": "7e2802b6-ce02-4a1d-83f3-97556b9738f7",
   "metadata": {},
   "outputs": [
    {
     "data": {
      "text/latex": [
       "\\begin{verbatim}\n",
       "@views expression\n",
       "\\end{verbatim}\n",
       "Convert every array-slicing operation in the given expression (which may be a \\texttt{begin}/\\texttt{end} block, loop, function, etc.) to return a view. Scalar indices, non-array types, and explicit \\href{@ref}{\\texttt{getindex}} calls (as opposed to \\texttt{array[...]}) are unaffected.\n",
       "\n",
       "\\begin{quote}\n",
       "\\textbf{note}\n",
       "\n",
       "Note\n",
       "\n",
       "The \\texttt{@views} macro only affects \\texttt{array[...]} expressions that appear explicitly in the given \\texttt{expression}, not array slicing that occurs in functions called by that code.\n",
       "\n",
       "\\end{quote}\n",
       "\\begin{quote}\n",
       "\\textbf{compat}\n",
       "\n",
       "Julia 1.5\n",
       "\n",
       "Using \\texttt{begin} in an indexing expression to refer to the first index requires at least Julia 1.5.\n",
       "\n",
       "\\end{quote}\n",
       "\\section{Examples}\n",
       "\\begin{verbatim}\n",
       "julia> A = zeros(3, 3);\n",
       "\n",
       "julia> @views for row in 1:3\n",
       "           b = A[row, :]\n",
       "           b[:] .= row\n",
       "       end\n",
       "\n",
       "julia> A\n",
       "3×3 Matrix{Float64}:\n",
       " 1.0  1.0  1.0\n",
       " 2.0  2.0  2.0\n",
       " 3.0  3.0  3.0\n",
       "\\end{verbatim}\n"
      ],
      "text/markdown": [
       "```\n",
       "@views expression\n",
       "```\n",
       "\n",
       "Convert every array-slicing operation in the given expression (which may be a `begin`/`end` block, loop, function, etc.) to return a view. Scalar indices, non-array types, and explicit [`getindex`](@ref) calls (as opposed to `array[...]`) are unaffected.\n",
       "\n",
       "!!! note\n",
       "    The `@views` macro only affects `array[...]` expressions that appear explicitly in the given `expression`, not array slicing that occurs in functions called by that code.\n",
       "\n",
       "\n",
       "!!! compat \"Julia 1.5\"\n",
       "    Using `begin` in an indexing expression to refer to the first index requires at least Julia 1.5.\n",
       "\n",
       "\n",
       "# Examples\n",
       "\n",
       "```jldoctest\n",
       "julia> A = zeros(3, 3);\n",
       "\n",
       "julia> @views for row in 1:3\n",
       "           b = A[row, :]\n",
       "           b[:] .= row\n",
       "       end\n",
       "\n",
       "julia> A\n",
       "3×3 Matrix{Float64}:\n",
       " 1.0  1.0  1.0\n",
       " 2.0  2.0  2.0\n",
       " 3.0  3.0  3.0\n",
       "```\n"
      ],
      "text/plain": [
       "\u001b[36m  @views expression\u001b[39m\n",
       "\n",
       "  Convert every array-slicing operation in the given expression (which may be\n",
       "  a \u001b[36mbegin\u001b[39m/\u001b[36mend\u001b[39m block, loop, function, etc.) to return a view. Scalar indices,\n",
       "  non-array types, and explicit \u001b[36mgetindex\u001b[39m calls (as opposed to \u001b[36marray[...]\u001b[39m) are\n",
       "  unaffected.\n",
       "\n",
       "\u001b[36m\u001b[1m  │ \u001b[22m\u001b[39m\u001b[36m\u001b[1mNote\u001b[22m\u001b[39m\n",
       "\u001b[36m\u001b[1m  │\u001b[22m\u001b[39m\n",
       "\u001b[36m\u001b[1m  │\u001b[22m\u001b[39m  The \u001b[36m@views\u001b[39m macro only affects \u001b[36marray[...]\u001b[39m expressions that appear\n",
       "\u001b[36m\u001b[1m  │\u001b[22m\u001b[39m  explicitly in the given \u001b[36mexpression\u001b[39m, not array slicing that occurs\n",
       "\u001b[36m\u001b[1m  │\u001b[22m\u001b[39m  in functions called by that code.\n",
       "\n",
       "\u001b[39m\u001b[1m  │ \u001b[22m\u001b[39m\u001b[1mJulia 1.5\u001b[22m\n",
       "\u001b[39m\u001b[1m  │\u001b[22m\n",
       "\u001b[39m\u001b[1m  │\u001b[22m  Using \u001b[36mbegin\u001b[39m in an indexing expression to refer to the first index\n",
       "\u001b[39m\u001b[1m  │\u001b[22m  requires at least Julia 1.5.\n",
       "\n",
       "\u001b[1m  Examples\u001b[22m\n",
       "\u001b[1m  ≡≡≡≡≡≡≡≡≡≡\u001b[22m\n",
       "\n",
       "\u001b[36m  julia> A = zeros(3, 3);\u001b[39m\n",
       "\u001b[36m  \u001b[39m\n",
       "\u001b[36m  julia> @views for row in 1:3\u001b[39m\n",
       "\u001b[36m             b = A[row, :]\u001b[39m\n",
       "\u001b[36m             b[:] .= row\u001b[39m\n",
       "\u001b[36m         end\u001b[39m\n",
       "\u001b[36m  \u001b[39m\n",
       "\u001b[36m  julia> A\u001b[39m\n",
       "\u001b[36m  3×3 Matrix{Float64}:\u001b[39m\n",
       "\u001b[36m   1.0  1.0  1.0\u001b[39m\n",
       "\u001b[36m   2.0  2.0  2.0\u001b[39m\n",
       "\u001b[36m   3.0  3.0  3.0\u001b[39m"
      ]
     },
     "execution_count": 11,
     "metadata": {},
     "output_type": "execute_result"
    }
   ],
   "source": [
    "?@views"
   ]
  },
  {
   "cell_type": "code",
   "execution_count": 12,
   "id": "459f703b-53c2-4119-9964-3c745a90030b",
   "metadata": {},
   "outputs": [
    {
     "data": {
      "text/latex": [
       "\\begin{verbatim}\n",
       "@view A[inds...]\n",
       "\\end{verbatim}\n",
       "Creates a \\texttt{SubArray} from an indexing expression. This can only be applied directly to a reference expression (e.g. \\texttt{@view A[1,2:end]}), and should \\emph{not} be used as the target of an assignment (e.g. \\texttt{@view(A[1,2:end]) = ...}).  See also \\href{@ref}{\\texttt{@views}} to switch an entire block of code to use views for slicing.\n",
       "\n",
       "\\begin{quote}\n",
       "\\textbf{compat}\n",
       "\n",
       "Julia 1.5\n",
       "\n",
       "Using \\texttt{begin} in an indexing expression to refer to the first index requires at least Julia 1.5.\n",
       "\n",
       "\\end{quote}\n",
       "\\section{Examples}\n",
       "\\begin{verbatim}\n",
       "julia> A = [1 2; 3 4]\n",
       "2×2 Matrix{Int64}:\n",
       " 1  2\n",
       " 3  4\n",
       "\n",
       "julia> b = @view A[:, 1]\n",
       "2-element view(::Matrix{Int64}, :, 1) with eltype Int64:\n",
       " 1\n",
       " 3\n",
       "\n",
       "julia> fill!(b, 0)\n",
       "2-element view(::Matrix{Int64}, :, 1) with eltype Int64:\n",
       " 0\n",
       " 0\n",
       "\n",
       "julia> A\n",
       "2×2 Matrix{Int64}:\n",
       " 0  2\n",
       " 0  4\n",
       "\\end{verbatim}\n"
      ],
      "text/markdown": [
       "```\n",
       "@view A[inds...]\n",
       "```\n",
       "\n",
       "Creates a `SubArray` from an indexing expression. This can only be applied directly to a reference expression (e.g. `@view A[1,2:end]`), and should *not* be used as the target of an assignment (e.g. `@view(A[1,2:end]) = ...`).  See also [`@views`](@ref) to switch an entire block of code to use views for slicing.\n",
       "\n",
       "!!! compat \"Julia 1.5\"\n",
       "    Using `begin` in an indexing expression to refer to the first index requires at least Julia 1.5.\n",
       "\n",
       "\n",
       "# Examples\n",
       "\n",
       "```jldoctest\n",
       "julia> A = [1 2; 3 4]\n",
       "2×2 Matrix{Int64}:\n",
       " 1  2\n",
       " 3  4\n",
       "\n",
       "julia> b = @view A[:, 1]\n",
       "2-element view(::Matrix{Int64}, :, 1) with eltype Int64:\n",
       " 1\n",
       " 3\n",
       "\n",
       "julia> fill!(b, 0)\n",
       "2-element view(::Matrix{Int64}, :, 1) with eltype Int64:\n",
       " 0\n",
       " 0\n",
       "\n",
       "julia> A\n",
       "2×2 Matrix{Int64}:\n",
       " 0  2\n",
       " 0  4\n",
       "```\n"
      ],
      "text/plain": [
       "\u001b[36m  @view A[inds...]\u001b[39m\n",
       "\n",
       "  Creates a \u001b[36mSubArray\u001b[39m from an indexing expression. This can only be applied\n",
       "  directly to a reference expression (e.g. \u001b[36m@view A[1,2:end]\u001b[39m), and should \u001b[4mnot\u001b[24m\n",
       "  be used as the target of an assignment (e.g. \u001b[36m@view(A[1,2:end]) = ...\u001b[39m). See\n",
       "  also \u001b[36m@views\u001b[39m to switch an entire block of code to use views for slicing.\n",
       "\n",
       "\u001b[39m\u001b[1m  │ \u001b[22m\u001b[39m\u001b[1mJulia 1.5\u001b[22m\n",
       "\u001b[39m\u001b[1m  │\u001b[22m\n",
       "\u001b[39m\u001b[1m  │\u001b[22m  Using \u001b[36mbegin\u001b[39m in an indexing expression to refer to the first index\n",
       "\u001b[39m\u001b[1m  │\u001b[22m  requires at least Julia 1.5.\n",
       "\n",
       "\u001b[1m  Examples\u001b[22m\n",
       "\u001b[1m  ≡≡≡≡≡≡≡≡≡≡\u001b[22m\n",
       "\n",
       "\u001b[36m  julia> A = [1 2; 3 4]\u001b[39m\n",
       "\u001b[36m  2×2 Matrix{Int64}:\u001b[39m\n",
       "\u001b[36m   1  2\u001b[39m\n",
       "\u001b[36m   3  4\u001b[39m\n",
       "\u001b[36m  \u001b[39m\n",
       "\u001b[36m  julia> b = @view A[:, 1]\u001b[39m\n",
       "\u001b[36m  2-element view(::Matrix{Int64}, :, 1) with eltype Int64:\u001b[39m\n",
       "\u001b[36m   1\u001b[39m\n",
       "\u001b[36m   3\u001b[39m\n",
       "\u001b[36m  \u001b[39m\n",
       "\u001b[36m  julia> fill!(b, 0)\u001b[39m\n",
       "\u001b[36m  2-element view(::Matrix{Int64}, :, 1) with eltype Int64:\u001b[39m\n",
       "\u001b[36m   0\u001b[39m\n",
       "\u001b[36m   0\u001b[39m\n",
       "\u001b[36m  \u001b[39m\n",
       "\u001b[36m  julia> A\u001b[39m\n",
       "\u001b[36m  2×2 Matrix{Int64}:\u001b[39m\n",
       "\u001b[36m   0  2\u001b[39m\n",
       "\u001b[36m   0  4\u001b[39m"
      ]
     },
     "execution_count": 12,
     "metadata": {},
     "output_type": "execute_result"
    }
   ],
   "source": [
    "?@view"
   ]
  },
  {
   "cell_type": "code",
   "execution_count": null,
   "id": "69a670db-cf10-406a-bb0c-2092b8910aae",
   "metadata": {},
   "outputs": [],
   "source": []
  }
 ],
 "metadata": {
  "jupytext": {
   "formats": "ipynb,auto:hydrogen"
  },
  "kernelspec": {
   "display_name": "Julia 1.6.2",
   "language": "julia",
   "name": "julia-1.6"
  },
  "language_info": {
   "file_extension": ".jl",
   "mimetype": "application/julia",
   "name": "julia",
   "version": "1.6.2"
  }
 },
 "nbformat": 4,
 "nbformat_minor": 5
}
