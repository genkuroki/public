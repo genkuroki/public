{
 "cells": [
  {
   "cell_type": "code",
   "execution_count": 1,
   "id": "73d99fc2-5346-41c5-9071-c3d3e5b397a9",
   "metadata": {},
   "outputs": [
    {
     "data": {
      "text/plain": [
       "true"
      ]
     },
     "execution_count": 1,
     "metadata": {},
     "output_type": "execute_result"
    }
   ],
   "source": [
    "using DynamicPolynomials\n",
    "@polyvar x[1:3]\n",
    "m = monomials(x, 0:3)\n",
    "mD = differentiate.(m, x[1]) * 1.0\n",
    "mD2 = convert.(Term{true, Float64}, differentiate.(m, x[1]))\n",
    "mD2 == mD"
   ]
  },
  {
   "cell_type": "code",
   "execution_count": null,
   "id": "151336bc-c80d-492e-b231-7ad53308330a",
   "metadata": {},
   "outputs": [],
   "source": []
  }
 ],
 "metadata": {
  "kernelspec": {
   "display_name": "Julia 1.6.2",
   "language": "julia",
   "name": "julia-1.6"
  },
  "language_info": {
   "file_extension": ".jl",
   "mimetype": "application/julia",
   "name": "julia",
   "version": "1.6.2"
  }
 },
 "nbformat": 4,
 "nbformat_minor": 5
}
