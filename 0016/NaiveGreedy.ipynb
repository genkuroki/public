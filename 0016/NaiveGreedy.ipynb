{
 "cells": [
  {
   "cell_type": "markdown",
   "id": "f09cef53-08da-48cf-a106-8e7461bc32ff",
   "metadata": {},
   "source": [
    "https://discourse.julialang.org/t/julia-beginner-from-python-numba-outperforms-julia-in-rewrite-any-tips-to-improve-performance/66414"
   ]
  },
  {
   "cell_type": "code",
   "execution_count": 1,
   "id": "53445879-bff4-4115-bf1a-30eedc3a1f99",
   "metadata": {},
   "outputs": [],
   "source": [
    "using BenchmarkTools\n",
    "#using Distributed\n",
    "#using Plots\n",
    "#using Profile\n",
    "#using ProfileVega\n",
    "#using PyCall\n",
    "using ScikitLearn\n",
    "#using Traceur\n",
    "using TimerOutputs"
   ]
  },
  {
   "cell_type": "code",
   "execution_count": 2,
   "id": "775797a4-f3d1-4723-a006-29874ffe5fac",
   "metadata": {},
   "outputs": [
    {
     "data": {
      "text/plain": [
       "PyObject <function fetch_covtype at 0x000000006B25AC10>"
      ]
     },
     "execution_count": 2,
     "metadata": {},
     "output_type": "execute_result"
    }
   ],
   "source": [
    "@sk_import datasets: (fetch_covtype)"
   ]
  },
  {
   "cell_type": "code",
   "execution_count": 3,
   "id": "46e2b10f-522a-49e5-8bbf-25c7c1d3f46d",
   "metadata": {},
   "outputs": [],
   "source": [
    "digits_data = fetch_covtype();"
   ]
  },
  {
   "cell_type": "code",
   "execution_count": 4,
   "id": "fd02e5ed-6811-4682-8ba0-2f7c1f9808c3",
   "metadata": {},
   "outputs": [],
   "source": [
    "X_digits = abs.(digits_data[\"data\"]);\n",
    "X_digits = transpose(X_digits);"
   ]
  },
  {
   "cell_type": "code",
   "execution_count": 5,
   "id": "400a66d6-b9fb-4bcd-9b85-43af99e79365",
   "metadata": {},
   "outputs": [
    {
     "data": {
      "text/plain": [
       "(54, 581012)"
      ]
     },
     "execution_count": 5,
     "metadata": {},
     "output_type": "execute_result"
    }
   ],
   "source": [
    "d, n = size(X_digits)"
   ]
  },
  {
   "cell_type": "code",
   "execution_count": 6,
   "id": "788cb034-4e25-433f-8ed8-efc9df3af9a7",
   "metadata": {},
   "outputs": [],
   "source": [
    "struct NaiveGreedy\n",
    "    X::Matrix{Float64}\n",
    "end\n",
    "\n",
    "struct Result\n",
    "    ranking::Vector{Int32}\n",
    "    gains::Vector{Float64}\n",
    "end"
   ]
  },
  {
   "cell_type": "code",
   "execution_count": 7,
   "id": "722720d1-643c-4fcf-acce-dc8ba610d13e",
   "metadata": {},
   "outputs": [
    {
     "data": {
      "text/plain": [
       "calculate_gains! (generic function with 1 method)"
      ]
     },
     "execution_count": 7,
     "metadata": {},
     "output_type": "execute_result"
    }
   ],
   "source": [
    "function lexsort(a, b, rev=false) \n",
    "    idxs = sortperm(a, alg=MergeSort, rev=rev)\n",
    "    return idxs[sortperm(b[idxs], alg=MergeSort, rev=rev)]\n",
    "end\n",
    "\n",
    "function get_gains!(X, current_values, idxs, gains)\n",
    "    @inbounds Threads.@threads for i in eachindex(idxs)\n",
    "        s = 0.0\n",
    "        for j in eachindex(current_values)\n",
    "            s += @fastmath sqrt(current_values[j] + X[j, idxs[i]])\n",
    "        end\n",
    "        gains[i] = s\n",
    "    end\n",
    "end\n",
    "\n",
    "function calculate_gains!(X, gains, current_values, idxs, current_concave_value_sum)\n",
    "    get_gains!(X, current_values, idxs, gains)\n",
    "    \n",
    "    gains .-= current_concave_value_sum\n",
    "    return gains\n",
    "end"
   ]
  },
  {
   "cell_type": "code",
   "execution_count": 8,
   "id": "ef3ad32a-fe77-43ad-a1e2-5af3fb3019e4",
   "metadata": {},
   "outputs": [
    {
     "data": {
      "text/plain": [
       "fit (generic function with 1 method)"
      ]
     },
     "execution_count": 8,
     "metadata": {},
     "output_type": "execute_result"
    }
   ],
   "source": [
    "function fit(optimizer::NaiveGreedy, k, sample_cost)\n",
    "    @timeit to \"intro\" begin\n",
    "        d, n = size(optimizer.X)\n",
    "        \n",
    "        cost = 0.0\n",
    "\n",
    "        ranking = Int32[]\n",
    "        total_gains = Float64[]\n",
    "\n",
    "        mask = zeros(Int8, n)\n",
    "        current_values = zeros(Float64, d)\n",
    "        current_concave_values = sqrt.(current_values)\n",
    "        current_concave_values_sum = sum(current_concave_values)\n",
    "\n",
    "        idxs = 1:n\n",
    "    end\n",
    "\n",
    "    gains = zeros(Float64, size(idxs)[1])\n",
    "    @timeit to \"while loop\" begin\n",
    "        while cost < k\n",
    "            gains = @timeit to \"calc_gains\" calculate_gains!(optimizer.X, gains, current_values, idxs, current_concave_values_sum)\n",
    "            \n",
    "            if sample_cost != nothing\n",
    "                gains ./= sample_cost[idxs]\n",
    "                idx_idxs = @timeit to \"lexsort\" lexsort(gains, 1:size(gains)[1], true)\n",
    "\n",
    "                @timeit to \"select_idx\" begin\n",
    "                    for i in 1:size(idx_idxs)[1]\n",
    "                        global idx = idx_idxs[i]\n",
    "                        global best_idx = idxs[idx]\n",
    "                        if cost + sample_cost[best_idx] <= k\n",
    "                            break\n",
    "                        end\n",
    "                    end\n",
    "                end\n",
    "                curr_cost = sample_cost[best_idx]\n",
    "            else\n",
    "                global idx = argmax(gains)\n",
    "                global best_idx = idxs[idx]\n",
    "                curr_cost = 1.\n",
    "            end\n",
    "            \n",
    "            if cost + curr_cost > k\n",
    "                break\n",
    "            end\n",
    "                \n",
    "            @timeit to \"select_idx\" begin\n",
    "                cost += curr_cost\n",
    "                # Calculate gains\n",
    "                gain = gains[idx] * curr_cost\n",
    "            end\n",
    "            \n",
    "            @timeit to \"select_next\" begin\n",
    "                # Select next\n",
    "                current_values += view(optimizer.X, :, best_idx)\n",
    "                current_concave_values .= sqrt.(current_values)\n",
    "                current_concave_values_sum = sum(current_concave_values)\n",
    "\n",
    "                push!(ranking, best_idx)\n",
    "                push!(total_gains, gain)\n",
    "\n",
    "                mask[best_idx] = 1\n",
    "                idxs = findall(==(0), mask)\n",
    "            end\n",
    "        end\n",
    "    end\n",
    "    return Result(ranking, total_gains)\n",
    "end"
   ]
  },
  {
   "cell_type": "code",
   "execution_count": 9,
   "id": "bef6ff4d-756e-4255-9ac4-14cfe709a2fe",
   "metadata": {},
   "outputs": [
    {
     "data": {
      "text/plain": [
       "\u001b[0m\u001b[1m ────────────────────────────────────────────────────────────────────────\u001b[22m\n",
       "\u001b[0m\u001b[1m                         \u001b[22m        Time                   Allocations      \n",
       "                         ──────────────────────   ───────────────────────\n",
       "    Tot / % measured:         20.2s / 94.6%           9.19GiB / 96.1%    \n",
       "\n",
       " Section         ncalls     time   %tot     avg     alloc   %tot      avg\n",
       " ────────────────────────────────────────────────────────────────────────\n",
       " while loop           1    19.1s   100%   19.1s   8.83GiB  100%   8.83GiB\n",
       "   calc_gains     1.00k    12.0s  62.9%  12.0ms   13.3MiB  0.15%  13.6KiB\n",
       "   select_next    1.00k    5.76s  30.2%  5.76ms   8.82GiB  100%   9.03MiB\n",
       "   select_idx     1.00k   7.49ms  0.04%  7.49μs   33.5KiB  0.00%    34.3B\n",
       " intro                1   77.2μs  0.00%  77.2μs    569KiB  0.01%   569KiB\n",
       "\u001b[0m\u001b[1m ────────────────────────────────────────────────────────────────────────\u001b[22m"
      ]
     },
     "execution_count": 9,
     "metadata": {},
     "output_type": "execute_result"
    }
   ],
   "source": [
    "const to = TimerOutput()\n",
    "k = 1000\n",
    "opt1 = NaiveGreedy(X_digits)\n",
    "res1 = fit(opt1, k, nothing)\n",
    "to"
   ]
  },
  {
   "cell_type": "code",
   "execution_count": 10,
   "id": "e9f5255e-c8e2-47db-a406-6c8c71928e18",
   "metadata": {},
   "outputs": [
    {
     "data": {
      "text/plain": [
       "fit (generic function with 1 method)"
      ]
     },
     "execution_count": 10,
     "metadata": {},
     "output_type": "execute_result"
    }
   ],
   "source": [
    "function fit(optimizer::NaiveGreedy, k, sample_cost)\n",
    "    @timeit to \"intro\" begin\n",
    "        d, n = size(optimizer.X)\n",
    "        \n",
    "        cost = 0.0\n",
    "\n",
    "        ranking = Int32[]\n",
    "        total_gains = Float64[]\n",
    "\n",
    "        #mask = zeros(Int8, n)\n",
    "        current_values = zeros(Float64, d)\n",
    "        current_concave_values = sqrt.(current_values)\n",
    "        current_concave_values_sum = sum(current_concave_values)\n",
    "\n",
    "        #idxs = 1:n\n",
    "        idxs = collect(1:n)\n",
    "    end\n",
    "\n",
    "    gains = zeros(Float64, size(idxs)[1])\n",
    "    @timeit to \"while loop\" begin\n",
    "        while cost < k\n",
    "            gains = @timeit to \"calc_gains\" calculate_gains!(optimizer.X, gains, current_values, idxs, current_concave_values_sum)\n",
    "            \n",
    "            if sample_cost != nothing\n",
    "                gains ./= sample_cost[idxs]\n",
    "                idx_idxs = @timeit to \"lexsort\" lexsort(gains, 1:size(gains)[1], true)\n",
    "\n",
    "                @timeit to \"select_idx\" begin\n",
    "                    for i in 1:size(idx_idxs)[1]\n",
    "                        global idx = idx_idxs[i]\n",
    "                        global best_idx = idxs[idx]\n",
    "                        if cost + sample_cost[best_idx] <= k\n",
    "                            break\n",
    "                        end\n",
    "                    end\n",
    "                end\n",
    "                curr_cost = sample_cost[best_idx]\n",
    "            else\n",
    "                global idx = argmax(gains)\n",
    "                global best_idx = idxs[idx]\n",
    "                curr_cost = 1.\n",
    "            end\n",
    "            \n",
    "            if cost + curr_cost > k\n",
    "                break\n",
    "            end\n",
    "                \n",
    "            @timeit to \"select_idx\" begin\n",
    "                cost += curr_cost\n",
    "                # Calculate gains\n",
    "                gain = gains[idx] * curr_cost\n",
    "            end\n",
    "            \n",
    "            @timeit to \"select_next\" begin\n",
    "                # Select next\n",
    "                #current_values += view(optimizer.X, :, best_idx)\n",
    "                #current_concave_values .= sqrt.(current_values)\n",
    "                #current_concave_values_sum = sum(current_concave_values)\n",
    "                current_values .+= view(optimizer.X, :, best_idx)\n",
    "                current_concave_values_sum = sum(sqrt, current_values)\n",
    "\n",
    "                push!(ranking, best_idx)\n",
    "                push!(total_gains, gain)\n",
    "\n",
    "                #mask[best_idx] = 1\n",
    "                #idxs = findall(==(0), mask)\n",
    "                popat!(idxs, findfirst(==(best_idx), idxs))\n",
    "            end\n",
    "        end\n",
    "    end\n",
    "    return Result(ranking, total_gains)\n",
    "end"
   ]
  },
  {
   "cell_type": "code",
   "execution_count": 11,
   "id": "829f00e7-06fb-4024-a1aa-b65d0d822e04",
   "metadata": {},
   "outputs": [
    {
     "name": "stderr",
     "output_type": "stream",
     "text": [
      "WARNING: redefinition of constant to. This may fail, cause incorrect answers, or produce other errors.\n"
     ]
    },
    {
     "data": {
      "text/plain": [
       "\u001b[0m\u001b[1m ────────────────────────────────────────────────────────────────────────\u001b[22m\n",
       "\u001b[0m\u001b[1m                         \u001b[22m        Time                   Allocations      \n",
       "                         ──────────────────────   ───────────────────────\n",
       "    Tot / % measured:         13.3s / 98.1%            274MiB / 5.31%    \n",
       "\n",
       " Section         ncalls     time   %tot     avg     alloc   %tot      avg\n",
       " ────────────────────────────────────────────────────────────────────────\n",
       " while loop           1    13.0s   100%   13.0s   10.1MiB  69.5%  10.1MiB\n",
       "   calc_gains     1.00k    11.5s  88.7%  11.5ms   6.10MiB  42.0%  6.25KiB\n",
       "   select_next    1.00k    184ms  1.41%   184μs   3.93MiB  27.0%  4.02KiB\n",
       "   select_idx     1.00k   1.29ms  0.01%  1.29μs   31.2KiB  0.21%    32.0B\n",
       " intro                1    980μs  0.01%   980μs   4.43MiB  30.5%  4.43MiB\n",
       "\u001b[0m\u001b[1m ────────────────────────────────────────────────────────────────────────\u001b[22m"
      ]
     },
     "execution_count": 11,
     "metadata": {},
     "output_type": "execute_result"
    }
   ],
   "source": [
    "const to = TimerOutput()\n",
    "k = 1000\n",
    "opt1rev = NaiveGreedy(X_digits)\n",
    "res1rev = fit(opt1rev, k, nothing)\n",
    "to"
   ]
  },
  {
   "cell_type": "code",
   "execution_count": 13,
   "id": "4055ca3e-e458-4c7f-997f-da8c044f712d",
   "metadata": {},
   "outputs": [
    {
     "name": "stdout",
     "output_type": "stream",
     "text": [
      "res1rev.ranking == res1.ranking = true\n",
      "res1rev.gains ≈ res1.gains = true\n"
     ]
    }
   ],
   "source": [
    "@show res1rev.ranking == res1.ranking\n",
    "@show res1rev.gains ≈ res1.gains;"
   ]
  },
  {
   "cell_type": "code",
   "execution_count": null,
   "id": "d8b1c589-ec14-4c53-97e3-a1ec2a9a71db",
   "metadata": {},
   "outputs": [],
   "source": []
  }
 ],
 "metadata": {
  "jupytext": {
   "formats": "ipynb,auto:hydrogen"
  },
  "kernelspec": {
   "display_name": "Julia 1.6.2",
   "language": "julia",
   "name": "julia-1.6"
  },
  "language_info": {
   "file_extension": ".jl",
   "mimetype": "application/julia",
   "name": "julia",
   "version": "1.6.2"
  }
 },
 "nbformat": 4,
 "nbformat_minor": 5
}
