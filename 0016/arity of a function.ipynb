{
 "cells": [
  {
   "cell_type": "code",
   "execution_count": 1,
   "id": "9fa7ebcf-b7ae-4d25-b6ca-d7dd07af091f",
   "metadata": {},
   "outputs": [
    {
     "data": {
      "text/plain": [
       "findarity (generic function with 1 method)"
      ]
     },
     "execution_count": 1,
     "metadata": {},
     "output_type": "execute_result"
    }
   ],
   "source": [
    "arity(f) = extrema(m -> m.nargs, methods(f)) .- 1\n",
    "findarity(f, k) = (ms = collect(methods(f)); ms[findall(m -> m.nargs - 1 == k, ms)])"
   ]
  },
  {
   "cell_type": "code",
   "execution_count": 2,
   "id": "adea8026-bf11-488d-b8ab-c1454fcdc723",
   "metadata": {},
   "outputs": [
    {
     "data": {
      "text/plain": [
       "(1, 5)"
      ]
     },
     "execution_count": 2,
     "metadata": {},
     "output_type": "execute_result"
    }
   ],
   "source": [
    "arity(+)"
   ]
  },
  {
   "cell_type": "code",
   "execution_count": 3,
   "id": "a803e820-651e-4804-866c-b33428f34e8c",
   "metadata": {},
   "outputs": [
    {
     "data": {
      "text/html": [
       "2-element Vector{Method}:<ul><li> +(a::<b>BigInt</b>, b::<b>BigInt</b>, c::<b>BigInt</b>, d::<b>BigInt</b>, e::<b>BigInt</b>) in Base.GMP at <a href=\"https://github.com/JuliaLang/julia/tree/1b93d53fc4bb59350ada898038ed4de2994cce33/base/gmp.jl#L521\" target=\"_blank\">gmp.jl:521</a><li> +(a::<b>BigFloat</b>, b::<b>BigFloat</b>, c::<b>BigFloat</b>, d::<b>BigFloat</b>, e::<b>BigFloat</b>) in Base.MPFR at <a href=\"https://github.com/JuliaLang/julia/tree/1b93d53fc4bb59350ada898038ed4de2994cce33/base/mpfr.jl#L549\" target=\"_blank\">mpfr.jl:549</a></ul>"
      ],
      "text/plain": [
       "[1] +(a::BigInt, b::BigInt, c::BigInt, d::BigInt, e::BigInt) in Base.GMP at gmp.jl:521\n",
       "[2] +(a::BigFloat, b::BigFloat, c::BigFloat, d::BigFloat, e::BigFloat) in Base.MPFR at mpfr.jl:549"
      ]
     },
     "execution_count": 3,
     "metadata": {},
     "output_type": "execute_result"
    }
   ],
   "source": [
    "findarity(+, 5)"
   ]
  },
  {
   "cell_type": "code",
   "execution_count": 4,
   "id": "69825852-70a4-48d9-9502-da0fa3889fd7",
   "metadata": {},
   "outputs": [
    {
     "data": {
      "text/html": [
       "4-element Vector{Method}:<ul><li> +(a::<b>BigInt</b>, b::<b>BigInt</b>, c::<b>BigInt</b>, d::<b>BigInt</b>) in Base.GMP at <a href=\"https://github.com/JuliaLang/julia/tree/1b93d53fc4bb59350ada898038ed4de2994cce33/base/gmp.jl#L520\" target=\"_blank\">gmp.jl:520</a><li> +(a::<b>Dates.TimeType</b>, b::<b>Dates.Period</b>, c::<b>Dates.Period</b>, d::<b>Dates.Period...</b>) in Dates at <a href=\"file://C:/buildbot/worker/package_win64/build/usr/share/julia/stdlib/v1.6/Dates/src/periods.jl\" target=\"_blank\">D:\\Julia-1.6.2\\share\\julia\\stdlib\\v1.6\\Dates\\src\\periods.jl:374</a><li> +(a::<b>BigFloat</b>, b::<b>BigFloat</b>, c::<b>BigFloat</b>, d::<b>BigFloat</b>) in Base.MPFR at <a href=\"https://github.com/JuliaLang/julia/tree/1b93d53fc4bb59350ada898038ed4de2994cce33/base/mpfr.jl#L542\" target=\"_blank\">mpfr.jl:542</a><li> +(a, b, c, xs...) in Base at <a href=\"https://github.com/JuliaLang/julia/tree/1b93d53fc4bb59350ada898038ed4de2994cce33/base/operators.jl#L560\" target=\"_blank\">operators.jl:560</a></ul>"
      ],
      "text/plain": [
       "[1] +(a::BigInt, b::BigInt, c::BigInt, d::BigInt) in Base.GMP at gmp.jl:520\n",
       "[2] +(a::Dates.TimeType, b::Dates.Period, c::Dates.Period, d::Dates.Period...) in Dates at D:\\Julia-1.6.2\\share\\julia\\stdlib\\v1.6\\Dates\\src\\periods.jl:374\n",
       "[3] +(a::BigFloat, b::BigFloat, c::BigFloat, d::BigFloat) in Base.MPFR at mpfr.jl:542\n",
       "[4] +(a, b, c, xs...) in Base at operators.jl:560"
      ]
     },
     "execution_count": 4,
     "metadata": {},
     "output_type": "execute_result"
    }
   ],
   "source": [
    "findarity(+, 4)"
   ]
  },
  {
   "cell_type": "code",
   "execution_count": 5,
   "id": "dfbb32e4-419b-4465-b97e-b46a24a7fbfc",
   "metadata": {},
   "outputs": [
    {
     "data": {
      "text/html": [
       "+(x::<b>T</b>, y::<b>T</b>)<i> where T<:Union{Int128, Int16, Int32, Int64, Int8, UInt128, UInt16, UInt32, UInt64, UInt8}</i> in Base at <a href=\"https://github.com/JuliaLang/julia/tree/1b93d53fc4bb59350ada898038ed4de2994cce33/base/int.jl#L87\" target=\"_blank\">int.jl:87</a>"
      ],
      "text/plain": [
       "+(x::T, y::T) where T<:Union{Int128, Int16, Int32, Int64, Int8, UInt128, UInt16, UInt32, UInt64, UInt8} in Base at int.jl:87"
      ]
     },
     "execution_count": 5,
     "metadata": {},
     "output_type": "execute_result"
    }
   ],
   "source": [
    "@which +(1, 2)"
   ]
  },
  {
   "cell_type": "code",
   "execution_count": 6,
   "id": "0925efca-76ff-49b1-90b2-e57ed6c0ee23",
   "metadata": {},
   "outputs": [
    {
     "data": {
      "text/html": [
       "+(a, b, c, xs...) in Base at <a href=\"https://github.com/JuliaLang/julia/tree/1b93d53fc4bb59350ada898038ed4de2994cce33/base/operators.jl#L560\" target=\"_blank\">operators.jl:560</a>"
      ],
      "text/plain": [
       "+(a, b, c, xs...) in Base at operators.jl:560"
      ]
     },
     "execution_count": 6,
     "metadata": {},
     "output_type": "execute_result"
    }
   ],
   "source": [
    "@which +(1, 2, 3)"
   ]
  },
  {
   "cell_type": "code",
   "execution_count": 7,
   "id": "08c37bbf-261b-4aaa-80bd-857f3ef1a1a6",
   "metadata": {},
   "outputs": [
    {
     "data": {
      "text/html": [
       "+(a, b, c, xs...) in Base at <a href=\"https://github.com/JuliaLang/julia/tree/1b93d53fc4bb59350ada898038ed4de2994cce33/base/operators.jl#L560\" target=\"_blank\">operators.jl:560</a>"
      ],
      "text/plain": [
       "+(a, b, c, xs...) in Base at operators.jl:560"
      ]
     },
     "execution_count": 7,
     "metadata": {},
     "output_type": "execute_result"
    }
   ],
   "source": [
    "@which +(1, 2, 3, 4)"
   ]
  },
  {
   "cell_type": "code",
   "execution_count": 11,
   "id": "5aea65aa-89bb-4ec4-9abd-da418375628e",
   "metadata": {},
   "outputs": [
    {
     "name": "stderr",
     "output_type": "stream",
     "text": [
      "\u001b[32m\u001b[1m   Resolving\u001b[22m\u001b[39m package versions...\n"
     ]
    },
    {
     "ename": "LoadError",
     "evalue": "Unsatisfiable requirements detected for package \u001b[38;5;2mMakie [ee78f7c6]\u001b[39m:\n \u001b[38;5;2mMakie [ee78f7c6]\u001b[39m log:\n ├─possible versions are: \u001b[38;5;2m0.9.0-0.15.0\u001b[39m or uninstalled\n ├─restricted by compatibility requirements with \u001b[38;5;13mCairoMakie [13f3f980]\u001b[39m to versions: \u001b[38;5;2m0.15.0\u001b[39m\n │ └─\u001b[38;5;13mCairoMakie [13f3f980]\u001b[39m log:\n │   ├─possible versions are: \u001b[38;5;13m0.0.1-0.6.3\u001b[39m or uninstalled\n │   └─restricted to versions \u001b[38;5;13m0.6.3\u001b[39m by an explicit requirement, leaving only versions \u001b[38;5;13m0.6.3\u001b[39m\n └─restricted by compatibility requirements with \u001b[38;5;5mObservables [510215fc]\u001b[39m to versions: \u001b[38;5;2m0.9.0-0.13.14\u001b[39m or uninstalled — no versions left\n   └─\u001b[38;5;5mObservables [510215fc]\u001b[39m log:\n     ├─possible versions are: \u001b[38;5;5m0.2.0-0.4.0\u001b[39m or uninstalled\n     ├─restricted by compatibility requirements with \u001b[38;5;14mStatsPlots [f3b207a7]\u001b[39m to versions: \u001b[38;5;5m0.2.2-0.4.0\u001b[39m\n     │ └─\u001b[38;5;14mStatsPlots [f3b207a7]\u001b[39m log:\n     │   ├─possible versions are: \u001b[38;5;14m0.10.0-0.14.26\u001b[39m or uninstalled\n     │   ├─restricted to versions \u001b[38;5;14m*\u001b[39m by an explicit requirement, leaving only versions \u001b[38;5;14m0.10.0-0.14.26\u001b[39m\n     │   └─restricted by compatibility requirements with \u001b[38;5;11mDistributions [31c24e10]\u001b[39m to versions: \u001b[38;5;14m0.14.2-0.14.26\u001b[39m or uninstalled, leaving only versions: \u001b[38;5;14m0.14.2-0.14.26\u001b[39m\n     │     └─\u001b[38;5;11mDistributions [31c24e10]\u001b[39m log:\n     │       ├─possible versions are: \u001b[38;5;11m0.16.0-0.25.11\u001b[39m or uninstalled\n     │       ├─restricted to versions \u001b[38;5;11m*\u001b[39m by an explicit requirement, leaving only versions \u001b[38;5;11m0.16.0-0.25.11\u001b[39m\n     │       └─restricted by compatibility requirements with \u001b[38;5;14mSymbolics [0c5d862f]\u001b[39m to versions: \u001b[38;5;11m0.23.0-0.25.11\u001b[39m\n     │         └─\u001b[38;5;14mSymbolics [0c5d862f]\u001b[39m log:\n     │           ├─possible versions are: \u001b[38;5;14m0.1.0-3.1.0\u001b[39m or uninstalled\n     │           └─restricted to versions \u001b[38;5;14m*\u001b[39m by an explicit requirement, leaving only versions \u001b[38;5;14m0.1.0-3.1.0\u001b[39m\n     └─restricted by compatibility requirements with \u001b[38;5;3mWebIO [0f1e0344]\u001b[39m to versions: \u001b[38;5;5m0.2.0-0.3.3\u001b[39m, leaving only versions: \u001b[38;5;5m0.2.2-0.3.3\u001b[39m\n       └─\u001b[38;5;3mWebIO [0f1e0344]\u001b[39m log:\n         ├─possible versions are: \u001b[38;5;3m0.2.5-0.8.15\u001b[39m or uninstalled\n         ├─restricted by compatibility requirements with \u001b[38;5;6mRequires [ae029012]\u001b[39m to versions: \u001b[38;5;3m0.8.3-0.8.15\u001b[39m or uninstalled\n         │ └─\u001b[38;5;6mRequires [ae029012]\u001b[39m log:\n         │   ├─possible versions are: \u001b[38;5;6m0.5.0-1.1.3\u001b[39m or uninstalled\n         │   └─restricted to versions \u001b[38;5;6m1\u001b[39m by \u001b[38;5;10mLoopVectorization [bdcacae8]\u001b[39m, leaving only versions \u001b[38;5;6m1.0.0-1.1.3\u001b[39m\n         │     └─\u001b[38;5;10mLoopVectorization [bdcacae8]\u001b[39m log:\n         │       ├─possible versions are: \u001b[38;5;10m0.12.65\u001b[39m or uninstalled\n         │       └─\u001b[38;5;10mLoopVectorization [bdcacae8]\u001b[39m is fixed to version \u001b[38;5;10m0.12.65\u001b[39m\n         └─restricted by compatibility requirements with \u001b[38;5;1mPlotlyJS [f0f68f2c]\u001b[39m to versions: \u001b[38;5;3m0.8.0-0.8.15\u001b[39m, leaving only versions: \u001b[38;5;3m0.8.3-0.8.15\u001b[39m\n           └─\u001b[38;5;1mPlotlyJS [f0f68f2c]\u001b[39m log:\n             ├─possible versions are: \u001b[38;5;1m0.11.0-0.18.5\u001b[39m or uninstalled\n             ├─restricted by compatibility requirements with \u001b[38;5;6mRequires [ae029012]\u001b[39m to versions: \u001b[38;5;1m0.12.4-0.18.5\u001b[39m or uninstalled\n             │ └─\u001b[38;5;6mRequires [ae029012]\u001b[39m log: see above\n             └─restricted by compatibility requirements with \u001b[38;5;6mPlotly [58dd65bb]\u001b[39m to versions: \u001b[38;5;1m0.11.0-0.14.1\u001b[39m, leaving only versions: \u001b[38;5;1m0.12.4-0.14.1\u001b[39m\n               └─\u001b[38;5;6mPlotly [58dd65bb]\u001b[39m log:\n                 ├─possible versions are: \u001b[38;5;6m0.2.0-0.4.0\u001b[39m or uninstalled\n                 └─restricted to versions \u001b[38;5;6m*\u001b[39m by an explicit requirement, leaving only versions \u001b[38;5;6m0.2.0-0.4.0\u001b[39m",
     "output_type": "error",
     "traceback": [
      "Unsatisfiable requirements detected for package \u001b[38;5;2mMakie [ee78f7c6]\u001b[39m:\n \u001b[38;5;2mMakie [ee78f7c6]\u001b[39m log:\n ├─possible versions are: \u001b[38;5;2m0.9.0-0.15.0\u001b[39m or uninstalled\n ├─restricted by compatibility requirements with \u001b[38;5;13mCairoMakie [13f3f980]\u001b[39m to versions: \u001b[38;5;2m0.15.0\u001b[39m\n │ └─\u001b[38;5;13mCairoMakie [13f3f980]\u001b[39m log:\n │   ├─possible versions are: \u001b[38;5;13m0.0.1-0.6.3\u001b[39m or uninstalled\n │   └─restricted to versions \u001b[38;5;13m0.6.3\u001b[39m by an explicit requirement, leaving only versions \u001b[38;5;13m0.6.3\u001b[39m\n └─restricted by compatibility requirements with \u001b[38;5;5mObservables [510215fc]\u001b[39m to versions: \u001b[38;5;2m0.9.0-0.13.14\u001b[39m or uninstalled — no versions left\n   └─\u001b[38;5;5mObservables [510215fc]\u001b[39m log:\n     ├─possible versions are: \u001b[38;5;5m0.2.0-0.4.0\u001b[39m or uninstalled\n     ├─restricted by compatibility requirements with \u001b[38;5;14mStatsPlots [f3b207a7]\u001b[39m to versions: \u001b[38;5;5m0.2.2-0.4.0\u001b[39m\n     │ └─\u001b[38;5;14mStatsPlots [f3b207a7]\u001b[39m log:\n     │   ├─possible versions are: \u001b[38;5;14m0.10.0-0.14.26\u001b[39m or uninstalled\n     │   ├─restricted to versions \u001b[38;5;14m*\u001b[39m by an explicit requirement, leaving only versions \u001b[38;5;14m0.10.0-0.14.26\u001b[39m\n     │   └─restricted by compatibility requirements with \u001b[38;5;11mDistributions [31c24e10]\u001b[39m to versions: \u001b[38;5;14m0.14.2-0.14.26\u001b[39m or uninstalled, leaving only versions: \u001b[38;5;14m0.14.2-0.14.26\u001b[39m\n     │     └─\u001b[38;5;11mDistributions [31c24e10]\u001b[39m log:\n     │       ├─possible versions are: \u001b[38;5;11m0.16.0-0.25.11\u001b[39m or uninstalled\n     │       ├─restricted to versions \u001b[38;5;11m*\u001b[39m by an explicit requirement, leaving only versions \u001b[38;5;11m0.16.0-0.25.11\u001b[39m\n     │       └─restricted by compatibility requirements with \u001b[38;5;14mSymbolics [0c5d862f]\u001b[39m to versions: \u001b[38;5;11m0.23.0-0.25.11\u001b[39m\n     │         └─\u001b[38;5;14mSymbolics [0c5d862f]\u001b[39m log:\n     │           ├─possible versions are: \u001b[38;5;14m0.1.0-3.1.0\u001b[39m or uninstalled\n     │           └─restricted to versions \u001b[38;5;14m*\u001b[39m by an explicit requirement, leaving only versions \u001b[38;5;14m0.1.0-3.1.0\u001b[39m\n     └─restricted by compatibility requirements with \u001b[38;5;3mWebIO [0f1e0344]\u001b[39m to versions: \u001b[38;5;5m0.2.0-0.3.3\u001b[39m, leaving only versions: \u001b[38;5;5m0.2.2-0.3.3\u001b[39m\n       └─\u001b[38;5;3mWebIO [0f1e0344]\u001b[39m log:\n         ├─possible versions are: \u001b[38;5;3m0.2.5-0.8.15\u001b[39m or uninstalled\n         ├─restricted by compatibility requirements with \u001b[38;5;6mRequires [ae029012]\u001b[39m to versions: \u001b[38;5;3m0.8.3-0.8.15\u001b[39m or uninstalled\n         │ └─\u001b[38;5;6mRequires [ae029012]\u001b[39m log:\n         │   ├─possible versions are: \u001b[38;5;6m0.5.0-1.1.3\u001b[39m or uninstalled\n         │   └─restricted to versions \u001b[38;5;6m1\u001b[39m by \u001b[38;5;10mLoopVectorization [bdcacae8]\u001b[39m, leaving only versions \u001b[38;5;6m1.0.0-1.1.3\u001b[39m\n         │     └─\u001b[38;5;10mLoopVectorization [bdcacae8]\u001b[39m log:\n         │       ├─possible versions are: \u001b[38;5;10m0.12.65\u001b[39m or uninstalled\n         │       └─\u001b[38;5;10mLoopVectorization [bdcacae8]\u001b[39m is fixed to version \u001b[38;5;10m0.12.65\u001b[39m\n         └─restricted by compatibility requirements with \u001b[38;5;1mPlotlyJS [f0f68f2c]\u001b[39m to versions: \u001b[38;5;3m0.8.0-0.8.15\u001b[39m, leaving only versions: \u001b[38;5;3m0.8.3-0.8.15\u001b[39m\n           └─\u001b[38;5;1mPlotlyJS [f0f68f2c]\u001b[39m log:\n             ├─possible versions are: \u001b[38;5;1m0.11.0-0.18.5\u001b[39m or uninstalled\n             ├─restricted by compatibility requirements with \u001b[38;5;6mRequires [ae029012]\u001b[39m to versions: \u001b[38;5;1m0.12.4-0.18.5\u001b[39m or uninstalled\n             │ └─\u001b[38;5;6mRequires [ae029012]\u001b[39m log: see above\n             └─restricted by compatibility requirements with \u001b[38;5;6mPlotly [58dd65bb]\u001b[39m to versions: \u001b[38;5;1m0.11.0-0.14.1\u001b[39m, leaving only versions: \u001b[38;5;1m0.12.4-0.14.1\u001b[39m\n               └─\u001b[38;5;6mPlotly [58dd65bb]\u001b[39m log:\n                 ├─possible versions are: \u001b[38;5;6m0.2.0-0.4.0\u001b[39m or uninstalled\n                 └─restricted to versions \u001b[38;5;6m*\u001b[39m by an explicit requirement, leaving only versions \u001b[38;5;6m0.2.0-0.4.0\u001b[39m",
      "",
      "Stacktrace:",
      "  [1] propagate_constraints!(graph::Pkg.Resolve.Graph, sources::Set{Int64}; log_events::Bool)",
      "    @ Pkg.Resolve C:\\buildbot\\worker\\package_win64\\build\\usr\\share\\julia\\stdlib\\v1.6\\Pkg\\src\\Resolve\\graphtype.jl:1048",
      "  [2] propagate_constraints! (repeats 2 times)",
      "    @ C:\\buildbot\\worker\\package_win64\\build\\usr\\share\\julia\\stdlib\\v1.6\\Pkg\\src\\Resolve\\graphtype.jl:989 [inlined]",
      "  [3] simplify_graph!(graph::Pkg.Resolve.Graph, sources::Set{Int64}; clean_graph::Bool)",
      "    @ Pkg.Resolve C:\\buildbot\\worker\\package_win64\\build\\usr\\share\\julia\\stdlib\\v1.6\\Pkg\\src\\Resolve\\graphtype.jl:1503",
      "  [4] simplify_graph! (repeats 2 times)",
      "    @ C:\\buildbot\\worker\\package_win64\\build\\usr\\share\\julia\\stdlib\\v1.6\\Pkg\\src\\Resolve\\graphtype.jl:1503 [inlined]",
      "  [5] resolve_versions!(ctx::Pkg.Types.Context, pkgs::Vector{Pkg.Types.PackageSpec})",
      "    @ Pkg.Operations C:\\buildbot\\worker\\package_win64\\build\\usr\\share\\julia\\stdlib\\v1.6\\Pkg\\src\\Operations.jl:408",
      "  [6] targeted_resolve(ctx::Pkg.Types.Context, pkgs::Vector{Pkg.Types.PackageSpec}, preserve::Pkg.Types.PreserveLevel)",
      "    @ Pkg.Operations C:\\buildbot\\worker\\package_win64\\build\\usr\\share\\julia\\stdlib\\v1.6\\Pkg\\src\\Operations.jl:1214",
      "  [7] tiered_resolve(ctx::Pkg.Types.Context, pkgs::Vector{Pkg.Types.PackageSpec})",
      "    @ Pkg.Operations C:\\buildbot\\worker\\package_win64\\build\\usr\\share\\julia\\stdlib\\v1.6\\Pkg\\src\\Operations.jl:1200",
      "  [8] _resolve",
      "    @ C:\\buildbot\\worker\\package_win64\\build\\usr\\share\\julia\\stdlib\\v1.6\\Pkg\\src\\Operations.jl:1220 [inlined]",
      "  [9] add(ctx::Pkg.Types.Context, pkgs::Vector{Pkg.Types.PackageSpec}, new_git::Vector{Base.UUID}; preserve::Pkg.Types.PreserveLevel, platform::Base.BinaryPlatforms.Platform)",
      "    @ Pkg.Operations C:\\buildbot\\worker\\package_win64\\build\\usr\\share\\julia\\stdlib\\v1.6\\Pkg\\src\\Operations.jl:1235",
      " [10] add(ctx::Pkg.Types.Context, pkgs::Vector{Pkg.Types.PackageSpec}; preserve::Pkg.Types.PreserveLevel, platform::Base.BinaryPlatforms.Platform, kwargs::Base.Iterators.Pairs{Symbol, IJulia.IJuliaStdio{Base.PipeEndpoint}, Tuple{Symbol}, NamedTuple{(:io,), Tuple{IJulia.IJuliaStdio{Base.PipeEndpoint}}}})",
      "    @ Pkg.API C:\\buildbot\\worker\\package_win64\\build\\usr\\share\\julia\\stdlib\\v1.6\\Pkg\\src\\API.jl:204",
      " [11] add(pkgs::Vector{Pkg.Types.PackageSpec}; io::IJulia.IJuliaStdio{Base.PipeEndpoint}, kwargs::Base.Iterators.Pairs{Union{}, Union{}, Tuple{}, NamedTuple{(), Tuple{}}})",
      "    @ Pkg.API C:\\buildbot\\worker\\package_win64\\build\\usr\\share\\julia\\stdlib\\v1.6\\Pkg\\src\\API.jl:80",
      " [12] add(pkgs::Vector{Pkg.Types.PackageSpec})",
      "    @ Pkg.API C:\\buildbot\\worker\\package_win64\\build\\usr\\share\\julia\\stdlib\\v1.6\\Pkg\\src\\API.jl:78",
      " [13] do_cmd!(command::Pkg.REPLMode.Command, repl::IJulia.MiniREPL)",
      "    @ Pkg.REPLMode C:\\buildbot\\worker\\package_win64\\build\\usr\\share\\julia\\stdlib\\v1.6\\Pkg\\src\\REPLMode\\REPLMode.jl:408",
      " [14] do_cmd(repl::IJulia.MiniREPL, input::String; do_rethrow::Bool)",
      "    @ Pkg.REPLMode C:\\buildbot\\worker\\package_win64\\build\\usr\\share\\julia\\stdlib\\v1.6\\Pkg\\src\\REPLMode\\REPLMode.jl:386",
      " [15] top-level scope",
      "    @ In[11]:1",
      " [16] eval",
      "    @ .\\boot.jl:360 [inlined]",
      " [17] include_string(mapexpr::typeof(REPL.softscope), mod::Module, code::String, filename::String)",
      "    @ Base .\\loading.jl:1116"
     ]
    }
   ],
   "source": [
    "]add CairoMakie@0.6.3"
   ]
  },
  {
   "cell_type": "code",
   "execution_count": null,
   "id": "6877c03c-7e19-403a-b5bc-a5c6f9c21632",
   "metadata": {},
   "outputs": [],
   "source": []
  }
 ],
 "metadata": {
  "jupytext": {
   "formats": "ipynb,auto:hydrogen"
  },
  "kernelspec": {
   "display_name": "Julia 1.6.2",
   "language": "julia",
   "name": "julia-1.6"
  },
  "language_info": {
   "file_extension": ".jl",
   "mimetype": "application/julia",
   "name": "julia",
   "version": "1.6.2"
  }
 },
 "nbformat": 4,
 "nbformat_minor": 5
}
