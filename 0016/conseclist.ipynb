{
 "cells": [
  {
   "cell_type": "markdown",
   "id": "30185a86-dc1d-4baf-a773-c2eb206f2434",
   "metadata": {},
   "source": [
    "Subset of https://gist.github.com/genkuroki/8c7e9e484a5877d9747a4819bbab645d"
   ]
  },
  {
   "cell_type": "code",
   "execution_count": 1,
   "id": "d2533529-6023-42c2-ac75-ad3e637d4d18",
   "metadata": {},
   "outputs": [
    {
     "data": {
      "text/plain": [
       "conseclist_forloop (generic function with 1 method)"
      ]
     },
     "execution_count": 1,
     "metadata": {},
     "output_type": "execute_result"
    }
   ],
   "source": [
    "function conseclist_forloop(x)\n",
    "    b, e = firstindex(x), lastindex(x)\n",
    "    s = b - 1\n",
    "    S = [s]\n",
    "    while s < e\n",
    "        t = s + 1\n",
    "        @inbounds while t < e\n",
    "            x[t+1] != x[t] + 1 && break \n",
    "            t += 1\n",
    "        end\n",
    "        push!(S, t)\n",
    "        s = t\n",
    "    end\n",
    "    [@view(x[S[i]+1:S[i+1]]) for i in 1:length(S)-1]\n",
    "end"
   ]
  },
  {
   "cell_type": "code",
   "execution_count": 2,
   "id": "37003b64-84bf-4a53-b092-d5fa147142dd",
   "metadata": {},
   "outputs": [
    {
     "data": {
      "text/plain": [
       "conseclist_bitvector (generic function with 1 method)"
      ]
     },
     "execution_count": 2,
     "metadata": {},
     "output_type": "execute_result"
    }
   ],
   "source": [
    "function conseclist_bitvector(x)\n",
    "    b, e = firstindex(x), lastindex(x)\n",
    "    @views idxs = x[b+1:e] .- x[b:e-1] .!= 1\n",
    "    S = [b-1; (b:e-1)[idxs]; e]\n",
    "    [@view(x[S[i]+1:S[i+1]]) for i in 1:length(S)-1]\n",
    "end"
   ]
  },
  {
   "cell_type": "code",
   "execution_count": 3,
   "id": "17345252-9074-4cab-b445-519ed356134a",
   "metadata": {},
   "outputs": [
    {
     "data": {
      "text/plain": [
       "Main.LazyConsecLists"
      ]
     },
     "execution_count": 3,
     "metadata": {},
     "output_type": "execute_result"
    }
   ],
   "source": [
    "module LazyConsecLists\n",
    "\n",
    "struct ConsecList{T<:AbstractVector{<:Integer}} <:\n",
    "        AbstractVector{SubArray{eltype(T), 1, T, Tuple{UnitRange{Int64}}, true}}\n",
    "    a::T\n",
    "    S::Vector{Int}\n",
    "end\n",
    "function ConsecList(x)\n",
    "    b, e = firstindex(x), lastindex(x)\n",
    "    idx = @views (x[b+1:e] .- x[b:e-1]) .!= 1\n",
    "    S = [b-1; (b:e-1)[idx]; e]\n",
    "    ConsecList{typeof(x)}(x, S)\n",
    "end\n",
    "\n",
    "Base.length(x::ConsecList) = length(x.S) - 1\n",
    "Base.size(x::ConsecList) = (length(x),)\n",
    "function Base.eltype(x::ConsecList{T}) where T<:AbstractVector{<:Integer}\n",
    "    SubArray{eltype(T), 1, T, Tuple{UnitRange{Int64}}, true}\n",
    "end\n",
    "\n",
    "Base.getindex(x::ConsecList, i::Integer) = @view(x.a[x.S[i]+1:x.S[i+1]])\n",
    "Base.getindex(x::ConsecList, r::AbstractRange) = [x[i] for i in r]\n",
    "Base.getindex(x::ConsecList, ::Colon) = collect(x)\n",
    "\n",
    "end"
   ]
  },
  {
   "cell_type": "code",
   "execution_count": 4,
   "id": "241ff6b3-400b-46c8-9ee5-08c11dc3ab29",
   "metadata": {},
   "outputs": [
    {
     "data": {
      "text/plain": [
       "6316-element Vector{Int64}:\n",
       "    2\n",
       "    4\n",
       "    5\n",
       "    6\n",
       "    8\n",
       "    9\n",
       "   10\n",
       "   11\n",
       "   12\n",
       "   14\n",
       "   16\n",
       "   17\n",
       "   18\n",
       "    ⋮\n",
       " 9986\n",
       " 9987\n",
       " 9988\n",
       " 9990\n",
       " 9992\n",
       " 9993\n",
       " 9994\n",
       " 9995\n",
       " 9996\n",
       " 9997\n",
       " 9998\n",
       " 9999"
      ]
     },
     "execution_count": 4,
     "metadata": {},
     "output_type": "execute_result"
    }
   ],
   "source": [
    "using BenchmarkTools\n",
    "A = unique(sort(rand(1:10^4, 10^4)))"
   ]
  },
  {
   "cell_type": "code",
   "execution_count": 5,
   "id": "2b5c9c81-5529-4326-b307-94075b5602dd",
   "metadata": {},
   "outputs": [
    {
     "name": "stdout",
     "output_type": "stream",
     "text": [
      "conseclist_forloop(A) == conseclist_bitvector(A) == LazyConsecLists.ConsecList(A) = true\n",
      "length(conseclist_forloop(A)) == length(conseclist_bitvector(A)) == length(LazyConsecLists.ConsecList(A)) = true\n",
      "  38.900 μs (14 allocations: 155.86 KiB)\n",
      "  17.000 μs (9 allocations: 133.14 KiB)\n",
      "  17.000 μs (9 allocations: 133.14 KiB)\n"
     ]
    },
    {
     "data": {
      "text/plain": [
       "2336-element Vector{SubArray{Int64, 1, Vector{Int64}, Tuple{UnitRange{Int64}}, true}}:\n",
       " [2]\n",
       " [4, 5, 6]\n",
       " [8, 9, 10, 11, 12]\n",
       " [14]\n",
       " [16, 17, 18, 19]\n",
       " [22, 23, 24, 25]\n",
       " [27, 28, 29, 30, 31]\n",
       " [34]\n",
       " [37, 38]\n",
       " [40, 41, 42]\n",
       " [44]\n",
       " [46]\n",
       " [48, 49]\n",
       " ⋮\n",
       " [9940]\n",
       " [9942, 9943, 9944, 9945, 9946, 9947, 9948, 9949, 9950, 9951, 9952, 9953]\n",
       " [9957, 9958]\n",
       " [9960, 9961]\n",
       " [9965, 9966, 9967, 9968, 9969]\n",
       " [9972, 9973]\n",
       " [9975]\n",
       " [9978]\n",
       " [9981, 9982, 9983, 9984]\n",
       " [9986, 9987, 9988]\n",
       " [9990]\n",
       " [9992, 9993, 9994, 9995, 9996, 9997, 9998, 9999]"
      ]
     },
     "execution_count": 5,
     "metadata": {},
     "output_type": "execute_result"
    }
   ],
   "source": [
    "@show conseclist_forloop(A) == conseclist_bitvector(A) == LazyConsecLists.ConsecList(A)\n",
    "@show length(conseclist_forloop(A)) == length(conseclist_bitvector(A)) == length(LazyConsecLists.ConsecList(A))\n",
    "@btime conseclist_forloop($A)\n",
    "@btime conseclist_bitvector($A)\n",
    "@btime collect(LazyConsecLists.ConsecList($A))"
   ]
  },
  {
   "cell_type": "code",
   "execution_count": 6,
   "id": "c2a7a222-2431-454d-88ef-78ab03df44e3",
   "metadata": {},
   "outputs": [
    {
     "name": "stdout",
     "output_type": "stream",
     "text": [
      "  42.200 μs (14 allocations: 155.86 KiB)\n",
      "  18.900 μs (9 allocations: 133.14 KiB)\n",
      "  10.300 μs (7 allocations: 41.81 KiB)\n"
     ]
    },
    {
     "data": {
      "text/plain": [
       "6316"
      ]
     },
     "execution_count": 6,
     "metadata": {},
     "output_type": "execute_result"
    }
   ],
   "source": [
    "@btime sum(length, conseclist_forloop($A))\n",
    "@btime sum(length, conseclist_bitvector($A))\n",
    "@btime sum(length, LazyConsecLists.ConsecList($A))"
   ]
  },
  {
   "cell_type": "code",
   "execution_count": 7,
   "id": "886a98a2-c27d-40af-b0be-415159832724",
   "metadata": {},
   "outputs": [
    {
     "data": {
      "text/plain": [
       "10-element OffsetArray(::Vector{Int64}, -4:5) with eltype Int64 with indices -4:5:\n",
       "  1\n",
       "  2\n",
       "  5\n",
       "  9\n",
       " 10\n",
       " 11\n",
       " 14\n",
       " 15\n",
       " 16\n",
       " 19"
      ]
     },
     "execution_count": 7,
     "metadata": {},
     "output_type": "execute_result"
    }
   ],
   "source": [
    "using OffsetArrays\n",
    "x = OffsetArray([1, 2, 5, 9, 10, 11, 14, 15, 16, 19], -4:5)"
   ]
  },
  {
   "cell_type": "code",
   "execution_count": 8,
   "id": "d0d30137-1420-49f4-818a-0dc7c35a8d9c",
   "metadata": {},
   "outputs": [
    {
     "data": {
      "text/plain": [
       "5-element Vector{SubArray{Int64, 1, OffsetVector{Int64, Vector{Int64}}, Tuple{UnitRange{Int64}}, true}}:\n",
       " [1, 2]\n",
       " [5]\n",
       " [9, 10, 11]\n",
       " [14, 15, 16]\n",
       " [19]"
      ]
     },
     "execution_count": 8,
     "metadata": {},
     "output_type": "execute_result"
    }
   ],
   "source": [
    "conseclist_forloop(x)"
   ]
  },
  {
   "cell_type": "code",
   "execution_count": 9,
   "id": "10e5b05d-126c-496f-adac-0943607da427",
   "metadata": {},
   "outputs": [
    {
     "data": {
      "text/plain": [
       "5-element Vector{SubArray{Int64, 1, OffsetVector{Int64, Vector{Int64}}, Tuple{UnitRange{Int64}}, true}}:\n",
       " [1, 2]\n",
       " [5]\n",
       " [9, 10, 11]\n",
       " [14, 15, 16]\n",
       " [19]"
      ]
     },
     "execution_count": 9,
     "metadata": {},
     "output_type": "execute_result"
    }
   ],
   "source": [
    "conseclist_bitvector(x)"
   ]
  },
  {
   "cell_type": "code",
   "execution_count": 10,
   "id": "ffe95827-6873-4dd3-b883-6dc972b23b8c",
   "metadata": {},
   "outputs": [
    {
     "data": {
      "text/plain": [
       "5-element Main.LazyConsecLists.ConsecList{OffsetVector{Int64, Vector{Int64}}}:\n",
       " [1, 2]\n",
       " [5]\n",
       " [9, 10, 11]\n",
       " [14, 15, 16]\n",
       " [19]"
      ]
     },
     "execution_count": 10,
     "metadata": {},
     "output_type": "execute_result"
    }
   ],
   "source": [
    "LazyConsecLists.ConsecList(x)"
   ]
  },
  {
   "cell_type": "code",
   "execution_count": null,
   "id": "09519f46-8803-41e7-a7ec-0b5e4f0dada7",
   "metadata": {},
   "outputs": [],
   "source": []
  }
 ],
 "metadata": {
  "jupytext": {
   "formats": "ipynb,auto:hydrogen"
  },
  "kernelspec": {
   "display_name": "Julia 1.6.2",
   "language": "julia",
   "name": "julia-1.6"
  },
  "language_info": {
   "file_extension": ".jl",
   "mimetype": "application/julia",
   "name": "julia",
   "version": "1.6.2"
  }
 },
 "nbformat": 4,
 "nbformat_minor": 5
}
