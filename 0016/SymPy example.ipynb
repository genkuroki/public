{
 "cells": [
  {
   "cell_type": "code",
   "execution_count": 1,
   "id": "e8a36682-44e6-46ce-8779-1e7b5aa46e1a",
   "metadata": {},
   "outputs": [
    {
     "data": {
      "text/latex": [
       "$\\begin{equation*}\\frac{\\partial}{\\partial t} \\operatorname{Uk}{\\left(z,t \\right)} = - \\sin{\\left(z \\right)} \\cos{\\left(t \\right)}\\end{equation*}$\n"
      ],
      "text/plain": [
       "d                            \n",
       "--(Uk(z, t)) = -sin(z)*cos(t)\n",
       "dt                           "
      ]
     },
     "metadata": {},
     "output_type": "display_data"
    },
    {
     "data": {
      "text/latex": [
       "$\\begin{equation*}\\operatorname{Uk}{\\left(z,t \\right)} = F{\\left(z \\right)} - \\sin{\\left(t \\right)} \\sin{\\left(z \\right)}\\end{equation*}$\n"
      ],
      "text/plain": [
       "Uk(z, t) = F(z) - sin(t)*sin(z)"
      ]
     },
     "execution_count": 1,
     "metadata": {},
     "output_type": "execute_result"
    }
   ],
   "source": [
    "using SymPy\n",
    "\n",
    "function diffeq_3()\n",
    "    @vars z t\n",
    "    P, ∇Pk, Uk, dUdtk = symbols(\"P ∇Pk Uk dUdtk\", cls = sympy.Function)\n",
    "    P = cos(t)*cos(z)\n",
    "    ∇Pk = diff.(P, z)\n",
    "    dUdtk = diff.(Uk(z, t), t)\n",
    "    diffeq = Eq(dUdtk, ∇Pk)\n",
    "    display(diffeq)\n",
    "    solution = pdsolve(diffeq)\n",
    "end\n",
    "\n",
    "diffeq_3()"
   ]
  },
  {
   "cell_type": "code",
   "execution_count": 2,
   "id": "02a3bdf5-8bb2-4bb1-9233-d96cd0cb44d7",
   "metadata": {},
   "outputs": [
    {
     "data": {
      "text/latex": [
       "$\\left[ \\begin{array}{r}\\frac{\\partial}{\\partial t} \\operatorname{Uk}{\\left(z,t \\right)} = - \\sin{\\left(z \\right)} \\cos{\\left(t \\right)}\\\\\\operatorname{Uk}{\\left(z,t \\right)} = F{\\left(z \\right)} - \\sin{\\left(t \\right)} \\sin{\\left(z \\right)}\\end{array} \\right]$\n"
      ],
      "text/plain": [
       "2-element Vector{Sym}:\n",
       " Eq(Derivative(Uk(z, t), t), -sin(z)*cos(t))\n",
       "          Uk(z, t) = F(z) - sin(t)*sin(z)"
      ]
     },
     "execution_count": 2,
     "metadata": {},
     "output_type": "execute_result"
    }
   ],
   "source": [
    "using SymPy\n",
    "\n",
    "function diffeq_3()\n",
    "    @vars z t\n",
    "    P, ∇Pk, Uk, dUdtk = symbols(\"P ∇Pk Uk dUdtk\", cls = sympy.Function)\n",
    "    P = cos(t)*cos(z)\n",
    "    ∇Pk = diff.(P, z)\n",
    "    dUdtk = diff.(Uk(z, t), t)\n",
    "    diffeq = Eq(dUdtk, ∇Pk)\n",
    "    solution = pdsolve(diffeq)\n",
    "    [diffeq, solution]\n",
    "end\n",
    "\n",
    "diffeq_3()"
   ]
  },
  {
   "cell_type": "code",
   "execution_count": 3,
   "id": "9279e21a-9ba5-4bd6-9ff3-57871c306f71",
   "metadata": {},
   "outputs": [
    {
     "name": "stdout",
     "output_type": "stream",
     "text": [
      "diffeq_3() = Sym[Eq(Derivative(Uk(z, t), t), -sin(z)*cos(t)), Eq(Uk(z, t), F(z) - sin(t)*sin(z))]\n"
     ]
    }
   ],
   "source": [
    "@show diffeq_3();"
   ]
  },
  {
   "cell_type": "code",
   "execution_count": null,
   "id": "8d9f5555-c0a2-4c8b-bf43-b5d07613ee90",
   "metadata": {},
   "outputs": [],
   "source": []
  }
 ],
 "metadata": {
  "jupytext": {
   "formats": "ipynb,auto:hydrogen"
  },
  "kernelspec": {
   "display_name": "Julia 1.6.2",
   "language": "julia",
   "name": "julia-1.6"
  },
  "language_info": {
   "file_extension": ".jl",
   "mimetype": "application/julia",
   "name": "julia",
   "version": "1.6.2"
  }
 },
 "nbformat": 4,
 "nbformat_minor": 5
}
