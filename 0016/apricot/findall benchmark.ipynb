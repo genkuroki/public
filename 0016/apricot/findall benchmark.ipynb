{
 "cells": [
  {
   "cell_type": "code",
   "execution_count": 1,
   "id": "173099ca-62f4-40d5-b8cf-b4b2b3d1642c",
   "metadata": {},
   "outputs": [
    {
     "name": "stdout",
     "output_type": "stream",
     "text": [
      "summary(bitmask) = \"524288-element BitVector\"\n",
      "summary(boolmask) = \"524288-element Vector{Bool}\"\n",
      "summary(bytemask) = \"524288-element Vector{Int8}\"\n",
      "findall(bitmask) == findall(.!(.!(bitmask))) == findall(!, .!(bitmask)) == findall(boolmask) == findall(Bool.(boolmask)) == findall(.!(.!(boolmask))) == findall(!, .!(boolmask)) == findall(Bool.(bytemask)) == findall(bytemask .== 1) == findall((==)(1), bytemask) = true\n",
      "\n",
      "findall($bitmask):                288.000 μs (2 allocations: 2.00 MiB)\n",
      "findall(.!$(.!bitmask)):          280.700 μs (5 allocations: 2.06 MiB)\n",
      "findall(!, $(.!bitmask)):       4.999 ms (19 allocations: 3.00 MiB)\n",
      "findall($boolmask):             1.765 ms (2 allocations: 2.00 MiB)\n",
      "findall(Bool.($boolmask)):        334.100 μs (6 allocations: 2.06 MiB)\n",
      "findall(.!$(.!boolmask)):         279.700 μs (5 allocations: 2.06 MiB)\n",
      "findall(!, $(.!boolmask)):      5.006 ms (19 allocations: 3.00 MiB)\n",
      "findall(Bool.($bytemask)):      1.894 ms (6 allocations: 2.06 MiB)\n",
      "findall($bytemask .== 1):         335.300 μs (6 allocations: 2.06 MiB)\n",
      "findall(==(1), $bytemask):      3.529 ms (19 allocations: 3.00 MiB)\n"
     ]
    }
   ],
   "source": [
    "using BenchmarkTools\n",
    "using Random\n",
    "\n",
    "n = 2^19\n",
    "bitmask = bitrand(n)\n",
    "boolmask = Vector{Bool}(bitmask)\n",
    "bytemask = Vector{Int8}(bitmask)\n",
    "\n",
    "@show summary(bitmask)\n",
    "@show summary(boolmask)\n",
    "@show summary(bytemask)\n",
    "@show findall(bitmask) == findall(.!(.!bitmask)) == findall(!, .!bitmask) ==\n",
    "      findall(boolmask) == findall(Bool.(boolmask)) == findall(.!(.!boolmask)) == findall(!, .!boolmask) ==\n",
    "      findall(Bool.(bytemask)) == findall(bytemask .== 1) == findall(==(1), bytemask)\n",
    "\n",
    "println(); flush(stdout)\n",
    "\n",
    "print(\"findall(\\$bitmask):              \")\n",
    "@btime findall($bitmask)\n",
    "print(\"findall(.!\\$(.!bitmask)):        \")\n",
    "@btime findall(.!$(.!bitmask))\n",
    "print(\"findall(!, \\$(.!bitmask)):     \")\n",
    "@btime findall(!, $(.!bitmask))\n",
    "\n",
    "print(\"findall(\\$boolmask):           \")\n",
    "@btime findall($boolmask)\n",
    "print(\"findall(Bool.(\\$boolmask)):      \")\n",
    "@btime findall(Bool.($boolmask))\n",
    "print(\"findall(.!\\$(.!boolmask)):       \")\n",
    "@btime findall(.!$(.!boolmask))\n",
    "print(\"findall(!, \\$(.!boolmask)):    \")\n",
    "@btime findall(!, $(.!boolmask))\n",
    "\n",
    "print(\"findall(Bool.(\\$bytemask)):    \")\n",
    "@btime findall(Bool.($bytemask))\n",
    "print(\"findall(\\$bytemask .== 1):       \")\n",
    "@btime findall($bytemask .== 1)\n",
    "print(\"findall(==(1), \\$bytemask):    \")\n",
    "@btime findall(==(1), $bytemask)\n",
    ";"
   ]
  },
  {
   "cell_type": "code",
   "execution_count": null,
   "id": "f4596352-cc10-4f53-aa61-f5c8fbde79f7",
   "metadata": {},
   "outputs": [],
   "source": []
  }
 ],
 "metadata": {
  "jupytext": {
   "formats": "ipynb,auto:hydrogen"
  },
  "kernelspec": {
   "display_name": "Julia 1.6.2",
   "language": "julia",
   "name": "julia-1.6"
  },
  "language_info": {
   "file_extension": ".jl",
   "mimetype": "application/julia",
   "name": "julia",
   "version": "1.6.2"
  }
 },
 "nbformat": 4,
 "nbformat_minor": 5
}
