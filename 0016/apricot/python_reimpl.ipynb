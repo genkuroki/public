{
 "cells": [
  {
   "cell_type": "markdown",
   "metadata": {},
   "source": [
    "https://github.com/rmeinl/apricot-julia/blob/5f130f846f8b7f93bb4429e2b182f0765a61035c/notebooks/python_reimpl.ipynb"
   ]
  },
  {
   "cell_type": "code",
   "execution_count": 1,
   "metadata": {},
   "outputs": [],
   "source": [
    "import matplotlib.pyplot as plt\n",
    "import seaborn; seaborn.set_style('whitegrid')\n",
    "\n",
    "import time\n",
    "import scipy\n",
    "import numpy as np\n",
    "\n",
    "from numba import njit\n",
    "from numba import prange\n",
    "from sklearn.datasets import fetch_covtype"
   ]
  },
  {
   "cell_type": "code",
   "execution_count": 2,
   "metadata": {},
   "outputs": [],
   "source": [
    "digits_data = fetch_covtype()"
   ]
  },
  {
   "cell_type": "code",
   "execution_count": 3,
   "metadata": {},
   "outputs": [],
   "source": [
    "X_digits = np.abs(digits_data.data)"
   ]
  },
  {
   "cell_type": "code",
   "execution_count": 4,
   "metadata": {},
   "outputs": [],
   "source": [
    "def calculate_gains(func, parallel, fastmath, cache):\n",
    "    @njit(parallel=parallel, fastmath=fastmath, cache=cache)\n",
    "    def calculate_gains_(X, gains, current_values, idxs, current_concave_values_sum):\n",
    "        for i in prange(idxs.shape[0]):\n",
    "            idx = idxs[i]\n",
    "            gains[i] = func(current_values + X[idx, :]).sum()\n",
    "        gains -= current_concave_values_sum\n",
    "        return gains\n",
    "\n",
    "    return calculate_gains_"
   ]
  },
  {
   "cell_type": "code",
   "execution_count": 5,
   "metadata": {},
   "outputs": [],
   "source": [
    "def fit(X, k):\n",
    "    calculate_gains_ = calculate_gains(np.sqrt, True, True, False)\n",
    "    \n",
    "    n, d = X.shape\n",
    "\n",
    "    cost = 0.0\n",
    "\n",
    "    ranking = []\n",
    "    total_gains = []\n",
    "\n",
    "    mask = np.zeros(n)\n",
    "    current_values = np.zeros(d)\n",
    "    current_concave_values = np.sqrt(current_values)\n",
    "    current_concave_values_sum = current_concave_values.sum()\n",
    "\n",
    "    idxs = np.arange(n)\n",
    "\n",
    "    gains = np.zeros(idxs.shape[0], dtype='float64')\n",
    "    while cost < k:\n",
    "        gains = calculate_gains_(X, gains, current_values, idxs, current_concave_values_sum)\n",
    "\n",
    "        idx = np.argmax(gains)\n",
    "        best_idx = idxs[idx]\n",
    "        curr_cost = 1.\n",
    "        \n",
    "        if cost + curr_cost > k:\n",
    "            break\n",
    "\n",
    "        cost += curr_cost\n",
    "        # Calculate gains\n",
    "        gain = gains[idx] * curr_cost\n",
    "\n",
    "        # Select next\n",
    "        current_values += X[best_idx, :]\n",
    "        current_concave_values = np.sqrt(current_values)\n",
    "        current_concave_values_sum = current_concave_values.sum()\n",
    "\n",
    "        ranking.append(best_idx)\n",
    "        total_gains.append(gain)\n",
    "\n",
    "        mask[best_idx] = 1\n",
    "        idxs = np.where(mask == 0)[0]\n",
    "\n",
    "    return ranking, total_gains"
   ]
  },
  {
   "cell_type": "code",
   "execution_count": 6,
   "metadata": {},
   "outputs": [],
   "source": [
    "k = 1000"
   ]
  },
  {
   "cell_type": "code",
   "execution_count": 7,
   "metadata": {},
   "outputs": [
    {
     "data": {
      "text/plain": [
       "15.11655855178833"
      ]
     },
     "execution_count": 7,
     "metadata": {},
     "output_type": "execute_result"
    }
   ],
   "source": [
    "tic = time.time()\n",
    "ranking0, gains0 = fit(X=X_digits, k=k)\n",
    "toc0 = time.time() - tic\n",
    "toc0"
   ]
  },
  {
   "cell_type": "code",
   "execution_count": 8,
   "metadata": {},
   "outputs": [
    {
     "data": {
      "text/plain": [
       "14.258497476577759"
      ]
     },
     "execution_count": 8,
     "metadata": {},
     "output_type": "execute_result"
    }
   ],
   "source": [
    "tic = time.time()\n",
    "ranking0, gains0 = fit(X=X_digits, k=k)\n",
    "toc0 = time.time() - tic\n",
    "toc0"
   ]
  },
  {
   "cell_type": "code",
   "execution_count": 9,
   "metadata": {},
   "outputs": [
    {
     "data": {
      "text/plain": [
       "14.307149648666382"
      ]
     },
     "execution_count": 9,
     "metadata": {},
     "output_type": "execute_result"
    }
   ],
   "source": [
    "tic = time.time()\n",
    "ranking0, gains0 = fit(X=X_digits, k=k)\n",
    "toc0 = time.time() - tic\n",
    "toc0"
   ]
  },
  {
   "cell_type": "code",
   "execution_count": 10,
   "metadata": {},
   "outputs": [
    {
     "data": {
      "text/plain": [
       "0.011968374252319336"
      ]
     },
     "execution_count": 10,
     "metadata": {},
     "output_type": "execute_result"
    }
   ],
   "source": [
    "tic = time.time()\n",
    "idxs = np.random.choice(X_digits.shape[0], replace=False, size=k)\n",
    "X_subset = X_digits[idxs]\n",
    "gains1 = np.cumsum(X_subset, axis=0)\n",
    "gains1 = np.sqrt(gains1).sum(axis=1)\n",
    "toc1 = time.time() - tic\n",
    "toc1"
   ]
  },
  {
   "cell_type": "code",
   "execution_count": 11,
   "metadata": {},
   "outputs": [
    {
     "data": {
      "text/plain": [
       "0.01396322250366211"
      ]
     },
     "execution_count": 11,
     "metadata": {},
     "output_type": "execute_result"
    }
   ],
   "source": [
    "tic = time.time()\n",
    "idxs = np.random.choice(X_digits.shape[0], replace=False, size=k)\n",
    "X_subset = X_digits[idxs]\n",
    "gains1 = np.cumsum(X_subset, axis=0)\n",
    "gains1 = np.sqrt(gains1).sum(axis=1)\n",
    "toc1 = time.time() - tic\n",
    "toc1"
   ]
  },
  {
   "cell_type": "code",
   "execution_count": 12,
   "metadata": {},
   "outputs": [
    {
     "data": {
      "text/plain": [
       "0.014959096908569336"
      ]
     },
     "execution_count": 12,
     "metadata": {},
     "output_type": "execute_result"
    }
   ],
   "source": [
    "tic = time.time()\n",
    "idxs = np.random.choice(X_digits.shape[0], replace=False, size=k)\n",
    "X_subset = X_digits[idxs]\n",
    "gains1 = np.cumsum(X_subset, axis=0)\n",
    "gains1 = np.sqrt(gains1).sum(axis=1)\n",
    "toc1 = time.time() - tic\n",
    "toc1"
   ]
  },
  {
   "cell_type": "code",
   "execution_count": 13,
   "metadata": {},
   "outputs": [
    {
     "data": {
      "image/png": "[encoded data removed]",
      "text/plain": [
       "<Figure size 864x432 with 2 Axes>"
      ]
     },
     "metadata": {},
     "output_type": "display_data"
    }
   ],
   "source": [
    "plt.figure(figsize=(12, 6))\n",
    "\n",
    "plt.subplot(121)\n",
    "plt.plot(np.cumsum(gains0), label=\"Naive\")\n",
    "plt.plot(gains1, label=\"Random\")\n",
    "plt.ylabel(\"F(S)\", fontsize=12)\n",
    "plt.xlabel(\"Subset Size\", fontsize=12)\n",
    "plt.legend(fontsize=12)\n",
    "\n",
    "plt.subplot(122)\n",
    "plt.bar(range(2), [toc0,  toc1])\n",
    "plt.ylabel(\"Time (s)\", fontsize=12)\n",
    "plt.xticks(range(2), ['Naive', 'Random'], rotation=90)\n",
    "plt.title(\"Python 3.8.5\", fontsize=16)\n",
    "\n",
    "plt.tight_layout()\n",
    "plt.show()"
   ]
  },
  {
   "cell_type": "code",
   "execution_count": null,
   "metadata": {},
   "outputs": [],
   "source": []
  }
 ],
 "metadata": {
  "jupytext": {
   "formats": "ipynb,auto:hydrogen"
  },
  "kernelspec": {
   "display_name": "Python 3 (ipykernel)",
   "language": "python",
   "name": "python3"
  },
  "language_info": {
   "codemirror_mode": {
    "name": "ipython",
    "version": 3
   },
   "file_extension": ".py",
   "mimetype": "text/x-python",
   "name": "python",
   "nbconvert_exporter": "python",
   "pygments_lexer": "ipython3",
   "version": "3.8.5"
  }
 },
 "nbformat": 4,
 "nbformat_minor": 4
}
