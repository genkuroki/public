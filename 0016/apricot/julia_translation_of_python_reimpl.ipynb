{
 "cells": [
  {
   "cell_type": "markdown",
   "id": "017792f1-5952-45f8-9f30-f014eaf31075",
   "metadata": {},
   "source": [
    "Straightforward translation of https://github.com/rmeinl/apricot-julia/blob/5f130f846f8b7f93bb4429e2b182f0765a61035c/notebooks/python_reimpl.ipynb\n",
    "\n",
    "See also https://github.com/genkuroki/public/blob/main/0016/apricot/python_reimpl.ipynb"
   ]
  },
  {
   "cell_type": "code",
   "execution_count": 1,
   "id": "d47df8ff-f24a-47c2-a4c0-f5a0643eeabc",
   "metadata": {},
   "outputs": [],
   "source": [
    "using Seaborn\n",
    "using ScikitLearn: @sk_import\n",
    "@sk_import datasets: fetch_covtype\n",
    "using Random\n",
    "using StatsBase: sample"
   ]
  },
  {
   "cell_type": "code",
   "execution_count": 2,
   "id": "062ecc0e-dea9-4fde-824f-1ff050d1ba20",
   "metadata": {},
   "outputs": [
    {
     "data": {
      "text/plain": [
       "Dict{Any, Any} with 6 entries:\n",
       "  \"feature_names\" => [\"Elevation\", \"Aspect\", \"Slope\", \"Horizontal_Distance_To_H…\n",
       "  \"frame\"         => nothing\n",
       "  \"target_names\"  => [\"Cover_Type\"]\n",
       "  \"data\"          => [2596.0 51.0 … 0.0 0.0; 2590.0 56.0 … 0.0 0.0; … ; 2384.0 …\n",
       "  \"target\"        => Int32[5, 5, 2, 2, 5, 2, 5, 5, 5, 5  …  3, 3, 3, 3, 3, 3, 3…\n",
       "  \"DESCR\"         => \".. _covtype_dataset:\\n\\nForest covertypes\\n--------------…"
      ]
     },
     "execution_count": 2,
     "metadata": {},
     "output_type": "execute_result"
    }
   ],
   "source": [
    "digits_data = fetch_covtype()"
   ]
  },
  {
   "cell_type": "code",
   "execution_count": 3,
   "id": "8a4ba1bf-8114-444c-ad22-9d162ae1823b",
   "metadata": {},
   "outputs": [
    {
     "data": {
      "text/plain": [
       "\"54×581012 Matrix{Float64}\""
      ]
     },
     "execution_count": 3,
     "metadata": {},
     "output_type": "execute_result"
    }
   ],
   "source": [
    "X_digits = permutedims(abs.(digits_data[\"data\"]))\n",
    "summary(X_digits)"
   ]
  },
  {
   "cell_type": "code",
   "execution_count": 4,
   "id": "3138eb84-57b9-4370-80c4-bfd1d2048c8d",
   "metadata": {},
   "outputs": [
    {
     "data": {
      "text/latex": [
       "\\texttt{calculate\\_gains!(X, gains, current\\_values, idxs, current\\_concave\\_values\\_sum)} mutates \\texttt{gains} only\n",
       "\n"
      ],
      "text/markdown": [
       "`calculate_gains!(X, gains, current_values, idxs, current_concave_values_sum)` mutates `gains` only\n"
      ],
      "text/plain": [
       "  \u001b[36mcalculate_gains!(X, gains, current_values, idxs, current_concave_values_sum)\u001b[39m\n",
       "  mutates \u001b[36mgains\u001b[39m only"
      ]
     },
     "execution_count": 4,
     "metadata": {},
     "output_type": "execute_result"
    }
   ],
   "source": [
    "\"\"\"`calculate_gains!(X, gains, current_values, idxs, current_concave_values_sum)` mutates `gains` only\"\"\"\n",
    "function calculate_gains!(X, gains, current_values, idxs, current_concave_values_sum)\n",
    "    Threads.@threads for i in eachindex(idxs)\n",
    "        @inbounds idx = idxs[i]\n",
    "        @inbounds gains[i] = sum(j -> sqrt(current_values[j] + X[j, idx]), axes(X, 1))\n",
    "    end\n",
    "    gains .-= current_concave_values_sum\n",
    "end\n",
    "\n",
    "@doc calculate_gains!"
   ]
  },
  {
   "cell_type": "code",
   "execution_count": 5,
   "id": "41a543f8-99f7-4639-9cbb-7c0399f77513",
   "metadata": {},
   "outputs": [
    {
     "data": {
      "text/plain": [
       "fit (generic function with 1 method)"
      ]
     },
     "execution_count": 5,
     "metadata": {},
     "output_type": "execute_result"
    }
   ],
   "source": [
    "function fit(X, k; calculate_gains! = calculate_gains!)\n",
    "    d, n = size(X)\n",
    "\n",
    "    cost = 0.0\n",
    "\n",
    "    ranking = Int[]\n",
    "    total_gains = Float64[]\n",
    "\n",
    "    current_values = zeros(d)\n",
    "    current_concave_values_sum = sum(sqrt, current_values)\n",
    "\n",
    "    idxs = collect(1:n)\n",
    "\n",
    "    gains = zeros(n)\n",
    "    while cost < k\n",
    "        calculate_gains!(X, gains, current_values, idxs, current_concave_values_sum)\n",
    "\n",
    "        idx = argmax(gains)\n",
    "        best_idx = idxs[idx]\n",
    "        curr_cost = 1.0\n",
    "        \n",
    "        cost + curr_cost > k && break\n",
    "\n",
    "        cost += curr_cost\n",
    "        # Calculate gains\n",
    "        gain = gains[idx] * curr_cost\n",
    "\n",
    "        # Select next\n",
    "        current_values .+= @view X[:, best_idx]\n",
    "        current_concave_values_sum = sum(sqrt, current_values)\n",
    "\n",
    "        push!(ranking, best_idx)\n",
    "        push!(total_gains, gain)\n",
    "\n",
    "        popat!(idxs, idx)\n",
    "    end\n",
    "    return ranking, total_gains\n",
    "end"
   ]
  },
  {
   "cell_type": "code",
   "execution_count": 6,
   "id": "04d72207-d55c-4d77-af5f-4381254105e0",
   "metadata": {},
   "outputs": [
    {
     "data": {
      "text/plain": [
       "1000"
      ]
     },
     "execution_count": 6,
     "metadata": {},
     "output_type": "execute_result"
    }
   ],
   "source": [
    "k = 1000"
   ]
  },
  {
   "cell_type": "code",
   "execution_count": 7,
   "id": "d1d8fc2a-ca7f-4173-bf7c-6a4647175250",
   "metadata": {},
   "outputs": [
    {
     "name": "stdout",
     "output_type": "stream",
     "text": [
      " 13.332027 seconds (1.10 M allocations: 74.942 MiB, 0.41% gc time, 2.57% compilation time)\n"
     ]
    }
   ],
   "source": [
    "@time ranking0, gains0 = fit(X_digits, k; calculate_gains! = calculate_gains!);"
   ]
  },
  {
   "cell_type": "code",
   "execution_count": 8,
   "id": "4c6b66ec-eea7-4e99-9b7c-89e5f0d8fe9f",
   "metadata": {},
   "outputs": [
    {
     "name": "stdout",
     "output_type": "stream",
     "text": [
      " 12.479495 seconds (63.09 k allocations: 15.003 MiB)\n"
     ]
    }
   ],
   "source": [
    "@time ranking0, gains0 = fit(X_digits, k; calculate_gains! = calculate_gains!);"
   ]
  },
  {
   "cell_type": "code",
   "execution_count": 9,
   "id": "77ba1405-3a26-4f33-8d40-9c761e464d5a",
   "metadata": {},
   "outputs": [
    {
     "data": {
      "text/plain": [
       "12.46999979019165"
      ]
     },
     "execution_count": 9,
     "metadata": {},
     "output_type": "execute_result"
    }
   ],
   "source": [
    "tic = time()\n",
    "ranking0, gains0 = fit(X_digits, k; calculate_gains! = calculate_gains!)\n",
    "toc0 = time() - tic\n",
    "toc0"
   ]
  },
  {
   "cell_type": "code",
   "execution_count": 10,
   "id": "de425184-d758-4718-9f7f-6ee5585557f6",
   "metadata": {},
   "outputs": [
    {
     "name": "stdout",
     "output_type": "stream",
     "text": [
      "  0.383208 seconds (1.28 M allocations: 77.530 MiB, 99.79% compilation time)\n"
     ]
    }
   ],
   "source": [
    "@time begin\n",
    "idxs = sample(axes(X_digits, 2), k; replace=false)\n",
    "X_subset = X_digits[:, idxs]\n",
    "gains1 = cumsum(X_subset; dims=2)\n",
    "gains1 = vec(sum(sqrt, gains1; dims=1))\n",
    "end;"
   ]
  },
  {
   "cell_type": "code",
   "execution_count": 11,
   "id": "b603f48a-22c1-4258-8095-70d34a0b9a7a",
   "metadata": {},
   "outputs": [
    {
     "name": "stdout",
     "output_type": "stream",
     "text": [
      "  0.000529 seconds (20 allocations: 878.602 KiB)\n"
     ]
    }
   ],
   "source": [
    "@time begin\n",
    "idxs = sample(axes(X_digits, 2), k; replace=false)\n",
    "X_subset = X_digits[:, idxs]\n",
    "gains1 = cumsum(X_subset; dims=2)\n",
    "gains1 = vec(sum(sqrt, gains1; dims=1))\n",
    "end;"
   ]
  },
  {
   "cell_type": "code",
   "execution_count": 12,
   "id": "60afdcc3-3924-4b53-82dd-101a5de43aaf",
   "metadata": {},
   "outputs": [
    {
     "data": {
      "text/plain": [
       "0.004999876022338867"
      ]
     },
     "execution_count": 12,
     "metadata": {},
     "output_type": "execute_result"
    }
   ],
   "source": [
    "tic = time()\n",
    "idxs = sample(axes(X_digits, 2), k; replace=false)\n",
    "X_subset = X_digits[:, idxs]\n",
    "gains1 = cumsum(X_subset; dims=2)\n",
    "gains1 = vec(sum(sqrt, gains1; dims=1))\n",
    "toc1 = time() - tic\n",
    "toc1"
   ]
  },
  {
   "cell_type": "code",
   "execution_count": 13,
   "id": "9d32a692-8554-453e-9d1d-a8751e40969d",
   "metadata": {},
   "outputs": [
    {
     "data": {
      "image/png": "[encoded data removed]",
      "text/plain": [
       "Figure(PyObject <Figure size 900x450 with 2 Axes>)"
      ]
     },
     "metadata": {},
     "output_type": "display_data"
    }
   ],
   "source": [
    "plt.figure(figsize=(9, 4.5))\n",
    "\n",
    "plt.subplot(121)\n",
    "plt.plot(cumsum(gains0), label=\"Naive\")\n",
    "plt.plot(gains1, label=\"Random\")\n",
    "plt.ylabel(\"F(S)\")\n",
    "plt.xlabel(\"Subset Size\")\n",
    "plt.legend()\n",
    "plt.grid(lw=0.3)\n",
    "\n",
    "plt.subplot(122)\n",
    "plt.bar(1:2, [toc0,  toc1])\n",
    "plt.ylabel(\"Time (s)\")\n",
    "plt.xticks(1:2, [\"Naive\", \"Random\"], rotation=90)\n",
    "plt.grid(lw=0.3)\n",
    "plt.title(\"Julia 1.6.2\")\n",
    "\n",
    "plt.tight_layout()\n",
    "#plt.show()"
   ]
  },
  {
   "cell_type": "code",
   "execution_count": null,
   "id": "e451bc73-64bb-48fd-9cc1-a236f8b08cfd",
   "metadata": {},
   "outputs": [],
   "source": []
  }
 ],
 "metadata": {
  "jupytext": {
   "formats": "ipynb,jl:hydrogen"
  },
  "kernelspec": {
   "display_name": "Julia 1.6.2",
   "language": "julia",
   "name": "julia-1.6"
  },
  "language_info": {
   "file_extension": ".jl",
   "mimetype": "application/julia",
   "name": "julia",
   "version": "1.6.2"
  }
 },
 "nbformat": 4,
 "nbformat_minor": 5
}
