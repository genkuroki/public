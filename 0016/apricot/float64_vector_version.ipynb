{
 "cells": [
  {
   "cell_type": "markdown",
   "id": "a9f795cf-88cf-4886-96e6-ca6113f7bf01",
   "metadata": {},
   "source": [
    "Modified version of https://github.com/genkuroki/public/blob/main/0016/apricot/julia_translation_of_python_reimpl.ipynb"
   ]
  },
  {
   "cell_type": "code",
   "execution_count": 1,
   "id": "9aa7d838-0712-4d1a-bf99-1766a328fde3",
   "metadata": {},
   "outputs": [
    {
     "data": {
      "text/plain": [
       "PyObject <function fetch_covtype at 0x000000006A38AC10>"
      ]
     },
     "execution_count": 1,
     "metadata": {},
     "output_type": "execute_result"
    }
   ],
   "source": [
    "#using Seaborn\n",
    "using ScikitLearn: @sk_import\n",
    "@sk_import datasets: fetch_covtype\n",
    "#using Random\n",
    "#using StatsBase: sample"
   ]
  },
  {
   "cell_type": "code",
   "execution_count": 2,
   "id": "0b94a9c4-df49-4543-858f-3f2486b647f1",
   "metadata": {},
   "outputs": [
    {
     "data": {
      "text/plain": [
       "Dict{Any, Any} with 6 entries:\n",
       "  \"feature_names\" => [\"Elevation\", \"Aspect\", \"Slope\", \"Horizontal_Distance_To_H…\n",
       "  \"frame\"         => nothing\n",
       "  \"target_names\"  => [\"Cover_Type\"]\n",
       "  \"data\"          => [2596.0 51.0 … 0.0 0.0; 2590.0 56.0 … 0.0 0.0; … ; 2384.0 …\n",
       "  \"target\"        => Int32[5, 5, 2, 2, 5, 2, 5, 5, 5, 5  …  3, 3, 3, 3, 3, 3, 3…\n",
       "  \"DESCR\"         => \".. _covtype_dataset:\\n\\nForest covertypes\\n--------------…"
      ]
     },
     "execution_count": 2,
     "metadata": {},
     "output_type": "execute_result"
    }
   ],
   "source": [
    "digits_data = fetch_covtype()"
   ]
  },
  {
   "cell_type": "code",
   "execution_count": 3,
   "id": "3d70879a-05e1-4b71-bce4-73a0425e8b92",
   "metadata": {},
   "outputs": [
    {
     "data": {
      "text/plain": [
       "\"54×581012 Matrix{Float64}\""
      ]
     },
     "execution_count": 3,
     "metadata": {},
     "output_type": "execute_result"
    }
   ],
   "source": [
    "X_digits = permutedims(abs.(digits_data[\"data\"]))\n",
    "summary(X_digits)"
   ]
  },
  {
   "cell_type": "code",
   "execution_count": 4,
   "id": "8c20e361-8fb2-46bf-a7ac-ed976d38973d",
   "metadata": {},
   "outputs": [
    {
     "data": {
      "text/latex": [
       "\\texttt{calculate\\_gains!(X, gains, current\\_values, idxs, current\\_concave\\_values\\_sum)} mutates \\texttt{gains} only\n",
       "\n"
      ],
      "text/markdown": [
       "`calculate_gains!(X, gains, current_values, idxs, current_concave_values_sum)` mutates `gains` only\n"
      ],
      "text/plain": [
       "  \u001b[36mcalculate_gains!(X, gains, current_values, idxs, current_concave_values_sum)\u001b[39m\n",
       "  mutates \u001b[36mgains\u001b[39m only"
      ]
     },
     "execution_count": 4,
     "metadata": {},
     "output_type": "execute_result"
    }
   ],
   "source": [
    "\"\"\"`calculate_gains!(X, gains, current_values, idxs, current_concave_values_sum)` mutates `gains` only\"\"\"\n",
    "function calculate_gains!(X, gains, current_values, idxs, current_concave_values_sum)\n",
    "    Threads.@threads for i in eachindex(idxs)\n",
    "        @inbounds idx = idxs[i]\n",
    "        @inbounds gains[i] = sum(j -> sqrt(current_values[j] + X[j, idx]), axes(X, 1))\n",
    "    end\n",
    "    gains .-= current_concave_values_sum\n",
    "end\n",
    "\n",
    "@doc calculate_gains!"
   ]
  },
  {
   "cell_type": "code",
   "execution_count": 5,
   "id": "23d1ce38-c01d-4933-8342-0e90da33042c",
   "metadata": {},
   "outputs": [
    {
     "data": {
      "text/plain": [
       "fit_popat (generic function with 1 method)"
      ]
     },
     "execution_count": 5,
     "metadata": {},
     "output_type": "execute_result"
    }
   ],
   "source": [
    "function fit_popat(X, k; calculate_gains! = calculate_gains!)\n",
    "    d, n = size(X)\n",
    "\n",
    "    cost = 0.0\n",
    "\n",
    "    ranking = Int[]\n",
    "    total_gains = Float64[]\n",
    "\n",
    "    current_values = zeros(d)\n",
    "    current_concave_values_sum = sum(sqrt, current_values)\n",
    "\n",
    "    idxs = collect(1:n)\n",
    "\n",
    "    gains = zeros(n)\n",
    "    while cost < k\n",
    "        calculate_gains!(X, gains, current_values, idxs, current_concave_values_sum)\n",
    "\n",
    "        idx = argmax(gains)\n",
    "        best_idx = idxs[idx]\n",
    "        curr_cost = 1.0\n",
    "        \n",
    "        cost + curr_cost > k && break\n",
    "\n",
    "        cost += curr_cost\n",
    "        # Calculate gains\n",
    "        gain = gains[idx] * curr_cost\n",
    "\n",
    "        # Select next\n",
    "        current_values .+= @view X[:, best_idx]\n",
    "        current_concave_values_sum = sum(sqrt, current_values)\n",
    "\n",
    "        push!(ranking, best_idx)\n",
    "        push!(total_gains, gain)\n",
    "\n",
    "        popat!(idxs, idx)\n",
    "    end\n",
    "    return ranking, total_gains\n",
    "end"
   ]
  },
  {
   "cell_type": "code",
   "execution_count": 6,
   "id": "1e5152ed-d840-4d7b-9c4d-56984bfd2b89",
   "metadata": {},
   "outputs": [
    {
     "data": {
      "text/plain": [
       "fit_bitvector (generic function with 1 method)"
      ]
     },
     "execution_count": 6,
     "metadata": {},
     "output_type": "execute_result"
    }
   ],
   "source": [
    "function fit_bitvector(X, k; calculate_gains! = calculate_gains!)\n",
    "    d, n = size(X)\n",
    "\n",
    "    cost = 0.0\n",
    "\n",
    "    ranking = Int[]\n",
    "    total_gains = Float64[]\n",
    "\n",
    "    mask = trues(n) # `false` stands for \"masked\".\n",
    "    current_values = zeros(d)\n",
    "    current_concave_values_sum = sum(sqrt, current_values)\n",
    "\n",
    "    idxs = collect(1:n)\n",
    "\n",
    "    gains = zeros(n)\n",
    "    while cost < k\n",
    "        calculate_gains!(X, gains, current_values, idxs, current_concave_values_sum)\n",
    "\n",
    "        idx = argmax(gains)\n",
    "        best_idx = idxs[idx]\n",
    "        curr_cost = 1.0\n",
    "        \n",
    "        cost + curr_cost > k && break\n",
    "\n",
    "        cost += curr_cost\n",
    "        # Calculate gains\n",
    "        gain = gains[idx] * curr_cost\n",
    "\n",
    "        # Select next\n",
    "        current_values .+= @view X[:, best_idx]\n",
    "        current_concave_values_sum = sum(sqrt, current_values)\n",
    "\n",
    "        push!(ranking, best_idx)\n",
    "        push!(total_gains, gain)\n",
    "\n",
    "        mask[best_idx] = 0\n",
    "        idxs = findall(mask)\n",
    "    end\n",
    "    return ranking, total_gains\n",
    "end"
   ]
  },
  {
   "cell_type": "code",
   "execution_count": 7,
   "id": "39ce5f5c-3c81-49e1-85be-3f6fb0715a7d",
   "metadata": {},
   "outputs": [
    {
     "data": {
      "text/plain": [
       "fit_f64vector (generic function with 1 method)"
      ]
     },
     "execution_count": 7,
     "metadata": {},
     "output_type": "execute_result"
    }
   ],
   "source": [
    "function fit_f64vector(X, k; calculate_gains! = calculate_gains!)\n",
    "    d, n = size(X)\n",
    "\n",
    "    cost = 0.0\n",
    "\n",
    "    ranking = Int[]\n",
    "    total_gains = Float64[]\n",
    "\n",
    "    mask = zeros(n)\n",
    "    current_values = zeros(d)\n",
    "    current_concave_values_sum = sum(sqrt, current_values)\n",
    "\n",
    "    idxs = collect(1:n)\n",
    "\n",
    "    gains = zeros(n)\n",
    "    while cost < k\n",
    "        calculate_gains!(X, gains, current_values, idxs, current_concave_values_sum)\n",
    "\n",
    "        idx = argmax(gains)\n",
    "        best_idx = idxs[idx]\n",
    "        curr_cost = 1.0\n",
    "        \n",
    "        cost + curr_cost > k && break\n",
    "\n",
    "        cost += curr_cost\n",
    "        # Calculate gains\n",
    "        gain = gains[idx] * curr_cost\n",
    "\n",
    "        # Select next\n",
    "        current_values .+= @view X[:, best_idx]\n",
    "        current_concave_values_sum = sum(sqrt, current_values)\n",
    "\n",
    "        push!(ranking, best_idx)\n",
    "        push!(total_gains, gain)\n",
    "\n",
    "        mask[best_idx] = 1\n",
    "        idxs = findall(mask .== 0)\n",
    "    end\n",
    "    return ranking, total_gains\n",
    "end"
   ]
  },
  {
   "cell_type": "code",
   "execution_count": 8,
   "id": "8fdb5a71-b790-4974-ae4f-c8b23513f97b",
   "metadata": {},
   "outputs": [
    {
     "data": {
      "text/plain": [
       "1000"
      ]
     },
     "execution_count": 8,
     "metadata": {},
     "output_type": "execute_result"
    }
   ],
   "source": [
    "k = 1000"
   ]
  },
  {
   "cell_type": "code",
   "execution_count": 9,
   "id": "90cb9541-1c51-4a09-af87-e494d2b6435c",
   "metadata": {},
   "outputs": [
    {
     "name": "stdout",
     "output_type": "stream",
     "text": [
      " 12.654430 seconds (1.10 M allocations: 74.974 MiB, 1.65% compilation time)\n"
     ]
    }
   ],
   "source": [
    "@time ranking0_pa, gains0_pa = fit_popat(X_digits, k; calculate_gains! = calculate_gains!);"
   ]
  },
  {
   "cell_type": "code",
   "execution_count": 10,
   "id": "c7ca9336-1989-421c-ab8b-19da4f286c5d",
   "metadata": {},
   "outputs": [
    {
     "name": "stdout",
     "output_type": "stream",
     "text": [
      " 12.403661 seconds (62.81 k allocations: 14.995 MiB)\n"
     ]
    }
   ],
   "source": [
    "@time ranking0_pa, gains0_pa = fit_popat(X_digits, k; calculate_gains! = calculate_gains!);"
   ]
  },
  {
   "cell_type": "code",
   "execution_count": 11,
   "id": "f0b31635-1bde-4d7e-8c0a-1186f24d661c",
   "metadata": {},
   "outputs": [
    {
     "name": "stdout",
     "output_type": "stream",
     "text": [
      " 12.514568 seconds (62.77 k allocations: 14.993 MiB)\n"
     ]
    }
   ],
   "source": [
    "@time ranking0_pa, gains0_pa = fit_popat(X_digits, k; calculate_gains! = calculate_gains!);"
   ]
  },
  {
   "cell_type": "code",
   "execution_count": 12,
   "id": "995e04b0-9c93-4e9a-87e8-75066846aedf",
   "metadata": {},
   "outputs": [
    {
     "name": "stdout",
     "output_type": "stream",
     "text": [
      " 13.675888 seconds (330.71 k allocations: 4.354 GiB, 2.32% gc time, 0.52% compilation time)\n"
     ]
    }
   ],
   "source": [
    "@time ranking0_bv, gains0_bv = fit_bitvector(X_digits, k; calculate_gains! = calculate_gains!);"
   ]
  },
  {
   "cell_type": "code",
   "execution_count": 13,
   "id": "ab37be85-cd39-4d12-8a4f-a087fa4ca830",
   "metadata": {},
   "outputs": [
    {
     "name": "stdout",
     "output_type": "stream",
     "text": [
      " 13.911387 seconds (64.86 k allocations: 4.340 GiB, 2.07% gc time)\n"
     ]
    }
   ],
   "source": [
    "@time ranking0_bv, gains0_bv = fit_bitvector(X_digits, k; calculate_gains! = calculate_gains!);"
   ]
  },
  {
   "cell_type": "code",
   "execution_count": 14,
   "id": "2c46d50a-ccc7-4b4e-a824-05645c85f3f7",
   "metadata": {},
   "outputs": [
    {
     "name": "stdout",
     "output_type": "stream",
     "text": [
      " 14.225798 seconds (64.99 k allocations: 4.340 GiB, 2.08% gc time)\n"
     ]
    }
   ],
   "source": [
    "@time ranking0_bv, gains0_bv = fit_bitvector(X_digits, k; calculate_gains! = calculate_gains!);"
   ]
  },
  {
   "cell_type": "code",
   "execution_count": 15,
   "id": "0fa4e741-5284-478e-9b9e-9330923205ec",
   "metadata": {},
   "outputs": [
    {
     "name": "stdout",
     "output_type": "stream",
     "text": [
      " 14.310422 seconds (843.62 k allocations: 4.456 GiB, 2.29% gc time, 1.21% compilation time)\n"
     ]
    }
   ],
   "source": [
    "@time ranking0_f64v, gains0_f64v = fit_f64vector(X_digits, k; calculate_gains! = calculate_gains!);"
   ]
  },
  {
   "cell_type": "code",
   "execution_count": 16,
   "id": "edb259b2-5f01-4025-92de-c48a1154f925",
   "metadata": {},
   "outputs": [
    {
     "name": "stdout",
     "output_type": "stream",
     "text": [
      " 13.948037 seconds (68.83 k allocations: 4.416 GiB, 2.11% gc time)\n"
     ]
    }
   ],
   "source": [
    "@time ranking0_f64v, gains0_f64v = fit_f64vector(X_digits, k; calculate_gains! = calculate_gains!);"
   ]
  },
  {
   "cell_type": "code",
   "execution_count": 17,
   "id": "ee93815e-2c0f-4db0-ba16-279aed2aa6d3",
   "metadata": {},
   "outputs": [
    {
     "name": "stdout",
     "output_type": "stream",
     "text": [
      " 13.963663 seconds (68.86 k allocations: 4.416 GiB, 2.01% gc time)\n"
     ]
    }
   ],
   "source": [
    "@time ranking0_f64v, gains0_f64v = fit_f64vector(X_digits, k; calculate_gains! = calculate_gains!);"
   ]
  },
  {
   "cell_type": "code",
   "execution_count": 18,
   "id": "ec030245-5088-42df-b1e7-4b09e115b908",
   "metadata": {},
   "outputs": [
    {
     "name": "stdout",
     "output_type": "stream",
     "text": [
      "ranking0_pa == ranking0_bv == ranking0_f64v = true\n",
      "gains0_pa == gains0_bv == gains0_f64v = true\n"
     ]
    }
   ],
   "source": [
    "@show ranking0_pa == ranking0_bv == ranking0_f64v\n",
    "@show gains0_pa == gains0_bv == gains0_f64v;"
   ]
  },
  {
   "cell_type": "code",
   "execution_count": null,
   "id": "1626aff3-199d-4e68-9d8b-c9aedee682fe",
   "metadata": {},
   "outputs": [],
   "source": []
  }
 ],
 "metadata": {
  "jupytext": {
   "formats": "ipynb,jl:hydrogen"
  },
  "kernelspec": {
   "display_name": "Julia 1.6.2",
   "language": "julia",
   "name": "julia-1.6"
  },
  "language_info": {
   "file_extension": ".jl",
   "mimetype": "application/julia",
   "name": "julia",
   "version": "1.6.2"
  }
 },
 "nbformat": 4,
 "nbformat_minor": 5
}
