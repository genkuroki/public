{
 "cells": [
  {
   "cell_type": "code",
   "execution_count": 1,
   "id": "80ffae13-17f2-4046-8f4d-16e89d0152d6",
   "metadata": {},
   "outputs": [
    {
     "data": {
      "text/plain": [
       "v\"1.6.1\""
      ]
     },
     "execution_count": 1,
     "metadata": {},
     "output_type": "execute_result"
    }
   ],
   "source": [
    "VERSION"
   ]
  },
  {
   "cell_type": "code",
   "execution_count": 2,
   "id": "9f7a701a-0bff-42b4-a1b4-56204b199a23",
   "metadata": {},
   "outputs": [
    {
     "name": "stdout",
     "output_type": "stream",
     "text": [
      "hoge!\n",
      "hoge!\n",
      "hoge!\n",
      "hoge!\n",
      "hoge!\n",
      "after for loop: hoge!\n"
     ]
    }
   ],
   "source": [
    "a = quote\n",
    "    x = \"hoge!\"\n",
    "    for i in 1:5\n",
    "        println(x)\n",
    "    end\n",
    "    println(\"after for loop: \", x)\n",
    "end |> Base.remove_linenums! |> string\n",
    "include_string(Main, a)"
   ]
  },
  {
   "cell_type": "code",
   "execution_count": 3,
   "id": "5a883014-b7b2-436b-a1f5-c7bd1fc1fd04",
   "metadata": {},
   "outputs": [
    {
     "name": "stdout",
     "output_type": "stream",
     "text": [
      "moge!\n",
      "moge!\n",
      "moge!\n",
      "moge!\n",
      "moge!\n",
      "after for loop: hoge!\n"
     ]
    },
    {
     "name": "stderr",
     "output_type": "stream",
     "text": [
      "┌ Warning: Assignment to `x` in soft scope is ambiguous because a global variable by the same name exists: `x` will be treated as a new local. Disambiguate by using `local x` to suppress this warning or `global x` to assign to the existing global variable.\n",
      "└ @ nothing string:4\n"
     ]
    }
   ],
   "source": [
    "b = quote\n",
    "    x = \"hoge!\"\n",
    "    for i in 1:5\n",
    "        x = \"moge!\"\n",
    "        println(x)\n",
    "    end\n",
    "    println(\"after for loop: \", x)\n",
    "end |> Base.remove_linenums! |> string\n",
    "include_string(Main, b)"
   ]
  },
  {
   "cell_type": "code",
   "execution_count": 4,
   "id": "fac4b19f-0ff3-45bb-acc2-2234fea1c124",
   "metadata": {},
   "outputs": [
    {
     "name": "stdout",
     "output_type": "stream",
     "text": [
      "moge!\n",
      "moge!\n",
      "moge!\n",
      "moge!\n",
      "moge!\n",
      "after for loop: hoge!\n"
     ]
    }
   ],
   "source": [
    "c = quote\n",
    "    x = \"hoge!\"\n",
    "    for i in 1:5\n",
    "        local x = \"moge!\"\n",
    "        println(x)\n",
    "    end\n",
    "    println(\"after for loop: \", x)\n",
    "end |> Base.remove_linenums! |> string\n",
    "include_string(Main, c)"
   ]
  },
  {
   "cell_type": "code",
   "execution_count": 5,
   "id": "b9206944-cc50-4e15-b557-53b94dc163bd",
   "metadata": {},
   "outputs": [
    {
     "name": "stdout",
     "output_type": "stream",
     "text": [
      "moge!\n",
      "moge!\n",
      "moge!\n",
      "moge!\n",
      "moge!\n",
      "after for loop: moge!\n"
     ]
    }
   ],
   "source": [
    "d = quote\n",
    "    x = \"hoge!\"\n",
    "    for i in 1:5\n",
    "        global x = \"moge!\"\n",
    "        println(x)\n",
    "    end\n",
    "    println(\"after for loop: \", x)\n",
    "end |> Base.remove_linenums! |> string\n",
    "include_string(Main, d)"
   ]
  },
  {
   "cell_type": "code",
   "execution_count": 6,
   "id": "69d440e2-6aa0-48e0-8de9-fd7caf441423",
   "metadata": {},
   "outputs": [
    {
     "name": "stderr",
     "output_type": "stream",
     "text": [
      "┌ Warning: Assignment to `x` in soft scope is ambiguous because a global variable by the same name exists: `x` will be treated as a new local. Disambiguate by using `local x` to suppress this warning or `global x` to assign to the existing global variable.\n",
      "└ @ nothing string:4\n"
     ]
    },
    {
     "ename": "LoadError",
     "evalue": "LoadError: UndefVarError: x not defined\nin expression starting at string:1",
     "output_type": "error",
     "traceback": [
      "LoadError: UndefVarError: x not defined\nin expression starting at string:1",
      "",
      "Stacktrace:",
      " [1] top-level scope",
      "   @ .\\string:4",
      " [2] eval",
      "   @ .\\boot.jl:360 [inlined]",
      " [3] include_string(mapexpr::typeof(identity), mod::Module, code::String, filename::String)",
      "   @ Base .\\loading.jl:1094",
      " [4] include_string (repeats 2 times)",
      "   @ .\\loading.jl:1104 [inlined]",
      " [5] top-level scope",
      "   @ In[6]:9",
      " [6] eval",
      "   @ .\\boot.jl:360 [inlined]",
      " [7] include_string(mapexpr::typeof(REPL.softscope), mod::Module, code::String, filename::String)",
      "   @ Base .\\loading.jl:1094"
     ]
    }
   ],
   "source": [
    "e = quote\n",
    "    x = \"hoge!\"\n",
    "    for i in 1:5\n",
    "        x *= \"moge!\"\n",
    "        println(x)\n",
    "    end\n",
    "    println(\"after for loop: \", x)\n",
    "end |> Base.remove_linenums! |> string\n",
    "include_string(Main, e)"
   ]
  },
  {
   "cell_type": "code",
   "execution_count": 7,
   "id": "e6b97800-ed82-4d18-a42e-aa125e4fb1e9",
   "metadata": {},
   "outputs": [
    {
     "name": "stdout",
     "output_type": "stream",
     "text": [
      "begin\n",
      "    x = \"hoge!\"\n",
      "    for i = 1:5\n",
      "        x = \"moge!\"\n",
      "        println(x)\n",
      "    end\n",
      "    println(\"after for loop: \", x)\n",
      "end\n"
     ]
    }
   ],
   "source": [
    "write(\"b.jl\", b)\n",
    "read(\"b.jl\", String) |> println"
   ]
  },
  {
   "cell_type": "code",
   "execution_count": 8,
   "id": "095c8e04-4c7d-4107-b49e-af0870596ae9",
   "metadata": {},
   "outputs": [
    {
     "name": "stdout",
     "output_type": "stream",
     "text": [
      "moge!\n",
      "moge!\n",
      "moge!\n",
      "moge!\n",
      "moge!\n",
      "after for loop: hoge!\n"
     ]
    },
    {
     "name": "stderr",
     "output_type": "stream",
     "text": [
      "┌ Warning: Assignment to `x` in soft scope is ambiguous because a global variable by the same name exists: `x` will be treated as a new local. Disambiguate by using `local x` to suppress this warning or `global x` to assign to the existing global variable.\n",
      "└ @ D:\\OneDrive\\public\\0005\\b.jl:4\n"
     ]
    }
   ],
   "source": [
    "; d:/Julia-1.6.1/bin/julia b.jl"
   ]
  },
  {
   "cell_type": "code",
   "execution_count": 9,
   "id": "cbca9b07-f139-4437-b4b4-57c4b06f8821",
   "metadata": {},
   "outputs": [
    {
     "name": "stdout",
     "output_type": "stream",
     "text": [
      "hoge!\n",
      "hoge!\n",
      "hoge!\n",
      "hoge!\n",
      "hoge!\n",
      "after for loop: hoge!\n"
     ]
    }
   ],
   "source": [
    "x = \"hoge!\"\n",
    "for i in 1:5\n",
    "    println(x)\n",
    "end\n",
    "println(\"after for loop: \", x)"
   ]
  },
  {
   "cell_type": "code",
   "execution_count": 10,
   "id": "4846b6c5-faed-40f9-ae7e-73d47547d22f",
   "metadata": {},
   "outputs": [
    {
     "name": "stdout",
     "output_type": "stream",
     "text": [
      "moge!\n",
      "moge!\n",
      "moge!\n",
      "moge!\n",
      "moge!\n",
      "after for loop: moge!\n"
     ]
    }
   ],
   "source": [
    "x = \"hoge!\"\n",
    "for i in 1:5\n",
    "    x = \"moge!\"\n",
    "    println(x)\n",
    "end\n",
    "println(\"after for loop: \", x)"
   ]
  },
  {
   "cell_type": "code",
   "execution_count": 11,
   "id": "aa60c687-fe69-4cd9-ad23-a349753469b5",
   "metadata": {},
   "outputs": [
    {
     "name": "stdout",
     "output_type": "stream",
     "text": [
      "moge!\n",
      "moge!\n",
      "moge!\n",
      "moge!\n",
      "moge!\n"
     ]
    },
    {
     "ename": "LoadError",
     "evalue": "UndefVarError: y not defined",
     "output_type": "error",
     "traceback": [
      "UndefVarError: y not defined",
      "",
      "Stacktrace:",
      " [1] top-level scope",
      "   @ In[11]:5",
      " [2] eval",
      "   @ .\\boot.jl:360 [inlined]",
      " [3] include_string(mapexpr::typeof(REPL.softscope), mod::Module, code::String, filename::String)",
      "   @ Base .\\loading.jl:1094"
     ]
    }
   ],
   "source": [
    "for i in 1:5\n",
    "    y = \"moge!\"\n",
    "    println(x)\n",
    "end\n",
    "println(\"after for loop: \", y)"
   ]
  },
  {
   "cell_type": "code",
   "execution_count": 12,
   "id": "82bb1c01-1f2b-496e-9adc-8192d14cc3d4",
   "metadata": {},
   "outputs": [
    {
     "name": "stdout",
     "output_type": "stream",
     "text": [
      "hoge!moge!\n",
      "hoge!moge!moge!\n",
      "hoge!moge!moge!moge!\n",
      "hoge!moge!moge!moge!moge!\n",
      "hoge!moge!moge!moge!moge!moge!\n",
      "after for loop: hoge!moge!moge!moge!moge!moge!\n"
     ]
    }
   ],
   "source": [
    "x = \"hoge!\"\n",
    "for i in 1:5\n",
    "    x *= \"moge!\"\n",
    "    println(x)\n",
    "end\n",
    "println(\"after for loop: \", x)"
   ]
  },
  {
   "cell_type": "code",
   "execution_count": null,
   "id": "971151a8-9984-4bcd-af26-972de44070ab",
   "metadata": {},
   "outputs": [],
   "source": []
  }
 ],
 "metadata": {
  "jupytext": {
   "formats": "ipynb,auto:hydrogen"
  },
  "kernelspec": {
   "display_name": "Julia 1.6.1",
   "language": "julia",
   "name": "julia-1.6"
  },
  "language_info": {
   "file_extension": ".jl",
   "mimetype": "application/julia",
   "name": "julia",
   "version": "1.6.1"
  }
 },
 "nbformat": 4,
 "nbformat_minor": 5
}
