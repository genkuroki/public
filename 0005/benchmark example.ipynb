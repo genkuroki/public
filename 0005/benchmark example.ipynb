{
 "cells": [
  {
   "cell_type": "code",
   "execution_count": 1,
   "id": "14ea724a-be83-4452-ba62-31f2ee8cc2c9",
   "metadata": {},
   "outputs": [
    {
     "name": "stdout",
     "output_type": "stream",
     "text": [
      "VERSION = v\"1.8.0-DEV.43\"\n",
      "  5.100 μs (0 allocations: 0 bytes)\n",
      "  1.621 ms (78980 allocations: 1.36 MiB)\n",
      "  40.100 μs (4 allocations: 156.41 KiB)\n",
      "  46.900 μs (4 allocations: 156.41 KiB)\n",
      "  46.000 μs (4 allocations: 156.41 KiB)\n",
      "  5.300 μs (1 allocation: 32 bytes)\n",
      "  1.617 ms (78980 allocations: 1.36 MiB)\n"
     ]
    }
   ],
   "source": [
    "function g!(x, y)\n",
    "    for i in 1:length(x)\n",
    "        x[i] *= 3\n",
    "        y[i] += x[i]\n",
    "    end\n",
    "    x, y\n",
    "end\n",
    "\n",
    "function h!()\n",
    "    for i in 1:length(x_global)\n",
    "        x_global[i] *= 3\n",
    "        y_global[i] += x_global[i]\n",
    "    end\n",
    "end\n",
    "\n",
    "function f0()\n",
    "    x = randn(100, 100)\n",
    "    y = randn(100, 100)\n",
    "    x, y\n",
    "end\n",
    "\n",
    "function f1()\n",
    "    x = randn(100, 100)\n",
    "    y = randn(100, 100)    \n",
    "    g!(x, y)\n",
    "end\n",
    "\n",
    "function f2!(x = randn(100, 100), y = randn(100, 100))\n",
    "    g!(x, y)\n",
    "end\n",
    "\n",
    "function f3!()\n",
    "   g!(x_global, y_global)\n",
    "end\n",
    "\n",
    "function f4!()\n",
    "   h!()\n",
    "end\n",
    "\n",
    "using BenchmarkTools\n",
    "\n",
    "x_global = randn(100, 100)\n",
    "y_global = randn(100, 100)\n",
    "\n",
    "@show VERSION\n",
    "@btime g!($x_global, $y_global)\n",
    "@btime h!()\n",
    "@btime f0()\n",
    "@btime f1()\n",
    "@btime f2!()\n",
    "@btime f3!()\n",
    "@btime f4!()"
   ]
  },
  {
   "cell_type": "code",
   "execution_count": null,
   "id": "e8127bc5-49dc-4919-a540-60dffdcaf70c",
   "metadata": {},
   "outputs": [],
   "source": []
  }
 ],
 "metadata": {
  "jupytext": {
   "formats": "ipynb,auto:hydrogen"
  },
  "kernelspec": {
   "display_name": "Julia 1.8.0-DEV",
   "language": "julia",
   "name": "julia-1.8"
  },
  "language_info": {
   "file_extension": ".jl",
   "mimetype": "application/julia",
   "name": "julia",
   "version": "1.8.0"
  }
 },
 "nbformat": 4,
 "nbformat_minor": 5
}
