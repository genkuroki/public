{
 "cells": [
  {
   "cell_type": "code",
   "execution_count": 2,
   "id": "7131b706-5fd8-462a-881a-def394f45d2b",
   "metadata": {},
   "outputs": [
    {
     "name": "stdout",
     "output_type": "stream",
     "text": [
      "f(10 ^ 6) == g(10 ^ 6) = true\n",
      "  11.798 ms (2 allocations: 7.63 MiB)\n",
      "  11.781 ms (2 allocations: 7.63 MiB)\n"
     ]
    }
   ],
   "source": [
    "using BenchmarkTools\n",
    "\n",
    "f(n) = sin.(1:n)\n",
    "g(n) = collect(sin(x) for x in 1:n)\n",
    "\n",
    "@show f(10^6) == g(10^6)\n",
    "@btime f(10^6)\n",
    "@btime g(10^6);"
   ]
  },
  {
   "cell_type": "code",
   "execution_count": 3,
   "id": "c90d0788-946b-4ac6-8a7f-80152575dbaa",
   "metadata": {},
   "outputs": [
    {
     "name": "stdout",
     "output_type": "stream",
     "text": [
      "  11.165 ms (0 allocations: 0 bytes)\n",
      "  11.212 ms (0 allocations: 0 bytes)\n"
     ]
    },
    {
     "data": {
      "text/plain": [
       "-0.11710952409816716"
      ]
     },
     "execution_count": 3,
     "metadata": {},
     "output_type": "execute_result"
    }
   ],
   "source": [
    "@btime sum(sin, 1:10^6)\n",
    "@btime sum(sin(x) for x in 1:10^6)"
   ]
  },
  {
   "cell_type": "code",
   "execution_count": 5,
   "id": "e1555c27-7bdd-499d-b9b5-6da9e411250d",
   "metadata": {},
   "outputs": [
    {
     "name": "stdout",
     "output_type": "stream",
     "text": [
      "  7.075 μs (0 allocations: 0 bytes)\n",
      "  155.900 μs (0 allocations: 0 bytes)\n"
     ]
    },
    {
     "data": {
      "text/plain": [
       "333333833333500000"
      ]
     },
     "execution_count": 5,
     "metadata": {},
     "output_type": "execute_result"
    }
   ],
   "source": [
    "square(x) = x^2\n",
    "\n",
    "@btime sum(square, 1:10^6)\n",
    "@btime sum(square(x) for x in 1:10^6)"
   ]
  },
  {
   "cell_type": "code",
   "execution_count": 6,
   "id": "0abfe68f-c8eb-47d2-9866-2446d9604e57",
   "metadata": {},
   "outputs": [
    {
     "data": {
      "text/html": [
       "sum(a; <i>kw...</i>) in Base at <a href=\"https://github.com/JuliaLang/julia/tree/9d5f31e9231c1d77e24ee820908e32f559e23057/base/reduce.jl#L532\" target=\"_blank\">reduce.jl:532</a>"
      ],
      "text/plain": [
       "sum(a; kw...) in Base at reduce.jl:532"
      ]
     },
     "execution_count": 6,
     "metadata": {},
     "output_type": "execute_result"
    }
   ],
   "source": [
    "@which sum(square(x) for x in 1:10^6)"
   ]
  },
  {
   "cell_type": "code",
   "execution_count": 7,
   "id": "788c50f7-ad5a-404a-bc8b-95fdda1550f6",
   "metadata": {},
   "outputs": [
    {
     "data": {
      "text/html": [
       "sum(f, a; <i>kw...</i>) in Base at <a href=\"https://github.com/JuliaLang/julia/tree/9d5f31e9231c1d77e24ee820908e32f559e23057/base/reduce.jl#L503\" target=\"_blank\">reduce.jl:503</a>"
      ],
      "text/plain": [
       "sum(f, a; kw...) in Base at reduce.jl:503"
      ]
     },
     "execution_count": 7,
     "metadata": {},
     "output_type": "execute_result"
    }
   ],
   "source": [
    "a = (square(x) for x in 1:10^6)\n",
    "@which sum(identity, a)"
   ]
  },
  {
   "cell_type": "code",
   "execution_count": 8,
   "id": "cf0e07c8-4455-460b-baad-68f1d999d1d7",
   "metadata": {},
   "outputs": [
    {
     "data": {
      "text/html": [
       "mapreduce(f, op, itr; <i>kw...</i>) in Base at <a href=\"https://github.com/JuliaLang/julia/tree/9d5f31e9231c1d77e24ee820908e32f559e23057/base/reduce.jl#L289\" target=\"_blank\">reduce.jl:289</a>"
      ],
      "text/plain": [
       "mapreduce(f, op, itr; kw...) in Base at reduce.jl:289"
      ]
     },
     "execution_count": 8,
     "metadata": {},
     "output_type": "execute_result"
    }
   ],
   "source": [
    "@which mapreduce(identity, Base.add_sum, a)"
   ]
  },
  {
   "cell_type": "code",
   "execution_count": 9,
   "id": "2c942bee-1d36-4889-b958-4578154b8776",
   "metadata": {},
   "outputs": [
    {
     "data": {
      "text/html": [
       "mapfoldl(f, op, itr; <i>init</i>) in Base at <a href=\"https://github.com/JuliaLang/julia/tree/9d5f31e9231c1d77e24ee820908e32f559e23057/base/reduce.jl#L162\" target=\"_blank\">reduce.jl:162</a>"
      ],
      "text/plain": [
       "mapfoldl(f, op, itr; init) in Base at reduce.jl:162"
      ]
     },
     "execution_count": 9,
     "metadata": {},
     "output_type": "execute_result"
    }
   ],
   "source": [
    "@which mapfoldl(identity, Base.add_sum, a)"
   ]
  },
  {
   "cell_type": "code",
   "execution_count": 10,
   "id": "a302bdb3-e4d3-4538-b64b-d9218e2bb3da",
   "metadata": {},
   "outputs": [
    {
     "data": {
      "text/html": [
       "mapfoldl_impl(f::<b>F</b>, op::<b>OP</b>, nt, itr)<i> where {F, OP}</i> in Base at <a href=\"https://github.com/JuliaLang/julia/tree/9d5f31e9231c1d77e24ee820908e32f559e23057/base/reduce.jl#L42\" target=\"_blank\">reduce.jl:42</a>"
      ],
      "text/plain": [
       "mapfoldl_impl(f::F, op::OP, nt, itr) where {F, OP} in Base at reduce.jl:42"
      ]
     },
     "execution_count": 10,
     "metadata": {},
     "output_type": "execute_result"
    }
   ],
   "source": [
    "@which Base.mapfoldl_impl(identity, Base.add_sum, Base._InitialValue(), a)"
   ]
  },
  {
   "cell_type": "code",
   "execution_count": 14,
   "id": "a9fce94a-6238-42dc-8e9d-3af178666dfe",
   "metadata": {},
   "outputs": [
    {
     "data": {
      "text/plain": [
       "Base.BottomRF{typeof(Base.add_sum)}(Base.add_sum)"
      ]
     },
     "execution_count": 14,
     "metadata": {},
     "output_type": "execute_result"
    }
   ],
   "source": [
    "Base.BottomRF(Base.add_sum)"
   ]
  },
  {
   "cell_type": "code",
   "execution_count": 11,
   "id": "fa9d69a8-2545-481a-98b8-e6e70f041c3a",
   "metadata": {},
   "outputs": [
    {
     "data": {
      "text/html": [
       "Base.BottomRF(rf::<b>T</b>)<i> where T</i> in Base at <a href=\"https://github.com/JuliaLang/julia/tree/9d5f31e9231c1d77e24ee820908e32f559e23057/base/reduce.jl#L77\" target=\"_blank\">reduce.jl:77</a>"
      ],
      "text/plain": [
       "Base.BottomRF(rf::T) where T in Base at reduce.jl:77"
      ]
     },
     "execution_count": 11,
     "metadata": {},
     "output_type": "execute_result"
    }
   ],
   "source": [
    "@which Base.BottomRF(Base.add_sum)"
   ]
  },
  {
   "cell_type": "code",
   "execution_count": 16,
   "id": "c87b9075-767e-40c8-ae83-7a8e4897c5c6",
   "metadata": {},
   "outputs": [
    {
     "data": {
      "text/plain": [
       "(Base.MappingRF{var\"#11#12\", Base.BottomRF{typeof(Base.add_sum)}}(var\"#11#12\"(), Base.BottomRF{typeof(Base.add_sum)}(Base.add_sum)), 1:1000000)"
      ]
     },
     "execution_count": 16,
     "metadata": {},
     "output_type": "execute_result"
    }
   ],
   "source": [
    "op1, iter1 = Base._xfadjoint(Base.BottomRF(Base.add_sum), Base.Generator(identity, a))"
   ]
  },
  {
   "cell_type": "code",
   "execution_count": 15,
   "id": "a0f1bb87-3caf-4876-9f0b-c77588cc6945",
   "metadata": {},
   "outputs": [
    {
     "data": {
      "text/html": [
       "_xfadjoint(op, itr::<b>Base.Generator</b>) in Base at <a href=\"https://github.com/JuliaLang/julia/tree/9d5f31e9231c1d77e24ee820908e32f559e23057/base/reduce.jl#L144\" target=\"_blank\">reduce.jl:144</a>"
      ],
      "text/plain": [
       "_xfadjoint(op, itr::Base.Generator) in Base at reduce.jl:144"
      ]
     },
     "execution_count": 15,
     "metadata": {},
     "output_type": "execute_result"
    }
   ],
   "source": [
    "@which Base._xfadjoint(Base.BottomRF(Base.add_sum), Base.Generator(identity, a))"
   ]
  },
  {
   "cell_type": "code",
   "execution_count": 20,
   "id": "e167741c-bd5a-4a21-af0d-4c77963ef25e",
   "metadata": {},
   "outputs": [
    {
     "name": "stdout",
     "output_type": "stream",
     "text": [
      "  151.800 μs (1 allocation: 16 bytes)\n"
     ]
    },
    {
     "data": {
      "text/plain": [
       "333333833333500000"
      ]
     },
     "execution_count": 20,
     "metadata": {},
     "output_type": "execute_result"
    }
   ],
   "source": [
    "@btime Base.foldl_impl(op1, Base._InitialValue(), iter1)"
   ]
  },
  {
   "cell_type": "code",
   "execution_count": 21,
   "id": "78431d05-3758-45b3-b44e-4a41a26b6407",
   "metadata": {},
   "outputs": [
    {
     "data": {
      "text/html": [
       "foldl_impl(op::<b>OP</b>, nt, itr)<i> where OP</i> in Base at <a href=\"https://github.com/JuliaLang/julia/tree/9d5f31e9231c1d77e24ee820908e32f559e23057/base/reduce.jl#L47\" target=\"_blank\">reduce.jl:47</a>"
      ],
      "text/plain": [
       "foldl_impl(op::OP, nt, itr) where OP in Base at reduce.jl:47"
      ]
     },
     "execution_count": 21,
     "metadata": {},
     "output_type": "execute_result"
    }
   ],
   "source": [
    "@which Base.foldl_impl(op1, Base._InitialValue(), iter1)"
   ]
  },
  {
   "cell_type": "code",
   "execution_count": 23,
   "id": "72c754ab-5631-4f0f-b123-4a807a2aea12",
   "metadata": {},
   "outputs": [
    {
     "name": "stdout",
     "output_type": "stream",
     "text": [
      "  150.600 μs (1 allocation: 16 bytes)\n"
     ]
    },
    {
     "data": {
      "text/plain": [
       "333333833333500000"
      ]
     },
     "execution_count": 23,
     "metadata": {},
     "output_type": "execute_result"
    }
   ],
   "source": [
    "@btime Base._foldl_impl(op1, Base._InitialValue(), iter1)"
   ]
  },
  {
   "cell_type": "code",
   "execution_count": 24,
   "id": "b7dffd6e-6e11-4284-9a73-900dcc908329",
   "metadata": {},
   "outputs": [
    {
     "data": {
      "text/html": [
       "_foldl_impl(op::<b>OP</b>, init, itr)<i> where OP</i> in Base at <a href=\"https://github.com/JuliaLang/julia/tree/9d5f31e9231c1d77e24ee820908e32f559e23057/base/reduce.jl#L53\" target=\"_blank\">reduce.jl:53</a>"
      ],
      "text/plain": [
       "_foldl_impl(op::OP, init, itr) where OP in Base at reduce.jl:53"
      ]
     },
     "execution_count": 24,
     "metadata": {},
     "output_type": "execute_result"
    }
   ],
   "source": [
    "@which Base._foldl_impl(op1, Base._InitialValue(), iter1)"
   ]
  },
  {
   "cell_type": "code",
   "execution_count": 28,
   "id": "3308ddc4-def0-4af2-844c-3c72e3f38a92",
   "metadata": {},
   "outputs": [
    {
     "name": "stdout",
     "output_type": "stream",
     "text": [
      "\u001b[90m; Function Attrs: uwtable\u001b[39m\n",
      "\u001b[95mdefine\u001b[39m \u001b[36mi64\u001b[39m \u001b[93m@julia_sum_2536\u001b[39m\u001b[33m(\u001b[39m\u001b[33m{\u001b[39m \u001b[33m[\u001b[39m\u001b[33m2\u001b[39m \u001b[0mx \u001b[36mi64\u001b[39m\u001b[33m]\u001b[39m \u001b[33m}\u001b[39m\u001b[0m* \u001b[95mnocapture\u001b[39m \u001b[95mnonnull\u001b[39m \u001b[95mreadonly\u001b[39m \u001b[95malign\u001b[39m \u001b[33m8\u001b[39m \u001b[95mdereferenceable\u001b[39m\u001b[33m(\u001b[39m\u001b[33m16\u001b[39m\u001b[33m)\u001b[39m \u001b[0m%0\u001b[33m)\u001b[39m \u001b[0m#0 \u001b[33m{\u001b[39m\n",
      "\u001b[91mtop:\u001b[39m\n",
      "  \u001b[0m%1 \u001b[0m= \u001b[96m\u001b[1malloca\u001b[22m\u001b[39m \u001b[33m[\u001b[39m\u001b[33m2\u001b[39m \u001b[0mx \u001b[33m{\u001b[39m\u001b[33m}\u001b[39m\u001b[0m*\u001b[33m]\u001b[39m\u001b[0m, \u001b[95malign\u001b[39m \u001b[33m8\u001b[39m\n",
      "  \u001b[0m%.sub \u001b[0m= \u001b[96m\u001b[1mgetelementptr\u001b[22m\u001b[39m \u001b[95minbounds\u001b[39m \u001b[33m[\u001b[39m\u001b[33m2\u001b[39m \u001b[0mx \u001b[33m{\u001b[39m\u001b[33m}\u001b[39m\u001b[0m*\u001b[33m]\u001b[39m\u001b[0m, \u001b[33m[\u001b[39m\u001b[33m2\u001b[39m \u001b[0mx \u001b[33m{\u001b[39m\u001b[33m}\u001b[39m\u001b[0m*\u001b[33m]\u001b[39m\u001b[0m* \u001b[0m%1\u001b[0m, \u001b[36mi64\u001b[39m \u001b[33m0\u001b[39m\u001b[0m, \u001b[36mi64\u001b[39m \u001b[33m0\u001b[39m\n",
      "  \u001b[0m%2 \u001b[0m= \u001b[96m\u001b[1mgetelementptr\u001b[22m\u001b[39m \u001b[95minbounds\u001b[39m \u001b[33m{\u001b[39m \u001b[33m[\u001b[39m\u001b[33m2\u001b[39m \u001b[0mx \u001b[36mi64\u001b[39m\u001b[33m]\u001b[39m \u001b[33m}\u001b[39m\u001b[0m, \u001b[33m{\u001b[39m \u001b[33m[\u001b[39m\u001b[33m2\u001b[39m \u001b[0mx \u001b[36mi64\u001b[39m\u001b[33m]\u001b[39m \u001b[33m}\u001b[39m\u001b[0m* \u001b[0m%0\u001b[0m, \u001b[36mi64\u001b[39m \u001b[33m0\u001b[39m\u001b[0m, \u001b[36mi32\u001b[39m \u001b[33m0\u001b[39m\u001b[0m, \u001b[36mi64\u001b[39m \u001b[33m0\u001b[39m\n",
      "  \u001b[0m%3 \u001b[0m= \u001b[96m\u001b[1mgetelementptr\u001b[22m\u001b[39m \u001b[95minbounds\u001b[39m \u001b[33m{\u001b[39m \u001b[33m[\u001b[39m\u001b[33m2\u001b[39m \u001b[0mx \u001b[36mi64\u001b[39m\u001b[33m]\u001b[39m \u001b[33m}\u001b[39m\u001b[0m, \u001b[33m{\u001b[39m \u001b[33m[\u001b[39m\u001b[33m2\u001b[39m \u001b[0mx \u001b[36mi64\u001b[39m\u001b[33m]\u001b[39m \u001b[33m}\u001b[39m\u001b[0m* \u001b[0m%0\u001b[0m, \u001b[36mi64\u001b[39m \u001b[33m0\u001b[39m\u001b[0m, \u001b[36mi32\u001b[39m \u001b[33m0\u001b[39m\u001b[0m, \u001b[36mi64\u001b[39m \u001b[33m1\u001b[39m\n",
      "  \u001b[0m%4 \u001b[0m= \u001b[96m\u001b[1mload\u001b[22m\u001b[39m \u001b[36mi64\u001b[39m\u001b[0m, \u001b[36mi64\u001b[39m\u001b[0m* \u001b[0m%3\u001b[0m, \u001b[95malign\u001b[39m \u001b[33m8\u001b[39m\n",
      "  \u001b[0m%5 \u001b[0m= \u001b[96m\u001b[1mload\u001b[22m\u001b[39m \u001b[36mi64\u001b[39m\u001b[0m, \u001b[36mi64\u001b[39m\u001b[0m* \u001b[0m%2\u001b[0m, \u001b[95malign\u001b[39m \u001b[33m8\u001b[39m\n",
      "  \u001b[0m%.not \u001b[0m= \u001b[96m\u001b[1micmp\u001b[22m\u001b[39m \u001b[96m\u001b[1mslt\u001b[22m\u001b[39m \u001b[36mi64\u001b[39m \u001b[0m%4\u001b[0m, \u001b[0m%5\n",
      "  \u001b[0m%value_phi1 \u001b[0m= \u001b[96m\u001b[1mselect\u001b[22m\u001b[39m \u001b[36mi1\u001b[39m \u001b[0m%.not\u001b[0m, \u001b[36mi64\u001b[39m \u001b[95mundef\u001b[39m\u001b[0m, \u001b[36mi64\u001b[39m \u001b[0m%5\n",
      "  \u001b[96m\u001b[1mbr\u001b[22m\u001b[39m \u001b[36mi1\u001b[39m \u001b[0m%.not\u001b[0m, \u001b[36mlabel\u001b[39m \u001b[91m%L39\u001b[39m\u001b[0m, \u001b[36mlabel\u001b[39m \u001b[91m%L16\u001b[39m\n",
      "\n",
      "\u001b[91mL16:\u001b[39m                                              \u001b[90m; preds = %top\u001b[39m\n",
      "  \u001b[0m%6 \u001b[0m= \u001b[96m\u001b[1mmul\u001b[22m\u001b[39m \u001b[36mi64\u001b[39m \u001b[0m%value_phi1\u001b[0m, \u001b[0m%value_phi1\n",
      "  \u001b[0m%.not1213 \u001b[0m= \u001b[96m\u001b[1micmp\u001b[22m\u001b[39m \u001b[96m\u001b[1meq\u001b[22m\u001b[39m \u001b[36mi64\u001b[39m \u001b[0m%4\u001b[0m, \u001b[0m%5\n",
      "  \u001b[96m\u001b[1mbr\u001b[22m\u001b[39m \u001b[36mi1\u001b[39m \u001b[0m%.not1213\u001b[0m, \u001b[36mlabel\u001b[39m \u001b[91m%L55\u001b[39m\u001b[0m, \u001b[36mlabel\u001b[39m \u001b[91m%L32.preheader\u001b[39m\n",
      "\n",
      "\u001b[91mL32.preheader:\u001b[39m                                    \u001b[90m; preds = %L16\u001b[39m\n",
      "  \u001b[0m%7 \u001b[0m= \u001b[96m\u001b[1msub\u001b[22m\u001b[39m \u001b[36mi64\u001b[39m \u001b[0m%4\u001b[0m, \u001b[0m%5\n",
      "  \u001b[0m%min.iters.check \u001b[0m= \u001b[96m\u001b[1micmp\u001b[22m\u001b[39m \u001b[96m\u001b[1mult\u001b[22m\u001b[39m \u001b[36mi64\u001b[39m \u001b[0m%7\u001b[0m, \u001b[33m16\u001b[39m\n",
      "  \u001b[96m\u001b[1mbr\u001b[22m\u001b[39m \u001b[36mi1\u001b[39m \u001b[0m%min.iters.check\u001b[0m, \u001b[36mlabel\u001b[39m \u001b[91m%L32\u001b[39m\u001b[0m, \u001b[36mlabel\u001b[39m \u001b[91m%vector.ph\u001b[39m\n",
      "\n",
      "\u001b[91mvector.ph:\u001b[39m                                        \u001b[90m; preds = %L32.preheader\u001b[39m\n",
      "  \u001b[0m%n.vec \u001b[0m= \u001b[96m\u001b[1mand\u001b[22m\u001b[39m \u001b[36mi64\u001b[39m \u001b[0m%7\u001b[0m, \u001b[33m-16\u001b[39m\n",
      "  \u001b[0m%ind.end \u001b[0m= \u001b[96m\u001b[1madd\u001b[22m\u001b[39m \u001b[36mi64\u001b[39m \u001b[0m%5\u001b[0m, \u001b[0m%n.vec\n",
      "  \u001b[0m%.splatinsert \u001b[0m= \u001b[96m\u001b[1minsertelement\u001b[22m\u001b[39m \u001b[33m<\u001b[39m\u001b[33m4\u001b[39m \u001b[0mx \u001b[36mi64\u001b[39m\u001b[33m>\u001b[39m \u001b[95mpoison\u001b[39m\u001b[0m, \u001b[36mi64\u001b[39m \u001b[0m%5\u001b[0m, \u001b[36mi32\u001b[39m \u001b[33m0\u001b[39m\n",
      "  \u001b[0m%.splat \u001b[0m= \u001b[96m\u001b[1mshufflevector\u001b[22m\u001b[39m \u001b[33m<\u001b[39m\u001b[33m4\u001b[39m \u001b[0mx \u001b[36mi64\u001b[39m\u001b[33m>\u001b[39m \u001b[0m%.splatinsert\u001b[0m, \u001b[33m<\u001b[39m\u001b[33m4\u001b[39m \u001b[0mx \u001b[36mi64\u001b[39m\u001b[33m>\u001b[39m \u001b[95mpoison\u001b[39m\u001b[0m, \u001b[33m<\u001b[39m\u001b[33m4\u001b[39m \u001b[0mx \u001b[36mi32\u001b[39m\u001b[33m>\u001b[39m \u001b[95mzeroinitializer\u001b[39m\n",
      "  \u001b[0m%induction \u001b[0m= \u001b[96m\u001b[1madd\u001b[22m\u001b[39m \u001b[33m<\u001b[39m\u001b[33m4\u001b[39m \u001b[0mx \u001b[36mi64\u001b[39m\u001b[33m>\u001b[39m \u001b[0m%.splat\u001b[0m, \u001b[33m<\u001b[39m\u001b[36mi64\u001b[39m \u001b[33m0\u001b[39m\u001b[0m, \u001b[36mi64\u001b[39m \u001b[33m1\u001b[39m\u001b[0m, \u001b[36mi64\u001b[39m \u001b[33m2\u001b[39m\u001b[0m, \u001b[36mi64\u001b[39m \u001b[33m3\u001b[39m\u001b[33m>\u001b[39m\n",
      "  \u001b[0m%8 \u001b[0m= \u001b[96m\u001b[1minsertelement\u001b[22m\u001b[39m \u001b[33m<\u001b[39m\u001b[33m4\u001b[39m \u001b[0mx \u001b[36mi64\u001b[39m\u001b[33m>\u001b[39m \u001b[33m<\u001b[39m\u001b[36mi64\u001b[39m \u001b[95mpoison\u001b[39m\u001b[0m, \u001b[36mi64\u001b[39m \u001b[33m0\u001b[39m\u001b[0m, \u001b[36mi64\u001b[39m \u001b[33m0\u001b[39m\u001b[0m, \u001b[36mi64\u001b[39m \u001b[33m0\u001b[39m\u001b[33m>\u001b[39m\u001b[0m, \u001b[36mi64\u001b[39m \u001b[0m%6\u001b[0m, \u001b[36mi32\u001b[39m \u001b[33m0\u001b[39m\n",
      "  \u001b[96m\u001b[1mbr\u001b[22m\u001b[39m \u001b[36mlabel\u001b[39m \u001b[91m%vector.body\u001b[39m\n",
      "\n",
      "\u001b[91mvector.body:\u001b[39m                                      \u001b[90m; preds = %vector.body, %vector.ph\u001b[39m\n",
      "  \u001b[0m%index \u001b[0m= \u001b[96m\u001b[1mphi\u001b[22m\u001b[39m \u001b[36mi64\u001b[39m \u001b[33m[\u001b[39m \u001b[33m0\u001b[39m\u001b[0m, \u001b[91m%vector.ph\u001b[39m \u001b[33m]\u001b[39m\u001b[0m, \u001b[33m[\u001b[39m \u001b[0m%index.next\u001b[0m, \u001b[91m%vector.body\u001b[39m \u001b[33m]\u001b[39m\n",
      "  \u001b[0m%vec.ind \u001b[0m= \u001b[96m\u001b[1mphi\u001b[22m\u001b[39m \u001b[33m<\u001b[39m\u001b[33m4\u001b[39m \u001b[0mx \u001b[36mi64\u001b[39m\u001b[33m>\u001b[39m \u001b[33m[\u001b[39m \u001b[0m%induction\u001b[0m, \u001b[91m%vector.ph\u001b[39m \u001b[33m]\u001b[39m\u001b[0m, \u001b[33m[\u001b[39m \u001b[0m%vec.ind.next\u001b[0m, \u001b[91m%vector.body\u001b[39m \u001b[33m]\u001b[39m\n",
      "  \u001b[0m%vec.phi \u001b[0m= \u001b[96m\u001b[1mphi\u001b[22m\u001b[39m \u001b[33m<\u001b[39m\u001b[33m4\u001b[39m \u001b[0mx \u001b[36mi64\u001b[39m\u001b[33m>\u001b[39m \u001b[33m[\u001b[39m \u001b[0m%8\u001b[0m, \u001b[91m%vector.ph\u001b[39m \u001b[33m]\u001b[39m\u001b[0m, \u001b[33m[\u001b[39m \u001b[0m%17\u001b[0m, \u001b[91m%vector.body\u001b[39m \u001b[33m]\u001b[39m\n",
      "  \u001b[0m%vec.phi20 \u001b[0m= \u001b[96m\u001b[1mphi\u001b[22m\u001b[39m \u001b[33m<\u001b[39m\u001b[33m4\u001b[39m \u001b[0mx \u001b[36mi64\u001b[39m\u001b[33m>\u001b[39m \u001b[33m[\u001b[39m \u001b[95mzeroinitializer\u001b[39m\u001b[0m, \u001b[91m%vector.ph\u001b[39m \u001b[33m]\u001b[39m\u001b[0m, \u001b[33m[\u001b[39m \u001b[0m%18\u001b[0m, \u001b[91m%vector.body\u001b[39m \u001b[33m]\u001b[39m\n",
      "  \u001b[0m%vec.phi21 \u001b[0m= \u001b[96m\u001b[1mphi\u001b[22m\u001b[39m \u001b[33m<\u001b[39m\u001b[33m4\u001b[39m \u001b[0mx \u001b[36mi64\u001b[39m\u001b[33m>\u001b[39m \u001b[33m[\u001b[39m \u001b[95mzeroinitializer\u001b[39m\u001b[0m, \u001b[91m%vector.ph\u001b[39m \u001b[33m]\u001b[39m\u001b[0m, \u001b[33m[\u001b[39m \u001b[0m%19\u001b[0m, \u001b[91m%vector.body\u001b[39m \u001b[33m]\u001b[39m\n",
      "  \u001b[0m%vec.phi22 \u001b[0m= \u001b[96m\u001b[1mphi\u001b[22m\u001b[39m \u001b[33m<\u001b[39m\u001b[33m4\u001b[39m \u001b[0mx \u001b[36mi64\u001b[39m\u001b[33m>\u001b[39m \u001b[33m[\u001b[39m \u001b[95mzeroinitializer\u001b[39m\u001b[0m, \u001b[91m%vector.ph\u001b[39m \u001b[33m]\u001b[39m\u001b[0m, \u001b[33m[\u001b[39m \u001b[0m%20\u001b[0m, \u001b[91m%vector.body\u001b[39m \u001b[33m]\u001b[39m\n",
      "  \u001b[0m%9 \u001b[0m= \u001b[96m\u001b[1madd\u001b[22m\u001b[39m \u001b[33m<\u001b[39m\u001b[33m4\u001b[39m \u001b[0mx \u001b[36mi64\u001b[39m\u001b[33m>\u001b[39m \u001b[0m%vec.ind\u001b[0m, \u001b[33m<\u001b[39m\u001b[36mi64\u001b[39m \u001b[33m1\u001b[39m\u001b[0m, \u001b[36mi64\u001b[39m \u001b[33m1\u001b[39m\u001b[0m, \u001b[36mi64\u001b[39m \u001b[33m1\u001b[39m\u001b[0m, \u001b[36mi64\u001b[39m \u001b[33m1\u001b[39m\u001b[33m>\u001b[39m\n",
      "  \u001b[0m%10 \u001b[0m= \u001b[96m\u001b[1madd\u001b[22m\u001b[39m \u001b[33m<\u001b[39m\u001b[33m4\u001b[39m \u001b[0mx \u001b[36mi64\u001b[39m\u001b[33m>\u001b[39m \u001b[0m%vec.ind\u001b[0m, \u001b[33m<\u001b[39m\u001b[36mi64\u001b[39m \u001b[33m5\u001b[39m\u001b[0m, \u001b[36mi64\u001b[39m \u001b[33m5\u001b[39m\u001b[0m, \u001b[36mi64\u001b[39m \u001b[33m5\u001b[39m\u001b[0m, \u001b[36mi64\u001b[39m \u001b[33m5\u001b[39m\u001b[33m>\u001b[39m\n",
      "  \u001b[0m%11 \u001b[0m= \u001b[96m\u001b[1madd\u001b[22m\u001b[39m \u001b[33m<\u001b[39m\u001b[33m4\u001b[39m \u001b[0mx \u001b[36mi64\u001b[39m\u001b[33m>\u001b[39m \u001b[0m%vec.ind\u001b[0m, \u001b[33m<\u001b[39m\u001b[36mi64\u001b[39m \u001b[33m9\u001b[39m\u001b[0m, \u001b[36mi64\u001b[39m \u001b[33m9\u001b[39m\u001b[0m, \u001b[36mi64\u001b[39m \u001b[33m9\u001b[39m\u001b[0m, \u001b[36mi64\u001b[39m \u001b[33m9\u001b[39m\u001b[33m>\u001b[39m\n",
      "  \u001b[0m%12 \u001b[0m= \u001b[96m\u001b[1madd\u001b[22m\u001b[39m \u001b[33m<\u001b[39m\u001b[33m4\u001b[39m \u001b[0mx \u001b[36mi64\u001b[39m\u001b[33m>\u001b[39m \u001b[0m%vec.ind\u001b[0m, \u001b[33m<\u001b[39m\u001b[36mi64\u001b[39m \u001b[33m13\u001b[39m\u001b[0m, \u001b[36mi64\u001b[39m \u001b[33m13\u001b[39m\u001b[0m, \u001b[36mi64\u001b[39m \u001b[33m13\u001b[39m\u001b[0m, \u001b[36mi64\u001b[39m \u001b[33m13\u001b[39m\u001b[33m>\u001b[39m\n",
      "  \u001b[0m%13 \u001b[0m= \u001b[96m\u001b[1mmul\u001b[22m\u001b[39m \u001b[33m<\u001b[39m\u001b[33m4\u001b[39m \u001b[0mx \u001b[36mi64\u001b[39m\u001b[33m>\u001b[39m \u001b[0m%9\u001b[0m, \u001b[0m%9\n",
      "  \u001b[0m%14 \u001b[0m= \u001b[96m\u001b[1mmul\u001b[22m\u001b[39m \u001b[33m<\u001b[39m\u001b[33m4\u001b[39m \u001b[0mx \u001b[36mi64\u001b[39m\u001b[33m>\u001b[39m \u001b[0m%10\u001b[0m, \u001b[0m%10\n",
      "  \u001b[0m%15 \u001b[0m= \u001b[96m\u001b[1mmul\u001b[22m\u001b[39m \u001b[33m<\u001b[39m\u001b[33m4\u001b[39m \u001b[0mx \u001b[36mi64\u001b[39m\u001b[33m>\u001b[39m \u001b[0m%11\u001b[0m, \u001b[0m%11\n",
      "  \u001b[0m%16 \u001b[0m= \u001b[96m\u001b[1mmul\u001b[22m\u001b[39m \u001b[33m<\u001b[39m\u001b[33m4\u001b[39m \u001b[0mx \u001b[36mi64\u001b[39m\u001b[33m>\u001b[39m \u001b[0m%12\u001b[0m, \u001b[0m%12\n",
      "  \u001b[0m%17 \u001b[0m= \u001b[96m\u001b[1madd\u001b[22m\u001b[39m \u001b[33m<\u001b[39m\u001b[33m4\u001b[39m \u001b[0mx \u001b[36mi64\u001b[39m\u001b[33m>\u001b[39m \u001b[0m%13\u001b[0m, \u001b[0m%vec.phi\n",
      "  \u001b[0m%18 \u001b[0m= \u001b[96m\u001b[1madd\u001b[22m\u001b[39m \u001b[33m<\u001b[39m\u001b[33m4\u001b[39m \u001b[0mx \u001b[36mi64\u001b[39m\u001b[33m>\u001b[39m \u001b[0m%14\u001b[0m, \u001b[0m%vec.phi20\n",
      "  \u001b[0m%19 \u001b[0m= \u001b[96m\u001b[1madd\u001b[22m\u001b[39m \u001b[33m<\u001b[39m\u001b[33m4\u001b[39m \u001b[0mx \u001b[36mi64\u001b[39m\u001b[33m>\u001b[39m \u001b[0m%15\u001b[0m, \u001b[0m%vec.phi21\n",
      "  \u001b[0m%20 \u001b[0m= \u001b[96m\u001b[1madd\u001b[22m\u001b[39m \u001b[33m<\u001b[39m\u001b[33m4\u001b[39m \u001b[0mx \u001b[36mi64\u001b[39m\u001b[33m>\u001b[39m \u001b[0m%16\u001b[0m, \u001b[0m%vec.phi22\n",
      "  \u001b[0m%index.next \u001b[0m= \u001b[96m\u001b[1madd\u001b[22m\u001b[39m \u001b[36mi64\u001b[39m \u001b[0m%index\u001b[0m, \u001b[33m16\u001b[39m\n",
      "  \u001b[0m%vec.ind.next \u001b[0m= \u001b[96m\u001b[1madd\u001b[22m\u001b[39m \u001b[33m<\u001b[39m\u001b[33m4\u001b[39m \u001b[0mx \u001b[36mi64\u001b[39m\u001b[33m>\u001b[39m \u001b[0m%vec.ind\u001b[0m, \u001b[33m<\u001b[39m\u001b[36mi64\u001b[39m \u001b[33m16\u001b[39m\u001b[0m, \u001b[36mi64\u001b[39m \u001b[33m16\u001b[39m\u001b[0m, \u001b[36mi64\u001b[39m \u001b[33m16\u001b[39m\u001b[0m, \u001b[36mi64\u001b[39m \u001b[33m16\u001b[39m\u001b[33m>\u001b[39m\n",
      "  \u001b[0m%21 \u001b[0m= \u001b[96m\u001b[1micmp\u001b[22m\u001b[39m \u001b[96m\u001b[1meq\u001b[22m\u001b[39m \u001b[36mi64\u001b[39m \u001b[0m%index.next\u001b[0m, \u001b[0m%n.vec\n",
      "  \u001b[96m\u001b[1mbr\u001b[22m\u001b[39m \u001b[36mi1\u001b[39m \u001b[0m%21\u001b[0m, \u001b[36mlabel\u001b[39m \u001b[91m%middle.block\u001b[39m\u001b[0m, \u001b[36mlabel\u001b[39m \u001b[91m%vector.body\u001b[39m\n",
      "\n",
      "\u001b[91mmiddle.block:\u001b[39m                                     \u001b[90m; preds = %vector.body\u001b[39m\n",
      "  \u001b[0m%bin.rdx \u001b[0m= \u001b[96m\u001b[1madd\u001b[22m\u001b[39m \u001b[33m<\u001b[39m\u001b[33m4\u001b[39m \u001b[0mx \u001b[36mi64\u001b[39m\u001b[33m>\u001b[39m \u001b[0m%18\u001b[0m, \u001b[0m%17\n",
      "  \u001b[0m%bin.rdx23 \u001b[0m= \u001b[96m\u001b[1madd\u001b[22m\u001b[39m \u001b[33m<\u001b[39m\u001b[33m4\u001b[39m \u001b[0mx \u001b[36mi64\u001b[39m\u001b[33m>\u001b[39m \u001b[0m%19\u001b[0m, \u001b[0m%bin.rdx\n",
      "  \u001b[0m%bin.rdx24 \u001b[0m= \u001b[96m\u001b[1madd\u001b[22m\u001b[39m \u001b[33m<\u001b[39m\u001b[33m4\u001b[39m \u001b[0mx \u001b[36mi64\u001b[39m\u001b[33m>\u001b[39m \u001b[0m%20\u001b[0m, \u001b[0m%bin.rdx23\n",
      "  \u001b[0m%22 \u001b[0m= \u001b[96m\u001b[1mcall\u001b[22m\u001b[39m \u001b[36mi64\u001b[39m \u001b[93m@llvm.vector.reduce.add.v4i64\u001b[39m\u001b[33m(\u001b[39m\u001b[33m<\u001b[39m\u001b[33m4\u001b[39m \u001b[0mx \u001b[36mi64\u001b[39m\u001b[33m>\u001b[39m \u001b[0m%bin.rdx24\u001b[33m)\u001b[39m\n",
      "  \u001b[0m%cmp.n \u001b[0m= \u001b[96m\u001b[1micmp\u001b[22m\u001b[39m \u001b[96m\u001b[1meq\u001b[22m\u001b[39m \u001b[36mi64\u001b[39m \u001b[0m%7\u001b[0m, \u001b[0m%n.vec\n",
      "  \u001b[96m\u001b[1mbr\u001b[22m\u001b[39m \u001b[36mi1\u001b[39m \u001b[0m%cmp.n\u001b[0m, \u001b[36mlabel\u001b[39m \u001b[91m%L55\u001b[39m\u001b[0m, \u001b[36mlabel\u001b[39m \u001b[91m%L32\u001b[39m\n",
      "\n",
      "\u001b[91mL32:\u001b[39m                                              \u001b[90m; preds = %L32, %middle.block, %L32.preheader\u001b[39m\n",
      "  \u001b[0m%value_phi516.in \u001b[0m= \u001b[96m\u001b[1mphi\u001b[22m\u001b[39m \u001b[36mi64\u001b[39m \u001b[33m[\u001b[39m \u001b[0m%value_phi516\u001b[0m, \u001b[91m%L32\u001b[39m \u001b[33m]\u001b[39m\u001b[0m, \u001b[33m[\u001b[39m \u001b[0m%ind.end\u001b[0m, \u001b[91m%middle.block\u001b[39m \u001b[33m]\u001b[39m\u001b[0m, \u001b[33m[\u001b[39m \u001b[0m%5\u001b[0m, \u001b[91m%L32.preheader\u001b[39m \u001b[33m]\u001b[39m\n",
      "  \u001b[0m%value_phi315 \u001b[0m= \u001b[96m\u001b[1mphi\u001b[22m\u001b[39m \u001b[36mi64\u001b[39m \u001b[33m[\u001b[39m \u001b[0m%24\u001b[0m, \u001b[91m%L32\u001b[39m \u001b[33m]\u001b[39m\u001b[0m, \u001b[33m[\u001b[39m \u001b[0m%22\u001b[0m, \u001b[91m%middle.block\u001b[39m \u001b[33m]\u001b[39m\u001b[0m, \u001b[33m[\u001b[39m \u001b[0m%6\u001b[0m, \u001b[91m%L32.preheader\u001b[39m \u001b[33m]\u001b[39m\n",
      "  \u001b[0m%value_phi516 \u001b[0m= \u001b[96m\u001b[1madd\u001b[22m\u001b[39m \u001b[36mi64\u001b[39m \u001b[0m%value_phi516.in\u001b[0m, \u001b[33m1\u001b[39m\n",
      "  \u001b[0m%23 \u001b[0m= \u001b[96m\u001b[1mmul\u001b[22m\u001b[39m \u001b[36mi64\u001b[39m \u001b[0m%value_phi516\u001b[0m, \u001b[0m%value_phi516\n",
      "  \u001b[0m%24 \u001b[0m= \u001b[96m\u001b[1madd\u001b[22m\u001b[39m \u001b[36mi64\u001b[39m \u001b[0m%23\u001b[0m, \u001b[0m%value_phi315\n",
      "  \u001b[0m%.not12 \u001b[0m= \u001b[96m\u001b[1micmp\u001b[22m\u001b[39m \u001b[96m\u001b[1meq\u001b[22m\u001b[39m \u001b[36mi64\u001b[39m \u001b[0m%value_phi516\u001b[0m, \u001b[0m%4\n",
      "  \u001b[96m\u001b[1mbr\u001b[22m\u001b[39m \u001b[36mi1\u001b[39m \u001b[0m%.not12\u001b[0m, \u001b[36mlabel\u001b[39m \u001b[91m%L55\u001b[39m\u001b[0m, \u001b[36mlabel\u001b[39m \u001b[91m%L32\u001b[39m\n",
      "\n",
      "\u001b[91mL39:\u001b[39m                                              \u001b[90m; preds = %top\u001b[39m\n",
      "  \u001b[96m\u001b[1mstore\u001b[22m\u001b[39m \u001b[33m{\u001b[39m\u001b[33m}\u001b[39m\u001b[0m* \u001b[95minttoptr\u001b[39m \u001b[33m(\u001b[39m\u001b[36mi64\u001b[39m \u001b[33m192997048\u001b[39m \u001b[95mto\u001b[39m \u001b[33m{\u001b[39m\u001b[33m}\u001b[39m\u001b[0m*\u001b[33m)\u001b[39m\u001b[0m, \u001b[33m{\u001b[39m\u001b[33m}\u001b[39m\u001b[0m** \u001b[0m%.sub\u001b[0m, \u001b[95malign\u001b[39m \u001b[33m8\u001b[39m\n",
      "  \u001b[0m%25 \u001b[0m= \u001b[96m\u001b[1mgetelementptr\u001b[22m\u001b[39m \u001b[95minbounds\u001b[39m \u001b[33m[\u001b[39m\u001b[33m2\u001b[39m \u001b[0mx \u001b[33m{\u001b[39m\u001b[33m}\u001b[39m\u001b[0m*\u001b[33m]\u001b[39m\u001b[0m, \u001b[33m[\u001b[39m\u001b[33m2\u001b[39m \u001b[0mx \u001b[33m{\u001b[39m\u001b[33m}\u001b[39m\u001b[0m*\u001b[33m]\u001b[39m\u001b[0m* \u001b[0m%1\u001b[0m, \u001b[36mi64\u001b[39m \u001b[33m0\u001b[39m\u001b[0m, \u001b[36mi64\u001b[39m \u001b[33m1\u001b[39m\n",
      "  \u001b[96m\u001b[1mstore\u001b[22m\u001b[39m \u001b[33m{\u001b[39m\u001b[33m}\u001b[39m\u001b[0m* \u001b[95minttoptr\u001b[39m \u001b[33m(\u001b[39m\u001b[36mi64\u001b[39m \u001b[33m304540800\u001b[39m \u001b[95mto\u001b[39m \u001b[33m{\u001b[39m\u001b[33m}\u001b[39m\u001b[0m*\u001b[33m)\u001b[39m\u001b[0m, \u001b[33m{\u001b[39m\u001b[33m}\u001b[39m\u001b[0m** \u001b[0m%25\u001b[0m, \u001b[95malign\u001b[39m \u001b[33m8\u001b[39m\n",
      "  \u001b[0m%26 \u001b[0m= \u001b[96m\u001b[1mcall\u001b[22m\u001b[39m \u001b[95mnonnull\u001b[39m \u001b[33m{\u001b[39m\u001b[33m}\u001b[39m\u001b[0m* \u001b[93m@j1_reduce_empty_2538\u001b[39m\u001b[33m(\u001b[39m\u001b[33m{\u001b[39m\u001b[33m}\u001b[39m\u001b[0m* \u001b[95minttoptr\u001b[39m \u001b[33m(\u001b[39m\u001b[36mi64\u001b[39m \u001b[33m339390480\u001b[39m \u001b[95mto\u001b[39m \u001b[33m{\u001b[39m\u001b[33m}\u001b[39m\u001b[0m*\u001b[33m)\u001b[39m\u001b[0m, \u001b[33m{\u001b[39m\u001b[33m}\u001b[39m\u001b[0m** \u001b[95mnonnull\u001b[39m \u001b[0m%.sub\u001b[0m, \u001b[36mi32\u001b[39m \u001b[33m2\u001b[39m\u001b[33m)\u001b[39m\n",
      "  \u001b[96m\u001b[1mcall\u001b[22m\u001b[39m \u001b[36mvoid\u001b[39m \u001b[93m@llvm.trap\u001b[39m\u001b[33m(\u001b[39m\u001b[33m)\u001b[39m\n",
      "  \u001b[96m\u001b[1munreachable\u001b[22m\u001b[39m\n",
      "\n",
      "\u001b[91mL55:\u001b[39m                                              \u001b[90m; preds = %L32, %middle.block, %L16\u001b[39m\n",
      "  \u001b[0m%value_phi3.lcssa \u001b[0m= \u001b[96m\u001b[1mphi\u001b[22m\u001b[39m \u001b[36mi64\u001b[39m \u001b[33m[\u001b[39m \u001b[0m%6\u001b[0m, \u001b[91m%L16\u001b[39m \u001b[33m]\u001b[39m\u001b[0m, \u001b[33m[\u001b[39m \u001b[0m%22\u001b[0m, \u001b[91m%middle.block\u001b[39m \u001b[33m]\u001b[39m\u001b[0m, \u001b[33m[\u001b[39m \u001b[0m%24\u001b[0m, \u001b[91m%L32\u001b[39m \u001b[33m]\u001b[39m\n",
      "  \u001b[96m\u001b[1mret\u001b[22m\u001b[39m \u001b[36mi64\u001b[39m \u001b[0m%value_phi3.lcssa\n",
      "\u001b[33m}\u001b[39m\n"
     ]
    }
   ],
   "source": [
    "@code_llvm debuginfo=:none sum(square(x) for x in 1:10^6)"
   ]
  },
  {
   "cell_type": "code",
   "execution_count": null,
   "id": "f71b4a6d-2d75-4fa8-aa32-1272bdd9c1cf",
   "metadata": {},
   "outputs": [],
   "source": []
  }
 ],
 "metadata": {
  "kernelspec": {
   "display_name": "Julia 1.8.0-DEV",
   "language": "julia",
   "name": "julia-1.8"
  },
  "language_info": {
   "file_extension": ".jl",
   "mimetype": "application/julia",
   "name": "julia",
   "version": "1.8.0"
  }
 },
 "nbformat": 4,
 "nbformat_minor": 5
}
