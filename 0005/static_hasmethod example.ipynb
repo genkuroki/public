{
 "cells": [
  {
   "cell_type": "code",
   "execution_count": 1,
   "id": "dbda4b89-80bb-477d-b968-453799d0220d",
   "metadata": {},
   "outputs": [],
   "source": [
    "using Tricks"
   ]
  },
  {
   "cell_type": "code",
   "execution_count": 2,
   "id": "91d7451a-519c-4686-8280-80332061fbe9",
   "metadata": {},
   "outputs": [
    {
     "name": "stdout",
     "output_type": "stream",
     "text": [
      "search: \u001b[0m\u001b[1ms\u001b[22m\u001b[0m\u001b[1mt\u001b[22m\u001b[0m\u001b[1ma\u001b[22m\u001b[0m\u001b[1mt\u001b[22m\u001b[0m\u001b[1mi\u001b[22m\u001b[0m\u001b[1mc\u001b[22m\u001b[0m\u001b[1m_\u001b[22m\u001b[0m\u001b[1mh\u001b[22m\u001b[0m\u001b[1ma\u001b[22m\u001b[0m\u001b[1ms\u001b[22m\u001b[0m\u001b[1mm\u001b[22m\u001b[0m\u001b[1me\u001b[22m\u001b[0m\u001b[1mt\u001b[22m\u001b[0m\u001b[1mh\u001b[22m\u001b[0m\u001b[1mo\u001b[22m\u001b[0m\u001b[1md\u001b[22m\n",
      "\n"
     ]
    },
    {
     "data": {
      "text/latex": [
       "\\begin{verbatim}\n",
       "static_hasmethod(f, type_tuple::Type{<:Tuple)\n",
       "\\end{verbatim}\n",
       "Like \\texttt{hasmethod} but runs at compile-time (and does not accept a worldage argument).\n",
       "\n"
      ],
      "text/markdown": [
       "```\n",
       "static_hasmethod(f, type_tuple::Type{<:Tuple)\n",
       "```\n",
       "\n",
       "Like `hasmethod` but runs at compile-time (and does not accept a worldage argument).\n"
      ],
      "text/plain": [
       "\u001b[36m  static_hasmethod(f, type_tuple::Type{<:Tuple)\u001b[39m\n",
       "\n",
       "  Like \u001b[36mhasmethod\u001b[39m but runs at compile-time (and does not accept a worldage\n",
       "  argument)."
      ]
     },
     "execution_count": 2,
     "metadata": {},
     "output_type": "execute_result"
    }
   ],
   "source": [
    "?static_hasmethod"
   ]
  },
  {
   "cell_type": "code",
   "execution_count": 3,
   "id": "8fb86a69-5f0c-4771-ac5c-5658fd07bd52",
   "metadata": {},
   "outputs": [],
   "source": [
    "struct A end\n",
    "struct B end\n",
    "abstract type FooBar end\n",
    "struct Foo <: FooBar x::Int end\n",
    "foomethod(foo::Foo) = nothing\n",
    "struct Bar <: FooBar x::Int end"
   ]
  },
  {
   "cell_type": "code",
   "execution_count": 4,
   "id": "2a42dc81-62b8-482b-a97b-0a766658d497",
   "metadata": {},
   "outputs": [
    {
     "data": {
      "text/plain": [
       "true"
      ]
     },
     "execution_count": 4,
     "metadata": {},
     "output_type": "execute_result"
    }
   ],
   "source": [
    "foo = Foo(23)\n",
    "hasmethod(foomethod, Tuple{Foo})"
   ]
  },
  {
   "cell_type": "code",
   "execution_count": 5,
   "id": "faf942a0-d077-4c92-93bb-ae7fcf475e08",
   "metadata": {},
   "outputs": [
    {
     "data": {
      "text/plain": [
       "f (generic function with 2 methods)"
      ]
     },
     "execution_count": 5,
     "metadata": {},
     "output_type": "execute_result"
    }
   ],
   "source": [
    "attr_dynamic(fb::T) where T <: FooBar = hasmethod(foomethod, Tuple{T}) ? A() : B()\n",
    "f_dynamic(fb::FooBar) = f(attr_dynamic(fb), fb)\n",
    "f(::A, fb) = fb.x + 100\n",
    "f(::B, fb) = fb.x - 100"
   ]
  },
  {
   "cell_type": "code",
   "execution_count": 6,
   "id": "e1236b7e-8bb7-4834-9b0b-77a7fe982de0",
   "metadata": {},
   "outputs": [
    {
     "data": {
      "text/plain": [
       "123"
      ]
     },
     "execution_count": 6,
     "metadata": {},
     "output_type": "execute_result"
    }
   ],
   "source": [
    "f_dynamic(Foo(23))"
   ]
  },
  {
   "cell_type": "code",
   "execution_count": 7,
   "id": "8771ab59-5203-4009-b4cd-7a47a8777490",
   "metadata": {},
   "outputs": [
    {
     "data": {
      "text/plain": [
       "-123"
      ]
     },
     "execution_count": 7,
     "metadata": {},
     "output_type": "execute_result"
    }
   ],
   "source": [
    "f_dynamic(Bar(-23))"
   ]
  },
  {
   "cell_type": "code",
   "execution_count": 8,
   "id": "dc0a342d-131c-47c1-9419-f0f9d1aeb0a2",
   "metadata": {},
   "outputs": [
    {
     "data": {
      "text/plain": [
       "CodeInfo(\n",
       "\u001b[90m1 ─\u001b[39m       invoke Base.to_tuple_type(Tuple{Foo}::Any)\u001b[90m::Type{Tuple{Foo}}\u001b[39m\n",
       "\u001b[90m│  \u001b[39m %2  = $(Expr(:foreigncall, :(:jl_gf_invoke_lookup), Any, svec(Any, UInt64), 0, :(:ccall), Tuple{typeof(foomethod), Foo}, 0xffffffffffffffff, 0xffffffffffffffff))\u001b[36m::Any\u001b[39m\n",
       "\u001b[90m│  \u001b[39m %3  = (%2 === Base.nothing)\u001b[36m::Bool\u001b[39m\n",
       "\u001b[90m│  \u001b[39m %4  = Core.Intrinsics.not_int(%3)\u001b[36m::Bool\u001b[39m\n",
       "\u001b[90m└──\u001b[39m       goto #3 if not %4\n",
       "\u001b[90m2 ─\u001b[39m       goto #4\n",
       "\u001b[90m3 ─\u001b[39m       goto #4\n",
       "\u001b[90m4 ┄\u001b[39m %8  = φ (#2 => $(QuoteNode(A())), #3 => $(QuoteNode(B())))\u001b[36m::Union{A, B}\u001b[39m\n",
       "\u001b[90m│  \u001b[39m %9  = (isa)(%8, A)\u001b[36m::Bool\u001b[39m\n",
       "\u001b[90m└──\u001b[39m       goto #6 if not %9\n",
       "\u001b[90m5 ─\u001b[39m %11 = Base.getfield(fb, :x)\u001b[36m::Int64\u001b[39m\n",
       "\u001b[90m│  \u001b[39m %12 = Base.add_int(%11, 100)\u001b[36m::Int64\u001b[39m\n",
       "\u001b[90m└──\u001b[39m       goto #9\n",
       "\u001b[90m6 ─\u001b[39m %14 = (isa)(%8, B)\u001b[36m::Bool\u001b[39m\n",
       "\u001b[90m└──\u001b[39m       goto #8 if not %14\n",
       "\u001b[90m7 ─\u001b[39m %16 = Base.getfield(fb, :x)\u001b[36m::Int64\u001b[39m\n",
       "\u001b[90m│  \u001b[39m %17 = Base.sub_int(%16, 100)\u001b[36m::Int64\u001b[39m\n",
       "\u001b[90m└──\u001b[39m       goto #9\n",
       "\u001b[90m8 ─\u001b[39m       Core.throw(ErrorException(\"fatal error in type inference (type bound)\"))\u001b[90m::Union{}\u001b[39m\n",
       "\u001b[90m└──\u001b[39m       unreachable\n",
       "\u001b[90m9 ┄\u001b[39m %21 = φ (#5 => %12, #7 => %17)\u001b[36m::Int64\u001b[39m\n",
       "\u001b[90m└──\u001b[39m       return %21\n",
       ") => Int64"
      ]
     },
     "execution_count": 8,
     "metadata": {},
     "output_type": "execute_result"
    }
   ],
   "source": [
    "@code_typed f_dynamic(Foo(23))"
   ]
  },
  {
   "cell_type": "code",
   "execution_count": 9,
   "id": "76d86dfb-9888-4cd3-a735-6236adb3053a",
   "metadata": {},
   "outputs": [
    {
     "data": {
      "text/plain": [
       "true"
      ]
     },
     "execution_count": 9,
     "metadata": {},
     "output_type": "execute_result"
    }
   ],
   "source": [
    "foo = Foo(23)\n",
    "static_hasmethod(foomethod, Tuple{Foo})"
   ]
  },
  {
   "cell_type": "code",
   "execution_count": 10,
   "id": "2eff693d-3fdc-4beb-9a84-b90512a34ec9",
   "metadata": {},
   "outputs": [
    {
     "data": {
      "text/plain": [
       "f_static (generic function with 1 method)"
      ]
     },
     "execution_count": 10,
     "metadata": {},
     "output_type": "execute_result"
    }
   ],
   "source": [
    "attr_static(fb::T) where T <: FooBar = static_hasmethod(foomethod, Tuple{T}) ? A() : B()\n",
    "f_static(fb::FooBar) = f(attr_static(fb), fb)"
   ]
  },
  {
   "cell_type": "code",
   "execution_count": 11,
   "id": "32a045cd-10cd-4f7f-8861-584574be5407",
   "metadata": {},
   "outputs": [
    {
     "data": {
      "text/plain": [
       "123"
      ]
     },
     "execution_count": 11,
     "metadata": {},
     "output_type": "execute_result"
    }
   ],
   "source": [
    "f_static(Foo(23))"
   ]
  },
  {
   "cell_type": "code",
   "execution_count": 12,
   "id": "64a5e619-2815-45ca-b835-f0128be51e2d",
   "metadata": {},
   "outputs": [
    {
     "data": {
      "text/plain": [
       "-123"
      ]
     },
     "execution_count": 12,
     "metadata": {},
     "output_type": "execute_result"
    }
   ],
   "source": [
    "f_static(Bar(-23))"
   ]
  },
  {
   "cell_type": "code",
   "execution_count": 13,
   "id": "0c955f70-6806-4e3a-b4fa-661d51443f7d",
   "metadata": {},
   "outputs": [
    {
     "data": {
      "text/plain": [
       "CodeInfo(\n",
       "\u001b[90m1 ─\u001b[39m %1 = Base.getfield(fb, :x)\u001b[36m::Int64\u001b[39m\n",
       "\u001b[90m│  \u001b[39m %2 = Base.add_int(%1, 100)\u001b[36m::Int64\u001b[39m\n",
       "\u001b[90m└──\u001b[39m      return %2\n",
       ") => Int64"
      ]
     },
     "execution_count": 13,
     "metadata": {},
     "output_type": "execute_result"
    }
   ],
   "source": [
    "@code_typed f_static(Foo(23))"
   ]
  },
  {
   "cell_type": "code",
   "execution_count": 14,
   "id": "f61f9244-25cc-4cd3-8cba-501ad8020c04",
   "metadata": {},
   "outputs": [
    {
     "data": {
      "text/plain": [
       "CodeInfo(\n",
       "\u001b[90m1 ─\u001b[39m %1 = Base.getfield(fb, :x)\u001b[36m::Int64\u001b[39m\n",
       "\u001b[90m│  \u001b[39m %2 = Base.sub_int(%1, 100)\u001b[36m::Int64\u001b[39m\n",
       "\u001b[90m└──\u001b[39m      return %2\n",
       ") => Int64"
      ]
     },
     "execution_count": 14,
     "metadata": {},
     "output_type": "execute_result"
    }
   ],
   "source": [
    "@code_typed f_static(Bar(-23))"
   ]
  },
  {
   "cell_type": "code",
   "execution_count": 15,
   "id": "81cfda7e-2a29-4f96-9ce0-ba9486f2afad",
   "metadata": {},
   "outputs": [
    {
     "data": {
      "text/plain": [
       "foomethod (generic function with 2 methods)"
      ]
     },
     "execution_count": 15,
     "metadata": {},
     "output_type": "execute_result"
    }
   ],
   "source": [
    "foomethod(fb::Bar) = nothing"
   ]
  },
  {
   "cell_type": "code",
   "execution_count": 16,
   "id": "dfcd3c01-3e56-44ed-af41-52f1d82b7df5",
   "metadata": {},
   "outputs": [
    {
     "data": {
      "text/plain": [
       "77"
      ]
     },
     "execution_count": 16,
     "metadata": {},
     "output_type": "execute_result"
    }
   ],
   "source": [
    "f_static(Bar(-23))"
   ]
  },
  {
   "cell_type": "code",
   "execution_count": 17,
   "id": "30c6f90f-bdea-41fc-9f6d-cbf28718c742",
   "metadata": {},
   "outputs": [
    {
     "data": {
      "text/plain": [
       "CodeInfo(\n",
       "\u001b[90m1 ─\u001b[39m %1 = Base.getfield(fb, :x)\u001b[36m::Int64\u001b[39m\n",
       "\u001b[90m│  \u001b[39m %2 = Base.add_int(%1, 100)\u001b[36m::Int64\u001b[39m\n",
       "\u001b[90m└──\u001b[39m      return %2\n",
       ") => Int64"
      ]
     },
     "execution_count": 17,
     "metadata": {},
     "output_type": "execute_result"
    }
   ],
   "source": [
    "@code_typed f_static(Bar(-23))"
   ]
  },
  {
   "cell_type": "code",
   "execution_count": null,
   "id": "41f8c542-f9be-4e67-8548-a29aa275f4c8",
   "metadata": {},
   "outputs": [],
   "source": []
  }
 ],
 "metadata": {
  "jupytext": {
   "formats": "ipynb,auto:hydrogen"
  },
  "kernelspec": {
   "display_name": "Julia 1.8.0-DEV",
   "language": "julia",
   "name": "julia-1.8"
  },
  "language_info": {
   "file_extension": ".jl",
   "mimetype": "application/julia",
   "name": "julia",
   "version": "1.8.0"
  }
 },
 "nbformat": 4,
 "nbformat_minor": 5
}
