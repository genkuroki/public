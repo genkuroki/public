{
 "cells": [
  {
   "cell_type": "code",
   "execution_count": 1,
   "id": "6f6ef560-b41d-4c4e-ab23-7901f4023018",
   "metadata": {},
   "outputs": [
    {
     "name": "stdout",
     "output_type": "stream",
     "text": [
      "f(10 ^ 6) == g(10 ^ 6) = true\n",
      "  11.784 ms (2 allocations: 7.63 MiB)\n",
      "  14.138 ms (2 allocations: 7.63 MiB)\n"
     ]
    }
   ],
   "source": [
    "using BenchmarkTools\n",
    "\n",
    "f(n) = sin.(1:n)\n",
    "g(n) = collect(sin(x) for x in 1:n)\n",
    "\n",
    "@show f(10^6) == g(10^6)\n",
    "@btime f(10^6)\n",
    "@btime g(10^6);"
   ]
  },
  {
   "cell_type": "code",
   "execution_count": 4,
   "id": "de17e8b5-ebe7-49cd-8b75-9adf8d045ba5",
   "metadata": {},
   "outputs": [
    {
     "name": "stdout",
     "output_type": "stream",
     "text": [
      "  11.162 ms (0 allocations: 0 bytes)\n",
      "  11.542 ms (0 allocations: 0 bytes)\n"
     ]
    },
    {
     "data": {
      "text/plain": [
       "-0.11710952409816716"
      ]
     },
     "execution_count": 4,
     "metadata": {},
     "output_type": "execute_result"
    }
   ],
   "source": [
    "@btime sum(sin, 1:10^6)\n",
    "@btime sum(sin(x) for x in 1:10^6)"
   ]
  },
  {
   "cell_type": "code",
   "execution_count": 5,
   "id": "8c8b3041-9306-4670-8ae0-80cedba34b21",
   "metadata": {},
   "outputs": [
    {
     "name": "stdout",
     "output_type": "stream",
     "text": [
      "  6.800 μs (0 allocations: 0 bytes)\n",
      "  4.800 ns (0 allocations: 0 bytes)\n"
     ]
    },
    {
     "data": {
      "text/plain": [
       "333333833333500000"
      ]
     },
     "execution_count": 5,
     "metadata": {},
     "output_type": "execute_result"
    }
   ],
   "source": [
    "square(x) = x^2\n",
    "@btime sum(square, 1:10^6)\n",
    "@btime sum(square(x) for x in 1:10^6)"
   ]
  },
  {
   "cell_type": "code",
   "execution_count": 7,
   "id": "968d2313-e4a1-4883-8427-8ccf5ae872ca",
   "metadata": {},
   "outputs": [
    {
     "data": {
      "text/plain": [
       "Base.Generator{UnitRange{Int64}, typeof(square)}(square, 1:1000000)"
      ]
     },
     "execution_count": 7,
     "metadata": {},
     "output_type": "execute_result"
    }
   ],
   "source": [
    "a = (square(x) for x in 1:10^6)"
   ]
  },
  {
   "cell_type": "code",
   "execution_count": 8,
   "id": "fcac17b2-125c-4340-9f0b-0eea5db11b6e",
   "metadata": {},
   "outputs": [
    {
     "data": {
      "text/html": [
       "mapfoldl_impl(f::<b>F</b>, op::<b>OP</b>, nt, itr)<i> where {F, OP}</i> in Base at <a href=\"https://github.com/JuliaLang/julia/tree/6aaedecc447e3d8226d5027fb13d0c3cbfbfea2a/base/reduce.jl#L42\" target=\"_blank\">reduce.jl:42</a>"
      ],
      "text/plain": [
       "mapfoldl_impl(f::F, op::OP, nt, itr) where {F, OP} in Base at reduce.jl:42"
      ]
     },
     "execution_count": 8,
     "metadata": {},
     "output_type": "execute_result"
    }
   ],
   "source": [
    "@which Base.mapfoldl_impl(identity, Base.add_sum, Base._InitialValue(), a)"
   ]
  },
  {
   "cell_type": "code",
   "execution_count": 9,
   "id": "eb426971-0f37-4794-b32b-50a5d9ccfdf6",
   "metadata": {},
   "outputs": [
    {
     "data": {
      "text/plain": [
       "CodeInfo(\n",
       "\u001b[90m1 ──\u001b[39m %1  = Base.getfield(a, :iter)\u001b[36m::UnitRange{Int64}\u001b[39m\n",
       "\u001b[90m│   \u001b[39m %2  = Base.getfield(%1, :start)\u001b[36m::Int64\u001b[39m\n",
       "\u001b[90m│   \u001b[39m %3  = Base.getfield(%1, :stop)\u001b[36m::Int64\u001b[39m\n",
       "\u001b[90m│   \u001b[39m %4  = Base.slt_int(%3, %2)\u001b[36m::Bool\u001b[39m\n",
       "\u001b[90m└───\u001b[39m       goto #3 if not %4\n",
       "\u001b[90m2 ──\u001b[39m       goto #4\n",
       "\u001b[90m3 ──\u001b[39m %7  = Base.getfield(%1, :start)\u001b[36m::Int64\u001b[39m\n",
       "\u001b[90m│   \u001b[39m %8  = Base.getfield(%1, :start)\u001b[36m::Int64\u001b[39m\n",
       "\u001b[90m└───\u001b[39m       goto #4\n",
       "\u001b[90m4 ┄─\u001b[39m %10 = φ (#2 => true, #3 => false)\u001b[36m::Bool\u001b[39m\n",
       "\u001b[90m│   \u001b[39m %11 = φ (#3 => %7)\u001b[36m::Int64\u001b[39m\n",
       "\u001b[90m│   \u001b[39m %12 = φ (#3 => %8)\u001b[36m::Int64\u001b[39m\n",
       "\u001b[90m└───\u001b[39m       goto #6 if not %10\n",
       "\u001b[90m5 ──\u001b[39m       goto #15\n",
       "\u001b[90m6 ──\u001b[39m %15 = Base.mul_int(%11, %11)\u001b[36m::Int64\u001b[39m\n",
       "\u001b[90m7 ┄─\u001b[39m %16 = φ (#6 => %15, #13 => %31)\u001b[36m::Int64\u001b[39m\n",
       "\u001b[90m│   \u001b[39m %17 = φ (#6 => %12, #13 => %25)\u001b[36m::Int64\u001b[39m\n",
       "\u001b[90m└───\u001b[39m       goto #14 if not true\n",
       "\u001b[90m8 ──\u001b[39m %19 = Base.getfield(%1, :stop)\u001b[36m::Int64\u001b[39m\n",
       "\u001b[90m│   \u001b[39m %20 = (%17 === %19)\u001b[36m::Bool\u001b[39m\n",
       "\u001b[90m└───\u001b[39m       goto #10 if not %20\n",
       "\u001b[90m9 ──\u001b[39m       goto #11\n",
       "\u001b[90m10 ─\u001b[39m %23 = Base.add_int(%17, 1)\u001b[36m::Int64\u001b[39m\n",
       "\u001b[90m└───\u001b[39m       goto #11\n",
       "\u001b[90m11 ┄\u001b[39m %25 = φ (#10 => %23)\u001b[36m::Int64\u001b[39m\n",
       "\u001b[90m│   \u001b[39m %26 = φ (#9 => true, #10 => false)\u001b[36m::Bool\u001b[39m\n",
       "\u001b[90m│   \u001b[39m %27 = φ (#10 => %23)\u001b[36m::Int64\u001b[39m\n",
       "\u001b[90m└───\u001b[39m       goto #13 if not %26\n",
       "\u001b[90m12 ─\u001b[39m       goto #14\n",
       "\u001b[90m13 ─\u001b[39m %30 = Base.mul_int(%27, %27)\u001b[36m::Int64\u001b[39m\n",
       "\u001b[90m│   \u001b[39m %31 = Base.add_int(%16, %30)\u001b[36m::Int64\u001b[39m\n",
       "\u001b[90m└───\u001b[39m       goto #7\n",
       "\u001b[90m14 ┄\u001b[39m       goto #15\n",
       "\u001b[90m15 ┄\u001b[39m %34 = φ (#5 => $(QuoteNode(Base._InitialValue())), #14 => %16)\u001b[36m::Union{Base._InitialValue, Int64}\u001b[39m\n",
       "\u001b[90m│   \u001b[39m %35 = (%34 isa Base._InitialValue)\u001b[36m::Bool\u001b[39m\n",
       "\u001b[90m└───\u001b[39m       goto #19 if not %35\n",
       "\u001b[90m16 ─\u001b[39m       invoke Base.reduce_empty($(QuoteNode(Base.MappingRF{typeof(square), Base.BottomRF{typeof(Base.add_sum)}}(square, Base.BottomRF{typeof(Base.add_sum)}(Base.add_sum))))::Base.MappingRF{typeof(square), Base.BottomRF{typeof(Base.add_sum)}}, Int64::Type{Int64})\u001b[90m::Union{}\u001b[39m\n",
       "\u001b[90m└───\u001b[39m       unreachable\n",
       "\u001b[90m17 ─\u001b[39m       φ ()\u001b[90m::Union{}\u001b[39m\n",
       "\u001b[90m└───\u001b[39m       unreachable\n",
       "\u001b[90m18 ─\u001b[39m       φ ()\u001b[90m::Union{}\u001b[39m\n",
       "\u001b[90m└───\u001b[39m       unreachable\n",
       "\u001b[90m19 ─\u001b[39m %43 = π (%34, \u001b[36mInt64\u001b[39m)\n",
       "\u001b[90m└───\u001b[39m       goto #20\n",
       "\u001b[90m20 ─\u001b[39m       goto #21\n",
       "\u001b[90m21 ─\u001b[39m       goto #22\n",
       "\u001b[90m22 ─\u001b[39m       goto #23\n",
       "\u001b[90m23 ─\u001b[39m       goto #24\n",
       "\u001b[90m24 ─\u001b[39m       goto #25\n",
       "\u001b[90m25 ─\u001b[39m       goto #26\n",
       "\u001b[90m26 ─\u001b[39m       goto #27\n",
       "\u001b[90m27 ─\u001b[39m       goto #28\n",
       "\u001b[90m28 ─\u001b[39m       return %43\n",
       ") => Int64"
      ]
     },
     "execution_count": 9,
     "metadata": {},
     "output_type": "execute_result"
    }
   ],
   "source": [
    "@code_typed sum(square(x) for x in 1:10^6)"
   ]
  },
  {
   "cell_type": "code",
   "execution_count": null,
   "id": "bfe39d3c-3f70-4ba1-84ad-c3fcdfd02781",
   "metadata": {},
   "outputs": [],
   "source": []
  }
 ],
 "metadata": {
  "kernelspec": {
   "display_name": "Julia 1.6.1",
   "language": "julia",
   "name": "julia-1.6"
  },
  "language_info": {
   "file_extension": ".jl",
   "mimetype": "application/julia",
   "name": "julia",
   "version": "1.6.1"
  }
 },
 "nbformat": 4,
 "nbformat_minor": 5
}
