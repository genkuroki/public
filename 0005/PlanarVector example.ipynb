{
 "cells": [
  {
   "cell_type": "code",
   "execution_count": 1,
   "id": "713819ae-e828-44d5-9f79-54d3a8af14fa",
   "metadata": {},
   "outputs": [
    {
     "data": {
      "text/plain": [
       "Main.O"
      ]
     },
     "execution_count": 1,
     "metadata": {},
     "output_type": "execute_result"
    }
   ],
   "source": [
    "module O\n",
    "\n",
    "\"\"\"\n",
    "抽象平面ベクトルの型\n",
    "\"\"\"\n",
    "abstract type AbstractPlanarVector{T} end\n",
    "\n",
    "\"\"\"タプル版和集合(重複を削除)\"\"\"\n",
    "tupleunion(x) = Tuple(unique(x))\n",
    "tupleunion(x, y) = Tuple(unique((x..., y...)))\n",
    "tupleunion(x, y, z...) = tupleunion(tupleunion(x, y), z...)\n",
    "\n",
    "\"\"\"\n",
    "抽象平面ベクトルのpublic propertiesは x と y\n",
    "\n",
    "タブ補完でもx, yしか表示されなくなる。\n",
    "\"\"\"\n",
    "function Base.propertynames(p::AbstractPlanarVector, private=false)\n",
    "    public_properties = (:x, :y)\n",
    "    private && return tupleunion(public_properties, fieldnames(p))\n",
    "    public_properties\n",
    "end\n",
    "\n",
    "\"\"\"\n",
    "抽象平面ベクトルは (x, y) の形式で表示される\n",
    "\"\"\"\n",
    "Base.show(io::IO, p::AbstractPlanarVector) = show(io, (p.x, p.y))\n",
    "\n",
    "\"\"\"\n",
    "平面ベクトルの型\n",
    "\n",
    "x, yをfieldsに持ち、それらがそのままpublic propertiesになる。\n",
    "\"\"\"\n",
    "struct PlanarVector{T} <: AbstractPlanarVector{T} x::T; y::T end\n",
    "\n",
    "\"\"\"\n",
    "標準基底の型\n",
    "\n",
    "x, yをfieldsとして持たず、型のパラメータ i で何番目の基底ベクトルであるかを指定。\n",
    "\"\"\"\n",
    "struct CanonBasis{T, i} <: AbstractPlanarVector{T} end\n",
    "function CanonBasis{T}(i) where T\n",
    "    @assert i == 1 || i == 2\n",
    "    CanonBasis{T, i}()\n",
    "end\n",
    "CanonBasis(i) = CanonBasis{Int}(i)\n",
    "\n",
    "\"\"\"\n",
    "標準基底のpublic propertiesの取得メソッド\n",
    "\n",
    "x, yをfieldsとして持たないので定義してやる必要がある。\n",
    "\n",
    "* i == 1 ⇒ (x, y) = (1, 0)\n",
    "* i == 2 ⇒ (x, y) = (0, 1)\n",
    "\"\"\"\n",
    "function Base.getproperty(::CanonBasis{T, i}, name::Symbol) where {T, i}\n",
    "    name === :x && return ifelse(i == 1, one(T), zero(T))\n",
    "    name === :y && return ifelse(i == 2, one(T), zero(T))\n",
    "    error(\"type CanonBasis has no public property $name\")\n",
    "end\n",
    "\n",
    "########## ベクトルの演算達\n",
    "\n",
    "for op in (:+, :-)\n",
    "    @eval Base.$op(p::AbstractPlanarVector) = PlanarVector($op(p.x), $op(p.y))\n",
    "    @eval Base.$op(p::AbstractPlanarVector{T}, q::AbstractPlanarVector{U}) where {T, U} =\n",
    "        PlanarVector{promote_type(T, U)}($op(p.x, q.x), $op(p.y, q.y))\n",
    "end\n",
    "\n",
    "Base.:*(a::T, p::AbstractPlanarVector{U}) where {T, U} =\n",
    "    PlanarVector{promote_type(T, U)}(*(a, p.x), *(a, p.y))\n",
    "Base.:*(p::AbstractPlanarVector{U}, a::T) where {T, U} =\n",
    "    PlanarVector{promote_type(T, U)}(*(p.x, a), *(p.y, a))\n",
    "Base.:\\(a, p::AbstractPlanarVector) = inv(a) * p\n",
    "Base.:/(p::AbstractPlanarVector, a) = p * inv(a)\n",
    "\n",
    "using LinearAlgebra\n",
    "\n",
    "LinearAlgebra.dot(p::AbstractPlanarVector, q::AbstractPlanarVector) =\n",
    "    conj(p.x) * q.x + conj(p.y) * q.y\n",
    "LinearAlgebra.dot(p::CanonBasis{T, i}, q::AbstractPlanarVector) where {T, i} =\n",
    "    i == 1 ? q.x : q.y\n",
    "LinearAlgebra.dot(p::AbstractPlanarVector, q::CanonBasis{T, i}) where {T, i} =\n",
    "    conj(i == 1 ? p.x : p.y)\n",
    "LinearAlgebra.dot(p::CanonBasis{T, i}, q::CanonBasis{U, j}) where {T, i, U, j} =\n",
    "    (P = promote_type(T, U); i == j ? one(P) : zero(P))\n",
    "\n",
    "end"
   ]
  },
  {
   "cell_type": "code",
   "execution_count": 2,
   "id": "fdedbd30-3b09-41bc-8b72-070c232b4e0d",
   "metadata": {},
   "outputs": [
    {
     "data": {
      "text/plain": [
       "(2, 3)"
      ]
     },
     "execution_count": 2,
     "metadata": {},
     "output_type": "execute_result"
    }
   ],
   "source": [
    "p = O.PlanarVector(2, 3)"
   ]
  },
  {
   "cell_type": "code",
   "execution_count": 3,
   "id": "7c12685b-da6e-4fe9-9cce-36c803dcd750",
   "metadata": {},
   "outputs": [
    {
     "data": {
      "text/plain": [
       "(-5.0, 10.0)"
      ]
     },
     "execution_count": 3,
     "metadata": {},
     "output_type": "execute_result"
    }
   ],
   "source": [
    "q = O.PlanarVector(-5.0, 10.0)"
   ]
  },
  {
   "cell_type": "code",
   "execution_count": 4,
   "id": "c7ff79e5-dc06-4b0a-96d7-90c137250c45",
   "metadata": {},
   "outputs": [
    {
     "data": {
      "text/plain": [
       "(-3.0, 13.0)"
      ]
     },
     "execution_count": 4,
     "metadata": {},
     "output_type": "execute_result"
    }
   ],
   "source": [
    "p + q"
   ]
  },
  {
   "cell_type": "code",
   "execution_count": 5,
   "id": "9cc6e94d-aeb9-4457-9fe3-bdf339950d93",
   "metadata": {},
   "outputs": [
    {
     "data": {
      "text/plain": [
       "(-26.0, 31.0)"
      ]
     },
     "execution_count": 5,
     "metadata": {},
     "output_type": "execute_result"
    }
   ],
   "source": [
    "-3p + 4q"
   ]
  },
  {
   "cell_type": "code",
   "execution_count": 6,
   "id": "3a7216be-4d9d-47a7-b655-22f27b471d39",
   "metadata": {},
   "outputs": [
    {
     "data": {
      "text/plain": [
       "20.0"
      ]
     },
     "execution_count": 6,
     "metadata": {},
     "output_type": "execute_result"
    }
   ],
   "source": [
    "O.dot(p, q)"
   ]
  },
  {
   "cell_type": "code",
   "execution_count": 7,
   "id": "dfdfcbf3-ed5e-4b99-ab95-85f82446ea90",
   "metadata": {},
   "outputs": [
    {
     "data": {
      "text/plain": [
       "(1, 0)"
      ]
     },
     "execution_count": 7,
     "metadata": {},
     "output_type": "execute_result"
    }
   ],
   "source": [
    "e1 = O.CanonBasis(1)"
   ]
  },
  {
   "cell_type": "code",
   "execution_count": 8,
   "id": "ceaebb24-0a48-42c1-a5e1-42f543feb7e0",
   "metadata": {},
   "outputs": [
    {
     "data": {
      "text/plain": [
       "(0, 1)"
      ]
     },
     "execution_count": 8,
     "metadata": {},
     "output_type": "execute_result"
    }
   ],
   "source": [
    "e2 = O.CanonBasis(2)"
   ]
  },
  {
   "cell_type": "code",
   "execution_count": 9,
   "id": "9d3680ad-27ad-4fde-89ed-afa2376e97b1",
   "metadata": {},
   "outputs": [
    {
     "data": {
      "text/plain": [
       "0"
      ]
     },
     "execution_count": 9,
     "metadata": {},
     "output_type": "execute_result"
    }
   ],
   "source": [
    "O.dot(e1, e2)"
   ]
  },
  {
   "cell_type": "code",
   "execution_count": 10,
   "id": "0b2af948-a5b0-47af-b1cc-35ac5ad366f9",
   "metadata": {},
   "outputs": [
    {
     "data": {
      "text/plain": [
       "1.0 + 0.0im"
      ]
     },
     "execution_count": 10,
     "metadata": {},
     "output_type": "execute_result"
    }
   ],
   "source": [
    "O.dot(O.CanonBasis{ComplexF64}(1), e1)"
   ]
  },
  {
   "cell_type": "code",
   "execution_count": 11,
   "id": "4044fd05-7d2e-450e-8e54-0b8107dedbe4",
   "metadata": {},
   "outputs": [
    {
     "data": {
      "text/plain": [
       "(1, -1)"
      ]
     },
     "execution_count": 11,
     "metadata": {},
     "output_type": "execute_result"
    }
   ],
   "source": [
    "e1 - e2"
   ]
  },
  {
   "cell_type": "code",
   "execution_count": 12,
   "id": "ef71fad5-0f6a-4fb8-a2d2-b96a0b1f0a1b",
   "metadata": {},
   "outputs": [
    {
     "data": {
      "text/plain": [
       "(3.0, -0.5)"
      ]
     },
     "execution_count": 12,
     "metadata": {},
     "output_type": "execute_result"
    }
   ],
   "source": [
    "3*e1 - e2/2"
   ]
  },
  {
   "cell_type": "code",
   "execution_count": 13,
   "id": "f0644451-3194-4f74-961f-c99932f12298",
   "metadata": {},
   "outputs": [
    {
     "data": {
      "text/plain": [
       "(2, 3)"
      ]
     },
     "execution_count": 13,
     "metadata": {},
     "output_type": "execute_result"
    }
   ],
   "source": [
    "p.x, p.y"
   ]
  },
  {
   "cell_type": "code",
   "execution_count": 14,
   "id": "86e2d4c8-367e-4922-9bac-fdda48a9bf6a",
   "metadata": {},
   "outputs": [
    {
     "data": {
      "text/plain": [
       "(1, 0)"
      ]
     },
     "execution_count": 14,
     "metadata": {},
     "output_type": "execute_result"
    }
   ],
   "source": [
    "e1.x, e1.y"
   ]
  },
  {
   "cell_type": "code",
   "execution_count": 15,
   "id": "dad665ca-964c-46e9-a45e-01102893ed2f",
   "metadata": {},
   "outputs": [
    {
     "data": {
      "text/plain": [
       "gety (generic function with 1 method)"
      ]
     },
     "execution_count": 15,
     "metadata": {},
     "output_type": "execute_result"
    }
   ],
   "source": [
    "getx(p::O.AbstractPlanarVector) = p.x\n",
    "gety(p::O.AbstractPlanarVector) = p.y"
   ]
  },
  {
   "cell_type": "code",
   "execution_count": 16,
   "id": "c51ab920-3cf5-44a5-a206-545bc7960b5a",
   "metadata": {},
   "outputs": [
    {
     "data": {
      "text/plain": [
       "(2, 3)"
      ]
     },
     "execution_count": 16,
     "metadata": {},
     "output_type": "execute_result"
    }
   ],
   "source": [
    "getx(p), gety(p)"
   ]
  },
  {
   "cell_type": "code",
   "execution_count": 17,
   "id": "596d6197-0058-4371-9f9a-ea05ca3784bd",
   "metadata": {},
   "outputs": [
    {
     "data": {
      "text/plain": [
       "CodeInfo(\n",
       "\u001b[90m1 ─\u001b[39m %1 = Base.getfield(p, :x)\u001b[36m::Int64\u001b[39m\n",
       "\u001b[90m└──\u001b[39m      return %1\n",
       ") => Int64"
      ]
     },
     "execution_count": 17,
     "metadata": {},
     "output_type": "execute_result"
    }
   ],
   "source": [
    "@code_typed getx(p)"
   ]
  },
  {
   "cell_type": "code",
   "execution_count": 18,
   "id": "d1ec4fba-9218-421e-a0aa-1d157095d7e5",
   "metadata": {},
   "outputs": [
    {
     "data": {
      "text/plain": [
       "CodeInfo(\n",
       "\u001b[90m1 ─\u001b[39m %1 = Base.getfield(p, :y)\u001b[36m::Float64\u001b[39m\n",
       "\u001b[90m└──\u001b[39m      return %1\n",
       ") => Float64"
      ]
     },
     "execution_count": 18,
     "metadata": {},
     "output_type": "execute_result"
    }
   ],
   "source": [
    "@code_typed gety(q)"
   ]
  },
  {
   "cell_type": "code",
   "execution_count": 19,
   "id": "c0a920cd-9057-40b3-b5c6-b44fc54685c5",
   "metadata": {},
   "outputs": [
    {
     "data": {
      "text/plain": [
       "CodeInfo(\n",
       "\u001b[90m1 ─\u001b[39m     return 1\n",
       ") => Int64"
      ]
     },
     "execution_count": 19,
     "metadata": {},
     "output_type": "execute_result"
    }
   ],
   "source": [
    "@code_typed getx(e1)"
   ]
  },
  {
   "cell_type": "code",
   "execution_count": 20,
   "id": "df408d42-39bf-4f31-a673-c36aba860bf4",
   "metadata": {},
   "outputs": [
    {
     "data": {
      "text/plain": [
       "CodeInfo(\n",
       "\u001b[90m1 ─\u001b[39m     return 0\n",
       ") => Int64"
      ]
     },
     "execution_count": 20,
     "metadata": {},
     "output_type": "execute_result"
    }
   ],
   "source": [
    "@code_typed gety(e1)"
   ]
  },
  {
   "cell_type": "code",
   "execution_count": 21,
   "id": "c7cee7e4-c693-46a4-8fa9-3fef146b73c9",
   "metadata": {},
   "outputs": [
    {
     "data": {
      "text/plain": [
       "CodeInfo(\n",
       "\u001b[90m1 ─\u001b[39m %1 = Base.getfield(p, :x)\u001b[36m::Int64\u001b[39m\n",
       "\u001b[90m│  \u001b[39m %2 = Base.getfield(q, :x)\u001b[36m::Float64\u001b[39m\n",
       "\u001b[90m│  \u001b[39m %3 = Base.sitofp(Float64, %1)\u001b[36m::Float64\u001b[39m\n",
       "\u001b[90m│  \u001b[39m %4 = Base.mul_float(%3, %2)\u001b[36m::Float64\u001b[39m\n",
       "\u001b[90m│  \u001b[39m %5 = Base.getfield(p, :y)\u001b[36m::Int64\u001b[39m\n",
       "\u001b[90m│  \u001b[39m %6 = Base.getfield(q, :y)\u001b[36m::Float64\u001b[39m\n",
       "\u001b[90m│  \u001b[39m %7 = Base.sitofp(Float64, %5)\u001b[36m::Float64\u001b[39m\n",
       "\u001b[90m│  \u001b[39m %8 = Base.mul_float(%7, %6)\u001b[36m::Float64\u001b[39m\n",
       "\u001b[90m│  \u001b[39m %9 = Base.add_float(%4, %8)\u001b[36m::Float64\u001b[39m\n",
       "\u001b[90m└──\u001b[39m      return %9\n",
       ") => Float64"
      ]
     },
     "execution_count": 21,
     "metadata": {},
     "output_type": "execute_result"
    }
   ],
   "source": [
    "@code_typed O.dot(p, q)"
   ]
  },
  {
   "cell_type": "code",
   "execution_count": 22,
   "id": "5dd948d1-73a4-4873-8883-354274361e55",
   "metadata": {},
   "outputs": [
    {
     "data": {
      "text/plain": [
       "CodeInfo(\n",
       "\u001b[90m1 ─\u001b[39m %1 = Base.getfield(q, :x)\u001b[36m::Float64\u001b[39m\n",
       "\u001b[90m└──\u001b[39m      return %1\n",
       ") => Float64"
      ]
     },
     "execution_count": 22,
     "metadata": {},
     "output_type": "execute_result"
    }
   ],
   "source": [
    "@code_typed O.dot(e1, q)"
   ]
  },
  {
   "cell_type": "code",
   "execution_count": 23,
   "id": "dbb661a2-7ac0-4ea2-a076-29401d2013be",
   "metadata": {},
   "outputs": [
    {
     "data": {
      "text/plain": [
       "CodeInfo(\n",
       "\u001b[90m1 ─\u001b[39m      goto #3 if not false\n",
       "\u001b[90m2 ─\u001b[39m      nothing\u001b[90m::Nothing\u001b[39m\n",
       "\u001b[90m3 ┄\u001b[39m %3 = Base.getfield(p, :y)\u001b[36m::Int64\u001b[39m\n",
       "\u001b[90m└──\u001b[39m      return %3\n",
       ") => Int64"
      ]
     },
     "execution_count": 23,
     "metadata": {},
     "output_type": "execute_result"
    }
   ],
   "source": [
    "@code_typed O.dot(p, e2)"
   ]
  },
  {
   "cell_type": "code",
   "execution_count": 24,
   "id": "fa963a79-bb29-4107-8fd2-87643abe15e6",
   "metadata": {},
   "outputs": [
    {
     "name": "stdout",
     "output_type": "stream",
     "text": [
      "\u001b[90m;  @ In[1]:83 within `dot`\u001b[39m\n",
      "\u001b[90m; Function Attrs: uwtable\u001b[39m\n",
      "\u001b[95mdefine\u001b[39m \u001b[36mi64\u001b[39m \u001b[93m@julia_dot_1882\u001b[39m\u001b[33m(\u001b[39m\u001b[33m[\u001b[39m\u001b[33m2\u001b[39m \u001b[0mx \u001b[36mi64\u001b[39m\u001b[33m]\u001b[39m\u001b[0m* \u001b[95mnocapture\u001b[39m \u001b[95mnonnull\u001b[39m \u001b[95mreadonly\u001b[39m \u001b[95malign\u001b[39m \u001b[33m8\u001b[39m \u001b[95mdereferenceable\u001b[39m\u001b[33m(\u001b[39m\u001b[33m16\u001b[39m\u001b[33m)\u001b[39m \u001b[0m%0\u001b[33m)\u001b[39m \u001b[0m#0 \u001b[33m{\u001b[39m\n",
      "\u001b[91mtop:\u001b[39m\n",
      "\u001b[90m; ┌ @ Base.jl:42 within `getproperty`\u001b[39m\n",
      "   \u001b[0m%1 \u001b[0m= \u001b[96m\u001b[1mgetelementptr\u001b[22m\u001b[39m \u001b[95minbounds\u001b[39m \u001b[33m[\u001b[39m\u001b[33m2\u001b[39m \u001b[0mx \u001b[36mi64\u001b[39m\u001b[33m]\u001b[39m\u001b[0m, \u001b[33m[\u001b[39m\u001b[33m2\u001b[39m \u001b[0mx \u001b[36mi64\u001b[39m\u001b[33m]\u001b[39m\u001b[0m* \u001b[0m%0\u001b[0m, \u001b[36mi64\u001b[39m \u001b[33m0\u001b[39m\u001b[0m, \u001b[36mi64\u001b[39m \u001b[33m1\u001b[39m\n",
      "\u001b[90m; └\u001b[39m\n",
      "  \u001b[0m%2 \u001b[0m= \u001b[96m\u001b[1mload\u001b[22m\u001b[39m \u001b[36mi64\u001b[39m\u001b[0m, \u001b[36mi64\u001b[39m\u001b[0m* \u001b[0m%1\u001b[0m, \u001b[95malign\u001b[39m \u001b[33m8\u001b[39m\n",
      "  \u001b[96m\u001b[1mret\u001b[22m\u001b[39m \u001b[36mi64\u001b[39m \u001b[0m%2\n",
      "\u001b[33m}\u001b[39m\n"
     ]
    }
   ],
   "source": [
    "@code_llvm O.dot(p, e2)"
   ]
  },
  {
   "cell_type": "code",
   "execution_count": 25,
   "id": "72779b5d-b2d7-42db-b935-6f51d5d99bc7",
   "metadata": {},
   "outputs": [
    {
     "data": {
      "text/plain": [
       "CodeInfo(\n",
       "\u001b[90m1 ─\u001b[39m     return 1\n",
       ") => Int64"
      ]
     },
     "execution_count": 25,
     "metadata": {},
     "output_type": "execute_result"
    }
   ],
   "source": [
    "@code_typed O.dot(e1, e1)"
   ]
  },
  {
   "cell_type": "code",
   "execution_count": 26,
   "id": "681425b2-80ca-4600-8aa3-5a0e6ac275d3",
   "metadata": {},
   "outputs": [
    {
     "data": {
      "text/plain": [
       "CodeInfo(\n",
       "\u001b[90m1 ─\u001b[39m     goto #3 if not false\n",
       "\u001b[90m2 ─\u001b[39m     nothing\u001b[90m::Nothing\u001b[39m\n",
       "\u001b[90m3 ┄\u001b[39m     return 0\n",
       ") => Int64"
      ]
     },
     "execution_count": 26,
     "metadata": {},
     "output_type": "execute_result"
    }
   ],
   "source": [
    "@code_typed O.dot(e1, e2)"
   ]
  },
  {
   "cell_type": "code",
   "execution_count": 27,
   "id": "de21c10e-36cf-422b-92b7-adcc91e6eaa4",
   "metadata": {},
   "outputs": [
    {
     "name": "stdout",
     "output_type": "stream",
     "text": [
      "\u001b[90m;  @ In[1]:85 within `dot`\u001b[39m\n",
      "\u001b[90m; Function Attrs: uwtable\u001b[39m\n",
      "\u001b[95mdefine\u001b[39m \u001b[36mi64\u001b[39m \u001b[93m@julia_dot_1912\u001b[39m\u001b[33m(\u001b[39m\u001b[33m)\u001b[39m \u001b[0m#0 \u001b[33m{\u001b[39m\n",
      "\u001b[91mtop:\u001b[39m\n",
      "  \u001b[96m\u001b[1mret\u001b[22m\u001b[39m \u001b[36mi64\u001b[39m \u001b[33m0\u001b[39m\n",
      "\u001b[33m}\u001b[39m\n"
     ]
    }
   ],
   "source": [
    "@code_llvm O.dot(e1, e2)"
   ]
  },
  {
   "cell_type": "code",
   "execution_count": 28,
   "id": "fc395719-6b46-43ab-bb3c-f2767b88df34",
   "metadata": {},
   "outputs": [
    {
     "name": "stdout",
     "output_type": "stream",
     "text": [
      "sum(Base.Fix1(O.dot, a), v) == sum(Base.Fix1(O.dot, e), v) = true\n",
      "  696.300 μs (0 allocations: 0 bytes)\n",
      "  643.000 μs (0 allocations: 0 bytes)\n"
     ]
    },
    {
     "data": {
      "text/plain": [
       "146.50529042279067"
      ]
     },
     "execution_count": 28,
     "metadata": {},
     "output_type": "execute_result"
    }
   ],
   "source": [
    "using BenchmarkTools\n",
    "n = 10^6\n",
    "v = [O.PlanarVector(randn(2)...) for _ in 1:n]\n",
    "a = O.PlanarVector(1, 0)\n",
    "e = O.CanonBasis(1)\n",
    "\n",
    "@show sum(Base.Fix1(O.dot, a), v) == sum(Base.Fix1(O.dot, e), v)\n",
    "@btime sum($(Base.Fix1(O.dot, a)), $v)\n",
    "@btime sum($(Base.Fix1(O.dot, e)), $v)"
   ]
  },
  {
   "cell_type": "code",
   "execution_count": 29,
   "id": "35387a52-3586-45b6-bceb-b272b4cda277",
   "metadata": {},
   "outputs": [
    {
     "name": "stdout",
     "output_type": "stream",
     "text": [
      "\t\u001b[0m.text\n",
      "\t\u001b[96m\u001b[1mpushq\u001b[22m\u001b[39m\t\u001b[0m%rbp\n",
      "\t\u001b[96m\u001b[1mmovq\u001b[22m\u001b[39m\t\u001b[0m%rsp\u001b[0m, \u001b[0m%rbp\n",
      "\t\u001b[96m\u001b[1mvcvtsi2sdq\u001b[22m\u001b[39m\t\u001b[33m(\u001b[39m\u001b[0m%rcx\u001b[33m)\u001b[39m\u001b[0m, \u001b[0m%xmm0\u001b[0m, \u001b[0m%xmm0\n",
      "\t\u001b[96m\u001b[1mvmulsd\u001b[22m\u001b[39m\t\u001b[33m(\u001b[39m\u001b[0m%rdx\u001b[33m)\u001b[39m\u001b[0m, \u001b[0m%xmm0\u001b[0m, \u001b[0m%xmm0\n",
      "\t\u001b[96m\u001b[1mvcvtsi2sdq\u001b[22m\u001b[39m\t\u001b[33m8\u001b[39m\u001b[33m(\u001b[39m\u001b[0m%rcx\u001b[33m)\u001b[39m\u001b[0m, \u001b[0m%xmm1\u001b[0m, \u001b[0m%xmm1\n",
      "\t\u001b[96m\u001b[1mvmulsd\u001b[22m\u001b[39m\t\u001b[33m8\u001b[39m\u001b[33m(\u001b[39m\u001b[0m%rdx\u001b[33m)\u001b[39m\u001b[0m, \u001b[0m%xmm1\u001b[0m, \u001b[0m%xmm1\n",
      "\t\u001b[96m\u001b[1mvaddsd\u001b[22m\u001b[39m\t\u001b[0m%xmm1\u001b[0m, \u001b[0m%xmm0\u001b[0m, \u001b[0m%xmm0\n",
      "\t\u001b[96m\u001b[1mpopq\u001b[22m\u001b[39m\t\u001b[0m%rbp\n",
      "\t\u001b[96m\u001b[1mretq\u001b[22m\u001b[39m\n",
      "\t\u001b[96m\u001b[1mnop\u001b[22m\u001b[39m\n"
     ]
    }
   ],
   "source": [
    "@code_native debuginfo=:none O.dot(a, q)"
   ]
  },
  {
   "cell_type": "code",
   "execution_count": 30,
   "id": "843456f1-b2ab-4ef6-9519-132f710339d2",
   "metadata": {},
   "outputs": [
    {
     "name": "stdout",
     "output_type": "stream",
     "text": [
      "\t\u001b[0m.text\n",
      "\t\u001b[96m\u001b[1mpushq\u001b[22m\u001b[39m\t\u001b[0m%rbp\n",
      "\t\u001b[96m\u001b[1mmovq\u001b[22m\u001b[39m\t\u001b[0m%rsp\u001b[0m, \u001b[0m%rbp\n",
      "\t\u001b[96m\u001b[1mvmovsd\u001b[22m\u001b[39m\t\u001b[33m(\u001b[39m\u001b[0m%rcx\u001b[33m)\u001b[39m\u001b[0m, \u001b[0m%xmm0                   \u001b[90m# xmm0 = mem[0],zero\u001b[39m\n",
      "\t\u001b[96m\u001b[1mpopq\u001b[22m\u001b[39m\t\u001b[0m%rbp\n",
      "\t\u001b[96m\u001b[1mretq\u001b[22m\u001b[39m\n",
      "\t\u001b[96m\u001b[1mnopw\u001b[22m\u001b[39m\t\u001b[33m(\u001b[39m\u001b[0m%rax\u001b[0m,\u001b[0m%rax\u001b[33m)\u001b[39m\n"
     ]
    }
   ],
   "source": [
    "@code_native debuginfo=:none O.dot(e, q)"
   ]
  },
  {
   "cell_type": "code",
   "execution_count": null,
   "id": "fa136191-50db-4dec-9c3c-b7d8f736aa68",
   "metadata": {},
   "outputs": [],
   "source": []
  }
 ],
 "metadata": {
  "jupytext": {
   "formats": "ipynb,auto:hydrogen"
  },
  "kernelspec": {
   "display_name": "Julia 1.8.0-DEV",
   "language": "julia",
   "name": "julia-1.8"
  },
  "language_info": {
   "file_extension": ".jl",
   "mimetype": "application/julia",
   "name": "julia",
   "version": "1.8.0"
  }
 },
 "nbformat": 4,
 "nbformat_minor": 5
}
