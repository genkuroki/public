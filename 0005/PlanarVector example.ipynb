{
 "cells": [
  {
   "cell_type": "code",
   "execution_count": 1,
   "id": "51c8a1de-152d-4425-ab87-3654d06b869a",
   "metadata": {},
   "outputs": [
    {
     "data": {
      "text/latex": [
       "\\begin{verbatim}\n",
       "propertynames(x, private=false)\n",
       "\\end{verbatim}\n",
       "Get a tuple or a vector of the properties (\\texttt{x.property}) of an object \\texttt{x}. This is typically the same as \\href{@ref}{\\texttt{fieldnames(typeof(x))}}, but types that overload \\href{@ref}{\\texttt{getproperty}} should generally overload \\texttt{propertynames} as well to get the properties of an instance of the type.\n",
       "\n",
       "\\texttt{propertynames(x)} may return only \"public\" property names that are part of the documented interface of \\texttt{x}.   If you want it to also return \"private\" fieldnames intended for internal use, pass \\texttt{true} for the optional second argument. REPL tab completion on \\texttt{x.} shows only the \\texttt{private=false} properties.\n",
       "\n",
       "See also: \\href{@ref}{\\texttt{hasproperty}}, \\href{@ref}{\\texttt{hasfield}}.\n",
       "\n"
      ],
      "text/markdown": [
       "```\n",
       "propertynames(x, private=false)\n",
       "```\n",
       "\n",
       "Get a tuple or a vector of the properties (`x.property`) of an object `x`. This is typically the same as [`fieldnames(typeof(x))`](@ref), but types that overload [`getproperty`](@ref) should generally overload `propertynames` as well to get the properties of an instance of the type.\n",
       "\n",
       "`propertynames(x)` may return only \"public\" property names that are part of the documented interface of `x`.   If you want it to also return \"private\" fieldnames intended for internal use, pass `true` for the optional second argument. REPL tab completion on `x.` shows only the `private=false` properties.\n",
       "\n",
       "See also: [`hasproperty`](@ref), [`hasfield`](@ref).\n"
      ],
      "text/plain": [
       "\u001b[36m  propertynames(x, private=false)\u001b[39m\n",
       "\n",
       "  Get a tuple or a vector of the properties (\u001b[36mx.property\u001b[39m) of an object \u001b[36mx\u001b[39m. This\n",
       "  is typically the same as \u001b[36mfieldnames(typeof(x))\u001b[39m, but types that overload\n",
       "  \u001b[36mgetproperty\u001b[39m should generally overload \u001b[36mpropertynames\u001b[39m as well to get the\n",
       "  properties of an instance of the type.\n",
       "\n",
       "  \u001b[36mpropertynames(x)\u001b[39m may return only \"public\" property names that are part of\n",
       "  the documented interface of \u001b[36mx\u001b[39m. If you want it to also return \"private\"\n",
       "  fieldnames intended for internal use, pass \u001b[36mtrue\u001b[39m for the optional second\n",
       "  argument. REPL tab completion on \u001b[36mx.\u001b[39m shows only the \u001b[36mprivate=false\u001b[39m properties.\n",
       "\n",
       "  See also: \u001b[36mhasproperty\u001b[39m, \u001b[36mhasfield\u001b[39m."
      ]
     },
     "execution_count": 1,
     "metadata": {},
     "output_type": "execute_result"
    }
   ],
   "source": [
    "# privateとpublicの区別は`Base.propertynames`の定義で行える。\n",
    "@doc propertynames"
   ]
  },
  {
   "cell_type": "code",
   "execution_count": 2,
   "id": "713819ae-e828-44d5-9f79-54d3a8af14fa",
   "metadata": {},
   "outputs": [
    {
     "data": {
      "text/plain": [
       "Main.O"
      ]
     },
     "execution_count": 2,
     "metadata": {},
     "output_type": "execute_result"
    }
   ],
   "source": [
    "module O\n",
    "\n",
    "\"\"\"\n",
    "抽象平面ベクトルの型\n",
    "\"\"\"\n",
    "abstract type AbstractPlanarVector{T} end\n",
    "\n",
    "\"\"\"タプル版和集合(重複を削除)\"\"\"\n",
    "tupleunion(x) = Tuple(unique(x))\n",
    "tupleunion(x, y) = Tuple(unique((x..., y...)))\n",
    "tupleunion(x, y, z...) = tupleunion(tupleunion(x, y), z...)\n",
    "\n",
    "\"\"\"\n",
    "抽象平面ベクトルのpublic propertiesは x と y\n",
    "\n",
    "タブ補完でもx, yしか表示されなくなる。\n",
    "\"\"\"\n",
    "function Base.propertynames(p::AbstractPlanarVector, private=false)\n",
    "    public_properties = (:x, :y)\n",
    "    private && return tupleunion(public_properties, fieldnames(p))\n",
    "    public_properties\n",
    "end\n",
    "\n",
    "\"\"\"\n",
    "抽象平面ベクトルは (x, y) の形式で表示される\n",
    "\"\"\"\n",
    "Base.show(io::IO, p::AbstractPlanarVector) = show(io, (p.x, p.y))\n",
    "\n",
    "\"\"\"\n",
    "AbstractPlanarVector{T}型の抽象平面ベクトルの成分の型は T\n",
    "\"\"\"\n",
    "Base.eltype(x::AbstractPlanarVector{T}) where T = T\n",
    "\n",
    "\"\"\"\n",
    "平面ベクトルの型\n",
    "\n",
    "x, yをfieldsに持ち、それらがそのままpublic propertiesになる。\n",
    "\"\"\"\n",
    "struct PlanarVector{T} <: AbstractPlanarVector{T} x::T; y::T end\n",
    "\n",
    "\"\"\"\n",
    "標準基底の型\n",
    "\n",
    "x, yをfieldsとして持たず、型のパラメータ i で何番目の基底ベクトルであるかを指定。\n",
    "\"\"\"\n",
    "struct CanonBasis{T, i} <: AbstractPlanarVector{T} end\n",
    "function CanonBasis{T}(i) where T\n",
    "    @assert i == 1 || i == 2\n",
    "    CanonBasis{T, i}()\n",
    "end\n",
    "CanonBasis(i) = CanonBasis{Int}(i)\n",
    "\n",
    "\"\"\"\n",
    "標準基底のpublic propertiesの取得メソッド\n",
    "\n",
    "x, yをfieldsとして持たないので定義してやる必要がある。\n",
    "\n",
    "* i == 1 ⇒ (x, y) = (1, 0)\n",
    "* i == 2 ⇒ (x, y) = (0, 1)\n",
    "\"\"\"\n",
    "function Base.getproperty(::CanonBasis{T, i}, name::Symbol) where {T, i}\n",
    "    name === :x && return ifelse(i == 1, one(T), zero(T))\n",
    "    name === :y && return ifelse(i == 2, one(T), zero(T))\n",
    "    error(\"type CanonBasis has no public property $name\")\n",
    "end\n",
    "\n",
    "########## ベクトルの演算達\n",
    "\n",
    "# 抽象平面ベクトル p, q について、 +p, -p, p + q, p - q を定義\n",
    "for op in (:+, :-)\n",
    "    @eval Base.$op(p::AbstractPlanarVector) = PlanarVector($op(p.x), $op(p.y))\n",
    "    @eval Base.$op(p::AbstractPlanarVector, q::AbstractPlanarVector) =\n",
    "        PlanarVector($op(p.x, q.x), $op(p.y, q.y))\n",
    "end\n",
    "\n",
    "# 抽象平面ベクトル p とスカラー a について、 a * p, p * a, a \\ p, p / a を定義\n",
    "Base.:*(a, p::AbstractPlanarVector) = PlanarVector(a * p.x, a * p.y)\n",
    "Base.:*(p::AbstractPlanarVector, a) = PlanarVector(p.x * a, p.y * a)\n",
    "Base.:\\(a, p::AbstractPlanarVector) = PlanarVector(a \\ p.x, a \\ p.y)\n",
    "Base.:/(p::AbstractPlanarVector, a) = PlanarVector(p.x / a, p.y / a)\n",
    "\n",
    "# LinearAlgebra の dot の定義の準備\n",
    "using LinearAlgebra\n",
    "\n",
    "##### 抽象ベクトルの内積を定義\n",
    "\n",
    "# まず、一般的な定義式で内積を定義\n",
    "LinearAlgebra.dot(p::AbstractPlanarVector, q::AbstractPlanarVector) =\n",
    "    conj(p.x) * q.x + conj(p.y) * q.y\n",
    "\n",
    "# 次に、標準基底の場合に特殊化した定義を行う。多重ディスパッチを本質的に使っている。\n",
    "LinearAlgebra.dot(p::CanonBasis{T, i}, q::AbstractPlanarVector{U}) where {T, i, U} =\n",
    "    (P = promote_type(T, U); P(i == 1 ? q.x : q.y))\n",
    "LinearAlgebra.dot(p::AbstractPlanarVector{U}, q::CanonBasis{T, i}) where {U, T, i} =\n",
    "    (P = promote_type(T, U); P(conj(i == 1 ? p.x : p.y)))\n",
    "\n",
    "# Juliaの多重ディスパッチでは上の2つの場合のintersectionの場合の定義もしておく必要がある。\n",
    "LinearAlgebra.dot(p::CanonBasis{T, i}, q::CanonBasis{U, j}) where {T, i, U, j} =\n",
    "    (P = promote_type(T, U); i == j ? one(P) : zero(P))\n",
    "\n",
    "end"
   ]
  },
  {
   "cell_type": "code",
   "execution_count": 3,
   "id": "fdedbd30-3b09-41bc-8b72-070c232b4e0d",
   "metadata": {},
   "outputs": [
    {
     "data": {
      "text/plain": [
       "(2 + 1im, 3 + 1im)"
      ]
     },
     "execution_count": 3,
     "metadata": {},
     "output_type": "execute_result"
    }
   ],
   "source": [
    "p = O.PlanarVector(2+im, 3+im)"
   ]
  },
  {
   "cell_type": "code",
   "execution_count": 4,
   "id": "7c12685b-da6e-4fe9-9cce-36c803dcd750",
   "metadata": {},
   "outputs": [
    {
     "data": {
      "text/plain": [
       "(-5.0, 10.0)"
      ]
     },
     "execution_count": 4,
     "metadata": {},
     "output_type": "execute_result"
    }
   ],
   "source": [
    "q = O.PlanarVector(-5.0, 10.0)"
   ]
  },
  {
   "cell_type": "code",
   "execution_count": 5,
   "id": "c7ff79e5-dc06-4b0a-96d7-90c137250c45",
   "metadata": {},
   "outputs": [
    {
     "data": {
      "text/plain": [
       "(-3.0 + 1.0im, 13.0 + 1.0im)"
      ]
     },
     "execution_count": 5,
     "metadata": {},
     "output_type": "execute_result"
    }
   ],
   "source": [
    "p + q"
   ]
  },
  {
   "cell_type": "code",
   "execution_count": 6,
   "id": "9bf1c576-8864-47de-a3e0-5010a1ca03fe",
   "metadata": {},
   "outputs": [
    {
     "data": {
      "text/plain": [
       "ComplexF64 (alias for Complex{Float64})"
      ]
     },
     "execution_count": 6,
     "metadata": {},
     "output_type": "execute_result"
    }
   ],
   "source": [
    "eltype(p + q)"
   ]
  },
  {
   "cell_type": "code",
   "execution_count": 7,
   "id": "9cc6e94d-aeb9-4457-9fe3-bdf339950d93",
   "metadata": {},
   "outputs": [
    {
     "data": {
      "text/plain": [
       "(-26.0 - 3.0im, 31.0 - 3.0im)"
      ]
     },
     "execution_count": 7,
     "metadata": {},
     "output_type": "execute_result"
    }
   ],
   "source": [
    "-3p + 4q"
   ]
  },
  {
   "cell_type": "code",
   "execution_count": 8,
   "id": "3a7216be-4d9d-47a7-b655-22f27b471d39",
   "metadata": {},
   "outputs": [
    {
     "data": {
      "text/plain": [
       "20.0 - 5.0im"
      ]
     },
     "execution_count": 8,
     "metadata": {},
     "output_type": "execute_result"
    }
   ],
   "source": [
    "O.dot(p, q)"
   ]
  },
  {
   "cell_type": "code",
   "execution_count": 9,
   "id": "dfdfcbf3-ed5e-4b99-ab95-85f82446ea90",
   "metadata": {},
   "outputs": [
    {
     "data": {
      "text/plain": [
       "(1.0, 0.0)"
      ]
     },
     "execution_count": 9,
     "metadata": {},
     "output_type": "execute_result"
    }
   ],
   "source": [
    "e1 = O.CanonBasis{Float64}(1)"
   ]
  },
  {
   "cell_type": "code",
   "execution_count": 10,
   "id": "ceaebb24-0a48-42c1-a5e1-42f543feb7e0",
   "metadata": {},
   "outputs": [
    {
     "data": {
      "text/plain": [
       "(0, 1)"
      ]
     },
     "execution_count": 10,
     "metadata": {},
     "output_type": "execute_result"
    }
   ],
   "source": [
    "e2 = O.CanonBasis(2)"
   ]
  },
  {
   "cell_type": "code",
   "execution_count": 11,
   "id": "9d3680ad-27ad-4fde-89ed-afa2376e97b1",
   "metadata": {},
   "outputs": [
    {
     "data": {
      "text/plain": [
       "0.0"
      ]
     },
     "execution_count": 11,
     "metadata": {},
     "output_type": "execute_result"
    }
   ],
   "source": [
    "O.dot(e1, e2)"
   ]
  },
  {
   "cell_type": "code",
   "execution_count": 12,
   "id": "0b2af948-a5b0-47af-b1cc-35ac5ad366f9",
   "metadata": {},
   "outputs": [
    {
     "data": {
      "text/plain": [
       "1.0 + 0.0im"
      ]
     },
     "execution_count": 12,
     "metadata": {},
     "output_type": "execute_result"
    }
   ],
   "source": [
    "O.dot(O.CanonBasis{ComplexF64}(1), e1)"
   ]
  },
  {
   "cell_type": "code",
   "execution_count": 13,
   "id": "4044fd05-7d2e-450e-8e54-0b8107dedbe4",
   "metadata": {},
   "outputs": [
    {
     "data": {
      "text/plain": [
       "(1.0, -1.0)"
      ]
     },
     "execution_count": 13,
     "metadata": {},
     "output_type": "execute_result"
    }
   ],
   "source": [
    "e1 - e2"
   ]
  },
  {
   "cell_type": "code",
   "execution_count": 14,
   "id": "ef71fad5-0f6a-4fb8-a2d2-b96a0b1f0a1b",
   "metadata": {},
   "outputs": [
    {
     "data": {
      "text/plain": [
       "(3.0, -0.5)"
      ]
     },
     "execution_count": 14,
     "metadata": {},
     "output_type": "execute_result"
    }
   ],
   "source": [
    "3*e1 - e2/2"
   ]
  },
  {
   "cell_type": "code",
   "execution_count": 15,
   "id": "f0644451-3194-4f74-961f-c99932f12298",
   "metadata": {},
   "outputs": [
    {
     "data": {
      "text/plain": [
       "(2 + 1im, 3 + 1im)"
      ]
     },
     "execution_count": 15,
     "metadata": {},
     "output_type": "execute_result"
    }
   ],
   "source": [
    "p.x, p.y"
   ]
  },
  {
   "cell_type": "code",
   "execution_count": 16,
   "id": "86e2d4c8-367e-4922-9bac-fdda48a9bf6a",
   "metadata": {},
   "outputs": [
    {
     "data": {
      "text/plain": [
       "(1.0, 0.0)"
      ]
     },
     "execution_count": 16,
     "metadata": {},
     "output_type": "execute_result"
    }
   ],
   "source": [
    "e1.x, e1.y"
   ]
  },
  {
   "cell_type": "code",
   "execution_count": 17,
   "id": "dad665ca-964c-46e9-a45e-01102893ed2f",
   "metadata": {},
   "outputs": [
    {
     "data": {
      "text/plain": [
       "gety (generic function with 1 method)"
      ]
     },
     "execution_count": 17,
     "metadata": {},
     "output_type": "execute_result"
    }
   ],
   "source": [
    "getx(p::O.AbstractPlanarVector) = p.x\n",
    "gety(p::O.AbstractPlanarVector) = p.y"
   ]
  },
  {
   "cell_type": "code",
   "execution_count": 18,
   "id": "c51ab920-3cf5-44a5-a206-545bc7960b5a",
   "metadata": {},
   "outputs": [
    {
     "data": {
      "text/plain": [
       "(2 + 1im, 3 + 1im)"
      ]
     },
     "execution_count": 18,
     "metadata": {},
     "output_type": "execute_result"
    }
   ],
   "source": [
    "getx(p), gety(p)"
   ]
  },
  {
   "cell_type": "code",
   "execution_count": 19,
   "id": "596d6197-0058-4371-9f9a-ea05ca3784bd",
   "metadata": {},
   "outputs": [
    {
     "data": {
      "text/plain": [
       "CodeInfo(\n",
       "\u001b[90m1 ─\u001b[39m %1 = Base.getfield(p, :x)\u001b[36m::Complex{Int64}\u001b[39m\n",
       "\u001b[90m└──\u001b[39m      return %1\n",
       ") => Complex{Int64}"
      ]
     },
     "execution_count": 19,
     "metadata": {},
     "output_type": "execute_result"
    }
   ],
   "source": [
    "@code_typed getx(p)"
   ]
  },
  {
   "cell_type": "code",
   "execution_count": 20,
   "id": "d1ec4fba-9218-421e-a0aa-1d157095d7e5",
   "metadata": {},
   "outputs": [
    {
     "data": {
      "text/plain": [
       "CodeInfo(\n",
       "\u001b[90m1 ─\u001b[39m %1 = Base.getfield(p, :y)\u001b[36m::Float64\u001b[39m\n",
       "\u001b[90m└──\u001b[39m      return %1\n",
       ") => Float64"
      ]
     },
     "execution_count": 20,
     "metadata": {},
     "output_type": "execute_result"
    }
   ],
   "source": [
    "@code_typed gety(q)"
   ]
  },
  {
   "cell_type": "code",
   "execution_count": 21,
   "id": "c0a920cd-9057-40b3-b5c6-b44fc54685c5",
   "metadata": {},
   "outputs": [
    {
     "data": {
      "text/plain": [
       "CodeInfo(\n",
       "\u001b[90m1 ─\u001b[39m     return 0\n",
       ") => Int64"
      ]
     },
     "execution_count": 21,
     "metadata": {},
     "output_type": "execute_result"
    }
   ],
   "source": [
    "@code_typed getx(e2)"
   ]
  },
  {
   "cell_type": "code",
   "execution_count": 22,
   "id": "df408d42-39bf-4f31-a673-c36aba860bf4",
   "metadata": {},
   "outputs": [
    {
     "data": {
      "text/plain": [
       "CodeInfo(\n",
       "\u001b[90m1 ─\u001b[39m     return 1\n",
       ") => Int64"
      ]
     },
     "execution_count": 22,
     "metadata": {},
     "output_type": "execute_result"
    }
   ],
   "source": [
    "@code_typed gety(e2)"
   ]
  },
  {
   "cell_type": "code",
   "execution_count": 23,
   "id": "c7cee7e4-c693-46a4-8fa9-3fef146b73c9",
   "metadata": {},
   "outputs": [
    {
     "data": {
      "text/plain": [
       "CodeInfo(\n",
       "\u001b[90m1 ─\u001b[39m %1  = Base.getfield(p, :x)\u001b[36m::Complex{Int64}\u001b[39m\n",
       "\u001b[90m│  \u001b[39m %2  = Base.getfield(%1, :re)\u001b[36m::Int64\u001b[39m\n",
       "\u001b[90m│  \u001b[39m %3  = Base.getfield(%1, :im)\u001b[36m::Int64\u001b[39m\n",
       "\u001b[90m│  \u001b[39m %4  = Base.neg_int(%3)\u001b[36m::Int64\u001b[39m\n",
       "\u001b[90m│  \u001b[39m %5  = Base.getfield(q, :x)\u001b[36m::Float64\u001b[39m\n",
       "\u001b[90m│  \u001b[39m %6  = Base.sitofp(Float64, %2)\u001b[36m::Float64\u001b[39m\n",
       "\u001b[90m│  \u001b[39m %7  = Base.mul_float(%5, %6)\u001b[36m::Float64\u001b[39m\n",
       "\u001b[90m│  \u001b[39m %8  = Base.sitofp(Float64, %4)\u001b[36m::Float64\u001b[39m\n",
       "\u001b[90m│  \u001b[39m %9  = Base.mul_float(%5, %8)\u001b[36m::Float64\u001b[39m\n",
       "\u001b[90m│  \u001b[39m %10 = Base.getfield(p, :y)\u001b[36m::Complex{Int64}\u001b[39m\n",
       "\u001b[90m│  \u001b[39m %11 = Base.getfield(%10, :re)\u001b[36m::Int64\u001b[39m\n",
       "\u001b[90m│  \u001b[39m %12 = Base.getfield(%10, :im)\u001b[36m::Int64\u001b[39m\n",
       "\u001b[90m│  \u001b[39m %13 = Base.neg_int(%12)\u001b[36m::Int64\u001b[39m\n",
       "\u001b[90m│  \u001b[39m %14 = Base.getfield(q, :y)\u001b[36m::Float64\u001b[39m\n",
       "\u001b[90m│  \u001b[39m %15 = Base.sitofp(Float64, %11)\u001b[36m::Float64\u001b[39m\n",
       "\u001b[90m│  \u001b[39m %16 = Base.mul_float(%14, %15)\u001b[36m::Float64\u001b[39m\n",
       "\u001b[90m│  \u001b[39m %17 = Base.sitofp(Float64, %13)\u001b[36m::Float64\u001b[39m\n",
       "\u001b[90m│  \u001b[39m %18 = Base.mul_float(%14, %17)\u001b[36m::Float64\u001b[39m\n",
       "\u001b[90m│  \u001b[39m %19 = Base.add_float(%7, %16)\u001b[36m::Float64\u001b[39m\n",
       "\u001b[90m│  \u001b[39m %20 = Base.add_float(%9, %18)\u001b[36m::Float64\u001b[39m\n",
       "\u001b[90m│  \u001b[39m %21 = %new(ComplexF64, %19, %20)\u001b[36m::ComplexF64\u001b[39m\n",
       "\u001b[90m└──\u001b[39m       return %21\n",
       ") => ComplexF64"
      ]
     },
     "execution_count": 23,
     "metadata": {},
     "output_type": "execute_result"
    }
   ],
   "source": [
    "@code_typed O.dot(p, q)"
   ]
  },
  {
   "cell_type": "code",
   "execution_count": 24,
   "id": "5dd948d1-73a4-4873-8883-354274361e55",
   "metadata": {},
   "outputs": [
    {
     "data": {
      "text/plain": [
       "CodeInfo(\n",
       "\u001b[90m1 ─\u001b[39m %1 = Base.getfield(q, :x)\u001b[36m::Float64\u001b[39m\n",
       "\u001b[90m└──\u001b[39m      return %1\n",
       ") => Float64"
      ]
     },
     "execution_count": 24,
     "metadata": {},
     "output_type": "execute_result"
    }
   ],
   "source": [
    "@code_typed O.dot(e1, q)"
   ]
  },
  {
   "cell_type": "code",
   "execution_count": 25,
   "id": "dbb661a2-7ac0-4ea2-a076-29401d2013be",
   "metadata": {},
   "outputs": [
    {
     "data": {
      "text/plain": [
       "CodeInfo(\n",
       "\u001b[90m1 ─\u001b[39m      goto #3 if not false\n",
       "\u001b[90m2 ─\u001b[39m      nothing\u001b[90m::Nothing\u001b[39m\n",
       "\u001b[90m3 ┄\u001b[39m %3 = Base.getfield(p, :y)\u001b[36m::Complex{Int64}\u001b[39m\n",
       "\u001b[90m│  \u001b[39m %4 = Base.getfield(%3, :re)\u001b[36m::Int64\u001b[39m\n",
       "\u001b[90m│  \u001b[39m %5 = Base.getfield(%3, :im)\u001b[36m::Int64\u001b[39m\n",
       "\u001b[90m│  \u001b[39m %6 = Base.neg_int(%5)\u001b[36m::Int64\u001b[39m\n",
       "\u001b[90m│  \u001b[39m %7 = %new(Complex{Int64}, %4, %6)\u001b[36m::Complex{Int64}\u001b[39m\n",
       "\u001b[90m└──\u001b[39m      return %7\n",
       ") => Complex{Int64}"
      ]
     },
     "execution_count": 25,
     "metadata": {},
     "output_type": "execute_result"
    }
   ],
   "source": [
    "@code_typed O.dot(p, e2)"
   ]
  },
  {
   "cell_type": "code",
   "execution_count": 26,
   "id": "fa963a79-bb29-4107-8fd2-87643abe15e6",
   "metadata": {},
   "outputs": [
    {
     "name": "stdout",
     "output_type": "stream",
     "text": [
      "\u001b[90m; Function Attrs: uwtable\u001b[39m\n",
      "\u001b[95mdefine\u001b[39m \u001b[36mvoid\u001b[39m \u001b[93m@julia_dot_2208\u001b[39m\u001b[33m(\u001b[39m\u001b[33m[\u001b[39m\u001b[33m2\u001b[39m \u001b[0mx \u001b[36mi64\u001b[39m\u001b[33m]\u001b[39m\u001b[0m* \u001b[95mnoalias\u001b[39m \u001b[95mnocapture\u001b[39m \u001b[95msret\u001b[39m\u001b[33m(\u001b[39m\u001b[33m[\u001b[39m\u001b[33m2\u001b[39m \u001b[0mx \u001b[36mi64\u001b[39m\u001b[33m]\u001b[39m\u001b[33m)\u001b[39m \u001b[0m%0\u001b[0m, \u001b[33m[\u001b[39m\u001b[33m2\u001b[39m \u001b[0mx \u001b[33m[\u001b[39m\u001b[33m2\u001b[39m \u001b[0mx \u001b[36mi64\u001b[39m\u001b[33m]\u001b[39m\u001b[33m]\u001b[39m\u001b[0m* \u001b[95mnocapture\u001b[39m \u001b[95mnonnull\u001b[39m \u001b[95mreadonly\u001b[39m \u001b[95malign\u001b[39m \u001b[33m8\u001b[39m \u001b[95mdereferenceable\u001b[39m\u001b[33m(\u001b[39m\u001b[33m32\u001b[39m\u001b[33m)\u001b[39m \u001b[0m%1\u001b[33m)\u001b[39m \u001b[0m#0 \u001b[33m{\u001b[39m\n",
      "\u001b[91mtop:\u001b[39m\n",
      "  \u001b[0m%2 \u001b[0m= \u001b[96m\u001b[1mgetelementptr\u001b[22m\u001b[39m \u001b[95minbounds\u001b[39m \u001b[33m[\u001b[39m\u001b[33m2\u001b[39m \u001b[0mx \u001b[33m[\u001b[39m\u001b[33m2\u001b[39m \u001b[0mx \u001b[36mi64\u001b[39m\u001b[33m]\u001b[39m\u001b[33m]\u001b[39m\u001b[0m, \u001b[33m[\u001b[39m\u001b[33m2\u001b[39m \u001b[0mx \u001b[33m[\u001b[39m\u001b[33m2\u001b[39m \u001b[0mx \u001b[36mi64\u001b[39m\u001b[33m]\u001b[39m\u001b[33m]\u001b[39m\u001b[0m* \u001b[0m%1\u001b[0m, \u001b[36mi64\u001b[39m \u001b[33m0\u001b[39m\u001b[0m, \u001b[36mi64\u001b[39m \u001b[33m1\u001b[39m\u001b[0m, \u001b[36mi64\u001b[39m \u001b[33m0\u001b[39m\n",
      "  \u001b[0m%3 \u001b[0m= \u001b[96m\u001b[1mgetelementptr\u001b[22m\u001b[39m \u001b[95minbounds\u001b[39m \u001b[33m[\u001b[39m\u001b[33m2\u001b[39m \u001b[0mx \u001b[33m[\u001b[39m\u001b[33m2\u001b[39m \u001b[0mx \u001b[36mi64\u001b[39m\u001b[33m]\u001b[39m\u001b[33m]\u001b[39m\u001b[0m, \u001b[33m[\u001b[39m\u001b[33m2\u001b[39m \u001b[0mx \u001b[33m[\u001b[39m\u001b[33m2\u001b[39m \u001b[0mx \u001b[36mi64\u001b[39m\u001b[33m]\u001b[39m\u001b[33m]\u001b[39m\u001b[0m* \u001b[0m%1\u001b[0m, \u001b[36mi64\u001b[39m \u001b[33m0\u001b[39m\u001b[0m, \u001b[36mi64\u001b[39m \u001b[33m1\u001b[39m\u001b[0m, \u001b[36mi64\u001b[39m \u001b[33m1\u001b[39m\n",
      "  \u001b[0m%4 \u001b[0m= \u001b[96m\u001b[1mload\u001b[22m\u001b[39m \u001b[36mi64\u001b[39m\u001b[0m, \u001b[36mi64\u001b[39m\u001b[0m* \u001b[0m%3\u001b[0m, \u001b[95malign\u001b[39m \u001b[33m8\u001b[39m\n",
      "  \u001b[0m%5 \u001b[0m= \u001b[96m\u001b[1msub\u001b[22m\u001b[39m \u001b[36mi64\u001b[39m \u001b[33m0\u001b[39m\u001b[0m, \u001b[0m%4\n",
      "  \u001b[0m%6 \u001b[0m= \u001b[96m\u001b[1mload\u001b[22m\u001b[39m \u001b[36mi64\u001b[39m\u001b[0m, \u001b[36mi64\u001b[39m\u001b[0m* \u001b[0m%2\u001b[0m, \u001b[95malign\u001b[39m \u001b[33m8\u001b[39m\n",
      "  \u001b[0m%.sroa.0.0..sroa_idx \u001b[0m= \u001b[96m\u001b[1mgetelementptr\u001b[22m\u001b[39m \u001b[95minbounds\u001b[39m \u001b[33m[\u001b[39m\u001b[33m2\u001b[39m \u001b[0mx \u001b[36mi64\u001b[39m\u001b[33m]\u001b[39m\u001b[0m, \u001b[33m[\u001b[39m\u001b[33m2\u001b[39m \u001b[0mx \u001b[36mi64\u001b[39m\u001b[33m]\u001b[39m\u001b[0m* \u001b[0m%0\u001b[0m, \u001b[36mi64\u001b[39m \u001b[33m0\u001b[39m\u001b[0m, \u001b[36mi64\u001b[39m \u001b[33m0\u001b[39m\n",
      "  \u001b[96m\u001b[1mstore\u001b[22m\u001b[39m \u001b[36mi64\u001b[39m \u001b[0m%6\u001b[0m, \u001b[36mi64\u001b[39m\u001b[0m* \u001b[0m%.sroa.0.0..sroa_idx\u001b[0m, \u001b[95malign\u001b[39m \u001b[33m8\u001b[39m\n",
      "  \u001b[0m%.sroa.2.0..sroa_idx1 \u001b[0m= \u001b[96m\u001b[1mgetelementptr\u001b[22m\u001b[39m \u001b[95minbounds\u001b[39m \u001b[33m[\u001b[39m\u001b[33m2\u001b[39m \u001b[0mx \u001b[36mi64\u001b[39m\u001b[33m]\u001b[39m\u001b[0m, \u001b[33m[\u001b[39m\u001b[33m2\u001b[39m \u001b[0mx \u001b[36mi64\u001b[39m\u001b[33m]\u001b[39m\u001b[0m* \u001b[0m%0\u001b[0m, \u001b[36mi64\u001b[39m \u001b[33m0\u001b[39m\u001b[0m, \u001b[36mi64\u001b[39m \u001b[33m1\u001b[39m\n",
      "  \u001b[96m\u001b[1mstore\u001b[22m\u001b[39m \u001b[36mi64\u001b[39m \u001b[0m%5\u001b[0m, \u001b[36mi64\u001b[39m\u001b[0m* \u001b[0m%.sroa.2.0..sroa_idx1\u001b[0m, \u001b[95malign\u001b[39m \u001b[33m8\u001b[39m\n",
      "  \u001b[96m\u001b[1mret\u001b[22m\u001b[39m \u001b[36mvoid\u001b[39m\n",
      "\u001b[33m}\u001b[39m\n"
     ]
    }
   ],
   "source": [
    "@code_llvm debuginfo=:none O.dot(p, e2)"
   ]
  },
  {
   "cell_type": "code",
   "execution_count": 27,
   "id": "72779b5d-b2d7-42db-b935-6f51d5d99bc7",
   "metadata": {},
   "outputs": [
    {
     "data": {
      "text/plain": [
       "CodeInfo(\n",
       "\u001b[90m1 ─\u001b[39m     return 1\n",
       ") => Int64"
      ]
     },
     "execution_count": 27,
     "metadata": {},
     "output_type": "execute_result"
    }
   ],
   "source": [
    "@code_typed O.dot(e2, e2)"
   ]
  },
  {
   "cell_type": "code",
   "execution_count": 28,
   "id": "681425b2-80ca-4600-8aa3-5a0e6ac275d3",
   "metadata": {},
   "outputs": [
    {
     "data": {
      "text/plain": [
       "CodeInfo(\n",
       "\u001b[90m1 ─\u001b[39m     goto #3 if not false\n",
       "\u001b[90m2 ─\u001b[39m     nothing\u001b[90m::Nothing\u001b[39m\n",
       "\u001b[90m3 ┄\u001b[39m     return 0.0\n",
       ") => Float64"
      ]
     },
     "execution_count": 28,
     "metadata": {},
     "output_type": "execute_result"
    }
   ],
   "source": [
    "@code_typed O.dot(e1, e2)"
   ]
  },
  {
   "cell_type": "code",
   "execution_count": 29,
   "id": "de21c10e-36cf-422b-92b7-adcc91e6eaa4",
   "metadata": {},
   "outputs": [
    {
     "name": "stdout",
     "output_type": "stream",
     "text": [
      "\u001b[90m; Function Attrs: uwtable\u001b[39m\n",
      "\u001b[95mdefine\u001b[39m \u001b[36mdouble\u001b[39m \u001b[93m@julia_dot_2240\u001b[39m\u001b[33m(\u001b[39m\u001b[33m)\u001b[39m \u001b[0m#0 \u001b[33m{\u001b[39m\n",
      "\u001b[91mtop:\u001b[39m\n",
      "  \u001b[96m\u001b[1mret\u001b[22m\u001b[39m \u001b[36mdouble\u001b[39m \u001b[33m0.000000e+00\u001b[39m\n",
      "\u001b[33m}\u001b[39m\n"
     ]
    }
   ],
   "source": [
    "@code_llvm debuginfo=:none O.dot(e1, e2)"
   ]
  },
  {
   "cell_type": "code",
   "execution_count": 30,
   "id": "fc395719-6b46-43ab-bb3c-f2767b88df34",
   "metadata": {},
   "outputs": [
    {
     "name": "stdout",
     "output_type": "stream",
     "text": [
      "sum(Base.Fix1(O.dot, a), v) == sum(Base.Fix1(O.dot, e), v) = true\n",
      "  691.900 μs (0 allocations: 0 bytes)\n",
      "  640.600 μs (0 allocations: 0 bytes)\n"
     ]
    },
    {
     "data": {
      "text/plain": [
       "-911.6979226337576"
      ]
     },
     "execution_count": 30,
     "metadata": {},
     "output_type": "execute_result"
    }
   ],
   "source": [
    "using BenchmarkTools\n",
    "n = 10^6\n",
    "v = [O.PlanarVector(randn(2)...) for _ in 1:n]\n",
    "a = O.PlanarVector(1, 0)\n",
    "e = O.CanonBasis(1)\n",
    "\n",
    "@show sum(Base.Fix1(O.dot, a), v) == sum(Base.Fix1(O.dot, e), v)\n",
    "@btime sum($(Base.Fix1(O.dot, a)), $v)\n",
    "@btime sum($(Base.Fix1(O.dot, e)), $v)"
   ]
  },
  {
   "cell_type": "code",
   "execution_count": 31,
   "id": "35387a52-3586-45b6-bceb-b272b4cda277",
   "metadata": {},
   "outputs": [
    {
     "name": "stdout",
     "output_type": "stream",
     "text": [
      "\t\u001b[0m.text\n",
      "\t\u001b[96m\u001b[1mpushq\u001b[22m\u001b[39m\t\u001b[0m%rbp\n",
      "\t\u001b[96m\u001b[1mmovq\u001b[22m\u001b[39m\t\u001b[0m%rsp\u001b[0m, \u001b[0m%rbp\n",
      "\t\u001b[96m\u001b[1mvcvtsi2sdq\u001b[22m\u001b[39m\t\u001b[33m(\u001b[39m\u001b[0m%rcx\u001b[33m)\u001b[39m\u001b[0m, \u001b[0m%xmm0\u001b[0m, \u001b[0m%xmm0\n",
      "\t\u001b[96m\u001b[1mvmulsd\u001b[22m\u001b[39m\t\u001b[33m(\u001b[39m\u001b[0m%rdx\u001b[33m)\u001b[39m\u001b[0m, \u001b[0m%xmm0\u001b[0m, \u001b[0m%xmm0\n",
      "\t\u001b[96m\u001b[1mvcvtsi2sdq\u001b[22m\u001b[39m\t\u001b[33m8\u001b[39m\u001b[33m(\u001b[39m\u001b[0m%rcx\u001b[33m)\u001b[39m\u001b[0m, \u001b[0m%xmm1\u001b[0m, \u001b[0m%xmm1\n",
      "\t\u001b[96m\u001b[1mvmulsd\u001b[22m\u001b[39m\t\u001b[33m8\u001b[39m\u001b[33m(\u001b[39m\u001b[0m%rdx\u001b[33m)\u001b[39m\u001b[0m, \u001b[0m%xmm1\u001b[0m, \u001b[0m%xmm1\n",
      "\t\u001b[96m\u001b[1mvaddsd\u001b[22m\u001b[39m\t\u001b[0m%xmm1\u001b[0m, \u001b[0m%xmm0\u001b[0m, \u001b[0m%xmm0\n",
      "\t\u001b[96m\u001b[1mpopq\u001b[22m\u001b[39m\t\u001b[0m%rbp\n",
      "\t\u001b[96m\u001b[1mretq\u001b[22m\u001b[39m\n",
      "\t\u001b[96m\u001b[1mnop\u001b[22m\u001b[39m\n"
     ]
    }
   ],
   "source": [
    "@code_native debuginfo=:none O.dot(a, q)"
   ]
  },
  {
   "cell_type": "code",
   "execution_count": 32,
   "id": "843456f1-b2ab-4ef6-9519-132f710339d2",
   "metadata": {},
   "outputs": [
    {
     "name": "stdout",
     "output_type": "stream",
     "text": [
      "\t\u001b[0m.text\n",
      "\t\u001b[96m\u001b[1mpushq\u001b[22m\u001b[39m\t\u001b[0m%rbp\n",
      "\t\u001b[96m\u001b[1mmovq\u001b[22m\u001b[39m\t\u001b[0m%rsp\u001b[0m, \u001b[0m%rbp\n",
      "\t\u001b[96m\u001b[1mvmovsd\u001b[22m\u001b[39m\t\u001b[33m(\u001b[39m\u001b[0m%rcx\u001b[33m)\u001b[39m\u001b[0m, \u001b[0m%xmm0                   \u001b[90m# xmm0 = mem[0],zero\u001b[39m\n",
      "\t\u001b[96m\u001b[1mpopq\u001b[22m\u001b[39m\t\u001b[0m%rbp\n",
      "\t\u001b[96m\u001b[1mretq\u001b[22m\u001b[39m\n",
      "\t\u001b[96m\u001b[1mnopw\u001b[22m\u001b[39m\t\u001b[33m(\u001b[39m\u001b[0m%rax\u001b[0m,\u001b[0m%rax\u001b[33m)\u001b[39m\n"
     ]
    }
   ],
   "source": [
    "@code_native debuginfo=:none O.dot(e, q)"
   ]
  },
  {
   "cell_type": "code",
   "execution_count": null,
   "id": "fa136191-50db-4dec-9c3c-b7d8f736aa68",
   "metadata": {},
   "outputs": [],
   "source": []
  }
 ],
 "metadata": {
  "jupytext": {
   "encoding": "# -*- coding: utf-8 -*-",
   "formats": "ipynb,jl:hydrogen"
  },
  "kernelspec": {
   "display_name": "Julia 1.8.0-DEV",
   "language": "julia",
   "name": "julia-1.8"
  },
  "language_info": {
   "file_extension": ".jl",
   "mimetype": "application/julia",
   "name": "julia",
   "version": "1.8.0"
  }
 },
 "nbformat": 4,
 "nbformat_minor": 5
}
