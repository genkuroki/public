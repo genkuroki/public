{
 "cells": [
  {
   "cell_type": "code",
   "execution_count": 1,
   "id": "23a16537-b100-4919-a542-b4c32ffb9aff",
   "metadata": {},
   "outputs": [
    {
     "name": "stdout",
     "output_type": "stream",
     "text": [
      "search: \u001b[0m\u001b[1mp\u001b[22m\u001b[0m\u001b[1mr\u001b[22m\u001b[0m\u001b[1mo\u001b[22m\u001b[0m\u001b[1mp\u001b[22m\u001b[0m\u001b[1me\u001b[22m\u001b[0m\u001b[1mr\u001b[22m\u001b[0m\u001b[1mt\u001b[22m\u001b[0m\u001b[1my\u001b[22m\u001b[0m\u001b[1mn\u001b[22m\u001b[0m\u001b[1ma\u001b[22m\u001b[0m\u001b[1mm\u001b[22m\u001b[0m\u001b[1me\u001b[22m\u001b[0m\u001b[1ms\u001b[22m\n",
      "\n"
     ]
    },
    {
     "data": {
      "text/latex": [
       "\\begin{verbatim}\n",
       "propertynames(x, private=false)\n",
       "\\end{verbatim}\n",
       "Get a tuple or a vector of the properties (\\texttt{x.property}) of an object \\texttt{x}. This is typically the same as \\href{@ref}{\\texttt{fieldnames(typeof(x))}}, but types that overload \\href{@ref}{\\texttt{getproperty}} should generally overload \\texttt{propertynames} as well to get the properties of an instance of the type.\n",
       "\n",
       "\\texttt{propertynames(x)} may return only \"public\" property names that are part of the documented interface of \\texttt{x}.   If you want it to also return \"private\" fieldnames intended for internal use, pass \\texttt{true} for the optional second argument. REPL tab completion on \\texttt{x.} shows only the \\texttt{private=false} properties.\n",
       "\n"
      ],
      "text/markdown": [
       "```\n",
       "propertynames(x, private=false)\n",
       "```\n",
       "\n",
       "Get a tuple or a vector of the properties (`x.property`) of an object `x`. This is typically the same as [`fieldnames(typeof(x))`](@ref), but types that overload [`getproperty`](@ref) should generally overload `propertynames` as well to get the properties of an instance of the type.\n",
       "\n",
       "`propertynames(x)` may return only \"public\" property names that are part of the documented interface of `x`.   If you want it to also return \"private\" fieldnames intended for internal use, pass `true` for the optional second argument. REPL tab completion on `x.` shows only the `private=false` properties.\n"
      ],
      "text/plain": [
       "\u001b[36m  propertynames(x, private=false)\u001b[39m\n",
       "\n",
       "  Get a tuple or a vector of the properties (\u001b[36mx.property\u001b[39m) of an object \u001b[36mx\u001b[39m. This\n",
       "  is typically the same as \u001b[36mfieldnames(typeof(x))\u001b[39m, but types that overload\n",
       "  \u001b[36mgetproperty\u001b[39m should generally overload \u001b[36mpropertynames\u001b[39m as well to get the\n",
       "  properties of an instance of the type.\n",
       "\n",
       "  \u001b[36mpropertynames(x)\u001b[39m may return only \"public\" property names that are part of\n",
       "  the documented interface of \u001b[36mx\u001b[39m. If you want it to also return \"private\"\n",
       "  fieldnames intended for internal use, pass \u001b[36mtrue\u001b[39m for the optional second\n",
       "  argument. REPL tab completion on \u001b[36mx.\u001b[39m shows only the \u001b[36mprivate=false\u001b[39m properties."
      ]
     },
     "execution_count": 1,
     "metadata": {},
     "output_type": "execute_result"
    }
   ],
   "source": [
    "?propertynames"
   ]
  },
  {
   "cell_type": "code",
   "execution_count": 2,
   "id": "e17ea4f1-99a3-4409-a10d-1076748cd49f",
   "metadata": {},
   "outputs": [
    {
     "data": {
      "text/plain": [
       "Main.O"
      ]
     },
     "execution_count": 2,
     "metadata": {},
     "output_type": "execute_result"
    }
   ],
   "source": [
    "module O\n",
    "\n",
    "Base.@kwdef mutable struct Foo\n",
    "    pub::String = \"meow\"\n",
    "    priv::Int = 3\n",
    "end\n",
    "\n",
    "function Base.getproperty(foo::Foo, name::Symbol)\n",
    "    name === :multiple && return getfield(foo, :pub)^getfield(foo, :priv)\n",
    "    hasproperty(foo, name) && return getfield(foo, name)\n",
    "    error(\"type Foo has no public property $name\")\n",
    "end\n",
    "\n",
    "Base.show(io::IO, foo::Foo) = print(io, \"Foo(pub = \", repr(foo.pub), ')')\n",
    "\n",
    "Base.propertynames(foo::Foo, private::Bool=false) =\n",
    "    private ? (fieldnames(typeof(foo))..., :multiple) : (:pub, :multiple)\n",
    "\n",
    "end"
   ]
  },
  {
   "cell_type": "code",
   "execution_count": 3,
   "id": "63fddfb6-70ce-45a0-8872-cd94908897e6",
   "metadata": {},
   "outputs": [
    {
     "data": {
      "text/plain": [
       "Foo(pub = \"meow\")"
      ]
     },
     "execution_count": 3,
     "metadata": {},
     "output_type": "execute_result"
    }
   ],
   "source": [
    "foo = O.Foo()"
   ]
  },
  {
   "cell_type": "code",
   "execution_count": 4,
   "id": "85df72f3-84e3-4470-adc0-7b5750eccde9",
   "metadata": {},
   "outputs": [
    {
     "data": {
      "text/plain": [
       "(:pub, :multiple)"
      ]
     },
     "execution_count": 4,
     "metadata": {},
     "output_type": "execute_result"
    }
   ],
   "source": [
    "propertynames(foo)"
   ]
  },
  {
   "cell_type": "code",
   "execution_count": 5,
   "id": "0c666ce8-5ed4-43f1-81f9-f16b3386594b",
   "metadata": {},
   "outputs": [
    {
     "data": {
      "text/html": [
       "propertynames(foo::<b>Main.O.Foo</b>) in Main.O at In[2]:16"
      ],
      "text/plain": [
       "propertynames(foo::Main.O.Foo) in Main.O at In[2]:16"
      ]
     },
     "execution_count": 5,
     "metadata": {},
     "output_type": "execute_result"
    }
   ],
   "source": [
    "@which propertynames(foo)"
   ]
  },
  {
   "cell_type": "code",
   "execution_count": 6,
   "id": "d4be8d2d-695e-49c7-bfef-9f1c9c9756b3",
   "metadata": {},
   "outputs": [
    {
     "data": {
      "text/html": [
       "4-element Vector{Method}:<ul><li> getproperty(foo::<b>Main.O.Foo</b>, name::<b>Symbol</b>) in Main.O at In[2]:8<li> propertynames(foo::<b>Main.O.Foo</b>) in Main.O at In[2]:16<li> propertynames(foo::<b>Main.O.Foo</b>, private::<b>Bool</b>) in Main.O at In[2]:16<li> show(io::<b>IO</b>, foo::<b>Main.O.Foo</b>) in Main.O at In[2]:14</ul>"
      ],
      "text/plain": [
       "[1] getproperty(foo::Main.O.Foo, name::Symbol) in Main.O at In[2]:8\n",
       "[2] propertynames(foo::Main.O.Foo) in Main.O at In[2]:16\n",
       "[3] propertynames(foo::Main.O.Foo, private::Bool) in Main.O at In[2]:16\n",
       "[4] show(io::IO, foo::Main.O.Foo) in Main.O at In[2]:14"
      ]
     },
     "execution_count": 6,
     "metadata": {},
     "output_type": "execute_result"
    }
   ],
   "source": [
    "methodswith(O.Foo)"
   ]
  },
  {
   "cell_type": "code",
   "execution_count": 7,
   "id": "35f2a9ab-77ee-4a90-ac42-ef7bac2fb375",
   "metadata": {},
   "outputs": [
    {
     "data": {
      "text/plain": [
       "(:pub, :priv, :multiple)"
      ]
     },
     "execution_count": 7,
     "metadata": {},
     "output_type": "execute_result"
    }
   ],
   "source": [
    "propertynames(foo, true)"
   ]
  },
  {
   "cell_type": "code",
   "execution_count": 8,
   "id": "7bc3afd3-d8ff-47c3-9600-b19145199e42",
   "metadata": {},
   "outputs": [
    {
     "data": {
      "text/plain": [
       "\"meowmeowmeow\""
      ]
     },
     "execution_count": 8,
     "metadata": {},
     "output_type": "execute_result"
    }
   ],
   "source": [
    "foo.multiple"
   ]
  },
  {
   "cell_type": "code",
   "execution_count": 9,
   "id": "e1af144c-ff35-48f2-885b-5f3f33e78ec0",
   "metadata": {},
   "outputs": [
    {
     "data": {
      "text/plain": [
       "Foo(pub = \"bow\")"
      ]
     },
     "execution_count": 9,
     "metadata": {},
     "output_type": "execute_result"
    }
   ],
   "source": [
    "foo.pub = \"bow\"\n",
    "foo"
   ]
  },
  {
   "cell_type": "code",
   "execution_count": 10,
   "id": "b167b108-051e-44a0-9dc8-a85fcfe5e5af",
   "metadata": {},
   "outputs": [
    {
     "data": {
      "text/plain": [
       "\"bowbowbow\""
      ]
     },
     "execution_count": 10,
     "metadata": {},
     "output_type": "execute_result"
    }
   ],
   "source": [
    "foo.multiple"
   ]
  },
  {
   "cell_type": "code",
   "execution_count": 11,
   "id": "8f51acfe-6fe3-4cba-820a-e3566635e2d8",
   "metadata": {},
   "outputs": [
    {
     "ename": "LoadError",
     "evalue": "type Foo has no public property priv",
     "output_type": "error",
     "traceback": [
      "type Foo has no public property priv",
      "",
      "Stacktrace:",
      " [1] error(s::String)",
      "   @ Base .\\error.jl:33",
      " [2] getproperty(foo::Main.O.Foo, name::Symbol)",
      "   @ Main.O .\\In[2]:11",
      " [3] top-level scope",
      "   @ In[11]:1",
      " [4] eval",
      "   @ .\\boot.jl:360 [inlined]",
      " [5] include_string(mapexpr::typeof(REPL.softscope), mod::Module, code::String, filename::String)",
      "   @ Base .\\loading.jl:1094"
     ]
    }
   ],
   "source": [
    "foo.priv"
   ]
  },
  {
   "cell_type": "code",
   "execution_count": 12,
   "id": "19e4f2f5-f12b-4e07-b965-8621565b3733",
   "metadata": {},
   "outputs": [
    {
     "data": {
      "text/plain": [
       "\"bow\""
      ]
     },
     "execution_count": 12,
     "metadata": {},
     "output_type": "execute_result"
    }
   ],
   "source": [
    "foo.pub"
   ]
  },
  {
   "cell_type": "code",
   "execution_count": 13,
   "id": "eda85a71-5b3b-4a67-82f7-d85714572188",
   "metadata": {},
   "outputs": [
    {
     "data": {
      "text/plain": [
       "f (generic function with 1 method)"
      ]
     },
     "execution_count": 13,
     "metadata": {},
     "output_type": "execute_result"
    }
   ],
   "source": [
    "f(foo::O.Foo) = foo.multiple"
   ]
  },
  {
   "cell_type": "code",
   "execution_count": 14,
   "id": "e7979be1-ef9b-4363-886b-4b8c5ec73e37",
   "metadata": {},
   "outputs": [
    {
     "data": {
      "text/plain": [
       "\"bowbowbow\""
      ]
     },
     "execution_count": 14,
     "metadata": {},
     "output_type": "execute_result"
    }
   ],
   "source": [
    "f(foo)"
   ]
  },
  {
   "cell_type": "code",
   "execution_count": 15,
   "id": "93378647-9224-473d-9d63-6a8bd2aedd49",
   "metadata": {},
   "outputs": [
    {
     "data": {
      "text/plain": [
       "CodeInfo(\n",
       "\u001b[90m1 ─\u001b[39m %1 = Main.O.getfield(foo, :pub)\u001b[36m::String\u001b[39m\n",
       "\u001b[90m│  \u001b[39m %2 = Main.O.getfield(foo, :priv)\u001b[36m::Int64\u001b[39m\n",
       "\u001b[90m│  \u001b[39m %3 = invoke Base.repeat(%1::String, %2::Int64)\u001b[36m::String\u001b[39m\n",
       "\u001b[90m└──\u001b[39m      return %3\n",
       ") => String"
      ]
     },
     "execution_count": 15,
     "metadata": {},
     "output_type": "execute_result"
    }
   ],
   "source": [
    "@code_typed f(foo)"
   ]
  },
  {
   "cell_type": "code",
   "execution_count": 16,
   "id": "6ec74ab2-4b81-4163-84ea-5118498d7eb9",
   "metadata": {},
   "outputs": [
    {
     "data": {
      "text/plain": [
       "g (generic function with 1 method)"
      ]
     },
     "execution_count": 16,
     "metadata": {},
     "output_type": "execute_result"
    }
   ],
   "source": [
    "g(foo::O.Foo) = foo.pub"
   ]
  },
  {
   "cell_type": "code",
   "execution_count": 17,
   "id": "0e523ff4-b108-4c27-9c87-a6241a9fe962",
   "metadata": {},
   "outputs": [
    {
     "data": {
      "text/plain": [
       "\"bow\""
      ]
     },
     "execution_count": 17,
     "metadata": {},
     "output_type": "execute_result"
    }
   ],
   "source": [
    "g(foo)"
   ]
  },
  {
   "cell_type": "code",
   "execution_count": 18,
   "id": "a812bb58-3910-41bc-878f-4c9e23104196",
   "metadata": {},
   "outputs": [
    {
     "data": {
      "text/plain": [
       "CodeInfo(\n",
       "\u001b[90m1 ─\u001b[39m %1 = Main.O.getfield(foo, :pub)\u001b[36m::String\u001b[39m\n",
       "\u001b[90m└──\u001b[39m      return %1\n",
       ") => String"
      ]
     },
     "execution_count": 18,
     "metadata": {},
     "output_type": "execute_result"
    }
   ],
   "source": [
    "@code_typed g(foo)"
   ]
  },
  {
   "cell_type": "code",
   "execution_count": 19,
   "id": "4c0a577b-39dc-4961-a984-9caf22fb3f59",
   "metadata": {},
   "outputs": [
    {
     "data": {
      "text/plain": [
       "10"
      ]
     },
     "execution_count": 19,
     "metadata": {},
     "output_type": "execute_result"
    }
   ],
   "source": [
    "foo.priv = 10"
   ]
  },
  {
   "cell_type": "code",
   "execution_count": 20,
   "id": "a7e338ee-1095-45f8-8dae-3eb944461a25",
   "metadata": {},
   "outputs": [
    {
     "data": {
      "text/plain": [
       "\"bowbowbowbowbowbowbowbowbowbow\""
      ]
     },
     "execution_count": 20,
     "metadata": {},
     "output_type": "execute_result"
    }
   ],
   "source": [
    "foo.multiple"
   ]
  },
  {
   "cell_type": "code",
   "execution_count": null,
   "id": "56f95aee-b09f-42aa-86f4-977f4d201645",
   "metadata": {},
   "outputs": [],
   "source": []
  }
 ],
 "metadata": {
  "jupytext": {
   "encoding": "# -*- coding: utf-8 -*-",
   "formats": "ipynb,jl:hydrogen"
  },
  "kernelspec": {
   "display_name": "Julia 1.6.1",
   "language": "julia",
   "name": "julia-1.6"
  },
  "language_info": {
   "file_extension": ".jl",
   "mimetype": "application/julia",
   "name": "julia",
   "version": "1.6.1"
  }
 },
 "nbformat": 4,
 "nbformat_minor": 5
}
