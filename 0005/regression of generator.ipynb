{
 "cells": [
  {
   "cell_type": "code",
   "execution_count": 1,
   "id": "f0c985e2-a2f2-421d-ba72-0d0d9e56d6ee",
   "metadata": {},
   "outputs": [
    {
     "name": "stdout",
     "output_type": "stream",
     "text": [
      "VERSION = v\"1.6.1\"\n",
      "  6.880 μs (0 allocations: 0 bytes)\n",
      "  4.900 ns (0 allocations: 0 bytes)\n"
     ]
    },
    {
     "data": {
      "text/plain": [
       "333333833333500000"
      ]
     },
     "execution_count": 1,
     "metadata": {},
     "output_type": "execute_result"
    }
   ],
   "source": [
    "using BenchmarkTools\n",
    "\n",
    "f(n) = sum(abs2, 1:n)\n",
    "g(n) = sum(abs2(x) for x in 1:n)\n",
    "\n",
    "@show VERSION\n",
    "@btime f(10^6)\n",
    "@btime g(10^6)"
   ]
  },
  {
   "cell_type": "code",
   "execution_count": 1,
   "id": "4e9246c2-8968-4772-a599-8aac1ae2fbaf",
   "metadata": {},
   "outputs": [
    {
     "name": "stdout",
     "output_type": "stream",
     "text": [
      "VERSION = v\"1.7.0-DEV.1249\"\n",
      "  7.300 μs (0 allocations: 0 bytes)\n",
      "  160.300 μs (0 allocations: 0 bytes)\n"
     ]
    },
    {
     "data": {
      "text/plain": [
       "333333833333500000"
      ]
     },
     "execution_count": 1,
     "metadata": {},
     "output_type": "execute_result"
    }
   ],
   "source": [
    "using BenchmarkTools\n",
    "\n",
    "f(n) = sum(abs2, 1:n)\n",
    "g(n) = sum(abs2(x) for x in 1:n)\n",
    "\n",
    "@show VERSION\n",
    "@btime f(10^6)\n",
    "@btime g(10^6)"
   ]
  },
  {
   "cell_type": "code",
   "execution_count": 1,
   "id": "6c9b4f98-1c59-4a6b-b4b1-3790c78b1797",
   "metadata": {},
   "outputs": [
    {
     "name": "stdout",
     "output_type": "stream",
     "text": [
      "VERSION = v\"1.8.0-DEV.43\"\n",
      "  7.300 μs (0 allocations: 0 bytes)\n",
      "  155.900 μs (0 allocations: 0 bytes)\n"
     ]
    },
    {
     "data": {
      "text/plain": [
       "333333833333500000"
      ]
     },
     "execution_count": 1,
     "metadata": {},
     "output_type": "execute_result"
    }
   ],
   "source": [
    "using BenchmarkTools\n",
    "\n",
    "f(n) = sum(abs2, 1:n)\n",
    "g(n) = sum(abs2(x) for x in 1:n)\n",
    "\n",
    "@show VERSION\n",
    "@btime f(10^6)\n",
    "@btime g(10^6)"
   ]
  },
  {
   "cell_type": "code",
   "execution_count": null,
   "id": "e82a7dfb-888e-4715-87ae-3575434798fd",
   "metadata": {},
   "outputs": [],
   "source": []
  }
 ],
 "metadata": {
  "jupytext": {
   "formats": "ipynb,auto:hydrogen"
  },
  "kernelspec": {
   "display_name": "Julia 1.8.0-DEV",
   "language": "julia",
   "name": "julia-1.8"
  },
  "language_info": {
   "file_extension": ".jl",
   "mimetype": "application/julia",
   "name": "julia",
   "version": "1.8.0"
  }
 },
 "nbformat": 4,
 "nbformat_minor": 5
}
