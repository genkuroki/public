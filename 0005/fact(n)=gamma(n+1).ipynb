{
 "cells": [
  {
   "cell_type": "code",
   "execution_count": 1,
   "id": "69cf3597-1bbd-4398-8508-6bef8b807787",
   "metadata": {},
   "outputs": [
    {
     "data": {
      "text/plain": [
       "fact (generic function with 1 method)"
      ]
     },
     "execution_count": 1,
     "metadata": {},
     "output_type": "execute_result"
    }
   ],
   "source": [
    "using Memoization\n",
    "using SpecialFunctions\n",
    "fact(n) = gamma(n + 1)"
   ]
  },
  {
   "cell_type": "code",
   "execution_count": 2,
   "id": "691fa844-c2a9-48a6-a6de-41dc9ee35aec",
   "metadata": {},
   "outputs": [
    {
     "data": {
      "text/plain": [
       "9.332621544394415e157"
      ]
     },
     "execution_count": 2,
     "metadata": {},
     "output_type": "execute_result"
    }
   ],
   "source": [
    "fact(100)"
   ]
  },
  {
   "cell_type": "code",
   "execution_count": 3,
   "id": "4bb94215-6014-4f6f-ae13-bce8e1ca02e2",
   "metadata": {},
   "outputs": [
    {
     "data": {
      "text/plain": [
       "9.332621544394415e157"
      ]
     },
     "execution_count": 3,
     "metadata": {},
     "output_type": "execute_result"
    }
   ],
   "source": [
    "factorial(big(100)) |> Float64"
   ]
  },
  {
   "cell_type": "code",
   "execution_count": 4,
   "id": "7fb39ba1-73b1-46a7-bdab-c9ce44d84860",
   "metadata": {},
   "outputs": [
    {
     "data": {
      "text/plain": [
       "taylor_odd (generic function with 1 method)"
      ]
     },
     "execution_count": 4,
     "metadata": {},
     "output_type": "execute_result"
    }
   ],
   "source": [
    "coeff_sin(n) = Tuple((-1)^k/fact(2k+1) for k in 0:n-1)\n",
    "taylor_odd(x, c) = x*evalpoly(x^2, c)"
   ]
  },
  {
   "cell_type": "code",
   "execution_count": 5,
   "id": "10a1fbbf-9193-4cb2-a6c9-b92abec470ab",
   "metadata": {},
   "outputs": [
    {
     "name": "stdout",
     "output_type": "stream",
     "text": [
      "sin(x) = 0.7071067811865475\n"
     ]
    },
    {
     "data": {
      "text/plain": [
       "9-element Vector{Tuple{Int64, Float64}}:\n",
       " (1, 0.7853981633974483)\n",
       " (2, 0.7046526512091675)\n",
       " (3, 0.7071430457793603)\n",
       " (4, 0.7071064695751781)\n",
       " (5, 0.707106782936867)\n",
       " (6, 0.7071067811796194)\n",
       " (7, 0.7071067811865679)\n",
       " (8, 0.7071067811865475)\n",
       " (9, 0.7071067811865475)"
      ]
     },
     "execution_count": 5,
     "metadata": {},
     "output_type": "execute_result"
    }
   ],
   "source": [
    "c = coeff_sin(8)\n",
    "x = π/4\n",
    "@show sin(x)\n",
    "[(n, taylor_odd(x, coeff_sin(n))) for n in 1:9]"
   ]
  },
  {
   "cell_type": "code",
   "execution_count": null,
   "id": "94050f14-3312-46ac-9360-06a8f151e58e",
   "metadata": {},
   "outputs": [],
   "source": []
  }
 ],
 "metadata": {
  "jupytext": {
   "formats": "ipynb,auto:hydrogen"
  },
  "kernelspec": {
   "display_name": "Julia 1.8.0-DEV",
   "language": "julia",
   "name": "julia-1.8"
  },
  "language_info": {
   "file_extension": ".jl",
   "mimetype": "application/julia",
   "name": "julia",
   "version": "1.8.0"
  }
 },
 "nbformat": 4,
 "nbformat_minor": 5
}
