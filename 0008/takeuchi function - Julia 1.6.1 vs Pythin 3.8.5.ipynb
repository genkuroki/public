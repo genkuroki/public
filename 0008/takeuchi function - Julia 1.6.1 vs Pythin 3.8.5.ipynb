{
 "cells": [
  {
   "cell_type": "code",
   "execution_count": 1,
   "id": "bd66dd03-fce9-4054-b996-a83291c8f7fd",
   "metadata": {},
   "outputs": [
    {
     "name": "stdout",
     "output_type": "stream",
     "text": [
      "Julia 1.6.1:  0.186508 seconds\n",
      "Julia 1.6.1:  0.192119 seconds\n",
      "Julia 1.6.1:  0.187787 seconds\n"
     ]
    },
    {
     "data": {
      "text/plain": [
       "1"
      ]
     },
     "execution_count": 1,
     "metadata": {},
     "output_type": "execute_result"
    }
   ],
   "source": [
    "tak(x, y, z) = x ≤ y ? z : tak(tak(x - 1, y, z), tak(y - 1, z, x), tak(z - 1, x, y))\n",
    "\n",
    "print(\"Julia \", VERSION, ':')\n",
    "@time tak(20, 10, 0)\n",
    "print(\"Julia \", VERSION, ':')\n",
    "@time tak(20, 10, 0)\n",
    "print(\"Julia \", VERSION, ':')\n",
    "@time tak(20, 10, 0)"
   ]
  },
  {
   "cell_type": "code",
   "execution_count": 2,
   "id": "b6b3fc97-f301-4d14-b7ed-f34345fe121c",
   "metadata": {},
   "outputs": [
    {
     "name": "stdout",
     "output_type": "stream",
     "text": [
      "Julia 1.6.1:  185.380 ms (0 allocations: 0 bytes)\n"
     ]
    },
    {
     "data": {
      "text/plain": [
       "1"
      ]
     },
     "execution_count": 2,
     "metadata": {},
     "output_type": "execute_result"
    }
   ],
   "source": [
    "using BenchmarkTools\n",
    "print(\"Julia \", VERSION, ':')\n",
    "@btime tak(20, 10, 0)"
   ]
  },
  {
   "cell_type": "code",
   "execution_count": 1,
   "id": "e41b68c3-30f6-43b4-b62d-ed67ef7d90a0",
   "metadata": {},
   "outputs": [
    {
     "data": {
      "text/plain": [
       "9.674110174179077"
      ]
     },
     "execution_count": 1,
     "metadata": {},
     "output_type": "execute_result"
    }
   ],
   "source": [
    "from time import time\n",
    "\n",
    "def tak(x, y, z):\n",
    "    if x <= y: return z\n",
    "    return tak(tak(x - 1, y, z), tak(y - 1, z, x), tak(z - 1, x, y))\n",
    "\n",
    "start = time(); res = tak(20, 10, 0); time() - start"
   ]
  },
  {
   "cell_type": "code",
   "execution_count": 2,
   "id": "de19c416-922f-4403-8cfa-6a7d3580f246",
   "metadata": {},
   "outputs": [
    {
     "data": {
      "text/plain": [
       "9.661143064498901"
      ]
     },
     "execution_count": 2,
     "metadata": {},
     "output_type": "execute_result"
    }
   ],
   "source": [
    "start = time(); res = tak(20, 10, 0); time() - start"
   ]
  },
  {
   "cell_type": "code",
   "execution_count": 3,
   "id": "43b8ed3c-c771-4f8f-b635-e873063e0a21",
   "metadata": {},
   "outputs": [
    {
     "data": {
      "text/plain": [
       "9.637182712554932"
      ]
     },
     "execution_count": 3,
     "metadata": {},
     "output_type": "execute_result"
    }
   ],
   "source": [
    "start = time(); res = tak(20, 10, 0); time() - start"
   ]
  },
  {
   "cell_type": "code",
   "execution_count": 4,
   "id": "b505dc36-835d-4bca-b5a8-6934d84a3025",
   "metadata": {},
   "outputs": [
    {
     "data": {
      "text/plain": [
       "0.5692451000213623"
      ]
     },
     "execution_count": 4,
     "metadata": {},
     "output_type": "execute_result"
    }
   ],
   "source": [
    "from time import time\n",
    "from numba import jit\n",
    "\n",
    "@jit(nopython=True)\n",
    "def tak(x, y, z):\n",
    "    if x <= y: return z\n",
    "    return tak(tak(x - 1, y, z), tak(y - 1, z, x), tak(z - 1, x, y))\n",
    "\n",
    "start = time(); res = tak(20, 10, 0); time() - start"
   ]
  },
  {
   "cell_type": "code",
   "execution_count": 5,
   "id": "2bc3c999-9ddc-4d77-9554-2fcd8d39d62f",
   "metadata": {},
   "outputs": [
    {
     "data": {
      "text/plain": [
       "0.36105895042419434"
      ]
     },
     "execution_count": 5,
     "metadata": {},
     "output_type": "execute_result"
    }
   ],
   "source": [
    "start = time(); res = tak(20, 10, 0); time() - start"
   ]
  },
  {
   "cell_type": "code",
   "execution_count": 6,
   "id": "a5f93312-9d9d-406d-af3b-ae50483e3b35",
   "metadata": {},
   "outputs": [
    {
     "data": {
      "text/plain": [
       "0.36901259422302246"
      ]
     },
     "execution_count": 6,
     "metadata": {},
     "output_type": "execute_result"
    }
   ],
   "source": [
    "start = time(); res = tak(20, 10, 0); time() - start"
   ]
  },
  {
   "cell_type": "code",
   "execution_count": null,
   "id": "a2d16d50-9e8a-4cce-9f5b-ce32f384e54b",
   "metadata": {},
   "outputs": [],
   "source": []
  }
 ],
 "metadata": {
  "jupytext": {
   "formats": "ipynb,auto:hydrogen"
  },
  "kernelspec": {
   "display_name": "Python 3",
   "language": "python",
   "name": "python3"
  },
  "language_info": {
   "codemirror_mode": {
    "name": "ipython",
    "version": 3
   },
   "file_extension": ".py",
   "mimetype": "text/x-python",
   "name": "python",
   "nbconvert_exporter": "python",
   "pygments_lexer": "ipython3",
   "version": "3.8.5"
  }
 },
 "nbformat": 4,
 "nbformat_minor": 5
}
