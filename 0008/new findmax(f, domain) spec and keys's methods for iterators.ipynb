{
 "cells": [
  {
   "cell_type": "markdown",
   "id": "afa4e1db-d729-4a34-b4c9-bde67ecfcb6c",
   "metadata": {},
   "source": [
    "[old version of findmax(f, domain)](\n",
    "https://github.com/JuliaLang/julia/pull/35316/files#diff-97ad8b900c30b39398c32d78754c404f4a6df9a153d45284b2c11ab54837deb9R797)\n",
    "\n",
    "```julia\n",
    "findmax(f, domain) = mapfoldl(x -> (f(x), x), _rf_findmax, domain)\n",
    " _rf_findmax((fm, m), (fx, x)) = isless(fm, fx) ? (fx, x) : (fm, m)\n",
    "```\n",
    "\n",
    "[current version](https://github.com/JuliaLang/julia/pull/41076/files#diff-97ad8b900c30b39398c32d78754c404f4a6df9a153d45284b2c11ab54837deb9R803)\n",
    "\n",
    "```julia\n",
    "findmax(f, domain) = mapfoldl( ((k, v),) -> (f(v), k), _rf_findmax, pairs(domain) )\n",
    " _rf_findmax((fm, im), (fx, ix)) = isless(fm, fx) ? (fx, ix) : (fm, im)\n",
    "```"
   ]
  },
  {
   "cell_type": "code",
   "execution_count": 1,
   "id": "5b32287a-171a-446b-a92e-16c53ef4bb70",
   "metadata": {},
   "outputs": [
    {
     "data": {
      "text/plain": [
       "v\"1.7.0-beta2\""
      ]
     },
     "execution_count": 1,
     "metadata": {},
     "output_type": "execute_result"
    }
   ],
   "source": [
    "VERSION"
   ]
  },
  {
   "cell_type": "code",
   "execution_count": 2,
   "id": "41f6358e-e2b9-41e1-8ca1-fcde268bf927",
   "metadata": {},
   "outputs": [
    {
     "data": {
      "text/plain": [
       "Base.Iterators.ProductIterator{Tuple{StepRangeLen{Float64, Base.TwicePrecision{Float64}, Base.TwicePrecision{Float64}}, StepRangeLen{Float64, Base.TwicePrecision{Float64}, Base.TwicePrecision{Float64}}}}((-2.0:0.01:2.0, -2.0:0.01:2.0))"
      ]
     },
     "execution_count": 2,
     "metadata": {},
     "output_type": "execute_result"
    }
   ],
   "source": [
    "f(x, y) = cos(x)*sin(y) + 0.1(x - y)\n",
    "\n",
    "X = range(-2, 2; length=401)\n",
    "Y = range(-2, 2; length=401)\n",
    "XtimesY = Iterators.product(X, Y)"
   ]
  },
  {
   "cell_type": "code",
   "execution_count": 3,
   "id": "c4c8ab01-92ef-4226-8e24-ac7a5015f343",
   "metadata": {},
   "outputs": [
    {
     "ename": "LoadError",
     "evalue": "MethodError: no method matching keys(::Base.Iterators.ProductIterator{Tuple{StepRangeLen{Float64, Base.TwicePrecision{Float64}, Base.TwicePrecision{Float64}}, StepRangeLen{Float64, Base.TwicePrecision{Float64}, Base.TwicePrecision{Float64}}}})\n\u001b[0mClosest candidates are:\n\u001b[0m  keys(\u001b[91m::IOContext\u001b[39m) at show.jl:345\n\u001b[0m  keys(\u001b[91m::Base.Generator\u001b[39m) at generator.jl:54\n\u001b[0m  keys(\u001b[91m::Tuple\u001b[39m) at tuple.jl:72\n\u001b[0m  ...",
     "output_type": "error",
     "traceback": [
      "MethodError: no method matching keys(::Base.Iterators.ProductIterator{Tuple{StepRangeLen{Float64, Base.TwicePrecision{Float64}, Base.TwicePrecision{Float64}}, StepRangeLen{Float64, Base.TwicePrecision{Float64}, Base.TwicePrecision{Float64}}}})\n\u001b[0mClosest candidates are:\n\u001b[0m  keys(\u001b[91m::IOContext\u001b[39m) at show.jl:345\n\u001b[0m  keys(\u001b[91m::Base.Generator\u001b[39m) at generator.jl:54\n\u001b[0m  keys(\u001b[91m::Tuple\u001b[39m) at tuple.jl:72\n\u001b[0m  ...",
      "",
      "Stacktrace:",
      " [1] pairs(collection::Base.Iterators.ProductIterator{Tuple{StepRangeLen{Float64, Base.TwicePrecision{Float64}, Base.TwicePrecision{Float64}}, StepRangeLen{Float64, Base.TwicePrecision{Float64}, Base.TwicePrecision{Float64}}}})",
      "   @ Base .\\abstractdict.jl:138",
      " [2] findmax(f::var\"#1#2\", domain::Base.Iterators.ProductIterator{Tuple{StepRangeLen{Float64, Base.TwicePrecision{Float64}, Base.TwicePrecision{Float64}}, StepRangeLen{Float64, Base.TwicePrecision{Float64}, Base.TwicePrecision{Float64}}}})",
      "   @ Base .\\reduce.jl:803",
      " [3] top-level scope",
      "   @ In[3]:1",
      " [4] eval",
      "   @ .\\boot.jl:373 [inlined]",
      " [5] include_string(mapexpr::typeof(REPL.softscope), mod::Module, code::String, filename::String)",
      "   @ Base .\\loading.jl:1196"
     ]
    }
   ],
   "source": [
    "val, idx = findmax(XtimesY) do (x, y); f(x, y) end"
   ]
  },
  {
   "cell_type": "markdown",
   "id": "08a5fcc0-21a8-4653-b006-64a29bb988e6",
   "metadata": {},
   "source": [
    "`pairs` function used in `findmax(f, domain)` function requires `keys` method."
   ]
  },
  {
   "cell_type": "code",
   "execution_count": 4,
   "id": "8a11795e-c84f-4078-af01-3ecee662c2d9",
   "metadata": {
    "tags": []
   },
   "outputs": [
    {
     "data": {
      "text/html": [
       "# 20 methods for generic function <b>keys</b>:<ul><li> keys(io::<b>IOContext</b>) in Base at <a href=\"https://github.com/JuliaLang/julia/tree/b570546b68de16bd208ca76a20c1385919de18d6/base/show.jl#L345\" target=\"_blank\">show.jl:345</a></li> <li> keys(g::<b>Base.Generator</b>) in Base at <a href=\"https://github.com/JuliaLang/julia/tree/b570546b68de16bd208ca76a20c1385919de18d6/base/generator.jl#L54\" target=\"_blank\">generator.jl:54</a></li> <li> keys(t::<b>Tuple</b>) in Base at <a href=\"https://github.com/JuliaLang/julia/tree/b570546b68de16bd208ca76a20c1385919de18d6/base/tuple.jl#L72\" target=\"_blank\">tuple.jl:72</a></li> <li> keys(t::<b>Tuple</b>, t2::<b>Tuple...</b>) in Base at <a href=\"https://github.com/JuliaLang/julia/tree/b570546b68de16bd208ca76a20c1385919de18d6/base/tuple.jl#L77\" target=\"_blank\">tuple.jl:77</a></li> <li> keys(itr::<b>Base.SkipMissing</b>) in Base at <a href=\"https://github.com/JuliaLang/julia/tree/b570546b68de16bd208ca76a20c1385919de18d6/base/missing.jl#L264\" target=\"_blank\">missing.jl:264</a></li> <li> keys(::<b>Number</b>) in Base at <a href=\"https://github.com/JuliaLang/julia/tree/b570546b68de16bd208ca76a20c1385919de18d6/base/number.jl#L93\" target=\"_blank\">number.jl:93</a></li> <li> keys(v::<b>Base.Pairs</b>) in Base.Iterators at <a href=\"https://github.com/JuliaLang/julia/tree/b570546b68de16bd208ca76a20c1385919de18d6/base/iterators.jl#L256\" target=\"_blank\">iterators.jl:256</a></li> <li> keys(a::<b>AbstractDict</b>) in Base at <a href=\"https://github.com/JuliaLang/julia/tree/b570546b68de16bd208ca76a20c1385919de18d6/base/abstractdict.jl#L103\" target=\"_blank\">abstractdict.jl:103</a></li> <li> keys(nt::<b>NamedTuple{names}</b>)<i> where names</i> in Base at <a href=\"https://github.com/JuliaLang/julia/tree/b570546b68de16bd208ca76a20c1385919de18d6/base/namedtuple.jl#L306\" target=\"_blank\">namedtuple.jl:306</a></li> <li> keys(s::<b>IndexStyle</b>, A::<b>AbstractArray</b>, B::<b>AbstractArray...</b>) in Base at <a href=\"https://github.com/JuliaLang/julia/tree/b570546b68de16bd208ca76a20c1385919de18d6/base/abstractarray.jl#L353\" target=\"_blank\">abstractarray.jl:353</a></li> <li> keys(a::<b>Test.GenericArray</b>) in Test at <a href=\"file://C:/buildbot/worker/package_win64/build/usr/share/julia/stdlib/v1.7/Test/src/Test.jl\" target=\"_blank\">D:\\Julia-1.7.0\\share\\julia\\stdlib\\v1.7\\Test\\src\\Test.jl:1819</a></li> <li> keys(a::<b>AbstractVector</b>) in Base at <a href=\"https://github.com/JuliaLang/julia/tree/b570546b68de16bd208ca76a20c1385919de18d6/base/abstractarray.jl#L136\" target=\"_blank\">abstractarray.jl:136</a></li> <li> keys(a::<b>AbstractArray</b>) in Base at <a href=\"https://github.com/JuliaLang/julia/tree/b570546b68de16bd208ca76a20c1385919de18d6/base/abstractarray.jl#L135\" target=\"_blank\">abstractarray.jl:135</a></li> <li> keys(s::<b>AbstractString</b>) in Base at <a href=\"https://github.com/JuliaLang/julia/tree/b570546b68de16bd208ca76a20c1385919de18d6/base/strings/basic.jl#L571\" target=\"_blank\">strings/basic.jl:571</a></li> <li> keys(io::<b>IO</b>) in Base at <a href=\"https://github.com/JuliaLang/julia/tree/b570546b68de16bd208ca76a20c1385919de18d6/base/show.jl#L346\" target=\"_blank\">show.jl:346</a></li> <li> keys(cmd::<b>Cmd</b>) in Base at <a href=\"https://github.com/JuliaLang/julia/tree/b570546b68de16bd208ca76a20c1385919de18d6/base/process.jl#L643\" target=\"_blank\">process.jl:643</a></li> <li> keys(m::<b>RegexMatch</b>) in Base at <a href=\"https://github.com/JuliaLang/julia/tree/b570546b68de16bd208ca76a20c1385919de18d6/base/regex.jl#L219\" target=\"_blank\">regex.jl:219</a></li> <li> keys(m::<b>Pkg.Types.Manifest</b>) in Pkg.Types at <a href=\"file://C:/buildbot/worker/package_win64/build/usr/share/julia/stdlib/v1.7/Pkg/src/Types.jl\" target=\"_blank\">D:\\Julia-1.7.0\\share\\julia\\stdlib\\v1.7\\Pkg\\src\\Types.jl:279</a></li> <li> keys(v::<b>Core.SimpleVector</b>) in Base at <a href=\"https://github.com/JuliaLang/julia/tree/b570546b68de16bd208ca76a20c1385919de18d6/base/essentials.jl#L609\" target=\"_blank\">essentials.jl:609</a></li> <li> keys(r::<b>Pkg.Registry.RegistryInstance</b>) in Pkg.Registry at <a href=\"file://C:/buildbot/worker/package_win64/build/usr/share/julia/stdlib/v1.7/Pkg/src/Registry/registry_instance.jl\" target=\"_blank\">D:\\Julia-1.7.0\\share\\julia\\stdlib\\v1.7\\Pkg\\src\\Registry\\registry_instance.jl:386</a></li> </ul>"
      ],
      "text/plain": [
       "# 20 methods for generic function \"keys\":\n",
       "[1] keys(io::IOContext) in Base at show.jl:345\n",
       "[2] keys(g::Base.Generator) in Base at generator.jl:54\n",
       "[3] keys(t::Tuple) in Base at tuple.jl:72\n",
       "[4] keys(t::Tuple, t2::Tuple...) in Base at tuple.jl:77\n",
       "[5] keys(itr::Base.SkipMissing) in Base at missing.jl:264\n",
       "[6] keys(::Number) in Base at number.jl:93\n",
       "[7] keys(v::Base.Pairs) in Base.Iterators at iterators.jl:256\n",
       "[8] keys(a::AbstractDict) in Base at abstractdict.jl:103\n",
       "[9] keys(nt::NamedTuple{names}) where names in Base at namedtuple.jl:306\n",
       "[10] keys(s::IndexStyle, A::AbstractArray, B::AbstractArray...) in Base at abstractarray.jl:353\n",
       "[11] keys(a::Test.GenericArray) in Test at D:\\Julia-1.7.0\\share\\julia\\stdlib\\v1.7\\Test\\src\\Test.jl:1819\n",
       "[12] keys(a::AbstractVector) in Base at abstractarray.jl:136\n",
       "[13] keys(a::AbstractArray) in Base at abstractarray.jl:135\n",
       "[14] keys(s::AbstractString) in Base at strings/basic.jl:571\n",
       "[15] keys(io::IO) in Base at show.jl:346\n",
       "[16] keys(cmd::Cmd) in Base at process.jl:643\n",
       "[17] keys(m::RegexMatch) in Base at regex.jl:219\n",
       "[18] keys(m::Pkg.Types.Manifest) in Pkg.Types at D:\\Julia-1.7.0\\share\\julia\\stdlib\\v1.7\\Pkg\\src\\Types.jl:279\n",
       "[19] keys(v::Core.SimpleVector) in Base at essentials.jl:609\n",
       "[20] keys(r::Pkg.Registry.RegistryInstance) in Pkg.Registry at D:\\Julia-1.7.0\\share\\julia\\stdlib\\v1.7\\Pkg\\src\\Registry\\registry_instance.jl:386"
      ]
     },
     "execution_count": 4,
     "metadata": {},
     "output_type": "execute_result"
    }
   ],
   "source": [
    "methods(keys)"
   ]
  },
  {
   "cell_type": "code",
   "execution_count": 5,
   "id": "dcbdd813-3284-49ab-a27d-0cbad1fce086",
   "metadata": {},
   "outputs": [
    {
     "data": {
      "text/plain": [
       "401×401 CartesianIndices{2, Tuple{Base.OneTo{Int64}, Base.OneTo{Int64}}}:\n",
       " CartesianIndex(1, 1)    CartesianIndex(1, 2)    …  CartesianIndex(1, 401)\n",
       " CartesianIndex(2, 1)    CartesianIndex(2, 2)       CartesianIndex(2, 401)\n",
       " CartesianIndex(3, 1)    CartesianIndex(3, 2)       CartesianIndex(3, 401)\n",
       " CartesianIndex(4, 1)    CartesianIndex(4, 2)       CartesianIndex(4, 401)\n",
       " CartesianIndex(5, 1)    CartesianIndex(5, 2)       CartesianIndex(5, 401)\n",
       " CartesianIndex(6, 1)    CartesianIndex(6, 2)    …  CartesianIndex(6, 401)\n",
       " CartesianIndex(7, 1)    CartesianIndex(7, 2)       CartesianIndex(7, 401)\n",
       " CartesianIndex(8, 1)    CartesianIndex(8, 2)       CartesianIndex(8, 401)\n",
       " CartesianIndex(9, 1)    CartesianIndex(9, 2)       CartesianIndex(9, 401)\n",
       " CartesianIndex(10, 1)   CartesianIndex(10, 2)      CartesianIndex(10, 401)\n",
       " CartesianIndex(11, 1)   CartesianIndex(11, 2)   …  CartesianIndex(11, 401)\n",
       " CartesianIndex(12, 1)   CartesianIndex(12, 2)      CartesianIndex(12, 401)\n",
       " CartesianIndex(13, 1)   CartesianIndex(13, 2)      CartesianIndex(13, 401)\n",
       " ⋮                                               ⋱  ⋮\n",
       " CartesianIndex(390, 1)  CartesianIndex(390, 2)     CartesianIndex(390, 401)\n",
       " CartesianIndex(391, 1)  CartesianIndex(391, 2)  …  CartesianIndex(391, 401)\n",
       " CartesianIndex(392, 1)  CartesianIndex(392, 2)     CartesianIndex(392, 401)\n",
       " CartesianIndex(393, 1)  CartesianIndex(393, 2)     CartesianIndex(393, 401)\n",
       " CartesianIndex(394, 1)  CartesianIndex(394, 2)     CartesianIndex(394, 401)\n",
       " CartesianIndex(395, 1)  CartesianIndex(395, 2)     CartesianIndex(395, 401)\n",
       " CartesianIndex(396, 1)  CartesianIndex(396, 2)  …  CartesianIndex(396, 401)\n",
       " CartesianIndex(397, 1)  CartesianIndex(397, 2)     CartesianIndex(397, 401)\n",
       " CartesianIndex(398, 1)  CartesianIndex(398, 2)     CartesianIndex(398, 401)\n",
       " CartesianIndex(399, 1)  CartesianIndex(399, 2)     CartesianIndex(399, 401)\n",
       " CartesianIndex(400, 1)  CartesianIndex(400, 2)     CartesianIndex(400, 401)\n",
       " CartesianIndex(401, 1)  CartesianIndex(401, 2)  …  CartesianIndex(401, 401)"
      ]
     },
     "execution_count": 5,
     "metadata": {},
     "output_type": "execute_result"
    }
   ],
   "source": [
    "keys(collect(XtimesY))"
   ]
  },
  {
   "cell_type": "code",
   "execution_count": 6,
   "id": "668ab366-4dfd-4c97-ae5d-692de85db9b6",
   "metadata": {},
   "outputs": [
    {
     "data": {
      "text/plain": [
       "(0.8529538721652244, CartesianIndex(211, 348))"
      ]
     },
     "execution_count": 6,
     "metadata": {},
     "output_type": "execute_result"
    }
   ],
   "source": [
    "val, idx = findmax(collect(XtimesY)) do (x, y); f(x, y) end"
   ]
  },
  {
   "cell_type": "markdown",
   "id": "acce825f-70e8-49da-8733-9c611b8dc6eb",
   "metadata": {},
   "source": [
    "But `collect` causes memory allocations."
   ]
  },
  {
   "cell_type": "code",
   "execution_count": 7,
   "id": "17fe7a28-2251-4703-b0ec-bb139b3edf93",
   "metadata": {},
   "outputs": [
    {
     "name": "stdout",
     "output_type": "stream",
     "text": [
      "  0.000737 seconds (2 allocations: 2.454 MiB)\n"
     ]
    }
   ],
   "source": [
    "@time collect(XtimesY);"
   ]
  },
  {
   "cell_type": "code",
   "execution_count": 8,
   "id": "dd1cd90a-e4ee-41bb-84fb-c521682cd791",
   "metadata": {},
   "outputs": [
    {
     "data": {
      "text/plain": [
       "(Base.OneTo(401), Base.OneTo(401))"
      ]
     },
     "execution_count": 8,
     "metadata": {},
     "output_type": "execute_result"
    }
   ],
   "source": [
    "axes(XtimesY)"
   ]
  },
  {
   "cell_type": "code",
   "execution_count": 9,
   "id": "a669877c-a957-487c-b2da-d7e7b79360d5",
   "metadata": {},
   "outputs": [
    {
     "data": {
      "text/plain": [
       "401×401 CartesianIndices{2, Tuple{Base.OneTo{Int64}, Base.OneTo{Int64}}}:\n",
       " CartesianIndex(1, 1)    CartesianIndex(1, 2)    …  CartesianIndex(1, 401)\n",
       " CartesianIndex(2, 1)    CartesianIndex(2, 2)       CartesianIndex(2, 401)\n",
       " CartesianIndex(3, 1)    CartesianIndex(3, 2)       CartesianIndex(3, 401)\n",
       " CartesianIndex(4, 1)    CartesianIndex(4, 2)       CartesianIndex(4, 401)\n",
       " CartesianIndex(5, 1)    CartesianIndex(5, 2)       CartesianIndex(5, 401)\n",
       " CartesianIndex(6, 1)    CartesianIndex(6, 2)    …  CartesianIndex(6, 401)\n",
       " CartesianIndex(7, 1)    CartesianIndex(7, 2)       CartesianIndex(7, 401)\n",
       " CartesianIndex(8, 1)    CartesianIndex(8, 2)       CartesianIndex(8, 401)\n",
       " CartesianIndex(9, 1)    CartesianIndex(9, 2)       CartesianIndex(9, 401)\n",
       " CartesianIndex(10, 1)   CartesianIndex(10, 2)      CartesianIndex(10, 401)\n",
       " CartesianIndex(11, 1)   CartesianIndex(11, 2)   …  CartesianIndex(11, 401)\n",
       " CartesianIndex(12, 1)   CartesianIndex(12, 2)      CartesianIndex(12, 401)\n",
       " CartesianIndex(13, 1)   CartesianIndex(13, 2)      CartesianIndex(13, 401)\n",
       " ⋮                                               ⋱  ⋮\n",
       " CartesianIndex(390, 1)  CartesianIndex(390, 2)     CartesianIndex(390, 401)\n",
       " CartesianIndex(391, 1)  CartesianIndex(391, 2)  …  CartesianIndex(391, 401)\n",
       " CartesianIndex(392, 1)  CartesianIndex(392, 2)     CartesianIndex(392, 401)\n",
       " CartesianIndex(393, 1)  CartesianIndex(393, 2)     CartesianIndex(393, 401)\n",
       " CartesianIndex(394, 1)  CartesianIndex(394, 2)     CartesianIndex(394, 401)\n",
       " CartesianIndex(395, 1)  CartesianIndex(395, 2)     CartesianIndex(395, 401)\n",
       " CartesianIndex(396, 1)  CartesianIndex(396, 2)  …  CartesianIndex(396, 401)\n",
       " CartesianIndex(397, 1)  CartesianIndex(397, 2)     CartesianIndex(397, 401)\n",
       " CartesianIndex(398, 1)  CartesianIndex(398, 2)     CartesianIndex(398, 401)\n",
       " CartesianIndex(399, 1)  CartesianIndex(399, 2)     CartesianIndex(399, 401)\n",
       " CartesianIndex(400, 1)  CartesianIndex(400, 2)     CartesianIndex(400, 401)\n",
       " CartesianIndex(401, 1)  CartesianIndex(401, 2)  …  CartesianIndex(401, 401)"
      ]
     },
     "execution_count": 9,
     "metadata": {},
     "output_type": "execute_result"
    }
   ],
   "source": [
    "CartesianIndices(axes(XtimesY))"
   ]
  },
  {
   "cell_type": "code",
   "execution_count": 10,
   "id": "d91f156e-d47c-4181-bb93-a5eb43bbcf95",
   "metadata": {},
   "outputs": [
    {
     "data": {
      "text/plain": [
       "(0.8529538721652244, CartesianIndex(211, 348))"
      ]
     },
     "execution_count": 10,
     "metadata": {},
     "output_type": "execute_result"
    }
   ],
   "source": [
    "Base.keys(pr::Iterators.ProductIterator) = CartesianIndices(axes(pr))\n",
    "val, idx = findmax(XtimesY) do (x, y); f(x, y) end"
   ]
  },
  {
   "cell_type": "code",
   "execution_count": 11,
   "id": "6e55fb1a-0c16-4cb4-a5fb-f0c7b3fbeca8",
   "metadata": {},
   "outputs": [
    {
     "name": "stdout",
     "output_type": "stream",
     "text": [
      "  0.000004 seconds (1 allocation: 32 bytes)\n"
     ]
    }
   ],
   "source": [
    "keys(XtimesY)\n",
    "@time keys(XtimesY);"
   ]
  },
  {
   "cell_type": "code",
   "execution_count": 12,
   "id": "98c6cd80-3df4-45cf-bd4d-8813f0499827",
   "metadata": {},
   "outputs": [
    {
     "data": {
      "text/plain": [
       "(0.1, 1.47)"
      ]
     },
     "execution_count": 12,
     "metadata": {},
     "output_type": "execute_result"
    }
   ],
   "source": [
    "X[idx[1]], Y[idx[2]]"
   ]
  },
  {
   "cell_type": "code",
   "execution_count": 13,
   "id": "ee610eef-8189-4f4b-9306-1d2b76d24221",
   "metadata": {},
   "outputs": [
    {
     "data": {
      "text/plain": [
       "(0.1, 1.47)"
      ]
     },
     "execution_count": 13,
     "metadata": {},
     "output_type": "execute_result"
    }
   ],
   "source": [
    "pt = argmax(XtimesY) do (x, y); f(x, y) end"
   ]
  },
  {
   "cell_type": "code",
   "execution_count": 14,
   "id": "088fdc45-18b9-46ab-b7a4-66e63aeb4bf4",
   "metadata": {},
   "outputs": [
    {
     "data": {
      "text/plain": [
       "(0.8529538721652244, (0.1, 1.47))"
      ]
     },
     "execution_count": 14,
     "metadata": {},
     "output_type": "execute_result"
    }
   ],
   "source": [
    "valargmax(f, X) = (x = argmax(f, X); (f(x), x))\n",
    "valargmax(XtimesY) do (x, y); f(x, y) end"
   ]
  },
  {
   "cell_type": "code",
   "execution_count": 15,
   "id": "c834dcc0-cde4-4cf6-b49c-4f269d1f5b5e",
   "metadata": {},
   "outputs": [
    {
     "data": {
      "text/plain": [
       "(0.8529538721652244, CartesianIndex(211, 348))"
      ]
     },
     "execution_count": 15,
     "metadata": {},
     "output_type": "execute_result"
    }
   ],
   "source": [
    "valargmax(X) = valargmax(Base.Fix1(getindex, X), keys(X))\n",
    "valargmax((pt -> f(pt...)).(XtimesY))"
   ]
  },
  {
   "cell_type": "code",
   "execution_count": 16,
   "id": "d02f7cd0-87d0-4af5-9957-93b306481a78",
   "metadata": {},
   "outputs": [
    {
     "data": {
      "text/plain": [
       "CartesianIndex(211, 348)"
      ]
     },
     "execution_count": 16,
     "metadata": {},
     "output_type": "execute_result"
    }
   ],
   "source": [
    "argmax((pt -> f(pt...)).(XtimesY))"
   ]
  },
  {
   "cell_type": "code",
   "execution_count": 17,
   "id": "9247f8d6-cd24-4ed4-b04d-81f85e5612f6",
   "metadata": {},
   "outputs": [
    {
     "ename": "LoadError",
     "evalue": "BoundsError: attempt to access Float64 at index [2]",
     "output_type": "error",
     "traceback": [
      "BoundsError: attempt to access Float64 at index [2]",
      "",
      "Stacktrace:",
      "  [1] indexed_iterate(I::Float64, i::Int64, state::Nothing)",
      "    @ Base .\\tuple.jl:98",
      "  [2] (::var\"#15#16\")(::Float64)",
      "    @ Main .\\In[17]:1",
      "  [3] (::Base.var\"#250#251\"{var\"#15#16\"})(::Pair{Int64, Float64})",
      "    @ Base .\\reduce.jl:803",
      "  [4] MappingRF",
      "    @ .\\reduce.jl:95 [inlined]",
      "  [5] _foldl_impl",
      "    @ .\\reduce.jl:58 [inlined]",
      "  [6] foldl_impl(op::Base.MappingRF{Base.var\"#250#251\"{var\"#15#16\"}, Base.BottomRF{typeof(Base._rf_findmax)}}, nt::Base._InitialValue, itr::Base.Pairs{Int64, Float64, LinearIndices{1, Tuple{Base.OneTo{Int64}}}, StepRangeLen{Float64, Base.TwicePrecision{Float64}, Base.TwicePrecision{Float64}}})",
      "    @ Base .\\reduce.jl:48",
      "  [7] mapfoldl_impl(f::Base.var\"#250#251\"{var\"#15#16\"}, op::typeof(Base._rf_findmax), nt::Base._InitialValue, itr::Base.Pairs{Int64, Float64, LinearIndices{1, Tuple{Base.OneTo{Int64}}}, StepRangeLen{Float64, Base.TwicePrecision{Float64}, Base.TwicePrecision{Float64}}})",
      "    @ Base .\\reduce.jl:44",
      "  [8] mapfoldl(f::Function, op::Function, itr::Base.Pairs{Int64, Float64, LinearIndices{1, Tuple{Base.OneTo{Int64}}}, StepRangeLen{Float64, Base.TwicePrecision{Float64}, Base.TwicePrecision{Float64}}}; init::Base._InitialValue)",
      "    @ Base .\\reduce.jl:162",
      "  [9] mapfoldl(f::Function, op::Function, itr::Base.Pairs{Int64, Float64, LinearIndices{1, Tuple{Base.OneTo{Int64}}}, StepRangeLen{Float64, Base.TwicePrecision{Float64}, Base.TwicePrecision{Float64}}})",
      "    @ Base .\\reduce.jl:162",
      " [10] findmax(f::var\"#15#16\", domain::Base.Pairs{Int64, Float64, LinearIndices{1, Tuple{Base.OneTo{Int64}}}, StepRangeLen{Float64, Base.TwicePrecision{Float64}, Base.TwicePrecision{Float64}}})",
      "    @ Base .\\reduce.jl:803",
      " [11] top-level scope",
      "    @ In[17]:1",
      " [12] eval",
      "    @ .\\boot.jl:373 [inlined]",
      " [13] include_string(mapexpr::typeof(REPL.softscope), mod::Module, code::String, filename::String)",
      "    @ Base .\\loading.jl:1196"
     ]
    }
   ],
   "source": [
    "findmax(pairs(X)) do (i, x); sin(x) end"
   ]
  },
  {
   "cell_type": "code",
   "execution_count": 18,
   "id": "c25ffa20-c096-46aa-8ed2-f8e46eac21cb",
   "metadata": {},
   "outputs": [
    {
     "data": {
      "text/plain": [
       "(0.9999996829318346, 358)"
      ]
     },
     "execution_count": 18,
     "metadata": {},
     "output_type": "execute_result"
    }
   ],
   "source": [
    "findmax(sin, pairs(X))"
   ]
  },
  {
   "cell_type": "code",
   "execution_count": 19,
   "id": "9373a385-0eae-4377-a904-03e7c162d2eb",
   "metadata": {},
   "outputs": [
    {
     "data": {
      "text/plain": [
       "true"
      ]
     },
     "execution_count": 19,
     "metadata": {},
     "output_type": "execute_result"
    }
   ],
   "source": [
    "pairs(pairs(X)) == pairs(X)"
   ]
  },
  {
   "cell_type": "code",
   "execution_count": 20,
   "id": "dda60b54-ef06-4fc5-b0d5-0f5030db3b35",
   "metadata": {},
   "outputs": [
    {
     "data": {
      "text/html": [
       "findmax(f, domain) in Base at <a href=\"https://github.com/JuliaLang/julia/tree/b570546b68de16bd208ca76a20c1385919de18d6/base/reduce.jl#L803\" target=\"_blank\">reduce.jl:803</a>"
      ],
      "text/plain": [
       "findmax(f, domain) in Base at reduce.jl:803"
      ]
     },
     "execution_count": 20,
     "metadata": {},
     "output_type": "execute_result"
    }
   ],
   "source": [
    "@which findmax(sin, pairs(X))"
   ]
  },
  {
   "cell_type": "code",
   "execution_count": 21,
   "id": "45569b87-6274-4767-a0b9-fff06886ebc5",
   "metadata": {},
   "outputs": [
    {
     "data": {
      "text/html": [
       "pairs(a::<b>AbstractDict</b>) in Base at <a href=\"https://github.com/JuliaLang/julia/tree/b570546b68de16bd208ca76a20c1385919de18d6/base/abstractdict.jl#L140\" target=\"_blank\">abstractdict.jl:140</a>"
      ],
      "text/plain": [
       "pairs(a::AbstractDict) in Base at abstractdict.jl:140"
      ]
     },
     "execution_count": 21,
     "metadata": {},
     "output_type": "execute_result"
    }
   ],
   "source": [
    "@which pairs(pairs(X))"
   ]
  },
  {
   "cell_type": "markdown",
   "id": "437bd7a1-d427-4e8b-886a-19f4ddc05695",
   "metadata": {},
   "source": [
    "https://github.com/JuliaLang/julia/blob/b570546b68de16bd208ca76a20c1385919de18d6/base/iterators.jl#L236\n",
    "\n",
    "```julia\n",
    "# pairs(v::Pairs) = v # listed for reference, but already defined from being an AbstractDict\n",
    "```"
   ]
  },
  {
   "cell_type": "code",
   "execution_count": 22,
   "id": "b450a7fc-5700-43bf-a520-6b071f491df5",
   "metadata": {},
   "outputs": [
    {
     "data": {
      "text/latex": [
       "\\begin{verbatim}\n",
       "Iterators.Pairs(values, keys) <: AbstractDict{eltype(keys), eltype(values)}\n",
       "\\end{verbatim}\n",
       "Transforms an indexable container into a Dictionary-view of the same data. Modifying the key-space of the underlying data may invalidate this object.\n",
       "\n"
      ],
      "text/markdown": [
       "```\n",
       "Iterators.Pairs(values, keys) <: AbstractDict{eltype(keys), eltype(values)}\n",
       "```\n",
       "\n",
       "Transforms an indexable container into a Dictionary-view of the same data. Modifying the key-space of the underlying data may invalidate this object.\n"
      ],
      "text/plain": [
       "\u001b[36m  Iterators.Pairs(values, keys) <: AbstractDict{eltype(keys), eltype(values)}\u001b[39m\n",
       "\n",
       "  Transforms an indexable container into a Dictionary-view of the same data.\n",
       "  Modifying the key-space of the underlying data may invalidate this object."
      ]
     },
     "execution_count": 22,
     "metadata": {},
     "output_type": "execute_result"
    }
   ],
   "source": [
    "?Base.Pairs"
   ]
  },
  {
   "cell_type": "markdown",
   "id": "9692654e-414c-439a-85c7-c3882ff58719",
   "metadata": {},
   "source": [
    "https://github.com/JuliaLang/julia/blob/87e08d94a99ea17e7f72493947595eb6b63e0f09/base/essentials.jl#L32"
   ]
  },
  {
   "cell_type": "code",
   "execution_count": 23,
   "id": "d38cceaa-d6f7-46d2-b467-d2d07e07d1ef",
   "metadata": {},
   "outputs": [
    {
     "data": {
      "text/plain": [
       "(0.9999996829318346, 44)"
      ]
     },
     "execution_count": 23,
     "metadata": {},
     "output_type": "execute_result"
    }
   ],
   "source": [
    "Base.keys(rv::Iterators.Reverse) = keys(reverse(rv.itr))\n",
    "findmax(sin, Iterators.Reverse(X))"
   ]
  },
  {
   "cell_type": "code",
   "execution_count": 24,
   "id": "71ff3dfb-f063-4075-9d59-bf7f642a5dc8",
   "metadata": {},
   "outputs": [
    {
     "data": {
      "text/plain": [
       "(0.9999996829318346, 358)"
      ]
     },
     "execution_count": 24,
     "metadata": {},
     "output_type": "execute_result"
    }
   ],
   "source": [
    "Base.keys(en::Iterators.Enumerate) = keys(en.itr)\n",
    "findmax(Iterators.enumerate(X)) do (i, x); sin(x) end"
   ]
  },
  {
   "cell_type": "code",
   "execution_count": 25,
   "id": "8f5ca9b1-5a1f-4e6a-a1c3-5ccabcef0079",
   "metadata": {},
   "outputs": [
    {
     "data": {
      "text/plain": [
       "(0.49997882324937, 122)"
      ]
     },
     "execution_count": 25,
     "metadata": {},
     "output_type": "execute_result"
    }
   ],
   "source": [
    "Base.keys(zp::Iterators.Zip) = Base.OneTo(length(zp))\n",
    "findmax(Iterators.zip(X, reverse(Y))) do (x, y); cos(x)*sin(y) end"
   ]
  },
  {
   "cell_type": "code",
   "execution_count": 26,
   "id": "78ec5b58-1ffb-447b-ba6e-8be137838d63",
   "metadata": {},
   "outputs": [
    {
     "data": {
      "text/plain": [
       "(0.9999998945903477, 170)"
      ]
     },
     "execution_count": 26,
     "metadata": {},
     "output_type": "execute_result"
    }
   ],
   "source": [
    "Base.keys(ac::Iterators.Accumulate) = keys(ac.itr)\n",
    "findmax(sin, Iterators.accumulate(+, X; init=π))"
   ]
  },
  {
   "cell_type": "code",
   "execution_count": 27,
   "id": "bc3e5640-ce85-41bb-ab4f-0fd73642e90e",
   "metadata": {},
   "outputs": [
    {
     "data": {
      "text/plain": [
       "(0.9999996829318346, 44)"
      ]
     },
     "execution_count": 27,
     "metadata": {},
     "output_type": "execute_result"
    }
   ],
   "source": [
    "Base.keys(tk::Iterators.Take) = Base.OneTo(tk.n)\n",
    "findmax(sin, Iterators.take(reverse(X), 100))"
   ]
  },
  {
   "cell_type": "code",
   "execution_count": 28,
   "id": "33176ca7-cf41-430c-aabb-b5d041383a1a",
   "metadata": {},
   "outputs": [
    {
     "data": {
      "text/html": [
       "# 6 methods for generic function <b>keys</b>:<ul><li> keys(pr::<b>Base.Iterators.ProductIterator</b>) in Main at In[10]:1</li> <li> keys(en::<b>Base.Iterators.Enumerate</b>) in Main at In[24]:1</li> <li> keys(rv::<b>Base.Iterators.Reverse</b>) in Main at In[23]:1</li> <li> keys(tk::<b>Base.Iterators.Take</b>) in Main at In[27]:1</li> <li> keys(ac::<b>Base.Iterators.Accumulate</b>) in Main at In[26]:1</li> <li> keys(zp::<b>Base.Iterators.Zip</b>) in Main at In[25]:1</li> </ul>"
      ],
      "text/plain": [
       "# 6 methods for generic function \"keys\":\n",
       "[1] keys(pr::Base.Iterators.ProductIterator) in Main at In[10]:1\n",
       "[2] keys(en::Base.Iterators.Enumerate) in Main at In[24]:1\n",
       "[3] keys(rv::Base.Iterators.Reverse) in Main at In[23]:1\n",
       "[4] keys(tk::Base.Iterators.Take) in Main at In[27]:1\n",
       "[5] keys(ac::Base.Iterators.Accumulate) in Main at In[26]:1\n",
       "[6] keys(zp::Base.Iterators.Zip) in Main at In[25]:1"
      ]
     },
     "execution_count": 28,
     "metadata": {},
     "output_type": "execute_result"
    }
   ],
   "source": [
    "methods(keys, Main)"
   ]
  },
  {
   "cell_type": "code",
   "execution_count": 29,
   "id": "27b17ac6-7786-4aed-9620-33adcda81726",
   "metadata": {},
   "outputs": [
    {
     "name": "stdout",
     "output_type": "stream",
     "text": [
      "search: \u001b[0m\u001b[1mk\u001b[22m\u001b[0m\u001b[1me\u001b[22m\u001b[0m\u001b[1my\u001b[22m\u001b[0m\u001b[1ms\u001b[22m \u001b[0m\u001b[1mk\u001b[22m\u001b[0m\u001b[1me\u001b[22m\u001b[0m\u001b[1my\u001b[22mtype \u001b[0m\u001b[1mK\u001b[22m\u001b[0m\u001b[1me\u001b[22m\u001b[0m\u001b[1my\u001b[22mError has\u001b[0m\u001b[1mk\u001b[22m\u001b[0m\u001b[1me\u001b[22m\u001b[0m\u001b[1my\u001b[22m get\u001b[0m\u001b[1mk\u001b[22m\u001b[0m\u001b[1me\u001b[22m\u001b[0m\u001b[1my\u001b[22m Undef\u001b[0m\u001b[1mK\u001b[22m\u001b[0m\u001b[1me\u001b[22m\u001b[0m\u001b[1my\u001b[22mwordError Wea\u001b[0m\u001b[1mk\u001b[22mK\u001b[0m\u001b[1me\u001b[22m\u001b[0m\u001b[1my\u001b[22mDict\n",
      "\n"
     ]
    },
    {
     "data": {
      "text/latex": [
       "\\begin{verbatim}\n",
       "keys(a::AbstractArray)\n",
       "\\end{verbatim}\n",
       "Return an efficient array describing all valid indices for \\texttt{a} arranged in the shape of \\texttt{a} itself.\n",
       "\n",
       "They keys of 1-dimensional arrays (vectors) are integers, whereas all other N-dimensional arrays use \\href{@ref}{\\texttt{CartesianIndex}} to describe their locations.  Often the special array types \\href{@ref}{\\texttt{LinearIndices}} and \\href{@ref}{\\texttt{CartesianIndices}} are used to efficiently represent these arrays of integers and \\texttt{CartesianIndex}es, respectively.\n",
       "\n",
       "Note that the \\texttt{keys} of an array might not be the most efficient index type; for maximum performance use  \\href{@ref}{\\texttt{eachindex}} instead.\n",
       "\n",
       "\\rule{\\textwidth}{1pt}\n",
       "\\begin{verbatim}\n",
       "keys(iterator)\n",
       "\\end{verbatim}\n",
       "For an iterator or collection that has keys and values (e.g. arrays and dictionaries), return an iterator over the keys.\n",
       "\n",
       "\\rule{\\textwidth}{1pt}\n",
       "\\begin{verbatim}\n",
       "keys(a::AbstractDict)\n",
       "\\end{verbatim}\n",
       "Return an iterator over all keys in a dictionary. \\texttt{collect(keys(a))} returns an array of keys. When the keys are stored internally in a hash table, as is the case for \\texttt{Dict}, the order in which they are returned may vary. But \\texttt{keys(a)} and \\texttt{values(a)} both iterate \\texttt{a} and return the elements in the same order.\n",
       "\n",
       "\\section{Examples}\n",
       "\\begin{verbatim}\n",
       "julia> D = Dict('a'=>2, 'b'=>3)\n",
       "Dict{Char, Int64} with 2 entries:\n",
       "  'a' => 2\n",
       "  'b' => 3\n",
       "\n",
       "julia> collect(keys(D))\n",
       "2-element Vector{Char}:\n",
       " 'a': ASCII/Unicode U+0061 (category Ll: Letter, lowercase)\n",
       " 'b': ASCII/Unicode U+0062 (category Ll: Letter, lowercase)\n",
       "\\end{verbatim}\n",
       "\\rule{\\textwidth}{1pt}\n",
       "\\begin{verbatim}\n",
       "keys(m::RegexMatch) -> Vector\n",
       "\\end{verbatim}\n",
       "Return a vector of keys for all capture groups of the underlying regex. A key is included even if the capture group fails to match. That is, \\texttt{idx} will be in the return value even if \\texttt{m[idx] == nothing}.\n",
       "\n",
       "Unnamed capture groups will have integer keys corresponding to their index. Named capture groups will have string keys.\n",
       "\n",
       "\\begin{quote}\n",
       "\\textbf{compat}\n",
       "\n",
       "Julia 1.6\n",
       "\n",
       "This method was added in Julia 1.6\n",
       "\n",
       "\\end{quote}\n",
       "\\section{Examples}\n",
       "\\begin{verbatim}\n",
       "julia> keys(match(r\"(?<hour>\\d+):(?<minute>\\d+)(am|pm)?\", \"11:30\"))\n",
       "3-element Vector{Any}:\n",
       "  \"hour\"\n",
       "  \"minute\"\n",
       " 3\n",
       "\\end{verbatim}\n"
      ],
      "text/markdown": [
       "```\n",
       "keys(a::AbstractArray)\n",
       "```\n",
       "\n",
       "Return an efficient array describing all valid indices for `a` arranged in the shape of `a` itself.\n",
       "\n",
       "They keys of 1-dimensional arrays (vectors) are integers, whereas all other N-dimensional arrays use [`CartesianIndex`](@ref) to describe their locations.  Often the special array types [`LinearIndices`](@ref) and [`CartesianIndices`](@ref) are used to efficiently represent these arrays of integers and `CartesianIndex`es, respectively.\n",
       "\n",
       "Note that the `keys` of an array might not be the most efficient index type; for maximum performance use  [`eachindex`](@ref) instead.\n",
       "\n",
       "---\n",
       "\n",
       "```\n",
       "keys(iterator)\n",
       "```\n",
       "\n",
       "For an iterator or collection that has keys and values (e.g. arrays and dictionaries), return an iterator over the keys.\n",
       "\n",
       "---\n",
       "\n",
       "```\n",
       "keys(a::AbstractDict)\n",
       "```\n",
       "\n",
       "Return an iterator over all keys in a dictionary. `collect(keys(a))` returns an array of keys. When the keys are stored internally in a hash table, as is the case for `Dict`, the order in which they are returned may vary. But `keys(a)` and `values(a)` both iterate `a` and return the elements in the same order.\n",
       "\n",
       "# Examples\n",
       "\n",
       "```jldoctest\n",
       "julia> D = Dict('a'=>2, 'b'=>3)\n",
       "Dict{Char, Int64} with 2 entries:\n",
       "  'a' => 2\n",
       "  'b' => 3\n",
       "\n",
       "julia> collect(keys(D))\n",
       "2-element Vector{Char}:\n",
       " 'a': ASCII/Unicode U+0061 (category Ll: Letter, lowercase)\n",
       " 'b': ASCII/Unicode U+0062 (category Ll: Letter, lowercase)\n",
       "```\n",
       "\n",
       "---\n",
       "\n",
       "```\n",
       "keys(m::RegexMatch) -> Vector\n",
       "```\n",
       "\n",
       "Return a vector of keys for all capture groups of the underlying regex. A key is included even if the capture group fails to match. That is, `idx` will be in the return value even if `m[idx] == nothing`.\n",
       "\n",
       "Unnamed capture groups will have integer keys corresponding to their index. Named capture groups will have string keys.\n",
       "\n",
       "!!! compat \"Julia 1.6\"\n",
       "    This method was added in Julia 1.6\n",
       "\n",
       "\n",
       "# Examples\n",
       "\n",
       "```jldoctest\n",
       "julia> keys(match(r\"(?<hour>\\d+):(?<minute>\\d+)(am|pm)?\", \"11:30\"))\n",
       "3-element Vector{Any}:\n",
       "  \"hour\"\n",
       "  \"minute\"\n",
       " 3\n",
       "```\n"
      ],
      "text/plain": [
       "\u001b[36m  keys(a::AbstractArray)\u001b[39m\n",
       "\n",
       "  Return an efficient array describing all valid indices for \u001b[36ma\u001b[39m arranged in the\n",
       "  shape of \u001b[36ma\u001b[39m itself.\n",
       "\n",
       "  They keys of 1-dimensional arrays (vectors) are integers, whereas all other\n",
       "  N-dimensional arrays use \u001b[36mCartesianIndex\u001b[39m to describe their locations. Often\n",
       "  the special array types \u001b[36mLinearIndices\u001b[39m and \u001b[36mCartesianIndices\u001b[39m are used to\n",
       "  efficiently represent these arrays of integers and \u001b[36mCartesianIndex\u001b[39mes,\n",
       "  respectively.\n",
       "\n",
       "  Note that the \u001b[36mkeys\u001b[39m of an array might not be the most efficient index type;\n",
       "  for maximum performance use \u001b[36meachindex\u001b[39m instead.\n",
       "\n",
       "  ────────────────────────────────────────────────────────────────────────────\n",
       "\n",
       "\u001b[36m  keys(iterator)\u001b[39m\n",
       "\n",
       "  For an iterator or collection that has keys and values (e.g. arrays and\n",
       "  dictionaries), return an iterator over the keys.\n",
       "\n",
       "  ────────────────────────────────────────────────────────────────────────────\n",
       "\n",
       "\u001b[36m  keys(a::AbstractDict)\u001b[39m\n",
       "\n",
       "  Return an iterator over all keys in a dictionary. \u001b[36mcollect(keys(a))\u001b[39m returns\n",
       "  an array of keys. When the keys are stored internally in a hash table, as is\n",
       "  the case for \u001b[36mDict\u001b[39m, the order in which they are returned may vary. But\n",
       "  \u001b[36mkeys(a)\u001b[39m and \u001b[36mvalues(a)\u001b[39m both iterate \u001b[36ma\u001b[39m and return the elements in the same\n",
       "  order.\n",
       "\n",
       "\u001b[1m  Examples\u001b[22m\n",
       "\u001b[1m  ≡≡≡≡≡≡≡≡≡≡\u001b[22m\n",
       "\n",
       "\u001b[36m  julia> D = Dict('a'=>2, 'b'=>3)\u001b[39m\n",
       "\u001b[36m  Dict{Char, Int64} with 2 entries:\u001b[39m\n",
       "\u001b[36m    'a' => 2\u001b[39m\n",
       "\u001b[36m    'b' => 3\u001b[39m\n",
       "\u001b[36m  \u001b[39m\n",
       "\u001b[36m  julia> collect(keys(D))\u001b[39m\n",
       "\u001b[36m  2-element Vector{Char}:\u001b[39m\n",
       "\u001b[36m   'a': ASCII/Unicode U+0061 (category Ll: Letter, lowercase)\u001b[39m\n",
       "\u001b[36m   'b': ASCII/Unicode U+0062 (category Ll: Letter, lowercase)\u001b[39m\n",
       "\n",
       "  ────────────────────────────────────────────────────────────────────────────\n",
       "\n",
       "\u001b[36m  keys(m::RegexMatch) -> Vector\u001b[39m\n",
       "\n",
       "  Return a vector of keys for all capture groups of the underlying regex. A\n",
       "  key is included even if the capture group fails to match. That is, \u001b[36midx\u001b[39m will\n",
       "  be in the return value even if \u001b[36mm[idx] == nothing\u001b[39m.\n",
       "\n",
       "  Unnamed capture groups will have integer keys corresponding to their index.\n",
       "  Named capture groups will have string keys.\n",
       "\n",
       "\u001b[39m\u001b[1m  │ \u001b[22m\u001b[39m\u001b[1mJulia 1.6\u001b[22m\n",
       "\u001b[39m\u001b[1m  │\u001b[22m\n",
       "\u001b[39m\u001b[1m  │\u001b[22m  This method was added in Julia 1.6\n",
       "\n",
       "\u001b[1m  Examples\u001b[22m\n",
       "\u001b[1m  ≡≡≡≡≡≡≡≡≡≡\u001b[22m\n",
       "\n",
       "\u001b[36m  julia> keys(match(r\"(?<hour>\\d+):(?<minute>\\d+)(am|pm)?\", \"11:30\"))\u001b[39m\n",
       "\u001b[36m  3-element Vector{Any}:\u001b[39m\n",
       "\u001b[36m    \"hour\"\u001b[39m\n",
       "\u001b[36m    \"minute\"\u001b[39m\n",
       "\u001b[36m   3\u001b[39m"
      ]
     },
     "execution_count": 29,
     "metadata": {},
     "output_type": "execute_result"
    }
   ],
   "source": [
    "?keys"
   ]
  },
  {
   "cell_type": "markdown",
   "id": "4f5e062d-7221-4663-bafe-347361e4cf50",
   "metadata": {},
   "source": [
    "https://github.com/JuliaLang/julia/blob/16f433bb13cfc87eea21d26a797dac7b34a41d86/base/abstractdict.jl#L71"
   ]
  },
  {
   "cell_type": "code",
   "execution_count": null,
   "id": "86f4c224-b798-46b6-90d5-704708c9ae0b",
   "metadata": {},
   "outputs": [],
   "source": []
  }
 ],
 "metadata": {
  "jupytext": {
   "encoding": "# -*- coding: utf-8 -*-",
   "formats": "ipynb,jl:hydrogen"
  },
  "kernelspec": {
   "display_name": "Julia 1.7.0-beta2",
   "language": "julia",
   "name": "julia-1.7"
  },
  "language_info": {
   "file_extension": ".jl",
   "mimetype": "application/julia",
   "name": "julia",
   "version": "1.7.0"
  }
 },
 "nbformat": 4,
 "nbformat_minor": 5
}
