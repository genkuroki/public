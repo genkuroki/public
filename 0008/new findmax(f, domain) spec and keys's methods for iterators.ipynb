{
 "cells": [
  {
   "cell_type": "markdown",
   "id": "afa4e1db-d729-4a34-b4c9-bde67ecfcb6c",
   "metadata": {},
   "source": [
    "[old version of findmax(f, domain)](\n",
    "https://github.com/JuliaLang/julia/pull/35316/files#diff-97ad8b900c30b39398c32d78754c404f4a6df9a153d45284b2c11ab54837deb9R797)\n",
    "\n",
    "```julia\n",
    "findmax(f, domain) = mapfoldl(x -> (f(x), x), _rf_findmax, domain)\n",
    " _rf_findmax((fm, m), (fx, x)) = isless(fm, fx) ? (fx, x) : (fm, m)\n",
    "```\n",
    "\n",
    "[current version](https://github.com/JuliaLang/julia/pull/41076/files#diff-97ad8b900c30b39398c32d78754c404f4a6df9a153d45284b2c11ab54837deb9R803)\n",
    "\n",
    "```julia\n",
    "findmax(f, domain) = mapfoldl( ((k, v),) -> (f(v), k), _rf_findmax, pairs(domain) )\n",
    " _rf_findmax((fm, im), (fx, ix)) = isless(fm, fx) ? (fx, ix) : (fm, im)\n",
    "```\n",
    "\n",
    "Ref. [`findmax` and friends: confusing behaviour to be introduced in 1.7](https://discourse.julialang.org/t/findmax-and-friends-confusing-behaviour-to-be-introduced-in-1-7/61904)"
   ]
  },
  {
   "cell_type": "code",
   "execution_count": 1,
   "id": "b96601ee-9186-49fa-8541-be9cbd214daa",
   "metadata": {},
   "outputs": [],
   "source": [
    "using OffsetArrays"
   ]
  },
  {
   "cell_type": "code",
   "execution_count": 2,
   "id": "5b32287a-171a-446b-a92e-16c53ef4bb70",
   "metadata": {},
   "outputs": [
    {
     "data": {
      "text/plain": [
       "v\"1.7.0-beta2\""
      ]
     },
     "execution_count": 2,
     "metadata": {},
     "output_type": "execute_result"
    }
   ],
   "source": [
    "VERSION"
   ]
  },
  {
   "cell_type": "code",
   "execution_count": 3,
   "id": "41f6358e-e2b9-41e1-8ca1-fcde268bf927",
   "metadata": {},
   "outputs": [
    {
     "data": {
      "text/plain": [
       "Base.Iterators.ProductIterator{Tuple{StepRangeLen{Float64, Base.TwicePrecision{Float64}, Base.TwicePrecision{Float64}}, StepRangeLen{Float64, Base.TwicePrecision{Float64}, Base.TwicePrecision{Float64}}}}((-2.0:0.01:2.0, -2.0:0.01:2.0))"
      ]
     },
     "execution_count": 3,
     "metadata": {},
     "output_type": "execute_result"
    }
   ],
   "source": [
    "f(x, y) = cos(x)*sin(y) + 0.1(x - y)\n",
    "\n",
    "X = range(-2, 2; length=401)\n",
    "Y = range(-2, 2; length=401)\n",
    "XtimesY = Iterators.product(X, Y)"
   ]
  },
  {
   "cell_type": "code",
   "execution_count": 4,
   "id": "c4c8ab01-92ef-4226-8e24-ac7a5015f343",
   "metadata": {},
   "outputs": [
    {
     "ename": "LoadError",
     "evalue": "MethodError: no method matching keys(::Base.Iterators.ProductIterator{Tuple{StepRangeLen{Float64, Base.TwicePrecision{Float64}, Base.TwicePrecision{Float64}}, StepRangeLen{Float64, Base.TwicePrecision{Float64}, Base.TwicePrecision{Float64}}}})\n\u001b[0mClosest candidates are:\n\u001b[0m  keys(\u001b[91m::IOContext\u001b[39m) at show.jl:345\n\u001b[0m  keys(\u001b[91m::Base.Generator\u001b[39m) at generator.jl:54\n\u001b[0m  keys(\u001b[91m::Tuple\u001b[39m) at tuple.jl:72\n\u001b[0m  ...",
     "output_type": "error",
     "traceback": [
      "MethodError: no method matching keys(::Base.Iterators.ProductIterator{Tuple{StepRangeLen{Float64, Base.TwicePrecision{Float64}, Base.TwicePrecision{Float64}}, StepRangeLen{Float64, Base.TwicePrecision{Float64}, Base.TwicePrecision{Float64}}}})\n\u001b[0mClosest candidates are:\n\u001b[0m  keys(\u001b[91m::IOContext\u001b[39m) at show.jl:345\n\u001b[0m  keys(\u001b[91m::Base.Generator\u001b[39m) at generator.jl:54\n\u001b[0m  keys(\u001b[91m::Tuple\u001b[39m) at tuple.jl:72\n\u001b[0m  ...",
      "",
      "Stacktrace:",
      " [1] pairs(collection::Base.Iterators.ProductIterator{Tuple{StepRangeLen{Float64, Base.TwicePrecision{Float64}, Base.TwicePrecision{Float64}}, StepRangeLen{Float64, Base.TwicePrecision{Float64}, Base.TwicePrecision{Float64}}}})",
      "   @ Base .\\abstractdict.jl:138",
      " [2] findmax(f::var\"#1#2\", domain::Base.Iterators.ProductIterator{Tuple{StepRangeLen{Float64, Base.TwicePrecision{Float64}, Base.TwicePrecision{Float64}}, StepRangeLen{Float64, Base.TwicePrecision{Float64}, Base.TwicePrecision{Float64}}}})",
      "   @ Base .\\reduce.jl:803",
      " [3] top-level scope",
      "   @ In[4]:1",
      " [4] eval",
      "   @ .\\boot.jl:373 [inlined]",
      " [5] include_string(mapexpr::typeof(REPL.softscope), mod::Module, code::String, filename::String)",
      "   @ Base .\\loading.jl:1196"
     ]
    }
   ],
   "source": [
    "val, idx = findmax(XtimesY) do (x, y); f(x, y) end"
   ]
  },
  {
   "cell_type": "markdown",
   "id": "08a5fcc0-21a8-4653-b006-64a29bb988e6",
   "metadata": {},
   "source": [
    "`pairs` function used in `findmax(f, domain)` function requires `keys` method."
   ]
  },
  {
   "cell_type": "code",
   "execution_count": 5,
   "id": "8a11795e-c84f-4078-af01-3ecee662c2d9",
   "metadata": {
    "tags": []
   },
   "outputs": [
    {
     "data": {
      "text/html": [
       "# 20 methods for generic function <b>keys</b>:<ul><li> keys(io::<b>IOContext</b>) in Base at <a href=\"https://github.com/JuliaLang/julia/tree/b570546b68de16bd208ca76a20c1385919de18d6/base/show.jl#L345\" target=\"_blank\">show.jl:345</a></li> <li> keys(g::<b>Base.Generator</b>) in Base at <a href=\"https://github.com/JuliaLang/julia/tree/b570546b68de16bd208ca76a20c1385919de18d6/base/generator.jl#L54\" target=\"_blank\">generator.jl:54</a></li> <li> keys(t::<b>Tuple</b>) in Base at <a href=\"https://github.com/JuliaLang/julia/tree/b570546b68de16bd208ca76a20c1385919de18d6/base/tuple.jl#L72\" target=\"_blank\">tuple.jl:72</a></li> <li> keys(t::<b>Tuple</b>, t2::<b>Tuple...</b>) in Base at <a href=\"https://github.com/JuliaLang/julia/tree/b570546b68de16bd208ca76a20c1385919de18d6/base/tuple.jl#L77\" target=\"_blank\">tuple.jl:77</a></li> <li> keys(itr::<b>Base.SkipMissing</b>) in Base at <a href=\"https://github.com/JuliaLang/julia/tree/b570546b68de16bd208ca76a20c1385919de18d6/base/missing.jl#L264\" target=\"_blank\">missing.jl:264</a></li> <li> keys(::<b>Number</b>) in Base at <a href=\"https://github.com/JuliaLang/julia/tree/b570546b68de16bd208ca76a20c1385919de18d6/base/number.jl#L93\" target=\"_blank\">number.jl:93</a></li> <li> keys(v::<b>Base.Pairs</b>) in Base.Iterators at <a href=\"https://github.com/JuliaLang/julia/tree/b570546b68de16bd208ca76a20c1385919de18d6/base/iterators.jl#L256\" target=\"_blank\">iterators.jl:256</a></li> <li> keys(a::<b>AbstractDict</b>) in Base at <a href=\"https://github.com/JuliaLang/julia/tree/b570546b68de16bd208ca76a20c1385919de18d6/base/abstractdict.jl#L103\" target=\"_blank\">abstractdict.jl:103</a></li> <li> keys(nt::<b>NamedTuple{names}</b>)<i> where names</i> in Base at <a href=\"https://github.com/JuliaLang/julia/tree/b570546b68de16bd208ca76a20c1385919de18d6/base/namedtuple.jl#L306\" target=\"_blank\">namedtuple.jl:306</a></li> <li> keys(s::<b>IndexStyle</b>, A::<b>AbstractArray</b>, B::<b>AbstractArray...</b>) in Base at <a href=\"https://github.com/JuliaLang/julia/tree/b570546b68de16bd208ca76a20c1385919de18d6/base/abstractarray.jl#L353\" target=\"_blank\">abstractarray.jl:353</a></li> <li> keys(a::<b>Test.GenericArray</b>) in Test at <a href=\"file://C:/buildbot/worker/package_win64/build/usr/share/julia/stdlib/v1.7/Test/src/Test.jl\" target=\"_blank\">D:\\Julia-1.7.0\\share\\julia\\stdlib\\v1.7\\Test\\src\\Test.jl:1819</a></li> <li> keys(a::<b>AbstractVector</b>) in Base at <a href=\"https://github.com/JuliaLang/julia/tree/b570546b68de16bd208ca76a20c1385919de18d6/base/abstractarray.jl#L136\" target=\"_blank\">abstractarray.jl:136</a></li> <li> keys(a::<b>AbstractArray</b>) in Base at <a href=\"https://github.com/JuliaLang/julia/tree/b570546b68de16bd208ca76a20c1385919de18d6/base/abstractarray.jl#L135\" target=\"_blank\">abstractarray.jl:135</a></li> <li> keys(s::<b>AbstractString</b>) in Base at <a href=\"https://github.com/JuliaLang/julia/tree/b570546b68de16bd208ca76a20c1385919de18d6/base/strings/basic.jl#L571\" target=\"_blank\">strings/basic.jl:571</a></li> <li> keys(io::<b>IO</b>) in Base at <a href=\"https://github.com/JuliaLang/julia/tree/b570546b68de16bd208ca76a20c1385919de18d6/base/show.jl#L346\" target=\"_blank\">show.jl:346</a></li> <li> keys(cmd::<b>Cmd</b>) in Base at <a href=\"https://github.com/JuliaLang/julia/tree/b570546b68de16bd208ca76a20c1385919de18d6/base/process.jl#L643\" target=\"_blank\">process.jl:643</a></li> <li> keys(m::<b>RegexMatch</b>) in Base at <a href=\"https://github.com/JuliaLang/julia/tree/b570546b68de16bd208ca76a20c1385919de18d6/base/regex.jl#L219\" target=\"_blank\">regex.jl:219</a></li> <li> keys(m::<b>Pkg.Types.Manifest</b>) in Pkg.Types at <a href=\"file://C:/buildbot/worker/package_win64/build/usr/share/julia/stdlib/v1.7/Pkg/src/Types.jl\" target=\"_blank\">D:\\Julia-1.7.0\\share\\julia\\stdlib\\v1.7\\Pkg\\src\\Types.jl:279</a></li> <li> keys(v::<b>Core.SimpleVector</b>) in Base at <a href=\"https://github.com/JuliaLang/julia/tree/b570546b68de16bd208ca76a20c1385919de18d6/base/essentials.jl#L609\" target=\"_blank\">essentials.jl:609</a></li> <li> keys(r::<b>Pkg.Registry.RegistryInstance</b>) in Pkg.Registry at <a href=\"file://C:/buildbot/worker/package_win64/build/usr/share/julia/stdlib/v1.7/Pkg/src/Registry/registry_instance.jl\" target=\"_blank\">D:\\Julia-1.7.0\\share\\julia\\stdlib\\v1.7\\Pkg\\src\\Registry\\registry_instance.jl:386</a></li> </ul>"
      ],
      "text/plain": [
       "# 20 methods for generic function \"keys\":\n",
       "[1] keys(io::IOContext) in Base at show.jl:345\n",
       "[2] keys(g::Base.Generator) in Base at generator.jl:54\n",
       "[3] keys(t::Tuple) in Base at tuple.jl:72\n",
       "[4] keys(t::Tuple, t2::Tuple...) in Base at tuple.jl:77\n",
       "[5] keys(itr::Base.SkipMissing) in Base at missing.jl:264\n",
       "[6] keys(::Number) in Base at number.jl:93\n",
       "[7] keys(v::Base.Pairs) in Base.Iterators at iterators.jl:256\n",
       "[8] keys(a::AbstractDict) in Base at abstractdict.jl:103\n",
       "[9] keys(nt::NamedTuple{names}) where names in Base at namedtuple.jl:306\n",
       "[10] keys(s::IndexStyle, A::AbstractArray, B::AbstractArray...) in Base at abstractarray.jl:353\n",
       "[11] keys(a::Test.GenericArray) in Test at D:\\Julia-1.7.0\\share\\julia\\stdlib\\v1.7\\Test\\src\\Test.jl:1819\n",
       "[12] keys(a::AbstractVector) in Base at abstractarray.jl:136\n",
       "[13] keys(a::AbstractArray) in Base at abstractarray.jl:135\n",
       "[14] keys(s::AbstractString) in Base at strings/basic.jl:571\n",
       "[15] keys(io::IO) in Base at show.jl:346\n",
       "[16] keys(cmd::Cmd) in Base at process.jl:643\n",
       "[17] keys(m::RegexMatch) in Base at regex.jl:219\n",
       "[18] keys(m::Pkg.Types.Manifest) in Pkg.Types at D:\\Julia-1.7.0\\share\\julia\\stdlib\\v1.7\\Pkg\\src\\Types.jl:279\n",
       "[19] keys(v::Core.SimpleVector) in Base at essentials.jl:609\n",
       "[20] keys(r::Pkg.Registry.RegistryInstance) in Pkg.Registry at D:\\Julia-1.7.0\\share\\julia\\stdlib\\v1.7\\Pkg\\src\\Registry\\registry_instance.jl:386"
      ]
     },
     "execution_count": 5,
     "metadata": {},
     "output_type": "execute_result"
    }
   ],
   "source": [
    "methods(keys)"
   ]
  },
  {
   "cell_type": "code",
   "execution_count": 6,
   "id": "dcbdd813-3284-49ab-a27d-0cbad1fce086",
   "metadata": {},
   "outputs": [
    {
     "data": {
      "text/plain": [
       "401×401 CartesianIndices{2, Tuple{Base.OneTo{Int64}, Base.OneTo{Int64}}}:\n",
       " CartesianIndex(1, 1)    CartesianIndex(1, 2)    …  CartesianIndex(1, 401)\n",
       " CartesianIndex(2, 1)    CartesianIndex(2, 2)       CartesianIndex(2, 401)\n",
       " CartesianIndex(3, 1)    CartesianIndex(3, 2)       CartesianIndex(3, 401)\n",
       " CartesianIndex(4, 1)    CartesianIndex(4, 2)       CartesianIndex(4, 401)\n",
       " CartesianIndex(5, 1)    CartesianIndex(5, 2)       CartesianIndex(5, 401)\n",
       " CartesianIndex(6, 1)    CartesianIndex(6, 2)    …  CartesianIndex(6, 401)\n",
       " CartesianIndex(7, 1)    CartesianIndex(7, 2)       CartesianIndex(7, 401)\n",
       " CartesianIndex(8, 1)    CartesianIndex(8, 2)       CartesianIndex(8, 401)\n",
       " CartesianIndex(9, 1)    CartesianIndex(9, 2)       CartesianIndex(9, 401)\n",
       " CartesianIndex(10, 1)   CartesianIndex(10, 2)      CartesianIndex(10, 401)\n",
       " CartesianIndex(11, 1)   CartesianIndex(11, 2)   …  CartesianIndex(11, 401)\n",
       " CartesianIndex(12, 1)   CartesianIndex(12, 2)      CartesianIndex(12, 401)\n",
       " CartesianIndex(13, 1)   CartesianIndex(13, 2)      CartesianIndex(13, 401)\n",
       " ⋮                                               ⋱  ⋮\n",
       " CartesianIndex(390, 1)  CartesianIndex(390, 2)     CartesianIndex(390, 401)\n",
       " CartesianIndex(391, 1)  CartesianIndex(391, 2)  …  CartesianIndex(391, 401)\n",
       " CartesianIndex(392, 1)  CartesianIndex(392, 2)     CartesianIndex(392, 401)\n",
       " CartesianIndex(393, 1)  CartesianIndex(393, 2)     CartesianIndex(393, 401)\n",
       " CartesianIndex(394, 1)  CartesianIndex(394, 2)     CartesianIndex(394, 401)\n",
       " CartesianIndex(395, 1)  CartesianIndex(395, 2)     CartesianIndex(395, 401)\n",
       " CartesianIndex(396, 1)  CartesianIndex(396, 2)  …  CartesianIndex(396, 401)\n",
       " CartesianIndex(397, 1)  CartesianIndex(397, 2)     CartesianIndex(397, 401)\n",
       " CartesianIndex(398, 1)  CartesianIndex(398, 2)     CartesianIndex(398, 401)\n",
       " CartesianIndex(399, 1)  CartesianIndex(399, 2)     CartesianIndex(399, 401)\n",
       " CartesianIndex(400, 1)  CartesianIndex(400, 2)     CartesianIndex(400, 401)\n",
       " CartesianIndex(401, 1)  CartesianIndex(401, 2)  …  CartesianIndex(401, 401)"
      ]
     },
     "execution_count": 6,
     "metadata": {},
     "output_type": "execute_result"
    }
   ],
   "source": [
    "keys(collect(XtimesY))"
   ]
  },
  {
   "cell_type": "code",
   "execution_count": 7,
   "id": "668ab366-4dfd-4c97-ae5d-692de85db9b6",
   "metadata": {},
   "outputs": [
    {
     "data": {
      "text/plain": [
       "(0.8529538721652244, CartesianIndex(211, 348))"
      ]
     },
     "execution_count": 7,
     "metadata": {},
     "output_type": "execute_result"
    }
   ],
   "source": [
    "val, idx = findmax(collect(XtimesY)) do (x, y); f(x, y) end"
   ]
  },
  {
   "cell_type": "markdown",
   "id": "acce825f-70e8-49da-8733-9c611b8dc6eb",
   "metadata": {},
   "source": [
    "But `collect` causes memory allocations and I do not feel like it."
   ]
  },
  {
   "cell_type": "code",
   "execution_count": 8,
   "id": "dd1cd90a-e4ee-41bb-84fb-c521682cd791",
   "metadata": {},
   "outputs": [
    {
     "data": {
      "text/plain": [
       "(Base.OneTo(401), Base.OneTo(401))"
      ]
     },
     "execution_count": 8,
     "metadata": {},
     "output_type": "execute_result"
    }
   ],
   "source": [
    "axes(XtimesY)"
   ]
  },
  {
   "cell_type": "code",
   "execution_count": 9,
   "id": "a669877c-a957-487c-b2da-d7e7b79360d5",
   "metadata": {},
   "outputs": [
    {
     "data": {
      "text/plain": [
       "401×401 CartesianIndices{2, Tuple{Base.OneTo{Int64}, Base.OneTo{Int64}}}:\n",
       " CartesianIndex(1, 1)    CartesianIndex(1, 2)    …  CartesianIndex(1, 401)\n",
       " CartesianIndex(2, 1)    CartesianIndex(2, 2)       CartesianIndex(2, 401)\n",
       " CartesianIndex(3, 1)    CartesianIndex(3, 2)       CartesianIndex(3, 401)\n",
       " CartesianIndex(4, 1)    CartesianIndex(4, 2)       CartesianIndex(4, 401)\n",
       " CartesianIndex(5, 1)    CartesianIndex(5, 2)       CartesianIndex(5, 401)\n",
       " CartesianIndex(6, 1)    CartesianIndex(6, 2)    …  CartesianIndex(6, 401)\n",
       " CartesianIndex(7, 1)    CartesianIndex(7, 2)       CartesianIndex(7, 401)\n",
       " CartesianIndex(8, 1)    CartesianIndex(8, 2)       CartesianIndex(8, 401)\n",
       " CartesianIndex(9, 1)    CartesianIndex(9, 2)       CartesianIndex(9, 401)\n",
       " CartesianIndex(10, 1)   CartesianIndex(10, 2)      CartesianIndex(10, 401)\n",
       " CartesianIndex(11, 1)   CartesianIndex(11, 2)   …  CartesianIndex(11, 401)\n",
       " CartesianIndex(12, 1)   CartesianIndex(12, 2)      CartesianIndex(12, 401)\n",
       " CartesianIndex(13, 1)   CartesianIndex(13, 2)      CartesianIndex(13, 401)\n",
       " ⋮                                               ⋱  ⋮\n",
       " CartesianIndex(390, 1)  CartesianIndex(390, 2)     CartesianIndex(390, 401)\n",
       " CartesianIndex(391, 1)  CartesianIndex(391, 2)  …  CartesianIndex(391, 401)\n",
       " CartesianIndex(392, 1)  CartesianIndex(392, 2)     CartesianIndex(392, 401)\n",
       " CartesianIndex(393, 1)  CartesianIndex(393, 2)     CartesianIndex(393, 401)\n",
       " CartesianIndex(394, 1)  CartesianIndex(394, 2)     CartesianIndex(394, 401)\n",
       " CartesianIndex(395, 1)  CartesianIndex(395, 2)     CartesianIndex(395, 401)\n",
       " CartesianIndex(396, 1)  CartesianIndex(396, 2)  …  CartesianIndex(396, 401)\n",
       " CartesianIndex(397, 1)  CartesianIndex(397, 2)     CartesianIndex(397, 401)\n",
       " CartesianIndex(398, 1)  CartesianIndex(398, 2)     CartesianIndex(398, 401)\n",
       " CartesianIndex(399, 1)  CartesianIndex(399, 2)     CartesianIndex(399, 401)\n",
       " CartesianIndex(400, 1)  CartesianIndex(400, 2)     CartesianIndex(400, 401)\n",
       " CartesianIndex(401, 1)  CartesianIndex(401, 2)  …  CartesianIndex(401, 401)"
      ]
     },
     "execution_count": 9,
     "metadata": {},
     "output_type": "execute_result"
    }
   ],
   "source": [
    "CartesianIndices(axes(XtimesY))"
   ]
  },
  {
   "cell_type": "code",
   "execution_count": 10,
   "id": "d91f156e-d47c-4181-bb93-a5eb43bbcf95",
   "metadata": {},
   "outputs": [
    {
     "name": "stdout",
     "output_type": "stream",
     "text": [
      "(val, idx) = findmax(F, XtimesY) = (0.8529538721652244, CartesianIndex(211, 348))\n",
      "f(X[idx[1]], Y[idx[2]]) = 0.8529538721652244\n",
      "argmax(F.(XtimesY)) = CartesianIndex(211, 348)\n"
     ]
    }
   ],
   "source": [
    "Base.keys(pr::Iterators.ProductIterator) = CartesianIndices(axes(pr))\n",
    "F((x, y)) = f(x, y)\n",
    "\n",
    "@show val, idx = findmax(F, XtimesY)\n",
    "@show f(X[idx[1]], Y[idx[2]])\n",
    "@show argmax(F.(XtimesY));"
   ]
  },
  {
   "cell_type": "code",
   "execution_count": 11,
   "id": "088fdc45-18b9-46ab-b7a4-66e63aeb4bf4",
   "metadata": {},
   "outputs": [
    {
     "name": "stdout",
     "output_type": "stream",
     "text": [
      "(val, idx) = findmax(F, XtimesY) = (0.8529538721652244, CartesianIndex(211, 348))\n",
      "(val, (X[idx[1]], Y[idx[2]])) = (0.8529538721652244, (0.1, 1.47))\n",
      "argmax(F, XtimesY) = (0.1, 1.47)\n",
      "valargmax(F, XtimesY) = (0.8529538721652244, (0.1, 1.47))\n",
      "valargmax(F.(XtimesY)) = (0.8529538721652244, CartesianIndex(211, 348))\n",
      "findmax(F, XtimesY) = (0.8529538721652244, CartesianIndex(211, 348))\n"
     ]
    }
   ],
   "source": [
    "#valargmax(f, X) = (x = argmax(f, X); (f(x), x))\n",
    "struct ValArg{F} <:Function f::F end\n",
    "(valarg::ValArg)(x) = (valarg.f(x), x)\n",
    "valargmax(f, X) = mapfoldl(ValArg(f), Base._rf_findmax, X)\n",
    "valargmax(X) = valargmax(Base.Fix1(getindex, X), keys(X))\n",
    "F((x, y)) = f(x, y)\n",
    "\n",
    "@show val, idx = findmax(F, XtimesY)\n",
    "@show val, (X[idx[1]], Y[idx[2]])\n",
    "@show argmax(F, XtimesY)\n",
    "@show valargmax(F, XtimesY)\n",
    "@show valargmax(F.(XtimesY))\n",
    "@show findmax(F, XtimesY);"
   ]
  },
  {
   "cell_type": "code",
   "execution_count": 12,
   "id": "d38cceaa-d6f7-46d2-b467-d2d07e07d1ef",
   "metadata": {},
   "outputs": [
    {
     "name": "stdout",
     "output_type": "stream",
     "text": [
      "(val, idx) = findmax(sin, Iterators.Reverse(X)) = (0.9999996829318346, 44)\n",
      "sin((reverse(X))[idx]) = 0.9999996829318346\n"
     ]
    }
   ],
   "source": [
    "Base.keys(rv::Iterators.Reverse) = keys(reverse(rv.itr))\n",
    "\n",
    "@show val, idx = findmax(sin, Iterators.Reverse(X))\n",
    "@show sin(reverse(X)[idx]);"
   ]
  },
  {
   "cell_type": "code",
   "execution_count": 13,
   "id": "71ff3dfb-f063-4075-9d59-bf7f642a5dc8",
   "metadata": {},
   "outputs": [
    {
     "name": "stdout",
     "output_type": "stream",
     "text": [
      "(val, idx) = findmax(G, enumerate(X)) = (0.9999996829318346, 358)\n",
      "sin(X[idx]) = 0.9999996829318346\n"
     ]
    }
   ],
   "source": [
    "Base.keys(en::Iterators.Enumerate) = keys(en.itr)\n",
    "G((i, x)) = sin(x)\n",
    "\n",
    "@show val, idx = findmax(G, enumerate(X))\n",
    "@show sin(X[idx]);"
   ]
  },
  {
   "cell_type": "code",
   "execution_count": 14,
   "id": "8f5ca9b1-5a1f-4e6a-a1c3-5ccabcef0079",
   "metadata": {},
   "outputs": [
    {
     "name": "stdout",
     "output_type": "stream",
     "text": [
      "(val, idx) = findmax(H, zip(X, reverse(Y))) = (0.49997882324937, 122)\n",
      "cos(X[idx]) * sin((reverse(Y))[idx]) = 0.49997882324937\n"
     ]
    }
   ],
   "source": [
    "Base.keys(zp::Iterators.Zip) = Base.OneTo(length(zp))\n",
    "H((x, y)) = cos(x) * sin(y)\n",
    "\n",
    "@show val, idx = findmax(H, zip(X, reverse(Y)))\n",
    "@show cos(X[idx]) * sin(reverse(Y)[idx]);"
   ]
  },
  {
   "cell_type": "code",
   "execution_count": 15,
   "id": "78ec5b58-1ffb-447b-ba6e-8be137838d63",
   "metadata": {},
   "outputs": [
    {
     "name": "stdout",
     "output_type": "stream",
     "text": [
      "(val, idx) = findmax(sin, Iterators.accumulate(+, A; init = π)) = (0.9999998945903477, -31)\n",
      "sin(sum(A[begin:idx]) + π) = 0.9999998945903477\n"
     ]
    }
   ],
   "source": [
    "Base.keys(ac::Iterators.Accumulate) = keys(ac.itr)\n",
    "A = OffsetArray(range(-2, 2; length=401), -200:200)\n",
    "\n",
    "@show val, idx = findmax(sin, Iterators.accumulate(+, A; init=π))\n",
    "@show sin(sum(A[begin:idx]) + π);"
   ]
  },
  {
   "cell_type": "code",
   "execution_count": 16,
   "id": "bc3e5640-ce85-41bb-ab4f-0fd73642e90e",
   "metadata": {},
   "outputs": [
    {
     "name": "stdout",
     "output_type": "stream",
     "text": [
      "(val, idx) = findmax(sin, Iterators.take(reverse(X), 100)) = (0.9999996829318346, 44)\n",
      "sin((reverse(X))[idx]) = 0.9999996829318346\n"
     ]
    }
   ],
   "source": [
    "Base.keys(tk::Iterators.Take) = Base.OneTo(length(tk))\n",
    "\n",
    "@show val, idx = findmax(sin, Iterators.take(reverse(X), 100))\n",
    "@show sin(reverse(X)[idx]);"
   ]
  },
  {
   "cell_type": "code",
   "execution_count": 17,
   "id": "33176ca7-cf41-430c-aabb-b5d041383a1a",
   "metadata": {},
   "outputs": [
    {
     "data": {
      "text/html": [
       "# 6 methods for generic function <b>keys</b>:<ul><li> keys(pr::<b>Base.Iterators.ProductIterator</b>) in Main at In[10]:1</li> <li> keys(en::<b>Base.Iterators.Enumerate</b>) in Main at In[13]:1</li> <li> keys(rv::<b>Base.Iterators.Reverse</b>) in Main at In[12]:1</li> <li> keys(tk::<b>Base.Iterators.Take</b>) in Main at In[16]:1</li> <li> keys(ac::<b>Base.Iterators.Accumulate</b>) in Main at In[15]:1</li> <li> keys(zp::<b>Base.Iterators.Zip</b>) in Main at In[14]:1</li> </ul>"
      ],
      "text/plain": [
       "# 6 methods for generic function \"keys\":\n",
       "[1] keys(pr::Base.Iterators.ProductIterator) in Main at In[10]:1\n",
       "[2] keys(en::Base.Iterators.Enumerate) in Main at In[13]:1\n",
       "[3] keys(rv::Base.Iterators.Reverse) in Main at In[12]:1\n",
       "[4] keys(tk::Base.Iterators.Take) in Main at In[16]:1\n",
       "[5] keys(ac::Base.Iterators.Accumulate) in Main at In[15]:1\n",
       "[6] keys(zp::Base.Iterators.Zip) in Main at In[14]:1"
      ]
     },
     "execution_count": 17,
     "metadata": {},
     "output_type": "execute_result"
    }
   ],
   "source": [
    "methods(keys, Main)"
   ]
  },
  {
   "cell_type": "code",
   "execution_count": 18,
   "id": "27b17ac6-7786-4aed-9620-33adcda81726",
   "metadata": {},
   "outputs": [
    {
     "name": "stdout",
     "output_type": "stream",
     "text": [
      "search: \u001b[0m\u001b[1mk\u001b[22m\u001b[0m\u001b[1me\u001b[22m\u001b[0m\u001b[1my\u001b[22m\u001b[0m\u001b[1ms\u001b[22m \u001b[0m\u001b[1mk\u001b[22m\u001b[0m\u001b[1me\u001b[22m\u001b[0m\u001b[1my\u001b[22mtype \u001b[0m\u001b[1mK\u001b[22m\u001b[0m\u001b[1me\u001b[22m\u001b[0m\u001b[1my\u001b[22mError has\u001b[0m\u001b[1mk\u001b[22m\u001b[0m\u001b[1me\u001b[22m\u001b[0m\u001b[1my\u001b[22m get\u001b[0m\u001b[1mk\u001b[22m\u001b[0m\u001b[1me\u001b[22m\u001b[0m\u001b[1my\u001b[22m Undef\u001b[0m\u001b[1mK\u001b[22m\u001b[0m\u001b[1me\u001b[22m\u001b[0m\u001b[1my\u001b[22mwordError Wea\u001b[0m\u001b[1mk\u001b[22mK\u001b[0m\u001b[1me\u001b[22m\u001b[0m\u001b[1my\u001b[22mDict\n",
      "\n"
     ]
    },
    {
     "data": {
      "text/latex": [
       "\\begin{verbatim}\n",
       "keys(a::AbstractArray)\n",
       "\\end{verbatim}\n",
       "Return an efficient array describing all valid indices for \\texttt{a} arranged in the shape of \\texttt{a} itself.\n",
       "\n",
       "They keys of 1-dimensional arrays (vectors) are integers, whereas all other N-dimensional arrays use \\href{@ref}{\\texttt{CartesianIndex}} to describe their locations.  Often the special array types \\href{@ref}{\\texttt{LinearIndices}} and \\href{@ref}{\\texttt{CartesianIndices}} are used to efficiently represent these arrays of integers and \\texttt{CartesianIndex}es, respectively.\n",
       "\n",
       "Note that the \\texttt{keys} of an array might not be the most efficient index type; for maximum performance use  \\href{@ref}{\\texttt{eachindex}} instead.\n",
       "\n",
       "\\rule{\\textwidth}{1pt}\n",
       "\\begin{verbatim}\n",
       "keys(iterator)\n",
       "\\end{verbatim}\n",
       "For an iterator or collection that has keys and values (e.g. arrays and dictionaries), return an iterator over the keys.\n",
       "\n",
       "\\rule{\\textwidth}{1pt}\n",
       "\\begin{verbatim}\n",
       "keys(a::AbstractDict)\n",
       "\\end{verbatim}\n",
       "Return an iterator over all keys in a dictionary. \\texttt{collect(keys(a))} returns an array of keys. When the keys are stored internally in a hash table, as is the case for \\texttt{Dict}, the order in which they are returned may vary. But \\texttt{keys(a)} and \\texttt{values(a)} both iterate \\texttt{a} and return the elements in the same order.\n",
       "\n",
       "\\section{Examples}\n",
       "\\begin{verbatim}\n",
       "julia> D = Dict('a'=>2, 'b'=>3)\n",
       "Dict{Char, Int64} with 2 entries:\n",
       "  'a' => 2\n",
       "  'b' => 3\n",
       "\n",
       "julia> collect(keys(D))\n",
       "2-element Vector{Char}:\n",
       " 'a': ASCII/Unicode U+0061 (category Ll: Letter, lowercase)\n",
       " 'b': ASCII/Unicode U+0062 (category Ll: Letter, lowercase)\n",
       "\\end{verbatim}\n",
       "\\rule{\\textwidth}{1pt}\n",
       "\\begin{verbatim}\n",
       "keys(m::RegexMatch) -> Vector\n",
       "\\end{verbatim}\n",
       "Return a vector of keys for all capture groups of the underlying regex. A key is included even if the capture group fails to match. That is, \\texttt{idx} will be in the return value even if \\texttt{m[idx] == nothing}.\n",
       "\n",
       "Unnamed capture groups will have integer keys corresponding to their index. Named capture groups will have string keys.\n",
       "\n",
       "\\begin{quote}\n",
       "\\textbf{compat}\n",
       "\n",
       "Julia 1.6\n",
       "\n",
       "This method was added in Julia 1.6\n",
       "\n",
       "\\end{quote}\n",
       "\\section{Examples}\n",
       "\\begin{verbatim}\n",
       "julia> keys(match(r\"(?<hour>\\d+):(?<minute>\\d+)(am|pm)?\", \"11:30\"))\n",
       "3-element Vector{Any}:\n",
       "  \"hour\"\n",
       "  \"minute\"\n",
       " 3\n",
       "\\end{verbatim}\n"
      ],
      "text/markdown": [
       "```\n",
       "keys(a::AbstractArray)\n",
       "```\n",
       "\n",
       "Return an efficient array describing all valid indices for `a` arranged in the shape of `a` itself.\n",
       "\n",
       "They keys of 1-dimensional arrays (vectors) are integers, whereas all other N-dimensional arrays use [`CartesianIndex`](@ref) to describe their locations.  Often the special array types [`LinearIndices`](@ref) and [`CartesianIndices`](@ref) are used to efficiently represent these arrays of integers and `CartesianIndex`es, respectively.\n",
       "\n",
       "Note that the `keys` of an array might not be the most efficient index type; for maximum performance use  [`eachindex`](@ref) instead.\n",
       "\n",
       "---\n",
       "\n",
       "```\n",
       "keys(iterator)\n",
       "```\n",
       "\n",
       "For an iterator or collection that has keys and values (e.g. arrays and dictionaries), return an iterator over the keys.\n",
       "\n",
       "---\n",
       "\n",
       "```\n",
       "keys(a::AbstractDict)\n",
       "```\n",
       "\n",
       "Return an iterator over all keys in a dictionary. `collect(keys(a))` returns an array of keys. When the keys are stored internally in a hash table, as is the case for `Dict`, the order in which they are returned may vary. But `keys(a)` and `values(a)` both iterate `a` and return the elements in the same order.\n",
       "\n",
       "# Examples\n",
       "\n",
       "```jldoctest\n",
       "julia> D = Dict('a'=>2, 'b'=>3)\n",
       "Dict{Char, Int64} with 2 entries:\n",
       "  'a' => 2\n",
       "  'b' => 3\n",
       "\n",
       "julia> collect(keys(D))\n",
       "2-element Vector{Char}:\n",
       " 'a': ASCII/Unicode U+0061 (category Ll: Letter, lowercase)\n",
       " 'b': ASCII/Unicode U+0062 (category Ll: Letter, lowercase)\n",
       "```\n",
       "\n",
       "---\n",
       "\n",
       "```\n",
       "keys(m::RegexMatch) -> Vector\n",
       "```\n",
       "\n",
       "Return a vector of keys for all capture groups of the underlying regex. A key is included even if the capture group fails to match. That is, `idx` will be in the return value even if `m[idx] == nothing`.\n",
       "\n",
       "Unnamed capture groups will have integer keys corresponding to their index. Named capture groups will have string keys.\n",
       "\n",
       "!!! compat \"Julia 1.6\"\n",
       "    This method was added in Julia 1.6\n",
       "\n",
       "\n",
       "# Examples\n",
       "\n",
       "```jldoctest\n",
       "julia> keys(match(r\"(?<hour>\\d+):(?<minute>\\d+)(am|pm)?\", \"11:30\"))\n",
       "3-element Vector{Any}:\n",
       "  \"hour\"\n",
       "  \"minute\"\n",
       " 3\n",
       "```\n"
      ],
      "text/plain": [
       "\u001b[36m  keys(a::AbstractArray)\u001b[39m\n",
       "\n",
       "  Return an efficient array describing all valid indices for \u001b[36ma\u001b[39m arranged in the\n",
       "  shape of \u001b[36ma\u001b[39m itself.\n",
       "\n",
       "  They keys of 1-dimensional arrays (vectors) are integers, whereas all other\n",
       "  N-dimensional arrays use \u001b[36mCartesianIndex\u001b[39m to describe their locations. Often\n",
       "  the special array types \u001b[36mLinearIndices\u001b[39m and \u001b[36mCartesianIndices\u001b[39m are used to\n",
       "  efficiently represent these arrays of integers and \u001b[36mCartesianIndex\u001b[39mes,\n",
       "  respectively.\n",
       "\n",
       "  Note that the \u001b[36mkeys\u001b[39m of an array might not be the most efficient index type;\n",
       "  for maximum performance use \u001b[36meachindex\u001b[39m instead.\n",
       "\n",
       "  ────────────────────────────────────────────────────────────────────────────\n",
       "\n",
       "\u001b[36m  keys(iterator)\u001b[39m\n",
       "\n",
       "  For an iterator or collection that has keys and values (e.g. arrays and\n",
       "  dictionaries), return an iterator over the keys.\n",
       "\n",
       "  ────────────────────────────────────────────────────────────────────────────\n",
       "\n",
       "\u001b[36m  keys(a::AbstractDict)\u001b[39m\n",
       "\n",
       "  Return an iterator over all keys in a dictionary. \u001b[36mcollect(keys(a))\u001b[39m returns\n",
       "  an array of keys. When the keys are stored internally in a hash table, as is\n",
       "  the case for \u001b[36mDict\u001b[39m, the order in which they are returned may vary. But\n",
       "  \u001b[36mkeys(a)\u001b[39m and \u001b[36mvalues(a)\u001b[39m both iterate \u001b[36ma\u001b[39m and return the elements in the same\n",
       "  order.\n",
       "\n",
       "\u001b[1m  Examples\u001b[22m\n",
       "\u001b[1m  ≡≡≡≡≡≡≡≡≡≡\u001b[22m\n",
       "\n",
       "\u001b[36m  julia> D = Dict('a'=>2, 'b'=>3)\u001b[39m\n",
       "\u001b[36m  Dict{Char, Int64} with 2 entries:\u001b[39m\n",
       "\u001b[36m    'a' => 2\u001b[39m\n",
       "\u001b[36m    'b' => 3\u001b[39m\n",
       "\u001b[36m  \u001b[39m\n",
       "\u001b[36m  julia> collect(keys(D))\u001b[39m\n",
       "\u001b[36m  2-element Vector{Char}:\u001b[39m\n",
       "\u001b[36m   'a': ASCII/Unicode U+0061 (category Ll: Letter, lowercase)\u001b[39m\n",
       "\u001b[36m   'b': ASCII/Unicode U+0062 (category Ll: Letter, lowercase)\u001b[39m\n",
       "\n",
       "  ────────────────────────────────────────────────────────────────────────────\n",
       "\n",
       "\u001b[36m  keys(m::RegexMatch) -> Vector\u001b[39m\n",
       "\n",
       "  Return a vector of keys for all capture groups of the underlying regex. A\n",
       "  key is included even if the capture group fails to match. That is, \u001b[36midx\u001b[39m will\n",
       "  be in the return value even if \u001b[36mm[idx] == nothing\u001b[39m.\n",
       "\n",
       "  Unnamed capture groups will have integer keys corresponding to their index.\n",
       "  Named capture groups will have string keys.\n",
       "\n",
       "\u001b[39m\u001b[1m  │ \u001b[22m\u001b[39m\u001b[1mJulia 1.6\u001b[22m\n",
       "\u001b[39m\u001b[1m  │\u001b[22m\n",
       "\u001b[39m\u001b[1m  │\u001b[22m  This method was added in Julia 1.6\n",
       "\n",
       "\u001b[1m  Examples\u001b[22m\n",
       "\u001b[1m  ≡≡≡≡≡≡≡≡≡≡\u001b[22m\n",
       "\n",
       "\u001b[36m  julia> keys(match(r\"(?<hour>\\d+):(?<minute>\\d+)(am|pm)?\", \"11:30\"))\u001b[39m\n",
       "\u001b[36m  3-element Vector{Any}:\u001b[39m\n",
       "\u001b[36m    \"hour\"\u001b[39m\n",
       "\u001b[36m    \"minute\"\u001b[39m\n",
       "\u001b[36m   3\u001b[39m"
      ]
     },
     "execution_count": 18,
     "metadata": {},
     "output_type": "execute_result"
    }
   ],
   "source": [
    "?keys"
   ]
  },
  {
   "cell_type": "markdown",
   "id": "4f5e062d-7221-4663-bafe-347361e4cf50",
   "metadata": {},
   "source": [
    "https://github.com/JuliaLang/julia/blob/16f433bb13cfc87eea21d26a797dac7b34a41d86/base/abstractdict.jl#L71"
   ]
  },
  {
   "cell_type": "code",
   "execution_count": 19,
   "id": "455aa08b-fbb9-41b1-a684-60119dfa0c7e",
   "metadata": {},
   "outputs": [
    {
     "data": {
      "text/latex": [
       "\\begin{verbatim}\n",
       "isgreater(x, y)\n",
       "\\end{verbatim}\n",
       "Not the inverse of \\texttt{isless}! Test whether \\texttt{x} is greater than \\texttt{y}, according to a fixed total order compatible with \\texttt{min}.\n",
       "\n",
       "Defined with \\texttt{isless}, this function is usually \\texttt{isless(y, x)}, but \\texttt{NaN} and \\href{@ref}{\\texttt{missing}} are ordered as smaller than any ordinary value with \\texttt{missing} smaller than \\texttt{NaN}.\n",
       "\n",
       "So \\texttt{isless} defines an ascending total order with \\texttt{NaN} and \\texttt{missing} as the largest values and \\texttt{isgreater} defines a descending total order with \\texttt{NaN} and \\texttt{missing} as the smallest values.\n",
       "\n",
       "\\begin{quote}\n",
       "\\textbf{note}\n",
       "\n",
       "Note\n",
       "\n",
       "Like \\texttt{min}, \\texttt{isgreater} orders containers (tuples, vectors, etc) lexicographically with \\texttt{isless(y, x)} rather than recursively with itself:\n",
       "\n",
       "\\begin{verbatim}\n",
       "julia> Base.isgreater(1, NaN) # 1 is greater than NaN\n",
       "true\n",
       "\n",
       "julia> Base.isgreater((1,), (NaN,)) # But (1,) is not greater than (NaN,)\n",
       "false\n",
       "\n",
       "julia> sort([1, 2, 3, NaN]; lt=Base.isgreater)\n",
       "4-element Vector{Float64}:\n",
       "   3.0\n",
       "   2.0\n",
       "   1.0\n",
       " NaN\n",
       "\n",
       "julia> sort(tuple.([1, 2, 3, NaN]); lt=Base.isgreater)\n",
       "4-element Vector{Tuple{Float64}}:\n",
       " (NaN,)\n",
       " (3.0,)\n",
       " (2.0,)\n",
       " (1.0,)\n",
       "\\end{verbatim}\n",
       "\\end{quote}\n",
       "\\section{Implementation}\n",
       "This is unexported. Types should not usually implement this function. Instead, implement \\texttt{isless}.\n",
       "\n"
      ],
      "text/markdown": [
       "```\n",
       "isgreater(x, y)\n",
       "```\n",
       "\n",
       "Not the inverse of `isless`! Test whether `x` is greater than `y`, according to a fixed total order compatible with `min`.\n",
       "\n",
       "Defined with `isless`, this function is usually `isless(y, x)`, but `NaN` and [`missing`](@ref) are ordered as smaller than any ordinary value with `missing` smaller than `NaN`.\n",
       "\n",
       "So `isless` defines an ascending total order with `NaN` and `missing` as the largest values and `isgreater` defines a descending total order with `NaN` and `missing` as the smallest values.\n",
       "\n",
       "!!! note\n",
       "    Like `min`, `isgreater` orders containers (tuples, vectors, etc) lexicographically with `isless(y, x)` rather than recursively with itself:\n",
       "\n",
       "    ```jldoctest\n",
       "    julia> Base.isgreater(1, NaN) # 1 is greater than NaN\n",
       "    true\n",
       "\n",
       "    julia> Base.isgreater((1,), (NaN,)) # But (1,) is not greater than (NaN,)\n",
       "    false\n",
       "\n",
       "    julia> sort([1, 2, 3, NaN]; lt=Base.isgreater)\n",
       "    4-element Vector{Float64}:\n",
       "       3.0\n",
       "       2.0\n",
       "       1.0\n",
       "     NaN\n",
       "\n",
       "    julia> sort(tuple.([1, 2, 3, NaN]); lt=Base.isgreater)\n",
       "    4-element Vector{Tuple{Float64}}:\n",
       "     (NaN,)\n",
       "     (3.0,)\n",
       "     (2.0,)\n",
       "     (1.0,)\n",
       "    ```\n",
       "\n",
       "\n",
       "# Implementation\n",
       "\n",
       "This is unexported. Types should not usually implement this function. Instead, implement `isless`.\n"
      ],
      "text/plain": [
       "\u001b[36m  isgreater(x, y)\u001b[39m\n",
       "\n",
       "  Not the inverse of \u001b[36misless\u001b[39m! Test whether \u001b[36mx\u001b[39m is greater than \u001b[36my\u001b[39m, according to a\n",
       "  fixed total order compatible with \u001b[36mmin\u001b[39m.\n",
       "\n",
       "  Defined with \u001b[36misless\u001b[39m, this function is usually \u001b[36misless(y, x)\u001b[39m, but \u001b[36mNaN\u001b[39m and\n",
       "  \u001b[36mmissing\u001b[39m are ordered as smaller than any ordinary value with \u001b[36mmissing\u001b[39m smaller\n",
       "  than \u001b[36mNaN\u001b[39m.\n",
       "\n",
       "  So \u001b[36misless\u001b[39m defines an ascending total order with \u001b[36mNaN\u001b[39m and \u001b[36mmissing\u001b[39m as the\n",
       "  largest values and \u001b[36misgreater\u001b[39m defines a descending total order with \u001b[36mNaN\u001b[39m and\n",
       "  \u001b[36mmissing\u001b[39m as the smallest values.\n",
       "\n",
       "\u001b[36m\u001b[1m  │ \u001b[22m\u001b[39m\u001b[36m\u001b[1mNote\u001b[22m\u001b[39m\n",
       "\u001b[36m\u001b[1m  │\u001b[22m\u001b[39m\n",
       "\u001b[36m\u001b[1m  │\u001b[22m\u001b[39m  Like \u001b[36mmin\u001b[39m, \u001b[36misgreater\u001b[39m orders containers (tuples, vectors, etc)\n",
       "\u001b[36m\u001b[1m  │\u001b[22m\u001b[39m  lexicographically with \u001b[36misless(y, x)\u001b[39m rather than recursively with\n",
       "\u001b[36m\u001b[1m  │\u001b[22m\u001b[39m  itself:\n",
       "\u001b[36m\u001b[1m  │\u001b[22m\u001b[39m\n",
       "\u001b[36m\u001b[1m  │\u001b[22m\u001b[39m\u001b[36m  julia> Base.isgreater(1, NaN) # 1 is greater than NaN\u001b[39m\n",
       "\u001b[36m\u001b[1m  │\u001b[22m\u001b[39m\u001b[36m  true\u001b[39m\n",
       "\u001b[36m\u001b[1m  │\u001b[22m\u001b[39m\u001b[36m  \u001b[39m\n",
       "\u001b[36m\u001b[1m  │\u001b[22m\u001b[39m\u001b[36m  julia> Base.isgreater((1,), (NaN,)) # But (1,) is not greater than (NaN,)\u001b[39m\n",
       "\u001b[36m\u001b[1m  │\u001b[22m\u001b[39m\u001b[36m  false\u001b[39m\n",
       "\u001b[36m\u001b[1m  │\u001b[22m\u001b[39m\u001b[36m  \u001b[39m\n",
       "\u001b[36m\u001b[1m  │\u001b[22m\u001b[39m\u001b[36m  julia> sort([1, 2, 3, NaN]; lt=Base.isgreater)\u001b[39m\n",
       "\u001b[36m\u001b[1m  │\u001b[22m\u001b[39m\u001b[36m  4-element Vector{Float64}:\u001b[39m\n",
       "\u001b[36m\u001b[1m  │\u001b[22m\u001b[39m\u001b[36m     3.0\u001b[39m\n",
       "\u001b[36m\u001b[1m  │\u001b[22m\u001b[39m\u001b[36m     2.0\u001b[39m\n",
       "\u001b[36m\u001b[1m  │\u001b[22m\u001b[39m\u001b[36m     1.0\u001b[39m\n",
       "\u001b[36m\u001b[1m  │\u001b[22m\u001b[39m\u001b[36m   NaN\u001b[39m\n",
       "\u001b[36m\u001b[1m  │\u001b[22m\u001b[39m\u001b[36m  \u001b[39m\n",
       "\u001b[36m\u001b[1m  │\u001b[22m\u001b[39m\u001b[36m  julia> sort(tuple.([1, 2, 3, NaN]); lt=Base.isgreater)\u001b[39m\n",
       "\u001b[36m\u001b[1m  │\u001b[22m\u001b[39m\u001b[36m  4-element Vector{Tuple{Float64}}:\u001b[39m\n",
       "\u001b[36m\u001b[1m  │\u001b[22m\u001b[39m\u001b[36m   (NaN,)\u001b[39m\n",
       "\u001b[36m\u001b[1m  │\u001b[22m\u001b[39m\u001b[36m   (3.0,)\u001b[39m\n",
       "\u001b[36m\u001b[1m  │\u001b[22m\u001b[39m\u001b[36m   (2.0,)\u001b[39m\n",
       "\u001b[36m\u001b[1m  │\u001b[22m\u001b[39m\u001b[36m   (1.0,)\u001b[39m\n",
       "\n",
       "\u001b[1m  Implementation\u001b[22m\n",
       "\u001b[1m  ≡≡≡≡≡≡≡≡≡≡≡≡≡≡≡≡\u001b[22m\n",
       "\n",
       "  This is unexported. Types should not usually implement this function.\n",
       "  Instead, implement \u001b[36misless\u001b[39m."
      ]
     },
     "execution_count": 19,
     "metadata": {},
     "output_type": "execute_result"
    }
   ],
   "source": [
    "?Base.isgreater"
   ]
  },
  {
   "cell_type": "code",
   "execution_count": 20,
   "id": "6cf65afa-e327-4893-b2c6-2fcf0ccde91e",
   "metadata": {},
   "outputs": [
    {
     "name": "stdout",
     "output_type": "stream",
     "text": [
      "search: \u001b[0m\u001b[1mf\u001b[22m\u001b[0m\u001b[1mi\u001b[22m\u001b[0m\u001b[1mn\u001b[22m\u001b[0m\u001b[1md\u001b[22m\u001b[0m\u001b[1mm\u001b[22m\u001b[0m\u001b[1ma\u001b[22m\u001b[0m\u001b[1mx\u001b[22m \u001b[0m\u001b[1mf\u001b[22m\u001b[0m\u001b[1mi\u001b[22m\u001b[0m\u001b[1mn\u001b[22m\u001b[0m\u001b[1md\u001b[22m\u001b[0m\u001b[1mm\u001b[22m\u001b[0m\u001b[1ma\u001b[22m\u001b[0m\u001b[1mx\u001b[22m! \u001b[0m\u001b[1mf\u001b[22m\u001b[0m\u001b[1mi\u001b[22m\u001b[0m\u001b[1mn\u001b[22m\u001b[0m\u001b[1md\u001b[22m\u001b[0m\u001b[1mm\u001b[22min \u001b[0m\u001b[1mf\u001b[22m\u001b[0m\u001b[1mi\u001b[22m\u001b[0m\u001b[1mn\u001b[22m\u001b[0m\u001b[1md\u001b[22m\u001b[0m\u001b[1mm\u001b[22min!\n",
      "\n"
     ]
    },
    {
     "data": {
      "text/latex": [
       "\\begin{verbatim}\n",
       "findmax(f, domain) -> (f(x), index)\n",
       "\\end{verbatim}\n",
       "Returns a pair of a value in the codomain (outputs of \\texttt{f}) and the index of the corresponding value in the \\texttt{domain} (inputs to \\texttt{f}) such that \\texttt{f(x)} is maximised. If there are multiple maximal points, then the first one will be returned.\n",
       "\n",
       "\\texttt{domain} must be a non-empty iterable.\n",
       "\n",
       "Values are compared with \\texttt{isless}.\n",
       "\n",
       "\\begin{quote}\n",
       "\\textbf{compat}\n",
       "\n",
       "Julia 1.7\n",
       "\n",
       "This method requires Julia 1.7 or later.\n",
       "\n",
       "\\end{quote}\n",
       "\\section{Examples}\n",
       "\\begin{verbatim}\n",
       "julia> findmax(identity, 5:9)\n",
       "(9, 5)\n",
       "\n",
       "julia> findmax(-, 1:10)\n",
       "(-1, 1)\n",
       "\n",
       "julia> findmax(first, [(1, :a), (3, :b), (3, :c)])\n",
       "(3, 2)\n",
       "\n",
       "julia> findmax(cos, 0:π/2:2π)\n",
       "(1.0, 1)\n",
       "\\end{verbatim}\n",
       "\\rule{\\textwidth}{1pt}\n",
       "\\begin{verbatim}\n",
       "findmax(itr) -> (x, index)\n",
       "\\end{verbatim}\n",
       "Return the maximal element of the collection \\texttt{itr} and its index or key. If there are multiple maximal elements, then the first one will be returned. Values are compared with \\texttt{isless}.\n",
       "\n",
       "See also: \\href{@ref}{\\texttt{findmin}}, \\href{@ref}{\\texttt{argmax}}, \\href{@ref}{\\texttt{maximum}}.\n",
       "\n",
       "\\section{Examples}\n",
       "\\begin{verbatim}\n",
       "julia> findmax([8, 0.1, -9, pi])\n",
       "(8.0, 1)\n",
       "\n",
       "julia> findmax([1, 7, 7, 6])\n",
       "(7, 2)\n",
       "\n",
       "julia> findmax([1, 7, 7, NaN])\n",
       "(NaN, 4)\n",
       "\\end{verbatim}\n",
       "\\rule{\\textwidth}{1pt}\n",
       "\\begin{verbatim}\n",
       "findmax(A; dims) -> (maxval, index)\n",
       "\\end{verbatim}\n",
       "For an array input, returns the value and index of the maximum over the given dimensions. \\texttt{NaN} is treated as greater than all other values except \\texttt{missing}.\n",
       "\n",
       "\\section{Examples}\n",
       "\\begin{verbatim}\n",
       "julia> A = [1.0 2; 3 4]\n",
       "2×2 Matrix{Float64}:\n",
       " 1.0  2.0\n",
       " 3.0  4.0\n",
       "\n",
       "julia> findmax(A, dims=1)\n",
       "([3.0 4.0], CartesianIndex{2}[CartesianIndex(2, 1) CartesianIndex(2, 2)])\n",
       "\n",
       "julia> findmax(A, dims=2)\n",
       "([2.0; 4.0;;], CartesianIndex{2}[CartesianIndex(1, 2); CartesianIndex(2, 2);;])\n",
       "\\end{verbatim}\n"
      ],
      "text/markdown": [
       "```\n",
       "findmax(f, domain) -> (f(x), index)\n",
       "```\n",
       "\n",
       "Returns a pair of a value in the codomain (outputs of `f`) and the index of the corresponding value in the `domain` (inputs to `f`) such that `f(x)` is maximised. If there are multiple maximal points, then the first one will be returned.\n",
       "\n",
       "`domain` must be a non-empty iterable.\n",
       "\n",
       "Values are compared with `isless`.\n",
       "\n",
       "!!! compat \"Julia 1.7\"\n",
       "    This method requires Julia 1.7 or later.\n",
       "\n",
       "\n",
       "# Examples\n",
       "\n",
       "```jldoctest\n",
       "julia> findmax(identity, 5:9)\n",
       "(9, 5)\n",
       "\n",
       "julia> findmax(-, 1:10)\n",
       "(-1, 1)\n",
       "\n",
       "julia> findmax(first, [(1, :a), (3, :b), (3, :c)])\n",
       "(3, 2)\n",
       "\n",
       "julia> findmax(cos, 0:π/2:2π)\n",
       "(1.0, 1)\n",
       "```\n",
       "\n",
       "---\n",
       "\n",
       "```\n",
       "findmax(itr) -> (x, index)\n",
       "```\n",
       "\n",
       "Return the maximal element of the collection `itr` and its index or key. If there are multiple maximal elements, then the first one will be returned. Values are compared with `isless`.\n",
       "\n",
       "See also: [`findmin`](@ref), [`argmax`](@ref), [`maximum`](@ref).\n",
       "\n",
       "# Examples\n",
       "\n",
       "```jldoctest\n",
       "julia> findmax([8, 0.1, -9, pi])\n",
       "(8.0, 1)\n",
       "\n",
       "julia> findmax([1, 7, 7, 6])\n",
       "(7, 2)\n",
       "\n",
       "julia> findmax([1, 7, 7, NaN])\n",
       "(NaN, 4)\n",
       "```\n",
       "\n",
       "---\n",
       "\n",
       "```\n",
       "findmax(A; dims) -> (maxval, index)\n",
       "```\n",
       "\n",
       "For an array input, returns the value and index of the maximum over the given dimensions. `NaN` is treated as greater than all other values except `missing`.\n",
       "\n",
       "# Examples\n",
       "\n",
       "```jldoctest\n",
       "julia> A = [1.0 2; 3 4]\n",
       "2×2 Matrix{Float64}:\n",
       " 1.0  2.0\n",
       " 3.0  4.0\n",
       "\n",
       "julia> findmax(A, dims=1)\n",
       "([3.0 4.0], CartesianIndex{2}[CartesianIndex(2, 1) CartesianIndex(2, 2)])\n",
       "\n",
       "julia> findmax(A, dims=2)\n",
       "([2.0; 4.0;;], CartesianIndex{2}[CartesianIndex(1, 2); CartesianIndex(2, 2);;])\n",
       "```\n"
      ],
      "text/plain": [
       "\u001b[36m  findmax(f, domain) -> (f(x), index)\u001b[39m\n",
       "\n",
       "  Returns a pair of a value in the codomain (outputs of \u001b[36mf\u001b[39m) and the index of\n",
       "  the corresponding value in the \u001b[36mdomain\u001b[39m (inputs to \u001b[36mf\u001b[39m) such that \u001b[36mf(x)\u001b[39m is\n",
       "  maximised. If there are multiple maximal points, then the first one will be\n",
       "  returned.\n",
       "\n",
       "  \u001b[36mdomain\u001b[39m must be a non-empty iterable.\n",
       "\n",
       "  Values are compared with \u001b[36misless\u001b[39m.\n",
       "\n",
       "\u001b[39m\u001b[1m  │ \u001b[22m\u001b[39m\u001b[1mJulia 1.7\u001b[22m\n",
       "\u001b[39m\u001b[1m  │\u001b[22m\n",
       "\u001b[39m\u001b[1m  │\u001b[22m  This method requires Julia 1.7 or later.\n",
       "\n",
       "\u001b[1m  Examples\u001b[22m\n",
       "\u001b[1m  ≡≡≡≡≡≡≡≡≡≡\u001b[22m\n",
       "\n",
       "\u001b[36m  julia> findmax(identity, 5:9)\u001b[39m\n",
       "\u001b[36m  (9, 5)\u001b[39m\n",
       "\u001b[36m  \u001b[39m\n",
       "\u001b[36m  julia> findmax(-, 1:10)\u001b[39m\n",
       "\u001b[36m  (-1, 1)\u001b[39m\n",
       "\u001b[36m  \u001b[39m\n",
       "\u001b[36m  julia> findmax(first, [(1, :a), (3, :b), (3, :c)])\u001b[39m\n",
       "\u001b[36m  (3, 2)\u001b[39m\n",
       "\u001b[36m  \u001b[39m\n",
       "\u001b[36m  julia> findmax(cos, 0:π/2:2π)\u001b[39m\n",
       "\u001b[36m  (1.0, 1)\u001b[39m\n",
       "\n",
       "  ────────────────────────────────────────────────────────────────────────────\n",
       "\n",
       "\u001b[36m  findmax(itr) -> (x, index)\u001b[39m\n",
       "\n",
       "  Return the maximal element of the collection \u001b[36mitr\u001b[39m and its index or key. If\n",
       "  there are multiple maximal elements, then the first one will be returned.\n",
       "  Values are compared with \u001b[36misless\u001b[39m.\n",
       "\n",
       "  See also: \u001b[36mfindmin\u001b[39m, \u001b[36margmax\u001b[39m, \u001b[36mmaximum\u001b[39m.\n",
       "\n",
       "\u001b[1m  Examples\u001b[22m\n",
       "\u001b[1m  ≡≡≡≡≡≡≡≡≡≡\u001b[22m\n",
       "\n",
       "\u001b[36m  julia> findmax([8, 0.1, -9, pi])\u001b[39m\n",
       "\u001b[36m  (8.0, 1)\u001b[39m\n",
       "\u001b[36m  \u001b[39m\n",
       "\u001b[36m  julia> findmax([1, 7, 7, 6])\u001b[39m\n",
       "\u001b[36m  (7, 2)\u001b[39m\n",
       "\u001b[36m  \u001b[39m\n",
       "\u001b[36m  julia> findmax([1, 7, 7, NaN])\u001b[39m\n",
       "\u001b[36m  (NaN, 4)\u001b[39m\n",
       "\n",
       "  ────────────────────────────────────────────────────────────────────────────\n",
       "\n",
       "\u001b[36m  findmax(A; dims) -> (maxval, index)\u001b[39m\n",
       "\n",
       "  For an array input, returns the value and index of the maximum over the\n",
       "  given dimensions. \u001b[36mNaN\u001b[39m is treated as greater than all other values except\n",
       "  \u001b[36mmissing\u001b[39m.\n",
       "\n",
       "\u001b[1m  Examples\u001b[22m\n",
       "\u001b[1m  ≡≡≡≡≡≡≡≡≡≡\u001b[22m\n",
       "\n",
       "\u001b[36m  julia> A = [1.0 2; 3 4]\u001b[39m\n",
       "\u001b[36m  2×2 Matrix{Float64}:\u001b[39m\n",
       "\u001b[36m   1.0  2.0\u001b[39m\n",
       "\u001b[36m   3.0  4.0\u001b[39m\n",
       "\u001b[36m  \u001b[39m\n",
       "\u001b[36m  julia> findmax(A, dims=1)\u001b[39m\n",
       "\u001b[36m  ([3.0 4.0], CartesianIndex{2}[CartesianIndex(2, 1) CartesianIndex(2, 2)])\u001b[39m\n",
       "\u001b[36m  \u001b[39m\n",
       "\u001b[36m  julia> findmax(A, dims=2)\u001b[39m\n",
       "\u001b[36m  ([2.0; 4.0;;], CartesianIndex{2}[CartesianIndex(1, 2); CartesianIndex(2, 2);;])\u001b[39m"
      ]
     },
     "execution_count": 20,
     "metadata": {},
     "output_type": "execute_result"
    }
   ],
   "source": [
    "?findmax"
   ]
  },
  {
   "cell_type": "code",
   "execution_count": 21,
   "id": "708c4352-a87c-469b-be44-8d694120aef0",
   "metadata": {},
   "outputs": [
    {
     "data": {
      "text/plain": [
       "(8.0, 1)"
      ]
     },
     "execution_count": 21,
     "metadata": {},
     "output_type": "execute_result"
    }
   ],
   "source": [
    "findmax([8, 0.1, -9, pi])"
   ]
  },
  {
   "cell_type": "code",
   "execution_count": 22,
   "id": "9657bed8-b45f-4c5e-9f31-84deef4ea89e",
   "metadata": {},
   "outputs": [
    {
     "data": {
      "text/plain": [
       "([3.0 4.0], CartesianIndex{2}[CartesianIndex(2, 1) CartesianIndex(2, 2)])"
      ]
     },
     "execution_count": 22,
     "metadata": {},
     "output_type": "execute_result"
    }
   ],
   "source": [
    "A = [1.0 2; 3 4]\n",
    "findmax(A, dims=1)"
   ]
  },
  {
   "cell_type": "code",
   "execution_count": 23,
   "id": "4a0e5534-3edd-4912-a584-8e0a0074001c",
   "metadata": {},
   "outputs": [
    {
     "data": {
      "text/html": [
       "# 6 methods for generic function <b>findmax</b>:<ul><li> findmax(a::<b>BitArray</b>) in Base at <a href=\"https://github.com/JuliaLang/julia/tree/b570546b68de16bd208ca76a20c1385919de18d6/base/bitarray.jl#L1561\" target=\"_blank\">bitarray.jl:1561</a></li> <li> findmax(A::<b>SparseArrays.AbstractSparseMatrixCSC</b>) in SparseArrays at <a href=\"file://C:/buildbot/worker/package_win64/build/usr/share/julia/stdlib/v1.7/SparseArrays/src/sparsematrix.jl\" target=\"_blank\">D:\\Julia-1.7.0\\share\\julia\\stdlib\\v1.7\\SparseArrays\\src\\sparsematrix.jl:2145</a></li> <li> findmax(A::<b>SparseArrays.AbstractSparseMatrixCSC{Tv, Ti}</b>, region)<i> where {Tv, Ti}</i> in SparseArrays at <a href=\"file://C:/buildbot/worker/package_win64/build/usr/share/julia/stdlib/v1.7/SparseArrays/src/sparsematrix.jl\" target=\"_blank\">D:\\Julia-1.7.0\\share\\julia\\stdlib\\v1.7\\SparseArrays\\src\\sparsematrix.jl:2143</a></li> <li> findmax(A::<b>AbstractArray</b>; <i>dims</i>) in Base at <a href=\"https://github.com/JuliaLang/julia/tree/b570546b68de16bd208ca76a20c1385919de18d6/base/reducedim.jl#L1052\" target=\"_blank\">reducedim.jl:1052</a></li> <li> findmax(itr) in Base at <a href=\"https://github.com/JuliaLang/julia/tree/b570546b68de16bd208ca76a20c1385919de18d6/base/reduce.jl#L828\" target=\"_blank\">reduce.jl:828</a></li> <li> findmax(f, domain) in Base at <a href=\"https://github.com/JuliaLang/julia/tree/b570546b68de16bd208ca76a20c1385919de18d6/base/reduce.jl#L803\" target=\"_blank\">reduce.jl:803</a></li> </ul>"
      ],
      "text/plain": [
       "# 6 methods for generic function \"findmax\":\n",
       "[1] findmax(a::BitArray) in Base at bitarray.jl:1561\n",
       "[2] findmax(A::SparseArrays.AbstractSparseMatrixCSC) in SparseArrays at D:\\Julia-1.7.0\\share\\julia\\stdlib\\v1.7\\SparseArrays\\src\\sparsematrix.jl:2145\n",
       "[3] findmax(A::SparseArrays.AbstractSparseMatrixCSC{Tv, Ti}, region) where {Tv, Ti} in SparseArrays at D:\\Julia-1.7.0\\share\\julia\\stdlib\\v1.7\\SparseArrays\\src\\sparsematrix.jl:2143\n",
       "[4] findmax(A::AbstractArray; dims) in Base at reducedim.jl:1052\n",
       "[5] findmax(itr) in Base at reduce.jl:828\n",
       "[6] findmax(f, domain) in Base at reduce.jl:803"
      ]
     },
     "execution_count": 23,
     "metadata": {},
     "output_type": "execute_result"
    }
   ],
   "source": [
    "methods(findmax)"
   ]
  },
  {
   "cell_type": "code",
   "execution_count": 24,
   "id": "5e77c3a1-4e1b-452a-99c4-d147cdad30f4",
   "metadata": {},
   "outputs": [
    {
     "data": {
      "text/plain": [
       "(0, 5)"
      ]
     },
     "execution_count": 24,
     "metadata": {},
     "output_type": "execute_result"
    }
   ],
   "source": [
    "findmax(-(-4:5).^2)"
   ]
  },
  {
   "cell_type": "code",
   "execution_count": 25,
   "id": "4dbc816d-da68-46aa-bd4c-523d8554d01f",
   "metadata": {},
   "outputs": [
    {
     "data": {
      "text/plain": [
       "(0, 5)"
      ]
     },
     "execution_count": 25,
     "metadata": {},
     "output_type": "execute_result"
    }
   ],
   "source": [
    "findmax(x -> -x^2, -4:5)"
   ]
  },
  {
   "cell_type": "code",
   "execution_count": 26,
   "id": "7cba9dd8-c519-4d26-a41d-250bbb90ac00",
   "metadata": {},
   "outputs": [
    {
     "name": "stdout",
     "output_type": "stream",
     "text": [
      "(m, (i, x)) = valindargmax(sin, X) = (0.9999996829318346, 358 => 1.57)\n"
     ]
    },
    {
     "data": {
      "text/plain": [
       "(0.9999996829318346, (358, 1.57))"
      ]
     },
     "execution_count": 26,
     "metadata": {},
     "output_type": "execute_result"
    }
   ],
   "source": [
    "valindargmax(f, X) = valargmax(f∘last, pairs(X))\n",
    "\n",
    "X = range(-2, 2; length=401)\n",
    "@show m, (i, x) = valindargmax(sin, X)\n",
    "m, (i, x)"
   ]
  },
  {
   "cell_type": "code",
   "execution_count": 27,
   "id": "4b78edb0-ba13-4a66-9be3-42d2b4201716",
   "metadata": {},
   "outputs": [
    {
     "name": "stdout",
     "output_type": "stream",
     "text": [
      "(m, (i, x)) = valindargmax(F, XtimesY) = (0.8529538721652244, CartesianIndex(211, 348) => (0.1, 1.47))\n"
     ]
    },
    {
     "data": {
      "text/plain": [
       "(0.8529538721652244, (CartesianIndex(211, 348), (0.1, 1.47)))"
      ]
     },
     "execution_count": 27,
     "metadata": {},
     "output_type": "execute_result"
    }
   ],
   "source": [
    "F((x, y)) = f(x, y)\n",
    "\n",
    "X = range(-2, 2; length=401)\n",
    "Y = range(-2, 2; length=401)\n",
    "XtimesY = Iterators.product(X, Y)\n",
    "@show m, (i, x) = valindargmax(F, XtimesY)\n",
    "m, (i, x)"
   ]
  },
  {
   "cell_type": "code",
   "execution_count": null,
   "id": "cf94b7b4-f429-44eb-bf78-fd0c6f30629d",
   "metadata": {},
   "outputs": [],
   "source": []
  }
 ],
 "metadata": {
  "jupytext": {
   "encoding": "# -*- coding: utf-8 -*-",
   "formats": "ipynb,jl:hydrogen"
  },
  "kernelspec": {
   "display_name": "Julia 1.7.0-beta2",
   "language": "julia",
   "name": "julia-1.7"
  },
  "language_info": {
   "file_extension": ".jl",
   "mimetype": "application/julia",
   "name": "julia",
   "version": "1.7.0"
  }
 },
 "nbformat": 4,
 "nbformat_minor": 5
}
