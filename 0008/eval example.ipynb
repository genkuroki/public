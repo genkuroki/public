{
 "cells": [
  {
   "cell_type": "code",
   "execution_count": 1,
   "id": "ebd52c31-b55d-49db-a338-f8ac2bf03104",
   "metadata": {},
   "outputs": [
    {
     "data": {
      "text/plain": [
       "v\"1.6.1\""
      ]
     },
     "execution_count": 1,
     "metadata": {},
     "output_type": "execute_result"
    }
   ],
   "source": [
    "VERSION"
   ]
  },
  {
   "cell_type": "code",
   "execution_count": 2,
   "id": "41baaa9d-6db8-405a-b17f-77742dd02b54",
   "metadata": {},
   "outputs": [
    {
     "data": {
      "text/plain": [
       "Main.M1"
      ]
     },
     "execution_count": 2,
     "metadata": {},
     "output_type": "execute_result"
    }
   ],
   "source": [
    "using RCall\n",
    "\n",
    "x = 1\n",
    "\n",
    "f(var::String) = eval(Meta.parse(\"@rput (\"*var*\")\"))\n",
    "\n",
    "module M1\n",
    "using RCall\n",
    "import RCall: @rput \n",
    "\n",
    "f(var::String) = eval(Meta.parse(\"@rput (\"*var*\")\"))\n",
    "\n",
    "end"
   ]
  },
  {
   "cell_type": "code",
   "execution_count": 3,
   "id": "9ee119ca-220f-4600-9fa5-5e2420dd9a76",
   "metadata": {},
   "outputs": [
    {
     "data": {
      "text/plain": [
       "1"
      ]
     },
     "execution_count": 3,
     "metadata": {},
     "output_type": "execute_result"
    }
   ],
   "source": [
    "f(\"x\")"
   ]
  },
  {
   "cell_type": "code",
   "execution_count": 4,
   "id": "a8561d2d-d2d4-453c-8ca4-bb8ec8537f25",
   "metadata": {},
   "outputs": [
    {
     "ename": "LoadError",
     "evalue": "UndefVarError: x not defined",
     "output_type": "error",
     "traceback": [
      "UndefVarError: x not defined",
      "",
      "Stacktrace:",
      " [1] top-level scope",
      "   @ none:1",
      " [2] eval",
      "   @ .\\boot.jl:360 [inlined]",
      " [3] eval",
      "   @ .\\In[2]:7 [inlined]",
      " [4] f(var::String)",
      "   @ Main.M1 .\\In[2]:11",
      " [5] top-level scope",
      "   @ In[4]:1",
      " [6] eval",
      "   @ .\\boot.jl:360 [inlined]",
      " [7] include_string(mapexpr::typeof(REPL.softscope), mod::Module, code::String, filename::String)",
      "   @ Base .\\loading.jl:1094"
     ]
    }
   ],
   "source": [
    "M1.f(\"x\")"
   ]
  },
  {
   "cell_type": "code",
   "execution_count": 5,
   "id": "31166bd4-7f82-4a16-ba3c-573d237b8fa8",
   "metadata": {},
   "outputs": [
    {
     "ename": "LoadError",
     "evalue": "LoadError: Incorrect usage of @rput\nin expression starting at none:1",
     "output_type": "error",
     "traceback": [
      "LoadError: Incorrect usage of @rput\nin expression starting at none:1",
      "",
      "Stacktrace:",
      " [1] error(s::String)",
      "   @ Base .\\error.jl:33",
      " [2] var\"@rput\"(__source__::LineNumberNode, __module__::Module, args::Vararg{Any, N} where N)",
      "   @ RCall D:\\.julia\\packages\\RCall\\3mHXJ\\src\\macros.jl:15",
      " [3] eval",
      "   @ .\\boot.jl:360 [inlined]",
      " [4] eval",
      "   @ .\\In[2]:7 [inlined]",
      " [5] f(var::String)",
      "   @ Main.M1 .\\In[2]:11",
      " [6] top-level scope",
      "   @ In[5]:1",
      " [7] eval",
      "   @ .\\boot.jl:360 [inlined]",
      " [8] include_string(mapexpr::typeof(REPL.softscope), mod::Module, code::String, filename::String)",
      "   @ Base .\\loading.jl:1094"
     ]
    }
   ],
   "source": [
    "M1.f(\"Main.x\")"
   ]
  },
  {
   "cell_type": "code",
   "execution_count": 6,
   "id": "ffd7e477-1525-42c4-abc1-93c50b90bacc",
   "metadata": {},
   "outputs": [
    {
     "data": {
      "text/plain": [
       "Main.M2"
      ]
     },
     "execution_count": 6,
     "metadata": {},
     "output_type": "execute_result"
    }
   ],
   "source": [
    "using RCall\n",
    "\n",
    "x = 1\n",
    "\n",
    "f(var::String) = eval(:(@rput($(Symbol(var)))))\n",
    "\n",
    "module M2\n",
    "\n",
    "using RCall\n",
    "\n",
    "x = 2\n",
    "\n",
    "f(var::String) = eval(:(@rput($(Symbol(var)))))\n",
    "\n",
    "g(var::String) = Main.eval(:(@rput($(Symbol(var)))))\n",
    "g(m::Module, var::String) = Core.eval(m, :(@rput($(Symbol(var)))))\n",
    "\n",
    "end"
   ]
  },
  {
   "cell_type": "code",
   "execution_count": 7,
   "id": "68bb635e-abf5-4f12-b1d0-6dae712449ad",
   "metadata": {},
   "outputs": [
    {
     "data": {
      "text/plain": [
       "2"
      ]
     },
     "execution_count": 7,
     "metadata": {},
     "output_type": "execute_result"
    }
   ],
   "source": [
    "M2.f(\"x\")"
   ]
  },
  {
   "cell_type": "code",
   "execution_count": 8,
   "id": "9c63c070-2d1c-421d-8abb-4a6771389bb7",
   "metadata": {},
   "outputs": [
    {
     "data": {
      "text/plain": [
       "RObject{IntSxp}\n",
       "[1] 2\n"
      ]
     },
     "execution_count": 8,
     "metadata": {},
     "output_type": "execute_result"
    }
   ],
   "source": [
    "R\"x\""
   ]
  },
  {
   "cell_type": "code",
   "execution_count": 9,
   "id": "effa70b5-6d22-432b-bdc6-03a9568f3680",
   "metadata": {},
   "outputs": [
    {
     "data": {
      "text/plain": [
       "1"
      ]
     },
     "execution_count": 9,
     "metadata": {},
     "output_type": "execute_result"
    }
   ],
   "source": [
    "M2.g(\"x\")"
   ]
  },
  {
   "cell_type": "code",
   "execution_count": 10,
   "id": "4dbb9e10-401a-4460-afba-9f7318c9d710",
   "metadata": {},
   "outputs": [
    {
     "data": {
      "text/plain": [
       "RObject{IntSxp}\n",
       "[1] 1\n"
      ]
     },
     "execution_count": 10,
     "metadata": {},
     "output_type": "execute_result"
    }
   ],
   "source": [
    "R\"x\""
   ]
  },
  {
   "cell_type": "code",
   "execution_count": 11,
   "id": "f9336fa0-c037-485d-a708-0be426f96bda",
   "metadata": {},
   "outputs": [
    {
     "data": {
      "text/plain": [
       "2"
      ]
     },
     "execution_count": 11,
     "metadata": {},
     "output_type": "execute_result"
    }
   ],
   "source": [
    "M2.g(M2, \"x\")"
   ]
  },
  {
   "cell_type": "code",
   "execution_count": 12,
   "id": "a699f976-2e20-4639-a4e6-d6078de41362",
   "metadata": {},
   "outputs": [
    {
     "data": {
      "text/plain": [
       "RObject{IntSxp}\n",
       "[1] 2\n"
      ]
     },
     "execution_count": 12,
     "metadata": {},
     "output_type": "execute_result"
    }
   ],
   "source": [
    "R\"x\""
   ]
  },
  {
   "cell_type": "markdown",
   "id": "b9b9d283-f032-47fb-a922-5abde579afa0",
   "metadata": {},
   "source": [
    "```julia\n",
    "using RCall\n",
    "\n",
    "x = 1\n",
    "\n",
    "f(var::String) = eval(:(@rput($(Symbol(var)))))\n",
    "\n",
    "module M2\n",
    "\n",
    "using RCall\n",
    "\n",
    "x = 2\n",
    "\n",
    "f(var::String) = eval(:(@rput($(Symbol(var)))))\n",
    "\n",
    "g(var::String) = Main.eval(:(@rput($(Symbol(var)))))\n",
    "\n",
    "g(m::Module, var::String) = Core.eval(m, :(@rput($(Symbol(var)))))\n",
    "\n",
    "end\n",
    "```\n",
    "\n",
    "```julia\n",
    "julia> M2.f(\"x\")\n",
    "2\n",
    "\n",
    "julia> R\"x\"\n",
    "RObject{IntSxp}\n",
    "[1] 2\n",
    "```\n",
    "\n",
    "```julia\n",
    "julia> M2.g(\"x\")\n",
    "1\n",
    "\n",
    "julia> R\"x\"\n",
    "RObject{IntSxp}\n",
    "[1] 1\n",
    "```\n",
    "\n",
    "```julia\n",
    "julia> M2.g(M2, \"x\") # equivalent to M2.f(\"x\")\n",
    "2\n",
    "\n",
    "julia> R\"x\"\n",
    "RObject{IntSxp}\n",
    "[1] 2\n",
    "```\n"
   ]
  },
  {
   "cell_type": "code",
   "execution_count": 14,
   "id": "89989d75-abbe-4e6e-a9a8-bbd32ce4aeb0",
   "metadata": {},
   "outputs": [
    {
     "name": "stderr",
     "output_type": "stream",
     "text": [
      "WARNING: replacing module M2.\n"
     ]
    },
    {
     "data": {
      "text/plain": [
       "Main.M2"
      ]
     },
     "execution_count": 14,
     "metadata": {},
     "output_type": "execute_result"
    }
   ],
   "source": [
    "using RCall\n",
    "\n",
    "x = 1\n",
    "\n",
    "f(var::String) = eval(:(@rput($(Symbol(var)))))\n",
    "\n",
    "module M2\n",
    "\n",
    "using RCall\n",
    "\n",
    "x = 2\n",
    "\n",
    "f(var::String) = eval(:(@rput($(Symbol(var)))))\n",
    "\n",
    "g(var::String) = Main.eval(:(@rput($(Symbol(var)))))\n",
    "\n",
    "g(m::Module, var::String) = Core.eval(m, :(@rput($(Symbol(var)))))\n",
    "\n",
    "end"
   ]
  },
  {
   "cell_type": "code",
   "execution_count": 15,
   "id": "fce6afca-68f5-4c92-95ca-345447bb8a2c",
   "metadata": {},
   "outputs": [
    {
     "name": "stderr",
     "output_type": "stream",
     "text": [
      "WARNING: replacing module M2.\n"
     ]
    },
    {
     "data": {
      "text/plain": [
       "Main.M2"
      ]
     },
     "execution_count": 15,
     "metadata": {},
     "output_type": "execute_result"
    }
   ],
   "source": [
    "using RCall\n",
    "\n",
    "x = 1\n",
    "\n",
    "f(var::String) = eval(:(@rput($(Symbol(var)))))\n",
    "\n",
    "module M2\n",
    "\n",
    "using RCall\n",
    "\n",
    "x = 2\n",
    "\n",
    "f(var::String) = eval(:(@rput($(Symbol(var)))))\n",
    "g(var::String) = Main.eval(:(@rput($(Symbol(var)))))\n",
    "g(m::Module, var::String) = Core.eval(m, :(@rput($(Symbol(var)))))\n",
    "\n",
    "end"
   ]
  },
  {
   "cell_type": "code",
   "execution_count": null,
   "id": "8d08ecb6-0445-473f-8a53-e8083c93205a",
   "metadata": {},
   "outputs": [],
   "source": []
  }
 ],
 "metadata": {
  "jupytext": {
   "formats": "ipynb,jl:hydrogen"
  },
  "kernelspec": {
   "display_name": "Julia 1.6.1",
   "language": "julia",
   "name": "julia-1.6"
  },
  "language_info": {
   "file_extension": ".jl",
   "mimetype": "application/julia",
   "name": "julia",
   "version": "1.6.1"
  }
 },
 "nbformat": 4,
 "nbformat_minor": 5
}
