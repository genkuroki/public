{
 "cells": [
  {
   "cell_type": "code",
   "execution_count": 1,
   "id": "5c2250ac-40b9-430e-8ad4-b65833b397e7",
   "metadata": {},
   "outputs": [
    {
     "data": {
      "text/plain": [
       "\"Julia\""
      ]
     },
     "metadata": {},
     "output_type": "display_data"
    },
    {
     "name": "stdout",
     "output_type": "stream",
     "text": [
      "Hello\n"
     ]
    }
   ],
   "source": [
    "println(\"Hello\")\n",
    "display(\"Julia\")"
   ]
  },
  {
   "cell_type": "code",
   "execution_count": 2,
   "id": "e649006d-159a-42f5-a931-cf7bf8d54272",
   "metadata": {},
   "outputs": [
    {
     "name": "stdout",
     "output_type": "stream",
     "text": [
      "Hello\n"
     ]
    },
    {
     "data": {
      "text/plain": [
       "\"Julia\""
      ]
     },
     "metadata": {},
     "output_type": "display_data"
    }
   ],
   "source": [
    "println(\"Hello\"); flush(stdout)\n",
    "display(\"Julia\")"
   ]
  },
  {
   "cell_type": "code",
   "execution_count": 3,
   "id": "ba30a17d-f629-4ce1-9f83-6e16a00e7841",
   "metadata": {},
   "outputs": [
    {
     "data": {
      "text/plain": [
       "\"Julia\""
      ]
     },
     "metadata": {},
     "output_type": "display_data"
    },
    {
     "name": "stdout",
     "output_type": "stream",
     "text": [
      "\"Hello\""
     ]
    }
   ],
   "source": [
    "show(\"Hello\")\n",
    "display(\"Julia\")"
   ]
  },
  {
   "cell_type": "code",
   "execution_count": 4,
   "id": "6ffd01e0-0e4c-40b4-9292-449185c5996c",
   "metadata": {},
   "outputs": [
    {
     "name": "stdout",
     "output_type": "stream",
     "text": [
      "\"Hello\""
     ]
    },
    {
     "data": {
      "text/plain": [
       "\"Julia\""
      ]
     },
     "metadata": {},
     "output_type": "display_data"
    }
   ],
   "source": [
    "show(\"Hello\"); flush(stdout)\n",
    "display(\"Julia\")"
   ]
  },
  {
   "cell_type": "code",
   "execution_count": null,
   "id": "899a6e3a-3271-431f-aa96-ce79ec0c8835",
   "metadata": {},
   "outputs": [],
   "source": []
  }
 ],
 "metadata": {
  "jupytext": {
   "formats": "ipynb,auto:hydrogen"
  },
  "kernelspec": {
   "display_name": "Julia 1.8.0-DEV",
   "language": "julia",
   "name": "julia-1.8"
  },
  "language_info": {
   "file_extension": ".jl",
   "mimetype": "application/julia",
   "name": "julia",
   "version": "1.8.0"
  }
 },
 "nbformat": 4,
 "nbformat_minor": 5
}
