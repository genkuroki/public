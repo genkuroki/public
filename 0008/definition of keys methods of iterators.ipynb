{
 "cells": [
  {
   "cell_type": "code",
   "execution_count": 1,
   "id": "cc1009d5-bdbd-4012-9b0c-9349b0c8ca31",
   "metadata": {},
   "outputs": [
    {
     "data": {
      "text/plain": [
       "v\"1.7.0-beta2\""
      ]
     },
     "execution_count": 1,
     "metadata": {},
     "output_type": "execute_result"
    }
   ],
   "source": [
    "VERSION"
   ]
  },
  {
   "cell_type": "code",
   "execution_count": 2,
   "id": "074444da-edb1-4b23-8f1e-f51af68154a1",
   "metadata": {},
   "outputs": [
    {
     "data": {
      "text/plain": [
       "0.0:0.01:5.0"
      ]
     },
     "execution_count": 2,
     "metadata": {},
     "output_type": "execute_result"
    }
   ],
   "source": [
    "f(x, y) = (1 - x)^2 + 100(y - x^2)^2\n",
    "X = range(-5, 5, 501)[1:end-1]\n",
    "Y = range(0, 5, 501)"
   ]
  },
  {
   "cell_type": "code",
   "execution_count": 3,
   "id": "3a0a69bb-d1eb-4ad0-983c-0daad0d3f74a",
   "metadata": {},
   "outputs": [
    {
     "ename": "LoadError",
     "evalue": "MethodError: no method matching keys(::Base.Iterators.Reverse{Vector{Float64}})\n\u001b[0mClosest candidates are:\n\u001b[0m  keys(\u001b[91m::IOContext\u001b[39m) at show.jl:345\n\u001b[0m  keys(\u001b[91m::Base.Generator\u001b[39m) at generator.jl:54\n\u001b[0m  keys(\u001b[91m::Tuple\u001b[39m) at tuple.jl:72\n\u001b[0m  ...",
     "output_type": "error",
     "traceback": [
      "MethodError: no method matching keys(::Base.Iterators.Reverse{Vector{Float64}})\n\u001b[0mClosest candidates are:\n\u001b[0m  keys(\u001b[91m::IOContext\u001b[39m) at show.jl:345\n\u001b[0m  keys(\u001b[91m::Base.Generator\u001b[39m) at generator.jl:54\n\u001b[0m  keys(\u001b[91m::Tuple\u001b[39m) at tuple.jl:72\n\u001b[0m  ...",
      "",
      "Stacktrace:",
      " [1] pairs(collection::Base.Iterators.Reverse{Vector{Float64}})",
      "   @ Base .\\abstractdict.jl:138",
      " [2] findmin(f::typeof(sin), domain::Base.Iterators.Reverse{Vector{Float64}})",
      "   @ Base .\\reduce.jl:862",
      " [3] top-level scope",
      "   @ In[3]:1",
      " [4] eval",
      "   @ .\\boot.jl:373 [inlined]",
      " [5] include_string(mapexpr::typeof(REPL.softscope), mod::Module, code::String, filename::String)",
      "   @ Base .\\loading.jl:1196"
     ]
    }
   ],
   "source": [
    "findmin(sin, Iterators.reverse(collect(X)))"
   ]
  },
  {
   "cell_type": "code",
   "execution_count": 4,
   "id": "cbfc6845-8db2-491c-9e80-8422ed8e2e82",
   "metadata": {},
   "outputs": [
    {
     "ename": "LoadError",
     "evalue": "MethodError: no method matching keys(::Base.Iterators.Enumerate{StepRangeLen{Float64, Base.TwicePrecision{Float64}, Base.TwicePrecision{Float64}}})\n\u001b[0mClosest candidates are:\n\u001b[0m  keys(\u001b[91m::IOContext\u001b[39m) at show.jl:345\n\u001b[0m  keys(\u001b[91m::Base.Generator\u001b[39m) at generator.jl:54\n\u001b[0m  keys(\u001b[91m::Tuple\u001b[39m) at tuple.jl:72\n\u001b[0m  ...",
     "output_type": "error",
     "traceback": [
      "MethodError: no method matching keys(::Base.Iterators.Enumerate{StepRangeLen{Float64, Base.TwicePrecision{Float64}, Base.TwicePrecision{Float64}}})\n\u001b[0mClosest candidates are:\n\u001b[0m  keys(\u001b[91m::IOContext\u001b[39m) at show.jl:345\n\u001b[0m  keys(\u001b[91m::Base.Generator\u001b[39m) at generator.jl:54\n\u001b[0m  keys(\u001b[91m::Tuple\u001b[39m) at tuple.jl:72\n\u001b[0m  ...",
      "",
      "Stacktrace:",
      " [1] pairs(collection::Base.Iterators.Enumerate{StepRangeLen{Float64, Base.TwicePrecision{Float64}, Base.TwicePrecision{Float64}}})",
      "   @ Base .\\abstractdict.jl:138",
      " [2] findmin(f::ComposedFunction{typeof(sin), typeof(last)}, domain::Base.Iterators.Enumerate{StepRangeLen{Float64, Base.TwicePrecision{Float64}, Base.TwicePrecision{Float64}}})",
      "   @ Base .\\reduce.jl:862",
      " [3] top-level scope",
      "   @ In[4]:1",
      " [4] eval",
      "   @ .\\boot.jl:373 [inlined]",
      " [5] include_string(mapexpr::typeof(REPL.softscope), mod::Module, code::String, filename::String)",
      "   @ Base .\\loading.jl:1196"
     ]
    }
   ],
   "source": [
    "findmin(sin∘last, enumerate(X))"
   ]
  },
  {
   "cell_type": "code",
   "execution_count": 5,
   "id": "1b3ab751-65bc-4a18-b2f4-dd06a40d982c",
   "metadata": {},
   "outputs": [
    {
     "ename": "LoadError",
     "evalue": "MethodError: no method matching keys(::Base.Iterators.Zip{Tuple{StepRangeLen{Float64, Base.TwicePrecision{Float64}, Base.TwicePrecision{Float64}}, StepRangeLen{Float64, Base.TwicePrecision{Float64}, Base.TwicePrecision{Float64}}}})\n\u001b[0mClosest candidates are:\n\u001b[0m  keys(\u001b[91m::IOContext\u001b[39m) at show.jl:345\n\u001b[0m  keys(\u001b[91m::Base.Generator\u001b[39m) at generator.jl:54\n\u001b[0m  keys(\u001b[91m::Tuple\u001b[39m) at tuple.jl:72\n\u001b[0m  ...",
     "output_type": "error",
     "traceback": [
      "MethodError: no method matching keys(::Base.Iterators.Zip{Tuple{StepRangeLen{Float64, Base.TwicePrecision{Float64}, Base.TwicePrecision{Float64}}, StepRangeLen{Float64, Base.TwicePrecision{Float64}, Base.TwicePrecision{Float64}}}})\n\u001b[0mClosest candidates are:\n\u001b[0m  keys(\u001b[91m::IOContext\u001b[39m) at show.jl:345\n\u001b[0m  keys(\u001b[91m::Base.Generator\u001b[39m) at generator.jl:54\n\u001b[0m  keys(\u001b[91m::Tuple\u001b[39m) at tuple.jl:72\n\u001b[0m  ...",
      "",
      "Stacktrace:",
      " [1] pairs(collection::Base.Iterators.Zip{Tuple{StepRangeLen{Float64, Base.TwicePrecision{Float64}, Base.TwicePrecision{Float64}}, StepRangeLen{Float64, Base.TwicePrecision{Float64}, Base.TwicePrecision{Float64}}}})",
      "   @ Base .\\abstractdict.jl:138",
      " [2] findmin(f::ComposedFunction{typeof(sin), typeof(first)}, domain::Base.Iterators.Zip{Tuple{StepRangeLen{Float64, Base.TwicePrecision{Float64}, Base.TwicePrecision{Float64}}, StepRangeLen{Float64, Base.TwicePrecision{Float64}, Base.TwicePrecision{Float64}}}})",
      "   @ Base .\\reduce.jl:862",
      " [3] top-level scope",
      "   @ In[5]:1",
      " [4] eval",
      "   @ .\\boot.jl:373 [inlined]",
      " [5] include_string(mapexpr::typeof(REPL.softscope), mod::Module, code::String, filename::String)",
      "   @ Base .\\loading.jl:1196"
     ]
    }
   ],
   "source": [
    "findmin(sin∘first, zip(X, Y))"
   ]
  },
  {
   "cell_type": "code",
   "execution_count": 6,
   "id": "3a011225-6a27-4b8f-854f-1b2bb4db05f8",
   "metadata": {},
   "outputs": [
    {
     "ename": "LoadError",
     "evalue": "MethodError: no method matching keys(::Base.Iterators.Accumulate{typeof(+), StepRangeLen{Float64, Base.TwicePrecision{Float64}, Base.TwicePrecision{Float64}}, Base._InitialValue})\n\u001b[0mClosest candidates are:\n\u001b[0m  keys(\u001b[91m::IOContext\u001b[39m) at show.jl:345\n\u001b[0m  keys(\u001b[91m::Base.Generator\u001b[39m) at generator.jl:54\n\u001b[0m  keys(\u001b[91m::Tuple\u001b[39m) at tuple.jl:72\n\u001b[0m  ...",
     "output_type": "error",
     "traceback": [
      "MethodError: no method matching keys(::Base.Iterators.Accumulate{typeof(+), StepRangeLen{Float64, Base.TwicePrecision{Float64}, Base.TwicePrecision{Float64}}, Base._InitialValue})\n\u001b[0mClosest candidates are:\n\u001b[0m  keys(\u001b[91m::IOContext\u001b[39m) at show.jl:345\n\u001b[0m  keys(\u001b[91m::Base.Generator\u001b[39m) at generator.jl:54\n\u001b[0m  keys(\u001b[91m::Tuple\u001b[39m) at tuple.jl:72\n\u001b[0m  ...",
      "",
      "Stacktrace:",
      " [1] pairs(collection::Base.Iterators.Accumulate{typeof(+), StepRangeLen{Float64, Base.TwicePrecision{Float64}, Base.TwicePrecision{Float64}}, Base._InitialValue})",
      "   @ Base .\\abstractdict.jl:138",
      " [2] findmin(f::typeof(sin), domain::Base.Iterators.Accumulate{typeof(+), StepRangeLen{Float64, Base.TwicePrecision{Float64}, Base.TwicePrecision{Float64}}, Base._InitialValue})",
      "   @ Base .\\reduce.jl:862",
      " [3] top-level scope",
      "   @ In[6]:1",
      " [4] eval",
      "   @ .\\boot.jl:373 [inlined]",
      " [5] include_string(mapexpr::typeof(REPL.softscope), mod::Module, code::String, filename::String)",
      "   @ Base .\\loading.jl:1196"
     ]
    }
   ],
   "source": [
    "findmin(sin, Iterators.accumulate(+, X))"
   ]
  },
  {
   "cell_type": "code",
   "execution_count": 7,
   "id": "460ba1a3-1db1-4755-9c9e-d8c6258ee75d",
   "metadata": {},
   "outputs": [
    {
     "ename": "LoadError",
     "evalue": "MethodError: no method matching keys(::Base.Iterators.Take{StepRangeLen{Float64, Base.TwicePrecision{Float64}, Base.TwicePrecision{Float64}}})\n\u001b[0mClosest candidates are:\n\u001b[0m  keys(\u001b[91m::IOContext\u001b[39m) at show.jl:345\n\u001b[0m  keys(\u001b[91m::Base.Generator\u001b[39m) at generator.jl:54\n\u001b[0m  keys(\u001b[91m::Tuple\u001b[39m) at tuple.jl:72\n\u001b[0m  ...",
     "output_type": "error",
     "traceback": [
      "MethodError: no method matching keys(::Base.Iterators.Take{StepRangeLen{Float64, Base.TwicePrecision{Float64}, Base.TwicePrecision{Float64}}})\n\u001b[0mClosest candidates are:\n\u001b[0m  keys(\u001b[91m::IOContext\u001b[39m) at show.jl:345\n\u001b[0m  keys(\u001b[91m::Base.Generator\u001b[39m) at generator.jl:54\n\u001b[0m  keys(\u001b[91m::Tuple\u001b[39m) at tuple.jl:72\n\u001b[0m  ...",
      "",
      "Stacktrace:",
      " [1] pairs(collection::Base.Iterators.Take{StepRangeLen{Float64, Base.TwicePrecision{Float64}, Base.TwicePrecision{Float64}}})",
      "   @ Base .\\abstractdict.jl:138",
      " [2] findmin(f::typeof(sin), domain::Base.Iterators.Take{StepRangeLen{Float64, Base.TwicePrecision{Float64}, Base.TwicePrecision{Float64}}})",
      "   @ Base .\\reduce.jl:862",
      " [3] top-level scope",
      "   @ In[7]:1",
      " [4] eval",
      "   @ .\\boot.jl:373 [inlined]",
      " [5] include_string(mapexpr::typeof(REPL.softscope), mod::Module, code::String, filename::String)",
      "   @ Base .\\loading.jl:1196"
     ]
    }
   ],
   "source": [
    "findmin(sin, Iterators.take(X, 486))"
   ]
  },
  {
   "cell_type": "code",
   "execution_count": 8,
   "id": "b085209c-7278-4997-b702-8ce33b6f92af",
   "metadata": {},
   "outputs": [
    {
     "ename": "LoadError",
     "evalue": "MethodError: no method matching keys(::Base.Iterators.ProductIterator{Tuple{StepRangeLen{Float64, Base.TwicePrecision{Float64}, Base.TwicePrecision{Float64}}, StepRangeLen{Float64, Base.TwicePrecision{Float64}, Base.TwicePrecision{Float64}}}})\n\u001b[0mClosest candidates are:\n\u001b[0m  keys(\u001b[91m::IOContext\u001b[39m) at show.jl:345\n\u001b[0m  keys(\u001b[91m::Base.Generator\u001b[39m) at generator.jl:54\n\u001b[0m  keys(\u001b[91m::Tuple\u001b[39m) at tuple.jl:72\n\u001b[0m  ...",
     "output_type": "error",
     "traceback": [
      "MethodError: no method matching keys(::Base.Iterators.ProductIterator{Tuple{StepRangeLen{Float64, Base.TwicePrecision{Float64}, Base.TwicePrecision{Float64}}, StepRangeLen{Float64, Base.TwicePrecision{Float64}, Base.TwicePrecision{Float64}}}})\n\u001b[0mClosest candidates are:\n\u001b[0m  keys(\u001b[91m::IOContext\u001b[39m) at show.jl:345\n\u001b[0m  keys(\u001b[91m::Base.Generator\u001b[39m) at generator.jl:54\n\u001b[0m  keys(\u001b[91m::Tuple\u001b[39m) at tuple.jl:72\n\u001b[0m  ...",
      "",
      "Stacktrace:",
      " [1] pairs(collection::Base.Iterators.ProductIterator{Tuple{StepRangeLen{Float64, Base.TwicePrecision{Float64}, Base.TwicePrecision{Float64}}, StepRangeLen{Float64, Base.TwicePrecision{Float64}, Base.TwicePrecision{Float64}}}})",
      "   @ Base .\\abstractdict.jl:138",
      " [2] findmin(f::var\"#1#2\", domain::Base.Iterators.ProductIterator{Tuple{StepRangeLen{Float64, Base.TwicePrecision{Float64}, Base.TwicePrecision{Float64}}, StepRangeLen{Float64, Base.TwicePrecision{Float64}, Base.TwicePrecision{Float64}}}})",
      "   @ Base .\\reduce.jl:862",
      " [3] top-level scope",
      "   @ In[8]:1",
      " [4] eval",
      "   @ .\\boot.jl:373 [inlined]",
      " [5] include_string(mapexpr::typeof(REPL.softscope), mod::Module, code::String, filename::String)",
      "   @ Base .\\loading.jl:1196"
     ]
    }
   ],
   "source": [
    "findmin(v -> f(v...), Iterators.product(X, Y))"
   ]
  },
  {
   "cell_type": "code",
   "execution_count": 9,
   "id": "1bc8de70-b38a-435c-9e3c-343465abc730",
   "metadata": {},
   "outputs": [
    {
     "ename": "LoadError",
     "evalue": "MethodError: no method matching keys(::Base.Iterators.Flatten{Tuple{StepRangeLen{Float64, Base.TwicePrecision{Float64}, Base.TwicePrecision{Float64}}, StepRangeLen{Float64, Base.TwicePrecision{Float64}, Base.TwicePrecision{Float64}}}})\n\u001b[0mClosest candidates are:\n\u001b[0m  keys(\u001b[91m::IOContext\u001b[39m) at show.jl:345\n\u001b[0m  keys(\u001b[91m::Base.Generator\u001b[39m) at generator.jl:54\n\u001b[0m  keys(\u001b[91m::Tuple\u001b[39m) at tuple.jl:72\n\u001b[0m  ...",
     "output_type": "error",
     "traceback": [
      "MethodError: no method matching keys(::Base.Iterators.Flatten{Tuple{StepRangeLen{Float64, Base.TwicePrecision{Float64}, Base.TwicePrecision{Float64}}, StepRangeLen{Float64, Base.TwicePrecision{Float64}, Base.TwicePrecision{Float64}}}})\n\u001b[0mClosest candidates are:\n\u001b[0m  keys(\u001b[91m::IOContext\u001b[39m) at show.jl:345\n\u001b[0m  keys(\u001b[91m::Base.Generator\u001b[39m) at generator.jl:54\n\u001b[0m  keys(\u001b[91m::Tuple\u001b[39m) at tuple.jl:72\n\u001b[0m  ...",
      "",
      "Stacktrace:",
      " [1] pairs(collection::Base.Iterators.Flatten{Tuple{StepRangeLen{Float64, Base.TwicePrecision{Float64}, Base.TwicePrecision{Float64}}, StepRangeLen{Float64, Base.TwicePrecision{Float64}, Base.TwicePrecision{Float64}}}})",
      "   @ Base .\\abstractdict.jl:138",
      " [2] findmin(f::typeof(sin), domain::Base.Iterators.Flatten{Tuple{StepRangeLen{Float64, Base.TwicePrecision{Float64}, Base.TwicePrecision{Float64}}, StepRangeLen{Float64, Base.TwicePrecision{Float64}, Base.TwicePrecision{Float64}}}})",
      "   @ Base .\\reduce.jl:862",
      " [3] top-level scope",
      "   @ In[9]:1",
      " [4] eval",
      "   @ .\\boot.jl:373 [inlined]",
      " [5] include_string(mapexpr::typeof(REPL.softscope), mod::Module, code::String, filename::String)",
      "   @ Base .\\loading.jl:1196"
     ]
    }
   ],
   "source": [
    "findmin(sin, Iterators.flatten((X, Y)))"
   ]
  },
  {
   "cell_type": "code",
   "execution_count": 10,
   "id": "33cfc874-ff6d-4fe2-9b8f-57f04b58abe8",
   "metadata": {},
   "outputs": [],
   "source": [
    "Base.keys(rv::Iterators.Reverse) = keys(reverse(rv.itr))\n",
    "Base.keys(en::Iterators.Enumerate) = keys(en.itr)\n",
    "Base.keys(::Iterators.Zip) = Iterators.countfrom()\n",
    "Base.keys(::Iterators.Filter) = Iterators.countfrom()\n",
    "Base.keys(ac::Iterators.Accumulate) = keys(ac.itr)\n",
    "Base.keys(::Iterators.Rest) = Iterators.countfrom()\n",
    "Base.keys(::Iterators.Count) = Iterators.countfrom()\n",
    "Base.keys(::Iterators.Take) = Iterators.countfrom()\n",
    "Base.keys(::Iterators.Drop) = Iterators.countfrom()\n",
    "Base.keys(::Iterators.TakeWhile) = Iterators.countfrom()\n",
    "Base.keys(::Iterators.DropWhile) = Iterators.countfrom()\n",
    "Base.keys(::Iterators.Cycle) = Iterators.countfrom()\n",
    "Base.keys(::Iterators.Repeated) = Iterators.countfrom()\n",
    "Base.keys(pr::Iterators.ProductIterator) = CartesianIndices(axes(pr))\n",
    "Base.keys(::Iterators.Flatten) = Iterators.countfrom()\n",
    "Base.keys(::Iterators.PartitionIterator) = Iterators.countfrom()"
   ]
  },
  {
   "cell_type": "code",
   "execution_count": 11,
   "id": "430bf972-a3e2-47d0-8484-dfcdeb871fea",
   "metadata": {},
   "outputs": [
    {
     "data": {
      "text/plain": [
       "(-0.9999710363300245, 14)"
      ]
     },
     "execution_count": 11,
     "metadata": {},
     "output_type": "execute_result"
    }
   ],
   "source": [
    "findmin(sin, Iterators.reverse(collect(X)))"
   ]
  },
  {
   "cell_type": "code",
   "execution_count": 12,
   "id": "204abee2-af1f-4315-ab31-c97b0d9680ce",
   "metadata": {},
   "outputs": [
    {
     "data": {
      "text/plain": [
       "(-0.9999710363300245, 487)"
      ]
     },
     "execution_count": 12,
     "metadata": {},
     "output_type": "execute_result"
    }
   ],
   "source": [
    "findmin(sin∘last, enumerate(X))"
   ]
  },
  {
   "cell_type": "code",
   "execution_count": 13,
   "id": "596c09c4-f7bd-4467-ba05-eacc824ba8d9",
   "metadata": {},
   "outputs": [
    {
     "data": {
      "text/plain": [
       "(-0.9999710363300245, 487)"
      ]
     },
     "execution_count": 13,
     "metadata": {},
     "output_type": "execute_result"
    }
   ],
   "source": [
    "findmin(sin∘first, zip(X, Y))"
   ]
  },
  {
   "cell_type": "code",
   "execution_count": 14,
   "id": "c05f3903-610f-4d0a-9bf8-e11e6e0ade19",
   "metadata": {},
   "outputs": [
    {
     "data": {
      "text/plain": [
       "(-0.9999973960609476, 452)"
      ]
     },
     "execution_count": 14,
     "metadata": {},
     "output_type": "execute_result"
    }
   ],
   "source": [
    "findmin(sin, Iterators.accumulate(+, X))"
   ]
  },
  {
   "cell_type": "code",
   "execution_count": 15,
   "id": "50b20130-e5ed-4a6b-892f-20143a1f133d",
   "metadata": {},
   "outputs": [
    {
     "data": {
      "text/plain": [
       "(-0.9999576464987401, 172)"
      ]
     },
     "execution_count": 15,
     "metadata": {},
     "output_type": "execute_result"
    }
   ],
   "source": [
    "findmin(sin, Iterators.take(X, 486))"
   ]
  },
  {
   "cell_type": "code",
   "execution_count": 16,
   "id": "56e13e9d-91e1-4253-9ef9-229886507574",
   "metadata": {},
   "outputs": [
    {
     "data": {
      "text/plain": [
       "(0.0, CartesianIndex(301, 101))"
      ]
     },
     "execution_count": 16,
     "metadata": {},
     "output_type": "execute_result"
    }
   ],
   "source": [
    "findmin(v -> f(v...), Iterators.product(X, Y))"
   ]
  },
  {
   "cell_type": "code",
   "execution_count": 17,
   "id": "c8f04215-5f01-4c04-b1ff-a8ea96a60e49",
   "metadata": {},
   "outputs": [
    {
     "data": {
      "text/plain": [
       "(-0.999997146387718, 972)"
      ]
     },
     "execution_count": 17,
     "metadata": {},
     "output_type": "execute_result"
    }
   ],
   "source": [
    "findmin(sin, Iterators.flatten((X, Y)))"
   ]
  },
  {
   "cell_type": "code",
   "execution_count": null,
   "id": "1eb626ad-8df2-4924-9547-080a2275a193",
   "metadata": {},
   "outputs": [],
   "source": []
  }
 ],
 "metadata": {
  "jupytext": {
   "formats": "ipynb,auto:hydrogen"
  },
  "kernelspec": {
   "display_name": "Julia 1.7.0-beta2",
   "language": "julia",
   "name": "julia-1.7"
  },
  "language_info": {
   "file_extension": ".jl",
   "mimetype": "application/julia",
   "name": "julia",
   "version": "1.7.0"
  }
 },
 "nbformat": 4,
 "nbformat_minor": 5
}
