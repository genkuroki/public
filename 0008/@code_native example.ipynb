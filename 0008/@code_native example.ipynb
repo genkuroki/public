{
 "cells": [
  {
   "cell_type": "code",
   "execution_count": 14,
   "id": "4d626dc6-936c-4bcb-a2a8-eb9a6e4bff3b",
   "metadata": {},
   "outputs": [
    {
     "data": {
      "text/plain": [
       "v\"1.6.1\""
      ]
     },
     "execution_count": 14,
     "metadata": {},
     "output_type": "execute_result"
    }
   ],
   "source": [
    "VERSION"
   ]
  },
  {
   "cell_type": "code",
   "execution_count": 13,
   "id": "35bcc5f4-0e58-4a41-a91a-dbfaa940afbd",
   "metadata": {},
   "outputs": [
    {
     "name": "stdout",
     "output_type": "stream",
     "text": [
      "\t\u001b[0m.text\n",
      "\t\u001b[96m\u001b[1mpush\u001b[22m\u001b[39m\t\u001b[0mrbp\n",
      "\t\u001b[96m\u001b[1mmov\u001b[22m\u001b[39m\t\u001b[0mrbp\u001b[0m, \u001b[0mrsp\n",
      "\t\u001b[96m\u001b[1mmov\u001b[22m\u001b[39m\t\u001b[0mr8\u001b[0m, \u001b[95mqword\u001b[39m \u001b[95mptr\u001b[39m \u001b[33m[\u001b[39m\u001b[0mrcx \u001b[0m+ \u001b[33m16\u001b[39m\u001b[33m]\u001b[39m\n",
      "\t\u001b[96m\u001b[1mmov\u001b[22m\u001b[39m\t\u001b[0mrdx\u001b[0m, \u001b[95mqword\u001b[39m \u001b[95mptr\u001b[39m \u001b[33m[\u001b[39m\u001b[0mrcx\u001b[33m]\u001b[39m\n",
      "\t\u001b[96m\u001b[1mmov\u001b[22m\u001b[39m\t\u001b[0mr9\u001b[0m, \u001b[95mqword\u001b[39m \u001b[95mptr\u001b[39m \u001b[33m[\u001b[39m\u001b[0mrcx \u001b[0m+ \u001b[33m8\u001b[39m\u001b[33m]\u001b[39m\n",
      "\t\u001b[96m\u001b[1mtest\u001b[22m\u001b[39m\t\u001b[0mr9\u001b[0m, \u001b[0mr9\n",
      "\t\u001b[96m\u001b[1msetg\u001b[22m\u001b[39m\t\u001b[0mal\n",
      "\t\u001b[96m\u001b[1mcmp\u001b[22m\u001b[39m\t\u001b[0mrdx\u001b[0m, \u001b[0mr8\n",
      "\t\u001b[96m\u001b[1msetl\u001b[22m\u001b[39m\t\u001b[0mcl\n",
      "\t\u001b[96m\u001b[1mcmp\u001b[22m\u001b[39m\t\u001b[0mrdx\u001b[0m, \u001b[0mr8\n",
      "\t\u001b[96m\u001b[1mje\u001b[22m\u001b[39m\t\u001b[91mL40\u001b[39m\n",
      "\t\u001b[96m\u001b[1mxor\u001b[22m\u001b[39m\t\u001b[0mal\u001b[0m, \u001b[0mcl\n",
      "\t\u001b[96m\u001b[1mje\u001b[22m\u001b[39m\t\u001b[91mL40\u001b[39m\n",
      "\t\u001b[96m\u001b[1mxor\u001b[22m\u001b[39m\t\u001b[0meax\u001b[0m, \u001b[0meax\n",
      "\t\u001b[96m\u001b[1mpop\u001b[22m\u001b[39m\t\u001b[0mrbp\n",
      "\t\u001b[96m\u001b[1mret\u001b[22m\u001b[39m\n",
      "\u001b[91mL40:\u001b[39m\n",
      "\t\u001b[96m\u001b[1mlea\u001b[22m\u001b[39m\t\u001b[0mr10\u001b[0m, \u001b[33m[\u001b[39m\u001b[0mrdx \u001b[0m+ \u001b[0mr9\u001b[33m]\u001b[39m\n",
      "\t\u001b[96m\u001b[1madd\u001b[22m\u001b[39m\t\u001b[0mr8\u001b[0m, \u001b[0mr9\n",
      "\t\u001b[96m\u001b[1msub\u001b[22m\u001b[39m\t\u001b[0mr8\u001b[0m, \u001b[0mrdx\n",
      "\t\u001b[96m\u001b[1mxor\u001b[22m\u001b[39m\t\u001b[0mecx\u001b[0m, \u001b[0mecx\n",
      "\t\u001b[96m\u001b[1mnop\u001b[22m\u001b[39m\t\u001b[95mword\u001b[39m \u001b[95mptr\u001b[39m \u001b[0mcs\u001b[0m:\u001b[33m[\u001b[39m\u001b[0mrax \u001b[0m+ \u001b[0mrax\u001b[33m]\u001b[39m\n",
      "\u001b[91mL64:\u001b[39m\n",
      "\t\u001b[96m\u001b[1mmov\u001b[22m\u001b[39m\t\u001b[0mrax\u001b[0m, \u001b[0mrdx\n",
      "\t\u001b[96m\u001b[1mlea\u001b[22m\u001b[39m\t\u001b[0mrdx\u001b[0m, \u001b[33m[\u001b[39m\u001b[0mr10 \u001b[0m+ \u001b[0mrcx\u001b[33m]\u001b[39m\n",
      "\t\u001b[96m\u001b[1madd\u001b[22m\u001b[39m\t\u001b[0mrdx\u001b[0m, \u001b[0mrax\n",
      "\t\u001b[96m\u001b[1madd\u001b[22m\u001b[39m\t\u001b[0mrcx\u001b[0m, \u001b[0mr9\n",
      "\t\u001b[96m\u001b[1mcmp\u001b[22m\u001b[39m\t\u001b[0mr8\u001b[0m, \u001b[0mrcx\n",
      "\t\u001b[96m\u001b[1mjne\u001b[22m\u001b[39m\t\u001b[91mL64\u001b[39m\n",
      "\t\u001b[96m\u001b[1mpop\u001b[22m\u001b[39m\t\u001b[0mrbp\n",
      "\t\u001b[96m\u001b[1mret\u001b[22m\u001b[39m\n",
      "\t\u001b[96m\u001b[1mnop\u001b[22m\u001b[39m\t\u001b[95mword\u001b[39m \u001b[95mptr\u001b[39m \u001b[0mcs\u001b[0m:\u001b[33m[\u001b[39m\u001b[0mrax \u001b[0m+ \u001b[0mrax\u001b[33m]\u001b[39m\n"
     ]
    }
   ],
   "source": [
    "f(ran) = sum(i for i in ran)\n",
    "@code_native debuginfo=:none syntax=:intel f(3:3:1000)"
   ]
  },
  {
   "cell_type": "code",
   "execution_count": 11,
   "id": "33ee53fb-1baf-4007-b336-869524e7601b",
   "metadata": {},
   "outputs": [
    {
     "name": "stdout",
     "output_type": "stream",
     "text": [
      "\t\u001b[0m.text\n",
      "\t\u001b[96m\u001b[1mpush\u001b[22m\u001b[39m\t\u001b[0mrbp\n",
      "\t\u001b[96m\u001b[1mmov\u001b[22m\u001b[39m\t\u001b[0mrbp\u001b[0m, \u001b[0mrsp\n",
      "\t\u001b[96m\u001b[1mmov\u001b[22m\u001b[39m\t\u001b[0meax\u001b[0m, \u001b[33m166833\u001b[39m\n",
      "\t\u001b[96m\u001b[1mpop\u001b[22m\u001b[39m\t\u001b[0mrbp\n",
      "\t\u001b[96m\u001b[1mret\u001b[22m\u001b[39m\n",
      "\t\u001b[96m\u001b[1mnop\u001b[22m\u001b[39m\t\u001b[95mdword\u001b[39m \u001b[95mptr\u001b[39m \u001b[33m[\u001b[39m\u001b[0mrax \u001b[0m+ \u001b[0mrax\u001b[33m]\u001b[39m\n"
     ]
    }
   ],
   "source": [
    "f_3_3_1000() = f(3:3:1000)\n",
    "@code_native debuginfo=:none syntax=:intel f_3_3_1000()"
   ]
  },
  {
   "cell_type": "markdown",
   "id": "48eaaf00-b933-42c5-a9a3-b6099dfea9e1",
   "metadata": {},
   "source": [
    "The following 2 cases __A__ (loop) and __B__ (constant) should be distinguished.\n",
    "\n",
    "```\n",
    "julia> VERSION\n",
    "v\"1.6.1\"\n",
    "```\n",
    "\n",
    "__Case A__ (loop)\n",
    "```\n",
    "julia> f(ran) = sum(i for i in ran);\n",
    "julia> @code_native debuginfo=:none syntax=:intel f(3:3:1000)\n",
    "\t.text\n",
    "\tpush\trbp\n",
    "\tmov\trbp, rsp\n",
    "\tmov\tr8, qword ptr [rcx + 16]\n",
    "\tmov\trdx, qword ptr [rcx]\n",
    "\tmov\tr9, qword ptr [rcx + 8]\n",
    "\ttest\tr9, r9\n",
    "\tsetg\tal\n",
    "\tcmp\trdx, r8\n",
    "\tsetl\tcl\n",
    "\tcmp\trdx, r8\n",
    "\tje\tL40\n",
    "\txor\tal, cl\n",
    "\tje\tL40\n",
    "\txor\teax, eax\n",
    "\tpop\trbp\n",
    "\tret\n",
    "L40:\n",
    "\tlea\tr10, [rdx + r9]\n",
    "\tadd\tr8, r9\n",
    "\tsub\tr8, rdx\n",
    "\txor\tecx, ecx\n",
    "\tnop\tword ptr cs:[rax + rax]\n",
    "L64:\n",
    "\tmov\trax, rdx\n",
    "\tlea\trdx, [r10 + rcx]\n",
    "\tadd\trdx, rax\n",
    "\tadd\trcx, r9\n",
    "\tcmp\tr8, rcx\n",
    "\tjne\tL64\n",
    "\tpop\trbp\n",
    "\tret\n",
    "\tnop\tword ptr cs:[rax + rax]\n",
    "```\n",
    "\n",
    "__Case B__ (constant)\n",
    "```\n",
    "julia> f_3_3_1000() = f(3:3:1000)\n",
    "jukia> @code_native debuginfo=:none syntax=:intel f_3_3_1000()\n",
    "\t.text\n",
    "\tpush\trbp\n",
    "\tmov\trbp, rsp\n",
    "\tmov\teax, 166833\n",
    "\tpop\trbp\n",
    "\tret\n",
    "\tnop\tdword ptr [rax + rax]\n",
    "```"
   ]
  },
  {
   "cell_type": "code",
   "execution_count": null,
   "id": "ca1df382-ca0e-422c-b9f8-12bae1bc4cdd",
   "metadata": {},
   "outputs": [],
   "source": []
  }
 ],
 "metadata": {
  "kernelspec": {
   "display_name": "Julia 1.6.1",
   "language": "julia",
   "name": "julia-1.6"
  },
  "language_info": {
   "file_extension": ".jl",
   "mimetype": "application/julia",
   "name": "julia",
   "version": "1.6.1"
  }
 },
 "nbformat": 4,
 "nbformat_minor": 5
}
