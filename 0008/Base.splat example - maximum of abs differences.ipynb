{
 "cells": [
  {
   "cell_type": "markdown",
   "id": "affae213-5742-44fc-aa0e-6b0ade082a57",
   "metadata": {},
   "source": [
    "https://discourse.julialang.org/t/is-there-a-maximum-f-op-itrs-in-julia/63868/3"
   ]
  },
  {
   "cell_type": "code",
   "execution_count": 1,
   "id": "2f73afc9-7adf-4876-a577-8ff5f3650631",
   "metadata": {},
   "outputs": [
    {
     "name": "stdout",
     "output_type": "stream",
     "text": [
      "f(a, b) == g(a, b) == h(a, b) = true\n",
      "  1.861 ms (0 allocations: 0 bytes)\n",
      "  1.912 ms (0 allocations: 0 bytes)\n",
      "  2.422 ms (2 allocations: 7.63 MiB)\n"
     ]
    },
    {
     "data": {
      "text/plain": [
       "7.569880118213351"
      ]
     },
     "execution_count": 1,
     "metadata": {},
     "output_type": "execute_result"
    }
   ],
   "source": [
    "using BenchmarkTools\n",
    "\n",
    "a = randn(1000, 1000)\n",
    "b = randn(1000, 1000)\n",
    "\n",
    "f(a, b) = maximum(abs, x - y for (x, y) in zip(a, b))\n",
    "g(a, b) = maximum(Base.splat(abs∘-), zip(a, b))\n",
    "h(a, b) = mapreduce(abs∘-, max, a, b)\n",
    "\n",
    "@show f(a, b) == g(a, b) == h(a, b)\n",
    "@btime f($a, $b)\n",
    "@btime g($a, $b)\n",
    "@btime h($a, $b)"
   ]
  },
  {
   "cell_type": "code",
   "execution_count": null,
   "id": "2be3384d-fc2b-4208-82a5-098b4dc3b87f",
   "metadata": {},
   "outputs": [],
   "source": []
  }
 ],
 "metadata": {
  "jupytext": {
   "formats": "ipynb,auto:hydrogen"
  },
  "kernelspec": {
   "display_name": "Julia 1.6.1",
   "language": "julia",
   "name": "julia-1.6"
  },
  "language_info": {
   "file_extension": ".jl",
   "mimetype": "application/julia",
   "name": "julia",
   "version": "1.6.1"
  }
 },
 "nbformat": 4,
 "nbformat_minor": 5
}
