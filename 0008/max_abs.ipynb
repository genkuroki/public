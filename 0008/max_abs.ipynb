{
 "cells": [
  {
   "cell_type": "markdown",
   "id": "281a6389-9a55-42e8-a51b-ae80983e56ae",
   "metadata": {},
   "source": [
    "https://discourse.julialang.org/t/is-there-a-maximum-f-op-itrs-in-julia/63868/11"
   ]
  },
  {
   "cell_type": "code",
   "execution_count": 1,
   "id": "561037c0-8bbe-4af4-bcf2-e1b176259e2e",
   "metadata": {},
   "outputs": [
    {
     "name": "stdout",
     "output_type": "stream",
     "text": [
      "Julia Version 1.6.1\n",
      "Commit 6aaedecc44 (2021-04-23 05:59 UTC)\n",
      "Platform Info:\n",
      "  OS: Windows (x86_64-w64-mingw32)\n",
      "  CPU: Intel(R) Core(TM) i7-10750H CPU @ 2.60GHz\n",
      "  WORD_SIZE: 64\n",
      "  LIBM: libopenlibm\n",
      "  LLVM: libLLVM-11.0.1 (ORCJIT, skylake)\n",
      "Environment:\n",
      "  JULIA_DEPOT_PATH = D:\\.julia\n",
      "  JULIA_NUM_THREADS = 12\n",
      "  JULIA_PYTHONCALL_EXE = D:\\.julia\\conda\\3\\python.exe\n"
     ]
    }
   ],
   "source": [
    "versioninfo()"
   ]
  },
  {
   "cell_type": "code",
   "execution_count": 2,
   "id": "0160f638-52b4-48c0-8c7c-bd8953c33aa5",
   "metadata": {},
   "outputs": [
    {
     "name": "stdout",
     "output_type": "stream",
     "text": [
      "VERSION = v\"1.6.1\"\n",
      "Threads.nthreads() = 12\n",
      "\n",
      "N = 500\n",
      "simple for loop:       213.500 μs (0 allocations: 0 bytes)\n",
      "maximum(generator):    428.900 μs (0 allocations: 0 bytes)\n",
      "maximum(abs, a - b):   431.600 μs (2 allocations: 1.91 MiB)\n",
      "maximum splat(abs∘-):  428.800 μs (0 allocations: 0 bytes)\n",
      "mapreduce:             460.300 μs (2 allocations: 1.91 MiB)\n",
      "Tullio:                204.600 μs (1 allocation: 16 bytes)\n",
      "LoopVect. Tullio:      52.200 μs (1 allocation: 16 bytes)\n",
      "LoopVect. @turbo:      51.600 μs (0 allocations: 0 bytes)\n",
      "LoopVect. @tturbo:     12.800 μs (0 allocations: 0 bytes)\n"
     ]
    }
   ],
   "source": [
    "using BenchmarkTools\n",
    "\n",
    "function max_abs(a, b)\n",
    "    m = zero(promote_type(eltype(a), eltype(b)))\n",
    "    for i in eachindex(a, b)\n",
    "        tmp = abs(a[i] - b[i]) \n",
    "        tmp > m && (m = tmp)\n",
    "    end \n",
    "    m\n",
    "end\n",
    "\n",
    "N = 500\n",
    "a = randn(N, N)\n",
    "b = randn(N, N)\n",
    "\n",
    "@show VERSION\n",
    "@show Threads.nthreads()\n",
    "println()\n",
    "@show N\n",
    "print(\"simple for loop:     \")\n",
    "@btime max_abs($a, $b)\n",
    "print(\"maximum(generator):  \")\n",
    "@btime maximum(abs(i - j) for (i, j) in zip($a, $b))\n",
    "print(\"maximum(abs, a - b): \")\n",
    "@btime maximum(abs, $a - $b)\n",
    "print(\"maximum splat(abs∘-):\")\n",
    "@btime maximum(Base.splat(abs∘-), zip($a, $b))\n",
    "print(\"mapreduce abs∘- max: \")\n",
    "@btime mapreduce(abs∘-, max, $a, $b)\n",
    "using Tullio\n",
    "print(\"Tullio:              \")\n",
    "@btime @tullio (max) _ := abs($a[i] - $b[i])\n",
    "print(\"Tullio (LoopVect.):  \")\n",
    "using LoopVectorization\n",
    "@btime @tullio (max) _ := abs($a[i] - $b[i])\n",
    "\n",
    "function max_abs_turbo(a, b)\n",
    "    m = zero(promote_type(eltype(a), eltype(b)))\n",
    "    @turbo for i in eachindex(a, b)\n",
    "        m = max(m, abs(a[i] - b[i]))\n",
    "    end \n",
    "    m\n",
    "end\n",
    "\n",
    "function max_abs_tturbo(a, b)\n",
    "    m = zero(promote_type(eltype(a), eltype(b)))\n",
    "    @tturbo for i in eachindex(a, b)\n",
    "        m = max(m, abs(a[i] - b[i]))\n",
    "    end \n",
    "    m\n",
    "end\n",
    "\n",
    "print(\"LoopVect. @turbo:    \")\n",
    "@btime max_abs_turbo($a, $b)\n",
    "print(\"LoopVect. @tturbo:   \")\n",
    "@btime max_abs_tturbo($a, $b);"
   ]
  },
  {
   "cell_type": "code",
   "execution_count": 3,
   "id": "d49b364f-6c54-4114-9d15-c7bd497bba6e",
   "metadata": {},
   "outputs": [
    {
     "data": {
      "text/plain": [
       "true"
      ]
     },
     "execution_count": 3,
     "metadata": {},
     "output_type": "execute_result"
    }
   ],
   "source": [
    "max_abs(a, b) ==\n",
    "maximum(abs(i - j) for (i, j) in zip(a, b)) ==\n",
    "maximum(abs, a - b) ==\n",
    "maximum(Base.splat(abs∘-), zip(a, b)) ==\n",
    "mapreduce(abs∘-, max, a, b) ==\n",
    "(@tullio (max) _ := abs(a[i] - b[i])) ==\n",
    "max_abs_turbo(a, b) ==\n",
    "max_abs_tturbo(a, b)"
   ]
  },
  {
   "cell_type": "code",
   "execution_count": 6,
   "id": "4e9ba672-e8a0-4def-964f-9eb9d50a0688",
   "metadata": {},
   "outputs": [
    {
     "name": "stdout",
     "output_type": "stream",
     "text": [
      "Tullio avx=false:      208.900 μs (1 allocation: 16 bytes)\n",
      "Tullio threads=false:  54.300 μs (1 allocation: 16 bytes)\n"
     ]
    },
    {
     "data": {
      "text/plain": [
       "6.2930224704881645"
      ]
     },
     "execution_count": 6,
     "metadata": {},
     "output_type": "execute_result"
    }
   ],
   "source": [
    "print(\"Tullio avx=false:    \")\n",
    "@btime @tullio avx=false (max) _ := abs($a[i] - $b[i])\n",
    "print(\"Tullio threads=false:\")\n",
    "@btime @tullio threads=false (max) _ := abs($a[i] - $b[i]);"
   ]
  },
  {
   "cell_type": "code",
   "execution_count": null,
   "id": "0db2f5af-7b8d-431f-9d72-11b6b52ce473",
   "metadata": {},
   "outputs": [],
   "source": []
  }
 ],
 "metadata": {
  "jupytext": {
   "encoding": "# -*- coding: utf-8 -*-",
   "formats": "ipynb,jl:hydrogen"
  },
  "kernelspec": {
   "display_name": "Julia 1.6.1",
   "language": "julia",
   "name": "julia-1.6"
  },
  "language_info": {
   "file_extension": ".jl",
   "mimetype": "application/julia",
   "name": "julia",
   "version": "1.6.1"
  }
 },
 "nbformat": 4,
 "nbformat_minor": 5
}
