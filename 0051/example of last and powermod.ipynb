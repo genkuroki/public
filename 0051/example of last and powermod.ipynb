{
 "cells": [
  {
   "cell_type": "markdown",
   "id": "f1f77ff4-ec80-457f-8991-ca28f000bb7e",
   "metadata": {},
   "source": [
    "https://x.com/dannchu/status/1855466229332594870"
   ]
  },
  {
   "cell_type": "code",
   "execution_count": 1,
   "id": "df6b1a94-db66-46b0-b89d-3edf18e5966c",
   "metadata": {},
   "outputs": [
    {
     "name": "stdout",
     "output_type": "stream",
     "text": [
      "  13.300 μs (0 allocations: 0 bytes)\n",
      "  643.293 ns (0 allocations: 0 bytes)\n",
      "  643.452 ns (0 allocations: 0 bytes)\n",
      "g() = 96\n",
      "f() = 96\n",
      "h() = 96\n"
     ]
    },
    {
     "data": {
      "text/plain": [
       "true"
      ]
     },
     "execution_count": 1,
     "metadata": {},
     "output_type": "execute_result"
    }
   ],
   "source": [
    "using BenchmarkTools\n",
    "\n",
    "f() = maximum(n for n in 11:99 if powermod(3, n, 5) == 1)\n",
    "g() = first(n for n in 99:-1:11 if powermod(3, n, 5) == 1)\n",
    "h() = last(n for n in 11:99 if powermod(3, n, 5) == 1)\n",
    "\n",
    "@btime f()\n",
    "@btime g()\n",
    "@btime h()\n",
    "@show(f()) == @show(g()) == @show(h())"
   ]
  },
  {
   "cell_type": "code",
   "execution_count": 2,
   "id": "377b2cd4-8011-4e27-8de8-8b0d7a6da528",
   "metadata": {},
   "outputs": [
    {
     "data": {
      "text/plain": [
       "Base.Generator{Base.Iterators.Filter{var\"#7#8\", UnitRange{Int64}}, typeof(identity)}(identity, Base.Iterators.Filter{var\"#7#8\", UnitRange{Int64}}(var\"#7#8\"(), 11:99))"
      ]
     },
     "execution_count": 2,
     "metadata": {},
     "output_type": "execute_result"
    }
   ],
   "source": [
    "gen = (n for n in 11:99 if powermod(3, n, 5) == 1)"
   ]
  },
  {
   "cell_type": "code",
   "execution_count": 3,
   "id": "2367f5b2-6070-46fb-908d-bc8aede312ed",
   "metadata": {},
   "outputs": [
    {
     "data": {
      "text/plain": [
       "96"
      ]
     },
     "execution_count": 3,
     "metadata": {},
     "output_type": "execute_result"
    }
   ],
   "source": [
    "last(gen)"
   ]
  },
  {
   "cell_type": "code",
   "execution_count": 4,
   "id": "55cd4ebf-d4fa-43f0-b3c6-4349cc0f86f3",
   "metadata": {},
   "outputs": [
    {
     "data": {
      "text/html": [
       "last(g::<b>Base.Generator</b>) in Base at <a href=\"https://github.com/JuliaLang/julia/tree/8f5b7ca12ad48c6d740e058312fc8cf2bbe67848/base/generator.jl#L56\" target=\"_blank\">generator.jl:56</a>"
      ],
      "text/plain": [
       "last(\u001b[90mg\u001b[39m::\u001b[1mBase.Generator\u001b[22m)\n",
       "\u001b[90m     @\u001b[39m \u001b[90mBase\u001b[39m \u001b[90m\u001b[4mgenerator.jl:56\u001b[24m\u001b[39m"
      ]
     },
     "execution_count": 4,
     "metadata": {},
     "output_type": "execute_result"
    }
   ],
   "source": [
    "@which last(gen)"
   ]
  },
  {
   "cell_type": "markdown",
   "id": "401508ee-8054-4072-b269-3e570acd835b",
   "metadata": {},
   "source": [
    "https://github.com/JuliaLang/julia/blob/8f5b7ca12ad48c6d740e058312fc8cf2bbe67848/base/generator.jl#L56"
   ]
  },
  {
   "cell_type": "code",
   "execution_count": 5,
   "id": "bcdf8832-a981-4e17-a825-0d057cbde3d6",
   "metadata": {},
   "outputs": [
    {
     "data": {
      "text/plain": [
       "Base.Iterators.Filter{var\"#7#8\", UnitRange{Int64}}(var\"#7#8\"(), 11:99)"
      ]
     },
     "execution_count": 5,
     "metadata": {},
     "output_type": "execute_result"
    }
   ],
   "source": [
    "gen.iter"
   ]
  },
  {
   "cell_type": "code",
   "execution_count": 6,
   "id": "5c9a995a-33eb-467f-bfba-cf97cc5f91fb",
   "metadata": {},
   "outputs": [
    {
     "data": {
      "text/plain": [
       "96"
      ]
     },
     "execution_count": 6,
     "metadata": {},
     "output_type": "execute_result"
    }
   ],
   "source": [
    "last(gen.iter)"
   ]
  },
  {
   "cell_type": "code",
   "execution_count": 7,
   "id": "7ee3badb-3e83-4842-bdef-7b76926e8511",
   "metadata": {},
   "outputs": [
    {
     "data": {
      "text/html": [
       "last(f::<b>Base.Iterators.Filter</b>) in Base.Iterators at <a href=\"https://github.com/JuliaLang/julia/tree/8f5b7ca12ad48c6d740e058312fc8cf2bbe67848/base/iterators.jl#L561\" target=\"_blank\">iterators.jl:561</a>"
      ],
      "text/plain": [
       "last(\u001b[90mf\u001b[39m::\u001b[1mBase.Iterators.Filter\u001b[22m)\n",
       "\u001b[90m     @\u001b[39m \u001b[90mBase.Iterators\u001b[39m \u001b[90m\u001b[4miterators.jl:561\u001b[24m\u001b[39m"
      ]
     },
     "execution_count": 7,
     "metadata": {},
     "output_type": "execute_result"
    }
   ],
   "source": [
    "@which last(gen.iter)"
   ]
  },
  {
   "cell_type": "markdown",
   "id": "a0b25428-5657-42ae-a087-af1a34750e94",
   "metadata": {},
   "source": [
    "https://github.com/JuliaLang/julia/blob/8f5b7ca12ad48c6d740e058312fc8cf2bbe67848/base/iterators.jl#L561"
   ]
  },
  {
   "cell_type": "code",
   "execution_count": 8,
   "id": "987fcd7d-8dc2-4dd2-8c0e-5c4291a6746e",
   "metadata": {},
   "outputs": [
    {
     "data": {
      "text/plain": [
       "Base.Iterators.Filter{var\"#7#8\", StepRange{Int64, Int64}}(var\"#7#8\"(), 99:-1:11)"
      ]
     },
     "execution_count": 8,
     "metadata": {},
     "output_type": "execute_result"
    }
   ],
   "source": [
    "Iterators.reverse(gen.iter)"
   ]
  },
  {
   "cell_type": "code",
   "execution_count": 9,
   "id": "539f4a6d-74b8-4b99-8d20-c7083a09f509",
   "metadata": {},
   "outputs": [
    {
     "data": {
      "text/plain": [
       "96"
      ]
     },
     "execution_count": 9,
     "metadata": {},
     "output_type": "execute_result"
    }
   ],
   "source": [
    "first(Iterators.reverse(gen.iter))"
   ]
  },
  {
   "cell_type": "code",
   "execution_count": null,
   "id": "b3353f95-9767-477e-8e72-0649da19a50c",
   "metadata": {},
   "outputs": [],
   "source": []
  }
 ],
 "metadata": {
  "jupytext": {
   "formats": "ipynb,jl:hydrogen"
  },
  "kernelspec": {
   "display_name": "Julia 1.11.1",
   "language": "julia",
   "name": "julia-1.11"
  },
  "language_info": {
   "file_extension": ".jl",
   "mimetype": "application/julia",
   "name": "julia",
   "version": "1.11.1"
  }
 },
 "nbformat": 4,
 "nbformat_minor": 5
}
