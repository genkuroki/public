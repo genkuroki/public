{
 "cells": [
  {
   "cell_type": "code",
   "execution_count": null,
   "id": "98d62998-4eff-416c-bfc8-1f6f8ed8fde5",
   "metadata": {},
   "outputs": [],
   "source": []
  }
 ],
 "metadata": {
  "kernelspec": {
   "display_name": "Julia 1.11.2",
   "language": "julia",
   "name": "julia-1.11"
  },
  "language_info": {
   "name": ""
  }
 },
 "nbformat": 4,
 "nbformat_minor": 5
}
