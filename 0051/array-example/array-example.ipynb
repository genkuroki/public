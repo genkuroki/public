{
 "cells": [
  {
   "cell_type": "code",
   "execution_count": 1,
   "id": "36ca2dfe-7071-4ab2-8442-e25f12879230",
   "metadata": {},
   "outputs": [
    {
     "name": "stdout",
     "output_type": "stream",
     "text": [
      "-------- p = 0.5\n",
      "\\begin{array}{cc|cccccc}\n",
      "\\multicolumn{2}{c|}{\\multirow{2}{*}{$p_0=0.5$}}\n",
      " & \\multicolumn{6}{c}{n} \\\\\n",
      "\\cline{3-8}\n",
      " & & 10 & 30 & 100 & 300 & 1000 & 3000 \\\\\n",
      "\\hline\n",
      "\\multirow{4}{*}{$C$}\n",
      " & \\multicolumn{1}{|c|}{1} & 15.3\\% & 8.25\\% & 4.11\\% & 2.18\\% & 1.1\\% & 0.6\\% \\\\\n",
      " & \\multicolumn{1}{|c|}{1/3} & 3.95\\% & 2.24\\% & 1.16\\% & 0.63\\% & 0.33\\% & 0.18\\% \\\\\n",
      " & \\multicolumn{1}{|c|}{1/10} & 0.99\\% & 0.58\\% & 0.3\\% & 0.17\\% & 0.09\\% & 0.05\\% \\\\\n",
      " & \\multicolumn{1}{|c|}{1/30} & 0.29\\% & 0.17\\% & 0.09\\% & 0.05\\% & 0.03\\% & 0.02\\% \\\\\n",
      "\\end{array}\n"
     ]
    },
    {
     "data": {
      "text/plain": [
       "4×6 Matrix{Float64}:\n",
       " 15.3   8.25  4.11  2.18  1.1   0.6\n",
       "  3.95  2.24  1.16  0.63  0.33  0.18\n",
       "  0.99  0.58  0.3   0.17  0.09  0.05\n",
       "  0.29  0.17  0.09  0.05  0.03  0.02"
      ]
     },
     "metadata": {},
     "output_type": "display_data"
    },
    {
     "name": "stdout",
     "output_type": "stream",
     "text": [
      "\n",
      "-------- p = 0.1\n",
      "\\begin{array}{cc|cccccc}\n",
      "\\multicolumn{2}{c|}{\\multirow{2}{*}{$p_0=0.1$}}\n",
      " & \\multicolumn{6}{c}{n} \\\\\n",
      "\\cline{3-8}\n",
      " & & 10 & 30 & 100 & 300 & 1000 & 3000 \\\\\n",
      "\\hline\n",
      "\\multirow{4}{*}{$C$}\n",
      " & \\multicolumn{1}{|c|}{1} & 8.01\\% & 4.45\\% & 2.27\\% & 1.22\\% & 0.62\\% & 0.34\\% \\\\\n",
      " & \\multicolumn{1}{|c|}{1/3} & 2.18\\% & 1.25\\% & 0.66\\% & 0.36\\% & 0.19\\% & 0.1\\% \\\\\n",
      " & \\multicolumn{1}{|c|}{1/10} & 0.56\\% & 0.33\\% & 0.17\\% & 0.1\\% & 0.05\\% & 0.03\\% \\\\\n",
      " & \\multicolumn{1}{|c|}{1/30} & 0.17\\% & 0.1\\% & 0.05\\% & 0.03\\% & 0.02\\% & 0.01\\% \\\\\n",
      "\\end{array}\n"
     ]
    },
    {
     "data": {
      "text/plain": [
       "4×6 Matrix{Float64}:\n",
       " 8.01  4.45  2.27  1.22  0.62  0.34\n",
       " 2.18  1.25  0.66  0.36  0.19  0.1\n",
       " 0.56  0.33  0.17  0.1   0.05  0.03\n",
       " 0.17  0.1   0.05  0.03  0.02  0.01"
      ]
     },
     "metadata": {},
     "output_type": "display_data"
    },
    {
     "name": "stdout",
     "output_type": "stream",
     "text": [
      "\n"
     ]
    }
   ],
   "source": [
    "using Distributions\n",
    "\n",
    "function alpha_level(n, C; p=1/2)\n",
    "    z² = -2log(C) + log((n+1)^2/n) - log(2π*p*(1-p))\n",
    "    2ccdf(Normal(), √z²)\n",
    "end\n",
    "strfrac(x) = isinteger(x) ? string(x) : replace(string(x), r\"//\"=>\"/\")\n",
    "\n",
    "ps = (0.5, 0.1)\n",
    "Cs = (1, 1//3, 1//10, 1//30)\n",
    "ns = (10, 30, 100, 300, 1000, 3000)\n",
    "\n",
    "for p in ps\n",
    "    println(\"-------- p = $p\")\n",
    "    println(\"\\\\begin{array}{cc|$(\"c\" ^ length(ns))}\")\n",
    "    println(\"\\\\multicolumn{2}{c|}{\\\\multirow{2}{*}{\\$p_0=$p\\$}}\")\n",
    "    println(\" & \\\\multicolumn{$(length(ns))}{c}{n} \\\\\\\\\")\n",
    "    println(\"\\\\cline{3-$(2+length(ns))}\")\n",
    "    print(\" &\")\n",
    "    for n in ns\n",
    "        print(\" & \", n)\n",
    "    end\n",
    "    println(\" \\\\\\\\\")\n",
    "    println(\"\\\\hline\")\n",
    "    for (i, C) in enumerate(Cs)\n",
    "        if i == 1\n",
    "            println(\"\\\\multirow{$(length(Cs))}{*}{\\$C\\$}\")\n",
    "        end\n",
    "        print(\" & \\\\multicolumn{1}{|c|}{$(strfrac(C))}\")\n",
    "        for (j, n) in enumerate(ns)\n",
    "            print(\" & \")\n",
    "            alpha_n = round(100alpha_level(n, C; p); digits=2)\n",
    "            print(alpha_n, \"\\\\%\")\n",
    "        end\n",
    "        println(\" \\\\\\\\\")\n",
    "    end\n",
    "    println(\"\\\\end{array}\")\n",
    "\n",
    "    [round(100alpha_level(n, C; p); digits=2) for C in Cs, n in ns] |> display\n",
    "    println()\n",
    "end"
   ]
  },
  {
   "cell_type": "code",
   "execution_count": null,
   "id": "be1a96be-87aa-48e4-869a-917d44dcf912",
   "metadata": {},
   "outputs": [],
   "source": []
  }
 ],
 "metadata": {
  "jupytext": {
   "formats": "ipynb,jl:hydrogen"
  },
  "kernelspec": {
   "display_name": "Julia 1.11.2",
   "language": "julia",
   "name": "julia-1.11"
  },
  "language_info": {
   "file_extension": ".jl",
   "mimetype": "application/julia",
   "name": "julia",
   "version": "1.11.2"
  }
 },
 "nbformat": 4,
 "nbformat_minor": 5
}
