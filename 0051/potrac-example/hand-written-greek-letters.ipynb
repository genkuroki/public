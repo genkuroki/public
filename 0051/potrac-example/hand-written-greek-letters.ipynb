{
 "cells": [
  {
   "cell_type": "code",
   "execution_count": 1,
   "id": "05c83600",
   "metadata": {},
   "outputs": [
    {
     "name": "stdout",
     "output_type": "stream",
     "text": [
      "-rw-r--r-- 1 genkuroki genkuroki 54760 Dec 30 21:02 hand-written-greek-letters.jpg\n"
     ]
    }
   ],
   "source": [
    "; ls -l hand-written-greek-letters.jpg"
   ]
  },
  {
   "cell_type": "code",
   "execution_count": 2,
   "id": "824c521d",
   "metadata": {},
   "outputs": [],
   "source": [
    "; magick hand-written-greek-letters.jpg hand-written-greek-letters.ppm"
   ]
  },
  {
   "cell_type": "code",
   "execution_count": 3,
   "id": "8d853b63",
   "metadata": {},
   "outputs": [
    {
     "name": "stdout",
     "output_type": "stream",
     "text": [
      "-rw-r--r-- 1 genkuroki genkuroki 1518028 Dec 31 00:33 hand-written-greek-letters.ppm\n"
     ]
    }
   ],
   "source": [
    "; ls -l hand-written-greek-letters.ppm"
   ]
  },
  {
   "cell_type": "code",
   "execution_count": 4,
   "id": "acffad4c",
   "metadata": {},
   "outputs": [],
   "source": [
    "; potrace -s hand-written-greek-letters.ppm -o hand-written-greek-letters.svg"
   ]
  },
  {
   "cell_type": "code",
   "execution_count": 5,
   "id": "17b4cb54",
   "metadata": {},
   "outputs": [
    {
     "name": "stdout",
     "output_type": "stream",
     "text": [
      "-rw-r--r-- 1 genkuroki genkuroki 7396 Dec 31 00:33 hand-written-greek-letters.svg\n"
     ]
    }
   ],
   "source": [
    "; ls -l hand-written-greek-letters.svg"
   ]
  },
  {
   "cell_type": "code",
   "execution_count": 6,
   "id": "f121bd8f",
   "metadata": {},
   "outputs": [],
   "source": [
    "; potrace -b pdf hand-written-greek-letters.ppm -o hand-written-greek-letters.pdf"
   ]
  },
  {
   "cell_type": "code",
   "execution_count": 7,
   "id": "a90ba2bb",
   "metadata": {},
   "outputs": [
    {
     "name": "stdout",
     "output_type": "stream",
     "text": [
      "-rw-r--r-- 1 genkuroki genkuroki 4864 Dec 31 00:33 hand-written-greek-letters.pdf\n"
     ]
    }
   ],
   "source": [
    "; ls -l hand-written-greek-letters.pdf"
   ]
  },
  {
   "cell_type": "code",
   "execution_count": null,
   "id": "31c3ad85",
   "metadata": {},
   "outputs": [],
   "source": []
  }
 ],
 "metadata": {
  "@webio": {
   "lastCommId": null,
   "lastKernelId": null
  },
  "jupytext": {
   "formats": "ipynb,jl:hydrogen"
  },
  "kernelspec": {
   "display_name": "Julia 1.11.2",
   "language": "julia",
   "name": "julia-1.11"
  },
  "language_info": {
   "file_extension": ".jl",
   "mimetype": "application/julia",
   "name": "julia",
   "version": "1.11.2"
  },
  "toc": {
   "base_numbering": 1,
   "nav_menu": {},
   "number_sections": false,
   "sideBar": true,
   "skip_h1_title": true,
   "title_cell": "Table of Contents",
   "title_sidebar": "Contents",
   "toc_cell": false,
   "toc_position": {},
   "toc_section_display": true,
   "toc_window_display": false
  }
 },
 "nbformat": 4,
 "nbformat_minor": 5
}
