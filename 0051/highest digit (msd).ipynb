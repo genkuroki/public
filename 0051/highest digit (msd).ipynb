{
 "cells": [
  {
   "cell_type": "code",
   "execution_count": 1,
   "id": "507e3a89-34d5-4614-b96c-c39124dee2e8",
   "metadata": {},
   "outputs": [
    {
     "name": "stdout",
     "output_type": "stream",
     "text": [
      "all(f, 1:10 ^ 8) = true\n",
      "all(g, 1:10 ^ 4) = true\n"
     ]
    },
    {
     "data": {
      "text/plain": [
       "20-element Vector{Tuple{Int64, Int64}}:\n",
       " (95827290, 9)\n",
       " (67260721, 6)\n",
       " (77124773, 7)\n",
       " (72269614, 7)\n",
       " (21576105, 2)\n",
       " (74803893, 7)\n",
       " (24855991, 2)\n",
       " (64782267, 6)\n",
       " (6504932, 6)\n",
       " (49999865, 4)\n",
       " (26824083, 2)\n",
       " (44982775, 4)\n",
       " (21811000, 2)\n",
       " (43809790, 4)\n",
       " (7801121, 7)\n",
       " (56993421, 5)\n",
       " (79873445, 7)\n",
       " (74838792, 7)\n",
       " (98587831, 9)\n",
       " (47378134, 4)"
      ]
     },
     "execution_count": 1,
     "metadata": {},
     "output_type": "execute_result"
    }
   ],
   "source": [
    "highestdigit(x::Integer) = x ÷ oftype(x, 10)^(ndigits(x) - 1)\n",
    "\n",
    "function highestdigit_log10(x; e=eps(float(one(x))))\n",
    "    x == 0 && return 0\n",
    "    r = log10(x) % 1\n",
    "    for k in 1:8\n",
    "        r + e < log10(oftype(x, k+1)) && return k\n",
    "    end\n",
    "    9\n",
    "end\n",
    "\n",
    "f(k) = highestdigit(k) == highestdigit_log10(k)\n",
    "@show all(f, 1:10^8)\n",
    "\n",
    "g(k) = highestdigit(big(2)^k) == highestdigit_log10(big(2)^k)\n",
    "@show all(g, 1:10^4)\n",
    "\n",
    "[(n, highestdigit(n)) for n in (rand(1:10^8) for _ in 1:20)]"
   ]
  },
  {
   "cell_type": "code",
   "execution_count": 2,
   "id": "5704b6ba-a69e-4f5c-97b2-8f1b4fa5f72e",
   "metadata": {},
   "outputs": [
    {
     "name": "stdout",
     "output_type": "stream",
     "text": [
      "x = Int128(2) ^ 102 = 5070602400912917605986812821504\n",
      "highestdigit_naive(x) = 998750849122\n",
      "highestdigit(x) = 5\n"
     ]
    }
   ],
   "source": [
    "highestdigit_naive(x::Integer) = x ÷ 10^(ndigits(x) - 1)\n",
    "\n",
    "@show x = Int128(2)^102\n",
    "@show highestdigit_naive(x)\n",
    "@show highestdigit(x);"
   ]
  },
  {
   "cell_type": "code",
   "execution_count": 3,
   "id": "cb3b7a94-285c-4e03-b9b8-8fa8c8b151df",
   "metadata": {},
   "outputs": [
    {
     "name": "stdout",
     "output_type": "stream",
     "text": [
      "x = 30 = 30\n",
      "highestdigit_log10_naive1(x) = 2\n",
      "highestdigit_log10(x) = 3\n",
      "e = eps(float(one(x))) = 2.220446049250313e-16\n",
      "log10(x) % 1 = 0.4771212547196624\n",
      "log10(x) % 1 + e = 0.4771212547196626\n",
      "log10(oftype(x, 3)) = 0.47712125471966244\n",
      "log10(x) % 1 < log10(oftype(x, 3)) = true\n",
      "log10(x) % 1 + e < log10(oftype(x, 3)) = false\n"
     ]
    }
   ],
   "source": [
    "function highestdigit_log10_naive1(x)\n",
    "    x == 0 && return 0\n",
    "    r = log10(x) % 1\n",
    "    for k in 1:8\n",
    "        r < log10(oftype(x, k+1)) && return k\n",
    "    end\n",
    "    9\n",
    "end\n",
    "\n",
    "@show x = 30\n",
    "@show highestdigit_log10_naive1(x)\n",
    "@show highestdigit_log10(x)\n",
    "@show e = eps(float(one(x)))\n",
    "@show log10(x) % 1\n",
    "@show log10(x) % 1 + e\n",
    "@show log10(oftype(x, 3))\n",
    "@show log10(x) % 1 < log10(oftype(x, 3))\n",
    "@show log10(x) % 1 + e < log10(oftype(x, 3));"
   ]
  },
  {
   "cell_type": "code",
   "execution_count": 4,
   "id": "9d62438d-3617-43fe-9e12-33755f93e170",
   "metadata": {},
   "outputs": [
    {
     "name": "stdout",
     "output_type": "stream",
     "text": [
      "x = big(2) = 2\n",
      "highestdigit_log10_naive2(x) = 1\n",
      "highestdigit_log10(x) = 2\n",
      "e = eps(float(one(x))) = 1.727233711018888925077270372560079914223200072887256277004740694033718360632485e-77\n",
      "log10(x) % 1 + e = 0.3010299956639811952137388947244930267681898814621085413104274611271081892744411\n",
      "log10(1 + 1) = 0.3010299956639812\n",
      "log10(oftype(x, 1 + 1)) = 0.3010299956639811952137388947244930267681898814621085413104274611271081892744238\n",
      "log10(x) % 1 + e < log10(1 + 1) = true\n",
      "log10(x) % 1 + e < log10(oftype(x, 1 + 1)) = false\n"
     ]
    }
   ],
   "source": [
    "function highestdigit_log10_naive2(x; e=eps(float(one(x))))\n",
    "    x == 0 && return 0\n",
    "    r = log10(x) % 1\n",
    "    for k in 1:8\n",
    "        r + e < log10(k+1) && return k\n",
    "    end\n",
    "    9\n",
    "end\n",
    "\n",
    "@show x = big(2)\n",
    "@show highestdigit_log10_naive2(x)\n",
    "@show highestdigit_log10(x)\n",
    "@show e = eps(float(one(x)))\n",
    "@show log10(x) % 1 + e\n",
    "@show log10(1 + 1)\n",
    "@show log10(oftype(x, 1 + 1))\n",
    "@show log10(x) % 1 + e < log10(1 + 1)\n",
    "@show log10(x) % 1 + e < log10(oftype(x, 1 + 1));"
   ]
  },
  {
   "cell_type": "code",
   "execution_count": null,
   "id": "6cebd07c-f0ea-4570-b9a5-843e700b78cc",
   "metadata": {},
   "outputs": [],
   "source": []
  }
 ],
 "metadata": {
  "jupytext": {
   "encoding": "# -*- coding: utf-8 -*-",
   "formats": "ipynb,jl:hydrogen"
  },
  "kernelspec": {
   "display_name": "Julia 1.11.0",
   "language": "julia",
   "name": "julia-1.11"
  },
  "language_info": {
   "file_extension": ".jl",
   "mimetype": "application/julia",
   "name": "julia",
   "version": "1.11.0"
  }
 },
 "nbformat": 4,
 "nbformat_minor": 5
}
