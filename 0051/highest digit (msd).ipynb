{
 "cells": [
  {
   "cell_type": "code",
   "execution_count": 1,
   "id": "507e3a89-34d5-4614-b96c-c39124dee2e8",
   "metadata": {},
   "outputs": [
    {
     "name": "stdout",
     "output_type": "stream",
     "text": [
      "all(f, 1:10 ^ 8) = true\n",
      "all(g, 1:10 ^ 4) = true\n"
     ]
    },
    {
     "data": {
      "text/plain": [
       "20-element Vector{Tuple{Int64, Int64}}:\n",
       " (50197415, 5)\n",
       " (53939800, 5)\n",
       " (58843792, 5)\n",
       " (91916184, 9)\n",
       " (48136585, 4)\n",
       " (45025802, 4)\n",
       " (30211143, 3)\n",
       " (10039989, 1)\n",
       " (42837004, 4)\n",
       " (16772905, 1)\n",
       " (41455564, 4)\n",
       " (46839477, 4)\n",
       " (25209866, 2)\n",
       " (97381828, 9)\n",
       " (34665662, 3)\n",
       " (45317541, 4)\n",
       " (8770281, 8)\n",
       " (64317023, 6)\n",
       " (14447823, 1)\n",
       " (50050759, 5)"
      ]
     },
     "execution_count": 1,
     "metadata": {},
     "output_type": "execute_result"
    }
   ],
   "source": [
    "highestdigit(x::Integer) = x ÷ oftype(x, 10)^(ndigits(x) - 1)\n",
    "\n",
    "function highestdigit_log10(x; e=eps(float(one(x))))\n",
    "    x == 0 && return 0\n",
    "    r = log10(x) % 1\n",
    "    for k in 1:8\n",
    "        r + e < log10(oftype(x, k+1)) && return k\n",
    "    end\n",
    "    9\n",
    "end\n",
    "\n",
    "f(k) = highestdigit(k) == highestdigit_log10(k)\n",
    "g(k) = highestdigit(big(2)^k) == highestdigit_log10(big(2)^k)\n",
    "@show all(f, 1:10^8)\n",
    "@show all(g, 1:10^4)\n",
    "\n",
    "[(n, highestdigit(n)) for n in (rand(1:10^8) for _ in 1:20)]"
   ]
  },
  {
   "cell_type": "code",
   "execution_count": null,
   "id": "9d62438d-3617-43fe-9e12-33755f93e170",
   "metadata": {},
   "outputs": [],
   "source": []
  }
 ],
 "metadata": {
  "jupytext": {
   "formats": "ipynb,jl:hydrogen"
  },
  "kernelspec": {
   "display_name": "Julia 1.11.0",
   "language": "julia",
   "name": "julia-1.11"
  },
  "language_info": {
   "file_extension": ".jl",
   "mimetype": "application/julia",
   "name": "julia",
   "version": "1.11.0"
  }
 },
 "nbformat": 4,
 "nbformat_minor": 5
}
