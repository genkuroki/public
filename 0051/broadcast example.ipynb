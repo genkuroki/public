{
 "cells": [
  {
   "cell_type": "code",
   "execution_count": 1,
   "id": "f133e1f8-7ec0-4006-a063-e6dd17822044",
   "metadata": {},
   "outputs": [
    {
     "name": "stdout",
     "output_type": "stream",
     "text": [
      "soft_threashold_bc(x20, 1.0) == soft_threashold_naive(x20, 1.0) = true\n",
      "soft_threashold_bc(x20, 1.0):      33.502 ns (2 allocations: 224 bytes)\n",
      "soft_threashold_naive(x20, 1.0)   271.885 ns (20 allocations: 896 bytes)\n",
      "\n",
      "soft_threashold_bc(x1000, 1.0) == soft_threashold_naive(x1000, 1.0) = true\n",
      "soft_threashold_bc(x1000, 1.0):       518.966 ns (3 allocations: 7.88 KiB)\n",
      "soft_threashold_naive(x1000, 1.0)   1.370 μs (21 allocations: 15.58 KiB)\n"
     ]
    }
   ],
   "source": [
    "using BenchmarkTools\n",
    "\n",
    "soft_threashold_bc(x, λ) = @. sign(x) * max(0, abs(x) - λ)\n",
    "\n",
    "function soft_threashold_naive(x, λ)\n",
    "    y = zero(x)\n",
    "    ind = findall(>(λ), x)\n",
    "    y[ind] = x[ind] .- λ\n",
    "    ind = findall(<(-λ),  x)\n",
    "    y[ind] = x[ind] .+ λ\n",
    "    y\n",
    "end\n",
    "\n",
    "x20 = randn(20)\n",
    "@show soft_threashold_bc(x20, 1.0) == soft_threashold_naive(x20, 1.0)\n",
    "print(\"soft_threashold_bc(x20, 1.0):    \"); @btime soft_threashold_bc($x20, 1.0)\n",
    "print(\"soft_threashold_naive(x20, 1.0) \"); @btime soft_threashold_naive($x20, 1.0)\n",
    "println()\n",
    "\n",
    "x1000 = randn(1000)\n",
    "@show soft_threashold_bc(x1000, 1.0) == soft_threashold_naive(x1000, 1.0)\n",
    "print(\"soft_threashold_bc(x1000, 1.0):     \"); @btime soft_threashold_bc($x1000, 1.0)\n",
    "print(\"soft_threashold_naive(x1000, 1.0) \"); @btime soft_threashold_naive($x1000, 1.0)\n",
    ";"
   ]
  },
  {
   "cell_type": "code",
   "execution_count": 2,
   "id": "d32af81a-7d2a-4eab-9a3c-da8fec19eb1b",
   "metadata": {},
   "outputs": [
    {
     "name": "stdout",
     "output_type": "stream",
     "text": [
      "soft_threashold_bc(x1000, 1.0) == soft_threashold_bc!(y1000, x1000, 1.0) = true\n",
      "soft_threashold_bc(x1000, 1.0):           554.217 ns (3 allocations: 7.88 KiB)\n",
      "soft_threashold_bc!(y1000, x1000, 1.0):   362.981 ns (0 allocations: 0 bytes)\n"
     ]
    }
   ],
   "source": [
    "soft_threashold_bc!(y, x, λ) = @. y = sign(x) * max(0, abs(x) - λ)\n",
    "\n",
    "y1000 = similar(x1000)\n",
    "@show soft_threashold_bc(x1000, 1.0) == soft_threashold_bc!(y1000, x1000, 1.0)\n",
    "print(\"soft_threashold_bc(x1000, 1.0):         \"); @btime soft_threashold_bc($x1000, 1.0)\n",
    "print(\"soft_threashold_bc!(y1000, x1000, 1.0): \"); @btime soft_threashold_bc!($y1000, $x1000, 1.0);"
   ]
  },
  {
   "cell_type": "code",
   "execution_count": 3,
   "id": "62b5fe48-3adb-48b3-83e2-75d21bb235b7",
   "metadata": {},
   "outputs": [
    {
     "name": "stdout",
     "output_type": "stream",
     "text": [
      "soft_threashold_bc!(y1000, x1000, 1.0) == soft_threashold_bc2!(z1000, x1000, 1.0) = true\n",
      "soft_threashold_bc(x1000, 1.0):            547.273 ns (3 allocations: 7.88 KiB)\n",
      "soft_threashold_bc!(y1000, x1000, 1.0):    367.943 ns (0 allocations: 0 bytes)\n",
      "soft_threashold_bc2!(z1000, x1000, 1.0):   293.385 ns (0 allocations: 0 bytes)\n"
     ]
    }
   ],
   "source": [
    "soft_threashold_bc2!(y, x, λ) = @. y = (x > λ) * (x - λ) + (x < -λ) * (x + λ)\n",
    "\n",
    "y1000 = similar(x1000)\n",
    "z1000 = similar(x1000)\n",
    "@show soft_threashold_bc!(y1000, x1000, 1.0) == soft_threashold_bc2!(z1000, x1000, 1.0)\n",
    "print(\"soft_threashold_bc(x1000, 1.0):          \"); @btime soft_threashold_bc($x1000, 1.0)\n",
    "print(\"soft_threashold_bc!(y1000, x1000, 1.0):  \"); @btime soft_threashold_bc!($y1000, $x1000, 1.0)\n",
    "print(\"soft_threashold_bc2!(z1000, x1000, 1.0): \"); @btime soft_threashold_bc2!($z1000, $x1000, 1.0);"
   ]
  },
  {
   "cell_type": "code",
   "execution_count": 4,
   "id": "f2681411-265f-4a1d-9ccf-eac378ba8213",
   "metadata": {},
   "outputs": [
    {
     "name": "stdout",
     "output_type": "stream",
     "text": [
      "findall((>)(1.0), x1000) |> typeof = Vector{Int64}\n",
      "(x1000 .> 1.0) |> typeof = BitVector\n",
      "\n",
      "soft_threashold_naive(x1000, 1.0) == soft_threashold_naive2(x1000, 1.0) = true\n",
      "soft_threashold_naive(x1000, 1.0):    1.400 μs (21 allocations: 15.58 KiB)\n",
      "soft_threashold_naive2(x1000, 1.0):   1.120 μs (17 allocations: 13.16 KiB)\n"
     ]
    }
   ],
   "source": [
    "@show findall(>(1.0), x1000) |> typeof\n",
    "@show (x1000 .> 1.0) |> typeof\n",
    "println()\n",
    "\n",
    "function soft_threashold_naive2(x, λ)\n",
    "    y = zero(x)\n",
    "    ind = x .> λ\n",
    "    y[ind] = x[ind] .- λ\n",
    "    ind = x .< -λ\n",
    "    y[ind] = x[ind] .+ λ\n",
    "    y\n",
    "end\n",
    "\n",
    "@show soft_threashold_naive(x1000, 1.0) == soft_threashold_naive2(x1000, 1.0)\n",
    "print(\"soft_threashold_naive(x1000, 1.0):  \"); @btime soft_threashold_naive($x1000, 1.0)\n",
    "print(\"soft_threashold_naive2(x1000, 1.0): \"); @btime soft_threashold_naive2($x1000, 1.0)\n",
    ";"
   ]
  },
  {
   "cell_type": "code",
   "execution_count": 5,
   "id": "91655215-7e4c-4ae7-aa25-f99f2a7bd321",
   "metadata": {},
   "outputs": [
    {
     "name": "stdout",
     "output_type": "stream",
     "text": [
      "Julia Version 1.11.0\n",
      "Commit 501a4f25c2 (2024-10-07 11:40 UTC)\n",
      "Build Info:\n",
      "  Official https://julialang.org/ release\n",
      "Platform Info:\n",
      "  OS: Windows (x86_64-w64-mingw32)\n",
      "  CPU: 12 × Intel(R) Core(TM) i7-10750H CPU @ 2.60GHz\n",
      "  WORD_SIZE: 64\n",
      "  LLVM: libLLVM-16.0.6 (ORCJIT, skylake)\n",
      "Threads: 12 default, 0 interactive, 6 GC (on 12 virtual cores)\n",
      "Environment:\n",
      "  JULIA_DEPOT_PATH = D:\\.julia\n",
      "  JULIA_NUM_PRECOMPILE_TASKS = 4\n",
      "  JULIA_NUM_THREADS = 12\n",
      "  JULIA_PYTHONCALL_EXE = D:\\.julia\\conda\\3\\python.exe\n"
     ]
    }
   ],
   "source": [
    "versioninfo()"
   ]
  },
  {
   "cell_type": "code",
   "execution_count": null,
   "id": "71e6736d-a886-42ef-ab31-630b292dd46f",
   "metadata": {},
   "outputs": [],
   "source": []
  }
 ],
 "metadata": {
  "jupytext": {
   "formats": "ipynb,jl:hydrogen"
  },
  "kernelspec": {
   "display_name": "Julia 1.11.0",
   "language": "julia",
   "name": "julia-1.11"
  },
  "language_info": {
   "file_extension": ".jl",
   "mimetype": "application/julia",
   "name": "julia",
   "version": "1.11.0"
  }
 },
 "nbformat": 4,
 "nbformat_minor": 5
}
