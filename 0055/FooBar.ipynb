{
 "cells": [
  {
   "cell_type": "code",
   "execution_count": 1,
   "id": "db2662f1-8d74-4ca7-a381-76148d655ebd",
   "metadata": {},
   "outputs": [
    {
     "data": {
      "text/plain": [
       "Main.O"
      ]
     },
     "execution_count": 1,
     "metadata": {},
     "output_type": "execute_result"
    }
   ],
   "source": [
    "module O\n",
    "\n",
    "abstract type AbstractFoo end\n",
    "plusone_a(foo::AbstractFoo) = foo.a += 1\n",
    "double_b(foo::AbstractFoo) = foo.b *= 2\n",
    "\n",
    "mutable struct Foo{T,U} <: AbstractFoo\n",
    "    a::T\n",
    "    b::U\n",
    "end\n",
    "\n",
    "abstract type AbstractBar <: AbstractFoo end\n",
    "square_c(bar::AbstractBar) = bar.c ^= 2\n",
    "\n",
    "mutable struct Bar{T,U,V} <: AbstractBar\n",
    "    a::T\n",
    "    b::U\n",
    "    c::V\n",
    "end\n",
    "\n",
    "function Base.getproperty(foo::AbstractFoo, f::Symbol)\n",
    "    f in fieldnames(typeof(foo)) && return getfield(foo, f)\n",
    "    f_foo = Symbol(f, \"_\", string(foo))\n",
    "    @eval function $f_foo(x...; y...) $f($foo, x...; y...) end\n",
    "end\n",
    "\n",
    "Base.propertynames(foo::T) where T<: AbstractFoo = [\n",
    "    fieldnames(T)...;\n",
    "    (m -> m.name).(methodswith(T; supertypes=true))\n",
    "] |> unique\n",
    "\n",
    "end"
   ]
  },
  {
   "cell_type": "code",
   "execution_count": 2,
   "id": "4fc4bf43-e113-4316-8c3f-1d9e50345dad",
   "metadata": {},
   "outputs": [
    {
     "name": "stdout",
     "output_type": "stream",
     "text": [
      "foo = O.Foo(1, 2.0) = Main.O.Foo{Int64, Float64}(1, 2.0)\n",
      "O.plusone_a(foo) = 2\n",
      "foo = Main.O.Foo{Int64, Float64}(2, 2.0)\n",
      "O.double_b(foo) = 4.0\n",
      "foo = Main.O.Foo{Int64, Float64}(2, 4.0)\n",
      "bar = O.Bar(1, 2.0, \"three\") = Main.O.Bar{Int64, Float64, String}(1, 2.0, \"three\")\n",
      "O.plusone_a(bar) = 2\n",
      "bar = Main.O.Bar{Int64, Float64, String}(2, 2.0, \"three\")\n",
      "O.double_b(bar) = 4.0\n",
      "bar = Main.O.Bar{Int64, Float64, String}(2, 4.0, \"three\")\n",
      "O.square_c(bar) = \"threethree\"\n",
      "bar = Main.O.Bar{Int64, Float64, String}(2, 4.0, \"threethree\")\n"
     ]
    }
   ],
   "source": [
    "@show foo = O.Foo(1, 2.0)\n",
    "\n",
    "@show O.plusone_a(foo)\n",
    "@show foo\n",
    "\n",
    "@show O.double_b(foo)\n",
    "@show foo\n",
    "\n",
    "@show bar = O.Bar(1, 2.0, \"three\")\n",
    "\n",
    "@show O.plusone_a(bar)\n",
    "@show bar\n",
    "\n",
    "@show O.double_b(bar)\n",
    "@show bar\n",
    "\n",
    "@show O.square_c(bar)\n",
    "@show bar\n",
    ";"
   ]
  },
  {
   "cell_type": "code",
   "execution_count": 3,
   "id": "5c4fdcc3-aa05-4212-8f20-54c2f5de0e0f",
   "metadata": {},
   "outputs": [
    {
     "name": "stdout",
     "output_type": "stream",
     "text": [
      "foo = O.Foo(1, 2.0) = Main.O.Foo{Int64, Float64}(1, 2.0)\n",
      "foo.plusone_a() = 2\n",
      "foo = Main.O.Foo{Int64, Float64}(2, 2.0)\n",
      "foo.double_b() = 4.0\n",
      "foo = Main.O.Foo{Int64, Float64}(2, 4.0)\n",
      "bar = O.Bar(1, 2.0, \"three\") = Main.O.Bar{Int64, Float64, String}(1, 2.0, \"three\")\n",
      "bar.plusone_a() = 2\n",
      "bar = Main.O.Bar{Int64, Float64, String}(2, 2.0, \"three\")\n",
      "bar.double_b() = 4.0\n",
      "bar = Main.O.Bar{Int64, Float64, String}(2, 4.0, \"three\")\n",
      "bar.square_c() = \"threethree\"\n",
      "bar = Main.O.Bar{Int64, Float64, String}(2, 4.0, \"threethree\")\n"
     ]
    }
   ],
   "source": [
    "@show foo = O.Foo(1, 2.0)\n",
    "\n",
    "@show foo.plusone_a()\n",
    "@show foo\n",
    "\n",
    "@show foo.double_b()\n",
    "@show foo\n",
    "\n",
    "@show bar = O.Bar(1, 2.0, \"three\")\n",
    "\n",
    "@show bar.plusone_a()\n",
    "@show bar\n",
    "\n",
    "@show bar.double_b()\n",
    "@show bar\n",
    "\n",
    "@show bar.square_c()\n",
    "@show bar\n",
    ";"
   ]
  },
  {
   "cell_type": "code",
   "execution_count": null,
   "id": "50e58e48-d6b7-4976-b0f1-adc9fb56ccc3",
   "metadata": {},
   "outputs": [],
   "source": []
  }
 ],
 "metadata": {
  "jupytext": {
   "formats": "ipynb,jl:hydrogen"
  },
  "kernelspec": {
   "display_name": "Julia",
   "language": "julia",
   "name": "julia"
  },
  "language_info": {
   "file_extension": ".jl",
   "mimetype": "application/julia",
   "name": "julia",
   "version": "1.11.7"
  }
 },
 "nbformat": 4,
 "nbformat_minor": 5
}
