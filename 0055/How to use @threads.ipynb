{
 "cells": [
  {
   "cell_type": "code",
   "execution_count": 1,
   "id": "2e99a816-ff66-4281-9223-7208959e19b5",
   "metadata": {},
   "outputs": [
    {
     "name": "stdout",
     "output_type": "stream",
     "text": [
      "VERSION = v\"1.10.10\"\n",
      "M = [(1, 57), (1, 54), (1, 52), (1, 62), (1, 58), (1, 43), (1, 64), (1, 59), (1, 63), (1, 53), (1, 40), (1, 32), (1, 41), (1, 37), (1, 41), (1, 49), (1, 50), (1, 34), (1, 38), (1, 58), (1, 55), (1, 42), (1, 37), (1, 66), (1, 38), (1, 49), (1, 33), (1, 51), (1, 48), (1, 47)]\n",
      "M = [(6, 39), (6, 63), (6, 52), (11, 35), (11, 57), (11, 58), (7, 38), (7, 44), (7, 55), (3, 44), (3, 55), (3, 70), (12, 45), (12, 58), (12, 39), (9, 47), (9, 57), (9, 42), (8, 54), (8, 49), (10, 57), (10, 52), (5, 57), (5, 43), (4, 34), (4, 57), (2, 58), (2, 35), (1, 31), (1, 38)]\n"
     ]
    }
   ],
   "source": [
    "@show VERSION\n",
    "\n",
    "using Random, Statistics\n",
    "mynthreads() = Threads.nthreads() + Threads.nthreads(:interactive)\n",
    "\n",
    "n, L = 10, 30\n",
    "nth = mynthreads()\n",
    "Xtmp = [rand(n) for _ in 1:nth]\n",
    "M = Vector{Tuple{Int64, Int64}}(undef, L)\n",
    "\n",
    "for i in 1:L\n",
    "#Threads.@threads for i in 1:L\n",
    "    tid = Threads.threadid()\n",
    "    X = rand!(Xtmp[tid])\n",
    "    M[i] = (tid, round(Int, 100mean(X)))\n",
    "end\n",
    "@show M;\n",
    "\n",
    "#for i in 1:L\n",
    "Threads.@threads for i in 1:L\n",
    "    tid = Threads.threadid()\n",
    "    X = rand!(Xtmp[tid])\n",
    "    M[i] = (tid, round(Int, 100mean(X)))\n",
    "end\n",
    "@show M;"
   ]
  },
  {
   "cell_type": "code",
   "execution_count": 1,
   "id": "92c25ecf-e714-4209-8fb5-82809a09d3f5",
   "metadata": {},
   "outputs": [
    {
     "name": "stdout",
     "output_type": "stream",
     "text": [
      "VERSION = v\"1.12.0\"\n",
      "M = [(1, 53), (1, 55), (1, 50), (1, 45), (1, 41), (1, 48), (1, 48), (1, 43), (1, 41), (1, 52), (1, 51), (1, 50), (1, 51), (1, 54), (1, 54), (1, 59), (1, 39), (1, 45), (1, 42), (1, 57), (1, 46), (1, 44), (1, 52), (1, 39), (1, 51), (1, 54), (1, 39), (1, 50), (1, 52), (1, 47)]\n",
      "M = [(7, 48), (7, 50), (7, 50), (4, 55), (4, 49), (4, 43), (8, 67), (8, 44), (8, 55), (10, 47), (10, 46), (10, 58), (6, 45), (6, 40), (6, 53), (5, 49), (5, 61), (5, 42), (13, 66), (13, 43), (3, 52), (3, 66), (12, 47), (12, 62), (9, 58), (9, 81), (2, 49), (2, 58), (11, 54), (11, 56)]\n"
     ]
    }
   ],
   "source": [
    "@show VERSION\n",
    "\n",
    "using Random, Statistics\n",
    "mynthreads() = Threads.nthreads() + Threads.nthreads(:interactive)\n",
    "\n",
    "n, L = 10, 30\n",
    "nth = mynthreads()\n",
    "Xtmp = [rand(n) for _ in 1:nth]\n",
    "M = Vector{Tuple{Int64, Int64}}(undef, L)\n",
    "\n",
    "for i in 1:L\n",
    "#Threads.@threads for i in 1:L\n",
    "    tid = Threads.threadid()\n",
    "    X = rand!(Xtmp[tid])\n",
    "    M[i] = (tid, round(Int, 100mean(X)))\n",
    "end\n",
    "@show M;\n",
    "\n",
    "#for i in 1:L\n",
    "Threads.@threads for i in 1:L\n",
    "    tid = Threads.threadid()\n",
    "    X = rand!(Xtmp[tid])\n",
    "    M[i] = (tid, round(Int, 100mean(X)))\n",
    "end\n",
    "@show M;"
   ]
  },
  {
   "cell_type": "code",
   "execution_count": null,
   "id": "2521d7dc-220a-43c1-ad5e-6ae98c8d48c5",
   "metadata": {},
   "outputs": [],
   "source": []
  }
 ],
 "metadata": {
  "jupytext": {
   "formats": "ipynb,jl:hydrogen"
  },
  "kernelspec": {
   "display_name": "Julia",
   "language": "julia",
   "name": "julia"
  },
  "language_info": {
   "file_extension": ".jl",
   "mimetype": "application/julia",
   "name": "julia",
   "version": "1.12.0"
  }
 },
 "nbformat": 4,
 "nbformat_minor": 5
}
