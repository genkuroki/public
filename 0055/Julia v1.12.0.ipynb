{
 "cells": [
  {
   "cell_type": "code",
   "execution_count": 1,
   "id": "0e06092a-7571-4c6e-acff-97fdcf9a7fcc",
   "metadata": {},
   "outputs": [
    {
     "data": {
      "text/plain": [
       "v\"1.12.0\""
      ]
     },
     "execution_count": 1,
     "metadata": {},
     "output_type": "execute_result"
    }
   ],
   "source": [
    "VERSION"
   ]
  },
  {
   "cell_type": "markdown",
   "id": "d0123eec-0083-4314-bd84-d83a79a66e24",
   "metadata": {},
   "source": [
    "## Redefinition of constants (structs)\n",
    "\n",
    "https://julialang.org/blog/2025/10/julia-1.12-highlights/#redefinition_of_constants_structs\n",
    "\n",
    "Bindings now participate in the \"world age\" mechanism previously used for methods. This has the effect that constants and structs can be properly redefined. As an example:"
   ]
  },
  {
   "cell_type": "code",
   "execution_count": 2,
   "id": "130220f8-c82e-4601-a980-5712d1e5be0c",
   "metadata": {},
   "outputs": [
    {
     "name": "stdout",
     "output_type": "stream",
     "text": [
      "foo = Foo(3) = Foo{Int64}(3)\n"
     ]
    },
    {
     "data": {
      "text/plain": [
       "12"
      ]
     },
     "execution_count": 2,
     "metadata": {},
     "output_type": "execute_result"
    }
   ],
   "source": [
    "struct Foo{T} a::T end\n",
    "f(foo::Foo, x) = ((; a) = foo; a*x)\n",
    "@show foo = Foo(3)\n",
    "f(foo, 4)"
   ]
  },
  {
   "cell_type": "code",
   "execution_count": 3,
   "id": "bb29df45-662a-4727-9377-e21f9122ff03",
   "metadata": {},
   "outputs": [
    {
     "name": "stdout",
     "output_type": "stream",
     "text": [
      "foo = Foo(3, 4) = Foo{Int64}(3, 4)\n"
     ]
    },
    {
     "ename": "LoadError",
     "evalue": "MethodError: no method matching f(::Foo{Int64}, ::Int64)\nThe function `f` exists, but no method is defined for this combination of argument types.\n\n\u001b[0mClosest candidates are:\n\u001b[0m  f(\u001b[91m::@world(Foo, 38668:38673)\u001b[39m, ::Any)\n\u001b[0m\u001b[90m   @\u001b[39m \u001b[35mMain\u001b[39m \u001b[90m\u001b[4mIn[2]:2\u001b[24m\u001b[39m\n",
     "output_type": "error",
     "traceback": [
      "MethodError: no method matching f(::Foo{Int64}, ::Int64)\nThe function `f` exists, but no method is defined for this combination of argument types.\n\n\u001b[0mClosest candidates are:\n\u001b[0m  f(\u001b[91m::@world(Foo, 38668:38673)\u001b[39m, ::Any)\n\u001b[0m\u001b[90m   @\u001b[39m \u001b[35mMain\u001b[39m \u001b[90m\u001b[4mIn[2]:2\u001b[24m\u001b[39m\n",
      "",
      "Stacktrace:",
      " [1] top-level scope",
      "\u001b[90m   @\u001b[39m \u001b[90m\u001b[4mIn[3]:3\u001b[24m\u001b[39m",
      " [2] \u001b[0m\u001b[1meval\u001b[22m\u001b[0m\u001b[1m(\u001b[22m\u001b[90mm\u001b[39m::\u001b[0mModule, \u001b[90me\u001b[39m::\u001b[0mAny\u001b[0m\u001b[1m)\u001b[22m",
      "\u001b[90m   @\u001b[39m \u001b[90mCore\u001b[39m \u001b[90m.\\\u001b[39m\u001b[90m\u001b[4mboot.jl:489\u001b[24m\u001b[39m"
     ]
    }
   ],
   "source": [
    "struct Foo{T} a::T; b::T end\n",
    "@show foo = Foo(3, 4)\n",
    "f(foo, 4)"
   ]
  },
  {
   "cell_type": "code",
   "execution_count": 4,
   "id": "50dc3e7e-7a5e-47a9-9000-83d8be03fef6",
   "metadata": {},
   "outputs": [
    {
     "data": {
      "text/plain": [
       "16"
      ]
     },
     "execution_count": 4,
     "metadata": {},
     "output_type": "execute_result"
    }
   ],
   "source": [
    "f(foo::Foo, x) = ((; a, b) = foo; a*x + b)\n",
    "f(foo, 4)"
   ]
  },
  {
   "cell_type": "markdown",
   "id": "4a67ff12-99a9-41d6-8a97-eeea71c12ac0",
   "metadata": {},
   "source": [
    "## Score test of risk ratio for 2x2 tables"
   ]
  },
  {
   "cell_type": "code",
   "execution_count": 5,
   "id": "4ba014a7-e27d-4fb9-b7b8-782de1950ad1",
   "metadata": {},
   "outputs": [
    {
     "name": "stdout",
     "output_type": "stream",
     "text": [
      "[a b; c d] = [35 15; 25 25]\n",
      "ρ = 1\n",
      "α = 0.05\n",
      "pvalue_rr_score(a, b, c, d; ρ = 1) = 0.041226833337163676\n",
      "_riskratiohat(a, b, c, d) = 1.4\n",
      "confint_rr_score(a, b, c, d) = (1.013489079101118, 1.9850551032224117)\n"
     ]
    }
   ],
   "source": [
    "using Distributions\n",
    "using StatsFuns\n",
    "using Roots\n",
    "\n",
    "safemul(x, y) = x == 0 ? zero(x*y) : x*y\n",
    "safediv(x, y) = x == 0 ? zero(x/y) : x/y\n",
    "\n",
    "_riskratiohat(a, b, c, d) = safediv(a*(c+d), (a+b)*c)\n",
    "\n",
    "function Delta(a, b, c, d; ρ=1.0)\n",
    "    m, n = a+b, c+d\n",
    "    A, B, C = ρ-1, n-a+ρ*(m-c), a*n-ρ*m*c\n",
    "    Δ = isinf(ρ) ? oftype(ρ, -c) : ρ==0 ? oftype(ρ, a) : safediv(2C, B + √(B^2 - 4A*C))\n",
    "end\n",
    "\n",
    "function _chisqstat_rr(a, b, c, d, Δ)\n",
    "    m, n = a+b, c+d\n",
    "    safemul(Δ^2, safediv(b, m*(a-Δ)) + safediv(d, n*(c+Δ)))\n",
    "end\n",
    "\n",
    "function chisqstat_rr(a, b, c, d; ρ=1.0)\n",
    "    Δ = Delta(a, b, c, d; ρ)\n",
    "    _chisqstat_rr(a, b, c, d, Δ)\n",
    "end\n",
    "\n",
    "function pvalue_rr_score(a, b, c, d; ρ=1.0)\n",
    "    χ² = chisqstat_rr(a, b, c, d; ρ)\n",
    "    ccdf(Chisq(1), χ²)\n",
    "end\n",
    "\n",
    "function confint_rr_score(a, b, c, d; α=0.05)\n",
    "    (a+b==0 || c+d==0 || a+c==0 || b+d==0) && return [0.0, Inf]\n",
    "    f(logρ) = logit(pvalue_rr_score(a, b, c, d; ρ=exp(logρ))) - logit(α)\n",
    "    L = if f(-Inf) > 0\n",
    "        -Inf\n",
    "    else\n",
    "        logRRhat = log(_riskratiohat(a, b, c, d))\n",
    "        x0 = logRRhat == -Inf ? -10.0 : logRRhat == Inf ? 10.0 : logRRhat - 1\n",
    "        find_zero(f, x0)\n",
    "    end\n",
    "    U = if f(Inf) > 0\n",
    "        Inf\n",
    "    else\n",
    "        logRRhat = log(_riskratiohat(a, b, c, d))\n",
    "        x0 = logRRhat == -Inf ? -10.0 : logRRhat == Inf ? 10.0 : logRRhat + 1\n",
    "        find_zero(f, x0)\n",
    "    end\n",
    "    exp(L), exp(U)\n",
    "end\n",
    "\n",
    "a, b, c, d = 35, 15, 25, 25\n",
    "ρ = 1\n",
    "α = 0.05\n",
    "@show [a b; c d]\n",
    "@show ρ\n",
    "@show α\n",
    "@show pvalue_rr_score(a, b, c, d; ρ=1)\n",
    "@show _riskratiohat(a, b, c, d)\n",
    "@show confint_rr_score(a, b, c, d);"
   ]
  },
  {
   "cell_type": "code",
   "execution_count": 6,
   "id": "b8cb4a0a-e1d3-4607-a444-cdf324d145b6",
   "metadata": {},
   "outputs": [
    {
     "data": {
      "text/plain": [
       "ScoreTest2x2RR{Int64, Float64}(35, 15, 30, 30, 1.0, 0.05, 0.033641721711823565, 1.4, (1.0268842266244511, 1.9336861464533983))"
      ]
     },
     "execution_count": 6,
     "metadata": {},
     "output_type": "execute_result"
    }
   ],
   "source": [
    "struct ScoreTest2x2RR{I, R}\n",
    "    a::I\n",
    "    b::I\n",
    "    c::I\n",
    "    d::I\n",
    "    ρ::R\n",
    "    α::R\n",
    "    pvalue::R\n",
    "    RRhat::R\n",
    "    CI::Tuple{R, R}\n",
    "end\n",
    "\n",
    "ScoreTest2x2RR(a, b, c, d; ρ=1.0, α=0.05) =\n",
    "    ScoreTest2x2RR(a, b, c, d, float(ρ), float(α),\n",
    "        pvalue_rr_score(a, b, c, d; ρ=float(ρ)),\n",
    "        _riskratiohat(a, b, c, d),\n",
    "        confint_rr_score(a, b, c, d; α=float(α))\n",
    "    )\n",
    "\n",
    "a, b, c, d = 35, 15, 30, 30\n",
    "ρ = 1\n",
    "α = 0.05\n",
    "result = ScoreTest2x2RR(a, b, c, d; ρ, α)"
   ]
  },
  {
   "cell_type": "code",
   "execution_count": 7,
   "id": "d98f46aa-28eb-4955-aa33-78210dd8e513",
   "metadata": {},
   "outputs": [
    {
     "name": "stdout",
     "output_type": "stream",
     "text": [
      "result.a = 35\n",
      "result.b = 15\n",
      "result.c = 30\n",
      "result.d = 30\n",
      "result.ρ = 1.0\n",
      "result.α = 0.05\n",
      "result.pvalue = 0.033641721711823565\n",
      "result.RRhat = 1.4\n",
      "result.CI = (1.0268842266244511, 1.9336861464533983)\n"
     ]
    }
   ],
   "source": [
    "@show result.a\n",
    "@show result.b\n",
    "@show result.c\n",
    "@show result.d\n",
    "@show result.ρ\n",
    "@show result.α\n",
    "@show result.pvalue\n",
    "@show result.RRhat\n",
    "@show result.CI; "
   ]
  },
  {
   "cell_type": "code",
   "execution_count": 8,
   "id": "d1b49a2b-a8ab-4f04-9c63-e09ea435eba3",
   "metadata": {},
   "outputs": [
    {
     "data": {
      "text/plain": [
       "Pearson's chi-squared test for risk ratio\n",
       "  data: [35 15; 30 30]\n",
       "  testing risk ratio: 1.0\n",
       "  P-value: 3.36 %\n",
       "  point estimate of risk ratio: 1.4\n",
       "  95.0 % confidence interval of risk ratio: [1.03, 1.93]\n"
      ]
     },
     "execution_count": 8,
     "metadata": {},
     "output_type": "execute_result"
    }
   ],
   "source": [
    "function Base.show(io::IO, ::MIME\"text/plain\", x::ScoreTest2x2RR)\n",
    "    r(x) = round(x; sigdigits=3)\n",
    "    (; a, b, c, d, ρ, α, pvalue, RRhat, CI) = x\n",
    "    print(io, \"Pearson's chi-squared test for risk ratio\\n\")\n",
    "    print(io, \"  data: \", [a b; c d], \"\\n\")\n",
    "    print(io, \"  testing risk ratio: \", ρ, \"\\n\")\n",
    "    print(io, \"  P-value: \", r(100pvalue), \" %\\n\")\n",
    "    print(io, \"  point estimate of risk ratio: \", r(RRhat), \"\\n\")\n",
    "    print(io, \"  $(100(1 - α)) % confidence interval of risk ratio: [\", r(CI[1]), \", \", r(CI[2]), \"]\\n\")\n",
    "end\n",
    "\n",
    "a, b, c, d = 35, 15, 30, 30\n",
    "ρ = 1\n",
    "α = 0.05\n",
    "ScoreTest2x2RR(a, b, c, d; ρ, α)"
   ]
  },
  {
   "cell_type": "code",
   "execution_count": 9,
   "id": "db52420e-7542-4cab-8142-d7ac4d6f35cc",
   "metadata": {},
   "outputs": [
    {
     "name": "stdout",
     "output_type": "stream",
     "text": [
      "ScoreTest2x2RR(a=35, b=15, c=30, d=30, ρ=1.0, α=0.05, pvalue=0.0336, RRhat=1.4, CI=(1.03, 1.93))"
     ]
    }
   ],
   "source": [
    "function Base.show(io::IO, x::ScoreTest2x2RR)\n",
    "    r(x) = round(x; sigdigits=3)\n",
    "    (; a, b, c, d, ρ, α, pvalue, RRhat, CI) = x\n",
    "    print(io,\n",
    "        \"ScoreTest2x2RR(\",\n",
    "        \"a=\", a, \", \",\n",
    "        \"b=\", b, \", \",\n",
    "        \"c=\", c, \", \",\n",
    "        \"d=\", d, \", \",\n",
    "        \"ρ=\", r(ρ), \", \",\n",
    "        \"α=\", r(α), \", \",\n",
    "        \"pvalue=\", r(pvalue), \", \",\n",
    "        \"RRhat=\", r(RRhat), \", \",\n",
    "        \"CI=\", r.(CI), \")\")\n",
    "end\n",
    "\n",
    "a, b, c, d = 35, 15, 30, 30\n",
    "ρ = 1\n",
    "α = 0.05\n",
    "show(ScoreTest2x2RR(a, b, c, d; ρ, α));"
   ]
  },
  {
   "cell_type": "code",
   "execution_count": null,
   "id": "5c31a353-7ef6-4356-89cf-6b6295fe2f5f",
   "metadata": {},
   "outputs": [],
   "source": []
  }
 ],
 "metadata": {
  "jupytext": {
   "formats": "ipynb,jl:hydrogen"
  },
  "kernelspec": {
   "display_name": "Julia",
   "language": "julia",
   "name": "julia"
  },
  "language_info": {
   "file_extension": ".jl",
   "mimetype": "application/julia",
   "name": "julia",
   "version": "1.12.0"
  }
 },
 "nbformat": 4,
 "nbformat_minor": 5
}
