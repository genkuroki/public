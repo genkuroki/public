{
 "cells": [
  {
   "cell_type": "code",
   "execution_count": 1,
   "id": "fe7f3bdd-4277-4580-938b-c527d85a3799",
   "metadata": {},
   "outputs": [
    {
     "data": {
      "text/plain": [
       "v\"1.7.0-beta2\""
      ]
     },
     "execution_count": 1,
     "metadata": {},
     "output_type": "execute_result"
    }
   ],
   "source": [
    "VERSION"
   ]
  },
  {
   "cell_type": "code",
   "execution_count": 2,
   "id": "cbfd2a11-76e0-4765-b2f2-0bf158f59011",
   "metadata": {},
   "outputs": [
    {
     "name": "stdout",
     "output_type": "stream",
     "text": [
      "a = 1\n",
      "b = 2\n",
      "c = 3\n"
     ]
    }
   ],
   "source": [
    "f((a, b, c)) = @show a b c\n",
    "f(1:10);"
   ]
  },
  {
   "cell_type": "code",
   "execution_count": 3,
   "id": "4d221a04-71ae-403d-ab38-cd787c33470e",
   "metadata": {},
   "outputs": [
    {
     "name": "stdout",
     "output_type": "stream",
     "text": [
      "a = 1\n",
      "b = 2\n",
      "d = 4\n"
     ]
    }
   ],
   "source": [
    "g((; b, d, a)) = @show a b d\n",
    "g((a = 1, b = 2, c = 3, d = 4, e = 5));"
   ]
  },
  {
   "cell_type": "code",
   "execution_count": 4,
   "id": "18f30169-e0c9-4373-a2ab-f126f58093cd",
   "metadata": {},
   "outputs": [
    {
     "name": "stdout",
     "output_type": "stream",
     "text": [
      "a = 1\n",
      "b = 2\n",
      "c = 3\n",
      "d = 5\n"
     ]
    }
   ],
   "source": [
    "h((a, ((b, c), d))) = @show a b c d\n",
    "h((1, ((2, 3, 4), 5, 6), 7, 8));"
   ]
  },
  {
   "cell_type": "code",
   "execution_count": 5,
   "id": "45f3af01-200c-4c92-a0f3-d7358b3fe7e9",
   "metadata": {},
   "outputs": [
    {
     "name": "stdout",
     "output_type": "stream",
     "text": [
      "a = 1\n",
      "b = 2\n",
      "c = 3\n",
      "d = 4\n",
      "e = 5\n",
      "f = 6\n"
     ]
    }
   ],
   "source": [
    "k(((; b, a), ((c, d), (; f, e)))) = @show a b c d e f\n",
    "k(((a=1, b=2, g=7), ((3, 4, 8), (e=5, f=6, h=9), 10)));"
   ]
  },
  {
   "cell_type": "code",
   "execution_count": 14,
   "id": "5ea2f743-bfef-46c7-b5b0-97a35ff54f9b",
   "metadata": {},
   "outputs": [
    {
     "data": {
      "text/plain": [
       "-13"
      ]
     },
     "execution_count": 14,
     "metadata": {},
     "output_type": "execute_result"
    }
   ],
   "source": [
    "(((x, y),) -> y - x^2)((5, 12))"
   ]
  },
  {
   "cell_type": "code",
   "execution_count": 15,
   "id": "9043db8d-da93-437b-a846-a10551ab82e3",
   "metadata": {},
   "outputs": [
    {
     "data": {
      "text/plain": [
       ":((x, y)->begin\n",
       "          y - x ^ 2\n",
       "      end)"
      ]
     },
     "execution_count": 15,
     "metadata": {},
     "output_type": "execute_result"
    }
   ],
   "source": [
    ":((x, y) -> y - x^2) |> Base.remove_linenums!"
   ]
  },
  {
   "cell_type": "code",
   "execution_count": 16,
   "id": "6ab67f29-20c5-4cc2-8d18-591d1fcafc3f",
   "metadata": {},
   "outputs": [
    {
     "data": {
      "text/plain": [
       ":((x, y)->begin\n",
       "          y - x ^ 2\n",
       "      end)"
      ]
     },
     "execution_count": 16,
     "metadata": {},
     "output_type": "execute_result"
    }
   ],
   "source": [
    ":(((x, y)) -> y - x^2) |> Base.remove_linenums!"
   ]
  },
  {
   "cell_type": "code",
   "execution_count": 17,
   "id": "ab8c669d-20ea-4d01-8eae-9b371bda87c5",
   "metadata": {},
   "outputs": [
    {
     "data": {
      "text/plain": [
       ":(((x, y),)->begin\n",
       "          y ^ 2 - x\n",
       "      end)"
      ]
     },
     "execution_count": 17,
     "metadata": {},
     "output_type": "execute_result"
    }
   ],
   "source": [
    ":(((x, y),) -> y^2 - x) |> Base.remove_linenums!"
   ]
  },
  {
   "cell_type": "code",
   "execution_count": 19,
   "id": "f7f444e9-5c8b-419b-8a2a-887ea32e3f92",
   "metadata": {},
   "outputs": [],
   "source": [
    "using OffsetArrays"
   ]
  },
  {
   "cell_type": "code",
   "execution_count": 20,
   "id": "85f8bce0-9f35-4d1b-96bd-a046590f78cd",
   "metadata": {},
   "outputs": [
    {
     "data": {
      "text/plain": [
       "-3:3 with indices -3:3"
      ]
     },
     "execution_count": 20,
     "metadata": {},
     "output_type": "execute_result"
    }
   ],
   "source": [
    "v = OffsetArray(-3:3, -3:3)"
   ]
  },
  {
   "cell_type": "code",
   "execution_count": 21,
   "id": "26b725c1-1d39-41d4-ae09-64a328f73a7c",
   "metadata": {},
   "outputs": [
    {
     "data": {
      "text/plain": [
       "(-3, -2, -1)"
      ]
     },
     "execution_count": 21,
     "metadata": {},
     "output_type": "execute_result"
    }
   ],
   "source": [
    "a, b, c = v\n",
    "a, b, c"
   ]
  },
  {
   "cell_type": "code",
   "execution_count": 22,
   "id": "e7e78810-cd80-494e-9f62-458689be90b8",
   "metadata": {},
   "outputs": [
    {
     "data": {
      "text/plain": [
       "-11"
      ]
     },
     "execution_count": 22,
     "metadata": {},
     "output_type": "execute_result"
    }
   ],
   "source": [
    "(((x, y),) -> y - x^2)(v)"
   ]
  },
  {
   "cell_type": "code",
   "execution_count": null,
   "id": "b2ffbd43-ebe5-44b8-ae5e-34303fc7cb2b",
   "metadata": {},
   "outputs": [],
   "source": []
  }
 ],
 "metadata": {
  "jupytext": {
   "formats": "ipynb,auto:hydrogen"
  },
  "kernelspec": {
   "display_name": "Julia 1.7.0-beta2",
   "language": "julia",
   "name": "julia-1.7"
  },
  "language_info": {
   "file_extension": ".jl",
   "mimetype": "application/julia",
   "name": "julia",
   "version": "1.7.0"
  }
 },
 "nbformat": 4,
 "nbformat_minor": 5
}
