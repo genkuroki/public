{
 "cells": [
  {
   "cell_type": "code",
   "execution_count": 1,
   "id": "e1d6ae8c-7e15-49f9-b470-5ee3ed9ac659",
   "metadata": {},
   "outputs": [
    {
     "data": {
      "text/plain": [
       "[1.0,\n",
       " 1,\n",
       " 1.0,\n",
       " 1,\n",
       " 1,\n",
       " 1.0,\n",
       " 1,\n",
       " 1,\n",
       " 1.0,\n",
       " 1,\n",
       " 1.0,\n",
       " 1.0,\n",
       " 1.0,\n",
       " 1.0,\n",
       " 1.0,\n",
       " 1,\n",
       " 1,\n",
       " 1,\n",
       " 1,\n",
       " 1.0]"
      ]
     },
     "execution_count": 1,
     "metadata": {},
     "output_type": "execute_result"
    }
   ],
   "source": [
    "import random\n",
    "\n",
    "def f():\n",
    "    if random.random() > 0.5:\n",
    "        return 1\n",
    "    else:\n",
    "        return 1.0\n",
    "\n",
    "[f() for _ in range(0, 20)]"
   ]
  },
  {
   "cell_type": "code",
   "execution_count": 2,
   "id": "8e67666c-9398-4787-9ad1-d80824f2fea0",
   "metadata": {},
   "outputs": [
    {
     "data": {
      "text/plain": [
       "[1.0,\n",
       " 1.0,\n",
       " 1.0,\n",
       " 1.0,\n",
       " 1.0,\n",
       " 1.0,\n",
       " 1.0,\n",
       " 1.0,\n",
       " 1.0,\n",
       " 1.0,\n",
       " 1.0,\n",
       " 1.0,\n",
       " 1.0,\n",
       " 1.0,\n",
       " 1.0,\n",
       " 1.0,\n",
       " 1.0,\n",
       " 1.0,\n",
       " 1.0,\n",
       " 1.0]"
      ]
     },
     "execution_count": 2,
     "metadata": {},
     "output_type": "execute_result"
    }
   ],
   "source": [
    "import random\n",
    "import numba\n",
    "\n",
    "@numba.njit()\n",
    "def g():\n",
    "    if random.random() > 0.5:\n",
    "        return 1\n",
    "    else:\n",
    "        return 1.0\n",
    "\n",
    "[g() for _ in range(0, 20)]"
   ]
  },
  {
   "cell_type": "code",
   "execution_count": 3,
   "id": "27124928-e599-4b51-b0e0-5822007591b8",
   "metadata": {},
   "outputs": [
    {
     "data": {
      "text/plain": [
       "[2.0,\n",
       " 2.0,\n",
       " 1.0,\n",
       " 1.0,\n",
       " 1.0,\n",
       " 2.0,\n",
       " 1.0,\n",
       " 2.0,\n",
       " 1.0,\n",
       " 2.0,\n",
       " 1.0,\n",
       " 1.0,\n",
       " 1.0,\n",
       " 2.0,\n",
       " 2.0,\n",
       " 2.0,\n",
       " 1.0,\n",
       " 1.0,\n",
       " 1.0,\n",
       " 1.0]"
      ]
     },
     "execution_count": 3,
     "metadata": {},
     "output_type": "execute_result"
    }
   ],
   "source": [
    "import random\n",
    "import numba\n",
    "\n",
    "@numba.njit()\n",
    "def h():\n",
    "    if random.random() > 0.5:\n",
    "        return 1\n",
    "    else:\n",
    "        return 2.0\n",
    "\n",
    "[h() for _ in range(0, 20)]"
   ]
  },
  {
   "cell_type": "code",
   "execution_count": 4,
   "id": "1adc04f7-cb8c-4085-a01b-56f51e584c49",
   "metadata": {},
   "outputs": [
    {
     "name": "stdout",
     "output_type": "stream",
     "text": [
      "h ()\n",
      "--------------------------------------------------------------------------------\n",
      "# File: <ipython-input-3-dd96bfae9fc6>\n",
      "# --- LINE 4 --- \n",
      "\n",
      "@numba.njit()\n",
      "\n",
      "# --- LINE 5 --- \n",
      "\n",
      "def h():\n",
      "\n",
      "    # --- LINE 6 --- \n",
      "    # label 0\n",
      "    #   $2load_global.0 = global(random: <module 'random' from 'D:\\\\.julia\\\\conda\\\\3\\\\lib\\\\random.py'>)  :: Module(<module 'random' from 'D:\\\\.julia\\\\conda\\\\3\\\\lib\\\\random.py'>)\n",
      "    #   $4load_method.1 = getattr(value=$2load_global.0, attr=random)  :: Function(random.random)\n",
      "    #   del $2load_global.0\n",
      "    #   $6call_method.2 = call $4load_method.1(func=$4load_method.1, args=[], kws=(), vararg=None)  :: () -> float64\n",
      "    #   del $4load_method.1\n",
      "    #   $const8.3 = const(float, 0.5)  :: float64\n",
      "    #   $10compare_op.4 = $6call_method.2 > $const8.3  :: bool\n",
      "    #   del $const8.3\n",
      "    #   del $6call_method.2\n",
      "    #   bool12 = global(bool: <class 'bool'>)  :: Function(<class 'bool'>)\n",
      "    #   $12pred = call bool12($10compare_op.4, func=bool12, args=(Var($10compare_op.4, <ipython-input-3-dd96bfae9fc6>:6),), kws=(), vararg=None)  :: (bool,) -> bool\n",
      "    #   del bool12\n",
      "    #   del $10compare_op.4\n",
      "    #   branch $12pred, 14, 18\n",
      "\n",
      "    if random.random() > 0.5:\n",
      "\n",
      "        # --- LINE 7 --- \n",
      "        # label 14\n",
      "        #   del $12pred\n",
      "        #   $const14.0 = const(int, 1)  :: Literal[int](1)\n",
      "        #   $16return_value.1 = cast(value=$const14.0)  :: float64\n",
      "        #   del $const14.0\n",
      "        #   return $16return_value.1\n",
      "\n",
      "        return 1\n",
      "\n",
      "    # --- LINE 8 --- \n",
      "\n",
      "    else:\n",
      "\n",
      "        # --- LINE 9 --- \n",
      "        # label 18\n",
      "        #   del $12pred\n",
      "        #   $const18.0 = const(float, 2.0)  :: float64\n",
      "        #   $20return_value.1 = cast(value=$const18.0)  :: float64\n",
      "        #   del $const18.0\n",
      "        #   return $20return_value.1\n",
      "\n",
      "        return 2.0\n",
      "\n",
      "\n",
      "================================================================================\n"
     ]
    }
   ],
   "source": [
    "h.inspect_types()"
   ]
  },
  {
   "cell_type": "code",
   "execution_count": null,
   "id": "997be059-103c-491e-a9ff-89f0ece4620f",
   "metadata": {},
   "outputs": [],
   "source": []
  }
 ],
 "metadata": {
  "jupytext": {
   "formats": "ipynb,auto:hydrogen"
  },
  "kernelspec": {
   "display_name": "Python 3",
   "language": "python",
   "name": "python3"
  },
  "language_info": {
   "codemirror_mode": {
    "name": "ipython",
    "version": 3
   },
   "file_extension": ".py",
   "mimetype": "text/x-python",
   "name": "python",
   "nbconvert_exporter": "python",
   "pygments_lexer": "ipython3",
   "version": "3.8.5"
  }
 },
 "nbformat": 4,
 "nbformat_minor": 5
}
