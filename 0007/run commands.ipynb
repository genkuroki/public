{
 "cells": [
  {
   "cell_type": "markdown",
   "id": "800a3839-8058-429e-93b2-f8bb0eec582c",
   "metadata": {},
   "source": [
    "https://docs.julialang.org/en/v1/manual/running-external-programs/"
   ]
  },
  {
   "cell_type": "code",
   "execution_count": 1,
   "id": "079f25a1-c864-43c9-b6e2-565bfb69ba70",
   "metadata": {},
   "outputs": [
    {
     "data": {
      "text/plain": [
       "pr (generic function with 1 method)"
      ]
     },
     "execution_count": 1,
     "metadata": {},
     "output_type": "execute_result"
    }
   ],
   "source": [
    "pr(x) = print(read(x, String))"
   ]
  },
  {
   "cell_type": "code",
   "execution_count": 2,
   "id": "b83bfcba-98de-46ab-9a33-a7725d780a9f",
   "metadata": {},
   "outputs": [
    {
     "name": "stdout",
     "output_type": "stream",
     "text": [
      "total 1356\n",
      "-rw-r--r-- 1 genkuroki genkuroki    1075 Jun 25 13:50 Pluto 0.9screenWidth.jl\n",
      "-rw-r--r-- 1 genkuroki genkuroki   39897 Jun 25 11:57 Untitled next_perm!.ipynb\n",
      "-rw-r--r-- 1 genkuroki genkuroki    3565 Jun 25 11:57 Untitled next_perm!.jl\n",
      "-rw-r--r-- 1 genkuroki genkuroki    4182 Jun 24 10:45 Untitled sum of generator.ipynb\n",
      "-rw-r--r-- 1 genkuroki genkuroki    2213 Jun 25 11:42 Untitled.ipynb\n",
      "-rw-r--r-- 1 genkuroki genkuroki    6302 Jun 25 17:33 Untitled1.ipynb\n",
      "-rw-r--r-- 1 genkuroki genkuroki    3609 Jun 25 20:30 Untitled2.ipynb\n",
      "-rw-r--r-- 1 genkuroki genkuroki 1051044 Jun 24 19:35 comprehension examples.ipynb\n",
      "-rw-r--r-- 1 genkuroki genkuroki     968 Jun 24 19:35 comprehension examples.jl\n",
      "-rw-r--r-- 1 genkuroki genkuroki    5579 Jun 24 18:28 examples of destructuring.ipynb\n",
      "-rw-r--r-- 1 genkuroki genkuroki     955 Jun 24 18:28 examples of destructuring.jl\n",
      "-rw-r--r-- 1 genkuroki genkuroki   35234 Jun 25 18:28 next_perm!.ipynb\n",
      "-rw-r--r-- 1 genkuroki genkuroki    4585 Jun 25 18:28 next_perm!.jl\n",
      "-rw-r--r-- 1 genkuroki genkuroki  160544 Jun 24 18:28 quiver example.ipynb\n",
      "-rw-r--r-- 1 genkuroki genkuroki     671 Jun 24 18:28 quiver example.jl\n",
      "-rw-r--r-- 1 genkuroki genkuroki   27692 Jun 24 18:29 sum of generator.ipynb\n",
      "-rw-r--r-- 1 genkuroki genkuroki    2177 Jun 24 18:29 sum of generator.jl\n"
     ]
    }
   ],
   "source": [
    "pr(`ls -l`)"
   ]
  },
  {
   "cell_type": "code",
   "execution_count": 3,
   "id": "af69f2ae-20f4-455b-a8c8-49fc2e2dc16f",
   "metadata": {},
   "outputs": [
    {
     "data": {
      "text/plain": [
       "\"hoge\""
      ]
     },
     "execution_count": 3,
     "metadata": {},
     "output_type": "execute_result"
    }
   ],
   "source": [
    "ENV[\"HOGE\"] = \"hoge\""
   ]
  },
  {
   "cell_type": "code",
   "execution_count": 4,
   "id": "45e51671-aa7c-4288-a55b-25f4fb8d947e",
   "metadata": {},
   "outputs": [
    {
     "name": "stdout",
     "output_type": "stream",
     "text": [
      "HOGE=hoge\n",
      "HOMEDRIVE=C:\n",
      "HOMEPATH=\\Users\\genkuroki\n",
      "HOME=/home/genkuroki\n"
     ]
    }
   ],
   "source": [
    "pr(pipeline(`env`, `grep '^H'`))"
   ]
  },
  {
   "cell_type": "code",
   "execution_count": null,
   "id": "9aa4cf5b-3ba6-495c-a6c0-cd5e1816a9b0",
   "metadata": {},
   "outputs": [],
   "source": []
  }
 ],
 "metadata": {
  "jupytext": {
   "formats": "ipynb,auto:hydrogen"
  },
  "kernelspec": {
   "display_name": "Julia 1.8.0-DEV",
   "language": "julia",
   "name": "julia-1.8"
  },
  "language_info": {
   "file_extension": ".jl",
   "mimetype": "application/julia",
   "name": "julia",
   "version": "1.8.0"
  }
 },
 "nbformat": 4,
 "nbformat_minor": 5
}
