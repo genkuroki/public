{
 "cells": [
  {
   "cell_type": "code",
   "execution_count": 1,
   "id": "292c606a-c922-4372-8d32-035b3481cefb",
   "metadata": {},
   "outputs": [
    {
     "data": {
      "text/plain": [
       "Main.O"
      ]
     },
     "execution_count": 1,
     "metadata": {},
     "output_type": "execute_result"
    }
   ],
   "source": [
    "module O\n",
    "\n",
    "Base.@kwdef struct Foo\n",
    "    d::Dict{Float64, Float64} = Dict{Float64, Float64}()\n",
    "end\n",
    "\n",
    "Base.getindex(foo::Foo, x::Float64) = get(foo.d, x, sin(x))\n",
    "Base.getindex(foo::Foo, x::Int) = getindex(foo, float(x))\n",
    "Base.getindex(foo::Foo, x::AbstractArray) = getindex.(Ref(foo), x)\n",
    "\n",
    "Base.setindex!(foo::Foo, v, x::Float64) = setindex!(foo.d, v, x)\n",
    "Base.setindex!(foo::Foo, v, x::Int) = setindex!(foo, v, float(x))\n",
    "Base.setindex!(foo::Foo, v, x::AbstractArray) = setindex!.(Ref(foo), v, x)\n",
    "\n",
    "end"
   ]
  },
  {
   "cell_type": "code",
   "execution_count": 2,
   "id": "551a5e2d-3129-4f95-b493-0410e83d9ee6",
   "metadata": {},
   "outputs": [
    {
     "data": {
      "text/plain": [
       "Main.O.Foo(Dict{Float64, Float64}())"
      ]
     },
     "execution_count": 2,
     "metadata": {},
     "output_type": "execute_result"
    }
   ],
   "source": [
    "foo = O.Foo()"
   ]
  },
  {
   "cell_type": "code",
   "execution_count": 3,
   "id": "9fb1d452-8d03-4d5b-901c-fdc874cb6af2",
   "metadata": {},
   "outputs": [
    {
     "data": {
      "text/plain": [
       "0.49999999999999994"
      ]
     },
     "execution_count": 3,
     "metadata": {},
     "output_type": "execute_result"
    }
   ],
   "source": [
    "foo[π/6]"
   ]
  },
  {
   "cell_type": "code",
   "execution_count": 4,
   "id": "3e2f7d49-b597-4b7e-94cf-2c28a61d855d",
   "metadata": {},
   "outputs": [
    {
     "data": {
      "text/plain": [
       "30.0"
      ]
     },
     "execution_count": 4,
     "metadata": {},
     "output_type": "execute_result"
    }
   ],
   "source": [
    "foo[π/6] = 30\n",
    "foo[π/6]"
   ]
  },
  {
   "cell_type": "code",
   "execution_count": 5,
   "id": "dd5ec1bb-2180-4caf-8212-6b745f4734ea",
   "metadata": {},
   "outputs": [
    {
     "data": {
      "text/plain": [
       "0.8414709848078965"
      ]
     },
     "execution_count": 5,
     "metadata": {},
     "output_type": "execute_result"
    }
   ],
   "source": [
    "foo[1]"
   ]
  },
  {
   "cell_type": "code",
   "execution_count": 6,
   "id": "7a68c70e-7461-42d7-b771-8b0b976a9af1",
   "metadata": {},
   "outputs": [
    {
     "data": {
      "text/plain": [
       "-99.0"
      ]
     },
     "execution_count": 6,
     "metadata": {},
     "output_type": "execute_result"
    }
   ],
   "source": [
    "foo[1] = -99\n",
    "foo[1]"
   ]
  },
  {
   "cell_type": "code",
   "execution_count": 7,
   "id": "f982a744-0fb6-48e5-b47e-37e163478379",
   "metadata": {},
   "outputs": [
    {
     "data": {
      "text/plain": [
       "7-element Vector{Float64}:\n",
       "  0.0\n",
       "  0.25881904510252074\n",
       " 30.0\n",
       "  0.7071067811865475\n",
       "  0.8660254037844386\n",
       "  0.9659258262890683\n",
       "  1.0"
      ]
     },
     "execution_count": 7,
     "metadata": {},
     "output_type": "execute_result"
    }
   ],
   "source": [
    "foo[range(0, π/2; length=7)]"
   ]
  },
  {
   "cell_type": "code",
   "execution_count": 8,
   "id": "bc31655b-32d4-48cf-944b-2380ae4af0c9",
   "metadata": {},
   "outputs": [
    {
     "data": {
      "text/plain": [
       "7-element Vector{Float64}:\n",
       " 0.0\n",
       " 1.0\n",
       " 2.0\n",
       " 3.0\n",
       " 4.0\n",
       " 5.0\n",
       " 6.0"
      ]
     },
     "execution_count": 8,
     "metadata": {},
     "output_type": "execute_result"
    }
   ],
   "source": [
    "foo[range(0, π/2; length=7)] = 0:6\n",
    "foo[range(0, π/2; length=7)]"
   ]
  },
  {
   "cell_type": "code",
   "execution_count": 9,
   "id": "9fb5d406-a85e-4b3f-b6d0-6c56ad2dc9bf",
   "metadata": {},
   "outputs": [
    {
     "data": {
      "text/plain": [
       "2.0"
      ]
     },
     "execution_count": 9,
     "metadata": {},
     "output_type": "execute_result"
    }
   ],
   "source": [
    "foo[π/6]"
   ]
  },
  {
   "cell_type": "code",
   "execution_count": null,
   "id": "9d33edc2-e97a-4f07-bc57-0f2eb7ca37b6",
   "metadata": {},
   "outputs": [],
   "source": []
  }
 ],
 "metadata": {
  "jupytext": {
   "formats": "ipynb,auto:hydrogen"
  },
  "kernelspec": {
   "display_name": "Julia 1.8.0-DEV",
   "language": "julia",
   "name": "julia-1.8"
  },
  "language_info": {
   "file_extension": ".jl",
   "mimetype": "application/julia",
   "name": "julia",
   "version": "1.8.0"
  }
 },
 "nbformat": 4,
 "nbformat_minor": 5
}
