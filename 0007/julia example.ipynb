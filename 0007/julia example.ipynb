{
 "cells": [
  {
   "cell_type": "code",
   "execution_count": 1,
   "id": "0f8b403a-968b-4d9f-8a3e-9df541506c7b",
   "metadata": {},
   "outputs": [
    {
     "data": {
      "text/plain": [
       "20-element Vector{Real}:\n",
       " 1\n",
       " 2.0\n",
       " 1\n",
       " 1\n",
       " 2.0\n",
       " 1\n",
       " 2.0\n",
       " 2.0\n",
       " 1\n",
       " 2.0\n",
       " 1\n",
       " 2.0\n",
       " 2.0\n",
       " 1\n",
       " 2.0\n",
       " 2.0\n",
       " 2.0\n",
       " 2.0\n",
       " 1\n",
       " 2.0"
      ]
     },
     "execution_count": 1,
     "metadata": {},
     "output_type": "execute_result"
    }
   ],
   "source": [
    "h() = if rand() < 0.5 1 else 2.0 end\n",
    "\n",
    "[h() for _ in 1:20]"
   ]
  },
  {
   "cell_type": "code",
   "execution_count": 2,
   "id": "7cb95720-0fb9-4cf4-8de0-a09e52729c86",
   "metadata": {},
   "outputs": [
    {
     "name": "stdout",
     "output_type": "stream",
     "text": [
      "Variables\n",
      "  #self#\u001b[36m::Core.Const(h)\u001b[39m\n",
      "\n",
      "Body\u001b[91m\u001b[1m::Union{Float64, Int64}\u001b[22m\u001b[39m\n",
      "\u001b[90m1 ─\u001b[39m %1 = Main.rand()\u001b[36m::Float64\u001b[39m\n",
      "\u001b[90m│  \u001b[39m %2 = (%1 < 0.5)\u001b[36m::Bool\u001b[39m\n",
      "\u001b[90m└──\u001b[39m      goto #3 if not %2\n",
      "\u001b[90m2 ─\u001b[39m      return 1\n",
      "\u001b[90m3 ─\u001b[39m      return 2.0\n"
     ]
    }
   ],
   "source": [
    "@code_warntype h()"
   ]
  },
  {
   "cell_type": "code",
   "execution_count": null,
   "id": "f6cb0a2a-4e40-4984-b78d-415997cad822",
   "metadata": {},
   "outputs": [],
   "source": []
  }
 ],
 "metadata": {
  "jupytext": {
   "formats": "ipynb,auto:hydrogen"
  },
  "kernelspec": {
   "display_name": "Julia 1.6.1",
   "language": "julia",
   "name": "julia-1.6"
  },
  "language_info": {
   "file_extension": ".jl",
   "mimetype": "application/julia",
   "name": "julia",
   "version": "1.6.1"
  }
 },
 "nbformat": 4,
 "nbformat_minor": 5
}
