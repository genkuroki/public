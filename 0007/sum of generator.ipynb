{
 "cells": [
  {
   "cell_type": "code",
   "execution_count": 1,
   "id": "118d20c1-c61b-4ea0-9086-b634c5adbe80",
   "metadata": {},
   "outputs": [
    {
     "name": "stdout",
     "output_type": "stream",
     "text": [
      "VERSION = v\"1.7.0-beta2\"\n",
      "  73.067 ms (0 allocations: 0 bytes)\n"
     ]
    },
    {
     "data": {
      "text/plain": [
       "3.1420624"
      ]
     },
     "execution_count": 1,
     "metadata": {},
     "output_type": "execute_result"
    }
   ],
   "source": [
    "@show VERSION\n",
    "using BenchmarkTools\n",
    "pimc_sum(n) = 4sum(rand()^2 + rand()^2 ≤ 1 for _ in 1:n)/n\n",
    "@btime pimc_sum(10^7)"
   ]
  },
  {
   "cell_type": "code",
   "execution_count": 2,
   "id": "f0302413-9993-4dd7-a7dc-e42e1aa94368",
   "metadata": {},
   "outputs": [
    {
     "name": "stdout",
     "output_type": "stream",
     "text": [
      "VERSION = v\"1.7.0-beta2\"\n",
      "  73.071 ms (0 allocations: 0 bytes)\n"
     ]
    },
    {
     "data": {
      "text/plain": [
       "3.14153"
      ]
     },
     "execution_count": 2,
     "metadata": {},
     "output_type": "execute_result"
    }
   ],
   "source": [
    "@show VERSION\n",
    "using BenchmarkTools, Random\n",
    "pimc_sum(n, rng) = 4sum(rand(rng)^2 + rand(rng)^2 ≤ 1 for _ in 1:n)/n\n",
    "@btime pimc_sum(10^7, $(Random.default_rng()))"
   ]
  },
  {
   "cell_type": "code",
   "execution_count": 3,
   "id": "77b441f9-d283-4c58-9e4c-fe72227e63c9",
   "metadata": {},
   "outputs": [
    {
     "name": "stdout",
     "output_type": "stream",
     "text": [
      "VERSION = v\"1.7.0-beta2\"\n",
      "  27.372 ms (0 allocations: 0 bytes)\n"
     ]
    },
    {
     "data": {
      "text/plain": [
       "3.1410944"
      ]
     },
     "execution_count": 3,
     "metadata": {},
     "output_type": "execute_result"
    }
   ],
   "source": [
    "@show VERSION\n",
    "using BenchmarkTools, Random\n",
    "function pimc_for(n, rng)\n",
    "    c = 0\n",
    "    for _ in 1:n\n",
    "        c += rand(rng)^2 + rand(rng)^2 ≤ 1\n",
    "    end\n",
    "    4c/n\n",
    "end\n",
    "@btime pimc_for(10^7, $(Random.default_rng()))"
   ]
  },
  {
   "cell_type": "code",
   "execution_count": 4,
   "id": "8c59ccfc-f997-4717-b68c-907f97ec02e9",
   "metadata": {},
   "outputs": [
    {
     "name": "stdout",
     "output_type": "stream",
     "text": [
      "VERSION = v\"1.7.0-beta2\"\n",
      "  20.471 ms (0 allocations: 0 bytes)\n",
      "  20.774 ms (0 allocations: 0 bytes)\n"
     ]
    },
    {
     "data": {
      "text/plain": [
       "3.1416284"
      ]
     },
     "execution_count": 4,
     "metadata": {},
     "output_type": "execute_result"
    }
   ],
   "source": [
    "@show VERSION\n",
    "@btime pimc_sum(10^7, $(MersenneTwister()))\n",
    "@btime pimc_for(10^7, $(MersenneTwister()))"
   ]
  },
  {
   "cell_type": "code",
   "execution_count": 9,
   "id": "48ebb170-008e-4378-931e-3f079336380d",
   "metadata": {},
   "outputs": [
    {
     "name": "stdout",
     "output_type": "stream",
     "text": [
      "VERSION = v\"1.7.0-beta2\"\n",
      "  323.700 μs (0 allocations: 0 bytes)\n",
      "  2.618 ms (0 allocations: 0 bytes)\n"
     ]
    },
    {
     "data": {
      "text/plain": [
       "-1338744524744109280"
      ]
     },
     "execution_count": 9,
     "metadata": {},
     "output_type": "execute_result"
    }
   ],
   "source": [
    "@show VERSION\n",
    "f3(n) = sum(k^3 for k in 1:n)\n",
    "f4(n) = sum(k^4 for k in 1:n)\n",
    "@btime f3(10^6)\n",
    "@btime f4(10^6)"
   ]
  },
  {
   "cell_type": "code",
   "execution_count": 10,
   "id": "93990c61-856d-458d-b04e-f23bd1043f85",
   "metadata": {},
   "outputs": [
    {
     "name": "stdout",
     "output_type": "stream",
     "text": [
      "VERSION = v\"1.7.0-beta2\"\n",
      "  3.760 ms (0 allocations: 0 bytes)\n",
      "  3.564 ms (0 allocations: 0 bytes)\n"
     ]
    },
    {
     "data": {
      "text/plain": [
       "200000500000333333333333300000"
      ]
     },
     "execution_count": 10,
     "metadata": {},
     "output_type": "execute_result"
    }
   ],
   "source": [
    "@show VERSION\n",
    "f3(n) = sum(k^3 for k in 1:n)\n",
    "f4(n) = sum(k^4 for k in 1:n)\n",
    "@btime f3($(Int128(10^6)))\n",
    "@btime f4($(Int128(10^6)))"
   ]
  },
  {
   "cell_type": "code",
   "execution_count": 11,
   "id": "89f3ebac-4253-4756-9981-81effd4fdbd2",
   "metadata": {},
   "outputs": [
    {
     "data": {
      "text/plain": [
       "CodeInfo(\n",
       "\u001b[90m1 ──\u001b[39m %1  = Base.sle_int(1, n)\u001b[36m::Bool\u001b[39m\n",
       "\u001b[90m│   \u001b[39m %2  = Base.ifelse(%1, n, 0)\u001b[36m::Int64\u001b[39m\n",
       "\u001b[90m│   \u001b[39m %3  = Base.slt_int(%2, 1)\u001b[36m::Bool\u001b[39m\n",
       "\u001b[90m└───\u001b[39m       goto #3 if not %3\n",
       "\u001b[90m2 ──\u001b[39m       Base.nothing\u001b[90m::Nothing\u001b[39m\n",
       "\u001b[90m└───\u001b[39m       goto #4\n",
       "\u001b[90m3 ──\u001b[39m       goto #4\n",
       "\u001b[90m4 ┄─\u001b[39m %8  = φ (#2 => true, #3 => false)\u001b[36m::Bool\u001b[39m\n",
       "\u001b[90m│   \u001b[39m %9  = φ (#3 => 1)\u001b[36m::Int64\u001b[39m\n",
       "\u001b[90m│   \u001b[39m %10 = φ (#3 => 1)\u001b[36m::Int64\u001b[39m\n",
       "\u001b[90m└───\u001b[39m       goto #6 if not %8\n",
       "\u001b[90m5 ──\u001b[39m       goto #15\n",
       "\u001b[90m6 ──\u001b[39m %13 = Base.mul_int(%9, %9)\u001b[36m::Int64\u001b[39m\n",
       "\u001b[90m└───\u001b[39m %14 = Base.mul_int(%13, %9)\u001b[36m::Int64\u001b[39m\n",
       "\u001b[90m7 ┄─\u001b[39m %15 = φ (#6 => %14, #13 => %31)\u001b[36m::Int64\u001b[39m\n",
       "\u001b[90m│   \u001b[39m %16 = φ (#6 => %10, #13 => %24)\u001b[36m::Int64\u001b[39m\n",
       "\u001b[90m└───\u001b[39m       goto #14 if not true\n",
       "\u001b[90m8 ──\u001b[39m %18 = (%16 === %2)\u001b[36m::Bool\u001b[39m\n",
       "\u001b[90m└───\u001b[39m       goto #10 if not %18\n",
       "\u001b[90m9 ──\u001b[39m       Base.nothing\u001b[90m::Nothing\u001b[39m\n",
       "\u001b[90m└───\u001b[39m       goto #11\n",
       "\u001b[90m10 ─\u001b[39m %22 = Base.add_int(%16, 1)\u001b[36m::Int64\u001b[39m\n",
       "\u001b[90m└───\u001b[39m       goto #11\n",
       "\u001b[90m11 ┄\u001b[39m %24 = φ (#10 => %22)\u001b[36m::Int64\u001b[39m\n",
       "\u001b[90m│   \u001b[39m %25 = φ (#9 => true, #10 => false)\u001b[36m::Bool\u001b[39m\n",
       "\u001b[90m│   \u001b[39m %26 = φ (#10 => %22)\u001b[36m::Int64\u001b[39m\n",
       "\u001b[90m└───\u001b[39m       goto #13 if not %25\n",
       "\u001b[90m12 ─\u001b[39m       goto #14\n",
       "\u001b[90m13 ─\u001b[39m %29 = Base.mul_int(%26, %26)\u001b[36m::Int64\u001b[39m\n",
       "\u001b[90m│   \u001b[39m %30 = Base.mul_int(%29, %26)\u001b[36m::Int64\u001b[39m\n",
       "\u001b[90m│   \u001b[39m %31 = Base.add_int(%15, %30)\u001b[36m::Int64\u001b[39m\n",
       "\u001b[90m└───\u001b[39m       goto #7\n",
       "\u001b[90m14 ┄\u001b[39m       goto #15\n",
       "\u001b[90m15 ┄\u001b[39m %34 = φ (#5 => $(QuoteNode(Base._InitialValue())), #14 => %15)\u001b[36m::Union{Base._InitialValue, Int64}\u001b[39m\n",
       "\u001b[90m│   \u001b[39m %35 = (%34 isa Base._InitialValue)\u001b[36m::Bool\u001b[39m\n",
       "\u001b[90m└───\u001b[39m       goto #19 if not %35\n",
       "\u001b[90m16 ─\u001b[39m       invoke Base.reduce_empty($(QuoteNode(Base.MappingRF{var\"#17#18\", Base.BottomRF{typeof(Base.add_sum)}}(var\"#17#18\"(), Base.BottomRF{typeof(Base.add_sum)}(Base.add_sum))))::Base.MappingRF{var\"#17#18\", Base.BottomRF{typeof(Base.add_sum)}}, Int64::Type{Int64})\u001b[90m::Union{}\u001b[39m\n",
       "\u001b[90m└───\u001b[39m       unreachable\n",
       "\u001b[90m17 ─\u001b[39m       φ ()\u001b[90m::Union{}\u001b[39m\n",
       "\u001b[90m└───\u001b[39m       unreachable\n",
       "\u001b[90m18 ─\u001b[39m       φ ()\u001b[90m::Union{}\u001b[39m\n",
       "\u001b[90m└───\u001b[39m       unreachable\n",
       "\u001b[90m19 ─\u001b[39m %43 = π (%34, \u001b[36mInt64\u001b[39m)\n",
       "\u001b[90m└───\u001b[39m       goto #20\n",
       "\u001b[90m20 ─\u001b[39m       goto #21\n",
       "\u001b[90m21 ─\u001b[39m       goto #22\n",
       "\u001b[90m22 ─\u001b[39m       goto #23\n",
       "\u001b[90m23 ─\u001b[39m       goto #24\n",
       "\u001b[90m24 ─\u001b[39m       goto #25\n",
       "\u001b[90m25 ─\u001b[39m       goto #26\n",
       "\u001b[90m26 ─\u001b[39m       goto #27\n",
       "\u001b[90m27 ─\u001b[39m       goto #28\n",
       "\u001b[90m28 ─\u001b[39m       goto #29\n",
       "\u001b[90m29 ─\u001b[39m       return %43\n",
       ") => Int64"
      ]
     },
     "execution_count": 11,
     "metadata": {},
     "output_type": "execute_result"
    }
   ],
   "source": [
    "@code_typed f3(10^6)"
   ]
  },
  {
   "cell_type": "code",
   "execution_count": 12,
   "id": "2ef255b8-ce15-4f1d-800c-800254839c65",
   "metadata": {},
   "outputs": [
    {
     "data": {
      "text/plain": [
       "CodeInfo(\n",
       "\u001b[90m1 ──\u001b[39m %1  = Base.sle_int(1, n)\u001b[36m::Bool\u001b[39m\n",
       "\u001b[90m│   \u001b[39m %2  = Base.ifelse(%1, n, 0)\u001b[36m::Int64\u001b[39m\n",
       "\u001b[90m│   \u001b[39m %3  = Base.slt_int(%2, 1)\u001b[36m::Bool\u001b[39m\n",
       "\u001b[90m└───\u001b[39m       goto #3 if not %3\n",
       "\u001b[90m2 ──\u001b[39m       Base.nothing\u001b[90m::Nothing\u001b[39m\n",
       "\u001b[90m└───\u001b[39m       goto #4\n",
       "\u001b[90m3 ──\u001b[39m       goto #4\n",
       "\u001b[90m4 ┄─\u001b[39m %8  = φ (#2 => true, #3 => false)\u001b[36m::Bool\u001b[39m\n",
       "\u001b[90m│   \u001b[39m %9  = φ (#3 => 1)\u001b[36m::Int64\u001b[39m\n",
       "\u001b[90m│   \u001b[39m %10 = φ (#3 => 1)\u001b[36m::Int64\u001b[39m\n",
       "\u001b[90m└───\u001b[39m       goto #6 if not %8\n",
       "\u001b[90m5 ──\u001b[39m       goto #15\n",
       "\u001b[90m6 ──\u001b[39m %13 = invoke Base.power_by_squaring(%9::Int64, 4::Int64)\u001b[36m::Int64\u001b[39m\n",
       "\u001b[90m7 ┄─\u001b[39m %14 = φ (#6 => %13, #13 => %29)\u001b[36m::Int64\u001b[39m\n",
       "\u001b[90m│   \u001b[39m %15 = φ (#6 => %10, #13 => %23)\u001b[36m::Int64\u001b[39m\n",
       "\u001b[90m└───\u001b[39m       goto #14 if not true\n",
       "\u001b[90m8 ──\u001b[39m %17 = (%15 === %2)\u001b[36m::Bool\u001b[39m\n",
       "\u001b[90m└───\u001b[39m       goto #10 if not %17\n",
       "\u001b[90m9 ──\u001b[39m       Base.nothing\u001b[90m::Nothing\u001b[39m\n",
       "\u001b[90m└───\u001b[39m       goto #11\n",
       "\u001b[90m10 ─\u001b[39m %21 = Base.add_int(%15, 1)\u001b[36m::Int64\u001b[39m\n",
       "\u001b[90m└───\u001b[39m       goto #11\n",
       "\u001b[90m11 ┄\u001b[39m %23 = φ (#10 => %21)\u001b[36m::Int64\u001b[39m\n",
       "\u001b[90m│   \u001b[39m %24 = φ (#9 => true, #10 => false)\u001b[36m::Bool\u001b[39m\n",
       "\u001b[90m│   \u001b[39m %25 = φ (#10 => %21)\u001b[36m::Int64\u001b[39m\n",
       "\u001b[90m└───\u001b[39m       goto #13 if not %24\n",
       "\u001b[90m12 ─\u001b[39m       goto #14\n",
       "\u001b[90m13 ─\u001b[39m %28 = invoke Base.power_by_squaring(%25::Int64, 4::Int64)\u001b[36m::Int64\u001b[39m\n",
       "\u001b[90m│   \u001b[39m %29 = Base.add_int(%14, %28)\u001b[36m::Int64\u001b[39m\n",
       "\u001b[90m└───\u001b[39m       goto #7\n",
       "\u001b[90m14 ┄\u001b[39m       goto #15\n",
       "\u001b[90m15 ┄\u001b[39m %32 = φ (#5 => $(QuoteNode(Base._InitialValue())), #14 => %14)\u001b[36m::Union{Base._InitialValue, Int64}\u001b[39m\n",
       "\u001b[90m│   \u001b[39m %33 = (%32 isa Base._InitialValue)\u001b[36m::Bool\u001b[39m\n",
       "\u001b[90m└───\u001b[39m       goto #19 if not %33\n",
       "\u001b[90m16 ─\u001b[39m       invoke Base.reduce_empty($(QuoteNode(Base.MappingRF{var\"#19#20\", Base.BottomRF{typeof(Base.add_sum)}}(var\"#19#20\"(), Base.BottomRF{typeof(Base.add_sum)}(Base.add_sum))))::Base.MappingRF{var\"#19#20\", Base.BottomRF{typeof(Base.add_sum)}}, Int64::Type{Int64})\u001b[90m::Union{}\u001b[39m\n",
       "\u001b[90m└───\u001b[39m       unreachable\n",
       "\u001b[90m17 ─\u001b[39m       φ ()\u001b[90m::Union{}\u001b[39m\n",
       "\u001b[90m└───\u001b[39m       unreachable\n",
       "\u001b[90m18 ─\u001b[39m       φ ()\u001b[90m::Union{}\u001b[39m\n",
       "\u001b[90m└───\u001b[39m       unreachable\n",
       "\u001b[90m19 ─\u001b[39m %41 = π (%32, \u001b[36mInt64\u001b[39m)\n",
       "\u001b[90m└───\u001b[39m       goto #20\n",
       "\u001b[90m20 ─\u001b[39m       goto #21\n",
       "\u001b[90m21 ─\u001b[39m       goto #22\n",
       "\u001b[90m22 ─\u001b[39m       goto #23\n",
       "\u001b[90m23 ─\u001b[39m       goto #24\n",
       "\u001b[90m24 ─\u001b[39m       goto #25\n",
       "\u001b[90m25 ─\u001b[39m       goto #26\n",
       "\u001b[90m26 ─\u001b[39m       goto #27\n",
       "\u001b[90m27 ─\u001b[39m       goto #28\n",
       "\u001b[90m28 ─\u001b[39m       goto #29\n",
       "\u001b[90m29 ─\u001b[39m       return %41\n",
       ") => Int64"
      ]
     },
     "execution_count": 12,
     "metadata": {},
     "output_type": "execute_result"
    }
   ],
   "source": [
    "@code_typed f4(10^6)"
   ]
  },
  {
   "cell_type": "code",
   "execution_count": null,
   "id": "0e7d1df4-e97c-497a-bded-c1f56922deb5",
   "metadata": {},
   "outputs": [],
   "source": []
  },
  {
   "cell_type": "code",
   "execution_count": 1,
   "id": "07762b95-d0ef-487c-b3bd-52711d956dda",
   "metadata": {},
   "outputs": [
    {
     "name": "stdout",
     "output_type": "stream",
     "text": [
      "VERSION = v\"1.6.1\"\n",
      "  98.697 ms (0 allocations: 0 bytes)\n"
     ]
    },
    {
     "data": {
      "text/plain": [
       "3.1417248"
      ]
     },
     "execution_count": 1,
     "metadata": {},
     "output_type": "execute_result"
    }
   ],
   "source": [
    "@show VERSION\n",
    "using BenchmarkTools\n",
    "pimc_sum(n) = 4sum(rand()^2 + rand()^2 ≤ 1 for _ in 1:n)/n\n",
    "@btime pimc_sum(10^7)"
   ]
  },
  {
   "cell_type": "code",
   "execution_count": 2,
   "id": "3cdbe084-6d92-4c46-bcf5-19f025302333",
   "metadata": {},
   "outputs": [
    {
     "name": "stdout",
     "output_type": "stream",
     "text": [
      "VERSION = v\"1.6.1\"\n",
      "  19.819 ms (0 allocations: 0 bytes)\n"
     ]
    },
    {
     "data": {
      "text/plain": [
       "3.1411072"
      ]
     },
     "execution_count": 2,
     "metadata": {},
     "output_type": "execute_result"
    }
   ],
   "source": [
    "@show VERSION\n",
    "using BenchmarkTools, Random\n",
    "pimc_sum(n, rng) = 4sum(rand(rng)^2 + rand(rng)^2 ≤ 1 for _ in 1:n)/n\n",
    "@btime pimc_sum(10^7, $(Random.default_rng()))"
   ]
  },
  {
   "cell_type": "code",
   "execution_count": 3,
   "id": "fb596a85-f3a5-4661-91d9-02d2f1a3b629",
   "metadata": {},
   "outputs": [
    {
     "name": "stdout",
     "output_type": "stream",
     "text": [
      "VERSION = v\"1.6.1\"\n",
      "  20.120 ms (0 allocations: 0 bytes)\n"
     ]
    },
    {
     "data": {
      "text/plain": [
       "3.1419644"
      ]
     },
     "execution_count": 3,
     "metadata": {},
     "output_type": "execute_result"
    }
   ],
   "source": [
    "@show VERSION\n",
    "using BenchmarkTools, Random\n",
    "function pimc_for(n, rng)\n",
    "    c = 0\n",
    "    for _ in 1:n\n",
    "        c += rand(rng)^2 + rand(rng)^2 ≤ 1\n",
    "    end\n",
    "    4c/n\n",
    "end\n",
    "@btime pimc_for(10^7, $(Random.default_rng()))"
   ]
  },
  {
   "cell_type": "code",
   "execution_count": 4,
   "id": "1270566b-b8be-4882-8a32-e27358eba887",
   "metadata": {},
   "outputs": [
    {
     "name": "stdout",
     "output_type": "stream",
     "text": [
      "VERSION = v\"1.6.1\"\n",
      "  20.183 ms (0 allocations: 0 bytes)\n",
      "  20.587 ms (0 allocations: 0 bytes)\n"
     ]
    },
    {
     "data": {
      "text/plain": [
       "3.1414172"
      ]
     },
     "execution_count": 4,
     "metadata": {},
     "output_type": "execute_result"
    }
   ],
   "source": [
    "@show VERSION\n",
    "@btime pimc_sum(10^7, $(MersenneTwister()))\n",
    "@btime pimc_for(10^7, $(MersenneTwister()))"
   ]
  },
  {
   "cell_type": "code",
   "execution_count": 17,
   "id": "f74e9621-6847-462a-a3f7-c5caaaec70bd",
   "metadata": {},
   "outputs": [
    {
     "name": "stdout",
     "output_type": "stream",
     "text": [
      "VERSION = v\"1.6.1\"\n",
      "  5.400 ns (0 allocations: 0 bytes)\n",
      "  2.398 ms (0 allocations: 0 bytes)\n"
     ]
    },
    {
     "data": {
      "text/plain": [
       "-1338744524744109280"
      ]
     },
     "execution_count": 17,
     "metadata": {},
     "output_type": "execute_result"
    }
   ],
   "source": [
    "@show VERSION\n",
    "f3(n) = sum(k^3 for k in 1:n)\n",
    "f4(n) = sum(k^4 for k in 1:n)\n",
    "@btime f3(10^6)\n",
    "@btime f4(10^6)"
   ]
  },
  {
   "cell_type": "code",
   "execution_count": 18,
   "id": "e814361e-ea9a-4cc4-9221-7a7a263cae3b",
   "metadata": {},
   "outputs": [
    {
     "name": "stdout",
     "output_type": "stream",
     "text": [
      "VERSION = v\"1.6.1\"\n",
      "  3.924 ms (0 allocations: 0 bytes)\n",
      "  3.706 ms (0 allocations: 0 bytes)\n"
     ]
    },
    {
     "data": {
      "text/plain": [
       "200000500000333333333333300000"
      ]
     },
     "execution_count": 18,
     "metadata": {},
     "output_type": "execute_result"
    }
   ],
   "source": [
    "@show VERSION\n",
    "f3(n) = sum(k^3 for k in 1:n)\n",
    "f4(n) = sum(k^4 for k in 1:n)\n",
    "@btime f3($(Int128(10^6)))\n",
    "@btime f4($(Int128(10^6)))"
   ]
  },
  {
   "cell_type": "code",
   "execution_count": 19,
   "id": "d58bc0ec-3ef9-431c-8aa5-e826c47126ed",
   "metadata": {},
   "outputs": [
    {
     "data": {
      "text/plain": [
       "CodeInfo(\n",
       "\u001b[90m1 ──\u001b[39m %1  = Base.sle_int(1, n)\u001b[36m::Bool\u001b[39m\n",
       "\u001b[90m│   \u001b[39m %2  = Base.ifelse(%1, n, 0)\u001b[36m::Int64\u001b[39m\n",
       "\u001b[90m│   \u001b[39m %3  = Base.slt_int(%2, 1)\u001b[36m::Bool\u001b[39m\n",
       "\u001b[90m└───\u001b[39m       goto #3 if not %3\n",
       "\u001b[90m2 ──\u001b[39m       goto #4\n",
       "\u001b[90m3 ──\u001b[39m       goto #4\n",
       "\u001b[90m4 ┄─\u001b[39m %7  = φ (#2 => true, #3 => false)\u001b[36m::Bool\u001b[39m\n",
       "\u001b[90m│   \u001b[39m %8  = φ (#3 => 1)\u001b[36m::Int64\u001b[39m\n",
       "\u001b[90m│   \u001b[39m %9  = φ (#3 => 1)\u001b[36m::Int64\u001b[39m\n",
       "\u001b[90m└───\u001b[39m       goto #6 if not %7\n",
       "\u001b[90m5 ──\u001b[39m       goto #15\n",
       "\u001b[90m6 ──\u001b[39m %12 = Base.mul_int(%8, %8)\u001b[36m::Int64\u001b[39m\n",
       "\u001b[90m└───\u001b[39m %13 = Base.mul_int(%12, %8)\u001b[36m::Int64\u001b[39m\n",
       "\u001b[90m7 ┄─\u001b[39m %14 = φ (#6 => %13, #13 => %29)\u001b[36m::Int64\u001b[39m\n",
       "\u001b[90m│   \u001b[39m %15 = φ (#6 => %9, #13 => %22)\u001b[36m::Int64\u001b[39m\n",
       "\u001b[90m└───\u001b[39m       goto #14 if not true\n",
       "\u001b[90m8 ──\u001b[39m %17 = (%15 === %2)\u001b[36m::Bool\u001b[39m\n",
       "\u001b[90m└───\u001b[39m       goto #10 if not %17\n",
       "\u001b[90m9 ──\u001b[39m       goto #11\n",
       "\u001b[90m10 ─\u001b[39m %20 = Base.add_int(%15, 1)\u001b[36m::Int64\u001b[39m\n",
       "\u001b[90m└───\u001b[39m       goto #11\n",
       "\u001b[90m11 ┄\u001b[39m %22 = φ (#10 => %20)\u001b[36m::Int64\u001b[39m\n",
       "\u001b[90m│   \u001b[39m %23 = φ (#9 => true, #10 => false)\u001b[36m::Bool\u001b[39m\n",
       "\u001b[90m│   \u001b[39m %24 = φ (#10 => %20)\u001b[36m::Int64\u001b[39m\n",
       "\u001b[90m└───\u001b[39m       goto #13 if not %23\n",
       "\u001b[90m12 ─\u001b[39m       goto #14\n",
       "\u001b[90m13 ─\u001b[39m %27 = Base.mul_int(%24, %24)\u001b[36m::Int64\u001b[39m\n",
       "\u001b[90m│   \u001b[39m %28 = Base.mul_int(%27, %24)\u001b[36m::Int64\u001b[39m\n",
       "\u001b[90m│   \u001b[39m %29 = Base.add_int(%14, %28)\u001b[36m::Int64\u001b[39m\n",
       "\u001b[90m└───\u001b[39m       goto #7\n",
       "\u001b[90m14 ┄\u001b[39m       goto #15\n",
       "\u001b[90m15 ┄\u001b[39m %32 = φ (#5 => $(QuoteNode(Base._InitialValue())), #14 => %14)\u001b[36m::Union{Base._InitialValue, Int64}\u001b[39m\n",
       "\u001b[90m│   \u001b[39m %33 = (%32 isa Base._InitialValue)\u001b[36m::Bool\u001b[39m\n",
       "\u001b[90m└───\u001b[39m       goto #19 if not %33\n",
       "\u001b[90m16 ─\u001b[39m       invoke Base.reduce_empty($(QuoteNode(Base.MappingRF{var\"#21#22\", Base.BottomRF{typeof(Base.add_sum)}}(var\"#21#22\"(), Base.BottomRF{typeof(Base.add_sum)}(Base.add_sum))))::Base.MappingRF{var\"#21#22\", Base.BottomRF{typeof(Base.add_sum)}}, Int64::Type{Int64})\u001b[90m::Union{}\u001b[39m\n",
       "\u001b[90m└───\u001b[39m       unreachable\n",
       "\u001b[90m17 ─\u001b[39m       φ ()\u001b[90m::Union{}\u001b[39m\n",
       "\u001b[90m└───\u001b[39m       unreachable\n",
       "\u001b[90m18 ─\u001b[39m       φ ()\u001b[90m::Union{}\u001b[39m\n",
       "\u001b[90m└───\u001b[39m       unreachable\n",
       "\u001b[90m19 ─\u001b[39m %41 = π (%32, \u001b[36mInt64\u001b[39m)\n",
       "\u001b[90m└───\u001b[39m       goto #20\n",
       "\u001b[90m20 ─\u001b[39m       goto #21\n",
       "\u001b[90m21 ─\u001b[39m       goto #22\n",
       "\u001b[90m22 ─\u001b[39m       goto #23\n",
       "\u001b[90m23 ─\u001b[39m       goto #24\n",
       "\u001b[90m24 ─\u001b[39m       goto #25\n",
       "\u001b[90m25 ─\u001b[39m       goto #26\n",
       "\u001b[90m26 ─\u001b[39m       goto #27\n",
       "\u001b[90m27 ─\u001b[39m       goto #28\n",
       "\u001b[90m28 ─\u001b[39m       goto #29\n",
       "\u001b[90m29 ─\u001b[39m       return %41\n",
       ") => Int64"
      ]
     },
     "execution_count": 19,
     "metadata": {},
     "output_type": "execute_result"
    }
   ],
   "source": [
    "@code_typed f3(10^6)"
   ]
  },
  {
   "cell_type": "code",
   "execution_count": 20,
   "id": "4ad170ae-545f-4b61-b887-247036ca648b",
   "metadata": {},
   "outputs": [
    {
     "data": {
      "text/plain": [
       "CodeInfo(\n",
       "\u001b[90m1 ──\u001b[39m %1  = Base.sle_int(1, n)\u001b[36m::Bool\u001b[39m\n",
       "\u001b[90m│   \u001b[39m %2  = Base.ifelse(%1, n, 0)\u001b[36m::Int64\u001b[39m\n",
       "\u001b[90m│   \u001b[39m %3  = Base.slt_int(%2, 1)\u001b[36m::Bool\u001b[39m\n",
       "\u001b[90m└───\u001b[39m       goto #3 if not %3\n",
       "\u001b[90m2 ──\u001b[39m       goto #4\n",
       "\u001b[90m3 ──\u001b[39m       goto #4\n",
       "\u001b[90m4 ┄─\u001b[39m %7  = φ (#2 => true, #3 => false)\u001b[36m::Bool\u001b[39m\n",
       "\u001b[90m│   \u001b[39m %8  = φ (#3 => 1)\u001b[36m::Int64\u001b[39m\n",
       "\u001b[90m│   \u001b[39m %9  = φ (#3 => 1)\u001b[36m::Int64\u001b[39m\n",
       "\u001b[90m└───\u001b[39m       goto #6 if not %7\n",
       "\u001b[90m5 ──\u001b[39m       goto #15\n",
       "\u001b[90m6 ──\u001b[39m %12 = invoke Base.power_by_squaring(%8::Int64, 4::Int64)\u001b[36m::Int64\u001b[39m\n",
       "\u001b[90m7 ┄─\u001b[39m %13 = φ (#6 => %12, #13 => %27)\u001b[36m::Int64\u001b[39m\n",
       "\u001b[90m│   \u001b[39m %14 = φ (#6 => %9, #13 => %21)\u001b[36m::Int64\u001b[39m\n",
       "\u001b[90m└───\u001b[39m       goto #14 if not true\n",
       "\u001b[90m8 ──\u001b[39m %16 = (%14 === %2)\u001b[36m::Bool\u001b[39m\n",
       "\u001b[90m└───\u001b[39m       goto #10 if not %16\n",
       "\u001b[90m9 ──\u001b[39m       goto #11\n",
       "\u001b[90m10 ─\u001b[39m %19 = Base.add_int(%14, 1)\u001b[36m::Int64\u001b[39m\n",
       "\u001b[90m└───\u001b[39m       goto #11\n",
       "\u001b[90m11 ┄\u001b[39m %21 = φ (#10 => %19)\u001b[36m::Int64\u001b[39m\n",
       "\u001b[90m│   \u001b[39m %22 = φ (#9 => true, #10 => false)\u001b[36m::Bool\u001b[39m\n",
       "\u001b[90m│   \u001b[39m %23 = φ (#10 => %19)\u001b[36m::Int64\u001b[39m\n",
       "\u001b[90m└───\u001b[39m       goto #13 if not %22\n",
       "\u001b[90m12 ─\u001b[39m       goto #14\n",
       "\u001b[90m13 ─\u001b[39m %26 = invoke Base.power_by_squaring(%23::Int64, 4::Int64)\u001b[36m::Int64\u001b[39m\n",
       "\u001b[90m│   \u001b[39m %27 = Base.add_int(%13, %26)\u001b[36m::Int64\u001b[39m\n",
       "\u001b[90m└───\u001b[39m       goto #7\n",
       "\u001b[90m14 ┄\u001b[39m       goto #15\n",
       "\u001b[90m15 ┄\u001b[39m %30 = φ (#5 => $(QuoteNode(Base._InitialValue())), #14 => %13)\u001b[36m::Union{Base._InitialValue, Int64}\u001b[39m\n",
       "\u001b[90m│   \u001b[39m %31 = (%30 isa Base._InitialValue)\u001b[36m::Bool\u001b[39m\n",
       "\u001b[90m└───\u001b[39m       goto #19 if not %31\n",
       "\u001b[90m16 ─\u001b[39m       invoke Base.reduce_empty($(QuoteNode(Base.MappingRF{var\"#23#24\", Base.BottomRF{typeof(Base.add_sum)}}(var\"#23#24\"(), Base.BottomRF{typeof(Base.add_sum)}(Base.add_sum))))::Base.MappingRF{var\"#23#24\", Base.BottomRF{typeof(Base.add_sum)}}, Int64::Type{Int64})\u001b[90m::Union{}\u001b[39m\n",
       "\u001b[90m└───\u001b[39m       unreachable\n",
       "\u001b[90m17 ─\u001b[39m       φ ()\u001b[90m::Union{}\u001b[39m\n",
       "\u001b[90m└───\u001b[39m       unreachable\n",
       "\u001b[90m18 ─\u001b[39m       φ ()\u001b[90m::Union{}\u001b[39m\n",
       "\u001b[90m└───\u001b[39m       unreachable\n",
       "\u001b[90m19 ─\u001b[39m %39 = π (%30, \u001b[36mInt64\u001b[39m)\n",
       "\u001b[90m└───\u001b[39m       goto #20\n",
       "\u001b[90m20 ─\u001b[39m       goto #21\n",
       "\u001b[90m21 ─\u001b[39m       goto #22\n",
       "\u001b[90m22 ─\u001b[39m       goto #23\n",
       "\u001b[90m23 ─\u001b[39m       goto #24\n",
       "\u001b[90m24 ─\u001b[39m       goto #25\n",
       "\u001b[90m25 ─\u001b[39m       goto #26\n",
       "\u001b[90m26 ─\u001b[39m       goto #27\n",
       "\u001b[90m27 ─\u001b[39m       goto #28\n",
       "\u001b[90m28 ─\u001b[39m       goto #29\n",
       "\u001b[90m29 ─\u001b[39m       return %39\n",
       ") => Int64"
      ]
     },
     "execution_count": 20,
     "metadata": {},
     "output_type": "execute_result"
    }
   ],
   "source": [
    "@code_typed f4(10^6)"
   ]
  },
  {
   "cell_type": "code",
   "execution_count": null,
   "id": "66a7780e-e85f-4670-97a9-201ee4561679",
   "metadata": {},
   "outputs": [],
   "source": []
  }
 ],
 "metadata": {
  "jupytext": {
   "formats": "ipynb,auto:hydrogen"
  },
  "kernelspec": {
   "display_name": "Julia 1.7.0-beta2",
   "language": "julia",
   "name": "julia-1.7"
  },
  "language_info": {
   "file_extension": ".jl",
   "mimetype": "application/julia",
   "name": "julia",
   "version": "1.7.0"
  }
 },
 "nbformat": 4,
 "nbformat_minor": 5
}
