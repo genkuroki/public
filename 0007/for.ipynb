{
 "cells": [
  {
   "cell_type": "code",
   "execution_count": 1,
   "id": "744cdb86-0241-4d9a-a8bd-2a2479810ef1",
   "metadata": {},
   "outputs": [
    {
     "data": {
      "text/plain": [
       ":(for i = 1:10\n",
       "  end)"
      ]
     },
     "execution_count": 1,
     "metadata": {},
     "output_type": "execute_result"
    }
   ],
   "source": [
    ":(for i in 1:10 end) |> Base.remove_linenums!"
   ]
  },
  {
   "cell_type": "code",
   "execution_count": 2,
   "id": "3ffaccb1-2dea-4192-8469-52b29be09d6b",
   "metadata": {},
   "outputs": [
    {
     "data": {
      "text/plain": [
       ":(for i = 1:10\n",
       "  end)"
      ]
     },
     "execution_count": 2,
     "metadata": {},
     "output_type": "execute_result"
    }
   ],
   "source": [
    ":(for i ∈ 1:10 end) |> Base.remove_linenums!"
   ]
  },
  {
   "cell_type": "code",
   "execution_count": 3,
   "id": "b14c1adf-6914-4d80-8bf0-4a2de4d7e5dd",
   "metadata": {},
   "outputs": [
    {
     "name": "stdout",
     "output_type": "stream",
     "text": [
      "Expr\n",
      "  head: Symbol for\n",
      "  args: Array{Any}((2,))\n",
      "    1: Expr\n",
      "      head: Symbol =\n",
      "      args: Array{Any}((2,))\n",
      "        1: Symbol i\n",
      "        2: Expr\n",
      "          head: Symbol call\n",
      "          args: Array{Any}((3,))\n",
      "            1: Symbol :\n",
      "            2: Int64 1\n",
      "            3: Int64 10\n",
      "    2: Expr\n",
      "      head: Symbol block\n",
      "      args: Array{Any}((0,))\n"
     ]
    }
   ],
   "source": [
    ":(for i in 1:10 end) |> Base.remove_linenums! |> dump"
   ]
  },
  {
   "cell_type": "code",
   "execution_count": 4,
   "id": "99e2fd4f-33e7-4f19-a5e6-df4bd07bd7b5",
   "metadata": {},
   "outputs": [
    {
     "name": "stdout",
     "output_type": "stream",
     "text": [
      "Expr\n",
      "  head: Symbol for\n",
      "  args: Array{Any}((2,))\n",
      "    1: Expr\n",
      "      head: Symbol =\n",
      "      args: Array{Any}((2,))\n",
      "        1: Symbol i\n",
      "        2: Expr\n",
      "          head: Symbol call\n",
      "          args: Array{Any}((3,))\n",
      "            1: Symbol :\n",
      "            2: Int64 1\n",
      "            3: Int64 10\n",
      "    2: Expr\n",
      "      head: Symbol block\n",
      "      args: Array{Any}((0,))\n"
     ]
    }
   ],
   "source": [
    ":(for i ∈ 1:10 end) |> Base.remove_linenums! |> dump"
   ]
  },
  {
   "cell_type": "code",
   "execution_count": null,
   "id": "146fef45-26b9-4625-a4ea-813a369fa0c1",
   "metadata": {},
   "outputs": [],
   "source": []
  }
 ],
 "metadata": {
  "jupytext": {
   "formats": "ipynb,auto:hydrogen"
  },
  "kernelspec": {
   "display_name": "Julia 1.8.0-DEV",
   "language": "julia",
   "name": "julia-1.8"
  },
  "language_info": {
   "file_extension": ".jl",
   "mimetype": "application/julia",
   "name": "julia",
   "version": "1.8.0"
  }
 },
 "nbformat": 4,
 "nbformat_minor": 5
}
