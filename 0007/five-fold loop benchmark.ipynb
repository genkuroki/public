{
 "cells": [
  {
   "cell_type": "code",
   "execution_count": 1,
   "id": "ad40eb69-70d7-42e0-a62c-6b71c03f7d39",
   "metadata": {},
   "outputs": [
    {
     "data": {
      "text/plain": [
       "v\"1.6.1\""
      ]
     },
     "execution_count": 1,
     "metadata": {},
     "output_type": "execute_result"
    }
   ],
   "source": [
    "VERSION"
   ]
  },
  {
   "cell_type": "code",
   "execution_count": 2,
   "id": "cd8daf92-5bc7-443f-b82f-9f049f7baa23",
   "metadata": {},
   "outputs": [
    {
     "name": "stdout",
     "output_type": "stream",
     "text": [
      "\t\u001b[0m.text\n",
      "\t\u001b[96m\u001b[1mpushq\u001b[22m\u001b[39m\t\u001b[0m%rbp\n",
      "\t\u001b[96m\u001b[1mmovq\u001b[22m\u001b[39m\t\u001b[0m%rsp\u001b[0m, \u001b[0m%rbp\n",
      "\t\u001b[96m\u001b[1mpopq\u001b[22m\u001b[39m\t\u001b[0m%rbp\n",
      "\t\u001b[96m\u001b[1mretq\u001b[22m\u001b[39m\n",
      "\t\u001b[96m\u001b[1mnopw\u001b[22m\u001b[39m\t\u001b[0m%cs\u001b[0m:\u001b[33m(\u001b[39m\u001b[0m%rax\u001b[0m,\u001b[0m%rax\u001b[33m)\u001b[39m\n"
     ]
    }
   ],
   "source": [
    "function G(n)\n",
    "    for i1 in 0:n-1, i2 in 0:n-1, i3 in 0:n-1, i4 in 0:n-1, i5 in 0:n-1\n",
    "    end\n",
    "end\n",
    "\n",
    "@code_native debuginfo=:none G(20)"
   ]
  },
  {
   "cell_type": "code",
   "execution_count": 3,
   "id": "0a39bf4a-0c1f-496c-8954-a236f6980aaf",
   "metadata": {},
   "outputs": [
    {
     "name": "stdout",
     "output_type": "stream",
     "text": [
      "\t\u001b[0m.text\n",
      "\t\u001b[96m\u001b[1mpushq\u001b[22m\u001b[39m\t\u001b[0m%rbp\n",
      "\t\u001b[96m\u001b[1mmovq\u001b[22m\u001b[39m\t\u001b[0m%rsp\u001b[0m, \u001b[0m%rbp\n",
      "\t\u001b[96m\u001b[1msubq\u001b[22m\u001b[39m\t\u001b[33m$32\u001b[39m\u001b[0m, \u001b[0m%rsp\n",
      "\t\u001b[96m\u001b[1mmovabsq\u001b[22m\u001b[39m\t\u001b[93m$power_by_squaring\u001b[39m\u001b[0m, \u001b[0m%rax\n",
      "\t\u001b[96m\u001b[1mmovl\u001b[22m\u001b[39m\t\u001b[33m$5\u001b[39m\u001b[0m, \u001b[0m%edx\n",
      "\t\u001b[96m\u001b[1mcallq\u001b[22m\u001b[39m\t\u001b[0m*\u001b[0m%rax\n",
      "\t\u001b[96m\u001b[1maddq\u001b[22m\u001b[39m\t\u001b[33m$32\u001b[39m\u001b[0m, \u001b[0m%rsp\n",
      "\t\u001b[96m\u001b[1mpopq\u001b[22m\u001b[39m\t\u001b[0m%rbp\n",
      "\t\u001b[96m\u001b[1mretq\u001b[22m\u001b[39m\n",
      "\t\u001b[96m\u001b[1mnop\u001b[22m\u001b[39m\n"
     ]
    }
   ],
   "source": [
    "function H(n)\n",
    "    for i in 0:n^5-1\n",
    "    end\n",
    "end\n",
    "\n",
    "@code_native debuginfo=:none H(20)"
   ]
  },
  {
   "cell_type": "code",
   "execution_count": 1,
   "id": "74809f41-7ab4-47e4-be2a-5632359d9d21",
   "metadata": {},
   "outputs": [
    {
     "name": "stdout",
     "output_type": "stream",
     "text": [
      "VERSION = v\"1.6.1\"\n",
      "f(20) = 3.1415921324081726\n",
      "g(20) = 3.1415921324081726\n",
      "h(20) = 3.1415921324083294\n",
      "f(20) ≈ g(20) ≈ h(20) = true\n",
      "  60.828 ms (0 allocations: 0 bytes)\n",
      "  56.593 ms (0 allocations: 0 bytes)\n",
      "  59.277 ms (0 allocations: 0 bytes)\n"
     ]
    }
   ],
   "source": [
    "function f(n)\n",
    "    s = 0.0\n",
    "    for (i1, i2, i3, i4, i5) in Iterators.product(0:n-1, 0:n-1, 0:n-1, 0:n-1, 0:n-1)\n",
    "        x = evalpoly(n, (i5, i4, i3, i2, i1)) + 1\n",
    "        s += sin(x)/x\n",
    "    end\n",
    "    2s + 1\n",
    "end\n",
    "\n",
    "function g(n)\n",
    "    s = 0.0\n",
    "    for i1 in 0:n-1, i2 in 0:n-1, i3 in 0:n-1, i4 in 0:n-1, i5 in 0:n-1\n",
    "        x = evalpoly(n, (i1, i2, i3, i4, i5)) + 1\n",
    "        s += sin(x)/x\n",
    "    end\n",
    "    2s + 1\n",
    "end\n",
    "\n",
    "function h(n)\n",
    "    s = 0.0\n",
    "    for i in 0:n^5-1\n",
    "        x = float(i) + 1\n",
    "        s += sin(x)/x\n",
    "    end\n",
    "    2s + 1\n",
    "end\n",
    "\n",
    "using BenchmarkTools\n",
    "@show VERSION\n",
    "@show f(20)\n",
    "@show g(20)\n",
    "@show h(20)\n",
    "@show f(20) ≈ g(20) ≈ h(20)\n",
    "@btime f(20)\n",
    "@btime g(20)\n",
    "@btime h(20);"
   ]
  },
  {
   "cell_type": "code",
   "execution_count": 1,
   "id": "813274c7-96e0-4f4a-9dfa-45e0daa1007e",
   "metadata": {},
   "outputs": [
    {
     "name": "stdout",
     "output_type": "stream",
     "text": [
      "VERSION = v\"1.7.0-beta2\"\n",
      "f(20) = 3.1415921324081726\n",
      "g(20) = 3.1415921324081726\n",
      "h(20) = 3.1415921324083294\n",
      "f(20) ≈ g(20) ≈ h(20) = true\n",
      "  58.861 ms (0 allocations: 0 bytes)\n",
      "  59.426 ms (0 allocations: 0 bytes)\n",
      "  61.729 ms (0 allocations: 0 bytes)\n"
     ]
    }
   ],
   "source": [
    "function f(n)\n",
    "    s = 0.0\n",
    "    for (i1, i2, i3, i4, i5) in Iterators.product(0:n-1, 0:n-1, 0:n-1, 0:n-1, 0:n-1)\n",
    "        x = evalpoly(n, (i5, i4, i3, i2, i1)) + 1\n",
    "        s += sin(x)/x\n",
    "    end\n",
    "    2s + 1\n",
    "end\n",
    "\n",
    "function g(n)\n",
    "    s = 0.0\n",
    "    for i1 in 0:n-1, i2 in 0:n-1, i3 in 0:n-1, i4 in 0:n-1, i5 in 0:n-1\n",
    "        x = evalpoly(n, (i1, i2, i3, i4, i5)) + 1\n",
    "        s += sin(x)/x\n",
    "    end\n",
    "    2s + 1\n",
    "end\n",
    "\n",
    "function h(n)\n",
    "    s = 0.0\n",
    "    for i in 0:n^5-1\n",
    "        x = float(i) + 1\n",
    "        s += sin(x)/x\n",
    "    end\n",
    "    2s + 1\n",
    "end\n",
    "\n",
    "using BenchmarkTools\n",
    "@show VERSION\n",
    "@show f(20)\n",
    "@show g(20)\n",
    "@show h(20)\n",
    "@show f(20) ≈ g(20) ≈ h(20)\n",
    "@btime f(20)\n",
    "@btime g(20)\n",
    "@btime h(20);"
   ]
  },
  {
   "cell_type": "code",
   "execution_count": null,
   "id": "6c256d78-fd6e-4766-bc98-93b43beedebc",
   "metadata": {},
   "outputs": [],
   "source": []
  }
 ],
 "metadata": {
  "jupytext": {
   "formats": "ipynb,auto:hydrogen"
  },
  "kernelspec": {
   "display_name": "Julia 1.6.1",
   "language": "julia",
   "name": "julia-1.6"
  },
  "language_info": {
   "file_extension": ".jl",
   "mimetype": "application/julia",
   "name": "julia",
   "version": "1.6.1"
  }
 },
 "nbformat": 4,
 "nbformat_minor": 5
}
