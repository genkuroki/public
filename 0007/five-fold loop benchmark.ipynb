{
 "cells": [
  {
   "cell_type": "code",
   "execution_count": 1,
   "id": "74809f41-7ab4-47e4-be2a-5632359d9d21",
   "metadata": {},
   "outputs": [
    {
     "name": "stdout",
     "output_type": "stream",
     "text": [
      "VERSION = v\"1.6.1\"\n",
      "f(20) = 3.1415921324081726\n",
      "g(20) = 3.1415921324081726\n",
      "h(20) = 3.1415921324083294\n",
      "f(20) ≈ g(20) ≈ h(20) = true\n",
      "  60.828 ms (0 allocations: 0 bytes)\n",
      "  56.593 ms (0 allocations: 0 bytes)\n",
      "  59.277 ms (0 allocations: 0 bytes)\n"
     ]
    }
   ],
   "source": [
    "function f(n)\n",
    "    s = 0.0\n",
    "    for (i1, i2, i3, i4, i5) in Iterators.product(0:n-1, 0:n-1, 0:n-1, 0:n-1, 0:n-1)\n",
    "        x = evalpoly(n, (i5, i4, i3, i2, i1)) + 1\n",
    "        s += sin(x)/x\n",
    "    end\n",
    "    2s + 1\n",
    "end\n",
    "\n",
    "function g(n)\n",
    "    s = 0.0\n",
    "    for i1 in 0:n-1, i2 in 0:n-1, i3 in 0:n-1, i4 in 0:n-1, i5 in 0:n-1\n",
    "        x = evalpoly(n, (i1, i2, i3, i4, i5)) + 1\n",
    "        s += sin(x)/x\n",
    "    end\n",
    "    2s + 1\n",
    "end\n",
    "\n",
    "function h(n)\n",
    "    s = 0.0\n",
    "    for i in 0:n^5-1\n",
    "        x = float(i) + 1\n",
    "        s += sin(x)/x\n",
    "    end\n",
    "    2s + 1\n",
    "end\n",
    "\n",
    "using BenchmarkTools\n",
    "@show VERSION\n",
    "@show f(20)\n",
    "@show g(20)\n",
    "@show h(20)\n",
    "@show f(20) ≈ g(20) ≈ h(20)\n",
    "@btime f(20)\n",
    "@btime g(20)\n",
    "@btime h(20);"
   ]
  },
  {
   "cell_type": "code",
   "execution_count": 1,
   "id": "813274c7-96e0-4f4a-9dfa-45e0daa1007e",
   "metadata": {},
   "outputs": [
    {
     "name": "stdout",
     "output_type": "stream",
     "text": [
      "VERSION = v\"1.7.0-beta2\"\n",
      "f(20) = 3.1415921324081726\n",
      "g(20) = 3.1415921324081726\n",
      "h(20) = 3.1415921324083294\n",
      "f(20) ≈ g(20) ≈ h(20) = true\n",
      "  58.861 ms (0 allocations: 0 bytes)\n",
      "  59.426 ms (0 allocations: 0 bytes)\n",
      "  61.729 ms (0 allocations: 0 bytes)\n"
     ]
    }
   ],
   "source": [
    "function f(n)\n",
    "    s = 0.0\n",
    "    for (i1, i2, i3, i4, i5) in Iterators.product(0:n-1, 0:n-1, 0:n-1, 0:n-1, 0:n-1)\n",
    "        x = evalpoly(n, (i5, i4, i3, i2, i1)) + 1\n",
    "        s += sin(x)/x\n",
    "    end\n",
    "    2s + 1\n",
    "end\n",
    "\n",
    "function g(n)\n",
    "    s = 0.0\n",
    "    for i1 in 0:n-1, i2 in 0:n-1, i3 in 0:n-1, i4 in 0:n-1, i5 in 0:n-1\n",
    "        x = evalpoly(n, (i1, i2, i3, i4, i5)) + 1\n",
    "        s += sin(x)/x\n",
    "    end\n",
    "    2s + 1\n",
    "end\n",
    "\n",
    "function h(n)\n",
    "    s = 0.0\n",
    "    for i in 0:n^5-1\n",
    "        x = float(i) + 1\n",
    "        s += sin(x)/x\n",
    "    end\n",
    "    2s + 1\n",
    "end\n",
    "\n",
    "using BenchmarkTools\n",
    "@show VERSION\n",
    "@show f(20)\n",
    "@show g(20)\n",
    "@show h(20)\n",
    "@show f(20) ≈ g(20) ≈ h(20)\n",
    "@btime f(20)\n",
    "@btime g(20)\n",
    "@btime h(20);"
   ]
  },
  {
   "cell_type": "code",
   "execution_count": null,
   "id": "6c256d78-fd6e-4766-bc98-93b43beedebc",
   "metadata": {},
   "outputs": [],
   "source": []
  }
 ],
 "metadata": {
  "jupytext": {
   "formats": "ipynb,auto:hydrogen"
  },
  "kernelspec": {
   "display_name": "Julia 1.7.0-beta2",
   "language": "julia",
   "name": "julia-1.7"
  },
  "language_info": {
   "file_extension": ".jl",
   "mimetype": "application/julia",
   "name": "julia",
   "version": "1.7.0"
  }
 },
 "nbformat": 4,
 "nbformat_minor": 5
}
