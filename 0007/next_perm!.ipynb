{
 "cells": [
  {
   "cell_type": "markdown",
   "id": "e1fa2ef9-6ac6-4eb4-a65f-d518942e996d",
   "metadata": {},
   "source": [
    "* https://github.com/JuliaMath/Combinatorics.jl/blob/master/src/permutations.jl#L47\n",
    "* https://discourse.julialang.org/t/is-there-a-function-behaving-the-same-as-next-permutation-does-in-c/63451/13"
   ]
  },
  {
   "cell_type": "code",
   "execution_count": 1,
   "id": "17da2df7-bf35-4071-8125-5fe82e054123",
   "metadata": {},
   "outputs": [
    {
     "data": {
      "text/plain": [
       "Main.O"
      ]
     },
     "execution_count": 1,
     "metadata": {},
     "output_type": "execute_result"
    }
   ],
   "source": [
    "module O\n",
    "\n",
    "function next_perm!(v::AbstractVector)\n",
    "    length(v) ≤ 1 && return false\n",
    "    \n",
    "    k = findlast(isless(v[i], v[i+1]) for i in firstindex(v):lastindex(v)-1)\n",
    "    isnothing(k) && (reverse!(v); return false)\n",
    "    i = k + firstindex(v)-1\n",
    "    \n",
    "    j = findlast(isless(v[i], v[j]) for j in i+1:lastindex(v)) + i\n",
    "    v[i], v[j] = v[j], v[i]\n",
    "    reverse!(v, i + 1)\n",
    "    return true\n",
    "end\n",
    "\n",
    "function collect_perm!(v::AbstractVector)\n",
    "    a = [copy(v)]\n",
    "    while next_perm!(v) push!(a, copy(v)) end\n",
    "    a\n",
    "end\n",
    "\n",
    "struct Perm{T<:AbstractVector} v::T end\n",
    "perm(v::AbstractVector; kwargs...) = Perm(sort(v; kwargs...))\n",
    "\n",
    "function Base.length(p::Perm)\n",
    "    v = p.v\n",
    "    N = factorial(length(v))\n",
    "    i = firstindex(v)\n",
    "    for j in eachindex(v)\n",
    "        if isless(v[i], v[j])\n",
    "            N = N ÷ factorial(j-i)\n",
    "            i = j\n",
    "        end\n",
    "    end\n",
    "    N = N ÷ factorial(lastindex(v)-i+1)\n",
    "    N\n",
    "end\n",
    "\n",
    "Base.eltype(p::Perm{T}) where T<:AbstractVector = T\n",
    "\n",
    "function Base.iterate(p::Perm)\n",
    "    s = copy(p.v)\n",
    "    t = copy(s)\n",
    "    next_perm!(t) || return (s, nothing)\n",
    "    u = copy(t)\n",
    "    next_perm!(u) || return (s, (t, nothing))\n",
    "    return (s, (t, u))\n",
    "end\n",
    "\n",
    "function Base.iterate(p::Perm, state)\n",
    "    isnothing(state) && return nothing\n",
    "    s, t = state\n",
    "    isnothing(t) && return (s, nothing)\n",
    "    u = copy(t)\n",
    "    next_perm!(u) || return (s, (t, nothing))\n",
    "    return (s, (t, u))\n",
    "end\n",
    "\n",
    "#function Base.iterate(p::Perm, s = copy(p.v))\n",
    "#    isnothing(s) && return nothing\n",
    "#    next_perm!(s) || return (s, nothing)\n",
    "#    return (copy(s), s)\n",
    "#end\n",
    "\n",
    "end"
   ]
  },
  {
   "cell_type": "code",
   "execution_count": 2,
   "id": "b60b163d-8378-463e-8393-a193ed34b9a8",
   "metadata": {},
   "outputs": [],
   "source": [
    "using BenchmarkTools"
   ]
  },
  {
   "cell_type": "code",
   "execution_count": 3,
   "id": "2f33d9a2-2798-427b-b1fb-2b01d9370439",
   "metadata": {},
   "outputs": [
    {
     "data": {
      "text/plain": [
       "([1.0, 2.0, NaN, NaN], ([1.0, NaN, 2.0, NaN], [1.0, NaN, NaN, 2.0]))"
      ]
     },
     "execution_count": 3,
     "metadata": {},
     "output_type": "execute_result"
    }
   ],
   "source": [
    "p = O.perm([NaN, NaN, 2, 1])\n",
    "_, state = iterate(p)"
   ]
  },
  {
   "cell_type": "code",
   "execution_count": 4,
   "id": "592e99bc-041d-4a0b-8bf7-73613121ae6f",
   "metadata": {},
   "outputs": [
    {
     "data": {
      "text/plain": [
       "([1.0, NaN, 2.0, NaN], ([1.0, NaN, NaN, 2.0], [2.0, 1.0, NaN, NaN]))"
      ]
     },
     "execution_count": 4,
     "metadata": {},
     "output_type": "execute_result"
    }
   ],
   "source": [
    "iterate(p, state)"
   ]
  },
  {
   "cell_type": "code",
   "execution_count": 5,
   "id": "f7f6c002-acd8-4ab3-8894-a46a728f6fe4",
   "metadata": {},
   "outputs": [
    {
     "name": "stdout",
     "output_type": "stream",
     "text": [
      "  853.846 ns (25 allocations: 1.92 KiB)\n"
     ]
    },
    {
     "data": {
      "text/plain": [
       "12-element Vector{Vector{Float64}}:\n",
       " [1.0, 2.0, NaN, NaN]\n",
       " [1.0, NaN, 2.0, NaN]\n",
       " [1.0, NaN, NaN, 2.0]\n",
       " [2.0, 1.0, NaN, NaN]\n",
       " [2.0, NaN, 1.0, NaN]\n",
       " [2.0, NaN, NaN, 1.0]\n",
       " [NaN, 1.0, 2.0, NaN]\n",
       " [NaN, 1.0, NaN, 2.0]\n",
       " [NaN, 2.0, 1.0, NaN]\n",
       " [NaN, 2.0, NaN, 1.0]\n",
       " [NaN, NaN, 1.0, 2.0]\n",
       " [NaN, NaN, 2.0, 1.0]"
      ]
     },
     "execution_count": 5,
     "metadata": {},
     "output_type": "execute_result"
    }
   ],
   "source": [
    "p = O.perm([NaN, NaN, 2, 1])\n",
    "@btime collect($p)"
   ]
  },
  {
   "cell_type": "code",
   "execution_count": 6,
   "id": "cdbcd2b8-5e88-40c5-a3af-2792414e1452",
   "metadata": {},
   "outputs": [
    {
     "name": "stdout",
     "output_type": "stream",
     "text": [
      "  856.250 ns (15 allocations: 1.81 KiB)\n"
     ]
    },
    {
     "data": {
      "text/plain": [
       "12-element Vector{Vector{Float64}}:\n",
       " [1.0, 2.0, NaN, NaN]\n",
       " [1.0, NaN, 2.0, NaN]\n",
       " [1.0, NaN, NaN, 2.0]\n",
       " [2.0, 1.0, NaN, NaN]\n",
       " [2.0, NaN, 1.0, NaN]\n",
       " [2.0, NaN, NaN, 1.0]\n",
       " [NaN, 1.0, 2.0, NaN]\n",
       " [NaN, 1.0, NaN, 2.0]\n",
       " [NaN, 2.0, 1.0, NaN]\n",
       " [NaN, 2.0, NaN, 1.0]\n",
       " [NaN, NaN, 1.0, 2.0]\n",
       " [NaN, NaN, 2.0, 1.0]"
      ]
     },
     "execution_count": 6,
     "metadata": {},
     "output_type": "execute_result"
    }
   ],
   "source": [
    "v = sort([NaN, NaN, 2, 1])\n",
    "@btime O.collect_perm!($v)"
   ]
  },
  {
   "cell_type": "code",
   "execution_count": 7,
   "id": "0d681552-8015-49cb-948e-ea8df7f4f66d",
   "metadata": {},
   "outputs": [
    {
     "name": "stdout",
     "output_type": "stream",
     "text": [
      "w = [1.0, 2.0, NaN, NaN]\n",
      "w = [1.0, NaN, 2.0, NaN]\n",
      "w = [1.0, NaN, NaN, 2.0]\n",
      "w = [2.0, 1.0, NaN, NaN]\n",
      "w = [2.0, NaN, 1.0, NaN]\n",
      "w = [2.0, NaN, NaN, 1.0]\n",
      "w = [NaN, 1.0, 2.0, NaN]\n",
      "w = [NaN, 1.0, NaN, 2.0]\n",
      "w = [NaN, 2.0, 1.0, NaN]\n",
      "w = [NaN, 2.0, NaN, 1.0]\n",
      "w = [NaN, NaN, 1.0, 2.0]\n",
      "w = [NaN, NaN, 2.0, 1.0]\n"
     ]
    }
   ],
   "source": [
    "w = sort(v)\n",
    "@show w\n",
    "while O.next_perm!(w)\n",
    "    @show w\n",
    "end"
   ]
  },
  {
   "cell_type": "code",
   "execution_count": 8,
   "id": "ec9b68b3-b711-44d5-bb31-91b251fc871f",
   "metadata": {},
   "outputs": [
    {
     "name": "stdout",
     "output_type": "stream",
     "text": [
      "s = [1, 1, 2, 2, 2, 3, 4, 5, 6, 6] = [1, 1, 2, 2, 2, 3, 4, 5, 6, 6]\n",
      "  5.509 ms (0 allocations: 0 bytes)\n"
     ]
    },
    {
     "data": {
      "text/plain": [
       "151200"
      ]
     },
     "execution_count": 8,
     "metadata": {},
     "output_type": "execute_result"
    }
   ],
   "source": [
    "test_next_perm!(v) = (c = 1; while O.next_perm!(v) c += 1 end; c)\n",
    "@show s = [1, 1, 2, 2, 2, 3, 4, 5, 6, 6]\n",
    "@btime test_next_perm!($s)"
   ]
  },
  {
   "cell_type": "code",
   "execution_count": 9,
   "id": "3051cbc3-6201-42cc-81e0-c73e05ec7804",
   "metadata": {},
   "outputs": [
    {
     "name": "stdout",
     "output_type": "stream",
     "text": [
      "  10.358 ms (302402 allocations: 28.84 MiB)\n"
     ]
    },
    {
     "data": {
      "text/plain": [
       "151200"
      ]
     },
     "execution_count": 9,
     "metadata": {},
     "output_type": "execute_result"
    }
   ],
   "source": [
    "c = @btime collect($(O.perm(s)))\n",
    "length(c)"
   ]
  },
  {
   "cell_type": "code",
   "execution_count": 10,
   "id": "b1a8aa58-e3a6-4f96-935a-af6f514d932b",
   "metadata": {},
   "outputs": [
    {
     "name": "stdout",
     "output_type": "stream",
     "text": [
      "MethodInstance for Main.O.next_perm!(::\u001b[0mVector{Int64})\n",
      "  from next_perm!(v::AbstractVector) in Main.O at In[1]:3\n",
      "Arguments\n",
      "  #self#\u001b[36m::Core.Const(Main.O.next_perm!)\u001b[39m\n",
      "  v\u001b[36m::Vector{Int64}\u001b[39m\n",
      "Locals\n",
      "  #2\u001b[36m::Main.O.var\"#2#4\"{Vector{Int64}, Int64}\u001b[39m\n",
      "  #1\u001b[36m::Main.O.var\"#1#3\"{Vector{Int64}}\u001b[39m\n",
      "  j\u001b[36m::Int64\u001b[39m\n",
      "  i\u001b[36m::Int64\u001b[39m\n",
      "  k\u001b[33m\u001b[1m::Union{Nothing, Int64}\u001b[22m\u001b[39m\n",
      "Body\u001b[36m::Bool\u001b[39m\n",
      "\u001b[90m1 ─\u001b[39m       Core.NewvarNode(:(#2))\n",
      "\u001b[90m│  \u001b[39m       Core.NewvarNode(:(#1))\n",
      "\u001b[90m│  \u001b[39m       Core.NewvarNode(:(j))\n",
      "\u001b[90m│  \u001b[39m       Core.NewvarNode(:(i))\n",
      "\u001b[90m│  \u001b[39m       Core.NewvarNode(:(k))\n",
      "\u001b[90m│  \u001b[39m %6  = Main.O.length(v)\u001b[36m::Int64\u001b[39m\n",
      "\u001b[90m│  \u001b[39m %7  = (%6 ≤ 1)\u001b[36m::Bool\u001b[39m\n",
      "\u001b[90m└──\u001b[39m       goto #3 if not %7\n",
      "\u001b[90m2 ─\u001b[39m       return false\n",
      "\u001b[90m3 ─\u001b[39m %10 = Main.O.:(var\"#1#3\")\u001b[36m::Core.Const(Main.O.var\"#1#3\")\u001b[39m\n",
      "\u001b[90m│  \u001b[39m %11 = Core.typeof(v)\u001b[36m::Core.Const(Vector{Int64})\u001b[39m\n",
      "\u001b[90m│  \u001b[39m %12 = Core.apply_type(%10, %11)\u001b[36m::Core.Const(Main.O.var\"#1#3\"{Vector{Int64}})\u001b[39m\n",
      "\u001b[90m│  \u001b[39m       (#1 = %new(%12, v))\n",
      "\u001b[90m│  \u001b[39m %14 = #1\u001b[36m::Main.O.var\"#1#3\"{Vector{Int64}}\u001b[39m\n",
      "\u001b[90m│  \u001b[39m %15 = Main.O.firstindex(v)\u001b[36m::Core.Const(1)\u001b[39m\n",
      "\u001b[90m│  \u001b[39m %16 = Main.O.lastindex(v)\u001b[36m::Int64\u001b[39m\n",
      "\u001b[90m│  \u001b[39m %17 = (%16 - 1)\u001b[36m::Int64\u001b[39m\n",
      "\u001b[90m│  \u001b[39m %18 = (%15:%17)\u001b[36m::Core.PartialStruct(UnitRange{Int64}, Any[Core.Const(1), Int64])\u001b[39m\n",
      "\u001b[90m│  \u001b[39m %19 = Base.Generator(%14, %18)\u001b[36m::Core.PartialStruct(Base.Generator{UnitRange{Int64}, Main.O.var\"#1#3\"{Vector{Int64}}}, Any[Main.O.var\"#1#3\"{Vector{Int64}}, Core.PartialStruct(UnitRange{Int64}, Any[Core.Const(1), Int64])])\u001b[39m\n",
      "\u001b[90m│  \u001b[39m       (k = Main.O.findlast(%19))\n",
      "\u001b[90m│  \u001b[39m %21 = Main.O.isnothing(k)\u001b[36m::Bool\u001b[39m\n",
      "\u001b[90m└──\u001b[39m       goto #5 if not %21\n",
      "\u001b[90m4 ─\u001b[39m       Main.O.reverse!(v)\n",
      "\u001b[90m└──\u001b[39m       return false\n",
      "\u001b[90m5 ─\u001b[39m %25 = k\u001b[36m::Int64\u001b[39m\n",
      "\u001b[90m│  \u001b[39m %26 = Main.O.firstindex(v)\u001b[36m::Core.Const(1)\u001b[39m\n",
      "\u001b[90m│  \u001b[39m %27 = (%25 + %26)\u001b[36m::Int64\u001b[39m\n",
      "\u001b[90m│  \u001b[39m       (i = %27 - 1)\n",
      "\u001b[90m│  \u001b[39m %29 = Main.O.:(var\"#2#4\")\u001b[36m::Core.Const(Main.O.var\"#2#4\")\u001b[39m\n",
      "\u001b[90m│  \u001b[39m %30 = Core.typeof(v)\u001b[36m::Core.Const(Vector{Int64})\u001b[39m\n",
      "\u001b[90m│  \u001b[39m %31 = Core.typeof(i)\u001b[36m::Core.Const(Int64)\u001b[39m\n",
      "\u001b[90m│  \u001b[39m %32 = Core.apply_type(%29, %30, %31)\u001b[36m::Core.Const(Main.O.var\"#2#4\"{Vector{Int64}, Int64})\u001b[39m\n",
      "\u001b[90m│  \u001b[39m       (#2 = %new(%32, v, i))\n",
      "\u001b[90m│  \u001b[39m %34 = #2\u001b[36m::Main.O.var\"#2#4\"{Vector{Int64}, Int64}\u001b[39m\n",
      "\u001b[90m│  \u001b[39m %35 = (i + 1)\u001b[36m::Int64\u001b[39m\n",
      "\u001b[90m│  \u001b[39m %36 = Main.O.lastindex(v)\u001b[36m::Int64\u001b[39m\n",
      "\u001b[90m│  \u001b[39m %37 = (%35:%36)\u001b[36m::UnitRange{Int64}\u001b[39m\n",
      "\u001b[90m│  \u001b[39m %38 = Base.Generator(%34, %37)\u001b[36m::Base.Generator{UnitRange{Int64}, Main.O.var\"#2#4\"{Vector{Int64}, Int64}}\u001b[39m\n",
      "\u001b[90m│  \u001b[39m %39 = Main.O.findlast(%38)\u001b[33m\u001b[1m::Union{Nothing, Int64}\u001b[22m\u001b[39m\n",
      "\u001b[90m│  \u001b[39m       (j = %39 + i)\n",
      "\u001b[90m│  \u001b[39m %41 = Base.getindex(v, j)\u001b[36m::Int64\u001b[39m\n",
      "\u001b[90m│  \u001b[39m %42 = Base.getindex(v, i)\u001b[36m::Int64\u001b[39m\n",
      "\u001b[90m│  \u001b[39m       Base.setindex!(v, %41, i)\n",
      "\u001b[90m│  \u001b[39m       Base.setindex!(v, %42, j)\n",
      "\u001b[90m│  \u001b[39m %45 = (i + 1)\u001b[36m::Int64\u001b[39m\n",
      "\u001b[90m│  \u001b[39m       Main.O.reverse!(v, %45)\n",
      "\u001b[90m└──\u001b[39m       return true\n",
      "\n"
     ]
    }
   ],
   "source": [
    "@code_warntype O.next_perm!(s)"
   ]
  },
  {
   "cell_type": "code",
   "execution_count": 11,
   "id": "a935bdf9-2b02-48cb-beb4-8c3571067a53",
   "metadata": {},
   "outputs": [
    {
     "name": "stdout",
     "output_type": "stream",
     "text": [
      "t = OffsetArray([1, 1, 2, 2, 2, 3, 4, 5, 6, 6], -5:4) = [1, 1, 2, 2, 2, 3, 4, 5, 6, 6]\n",
      "  11.739 ms (302402 allocations: 32.30 MiB)\n"
     ]
    },
    {
     "data": {
      "text/plain": [
       "151200-element Vector{OffsetVector{Int64, Vector{Int64}}}:\n",
       " [1, 1, 2, 2, 2, 3, 4, 5, 6, 6]\n",
       " [1, 1, 2, 2, 2, 3, 4, 6, 5, 6]\n",
       " [1, 1, 2, 2, 2, 3, 4, 6, 6, 5]\n",
       " [1, 1, 2, 2, 2, 3, 5, 4, 6, 6]\n",
       " [1, 1, 2, 2, 2, 3, 5, 6, 4, 6]\n",
       " [1, 1, 2, 2, 2, 3, 5, 6, 6, 4]\n",
       " [1, 1, 2, 2, 2, 3, 6, 4, 5, 6]\n",
       " [1, 1, 2, 2, 2, 3, 6, 4, 6, 5]\n",
       " [1, 1, 2, 2, 2, 3, 6, 5, 4, 6]\n",
       " [1, 1, 2, 2, 2, 3, 6, 5, 6, 4]\n",
       " [1, 1, 2, 2, 2, 3, 6, 6, 4, 5]\n",
       " [1, 1, 2, 2, 2, 3, 6, 6, 5, 4]\n",
       " [1, 1, 2, 2, 2, 4, 3, 5, 6, 6]\n",
       " ⋮\n",
       " [6, 6, 5, 4, 2, 3, 2, 1, 2, 1]\n",
       " [6, 6, 5, 4, 2, 3, 2, 2, 1, 1]\n",
       " [6, 6, 5, 4, 3, 1, 1, 2, 2, 2]\n",
       " [6, 6, 5, 4, 3, 1, 2, 1, 2, 2]\n",
       " [6, 6, 5, 4, 3, 1, 2, 2, 1, 2]\n",
       " [6, 6, 5, 4, 3, 1, 2, 2, 2, 1]\n",
       " [6, 6, 5, 4, 3, 2, 1, 1, 2, 2]\n",
       " [6, 6, 5, 4, 3, 2, 1, 2, 1, 2]\n",
       " [6, 6, 5, 4, 3, 2, 1, 2, 2, 1]\n",
       " [6, 6, 5, 4, 3, 2, 2, 1, 1, 2]\n",
       " [6, 6, 5, 4, 3, 2, 2, 1, 2, 1]\n",
       " [6, 6, 5, 4, 3, 2, 2, 2, 1, 1]"
      ]
     },
     "execution_count": 11,
     "metadata": {},
     "output_type": "execute_result"
    }
   ],
   "source": [
    "using OffsetArrays\n",
    "@show t = OffsetArray([1, 1, 2, 2, 2, 3, 4, 5, 6, 6], -5:4)\n",
    "@btime collect($(O.perm(t)))"
   ]
  },
  {
   "cell_type": "code",
   "execution_count": 12,
   "id": "09887cda-e392-4624-9612-35ed27ce8d8e",
   "metadata": {},
   "outputs": [
    {
     "name": "stdout",
     "output_type": "stream",
     "text": [
      "  11.757 ms (151212 allocations: 28.98 MiB)\n"
     ]
    },
    {
     "data": {
      "text/plain": [
       "151200-element Vector{OffsetVector{Int64, Vector{Int64}}}:\n",
       " [1, 1, 2, 2, 2, 3, 4, 5, 6, 6]\n",
       " [1, 1, 2, 2, 2, 3, 4, 6, 5, 6]\n",
       " [1, 1, 2, 2, 2, 3, 4, 6, 6, 5]\n",
       " [1, 1, 2, 2, 2, 3, 5, 4, 6, 6]\n",
       " [1, 1, 2, 2, 2, 3, 5, 6, 4, 6]\n",
       " [1, 1, 2, 2, 2, 3, 5, 6, 6, 4]\n",
       " [1, 1, 2, 2, 2, 3, 6, 4, 5, 6]\n",
       " [1, 1, 2, 2, 2, 3, 6, 4, 6, 5]\n",
       " [1, 1, 2, 2, 2, 3, 6, 5, 4, 6]\n",
       " [1, 1, 2, 2, 2, 3, 6, 5, 6, 4]\n",
       " [1, 1, 2, 2, 2, 3, 6, 6, 4, 5]\n",
       " [1, 1, 2, 2, 2, 3, 6, 6, 5, 4]\n",
       " [1, 1, 2, 2, 2, 4, 3, 5, 6, 6]\n",
       " ⋮\n",
       " [6, 6, 5, 4, 2, 3, 2, 1, 2, 1]\n",
       " [6, 6, 5, 4, 2, 3, 2, 2, 1, 1]\n",
       " [6, 6, 5, 4, 3, 1, 1, 2, 2, 2]\n",
       " [6, 6, 5, 4, 3, 1, 2, 1, 2, 2]\n",
       " [6, 6, 5, 4, 3, 1, 2, 2, 1, 2]\n",
       " [6, 6, 5, 4, 3, 1, 2, 2, 2, 1]\n",
       " [6, 6, 5, 4, 3, 2, 1, 1, 2, 2]\n",
       " [6, 6, 5, 4, 3, 2, 1, 2, 1, 2]\n",
       " [6, 6, 5, 4, 3, 2, 1, 2, 2, 1]\n",
       " [6, 6, 5, 4, 3, 2, 2, 1, 1, 2]\n",
       " [6, 6, 5, 4, 3, 2, 2, 1, 2, 1]\n",
       " [6, 6, 5, 4, 3, 2, 2, 2, 1, 1]"
      ]
     },
     "execution_count": 12,
     "metadata": {},
     "output_type": "execute_result"
    }
   ],
   "source": [
    "@btime O.collect_perm!($(sort(t)))"
   ]
  },
  {
   "cell_type": "code",
   "execution_count": 13,
   "id": "08cffb63-8339-42a7-b6af-ac3804a8273a",
   "metadata": {},
   "outputs": [
    {
     "name": "stdout",
     "output_type": "stream",
     "text": [
      "MethodInstance for Main.O.next_perm!(::\u001b[0mOffsetVector{Int64, Vector{Int64}})\n",
      "  from next_perm!(v::AbstractVector) in Main.O at In[1]:3\n",
      "Arguments\n",
      "  #self#\u001b[36m::Core.Const(Main.O.next_perm!)\u001b[39m\n",
      "  v\u001b[36m::OffsetVector{Int64, Vector{Int64}}\u001b[39m\n",
      "Locals\n",
      "  #2\u001b[36m::Main.O.var\"#2#4\"{OffsetVector{Int64, Vector{Int64}}, Int64}\u001b[39m\n",
      "  #1\u001b[36m::Main.O.var\"#1#3\"{OffsetVector{Int64, Vector{Int64}}}\u001b[39m\n",
      "  j\u001b[36m::Int64\u001b[39m\n",
      "  i\u001b[36m::Int64\u001b[39m\n",
      "  k\u001b[33m\u001b[1m::Union{Nothing, Int64}\u001b[22m\u001b[39m\n",
      "Body\u001b[36m::Bool\u001b[39m\n",
      "\u001b[90m1 ─\u001b[39m       Core.NewvarNode(:(#2))\n",
      "\u001b[90m│  \u001b[39m       Core.NewvarNode(:(#1))\n",
      "\u001b[90m│  \u001b[39m       Core.NewvarNode(:(j))\n",
      "\u001b[90m│  \u001b[39m       Core.NewvarNode(:(i))\n",
      "\u001b[90m│  \u001b[39m       Core.NewvarNode(:(k))\n",
      "\u001b[90m│  \u001b[39m %6  = Main.O.length(v)\u001b[36m::Int64\u001b[39m\n",
      "\u001b[90m│  \u001b[39m %7  = (%6 ≤ 1)\u001b[36m::Bool\u001b[39m\n",
      "\u001b[90m└──\u001b[39m       goto #3 if not %7\n",
      "\u001b[90m2 ─\u001b[39m       return false\n",
      "\u001b[90m3 ─\u001b[39m %10 = Main.O.:(var\"#1#3\")\u001b[36m::Core.Const(Main.O.var\"#1#3\")\u001b[39m\n",
      "\u001b[90m│  \u001b[39m %11 = Core.typeof(v)\u001b[36m::Core.Const(OffsetVector{Int64, Vector{Int64}})\u001b[39m\n",
      "\u001b[90m│  \u001b[39m %12 = Core.apply_type(%10, %11)\u001b[36m::Core.Const(Main.O.var\"#1#3\"{OffsetVector{Int64, Vector{Int64}}})\u001b[39m\n",
      "\u001b[90m│  \u001b[39m       (#1 = %new(%12, v))\n",
      "\u001b[90m│  \u001b[39m %14 = #1\u001b[36m::Main.O.var\"#1#3\"{OffsetVector{Int64, Vector{Int64}}}\u001b[39m\n",
      "\u001b[90m│  \u001b[39m %15 = Main.O.firstindex(v)\u001b[36m::Int64\u001b[39m\n",
      "\u001b[90m│  \u001b[39m %16 = Main.O.lastindex(v)\u001b[36m::Int64\u001b[39m\n",
      "\u001b[90m│  \u001b[39m %17 = (%16 - 1)\u001b[36m::Int64\u001b[39m\n",
      "\u001b[90m│  \u001b[39m %18 = (%15:%17)\u001b[36m::UnitRange{Int64}\u001b[39m\n",
      "\u001b[90m│  \u001b[39m %19 = Base.Generator(%14, %18)\u001b[36m::Base.Generator{UnitRange{Int64}, Main.O.var\"#1#3\"{OffsetVector{Int64, Vector{Int64}}}}\u001b[39m\n",
      "\u001b[90m│  \u001b[39m       (k = Main.O.findlast(%19))\n",
      "\u001b[90m│  \u001b[39m %21 = Main.O.isnothing(k)\u001b[36m::Bool\u001b[39m\n",
      "\u001b[90m└──\u001b[39m       goto #5 if not %21\n",
      "\u001b[90m4 ─\u001b[39m       Main.O.reverse!(v)\n",
      "\u001b[90m└──\u001b[39m       return false\n",
      "\u001b[90m5 ─\u001b[39m %25 = k\u001b[36m::Int64\u001b[39m\n",
      "\u001b[90m│  \u001b[39m %26 = Main.O.firstindex(v)\u001b[36m::Int64\u001b[39m\n",
      "\u001b[90m│  \u001b[39m %27 = (%25 + %26)\u001b[36m::Int64\u001b[39m\n",
      "\u001b[90m│  \u001b[39m       (i = %27 - 1)\n",
      "\u001b[90m│  \u001b[39m %29 = Main.O.:(var\"#2#4\")\u001b[36m::Core.Const(Main.O.var\"#2#4\")\u001b[39m\n",
      "\u001b[90m│  \u001b[39m %30 = Core.typeof(v)\u001b[36m::Core.Const(OffsetVector{Int64, Vector{Int64}})\u001b[39m\n",
      "\u001b[90m│  \u001b[39m %31 = Core.typeof(i)\u001b[36m::Core.Const(Int64)\u001b[39m\n",
      "\u001b[90m│  \u001b[39m %32 = Core.apply_type(%29, %30, %31)\u001b[36m::Core.Const(Main.O.var\"#2#4\"{OffsetVector{Int64, Vector{Int64}}, Int64})\u001b[39m\n",
      "\u001b[90m│  \u001b[39m       (#2 = %new(%32, v, i))\n",
      "\u001b[90m│  \u001b[39m %34 = #2\u001b[36m::Main.O.var\"#2#4\"{OffsetVector{Int64, Vector{Int64}}, Int64}\u001b[39m\n",
      "\u001b[90m│  \u001b[39m %35 = (i + 1)\u001b[36m::Int64\u001b[39m\n",
      "\u001b[90m│  \u001b[39m %36 = Main.O.lastindex(v)\u001b[36m::Int64\u001b[39m\n",
      "\u001b[90m│  \u001b[39m %37 = (%35:%36)\u001b[36m::UnitRange{Int64}\u001b[39m\n",
      "\u001b[90m│  \u001b[39m %38 = Base.Generator(%34, %37)\u001b[36m::Base.Generator{UnitRange{Int64}, Main.O.var\"#2#4\"{OffsetVector{Int64, Vector{Int64}}, Int64}}\u001b[39m\n",
      "\u001b[90m│  \u001b[39m %39 = Main.O.findlast(%38)\u001b[33m\u001b[1m::Union{Nothing, Int64}\u001b[22m\u001b[39m\n",
      "\u001b[90m│  \u001b[39m       (j = %39 + i)\n",
      "\u001b[90m│  \u001b[39m %41 = Base.getindex(v, j)\u001b[36m::Int64\u001b[39m\n",
      "\u001b[90m│  \u001b[39m %42 = Base.getindex(v, i)\u001b[36m::Int64\u001b[39m\n",
      "\u001b[90m│  \u001b[39m       Base.setindex!(v, %41, i)\n",
      "\u001b[90m│  \u001b[39m       Base.setindex!(v, %42, j)\n",
      "\u001b[90m│  \u001b[39m %45 = (i + 1)\u001b[36m::Int64\u001b[39m\n",
      "\u001b[90m│  \u001b[39m       Main.O.reverse!(v, %45)\n",
      "\u001b[90m└──\u001b[39m       return true\n",
      "\n"
     ]
    }
   ],
   "source": [
    "@code_warntype O.next_perm!(t)"
   ]
  },
  {
   "cell_type": "code",
   "execution_count": null,
   "id": "89a80e60-154c-4c3b-b726-b230d9f4f347",
   "metadata": {},
   "outputs": [],
   "source": []
  }
 ],
 "metadata": {
  "jupytext": {
   "formats": "ipynb,auto:hydrogen"
  },
  "kernelspec": {
   "display_name": "Julia 1.8.0-DEV",
   "language": "julia",
   "name": "julia-1.8"
  },
  "language_info": {
   "file_extension": ".jl",
   "mimetype": "application/julia",
   "name": "julia",
   "version": "1.8.0"
  }
 },
 "nbformat": 4,
 "nbformat_minor": 5
}
