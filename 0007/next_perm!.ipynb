{
 "cells": [
  {
   "cell_type": "markdown",
   "id": "e1fa2ef9-6ac6-4eb4-a65f-d518942e996d",
   "metadata": {},
   "source": [
    "* https://github.com/JuliaMath/Combinatorics.jl/blob/master/src/permutations.jl#L47\n",
    "* https://discourse.julialang.org/t/is-there-a-function-behaving-the-same-as-next-permutation-does-in-c/63451/13"
   ]
  },
  {
   "cell_type": "code",
   "execution_count": 1,
   "id": "ec261d48-eb49-405a-a7fe-f050cc553305",
   "metadata": {},
   "outputs": [
    {
     "data": {
      "text/plain": [
       "Main.O"
      ]
     },
     "execution_count": 1,
     "metadata": {},
     "output_type": "execute_result"
    }
   ],
   "source": [
    "module O\n",
    "\n",
    "\"\"\"\n",
    "zero allocation version of AquaIndigo's code\n",
    "\"\"\"\n",
    "function next_perm_old!(v::AbstractVector)\n",
    "    length(v) ≤ 1 && return false    \n",
    "    k = findlast(isless(v[i], v[i+1]) for i in firstindex(v):lastindex(v)-1)\n",
    "    isnothing(k) && (reverse!(v); return false)\n",
    "    i = k + firstindex(v) - 1    \n",
    "    j = findlast(isless(v[i], v[j]) for j in i+1:lastindex(v)) + i\n",
    "    v[i], v[j] = v[j], v[i]\n",
    "    reverse!(v, i + 1)\n",
    "    return true\n",
    "end\n",
    "\n",
    "\"\"\"\n",
    "    next_perm!(v::AbstractVector)\n",
    "\n",
    "changes `v` into the next permutation of `v` under the lexicographic order and returns `false` if it is the last permutation and `true` otherwise.\n",
    "\n",
    "This is a variant of `Combinatorics.nextpermutation(m, t, state)`.\n",
    "\n",
    "Examples\n",
    "\n",
    "```\n",
    "julia> v = [1, 2, 3]; println(v); while O.next_perm!(v) println(v) end\n",
    "[1, 2, 3]\n",
    "[1, 3, 2]\n",
    "[2, 1, 3]\n",
    "[2, 3, 1]\n",
    "[3, 1, 2]\n",
    "[3, 2, 1]\n",
    "```\n",
    "\n",
    "```\n",
    "julia> v = [1, 2, 2]; println(v); while O.next_perm!(v) println(v) end\n",
    "[1, 2, 2]\n",
    "[2, 1, 2]\n",
    "[2, 2, 1]\n",
    "```\n",
    "\"\"\"\n",
    "function next_perm!(v::AbstractVector)\n",
    "    length(v) ≤ 1 && return false\n",
    "    i = lastindex(v) - 1\n",
    "    @inbounds while i ≥ firstindex(v) && !isless(v[i], v[i+1]) i -= 1 end\n",
    "    i < firstindex(v) && (reverse!(v); return false)\n",
    "    j = lastindex(v)\n",
    "    @inbounds while j > i && !isless(v[i], v[j]) j -= 1 end\n",
    "    @inbounds v[i], v[j] = v[j], v[i]\n",
    "    reverse!(v, i + 1)\n",
    "    return true\n",
    "end\n",
    "\n",
    "function collect_perm!(v::AbstractVector)\n",
    "    a = [copy(v)]\n",
    "    while next_perm!(v) push!(a, copy(v)) end\n",
    "    a\n",
    "end\n",
    "\n",
    "\"\"\"\n",
    "    Perm(v::AbstractVector)\n",
    "\n",
    "constructs the lexicographic order iterator of the all permutations of `v`.\n",
    "\n",
    "Examples\n",
    "\n",
    "```\n",
    "julia> for s in O.Perm([1, 2, 3]) println(s) end\n",
    "[1, 2, 3]\n",
    "[1, 3, 2]\n",
    "[2, 1, 3]\n",
    "[2, 3, 1]\n",
    "[3, 1, 2]\n",
    "[3, 2, 1]\n",
    "```\n",
    "\n",
    "```\n",
    "julia> for s in O.Perm([1, 2, 2]) println(s) end\n",
    "[1, 2, 2]\n",
    "[2, 1, 2]\n",
    "[2, 2, 1]\n",
    "```\n",
    "\"\"\"\n",
    "struct Perm{T<:AbstractVector}\n",
    "    v::T\n",
    "    Perm(v::T) where T<: AbstractVector = new{T}(sort(v))\n",
    "end\n",
    "\n",
    "function Base.length(p::Perm)\n",
    "    v = p.v\n",
    "    N = factorial(length(v))\n",
    "    i = firstindex(v)\n",
    "    for j in eachindex(v)\n",
    "        if isless(v[i], v[j])\n",
    "            N = N ÷ factorial(j-i)\n",
    "            i = j\n",
    "        end\n",
    "    end\n",
    "    N = N ÷ factorial(lastindex(v)-i+1)\n",
    "    N\n",
    "end\n",
    "\n",
    "Base.eltype(p::Perm{T}) where T<:AbstractVector = T\n",
    "\n",
    "function Base.iterate(p::Perm)\n",
    "    s = copy(p.v)\n",
    "    t = copy(s)\n",
    "    next_perm!(t) || return (s, nothing)\n",
    "    u = copy(t)\n",
    "    next_perm!(u) || return (s, (t, nothing))\n",
    "    return (s, (t, u))\n",
    "end\n",
    "\n",
    "function Base.iterate(p::Perm, state)\n",
    "    isnothing(state) && return nothing\n",
    "    s, t = state\n",
    "    isnothing(t) && return (s, nothing)\n",
    "    u = copy(t)\n",
    "    next_perm!(u) || return (s, (t, nothing))\n",
    "    return (s, (t, u))\n",
    "end\n",
    "\n",
    "#function Base.iterate(p::Perm, s = copy(p.v))\n",
    "#    isnothing(s) && return nothing\n",
    "#    next_perm!(s) || return (s, nothing)\n",
    "#    return (copy(s), s)\n",
    "#end\n",
    "\n",
    "end"
   ]
  },
  {
   "cell_type": "code",
   "execution_count": 2,
   "id": "65d692e0-54e0-4960-b486-43e65f6f4e82",
   "metadata": {},
   "outputs": [
    {
     "data": {
      "text/latex": [
       "\\begin{verbatim}\n",
       "next_perm!(v::AbstractVector)\n",
       "\\end{verbatim}\n",
       "changes \\texttt{v} into the next permutation of \\texttt{v} under the lexicographic order and returns \\texttt{false} if it is the last permutation and \\texttt{true} otherwise.\n",
       "\n",
       "This is a variant of \\texttt{Combinatorics.nextpermutation(m, t, state)}.\n",
       "\n",
       "Examples\n",
       "\n",
       "\\begin{verbatim}\n",
       "julia> v = [1, 2, 3]; println(v); while O.next_perm!(v) println(v) end\n",
       "[1, 2, 3]\n",
       "[1, 3, 2]\n",
       "[2, 1, 3]\n",
       "[2, 3, 1]\n",
       "[3, 1, 2]\n",
       "[3, 2, 1]\n",
       "\\end{verbatim}\n",
       "\\begin{verbatim}\n",
       "julia> v = [1, 2, 2]; println(v); while O.next_perm!(v) println(v) end\n",
       "[1, 2, 2]\n",
       "[2, 1, 2]\n",
       "[2, 2, 1]\n",
       "\\end{verbatim}\n"
      ],
      "text/markdown": [
       "```\n",
       "next_perm!(v::AbstractVector)\n",
       "```\n",
       "\n",
       "changes `v` into the next permutation of `v` under the lexicographic order and returns `false` if it is the last permutation and `true` otherwise.\n",
       "\n",
       "This is a variant of `Combinatorics.nextpermutation(m, t, state)`.\n",
       "\n",
       "Examples\n",
       "\n",
       "```\n",
       "julia> v = [1, 2, 3]; println(v); while O.next_perm!(v) println(v) end\n",
       "[1, 2, 3]\n",
       "[1, 3, 2]\n",
       "[2, 1, 3]\n",
       "[2, 3, 1]\n",
       "[3, 1, 2]\n",
       "[3, 2, 1]\n",
       "```\n",
       "\n",
       "```\n",
       "julia> v = [1, 2, 2]; println(v); while O.next_perm!(v) println(v) end\n",
       "[1, 2, 2]\n",
       "[2, 1, 2]\n",
       "[2, 2, 1]\n",
       "```\n"
      ],
      "text/plain": [
       "\u001b[36m  next_perm!(v::AbstractVector)\u001b[39m\n",
       "\n",
       "  changes \u001b[36mv\u001b[39m into the next permutation of \u001b[36mv\u001b[39m under the lexicographic order and\n",
       "  returns \u001b[36mfalse\u001b[39m if it is the last permutation and \u001b[36mtrue\u001b[39m otherwise.\n",
       "\n",
       "  This is a variant of \u001b[36mCombinatorics.nextpermutation(m, t, state)\u001b[39m.\n",
       "\n",
       "  Examples\n",
       "\n",
       "\u001b[36m  julia> v = [1, 2, 3]; println(v); while O.next_perm!(v) println(v) end\u001b[39m\n",
       "\u001b[36m  [1, 2, 3]\u001b[39m\n",
       "\u001b[36m  [1, 3, 2]\u001b[39m\n",
       "\u001b[36m  [2, 1, 3]\u001b[39m\n",
       "\u001b[36m  [2, 3, 1]\u001b[39m\n",
       "\u001b[36m  [3, 1, 2]\u001b[39m\n",
       "\u001b[36m  [3, 2, 1]\u001b[39m\n",
       "\n",
       "\u001b[36m  julia> v = [1, 2, 2]; println(v); while O.next_perm!(v) println(v) end\u001b[39m\n",
       "\u001b[36m  [1, 2, 2]\u001b[39m\n",
       "\u001b[36m  [2, 1, 2]\u001b[39m\n",
       "\u001b[36m  [2, 2, 1]\u001b[39m"
      ]
     },
     "execution_count": 2,
     "metadata": {},
     "output_type": "execute_result"
    }
   ],
   "source": [
    "@doc O.next_perm!"
   ]
  },
  {
   "cell_type": "code",
   "execution_count": 3,
   "id": "4ba65d75-46da-4780-8d41-ff9fd8c96423",
   "metadata": {},
   "outputs": [
    {
     "data": {
      "text/latex": [
       "\\begin{verbatim}\n",
       "Perm(v::AbstractVector)\n",
       "\\end{verbatim}\n",
       "constructs the lexicographic order iterator of the all permutations of \\texttt{v}.\n",
       "\n",
       "Examples\n",
       "\n",
       "\\begin{verbatim}\n",
       "julia> for s in O.Perm([1, 2, 3]) println(s) end\n",
       "[1, 2, 3]\n",
       "[1, 3, 2]\n",
       "[2, 1, 3]\n",
       "[2, 3, 1]\n",
       "[3, 1, 2]\n",
       "[3, 2, 1]\n",
       "\\end{verbatim}\n",
       "\\begin{verbatim}\n",
       "julia> for s in O.Perm([1, 2, 2]) println(s) end\n",
       "[1, 2, 2]\n",
       "[2, 1, 2]\n",
       "[2, 2, 1]\n",
       "\\end{verbatim}\n"
      ],
      "text/markdown": [
       "```\n",
       "Perm(v::AbstractVector)\n",
       "```\n",
       "\n",
       "constructs the lexicographic order iterator of the all permutations of `v`.\n",
       "\n",
       "Examples\n",
       "\n",
       "```\n",
       "julia> for s in O.Perm([1, 2, 3]) println(s) end\n",
       "[1, 2, 3]\n",
       "[1, 3, 2]\n",
       "[2, 1, 3]\n",
       "[2, 3, 1]\n",
       "[3, 1, 2]\n",
       "[3, 2, 1]\n",
       "```\n",
       "\n",
       "```\n",
       "julia> for s in O.Perm([1, 2, 2]) println(s) end\n",
       "[1, 2, 2]\n",
       "[2, 1, 2]\n",
       "[2, 2, 1]\n",
       "```\n"
      ],
      "text/plain": [
       "\u001b[36m  Perm(v::AbstractVector)\u001b[39m\n",
       "\n",
       "  constructs the lexicographic order iterator of the all permutations of \u001b[36mv\u001b[39m.\n",
       "\n",
       "  Examples\n",
       "\n",
       "\u001b[36m  julia> for s in O.Perm([1, 2, 3]) println(s) end\u001b[39m\n",
       "\u001b[36m  [1, 2, 3]\u001b[39m\n",
       "\u001b[36m  [1, 3, 2]\u001b[39m\n",
       "\u001b[36m  [2, 1, 3]\u001b[39m\n",
       "\u001b[36m  [2, 3, 1]\u001b[39m\n",
       "\u001b[36m  [3, 1, 2]\u001b[39m\n",
       "\u001b[36m  [3, 2, 1]\u001b[39m\n",
       "\n",
       "\u001b[36m  julia> for s in O.Perm([1, 2, 2]) println(s) end\u001b[39m\n",
       "\u001b[36m  [1, 2, 2]\u001b[39m\n",
       "\u001b[36m  [2, 1, 2]\u001b[39m\n",
       "\u001b[36m  [2, 2, 1]\u001b[39m"
      ]
     },
     "execution_count": 3,
     "metadata": {},
     "output_type": "execute_result"
    }
   ],
   "source": [
    "@doc O.Perm"
   ]
  },
  {
   "cell_type": "code",
   "execution_count": 4,
   "id": "2cc7a989-c200-4d0b-a3b4-7c47814a83d3",
   "metadata": {},
   "outputs": [
    {
     "name": "stdout",
     "output_type": "stream",
     "text": [
      "[1, 2, 3]\n",
      "[1, 3, 2]\n",
      "[2, 1, 3]\n",
      "[2, 3, 1]\n",
      "[3, 1, 2]\n",
      "[3, 2, 1]\n"
     ]
    }
   ],
   "source": [
    "v = [1, 2, 3]; println(v); while O.next_perm!(v) println(v) end"
   ]
  },
  {
   "cell_type": "code",
   "execution_count": 5,
   "id": "9d8bd0f4-22d0-4e34-ad95-2e4c214a7986",
   "metadata": {},
   "outputs": [
    {
     "name": "stdout",
     "output_type": "stream",
     "text": [
      "[1, 2, 2]\n",
      "[2, 1, 2]\n",
      "[2, 2, 1]\n"
     ]
    }
   ],
   "source": [
    "v = [1, 2, 2]; println(v); while O.next_perm!(v) println(v) end"
   ]
  },
  {
   "cell_type": "code",
   "execution_count": 6,
   "id": "8d09d2c9-e27f-414e-aad1-7926053d0efb",
   "metadata": {},
   "outputs": [
    {
     "name": "stdout",
     "output_type": "stream",
     "text": [
      "[1, 2, 3]\n",
      "[1, 3, 2]\n",
      "[2, 1, 3]\n",
      "[2, 3, 1]\n",
      "[3, 1, 2]\n",
      "[3, 2, 1]\n"
     ]
    }
   ],
   "source": [
    "for s in O.Perm([1, 2, 3]) println(s) end"
   ]
  },
  {
   "cell_type": "code",
   "execution_count": 7,
   "id": "a212b33a-5573-4daa-97a6-79877e095af6",
   "metadata": {},
   "outputs": [
    {
     "name": "stdout",
     "output_type": "stream",
     "text": [
      "[1, 2, 2]\n",
      "[2, 1, 2]\n",
      "[2, 2, 1]\n"
     ]
    }
   ],
   "source": [
    "for s in O.Perm([1, 2, 2]) println(s) end"
   ]
  },
  {
   "cell_type": "code",
   "execution_count": 8,
   "id": "0d681552-8015-49cb-948e-ea8df7f4f66d",
   "metadata": {},
   "outputs": [
    {
     "name": "stdout",
     "output_type": "stream",
     "text": [
      "v = [1.0, 2.0, NaN, NaN]\n",
      "v = [1.0, NaN, 2.0, NaN]\n",
      "v = [1.0, NaN, NaN, 2.0]\n",
      "v = [2.0, 1.0, NaN, NaN]\n",
      "v = [2.0, NaN, 1.0, NaN]\n",
      "v = [2.0, NaN, NaN, 1.0]\n",
      "v = [NaN, 1.0, 2.0, NaN]\n",
      "v = [NaN, 1.0, NaN, 2.0]\n",
      "v = [NaN, 2.0, 1.0, NaN]\n",
      "v = [NaN, 2.0, NaN, 1.0]\n",
      "v = [NaN, NaN, 1.0, 2.0]\n",
      "v = [NaN, NaN, 2.0, 1.0]\n"
     ]
    }
   ],
   "source": [
    "v = sort([NaN, NaN, 2, 1])\n",
    "@show v\n",
    "while O.next_perm!(v)\n",
    "    @show v\n",
    "end"
   ]
  },
  {
   "cell_type": "code",
   "execution_count": 9,
   "id": "40b88dee-7a0d-4372-ae00-794eb9611997",
   "metadata": {},
   "outputs": [
    {
     "name": "stdout",
     "output_type": "stream",
     "text": [
      "s = [1.0, 2.0, NaN, NaN]\n",
      "s = [1.0, NaN, 2.0, NaN]\n",
      "s = [1.0, NaN, NaN, 2.0]\n",
      "s = [2.0, 1.0, NaN, NaN]\n",
      "s = [2.0, NaN, 1.0, NaN]\n",
      "s = [2.0, NaN, NaN, 1.0]\n",
      "s = [NaN, 1.0, 2.0, NaN]\n",
      "s = [NaN, 1.0, NaN, 2.0]\n",
      "s = [NaN, 2.0, 1.0, NaN]\n",
      "s = [NaN, 2.0, NaN, 1.0]\n",
      "s = [NaN, NaN, 1.0, 2.0]\n",
      "s = [NaN, NaN, 2.0, 1.0]\n"
     ]
    }
   ],
   "source": [
    "p = O.Perm([NaN, NaN, 2, 1])\n",
    "for s in p\n",
    "    @show s\n",
    "end"
   ]
  },
  {
   "cell_type": "code",
   "execution_count": 10,
   "id": "b60b163d-8378-463e-8393-a193ed34b9a8",
   "metadata": {},
   "outputs": [],
   "source": [
    "using BenchmarkTools"
   ]
  },
  {
   "cell_type": "code",
   "execution_count": 11,
   "id": "2f33d9a2-2798-427b-b1fb-2b01d9370439",
   "metadata": {},
   "outputs": [
    {
     "data": {
      "text/plain": [
       "([1.0, 2.0, NaN, NaN], ([1.0, NaN, 2.0, NaN], [1.0, NaN, NaN, 2.0]))"
      ]
     },
     "execution_count": 11,
     "metadata": {},
     "output_type": "execute_result"
    }
   ],
   "source": [
    "p = O.Perm([NaN, NaN, 2, 1])\n",
    "_, state = iterate(p)"
   ]
  },
  {
   "cell_type": "code",
   "execution_count": 12,
   "id": "592e99bc-041d-4a0b-8bf7-73613121ae6f",
   "metadata": {},
   "outputs": [
    {
     "data": {
      "text/plain": [
       "([1.0, NaN, 2.0, NaN], ([1.0, NaN, NaN, 2.0], [2.0, 1.0, NaN, NaN]))"
      ]
     },
     "execution_count": 12,
     "metadata": {},
     "output_type": "execute_result"
    }
   ],
   "source": [
    "iterate(p, state)"
   ]
  },
  {
   "cell_type": "code",
   "execution_count": 13,
   "id": "f7f6c002-acd8-4ab3-8894-a46a728f6fe4",
   "metadata": {},
   "outputs": [
    {
     "name": "stdout",
     "output_type": "stream",
     "text": [
      "  526.316 ns (25 allocations: 1.92 KiB)\n"
     ]
    },
    {
     "data": {
      "text/plain": [
       "12-element Vector{Vector{Float64}}:\n",
       " [1.0, 2.0, NaN, NaN]\n",
       " [1.0, NaN, 2.0, NaN]\n",
       " [1.0, NaN, NaN, 2.0]\n",
       " [2.0, 1.0, NaN, NaN]\n",
       " [2.0, NaN, 1.0, NaN]\n",
       " [2.0, NaN, NaN, 1.0]\n",
       " [NaN, 1.0, 2.0, NaN]\n",
       " [NaN, 1.0, NaN, 2.0]\n",
       " [NaN, 2.0, 1.0, NaN]\n",
       " [NaN, 2.0, NaN, 1.0]\n",
       " [NaN, NaN, 1.0, 2.0]\n",
       " [NaN, NaN, 2.0, 1.0]"
      ]
     },
     "execution_count": 13,
     "metadata": {},
     "output_type": "execute_result"
    }
   ],
   "source": [
    "p = O.Perm([NaN, NaN, 2, 1])\n",
    "@btime collect($p)"
   ]
  },
  {
   "cell_type": "code",
   "execution_count": 14,
   "id": "cdbcd2b8-5e88-40c5-a3af-2792414e1452",
   "metadata": {},
   "outputs": [
    {
     "name": "stdout",
     "output_type": "stream",
     "text": [
      "  482.653 ns (15 allocations: 1.81 KiB)\n"
     ]
    },
    {
     "data": {
      "text/plain": [
       "12-element Vector{Vector{Float64}}:\n",
       " [1.0, 2.0, NaN, NaN]\n",
       " [1.0, NaN, 2.0, NaN]\n",
       " [1.0, NaN, NaN, 2.0]\n",
       " [2.0, 1.0, NaN, NaN]\n",
       " [2.0, NaN, 1.0, NaN]\n",
       " [2.0, NaN, NaN, 1.0]\n",
       " [NaN, 1.0, 2.0, NaN]\n",
       " [NaN, 1.0, NaN, 2.0]\n",
       " [NaN, 2.0, 1.0, NaN]\n",
       " [NaN, 2.0, NaN, 1.0]\n",
       " [NaN, NaN, 1.0, 2.0]\n",
       " [NaN, NaN, 2.0, 1.0]"
      ]
     },
     "execution_count": 14,
     "metadata": {},
     "output_type": "execute_result"
    }
   ],
   "source": [
    "v = sort([NaN, NaN, 2, 1])\n",
    "@btime O.collect_perm!($v)"
   ]
  },
  {
   "cell_type": "code",
   "execution_count": 15,
   "id": "ec9b68b3-b711-44d5-bb31-91b251fc871f",
   "metadata": {},
   "outputs": [
    {
     "name": "stdout",
     "output_type": "stream",
     "text": [
      "s = [1, 1, 2, 2, 2, 3, 4, 5, 6, 6] = [1, 1, 2, 2, 2, 3, 4, 5, 6, 6]\n",
      "  1.296 ms (0 allocations: 0 bytes)\n"
     ]
    },
    {
     "data": {
      "text/plain": [
       "151200"
      ]
     },
     "execution_count": 15,
     "metadata": {},
     "output_type": "execute_result"
    }
   ],
   "source": [
    "test_next_perm!(v) = (c = 1; while O.next_perm!(v) c += 1 end; c)\n",
    "@show s = [1, 1, 2, 2, 2, 3, 4, 5, 6, 6]\n",
    "@btime test_next_perm!($s)"
   ]
  },
  {
   "cell_type": "code",
   "execution_count": 16,
   "id": "fc32f164-5bdb-455e-8b66-089a3d29f788",
   "metadata": {},
   "outputs": [
    {
     "name": "stdout",
     "output_type": "stream",
     "text": [
      "s = [1, 1, 2, 2, 2, 3, 4, 5, 6, 6] = [1, 1, 2, 2, 2, 3, 4, 5, 6, 6]\n",
      "  5.484 ms (0 allocations: 0 bytes)\n"
     ]
    },
    {
     "data": {
      "text/plain": [
       "151200"
      ]
     },
     "execution_count": 16,
     "metadata": {},
     "output_type": "execute_result"
    }
   ],
   "source": [
    "test_next_perm_old!(v) = (c = 1; while O.next_perm_old!(v) c += 1 end; c)\n",
    "@show s = [1, 1, 2, 2, 2, 3, 4, 5, 6, 6]\n",
    "@btime test_next_perm_old!($s)"
   ]
  },
  {
   "cell_type": "code",
   "execution_count": 17,
   "id": "3051cbc3-6201-42cc-81e0-c73e05ec7804",
   "metadata": {},
   "outputs": [
    {
     "name": "stdout",
     "output_type": "stream",
     "text": [
      "  6.450 ms (302402 allocations: 28.84 MiB)\n"
     ]
    },
    {
     "data": {
      "text/plain": [
       "151200"
      ]
     },
     "execution_count": 17,
     "metadata": {},
     "output_type": "execute_result"
    }
   ],
   "source": [
    "c = @btime collect($(O.Perm(s)))\n",
    "length(c)"
   ]
  },
  {
   "cell_type": "code",
   "execution_count": 18,
   "id": "b1a8aa58-e3a6-4f96-935a-af6f514d932b",
   "metadata": {},
   "outputs": [
    {
     "name": "stdout",
     "output_type": "stream",
     "text": [
      "MethodInstance for Main.O.next_perm!(::\u001b[0mVector{Int64})\n",
      "  from next_perm!(v::AbstractVector) in Main.O at In[1]:43\n",
      "Arguments\n",
      "  #self#\u001b[36m::Core.Const(Main.O.next_perm!)\u001b[39m\n",
      "  v\u001b[36m::Vector{Int64}\u001b[39m\n",
      "Locals\n",
      "  @_3\u001b[36m::Int64\u001b[39m\n",
      "  val@_4\u001b[36m::Tuple{Int64, Int64}\u001b[39m\n",
      "  val@_5\u001b[36m::Nothing\u001b[39m\n",
      "  val@_6\u001b[36m::Nothing\u001b[39m\n",
      "  j\u001b[36m::Int64\u001b[39m\n",
      "  i\u001b[36m::Int64\u001b[39m\n",
      "  @_9\u001b[36m::Bool\u001b[39m\n",
      "  @_10\u001b[36m::Bool\u001b[39m\n",
      "Body\u001b[36m::Bool\u001b[39m\n",
      "\u001b[90m1 ──\u001b[39m       Core.NewvarNode(:(@_3))\n",
      "\u001b[90m│   \u001b[39m       Core.NewvarNode(:(val@_4))\n",
      "\u001b[90m│   \u001b[39m       Core.NewvarNode(:(val@_5))\n",
      "\u001b[90m│   \u001b[39m       Core.NewvarNode(:(val@_6))\n",
      "\u001b[90m│   \u001b[39m       Core.NewvarNode(:(j))\n",
      "\u001b[90m│   \u001b[39m       Core.NewvarNode(:(i))\n",
      "\u001b[90m│   \u001b[39m %7  = Main.O.length(v)\u001b[36m::Int64\u001b[39m\n",
      "\u001b[90m│   \u001b[39m %8  = (%7 ≤ 1)\u001b[36m::Bool\u001b[39m\n",
      "\u001b[90m└───\u001b[39m       goto #3 if not %8\n",
      "\u001b[90m2 ──\u001b[39m       return false\n",
      "\u001b[90m3 ──\u001b[39m %11 = Main.O.lastindex(v)\u001b[36m::Int64\u001b[39m\n",
      "\u001b[90m│   \u001b[39m       (i = %11 - 1)\n",
      "\u001b[90m└───\u001b[39m       $(Expr(:inbounds, true))\n",
      "\u001b[90m4 ┄─\u001b[39m %14 = i\u001b[36m::Int64\u001b[39m\n",
      "\u001b[90m│   \u001b[39m %15 = Main.O.firstindex(v)\u001b[36m::Core.Const(1)\u001b[39m\n",
      "\u001b[90m│   \u001b[39m %16 = (%14 ≥ %15)\u001b[36m::Bool\u001b[39m\n",
      "\u001b[90m└───\u001b[39m       goto #6 if not %16\n",
      "\u001b[90m5 ──\u001b[39m %18 = Base.getindex(v, i)\u001b[36m::Int64\u001b[39m\n",
      "\u001b[90m│   \u001b[39m %19 = (i + 1)\u001b[36m::Int64\u001b[39m\n",
      "\u001b[90m│   \u001b[39m %20 = Base.getindex(v, %19)\u001b[36m::Int64\u001b[39m\n",
      "\u001b[90m│   \u001b[39m %21 = Main.O.isless(%18, %20)\u001b[36m::Bool\u001b[39m\n",
      "\u001b[90m│   \u001b[39m       (@_9 = !%21)\n",
      "\u001b[90m└───\u001b[39m       goto #7\n",
      "\u001b[90m6 ──\u001b[39m       (@_9 = false)\n",
      "\u001b[90m7 ┄─\u001b[39m       goto #9 if not @_9\n",
      "\u001b[90m8 ──\u001b[39m       (i = i - 1)\n",
      "\u001b[90m└───\u001b[39m       goto #4\n",
      "\u001b[90m9 ──\u001b[39m       (val@_6 = nothing)\n",
      "\u001b[90m│   \u001b[39m       $(Expr(:inbounds, :pop))\n",
      "\u001b[90m│   \u001b[39m       val@_6\n",
      "\u001b[90m│   \u001b[39m %31 = i\u001b[36m::Int64\u001b[39m\n",
      "\u001b[90m│   \u001b[39m %32 = Main.O.firstindex(v)\u001b[36m::Core.Const(1)\u001b[39m\n",
      "\u001b[90m│   \u001b[39m %33 = (%31 < %32)\u001b[36m::Bool\u001b[39m\n",
      "\u001b[90m└───\u001b[39m       goto #11 if not %33\n",
      "\u001b[90m10 ─\u001b[39m       Main.O.reverse!(v)\n",
      "\u001b[90m└───\u001b[39m       return false\n",
      "\u001b[90m11 ─\u001b[39m       (j = Main.O.lastindex(v))\n",
      "\u001b[90m└───\u001b[39m       $(Expr(:inbounds, true))\n",
      "\u001b[90m12 ┄\u001b[39m %39 = (j > i)\u001b[36m::Bool\u001b[39m\n",
      "\u001b[90m└───\u001b[39m       goto #14 if not %39\n",
      "\u001b[90m13 ─\u001b[39m %41 = Base.getindex(v, i)\u001b[36m::Int64\u001b[39m\n",
      "\u001b[90m│   \u001b[39m %42 = Base.getindex(v, j)\u001b[36m::Int64\u001b[39m\n",
      "\u001b[90m│   \u001b[39m %43 = Main.O.isless(%41, %42)\u001b[36m::Bool\u001b[39m\n",
      "\u001b[90m│   \u001b[39m       (@_10 = !%43)\n",
      "\u001b[90m└───\u001b[39m       goto #15\n",
      "\u001b[90m14 ─\u001b[39m       (@_10 = false)\n",
      "\u001b[90m15 ┄\u001b[39m       goto #17 if not @_10\n",
      "\u001b[90m16 ─\u001b[39m       (j = j - 1)\n",
      "\u001b[90m└───\u001b[39m       goto #12\n",
      "\u001b[90m17 ─\u001b[39m       (val@_5 = nothing)\n",
      "\u001b[90m│   \u001b[39m       $(Expr(:inbounds, :pop))\n",
      "\u001b[90m│   \u001b[39m       val@_5\n",
      "\u001b[90m│   \u001b[39m       $(Expr(:inbounds, true))\n",
      "\u001b[90m│   \u001b[39m %54 = Base.getindex(v, j)\u001b[36m::Int64\u001b[39m\n",
      "\u001b[90m│   \u001b[39m %55 = Base.getindex(v, i)\u001b[36m::Int64\u001b[39m\n",
      "\u001b[90m│   \u001b[39m %56 = Core.tuple(%54, %55)\u001b[36m::Tuple{Int64, Int64}\u001b[39m\n",
      "\u001b[90m│   \u001b[39m %57 = Base.indexed_iterate(%56, 1)\u001b[36m::Core.PartialStruct(Tuple{Int64, Int64}, Any[Int64, Core.Const(2)])\u001b[39m\n",
      "\u001b[90m│   \u001b[39m %58 = Core.getfield(%57, 1)\u001b[36m::Int64\u001b[39m\n",
      "\u001b[90m│   \u001b[39m       (@_3 = Core.getfield(%57, 2))\n",
      "\u001b[90m│   \u001b[39m %60 = Base.indexed_iterate(%56, 2, @_3::Core.Const(2))\u001b[36m::Core.PartialStruct(Tuple{Int64, Int64}, Any[Int64, Core.Const(3)])\u001b[39m\n",
      "\u001b[90m│   \u001b[39m %61 = Core.getfield(%60, 1)\u001b[36m::Int64\u001b[39m\n",
      "\u001b[90m│   \u001b[39m       Base.setindex!(v, %58, i)\n",
      "\u001b[90m│   \u001b[39m       Base.setindex!(v, %61, j)\n",
      "\u001b[90m│   \u001b[39m       (val@_4 = %56)\n",
      "\u001b[90m│   \u001b[39m       $(Expr(:inbounds, :pop))\n",
      "\u001b[90m│   \u001b[39m       val@_4\n",
      "\u001b[90m│   \u001b[39m %67 = (i + 1)\u001b[36m::Int64\u001b[39m\n",
      "\u001b[90m│   \u001b[39m       Main.O.reverse!(v, %67)\n",
      "\u001b[90m└───\u001b[39m       return true\n",
      "\n"
     ]
    }
   ],
   "source": [
    "@code_warntype O.next_perm!(s)"
   ]
  },
  {
   "cell_type": "code",
   "execution_count": null,
   "id": "a935bdf9-2b02-48cb-beb4-8c3571067a53",
   "metadata": {},
   "outputs": [],
   "source": [
    "using OffsetArrays\n",
    "@show t = OffsetArray([1, 1, 2, 2, 2, 3, 4, 5, 6, 6], -5:4)\n",
    "@btime collect($(O.Perm(t)))"
   ]
  },
  {
   "cell_type": "code",
   "execution_count": null,
   "id": "09887cda-e392-4624-9612-35ed27ce8d8e",
   "metadata": {},
   "outputs": [],
   "source": [
    "@btime O.collect_perm!($(sort(t)))"
   ]
  },
  {
   "cell_type": "code",
   "execution_count": null,
   "id": "08cffb63-8339-42a7-b6af-ac3804a8273a",
   "metadata": {},
   "outputs": [],
   "source": [
    "@code_warntype O.next_perm!(t)"
   ]
  },
  {
   "cell_type": "code",
   "execution_count": null,
   "id": "89a80e60-154c-4c3b-b726-b230d9f4f347",
   "metadata": {},
   "outputs": [],
   "source": []
  }
 ],
 "metadata": {
  "jupytext": {
   "encoding": "# -*- coding: utf-8 -*-",
   "formats": "ipynb,jl:hydrogen"
  },
  "kernelspec": {
   "display_name": "Julia 1.8.0-DEV",
   "language": "julia",
   "name": "julia-1.8"
  },
  "language_info": {
   "file_extension": ".jl",
   "mimetype": "application/julia",
   "name": "julia",
   "version": "1.8.0"
  }
 },
 "nbformat": 4,
 "nbformat_minor": 5
}
