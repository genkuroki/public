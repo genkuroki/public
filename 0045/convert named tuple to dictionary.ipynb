{
 "cells": [
  {
   "cell_type": "code",
   "execution_count": 1,
   "id": "bd345f93-6e5d-4373-a911-90472b3ca764",
   "metadata": {},
   "outputs": [
    {
     "data": {
      "text/plain": [
       "(X = [-0.10370413729240174, -0.018158566876873936, -0.5105546421503142, 0.38381799127766725, -1.361680227516165, 3.346304207451733, -1.0457161421902124, -0.2995095302922167, -1.2050825076995189, 0.9352588982518792], X̄ = 0.012097534296357659, S² = 1.3735472822038037)"
      ]
     },
     "execution_count": 1,
     "metadata": {},
     "output_type": "execute_result"
    }
   ],
   "source": [
    "using Statistics\n",
    "\n",
    "X = randn(10)\n",
    "X̄ = mean(X)\n",
    "S² = std(X)\n",
    "t = (; X, X̄, S²)"
   ]
  },
  {
   "cell_type": "code",
   "execution_count": 2,
   "id": "5e753886-b71f-4fbe-a053-b8f1a92f7ff0",
   "metadata": {},
   "outputs": [
    {
     "data": {
      "text/plain": [
       "(1.3735472822038037, 1.3735472822038037, 1.3735472822038037)"
      ]
     },
     "execution_count": 2,
     "metadata": {},
     "output_type": "execute_result"
    }
   ],
   "source": [
    "t.S², t[:S²], t[3]"
   ]
  },
  {
   "cell_type": "code",
   "execution_count": 3,
   "id": "935e38af-31ae-4875-ad59-fcf0e1fd83e9",
   "metadata": {},
   "outputs": [
    {
     "data": {
      "text/plain": [
       "pairs(::NamedTuple) with 3 entries:\n",
       "  :X  => [-0.103704, -0.0181586, -0.510555, 0.383818, -1.36168, 3.3463, -1.0457…\n",
       "  :X̄  => 0.0120975\n",
       "  :S² => 1.37355"
      ]
     },
     "execution_count": 3,
     "metadata": {},
     "output_type": "execute_result"
    }
   ],
   "source": [
    "p = pairs(t)"
   ]
  },
  {
   "cell_type": "code",
   "execution_count": 4,
   "id": "b27902d5-18df-4266-b195-bbe173b59b2c",
   "metadata": {},
   "outputs": [
    {
     "data": {
      "text/plain": [
       "Dict{Symbol, Any} with 3 entries:\n",
       "  :X  => [-0.103704, -0.0181586, -0.510555, 0.383818, -1.36168, 3.3463, -1.0457…\n",
       "  :X̄  => 0.0120975\n",
       "  :S² => 1.37355"
      ]
     },
     "execution_count": 4,
     "metadata": {},
     "output_type": "execute_result"
    }
   ],
   "source": [
    "d = Dict(pairs(t))"
   ]
  },
  {
   "cell_type": "code",
   "execution_count": null,
   "id": "c24c9036-47f5-423e-98a5-7e44eeb51501",
   "metadata": {},
   "outputs": [],
   "source": []
  }
 ],
 "metadata": {
  "jupytext": {
   "formats": "ipynb,jl:hydrogen"
  },
  "kernelspec": {
   "display_name": "Julia 1.9.3",
   "language": "julia",
   "name": "julia-1.9"
  },
  "language_info": {
   "file_extension": ".jl",
   "mimetype": "application/julia",
   "name": "julia",
   "version": "1.9.3"
  }
 },
 "nbformat": 4,
 "nbformat_minor": 5
}
