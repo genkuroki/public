{
 "cells": [
  {
   "cell_type": "code",
   "execution_count": 1,
   "id": "c0a74d72-95ad-443f-a686-1cffb36d4293",
   "metadata": {},
   "outputs": [
    {
     "data": {
      "text/plain": [
       "undefarray (generic function with 2 methods)"
      ]
     },
     "execution_count": 1,
     "metadata": {},
     "output_type": "execute_result"
    }
   ],
   "source": [
    "undefvector(T::Type, m) = Vector{T}(undef, m)\n",
    "undefvector(m) = undefvector(Float64, m)\n",
    "undefmatrix(T::Type, m, n) = Matrix{T}(undef, m, n)\n",
    "undefmatrix(m, n) = undefmatrix(Float64, m, n)\n",
    "undefarray(T::Type, n...) = Array{T}(undef, n...)\n",
    "undefarray(n...) = undefarray(Float64, n...)"
   ]
  },
  {
   "cell_type": "code",
   "execution_count": 2,
   "id": "d358a5dd-af04-483d-aadb-6fa4c1d28154",
   "metadata": {},
   "outputs": [
    {
     "data": {
      "text/plain": [
       "4-element Vector{Float64}:\n",
       " 5.0e-324\n",
       " 5.0e-324\n",
       " 5.0e-324\n",
       " 0.0"
      ]
     },
     "execution_count": 2,
     "metadata": {},
     "output_type": "execute_result"
    }
   ],
   "source": [
    "undefvector(4)"
   ]
  },
  {
   "cell_type": "code",
   "execution_count": 3,
   "id": "864cc24d-89fd-4e42-b1e8-d45e88861df4",
   "metadata": {},
   "outputs": [
    {
     "data": {
      "text/plain": [
       "4×5 Matrix{Float64}:\n",
       " 3.0e-323  5.0e-323  1.5e-323  9.0e-323   1.1e-322\n",
       " 3.5e-323  5.4e-323  7.4e-323  9.0e-323   1.14e-322\n",
       " 4.0e-323  6.0e-323  8.0e-323  1.0e-322   1.2e-322\n",
       " 4.4e-323  6.4e-323  8.0e-323  1.04e-322  1.24e-322"
      ]
     },
     "execution_count": 3,
     "metadata": {},
     "output_type": "execute_result"
    }
   ],
   "source": [
    "undefmatrix(4, 5)"
   ]
  },
  {
   "cell_type": "code",
   "execution_count": 4,
   "id": "b04d9a4c-c606-4f28-aa95-7066e298ad66",
   "metadata": {},
   "outputs": [
    {
     "data": {
      "text/plain": [
       "4×5 Matrix{Int64}:\n",
       " 1767305314312  1767305314312  1765269326832  1765269327632  1765269328752\n",
       " 1765269325552  1765269325872  1765269327312  1765269327952  1765269326672\n",
       " 1767305314312  1765269326032  1765269327152  1765269328432  1767305314312\n",
       " 1765269325712  1765269326192  1765269327792  1765269328272  1765269329232"
      ]
     },
     "execution_count": 4,
     "metadata": {},
     "output_type": "execute_result"
    }
   ],
   "source": [
    "undefmatrix(Int, 4, 5)"
   ]
  },
  {
   "cell_type": "code",
   "execution_count": 5,
   "id": "8130663d-3793-4c1c-b751-cc033c215ab1",
   "metadata": {},
   "outputs": [
    {
     "data": {
      "text/plain": [
       "4×3×2 Array{Float64, 3}:\n",
       "[:, :, 1] =\n",
       " 1.1e-322      1.24e-322     1.3e-322\n",
       " 1.2e-322      1.24e-322     1.3e-322\n",
       " 8.72577e-312  8.72577e-312  8.72577e-312\n",
       " 8.72173e-312  8.72577e-312  8.72577e-312\n",
       "\n",
       "[:, :, 2] =\n",
       " 1.33e-322     1.5e-322      1.6e-322\n",
       " 1.43e-322     1.53e-322     1.73e-322\n",
       " 8.72577e-312  8.72577e-312  8.72577e-312\n",
       " 8.72173e-312  8.72577e-312  8.72173e-312"
      ]
     },
     "execution_count": 5,
     "metadata": {},
     "output_type": "execute_result"
    }
   ],
   "source": [
    "undefarray(4, 3, 2)"
   ]
  },
  {
   "cell_type": "code",
   "execution_count": 6,
   "id": "2e7b92cf-e82d-4bcb-bb3b-4f1dec5f30f5",
   "metadata": {},
   "outputs": [
    {
     "name": "stdout",
     "output_type": "stream",
     "text": [
      "search: \u001b[0m\u001b[1mu\u001b[22m\u001b[0m\u001b[1mn\u001b[22m\u001b[0m\u001b[1md\u001b[22m\u001b[0m\u001b[1me\u001b[22m\u001b[0m\u001b[1mf\u001b[22m\u001b[0m\u001b[1ma\u001b[22m\u001b[0m\u001b[1mr\u001b[22m\u001b[0m\u001b[1mr\u001b[22m\u001b[0m\u001b[1ma\u001b[22m\u001b[0m\u001b[1my\u001b[22m \u001b[0m\u001b[1mU\u001b[22m\u001b[0m\u001b[1mn\u001b[22m\u001b[0m\u001b[1md\u001b[22m\u001b[0m\u001b[1me\u001b[22m\u001b[0m\u001b[1mf\u001b[22mV\u001b[0m\u001b[1ma\u001b[22m\u001b[0m\u001b[1mr\u001b[22mE\u001b[0m\u001b[1mr\u001b[22mror \u001b[0m\u001b[1mu\u001b[22m\u001b[0m\u001b[1mn\u001b[22m\u001b[0m\u001b[1md\u001b[22m\u001b[0m\u001b[1me\u001b[22m\u001b[0m\u001b[1mf\u001b[22mm\u001b[0m\u001b[1ma\u001b[22mt\u001b[0m\u001b[1mr\u001b[22mix \u001b[0m\u001b[1mU\u001b[22m\u001b[0m\u001b[1mn\u001b[22m\u001b[0m\u001b[1md\u001b[22m\u001b[0m\u001b[1me\u001b[22m\u001b[0m\u001b[1mf\u001b[22mIniti\u001b[0m\u001b[1ma\u001b[22mlize\u001b[0m\u001b[1mr\u001b[22m\n",
      "\n"
     ]
    },
    {
     "data": {
      "text/latex": [
       "No documentation found.\n",
       "\n",
       "\\texttt{undefarray} is a \\texttt{Function}.\n",
       "\n",
       "\\begin{verbatim}\n",
       "# 2 methods for generic function \"undefarray\" from Main:\n",
       " [1] undefarray(T::Type, n...)\n",
       "     @ In[1]:5\n",
       " [2] undefarray(n...)\n",
       "     @ In[1]:6\n",
       "\\end{verbatim}\n"
      ],
      "text/markdown": [
       "No documentation found.\n",
       "\n",
       "`undefarray` is a `Function`.\n",
       "\n",
       "```\n",
       "# 2 methods for generic function \"undefarray\" from Main:\n",
       " [1] undefarray(T::Type, n...)\n",
       "     @ In[1]:5\n",
       " [2] undefarray(n...)\n",
       "     @ In[1]:6\n",
       "```\n"
      ],
      "text/plain": [
       "  No documentation found.\n",
       "\n",
       "  \u001b[36mundefarray\u001b[39m is a \u001b[36mFunction\u001b[39m.\n",
       "\n",
       "\u001b[36m  # 2 methods for generic function \"undefarray\" from Main:\u001b[39m\n",
       "\u001b[36m   [1] undefarray(T::Type, n...)\u001b[39m\n",
       "\u001b[36m       @ In[1]:5\u001b[39m\n",
       "\u001b[36m   [2] undefarray(n...)\u001b[39m\n",
       "\u001b[36m       @ In[1]:6\u001b[39m"
      ]
     },
     "execution_count": 6,
     "metadata": {},
     "output_type": "execute_result"
    }
   ],
   "source": [
    "?undefarray"
   ]
  },
  {
   "cell_type": "code",
   "execution_count": null,
   "id": "220e77ea-5e32-4db8-9ea3-2cbc9c4a5443",
   "metadata": {},
   "outputs": [],
   "source": []
  }
 ],
 "metadata": {
  "jupytext": {
   "formats": "ipynb,jl:hydrogen"
  },
  "kernelspec": {
   "display_name": "Julia 1.9.3",
   "language": "julia",
   "name": "julia-1.9"
  },
  "language_info": {
   "file_extension": ".jl",
   "mimetype": "application/julia",
   "name": "julia",
   "version": "1.9.3"
  }
 },
 "nbformat": 4,
 "nbformat_minor": 5
}
