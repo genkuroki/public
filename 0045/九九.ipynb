{
 "cells": [
  {
   "cell_type": "code",
   "execution_count": 1,
   "id": "037c33f0-6162-4ac3-8205-1b554d276c12",
   "metadata": {},
   "outputs": [
    {
     "data": {
      "text/plain": [
       "9×9 Matrix{Int64}:\n",
       " 1   2   3   4   5   6   7   8   9\n",
       " 2   4   6   8  10  12  14  16  18\n",
       " 3   6   9  12  15  18  21  24  27\n",
       " 4   8  12  16  20  24  28  32  36\n",
       " 5  10  15  20  25  30  35  40  45\n",
       " 6  12  18  24  30  36  42  48  54\n",
       " 7  14  21  28  35  42  49  56  63\n",
       " 8  16  24  32  40  48  56  64  72\n",
       " 9  18  27  36  45  54  63  72  81"
      ]
     },
     "execution_count": 1,
     "metadata": {},
     "output_type": "execute_result"
    }
   ],
   "source": [
    "a = 1:9\n",
    "a*a'"
   ]
  },
  {
   "cell_type": "code",
   "execution_count": 2,
   "id": "a6cb1b20-bcab-4c6b-9353-cbf03f600115",
   "metadata": {},
   "outputs": [
    {
     "data": {
      "text/plain": [
       "14×14 Matrix{Int64}:\n",
       "  4   6   8  10  12   14   16   18   20   22   24   26   28   30\n",
       "  6   9  12  15  18   21   24   27   30   33   36   39   42   45\n",
       "  8  12  16  20  24   28   32   36   40   44   48   52   56   60\n",
       " 10  15  20  25  30   35   40   45   50   55   60   65   70   75\n",
       " 12  18  24  30  36   42   48   54   60   66   72   78   84   90\n",
       " 14  21  28  35  42   49   56   63   70   77   84   91   98  105\n",
       " 16  24  32  40  48   56   64   72   80   88   96  104  112  120\n",
       " 18  27  36  45  54   63   72   81   90   99  108  117  126  135\n",
       " 20  30  40  50  60   70   80   90  100  110  120  130  140  150\n",
       " 22  33  44  55  66   77   88   99  110  121  132  143  154  165\n",
       " 24  36  48  60  72   84   96  108  120  132  144  156  168  180\n",
       " 26  39  52  65  78   91  104  117  130  143  156  169  182  195\n",
       " 28  42  56  70  84   98  112  126  140  154  168  182  196  210\n",
       " 30  45  60  75  90  105  120  135  150  165  180  195  210  225"
      ]
     },
     "execution_count": 2,
     "metadata": {},
     "output_type": "execute_result"
    }
   ],
   "source": [
    "a = 2:15\n",
    "a*a'"
   ]
  },
  {
   "cell_type": "code",
   "execution_count": 3,
   "id": "8e954842-7886-4724-92f1-423ebe1d5c65",
   "metadata": {},
   "outputs": [
    {
     "data": {
      "text/plain": [
       "14-element BitVector:\n",
       " 1\n",
       " 1\n",
       " 0\n",
       " 1\n",
       " 0\n",
       " 1\n",
       " 0\n",
       " 0\n",
       " 0\n",
       " 1\n",
       " 0\n",
       " 1\n",
       " 0\n",
       " 0"
      ]
     },
     "execution_count": 3,
     "metadata": {},
     "output_type": "execute_result"
    }
   ],
   "source": [
    "a.∉(a*a',)"
   ]
  },
  {
   "cell_type": "code",
   "execution_count": 4,
   "id": "fb48435d-9d90-4549-9eb0-1770e96cfdcc",
   "metadata": {},
   "outputs": [
    {
     "data": {
      "text/plain": [
       "6-element Vector{Int64}:\n",
       "  2\n",
       "  3\n",
       "  5\n",
       "  7\n",
       " 11\n",
       " 13"
      ]
     },
     "execution_count": 4,
     "metadata": {},
     "output_type": "execute_result"
    }
   ],
   "source": [
    "a[a.∉(a*a',)]"
   ]
  },
  {
   "cell_type": "code",
   "execution_count": 5,
   "id": "2a105fde-84d3-42de-b819-eb6185e9dc75",
   "metadata": {},
   "outputs": [
    {
     "data": {
      "text/plain": [
       "25-element Vector{Int64}:\n",
       "  2\n",
       "  3\n",
       "  5\n",
       "  7\n",
       " 11\n",
       " 13\n",
       " 17\n",
       " 19\n",
       " 23\n",
       " 29\n",
       " 31\n",
       " 37\n",
       " 41\n",
       " 43\n",
       " 47\n",
       " 53\n",
       " 59\n",
       " 61\n",
       " 67\n",
       " 71\n",
       " 73\n",
       " 79\n",
       " 83\n",
       " 89\n",
       " 97"
      ]
     },
     "execution_count": 5,
     "metadata": {},
     "output_type": "execute_result"
    }
   ],
   "source": [
    "2:100|>a->a[a.∉(a*a',)]"
   ]
  },
  {
   "cell_type": "code",
   "execution_count": null,
   "id": "9f4ef3db-a4b0-42f0-b95f-5f4b88b55a95",
   "metadata": {},
   "outputs": [],
   "source": []
  }
 ],
 "metadata": {
  "jupytext": {
   "formats": "ipynb,jl:hydrogen"
  },
  "kernelspec": {
   "display_name": "Julia 1.9.3",
   "language": "julia",
   "name": "julia-1.9"
  },
  "language_info": {
   "file_extension": ".jl",
   "mimetype": "application/julia",
   "name": "julia",
   "version": "1.9.3"
  }
 },
 "nbformat": 4,
 "nbformat_minor": 5
}
