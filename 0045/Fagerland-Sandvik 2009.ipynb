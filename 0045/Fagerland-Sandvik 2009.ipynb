{
 "cells": [
  {
   "cell_type": "markdown",
   "id": "f358c6f2-0242-40e1-b4e8-236840d802ea",
   "metadata": {},
   "source": [
    "* https://onlinelibrary.wiley.com/doi/10.1002/sim.3561\n",
    "  * https://onlinelibrary.wiley.com/action/downloadSupplement?doi=10.1002%2Fsim.3561&file=sim_3561_sm_SupplMat.pdf\n",
    "\n",
    "の再現"
   ]
  },
  {
   "cell_type": "code",
   "execution_count": 1,
   "id": "35a577fe-93e8-46a9-ac41-9295c599a5a7",
   "metadata": {},
   "outputs": [
    {
     "name": "stdout",
     "output_type": "stream",
     "text": [
      "distx = Exponential(1) = Exponential{Float64}(θ=1.0)\n",
      "disty = Exponential(1.5) = Exponential{Float64}(θ=1.5)\n",
      "winningrate(distx, disty) = 0.6000000000000003\n",
      "\n",
      "tiesh = tieshift(distx, disty) = 0.27348233139104033\n",
      "mediansh = median(disty) - median(distx) = 0.3465735902799726\n",
      "meansh = mean(disty) - mean(distx) = 0.5\n",
      "\n",
      "winningrate(distx + tiesh, disty) = 0.5\n",
      "winningrate(distx + mediansh, disty) = 0.47622031634305906\n",
      "winningrate(distx + meansh, disty) = 0.4299187894696709\n",
      "\n",
      "median(distx + tiesh) = 0.9666295119509856\n",
      "median(distx + mediansh) = 1.0397207708399179\n",
      "median(distx + meansh) = 1.1931471805599454\n",
      "median(disty) = 1.0397207708399179\n",
      "\n",
      "mean(distx + tiesh) = 1.2734823313910404\n",
      "mean(distx + mediansh) = 1.3465735902799727\n",
      "mean(distx + meansh) = 1.5\n",
      "mean(disty) = 1.5\n"
     ]
    }
   ],
   "source": [
    "using Random\n",
    "Random.seed!(4649373)\n",
    "\n",
    "using Distributions\n",
    "using QuadGK\n",
    "using Roots\n",
    "#using StatsPlots\n",
    "#default(fmt=:png)\n",
    "\n",
    "function winningrate(\n",
    "        distx::ContinuousUnivariateDistribution,\n",
    "        disty::ContinuousUnivariateDistribution\n",
    "    )\n",
    "    quadgk(y -> cdf(distx, y)*pdf(disty, y), extrema(disty)...)[1]\n",
    "end\n",
    "\n",
    "function tieshift(\n",
    "        distx::ContinuousUnivariateDistribution,\n",
    "        disty::ContinuousUnivariateDistribution;\n",
    "        p = 1/2\n",
    "    )\n",
    "    find_zero(0.0) do a\n",
    "        winningrate(distx + a, disty) - p\n",
    "    end\n",
    "end\n",
    "\n",
    "@show distx = Exponential(1)\n",
    "@show disty = Exponential(1.5)\n",
    "@show winningrate(distx, disty)\n",
    "println()\n",
    "@show tiesh = tieshift(distx, disty)\n",
    "@show mediansh = median(disty) - median(distx)\n",
    "@show meansh = mean(disty) - mean(distx)\n",
    "println()\n",
    "@show winningrate(distx + tiesh, disty)\n",
    "@show winningrate(distx + mediansh, disty)\n",
    "@show winningrate(distx + meansh, disty)\n",
    "println()\n",
    "@show median(distx + tiesh)\n",
    "@show median(distx + mediansh)\n",
    "@show median(distx + meansh)\n",
    "@show median(disty)\n",
    "println()\n",
    "@show mean(distx + tiesh)\n",
    "@show mean(distx + mediansh)\n",
    "@show mean(distx + meansh)\n",
    "@show mean(disty)\n",
    ";"
   ]
  },
  {
   "cell_type": "code",
   "execution_count": 2,
   "id": "5c7fe103-efb1-426a-9093-c6e2dcee8949",
   "metadata": {},
   "outputs": [
    {
     "data": {
      "text/plain": [
       "(0.10237071161776065, 0.10237071161776079)"
      ]
     },
     "execution_count": 2,
     "metadata": {},
     "output_type": "execute_result"
    }
   ],
   "source": [
    "using Distributions\n",
    "\n",
    "@doc raw\"\"\"\n",
    "    brunner_munzel_test(X, Y; p = 1/2)\n",
    "\n",
    "この函数は数値のベクトルのデータ `X`, `Y` について, Brunner-Munzel検定関係の統計量達を計算する. 詳細は以下の通り.\n",
    "\n",
    "函数 $H(x, y)$ と $\\hat{p}$, $H^x_i$, $H^y_j$, $\\bar{H}^x$, $\\bar{H}^y$ を次のように定める:\n",
    "\n",
    "```math\n",
    "\\begin{aligned}\n",
    "&\n",
    "m = \\mathrm{length}(X), \\quad\n",
    "n = \\mathrm{length}(Y), \\quad\n",
    "x_i = X[i], \\quad\n",
    "y_j = Y[j],\n",
    "\\\\ &\n",
    "\\hat{p} = \\frac{1}{mn}\\sum_{i=1}^m \\sum_{j=1}^n H(x_i, y_j),\n",
    "\\\\ &\n",
    "H(x, y) = \\begin{cases} 1 & (x < y) \\\\ 1/2 & (x = y) \\\\ 0 & (x > y), \\end{cases}\n",
    "\\\\ &\n",
    "H^x_i = \\sum_{j=1}^n H(y_j, x_i), \\quad\n",
    "H^y_j = \\sum_{i=1}^m H(x_i, y_j),\n",
    "\\\\ &\n",
    "\\bar{H}^x = \\frac{1}{m} \\sum_{i=1}^m H^x_i = n - n\\hat{p}, \\quad\n",
    "\\bar{H}^y = \\frac{1}{n} \\sum_{j=1}^n H^y_j = m\\hat{p}.\n",
    "\\end{aligned}\n",
    "```\n",
    "\n",
    "この函数は以下達の named tuple で返す:\n",
    "\n",
    "```math\n",
    "\\begin{aligned}\n",
    "&\n",
    "\\mathrm{phat} = \n",
    "\\hat{p} = \\frac{\\bar{H}^y - \\bar{H}^x + n}{m + n},\n",
    "\\\\ &\n",
    "\\mathrm{sx2} =\n",
    "\\hat{\\sigma}_x^2 = \\frac{1}{n^2}\\frac{1}{m-1}\\sum_{i=1}^m (H^x_i - \\bar{H}^x)^2,\n",
    "\\\\ &\n",
    "\\mathrm{sy2} =\n",
    "\\hat{\\sigma}_y^2 = \\frac{1}{m^2}\\frac{1}{n-1}\\sum_{j=1}^n (H^y_j - \\bar{H}^y)^2,\n",
    "\\\\ &\n",
    "\\mathrm{sehat} = \n",
    "\\widehat{\\mathrm{se}} = \\sqrt{\\frac{\\hat{\\sigma}_x^2}{m} + \\frac{\\hat{\\sigma}_y^2}{n}}, \n",
    "\\\\ &\n",
    "\\mathrm{tvalue} = t = \\frac{\\hat{p} - p}{\\widehat{\\mathrm{se}}},\n",
    "\\\\ &\n",
    "\\mathrm{df} =\n",
    "\\nu = \n",
    "\\frac\n",
    "{\\left(\\hat{\\sigma}_x^2/m + \\hat{\\sigma}_y^2/n\\right)^2}\n",
    "{\n",
    "\\dfrac{\\left(\\hat{\\sigma}_x^2/m\\right)^2}{m-1} +\n",
    "\\dfrac{\\left(\\hat{\\sigma}_y^2/n\\right)^2}{n-1}\n",
    "},\n",
    "\\\\ &\n",
    "\\mathrm{pvalue} =\n",
    "2\\mathrm{ccdf}(\\mathrm{TDist}(\\nu), |t|),\n",
    "\\\\ &\n",
    "\\mathrm{p} = p.\n",
    "\\end{aligned}\n",
    "```\n",
    "\"\"\"\n",
    "function brunner_munzel_test(X, Y; p=1/2)\n",
    "    m, n = length(X), length(Y)\n",
    "    phat = mean((x < y) + (x == y)/2 for x in X, y in Y)\n",
    "    Hbarx = n*(1 - phat)\n",
    "    Hbary = m*phat\n",
    "    sx2 = 1/n^2 * 1/(m-1) * sum(x -> (sum((y < x) + (y == x)/2 for y in Y) - Hbarx)^2, X)\n",
    "    sy2 = 1/m^2 * 1/(n-1) * sum(y -> (sum((x < y) + (x == y)/2 for x in X) - Hbary)^2, Y)\n",
    "    sehat = √(sx2/m + sy2/n)\n",
    "    tvalue = (phat - p)/sehat\n",
    "    df = (sx2/m + sy2/n)^2 / ((sx2/m)^2/(m-1) + (sy2/n)^2/(n-1))\n",
    "    pvalue = sehat == 0 ? 0.0 : 2ccdf(TDist(df), abs(tvalue))\n",
    "    (; phat, sehat, tvalue, df, pvalue, p)\n",
    "end\n",
    "\n",
    "@doc raw\"\"\"\n",
    "    pvalue_brunner_munzel_test(X, Y; p = 1/2)\n",
    "\n",
    "この函数はBrunner-Munzel検定のP値 `pvalue` を返す.\n",
    "\"\"\"\n",
    "pvalue_brunner_munzel_test(X, Y; p=1/2) = brunner_munzel_test(X, Y; p).pvalue\n",
    "\n",
    "using RCall\n",
    "@rimport lawstat\n",
    "X = rand(100)\n",
    "Y = rand(100)\n",
    "pvalue_brunner_munzel_test(X, Y), rcopy(lawstat.brunner_munzel_test(X, Y))[:p_value]"
   ]
  },
  {
   "cell_type": "code",
   "execution_count": 3,
   "id": "89d9cb6c-cdbc-4e9f-954f-98d3c41463c1",
   "metadata": {},
   "outputs": [
    {
     "name": "stdout",
     "output_type": "stream",
     "text": [
      "(pvalue_brunner_munzel_test(X, Y), (rcopy(lawstat.brunner_munzel_test(X, Y)))[:p_value]) = (0.0, NaN)\n"
     ]
    },
    {
     "data": {
      "text/plain": [
       "pairs(::NamedTuple) with 6 entries:\n",
       "  :phat   => 0.0\n",
       "  :sehat  => 0.0\n",
       "  :tvalue => -Inf\n",
       "  :df     => NaN\n",
       "  :pvalue => 0.0\n",
       "  :p      => 0.5"
      ]
     },
     "execution_count": 3,
     "metadata": {},
     "output_type": "execute_result"
    }
   ],
   "source": [
    "X = fill(1, 100)\n",
    "Y = fill(0, 100)\n",
    "@show pvalue_brunner_munzel_test(X, Y), rcopy(lawstat.brunner_munzel_test(X, Y))[:p_value]\n",
    "brunner_munzel_test(X, Y) |> pairs"
   ]
  },
  {
   "cell_type": "code",
   "execution_count": 4,
   "id": "842c938e-5ce5-4c73-9eb9-17a3e1ed47c1",
   "metadata": {},
   "outputs": [
    {
     "name": "stdout",
     "output_type": "stream",
     "text": [
      "(pvalue_brunner_munzel_test(X, Y), (rcopy(lawstat.brunner_munzel_test(X, Y)))[:p_value]) = (0.0, NaN)\n"
     ]
    },
    {
     "data": {
      "text/plain": [
       "pairs(::NamedTuple) with 6 entries:\n",
       "  :phat   => 1.0\n",
       "  :sehat  => 0.0\n",
       "  :tvalue => Inf\n",
       "  :df     => NaN\n",
       "  :pvalue => 0.0\n",
       "  :p      => 0.5"
      ]
     },
     "execution_count": 4,
     "metadata": {},
     "output_type": "execute_result"
    }
   ],
   "source": [
    "X = fill(0, 100)\n",
    "Y = fill(1, 100)\n",
    "@show pvalue_brunner_munzel_test(X, Y), rcopy(lawstat.brunner_munzel_test(X, Y))[:p_value]\n",
    "brunner_munzel_test(X, Y) |> pairs"
   ]
  },
  {
   "cell_type": "code",
   "execution_count": 5,
   "id": "c57351df-2f57-402e-85b2-246150e1fafa",
   "metadata": {},
   "outputs": [
    {
     "data": {
      "text/latex": [
       "\\begin{verbatim}\n",
       "brunner_munzel_test(X, Y; p = 1/2)\n",
       "\\end{verbatim}\n",
       "この函数は数値のベクトルのデータ \\texttt{X}, \\texttt{Y} について, Brunner-Munzel検定関係の統計量達を計算する. 詳細は以下の通り.\n",
       "\n",
       "函数 $H(x, y)$ と $\\hat{p}$, $H^x_i$, $H^y_j$, $\\bar{H}^x$, $\\bar{H}^y$ を次のように定める:\n",
       "\n",
       "$$\\begin{aligned}\n",
       "&\n",
       "m = \\mathrm{length}(X), \\quad\n",
       "n = \\mathrm{length}(Y), \\quad\n",
       "x_i = X[i], \\quad\n",
       "y_j = Y[j],\n",
       "\\\\ &\n",
       "\\hat{p} = \\frac{1}{mn}\\sum_{i=1}^m \\sum_{j=1}^n H(x_i, y_j),\n",
       "\\\\ &\n",
       "H(x, y) = \\begin{cases} 1 & (x < y) \\\\ 1/2 & (x = y) \\\\ 0 & (x > y), \\end{cases}\n",
       "\\\\ &\n",
       "H^x_i = \\sum_{j=1}^n H(y_j, x_i), \\quad\n",
       "H^y_j = \\sum_{i=1}^m H(x_i, y_j),\n",
       "\\\\ &\n",
       "\\bar{H}^x = \\frac{1}{m} \\sum_{i=1}^m H^x_i = n - n\\hat{p}, \\quad\n",
       "\\bar{H}^y = \\frac{1}{n} \\sum_{j=1}^n H^y_j = m\\hat{p}.\n",
       "\\end{aligned}$$\n",
       "この函数は以下達の named tuple で返す:\n",
       "\n",
       "$$\\begin{aligned}\n",
       "&\n",
       "\\mathrm{phat} = \n",
       "\\hat{p} = \\frac{\\bar{H}^y - \\bar{H}^x + n}{m + n},\n",
       "\\\\ &\n",
       "\\mathrm{sx2} =\n",
       "\\hat{\\sigma}_x^2 = \\frac{1}{n^2}\\frac{1}{m-1}\\sum_{i=1}^m (H^x_i - \\bar{H}^x)^2,\n",
       "\\\\ &\n",
       "\\mathrm{sy2} =\n",
       "\\hat{\\sigma}_y^2 = \\frac{1}{m^2}\\frac{1}{n-1}\\sum_{j=1}^n (H^y_j - \\bar{H}^y)^2,\n",
       "\\\\ &\n",
       "\\mathrm{sehat} = \n",
       "\\widehat{\\mathrm{se}} = \\sqrt{\\frac{\\hat{\\sigma}_x^2}{m} + \\frac{\\hat{\\sigma}_y^2}{n}}, \n",
       "\\\\ &\n",
       "\\mathrm{tvalue} = t = \\frac{\\hat{p} - p}{\\widehat{\\mathrm{se}}},\n",
       "\\\\ &\n",
       "\\mathrm{df} =\n",
       "\\nu = \n",
       "\\frac\n",
       "{\\left(\\hat{\\sigma}_x^2/m + \\hat{\\sigma}_y^2/n\\right)^2}\n",
       "{\n",
       "\\dfrac{\\left(\\hat{\\sigma}_x^2/m\\right)^2}{m-1} +\n",
       "\\dfrac{\\left(\\hat{\\sigma}_y^2/n\\right)^2}{n-1}\n",
       "},\n",
       "\\\\ &\n",
       "\\mathrm{pvalue} =\n",
       "2\\mathrm{ccdf}(\\mathrm{TDist}(\\nu), |t|),\n",
       "\\\\ &\n",
       "\\mathrm{p} = p.\n",
       "\\end{aligned}$$\n"
      ],
      "text/markdown": [
       "```\n",
       "brunner_munzel_test(X, Y; p = 1/2)\n",
       "```\n",
       "\n",
       "この函数は数値のベクトルのデータ `X`, `Y` について, Brunner-Munzel検定関係の統計量達を計算する. 詳細は以下の通り.\n",
       "\n",
       "函数 $H(x, y)$ と $\\hat{p}$, $H^x_i$, $H^y_j$, $\\bar{H}^x$, $\\bar{H}^y$ を次のように定める:\n",
       "\n",
       "$$\n",
       "\\begin{aligned}\n",
       "&\n",
       "m = \\mathrm{length}(X), \\quad\n",
       "n = \\mathrm{length}(Y), \\quad\n",
       "x_i = X[i], \\quad\n",
       "y_j = Y[j],\n",
       "\\\\ &\n",
       "\\hat{p} = \\frac{1}{mn}\\sum_{i=1}^m \\sum_{j=1}^n H(x_i, y_j),\n",
       "\\\\ &\n",
       "H(x, y) = \\begin{cases} 1 & (x < y) \\\\ 1/2 & (x = y) \\\\ 0 & (x > y), \\end{cases}\n",
       "\\\\ &\n",
       "H^x_i = \\sum_{j=1}^n H(y_j, x_i), \\quad\n",
       "H^y_j = \\sum_{i=1}^m H(x_i, y_j),\n",
       "\\\\ &\n",
       "\\bar{H}^x = \\frac{1}{m} \\sum_{i=1}^m H^x_i = n - n\\hat{p}, \\quad\n",
       "\\bar{H}^y = \\frac{1}{n} \\sum_{j=1}^n H^y_j = m\\hat{p}.\n",
       "\\end{aligned}\n",
       "$$\n",
       "\n",
       "この函数は以下達の named tuple で返す:\n",
       "\n",
       "$$\n",
       "\\begin{aligned}\n",
       "&\n",
       "\\mathrm{phat} = \n",
       "\\hat{p} = \\frac{\\bar{H}^y - \\bar{H}^x + n}{m + n},\n",
       "\\\\ &\n",
       "\\mathrm{sx2} =\n",
       "\\hat{\\sigma}_x^2 = \\frac{1}{n^2}\\frac{1}{m-1}\\sum_{i=1}^m (H^x_i - \\bar{H}^x)^2,\n",
       "\\\\ &\n",
       "\\mathrm{sy2} =\n",
       "\\hat{\\sigma}_y^2 = \\frac{1}{m^2}\\frac{1}{n-1}\\sum_{j=1}^n (H^y_j - \\bar{H}^y)^2,\n",
       "\\\\ &\n",
       "\\mathrm{sehat} = \n",
       "\\widehat{\\mathrm{se}} = \\sqrt{\\frac{\\hat{\\sigma}_x^2}{m} + \\frac{\\hat{\\sigma}_y^2}{n}}, \n",
       "\\\\ &\n",
       "\\mathrm{tvalue} = t = \\frac{\\hat{p} - p}{\\widehat{\\mathrm{se}}},\n",
       "\\\\ &\n",
       "\\mathrm{df} =\n",
       "\\nu = \n",
       "\\frac\n",
       "{\\left(\\hat{\\sigma}_x^2/m + \\hat{\\sigma}_y^2/n\\right)^2}\n",
       "{\n",
       "\\dfrac{\\left(\\hat{\\sigma}_x^2/m\\right)^2}{m-1} +\n",
       "\\dfrac{\\left(\\hat{\\sigma}_y^2/n\\right)^2}{n-1}\n",
       "},\n",
       "\\\\ &\n",
       "\\mathrm{pvalue} =\n",
       "2\\mathrm{ccdf}(\\mathrm{TDist}(\\nu), |t|),\n",
       "\\\\ &\n",
       "\\mathrm{p} = p.\n",
       "\\end{aligned}\n",
       "$$\n"
      ],
      "text/plain": [
       "\u001b[36m  brunner_munzel_test(X, Y; p = 1/2)\u001b[39m\n",
       "\n",
       "  この函数は数値のベクトルのデータ \u001b[36mX\u001b[39m, \u001b[36mY\u001b[39m について, Brunner-Munzel検定関係の統計量達を計算する. 詳細は以下の通り.\n",
       "\n",
       "  函数 \u001b[35mH(x, y)\u001b[39m と \u001b[35m\\hat{p}\u001b[39m, \u001b[35mH^x_i\u001b[39m, \u001b[35mH^y_j\u001b[39m, \u001b[35m\\bar{H}^x\u001b[39m, \u001b[35m\\bar{H}^y\u001b[39m を次のように定める:\n",
       "\n",
       "\u001b[35m  \\begin{aligned}\u001b[39m\n",
       "\u001b[35m&\u001b[39m\n",
       "\u001b[35mm = \\mathrm{length}(X), \\quad\u001b[39m\n",
       "\u001b[35mn = \\mathrm{length}(Y), \\quad\u001b[39m\n",
       "\u001b[35mx_i = X[i], \\quad\u001b[39m\n",
       "\u001b[35my_j = Y[j],\u001b[39m\n",
       "\u001b[35m\\\\ &\u001b[39m\n",
       "\u001b[35m\\hat{p} = \\frac{1}{mn}\\sum_{i=1}^m \\sum_{j=1}^n H(x_i, y_j),\u001b[39m\n",
       "\u001b[35m\\\\ &\u001b[39m\n",
       "\u001b[35mH(x, y) = \\begin{cases} 1 & (x < y) \\\\ 1/2 & (x = y) \\\\ 0 & (x > y), \\end{cases}\u001b[39m\n",
       "\u001b[35m\\\\ &\u001b[39m\n",
       "\u001b[35mH^x_i = \\sum_{j=1}^n H(y_j, x_i), \\quad\u001b[39m\n",
       "\u001b[35mH^y_j = \\sum_{i=1}^m H(x_i, y_j),\u001b[39m\n",
       "\u001b[35m\\\\ &\u001b[39m\n",
       "\u001b[35m\\bar{H}^x = \\frac{1}{m} \\sum_{i=1}^m H^x_i = n - n\\hat{p}, \\quad\u001b[39m\n",
       "\u001b[35m\\bar{H}^y = \\frac{1}{n} \\sum_{j=1}^n H^y_j = m\\hat{p}.\u001b[39m\n",
       "\u001b[35m\\end{aligned}\u001b[39m\n",
       "\n",
       "  この函数は以下達の named tuple で返す:\n",
       "\n",
       "\u001b[35m  \\begin{aligned}\u001b[39m\n",
       "\u001b[35m&\u001b[39m\n",
       "\u001b[35m\\mathrm{phat} = \u001b[39m\n",
       "\u001b[35m\\hat{p} = \\frac{\\bar{H}^y - \\bar{H}^x + n}{m + n},\u001b[39m\n",
       "\u001b[35m\\\\ &\u001b[39m\n",
       "\u001b[35m\\mathrm{sx2} =\u001b[39m\n",
       "\u001b[35m\\hat{\\sigma}_x^2 = \\frac{1}{n^2}\\frac{1}{m-1}\\sum_{i=1}^m (H^x_i - \\bar{H}^x)^2,\u001b[39m\n",
       "\u001b[35m\\\\ &\u001b[39m\n",
       "\u001b[35m\\mathrm{sy2} =\u001b[39m\n",
       "\u001b[35m\\hat{\\sigma}_y^2 = \\frac{1}{m^2}\\frac{1}{n-1}\\sum_{j=1}^n (H^y_j - \\bar{H}^y)^2,\u001b[39m\n",
       "\u001b[35m\\\\ &\u001b[39m\n",
       "\u001b[35m\\mathrm{sehat} = \u001b[39m\n",
       "\u001b[35m\\widehat{\\mathrm{se}} = \\sqrt{\\frac{\\hat{\\sigma}_x^2}{m} + \\frac{\\hat{\\sigma}_y^2}{n}}, \u001b[39m\n",
       "\u001b[35m\\\\ &\u001b[39m\n",
       "\u001b[35m\\mathrm{tvalue} = t = \\frac{\\hat{p} - p}{\\widehat{\\mathrm{se}}},\u001b[39m\n",
       "\u001b[35m\\\\ &\u001b[39m\n",
       "\u001b[35m\\mathrm{df} =\u001b[39m\n",
       "\u001b[35m\\nu = \u001b[39m\n",
       "\u001b[35m\\frac\u001b[39m\n",
       "\u001b[35m{\\left(\\hat{\\sigma}_x^2/m + \\hat{\\sigma}_y^2/n\\right)^2}\u001b[39m\n",
       "\u001b[35m{\u001b[39m\n",
       "\u001b[35m\\dfrac{\\left(\\hat{\\sigma}_x^2/m\\right)^2}{m-1} +\u001b[39m\n",
       "\u001b[35m\\dfrac{\\left(\\hat{\\sigma}_y^2/n\\right)^2}{n-1}\u001b[39m\n",
       "\u001b[35m},\u001b[39m\n",
       "\u001b[35m\\\\ &\u001b[39m\n",
       "\u001b[35m\\mathrm{pvalue} =\u001b[39m\n",
       "\u001b[35m2\\mathrm{ccdf}(\\mathrm{TDist}(\\nu), |t|),\u001b[39m\n",
       "\u001b[35m\\\\ &\u001b[39m\n",
       "\u001b[35m\\mathrm{p} = p.\u001b[39m\n",
       "\u001b[35m\\end{aligned}\u001b[39m"
      ]
     },
     "execution_count": 5,
     "metadata": {},
     "output_type": "execute_result"
    }
   ],
   "source": [
    "@doc brunner_munzel_test"
   ]
  },
  {
   "cell_type": "code",
   "execution_count": 6,
   "id": "2ad123af-b126-4c93-9e90-0c8b7334fb83",
   "metadata": {},
   "outputs": [
    {
     "data": {
      "text/plain": [
       "(0.04990007292443201, 0.04990007292443193)"
      ]
     },
     "execution_count": 6,
     "metadata": {},
     "output_type": "execute_result"
    }
   ],
   "source": [
    "function mann_whitney_u_test(X, Y; correct=true)\n",
    "    m, n = length(X), length(Y)\n",
    "    phat = mean((x < y) + (x == y)/2 for x in X, y in Y)\n",
    "    sehat = √((m+n+1)/(12m*n))\n",
    "    zvalue = (phat - 1/2)/sehat\n",
    "    correction = correct/(2m*n*sehat)\n",
    "    pvalue = 2ccdf(Normal(), max(0, abs(zvalue) - correction))\n",
    "    (; phat, sehat, zvalue, pvalue)\n",
    "end\n",
    "\n",
    "pvalue_mann_whitney_u_test(X, Y; correct=true) = mann_whitney_u_test(X, Y; correct).pvalue\n",
    "\n",
    "using HypothesisTests\n",
    "X = randn(100)\n",
    "Y = randn(100)\n",
    "pvalue_mann_whitney_u_test(X, Y), pvalue(ApproximateMannWhitneyUTest(X, Y))"
   ]
  },
  {
   "cell_type": "code",
   "execution_count": 7,
   "id": "8c730f80-d95c-4962-ac69-7f46087b04c9",
   "metadata": {},
   "outputs": [
    {
     "data": {
      "text/plain": [
       "(0.4389806931272048, 0.4389806931272048)"
      ]
     },
     "execution_count": 7,
     "metadata": {},
     "output_type": "execute_result"
    }
   ],
   "source": [
    "function student_t_test(X, Y; μ = 0.0)\n",
    "    m, X̄, SX2 = length(X), mean(X), var(X)\n",
    "    n, Ȳ, SY2 = length(Y), mean(Y), var(Y)\n",
    "    S2 = ((m-1)*SX2 + (n-1)*SY2) / (m+n-2)\n",
    "    sehat2 = S2 * (1/m + 1/n)\n",
    "    tvalue = (X̄ - Ȳ - μ) / √sehat2\n",
    "    df = m + n - 2\n",
    "    pvalue = 2ccdf(TDist(df), abs(tvalue))\n",
    "    (; pvalue, tvalue, sehat2, df)\n",
    "end\n",
    "\n",
    "pvalue_student_t_test(X, Y; μ = 0.0) = student_t_test(X, Y; μ).pvalue\n",
    "\n",
    "using HypothesisTests\n",
    "X = randn(100)\n",
    "Y = randn(100)\n",
    "pvalue_student_t_test(X, Y), pvalue(EqualVarianceTTest(X, Y))"
   ]
  },
  {
   "cell_type": "code",
   "execution_count": 8,
   "id": "c846b319-9bb1-4912-8173-42073540ea0b",
   "metadata": {},
   "outputs": [
    {
     "data": {
      "text/plain": [
       "(0.7219945156946428, 0.7219945156946428)"
      ]
     },
     "execution_count": 8,
     "metadata": {},
     "output_type": "execute_result"
    }
   ],
   "source": [
    "function welch_t_test(X, Y; μ = 0.0)\n",
    "    m, X̄, SX2 = length(X), mean(X), var(X)\n",
    "    n, Ȳ, SY2 = length(Y), mean(Y), var(Y)\n",
    "    sehat2 = SX2/m + SY2/n\n",
    "    tvalue = (X̄ - Ȳ - μ) / √sehat2\n",
    "    df = sehat2^2 / ((SX2/m)^2/(m-1) + (SY2/n)^2/(n-1))\n",
    "    pvalue = 2ccdf(TDist(df), abs(tvalue))\n",
    "    (; pvalue, tvalue, sehat2, df)\n",
    "end\n",
    "\n",
    "pvalue_welch_t_test(X, Y; μ = 0.0) =welch_t_test(X, Y; μ).pvalue\n",
    "\n",
    "using HypothesisTests\n",
    "X = randn(100)\n",
    "Y = randn(100)\n",
    "pvalue_welch_t_test(X, Y), pvalue(UnequalVarianceTTest(X, Y))"
   ]
  },
  {
   "cell_type": "code",
   "execution_count": 9,
   "id": "82c65acc-d7a8-40d7-bf8f-82137ac57678",
   "metadata": {},
   "outputs": [
    {
     "data": {
      "text/plain": [
       "([1.0, 2.0, 3.0, 4.0, 5.0], [2.0, 4.0, 6.0, 8.0, 10.0], [6.0, 24.0, 54.0, 96.0, 150.0])"
      ]
     },
     "execution_count": 9,
     "metadata": {},
     "output_type": "execute_result"
    }
   ],
   "source": [
    "\"\"\"\n",
    "gammadist(σ, β)\n",
    "\n",
    "returns the gamma distribution with standard deviation `σ` and skewness `β`.\n",
    "\"\"\"\n",
    "gammadist(σ, β) = β == 0 ? Normal(0, σ) : Gamma(4/β^2, β*σ/2)\n",
    "\n",
    "gam = gammadist.(1:5, 2:2:10)\n",
    "std.(gam), skewness.(gam), kurtosis.(gam)"
   ]
  },
  {
   "cell_type": "code",
   "execution_count": 10,
   "id": "46b4cf4c-100b-4bd0-86f6-09a57cd056ca",
   "metadata": {},
   "outputs": [
    {
     "data": {
      "text/latex": [
       "gammadist(σ, β)\n",
       "\n",
       "returns the gamma distribution with standard deviation \\texttt{σ} and skewness \\texttt{β}.\n",
       "\n"
      ],
      "text/markdown": [
       "gammadist(σ, β)\n",
       "\n",
       "returns the gamma distribution with standard deviation `σ` and skewness `β`.\n"
      ],
      "text/plain": [
       "  gammadist(σ, β)\n",
       "\n",
       "  returns the gamma distribution with standard deviation \u001b[36mσ\u001b[39m and skewness \u001b[36mβ\u001b[39m."
      ]
     },
     "execution_count": 10,
     "metadata": {},
     "output_type": "execute_result"
    }
   ],
   "source": [
    "@doc gammadist"
   ]
  },
  {
   "cell_type": "code",
   "execution_count": 11,
   "id": "674ae6d8-b632-429f-acc4-8a4fbea161a0",
   "metadata": {},
   "outputs": [
    {
     "data": {
      "text/plain": [
       "([0.9999999999999999, 2.0, 3.0, 3.9999999999999996, 5.0], [2.0, 4.0, 6.0, 7.999999999999998, 10.0], [9.134446499564898, 72.54101966249682, NaN, NaN, NaN])"
      ]
     },
     "execution_count": 11,
     "metadata": {},
     "output_type": "execute_result"
    }
   ],
   "source": [
    "\"\"\"\n",
    "inversegammadist(σ, β)\n",
    "\n",
    "returns the inverse gamma distribution with standard deviation `σ` and skewness `β`.\n",
    "\"\"\"\n",
    "function inversegammadist(σ, β)\n",
    "    β == 0 && return Normal(0, σ)\n",
    "    γ = 1/β\n",
    "    α = 3 + 8γ^2 + 4γ * √(1 + 4γ^2)\n",
    "    θ = σ * (α - 1) * √(α - 2)\n",
    "    InverseGamma(α, θ)\n",
    "end\n",
    "\n",
    "igam = inversegammadist.(1:5, 2:2:10)\n",
    "std.(igam), skewness.(igam), kurtosis.(igam)"
   ]
  },
  {
   "cell_type": "code",
   "execution_count": 12,
   "id": "b648b6db-080c-4996-944c-63a54ac9515b",
   "metadata": {},
   "outputs": [
    {
     "data": {
      "text/latex": [
       "inversegammadist(σ, β)\n",
       "\n",
       "returns the inverse gamma distribution with standard deviation \\texttt{σ} and skewness \\texttt{β}.\n",
       "\n"
      ],
      "text/markdown": [
       "inversegammadist(σ, β)\n",
       "\n",
       "returns the inverse gamma distribution with standard deviation `σ` and skewness `β`.\n"
      ],
      "text/plain": [
       "  inversegammadist(σ, β)\n",
       "\n",
       "  returns the inverse gamma distribution with standard deviation \u001b[36mσ\u001b[39m and\n",
       "  skewness \u001b[36mβ\u001b[39m."
      ]
     },
     "execution_count": 12,
     "metadata": {},
     "output_type": "execute_result"
    }
   ],
   "source": [
    "@doc inversegammadist"
   ]
  },
  {
   "cell_type": "code",
   "execution_count": 13,
   "id": "deadedec-47cf-461b-9328-5b771a307555",
   "metadata": {},
   "outputs": [
    {
     "data": {
      "text/plain": [
       "sim (generic function with 1 method)"
      ]
     },
     "execution_count": 13,
     "metadata": {},
     "output_type": "execute_result"
    }
   ],
   "source": [
    "undefarray(T::Type, n...) = Array{T}(undef, n...)\n",
    "undefarray(n...) = undefarray(Float64, n...)\n",
    "ECDF(A, x) = count(≤(x), A) / length(A)\n",
    "\n",
    "list_skewness = ((β, β) for β in 0:0.5:3)\n",
    "list_skewness2 = ((β, β-0.5) for β in 1:0.5:3)\n",
    "list_stdratio = reverse((1.0, 1.1, 1.25, 1.5, 2.0))\n",
    "\n",
    "rd(x) = round(100x; digits=1)\n",
    "\n",
    "function print_sim(;\n",
    "        list_skewness = list_skewness,\n",
    "        list_stdratio = list_stdratio,\n",
    "        distfunc = gammadist,\n",
    "        α = 0.05,\n",
    "        L = 10^5,\n",
    "        m = 25,\n",
    "        n = 25,\n",
    "        shifttype = :auto,\n",
    "    )\n",
    "    \n",
    "    nx = length(list_skewness)\n",
    "    ny = length(list_stdratio)\n",
    "    # error rates\n",
    "    er_wmw = undefarray(nx, ny)\n",
    "    er_bm = undefarray(nx, ny)\n",
    "    er_st = undefarray(nx, ny)\n",
    "    er_we = undefarray(nx, ny)\n",
    "    \n",
    "    for (i, (β1, β2)) in enumerate(list_skewness), (j, σ) in enumerate(list_stdratio)\n",
    "        distx = distfunc(σ, β1)\n",
    "        disty = distfunc(1, β2)\n",
    "        (; pval_wmw, pval_bm, pval_st, pval_we) = sim(distx, disty, m, n; shifttype, L)\n",
    "        er_wmw[i, j] = ECDF(pval_wmw, α)\n",
    "        er_bm[i, j] = ECDF(pval_bm, α)\n",
    "        er_st[i, j] = ECDF(pval_st, α)\n",
    "        er_we[i, j] = ECDF(pval_we, α)\n",
    "    end\n",
    "    \n",
    "    println(\"Wilcoxon-Mann-Whitney:\"); Base.print_matrix(stdout, rd.(er_wmw'))\n",
    "    println(\"\\n\\nBrunner-Munzel:\"); Base.print_matrix(stdout, rd.(er_bm'))\n",
    "    println(\"\\n\\nStudent t:\"); Base.print_matrix(stdout, rd.(er_st'))\n",
    "    println(\"\\n\\nWelch t:\"); Base.print_matrix(stdout, rd.(er_we'))\n",
    "    println(\"\\n\")\n",
    "end\n",
    "\n",
    "function sim(distx, disty, m, n; shifttype=:mean, L=10^5)\n",
    "    meansh = mean(disty) - mean(distx)\n",
    "    mediansh = median(disty) - median(distx)\n",
    "    tiesh = tieshift(distx, disty)\n",
    "    if shifttype == :mean\n",
    "        distx_sh = distx + meansh\n",
    "    elseif shifttype == :median\n",
    "        distx_sh = distx + mediansh\n",
    "    elseif shifttype == :tie || shifttype == :auto\n",
    "        distx_sh = distx + tiesh\n",
    "    else\n",
    "        distx_sh = distx\n",
    "    end\n",
    "    \n",
    "    pval_wmw = undefarray(L)\n",
    "    pval_bm = undefarray(L)\n",
    "    pval_st = undefarray(L)\n",
    "    pval_we = undefarray(L)\n",
    "    nth = Threads.nthreads()\n",
    "    Xtmp = [undefarray(m) for _ in 1:nth]\n",
    "    Ytmp = [undefarray(n) for _ in 1:nth]\n",
    "    Threads.@threads for i in 1:L\n",
    "        tid = Threads.threadid()\n",
    "        X = rand!(distx_sh, Xtmp[tid])\n",
    "        Y = rand!(disty, Ytmp[tid])\n",
    "        pval_wmw[i] = pvalue_mann_whitney_u_test(X, Y)\n",
    "        pval_bm[i] = pvalue_brunner_munzel_test(X, Y)\n",
    "        if shifttype == :auto\n",
    "            @. X = X - tiesh + meansh\n",
    "        end\n",
    "        pval_st[i] = pvalue_student_t_test(X, Y)\n",
    "        pval_we[i] = pvalue_welch_t_test(X, Y)\n",
    "    end\n",
    "    \n",
    "    (; pval_wmw, pval_bm, pval_st, pval_we)\n",
    "end"
   ]
  },
  {
   "cell_type": "markdown",
   "id": "600bf42d-4212-4b0c-ac6e-c8853478ecae",
   "metadata": {},
   "source": [
    "原論文は不適切な比較をしていたので, その訂正版を以下で作成した."
   ]
  },
  {
   "cell_type": "code",
   "execution_count": 14,
   "id": "d93497d9-ec15-4687-9f66-93f99d927c32",
   "metadata": {},
   "outputs": [
    {
     "name": "stdout",
     "output_type": "stream",
     "text": [
      "Wilcoxon-Mann-Whitney:\n",
      " 5.6  5.6  5.7  5.6  5.6  5.6  5.7\n",
      " 5.1  5.0  5.1  5.0  5.1  5.1  5.2\n",
      " 4.8  4.8  4.9  4.8  4.9  5.0  4.9\n",
      " 4.8  4.9  4.8  4.8  4.7  4.7  4.7\n",
      " 4.7  4.7  4.8  4.7  4.8  4.7  4.6\n",
      "\n",
      "Brunner-Munzel:\n",
      " 5.2  5.2  5.2  5.1  5.1  5.1  5.3\n",
      " 5.2  5.2  5.3  5.2  5.1  5.2  5.3\n",
      " 5.3  5.3  5.3  5.2  5.3  5.3  5.2\n",
      " 5.2  5.3  5.2  5.3  5.2  5.2  5.2\n",
      " 5.2  5.2  5.2  5.2  5.2  5.2  5.1\n",
      "\n",
      "Student t:\n",
      " 5.2  5.3  5.4  5.7  6.2  6.4  7.1\n",
      " 5.1  5.1  5.3  5.2  5.3  5.4  5.7\n",
      " 5.0  5.1  5.0  5.1  5.0  5.0  4.9\n",
      " 5.0  5.1  4.9  4.9  4.7  4.6  4.4\n",
      " 5.0  5.0  5.0  4.9  4.8  4.6  4.3\n",
      "\n",
      "Welch t:\n",
      " 5.0  5.1  5.2  5.5  6.1  6.3  7.0\n",
      " 5.0  5.0  5.2  5.1  5.2  5.2  5.5\n",
      " 5.0  5.0  4.9  5.0  4.9  4.8  4.6\n",
      " 5.0  5.1  4.9  4.8  4.6  4.4  4.2\n",
      " 4.9  5.0  4.9  4.8  4.6  4.4  4.1\n",
      "\n"
     ]
    }
   ],
   "source": [
    "print_sim(; m=25, n=25, list_skewness = list_skewness)"
   ]
  },
  {
   "cell_type": "code",
   "execution_count": 15,
   "id": "326ab47e-9590-4478-b5ec-e64cb4a971f6",
   "metadata": {},
   "outputs": [
    {
     "name": "stdout",
     "output_type": "stream",
     "text": [
      "Wilcoxon-Mann-Whitney:\n",
      " 5.9  5.8  5.8  5.9  5.9  5.9  5.9\n",
      " 5.4  5.2  5.3  5.3  5.4  5.4  5.3\n",
      " 5.1  5.0  5.2  5.1  5.0  5.3  5.2\n",
      " 5.0  5.0  4.9  5.0  5.0  5.1  5.0\n",
      " 5.0  5.0  4.9  5.0  4.9  5.1  5.0\n",
      "\n",
      "Brunner-Munzel:\n",
      " 5.1  5.0  5.1  5.0  5.1  5.0  5.1\n",
      " 5.2  5.1  5.0  5.0  5.2  5.2  5.0\n",
      " 5.1  5.0  5.2  5.1  5.0  5.2  5.2\n",
      " 5.1  5.1  5.0  5.1  5.1  5.2  5.1\n",
      " 5.1  5.1  5.0  5.1  5.0  5.3  5.2\n",
      "\n",
      "Student t:\n",
      " 5.1  5.0  5.2  5.2  5.6  5.9  6.2\n",
      " 5.1  5.0  5.0  5.1  5.2  5.2  5.3\n",
      " 5.0  4.9  5.1  5.0  4.9  5.1  5.0\n",
      " 5.1  5.0  4.9  4.9  5.0  4.9  4.8\n",
      " 5.0  4.9  4.9  5.0  4.9  4.9  4.7\n",
      "\n",
      "Welch t:\n",
      " 5.1  4.9  5.1  5.1  5.5  5.8  6.1\n",
      " 5.1  4.9  5.0  5.0  5.1  5.1  5.3\n",
      " 5.0  4.9  5.1  5.0  4.9  5.0  4.9\n",
      " 5.1  5.0  4.8  4.9  4.9  4.8  4.7\n",
      " 5.0  4.9  4.9  5.0  4.8  4.8  4.6\n",
      "\n"
     ]
    }
   ],
   "source": [
    "print_sim(; m=50, n=50, list_skewness = list_skewness)"
   ]
  },
  {
   "cell_type": "code",
   "execution_count": 16,
   "id": "9ad2375d-fb2a-44c5-a829-a6394356881f",
   "metadata": {},
   "outputs": [
    {
     "name": "stdout",
     "output_type": "stream",
     "text": [
      "Wilcoxon-Mann-Whitney:\n",
      " 11.0  10.8  10.9  10.8  10.9  11.0  10.8\n",
      "  8.3   8.3   8.3   8.4   8.5   8.6   8.7\n",
      "  6.7   6.6   6.8   6.9   6.9   7.0   7.0\n",
      "  5.6   5.5   5.7   5.8   5.7   5.8   5.9\n",
      "  5.0   4.9   5.0   5.0   4.8   4.9   4.7\n",
      "\n",
      "Brunner-Munzel:\n",
      " 5.2  5.1  5.1  5.1  5.0  5.2  5.1\n",
      " 5.2  5.2  5.1  5.2  5.2  5.1  5.2\n",
      " 5.2  5.1  5.2  5.2  5.1  5.1  5.2\n",
      " 5.2  5.0  5.2  5.3  5.1  5.2  5.3\n",
      " 5.3  5.2  5.3  5.3  5.1  5.2  5.0\n",
      "\n",
      "Student t:\n",
      " 18.0  18.0  18.0  18.3  18.2  18.6  18.7\n",
      " 12.1  12.2  12.1  12.1  12.1  11.8  12.0\n",
      "  8.7   8.4   8.7   8.5   8.2   8.0   8.2\n",
      "  6.4   6.2   6.4   6.4   6.1   6.0   5.9\n",
      "  5.0   5.0   5.0   5.0   4.8   4.7   4.5\n",
      "\n",
      "Welch t:\n",
      " 5.1  5.1  5.6  6.3  7.2  8.4  9.5\n",
      " 5.0  5.2  5.5  6.0  6.8  7.7  8.9\n",
      " 5.2  5.0  5.5  6.0  6.5  7.1  8.3\n",
      " 5.0  4.9  5.5  5.9  6.5  6.9  7.7\n",
      " 5.2  5.2  5.4  5.7  6.1  6.6  7.2\n",
      "\n"
     ]
    }
   ],
   "source": [
    "print_sim(; m=25, n=100, list_skewness = list_skewness)"
   ]
  },
  {
   "cell_type": "code",
   "execution_count": 17,
   "id": "28cb716c-ce02-4845-83e8-467b90e56d7b",
   "metadata": {},
   "outputs": [
    {
     "name": "stdout",
     "output_type": "stream",
     "text": [
      "Wilcoxon-Mann-Whitney:\n",
      " 1.6  1.5  1.5  1.6  1.5  1.6  1.7\n",
      " 2.5  2.5  2.4  2.4  2.3  2.3  2.4\n",
      " 3.5  3.4  3.3  3.1  3.2  3.2  3.2\n",
      " 4.2  4.2  4.1  4.1  4.0  4.0  4.2\n",
      " 4.9  4.8  4.8  4.8  4.8  4.8  4.8\n",
      "\n",
      "Brunner-Munzel:\n",
      " 5.2  5.1  4.9  5.1  5.0  5.1  5.1\n",
      " 5.1  5.1  5.1  5.1  5.0  5.2  5.2\n",
      " 5.3  5.2  5.1  5.0  5.2  5.1  5.1\n",
      " 5.1  5.2  5.2  5.1  5.1  5.2  5.3\n",
      " 5.3  5.0  5.1  5.1  5.1  5.1  5.1\n",
      "\n",
      "Student t:\n",
      " 0.4  0.5  0.5  0.7  0.8  1.0  1.2\n",
      " 1.3  1.4  1.4  1.5  1.6  1.8  1.9\n",
      " 2.6  2.5  2.5  2.5  2.6  2.7  2.8\n",
      " 3.8  3.9  3.8  3.7  3.6  3.8  3.8\n",
      " 5.0  4.8  4.9  4.8  4.8  4.6  4.6\n",
      "\n",
      "Welch t:\n",
      " 5.1  5.1  4.9  5.0  4.8  4.9  4.6\n",
      " 5.0  5.0  5.1  5.2  5.2  5.4  5.4\n",
      " 5.1  5.1  5.2  5.4  5.8  6.0  6.3\n",
      " 5.1  5.1  5.2  5.6  5.9  6.5  6.9\n",
      " 5.1  5.0  5.3  5.7  6.1  6.6  7.1\n",
      "\n"
     ]
    }
   ],
   "source": [
    "print_sim(; m=100, n=25, list_skewness = list_skewness)"
   ]
  },
  {
   "cell_type": "code",
   "execution_count": 18,
   "id": "566e4a1e-fdea-4b5a-a565-2e6d06606bbe",
   "metadata": {},
   "outputs": [
    {
     "name": "stdout",
     "output_type": "stream",
     "text": [
      "Wilcoxon-Mann-Whitney:\n",
      " 5.8  6.0  5.9  6.0  6.0  6.0  6.0\n",
      " 5.3  5.3  5.4  5.3  5.5  5.5  5.5\n",
      " 5.2  5.1  5.0  5.0  5.1  5.1  5.1\n",
      " 5.2  5.0  4.9  4.9  5.0  5.0  5.0\n",
      " 5.1  5.0  5.0  5.0  5.1  5.1  4.9\n",
      "\n",
      "Brunner-Munzel:\n",
      " 5.0  5.2  5.1  5.1  5.1  5.0  5.0\n",
      " 5.1  5.0  5.1  5.0  5.1  5.1  5.0\n",
      " 5.2  5.0  4.9  4.9  5.0  5.0  5.0\n",
      " 5.2  5.1  4.9  5.0  5.1  5.0  5.1\n",
      " 5.2  5.0  5.1  5.1  5.2  5.1  5.0\n",
      "\n",
      "Student t:\n",
      " 5.0  5.2  5.2  5.3  5.4  5.5  5.7\n",
      " 5.0  5.0  5.1  5.1  5.2  5.1  5.3\n",
      " 5.1  4.9  4.9  5.0  5.0  5.0  4.9\n",
      " 5.0  5.0  4.9  5.0  4.9  5.0  4.9\n",
      " 5.1  5.0  4.9  5.0  4.9  5.0  4.9\n",
      "\n",
      "Welch t:\n",
      " 5.0  5.2  5.1  5.3  5.4  5.4  5.7\n",
      " 5.0  5.0  5.0  5.1  5.2  5.1  5.2\n",
      " 5.1  4.9  4.9  5.0  5.0  4.9  4.9\n",
      " 5.0  5.0  4.9  5.0  4.9  4.9  4.9\n",
      " 5.1  5.0  4.9  5.0  4.9  5.0  4.9\n",
      "\n"
     ]
    }
   ],
   "source": [
    "print_sim(; m=100, n=100, list_skewness = list_skewness)"
   ]
  },
  {
   "cell_type": "code",
   "execution_count": 19,
   "id": "f4a3439e-122f-4e7b-b4ac-07c3bfc81e70",
   "metadata": {},
   "outputs": [
    {
     "name": "stdout",
     "output_type": "stream",
     "text": [
      "Wilcoxon-Mann-Whitney:\n",
      " 5.5  5.4  5.4  5.2  5.2\n",
      " 5.0  5.0  4.8  4.9  4.9\n",
      " 4.8  4.7  5.0  4.7  4.8\n",
      " 4.7  4.8  4.9  4.8  4.7\n",
      " 4.8  4.9  4.9  4.8  5.0\n",
      "\n",
      "Brunner-Munzel:\n",
      " 5.2  5.2  5.2  5.1  5.2\n",
      " 5.3  5.2  5.1  5.3  5.3\n",
      " 5.2  5.1  5.4  5.1  5.2\n",
      " 5.1  5.3  5.3  5.3  5.1\n",
      " 5.4  5.3  5.3  5.2  5.3\n",
      "\n",
      "Student t:\n",
      " 5.5  5.7  6.3  6.6  7.0\n",
      " 5.3  5.4  5.4  5.6  5.7\n",
      " 5.1  5.1  5.2  4.8  4.9\n",
      " 4.9  5.0  4.9  4.7  4.5\n",
      " 5.1  5.0  4.9  4.5  4.6\n",
      "\n",
      "Welch t:\n",
      " 5.4  5.6  6.1  6.5  6.9\n",
      " 5.2  5.3  5.3  5.5  5.5\n",
      " 5.0  5.0  5.1  4.7  4.7\n",
      " 4.8  5.0  4.8  4.5  4.3\n",
      " 5.0  4.9  4.7  4.3  4.3\n",
      "\n"
     ]
    }
   ],
   "source": [
    "print_sim(; m=25, n=25, list_skewness = list_skewness2)"
   ]
  },
  {
   "cell_type": "code",
   "execution_count": 20,
   "id": "ba7c2273-32d8-44b8-9b71-6a9867fe6e4a",
   "metadata": {},
   "outputs": [
    {
     "name": "stdout",
     "output_type": "stream",
     "text": [
      "Wilcoxon-Mann-Whitney:\n",
      " 5.6  5.6  5.8  5.5  5.6\n",
      " 5.2  5.1  5.2  5.1  5.0\n",
      " 5.1  5.0  5.0  4.9  5.1\n",
      " 5.0  5.0  5.0  5.0  5.1\n",
      " 5.0  5.1  5.1  5.1  5.2\n",
      "\n",
      "Brunner-Munzel:\n",
      " 4.9  5.0  5.2  5.1  5.2\n",
      " 5.1  5.0  5.2  5.1  5.1\n",
      " 5.2  5.1  5.1  5.0  5.2\n",
      " 5.1  5.1  5.1  5.1  5.1\n",
      " 5.1  5.2  5.2  5.1  5.1\n",
      "\n",
      "Student t:\n",
      " 5.1  5.4  5.8  6.1  6.3\n",
      " 5.1  5.1  5.3  5.4  5.5\n",
      " 5.1  4.9  5.1  5.0  5.1\n",
      " 5.0  5.0  4.9  4.9  4.9\n",
      " 4.9  5.1  5.0  4.8  4.8\n",
      "\n",
      "Welch t:\n",
      " 5.0  5.3  5.7  6.0  6.2\n",
      " 5.0  5.1  5.2  5.3  5.4\n",
      " 5.1  4.9  5.0  5.0  5.1\n",
      " 5.0  5.0  4.8  4.9  4.8\n",
      " 4.9  5.1  4.9  4.7  4.7\n",
      "\n"
     ]
    }
   ],
   "source": [
    "print_sim(; m=50, n=50, list_skewness = list_skewness2)"
   ]
  },
  {
   "cell_type": "code",
   "execution_count": 21,
   "id": "7a212b18-3d40-40ee-b1cf-55a3d32a8ff9",
   "metadata": {},
   "outputs": [
    {
     "name": "stdout",
     "output_type": "stream",
     "text": [
      "Wilcoxon-Mann-Whitney:\n",
      " 10.5  10.1  10.0  9.9  9.4\n",
      "  7.8   7.6   7.3  6.8  6.4\n",
      "  6.2   5.9   5.6  5.2  4.8\n",
      "  5.2   5.1   4.6  4.4  3.9\n",
      "  4.5   4.3   3.9  3.6  3.4\n",
      "\n",
      "Brunner-Munzel:\n",
      " 5.2  5.1  5.1  5.2  5.2\n",
      " 5.1  5.1  5.1  5.1  5.2\n",
      " 5.1  5.0  5.1  5.2  5.2\n",
      " 5.1  5.3  5.2  5.3  5.1\n",
      " 5.2  5.3  5.1  5.0  5.1\n",
      "\n",
      "Student t:\n",
      " 17.9  18.1  18.4  18.5  18.6\n",
      " 12.1  12.0  11.9  11.9  11.7\n",
      "  8.6   8.4   8.3   8.2   7.9\n",
      "  6.2   6.3   6.0   6.0   5.7\n",
      "  4.9   5.0   4.7   4.5   4.4\n",
      "\n",
      "Welch t:\n",
      " 5.7  6.2  7.1  8.3  9.4\n",
      " 5.6  6.0  7.0  7.6  8.8\n",
      " 5.4  6.0  6.7  7.4  8.4\n",
      " 5.3  5.9  6.4  7.1  7.8\n",
      " 5.4  5.9  6.2  6.7  7.1\n",
      "\n"
     ]
    }
   ],
   "source": [
    "print_sim(; m=25, n=100, list_skewness = list_skewness2)"
   ]
  },
  {
   "cell_type": "code",
   "execution_count": 22,
   "id": "7b9be127-63ef-453e-bdc2-dbb5d252afc9",
   "metadata": {},
   "outputs": [
    {
     "name": "stdout",
     "output_type": "stream",
     "text": [
      "Wilcoxon-Mann-Whitney:\n",
      " 1.6  1.7  1.7  1.9  2.0\n",
      " 2.6  2.8  3.0  3.3  3.8\n",
      " 3.6  3.9  4.3  4.7  5.1\n",
      " 4.6  4.9  5.3  5.9  6.2\n",
      " 5.3  5.5  6.2  6.7  7.0\n",
      "\n",
      "Brunner-Munzel:\n",
      " 5.1  5.2  5.1  5.1  5.1\n",
      " 5.0  5.3  5.1  5.2  5.3\n",
      " 5.1  5.2  5.1  5.2  5.2\n",
      " 5.2  5.2  5.2  5.2  5.3\n",
      " 5.2  5.1  5.3  5.3  5.2\n",
      "\n",
      "Student t:\n",
      " 0.6  0.7  0.8  1.0  1.3\n",
      " 1.4  1.5  1.6  1.9  2.1\n",
      " 2.6  2.7  2.7  2.9  2.9\n",
      " 4.0  3.8  3.9  4.1  3.9\n",
      " 5.1  5.0  5.0  5.0  4.9\n",
      "\n",
      "Welch t:\n",
      " 5.0  5.0  4.8  4.8  4.7\n",
      " 4.9  5.2  5.1  5.2  5.4\n",
      " 4.9  5.2  5.3  5.6  5.9\n",
      " 5.1  5.3  5.5  6.0  6.4\n",
      " 5.0  5.3  5.8  6.2  6.6\n",
      "\n"
     ]
    }
   ],
   "source": [
    "print_sim(; m=100, n=25, list_skewness = list_skewness2)"
   ]
  },
  {
   "cell_type": "code",
   "execution_count": 23,
   "id": "0545b308-96f6-41c0-9dc4-291d0e7f39e6",
   "metadata": {},
   "outputs": [
    {
     "name": "stdout",
     "output_type": "stream",
     "text": [
      "Wilcoxon-Mann-Whitney:\n",
      " 5.7  5.6  5.7  5.6  5.6\n",
      " 5.2  5.3  5.1  5.0  5.1\n",
      " 5.0  5.0  5.0  5.0  5.0\n",
      " 5.1  4.9  5.0  5.1  5.2\n",
      " 5.0  5.1  5.1  5.3  5.2\n",
      "\n",
      "Brunner-Munzel:\n",
      " 5.0  5.0  5.0  5.0  5.1\n",
      " 5.0  5.2  5.0  4.9  5.1\n",
      " 5.1  5.0  5.0  5.0  5.0\n",
      " 5.1  5.0  5.0  5.1  5.1\n",
      " 5.0  5.1  5.1  5.3  5.0\n",
      "\n",
      "Student t:\n",
      " 5.0  5.2  5.2  5.4  5.8\n",
      " 5.0  5.3  5.1  5.0  5.3\n",
      " 5.0  5.1  5.1  4.9  5.0\n",
      " 5.1  4.9  5.0  5.0  5.0\n",
      " 5.0  5.1  5.0  5.0  4.8\n",
      "\n",
      "Welch t:\n",
      " 5.0  5.1  5.2  5.4  5.7\n",
      " 5.0  5.3  5.0  5.0  5.3\n",
      " 5.0  5.1  5.0  4.9  4.9\n",
      " 5.1  4.9  5.0  5.0  5.0\n",
      " 5.0  5.1  5.0  4.9  4.8\n",
      "\n"
     ]
    }
   ],
   "source": [
    "print_sim(; m=100, n=100, list_skewness = list_skewness2)"
   ]
  },
  {
   "cell_type": "markdown",
   "id": "e0491ae7-6d5b-454a-817d-f53b25aff50f",
   "metadata": {},
   "source": [
    "以下の shifttype=:mean と shifttype=:median の場合が原論文の再現になっている."
   ]
  },
  {
   "cell_type": "code",
   "execution_count": 24,
   "id": "56af3e7f-4ce5-4020-84c1-976992dd5391",
   "metadata": {},
   "outputs": [
    {
     "name": "stdout",
     "output_type": "stream",
     "text": [
      "Wilcoxon-Mann-Whitney:\n",
      " 5.7  6.3  8.9  13.9  22.1  33.3  46.2\n",
      " 5.0  5.4  6.4   8.7  13.6  21.7  32.8\n",
      " 4.7  5.0  5.3   6.2   8.1  12.5  20.1\n",
      " 4.6  4.8  4.9   5.0   5.5   6.8  10.1\n",
      " 4.8  4.7  4.8   4.7   4.7   4.7   4.7\n",
      "\n",
      "Brunner-Munzel:\n",
      " 5.3  5.9  8.2  12.7  19.8  29.5  40.9\n",
      " 5.2  5.6  6.6   8.8  13.3  20.6  30.2\n",
      " 5.1  5.4  5.7   6.7   8.6  12.8  19.5\n",
      " 5.1  5.3  5.4   5.4   6.0   7.4  10.6\n",
      " 5.3  5.1  5.3   5.2   5.2   5.2   5.2\n",
      "\n",
      "Student t:\n",
      " 5.3  5.3  5.4  5.7  6.1  6.5  7.3\n",
      " 5.1  5.1  5.1  5.1  5.3  5.5  5.5\n",
      " 5.0  5.1  5.0  5.1  5.0  4.9  4.9\n",
      " 4.9  4.9  5.0  4.8  4.8  4.6  4.5\n",
      " 5.2  4.9  5.0  4.8  4.8  4.7  4.4\n",
      "\n",
      "Welch t:\n",
      " 5.1  5.1  5.2  5.5  5.9  6.4  7.1\n",
      " 5.0  5.0  5.0  5.0  5.2  5.3  5.4\n",
      " 5.0  5.1  5.0  4.9  4.8  4.7  4.6\n",
      " 4.8  4.9  5.0  4.7  4.7  4.4  4.2\n",
      " 5.2  4.9  5.0  4.7  4.7  4.5  4.2\n",
      "\n",
      "  4.722467 seconds (35.27 M allocations: 2.598 GiB, 8.61% gc time)\n"
     ]
    }
   ],
   "source": [
    "@time print_sim(; m=25, n=25, shifttype=:mean)"
   ]
  },
  {
   "cell_type": "code",
   "execution_count": 25,
   "id": "922c3e5c-ed4e-4b82-a9d5-ed20715514ad",
   "metadata": {},
   "outputs": [
    {
     "name": "stdout",
     "output_type": "stream",
     "text": [
      "Wilcoxon-Mann-Whitney:\n",
      " 5.6  5.6  6.0  6.3  7.1  8.3  9.8\n",
      " 4.9  5.1  5.2  5.6  6.0  7.1  8.5\n",
      " 4.8  4.9  4.9  4.9  5.3  6.0  7.1\n",
      " 4.8  4.8  4.7  4.9  4.8  5.1  5.6\n",
      " 4.7  4.7  4.7  4.7  4.7  4.7  4.7\n",
      "\n",
      "Brunner-Munzel:\n",
      " 5.2  5.2  5.5  5.8  6.5  7.4  8.7\n",
      " 5.1  5.3  5.3  5.7  6.1  7.0  8.2\n",
      " 5.1  5.3  5.3  5.3  5.6  6.3  7.4\n",
      " 5.2  5.2  5.2  5.3  5.3  5.6  6.1\n",
      " 5.2  5.2  5.2  5.1  5.2  5.2  5.1\n",
      "\n",
      "Student t:\n",
      " 5.2  5.3  5.8  6.5  7.4  8.6  9.4\n",
      " 5.1  5.1  5.3  5.4  5.7  6.0  6.2\n",
      " 5.0  5.1  5.0  5.0  5.0  5.0  5.0\n",
      " 5.0  5.1  4.9  5.0  4.8  4.6  4.7\n",
      " 5.0  5.0  4.9  4.9  4.7  4.5  4.5\n",
      "\n",
      "Welch t:\n",
      " 5.0  5.1  5.5  6.1  6.9  8.0  8.7\n",
      " 5.0  5.0  5.2  5.2  5.5  5.6  5.8\n",
      " 5.0  5.1  4.9  4.9  4.9  4.8  4.7\n",
      " 5.0  5.0  4.9  4.9  4.7  4.4  4.4\n",
      " 5.0  5.0  4.9  4.8  4.6  4.3  4.3\n",
      "\n",
      "  4.923125 seconds (35.12 M allocations: 2.555 GiB, 7.74% gc time)\n"
     ]
    }
   ],
   "source": [
    "@time print_sim(; m=25, n=25, shifttype=:median)"
   ]
  },
  {
   "cell_type": "code",
   "execution_count": 26,
   "id": "937d1baa-a18d-49e3-8b2e-77a174ad64bb",
   "metadata": {},
   "outputs": [
    {
     "name": "stdout",
     "output_type": "stream",
     "text": [
      "Wilcoxon-Mann-Whitney:\n",
      " 5.4  5.4  5.6  5.6  5.6  5.6  5.8\n",
      " 5.2  4.9  5.0  5.1  5.1  5.3  5.1\n",
      " 4.7  4.7  4.9  4.8  4.9  4.9  4.8\n",
      " 4.9  4.8  4.8  4.8  4.7  4.6  4.7\n",
      " 4.8  4.7  4.8  4.7  4.8  4.7  4.7\n",
      "\n",
      "Brunner-Munzel:\n",
      " 5.0  5.0  5.2  5.2  5.1  5.2  5.3\n",
      " 5.3  5.1  5.1  5.3  5.2  5.4  5.1\n",
      " 5.1  5.1  5.3  5.2  5.2  5.2  5.1\n",
      " 5.3  5.3  5.2  5.2  5.2  5.1  5.2\n",
      " 5.3  5.1  5.3  5.2  5.3  5.2  5.1\n",
      "\n",
      "Student t:\n",
      " 5.1  5.5  6.8  8.7  11.6  14.4  15.8\n",
      " 5.2  5.1  5.7  6.6   7.4   8.6   8.8\n",
      " 5.0  5.1  5.2  5.5   5.7   6.0   5.9\n",
      " 5.1  5.1  4.9  5.0   4.9   4.8   4.8\n",
      " 5.0  4.9  4.9  4.8   4.7   4.6   4.3\n",
      "\n",
      "Welch t:\n",
      " 4.9  5.3  6.5  8.3  10.9  13.6  14.8\n",
      " 5.1  5.0  5.5  6.4   7.1   8.2   8.3\n",
      " 4.9  5.0  5.1  5.3   5.5   5.8   5.6\n",
      " 5.0  5.0  4.8  4.9   4.7   4.6   4.5\n",
      " 4.9  4.9  4.9  4.8   4.6   4.4   4.1\n",
      "\n",
      "  4.987917 seconds (35.32 M allocations: 2.612 GiB, 9.50% gc time)\n"
     ]
    }
   ],
   "source": [
    "@time print_sim(; m=25, n=25, shifttype=:tie)"
   ]
  },
  {
   "cell_type": "code",
   "execution_count": 27,
   "id": "6704a50f-60dc-496d-8119-d383638e6af4",
   "metadata": {},
   "outputs": [
    {
     "name": "stdout",
     "output_type": "stream",
     "text": [
      "Wilcoxon-Mann-Whitney:\n",
      " 5.8  7.6  12.8  22.8  38.7  57.6  74.6\n",
      " 5.3  5.9   8.1  13.5  23.4  38.7  57.5\n",
      " 4.9  5.3   6.1   7.8  12.5  21.4  36.3\n",
      " 5.0  5.0   5.2   5.5   6.5   9.5  16.0\n",
      " 5.0  5.0   4.9   4.9   5.0   4.9   4.9\n",
      "\n",
      "Brunner-Munzel:\n",
      " 5.0  6.6  11.4  20.3  34.7  52.3  69.0\n",
      " 5.1  5.7   7.8  12.9  22.0  36.0  53.4\n",
      " 5.0  5.3   6.1   7.9  12.4  20.7  34.3\n",
      " 5.1  5.1   5.3   5.6   6.6   9.6  15.8\n",
      " 5.1  5.1   5.0   5.1   5.1   5.1   5.0\n",
      "\n",
      "Student t:\n",
      " 5.1  5.1  5.3  5.4  5.7  6.0  6.1\n",
      " 5.1  5.1  5.1  5.1  5.3  5.3  5.4\n",
      " 4.9  5.0  5.1  5.0  5.0  4.9  5.0\n",
      " 5.0  5.1  4.9  5.0  4.9  4.7  4.6\n",
      " 5.0  5.0  4.8  4.9  4.9  4.8  4.7\n",
      "\n",
      "Welch t:\n",
      " 5.0  5.0  5.2  5.3  5.6  5.9  6.0\n",
      " 5.0  5.0  5.0  5.1  5.2  5.3  5.3\n",
      " 4.9  5.0  5.1  5.0  5.0  4.8  4.9\n",
      " 5.0  5.1  4.9  4.9  4.8  4.7  4.5\n",
      " 5.0  5.0  4.8  4.8  4.9  4.8  4.7\n",
      "\n",
      " 10.012609 seconds (35.67 M allocations: 2.709 GiB, 4.04% gc time)\n"
     ]
    }
   ],
   "source": [
    "@time print_sim(; m=50, n=50, shifttype=:mean)"
   ]
  },
  {
   "cell_type": "code",
   "execution_count": 28,
   "id": "d0d28121-d967-4c18-ae18-22f8e02c9506",
   "metadata": {},
   "outputs": [
    {
     "name": "stdout",
     "output_type": "stream",
     "text": [
      "Wilcoxon-Mann-Whitney:\n",
      " 5.8  6.0  6.4  7.4  9.0  11.2  13.9\n",
      " 5.3  5.4  5.6  6.2  7.5   9.4  12.2\n",
      " 4.9  5.1  5.2  5.3  5.9   7.2   9.5\n",
      " 5.1  4.9  5.1  4.9  5.2   5.7   6.6\n",
      " 5.1  5.0  5.0  5.0  4.9   5.0   5.1\n",
      "\n",
      "Brunner-Munzel:\n",
      " 5.0  5.2  5.6  6.4  7.7  9.5  11.8\n",
      " 5.1  5.2  5.4  5.9  7.1  8.8  11.2\n",
      " 5.0  5.2  5.3  5.3  5.9  7.2   9.3\n",
      " 5.2  5.0  5.2  5.1  5.3  5.8   6.7\n",
      " 5.2  5.1  5.1  5.1  5.1  5.1   5.2\n",
      "\n",
      "Student t:\n",
      " 5.1  5.7  7.0  9.7  13.1  16.7  20.1\n",
      " 5.1  5.3  5.7  6.8   7.8   8.8   9.9\n",
      " 5.0  5.1  5.2  5.4   5.7   6.0   6.2\n",
      " 5.1  5.0  5.1  4.9   5.0   5.1   5.1\n",
      " 5.0  5.0  5.0  4.9   4.9   4.7   4.8\n",
      "\n",
      "Welch t:\n",
      " 5.0  5.5  6.8  9.5  12.8  16.4  19.6\n",
      " 5.1  5.2  5.7  6.7   7.7   8.6   9.7\n",
      " 5.0  5.1  5.2  5.3   5.6   6.0   6.1\n",
      " 5.1  4.9  5.1  4.9   5.0   5.1   5.0\n",
      " 5.0  5.0  5.0  4.9   4.9   4.7   4.7\n",
      "\n",
      " 10.040508 seconds (35.50 M allocations: 2.661 GiB, 4.62% gc time)\n"
     ]
    }
   ],
   "source": [
    "@time print_sim(; m=50, n=50, shifttype=:median)"
   ]
  },
  {
   "cell_type": "code",
   "execution_count": 29,
   "id": "5c94d797-c3e6-4212-9eba-ff87b02e6a74",
   "metadata": {},
   "outputs": [
    {
     "name": "stdout",
     "output_type": "stream",
     "text": [
      "Wilcoxon-Mann-Whitney:\n",
      " 5.9  5.8  5.9  5.9  6.0  6.0  5.9\n",
      " 5.2  5.3  5.3  5.3  5.3  5.4  5.4\n",
      " 5.1  5.0  5.1  5.1  5.1  5.1  5.2\n",
      " 4.9  4.8  4.9  5.0  5.0  5.1  5.0\n",
      " 4.8  5.1  5.0  4.9  5.0  4.9  4.9\n",
      "\n",
      "Brunner-Munzel:\n",
      " 5.1  5.1  5.1  5.0  5.1  5.1  5.0\n",
      " 5.0  5.0  5.1  5.1  5.1  5.2  5.1\n",
      " 5.1  5.0  5.2  5.1  5.2  5.1  5.1\n",
      " 5.1  4.9  5.0  5.2  5.2  5.2  5.1\n",
      " 5.0  5.3  5.2  5.1  5.1  5.1  5.1\n",
      "\n",
      "Student t:\n",
      " 5.2  6.1  9.7  15.8  23.6  30.8  34.7\n",
      " 4.9  5.5  6.9   9.3  12.5  15.4  16.5\n",
      " 5.1  5.1  5.6   6.5   7.3   8.1   8.6\n",
      " 5.0  4.9  5.1   5.2   5.4   5.6   5.5\n",
      " 4.9  5.1  5.1   4.9   4.9   4.8   4.7\n",
      "\n",
      "Welch t:\n",
      " 5.1  6.0  9.5  15.5  23.2  30.3  34.2\n",
      " 4.8  5.5  6.9   9.2  12.4  15.2  16.3\n",
      " 5.0  5.1  5.6   6.4   7.2   8.0   8.5\n",
      " 5.0  4.9  5.1   5.2   5.4   5.5   5.4\n",
      " 4.9  5.1  5.1   4.9   4.9   4.8   4.6\n",
      "\n",
      " 10.225169 seconds (35.82 M allocations: 2.751 GiB, 4.52% gc time)\n"
     ]
    }
   ],
   "source": [
    "@time print_sim(; m=50, n=50, shifttype=:tie)"
   ]
  },
  {
   "cell_type": "code",
   "execution_count": 30,
   "id": "b0a06858-ad84-4010-8ba6-f5eff0ff8dac",
   "metadata": {},
   "outputs": [
    {
     "name": "stdout",
     "output_type": "stream",
     "text": [
      "Wilcoxon-Mann-Whitney:\n",
      " 10.6  11.9  16.6  24.1  35.7  49.3  62.9\n",
      "  8.3   8.9  11.1  15.4  23.7  34.9  48.9\n",
      "  6.8   7.0   7.8   9.6  13.7  21.4  33.0\n",
      "  5.6   5.7   5.9   6.5   7.7  10.7  16.8\n",
      "  4.9   5.0   4.9   4.9   4.8   4.8   4.9\n",
      "\n",
      "Brunner-Munzel:\n",
      " 5.0  5.8  8.6  13.1  20.6  30.6  42.5\n",
      " 5.1  5.6  6.8   9.5  14.5  21.6  32.1\n",
      " 5.3  5.3  5.9   6.9   9.2  13.8  21.2\n",
      " 5.2  5.2  5.3   5.6   6.2   8.0  11.3\n",
      " 5.1  5.3  5.2   5.2   5.2   5.1   5.2\n",
      "\n",
      "Student t:\n",
      " 17.9  18.1  18.4  18.3  18.4  18.6  18.9\n",
      " 12.2  12.2  12.2  12.0  12.2  12.1  11.9\n",
      "  8.7   8.7   8.7   8.4   8.2   8.2   8.1\n",
      "  6.4   6.4   6.3   6.2   6.1   6.1   5.9\n",
      "  4.9   5.1   5.0   4.9   4.8   4.7   4.7\n",
      "\n",
      "Welch t:\n",
      " 4.9  5.1  5.7  6.3  7.1  8.3  9.6\n",
      " 5.0  5.2  5.6  6.1  6.9  7.8  8.8\n",
      " 5.1  5.2  5.6  5.9  6.5  7.4  8.2\n",
      " 5.0  5.2  5.3  5.8  6.3  7.0  7.7\n",
      " 4.9  5.2  5.3  5.8  6.2  6.7  7.2\n",
      "\n",
      " 10.351226 seconds (35.84 M allocations: 2.758 GiB, 4.56% gc time)\n"
     ]
    }
   ],
   "source": [
    "@time print_sim(; m=25, n=100, shifttype=:mean)"
   ]
  },
  {
   "cell_type": "code",
   "execution_count": 31,
   "id": "5b2c1d51-3257-4bb4-af3c-a02c7a3ac949",
   "metadata": {},
   "outputs": [
    {
     "name": "stdout",
     "output_type": "stream",
     "text": [
      "Wilcoxon-Mann-Whitney:\n",
      " 10.7  10.9  11.6  12.3  13.8  15.6  18.0\n",
      "  8.4   8.4   8.7   9.5  10.8  12.5  15.3\n",
      "  6.7   6.8   7.1   7.3   8.2   9.6  11.9\n",
      "  5.6   5.6   5.8   5.9   6.2   7.1   8.3\n",
      "  5.0   4.8   4.9   4.8   5.0   5.0   4.8\n",
      "\n",
      "Brunner-Munzel:\n",
      " 5.1  5.2  5.5  5.8  6.5  7.2  8.6\n",
      " 5.3  5.2  5.3  5.7  6.2  6.9  8.3\n",
      " 5.2  5.2  5.3  5.4  5.8  6.3  7.5\n",
      " 5.1  5.2  5.2  5.3  5.4  5.8  6.1\n",
      " 5.3  5.1  5.1  5.1  5.3  5.2  5.1\n",
      "\n",
      "Student t:\n",
      " 18.0  18.6  20.6  23.1  26.7  29.9  32.6\n",
      " 12.3  12.3  12.9  14.0  14.9  16.0  17.0\n",
      "  8.6   8.7   8.8   9.1   9.3   9.6   9.8\n",
      "  6.5   6.4   6.4   6.5   6.5   6.5   6.3\n",
      "  5.0   4.9   5.0   4.9   4.9   4.9   4.7\n",
      "\n",
      "Welch t:\n",
      " 4.9  5.2  5.5  5.9  6.7  7.2  7.7\n",
      " 5.1  5.0  5.0  5.2  5.3  5.3  5.2\n",
      " 5.0  5.1  5.2  5.1  5.1  5.0  5.2\n",
      " 5.0  5.0  5.3  5.3  5.6  5.8  6.2\n",
      " 5.1  5.1  5.4  5.6  6.3  6.8  7.3\n",
      "\n",
      " 10.531491 seconds (35.64 M allocations: 2.701 GiB, 3.89% gc time)\n"
     ]
    }
   ],
   "source": [
    "@time print_sim(; m=25, n=100, shifttype=:median)"
   ]
  },
  {
   "cell_type": "code",
   "execution_count": 32,
   "id": "e787371b-9b11-461a-ae37-d100cbdc803c",
   "metadata": {},
   "outputs": [
    {
     "name": "stdout",
     "output_type": "stream",
     "text": [
      "Wilcoxon-Mann-Whitney:\n",
      " 10.8  10.8  10.9  10.8  11.1  10.9  10.8\n",
      "  8.3   8.2   8.4   8.6   8.5   8.6   8.6\n",
      "  6.6   6.7   6.6   6.9   7.0   7.1   7.0\n",
      "  5.8   5.5   5.7   5.5   5.7   5.8   5.8\n",
      "  4.9   4.9   4.8   5.0   4.9   4.9   4.9\n",
      "\n",
      "Brunner-Munzel:\n",
      " 5.3  5.1  5.1  5.1  5.3  5.2  5.2\n",
      " 5.2  5.1  5.2  5.2  5.1  5.1  5.1\n",
      " 5.0  5.1  5.0  5.3  5.3  5.2  5.2\n",
      " 5.3  5.1  5.2  5.0  5.1  5.1  5.2\n",
      " 5.2  5.2  5.1  5.3  5.2  5.2  5.2\n",
      "\n",
      "Student t:\n",
      " 18.2  19.3  23.2  29.3  35.7  41.3  44.1\n",
      " 12.2  12.5  14.1  16.7  19.4  21.9  22.8\n",
      "  8.5   8.7   9.0  10.2  11.0  11.7  11.9\n",
      "  6.6   6.3   6.5   6.6   6.6   6.9   6.7\n",
      "  5.1   5.0   4.9   4.9   4.8   4.7   4.6\n",
      "\n",
      "Welch t:\n",
      " 5.0  5.3  6.4  8.3  10.4  12.5  13.6\n",
      " 5.1  5.0  5.4  6.0   6.5   7.0   6.9\n",
      " 4.9  5.0  4.9  5.2   5.2   5.1   5.2\n",
      " 5.2  4.9  5.1  5.1   5.1   5.3   5.6\n",
      " 5.0  5.1  5.2  5.8   6.1   6.7   7.2\n",
      "\n",
      " 10.359445 seconds (35.85 M allocations: 2.761 GiB, 4.52% gc time)\n"
     ]
    }
   ],
   "source": [
    "@time print_sim(; m=25, n=100, shifttype=:tie)"
   ]
  },
  {
   "cell_type": "code",
   "execution_count": 33,
   "id": "39296d56-d0c3-481f-b919-284e42f74ecc",
   "metadata": {},
   "outputs": [
    {
     "name": "stdout",
     "output_type": "stream",
     "text": [
      "Wilcoxon-Mann-Whitney:\n",
      " 1.6  2.3  5.3  12.1  26.1  48.2  70.9\n",
      " 2.5  2.7  4.1   7.2  13.9  27.4  47.6\n",
      " 3.5  3.6  3.9   5.0   7.6  13.4  25.2\n",
      " 4.2  4.2  4.3   4.4   4.8   6.4  10.3\n",
      " 5.0  5.0  4.8   5.0   4.8   4.9   4.7\n",
      "\n",
      "Brunner-Munzel:\n",
      " 5.0  6.8  13.3  26.5  47.6  71.5  88.3\n",
      " 5.0  5.7   8.1  13.8  25.6  45.7  68.9\n",
      " 5.3  5.4   6.0   7.8  12.3  22.1  40.5\n",
      " 5.2  5.2   5.4   5.7   6.4   9.1  15.9\n",
      " 5.3  5.2   5.1   5.3   5.1   5.1   5.0\n",
      "\n",
      "Student t:\n",
      " 0.5  0.5  0.6  0.7  0.9  1.0  1.3\n",
      " 1.3  1.4  1.4  1.5  1.6  1.7  2.0\n",
      " 2.6  2.6  2.5  2.6  2.7  2.7  2.8\n",
      " 3.9  3.8  3.9  3.8  3.7  3.7  3.7\n",
      " 5.1  5.1  5.0  4.9  4.9  4.8  4.6\n",
      "\n",
      "Welch t:\n",
      " 5.0  5.0  5.0  4.9  4.8  4.8  4.7\n",
      " 4.9  5.0  5.0  5.2  5.4  5.3  5.4\n",
      " 5.1  5.0  5.1  5.5  5.8  6.0  6.2\n",
      " 5.1  5.1  5.3  5.7  5.9  6.4  6.8\n",
      " 5.1  5.2  5.4  5.8  6.1  6.7  7.3\n",
      "\n",
      " 10.976370 seconds (35.26 M allocations: 2.595 GiB, 4.27% gc time)\n"
     ]
    }
   ],
   "source": [
    "@time print_sim(; m=100, n=25, shifttype=:mean)"
   ]
  },
  {
   "cell_type": "code",
   "execution_count": 34,
   "id": "ef4bdd2a-c732-4b20-a443-88eaf35a5bcf",
   "metadata": {},
   "outputs": [
    {
     "name": "stdout",
     "output_type": "stream",
     "text": [
      "Wilcoxon-Mann-Whitney:\n",
      " 1.6  1.6  1.7  2.1  2.9  4.0  5.6\n",
      " 2.4  2.6  2.6  2.8  3.3  4.2  5.9\n",
      " 3.3  3.4  3.4  3.5  3.6  4.1  5.2\n",
      " 4.2  4.1  4.2  4.1  4.1  4.1  4.5\n",
      " 4.8  4.8  4.8  5.1  4.9  4.9  4.9\n",
      "\n",
      "Brunner-Munzel:\n",
      " 5.2  5.4  5.7  6.6  8.4  11.3  14.6\n",
      " 5.1  5.4  5.3  5.9  7.2   8.9  12.4\n",
      " 5.1  5.1  5.2  5.4  5.9   6.9   9.0\n",
      " 5.2  5.1  5.3  5.2  5.3   5.6   6.5\n",
      " 5.2  5.1  5.1  5.3  5.1   5.2   5.1\n",
      "\n",
      "Student t:\n",
      " 0.4  0.5  0.8  1.2  1.8  2.6  3.5\n",
      " 1.3  1.5  1.5  1.8  2.1  2.4  2.5\n",
      " 2.5  2.5  2.6  2.6  2.6  2.7  2.5\n",
      " 3.8  3.7  3.7  3.7  3.7  3.5  3.5\n",
      " 5.0  5.0  5.0  5.0  4.8  4.7  4.7\n",
      "\n",
      "Welch t:\n",
      " 5.1  6.2  9.4  14.9  21.6  28.1  34.1\n",
      " 4.8  5.7  7.1   9.6  12.7  16.0  18.4\n",
      " 4.9  5.3  6.1   7.3   9.0  10.6  12.2\n",
      " 5.1  5.1  5.6   6.2   7.0   8.1   8.9\n",
      " 5.0  5.1  5.4   5.8   6.2   6.7   7.4\n",
      "\n",
      " 10.827569 seconds (35.14 M allocations: 2.559 GiB, 3.85% gc time)\n"
     ]
    }
   ],
   "source": [
    "@time print_sim(; m=100, n=25, shifttype=:median)"
   ]
  },
  {
   "cell_type": "code",
   "execution_count": 35,
   "id": "b342e0d6-4e9e-43d2-9deb-a3b74a89522d",
   "metadata": {},
   "outputs": [
    {
     "name": "stdout",
     "output_type": "stream",
     "text": [
      "Wilcoxon-Mann-Whitney:\n",
      " 1.5  1.5  1.6  1.5  1.5  1.7  1.6\n",
      " 2.5  2.4  2.4  2.4  2.3  2.4  2.3\n",
      " 3.4  3.4  3.5  3.3  3.3  3.2  3.3\n",
      " 4.2  4.3  4.2  4.2  4.1  4.0  4.1\n",
      " 4.9  5.0  4.8  5.0  4.9  5.0  4.8\n",
      "\n",
      "Brunner-Munzel:\n",
      " 5.2  5.0  5.1  5.2  5.1  5.2  5.1\n",
      " 5.1  5.2  5.1  5.2  5.1  5.2  5.1\n",
      " 5.2  5.1  5.3  5.2  5.1  5.1  5.2\n",
      " 5.2  5.3  5.2  5.1  5.1  5.2  5.3\n",
      " 5.1  5.2  5.2  5.3  5.1  5.2  5.1\n",
      "\n",
      "Student t:\n",
      " 0.5  0.7  1.4  3.0  5.8  9.2  11.1\n",
      " 1.4  1.5  2.0  2.9  4.1  5.4   5.6\n",
      " 2.6  2.6  2.9  3.0  3.5  3.8   3.8\n",
      " 3.8  3.9  3.8  3.8  3.8  3.8   3.7\n",
      " 4.9  5.1  5.0  4.9  4.8  4.8   4.6\n",
      "\n",
      "Welch t:\n",
      " 5.0  7.1  13.5  23.7  34.9  43.8  48.8\n",
      " 5.0  6.1   8.9  13.6  18.8  24.0  26.6\n",
      " 5.1  5.6   7.0   8.8  11.6  14.2  16.0\n",
      " 5.0  5.3   5.8   6.8   7.9   9.4  10.3\n",
      " 5.0  5.2   5.3   5.9   6.1   6.8   7.3\n",
      "\n",
      " 11.005899 seconds (35.47 M allocations: 2.653 GiB, 4.83% gc time)\n"
     ]
    }
   ],
   "source": [
    "@time print_sim(; m=100, n=25, shifttype=:tie)"
   ]
  },
  {
   "cell_type": "code",
   "execution_count": 36,
   "id": "ae20cdff-092a-4c2f-9979-0733ab5b791c",
   "metadata": {},
   "outputs": [
    {
     "name": "stdout",
     "output_type": "stream",
     "text": [
      "Wilcoxon-Mann-Whitney:\n",
      " 5.7  9.0  19.5  39.1  64.3  84.9  95.5\n",
      " 5.2  6.6  11.3  21.8  40.7  64.8  85.0\n",
      " 5.0  5.6   7.1  11.0  19.9  37.7  61.3\n",
      " 5.0  5.1   5.4   6.1   8.2  14.3  27.4\n",
      " 5.0  5.0   5.0   5.1   4.9   4.9   5.0\n",
      "\n",
      "Brunner-Munzel:\n",
      " 4.9  7.8  17.5  35.8  60.0  81.4  93.7\n",
      " 4.9  6.3  10.8  20.8  38.7  61.9  82.3\n",
      " 5.0  5.6   7.1  10.9  19.5  36.5  59.0\n",
      " 5.1  5.1   5.4   6.2   8.3  14.3  26.8\n",
      " 5.0  5.1   5.0   5.2   4.9   4.9   5.1\n",
      "\n",
      "Student t:\n",
      " 5.0  5.0  5.1  5.3  5.3  5.5  5.6\n",
      " 4.9  5.0  5.1  5.0  5.1  5.2  5.3\n",
      " 5.0  5.0  5.0  5.0  5.1  5.1  5.0\n",
      " 5.1  5.1  5.0  5.0  4.9  5.0  4.9\n",
      " 5.0  5.1  5.0  5.0  4.9  4.9  4.8\n",
      "\n",
      "Welch t:\n",
      " 5.0  5.0  5.1  5.3  5.2  5.5  5.5\n",
      " 4.9  5.0  5.0  5.0  5.1  5.2  5.3\n",
      " 5.0  5.0  5.0  5.0  5.1  5.0  5.0\n",
      " 5.1  5.1  5.0  5.0  4.9  5.0  4.8\n",
      " 5.0  5.1  5.0  4.9  4.9  4.9  4.8\n",
      "\n",
      " 31.177398 seconds (36.07 M allocations: 2.822 GiB, 1.36% gc time)\n"
     ]
    }
   ],
   "source": [
    "@time print_sim(; m=100, n=100, shifttype=:mean)"
   ]
  },
  {
   "cell_type": "code",
   "execution_count": 37,
   "id": "db55037e-be28-4606-9982-0fd617507ac0",
   "metadata": {},
   "outputs": [
    {
     "name": "stdout",
     "output_type": "stream",
     "text": [
      "Wilcoxon-Mann-Whitney:\n",
      " 5.8  6.3  6.8  9.0  12.0  16.2  22.0\n",
      " 5.4  5.6  6.0  7.1   9.6  13.3  19.0\n",
      " 5.0  5.2  5.3  5.9   7.0   9.4  13.5\n",
      " 4.8  4.9  5.1  5.2   5.5   6.2   8.5\n",
      " 5.0  4.9  5.1  4.9   5.0   5.0   5.1\n",
      "\n",
      "Brunner-Munzel:\n",
      " 5.0  5.4  5.8  7.7  10.3  13.9  19.0\n",
      " 5.1  5.3  5.7  6.7   9.0  12.4  17.5\n",
      " 5.0  5.1  5.3  5.9   6.9   9.2  13.0\n",
      " 4.9  5.0  5.1  5.2   5.6   6.3   8.5\n",
      " 5.1  4.9  5.1  5.0   5.1   5.1   5.2\n",
      "\n",
      "Student t:\n",
      " 5.0  6.3  10.3  16.8  25.7  34.2  41.4\n",
      " 5.1  5.6   7.0   9.1  12.1  15.3  17.8\n",
      " 4.9  5.3   5.6   6.3   7.2   7.9   8.7\n",
      " 4.8  5.0   5.1   5.3   5.3   5.3   5.5\n",
      " 5.0  4.9   5.1   5.0   5.0   4.9   5.0\n",
      "\n",
      "Welch t:\n",
      " 5.0  6.3  10.2  16.7  25.5  34.0  41.1\n",
      " 5.0  5.6   6.9   9.0  12.1  15.2  17.7\n",
      " 4.9  5.3   5.6   6.2   7.1   7.9   8.7\n",
      " 4.8  5.0   5.1   5.3   5.3   5.3   5.4\n",
      " 5.0  4.9   5.1   5.0   5.0   4.9   5.0\n",
      "\n",
      " 30.901995 seconds (36.10 M allocations: 2.833 GiB, 1.64% gc time)\n"
     ]
    }
   ],
   "source": [
    "@time print_sim(; m=100, n=100, shifttype=:median)"
   ]
  },
  {
   "cell_type": "code",
   "execution_count": 38,
   "id": "0aff7d37-35ce-4b3a-a2f3-0c3f6e535a6f",
   "metadata": {},
   "outputs": [
    {
     "name": "stdout",
     "output_type": "stream",
     "text": [
      "Wilcoxon-Mann-Whitney:\n",
      " 5.9  5.7  5.9  6.0  6.0  5.9  6.0\n",
      " 5.3  5.3  5.2  5.4  5.4  5.5  5.4\n",
      " 5.2  5.1  5.1  5.0  5.2  5.1  5.1\n",
      " 5.0  5.1  4.9  5.0  4.9  5.0  5.0\n",
      " 4.9  4.9  4.9  5.0  5.1  4.9  4.9\n",
      "\n",
      "Brunner-Munzel:\n",
      " 5.0  4.9  5.0  5.1  5.0  5.0  5.1\n",
      " 5.1  5.0  5.0  5.1  5.1  5.1  5.0\n",
      " 5.1  5.1  5.0  5.0  5.1  5.0  5.0\n",
      " 5.0  5.1  5.0  5.0  5.0  5.0  5.0\n",
      " 5.0  5.0  5.0  5.0  5.1  5.0  5.0\n",
      "\n",
      "Student t:\n",
      " 5.0  7.7  16.5  30.8  46.6  59.6  65.6\n",
      " 5.1  6.0   9.6  15.5  22.6  28.7  31.3\n",
      " 5.0  5.4   6.5   8.2  10.7  12.8  13.4\n",
      " 5.0  5.1   5.2   5.7   6.1   6.5   6.5\n",
      " 4.9  5.0   5.0   5.0   5.0   4.9   4.9\n",
      "\n",
      "Welch t:\n",
      " 5.0  7.6  16.4  30.7  46.3  59.4  65.4\n",
      " 5.1  6.0   9.5  15.4  22.5  28.6  31.2\n",
      " 5.0  5.4   6.5   8.2  10.7  12.8  13.4\n",
      " 5.0  5.1   5.1   5.6   6.1   6.5   6.5\n",
      " 4.9  5.0   5.0   4.9   5.0   4.9   4.8\n",
      "\n",
      " 31.356783 seconds (36.51 M allocations: 2.947 GiB, 1.78% gc time)\n"
     ]
    }
   ],
   "source": [
    "@time print_sim(; m=100, n=100, shifttype=:tie)"
   ]
  },
  {
   "cell_type": "code",
   "execution_count": 39,
   "id": "b0e0c7d3-a88a-406f-ac8b-76cb8be2de5d",
   "metadata": {},
   "outputs": [
    {
     "name": "stdout",
     "output_type": "stream",
     "text": [
      "Wilcoxon-Mann-Whitney:\n",
      " 8.8  13.3  20.9  31.5  44.0\n",
      " 6.6   8.8  12.2  18.3  28.3\n",
      " 5.6   6.3   7.1   8.5  12.4\n",
      " 5.0   5.2   5.2   4.9   4.8\n",
      " 5.0   4.9   4.7   5.1   6.6\n",
      "\n",
      "Brunner-Munzel:\n",
      " 8.2  12.4  19.4  28.8  39.8\n",
      " 6.8   9.0  12.4  18.2  27.2\n",
      " 6.0   6.8   7.6   9.1  13.0\n",
      " 5.5   5.6   5.7   5.3   5.2\n",
      " 5.5   5.3   5.1   5.4   6.9\n",
      "\n",
      "Student t:\n",
      " 5.5  5.7  6.1  6.6  7.2\n",
      " 5.2  5.3  5.4  5.5  5.7\n",
      " 5.1  5.0  4.9  4.9  5.0\n",
      " 5.0  4.9  5.0  4.7  4.5\n",
      " 5.1  4.9  4.7  4.6  4.5\n",
      "\n",
      "Welch t:\n",
      " 5.3  5.6  6.0  6.5  7.0\n",
      " 5.1  5.2  5.3  5.4  5.5\n",
      " 5.0  4.9  4.8  4.8  4.8\n",
      " 4.9  4.8  4.9  4.5  4.3\n",
      " 5.1  4.9  4.6  4.5  4.3\n",
      "\n",
      "  3.738444 seconds (25.30 M allocations: 1.884 GiB, 7.66% gc time, 0.43% compilation time)\n"
     ]
    }
   ],
   "source": [
    "@time print_sim(; m=25, n=25, shifttype=:mean, list_skewness=list_skewness2)"
   ]
  },
  {
   "cell_type": "code",
   "execution_count": 40,
   "id": "0a5119e6-e73a-453f-8ebc-af84d74ff68a",
   "metadata": {},
   "outputs": [
    {
     "name": "stdout",
     "output_type": "stream",
     "text": [
      "Wilcoxon-Mann-Whitney:\n",
      " 5.4  5.4  5.6  5.7  6.1\n",
      " 5.0  4.9  4.9  4.9  5.3\n",
      " 4.9  5.0  5.2  5.7  7.4\n",
      " 4.8  5.1  5.6  6.5  8.6\n",
      " 5.1  5.3  5.9  7.2  9.5\n",
      "\n",
      "Brunner-Munzel:\n",
      " 5.1  5.2  5.3  5.5  5.9\n",
      " 5.3  5.2  5.3  5.3  5.9\n",
      " 5.4  5.4  5.7  6.4  8.2\n",
      " 5.4  5.7  6.1  7.1  9.1\n",
      " 5.6  5.8  6.4  7.7  9.8\n",
      "\n",
      "Student t:\n",
      " 7.0  8.0  9.3  10.3  10.7\n",
      " 6.4  6.8  7.3   7.3   7.1\n",
      " 5.9  6.2  6.2   5.9   5.6\n",
      " 5.6  5.8  5.7   5.2   4.9\n",
      " 5.7  5.6  5.3   5.0   4.7\n",
      "\n",
      "Welch t:\n",
      " 6.7  7.6  8.8  9.7  10.0\n",
      " 6.2  6.5  7.0  6.9   6.7\n",
      " 5.8  6.1  6.0  5.6   5.3\n",
      " 5.5  5.7  5.6  5.0   4.7\n",
      " 5.7  5.5  5.2  4.8   4.5\n",
      "\n",
      "  3.488322 seconds (25.47 M allocations: 1.933 GiB, 7.42% gc time)\n"
     ]
    }
   ],
   "source": [
    "@time print_sim(; m=25, n=25, shifttype=:median, list_skewness=list_skewness2)"
   ]
  },
  {
   "cell_type": "code",
   "execution_count": 41,
   "id": "4ca43b10-969b-468d-bebd-a262e028f2a4",
   "metadata": {},
   "outputs": [
    {
     "name": "stdout",
     "output_type": "stream",
     "text": [
      "Wilcoxon-Mann-Whitney:\n",
      " 5.4  5.4  5.3  5.4  5.2\n",
      " 5.0  4.9  4.9  4.9  4.8\n",
      " 4.9  4.8  4.9  4.7  4.8\n",
      " 4.6  4.7  4.8  4.8  4.8\n",
      " 4.8  4.8  4.7  4.9  5.0\n",
      "\n",
      "Brunner-Munzel:\n",
      " 5.1  5.1  5.2  5.2  5.1\n",
      " 5.2  5.2  5.2  5.2  5.2\n",
      " 5.3  5.2  5.3  5.2  5.2\n",
      " 5.1  5.2  5.3  5.3  5.2\n",
      " 5.3  5.2  5.1  5.2  5.3\n",
      "\n",
      "Student t:\n",
      " 6.8  8.6  11.0  12.8  13.1\n",
      " 5.9  6.4   7.0   6.8   6.3\n",
      " 5.4  5.5   5.3   5.0   4.8\n",
      " 5.1  5.1   4.9   4.7   4.7\n",
      " 5.0  4.9   4.8   4.9   5.0\n",
      "\n",
      "Welch t:\n",
      " 6.5  8.2  10.4  12.1  12.3\n",
      " 5.8  6.2   6.7   6.4   6.0\n",
      " 5.3  5.4   5.2   4.8   4.6\n",
      " 5.0  5.0   4.8   4.5   4.4\n",
      " 5.0  4.8   4.7   4.7   4.8\n",
      "\n",
      "  3.629641 seconds (25.31 M allocations: 1.888 GiB, 9.23% gc time)\n"
     ]
    }
   ],
   "source": [
    "@time print_sim(; m=25, n=25, shifttype=:tie, list_skewness=list_skewness2)"
   ]
  },
  {
   "cell_type": "code",
   "execution_count": 42,
   "id": "6183fbac-d37a-4db7-9766-98c8ad1ca376",
   "metadata": {},
   "outputs": [
    {
     "name": "stdout",
     "output_type": "stream",
     "text": [
      "Wilcoxon-Mann-Whitney:\n",
      " 12.9  22.2  36.8  55.2  72.4\n",
      "  8.8  13.0  20.2  32.5  49.9\n",
      "  6.8   7.9   9.7  13.0  21.6\n",
      "  5.7   6.1   5.7   5.3   5.2\n",
      "  5.4   5.1   4.9   5.5   8.4\n",
      "\n",
      "Brunner-Munzel:\n",
      " 11.6  20.2  33.7  51.0  67.7\n",
      "  8.6  12.6  19.6  31.2  47.5\n",
      "  6.9   8.0   9.7  13.1  21.5\n",
      "  5.8   6.1   5.8   5.3   5.2\n",
      "  5.6   5.2   5.0   5.5   8.2\n",
      "\n",
      "Student t:\n",
      " 5.3  5.5  5.7  5.9  6.3\n",
      " 5.1  5.1  5.4  5.3  5.5\n",
      " 5.1  4.9  5.1  5.0  5.1\n",
      " 4.9  5.1  5.0  4.8  4.9\n",
      " 5.0  5.0  4.8  4.7  4.8\n",
      "\n",
      "Welch t:\n",
      " 5.2  5.4  5.6  5.8  6.2\n",
      " 5.1  5.1  5.3  5.2  5.5\n",
      " 5.0  4.9  5.0  4.9  5.0\n",
      " 4.9  5.1  5.0  4.8  4.8\n",
      " 5.0  4.9  4.8  4.7  4.7\n",
      "\n",
      "  7.780636 seconds (25.62 M allocations: 1.975 GiB, 4.19% gc time)\n"
     ]
    }
   ],
   "source": [
    "@time print_sim(; m=50, n=50, shifttype=:mean, list_skewness=list_skewness2)"
   ]
  },
  {
   "cell_type": "code",
   "execution_count": 43,
   "id": "3a3b6af2-d84e-4f66-82cf-8f7fd2474aa2",
   "metadata": {},
   "outputs": [
    {
     "name": "stdout",
     "output_type": "stream",
     "text": [
      "Wilcoxon-Mann-Whitney:\n",
      " 5.8  5.8  5.8   6.4   7.1\n",
      " 5.4  5.2  5.1   5.3   6.3\n",
      " 5.3  5.3  5.8   7.2  10.5\n",
      " 5.4  5.7  6.7   9.1  12.9\n",
      " 5.6  6.0  7.5  10.3  14.6\n",
      "\n",
      "Brunner-Munzel:\n",
      " 5.2  5.1  5.2   5.8   6.4\n",
      " 5.3  5.1  5.1   5.3   6.5\n",
      " 5.4  5.5  6.0   7.5  10.7\n",
      " 5.6  5.9  6.9   9.3  12.9\n",
      " 5.8  6.2  7.7  10.3  14.2\n",
      "\n",
      "Student t:\n",
      " 10.4  13.9  18.4  21.5  23.4\n",
      "  8.7  10.4  11.7  12.5  12.6\n",
      "  7.6   8.2   8.5   8.5   8.0\n",
      "  7.0   7.1   7.0   6.6   5.7\n",
      "  6.7   6.4   6.0   5.7   5.0\n",
      "\n",
      "Welch t:\n",
      " 10.2  13.7  18.0  21.2  23.0\n",
      "  8.6  10.3  11.6  12.3  12.4\n",
      "  7.6   8.2   8.5   8.4   7.9\n",
      "  7.0   7.0   7.0   6.6   5.7\n",
      "  6.7   6.3   6.0   5.7   5.0\n",
      "\n",
      "  7.522633 seconds (26.09 M allocations: 2.110 GiB, 4.85% gc time)\n"
     ]
    }
   ],
   "source": [
    "@time print_sim(; m=50, n=50, shifttype=:median, list_skewness=list_skewness2)"
   ]
  },
  {
   "cell_type": "code",
   "execution_count": 44,
   "id": "655811d9-fcae-42ac-b8ab-374f9f1a5625",
   "metadata": {},
   "outputs": [
    {
     "name": "stdout",
     "output_type": "stream",
     "text": [
      "Wilcoxon-Mann-Whitney:\n",
      " 5.7  5.5  5.6  5.6  5.4\n",
      " 5.2  5.2  5.1  5.1  5.0\n",
      " 5.1  5.0  4.9  5.0  5.0\n",
      " 5.0  4.7  5.0  5.0  5.2\n",
      " 5.0  4.9  5.1  5.2  5.2\n",
      "\n",
      "Brunner-Munzel:\n",
      " 5.0  4.9  5.0  5.1  5.0\n",
      " 5.0  5.1  5.1  5.2  5.1\n",
      " 5.1  5.2  5.0  5.2  5.1\n",
      " 5.1  4.9  5.1  5.1  5.2\n",
      " 5.1  5.0  5.2  5.2  5.1\n",
      "\n",
      "Student t:\n",
      " 10.2  15.7  22.1  27.4  29.1\n",
      "  7.4   9.4  10.8  11.3  10.4\n",
      "  6.2   6.5   6.3   6.1   5.5\n",
      "  5.5   5.4   5.1   4.8   4.8\n",
      "  5.2   4.9   5.0   5.3   5.7\n",
      "\n",
      "Welch t:\n",
      " 10.0  15.4  21.7  27.0  28.7\n",
      "  7.4   9.3  10.7  11.1  10.2\n",
      "  6.1   6.5   6.2   6.1   5.4\n",
      "  5.5   5.4   5.0   4.7   4.7\n",
      "  5.2   4.9   5.0   5.2   5.6\n",
      "\n",
      "  7.566034 seconds (25.75 M allocations: 2.011 GiB, 4.98% gc time)\n"
     ]
    }
   ],
   "source": [
    "@time print_sim(; m=50, n=50, shifttype=:tie, list_skewness=list_skewness2)"
   ]
  },
  {
   "cell_type": "code",
   "execution_count": 45,
   "id": "c1184251-e172-4b0e-923d-d38cadde8f6f",
   "metadata": {},
   "outputs": [
    {
     "name": "stdout",
     "output_type": "stream",
     "text": [
      "Wilcoxon-Mann-Whitney:\n",
      " 16.4  23.5  34.3  47.3  61.2\n",
      " 11.0  14.5  20.6  30.6  43.4\n",
      "  7.9   8.8  10.2  13.3  20.6\n",
      "  6.1   5.8   5.5   4.7   3.9\n",
      "  5.0   4.5   3.9   3.8   5.0\n",
      "\n",
      "Brunner-Munzel:\n",
      " 8.9  13.5  20.7  30.6  41.9\n",
      " 7.5   9.7  13.9  20.3  29.7\n",
      " 6.5   7.3   8.3  10.6  15.3\n",
      " 5.9   5.8   5.8   5.5   5.1\n",
      " 5.6   5.4   5.1   5.5   7.9\n",
      "\n",
      "Student t:\n",
      " 18.3  18.2  18.4  18.6  18.7\n",
      " 12.2  12.0  12.0  12.0  12.0\n",
      "  8.5   8.5   8.2   8.0   7.8\n",
      "  6.4   6.0   6.0   5.9   5.8\n",
      "  5.0   4.8   4.7   4.6   4.5\n",
      "\n",
      "Welch t:\n",
      " 5.6  6.3  7.3  8.2  9.7\n",
      " 5.5  6.0  6.9  7.8  8.8\n",
      " 5.5  6.0  6.6  7.5  8.3\n",
      " 5.4  5.6  6.5  7.0  7.9\n",
      " 5.4  5.7  6.2  6.8  7.4\n",
      "\n",
      "  7.740045 seconds (25.72 M allocations: 2.005 GiB, 3.95% gc time)\n"
     ]
    }
   ],
   "source": [
    "@time print_sim(; m=25, n=100, shifttype=:mean, list_skewness=list_skewness2)"
   ]
  },
  {
   "cell_type": "code",
   "execution_count": 46,
   "id": "5f2e00fb-72ad-4269-9535-647ec75f5c5e",
   "metadata": {},
   "outputs": [
    {
     "name": "stdout",
     "output_type": "stream",
     "text": [
      "Wilcoxon-Mann-Whitney:\n",
      " 10.5  10.3  10.5  10.9  11.2\n",
      "  8.0   7.7   7.3   6.8   6.8\n",
      "  6.4   6.1   5.9   6.1   7.7\n",
      "  5.4   5.4   5.5   6.5   8.5\n",
      "  4.9   4.8   5.3   6.4   9.0\n",
      "\n",
      "Brunner-Munzel:\n",
      " 5.1  5.1  5.3  5.6   5.8\n",
      " 5.2  5.2  5.2  5.3   6.2\n",
      " 5.3  5.4  5.6  6.7   9.6\n",
      " 5.4  5.8  6.5  8.4  12.3\n",
      " 5.6  5.9  7.1  9.5  14.3\n",
      "\n",
      "Student t:\n",
      " 24.1  27.5  31.1  34.4  35.3\n",
      " 16.0  17.7  18.6  19.4  19.2\n",
      " 11.0  11.7  11.9  11.7  11.4\n",
      "  8.2   8.3   8.1   7.8   7.2\n",
      "  6.2   6.2   5.9   5.5   5.1\n",
      "\n",
      "Welch t:\n",
      " 6.7  7.4  8.5  9.2  9.0\n",
      " 6.2  6.4  6.2  6.3  5.7\n",
      " 5.7  5.6  5.5  5.0  5.0\n",
      " 5.6  5.4  5.1  5.1  5.3\n",
      " 5.4  5.1  5.1  5.2  5.9\n",
      "\n",
      "  8.091287 seconds (25.93 M allocations: 2.064 GiB, 3.86% gc time)\n"
     ]
    }
   ],
   "source": [
    "@time print_sim(; m=25, n=100, shifttype=:median, list_skewness=list_skewness2)"
   ]
  },
  {
   "cell_type": "code",
   "execution_count": 47,
   "id": "187f0e22-613c-4d2a-848f-2cb21dc83138",
   "metadata": {},
   "outputs": [
    {
     "name": "stdout",
     "output_type": "stream",
     "text": [
      "Wilcoxon-Mann-Whitney:\n",
      " 10.5  9.9  10.0  9.9  9.2\n",
      "  8.0  7.6   7.4  6.9  6.3\n",
      "  6.4  6.0   5.8  5.3  4.8\n",
      "  5.2  5.0   4.6  4.3  3.9\n",
      "  4.5  4.3   3.9  3.6  3.4\n",
      "\n",
      "Brunner-Munzel:\n",
      " 5.1  5.1  5.2  5.2  5.2\n",
      " 5.1  5.1  5.3  5.1  5.2\n",
      " 5.2  5.2  5.4  5.3  5.1\n",
      " 5.1  5.1  5.2  5.1  5.1\n",
      " 5.2  5.2  5.2  5.1  5.2\n",
      "\n",
      "Student t:\n",
      " 23.6  29.1  34.6  38.5  39.9\n",
      " 14.8  16.5  17.7  18.0  17.3\n",
      "  9.7   9.9  10.0   9.5   8.7\n",
      "  6.8   6.7   6.3   6.0   5.8\n",
      "  5.1   4.9   4.7   4.5   4.8\n",
      "\n",
      "Welch t:\n",
      " 6.5  7.9  10.0  11.2  11.2\n",
      " 5.6  6.0   6.0   5.7   5.3\n",
      " 5.3  5.2   5.1   5.3   5.7\n",
      " 5.1  5.1   5.3   6.4   7.7\n",
      " 5.0  5.3   6.3   7.9  10.1\n",
      "\n",
      "  7.653873 seconds (25.70 M allocations: 1.997 GiB, 4.72% gc time)\n"
     ]
    }
   ],
   "source": [
    "@time print_sim(; m=25, n=100, shifttype=:tie, list_skewness=list_skewness2)"
   ]
  },
  {
   "cell_type": "code",
   "execution_count": 48,
   "id": "94759897-4a00-4819-b72e-4b51be3ee3d8",
   "metadata": {},
   "outputs": [
    {
     "name": "stdout",
     "output_type": "stream",
     "text": [
      "Wilcoxon-Mann-Whitney:\n",
      " 5.8  12.3  25.0  44.9  67.8\n",
      " 4.9   7.8  12.8  22.7  39.7\n",
      " 4.8   5.8   7.1   9.3  14.6\n",
      " 5.1   5.4   5.5   5.8   6.2\n",
      " 5.5   5.6   6.2   7.5  10.4\n",
      "\n",
      "Brunner-Munzel:\n",
      " 13.7  25.6  44.8  67.9  86.1\n",
      "  8.8  13.2  21.4  36.6  58.7\n",
      "  6.9   7.9   9.5  12.6  21.0\n",
      "  5.9   6.1   5.8   5.6   5.4\n",
      "  5.5   5.3   5.3   5.5   6.7\n",
      "\n",
      "Student t:\n",
      " 0.6  0.6  0.8  1.0  1.2\n",
      " 1.4  1.6  1.7  1.9  1.9\n",
      " 2.6  2.6  2.7  2.9  2.8\n",
      " 3.9  4.0  3.9  4.0  4.0\n",
      " 5.0  4.9  5.0  5.0  4.9\n",
      "\n",
      "Welch t:\n",
      " 4.9  4.9  4.9  4.7  4.8\n",
      " 5.0  5.2  5.0  5.3  5.1\n",
      " 5.1  5.1  5.3  5.6  6.0\n",
      " 5.1  5.4  5.5  5.8  6.5\n",
      " 5.0  5.2  5.7  6.2  6.6\n",
      "\n",
      "  8.123564 seconds (25.32 M allocations: 1.892 GiB, 3.42% gc time)\n"
     ]
    }
   ],
   "source": [
    "@time print_sim(; m=100, n=25, shifttype=:mean, list_skewness=list_skewness2)"
   ]
  },
  {
   "cell_type": "code",
   "execution_count": 49,
   "id": "03a3a3bb-d1ca-490b-a472-81ac593efc7f",
   "metadata": {},
   "outputs": [
    {
     "name": "stdout",
     "output_type": "stream",
     "text": [
      "Wilcoxon-Mann-Whitney:\n",
      " 1.7  1.8  1.8   2.3   2.6\n",
      " 2.8  2.9  3.2   3.5   5.5\n",
      " 4.0  4.5  5.2   7.2  11.1\n",
      " 5.1  5.7  7.1   9.8  13.9\n",
      " 5.8  6.7  8.6  11.5  15.9\n",
      "\n",
      "Brunner-Munzel:\n",
      " 5.1  5.3  5.4  6.1   6.8\n",
      " 5.3  5.2  5.3  5.2   6.2\n",
      " 5.4  5.6  5.7  6.7   8.8\n",
      " 5.6  5.8  6.3  7.5   9.6\n",
      " 5.6  5.8  6.8  8.0  10.2\n",
      "\n",
      "Student t:\n",
      " 1.6  2.6  3.6  4.8  5.4\n",
      " 2.9  3.5  3.9  4.0  3.8\n",
      " 4.1  4.4  4.3  4.3  3.8\n",
      " 5.2  5.2  5.0  4.7  4.2\n",
      " 6.3  6.1  6.0  5.3  4.9\n",
      "\n",
      "Welch t:\n",
      " 13.6  20.7  27.3  33.4  37.1\n",
      " 10.5  13.9  16.9  19.4  21.1\n",
      "  8.9  10.6  12.1  13.4  14.1\n",
      "  7.7   8.9   9.8  10.1  10.3\n",
      "  7.1   7.8   8.5   8.4   8.5\n",
      "\n",
      "  8.402662 seconds (25.81 M allocations: 2.030 GiB, 4.25% gc time)\n"
     ]
    }
   ],
   "source": [
    "@time print_sim(; m=100, n=25, shifttype=:median, list_skewness=list_skewness2)"
   ]
  },
  {
   "cell_type": "code",
   "execution_count": 50,
   "id": "a181d9ea-59f8-4c1b-9e19-f84652c6ad66",
   "metadata": {},
   "outputs": [
    {
     "name": "stdout",
     "output_type": "stream",
     "text": [
      "Wilcoxon-Mann-Whitney:\n",
      " 1.6  1.7  1.8  1.9  2.1\n",
      " 2.7  2.8  3.0  3.3  3.6\n",
      " 3.6  4.0  4.3  4.8  5.3\n",
      " 4.6  4.9  5.4  5.7  6.4\n",
      " 5.2  5.6  6.2  6.5  6.9\n",
      "\n",
      "Brunner-Munzel:\n",
      " 5.0  5.0  5.2  5.0  5.2\n",
      " 5.3  5.0  5.2  5.4  5.1\n",
      " 5.2  5.2  5.2  5.3  5.3\n",
      " 5.2  5.2  5.3  5.2  5.3\n",
      " 5.1  5.2  5.3  5.1  5.2\n",
      "\n",
      "Student t:\n",
      " 1.5  3.1  5.3  7.4  8.1\n",
      " 2.3  2.9  3.5  3.6  2.9\n",
      " 3.2  3.4  3.3  2.9  2.6\n",
      " 4.2  4.1  4.0  3.7  3.8\n",
      " 5.1  5.1  5.2  5.4  6.0\n",
      "\n",
      "Welch t:\n",
      " 13.4  22.7  32.4  39.5  42.8\n",
      "  8.9  12.5  15.8  18.1  18.5\n",
      "  7.0   8.4   9.4   9.6   9.7\n",
      "  6.1   6.5   6.8   6.6   6.4\n",
      "  5.5   5.7   5.7   5.5   5.3\n",
      "\n",
      "  7.931308 seconds (25.50 M allocations: 1.941 GiB, 4.61% gc time)\n"
     ]
    }
   ],
   "source": [
    "@time print_sim(; m=100, n=25, shifttype=:tie, list_skewness=list_skewness2)"
   ]
  },
  {
   "cell_type": "code",
   "execution_count": 51,
   "id": "a95d9589-4de9-477e-bae6-67de478f47be",
   "metadata": {},
   "outputs": [
    {
     "name": "stdout",
     "output_type": "stream",
     "text": [
      "Wilcoxon-Mann-Whitney:\n",
      " 20.6  38.7  62.5  83.2  94.8\n",
      " 12.5  21.4  35.7  56.7  78.9\n",
      "  8.7  11.1  14.7  21.3  37.9\n",
      "  6.6   7.0   6.5   5.8   5.1\n",
      "  5.7   5.3   5.1   6.2  11.6\n",
      "\n",
      "Brunner-Munzel:\n",
      " 18.8  35.8  59.0  80.2  93.1\n",
      " 12.0  20.7  34.7  55.0  76.9\n",
      "  8.7  11.0  14.6  21.2  37.5\n",
      "  6.7   7.0   6.5   5.7   5.0\n",
      "  5.8   5.4   5.1   6.2  11.3\n",
      "\n",
      "Student t:\n",
      " 5.2  5.3  5.4  5.5  5.7\n",
      " 5.0  5.2  5.1  5.2  5.3\n",
      " 5.1  5.0  5.0  5.0  5.0\n",
      " 4.9  5.1  5.1  4.9  4.8\n",
      " 5.0  5.0  5.0  4.9  4.9\n",
      "\n",
      "Welch t:\n",
      " 5.2  5.2  5.3  5.5  5.7\n",
      " 5.0  5.2  5.1  5.2  5.2\n",
      " 5.1  5.0  5.0  5.0  5.0\n",
      " 4.9  5.1  5.1  4.8  4.8\n",
      " 5.0  5.0  5.0  4.9  4.9\n",
      "\n",
      " 22.414538 seconds (25.99 M allocations: 2.080 GiB, 1.39% gc time)\n"
     ]
    }
   ],
   "source": [
    "@time print_sim(; m=100, n=100, shifttype=:mean, list_skewness=list_skewness2)"
   ]
  },
  {
   "cell_type": "code",
   "execution_count": 52,
   "id": "825e6fe0-65e3-401c-9a25-92447f4f5cc8",
   "metadata": {},
   "outputs": [
    {
     "name": "stdout",
     "output_type": "stream",
     "text": [
      "Wilcoxon-Mann-Whitney:\n",
      " 5.7  5.9  6.4   7.3   8.8\n",
      " 5.4  5.4  5.2   5.4   7.7\n",
      " 5.7  5.8  6.7   9.4  16.4\n",
      " 6.1  6.6  8.4  13.2  21.5\n",
      " 6.2  7.4  9.9  15.4  24.2\n",
      "\n",
      "Brunner-Munzel:\n",
      " 5.0  5.2  5.6   6.6   8.0\n",
      " 5.2  5.2  5.2   5.4   7.8\n",
      " 5.7  5.9  6.8   9.6  16.5\n",
      " 6.2  6.7  8.5  13.2  21.0\n",
      " 6.3  7.5  9.9  15.2  23.4\n",
      "\n",
      "Student t:\n",
      " 17.8  27.3  36.8  44.4  48.6\n",
      " 13.5  17.8  21.5  23.4  23.4\n",
      " 11.1  12.7  13.6  13.4  12.3\n",
      "  9.6   9.8   9.5   8.7   7.5\n",
      "  8.4   8.3   7.3   6.4   5.5\n",
      "\n",
      "Welch t:\n",
      " 17.7  27.1  36.6  44.2  48.3\n",
      " 13.5  17.7  21.4  23.3  23.3\n",
      " 11.1  12.7  13.6  13.4  12.2\n",
      "  9.6   9.8   9.5   8.7   7.5\n",
      "  8.4   8.3   7.3   6.4   5.5\n",
      "\n",
      " 22.242460 seconds (27.08 M allocations: 2.389 GiB, 2.00% gc time)\n"
     ]
    }
   ],
   "source": [
    "@time print_sim(; m=100, n=100, shifttype=:median, list_skewness=list_skewness2)"
   ]
  },
  {
   "cell_type": "code",
   "execution_count": 53,
   "id": "6c3fd565-8899-4131-89c4-181e6d68ddb7",
   "metadata": {},
   "outputs": [
    {
     "name": "stdout",
     "output_type": "stream",
     "text": [
      "Wilcoxon-Mann-Whitney:\n",
      " 5.8  5.9  5.7  5.6  5.5\n",
      " 5.3  5.2  5.0  5.3  5.0\n",
      " 5.0  5.1  5.1  5.0  5.1\n",
      " 5.0  5.1  5.1  5.1  5.1\n",
      " 5.0  5.0  5.1  5.2  5.2\n",
      "\n",
      "Brunner-Munzel:\n",
      " 5.1  5.2  5.0  5.1  5.1\n",
      " 5.0  5.1  4.9  5.2  5.0\n",
      " 5.0  5.1  5.1  5.1  5.1\n",
      " 5.1  5.2  5.1  5.1  5.0\n",
      " 5.0  5.1  5.0  5.1  5.0\n",
      "\n",
      "Student t:\n",
      " 17.4  30.7  44.4  54.2  58.0\n",
      " 11.0  15.5  19.3  20.7  19.2\n",
      "  8.0   8.7   8.8   7.9   6.8\n",
      "  6.3   6.2   5.5   5.0   4.9\n",
      "  5.6   5.1   4.9   5.4   6.3\n",
      "\n",
      "Welch t:\n",
      " 17.2  30.5  44.2  54.0  57.8\n",
      " 10.9  15.4  19.2  20.6  19.1\n",
      "  7.9   8.7   8.8   7.9   6.8\n",
      "  6.3   6.2   5.5   5.0   4.9\n",
      "  5.6   5.1   4.9   5.4   6.3\n",
      "\n",
      " 22.155421 seconds (26.37 M allocations: 2.187 GiB, 1.70% gc time)\n"
     ]
    }
   ],
   "source": [
    "@time print_sim(; m=100, n=100, shifttype=:tie, list_skewness=list_skewness2)"
   ]
  },
  {
   "cell_type": "code",
   "execution_count": null,
   "id": "365cd152-3b0f-471d-a4e0-8e2505873058",
   "metadata": {},
   "outputs": [],
   "source": []
  }
 ],
 "metadata": {
  "jupytext": {
   "formats": "ipynb,jl:hydrogen"
  },
  "kernelspec": {
   "display_name": "Julia 1.9.3",
   "language": "julia",
   "name": "julia-1.9"
  },
  "language_info": {
   "file_extension": ".jl",
   "mimetype": "application/julia",
   "name": "julia",
   "version": "1.9.3"
  }
 },
 "nbformat": 4,
 "nbformat_minor": 5
}
