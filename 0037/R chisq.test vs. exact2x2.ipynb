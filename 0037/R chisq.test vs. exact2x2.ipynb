{
 "cells": [
  {
   "cell_type": "code",
   "execution_count": 1,
   "id": "4824b4f9-a0de-4970-9a8d-8198e8633f4b",
   "metadata": {},
   "outputs": [
    {
     "name": "stderr",
     "output_type": "stream",
     "text": [
      "Warning message in chisq.test(matrix(c(2, 5, 1, 8), nrow = 2), correct = F):\n",
      "\"Chi-squared approximation may be incorrect\"\n"
     ]
    },
    {
     "data": {
      "text/plain": [
       "\n",
       "\tPearson's Chi-squared test\n",
       "\n",
       "data:  matrix(c(2, 5, 1, 8), nrow = 2)\n",
       "X-squared = 0.78795, df = 1, p-value = 0.3747\n"
      ]
     },
     "metadata": {},
     "output_type": "display_data"
    }
   ],
   "source": [
    "chisq.test(matrix(c(2, 5, 1, 8), nrow=2), correct=F)"
   ]
  },
  {
   "cell_type": "code",
   "execution_count": 2,
   "id": "a61f7e58-eef2-4dd3-a2d2-ec74c40f4b40",
   "metadata": {},
   "outputs": [
    {
     "name": "stderr",
     "output_type": "stream",
     "text": [
      "Warning message in chisq.test(matrix(c(2, 5, 1, 8), nrow = 2), correct = T):\n",
      "\"Chi-squared approximation may be incorrect\"\n"
     ]
    },
    {
     "data": {
      "text/plain": [
       "\n",
       "\tPearson's Chi-squared test with Yates' continuity correction\n",
       "\n",
       "data:  matrix(c(2, 5, 1, 8), nrow = 2)\n",
       "X-squared = 0.058608, df = 1, p-value = 0.8087\n"
      ]
     },
     "metadata": {},
     "output_type": "display_data"
    }
   ],
   "source": [
    "chisq.test(matrix(c(2, 5, 1, 8), nrow=2), correct=T)"
   ]
  },
  {
   "cell_type": "code",
   "execution_count": 3,
   "id": "01836275-5a55-44f4-8b6f-0a64d154cf97",
   "metadata": {},
   "outputs": [
    {
     "data": {
      "text/plain": [
       "\n",
       "\tFisher's Exact Test for Count Data\n",
       "\n",
       "data:  matrix(c(2, 5, 1, 8), nrow = 2)\n",
       "p-value = 0.55\n",
       "alternative hypothesis: true odds ratio is not equal to 1\n",
       "95 percent confidence interval:\n",
       "   0.1235757 211.5736032\n",
       "sample estimates:\n",
       "odds ratio \n",
       "  2.969271 \n"
      ]
     },
     "metadata": {},
     "output_type": "display_data"
    }
   ],
   "source": [
    "fisher.test(matrix(c(2, 5, 1, 8), nrow=2))"
   ]
  },
  {
   "cell_type": "code",
   "execution_count": 4,
   "id": "bc150b4e-4f18-4ae0-8ecf-cb4d46ec32ff",
   "metadata": {},
   "outputs": [
    {
     "data": {
      "text/plain": [
       "\n",
       "\tCentral Fisher's Exact Test\n",
       "\n",
       "data:  matrix(c(2, 5, 1, 8), nrow = 2)\n",
       "p-value = 0.8\n",
       "alternative hypothesis: true odds ratio is not equal to 1\n",
       "95 percent confidence interval:\n",
       "   0.1235757 211.5736032\n",
       "sample estimates:\n",
       "odds ratio \n",
       "  2.969271 \n"
      ]
     },
     "metadata": {},
     "output_type": "display_data"
    },
    {
     "data": {
      "image/png": "[encoded data removed]",
      "text/plain": [
       "plot without title"
      ]
     },
     "metadata": {
      "image/png": {
       "height": 420,
       "width": 420
      }
     },
     "output_type": "display_data"
    }
   ],
   "source": [
    "exact2x2::exact2x2(matrix(c(2, 5, 1, 8), nrow=2), tsmethod=\"central\", plot=T)"
   ]
  },
  {
   "cell_type": "code",
   "execution_count": 5,
   "id": "23fae79b-46b2-4d8b-86b4-822cba11ab52",
   "metadata": {},
   "outputs": [
    {
     "data": {
      "text/plain": [
       "\n",
       "\tTwo-sided Fisher's Exact Test (usual method using minimum likelihood)\n",
       "\n",
       "data:  matrix(c(2, 5, 1, 8), nrow = 2)\n",
       "p-value = 0.55\n",
       "alternative hypothesis: true odds ratio is not equal to 1\n",
       "95 percent confidence interval:\n",
       "   0.1880 103.9206\n",
       "sample estimates:\n",
       "odds ratio \n",
       "  2.969271 \n"
      ]
     },
     "metadata": {},
     "output_type": "display_data"
    },
    {
     "data": {
      "image/png": "[encoded data removed]",
      "text/plain": [
       "plot without title"
      ]
     },
     "metadata": {
      "image/png": {
       "height": 420,
       "width": 420
      }
     },
     "output_type": "display_data"
    }
   ],
   "source": [
    "exact2x2::exact2x2(matrix(c(2, 5, 1, 8), nrow=2), plot=T)"
   ]
  },
  {
   "cell_type": "code",
   "execution_count": null,
   "id": "0e92104a-96a3-4aaa-86ab-43610a6b1dad",
   "metadata": {},
   "outputs": [],
   "source": []
  }
 ],
 "metadata": {
  "jupytext": {
   "formats": "ipynb,Rmd"
  },
  "kernelspec": {
   "display_name": "R",
   "language": "R",
   "name": "ir"
  },
  "language_info": {
   "codemirror_mode": "r",
   "file_extension": ".r",
   "mimetype": "text/x-r-source",
   "name": "R",
   "pygments_lexer": "r",
   "version": "4.2.1"
  },
  "toc": {
   "base_numbering": 1,
   "nav_menu": {},
   "number_sections": false,
   "sideBar": true,
   "skip_h1_title": true,
   "title_cell": "Table of Contents",
   "title_sidebar": "Contents",
   "toc_cell": false,
   "toc_position": {},
   "toc_section_display": true,
   "toc_window_display": false
  }
 },
 "nbformat": 4,
 "nbformat_minor": 5
}
