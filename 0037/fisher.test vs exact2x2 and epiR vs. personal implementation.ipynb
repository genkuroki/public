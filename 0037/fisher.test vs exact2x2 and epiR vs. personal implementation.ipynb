{
 "cells": [
  {
   "cell_type": "code",
   "execution_count": 1,
   "id": "dfe207a8",
   "metadata": {},
   "outputs": [
    {
     "data": {
      "text/plain": [
       "⪅ (generic function with 1 method)"
      ]
     },
     "execution_count": 1,
     "metadata": {},
     "output_type": "execute_result"
    }
   ],
   "source": [
    "using Distributions\n",
    "using RCall\n",
    "using Roots\n",
    "using StatsFuns\n",
    "\n",
    "safemul(x, y) = x == 0 ? x : isinf(x) ? typeof(x)(Inf) : x*y\n",
    "safediv(x, y) = x == 0 ? x : isinf(y) ? zero(y) : x/y\n",
    "x ⪅ y = x < y || x ≈ y"
   ]
  },
  {
   "cell_type": "code",
   "execution_count": 2,
   "id": "429d6f64",
   "metadata": {},
   "outputs": [
    {
     "data": {
      "text/plain": [
       "confint_or_wald (generic function with 1 method)"
      ]
     },
     "execution_count": 2,
     "metadata": {},
     "output_type": "execute_result"
    }
   ],
   "source": [
    "# odds ratio Wald test\n",
    "\n",
    "oddsratiohat(a, b, c, d) = safediv(a*d, b*c)\n",
    "stderr_logoddsratiohat(a, b, c, d) = √(1/a + 1/b + 1/c + 1/d)\n",
    "\n",
    "function pvalue_or_wald(a, b, c, d; ω=1)\n",
    "    logORhat = log(oddsratiohat(a, b, c, d))\n",
    "    SEhat_logORhat = stderr_logoddsratiohat(a, b, c, d)\n",
    "    2ccdf(Normal(0, 1), safediv(abs(logORhat - log(ω)), SEhat_logORhat))\n",
    "end\n",
    "\n",
    "function confint_or_wald(a, b, c, d; α=0.05)\n",
    "    z = quantile(Normal(), 1-α/2)\n",
    "    ORhat = oddsratiohat(a, b, c, d)\n",
    "    SEhat_logORhat = stderr_logoddsratiohat(a, b, c, d)\n",
    "    [safemul(exp(-z*SEhat_logORhat), ORhat), safemul(exp(z*SEhat_logORhat), ORhat)]\n",
    "end"
   ]
  },
  {
   "cell_type": "code",
   "execution_count": 3,
   "id": "206b6a66",
   "metadata": {},
   "outputs": [
    {
     "data": {
      "text/plain": [
       "confint_rr_wald (generic function with 1 method)"
      ]
     },
     "execution_count": 3,
     "metadata": {},
     "output_type": "execute_result"
    }
   ],
   "source": [
    "# risk ratio Wald test\n",
    "\n",
    "riskratiohat(a, b, c, d) = safediv(a*(c+d), (a+b)*c)\n",
    "stderr_logriskratiohat(a, b, c, d) = √(1/a - 1/(a+b) + 1/c - 1/(c+d))\n",
    "\n",
    "function pvalue_rr_wald(a, b, c, d; ρ=1)\n",
    "    (a+b==0 || c+d==0) && return 1.0\n",
    "    logRRhat = log(riskratiohat(a, b, c, d))\n",
    "    SEhat_logRRhat = stderr_logriskratiohat(a, b, c, d)\n",
    "    2ccdf(Normal(0, 1), safediv(abs(logRRhat - log(ρ)), SEhat_logRRhat))\n",
    "end\n",
    "\n",
    "function confint_rr_wald(a, b, c, d; α=0.05)\n",
    "    (a+b==0 || c+d==0) && return [0, Inf]\n",
    "    z = quantile(Normal(), 1-α/2)\n",
    "    RRhat = riskratiohat(a, b, c, d)\n",
    "    SEhat_logRRhat = stderr_logriskratiohat(a, b, c, d)\n",
    "    [safemul(exp(-z*SEhat_logRRhat), RRhat), safemul(exp(z*SEhat_logRRhat), RRhat)]\n",
    "end"
   ]
  },
  {
   "cell_type": "code",
   "execution_count": 4,
   "id": "72a274fa",
   "metadata": {},
   "outputs": [
    {
     "data": {
      "text/plain": [
       "confint_or_pearson_chisq (generic function with 1 method)"
      ]
     },
     "execution_count": 4,
     "metadata": {},
     "output_type": "execute_result"
    }
   ],
   "source": [
    "# odds ratio Pearson's χ²-test (score test)\n",
    "\n",
    "function delta(a, b, c, d; ω=1)\n",
    "    A, B, C = 1-ω, a+d+ω*(b+c), a*d-ω*b*c\n",
    "    isinf(ω) ? typeof(ω)(-min(b, c)) : safediv(2C, B + √(B^2 - 4A*C))\n",
    "end\n",
    "\n",
    "# correction = 0.5 は連続性補正を与える.\n",
    "function _chisqstat_or(a, b, c, d, δ; correction=0.0)\n",
    "    ã, b̃, c̃, d̃ = a-δ, b+δ, c+δ, d-δ\n",
    "    safemul(max(0, abs(δ)-correction)^2, 1/ã + 1/b̃ + 1/c̃ + 1/d̃)\n",
    "end\n",
    "\n",
    "function chisqstat_or(a, b, c, d; ω=1, correction=0.0)\n",
    "    δ = delta(a, b, c, d; ω)\n",
    "    _chisqstat_or(a, b, c, d, δ; correction)\n",
    "end\n",
    "\n",
    "function pvalue_or_pearson_chisq(a, b, c, d; ω=1, correction=0.0)\n",
    "    χ² = chisqstat_or(a, b, c, d; ω, correction)\n",
    "    ccdf(Chisq(1), χ²)\n",
    "end\n",
    "\n",
    "function confint_or_pearson_chisq(a, b, c, d; α=0.05, correction=0.0)\n",
    "    (a+b==0 || c+d==0 || a+c==0 || b+d==0) && return [0, Inf]\n",
    "    f(logω) = logit(pvalue_or_pearson_chisq(a, b, c, d; ω=exp(logω), correction)) - logit(α)\n",
    "    ps = if a == 0 || d == 0\n",
    "        [0, exp(find_zero(f, 0.0))]\n",
    "    elseif b == 0 || c == 0\n",
    "        [exp(find_zero(f, 0.0)), Inf]\n",
    "    else\n",
    "        ORhat = oddsratiohat(a, b, c, d)\n",
    "        ω_L, ω_U = ORhat/2, 2ORhat\n",
    "        [exp(find_zero(f, log(ω_L))), exp(find_zero(f, log(ω_U)))]\n",
    "    end\n",
    "end"
   ]
  },
  {
   "cell_type": "code",
   "execution_count": 5,
   "id": "283b88d6",
   "metadata": {},
   "outputs": [
    {
     "data": {
      "text/plain": [
       "confint_rr_pearson_chisq (generic function with 1 method)"
      ]
     },
     "execution_count": 5,
     "metadata": {},
     "output_type": "execute_result"
    }
   ],
   "source": [
    "# risk ratio Pearson's χ²-test (score test)\n",
    "\n",
    "function Delta(a, b, c, d; ρ=1)\n",
    "    m, n = a+b, c+d\n",
    "    A, B, C = ρ-1, n-a+ρ*(m-c), a*n-ρ*m*c\n",
    "    isinf(ρ) ? typeof(ω)(-c) : safediv(2C, B + √(B^2 - 4A*C))\n",
    "end\n",
    "\n",
    "function _chisqstat_rr(a, b, c, d, Δ)\n",
    "    m, n = a+b, c+d\n",
    "    safemul(Δ^2, safediv(b, m*(a-Δ)) + safediv(d, n*(c+Δ)))\n",
    "end\n",
    "\n",
    "function chisqstat_rr(a, b, c, d; ρ=1)\n",
    "    Δ = Delta(a, b, c, d; ρ)\n",
    "    _chisqstat_rr(a, b, c, d, Δ)\n",
    "end\n",
    "\n",
    "function pvalue_rr_pearson_chisq(a, b, c, d; ρ=1)\n",
    "    χ² = chisqstat_rr(a, b, c, d; ρ)\n",
    "    ccdf(Chisq(1), χ²)\n",
    "end\n",
    "\n",
    "function confint_rr_pearson_chisq(a, b, c, d; α=0.05)\n",
    "    (a+b==0 || c+d==0 || a+c==0 || b+d==0) && return [0, Inf]\n",
    "    f(logρ) = logit(pvalue_rr_pearson_chisq(a, b, c, d; ρ=exp(logρ))) - logit(α)\n",
    "    RRhat = riskratiohat(a, b, c, d)\n",
    "    if a == 0\n",
    "        [0.0, exp(find_zero(f, 0.0))]\n",
    "    elseif c == 0\n",
    "        [exp(find_zero(f, 0.0)), Inf]\n",
    "    elseif b == 0\n",
    "        [0.0, exp(find_zero(f, log(2RRhat)))]\n",
    "    elseif d == 0\n",
    "        [exp(find_zero(f, log(RRhat/2))), Inf]\n",
    "    else\n",
    "        ρ_L, ρ_U = RRhat/2, 2RRhat\n",
    "        [exp(find_zero(f, log(ρ_L))), exp(find_zero(f, log(ρ_U)))]\n",
    "    end\n",
    "end"
   ]
  },
  {
   "cell_type": "code",
   "execution_count": 6,
   "id": "31f6f901",
   "metadata": {},
   "outputs": [
    {
     "data": {
      "text/plain": [
       "confint_or_fisher_cp (generic function with 1 method)"
      ]
     },
     "execution_count": 6,
     "metadata": {},
     "output_type": "execute_result"
    }
   ],
   "source": [
    "# Fisher test (Clopper-Pearson)\n",
    "\n",
    "function pvalue_or_fisher_cp(a, b, c, d; ω=1)\n",
    "    fnch = if ω == 1\n",
    "        Hypergeometric(a+b, c+d, a+c)\n",
    "    else\n",
    "        FisherNoncentralHypergeometric(a+b, c+d, a+c, ω)\n",
    "    end\n",
    "    min(1, 2cdf(fnch, a), 2ccdf(fnch, a-1))\n",
    "end\n",
    "\n",
    "function confint_or_fisher_cp(a, b, c, d; α = 0.05)\n",
    "    (a+b==0 || c+d==0 || a+c==0 || b+d==0) && return [0, Inf]\n",
    "    f(ω) = logit(pvalue_or_fisher_cp(a, b, c, d; ω)) - logit(α)\n",
    "    if a == 0 || d == 0\n",
    "        [0.0, find_zero(f, 1.0)]\n",
    "    elseif b == 0 || c == 0\n",
    "        [find_zero(f, 1.0), Inf]\n",
    "    else\n",
    "        ω_L, ω_U = confint_or_wald(a, b, c, d; α = α/10)\n",
    "        find_zeros(f, ω_L, ω_U)\n",
    "    end\n",
    "end"
   ]
  },
  {
   "cell_type": "code",
   "execution_count": 7,
   "id": "7a7944b2",
   "metadata": {},
   "outputs": [
    {
     "data": {
      "text/plain": [
       "confint_or_fisher_sterne (generic function with 1 method)"
      ]
     },
     "execution_count": 7,
     "metadata": {},
     "output_type": "execute_result"
    }
   ],
   "source": [
    "# Fisher test (Sterne)\n",
    "\n",
    "_pdf_le(x, (dist, y)) =  pdf(dist, x) ⪅ y\n",
    "\n",
    "function _search_boundary(f, x0, Δx, param)\n",
    "    x = x0\n",
    "    if f(x, param)\n",
    "        while f(x - Δx, param) x -= Δx end\n",
    "    else\n",
    "        x += Δx\n",
    "        while !f(x, param) x += Δx end\n",
    "    end\n",
    "    x\n",
    "end\n",
    "\n",
    "function pvalue_sterne(dist::DiscreteUnivariateDistribution, x)\n",
    "    Px = pdf(dist, x)\n",
    "    Px == 0 && return Px\n",
    "    Px == 1 && return Px\n",
    "    m = mode(dist)\n",
    "    Px ≈ pdf(dist, m) && return one(Px)\n",
    "    if x < m\n",
    "        y = _search_boundary(_pdf_le, 2m - x, 1, (dist, Px))\n",
    "        cdf(dist, x) + ccdf(dist, y-1)\n",
    "    else # x > m\n",
    "        y = _search_boundary(_pdf_le, 2m - x, -1, (dist, Px))\n",
    "        cdf(dist, y) + ccdf(dist, x-1)\n",
    "    end\n",
    "end\n",
    "\n",
    "function pvalue_or_fisher_sterne(a, b, c, d; ω=1)\n",
    "    fnch = if ω == 1\n",
    "        Hypergeometric(a+b, c+d, a+c)\n",
    "    else\n",
    "        FisherNoncentralHypergeometric(a+b, c+d, a+c, ω)\n",
    "    end\n",
    "    pvalue_sterne(fnch, a)\n",
    "end\n",
    "\n",
    "function confint_or_fisher_sterne(a, b, c, d; α = 0.05)\n",
    "    (a+b==0 || c+d==0 || a+c==0 || b+d==0) && return [0, Inf]\n",
    "    f(logω) = logit(pvalue_or_fisher_sterne(a, b, c, d; ω=exp(logω))) - logit(α)\n",
    "    if a == 0 || d == 0\n",
    "        [0.0, exp(find_zero(f, 0.0))]\n",
    "    elseif b == 0 || c == 0\n",
    "        [exp(find_zero(f, 0.0)), Inf]\n",
    "    else\n",
    "        ω_L, ω_U = confint_or_wald(a, b, c, d; α = α/10)\n",
    "        ps = exp.(find_zeros(f, log(ω_L), log(ω_U)))\n",
    "        # 次の行は稀に区間にならない場合への対策\n",
    "        [first(ps), last(ps)]\n",
    "    end\n",
    "end"
   ]
  },
  {
   "cell_type": "code",
   "execution_count": 8,
   "id": "e838bed8",
   "metadata": {},
   "outputs": [
    {
     "data": {
      "text/plain": [
       "RObject{VecSxp}\n",
       "\n",
       "\tFisher's Exact Test for Count Data\n",
       "\n",
       "data:  matrix(c(16, 4, 4, 6), 2, 2, byrow = T)\n",
       "p-value = 0.04486\n",
       "alternative hypothesis: true odds ratio is not equal to 1\n",
       "95 percent confidence interval:\n",
       "  0.8602909 44.0017191\n",
       "sample estimates:\n",
       "odds ratio \n",
       "  5.585888 \n",
       "\n"
      ]
     },
     "execution_count": 8,
     "metadata": {},
     "output_type": "execute_result"
    }
   ],
   "source": [
    "R\"\"\"fisher.test(matrix(c(16, 4, 4, 6), 2, 2, byrow=T))\"\"\""
   ]
  },
  {
   "cell_type": "code",
   "execution_count": 9,
   "id": "58cd1476",
   "metadata": {},
   "outputs": [
    {
     "data": {
      "image/png": "[encoded data removed]"
     },
     "metadata": {},
     "output_type": "display_data"
    },
    {
     "data": {
      "text/plain": [
       "RObject{VecSxp}\n",
       "\n",
       "\tTwo-sided Fisher's Exact Test (usual method using minimum likelihood)\n",
       "\n",
       "data:  matrix(c(16, 4, 4, 6), 2, 2, byrow = T)\n",
       "p-value = 0.04486\n",
       "alternative hypothesis: true odds ratio is not equal to 1\n",
       "95 percent confidence interval:\n",
       "  1.0549 32.6994\n",
       "sample estimates:\n",
       "odds ratio \n",
       "  5.585888 \n",
       "\n"
      ]
     },
     "execution_count": 9,
     "metadata": {},
     "output_type": "execute_result"
    }
   ],
   "source": [
    "R\"\"\"exact2x2::exact2x2(matrix(c(16, 4, 4, 6), 2, 2, byrow=T), plot=T)\"\"\""
   ]
  },
  {
   "cell_type": "code",
   "execution_count": 10,
   "id": "6f5da015",
   "metadata": {},
   "outputs": [
    {
     "data": {
      "text/plain": [
       "RObject{VecSxp}\n",
       "\n",
       "\tFisher's Exact Test for Count Data\n",
       "\n",
       "data:  matrix(c(16, 4, 4, 6), 2, 2, byrow = T)\n",
       "p-value = 0.04486\n",
       "alternative hypothesis: true odds ratio is not equal to 1\n",
       "95 percent confidence interval:\n",
       "  0.8602909 44.0017191\n",
       "sample estimates:\n",
       "odds ratio \n",
       "  5.585888 \n",
       "\n"
      ]
     },
     "execution_count": 10,
     "metadata": {},
     "output_type": "execute_result"
    }
   ],
   "source": [
    "R\"\"\"fisher.test(matrix(c(16, 4, 4, 6), 2, 2, byrow=T))\"\"\""
   ]
  },
  {
   "cell_type": "code",
   "execution_count": 11,
   "id": "d2bd104f",
   "metadata": {},
   "outputs": [
    {
     "data": {
      "image/png": "[encoded data removed]"
     },
     "metadata": {},
     "output_type": "display_data"
    },
    {
     "data": {
      "text/plain": [
       "RObject{VecSxp}\n",
       "\n",
       "\tCentral Fisher's Exact Test\n",
       "\n",
       "data:  matrix(c(16, 4, 4, 6), 2, 2, byrow = T)\n",
       "p-value = 0.07742\n",
       "alternative hypothesis: true odds ratio is not equal to 1\n",
       "95 percent confidence interval:\n",
       "  0.8602909 44.0017191\n",
       "sample estimates:\n",
       "odds ratio \n",
       "  5.585888 \n",
       "\n"
      ]
     },
     "execution_count": 11,
     "metadata": {},
     "output_type": "execute_result"
    }
   ],
   "source": [
    "R\"\"\"exact2x2::exact2x2(matrix(c(16, 4, 4, 6), 2, 2, byrow=T), tsmethod=\"central\", plot=T)\"\"\""
   ]
  },
  {
   "cell_type": "code",
   "execution_count": 12,
   "id": "c12aef95",
   "metadata": {},
   "outputs": [
    {
     "data": {
      "text/plain": [
       "RObject{VecSxp}\n",
       "             Outcome +    Outcome -      Total        Inc risk *        Odds\n",
       "Exposed +           16            4         20              80.0       4.000\n",
       "Exposed -            4            6         10              40.0       0.667\n",
       "Total               20           10         30              66.7       2.000\n",
       "\n",
       "Point estimates and 95% CIs:\n",
       "-------------------------------------------------------------------\n",
       "Inc risk ratio                                 2.0000 (0.9076, 4.4072)\n",
       "Odds ratio                                     6.0000 (1.1254, 31.9892)\n",
       "Attrib risk in the exposed *                   40.0000 (4.9391, 75.0609)\n",
       "Attrib fraction in the exposed (%)            50.0000 (-10.1794, 77.3097)\n",
       "Attrib risk in the population *                26.6667 (-8.0681, 61.4014)\n",
       "Attrib fraction in the population (%)         40.0000 (-13.8027, 68.3663)\n",
       "-------------------------------------------------------------------\n",
       "Yates corrected chi2 test that OR = 1: chi2(1) = 3.169 Pr>chi2 = 0.075\n",
       "Fisher exact test that OR = 1: Pr>chi2 = 0.045\n",
       " Wald confidence limits\n",
       " CI: confidence interval\n",
       " * Outcomes per 100 population units \n"
      ]
     },
     "execution_count": 12,
     "metadata": {},
     "output_type": "execute_result"
    }
   ],
   "source": [
    "R\"\"\"epiR::epi.2by2(matrix(c(16, 4, 4, 6), 2, 2, byrow=T), digits=4)\"\"\""
   ]
  },
  {
   "cell_type": "code",
   "execution_count": 13,
   "id": "01ca0c40",
   "metadata": {},
   "outputs": [
    {
     "name": "stdout",
     "output_type": "stream",
     "text": [
      "confint_rr_wald(16, 4, 4, 6) = [0.9076108600427952, 4.407175118873516]\n",
      "confint_or_wald(16, 4, 4, 6) = [1.1253809473171112, 31.989167833188734]\n",
      "confint_rr_pearson_chisq(16, 4, 4, 6) = [1.0640380701223051, 4.855065400672167]\n",
      "confint_or_pearson_chisq(16, 4, 4, 6) = [1.1911176901272547, 30.49633585876287]\n",
      "confint_or_pearson_chisq(16, 4, 4, 6; correction = 0.5) = [0.8734133287988819, 47.22191280527804]\n",
      "confint_or_fisher_sterne(16, 4, 4, 6) = [1.0548936562756726, 32.69944128327747]\n",
      "confint_or_fisher_cp(16, 4, 4, 6) = [0.8602702455780802, 43.981822628221444]\n"
     ]
    }
   ],
   "source": [
    "@show confint_rr_wald(16, 4, 4, 6);\n",
    "@show confint_or_wald(16, 4, 4, 6);\n",
    "@show confint_rr_pearson_chisq(16, 4, 4, 6);\n",
    "@show confint_or_pearson_chisq(16, 4, 4, 6);\n",
    "@show confint_or_pearson_chisq(16, 4, 4, 6; correction=0.5);\n",
    "@show confint_or_fisher_sterne(16, 4, 4, 6);\n",
    "@show confint_or_fisher_cp(16, 4, 4, 6);"
   ]
  },
  {
   "cell_type": "code",
   "execution_count": 14,
   "id": "dce66c1a",
   "metadata": {},
   "outputs": [
    {
     "name": "stdout",
     "output_type": "stream",
     "text": [
      "pvalue_rr_wald(16, 4, 4, 6) = 0.08552581801836596\n",
      "pvalue_or_wald(16, 4, 4, 6) = 0.0358791966995754\n",
      "pvalue_rr_pearson_chisq(16, 4, 4, 6) = 0.028459736916310572\n",
      "pvalue_or_pearson_chisq(16, 4, 4, 6) = 0.028459736916310572\n",
      "pvalue_or_pearson_chisq(16, 4, 4, 6; correction = 0.5) = 0.07505987281783365\n",
      "pvalue_or_fisher_sterne(16, 4, 4, 6) = 0.04485792401834372\n",
      "pvalue_or_fisher_cp(16, 4, 4, 6) = 0.0774172354382248\n"
     ]
    }
   ],
   "source": [
    "@show pvalue_rr_wald(16, 4, 4, 6);\n",
    "@show pvalue_or_wald(16, 4, 4, 6);\n",
    "@show pvalue_rr_pearson_chisq(16, 4, 4, 6);\n",
    "@show pvalue_or_pearson_chisq(16, 4, 4, 6);\n",
    "@show pvalue_or_pearson_chisq(16, 4, 4, 6; correction=0.5);\n",
    "@show pvalue_or_fisher_sterne(16, 4, 4, 6);\n",
    "@show pvalue_or_fisher_cp(16, 4, 4, 6);"
   ]
  },
  {
   "cell_type": "markdown",
   "id": "898c5066",
   "metadata": {},
   "source": [
    "## RCall.jlの使い方"
   ]
  },
  {
   "cell_type": "code",
   "execution_count": 15,
   "id": "cffd80ab",
   "metadata": {},
   "outputs": [],
   "source": [
    "using RCall"
   ]
  },
  {
   "cell_type": "code",
   "execution_count": 16,
   "id": "fec209c2",
   "metadata": {},
   "outputs": [
    {
     "data": {
      "text/plain": [
       "2×2 Matrix{Int64}:\n",
       " 16  4\n",
       "  4  6"
      ]
     },
     "execution_count": 16,
     "metadata": {},
     "output_type": "execute_result"
    }
   ],
   "source": [
    "A = [\n",
    "    16 4\n",
    "     4 6\n",
    "]\n",
    "@rput A"
   ]
  },
  {
   "cell_type": "code",
   "execution_count": 17,
   "id": "fa4684a8",
   "metadata": {},
   "outputs": [
    {
     "data": {
      "text/plain": [
       "RObject{VecSxp}\n",
       "\n",
       "\tFisher's Exact Test for Count Data\n",
       "\n",
       "data:  A\n",
       "p-value = 0.04486\n",
       "alternative hypothesis: true odds ratio is not equal to 1\n",
       "95 percent confidence interval:\n",
       "  0.8602909 44.0017191\n",
       "sample estimates:\n",
       "odds ratio \n",
       "  5.585888 \n",
       "\n"
      ]
     },
     "execution_count": 17,
     "metadata": {},
     "output_type": "execute_result"
    }
   ],
   "source": [
    "R\"\"\"result = fisher.test(A)\"\"\""
   ]
  },
  {
   "cell_type": "code",
   "execution_count": 18,
   "id": "80ded13c",
   "metadata": {},
   "outputs": [
    {
     "data": {
      "text/plain": [
       "OrderedCollections.OrderedDict{Symbol, Any} with 7 entries:\n",
       "  :p_value     => 0.0448579\n",
       "  :conf_int    => [0.860291, 44.0017]\n",
       "  :estimate    => 5.58589\n",
       "  :null_value  => 1.0\n",
       "  :alternative => \"two.sided\"\n",
       "  :method      => \"Fisher's Exact Test for Count Data\"\n",
       "  :data_name   => \"A\""
      ]
     },
     "execution_count": 18,
     "metadata": {},
     "output_type": "execute_result"
    }
   ],
   "source": [
    "@rget result"
   ]
  },
  {
   "cell_type": "code",
   "execution_count": 19,
   "id": "54464e3f",
   "metadata": {},
   "outputs": [
    {
     "data": {
      "text/plain": [
       "0.04485792401834373"
      ]
     },
     "execution_count": 19,
     "metadata": {},
     "output_type": "execute_result"
    }
   ],
   "source": [
    "result[:p_value]"
   ]
  },
  {
   "cell_type": "code",
   "execution_count": 20,
   "id": "2ff2d8bb",
   "metadata": {},
   "outputs": [
    {
     "data": {
      "text/plain": [
       "2-element Vector{Float64}:\n",
       "  0.8602909481155422\n",
       " 44.00171912708482"
      ]
     },
     "execution_count": 20,
     "metadata": {},
     "output_type": "execute_result"
    }
   ],
   "source": [
    "result[:conf_int]"
   ]
  },
  {
   "cell_type": "code",
   "execution_count": 21,
   "id": "81155603",
   "metadata": {},
   "outputs": [
    {
     "data": {
      "text/plain": [
       "RObject{VecSxp}\n",
       "\n",
       "\tFisher's Exact Test for Count Data\n",
       "\n",
       "data:  structure(c(16L, 4L, 4L, 6L), dim = c(2L, 2L))\n",
       "p-value = 0.04486\n",
       "alternative hypothesis: true odds ratio is not equal to 1\n",
       "99 percent confidence interval:\n",
       "  0.5311819 80.4160043\n",
       "sample estimates:\n",
       "odds ratio \n",
       "  5.585888 \n",
       "\n"
      ]
     },
     "execution_count": 21,
     "metadata": {},
     "output_type": "execute_result"
    }
   ],
   "source": [
    "@rimport stats as stats\n",
    "stats.fisher_test(A, var\"conf.level\"=0.99)"
   ]
  },
  {
   "cell_type": "code",
   "execution_count": 22,
   "id": "e925cc28",
   "metadata": {},
   "outputs": [
    {
     "data": {
      "text/plain": [
       "RObject{VecSxp}\n",
       "\n",
       "\tFisher's Exact Test for Count Data\n",
       "\n",
       "data:  structure(c(16L, 4L, 4L, 6L), dim = c(2L, 2L))\n",
       "p-value = 0.04486\n",
       "alternative hypothesis: true odds ratio is not equal to 1\n",
       "95 percent confidence interval:\n",
       "  0.8602909 44.0017191\n",
       "sample estimates:\n",
       "odds ratio \n",
       "  5.585888 \n",
       "\n"
      ]
     },
     "execution_count": 22,
     "metadata": {},
     "output_type": "execute_result"
    }
   ],
   "source": [
    "result_r = stats.fisher_test(A)"
   ]
  },
  {
   "cell_type": "code",
   "execution_count": 23,
   "id": "5721592d",
   "metadata": {},
   "outputs": [
    {
     "data": {
      "text/plain": [
       "OrderedCollections.OrderedDict{Symbol, Any} with 7 entries:\n",
       "  :p_value     => 0.0448579\n",
       "  :conf_int    => [0.860291, 44.0017]\n",
       "  :estimate    => 5.58589\n",
       "  :null_value  => 1.0\n",
       "  :alternative => \"two.sided\"\n",
       "  :method      => \"Fisher's Exact Test for Count Data\"\n",
       "  :data_name   => \"structure(c(16L, 4L, 4L, 6L), dim = c(2L, 2L))\""
      ]
     },
     "execution_count": 23,
     "metadata": {},
     "output_type": "execute_result"
    }
   ],
   "source": [
    "result_julia = rcopy(result_r)"
   ]
  },
  {
   "cell_type": "code",
   "execution_count": 24,
   "id": "964250a7",
   "metadata": {},
   "outputs": [
    {
     "data": {
      "text/plain": [
       "0.04485792401834373"
      ]
     },
     "execution_count": 24,
     "metadata": {},
     "output_type": "execute_result"
    }
   ],
   "source": [
    "result_julia[:p_value]"
   ]
  },
  {
   "cell_type": "code",
   "execution_count": 25,
   "id": "cc92bbfd",
   "metadata": {},
   "outputs": [
    {
     "data": {
      "text/plain": [
       "2-element Vector{Float64}:\n",
       "  0.8602909481155422\n",
       " 44.00171912708482"
      ]
     },
     "execution_count": 25,
     "metadata": {},
     "output_type": "execute_result"
    }
   ],
   "source": [
    "result_julia[:conf_int]"
   ]
  },
  {
   "cell_type": "code",
   "execution_count": 26,
   "id": "c6a9f254",
   "metadata": {},
   "outputs": [
    {
     "data": {
      "image/png": "[encoded data removed]"
     },
     "metadata": {},
     "output_type": "display_data"
    },
    {
     "data": {
      "text/plain": [
       "RObject{VecSxp}\n",
       "\n",
       "\tTwo-sided Fisher's Exact Test (usual method using minimum likelihood)\n",
       "\n",
       "data:  structure(c(16L, 4L, 4L, 6L), dim = c(2L, 2L))\n",
       "p-value = 0.04486\n",
       "alternative hypothesis: true odds ratio is not equal to 1\n",
       "95 percent confidence interval:\n",
       "  1.0549 32.6994\n",
       "sample estimates:\n",
       "odds ratio \n",
       "  5.585888 \n",
       "\n"
      ]
     },
     "execution_count": 26,
     "metadata": {},
     "output_type": "execute_result"
    }
   ],
   "source": [
    "@rimport exact2x2 as exact2x2\n",
    "exact2x2.exact2x2(A, plot=\"T\")"
   ]
  },
  {
   "cell_type": "code",
   "execution_count": 27,
   "id": "37723823",
   "metadata": {},
   "outputs": [
    {
     "data": {
      "text/plain": [
       "RObject{VecSxp}\n",
       "             Outcome +    Outcome -      Total        Inc risk *        Odds\n",
       "Exposed +           16            4         20              80.0       4.000\n",
       "Exposed -            4            6         10              40.0       0.667\n",
       "Total               20           10         30              66.7       2.000\n",
       "\n",
       "Point estimates and 95% CIs:\n",
       "-------------------------------------------------------------------\n",
       "Inc risk ratio                                 2.0000 (0.9076, 4.4072)\n",
       "Odds ratio                                     6.0000 (1.1254, 31.9892)\n",
       "Attrib risk in the exposed *                   40.0000 (4.9391, 75.0609)\n",
       "Attrib fraction in the exposed (%)            50.0000 (-10.1794, 77.3097)\n",
       "Attrib risk in the population *                26.6667 (-8.0681, 61.4014)\n",
       "Attrib fraction in the population (%)         40.0000 (-13.8027, 68.3663)\n",
       "-------------------------------------------------------------------\n",
       "Yates corrected chi2 test that OR = 1: chi2(1) = 3.169 Pr>chi2 = 0.075\n",
       "Fisher exact test that OR = 1: Pr>chi2 = 0.045\n",
       " Wald confidence limits\n",
       " CI: confidence interval\n",
       " * Outcomes per 100 population units \n"
      ]
     },
     "execution_count": 27,
     "metadata": {},
     "output_type": "execute_result"
    }
   ],
   "source": [
    "@rimport epiR as epiR\n",
    "epiR.epi_2by2(A, digits=4)"
   ]
  },
  {
   "cell_type": "code",
   "execution_count": 28,
   "id": "77c2f8f8",
   "metadata": {},
   "outputs": [
    {
     "data": {
      "text/html": [
       "<div class=\"data-frame\"><p>10 rows × 10 columns</p><table class=\"data-frame\"><thead><tr><th></th><th>carat</th><th>cut</th><th>color</th><th>clarity</th><th>depth</th><th>table</th><th>price</th><th>x</th><th>y</th><th>z</th></tr><tr><th></th><th title=\"Float64\">Float64</th><th title=\"CategoricalArrays.CategoricalValue{String, UInt32}\">Cat…</th><th title=\"CategoricalArrays.CategoricalValue{String, UInt32}\">Cat…</th><th title=\"CategoricalArrays.CategoricalValue{String, UInt32}\">Cat…</th><th title=\"Float64\">Float64</th><th title=\"Float64\">Float64</th><th title=\"Int64\">Int64</th><th title=\"Float64\">Float64</th><th title=\"Float64\">Float64</th><th title=\"Float64\">Float64</th></tr></thead><tbody><tr><th>1</th><td>0.23</td><td>Ideal</td><td>E</td><td>SI2</td><td>61.5</td><td>55.0</td><td>326</td><td>3.95</td><td>3.98</td><td>2.43</td></tr><tr><th>2</th><td>0.21</td><td>Premium</td><td>E</td><td>SI1</td><td>59.8</td><td>61.0</td><td>326</td><td>3.89</td><td>3.84</td><td>2.31</td></tr><tr><th>3</th><td>0.23</td><td>Good</td><td>E</td><td>VS1</td><td>56.9</td><td>65.0</td><td>327</td><td>4.05</td><td>4.07</td><td>2.31</td></tr><tr><th>4</th><td>0.29</td><td>Premium</td><td>I</td><td>VS2</td><td>62.4</td><td>58.0</td><td>334</td><td>4.2</td><td>4.23</td><td>2.63</td></tr><tr><th>5</th><td>0.31</td><td>Good</td><td>J</td><td>SI2</td><td>63.3</td><td>58.0</td><td>335</td><td>4.34</td><td>4.35</td><td>2.75</td></tr><tr><th>6</th><td>0.24</td><td>Very Good</td><td>J</td><td>VVS2</td><td>62.8</td><td>57.0</td><td>336</td><td>3.94</td><td>3.96</td><td>2.48</td></tr><tr><th>7</th><td>0.24</td><td>Very Good</td><td>I</td><td>VVS1</td><td>62.3</td><td>57.0</td><td>336</td><td>3.95</td><td>3.98</td><td>2.47</td></tr><tr><th>8</th><td>0.26</td><td>Very Good</td><td>H</td><td>SI1</td><td>61.9</td><td>55.0</td><td>337</td><td>4.07</td><td>4.11</td><td>2.53</td></tr><tr><th>9</th><td>0.22</td><td>Fair</td><td>E</td><td>VS2</td><td>65.1</td><td>61.0</td><td>337</td><td>3.87</td><td>3.78</td><td>2.49</td></tr><tr><th>10</th><td>0.23</td><td>Very Good</td><td>H</td><td>VS1</td><td>59.4</td><td>61.0</td><td>338</td><td>4.0</td><td>4.05</td><td>2.39</td></tr></tbody></table></div>"
      ],
      "text/latex": [
       "\\begin{tabular}{r|cccccccccc}\n",
       "\t& carat & cut & color & clarity & depth & table & price & x & y & z\\\\\n",
       "\t\\hline\n",
       "\t& Float64 & Cat… & Cat… & Cat… & Float64 & Float64 & Int64 & Float64 & Float64 & Float64\\\\\n",
       "\t\\hline\n",
       "\t1 & 0.23 & Ideal & E & SI2 & 61.5 & 55.0 & 326 & 3.95 & 3.98 & 2.43 \\\\\n",
       "\t2 & 0.21 & Premium & E & SI1 & 59.8 & 61.0 & 326 & 3.89 & 3.84 & 2.31 \\\\\n",
       "\t3 & 0.23 & Good & E & VS1 & 56.9 & 65.0 & 327 & 4.05 & 4.07 & 2.31 \\\\\n",
       "\t4 & 0.29 & Premium & I & VS2 & 62.4 & 58.0 & 334 & 4.2 & 4.23 & 2.63 \\\\\n",
       "\t5 & 0.31 & Good & J & SI2 & 63.3 & 58.0 & 335 & 4.34 & 4.35 & 2.75 \\\\\n",
       "\t6 & 0.24 & Very Good & J & VVS2 & 62.8 & 57.0 & 336 & 3.94 & 3.96 & 2.48 \\\\\n",
       "\t7 & 0.24 & Very Good & I & VVS1 & 62.3 & 57.0 & 336 & 3.95 & 3.98 & 2.47 \\\\\n",
       "\t8 & 0.26 & Very Good & H & SI1 & 61.9 & 55.0 & 337 & 4.07 & 4.11 & 2.53 \\\\\n",
       "\t9 & 0.22 & Fair & E & VS2 & 65.1 & 61.0 & 337 & 3.87 & 3.78 & 2.49 \\\\\n",
       "\t10 & 0.23 & Very Good & H & VS1 & 59.4 & 61.0 & 338 & 4.0 & 4.05 & 2.39 \\\\\n",
       "\\end{tabular}\n"
      ],
      "text/plain": [
       "\u001b[1m10×10 DataFrame\u001b[0m\n",
       "\u001b[1m Row \u001b[0m│\u001b[1m carat   \u001b[0m\u001b[1m cut       \u001b[0m\u001b[1m color \u001b[0m\u001b[1m clarity \u001b[0m\u001b[1m depth   \u001b[0m\u001b[1m table   \u001b[0m\u001b[1m price \u001b[0m\u001b[1m x       \u001b[0m\u001b[1m y\u001b[0m ⋯\n",
       "\u001b[1m     \u001b[0m│\u001b[90m Float64 \u001b[0m\u001b[90m Cat…      \u001b[0m\u001b[90m Cat…  \u001b[0m\u001b[90m Cat…    \u001b[0m\u001b[90m Float64 \u001b[0m\u001b[90m Float64 \u001b[0m\u001b[90m Int64 \u001b[0m\u001b[90m Float64 \u001b[0m\u001b[90m F\u001b[0m ⋯\n",
       "─────┼──────────────────────────────────────────────────────────────────────────\n",
       "   1 │    0.23  Ideal      E      SI2         61.5     55.0    326     3.95    ⋯\n",
       "   2 │    0.21  Premium    E      SI1         59.8     61.0    326     3.89\n",
       "   3 │    0.23  Good       E      VS1         56.9     65.0    327     4.05\n",
       "   4 │    0.29  Premium    I      VS2         62.4     58.0    334     4.2\n",
       "   5 │    0.31  Good       J      SI2         63.3     58.0    335     4.34    ⋯\n",
       "   6 │    0.24  Very Good  J      VVS2        62.8     57.0    336     3.94\n",
       "   7 │    0.24  Very Good  I      VVS1        62.3     57.0    336     3.95\n",
       "   8 │    0.26  Very Good  H      SI1         61.9     55.0    337     4.07\n",
       "   9 │    0.22  Fair       E      VS2         65.1     61.0    337     3.87    ⋯\n",
       "  10 │    0.23  Very Good  H      VS1         59.4     61.0    338     4.0\n",
       "\u001b[36m                                                               2 columns omitted\u001b[0m"
      ]
     },
     "execution_count": 28,
     "metadata": {},
     "output_type": "execute_result"
    }
   ],
   "source": [
    "using RCall\n",
    "\n",
    "diamonds = R\"\"\"ggplot2::diamonds\"\"\" |> rcopy\n",
    "first(diamonds, 10)"
   ]
  },
  {
   "cell_type": "code",
   "execution_count": 29,
   "id": "7ca7e30b",
   "metadata": {},
   "outputs": [
    {
     "data": {
      "image/png": "[encoded data removed]"
     },
     "execution_count": 29,
     "metadata": {},
     "output_type": "execute_result"
    }
   ],
   "source": [
    "using StatsPlots\n",
    "default(fmt=:png)\n",
    "@df diamonds scatter(:carat, :price; label=\"\", xguide=\"catat\", yguide=\"price\", msw=0, ms=1, alpha=0.3)"
   ]
  },
  {
   "cell_type": "code",
   "execution_count": 30,
   "id": "62a382f8",
   "metadata": {},
   "outputs": [
    {
     "name": "stderr",
     "output_type": "stream",
     "text": [
      "WARNING: using __anonymous__.stat in module Main conflicts with an existing identifier.\n"
     ]
    }
   ],
   "source": [
    "@rlibrary ggplot2"
   ]
  },
  {
   "cell_type": "code",
   "execution_count": 31,
   "id": "5fade119",
   "metadata": {},
   "outputs": [
    {
     "name": "stderr",
     "output_type": "stream",
     "text": [
      "┌ Warning: RCall.jl: `geom_smooth()` using method = 'gam' and formula 'y ~ s(x, bs = \"cs\")'\n",
      "└ @ RCall D:\\.julia\\packages\\RCall\\6kphM\\src\\io.jl:172\n"
     ]
    },
    {
     "data": {
      "image/png": "[encoded data removed]"
     },
     "metadata": {},
     "output_type": "display_data"
    },
    {
     "data": {
      "text/plain": [
       "RObject{VecSxp}\n"
      ]
     },
     "execution_count": 31,
     "metadata": {},
     "output_type": "execute_result"
    }
   ],
   "source": [
    "ggplot(diamonds) +\n",
    "geom_point(aes(x=:carat, y=:price, color=:cut)) +\n",
    "geom_smooth(aes(x=:carat, y=:price, color=:cut))"
   ]
  },
  {
   "cell_type": "markdown",
   "id": "4bf4b2d3",
   "metadata": {},
   "source": [
    "See also https://nbviewer.org/gist/genkuroki/64602cfbdc95a2604b6b2a967eea6109"
   ]
  },
  {
   "cell_type": "code",
   "execution_count": null,
   "id": "80490bac",
   "metadata": {},
   "outputs": [],
   "source": []
  }
 ],
 "metadata": {
  "@webio": {
   "lastCommId": null,
   "lastKernelId": null
  },
  "jupytext": {
   "encoding": "# -*- coding: utf-8 -*-",
   "formats": "ipynb,jl:hydrogen"
  },
  "kernelspec": {
   "display_name": "Julia 1.8.1",
   "language": "julia",
   "name": "julia-1.8"
  },
  "language_info": {
   "file_extension": ".jl",
   "mimetype": "application/julia",
   "name": "julia",
   "version": "1.8.1"
  },
  "toc": {
   "base_numbering": 1,
   "nav_menu": {},
   "number_sections": false,
   "sideBar": true,
   "skip_h1_title": true,
   "title_cell": "Table of Contents",
   "title_sidebar": "Contents",
   "toc_cell": false,
   "toc_position": {},
   "toc_section_display": true,
   "toc_window_display": false
  }
 },
 "nbformat": 4,
 "nbformat_minor": 5
}
