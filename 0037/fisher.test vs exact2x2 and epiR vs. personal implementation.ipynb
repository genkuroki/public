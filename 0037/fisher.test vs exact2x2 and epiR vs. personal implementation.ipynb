{
 "cells": [
  {
   "cell_type": "code",
   "execution_count": 1,
   "id": "0043805b-241c-42e0-a7cc-eb373e54f7cd",
   "metadata": {},
   "outputs": [
    {
     "data": {
      "text/plain": [
       "confint_rr_pearson_chisq (generic function with 1 method)"
      ]
     },
     "execution_count": 1,
     "metadata": {},
     "output_type": "execute_result"
    }
   ],
   "source": [
    "using Distributions\n",
    "using RCall\n",
    "using Roots\n",
    "using StatsFuns\n",
    "\n",
    "safemul(x, y) = x == 0 ? x : isinf(x) ? typeof(x)(Inf) : x*y\n",
    "safediv(x, y) = x == 0 ? x : isinf(y) ? zero(y) : x/y\n",
    "\n",
    "oddsratiohat(a, b, c, d) = safediv(a*d, b*c)\n",
    "stderr_logoddsratiohat(a, b, c, d) = √(1/a + 1/b + 1/c + 1/d)\n",
    "\n",
    "function pvalue_or_wald(a, b, c, d; ω=1)\n",
    "    logORhat = log(oddsratiohat(a, b, c, d))\n",
    "    SEhat_logORhat = stderr_logoddsratiohat(a, b, c, d)\n",
    "    2ccdf(Normal(0, 1), safediv(abs(logORhat - log(ω)), SEhat_logORhat))\n",
    "end\n",
    "\n",
    "function confint_or_wald(a, b, c, d; α=0.05)\n",
    "    z = quantile(Normal(), 1-α/2)\n",
    "    ORhat = oddsratiohat(a, b, c, d)\n",
    "    SEhat_logORhat = stderr_logoddsratiohat(a, b, c, d)\n",
    "    [safemul(exp(-z*SEhat_logORhat), ORhat), safemul(exp(z*SEhat_logORhat), ORhat)]\n",
    "end\n",
    "\n",
    "riskratiohat(a, b, c, d) = safediv(a*(c+d), (a+b)*c)\n",
    "stderr_logriskratiohat(a, b, c, d) = √(1/a - 1/(a+b) + 1/c - 1/(c+d))\n",
    "\n",
    "function pvalue_rr_wald(a, b, c, d; ρ=1)\n",
    "    (a+b==0 || c+d==0) && return 1.0\n",
    "    logRRhat = log(riskratiohat(a, b, c, d))\n",
    "    SEhat_logRRhat = stderr_logriskratiohat(a, b, c, d)\n",
    "    2ccdf(Normal(0, 1), safediv(abs(logRRhat - log(ρ)), SEhat_logRRhat))\n",
    "end\n",
    "\n",
    "function confint_rr_wald(a, b, c, d; α=0.05)\n",
    "    (a+b==0 || c+d==0) && return [0, Inf]\n",
    "    z = quantile(Normal(), 1-α/2)\n",
    "    RRhat = riskratiohat(a, b, c, d)\n",
    "    SEhat_logRRhat = stderr_logriskratiohat(a, b, c, d)\n",
    "    [safemul(exp(-z*SEhat_logRRhat), RRhat), safemul(exp(z*SEhat_logRRhat), RRhat)]\n",
    "end\n",
    "\n",
    "function delta(a, b, c, d; ω=1)\n",
    "    A, B, C = 1-ω, a+d+ω*(b+c), a*d-ω*b*c\n",
    "    isinf(ω) ? typeof(ω)(-min(b, c)) : safediv(2C, B + √(B^2 - 4A*C))\n",
    "end\n",
    "\n",
    "# correction = 0.5 は連続性補正を与える.\n",
    "function _chisqstat_or(a, b, c, d, δ; correction=0.0)\n",
    "    ã, b̃, c̃, d̃ = a-δ, b+δ, c+δ, d-δ\n",
    "    safemul(max(0, abs(δ)-correction)^2, 1/ã + 1/b̃ + 1/c̃ + 1/d̃)\n",
    "end\n",
    "\n",
    "function chisqstat_or(a, b, c, d; ω=1, correction=0.0)\n",
    "    δ = delta(a, b, c, d; ω)\n",
    "    _chisqstat_or(a, b, c, d, δ; correction)\n",
    "end\n",
    "\n",
    "function pvalue_or_pearson_chisq(a, b, c, d; ω=1, correction=0.0)\n",
    "    χ² = chisqstat_or(a, b, c, d; ω, correction)\n",
    "    ccdf(Chisq(1), χ²)\n",
    "end\n",
    "\n",
    "function confint_or_pearson_chisq(a, b, c, d; α=0.05, correction=0.0)\n",
    "    (a+b==0 || c+d==0 || a+c==0 || b+d==0) && return [0, Inf]\n",
    "    f(logω) = logit(pvalue_or_pearson_chisq(a, b, c, d; ω=exp(logω), correction)) - logit(α)\n",
    "    ps = if a == 0 || d == 0\n",
    "        [0, exp(find_zero(f, 0.0))]\n",
    "    elseif b == 0 || c == 0\n",
    "        [exp(find_zero(f, 0.0)), Inf]\n",
    "    else\n",
    "        ORhat = oddsratiohat(a, b, c, d)\n",
    "        ω_L, ω_U = ORhat/2, 2ORhat\n",
    "        [exp(find_zero(f, log(ω_L))), exp(find_zero(f, log(ω_U)))]\n",
    "    end\n",
    "end\n",
    "\n",
    "function Delta(a, b, c, d; ρ=1)\n",
    "    m, n = a+b, c+d\n",
    "    A, B, C = ρ-1, n-a+ρ*(m-c), a*n-ρ*m*c\n",
    "    isinf(ρ) ? typeof(ω)(-c) : safediv(2C, B + √(B^2 - 4A*C))\n",
    "end\n",
    "\n",
    "function _chisqstat_rr(a, b, c, d, Δ)\n",
    "    m, n = a+b, c+d\n",
    "    safemul(Δ^2, safediv(b, m*(a-Δ)) + safediv(d, n*(c+Δ)))\n",
    "end\n",
    "\n",
    "function chisqstat_rr(a, b, c, d; ρ=1)\n",
    "    Δ = Delta(a, b, c, d; ρ)\n",
    "    _chisqstat_rr(a, b, c, d, Δ)\n",
    "end\n",
    "\n",
    "function pvalue_rr_pearson_chisq(a, b, c, d; ρ=1)\n",
    "    χ² = chisqstat_rr(a, b, c, d; ρ)\n",
    "    ccdf(Chisq(1), χ²)\n",
    "end\n",
    "\n",
    "function confint_rr_pearson_chisq(a, b, c, d; α=0.05)\n",
    "    (a+b==0 || c+d==0 || a+c==0 || b+d==0) && return [0, Inf]\n",
    "    f(logρ) = logit(pvalue_rr_pearson_chisq(a, b, c, d; ρ=exp(logρ))) - logit(α)\n",
    "    RRhat = riskratiohat(a, b, c, d)\n",
    "    if a == 0\n",
    "        [0.0, exp(find_zero(f, 0.0))]\n",
    "    elseif c == 0\n",
    "        [exp(find_zero(f, 0.0)), Inf]\n",
    "    elseif b == 0\n",
    "        [0.0, exp(find_zero(f, log(2RRhat)))]\n",
    "    elseif d == 0\n",
    "        [exp(find_zero(f, log(RRhat/2))), Inf]\n",
    "    else\n",
    "        ρ_L, ρ_U = RRhat/2, 2RRhat\n",
    "        [exp(find_zero(f, log(ρ_L))), exp(find_zero(f, log(ρ_U)))]\n",
    "    end\n",
    "end"
   ]
  },
  {
   "cell_type": "code",
   "execution_count": 2,
   "id": "003b1c5a-8619-4a7d-95e3-fdf7191ddd4f",
   "metadata": {},
   "outputs": [
    {
     "data": {
      "text/plain": [
       "RObject{VecSxp}\n",
       "\n",
       "\tFisher's Exact Test for Count Data\n",
       "\n",
       "data:  matrix(c(16, 4, 4, 6), 2, 2, byrow = T)\n",
       "p-value = 0.04486\n",
       "alternative hypothesis: true odds ratio is not equal to 1\n",
       "95 percent confidence interval:\n",
       "  0.8602909 44.0017191\n",
       "sample estimates:\n",
       "odds ratio \n",
       "  5.585888 \n",
       "\n"
      ]
     },
     "execution_count": 2,
     "metadata": {},
     "output_type": "execute_result"
    }
   ],
   "source": [
    "R\"\"\"fisher.test(matrix(c(16, 4, 4, 6), 2, 2, byrow=T))\"\"\""
   ]
  },
  {
   "cell_type": "code",
   "execution_count": 3,
   "id": "64d20a4a-5b03-490b-996f-c4133be101c0",
   "metadata": {},
   "outputs": [
    {
     "data": {
      "image/png": "[encoded data removed]"
     },
     "metadata": {},
     "output_type": "display_data"
    },
    {
     "data": {
      "text/plain": [
       "RObject{VecSxp}\n",
       "\n",
       "\tTwo-sided Fisher's Exact Test (usual method using minimum likelihood)\n",
       "\n",
       "data:  matrix(c(16, 4, 4, 6), 2, 2, byrow = T)\n",
       "p-value = 0.04486\n",
       "alternative hypothesis: true odds ratio is not equal to 1\n",
       "95 percent confidence interval:\n",
       "  1.0549 32.6994\n",
       "sample estimates:\n",
       "odds ratio \n",
       "  5.585888 \n",
       "\n"
      ]
     },
     "execution_count": 3,
     "metadata": {},
     "output_type": "execute_result"
    }
   ],
   "source": [
    "R\"\"\"exact2x2::exact2x2(matrix(c(16, 4, 4, 6), 2, 2, byrow=T), plot=T)\"\"\""
   ]
  },
  {
   "cell_type": "code",
   "execution_count": 4,
   "id": "85f7a7d1-fdec-436f-adb1-50112a378339",
   "metadata": {},
   "outputs": [
    {
     "data": {
      "image/png": "[encoded data removed]"
     },
     "metadata": {},
     "output_type": "display_data"
    },
    {
     "data": {
      "text/plain": [
       "RObject{VecSxp}\n",
       "\n",
       "\tCentral Fisher's Exact Test\n",
       "\n",
       "data:  matrix(c(16, 4, 4, 6), 2, 2, byrow = T)\n",
       "p-value = 0.07742\n",
       "alternative hypothesis: true odds ratio is not equal to 1\n",
       "95 percent confidence interval:\n",
       "  0.8602909 44.0017191\n",
       "sample estimates:\n",
       "odds ratio \n",
       "  5.585888 \n",
       "\n"
      ]
     },
     "execution_count": 4,
     "metadata": {},
     "output_type": "execute_result"
    }
   ],
   "source": [
    "R\"\"\"exact2x2::exact2x2(matrix(c(16, 4, 4, 6), 2, 2, byrow=T), tsmethod=\"central\", plot=T)\"\"\""
   ]
  },
  {
   "cell_type": "code",
   "execution_count": 5,
   "id": "dcd5a063-fb4c-4586-bc03-99dcb6c3beda",
   "metadata": {},
   "outputs": [
    {
     "data": {
      "text/plain": [
       "RObject{VecSxp}\n",
       "             Outcome +    Outcome -      Total        Inc risk *        Odds\n",
       "Exposed +           16            4         20              80.0       4.000\n",
       "Exposed -            4            6         10              40.0       0.667\n",
       "Total               20           10         30              66.7       2.000\n",
       "\n",
       "Point estimates and 95% CIs:\n",
       "-------------------------------------------------------------------\n",
       "Inc risk ratio                                 2.0000 (0.9076, 4.4072)\n",
       "Odds ratio                                     6.0000 (1.1254, 31.9892)\n",
       "Attrib risk in the exposed *                   40.0000 (4.9391, 75.0609)\n",
       "Attrib fraction in the exposed (%)            50.0000 (-10.1794, 77.3097)\n",
       "Attrib risk in the population *                26.6667 (-8.0681, 61.4014)\n",
       "Attrib fraction in the population (%)         40.0000 (-13.8027, 68.3663)\n",
       "-------------------------------------------------------------------\n",
       "Yates corrected chi2 test that OR = 1: chi2(1) = 3.169 Pr>chi2 = 0.075\n",
       "Fisher exact test that OR = 1: Pr>chi2 = 0.045\n",
       " Wald confidence limits\n",
       " CI: confidence interval\n",
       " * Outcomes per 100 population units \n"
      ]
     },
     "execution_count": 5,
     "metadata": {},
     "output_type": "execute_result"
    }
   ],
   "source": [
    "R\"\"\"epiR::epi.2by2(matrix(c(16, 4, 4, 6), 2, 2, byrow=T), digits=4)\"\"\""
   ]
  },
  {
   "cell_type": "code",
   "execution_count": 6,
   "id": "f482e2fb-e1a4-4355-a092-adbbb3f25549",
   "metadata": {},
   "outputs": [
    {
     "name": "stdout",
     "output_type": "stream",
     "text": [
      "confint_rr_wald(16, 4, 4, 6) = [0.9076108600427952, 4.407175118873516]\n",
      "confint_or_wald(16, 4, 4, 6) = [1.1253809473171112, 31.989167833188734]\n",
      "confint_rr_pearson_chisq(16, 4, 4, 6) = [1.0640380701223051, 4.855065400672167]\n",
      "confint_or_pearson_chisq(16, 4, 4, 6) = [1.1911176901272547, 30.49633585876287]\n"
     ]
    }
   ],
   "source": [
    "@show confint_rr_wald(16, 4, 4, 6);\n",
    "@show confint_or_wald(16, 4, 4, 6);\n",
    "@show confint_rr_pearson_chisq(16, 4, 4, 6);\n",
    "@show confint_or_pearson_chisq(16, 4, 4, 6);"
   ]
  },
  {
   "cell_type": "code",
   "execution_count": 7,
   "id": "f93ef001-7390-4739-a771-c9f05fe36cd6",
   "metadata": {},
   "outputs": [
    {
     "name": "stdout",
     "output_type": "stream",
     "text": [
      "pvalue_rr_wald(16, 4, 4, 6) = 0.08552581801836596\n",
      "pvalue_or_wald(16, 4, 4, 6) = 0.0358791966995754\n",
      "pvalue_rr_pearson_chisq(16, 4, 4, 6) = 0.028459736916310572\n",
      "pvalue_or_pearson_chisq(16, 4, 4, 6) = 0.028459736916310572\n",
      "pvalue_or_pearson_chisq(16, 4, 4, 6; correction = 0.5) = 0.07505987281783365\n"
     ]
    }
   ],
   "source": [
    "@show pvalue_rr_wald(16, 4, 4, 6);\n",
    "@show pvalue_or_wald(16, 4, 4, 6);\n",
    "@show pvalue_rr_pearson_chisq(16, 4, 4, 6);\n",
    "@show pvalue_or_pearson_chisq(16, 4, 4, 6);\n",
    "@show pvalue_or_pearson_chisq(16, 4, 4, 6; correction=0.5);"
   ]
  },
  {
   "cell_type": "code",
   "execution_count": null,
   "id": "bc9aa53e-01b7-4c3f-b328-496ff6b2d7cb",
   "metadata": {},
   "outputs": [],
   "source": []
  }
 ],
 "metadata": {
  "jupytext": {
   "formats": "ipynb,jl:hydrogen"
  },
  "kernelspec": {
   "display_name": "Julia 1.8.1",
   "language": "julia",
   "name": "julia-1.8"
  },
  "language_info": {
   "file_extension": ".jl",
   "mimetype": "application/julia",
   "name": "julia",
   "version": "1.8.1"
  }
 },
 "nbformat": 4,
 "nbformat_minor": 5
}
