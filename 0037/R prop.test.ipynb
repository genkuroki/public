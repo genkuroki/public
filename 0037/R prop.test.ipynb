{
 "cells": [
  {
   "cell_type": "markdown",
   "id": "1a681544",
   "metadata": {
    "toc": true
   },
   "source": [
    "<h1>目次<span class=\"tocSkip\"></span></h1>\n",
    "<div class=\"toc\"><ul class=\"toc-item\"><li><span><a href=\"#非ベイズ版の実装\" data-toc-modified-id=\"非ベイズ版の実装-1\"><span class=\"toc-item-num\">1&nbsp;&nbsp;</span>非ベイズ版の実装</a></span></li><li><span><a href=\"#ベイズ版の実装\" data-toc-modified-id=\"ベイズ版の実装-2\"><span class=\"toc-item-num\">2&nbsp;&nbsp;</span>ベイズ版の実装</a></span></li></ul></div>"
   ]
  },
  {
   "cell_type": "code",
   "execution_count": 33,
   "id": "067a9a33",
   "metadata": {},
   "outputs": [
    {
     "data": {
      "text/plain": [
       "⪅ (generic function with 1 method)"
      ]
     },
     "execution_count": 33,
     "metadata": {},
     "output_type": "execute_result"
    }
   ],
   "source": [
    "using Printf\n",
    "\n",
    "using Distributions\n",
    "using QuadGK\n",
    "using Roots\n",
    "using StatsBase: ecdf\n",
    "using StatsFuns\n",
    "using StatsPlots\n",
    "default(fmt=:png, size=(640, 400),\n",
    "    titlefontsize=10, tickfontsize=6, guidefontsize=9,\n",
    "    plot_titlefontsize=10)\n",
    "\n",
    "safemul(x, y) = x == 0 ? x : isinf(x) ? typeof(x)(Inf) : x*y\n",
    "safediv(x, y) = x == 0 ? x : isinf(y) ? zero(y) : x/y\n",
    "x ⪅ y = x < y || x ≈ y"
   ]
  },
  {
   "cell_type": "markdown",
   "id": "e5fdd1a3",
   "metadata": {},
   "source": [
    "## 非ベイズ版の実装"
   ]
  },
  {
   "cell_type": "code",
   "execution_count": 2,
   "id": "8e7fbf16",
   "metadata": {},
   "outputs": [
    {
     "data": {
      "text/plain": [
       "confint_or_wald (generic function with 1 method)"
      ]
     },
     "execution_count": 2,
     "metadata": {},
     "output_type": "execute_result"
    }
   ],
   "source": [
    "# odds ratio Wald\n",
    "\n",
    "oddsratiohat(a, b, c, d) = safediv(a*d, b*c)\n",
    "stderr_logoddsratiohat(a, b, c, d) = √(1/a + 1/b + 1/c + 1/d)\n",
    "\n",
    "function pvalue_or_wald(a, b, c, d; ω=1)\n",
    "    logORhat = log(oddsratiohat(a, b, c, d))\n",
    "    SEhat_logORhat = stderr_logoddsratiohat(a, b, c, d)\n",
    "    2ccdf(Normal(0, 1), safediv(abs(logORhat - log(ω)), SEhat_logORhat))\n",
    "end\n",
    "\n",
    "function confint_or_wald(a, b, c, d; α=0.05)\n",
    "    z = quantile(Normal(), 1-α/2)\n",
    "    ORhat = oddsratiohat(a, b, c, d)\n",
    "    SEhat_logORhat = stderr_logoddsratiohat(a, b, c, d)\n",
    "    [safemul(exp(-z*SEhat_logORhat), ORhat), safemul(exp(z*SEhat_logORhat), ORhat)]\n",
    "end"
   ]
  },
  {
   "cell_type": "code",
   "execution_count": 3,
   "id": "6b3c5b35",
   "metadata": {},
   "outputs": [
    {
     "data": {
      "text/plain": [
       "confint_rr_wald (generic function with 1 method)"
      ]
     },
     "execution_count": 3,
     "metadata": {},
     "output_type": "execute_result"
    }
   ],
   "source": [
    "# risk ratio Wald\n",
    "\n",
    "riskratiohat(a, b, c, d) = safediv(a*(c+d), (a+b)*c)\n",
    "stderr_logriskratiohat(a, b, c, d) = √(1/a - 1/(a+b) + 1/c - 1/(c+d))\n",
    "\n",
    "function pvalue_rr_wald(a, b, c, d; ρ=1)\n",
    "    (a+b==0 || c+d==0) && return 1.0\n",
    "    logRRhat = log(riskratiohat(a, b, c, d))\n",
    "    SEhat_logRRhat = stderr_logriskratiohat(a, b, c, d)\n",
    "    2ccdf(Normal(0, 1), safediv(abs(logRRhat - log(ρ)), SEhat_logRRhat))\n",
    "end\n",
    "\n",
    "function confint_rr_wald(a, b, c, d; α=0.05)\n",
    "    (a+b==0 || c+d==0) && return [0, Inf]\n",
    "    z = quantile(Normal(), 1-α/2)\n",
    "    RRhat = riskratiohat(a, b, c, d)\n",
    "    SEhat_logRRhat = stderr_logriskratiohat(a, b, c, d)\n",
    "    [safemul(exp(-z*SEhat_logRRhat), RRhat), safemul(exp(z*SEhat_logRRhat), RRhat)]\n",
    "end"
   ]
  },
  {
   "cell_type": "code",
   "execution_count": 4,
   "id": "54d567ab",
   "metadata": {},
   "outputs": [
    {
     "data": {
      "text/plain": [
       "confint_or_pearson_chisq (generic function with 1 method)"
      ]
     },
     "execution_count": 4,
     "metadata": {},
     "output_type": "execute_result"
    }
   ],
   "source": [
    "# odds ration Pearson's χ²\n",
    "\n",
    "function delta(a, b, c, d; ω=1)\n",
    "    A, B, C = 1-ω, a+d+ω*(b+c), a*d-ω*b*c\n",
    "    isinf(ω) ? typeof(ω)(-min(b, c)) : safediv(2C, B + √(B^2 - 4A*C))\n",
    "end\n",
    "\n",
    "# correction = 0.5 は連続性補正を与える.\n",
    "function _chisqstat_or(a, b, c, d, δ; correction=0.0)\n",
    "    ã, b̃, c̃, d̃ = a-δ, b+δ, c+δ, d-δ\n",
    "    safemul(max(0, abs(δ)-correction)^2, 1/ã + 1/b̃ + 1/c̃ + 1/d̃)\n",
    "end\n",
    "\n",
    "function chisqstat_or(a, b, c, d; ω=1, correction=0.0)\n",
    "    δ = delta(a, b, c, d; ω)\n",
    "    _chisqstat_or(a, b, c, d, δ; correction)\n",
    "end\n",
    "\n",
    "function pvalue_or_pearson_chisq(a, b, c, d; ω=1, correction=0.0)\n",
    "    χ² = chisqstat_or(a, b, c, d; ω, correction)\n",
    "    ccdf(Chisq(1), χ²)\n",
    "end\n",
    "\n",
    "function confint_or_pearson_chisq(a, b, c, d; α=0.05, correction=0.0)\n",
    "    (a+b==0 || c+d==0 || a+c==0 || b+d==0) && return [0, Inf]\n",
    "    f(logω) = logit(pvalue_or_pearson_chisq(a, b, c, d; ω=exp(logω), correction)) - logit(α)\n",
    "    ps = if a == 0 || d == 0\n",
    "        [0, exp(find_zero(f, 0.0))]\n",
    "    elseif b == 0 || c == 0\n",
    "        [exp(find_zero(f, 0.0)), Inf]\n",
    "    else\n",
    "        ORhat = oddsratiohat(a, b, c, d)\n",
    "        ω_L, ω_U = ORhat/2, 2ORhat\n",
    "        [exp(find_zero(f, log(ω_L))), exp(find_zero(f, log(ω_U)))]\n",
    "    end\n",
    "end"
   ]
  },
  {
   "cell_type": "code",
   "execution_count": 5,
   "id": "8f4f0ec7",
   "metadata": {},
   "outputs": [
    {
     "data": {
      "text/plain": [
       "confint_rr_pearson_chisq (generic function with 1 method)"
      ]
     },
     "execution_count": 5,
     "metadata": {},
     "output_type": "execute_result"
    }
   ],
   "source": [
    "# risk ratio Pearson's χ²\n",
    "\n",
    "function Delta(a, b, c, d; ρ=1)\n",
    "    m, n = a+b, c+d\n",
    "    A, B, C = ρ-1, n-a+ρ*(m-c), a*n-ρ*m*c\n",
    "    isinf(ρ) ? typeof(ω)(-c) : safediv(2C, B + √(B^2 - 4A*C))\n",
    "end\n",
    "\n",
    "function _chisqstat_rr(a, b, c, d, Δ)\n",
    "    m, n = a+b, c+d\n",
    "    safemul(Δ^2, safediv(b, m*(a-Δ)) + safediv(d, n*(c+Δ)))\n",
    "end\n",
    "\n",
    "function chisqstat_rr(a, b, c, d; ρ=1)\n",
    "    Δ = Delta(a, b, c, d; ρ)\n",
    "    _chisqstat_rr(a, b, c, d, Δ)\n",
    "end\n",
    "\n",
    "function pvalue_rr_pearson_chisq(a, b, c, d; ρ=1)\n",
    "    χ² = chisqstat_rr(a, b, c, d; ρ)\n",
    "    ccdf(Chisq(1), χ²)\n",
    "end\n",
    "\n",
    "function confint_rr_pearson_chisq(a, b, c, d; α=0.05)\n",
    "    (a+b==0 || c+d==0 || a+c==0 || b+d==0) && return [0, Inf]\n",
    "    f(logρ) = logit(pvalue_rr_pearson_chisq(a, b, c, d; ρ=exp(logρ))) - logit(α)\n",
    "    RRhat = riskratiohat(a, b, c, d)\n",
    "    if a == 0\n",
    "        [0.0, exp(find_zero(f, 0.0))]\n",
    "    elseif c == 0\n",
    "        [exp(find_zero(f, 0.0)), Inf]\n",
    "    elseif b == 0\n",
    "        [0.0, exp(find_zero(f, log(2RRhat)))]\n",
    "    elseif d == 0\n",
    "        [exp(find_zero(f, log(RRhat/2))), Inf]\n",
    "    else\n",
    "        ρ_L, ρ_U = RRhat/2, 2RRhat\n",
    "        [exp(find_zero(f, log(ρ_L))), exp(find_zero(f, log(ρ_U)))]\n",
    "    end\n",
    "end"
   ]
  },
  {
   "cell_type": "code",
   "execution_count": 6,
   "id": "d68af4fd",
   "metadata": {},
   "outputs": [
    {
     "data": {
      "text/plain": [
       "confint_or_fisher_cp (generic function with 1 method)"
      ]
     },
     "execution_count": 6,
     "metadata": {},
     "output_type": "execute_result"
    }
   ],
   "source": [
    "# odds ratio Fisher (Clopper-Pearson)\n",
    "\n",
    "function pvalue_or_fisher_cp(a, b, c, d; ω=1)\n",
    "    fnch = if ω == 1\n",
    "        Hypergeometric(a+b, c+d, a+c)\n",
    "    else\n",
    "        FisherNoncentralHypergeometric(a+b, c+d, a+c, ω)\n",
    "    end\n",
    "    min(1, 2cdf(fnch, a), 2ccdf(fnch, a-1))\n",
    "end\n",
    "\n",
    "function confint_or_fisher_cp(a, b, c, d; α = 0.05)\n",
    "    (a+b==0 || c+d==0 || a+c==0 || b+d==0) && return [0, Inf]\n",
    "    f(ω) = logit(pvalue_or_fisher_cp(a, b, c, d; ω)) - logit(α)\n",
    "    if a == 0 || d == 0\n",
    "        [0.0, find_zero(f, 1.0)]\n",
    "    elseif b == 0 || c == 0\n",
    "        [find_zero(f, 1.0), Inf]\n",
    "    else\n",
    "        ω_L, ω_U = confint_or_wald(a, b, c, d; α = α/10)\n",
    "        find_zeros(f, ω_L, ω_U)\n",
    "    end\n",
    "end"
   ]
  },
  {
   "cell_type": "code",
   "execution_count": 7,
   "id": "27927460",
   "metadata": {},
   "outputs": [
    {
     "data": {
      "text/plain": [
       "confint_or_fisher_sterne (generic function with 1 method)"
      ]
     },
     "execution_count": 7,
     "metadata": {},
     "output_type": "execute_result"
    }
   ],
   "source": [
    "# odds ratio Fisher (Sterne)\n",
    "\n",
    "_pdf_le(x, (dist, y)) =  pdf(dist, x) ⪅ y\n",
    "\n",
    "function _search_boundary(f, x0, Δx, param)\n",
    "    x = x0\n",
    "    if f(x, param)\n",
    "        while f(x - Δx, param) x -= Δx end\n",
    "    else\n",
    "        x += Δx\n",
    "        while !f(x, param) x += Δx end\n",
    "    end\n",
    "    x\n",
    "end\n",
    "\n",
    "function pvalue_sterne(dist::DiscreteUnivariateDistribution, x)\n",
    "    Px = pdf(dist, x)\n",
    "    Px == 0 && return Px\n",
    "    Px == 1 && return Px\n",
    "    m = mode(dist)\n",
    "    Px ≈ pdf(dist, m) && return one(Px)\n",
    "    if x < m\n",
    "        y = _search_boundary(_pdf_le, 2m - x, 1, (dist, Px))\n",
    "        cdf(dist, x) + ccdf(dist, y-1)\n",
    "    else # x > m\n",
    "        y = _search_boundary(_pdf_le, 2m - x, -1, (dist, Px))\n",
    "        cdf(dist, y) + ccdf(dist, x-1)\n",
    "    end\n",
    "end\n",
    "\n",
    "function pvalue_or_fisher_sterne(a, b, c, d; ω=1)\n",
    "    fnch = if ω == 1\n",
    "        Hypergeometric(a+b, c+d, a+c)\n",
    "    else\n",
    "        FisherNoncentralHypergeometric(a+b, c+d, a+c, ω)\n",
    "    end\n",
    "    pvalue_sterne(fnch, a)\n",
    "end\n",
    "\n",
    "function confint_or_fisher_sterne(a, b, c, d; α = 0.05)\n",
    "    (a+b==0 || c+d==0 || a+c==0 || b+d==0) && return [0, Inf]\n",
    "    f(logω) = logit(pvalue_or_fisher_sterne(a, b, c, d; ω=exp(logω))) - logit(α)\n",
    "    if a == 0 || d == 0\n",
    "        [0.0, exp(find_zero(f, 0.0))]\n",
    "    elseif b == 0 || c == 0\n",
    "        [exp(find_zero(f, 0.0)), Inf]\n",
    "    else\n",
    "        ω_L, ω_U = confint_or_wald(a, b, c, d; α = α/10)\n",
    "        ps = exp.(find_zeros(f, log(ω_L), log(ω_U)))\n",
    "        # 次の行は稀に区間にならない場合への対策\n",
    "        [first(ps), last(ps)]\n",
    "    end\n",
    "end"
   ]
  },
  {
   "cell_type": "code",
   "execution_count": 8,
   "id": "54149230-e7a4-419b-8cfb-369535be1d2e",
   "metadata": {},
   "outputs": [
    {
     "data": {
      "text/plain": [
       "confint_rd_wald (generic function with 1 method)"
      ]
     },
     "execution_count": 8,
     "metadata": {},
     "output_type": "execute_result"
    }
   ],
   "source": [
    "# 警告: 以下の実装の精度は低い. 改良の仕方が\n",
    "# \n",
    "# Kenneth J. Rothman, Sander Greenland, and Timothy L. Lash\n",
    "# Modern Epistemology, Third Edition, 2008, 888 pages\n",
    "#\n",
    "# の\n",
    "#\n",
    "# Chapter 14. Instroduction to Categorical Statistics\n",
    "# Section. Two Study Groups: Large-Sample Methods, pp.299-300\n",
    "#\n",
    "# に書いてある. そこでは, 次の文献が引用されている:\n",
    "#\n",
    "# Guangyong Zou and Allan Donner\n",
    "# A simple alternative confidence interval for the difference between two proportions\n",
    "# Controlled Clinical Trials, Volume 25, Issue 1, February 2004, Pages 3-12\n",
    "# https://doi.org/10.1016/j.cct.2003.08.010\n",
    "#\n",
    "# Zou-Donnerの信頼区間に対応するP値函数の実装については\n",
    "#\n",
    "# https://github.com/genkuroki/public/blob/main/0033/probability%20of%20alpha%20error%20of%20Zou-Donner.ipynb\n",
    "#\n",
    "# を参照せよ.\n",
    "\n",
    "riskdiffhat(a, b, c, d) = safediv(a, a+b) - safediv(c, c+d)\n",
    "\n",
    "function stderr_riskdiffhat(a, b, c, d; u=0)\n",
    "    m, n = a+b, c+d\n",
    "    p̂, q̂ = safediv(a, m), safediv(c, n)\n",
    "    √(safediv(p̂*(1-p̂), m-u) + safediv(q̂*(1-q̂), n-u))\n",
    "end\n",
    "\n",
    "function pvalue_rd_wald(a, b, c, d; Δ=0, u=0)\n",
    "    RDhat = riskdiffhat(a, b, c, d)\n",
    "    SEhat_riskdiffhat = stderr_riskdiffhat(a, b, c, d; u)\n",
    "    2ccdf(Normal(0, 1), safediv(abs(RDhat - Δ), SEhat_riskdiffhat))\n",
    "end\n",
    "\n",
    "function confint_rd_wald(a, b, c, d; α=0.05, u=0)\n",
    "    z = quantile(Normal(), 1-α/2)\n",
    "    RDhat = riskdiffhat(a, b, c, d)\n",
    "    SEhat_riskdiffhat = stderr_riskdiffhat(a, b, c, d; u)\n",
    "    [RDhat - z*SEhat_riskdiffhat, RDhat + z*SEhat_riskdiffhat]\n",
    "end"
   ]
  },
  {
   "cell_type": "markdown",
   "id": "6f258aa3",
   "metadata": {},
   "source": [
    "https://github.com/genkuroki/public/blob/main/0033/probability%20of%20alpha%20error%20of%20Zou-Donner.ipynb"
   ]
  },
  {
   "cell_type": "code",
   "execution_count": 9,
   "id": "e399c165-1c54-4d8d-8123-d6b0705bfdd5",
   "metadata": {},
   "outputs": [
    {
     "data": {
      "text/plain": [
       "confint_rd_zou_donner (generic function with 1 method)"
      ]
     },
     "execution_count": 9,
     "metadata": {},
     "output_type": "execute_result"
    }
   ],
   "source": [
    "# risk difference Zou-Donner\n",
    "\n",
    "riskdiffhat_zou_donner(a, b, c, d) = safediv(a, a+b) - safediv(c, c+d)\n",
    "\n",
    "function stderr_riskdiffhat_zou_donner(a, b, c, d; u=1)\n",
    "    m, n = a+b, c+d\n",
    "    p̂, q̂ = safediv(a, m), safediv(c, n)\n",
    "    √(safediv(p̂*(1-p̂), m-u) + safediv(q̂*(1-q̂), n-u))\n",
    "end\n",
    "\n",
    "function pvalue_rd_zou_donner(a, b, c, d; Δ=0, u=1)\n",
    "    ((a==0 && d==0) || (b==0 && c==0)) && return 1.0\n",
    "    RDhat = riskdiffhat_zou_donner(a, b, c, d)\n",
    "    SEhat_riskdiffhat = stderr_riskdiffhat_zou_donner(a, b, c, d; u)\n",
    "    Z = safediv((1 - RDhat^2)*abs(atanh(RDhat) - atanh(Δ)), SEhat_riskdiffhat)\n",
    "    2ccdf(Normal(), abs(Z))\n",
    "end\n",
    "\n",
    "function confint_rd_zou_donner(a, b, c, d; α=0.05, u=1)\n",
    "    z = quantile(Normal(), 1-α/2)\n",
    "    RDhat = riskdiffhat_zou_donner(a, b, c, d)\n",
    "    SEhat_riskdiffhat = stderr_riskdiffhat_zou_donner(a, b, c, d; u)\n",
    "    m = atanh(RDhat)\n",
    "    d = safediv(z*SEhat_riskdiffhat, 1 - RDhat^2)\n",
    "    [tanh(m-d), tanh(m+d)]\n",
    "end"
   ]
  },
  {
   "cell_type": "markdown",
   "id": "25cf1955",
   "metadata": {},
   "source": [
    "## ベイズ版の実装"
   ]
  },
  {
   "cell_type": "code",
   "execution_count": 10,
   "id": "ec588a4f",
   "metadata": {},
   "outputs": [
    {
     "data": {
      "text/plain": [
       "generic_confint (generic function with 1 method)"
      ]
     },
     "execution_count": 10,
     "metadata": {},
     "output_type": "execute_result"
    }
   ],
   "source": [
    "function posterior(a, b, c, d; prior=(1, 1), prior1=prior, prior2=prior)\n",
    "    κ₁, λ₁ = prior1\n",
    "    κ₂, λ₂ = prior1\n",
    "    beta1 = Beta(κ₁+a, λ₁+b)\n",
    "    beta2 = Beta(κ₂+c, λ₁+d)\n",
    "    beta1, beta2\n",
    "end\n",
    "\n",
    "# 手抜き↓ これを使うとコーナーケースでおそらく失敗する.\n",
    "function generic_confint(pvalue_minus_α, xmin, xmax)\n",
    "    ci = find_zeros(pvalue_minus_α, xmin, xmax)\n",
    "    [first(ci), last(ci)]\n",
    "end"
   ]
  },
  {
   "cell_type": "code",
   "execution_count": 11,
   "id": "4276312d",
   "metadata": {},
   "outputs": [
    {
     "data": {
      "text/plain": [
       "confint_rd_bayes_cp (generic function with 1 method)"
      ]
     },
     "execution_count": 11,
     "metadata": {},
     "output_type": "execute_result"
    }
   ],
   "source": [
    "# risk difference Bayesian\n",
    "\n",
    "function cdf_rd(a, b, c, d, Δ; prior=(1, 1), prior1=prior, prior2=prior)\n",
    "    beta1, beta2 = posterior(a, b, c, d; prior1, prior2)\n",
    "    if -1 < Δ ≤ 0\n",
    "        K(q) = cdf(beta1, q+Δ)*pdf(beta2, q)\n",
    "        quadgk(K, -Δ, 1)[1]\n",
    "    elseif 0 < Δ < 1\n",
    "        L(p) = pdf(beta1, p)*cdf(beta2, p-Δ)\n",
    "        1 - quadgk(L, Δ, 1)[1]\n",
    "    elseif Δ ≥ 1\n",
    "        one(Δ)\n",
    "    else\n",
    "        zero(Δ)\n",
    "    end\n",
    "end\n",
    "\n",
    "ccdf_rd(a, b, c, d, Δ; prior=(1, 1), prior1=prior, prior2=prior) =\n",
    "    1 - cdf_rd(a, b, c, d, Δ; prior1, prior2)\n",
    "\n",
    "function pdf_rd(a, b, c, d, Δ; prior=(1, 1), prior1=prior, prior2=prior)\n",
    "    beta1, beta2 = posterior(a, b, c, d; prior1, prior2)\n",
    "    K(q) = exp(logpdf(beta1, q+Δ) + logpdf(beta2, q))\n",
    "    if -1 < Δ ≤ 0\n",
    "        quadgk(K, -Δ, 1)[1]\n",
    "    elseif 0 < Δ < 1\n",
    "        quadgk(K, 0, 1-Δ)[1]\n",
    "    else\n",
    "        zero(Δ)\n",
    "    end\n",
    "end\n",
    "\n",
    "# Clopper-Pearson type Bayesian P-value function\n",
    "\n",
    "function pvalue_rd_bayes_cp(a, b, c, d; Δ=0,\n",
    "        prior=(1//3, 1//3), prior1=prior, prior2=prior)\n",
    "    c = cdf_rd(a, b, c, d, Δ; prior1, prior2)\n",
    "    min(1, 2c, 2(1-c))\n",
    "end\n",
    "\n",
    "function confint_rd_bayes_cp(a, b, c, d; α=0.05,\n",
    "        prior=(1//3, 1//3), prior1=prior, prior2=prior)\n",
    "    pvalue_minus_α(Δ) = logit(pvalue_rd_bayes_cp(a, b, c, d; Δ, prior1, prior2)) - logit(α)\n",
    "    xmin, xmax = confint_rd_zou_donner(a, b, c, d; α=α/10)\n",
    "    generic_confint(pvalue_minus_α, xmin, xmax)\n",
    "end"
   ]
  },
  {
   "cell_type": "code",
   "execution_count": 12,
   "id": "d29d792f",
   "metadata": {},
   "outputs": [
    {
     "data": {
      "text/plain": [
       "confint_rr_bayes_cp (generic function with 1 method)"
      ]
     },
     "execution_count": 12,
     "metadata": {},
     "output_type": "execute_result"
    }
   ],
   "source": [
    "# risk ratio Bayesian\n",
    "\n",
    "function cdf_rr(a, b, c, d, ρ; prior=(1, 1), prior1=prior, prior2=prior)\n",
    "    beta1, beta2 = posterior(a, b, c, d; prior1, prior2)\n",
    "    if 0 < ρ ≤ 1\n",
    "        K(q) = cdf(beta1, ρ*q)*pdf(beta2, q)\n",
    "        quadgk(K, 0, 1)[1]\n",
    "    elseif 1 < ρ < Inf\n",
    "        L(p) = pdf(beta1, p)*cdf(beta2, p/ρ)\n",
    "        1 - quadgk(L, 0, 1)[1]\n",
    "    elseif ρ == Inf\n",
    "        one(ρ)\n",
    "    else\n",
    "        zero(ρ)\n",
    "    end\n",
    "end\n",
    "\n",
    "ccdf_rr(a, b, c, d, ρ; prior=(1, 1), prior1=prior, prior2=prior) =\n",
    "    1 - cdf_rr(a, b, c, d, ρ; prior1, prior2)\n",
    "\n",
    "function pdf_rr(a, b, c, d, ρ; prior=(1, 1), prior1=prior, prior2=prior)\n",
    "    beta1, beta2 = posterior(a, b, c, d; prior1, prior2)\n",
    "    K(q) = exp(log(q) + logpdf(beta1, ρ*q) + logpdf(beta2, q))\n",
    "    if 0 < ρ < Inf\n",
    "        quadgk(K, 0, 1)[1]\n",
    "    else\n",
    "        zero(ρ)\n",
    "    end\n",
    "end\n",
    "\n",
    "# Clopper-Pearson type Bayesian P-value function\n",
    "\n",
    "function pvalue_rr_bayes_cp(a, b, c, d; ρ=1,\n",
    "        prior=(1//3, 1//3), prior1=prior, prior2=prior)\n",
    "    c = cdf_rr(a, b, c, d, ρ; prior1, prior2)\n",
    "    min(1, 2c, 2(1-c))\n",
    "end\n",
    "\n",
    "function confint_rr_bayes_cp(a, b, c, d; α=0.05,\n",
    "        prior=(1//3, 1//3), prior1=prior, prior2=prior)\n",
    "    pvalue_minus_α(ρ) = logit(pvalue_rr_bayes_cp(a, b, c, d; ρ, prior1, prior2)) - logit(α)\n",
    "    xmin, xmax = confint_rr_wald(a, b, c, d; α=α/10)\n",
    "    generic_confint(pvalue_minus_α, xmin, xmax)\n",
    "end"
   ]
  },
  {
   "cell_type": "code",
   "execution_count": 13,
   "id": "014ff30b",
   "metadata": {},
   "outputs": [
    {
     "data": {
      "text/plain": [
       "confint_or_bayes_cp (generic function with 1 method)"
      ]
     },
     "execution_count": 13,
     "metadata": {},
     "output_type": "execute_result"
    }
   ],
   "source": [
    "# odds ratio Bayesian\n",
    "\n",
    "function cdf_or(a, b, c, d, ω; prior=(1, 1), prior1=prior, prior2=prior)\n",
    "    beta1, beta2 = posterior(a, b, c, d; prior1, prior2)\n",
    "    f(u) = pdf(beta1, u/(1+u))/(1+u)^2\n",
    "    g(v) = pdf(beta2, v/(1+v))/(1+v)^2\n",
    "    F(u) = cdf(beta1, u/(1+u))\n",
    "    G(v) = cdf(beta2, v/(1+v))\n",
    "    if 0 < ω ≤ 1\n",
    "        K(v) = F(ω*v)*g(v)\n",
    "        quadgk(K, 0, Inf)[1]\n",
    "    elseif 1 < ω < Inf\n",
    "        L(u) = f(u)*G(u/ω)\n",
    "        1 - quadgk(L, 0, Inf)[1]\n",
    "    elseif ω == Inf\n",
    "        one(ω)\n",
    "    else\n",
    "        zero(ω)\n",
    "    end\n",
    "end\n",
    "\n",
    "ccdf_or(a, b, c, d, ω; prior=(1, 1), prior1=prior, prior2=prior) =\n",
    "    1 - cdf_or(a, b, c, d, ω; prior1, prior2)\n",
    "\n",
    "function pdf_or(a, b, c, d, ω; prior=(1, 1), prior1=prior, prior2=prior)\n",
    "    beta1, beta2 = posterior(a, b, c, d; prior1, prior2)\n",
    "    beta1, beta2 = posterior(a, b, c, d; prior1, prior2)\n",
    "    logf(u) = logpdf(beta1, u/(1+u)) - 2log(1+u)\n",
    "    logg(v) = logpdf(beta2, v/(1+v)) - 2log(1+v)\n",
    "    K(v) = exp(log(v) + logf(ω*v) + logg(v))\n",
    "    if 0 < ω < Inf\n",
    "        quadgk(K, 0, Inf)[1]\n",
    "    else\n",
    "        zero(ω)\n",
    "    end\n",
    "end\n",
    "\n",
    "# Clopper-Pearson type Bayesian P-value function\n",
    "\n",
    "function pvalue_or_bayes_cp(a, b, c, d; ω=1,\n",
    "        prior=(1//3, 1//3), prior1=prior, prior2=prior)\n",
    "    c = cdf_or(a, b, c, d, ω; prior1, prior2)\n",
    "    min(1, 2c, 2(1-c))\n",
    "end\n",
    "\n",
    "function confint_or_bayes_cp(a, b, c, d; α=0.05,\n",
    "        prior=(1//3, 1//3), prior1=prior, prior2=prior)\n",
    "    pvalue_minus_α(ω) = logit(pvalue_or_bayes_cp(a, b, c, d; ω, prior1, prior2)) - logit(α)\n",
    "    xmin, xmax = confint_or_wald(a, b, c, d; α=α/10)\n",
    "    generic_confint(pvalue_minus_α, xmin, xmax)\n",
    "end"
   ]
  },
  {
   "cell_type": "code",
   "execution_count": 14,
   "id": "f7e909d5-f666-46cc-ab86-ba5ea658e35c",
   "metadata": {},
   "outputs": [
    {
     "data": {
      "text/plain": [
       "2×2 Matrix{Int64}:\n",
       " 10   6\n",
       "  5  12"
      ]
     },
     "execution_count": 14,
     "metadata": {},
     "output_type": "execute_result"
    }
   ],
   "source": [
    "using RCall\n",
    "\n",
    "A = [\n",
    "    10  6\n",
    "     5 12\n",
    "]\n",
    "@rput A"
   ]
  },
  {
   "cell_type": "code",
   "execution_count": 15,
   "id": "af27643b-b8a6-4b5e-8983-1c0b36e5ceb8",
   "metadata": {},
   "outputs": [
    {
     "data": {
      "text/plain": [
       "RObject{VecSxp}\n",
       "\n",
       "\t2-sample test for equality of proportions without continuity correction\n",
       "\n",
       "data:  A\n",
       "X-squared = 3.6397, df = 1, p-value = 0.05642\n",
       "alternative hypothesis: two.sided\n",
       "95 percent confidence interval:\n",
       " 0.009657859 0.652106847\n",
       "sample estimates:\n",
       "   prop 1    prop 2 \n",
       "0.6250000 0.2941176 \n",
       "\n"
      ]
     },
     "execution_count": 15,
     "metadata": {},
     "output_type": "execute_result"
    }
   ],
   "source": [
    "R\"\"\"prop.test(A, correct=FALSE)\"\"\""
   ]
  },
  {
   "cell_type": "code",
   "execution_count": 46,
   "id": "e57e30f8-2ea8-4055-b64f-374894965129",
   "metadata": {},
   "outputs": [
    {
     "name": "stdout",
     "output_type": "stream",
     "text": [
      "pvalue_or_pearson_chisq(A'...) = 0.05641689991349114\n",
      "pvalue_rd_wald(A'...) = 0.04349846732373009\n",
      "confint_rd_wald(A'...) = [0.009657858984412071, 0.6521068468979409]\n",
      "pvalue_rd_zou_donner(A'...) = 0.07022844714722486\n",
      "confint_rd_zou_donner(A'...) = [-0.02838946175036817, 0.6144470433967624]\n",
      "pvalue_rd_zou_donner(A'...; u = 0) = 0.061741515744882534\n",
      "confint_rd_zou_donner(A'...; u = 0) = [-0.016896540349584505, 0.6072388586028414]\n",
      "pvalue_rd_bayes_cp(A'...) = 0.05240050374464758\n",
      "confint_rd_bayes_cp(A'...) = [-0.0034245809997590494, 0.6074414180091217]\n"
     ]
    }
   ],
   "source": [
    "@show pvalue_or_pearson_chisq(A'...)\n",
    "printl\n",
    "@show pvalue_rd_wald(A'...)\n",
    "@show confint_rd_wald(A'...)\n",
    "@show pvalue_rd_zou_donner(A'...)\n",
    "@show confint_rd_zou_donner(A'...)\n",
    "@show pvalue_rd_zou_donner(A'...; u=0)\n",
    "@show confint_rd_zou_donner(A'...; u=0)\n",
    "@show pvalue_rd_bayes_cp(A'...)\n",
    "@show confint_rd_bayes_cp(A'...)\n",
    ";"
   ]
  },
  {
   "cell_type": "code",
   "execution_count": 37,
   "id": "a920b96e-38d8-4cb7-86c6-8b05497187d4",
   "metadata": {},
   "outputs": [
    {
     "data": {
      "image/png": "[encoded data removed]"
     },
     "execution_count": 37,
     "metadata": {},
     "output_type": "execute_result"
    }
   ],
   "source": [
    "xlim = (-0.3, 0.9)\n",
    "plot(Δ -> pvalue_rd_wald(A'...; Δ), xlim...; label=\"Wald\", c=1)\n",
    "plot!(confint_rd_wald(A'...), fill(0.055, 2); label=\"\", c=1)\n",
    "plot!(Δ -> pvalue_rd_zou_donner(A'...; Δ, u=0), xlim...; label=\"Zou-Donner\", ls=:dash, c=2)\n",
    "plot!(confint_rd_zou_donner(A'...; u=0), fill(0.05, 2); label=\"\", ls=:dash, c=2)\n",
    "plot!(Δ -> pvalue_rd_bayes_cp(A'...; Δ), xlim...; label=\"Bayes CP\", ls=:dashdot, c=3)\n",
    "plot!(confint_rd_bayes_cp(A'...), fill(0.045, 2); label=\"\", ls=:dashdot, c=3)\n",
    "plot!(xtick=-1:0.1:1, ytick=0:0.05:1)\n",
    "plot!(xguide=\"p̂ - q̂\", yguide=\"P-value\")\n",
    "plot!(; xlim)"
   ]
  },
  {
   "cell_type": "code",
   "execution_count": 44,
   "id": "dd42817d-e529-4485-b7c7-a0909679ddc9",
   "metadata": {},
   "outputs": [
    {
     "data": {
      "image/png": "[encoded data removed]"
     },
     "execution_count": 44,
     "metadata": {},
     "output_type": "execute_result"
    }
   ],
   "source": [
    "xlim = (-0.1, 0.1)\n",
    "plot(Δ -> pvalue_rd_wald(A'...; Δ), xlim...; label=\"Wald\", c=1)\n",
    "plot!(confint_rd_wald(A'...), fill(0.052, 2); label=\"\", c=1)\n",
    "plot!(Δ -> pvalue_rd_zou_donner(A'...; Δ, u=0), xlim...; label=\"Zou-Donner\", ls=:dash, c=2)\n",
    "plot!(confint_rd_zou_donner(A'...; u=0), fill(0.05, 2); label=\"\", ls=:dash, c=2)\n",
    "plot!(Δ -> pvalue_rd_bayes_cp(A'...; Δ), xlim...; label=\"Bayes CP\", ls=:dashdot, c=3)\n",
    "plot!(confint_rd_bayes_cp(A'...), fill(0.048, 2); label=\"\", ls=:dashdot, c=3)\n",
    "plot!(xtick=-1:0.02:1, ytick=0:0.01:1)\n",
    "plot!(xguide=\"p̂ - q̂\", yguide=\"P-value\")\n",
    "plot!(; xlim)"
   ]
  },
  {
   "cell_type": "code",
   "execution_count": null,
   "id": "de7bfb65-03bf-444a-98a6-025d7fab22ab",
   "metadata": {},
   "outputs": [],
   "source": []
  }
 ],
 "metadata": {
  "@webio": {
   "lastCommId": null,
   "lastKernelId": null
  },
  "jupytext": {
   "encoding": "# -*- coding: utf-8 -*-",
   "formats": "ipynb,jl:hydrogen"
  },
  "kernelspec": {
   "display_name": "Julia 1.8.1",
   "language": "julia",
   "name": "julia-1.8"
  },
  "language_info": {
   "file_extension": ".jl",
   "mimetype": "application/julia",
   "name": "julia",
   "version": "1.8.1"
  },
  "toc": {
   "base_numbering": 1,
   "nav_menu": {},
   "number_sections": true,
   "sideBar": true,
   "skip_h1_title": true,
   "title_cell": "目次",
   "title_sidebar": "目次",
   "toc_cell": true,
   "toc_position": {},
   "toc_section_display": true,
   "toc_window_display": false
  }
 },
 "nbformat": 4,
 "nbformat_minor": 5
}
