{
 "cells": [
  {
   "cell_type": "code",
   "execution_count": 1,
   "id": "b933195d-2f68-4e12-a2a0-08792144e37d",
   "metadata": {},
   "outputs": [],
   "source": [
    "using BenchmarkTools\n",
    "using Distributions\n",
    "using StatsFuns: logaddexp"
   ]
  },
  {
   "cell_type": "code",
   "execution_count": 2,
   "id": "3f2fa317-3675-4732-a0a6-07a55890d6a6",
   "metadata": {},
   "outputs": [
    {
     "name": "stdout",
     "output_type": "stream",
     "text": [
      "search:\n",
      "\n"
     ]
    },
    {
     "data": {
      "text/latex": [
       "\\begin{verbatim}\n",
       "logaddexp(x, y)\n",
       "\n",
       "\\end{verbatim}\n",
       "Return \\texttt{log(exp(x) + exp(y))}, avoiding intermediate overflow/undeflow, and handling non-finite values.\n",
       "\n"
      ],
      "text/markdown": [
       "```julia\n",
       "logaddexp(x, y)\n",
       "\n",
       "```\n",
       "\n",
       "Return `log(exp(x) + exp(y))`, avoiding intermediate overflow/undeflow, and handling non-finite values.\n"
      ],
      "text/plain": [
       "\u001b[36m  logaddexp(x, y)\u001b[39m\n",
       "\u001b[36m  \u001b[39m\n",
       "\n",
       "  Return \u001b[36mlog(exp(x) + exp(y))\u001b[39m, avoiding intermediate overflow/undeflow, and\n",
       "  handling non-finite values."
      ]
     },
     "execution_count": 2,
     "metadata": {},
     "output_type": "execute_result"
    }
   ],
   "source": [
    "?logaddexp"
   ]
  },
  {
   "cell_type": "code",
   "execution_count": 3,
   "id": "2d99b35a-a5e0-42eb-9c7d-84a996acef87",
   "metadata": {},
   "outputs": [
    {
     "data": {
      "text/plain": [
       "mycdf (generic function with 1 method)"
      ]
     },
     "execution_count": 3,
     "metadata": {},
     "output_type": "execute_result"
    }
   ],
   "source": [
    "function mycdf_naive(bin::Binomial{T}, k) where T\n",
    "    n, p = Distributions.params(bin)\n",
    "    odds = p / (1 - p)\n",
    "    s = c = (1 - p)^n\n",
    "    for i in 1:k\n",
    "        c = c * (n-i+1) / i * odds\n",
    "        s = s + c\n",
    "    end\n",
    "    s\n",
    "end\n",
    "\n",
    "function mycdf(bin::Binomial{T}, k) where T\n",
    "    n, p = Distributions.params(bin)\n",
    "    logodds = log(p) - log(1-p)\n",
    "    logc = n*log(1-p)\n",
    "    s = exp(logc) \n",
    "    for i in 1:k\n",
    "        logc = logc + log(n-i+1) - log(i) + logodds\n",
    "        s += exp(logc)\n",
    "    end\n",
    "    s\n",
    "end"
   ]
  },
  {
   "cell_type": "markdown",
   "id": "04deeade-3ea7-48a8-9cdf-a3a077e02da3",
   "metadata": {},
   "source": [
    "## n = 100"
   ]
  },
  {
   "cell_type": "code",
   "execution_count": 4,
   "id": "0338c650-fa41-41ef-941a-09a12a1b7a6a",
   "metadata": {},
   "outputs": [
    {
     "data": {
      "text/plain": [
       "Binomial{Float64}(n=100, p=0.5)"
      ]
     },
     "execution_count": 4,
     "metadata": {},
     "output_type": "execute_result"
    }
   ],
   "source": [
    "n, p = 10^2, 0.5\n",
    "bin = Binomial(n, p)"
   ]
  },
  {
   "cell_type": "code",
   "execution_count": 5,
   "id": "eaacc1da-40b9-4266-90ce-4ca1a5e65426",
   "metadata": {},
   "outputs": [
    {
     "name": "stdout",
     "output_type": "stream",
     "text": [
      "  200.377 ns (0 allocations: 0 bytes)\n"
     ]
    },
    {
     "data": {
      "text/plain": [
       "0.5397946186935894"
      ]
     },
     "execution_count": 5,
     "metadata": {},
     "output_type": "execute_result"
    }
   ],
   "source": [
    "@btime cdf($bin, $(n÷2))"
   ]
  },
  {
   "cell_type": "code",
   "execution_count": 6,
   "id": "6c0e8481-779a-424b-a468-78213a7d0056",
   "metadata": {},
   "outputs": [
    {
     "name": "stdout",
     "output_type": "stream",
     "text": [
      "  229.493 ns (0 allocations: 0 bytes)\n"
     ]
    },
    {
     "data": {
      "text/plain": [
       "0.5397946186935892"
      ]
     },
     "execution_count": 6,
     "metadata": {},
     "output_type": "execute_result"
    }
   ],
   "source": [
    "@btime mycdf_naive($bin, $(n÷2))"
   ]
  },
  {
   "cell_type": "code",
   "execution_count": 7,
   "id": "73810d06-b326-46c0-b35b-7f9ca93c1022",
   "metadata": {},
   "outputs": [
    {
     "name": "stdout",
     "output_type": "stream",
     "text": [
      "  1.210 μs (0 allocations: 0 bytes)\n"
     ]
    },
    {
     "data": {
      "text/plain": [
       "0.5397946186935776"
      ]
     },
     "execution_count": 7,
     "metadata": {},
     "output_type": "execute_result"
    }
   ],
   "source": [
    "@btime mycdf($bin, $(n÷2))"
   ]
  },
  {
   "cell_type": "code",
   "execution_count": 8,
   "id": "e05b97dd-d3df-4b79-a51c-22d0b53db4f0",
   "metadata": {},
   "outputs": [
    {
     "name": "stdout",
     "output_type": "stream",
     "text": [
      "  4.500 μs (0 allocations: 0 bytes)\n"
     ]
    },
    {
     "data": {
      "text/plain": [
       "0.5397946186935995"
      ]
     },
     "execution_count": 8,
     "metadata": {},
     "output_type": "execute_result"
    }
   ],
   "source": [
    "@btime sum(pdf($bin, i) for i in $(0:n÷2))"
   ]
  },
  {
   "cell_type": "markdown",
   "id": "da364a71-8600-4787-b928-2550702061b2",
   "metadata": {},
   "source": [
    "## n = 1000"
   ]
  },
  {
   "cell_type": "code",
   "execution_count": 9,
   "id": "52895085-f8a4-4eb8-9b5c-935f71e87c05",
   "metadata": {},
   "outputs": [
    {
     "data": {
      "text/plain": [
       "Binomial{Float64}(n=1000, p=0.5)"
      ]
     },
     "execution_count": 9,
     "metadata": {},
     "output_type": "execute_result"
    }
   ],
   "source": [
    "n, p = 10^3, 0.5\n",
    "bin = Binomial(n, p)"
   ]
  },
  {
   "cell_type": "code",
   "execution_count": 10,
   "id": "f1440f92-d157-4ddb-99da-6f87ea33e13d",
   "metadata": {},
   "outputs": [
    {
     "name": "stdout",
     "output_type": "stream",
     "text": [
      "  562.088 ns (4 allocations: 960 bytes)\n"
     ]
    },
    {
     "data": {
      "text/plain": [
       "0.5126125090891807"
      ]
     },
     "execution_count": 10,
     "metadata": {},
     "output_type": "execute_result"
    }
   ],
   "source": [
    "@btime cdf($bin, $(n÷2))"
   ]
  },
  {
   "cell_type": "code",
   "execution_count": 11,
   "id": "4e271ff9-2671-47bd-b1ee-5fc45c6b8585",
   "metadata": {},
   "outputs": [
    {
     "name": "stdout",
     "output_type": "stream",
     "text": [
      "  2.400 μs (0 allocations: 0 bytes)\n"
     ]
    },
    {
     "data": {
      "text/plain": [
       "0.51261250908918"
      ]
     },
     "execution_count": 11,
     "metadata": {},
     "output_type": "execute_result"
    }
   ],
   "source": [
    "@btime mycdf_naive($bin, $(n÷2))"
   ]
  },
  {
   "cell_type": "code",
   "execution_count": 12,
   "id": "a4ed8c76-77bb-4bbe-93ea-f8e910f26fcd",
   "metadata": {},
   "outputs": [
    {
     "name": "stdout",
     "output_type": "stream",
     "text": [
      "  11.900 μs (0 allocations: 0 bytes)\n"
     ]
    },
    {
     "data": {
      "text/plain": [
       "0.5126125090889301"
      ]
     },
     "execution_count": 12,
     "metadata": {},
     "output_type": "execute_result"
    }
   ],
   "source": [
    "@btime mycdf($bin, $(n÷2))"
   ]
  },
  {
   "cell_type": "code",
   "execution_count": 13,
   "id": "41aed72d-7d18-4bf7-a4e5-331a979224d8",
   "metadata": {},
   "outputs": [
    {
     "name": "stdout",
     "output_type": "stream",
     "text": [
      "  44.100 μs (0 allocations: 0 bytes)\n"
     ]
    },
    {
     "data": {
      "text/plain": [
       "0.5126125090891466"
      ]
     },
     "execution_count": 13,
     "metadata": {},
     "output_type": "execute_result"
    }
   ],
   "source": [
    "@btime sum(pdf($bin, i) for i in $(0:n÷2))"
   ]
  },
  {
   "cell_type": "markdown",
   "id": "c5deac50-d030-4e46-a8f7-c63c1b27a8ba",
   "metadata": {},
   "source": [
    "## n = 10000"
   ]
  },
  {
   "cell_type": "code",
   "execution_count": 14,
   "id": "0591cf91-f52b-4d5d-bc69-ede352a939b4",
   "metadata": {},
   "outputs": [
    {
     "data": {
      "text/plain": [
       "Binomial{Float64}(n=10000, p=0.5)"
      ]
     },
     "execution_count": 14,
     "metadata": {},
     "output_type": "execute_result"
    }
   ],
   "source": [
    "n, p = 10^4, 0.5\n",
    "bin = Binomial(n, p)"
   ]
  },
  {
   "cell_type": "code",
   "execution_count": 15,
   "id": "13c9bc3c-c219-454e-aa2b-ee0589cd73bc",
   "metadata": {},
   "outputs": [
    {
     "name": "stdout",
     "output_type": "stream",
     "text": [
      "  564.286 ns (4 allocations: 960 bytes)\n"
     ]
    },
    {
     "data": {
      "text/plain": [
       "0.5039893230696912"
      ]
     },
     "execution_count": 15,
     "metadata": {},
     "output_type": "execute_result"
    }
   ],
   "source": [
    "@btime cdf($bin, $(n÷2))"
   ]
  },
  {
   "cell_type": "code",
   "execution_count": 16,
   "id": "ca5e59d7-d567-4557-b123-514433792dbd",
   "metadata": {},
   "outputs": [
    {
     "name": "stdout",
     "output_type": "stream",
     "text": [
      "  23.000 μs (0 allocations: 0 bytes)\n"
     ]
    },
    {
     "data": {
      "text/plain": [
       "0.0"
      ]
     },
     "execution_count": 16,
     "metadata": {},
     "output_type": "execute_result"
    }
   ],
   "source": [
    "@btime mycdf_naive($bin, $(n÷2))"
   ]
  },
  {
   "cell_type": "code",
   "execution_count": 17,
   "id": "07a11950-9457-4ed5-a4cc-4a4aae7df109",
   "metadata": {},
   "outputs": [
    {
     "name": "stdout",
     "output_type": "stream",
     "text": [
      "  122.700 μs (0 allocations: 0 bytes)\n"
     ]
    },
    {
     "data": {
      "text/plain": [
       "0.5039893230690153"
      ]
     },
     "execution_count": 17,
     "metadata": {},
     "output_type": "execute_result"
    }
   ],
   "source": [
    "@btime mycdf($bin, $(n÷2))"
   ]
  },
  {
   "cell_type": "code",
   "execution_count": 18,
   "id": "f4c4d06b-8309-438b-8b0e-b7959d785fdb",
   "metadata": {},
   "outputs": [
    {
     "name": "stdout",
     "output_type": "stream",
     "text": [
      "  437.900 μs (0 allocations: 0 bytes)\n"
     ]
    },
    {
     "data": {
      "text/plain": [
       "0.5039893230702931"
      ]
     },
     "execution_count": 18,
     "metadata": {},
     "output_type": "execute_result"
    }
   ],
   "source": [
    "@btime sum(pdf($bin, i) for i in $(0:n÷2))"
   ]
  },
  {
   "cell_type": "markdown",
   "id": "d6513e93-772b-4046-ab1b-c94d958134c5",
   "metadata": {},
   "source": [
    "## n = 100000"
   ]
  },
  {
   "cell_type": "code",
   "execution_count": 19,
   "id": "4a76ed13-26ca-4367-ad8a-d2aa88ad70b3",
   "metadata": {},
   "outputs": [
    {
     "data": {
      "text/plain": [
       "Binomial{Float64}(n=100000, p=0.5)"
      ]
     },
     "execution_count": 19,
     "metadata": {},
     "output_type": "execute_result"
    }
   ],
   "source": [
    "n, p = 10^5, 0.5\n",
    "bin = Binomial(n, p)"
   ]
  },
  {
   "cell_type": "code",
   "execution_count": 20,
   "id": "fdabadb2-6efb-4657-9f83-0608491f1f5b",
   "metadata": {},
   "outputs": [
    {
     "name": "stdout",
     "output_type": "stream",
     "text": [
      "  414.646 ns (4 allocations: 960 bytes)\n"
     ]
    },
    {
     "data": {
      "text/plain": [
       "0.5012615631070985"
      ]
     },
     "execution_count": 20,
     "metadata": {},
     "output_type": "execute_result"
    }
   ],
   "source": [
    "@btime cdf($bin, $(n÷2))"
   ]
  },
  {
   "cell_type": "code",
   "execution_count": 21,
   "id": "c792754f-aaf9-4553-aebe-428dfa439ea7",
   "metadata": {},
   "outputs": [
    {
     "name": "stdout",
     "output_type": "stream",
     "text": [
      "  229.700 μs (0 allocations: 0 bytes)\n"
     ]
    },
    {
     "data": {
      "text/plain": [
       "0.0"
      ]
     },
     "execution_count": 21,
     "metadata": {},
     "output_type": "execute_result"
    }
   ],
   "source": [
    "@btime mycdf_naive($bin, $(n÷2))"
   ]
  },
  {
   "cell_type": "code",
   "execution_count": 22,
   "id": "b1f3b688-bb7c-49f1-b541-bff1368b8661",
   "metadata": {},
   "outputs": [
    {
     "name": "stdout",
     "output_type": "stream",
     "text": [
      "  1.224 ms (0 allocations: 0 bytes)\n"
     ]
    },
    {
     "data": {
      "text/plain": [
       "0.5012615627526614"
      ]
     },
     "execution_count": 22,
     "metadata": {},
     "output_type": "execute_result"
    }
   ],
   "source": [
    "@btime mycdf($bin, $(n÷2))"
   ]
  },
  {
   "cell_type": "code",
   "execution_count": 23,
   "id": "07fe8a08-10ff-478c-ba82-bb84ecb60b79",
   "metadata": {},
   "outputs": [
    {
     "name": "stdout",
     "output_type": "stream",
     "text": [
      "  4.375 ms (0 allocations: 0 bytes)\n"
     ]
    },
    {
     "data": {
      "text/plain": [
       "0.5012615631066314"
      ]
     },
     "execution_count": 23,
     "metadata": {},
     "output_type": "execute_result"
    }
   ],
   "source": [
    "@btime sum(pdf($bin, i) for i in $(0:n÷2))"
   ]
  },
  {
   "cell_type": "markdown",
   "id": "601059cf-ec2c-4679-929b-77ab7fc6dff2",
   "metadata": {},
   "source": [
    "## n = 1000000"
   ]
  },
  {
   "cell_type": "code",
   "execution_count": 24,
   "id": "114e0fa8-0424-418d-9d06-e306a8b7f17b",
   "metadata": {},
   "outputs": [
    {
     "data": {
      "text/plain": [
       "Binomial{Float64}(n=1000000, p=0.5)"
      ]
     },
     "execution_count": 24,
     "metadata": {},
     "output_type": "execute_result"
    }
   ],
   "source": [
    "n, p = 10^6, 0.5\n",
    "bin = Binomial(n, p)"
   ]
  },
  {
   "cell_type": "code",
   "execution_count": 25,
   "id": "c6fa937e-489d-40b6-80c8-76cabe96bf56",
   "metadata": {},
   "outputs": [
    {
     "name": "stdout",
     "output_type": "stream",
     "text": [
      "  410.553 ns (4 allocations: 960 bytes)\n"
     ]
    },
    {
     "data": {
      "text/plain": [
       "0.5003989421806658"
      ]
     },
     "execution_count": 25,
     "metadata": {},
     "output_type": "execute_result"
    }
   ],
   "source": [
    "@btime cdf($bin, $(n÷2))"
   ]
  },
  {
   "cell_type": "code",
   "execution_count": 26,
   "id": "6b1d7970-1cf2-4679-9139-94ef300618e2",
   "metadata": {},
   "outputs": [
    {
     "name": "stdout",
     "output_type": "stream",
     "text": [
      "  2.310 ms (0 allocations: 0 bytes)\n"
     ]
    },
    {
     "data": {
      "text/plain": [
       "0.0"
      ]
     },
     "execution_count": 26,
     "metadata": {},
     "output_type": "execute_result"
    }
   ],
   "source": [
    "@btime mycdf_naive($bin, $(n÷2))"
   ]
  },
  {
   "cell_type": "code",
   "execution_count": 27,
   "id": "b156e6dd-3551-4a60-b094-1eb28bc5d0e2",
   "metadata": {},
   "outputs": [
    {
     "name": "stdout",
     "output_type": "stream",
     "text": [
      "  12.081 ms (0 allocations: 0 bytes)\n"
     ]
    },
    {
     "data": {
      "text/plain": [
       "0.5003989280866765"
      ]
     },
     "execution_count": 27,
     "metadata": {},
     "output_type": "execute_result"
    }
   ],
   "source": [
    "@btime mycdf($bin, $(n÷2))"
   ]
  },
  {
   "cell_type": "code",
   "execution_count": 28,
   "id": "9da883d5-2717-41c2-baab-24bf57f0090e",
   "metadata": {},
   "outputs": [
    {
     "name": "stdout",
     "output_type": "stream",
     "text": [
      "  44.511 ms (0 allocations: 0 bytes)\n"
     ]
    },
    {
     "data": {
      "text/plain": [
       "0.5003989421474471"
      ]
     },
     "execution_count": 28,
     "metadata": {},
     "output_type": "execute_result"
    }
   ],
   "source": [
    "@btime sum(pdf($bin, i) for i in $(0:n÷2))"
   ]
  },
  {
   "cell_type": "code",
   "execution_count": null,
   "id": "16408115-75ae-446a-8c85-46ca300f84e9",
   "metadata": {},
   "outputs": [],
   "source": []
  }
 ],
 "metadata": {
  "jupytext": {
   "formats": "ipynb,jl:hydrogen"
  },
  "kernelspec": {
   "display_name": "Julia 1.8.0",
   "language": "julia",
   "name": "julia-1.8"
  },
  "language_info": {
   "file_extension": ".jl",
   "mimetype": "application/julia",
   "name": "julia",
   "version": "1.8.0"
  }
 },
 "nbformat": 4,
 "nbformat_minor": 5
}
