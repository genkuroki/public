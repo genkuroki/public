{
 "cells": [
  {
   "cell_type": "code",
   "execution_count": 1,
   "id": "6ee34a75-53b6-42bc-ae99-50dd8aa46ea2",
   "metadata": {},
   "outputs": [
    {
     "name": "stdout",
     "output_type": "stream",
     "text": [
      "Julia Version 1.8.1\n",
      "Commit afb6c60d69 (2022-09-06 15:09 UTC)\n",
      "Platform Info:\n",
      "  OS: Windows (x86_64-w64-mingw32)\n",
      "  CPU: 12 × Intel(R) Core(TM) i7-10750H CPU @ 2.60GHz\n",
      "  WORD_SIZE: 64\n",
      "  LIBM: libopenlibm\n",
      "  LLVM: libLLVM-13.0.1 (ORCJIT, skylake)\n",
      "  Threads: 12 on 12 virtual cores\n",
      "Environment:\n",
      "  JULIA_DEPOT_PATH = D:\\.julia\n",
      "  JULIA_NUM_PRECOMPILE_TASKS = 4\n",
      "  JULIA_NUM_THREADS = 12\n",
      "  JULIA_PYTHONCALL_EXE = D:\\.julia\\conda\\3\\python.exe\n"
     ]
    }
   ],
   "source": [
    "versioninfo()"
   ]
  },
  {
   "cell_type": "code",
   "execution_count": null,
   "id": "4cdd54e3-1709-426e-9c47-67d0c0ef9a5d",
   "metadata": {},
   "outputs": [],
   "source": []
  }
 ],
 "metadata": {
  "kernelspec": {
   "display_name": "Julia 1.8.1",
   "language": "julia",
   "name": "julia-1.8"
  },
  "language_info": {
   "file_extension": ".jl",
   "mimetype": "application/julia",
   "name": "julia",
   "version": "1.8.1"
  }
 },
 "nbformat": 4,
 "nbformat_minor": 5
}
