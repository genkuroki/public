{
 "cells": [
  {
   "cell_type": "code",
   "execution_count": 1,
   "id": "4435e51b-d34e-4b45-8bd7-c092fa6b4ecf",
   "metadata": {},
   "outputs": [],
   "source": [
    "using Distributions\n",
    "using HypothesisTests\n",
    "using Random\n",
    "using StatsBase: ecdf\n",
    "using StatsPlots\n",
    "default(fmt=:png, titlefontsize=10, tickfontsize=6,\n",
    "    guidefontsize=9, plot_titlefontsize=10)"
   ]
  },
  {
   "cell_type": "code",
   "execution_count": 2,
   "id": "2a9d1b64-0f9e-40c2-8de8-70ca367eced6",
   "metadata": {},
   "outputs": [
    {
     "data": {
      "text/plain": [
       "mycombinations"
      ]
     },
     "execution_count": 2,
     "metadata": {},
     "output_type": "execute_result"
    }
   ],
   "source": [
    "\"\"\"\n",
    "    nextcombination!(n, t, c = typeof(t)[min(t-1, i) for i in 1:t])\n",
    "\n",
    "`[1,2,…,n]` からの重複無しの `t` 個の組み合わせ `c` をすべて生成したい.\n",
    "\n",
    "`nextcombination!(n, t, c)` は配列で表現された組み合わせ `c` をその次の組み合わせに書き換えて, `c` を返す.\n",
    "\n",
    "初期条件を `c = typeof(t)[min(t-1, i) for i in 1:t]` にすると, `binomial(n, t)` 回の `nextcombination!(n, t, c)` ですべての組み合わせが生成される.\n",
    "\"\"\"\n",
    "function nextcombination!(n, t, c = typeof(t)[min(t-1, i) for i in 1:t])\n",
    "    t == 0 && return c\n",
    "    @inbounds for i in t:-1:1\n",
    "        c[i] += 1\n",
    "        c[i] > (n - (t - i)) && continue\n",
    "        for j in i+1:t\n",
    "            c[j] = c[j-1] + 1\n",
    "        end\n",
    "        break\n",
    "    end\n",
    "    c\n",
    "end\n",
    "\n",
    "\"\"\"\n",
    "    mycombinations!(n::Integer, t, c)\n",
    "\n",
    "事前に割り当てられた組み合わせを格納する配列 `c` を使って, `[1,2,…,n]` からの重複無しの `t` 個の組み合わせのすべてを生成する生成子を返す.\n",
    "\"\"\"\n",
    "function mycombinations!(n::Integer, t, c)\n",
    "    for i in 1:t c[i] = min(t - 1, i) end\n",
    "    (nextcombination!(n, t, c) for _ in 1:binomial(n, t))\n",
    "end\n",
    "\n",
    "\"\"\"\n",
    "    mycombinations!(a, t, c)\n",
    "\n",
    "事前に割り当てられた組み合わせを格納する配列 `c` を使って, 配列 `a` からのインデックスに重複がない `t` 個の組み合わせのすべてを生成する生成子を返す.\n",
    "\"\"\"\n",
    "function mycombinations!(a, t, c)\n",
    "    t < 0 && (t = length(a) + 1)\n",
    "    (view(a, indices) for indices in mycombinations!(length(a), t, c))\n",
    "end\n",
    "\n",
    "\"\"\"\n",
    "    mycombinations(x, t)\n",
    "\n",
    "`x` が整数ならば `[1,2,…,x]` からの, `x` が配列ならば `x` からのインデックスに重複がない `t` 個の組み合わせのすべてを生成する生成子を返す.\n",
    "\"\"\"\n",
    "mycombinations(x, t) = mycombinations!(x, t, Vector{typeof(t)}(undef, t))"
   ]
  },
  {
   "cell_type": "code",
   "execution_count": 3,
   "id": "9f4e38d1-3abe-488d-8bcc-8077e25b7d95",
   "metadata": {},
   "outputs": [
    {
     "data": {
      "text/plain": [
       "mytiedrank"
      ]
     },
     "execution_count": 3,
     "metadata": {},
     "output_type": "execute_result"
    }
   ],
   "source": [
    "using StatsBase: _tiedrank!\n",
    "\n",
    "\"\"\"\n",
    "    mytiedrank(X,\n",
    "        rank = similar(X, Float64),\n",
    "        place = similar(X, Int))\n",
    "\n",
    "配列 `X` 内の値の順位(下から何番目に大きいか)を計算する.\n",
    "\n",
    "値に重複がある場合には同順位にするために順位の平均を順位として採用する.\n",
    "\n",
    "`rank`, `place` は内部で使う配列で, 事前に割り当てておけば, この函数はメモリ割り当てゼロで実行される.  `rank` が返り値になる.\n",
    "\"\"\"\n",
    "function mytiedrank(X,\n",
    "        rank = similar(X, Float64),\n",
    "        place = similar(X, Int))\n",
    "    # Xの要素が整数ならば sortperm(X) を使った方がずっと速い.\n",
    "    # そうなる理由は sortperm は sort! と違って sortperm_int_range も使用するから.\n",
    "    # その代わりに sortperm だとメモリ割り当てが発生する.\n",
    "    # この辺は Base 自体に改善の余地が残っているように思われる.\n",
    "    #place = sortperm(X)\n",
    "    place .= axes(place, 1)\n",
    "    sort!(place; by = i -> @inbounds(X[i]))\n",
    "    _tiedrank!(rank, X, place)\n",
    "end"
   ]
  },
  {
   "cell_type": "code",
   "execution_count": 4,
   "id": "d2ed934d-de9a-4d7b-af9a-8106cec23356",
   "metadata": {},
   "outputs": [
    {
     "data": {
      "text/latex": [
       "\\begin{verbatim}\n",
       "exact_mann_whitney_u(x, y,\n",
       "    xy = Vector{promote_type(eltype(x), eltype(y))}(undef, length(x)+length(y)),\n",
       "    rankxy = similar(xy, Float64),\n",
       "    place = similar(xy, Int),\n",
       "    c = similar(x, Int, min(length(x), length(y)))\n",
       ")\n",
       "\\end{verbatim}\n",
       "データ \\texttt{x, y} に関するMann-WhitneyのU検定のexact版を素朴なアルゴリズム(遅い)で実行し, \\texttt{(u, u\\_less, u\\_greater, p\\_twosided, p\\_less, p\\_greater)} を返す.  ここで,\n",
       "\n",
       "\\begin{itemize}\n",
       "\\item \\texttt{u} は \\texttt{x}, \\texttt{y} の \\texttt{length} が小さい方のU統計量達.\n",
       "\n",
       "\n",
       "\\item \\texttt{u\\_less}, \\texttt{u\\_greater} はそれぞれ \\texttt{u}, \\texttt{length(x)*length(y) - u} の小さい方と大きい方.\n",
       "\n",
       "\n",
       "\\item \\texttt{p\\_twosided} は両側検定のP値.\n",
       "\n",
       "\n",
       "\\item \\texttt{p\\_less} は \\texttt{u\\_less} 以下になる確率.\n",
       "\n",
       "\n",
       "\\item \\texttt{p\\_greater} は \\texttt{u\\_greater} 以上になる確率.\n",
       "\n",
       "\\end{itemize}\n",
       "\\texttt{p\\_twosided} は \\texttt{p\\_less + p\\_greater} と1の小さい方になる.\n",
       "\n",
       "\\texttt{xy}, \\texttt{rankxy}, \\texttt{place}, \\texttt{comb} は内部で使用する配列である. それらを事前に割り当てておけば, この函数はメモリ割り当てゼロで実行される.\n",
       "\n",
       "この函数の実装では素朴にすべての組み合わせに関する和を計算する方法を採用しているので, \\texttt{x}, \\texttt{y} のサイズが大きくなると極めて遅くなる.  より洗練されたアルゴリズムについては以下の文献を参照せよ.\n",
       "\n",
       "\\begin{itemize}\n",
       "\\item https://pure.tue.nl/ws/files/1330412/200012964.pdf\n",
       "\n",
       "\n",
       "\\item https://www.sciencedirect.com/science/article/pii/S1672022916000358\n",
       "\n",
       "\\end{itemize}\n",
       "注意: この函数が返す両側検定のP値はR言語の \\href{https://rdrr.io/cran/exactRankTests/src/R/wilcox.exact.R}{exactRankTests::wilcox.exact} や \\href{https://rdrr.io/cran/coin/src/R/LocationTests.R}{coin::wilcox\\_test} と同じ値になる.  それらは素朴な実装を採用しているこの函数よりも計算が速い.\n",
       "\n",
       "注意: この函数が返す両側検定のP値は \\href{https://github.com/JuliaStats/HypothesisTests.jl}{HypothesisTests.jl} の \\texttt{pvalue(ExactMannWhitneyUTest(x, y))} とは一般に異なる.  そうなる理由は HypothesisTests.jl が \\texttt{[x; y]} 内の値に重複(tie)がある場合に分布の左右対称性が崩れることに配慮していないからである.  さらに現時点の HypothesisTests.jl (v0.10.10) の \\texttt{pvalue(ExactMannWhitneyUTest(x, y))} ではメモリ割り当てがかなり発生する.\n",
       "\n",
       "注意: この函数が返す両側検定のP値は \\href{https://docs.scipy.org/doc/scipy/reference/generated/scipy.stats.mannwhitneyu.html}{scipy.stats.mannwhitneyu} とは一般に異なる.  その理由は仕様的に \"No correction is made for ties.\" となっているからである.\n",
       "\n"
      ],
      "text/markdown": [
       "```\n",
       "exact_mann_whitney_u(x, y,\n",
       "    xy = Vector{promote_type(eltype(x), eltype(y))}(undef, length(x)+length(y)),\n",
       "    rankxy = similar(xy, Float64),\n",
       "    place = similar(xy, Int),\n",
       "    c = similar(x, Int, min(length(x), length(y)))\n",
       ")\n",
       "```\n",
       "\n",
       "データ `x, y` に関するMann-WhitneyのU検定のexact版を素朴なアルゴリズム(遅い)で実行し, `(u, u_less, u_greater, p_twosided, p_less, p_greater)` を返す.  ここで,\n",
       "\n",
       "  * `u` は `x`, `y` の `length` が小さい方のU統計量達.\n",
       "  * `u_less`, `u_greater` はそれぞれ `u`, `length(x)*length(y) - u` の小さい方と大きい方.\n",
       "  * `p_twosided` は両側検定のP値.\n",
       "  * `p_less` は `u_less` 以下になる確率.\n",
       "  * `p_greater` は `u_greater` 以上になる確率.\n",
       "\n",
       "`p_twosided` は `p_less + p_greater` と1の小さい方になる.\n",
       "\n",
       "`xy`, `rankxy`, `place`, `comb` は内部で使用する配列である. それらを事前に割り当てておけば, この函数はメモリ割り当てゼロで実行される.\n",
       "\n",
       "この函数の実装では素朴にすべての組み合わせに関する和を計算する方法を採用しているので, `x`, `y` のサイズが大きくなると極めて遅くなる.  より洗練されたアルゴリズムについては以下の文献を参照せよ.\n",
       "\n",
       "  * https://pure.tue.nl/ws/files/1330412/200012964.pdf\n",
       "  * https://www.sciencedirect.com/science/article/pii/S1672022916000358\n",
       "\n",
       "注意: この函数が返す両側検定のP値はR言語の [exactRankTests::wilcox.exact](https://rdrr.io/cran/exactRankTests/src/R/wilcox.exact.R) や [coin::wilcox_test](https://rdrr.io/cran/coin/src/R/LocationTests.R) と同じ値になる.  それらは素朴な実装を採用しているこの函数よりも計算が速い.\n",
       "\n",
       "注意: この函数が返す両側検定のP値は [HypothesisTests.jl](https://github.com/JuliaStats/HypothesisTests.jl) の `pvalue(ExactMannWhitneyUTest(x, y))` とは一般に異なる.  そうなる理由は HypothesisTests.jl が `[x; y]` 内の値に重複(tie)がある場合に分布の左右対称性が崩れることに配慮していないからである.  さらに現時点の HypothesisTests.jl (v0.10.10) の `pvalue(ExactMannWhitneyUTest(x, y))` ではメモリ割り当てがかなり発生する.\n",
       "\n",
       "注意: この函数が返す両側検定のP値は [scipy.stats.mannwhitneyu](https://docs.scipy.org/doc/scipy/reference/generated/scipy.stats.mannwhitneyu.html) とは一般に異なる.  その理由は仕様的に \"No correction is made for ties.\" となっているからである.\n"
      ],
      "text/plain": [
       "\u001b[36m  exact_mann_whitney_u(x, y,\u001b[39m\n",
       "\u001b[36m      xy = Vector{promote_type(eltype(x), eltype(y))}(undef, length(x)+length(y)),\u001b[39m\n",
       "\u001b[36m      rankxy = similar(xy, Float64),\u001b[39m\n",
       "\u001b[36m      place = similar(xy, Int),\u001b[39m\n",
       "\u001b[36m      c = similar(x, Int, min(length(x), length(y)))\u001b[39m\n",
       "\u001b[36m  )\u001b[39m\n",
       "\n",
       "  データ \u001b[36mx, y\u001b[39m に関するMann-WhitneyのU検定のexact版を素朴なアルゴリズム(遅い)で実行し, \u001b[36m(u, u_less,\n",
       "  u_greater, p_twosided, p_less, p_greater)\u001b[39m を返す. ここで,\n",
       "\n",
       "    •  \u001b[36mu\u001b[39m は \u001b[36mx\u001b[39m, \u001b[36my\u001b[39m の \u001b[36mlength\u001b[39m が小さい方のU統計量達.\n",
       "\n",
       "    •  \u001b[36mu_less\u001b[39m, \u001b[36mu_greater\u001b[39m はそれぞれ \u001b[36mu\u001b[39m, \u001b[36mlength(x)*length(y) - u\u001b[39m の小さい方と大きい方.\n",
       "\n",
       "    •  \u001b[36mp_twosided\u001b[39m は両側検定のP値.\n",
       "\n",
       "    •  \u001b[36mp_less\u001b[39m は \u001b[36mu_less\u001b[39m 以下になる確率.\n",
       "\n",
       "    •  \u001b[36mp_greater\u001b[39m は \u001b[36mu_greater\u001b[39m 以上になる確率.\n",
       "\n",
       "  \u001b[36mp_twosided\u001b[39m は \u001b[36mp_less + p_greater\u001b[39m と1の小さい方になる.\n",
       "\n",
       "  \u001b[36mxy\u001b[39m, \u001b[36mrankxy\u001b[39m, \u001b[36mplace\u001b[39m, \u001b[36mcomb\u001b[39m は内部で使用する配列である. それらを事前に割り当てておけば,\n",
       "  この函数はメモリ割り当てゼロで実行される.\n",
       "\n",
       "  この函数の実装では素朴にすべての組み合わせに関する和を計算する方法を採用しているので, \u001b[36mx\u001b[39m, \u001b[36my\u001b[39m のサイズが大きくなると極めて遅くなる.\n",
       "  より洗練されたアルゴリズムについては以下の文献を参照せよ.\n",
       "\n",
       "    •  https://pure.tue.nl/ws/files/1330412/200012964.pdf\n",
       "\n",
       "    •  https://www.sciencedirect.com/science/article/pii/S1672022916000358\n",
       "\n",
       "  注意: この函数が返す両側検定のP値はR言語の exactRankTests::wilcox.exact\n",
       "  (https://rdrr.io/cran/exactRankTests/src/R/wilcox.exact.R) や\n",
       "  coin::wilcox_test (https://rdrr.io/cran/coin/src/R/LocationTests.R) と同じ値になる.\n",
       "  それらは素朴な実装を採用しているこの函数よりも計算が速い.\n",
       "\n",
       "  注意: この函数が返す両側検定のP値は HypothesisTests.jl\n",
       "  (https://github.com/JuliaStats/HypothesisTests.jl) の\n",
       "  \u001b[36mpvalue(ExactMannWhitneyUTest(x, y))\u001b[39m とは一般に異なる. そうなる理由は HypothesisTests.jl が\n",
       "  \u001b[36m[x; y]\u001b[39m 内の値に重複(tie)がある場合に分布の左右対称性が崩れることに配慮していないからである. さらに現時点の\n",
       "  HypothesisTests.jl (v0.10.10) の \u001b[36mpvalue(ExactMannWhitneyUTest(x, y))\u001b[39m\n",
       "  ではメモリ割り当てがかなり発生する.\n",
       "\n",
       "  注意: この函数が返す両側検定のP値は scipy.stats.mannwhitneyu\n",
       "  (https://docs.scipy.org/doc/scipy/reference/generated/scipy.stats.mannwhitneyu.html)\n",
       "  とは一般に異なる. その理由は仕様的に \"No correction is made for ties.\" となっているからである."
      ]
     },
     "execution_count": 4,
     "metadata": {},
     "output_type": "execute_result"
    }
   ],
   "source": [
    "\"\"\"\n",
    "    exact_mann_whitney_u(x, y,\n",
    "        xy = Vector{promote_type(eltype(x), eltype(y))}(undef, length(x)+length(y)),\n",
    "        rankxy = similar(xy, Float64),\n",
    "        place = similar(xy, Int),\n",
    "        c = similar(x, Int, min(length(x), length(y)))\n",
    "    )\n",
    "\n",
    "データ `x, y` に関するMann-WhitneyのU検定のexact版を素朴なアルゴリズム(遅い)で実行し, `(u, u_less, u_greater, p_twosided, p_less, p_greater)` を返す.  ここで,\n",
    "\n",
    "* `u` は `x`, `y` の `length` が小さい方のU統計量達.\n",
    "* `u_less`, `u_greater` はそれぞれ `u`, `length(x)*length(y) - u` の小さい方と大きい方.\n",
    "* `p_twosided` は両側検定のP値.\n",
    "* `p_less` は `u_less` 以下になる確率.\n",
    "* `p_greater` は `u_greater` 以上になる確率.\n",
    "\n",
    "`p_twosided` は `p_less + p_greater` と1の小さい方になる.\n",
    "\n",
    "`xy`, `rankxy`, `place`, `comb` は内部で使用する配列である. それらを事前に割り当てておけば, この函数はメモリ割り当てゼロで実行される.\n",
    "\n",
    "この函数の実装では素朴にすべての組み合わせに関する和を計算する方法を採用しているので, `x`, `y` のサイズが大きくなると極めて遅くなる.  より洗練されたアルゴリズムについては以下の文献を参照せよ.\n",
    "\n",
    "* https://pure.tue.nl/ws/files/1330412/200012964.pdf\n",
    "* https://www.sciencedirect.com/science/article/pii/S1672022916000358\n",
    "\n",
    "注意: この函数が返す両側検定のP値はR言語の [exactRankTests::wilcox.exact](https://rdrr.io/cran/exactRankTests/src/R/wilcox.exact.R) や [coin::wilcox_test](https://rdrr.io/cran/coin/src/R/LocationTests.R) と同じ値になる.  それらは素朴な実装を採用しているこの函数よりも計算が速い.\n",
    "\n",
    "注意: この函数が返す両側検定のP値は [HypothesisTests.jl](https://github.com/JuliaStats/HypothesisTests.jl) の `pvalue(ExactMannWhitneyUTest(x, y))` とは一般に異なる.  そうなる理由は HypothesisTests.jl が `[x; y]` 内の値に重複(tie)がある場合に分布の左右対称性が崩れることに配慮していないからである.  さらに現時点の HypothesisTests.jl (v0.10.10) の `pvalue(ExactMannWhitneyUTest(x, y))` ではメモリ割り当てがかなり発生する.\n",
    "\n",
    "注意: この函数が返す両側検定のP値は [scipy.stats.mannwhitneyu](https://docs.scipy.org/doc/scipy/reference/generated/scipy.stats.mannwhitneyu.html) とは一般に異なる.  その理由は仕様的に \"No correction is made for ties.\" となっているからである.\n",
    "\"\"\"\n",
    "function exact_mann_whitney_u(x, y,\n",
    "        xy = Vector{promote_type(eltype(x), eltype(y))}(undef, length(x)+length(y)),\n",
    "        rankxy = similar(xy, Float64),\n",
    "        place = similar(xy, Int),\n",
    "        comb = similar(x, Int, min(length(x), length(y)))\n",
    "    )\n",
    "    # Assume length(x) ≤ length(y)\n",
    "    if length(x) > length(y)\n",
    "        return exact_mann_whitney_u(y, x, xy, rankxy, place, comb)\n",
    "    end\n",
    "    \n",
    "    # Initialization\n",
    "    m, n = length(x), length(y)\n",
    "    xy[1:m] .= x\n",
    "    xy[m+1:m+n] .= y\n",
    "\n",
    "    # Calculation of ranks\n",
    "    rankxy = mytiedrank(xy, rankxy, place)\n",
    "    \n",
    "    # Calculation of P-values\n",
    "    r = sum(@view rankxy[1:m]) # rank sum of the data x,y\n",
    "    r_less, r_greater = minmax(r, m*(m+n+1) - r)\n",
    "    num_less, num_greater = 0, 0\n",
    "    for c in mycombinations!(rankxy, m, comb)\n",
    "        R = sum(c) # rank sum of the combination c\n",
    "        num_less    += R ≤ r_less\n",
    "        num_greater += R ≥ r_greater\n",
    "    end\n",
    "    p_less, p_greater = (num_less, num_greater) ./ binomial(m+n, m)\n",
    "    p_twosided = min(1, p_less + p_greater)\n",
    "    \n",
    "    # Calculation of U-statistics\n",
    "    u, u_less, u_greater = (r, r_less, r_greater) .- m*(m+1)÷2\n",
    "    \n",
    "    # Returns\n",
    "    u, u_less, u_greater, p_twosided, p_less, p_greater\n",
    "end\n",
    "\n",
    "@doc exact_mann_whitney_u"
   ]
  },
  {
   "cell_type": "code",
   "execution_count": 5,
   "id": "195569d7-4009-4f47-81fb-7759bcf8ef90",
   "metadata": {},
   "outputs": [
    {
     "data": {
      "text/plain": [
       "sim (generic function with 1 method)"
      ]
     },
     "execution_count": 5,
     "metadata": {},
     "output_type": "execute_result"
    }
   ],
   "source": [
    "function sim(;\n",
    "        distx = Normal(50, 1),\n",
    "        disty = Normal(50, 1),\n",
    "        m = 5,\n",
    "        n = 5,\n",
    "        L = 10^5\n",
    "    )\n",
    "    tmpx = [Vector{Float64}(undef, m) for _ in 1:Threads.nthreads()]\n",
    "    tmpy = [Vector{Float64}(undef, n) for _ in 1:Threads.nthreads()]\n",
    "    tmpxy = [Vector{Float64}(undef, m+n) for _ in 1:Threads.nthreads()]\n",
    "    tmprankxy = [Vector{Float64}(undef, m+n) for _ in 1:Threads.nthreads()]\n",
    "    tmpplace = [Vector{Int}(undef, m+n) for _ in 1:Threads.nthreads()]\n",
    "    tmpcomb = [Vector{Int}(undef, min(m,n)) for _ in 1:Threads.nthreads()]\n",
    "    pval_ewmw = Vector{Float64}(undef, L)\n",
    "    pval_awmw = Vector{Float64}(undef, L)\n",
    "    Threads.@threads for i in 1:L\n",
    "        x = rand!(distx, tmpx[Threads.threadid()])\n",
    "        y = rand!(disty, tmpy[Threads.threadid()])\n",
    "        result_ewmw = exact_mann_whitney_u(x, y,\n",
    "            tmpxy[Threads.threadid()],\n",
    "            tmprankxy[Threads.threadid()],\n",
    "            tmpplace[Threads.threadid()],\n",
    "            tmpcomb[Threads.threadid()]\n",
    "        )\n",
    "        pval_ewmw[i] = result_ewmw[4]\n",
    "        result_amwm = ApproximateMannWhitneyUTest(x, y)\n",
    "        pval_awmw[i] = pvalue(result_amwm)\n",
    "    end\n",
    "    pval_ewmw, pval_awmw\n",
    "end"
   ]
  },
  {
   "cell_type": "code",
   "execution_count": 6,
   "id": "aa264e07-eeae-4cf9-b1fc-8667667c5558",
   "metadata": {},
   "outputs": [
    {
     "name": "stdout",
     "output_type": "stream",
     "text": [
      "  3.219429 seconds (8.34 M allocations: 744.305 MiB, 3.69% gc time, 27.48% compilation time: 3% of which was recompilation)\n"
     ]
    },
    {
     "data": {
      "text/plain": [
       "g (generic function with 1 method)"
      ]
     },
     "execution_count": 6,
     "metadata": {},
     "output_type": "execute_result"
    }
   ],
   "source": [
    "Random.seed!(4649373)\n",
    "m, n = 5, 5\n",
    "pval_ewmw, pval_awmw = @time sim(; m, n, L=10^6)\n",
    "ecdf_ewmw = ecdf(pval_ewmw)\n",
    "f(x) = ecdf_ewmw(x)\n",
    "ecdf_awmw = ecdf(pval_awmw)\n",
    "g(x) = ecdf_awmw(x)"
   ]
  },
  {
   "cell_type": "code",
   "execution_count": 7,
   "id": "cacf1294-a0af-427f-9401-1bf5e16b1e66",
   "metadata": {},
   "outputs": [
    {
     "data": {
      "image/png": "[encoded data removed]"
     },
     "execution_count": 7,
     "metadata": {},
     "output_type": "execute_result"
    }
   ],
   "source": [
    "xmax = 1\n",
    "tick = 0:xmax/10:xmax\n",
    "x = 0:xmax/1000:xmax\n",
    "P1 = plot(legend=:topleft)\n",
    "plot!(x, f; label=\"exact WMW\")\n",
    "plot!(x, g; label=\"approx WMW\", ls=:dash)\n",
    "plot!([0, xmax], [0, xmax]; label=\"\", c=:black, ls=:dot)\n",
    "plot!(xtick=tick, ytick=tick)\n",
    "plot!(xguide=\"α\", yguide=\"probability of p-value ≤ α\")\n",
    "\n",
    "xmax = 0.1\n",
    "tick = 0:xmax/10:xmax\n",
    "x = 0:xmax/1000:xmax\n",
    "P2 = plot(legend=:topleft)\n",
    "plot!(x, f; label=\"exact WMW\")\n",
    "plot!(x, g; label=\"approx WMW\", ls=:dash)\n",
    "plot!([0, xmax], [0, xmax]; label=\"\", c=:black, ls=:dot)\n",
    "plot!(xtick=tick, ytick=tick)\n",
    "plot!(xguide=\"α\", yguide=\"probability of p-value ≤ α\")\n",
    "\n",
    "plot(P1, P2; size=(600, 300))\n",
    "plot!(plot_title=\"m=$m, n=$n\")"
   ]
  },
  {
   "cell_type": "markdown",
   "id": "c50bf847-94fd-4e9d-bf8b-4302c7cef97a",
   "metadata": {},
   "source": [
    "上のグラフはP値のecdf (経験累積分布函数)のプロットである.\n",
    "\n",
    "以下の2つのプロットを比較すればわかるように, ヒストグラムはビンの取り方で大幅に印象が変わるので要注意である.\n",
    "\n",
    "統計学入門の講義では「ヒストグラムは印象操作に悪用できるので要注意である」と教える必要がある.\n",
    "\n",
    "ヒストグラムの代わりにecdf (経験累積分布函数)のグラフやQQプロットの類を使った方がよい場合は多い."
   ]
  },
  {
   "cell_type": "code",
   "execution_count": 8,
   "id": "8119e061-9f6e-46bb-9d56-0ea403b0d396",
   "metadata": {},
   "outputs": [
    {
     "data": {
      "image/png": "[encoded data removed]"
     },
     "execution_count": 8,
     "metadata": {},
     "output_type": "execute_result"
    }
   ],
   "source": [
    "xmax = 1\n",
    "tick = 0:xmax/10:xmax\n",
    "bin = :auto\n",
    "P1 = plot(legend=:outertop)\n",
    "stephist!(pval_ewmw; norm=true, bin, label=\"exact WMW\")\n",
    "stephist!(pval_awmw; norm=true, bin, label=\"approx WMW\", ls=:dash)\n",
    "plot!(xtick=tick, size=(400, 250))"
   ]
  },
  {
   "cell_type": "code",
   "execution_count": 9,
   "id": "71dcc970-511f-456c-b675-844acd31c105",
   "metadata": {},
   "outputs": [
    {
     "data": {
      "image/png": "[encoded data removed]"
     },
     "execution_count": 9,
     "metadata": {},
     "output_type": "execute_result"
    }
   ],
   "source": [
    "xmax = 1\n",
    "tick = 0:xmax/10:xmax\n",
    "bin = 0:(xmax+eps())/8:xmax+eps()\n",
    "P1 = plot(legend=:outertop)\n",
    "stephist!(pval_ewmw; norm=true, bin, label=\"exact WMW\")\n",
    "stephist!(pval_awmw; norm=true, bin, label=\"approx WMW\", ls=:dash)\n",
    "plot!(xtick=tick, size=(400, 250))"
   ]
  },
  {
   "cell_type": "code",
   "execution_count": null,
   "id": "cae451fa-667d-42e9-8e6b-ddc1230b0a27",
   "metadata": {},
   "outputs": [],
   "source": []
  }
 ],
 "metadata": {
  "jupytext": {
   "formats": "ipynb,jl:hydrogen"
  },
  "kernelspec": {
   "display_name": "Julia 1.8.1",
   "language": "julia",
   "name": "julia-1.8"
  },
  "language_info": {
   "file_extension": ".jl",
   "mimetype": "application/julia",
   "name": "julia",
   "version": "1.8.1"
  }
 },
 "nbformat": 4,
 "nbformat_minor": 5
}
