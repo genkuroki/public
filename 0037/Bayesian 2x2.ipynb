{
 "cells": [
  {
   "cell_type": "code",
   "execution_count": 1,
   "id": "67277988-d126-493e-be5b-a7a6ccc9055a",
   "metadata": {},
   "outputs": [],
   "source": [
    "using Distributions\n",
    "using StatsBase: ecdf\n",
    "using StatsPlots\n",
    "default(fmt=:png)"
   ]
  },
  {
   "cell_type": "code",
   "execution_count": 2,
   "id": "79d9267c-f3a1-459d-ab33-26e721b2caf1",
   "metadata": {},
   "outputs": [
    {
     "name": "stdout",
     "output_type": "stream",
     "text": [
      "(a, b, c, d) = (10, 6, 5, 12)\n",
      "pval = min(1, 2 * (ecdf(diff))(-0.01), 2 * (1 - (ecdf(diff))(-0.01))) = 0.045648\n",
      "pointestimate = quantile(diff, 1 / 2) = 0.3237587630046\n",
      "lower = quantile(diff, 0.05 / 2) = -0.003363231803111173\n",
      "upper = quantile(diff, 1 - 0.05 / 2) = 0.6078847074319813\n",
      "[lower, upper] = [-0.003363231803111173, 0.6078847074319813]\n"
     ]
    },
    {
     "data": {
      "image/png": "[encoded data removed]"
     },
     "execution_count": 2,
     "metadata": {},
     "output_type": "execute_result"
    }
   ],
   "source": [
    "A = [\n",
    "    10  6\n",
    "     5 12\n",
    "]\n",
    "a, b, c, d = A'\n",
    "@show a, b, c, d\n",
    "\n",
    "# 事後分布\n",
    "# quantile(diff, 1/2) を点推定値としたい場合には \"1/3\" を採用するとよい.\n",
    "posterior_p = Beta(a+1/3, b+1/3)\n",
    "posterior_q = Beta(c+1/3, d+1/3)\n",
    "\n",
    "# 事後分布の乱数を大量生成\n",
    "p = rand(posterior_p, 10^6)\n",
    "q = rand(posterior_q, 10^6)\n",
    "\n",
    "# 事後分布で生成したpとqの差を計算\n",
    "diff = p - q\n",
    "\n",
    "# 仮説 p - q = -0.01 のP値\n",
    "@show pval = min(1, 2ecdf(diff)(-0.01), 2(1-ecdf(diff)(-0.01)))\n",
    "\n",
    "# p - q の点推定\n",
    "@show pointestimate = quantile(diff, 1/2)\n",
    "\n",
    "# p - q の区間推定\n",
    "@show lower = quantile(diff, 0.05/2)\n",
    "@show upper = quantile(diff, 1 - 0.05/2)\n",
    "@show [lower, upper]\n",
    "\n",
    "stephist(diff; norm=true, label=\"posterior of p - q\")\n",
    "plot!([lower, upper], zeros(2); label=\"95% interval estimate of p - q\", lw=4)\n",
    "scatter!([pointestimate], zeros(1); label=\"point estimate of p - q\", ls=:dash)\n",
    "plot!(legend=:topleft)"
   ]
  },
  {
   "cell_type": "code",
   "execution_count": 3,
   "id": "d48bacce-6150-47c3-9b94-c9c6694d4059",
   "metadata": {},
   "outputs": [
    {
     "name": "stdout",
     "output_type": "stream",
     "text": [
      "data: [10 6; 5 12]\n",
      "prior: (1//3, 1//3)\n",
      "method: Monte Carlo with 1000000 iterations\n",
      "\n",
      "p-value of hypothesis p - q = -0.01:  4.5174%\n",
      "point estimate of p - q:  0.32401915540693427\n",
      "95.0% credible interval of p - q:  [-0.002658466454151729, 0.60722032871909]\n",
      "\n",
      "p-value of hypothesis p / q = 0.99:  4.8658%\n",
      "point estimate of p/q:  2.097353851121019\n",
      "95.0% credible interval of p/q:  [0.9941037050134929, 5.481463412677701]\n",
      "\n",
      "p-value of hypothesis (p(1-p))/(q(1-q)) = 0.99:  5.0200000000000005%\n",
      "point estimate of (p(1-p))/(q(1-q)):  4.055982063972054\n",
      "95.0% credible interval of (p(1-p))/(q(1-q)):  [0.989055527817263, 18.78623538143067]\n"
     ]
    }
   ],
   "source": [
    "function bayes2x2(a, b, c, d;\n",
    "        diff0=0, ratio0=1, oddsratio0=1, \n",
    "        L=10^6, prior=(1//3, 1//3), alpha=0.05)\n",
    "    s, t = prior\n",
    "    posterior_p, posterior_q = Beta(a+s, b+t), Beta(c+s, d+t)\n",
    "    p, q = rand(posterior_p, L), rand(posterior_q, L)\n",
    "    \n",
    "    diff = @. p - q\n",
    "    ecdf_diff = ecdf(diff)\n",
    "    pvalue_diff = min(1, 2ecdf_diff(diff0), 2(1-ecdf_diff(diff0)))\n",
    "    diff_lower = quantile(diff, alpha/2)\n",
    "    diff_pointest = quantile(diff, 1/2)\n",
    "    diff_upper = quantile(diff, 1-alpha/2)\n",
    "\n",
    "    ratio = @. p / q\n",
    "    ecdf_raito = ecdf(ratio)\n",
    "    pvalue_ratio = min(1, 2ecdf_raito(ratio0), 2(1-ecdf_raito(ratio0)))\n",
    "    ratio_lower = quantile(ratio, alpha/2)\n",
    "    ratio_pointest = quantile(ratio, 1/2)\n",
    "    ratio_upper = quantile(ratio, 1-alpha/2)\n",
    "    \n",
    "    oddsratio = @. (p/(1 - p)) / (q/(1 - q))\n",
    "    ecdf_oddsratio = ecdf(oddsratio)\n",
    "    pvalue_oddsratio = min(1, 2ecdf_oddsratio(oddsratio0), 2(1-ecdf_oddsratio(oddsratio0)))\n",
    "    oddsratio_lower = quantile(oddsratio, alpha/2)\n",
    "    oddsratio_pointest = quantile(oddsratio, 1/2)\n",
    "    oddsratio_upper = quantile(oddsratio, 1-alpha/2)\n",
    "    \n",
    "    (;  a, b, c, d, diff0, ratio0, oddsratio0, L, prior, alpha,\n",
    "        pvalue_diff, diff_lower, diff_pointest, diff_upper,\n",
    "        pvalue_ratio, ratio_lower, ratio_pointest, ratio_upper,\n",
    "        pvalue_oddsratio, oddsratio_lower, oddsratio_pointest, oddsratio_upper)\n",
    "end\n",
    "\n",
    "function show_bayes2x2(result)\n",
    "    (;  a, b, c, d, diff0, ratio0, oddsratio0, L, prior, alpha,\n",
    "        pvalue_diff, diff_lower, diff_pointest, diff_upper,\n",
    "        pvalue_ratio, ratio_lower, ratio_pointest, ratio_upper,\n",
    "        pvalue_oddsratio, oddsratio_lower, oddsratio_pointest, oddsratio_upper) = result\n",
    "    println(\"data: [$a $b; $c $d]\")\n",
    "    println(\"prior: $prior\")\n",
    "    println(\"method: Monte Carlo with $L iterations\")\n",
    "    println()\n",
    "    println(\"p-value of hypothesis p - q = $diff0:  $(100pvalue_diff)%\")\n",
    "    println(\"point estimate of p - q:  \", diff_pointest)\n",
    "    println(\"$(100(1-alpha))% credible interval of p - q:  \", [diff_lower, diff_upper])\n",
    "    println()\n",
    "    println(\"p-value of hypothesis p / q = $ratio0:  $(100pvalue_ratio)%\")\n",
    "    println(\"point estimate of p/q:  \", ratio_pointest)\n",
    "    println(\"$(100(1-alpha))% credible interval of p/q:  \", [ratio_lower, ratio_upper])\n",
    "    println()\n",
    "    println(\"p-value of hypothesis (p(1-p))/(q(1-q)) = $oddsratio0:  $(100pvalue_oddsratio)%\")\n",
    "    println(\"point estimate of (p(1-p))/(q(1-q)):  \", oddsratio_pointest)\n",
    "    println(\"$(100(1-alpha))% credible interval of (p(1-p))/(q(1-q)):  \", [oddsratio_lower, oddsratio_upper])\n",
    "end\n",
    "\n",
    "A = [\n",
    "    10  6\n",
    "     5 12\n",
    "]\n",
    "a, b, c, d = A'\n",
    "result = bayes2x2(a, b, c, d; diff0=-0.01, ratio0=0.99, oddsratio0=0.99)\n",
    "show_bayes2x2(result)"
   ]
  },
  {
   "cell_type": "code",
   "execution_count": null,
   "id": "4cb6c678-bf4e-4bec-9053-f8df03ec56a2",
   "metadata": {},
   "outputs": [],
   "source": []
  }
 ],
 "metadata": {
  "jupytext": {
   "formats": "ipynb,jl:hydrogen"
  },
  "kernelspec": {
   "display_name": "Julia 1.8.1",
   "language": "julia",
   "name": "julia-1.8"
  },
  "language_info": {
   "file_extension": ".jl",
   "mimetype": "application/julia",
   "name": "julia",
   "version": "1.8.1"
  }
 },
 "nbformat": 4,
 "nbformat_minor": 5
}
