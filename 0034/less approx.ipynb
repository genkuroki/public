{
 "cells": [
  {
   "cell_type": "code",
   "execution_count": 1,
   "id": "f335e7e0",
   "metadata": {},
   "outputs": [],
   "source": [
    "using Distributions\n",
    "using RCall\n",
    "@rimport stats as stats\n",
    "using StatsPlots\n",
    "default(fmt=:png, size=(400, 250))"
   ]
  },
  {
   "cell_type": "code",
   "execution_count": 2,
   "id": "be483d51",
   "metadata": {},
   "outputs": [
    {
     "data": {
      "text/plain": [
       "([0.03, 0.04, 0.05, 0.06, 0.07, 0.08, 0.09, 0.1, 0.2, 0.30000000000000004  …  50.0, 60.0, 70.0, 80.0, 90.0, 100.0, 200.0, 300.0, 400.0, 500.0], [\"\", \"\", \"0.05\", \"\", \"\", \"\", \"\", \"0.1\", \"0.2\", \"\"  …  \"50\", \"\", \"\", \"\", \"\", \"100\", \"200\", \"\", \"\", \"500\"])"
      ]
     },
     "execution_count": 2,
     "metadata": {},
     "output_type": "execute_result"
    }
   ],
   "source": [
    "function logtick(; xlim=(0.03, 500))\n",
    "    xmin, xmax = xlim\n",
    "    a = floor(Int, log10(xmin))\n",
    "    b = ceil(Int, log10(xmax))\n",
    "    nums =     [1, 2, 3, 4, 5, 6, 7, 8, 9]\n",
    "    mask = Bool[1, 1, 0, 0, 1, 0, 0, 0, 0]\n",
    "    \n",
    "    logtick = foldl(vcat, ([10.0^k*x for x in nums if xmin ≤ 10.0^k*x ≤ xmax] for k in a:b))\n",
    "    logticklabel_a = foldl(vcat,\n",
    "        ([mask[i] ? string(round(10.0^k*x; digits=-k)) : \"\"\n",
    "                for (i, x) in enumerate(nums) if xmin ≤ 10.0^k*x ≤ xmax]\n",
    "            for k in a:-1))\n",
    "    logticklabel_b = foldl(vcat,\n",
    "        ([mask[i] ? string(10^k*x) : \"\"\n",
    "                for (i, x) in enumerate(nums) if xmin ≤ 10.0^k*x ≤ xmax]\n",
    "            for k in 0:b))\n",
    "    logticklabel = vcat(logticklabel_a, logticklabel_b)\n",
    "    (logtick, logticklabel)\n",
    "end\n",
    "\n",
    "logtick()"
   ]
  },
  {
   "cell_type": "code",
   "execution_count": 3,
   "id": "dec1df22",
   "metadata": {},
   "outputs": [
    {
     "data": {
      "text/plain": [
       "is_symmetric_Hypergeometric (generic function with 1 method)"
      ]
     },
     "execution_count": 3,
     "metadata": {},
     "output_type": "execute_result"
    }
   ],
   "source": [
    "function is_symmetric_Hypergeometric(s, f, n)\n",
    "    fnchg = FisherNoncentralHypergeometric(s, f, n, 1.0)\n",
    "    xmin, xmax = extrema(fnchg)\n",
    "    for i in 0:(xmax-xmin)÷2\n",
    "        pdf(fnchg, xmin+i) != pdf(fnchg, xmax-i) && return false\n",
    "    end\n",
    "    true\n",
    "end"
   ]
  },
  {
   "cell_type": "code",
   "execution_count": 4,
   "id": "4ab60c90",
   "metadata": {},
   "outputs": [
    {
     "name": "stdout",
     "output_type": "stream",
     "text": [
      "length(mn) = 246\n",
      "mn = [(6, 6), (7, 3), (7, 6), (7, 7), (7, 8), (7, 12), (8, 5), (8, 7), (8, 8), (8, 9), (9, 6), (9, 7), (9, 8), (9, 11), (9, 12), (9, 13), (9, 14), (9, 15), (10, 2), (10, 4), (10, 5), (10, 8), (10, 9), (10, 12), (10, 13), (10, 15), (10, 18), (11, 5), (11, 6), (11, 7), (11, 8), (11, 10), (11, 11), (11, 12), (11, 14), (11, 16), (11, 17), (11, 18), (11, 19), (11, 20), (12, 2), (12, 4), (12, 5), (12, 6), (12, 7), (12, 8), (12, 9), (12, 10), (12, 11), (12, 12), (12, 14), (12, 15), (12, 16), (12, 17), (12, 18), (12, 22), (13, 3), (13, 4), (13, 6), (13, 7), (13, 8), (13, 9), (13, 10), (13, 12), (13, 13), (13, 14), (13, 16), (13, 17), (13, 18), (13, 19), (13, 20), (13, 22), (13, 23), (14, 4), (14, 6), (14, 7), (14, 8), (14, 9), (14, 10), (14, 11), (14, 13), (14, 14), (14, 15), (14, 17), (14, 18), (14, 19), (14, 20), (14, 21), (14, 22), (14, 23), (14, 24), (14, 26), (15, 3), (15, 5), (15, 6), (15, 7), (15, 8), (15, 9), (15, 10), (15, 11), (15, 12), (15, 13), (15, 14), (15, 15), (15, 16), (15, 17), (15, 18), (15, 19), (15, 20), (15, 21), (15, 22), (15, 23), (15, 24), (15, 25), (15, 27), (16, 6), (16, 7), (16, 9), (16, 10), (16, 11), (16, 12), (16, 13), (16, 14), (16, 15), (16, 16), (16, 17), (16, 18), (16, 19), (16, 20), (16, 21), (16, 22), (16, 23), (16, 24), (16, 25), (16, 26), (16, 27), (16, 29), (17, 4), (17, 5), (17, 8), (17, 10), (17, 11), (17, 12), (17, 13), (17, 14), (17, 15), (17, 16), (17, 17), (17, 18), (17, 19), (17, 20), (17, 21), (17, 22), (17, 23), (17, 24), (17, 25), (17, 26), (17, 27), (17, 28), (17, 29), (17, 30), (17, 31), (18, 5), (18, 6), (18, 7), (18, 8), (18, 9), (18, 10), (18, 11), (18, 12), (18, 13), (18, 14), (18, 15), (18, 16), (18, 17), (18, 18), (18, 19), (18, 20), (18, 21), (18, 22), (18, 23), (18, 24), (18, 25), (18, 26), (18, 27), (18, 28), (18, 29), (18, 31), (18, 32), (19, 4), (19, 6), (19, 7), (19, 8), (19, 9), (19, 10), (19, 11), (19, 12), (19, 13), (19, 14), (19, 15), (19, 16), (19, 17), (19, 18), (19, 19), (19, 20), (19, 21), (19, 22), (19, 23), (19, 24), (19, 25), (19, 26), (19, 27), (19, 28), (19, 29), (19, 30), (19, 31), (19, 34), (20, 2), (20, 5), (20, 7), (20, 8), (20, 10), (20, 11), (20, 12), (20, 13), (20, 15), (20, 16), (20, 17), (20, 18), (20, 19), (20, 20), (20, 21), (20, 22), (20, 23), (20, 24), (20, 25), (20, 26), (20, 27), (20, 28), (20, 29), (20, 30), (20, 31), (20, 32), (20, 34), (20, 36), (20, 37)]\n"
     ]
    }
   ],
   "source": [
    "mn = [(m, n) for m in 1:20 for n in 1:2m-1 if !is_symmetric_Hypergeometric(m, m, n)]\n",
    "@show length(mn)\n",
    "@show mn;"
   ]
  },
  {
   "cell_type": "code",
   "execution_count": 5,
   "id": "e400127d",
   "metadata": {},
   "outputs": [
    {
     "name": "stdout",
     "output_type": "stream",
     "text": [
      "(m, n) = mn[20] = (10, 4)\n"
     ]
    },
    {
     "data": {
      "text/plain": [
       "5-element Vector{Tuple{Int64, Float64}}:\n",
       " (0, 0.043343653250773995)\n",
       " (1, 0.2476780185758514)\n",
       " (2, 0.4179566563467493)\n",
       " (3, 0.2476780185758514)\n",
       " (4, 0.04334365325077399)"
      ]
     },
     "execution_count": 5,
     "metadata": {},
     "output_type": "execute_result"
    }
   ],
   "source": [
    "@show m, n = mn[20]\n",
    "fnchg = FisherNoncentralHypergeometric(m, m, n, 1.0)\n",
    "[(k, pdf(fnchg, k)) for k in support(fnchg)]"
   ]
  },
  {
   "cell_type": "code",
   "execution_count": 6,
   "id": "1cf66e06",
   "metadata": {},
   "outputs": [
    {
     "data": {
      "text/plain": [
       "pvalue_fisher_test_R (generic function with 1 method)"
      ]
     },
     "execution_count": 6,
     "metadata": {},
     "output_type": "execute_result"
    }
   ],
   "source": [
    "function pvalue_less_equal__J(a, b, c, d; OR = 1.0)\n",
    "    fnchg = FisherNoncentralHypergeometric(a+b, c+d, a+c, OR)\n",
    "    sum(pdf(fnchg, x) for x in support(fnchg) if pdf(fnchg, x) ≤ pdf(fnchg, a))\n",
    "end\n",
    "\n",
    "x ⪅ y = x < y || x ≈ y\n",
    "\n",
    "function pvalue_less_approx_J(a, b, c, d; OR = 1.0)\n",
    "    fnchg = FisherNoncentralHypergeometric(a+b, c+d, a+c, OR)\n",
    "    sum(pdf(fnchg, x) for x in support(fnchg) if pdf(fnchg, x) ⪅ pdf(fnchg, a))\n",
    "end\n",
    "\n",
    "function pvalue_fisher_test_R(a, b, c, d)\n",
    "    rcopy(stats.fisher_test([a b; c d]))[:p_value]\n",
    "end"
   ]
  },
  {
   "cell_type": "code",
   "execution_count": 7,
   "id": "33970355",
   "metadata": {},
   "outputs": [
    {
     "name": "stdout",
     "output_type": "stream",
     "text": [
      "(m, n) = mn[20] = (10, 4)\n",
      "(a, b, c, d) = (4, 6, 0, 10)\n",
      "pvalue_less_equal__J(a, b, c, d) = 0.04334365325077399\n",
      "pvalue_less_approx_J(a, b, c, d) = 0.08668730650154799\n",
      "pvalue_fisher_test_R(a, b, c, d) = 0.08668730650154799\n"
     ]
    }
   ],
   "source": [
    "@show m, n = mn[20]\n",
    "a = 4\n",
    "b, c, d = m-a, n-a, m+a-n\n",
    "@show a, b, c, d\n",
    "@show pvalue_less_equal__J(a, b, c, d)\n",
    "@show pvalue_less_approx_J(a, b, c, d)\n",
    "@show pvalue_fisher_test_R(a, b, c, d);"
   ]
  },
  {
   "cell_type": "code",
   "execution_count": 8,
   "id": "a605f5a0",
   "metadata": {},
   "outputs": [
    {
     "name": "stdout",
     "output_type": "stream",
     "text": [
      "(m, n) = mn[23] = (10, 9)\n"
     ]
    },
    {
     "data": {
      "text/plain": [
       "10-element Vector{Tuple{Int64, Float64}}:\n",
       " (0, 5.953798523457967e-5)\n",
       " (1, 0.002679209335556085)\n",
       " (2, 0.032150512026673024)\n",
       " (3, 0.15003572279114077)\n",
       " (4, 0.3150750178613955)\n",
       " (5, 0.3150750178613955)\n",
       " (6, 0.15003572279114072)\n",
       " (7, 0.03215051202667301)\n",
       " (8, 0.0026792093355560843)\n",
       " (9, 5.9537985234579646e-5)"
      ]
     },
     "execution_count": 8,
     "metadata": {},
     "output_type": "execute_result"
    }
   ],
   "source": [
    "@show m, n = mn[23]\n",
    "fnchg = FisherNoncentralHypergeometric(m, m, n, 1.0)\n",
    "[(k, pdf(fnchg, k)) for k in support(fnchg)]"
   ]
  },
  {
   "cell_type": "code",
   "execution_count": 9,
   "id": "e858c4c0",
   "metadata": {},
   "outputs": [
    {
     "name": "stdout",
     "output_type": "stream",
     "text": [
      "(m, n) = mn[23] = (10, 9)\n",
      "(a, b, c, d) = (7, 3, 2, 8)\n",
      "pvalue_less_equal__J(a, b, c, d) = 0.03762800666825434\n",
      "pvalue_less_approx_J(a, b, c, d) = 0.06977851869492735\n",
      "pvalue_fisher_test_R(a, b, c, d) = 0.06977851869492734\n"
     ]
    }
   ],
   "source": [
    "@show m, n = mn[23]\n",
    "a = 7\n",
    "b, c, d = m-a, n-a, m+a-n\n",
    "@show a, b, c, d\n",
    "@show pvalue_less_equal__J(a, b, c, d)\n",
    "@show pvalue_less_approx_J(a, b, c, d)\n",
    "@show pvalue_fisher_test_R(a, b, c, d);"
   ]
  },
  {
   "cell_type": "code",
   "execution_count": 10,
   "id": "0a7a3c49",
   "metadata": {},
   "outputs": [
    {
     "data": {
      "text/plain": [
       "9.333333333333334"
      ]
     },
     "execution_count": 10,
     "metadata": {},
     "output_type": "execute_result"
    }
   ],
   "source": [
    "ORhat = (a/b)/(c/d)"
   ]
  },
  {
   "cell_type": "code",
   "execution_count": 11,
   "id": "7a932180",
   "metadata": {},
   "outputs": [
    {
     "data": {
      "image/png": "[encoded data removed]"
     },
     "execution_count": 11,
     "metadata": {},
     "output_type": "execute_result"
    }
   ],
   "source": [
    "plot(x -> pvalue_less_equal__J(a, b, c, d; OR = x), 0.1, 500; label=\"\")\n",
    "plot!(x -> pvalue_less_approx_J(a, b, c, d; OR = x), 0.1, 500; label=\"\", ls=:dash)\n",
    "vline!([ORhat]; label=\"\")\n",
    "plot!(xscale=:log10, xtick=logtick(xlim=(0.1, 500)), ytick=0:0.1:1)"
   ]
  },
  {
   "cell_type": "code",
   "execution_count": 12,
   "id": "490252d7",
   "metadata": {},
   "outputs": [
    {
     "data": {
      "image/png": "[encoded data removed]"
     },
     "execution_count": 12,
     "metadata": {},
     "output_type": "execute_result"
    }
   ],
   "source": [
    "xs = 0.99:0.0005:1.01\n",
    "plot(xs, x -> pvalue_less_equal__J(a, b, c, d; OR = x); label=\"\")\n",
    "plot!(xs, x -> pvalue_less_approx_J(a, b, c, d; OR = x); label=\"\", ls=:dash)\n",
    "plot!(ytick=0:0.005:1)"
   ]
  },
  {
   "cell_type": "code",
   "execution_count": 13,
   "id": "f05840ca",
   "metadata": {},
   "outputs": [
    {
     "name": "stdout",
     "output_type": "stream",
     "text": [
      "(m, n) = (20, 20)\n"
     ]
    },
    {
     "data": {
      "text/plain": [
       "21-element Vector{Tuple{Int64, Float64}}:\n",
       " (0, 7.254444551924844e-12)\n",
       " (1, 2.9017778207699377e-9)\n",
       " (2, 2.6188544832448686e-7)\n",
       " (3, 9.427876139681528e-6)\n",
       " (4, 0.0001702910127729976)\n",
       " (5, 0.0017437799707954954)\n",
       " (6, 0.010898624817471846)\n",
       " (7, 0.043594499269887385)\n",
       " (8, 0.11511672463454636)\n",
       " (9, 0.2046519549058602)\n",
       " (10, 0.24762886543609083)\n",
       " (11, 0.2046519549058602)\n",
       " (12, 0.11511672463454635)\n",
       " (13, 0.04359449926988738)\n",
       " (14, 0.010898624817471845)\n",
       " (15, 0.0017437799707954952)\n",
       " (16, 0.00017029101277299757)\n",
       " (17, 9.427876139681526e-6)\n",
       " (18, 2.618854483244868e-7)\n",
       " (19, 2.901777820769937e-9)\n",
       " (20, 7.254444551924842e-12)"
      ]
     },
     "execution_count": 13,
     "metadata": {},
     "output_type": "execute_result"
    }
   ],
   "source": [
    "m, n = 20, 20\n",
    "@show m, n\n",
    "fnchg = FisherNoncentralHypergeometric(m, m, n, 1.0)\n",
    "[(k, pdf(fnchg, k)) for k in support(fnchg)]"
   ]
  },
  {
   "cell_type": "code",
   "execution_count": 14,
   "id": "a13d3c33",
   "metadata": {},
   "outputs": [
    {
     "name": "stdout",
     "output_type": "stream",
     "text": [
      "(m, n) = (20, 20)\n",
      "(a, b, c, d) = (13, 7, 7, 13)\n",
      "pvalue_less_equal__J(a, b, c, d) = 0.0692392762132086\n",
      "pvalue_less_approx_J(a, b, c, d) = 0.11283377548309599\n",
      "pvalue_fisher_test_R(a, b, c, d) = 0.11283377548309592\n"
     ]
    }
   ],
   "source": [
    "m, n = 20, 20\n",
    "@show m, n\n",
    "a = 13\n",
    "b, c, d = m-a, n-a, m+a-n\n",
    "@show a, b, c, d\n",
    "@show pvalue_less_equal__J(a, b, c, d)\n",
    "@show pvalue_less_approx_J(a, b, c, d)\n",
    "@show pvalue_fisher_test_R(a, b, c, d);"
   ]
  },
  {
   "cell_type": "code",
   "execution_count": 15,
   "id": "97acb9f3",
   "metadata": {},
   "outputs": [
    {
     "data": {
      "text/plain": [
       "3.448979591836735"
      ]
     },
     "execution_count": 15,
     "metadata": {},
     "output_type": "execute_result"
    }
   ],
   "source": [
    "ORhat = (a/b)/(c/d)"
   ]
  },
  {
   "cell_type": "code",
   "execution_count": 16,
   "id": "341d985a",
   "metadata": {},
   "outputs": [
    {
     "data": {
      "image/png": "[encoded data removed]"
     },
     "execution_count": 16,
     "metadata": {},
     "output_type": "execute_result"
    }
   ],
   "source": [
    "plot(x -> pvalue_less_equal__J(a, b, c, d; OR = x), 0.3, 30; label=\"\")\n",
    "plot!(x -> pvalue_less_approx_J(a, b, c, d; OR = x), 0.3, 30; label=\"\", ls=:dash)\n",
    "vline!([ORhat]; label=\"\")\n",
    "plot!(xscale=:log10, xtick=logtick(xlim=(0.1, 30)), ytick=0:0.1:1)"
   ]
  },
  {
   "cell_type": "code",
   "execution_count": 17,
   "id": "44316760",
   "metadata": {},
   "outputs": [
    {
     "data": {
      "image/png": "[encoded data removed]"
     },
     "execution_count": 17,
     "metadata": {},
     "output_type": "execute_result"
    }
   ],
   "source": [
    "xs = 0.99:0.0005:1.01\n",
    "plot(xs, x -> pvalue_less_equal__J(a, b, c, d; OR = x); label=\"\")\n",
    "plot!(xs, x -> pvalue_less_approx_J(a, b, c, d; OR = x); label=\"\", ls=:dash)\n",
    "plot!(ytick=0:0.005:1)"
   ]
  },
  {
   "cell_type": "code",
   "execution_count": null,
   "id": "b9185102",
   "metadata": {},
   "outputs": [],
   "source": []
  }
 ],
 "metadata": {
  "@webio": {
   "lastCommId": null,
   "lastKernelId": null
  },
  "jupytext": {
   "encoding": "# -*- coding: utf-8 -*-",
   "formats": "ipynb,jl:hydrogen"
  },
  "kernelspec": {
   "display_name": "Julia 1.7.3",
   "language": "julia",
   "name": "julia-1.7"
  },
  "language_info": {
   "file_extension": ".jl",
   "mimetype": "application/julia",
   "name": "julia",
   "version": "1.7.3"
  },
  "toc": {
   "base_numbering": 1,
   "nav_menu": {},
   "number_sections": false,
   "sideBar": true,
   "skip_h1_title": true,
   "title_cell": "Table of Contents",
   "title_sidebar": "Contents",
   "toc_cell": false,
   "toc_position": {},
   "toc_section_display": true,
   "toc_window_display": false
  }
 },
 "nbformat": 4,
 "nbformat_minor": 5
}
