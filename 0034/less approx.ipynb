{
 "cells": [
  {
   "cell_type": "code",
   "execution_count": 88,
   "id": "c5fb6d54-7fb0-4ab5-9f62-25a99caf5bad",
   "metadata": {},
   "outputs": [],
   "source": [
    "using Distributions\n",
    "using RCall\n",
    "@rimport stats as stats"
   ]
  },
  {
   "cell_type": "code",
   "execution_count": 34,
   "id": "156213fa-8c07-42f2-9eb1-d0b3a8625cfb",
   "metadata": {},
   "outputs": [
    {
     "data": {
      "text/plain": [
       "is_symmetric_Hypergeometric (generic function with 1 method)"
      ]
     },
     "execution_count": 34,
     "metadata": {},
     "output_type": "execute_result"
    }
   ],
   "source": [
    "function is_symmetric_Hypergeometric(s, f, n)\n",
    "    fnchg = FisherNoncentralHypergeometric(s, f, n, 1.0)\n",
    "    xmin, xmax = extrema(fnchg)\n",
    "    for i in 0:(xmax-xmin)÷2\n",
    "        pdf(fnchg, xmin+i) != pdf(fnchg, xmax-i) && return false\n",
    "    end\n",
    "    true\n",
    "end"
   ]
  },
  {
   "cell_type": "code",
   "execution_count": 83,
   "id": "aef2bd8a-2340-42c9-87ff-e496f5692e7b",
   "metadata": {},
   "outputs": [
    {
     "name": "stdout",
     "output_type": "stream",
     "text": [
      "mn = [(6, 6), (7, 3), (7, 6), (7, 7), (7, 8), (7, 12), (8, 5), (8, 7), (8, 8), (8, 9), (9, 6), (9, 7), (9, 8), (9, 11), (9, 12), (9, 13), (9, 14), (9, 15), (10, 2), (10, 4), (10, 5), (10, 8), (10, 9), (10, 12), (10, 13), (10, 15), (10, 18)]\n"
     ]
    }
   ],
   "source": [
    "mn = [(m, n) for m in 1:10 for n in 1:2m-1 if !is_symmetric_Hypergeometric(m, m, n)]\n",
    "@show mn;"
   ]
  },
  {
   "cell_type": "code",
   "execution_count": 84,
   "id": "91679363-284f-4859-b84e-09a431bc7c21",
   "metadata": {},
   "outputs": [
    {
     "name": "stdout",
     "output_type": "stream",
     "text": [
      "(m, n) = mn[20] = (10, 4)\n"
     ]
    },
    {
     "data": {
      "text/plain": [
       "5-element Vector{Tuple{Int64, Float64}}:\n",
       " (0, 0.043343653250773995)\n",
       " (1, 0.2476780185758514)\n",
       " (2, 0.4179566563467493)\n",
       " (3, 0.2476780185758514)\n",
       " (4, 0.04334365325077399)"
      ]
     },
     "execution_count": 84,
     "metadata": {},
     "output_type": "execute_result"
    }
   ],
   "source": [
    "@show m, n = mn[20]\n",
    "fnchg = FisherNoncentralHypergeometric(m, m, n, 1.0)\n",
    "[(k, pdf(fnchg, k)) for k in support(fnchg)]"
   ]
  },
  {
   "cell_type": "code",
   "execution_count": 95,
   "id": "4ebb9a92-0882-4b2d-a354-c371317e6e76",
   "metadata": {},
   "outputs": [
    {
     "data": {
      "text/plain": [
       "pvalue_fisher_test (generic function with 1 method)"
      ]
     },
     "execution_count": 95,
     "metadata": {},
     "output_type": "execute_result"
    }
   ],
   "source": [
    "function pvalue_less_equal_(a, b, c, d)\n",
    "    fnchg = FisherNoncentralHypergeometric(a+b, c+d, a+c, 1.0)\n",
    "    sum(pdf(fnchg, x) for x in support(fnchg) if pdf(fnchg, x) ≤ pdf(fnchg, a))\n",
    "end\n",
    "\n",
    "x ⪅ y = x < y || x ≈ y\n",
    "\n",
    "function pvalue_less_approx(a, b, c, d)\n",
    "    fnchg = FisherNoncentralHypergeometric(a+b, c+d, a+c, 1.0)\n",
    "    sum(pdf(fnchg, x) for x in support(fnchg) if pdf(fnchg, x) ⪅ pdf(fnchg, a))\n",
    "end\n",
    "\n",
    "function pvalue_fisher_test(a, b, c, d)\n",
    "    rcopy(stats.fisher_test([a b; c d]))[:p_value]\n",
    "end"
   ]
  },
  {
   "cell_type": "code",
   "execution_count": 96,
   "id": "65b13316-527c-4904-bb31-6da9754999df",
   "metadata": {},
   "outputs": [
    {
     "name": "stdout",
     "output_type": "stream",
     "text": [
      "(m, n) = mn[20] = (10, 4)\n",
      "(a, b, c, d) = (4, 6, 0, 10)\n",
      "pvalue_less_equal_(a, b, c, d) = 0.04334365325077399\n",
      "pvalue_less_approx(a, b, c, d) = 0.08668730650154799\n",
      "pvalue_fisher_test(a, b, c, d) = 0.08668730650154799\n"
     ]
    }
   ],
   "source": [
    "@show m, n = mn[20]\n",
    "a = 4\n",
    "b, c, d = m-a, n-a, m+a-n\n",
    "@show a, b, c, d\n",
    "@show pvalue_less_equal_(a, b, c, d)\n",
    "@show pvalue_less_approx(a, b, c, d)\n",
    "@show pvalue_fisher_test(a, b, c, d);"
   ]
  },
  {
   "cell_type": "code",
   "execution_count": null,
   "id": "23e49986-53ab-40e9-aa55-2168076ecefd",
   "metadata": {},
   "outputs": [],
   "source": []
  }
 ],
 "metadata": {
  "jupytext": {
   "formats": "ipynb,jl:hydrogen"
  },
  "kernelspec": {
   "display_name": "Julia 1.7.3",
   "language": "julia",
   "name": "julia-1.7"
  },
  "language_info": {
   "file_extension": ".jl",
   "mimetype": "application/julia",
   "name": "julia",
   "version": "1.7.3"
  }
 },
 "nbformat": 4,
 "nbformat_minor": 5
}
