{
 "cells": [
  {
   "cell_type": "code",
   "execution_count": 1,
   "id": "0c3e2995-248f-4b50-bd34-66bf962b0f43",
   "metadata": {},
   "outputs": [],
   "source": [
    "using BenchmarkTools"
   ]
  },
  {
   "cell_type": "code",
   "execution_count": 2,
   "id": "15619aaf-9cf0-4fd4-b841-aaca4ecd2d4b",
   "metadata": {},
   "outputs": [
    {
     "data": {
      "text/plain": [
       "mycombinations"
      ]
     },
     "execution_count": 2,
     "metadata": {},
     "output_type": "execute_result"
    }
   ],
   "source": [
    "\"\"\"\n",
    "    nextcombination!(n, t, c = typeof(t)[min(t-1, i) for i in 1:t])\n",
    "\n",
    "`[1,2,…,n]` からの重複無しの `t` 個の組み合わせ `c` をすべて生成したい.\n",
    "\n",
    "`nextcombination!(n, t, c)` は配列で表現された組み合わせ `c` をその次の組み合わせに書き換えて, `c` を返す.\n",
    "\n",
    "初期条件を `c = typeof(t)[min(t-1, i) for i in 1:t]` にすると, `binomial(n, t)` 回の `nextcombination!(n, t, c)` ですべての組み合わせが生成される.\n",
    "\"\"\"\n",
    "function nextcombination!(n, t, c = typeof(t)[min(t-1, i) for i in 1:t])\n",
    "    t == 0 && return c\n",
    "    @inbounds for i in t:-1:1\n",
    "        c[i] += 1\n",
    "        c[i] > (n - (t - i)) && continue\n",
    "        for j in i+1:t\n",
    "            c[j] = c[j-1] + 1\n",
    "        end\n",
    "        break\n",
    "    end\n",
    "    c\n",
    "end\n",
    "\n",
    "\"\"\"\n",
    "    mycombinations!(n::Integer, t, c)\n",
    "\n",
    "事前に割り当てられた組み合わせを格納する配列 `c` を使って, `[1,2,…,n]` からの重複無しの `t` 個の組み合わせのすべてを生成する生成子を返す.\n",
    "\"\"\"\n",
    "function mycombinations!(n::Integer, t, c)\n",
    "    for i in 1:t c[i] = min(t - 1, i) end\n",
    "    (nextcombination!(n, t, c) for _ in 1:binomial(n, t))\n",
    "end\n",
    "\n",
    "\"\"\"\n",
    "    mycombinations!(a, t, c)\n",
    "\n",
    "事前に割り当てられた組み合わせを格納する配列 `c` を使って, 配列 `a` からのインデックスに重複がない `t` 個の組み合わせのすべてを生成する生成子を返す.\n",
    "\"\"\"\n",
    "function mycombinations!(a, t, c)\n",
    "    t < 0 && (t = length(a) + 1)\n",
    "    (view(a, indices) for indices in mycombinations!(length(a), t, c))\n",
    "end\n",
    "\n",
    "\"\"\"\n",
    "    mycombinations(x, t)\n",
    "\n",
    "`x` が整数ならば `[1,2,…,x]` からの, `x` が配列ならば `x` からのインデックスに重複がない `t` 個の組み合わせのすべてを生成する生成子を返す.\n",
    "\"\"\"\n",
    "mycombinations(x, t) = mycombinations!(x, t, Vector{typeof(t)}(undef, t))"
   ]
  },
  {
   "cell_type": "code",
   "execution_count": 3,
   "id": "75247a28-82e2-44d2-82c6-affa2b1cad56",
   "metadata": {},
   "outputs": [
    {
     "data": {
      "text/latex": [
       "\\begin{verbatim}\n",
       "nextcombination!(n, t, c = typeof(t)[min(t-1, i) for i in 1:t])\n",
       "\\end{verbatim}\n",
       "\\texttt{[1,2,…,n]} からの重複無しの \\texttt{t} 個の組み合わせ \\texttt{c} をすべて生成したい.\n",
       "\n",
       "\\texttt{nextcombination!(n, t, c)} は配列で表現された組み合わせ \\texttt{c} をその次の組み合わせに書き換えて, \\texttt{c} を返す.\n",
       "\n",
       "初期条件を \\texttt{c = typeof(t)[min(t-1, i) for i in 1:t]} にすると, \\texttt{binomial(n, t)} 回の \\texttt{nextcombination!(n, t, c)} ですべての組み合わせが生成される.\n",
       "\n"
      ],
      "text/markdown": [
       "```\n",
       "nextcombination!(n, t, c = typeof(t)[min(t-1, i) for i in 1:t])\n",
       "```\n",
       "\n",
       "`[1,2,…,n]` からの重複無しの `t` 個の組み合わせ `c` をすべて生成したい.\n",
       "\n",
       "`nextcombination!(n, t, c)` は配列で表現された組み合わせ `c` をその次の組み合わせに書き換えて, `c` を返す.\n",
       "\n",
       "初期条件を `c = typeof(t)[min(t-1, i) for i in 1:t]` にすると, `binomial(n, t)` 回の `nextcombination!(n, t, c)` ですべての組み合わせが生成される.\n"
      ],
      "text/plain": [
       "\u001b[36m  nextcombination!(n, t, c = typeof(t)[min(t-1, i) for i in 1:t])\u001b[39m\n",
       "\n",
       "  \u001b[36m[1,2,…,n]\u001b[39m からの重複無しの \u001b[36mt\u001b[39m 個の組み合わせ \u001b[36mc\u001b[39m をすべて生成したい.\n",
       "\n",
       "  \u001b[36mnextcombination!(n, t, c)\u001b[39m は配列で表現された組み合わせ \u001b[36mc\u001b[39m をその次の組み合わせに書き換えて, \u001b[36mc\u001b[39m を返す.\n",
       "\n",
       "  初期条件を \u001b[36mc = typeof(t)[min(t-1, i) for i in 1:t]\u001b[39m にすると, \u001b[36mbinomial(n, t)\u001b[39m 回の\n",
       "  \u001b[36mnextcombination!(n, t, c)\u001b[39m ですべての組み合わせが生成される."
      ]
     },
     "execution_count": 3,
     "metadata": {},
     "output_type": "execute_result"
    }
   ],
   "source": [
    "@doc nextcombination!"
   ]
  },
  {
   "cell_type": "code",
   "execution_count": 4,
   "id": "6fe68312-49b0-40cf-beb8-88c32a6d515c",
   "metadata": {},
   "outputs": [
    {
     "data": {
      "text/latex": [
       "\\begin{verbatim}\n",
       "mycombinations!(n::Integer, t, c)\n",
       "\\end{verbatim}\n",
       "事前に割り当てられた組み合わせを格納する配列 \\texttt{c} を使って, \\texttt{[1,2,…,n]} からの重複無しの \\texttt{t} 個の組み合わせのすべてを生成する生成子を返す.\n",
       "\n",
       "\\begin{verbatim}\n",
       "mycombinations!(a, t, c)\n",
       "\\end{verbatim}\n",
       "事前に割り当てられた組み合わせを格納する配列 \\texttt{c} を使って, 配列 \\texttt{a} からのインデックスに重複がない \\texttt{t} 個の組み合わせのすべてを生成する生成子を返す.\n",
       "\n"
      ],
      "text/markdown": [
       "```\n",
       "mycombinations!(n::Integer, t, c)\n",
       "```\n",
       "\n",
       "事前に割り当てられた組み合わせを格納する配列 `c` を使って, `[1,2,…,n]` からの重複無しの `t` 個の組み合わせのすべてを生成する生成子を返す.\n",
       "\n",
       "```\n",
       "mycombinations!(a, t, c)\n",
       "```\n",
       "\n",
       "事前に割り当てられた組み合わせを格納する配列 `c` を使って, 配列 `a` からのインデックスに重複がない `t` 個の組み合わせのすべてを生成する生成子を返す.\n"
      ],
      "text/plain": [
       "\u001b[36m  mycombinations!(n::Integer, t, c)\u001b[39m\n",
       "\n",
       "  事前に割り当てられた組み合わせを格納する配列 \u001b[36mc\u001b[39m を使って, \u001b[36m[1,2,…,n]\u001b[39m からの重複無しの \u001b[36mt\u001b[39m 個の組み合わせのすべてを生成する生成子を返す.\n",
       "\n",
       "\u001b[36m  mycombinations!(a, t, c)\u001b[39m\n",
       "\n",
       "  事前に割り当てられた組み合わせを格納する配列 \u001b[36mc\u001b[39m を使って, 配列 \u001b[36ma\u001b[39m からのインデックスに重複がない \u001b[36mt\u001b[39m\n",
       "  個の組み合わせのすべてを生成する生成子を返す."
      ]
     },
     "execution_count": 4,
     "metadata": {},
     "output_type": "execute_result"
    }
   ],
   "source": [
    "@doc mycombinations!"
   ]
  },
  {
   "cell_type": "code",
   "execution_count": 5,
   "id": "687ec745-0e29-44d0-a0cd-2d6439aacf9a",
   "metadata": {},
   "outputs": [
    {
     "data": {
      "text/latex": [
       "\\begin{verbatim}\n",
       "mycombinations(x, t)\n",
       "\\end{verbatim}\n",
       "\\texttt{x} が整数ならば \\texttt{[1,2,…,x]} からの, \\texttt{x} が配列ならば \\texttt{x} からのインデックスに重複がない \\texttt{t} 個の組み合わせのすべてを生成する生成子を返す.\n",
       "\n"
      ],
      "text/markdown": [
       "```\n",
       "mycombinations(x, t)\n",
       "```\n",
       "\n",
       "`x` が整数ならば `[1,2,…,x]` からの, `x` が配列ならば `x` からのインデックスに重複がない `t` 個の組み合わせのすべてを生成する生成子を返す.\n"
      ],
      "text/plain": [
       "\u001b[36m  mycombinations(x, t)\u001b[39m\n",
       "\n",
       "  \u001b[36mx\u001b[39m が整数ならば \u001b[36m[1,2,…,x]\u001b[39m からの, \u001b[36mx\u001b[39m が配列ならば \u001b[36mx\u001b[39m からのインデックスに重複がない \u001b[36mt\u001b[39m 個の組み合わせのすべてを生成する生成子を返す."
      ]
     },
     "execution_count": 5,
     "metadata": {},
     "output_type": "execute_result"
    }
   ],
   "source": [
    "@doc mycombinations"
   ]
  },
  {
   "cell_type": "code",
   "execution_count": 6,
   "id": "83ffb54a-d719-4b48-a4ca-3d8388f432f0",
   "metadata": {},
   "outputs": [
    {
     "name": "stdout",
     "output_type": "stream",
     "text": [
      "binomial(5, 3) = 10\n",
      "c = typeof(t)[min(t - 1, i) for i = 1:t] = [1, 2, 2]\n",
      "(1, nextcombination!(5, 3, c)) = (1, [1, 2, 3])\n",
      "(2, nextcombination!(5, 3, c)) = (2, [1, 2, 4])\n",
      "(3, nextcombination!(5, 3, c)) = (3, [1, 2, 5])\n",
      "(4, nextcombination!(5, 3, c)) = (4, [1, 3, 4])\n",
      "(5, nextcombination!(5, 3, c)) = (5, [1, 3, 5])\n",
      "(6, nextcombination!(5, 3, c)) = (6, [1, 4, 5])\n",
      "(7, nextcombination!(5, 3, c)) = (7, [2, 3, 4])\n",
      "(8, nextcombination!(5, 3, c)) = (8, [2, 3, 5])\n",
      "(9, nextcombination!(5, 3, c)) = (9, [2, 4, 5])\n",
      "(10, nextcombination!(5, 3, c)) = (10, [3, 4, 5])\n",
      "(11, nextcombination!(5, 3, c)) = (11, [4, 5, 6])\n",
      "(12, nextcombination!(5, 3, c)) = (12, [5, 6, 7])\n"
     ]
    }
   ],
   "source": [
    "# nextcombination!(n, t, c) は組み合わせを表す配列 c を次の組み合わせに書き変える.\n",
    "# nextcombination!(n, t, c) の結果は最初の binomial(n, t) 個だけが有効.\n",
    "n, t = 5, 3\n",
    "@eval @show binomial($n, $t)\n",
    "@show c = typeof(t)[min(t-1, i) for i in 1:t]\n",
    "for i in 1:binomial(n, t)+2\n",
    "    @eval @show $i, nextcombination!($n, $t, c)\n",
    "end"
   ]
  },
  {
   "cell_type": "code",
   "execution_count": 7,
   "id": "aa252417-a1d3-449f-b2a9-6fa5efde17f9",
   "metadata": {},
   "outputs": [
    {
     "data": {
      "text/plain": [
       "mytiedrank"
      ]
     },
     "execution_count": 7,
     "metadata": {},
     "output_type": "execute_result"
    }
   ],
   "source": [
    "using StatsBase\n",
    "\n",
    "\"\"\"\n",
    "    mytiedrank(X,\n",
    "        rank = similar(X, Float64),\n",
    "        place = similar(X, Int))\n",
    "\n",
    "配列 `X` 内の値の順位(下から何番目に大きいか)を計算する.\n",
    "\n",
    "値に重複がある場合には同順位にするために順位の平均を順位として採用する.\n",
    "\n",
    "`rank`, `place` は内部で使う配列で, 事前に割り当てておけば, この函数はメモリ割り当てゼロで実行される.  `rank` が返り値になる.\n",
    "\"\"\"\n",
    "function mytiedrank(X,\n",
    "        rank = similar(X, Float64),\n",
    "        place = similar(X, Int))\n",
    "    # Xの要素が整数ならば sortperm(X) を使った方がずっと速い.\n",
    "    # そうなる理由は sortperm は sort! と違って sortperm_int_range も使用するから.\n",
    "    # その代わりに sortperm だとメモリ割り当てが発生する.\n",
    "    # この辺は Base 自体に改善の余地が残っているように思われる.\n",
    "    #place = sortperm(X)\n",
    "    place .= axes(place, 1)\n",
    "    sort!(place; by = i -> @inbounds(X[i]))\n",
    "    StatsBase._tiedrank!(rank, X, place)\n",
    "end"
   ]
  },
  {
   "cell_type": "code",
   "execution_count": 8,
   "id": "3206470c-f46a-4728-804a-cc7bf8dfdf9e",
   "metadata": {},
   "outputs": [
    {
     "data": {
      "text/latex": [
       "\\begin{verbatim}\n",
       "mytiedrank(X,\n",
       "    rank = similar(X, Float64),\n",
       "    place = similar(X, Int))\n",
       "\\end{verbatim}\n",
       "配列 \\texttt{X} 内の値の順位(下から何番目に大きいか)を計算する.\n",
       "\n",
       "値に重複がある場合には同順位にするために順位の平均を順位として採用する.\n",
       "\n",
       "\\texttt{rank}, \\texttt{place} は内部で使う配列で, 事前に割り当てておけば, この函数はメモリ割り当てゼロで実行される.  \\texttt{rank} が返り値になる.\n",
       "\n"
      ],
      "text/markdown": [
       "```\n",
       "mytiedrank(X,\n",
       "    rank = similar(X, Float64),\n",
       "    place = similar(X, Int))\n",
       "```\n",
       "\n",
       "配列 `X` 内の値の順位(下から何番目に大きいか)を計算する.\n",
       "\n",
       "値に重複がある場合には同順位にするために順位の平均を順位として採用する.\n",
       "\n",
       "`rank`, `place` は内部で使う配列で, 事前に割り当てておけば, この函数はメモリ割り当てゼロで実行される.  `rank` が返り値になる.\n"
      ],
      "text/plain": [
       "\u001b[36m  mytiedrank(X,\u001b[39m\n",
       "\u001b[36m      rank = similar(X, Float64),\u001b[39m\n",
       "\u001b[36m      place = similar(X, Int))\u001b[39m\n",
       "\n",
       "  配列 \u001b[36mX\u001b[39m 内の値の順位(下から何番目に大きいか)を計算する.\n",
       "\n",
       "  値に重複がある場合には同順位にするために順位の平均を順位として採用する.\n",
       "\n",
       "  \u001b[36mrank\u001b[39m, \u001b[36mplace\u001b[39m は内部で使う配列で, 事前に割り当てておけば, この函数はメモリ割り当てゼロで実行される. \u001b[36mrank\u001b[39m が返り値になる."
      ]
     },
     "execution_count": 8,
     "metadata": {},
     "output_type": "execute_result"
    }
   ],
   "source": [
    "@doc mytiedrank"
   ]
  },
  {
   "cell_type": "code",
   "execution_count": 9,
   "id": "1c3fb0b4-d2bb-444e-a2be-b4a7dc26253a",
   "metadata": {},
   "outputs": [
    {
     "name": "stdout",
     "output_type": "stream",
     "text": [
      "X = [8.0, 5.0, 1.0, 2.0, 3.0, 3.0, 5.0, 5.0]\n",
      "mytiedrank(X, rank, place) = [8.0, 6.0, 1.0, 2.0, 3.5, 3.5, 6.0, 6.0]\n",
      "mytiedrank(X) = [8.0, 6.0, 1.0, 2.0, 3.5, 3.5, 6.0, 6.0]\n",
      "tiedrank(X) = [8.0, 6.0, 1.0, 2.0, 3.5, 3.5, 6.0, 6.0]\n"
     ]
    },
    {
     "data": {
      "text/plain": [
       "true"
      ]
     },
     "execution_count": 9,
     "metadata": {},
     "output_type": "execute_result"
    }
   ],
   "source": [
    "using StatsBase\n",
    "\n",
    "X = Float64[8, 5, 1, 2, 3, 3, 5, 5]\n",
    "rank = similar(X, Float64)\n",
    "place = similar(X, Int)\n",
    "\n",
    "@show X\n",
    "a = @show mytiedrank(X, rank, place)\n",
    "b = @show mytiedrank(X)\n",
    "c = @show tiedrank(X)\n",
    "a == b == c"
   ]
  },
  {
   "cell_type": "code",
   "execution_count": 10,
   "id": "425f4e40-5d0b-49bf-a187-bfe65b582606",
   "metadata": {},
   "outputs": [
    {
     "name": "stdout",
     "output_type": "stream",
     "text": [
      "  4.765 ms (0 allocations: 0 bytes)\n",
      "  7.458 ms (6 allocations: 1.53 MiB)\n"
     ]
    },
    {
     "data": {
      "text/plain": [
       "true"
      ]
     },
     "execution_count": 10,
     "metadata": {},
     "output_type": "execute_result"
    }
   ],
   "source": [
    "X = rand(1.0:100, 100000)\n",
    "rank = similar(X, Float64)\n",
    "place = similar(X, Int)\n",
    "a = @btime mytiedrank(X, rank, place)\n",
    "b = @btime tiedrank(X)\n",
    "a == b"
   ]
  },
  {
   "cell_type": "code",
   "execution_count": 11,
   "id": "1bbd608d-babf-4c0f-bf78-398b2e6bbf23",
   "metadata": {},
   "outputs": [
    {
     "data": {
      "text/plain": [
       "exact_mann_whitney_u"
      ]
     },
     "execution_count": 11,
     "metadata": {},
     "output_type": "execute_result"
    }
   ],
   "source": [
    "\"\"\"\n",
    "    exact_mann_whitney_u(x, y,\n",
    "        xy = Vector{promote_type(eltype(x), eltype(y))}(undef, length(x)+length(y)),\n",
    "        rankxy = similar(xy, Float64),\n",
    "        place = similar(xy, Int),\n",
    "        c = similar(x, Int, min(length(x), length(y)))\n",
    "    )\n",
    "\n",
    "データ `x, y` に関するMann-WhitneyのU検定のexact版を素朴なアルゴリズム(遅い)で実行し, `(u, u_less, u_greater, p_twosided, p_less, p_greater)` を返す.  ここで,\n",
    "\n",
    "* `u` は `x`, `y` の `length` が小さい方のU統計量達.\n",
    "* `u_less`, `u_greater` はそれぞれ `u`, `length(x)*length(y) - u` の小さい方と大きい方.\n",
    "* `p_twosided` は両側検定のP値.\n",
    "* `p_less` は `u_less` 以下になる確率.\n",
    "* `p_greater` は `u_greater` 以上になる確率.\n",
    "\n",
    "`p_twosided` は `p_less + p_greater` と1の小さい方になる.\n",
    "\n",
    "`xy`, `rankxy`, `place`, `comb` は内部で使用する配列である. それらを事前に割り当てておけば, この函数はメモリ割り当てゼロで実行される.\n",
    "\n",
    "この函数の実装では素朴にすべての組み合わせに関する和を計算する方法を採用しているので, `x`, `y` のサイズが大きくなると極めて遅くなる.  より洗練されたアルゴリズムについては以下の文献を参照せよ.\n",
    "\n",
    "* https://pure.tue.nl/ws/files/1330412/200012964.pdf\n",
    "* https://www.sciencedirect.com/science/article/pii/S1672022916000358\n",
    "\n",
    "注意: この函数が返す両側検定のP値はR言語の [exactRankTests::wilcox.exact](https://rdrr.io/cran/exactRankTests/src/R/wilcox.exact.R) や [coin::wilcox_test](https://rdrr.io/cran/coin/src/R/LocationTests.R) と同じ値になる.  それらは素朴な実装を採用しているこの函数よりも計算が速い.\n",
    "\n",
    "注意: この函数が返す両側検定のP値は [HypothesisTests.jl](https://github.com/JuliaStats/HypothesisTests.jl) の `pvalue(ExactMannWhitneyUTest(x, y))` とは一般に異なる.  そうなる理由は HypothesisTests.jl が `[x; y]` 内の値に重複(tie)がある場合に分布の左右対称性が崩れることに配慮していないからである.  さらに現時点の HypothesisTests.jl (v0.10.10) の `pvalue(ExactMannWhitneyUTest(x, y))` ではメモリ割り当てがかなり発生する.\n",
    "\n",
    "注意: この函数が返す両側検定のP値は [scipy.stats.mannwhitneyu](https://docs.scipy.org/doc/scipy/reference/generated/scipy.stats.mannwhitneyu.html) とは一般に異なる.  その理由は仕様的に \"No correction is made for ties.\" となっているからである.\n",
    "\"\"\"\n",
    "function exact_mann_whitney_u(x, y,\n",
    "        xy = Vector{promote_type(eltype(x), eltype(y))}(undef, length(x)+length(y)),\n",
    "        rankxy = similar(xy, Float64),\n",
    "        place = similar(xy, Int),\n",
    "        comb = similar(x, Int, min(length(x), length(y)))\n",
    "    )\n",
    "    # Assume length(x) ≤ length(y)\n",
    "    if length(x) > length(y)\n",
    "        return exact_mann_whitney_u(y, x, xy, rankxy, place, comb)\n",
    "    end\n",
    "    \n",
    "    # Initialization\n",
    "    m, n = length(x), length(y)\n",
    "    xy[1:m] .= x\n",
    "    xy[m+1:m+n] .= y\n",
    "\n",
    "    # Calculation of ranks\n",
    "    rankxy = mytiedrank(xy, rankxy, place)\n",
    "    \n",
    "    # Calculation of P-values\n",
    "    r = sum(@view rankxy[1:m]) # rank sum of the data x,y\n",
    "    r_less, r_greater = minmax(r, m*(m+n+1) - r)\n",
    "    num_less, num_greater = 0, 0\n",
    "    for c in mycombinations!(rankxy, m, comb)\n",
    "        R = sum(c) # rank sum of the combination c\n",
    "        num_less    += R ≤ r_less\n",
    "        num_greater += R ≥ r_greater\n",
    "    end\n",
    "    p_less, p_greater = (num_less, num_greater) ./ binomial(m+n, m)\n",
    "    p_twosided = min(1, p_less + p_greater)\n",
    "    \n",
    "    # Calculation of U-statistics\n",
    "    u, u_less, u_greater = (r, r_less, r_greater) .- m*(m+1)÷2\n",
    "    \n",
    "    # Returns\n",
    "    u, u_less, u_greater, p_twosided, p_less, p_greater\n",
    "end"
   ]
  },
  {
   "cell_type": "code",
   "execution_count": 12,
   "id": "b7717f69-c770-4fc4-8630-14643f352b84",
   "metadata": {},
   "outputs": [
    {
     "data": {
      "text/latex": [
       "\\begin{verbatim}\n",
       "exact_mann_whitney_u(x, y,\n",
       "    xy = Vector{promote_type(eltype(x), eltype(y))}(undef, length(x)+length(y)),\n",
       "    rankxy = similar(xy, Float64),\n",
       "    place = similar(xy, Int),\n",
       "    c = similar(x, Int, min(length(x), length(y)))\n",
       ")\n",
       "\\end{verbatim}\n",
       "データ \\texttt{x, y} に関するMann-WhitneyのU検定のexact版を素朴なアルゴリズム(遅い)で実行し, \\texttt{(u, u\\_less, u\\_greater, p\\_twosided, p\\_less, p\\_greater)} を返す.  ここで,\n",
       "\n",
       "\\begin{itemize}\n",
       "\\item \\texttt{u} は \\texttt{x}, \\texttt{y} の \\texttt{length} が小さい方のU統計量達.\n",
       "\n",
       "\n",
       "\\item \\texttt{u\\_less}, \\texttt{u\\_greater} はそれぞれ \\texttt{u}, \\texttt{length(x)*length(y) - u} の小さい方と大きい方.\n",
       "\n",
       "\n",
       "\\item \\texttt{p\\_twosided} は両側検定のP値.\n",
       "\n",
       "\n",
       "\\item \\texttt{p\\_less} は \\texttt{u\\_less} 以下になる確率.\n",
       "\n",
       "\n",
       "\\item \\texttt{p\\_greater} は \\texttt{u\\_greater} 以上になる確率.\n",
       "\n",
       "\\end{itemize}\n",
       "\\texttt{p\\_twosided} は \\texttt{p\\_less + p\\_greater} と1の小さい方になる.\n",
       "\n",
       "\\texttt{xy}, \\texttt{rankxy}, \\texttt{place}, \\texttt{comb} は内部で使用する配列である. それらを事前に割り当てておけば, この函数はメモリ割り当てゼロで実行される.\n",
       "\n",
       "この函数の実装では素朴にすべての組み合わせに関する和を計算する方法を採用しているので, \\texttt{x}, \\texttt{y} のサイズが大きくなると極めて遅くなる.  より洗練されたアルゴリズムについては以下の文献を参照せよ.\n",
       "\n",
       "\\begin{itemize}\n",
       "\\item https://pure.tue.nl/ws/files/1330412/200012964.pdf\n",
       "\n",
       "\n",
       "\\item https://www.sciencedirect.com/science/article/pii/S1672022916000358\n",
       "\n",
       "\\end{itemize}\n",
       "注意: この函数が返す両側検定のP値はR言語の \\href{https://rdrr.io/cran/exactRankTests/src/R/wilcox.exact.R}{exactRankTests::wilcox.exact} や \\href{https://rdrr.io/cran/coin/src/R/LocationTests.R}{coin::wilcox\\_test} と同じ値になる.  それらは素朴な実装を採用しているこの函数よりも計算が速い.\n",
       "\n",
       "注意: この函数が返す両側検定のP値は \\href{https://github.com/JuliaStats/HypothesisTests.jl}{HypothesisTests.jl} の \\texttt{pvalue(ExactMannWhitneyUTest(x, y))} とは一般に異なる.  そうなる理由は HypothesisTests.jl が \\texttt{[x; y]} 内の値に重複(tie)がある場合に分布の左右対称性が崩れることに配慮していないからである.  さらに現時点の HypothesisTests.jl (v0.10.10) の \\texttt{pvalue(ExactMannWhitneyUTest(x, y))} ではメモリ割り当てがかなり発生する.\n",
       "\n",
       "注意: この函数が返す両側検定のP値は \\href{https://docs.scipy.org/doc/scipy/reference/generated/scipy.stats.mannwhitneyu.html}{scipy.stats.mannwhitneyu} とは一般に異なる.  その理由は仕様的に \"No correction is made for ties.\" となっているからである.\n",
       "\n"
      ],
      "text/markdown": [
       "```\n",
       "exact_mann_whitney_u(x, y,\n",
       "    xy = Vector{promote_type(eltype(x), eltype(y))}(undef, length(x)+length(y)),\n",
       "    rankxy = similar(xy, Float64),\n",
       "    place = similar(xy, Int),\n",
       "    c = similar(x, Int, min(length(x), length(y)))\n",
       ")\n",
       "```\n",
       "\n",
       "データ `x, y` に関するMann-WhitneyのU検定のexact版を素朴なアルゴリズム(遅い)で実行し, `(u, u_less, u_greater, p_twosided, p_less, p_greater)` を返す.  ここで,\n",
       "\n",
       "  * `u` は `x`, `y` の `length` が小さい方のU統計量達.\n",
       "  * `u_less`, `u_greater` はそれぞれ `u`, `length(x)*length(y) - u` の小さい方と大きい方.\n",
       "  * `p_twosided` は両側検定のP値.\n",
       "  * `p_less` は `u_less` 以下になる確率.\n",
       "  * `p_greater` は `u_greater` 以上になる確率.\n",
       "\n",
       "`p_twosided` は `p_less + p_greater` と1の小さい方になる.\n",
       "\n",
       "`xy`, `rankxy`, `place`, `comb` は内部で使用する配列である. それらを事前に割り当てておけば, この函数はメモリ割り当てゼロで実行される.\n",
       "\n",
       "この函数の実装では素朴にすべての組み合わせに関する和を計算する方法を採用しているので, `x`, `y` のサイズが大きくなると極めて遅くなる.  より洗練されたアルゴリズムについては以下の文献を参照せよ.\n",
       "\n",
       "  * https://pure.tue.nl/ws/files/1330412/200012964.pdf\n",
       "  * https://www.sciencedirect.com/science/article/pii/S1672022916000358\n",
       "\n",
       "注意: この函数が返す両側検定のP値はR言語の [exactRankTests::wilcox.exact](https://rdrr.io/cran/exactRankTests/src/R/wilcox.exact.R) や [coin::wilcox_test](https://rdrr.io/cran/coin/src/R/LocationTests.R) と同じ値になる.  それらは素朴な実装を採用しているこの函数よりも計算が速い.\n",
       "\n",
       "注意: この函数が返す両側検定のP値は [HypothesisTests.jl](https://github.com/JuliaStats/HypothesisTests.jl) の `pvalue(ExactMannWhitneyUTest(x, y))` とは一般に異なる.  そうなる理由は HypothesisTests.jl が `[x; y]` 内の値に重複(tie)がある場合に分布の左右対称性が崩れることに配慮していないからである.  さらに現時点の HypothesisTests.jl (v0.10.10) の `pvalue(ExactMannWhitneyUTest(x, y))` ではメモリ割り当てがかなり発生する.\n",
       "\n",
       "注意: この函数が返す両側検定のP値は [scipy.stats.mannwhitneyu](https://docs.scipy.org/doc/scipy/reference/generated/scipy.stats.mannwhitneyu.html) とは一般に異なる.  その理由は仕様的に \"No correction is made for ties.\" となっているからである.\n"
      ],
      "text/plain": [
       "\u001b[36m  exact_mann_whitney_u(x, y,\u001b[39m\n",
       "\u001b[36m      xy = Vector{promote_type(eltype(x), eltype(y))}(undef, length(x)+length(y)),\u001b[39m\n",
       "\u001b[36m      rankxy = similar(xy, Float64),\u001b[39m\n",
       "\u001b[36m      place = similar(xy, Int),\u001b[39m\n",
       "\u001b[36m      c = similar(x, Int, min(length(x), length(y)))\u001b[39m\n",
       "\u001b[36m  )\u001b[39m\n",
       "\n",
       "  データ \u001b[36mx, y\u001b[39m に関するMann-WhitneyのU検定のexact版を素朴なアルゴリズム(遅い)で実行し, \u001b[36m(u, u_less,\n",
       "  u_greater, p_twosided, p_less, p_greater)\u001b[39m を返す. ここで,\n",
       "\n",
       "    •  \u001b[36mu\u001b[39m は \u001b[36mx\u001b[39m, \u001b[36my\u001b[39m の \u001b[36mlength\u001b[39m が小さい方のU統計量達.\n",
       "\n",
       "    •  \u001b[36mu_less\u001b[39m, \u001b[36mu_greater\u001b[39m はそれぞれ \u001b[36mu\u001b[39m, \u001b[36mlength(x)*length(y) - u\u001b[39m の小さい方と大きい方.\n",
       "\n",
       "    •  \u001b[36mp_twosided\u001b[39m は両側検定のP値.\n",
       "\n",
       "    •  \u001b[36mp_less\u001b[39m は \u001b[36mu_less\u001b[39m 以下になる確率.\n",
       "\n",
       "    •  \u001b[36mp_greater\u001b[39m は \u001b[36mu_greater\u001b[39m 以上になる確率.\n",
       "\n",
       "  \u001b[36mp_twosided\u001b[39m は \u001b[36mp_less + p_greater\u001b[39m と1の小さい方になる.\n",
       "\n",
       "  \u001b[36mxy\u001b[39m, \u001b[36mrankxy\u001b[39m, \u001b[36mplace\u001b[39m, \u001b[36mcomb\u001b[39m は内部で使用する配列である. それらを事前に割り当てておけば,\n",
       "  この函数はメモリ割り当てゼロで実行される.\n",
       "\n",
       "  この函数の実装では素朴にすべての組み合わせに関する和を計算する方法を採用しているので, \u001b[36mx\u001b[39m, \u001b[36my\u001b[39m のサイズが大きくなると極めて遅くなる.\n",
       "  より洗練されたアルゴリズムについては以下の文献を参照せよ.\n",
       "\n",
       "    •  https://pure.tue.nl/ws/files/1330412/200012964.pdf\n",
       "\n",
       "    •  https://www.sciencedirect.com/science/article/pii/S1672022916000358\n",
       "\n",
       "  注意: この函数が返す両側検定のP値はR言語の exactRankTests::wilcox.exact\n",
       "  (https://rdrr.io/cran/exactRankTests/src/R/wilcox.exact.R) や\n",
       "  coin::wilcox_test (https://rdrr.io/cran/coin/src/R/LocationTests.R) と同じ値になる.\n",
       "  それらは素朴な実装を採用しているこの函数よりも計算が速い.\n",
       "\n",
       "  注意: この函数が返す両側検定のP値は HypothesisTests.jl\n",
       "  (https://github.com/JuliaStats/HypothesisTests.jl) の\n",
       "  \u001b[36mpvalue(ExactMannWhitneyUTest(x, y))\u001b[39m とは一般に異なる. そうなる理由は HypothesisTests.jl が\n",
       "  \u001b[36m[x; y]\u001b[39m 内の値に重複(tie)がある場合に分布の左右対称性が崩れることに配慮していないからである. さらに現時点の\n",
       "  HypothesisTests.jl (v0.10.10) の \u001b[36mpvalue(ExactMannWhitneyUTest(x, y))\u001b[39m\n",
       "  ではメモリ割り当てがかなり発生する.\n",
       "\n",
       "  注意: この函数が返す両側検定のP値は scipy.stats.mannwhitneyu\n",
       "  (https://docs.scipy.org/doc/scipy/reference/generated/scipy.stats.mannwhitneyu.html)\n",
       "  とは一般に異なる. その理由は仕様的に \"No correction is made for ties.\" となっているからである."
      ]
     },
     "execution_count": 12,
     "metadata": {},
     "output_type": "execute_result"
    }
   ],
   "source": [
    "@doc exact_mann_whitney_u"
   ]
  },
  {
   "cell_type": "code",
   "execution_count": 13,
   "id": "0b07c2f4-b1ae-4038-8900-83656b682e4d",
   "metadata": {},
   "outputs": [
    {
     "name": "stdout",
     "output_type": "stream",
     "text": [
      "  139.819 ms (4 allocations: 912 bytes)\n",
      "  141.647 ms (0 allocations: 0 bytes)\n",
      "  251.765 ms (8914807 allocations: 748.16 MiB)\n",
      "a = (121.5, 32.5, 121.5, 0.006690222999955131, 0.0023273657289002558, 0.004362857271054875)\n",
      "b = (121.5, 32.5, 121.5, 0.006690222999955131, 0.0023273657289002558, 0.004362857271054875)\n",
      "c = 0.0046547314578005115\n"
     ]
    }
   ],
   "source": [
    "using BenchmarkTools\n",
    "using HypothesisTests\n",
    "\n",
    "# https://www.jstor.org/stable/2533173\n",
    "x = Float64[1,2,1,1,1,1,1,1,1,1,2,4,1,1]\n",
    "y = Float64[3,3,4,3,1,2,3,1,1,5,4]\n",
    "\n",
    "xy = Vector{promote_type(eltype(x), eltype(y))}(undef, length(x)+length(y))\n",
    "rankxy = similar(xy, Float64)\n",
    "place = similar(xy, Int)\n",
    "comb = similar(x, Int, min(length(x), length(y)))\n",
    "\n",
    "a = @btime exact_mann_whitney_u($x, $y)\n",
    "b = @btime exact_mann_whitney_u($x, $y, $xy, $rankxy, $place, $comb)\n",
    "c = @btime pvalue(ExactMannWhitneyUTest($x, $y))\n",
    "@show a b c;"
   ]
  },
  {
   "cell_type": "code",
   "execution_count": 14,
   "id": "8f564996-8e9e-42d5-903b-545f0383dcb5",
   "metadata": {},
   "outputs": [],
   "source": [
    "using RCall\n",
    "@rimport exactRankTests as exactRankTests\n",
    "using SciPy"
   ]
  },
  {
   "cell_type": "code",
   "execution_count": 15,
   "id": "15b056bc-6acb-4e26-bf2a-b5061d0fef0c",
   "metadata": {},
   "outputs": [
    {
     "name": "stdout",
     "output_type": "stream",
     "text": [
      "x = [1.0, 2.0]\n",
      "y = [0.0, 5.0, 3.0, 4.0]\n",
      "(m, n) = (length(x), length(y)) = (2, 4)\n",
      "exact_mann_whitney_u(x, y) = (2.0, 2.0, 6.0, 0.5333333333333333, 0.26666666666666666, 0.26666666666666666)\n",
      "exact_mann_whitney_u(y, x) = (2.0, 2.0, 6.0, 0.5333333333333333, 0.26666666666666666, 0.26666666666666666)\n",
      "pvalue(ExactMannWhitneyUTest(x, y)) = 0.5333333333333333\n",
      "pvalue(ExactMannWhitneyUTest(y, x)) = 0.5333333333333333\n",
      "(rcopy(exactRankTests.wilcox_exact(x, y)))[:p_value] = 0.5333333333333333\n",
      "(rcopy(exactRankTests.wilcox_exact(y, x)))[:p_value] = 0.5333333333333333\n",
      "SciPy.stats.mannwhitneyu(x, y; method = \"exact\") = (2.0, 0.5333333333333333)\n",
      "SciPy.stats.mannwhitneyu(y, x; method = \"exact\") = (6.0, 0.5333333333333333)\n"
     ]
    }
   ],
   "source": [
    "x, y = Float64[1, 2], Float64[0, 5, 3, 4]\n",
    "@show x y\n",
    "@show m, n = length(x), length(y)\n",
    "@show exact_mann_whitney_u(x, y)\n",
    "@show exact_mann_whitney_u(y, x)\n",
    "@show pvalue(ExactMannWhitneyUTest(x, y))\n",
    "@show pvalue(ExactMannWhitneyUTest(y, x))\n",
    "@show rcopy(exactRankTests.wilcox_exact(x, y))[:p_value]\n",
    "@show rcopy(exactRankTests.wilcox_exact(y, x))[:p_value]\n",
    "@show SciPy.stats.mannwhitneyu(x, y; method=\"exact\")\n",
    "@show SciPy.stats.mannwhitneyu(y, x; method=\"exact\");"
   ]
  },
  {
   "cell_type": "code",
   "execution_count": 16,
   "id": "b4777186-24b5-4a93-9aa9-2c991e0c63d8",
   "metadata": {},
   "outputs": [
    {
     "name": "stdout",
     "output_type": "stream",
     "text": [
      "x = [1.0, 2.0]\n",
      "y = [2.0, 2.0, 3.0, 4.0]\n",
      "(m, n) = (length(x), length(y)) = (2, 4)\n",
      "exact_mann_whitney_u(x, y) = (1.0, 1.0, 7.0, 0.26666666666666666, 0.2, 0.06666666666666667)\n",
      "exact_mann_whitney_u(y, x) = (1.0, 1.0, 7.0, 0.26666666666666666, 0.2, 0.06666666666666667)\n",
      "pvalue(ExactMannWhitneyUTest(x, y)) = 0.13333333333333333\n",
      "pvalue(ExactMannWhitneyUTest(y, x)) = 0.13333333333333333\n",
      "(rcopy(exactRankTests.wilcox_exact(x, y)))[:p_value] = 0.26666666666666666\n",
      "(rcopy(exactRankTests.wilcox_exact(y, x)))[:p_value] = 0.26666666666666666\n",
      "SciPy.stats.mannwhitneyu(x, y; method = \"exact\") = (1.0, 0.26666666666666666)\n",
      "SciPy.stats.mannwhitneyu(y, x; method = \"exact\") = (7.0, 0.26666666666666666)\n"
     ]
    }
   ],
   "source": [
    "x, y = Float64[1, 2], Float64[2, 2, 3, 4]\n",
    "@show x y\n",
    "@show m, n = length(x), length(y)\n",
    "@show exact_mann_whitney_u(x, y)\n",
    "@show exact_mann_whitney_u(y, x)\n",
    "@show pvalue(ExactMannWhitneyUTest(x, y))\n",
    "@show pvalue(ExactMannWhitneyUTest(y, x))\n",
    "@show rcopy(exactRankTests.wilcox_exact(x, y))[:p_value]\n",
    "@show rcopy(exactRankTests.wilcox_exact(y, x))[:p_value]\n",
    "@show SciPy.stats.mannwhitneyu(x, y; method=\"exact\")\n",
    "@show SciPy.stats.mannwhitneyu(y, x; method=\"exact\");"
   ]
  },
  {
   "cell_type": "code",
   "execution_count": 17,
   "id": "3356c061-1aa4-41aa-b8f2-8a2e8e5970f6",
   "metadata": {},
   "outputs": [
    {
     "name": "stdout",
     "output_type": "stream",
     "text": [
      "x = [1.0, 2.0]\n",
      "y = [2.0, 2.0, 2.0, 4.0, 5.0]\n",
      "(m, n) = (length(x), length(y)) = (2, 5)\n",
      "exact_mann_whitney_u(x, y) = (1.5, 1.5, 8.5, 0.23809523809523808, 0.19047619047619047, 0.047619047619047616)\n",
      "exact_mann_whitney_u(y, x) = (1.5, 1.5, 8.5, 0.23809523809523808, 0.19047619047619047, 0.047619047619047616)\n",
      "pvalue(ExactMannWhitneyUTest(x, y)) = 0.09523809523809523\n",
      "pvalue(ExactMannWhitneyUTest(y, x)) = 0.09523809523809523\n",
      "(rcopy(exactRankTests.wilcox_exact(x, y)))[:p_value] = 0.23809523809523808\n",
      "(rcopy(exactRankTests.wilcox_exact(y, x)))[:p_value] = 0.23809523809523808\n",
      "SciPy.stats.mannwhitneyu(x, y; method = \"exact\") = (1.5, 0.38095238095238093)\n",
      "SciPy.stats.mannwhitneyu(y, x; method = \"exact\") = (8.5, 0.38095238095238093)\n"
     ]
    }
   ],
   "source": [
    "x, y = Float64[1, 2], Float64[2, 2, 2, 4, 5]\n",
    "@show x y\n",
    "@show m, n = length(x), length(y)\n",
    "@show exact_mann_whitney_u(x, y)\n",
    "@show exact_mann_whitney_u(y, x)\n",
    "@show pvalue(ExactMannWhitneyUTest(x, y))\n",
    "@show pvalue(ExactMannWhitneyUTest(y, x))\n",
    "@show rcopy(exactRankTests.wilcox_exact(x, y))[:p_value]\n",
    "@show rcopy(exactRankTests.wilcox_exact(y, x))[:p_value]\n",
    "@show SciPy.stats.mannwhitneyu(x, y; method=\"exact\")\n",
    "@show SciPy.stats.mannwhitneyu(y, x; method=\"exact\");"
   ]
  },
  {
   "cell_type": "code",
   "execution_count": 18,
   "id": "0331f205-009c-4ea2-93c2-16e30f18c32f",
   "metadata": {
    "tags": []
   },
   "outputs": [
    {
     "name": "stdout",
     "output_type": "stream",
     "text": [
      "x = [1.0, 2.0, 2.0]\n",
      "y = [2.0, 2.0, 2.0, 4.0, 5.0, 6.0, 7.0]\n",
      "(m, n) = (length(x), length(y)) = (3, 7)\n",
      "exact_mann_whitney_u(x, y) = (3.0, 3.0, 18.0, 0.11666666666666667, 0.08333333333333333, 0.03333333333333333)\n",
      "exact_mann_whitney_u(y, x) = (3.0, 3.0, 18.0, 0.11666666666666667, 0.08333333333333333, 0.03333333333333333)\n",
      "pvalue(ExactMannWhitneyUTest(x, y)) = 0.06666666666666667\n",
      "pvalue(ExactMannWhitneyUTest(y, x)) = 0.06666666666666667\n",
      "(rcopy(exactRankTests.wilcox_exact(x, y)))[:p_value] = 0.11666666666666667\n",
      "(rcopy(exactRankTests.wilcox_exact(y, x)))[:p_value] = 0.11666666666666667\n",
      "SciPy.stats.mannwhitneyu(x, y; method = \"exact\") = (3.0, 0.11666666666666667)\n",
      "SciPy.stats.mannwhitneyu(y, x; method = \"exact\") = (18.0, 0.11666666666666667)\n"
     ]
    }
   ],
   "source": [
    "x, y = Float64[1, 2, 2], Float64[2, 2, 2, 4, 5, 6, 7]\n",
    "@show x y\n",
    "@show m, n = length(x), length(y)\n",
    "@show exact_mann_whitney_u(x, y)\n",
    "@show exact_mann_whitney_u(y, x)\n",
    "@show pvalue(ExactMannWhitneyUTest(x, y))\n",
    "@show pvalue(ExactMannWhitneyUTest(y, x))\n",
    "@show rcopy(exactRankTests.wilcox_exact(x, y))[:p_value]\n",
    "@show rcopy(exactRankTests.wilcox_exact(y, x))[:p_value]\n",
    "@show SciPy.stats.mannwhitneyu(x, y; method=\"exact\")\n",
    "@show SciPy.stats.mannwhitneyu(y, x; method=\"exact\");"
   ]
  },
  {
   "cell_type": "code",
   "execution_count": 19,
   "id": "4c567b40-5cea-4e52-ba80-63bc14800177",
   "metadata": {},
   "outputs": [
    {
     "name": "stdout",
     "output_type": "stream",
     "text": [
      "x = [11.0, 15.0, 9.0, 4.0, 34.0, 17.0, 18.0, 14.0, 12.0, 13.0, 26.0, 31.0]\n",
      "y = [34.0, 31.0, 35.0, 29.0, 28.0, 12.0, 18.0, 30.0, 14.0, 22.0, 10.0]\n",
      "(m, n) = (length(x), length(y)) = (12, 11)\n",
      "exact_mann_whitney_u(x, y) = (92.5, 39.5, 92.5, 0.10673496647382769, 0.0533726604530212, 0.053362306020806494)\n",
      "exact_mann_whitney_u(y, x) = (92.5, 39.5, 92.5, 0.10673496647382769, 0.0533726604530212, 0.053362306020806494)\n",
      "pvalue(ExactMannWhitneyUTest(x, y)) = 0.1067453209060424\n",
      "pvalue(ExactMannWhitneyUTest(y, x)) = 0.1067453209060424\n",
      "(rcopy(exactRankTests.wilcox_exact(x, y)))[:p_value] = 0.1067349664738277\n",
      "(rcopy(exactRankTests.wilcox_exact(y, x)))[:p_value] = 0.1067349664738277\n",
      "SciPy.stats.mannwhitneyu(x, y; method = \"exact\") = (39.5, 0.11792810769792868)\n",
      "SciPy.stats.mannwhitneyu(y, x; method = \"exact\") = (92.5, 0.11792810769792868)\n"
     ]
    }
   ],
   "source": [
    "x = Float64[11, 15,  9,  4, 34, 17, 18, 14, 12, 13, 26, 31]\n",
    "y = Float64[34, 31, 35, 29, 28, 12, 18, 30, 14, 22, 10]\n",
    "@show x y\n",
    "@show m, n = length(x), length(y)\n",
    "@show exact_mann_whitney_u(x, y)\n",
    "@show exact_mann_whitney_u(y, x)\n",
    "@show pvalue(ExactMannWhitneyUTest(x, y))\n",
    "@show pvalue(ExactMannWhitneyUTest(y, x))\n",
    "@show rcopy(exactRankTests.wilcox_exact(x, y))[:p_value]\n",
    "@show rcopy(exactRankTests.wilcox_exact(y, x))[:p_value]\n",
    "@show SciPy.stats.mannwhitneyu(x, y; method=\"exact\")\n",
    "@show SciPy.stats.mannwhitneyu(y, x; method=\"exact\");"
   ]
  },
  {
   "cell_type": "code",
   "execution_count": 20,
   "id": "a9ac9b93-95e2-4a88-9038-882002d33e42",
   "metadata": {},
   "outputs": [
    {
     "name": "stdout",
     "output_type": "stream",
     "text": [
      "x = [4.0, 7.0, 8.0, 9.0, 11.0, 13.0, 13.0, 17.0]\n",
      "y = [3.0, 6.0, 13.0, 14.0, 17.0, 23.0, 24.0, 24.0, 29.0, 33.0]\n",
      "(m, n) = (length(x), length(y)) = (8, 10)\n",
      "exact_mann_whitney_u(x, y) = (18.5, 18.5, 61.5, 0.057086704145527675, 0.02861191096485214, 0.028474793180675535)\n",
      "exact_mann_whitney_u(y, x) = (18.5, 18.5, 61.5, 0.057086704145527675, 0.02861191096485214, 0.028474793180675535)\n",
      "pvalue(ExactMannWhitneyUTest(x, y)) = 0.05694958636135107\n",
      "pvalue(ExactMannWhitneyUTest(y, x)) = 0.05694958636135107\n",
      "(rcopy(exactRankTests.wilcox_exact(x, y)))[:p_value] = 0.057086704145527675\n",
      "(rcopy(exactRankTests.wilcox_exact(y, x)))[:p_value] = 0.057086704145527675\n",
      "SciPy.stats.mannwhitneyu(x, y; method = \"exact\") = (18.5, 0.0675990675990676)\n",
      "SciPy.stats.mannwhitneyu(y, x; method = \"exact\") = (61.5, 0.0675990675990676)\n"
     ]
    }
   ],
   "source": [
    "x = Float64[ 4,  7,  8,  9, 13, 13, 17, 11] |> sort\n",
    "y = Float64[23,  6,  3, 24, 17, 14, 24, 29, 13, 33] |> sort\n",
    "@show x y\n",
    "@show m, n = length(x), length(y)\n",
    "@show exact_mann_whitney_u(x, y)\n",
    "@show exact_mann_whitney_u(y, x)\n",
    "@show pvalue(ExactMannWhitneyUTest(x, y))\n",
    "@show pvalue(ExactMannWhitneyUTest(y, x))\n",
    "@show rcopy(exactRankTests.wilcox_exact(x, y))[:p_value]\n",
    "@show rcopy(exactRankTests.wilcox_exact(y, x))[:p_value]\n",
    "@show SciPy.stats.mannwhitneyu(x, y; method=\"exact\")\n",
    "@show SciPy.stats.mannwhitneyu(y, x; method=\"exact\");"
   ]
  },
  {
   "cell_type": "code",
   "execution_count": 21,
   "id": "237c2011-f61e-456a-9b41-a0b767998f1e",
   "metadata": {},
   "outputs": [
    {
     "name": "stdout",
     "output_type": "stream",
     "text": [
      "x = [4.0, 7.0, 8.0, 9.0, 11.0, 13.0, 13.0, 17.0]\n",
      "y = [3.0, 6.0, 13.0, 14.0, 17.0, 23.0, 24.0, 24.0, 29.0, 33.0]\n",
      "(m, n) = (length(x), length(y)) = (8, 10)\n",
      "\n",
      "  1.164 ms (0 allocations: 0 bytes)\n",
      "  1.163 ms (4 allocations: 752 bytes)\n",
      "  1.199 ms (0 allocations: 0 bytes)\n",
      "  1.143 ms (4 allocations: 752 bytes)\n",
      "  2.004 ms (87523 allocations: 6.68 MiB)\n",
      "  383.000 μs (309 allocations: 9.36 KiB)\n",
      "  226.400 μs (37 allocations: 1.58 KiB)\n",
      "a = (18.5, 18.5, 61.5, 0.057086704145527675, 0.02861191096485214, 0.028474793180675535)\n",
      "b = (18.5, 18.5, 61.5, 0.057086704145527675, 0.02861191096485214, 0.028474793180675535)\n",
      "c = (18.5, 18.5, 61.5, 0.057086704145527675, 0.02861191096485214, 0.028474793180675535)\n",
      "d = (18.5, 18.5, 61.5, 0.057086704145527675, 0.02861191096485214, 0.028474793180675535)\n",
      "e = 0.05694958636135107\n",
      "f = 0.057086704145527675\n",
      "g = (18.5, 0.0675990675990676)\n"
     ]
    }
   ],
   "source": [
    "x = Float64[ 4,  7,  8,  9, 13, 13, 17, 11] |> sort\n",
    "y = Float64[23,  6,  3, 24, 17, 14, 24, 29, 13, 33] |> sort\n",
    "@show x y\n",
    "@show m, n = length(x), length(y)\n",
    "println()\n",
    "\n",
    "xy = Vector{promote_type(eltype(x), eltype(y))}(undef, length(x)+length(y))\n",
    "rankxy = similar(xy, Float64)\n",
    "place = similar(xy, Int)\n",
    "comb = similar(x, Int, min(length(x), length(y)))\n",
    "\n",
    "a = @btime exact_mann_whitney_u($x, $y, $xy, $rankxy, $place, $comb)\n",
    "b = @btime exact_mann_whitney_u($x, $y)\n",
    "c = @btime exact_mann_whitney_u($y, $x, $xy, $rankxy, $place, $comb)\n",
    "d = @btime exact_mann_whitney_u($y, $x)\n",
    "e = @btime pvalue(ExactMannWhitneyUTest($x, $y))\n",
    "f = @btime rcopy(exactRankTests.wilcox_exact($x, $y))[:p_value]\n",
    "g = @btime SciPy.stats.mannwhitneyu($x, $y; method=\"exact\")\n",
    "@show a b c d e f g;"
   ]
  },
  {
   "cell_type": "code",
   "execution_count": null,
   "id": "df707980-25ff-4be0-a604-5fb024383415",
   "metadata": {},
   "outputs": [],
   "source": [
    "x = Float64[4, 7, 8, 9, 11, 12, 13, 17]\n",
    "y = Float64[3, 6, 10, 14, 16, 23, 24, 25, 29, 33]\n",
    "@show x y\n",
    "@show m, n = length(x), length(y)\n",
    "println()\n",
    "\n",
    "xy = Vector{promote_type(eltype(x), eltype(y))}(undef, length(x)+length(y))\n",
    "rankxy = similar(xy, Float64)\n",
    "place = similar(xy, Int)\n",
    "comb = similar(x, Int, min(length(x), length(y)))\n",
    "\n",
    "a = @btime exact_mann_whitney_u($x, $y, $xy, $rankxy, $place, $comb)\n",
    "b = @btime exact_mann_whitney_u($x, $y)\n",
    "c = @btime exact_mann_whitney_u($y, $x, $xy, $rankxy, $place, $comb)\n",
    "d = @btime exact_mann_whitney_u($y, $x)\n",
    "e = @btime pvalue(ExactMannWhitneyUTest($x, $y))\n",
    "f = @btime rcopy(exactRankTests.wilcox_exact($x, $y))[:p_value]\n",
    "g = @btime SciPy.stats.mannwhitneyu($x, $y; method=\"exact\")\n",
    "@show a b c d e f g;"
   ]
  },
  {
   "cell_type": "code",
   "execution_count": null,
   "id": "9913cc0c-d74f-4034-b964-91e0a53efac2",
   "metadata": {},
   "outputs": [],
   "source": []
  }
 ],
 "metadata": {
  "jupytext": {
   "formats": "ipynb,jl:hydrogen"
  },
  "kernelspec": {
   "display_name": "Julia 1.7.3",
   "language": "julia",
   "name": "julia-1.7"
  },
  "language_info": {
   "file_extension": ".jl",
   "mimetype": "application/julia",
   "name": "julia",
   "version": "1.7.3"
  }
 },
 "nbformat": 4,
 "nbformat_minor": 5
}
