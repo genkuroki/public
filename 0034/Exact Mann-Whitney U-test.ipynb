{
 "cells": [
  {
   "cell_type": "code",
   "execution_count": 1,
   "id": "15619aaf-9cf0-4fd4-b841-aaca4ecd2d4b",
   "metadata": {},
   "outputs": [
    {
     "data": {
      "text/plain": [
       "mycombinations"
      ]
     },
     "execution_count": 1,
     "metadata": {},
     "output_type": "execute_result"
    }
   ],
   "source": [
    "\"\"\"\n",
    "    nextcombination!(n, t, c = typeof(t)[min(t-1, i) for i in 1:t])\n",
    "\n",
    "`[1,2,…,n]` からの重複無しの `t` 個の組み合わせ `c` をすべて生成したい.\n",
    "\n",
    "`nextcombination!(n, t, c)` は配列で表現された組み合わせ `c` をその次の組み合わせに書き換えて, `c` を返す.\n",
    "\n",
    "初期条件を `c = typeof(t)[min(t-1, i) for i in 1:t]` にすると, `binomial(n, t)` 回の `nextcombination!(n, t, c)` ですべての組み合わせが生成される.\n",
    "\"\"\"\n",
    "function nextcombination!(n, t, c = typeof(t)[min(t-1, i) for i in 1:t])\n",
    "    t == 0 && return c\n",
    "    @inbounds for i in t:-1:1\n",
    "        c[i] += 1\n",
    "        c[i] > (n - (t - i)) && continue\n",
    "        for j in i+1:t\n",
    "            c[j] = c[j-1] + 1\n",
    "        end\n",
    "        break\n",
    "    end\n",
    "    c\n",
    "end\n",
    "\n",
    "\"\"\"\n",
    "    mycombinations!(n::Integer, t, c)\n",
    "\n",
    "事前に割り当てられた組み合わせを格納する配列 `c` を使って, `[1,2,…,n]` からの重複無しの `t` 個の組み合わせのすべてを生成する生成子を返す.\n",
    "\"\"\"\n",
    "function mycombinations!(n::Integer, t, c)\n",
    "    for i in 1:t c[i] = min(t - 1, i) end\n",
    "    (nextcombination!(n, t, c) for _ in 1:binomial(n, t))\n",
    "end\n",
    "\n",
    "\"\"\"\n",
    "    mycombinations!(a, t, c)\n",
    "\n",
    "事前に割り当てられた組み合わせを格納する配列 `c` を使って, 配列 `a` からのインデックスに重複がない `t` 個の組み合わせのすべてを生成する生成子を返す.\n",
    "\"\"\"\n",
    "function mycombinations!(a, t, c)\n",
    "    t < 0 && (t = length(a) + 1)\n",
    "    (view(a, indices) for indices in mycombinations!(length(a), t, c))\n",
    "end\n",
    "\n",
    "\"\"\"\n",
    "    mycombinations(x, t)\n",
    "\n",
    "`x` が整数ならば `[1,2,…,x]` からの, `x` が配列ならば `x` からのインデックスに重複がない `t` 個の組み合わせのすべてを生成する生成子を返す.\n",
    "\"\"\"\n",
    "mycombinations(x, t) = mycombinations!(x, t, Vector{typeof(t)}(undef, t))"
   ]
  },
  {
   "cell_type": "code",
   "execution_count": 2,
   "id": "75247a28-82e2-44d2-82c6-affa2b1cad56",
   "metadata": {},
   "outputs": [
    {
     "data": {
      "text/latex": [
       "\\begin{verbatim}\n",
       "nextcombination!(n, t, c = typeof(t)[min(t-1, i) for i in 1:t])\n",
       "\\end{verbatim}\n",
       "\\texttt{[1,2,…,n]} からの重複無しの \\texttt{t} 個の組み合わせ \\texttt{c} をすべて生成したい.\n",
       "\n",
       "\\texttt{nextcombination!(n, t, c)} は配列で表現された組み合わせ \\texttt{c} をその次の組み合わせに書き換えて, \\texttt{c} を返す.\n",
       "\n",
       "初期条件を \\texttt{c = typeof(t)[min(t-1, i) for i in 1:t]} にすると, \\texttt{binomial(n, t)} 回の \\texttt{nextcombination!(n, t, c)} ですべての組み合わせが生成される.\n",
       "\n"
      ],
      "text/markdown": [
       "```\n",
       "nextcombination!(n, t, c = typeof(t)[min(t-1, i) for i in 1:t])\n",
       "```\n",
       "\n",
       "`[1,2,…,n]` からの重複無しの `t` 個の組み合わせ `c` をすべて生成したい.\n",
       "\n",
       "`nextcombination!(n, t, c)` は配列で表現された組み合わせ `c` をその次の組み合わせに書き換えて, `c` を返す.\n",
       "\n",
       "初期条件を `c = typeof(t)[min(t-1, i) for i in 1:t]` にすると, `binomial(n, t)` 回の `nextcombination!(n, t, c)` ですべての組み合わせが生成される.\n"
      ],
      "text/plain": [
       "\u001b[36m  nextcombination!(n, t, c = typeof(t)[min(t-1, i) for i in 1:t])\u001b[39m\n",
       "\n",
       "  \u001b[36m[1,2,…,n]\u001b[39m からの重複無しの \u001b[36mt\u001b[39m 個の組み合わせ \u001b[36mc\u001b[39m をすべて生成したい.\n",
       "\n",
       "  \u001b[36mnextcombination!(n, t, c)\u001b[39m は配列で表現された組み合わせ \u001b[36mc\u001b[39m をその次の組み合わせに書き換えて, \u001b[36mc\u001b[39m を返す.\n",
       "\n",
       "  初期条件を \u001b[36mc = typeof(t)[min(t-1, i) for i in 1:t]\u001b[39m にすると, \u001b[36mbinomial(n, t)\u001b[39m 回の\n",
       "  \u001b[36mnextcombination!(n, t, c)\u001b[39m ですべての組み合わせが生成される."
      ]
     },
     "execution_count": 2,
     "metadata": {},
     "output_type": "execute_result"
    }
   ],
   "source": [
    "@doc nextcombination!"
   ]
  },
  {
   "cell_type": "code",
   "execution_count": 3,
   "id": "6fe68312-49b0-40cf-beb8-88c32a6d515c",
   "metadata": {},
   "outputs": [
    {
     "data": {
      "text/latex": [
       "\\begin{verbatim}\n",
       "mycombinations!(n::Integer, t, c)\n",
       "\\end{verbatim}\n",
       "事前に割り当てられた組み合わせを格納する配列 \\texttt{c} を使って, \\texttt{[1,2,…,n]} からの重複無しの \\texttt{t} 個の組み合わせのすべてを生成する生成子を返す.\n",
       "\n",
       "\\begin{verbatim}\n",
       "mycombinations!(a, t, c)\n",
       "\\end{verbatim}\n",
       "事前に割り当てられた組み合わせを格納する配列 \\texttt{c} を使って, 配列 \\texttt{a} からのインデックスに重複がない \\texttt{t} 個の組み合わせのすべてを生成する生成子を返す.\n",
       "\n"
      ],
      "text/markdown": [
       "```\n",
       "mycombinations!(n::Integer, t, c)\n",
       "```\n",
       "\n",
       "事前に割り当てられた組み合わせを格納する配列 `c` を使って, `[1,2,…,n]` からの重複無しの `t` 個の組み合わせのすべてを生成する生成子を返す.\n",
       "\n",
       "```\n",
       "mycombinations!(a, t, c)\n",
       "```\n",
       "\n",
       "事前に割り当てられた組み合わせを格納する配列 `c` を使って, 配列 `a` からのインデックスに重複がない `t` 個の組み合わせのすべてを生成する生成子を返す.\n"
      ],
      "text/plain": [
       "\u001b[36m  mycombinations!(n::Integer, t, c)\u001b[39m\n",
       "\n",
       "  事前に割り当てられた組み合わせを格納する配列 \u001b[36mc\u001b[39m を使って, \u001b[36m[1,2,…,n]\u001b[39m からの重複無しの \u001b[36mt\u001b[39m 個の組み合わせのすべてを生成する生成子を返す.\n",
       "\n",
       "\u001b[36m  mycombinations!(a, t, c)\u001b[39m\n",
       "\n",
       "  事前に割り当てられた組み合わせを格納する配列 \u001b[36mc\u001b[39m を使って, 配列 \u001b[36ma\u001b[39m からのインデックスに重複がない \u001b[36mt\u001b[39m\n",
       "  個の組み合わせのすべてを生成する生成子を返す."
      ]
     },
     "execution_count": 3,
     "metadata": {},
     "output_type": "execute_result"
    }
   ],
   "source": [
    "@doc mycombinations!"
   ]
  },
  {
   "cell_type": "code",
   "execution_count": 4,
   "id": "687ec745-0e29-44d0-a0cd-2d6439aacf9a",
   "metadata": {},
   "outputs": [
    {
     "data": {
      "text/latex": [
       "\\begin{verbatim}\n",
       "mycombinations(x, t)\n",
       "\\end{verbatim}\n",
       "\\texttt{x} が整数ならば \\texttt{[1,2,…,x]} からの, \\texttt{x} が配列ならば \\texttt{x} からのインデックスに重複がない \\texttt{t} 個の組み合わせのすべてを生成する生成子を返す.\n",
       "\n"
      ],
      "text/markdown": [
       "```\n",
       "mycombinations(x, t)\n",
       "```\n",
       "\n",
       "`x` が整数ならば `[1,2,…,x]` からの, `x` が配列ならば `x` からのインデックスに重複がない `t` 個の組み合わせのすべてを生成する生成子を返す.\n"
      ],
      "text/plain": [
       "\u001b[36m  mycombinations(x, t)\u001b[39m\n",
       "\n",
       "  \u001b[36mx\u001b[39m が整数ならば \u001b[36m[1,2,…,x]\u001b[39m からの, \u001b[36mx\u001b[39m が配列ならば \u001b[36mx\u001b[39m からのインデックスに重複がない \u001b[36mt\u001b[39m 個の組み合わせのすべてを生成する生成子を返す."
      ]
     },
     "execution_count": 4,
     "metadata": {},
     "output_type": "execute_result"
    }
   ],
   "source": [
    "@doc mycombinations"
   ]
  },
  {
   "cell_type": "code",
   "execution_count": 5,
   "id": "83ffb54a-d719-4b48-a4ca-3d8388f432f0",
   "metadata": {},
   "outputs": [
    {
     "name": "stdout",
     "output_type": "stream",
     "text": [
      "binomial(5, 3) = 10\n",
      "c = typeof(t)[min(t - 1, i) for i = 1:t] = [1, 2, 2]\n",
      "(1, nextcombination!(5, 3, c)) = (1, [1, 2, 3])\n",
      "(2, nextcombination!(5, 3, c)) = (2, [1, 2, 4])\n",
      "(3, nextcombination!(5, 3, c)) = (3, [1, 2, 5])\n",
      "(4, nextcombination!(5, 3, c)) = (4, [1, 3, 4])\n",
      "(5, nextcombination!(5, 3, c)) = (5, [1, 3, 5])\n",
      "(6, nextcombination!(5, 3, c)) = (6, [1, 4, 5])\n",
      "(7, nextcombination!(5, 3, c)) = (7, [2, 3, 4])\n",
      "(8, nextcombination!(5, 3, c)) = (8, [2, 3, 5])\n",
      "(9, nextcombination!(5, 3, c)) = (9, [2, 4, 5])\n",
      "(10, nextcombination!(5, 3, c)) = (10, [3, 4, 5])\n",
      "(11, nextcombination!(5, 3, c)) = (11, [4, 5, 6])\n",
      "(12, nextcombination!(5, 3, c)) = (12, [5, 6, 7])\n"
     ]
    }
   ],
   "source": [
    "# nextcombination!(n, t, c) は組み合わせを表す配列 c を次の組み合わせに書き変える.\n",
    "# nextcombination!(n, t, c) の結果は最初の binomial(n, t) 個だけが有効.\n",
    "n, t = 5, 3\n",
    "@eval @show binomial($n, $t)\n",
    "@show c = typeof(t)[min(t-1, i) for i in 1:t]\n",
    "for i in 1:binomial(n, t)+2\n",
    "    @eval @show $i, nextcombination!($n, $t, c)\n",
    "end"
   ]
  },
  {
   "cell_type": "code",
   "execution_count": 6,
   "id": "10cb8682-0d32-41b8-a48f-b795eb5a8461",
   "metadata": {},
   "outputs": [
    {
     "data": {
      "text/plain": [
       "pvalue_exact_mann_whitney_u_test (generic function with 5 methods)"
      ]
     },
     "execution_count": 6,
     "metadata": {},
     "output_type": "execute_result"
    }
   ],
   "source": [
    "function pvalue_exact_mann_whitney_u_test(x, y,\n",
    "        xy = Vector{promote_type(eltype(x), eltype(y))}(undef, length(x)+length(y)),\n",
    "        rankxy = similar(xy, Float64),\n",
    "        place = similar(xy, Int),\n",
    "        c = similar(x, Int, min(length(x), length(y)))\n",
    "    )\n",
    "    # Initialization\n",
    "    m, n = length(x), length(y)\n",
    "    xy[1:m] .= x\n",
    "    xy[m+1:m+n] .= y\n",
    "    N = m + n\n",
    "    place .= 1:N\n",
    "\n",
    "    # Calculation of ranks\n",
    "    sort!(place; by = i->xy[i])\n",
    "    i = 1\n",
    "    @inbounds while i ≤ N\n",
    "        j = i\n",
    "        vi = xy[place[i]]\n",
    "        while (j + 1 ≤ N) && (vi == xy[place[j + 1]])\n",
    "            j += 1\n",
    "        end\n",
    "        if j > i\n",
    "            t = j - i + 1\n",
    "            rk = sum(i:j) / t\n",
    "            for k in i:j\n",
    "                rankxy[place[k]] = rk\n",
    "            end\n",
    "        else\n",
    "            rankxy[place[i]] = i\n",
    "        end\n",
    "        i = j + 1\n",
    "    end\n",
    "    \n",
    "    # Calculation of the two-sided exact P-value\n",
    "    l = min(m, n)\n",
    "    r = l == m ? sum(@view rankxy[1:m]) : sum(@view rankxy[m+1:m+n])\n",
    "    r_le, r_ge = minmax(r, m*n + l*(l+1) - r)\n",
    "    le, ge = 0, 0\n",
    "    for comb in mycombinations!(rankxy, l, c)\n",
    "        R = sum(comb)\n",
    "        le += R ≤ r_le\n",
    "        ge += R ≥ r_ge\n",
    "    end\n",
    "    min(1, (le + ge)/binomial(N, l))\n",
    "end"
   ]
  },
  {
   "cell_type": "code",
   "execution_count": 7,
   "id": "8f564996-8e9e-42d5-903b-545f0383dcb5",
   "metadata": {},
   "outputs": [
    {
     "name": "stderr",
     "output_type": "stream",
     "text": [
      "┌ Warning: RCall.jl: Loading required package: survival\n",
      "└ @ RCall D:\\.julia\\packages\\RCall\\6kphM\\src\\io.jl:172\n",
      "┌ Warning: RCall.jl:  Package 'exactRankTests' is no longer under development.\n",
      "│  Please consider using package 'coin' instead.\n",
      "│ \n",
      "│ \n",
      "│ Attaching package: 'exactRankTests'\n",
      "│ \n",
      "│ The following objects are masked from 'package:coin':\n",
      "│ \n",
      "│     dperm, pperm, qperm, rperm\n",
      "│ \n",
      "└ @ RCall D:\\.julia\\packages\\RCall\\6kphM\\src\\io.jl:172\n"
     ]
    }
   ],
   "source": [
    "using BenchmarkTools\n",
    "using HypothesisTests\n",
    "using RCall\n",
    "R\"library(coin)\"\n",
    "R\"library(exactRankTests)\"\n",
    "using DataFrames\n",
    "using SciPy"
   ]
  },
  {
   "cell_type": "code",
   "execution_count": 8,
   "id": "15b056bc-6acb-4e26-bf2a-b5061d0fef0c",
   "metadata": {},
   "outputs": [
    {
     "name": "stdout",
     "output_type": "stream",
     "text": [
      "pvalue_exact_mann_whitney_u_test(x, y) = 0.5333333333333333\n",
      "pvalue_exact_mann_whitney_u_test(y, x) = 0.5333333333333333\n",
      "pvalue(ExactMannWhitneyUTest(x, y)) = 0.5333333333333333\n"
     ]
    },
    {
     "data": {
      "text/plain": [
       "0.5333333333333333"
      ]
     },
     "execution_count": 8,
     "metadata": {},
     "output_type": "execute_result"
    }
   ],
   "source": [
    "x, y = [1, 2], [0, 5, 3, 4]\n",
    "m, n = length(x), length(y)\n",
    "@show pvalue_exact_mann_whitney_u_test(x, y)\n",
    "@show pvalue_exact_mann_whitney_u_test(y, x)\n",
    "@show pvalue(ExactMannWhitneyUTest(x, y))"
   ]
  },
  {
   "cell_type": "code",
   "execution_count": 9,
   "id": "fcb80557-4981-40e6-ba4c-312be3eb13ee",
   "metadata": {},
   "outputs": [
    {
     "data": {
      "text/plain": [
       "RObject{VecSxp}\n",
       "\n",
       "\tExact Wilcoxon rank sum test\n",
       "\n",
       "data:  x and y\n",
       "W = 2, p-value = 0.5333\n",
       "alternative hypothesis: true mu is not equal to 0\n",
       "\n"
      ]
     },
     "execution_count": 9,
     "metadata": {},
     "output_type": "execute_result"
    }
   ],
   "source": [
    "@rput x y\n",
    "R\"\"\"\n",
    "wilcox.exact(x, y)\n",
    "\"\"\""
   ]
  },
  {
   "cell_type": "code",
   "execution_count": 10,
   "id": "3e14ebda-4964-40a7-8c71-6fe29ea4548e",
   "metadata": {},
   "outputs": [
    {
     "name": "stdout",
     "output_type": "stream",
     "text": [
      "df = 6×2 DataFrame\n",
      " Row │ score  gender\n",
      "     │ Int64  Int64\n",
      "─────┼───────────────\n",
      "   1 │     1       1\n",
      "   2 │     2       1\n",
      "   3 │     0       0\n",
      "   4 │     5       0\n",
      "   5 │     3       0\n",
      "   6 │     4       0\n"
     ]
    },
    {
     "data": {
      "text/plain": [
       "RObject{S4Sxp}\n",
       "\n",
       "\tExact Wilcoxon-Mann-Whitney Test\n",
       "\n",
       "data:  score by gender (0, 1)\n",
       "Z = 0.92582, p-value = 0.5333\n",
       "alternative hypothesis: true mu is not equal to 0\n",
       "\n"
      ]
     },
     "execution_count": 10,
     "metadata": {},
     "output_type": "execute_result"
    }
   ],
   "source": [
    "score = [x; y]\n",
    "gender = [fill(1, length(x)); fill(0, length(y))]\n",
    "df = DataFrame(score=score, gender=gender)\n",
    "@show df\n",
    "@rput df\n",
    "R\"\"\"\n",
    "df$gender <- as.factor(df$gender)\n",
    "wilcox_test(score ~ gender, distribution = \"exact\", data=df)\n",
    "\"\"\""
   ]
  },
  {
   "cell_type": "code",
   "execution_count": 11,
   "id": "dcb390ec-534d-48c4-b76f-b49ab0b7595b",
   "metadata": {},
   "outputs": [
    {
     "data": {
      "text/plain": [
       "(2.0, 0.5333333333333333)"
      ]
     },
     "execution_count": 11,
     "metadata": {},
     "output_type": "execute_result"
    }
   ],
   "source": [
    "SciPy.stats.mannwhitneyu(x, y; method=\"exact\")"
   ]
  },
  {
   "cell_type": "code",
   "execution_count": 12,
   "id": "b4777186-24b5-4a93-9aa9-2c991e0c63d8",
   "metadata": {},
   "outputs": [
    {
     "name": "stdout",
     "output_type": "stream",
     "text": [
      "pvalue_exact_mann_whitney_u_test(x, y) = 0.26666666666666666\n",
      "pvalue_exact_mann_whitney_u_test(y, x) = 0.26666666666666666\n",
      "pvalue(ExactMannWhitneyUTest(x, y)) = 0.13333333333333333\n"
     ]
    }
   ],
   "source": [
    "x, y = [1, 2], [2, 2, 3, 4]\n",
    "m, n = length(x), length(y)\n",
    "@show pvalue_exact_mann_whitney_u_test(x, y)\n",
    "@show pvalue_exact_mann_whitney_u_test(y, x)\n",
    "@show pvalue(ExactMannWhitneyUTest(x, y));"
   ]
  },
  {
   "cell_type": "code",
   "execution_count": 13,
   "id": "33ae4a25-3682-4d08-96d5-8e1112d54548",
   "metadata": {},
   "outputs": [
    {
     "data": {
      "text/plain": [
       "RObject{VecSxp}\n",
       "\n",
       "\tExact Wilcoxon rank sum test\n",
       "\n",
       "data:  x and y\n",
       "W = 1, p-value = 0.2667\n",
       "alternative hypothesis: true mu is not equal to 0\n",
       "\n"
      ]
     },
     "execution_count": 13,
     "metadata": {},
     "output_type": "execute_result"
    }
   ],
   "source": [
    "@rput x y\n",
    "R\"\"\"\n",
    "wilcox.exact(x, y)\n",
    "\"\"\""
   ]
  },
  {
   "cell_type": "code",
   "execution_count": 14,
   "id": "ed7b842a-e487-4a5f-9d70-b07f3cc10651",
   "metadata": {},
   "outputs": [
    {
     "name": "stdout",
     "output_type": "stream",
     "text": [
      "df = 6×2 DataFrame\n",
      " Row │ score  gender\n",
      "     │ Int64  Int64\n",
      "─────┼───────────────\n",
      "   1 │     1       1\n",
      "   2 │     2       1\n",
      "   3 │     2       0\n",
      "   4 │     2       0\n",
      "   5 │     3       0\n",
      "   6 │     4       0\n"
     ]
    },
    {
     "data": {
      "text/plain": [
       "RObject{S4Sxp}\n",
       "\n",
       "\tExact Wilcoxon-Mann-Whitney Test\n",
       "\n",
       "data:  score by gender (0, 1)\n",
       "Z = 1.4756, p-value = 0.2667\n",
       "alternative hypothesis: true mu is not equal to 0\n",
       "\n"
      ]
     },
     "execution_count": 14,
     "metadata": {},
     "output_type": "execute_result"
    }
   ],
   "source": [
    "score = [x; y]\n",
    "gender = [fill(1, length(x)); fill(0, length(y))]\n",
    "df = DataFrame(score=score, gender=gender)\n",
    "@show df\n",
    "@rput df\n",
    "R\"\"\"\n",
    "df$gender <- as.factor(df$gender)\n",
    "wilcox_test(score ~ gender, distribution = \"exact\", data=df)\n",
    "\"\"\""
   ]
  },
  {
   "cell_type": "code",
   "execution_count": 15,
   "id": "a7150b21-8c72-48c0-84ac-c9bbc2c987e5",
   "metadata": {},
   "outputs": [
    {
     "data": {
      "text/plain": [
       "(1.0, 0.26666666666666666)"
      ]
     },
     "execution_count": 15,
     "metadata": {},
     "output_type": "execute_result"
    }
   ],
   "source": [
    "SciPy.stats.mannwhitneyu(x, y; method=\"exact\")"
   ]
  },
  {
   "cell_type": "code",
   "execution_count": 16,
   "id": "3356c061-1aa4-41aa-b8f2-8a2e8e5970f6",
   "metadata": {},
   "outputs": [
    {
     "name": "stdout",
     "output_type": "stream",
     "text": [
      "pvalue_exact_mann_whitney_u_test(x, y) = 0.23809523809523808\n",
      "pvalue_exact_mann_whitney_u_test(y, x) = 0.23809523809523808\n",
      "pvalue(ExactMannWhitneyUTest(x, y)) = 0.09523809523809523\n"
     ]
    }
   ],
   "source": [
    "x, y = [1, 2], [2, 2, 2, 4, 5]\n",
    "m, n = length(x), length(y)\n",
    "@show pvalue_exact_mann_whitney_u_test(x, y)\n",
    "@show pvalue_exact_mann_whitney_u_test(y, x)\n",
    "@show pvalue(ExactMannWhitneyUTest(x, y));"
   ]
  },
  {
   "cell_type": "code",
   "execution_count": 17,
   "id": "7ebbc4b1-cd97-46ba-b63d-bb9801622a6b",
   "metadata": {},
   "outputs": [
    {
     "data": {
      "text/plain": [
       "RObject{VecSxp}\n",
       "\n",
       "\tExact Wilcoxon rank sum test\n",
       "\n",
       "data:  x and y\n",
       "W = 1.5, p-value = 0.2381\n",
       "alternative hypothesis: true mu is not equal to 0\n",
       "\n"
      ]
     },
     "execution_count": 17,
     "metadata": {},
     "output_type": "execute_result"
    }
   ],
   "source": [
    "@rput x y\n",
    "R\"\"\"\n",
    "wilcox.exact(x, y)\n",
    "\"\"\""
   ]
  },
  {
   "cell_type": "code",
   "execution_count": 18,
   "id": "2895f66b-bef6-4d6a-920d-ed415ab6aef0",
   "metadata": {},
   "outputs": [
    {
     "data": {
      "text/plain": [
       "(1.5, 0.38095238095238093)"
      ]
     },
     "execution_count": 18,
     "metadata": {},
     "output_type": "execute_result"
    }
   ],
   "source": [
    "SciPy.stats.mannwhitneyu(x, y; method=\"exact\")"
   ]
  },
  {
   "cell_type": "code",
   "execution_count": 19,
   "id": "0331f205-009c-4ea2-93c2-16e30f18c32f",
   "metadata": {
    "tags": []
   },
   "outputs": [
    {
     "name": "stdout",
     "output_type": "stream",
     "text": [
      "pvalue_exact_mann_whitney_u_test(x, y) = 0.11666666666666667\n",
      "pvalue_exact_mann_whitney_u_test(y, x) = 0.11666666666666667\n",
      "pvalue(ExactMannWhitneyUTest(x, y)) = 0.06666666666666667\n"
     ]
    }
   ],
   "source": [
    "x, y = [1, 2, 2], [2, 2, 2, 4, 5, 6, 7]\n",
    "m, n = length(x), length(y)\n",
    "@show pvalue_exact_mann_whitney_u_test(x, y)\n",
    "@show pvalue_exact_mann_whitney_u_test(y, x)\n",
    "@show pvalue(ExactMannWhitneyUTest(x, y));"
   ]
  },
  {
   "cell_type": "code",
   "execution_count": 20,
   "id": "a78bc5fe-53e9-4594-bb50-323a841b130b",
   "metadata": {},
   "outputs": [
    {
     "data": {
      "text/plain": [
       "RObject{VecSxp}\n",
       "\n",
       "\tExact Wilcoxon rank sum test\n",
       "\n",
       "data:  x and y\n",
       "W = 3, p-value = 0.1167\n",
       "alternative hypothesis: true mu is not equal to 0\n",
       "\n"
      ]
     },
     "execution_count": 20,
     "metadata": {},
     "output_type": "execute_result"
    }
   ],
   "source": [
    "@rput x y\n",
    "R\"\"\"\n",
    "wilcox.exact(x, y)\n",
    "\"\"\""
   ]
  },
  {
   "cell_type": "code",
   "execution_count": 21,
   "id": "c1e8e1c3-13a9-46e8-ae9c-9c79a30ef823",
   "metadata": {},
   "outputs": [
    {
     "name": "stdout",
     "output_type": "stream",
     "text": [
      "df = 10×2 DataFrame\n",
      " Row │ score  gender\n",
      "     │ Int64  Int64\n",
      "─────┼───────────────\n",
      "   1 │     1       1\n",
      "   2 │     2       1\n",
      "   3 │     2       1\n",
      "   4 │     2       0\n",
      "   5 │     2       0\n",
      "   6 │     2       0\n",
      "   7 │     4       0\n",
      "   8 │     5       0\n",
      "   9 │     6       0\n",
      "  10 │     7       0\n"
     ]
    },
    {
     "data": {
      "text/plain": [
       "RObject{S4Sxp}\n",
       "\n",
       "\tExact Wilcoxon-Mann-Whitney Test\n",
       "\n",
       "data:  score by gender (0, 1)\n",
       "Z = 1.8235, p-value = 0.1167\n",
       "alternative hypothesis: true mu is not equal to 0\n",
       "\n"
      ]
     },
     "execution_count": 21,
     "metadata": {},
     "output_type": "execute_result"
    }
   ],
   "source": [
    "score = [x; y]\n",
    "gender = [fill(1, length(x)); fill(0, length(y))]\n",
    "df = DataFrame(score=score, gender=gender)\n",
    "@show df\n",
    "@rput df\n",
    "R\"\"\"\n",
    "df$gender <- as.factor(df$gender)\n",
    "wilcox_test(score ~ gender, distribution = \"exact\", data=df)\n",
    "\"\"\""
   ]
  },
  {
   "cell_type": "code",
   "execution_count": 22,
   "id": "cabc0580-ca9b-4949-9d5c-82cfc97055bb",
   "metadata": {},
   "outputs": [
    {
     "data": {
      "text/plain": [
       "(3.0, 0.11666666666666667)"
      ]
     },
     "execution_count": 22,
     "metadata": {},
     "output_type": "execute_result"
    }
   ],
   "source": [
    "SciPy.stats.mannwhitneyu(x, y; method=\"exact\")"
   ]
  },
  {
   "cell_type": "code",
   "execution_count": 23,
   "id": "4c567b40-5cea-4e52-ba80-63bc14800177",
   "metadata": {},
   "outputs": [
    {
     "name": "stdout",
     "output_type": "stream",
     "text": [
      "pvalue_exact_mann_whitney_u_test(x, y) = 0.1067349664738277\n",
      "pvalue_exact_mann_whitney_u_test(y, x) = 0.1067349664738277\n",
      "pvalue(ExactMannWhitneyUTest(x, y)) = 0.1067453209060424\n"
     ]
    }
   ],
   "source": [
    "x = [11, 15,  9,  4, 34, 17, 18, 14, 12, 13, 26, 31]\n",
    "y = [34, 31, 35, 29, 28, 12, 18, 30, 14, 22, 10]\n",
    "m, n = length(x), length(y)\n",
    "@show pvalue_exact_mann_whitney_u_test(x, y)\n",
    "@show pvalue_exact_mann_whitney_u_test(y, x)\n",
    "@show pvalue(ExactMannWhitneyUTest(x, y));"
   ]
  },
  {
   "cell_type": "code",
   "execution_count": 24,
   "id": "9890296b-8154-49b2-87f2-c90af0787cd2",
   "metadata": {},
   "outputs": [
    {
     "data": {
      "text/plain": [
       "RObject{VecSxp}\n",
       "\n",
       "\tExact Wilcoxon rank sum test\n",
       "\n",
       "data:  x and y\n",
       "W = 39.5, p-value = 0.1067\n",
       "alternative hypothesis: true mu is not equal to 0\n",
       "\n"
      ]
     },
     "execution_count": 24,
     "metadata": {},
     "output_type": "execute_result"
    }
   ],
   "source": [
    "@rput x y\n",
    "R\"\"\"\n",
    "wilcox.exact(x, y)\n",
    "\"\"\""
   ]
  },
  {
   "cell_type": "code",
   "execution_count": 25,
   "id": "74860b5c-158c-4141-b946-37d3743cdd40",
   "metadata": {},
   "outputs": [
    {
     "name": "stdout",
     "output_type": "stream",
     "text": [
      "df = 23×2 DataFrame\n",
      " Row │ score  gender\n",
      "     │ Int64  Int64\n",
      "─────┼───────────────\n",
      "   1 │    11       1\n",
      "   2 │    15       1\n",
      "   3 │     9       1\n",
      "   4 │     4       1\n",
      "   5 │    34       1\n",
      "   6 │    17       1\n",
      "   7 │    18       1\n",
      "   8 │    14       1\n",
      "   9 │    12       1\n",
      "  10 │    13       1\n",
      "  11 │    26       1\n",
      "  12 │    31       1\n",
      "  13 │    34       0\n",
      "  14 │    31       0\n",
      "  15 │    35       0\n",
      "  16 │    29       0\n",
      "  17 │    28       0\n",
      "  18 │    12       0\n",
      "  19 │    18       0\n",
      "  20 │    30       0\n",
      "  21 │    14       0\n",
      "  22 │    22       0\n",
      "  23 │    10       0\n"
     ]
    },
    {
     "data": {
      "text/plain": [
       "RObject{S4Sxp}\n",
       "\n",
       "\tExact Wilcoxon-Mann-Whitney Test\n",
       "\n",
       "data:  score by gender (0, 1)\n",
       "Z = 1.633, p-value = 0.1067\n",
       "alternative hypothesis: true mu is not equal to 0\n",
       "\n"
      ]
     },
     "execution_count": 25,
     "metadata": {},
     "output_type": "execute_result"
    }
   ],
   "source": [
    "score = [x; y]\n",
    "gender = [fill(1, length(x)); fill(0, length(y))]\n",
    "df = DataFrame(score=score, gender=gender)\n",
    "@show df\n",
    "@rput df\n",
    "R\"\"\"\n",
    "df$gender <- as.factor(df$gender)\n",
    "wilcox_test(score ~ gender, distribution = \"exact\", data=df)\n",
    "\"\"\""
   ]
  },
  {
   "cell_type": "code",
   "execution_count": 26,
   "id": "24ef266e-dfb8-4461-8efa-8eed21e777b9",
   "metadata": {},
   "outputs": [
    {
     "data": {
      "text/plain": [
       "(39.5, 0.11792810769792868)"
      ]
     },
     "execution_count": 26,
     "metadata": {},
     "output_type": "execute_result"
    }
   ],
   "source": [
    "SciPy.stats.mannwhitneyu(x, y; method=\"exact\")"
   ]
  },
  {
   "cell_type": "code",
   "execution_count": 27,
   "id": "a9ac9b93-95e2-4a88-9038-882002d33e42",
   "metadata": {},
   "outputs": [
    {
     "name": "stdout",
     "output_type": "stream",
     "text": [
      "x = [4, 7, 8, 9, 13, 13, 17, 11] |> sort = [4, 7, 8, 9, 11, 13, 13, 17]\n",
      "y = [23, 6, 3, 24, 17, 14, 24, 29, 13, 33] |> sort = [3, 6, 13, 14, 17, 23, 24, 24, 29, 33]\n",
      "\n",
      "pvalue_exact_mann_whitney_u_test(x, y) = 0.057086704145527675\n",
      "pvalue_exact_mann_whitney_u_test(y, x) = 0.057086704145527675\n",
      "pvalue(ExactMannWhitneyUTest(x, y)) = 0.05694958636135107\n"
     ]
    }
   ],
   "source": [
    "@show x = [ 4,  7,  8,  9, 13, 13, 17, 11] |> sort\n",
    "@show y = [23,  6,  3, 24, 17, 14, 24, 29, 13, 33] |> sort\n",
    "m, n = length(x), length(y)\n",
    "println()\n",
    "@show pvalue_exact_mann_whitney_u_test(x, y)\n",
    "@show pvalue_exact_mann_whitney_u_test(y, x)\n",
    "@show pvalue(ExactMannWhitneyUTest(x, y));"
   ]
  },
  {
   "cell_type": "code",
   "execution_count": 28,
   "id": "643d5f43-7aff-4c78-9af0-7c36822c70ff",
   "metadata": {},
   "outputs": [
    {
     "data": {
      "text/plain": [
       "RObject{VecSxp}\n",
       "\n",
       "\tExact Wilcoxon rank sum test\n",
       "\n",
       "data:  x and y\n",
       "W = 18.5, p-value = 0.05709\n",
       "alternative hypothesis: true mu is not equal to 0\n",
       "\n"
      ]
     },
     "execution_count": 28,
     "metadata": {},
     "output_type": "execute_result"
    }
   ],
   "source": [
    "@rput x y\n",
    "R\"\"\"\n",
    "wilcox.exact(x, y)\n",
    "\"\"\""
   ]
  },
  {
   "cell_type": "code",
   "execution_count": 29,
   "id": "657e69d4-a5ad-4f4e-9c49-fcf2f6892fb9",
   "metadata": {},
   "outputs": [
    {
     "name": "stdout",
     "output_type": "stream",
     "text": [
      "df = 18×2 DataFrame\n",
      " Row │ score  gender\n",
      "     │ Int64  Int64\n",
      "─────┼───────────────\n",
      "   1 │     4       1\n",
      "   2 │     7       1\n",
      "   3 │     8       1\n",
      "   4 │     9       1\n",
      "   5 │    11       1\n",
      "   6 │    13       1\n",
      "   7 │    13       1\n",
      "   8 │    17       1\n",
      "   9 │     3       0\n",
      "  10 │     6       0\n",
      "  11 │    13       0\n",
      "  12 │    14       0\n",
      "  13 │    17       0\n",
      "  14 │    23       0\n",
      "  15 │    24       0\n",
      "  16 │    24       0\n",
      "  17 │    29       0\n",
      "  18 │    33       0\n"
     ]
    },
    {
     "data": {
      "text/plain": [
       "RObject{S4Sxp}\n",
       "\n",
       "\tExact Wilcoxon-Mann-Whitney Test\n",
       "\n",
       "data:  score by gender (0, 1)\n",
       "Z = 1.9163, p-value = 0.05709\n",
       "alternative hypothesis: true mu is not equal to 0\n",
       "\n"
      ]
     },
     "execution_count": 29,
     "metadata": {},
     "output_type": "execute_result"
    }
   ],
   "source": [
    "score = [x; y]\n",
    "gender = [fill(1, length(x)); fill(0, length(y))]\n",
    "df = DataFrame(score=score, gender=gender)\n",
    "@show df\n",
    "@rput df\n",
    "R\"\"\"\n",
    "df$gender <- as.factor(df$gender)\n",
    "wilcox_test(score ~ gender, distribution = \"exact\", data=df)\n",
    "\"\"\""
   ]
  },
  {
   "cell_type": "code",
   "execution_count": 30,
   "id": "4e8d3087-4c76-43bf-9ada-b4de2708d89f",
   "metadata": {},
   "outputs": [
    {
     "data": {
      "text/plain": [
       "(18.5, 0.0675990675990676)"
      ]
     },
     "execution_count": 30,
     "metadata": {},
     "output_type": "execute_result"
    }
   ],
   "source": [
    "SciPy.stats.mannwhitneyu(x, y; method=\"exact\")"
   ]
  },
  {
   "cell_type": "code",
   "execution_count": 31,
   "id": "237c2011-f61e-456a-9b41-a0b767998f1e",
   "metadata": {},
   "outputs": [
    {
     "name": "stdout",
     "output_type": "stream",
     "text": [
      "x = [4, 7, 8, 9, 13, 13, 17, 11] |> sort = [4, 7, 8, 9, 11, 13, 13, 17]\n",
      "y = [23, 6, 3, 24, 17, 14, 24, 29, 13, 33] |> sort = [3, 6, 13, 14, 17, 23, 24, 24, 29, 33]\n",
      "(m, n) = (length(x), length(y)) = (8, 10)\n",
      "\n",
      "  1.149 ms (0 allocations: 0 bytes)\n",
      "  1.163 ms (4 allocations: 752 bytes)\n",
      "  1.117 ms (0 allocations: 0 bytes)\n",
      "  1.139 ms (4 allocations: 752 bytes)\n",
      "  1.986 ms (87523 allocations: 6.68 MiB)\n",
      "a = 0.057086704145527675\n",
      "b = 0.057086704145527675\n",
      "c = 0.057086704145527675\n",
      "d = 0.057086704145527675\n",
      "e = 0.05694958636135107\n"
     ]
    }
   ],
   "source": [
    "@show x = [ 4,  7,  8,  9, 13, 13, 17, 11] |> sort\n",
    "@show y = [23,  6,  3, 24, 17, 14, 24, 29, 13, 33] |> sort\n",
    "@show m, n = length(x), length(y)\n",
    "println()\n",
    "\n",
    "xy = Vector{promote_type(eltype(x), eltype(y))}(undef, length(x)+length(y))\n",
    "rankxy = similar(xy, Float64)\n",
    "place = similar(xy, Int)\n",
    "c = similar(x, Int, min(length(x), length(y)))\n",
    "\n",
    "a = @btime pvalue_exact_mann_whitney_u_test($x, $y, $xy, $rankxy, $place, $c)\n",
    "b = @btime pvalue_exact_mann_whitney_u_test($x, $y)\n",
    "c = @btime pvalue_exact_mann_whitney_u_test($y, $x, $xy, $rankxy, $place, $c)\n",
    "d = @btime pvalue_exact_mann_whitney_u_test($y, $x)\n",
    "e = @btime pvalue(ExactMannWhitneyUTest($x, $y))\n",
    "@show a b c d e;"
   ]
  },
  {
   "cell_type": "code",
   "execution_count": null,
   "id": "5d075381-2402-45dc-9ead-7035d344f4d3",
   "metadata": {},
   "outputs": [],
   "source": []
  }
 ],
 "metadata": {
  "jupytext": {
   "formats": "ipynb,jl:hydrogen"
  },
  "kernelspec": {
   "display_name": "Julia 1.7.3",
   "language": "julia",
   "name": "julia-1.7"
  },
  "language_info": {
   "file_extension": ".jl",
   "mimetype": "application/julia",
   "name": "julia",
   "version": "1.7.3"
  }
 },
 "nbformat": 4,
 "nbformat_minor": 5
}
