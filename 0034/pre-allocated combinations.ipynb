{
 "cells": [
  {
   "cell_type": "code",
   "execution_count": 1,
   "id": "15619aaf-9cf0-4fd4-b841-aaca4ecd2d4b",
   "metadata": {},
   "outputs": [
    {
     "data": {
      "text/plain": [
       "mycombinations"
      ]
     },
     "execution_count": 1,
     "metadata": {},
     "output_type": "execute_result"
    }
   ],
   "source": [
    "\"\"\"\n",
    "    nextcombination!(n, t, c = typeof(t)[min(t-1, i) for i in 1:t])\n",
    "\n",
    "`[1,2,…,n]` からの重複無しの `t` 個の組み合わせ `c` をすべて生成したい.\n",
    "\n",
    "`nextcombination!(n, t, c)` は配列で表現された組み合わせ `c` をその次の組み合わせに書き換えて, `c` を返す.\n",
    "\n",
    "初期条件を `c = typeof(t)[min(t-1, i) for i in 1:t]` にすると, `binomial(n, t)` 回の `nextcombination!(n, t, c)` ですべての組み合わせが生成される.\n",
    "\"\"\"\n",
    "function nextcombination!(n, t, c = typeof(t)[min(t-1, i) for i in 1:t])\n",
    "    t == 0 && return c\n",
    "    @inbounds for i in t:-1:1\n",
    "        c[i] += 1\n",
    "        c[i] > (n - (t - i)) && continue\n",
    "        for j in i+1:t\n",
    "            c[j] = c[j-1] + 1\n",
    "        end\n",
    "        break\n",
    "    end\n",
    "    c\n",
    "end\n",
    "\n",
    "\"\"\"\n",
    "    mycombinations!(n::Integer, t, c)\n",
    "\n",
    "事前に割り当てられた組み合わせを格納する配列 `c` を使って, `[1,2,…,n]` からの重複無しの `t` 個の組み合わせのすべてを生成する生成子を返す.\n",
    "\"\"\"\n",
    "function mycombinations!(n::Integer, t, c)\n",
    "    for i in 1:t c[i] = min(t - 1, i) end\n",
    "    (nextcombination!(n, t, c) for _ in 1:binomial(n, t))\n",
    "end\n",
    "\n",
    "\"\"\"\n",
    "    mycombinations!(a, t, c)\n",
    "\n",
    "事前に割り当てられた組み合わせを格納する配列 `c` を使って, 配列 `a` からのインデックスに重複がない `t` 個の組み合わせのすべてを生成する生成子を返す.\n",
    "\"\"\"\n",
    "function mycombinations!(a, t, c)\n",
    "    t < 0 && (t = length(a) + 1)\n",
    "    (view(a, indices) for indices in mycombinations!(length(a), t, c))\n",
    "end\n",
    "\n",
    "\"\"\"\n",
    "    mycombinations(x, t)\n",
    "\n",
    "`x` が整数ならば `[1,2,…,x]` からの, `x` が配列ならば `x` からのインデックスに重複がない `t` 個の組み合わせのすべてを生成する生成子を返す.\n",
    "\"\"\"\n",
    "mycombinations(x, t) = mycombinations!(x, t, Vector{typeof(t)}(undef, t))"
   ]
  },
  {
   "cell_type": "code",
   "execution_count": 2,
   "id": "75247a28-82e2-44d2-82c6-affa2b1cad56",
   "metadata": {},
   "outputs": [
    {
     "data": {
      "text/latex": [
       "\\begin{verbatim}\n",
       "nextcombination!(n, t, c = typeof(t)[min(t-1, i) for i in 1:t])\n",
       "\\end{verbatim}\n",
       "\\texttt{[1,2,…,n]} からの重複無しの \\texttt{t} 個の組み合わせ \\texttt{c} をすべて生成したい.\n",
       "\n",
       "\\texttt{nextcombination!(n, t, c)} は配列で表現された組み合わせ \\texttt{c} をその次の組み合わせに書き換えて, \\texttt{c} を返す.\n",
       "\n",
       "初期条件を \\texttt{c = typeof(t)[min(t-1, i) for i in 1:t]} にすると, \\texttt{binomial(n, t)} 回の \\texttt{nextcombination!(n, t, c)} ですべての組み合わせが生成される.\n",
       "\n"
      ],
      "text/markdown": [
       "```\n",
       "nextcombination!(n, t, c = typeof(t)[min(t-1, i) for i in 1:t])\n",
       "```\n",
       "\n",
       "`[1,2,…,n]` からの重複無しの `t` 個の組み合わせ `c` をすべて生成したい.\n",
       "\n",
       "`nextcombination!(n, t, c)` は配列で表現された組み合わせ `c` をその次の組み合わせに書き換えて, `c` を返す.\n",
       "\n",
       "初期条件を `c = typeof(t)[min(t-1, i) for i in 1:t]` にすると, `binomial(n, t)` 回の `nextcombination!(n, t, c)` ですべての組み合わせが生成される.\n"
      ],
      "text/plain": [
       "\u001b[36m  nextcombination!(n, t, c = typeof(t)[min(t-1, i) for i in 1:t])\u001b[39m\n",
       "\n",
       "  \u001b[36m[1,2,…,n]\u001b[39m からの重複無しの \u001b[36mt\u001b[39m 個の組み合わせ \u001b[36mc\u001b[39m をすべて生成したい.\n",
       "\n",
       "  \u001b[36mnextcombination!(n, t, c)\u001b[39m は配列で表現された組み合わせ \u001b[36mc\u001b[39m をその次の組み合わせに書き換えて, \u001b[36mc\u001b[39m を返す.\n",
       "\n",
       "  初期条件を \u001b[36mc = typeof(t)[min(t-1, i) for i in 1:t]\u001b[39m にすると, \u001b[36mbinomial(n, t)\u001b[39m 回の\n",
       "  \u001b[36mnextcombination!(n, t, c)\u001b[39m ですべての組み合わせが生成される."
      ]
     },
     "execution_count": 2,
     "metadata": {},
     "output_type": "execute_result"
    }
   ],
   "source": [
    "@doc nextcombination!"
   ]
  },
  {
   "cell_type": "code",
   "execution_count": 3,
   "id": "6fe68312-49b0-40cf-beb8-88c32a6d515c",
   "metadata": {},
   "outputs": [
    {
     "data": {
      "text/latex": [
       "\\begin{verbatim}\n",
       "mycombinations!(n::Integer, t, c)\n",
       "\\end{verbatim}\n",
       "事前に割り当てられた組み合わせを格納する配列 \\texttt{c} を使って, \\texttt{[1,2,…,n]} からの重複無しの \\texttt{t} 個の組み合わせのすべてを生成する生成子を返す.\n",
       "\n",
       "\\begin{verbatim}\n",
       "mycombinations!(a, t, c)\n",
       "\\end{verbatim}\n",
       "事前に割り当てられた組み合わせを格納する配列 \\texttt{c} を使って, 配列 \\texttt{a} からのインデックスに重複がない \\texttt{t} 個の組み合わせのすべてを生成する生成子を返す.\n",
       "\n"
      ],
      "text/markdown": [
       "```\n",
       "mycombinations!(n::Integer, t, c)\n",
       "```\n",
       "\n",
       "事前に割り当てられた組み合わせを格納する配列 `c` を使って, `[1,2,…,n]` からの重複無しの `t` 個の組み合わせのすべてを生成する生成子を返す.\n",
       "\n",
       "```\n",
       "mycombinations!(a, t, c)\n",
       "```\n",
       "\n",
       "事前に割り当てられた組み合わせを格納する配列 `c` を使って, 配列 `a` からのインデックスに重複がない `t` 個の組み合わせのすべてを生成する生成子を返す.\n"
      ],
      "text/plain": [
       "\u001b[36m  mycombinations!(n::Integer, t, c)\u001b[39m\n",
       "\n",
       "  事前に割り当てられた組み合わせを格納する配列 \u001b[36mc\u001b[39m を使って, \u001b[36m[1,2,…,n]\u001b[39m からの重複無しの \u001b[36mt\u001b[39m 個の組み合わせのすべてを生成する生成子を返す.\n",
       "\n",
       "\u001b[36m  mycombinations!(a, t, c)\u001b[39m\n",
       "\n",
       "  事前に割り当てられた組み合わせを格納する配列 \u001b[36mc\u001b[39m を使って, 配列 \u001b[36ma\u001b[39m からのインデックスに重複がない \u001b[36mt\u001b[39m\n",
       "  個の組み合わせのすべてを生成する生成子を返す."
      ]
     },
     "execution_count": 3,
     "metadata": {},
     "output_type": "execute_result"
    }
   ],
   "source": [
    "@doc mycombinations!"
   ]
  },
  {
   "cell_type": "code",
   "execution_count": 4,
   "id": "687ec745-0e29-44d0-a0cd-2d6439aacf9a",
   "metadata": {},
   "outputs": [
    {
     "data": {
      "text/latex": [
       "\\begin{verbatim}\n",
       "mycombinations(x, t)\n",
       "\\end{verbatim}\n",
       "\\texttt{x} が整数ならば \\texttt{[1,2,…,x]} からの, \\texttt{x} が配列ならば \\texttt{x} からのインデックスに重複がない \\texttt{t} 個の組み合わせのすべてを生成する生成子を返す.\n",
       "\n"
      ],
      "text/markdown": [
       "```\n",
       "mycombinations(x, t)\n",
       "```\n",
       "\n",
       "`x` が整数ならば `[1,2,…,x]` からの, `x` が配列ならば `x` からのインデックスに重複がない `t` 個の組み合わせのすべてを生成する生成子を返す.\n"
      ],
      "text/plain": [
       "\u001b[36m  mycombinations(x, t)\u001b[39m\n",
       "\n",
       "  \u001b[36mx\u001b[39m が整数ならば \u001b[36m[1,2,…,x]\u001b[39m からの, \u001b[36mx\u001b[39m が配列ならば \u001b[36mx\u001b[39m からのインデックスに重複がない \u001b[36mt\u001b[39m 個の組み合わせのすべてを生成する生成子を返す."
      ]
     },
     "execution_count": 4,
     "metadata": {},
     "output_type": "execute_result"
    }
   ],
   "source": [
    "@doc mycombinations"
   ]
  },
  {
   "cell_type": "code",
   "execution_count": 5,
   "id": "83ffb54a-d719-4b48-a4ca-3d8388f432f0",
   "metadata": {},
   "outputs": [
    {
     "name": "stdout",
     "output_type": "stream",
     "text": [
      "binomial(5, 3) = 10\n",
      "c = typeof(t)[min(t - 1, i) for i = 1:t] = [1, 2, 2]\n",
      "(1, nextcombination!(5, 3, c)) = (1, [1, 2, 3])\n",
      "(2, nextcombination!(5, 3, c)) = (2, [1, 2, 4])\n",
      "(3, nextcombination!(5, 3, c)) = (3, [1, 2, 5])\n",
      "(4, nextcombination!(5, 3, c)) = (4, [1, 3, 4])\n",
      "(5, nextcombination!(5, 3, c)) = (5, [1, 3, 5])\n",
      "(6, nextcombination!(5, 3, c)) = (6, [1, 4, 5])\n",
      "(7, nextcombination!(5, 3, c)) = (7, [2, 3, 4])\n",
      "(8, nextcombination!(5, 3, c)) = (8, [2, 3, 5])\n",
      "(9, nextcombination!(5, 3, c)) = (9, [2, 4, 5])\n",
      "(10, nextcombination!(5, 3, c)) = (10, [3, 4, 5])\n",
      "(11, nextcombination!(5, 3, c)) = (11, [4, 5, 6])\n",
      "(12, nextcombination!(5, 3, c)) = (12, [5, 6, 7])\n"
     ]
    }
   ],
   "source": [
    "# nextcombination!(n, t, c) は組み合わせを表す配列 c を次の組み合わせに書き変える.\n",
    "# nextcombination!(n, t, c) の結果は最初の binomial(n, t) 個だけが有効.\n",
    "n, t = 5, 3\n",
    "@eval @show binomial($n, $t)\n",
    "@show c = typeof(t)[min(t-1, i) for i in 1:t]\n",
    "for i in 1:binomial(n, t)+2\n",
    "    @eval @show $i, nextcombination!($n, $t, c)\n",
    "end"
   ]
  },
  {
   "cell_type": "code",
   "execution_count": 6,
   "id": "0992198f-7225-45ab-9764-70b027f7ec6b",
   "metadata": {},
   "outputs": [
    {
     "name": "stdout",
     "output_type": "stream",
     "text": [
      "sumcombs(a, t) = 10346336\n",
      "mysumcombs(a, t) = 10346336\n",
      "mysumcombs(a, t, c) = 10346336\n"
     ]
    }
   ],
   "source": [
    "using Combinatorics\n",
    "\n",
    "function sumcombs(a, t)\n",
    "    s = 0\n",
    "    for c in combinations(a, t) # by Combinatorics.jl\n",
    "        s += sum(c)\n",
    "    end\n",
    "    s\n",
    "end\n",
    "\n",
    "function mysumcombs(a, t, c = Vector{typeof(t)}(undef, t))\n",
    "    s = 0\n",
    "    for v in mycombinations!(a, t, c)\n",
    "        s += sum(v)\n",
    "    end\n",
    "    s\n",
    "end\n",
    "\n",
    "a = rand(1:10, 20)\n",
    "t = 10\n",
    "c = Vector{typeof(t)}(undef, t)\n",
    "\n",
    "@show sumcombs(a, t)\n",
    "@show mysumcombs(a, t)\n",
    "@show mysumcombs(a, t, c);"
   ]
  },
  {
   "cell_type": "code",
   "execution_count": 7,
   "id": "710d390d-cfc1-48f8-b417-6b41e72e7843",
   "metadata": {},
   "outputs": [],
   "source": [
    "using BenchmarkTools"
   ]
  },
  {
   "cell_type": "code",
   "execution_count": 8,
   "id": "9d7d1d28-2b00-4ec6-b271-e6efaf43cf16",
   "metadata": {},
   "outputs": [
    {
     "name": "stdout",
     "output_type": "stream",
     "text": [
      "  0.014521 seconds (369.51 k allocations: 31.011 MiB, 35.88% gc time)\n",
      "  0.010358 seconds (369.51 k allocations: 31.011 MiB)\n",
      "  0.015772 seconds (369.51 k allocations: 31.011 MiB, 28.99% gc time)\n",
      "  8.860 ms (369513 allocations: 31.01 MiB)\n"
     ]
    },
    {
     "data": {
      "text/plain": [
       "10346336"
      ]
     },
     "execution_count": 8,
     "metadata": {},
     "output_type": "execute_result"
    }
   ],
   "source": [
    "# Combinatorics.jl の combinations を使うとメモリ割当てが発生する.\n",
    "\n",
    "@time sumcombs(a, t)\n",
    "@time sumcombs(a, t)\n",
    "@time sumcombs(a, t)\n",
    "@btime sumcombs($a, $t)"
   ]
  },
  {
   "cell_type": "code",
   "execution_count": 9,
   "id": "9204afff-c10d-4b83-a788-ed3f824ce8fd",
   "metadata": {},
   "outputs": [
    {
     "name": "stdout",
     "output_type": "stream",
     "text": [
      "  0.007488 seconds (2 allocations: 160 bytes)\n",
      "  0.005355 seconds (2 allocations: 160 bytes)\n",
      "  0.005449 seconds (2 allocations: 160 bytes)\n",
      "  5.293 ms (1 allocation: 144 bytes)\n"
     ]
    },
    {
     "data": {
      "text/plain": [
       "10346336"
      ]
     },
     "execution_count": 9,
     "metadata": {},
     "output_type": "execute_result"
    }
   ],
   "source": [
    "# mycombinations! を使うとメモリ割当てを大幅に抑制できる.\n",
    "\n",
    "@time mysumcombs(a, t)\n",
    "@time mysumcombs(a, t)\n",
    "@time mysumcombs(a, t)\n",
    "@btime mysumcombs($a, $t)"
   ]
  },
  {
   "cell_type": "code",
   "execution_count": 10,
   "id": "9f003611-43a9-4d77-82de-4737356a78a5",
   "metadata": {},
   "outputs": [
    {
     "name": "stdout",
     "output_type": "stream",
     "text": [
      "  0.006015 seconds (1 allocation: 16 bytes)\n",
      "  0.006509 seconds (1 allocation: 16 bytes)\n",
      "  0.006052 seconds (1 allocation: 16 bytes)\n",
      "  6.227 ms (0 allocations: 0 bytes)\n"
     ]
    },
    {
     "data": {
      "text/plain": [
       "10346336"
      ]
     },
     "execution_count": 10,
     "metadata": {},
     "output_type": "execute_result"
    }
   ],
   "source": [
    "# 事前割当てされた c と mycombinations! を使うとメモリ割当てをゼロにできる.\n",
    "\n",
    "@time mysumcombs(a, t, c)\n",
    "@time mysumcombs(a, t, c)\n",
    "@time mysumcombs(a, t, c)\n",
    "@btime mysumcombs($a, $t, $c)"
   ]
  },
  {
   "cell_type": "code",
   "execution_count": 11,
   "id": "837befd2-2120-46b4-980f-2188ba7b8b67",
   "metadata": {},
   "outputs": [
    {
     "name": "stdout",
     "output_type": "stream",
     "text": [
      "MethodInstance for mysumcombs(::Vector{Int64}, ::Int64, ::Vector{Int64})\n",
      "  from mysumcombs(a, t, c) in Main at In[6]:11\n",
      "Arguments\n",
      "  #self#\u001b[36m::Core.Const(mysumcombs)\u001b[39m\n",
      "  a\u001b[36m::Vector{Int64}\u001b[39m\n",
      "  t\u001b[36m::Int64\u001b[39m\n",
      "  c\u001b[36m::Vector{Int64}\u001b[39m\n",
      "Locals\n",
      "  @_5\u001b[33m\u001b[1m::Union{Nothing, Tuple{SubArray{Int64, 1, Vector{Int64}, Tuple{Vector{Int64}}, false}, Int64}}\u001b[22m\u001b[39m\n",
      "  s\u001b[36m::Int64\u001b[39m\n",
      "  v\u001b[36m::SubArray{Int64, 1, Vector{Int64}, Tuple{Vector{Int64}}, false}\u001b[39m\n",
      "Body\u001b[36m::Int64\u001b[39m\n",
      "\u001b[90m1 ─\u001b[39m       (s = 0)\n",
      "\u001b[90m│  \u001b[39m %2  = Main.mycombinations!(a, t, c)\u001b[36m::Core.PartialStruct(Base.Generator{Base.Generator{UnitRange{Int64}, var\"#1#2\"{Int64, Int64, Vector{Int64}}}, var\"#3#4\"{Vector{Int64}}}, Any[var\"#3#4\"{Vector{Int64}}, Core.PartialStruct(Base.Generator{UnitRange{Int64}, var\"#1#2\"{Int64, Int64, Vector{Int64}}}, Any[var\"#1#2\"{Int64, Int64, Vector{Int64}}, Core.PartialStruct(UnitRange{Int64}, Any[Core.Const(1), Int64])])])\u001b[39m\n",
      "\u001b[90m│  \u001b[39m       (@_5 = Base.iterate(%2))\n",
      "\u001b[90m│  \u001b[39m %4  = (@_5 === nothing)\u001b[36m::Bool\u001b[39m\n",
      "\u001b[90m│  \u001b[39m %5  = Base.not_int(%4)\u001b[36m::Bool\u001b[39m\n",
      "\u001b[90m└──\u001b[39m       goto #4 if not %5\n",
      "\u001b[90m2 ┄\u001b[39m %7  = @_5\u001b[36m::Tuple{SubArray{Int64, 1, Vector{Int64}, Tuple{Vector{Int64}}, false}, Int64}\u001b[39m\n",
      "\u001b[90m│  \u001b[39m       (v = Core.getfield(%7, 1))\n",
      "\u001b[90m│  \u001b[39m %9  = Core.getfield(%7, 2)\u001b[36m::Int64\u001b[39m\n",
      "\u001b[90m│  \u001b[39m %10 = s\u001b[36m::Int64\u001b[39m\n",
      "\u001b[90m│  \u001b[39m %11 = Main.sum(v)\u001b[36m::Int64\u001b[39m\n",
      "\u001b[90m│  \u001b[39m       (s = %10 + %11)\n",
      "\u001b[90m│  \u001b[39m       (@_5 = Base.iterate(%2, %9))\n",
      "\u001b[90m│  \u001b[39m %14 = (@_5 === nothing)\u001b[36m::Bool\u001b[39m\n",
      "\u001b[90m│  \u001b[39m %15 = Base.not_int(%14)\u001b[36m::Bool\u001b[39m\n",
      "\u001b[90m└──\u001b[39m       goto #4 if not %15\n",
      "\u001b[90m3 ─\u001b[39m       goto #2\n",
      "\u001b[90m4 ┄\u001b[39m       return s\n",
      "\n"
     ]
    }
   ],
   "source": [
    "@code_warntype mysumcombs(a, t, c)"
   ]
  },
  {
   "cell_type": "code",
   "execution_count": null,
   "id": "10cb8682-0d32-41b8-a48f-b795eb5a8461",
   "metadata": {},
   "outputs": [],
   "source": []
  }
 ],
 "metadata": {
  "jupytext": {
   "formats": "ipynb,jl:hydrogen"
  },
  "kernelspec": {
   "display_name": "Julia 1.7.3",
   "language": "julia",
   "name": "julia-1.7"
  },
  "language_info": {
   "file_extension": ".jl",
   "mimetype": "application/julia",
   "name": "julia",
   "version": "1.7.3"
  }
 },
 "nbformat": 4,
 "nbformat_minor": 5
}
