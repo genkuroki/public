{
 "cells": [
  {
   "cell_type": "code",
   "execution_count": 1,
   "id": "521a5d07",
   "metadata": {},
   "outputs": [
    {
     "data": {
      "text/plain": [
       "safediv (generic function with 1 method)"
      ]
     },
     "execution_count": 1,
     "metadata": {},
     "output_type": "execute_result"
    }
   ],
   "source": [
    "using Base.Threads\n",
    "using BenchmarkTools\n",
    "using Distributions\n",
    "using PrettyPrinting\n",
    "using QuadGK\n",
    "using Random\n",
    "using RCall\n",
    "using Roots\n",
    "using StatsBase\n",
    "using StatsFuns\n",
    "using StatsPlots\n",
    "default(fmt=:png, size=(400, 250),\n",
    "    titlefontsize=10, guidefontsize=8, tickfontsize=6)\n",
    "\n",
    "x ⪅ y = x < y || x ≈ y\n",
    "x ⪆ y = x > y || x ≈ y\n",
    "safemul(x, y) = x == 0 ? x : isinf(x) ? typeof(x)(Inf) : x*y\n",
    "safediv(x, y) = x == 0 ? x : isinf(y) ? zero(y) : x/y"
   ]
  },
  {
   "cell_type": "code",
   "execution_count": 2,
   "id": "dfe2e617",
   "metadata": {},
   "outputs": [
    {
     "data": {
      "text/plain": [
       "mycombinations"
      ]
     },
     "execution_count": 2,
     "metadata": {},
     "output_type": "execute_result"
    }
   ],
   "source": [
    "\"\"\"\n",
    "    nextcombination!(n, t, c = typeof(t)[min(t-1, i) for i in 1:t])\n",
    "\n",
    "`[1,2,…,n]` からの重複無しの `t` 個の組み合わせ `c` をすべて生成したい.\n",
    "\n",
    "`nextcombination!(n, t, c)` は配列で表現された組み合わせ `c` をその次の組み合わせに書き換えて, `c` を返す.\n",
    "\n",
    "初期条件を `c = typeof(t)[min(t-1, i) for i in 1:t]` にすると, `binomial(n, t)` 回の `nextcombination!(n, t, c)` ですべての組み合わせが生成される.\n",
    "\"\"\"\n",
    "function nextcombination!(n, t, c = typeof(t)[min(t-1, i) for i in 1:t])\n",
    "    t == 0 && return c\n",
    "    @inbounds for i in t:-1:1\n",
    "        c[i] += 1\n",
    "        c[i] > (n - (t - i)) && continue\n",
    "        for j in i+1:t\n",
    "            c[j] = c[j-1] + 1\n",
    "        end\n",
    "        break\n",
    "    end\n",
    "    c\n",
    "end\n",
    "\n",
    "\"\"\"\n",
    "    mycombinations!(n::Integer, t, c)\n",
    "\n",
    "事前に割り当てられた組み合わせを格納する配列 `c` を使って, `[1,2,…,n]` からの重複無しの `t` 個の組み合わせのすべてを生成する生成子を返す.\n",
    "\"\"\"\n",
    "function mycombinations!(n::Integer, t, c)\n",
    "    for i in 1:t c[i] = min(t - 1, i) end\n",
    "    (nextcombination!(n, t, c) for _ in 1:binomial(n, t))\n",
    "end\n",
    "\n",
    "\"\"\"\n",
    "    mycombinations!(a, t, c)\n",
    "\n",
    "事前に割り当てられた組み合わせを格納する配列 `c` を使って, 配列 `a` からのインデックスに重複がない `t` 個の組み合わせのすべてを生成する生成子を返す.\n",
    "\"\"\"\n",
    "function mycombinations!(a, t, c)\n",
    "    t < 0 && (t = length(a) + 1)\n",
    "    (view(a, indices) for indices in mycombinations!(length(a), t, c))\n",
    "end\n",
    "\n",
    "\"\"\"\n",
    "    mycombinations(x, t)\n",
    "\n",
    "`x` が整数ならば `[1,2,…,x]` からの, `x` が配列ならば `x` からのインデックスに重複がない `t` 個の組み合わせのすべてを生成する生成子を返す.\n",
    "\"\"\"\n",
    "mycombinations(x, t) = mycombinations!(x, t, Vector{typeof(t)}(undef, t))"
   ]
  },
  {
   "cell_type": "code",
   "execution_count": 3,
   "id": "0ffe92b2",
   "metadata": {},
   "outputs": [
    {
     "name": "stdout",
     "output_type": "stream",
     "text": [
      "tieshift(Normal(0, 1), Normal(2, 2)) = -1.9999999999999232\n",
      "tieshift(Normal(0, 1), Laplace(2, 2)) = -1.9999999999994498\n",
      "tieshift(Normal(0, 1), Uniform(0, 1)) = -0.49999999999999983\n"
     ]
    }
   ],
   "source": [
    "\"\"\"\n",
    "    prob_x_le_y(distx::UnivariateDistribution, disty::UnivariateDistribution;\n",
    "        a = 0.0)\n",
    "\n",
    "この函数は, 連続分布 `distx`, `disty` と実数 `a` について, \n",
    "`distx` と `disty` に従って生成される乱数をそれぞれ X, Y と書くとき, \n",
    "X ≤ Y + a が成立する確率を返す.\n",
    "\"\"\"\n",
    "function prob_x_le_y(distx::UnivariateDistribution, disty::UnivariateDistribution,\n",
    "        a = 0.0)\n",
    "    H(y) = cdf(distx, y) * pdf(disty, y-a)\n",
    "    quadgk(H, extrema(disty + a)...)[1]\n",
    "end\n",
    "\n",
    "\"\"\"\n",
    "    tieshift(distx::UnivariateDistribution, disty::UnivariateDistribution;\n",
    "        p = 0.5)\n",
    "\n",
    "この函数は, 連続分布 `distx`, `disty` と実数 `p` について, \n",
    "`distx` と `disty` に従って生成される乱数をそれぞれ X, Y と書くとき, \n",
    "X ≤ Y + a が成立する確率が `p` に等しくなるような実数 a を返す.\n",
    "\"\"\"\n",
    "function tieshift(distx::UnivariateDistribution, disty::UnivariateDistribution;\n",
    "        p=0.5)\n",
    "    find_zero(a -> prob_x_le_y(distx, disty, a) - p, 0.0)\n",
    "end\n",
    "\n",
    "@show tieshift(Normal(0, 1), Normal(2, 2))\n",
    "@show tieshift(Normal(0, 1), Laplace(2, 2))\n",
    "@show tieshift(Normal(0, 1), Uniform(0, 1));"
   ]
  },
  {
   "cell_type": "code",
   "execution_count": 4,
   "id": "771d540d",
   "metadata": {},
   "outputs": [
    {
     "data": {
      "text/plain": [
       "show_plot_brunner_munzel (generic function with 4 methods)"
      ]
     },
     "execution_count": 4,
     "metadata": {},
     "output_type": "execute_result"
    }
   ],
   "source": [
    "\"\"\"\n",
    "    h_brunner_munzel(x, y)\n",
    "\n",
    "この函数は, x < y のとき 1.0 を, x = y のとき 0.5 を返す.\n",
    "\"\"\"\n",
    "h_brunner_munzel(x, y) = (x < y) + (x == y)/2\n",
    "\n",
    "@doc raw\"\"\"\n",
    "    phat_brunner_munzel(X, Y)\n",
    "\n",
    "まず以下のようにおく:\n",
    "\n",
    "```math\n",
    "\\begin{aligned}\n",
    "&\n",
    "H(x, y) = \\begin{cases} 1 & (x < y) \\\\ 1/2 & (x = y), \\end{cases}\n",
    "\\\\ &\n",
    "m = \\mathrm{length}(X), \\quad\n",
    "n = \\mathrm{length}(Y), \\quad\n",
    "x_i = X[i], \\quad\n",
    "y_j = Y[j]\n",
    "\\end{aligned}\n",
    "```\n",
    "\n",
    "この函数は次の $\\hat{p}$ を返す:\n",
    "\n",
    "```math\n",
    "\\hat{p} = \\frac{1}{mn}\\sum_{i=1}^m \\sum_{j=1}^n H(x_i, y_j).\n",
    "```\n",
    "\"\"\"\n",
    "phat_brunner_munzel(X, Y) = mean(h_brunner_munzel(x, y) for x in X, y in Y)\n",
    "\n",
    "@doc raw\"\"\"\n",
    "    statistics_brunner_munzel(X, Y,\n",
    "        Hx = similar(X, Float64),\n",
    "        Hy = similar(Y, Float64);\n",
    "        p = 1/2\n",
    "    )\n",
    "\n",
    "この函数はデータ `X`, `Y` について, Brunner-Munzel検定関係の統計量達を計算する. 詳細は以下の通り.\n",
    "\n",
    "函数 $H(x, y)$ と $\\hat{p}$, $H^x_i$, $H^y_j$, $\\bar{H}^x$, $\\bar{H}^y$ を次のように定める:\n",
    "\n",
    "```math\n",
    "\\begin{aligned}\n",
    "&\n",
    "m = \\mathrm{length}(X), \\quad\n",
    "n = \\mathrm{length}(Y), \\quad\n",
    "x_i = X[i], \\quad\n",
    "y_j = Y[j],\n",
    "\\\\ &\n",
    "\\hat{p} = \\frac{1}{mn}\\sum_{i=1}^m \\sum_{j=1}^n H(x_i, y_j),\n",
    "\\\\ &\n",
    "H(x, y) = \\begin{cases} 1 & (x < y) \\\\ 1/2 & (x = y), \\end{cases}\n",
    "\\\\ &\n",
    "H^x_i = \\sum_{j=1}^n H(y_j, x_i), \\quad\n",
    "H^y_j = \\sum_{i=1}^m H(x_i, y_j),\n",
    "\\\\ &\n",
    "\\bar{H}^x = \\frac{1}{m} \\sum_{i=1}^m H^x_i = n - n\\hat{p},\n",
    "\\\\ &\n",
    "\\bar{H}^y = \\frac{1}{n} \\sum_{j=1}^n H^y_j = m\\hat{p}.\n",
    "\\end{aligned}\n",
    "```\n",
    "\n",
    "この函数は以下達の named tuple で返す:\n",
    "\n",
    "```math\n",
    "\\begin{aligned}\n",
    "&\n",
    "\\mathrm{phat} = \n",
    "\\hat{p} = \\frac{\\bar{H}^x - \\bar{H}^y + n}{m + n},\n",
    "\\\\ &\n",
    "\\mathrm{sx2} =\n",
    "\\hat{\\sigma}_x^2 = \\frac{1}{n^2}\\frac{1}{m-1}\\sum_{i=1}^m (H^x_i - \\bar{H}^x)^2,\n",
    "\\\\ &\n",
    "\\mathrm{sy2} =\n",
    "\\hat{\\sigma}_y^2 = \\frac{1}{m^2}\\frac{1}{n-1}\\sum_{j=1}^n (H^y_j - \\bar{H}^y)^2,\n",
    "\\\\ &\n",
    "\\mathrm{sehat} = \n",
    "\\widehat{\\mathrm{se}} = \\sqrt{\\frac{\\hat{\\sigma}_x^2}{m} + \\frac{\\hat{\\sigma}_y^2}{n}}, \n",
    "\\\\ &\n",
    "\\mathrm{tvalue} = t = \\frac{\\hat{p} - p}{\\widehat{\\mathrm{se}}},\n",
    "\\\\ &\n",
    "\\mathrm{df} =\n",
    "\\nu = \n",
    "\\frac\n",
    "{\\left(\\hat{\\sigma}_x^2/m + \\hat{\\sigma}_y^2/n\\right)^2}\n",
    "{\n",
    "\\dfrac{\\left(\\hat{\\sigma}_x^2/m\\right)^2}{m-1} +\n",
    "\\dfrac{\\left(\\hat{\\sigma}_y^2/n\\right)^2}{n-1}\n",
    "},\n",
    "\\\\ &\n",
    "\\mathrm{pvalue} =\n",
    "2\\mathrm{ccdf}(\\mathrm{TDist}(\\nu), |t|).\n",
    "\\end{aligned}\n",
    "```\n",
    "\"\"\"\n",
    "function statistics_brunner_munzel(X, Y,\n",
    "        Hx = similar(X, Float64),\n",
    "        Hy = similar(Y, Float64);\n",
    "        p = 1/2\n",
    "    )\n",
    "    m, n = length(X), length(Y)\n",
    "    for (i, x) in pairs(X)\n",
    "        Hx[i] = sum(h_brunner_munzel(y, x) for y in Y)\n",
    "    end\n",
    "    for (j, y) in pairs(Y)\n",
    "        Hy[j] = sum(h_brunner_munzel(x, y) for x in X)\n",
    "    end\n",
    "    phat = (mean(Hy) - mean(Hx) + n)/(m + n)\n",
    "    sx2, sy2 = var(Hx)/n^2, var(Hy)/m^2\n",
    "    sehat = √(sx2/m + sy2/n)\n",
    "    tvalue = (phat - p)/sehat\n",
    "    df = safediv((sx2/m + sy2/n)^2, (sx2/m)^2/(m-1) + (sy2/n)^2/(n-1))\n",
    "    pvalue = (df != 0 && isfinite(df)) ? 2ccdf(TDist(df), abs(tvalue)) : zero(df)\n",
    "    (; phat, sx2, sy2, sehat, tvalue, df, pvalue)\n",
    "end\n",
    "\n",
    "@doc raw\"\"\"\n",
    "    pvalue_brunner_munzel(X, Y,\n",
    "        Hx = similar(X, Float64),\n",
    "        Hy = similar(Y, Float64);\n",
    "        p = 1/2\n",
    "    )\n",
    "\n",
    "この函数はBrunner-Munzel検定のP値 `pvalue` を返す.\n",
    "\"\"\"\n",
    "function pvalue_brunner_munzel(X, Y,\n",
    "        Hx = similar(X, Float64),\n",
    "        Hy = similar(Y, Float64);\n",
    "        p = 1/2\n",
    "    )\n",
    "    statistics_brunner_munzel(X, Y, Hx, Hy; p).pvalue\n",
    "end\n",
    "\n",
    "\"\"\"\n",
    "    tieshift(X::AbstractVector, Y::AbstractVector; p = 1/2)\n",
    "\n",
    "この函数は `phat_brunner_munzel(X, Y .+ a)` の値が `p` に等しくなる `a` を返す.\n",
    "\"\"\"\n",
    "function tieshift(X::AbstractVector, Y::AbstractVector; p = 1/2)\n",
    "    shiftmin = minimum(X) - maximum(Y) - 0.1\n",
    "    shiftmax = maximum(X) - minimum(Y) + 0.1\n",
    "    find_zero(a -> phat_brunner_munzel(X, Y .+ a) - p, (shiftmin, shiftmax))\n",
    "end\n",
    "\n",
    "@doc raw\"\"\"\n",
    "    brunner_munzel(X, Y,\n",
    "        Hx = similar(X, Float64),\n",
    "        Hy = similar(Y, Float64),\n",
    "        Ytmp = similar(Y, Float64);\n",
    "        p = 1/2,\n",
    "        α = 0.05,\n",
    "        maxsplit = 30\n",
    "    )\n",
    "\n",
    "この函数はBrunner-Munzel検定を実行する. 詳細は以下の通り.\n",
    "\n",
    "この函数は `phat`, `sehat`, `tvalue`, `df`, `p`, `pvalue`, `α` および\\\n",
    "以下達の named tuple を返す.\n",
    "\n",
    "```math\n",
    "\\begin{aligned}\n",
    "&\n",
    "\\mathrm{confint\\_p} = (\\text{$p$ の信頼度 $1-\\alpha$ の信頼区間}),\n",
    "\\\\ &\n",
    "\\mathrm{confint\\_shift} = (\\text{2つの集団が互角になるようなシフトの信頼度 $1-\\alpha$ の信頼区間}),\n",
    "\\\\ &\n",
    "\\mathrm{pvalue\\_shift} = ($\\mathrm{confint\\_shift}$ の計算で使われたP値函数),\n",
    "\\\\ &\n",
    "\\mathrm{shifthat} = (\\text{2つの集団が互角になるようなシフトの点推定値}).\n",
    "\\end{aligned}\n",
    "```\n",
    "\n",
    "さらに, $\\mathrm{shiftmin}$, $\\mathrm{shiftmax}$ はデータから推定されるシフトの下限と上限.\n",
    "\n",
    "\"\"\"\n",
    "function brunner_munzel(X, Y,\n",
    "        Hx = similar(X, Float64),\n",
    "        Hy = similar(Y, Float64),\n",
    "        Ytmp = similar(Y, Float64);\n",
    "        p = 1/2,\n",
    "        α = 0.05,\n",
    "        maxsplit = 30\n",
    "    )\n",
    "    (; phat, sehat, tvalue, df, pvalue) = statistics_brunner_munzel(X, Y, Hx, Hy; p)\n",
    "    \n",
    "    c = df == 0 ? Inf : quantile(TDist(df), 1 - α/2)\n",
    "    confint_p = [max(0, phat - c*sehat), min(1, phat + c*sehat)]\n",
    "    \n",
    "    function pvalue_shift(a)\n",
    "        @. Ytmp = Y + a\n",
    "        pvalue_brunner_munzel(X, Ytmp, Hx, Hy; p)\n",
    "    end\n",
    "    shiftmin = minimum(X) - maximum(Y) - 0.1\n",
    "    shiftmax = maximum(X) - minimum(Y) + 0.1\n",
    "    shifthat = tieshift(X, Y; p)\n",
    "    confint_shift = [\n",
    "        find_zero(a -> pvalue_shift(a) - α, (shiftmin, shifthat))\n",
    "        find_zero(a -> pvalue_shift(a) - α, (shifthat, shiftmax))\n",
    "    ]\n",
    "    \n",
    "    (; phat, sehat, tvalue, df, p, pvalue, α, confint_p,\n",
    "        confint_shift, pvalue_shift, shifthat, shiftmin, shiftmax)\n",
    "end\n",
    "\n",
    "function show_plot_brunner_munzel(X, Y,\n",
    "        Hx = similar(X, Float64),\n",
    "        Hy = similar(Y, Float64),\n",
    "        Ytmp = similar(Y, Float64);\n",
    "        p = 1/2,\n",
    "        α = 0.05,\n",
    "        showXY = false,\n",
    "        kwargs...\n",
    "    )\n",
    "    showXY && (@show X Y)\n",
    "    (; phat, sehat, tvalue, df, p, pvalue, α, confint_p, \n",
    "        confint_shift, pvalue_shift, shifthat, shiftmin, shiftmax) =\n",
    "        brunner_munzel(X, Y, Hx, Hy, Ytmp; p, α)\n",
    "    pprint((; phat, sehat, tvalue, df, p, pvalue, α, confint_p,\n",
    "            confint_shift, shifthat))\n",
    "    println()\n",
    "    @show median(X) median(Y)\n",
    "    plot(pvalue_shift, shiftmin, shiftmax; label=\"\")\n",
    "    vline!([tieshift(X, Y)]; label=\"\", ls=:dash)    \n",
    "    title!(\"P-value function of shift\")\n",
    "    plot!(ytick=0:0.05:1)\n",
    "    plot!(; kwargs...)\n",
    "end"
   ]
  },
  {
   "cell_type": "code",
   "execution_count": 5,
   "id": "01f2bd54",
   "metadata": {},
   "outputs": [
    {
     "data": {
      "text/plain": [
       "complementcomb"
      ]
     },
     "execution_count": 5,
     "metadata": {},
     "output_type": "execute_result"
    }
   ],
   "source": [
    "\"\"\"\n",
    "    complementcomb!(complcomb::AbstractVector, comb::AbstractVector)\n",
    "\n",
    "`comb` が {1,2,…,N} から重複無しに m 個を選ぶ組み合わせを表す配列であり, `comb` の中で数は小さな順に並んでいるとし, `complcomb` は長さ N - m の配列であると仮定する.\n",
    "\n",
    "このとき, この函数は配列 `complcomb` に配列 `comb` の補集合を格納し, `complcomb` を返す.\n",
    "\n",
    "この函数はメモリ割り当てゼロで実行される.\n",
    "\"\"\"\n",
    "function complementcomb!(complcomb::AbstractVector, comb::AbstractVector)\n",
    "    N = length(comb) + length(complcomb)\n",
    "    k = 0\n",
    "    a = 0\n",
    "    @inbounds for b in comb\n",
    "        for i in a+1:b-1\n",
    "            k += 1\n",
    "            complcomb[k] = i\n",
    "        end\n",
    "        a = b\n",
    "    end\n",
    "    @inbounds for i in a+1:N\n",
    "        k +=1\n",
    "        complcomb[k] = i\n",
    "    end\n",
    "    complcomb\n",
    "end\n",
    "\n",
    "\"\"\"\n",
    "    complementcomb(N, comb::AbstractVector)\n",
    "\n",
    "`comb` が {1,2,…,N} から重複無しに m 個を選ぶ組み合わせを表す配列であり, `comb` の中で数は小さな順に並んでいると仮定する.\n",
    "\n",
    "この函数は `comb` の補集合の配列を返す.\n",
    "\n",
    "この函数は返り値の配列の分だけのメモリ割り当てを行う.\n",
    "\"\"\"\n",
    "complementcomb(N, comb::AbstractVector) =\n",
    "    complementcomb!(similar(comb, N - length(comb)), comb)"
   ]
  },
  {
   "cell_type": "code",
   "execution_count": 6,
   "id": "cba41351",
   "metadata": {},
   "outputs": [
    {
     "data": {
      "text/plain": [
       "pvalue_brunner_munzel_perm"
      ]
     },
     "execution_count": 6,
     "metadata": {},
     "output_type": "execute_result"
    }
   ],
   "source": [
    "\"\"\"\n",
    "    permutation_tvalues_brunner_munzel(X, Y,\n",
    "        XandY = Vector{Float64}(undef, length(X)+length(Y)),\n",
    "        Tval = Vector{Float64}(undef, binomial(length(X)+length(Y), length(X))),\n",
    "        Hx = similar(X, Float64),\n",
    "        Hy = similar(Y, Float64)\n",
    "    )\n",
    "\n",
    "Brunner-Munzel検定のt値を `[X; Y]` から\\\n",
    "インデックスの重複無しに `length(X)` 個取る組み合わせと\\\n",
    "その補集合への分割のすべてについて計算して, `Tval` に格納して返す.\n",
    "\"\"\"\n",
    "function permutation_tvalues_brunner_munzel(X, Y,\n",
    "        XandY = Vector{Float64}(undef, length(X)+length(Y)),\n",
    "        Tval = Vector{Float64}(undef, binomial(length(X)+length(Y), length(X))),\n",
    "        Hx = similar(X, Float64),\n",
    "        Hy = similar(Y, Float64),\n",
    "        ccomb = Vector{Int}(undef, length(Y))\n",
    "    )\n",
    "    m, n = length(X), length(Y)\n",
    "    N = m + n\n",
    "    @views XandY[1:m] .= X\n",
    "    @views XandY[m+1:N] .= Y\n",
    "    for (k, comb) in enumerate(mycombinations(1:N, m))\n",
    "        complementcomb!(ccomb, comb)\n",
    "        Tval[k] = statistics_brunner_munzel(\n",
    "            view(XandY, comb), view(XandY, ccomb), Hx, Hy).tvalue\n",
    "    end\n",
    "    Tval\n",
    "end\n",
    "\n",
    "\"\"\"\n",
    "    pvalue_brunner_munzel_perm(X, Y,\n",
    "        Tval = permutation_tvalues_brunner_munzel(X, Y),\n",
    "        tval = statistics_brunner_munzel(X, Y).tvalue;\n",
    "        le = ⪅\n",
    "    )\n",
    "\n",
    "Brunner-Munzel検定のpermutation版のP値を返す.\n",
    "\"\"\"\n",
    "function pvalue_brunner_munzel_perm(X, Y,\n",
    "        Tval = permutation_tvalues_brunner_munzel(X, Y),\n",
    "        tval = statistics_brunner_munzel(X, Y).tvalue;\n",
    "        le = ⪅\n",
    "    )\n",
    "    pvalue_perm = mean(T -> le(abs(tval), abs(T)), Tval)\n",
    "end"
   ]
  },
  {
   "cell_type": "code",
   "execution_count": 7,
   "id": "8d597074",
   "metadata": {},
   "outputs": [
    {
     "data": {
      "text/plain": [
       "TaskLocalRNG()"
      ]
     },
     "execution_count": 7,
     "metadata": {},
     "output_type": "execute_result"
    }
   ],
   "source": [
    "Random.seed!(4649373)"
   ]
  },
  {
   "cell_type": "code",
   "execution_count": 8,
   "id": "7b006b02",
   "metadata": {},
   "outputs": [],
   "source": [
    "@rlibrary brunnermunzel"
   ]
  },
  {
   "cell_type": "code",
   "execution_count": 9,
   "id": "1c540d02",
   "metadata": {},
   "outputs": [],
   "source": [
    "distx = Normal(0, 1)\n",
    "disty = Normal(0, 2)\n",
    "m = 10\n",
    "n = 10\n",
    "L = 30\n",
    "Xs = [rand(distx, m) for _ in 1:L]\n",
    "Ys = [rand(disty, n) for _ in 1:L];"
   ]
  },
  {
   "cell_type": "code",
   "execution_count": 10,
   "id": "e8ef5494",
   "metadata": {
    "scrolled": false
   },
   "outputs": [
    {
     "name": "stdout",
     "output_type": "stream",
     "text": [
      "  0.302799 seconds (59.33 k allocations: 3.305 MiB, 16.27% compilation time)\n",
      "  0.269691 seconds (28 allocations: 624 bytes)\n",
      "  0.249233 seconds (28 allocations: 624 bytes)\n",
      "  0.296361 seconds (28 allocations: 624 bytes)\n",
      "  0.258962 seconds (28 allocations: 624 bytes)\n",
      "  0.262296 seconds (28 allocations: 624 bytes)\n",
      "  0.236971 seconds (28 allocations: 624 bytes)\n",
      "  0.242334 seconds (28 allocations: 624 bytes)\n",
      "  0.259316 seconds (28 allocations: 624 bytes)\n",
      "  0.249417 seconds (28 allocations: 624 bytes)\n",
      "  0.255680 seconds (28 allocations: 624 bytes)\n",
      "  0.294651 seconds (28 allocations: 624 bytes)\n",
      "  0.280111 seconds (28 allocations: 624 bytes)\n",
      "  0.249614 seconds (28 allocations: 624 bytes)\n",
      "  0.284565 seconds (28 allocations: 624 bytes)\n",
      "  0.280307 seconds (28 allocations: 624 bytes)\n",
      "  0.265162 seconds (28 allocations: 624 bytes)\n",
      "  0.251582 seconds (28 allocations: 624 bytes)\n",
      "  0.255150 seconds (28 allocations: 624 bytes)\n",
      "  0.259750 seconds (28 allocations: 624 bytes)\n",
      "  0.249393 seconds (28 allocations: 624 bytes)\n",
      "  0.259753 seconds (28 allocations: 624 bytes)\n",
      "  0.236125 seconds (28 allocations: 624 bytes)\n",
      "  0.233505 seconds (28 allocations: 624 bytes)\n",
      "  0.264418 seconds (28 allocations: 624 bytes)\n",
      "  0.257465 seconds (28 allocations: 624 bytes)\n",
      "  0.228682 seconds (28 allocations: 624 bytes)\n",
      "  0.242155 seconds (28 allocations: 624 bytes)\n",
      "  0.259752 seconds (28 allocations: 624 bytes)\n",
      "  0.294594 seconds (28 allocations: 624 bytes)\n"
     ]
    },
    {
     "data": {
      "text/plain": [
       "30-element Vector{Float64}:\n",
       " 0.5777024832752387\n",
       " 0.7389962978198272\n",
       " 0.2697287232890948\n",
       " 0.21249648184632705\n",
       " 0.19938730000649504\n",
       " 0.2937171187945182\n",
       " 0.9695057264716708\n",
       " 1.0\n",
       " 0.21262638290502067\n",
       " 0.47273160276256254\n",
       " 0.3373205741626794\n",
       " 0.6460737405009851\n",
       " 0.43654333282816254\n",
       " ⋮\n",
       " 0.03101387776310377\n",
       " 0.315107493126069\n",
       " 0.3859143952023209\n",
       " 0.6555998181385179\n",
       " 0.5721492130160861\n",
       " 0.08268202385849445\n",
       " 0.5054558444651324\n",
       " 0.8951914958106909\n",
       " 0.02721427179631514\n",
       " 0.07736690554028015\n",
       " 0.47639048258243305\n",
       " 0.920305700491459"
      ]
     },
     "execution_count": 10,
     "metadata": {},
     "output_type": "execute_result"
    }
   ],
   "source": [
    "pval_R = zeros(0)\n",
    "for (X, Y) in zip(Xs, Ys)\n",
    "    o = @time brunnermunzel_permutation_test(X, Y)\n",
    "    push!(pval_R, rcopy(o)[:p_value])\n",
    "end\n",
    "pval_R"
   ]
  },
  {
   "cell_type": "code",
   "execution_count": 11,
   "id": "08a5e9e3",
   "metadata": {},
   "outputs": [
    {
     "name": "stdout",
     "output_type": "stream",
     "text": [
      "  0.763655 seconds (1.79 M allocations: 96.015 MiB, 2.83% gc time, 80.66% compilation time)\n",
      "  0.162712 seconds (10 allocations: 1.411 MiB)\n",
      "  0.200404 seconds (10 allocations: 1.411 MiB, 12.91% gc time)\n",
      "  0.151660 seconds (10 allocations: 1.411 MiB)\n",
      "  0.163235 seconds (10 allocations: 1.411 MiB)\n",
      "  0.160616 seconds (10 allocations: 1.411 MiB)\n",
      "  0.162415 seconds (10 allocations: 1.411 MiB)\n",
      "  0.158409 seconds (10 allocations: 1.411 MiB)\n",
      "  0.155919 seconds (10 allocations: 1.411 MiB)\n",
      "  0.159248 seconds (10 allocations: 1.411 MiB)\n",
      "  0.161526 seconds (10 allocations: 1.411 MiB)\n",
      "  0.163311 seconds (10 allocations: 1.411 MiB)\n",
      "  0.178191 seconds (10 allocations: 1.411 MiB)\n",
      "  0.179323 seconds (10 allocations: 1.411 MiB)\n",
      "  0.160972 seconds (10 allocations: 1.411 MiB)\n",
      "  0.158496 seconds (10 allocations: 1.411 MiB)\n",
      "  0.149906 seconds (10 allocations: 1.411 MiB)\n",
      "  0.155325 seconds (10 allocations: 1.411 MiB)\n",
      "  0.152607 seconds (10 allocations: 1.411 MiB)\n",
      "  0.164368 seconds (10 allocations: 1.411 MiB)\n",
      "  0.179346 seconds (10 allocations: 1.411 MiB)\n",
      "  0.178664 seconds (10 allocations: 1.411 MiB)\n",
      "  0.148653 seconds (10 allocations: 1.411 MiB)\n",
      "  0.161041 seconds (10 allocations: 1.411 MiB)\n",
      "  0.154804 seconds (10 allocations: 1.411 MiB)\n",
      "  0.159902 seconds (10 allocations: 1.411 MiB)\n",
      "  0.175256 seconds (10 allocations: 1.411 MiB)\n",
      "  0.151976 seconds (10 allocations: 1.411 MiB)\n",
      "  0.159205 seconds (10 allocations: 1.411 MiB)\n",
      "  0.156050 seconds (10 allocations: 1.411 MiB)\n"
     ]
    },
    {
     "data": {
      "text/plain": [
       "30-element Vector{Float64}:\n",
       " 0.5777024832752387\n",
       " 0.7389962978198272\n",
       " 0.2697287232890948\n",
       " 0.21249648184632705\n",
       " 0.19938730000649504\n",
       " 0.2937171187945182\n",
       " 0.9695057264716708\n",
       " 1.0\n",
       " 0.21262638290502067\n",
       " 0.47273160276256254\n",
       " 0.3373205741626794\n",
       " 0.6460737405009851\n",
       " 0.43654333282816254\n",
       " ⋮\n",
       " 0.03101387776310377\n",
       " 0.315107493126069\n",
       " 0.3859143952023209\n",
       " 0.6555998181385179\n",
       " 0.5721492130160861\n",
       " 0.08268202385849445\n",
       " 0.5054558444651324\n",
       " 0.8951914958106909\n",
       " 0.02721427179631514\n",
       " 0.07736690554028015\n",
       " 0.47639048258243305\n",
       " 0.920305700491459"
      ]
     },
     "execution_count": 11,
     "metadata": {},
     "output_type": "execute_result"
    }
   ],
   "source": [
    "pval_J = zeros(0)\n",
    "for (X, Y) in zip(Xs, Ys)\n",
    "    p = @time pvalue_brunner_munzel_perm(X, Y)\n",
    "    push!(pval_J, p)\n",
    "end\n",
    "pval_J"
   ]
  },
  {
   "cell_type": "code",
   "execution_count": 12,
   "id": "cfb48e24",
   "metadata": {
    "scrolled": true
   },
   "outputs": [
    {
     "data": {
      "text/plain": [
       "true"
      ]
     },
     "execution_count": 12,
     "metadata": {},
     "output_type": "execute_result"
    }
   ],
   "source": [
    "pval_R == pval_J"
   ]
  },
  {
   "cell_type": "code",
   "execution_count": 13,
   "id": "1108791f",
   "metadata": {
    "scrolled": false
   },
   "outputs": [
    {
     "name": "stdout",
     "output_type": "stream",
     "text": [
      "  233.920 ms (22 allocations: 480 bytes)\n",
      "  250.580 ms (22 allocations: 480 bytes)\n",
      "  246.480 ms (22 allocations: 480 bytes)\n",
      "  250.744 ms (22 allocations: 480 bytes)\n",
      "  248.755 ms (22 allocations: 480 bytes)\n",
      "  252.618 ms (22 allocations: 480 bytes)\n",
      "  234.434 ms (22 allocations: 480 bytes)\n",
      "  236.940 ms (22 allocations: 480 bytes)\n",
      "  257.168 ms (22 allocations: 480 bytes)\n",
      "  248.608 ms (22 allocations: 480 bytes)\n"
     ]
    },
    {
     "data": {
      "text/plain": [
       "10-element Vector{Float64}:\n",
       " 0.5777024832752387\n",
       " 0.7389962978198272\n",
       " 0.2697287232890948\n",
       " 0.21249648184632705\n",
       " 0.19938730000649504\n",
       " 0.2937171187945182\n",
       " 0.9695057264716708\n",
       " 1.0\n",
       " 0.21262638290502067\n",
       " 0.47273160276256254"
      ]
     },
     "execution_count": 13,
     "metadata": {},
     "output_type": "execute_result"
    }
   ],
   "source": [
    "pval_R = zeros(0)\n",
    "for (X, Y) in zip(Xs[1:10], Ys[1:10])\n",
    "    o = @btime brunnermunzel_permutation_test($X, $Y)\n",
    "    push!(pval_R, rcopy(o)[:p_value])\n",
    "end\n",
    "pval_R"
   ]
  },
  {
   "cell_type": "code",
   "execution_count": 14,
   "id": "334e9f7d",
   "metadata": {},
   "outputs": [
    {
     "name": "stdout",
     "output_type": "stream",
     "text": [
      "  147.953 ms (9 allocations: 1.41 MiB)\n",
      "  148.940 ms (9 allocations: 1.41 MiB)\n",
      "  149.083 ms (9 allocations: 1.41 MiB)\n",
      "  148.540 ms (9 allocations: 1.41 MiB)\n",
      "  148.847 ms (9 allocations: 1.41 MiB)\n",
      "  148.434 ms (9 allocations: 1.41 MiB)\n",
      "  147.964 ms (9 allocations: 1.41 MiB)\n",
      "  147.919 ms (9 allocations: 1.41 MiB)\n",
      "  150.678 ms (9 allocations: 1.41 MiB)\n",
      "  149.265 ms (9 allocations: 1.41 MiB)\n"
     ]
    },
    {
     "data": {
      "text/plain": [
       "10-element Vector{Float64}:\n",
       " 0.5777024832752387\n",
       " 0.7389962978198272\n",
       " 0.2697287232890948\n",
       " 0.21249648184632705\n",
       " 0.19938730000649504\n",
       " 0.2937171187945182\n",
       " 0.9695057264716708\n",
       " 1.0\n",
       " 0.21262638290502067\n",
       " 0.47273160276256254"
      ]
     },
     "execution_count": 14,
     "metadata": {},
     "output_type": "execute_result"
    }
   ],
   "source": [
    "pval_J = zeros(0)\n",
    "for (X, Y) in zip(Xs[1:10], Ys[1:10])\n",
    "    p = @btime pvalue_brunner_munzel_perm($X, $Y)\n",
    "    push!(pval_J, p)\n",
    "end\n",
    "pval_J"
   ]
  },
  {
   "cell_type": "code",
   "execution_count": 15,
   "id": "5247ecd4",
   "metadata": {
    "scrolled": true
   },
   "outputs": [
    {
     "data": {
      "text/plain": [
       "true"
      ]
     },
     "execution_count": 15,
     "metadata": {},
     "output_type": "execute_result"
    }
   ],
   "source": [
    "pval_R == pval_J"
   ]
  },
  {
   "cell_type": "code",
   "execution_count": null,
   "id": "f4dec8bf",
   "metadata": {},
   "outputs": [],
   "source": []
  }
 ],
 "metadata": {
  "@webio": {
   "lastCommId": null,
   "lastKernelId": null
  },
  "jupytext": {
   "formats": "ipynb,jl:hydrogen"
  },
  "kernelspec": {
   "display_name": "Julia 1.7.3",
   "language": "julia",
   "name": "julia-1.7"
  },
  "language_info": {
   "file_extension": ".jl",
   "mimetype": "application/julia",
   "name": "julia",
   "version": "1.7.3"
  },
  "toc": {
   "base_numbering": 1,
   "nav_menu": {},
   "number_sections": false,
   "sideBar": true,
   "skip_h1_title": true,
   "title_cell": "Table of Contents",
   "title_sidebar": "Contents",
   "toc_cell": false,
   "toc_position": {},
   "toc_section_display": true,
   "toc_window_display": false
  }
 },
 "nbformat": 4,
 "nbformat_minor": 5
}
