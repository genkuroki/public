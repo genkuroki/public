{
 "cells": [
  {
   "cell_type": "code",
   "execution_count": 1,
   "id": "079f1ecf-4e6f-48c2-84dc-bffc54d60259",
   "metadata": {},
   "outputs": [],
   "source": [
    "using BenchmarkTools\n",
    "using Combinatorics\n",
    "using HypothesisTests\n",
    "using Memoization\n",
    "using StatsBase"
   ]
  },
  {
   "cell_type": "markdown",
   "id": "76b000c0-5b31-4b71-b86a-4f30c948d0a0",
   "metadata": {},
   "source": [
    "$\\{1,2,\\ldots,N\\}$ から重複無しに $m$ 個の組み合わせ $1\\le i_1<\\cdots<i_m\\le N$ を取るとき, その和が $r$ になる場合の数を $f(N, m, r)$ と書くと, 以下が成立することがわかる:\n",
    "\n",
    "$$\n",
    "\\begin{aligned}\n",
    "&\n",
    "f(N, m, r) = 0\\quad\\text{unless $0\\le m \\le N$ and $0\\le r - m(m+1)/2 \\le m(N-m)$},\n",
    "\\\\ &\n",
    "f(N, 0, 0) = 1,\n",
    "\\\\ &\n",
    "f(N, 1, r) = \\text{if $1\\le r\\le N$ then $1$ else $0$},\n",
    "\\\\ &\n",
    "f(N, m, r) = f(N-1, m, r) + f(N-1, m-1, r-N).\n",
    "\\end{aligned}\n",
    "$$\n",
    "\n",
    "ただし, この方法で計算するにはメモ化がほぼ必須である.\n",
    "\n",
    "以下のセルのコードは上の方法による $f(N, m, r)$ の計算法をそのままコードに翻訳したものである."
   ]
  },
  {
   "cell_type": "code",
   "execution_count": 2,
   "id": "a172f46d-947f-4772-a7a2-721bc96c5c1f",
   "metadata": {},
   "outputs": [
    {
     "data": {
      "text/plain": [
       "f_memoize (generic function with 1 method)"
      ]
     },
     "execution_count": 2,
     "metadata": {},
     "output_type": "execute_result"
    }
   ],
   "source": [
    "function f_naive(N, m, r)\n",
    "    0 ≤ m ≤ N || return zero(N)\n",
    "    0 ≤ r - m*(m+1)÷2 ≤ m*(N-m) || return zero(N)\n",
    "    m == 0 && return one(N)\n",
    "    m == 1 && return 1 ≤ r ≤ N ? one(N) : zero(N)\n",
    "    f_naive(N-1, m, r) + f_naive(N-1, m-1, r-N)\n",
    "end\n",
    "\n",
    "@memoize function f_memoize(N, m, r)\n",
    "    0 ≤ m ≤ N || return zero(N)\n",
    "    0 ≤ r - m*(m+1)÷2 ≤ m*(N-m) || return zero(N)\n",
    "    m == 0 && return one(N)\n",
    "    m == 1 && return 1 ≤ r ≤ N ? one(N) : zero(N)\n",
    "    f_memoize(N-1, m, r) + f_memoize(N-1, m-1, r-N)\n",
    "end"
   ]
  },
  {
   "cell_type": "markdown",
   "id": "c80d7aa7-f8fe-45a5-99b9-5179f9567c3f",
   "metadata": {},
   "source": [
    "メモ化していない `f_naive` はひどく遅い."
   ]
  },
  {
   "cell_type": "code",
   "execution_count": 3,
   "id": "ceaf1d93-2345-4d26-9f86-701f9d6a238b",
   "metadata": {},
   "outputs": [
    {
     "name": "stdout",
     "output_type": "stream",
     "text": [
      "m = 10, N = 20, r = 105:   0.000163 seconds\n",
      "m = 11, N = 22, r = 126:   0.000444 seconds\n",
      "m = 12, N = 24, r = 150:   0.001466 seconds\n",
      "m = 13, N = 26, r = 175:   0.005098 seconds\n",
      "m = 14, N = 28, r = 203:   0.017502 seconds\n",
      "m = 15, N = 30, r = 232:   0.061890 seconds\n",
      "m = 16, N = 32, r = 264:   0.237123 seconds\n",
      "m = 17, N = 34, r = 297:   0.774752 seconds\n",
      "m = 18, N = 36, r = 333:   2.698451 seconds\n"
     ]
    }
   ],
   "source": [
    "for m in 10:18\n",
    "    N = 2m\n",
    "    r = m*(m+1)÷2 + m*(N-m)÷2\n",
    "    print(\"m = $m, N = $N, r = $r: \")\n",
    "    @time f_naive(N, m, r)\n",
    "end"
   ]
  },
  {
   "cell_type": "markdown",
   "id": "13996149-27eb-41e4-a9b5-d2b20fbd78ea",
   "metadata": {},
   "source": [
    "メモ化された `f` はこれよりかなり速くなっている."
   ]
  },
  {
   "cell_type": "code",
   "execution_count": 4,
   "id": "60db0ac5-e328-4ce5-8fa1-31793a49dd86",
   "metadata": {},
   "outputs": [
    {
     "name": "stdout",
     "output_type": "stream",
     "text": [
      "m = 10, N = 20, r = 105:   0.013240 seconds (4.74 k allocations: 298.744 KiB, 98.55% compilation time)\n",
      "m = 11, N = 22, r = 126:   0.000079 seconds (896 allocations: 27.094 KiB)\n",
      "m = 12, N = 24, r = 150:   0.000138 seconds (1.48 k allocations: 44.312 KiB)\n",
      "m = 13, N = 26, r = 175:   0.000113 seconds (1.62 k allocations: 47.719 KiB)\n",
      "m = 14, N = 28, r = 203:   0.000223 seconds (2.45 k allocations: 71.375 KiB)\n",
      "m = 15, N = 30, r = 232:   0.000428 seconds (2.78 k allocations: 334.672 KiB)\n",
      "m = 16, N = 32, r = 264:   0.000264 seconds (3.83 k allocations: 109.281 KiB)\n",
      "m = 17, N = 34, r = 297:   0.000260 seconds (4.24 k allocations: 117.812 KiB)\n",
      "m = 18, N = 36, r = 333:   0.001569 seconds (5.72 k allocations: 160.094 KiB)\n"
     ]
    }
   ],
   "source": [
    "for m in 10:18\n",
    "    N = 2m\n",
    "    r = m*(m+1)÷2 + m*(N-m)÷2\n",
    "    print(\"m = $m, N = $N, r = $r: \")\n",
    "    @time f_memoize(N, m, r)\n",
    "end"
   ]
  },
  {
   "cell_type": "markdown",
   "id": "f3567193-0a53-4496-93f3-9137119b3c9e",
   "metadata": {},
   "source": [
    "念のために正しく計算されていることを確認しておこう."
   ]
  },
  {
   "cell_type": "code",
   "execution_count": 5,
   "id": "4fbe9df1-abc8-4c2f-ac7f-9f292157e3fd",
   "metadata": {},
   "outputs": [
    {
     "data": {
      "text/plain": [
       "F_comb (generic function with 1 method)"
      ]
     },
     "execution_count": 5,
     "metadata": {},
     "output_type": "execute_result"
    }
   ],
   "source": [
    "function F_memoize(N, m)\n",
    "    rmin = m*(m+1)÷2\n",
    "    rmax = rmin + m*(N-m)\n",
    "    rs = rmin:rmax\n",
    "    fs = [f_memoize(N, m, r) for r in rs]\n",
    "    rs, fs\n",
    "end\n",
    "\n",
    "function F_comb(N, m)\n",
    "    rank_sums = [sum(comb) for comb in combinations(1:N, m)]\n",
    "    c = countmap(rank_sums)\n",
    "    rmin, rmax = extrema(keys(c))\n",
    "    rs = rmin:rmax\n",
    "    fs = [c[k] for k in rs]\n",
    "    rs, fs\n",
    "end"
   ]
  },
  {
   "cell_type": "code",
   "execution_count": 6,
   "id": "bf343837-df7c-4f1f-9704-fd5229915a80",
   "metadata": {},
   "outputs": [
    {
     "name": "stdout",
     "output_type": "stream",
     "text": [
      "(N, m, F1(N, m)) = (10, 0, (0:0, [1]))\n",
      "(N, m, F2(N, m)) = (10, 0, (0:0, [1]))\n",
      "F1(N, m) == F2(N, m) = true\n",
      "\n",
      "(N, m, F1(N, m)) = (10, 1, (1:10, [1, 1, 1, 1, 1, 1, 1, 1, 1, 1]))\n",
      "(N, m, F2(N, m)) = (10, 1, (1:10, [1, 1, 1, 1, 1, 1, 1, 1, 1, 1]))\n",
      "F1(N, m) == F2(N, m) = true\n",
      "\n",
      "(N, m, F1(N, m)) = (10, 2, (3:19, [1, 1, 2, 2, 3, 3, 4, 4, 5, 4, 4, 3, 3, 2, 2, 1, 1]))\n",
      "(N, m, F2(N, m)) = (10, 2, (3:19, [1, 1, 2, 2, 3, 3, 4, 4, 5, 4, 4, 3, 3, 2, 2, 1, 1]))\n",
      "F1(N, m) == F2(N, m) = true\n",
      "\n",
      "(N, m, F1(N, m)) = (10, 3, (6:27, [1, 1, 2, 3, 4, 5, 7, 8, 9, 10, 10, 10, 10, 9, 8, 7, 5, 4, 3, 2, 1, 1]))\n",
      "(N, m, F2(N, m)) = (10, 3, (6:27, [1, 1, 2, 3, 4, 5, 7, 8, 9, 10, 10, 10, 10, 9, 8, 7, 5, 4, 3, 2, 1, 1]))\n",
      "F1(N, m) == F2(N, m) = true\n",
      "\n",
      "(N, m, F1(N, m)) = (10, 4, (10:34, [1, 1, 2, 3, 5, 6, 9, 10, 13, 14, 16, 16, 18, 16, 16, 14, 13, 10, 9, 6, 5, 3, 2, 1, 1]))\n",
      "(N, m, F2(N, m)) = (10, 4, (10:34, [1, 1, 2, 3, 5, 6, 9, 10, 13, 14, 16, 16, 18, 16, 16, 14, 13, 10, 9, 6, 5, 3, 2, 1, 1]))\n",
      "F1(N, m) == F2(N, m) = true\n",
      "\n",
      "(N, m, F1(N, m)) = (10, 5, (15:40, [1, 1, 2, 3, 5, 7, 9, 11, 14, 16, 18, 19, 20, 20, 19, 18, 16, 14, 11, 9, 7, 5, 3, 2, 1, 1]))\n",
      "(N, m, F2(N, m)) = (10, 5, (15:40, [1, 1, 2, 3, 5, 7, 9, 11, 14, 16, 18, 19, 20, 20, 19, 18, 16, 14, 11, 9, 7, 5, 3, 2, 1, 1]))\n",
      "F1(N, m) == F2(N, m) = true\n",
      "\n",
      "(N, m, F1(N, m)) = (10, 6, (21:45, [1, 1, 2, 3, 5, 6, 9, 10, 13, 14, 16, 16, 18, 16, 16, 14, 13, 10, 9, 6, 5, 3, 2, 1, 1]))\n",
      "(N, m, F2(N, m)) = (10, 6, (21:45, [1, 1, 2, 3, 5, 6, 9, 10, 13, 14, 16, 16, 18, 16, 16, 14, 13, 10, 9, 6, 5, 3, 2, 1, 1]))\n",
      "F1(N, m) == F2(N, m) = true\n",
      "\n",
      "(N, m, F1(N, m)) = (10, 7, (28:49, [1, 1, 2, 3, 4, 5, 7, 8, 9, 10, 10, 10, 10, 9, 8, 7, 5, 4, 3, 2, 1, 1]))\n",
      "(N, m, F2(N, m)) = (10, 7, (28:49, [1, 1, 2, 3, 4, 5, 7, 8, 9, 10, 10, 10, 10, 9, 8, 7, 5, 4, 3, 2, 1, 1]))\n",
      "F1(N, m) == F2(N, m) = true\n",
      "\n",
      "(N, m, F1(N, m)) = (10, 8, (36:52, [1, 1, 2, 2, 3, 3, 4, 4, 5, 4, 4, 3, 3, 2, 2, 1, 1]))\n",
      "(N, m, F2(N, m)) = (10, 8, (36:52, [1, 1, 2, 2, 3, 3, 4, 4, 5, 4, 4, 3, 3, 2, 2, 1, 1]))\n",
      "F1(N, m) == F2(N, m) = true\n",
      "\n",
      "(N, m, F1(N, m)) = (10, 9, (45:54, [1, 1, 1, 1, 1, 1, 1, 1, 1, 1]))\n",
      "(N, m, F2(N, m)) = (10, 9, (45:54, [1, 1, 1, 1, 1, 1, 1, 1, 1, 1]))\n",
      "F1(N, m) == F2(N, m) = true\n",
      "\n",
      "(N, m, F1(N, m)) = (10, 10, (55:55, [1]))\n",
      "(N, m, F2(N, m)) = (10, 10, (55:55, [1]))\n",
      "F1(N, m) == F2(N, m) = true\n",
      "\n"
     ]
    }
   ],
   "source": [
    "N = 10\n",
    "F1 = F_memoize\n",
    "F2 = F_comb\n",
    "for m in 0:N\n",
    "    @show N, m, F1(N, m)\n",
    "    @show N, m, F2(N, m)\n",
    "    @show F1(N, m) == F2(N, m)\n",
    "    println()\n",
    "end"
   ]
  },
  {
   "cell_type": "code",
   "execution_count": 7,
   "id": "d6466486-01f1-4919-b4d1-1d3bf26aefdf",
   "metadata": {},
   "outputs": [
    {
     "data": {
      "text/plain": [
       "11×11 Matrix{Bool}:\n",
       " 1  1  1  1  1  1  1  1  1  1  1\n",
       " 1  1  1  1  1  1  1  1  1  1  1\n",
       " 1  1  1  1  1  1  1  1  1  1  1\n",
       " 1  1  1  1  1  1  1  1  1  1  1\n",
       " 1  1  1  1  1  1  1  1  1  1  1\n",
       " 1  1  1  1  1  1  1  1  1  1  1\n",
       " 1  1  1  1  1  1  1  1  1  1  1\n",
       " 1  1  1  1  1  1  1  1  1  1  1\n",
       " 1  1  1  1  1  1  1  1  1  1  1\n",
       " 1  1  1  1  1  1  1  1  1  1  1\n",
       " 1  1  1  1  1  1  1  1  1  1  1"
      ]
     },
     "execution_count": 7,
     "metadata": {},
     "output_type": "execute_result"
    }
   ],
   "source": [
    "[F_memoize(N, m) == F_comb(N, m) for N in 10:20, m in 0:10]"
   ]
  },
  {
   "cell_type": "code",
   "execution_count": 8,
   "id": "bca17d5e-a129-49af-8daf-beb9f0996265",
   "metadata": {},
   "outputs": [
    {
     "name": "stdout",
     "output_type": "stream",
     "text": [
      "N = 50, m = 25:   0.048714 seconds (552.18 k allocations: 19.467 MiB)\n",
      "N = 60, m = 30:   0.127367 seconds (642.06 k allocations: 16.590 MiB, 19.63% gc time)\n",
      "N = 70, m = 35:   0.248481 seconds (1.06 M allocations: 35.240 MiB)\n",
      "N = 80, m = 40:   0.993680 seconds (1.62 M allocations: 57.670 MiB, 13.68% gc time)\n",
      "N = 90, m = 45:   2.860018 seconds (2.36 M allocations: 92.451 MiB, 4.39% gc time)\n",
      "N = 100, m = 50:   0.791395 seconds (3.29 M allocations: 84.157 MiB, 33.52% gc time)\n"
     ]
    }
   ],
   "source": [
    "for N in 50:10:100\n",
    "    m = N÷2\n",
    "    print(\"N = $N, m = $m: \")\n",
    "    @time F_memoize(N, m)\n",
    "end"
   ]
  },
  {
   "cell_type": "markdown",
   "id": "7d56306a-4079-4c2f-bc86-62d9dc3beaef",
   "metadata": {},
   "source": [
    "$$\n",
    "\\begin{aligned}\n",
    "&\n",
    "f(N, m, r) = 0\\quad\\text{unless $0\\le m \\le N$ and $0\\le r - m(m+1)/2 \\le m(N-m)$},\n",
    "\\\\ &\n",
    "f(N, 0, 0) = 1,\n",
    "\\\\ &\n",
    "f(N, 1, r) = \\text{if $1\\le r\\le N$ then $1$ else $0$},\n",
    "\\\\ &\n",
    "f(N, m, r) = f(N-1, m, r) + f(N-1, m-1, r-N).\n",
    "\\end{aligned}\n",
    "$$\n",
    "\n",
    "より,\n",
    "\n",
    "$$\n",
    "N = m + n, \\quad\n",
    "r = m(m+1)/2 + u, \\quad\n",
    "g(n, m, u) = f(m+n, m, m(m+1)/2 + u)\n",
    "$$\n",
    "\n",
    "とおくと,\n",
    "\n",
    "$$\n",
    "\\begin{aligned}\n",
    "&\n",
    "g(n, m, u) = 0\\quad\\text{unless $0 \\le m$, $0\\le n$, and $0\\le u \\le mn$},\n",
    "\\\\ &\n",
    "g(n, 0, 0) = 1,\n",
    "\\\\ &\n",
    "g(n, 1, u) = \\text{if $0\\le u \\le m+n-1$ then $1$ else $0$},\n",
    "\\\\ &\n",
    "g(n, m, u) = g(n-1, m, u) + g(n, m-1, u-n).\n",
    "\\end{aligned}\n",
    "$$"
   ]
  },
  {
   "cell_type": "markdown",
   "id": "4ab74ba5-c5d4-4fe8-881d-68cde1a8b5bb",
   "metadata": {},
   "source": [
    "特に,\n",
    "\n",
    "$$\n",
    "g(0, 1, u) = \\text{if $u=0$ then $1$ else $0$}.\n",
    "$$\n",
    "\n",
    "$g(n, m, u)$ の値は以下を帰納的に計算すれば得られる:\n",
    "\n",
    "$$\n",
    "g(j, i, u-(n-j)n), \\quad 0\\le j\\le n, \\quad 0\\le i \\le m.\n",
    "$$"
   ]
  },
  {
   "cell_type": "code",
   "execution_count": 9,
   "id": "41e5067e-8f31-455a-bdfe-43f216154e43",
   "metadata": {},
   "outputs": [
    {
     "data": {
      "text/plain": [
       "F_recursive (generic function with 3 methods)"
      ]
     },
     "execution_count": 9,
     "metadata": {},
     "output_type": "execute_result"
    }
   ],
   "source": [
    "function G(n, m,\n",
    "        prev = Matrix{Int}(undef, m*n+1, m+1),\n",
    "        next = similar(prev),\n",
    "    )\n",
    "    # g(0, i, u) = δ_{i0} δ_{u0}\n",
    "    @. next = 0\n",
    "    next[1+0, 1+0] = 1\n",
    "    for k in 1:m+n\n",
    "        @. prev = next\n",
    "        for i in max(0, k-n):min(m, k)\n",
    "            j = k - i\n",
    "            # g(j, i, u) = g(j-1, i, u) + g(j, i-1, u-j)\n",
    "            @views @. next[1:1+i*(j-1), 1+i] = prev[1:1+i*(j-1), 1+i]\n",
    "            if i ≥ 1\n",
    "                @views @. next[1+j:1+i*j, 1+i] += prev[1:1+(i-1)*j, 1+i-1]\n",
    "            end\n",
    "            # g(0, i, u) = δ_{i0} δ_{u0}\n",
    "            if j == 0\n",
    "                next[1+0, 1+i] = 1\n",
    "            end\n",
    "        end\n",
    "    end\n",
    "    @view next[:, 1+m]\n",
    "end\n",
    "\n",
    "function F_recursive(N, m,\n",
    "        prev = Matrix{Int}(undef, m*(N-m)+1, m+1),\n",
    "        next = similar(prev),\n",
    "    )\n",
    "    n = N - m\n",
    "    rmin = m*(m+1)÷2\n",
    "    rmax = rmin + m*n\n",
    "    rs = rmin:rmax\n",
    "    fs = G(n, m, prev, next)\n",
    "    rs, fs\n",
    "end"
   ]
  },
  {
   "cell_type": "code",
   "execution_count": 10,
   "id": "27e3697c-1101-4096-9a48-3b1553310083",
   "metadata": {},
   "outputs": [
    {
     "name": "stdout",
     "output_type": "stream",
     "text": [
      "(N, m, F1(N, m)) = (10, 0, (0:0, [1]))\n",
      "(N, m, F2(N, m)) = (10, 0, (0:0, [1]))\n",
      "F1(N, m) == F2(N, m) = true\n",
      "\n",
      "(N, m, F1(N, m)) = (10, 1, (1:10, [1, 1, 1, 1, 1, 1, 1, 1, 1, 1]))\n",
      "(N, m, F2(N, m)) = (10, 1, (1:10, [1, 1, 1, 1, 1, 1, 1, 1, 1, 1]))\n",
      "F1(N, m) == F2(N, m) = true\n",
      "\n",
      "(N, m, F1(N, m)) = (10, 2, (3:19, [1, 1, 2, 2, 3, 3, 4, 4, 5, 4, 4, 3, 3, 2, 2, 1, 1]))\n",
      "(N, m, F2(N, m)) = (10, 2, (3:19, [1, 1, 2, 2, 3, 3, 4, 4, 5, 4, 4, 3, 3, 2, 2, 1, 1]))\n",
      "F1(N, m) == F2(N, m) = true\n",
      "\n",
      "(N, m, F1(N, m)) = (10, 3, (6:27, [1, 1, 2, 3, 4, 5, 7, 8, 9, 10, 10, 10, 10, 9, 8, 7, 5, 4, 3, 2, 1, 1]))\n",
      "(N, m, F2(N, m)) = (10, 3, (6:27, [1, 1, 2, 3, 4, 5, 7, 8, 9, 10, 10, 10, 10, 9, 8, 7, 5, 4, 3, 2, 1, 1]))\n",
      "F1(N, m) == F2(N, m) = true\n",
      "\n",
      "(N, m, F1(N, m)) = (10, 4, (10:34, [1, 1, 2, 3, 5, 6, 9, 10, 13, 14, 16, 16, 18, 16, 16, 14, 13, 10, 9, 6, 5, 3, 2, 1, 1]))\n",
      "(N, m, F2(N, m)) = (10, 4, (10:34, [1, 1, 2, 3, 5, 6, 9, 10, 13, 14, 16, 16, 18, 16, 16, 14, 13, 10, 9, 6, 5, 3, 2, 1, 1]))\n",
      "F1(N, m) == F2(N, m) = true\n",
      "\n",
      "(N, m, F1(N, m)) = (10, 5, (15:40, [1, 1, 2, 3, 5, 7, 9, 11, 14, 16, 18, 19, 20, 20, 19, 18, 16, 14, 11, 9, 7, 5, 3, 2, 1, 1]))\n",
      "(N, m, F2(N, m)) = (10, 5, (15:40, [1, 1, 2, 3, 5, 7, 9, 11, 14, 16, 18, 19, 20, 20, 19, 18, 16, 14, 11, 9, 7, 5, 3, 2, 1, 1]))\n",
      "F1(N, m) == F2(N, m) = true\n",
      "\n",
      "(N, m, F1(N, m)) = (10, 6, (21:45, [1, 1, 2, 3, 5, 6, 9, 10, 13, 14, 16, 16, 18, 16, 16, 14, 13, 10, 9, 6, 5, 3, 2, 1, 1]))\n",
      "(N, m, F2(N, m)) = (10, 6, (21:45, [1, 1, 2, 3, 5, 6, 9, 10, 13, 14, 16, 16, 18, 16, 16, 14, 13, 10, 9, 6, 5, 3, 2, 1, 1]))\n",
      "F1(N, m) == F2(N, m) = true\n",
      "\n",
      "(N, m, F1(N, m)) = (10, 7, (28:49, [1, 1, 2, 3, 4, 5, 7, 8, 9, 10, 10, 10, 10, 9, 8, 7, 5, 4, 3, 2, 1, 1]))\n",
      "(N, m, F2(N, m)) = (10, 7, (28:49, [1, 1, 2, 3, 4, 5, 7, 8, 9, 10, 10, 10, 10, 9, 8, 7, 5, 4, 3, 2, 1, 1]))\n",
      "F1(N, m) == F2(N, m) = true\n",
      "\n",
      "(N, m, F1(N, m)) = (10, 8, (36:52, [1, 1, 2, 2, 3, 3, 4, 4, 5, 4, 4, 3, 3, 2, 2, 1, 1]))\n",
      "(N, m, F2(N, m)) = (10, 8, (36:52, [1, 1, 2, 2, 3, 3, 4, 4, 5, 4, 4, 3, 3, 2, 2, 1, 1]))\n",
      "F1(N, m) == F2(N, m) = true\n",
      "\n",
      "(N, m, F1(N, m)) = (10, 9, (45:54, [1, 1, 1, 1, 1, 1, 1, 1, 1, 1]))\n",
      "(N, m, F2(N, m)) = (10, 9, (45:54, [1, 1, 1, 1, 1, 1, 1, 1, 1, 1]))\n",
      "F1(N, m) == F2(N, m) = true\n",
      "\n",
      "(N, m, F1(N, m)) = (10, 10, (55:55, [1]))\n",
      "(N, m, F2(N, m)) = (10, 10, (55:55, [1]))\n",
      "F1(N, m) == F2(N, m) = true\n",
      "\n"
     ]
    }
   ],
   "source": [
    "N = 10\n",
    "F1 = F_memoize\n",
    "F2 = F_recursive\n",
    "for m in 0:N\n",
    "    @show N, m, F1(N, m)\n",
    "    @show N, m, F2(N, m)\n",
    "    @show F1(N, m) == F2(N, m)\n",
    "    println()\n",
    "end"
   ]
  },
  {
   "cell_type": "code",
   "execution_count": 11,
   "id": "de7f57c2-1af0-475a-a27b-0453597310a3",
   "metadata": {},
   "outputs": [
    {
     "data": {
      "text/plain": [
       "21×21 Matrix{Bool}:\n",
       " 1  1  1  1  1  1  1  1  1  1  1  1  1  1  1  1  1  1  1  1  1\n",
       " 1  1  1  1  1  1  1  1  1  1  1  1  1  1  1  1  1  1  1  1  1\n",
       " 1  1  1  1  1  1  1  1  1  1  1  1  1  1  1  1  1  1  1  1  1\n",
       " 1  1  1  1  1  1  1  1  1  1  1  1  1  1  1  1  1  1  1  1  1\n",
       " 1  1  1  1  1  1  1  1  1  1  1  1  1  1  1  1  1  1  1  1  1\n",
       " 1  1  1  1  1  1  1  1  1  1  1  1  1  1  1  1  1  1  1  1  1\n",
       " 1  1  1  1  1  1  1  1  1  1  1  1  1  1  1  1  1  1  1  1  1\n",
       " 1  1  1  1  1  1  1  1  1  1  1  1  1  1  1  1  1  1  1  1  1\n",
       " 1  1  1  1  1  1  1  1  1  1  1  1  1  1  1  1  1  1  1  1  1\n",
       " 1  1  1  1  1  1  1  1  1  1  1  1  1  1  1  1  1  1  1  1  1\n",
       " 1  1  1  1  1  1  1  1  1  1  1  1  1  1  1  1  1  1  1  1  1\n",
       " 1  1  1  1  1  1  1  1  1  1  1  1  1  1  1  1  1  1  1  1  1\n",
       " 1  1  1  1  1  1  1  1  1  1  1  1  1  1  1  1  1  1  1  1  1\n",
       " 1  1  1  1  1  1  1  1  1  1  1  1  1  1  1  1  1  1  1  1  1\n",
       " 1  1  1  1  1  1  1  1  1  1  1  1  1  1  1  1  1  1  1  1  1\n",
       " 1  1  1  1  1  1  1  1  1  1  1  1  1  1  1  1  1  1  1  1  1\n",
       " 1  1  1  1  1  1  1  1  1  1  1  1  1  1  1  1  1  1  1  1  1\n",
       " 1  1  1  1  1  1  1  1  1  1  1  1  1  1  1  1  1  1  1  1  1\n",
       " 1  1  1  1  1  1  1  1  1  1  1  1  1  1  1  1  1  1  1  1  1\n",
       " 1  1  1  1  1  1  1  1  1  1  1  1  1  1  1  1  1  1  1  1  1\n",
       " 1  1  1  1  1  1  1  1  1  1  1  1  1  1  1  1  1  1  1  1  1"
      ]
     },
     "execution_count": 11,
     "metadata": {},
     "output_type": "execute_result"
    }
   ],
   "source": [
    "[F_recursive(m+n, m) == F_memoize(m+n, m) for n in 0:20, m in 0:20]"
   ]
  },
  {
   "cell_type": "code",
   "execution_count": 12,
   "id": "6950448d-707f-4a4e-a8b7-9823aa8ef446",
   "metadata": {},
   "outputs": [
    {
     "name": "stdout",
     "output_type": "stream",
     "text": [
      "N = 50, m = 25:   0.000383 seconds\n",
      "N = 60, m = 30:   0.000828 seconds\n",
      "N = 70, m = 35:   0.002914 seconds\n",
      "N = 80, m = 40:   0.002895 seconds\n",
      "N = 90, m = 45:   0.004289 seconds\n",
      "N = 100, m = 50:   0.006858 seconds\n",
      "N = 110, m = 55:   0.009430 seconds\n",
      "N = 120, m = 60:   0.013234 seconds\n",
      "N = 130, m = 65:   0.017472 seconds\n",
      "N = 140, m = 70:   0.023017 seconds\n",
      "N = 150, m = 75:   0.038405 seconds\n",
      "N = 160, m = 80:   0.041294 seconds\n",
      "N = 170, m = 85:   0.051760 seconds\n",
      "N = 180, m = 90:   0.076699 seconds\n",
      "N = 190, m = 95:   0.107735 seconds\n",
      "N = 200, m = 100:   0.144008 seconds\n"
     ]
    }
   ],
   "source": [
    "for N in 50:10:200\n",
    "    m = N÷2\n",
    "    n = N - m\n",
    "    print(\"N = $N, m = $m: \")\n",
    "    prev = Matrix{Int}(undef, m*n+1, m+1)\n",
    "    next = similar(prev)\n",
    "    @time G(n, m, prev, next)\n",
    "end"
   ]
  },
  {
   "cell_type": "code",
   "execution_count": 13,
   "id": "2eec76fb-7f70-405a-9a1c-625c9fe86fcb",
   "metadata": {},
   "outputs": [
    {
     "name": "stdout",
     "output_type": "stream",
     "text": [
      "  93.647 ms (0 allocations: 0 bytes)\n"
     ]
    }
   ],
   "source": [
    "n, m = 100, 100\n",
    "prev = Matrix{Int}(undef, m*n+1, m+1)\n",
    "next = similar(prev)\n",
    "@btime F_recursive($(m+n), $m, $prev, $next);"
   ]
  },
  {
   "cell_type": "code",
   "execution_count": 14,
   "id": "d4431fa9-9ad5-4892-8de3-c3b76b8d0692",
   "metadata": {},
   "outputs": [
    {
     "name": "stdout",
     "output_type": "stream",
     "text": [
      "  0.147903 seconds (446.22 k allocations: 23.901 MiB, 99.85% compilation time)\n",
      "  0.000020 seconds (7 allocations: 7.125 KiB)\n",
      "  0.000019 seconds (7 allocations: 7.125 KiB)\n"
     ]
    },
    {
     "data": {
      "text/plain": [
       "Exact Mann-Whitney U test\n",
       "-------------------------\n",
       "Population details:\n",
       "    parameter of interest:   Location parameter (pseudomedian)\n",
       "    value under h_0:         0\n",
       "    point estimate:          0.0283697\n",
       "\n",
       "Test summary:\n",
       "    outcome with 95% confidence: fail to reject h_0\n",
       "    two-sided p-value:           0.7082\n",
       "\n",
       "Details:\n",
       "    number of observations in each group: [100, 100]\n",
       "    Mann-Whitney-U statistic:             5154.0\n",
       "    rank sums:                            [10204.0, 9896.0]\n",
       "    adjustment for ties:                  0.0\n"
      ]
     },
     "execution_count": 14,
     "metadata": {},
     "output_type": "execute_result"
    }
   ],
   "source": [
    "n, m = 100, 100\n",
    "x, y = rand(m), rand(n)\n",
    "@time ExactMannWhitneyUTest(x, y)\n",
    "@time ExactMannWhitneyUTest(x, y)\n",
    "@time ExactMannWhitneyUTest(x, y)"
   ]
  },
  {
   "cell_type": "code",
   "execution_count": null,
   "id": "a57a8d95-b071-4c0c-a8e8-06e47121a82e",
   "metadata": {},
   "outputs": [],
   "source": []
  }
 ],
 "metadata": {
  "jupytext": {
   "formats": "ipynb,jl:hydrogen"
  },
  "kernelspec": {
   "display_name": "Julia 1.7.3",
   "language": "julia",
   "name": "julia-1.7"
  },
  "language_info": {
   "file_extension": ".jl",
   "mimetype": "application/julia",
   "name": "julia",
   "version": "1.7.3"
  }
 },
 "nbformat": 4,
 "nbformat_minor": 5
}
