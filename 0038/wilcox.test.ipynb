{
 "cells": [
  {
   "cell_type": "code",
   "execution_count": 1,
   "id": "17b8f50a-6c76-4f59-b1b6-99ab29685c0f",
   "metadata": {},
   "outputs": [
    {
     "data": {
      "text/plain": [
       "\n",
       "\tWilcoxon rank sum exact test\n",
       "\n",
       "data:  x and y\n",
       "W = 414, p-value = 0.02362\n",
       "alternative hypothesis: true location shift is not equal to 0\n",
       "95 percent confidence interval:\n",
       " 0.09853344 1.14254883\n",
       "sample estimates:\n",
       "difference in location \n",
       "              0.637012 \n"
      ]
     },
     "metadata": {},
     "output_type": "display_data"
    }
   ],
   "source": [
    "set.seed(17)\n",
    "x = rnorm(20)\n",
    "y = rnorm(30)\n",
    "wilcox.test(x, y, conf.int=T)"
   ]
  },
  {
   "cell_type": "code",
   "execution_count": 2,
   "id": "4bb67b92-f6c8-4b5a-b6c0-0ca0178b6f06",
   "metadata": {},
   "outputs": [
    {
     "data": {
      "text/html": [
       "0.496267760937961"
      ],
      "text/latex": [
       "0.496267760937961"
      ],
      "text/markdown": [
       "0.496267760937961"
      ],
      "text/plain": [
       "[1] 0.4962678"
      ]
     },
     "metadata": {},
     "output_type": "display_data"
    }
   ],
   "source": [
    "median(x)"
   ]
  },
  {
   "cell_type": "code",
   "execution_count": 3,
   "id": "3443092c-aea6-4cd7-b042-626f4f98a706",
   "metadata": {},
   "outputs": [
    {
     "data": {
      "text/html": [
       "-0.28150394909641"
      ],
      "text/latex": [
       "-0.28150394909641"
      ],
      "text/markdown": [
       "-0.28150394909641"
      ],
      "text/plain": [
       "[1] -0.2815039"
      ]
     },
     "metadata": {},
     "output_type": "display_data"
    }
   ],
   "source": [
    "median(y)"
   ]
  },
  {
   "cell_type": "code",
   "execution_count": 4,
   "id": "2fc2e075-2da1-4f70-a80c-8aafed9a49f3",
   "metadata": {},
   "outputs": [
    {
     "data": {
      "text/html": [
       "0.777771710034371"
      ],
      "text/latex": [
       "0.777771710034371"
      ],
      "text/markdown": [
       "0.777771710034371"
      ],
      "text/plain": [
       "[1] 0.7777717"
      ]
     },
     "metadata": {},
     "output_type": "display_data"
    }
   ],
   "source": [
    "median(x) - median(y)"
   ]
  },
  {
   "cell_type": "code",
   "execution_count": null,
   "id": "e877a2a3-500d-48bf-acaf-5ba4f35e1f38",
   "metadata": {},
   "outputs": [],
   "source": []
  }
 ],
 "metadata": {
  "jupytext": {
   "formats": "ipynb,R:hydrogen"
  },
  "kernelspec": {
   "display_name": "R",
   "language": "R",
   "name": "ir"
  },
  "language_info": {
   "codemirror_mode": "r",
   "file_extension": ".r",
   "mimetype": "text/x-r-source",
   "name": "R",
   "pygments_lexer": "r",
   "version": "4.2.1"
  }
 },
 "nbformat": 4,
 "nbformat_minor": 5
}
