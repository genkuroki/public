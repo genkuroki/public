{
 "cells": [
  {
   "cell_type": "code",
   "execution_count": 1,
   "id": "990f3edf",
   "metadata": {},
   "outputs": [
    {
     "data": {
      "text/plain": [
       "fisher_test_le (generic function with 1 method)"
      ]
     },
     "execution_count": 1,
     "metadata": {},
     "output_type": "execute_result"
    }
   ],
   "source": [
    "ENV[\"COLUMNS\"] = 120\n",
    "\n",
    "using Distributions\n",
    "using HypothesisTests\n",
    "\n",
    "# minlik版のFisher検定の実装では ≤ ではなく, 次の ⪅ を使う必要がある.\n",
    "x ⪅ y = x < y || x ≈ y\n",
    "\n",
    "# minlik版Fisher検定のP値の素朴な(高率の悪い)実装\n",
    "function fisher_test(a, b, c, d)\n",
    "    hg = Hypergeometric(a+b, c+d, a+c)\n",
    "    pa = pdf(hg, a)\n",
    "    sum(pdf(hg, i) for i in support(hg) if pdf(hg, i) ⪅ pa)\n",
    "end\n",
    "\n",
    "# ≤ を使う正しくない実装\n",
    "function fisher_test_le(a, b, c, d)\n",
    "    hg = Hypergeometric(a+b, c+d, a+c)\n",
    "    pa = pdf(hg, a)\n",
    "    sum(pdf(hg, i) for i in support(hg) if pdf(hg, i) ≤ pa)\n",
    "end"
   ]
  },
  {
   "cell_type": "code",
   "execution_count": 2,
   "id": "488d1cd4-7f22-4c59-8a4f-480ed28342e9",
   "metadata": {},
   "outputs": [],
   "source": [
    "# https://qiita.com/WolfMoon/items/530413ce7c8439d18c18\n",
    "\n",
    "using SpecialFunctions\n",
    "\n",
    "# 以下も不適切な実装\n",
    "function fisher(a, b, c, d)\n",
    "    lchoose(n, k) = logfactorial(n) - logfactorial(k) - logfactorial(n - k)\n",
    "    Stats(i, e, f, g, n) = exp(lchoose(e, i) + lchoose(f, g - i) - lchoose(n, g))\n",
    "    e, f, g, h, n = a + b, c + d, a + c, b + d, a + b + c + d\n",
    "    mi = max(0, e + g - n)\n",
    "    length = min(e, g) - mi\n",
    "    prob = [Stats(mi + i, e, f, g, n) for i in 0:length]\n",
    "    #println(\"Fisher's Exact Test for Count Data (two tailed)\")\n",
    "    #println(\"p value =\", sum(prob[prob .<= Stats(a, e, f, g, n)]))\n",
    "    sum(prob[prob .<= Stats(a, e, f, g, n)])\n",
    "end;"
   ]
  },
  {
   "cell_type": "code",
   "execution_count": 3,
   "id": "d536f2b6-6747-4daf-b5aa-9d79c7ed789b",
   "metadata": {},
   "outputs": [
    {
     "data": {
      "text/plain": [
       "10×8 Matrix{Any}:\n",
       " (1, 10, 9, 0)  0.000119076  0.000119076  0.000119076  0.000119076   true   true   true\n",
       " (2, 9, 8, 1)   0.00547749   0.00547749   0.00547749   0.00279829    true   true  false\n",
       " (3, 8, 7, 2)   0.0697785    0.0697785    0.0697785    0.0697785     true   true   true\n",
       " (4, 7, 6, 3)   0.36985      0.36985      0.36985      0.36985       true   true   true\n",
       " (5, 6, 5, 4)   1.0          1.0          1.0          1.0           true   true   true\n",
       " (6, 5, 4, 5)   0.684925     1.0          1.0          0.684925     false  false  false\n",
       " (7, 4, 3, 6)   0.36985      0.36985      0.36985      0.36985       true   true   true\n",
       " (8, 3, 2, 7)   0.0697785    0.0697785    0.0697785    0.0697785     true   true   true\n",
       " (9, 2, 1, 8)   0.00279829   0.00547749   0.00547749   0.00547749   false  false   true\n",
       " (10, 1, 0, 9)  0.000119076  0.000119076  0.000119076  0.000119076   true   true   true"
      ]
     },
     "execution_count": 3,
     "metadata": {},
     "output_type": "execute_result"
    }
   ],
   "source": [
    "s, t, n = 11, 9, 10\n",
    "hg = Hypergeometric(s, t, n)\n",
    "supp = support(hg)\n",
    "Any[\n",
    "    [(a, s-a, n-a, t-n+a) for a in supp];;\n",
    "    [fisher(a, s-a, n-a, t-n+a) for a in supp];;\n",
    "    [pvalue(FisherExactTest(a, s-a, n-a, t-n+a)) for a in supp];;\n",
    "    [fisher_test(a, s-a, n-a, t-n+a) for a in supp];;\n",
    "    [fisher_test_le(a, s-a, n-a, t-n+a) for a in supp];;\n",
    "    [fisher(a, s-a, n-a, t-n+a) ≈ pvalue(FisherExactTest(a, s-a, n-a, t-n+a)) for a in supp];;\n",
    "    [fisher(a, s-a, n-a, t-n+a) ≈ fisher_test(a, s-a, n-a, t-n+a) for a in supp];;\n",
    "    [fisher_test(a, s-a, n-a, t-n+a) ≈ fisher_test_le(a, s-a, n-a, t-n+a) for a in supp];;\n",
    "]"
   ]
  },
  {
   "cell_type": "code",
   "execution_count": 4,
   "id": "91328f3f-33d0-463f-901f-0e4171240506",
   "metadata": {},
   "outputs": [
    {
     "name": "stdout",
     "output_type": "stream",
     "text": [
      "fisher(a, b, c, d) = 0.6849249821386099\n",
      "pvalue(FisherExactTest(a, b, c, d)) = 0.9999999999999998\n",
      "fisher_test(a, b, c, d) = 1.0\n",
      "fisher_test_le(a, b, c, d) = 0.6849249821386045\n"
     ]
    }
   ],
   "source": [
    "(a, b, c, d) = (6, 5, 4, 5)\n",
    "@show fisher(a, b, c, d)\n",
    "@show pvalue(FisherExactTest(a, b, c, d))\n",
    "@show fisher_test(a, b, c, d)\n",
    "@show fisher_test_le(a, b, c, d);"
   ]
  },
  {
   "cell_type": "code",
   "execution_count": 5,
   "id": "1ac22a45-c0d9-437f-8ca9-809f49692226",
   "metadata": {},
   "outputs": [
    {
     "data": {
      "text/plain": [
       "10-element Vector{Tuple{Int64, Float64}}:\n",
       " (1, 5.953798523457966e-5)\n",
       " (2, 0.0026792093355560843)\n",
       " (3, 0.032150512026673)\n",
       " (4, 0.15003572279114077)\n",
       " (5, 0.3150750178613957)\n",
       " (6, 0.31507501786139563)\n",
       " (7, 0.15003572279114077)\n",
       " (8, 0.032150512026673)\n",
       " (9, 0.0026792093355560865)\n",
       " (10, 5.953798523457966e-5)"
      ]
     },
     "execution_count": 5,
     "metadata": {},
     "output_type": "execute_result"
    }
   ],
   "source": [
    "s, t, n = 11, 9, 10\n",
    "hg = Hypergeometric(s, t, n)\n",
    "supp = support(hg)\n",
    "[(a, pdf(Hypergeometric(s, t, n), a)) for a in supp]"
   ]
  },
  {
   "cell_type": "code",
   "execution_count": null,
   "id": "cf698022-0787-4f82-b71c-896ace3cb805",
   "metadata": {},
   "outputs": [],
   "source": []
  }
 ],
 "metadata": {
  "jupytext": {
   "formats": "ipynb,jl:hydrogen"
  },
  "kernelspec": {
   "display_name": "Julia 1.8.2",
   "language": "julia",
   "name": "julia-1.8"
  },
  "language_info": {
   "file_extension": ".jl",
   "mimetype": "application/julia",
   "name": "julia",
   "version": "1.8.2"
  },
  "toc": {
   "base_numbering": 1,
   "nav_menu": {},
   "number_sections": false,
   "sideBar": true,
   "skip_h1_title": true,
   "title_cell": "Table of Contents",
   "title_sidebar": "Contents",
   "toc_cell": false,
   "toc_position": {},
   "toc_section_display": true,
   "toc_window_display": false
  }
 },
 "nbformat": 4,
 "nbformat_minor": 5
}
