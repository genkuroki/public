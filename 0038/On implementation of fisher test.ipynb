{
 "cells": [
  {
   "cell_type": "code",
   "execution_count": 1,
   "id": "1bc5c5fb-d8af-4005-8b19-d3cf1e3a30b5",
   "metadata": {},
   "outputs": [
    {
     "data": {
      "text/plain": [
       "fisher_test_rev (generic function with 1 method)"
      ]
     },
     "execution_count": 1,
     "metadata": {},
     "output_type": "execute_result"
    }
   ],
   "source": [
    "ENV[\"COLUMNS\"] = 120\n",
    "\n",
    "using HypothesisTests\n",
    "\n",
    "# minlik版のFisher検定の実装では ≤ ではなく, 次の ⪅ を使う必要がある.\n",
    "x ⪅ y = x < y || x ≈ y\n",
    "\n",
    "# minlik版Fisher検定のP値の素朴だが(高率の悪いが)正しい実装\n",
    "using Distributions\n",
    "function fisher_test(a, b, c, d)\n",
    "    hg = Hypergeometric(a+b, c+d, a+c)\n",
    "    pa = pdf(hg, a)\n",
    "    sum(pdf(hg, i) for i in support(hg) if pdf(hg, i) ⪅ pa)\n",
    "end\n",
    "\n",
    "# ≤ を使う正しくない実装\n",
    "function fisher_test_le(a, b, c, d)\n",
    "    hg = Hypergeometric(a+b, c+d, a+c)\n",
    "    pa = pdf(hg, a)\n",
    "    sum(pdf(hg, i) for i in support(hg) if pdf(hg, i) ≤ pa)\n",
    "end\n",
    "\n",
    "# https://qiita.com/WolfMoon/items/530413ce7c8439d18c18\n",
    "using SpecialFunctions\n",
    "# 以下も不適切な実装\n",
    "function fisher_test_wm(a, b, c, d)\n",
    "    lchoose(n, k) = logfactorial(n) - logfactorial(k) - logfactorial(n - k)\n",
    "    Stats(i, e, f, g, n) = exp(lchoose(e, i) + lchoose(f, g - i) - lchoose(n, g))\n",
    "    e, f, g, h, n = a + b, c + d, a + c, b + d, a + b + c + d\n",
    "    mi = max(0, e + g - n)\n",
    "    length = min(e, g) - mi\n",
    "    prob = [Stats(mi + i, e, f, g, n) for i in 0:length]\n",
    "    #println(\"Fisher's Exact Test for Count Data (two tailed)\")\n",
    "    #println(\"p value =\", sum(prob[prob .<= Stats(a, e, f, g, n)]))\n",
    "    sum(prob[prob .<= Stats(a, e, f, g, n)])\n",
    "end\n",
    "\n",
    "# 訂正版\n",
    "function fisher_test_rev(a, b, c, d)\n",
    "    lchoose(n, k) = logfactorial(n) - logfactorial(k) - logfactorial(n - k)\n",
    "    Stats(i, e, f, g, n) = exp(lchoose(e, i) + lchoose(f, g - i) - lchoose(n, g))\n",
    "    e, f, g, h, n = a + b, c + d, a + c, b + d, a + b + c + d\n",
    "    mi = max(0, e + g - n)\n",
    "    length = min(e, g) - mi\n",
    "    prob = [Stats(mi + i, e, f, g, n) for i in 0:length]\n",
    "    #println(\"Fisher's Exact Test for Count Data (two tailed)\")\n",
    "    #println(\"p value =\", sum(prob[prob .<= Stats(a, e, f, g, n)]))\n",
    "    sum(prob[prob .⪅ Stats(a, e, f, g, n)])\n",
    "end"
   ]
  },
  {
   "cell_type": "code",
   "execution_count": 2,
   "id": "8786e5e7-0a32-4a24-ad3e-43f4e81fd775",
   "metadata": {},
   "outputs": [
    {
     "data": {
      "text/plain": [
       "8×10 Matrix{Any}:\n",
       " (5, 12, 7, 0)  0.00457666  0.00457666  0.00457666  0.00457666   true   true   true  0.00457666  true\n",
       " (6, 11, 6, 1)  0.0686499   0.0686499   0.0686499   0.0366133    true   true  false  0.0686499   true\n",
       " (7, 10, 5, 2)  0.370709    0.370709    0.370709    0.370709     true   true   true  0.370709    true\n",
       " (8, 9, 4, 3)   1.0         1.0         1.0         1.0          true   true   true  1.0         true\n",
       " (9, 8, 3, 4)   0.685355    1.0         1.0         0.685355    false  false  false  1.0         true\n",
       " (10, 7, 2, 5)  0.370709    0.370709    0.370709    0.370709     true   true   true  0.370709    true\n",
       " (11, 6, 1, 6)  0.0366133   0.0686499   0.0686499   0.0686499   false  false   true  0.0686499   true\n",
       " (12, 5, 0, 7)  0.00457666  0.00457666  0.00457666  0.00457666   true   true   true  0.00457666  true"
      ]
     },
     "execution_count": 2,
     "metadata": {},
     "output_type": "execute_result"
    }
   ],
   "source": [
    "s, t, n = 17, 7, 12\n",
    "hg = Hypergeometric(s, t, n)\n",
    "supp = support(hg)\n",
    "Any[\n",
    "    [(a, s-a, n-a, t-n+a) for a in supp];;\n",
    "    [fisher_test_wm(a, s-a, n-a, t-n+a) for a in supp];;\n",
    "    [pvalue(FisherExactTest(a, s-a, n-a, t-n+a), method=:minlike) for a in supp];;\n",
    "    [fisher_test(a, s-a, n-a, t-n+a) for a in supp];;\n",
    "    [fisher_test_le(a, s-a, n-a, t-n+a) for a in supp];;\n",
    "    [fisher_test_wm(a, s-a, n-a, t-n+a) ≈ pvalue(FisherExactTest(a, s-a, n-a, t-n+a), method=:minlike) for a in supp];;\n",
    "    [fisher_test_wm(a, s-a, n-a, t-n+a) ≈ fisher_test(a, s-a, n-a, t-n+a) for a in supp];;\n",
    "    [fisher_test(a, s-a, n-a, t-n+a) ≈ fisher_test_le(a, s-a, n-a, t-n+a) for a in supp];;\n",
    "    [fisher_test_rev(a, s-a, n-a, t-n+a) for a in supp];;\n",
    "    [fisher_test_rev(a, s-a, n-a, t-n+a) ≈ fisher_test(a, s-a, n-a, t-n+a) for a in supp];;\n",
    "]"
   ]
  },
  {
   "cell_type": "code",
   "execution_count": 3,
   "id": "91328f3f-33d0-463f-901f-0e4171240506",
   "metadata": {},
   "outputs": [
    {
     "name": "stdout",
     "output_type": "stream",
     "text": [
      "fisher_test_wm(a, b, c, d) = 0.036613272311213224\n",
      "pvalue(FisherExactTest(a, b, c, d)) = 0.068649885583524\n",
      "fisher_test(a, b, c, d) = 0.06864988558352397\n",
      "fisher_test_le(a, b, c, d) = 0.06864988558352397\n"
     ]
    }
   ],
   "source": [
    "a, b, c, d = 11, 6, 1, 6\n",
    "@show fisher_test_wm(a, b, c, d)\n",
    "@show pvalue(FisherExactTest(a, b, c, d))\n",
    "@show fisher_test(a, b, c, d)\n",
    "@show fisher_test_le(a, b, c, d);"
   ]
  },
  {
   "cell_type": "code",
   "execution_count": 4,
   "id": "754b03df-07c9-4904-9786-08860b5d3607",
   "metadata": {},
   "outputs": [
    {
     "name": "stdout",
     "output_type": "stream",
     "text": [
      "fisher_test_wm(a, b, c, d) = 0.6853546910755224\n",
      "pvalue(FisherExactTest(a, b, c, d)) = 0.9999999999999998\n",
      "fisher_test(a, b, c, d) = 0.9999999999999999\n",
      "fisher_test_le(a, b, c, d) = 0.6853546910755147\n"
     ]
    }
   ],
   "source": [
    "a, b, c, d = 9, 8, 3, 4\n",
    "@show fisher_test_wm(a, b, c, d)\n",
    "@show pvalue(FisherExactTest(a, b, c, d))\n",
    "@show fisher_test(a, b, c, d)\n",
    "@show fisher_test_le(a, b, c, d);"
   ]
  },
  {
   "cell_type": "code",
   "execution_count": 5,
   "id": "1ac22a45-c0d9-437f-8ca9-809f49692226",
   "metadata": {},
   "outputs": [
    {
     "data": {
      "text/plain": [
       "8-element Vector{Tuple{Int64, Float64}}:\n",
       " (5, 0.0022883295194507988)\n",
       " (6, 0.032036613272311186)\n",
       " (7, 0.1510297482837528)\n",
       " (8, 0.31464530892448517)\n",
       " (9, 0.3146453089244851)\n",
       " (10, 0.1510297482837528)\n",
       " (11, 0.0320366132723112)\n",
       " (12, 0.0022883295194507988)"
      ]
     },
     "execution_count": 5,
     "metadata": {},
     "output_type": "execute_result"
    }
   ],
   "source": [
    "s, t, n = 17, 7, 12\n",
    "hg = Hypergeometric(s, t, n)\n",
    "supp = support(hg)\n",
    "[(a, pdf(Hypergeometric(s, t, n), a)) for a in supp]"
   ]
  },
  {
   "cell_type": "code",
   "execution_count": 6,
   "id": "cf698022-0787-4f82-b71c-896ace3cb805",
   "metadata": {},
   "outputs": [],
   "source": [
    "using HypothesisTests\n",
    "using RCall\n",
    "using SpecialFunctions\n",
    "\n",
    "# https://qiita.com/WolfMoon/items/530413ce7c8439d18c18\n",
    "function fisher(a, b, c, d)\n",
    "    lchoose(n, k) = logfactorial(n) - logfactorial(k) - logfactorial(n - k)\n",
    "    Stats(i, e, f, g, n) = exp(lchoose(e, i) + lchoose(f, g - i) - lchoose(n, g))\n",
    "    e, f, g, h, n = a + b, c + d, a + c, b + d, a + b + c + d\n",
    "    mi = max(0, e + g - n)\n",
    "    length = min(e, g) - mi\n",
    "    prob = [Stats(mi + i, e, f, g, n) for i in 0:length]\n",
    "    println(\"Fisher's Exact Test for Count Data (two tailed)\")\n",
    "    println(\"p value =\", sum(prob[prob .<= Stats(a, e, f, g, n)]))\n",
    "end;"
   ]
  },
  {
   "cell_type": "code",
   "execution_count": 7,
   "id": "52c2b69c-b689-46ec-8a95-6fcb2632bc58",
   "metadata": {},
   "outputs": [
    {
     "name": "stdout",
     "output_type": "stream",
     "text": [
      "Fisher's Exact Test for Count Data (two tailed)\n",
      "p value =0.036613272311213224\n"
     ]
    }
   ],
   "source": [
    "fisher(11, 6, 1, 6)"
   ]
  },
  {
   "cell_type": "code",
   "execution_count": 8,
   "id": "7ec7441f-0cdd-4b68-9cb6-f4b415b8a438",
   "metadata": {},
   "outputs": [
    {
     "data": {
      "text/plain": [
       "0.06864988558352403"
      ]
     },
     "execution_count": 8,
     "metadata": {},
     "output_type": "execute_result"
    }
   ],
   "source": [
    "pvalue(FisherExactTest(11, 6, 1, 6), method=:minlike)"
   ]
  },
  {
   "cell_type": "code",
   "execution_count": 9,
   "id": "bb62fb54-0e80-4b13-964e-795478888ea7",
   "metadata": {},
   "outputs": [
    {
     "data": {
      "text/plain": [
       "RObject{VecSxp}\n",
       "\n",
       "\tFisher's Exact Test for Count Data\n",
       "\n",
       "data:  matrix(c(11, 6, 1, 6), nrow = 2)\n",
       "p-value = 0.06865\n",
       "alternative hypothesis: true odds ratio is not equal to 1\n",
       "95 percent confidence interval:\n",
       "   0.8868833 548.6839949\n",
       "sample estimates:\n",
       "odds ratio \n",
       "  9.910647 \n",
       "\n"
      ]
     },
     "execution_count": 9,
     "metadata": {},
     "output_type": "execute_result"
    }
   ],
   "source": [
    "R\"fisher.test(matrix(c(11, 6, 1, 6), nrow=2))\""
   ]
  },
  {
   "cell_type": "code",
   "execution_count": 10,
   "id": "4d2402fd-0ce3-4f9c-be06-41a464a55be5",
   "metadata": {},
   "outputs": [
    {
     "name": "stdout",
     "output_type": "stream",
     "text": [
      "Fisher's Exact Test for Count Data (two tailed)\n",
      "p value =0.6853546910755224\n"
     ]
    }
   ],
   "source": [
    "fisher(9, 8, 3, 4)"
   ]
  },
  {
   "cell_type": "code",
   "execution_count": 11,
   "id": "02be8ffa-840f-4a9f-bca3-6ac618ee4ab5",
   "metadata": {},
   "outputs": [
    {
     "data": {
      "text/plain": [
       "1.0"
      ]
     },
     "execution_count": 11,
     "metadata": {},
     "output_type": "execute_result"
    }
   ],
   "source": [
    "pvalue(FisherExactTest(9, 8, 3, 4), method=:minlike)"
   ]
  },
  {
   "cell_type": "code",
   "execution_count": 12,
   "id": "2b45af0f-27ed-4301-9cc4-1914f0e1297f",
   "metadata": {},
   "outputs": [
    {
     "data": {
      "text/plain": [
       "RObject{VecSxp}\n",
       "\n",
       "\tFisher's Exact Test for Count Data\n",
       "\n",
       "data:  matrix(c(9, 8, 3, 4), nrow = 2)\n",
       "p-value = 1\n",
       "alternative hypothesis: true odds ratio is not equal to 1\n",
       "95 percent confidence interval:\n",
       "  0.1835411 13.3708178\n",
       "sample estimates:\n",
       "odds ratio \n",
       "  1.474776 \n",
       "\n"
      ]
     },
     "execution_count": 12,
     "metadata": {},
     "output_type": "execute_result"
    }
   ],
   "source": [
    "R\"fisher.test(matrix(c(9, 8, 3, 4), nrow=2))\""
   ]
  },
  {
   "cell_type": "code",
   "execution_count": null,
   "id": "de01b794-a01b-4e91-b057-8981cc90eb7f",
   "metadata": {},
   "outputs": [],
   "source": []
  }
 ],
 "metadata": {
  "jupytext": {
   "formats": "ipynb,jl:hydrogen"
  },
  "kernelspec": {
   "display_name": "Julia 1.8.2",
   "language": "julia",
   "name": "julia-1.8"
  },
  "language_info": {
   "file_extension": ".jl",
   "mimetype": "application/julia",
   "name": "julia",
   "version": "1.8.2"
  },
  "toc": {
   "base_numbering": 1,
   "nav_menu": {},
   "number_sections": false,
   "sideBar": true,
   "skip_h1_title": true,
   "title_cell": "Table of Contents",
   "title_sidebar": "Contents",
   "toc_cell": false,
   "toc_position": {},
   "toc_section_display": true,
   "toc_window_display": false
  }
 },
 "nbformat": 4,
 "nbformat_minor": 5
}
