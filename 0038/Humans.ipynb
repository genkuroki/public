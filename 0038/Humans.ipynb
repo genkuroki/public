{
 "cells": [
  {
   "cell_type": "code",
   "execution_count": 1,
   "id": "3b6b1b85-2032-45fa-9a79-79eda271923c",
   "metadata": {},
   "outputs": [
    {
     "data": {
      "text/plain": [
       "Main.Humans"
      ]
     },
     "execution_count": 1,
     "metadata": {},
     "output_type": "execute_result"
    }
   ],
   "source": [
    "module Humans\n",
    "\n",
    "Base.@kwdef mutable struct Human\n",
    "    name::String = \"名無し\"\n",
    "    age::Int = 42\n",
    "end\n",
    "\n",
    "name(h::Human) = h.name\n",
    "age(h::Human) = h.age\n",
    "setname!(h::Human, name) = setfield!(h, :name, name)\n",
    "setage!(h::Human, age) = setfield!(h, :age, age)\n",
    "\n",
    "function hello(h::Human)\n",
    "    \"こんにちは。$(name(h))です。年齢は$(age(h))歳です。\"\n",
    "end\n",
    "\n",
    "end"
   ]
  },
  {
   "cell_type": "code",
   "execution_count": 2,
   "id": "fa676f41-99ac-4869-8a09-1547b26077ec",
   "metadata": {},
   "outputs": [
    {
     "data": {
      "text/html": [
       "# 3 methods for type constructor:<ul><li> Main.Humans.Human(; <i>name, age</i>) in Main.Humans at <a href=\"file://D:\\Julia-1.8.1\\share\\julia\\base\\util.jl\" target=\"_blank\">util.jl:493</a></li> <li> Main.Humans.Human(name::<b>String</b>, age::<b>Int64</b>) in Main.Humans at In[1]:4</li> <li> Main.Humans.Human(name, age) in Main.Humans at In[1]:4</li> </ul>"
      ],
      "text/plain": [
       "# 3 methods for type constructor:\n",
       "[1] Main.Humans.Human(; name, age) in Main.Humans at util.jl:493\n",
       "[2] Main.Humans.Human(name::String, age::Int64) in Main.Humans at In[1]:4\n",
       "[3] Main.Humans.Human(name, age) in Main.Humans at In[1]:4"
      ]
     },
     "execution_count": 2,
     "metadata": {},
     "output_type": "execute_result"
    }
   ],
   "source": [
    "methods(Humans.Human)"
   ]
  },
  {
   "cell_type": "code",
   "execution_count": 3,
   "id": "c9f2487f-a3ef-4f00-b0f1-4c9f4f29a945",
   "metadata": {},
   "outputs": [
    {
     "data": {
      "text/plain": [
       "Main.Humans.Human(\"名無し\", 42)"
      ]
     },
     "execution_count": 3,
     "metadata": {},
     "output_type": "execute_result"
    }
   ],
   "source": [
    "nanashi = Humans.Human()"
   ]
  },
  {
   "cell_type": "code",
   "execution_count": 4,
   "id": "8c50c473-169d-4c41-929f-fc263f564cbe",
   "metadata": {},
   "outputs": [
    {
     "data": {
      "text/plain": [
       "\"こんにちは。名無しです。年齢は42歳です。\""
      ]
     },
     "execution_count": 4,
     "metadata": {},
     "output_type": "execute_result"
    }
   ],
   "source": [
    "Humans.hello(nanashi)"
   ]
  },
  {
   "cell_type": "code",
   "execution_count": 5,
   "id": "a4b26b6f-8ce0-45f1-aaa6-66da3b6eb6ad",
   "metadata": {},
   "outputs": [
    {
     "data": {
      "text/plain": [
       "\"こんにちは。名無しの権平です。年齢は142歳です。\""
      ]
     },
     "execution_count": 5,
     "metadata": {},
     "output_type": "execute_result"
    }
   ],
   "source": [
    "Humans.setname!(nanashi, Humans.name(nanashi) * \"の権平\")\n",
    "Humans.setage!(nanashi, Humans.age(nanashi) + 100)\n",
    "Humans.hello(nanashi)"
   ]
  },
  {
   "cell_type": "code",
   "execution_count": 6,
   "id": "e93d33c9-3cbb-417b-8545-471047f40eb3",
   "metadata": {},
   "outputs": [
    {
     "data": {
      "text/plain": [
       "Main.Humans.Human(\"Julia\", 42)"
      ]
     },
     "execution_count": 6,
     "metadata": {},
     "output_type": "execute_result"
    }
   ],
   "source": [
    "julia = Humans.Human(name=\"Julia\")"
   ]
  },
  {
   "cell_type": "code",
   "execution_count": 7,
   "id": "30a7ecf6-604f-4bac-bc31-75af1d2b8ebe",
   "metadata": {},
   "outputs": [
    {
     "data": {
      "text/plain": [
       "Main.Humans.Human(\"Morty\", 12)"
      ]
     },
     "execution_count": 7,
     "metadata": {},
     "output_type": "execute_result"
    }
   ],
   "source": [
    "morty = Humans.Human(\"Morty\", 12)"
   ]
  },
  {
   "cell_type": "code",
   "execution_count": 8,
   "id": "0da2e4a7-46cd-4bc8-8663-562f850c0530",
   "metadata": {},
   "outputs": [
    {
     "data": {
      "text/plain": [
       "\"しんじ\""
      ]
     },
     "execution_count": 8,
     "metadata": {},
     "output_type": "execute_result"
    }
   ],
   "source": [
    "ss = SubString(\"12しんじ34\", 3, 9)"
   ]
  },
  {
   "cell_type": "code",
   "execution_count": 9,
   "id": "9d218c9b-43ae-4645-8a65-c10225ab67b0",
   "metadata": {},
   "outputs": [
    {
     "data": {
      "text/plain": [
       "SubString{String}"
      ]
     },
     "execution_count": 9,
     "metadata": {},
     "output_type": "execute_result"
    }
   ],
   "source": [
    "typeof(ss)"
   ]
  },
  {
   "cell_type": "code",
   "execution_count": 10,
   "id": "fc252168-097e-4b96-80a2-4f3eb6619e8c",
   "metadata": {},
   "outputs": [
    {
     "data": {
      "text/plain": [
       "Main.Humans.Human(\"しんじ\", 14)"
      ]
     },
     "execution_count": 10,
     "metadata": {},
     "output_type": "execute_result"
    }
   ],
   "source": [
    "shinji = Humans.Human(name=ss, age=14.0)"
   ]
  },
  {
   "cell_type": "code",
   "execution_count": 11,
   "id": "e5307176-d713-4068-808b-655d136d5428",
   "metadata": {},
   "outputs": [
    {
     "data": {
      "text/plain": [
       "(String, Int64)"
      ]
     },
     "execution_count": 11,
     "metadata": {},
     "output_type": "execute_result"
    }
   ],
   "source": [
    "typeof(Humans.name(shinji)), typeof(Humans.age(shinji))"
   ]
  },
  {
   "cell_type": "code",
   "execution_count": 12,
   "id": "7d4f0269-8e77-400f-8045-42f6677d59ba",
   "metadata": {},
   "outputs": [
    {
     "name": "stderr",
     "output_type": "stream",
     "text": [
      "WARNING: replacing module Humans.\n"
     ]
    },
    {
     "data": {
      "text/plain": [
       "Main.Humans"
      ]
     },
     "execution_count": 12,
     "metadata": {},
     "output_type": "execute_result"
    }
   ],
   "source": [
    "module Humans\n",
    "\n",
    "Base.@kwdef mutable struct Human{Tname, Tage}\n",
    "    name::Tname = \"名無し\"\n",
    "    age::Tage = 42\n",
    "end\n",
    "\n",
    "name(h::Human) = h.name\n",
    "age(h::Human) = h.age\n",
    "setname!(h::Human, name) = setfield!(h, :name, name)\n",
    "setage!(h::Human, age) = setfield!(h, :age, age)\n",
    "\n",
    "function hello(h::Human)\n",
    "    \"こんにちは。$(name(h))です。年齢は$(age(h))際です。\"\n",
    "end\n",
    "\n",
    "end"
   ]
  },
  {
   "cell_type": "code",
   "execution_count": 13,
   "id": "524ae75b-0cec-4eaa-af61-601dd13b500f",
   "metadata": {},
   "outputs": [
    {
     "data": {
      "text/html": [
       "# 2 methods for type constructor:<ul><li> Main.Humans.Human(; <i>name, age</i>) in Main.Humans at <a href=\"file://D:\\Julia-1.8.1\\share\\julia\\base\\util.jl\" target=\"_blank\">util.jl:504</a></li> <li> Main.Humans.Human(name::<b>Tname</b>, age::<b>Tage</b>)<i> where {Tname, Tage}</i> in Main.Humans at In[12]:4</li> </ul>"
      ],
      "text/plain": [
       "# 2 methods for type constructor:\n",
       "[1] Main.Humans.Human(; name, age) in Main.Humans at util.jl:504\n",
       "[2] Main.Humans.Human(name::Tname, age::Tage) where {Tname, Tage} in Main.Humans at In[12]:4"
      ]
     },
     "execution_count": 13,
     "metadata": {},
     "output_type": "execute_result"
    }
   ],
   "source": [
    "methods(Humans.Human)"
   ]
  },
  {
   "cell_type": "code",
   "execution_count": 14,
   "id": "18ad5428-2c6e-440a-a623-0cd27c4323e9",
   "metadata": {},
   "outputs": [
    {
     "data": {
      "text/html": [
       "# 2 methods for type constructor:<ul><li> Main.Humans.Human{Tname, Tage}(; <i>name, age</i>)<i> where {Tname, Tage}</i> in Main.Humans at <a href=\"file://D:\\Julia-1.8.1\\share\\julia\\base\\util.jl\" target=\"_blank\">util.jl:505</a></li> <li> Main.Humans.Human{Tname, Tage}(name, age)<i> where {Tname, Tage}</i> in Main.Humans at In[12]:4</li> </ul>"
      ],
      "text/plain": [
       "# 2 methods for type constructor:\n",
       "[1] Main.Humans.Human{Tname, Tage}(; name, age) where {Tname, Tage} in Main.Humans at util.jl:505\n",
       "[2] Main.Humans.Human{Tname, Tage}(name, age) where {Tname, Tage} in Main.Humans at In[12]:4"
      ]
     },
     "execution_count": 14,
     "metadata": {},
     "output_type": "execute_result"
    }
   ],
   "source": [
    "methods(Humans.Human{String, Int})"
   ]
  },
  {
   "cell_type": "code",
   "execution_count": 15,
   "id": "b333cbd4-e516-48c9-b0ab-8aab0a168c0e",
   "metadata": {},
   "outputs": [
    {
     "data": {
      "text/plain": [
       "Main.Humans.Human{String, Int64}(\"名無し\", 42)"
      ]
     },
     "execution_count": 15,
     "metadata": {},
     "output_type": "execute_result"
    }
   ],
   "source": [
    "nanashi = Humans.Human()"
   ]
  },
  {
   "cell_type": "code",
   "execution_count": 16,
   "id": "5840da59-e596-4781-bfd9-f58a76b540fe",
   "metadata": {},
   "outputs": [
    {
     "data": {
      "text/plain": [
       "\"こんにちは。名無しです。年齢は42際です。\""
      ]
     },
     "execution_count": 16,
     "metadata": {},
     "output_type": "execute_result"
    }
   ],
   "source": [
    "Humans.hello(nanashi)"
   ]
  },
  {
   "cell_type": "code",
   "execution_count": 17,
   "id": "6fc3977b-8a39-4e4a-98ad-dafc226dc13a",
   "metadata": {},
   "outputs": [
    {
     "data": {
      "text/plain": [
       "\"こんにちは。名無しの権平です。年齢は142際です。\""
      ]
     },
     "execution_count": 17,
     "metadata": {},
     "output_type": "execute_result"
    }
   ],
   "source": [
    "Humans.setname!(nanashi, Humans.name(nanashi) * \"の権平\")\n",
    "Humans.setage!(nanashi, Humans.age(nanashi) + 100)\n",
    "Humans.hello(nanashi)"
   ]
  },
  {
   "cell_type": "code",
   "execution_count": 18,
   "id": "fce1a800-e045-4fc6-8cfe-05065126c3d1",
   "metadata": {},
   "outputs": [
    {
     "data": {
      "text/plain": [
       "Main.Humans.Human{String, Int64}(\"Julia\", 42)"
      ]
     },
     "execution_count": 18,
     "metadata": {},
     "output_type": "execute_result"
    }
   ],
   "source": [
    "julia = Humans.Human(name=\"Julia\")"
   ]
  },
  {
   "cell_type": "code",
   "execution_count": 19,
   "id": "ccf5321d-003a-4db9-b50b-689f9730ff9c",
   "metadata": {},
   "outputs": [
    {
     "data": {
      "text/plain": [
       "Main.Humans.Human{String, Int64}(\"Morty\", 12)"
      ]
     },
     "execution_count": 19,
     "metadata": {},
     "output_type": "execute_result"
    }
   ],
   "source": [
    "morty = Humans.Human(\"Morty\", 12)"
   ]
  },
  {
   "cell_type": "code",
   "execution_count": 20,
   "id": "5dac5f2e-9331-409a-9b49-7dc804660ec3",
   "metadata": {},
   "outputs": [
    {
     "data": {
      "text/plain": [
       "\"しんじ\""
      ]
     },
     "execution_count": 20,
     "metadata": {},
     "output_type": "execute_result"
    }
   ],
   "source": [
    "ss = SubString(\"12しんじ34\", 3, 9)"
   ]
  },
  {
   "cell_type": "code",
   "execution_count": 21,
   "id": "24b74747-ad07-4a81-b4aa-6556b1a05c46",
   "metadata": {},
   "outputs": [
    {
     "data": {
      "text/plain": [
       "SubString{String}"
      ]
     },
     "execution_count": 21,
     "metadata": {},
     "output_type": "execute_result"
    }
   ],
   "source": [
    "typeof(ss)"
   ]
  },
  {
   "cell_type": "code",
   "execution_count": 22,
   "id": "f1787da2-4cc9-4a15-aaf8-db7ac9981d2e",
   "metadata": {},
   "outputs": [
    {
     "data": {
      "text/plain": [
       "Main.Humans.Human{SubString{String}, Float64}(\"しんじ\", 14.0)"
      ]
     },
     "execution_count": 22,
     "metadata": {},
     "output_type": "execute_result"
    }
   ],
   "source": [
    "shinji = Humans.Human(name=ss, age=14.0)"
   ]
  },
  {
   "cell_type": "code",
   "execution_count": 23,
   "id": "00c498f3-e330-4dad-a9c7-625fc6409039",
   "metadata": {},
   "outputs": [
    {
     "data": {
      "text/plain": [
       "(SubString{String}, Float64)"
      ]
     },
     "execution_count": 23,
     "metadata": {},
     "output_type": "execute_result"
    }
   ],
   "source": [
    "typeof(Humans.name(shinji)), typeof(Humans.age(shinji))"
   ]
  },
  {
   "cell_type": "code",
   "execution_count": null,
   "id": "f56fb7d3-867e-4775-aa69-cabfda43e90d",
   "metadata": {},
   "outputs": [],
   "source": []
  }
 ],
 "metadata": {
  "jupytext": {
   "formats": "ipynb,jl:hydrogen"
  },
  "kernelspec": {
   "display_name": "Julia 1.8.1",
   "language": "julia",
   "name": "julia-1.8"
  },
  "language_info": {
   "file_extension": ".jl",
   "mimetype": "application/julia",
   "name": "julia",
   "version": "1.8.1"
  }
 },
 "nbformat": 4,
 "nbformat_minor": 5
}
