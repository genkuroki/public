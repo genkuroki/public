{
 "cells": [
  {
   "cell_type": "code",
   "execution_count": 1,
   "id": "e2944b6c-84d4-4c7b-aa0b-961588234907",
   "metadata": {},
   "outputs": [
    {
     "name": "stderr",
     "output_type": "stream",
     "text": [
      "\u001b[32m\u001b[1m  Generating\u001b[22m\u001b[39m  project MyPkg:\n",
      "    MyPkg\\Project.toml\n",
      "    MyPkg\\src\\MyPkg.jl\n"
     ]
    }
   ],
   "source": [
    "]generate MyPkg"
   ]
  },
  {
   "cell_type": "code",
   "execution_count": 2,
   "id": "5055d106-ac5c-44c0-9e75-db76d8474db0",
   "metadata": {},
   "outputs": [
    {
     "name": "stdout",
     "output_type": "stream",
     "text": [
      ".:\n",
      "total 1\n",
      "drwxr-xr-x 1 genkuroki genkuroki  0 Sep 26 18:14 MyPkg\n",
      "-rw-r--r-- 1 genkuroki genkuroki 72 Sep 26 18:14 Untitled.ipynb\n",
      "\n",
      "./MyPkg:\n",
      "total 1\n",
      "-rw-r--r-- 1 genkuroki genkuroki 126 Sep 26 18:14 Project.toml\n",
      "drwxr-xr-x 1 genkuroki genkuroki   0 Sep 26 18:14 src\n",
      "\n",
      "./MyPkg/src:\n",
      "total 1\n",
      "-rw-r--r-- 1 genkuroki genkuroki 66 Sep 26 18:14 MyPkg.jl\n"
     ]
    }
   ],
   "source": [
    ";ls -lR"
   ]
  },
  {
   "cell_type": "code",
   "execution_count": null,
   "id": "c43c2931-a9b7-40ee-9b8f-88df7e28c9ea",
   "metadata": {},
   "outputs": [],
   "source": []
  }
 ],
 "metadata": {
  "kernelspec": {
   "display_name": "Julia 1.8.1",
   "language": "julia",
   "name": "julia-1.8"
  },
  "language_info": {
   "file_extension": ".jl",
   "mimetype": "application/julia",
   "name": "julia",
   "version": "1.8.1"
  }
 },
 "nbformat": 4,
 "nbformat_minor": 5
}
