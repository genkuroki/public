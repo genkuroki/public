{
 "cells": [
  {
   "cell_type": "code",
   "execution_count": 1,
   "id": "5f906ddd-0767-4367-8c69-4f8cc7aee02b",
   "metadata": {},
   "outputs": [
    {
     "data": {
      "text/plain": [
       "Int64"
      ]
     },
     "execution_count": 1,
     "metadata": {},
     "output_type": "execute_result"
    }
   ],
   "source": [
    "Int"
   ]
  },
  {
   "cell_type": "code",
   "execution_count": 2,
   "id": "ffa26500-fbd0-42c6-8a0b-0388f1ac4746",
   "metadata": {},
   "outputs": [
    {
     "data": {
      "text/plain": [
       "Float64"
      ]
     },
     "execution_count": 2,
     "metadata": {},
     "output_type": "execute_result"
    }
   ],
   "source": [
    "promote_type(Int, Float64)"
   ]
  },
  {
   "cell_type": "code",
   "execution_count": 3,
   "id": "5b157175-785f-49ed-ae6e-7538043faf02",
   "metadata": {},
   "outputs": [
    {
     "data": {
      "text/plain": [
       "CodeInfo(\n",
       "\u001b[90m1 ─\u001b[39m %1 = Base.mul_float(2.0, x)\u001b[36m::Float64\u001b[39m\n",
       "\u001b[90m└──\u001b[39m      return %1\n",
       ") => Float64"
      ]
     },
     "execution_count": 3,
     "metadata": {},
     "output_type": "execute_result"
    }
   ],
   "source": [
    "f(x) = 2x\n",
    "@code_typed f(3.0)"
   ]
  },
  {
   "cell_type": "code",
   "execution_count": 4,
   "id": "6ac2c9c8-5054-4d87-abec-b19ff0def156",
   "metadata": {},
   "outputs": [
    {
     "data": {
      "text/plain": [
       "Float32"
      ]
     },
     "execution_count": 4,
     "metadata": {},
     "output_type": "execute_result"
    }
   ],
   "source": [
    "promote_type(Int, Float32)"
   ]
  },
  {
   "cell_type": "code",
   "execution_count": 5,
   "id": "d2bc8358-953f-4a61-9578-cb8fc1f44691",
   "metadata": {},
   "outputs": [
    {
     "data": {
      "text/plain": [
       "CodeInfo(\n",
       "\u001b[90m1 ─\u001b[39m %1 = Base.mul_float(2.0f0, x)\u001b[36m::Float32\u001b[39m\n",
       "\u001b[90m└──\u001b[39m      return %1\n",
       ") => Float32"
      ]
     },
     "execution_count": 5,
     "metadata": {},
     "output_type": "execute_result"
    }
   ],
   "source": [
    "@code_typed f(3f0)"
   ]
  },
  {
   "cell_type": "code",
   "execution_count": 6,
   "id": "e8f90475-94a7-426e-b270-318425fcbbd8",
   "metadata": {},
   "outputs": [
    {
     "data": {
      "text/plain": [
       "ComplexF64\u001b[90m (alias for \u001b[39m\u001b[90mComplex{Float64}\u001b[39m\u001b[90m)\u001b[39m"
      ]
     },
     "execution_count": 6,
     "metadata": {},
     "output_type": "execute_result"
    }
   ],
   "source": [
    "promote_type(Int, ComplexF64)"
   ]
  },
  {
   "cell_type": "code",
   "execution_count": 7,
   "id": "4367b818-fba0-4de9-8868-e7256646a133",
   "metadata": {},
   "outputs": [
    {
     "data": {
      "text/plain": [
       "CodeInfo(\n",
       "\u001b[90m1 ─\u001b[39m %1 = Base.getfield(x, :re)\u001b[36m::Float64\u001b[39m\n",
       "\u001b[90m│  \u001b[39m %2 = Base.mul_float(2.0, %1)\u001b[36m::Float64\u001b[39m\n",
       "\u001b[90m│  \u001b[39m %3 = Base.getfield(x, :im)\u001b[36m::Float64\u001b[39m\n",
       "\u001b[90m│  \u001b[39m %4 = Base.mul_float(2.0, %3)\u001b[36m::Float64\u001b[39m\n",
       "\u001b[90m│  \u001b[39m %5 = %new(ComplexF64, %2, %4)\u001b[36m::ComplexF64\u001b[39m\n",
       "\u001b[90m└──\u001b[39m      return %5\n",
       ") => ComplexF64"
      ]
     },
     "execution_count": 7,
     "metadata": {},
     "output_type": "execute_result"
    }
   ],
   "source": [
    "@code_typed f(complex(3.0))"
   ]
  },
  {
   "cell_type": "code",
   "execution_count": 8,
   "id": "9d1e0ca5-5262-402a-baf3-66de7ec9b2ad",
   "metadata": {},
   "outputs": [
    {
     "data": {
      "text/plain": [
       "Rational{Int64}"
      ]
     },
     "execution_count": 8,
     "metadata": {},
     "output_type": "execute_result"
    }
   ],
   "source": [
    "promote_type(Int, Rational{Int})"
   ]
  },
  {
   "cell_type": "code",
   "execution_count": 9,
   "id": "c8d98ad2-b868-49e3-ace0-e55ed41db1d4",
   "metadata": {},
   "outputs": [
    {
     "data": {
      "text/plain": [
       "CodeInfo(\n",
       "\u001b[90m1 ─\u001b[39m %1  = Base.getfield(x, :den)\u001b[36m::Int64\u001b[39m\n",
       "\u001b[90m│  \u001b[39m %2  = invoke Base.divgcd(2::Int64, %1::Int64)\u001b[36m::Tuple{Int64, Int64}\u001b[39m\n",
       "\u001b[90m│  \u001b[39m %3  = Base.getfield(%2, 1)\u001b[36m::Int64\u001b[39m\n",
       "\u001b[90m│  \u001b[39m %4  = Base.getfield(%2, 2)\u001b[36m::Int64\u001b[39m\n",
       "\u001b[90m│  \u001b[39m %5  = Base.getfield(x, :num)\u001b[36m::Int64\u001b[39m\n",
       "\u001b[90m│  \u001b[39m %6  = Base.Checked.checked_smul_int(%3, %5)\u001b[36m::Tuple{Int64, Bool}\u001b[39m\n",
       "\u001b[90m│  \u001b[39m %7  = Base.getfield(%6, 1)\u001b[36m::Int64\u001b[39m\n",
       "\u001b[90m│  \u001b[39m %8  = Base.getfield(%6, 2)\u001b[36m::Bool\u001b[39m\n",
       "\u001b[90m└──\u001b[39m       goto #3 if not %8\n",
       "\u001b[90m2 ─\u001b[39m       invoke Base.Checked.throw_overflowerr_binaryop(:*::Symbol, %3::Int64, %5::Int64)\u001b[90m::Union{}\u001b[39m\n",
       "\u001b[90m└──\u001b[39m       unreachable\n",
       "\u001b[90m3 ─\u001b[39m       goto #4\n",
       "\u001b[90m4 ─\u001b[39m %13 = %new(Rational{Int64}, %7, %4)\u001b[36m::Rational{Int64}\u001b[39m\n",
       "\u001b[90m└──\u001b[39m       goto #5\n",
       "\u001b[90m5 ─\u001b[39m       return %13\n",
       ") => Rational{Int64}"
      ]
     },
     "execution_count": 9,
     "metadata": {},
     "output_type": "execute_result"
    }
   ],
   "source": [
    "@code_typed f(3//1)"
   ]
  },
  {
   "cell_type": "code",
   "execution_count": null,
   "id": "d7a98d1e-1aa3-49d8-b757-6a1ee1a28540",
   "metadata": {},
   "outputs": [],
   "source": []
  }
 ],
 "metadata": {
  "jupytext": {
   "formats": "ipynb,jl:hydrogen"
  },
  "kernelspec": {
   "display_name": "Julia 1.8.2",
   "language": "julia",
   "name": "julia-1.8"
  },
  "language_info": {
   "file_extension": ".jl",
   "mimetype": "application/julia",
   "name": "julia",
   "version": "1.8.2"
  }
 },
 "nbformat": 4,
 "nbformat_minor": 5
}
