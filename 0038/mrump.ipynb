{
 "cells": [
  {
   "cell_type": "markdown",
   "id": "aa2f171d-459d-4e87-990b-c11dbcb2e9c6",
   "metadata": {},
   "source": [
    "https://twitter.com/snap_tck/status/1586506933439434752"
   ]
  },
  {
   "cell_type": "code",
   "execution_count": 1,
   "id": "a4408cdd-697e-4b6e-b826-664999f9f596",
   "metadata": {},
   "outputs": [
    {
     "name": "stdout",
     "output_type": "stream",
     "text": [
      "mrump(77617.0, 33096.0) = -1.1805916207174113e21\n",
      "mrump(big\"77617.0\", big\"33096.0\") = -2.0\n",
      "mrump(big(77617), big(33096)) = -2.0\n"
     ]
    }
   ],
   "source": [
    "mrump(a, b) = 333.75b^6 + a^2*(11a^2*b^2 - b^6 - 121*b^4 - 2) + 5.5b^8\n",
    "@show mrump(77617.0, 33096.0)\n",
    "@show mrump(big\"77617.0\", big\"33096.0\")\n",
    "@show mrump(big(77617), big(33096));"
   ]
  },
  {
   "cell_type": "code",
   "execution_count": 2,
   "id": "9c4e555d-48df-4872-874b-90482ef8aab6",
   "metadata": {},
   "outputs": [
    {
     "name": "stdout",
     "output_type": "stream",
     "text": [
      "mrump_int(77617.0, 33096.0) = -1.1805916207174113e21\n",
      "mrump_int(big\"77617.0\", big\"33096.0\") = -2.0\n",
      "mrump_int(big(77617), big(33096)) = -2.0\n"
     ]
    }
   ],
   "source": [
    "mrump_int(a, b) = (1335b^6 + 4a^2*(11a^2*b^2 - b^6 - 121*b^4 - 2) + 22b^8)/4\n",
    "@show mrump_int(77617.0, 33096.0)\n",
    "@show mrump_int(big\"77617.0\", big\"33096.0\")\n",
    "@show mrump_int(big(77617), big(33096));"
   ]
  },
  {
   "cell_type": "code",
   "execution_count": 3,
   "id": "b8e21dd1-eedc-4c1c-9f6b-b8913dd62bc2",
   "metadata": {},
   "outputs": [
    {
     "name": "stdout",
     "output_type": "stream",
     "text": [
      "mrump_rat(77617.0, 33096.0) = -1.1805916207174113e21\n",
      "mrump_rat(big\"77617.0\", big\"33096.0\") = -2.0\n",
      "mrump_rat(Int128(77617), Int128(33096)) = -2//1\n",
      "mrump_rat(big(77617), big(33096)) = -2//1\n"
     ]
    }
   ],
   "source": [
    "mrump_rat(a, b) = (1335//4)*b^6 + a^2*(11a^2*b^2 - b^6 - 121*b^4 - 2) + (22//4)*b^8\n",
    "@show mrump_rat(77617.0, 33096.0)\n",
    "@show mrump_rat(big\"77617.0\", big\"33096.0\")\n",
    "@show mrump_rat(Int128(77617), Int128(33096))\n",
    "@show mrump_rat(big(77617), big(33096));"
   ]
  },
  {
   "cell_type": "code",
   "execution_count": 4,
   "id": "334535c6-3b3d-4d17-ada6-ca795eeb83aa",
   "metadata": {},
   "outputs": [
    {
     "data": {
      "text/plain": [
       "256"
      ]
     },
     "execution_count": 4,
     "metadata": {},
     "output_type": "execute_result"
    }
   ],
   "source": [
    "precision(BigFloat)"
   ]
  },
  {
   "cell_type": "code",
   "execution_count": 5,
   "id": "ffd8f199-6ace-4ba0-9d1c-9381cc21beae",
   "metadata": {},
   "outputs": [
    {
     "data": {
      "text/plain": [
       "0.0"
      ]
     },
     "execution_count": 5,
     "metadata": {},
     "output_type": "execute_result"
    }
   ],
   "source": [
    "setprecision(120) do\n",
    "    mrump(big\"77617.0\", big\"33096.0\")\n",
    "end"
   ]
  },
  {
   "cell_type": "code",
   "execution_count": 6,
   "id": "9b004733-f7d6-476b-97d7-d073d81d2ef8",
   "metadata": {},
   "outputs": [
    {
     "data": {
      "text/plain": [
       "-2.0"
      ]
     },
     "execution_count": 6,
     "metadata": {},
     "output_type": "execute_result"
    }
   ],
   "source": [
    "setprecision(124) do\n",
    "    mrump(big\"77617.0\", big\"33096.0\")\n",
    "end"
   ]
  },
  {
   "cell_type": "code",
   "execution_count": 7,
   "id": "5b80df02-b7f1-461d-bc24-72f61fecd26a",
   "metadata": {},
   "outputs": [
    {
     "data": {
      "text/plain": [
       "CodeInfo(\n",
       "\u001b[90m1 ─\u001b[39m %1  = invoke Base.Math.pow_body(b::Float64, 6::Int64)\u001b[36m::Float64\u001b[39m\n",
       "\u001b[90m│  \u001b[39m %2  = Base.mul_float(333.75, %1)\u001b[36m::Float64\u001b[39m\n",
       "\u001b[90m│  \u001b[39m %3  = Base.mul_float(a, a)\u001b[36m::Float64\u001b[39m\n",
       "\u001b[90m│  \u001b[39m %4  = Base.mul_float(a, a)\u001b[36m::Float64\u001b[39m\n",
       "\u001b[90m│  \u001b[39m %5  = Base.mul_float(11.0, %4)\u001b[36m::Float64\u001b[39m\n",
       "\u001b[90m│  \u001b[39m %6  = Base.mul_float(b, b)\u001b[36m::Float64\u001b[39m\n",
       "\u001b[90m│  \u001b[39m %7  = Base.mul_float(%5, %6)\u001b[36m::Float64\u001b[39m\n",
       "\u001b[90m│  \u001b[39m %8  = invoke Base.Math.pow_body(b::Float64, 6::Int64)\u001b[36m::Float64\u001b[39m\n",
       "\u001b[90m│  \u001b[39m %9  = Base.sub_float(%7, %8)\u001b[36m::Float64\u001b[39m\n",
       "\u001b[90m│  \u001b[39m %10 = invoke Base.Math.pow_body(b::Float64, 4::Int64)\u001b[36m::Float64\u001b[39m\n",
       "\u001b[90m│  \u001b[39m %11 = Base.mul_float(121.0, %10)\u001b[36m::Float64\u001b[39m\n",
       "\u001b[90m│  \u001b[39m %12 = Base.sub_float(%9, %11)\u001b[36m::Float64\u001b[39m\n",
       "\u001b[90m│  \u001b[39m %13 = Base.sub_float(%12, 2.0)\u001b[36m::Float64\u001b[39m\n",
       "\u001b[90m│  \u001b[39m %14 = Base.mul_float(%3, %13)\u001b[36m::Float64\u001b[39m\n",
       "\u001b[90m│  \u001b[39m %15 = invoke Base.Math.pow_body(b::Float64, 8::Int64)\u001b[36m::Float64\u001b[39m\n",
       "\u001b[90m│  \u001b[39m %16 = Base.mul_float(5.5, %15)\u001b[36m::Float64\u001b[39m\n",
       "\u001b[90m│  \u001b[39m %17 = Base.add_float(%2, %14)\u001b[36m::Float64\u001b[39m\n",
       "\u001b[90m│  \u001b[39m %18 = Base.add_float(%17, %16)\u001b[36m::Float64\u001b[39m\n",
       "\u001b[90m└──\u001b[39m       return %18\n",
       ") => Float64"
      ]
     },
     "execution_count": 7,
     "metadata": {},
     "output_type": "execute_result"
    }
   ],
   "source": [
    "@code_typed mrump(77617.0, 33096.0)"
   ]
  },
  {
   "cell_type": "code",
   "execution_count": 8,
   "id": "c6989172-336a-4872-9bfe-b4f995bb4967",
   "metadata": {},
   "outputs": [
    {
     "data": {
      "text/plain": [
       "CodeInfo(\n",
       "\u001b[90m1 ─\u001b[39m %1  = invoke Base.MPFR.:^(b::BigFloat, 6::Int32)\u001b[36m::BigFloat\u001b[39m\n",
       "\u001b[90m│  \u001b[39m %2  = invoke Base.MPFR.:*(%1::BigFloat, 333.75::Float64)\u001b[36m::BigFloat\u001b[39m\n",
       "\u001b[90m│  \u001b[39m %3  = invoke Base.MPFR.:^(a::BigFloat, 2::Int32)\u001b[36m::BigFloat\u001b[39m\n",
       "\u001b[90m│  \u001b[39m %4  = invoke Base.MPFR.:^(a::BigFloat, 2::Int32)\u001b[36m::BigFloat\u001b[39m\n",
       "\u001b[90m│  \u001b[39m %5  = Base.MPFR.DEFAULT_PRECISION\u001b[36m::Base.RefValue{Int32}\u001b[39m\n",
       "\u001b[90m│  \u001b[39m %6  = Base.getfield(%5, :x)\u001b[36m::Int32\u001b[39m\n",
       "\u001b[90m│  \u001b[39m %7  = Base.GMP.MPZ.set_si\u001b[36m::typeof(Base.GMP.MPZ.set_si)\u001b[39m\n",
       "\u001b[90m│  \u001b[39m %8  = invoke %7(11::Int32)\u001b[36m::BigInt\u001b[39m\n",
       "\u001b[90m│  \u001b[39m %9  = Base.MPFR.ROUNDING_MODE\u001b[36m::Base.RefValue{Base.MPFR.MPFRRoundingMode}\u001b[39m\n",
       "\u001b[90m│  \u001b[39m %10 = Base.getfield(%9, :x)\u001b[36m::Base.MPFR.MPFRRoundingMode\u001b[39m\n",
       "\u001b[90m│  \u001b[39m %11 = Base.MPFR.BigFloat\u001b[36m::Type{BigFloat}\u001b[39m\n",
       "\u001b[90m│  \u001b[39m %12 = invoke Base.MPFR.:(var\"#BigFloat#7\")(%6::Int32, %11::Type{BigFloat}, %8::BigInt, %10::Base.MPFR.MPFRRoundingMode)\u001b[36m::BigFloat\u001b[39m\n",
       "\u001b[90m│  \u001b[39m %13 = invoke Base.:*(%12::BigFloat, %4::BigFloat)\u001b[36m::BigFloat\u001b[39m\n",
       "\u001b[90m│  \u001b[39m %14 = invoke Base.MPFR.:^(b::BigFloat, 2::Int32)\u001b[36m::BigFloat\u001b[39m\n",
       "\u001b[90m│  \u001b[39m %15 = invoke Main.:*(%13::BigFloat, %14::BigFloat)\u001b[36m::BigFloat\u001b[39m\n",
       "\u001b[90m│  \u001b[39m %16 = invoke Base.MPFR.:^(b::BigFloat, 6::Int32)\u001b[36m::BigFloat\u001b[39m\n",
       "\u001b[90m│  \u001b[39m %17 = invoke Main.:-(%15::BigFloat, %16::BigFloat)\u001b[36m::BigFloat\u001b[39m\n",
       "\u001b[90m│  \u001b[39m %18 = invoke Base.MPFR.:^(b::BigFloat, 4::Int32)\u001b[36m::BigFloat\u001b[39m\n",
       "\u001b[90m│  \u001b[39m %19 = Base.MPFR.DEFAULT_PRECISION\u001b[36m::Base.RefValue{Int32}\u001b[39m\n",
       "\u001b[90m│  \u001b[39m %20 = Base.getfield(%19, :x)\u001b[36m::Int32\u001b[39m\n",
       "\u001b[90m│  \u001b[39m %21 = Base.GMP.MPZ.set_si\u001b[36m::typeof(Base.GMP.MPZ.set_si)\u001b[39m\n",
       "\u001b[90m│  \u001b[39m %22 = invoke %21(121::Int32)\u001b[36m::BigInt\u001b[39m\n",
       "\u001b[90m│  \u001b[39m %23 = Base.MPFR.ROUNDING_MODE\u001b[36m::Base.RefValue{Base.MPFR.MPFRRoundingMode}\u001b[39m\n",
       "\u001b[90m│  \u001b[39m %24 = Base.getfield(%23, :x)\u001b[36m::Base.MPFR.MPFRRoundingMode\u001b[39m\n",
       "\u001b[90m│  \u001b[39m %25 = Base.MPFR.BigFloat\u001b[36m::Type{BigFloat}\u001b[39m\n",
       "\u001b[90m│  \u001b[39m %26 = invoke Base.MPFR.:(var\"#BigFloat#7\")(%20::Int32, %25::Type{BigFloat}, %22::BigInt, %24::Base.MPFR.MPFRRoundingMode)\u001b[36m::BigFloat\u001b[39m\n",
       "\u001b[90m│  \u001b[39m %27 = invoke Base.:*(%26::BigFloat, %18::BigFloat)\u001b[36m::BigFloat\u001b[39m\n",
       "\u001b[90m│  \u001b[39m %28 = invoke Main.:-(%17::BigFloat, %27::BigFloat)\u001b[36m::BigFloat\u001b[39m\n",
       "\u001b[90m│  \u001b[39m %29 = Base.MPFR.DEFAULT_PRECISION\u001b[36m::Base.RefValue{Int32}\u001b[39m\n",
       "\u001b[90m│  \u001b[39m %30 = Base.getfield(%29, :x)\u001b[36m::Int32\u001b[39m\n",
       "\u001b[90m│  \u001b[39m %31 = Base.GMP.MPZ.set_si\u001b[36m::typeof(Base.GMP.MPZ.set_si)\u001b[39m\n",
       "\u001b[90m│  \u001b[39m %32 = invoke %31(2::Int32)\u001b[36m::BigInt\u001b[39m\n",
       "\u001b[90m│  \u001b[39m %33 = Base.MPFR.ROUNDING_MODE\u001b[36m::Base.RefValue{Base.MPFR.MPFRRoundingMode}\u001b[39m\n",
       "\u001b[90m│  \u001b[39m %34 = Base.getfield(%33, :x)\u001b[36m::Base.MPFR.MPFRRoundingMode\u001b[39m\n",
       "\u001b[90m│  \u001b[39m %35 = Base.MPFR.BigFloat\u001b[36m::Type{BigFloat}\u001b[39m\n",
       "\u001b[90m│  \u001b[39m %36 = invoke Base.MPFR.:(var\"#BigFloat#7\")(%30::Int32, %35::Type{BigFloat}, %32::BigInt, %34::Base.MPFR.MPFRRoundingMode)\u001b[36m::BigFloat\u001b[39m\n",
       "\u001b[90m│  \u001b[39m %37 = invoke Base.:-(%28::BigFloat, %36::BigFloat)\u001b[36m::BigFloat\u001b[39m\n",
       "\u001b[90m│  \u001b[39m %38 = invoke Main.:*(%3::BigFloat, %37::BigFloat)\u001b[36m::BigFloat\u001b[39m\n",
       "\u001b[90m│  \u001b[39m %39 = invoke Base.MPFR.:^(b::BigFloat, 8::Int32)\u001b[36m::BigFloat\u001b[39m\n",
       "\u001b[90m│  \u001b[39m %40 = invoke Base.MPFR.:*(%39::BigFloat, 5.5::Float64)\u001b[36m::BigFloat\u001b[39m\n",
       "\u001b[90m│  \u001b[39m %41 = invoke Main.:+(%2::BigFloat, %38::BigFloat, %40::BigFloat)\u001b[36m::BigFloat\u001b[39m\n",
       "\u001b[90m└──\u001b[39m       return %41\n",
       ") => BigFloat"
      ]
     },
     "execution_count": 8,
     "metadata": {},
     "output_type": "execute_result"
    }
   ],
   "source": [
    "@code_typed mrump(big\"77617.0\", big\"33096.0\")"
   ]
  },
  {
   "cell_type": "code",
   "execution_count": 9,
   "id": "0e84a404-3f23-402f-9987-a97d7e5890fe",
   "metadata": {},
   "outputs": [
    {
     "data": {
      "text/plain": [
       "CodeInfo(\n",
       "\u001b[90m1 ──\u001b[39m %1  = invoke Base.power_by_squaring(b::Int128, 6::Int64)\u001b[36m::Int128\u001b[39m\n",
       "\u001b[90m│   \u001b[39m %2  = invoke Base.divgcd(4::Int128, %1::Int128)\u001b[36m::Tuple{Int128, Int128}\u001b[39m\n",
       "\u001b[90m│   \u001b[39m %3  = Base.getfield(%2, 1)\u001b[36m::Int128\u001b[39m\n",
       "\u001b[90m│   \u001b[39m %4  = Base.getfield(%2, 2)\u001b[36m::Int128\u001b[39m\n",
       "\u001b[90m│   \u001b[39m %5  = invoke Base.Checked.mul_with_overflow(1335::Int128, %4::Int128)\u001b[36m::Tuple{Int128, Bool}\u001b[39m\n",
       "\u001b[90m│   \u001b[39m %6  = Base.getfield(%5, 1)\u001b[36m::Int128\u001b[39m\n",
       "\u001b[90m│   \u001b[39m %7  = Base.getfield(%5, 2)\u001b[36m::Bool\u001b[39m\n",
       "\u001b[90m└───\u001b[39m       goto #3 if not %7\n",
       "\u001b[90m2 ──\u001b[39m       invoke Base.Checked.throw_overflowerr_binaryop(:*::Symbol, 1335::Int128, %4::Int128)\u001b[90m::Union{}\u001b[39m\n",
       "\u001b[90m└───\u001b[39m       unreachable\n",
       "\u001b[90m3 ──\u001b[39m       goto #4\n",
       "\u001b[90m4 ──\u001b[39m       goto #5\n",
       "\u001b[90m5 ──\u001b[39m       goto #6\n",
       "\u001b[90m6 ──\u001b[39m %14 = invoke Base.power_by_squaring(a::Int128, 2::Int64)\u001b[36m::Int128\u001b[39m\n",
       "\u001b[90m│   \u001b[39m %15 = invoke Base.power_by_squaring(a::Int128, 2::Int64)\u001b[36m::Int128\u001b[39m\n",
       "\u001b[90m│   \u001b[39m %16 = Base.mul_int(11, %15)\u001b[36m::Int128\u001b[39m\n",
       "\u001b[90m│   \u001b[39m %17 = invoke Base.power_by_squaring(b::Int128, 2::Int64)\u001b[36m::Int128\u001b[39m\n",
       "\u001b[90m│   \u001b[39m %18 = Base.mul_int(%16, %17)\u001b[36m::Int128\u001b[39m\n",
       "\u001b[90m│   \u001b[39m %19 = invoke Base.power_by_squaring(b::Int128, 6::Int64)\u001b[36m::Int128\u001b[39m\n",
       "\u001b[90m│   \u001b[39m %20 = Base.sub_int(%18, %19)\u001b[36m::Int128\u001b[39m\n",
       "\u001b[90m│   \u001b[39m %21 = invoke Base.power_by_squaring(b::Int128, 4::Int64)\u001b[36m::Int128\u001b[39m\n",
       "\u001b[90m│   \u001b[39m %22 = Base.mul_int(121, %21)\u001b[36m::Int128\u001b[39m\n",
       "\u001b[90m│   \u001b[39m %23 = Base.sub_int(%20, %22)\u001b[36m::Int128\u001b[39m\n",
       "\u001b[90m│   \u001b[39m %24 = Base.sub_int(%23, 2)\u001b[36m::Int128\u001b[39m\n",
       "\u001b[90m│   \u001b[39m %25 = Base.mul_int(%14, %24)\u001b[36m::Int128\u001b[39m\n",
       "\u001b[90m│   \u001b[39m %26 = invoke Base.power_by_squaring(b::Int128, 8::Int64)\u001b[36m::Int128\u001b[39m\n",
       "\u001b[90m│   \u001b[39m %27 = invoke Base.divgcd(2::Int128, %26::Int128)\u001b[36m::Tuple{Int128, Int128}\u001b[39m\n",
       "\u001b[90m│   \u001b[39m %28 = Base.getfield(%27, 1)\u001b[36m::Int128\u001b[39m\n",
       "\u001b[90m│   \u001b[39m %29 = Base.getfield(%27, 2)\u001b[36m::Int128\u001b[39m\n",
       "\u001b[90m│   \u001b[39m %30 = invoke Base.Checked.mul_with_overflow(11::Int128, %29::Int128)\u001b[36m::Tuple{Int128, Bool}\u001b[39m\n",
       "\u001b[90m│   \u001b[39m %31 = Base.getfield(%30, 1)\u001b[36m::Int128\u001b[39m\n",
       "\u001b[90m│   \u001b[39m %32 = Base.getfield(%30, 2)\u001b[36m::Bool\u001b[39m\n",
       "\u001b[90m└───\u001b[39m       goto #8 if not %32\n",
       "\u001b[90m7 ──\u001b[39m       invoke Base.Checked.throw_overflowerr_binaryop(:*::Symbol, 11::Int128, %29::Int128)\u001b[90m::Union{}\u001b[39m\n",
       "\u001b[90m└───\u001b[39m       unreachable\n",
       "\u001b[90m8 ──\u001b[39m       goto #9\n",
       "\u001b[90m9 ──\u001b[39m       goto #10\n",
       "\u001b[90m10 ─\u001b[39m %38 = %new(Rational{Int128}, %31, %28)\u001b[36m::Rational{Int128}\u001b[39m\n",
       "\u001b[90m└───\u001b[39m       goto #11\n",
       "\u001b[90m11 ─\u001b[39m %40 = invoke Base.Checked.mul_with_overflow(%3::Int128, %25::Int128)\u001b[36m::Tuple{Int128, Bool}\u001b[39m\n",
       "\u001b[90m│   \u001b[39m %41 = Base.getfield(%40, 1)\u001b[36m::Int128\u001b[39m\n",
       "\u001b[90m│   \u001b[39m %42 = Base.getfield(%40, 2)\u001b[36m::Bool\u001b[39m\n",
       "\u001b[90m└───\u001b[39m       goto #13 if not %42\n",
       "\u001b[90m12 ─\u001b[39m       invoke Base.Checked.throw_overflowerr_binaryop(:*::Symbol, %3::Int128, %25::Int128)\u001b[90m::Union{}\u001b[39m\n",
       "\u001b[90m└───\u001b[39m       unreachable\n",
       "\u001b[90m13 ─\u001b[39m       goto #14\n",
       "\u001b[90m14 ─\u001b[39m %47 = Base.Checked.checked_sadd_int(%6, %41)\u001b[36m::Tuple{Int128, Bool}\u001b[39m\n",
       "\u001b[90m│   \u001b[39m %48 = Base.getfield(%47, 1)\u001b[36m::Int128\u001b[39m\n",
       "\u001b[90m│   \u001b[39m %49 = Base.getfield(%47, 2)\u001b[36m::Bool\u001b[39m\n",
       "\u001b[90m└───\u001b[39m       goto #16 if not %49\n",
       "\u001b[90m15 ─\u001b[39m       invoke Base.Checked.throw_overflowerr_binaryop(:+::Symbol, %6::Int128, %41::Int128)\u001b[90m::Union{}\u001b[39m\n",
       "\u001b[90m└───\u001b[39m       unreachable\n",
       "\u001b[90m16 ─\u001b[39m       goto #17\n",
       "\u001b[90m17 ─\u001b[39m %54 = %new(Rational{Int128}, %48, %3)\u001b[36m::Rational{Int128}\u001b[39m\n",
       "\u001b[90m└───\u001b[39m       goto #18\n",
       "\u001b[90m18 ─\u001b[39m %56 = invoke Base.:+(%54::Rational{Int128}, %38::Rational{Int128})\u001b[36m::Rational{Int128}\u001b[39m\n",
       "\u001b[90m└───\u001b[39m       goto #19\n",
       "\u001b[90m19 ─\u001b[39m       return %56\n",
       ") => Rational{Int128}"
      ]
     },
     "execution_count": 9,
     "metadata": {},
     "output_type": "execute_result"
    }
   ],
   "source": [
    "@code_typed mrump_rat(Int128(77617), Int128(33096))"
   ]
  },
  {
   "cell_type": "code",
   "execution_count": null,
   "id": "87899c72-619c-4604-960c-c956d506bf7b",
   "metadata": {},
   "outputs": [],
   "source": []
  }
 ],
 "metadata": {
  "jupytext": {
   "formats": "ipynb,jl:hydrogen"
  },
  "kernelspec": {
   "display_name": "Julia 1.8.2",
   "language": "julia",
   "name": "julia-1.8"
  },
  "language_info": {
   "file_extension": ".jl",
   "mimetype": "application/julia",
   "name": "julia",
   "version": "1.8.2"
  }
 },
 "nbformat": 4,
 "nbformat_minor": 5
}
