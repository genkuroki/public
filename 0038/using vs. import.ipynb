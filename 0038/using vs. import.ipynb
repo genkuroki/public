{
 "cells": [
  {
   "cell_type": "code",
   "execution_count": 1,
   "id": "bc521cc8-15ca-4d88-b9c2-10380be103bd",
   "metadata": {},
   "outputs": [
    {
     "data": {
      "text/plain": [
       "Main.Foo"
      ]
     },
     "execution_count": 1,
     "metadata": {},
     "output_type": "execute_result"
    }
   ],
   "source": [
    "module Foo\n",
    "f() = \"I am a method of Foo.f.\"\n",
    "g() = \"I am a method of Foo.g.\"\n",
    "end"
   ]
  },
  {
   "cell_type": "code",
   "execution_count": 2,
   "id": "c69b51fc-3efe-43d3-9e7f-d2b52155c78e",
   "metadata": {},
   "outputs": [
    {
     "data": {
      "text/plain": [
       "\"I am a method of Foo.f.\""
      ]
     },
     "execution_count": 2,
     "metadata": {},
     "output_type": "execute_result"
    }
   ],
   "source": [
    "using .Foo: f\n",
    "f()"
   ]
  },
  {
   "cell_type": "code",
   "execution_count": 3,
   "id": "640cc333-9bbc-42ab-a184-800cd67e25eb",
   "metadata": {},
   "outputs": [
    {
     "data": {
      "text/plain": [
       "\"I am a new method of Foo.f.\""
      ]
     },
     "execution_count": 3,
     "metadata": {},
     "output_type": "execute_result"
    }
   ],
   "source": [
    "Foo.f(x) = \"I am a new method of Foo.f.\"\n",
    "f(0)"
   ]
  },
  {
   "cell_type": "code",
   "execution_count": 4,
   "id": "a86803e9-e20f-4e75-a0b7-70f8924398ea",
   "metadata": {},
   "outputs": [
    {
     "data": {
      "text/plain": [
       "\"I am a method of Foo.g.\""
      ]
     },
     "execution_count": 4,
     "metadata": {},
     "output_type": "execute_result"
    }
   ],
   "source": [
    "using .Foo: g\n",
    "g()"
   ]
  },
  {
   "cell_type": "code",
   "execution_count": 5,
   "id": "771eae16-fb05-4aa3-bd3e-6e49fd623c9b",
   "metadata": {},
   "outputs": [
    {
     "ename": "LoadError",
     "evalue": "error in method definition: function Foo.g must be explicitly imported to be extended",
     "output_type": "error",
     "traceback": [
      "error in method definition: function Foo.g must be explicitly imported to be extended",
      "",
      "Stacktrace:",
      " [1] top-level scope",
      "   @ none:0",
      " [2] top-level scope",
      "   @ In[5]:1",
      " [3] eval",
      "   @ .\\boot.jl:368 [inlined]",
      " [4] include_string(mapexpr::typeof(REPL.softscope), mod::Module, code::String, filename::String)",
      "   @ Base .\\loading.jl:1428"
     ]
    }
   ],
   "source": [
    "g(x) = \"I am a new method of Foo.g\""
   ]
  },
  {
   "cell_type": "code",
   "execution_count": 6,
   "id": "9864c740-b8bb-414f-b691-58305168d3a5",
   "metadata": {},
   "outputs": [
    {
     "data": {
      "text/plain": [
       "\"I am a new method of Foo.g\""
      ]
     },
     "execution_count": 6,
     "metadata": {},
     "output_type": "execute_result"
    }
   ],
   "source": [
    "import .Foo: g\n",
    "g(x) = \"I am a new method of Foo.g\"\n",
    "g(0)"
   ]
  },
  {
   "cell_type": "code",
   "execution_count": 7,
   "id": "efdc336d-d0df-44e0-bc37-f37071842e67",
   "metadata": {},
   "outputs": [
    {
     "data": {
      "text/plain": [
       "\"I am a new method of Foo.g\""
      ]
     },
     "execution_count": 7,
     "metadata": {},
     "output_type": "execute_result"
    }
   ],
   "source": [
    "Foo.g(0)"
   ]
  },
  {
   "cell_type": "code",
   "execution_count": null,
   "id": "43e85057-2019-4871-ae04-d8b63ddec0c2",
   "metadata": {},
   "outputs": [],
   "source": []
  }
 ],
 "metadata": {
  "kernelspec": {
   "display_name": "Julia 1.8.2",
   "language": "julia",
   "name": "julia-1.8"
  },
  "language_info": {
   "file_extension": ".jl",
   "mimetype": "application/julia",
   "name": "julia",
   "version": "1.8.2"
  }
 },
 "nbformat": 4,
 "nbformat_minor": 5
}
