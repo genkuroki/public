{
 "cells": [
  {
   "cell_type": "code",
   "execution_count": 1,
   "id": "c8a4b84e-daa2-48e3-9606-108c280686b5",
   "metadata": {},
   "outputs": [
    {
     "name": "stdout",
     "output_type": "stream",
     "text": [
      "\u001b[36m\u001b[1mProject\u001b[22m\u001b[39m MyPkg v0.1.0\n",
      "\u001b[32m\u001b[1mStatus\u001b[22m\u001b[39m `D:\\OneDrive\\public\\0038\\subdir\\MyPkg\\Project.toml` (empty project)\n"
     ]
    }
   ],
   "source": [
    "]st"
   ]
  },
  {
   "cell_type": "code",
   "execution_count": 2,
   "id": "b73e06d5-9db4-4ff3-b967-948472593950",
   "metadata": {},
   "outputs": [],
   "source": [
    "using Revise"
   ]
  },
  {
   "cell_type": "code",
   "execution_count": 3,
   "id": "7337f596-7c1b-43ea-b565-3c627949d554",
   "metadata": {},
   "outputs": [
    {
     "name": "stdout",
     "output_type": "stream",
     "text": [
      ".:\n",
      "total 5\n",
      "-rw-r--r-- 1 genkuroki genkuroki 2678 Sep 26 18:17 MyPkg.ipynb\n",
      "-rw-r--r-- 1 genkuroki genkuroki  126 Sep 26 18:14 Project.toml\n",
      "drwxr-xr-x 1 genkuroki genkuroki    0 Sep 26 18:14 src\n",
      "\n",
      "./src:\n",
      "total 1\n",
      "-rw-r--r-- 1 genkuroki genkuroki 66 Sep 26 18:14 MyPkg.jl\n"
     ]
    }
   ],
   "source": [
    ";ls -lR"
   ]
  },
  {
   "cell_type": "code",
   "execution_count": 4,
   "id": "5675d926-84f5-4b60-8893-bf3c7ebdf9f8",
   "metadata": {},
   "outputs": [
    {
     "name": "stdout",
     "output_type": "stream",
     "text": [
      "module MyPkg\n",
      "\n",
      "greet() = print(\"Hello World!\")\n",
      "\n",
      "end # module MyPkg\n"
     ]
    }
   ],
   "source": [
    ";cat src/MyPkg.jl"
   ]
  },
  {
   "cell_type": "code",
   "execution_count": 5,
   "id": "e95c7944-b564-4b08-a66b-6a921b61f1b0",
   "metadata": {},
   "outputs": [],
   "source": [
    "includet(\"src/MyPkg.jl\")"
   ]
  },
  {
   "cell_type": "code",
   "execution_count": 6,
   "id": "c98640d4-acb1-41a9-a788-790be8298424",
   "metadata": {},
   "outputs": [
    {
     "name": "stdout",
     "output_type": "stream",
     "text": [
      "Hello World!"
     ]
    }
   ],
   "source": [
    "MyPkg.greet()"
   ]
  },
  {
   "cell_type": "code",
   "execution_count": 7,
   "id": "4b4bed0c-a864-420f-a994-2e5cad20a377",
   "metadata": {},
   "outputs": [
    {
     "name": "stdout",
     "output_type": "stream",
     "text": [
      "module MyPkg\n",
      "\n",
      "greet() = print(\"Hello MyPkg!\")\n",
      "\n",
      "end # module MyPkg\n"
     ]
    }
   ],
   "source": [
    ";cat src/MyPkg.jl"
   ]
  },
  {
   "cell_type": "code",
   "execution_count": 8,
   "id": "24d6ccc1-164c-437b-97c5-d19ffbb1a46d",
   "metadata": {},
   "outputs": [
    {
     "name": "stdout",
     "output_type": "stream",
     "text": [
      "Hello MyPkg!"
     ]
    }
   ],
   "source": [
    "MyPkg.greet()"
   ]
  },
  {
   "cell_type": "code",
   "execution_count": null,
   "id": "7058deda-d41a-48a6-831d-de12b0e59306",
   "metadata": {},
   "outputs": [],
   "source": []
  }
 ],
 "metadata": {
  "kernelspec": {
   "display_name": "Julia 1.8.1",
   "language": "julia",
   "name": "julia-1.8"
  },
  "language_info": {
   "file_extension": ".jl",
   "mimetype": "application/julia",
   "name": "julia",
   "version": "1.8.1"
  }
 },
 "nbformat": 4,
 "nbformat_minor": 5
}
