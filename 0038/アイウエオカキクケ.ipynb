{
 "cells": [
  {
   "cell_type": "code",
   "execution_count": 1,
   "id": "8ace8928-669d-453d-999c-257916a6dc91",
   "metadata": {},
   "outputs": [
    {
     "name": "stdout",
     "output_type": "stream",
     "text": [
      "  0.060973 seconds (1.09 M allocations: 99.675 MiB, 25.79% gc time)\n",
      "  0.041972 seconds (1.09 M allocations: 99.675 MiB, 13.70% gc time)\n"
     ]
    },
    {
     "data": {
      "text/plain": [
       "7-element Vector{String}:\n",
       " \"12 × 483 = 5796\"\n",
       " \"18 × 297 = 5346\"\n",
       " \"27 × 198 = 5346\"\n",
       " \"28 × 157 = 4396\"\n",
       " \"39 × 186 = 7254\"\n",
       " \"42 × 138 = 5796\"\n",
       " \"48 × 159 = 7632\""
      ]
     },
     "execution_count": 1,
     "metadata": {},
     "output_type": "execute_result"
    }
   ],
   "source": [
    "using Combinatorics\n",
    "\n",
    "f() = [\"$ア$イ × $ウ$エ$オ = $カ$キ$ク$ケ\"\n",
    "    for (ア,イ,ウ,エ,オ,カ,キ,ク,ケ) in permutations(1:9)\n",
    "        if (10ア+イ) * (100ウ+10エ+オ) == 1000カ+100キ+10ク+ケ]\n",
    "\n",
    "@time f()\n",
    "@time f()"
   ]
  },
  {
   "cell_type": "code",
   "execution_count": 2,
   "id": "f5fb634b-7769-4160-bd43-755b724bfd57",
   "metadata": {},
   "outputs": [
    {
     "name": "stdout",
     "output_type": "stream",
     "text": [
      "  0.536150 seconds (648.93 k allocations: 31.691 MiB, 1.27% gc time, 54.40% compilation time)\n",
      "  0.241022 seconds (151.35 k allocations: 7.102 MiB)\n"
     ]
    },
    {
     "data": {
      "text/plain": [
       "7206-element Vector{String}:\n",
       " \"17 × 183 = 3111\"\n",
       " \"19 × 269 = 5111\"\n",
       " \"21 × 291 = 6111\"\n",
       " \"13 × 547 = 7111\"\n",
       " \"13 × 247 = 3211\"\n",
       " \"19 × 169 = 3211\"\n",
       " \"27 × 193 = 5211\"\n",
       " \"51 × 161 = 8211\"\n",
       " \"21 × 391 = 8211\"\n",
       " \"17 × 483 = 8211\"\n",
       " \"23 × 357 = 8211\"\n",
       " \"69 × 119 = 8211\"\n",
       " \"61 × 151 = 9211\"\n",
       " ⋮\n",
       " \"53 × 183 = 9699\"\n",
       " \"61 × 159 = 9699\"\n",
       " \"29 × 131 = 3799\"\n",
       " \"13 × 523 = 6799\"\n",
       " \"21 × 419 = 8799\"\n",
       " \"41 × 239 = 9799\"\n",
       " \"13 × 223 = 2899\"\n",
       " \"23 × 213 = 4899\"\n",
       " \"17 × 347 = 5899\"\n",
       " \"19 × 521 = 9899\"\n",
       " \"31 × 129 = 3999\"\n",
       " \"19 × 421 = 7999\""
      ]
     },
     "execution_count": 2,
     "metadata": {},
     "output_type": "execute_result"
    }
   ],
   "source": [
    "g() = [\"$ア$イ × $ウ$エ$オ = $カ$キ$ク$ケ\"\n",
    "    for (ア,イ,ウ,エ,オ,カ,キ,ク,ケ) in Iterators.product(fill(1:9, 9)...)\n",
    "        if (10ア+イ) * (100ウ+10エ+オ) == 1000カ+100キ+10ク+ケ]\n",
    "\n",
    "@time g()\n",
    "@time g()"
   ]
  },
  {
   "cell_type": "code",
   "execution_count": null,
   "id": "187c5954-842c-437e-950e-112de7101877",
   "metadata": {},
   "outputs": [],
   "source": []
  }
 ],
 "metadata": {
  "kernelspec": {
   "display_name": "Julia 1.8.2",
   "language": "julia",
   "name": "julia-1.8"
  },
  "language_info": {
   "file_extension": ".jl",
   "mimetype": "application/julia",
   "name": "julia",
   "version": "1.8.2"
  }
 },
 "nbformat": 4,
 "nbformat_minor": 5
}
