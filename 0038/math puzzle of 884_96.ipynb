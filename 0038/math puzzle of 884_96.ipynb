{
 "cells": [
  {
   "cell_type": "markdown",
   "id": "62c765b6-27e6-4164-a445-31b402c6a7d4",
   "metadata": {},
   "source": [
    "* https://twitter.com/884_96/status/1582718783344386054\n",
    "* https://twitter.com/dannchu/status/1584026377787146241"
   ]
  },
  {
   "cell_type": "code",
   "execution_count": 1,
   "id": "d8b2967f-2aaa-4e83-8da2-f7be832d8c20",
   "metadata": {},
   "outputs": [
    {
     "data": {
      "text/plain": [
       "7-element Vector{String}:\n",
       " \"12 × 483 = 5796\"\n",
       " \"18 × 297 = 5346\"\n",
       " \"27 × 198 = 5346\"\n",
       " \"28 × 157 = 4396\"\n",
       " \"39 × 186 = 7254\"\n",
       " \"42 × 138 = 5796\"\n",
       " \"48 × 159 = 7632\""
      ]
     },
     "execution_count": 1,
     "metadata": {},
     "output_type": "execute_result"
    }
   ],
   "source": [
    "using Combinatorics\n",
    "[\"$ア$イ × $ウ$エ$オ = $カ$キ$ク$ケ\"\n",
    "    for (ア,イ,ウ,エ,オ,カ,キ,ク,ケ) in permutations(1:9)\n",
    "        if (10ア+イ) * (100ウ+10エ+オ) == 1000カ+100キ+10ク+ケ]"
   ]
  },
  {
   "cell_type": "code",
   "execution_count": null,
   "id": "581e0192-7b65-4ed0-8088-4776bcc0c784",
   "metadata": {},
   "outputs": [],
   "source": []
  }
 ],
 "metadata": {
  "jupytext": {
   "formats": "ipynb,jl:hydrogen"
  },
  "kernelspec": {
   "display_name": "Julia 1.8.2",
   "language": "julia",
   "name": "julia-1.8"
  },
  "language_info": {
   "file_extension": ".jl",
   "mimetype": "application/julia",
   "name": "julia",
   "version": "1.8.2"
  }
 },
 "nbformat": 4,
 "nbformat_minor": 5
}
