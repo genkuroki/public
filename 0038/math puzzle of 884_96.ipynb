{
 "cells": [
  {
   "cell_type": "markdown",
   "id": "62c765b6-27e6-4164-a445-31b402c6a7d4",
   "metadata": {},
   "source": [
    "* https://twitter.com/884_96/status/1582718783344386054\n",
    "* https://twitter.com/dannchu/status/1584026377787146241"
   ]
  },
  {
   "cell_type": "code",
   "execution_count": 1,
   "id": "d8b2967f-2aaa-4e83-8da2-f7be832d8c20",
   "metadata": {},
   "outputs": [
    {
     "name": "stdout",
     "output_type": "stream",
     "text": [
      "  0.191248 seconds (1.35 M allocations: 112.906 MiB, 5.45% gc time, 68.55% compilation time)\n"
     ]
    },
    {
     "data": {
      "text/plain": [
       "7-element Vector{String}:\n",
       " \"12 × 483 = 5796\"\n",
       " \"18 × 297 = 5346\"\n",
       " \"27 × 198 = 5346\"\n",
       " \"28 × 157 = 4396\"\n",
       " \"39 × 186 = 7254\"\n",
       " \"42 × 138 = 5796\"\n",
       " \"48 × 159 = 7632\""
      ]
     },
     "execution_count": 1,
     "metadata": {},
     "output_type": "execute_result"
    }
   ],
   "source": [
    "using Combinatorics\n",
    "@time sol1 = [\"$ア$イ × $ウ$エ$オ = $カ$キ$ク$ケ\"\n",
    "    for (ア,イ,ウ,エ,オ,カ,キ,ク,ケ) in permutations(1:9)\n",
    "        if (10ア+イ) * (100ウ+10エ+オ) == 1000カ+100キ+10ク+ケ]"
   ]
  },
  {
   "cell_type": "code",
   "execution_count": 2,
   "id": "581e0192-7b65-4ed0-8088-4776bcc0c784",
   "metadata": {},
   "outputs": [
    {
     "name": "stdout",
     "output_type": "stream",
     "text": [
      "  0.554741 seconds (659.00 k allocations: 32.218 MiB, 1.24% gc time, 53.73% compilation time)\n"
     ]
    },
    {
     "data": {
      "text/plain": [
       "7206-element Vector{String}:\n",
       " \"17 × 183 = 3111\"\n",
       " \"19 × 269 = 5111\"\n",
       " \"21 × 291 = 6111\"\n",
       " \"13 × 547 = 7111\"\n",
       " \"13 × 247 = 3211\"\n",
       " \"19 × 169 = 3211\"\n",
       " \"27 × 193 = 5211\"\n",
       " \"51 × 161 = 8211\"\n",
       " \"21 × 391 = 8211\"\n",
       " \"17 × 483 = 8211\"\n",
       " \"23 × 357 = 8211\"\n",
       " \"69 × 119 = 8211\"\n",
       " \"61 × 151 = 9211\"\n",
       " ⋮\n",
       " \"53 × 183 = 9699\"\n",
       " \"61 × 159 = 9699\"\n",
       " \"29 × 131 = 3799\"\n",
       " \"13 × 523 = 6799\"\n",
       " \"21 × 419 = 8799\"\n",
       " \"41 × 239 = 9799\"\n",
       " \"13 × 223 = 2899\"\n",
       " \"23 × 213 = 4899\"\n",
       " \"17 × 347 = 5899\"\n",
       " \"19 × 521 = 9899\"\n",
       " \"31 × 129 = 3999\"\n",
       " \"19 × 421 = 7999\""
      ]
     },
     "execution_count": 2,
     "metadata": {},
     "output_type": "execute_result"
    }
   ],
   "source": [
    "@time sol2 = [\"$ア$イ × $ウ$エ$オ = $カ$キ$ク$ケ\"\n",
    "    for (ア,イ,ウ,エ,オ,カ,キ,ク,ケ) in Iterators.product(fill(1:9, 9)...)\n",
    "        if (10ア+イ) * (100ウ+10エ+オ) == 1000カ+100キ+10ク+ケ]"
   ]
  },
  {
   "cell_type": "code",
   "execution_count": null,
   "id": "ec122d6b-434f-4a4b-aefd-5f64d3fd2ca8",
   "metadata": {},
   "outputs": [],
   "source": []
  }
 ],
 "metadata": {
  "jupytext": {
   "formats": "ipynb,jl:hydrogen"
  },
  "kernelspec": {
   "display_name": "Julia 1.8.2",
   "language": "julia",
   "name": "julia-1.8"
  },
  "language_info": {
   "file_extension": ".jl",
   "mimetype": "application/julia",
   "name": "julia",
   "version": "1.8.2"
  }
 },
 "nbformat": 4,
 "nbformat_minor": 5
}
