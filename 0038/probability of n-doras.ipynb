{
 "cells": [
  {
   "cell_type": "code",
   "execution_count": 1,
   "id": "1308255b-d67e-4582-980f-f4330373fc84",
   "metadata": {},
   "outputs": [],
   "source": [
    "using Distributions"
   ]
  },
  {
   "cell_type": "code",
   "execution_count": 2,
   "id": "6b5e4b5d-e088-42c8-91b1-54a3d750bfa3",
   "metadata": {},
   "outputs": [
    {
     "data": {
      "text/plain": [
       "5-element Vector{Tuple{Int64, Float64}}:\n",
       " (0, 0.6658899223475724)\n",
       " (1, 0.2885522996839479)\n",
       " (2, 0.04292513549017409)\n",
       " (3, 0.0025801994010487155)\n",
       " (4, 5.244307725708776e-5)"
      ]
     },
     "execution_count": 2,
     "metadata": {},
     "output_type": "execute_result"
    }
   ],
   "source": [
    "hg = Hypergeometric(4, 136-4, 13)\n",
    "[(k, pdf(hg, k)) for k in 0:4]"
   ]
  },
  {
   "cell_type": "code",
   "execution_count": 3,
   "id": "81384296-360f-4557-bb22-2ec6274f78f6",
   "metadata": {},
   "outputs": [
    {
     "data": {
      "text/plain": [
       "5-element Vector{Tuple{Int64, Float64}}:\n",
       " (0, 1.0)\n",
       " (1, 0.3341100776524276)\n",
       " (2, 0.0455577779684799)\n",
       " (3, 0.002632642478305803)\n",
       " (4, 5.244307725708776e-5)"
      ]
     },
     "execution_count": 3,
     "metadata": {},
     "output_type": "execute_result"
    }
   ],
   "source": [
    "hg = Hypergeometric(4, 136-4, 13)\n",
    "[(k, ccdf(hg, k-1)) for k in 0:4]"
   ]
  },
  {
   "cell_type": "code",
   "execution_count": 4,
   "id": "1b52f557-d0a2-49cb-9809-10d6d566dccf",
   "metadata": {},
   "outputs": [
    {
     "data": {
      "text/plain": [
       "5-element Vector{Tuple{Int64, Float64}}:\n",
       " (0, 0.644234965523261)\n",
       " (1, 0.30316939554035793)\n",
       " (2, 0.04926502677530819)\n",
       " (3, 0.003257191852912935)\n",
       " (4, 7.342030815992278e-5)"
      ]
     },
     "execution_count": 4,
     "metadata": {},
     "output_type": "execute_result"
    }
   ],
   "source": [
    "hg = Hypergeometric(4, 136-4, 14)\n",
    "[(k, pdf(hg, k)) for k in 0:4]"
   ]
  },
  {
   "cell_type": "code",
   "execution_count": 5,
   "id": "7bcb91da-c0c2-4c74-a6d2-58ac895a5d77",
   "metadata": {},
   "outputs": [
    {
     "data": {
      "text/plain": [
       "5-element Vector{Tuple{Int64, Float64}}:\n",
       " (0, 1.0)\n",
       " (1, 0.355765034476739)\n",
       " (2, 0.052595638936381056)\n",
       " (3, 0.0033306121610728575)\n",
       " (4, 7.342030815992278e-5)"
      ]
     },
     "execution_count": 5,
     "metadata": {},
     "output_type": "execute_result"
    }
   ],
   "source": [
    "hg = Hypergeometric(4, 136-4, 14)\n",
    "[(k, ccdf(hg, k-1)) for k in 0:4]"
   ]
  },
  {
   "cell_type": "code",
   "execution_count": 6,
   "id": "fddb5c46-904c-49d8-932d-d5105e9e2934",
   "metadata": {},
   "outputs": [
    {
     "data": {
      "text/plain": [
       "8-element Vector{Tuple{Int64, Float64}}:\n",
       " (0, 0.4866634085498582)\n",
       " (1, 0.3785159844276675)\n",
       " (2, 0.11547945287623762)\n",
       " (3, 0.01779095212379007)\n",
       " (4, 0.0014825793436491772)\n",
       " (5, 6.616469798103759e-5)\n",
       " (6, 1.4462229066893428e-6)\n",
       " (7, 1.1757909810482512e-8)"
      ]
     },
     "execution_count": 6,
     "metadata": {},
     "output_type": "execute_result"
    }
   ],
   "source": [
    "hg = Hypergeometric(7, 136-7, 13)\n",
    "[(k, pdf(hg, k)) for k in 0:7]"
   ]
  },
  {
   "cell_type": "code",
   "execution_count": 7,
   "id": "2823f1b7-bf08-4454-aa8f-0da07fb81e97",
   "metadata": {},
   "outputs": [
    {
     "data": {
      "text/plain": [
       "8-element Vector{Tuple{Int64, Float64}}:\n",
       " (0, 1.0)\n",
       " (1, 0.5133365914501418)\n",
       " (2, 0.13482060702247445)\n",
       " (3, 0.019341154146236782)\n",
       " (4, 0.0015502020224467147)\n",
       " (5, 6.762267879753741e-5)\n",
       " (6, 1.4579808164998252e-6)\n",
       " (7, 1.1757909810482512e-8)"
      ]
     },
     "execution_count": 7,
     "metadata": {},
     "output_type": "execute_result"
    }
   ],
   "source": [
    "hg = Hypergeometric(7, 136-7, 13)\n",
    "[(k, ccdf(hg, k-1)) for k in 0:7]"
   ]
  },
  {
   "cell_type": "code",
   "execution_count": 8,
   "id": "5ba0476a-57ee-4073-9569-c50ac138ef01",
   "metadata": {},
   "outputs": [
    {
     "data": {
      "text/plain": [
       "8-element Vector{Tuple{Int64, Float64}}:\n",
       " (0, 0.4589671170063704)\n",
       " (1, 0.38774808160883)\n",
       " (2, 0.1292493605362767)\n",
       " (3, 0.021906671277335022)\n",
       " (4, 0.0020249864205939953)\n",
       " (5, 0.00010124932102969975)\n",
       " (6, 2.5103137445380144e-6)\n",
       " (7, 2.3515819620964988e-8)"
      ]
     },
     "execution_count": 8,
     "metadata": {},
     "output_type": "execute_result"
    }
   ],
   "source": [
    "hg = Hypergeometric(7, 136-7, 14)\n",
    "[(k, pdf(hg, k)) for k in 0:7]"
   ]
  },
  {
   "cell_type": "code",
   "execution_count": 9,
   "id": "36b960af-dedc-4cee-a3ed-a0f8c49e6175",
   "metadata": {},
   "outputs": [
    {
     "data": {
      "text/plain": [
       "8-element Vector{Tuple{Int64, Float64}}:\n",
       " (0, 1.0)\n",
       " (1, 0.5410328829936296)\n",
       " (2, 0.15328480138479958)\n",
       " (3, 0.024035440848522875)\n",
       " (4, 0.002128769571187854)\n",
       " (5, 0.00010378315059385873)\n",
       " (6, 2.5338295641589795e-6)\n",
       " (7, 2.3515819620964988e-8)"
      ]
     },
     "execution_count": 9,
     "metadata": {},
     "output_type": "execute_result"
    }
   ],
   "source": [
    "hg = Hypergeometric(7, 136-7, 14)\n",
    "[(k, ccdf(hg, k-1)) for k in 0:7]"
   ]
  },
  {
   "cell_type": "code",
   "execution_count": 10,
   "id": "7b1c1c5e-fb47-4ee0-93b7-3e913278852b",
   "metadata": {},
   "outputs": [
    {
     "data": {
      "text/plain": [
       "8-element Vector{Tuple{Int64, Float64}}:\n",
       " (0, 0.339819496630413)\n",
       " (1, 0.4071711085751793)\n",
       " (2, 0.19631464163446147)\n",
       " (3, 0.04922343521808023)\n",
       " (4, 0.0069085523113095225)\n",
       " (5, 0.000540669311319875)\n",
       " (6, 2.175106424850072e-5)\n",
       " (7, 3.452549880714397e-7)"
      ]
     },
     "execution_count": 10,
     "metadata": {},
     "output_type": "execute_result"
    }
   ],
   "source": [
    "hg = Hypergeometric(7, 136-7, 19)\n",
    "[(k, pdf(hg, k)) for k in 0:7]"
   ]
  },
  {
   "cell_type": "code",
   "execution_count": 11,
   "id": "1498872e-4f81-4bdd-b7df-b45e78d09e09",
   "metadata": {},
   "outputs": [
    {
     "data": {
      "text/plain": [
       "8-element Vector{Tuple{Int64, Float64}}:\n",
       " (0, 1.0)\n",
       " (1, 0.660180503369587)\n",
       " (2, 0.25300939479440776)\n",
       " (3, 0.05669475315994618)\n",
       " (4, 0.0074713179418659705)\n",
       " (5, 0.0005627656305564471)\n",
       " (6, 2.209631923657216e-5)\n",
       " (7, 3.452549880714397e-7)"
      ]
     },
     "execution_count": 11,
     "metadata": {},
     "output_type": "execute_result"
    }
   ],
   "source": [
    "hg = Hypergeometric(7, 136-7, 19)\n",
    "[(k, ccdf(hg, k-1)) for k in 0:7]"
   ]
  },
  {
   "cell_type": "code",
   "execution_count": 12,
   "id": "ac29051d-e9d2-4d5e-8ded-d4354674c9a2",
   "metadata": {},
   "outputs": [
    {
     "data": {
      "text/plain": [
       "8-element Vector{Tuple{Int64, Float64}}:\n",
       " (0, 1.0)\n",
       " (1, 0.6387504450235251)\n",
       " (2, 0.2323446956749907)\n",
       " (3, 0.04892263180972304)\n",
       " (4, 0.006016885876327117)\n",
       " (5, 0.0004204842328406917)\n",
       " (6, 1.5227562105466646e-5)\n",
       " (7, 2.1805578193985672e-7)"
      ]
     },
     "execution_count": 12,
     "metadata": {},
     "output_type": "execute_result"
    }
   ],
   "source": [
    "hg = Hypergeometric(7, 136-7, 18)\n",
    "[(k, ccdf(hg, k-1)) for k in 0:7]"
   ]
  },
  {
   "cell_type": "code",
   "execution_count": null,
   "id": "74c85f82-c364-43ee-8953-185f5b65e6e3",
   "metadata": {},
   "outputs": [],
   "source": []
  }
 ],
 "metadata": {
  "jupytext": {
   "formats": "ipynb,jl:hydrogen"
  },
  "kernelspec": {
   "display_name": "Julia 1.8.2",
   "language": "julia",
   "name": "julia-1.8"
  },
  "language_info": {
   "file_extension": ".jl",
   "mimetype": "application/julia",
   "name": "julia",
   "version": "1.8.1"
  }
 },
 "nbformat": 4,
 "nbformat_minor": 5
}
