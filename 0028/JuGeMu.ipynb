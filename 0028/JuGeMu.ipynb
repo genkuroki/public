{
 "cells": [
  {
   "cell_type": "markdown",
   "id": "899efbef-1a78-489e-a65d-d58df3b5a2b0",
   "metadata": {},
   "source": [
    "これはJuGeMを使っています。←この辺とか、←この辺とかに注目"
   ]
  },
  {
   "cell_type": "code",
   "execution_count": null,
   "id": "cab7528d-d427-49a2-a984-ac59d63a1f0d",
   "metadata": {},
   "outputs": [],
   "source": []
  }
 ],
 "metadata": {
  "kernelspec": {
   "display_name": "Julia 1.7.2",
   "language": "julia",
   "name": "julia-1.7"
  },
  "language_info": {
   "file_extension": ".jl",
   "mimetype": "application/julia",
   "name": "julia",
   "version": "1.7.2"
  }
 },
 "nbformat": 4,
 "nbformat_minor": 5
}
