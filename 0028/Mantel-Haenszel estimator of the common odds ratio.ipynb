{
 "cells": [
  {
   "cell_type": "markdown",
   "id": "a2d660c9-a8c2-400a-92d9-db9531a84c35",
   "metadata": {},
   "source": [
    "# 共通オッズ比のMantel-Haenszelの推定量と最尤推定量の関係\n",
    "\n",
    "* 黒木玄\n",
    "* 2022-03-29\n",
    "$\n",
    "\\newcommand\\op{\\operatorname}\n",
    "$\n",
    "\n",
    "## 文献紹介\n",
    "\n",
    "共通オッズ比のMantel-Haenszelの推定量と最尤推定量の関係については次の文献に書いてある:\n",
    "\n",
    "* Yanagimoto, Yakemi and Eiji Yamamoto, Eiji. Simple linear approximations to the likelihood equation for combining evidence in multiple 2×2 tables: A critique of conventional procedures. Ann. Inst. Statist. Math., Vol. 37, 1985, 37-49. \\[[link](https://link.springer.com/article/10.1007/BF02481079https://link.springer.com/article/10.1007/BF02481079)\\] \\[[pdf](https://www.ism.ac.jp/editsec/aism/pdf/037_1_0037.pdf)\\]\n",
    "\n",
    "この文献ではMantel-Haenszel以外の共通オッズ比の推定量も扱っている.  共通オッズ比のMantel-Haenszelの推定量の対数の分散のRobins-Breslow-Greenlandの推定量の解説が次の文献に書いてある:\n",
    "\n",
    "* Silcocks, Paul.  An easy approach to the Robins-Breslow-Greenland variance estimator. Epidemiol Perspect Innov. 2005. \\[[link](https://www.ncbi.nlm.nih.gov/pmc/articles/PMC1270683/https://www.ncbi.nlm.nih.gov/pmc/articles/PMC1270683/)\\] \\[[pdf](https://www.ncbi.nlm.nih.gov/pmc/articles/PMC1270683/pdf/1742-5573-2-9.pdfhttps://www.ncbi.nlm.nih.gov/pmc/articles/PMC1270683/pdf/1742-5573-2-9.pdf)\\]"
   ]
  },
  {
   "cell_type": "markdown",
   "id": "44fee188-5f0e-4167-89aa-76f963f77886",
   "metadata": {},
   "source": [
    "## 統計モデル\n",
    "\n",
    "簡単のため $K$ 個の独立な2×2の分割表の各々は2つの二項分布の積分布に従っているという統計モデルを考える.  $k$ 番目の分割表を行列\n",
    "\n",
    "$$\n",
    "A_k = \\begin{bmatrix}\n",
    "a_k & b_k \\\\\n",
    "c_k & d_k \\\\\n",
    "\\end{bmatrix}\n",
    "$$\n",
    "\n",
    "と書き, \n",
    "\n",
    "$$\n",
    "N_k = a_k + b_k + c_k + d_k\n",
    "$$\n",
    "\n",
    "とおく.  $a_k + b_k = m_k$ と $c_k + d_k = n_k$ は定数であり, $a_k$, $c_k$ はそれぞれ独立な二項分布 $\\op{Binomial}(m_k, p_k)$, $\\op{Binomial}(n_k, q_k)$ に従っているとする.  $k$ 番目のオッズ比 $\\omega_k$ を\n",
    "\n",
    "$$\n",
    "\\omega_k = \\frac{p_k(1 - q_k)}{(1 - p_k)q_k}\n",
    "$$\n",
    "\n",
    "と定める.  $0<p_k<1$ かつ $0<q_k<1$ のとき $\\omega_k = 1$ と $p_k = q_k$ は同値である.\n",
    "\n",
    "以下では $K$ が固定されており, $m_k$, $n_k$ 達が十分に大きい場合を扱う.\n",
    "\n",
    "このとき, $K$ 番目のオッズ比の推定量\n",
    "\n",
    "$$\n",
    "\\hat\\omega_k = \\frac{a_k d_k}{b_k c_k}\n",
    "$$\n",
    "\n",
    "は平均が $\\omega_k$ で分散が\n",
    "\n",
    "$$\n",
    "\\begin{aligned}\n",
    "v_k &= \\omega^2\\left(\n",
    "\\frac{1}{m_k p_k} +\n",
    "\\frac{1}{m_k (1 - p_k)} +\n",
    "\\frac{1}{n_k q_k} +\n",
    "\\frac{1}{n_k (1 - q_k)}\n",
    "\\right)\n",
    "\\\\ &= \\omega^2 \\left(\n",
    "\\frac{1}{m_k p_k (1 - p_k)} +\n",
    "\\frac{1}{n_k q_k (1 - q_k)}\n",
    "\\right)\n",
    "\\end{aligned}\n",
    "$$\n",
    "\n",
    "の正規分布に近似的に従うことを示せる. (二項分布に関する中心極限定理と所謂デルタ法=1次までのTaylor展開の簡単な応用で示せる.)\n",
    "\n",
    "以下では $\\omega_1 = \\cdots = \\omega_K = \\omega$ が成立していると仮定する.  $\\omega$ を __共通オッズ比__ と呼ぶ.\n",
    "\n",
    "この仮定のもとで以上で扱っている統計モデルの独立なパラメータは $q_1,\\ldots,q_K, \\omega$ の $K+1$ 個になる."
   ]
  },
  {
   "cell_type": "markdown",
   "id": "cde49a1f-ed88-49fe-88a8-657533d0a525",
   "metadata": {},
   "source": [
    "## 共通オッズ比のMantel-Haenszelの推定量\n",
    "\n",
    "共通オッズ比の __Mantel-Haenszelの推定量__ $\\hat\\omega_{\\op{MH}}$ を次のように定める:\n",
    "\n",
    "$$\n",
    "\\hat\\omega_{\\op{MH}} =\n",
    "\\frac\n",
    "{\\sum_{k=1}^K a_k d_k/N_k}\n",
    "{\\sum_{k=1}^K b_k c_k/N_k}.\n",
    "$$\n",
    "\n",
    "これは次のように書き直される:\n",
    "\n",
    "$$\n",
    "\\hat\\omega_{\\op{MH}} =\n",
    "\\frac\n",
    "{\\sum_{k=1}^K \\hat{w}_k \\hat\\omega_k}\n",
    "{\\sum_{k=1}^K \\hat{w}_k}.\n",
    "$$\n",
    "\n",
    "ここで\n",
    "\n",
    "$$\n",
    "\\hat\\omega_k = \\frac{a_k d_k}{b_k c_k}, \\quad\n",
    "\\hat{w}_k = \\frac{b_k c_k}{N_k}\n",
    "$$\n",
    "\n",
    "大数の法則より, $m_k, n_k$ 達が十分大きなとき, 近似\n",
    "\n",
    "$$\n",
    "\\hat\\omega_k \\approx \\omega_k = \\omega, \\quad\n",
    "$$\n",
    "\n",
    "が成立しているので, 近似\n",
    "\n",
    "$$\n",
    "\\hat\\omega_{\\op{MH}} \\approx\n",
    "\\frac\n",
    "{\\sum_{k=1}^K \\hat{w}_k \\omega}\n",
    "{\\sum_{k=1}^K \\hat{w}_k} = \\omega.\n",
    "$$\n",
    "\n",
    "が成立している.  すなわち Mantel-Haenszelの推定量 $\\hat\\omega_{\\op{MH}}$ は共通オッズ比 $\\omega$ を近似している.\n",
    "\n",
    "これはMantel-Haenszelの推定量 $\\hat\\omega_{\\op{MH}}$ が共通オッズ比 $\\omega$ の一致推定量になっていることを意味している.\n",
    "\n",
    "共通オッズ比が $1$ の特殊な場合 ($\\omega = 1$ の場合)にはさらに良いことを言える.\n",
    "\n",
    "大数の法則より, \n",
    "\n",
    "$$\n",
    "\\frac{1}{\\hat{w}_k} = \\frac{m_k + n_k}{b_k c_k} =\n",
    "\\frac{1}{(m_k b_k)(n_k c_k)}\\left(\\frac{1}{m_k} + \\frac{1}{n_k}\\right) \\approx\n",
    "\\frac{1}{p_k (1 - q_k)}\\left(\\frac{1}{m_k} + \\frac{1}{n_k}\\right)\n",
    "$$\n",
    "\n",
    "なので $\\omega_k = \\omega = 1$ (すなわち $p_k = q_k$) ならば,\n",
    "\n",
    "$$\n",
    "\\begin{aligned}\n",
    "\\frac{1}{\\hat{w}_k} &\\approx\n",
    "\\frac{1}{p_k (1 - p_k)}\\left(\\frac{1}{m_k} + \\frac{1}{n_k}\\right) \\\\ &= \n",
    "\\omega^2\\left(\\frac{1}{m_k p_k (1 - p_k)} + \\frac{1}{n_k q_k (1 - q_k)}\\right) = v_k.\n",
    "\\end{aligned}\n",
    "$$\n",
    "\n",
    "すなわち $\\hat{w}_k$ の逆数は $\\hat\\omega_k = (a_k d_k)/(b_k c_k)$ の漸近的な分散 $v_k$ を近似する.\n",
    "\n",
    "一般に, 与えられた $\\sigma_1^2,\\ldots,\\sigma_K^2 > 0$ について,  統計モデルが共通の平均 $\\mu$ と分散 $\\sigma_k^2$ を持つ $K$ 個の正規分布の積であるとき, 標本 $X_1,\\ldots,X_n$ に関する共通の平均 $\\mu$ の最尤推定量が\n",
    "\n",
    "$$\n",
    "\\hat\\mu =\n",
    "\\frac\n",
    "{\\sum_{k=1}^K X_k/\\sigma_k^2}\n",
    "{\\sum_{k=1}^K 1/\\sigma_k^2}\n",
    "$$\n",
    "\n",
    "になることを簡単な計算で示せる. これは分散の逆数を重みとする荷重平均になっている.  分散が小さな $X_k$ の方が共通平均の真の値に近くなる傾向があるので, そのような $X_k$ を大きな重みで足し上げた方が良い推定量になりそうである.  この荷重平均は実際にそのようになっている.  (この荷重平均は $\\sigma_1^2 = \\cdots = \\sigma_K^2 = \\sigma^2$ の場合の標本平均 $\\bar{X}=\\frac{1}{K}\\sum_{k=1}^K X_k$ の一般化になっている.) \n",
    "\n",
    "上で示した共通オッズ比が $1$ の場合 ($\\omega_k = \\omega = 1$) におけるMantel-Haenszelの推定量 $\\hat\\omega_{\\op{MH}}$ に関する結果は, 共通オッズ比が $1$ の特殊な場合には, Mantel-Haenszelの推定量 $\\hat\\omega_{\\op{MH}}$ が $\\mu=\\omega=1$, $\\sigma_k^2=v_k$ の場合の 漸近的最尤推定量 $\\hat\\mu$ を近似していることを意味している.\n",
    "\n",
    "ただし, これは共通のオッズ比が $1$ の特殊な場合におけるMantel-Haenszelの推定量 $\\hat\\omega_{\\op{MH}}$ と最尤推定量の関係に過ぎない."
   ]
  },
  {
   "cell_type": "markdown",
   "id": "faf4406c-a123-4111-8571-a51308e802ba",
   "metadata": {},
   "source": [
    "## 最尤推定量\n",
    "\n",
    "$K$ 個の独立な2×2の分割表の各々が2つの二項分布の積分布に従っているという統計モデルのパラメータ空間を共通オッズ比 $\\omega$ を持つ場合に制限して得られる統計モデルを考えている. 独立なパラメータは $q_1,\\ldots,q_K,\\omega$ の $K+1$ 個になる.  (ロジスティックモデルで書き直すこともできる.)\n",
    "\n",
    "このモデルにおける標本\n",
    "\n",
    "$$\n",
    "A_k = \\begin{bmatrix}\n",
    "a_k & b_k \\\\\n",
    "c_k & d_k \\\\\n",
    "\\end{bmatrix}\n",
    "\\quad (k = 1,\\ldots,K)\n",
    "$$\n",
    "\n",
    "の最尤推定量 $\\hat{q}_1, \\ldots, \\hat{q}_K, \\hat\\omega$ を以下のようにして計算できることを示せる. (対数尤度函数を偏微分したものが $0$ になるという方程式を整理すればよい.)\n",
    "\n",
    "(1) 次の条件を満たす $\\delta_k = \\delta_k(\\omega)$ を求める:\n",
    "\n",
    "$$\n",
    "\\frac{(a_k - \\delta_k)(d_k - \\delta_k)}{(b_k + \\delta_k)(c_k + \\delta_k)} = \\omega, \\quad\n",
    "-\\min(b_k, c_k) < \\delta_k < \\min(a_k, d_k)\n",
    "$$\n",
    "\n",
    "具体的に $\\delta_k = \\delta_k(\\omega)$ は2次方程式を解いて次のように表される:\n",
    "\n",
    "$$\n",
    "\\delta_k = \\delta_k(\\omega) =\n",
    "\\frac{2C_k}{B_k + \\sqrt{B_k^2 - 4A_k C_k}}.\n",
    "$$\n",
    "\n",
    "ここで\n",
    "\n",
    "$$\n",
    "A_k = 1 - \\omega, \\quad\n",
    "B_k = a_k + d_k + \\omega(b_k + c_k), \\quad\n",
    "C_k = a_k d_k - \\omega b_k c_k.\n",
    "$$\n",
    "\n",
    "このとき, $\\delta_k = \\delta_k(\\omega)$ は $\\omega$ の単調減少函数になり, 次を満たしている:\n",
    "\n",
    "$$\n",
    "\\delta_k(0) = \\min(a_k, d_k), \\quad\n",
    "\\delta_k(1) = \\frac{a_k d_k - b_k c_k}{N_k}, \\quad\n",
    "\\delta_k(\\hat\\omega_k) = 0, \\quad\n",
    "\\delta_k(\\infty) = -\\min(b_k, c_k).\n",
    "$$\n",
    "\n",
    "$\\hat\\omega_k = (a_k d_k)/(b_k c_k)$ と定めたのであった.\n",
    "\n",
    "(2) $x > 0$ に関する次の方程式の解を $\\hat\\omega$ とする:\n",
    "\n",
    "$$\n",
    "\\sum_{k=1}^K \\delta_k(x) = 0.\n",
    "\\tag{$*$}\n",
    "$$\n",
    "\n",
    "さらに\n",
    "\n",
    "$$\n",
    "\\begin{bmatrix}\n",
    "\\hat{a}_k & \\hat{b}_k \\\\\n",
    "\\hat{c}_k & \\hat{d}_k \\\\\n",
    "\\end{bmatrix} =\n",
    "\\begin{bmatrix}\n",
    "a_k - \\delta_k(\\hat\\omega) & b_k + \\delta_k(\\hat\\omega) \\\\\n",
    "c_k + \\delta_k(\\hat\\omega) & d_k - \\delta_k(\\hat\\omega) \\\\\n",
    "\\end{bmatrix}\n",
    "$$\n",
    "\n",
    "とおき, $\\hat{q}_k = \\hat{c}_k/n_k$ と定める.  このとき, $p_k$ の最尤推定量は $\\hat{p}_k = \\hat{a}_k/m_k$ になる.\n",
    "\n",
    "以上における方程式($*$)を __最尤方程式__ と呼ぶことにする."
   ]
  },
  {
   "cell_type": "markdown",
   "id": "27815ac5-0a09-40bc-8ca1-3a32833f375b",
   "metadata": {},
   "source": [
    "## 最尤方程式の線形近似とMantel-Haenszel推定量\n",
    "\n",
    "この節の内容は上で引用した Yamagimoto-Yamamoto (1985) の Proposition 1 の紹介である.\n",
    "\n",
    "$y = \\delta_k(x)$ は $x = \\hat\\omega_k = (a_k d_k)/(b_k c_k)$ で $y = 0$ となり, $x=1$ で $y = (a_k d_k - b_k c_k)/N_k$ となる.  その2点を通る直線\n",
    "\n",
    "$$\n",
    "y =\n",
    "\\frac{(a_k d_k - b_k c_k)/N_k}{1 - (a_k d_k)/(b_k c_k)}\\left(x - \\frac{a_k d_k}{b_k c_k}\\right) =\n",
    "-\\frac{b_k c_k}{N_k}x + \\frac{a_k d_k}{N_k}\n",
    "$$\n",
    "\n",
    "で $y = \\delta_k(x)$ を近似することにしよう(これはかなり大胆な近似である).  このとき最尤方程式 ($*$) を次の1次方程式 ($**$) で近似することになる:\n",
    "\n",
    "$$\n",
    "-\\left(\\sum_{k=1}^K \\frac{b_k c_k}{N_k}\\right)x + \\sum_{k=1}^K \\frac{a_k d_k}{N_k} = 0.\n",
    "\\tag{$**$}\n",
    "$$\n",
    "\n",
    "これを __線形近似最尤方程式__ と呼ぶことにする. この線形近似最尤方程式の解はMantel-Haenszel推定量\n",
    "\n",
    "$$\n",
    "\\hat\\omega_{\\op{MH}} =\n",
    "\\frac\n",
    "{\\sum_{k=1}^K a_k d_k/N_k}\n",
    "{\\sum_{k=1}^K b_k c_k/N_k}.\n",
    "$$\n",
    "\n",
    "に一致する.  このようにMantel-Haenszel推定量は最尤方程式($*$)を線形近似最尤方程式($**$)で近似することによって得られる."
   ]
  },
  {
   "cell_type": "markdown",
   "id": "273209f5-e304-4f66-862b-9da467e22540",
   "metadata": {},
   "source": [
    "## 数値的な例"
   ]
  },
  {
   "cell_type": "code",
   "execution_count": 2,
   "id": "36ba9de9-4a53-4d1e-90be-804e64b90bf6",
   "metadata": {},
   "outputs": [],
   "source": [
    "using Distributions\n",
    "using StatsPlots\n",
    "default(fmt = :png)"
   ]
  },
  {
   "cell_type": "code",
   "execution_count": 37,
   "id": "cb938401-048e-4ad5-9183-cae639123ec6",
   "metadata": {},
   "outputs": [
    {
     "data": {
      "text/plain": [
       "linapprox (generic function with 2 methods)"
      ]
     },
     "execution_count": 37,
     "metadata": {},
     "output_type": "execute_result"
    }
   ],
   "source": [
    "oddsratio(a, b, c, d) = a*d/(b*c)\n",
    "oddsratio(A) = oddsratio(A...)\n",
    "\n",
    "function delta(a, b, c, d, ω)\n",
    "    ω == 1 && return (a*d - b*c)/(a+b+c+d)\n",
    "    A, B, C = 1 - ω, a + d + ω*(b + c), a*d - ω*b*c\n",
    "    2C/(B + √(B^2 - 4A*C))\n",
    "end\n",
    "\n",
    "delta(A, ω) = delta(A..., ω)\n",
    "\n",
    "function linapprox(a, b, c, d, ω)\n",
    "    N = a + b + c + d\n",
    "    -(b*c/N)*ω + a*d/N\n",
    "end\n",
    "\n",
    "linapprox(A, ω) = linapprox(A..., ω)"
   ]
  },
  {
   "cell_type": "code",
   "execution_count": 47,
   "id": "2891760f-b52c-4b09-b476-9ae3cb8158e1",
   "metadata": {},
   "outputs": [
    {
     "data": {
      "image/png": "[encoded data removed]"
     },
     "execution_count": 47,
     "metadata": {},
     "output_type": "execute_result"
    }
   ],
   "source": [
    "A = [\n",
    "     5 10\n",
    "    10  5\n",
    "]\n",
    "\n",
    "ω = range(0, 2, 1000)\n",
    "plot(ω, ω -> delta(A, ω))\n",
    "plot!(ω, ω -> linapprox(A, ω))"
   ]
  },
  {
   "cell_type": "code",
   "execution_count": 48,
   "id": "ad4c899f-4fd2-4d7c-a4b1-d33ca77b8ef6",
   "metadata": {},
   "outputs": [
    {
     "data": {
      "image/png": "[encoded data removed]"
     },
     "execution_count": 48,
     "metadata": {},
     "output_type": "execute_result"
    }
   ],
   "source": [
    "A = [\n",
    "    100   50\n",
    "     50  100\n",
    "]\n",
    "\n",
    "ω = range(0, 6, 1000)\n",
    "plot(ω, ω -> delta(A, ω))\n",
    "plot!(ω, ω -> linapprox(A, ω))"
   ]
  },
  {
   "cell_type": "code",
   "execution_count": 39,
   "id": "4cc22889-1d29-48d6-82b8-e47b37ba8db2",
   "metadata": {},
   "outputs": [
    {
     "data": {
      "text/plain": [
       "(2.5, 0.0)"
      ]
     },
     "execution_count": 39,
     "metadata": {},
     "output_type": "execute_result"
    }
   ],
   "source": [
    "delta(A, 1), delta(A, oddsratio(A))"
   ]
  },
  {
   "cell_type": "code",
   "execution_count": 40,
   "id": "2afaf6f2-a4c9-46ce-abfa-3f73b2ce7c47",
   "metadata": {},
   "outputs": [
    {
     "data": {
      "text/plain": [
       "(2.5, 0.0)"
      ]
     },
     "execution_count": 40,
     "metadata": {},
     "output_type": "execute_result"
    }
   ],
   "source": [
    "linapprox(A, 1), linapprox(A, oddsratio(A))"
   ]
  },
  {
   "cell_type": "code",
   "execution_count": null,
   "id": "493e6637-7e0d-4c77-be49-1fc6a33dc3d5",
   "metadata": {},
   "outputs": [],
   "source": []
  }
 ],
 "metadata": {
  "jupytext": {
   "formats": "ipynb,md"
  },
  "kernelspec": {
   "display_name": "Julia 1.8.0-beta1",
   "language": "julia",
   "name": "julia-1.8"
  },
  "language_info": {
   "file_extension": ".jl",
   "mimetype": "application/julia",
   "name": "julia",
   "version": "1.8.0"
  }
 },
 "nbformat": 4,
 "nbformat_minor": 5
}
