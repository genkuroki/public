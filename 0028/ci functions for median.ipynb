{
 "cells": [
  {
   "cell_type": "code",
   "execution_count": 1,
   "id": "0498ed74-86b7-4ca2-a7c6-5ccef3eea63c",
   "metadata": {},
   "outputs": [],
   "source": [
    "using Distributions"
   ]
  },
  {
   "cell_type": "code",
   "execution_count": 2,
   "id": "b5b0e187-6f8e-4c13-8a58-0fa23c05af4c",
   "metadata": {},
   "outputs": [
    {
     "data": {
      "text/plain": [
       "ci_median_bootstrap (generic function with 1 method)"
      ]
     },
     "execution_count": 2,
     "metadata": {},
     "output_type": "execute_result"
    }
   ],
   "source": [
    "function ci_median_bootstrap(X; α = 0.05)\n",
    "    n = length(X)\n",
    "    n += iseven(n)\n",
    "    beta = Beta((n+1)/2, (n+1)/2)\n",
    "    L = quantile(X, quantile(beta, α/2))\n",
    "    U = quantile(X, quantile(beta, 1 - α/2))\n",
    "    L, U\n",
    "end"
   ]
  },
  {
   "cell_type": "code",
   "execution_count": 3,
   "id": "055ac794-5411-422d-966d-57c813a23527",
   "metadata": {},
   "outputs": [
    {
     "data": {
      "text/plain": [
       "(3.8827600967383775, 8.957412165033455)"
      ]
     },
     "execution_count": 3,
     "metadata": {},
     "output_type": "execute_result"
    }
   ],
   "source": [
    "X = rand(Gamma(2, 3), 40)\n",
    "ci_median_bootstrap(X)"
   ]
  },
  {
   "cell_type": "code",
   "execution_count": 4,
   "id": "c6deaba4-3b2c-420d-b98e-907451754d45",
   "metadata": {},
   "outputs": [
    {
     "data": {
      "text/plain": [
       "(3.7352688760749375, 8.928787246984522)"
      ]
     },
     "execution_count": 4,
     "metadata": {},
     "output_type": "execute_result"
    }
   ],
   "source": [
    "function ci_median_binomial(X; α = 0.05)\n",
    "    bin = Binomial(length(X), 1/2)\n",
    "    Xord = sort(X)\n",
    "    L = Xord[quantile(bin, α/2)]\n",
    "    U = Xord[quantile(bin, 1 - α/2)]\n",
    "    L, U\n",
    "end\n",
    "\n",
    "ci_median_binomial(X)"
   ]
  },
  {
   "cell_type": "code",
   "execution_count": null,
   "id": "dfb9a341-5940-4677-9028-82c1742a68d7",
   "metadata": {},
   "outputs": [],
   "source": []
  }
 ],
 "metadata": {
  "kernelspec": {
   "display_name": "Julia 1.7.2",
   "language": "julia",
   "name": "julia-1.7"
  },
  "language_info": {
   "file_extension": ".jl",
   "mimetype": "application/julia",
   "name": "julia",
   "version": "1.7.2"
  }
 },
 "nbformat": 4,
 "nbformat_minor": 5
}
