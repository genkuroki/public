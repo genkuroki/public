{
 "cells": [
  {
   "cell_type": "code",
   "execution_count": 1,
   "id": "00021388-3753-4095-b721-13cc285209ce",
   "metadata": {},
   "outputs": [
    {
     "name": "stdout",
     "output_type": "stream",
     "text": [
      "  7.095820 seconds (2 allocations: 381.470 MiB, 0.11% gc time)\n"
     ]
    },
    {
     "data": {
      "text/plain": [
       "100000000-element Vector{Float32}:\n",
       " 0.0\n",
       " 0.0\n",
       " 0.0\n",
       " 5.9604645f-8\n",
       " 5.9604645f-8\n",
       " 5.9604645f-8\n",
       " 5.9604645f-8\n",
       " 5.9604645f-8\n",
       " 5.9604645f-8\n",
       " 1.1920929f-7\n",
       " 1.1920929f-7\n",
       " 1.1920929f-7\n",
       " 1.1920929f-7\n",
       " ⋮\n",
       " 0.99999976\n",
       " 0.99999976\n",
       " 0.99999976\n",
       " 0.9999998\n",
       " 0.9999998\n",
       " 0.9999998\n",
       " 0.9999998\n",
       " 0.9999998\n",
       " 0.9999999\n",
       " 0.9999999\n",
       " 0.99999994\n",
       " 0.99999994"
      ]
     },
     "execution_count": 1,
     "metadata": {},
     "output_type": "execute_result"
    }
   ],
   "source": [
    "@time X = sort!(rand(Float32, 10^8))"
   ]
  },
  {
   "cell_type": "code",
   "execution_count": 2,
   "id": "9bafd0cd-9342-4ab1-b4d8-59387be093c4",
   "metadata": {},
   "outputs": [
    {
     "name": "stdout",
     "output_type": "stream",
     "text": [
      "  7.377836 seconds (4 allocations: 762.940 MiB, 1.15% gc time)\n"
     ]
    },
    {
     "data": {
      "text/plain": [
       "100000000-element Vector{Float32}:\n",
       " 0.0\n",
       " 0.0\n",
       " 0.0\n",
       " 0.0\n",
       " 0.0\n",
       " 0.0\n",
       " 0.0\n",
       " 0.0\n",
       " 5.960465f-8\n",
       " 5.960465f-8\n",
       " 1.192093f-7\n",
       " 1.192093f-7\n",
       " 1.192093f-7\n",
       " ⋮\n",
       " 0.9999999\n",
       " 0.9999999\n",
       " 0.99999994\n",
       " 0.99999994\n",
       " 0.99999994\n",
       " 0.99999994\n",
       " 1.0\n",
       " 1.0\n",
       " 1.0\n",
       " 1.0\n",
       " 1.0\n",
       " 1.0"
      ]
     },
     "execution_count": 2,
     "metadata": {},
     "output_type": "execute_result"
    }
   ],
   "source": [
    "@time X = sort!(rand(Float32, 10^8)/prevfloat(1f0))"
   ]
  },
  {
   "cell_type": "code",
   "execution_count": 3,
   "id": "3ed48aa2-03e5-4299-aa6b-635fffcb774d",
   "metadata": {},
   "outputs": [
    {
     "data": {
      "text/plain": [
       "0.99999994f0"
      ]
     },
     "execution_count": 3,
     "metadata": {},
     "output_type": "execute_result"
    }
   ],
   "source": [
    "prevfloat(1f0)"
   ]
  },
  {
   "cell_type": "code",
   "execution_count": 4,
   "id": "c536d255-fc18-451a-80cd-efe7f5a3e8d4",
   "metadata": {},
   "outputs": [
    {
     "data": {
      "text/plain": [
       "5.9604645f-8"
      ]
     },
     "execution_count": 4,
     "metadata": {},
     "output_type": "execute_result"
    }
   ],
   "source": [
    "1 - prevfloat(1f0)"
   ]
  },
  {
   "cell_type": "code",
   "execution_count": null,
   "id": "3edbdbc3-9943-43ce-82ef-fefaf1efd19d",
   "metadata": {},
   "outputs": [],
   "source": []
  }
 ],
 "metadata": {
  "kernelspec": {
   "display_name": "Julia 1.8.0-beta1",
   "language": "julia",
   "name": "julia-1.8"
  },
  "language_info": {
   "file_extension": ".jl",
   "mimetype": "application/julia",
   "name": "julia",
   "version": "1.8.0"
  }
 },
 "nbformat": 4,
 "nbformat_minor": 5
}
