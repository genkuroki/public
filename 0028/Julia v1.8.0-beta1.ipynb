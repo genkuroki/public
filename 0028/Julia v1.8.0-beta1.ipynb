{
 "cells": [
  {
   "cell_type": "code",
   "execution_count": 1,
   "id": "584c51a8-fc52-41bf-9fe9-d16d87d7d0a1",
   "metadata": {},
   "outputs": [
    {
     "name": "stdout",
     "output_type": "stream",
     "text": [
      "VERSION = v\"1.8.0-beta1\"\n",
      "f_ambiguous(): 5.848124 seconds (300.00 M allocations: 5.960 GiB, 3.75% gc time)\n",
      "f_ambiguous(): 5.945625 seconds (300.00 M allocations: 5.960 GiB, 3.37% gc time)\n",
      "f_ambiguous(): 5.945558 seconds (300.00 M allocations: 5.960 GiB, 3.46% gc time)\n"
     ]
    },
    {
     "data": {
      "text/plain": [
       "3.141592"
      ]
     },
     "execution_count": 1,
     "metadata": {},
     "output_type": "execute_result"
    }
   ],
   "source": [
    "N_ambiguous = 10^8\n",
    "\n",
    "function f_ambiguous()\n",
    "    s = 0\n",
    "    for _ in 1:N_ambiguous\n",
    "        s += rand()^2 + rand()^2 ≤ 1\n",
    "    end\n",
    "    4s/N_ambiguous\n",
    "end\n",
    "\n",
    "@show VERSION\n",
    "@showtime f_ambiguous()\n",
    "@showtime f_ambiguous()\n",
    "@showtime f_ambiguous()"
   ]
  },
  {
   "cell_type": "code",
   "execution_count": 2,
   "id": "5d68321b-4974-4217-a388-d8afb5343ebc",
   "metadata": {},
   "outputs": [
    {
     "name": "stdout",
     "output_type": "stream",
     "text": [
      "MethodInstance for f_ambiguous()\n",
      "  from f_ambiguous() in Main at In[1]:3\n",
      "Arguments\n",
      "  #self#\u001b[36m::Core.Const(f_ambiguous)\u001b[39m\n",
      "Locals\n",
      "  @_2\u001b[91m\u001b[1m::Any\u001b[22m\u001b[39m\n",
      "  s\u001b[36m::Int64\u001b[39m\n",
      "Body\u001b[91m\u001b[1m::Any\u001b[22m\u001b[39m\n",
      "\u001b[90m1 ─\u001b[39m       (s = 0)\n",
      "\u001b[90m│  \u001b[39m %2  = (1:Main.N_ambiguous)\u001b[91m\u001b[1m::Any\u001b[22m\u001b[39m\n",
      "\u001b[90m│  \u001b[39m       (@_2 = Base.iterate(%2))\n",
      "\u001b[90m│  \u001b[39m %4  = (@_2 === nothing)\u001b[36m::Bool\u001b[39m\n",
      "\u001b[90m│  \u001b[39m %5  = Base.not_int(%4)\u001b[36m::Bool\u001b[39m\n",
      "\u001b[90m└──\u001b[39m       goto #4 if not %5\n",
      "\u001b[90m2 ┄\u001b[39m %7  = @_2\u001b[91m\u001b[1m::Any\u001b[22m\u001b[39m\n",
      "\u001b[90m│  \u001b[39m       Core.getfield(%7, 1)\n",
      "\u001b[90m│  \u001b[39m %9  = Core.getfield(%7, 2)\u001b[91m\u001b[1m::Any\u001b[22m\u001b[39m\n",
      "\u001b[90m│  \u001b[39m %10 = s\u001b[36m::Int64\u001b[39m\n",
      "\u001b[90m│  \u001b[39m %11 = Main.rand()\u001b[36m::Float64\u001b[39m\n",
      "\u001b[90m│  \u001b[39m %12 = Core.apply_type(Base.Val, 2)\u001b[36m::Core.Const(Val{2})\u001b[39m\n",
      "\u001b[90m│  \u001b[39m %13 = (%12)()\u001b[36m::Core.Const(Val{2}())\u001b[39m\n",
      "\u001b[90m│  \u001b[39m %14 = Base.literal_pow(Main.:^, %11, %13)\u001b[36m::Float64\u001b[39m\n",
      "\u001b[90m│  \u001b[39m %15 = Main.rand()\u001b[36m::Float64\u001b[39m\n",
      "\u001b[90m│  \u001b[39m %16 = Core.apply_type(Base.Val, 2)\u001b[36m::Core.Const(Val{2})\u001b[39m\n",
      "\u001b[90m│  \u001b[39m %17 = (%16)()\u001b[36m::Core.Const(Val{2}())\u001b[39m\n",
      "\u001b[90m│  \u001b[39m %18 = Base.literal_pow(Main.:^, %15, %17)\u001b[36m::Float64\u001b[39m\n",
      "\u001b[90m│  \u001b[39m %19 = (%14 + %18)\u001b[36m::Float64\u001b[39m\n",
      "\u001b[90m│  \u001b[39m %20 = (%19 ≤ 1)\u001b[36m::Bool\u001b[39m\n",
      "\u001b[90m│  \u001b[39m       (s = %10 + %20)\n",
      "\u001b[90m│  \u001b[39m       (@_2 = Base.iterate(%2, %9))\n",
      "\u001b[90m│  \u001b[39m %23 = (@_2 === nothing)\u001b[36m::Bool\u001b[39m\n",
      "\u001b[90m│  \u001b[39m %24 = Base.not_int(%23)\u001b[36m::Bool\u001b[39m\n",
      "\u001b[90m└──\u001b[39m       goto #4 if not %24\n",
      "\u001b[90m3 ─\u001b[39m       goto #2\n",
      "\u001b[90m4 ┄\u001b[39m %27 = (4 * s)\u001b[36m::Int64\u001b[39m\n",
      "\u001b[90m│  \u001b[39m %28 = (%27 / Main.N_ambiguous)\u001b[91m\u001b[1m::Any\u001b[22m\u001b[39m\n",
      "\u001b[90m└──\u001b[39m       return %28\n",
      "\n"
     ]
    }
   ],
   "source": [
    "@code_warntype f_ambiguous()"
   ]
  },
  {
   "cell_type": "code",
   "execution_count": 3,
   "id": "6c5be8fe-fd7f-4db2-aca1-4589515d61b8",
   "metadata": {},
   "outputs": [
    {
     "name": "stdout",
     "output_type": "stream",
     "text": [
      "VERSION = v\"1.8.0-beta1\"\n",
      "f(): 0.311243 seconds\n",
      "f(): 0.316219 seconds\n",
      "f(): 0.313188 seconds\n"
     ]
    },
    {
     "data": {
      "text/plain": [
       "3.14142424"
      ]
     },
     "execution_count": 3,
     "metadata": {},
     "output_type": "execute_result"
    }
   ],
   "source": [
    "N::Int = 10^8\n",
    "\n",
    "function f()\n",
    "    s = 0\n",
    "    for _ in 1:N\n",
    "        s += rand()^2 + rand()^2 ≤ 1\n",
    "    end\n",
    "    4s/N\n",
    "end\n",
    "\n",
    "@show VERSION\n",
    "@showtime f()\n",
    "@showtime f()\n",
    "@showtime f()"
   ]
  },
  {
   "cell_type": "code",
   "execution_count": 4,
   "id": "a7d7938d-0b95-4f7a-9c82-ea1b98337d1b",
   "metadata": {},
   "outputs": [
    {
     "name": "stdout",
     "output_type": "stream",
     "text": [
      "MethodInstance for f()\n",
      "  from f() in Main at In[3]:3\n",
      "Arguments\n",
      "  #self#\u001b[36m::Core.Const(f)\u001b[39m\n",
      "Locals\n",
      "  @_2\u001b[33m\u001b[1m::Union{Nothing, Tuple{Int64, Int64}}\u001b[22m\u001b[39m\n",
      "  s\u001b[36m::Int64\u001b[39m\n",
      "Body\u001b[36m::Float64\u001b[39m\n",
      "\u001b[90m1 ─\u001b[39m       (s = 0)\n",
      "\u001b[90m│  \u001b[39m %2  = (1:Main.N)\u001b[36m::Core.PartialStruct(UnitRange{Int64}, Any[Core.Const(1), Int64])\u001b[39m\n",
      "\u001b[90m│  \u001b[39m       (@_2 = Base.iterate(%2))\n",
      "\u001b[90m│  \u001b[39m %4  = (@_2 === nothing)\u001b[36m::Bool\u001b[39m\n",
      "\u001b[90m│  \u001b[39m %5  = Base.not_int(%4)\u001b[36m::Bool\u001b[39m\n",
      "\u001b[90m└──\u001b[39m       goto #4 if not %5\n",
      "\u001b[90m2 ┄\u001b[39m %7  = @_2\u001b[36m::Tuple{Int64, Int64}\u001b[39m\n",
      "\u001b[90m│  \u001b[39m       Core.getfield(%7, 1)\n",
      "\u001b[90m│  \u001b[39m %9  = Core.getfield(%7, 2)\u001b[36m::Int64\u001b[39m\n",
      "\u001b[90m│  \u001b[39m %10 = s\u001b[36m::Int64\u001b[39m\n",
      "\u001b[90m│  \u001b[39m %11 = Main.rand()\u001b[36m::Float64\u001b[39m\n",
      "\u001b[90m│  \u001b[39m %12 = Core.apply_type(Base.Val, 2)\u001b[36m::Core.Const(Val{2})\u001b[39m\n",
      "\u001b[90m│  \u001b[39m %13 = (%12)()\u001b[36m::Core.Const(Val{2}())\u001b[39m\n",
      "\u001b[90m│  \u001b[39m %14 = Base.literal_pow(Main.:^, %11, %13)\u001b[36m::Float64\u001b[39m\n",
      "\u001b[90m│  \u001b[39m %15 = Main.rand()\u001b[36m::Float64\u001b[39m\n",
      "\u001b[90m│  \u001b[39m %16 = Core.apply_type(Base.Val, 2)\u001b[36m::Core.Const(Val{2})\u001b[39m\n",
      "\u001b[90m│  \u001b[39m %17 = (%16)()\u001b[36m::Core.Const(Val{2}())\u001b[39m\n",
      "\u001b[90m│  \u001b[39m %18 = Base.literal_pow(Main.:^, %15, %17)\u001b[36m::Float64\u001b[39m\n",
      "\u001b[90m│  \u001b[39m %19 = (%14 + %18)\u001b[36m::Float64\u001b[39m\n",
      "\u001b[90m│  \u001b[39m %20 = (%19 ≤ 1)\u001b[36m::Bool\u001b[39m\n",
      "\u001b[90m│  \u001b[39m       (s = %10 + %20)\n",
      "\u001b[90m│  \u001b[39m       (@_2 = Base.iterate(%2, %9))\n",
      "\u001b[90m│  \u001b[39m %23 = (@_2 === nothing)\u001b[36m::Bool\u001b[39m\n",
      "\u001b[90m│  \u001b[39m %24 = Base.not_int(%23)\u001b[36m::Bool\u001b[39m\n",
      "\u001b[90m└──\u001b[39m       goto #4 if not %24\n",
      "\u001b[90m3 ─\u001b[39m       goto #2\n",
      "\u001b[90m4 ┄\u001b[39m %27 = (4 * s)\u001b[36m::Int64\u001b[39m\n",
      "\u001b[90m│  \u001b[39m %28 = (%27 / Main.N)\u001b[36m::Float64\u001b[39m\n",
      "\u001b[90m└──\u001b[39m       return %28\n",
      "\n"
     ]
    }
   ],
   "source": [
    "@code_warntype f()"
   ]
  },
  {
   "cell_type": "code",
   "execution_count": null,
   "id": "454fc70c-63d3-47e7-ae23-bd78d7a14028",
   "metadata": {},
   "outputs": [],
   "source": []
  }
 ],
 "metadata": {
  "kernelspec": {
   "display_name": "Julia 1.8.0-beta1",
   "language": "julia",
   "name": "julia-1.8"
  },
  "language_info": {
   "file_extension": ".jl",
   "mimetype": "application/julia",
   "name": "julia",
   "version": "1.8.0"
  }
 },
 "nbformat": 4,
 "nbformat_minor": 5
}
