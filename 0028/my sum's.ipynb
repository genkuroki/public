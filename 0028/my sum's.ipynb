{
 "cells": [
  {
   "cell_type": "markdown",
   "id": "d909da42-a16b-4077-a345-de2be967978c",
   "metadata": {},
   "source": [
    "https://zenn.dev/ohno/articles/0ba7970d419898"
   ]
  },
  {
   "cell_type": "code",
   "execution_count": 1,
   "id": "9251dbad-11d8-4614-875e-bf72188db0e4",
   "metadata": {},
   "outputs": [
    {
     "name": "stdout",
     "output_type": "stream",
     "text": [
      "Julia Version 1.8.0-beta1\n",
      "Commit 7b711ce699 (2022-02-23 15:09 UTC)\n",
      "Platform Info:\n",
      "  OS: Windows (x86_64-w64-mingw32)\n",
      "  CPU: 12 × Intel(R) Core(TM) i7-10750H CPU @ 2.60GHz\n",
      "  WORD_SIZE: 64\n",
      "  LIBM: libopenlibm\n",
      "  LLVM: libLLVM-13.0.1 (ORCJIT, skylake)\n",
      "  Threads: 12 on 12 virtual cores\n",
      "Environment:\n",
      "  JULIA_DEPOT_PATH = D:\\.julia\n",
      "  JULIA_NUM_THREADS = 12\n",
      "  JULIA_PYTHONCALL_EXE = D:\\.julia\\conda\\3\\python.exe\n"
     ]
    }
   ],
   "source": [
    "versioninfo()"
   ]
  },
  {
   "cell_type": "code",
   "execution_count": 2,
   "id": "c4beb5ad-0971-4413-a373-3caf4d8efea9",
   "metadata": {},
   "outputs": [],
   "source": [
    "using BenchmarkTools"
   ]
  },
  {
   "cell_type": "code",
   "execution_count": 3,
   "id": "bae2ecc9-1972-4a87-baf8-4030b8857b73",
   "metadata": {},
   "outputs": [
    {
     "data": {
      "text/plain": [
       "bad (generic function with 1 method)"
      ]
     },
     "execution_count": 3,
     "metadata": {},
     "output_type": "execute_result"
    }
   ],
   "source": [
    "function bad(a)\n",
    "    s = zero(eltype(a))\n",
    "    for i in axes(a, 1)\n",
    "        for j in axes(a, 2)\n",
    "           s += a[i,j]\n",
    "        end\n",
    "    end\n",
    "    s\n",
    "end"
   ]
  },
  {
   "cell_type": "code",
   "execution_count": 4,
   "id": "ad31598b-ce11-414e-897b-5ce6906986d2",
   "metadata": {},
   "outputs": [
    {
     "data": {
      "text/plain": [
       "good (generic function with 1 method)"
      ]
     },
     "execution_count": 4,
     "metadata": {},
     "output_type": "execute_result"
    }
   ],
   "source": [
    "function good(a)\n",
    "    s = zero(eltype(a))\n",
    "    for j in axes(a, 2)\n",
    "        for i in axes(a, 1)\n",
    "           s += a[i,j]\n",
    "        end\n",
    "    end\n",
    "    s\n",
    "end"
   ]
  },
  {
   "cell_type": "code",
   "execution_count": 5,
   "id": "66c9892f-fc73-4ba6-8727-364af60898b4",
   "metadata": {},
   "outputs": [
    {
     "data": {
      "text/plain": [
       "better (generic function with 1 method)"
      ]
     },
     "execution_count": 5,
     "metadata": {},
     "output_type": "execute_result"
    }
   ],
   "source": [
    "function better(a)\n",
    "    s = zero(eltype(a))\n",
    "    for j in axes(a, 2)\n",
    "        @simd for i in axes(a, 1)\n",
    "           s += a[i,j]\n",
    "        end\n",
    "    end\n",
    "    s\n",
    "end"
   ]
  },
  {
   "cell_type": "code",
   "execution_count": 6,
   "id": "b1fc4ec6-1287-4e69-af62-4a9a9589a91a",
   "metadata": {},
   "outputs": [
    {
     "data": {
      "text/plain": [
       "better2 (generic function with 1 method)"
      ]
     },
     "execution_count": 6,
     "metadata": {},
     "output_type": "execute_result"
    }
   ],
   "source": [
    "function better2(a)\n",
    "    s = zero(eltype(a))\n",
    "    @simd for k in keys(a)\n",
    "        s += a[k]\n",
    "    end\n",
    "    s\n",
    "end"
   ]
  },
  {
   "cell_type": "code",
   "execution_count": 7,
   "id": "8ba15998-c8a1-4e1e-9114-6b1a6a376bf0",
   "metadata": {},
   "outputs": [
    {
     "data": {
      "text/plain": [
       "better3 (generic function with 1 method)"
      ]
     },
     "execution_count": 7,
     "metadata": {},
     "output_type": "execute_result"
    }
   ],
   "source": [
    "function better3(a)\n",
    "    s = zero(eltype(a))\n",
    "    @simd for x in a\n",
    "        s += x\n",
    "    end\n",
    "    s\n",
    "end"
   ]
  },
  {
   "cell_type": "code",
   "execution_count": 8,
   "id": "d59310fc-e474-4e4c-b1f7-481177421d8d",
   "metadata": {},
   "outputs": [],
   "source": [
    "A = rand(4000, 4000);"
   ]
  },
  {
   "cell_type": "code",
   "execution_count": 9,
   "id": "8a2ddb77-a096-42bb-bec0-67a171389f3b",
   "metadata": {},
   "outputs": [
    {
     "name": "stdout",
     "output_type": "stream",
     "text": [
      "  80.982 ms (0 allocations: 0 bytes)\n"
     ]
    },
    {
     "data": {
      "text/plain": [
       "8.0018488062925525e6"
      ]
     },
     "execution_count": 9,
     "metadata": {},
     "output_type": "execute_result"
    }
   ],
   "source": [
    "@btime bad($A)"
   ]
  },
  {
   "cell_type": "code",
   "execution_count": 10,
   "id": "9d59bb16-e444-46ac-96cf-7adcbc4e9d30",
   "metadata": {},
   "outputs": [
    {
     "name": "stdout",
     "output_type": "stream",
     "text": [
      "  15.386 ms (0 allocations: 0 bytes)\n"
     ]
    },
    {
     "data": {
      "text/plain": [
       "8.0018488062907215e6"
      ]
     },
     "execution_count": 10,
     "metadata": {},
     "output_type": "execute_result"
    }
   ],
   "source": [
    "@btime good($A)"
   ]
  },
  {
   "cell_type": "code",
   "execution_count": 11,
   "id": "7d9019a1-b8e5-42c9-8ed2-b8afb1ae57bb",
   "metadata": {},
   "outputs": [
    {
     "name": "stdout",
     "output_type": "stream",
     "text": [
      "  5.925 ms (0 allocations: 0 bytes)\n"
     ]
    },
    {
     "data": {
      "text/plain": [
       "8.001848806290694e6"
      ]
     },
     "execution_count": 11,
     "metadata": {},
     "output_type": "execute_result"
    }
   ],
   "source": [
    "@btime better($A)"
   ]
  },
  {
   "cell_type": "code",
   "execution_count": 12,
   "id": "0612153c-19ad-4599-bdfd-bd0b4c2dc544",
   "metadata": {},
   "outputs": [
    {
     "name": "stdout",
     "output_type": "stream",
     "text": [
      "  5.930 ms (0 allocations: 0 bytes)\n"
     ]
    },
    {
     "data": {
      "text/plain": [
       "8.001848806290694e6"
      ]
     },
     "execution_count": 12,
     "metadata": {},
     "output_type": "execute_result"
    }
   ],
   "source": [
    "@btime better2($A)"
   ]
  },
  {
   "cell_type": "code",
   "execution_count": 13,
   "id": "47bd43ef-7008-487a-b478-d0a006fcdf89",
   "metadata": {},
   "outputs": [
    {
     "name": "stdout",
     "output_type": "stream",
     "text": [
      "  5.304 ms (0 allocations: 0 bytes)\n"
     ]
    },
    {
     "data": {
      "text/plain": [
       "8.001848806290893e6"
      ]
     },
     "execution_count": 13,
     "metadata": {},
     "output_type": "execute_result"
    }
   ],
   "source": [
    "@btime better3($A)"
   ]
  },
  {
   "cell_type": "code",
   "execution_count": 14,
   "id": "034606a2-281b-4772-b0b4-70543b46d0ac",
   "metadata": {},
   "outputs": [
    {
     "name": "stdout",
     "output_type": "stream",
     "text": [
      "  6.053 ms (0 allocations: 0 bytes)\n"
     ]
    },
    {
     "data": {
      "text/plain": [
       "8.001848806290921e6"
      ]
     },
     "execution_count": 14,
     "metadata": {},
     "output_type": "execute_result"
    }
   ],
   "source": [
    "@btime sum($A)"
   ]
  },
  {
   "cell_type": "code",
   "execution_count": 15,
   "id": "99cc51ed-99b0-4415-a0b5-2aad77ef8a5b",
   "metadata": {},
   "outputs": [
    {
     "data": {
      "text/plain": [
       "CartesianIndices((5, 3))"
      ]
     },
     "execution_count": 15,
     "metadata": {},
     "output_type": "execute_result"
    }
   ],
   "source": [
    "keys(rand(5, 3))"
   ]
  },
  {
   "cell_type": "code",
   "execution_count": 16,
   "id": "d745a5ce-0956-412d-a8ca-d3d898a46501",
   "metadata": {},
   "outputs": [
    {
     "name": "stdout",
     "output_type": "stream",
     "text": [
      "MethodInstance for good_original(::Matrix{Float64})\n",
      "  from good_original(arr) in Main at In[16]:1\n",
      "Arguments\n",
      "  #self#\u001b[36m::Core.Const(good_original)\u001b[39m\n",
      "  arr\u001b[36m::Matrix{Float64}\u001b[39m\n",
      "Locals\n",
      "  @_3\u001b[33m\u001b[1m::Union{Nothing, Tuple{Int64, Int64}}\u001b[22m\u001b[39m\n",
      "  sum\u001b[91m\u001b[1m::Union{Float64, Int64}\u001b[22m\u001b[39m\n",
      "  @_5\u001b[33m\u001b[1m::Union{Nothing, Tuple{Int64, Int64}}\u001b[22m\u001b[39m\n",
      "  j\u001b[36m::Int64\u001b[39m\n",
      "  i\u001b[36m::Int64\u001b[39m\n",
      "Body\u001b[91m\u001b[1m::Union{Float64, Int64}\u001b[22m\u001b[39m\n",
      "\u001b[90m1 ─\u001b[39m       (sum = 0)\n",
      "\u001b[90m│  \u001b[39m %2  = Main.size(arr)\u001b[36m::Tuple{Int64, Int64}\u001b[39m\n",
      "\u001b[90m│  \u001b[39m %3  = Base.getindex(%2, 2)\u001b[36m::Int64\u001b[39m\n",
      "\u001b[90m│  \u001b[39m %4  = (1:%3)\u001b[36m::Core.PartialStruct(UnitRange{Int64}, Any[Core.Const(1), Int64])\u001b[39m\n",
      "\u001b[90m│  \u001b[39m       (@_3 = Base.iterate(%4))\n",
      "\u001b[90m│  \u001b[39m %6  = (@_3 === nothing)\u001b[36m::Bool\u001b[39m\n",
      "\u001b[90m│  \u001b[39m %7  = Base.not_int(%6)\u001b[36m::Bool\u001b[39m\n",
      "\u001b[90m└──\u001b[39m       goto #7 if not %7\n",
      "\u001b[90m2 ┄\u001b[39m %9  = @_3\u001b[36m::Tuple{Int64, Int64}\u001b[39m\n",
      "\u001b[90m│  \u001b[39m       (j = Core.getfield(%9, 1))\n",
      "\u001b[90m│  \u001b[39m %11 = Core.getfield(%9, 2)\u001b[36m::Int64\u001b[39m\n",
      "\u001b[90m│  \u001b[39m %12 = Main.size(arr)\u001b[36m::Tuple{Int64, Int64}\u001b[39m\n",
      "\u001b[90m│  \u001b[39m %13 = Base.getindex(%12, 1)\u001b[36m::Int64\u001b[39m\n",
      "\u001b[90m│  \u001b[39m %14 = (1:%13)\u001b[36m::Core.PartialStruct(UnitRange{Int64}, Any[Core.Const(1), Int64])\u001b[39m\n",
      "\u001b[90m│  \u001b[39m       (@_5 = Base.iterate(%14))\n",
      "\u001b[90m│  \u001b[39m %16 = (@_5 === nothing)\u001b[36m::Bool\u001b[39m\n",
      "\u001b[90m│  \u001b[39m %17 = Base.not_int(%16)\u001b[36m::Bool\u001b[39m\n",
      "\u001b[90m└──\u001b[39m       goto #5 if not %17\n",
      "\u001b[90m3 ┄\u001b[39m %19 = @_5\u001b[36m::Tuple{Int64, Int64}\u001b[39m\n",
      "\u001b[90m│  \u001b[39m       (i = Core.getfield(%19, 1))\n",
      "\u001b[90m│  \u001b[39m %21 = Core.getfield(%19, 2)\u001b[36m::Int64\u001b[39m\n",
      "\u001b[90m│  \u001b[39m %22 = sum\u001b[91m\u001b[1m::Union{Float64, Int64}\u001b[22m\u001b[39m\n",
      "\u001b[90m│  \u001b[39m %23 = Base.getindex(arr, i, j)\u001b[36m::Float64\u001b[39m\n",
      "\u001b[90m│  \u001b[39m       (sum = %22 + %23)\n",
      "\u001b[90m│  \u001b[39m       (@_5 = Base.iterate(%14, %21))\n",
      "\u001b[90m│  \u001b[39m %26 = (@_5 === nothing)\u001b[36m::Bool\u001b[39m\n",
      "\u001b[90m│  \u001b[39m %27 = Base.not_int(%26)\u001b[36m::Bool\u001b[39m\n",
      "\u001b[90m└──\u001b[39m       goto #5 if not %27\n",
      "\u001b[90m4 ─\u001b[39m       goto #3\n",
      "\u001b[90m5 ┄\u001b[39m       (@_3 = Base.iterate(%4, %11))\n",
      "\u001b[90m│  \u001b[39m %31 = (@_3 === nothing)\u001b[36m::Bool\u001b[39m\n",
      "\u001b[90m│  \u001b[39m %32 = Base.not_int(%31)\u001b[36m::Bool\u001b[39m\n",
      "\u001b[90m└──\u001b[39m       goto #7 if not %32\n",
      "\u001b[90m6 ─\u001b[39m       goto #2\n",
      "\u001b[90m7 ┄\u001b[39m       return sum\n",
      "\n"
     ]
    }
   ],
   "source": [
    "function good_original(arr)\n",
    "    sum = 0\n",
    "    for j in 1:size(arr)[2]\n",
    "        for i in 1:size(arr)[1]\n",
    "           sum += arr[i,j]\n",
    "        end\n",
    "    end\n",
    "    return sum\n",
    "end\n",
    "\n",
    "@code_warntype good_original(A)"
   ]
  },
  {
   "cell_type": "code",
   "execution_count": null,
   "id": "b1db0857-a604-4751-b303-512fc815a7f0",
   "metadata": {},
   "outputs": [],
   "source": []
  }
 ],
 "metadata": {
  "kernelspec": {
   "display_name": "Julia 1.8.0-beta1",
   "language": "julia",
   "name": "julia-1.8"
  },
  "language_info": {
   "file_extension": ".jl",
   "mimetype": "application/julia",
   "name": "julia",
   "version": "1.8.0"
  }
 },
 "nbformat": 4,
 "nbformat_minor": 5
}
