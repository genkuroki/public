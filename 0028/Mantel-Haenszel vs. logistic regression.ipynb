{
 "cells": [
  {
   "cell_type": "markdown",
   "id": "ffdeb243-9ea1-462c-923e-426c1aa52115",
   "metadata": {},
   "source": [
    "https://twitter.com/mph_for_doctors/status/1226714150853849090"
   ]
  },
  {
   "cell_type": "code",
   "execution_count": 1,
   "id": "785e888e-8244-4fe9-bfe1-438ab7d76cd9",
   "metadata": {},
   "outputs": [],
   "source": [
    "using RCall"
   ]
  },
  {
   "cell_type": "code",
   "execution_count": 2,
   "id": "6da616f2-dd22-4942-8a00-51e0408c8a6a",
   "metadata": {},
   "outputs": [
    {
     "name": "stderr",
     "output_type": "stream",
     "text": [
      "┌ Warning: RCall.jl: -- Attaching packages --------------------------------------- tidyverse 1.3.1 --\n",
      "│ v ggplot2 3.3.5     v purrr   0.3.4\n",
      "│ v tibble  3.1.6     v dplyr   1.0.8\n",
      "│ v tidyr   1.2.0     v stringr 1.4.0\n",
      "│ v readr   2.1.2     v forcats 0.5.1\n",
      "│ -- Conflicts ------------------------------------------ tidyverse_conflicts() --\n",
      "│ x dplyr::filter() masks stats::filter()\n",
      "│ x dplyr::lag()    masks stats::lag()\n",
      "└ @ RCall D:\\.julia\\packages\\RCall\\6kphM\\src\\io.jl:172\n"
     ]
    },
    {
     "data": {
      "text/plain": [
       "RObject{VecSxp}\n",
       "# A tibble: 2,499 x 3\n",
       "       X     L     Y\n",
       "   <dbl> <dbl> <dbl>\n",
       " 1     0     0     0\n",
       " 2     0     0     0\n",
       " 3     0     0     0\n",
       " 4     0     0     0\n",
       " 5     0     0     0\n",
       " 6     0     0     0\n",
       " 7     0     0     0\n",
       " 8     0     0     0\n",
       " 9     0     0     0\n",
       "10     0     0     0\n",
       "# ... with 2,489 more rows\n"
      ]
     },
     "execution_count": 2,
     "metadata": {},
     "output_type": "execute_result"
    }
   ],
   "source": [
    "R\"\"\"\n",
    "library(tidyverse)\n",
    "\n",
    "df.forMH <- tribble(\n",
    "  ~X, ~L, ~Y, ~n,\n",
    "  0, 0, 0, 325,\n",
    "  0, 0, 1, 273,\n",
    "  0, 1, 0, 324,\n",
    "  0, 1, 1, 363,\n",
    "  1, 0, 0, 292,\n",
    "  1, 0, 1, 321,\n",
    "  1, 1, 0, 278,\n",
    "  1, 1, 1, 323\n",
    ")\n",
    "\n",
    "df.MH1 <- uncount(df.forMH, weights = n)\n",
    "\"\"\""
   ]
  },
  {
   "cell_type": "code",
   "execution_count": 3,
   "id": "43c846ee-8abc-4829-8e04-80a51bc2a15f",
   "metadata": {},
   "outputs": [
    {
     "data": {
      "text/plain": [
       "RObject{IntSxp}\n",
       ", , L = 0\n",
       "\n",
       "   Y\n",
       "X     0   1\n",
       "  0 325 273\n",
       "  1 292 321\n",
       "\n",
       ", , L = 1\n",
       "\n",
       "   Y\n",
       "X     0   1\n",
       "  0 324 363\n",
       "  1 278 323\n",
       "\n"
      ]
     },
     "execution_count": 3,
     "metadata": {},
     "output_type": "execute_result"
    }
   ],
   "source": [
    "R\"\"\"\n",
    "library(samplesizeCMH)\n",
    "\n",
    "partial_tables <- table(df.MH1[,c(\"X\",\"Y\",\"L\")])\n",
    "partial_tables\n",
    "\"\"\""
   ]
  },
  {
   "cell_type": "code",
   "execution_count": 4,
   "id": "1d4a15be-5358-473a-a3d9-e3d747684234",
   "metadata": {},
   "outputs": [
    {
     "data": {
      "text/plain": [
       "RObject{VecSxp}\n",
       "\n",
       "\tMantel-Haenszel chi-squared test with continuity correction\n",
       "\n",
       "data:  partial_tables\n",
       "Mantel-Haenszel X-squared = 3.319, df = 1, p-value = 0.06848\n",
       "alternative hypothesis: true common odds ratio is not equal to 1\n",
       "95 percent confidence interval:\n",
       " 0.9921162 1.3588118\n",
       "sample estimates:\n",
       "common odds ratio \n",
       "         1.161077 \n",
       "\n"
      ]
     },
     "execution_count": 4,
     "metadata": {},
     "output_type": "execute_result"
    }
   ],
   "source": [
    "R\"\"\"\n",
    "result_mh <- mantelhaen.test(partial_tables)\n",
    "\"\"\""
   ]
  },
  {
   "cell_type": "code",
   "execution_count": 5,
   "id": "c7d86470-646f-41ee-8b51-87a53770b8d6",
   "metadata": {},
   "outputs": [
    {
     "data": {
      "text/plain": [
       "RObject{VecSxp}\n",
       "MODEL INFO:\n",
       "Observations: 2499\n",
       "Dependent Variable: Y\n",
       "Type: Generalized linear model\n",
       "  Family: binomial \n",
       "  Link function: logit \n",
       "\n",
       "MODEL FIT:\n",
       "χ²(2) = 7.90056, p = 0.01925\n",
       "Pseudo-R² (Cragg-Uhler) = 0.00421\n",
       "Pseudo-R² (McFadden) = 0.00228\n",
       "AIC = 3460.95990, BIC = 3478.43084 \n",
       "\n",
       "Standard errors: MLE\n",
       "----------------------------------------------------------------------\n",
       "                    exp(Est.)      2.5%     97.5%     z val.         p\n",
       "----------------- ----------- --------- --------- ---------- ---------\n",
       "(Intercept)           0.89251   0.77739   1.02469   -1.61387   0.10656\n",
       "X                     1.16124   0.99218   1.35911    1.86222   0.06257\n",
       "L                     1.19097   1.01759   1.39389    2.17714   0.02947\n",
       "----------------------------------------------------------------------\n"
      ]
     },
     "execution_count": 5,
     "metadata": {},
     "output_type": "execute_result"
    }
   ],
   "source": [
    "R\"\"\"\n",
    "mantelhaen.test(partial_tables)\n",
    "\n",
    "library(jtools)\n",
    "log.model <- glm(Y ~ X + L, data=df.MH1, family = binomial)\n",
    "result_logistic <- summ(log.model, exp=T, digits=5)\n",
    "\"\"\""
   ]
  },
  {
   "cell_type": "code",
   "execution_count": 6,
   "id": "23bc3095-a9cb-4263-9bf2-7288b49d53f3",
   "metadata": {
    "tags": []
   },
   "outputs": [
    {
     "data": {
      "text/html": [
       "<div class=\"data-frame\"><p>2,499 rows × 3 columns</p><table class=\"data-frame\"><thead><tr><th></th><th>X</th><th>L</th><th>Y</th></tr><tr><th></th><th title=\"Float64\">Float64</th><th title=\"Float64\">Float64</th><th title=\"Float64\">Float64</th></tr></thead><tbody><tr><th>1</th><td>0.0</td><td>0.0</td><td>0.0</td></tr><tr><th>2</th><td>0.0</td><td>0.0</td><td>0.0</td></tr><tr><th>3</th><td>0.0</td><td>0.0</td><td>0.0</td></tr><tr><th>4</th><td>0.0</td><td>0.0</td><td>0.0</td></tr><tr><th>5</th><td>0.0</td><td>0.0</td><td>0.0</td></tr><tr><th>6</th><td>0.0</td><td>0.0</td><td>0.0</td></tr><tr><th>7</th><td>0.0</td><td>0.0</td><td>0.0</td></tr><tr><th>8</th><td>0.0</td><td>0.0</td><td>0.0</td></tr><tr><th>9</th><td>0.0</td><td>0.0</td><td>0.0</td></tr><tr><th>10</th><td>0.0</td><td>0.0</td><td>0.0</td></tr><tr><th>11</th><td>0.0</td><td>0.0</td><td>0.0</td></tr><tr><th>12</th><td>0.0</td><td>0.0</td><td>0.0</td></tr><tr><th>13</th><td>0.0</td><td>0.0</td><td>0.0</td></tr><tr><th>14</th><td>0.0</td><td>0.0</td><td>0.0</td></tr><tr><th>15</th><td>0.0</td><td>0.0</td><td>0.0</td></tr><tr><th>16</th><td>0.0</td><td>0.0</td><td>0.0</td></tr><tr><th>17</th><td>0.0</td><td>0.0</td><td>0.0</td></tr><tr><th>18</th><td>0.0</td><td>0.0</td><td>0.0</td></tr><tr><th>19</th><td>0.0</td><td>0.0</td><td>0.0</td></tr><tr><th>20</th><td>0.0</td><td>0.0</td><td>0.0</td></tr><tr><th>21</th><td>0.0</td><td>0.0</td><td>0.0</td></tr><tr><th>22</th><td>0.0</td><td>0.0</td><td>0.0</td></tr><tr><th>23</th><td>0.0</td><td>0.0</td><td>0.0</td></tr><tr><th>24</th><td>0.0</td><td>0.0</td><td>0.0</td></tr><tr><th>25</th><td>0.0</td><td>0.0</td><td>0.0</td></tr><tr><th>26</th><td>0.0</td><td>0.0</td><td>0.0</td></tr><tr><th>27</th><td>0.0</td><td>0.0</td><td>0.0</td></tr><tr><th>28</th><td>0.0</td><td>0.0</td><td>0.0</td></tr><tr><th>29</th><td>0.0</td><td>0.0</td><td>0.0</td></tr><tr><th>30</th><td>0.0</td><td>0.0</td><td>0.0</td></tr><tr><th>&vellip;</th><td>&vellip;</td><td>&vellip;</td><td>&vellip;</td></tr></tbody></table></div>"
      ],
      "text/latex": [
       "\\begin{tabular}{r|ccc}\n",
       "\t& X & L & Y\\\\\n",
       "\t\\hline\n",
       "\t& Float64 & Float64 & Float64\\\\\n",
       "\t\\hline\n",
       "\t1 & 0.0 & 0.0 & 0.0 \\\\\n",
       "\t2 & 0.0 & 0.0 & 0.0 \\\\\n",
       "\t3 & 0.0 & 0.0 & 0.0 \\\\\n",
       "\t4 & 0.0 & 0.0 & 0.0 \\\\\n",
       "\t5 & 0.0 & 0.0 & 0.0 \\\\\n",
       "\t6 & 0.0 & 0.0 & 0.0 \\\\\n",
       "\t7 & 0.0 & 0.0 & 0.0 \\\\\n",
       "\t8 & 0.0 & 0.0 & 0.0 \\\\\n",
       "\t9 & 0.0 & 0.0 & 0.0 \\\\\n",
       "\t10 & 0.0 & 0.0 & 0.0 \\\\\n",
       "\t11 & 0.0 & 0.0 & 0.0 \\\\\n",
       "\t12 & 0.0 & 0.0 & 0.0 \\\\\n",
       "\t13 & 0.0 & 0.0 & 0.0 \\\\\n",
       "\t14 & 0.0 & 0.0 & 0.0 \\\\\n",
       "\t15 & 0.0 & 0.0 & 0.0 \\\\\n",
       "\t16 & 0.0 & 0.0 & 0.0 \\\\\n",
       "\t17 & 0.0 & 0.0 & 0.0 \\\\\n",
       "\t18 & 0.0 & 0.0 & 0.0 \\\\\n",
       "\t19 & 0.0 & 0.0 & 0.0 \\\\\n",
       "\t20 & 0.0 & 0.0 & 0.0 \\\\\n",
       "\t21 & 0.0 & 0.0 & 0.0 \\\\\n",
       "\t22 & 0.0 & 0.0 & 0.0 \\\\\n",
       "\t23 & 0.0 & 0.0 & 0.0 \\\\\n",
       "\t24 & 0.0 & 0.0 & 0.0 \\\\\n",
       "\t25 & 0.0 & 0.0 & 0.0 \\\\\n",
       "\t26 & 0.0 & 0.0 & 0.0 \\\\\n",
       "\t27 & 0.0 & 0.0 & 0.0 \\\\\n",
       "\t28 & 0.0 & 0.0 & 0.0 \\\\\n",
       "\t29 & 0.0 & 0.0 & 0.0 \\\\\n",
       "\t30 & 0.0 & 0.0 & 0.0 \\\\\n",
       "\t$\\dots$ & $\\dots$ & $\\dots$ & $\\dots$ \\\\\n",
       "\\end{tabular}\n"
      ],
      "text/plain": [
       "\u001b[1m2499×3 DataFrame\u001b[0m\n",
       "\u001b[1m  Row \u001b[0m│\u001b[1m X       \u001b[0m\u001b[1m L       \u001b[0m\u001b[1m Y       \u001b[0m\n",
       "\u001b[1m      \u001b[0m│\u001b[90m Float64 \u001b[0m\u001b[90m Float64 \u001b[0m\u001b[90m Float64 \u001b[0m\n",
       "──────┼───────────────────────────\n",
       "    1 │     0.0      0.0      0.0\n",
       "    2 │     0.0      0.0      0.0\n",
       "    3 │     0.0      0.0      0.0\n",
       "    4 │     0.0      0.0      0.0\n",
       "    5 │     0.0      0.0      0.0\n",
       "    6 │     0.0      0.0      0.0\n",
       "    7 │     0.0      0.0      0.0\n",
       "    8 │     0.0      0.0      0.0\n",
       "    9 │     0.0      0.0      0.0\n",
       "   10 │     0.0      0.0      0.0\n",
       "   11 │     0.0      0.0      0.0\n",
       "  ⋮   │    ⋮        ⋮        ⋮\n",
       " 2490 │     1.0      1.0      1.0\n",
       " 2491 │     1.0      1.0      1.0\n",
       " 2492 │     1.0      1.0      1.0\n",
       " 2493 │     1.0      1.0      1.0\n",
       " 2494 │     1.0      1.0      1.0\n",
       " 2495 │     1.0      1.0      1.0\n",
       " 2496 │     1.0      1.0      1.0\n",
       " 2497 │     1.0      1.0      1.0\n",
       " 2498 │     1.0      1.0      1.0\n",
       " 2499 │     1.0      1.0      1.0\n",
       "\u001b[36m                 2478 rows omitted\u001b[0m"
      ]
     },
     "execution_count": 6,
     "metadata": {},
     "output_type": "execute_result"
    }
   ],
   "source": [
    "R\"df_MH1 <- df.MH1\"\n",
    "@rget df_MH1"
   ]
  },
  {
   "cell_type": "code",
   "execution_count": 7,
   "id": "cb4e0fb7-0333-40b4-ad88-674a9ffd253b",
   "metadata": {},
   "outputs": [
    {
     "data": {
      "text/plain": [
       "2×2×2 Array{Int64, 3}:\n",
       "[:, :, 1] =\n",
       " 325  273\n",
       " 292  321\n",
       "\n",
       "[:, :, 2] =\n",
       " 324  363\n",
       " 278  323"
      ]
     },
     "execution_count": 7,
     "metadata": {},
     "output_type": "execute_result"
    }
   ],
   "source": [
    "@rget partial_tables"
   ]
  },
  {
   "cell_type": "code",
   "execution_count": null,
   "id": "c544324f-982a-4bde-9994-65ad0b8d0d2a",
   "metadata": {},
   "outputs": [],
   "source": []
  }
 ],
 "metadata": {
  "kernelspec": {
   "display_name": "Julia 1.8.0-beta1",
   "language": "julia",
   "name": "julia-1.8"
  },
  "language_info": {
   "file_extension": ".jl",
   "mimetype": "application/julia",
   "name": "julia",
   "version": "1.8.0"
  }
 },
 "nbformat": 4,
 "nbformat_minor": 5
}
