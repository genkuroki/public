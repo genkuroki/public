{
 "cells": [
  {
   "cell_type": "code",
   "execution_count": 1,
   "id": "73efb7f0-7fd6-4bc1-ae5b-652586d1975d",
   "metadata": {},
   "outputs": [
    {
     "name": "stdout",
     "output_type": "stream",
     "text": [
      "quadgk(f, 0, 5) = (106.24999999999997, 1.4210854715202004e-14)\n",
      "quadgk(f, 5, 0) = (-106.25, 0.0)\n",
      "quadgk(g, 0, 5) = (-106.25, 0.0)\n"
     ]
    }
   ],
   "source": [
    "using QuadGK\n",
    "\n",
    "f(x) = (x + 2) * x * (x - 2)\n",
    "g(x) = -f(5 - x)\n",
    "\n",
    "@show quadgk(f, 0, 5)\n",
    "@show quadgk(f, 5, 0)\n",
    "@show quadgk(g, 0, 5);"
   ]
  },
  {
   "cell_type": "code",
   "execution_count": null,
   "id": "163955d7-2f6a-414b-a5b1-245430e5e3e7",
   "metadata": {},
   "outputs": [],
   "source": []
  }
 ],
 "metadata": {
  "jupytext": {
   "formats": "ipynb,auto:hydrogen"
  },
  "kernelspec": {
   "display_name": "Julia 1.6.2",
   "language": "julia",
   "name": "julia-1.6"
  },
  "language_info": {
   "file_extension": ".jl",
   "mimetype": "application/julia",
   "name": "julia",
   "version": "1.6.2"
  }
 },
 "nbformat": 4,
 "nbformat_minor": 5
}
