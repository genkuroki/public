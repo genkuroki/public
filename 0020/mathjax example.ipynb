{
 "cells": [
  {
   "cell_type": "markdown",
   "id": "617b4649-f865-4c59-a6e7-b854a54dc933",
   "metadata": {},
   "source": [
    "$$\n",
    "R_{\\mu\\nu} - \\frac{1}{2}g_{\\mu\\nu}R = \\frac{8\\pi G}{c^4}T_{\\mu\\nu}\n",
    "$$"
   ]
  },
  {
   "cell_type": "code",
   "execution_count": 1,
   "id": "30373226-09e1-4bdd-858a-64c21b0aafaf",
   "metadata": {},
   "outputs": [
    {
     "data": {
      "text/html": [
       "<blockquote class=\"twitter-tweet\"><p lang=\"ja\" dir=\"ltr\">LaTeX初心者に2時間かそこらの講習でこの課題は難しいですかね… <a href=\"https://t.co/KBb4ge2NHa\">pic.twitter.com/KBb4ge2NHa</a></p>&mdash; ジタさん (@fujitapiroc1964) <a href=\"https://twitter.com/fujitapiroc1964/status/1436641682234114055?ref_src=twsrc%5Etfw\">September 11, 2021</a></blockquote>\n",
       "<script async src=\"https://platform.twitter.com/widgets.js\" charset=\"utf-8\"></script>\n"
      ],
      "text/plain": [
       "HTML{String}(\"<blockquote class=\\\"twitter-tweet\\\"><p lang=\\\"ja\\\" dir=\\\"ltr\\\">LaTeX初心者に2時間かそこらの講習でこの課題は難しいですかね… <a href=\\\"https://t.co/KBb4ge2NHa\\\">pic.twitter.com/KBb4ge2NHa</a></p>&mdash; ジタさん (@fujitapiroc1964) <a href=\\\"https://twitter.com/fujitapiroc1964/status/1436641682234114055?ref_src=twsrc%5Etfw\\\">September 11, 2021</a></blockquote>\\n<script async src=\\\"https://platform.twitter.com/widgets.js\\\" charset=\\\"utf-8\\\"></script>\\n\")"
      ]
     },
     "execution_count": 1,
     "metadata": {},
     "output_type": "execute_result"
    }
   ],
   "source": [
    "# https://nbviewer.jupyter.org/urls/gist.githubusercontent.com/terasakisatoshi/e4af4f618161d87cdc288285585527c5/raw/3a50de35748be12ab6461156440685052aadfcd2/hexagon_something.ipynb\n",
    "\n",
    "using HTTP, JSON\n",
    "function display_tweet(link)\n",
    "    api = \"https://publish.twitter.com/oembed?url=$link\"\n",
    "    r = response = HTTP.request(\"GET\", api);\n",
    "    j = JSON.parse(String(r.body))\n",
    "    HTML(j[\"html\"])\n",
    "end\n",
    "display_tweet(\"https://twitter.com/fujitapiroc1964/status/1436641682234114055\")"
   ]
  },
  {
   "cell_type": "code",
   "execution_count": null,
   "id": "488ec931-8773-4ad7-8784-7566989d1f99",
   "metadata": {},
   "outputs": [],
   "source": []
  }
 ],
 "metadata": {
  "jupytext": {
   "formats": "ipynb,auto:hydrogen"
  },
  "kernelspec": {
   "display_name": "Julia 1.6.2",
   "language": "julia",
   "name": "julia-1.6"
  },
  "language_info": {
   "file_extension": ".jl",
   "mimetype": "application/julia",
   "name": "julia",
   "version": "1.6.2"
  }
 },
 "nbformat": 4,
 "nbformat_minor": 5
}
