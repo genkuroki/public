{
 "cells": [
  {
   "cell_type": "code",
   "execution_count": 1,
   "id": "0a08ae4a-8201-4797-bfb6-42b7d8dfd9be",
   "metadata": {},
   "outputs": [
    {
     "name": "stdout",
     "output_type": "stream",
     "text": [
      "VERSION = v\"1.6.2\"\n",
      "f(5, nt) = 38\n"
     ]
    }
   ],
   "source": [
    "@show VERSION\n",
    "\n",
    "using Symbolics\n",
    "@variables a b c x\n",
    "y = a*x^2 + b*x + c\n",
    "f = build_function(y, x, (a, b, c); expression = Val(false))\n",
    "nt = (a = 1, b = 2, c = 3, d = 4)\n",
    "@show f(5, nt);"
   ]
  },
  {
   "cell_type": "code",
   "execution_count": 2,
   "id": "f2c63344-c20a-4d12-b3f0-2b9890ad460f",
   "metadata": {},
   "outputs": [
    {
     "data": {
      "text/plain": [
       "(a = a, b = b, c = c)"
      ]
     },
     "execution_count": 2,
     "metadata": {},
     "output_type": "execute_result"
    }
   ],
   "source": [
    "(; a, b, c)"
   ]
  },
  {
   "cell_type": "code",
   "execution_count": 1,
   "id": "aec1c854-9082-49b4-a5e1-54f10ee1c3b1",
   "metadata": {},
   "outputs": [
    {
     "name": "stdout",
     "output_type": "stream",
     "text": [
      "VERSION = v\"1.7.0-beta4\"\n",
      "f(5, nt) = 38\n"
     ]
    }
   ],
   "source": [
    "@show VERSION\n",
    "\n",
    "using Symbolics\n",
    "@variables a b c x\n",
    "y = a*x^2 + b*x + c\n",
    "_f = build_function(y, x, (a, b, c); expression = Val(false))\n",
    "f = let _f = _f; f(x, (; a, b, c)) = _f(x, (a, b, c)) end\n",
    "nt = (a = 1, b = 2, c = 3, d = 4)\n",
    "@show f(5, nt);"
   ]
  },
  {
   "cell_type": "code",
   "execution_count": 2,
   "id": "cfdeb6ff-dab0-4c14-8376-5608414e5541",
   "metadata": {},
   "outputs": [
    {
     "name": "stdout",
     "output_type": "stream",
     "text": [
      "VERSION = v\"1.7.0-beta4\"\n",
      "f(5, foo) = 38\n"
     ]
    }
   ],
   "source": [
    "@show VERSION\n",
    "\n",
    "using Symbolics\n",
    "@variables a b c x\n",
    "y = a*x^2 + b*x + c\n",
    "_f = build_function(y, x, (a, b, c); expression = Val(false))\n",
    "f = let _f = _f; f(x, (; a, b, c)) = _f(x, (a, b, c)) end\n",
    "struct Foo{T} a::T; b::T; c::T; d::T end\n",
    "foo = Foo(1, 2, 3, 4)\n",
    "@show f(5, foo);"
   ]
  },
  {
   "cell_type": "code",
   "execution_count": null,
   "id": "6855f699-2f9a-4f8c-81fb-b8732dcbf9b0",
   "metadata": {},
   "outputs": [],
   "source": []
  }
 ],
 "metadata": {
  "kernelspec": {
   "display_name": "Julia 1.6.2",
   "language": "julia",
   "name": "julia-1.6"
  },
  "language_info": {
   "file_extension": ".jl",
   "mimetype": "application/julia",
   "name": "julia",
   "version": "1.6.2"
  }
 },
 "nbformat": 4,
 "nbformat_minor": 5
}
