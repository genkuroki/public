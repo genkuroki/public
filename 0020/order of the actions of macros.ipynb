{
 "cells": [
  {
   "cell_type": "code",
   "execution_count": 1,
   "id": "ec3bc18d-de41-49b8-a3a6-96e4206535b8",
   "metadata": {},
   "outputs": [
    {
     "data": {
      "text/plain": [
       "@foo (macro with 1 method)"
      ]
     },
     "execution_count": 1,
     "metadata": {},
     "output_type": "execute_result"
    }
   ],
   "source": [
    "_foo(expr) = expr\n",
    "_foo(expr::Symbol) = :foo\n",
    "function _foo(expr::Expr)\n",
    "    if expr.head === :macrocall\n",
    "        Expr(expr.head, expr.args[1], _foo.(expr.args[2:end])...)\n",
    "    else\n",
    "        Expr(expr.head, _foo.(expr.args)...)\n",
    "    end\n",
    "end\n",
    "\n",
    "macro foo(expr)\n",
    "    _foo(expr) |> esc\n",
    "end"
   ]
  },
  {
   "cell_type": "code",
   "execution_count": 2,
   "id": "65f55728-d570-4a38-9b33-257076000aaf",
   "metadata": {},
   "outputs": [
    {
     "data": {
      "text/plain": [
       "@bar (macro with 1 method)"
      ]
     },
     "execution_count": 2,
     "metadata": {},
     "output_type": "execute_result"
    }
   ],
   "source": [
    "_bar(expr) = expr\n",
    "_bar(expr::Symbol) = :bar\n",
    "function _bar(expr::Expr)\n",
    "    if expr.head === :macrocall\n",
    "        Expr(expr.head, expr.args[1], _bar.(expr.args[2:end])...)\n",
    "    else\n",
    "        Expr(expr.head, _bar.(expr.args)...)\n",
    "    end\n",
    "end\n",
    "\n",
    "macro bar(expr)\n",
    "    _bar(expr) |> esc\n",
    "end"
   ]
  },
  {
   "cell_type": "code",
   "execution_count": 3,
   "id": "af94d644-12c0-40be-be75-3c2de1beb0ac",
   "metadata": {},
   "outputs": [
    {
     "data": {
      "text/plain": [
       ":(foo(foo))"
      ]
     },
     "execution_count": 3,
     "metadata": {},
     "output_type": "execute_result"
    }
   ],
   "source": [
    "@macroexpand @foo hoge(x)"
   ]
  },
  {
   "cell_type": "code",
   "execution_count": 4,
   "id": "a3c27173-b202-4312-9307-219bac1dca74",
   "metadata": {},
   "outputs": [
    {
     "data": {
      "text/plain": [
       ":(bar(bar))"
      ]
     },
     "execution_count": 4,
     "metadata": {},
     "output_type": "execute_result"
    }
   ],
   "source": [
    "@macroexpand @bar hoge(x)"
   ]
  },
  {
   "cell_type": "code",
   "execution_count": 5,
   "id": "900d9888-d37d-491d-8486-afb5001bbb13",
   "metadata": {},
   "outputs": [
    {
     "data": {
      "text/plain": [
       ":(foo(foo))"
      ]
     },
     "execution_count": 5,
     "metadata": {},
     "output_type": "execute_result"
    }
   ],
   "source": [
    "@macroexpand @bar @foo hoge(x)"
   ]
  },
  {
   "cell_type": "code",
   "execution_count": 6,
   "id": "ada29faf-cd2a-4c1c-8dc4-7b35158fa297",
   "metadata": {},
   "outputs": [
    {
     "data": {
      "text/plain": [
       ":(hoge(bar))"
      ]
     },
     "execution_count": 6,
     "metadata": {},
     "output_type": "execute_result"
    }
   ],
   "source": [
    "@macroexpand hoge(@foo @bar x)"
   ]
  },
  {
   "cell_type": "code",
   "execution_count": 7,
   "id": "d820b742-e648-48b8-8f4c-faf58c284030",
   "metadata": {},
   "outputs": [
    {
     "data": {
      "text/plain": [
       "foo (generic function with 1 method)"
      ]
     },
     "execution_count": 7,
     "metadata": {},
     "output_type": "execute_result"
    }
   ],
   "source": [
    "foo(x) = \"foo\""
   ]
  },
  {
   "cell_type": "code",
   "execution_count": 8,
   "id": "ed6229bd-8191-45e2-a538-ba899cd42c0a",
   "metadata": {},
   "outputs": [
    {
     "data": {
      "text/plain": [
       "bar (generic function with 1 method)"
      ]
     },
     "execution_count": 8,
     "metadata": {},
     "output_type": "execute_result"
    }
   ],
   "source": [
    "bar(x) = \"bar\""
   ]
  },
  {
   "cell_type": "code",
   "execution_count": 9,
   "id": "fd19c2d2-708f-4976-99fb-2f0fcef8f7cd",
   "metadata": {},
   "outputs": [
    {
     "data": {
      "text/plain": [
       "\"foo\""
      ]
     },
     "execution_count": 9,
     "metadata": {},
     "output_type": "execute_result"
    }
   ],
   "source": [
    "@foo hoge(x)"
   ]
  },
  {
   "cell_type": "code",
   "execution_count": 10,
   "id": "88f4503f-ddde-4d4b-9cfc-f0fab5a44abd",
   "metadata": {},
   "outputs": [
    {
     "data": {
      "text/plain": [
       "\"bar\""
      ]
     },
     "execution_count": 10,
     "metadata": {},
     "output_type": "execute_result"
    }
   ],
   "source": [
    "@bar hoge(x)"
   ]
  },
  {
   "cell_type": "code",
   "execution_count": 11,
   "id": "f91eb7f5-38f4-4a97-9350-fb008ff5f587",
   "metadata": {},
   "outputs": [
    {
     "data": {
      "text/plain": [
       "\"foo\""
      ]
     },
     "execution_count": 11,
     "metadata": {},
     "output_type": "execute_result"
    }
   ],
   "source": [
    "@bar @foo hoge(x)"
   ]
  },
  {
   "cell_type": "code",
   "execution_count": 12,
   "id": "3cad42b2-52be-4619-bbff-1946fd6feace",
   "metadata": {},
   "outputs": [
    {
     "data": {
      "text/plain": [
       "\"bar\""
      ]
     },
     "execution_count": 12,
     "metadata": {},
     "output_type": "execute_result"
    }
   ],
   "source": [
    "@foo @bar hoge(x)"
   ]
  },
  {
   "cell_type": "code",
   "execution_count": 13,
   "id": "8af10eb8-273d-4f94-9862-682b75799821",
   "metadata": {},
   "outputs": [
    {
     "data": {
      "text/plain": [
       ":(#= In[13]:1 =# @bar foo(foo))"
      ]
     },
     "execution_count": 13,
     "metadata": {},
     "output_type": "execute_result"
    }
   ],
   "source": [
    "@macroexpand1 @foo @bar hoge(x)"
   ]
  },
  {
   "cell_type": "code",
   "execution_count": 14,
   "id": "731a4099-09f2-497e-b39d-4404fc04f1bb",
   "metadata": {},
   "outputs": [
    {
     "data": {
      "text/plain": [
       ":(bar(bar))"
      ]
     },
     "execution_count": 14,
     "metadata": {},
     "output_type": "execute_result"
    }
   ],
   "source": [
    "@macroexpand @foo @bar hoge(x)"
   ]
  },
  {
   "cell_type": "code",
   "execution_count": null,
   "id": "33929617-18fa-43b1-bc77-1784c8f433ed",
   "metadata": {},
   "outputs": [],
   "source": []
  }
 ],
 "metadata": {
  "jupytext": {
   "formats": "ipynb,auto:hydrogen"
  },
  "kernelspec": {
   "display_name": "Julia 1.6.2",
   "language": "julia",
   "name": "julia-1.6"
  },
  "language_info": {
   "file_extension": ".jl",
   "mimetype": "application/julia",
   "name": "julia",
   "version": "1.6.2"
  }
 },
 "nbformat": 4,
 "nbformat_minor": 5
}
