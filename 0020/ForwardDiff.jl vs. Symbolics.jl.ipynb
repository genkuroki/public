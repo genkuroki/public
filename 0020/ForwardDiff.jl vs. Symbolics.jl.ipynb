{
 "cells": [
  {
   "cell_type": "code",
   "execution_count": 68,
   "id": "9d8e6ced-524c-44fc-87c9-bcf839d74a94",
   "metadata": {},
   "outputs": [],
   "source": [
    "using LinearAlgebra\n",
    "using ForwardDiff\n",
    "using Symbolics\n",
    "using StaticArrays\n",
    "using BenchmarkTools"
   ]
  },
  {
   "cell_type": "code",
   "execution_count": 2,
   "id": "2f3fe083-0a12-4926-baa2-1694c5f393fd",
   "metadata": {},
   "outputs": [
    {
     "data": {
      "text/plain": [
       "f (generic function with 1 method)"
      ]
     },
     "execution_count": 2,
     "metadata": {},
     "output_type": "execute_result"
    }
   ],
   "source": [
    "function f(x)\n",
    "    @show x\n",
    "    @show zero(x)\n",
    "    @assert x > zero(x)\n",
    "    sin(x)/x\n",
    "end"
   ]
  },
  {
   "cell_type": "code",
   "execution_count": 3,
   "id": "c9aadcc0-5e1b-4c72-8ac8-c78674fc2082",
   "metadata": {},
   "outputs": [
    {
     "name": "stdout",
     "output_type": "stream",
     "text": [
      "x = Dual{ForwardDiff.Tag{typeof(f), Float64}}(1.0,1.0)\n",
      "zero(x) = Dual{ForwardDiff.Tag{typeof(f), Float64}}(0.0,0.0)\n"
     ]
    },
    {
     "data": {
      "text/plain": [
       "-0.30116867893975674"
      ]
     },
     "execution_count": 3,
     "metadata": {},
     "output_type": "execute_result"
    }
   ],
   "source": [
    "ForwardDiff.derivative(f, 1.0)"
   ]
  },
  {
   "cell_type": "code",
   "execution_count": 4,
   "id": "d3e182ae-641a-431a-b4fb-abb62283a488",
   "metadata": {},
   "outputs": [
    {
     "data": {
      "text/plain": [
       "true"
      ]
     },
     "execution_count": 4,
     "metadata": {},
     "output_type": "execute_result"
    }
   ],
   "source": [
    "ForwardDiff.Dual{ForwardDiff.Tag{typeof(f), Float64}}(1.0,1.0) > 0"
   ]
  },
  {
   "cell_type": "code",
   "execution_count": 5,
   "id": "38f846b4-e8a9-4cff-a08e-8df4ac1c8370",
   "metadata": {},
   "outputs": [
    {
     "data": {
      "text/plain": [
       "Main.My"
      ]
     },
     "execution_count": 5,
     "metadata": {},
     "output_type": "execute_result"
    }
   ],
   "source": [
    "module My\n",
    "\n",
    "struct Foo{T}\n",
    "    a::T\n",
    "    b::T\n",
    "end\n",
    "    \n",
    "end"
   ]
  },
  {
   "cell_type": "code",
   "execution_count": 6,
   "id": "622662a4-1698-40cd-b934-59d874ca5ad8",
   "metadata": {},
   "outputs": [
    {
     "data": {
      "text/html": [
       "# 1 method for type constructor:<ul><li> Main.My.Foo(a::<b>T</b>, b::<b>T</b>)<i> where T</i> in Main.My at In[5]:4</li> </ul>"
      ],
      "text/plain": [
       "# 1 method for type constructor:\n",
       "[1] Main.My.Foo(a::T, b::T) where T in Main.My at In[5]:4"
      ]
     },
     "execution_count": 6,
     "metadata": {},
     "output_type": "execute_result"
    }
   ],
   "source": [
    "methods(My.Foo)"
   ]
  },
  {
   "cell_type": "code",
   "execution_count": 7,
   "id": "f2d85ab6-134b-4d98-8954-726b05217ca4",
   "metadata": {},
   "outputs": [
    {
     "data": {
      "text/html": [
       "# 1 method for type constructor:<ul><li> Main.My.Foo{T}(a, b)<i> where T</i> in Main.My at In[5]:4</li> </ul>"
      ],
      "text/plain": [
       "# 1 method for type constructor:\n",
       "[1] Main.My.Foo{T}(a, b) where T in Main.My at In[5]:4"
      ]
     },
     "execution_count": 7,
     "metadata": {},
     "output_type": "execute_result"
    }
   ],
   "source": [
    "methods(My.Foo{Int})"
   ]
  },
  {
   "cell_type": "code",
   "execution_count": 8,
   "id": "da1d6195-3f5e-421d-8727-be7a688908d3",
   "metadata": {},
   "outputs": [],
   "source": [
    "My.Foo(a::T, b::T) where T<:Real = My.Foo{T}(a, b)"
   ]
  },
  {
   "cell_type": "code",
   "execution_count": 9,
   "id": "ad540f2a-7bdc-4190-9170-d9fcc081e9bf",
   "metadata": {},
   "outputs": [
    {
     "data": {
      "text/html": [
       "# 2 methods for type constructor:<ul><li> Main.My.Foo(a::<b>T</b>, b::<b>T</b>)<i> where T<:Real</i> in Main at In[8]:1</li> <li> Main.My.Foo(a::<b>T</b>, b::<b>T</b>)<i> where T</i> in Main.My at In[5]:4</li> </ul>"
      ],
      "text/plain": [
       "# 2 methods for type constructor:\n",
       "[1] Main.My.Foo(a::T, b::T) where T<:Real in Main at In[8]:1\n",
       "[2] Main.My.Foo(a::T, b::T) where T in Main.My at In[5]:4"
      ]
     },
     "execution_count": 9,
     "metadata": {},
     "output_type": "execute_result"
    }
   ],
   "source": [
    "methods(My.Foo)"
   ]
  },
  {
   "cell_type": "code",
   "execution_count": 10,
   "id": "050155b6-7dc7-43c0-b4ed-269c242595c8",
   "metadata": {},
   "outputs": [
    {
     "data": {
      "text/html": [
       "Main.My.Foo(a::<b>T</b>, b::<b>T</b>)<i> where T</i> in Main.My at In[5]:4"
      ],
      "text/plain": [
       "Main.My.Foo(a::T, b::T) where T in Main.My at In[5]:4"
      ]
     },
     "execution_count": 10,
     "metadata": {},
     "output_type": "execute_result"
    }
   ],
   "source": [
    "@which My.Foo(1im, 2im)"
   ]
  },
  {
   "cell_type": "code",
   "execution_count": 11,
   "id": "69cd5e99-a020-490e-90e5-dd4af0957e46",
   "metadata": {},
   "outputs": [
    {
     "data": {
      "text/html": [
       "Main.My.Foo(a::<b>T</b>, b::<b>T</b>)<i> where T<:Real</i> in Main at In[8]:1"
      ],
      "text/plain": [
       "Main.My.Foo(a::T, b::T) where T<:Real in Main at In[8]:1"
      ]
     },
     "execution_count": 11,
     "metadata": {},
     "output_type": "execute_result"
    }
   ],
   "source": [
    "@which My.Foo(1, 2)"
   ]
  },
  {
   "cell_type": "code",
   "execution_count": 50,
   "id": "b8409087-3bdf-452f-9dae-c501fcc894f6",
   "metadata": {},
   "outputs": [
    {
     "data": {
      "text/plain": [
       "G (generic function with 1 method)"
      ]
     },
     "execution_count": 50,
     "metadata": {},
     "output_type": "execute_result"
    }
   ],
   "source": [
    "G(x, A) = exp(-dot(x, A, x)/2)"
   ]
  },
  {
   "cell_type": "code",
   "execution_count": 15,
   "id": "0794228f-6e85-4998-b570-4108cf182c0b",
   "metadata": {},
   "outputs": [],
   "source": [
    "struct Bar{F, G}\n",
    "    f::F\n",
    "    ∇f::G\n",
    "end"
   ]
  },
  {
   "cell_type": "code",
   "execution_count": 16,
   "id": "4fe4d97b-4ca4-4a8c-a208-3afa752019c7",
   "metadata": {},
   "outputs": [
    {
     "data": {
      "text/plain": [
       "Bar"
      ]
     },
     "execution_count": 16,
     "metadata": {},
     "output_type": "execute_result"
    }
   ],
   "source": [
    "function Bar(f)\n",
    "    ∇f(x, param) = ForwardDiff.gradient(x -> f(x, param), x)\n",
    "    Bar(f, ∇f)\n",
    "end"
   ]
  },
  {
   "cell_type": "code",
   "execution_count": 20,
   "id": "035d97cd-d25f-4220-b237-432d80a51f4a",
   "metadata": {},
   "outputs": [
    {
     "data": {
      "text/plain": [
       "Bar{typeof(G), var\"#∇f#2\"{typeof(G)}}(G, var\"#∇f#2\"{typeof(G)}(G))"
      ]
     },
     "execution_count": 20,
     "metadata": {},
     "output_type": "execute_result"
    }
   ],
   "source": [
    "bar = Bar(G)"
   ]
  },
  {
   "cell_type": "code",
   "execution_count": 25,
   "id": "b2cfd698-5182-4ea5-bfe2-6c8a0725a74b",
   "metadata": {},
   "outputs": [
    {
     "data": {
      "text/plain": [
       "2×2 SMatrix{2, 2, Int64, 4} with indices SOneTo(2)×SOneTo(2):\n",
       "  2  -1\n",
       " -1   2"
      ]
     },
     "execution_count": 25,
     "metadata": {},
     "output_type": "execute_result"
    }
   ],
   "source": [
    "A = SA[\n",
    "    2 -1\n",
    "    -1 2\n",
    "]"
   ]
  },
  {
   "cell_type": "code",
   "execution_count": 26,
   "id": "6e053fd5-c70c-45f6-b7c5-40b6f8221d45",
   "metadata": {},
   "outputs": [
    {
     "data": {
      "text/plain": [
       "0.049787068367863944"
      ]
     },
     "execution_count": 26,
     "metadata": {},
     "output_type": "execute_result"
    }
   ],
   "source": [
    "bar.f(SA[1, 2], A)"
   ]
  },
  {
   "cell_type": "code",
   "execution_count": 27,
   "id": "5edb2197-7de4-474c-8b6e-fceb550e3b8a",
   "metadata": {},
   "outputs": [
    {
     "data": {
      "text/plain": [
       "2-element SVector{2, Float64} with indices SOneTo(2):\n",
       "  0.0\n",
       " -0.14936120510359183"
      ]
     },
     "execution_count": 27,
     "metadata": {},
     "output_type": "execute_result"
    }
   ],
   "source": [
    "bar.∇f(SA[1, 2], A)"
   ]
  },
  {
   "cell_type": "code",
   "execution_count": 51,
   "id": "2d7d007b-6313-43fd-8842-6a5c74ac2b11",
   "metadata": {},
   "outputs": [
    {
     "data": {
      "text/plain": [
       "2-element Vector{Symbolics.Arr{Num, N} where N}:\n",
       " a[SOneTo(2),SOneTo(2)]\n",
       " x[SOneTo(2)]"
      ]
     },
     "execution_count": 51,
     "metadata": {},
     "output_type": "execute_result"
    }
   ],
   "source": [
    "@variables a[axes(A)...], x[axes(SA[1, 2])...]"
   ]
  },
  {
   "cell_type": "code",
   "execution_count": 52,
   "id": "7dbff653-1c49-4b7b-99db-fe359b281296",
   "metadata": {},
   "outputs": [
    {
     "data": {
      "text/latex": [
       "\\begin{equation}\n",
       "\\left[\n",
       "\\begin{array}{cc}\n",
       "a{{_1}}ˏ{_1} & a{{_1}}ˏ{_2} \\\\\n",
       "a{{_2}}ˏ{_1} & a{{_2}}ˏ{_2} \\\\\n",
       "\\end{array}\n",
       "\\right]\n",
       "\\end{equation}\n"
      ],
      "text/plain": [
       "2×2 SizedMatrix{2, 2, Num, 2, Matrix{Num}} with indices SOneTo(2)×SOneTo(2):\n",
       " a[1, 1]  a[1, 2]\n",
       " a[2, 1]  a[2, 2]"
      ]
     },
     "execution_count": 52,
     "metadata": {},
     "output_type": "execute_result"
    }
   ],
   "source": [
    "aa = collect(a)"
   ]
  },
  {
   "cell_type": "code",
   "execution_count": 56,
   "id": "e0187301-42ca-4096-9b25-084f75978d1d",
   "metadata": {},
   "outputs": [
    {
     "data": {
      "text/latex": [
       "\\begin{equation}\n",
       "\\left[\n",
       "\\begin{array}{cc}\n",
       "0 & 0 \\\\\n",
       "0 & 0 \\\\\n",
       "\\end{array}\n",
       "\\right]\n",
       "\\end{equation}\n"
      ],
      "text/plain": [
       "2×2 SMatrix{2, 2, Num, 4} with indices SOneTo(2)×SOneTo(2):\n",
       " 0  0\n",
       " 0  0"
      ]
     },
     "execution_count": 56,
     "metadata": {},
     "output_type": "execute_result"
    }
   ],
   "source": [
    "collect(aa) - aa"
   ]
  },
  {
   "cell_type": "code",
   "execution_count": 32,
   "id": "dcc5b023-6049-4a84-a6ea-f0731fd480a7",
   "metadata": {},
   "outputs": [
    {
     "data": {
      "text/latex": [
       "\\begin{equation}\n",
       "\\left[\n",
       "\\begin{array}{c}\n",
       "x{_1} \\\\\n",
       "x{_2} \\\\\n",
       "\\end{array}\n",
       "\\right]\n",
       "\\end{equation}\n"
      ],
      "text/plain": [
       "2-element SizedVector{2, Num, Vector{Num}} with indices SOneTo(2):\n",
       " x[1]\n",
       " x[2]"
      ]
     },
     "execution_count": 32,
     "metadata": {},
     "output_type": "execute_result"
    }
   ],
   "source": [
    "xx = collect(x)"
   ]
  },
  {
   "cell_type": "code",
   "execution_count": 102,
   "id": "85d7c975-527f-490b-8413-04ecadefaf77",
   "metadata": {},
   "outputs": [
    {
     "data": {
      "text/latex": [
       "\\begin{equation}\n",
       "e^{ - \\frac{1}{2} \\left( x{_1} a{{_1}}ˏ{_1} + x{_2} a{{_2}}ˏ{_1} \\right) x{_1} - \\frac{1}{2} \\left( x{_1} a{{_1}}ˏ{_2} + x{_2} a{{_2}}ˏ{_2} \\right) x{_2}}\n",
       "\\end{equation}\n"
      ],
      "text/plain": [
       "exp((-1//2)*(x[1]*a[1, 1] + x[2]*a[2, 1])*x[1] - ((1//2)*(x[1]*a[1, 2] + x[2]*a[2, 2])*x[2]))"
      ]
     },
     "execution_count": 102,
     "metadata": {},
     "output_type": "execute_result"
    }
   ],
   "source": [
    "_G = G(xx, aa) # |> expand |> simplify"
   ]
  },
  {
   "cell_type": "code",
   "execution_count": 103,
   "id": "ff019f0c-7510-473b-b105-f82ac45f1471",
   "metadata": {},
   "outputs": [
    {
     "data": {
      "text/latex": [
       "\\begin{equation}\n",
       "\\left[\n",
       "\\begin{array}{c}\n",
       "\\left(  - x{_1} a{{_1}}ˏ{_1} - \\frac{1}{2} x{_2} a{{_1}}ˏ{_2} - \\frac{1}{2} x{_2} a{{_2}}ˏ{_1} \\right) e^{ - \\frac{1}{2} \\left( x{_1} a{{_1}}ˏ{_1} + x{_2} a{{_2}}ˏ{_1} \\right) x{_1} - \\frac{1}{2} \\left( x{_1} a{{_1}}ˏ{_2} + x{_2} a{{_2}}ˏ{_2} \\right) x{_2}} \\\\\n",
       "\\left(  - \\frac{1}{2} x{_1} a{{_1}}ˏ{_2} - \\frac{1}{2} x{_1} a{{_2}}ˏ{_1} - x{_2} a{{_2}}ˏ{_2} \\right) e^{ - \\frac{1}{2} \\left( x{_1} a{{_1}}ˏ{_1} + x{_2} a{{_2}}ˏ{_1} \\right) x{_1} - \\frac{1}{2} \\left( x{_1} a{{_1}}ˏ{_2} + x{_2} a{{_2}}ˏ{_2} \\right) x{_2}} \\\\\n",
       "\\end{array}\n",
       "\\right]\n",
       "\\end{equation}\n"
      ],
      "text/plain": [
       "2-element SizedVector{2, Num, Vector{Num}} with indices SOneTo(2):\n",
       " (-*x[1]*a[1, 1] - ((1//2)*x[2]*a[1, 2]) - ((1//2)*x[2]*a[2, 1]))*exp((-1//2)*(x[1]*a[1, 1] + x[2]*a[2, 1])*x[1] - ((1//2)*(x[1]*a[1, 2] + x[2]*a[2, 2])*x[2]))\n",
       "  ((-1//2)*x[1]*a[1, 2] - ((1//2)*x[1]*a[2, 1]) - (x[2]*a[2, 2]))*exp((-1//2)*(x[1]*a[1, 1] + x[2]*a[2, 1])*x[1] - ((1//2)*(x[1]*a[1, 2] + x[2]*a[2, 2])*x[2]))"
      ]
     },
     "execution_count": 103,
     "metadata": {},
     "output_type": "execute_result"
    }
   ],
   "source": [
    "_∇G = Symbolics.gradient(_G, xx)"
   ]
  },
  {
   "cell_type": "code",
   "execution_count": 96,
   "id": "f080d11e-ebe1-4987-be12-b033331c4f6b",
   "metadata": {},
   "outputs": [
    {
     "data": {
      "text/latex": [
       "\\begin{equation}\n",
       "\\left[\n",
       "\\begin{array}{c}\n",
       "\\left(  - \\frac{1}{2} a{{_1}}ˏ{_2} - \\frac{1}{2} a{{_2}}ˏ{_1} \\right) x{_2} - x{_1} a{{_1}}ˏ{_1} \\\\\n",
       "\\left(  - \\frac{1}{2} a{{_1}}ˏ{_2} - \\frac{1}{2} a{{_2}}ˏ{_1} \\right) x{_1} - x{_2} a{{_2}}ˏ{_2} \\\\\n",
       "\\end{array}\n",
       "\\right]\n",
       "\\end{equation}\n"
      ],
      "text/plain": [
       "2-element SizedVector{2, Num, Vector{Num}} with indices SOneTo(2):\n",
       " ((-1//2)*a[1, 2] - ((1//2)*a[2, 1]))*x[2] - (x[1]*a[1, 1])\n",
       " ((-1//2)*a[1, 2] - ((1//2)*a[2, 1]))*x[1] - (x[2]*a[2, 2])"
      ]
     },
     "execution_count": 96,
     "metadata": {},
     "output_type": "execute_result"
    }
   ],
   "source": [
    "_∇G / _G"
   ]
  },
  {
   "cell_type": "code",
   "execution_count": 104,
   "id": "18174e45-852c-4131-a1bc-46ca7514ea5e",
   "metadata": {},
   "outputs": [
    {
     "data": {
      "text/plain": [
       "RuntimeGeneratedFunction(#=in Symbolics=#, #=using Symbolics=#, :((ˍ₋arg1, ˍ₋arg2)->begin\n",
       "          #= D:\\.julia\\packages\\SymbolicUtils\\Hwe4r\\src\\code.jl:282 =#\n",
       "          #= D:\\.julia\\packages\\SymbolicUtils\\Hwe4r\\src\\code.jl:283 =#\n",
       "          let var\"x[1]\" = #= D:\\.julia\\packages\\SymbolicUtils\\Hwe4r\\src\\code.jl:169 =# @inbounds(ˍ₋arg1[1]), var\"x[2]\" = #= D:\\.julia\\packages\\SymbolicUtils\\Hwe4r\\src\\code.jl:169 =# @inbounds(ˍ₋arg1[2]), var\"a[1, 1]\" = #= D:\\.julia\\packages\\SymbolicUtils\\Hwe4r\\src\\code.jl:169 =# @inbounds(ˍ₋arg2[1]), var\"a[2, 1]\" = #= D:\\.julia\\packages\\SymbolicUtils\\Hwe4r\\src\\code.jl:169 =# @inbounds(ˍ₋arg2[2]), var\"a[1, 2]\" = #= D:\\.julia\\packages\\SymbolicUtils\\Hwe4r\\src\\code.jl:169 =# @inbounds(ˍ₋arg2[3]), var\"a[2, 2]\" = #= D:\\.julia\\packages\\SymbolicUtils\\Hwe4r\\src\\code.jl:169 =# @inbounds(ˍ₋arg2[4])\n",
       "              #= D:\\.julia\\packages\\SymbolicUtils\\Hwe4r\\src\\code.jl:375 =#\n",
       "              (SymbolicUtils.Code.create_array)(typeof(ˍ₋arg1), nothing, Val{1}(), Val{(2,)}(), (*)((+)((*)(-1//1, var\"x[1]\", var\"a[1, 1]\"), (*)(-1//2, var\"x[2]\", var\"a[1, 2]\"), (*)(-1//2, var\"x[2]\", var\"a[2, 1]\")), (exp)((+)((*)(-1//2, (+)((*)(var\"x[1]\", var\"a[1, 1]\"), (*)(var\"x[2]\", var\"a[2, 1]\")), var\"x[1]\"), (*)(-1//2, (+)((*)(var\"x[1]\", var\"a[1, 2]\"), (*)(var\"x[2]\", var\"a[2, 2]\")), var\"x[2]\")))), (*)((+)((*)(-1//2, var\"x[1]\", var\"a[1, 2]\"), (*)(-1//2, var\"x[1]\", var\"a[2, 1]\"), (*)(-1//1, var\"x[2]\", var\"a[2, 2]\")), (exp)((+)((*)(-1//2, (+)((*)(var\"x[1]\", var\"a[1, 1]\"), (*)(var\"x[2]\", var\"a[2, 1]\")), var\"x[1]\"), (*)(-1//2, (+)((*)(var\"x[1]\", var\"a[1, 2]\"), (*)(var\"x[2]\", var\"a[2, 2]\")), var\"x[2]\")))))\n",
       "          end\n",
       "      end))"
      ]
     },
     "execution_count": 104,
     "metadata": {},
     "output_type": "execute_result"
    }
   ],
   "source": [
    "∇G = build_function(_∇G, xx, vec(aa); expression=Val(false))[1]"
   ]
  },
  {
   "cell_type": "code",
   "execution_count": 97,
   "id": "9539fc78-c315-42dc-8187-cbb4d330dd08",
   "metadata": {},
   "outputs": [
    {
     "data": {
      "text/plain": [
       "2-element SVector{2, Float64} with indices SOneTo(2):\n",
       "  0.0\n",
       " -0.14936120510359183"
      ]
     },
     "execution_count": 97,
     "metadata": {},
     "output_type": "execute_result"
    }
   ],
   "source": [
    "∇G(SA[1, 2], A)"
   ]
  },
  {
   "cell_type": "code",
   "execution_count": 106,
   "id": "92fea215-2cf8-4ccf-b4dd-c401bb04d2e2",
   "metadata": {},
   "outputs": [
    {
     "data": {
      "text/plain": [
       "Bar"
      ]
     },
     "execution_count": 106,
     "metadata": {},
     "output_type": "execute_result"
    }
   ],
   "source": [
    "function Bar(f, x, param)\n",
    "    x_sym = collect(x)\n",
    "    param_sym = collect(param)\n",
    "    _f = simplify(expand(f(x_sym, param_sym)))\n",
    "    _∇f = Symbolics.gradient(_f, x_sym)\n",
    "    ff = build_function(_f, vec(x_sym), vec(param_sym); expression=Val(false))\n",
    "    ∇f = build_function(_∇f, vec(x_sym), vec(param_sym); expression=Val(false))[1]\n",
    "    Bar(ff, ∇f)\n",
    "end"
   ]
  },
  {
   "cell_type": "code",
   "execution_count": 107,
   "id": "7a5e295a-282e-445a-9d74-88b046ed57c8",
   "metadata": {},
   "outputs": [
    {
     "data": {
      "text/plain": [
       "Bar{RuntimeGeneratedFunctions.RuntimeGeneratedFunction{(:ˍ₋arg1, :ˍ₋arg2), Symbolics.var\"#_RGF_ModTag\", Symbolics.var\"#_RGF_ModTag\", (0xe8e4a897, 0x0a819225, 0x068af023, 0xc2872ebe, 0xd95a665b)}, RuntimeGeneratedFunctions.RuntimeGeneratedFunction{(:ˍ₋arg1, :ˍ₋arg2), Symbolics.var\"#_RGF_ModTag\", Symbolics.var\"#_RGF_ModTag\", (0x65d79911, 0x5e34d083, 0xb302542c, 0xda9f6066, 0xf5f1eee2)}}(RuntimeGeneratedFunctions.RuntimeGeneratedFunction{(:ˍ₋arg1, :ˍ₋arg2), Symbolics.var\"#_RGF_ModTag\", Symbolics.var\"#_RGF_ModTag\", (0xe8e4a897, 0x0a819225, 0x068af023, 0xc2872ebe, 0xd95a665b)}(quote\n",
       "    #= D:\\.julia\\packages\\SymbolicUtils\\Hwe4r\\src\\code.jl:282 =#\n",
       "    #= D:\\.julia\\packages\\SymbolicUtils\\Hwe4r\\src\\code.jl:283 =#\n",
       "    let var\"x[1]\" = #= D:\\.julia\\packages\\SymbolicUtils\\Hwe4r\\src\\code.jl:169 =# @inbounds(ˍ₋arg1[1]), var\"x[2]\" = #= D:\\.julia\\packages\\SymbolicUtils\\Hwe4r\\src\\code.jl:169 =# @inbounds(ˍ₋arg1[2]), var\"a[1, 1]\" = #= D:\\.julia\\packages\\SymbolicUtils\\Hwe4r\\src\\code.jl:169 =# @inbounds(ˍ₋arg2[1]), var\"a[2, 1]\" = #= D:\\.julia\\packages\\SymbolicUtils\\Hwe4r\\src\\code.jl:169 =# @inbounds(ˍ₋arg2[2]), var\"a[1, 2]\" = #= D:\\.julia\\packages\\SymbolicUtils\\Hwe4r\\src\\code.jl:169 =# @inbounds(ˍ₋arg2[3]), var\"a[2, 2]\" = #= D:\\.julia\\packages\\SymbolicUtils\\Hwe4r\\src\\code.jl:169 =# @inbounds(ˍ₋arg2[4])\n",
       "        (exp)((+)((*)((+)((*)(-1//2, var\"a[1, 2]\"), (*)(-1//2, var\"a[2, 1]\")), var\"x[1]\", var\"x[2]\"), (*)(-1//2, (^)(var\"x[1]\", 2), var\"a[1, 1]\"), (*)(-1//2, (^)(var\"x[2]\", 2), var\"a[2, 2]\")))\n",
       "    end\n",
       "end), RuntimeGeneratedFunctions.RuntimeGeneratedFunction{(:ˍ₋arg1, :ˍ₋arg2), Symbolics.var\"#_RGF_ModTag\", Symbolics.var\"#_RGF_ModTag\", (0x65d79911, 0x5e34d083, 0xb302542c, 0xda9f6066, 0xf5f1eee2)}(quote\n",
       "    #= D:\\.julia\\packages\\SymbolicUtils\\Hwe4r\\src\\code.jl:282 =#\n",
       "    #= D:\\.julia\\packages\\SymbolicUtils\\Hwe4r\\src\\code.jl:283 =#\n",
       "    let var\"x[1]\" = #= D:\\.julia\\packages\\SymbolicUtils\\Hwe4r\\src\\code.jl:169 =# @inbounds(ˍ₋arg1[1]), var\"x[2]\" = #= D:\\.julia\\packages\\SymbolicUtils\\Hwe4r\\src\\code.jl:169 =# @inbounds(ˍ₋arg1[2]), var\"a[1, 1]\" = #= D:\\.julia\\packages\\SymbolicUtils\\Hwe4r\\src\\code.jl:169 =# @inbounds(ˍ₋arg2[1]), var\"a[2, 1]\" = #= D:\\.julia\\packages\\SymbolicUtils\\Hwe4r\\src\\code.jl:169 =# @inbounds(ˍ₋arg2[2]), var\"a[1, 2]\" = #= D:\\.julia\\packages\\SymbolicUtils\\Hwe4r\\src\\code.jl:169 =# @inbounds(ˍ₋arg2[3]), var\"a[2, 2]\" = #= D:\\.julia\\packages\\SymbolicUtils\\Hwe4r\\src\\code.jl:169 =# @inbounds(ˍ₋arg2[4])\n",
       "        #= D:\\.julia\\packages\\SymbolicUtils\\Hwe4r\\src\\code.jl:375 =#\n",
       "        (SymbolicUtils.Code.create_array)(typeof(ˍ₋arg1), nothing, Val{1}(), Val{(2,)}(), (*)((+)((*)((+)((*)(-1//2, var\"a[1, 2]\"), (*)(-1//2, var\"a[2, 1]\")), var\"x[2]\"), (*)(-1//1, var\"x[1]\", var\"a[1, 1]\")), (exp)((+)((*)((+)((*)(-1//2, var\"a[1, 2]\"), (*)(-1//2, var\"a[2, 1]\")), var\"x[1]\", var\"x[2]\"), (*)(-1//2, (^)(var\"x[1]\", 2), var\"a[1, 1]\"), (*)(-1//2, (^)(var\"x[2]\", 2), var\"a[2, 2]\")))), (*)((+)((*)((+)((*)(-1//2, var\"a[1, 2]\"), (*)(-1//2, var\"a[2, 1]\")), var\"x[1]\"), (*)(-1//1, var\"x[2]\", var\"a[2, 2]\")), (exp)((+)((*)((+)((*)(-1//2, var\"a[1, 2]\"), (*)(-1//2, var\"a[2, 1]\")), var\"x[1]\", var\"x[2]\"), (*)(-1//2, (^)(var\"x[1]\", 2), var\"a[1, 1]\"), (*)(-1//2, (^)(var\"x[2]\", 2), var\"a[2, 2]\")))))\n",
       "    end\n",
       "end))"
      ]
     },
     "execution_count": 107,
     "metadata": {},
     "output_type": "execute_result"
    }
   ],
   "source": [
    "@variables x[1:2] a[1:2, 1:2]\n",
    "car = Bar(G, x, a)"
   ]
  },
  {
   "cell_type": "code",
   "execution_count": 108,
   "id": "411fd49c-1ed5-45f2-a5e3-41b9d16e6f1d",
   "metadata": {},
   "outputs": [
    {
     "data": {
      "text/plain": [
       "0.049787068367863944"
      ]
     },
     "execution_count": 108,
     "metadata": {},
     "output_type": "execute_result"
    }
   ],
   "source": [
    "x = SA[1, 2]\n",
    "A = SA[2 -1; -1 2]\n",
    "car.f(x, A)"
   ]
  },
  {
   "cell_type": "code",
   "execution_count": 109,
   "id": "7a1381ec-3118-48de-b51d-2deee5b5e6cb",
   "metadata": {},
   "outputs": [
    {
     "data": {
      "text/plain": [
       "2-element SVector{2, Float64} with indices SOneTo(2):\n",
       "  0.0\n",
       " -0.14936120510359183"
      ]
     },
     "execution_count": 109,
     "metadata": {},
     "output_type": "execute_result"
    }
   ],
   "source": [
    "car.∇f(x, A)"
   ]
  },
  {
   "cell_type": "code",
   "execution_count": 110,
   "id": "fa28491e-495c-4120-adbb-a38ca23717cf",
   "metadata": {},
   "outputs": [
    {
     "name": "stdout",
     "output_type": "stream",
     "text": [
      "  10.822 ns (0 allocations: 0 bytes)\n",
      "  11.100 ns (0 allocations: 0 bytes)\n",
      "  171.429 ns (0 allocations: 0 bytes)\n"
     ]
    },
    {
     "data": {
      "text/plain": [
       "0.049787068367863944"
      ]
     },
     "execution_count": 110,
     "metadata": {},
     "output_type": "execute_result"
    }
   ],
   "source": [
    "@btime G($x, $A)\n",
    "@btime $bar.f($x, $A)\n",
    "@btime $car.f($x, $A)"
   ]
  },
  {
   "cell_type": "code",
   "execution_count": 111,
   "id": "94f90eba-3e01-4bfc-9788-4ee485e16a1a",
   "metadata": {},
   "outputs": [
    {
     "name": "stdout",
     "output_type": "stream",
     "text": [
      "  412.000 ns (0 allocations: 0 bytes)\n",
      "  14.830 ns (0 allocations: 0 bytes)\n",
      "  552.406 ns (0 allocations: 0 bytes)\n"
     ]
    },
    {
     "data": {
      "text/plain": [
       "2-element SVector{2, Float64} with indices SOneTo(2):\n",
       "  0.0\n",
       " -0.14936120510359183"
      ]
     },
     "execution_count": 111,
     "metadata": {},
     "output_type": "execute_result"
    }
   ],
   "source": [
    "@btime $∇G($x, $A)\n",
    "@btime $bar.∇f($x, $A)\n",
    "@btime $car.∇f($x, $A)"
   ]
  },
  {
   "cell_type": "code",
   "execution_count": 119,
   "id": "3cdcf360-888f-4ba3-99ef-532a83a895ac",
   "metadata": {},
   "outputs": [
    {
     "name": "stdout",
     "output_type": "stream",
     "text": [
      "  12.500 ns (0 allocations: 0 bytes)\n"
     ]
    },
    {
     "data": {
      "text/plain": [
       "2-element SVector{2, Float64} with indices SOneTo(2):\n",
       " 0.0\n",
       " 0.14936120510359183"
      ]
     },
     "execution_count": 119,
     "metadata": {},
     "output_type": "execute_result"
    }
   ],
   "source": [
    "dG(x, A) = (A + A')*x/2*G(x, A)\n",
    "#dG2(x, A) = A*x*G(x, A)\n",
    "@btime $dG2($x, $A)"
   ]
  },
  {
   "cell_type": "code",
   "execution_count": 115,
   "id": "f1a663f8-f986-4cd1-ac63-48510ac52525",
   "metadata": {},
   "outputs": [
    {
     "data": {
      "text/latex": [
       "\\begin{equation}\n",
       "\\left[\n",
       "\\begin{array}{c}\n",
       "\\left( x{_1} a{{_1}}ˏ{_1} + \\frac{1}{2} \\left( a{{_1}}ˏ{_2} + a{{_2}}ˏ{_1} \\right) x{_2} \\right) e^{ - \\frac{1}{2} \\left( x{_1} a{{_1}}ˏ{_1} + x{_2} a{{_2}}ˏ{_1} \\right) x{_1} - \\frac{1}{2} \\left( x{_1} a{{_1}}ˏ{_2} + x{_2} a{{_2}}ˏ{_2} \\right) x{_2}} \\\\\n",
       "\\left( x{_2} a{{_2}}ˏ{_2} + \\frac{1}{2} \\left( a{{_1}}ˏ{_2} + a{{_2}}ˏ{_1} \\right) x{_1} \\right) e^{ - \\frac{1}{2} \\left( x{_1} a{{_1}}ˏ{_1} + x{_2} a{{_2}}ˏ{_1} \\right) x{_1} - \\frac{1}{2} \\left( x{_1} a{{_1}}ˏ{_2} + x{_2} a{{_2}}ˏ{_2} \\right) x{_2}} \\\\\n",
       "\\end{array}\n",
       "\\right]\n",
       "\\end{equation}\n"
      ],
      "text/plain": [
       "2-element SizedVector{2, Num, Vector{Num}} with indices SOneTo(2):\n",
       " (x[1]*a[1, 1] + (1//2)*(a[1, 2] + a[2, 1])*x[2])*exp((-1//2)*(x[1]*a[1, 1] + x[2]*a[2, 1])*x[1] - ((1//2)*(x[1]*a[1, 2] + x[2]*a[2, 2])*x[2]))\n",
       " (x[2]*a[2, 2] + (1//2)*(a[1, 2] + a[2, 1])*x[1])*exp((-1//2)*(x[1]*a[1, 1] + x[2]*a[2, 1])*x[1] - ((1//2)*(x[1]*a[1, 2] + x[2]*a[2, 2])*x[2]))"
      ]
     },
     "execution_count": 115,
     "metadata": {},
     "output_type": "execute_result"
    }
   ],
   "source": [
    "dG(xx, aa)"
   ]
  },
  {
   "cell_type": "code",
   "execution_count": null,
   "id": "fe6b741b-b119-4048-90d3-5889a43c7b6f",
   "metadata": {},
   "outputs": [],
   "source": []
  }
 ],
 "metadata": {
  "jupytext": {
   "formats": "ipynb,auto:hydrogen"
  },
  "kernelspec": {
   "display_name": "Julia 1.6.2",
   "language": "julia",
   "name": "julia-1.6"
  },
  "language_info": {
   "file_extension": ".jl",
   "mimetype": "application/julia",
   "name": "julia",
   "version": "1.6.2"
  }
 },
 "nbformat": 4,
 "nbformat_minor": 5
}
