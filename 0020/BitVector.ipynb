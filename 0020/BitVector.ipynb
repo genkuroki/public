{
 "cells": [
  {
   "cell_type": "code",
   "execution_count": 1,
   "id": "5f53b572-82d5-4ab3-91ca-91b1f4524b68",
   "metadata": {},
   "outputs": [
    {
     "name": "stdout",
     "output_type": "stream",
     "text": [
      "  0.101538 seconds (505.25 k allocations: 26.652 MiB, 8.88% gc time, 99.06% compilation time)\n",
      "  0.000826 seconds (1 allocation: 4.188 KiB)\n",
      "  0.000731 seconds (1 allocation: 4.188 KiB)\n",
      "  0.031871 seconds (188.85 k allocations: 10.816 MiB, 97.72% compilation time)\n",
      "  0.000585 seconds\n",
      "  0.000923 seconds\n"
     ]
    }
   ],
   "source": [
    "using BenchmarkTools\n",
    "\n",
    "n = 2^20\n",
    "a = sinpi.(rand(n))\n",
    "btmp = BitVector(undef, n)\n",
    "vtmp = Vector{Bool}(undef, n)\n",
    "f!(tmp, a) = @. tmp = a > 0.5\n",
    "@time f!(btmp, a)\n",
    "@time f!(btmp, a)\n",
    "@time f!(btmp, a)\n",
    "@time f!(vtmp, a)\n",
    "@time f!(vtmp, a)\n",
    "@time f!(vtmp, a);"
   ]
  },
  {
   "cell_type": "code",
   "execution_count": 8,
   "id": "c55e8994-9906-4bf8-a497-6f034c41b9e0",
   "metadata": {},
   "outputs": [
    {
     "data": {
      "text/plain": [
       "132.2"
      ]
     },
     "execution_count": 8,
     "metadata": {},
     "output_type": "execute_result"
    }
   ],
   "source": [
    "sizeof(btmp)/1024 + 4.2"
   ]
  },
  {
   "cell_type": "code",
   "execution_count": 3,
   "id": "70b969ba-4ea1-4d96-95bf-cbd56056060b",
   "metadata": {},
   "outputs": [
    {
     "name": "stdout",
     "output_type": "stream",
     "text": [
      "  0.070405 seconds (99.41 k allocations: 5.021 MiB, 98.82% compilation time)\n",
      "  0.001157 seconds (6 allocations: 132.359 KiB)\n",
      "  0.000888 seconds (6 allocations: 132.359 KiB)\n"
     ]
    }
   ],
   "source": [
    "@time @. a > 0.5\n",
    "@time @. a > 0.5\n",
    "@time @. a > 0.5;"
   ]
  },
  {
   "cell_type": "code",
   "execution_count": 4,
   "id": "18e13266-f1e7-44bf-b566-059ee0b854ab",
   "metadata": {},
   "outputs": [
    {
     "name": "stdout",
     "output_type": "stream",
     "text": [
      "  0.039951 seconds (62.98 k allocations: 8.768 MiB, 96.07% compilation time)\n",
      "  0.001716 seconds (2 allocations: 5.329 MiB)\n",
      "  0.008634 seconds (2 allocations: 5.329 MiB, 78.54% gc time)\n"
     ]
    }
   ],
   "source": [
    "@time a[btmp]\n",
    "@time a[btmp]\n",
    "@time a[btmp];"
   ]
  },
  {
   "cell_type": "code",
   "execution_count": 5,
   "id": "9be80934-b406-4bee-a86a-3079268233c8",
   "metadata": {},
   "outputs": [
    {
     "name": "stdout",
     "output_type": "stream",
     "text": [
      "  0.043568 seconds (120.06 k allocations: 11.990 MiB, 89.38% compilation time)\n",
      "  0.004666 seconds (2 allocations: 5.329 MiB)\n",
      "  0.004859 seconds (2 allocations: 5.329 MiB)\n"
     ]
    }
   ],
   "source": [
    "@time a[vtmp]\n",
    "@time a[vtmp]\n",
    "@time a[vtmp];"
   ]
  },
  {
   "cell_type": "code",
   "execution_count": 6,
   "id": "5fec05d8-a933-4b93-a4e5-11c64a3fd545",
   "metadata": {},
   "outputs": [
    {
     "name": "stdout",
     "output_type": "stream",
     "text": [
      "  0.000957 seconds (2 allocations: 5.329 MiB)\n",
      "  0.001078 seconds (2 allocations: 5.329 MiB)\n",
      "  0.001200 seconds (2 allocations: 5.329 MiB)\n"
     ]
    }
   ],
   "source": [
    "@time findall(btmp)\n",
    "@time findall(btmp)\n",
    "@time findall(btmp);"
   ]
  },
  {
   "cell_type": "code",
   "execution_count": 7,
   "id": "9245560b-4b4f-45ec-92d5-be92e89974a9",
   "metadata": {},
   "outputs": [
    {
     "name": "stdout",
     "output_type": "stream",
     "text": [
      "  0.022208 seconds (34.61 k allocations: 7.369 MiB, 29.47% gc time, 50.04% compilation time)\n",
      "  0.004509 seconds (2 allocations: 5.329 MiB)\n",
      "  0.004574 seconds (2 allocations: 5.329 MiB)\n"
     ]
    }
   ],
   "source": [
    "@time findall(vtmp)\n",
    "@time findall(vtmp)\n",
    "@time findall(vtmp);"
   ]
  },
  {
   "cell_type": "code",
   "execution_count": null,
   "id": "c01c287b-ffac-4eab-b7ea-7b7d8209a5fd",
   "metadata": {},
   "outputs": [],
   "source": []
  }
 ],
 "metadata": {
  "kernelspec": {
   "display_name": "Julia 1.6.2",
   "language": "julia",
   "name": "julia-1.6"
  },
  "language_info": {
   "file_extension": ".jl",
   "mimetype": "application/julia",
   "name": "julia",
   "version": "1.6.2"
  }
 },
 "nbformat": 4,
 "nbformat_minor": 5
}
