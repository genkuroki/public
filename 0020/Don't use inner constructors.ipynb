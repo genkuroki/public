{
 "cells": [
  {
   "cell_type": "code",
   "execution_count": 1,
   "id": "7991c9a3-2f90-4f02-bfbe-12435fb81e26",
   "metadata": {},
   "outputs": [],
   "source": [
    "struct Foo{T}\n",
    "    a::T\n",
    "    b::T\n",
    "    Foo(a::T) where T = new{T}(a, T(2)a)\n",
    "end"
   ]
  },
  {
   "cell_type": "code",
   "execution_count": 2,
   "id": "6a37e1d8-4646-4fa6-ad5d-a66b8c9ff14c",
   "metadata": {},
   "outputs": [
    {
     "data": {
      "text/plain": [
       "Foo{Float64}(3.14, 6.28)"
      ]
     },
     "execution_count": 2,
     "metadata": {},
     "output_type": "execute_result"
    }
   ],
   "source": [
    "Foo(3.14)"
   ]
  },
  {
   "cell_type": "code",
   "execution_count": 3,
   "id": "4e79b09e-50cf-44be-a792-4d0059850de1",
   "metadata": {},
   "outputs": [
    {
     "ename": "LoadError",
     "evalue": "MethodError: no method matching Foo(::Float64, ::Float64)\n\u001b[0mClosest candidates are:\n\u001b[0m  Foo(::T) where T at In[1]:4",
     "output_type": "error",
     "traceback": [
      "MethodError: no method matching Foo(::Float64, ::Float64)\n\u001b[0mClosest candidates are:\n\u001b[0m  Foo(::T) where T at In[1]:4",
      "",
      "Stacktrace:",
      " [1] top-level scope",
      "   @ In[3]:1",
      " [2] eval",
      "   @ .\\boot.jl:360 [inlined]",
      " [3] include_string(mapexpr::typeof(REPL.softscope), mod::Module, code::String, filename::String)",
      "   @ Base .\\loading.jl:1116"
     ]
    }
   ],
   "source": [
    "Foo(3.14, 3.14/2)"
   ]
  },
  {
   "cell_type": "code",
   "execution_count": 4,
   "id": "edce84e5-ea04-4279-b90d-bf26acc8fa35",
   "metadata": {},
   "outputs": [
    {
     "data": {
      "text/html": [
       "# 1 method for type constructor:<ul><li> Foo(a::<b>T</b>)<i> where T</i> in Main at In[1]:4</li> </ul>"
      ],
      "text/plain": [
       "# 1 method for type constructor:\n",
       "[1] Foo(a::T) where T in Main at In[1]:4"
      ]
     },
     "execution_count": 4,
     "metadata": {},
     "output_type": "execute_result"
    }
   ],
   "source": [
    "methods(Foo)"
   ]
  },
  {
   "cell_type": "code",
   "execution_count": 5,
   "id": "acad99bb-37a0-4f75-a822-44e5149ab592",
   "metadata": {},
   "outputs": [
    {
     "data": {
      "text/html": [
       "# 0 methods for type constructor:<ul></ul>"
      ],
      "text/plain": [
       "# 0 methods for type constructor:"
      ]
     },
     "execution_count": 5,
     "metadata": {},
     "output_type": "execute_result"
    }
   ],
   "source": [
    "methods(Foo{Float64})"
   ]
  },
  {
   "cell_type": "code",
   "execution_count": 6,
   "id": "6bb6e353-3d80-43b9-974d-7291551ecf5b",
   "metadata": {},
   "outputs": [
    {
     "data": {
      "text/plain": [
       "Bar"
      ]
     },
     "execution_count": 6,
     "metadata": {},
     "output_type": "execute_result"
    }
   ],
   "source": [
    "struct Bar{T}\n",
    "    a::T\n",
    "    b::T\n",
    "end\n",
    "Bar(a::T) where T = Bar{T}(a, T(2)a)"
   ]
  },
  {
   "cell_type": "code",
   "execution_count": 7,
   "id": "f4eee019-e2ed-40e2-9412-cba6bf916509",
   "metadata": {},
   "outputs": [
    {
     "data": {
      "text/plain": [
       "Bar{Float64}(3.14, 6.28)"
      ]
     },
     "execution_count": 7,
     "metadata": {},
     "output_type": "execute_result"
    }
   ],
   "source": [
    "Bar(3.14)"
   ]
  },
  {
   "cell_type": "code",
   "execution_count": 8,
   "id": "560b9874-a4f2-47ca-b672-ae27949755be",
   "metadata": {},
   "outputs": [
    {
     "data": {
      "text/plain": [
       "Bar{Float64}(3.14, 1.57)"
      ]
     },
     "execution_count": 8,
     "metadata": {},
     "output_type": "execute_result"
    }
   ],
   "source": [
    "Bar(3.14, 3.14/2)"
   ]
  },
  {
   "cell_type": "code",
   "execution_count": 9,
   "id": "3f706891-e426-45c0-b19a-c59787f5b880",
   "metadata": {},
   "outputs": [
    {
     "data": {
      "text/html": [
       "# 2 methods for type constructor:<ul><li> Bar(a::<b>T</b>)<i> where T</i> in Main at In[6]:5</li> <li> Bar(a::<b>T</b>, b::<b>T</b>)<i> where T</i> in Main at In[6]:2</li> </ul>"
      ],
      "text/plain": [
       "# 2 methods for type constructor:\n",
       "[1] Bar(a::T) where T in Main at In[6]:5\n",
       "[2] Bar(a::T, b::T) where T in Main at In[6]:2"
      ]
     },
     "execution_count": 9,
     "metadata": {},
     "output_type": "execute_result"
    }
   ],
   "source": [
    "methods(Bar)"
   ]
  },
  {
   "cell_type": "code",
   "execution_count": 10,
   "id": "14e21df8-38ed-4a89-a2c3-fae4b7757851",
   "metadata": {},
   "outputs": [
    {
     "data": {
      "text/html": [
       "# 1 method for type constructor:<ul><li> Bar{T}(a, b)<i> where T</i> in Main at In[6]:2</li> </ul>"
      ],
      "text/plain": [
       "# 1 method for type constructor:\n",
       "[1] Bar{T}(a, b) where T in Main at In[6]:2"
      ]
     },
     "execution_count": 10,
     "metadata": {},
     "output_type": "execute_result"
    }
   ],
   "source": [
    "methods(Bar{Float64})"
   ]
  },
  {
   "cell_type": "code",
   "execution_count": null,
   "id": "89660306-0e50-4af2-9145-75bcaab7ed5c",
   "metadata": {},
   "outputs": [],
   "source": []
  }
 ],
 "metadata": {
  "kernelspec": {
   "display_name": "Julia 1.6.2",
   "language": "julia",
   "name": "julia-1.6"
  },
  "language_info": {
   "file_extension": ".jl",
   "mimetype": "application/julia",
   "name": "julia",
   "version": "1.6.2"
  }
 },
 "nbformat": 4,
 "nbformat_minor": 5
}
