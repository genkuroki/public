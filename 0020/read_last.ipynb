{
 "cells": [
  {
   "cell_type": "markdown",
   "id": "aebcddb0-597f-4a23-a3dc-3765fe1ba9da",
   "metadata": {},
   "source": [
    "https://discourse.julialang.org/t/how-to-read-only-the-last-line-of-a-file-txt/68005/6"
   ]
  },
  {
   "cell_type": "code",
   "execution_count": 1,
   "id": "a3bedb21-e56c-46d6-9619-1b8c770c8b34",
   "metadata": {},
   "outputs": [
    {
     "data": {
      "text/plain": [
       "427"
      ]
     },
     "execution_count": 1,
     "metadata": {},
     "output_type": "execute_result"
    }
   ],
   "source": [
    "str = \"\"\"\n",
    "some header option\n",
    "header other option\n",
    "random metadata\n",
    "A,B,C,X,Y,Z\n",
    "1,1,1,2.0,0.0,102.0\n",
    "1,1,2,2.0,0.0,202.0\n",
    "1,1,3,2.0,0.0,302.0\n",
    "1,2,1,3.0,1.0,103.0\n",
    "1,2,2,3.0,1.0,203.0\n",
    "1,2,3,3.0,1.0,303.0\n",
    "1,3,1,4.0,2.0,104.0\n",
    "1,3,2,4.0,2.0,204.0\n",
    "1,3,3,4.0,2.0,304.0\n",
    "1,4,1,5.0,3.0,105.0\n",
    "1,4,2,5.0,3.0,205.0\n",
    "1,4,3,5.0,3.0,305.0\n",
    "1,5,1,6.0,4.0,106.0\n",
    "1,5,2,6.0,4.0,206.0\n",
    "1,5,3,6.0,4.0,306.0\n",
    "1,6,1,7.0,5.0,107.0\n",
    "1,6,2,7.0,5.0,207.0\n",
    "1,6,3,7.0,5.0,307.0\n",
    "\"\"\"\n",
    "\n",
    "write(\"test.txt\", str)"
   ]
  },
  {
   "cell_type": "code",
   "execution_count": 2,
   "id": "a7b21d5c-510a-40dc-a4c9-816ff99931d2",
   "metadata": {},
   "outputs": [
    {
     "data": {
      "text/plain": [
       "read_last (generic function with 1 method)"
      ]
     },
     "execution_count": 2,
     "metadata": {},
     "output_type": "execute_result"
    }
   ],
   "source": [
    "function read_last(file)\n",
    "    open(file) do io\n",
    "        seekend(io)\n",
    "        seek(io, position(io) - 1)\n",
    "        while Char(peek(io)) != '\\n'\n",
    "            seek(io, position(io) - 1)\n",
    "        end\n",
    "        read(io, Char)\n",
    "        read(io, String)\n",
    "    end\n",
    "end"
   ]
  },
  {
   "cell_type": "code",
   "execution_count": 3,
   "id": "edfd0cdb-cedd-447e-b907-b877fab50795",
   "metadata": {},
   "outputs": [
    {
     "data": {
      "text/plain": [
       "read_last2 (generic function with 1 method)"
      ]
     },
     "execution_count": 3,
     "metadata": {},
     "output_type": "execute_result"
    }
   ],
   "source": [
    "function read_last2(file)\n",
    "    open(file) do io\n",
    "        seekend(io)\n",
    "        seek(io, position(io) - 1)\n",
    "        p = position(io)\n",
    "        while Char(peek(io)) != '\\n'\n",
    "            seek(io, position(io) - 1)\n",
    "        end\n",
    "        if position(io) == p\n",
    "            seek(io, position(io) - 1)\n",
    "            while Char(peek(io)) != '\\n'\n",
    "                seek(io, position(io) - 1)\n",
    "            end\n",
    "        end\n",
    "        read(io, Char)\n",
    "        read(io, String)\n",
    "    end |> chomp\n",
    "end"
   ]
  },
  {
   "cell_type": "code",
   "execution_count": 4,
   "id": "17d8d312-04e9-4462-837f-7092aa30f658",
   "metadata": {},
   "outputs": [
    {
     "data": {
      "text/plain": [
       "\"\""
      ]
     },
     "execution_count": 4,
     "metadata": {},
     "output_type": "execute_result"
    }
   ],
   "source": [
    "read_last(\"test.txt\")"
   ]
  },
  {
   "cell_type": "code",
   "execution_count": 5,
   "id": "8767c266-eca3-41ef-8a6d-2d5204e5cd74",
   "metadata": {},
   "outputs": [
    {
     "data": {
      "text/plain": [
       "\"1,6,3,7.0,5.0,307.0\""
      ]
     },
     "execution_count": 5,
     "metadata": {},
     "output_type": "execute_result"
    }
   ],
   "source": [
    "read_last2(\"test.txt\")"
   ]
  },
  {
   "cell_type": "code",
   "execution_count": null,
   "id": "36b0a20b-c7e3-4481-bb2b-1e5a76ec657f",
   "metadata": {},
   "outputs": [],
   "source": []
  }
 ],
 "metadata": {
  "jupytext": {
   "formats": "ipynb,auto:hydrogen"
  },
  "kernelspec": {
   "display_name": "Julia 1.6.2",
   "language": "julia",
   "name": "julia-1.6"
  },
  "language_info": {
   "file_extension": ".jl",
   "mimetype": "application/julia",
   "name": "julia",
   "version": "1.6.2"
  }
 },
 "nbformat": 4,
 "nbformat_minor": 5
}
