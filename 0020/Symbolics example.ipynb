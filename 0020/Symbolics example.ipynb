{
 "cells": [
  {
   "cell_type": "code",
   "execution_count": 55,
   "id": "10431bdd-e0c4-432d-9938-cd27adebaf0c",
   "metadata": {},
   "outputs": [],
   "source": [
    "using Symbolics\n",
    "using LinearAlgebra\n",
    "using StaticArrays"
   ]
  },
  {
   "cell_type": "code",
   "execution_count": 7,
   "id": "047d8544-6b8f-460c-add5-1eb7e784c1ab",
   "metadata": {},
   "outputs": [
    {
     "data": {
      "text/plain": [
       "2-element Vector{Symbolics.Arr{Num, N} where N}:\n",
       " a[1:3,1:3]\n",
       " x[1:3]"
      ]
     },
     "execution_count": 7,
     "metadata": {},
     "output_type": "execute_result"
    }
   ],
   "source": [
    "n = 3\n",
    "@variables a[1:n, 1:n] x[1:n]"
   ]
  },
  {
   "cell_type": "code",
   "execution_count": 38,
   "id": "90799df4-2d49-4f9b-ac84-641ea705fea4",
   "metadata": {},
   "outputs": [
    {
     "data": {
      "text/latex": [
       "\\begin{equation}\n",
       "\\left[\n",
       "\\begin{array}{ccc}\n",
       "a{{_1}}ˏ{_1} & a{{_1}}ˏ{_2} & a{{_1}}ˏ{_3} \\\\\n",
       "a{{_2}}ˏ{_1} & a{{_2}}ˏ{_2} & a{{_2}}ˏ{_3} \\\\\n",
       "a{{_3}}ˏ{_1} & a{{_3}}ˏ{_2} & a{{_3}}ˏ{_3} \\\\\n",
       "\\end{array}\n",
       "\\right]\n",
       "\\end{equation}\n"
      ],
      "text/plain": [
       "3×3 Matrix{Num}:\n",
       " a[1, 1]  a[1, 2]  a[1, 3]\n",
       " a[2, 1]  a[2, 2]  a[2, 3]\n",
       " a[3, 1]  a[3, 2]  a[3, 3]"
      ]
     },
     "execution_count": 38,
     "metadata": {},
     "output_type": "execute_result"
    }
   ],
   "source": [
    "A = collect(a)"
   ]
  },
  {
   "cell_type": "code",
   "execution_count": 39,
   "id": "ff91cd7a-efb6-4dfb-9d86-473602ff4be7",
   "metadata": {},
   "outputs": [
    {
     "data": {
      "text/latex": [
       "\\begin{equation}\n",
       "\\left[\n",
       "\\begin{array}{c}\n",
       "a{{_1}}ˏ{_1} \\\\\n",
       "a{{_2}}ˏ{_1} \\\\\n",
       "a{{_3}}ˏ{_1} \\\\\n",
       "a{{_1}}ˏ{_2} \\\\\n",
       "a{{_2}}ˏ{_2} \\\\\n",
       "a{{_3}}ˏ{_2} \\\\\n",
       "a{{_1}}ˏ{_3} \\\\\n",
       "a{{_2}}ˏ{_3} \\\\\n",
       "a{{_3}}ˏ{_3} \\\\\n",
       "\\end{array}\n",
       "\\right]\n",
       "\\end{equation}\n"
      ],
      "text/plain": [
       "9-element Vector{Num}:\n",
       " a[1, 1]\n",
       " a[2, 1]\n",
       " a[3, 1]\n",
       " a[1, 2]\n",
       " a[2, 2]\n",
       " a[3, 2]\n",
       " a[1, 3]\n",
       " a[2, 3]\n",
       " a[3, 3]"
      ]
     },
     "execution_count": 39,
     "metadata": {},
     "output_type": "execute_result"
    }
   ],
   "source": [
    "as =  unique(vec(A))"
   ]
  },
  {
   "cell_type": "code",
   "execution_count": 12,
   "id": "795f2581-8d95-426c-b53e-498b31b25a0c",
   "metadata": {},
   "outputs": [
    {
     "data": {
      "text/latex": [
       "\\begin{equation}\n",
       "\\left[\n",
       "\\begin{array}{c}\n",
       "x{_1} \\\\\n",
       "x{_2} \\\\\n",
       "x{_3} \\\\\n",
       "\\end{array}\n",
       "\\right]\n",
       "\\end{equation}\n"
      ],
      "text/plain": [
       "3-element Vector{Num}:\n",
       " x[1]\n",
       " x[2]\n",
       " x[3]"
      ]
     },
     "execution_count": 12,
     "metadata": {},
     "output_type": "execute_result"
    }
   ],
   "source": [
    "X = collect(x)"
   ]
  },
  {
   "cell_type": "code",
   "execution_count": 40,
   "id": "3d6386d5-3f60-45e2-9786-34fe8ded1279",
   "metadata": {},
   "outputs": [
    {
     "data": {
      "text/latex": [
       "\\begin{equation}\n",
       "\\frac{1}{2} \\left( x{_1} a{{_1}}ˏ{_1} + x{_2} a{{_2}}ˏ{_1} + x{_3} a{{_3}}ˏ{_1} \\right) x{_1} + \\frac{1}{2} \\left( x{_1} a{{_1}}ˏ{_2} + x{_2} a{{_2}}ˏ{_2} + x{_3} a{{_3}}ˏ{_2} \\right) x{_2} + \\frac{1}{2} \\left( x{_1} a{{_1}}ˏ{_3} + x{_2} a{{_2}}ˏ{_3} + x{_3} a{{_3}}ˏ{_3} \\right) x{_3}\n",
       "\\end{equation}\n"
      ],
      "text/plain": [
       "(1//2)*(x[1]*a[1, 1] + x[2]*a[2, 1] + x[3]*a[3, 1])*x[1] + (1//2)*(x[1]*a[1, 2] + x[2]*a[2, 2] + x[3]*a[3, 2])*x[2] + (1//2)*(x[1]*a[1, 3] + x[2]*a[2, 3] + x[3]*a[3, 3])*x[3]"
      ]
     },
     "execution_count": 40,
     "metadata": {},
     "output_type": "execute_result"
    }
   ],
   "source": [
    "X'A*X/2"
   ]
  },
  {
   "cell_type": "code",
   "execution_count": 41,
   "id": "c478f9dc-750c-4407-9de3-53fcca7fafd1",
   "metadata": {},
   "outputs": [
    {
     "data": {
      "text/latex": [
       "\\begin{equation}\n",
       "\\frac{1}{2} x{_1}^{2} a{{_1}}ˏ{_1} + \\frac{1}{2} x{_2}^{2} a{{_2}}ˏ{_2} + \\frac{1}{2} x{_3}^{2} a{{_3}}ˏ{_3} + \\frac{1}{2} x{_1} x{_2} a{{_1}}ˏ{_2} + \\frac{1}{2} x{_1} x{_2} a{{_2}}ˏ{_1} + \\frac{1}{2} x{_1} x{_3} a{{_1}}ˏ{_3} + \\frac{1}{2} x{_1} x{_3} a{{_3}}ˏ{_1} + \\frac{1}{2} x{_2} x{_3} a{{_2}}ˏ{_3} + \\frac{1}{2} x{_2} x{_3} a{{_3}}ˏ{_2}\n",
       "\\end{equation}\n"
      ],
      "text/plain": [
       "(1//2)*(x[1]^2)*a[1, 1] + (1//2)*(x[2]^2)*a[2, 2] + (1//2)*(x[3]^2)*a[3, 3] + (1//2)*x[1]*x[2]*a[1, 2] + (1//2)*x[1]*x[2]*a[2, 1] + (1//2)*x[1]*x[3]*a[1, 3] + (1//2)*x[1]*x[3]*a[3, 1] + (1//2)*x[2]*x[3]*a[2, 3] + (1//2)*x[2]*x[3]*a[3, 2]"
      ]
     },
     "execution_count": 41,
     "metadata": {},
     "output_type": "execute_result"
    }
   ],
   "source": [
    "X'A*X/2 |> expand"
   ]
  },
  {
   "cell_type": "code",
   "execution_count": 43,
   "id": "7bee6782-3e72-41f0-8e8e-75feb19b6ab9",
   "metadata": {},
   "outputs": [
    {
     "data": {
      "text/latex": [
       "\\begin{equation}\n",
       "\\left[\n",
       "\\begin{array}{c}\n",
       "x{_1} a{{_1}}ˏ{_1} + \\frac{1}{2} x{_2} a{{_1}}ˏ{_2} + \\frac{1}{2} x{_2} a{{_2}}ˏ{_1} + \\frac{1}{2} x{_3} a{{_1}}ˏ{_3} + \\frac{1}{2} x{_3} a{{_3}}ˏ{_1} \\\\\n",
       "x{_2} a{{_2}}ˏ{_2} + \\frac{1}{2} x{_1} a{{_1}}ˏ{_2} + \\frac{1}{2} x{_1} a{{_2}}ˏ{_1} + \\frac{1}{2} x{_3} a{{_2}}ˏ{_3} + \\frac{1}{2} x{_3} a{{_3}}ˏ{_2} \\\\\n",
       "x{_3} a{{_3}}ˏ{_3} + \\frac{1}{2} x{_1} a{{_1}}ˏ{_3} + \\frac{1}{2} x{_1} a{{_3}}ˏ{_1} + \\frac{1}{2} x{_2} a{{_2}}ˏ{_3} + \\frac{1}{2} x{_2} a{{_3}}ˏ{_2} \\\\\n",
       "\\end{array}\n",
       "\\right]\n",
       "\\end{equation}\n"
      ],
      "text/plain": [
       "3-element Vector{Num}:\n",
       " x[1]*a[1, 1] + (1//2)*x[2]*a[1, 2] + (1//2)*x[2]*a[2, 1] + (1//2)*x[3]*a[1, 3] + (1//2)*x[3]*a[3, 1]\n",
       " x[2]*a[2, 2] + (1//2)*x[1]*a[1, 2] + (1//2)*x[1]*a[2, 1] + (1//2)*x[3]*a[2, 3] + (1//2)*x[3]*a[3, 2]\n",
       " x[3]*a[3, 3] + (1//2)*x[1]*a[1, 3] + (1//2)*x[1]*a[3, 1] + (1//2)*x[2]*a[2, 3] + (1//2)*x[2]*a[3, 2]"
      ]
     },
     "execution_count": 43,
     "metadata": {},
     "output_type": "execute_result"
    }
   ],
   "source": [
    "Symbolics.gradient(X'A*X/2, X)"
   ]
  },
  {
   "cell_type": "code",
   "execution_count": 44,
   "id": "1a581728-b1b0-4147-8111-284070d11d76",
   "metadata": {},
   "outputs": [
    {
     "data": {
      "text/plain": [
       "(:(function (ˍ₋arg1, ˍ₋arg2)\n",
       "      #= D:\\.julia\\packages\\SymbolicUtils\\Hwe4r\\src\\code.jl:282 =#\n",
       "      #= D:\\.julia\\packages\\SymbolicUtils\\Hwe4r\\src\\code.jl:283 =#\n",
       "      let var\"a[1, 1]\" = #= D:\\.julia\\packages\\SymbolicUtils\\Hwe4r\\src\\code.jl:169 =# @inbounds(ˍ₋arg1[1]), var\"a[2, 1]\" = #= D:\\.julia\\packages\\SymbolicUtils\\Hwe4r\\src\\code.jl:169 =# @inbounds(ˍ₋arg1[2]), var\"a[3, 1]\" = #= D:\\.julia\\packages\\SymbolicUtils\\Hwe4r\\src\\code.jl:169 =# @inbounds(ˍ₋arg1[3]), var\"a[1, 2]\" = #= D:\\.julia\\packages\\SymbolicUtils\\Hwe4r\\src\\code.jl:169 =# @inbounds(ˍ₋arg1[4]), var\"a[2, 2]\" = #= D:\\.julia\\packages\\SymbolicUtils\\Hwe4r\\src\\code.jl:169 =# @inbounds(ˍ₋arg1[5]), var\"a[3, 2]\" = #= D:\\.julia\\packages\\SymbolicUtils\\Hwe4r\\src\\code.jl:169 =# @inbounds(ˍ₋arg1[6]), var\"a[1, 3]\" = #= D:\\.julia\\packages\\SymbolicUtils\\Hwe4r\\src\\code.jl:169 =# @inbounds(ˍ₋arg1[7]), var\"a[2, 3]\" = #= D:\\.julia\\packages\\SymbolicUtils\\Hwe4r\\src\\code.jl:169 =# @inbounds(ˍ₋arg1[8]), var\"a[3, 3]\" = #= D:\\.julia\\packages\\SymbolicUtils\\Hwe4r\\src\\code.jl:169 =# @inbounds(ˍ₋arg1[9]), var\"x[1]\" = #= D:\\.julia\\packages\\SymbolicUtils\\Hwe4r\\src\\code.jl:169 =# @inbounds(ˍ₋arg2[1]), var\"x[2]\" = #= D:\\.julia\\packages\\SymbolicUtils\\Hwe4r\\src\\code.jl:169 =# @inbounds(ˍ₋arg2[2]), var\"x[3]\" = #= D:\\.julia\\packages\\SymbolicUtils\\Hwe4r\\src\\code.jl:169 =# @inbounds(ˍ₋arg2[3])\n",
       "          #= D:\\.julia\\packages\\SymbolicUtils\\Hwe4r\\src\\code.jl:375 =#\n",
       "          (SymbolicUtils.Code.create_array)(typeof(ˍ₋arg1), nothing, Val{1}(), Val{(3,)}(), (+)((+)((*)(var\"x[1]\", var\"a[1, 1]\"), (*)(1//2, var\"x[2]\", var\"a[1, 2]\"), (*)(1//2, var\"x[2]\", var\"a[2, 1]\"), (*)(1//2, var\"x[3]\", var\"a[1, 3]\")), (+)((*)(1//2, var\"x[3]\", var\"a[3, 1]\"))), (+)((+)((*)(var\"x[2]\", var\"a[2, 2]\"), (*)(1//2, var\"x[1]\", var\"a[1, 2]\"), (*)(1//2, var\"x[1]\", var\"a[2, 1]\"), (*)(1//2, var\"x[3]\", var\"a[2, 3]\")), (+)((*)(1//2, var\"x[3]\", var\"a[3, 2]\"))), (+)((+)((*)(var\"x[3]\", var\"a[3, 3]\"), (*)(1//2, var\"x[1]\", var\"a[1, 3]\"), (*)(1//2, var\"x[1]\", var\"a[3, 1]\"), (*)(1//2, var\"x[2]\", var\"a[2, 3]\")), (+)((*)(1//2, var\"x[2]\", var\"a[3, 2]\"))))\n",
       "      end\n",
       "  end), :(function (ˍ₋out, ˍ₋arg1, ˍ₋arg2)\n",
       "      #= D:\\.julia\\packages\\SymbolicUtils\\Hwe4r\\src\\code.jl:282 =#\n",
       "      #= D:\\.julia\\packages\\SymbolicUtils\\Hwe4r\\src\\code.jl:283 =#\n",
       "      let var\"a[1, 1]\" = #= D:\\.julia\\packages\\SymbolicUtils\\Hwe4r\\src\\code.jl:169 =# @inbounds(ˍ₋arg1[1]), var\"a[2, 1]\" = #= D:\\.julia\\packages\\SymbolicUtils\\Hwe4r\\src\\code.jl:169 =# @inbounds(ˍ₋arg1[2]), var\"a[3, 1]\" = #= D:\\.julia\\packages\\SymbolicUtils\\Hwe4r\\src\\code.jl:169 =# @inbounds(ˍ₋arg1[3]), var\"a[1, 2]\" = #= D:\\.julia\\packages\\SymbolicUtils\\Hwe4r\\src\\code.jl:169 =# @inbounds(ˍ₋arg1[4]), var\"a[2, 2]\" = #= D:\\.julia\\packages\\SymbolicUtils\\Hwe4r\\src\\code.jl:169 =# @inbounds(ˍ₋arg1[5]), var\"a[3, 2]\" = #= D:\\.julia\\packages\\SymbolicUtils\\Hwe4r\\src\\code.jl:169 =# @inbounds(ˍ₋arg1[6]), var\"a[1, 3]\" = #= D:\\.julia\\packages\\SymbolicUtils\\Hwe4r\\src\\code.jl:169 =# @inbounds(ˍ₋arg1[7]), var\"a[2, 3]\" = #= D:\\.julia\\packages\\SymbolicUtils\\Hwe4r\\src\\code.jl:169 =# @inbounds(ˍ₋arg1[8]), var\"a[3, 3]\" = #= D:\\.julia\\packages\\SymbolicUtils\\Hwe4r\\src\\code.jl:169 =# @inbounds(ˍ₋arg1[9]), var\"x[1]\" = #= D:\\.julia\\packages\\SymbolicUtils\\Hwe4r\\src\\code.jl:169 =# @inbounds(ˍ₋arg2[1]), var\"x[2]\" = #= D:\\.julia\\packages\\SymbolicUtils\\Hwe4r\\src\\code.jl:169 =# @inbounds(ˍ₋arg2[2]), var\"x[3]\" = #= D:\\.julia\\packages\\SymbolicUtils\\Hwe4r\\src\\code.jl:169 =# @inbounds(ˍ₋arg2[3])\n",
       "          #= D:\\.julia\\packages\\Symbolics\\fd3w9\\src\\build_function.jl:373 =#\n",
       "          #= D:\\.julia\\packages\\SymbolicUtils\\Hwe4r\\src\\code.jl:329 =# @inbounds begin\n",
       "                  #= D:\\.julia\\packages\\SymbolicUtils\\Hwe4r\\src\\code.jl:325 =#\n",
       "                  ˍ₋out[1] = (+)((+)((*)(var\"x[1]\", var\"a[1, 1]\"), (*)(1//2, var\"x[2]\", var\"a[1, 2]\"), (*)(1//2, var\"x[2]\", var\"a[2, 1]\"), (*)(1//2, var\"x[3]\", var\"a[1, 3]\")), (+)((*)(1//2, var\"x[3]\", var\"a[3, 1]\")))\n",
       "                  ˍ₋out[2] = (+)((+)((*)(var\"x[2]\", var\"a[2, 2]\"), (*)(1//2, var\"x[1]\", var\"a[1, 2]\"), (*)(1//2, var\"x[1]\", var\"a[2, 1]\"), (*)(1//2, var\"x[3]\", var\"a[2, 3]\")), (+)((*)(1//2, var\"x[3]\", var\"a[3, 2]\")))\n",
       "                  ˍ₋out[3] = (+)((+)((*)(var\"x[3]\", var\"a[3, 3]\"), (*)(1//2, var\"x[1]\", var\"a[1, 3]\"), (*)(1//2, var\"x[1]\", var\"a[3, 1]\"), (*)(1//2, var\"x[2]\", var\"a[2, 3]\")), (+)((*)(1//2, var\"x[2]\", var\"a[3, 2]\")))\n",
       "                  #= D:\\.julia\\packages\\SymbolicUtils\\Hwe4r\\src\\code.jl:327 =#\n",
       "                  nothing\n",
       "              end\n",
       "      end\n",
       "  end))"
      ]
     },
     "execution_count": 44,
     "metadata": {},
     "output_type": "execute_result"
    }
   ],
   "source": [
    "f_expr = build_function(Symbolics.gradient(X'A*X/2, X), A, X)"
   ]
  },
  {
   "cell_type": "code",
   "execution_count": 45,
   "id": "61f047c3-197f-4db5-8124-c215cad3a5e5",
   "metadata": {},
   "outputs": [
    {
     "data": {
      "text/plain": [
       ":(function (ˍ₋arg1, ˍ₋arg2)\n",
       "      let var\"a[1, 1]\" = #= D:\\.julia\\packages\\SymbolicUtils\\Hwe4r\\src\\code.jl:169 =# @inbounds(ˍ₋arg1[1]), var\"a[2, 1]\" = #= D:\\.julia\\packages\\SymbolicUtils\\Hwe4r\\src\\code.jl:169 =# @inbounds(ˍ₋arg1[2]), var\"a[3, 1]\" = #= D:\\.julia\\packages\\SymbolicUtils\\Hwe4r\\src\\code.jl:169 =# @inbounds(ˍ₋arg1[3]), var\"a[1, 2]\" = #= D:\\.julia\\packages\\SymbolicUtils\\Hwe4r\\src\\code.jl:169 =# @inbounds(ˍ₋arg1[4]), var\"a[2, 2]\" = #= D:\\.julia\\packages\\SymbolicUtils\\Hwe4r\\src\\code.jl:169 =# @inbounds(ˍ₋arg1[5]), var\"a[3, 2]\" = #= D:\\.julia\\packages\\SymbolicUtils\\Hwe4r\\src\\code.jl:169 =# @inbounds(ˍ₋arg1[6]), var\"a[1, 3]\" = #= D:\\.julia\\packages\\SymbolicUtils\\Hwe4r\\src\\code.jl:169 =# @inbounds(ˍ₋arg1[7]), var\"a[2, 3]\" = #= D:\\.julia\\packages\\SymbolicUtils\\Hwe4r\\src\\code.jl:169 =# @inbounds(ˍ₋arg1[8]), var\"a[3, 3]\" = #= D:\\.julia\\packages\\SymbolicUtils\\Hwe4r\\src\\code.jl:169 =# @inbounds(ˍ₋arg1[9]), var\"x[1]\" = #= D:\\.julia\\packages\\SymbolicUtils\\Hwe4r\\src\\code.jl:169 =# @inbounds(ˍ₋arg2[1]), var\"x[2]\" = #= D:\\.julia\\packages\\SymbolicUtils\\Hwe4r\\src\\code.jl:169 =# @inbounds(ˍ₋arg2[2]), var\"x[3]\" = #= D:\\.julia\\packages\\SymbolicUtils\\Hwe4r\\src\\code.jl:169 =# @inbounds(ˍ₋arg2[3])\n",
       "          (SymbolicUtils.Code.create_array)(typeof(ˍ₋arg1), nothing, Val{1}(), Val{(3,)}(), (+)((+)((*)(var\"x[1]\", var\"a[1, 1]\"), (*)(1//2, var\"x[2]\", var\"a[1, 2]\"), (*)(1//2, var\"x[2]\", var\"a[2, 1]\"), (*)(1//2, var\"x[3]\", var\"a[1, 3]\")), (+)((*)(1//2, var\"x[3]\", var\"a[3, 1]\"))), (+)((+)((*)(var\"x[2]\", var\"a[2, 2]\"), (*)(1//2, var\"x[1]\", var\"a[1, 2]\"), (*)(1//2, var\"x[1]\", var\"a[2, 1]\"), (*)(1//2, var\"x[3]\", var\"a[2, 3]\")), (+)((*)(1//2, var\"x[3]\", var\"a[3, 2]\"))), (+)((+)((*)(var\"x[3]\", var\"a[3, 3]\"), (*)(1//2, var\"x[1]\", var\"a[1, 3]\"), (*)(1//2, var\"x[1]\", var\"a[3, 1]\"), (*)(1//2, var\"x[2]\", var\"a[2, 3]\")), (+)((*)(1//2, var\"x[2]\", var\"a[3, 2]\"))))\n",
       "      end\n",
       "  end)"
      ]
     },
     "execution_count": 45,
     "metadata": {},
     "output_type": "execute_result"
    }
   ],
   "source": [
    "f_expr[1] |> Base.remove_linenums!"
   ]
  },
  {
   "cell_type": "code",
   "execution_count": 46,
   "id": "37d4a51b-21ab-49d1-bec2-d5f66e823d45",
   "metadata": {},
   "outputs": [
    {
     "data": {
      "text/plain": [
       "#1 (generic function with 1 method)"
      ]
     },
     "execution_count": 46,
     "metadata": {},
     "output_type": "execute_result"
    }
   ],
   "source": [
    "f = eval(f_expr[1])"
   ]
  },
  {
   "cell_type": "code",
   "execution_count": 56,
   "id": "dc0eb8d4-e95d-4c79-9658-ceae4431a177",
   "metadata": {},
   "outputs": [
    {
     "data": {
      "text/plain": [
       "3×3 SMatrix{3, 3, Int64, 9} with indices SOneTo(3)×SOneTo(3):\n",
       "  2  -1   0\n",
       " -1   2  -1\n",
       "  0  -1   2"
      ]
     },
     "execution_count": 56,
     "metadata": {},
     "output_type": "execute_result"
    }
   ],
   "source": [
    "AA = SA[\n",
    "    2 -1 0\n",
    "    -1 2 -1\n",
    "    0 -1 2\n",
    "]"
   ]
  },
  {
   "cell_type": "code",
   "execution_count": 57,
   "id": "fb08d4c2-c162-42cc-9236-8d1918b143b7",
   "metadata": {},
   "outputs": [
    {
     "data": {
      "text/latex": [
       "\\begin{equation}\n",
       "\\left[\n",
       "\\begin{array}{c}\n",
       "x{_1} \\\\\n",
       "x{_2} \\\\\n",
       "x{_3} \\\\\n",
       "\\end{array}\n",
       "\\right]\n",
       "\\end{equation}\n"
      ],
      "text/plain": [
       "3-element SVector{3, Num} with indices SOneTo(3):\n",
       " x[1]\n",
       " x[2]\n",
       " x[3]"
      ]
     },
     "execution_count": 57,
     "metadata": {},
     "output_type": "execute_result"
    }
   ],
   "source": [
    "XX = SVector(X...)"
   ]
  },
  {
   "cell_type": "code",
   "execution_count": 59,
   "id": "af171f0b-c298-4719-ad8d-e31fdc16dca9",
   "metadata": {},
   "outputs": [
    {
     "data": {
      "text/plain": [
       "SVector{3, Num} (alias for SArray{Tuple{3}, Num, 1, 3})"
      ]
     },
     "execution_count": 59,
     "metadata": {},
     "output_type": "execute_result"
    }
   ],
   "source": [
    "f(AA, XX) |> typeof"
   ]
  },
  {
   "cell_type": "code",
   "execution_count": 61,
   "id": "2d738440-b392-4331-9677-e6cba0ae59e5",
   "metadata": {},
   "outputs": [
    {
     "name": "stdout",
     "output_type": "stream",
     "text": [
      "function (ˍ₋arg1, ˍ₋arg2)\n",
      "    let var\"a[1, 1]\" = #= D:\\.julia\\packages\\SymbolicUtils\\Hwe4r\\src\\code.jl:169 =# @inbounds(ˍ₋arg1[1]), var\"a[2, 1]\" = #= D:\\.julia\\packages\\SymbolicUtils\\Hwe4r\\src\\code.jl:169 =# @inbounds(ˍ₋arg1[2]), var\"a[3, 1]\" = #= D:\\.julia\\packages\\SymbolicUtils\\Hwe4r\\src\\code.jl:169 =# @inbounds(ˍ₋arg1[3]), var\"a[1, 2]\" = #= D:\\.julia\\packages\\SymbolicUtils\\Hwe4r\\src\\code.jl:169 =# @inbounds(ˍ₋arg1[4]), var\"a[2, 2]\" = #= D:\\.julia\\packages\\SymbolicUtils\\Hwe4r\\src\\code.jl:169 =# @inbounds(ˍ₋arg1[5]), var\"a[3, 2]\" = #= D:\\.julia\\packages\\SymbolicUtils\\Hwe4r\\src\\code.jl:169 =# @inbounds(ˍ₋arg1[6]), var\"a[1, 3]\" = #= D:\\.julia\\packages\\SymbolicUtils\\Hwe4r\\src\\code.jl:169 =# @inbounds(ˍ₋arg1[7]), var\"a[2, 3]\" = #= D:\\.julia\\packages\\SymbolicUtils\\Hwe4r\\src\\code.jl:169 =# @inbounds(ˍ₋arg1[8]), var\"a[3, 3]\" = #= D:\\.julia\\packages\\SymbolicUtils\\Hwe4r\\src\\code.jl:169 =# @inbounds(ˍ₋arg1[9]), var\"x[1]\" = #= D:\\.julia\\packages\\SymbolicUtils\\Hwe4r\\src\\code.jl:169 =# @inbounds(ˍ₋arg2[1]), var\"x[2]\" = #= D:\\.julia\\packages\\SymbolicUtils\\Hwe4r\\src\\code.jl:169 =# @inbounds(ˍ₋arg2[2]), var\"x[3]\" = #= D:\\.julia\\packages\\SymbolicUtils\\Hwe4r\\src\\code.jl:169 =# @inbounds(ˍ₋arg2[3])\n",
      "        (SymbolicUtils.Code.create_array)(typeof(ˍ₋arg1), nothing, Val{1}(), Val{(3,)}(), (+)((+)((*)(var\"x[1]\", var\"a[1, 1]\"), (*)(1//2, var\"x[2]\", var\"a[1, 2]\"), (*)(1//2, var\"x[2]\", var\"a[2, 1]\"), (*)(1//2, var\"x[3]\", var\"a[1, 3]\")), (+)((*)(1//2, var\"x[3]\", var\"a[3, 1]\"))), (+)((+)((*)(var\"x[2]\", var\"a[2, 2]\"), (*)(1//2, var\"x[1]\", var\"a[1, 2]\"), (*)(1//2, var\"x[1]\", var\"a[2, 1]\"), (*)(1//2, var\"x[3]\", var\"a[2, 3]\")), (+)((*)(1//2, var\"x[3]\", var\"a[3, 2]\"))), (+)((+)((*)(var\"x[3]\", var\"a[3, 3]\"), (*)(1//2, var\"x[1]\", var\"a[1, 3]\"), (*)(1//2, var\"x[1]\", var\"a[3, 1]\"), (*)(1//2, var\"x[2]\", var\"a[2, 3]\")), (+)((*)(1//2, var\"x[2]\", var\"a[3, 2]\"))))\n",
      "    end\n",
      "end"
     ]
    }
   ],
   "source": [
    "string(f_expr[1]) |> print"
   ]
  },
  {
   "cell_type": "code",
   "execution_count": 62,
   "id": "071647d6-0a56-4d96-a406-65ae31626588",
   "metadata": {},
   "outputs": [
    {
     "data": {
      "text/plain": [
       "(RuntimeGeneratedFunctions.RuntimeGeneratedFunction{(:ˍ₋arg1, :ˍ₋arg2), Symbolics.var\"#_RGF_ModTag\", Symbolics.var\"#_RGF_ModTag\", (0x9a8745f3, 0xc6f732c3, 0x31df4e8c, 0x4a5420e1, 0xa9b39910)}(quote\n",
       "    #= D:\\.julia\\packages\\SymbolicUtils\\Hwe4r\\src\\code.jl:282 =#\n",
       "    #= D:\\.julia\\packages\\SymbolicUtils\\Hwe4r\\src\\code.jl:283 =#\n",
       "    let var\"a[1, 1]\" = #= D:\\.julia\\packages\\SymbolicUtils\\Hwe4r\\src\\code.jl:169 =# @inbounds(ˍ₋arg1[1]), var\"a[2, 1]\" = #= D:\\.julia\\packages\\SymbolicUtils\\Hwe4r\\src\\code.jl:169 =# @inbounds(ˍ₋arg1[2]), var\"a[3, 1]\" = #= D:\\.julia\\packages\\SymbolicUtils\\Hwe4r\\src\\code.jl:169 =# @inbounds(ˍ₋arg1[3]), var\"a[1, 2]\" = #= D:\\.julia\\packages\\SymbolicUtils\\Hwe4r\\src\\code.jl:169 =# @inbounds(ˍ₋arg1[4]), var\"a[2, 2]\" = #= D:\\.julia\\packages\\SymbolicUtils\\Hwe4r\\src\\code.jl:169 =# @inbounds(ˍ₋arg1[5]), var\"a[3, 2]\" = #= D:\\.julia\\packages\\SymbolicUtils\\Hwe4r\\src\\code.jl:169 =# @inbounds(ˍ₋arg1[6]), var\"a[1, 3]\" = #= D:\\.julia\\packages\\SymbolicUtils\\Hwe4r\\src\\code.jl:169 =# @inbounds(ˍ₋arg1[7]), var\"a[2, 3]\" = #= D:\\.julia\\packages\\SymbolicUtils\\Hwe4r\\src\\code.jl:169 =# @inbounds(ˍ₋arg1[8]), var\"a[3, 3]\" = #= D:\\.julia\\packages\\SymbolicUtils\\Hwe4r\\src\\code.jl:169 =# @inbounds(ˍ₋arg1[9]), var\"x[1]\" = #= D:\\.julia\\packages\\SymbolicUtils\\Hwe4r\\src\\code.jl:169 =# @inbounds(ˍ₋arg2[1]), var\"x[2]\" = #= D:\\.julia\\packages\\SymbolicUtils\\Hwe4r\\src\\code.jl:169 =# @inbounds(ˍ₋arg2[2]), var\"x[3]\" = #= D:\\.julia\\packages\\SymbolicUtils\\Hwe4r\\src\\code.jl:169 =# @inbounds(ˍ₋arg2[3])\n",
       "        #= D:\\.julia\\packages\\SymbolicUtils\\Hwe4r\\src\\code.jl:375 =#\n",
       "        (SymbolicUtils.Code.create_array)(typeof(ˍ₋arg1), nothing, Val{1}(), Val{(3,)}(), (+)((+)((*)(var\"x[1]\", var\"a[1, 1]\"), (*)(1//2, var\"x[2]\", var\"a[1, 2]\"), (*)(1//2, var\"x[2]\", var\"a[2, 1]\"), (*)(1//2, var\"x[3]\", var\"a[1, 3]\")), (+)((*)(1//2, var\"x[3]\", var\"a[3, 1]\"))), (+)((+)((*)(var\"x[2]\", var\"a[2, 2]\"), (*)(1//2, var\"x[1]\", var\"a[1, 2]\"), (*)(1//2, var\"x[1]\", var\"a[2, 1]\"), (*)(1//2, var\"x[3]\", var\"a[2, 3]\")), (+)((*)(1//2, var\"x[3]\", var\"a[3, 2]\"))), (+)((+)((*)(var\"x[3]\", var\"a[3, 3]\"), (*)(1//2, var\"x[1]\", var\"a[1, 3]\"), (*)(1//2, var\"x[1]\", var\"a[3, 1]\"), (*)(1//2, var\"x[2]\", var\"a[2, 3]\")), (+)((*)(1//2, var\"x[2]\", var\"a[3, 2]\"))))\n",
       "    end\n",
       "end), RuntimeGeneratedFunctions.RuntimeGeneratedFunction{(:ˍ₋out, :ˍ₋arg1, :ˍ₋arg2), Symbolics.var\"#_RGF_ModTag\", Symbolics.var\"#_RGF_ModTag\", (0xc5f304e4, 0xcebd6a78, 0x1617d93f, 0x8bbba735, 0x070674d5)}(quote\n",
       "    #= D:\\.julia\\packages\\SymbolicUtils\\Hwe4r\\src\\code.jl:282 =#\n",
       "    #= D:\\.julia\\packages\\SymbolicUtils\\Hwe4r\\src\\code.jl:283 =#\n",
       "    let var\"a[1, 1]\" = #= D:\\.julia\\packages\\SymbolicUtils\\Hwe4r\\src\\code.jl:169 =# @inbounds(ˍ₋arg1[1]), var\"a[2, 1]\" = #= D:\\.julia\\packages\\SymbolicUtils\\Hwe4r\\src\\code.jl:169 =# @inbounds(ˍ₋arg1[2]), var\"a[3, 1]\" = #= D:\\.julia\\packages\\SymbolicUtils\\Hwe4r\\src\\code.jl:169 =# @inbounds(ˍ₋arg1[3]), var\"a[1, 2]\" = #= D:\\.julia\\packages\\SymbolicUtils\\Hwe4r\\src\\code.jl:169 =# @inbounds(ˍ₋arg1[4]), var\"a[2, 2]\" = #= D:\\.julia\\packages\\SymbolicUtils\\Hwe4r\\src\\code.jl:169 =# @inbounds(ˍ₋arg1[5]), var\"a[3, 2]\" = #= D:\\.julia\\packages\\SymbolicUtils\\Hwe4r\\src\\code.jl:169 =# @inbounds(ˍ₋arg1[6]), var\"a[1, 3]\" = #= D:\\.julia\\packages\\SymbolicUtils\\Hwe4r\\src\\code.jl:169 =# @inbounds(ˍ₋arg1[7]), var\"a[2, 3]\" = #= D:\\.julia\\packages\\SymbolicUtils\\Hwe4r\\src\\code.jl:169 =# @inbounds(ˍ₋arg1[8]), var\"a[3, 3]\" = #= D:\\.julia\\packages\\SymbolicUtils\\Hwe4r\\src\\code.jl:169 =# @inbounds(ˍ₋arg1[9]), var\"x[1]\" = #= D:\\.julia\\packages\\SymbolicUtils\\Hwe4r\\src\\code.jl:169 =# @inbounds(ˍ₋arg2[1]), var\"x[2]\" = #= D:\\.julia\\packages\\SymbolicUtils\\Hwe4r\\src\\code.jl:169 =# @inbounds(ˍ₋arg2[2]), var\"x[3]\" = #= D:\\.julia\\packages\\SymbolicUtils\\Hwe4r\\src\\code.jl:169 =# @inbounds(ˍ₋arg2[3])\n",
       "        #= D:\\.julia\\packages\\Symbolics\\fd3w9\\src\\build_function.jl:373 =#\n",
       "        #= D:\\.julia\\packages\\SymbolicUtils\\Hwe4r\\src\\code.jl:329 =# @inbounds begin\n",
       "                #= D:\\.julia\\packages\\SymbolicUtils\\Hwe4r\\src\\code.jl:325 =#\n",
       "                ˍ₋out[1] = (+)((+)((*)(var\"x[1]\", var\"a[1, 1]\"), (*)(1//2, var\"x[2]\", var\"a[1, 2]\"), (*)(1//2, var\"x[2]\", var\"a[2, 1]\"), (*)(1//2, var\"x[3]\", var\"a[1, 3]\")), (+)((*)(1//2, var\"x[3]\", var\"a[3, 1]\")))\n",
       "                ˍ₋out[2] = (+)((+)((*)(var\"x[2]\", var\"a[2, 2]\"), (*)(1//2, var\"x[1]\", var\"a[1, 2]\"), (*)(1//2, var\"x[1]\", var\"a[2, 1]\"), (*)(1//2, var\"x[3]\", var\"a[2, 3]\")), (+)((*)(1//2, var\"x[3]\", var\"a[3, 2]\")))\n",
       "                ˍ₋out[3] = (+)((+)((*)(var\"x[3]\", var\"a[3, 3]\"), (*)(1//2, var\"x[1]\", var\"a[1, 3]\"), (*)(1//2, var\"x[1]\", var\"a[3, 1]\"), (*)(1//2, var\"x[2]\", var\"a[2, 3]\")), (+)((*)(1//2, var\"x[2]\", var\"a[3, 2]\")))\n",
       "                #= D:\\.julia\\packages\\SymbolicUtils\\Hwe4r\\src\\code.jl:327 =#\n",
       "                nothing\n",
       "            end\n",
       "    end\n",
       "end))"
      ]
     },
     "execution_count": 62,
     "metadata": {},
     "output_type": "execute_result"
    }
   ],
   "source": [
    "g_expr = build_function(Symbolics.gradient(X'A*X/2, X), A, X; expression=Val(false))"
   ]
  },
  {
   "cell_type": "code",
   "execution_count": 64,
   "id": "1fc48fcd-07ac-42ee-a8a5-0caed0df5228",
   "metadata": {},
   "outputs": [
    {
     "data": {
      "text/plain": [
       "RuntimeGeneratedFunction(#=in Symbolics=#, #=using Symbolics=#, :((ˍ₋arg1, ˍ₋arg2)->begin\n",
       "          #= D:\\.julia\\packages\\SymbolicUtils\\Hwe4r\\src\\code.jl:282 =#\n",
       "          #= D:\\.julia\\packages\\SymbolicUtils\\Hwe4r\\src\\code.jl:283 =#\n",
       "          let var\"a[1, 1]\" = #= D:\\.julia\\packages\\SymbolicUtils\\Hwe4r\\src\\code.jl:169 =# @inbounds(ˍ₋arg1[1]), var\"a[2, 1]\" = #= D:\\.julia\\packages\\SymbolicUtils\\Hwe4r\\src\\code.jl:169 =# @inbounds(ˍ₋arg1[2]), var\"a[3, 1]\" = #= D:\\.julia\\packages\\SymbolicUtils\\Hwe4r\\src\\code.jl:169 =# @inbounds(ˍ₋arg1[3]), var\"a[1, 2]\" = #= D:\\.julia\\packages\\SymbolicUtils\\Hwe4r\\src\\code.jl:169 =# @inbounds(ˍ₋arg1[4]), var\"a[2, 2]\" = #= D:\\.julia\\packages\\SymbolicUtils\\Hwe4r\\src\\code.jl:169 =# @inbounds(ˍ₋arg1[5]), var\"a[3, 2]\" = #= D:\\.julia\\packages\\SymbolicUtils\\Hwe4r\\src\\code.jl:169 =# @inbounds(ˍ₋arg1[6]), var\"a[1, 3]\" = #= D:\\.julia\\packages\\SymbolicUtils\\Hwe4r\\src\\code.jl:169 =# @inbounds(ˍ₋arg1[7]), var\"a[2, 3]\" = #= D:\\.julia\\packages\\SymbolicUtils\\Hwe4r\\src\\code.jl:169 =# @inbounds(ˍ₋arg1[8]), var\"a[3, 3]\" = #= D:\\.julia\\packages\\SymbolicUtils\\Hwe4r\\src\\code.jl:169 =# @inbounds(ˍ₋arg1[9]), var\"x[1]\" = #= D:\\.julia\\packages\\SymbolicUtils\\Hwe4r\\src\\code.jl:169 =# @inbounds(ˍ₋arg2[1]), var\"x[2]\" = #= D:\\.julia\\packages\\SymbolicUtils\\Hwe4r\\src\\code.jl:169 =# @inbounds(ˍ₋arg2[2]), var\"x[3]\" = #= D:\\.julia\\packages\\SymbolicUtils\\Hwe4r\\src\\code.jl:169 =# @inbounds(ˍ₋arg2[3])\n",
       "              #= D:\\.julia\\packages\\SymbolicUtils\\Hwe4r\\src\\code.jl:375 =#\n",
       "              (SymbolicUtils.Code.create_array)(typeof(ˍ₋arg1), nothing, Val{1}(), Val{(3,)}(), (+)((+)((*)(var\"x[1]\", var\"a[1, 1]\"), (*)(1//2, var\"x[2]\", var\"a[1, 2]\"), (*)(1//2, var\"x[2]\", var\"a[2, 1]\"), (*)(1//2, var\"x[3]\", var\"a[1, 3]\")), (+)((*)(1//2, var\"x[3]\", var\"a[3, 1]\"))), (+)((+)((*)(var\"x[2]\", var\"a[2, 2]\"), (*)(1//2, var\"x[1]\", var\"a[1, 2]\"), (*)(1//2, var\"x[1]\", var\"a[2, 1]\"), (*)(1//2, var\"x[3]\", var\"a[2, 3]\")), (+)((*)(1//2, var\"x[3]\", var\"a[3, 2]\"))), (+)((+)((*)(var\"x[3]\", var\"a[3, 3]\"), (*)(1//2, var\"x[1]\", var\"a[1, 3]\"), (*)(1//2, var\"x[1]\", var\"a[3, 1]\"), (*)(1//2, var\"x[2]\", var\"a[2, 3]\")), (+)((*)(1//2, var\"x[2]\", var\"a[3, 2]\"))))\n",
       "          end\n",
       "      end))"
      ]
     },
     "execution_count": 64,
     "metadata": {},
     "output_type": "execute_result"
    }
   ],
   "source": [
    "g_expr[1] |> Base.remove_linenums!"
   ]
  },
  {
   "cell_type": "code",
   "execution_count": 68,
   "id": "31c86c59-21e9-4b9b-b6dd-6e98521e9daf",
   "metadata": {},
   "outputs": [
    {
     "data": {
      "text/plain": [
       "RuntimeGeneratedFunctions.RuntimeGeneratedFunction{(:ˍ₋arg1, :ˍ₋arg2), Symbolics.var\"#_RGF_ModTag\", Symbolics.var\"#_RGF_ModTag\", (0x9a8745f3, 0xc6f732c3, 0x31df4e8c, 0x4a5420e1, 0xa9b39910)}"
      ]
     },
     "execution_count": 68,
     "metadata": {},
     "output_type": "execute_result"
    }
   ],
   "source": [
    "typeof(g_expr[1])"
   ]
  },
  {
   "cell_type": "code",
   "execution_count": 70,
   "id": "4c92996f-d18d-4ee9-8ad4-3631a9725919",
   "metadata": {},
   "outputs": [
    {
     "data": {
      "text/plain": [
       "RuntimeGeneratedFunction(#=in Symbolics=#, #=using Symbolics=#, :((ˍ₋arg1, ˍ₋arg2)->begin\n",
       "          #= D:\\.julia\\packages\\SymbolicUtils\\Hwe4r\\src\\code.jl:282 =#\n",
       "          #= D:\\.julia\\packages\\SymbolicUtils\\Hwe4r\\src\\code.jl:283 =#\n",
       "          let var\"a[1, 1]\" = #= D:\\.julia\\packages\\SymbolicUtils\\Hwe4r\\src\\code.jl:169 =# @inbounds(ˍ₋arg1[1]), var\"a[2, 1]\" = #= D:\\.julia\\packages\\SymbolicUtils\\Hwe4r\\src\\code.jl:169 =# @inbounds(ˍ₋arg1[2]), var\"a[3, 1]\" = #= D:\\.julia\\packages\\SymbolicUtils\\Hwe4r\\src\\code.jl:169 =# @inbounds(ˍ₋arg1[3]), var\"a[1, 2]\" = #= D:\\.julia\\packages\\SymbolicUtils\\Hwe4r\\src\\code.jl:169 =# @inbounds(ˍ₋arg1[4]), var\"a[2, 2]\" = #= D:\\.julia\\packages\\SymbolicUtils\\Hwe4r\\src\\code.jl:169 =# @inbounds(ˍ₋arg1[5]), var\"a[3, 2]\" = #= D:\\.julia\\packages\\SymbolicUtils\\Hwe4r\\src\\code.jl:169 =# @inbounds(ˍ₋arg1[6]), var\"a[1, 3]\" = #= D:\\.julia\\packages\\SymbolicUtils\\Hwe4r\\src\\code.jl:169 =# @inbounds(ˍ₋arg1[7]), var\"a[2, 3]\" = #= D:\\.julia\\packages\\SymbolicUtils\\Hwe4r\\src\\code.jl:169 =# @inbounds(ˍ₋arg1[8]), var\"a[3, 3]\" = #= D:\\.julia\\packages\\SymbolicUtils\\Hwe4r\\src\\code.jl:169 =# @inbounds(ˍ₋arg1[9]), var\"x[1]\" = #= D:\\.julia\\packages\\SymbolicUtils\\Hwe4r\\src\\code.jl:169 =# @inbounds(ˍ₋arg2[1]), var\"x[2]\" = #= D:\\.julia\\packages\\SymbolicUtils\\Hwe4r\\src\\code.jl:169 =# @inbounds(ˍ₋arg2[2]), var\"x[3]\" = #= D:\\.julia\\packages\\SymbolicUtils\\Hwe4r\\src\\code.jl:169 =# @inbounds(ˍ₋arg2[3])\n",
       "              #= D:\\.julia\\packages\\SymbolicUtils\\Hwe4r\\src\\code.jl:375 =#\n",
       "              (SymbolicUtils.Code.create_array)(typeof(ˍ₋arg1), nothing, Val{1}(), Val{(3,)}(), (+)((+)((*)(var\"x[1]\", var\"a[1, 1]\"), (*)(1//2, var\"x[2]\", var\"a[1, 2]\"), (*)(1//2, var\"x[2]\", var\"a[2, 1]\"), (*)(1//2, var\"x[3]\", var\"a[1, 3]\")), (+)((*)(1//2, var\"x[3]\", var\"a[3, 1]\"))), (+)((+)((*)(var\"x[2]\", var\"a[2, 2]\"), (*)(1//2, var\"x[1]\", var\"a[1, 2]\"), (*)(1//2, var\"x[1]\", var\"a[2, 1]\"), (*)(1//2, var\"x[3]\", var\"a[2, 3]\")), (+)((*)(1//2, var\"x[3]\", var\"a[3, 2]\"))), (+)((+)((*)(var\"x[3]\", var\"a[3, 3]\"), (*)(1//2, var\"x[1]\", var\"a[1, 3]\"), (*)(1//2, var\"x[1]\", var\"a[3, 1]\"), (*)(1//2, var\"x[2]\", var\"a[2, 3]\")), (+)((*)(1//2, var\"x[2]\", var\"a[3, 2]\"))))\n",
       "          end\n",
       "      end))"
      ]
     },
     "execution_count": 70,
     "metadata": {},
     "output_type": "execute_result"
    }
   ],
   "source": [
    "g = g_expr[1]"
   ]
  },
  {
   "cell_type": "code",
   "execution_count": 73,
   "id": "1fa6eeba-4fc2-4f69-add1-ad2578f47326",
   "metadata": {},
   "outputs": [
    {
     "data": {
      "text/plain": [
       "SVector{3, Num} (alias for SArray{Tuple{3}, Num, 1, 3})"
      ]
     },
     "execution_count": 73,
     "metadata": {},
     "output_type": "execute_result"
    }
   ],
   "source": [
    "g(AA, XX) |> typeof"
   ]
  },
  {
   "cell_type": "code",
   "execution_count": null,
   "id": "d2a898ab-d032-4b60-8357-71376e071aaf",
   "metadata": {},
   "outputs": [],
   "source": []
  }
 ],
 "metadata": {
  "kernelspec": {
   "display_name": "Julia 1.6.2",
   "language": "julia",
   "name": "julia-1.6"
  },
  "language_info": {
   "file_extension": ".jl",
   "mimetype": "application/julia",
   "name": "julia",
   "version": "1.6.2"
  }
 },
 "nbformat": 4,
 "nbformat_minor": 5
}
