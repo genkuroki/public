{
 "cells": [
  {
   "cell_type": "code",
   "execution_count": 9,
   "id": "9907ace0-b025-49e4-b73a-a2ba242b6478",
   "metadata": {},
   "outputs": [
    {
     "data": {
      "text/plain": [
       "1000"
      ]
     },
     "execution_count": 9,
     "metadata": {},
     "output_type": "execute_result"
    }
   ],
   "source": [
    "ENV[\"LINES\"] = 1000"
   ]
  },
  {
   "cell_type": "code",
   "execution_count": 12,
   "id": "2f9810da-186f-43da-835d-a84046ccbde8",
   "metadata": {},
   "outputs": [
    {
     "data": {
      "text/plain": [
       "51-element Vector{Tuple{Int64, Int64, Int64}}:\n",
       " (8, 15, 17)\n",
       " (12, 35, 37)\n",
       " (16, 63, 65)\n",
       " (20, 21, 29)\n",
       " (20, 99, 101)\n",
       " (24, 143, 145)\n",
       " (28, 45, 53)\n",
       " (28, 195, 197)\n",
       " (32, 255, 257)\n",
       " (33, 56, 65)\n",
       " (36, 77, 85)\n",
       " (36, 323, 325)\n",
       " (39, 80, 89)\n",
       " (40, 399, 401)\n",
       " (44, 117, 125)\n",
       " (44, 483, 485)\n",
       " (48, 55, 73)\n",
       " (48, 575, 577)\n",
       " (51, 140, 149)\n",
       " (52, 165, 173)\n",
       " (52, 675, 677)\n",
       " (56, 783, 785)\n",
       " (57, 176, 185)\n",
       " (60, 91, 109)\n",
       " (60, 221, 229)\n",
       " (60, 899, 901)\n",
       " (64, 1023, 1025)\n",
       " (65, 72, 97)\n",
       " (68, 285, 293)\n",
       " (68, 1155, 1157)\n",
       " (69, 260, 269)\n",
       " (72, 1295, 1297)\n",
       " (75, 308, 317)\n",
       " (76, 357, 365)\n",
       " (76, 1443, 1445)\n",
       " (80, 1599, 1601)\n",
       " (84, 187, 205)\n",
       " (84, 437, 445)\n",
       " (84, 1763, 1765)\n",
       " (85, 132, 157)\n",
       " (87, 416, 425)\n",
       " (88, 105, 137)\n",
       " (88, 1935, 1937)\n",
       " (92, 525, 533)\n",
       " (92, 2115, 2117)\n",
       " (93, 476, 485)\n",
       " (95, 168, 193)\n",
       " (96, 247, 265)\n",
       " (96, 2303, 2305)\n",
       " (100, 621, 629)\n",
       " (100, 2499, 2501)"
      ]
     },
     "execution_count": 12,
     "metadata": {},
     "output_type": "execute_result"
    }
   ],
   "source": [
    "n = 100\n",
    "[(a, b, isqrt(a^2+b^2)) for a in 3:n for b in a+1:max(n, a^2÷2)\n",
    "    if gcd(a, b) == 1 && a^2 + b^2 == isqrt(a^2 + b^2)^2 && b != a^2÷2]"
   ]
  },
  {
   "cell_type": "code",
   "execution_count": null,
   "id": "21802ed7-8736-42ae-b7d8-58dd687eaafe",
   "metadata": {},
   "outputs": [],
   "source": []
  }
 ],
 "metadata": {
  "kernelspec": {
   "display_name": "Julia 1.6.2",
   "language": "julia",
   "name": "julia-1.6"
  },
  "language_info": {
   "file_extension": ".jl",
   "mimetype": "application/julia",
   "name": "julia",
   "version": "1.6.2"
  }
 },
 "nbformat": 4,
 "nbformat_minor": 5
}
