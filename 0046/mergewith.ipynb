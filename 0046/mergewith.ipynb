{
 "cells": [
  {
   "cell_type": "code",
   "execution_count": 1,
   "id": "e426402f-90cf-4b0d-a11b-9028959ee180",
   "metadata": {},
   "outputs": [],
   "source": [
    "using BenchmarkTools"
   ]
  },
  {
   "cell_type": "code",
   "execution_count": 2,
   "id": "ba553c7f-0ae7-47f6-953b-535e01606a0a",
   "metadata": {},
   "outputs": [
    {
     "name": "stdout",
     "output_type": "stream",
     "text": [
      "  1.330 μs (10 allocations: 688 bytes)\n"
     ]
    },
    {
     "data": {
      "text/plain": [
       "Dict{String, Int64} with 3 entries:\n",
       "  \"c\" => 8\n",
       "  \"b\" => 17\n",
       "  \"a\" => 8"
      ]
     },
     "execution_count": 2,
     "metadata": {},
     "output_type": "execute_result"
    }
   ],
   "source": [
    "# 仮定：P,Q,R,Sのすべてのkeysは同じ。\n",
    "P = Dict(\"a\"=>1, \"b\"=>2, \"c\"=>3)\n",
    "Q = Dict(\"a\"=>2, \"b\"=>4, \"c\"=>2)\n",
    "R = Dict(\"a\"=>2, \"b\"=>4, \"c\"=>5)\n",
    "S = Dict(\"a\"=>4, \"b\"=>9, \"c\"=>1)\n",
    "T = [Q, R, S]\n",
    "\n",
    "@btime P = mergewith(+, $T...)"
   ]
  },
  {
   "cell_type": "code",
   "execution_count": 3,
   "id": "5be5626d-07e6-4acb-8401-20deea2c9acb",
   "metadata": {},
   "outputs": [
    {
     "data": {
      "text/plain": [
       "Dict{String, Int64} with 3 entries:\n",
       "  \"c\" => 8\n",
       "  \"b\" => 17\n",
       "  \"a\" => 8"
      ]
     },
     "execution_count": 3,
     "metadata": {},
     "output_type": "execute_result"
    }
   ],
   "source": [
    "# 仮定：P,Q,R,Sのすべてのkeysは同じ。\n",
    "P = Dict(\"a\"=>1, \"b\"=>2, \"c\"=>3)\n",
    "Q = Dict(\"a\"=>2, \"b\"=>4, \"c\"=>2)\n",
    "R = Dict(\"a\"=>2, \"b\"=>4, \"c\"=>5)\n",
    "S = Dict(\"a\"=>4, \"b\"=>9, \"c\"=>1)\n",
    "T = [Q, R, S]\n",
    "\n",
    "for k in keys(P)\n",
    "    P[k] = sum(D -> D[k], T)\n",
    "end\n",
    "P"
   ]
  },
  {
   "cell_type": "code",
   "execution_count": 4,
   "id": "7efcb4fa-e6c4-4f64-b933-bcd934512399",
   "metadata": {},
   "outputs": [
    {
     "name": "stdout",
     "output_type": "stream",
     "text": [
      "  186.895 ns (0 allocations: 0 bytes)\n"
     ]
    },
    {
     "data": {
      "text/plain": [
       "Dict{String, Int64} with 3 entries:\n",
       "  \"c\" => 8\n",
       "  \"b\" => 17\n",
       "  \"a\" => 8"
      ]
     },
     "execution_count": 4,
     "metadata": {},
     "output_type": "execute_result"
    }
   ],
   "source": [
    "# 仮定：P,Q,R,Sのすべてのkeysは同じ。\n",
    "P = Dict(\"a\"=>1, \"b\"=>2, \"c\"=>3)\n",
    "Q = Dict(\"a\"=>2, \"b\"=>4, \"c\"=>2)\n",
    "R = Dict(\"a\"=>2, \"b\"=>4, \"c\"=>5)\n",
    "S = Dict(\"a\"=>4, \"b\"=>9, \"c\"=>1)\n",
    "T = [Q, R, S]\n",
    "\n",
    "@btime begin\n",
    "    for k in keys(PP)\n",
    "        PP[k] = sum(D -> D[k], TT)\n",
    "    end\n",
    "    PP\n",
    "end setup = begin\n",
    "    PP = copy(P)\n",
    "    TT = deepcopy(T)\n",
    "end"
   ]
  },
  {
   "cell_type": "code",
   "execution_count": 5,
   "id": "6fec3e35-72e5-410e-8732-7612c32e5346",
   "metadata": {},
   "outputs": [
    {
     "name": "stdout",
     "output_type": "stream",
     "text": [
      "  1.330 μs (10 allocations: 688 bytes)\n"
     ]
    },
    {
     "data": {
      "text/plain": [
       "Dict{String, Int64} with 5 entries:\n",
       "  \"c\" => 2\n",
       "  \"e\" => 1\n",
       "  \"b\" => 17\n",
       "  \"a\" => 8\n",
       "  \"d\" => 5"
      ]
     },
     "execution_count": 5,
     "metadata": {},
     "output_type": "execute_result"
    }
   ],
   "source": [
    "# 仮定：PはQ,R,Sのすべてのkeysを持つ。\n",
    "P = Dict(\"a\"=>1, \"b\"=>2, \"c\"=>3, \"d\"=>4, \"e\"=>5)\n",
    "Q = Dict(\"a\"=>2, \"b\"=>4, \"c\"=>2)\n",
    "R = Dict(\"a\"=>2, \"b\"=>4, \"d\"=>5)\n",
    "S = Dict(\"a\"=>4, \"b\"=>9, \"e\"=>1)\n",
    "T = [Q, R, S]\n",
    "\n",
    "@btime P = mergewith(+, $T...)"
   ]
  },
  {
   "cell_type": "code",
   "execution_count": 6,
   "id": "cca3131f-43b2-4ca1-858a-e516f8574e49",
   "metadata": {},
   "outputs": [
    {
     "data": {
      "text/plain": [
       "Dict{String, Int64} with 5 entries:\n",
       "  \"c\" => 2\n",
       "  \"e\" => 1\n",
       "  \"b\" => 17\n",
       "  \"a\" => 8\n",
       "  \"d\" => 5"
      ]
     },
     "execution_count": 6,
     "metadata": {},
     "output_type": "execute_result"
    }
   ],
   "source": [
    "# 仮定：PはQ,R,Sのすべてのkeysを持つ。\n",
    "P = Dict(\"a\"=>1, \"b\"=>2, \"c\"=>3, \"d\"=>4, \"e\"=>5)\n",
    "Q = Dict(\"a\"=>2, \"b\"=>4, \"c\"=>2)\n",
    "R = Dict(\"a\"=>2, \"b\"=>4, \"d\"=>5)\n",
    "S = Dict(\"a\"=>4, \"b\"=>9, \"e\"=>1)\n",
    "T = [Q, R, S]\n",
    "\n",
    "for k in keys(P)\n",
    "    P[k] = sum(D -> get(D, k, 0), T)\n",
    "end\n",
    "P"
   ]
  },
  {
   "cell_type": "code",
   "execution_count": 7,
   "id": "ed710f3e-3b4b-4faf-8b09-d3ec89d935ff",
   "metadata": {},
   "outputs": [
    {
     "name": "stdout",
     "output_type": "stream",
     "text": [
      "  281.041 ns (0 allocations: 0 bytes)\n"
     ]
    },
    {
     "data": {
      "text/plain": [
       "Dict{String, Int64} with 5 entries:\n",
       "  \"c\" => 2\n",
       "  \"e\" => 1\n",
       "  \"b\" => 17\n",
       "  \"a\" => 8\n",
       "  \"d\" => 5"
      ]
     },
     "execution_count": 7,
     "metadata": {},
     "output_type": "execute_result"
    }
   ],
   "source": [
    "#仮定：PはQ,R,Sのすべてのkeysを持つ。\n",
    "P = Dict(\"a\"=>1, \"b\"=>2, \"c\"=>3, \"d\"=>4, \"e\"=>5)\n",
    "Q = Dict(\"a\"=>2, \"b\"=>4, \"c\"=>2)\n",
    "R = Dict(\"a\"=>2, \"b\"=>4, \"d\"=>5)\n",
    "S = Dict(\"a\"=>4, \"b\"=>9, \"e\"=>1)\n",
    "T = [Q, R, S]\n",
    "\n",
    "@btime begin\n",
    "    for k in keys(PP)\n",
    "        PP[k] = sum(D -> get(D, k, 0), TT)\n",
    "    end\n",
    "    PP\n",
    "end setup = begin\n",
    "    PP = copy(P)\n",
    "    TT = deepcopy(T)\n",
    "end"
   ]
  },
  {
   "cell_type": "code",
   "execution_count": null,
   "id": "826ae42a-b79e-4556-a10d-57c923315df9",
   "metadata": {},
   "outputs": [],
   "source": []
  }
 ],
 "metadata": {
  "jupytext": {
   "formats": "ipynb,jl:hydrogen"
  },
  "kernelspec": {
   "display_name": "Julia 1.10.0",
   "language": "julia",
   "name": "julia-1.10"
  },
  "language_info": {
   "file_extension": ".jl",
   "mimetype": "application/julia",
   "name": "julia",
   "version": "1.10.0"
  }
 },
 "nbformat": 4,
 "nbformat_minor": 5
}
