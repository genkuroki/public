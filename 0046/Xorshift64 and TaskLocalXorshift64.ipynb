{
 "cells": [
  {
   "cell_type": "code",
   "execution_count": 1,
   "id": "00cb515f-c907-4598-bd02-c098a92245f4",
   "metadata": {},
   "outputs": [
    {
     "name": "stdout",
     "output_type": "stream",
     "text": [
      "xos = O.Xorshift64() = Main.O.Xorshift64(0x7a773b19571665b7)\n"
     ]
    },
    {
     "data": {
      "text/plain": [
       "20-element Vector{Float64}:\n",
       " 0.4519284631590901\n",
       " 0.9299239141367215\n",
       " 0.1286543650887897\n",
       " 0.49602294892657217\n",
       " 0.5178312573713015\n",
       " 0.02852614288910571\n",
       " 0.2858217211553711\n",
       " 0.277482916978532\n",
       " 0.01861016331933385\n",
       " 0.9842896313594018\n",
       " 0.40843096069966767\n",
       " 0.4932679147156869\n",
       " 0.875161862316413\n",
       " 0.5910835511766921\n",
       " 0.012837342164134569\n",
       " 0.5816915153769275\n",
       " 0.6100355858751731\n",
       " 0.7881262556610409\n",
       " 0.2541660540271016\n",
       " 0.25503918753414"
      ]
     },
     "execution_count": 1,
     "metadata": {},
     "output_type": "execute_result"
    }
   ],
   "source": [
    "using Random\n",
    "\n",
    "module O\n",
    "\n",
    "using Random: Random, AbstractRNG, RandomDevice\n",
    "\n",
    "@kwdef mutable struct Xorshift64 <: AbstractRNG\n",
    "    seed::UInt64 = rand(RandomDevice(), UInt64)\n",
    "end\n",
    "\n",
    "@inline getstate(xos::Xorshift64) = xos.seed\n",
    "\n",
    "@inline function setstate!(xos::Xorshift64, seed)\n",
    "    xos.seed = seed\n",
    "    xos\n",
    "end\n",
    "\n",
    "struct TaskLocalXorshift64 <: AbstractRNG end\n",
    "\n",
    "@inline getstate(::TaskLocalXorshift64) = current_task().rngState0\n",
    "\n",
    "@inline function setstate!(x::TaskLocalXorshift64, seed)\n",
    "    current_task().rngState0 = seed\n",
    "    x\n",
    "end\n",
    "\n",
    "Random.seed!(rng::Union{TaskLocalXorshift64, Xorshift64}, ::Nothing) =\n",
    "    setstate!(rng, rand(RandomDevice(), UInt64))\n",
    "\n",
    "Random.seed!(rng::Union{TaskLocalXorshift64, Xorshift64}, seed) =\n",
    "    setstate!(rng, seed)\n",
    "\n",
    "@inline function Random.rand(xos::Union{TaskLocalXorshift64, Xorshift64}, ::Random.SamplerType{UInt64})\n",
    "    res = getstate(xos)\n",
    "    x = getstate(xos)\n",
    "    x ⊻= x << 13\n",
    "    x ⊻= x >> 7\n",
    "    x ⊻= x << 17\n",
    "    setstate!(xos, x)\n",
    "    res\n",
    "end\n",
    "\n",
    "function Random.rand(xos::Union{TaskLocalXorshift64, Xorshift64},\n",
    "        ::Random.SamplerTrivial{Random.CloseOpen01{Float64}})\n",
    "    (rand(xos, UInt64) & UInt64(2^52 - 1)) / 2^52\n",
    "end\n",
    "\n",
    "end\n",
    "\n",
    "@show xos = O.Xorshift64()\n",
    "A = [rand(xos) for _ in 1:20]"
   ]
  },
  {
   "cell_type": "code",
   "execution_count": 2,
   "id": "1257b08c-7888-42c6-b799-b15b6c184655",
   "metadata": {},
   "outputs": [
    {
     "name": "stdout",
     "output_type": "stream",
     "text": [
      "xos = O.TaskLocalXorshift64() = Main.O.TaskLocalXorshift64()\n"
     ]
    },
    {
     "data": {
      "text/plain": [
       "20-element Vector{Float64}:\n",
       " 0.630010792991994\n",
       " 0.9235345458998883\n",
       " 0.10985381731841959\n",
       " 0.368083305738681\n",
       " 0.3918059821767035\n",
       " 0.3471823232321527\n",
       " 0.6722818515176587\n",
       " 0.4715838933697729\n",
       " 0.10995928019023427\n",
       " 0.23877713425756264\n",
       " 0.7023440119339981\n",
       " 0.8336480699403321\n",
       " 0.35885685843592263\n",
       " 0.20119387602339733\n",
       " 0.249804715095985\n",
       " 0.8365464081795184\n",
       " 0.40318162403397517\n",
       " 0.4954764054202565\n",
       " 0.7870998543847711\n",
       " 0.4516960942991073"
      ]
     },
     "execution_count": 2,
     "metadata": {},
     "output_type": "execute_result"
    }
   ],
   "source": [
    "@show xos = O.TaskLocalXorshift64()\n",
    "A = [rand(xos) for _ in 1:20]"
   ]
  },
  {
   "cell_type": "code",
   "execution_count": null,
   "id": "ab644b07-54d8-4bb0-9dfc-43c77b1a4288",
   "metadata": {},
   "outputs": [],
   "source": []
  }
 ],
 "metadata": {
  "kernelspec": {
   "display_name": "Julia 1.10.0",
   "language": "julia",
   "name": "julia-1.10"
  },
  "language_info": {
   "file_extension": ".jl",
   "mimetype": "application/julia",
   "name": "julia",
   "version": "1.10.0"
  }
 },
 "nbformat": 4,
 "nbformat_minor": 5
}
