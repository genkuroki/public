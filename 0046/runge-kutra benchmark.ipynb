{
 "cells": [
  {
   "cell_type": "markdown",
   "id": "dd6993ee-00f9-4ca0-8ae1-2bbf77ee850e",
   "metadata": {},
   "source": [
    "https://x.com/kame_no_mori/status/1734888762914820124?s=61&t=_KnHkB3gSNKRbi3Ce1GncA"
   ]
  },
  {
   "cell_type": "code",
   "execution_count": 1,
   "id": "ed344b85-a11f-44f1-8cf5-70c9802878d4",
   "metadata": {},
   "outputs": [
    {
     "name": "stdout",
     "output_type": "stream",
     "text": [
      "  2.962083 seconds (12.02 k allocations: 1.492 GiB, 0.44% gc time)\n",
      "  3.107633 seconds (12.02 k allocations: 1.492 GiB, 4.14% gc time)\n",
      "  3.056604 seconds (12.02 k allocations: 1.492 GiB, 3.32% gc time)\n"
     ]
    }
   ],
   "source": [
    "function main(nt = 100000000)\n",
    "    mass = 1.0\n",
    "    k = 1.0\n",
    "    dt = 1e-2\n",
    "\n",
    "    xt = zeros(Float64, nt+1)\n",
    "    vt = zeros(Float64, nt+1)\n",
    "\n",
    "    x = 0.0\n",
    "    v = 1.0\n",
    "\n",
    "    for it = 1:nt+1\n",
    "        xt[it] = x\n",
    "        vt[it] = v\n",
    "        x, v = Runge_Kutta_4th!(x, v, dt, mass, k)\n",
    "    end\n",
    "\n",
    "    open(\"result_julia.out\", \"w\") do file\n",
    "        for it = nt-999:nt\n",
    "            println(file, \"$(it*dt) $(xt[it]) $(vt[it])\")\n",
    "        end\n",
    "    end\n",
    "end\n",
    "\n",
    "function Runge_Kutta_4th!(x, v, dt, mass, k)\n",
    "    x1 = v\n",
    "    v1 = force(x, mass, k)\n",
    "\n",
    "    x2 = v + 0.5 * dt * v1\n",
    "    v2 = force(x + 0.5 * x1 * dt, mass, k)\n",
    "\n",
    "    x3 = v + 0.5 * dt * v2\n",
    "    v3 = force(x + 0.5 * x2 * dt, mass, k)\n",
    "\n",
    "    x4 = v + dt * v3\n",
    "    v4 = force(x + x3 * dt, mass, k)\n",
    "\n",
    "    x += (x1 + 2 * x2 + 2 * x3 + x4) * dt / 6\n",
    "    v += (v1 + 2 * v2 + 2 * v3 + v4) * dt / 6\n",
    "\n",
    "    return x, v\n",
    "end\n",
    "\n",
    "function force(x, mass, k)\n",
    "    return -x * k / mass\n",
    "end\n",
    "\n",
    "@time main()\n",
    "@time main()\n",
    "@time main()"
   ]
  },
  {
   "cell_type": "code",
   "execution_count": 2,
   "id": "685161d5-ea71-48f3-afe1-3062149e78d5",
   "metadata": {},
   "outputs": [
    {
     "name": "stdout",
     "output_type": "stream",
     "text": [
      "  1.891347 seconds (12.02 k allocations: 1.492 GiB, 5.51% gc time)\n",
      "  1.896394 seconds (12.02 k allocations: 1.492 GiB, 5.30% gc time)\n",
      "  1.894819 seconds (12.02 k allocations: 1.492 GiB, 5.14% gc time)\n"
     ]
    }
   ],
   "source": [
    "function main_inline(nt = 100000000)\n",
    "    mass = 1.0\n",
    "    k = 1.0\n",
    "    dt = 1e-2\n",
    "\n",
    "    xt = zeros(Float64, nt+1)\n",
    "    vt = zeros(Float64, nt+1)\n",
    "\n",
    "    x = 0.0\n",
    "    v = 1.0\n",
    "\n",
    "    for it = 1:nt+1\n",
    "        xt[it] = x\n",
    "        vt[it] = v\n",
    "        x, v = Runge_Kutta_4th_inline!(x, v, dt, mass, k)\n",
    "    end\n",
    "\n",
    "    open(\"result_julia.out\", \"w\") do file\n",
    "        for it = nt-999:nt\n",
    "            println(file, \"$(it*dt) $(xt[it]) $(vt[it])\")\n",
    "        end\n",
    "    end\n",
    "end\n",
    "\n",
    "@inline function Runge_Kutta_4th_inline!(x, v, dt, mass, k)\n",
    "    x1 = v\n",
    "    v1 = force(x, mass, k)\n",
    "\n",
    "    x2 = v + 0.5 * dt * v1\n",
    "    v2 = force(x + 0.5 * x1 * dt, mass, k)\n",
    "\n",
    "    x3 = v + 0.5 * dt * v2\n",
    "    v3 = force(x + 0.5 * x2 * dt, mass, k)\n",
    "\n",
    "    x4 = v + dt * v3\n",
    "    v4 = force(x + x3 * dt, mass, k)\n",
    "\n",
    "    x += (x1 + 2 * x2 + 2 * x3 + x4) * dt / 6\n",
    "    v += (v1 + 2 * v2 + 2 * v3 + v4) * dt / 6\n",
    "\n",
    "    return x, v\n",
    "end\n",
    "\n",
    "function force(x, mass, k)\n",
    "    return -x * k / mass\n",
    "end\n",
    "\n",
    "@time main_inline()\n",
    "@time main_inline()\n",
    "@time main_inline()"
   ]
  },
  {
   "cell_type": "code",
   "execution_count": 3,
   "id": "3b222a8c-b255-4d70-bab2-f9544d03ba80",
   "metadata": {},
   "outputs": [
    {
     "name": "stdout",
     "output_type": "stream",
     "text": [
      "  1.735821 seconds (12.02 k allocations: 1.492 GiB, 5.66% gc time)\n",
      "  1.764188 seconds (12.02 k allocations: 1.492 GiB, 5.74% gc time)\n",
      "  1.687790 seconds (12.02 k allocations: 1.492 GiB, 5.49% gc time)\n"
     ]
    }
   ],
   "source": [
    "function main_inline_simd(nt = 100000000)\n",
    "    mass = 1.0\n",
    "    k = 1.0\n",
    "    dt = 1e-2\n",
    "\n",
    "    xt = zeros(Float64, nt+1)\n",
    "    vt = zeros(Float64, nt+1)\n",
    "\n",
    "    x = 0.0\n",
    "    v = 1.0\n",
    "\n",
    "    @simd for it in 1:nt+1\n",
    "        xt[it] = x\n",
    "        vt[it] = v\n",
    "        x, v = Runge_Kutta_4th_inline!(x, v, dt, mass, k)\n",
    "    end\n",
    "\n",
    "    open(\"result_julia.out\", \"w\") do file\n",
    "        for it = nt-999:nt\n",
    "            println(file, \"$(it*dt) $(xt[it]) $(vt[it])\")\n",
    "        end\n",
    "    end\n",
    "end\n",
    "\n",
    "@inline function Runge_Kutta_4th_inline!(x, v, dt, mass, k)\n",
    "    x1 = v\n",
    "    v1 = force(x, mass, k)\n",
    "\n",
    "    x2 = v + 0.5 * dt * v1\n",
    "    v2 = force(x + 0.5 * x1 * dt, mass, k)\n",
    "\n",
    "    x3 = v + 0.5 * dt * v2\n",
    "    v3 = force(x + 0.5 * x2 * dt, mass, k)\n",
    "\n",
    "    x4 = v + dt * v3\n",
    "    v4 = force(x + x3 * dt, mass, k)\n",
    "\n",
    "    x += (x1 + 2 * x2 + 2 * x3 + x4) * dt / 6\n",
    "    v += (v1 + 2 * v2 + 2 * v3 + v4) * dt / 6\n",
    "\n",
    "    return x, v\n",
    "end\n",
    "\n",
    "function force(x, mass, k)\n",
    "    return -x * k / mass\n",
    "end\n",
    "\n",
    "@time main_inline_simd()\n",
    "@time main_inline_simd()\n",
    "@time main_inline_simd()"
   ]
  },
  {
   "cell_type": "code",
   "execution_count": 4,
   "id": "8abe9149-ea18-4c59-87d7-79df9956812d",
   "metadata": {},
   "outputs": [
    {
     "name": "stdout",
     "output_type": "stream",
     "text": [
      "  28.581 ms (12016 allocations: 16.74 MiB)\n",
      "  17.674 ms (12016 allocations: 16.74 MiB)\n",
      "  15.820 ms (12016 allocations: 16.74 MiB)\n"
     ]
    }
   ],
   "source": [
    "using BenchmarkTools\n",
    "\n",
    "nt = 10^6\n",
    "@btime main(nt)\n",
    "@btime main_inline(nt)\n",
    "@btime main_inline_simd(nt)"
   ]
  },
  {
   "cell_type": "code",
   "execution_count": 5,
   "id": "492d396d-29bd-45f8-8664-d57674ab474e",
   "metadata": {},
   "outputs": [
    {
     "name": "stdout",
     "output_type": "stream",
     "text": [
      "Julia Version 1.9.4\n",
      "Commit 8e5136fa29 (2023-11-14 08:46 UTC)\n",
      "Build Info:\n",
      "  Official https://julialang.org/ release\n",
      "Platform Info:\n",
      "  OS: Windows (x86_64-w64-mingw32)\n",
      "  CPU: 12 × Intel(R) Core(TM) i7-10750H CPU @ 2.60GHz\n",
      "  WORD_SIZE: 64\n",
      "  LIBM: libopenlibm\n",
      "  LLVM: libLLVM-14.0.6 (ORCJIT, skylake)\n",
      "  Threads: 13 on 12 virtual cores\n",
      "Environment:\n",
      "  JULIA_DEPOT_PATH = D:\\.julia\n",
      "  JULIA_NUM_PRECOMPILE_TASKS = 4\n",
      "  JULIA_NUM_THREADS = 12\n",
      "  JULIA_PYTHONCALL_EXE = D:\\.julia\\conda\\3\\python.exe\n"
     ]
    }
   ],
   "source": [
    "versioninfo()"
   ]
  },
  {
   "cell_type": "code",
   "execution_count": null,
   "id": "1515c3a0-c9cd-4eaa-8411-41f64064f5c6",
   "metadata": {},
   "outputs": [],
   "source": []
  }
 ],
 "metadata": {
  "jupytext": {
   "formats": "ipynb,jl:hydrogen"
  },
  "kernelspec": {
   "display_name": "Julia 1.9.4",
   "language": "julia",
   "name": "julia-1.9"
  },
  "language_info": {
   "file_extension": ".jl",
   "mimetype": "application/julia",
   "name": "julia",
   "version": "1.9.4"
  }
 },
 "nbformat": 4,
 "nbformat_minor": 5
}
