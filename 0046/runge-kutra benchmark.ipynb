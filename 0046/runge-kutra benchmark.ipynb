{
 "cells": [
  {
   "cell_type": "markdown",
   "id": "dd6993ee-00f9-4ca0-8ae1-2bbf77ee850e",
   "metadata": {},
   "source": [
    "* https://twitter.com/kame_no_mori/status/1734888762914820124\n",
    "* https://twitter.com/genkuroki/status/1739876470682697877\n",
    "\n",
    ">\\#Julia言語 https://kamemori.com/research/fortran/speed_harmonic_oscillator_1d_ja.html のJuliaのコードに18文字追加して比較し直してみました。3回実行して最短の値を採用。<br>\n",
    "><br>\n",
    ">1.64秒 ← gfortran -O3<br>\n",
    ">3.50秒 ← julia newton.jl<br>\n",
    ">1.63秒 ← julia newton_inline_fastmath.jl (18文字追加)<br>\n",
    ">1.18秒 ← julia> include(\"newton_inline_fastmath.jl\")<br>\n",
    "\n",
    "* https://x.com/genkuroki/status/1739999710998618530?s=20\n",
    "\n",
    ">#Julia言語 さらなる訂正<br>\n",
    "><br>\n",
    ">Julia版では34文字追加しないとかなり遅くなるという結果<br>\n",
    "><br>\n",
    ">1.64秒 ← gfortran -O3<br>\n",
    ">3.50秒 ← julia newton.jl<br>\n",
    ">1.41秒 ← julia newton_inline_fastmath_inbounds_simd.jl (34文字追加)<br>\n",
    ">1.06秒 ← julia> include(\"newton_inline_fastmath.jl\")<br>"
   ]
  },
  {
   "cell_type": "markdown",
   "id": "5920d025-0056-406f-b0f2-5c6a591f54d6",
   "metadata": {},
   "source": [
    "__gfortranとの比較__"
   ]
  },
  {
   "cell_type": "markdown",
   "id": "6f24ed0b-4b76-49e4-91ec-805f0cfdf01e",
   "metadata": {},
   "source": [
    "<img src=\"https://raw.githubusercontent.com/genkuroki/public/main/0046/runge-kutta%20benchmark/2023-12-27a%20gfortran%20-O3.png\">"
   ]
  },
  {
   "cell_type": "markdown",
   "id": "237c6413-e44a-4abe-a361-1aa7086de275",
   "metadata": {},
   "source": [
    "<img src=\"https://raw.githubusercontent.com/genkuroki/public/main/0046/runge-kutta%20benchmark/2023-12-27b%20julia%20newton.jl.png\">"
   ]
  },
  {
   "cell_type": "markdown",
   "id": "d9e6d0f0-9b56-43ca-b1f8-5bd7bb317eb5",
   "metadata": {},
   "source": [
    "<img src=\"https://raw.githubusercontent.com/genkuroki/public/main/0046/runge-kutta%20benchmark/2023-12-27c%20julia%20newton_inline_fastmath.jl.png\">"
   ]
  },
  {
   "cell_type": "markdown",
   "id": "63f1669c-83da-4a67-9f57-60d57da0ee33",
   "metadata": {},
   "source": [
    "<img src=\"https://raw.githubusercontent.com/genkuroki/public/main/0046/runge-kutta%20benchmark/2023-12-27d%20julia%20include.png\">"
   ]
  },
  {
   "cell_type": "markdown",
   "id": "897b6d32-8bd4-48ae-832d-17d9ecab352c",
   "metadata": {},
   "source": [
    "<img src=\"https://raw.githubusercontent.com/genkuroki/public/main/0046/runge-kutta%20benchmark/2023-12-27e%20julia%20newton_inline_fastmath_inbounds_simd.jl.png\">"
   ]
  },
  {
   "cell_type": "markdown",
   "id": "961952b6-1c93-450a-a3c3-2a58c995cbe4",
   "metadata": {},
   "source": [
    "<img src=\"https://raw.githubusercontent.com/genkuroki/public/main/0046/runge-kutta%20benchmark/2023-12-27f%20julia%20include%20newton_inline_fastmath_inbounds_simd.jl.png\">"
   ]
  },
  {
   "cell_type": "code",
   "execution_count": 1,
   "id": "ed344b85-a11f-44f1-8cf5-70c9802878d4",
   "metadata": {},
   "outputs": [
    {
     "name": "stdout",
     "output_type": "stream",
     "text": [
      "  3.014927 seconds (12.02 k allocations: 1.492 GiB, 0.30% gc time)\n",
      "  3.122160 seconds (12.02 k allocations: 1.492 GiB, 4.20% gc time)\n",
      "  3.233280 seconds (12.02 k allocations: 1.492 GiB, 3.06% gc time)\n"
     ]
    }
   ],
   "source": [
    "function main(nt = 100000000)\n",
    "    mass = 1.0\n",
    "    k = 1.0\n",
    "    dt = 1e-2\n",
    "\n",
    "    xt = zeros(Float64, nt+1)\n",
    "    vt = zeros(Float64, nt+1)\n",
    "\n",
    "    x = 0.0\n",
    "    v = 1.0\n",
    "\n",
    "    for it = 1:nt+1\n",
    "        xt[it] = x\n",
    "        vt[it] = v\n",
    "        x, v = Runge_Kutta_4th(x, v, dt, mass, k)\n",
    "    end\n",
    "\n",
    "    open(\"result_julia.out\", \"w\") do file\n",
    "        for it = nt-999:nt\n",
    "            println(file, \"$(it*dt) $(xt[it]) $(vt[it])\")\n",
    "        end\n",
    "    end\n",
    "end\n",
    "\n",
    "function Runge_Kutta_4th(x, v, dt, mass, k)\n",
    "    x1 = v\n",
    "    v1 = force(x, mass, k)\n",
    "\n",
    "    x2 = v + 0.5 * dt * v1\n",
    "    v2 = force(x + 0.5 * x1 * dt, mass, k)\n",
    "\n",
    "    x3 = v + 0.5 * dt * v2\n",
    "    v3 = force(x + 0.5 * x2 * dt, mass, k)\n",
    "\n",
    "    x4 = v + dt * v3\n",
    "    v4 = force(x + x3 * dt, mass, k)\n",
    "\n",
    "    x += (x1 + 2 * x2 + 2 * x3 + x4) * dt / 6\n",
    "    v += (v1 + 2 * v2 + 2 * v3 + v4) * dt / 6\n",
    "\n",
    "    return x, v\n",
    "end\n",
    "\n",
    "function force(x, mass, k)\n",
    "    return -x * k / mass\n",
    "end\n",
    "\n",
    "@time main()\n",
    "@time main()\n",
    "@time main()"
   ]
  },
  {
   "cell_type": "code",
   "execution_count": 2,
   "id": "685161d5-ea71-48f3-afe1-3062149e78d5",
   "metadata": {},
   "outputs": [
    {
     "name": "stdout",
     "output_type": "stream",
     "text": [
      "  1.832203 seconds (12.02 k allocations: 1.492 GiB, 0.24% gc time)\n",
      "  1.895642 seconds (12.02 k allocations: 1.492 GiB, 3.91% gc time)\n",
      "  1.998617 seconds (12.02 k allocations: 1.492 GiB, 3.53% gc time)\n"
     ]
    }
   ],
   "source": [
    "function main_inline(nt = 100000000)\n",
    "    mass = 1.0\n",
    "    k = 1.0\n",
    "    dt = 1e-2\n",
    "\n",
    "    xt = zeros(Float64, nt+1)\n",
    "    vt = zeros(Float64, nt+1)\n",
    "\n",
    "    x = 0.0\n",
    "    v = 1.0\n",
    "\n",
    "    for it = 1:nt+1\n",
    "        xt[it] = x\n",
    "        vt[it] = v\n",
    "        x, v = Runge_Kutta_4th_inline(x, v, dt, mass, k)\n",
    "    end\n",
    "\n",
    "    open(\"result_julia.out\", \"w\") do file\n",
    "        for it = nt-999:nt\n",
    "            println(file, \"$(it*dt) $(xt[it]) $(vt[it])\")\n",
    "        end\n",
    "    end\n",
    "end\n",
    "\n",
    "@inline function Runge_Kutta_4th_inline(x, v, dt, mass, k)\n",
    "    x1 = v\n",
    "    v1 = force(x, mass, k)\n",
    "\n",
    "    x2 = v + 0.5 * dt * v1\n",
    "    v2 = force(x + 0.5 * x1 * dt, mass, k)\n",
    "\n",
    "    x3 = v + 0.5 * dt * v2\n",
    "    v3 = force(x + 0.5 * x2 * dt, mass, k)\n",
    "\n",
    "    x4 = v + dt * v3\n",
    "    v4 = force(x + x3 * dt, mass, k)\n",
    "\n",
    "    x += (x1 + 2 * x2 + 2 * x3 + x4) * dt / 6\n",
    "    v += (v1 + 2 * v2 + 2 * v3 + v4) * dt / 6\n",
    "\n",
    "    return x, v\n",
    "end\n",
    "\n",
    "function force(x, mass, k)\n",
    "    return -x * k / mass\n",
    "end\n",
    "\n",
    "@time main_inline()\n",
    "@time main_inline()\n",
    "@time main_inline()"
   ]
  },
  {
   "cell_type": "code",
   "execution_count": 3,
   "id": "3b222a8c-b255-4d70-bab2-f9544d03ba80",
   "metadata": {},
   "outputs": [
    {
     "name": "stdout",
     "output_type": "stream",
     "text": [
      "  1.888045 seconds (12.02 k allocations: 1.492 GiB, 4.70% gc time)\n",
      "  1.802914 seconds (12.02 k allocations: 1.492 GiB, 4.72% gc time)\n",
      "  1.792365 seconds (12.02 k allocations: 1.492 GiB, 4.76% gc time)\n"
     ]
    }
   ],
   "source": [
    "function main_inline_simd(nt = 100000000)\n",
    "    mass = 1.0\n",
    "    k = 1.0\n",
    "    dt = 1e-2\n",
    "\n",
    "    xt = zeros(Float64, nt+1)\n",
    "    vt = zeros(Float64, nt+1)\n",
    "\n",
    "    x = 0.0\n",
    "    v = 1.0\n",
    "\n",
    "    @simd for it in 1:nt+1\n",
    "        xt[it] = x\n",
    "        vt[it] = v\n",
    "        x, v = Runge_Kutta_4th_inline(x, v, dt, mass, k)\n",
    "    end\n",
    "\n",
    "    open(\"result_julia.out\", \"w\") do file\n",
    "        for it = nt-999:nt\n",
    "            println(file, \"$(it*dt) $(xt[it]) $(vt[it])\")\n",
    "        end\n",
    "    end\n",
    "end\n",
    "\n",
    "@inline function Runge_Kutta_4th_inline(x, v, dt, mass, k)\n",
    "    x1 = v\n",
    "    v1 = force(x, mass, k)\n",
    "\n",
    "    x2 = v + 0.5 * dt * v1\n",
    "    v2 = force(x + 0.5 * x1 * dt, mass, k)\n",
    "\n",
    "    x3 = v + 0.5 * dt * v2\n",
    "    v3 = force(x + 0.5 * x2 * dt, mass, k)\n",
    "\n",
    "    x4 = v + dt * v3\n",
    "    v4 = force(x + x3 * dt, mass, k)\n",
    "\n",
    "    x += (x1 + 2 * x2 + 2 * x3 + x4) * dt / 6\n",
    "    v += (v1 + 2 * v2 + 2 * v3 + v4) * dt / 6\n",
    "\n",
    "    return x, v\n",
    "end\n",
    "\n",
    "function force(x, mass, k)\n",
    "    return -x * k / mass\n",
    "end\n",
    "\n",
    "@time main_inline_simd()\n",
    "@time main_inline_simd()\n",
    "@time main_inline_simd()"
   ]
  },
  {
   "cell_type": "code",
   "execution_count": 4,
   "id": "5c5b1936-2bfa-41e1-8a92-f247e2b08610",
   "metadata": {},
   "outputs": [
    {
     "name": "stdout",
     "output_type": "stream",
     "text": [
      "  2.788521 seconds (12.02 k allocations: 1.492 GiB, 0.11% gc time)\n",
      "  2.026241 seconds (12.02 k allocations: 1.492 GiB, 3.94% gc time)\n",
      "  1.918949 seconds (12.02 k allocations: 1.492 GiB, 4.44% gc time)\n"
     ]
    }
   ],
   "source": [
    "function main_fastmath(nt = 100000000)\n",
    "    mass = 1.0\n",
    "    k = 1.0\n",
    "    dt = 1e-2\n",
    "\n",
    "    xt = zeros(Float64, nt+1)\n",
    "    vt = zeros(Float64, nt+1)\n",
    "\n",
    "    x = 0.0\n",
    "    v = 1.0\n",
    "\n",
    "    for it in 1:nt+1\n",
    "        xt[it] = x\n",
    "        vt[it] = v\n",
    "        x, v = Runge_Kutta_4th_fastmath(x, v, dt, mass, k)\n",
    "    end\n",
    "\n",
    "    open(\"result_julia.out\", \"w\") do file\n",
    "        for it = nt-999:nt\n",
    "            println(file, \"$(it*dt) $(xt[it]) $(vt[it])\")\n",
    "        end\n",
    "    end\n",
    "end\n",
    "\n",
    "@fastmath function Runge_Kutta_4th_fastmath(x, v, dt, mass, k)\n",
    "    x1 = v\n",
    "    v1 = force(x, mass, k)\n",
    "\n",
    "    x2 = v + 0.5 * dt * v1\n",
    "    v2 = force(x + 0.5 * x1 * dt, mass, k)\n",
    "\n",
    "    x3 = v + 0.5 * dt * v2\n",
    "    v3 = force(x + 0.5 * x2 * dt, mass, k)\n",
    "\n",
    "    x4 = v + dt * v3\n",
    "    v4 = force(x + x3 * dt, mass, k)\n",
    "\n",
    "    x += (x1 + 2 * x2 + 2 * x3 + x4) * dt / 6\n",
    "    v += (v1 + 2 * v2 + 2 * v3 + v4) * dt / 6\n",
    "\n",
    "    return x, v\n",
    "end\n",
    "\n",
    "function force(x, mass, k)\n",
    "    return -x * k / mass\n",
    "end\n",
    "\n",
    "@time main_fastmath()\n",
    "@time main_fastmath()\n",
    "@time main_fastmath()"
   ]
  },
  {
   "cell_type": "code",
   "execution_count": 5,
   "id": "a9a26a59-2de4-4681-918a-eebe06fecbba",
   "metadata": {},
   "outputs": [
    {
     "name": "stdout",
     "output_type": "stream",
     "text": [
      "  1.805358 seconds (12.02 k allocations: 1.492 GiB, 4.38% gc time)\n",
      "  1.219772 seconds (12.02 k allocations: 1.492 GiB, 6.41% gc time)\n",
      "  1.141317 seconds (12.02 k allocations: 1.492 GiB, 6.81% gc time)\n"
     ]
    }
   ],
   "source": [
    "function main_inline_fastmath(nt = 100000000)\n",
    "    mass = 1.0\n",
    "    k = 1.0\n",
    "    dt = 1e-2\n",
    "\n",
    "    xt = zeros(Float64, nt+1)\n",
    "    vt = zeros(Float64, nt+1)\n",
    "\n",
    "    x = 0.0\n",
    "    v = 1.0\n",
    "\n",
    "    for it in 1:nt+1\n",
    "        xt[it] = x\n",
    "        vt[it] = v\n",
    "        x, v = Runge_Kutta_4th_inline_fastmath(x, v, dt, mass, k)\n",
    "    end\n",
    "\n",
    "    open(\"result_julia.out\", \"w\") do file\n",
    "        for it = nt-999:nt\n",
    "            println(file, \"$(it*dt) $(xt[it]) $(vt[it])\")\n",
    "        end\n",
    "    end\n",
    "end\n",
    "\n",
    "@inline @fastmath function Runge_Kutta_4th_inline_fastmath(x, v, dt, mass, k)\n",
    "    x1 = v\n",
    "    v1 = force(x, mass, k)\n",
    "\n",
    "    x2 = v + 0.5 * dt * v1\n",
    "    v2 = force(x + 0.5 * x1 * dt, mass, k)\n",
    "\n",
    "    x3 = v + 0.5 * dt * v2\n",
    "    v3 = force(x + 0.5 * x2 * dt, mass, k)\n",
    "\n",
    "    x4 = v + dt * v3\n",
    "    v4 = force(x + x3 * dt, mass, k)\n",
    "\n",
    "    x += (x1 + 2 * x2 + 2 * x3 + x4) * dt / 6\n",
    "    v += (v1 + 2 * v2 + 2 * v3 + v4) * dt / 6\n",
    "\n",
    "    return x, v\n",
    "end\n",
    "\n",
    "function force(x, mass, k)\n",
    "    return -x * k / mass\n",
    "end\n",
    "\n",
    "@time main_inline_fastmath()\n",
    "@time main_inline_fastmath()\n",
    "@time main_inline_fastmath()"
   ]
  },
  {
   "cell_type": "code",
   "execution_count": 6,
   "id": "2660606e-5689-4c27-a4a9-c6627512997d",
   "metadata": {},
   "outputs": [
    {
     "name": "stdout",
     "output_type": "stream",
     "text": [
      "  0.989219 seconds (12.02 k allocations: 1.492 GiB, 0.26% gc time)\n",
      "  1.070283 seconds (12.02 k allocations: 1.492 GiB, 6.82% gc time)\n",
      "  1.105354 seconds (12.02 k allocations: 1.492 GiB, 6.49% gc time)\n"
     ]
    }
   ],
   "source": [
    "function main_inline_fastmath_inbounds(nt = 100000000)\n",
    "    mass = 1.0\n",
    "    k = 1.0\n",
    "    dt = 1e-2\n",
    "\n",
    "    xt = zeros(Float64, nt+1)\n",
    "    vt = zeros(Float64, nt+1)\n",
    "\n",
    "    x = 0.0\n",
    "    v = 1.0\n",
    "\n",
    "    @inbounds for it in 1:nt+1\n",
    "        xt[it] = x\n",
    "        vt[it] = v\n",
    "        x, v = Runge_Kutta_4th_inline_fastmath(x, v, dt, mass, k)\n",
    "    end\n",
    "\n",
    "    open(\"result_julia.out\", \"w\") do file\n",
    "        for it = nt-999:nt\n",
    "            println(file, \"$(it*dt) $(xt[it]) $(vt[it])\")\n",
    "        end\n",
    "    end\n",
    "end\n",
    "\n",
    "@inline @fastmath function Runge_Kutta_4th_inline_fastmath(x, v, dt, mass, k)\n",
    "    x1 = v\n",
    "    v1 = force(x, mass, k)\n",
    "\n",
    "    x2 = v + 0.5 * dt * v1\n",
    "    v2 = force(x + 0.5 * x1 * dt, mass, k)\n",
    "\n",
    "    x3 = v + 0.5 * dt * v2\n",
    "    v3 = force(x + 0.5 * x2 * dt, mass, k)\n",
    "\n",
    "    x4 = v + dt * v3\n",
    "    v4 = force(x + x3 * dt, mass, k)\n",
    "\n",
    "    x += (x1 + 2 * x2 + 2 * x3 + x4) * dt / 6\n",
    "    v += (v1 + 2 * v2 + 2 * v3 + v4) * dt / 6\n",
    "\n",
    "    return x, v\n",
    "end\n",
    "\n",
    "function force(x, mass, k)\n",
    "    return -x * k / mass\n",
    "end\n",
    "\n",
    "@time main_inline_fastmath_inbounds()\n",
    "@time main_inline_fastmath_inbounds()\n",
    "@time main_inline_fastmath_inbounds()"
   ]
  },
  {
   "cell_type": "code",
   "execution_count": 7,
   "id": "c4a2f51c-abfd-4471-aa1a-0ce57e33684c",
   "metadata": {},
   "outputs": [
    {
     "name": "stdout",
     "output_type": "stream",
     "text": [
      "  1.036075 seconds (12.02 k allocations: 1.492 GiB, 7.37% gc time)\n",
      "  1.029063 seconds (12.02 k allocations: 1.492 GiB, 7.45% gc time)\n",
      "  1.026511 seconds (12.02 k allocations: 1.492 GiB, 8.70% gc time)\n"
     ]
    }
   ],
   "source": [
    "function main_inline_fastmath_inbounds_simd(nt = 100000000)\n",
    "    mass = 1.0\n",
    "    k = 1.0\n",
    "    dt = 1e-2\n",
    "\n",
    "    xt = zeros(Float64, nt+1)\n",
    "    vt = zeros(Float64, nt+1)\n",
    "\n",
    "    x = 0.0\n",
    "    v = 1.0\n",
    "\n",
    "    @inbounds @simd for it in 1:nt+1\n",
    "        xt[it] = x\n",
    "        vt[it] = v\n",
    "        x, v = Runge_Kutta_4th_inline_fastmath(x, v, dt, mass, k)\n",
    "    end\n",
    "\n",
    "    open(\"result_julia.out\", \"w\") do file\n",
    "        for it = nt-999:nt\n",
    "            println(file, \"$(it*dt) $(xt[it]) $(vt[it])\")\n",
    "        end\n",
    "    end\n",
    "end\n",
    "\n",
    "@inline @fastmath function Runge_Kutta_4th_inline_fastmath(x, v, dt, mass, k)\n",
    "    x1 = v\n",
    "    v1 = force(x, mass, k)\n",
    "\n",
    "    x2 = v + 0.5 * dt * v1\n",
    "    v2 = force(x + 0.5 * x1 * dt, mass, k)\n",
    "\n",
    "    x3 = v + 0.5 * dt * v2\n",
    "    v3 = force(x + 0.5 * x2 * dt, mass, k)\n",
    "\n",
    "    x4 = v + dt * v3\n",
    "    v4 = force(x + x3 * dt, mass, k)\n",
    "\n",
    "    x += (x1 + 2 * x2 + 2 * x3 + x4) * dt / 6\n",
    "    v += (v1 + 2 * v2 + 2 * v3 + v4) * dt / 6\n",
    "\n",
    "    return x, v\n",
    "end\n",
    "\n",
    "function force(x, mass, k)\n",
    "    return -x * k / mass\n",
    "end\n",
    "\n",
    "@time main_inline_fastmath_inbounds_simd()\n",
    "@time main_inline_fastmath_inbounds_simd()\n",
    "@time main_inline_fastmath_inbounds_simd()"
   ]
  },
  {
   "cell_type": "code",
   "execution_count": 8,
   "id": "8abe9149-ea18-4c59-87d7-79df9956812d",
   "metadata": {},
   "outputs": [
    {
     "name": "stdout",
     "output_type": "stream",
     "text": [
      "nt = 1000000\n",
      "main(nt):                                28.686 ms (12016 allocations: 16.74 MiB)\n",
      "main_inline(nt):                         18.043 ms (12016 allocations: 16.74 MiB)\n",
      "main_inline_simd(nt):                    16.508 ms (12016 allocations: 16.74 MiB)\n",
      "main_fastmath(nt):                       18.360 ms (12016 allocations: 16.74 MiB)\n",
      "main_inline_fastmath(nt):                11.082 ms (12016 allocations: 16.74 MiB)\n",
      "main_inline_fastmath_inbounds(nt):       10.490 ms (12016 allocations: 16.74 MiB)\n",
      "main_inline_fastmath_inbounds_simd(nt):  9.763 ms (12016 allocations: 16.74 MiB)\n"
     ]
    }
   ],
   "source": [
    "using BenchmarkTools\n",
    "\n",
    "nt = 10^6\n",
    "println(\"nt = \", nt)\n",
    "print(\"main(nt):                              \"); @btime main(nt)\n",
    "print(\"main_inline(nt):                       \"); @btime main_inline(nt)\n",
    "print(\"main_inline_simd(nt):                  \"); @btime main_inline_simd(nt)\n",
    "print(\"main_fastmath(nt):                     \"); @btime main_fastmath(nt)\n",
    "print(\"main_inline_fastmath(nt):              \"); @btime main_inline_fastmath(nt)\n",
    "print(\"main_inline_fastmath_inbounds(nt):     \"); @btime main_inline_fastmath_inbounds(nt)\n",
    "print(\"main_inline_fastmath_inbounds_simd(nt):\"); @btime main_inline_fastmath_inbounds_simd(nt)"
   ]
  },
  {
   "cell_type": "code",
   "execution_count": 9,
   "id": "492d396d-29bd-45f8-8664-d57674ab474e",
   "metadata": {},
   "outputs": [
    {
     "name": "stdout",
     "output_type": "stream",
     "text": [
      "Julia Version 1.10.0\n",
      "Commit 3120989f39 (2023-12-25 18:01 UTC)\n",
      "Build Info:\n",
      "  Official https://julialang.org/ release\n",
      "Platform Info:\n",
      "  OS: Windows (x86_64-w64-mingw32)\n",
      "  CPU: 12 × Intel(R) Core(TM) i7-10750H CPU @ 2.60GHz\n",
      "  WORD_SIZE: 64\n",
      "  LIBM: libopenlibm\n",
      "  LLVM: libLLVM-15.0.7 (ORCJIT, skylake)\n",
      "  Threads: 18 on 12 virtual cores\n",
      "Environment:\n",
      "  JULIA_DEPOT_PATH = D:\\.julia\n",
      "  JULIA_NUM_PRECOMPILE_TASKS = 4\n",
      "  JULIA_NUM_THREADS = 12\n",
      "  JULIA_PYTHONCALL_EXE = D:\\.julia\\conda\\3\\python.exe\n"
     ]
    }
   ],
   "source": [
    "versioninfo()"
   ]
  },
  {
   "cell_type": "code",
   "execution_count": 10,
   "id": "a571bdfd-37b3-4f34-b878-a16d8a83bff2",
   "metadata": {},
   "outputs": [
    {
     "name": "stdout",
     "output_type": "stream",
     "text": [
      "  0.994817 seconds (12.02 k allocations: 1.492 GiB, 0.61% gc time)\n",
      "  1.161595 seconds (12.02 k allocations: 1.492 GiB, 10.32% gc time)\n",
      "  1.189117 seconds (12.02 k allocations: 1.492 GiB, 8.33% gc time)\n"
     ]
    }
   ],
   "source": [
    "function main_inline_fastmath_inbounds_simd2(nt = 100000000)\n",
    "    mass = 1.0\n",
    "    k = 1.0\n",
    "    dt = 1e-2\n",
    "\n",
    "    xt = zeros(Float64, nt+1)\n",
    "    vt = zeros(Float64, nt+1)\n",
    "\n",
    "    x = 0.0\n",
    "    v = 1.0\n",
    "\n",
    "    @inline @inbounds @simd for it in 1:nt+1\n",
    "        xt[it] = x\n",
    "        vt[it] = v\n",
    "        x, v = Runge_Kutta_4th_fastmath(x, v, dt, mass, k)\n",
    "    end\n",
    "\n",
    "    open(\"result_julia.out\", \"w\") do file\n",
    "        for it = nt-999:nt\n",
    "            println(file, \"$(it*dt) $(xt[it]) $(vt[it])\")\n",
    "        end\n",
    "    end\n",
    "end\n",
    "\n",
    "@fastmath function Runge_Kutta_4th_fastmath(x, v, dt, mass, k)\n",
    "    x1 = v\n",
    "    v1 = force(x, mass, k)\n",
    "\n",
    "    x2 = v + 0.5 * dt * v1\n",
    "    v2 = force(x + 0.5 * x1 * dt, mass, k)\n",
    "\n",
    "    x3 = v + 0.5 * dt * v2\n",
    "    v3 = force(x + 0.5 * x2 * dt, mass, k)\n",
    "\n",
    "    x4 = v + dt * v3\n",
    "    v4 = force(x + x3 * dt, mass, k)\n",
    "\n",
    "    x += (x1 + 2 * x2 + 2 * x3 + x4) * dt / 6\n",
    "    v += (v1 + 2 * v2 + 2 * v3 + v4) * dt / 6\n",
    "\n",
    "    return x, v\n",
    "end\n",
    "\n",
    "function force(x, mass, k)\n",
    "    return -x * k / mass\n",
    "end\n",
    "\n",
    "@time main_inline_fastmath_inbounds_simd2()\n",
    "@time main_inline_fastmath_inbounds_simd2()\n",
    "@time main_inline_fastmath_inbounds_simd2()"
   ]
  },
  {
   "cell_type": "code",
   "execution_count": 11,
   "id": "fe475fe1-67aa-4bc0-89a8-a642caf5f447",
   "metadata": {},
   "outputs": [
    {
     "name": "stdout",
     "output_type": "stream",
     "text": [
      "main_inline_fastmath_inbounds_simd2(nt):  9.821 ms (12016 allocations: 16.74 MiB)\n"
     ]
    }
   ],
   "source": [
    "print(\"main_inline_fastmath_inbounds_simd2(nt):\"); @btime main_inline_fastmath_inbounds_simd2(nt)"
   ]
  },
  {
   "cell_type": "code",
   "execution_count": null,
   "id": "426526b4-dd63-472b-8e17-5908b8ab5b4b",
   "metadata": {},
   "outputs": [],
   "source": []
  }
 ],
 "metadata": {
  "jupytext": {
   "encoding": "# -*- coding: utf-8 -*-",
   "formats": "ipynb,jl:hydrogen"
  },
  "kernelspec": {
   "display_name": "Julia 1.10.0",
   "language": "julia",
   "name": "julia-1.10"
  },
  "language_info": {
   "file_extension": ".jl",
   "mimetype": "application/julia",
   "name": "julia",
   "version": "1.10.0"
  }
 },
 "nbformat": 4,
 "nbformat_minor": 5
}
