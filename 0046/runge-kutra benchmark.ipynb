{
 "cells": [
  {
   "cell_type": "markdown",
   "id": "dd6993ee-00f9-4ca0-8ae1-2bbf77ee850e",
   "metadata": {},
   "source": [
    "https://x.com/kame_no_mori/status/1734888762914820124?s=61&t=_KnHkB3gSNKRbi3Ce1GncA"
   ]
  },
  {
   "cell_type": "code",
   "execution_count": 1,
   "id": "ed344b85-a11f-44f1-8cf5-70c9802878d4",
   "metadata": {},
   "outputs": [
    {
     "name": "stdout",
     "output_type": "stream",
     "text": [
      "  2.760303 seconds (12.02 k allocations: 1.492 GiB, 0.40% gc time)\n",
      "  2.832776 seconds (12.02 k allocations: 1.492 GiB, 3.12% gc time)\n",
      "  2.806996 seconds (12.02 k allocations: 1.492 GiB, 2.74% gc time)\n"
     ]
    }
   ],
   "source": [
    "function main()\n",
    "    mass = 1.0\n",
    "    k = 1.0\n",
    "    dt = 1e-2\n",
    "    nt = 100000000\n",
    "\n",
    "    xt = zeros(Float64, nt+1)\n",
    "    vt = zeros(Float64, nt+1)\n",
    "\n",
    "    x = 0.0\n",
    "    v = 1.0\n",
    "\n",
    "    for it = 1:nt+1\n",
    "        xt[it] = x\n",
    "        vt[it] = v\n",
    "        x, v = Runge_Kutta_4th!(x, v, dt, mass, k)\n",
    "    end\n",
    "\n",
    "    open(\"result_julia.out\", \"w\") do file\n",
    "        for it = nt-999:nt\n",
    "            println(file, \"$(it*dt) $(xt[it]) $(vt[it])\")\n",
    "        end\n",
    "    end\n",
    "end\n",
    "\n",
    "function Runge_Kutta_4th!(x, v, dt, mass, k)\n",
    "    x1 = v\n",
    "    v1 = force(x, mass, k)\n",
    "\n",
    "    x2 = v + 0.5 * dt * v1\n",
    "    v2 = force(x + 0.5 * x1 * dt, mass, k)\n",
    "\n",
    "    x3 = v + 0.5 * dt * v2\n",
    "    v3 = force(x + 0.5 * x2 * dt, mass, k)\n",
    "\n",
    "    x4 = v + dt * v3\n",
    "    v4 = force(x + x3 * dt, mass, k)\n",
    "\n",
    "    x += (x1 + 2 * x2 + 2 * x3 + x4) * dt / 6\n",
    "    v += (v1 + 2 * v2 + 2 * v3 + v4) * dt / 6\n",
    "\n",
    "    return x, v\n",
    "end\n",
    "\n",
    "function force(x, mass, k)\n",
    "    return -x * k / mass\n",
    "end\n",
    "\n",
    "@time main()\n",
    "@time main()\n",
    "@time main()"
   ]
  },
  {
   "cell_type": "code",
   "execution_count": 2,
   "id": "685161d5-ea71-48f3-afe1-3062149e78d5",
   "metadata": {},
   "outputs": [
    {
     "name": "stdout",
     "output_type": "stream",
     "text": [
      "  0.240774 seconds (12.02 k allocations: 154.069 MiB, 31.56% gc time)\n",
      "  0.175514 seconds (12.02 k allocations: 154.069 MiB, 5.90% gc time)\n",
      "  0.172856 seconds (12.02 k allocations: 154.069 MiB, 4.97% gc time)\n"
     ]
    }
   ],
   "source": [
    "function main()\n",
    "    mass = 1.0\n",
    "    k = 1.0\n",
    "    dt = 1e-2\n",
    "    nt = 10000000\n",
    "\n",
    "    xt = zeros(Float64, nt+1)\n",
    "    vt = zeros(Float64, nt+1)\n",
    "\n",
    "    x = 0.0\n",
    "    v = 1.0\n",
    "\n",
    "    for it = 1:nt+1\n",
    "        xt[it] = x\n",
    "        vt[it] = v\n",
    "        x, v = Runge_Kutta_4th!(x, v, dt, mass, k)\n",
    "    end\n",
    "\n",
    "    open(\"result_julia.out\", \"w\") do file\n",
    "        for it = nt-999:nt\n",
    "            println(file, \"$(it*dt) $(xt[it]) $(vt[it])\")\n",
    "        end\n",
    "    end\n",
    "end\n",
    "\n",
    "@inline function Runge_Kutta_4th!(x, v, dt, mass, k)\n",
    "    x1 = v\n",
    "    v1 = force(x, mass, k)\n",
    "\n",
    "    x2 = v + 0.5 * dt * v1\n",
    "    v2 = force(x + 0.5 * x1 * dt, mass, k)\n",
    "\n",
    "    x3 = v + 0.5 * dt * v2\n",
    "    v3 = force(x + 0.5 * x2 * dt, mass, k)\n",
    "\n",
    "    x4 = v + dt * v3\n",
    "    v4 = force(x + x3 * dt, mass, k)\n",
    "\n",
    "    x += (x1 + 2 * x2 + 2 * x3 + x4) * dt / 6\n",
    "    v += (v1 + 2 * v2 + 2 * v3 + v4) * dt / 6\n",
    "\n",
    "    return x, v\n",
    "end\n",
    "\n",
    "function force(x, mass, k)\n",
    "    return -x * k / mass\n",
    "end\n",
    "\n",
    "@time main()\n",
    "@time main()\n",
    "@time main()"
   ]
  },
  {
   "cell_type": "code",
   "execution_count": 3,
   "id": "3b222a8c-b255-4d70-bab2-f9544d03ba80",
   "metadata": {},
   "outputs": [
    {
     "name": "stdout",
     "output_type": "stream",
     "text": [
      "  1.497719 seconds (12.02 k allocations: 1.492 GiB, 0.89% gc time)\n",
      "  1.544616 seconds (12.02 k allocations: 1.492 GiB, 4.90% gc time)\n",
      "  1.546264 seconds (12.02 k allocations: 1.492 GiB, 5.46% gc time)\n"
     ]
    }
   ],
   "source": [
    "function main()\n",
    "    mass = 1.0\n",
    "    k = 1.0\n",
    "    dt = 1e-2\n",
    "    nt = 100000000\n",
    "\n",
    "    xt = zeros(Float64, nt+1)\n",
    "    vt = zeros(Float64, nt+1)\n",
    "\n",
    "    x = 0.0\n",
    "    v = 1.0\n",
    "\n",
    "    @simd for it in eachindex(xt, vt)\n",
    "        xt[it] = x\n",
    "        vt[it] = v\n",
    "        x, v = Runge_Kutta_4th!(x, v, dt, mass, k)\n",
    "    end\n",
    "\n",
    "    open(\"result_julia.out\", \"w\") do file\n",
    "        for it = nt-999:nt\n",
    "            println(file, \"$(it*dt) $(xt[it]) $(vt[it])\")\n",
    "        end\n",
    "    end\n",
    "end\n",
    "\n",
    "@inline function Runge_Kutta_4th!(x, v, dt, mass, k)\n",
    "    x1 = v\n",
    "    v1 = force(x, mass, k)\n",
    "\n",
    "    x2 = v + 0.5 * dt * v1\n",
    "    v2 = force(x + 0.5 * x1 * dt, mass, k)\n",
    "\n",
    "    x3 = v + 0.5 * dt * v2\n",
    "    v3 = force(x + 0.5 * x2 * dt, mass, k)\n",
    "\n",
    "    x4 = v + dt * v3\n",
    "    v4 = force(x + x3 * dt, mass, k)\n",
    "\n",
    "    x += (x1 + 2 * x2 + 2 * x3 + x4) * dt / 6\n",
    "    v += (v1 + 2 * v2 + 2 * v3 + v4) * dt / 6\n",
    "\n",
    "    return x, v\n",
    "end\n",
    "\n",
    "function force(x, mass, k)\n",
    "    return -x * k / mass\n",
    "end\n",
    "\n",
    "@time main()\n",
    "@time main()\n",
    "@time main()"
   ]
  },
  {
   "cell_type": "code",
   "execution_count": null,
   "id": "8abe9149-ea18-4c59-87d7-79df9956812d",
   "metadata": {},
   "outputs": [],
   "source": []
  }
 ],
 "metadata": {
  "jupytext": {
   "formats": "ipynb,jl:hydrogen"
  },
  "kernelspec": {
   "display_name": "Julia 1.9.4",
   "language": "julia",
   "name": "julia-1.9"
  },
  "language_info": {
   "file_extension": ".jl",
   "mimetype": "application/julia",
   "name": "julia",
   "version": "1.9.4"
  }
 },
 "nbformat": 4,
 "nbformat_minor": 5
}
