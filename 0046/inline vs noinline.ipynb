{
 "cells": [
  {
   "cell_type": "code",
   "execution_count": 1,
   "id": "8f2e2c92-1713-4860-974a-4d9f14516e06",
   "metadata": {},
   "outputs": [
    {
     "name": "stdout",
     "output_type": "stream",
     "text": [
      "solveode(f_fastmath) = 1.7182804693193663\n",
      "solveode_inline(f_fastmath) = 1.7182804693193663\n",
      "exp(1) - 1 = 1.718281828459045\n"
     ]
    }
   ],
   "source": [
    "@noinline @fastmath function f_fastmath(x_prev, v, dt)\n",
    "    x_prev + v*dt\n",
    "end\n",
    "\n",
    "\"\"\"\n",
    "Solve x(0) = 0, x'(t) = x(t) + 1, 0 ≤ t ≤ 1.\n",
    "\n",
    "Exact solution: x(t) = exp(t) - 1, x(1) = exp(1) - 1 = 1.718281828⋯.\n",
    "\"\"\"\n",
    "function solveode(f, n=10^6, x0=0.0, dt=1/n)\n",
    "    x = x0\n",
    "    for _ in 1:n\n",
    "        x = f(x, x+1, dt)\n",
    "    end\n",
    "    x\n",
    "end\n",
    "\n",
    "function solveode_inline(f, n=10^6, x0=0.0, dt=1/n)\n",
    "    x = x0\n",
    "    for _ in 1:n\n",
    "        x = @inline f(x, x+1, dt)\n",
    "    end\n",
    "    x\n",
    "end\n",
    "\n",
    "@show solveode(f_fastmath)\n",
    "@show solveode_inline(f_fastmath)\n",
    "@show exp(1) - 1;"
   ]
  },
  {
   "cell_type": "code",
   "execution_count": 2,
   "id": "87ebe528-0dc5-4836-aef3-874543762dd1",
   "metadata": {},
   "outputs": [
    {
     "name": "stdout",
     "output_type": "stream",
     "text": [
      "  1.750 ms (0 allocations: 0 bytes)\n",
      "  54.400 μs (0 allocations: 0 bytes)\n"
     ]
    }
   ],
   "source": [
    "using BenchmarkTools\n",
    "\n",
    "@btime solveode(f_fastmath)\n",
    "@btime solveode_inline(f_fastmath);"
   ]
  },
  {
   "cell_type": "code",
   "execution_count": 3,
   "id": "864df443-e6be-4e66-aad7-d7ec592181bf",
   "metadata": {},
   "outputs": [
    {
     "name": "stdout",
     "output_type": "stream",
     "text": [
      "\t\u001b[0m.text\n",
      "\t\u001b[96m\u001b[1mpush\u001b[22m\u001b[39m\t\u001b[0mrbp\n",
      "\t\u001b[96m\u001b[1mmov\u001b[22m\u001b[39m\t\u001b[0mrbp\u001b[0m, \u001b[0mrsp\n",
      "\t\u001b[96m\u001b[1mpush\u001b[22m\u001b[39m\t\u001b[0mrsi\n",
      "\t\u001b[96m\u001b[1mpush\u001b[22m\u001b[39m\t\u001b[0mrdi\n",
      "\t\u001b[96m\u001b[1msub\u001b[22m\u001b[39m\t\u001b[0mrsp\u001b[0m, \u001b[33m64\u001b[39m\n",
      "\t\u001b[96m\u001b[1mvmovaps\u001b[22m\u001b[39m\t\u001b[95mxmmword\u001b[39m \u001b[95mptr\u001b[39m \u001b[33m[\u001b[39m\u001b[0mrbp \u001b[0m- \u001b[33m32\u001b[39m\u001b[33m]\u001b[39m\u001b[0m, \u001b[0mxmm7\n",
      "\t\u001b[96m\u001b[1mvmovaps\u001b[22m\u001b[39m\t\u001b[95mxmmword\u001b[39m \u001b[95mptr\u001b[39m \u001b[33m[\u001b[39m\u001b[0mrbp \u001b[0m- \u001b[33m48\u001b[39m\u001b[33m]\u001b[39m\u001b[0m, \u001b[0mxmm6\n",
      "\t\u001b[96m\u001b[1mmov\u001b[22m\u001b[39m\t\u001b[0mrax\u001b[0m, \u001b[95mqword\u001b[39m \u001b[95mptr\u001b[39m \u001b[33m[\u001b[39m\u001b[0mr13 \u001b[0m+ \u001b[33m16\u001b[39m\u001b[33m]\u001b[39m\n",
      "\t\u001b[96m\u001b[1mmov\u001b[22m\u001b[39m\t\u001b[0mrax\u001b[0m, \u001b[95mqword\u001b[39m \u001b[95mptr\u001b[39m \u001b[33m[\u001b[39m\u001b[0mrax \u001b[0m+ \u001b[33m16\u001b[39m\u001b[33m]\u001b[39m\n",
      "\t\u001b[96m\u001b[1mmov\u001b[22m\u001b[39m\t\u001b[0mrax\u001b[0m, \u001b[95mqword\u001b[39m \u001b[95mptr\u001b[39m \u001b[33m[\u001b[39m\u001b[0mrax\u001b[33m]\u001b[39m\n",
      "\t\u001b[96m\u001b[1mvxorpd\u001b[22m\u001b[39m\t\u001b[0mxmm0\u001b[0m, \u001b[0mxmm0\u001b[0m, \u001b[0mxmm0\n",
      "\t\u001b[96m\u001b[1mmov\u001b[22m\u001b[39m\t\u001b[0mesi\u001b[0m, \u001b[33m1000000\u001b[39m\n",
      "\t\u001b[96m\u001b[1mmovabs\u001b[22m\u001b[39m\t\u001b[0mrax\u001b[0m, \u001b[95moffset\u001b[39m \u001b[0m.rodata.cst8\n",
      "\t\u001b[96m\u001b[1mvmovsd\u001b[22m\u001b[39m\t\u001b[0mxmm7\u001b[0m, \u001b[95mqword\u001b[39m \u001b[95mptr\u001b[39m \u001b[33m[\u001b[39m\u001b[0mrax\u001b[33m]\u001b[39m           \u001b[90m# xmm7 = mem[0],zero\u001b[39m\n",
      "\t\u001b[96m\u001b[1mmovabs\u001b[22m\u001b[39m\t\u001b[0mrdi\u001b[0m, \u001b[95moffset\u001b[39m \u001b[93mf_fastmath\u001b[39m\n",
      "\t\u001b[96m\u001b[1mmovabs\u001b[22m\u001b[39m\t\u001b[0mrax\u001b[0m, \u001b[33m2272748021016\u001b[39m\n",
      "\t\u001b[96m\u001b[1mvmovsd\u001b[22m\u001b[39m\t\u001b[0mxmm6\u001b[0m, \u001b[95mqword\u001b[39m \u001b[95mptr\u001b[39m \u001b[33m[\u001b[39m\u001b[0mrax\u001b[33m]\u001b[39m           \u001b[90m# xmm6 = mem[0],zero\u001b[39m\n",
      "\t\u001b[96m\u001b[1mnop\u001b[22m\u001b[39m\n",
      "\u001b[91mL80:\u001b[39m\n",
      "\t\u001b[96m\u001b[1mvaddsd\u001b[22m\u001b[39m\t\u001b[0mxmm1\u001b[0m, \u001b[0mxmm0\u001b[0m, \u001b[0mxmm7\n",
      "\t\u001b[96m\u001b[1mvmovaps\u001b[22m\u001b[39m\t\u001b[0mxmm2\u001b[0m, \u001b[0mxmm6\n",
      "\t\u001b[96m\u001b[1mcall\u001b[22m\u001b[39m\t\u001b[0mrdi\n",
      "\t\u001b[96m\u001b[1mdec\u001b[22m\u001b[39m\t\u001b[0mrsi\n",
      "\t\u001b[96m\u001b[1mjne\u001b[22m\u001b[39m\t\u001b[91mL80\u001b[39m\n",
      "\t\u001b[96m\u001b[1mvmovaps\u001b[22m\u001b[39m\t\u001b[0mxmm6\u001b[0m, \u001b[95mxmmword\u001b[39m \u001b[95mptr\u001b[39m \u001b[33m[\u001b[39m\u001b[0mrbp \u001b[0m- \u001b[33m48\u001b[39m\u001b[33m]\u001b[39m\n",
      "\t\u001b[96m\u001b[1mvmovaps\u001b[22m\u001b[39m\t\u001b[0mxmm7\u001b[0m, \u001b[95mxmmword\u001b[39m \u001b[95mptr\u001b[39m \u001b[33m[\u001b[39m\u001b[0mrbp \u001b[0m- \u001b[33m32\u001b[39m\u001b[33m]\u001b[39m\n",
      "\t\u001b[96m\u001b[1madd\u001b[22m\u001b[39m\t\u001b[0mrsp\u001b[0m, \u001b[33m64\u001b[39m\n",
      "\t\u001b[96m\u001b[1mpop\u001b[22m\u001b[39m\t\u001b[0mrdi\n",
      "\t\u001b[96m\u001b[1mpop\u001b[22m\u001b[39m\t\u001b[0mrsi\n",
      "\t\u001b[96m\u001b[1mpop\u001b[22m\u001b[39m\t\u001b[0mrbp\n",
      "\t\u001b[96m\u001b[1mret\u001b[22m\u001b[39m\n",
      "\t\u001b[96m\u001b[1mnop\u001b[22m\u001b[39m\t\u001b[95mword\u001b[39m \u001b[95mptr\u001b[39m \u001b[0mcs\u001b[0m:\u001b[33m[\u001b[39m\u001b[0mrax \u001b[0m+ \u001b[0mrax\u001b[33m]\u001b[39m\n"
     ]
    }
   ],
   "source": [
    "@code_native debuginfo=:none dump_module=false solveode(f_fastmath)"
   ]
  },
  {
   "cell_type": "code",
   "execution_count": 4,
   "id": "90654547-8027-4ec6-a0ac-2a861dd3d8d2",
   "metadata": {},
   "outputs": [
    {
     "name": "stdout",
     "output_type": "stream",
     "text": [
      "\t\u001b[0m.text\n",
      "\t\u001b[96m\u001b[1mpush\u001b[22m\u001b[39m\t\u001b[0mrbp\n",
      "\t\u001b[96m\u001b[1mmov\u001b[22m\u001b[39m\t\u001b[0mrbp\u001b[0m, \u001b[0mrsp\n",
      "\t\u001b[96m\u001b[1mmov\u001b[22m\u001b[39m\t\u001b[0mrax\u001b[0m, \u001b[95mqword\u001b[39m \u001b[95mptr\u001b[39m \u001b[33m[\u001b[39m\u001b[0mr13 \u001b[0m+ \u001b[33m16\u001b[39m\u001b[33m]\u001b[39m\n",
      "\t\u001b[96m\u001b[1mmov\u001b[22m\u001b[39m\t\u001b[0mrax\u001b[0m, \u001b[95mqword\u001b[39m \u001b[95mptr\u001b[39m \u001b[33m[\u001b[39m\u001b[0mrax \u001b[0m+ \u001b[33m16\u001b[39m\u001b[33m]\u001b[39m\n",
      "\t\u001b[96m\u001b[1mmov\u001b[22m\u001b[39m\t\u001b[0mrax\u001b[0m, \u001b[95mqword\u001b[39m \u001b[95mptr\u001b[39m \u001b[33m[\u001b[39m\u001b[0mrax\u001b[33m]\u001b[39m\n",
      "\t\u001b[96m\u001b[1mvxorpd\u001b[22m\u001b[39m\t\u001b[0mxmm0\u001b[0m, \u001b[0mxmm0\u001b[0m, \u001b[0mxmm0\n",
      "\t\u001b[96m\u001b[1mmov\u001b[22m\u001b[39m\t\u001b[0meax\u001b[0m, \u001b[33m1000000\u001b[39m\n",
      "\t\u001b[96m\u001b[1mmovabs\u001b[22m\u001b[39m\t\u001b[0mrcx\u001b[0m, \u001b[95moffset\u001b[39m \u001b[0m.rodata.cst8\n",
      "\t\u001b[96m\u001b[1mvmovsd\u001b[22m\u001b[39m\t\u001b[0mxmm1\u001b[0m, \u001b[95mqword\u001b[39m \u001b[95mptr\u001b[39m \u001b[33m[\u001b[39m\u001b[0mrcx\u001b[33m]\u001b[39m           \u001b[90m# xmm1 = mem[0],zero\u001b[39m\n",
      "\t\u001b[96m\u001b[1mmovabs\u001b[22m\u001b[39m\t\u001b[0mrcx\u001b[0m, \u001b[33m2272748022136\u001b[39m\n",
      "\t\u001b[96m\u001b[1mvmovsd\u001b[22m\u001b[39m\t\u001b[0mxmm2\u001b[0m, \u001b[95mqword\u001b[39m \u001b[95mptr\u001b[39m \u001b[33m[\u001b[39m\u001b[0mrcx\u001b[33m]\u001b[39m           \u001b[90m# xmm2 = mem[0],zero\u001b[39m\n",
      "\t\u001b[96m\u001b[1mnop\u001b[22m\u001b[39m\t\u001b[95mword\u001b[39m \u001b[95mptr\u001b[39m \u001b[0mcs\u001b[0m:\u001b[33m[\u001b[39m\u001b[0mrax \u001b[0m+ \u001b[0mrax\u001b[33m]\u001b[39m\n",
      "\u001b[91mL64:\u001b[39m\n",
      "\t\u001b[96m\u001b[1mvfmadd213sd\u001b[22m\u001b[39m\t\u001b[0mxmm0\u001b[0m, \u001b[0mxmm1\u001b[0m, \u001b[0mxmm2        \u001b[90m# xmm0 = (xmm1 * xmm0) + xmm2\u001b[39m\n",
      "\t\u001b[96m\u001b[1madd\u001b[22m\u001b[39m\t\u001b[0mrax\u001b[0m, \u001b[33m-16\u001b[39m\n",
      "\t\u001b[96m\u001b[1mjne\u001b[22m\u001b[39m\t\u001b[91mL64\u001b[39m\n",
      "\t\u001b[96m\u001b[1mpop\u001b[22m\u001b[39m\t\u001b[0mrbp\n",
      "\t\u001b[96m\u001b[1mret\u001b[22m\u001b[39m\n",
      "\t\u001b[96m\u001b[1mnop\u001b[22m\u001b[39m\t\u001b[95mdword\u001b[39m \u001b[95mptr\u001b[39m \u001b[33m[\u001b[39m\u001b[0mrax\u001b[33m]\u001b[39m\n"
     ]
    }
   ],
   "source": [
    "@code_native debuginfo=:none dump_module=false solveode_inline(f_fastmath)"
   ]
  },
  {
   "cell_type": "code",
   "execution_count": null,
   "id": "085b2e0d-071b-4120-808d-0ba619cfd5c6",
   "metadata": {},
   "outputs": [],
   "source": []
  }
 ],
 "metadata": {
  "jupytext": {
   "formats": "ipynb,jl:hydrogen"
  },
  "kernelspec": {
   "display_name": "Julia 1.10.0",
   "language": "julia",
   "name": "julia-1.10"
  },
  "language_info": {
   "file_extension": ".jl",
   "mimetype": "application/julia",
   "name": "julia",
   "version": "1.10.0"
  }
 },
 "nbformat": 4,
 "nbformat_minor": 5
}
