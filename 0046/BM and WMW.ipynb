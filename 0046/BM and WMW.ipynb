{
 "cells": [
  {
   "cell_type": "code",
   "execution_count": 1,
   "id": "97a45980-24bd-4fc3-8f17-01e62b21b478",
   "metadata": {},
   "outputs": [
    {
     "data": {
      "text/plain": [
       "brunner_munzel_test (generic function with 1 method)"
      ]
     },
     "execution_count": 1,
     "metadata": {},
     "output_type": "execute_result"
    }
   ],
   "source": [
    "using Distributions\n",
    "using HypothesisTests\n",
    "\n",
    "function brunner_munzel_test(X, Y; p=1/2)\n",
    "    m, n = length(X), length(Y)\n",
    "    phat = mean((x < y) + (x == y)/2 for x in X, y in Y)\n",
    "    Hbarx = n*(1 - phat)\n",
    "    Hbary = m*phat\n",
    "    sx2 = 1/n^2 * 1/(m-1) * sum(x -> (sum((y < x) + (y == x)/2 for y in Y) - Hbarx)^2, X)\n",
    "    sy2 = 1/m^2 * 1/(n-1) * sum(y -> (sum((x < y) + (x == y)/2 for x in X) - Hbary)^2, Y)\n",
    "    sehat = √(sx2/m + sy2/n)\n",
    "    tvalue = (phat - p)/sehat\n",
    "    df = (sx2/m + sy2/n)^2 / ((sx2/m)^2/(m-1) + (sy2/n)^2/(n-1))\n",
    "    pvalue = sehat > 0 ? 2ccdf(TDist(df), abs(tvalue)) : phat ≈ p ? 1.0 : 0.0\n",
    "    (; phat, sehat, tvalue, df, pvalue, p)\n",
    "end"
   ]
  },
  {
   "cell_type": "code",
   "execution_count": 10,
   "id": "61aae354-749f-4427-abb3-927b68c23d54",
   "metadata": {},
   "outputs": [
    {
     "data": {
      "text/plain": [
       "Dict{Symbol, Float64} with 6 entries:\n",
       "  :p      => 0.5\n",
       "  :df     => 251.835\n",
       "  :phat   => 0.522473\n",
       "  :sehat  => 0.0322476\n",
       "  :tvalue => 0.696898\n",
       "  :pvalue => 0.486509"
      ]
     },
     "execution_count": 10,
     "metadata": {},
     "output_type": "execute_result"
    }
   ],
   "source": [
    "Rs = [5, 4, 3, 2, 1]\n",
    "N_X = [2, 3, 3, 54, 63]\n",
    "N_Y = [1, 4, 2, 65, 59]\n",
    "X = vcat((fill(r, n) for (r, n) in zip(Rs, N_X))...)\n",
    "Y = vcat((fill(r, n) for (r, n) in zip(Rs, N_Y))...)\n",
    "\n",
    "brunner_munzel_test(X, Y) |> pairs |> Dict"
   ]
  },
  {
   "cell_type": "code",
   "execution_count": 11,
   "id": "aa200eee-b6c7-44a1-9059-1d5b7324b5dd",
   "metadata": {},
   "outputs": [
    {
     "data": {
      "text/plain": [
       "Approximate Mann-Whitney U test\n",
       "-------------------------------\n",
       "Population details:\n",
       "    parameter of interest:   Location parameter (pseudomedian)\n",
       "    value under h_0:         0\n",
       "    point estimate:          -1.0\n",
       "\n",
       "Test summary:\n",
       "    outcome with 95% confidence: fail to reject h_0\n",
       "    two-sided p-value:           0.4854\n",
       "\n",
       "Details:\n",
       "    number of observations in each group: [125, 131]\n",
       "    Mann-Whitney-U statistic:             7819.5\n",
       "    rank sums:                            [15694.5, 17201.5]\n",
       "    adjustment for ties:                  3.50125e6\n",
       "    normal approximation (μ, σ):          (-368.0, 526.792)\n"
      ]
     },
     "execution_count": 11,
     "metadata": {},
     "output_type": "execute_result"
    }
   ],
   "source": [
    "MannWhitneyUTest(X, Y)"
   ]
  },
  {
   "cell_type": "code",
   "execution_count": 13,
   "id": "943eb8a2-16ea-4f30-977c-92f4e05675d6",
   "metadata": {},
   "outputs": [
    {
     "data": {
      "text/plain": [
       "0.522473282442748"
      ]
     },
     "execution_count": 13,
     "metadata": {},
     "output_type": "execute_result"
    }
   ],
   "source": [
    "1 - 7819.5/(125*131)"
   ]
  },
  {
   "cell_type": "code",
   "execution_count": 14,
   "id": "c9acbca2-dbd1-4937-af4f-cc569bbde2c3",
   "metadata": {},
   "outputs": [
    {
     "data": {
      "text/plain": [
       "528.05445"
      ]
     },
     "execution_count": 14,
     "metadata": {},
     "output_type": "execute_result"
    }
   ],
   "source": [
    "0.0322476 * 125*131"
   ]
  },
  {
   "cell_type": "code",
   "execution_count": null,
   "id": "1c1fcf5d-d1da-4486-bf5c-456645b0066e",
   "metadata": {},
   "outputs": [],
   "source": []
  }
 ],
 "metadata": {
  "kernelspec": {
   "display_name": "Julia 1.9.4",
   "language": "julia",
   "name": "julia-1.9"
  },
  "language_info": {
   "file_extension": ".jl",
   "mimetype": "application/julia",
   "name": "julia",
   "version": "1.9.4"
  }
 },
 "nbformat": 4,
 "nbformat_minor": 5
}
