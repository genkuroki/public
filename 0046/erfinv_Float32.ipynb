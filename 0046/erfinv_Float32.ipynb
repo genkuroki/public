{
 "cells": [
  {
   "cell_type": "markdown",
   "id": "d51b8060-035f-4452-9251-96ceb9c10a56",
   "metadata": {},
   "source": [
    "$y = \\displaystyle \\operatorname{erf}(x) = \\frac{2}{\\sqrt{\\pi}}\\int_0^x e^{-t^2}\\,dt$ の値域は $-1<y<1$.\n",
    "\n",
    "これの逆函数が $x = \\operatorname{erfiv}(y)$"
   ]
  },
  {
   "cell_type": "code",
   "execution_count": 1,
   "id": "f70da226-8870-41a4-a1f0-f439f6575bdb",
   "metadata": {},
   "outputs": [],
   "source": [
    "using SymPy\n",
    "\n",
    "# Override\n",
    "# https://github.com/jverzani/SymPyCore.jl/blob/main/src/SymPy/show_sympy.jl#L31-L34\n",
    "@eval SymPy begin\n",
    "function Base.show(io::IO,  ::MIME\"text/latex\", x::SymbolicObject)\n",
    "    out = _sympy_.latex(↓(x), mode=\"inline\",fold_short_frac=false)\n",
    "    out = replace(out, r\"\\\\frac{\"=>\"\\\\dfrac{\")\n",
    "    print(io, string(out))\n",
    "end\n",
    "end\n",
    "\n",
    "using Base.Math: @horner"
   ]
  },
  {
   "cell_type": "code",
   "execution_count": 2,
   "id": "56e2b053-7763-4cb0-830f-9e1419b93086",
   "metadata": {},
   "outputs": [
    {
     "data": {
      "text/plain": [
       "erfinv_Float32"
      ]
     },
     "execution_count": 2,
     "metadata": {},
     "output_type": "execute_result"
    }
   ],
   "source": [
    "\"https://github.com/JuliaMath/SpecialFunctions.jl/blob/master/src/erf.jl#L322-L363\"\n",
    "function erfinv_Float32(x, xx) # xx = dummy of x\n",
    "    a = abs(x)\n",
    "    aa = abs(xx)\n",
    "    if aa >= 1.0f0\n",
    "        if xx == 1.0f0\n",
    "            return Inf32\n",
    "        elseif xx == -1.0f0\n",
    "            return -Inf32\n",
    "        end\n",
    "        throw(DomainError(a, \"`abs(x)` cannot be greater than 1.\"))\n",
    "    elseif aa <= 0.75f0 # Table 10 in Blair et al.\n",
    "        t = x*x - 0.5625f0\n",
    "        return x * @horner(t, -0.13095_99674_22f2,\n",
    "                               0.26785_22576_0f2,\n",
    "                              -0.92890_57365f1) /\n",
    "                   @horner(t, -0.12074_94262_97f2,\n",
    "                               0.30960_61452_9f2,\n",
    "                              -0.17149_97799_1f2,\n",
    "                               0.1f1)\n",
    "    elseif aa <= 0.9375f0 # Table 29 in Blair et al.\n",
    "        t = x*x - 0.87890625f0\n",
    "        return x * @horner(t, -0.12402_56522_1f0,\n",
    "                               0.10688_05957_4f1,\n",
    "                              -0.19594_55607_8f1,\n",
    "                               0.42305_81357f0) /\n",
    "                   @horner(t, -0.88276_97997f-1,\n",
    "                               0.89007_43359f0,\n",
    "                              -0.21757_03119_6f1,\n",
    "                               0.1f1)\n",
    "    else # Table 50 in Blair et al.\n",
    "        t = inv(sqrt(-log1p(-a)))\n",
    "        return @horner(t, 0.15504_70003_116f0,\n",
    "                          0.13827_19649_631f1,\n",
    "                          0.69096_93488_87f0,\n",
    "                         -0.11280_81391_617f1,\n",
    "                          0.68054_42468_25f0,\n",
    "                         -0.16444_15679_1f0) /\n",
    "              (copysign(t, x) *\n",
    "               @horner(t, 0.15502_48498_22f0,\n",
    "                          0.13852_28141_995f1,\n",
    "                          0.1f1))\n",
    "    end\n",
    "end"
   ]
  },
  {
   "cell_type": "code",
   "execution_count": 3,
   "id": "7cbaffd4-fc6f-4dc5-900b-78665913491f",
   "metadata": {},
   "outputs": [],
   "source": [
    "@syms x::positive\n",
    "Base.copysign(t, x::Sym) = abs(t) * sign(x)"
   ]
  },
  {
   "cell_type": "code",
   "execution_count": 4,
   "id": "22319d7f-f237-4592-86b3-ff96ff1669d6",
   "metadata": {},
   "outputs": [
    {
     "data": {
      "text/latex": [
       "$\\dfrac{x \\left(\\left(32.0103198885918 - 9.28905773162842 x^{2}\\right) \\left(x^{2} - 0.5625\\right) - 13.0959968566895\\right)}{\\left(x^{2} - 0.5625\\right) \\left(\\left(1.0 x^{2} - 17.7124786376953\\right) \\left(x^{2} - 0.5625\\right) + 30.9606151580811\\right) - 12.0749425888062}$"
      ],
      "text/plain": [
       "           //                                     2\\ / 2         \\            \n",
       "         x*\\\\32.0103198885918 - 9.28905773162842*x /*\\x  - 0.5625/ - 13.095996\n",
       "------------------------------------------------------------------------------\n",
       "/ 2         \\ //     2                   \\ / 2         \\                   \\  \n",
       "\\x  - 0.5625/*\\\\1.0*x  - 17.7124786376953/*\\x  - 0.5625/ + 30.9606151580811/ -\n",
       "\n",
       "       \\         \n",
       "8566895/         \n",
       "-----------------\n",
       "                 \n",
       " 12.0749425888062"
      ]
     },
     "execution_count": 4,
     "metadata": {},
     "output_type": "execute_result"
    }
   ],
   "source": [
    "erfinv_Float32(x, 0.7)"
   ]
  },
  {
   "cell_type": "code",
   "execution_count": 5,
   "id": "f095f3e8-994e-4d77-8cc1-b1b6c5809ebc",
   "metadata": {},
   "outputs": [
    {
     "data": {
      "text/latex": [
       "$\\dfrac{x \\left(\\left(x^{2} - 0.87890625\\right) \\left(\\left(0.423058122396469 x^{2} - 2.33128403720912\\right) \\left(x^{2} - 0.87890625\\right) + 1.06880593299866\\right) - 0.124025650322437\\right)}{\\left(x^{2} - 0.87890625\\right) \\left(\\left(1.0 x^{2} - 3.05460929870605\\right) \\left(x^{2} - 0.87890625\\right) + 0.89007431268692\\right) - 0.0882769823074341}$"
      ],
      "text/plain": [
       "  // 2             \\ //                   2                   \\ / 2           \n",
       "x*\\\\x  - 0.87890625/*\\\\0.423058122396469*x  - 2.33128403720912/*\\x  - 0.878906\n",
       "------------------------------------------------------------------------------\n",
       "        / 2             \\ //     2                   \\ / 2             \\      \n",
       "        \\x  - 0.87890625/*\\\\1.0*x  - 3.05460929870605/*\\x  - 0.87890625/ + 0.8\n",
       "\n",
       "  \\                   \\                    \\\n",
       "25/ + 1.06880593299866/ - 0.124025650322437/\n",
       "--------------------------------------------\n",
       "             \\                              \n",
       "9007431268692/ - 0.0882769823074341         "
      ]
     },
     "execution_count": 5,
     "metadata": {},
     "output_type": "execute_result"
    }
   ],
   "source": [
    "erfinv_Float32(x, 0.9)"
   ]
  },
  {
   "cell_type": "code",
   "execution_count": 6,
   "id": "037541a5-05ed-4e01-9f51-d545b02d9b0d",
   "metadata": {},
   "outputs": [
    {
     "data": {
      "text/latex": [
       "$\\dfrac{\\left(0.155046999454498 + \\dfrac{1.38271963596344 + \\dfrac{0.690969347953796 + \\dfrac{-1.1280814409256 + \\dfrac{0.680544257164001 - \\dfrac{0.16444157063961}{\\sqrt{- \\log{\\left(1 - x \\right)}}}}{\\sqrt{- \\log{\\left(1 - x \\right)}}}}{\\sqrt{- \\log{\\left(1 - x \\right)}}}}{\\sqrt{- \\log{\\left(1 - x \\right)}}}}{\\sqrt{- \\log{\\left(1 - x \\right)}}}\\right) \\left|{\\sqrt{- \\log{\\left(- (x - 1) \\right)}}}\\right|}{0.155024856328964 + \\dfrac{1.38522815704346 + \\dfrac{1.0}{\\sqrt{- \\log{\\left(1 - x \\right)}}}}{\\sqrt{- \\log{\\left(1 - x \\right)}}}}$"
      ],
      "text/plain": [
       "/                                                                             \n",
       "|                                                                             \n",
       "|                                                                             \n",
       "|                                                                             \n",
       "|                                                           -1.1280814409256 +\n",
       "|                                                                             \n",
       "|                                                                             \n",
       "|                                       0.690969347953796 + ------------------\n",
       "|                                                                             \n",
       "|                                                                             \n",
       "|                    1.38271963596344 + --------------------------------------\n",
       "|                                                                       ______\n",
       "|                                                                     \\/ -log(\n",
       "|0.155046999454498 + ---------------------------------------------------------\n",
       "|                                                             _____________   \n",
       "\\                                                           \\/ -log(1 - x)    \n",
       "------------------------------------------------------------------------------\n",
       "                                                                              \n",
       "                                                              1.38522815704346\n",
       "                                                                              \n",
       "                                                                              \n",
       "                                          0.155024856328964 + ----------------\n",
       "                                                                         _____\n",
       "                                                                       \\/ -log\n",
       "\n",
       "                     0.16444157063961\\                     \n",
       " 0.680544257164001 - ----------------|                     \n",
       "                       _____________ |                     \n",
       "                     \\/ -log(1 - x)  |                     \n",
       " ------------------------------------|                     \n",
       "             _____________           |                     \n",
       "           \\/ -log(1 - x)            |                     \n",
       "-------------------------------------|                     \n",
       "    _____________                    |                     \n",
       "  \\/ -log(1 - x)                     |                     \n",
       "-------------------------------------|                     \n",
       "_______                              |                     \n",
       "1 - x)                               | |  ________________|\n",
       "-------------------------------------|*|\\/ -log(-(x - 1)) |\n",
       "                                     |                     \n",
       "                                     /                     \n",
       "-----------------------------------------------------------\n",
       "         1.0                                               \n",
       " + ---------------                                         \n",
       "     _____________                                         \n",
       "   \\/ -log(1 - x)                                          \n",
       "------------------                                         \n",
       "________                                                   \n",
       "(1 - x)                                                    "
      ]
     },
     "execution_count": 6,
     "metadata": {},
     "output_type": "execute_result"
    }
   ],
   "source": [
    "erfinv_Float32(x, 0.95)"
   ]
  },
  {
   "cell_type": "code",
   "execution_count": 7,
   "id": "cd5e9f06-3ea0-4adf-8454-54d059a139ec",
   "metadata": {},
   "outputs": [
    {
     "data": {
      "text/latex": [
       "$- \\dfrac{\\left(0.155046999454498 + \\dfrac{1.38271963596344 + \\dfrac{0.690969347953796 + \\dfrac{-1.1280814409256 + \\dfrac{0.680544257164001 - \\dfrac{0.16444157063961}{\\sqrt{- \\log{\\left(1 - x \\right)}}}}{\\sqrt{- \\log{\\left(1 - x \\right)}}}}{\\sqrt{- \\log{\\left(1 - x \\right)}}}}{\\sqrt{- \\log{\\left(1 - x \\right)}}}}{\\sqrt{- \\log{\\left(1 - x \\right)}}}\\right) \\left|{\\sqrt{- \\log{\\left(- (x - 1) \\right)}}}\\right|}{0.155024856328964 + \\dfrac{1.38522815704346 + \\dfrac{1.0}{\\sqrt{- \\log{\\left(1 - x \\right)}}}}{\\sqrt{- \\log{\\left(1 - x \\right)}}}}$"
      ],
      "text/plain": [
       " /                                                                            \n",
       " |                                                                            \n",
       " |                                                                            \n",
       " |                                                                            \n",
       " |                                                           -1.1280814409256 \n",
       " |                                                                            \n",
       " |                                                                            \n",
       " |                                       0.690969347953796 + -----------------\n",
       " |                                                                            \n",
       " |                                                                            \n",
       " |                    1.38271963596344 + -------------------------------------\n",
       " |                                                                       _____\n",
       " |                                                                     \\/ -log\n",
       "-|0.155046999454498 + --------------------------------------------------------\n",
       " |                                                             _____________  \n",
       " \\                                                           \\/ -log(1 - x)   \n",
       "------------------------------------------------------------------------------\n",
       "                                                                              \n",
       "                                                               1.3852281570434\n",
       "                                                                              \n",
       "                                                                              \n",
       "                                           0.155024856328964 + ---------------\n",
       "                                                                          ____\n",
       "                                                                        \\/ -lo\n",
       "\n",
       "                      0.16444157063961\\                      \n",
       "  0.680544257164001 - ----------------|                      \n",
       "                        _____________ |                      \n",
       "                      \\/ -log(1 - x)  |                      \n",
       "+ ------------------------------------|                      \n",
       "              _____________           |                      \n",
       "            \\/ -log(1 - x)            |                      \n",
       "--------------------------------------|                      \n",
       "     _____________                    |                      \n",
       "   \\/ -log(1 - x)                     |                      \n",
       "--------------------------------------|                      \n",
       "________                              |                      \n",
       "(1 - x)                               | |  ________________| \n",
       "--------------------------------------|*|\\/ -log(-(x - 1)) | \n",
       "                                      |                      \n",
       "                                      /                      \n",
       "-------------------------------------------------------------\n",
       "          1.0                                                \n",
       "6 + ---------------                                          \n",
       "      _____________                                          \n",
       "    \\/ -log(1 - x)                                           \n",
       "-------------------                                          \n",
       "_________                                                    \n",
       "g(1 - x)                                                     "
      ]
     },
     "execution_count": 7,
     "metadata": {},
     "output_type": "execute_result"
    }
   ],
   "source": [
    "erfinv_Float32(-x, 0.95)"
   ]
  },
  {
   "cell_type": "code",
   "execution_count": 8,
   "id": "857f7cfa-377a-45c7-953e-a7160f16826b",
   "metadata": {},
   "outputs": [],
   "source": [
    "using BenchmarkTools\n",
    "using SpecialFunctions"
   ]
  },
  {
   "cell_type": "code",
   "execution_count": 9,
   "id": "0d4d6feb-4568-4bf6-8fbe-60755483ef1e",
   "metadata": {},
   "outputs": [
    {
     "name": "stdout",
     "output_type": "stream",
     "text": [
      "  1.000 ns (0 allocations: 0 bytes)\n",
      "  1.100 ns (0 allocations: 0 bytes)\n",
      "  1.200 ns (0 allocations: 0 bytes)\n"
     ]
    },
    {
     "data": {
      "text/plain": [
       "1.3859038243496802"
      ]
     },
     "execution_count": 9,
     "metadata": {},
     "output_type": "execute_result"
    }
   ],
   "source": [
    "@btime erfinv(0.7)\n",
    "@btime erfinv(0.9)\n",
    "@btime erfinv(0.95)"
   ]
  },
  {
   "cell_type": "code",
   "execution_count": 10,
   "id": "f03639cb-8c6e-4cd1-851e-a31651d0b704",
   "metadata": {},
   "outputs": [
    {
     "name": "stdout",
     "output_type": "stream",
     "text": [
      "  1.100 ns (0 allocations: 0 bytes)\n",
      "  1.200 ns (0 allocations: 0 bytes)\n",
      "  1.100 ns (0 allocations: 0 bytes)\n"
     ]
    },
    {
     "data": {
      "text/plain": [
       "1.3859036f0"
      ]
     },
     "execution_count": 10,
     "metadata": {},
     "output_type": "execute_result"
    }
   ],
   "source": [
    "@btime erfinv(0.7f0)\n",
    "@btime erfinv(0.9f0)\n",
    "@btime erfinv(0.95f0)"
   ]
  },
  {
   "cell_type": "code",
   "execution_count": 14,
   "id": "945ce242-3392-4991-80e3-a7878b42931e",
   "metadata": {},
   "outputs": [
    {
     "data": {
      "text/plain": [
       "BenchmarkTools.Trial: 10000 samples with 1000 evaluations.\n",
       " Range \u001b[90m(\u001b[39m\u001b[36m\u001b[1mmin\u001b[22m\u001b[39m … \u001b[35mmax\u001b[39m\u001b[90m):  \u001b[39m\u001b[36m\u001b[1m4.200 ns\u001b[22m\u001b[39m … \u001b[35m40.300 ns\u001b[39m  \u001b[90m┊\u001b[39m GC \u001b[90m(\u001b[39mmin … max\u001b[90m): \u001b[39m0.00% … 0.00%\n",
       " Time  \u001b[90m(\u001b[39m\u001b[34m\u001b[1mmedian\u001b[22m\u001b[39m\u001b[90m):     \u001b[39m\u001b[34m\u001b[1m4.800 ns              \u001b[22m\u001b[39m\u001b[90m┊\u001b[39m GC \u001b[90m(\u001b[39mmedian\u001b[90m):    \u001b[39m0.00%\n",
       " Time  \u001b[90m(\u001b[39m\u001b[32m\u001b[1mmean\u001b[22m\u001b[39m ± \u001b[32mσ\u001b[39m\u001b[90m):   \u001b[39m\u001b[32m\u001b[1m5.129 ns\u001b[22m\u001b[39m ± \u001b[32m 1.418 ns\u001b[39m  \u001b[90m┊\u001b[39m GC \u001b[90m(\u001b[39mmean ± σ\u001b[90m):  \u001b[39m0.00% ± 0.00%\n",
       "\n",
       "  \u001b[39m \u001b[39m \u001b[39m \u001b[39m▁\u001b[39m \u001b[39m█\u001b[39m \u001b[39m▇\u001b[39m \u001b[39m▆\u001b[39m \u001b[34m▃\u001b[39m\u001b[39m \u001b[39m \u001b[39m \u001b[39m \u001b[39m \u001b[32m \u001b[39m\u001b[39m \u001b[39m \u001b[39m \u001b[39m \u001b[39m \u001b[39m \u001b[39m \u001b[39m \u001b[39m \u001b[39m \u001b[39m \u001b[39m \u001b[39m \u001b[39m \u001b[39m \u001b[39m \u001b[39m \u001b[39m \u001b[39m \u001b[39m \u001b[39m \u001b[39m \u001b[39m \u001b[39m \u001b[39m \u001b[39m \u001b[39m \u001b[39m \u001b[39m \u001b[39m \u001b[39m \u001b[39m \u001b[39m \u001b[39m \u001b[39m \u001b[39m \u001b[39m \u001b[39m \u001b[39m \u001b[39m \u001b[39m \u001b[39m \n",
       "  \u001b[39m▂\u001b[39m▃\u001b[39m▁\u001b[39m█\u001b[39m▁\u001b[39m█\u001b[39m▁\u001b[39m█\u001b[39m▁\u001b[39m█\u001b[39m▁\u001b[34m█\u001b[39m\u001b[39m▁\u001b[39m█\u001b[39m▅\u001b[39m▁\u001b[39m▄\u001b[32m▁\u001b[39m\u001b[39m▄\u001b[39m▁\u001b[39m▃\u001b[39m▁\u001b[39m▃\u001b[39m▁\u001b[39m▄\u001b[39m▁\u001b[39m▅\u001b[39m▁\u001b[39m█\u001b[39m█\u001b[39m▁\u001b[39m█\u001b[39m▁\u001b[39m▆\u001b[39m▁\u001b[39m▄\u001b[39m▁\u001b[39m▃\u001b[39m▁\u001b[39m▂\u001b[39m▁\u001b[39m▂\u001b[39m▁\u001b[39m▂\u001b[39m▂\u001b[39m▁\u001b[39m▂\u001b[39m▁\u001b[39m▂\u001b[39m▁\u001b[39m▂\u001b[39m▁\u001b[39m▂\u001b[39m▁\u001b[39m▂\u001b[39m▁\u001b[39m▂\u001b[39m▂\u001b[39m \u001b[39m▃\n",
       "  4.2 ns\u001b[90m         Histogram: frequency by time\u001b[39m         7.3 ns \u001b[0m\u001b[1m<\u001b[22m\n",
       "\n",
       " Memory estimate\u001b[90m: \u001b[39m\u001b[33m0 bytes\u001b[39m, allocs estimate\u001b[90m: \u001b[39m\u001b[33m0\u001b[39m."
      ]
     },
     "execution_count": 14,
     "metadata": {},
     "output_type": "execute_result"
    }
   ],
   "source": [
    "@benchmark randn(Float32)"
   ]
  },
  {
   "cell_type": "code",
   "execution_count": 15,
   "id": "b76daa88-7805-475d-a7d5-6d771d583db3",
   "metadata": {},
   "outputs": [
    {
     "data": {
      "text/plain": [
       "BenchmarkTools.Trial: 10000 samples with 1000 evaluations.\n",
       " Range \u001b[90m(\u001b[39m\u001b[36m\u001b[1mmin\u001b[22m\u001b[39m … \u001b[35mmax\u001b[39m\u001b[90m):  \u001b[39m\u001b[36m\u001b[1m3.400 ns\u001b[22m\u001b[39m … \u001b[35m34.000 ns\u001b[39m  \u001b[90m┊\u001b[39m GC \u001b[90m(\u001b[39mmin … max\u001b[90m): \u001b[39m0.00% … 0.00%\n",
       " Time  \u001b[90m(\u001b[39m\u001b[34m\u001b[1mmedian\u001b[22m\u001b[39m\u001b[90m):     \u001b[39m\u001b[34m\u001b[1m3.900 ns              \u001b[22m\u001b[39m\u001b[90m┊\u001b[39m GC \u001b[90m(\u001b[39mmedian\u001b[90m):    \u001b[39m0.00%\n",
       " Time  \u001b[90m(\u001b[39m\u001b[32m\u001b[1mmean\u001b[22m\u001b[39m ± \u001b[32mσ\u001b[39m\u001b[90m):   \u001b[39m\u001b[32m\u001b[1m4.200 ns\u001b[22m\u001b[39m ± \u001b[32m 1.105 ns\u001b[39m  \u001b[90m┊\u001b[39m GC \u001b[90m(\u001b[39mmean ± σ\u001b[90m):  \u001b[39m0.00% ± 0.00%\n",
       "\n",
       "  \u001b[39m \u001b[39m \u001b[39m \u001b[39m \u001b[39m▂\u001b[39m \u001b[39m█\u001b[39m \u001b[39m \u001b[39m█\u001b[39m \u001b[39m▃\u001b[34m \u001b[39m\u001b[39m \u001b[39m \u001b[39m \u001b[39m \u001b[39m \u001b[39m \u001b[32m \u001b[39m\u001b[39m \u001b[39m \u001b[39m \u001b[39m \u001b[39m \u001b[39m \u001b[39m \u001b[39m▁\u001b[39m \u001b[39m \u001b[39m▂\u001b[39m \u001b[39m \u001b[39m \u001b[39m \u001b[39m \u001b[39m \u001b[39m \u001b[39m \u001b[39m \u001b[39m \u001b[39m \u001b[39m \u001b[39m \u001b[39m \u001b[39m \u001b[39m \u001b[39m \u001b[39m \u001b[39m \u001b[39m \u001b[39m \u001b[39m \u001b[39m \u001b[39m \u001b[39m \u001b[39m \u001b[39m \u001b[39m \u001b[39m \n",
       "  \u001b[39m▂\u001b[39m▁\u001b[39m▅\u001b[39m▁\u001b[39m█\u001b[39m▁\u001b[39m█\u001b[39m▁\u001b[39m▁\u001b[39m█\u001b[39m▁\u001b[39m█\u001b[34m▁\u001b[39m\u001b[39m▆\u001b[39m▁\u001b[39m▁\u001b[39m▄\u001b[39m▁\u001b[39m▄\u001b[32m▁\u001b[39m\u001b[39m▄\u001b[39m▁\u001b[39m▁\u001b[39m▅\u001b[39m▁\u001b[39m▇\u001b[39m▁\u001b[39m█\u001b[39m▁\u001b[39m▁\u001b[39m█\u001b[39m▁\u001b[39m▇\u001b[39m▁\u001b[39m▄\u001b[39m▁\u001b[39m▁\u001b[39m▃\u001b[39m▁\u001b[39m▃\u001b[39m▁\u001b[39m▂\u001b[39m▁\u001b[39m▁\u001b[39m▂\u001b[39m▁\u001b[39m▂\u001b[39m▁\u001b[39m▂\u001b[39m▁\u001b[39m▁\u001b[39m▂\u001b[39m▁\u001b[39m▂\u001b[39m▁\u001b[39m▂\u001b[39m▁\u001b[39m▂\u001b[39m \u001b[39m▃\n",
       "  3.4 ns\u001b[90m         Histogram: frequency by time\u001b[39m         5.9 ns \u001b[0m\u001b[1m<\u001b[22m\n",
       "\n",
       " Memory estimate\u001b[90m: \u001b[39m\u001b[33m0 bytes\u001b[39m, allocs estimate\u001b[90m: \u001b[39m\u001b[33m0\u001b[39m."
      ]
     },
     "execution_count": 15,
     "metadata": {},
     "output_type": "execute_result"
    }
   ],
   "source": [
    "@benchmark randn()"
   ]
  },
  {
   "cell_type": "code",
   "execution_count": 32,
   "id": "7a0bafda-15e6-4332-9a6d-899603af0fb4",
   "metadata": {},
   "outputs": [
    {
     "data": {
      "text/plain": [
       "BenchmarkTools.Trial: 10000 samples with 998 evaluations.\n",
       " Range \u001b[90m(\u001b[39m\u001b[36m\u001b[1mmin\u001b[22m\u001b[39m … \u001b[35mmax\u001b[39m\u001b[90m):  \u001b[39m\u001b[36m\u001b[1m14.429 ns\u001b[22m\u001b[39m … \u001b[35m73.447 ns\u001b[39m  \u001b[90m┊\u001b[39m GC \u001b[90m(\u001b[39mmin … max\u001b[90m): \u001b[39m0.00% … 0.00%\n",
       " Time  \u001b[90m(\u001b[39m\u001b[34m\u001b[1mmedian\u001b[22m\u001b[39m\u001b[90m):     \u001b[39m\u001b[34m\u001b[1m16.733 ns              \u001b[22m\u001b[39m\u001b[90m┊\u001b[39m GC \u001b[90m(\u001b[39mmedian\u001b[90m):    \u001b[39m0.00%\n",
       " Time  \u001b[90m(\u001b[39m\u001b[32m\u001b[1mmean\u001b[22m\u001b[39m ± \u001b[32mσ\u001b[39m\u001b[90m):   \u001b[39m\u001b[32m\u001b[1m17.753 ns\u001b[22m\u001b[39m ± \u001b[32m 4.155 ns\u001b[39m  \u001b[90m┊\u001b[39m GC \u001b[90m(\u001b[39mmean ± σ\u001b[90m):  \u001b[39m0.00% ± 0.00%\n",
       "\n",
       "  \u001b[39m \u001b[39m \u001b[39m \u001b[39m▂\u001b[39m▃\u001b[39m█\u001b[34m▅\u001b[39m\u001b[39m \u001b[32m \u001b[39m\u001b[39m \u001b[39m \u001b[39m \u001b[39m \u001b[39m \u001b[39m \u001b[39m \u001b[39m \u001b[39m \u001b[39m \u001b[39m \u001b[39m \u001b[39m \u001b[39m \u001b[39m \u001b[39m \u001b[39m \u001b[39m \u001b[39m \u001b[39m \u001b[39m \u001b[39m \u001b[39m \u001b[39m \u001b[39m \u001b[39m \u001b[39m \u001b[39m \u001b[39m \u001b[39m \u001b[39m \u001b[39m \u001b[39m \u001b[39m \u001b[39m \u001b[39m \u001b[39m \u001b[39m \u001b[39m \u001b[39m \u001b[39m \u001b[39m \u001b[39m \u001b[39m \u001b[39m \u001b[39m \u001b[39m \u001b[39m \u001b[39m \u001b[39m \u001b[39m \u001b[39m \n",
       "  \u001b[39m▂\u001b[39m▂\u001b[39m▅\u001b[39m█\u001b[39m█\u001b[39m█\u001b[34m█\u001b[39m\u001b[39m▇\u001b[32m▅\u001b[39m\u001b[39m▃\u001b[39m▃\u001b[39m▂\u001b[39m▃\u001b[39m▃\u001b[39m▃\u001b[39m▃\u001b[39m▄\u001b[39m▄\u001b[39m▃\u001b[39m▂\u001b[39m▂\u001b[39m▂\u001b[39m▂\u001b[39m▂\u001b[39m▂\u001b[39m▂\u001b[39m▂\u001b[39m▁\u001b[39m▂\u001b[39m▂\u001b[39m▂\u001b[39m▁\u001b[39m▂\u001b[39m▁\u001b[39m▁\u001b[39m▁\u001b[39m▂\u001b[39m▂\u001b[39m▂\u001b[39m▂\u001b[39m▂\u001b[39m▂\u001b[39m▂\u001b[39m▂\u001b[39m▂\u001b[39m▂\u001b[39m▂\u001b[39m▂\u001b[39m▂\u001b[39m▂\u001b[39m▂\u001b[39m▂\u001b[39m▂\u001b[39m▂\u001b[39m▂\u001b[39m▂\u001b[39m▂\u001b[39m▂\u001b[39m▂\u001b[39m \u001b[39m▃\n",
       "  14.4 ns\u001b[90m         Histogram: frequency by time\u001b[39m        37.7 ns \u001b[0m\u001b[1m<\u001b[22m\n",
       "\n",
       " Memory estimate\u001b[90m: \u001b[39m\u001b[33m0 bytes\u001b[39m, allocs estimate\u001b[90m: \u001b[39m\u001b[33m0\u001b[39m."
      ]
     },
     "execution_count": 32,
     "metadata": {},
     "output_type": "execute_result"
    }
   ],
   "source": [
    "quantile_stdnormal(p) = √2 * erfinv(2p - 1)\n",
    "randn_Float32_inversemethod() = quantile_stdnormal(rand(Float32))\n",
    "@benchmark randn_Float32_inversemethod()"
   ]
  },
  {
   "cell_type": "code",
   "execution_count": 31,
   "id": "321728c7-3b27-4754-a46a-484c5402b2ac",
   "metadata": {},
   "outputs": [
    {
     "data": {
      "text/plain": [
       "BenchmarkTools.Trial: 10000 samples with 1000 evaluations.\n",
       " Range \u001b[90m(\u001b[39m\u001b[36m\u001b[1mmin\u001b[22m\u001b[39m … \u001b[35mmax\u001b[39m\u001b[90m):  \u001b[39m\u001b[36m\u001b[1m1.200 ns\u001b[22m\u001b[39m … \u001b[35m19.100 ns\u001b[39m  \u001b[90m┊\u001b[39m GC \u001b[90m(\u001b[39mmin … max\u001b[90m): \u001b[39m0.00% … 0.00%\n",
       " Time  \u001b[90m(\u001b[39m\u001b[34m\u001b[1mmedian\u001b[22m\u001b[39m\u001b[90m):     \u001b[39m\u001b[34m\u001b[1m1.400 ns              \u001b[22m\u001b[39m\u001b[90m┊\u001b[39m GC \u001b[90m(\u001b[39mmedian\u001b[90m):    \u001b[39m0.00%\n",
       " Time  \u001b[90m(\u001b[39m\u001b[32m\u001b[1mmean\u001b[22m\u001b[39m ± \u001b[32mσ\u001b[39m\u001b[90m):   \u001b[39m\u001b[32m\u001b[1m1.416 ns\u001b[22m\u001b[39m ± \u001b[32m 0.386 ns\u001b[39m  \u001b[90m┊\u001b[39m GC \u001b[90m(\u001b[39mmean ± σ\u001b[90m):  \u001b[39m0.00% ± 0.00%\n",
       "\n",
       "  \u001b[39m \u001b[39m \u001b[39m \u001b[39m \u001b[39m \u001b[39m \u001b[39m \u001b[39m \u001b[39m \u001b[39m \u001b[39m \u001b[39m \u001b[39m \u001b[39m \u001b[39m \u001b[39m \u001b[39m \u001b[39m \u001b[39m \u001b[39m \u001b[39m \u001b[39m \u001b[39m \u001b[39m \u001b[39m \u001b[39m \u001b[39m \u001b[39m \u001b[39m█\u001b[34m \u001b[39m\u001b[39m \u001b[32m \u001b[39m\u001b[39m \u001b[39m \u001b[39m \u001b[39m \u001b[39m \u001b[39m \u001b[39m \u001b[39m \u001b[39m \u001b[39m \u001b[39m \u001b[39m▄\u001b[39m \u001b[39m \u001b[39m \u001b[39m \u001b[39m \u001b[39m \u001b[39m \u001b[39m \u001b[39m \u001b[39m \u001b[39m \u001b[39m \u001b[39m \u001b[39m \u001b[39m \u001b[39m \n",
       "  \u001b[39m▅\u001b[39m▁\u001b[39m▁\u001b[39m▁\u001b[39m▁\u001b[39m▁\u001b[39m▁\u001b[39m▁\u001b[39m▁\u001b[39m▁\u001b[39m▁\u001b[39m▁\u001b[39m▁\u001b[39m▁\u001b[39m▇\u001b[39m▁\u001b[39m▁\u001b[39m▁\u001b[39m▁\u001b[39m▁\u001b[39m▁\u001b[39m▁\u001b[39m▁\u001b[39m▁\u001b[39m▁\u001b[39m▁\u001b[39m▁\u001b[39m▁\u001b[39m█\u001b[34m▁\u001b[39m\u001b[39m▁\u001b[32m▁\u001b[39m\u001b[39m▁\u001b[39m▁\u001b[39m▁\u001b[39m▁\u001b[39m▁\u001b[39m▁\u001b[39m▁\u001b[39m▁\u001b[39m▁\u001b[39m▁\u001b[39m▁\u001b[39m█\u001b[39m▁\u001b[39m▁\u001b[39m▁\u001b[39m▁\u001b[39m▁\u001b[39m▁\u001b[39m▁\u001b[39m▁\u001b[39m▁\u001b[39m▁\u001b[39m▁\u001b[39m▁\u001b[39m▁\u001b[39m▂\u001b[39m \u001b[39m▂\n",
       "  1.2 ns\u001b[90m         Histogram: frequency by time\u001b[39m         1.6 ns \u001b[0m\u001b[1m<\u001b[22m\n",
       "\n",
       " Memory estimate\u001b[90m: \u001b[39m\u001b[33m0 bytes\u001b[39m, allocs estimate\u001b[90m: \u001b[39m\u001b[33m0\u001b[39m."
      ]
     },
     "execution_count": 31,
     "metadata": {},
     "output_type": "execute_result"
    }
   ],
   "source": [
    "@benchmark quantile_stdnormal(0.99)"
   ]
  },
  {
   "cell_type": "code",
   "execution_count": 29,
   "id": "7af54264-7353-4f33-846b-e6c543a44619",
   "metadata": {},
   "outputs": [
    {
     "data": {
      "text/plain": [
       "BenchmarkTools.Trial: 10000 samples with 1000 evaluations.\n",
       " Range \u001b[90m(\u001b[39m\u001b[36m\u001b[1mmin\u001b[22m\u001b[39m … \u001b[35mmax\u001b[39m\u001b[90m):  \u001b[39m\u001b[36m\u001b[1m2.500 ns\u001b[22m\u001b[39m … \u001b[35m49.900 ns\u001b[39m  \u001b[90m┊\u001b[39m GC \u001b[90m(\u001b[39mmin … max\u001b[90m): \u001b[39m0.00% … 0.00%\n",
       " Time  \u001b[90m(\u001b[39m\u001b[34m\u001b[1mmedian\u001b[22m\u001b[39m\u001b[90m):     \u001b[39m\u001b[34m\u001b[1m2.900 ns              \u001b[22m\u001b[39m\u001b[90m┊\u001b[39m GC \u001b[90m(\u001b[39mmedian\u001b[90m):    \u001b[39m0.00%\n",
       " Time  \u001b[90m(\u001b[39m\u001b[32m\u001b[1mmean\u001b[22m\u001b[39m ± \u001b[32mσ\u001b[39m\u001b[90m):   \u001b[39m\u001b[32m\u001b[1m3.045 ns\u001b[22m\u001b[39m ± \u001b[32m 1.205 ns\u001b[39m  \u001b[90m┊\u001b[39m GC \u001b[90m(\u001b[39mmean ± σ\u001b[90m):  \u001b[39m0.00% ± 0.00%\n",
       "\n",
       "  \u001b[39m \u001b[39m \u001b[39m \u001b[39m█\u001b[39m \u001b[39m \u001b[39m \u001b[39m \u001b[39m \u001b[39m \u001b[39m \u001b[39m \u001b[34m \u001b[39m\u001b[39m \u001b[39m \u001b[39m \u001b[39m \u001b[32m \u001b[39m\u001b[39m \u001b[39m \u001b[39m \u001b[39m \u001b[39m \u001b[39m \u001b[39m \u001b[39m \u001b[39m \u001b[39m▁\u001b[39m \u001b[39m \u001b[39m \u001b[39m \u001b[39m \u001b[39m \u001b[39m \u001b[39m \u001b[39m \u001b[39m \u001b[39m \u001b[39m \u001b[39m \u001b[39m \u001b[39m \u001b[39m \u001b[39m \u001b[39m \u001b[39m \u001b[39m \u001b[39m \u001b[39m \u001b[39m \u001b[39m \u001b[39m \u001b[39m \u001b[39m \u001b[39m \u001b[39m \u001b[39m \u001b[39m \u001b[39m \n",
       "  \u001b[39m▄\u001b[39m▁\u001b[39m▁\u001b[39m█\u001b[39m▁\u001b[39m▁\u001b[39m▄\u001b[39m▁\u001b[39m▁\u001b[39m▄\u001b[39m▁\u001b[39m▁\u001b[34m▄\u001b[39m\u001b[39m▁\u001b[39m▁\u001b[39m▃\u001b[39m▁\u001b[32m▁\u001b[39m\u001b[39m▃\u001b[39m▁\u001b[39m▁\u001b[39m▄\u001b[39m▁\u001b[39m▁\u001b[39m▅\u001b[39m▁\u001b[39m▁\u001b[39m█\u001b[39m▁\u001b[39m▁\u001b[39m▆\u001b[39m▁\u001b[39m▁\u001b[39m▂\u001b[39m▁\u001b[39m▁\u001b[39m▂\u001b[39m▁\u001b[39m▁\u001b[39m▂\u001b[39m▁\u001b[39m▁\u001b[39m▂\u001b[39m▁\u001b[39m▁\u001b[39m▂\u001b[39m▁\u001b[39m▁\u001b[39m▂\u001b[39m▁\u001b[39m▁\u001b[39m▂\u001b[39m▁\u001b[39m▁\u001b[39m▂\u001b[39m▁\u001b[39m▁\u001b[39m▂\u001b[39m \u001b[39m▂\n",
       "  2.5 ns\u001b[90m         Histogram: frequency by time\u001b[39m         4.4 ns \u001b[0m\u001b[1m<\u001b[22m\n",
       "\n",
       " Memory estimate\u001b[90m: \u001b[39m\u001b[33m0 bytes\u001b[39m, allocs estimate\u001b[90m: \u001b[39m\u001b[33m0\u001b[39m."
      ]
     },
     "execution_count": 29,
     "metadata": {},
     "output_type": "execute_result"
    }
   ],
   "source": [
    "@benchmark rand(Float32)"
   ]
  },
  {
   "cell_type": "code",
   "execution_count": null,
   "id": "037e5381-f6b7-49fd-9637-8782a32f15d5",
   "metadata": {},
   "outputs": [],
   "source": []
  }
 ],
 "metadata": {
  "kernelspec": {
   "display_name": "Julia 1.10.0",
   "language": "julia",
   "name": "julia-1.10"
  },
  "language_info": {
   "file_extension": ".jl",
   "mimetype": "application/julia",
   "name": "julia",
   "version": "1.10.0"
  }
 },
 "nbformat": 4,
 "nbformat_minor": 5
}
