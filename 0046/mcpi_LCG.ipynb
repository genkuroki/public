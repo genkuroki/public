{
 "cells": [
  {
   "cell_type": "code",
   "execution_count": 1,
   "id": "a99f0ccd-e99b-4e8b-abc6-ba52aa096aa7",
   "metadata": {},
   "outputs": [],
   "source": [
    "module O\n",
    "\n",
    "export rand_LCG, seed_LCG!\n",
    "\n",
    "# Linear congruential generators (LCGs)\n",
    "# Parameters are provided by Park and Miller\n",
    "# See https://c-faq.com/lib/rand.html\n",
    "\n",
    "mutable struct LinearCongruentialGenerator <: Function\n",
    "    seed::Int32\n",
    "end\n",
    "\n",
    "const a = Int32(48271)\n",
    "const m = Int32(2147483647)\n",
    "const q = m ÷ a\n",
    "const r = m % a\n",
    "\n",
    "function (f::LinearCongruentialGenerator)()\n",
    "    seed = f.seed\n",
    "    hi, lo = divrem(seed, q)\n",
    "    seed = a * lo - r * hi\n",
    "    seed = ifelse(seed > zero(seed), seed, seed + m)\n",
    "    f.seed = seed\n",
    "    seed / m\n",
    "end\n",
    "\n",
    "const rand_LCG = LinearCongruentialGenerator(Int32(20231226))\n",
    "\n",
    "seed_LCG!(seed) = rand_LCG.seed = Int32(seed)\n",
    "\n",
    "end\n",
    "\n",
    "using .O"
   ]
  },
  {
   "cell_type": "code",
   "execution_count": 2,
   "id": "786308e6-8e43-4092-81ee-0875562348f0",
   "metadata": {},
   "outputs": [
    {
     "name": "stdout",
     "output_type": "stream",
     "text": [
      "  8.853515 seconds\n",
      "  8.874661 seconds\n",
      "  8.957782 seconds\n"
     ]
    },
    {
     "data": {
      "text/plain": [
       "3.141546348"
      ]
     },
     "execution_count": 2,
     "metadata": {},
     "output_type": "execute_result"
    }
   ],
   "source": [
    "function mcpi_LCG(num_points = 10^9, seed = 20231226)\n",
    "    seed_LCG!(seed)\n",
    "    num_inside = 0\n",
    "    for i in 1:num_points\n",
    "        num_inside += rand_LCG()^2 + rand_LCG()^2 < 1\n",
    "    end\n",
    "    4num_inside / num_points\n",
    "end\n",
    "\n",
    "@time mcpi_LCG()\n",
    "@time mcpi_LCG()\n",
    "@time mcpi_LCG()"
   ]
  },
  {
   "cell_type": "code",
   "execution_count": 3,
   "id": "c8d06ee6-2c62-41b7-8608-df0ca5ac2c6e",
   "metadata": {},
   "outputs": [
    {
     "name": "stdout",
     "output_type": "stream",
     "text": [
      "  1.107365 seconds\n",
      "  1.098373 seconds\n",
      "  1.102564 seconds\n"
     ]
    },
    {
     "data": {
      "text/plain": [
       "3.141605344"
      ]
     },
     "execution_count": 3,
     "metadata": {},
     "output_type": "execute_result"
    }
   ],
   "source": [
    "using LoopVectorization\n",
    "\n",
    "isinside(i) = rand_LCG()^2 + rand_LCG()^2 < 1\n",
    "\n",
    "function mcpi_LCG_turbo(num_points = 10^9, seed = 20231226)\n",
    "    seed_LCG!(seed)\n",
    "    num_inside = 0\n",
    "    @turbo for i in 1:num_points\n",
    "        num_inside += isinside(i)\n",
    "    end\n",
    "    4num_inside / num_points\n",
    "end\n",
    "\n",
    "@time mcpi_LCG_turbo()\n",
    "@time mcpi_LCG_turbo()\n",
    "@time mcpi_LCG_turbo()"
   ]
  },
  {
   "cell_type": "code",
   "execution_count": null,
   "id": "0392d532-2052-4adb-8d92-b1046a886cf7",
   "metadata": {},
   "outputs": [],
   "source": []
  }
 ],
 "metadata": {
  "jupytext": {
   "formats": "ipynb,jl:hydrogen"
  },
  "kernelspec": {
   "display_name": "Julia 1.10.0",
   "language": "julia",
   "name": "julia-1.10"
  },
  "language_info": {
   "file_extension": ".jl",
   "mimetype": "application/julia",
   "name": "julia",
   "version": "1.10.0"
  }
 },
 "nbformat": 4,
 "nbformat_minor": 5
}
