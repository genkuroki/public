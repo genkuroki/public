{
 "cells": [
  {
   "cell_type": "code",
   "execution_count": 1,
   "id": "c8baac99-a97d-4f11-a37c-505d90bbac04",
   "metadata": {},
   "outputs": [],
   "source": [
    "using Random\n",
    "\n",
    "module O\n",
    "\n",
    "export TaskLocalLCG, LCG\n",
    "\n",
    "using Random: Random, AbstractRNG, RandomDevice\n",
    "\n",
    "const a = Int32(48271)\n",
    "const m = Int32(2^31 - 1)\n",
    "const q = m ÷ a\n",
    "const r = m % a\n",
    "\n",
    "struct TaskLocalLCG <: AbstractRNG end\n",
    "const LCG = TaskLocalLCG()\n",
    "\n",
    "@inline getstate(::TaskLocalLCG) = mod(current_task().rngState0, Int32)\n",
    "@inline setstate!(lcg::TaskLocalLCG, x::Integer) = (current_task().rngState0 = x; lcg)\n",
    "\n",
    "@inline function Random.rand(lcg::TaskLocalLCG) # 手抜き\n",
    "    x = getstate(lcg)\n",
    "    hi, lo = divrem(x, q)\n",
    "    x = a * lo - r * hi\n",
    "    x = ifelse(x > zero(x), x, x + m)\n",
    "    setstate!(lcg, x)\n",
    "    x / m # 本当は (x - 1) / m とするべき。\n",
    "end\n",
    "\n",
    "Random.seed!(lcg::TaskLocalLCG) = setstate!(lcg, rand(RandomDevice(), UInt64))\n",
    "Random.seed!(lcg::TaskLocalLCG, x) = setstate!(lcg, x)\n",
    "\n",
    "end\n",
    "\n",
    "using .O"
   ]
  },
  {
   "cell_type": "code",
   "execution_count": 2,
   "id": "786308e6-8e43-4092-81ee-0875562348f0",
   "metadata": {},
   "outputs": [
    {
     "name": "stdout",
     "output_type": "stream",
     "text": [
      "  8.279241 seconds\n",
      "  8.273855 seconds\n",
      "  8.303930 seconds\n",
      "  8.310941 seconds\n",
      "  8.276474 seconds\n",
      "  8.286418 seconds\n"
     ]
    },
    {
     "data": {
      "text/plain": [
       "3.141546348"
      ]
     },
     "execution_count": 2,
     "metadata": {},
     "output_type": "execute_result"
    }
   ],
   "source": [
    "function mcpi_LCG(num_points = 10^9, seed = 20231226)\n",
    "    Random.seed!(LCG, seed)\n",
    "    num_inside = 0\n",
    "    for i in 1:num_points\n",
    "        num_inside += rand(LCG)^2 + rand(LCG)^2 < 1\n",
    "    end\n",
    "    4num_inside / num_points\n",
    "end\n",
    "\n",
    "@time mcpi_LCG()\n",
    "@time mcpi_LCG()\n",
    "@time mcpi_LCG()\n",
    "@time mcpi_LCG()\n",
    "@time mcpi_LCG()\n",
    "@time mcpi_LCG()"
   ]
  },
  {
   "cell_type": "code",
   "execution_count": 3,
   "id": "c8d06ee6-2c62-41b7-8608-df0ca5ac2c6e",
   "metadata": {},
   "outputs": [
    {
     "name": "stdout",
     "output_type": "stream",
     "text": [
      "  1.032586 seconds\n",
      "  1.037734 seconds\n",
      "  1.028580 seconds\n",
      "  1.037035 seconds\n",
      "  1.030685 seconds\n",
      "  1.031767 seconds\n"
     ]
    },
    {
     "data": {
      "text/plain": [
       "3.141605344"
      ]
     },
     "execution_count": 3,
     "metadata": {},
     "output_type": "execute_result"
    }
   ],
   "source": [
    "using LoopVectorization\n",
    "\n",
    "@inline isinside(i) = rand(LCG)^2 + rand(LCG)^2 < 1\n",
    "\n",
    "function mcpi_LCG_turbo(num_points = 10^9, seed = 20231226)\n",
    "    Random.seed!(LCG, seed)\n",
    "    num_inside = 0\n",
    "    @turbo for i in 1:num_points\n",
    "        num_inside += isinside(i)\n",
    "    end\n",
    "    4num_inside / num_points\n",
    "end\n",
    "\n",
    "@time mcpi_LCG_turbo()\n",
    "@time mcpi_LCG_turbo()\n",
    "@time mcpi_LCG_turbo()\n",
    "@time mcpi_LCG_turbo()\n",
    "@time mcpi_LCG_turbo()\n",
    "@time mcpi_LCG_turbo()"
   ]
  },
  {
   "cell_type": "code",
   "execution_count": 4,
   "id": "6579a44e-25ec-4c1a-ad96-0e1953a8a6e8",
   "metadata": {},
   "outputs": [
    {
     "name": "stdout",
     "output_type": "stream",
     "text": [
      "  0.199430 seconds (2 allocations: 32 bytes)\n",
      "  0.211352 seconds (4 allocations: 192 bytes)\n",
      "  0.208771 seconds (123 allocations: 10.609 KiB)\n",
      "  0.227069 seconds (4 allocations: 216 bytes)\n",
      "  0.192410 seconds\n",
      "  0.212083 seconds (4 allocations: 152 bytes)\n"
     ]
    },
    {
     "data": {
      "text/plain": [
       "3.141618944"
      ]
     },
     "execution_count": 4,
     "metadata": {},
     "output_type": "execute_result"
    }
   ],
   "source": [
    "function mcpi_LCG_tturbo(num_points = 10^9, seed = 20231226)\n",
    "    Random.seed!(LCG, seed)\n",
    "    num_inside = 0\n",
    "    @tturbo for i in 1:num_points\n",
    "        num_inside += isinside(i)\n",
    "    end\n",
    "    4num_inside / num_points\n",
    "end\n",
    "\n",
    "mcpi_LCG_tturbo()\n",
    "@time mcpi_LCG_tturbo()\n",
    "@time mcpi_LCG_tturbo()\n",
    "@time mcpi_LCG_tturbo()\n",
    "@time mcpi_LCG_tturbo()\n",
    "@time mcpi_LCG_tturbo()\n",
    "@time mcpi_LCG_tturbo()"
   ]
  },
  {
   "cell_type": "code",
   "execution_count": null,
   "id": "93069234-df55-43a0-86bb-a70f8125c12a",
   "metadata": {},
   "outputs": [],
   "source": []
  }
 ],
 "metadata": {
  "jupytext": {
   "encoding": "# -*- coding: utf-8 -*-",
   "formats": "ipynb,jl:hydrogen"
  },
  "kernelspec": {
   "display_name": "Julia 1.10.0",
   "language": "julia",
   "name": "julia-1.10"
  },
  "language_info": {
   "file_extension": ".jl",
   "mimetype": "application/julia",
   "name": "julia",
   "version": "1.10.0"
  }
 },
 "nbformat": 4,
 "nbformat_minor": 5
}
