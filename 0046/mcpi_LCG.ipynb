{
 "cells": [
  {
   "cell_type": "code",
   "execution_count": 1,
   "id": "c8baac99-a97d-4f11-a37c-505d90bbac04",
   "metadata": {},
   "outputs": [],
   "source": [
    "using Random\n",
    "\n",
    "module O\n",
    "\n",
    "export TaskLocalLCG, LCG\n",
    "\n",
    "using Random: Random, AbstractRNG, RandomDevice\n",
    "\n",
    "const a = Int32(48271)\n",
    "const m = Int32(2^31 - 1)\n",
    "const q = m ÷ a\n",
    "const r = m % a\n",
    "\n",
    "struct TaskLocalLCG <: AbstractRNG end\n",
    "const LCG = TaskLocalLCG()\n",
    "\n",
    "@inline getstate(::TaskLocalLCG) = mod(current_task().rngState0, Int32)\n",
    "@inline setstate!(lcg::TaskLocalLCG, x::Integer) = (current_task().rngState0 = x; lcg)\n",
    "\n",
    "@inline function Random.rand(lcg::TaskLocalLCG) # 手抜き\n",
    "    x = getstate(lcg)\n",
    "    hi, lo = divrem(x, q)\n",
    "    x = a * lo - r * hi\n",
    "    x = ifelse(x > zero(x), x, x + m)\n",
    "    setstate!(lcg, x)\n",
    "    x / m # 本当は (x - 1) / m とするべき。\n",
    "end\n",
    "\n",
    "Random.seed!(lcg::TaskLocalLCG) = setstate!(lcg, rand(RandomDevice(), UInt64))\n",
    "Random.seed!(lcg::TaskLocalLCG, x) = setstate!(lcg, x)\n",
    "\n",
    "end\n",
    "\n",
    "using .O"
   ]
  },
  {
   "cell_type": "code",
   "execution_count": 2,
   "id": "786308e6-8e43-4092-81ee-0875562348f0",
   "metadata": {},
   "outputs": [
    {
     "name": "stdout",
     "output_type": "stream",
     "text": [
      "  7.818523 seconds\n",
      "  7.869568 seconds\n",
      "  7.935942 seconds\n"
     ]
    },
    {
     "data": {
      "text/plain": [
       "3.141546348"
      ]
     },
     "execution_count": 2,
     "metadata": {},
     "output_type": "execute_result"
    }
   ],
   "source": [
    "function mcpi_LCG(num_points = 10^9, seed = 20231226)\n",
    "    Random.seed!(LCG, seed)\n",
    "    num_inside = 0\n",
    "    for i in 1:num_points\n",
    "        num_inside += rand(LCG)^2 + rand(LCG)^2 < 1\n",
    "    end\n",
    "    4num_inside / num_points\n",
    "end\n",
    "\n",
    "@time mcpi_LCG()\n",
    "@time mcpi_LCG()\n",
    "@time mcpi_LCG()"
   ]
  },
  {
   "cell_type": "code",
   "execution_count": 5,
   "id": "c8d06ee6-2c62-41b7-8608-df0ca5ac2c6e",
   "metadata": {},
   "outputs": [
    {
     "name": "stdout",
     "output_type": "stream",
     "text": [
      "  0.979109 seconds\n",
      "  0.981026 seconds\n",
      "  0.973091 seconds\n"
     ]
    },
    {
     "data": {
      "text/plain": [
       "3.141605344"
      ]
     },
     "execution_count": 5,
     "metadata": {},
     "output_type": "execute_result"
    }
   ],
   "source": [
    "using LoopVectorization\n",
    "\n",
    "@inline isinside(i) = rand(LCG)^2 + rand(LCG)^2 < 1\n",
    "\n",
    "function mcpi_LCG_turbo(num_points = 10^9, seed = 20231226)\n",
    "    Random.seed!(LCG, seed)\n",
    "    num_inside = 0\n",
    "    @turbo for i in 1:num_points\n",
    "        num_inside += isinside(i)\n",
    "    end\n",
    "    4num_inside / num_points\n",
    "end\n",
    "\n",
    "@time mcpi_LCG_turbo()\n",
    "@time mcpi_LCG_turbo()\n",
    "@time mcpi_LCG_turbo()"
   ]
  },
  {
   "cell_type": "code",
   "execution_count": 6,
   "id": "6579a44e-25ec-4c1a-ad96-0e1953a8a6e8",
   "metadata": {},
   "outputs": [
    {
     "name": "stdout",
     "output_type": "stream",
     "text": [
      "  0.194986 seconds (3 allocations: 336 bytes)\n",
      "  0.194518 seconds (123 allocations: 10.609 KiB)\n",
      "  0.209757 seconds (4 allocations: 216 bytes)\n"
     ]
    },
    {
     "data": {
      "text/plain": [
       "3.141379968"
      ]
     },
     "execution_count": 6,
     "metadata": {},
     "output_type": "execute_result"
    }
   ],
   "source": [
    "function mcpi_LCG_tturbo(num_points = 10^9, seed = 20231226)\n",
    "    Random.seed!(LCG, seed)\n",
    "    num_inside = 0\n",
    "    @tturbo for i in 1:num_points\n",
    "        num_inside += isinside(i)\n",
    "    end\n",
    "    4num_inside / num_points\n",
    "end\n",
    "\n",
    "mcpi_LCG_tturbo()\n",
    "@time mcpi_LCG_tturbo()\n",
    "@time mcpi_LCG_tturbo()\n",
    "@time mcpi_LCG_tturbo()"
   ]
  },
  {
   "cell_type": "code",
   "execution_count": null,
   "id": "6f958b27-99ef-426e-ac9a-531a700d2c7d",
   "metadata": {},
   "outputs": [],
   "source": []
  }
 ],
 "metadata": {
  "jupytext": {
   "encoding": "# -*- coding: utf-8 -*-",
   "formats": "ipynb,jl:hydrogen"
  },
  "kernelspec": {
   "display_name": "Julia 1.10.0",
   "language": "julia",
   "name": "julia-1.10"
  },
  "language_info": {
   "file_extension": ".jl",
   "mimetype": "application/julia",
   "name": "julia",
   "version": "1.10.0"
  }
 },
 "nbformat": 4,
 "nbformat_minor": 5
}
