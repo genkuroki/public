{
 "cells": [
  {
   "cell_type": "code",
   "execution_count": 1,
   "id": "afa69a1c-42b7-4451-820e-31a7745603e3",
   "metadata": {},
   "outputs": [],
   "source": [
    "using BenchmarkTools"
   ]
  },
  {
   "cell_type": "code",
   "execution_count": 2,
   "id": "4b73a1e8-3b37-4b9a-9a04-cafb10934fbc",
   "metadata": {},
   "outputs": [
    {
     "data": {
      "text/plain": [
       "3-element Vector{Vector{Int64}}:\n",
       " [1, 2, 3, 4]\n",
       " [1, 2, 3]\n",
       " [1, 2]"
      ]
     },
     "execution_count": 2,
     "metadata": {},
     "output_type": "execute_result"
    }
   ],
   "source": [
    "L = 3\n",
    "N = (4, 3, 2)\n",
    "T = zeros(N...)\n",
    "A = [collect(1:N[l]) for l in 1:L]"
   ]
  },
  {
   "cell_type": "code",
   "execution_count": 3,
   "id": "78417b32-2c5f-487c-b83a-1fb2dfd02bac",
   "metadata": {},
   "outputs": [
    {
     "data": {
      "text/plain": [
       "CartesianIndices((4, 3, 2))"
      ]
     },
     "execution_count": 3,
     "metadata": {},
     "output_type": "execute_result"
    }
   ],
   "source": [
    "keys(T)"
   ]
  },
  {
   "cell_type": "code",
   "execution_count": 4,
   "id": "d55e7bbb-4030-4d94-9f5c-ea103ccc35f0",
   "metadata": {},
   "outputs": [
    {
     "data": {
      "text/plain": [
       "4×3×2 Array{CartesianIndex{3}, 3}:\n",
       "[:, :, 1] =\n",
       " CartesianIndex(1, 1, 1)  CartesianIndex(1, 2, 1)  CartesianIndex(1, 3, 1)\n",
       " CartesianIndex(2, 1, 1)  CartesianIndex(2, 2, 1)  CartesianIndex(2, 3, 1)\n",
       " CartesianIndex(3, 1, 1)  CartesianIndex(3, 2, 1)  CartesianIndex(3, 3, 1)\n",
       " CartesianIndex(4, 1, 1)  CartesianIndex(4, 2, 1)  CartesianIndex(4, 3, 1)\n",
       "\n",
       "[:, :, 2] =\n",
       " CartesianIndex(1, 1, 2)  CartesianIndex(1, 2, 2)  CartesianIndex(1, 3, 2)\n",
       " CartesianIndex(2, 1, 2)  CartesianIndex(2, 2, 2)  CartesianIndex(2, 3, 2)\n",
       " CartesianIndex(3, 1, 2)  CartesianIndex(3, 2, 2)  CartesianIndex(3, 3, 2)\n",
       " CartesianIndex(4, 1, 2)  CartesianIndex(4, 2, 2)  CartesianIndex(4, 3, 2)"
      ]
     },
     "execution_count": 4,
     "metadata": {},
     "output_type": "execute_result"
    }
   ],
   "source": [
    "collect(keys(T))"
   ]
  },
  {
   "cell_type": "code",
   "execution_count": 5,
   "id": "3ce6eb57-db06-4566-8506-dfe16423a82e",
   "metadata": {},
   "outputs": [
    {
     "data": {
      "text/plain": [
       "4×3×2 Array{Float64, 3}:\n",
       "[:, :, 1] =\n",
       " 1.0  2.0   3.0\n",
       " 2.0  4.0   6.0\n",
       " 3.0  6.0   9.0\n",
       " 4.0  8.0  12.0\n",
       "\n",
       "[:, :, 2] =\n",
       " 2.0   4.0   6.0\n",
       " 4.0   8.0  12.0\n",
       " 6.0  12.0  18.0\n",
       " 8.0  16.0  24.0"
      ]
     },
     "execution_count": 5,
     "metadata": {},
     "output_type": "execute_result"
    }
   ],
   "source": [
    "for i in keys(T)\n",
    "    T[i] = prod(k -> A[k][i[k]], eachindex(A))\n",
    "end\n",
    "T"
   ]
  },
  {
   "cell_type": "code",
   "execution_count": 6,
   "id": "6c9f0945-c39a-4d7a-988f-c23761b963bb",
   "metadata": {},
   "outputs": [
    {
     "name": "stdout",
     "output_type": "stream",
     "text": [
      "  166.186 ns (0 allocations: 0 bytes)\n"
     ]
    },
    {
     "data": {
      "text/plain": [
       "4×3×2 Array{Float64, 3}:\n",
       "[:, :, 1] =\n",
       " 1.0  2.0   3.0\n",
       " 2.0  4.0   6.0\n",
       " 3.0  6.0   9.0\n",
       " 4.0  8.0  12.0\n",
       "\n",
       "[:, :, 2] =\n",
       " 2.0   4.0   6.0\n",
       " 4.0   8.0  12.0\n",
       " 6.0  12.0  18.0\n",
       " 8.0  16.0  24.0"
      ]
     },
     "execution_count": 6,
     "metadata": {},
     "output_type": "execute_result"
    }
   ],
   "source": [
    "@btime begin\n",
    "    for i in keys(TT)\n",
    "        TT[i] = prod(k -> AA[k][i[k]], eachindex(AA))\n",
    "    end\n",
    "    TT\n",
    "end setup = begin\n",
    "    TT = copy(T)\n",
    "    AA = deepcopy(A)\n",
    "end"
   ]
  },
  {
   "cell_type": "code",
   "execution_count": null,
   "id": "b7dd31a8-b155-4a10-8765-3388b580386e",
   "metadata": {},
   "outputs": [],
   "source": []
  }
 ],
 "metadata": {
  "jupytext": {
   "formats": "ipynb,jl:hydrogen"
  },
  "kernelspec": {
   "display_name": "Julia 1.10.0",
   "language": "julia",
   "name": "julia-1.10"
  },
  "language_info": {
   "file_extension": ".jl",
   "mimetype": "application/julia",
   "name": "julia",
   "version": "1.10.0"
  }
 },
 "nbformat": 4,
 "nbformat_minor": 5
}
