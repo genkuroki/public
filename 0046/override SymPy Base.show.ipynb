{
 "cells": [
  {
   "cell_type": "code",
   "execution_count": 1,
   "id": "c53e5562-8dbe-4fd3-9469-e8899668272d",
   "metadata": {},
   "outputs": [
    {
     "data": {
      "text/latex": [
       "$\\dfrac{\\sqrt{\\pi}}{2 \\sqrt{a}}$"
      ],
      "text/plain": [
       "   ____\n",
       " \\/ pi \n",
       "-------\n",
       "    ___\n",
       "2*\\/ a "
      ]
     },
     "execution_count": 1,
     "metadata": {},
     "output_type": "execute_result"
    }
   ],
   "source": [
    "using SymPyPythonCall\n",
    "# Override https://github.com/jverzani/SymPyCore.jl/blob/main/src/SymPy/show_sympy.jl#L31-L34\n",
    "@eval SymPyPythonCall begin\n",
    "function Base.show(io::IO,  ::MIME\"text/latex\", x::SymbolicObject)\n",
    "    out = _sympy_.latex(↓(x), mode=\"inline\",fold_short_frac=false)\n",
    "    out = replace(string(out), r\"\\\\frac{\"=>\"\\\\dfrac{\")\n",
    "    print(io, out)\n",
    "end\n",
    "end\n",
    "\n",
    "@syms a::positive x::real\n",
    "expr = sympy.Integral(exp(-a*x^2), (x, 0, oo)).doit()"
   ]
  },
  {
   "cell_type": "code",
   "execution_count": 1,
   "id": "08e1e875-9227-4786-94df-e26a5fc768b9",
   "metadata": {},
   "outputs": [
    {
     "data": {
      "text/latex": [
       "$\\dfrac{\\sqrt{\\pi}}{2 \\sqrt{a}}$"
      ],
      "text/plain": [
       "   ____\n",
       " \\/ pi \n",
       "-------\n",
       "    ___\n",
       "2*\\/ a "
      ]
     },
     "execution_count": 1,
     "metadata": {},
     "output_type": "execute_result"
    }
   ],
   "source": [
    "using SymPy\n",
    "# Override https://github.com/jverzani/SymPyCore.jl/blob/main/src/SymPy/show_sympy.jl#L31-L34\n",
    "@eval SymPy begin\n",
    "function Base.show(io::IO,  ::MIME\"text/latex\", x::SymbolicObject)\n",
    "    out = _sympy_.latex(↓(x), mode=\"inline\",fold_short_frac=false)\n",
    "    out = replace(string(out), r\"\\\\frac{\"=>\"\\\\dfrac{\")\n",
    "    print(io, out)\n",
    "end\n",
    "end\n",
    "\n",
    "@syms a::positive x::real\n",
    "expr = sympy.Integral(exp(-a*x^2), (x, 0, oo)).doit()"
   ]
  },
  {
   "cell_type": "code",
   "execution_count": null,
   "id": "05bd6e0a-e9c9-4aa6-9749-ff1ee6ce423f",
   "metadata": {},
   "outputs": [],
   "source": []
  }
 ],
 "metadata": {
  "kernelspec": {
   "display_name": "Julia 1.10.0",
   "language": "julia",
   "name": "julia-1.10"
  },
  "language_info": {
   "file_extension": ".jl",
   "mimetype": "application/julia",
   "name": "julia",
   "version": "1.10.0"
  }
 },
 "nbformat": 4,
 "nbformat_minor": 5
}
