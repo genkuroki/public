{
 "cells": [
  {
   "cell_type": "markdown",
   "id": "0a3393d0-4d16-4e0a-973e-840fea631488",
   "metadata": {},
   "source": [
    "https://x.com/dannchu/status/1740282046675894744"
   ]
  },
  {
   "cell_type": "code",
   "execution_count": 1,
   "id": "71971767-3ebe-4823-b881-32762e788be4",
   "metadata": {},
   "outputs": [
    {
     "name": "stdout",
     "output_type": "stream",
     "text": [
      "  0.001290 seconds (4 allocations: 544 bytes)\n",
      "  0.001131 seconds (4 allocations: 544 bytes)\n",
      "  0.001130 seconds (4 allocations: 544 bytes)\n"
     ]
    },
    {
     "data": {
      "text/plain": [
       "17-element Vector{Int64}:\n",
       "  2024\n",
       "  8835\n",
       " 11235\n",
       " 18495\n",
       " 20163\n",
       " 20735\n",
       " 21608\n",
       " 27555\n",
       " 37635\n",
       " 40803\n",
       " 45795\n",
       " 48399\n",
       " 53823\n",
       " 70755\n",
       " 73983\n",
       " 89999\n",
       " 91203"
      ]
     },
     "execution_count": 1,
     "metadata": {},
     "output_type": "execute_result"
    }
   ],
   "source": [
    "function d(n)\n",
    "    @assert n > 0\n",
    "    r = one(n)\n",
    "    for k in 2:isqrt(n)\n",
    "        e = 0\n",
    "        while n % k == 0\n",
    "            e += 1\n",
    "            n ÷= k\n",
    "        end\n",
    "        r *= e + 1\n",
    "    end\n",
    "    n > 1 ? 2r : r\n",
    "end\n",
    "\n",
    "issquare(n) = isqrt(n)^2 == n\n",
    "\n",
    "function isok(n)\n",
    "    n == 1 && return false\n",
    "    issquare(n+1) && issquare(d(n)) && issquare(isqrt(d(n))) && issquare(d(d(n-1)))\n",
    "end\n",
    "\n",
    "function list_of_ok_numbers(L)\n",
    "    [n for n in 1:L if isok(n)]\n",
    "end\n",
    "\n",
    "@time list_of_ok_numbers(10^5)\n",
    "@time list_of_ok_numbers(10^5)\n",
    "@time list_of_ok_numbers(10^5)"
   ]
  },
  {
   "cell_type": "code",
   "execution_count": null,
   "id": "a63beebe-3a71-4313-abc2-6fe8426e6163",
   "metadata": {},
   "outputs": [],
   "source": []
  }
 ],
 "metadata": {
  "jupytext": {
   "formats": "ipynb,jl:hydrogen"
  },
  "kernelspec": {
   "display_name": "Julia 1.10.0",
   "language": "julia",
   "name": "julia-1.10"
  },
  "language_info": {
   "file_extension": ".jl",
   "mimetype": "application/julia",
   "name": "julia",
   "version": "1.10.0"
  }
 },
 "nbformat": 4,
 "nbformat_minor": 5
}
