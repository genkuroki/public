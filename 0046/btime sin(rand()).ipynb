{
 "cells": [
  {
   "cell_type": "code",
   "execution_count": 1,
   "id": "afdc98f0-1541-4d2c-b345-580682272122",
   "metadata": {},
   "outputs": [],
   "source": [
    "using BenchmarkTools"
   ]
  },
  {
   "cell_type": "code",
   "execution_count": 2,
   "id": "af7d6505-fdbb-4514-a3a3-0848216a1d5f",
   "metadata": {},
   "outputs": [
    {
     "name": "stdout",
     "output_type": "stream",
     "text": [
      "  2.600 ns (0 allocations: 0 bytes)\n"
     ]
    },
    {
     "data": {
      "text/plain": [
       "0.1512684314493754"
      ]
     },
     "execution_count": 2,
     "metadata": {},
     "output_type": "execute_result"
    }
   ],
   "source": [
    "@btime rand()"
   ]
  },
  {
   "cell_type": "code",
   "execution_count": 3,
   "id": "9aca2dc7-5e13-41c4-a288-e01e9d85b8ea",
   "metadata": {},
   "outputs": [
    {
     "name": "stdout",
     "output_type": "stream",
     "text": [
      "  2.600 ns (0 allocations: 0 bytes)\n"
     ]
    },
    {
     "data": {
      "text/plain": [
       "0.6719211786806303"
      ]
     },
     "execution_count": 3,
     "metadata": {},
     "output_type": "execute_result"
    }
   ],
   "source": [
    "f(x) = x * Base.Math.@horner(x*x, 1.0)\n",
    "@btime f(rand())"
   ]
  },
  {
   "cell_type": "code",
   "execution_count": 4,
   "id": "7de3c49d-06ec-4a9a-b36a-a65ebb53a600",
   "metadata": {},
   "outputs": [
    {
     "name": "stdout",
     "output_type": "stream",
     "text": [
      "  4.500 ns (0 allocations: 0 bytes)\n"
     ]
    },
    {
     "data": {
      "text/plain": [
       "0.559541000521077"
      ]
     },
     "execution_count": 4,
     "metadata": {},
     "output_type": "execute_result"
    }
   ],
   "source": [
    "f(x) = x * Base.Math.@horner(x*x, 1.0, -0.16666666666666666)\n",
    "@btime f(rand())"
   ]
  },
  {
   "cell_type": "code",
   "execution_count": 5,
   "id": "dae4e60c-9acb-47cd-adcc-1282d10a7076",
   "metadata": {},
   "outputs": [
    {
     "name": "stdout",
     "output_type": "stream",
     "text": [
      "  5.400 ns (0 allocations: 0 bytes)\n"
     ]
    },
    {
     "data": {
      "text/plain": [
       "0.6287808917838558"
      ]
     },
     "execution_count": 5,
     "metadata": {},
     "output_type": "execute_result"
    }
   ],
   "source": [
    "f(x) = x * Base.Math.@horner(x*x, 1.0, -0.16666666666666666, 0.008333333333333333)\n",
    "@btime f(rand())"
   ]
  },
  {
   "cell_type": "code",
   "execution_count": 6,
   "id": "f490ab39-8605-4bd1-8815-0026a2276e4c",
   "metadata": {},
   "outputs": [
    {
     "name": "stdout",
     "output_type": "stream",
     "text": [
      "  6.200 ns (0 allocations: 0 bytes)\n"
     ]
    },
    {
     "data": {
      "text/plain": [
       "0.6597328215877425"
      ]
     },
     "execution_count": 6,
     "metadata": {},
     "output_type": "execute_result"
    }
   ],
   "source": [
    "f(x) = x * Base.Math.@horner(x*x, 1.0, -0.16666666666666666, 0.008333333333333333, -0.0001984126984126984)\n",
    "@btime f(rand())"
   ]
  },
  {
   "cell_type": "code",
   "execution_count": 7,
   "id": "113d0738-ade1-4423-b58e-6a61bbc9abcf",
   "metadata": {},
   "outputs": [
    {
     "name": "stdout",
     "output_type": "stream",
     "text": [
      "  11.612 ns (0 allocations: 0 bytes)\n"
     ]
    },
    {
     "data": {
      "text/plain": [
       "0.26894386725368274"
      ]
     },
     "execution_count": 7,
     "metadata": {},
     "output_type": "execute_result"
    }
   ],
   "source": [
    "f(x) = sin(x)\n",
    "@btime f(rand())"
   ]
  },
  {
   "cell_type": "code",
   "execution_count": null,
   "id": "0e5c6f0f-899d-46a9-bfd8-97ce32cec4f1",
   "metadata": {},
   "outputs": [],
   "source": []
  }
 ],
 "metadata": {
  "kernelspec": {
   "display_name": "Julia 1.10.0",
   "language": "julia",
   "name": "julia-1.10"
  },
  "language_info": {
   "file_extension": ".jl",
   "mimetype": "application/julia",
   "name": "julia",
   "version": "1.10.0"
  }
 },
 "nbformat": 4,
 "nbformat_minor": 5
}
