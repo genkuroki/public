{
 "cells": [
  {
   "cell_type": "code",
   "execution_count": null,
   "id": "87b21ffc-6a0c-4273-8cb5-52317b009e3e",
   "metadata": {},
   "outputs": [],
   "source": [
    "using Distributions\n",
    "using HypothesisTests\n",
    "using QuadGK\n",
    "using Random\n",
    "using Roots\n",
    "using StatsPlots\n",
    "default(fmt=:png)\n",
    "\n",
    "cdfsum(dist, x) = quadgk(y -> pdf(dist, y) * cdf(dist, x-y), extrema(dist)...)[1]\n",
    "\n",
    "empirical_cdf(A, x) = count(≤(x), A) / length(A)\n",
    "\n",
    "h2(x, y) = (x + y > 0) + (x + y == 0)/2\n",
    "\n",
    "function nonparametric_t_statistic(X, p=1/2)\n",
    "    n = length(X)\n",
    "    phat = 2/(n*(n-1)) * sum(h2(X[i], X[j]) for i in 1:n for j in i+1:n)\n",
    "    sigmahat2 = 1/(n-1) * sum((mean(h2(X[i], X[j]) for j in 1:n if j != i) - phat)^2 for i in 1:n)\n",
    "    sehat = 2√(sigmahat2/n)\n",
    "    t = (phat - p)/sehat\n",
    "end\n",
    "\n",
    "function nonparametric_pvalue(X, p=1/2; r=0.6length(X)+1)\n",
    "    t = nonparametric_t_statistic(X, p)\n",
    "    pval = 2ccdf(TDist(max(1e-2, n-r)), abs(t))\n",
    "end"
   ]
  },
  {
   "cell_type": "code",
   "execution_count": null,
   "id": "db6fd586-1906-4701-80d7-a81fa2ed5ea5",
   "metadata": {},
   "outputs": [],
   "source": [
    "n = 10\n",
    "X = rand(Cauchy(), n, 10^5)\n",
    "T = [nonparametric_t_statistic(x) for x in eachcol(X)]\n",
    "stephist(T; norm=true, label=\"T\", bin=-6.25:0.5:6.25)\n",
    "plot!(TDist(0.6n+1); label=\"TDist($(0.6n+1))\")\n",
    "plot!(Normal(); label=\"Normal()\")\n",
    "plot!(xlim=(-6, 6))"
   ]
  },
  {
   "cell_type": "code",
   "execution_count": null,
   "id": "93c87777-54f6-488b-91d0-5265f4c2d34b",
   "metadata": {},
   "outputs": [],
   "source": [
    "n = 15\n",
    "L = 10^5\n",
    "X = rand(Cauchy(), n, L)\n",
    "#X = rand(Normal(), n, L)\n",
    "pval = [nonparametric_pvalue(x) for x in eachcol(X)]\n",
    "plot(x -> empirical_cdf(pval, x), 0, 0.1; label=\"\")\n",
    "plot!(identity; label=\"\")\n",
    "plot!(xtick=0:0.01:1, ytick=0:0.01:1)\n",
    "plot!(size=(400, 400))"
   ]
  },
  {
   "cell_type": "code",
   "execution_count": null,
   "id": "df0c7e89-1ff1-4f0d-bd3e-cc44e2342656",
   "metadata": {},
   "outputs": [],
   "source": [
    "#dist = Exponential()\n",
    "#dist = LogNormal()\n",
    "dist = InverseGamma(1, 1)\n",
    "a = find_zero(a -> cdfsum(dist-a, 0) - 0.5, (-10, 10))\n",
    "b = find_zero(b -> cdfsum(dist, b) - 0.5, (-10, 10))\n",
    "@show dist a b/2\n",
    "@show median(dist)\n",
    "dist = dist - a\n",
    "n = 20\n",
    "L = 10^5\n",
    "X = rand(dist, n, L)\n",
    "pval = [nonparametric_pvalue(x) for x in eachcol(X)]\n",
    "plot(x -> empirical_cdf(pval, x), 0, 0.1; label=\"\")\n",
    "plot!(identity; label=\"\")\n",
    "plot!(xtick=0:0.01:1, ytick=0:0.01:1)\n",
    "plot!(size=(400, 400))"
   ]
  },
  {
   "cell_type": "code",
   "execution_count": null,
   "id": "737164cf-cfd1-4045-8c01-db6b30cdc594",
   "metadata": {},
   "outputs": [],
   "source": [
    "#dist = Exponential()\n",
    "#dist = LogNormal()\n",
    "dist = InverseGamma(1, 1)\n",
    "a = find_zero(a -> cdfsum(dist-a, 0) - 0.5, (-10, 10))\n",
    "b = find_zero(b -> cdfsum(dist, b) - 0.5, (-10, 10))\n",
    "@show dist a b/2\n",
    "@show median(dist)\n",
    "dist = dist - a\n",
    "n = 20\n",
    "L = 10^5\n",
    "pval = [pvalue(SignedRankTest(rand(dist, n))) for _ in 1:L]\n",
    "plot(x -> empirical_cdf(pval, x), 0, 0.1; label=\"\")\n",
    "plot!(identity; label=\"\")\n",
    "plot!(xtick=0:0.01:1, ytick=0:0.01:1)\n",
    "plot!(size=(400, 400))"
   ]
  },
  {
   "cell_type": "code",
   "execution_count": null,
   "id": "d6e5f63b-2a5c-49fd-b8f7-6cea895953e9",
   "metadata": {},
   "outputs": [],
   "source": [
    "X = rand(dist, n, L)\n",
    "T = [nonparametric_t_statistic(x) for x in eachcol(X)]\n",
    "stephist(T; norm=true, label=\"T\", bin=-6.25:0.5:6.25)\n",
    "plot!(TDist(0.6n+1); label=\"TDist($(0.6n+1))\")\n",
    "plot!(Normal(); label=\"Normal()\")\n",
    "plot!(xlim=(-6, 6))"
   ]
  },
  {
   "cell_type": "code",
   "execution_count": null,
   "id": "97a59774-2126-47aa-acf2-be176e229de5",
   "metadata": {},
   "outputs": [],
   "source": [
    "plot(dist, -2, 10; label=\"dist\")"
   ]
  },
  {
   "cell_type": "code",
   "execution_count": null,
   "id": "b59dca82-17cd-46b7-aa13-bff6b4ca4dd0",
   "metadata": {},
   "outputs": [],
   "source": [
    "dist1 = LogNormal(log(5), 0.2)\n",
    "dist2 = LogNormal(log(5), 0.8)\n",
    "n = 10^7\n",
    "Δx = rand(dist2, n) - rand(dist1, n)\n",
    "@show median(Δx)\n",
    "stephist(Δx; norm=true, label=\"\", xlim=(-10, 40))"
   ]
  },
  {
   "cell_type": "code",
   "execution_count": null,
   "id": "9f2f63da-280e-42b3-ad85-9500d5898349",
   "metadata": {},
   "outputs": [],
   "source": [
    "@show median(Δx)\n",
    "@show m = median(rand(Δx)+rand(Δx) for _ in 1:10^6)\n",
    "@show m/2;"
   ]
  },
  {
   "cell_type": "code",
   "execution_count": null,
   "id": "50c80cbd-851f-48c8-9a5c-5b444996852d",
   "metadata": {},
   "outputs": [],
   "source": [
    "n = 100\n",
    "L = 10^5\n",
    "pval = [pvalue(SignedRankTest(rand(dist2, n) - rand(dist1, n))) for _ in 1:L]\n",
    "plot(x -> empirical_cdf(pval, x), 0, 0.1; label=\"\")\n",
    "plot!(identity; label=\"\")\n",
    "plot!(xtick=0:0.01:1, ytick=0:0.05:1)\n",
    "plot!(size=(400, 400))"
   ]
  },
  {
   "cell_type": "code",
   "execution_count": null,
   "id": "33c3e812-26f2-4d2e-a7db-8631e72d6791",
   "metadata": {},
   "outputs": [],
   "source": [
    "n = 100\n",
    "L = 10^5\n",
    "pval = [pvalue(SignedRankTest(rand(dist2-m/2, n) - rand(dist1, n))) for _ in 1:L]\n",
    "plot(x -> empirical_cdf(pval, x), 0, 0.1; label=\"\")\n",
    "plot!(identity; label=\"\")\n",
    "plot!(xtick=0:0.01:1, ytick=0:0.01:1)\n",
    "plot!(size=(400, 400))"
   ]
  },
  {
   "cell_type": "code",
   "execution_count": null,
   "id": "2d82927c-438f-4bf9-9790-958b6c217795",
   "metadata": {},
   "outputs": [],
   "source": [
    "n = 100\n",
    "L = 10^5\n",
    "pval = [nonparametric_pvalue(rand(dist2, n) - rand(dist1, n); ) for _ in 1:L]\n",
    "plot(x -> empirical_cdf(pval, x), 0, 0.1; label=\"\")\n",
    "plot!(identity; label=\"\")\n",
    "plot!(xtick=0:0.01:1, ytick=0:0.05:1)\n",
    "plot!(size=(400, 400))"
   ]
  },
  {
   "cell_type": "code",
   "execution_count": null,
   "id": "79c51c47-3ab1-4452-acf9-6996314e3661",
   "metadata": {},
   "outputs": [],
   "source": [
    "n = 100\n",
    "L = 10^5\n",
    "pval = [nonparametric_pvalue(rand(dist2-m/2, n) - rand(dist1, n); ) for _ in 1:L]\n",
    "plot(x -> empirical_cdf(pval, x), 0, 0.1; label=\"\")\n",
    "plot!(identity; label=\"\")\n",
    "plot!(xtick=0:0.01:1, ytick=0:0.01:1)\n",
    "plot!(size=(400, 400))"
   ]
  },
  {
   "cell_type": "code",
   "execution_count": null,
   "id": "dbdf09c6-e266-4dea-a55e-678492929a71",
   "metadata": {},
   "outputs": [],
   "source": [
    "n = 20\n",
    "L = 10^5\n",
    "pval = [pvalue(SignedRankTest(rand(dist2, n) - rand(dist1, n))) for _ in 1:L]\n",
    "plot(x -> empirical_cdf(pval, x), 0, 0.1; label=\"\")\n",
    "plot!(identity; label=\"\")\n",
    "plot!(xtick=0:0.01:1, ytick=0:0.05:1)\n",
    "plot!(size=(400, 400))"
   ]
  },
  {
   "cell_type": "code",
   "execution_count": null,
   "id": "86e5ad0c-51ab-457c-9c21-7c5c3aae0bf2",
   "metadata": {},
   "outputs": [],
   "source": [
    "n = 20\n",
    "L = 10^5\n",
    "pval = [pvalue(SignedRankTest(rand(dist2-m/2, n) - rand(dist1, n))) for _ in 1:L]\n",
    "plot(x -> empirical_cdf(pval, x), 0, 0.1; label=\"\")\n",
    "plot!(identity; label=\"\")\n",
    "plot!(xtick=0:0.01:1, ytick=0:0.01:1)\n",
    "plot!(size=(400, 400))"
   ]
  },
  {
   "cell_type": "code",
   "execution_count": null,
   "id": "b9eda1a3-e4ec-490d-adb1-f1cfd0087f65",
   "metadata": {},
   "outputs": [],
   "source": [
    "n = 20\n",
    "L = 10^5\n",
    "pval = [nonparametric_pvalue(rand(dist2, n) - rand(dist1, n); ) for _ in 1:L]\n",
    "plot(x -> empirical_cdf(pval, x), 0, 0.1; label=\"\")\n",
    "plot!(identity; label=\"\")\n",
    "plot!(xtick=0:0.01:1, ytick=0:0.05:1)\n",
    "plot!(size=(400, 400))"
   ]
  },
  {
   "cell_type": "code",
   "execution_count": null,
   "id": "ddd2c758-d4f9-49a1-801e-5532d87bf2a3",
   "metadata": {},
   "outputs": [],
   "source": [
    "n = 20\n",
    "L = 10^5\n",
    "pval = [nonparametric_pvalue(rand(dist2-m/2, n) - rand(dist1, n); ) for _ in 1:L]\n",
    "plot(x -> empirical_cdf(pval, x), 0, 0.1; label=\"\")\n",
    "plot!(identity; label=\"\")\n",
    "plot!(xtick=0:0.01:1, ytick=0:0.01:1)\n",
    "plot!(size=(400, 400))"
   ]
  },
  {
   "cell_type": "code",
   "execution_count": null,
   "id": "3a9e9df5-7b8f-4369-af63-5b7ce7d60dc7",
   "metadata": {},
   "outputs": [],
   "source": [
    "function nonparametric_phat_sigmahat2(X)\n",
    "    n = length(X)\n",
    "    phat = 2/(n*(n-1)) * sum(h2(X[i], X[j]) for i in 1:n for j in i+1:n)\n",
    "    sigmahat2 = 1/(n-1) * sum((mean(h2(X[i], X[j]) for j in 1:n if j != i) - phat)^2 for i in 1:n)\n",
    "    phat, sigmahat2\n",
    "end\n",
    "\n",
    "function ptilde_sigmatilde2(dist, X)\n",
    "    ptilde = mean(ccdf(dist, -x) for x in X)\n",
    "    sigmatilde2 = var(ccdf(dist, -x) for x in X)\n",
    "    ptilde, sigmatilde2\n",
    "end\n",
    "\n",
    "function p_sigma2(dist, n; L=10^5)\n",
    "    p = 1 - cdfsum(dist, 0)\n",
    "    Xtmp = zeros(n)\n",
    "    phat = zeros(L)\n",
    "    ptilde = zeros(L)\n",
    "    for i in 1:L\n",
    "        X = rand!(dist, Xtmp)\n",
    "        phat[i] = 2/(n*(n-1)) * sum(h2(X[i], X[j]) for i in 1:n for j in i+1:n)\n",
    "        ptilde[i] = mean(ccdf(dist, -x) for x in X)\n",
    "    end\n",
    "    p, mean(phat), n*var(phat)/4, mean(ptilde), n*var(ptilde)\n",
    "end\n",
    "\n",
    "dist = Gamma(2, 1) - 2\n",
    "n = 2^7\n",
    "L = 10^5\n",
    "X = rand(dist, n)\n",
    "[nonparametric_phat_sigmahat2(X), ptilde_sigmatilde2(dist, X), p_sigma2(dist, n; L)]"
   ]
  },
  {
   "cell_type": "code",
   "execution_count": null,
   "id": "4d2bc850-10fc-4de5-b29d-80cb23646470",
   "metadata": {},
   "outputs": [],
   "source": []
  }
 ],
 "metadata": {
  "jupytext": {
   "encoding": "# -*- coding: utf-8 -*-",
   "formats": "ipynb,jl:hydrogen"
  },
  "kernelspec": {
   "display_name": "Julia 1.10.0",
   "language": "julia",
   "name": "julia-1.10"
  },
  "language_info": {
   "file_extension": ".jl",
   "mimetype": "application/julia",
   "name": "julia",
   "version": "1.10.0"
  }
 },
 "nbformat": 4,
 "nbformat_minor": 5
}
