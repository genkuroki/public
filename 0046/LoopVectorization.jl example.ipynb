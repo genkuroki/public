{
 "cells": [
  {
   "cell_type": "code",
   "execution_count": 1,
   "id": "295717a7-cb8a-4491-a5c5-1622b347e7e7",
   "metadata": {},
   "outputs": [
    {
     "name": "stdout",
     "output_type": "stream",
     "text": [
      "  3.044329 seconds\n",
      "  3.040083 seconds\n",
      "  3.050175 seconds\n"
     ]
    },
    {
     "data": {
      "text/plain": [
       "3.141669296"
      ]
     },
     "execution_count": 1,
     "metadata": {},
     "output_type": "execute_result"
    }
   ],
   "source": [
    "function mcpi(L=10^9)\n",
    "    c = 0\n",
    "    for i in 1:L\n",
    "        c += rand()^2 + rand()^2 ≤ 1\n",
    "    end\n",
    "    4c/L\n",
    "end\n",
    "\n",
    "@time mcpi()\n",
    "@time mcpi()\n",
    "@time mcpi()"
   ]
  },
  {
   "cell_type": "code",
   "execution_count": 2,
   "id": "050863f1-a3f1-4197-80c5-3c3722c5cd2c",
   "metadata": {},
   "outputs": [
    {
     "name": "stdout",
     "output_type": "stream",
     "text": [
      "  0.582881 seconds (14.40 k allocations: 962.984 KiB, 53.41% compilation time)\n",
      "  0.555907 seconds (186 allocations: 18.641 KiB)\n",
      "  0.565249 seconds (185 allocations: 18.266 KiB)\n"
     ]
    },
    {
     "data": {
      "text/plain": [
       "3.141572748"
      ]
     },
     "execution_count": 2,
     "metadata": {},
     "output_type": "execute_result"
    }
   ],
   "source": [
    "function mcpi_threads(L=10^9)\n",
    "    c = zeros(Int, Threads.nthreads())\n",
    "    Threads.@threads for i in 1:L\n",
    "        tid = Threads.threadid()\n",
    "        c[tid] += rand()^2 + rand()^2 ≤ 1\n",
    "    end\n",
    "    4sum(c)/L\n",
    "end\n",
    "\n",
    "@time mcpi_threads()\n",
    "@time mcpi_threads()\n",
    "@time mcpi_threads()"
   ]
  },
  {
   "cell_type": "code",
   "execution_count": 3,
   "id": "4b32fe2b-9729-4ca1-a925-eeea69c9db41",
   "metadata": {},
   "outputs": [
    {
     "name": "stdout",
     "output_type": "stream",
     "text": [
      "  0.010000 seconds\n",
      "  0.009846 seconds\n",
      "  0.010538 seconds\n"
     ]
    },
    {
     "data": {
      "text/plain": [
       "4.0"
      ]
     },
     "execution_count": 3,
     "metadata": {},
     "output_type": "execute_result"
    }
   ],
   "source": [
    "using LoopVectorization\n",
    "\n",
    "# The result shall be 4.0 or 0.0.\n",
    "function mcpi_turbo_incorrect(L=10^9)\n",
    "    c = 0\n",
    "    @turbo for i in 1:L\n",
    "        c += rand()^2 + rand()^2 ≤ 1\n",
    "    end\n",
    "    4c/L\n",
    "end\n",
    "\n",
    "@time mcpi_turbo_incorrect()\n",
    "@time mcpi_turbo_incorrect()\n",
    "@time mcpi_turbo_incorrect()"
   ]
  },
  {
   "cell_type": "code",
   "execution_count": 4,
   "id": "d20cbc91-cf16-4a0e-a8f6-f701efde07a8",
   "metadata": {},
   "outputs": [
    {
     "name": "stdout",
     "output_type": "stream",
     "text": [
      "  0.495062 seconds\n",
      "  0.495619 seconds\n",
      "  0.491727 seconds\n"
     ]
    },
    {
     "data": {
      "text/plain": [
       "3.141420352"
      ]
     },
     "execution_count": 4,
     "metadata": {},
     "output_type": "execute_result"
    }
   ],
   "source": [
    "using LoopVectorization\n",
    "\n",
    "rand_is_in_unit_circle(i) = rand()^2 + rand()^2 ≤ 1\n",
    "\n",
    "function mcpi_turbo(L=10^9)\n",
    "    c = 0\n",
    "    @turbo for i in 1:L\n",
    "        c += rand_is_in_unit_circle(i)\n",
    "    end\n",
    "    4c/L\n",
    "end\n",
    "\n",
    "@time mcpi_turbo()\n",
    "@time mcpi_turbo()\n",
    "@time mcpi_turbo()"
   ]
  },
  {
   "cell_type": "code",
   "execution_count": null,
   "id": "5d33fe0b-e6e4-4316-b03d-96c1becd1a46",
   "metadata": {},
   "outputs": [],
   "source": []
  }
 ],
 "metadata": {
  "jupytext": {
   "formats": "ipynb,jl:hydrogen"
  },
  "kernelspec": {
   "display_name": "Julia 1.10.0",
   "language": "julia",
   "name": "julia-1.10"
  },
  "language_info": {
   "file_extension": ".jl",
   "mimetype": "application/julia",
   "name": "julia",
   "version": "1.10.0"
  }
 },
 "nbformat": 4,
 "nbformat_minor": 5
}
