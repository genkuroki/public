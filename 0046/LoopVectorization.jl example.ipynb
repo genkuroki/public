{
 "cells": [
  {
   "cell_type": "code",
   "execution_count": 1,
   "id": "295717a7-cb8a-4491-a5c5-1622b347e7e7",
   "metadata": {},
   "outputs": [
    {
     "name": "stdout",
     "output_type": "stream",
     "text": [
      "  3.149878 seconds\n",
      "  3.112256 seconds\n",
      "  3.208715 seconds\n"
     ]
    },
    {
     "data": {
      "text/plain": [
       "3.141540284"
      ]
     },
     "execution_count": 1,
     "metadata": {},
     "output_type": "execute_result"
    }
   ],
   "source": [
    "function mcpi(L=10^9)\n",
    "    c = 0\n",
    "    for i in 1:L\n",
    "        c += rand()^2 + rand()^2 ≤ 1\n",
    "    end\n",
    "    4c/L\n",
    "end\n",
    "\n",
    "@time mcpi()\n",
    "@time mcpi()\n",
    "@time mcpi()"
   ]
  },
  {
   "cell_type": "code",
   "execution_count": 2,
   "id": "050863f1-a3f1-4197-80c5-3c3722c5cd2c",
   "metadata": {},
   "outputs": [
    {
     "name": "stdout",
     "output_type": "stream",
     "text": [
      "  0.648566 seconds (14.40 k allocations: 963.016 KiB, 45.19% compilation time)\n",
      "  0.618869 seconds (185 allocations: 18.344 KiB)\n",
      "  0.626113 seconds (187 allocations: 18.297 KiB)\n"
     ]
    },
    {
     "data": {
      "text/plain": [
       "3.141655004"
      ]
     },
     "execution_count": 2,
     "metadata": {},
     "output_type": "execute_result"
    }
   ],
   "source": [
    "function mcpi_threads(L=10^9)\n",
    "    c = zeros(Int, Threads.nthreads())\n",
    "    Threads.@threads for i in 1:L\n",
    "        tid = Threads.threadid()\n",
    "        c[tid] += rand()^2 + rand()^2 ≤ 1\n",
    "    end\n",
    "    4sum(c)/L\n",
    "end\n",
    "\n",
    "@time mcpi_threads()\n",
    "@time mcpi_threads()\n",
    "@time mcpi_threads()"
   ]
  },
  {
   "cell_type": "code",
   "execution_count": 3,
   "id": "4b32fe2b-9729-4ca1-a925-eeea69c9db41",
   "metadata": {},
   "outputs": [
    {
     "name": "stdout",
     "output_type": "stream",
     "text": [
      "  0.009977 seconds\n",
      "  0.010647 seconds\n",
      "  0.010867 seconds\n"
     ]
    },
    {
     "data": {
      "text/plain": [
       "0.0"
      ]
     },
     "execution_count": 3,
     "metadata": {},
     "output_type": "execute_result"
    }
   ],
   "source": [
    "using LoopVectorization\n",
    "\n",
    "# The result shall be 4.0 or 0.0.\n",
    "function mcpi_turbo_incorrect(L=10^9)\n",
    "    c = 0\n",
    "    @turbo for i in 1:L\n",
    "        c += rand()^2 + rand()^2 ≤ 1\n",
    "    end\n",
    "    4c/L\n",
    "end\n",
    "\n",
    "@time mcpi_turbo_incorrect()\n",
    "@time mcpi_turbo_incorrect()\n",
    "@time mcpi_turbo_incorrect()"
   ]
  },
  {
   "cell_type": "code",
   "execution_count": 4,
   "id": "d20cbc91-cf16-4a0e-a8f6-f701efde07a8",
   "metadata": {},
   "outputs": [
    {
     "name": "stdout",
     "output_type": "stream",
     "text": [
      "  0.506452 seconds\n",
      "  0.500448 seconds\n",
      "  0.500709 seconds\n"
     ]
    },
    {
     "data": {
      "text/plain": [
       "3.14158032"
      ]
     },
     "execution_count": 4,
     "metadata": {},
     "output_type": "execute_result"
    }
   ],
   "source": [
    "using LoopVectorization\n",
    "\n",
    "rand_is_in_unit_circle(i) = rand()^2 + rand()^2 ≤ 1\n",
    "\n",
    "function mcpi_turbo(L=10^9)\n",
    "    c = 0\n",
    "    @turbo for i in 1:L\n",
    "        c += rand_is_in_unit_circle(i)\n",
    "    end\n",
    "    4c/L\n",
    "end\n",
    "\n",
    "@time mcpi_turbo()\n",
    "@time mcpi_turbo()\n",
    "@time mcpi_turbo()"
   ]
  },
  {
   "cell_type": "code",
   "execution_count": 5,
   "id": "5d33fe0b-e6e4-4316-b03d-96c1becd1a46",
   "metadata": {},
   "outputs": [
    {
     "name": "stdout",
     "output_type": "stream",
     "text": [
      "  309.031 ms (0 allocations: 0 bytes)\n",
      "  60.444 ms (62 allocations: 7.61 KiB)\n",
      "  48.502 ms (0 allocations: 0 bytes)\n",
      "  18.552 ms (122 allocations: 6.25 KiB)\n"
     ]
    },
    {
     "data": {
      "text/plain": [
       "(3.1418928, 3.14175192, 3.14192928, 3.14139216)"
      ]
     },
     "execution_count": 5,
     "metadata": {},
     "output_type": "execute_result"
    }
   ],
   "source": [
    "using CUDA\n",
    "using BenchmarkTools\n",
    "\n",
    "function mcpi_cuda_count(L=10^8, t::Type{T}=Float32) where T\n",
    "    4count(≤(1), sum(x->x^2, CUDA.rand(T, 2, L); dims=1)) / L\n",
    "end\n",
    "\n",
    "a = @btime mcpi(10^8)\n",
    "b = @btime mcpi_threads(10^8)\n",
    "c = @btime mcpi_turbo(10^8)\n",
    "d = @btime mcpi_cuda_count(10^8)\n",
    "a, b, c, d"
   ]
  },
  {
   "cell_type": "code",
   "execution_count": null,
   "id": "5c81d3f8-5a59-4da5-bcc4-d34ec83cd382",
   "metadata": {},
   "outputs": [],
   "source": []
  }
 ],
 "metadata": {
  "jupytext": {
   "encoding": "# -*- coding: utf-8 -*-",
   "formats": "ipynb,jl:hydrogen"
  },
  "kernelspec": {
   "display_name": "Julia 1.10.0",
   "language": "julia",
   "name": "julia-1.10"
  },
  "language_info": {
   "file_extension": ".jl",
   "mimetype": "application/julia",
   "name": "julia",
   "version": "1.10.0"
  }
 },
 "nbformat": 4,
 "nbformat_minor": 5
}
