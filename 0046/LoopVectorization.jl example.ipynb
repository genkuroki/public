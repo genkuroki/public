{
 "cells": [
  {
   "cell_type": "code",
   "execution_count": 1,
   "id": "295717a7-cb8a-4491-a5c5-1622b347e7e7",
   "metadata": {},
   "outputs": [
    {
     "name": "stdout",
     "output_type": "stream",
     "text": [
      "  3.004477 seconds\n",
      "  3.082193 seconds\n",
      "  2.950187 seconds\n"
     ]
    },
    {
     "data": {
      "text/plain": [
       "3.141543924"
      ]
     },
     "execution_count": 1,
     "metadata": {},
     "output_type": "execute_result"
    }
   ],
   "source": [
    "function mcpi(L=10^9)\n",
    "    c = 0\n",
    "    for i in 1:L\n",
    "        c += rand()^2 + rand()^2 ≤ 1\n",
    "    end\n",
    "    4c/L\n",
    "end\n",
    "\n",
    "@time mcpi()\n",
    "@time mcpi()\n",
    "@time mcpi()"
   ]
  },
  {
   "cell_type": "code",
   "execution_count": 2,
   "id": "050863f1-a3f1-4197-80c5-3c3722c5cd2c",
   "metadata": {},
   "outputs": [
    {
     "name": "stdout",
     "output_type": "stream",
     "text": [
      "  0.570726 seconds (14.41 k allocations: 963.109 KiB, 52.04% compilation time)\n",
      "  0.575885 seconds (186 allocations: 18.641 KiB)\n",
      "  0.567838 seconds (185 allocations: 18.266 KiB)\n"
     ]
    },
    {
     "data": {
      "text/plain": [
       "3.14154468"
      ]
     },
     "execution_count": 2,
     "metadata": {},
     "output_type": "execute_result"
    }
   ],
   "source": [
    "function mcpi_threads(L=10^9)\n",
    "    c = zeros(Int, Threads.nthreads())\n",
    "    Threads.@threads for i in 1:L\n",
    "        tid = Threads.threadid()\n",
    "        c[tid] += rand()^2 + rand()^2 ≤ 1\n",
    "    end\n",
    "    4sum(c)/L\n",
    "end\n",
    "\n",
    "@time mcpi_threads()\n",
    "@time mcpi_threads()\n",
    "@time mcpi_threads()"
   ]
  },
  {
   "cell_type": "code",
   "execution_count": 3,
   "id": "4b32fe2b-9729-4ca1-a925-eeea69c9db41",
   "metadata": {},
   "outputs": [
    {
     "name": "stdout",
     "output_type": "stream",
     "text": [
      "  0.009913 seconds\n",
      "  0.009352 seconds\n",
      "  0.009505 seconds\n"
     ]
    },
    {
     "data": {
      "text/plain": [
       "4.0"
      ]
     },
     "execution_count": 3,
     "metadata": {},
     "output_type": "execute_result"
    }
   ],
   "source": [
    "using LoopVectorization\n",
    "\n",
    "# The result shall be 4.0 or 0.0.\n",
    "function mcpi_turbo_incorrect(L=10^9)\n",
    "    c = 0\n",
    "    @turbo for i in 1:L\n",
    "        c += rand()^2 + rand()^2 ≤ 1\n",
    "    end\n",
    "    4c/L\n",
    "end\n",
    "\n",
    "@time mcpi_turbo_incorrect()\n",
    "@time mcpi_turbo_incorrect()\n",
    "@time mcpi_turbo_incorrect()"
   ]
  },
  {
   "cell_type": "code",
   "execution_count": 4,
   "id": "d20cbc91-cf16-4a0e-a8f6-f701efde07a8",
   "metadata": {},
   "outputs": [
    {
     "name": "stdout",
     "output_type": "stream",
     "text": [
      "  0.479439 seconds\n",
      "  0.479466 seconds\n",
      "  0.476907 seconds\n"
     ]
    },
    {
     "data": {
      "text/plain": [
       "3.141378784"
      ]
     },
     "execution_count": 4,
     "metadata": {},
     "output_type": "execute_result"
    }
   ],
   "source": [
    "using LoopVectorization\n",
    "\n",
    "rand_is_in_unit_circle(i) = rand()^2 + rand()^2 ≤ 1\n",
    "\n",
    "function mcpi_turbo(L=10^9)\n",
    "    c = 0\n",
    "    @turbo for i in 1:L\n",
    "        c += rand_is_in_unit_circle(i)\n",
    "    end\n",
    "    4c/L\n",
    "end\n",
    "\n",
    "@time mcpi_turbo()\n",
    "@time mcpi_turbo()\n",
    "@time mcpi_turbo()"
   ]
  },
  {
   "cell_type": "code",
   "execution_count": 6,
   "id": "5d33fe0b-e6e4-4316-b03d-96c1becd1a46",
   "metadata": {},
   "outputs": [
    {
     "name": "stdout",
     "output_type": "stream",
     "text": [
      "  0.398141 seconds (195.79 k allocations: 14.303 MiB, 4.28% gc time, 28.84% compilation time)\n",
      "  0.222639 seconds (15.02 k allocations: 1008.812 KiB, 3.64% gc time, 6.94% compilation time)\n",
      "  0.222909 seconds (15.03 k allocations: 1008.219 KiB, 3.01% gc time, 7.67% compilation time)\n"
     ]
    },
    {
     "data": {
      "text/plain": [
       "3.14164112"
      ]
     },
     "execution_count": 6,
     "metadata": {},
     "output_type": "execute_result"
    }
   ],
   "source": [
    "using CUDA\n",
    "using Statistics\n",
    "\n",
    "square(x) = x^2\n",
    "\n",
    "function mcpi_cuda_count(L=10^8, t::Type{T}=Float32) where T\n",
    "    4count(≤(1), sum(square, CUDA.rand(T, 2, L); dims=1)) / L\n",
    "end\n",
    "\n",
    "@time mean(mcpi_cuda_count() for _ in 1:10)\n",
    "@time mean(mcpi_cuda_count() for _ in 1:10)\n",
    "@time mean(mcpi_cuda_count() for _ in 1:10)"
   ]
  },
  {
   "cell_type": "code",
   "execution_count": null,
   "id": "36bb64be-390d-4137-a628-365ceca7082d",
   "metadata": {},
   "outputs": [],
   "source": []
  }
 ],
 "metadata": {
  "jupytext": {
   "encoding": "# -*- coding: utf-8 -*-",
   "formats": "ipynb,jl:hydrogen"
  },
  "kernelspec": {
   "display_name": "Julia 1.10.0",
   "language": "julia",
   "name": "julia-1.10"
  },
  "language_info": {
   "file_extension": ".jl",
   "mimetype": "application/julia",
   "name": "julia",
   "version": "1.10.0"
  }
 },
 "nbformat": 4,
 "nbformat_minor": 5
}
