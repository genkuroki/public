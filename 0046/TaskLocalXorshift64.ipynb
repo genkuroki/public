{
 "cells": [
  {
   "cell_type": "code",
   "execution_count": 1,
   "id": "06dbb787-5235-4eeb-825f-7e78d058100f",
   "metadata": {},
   "outputs": [
    {
     "name": "stdout",
     "output_type": "stream",
     "text": [
      "O.getstate(XOS) = 0x252bea83cf16e57e\n"
     ]
    },
    {
     "data": {
      "text/plain": [
       "20-element Vector{Float64}:\n",
       " 0.7447546090537283\n",
       " 0.29870176301251394\n",
       " 0.21951420347560324\n",
       " 0.8435278214827784\n",
       " 0.9387687468516317\n",
       " 0.653040706810184\n",
       " 0.5066733675803736\n",
       " 0.490702272775569\n",
       " 0.9483757694995381\n",
       " 0.871607106785971\n",
       " 0.375199756883112\n",
       " 0.1749593172938071\n",
       " 0.9091683072740089\n",
       " 0.6868737297510432\n",
       " 0.5763157299913575\n",
       " 0.909301177668359\n",
       " 0.6578039607802599\n",
       " 0.8598749543892088\n",
       " 0.6738401218057901\n",
       " 0.9892859199254946"
      ]
     },
     "execution_count": 1,
     "metadata": {},
     "output_type": "execute_result"
    }
   ],
   "source": [
    "using Random\n",
    "\n",
    "module O\n",
    "\n",
    "export TaskLocalXorshift64, XOS\n",
    "\n",
    "using Random: Random, AbstractRNG, RandomDevice, SamplerType, SamplerTrivial, CloseOpen01_64\n",
    "\n",
    "struct TaskLocalXorshift64 <: AbstractRNG end\n",
    "\n",
    "const XOS = TaskLocalXorshift64()\n",
    "\n",
    "@inline getstate(::TaskLocalXorshift64) = current_task().rngState0\n",
    "\n",
    "@inline function setstate!(xos::TaskLocalXorshift64, seed::Integer)\n",
    "    current_task().rngState0 = mod(seed, UInt64)\n",
    "    xos\n",
    "end\n",
    "\n",
    "@inline function Random.rand(xos::TaskLocalXorshift64, ::SamplerType{UInt64})\n",
    "    x = res = getstate(xos)\n",
    "    x ⊻= x << 13\n",
    "    x ⊻= x >> 7\n",
    "    x ⊻= x << 17\n",
    "    setstate!(xos, x)\n",
    "    res\n",
    "end\n",
    "\n",
    "@inline function Random.rand(xos::TaskLocalXorshift64, ::SamplerTrivial{CloseOpen01_64})\n",
    "    (rand(xos, UInt64) & UInt64(2^52 - 1)) / 2^52\n",
    "end\n",
    "\n",
    "Random.seed!(xos::TaskLocalXorshift64) =\n",
    "    setstate!(xos, rand(RandomDevice(), UInt64))\n",
    "\n",
    "Random.seed!(xos::TaskLocalXorshift64, seed::Integer) =\n",
    "    setstate!(xos, seed)\n",
    "\n",
    "end\n",
    "\n",
    "using .O\n",
    "\n",
    "@show O.getstate(XOS)\n",
    "A = [rand(XOS) for _ in 1:20]"
   ]
  },
  {
   "cell_type": "code",
   "execution_count": 2,
   "id": "7827d6d3-1491-4fa5-acd8-8f4a336f103e",
   "metadata": {},
   "outputs": [
    {
     "name": "stdout",
     "output_type": "stream",
     "text": [
      "O.getstate(XOS) = 0x1b69f11c53471434\n",
      "O.getstate(XOS) = 0x0000000001234567\n"
     ]
    }
   ],
   "source": [
    "Random.seed!(XOS)\n",
    "@show O.getstate(XOS)\n",
    "Random.seed!(XOS, 0x1234567)\n",
    "@show O.getstate(XOS);"
   ]
  },
  {
   "cell_type": "code",
   "execution_count": 3,
   "id": "78147619-cfcc-4ad6-8198-461c02e73cc7",
   "metadata": {},
   "outputs": [
    {
     "name": "stdout",
     "output_type": "stream",
     "text": [
      "  3.499087 seconds\n",
      "  3.524789 seconds\n",
      "  3.511741 seconds\n",
      "  3.506279 seconds\n",
      "  3.469305 seconds\n",
      "  3.486716 seconds\n"
     ]
    },
    {
     "data": {
      "text/plain": [
       "3.141649596"
      ]
     },
     "execution_count": 3,
     "metadata": {},
     "output_type": "execute_result"
    }
   ],
   "source": [
    "function mcpi(L=10^9, rng=XOS)\n",
    "    c = 0\n",
    "    for i in 1:L\n",
    "        c += rand(rng)^2 + rand(rng)^2 ≤ 1\n",
    "    end\n",
    "    4c/L\n",
    "end\n",
    "\n",
    "@time mcpi()\n",
    "@time mcpi()\n",
    "@time mcpi()\n",
    "@time mcpi()\n",
    "@time mcpi()\n",
    "@time mcpi()"
   ]
  },
  {
   "cell_type": "code",
   "execution_count": 4,
   "id": "fbd5bf69-8f89-4380-822a-6cb96e69d9c7",
   "metadata": {},
   "outputs": [
    {
     "name": "stdout",
     "output_type": "stream",
     "text": [
      "  0.441369 seconds\n",
      "  0.441495 seconds\n",
      "  0.447223 seconds\n",
      "  0.445339 seconds\n",
      "  0.446744 seconds\n",
      "  0.441775 seconds\n"
     ]
    },
    {
     "data": {
      "text/plain": [
       "3.141373088"
      ]
     },
     "execution_count": 4,
     "metadata": {},
     "output_type": "execute_result"
    }
   ],
   "source": [
    "using LoopVectorization\n",
    "\n",
    "@inline isinside(i, rng=XOS) =\n",
    "    rand(rng)^2 + rand(rng)^2 ≤ 1\n",
    "\n",
    "function mcpi_turbo(L=10^9, isinsiderng=isinside)\n",
    "    c = 0\n",
    "    @turbo for i in 1:L\n",
    "        c += isinsiderng(i)\n",
    "    end\n",
    "    4c/L\n",
    "end\n",
    "\n",
    "@time mcpi_turbo()\n",
    "@time mcpi_turbo()\n",
    "@time mcpi_turbo()\n",
    "@time mcpi_turbo()\n",
    "@time mcpi_turbo()\n",
    "@time mcpi_turbo()"
   ]
  },
  {
   "cell_type": "code",
   "execution_count": 5,
   "id": "1e563220-0669-4bfe-ab87-50f01f6340e9",
   "metadata": {},
   "outputs": [
    {
     "name": "stdout",
     "output_type": "stream",
     "text": [
      "  0.089596 seconds (2 allocations: 32 bytes)\n",
      "  0.107096 seconds (4 allocations: 192 bytes)\n",
      "  0.108801 seconds (4 allocations: 192 bytes)\n",
      "  0.089094 seconds\n",
      "  0.113913 seconds (4 allocations: 152 bytes)\n",
      "  0.106947 seconds (4 allocations: 192 bytes)\n"
     ]
    },
    {
     "data": {
      "text/plain": [
       "3.141572512"
      ]
     },
     "execution_count": 5,
     "metadata": {},
     "output_type": "execute_result"
    }
   ],
   "source": [
    "function mcpi_tturbo(L=10^9, isinsiderng=isinside)\n",
    "    c = 0\n",
    "    @tturbo for i in 1:L\n",
    "        c += isinsiderng(i)\n",
    "    end\n",
    "    4c/L\n",
    "end\n",
    "\n",
    "mcpi_tturbo()\n",
    "@time mcpi_tturbo()\n",
    "@time mcpi_tturbo()\n",
    "@time mcpi_tturbo()\n",
    "@time mcpi_tturbo()\n",
    "@time mcpi_tturbo()\n",
    "@time mcpi_tturbo()"
   ]
  },
  {
   "cell_type": "code",
   "execution_count": null,
   "id": "7b3cd14a-713d-4872-8fae-bde2b6ff4013",
   "metadata": {},
   "outputs": [],
   "source": []
  }
 ],
 "metadata": {
  "jupytext": {
   "encoding": "# -*- coding: utf-8 -*-",
   "formats": "ipynb,jl:hydrogen"
  },
  "kernelspec": {
   "display_name": "Julia 1.10.0",
   "language": "julia",
   "name": "julia-1.10"
  },
  "language_info": {
   "file_extension": ".jl",
   "mimetype": "application/julia",
   "name": "julia",
   "version": "1.10.0"
  }
 },
 "nbformat": 4,
 "nbformat_minor": 5
}
