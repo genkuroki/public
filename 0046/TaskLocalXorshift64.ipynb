{
 "cells": [
  {
   "cell_type": "code",
   "execution_count": 1,
   "id": "06dbb787-5235-4eeb-825f-7e78d058100f",
   "metadata": {},
   "outputs": [
    {
     "name": "stdout",
     "output_type": "stream",
     "text": [
      "O.getstate(XOS) = 0xe895e3cf616ca5fd\n"
     ]
    },
    {
     "data": {
      "text/plain": [
       "20-element Vector{Float64}:\n",
       " 0.36811769539269723\n",
       " 0.9823116951831685\n",
       " 0.7953780891725268\n",
       " 0.9865700746125368\n",
       " 0.6765482724562919\n",
       " 0.8790339547655168\n",
       " 0.23527892634400338\n",
       " 0.16840915731282724\n",
       " 0.3235462263230444\n",
       " 0.3762622575525465\n",
       " 0.7921930665187822\n",
       " 0.09299340198602368\n",
       " 0.531018974897693\n",
       " 0.9067349128235234\n",
       " 0.9163230551734789\n",
       " 0.3910409652356919\n",
       " 0.4764271465942118\n",
       " 0.3749847575926668\n",
       " 0.17898187010988353\n",
       " 0.3039288828602087"
      ]
     },
     "execution_count": 1,
     "metadata": {},
     "output_type": "execute_result"
    }
   ],
   "source": [
    "using Random\n",
    "\n",
    "module O\n",
    "\n",
    "export TaskLocalXorshift64, XOS\n",
    "\n",
    "using Random: Random, AbstractRNG, RandomDevice, SamplerType, SamplerTrivial, CloseOpen01_64\n",
    "\n",
    "struct TaskLocalXorshift64 <: AbstractRNG end\n",
    "\n",
    "const XOS = TaskLocalXorshift64()\n",
    "\n",
    "@inline getstate(::TaskLocalXorshift64) = current_task().rngState0\n",
    "\n",
    "@inline function setstate!(xos::TaskLocalXorshift64, seed::Integer)\n",
    "    current_task().rngState0 = mod(seed, UInt64)\n",
    "    xos\n",
    "end\n",
    "\n",
    "@inline function Random.rand(xos::TaskLocalXorshift64, ::SamplerType{UInt64})\n",
    "    x = res = getstate(xos)\n",
    "    x ⊻= x << 13\n",
    "    x ⊻= x >> 7\n",
    "    x ⊻= x << 17\n",
    "    setstate!(xos, x)\n",
    "    res\n",
    "end\n",
    "\n",
    "@inline function Random.rand(xos::TaskLocalXorshift64, ::SamplerTrivial{CloseOpen01_64})\n",
    "    (rand(xos, UInt64) & UInt64(2^52 - 1)) / 2^52\n",
    "end\n",
    "\n",
    "Random.seed!(xos::TaskLocalXorshift64) =\n",
    "    setstate!(xos, rand(RandomDevice(), UInt64))\n",
    "\n",
    "Random.seed!(xos::TaskLocalXorshift64, seed::Integer) =\n",
    "    setstate!(xos, seed)\n",
    "\n",
    "end\n",
    "\n",
    "using .O\n",
    "\n",
    "@show O.getstate(XOS)\n",
    "A = [rand(XOS) for _ in 1:20]"
   ]
  },
  {
   "cell_type": "code",
   "execution_count": 2,
   "id": "7827d6d3-1491-4fa5-acd8-8f4a336f103e",
   "metadata": {},
   "outputs": [
    {
     "name": "stdout",
     "output_type": "stream",
     "text": [
      "O.getstate(XOS) = 0xf2beb5b294d322c2\n",
      "O.getstate(XOS) = 0x0000000001234567\n"
     ]
    }
   ],
   "source": [
    "Random.seed!(XOS)\n",
    "@show O.getstate(XOS)\n",
    "Random.seed!(XOS, 0x1234567)\n",
    "@show O.getstate(XOS);"
   ]
  },
  {
   "cell_type": "code",
   "execution_count": 3,
   "id": "78147619-cfcc-4ad6-8198-461c02e73cc7",
   "metadata": {},
   "outputs": [
    {
     "name": "stdout",
     "output_type": "stream",
     "text": [
      "  3.305454 seconds\n",
      "  3.308680 seconds\n",
      "  3.293647 seconds\n"
     ]
    },
    {
     "data": {
      "text/plain": [
       "3.1416377"
      ]
     },
     "execution_count": 3,
     "metadata": {},
     "output_type": "execute_result"
    }
   ],
   "source": [
    "function mcpi(L=10^9, rng=XOS)\n",
    "    c = 0\n",
    "    for i in 1:L\n",
    "        c += rand(rng)^2 + rand(rng)^2 ≤ 1\n",
    "    end\n",
    "    4c/L\n",
    "end\n",
    "\n",
    "@time mcpi()\n",
    "@time mcpi()\n",
    "@time mcpi()"
   ]
  },
  {
   "cell_type": "code",
   "execution_count": 4,
   "id": "fbd5bf69-8f89-4380-822a-6cb96e69d9c7",
   "metadata": {},
   "outputs": [
    {
     "name": "stdout",
     "output_type": "stream",
     "text": [
      "  0.423676 seconds\n",
      "  0.424649 seconds\n",
      "  0.418601 seconds\n"
     ]
    },
    {
     "data": {
      "text/plain": [
       "3.14158016"
      ]
     },
     "execution_count": 4,
     "metadata": {},
     "output_type": "execute_result"
    }
   ],
   "source": [
    "using LoopVectorization\n",
    "\n",
    "@inline isinside(i, rng=XOS) =\n",
    "    rand(rng)^2 + rand(rng)^2 ≤ 1\n",
    "\n",
    "function mcpi_turbo(L=10^9, isinsiderng=isinside)\n",
    "    c = 0\n",
    "    @turbo for i in 1:L\n",
    "        c += isinsiderng(i)\n",
    "    end\n",
    "    4c/L\n",
    "end\n",
    "\n",
    "@time mcpi_turbo()\n",
    "@time mcpi_turbo()\n",
    "@time mcpi_turbo()"
   ]
  },
  {
   "cell_type": "code",
   "execution_count": 5,
   "id": "1e563220-0669-4bfe-ab87-50f01f6340e9",
   "metadata": {},
   "outputs": [
    {
     "name": "stdout",
     "output_type": "stream",
     "text": [
      "  0.088986 seconds\n",
      "  0.097386 seconds\n",
      "  0.087289 seconds\n"
     ]
    },
    {
     "data": {
      "text/plain": [
       "3.141736"
      ]
     },
     "execution_count": 5,
     "metadata": {},
     "output_type": "execute_result"
    }
   ],
   "source": [
    "function mcpi_tturbo(L=10^9, isinsiderng=isinside)\n",
    "    c = 0\n",
    "    @tturbo for i in 1:L\n",
    "        c += isinsiderng(i)\n",
    "    end\n",
    "    4c/L\n",
    "end\n",
    "\n",
    "mcpi_tturbo()\n",
    "@time mcpi_tturbo()\n",
    "@time mcpi_tturbo()\n",
    "@time mcpi_tturbo()"
   ]
  },
  {
   "cell_type": "code",
   "execution_count": null,
   "id": "7b3cd14a-713d-4872-8fae-bde2b6ff4013",
   "metadata": {},
   "outputs": [],
   "source": []
  }
 ],
 "metadata": {
  "jupytext": {
   "formats": "ipynb,jl:hydrogen"
  },
  "kernelspec": {
   "display_name": "Julia 1.10.0",
   "language": "julia",
   "name": "julia-1.10"
  },
  "language_info": {
   "file_extension": ".jl",
   "mimetype": "application/julia",
   "name": "julia",
   "version": "1.10.0"
  }
 },
 "nbformat": 4,
 "nbformat_minor": 5
}
