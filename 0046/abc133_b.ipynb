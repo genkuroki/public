{
 "cells": [
  {
   "cell_type": "markdown",
   "id": "a0e82461-cff1-4a78-8e6c-dee6709b0b76",
   "metadata": {},
   "source": [
    "https://x.com/ziku1kokyu/status/1745293925014003788"
   ]
  },
  {
   "cell_type": "code",
   "execution_count": 1,
   "id": "be1faf83-6f8c-43a2-b885-65ab1685ca95",
   "metadata": {},
   "outputs": [
    {
     "data": {
      "text/plain": [
       "answer (generic function with 2 methods)"
      ]
     },
     "execution_count": 1,
     "metadata": {},
     "output_type": "execute_result"
    }
   ],
   "source": [
    "using LinearAlgebra\n",
    "dot2(x) = dot(x, x)\n",
    "\n",
    "function answer(x::AbstractVector)\n",
    "    n = length(x)\n",
    "    c = 0\n",
    "    for i in 1:n, j in i+1:n\n",
    "        d2 = dot2(x[i] - x[j])\n",
    "        c += d2 == isqrt(d2)^2\n",
    "    end\n",
    "    c\n",
    "end\n",
    "\n",
    "function answer(io::IO)\n",
    "    n, d = parse.(Int, split(readline(io)))\n",
    "    x = [parse.(Int, split(readline(io))) for _ in 1:n]\n",
    "    c = answer(x)\n",
    "    println(c)\n",
    "end"
   ]
  },
  {
   "cell_type": "code",
   "execution_count": 2,
   "id": "517ce349-ac4f-4a40-88f5-d97a761838b1",
   "metadata": {},
   "outputs": [
    {
     "name": "stdout",
     "output_type": "stream",
     "text": [
      "2\n"
     ]
    }
   ],
   "source": [
    "problem = \"\"\"\n",
    "3 4\n",
    "-3 7 8 2\n",
    "-12 1 10 2\n",
    "-2 8 9 3\n",
    "\"\"\"\n",
    "answer(IOBuffer(problem))"
   ]
  },
  {
   "cell_type": "code",
   "execution_count": 3,
   "id": "849beabc-ff5b-4746-875e-647e79010a0d",
   "metadata": {},
   "outputs": [
    {
     "name": "stdout",
     "output_type": "stream",
     "text": [
      "2\n"
     ]
    }
   ],
   "source": [
    "problem = \"\"\"\n",
    "3 4\n",
    "-3 7 8 2\n",
    "-12 1 10 2\n",
    "-2 8 9 3\n",
    "\"\"\"\n",
    "write(\"problem.txt\", problem)\n",
    "open(io -> answer(io), \"problem.txt\")"
   ]
  },
  {
   "cell_type": "code",
   "execution_count": 4,
   "id": "9ea3ff01-064d-45f9-baea-8fcc3ad911bb",
   "metadata": {},
   "outputs": [
    {
     "name": "stdout",
     "output_type": "stream",
     "text": [
      "10\n"
     ]
    }
   ],
   "source": [
    "problem = \"\"\"\n",
    "5 1\n",
    "1\n",
    "2\n",
    "3\n",
    "4\n",
    "5\n",
    "\"\"\"\n",
    "answer(IOBuffer(problem))"
   ]
  },
  {
   "cell_type": "code",
   "execution_count": 5,
   "id": "f95b062e-befa-403a-8099-392854b79129",
   "metadata": {},
   "outputs": [
    {
     "name": "stdin",
     "output_type": "stream",
     "text": [
      "stdin>  3 1\n",
      "stdin>  1\n",
      "stdin>  2\n",
      "stdin>  3\n"
     ]
    },
    {
     "name": "stdout",
     "output_type": "stream",
     "text": [
      "3\n"
     ]
    }
   ],
   "source": [
    "answer(stdin)"
   ]
  },
  {
   "cell_type": "code",
   "execution_count": null,
   "id": "e08bedee-edea-47c3-a8c4-581d6e64ffeb",
   "metadata": {},
   "outputs": [],
   "source": []
  }
 ],
 "metadata": {
  "jupytext": {
   "formats": "ipynb,jl:hydrogen"
  },
  "kernelspec": {
   "display_name": "Julia 1.10.0",
   "language": "julia",
   "name": "julia-1.10"
  },
  "language_info": {
   "file_extension": ".jl",
   "mimetype": "application/julia",
   "name": "julia",
   "version": "1.10.0"
  }
 },
 "nbformat": 4,
 "nbformat_minor": 5
}
