{
 "cells": [
  {
   "cell_type": "code",
   "execution_count": 1,
   "id": "c11f25c5-072f-4ca8-9c9d-38d8bd30b10e",
   "metadata": {},
   "outputs": [
    {
     "name": "stdout",
     "output_type": "stream",
     "text": [
      "3\n"
     ]
    }
   ],
   "source": [
    "n =\n",
    "\n",
    "println(3)"
   ]
  },
  {
   "cell_type": "code",
   "execution_count": 2,
   "id": "0caac980-77cb-4329-8422-aba045053464",
   "metadata": {},
   "outputs": [
    {
     "name": "stdout",
     "output_type": "stream",
     "text": [
      "nothing\n"
     ]
    }
   ],
   "source": [
    "println(n)"
   ]
  },
  {
   "cell_type": "code",
   "execution_count": 3,
   "id": "ad7adc11-1b98-475d-b740-7e1e482f367f",
   "metadata": {},
   "outputs": [
    {
     "data": {
      "text/plain": [
       ":(n = println(3))"
      ]
     },
     "execution_count": 3,
     "metadata": {},
     "output_type": "execute_result"
    }
   ],
   "source": [
    ":(\n",
    "n =\n",
    "\n",
    "println(3)\n",
    ")"
   ]
  },
  {
   "cell_type": "code",
   "execution_count": 4,
   "id": "c1d7a1e8-5fe5-4330-8e10-4887aaa3c83d",
   "metadata": {},
   "outputs": [
    {
     "name": "stdout",
     "output_type": "stream",
     "text": [
      "3\n"
     ]
    }
   ],
   "source": [
    ":(\n",
    "n =\n",
    "\n",
    "println(3)\n",
    ") |> eval"
   ]
  },
  {
   "cell_type": "code",
   "execution_count": 5,
   "id": "e90caa98-1550-491e-aedf-b28b6aa8bc87",
   "metadata": {},
   "outputs": [
    {
     "name": "stdout",
     "output_type": "stream",
     "text": [
      "Expr\n",
      "  head: Symbol =\n",
      "  args: Array{Any}((2,))\n",
      "    1: Symbol n\n",
      "    2: Expr\n",
      "      head: Symbol call\n",
      "      args: Array{Any}((2,))\n",
      "        1: Symbol println\n",
      "        2: Int64 3\n"
     ]
    }
   ],
   "source": [
    ":(\n",
    "n =\n",
    "\n",
    "println(3)\n",
    ") |> dump"
   ]
  },
  {
   "cell_type": "code",
   "execution_count": 6,
   "id": "45f4a805-0b5c-42d2-a2b4-41f1d598ad07",
   "metadata": {},
   "outputs": [
    {
     "name": "stdout",
     "output_type": "stream",
     "text": [
      "(:(=), :n, (:call, :println, 3))"
     ]
    }
   ],
   "source": [
    ":(\n",
    "n =\n",
    "\n",
    "println(3)\n",
    ") |> Meta.show_sexpr"
   ]
  },
  {
   "cell_type": "code",
   "execution_count": 7,
   "id": "92a85338-a8e2-47c0-bc3a-ae39842fbe61",
   "metadata": {},
   "outputs": [
    {
     "data": {
      "text/plain": [
       "7"
      ]
     },
     "execution_count": 7,
     "metadata": {},
     "output_type": "execute_result"
    }
   ],
   "source": [
    "x =\n",
    "1 +\n",
    "2 *\n",
    "3"
   ]
  },
  {
   "cell_type": "code",
   "execution_count": 8,
   "id": "466ae547-c1b5-4ac4-9983-7750bf8c4dba",
   "metadata": {},
   "outputs": [
    {
     "data": {
      "text/plain": [
       ":(x = 1 + 2 * 3)"
      ]
     },
     "execution_count": 8,
     "metadata": {},
     "output_type": "execute_result"
    }
   ],
   "source": [
    ":(\n",
    "x =\n",
    "1 +\n",
    "2 *\n",
    "3\n",
    ")"
   ]
  },
  {
   "cell_type": "code",
   "execution_count": 9,
   "id": "59255733-841a-4fab-a1a2-460016685666",
   "metadata": {},
   "outputs": [
    {
     "data": {
      "text/plain": [
       "7"
      ]
     },
     "execution_count": 9,
     "metadata": {},
     "output_type": "execute_result"
    }
   ],
   "source": [
    ":(\n",
    "x =\n",
    "1 +\n",
    "2 *\n",
    "3\n",
    ") |> eval"
   ]
  },
  {
   "cell_type": "code",
   "execution_count": 10,
   "id": "b444ea80-9d69-4738-9645-ee4c8344c06f",
   "metadata": {},
   "outputs": [
    {
     "name": "stdout",
     "output_type": "stream",
     "text": [
      "Expr\n",
      "  head: Symbol =\n",
      "  args: Array{Any}((2,))\n",
      "    1: Symbol x\n",
      "    2: Expr\n",
      "      head: Symbol call\n",
      "      args: Array{Any}((3,))\n",
      "        1: Symbol +\n",
      "        2: Int64 1\n",
      "        3: Expr\n",
      "          head: Symbol call\n",
      "          args: Array{Any}((3,))\n",
      "            1: Symbol *\n",
      "            2: Int64 2\n",
      "            3: Int64 3\n"
     ]
    }
   ],
   "source": [
    ":(\n",
    "x =\n",
    "1 +\n",
    "2 *\n",
    "3\n",
    ") |>dump"
   ]
  },
  {
   "cell_type": "code",
   "execution_count": 11,
   "id": "a5243492-9810-49e1-8fe6-31dd7569af6e",
   "metadata": {},
   "outputs": [
    {
     "name": "stdout",
     "output_type": "stream",
     "text": [
      "(:(=), :x, (:call, :+, 1, (:call, :*, 2, 3)))"
     ]
    }
   ],
   "source": [
    ":(\n",
    "x =\n",
    "1 +\n",
    "2 *\n",
    "3\n",
    ") |> Meta.show_sexpr"
   ]
  },
  {
   "cell_type": "code",
   "execution_count": 12,
   "id": "53b39643-74a6-4182-ac62-9c289a582f09",
   "metadata": {},
   "outputs": [
    {
     "data": {
      "text/plain": [
       "Any"
      ]
     },
     "execution_count": 12,
     "metadata": {},
     "output_type": "execute_result"
    }
   ],
   "source": [
    "where where where where where where where"
   ]
  },
  {
   "cell_type": "code",
   "execution_count": 13,
   "id": "b848bc91-1d44-4058-9208-e4c3b83e966e",
   "metadata": {},
   "outputs": [
    {
     "data": {
      "text/plain": [
       ":(((where where where) where where) where where)"
      ]
     },
     "execution_count": 13,
     "metadata": {},
     "output_type": "execute_result"
    }
   ],
   "source": [
    ":(where where where where where where where)"
   ]
  },
  {
   "cell_type": "code",
   "execution_count": 14,
   "id": "9ba80857-e0f3-4439-b96f-36d29f462791",
   "metadata": {},
   "outputs": [
    {
     "name": "stdout",
     "output_type": "stream",
     "text": [
      "Expr\n",
      "  head: Symbol where\n",
      "  args: Array{Any}((2,))\n",
      "    1: Expr\n",
      "      head: Symbol where\n",
      "      args: Array{Any}((2,))\n",
      "        1: Expr\n",
      "          head: Symbol where\n",
      "          args: Array{Any}((2,))\n",
      "            1: Symbol where\n",
      "            2: Symbol where\n",
      "        2: Symbol where\n",
      "    2: Symbol where\n"
     ]
    }
   ],
   "source": [
    ":(where where where where where where where) |> dump"
   ]
  },
  {
   "cell_type": "code",
   "execution_count": 15,
   "id": "bf8f343a-91c6-4283-b39e-0af92514296f",
   "metadata": {},
   "outputs": [
    {
     "name": "stdout",
     "output_type": "stream",
     "text": [
      "(:where, (:where, (:where, :where, :where), :where), :where)"
     ]
    }
   ],
   "source": [
    ":(where where where where where where where) |> Meta.show_sexpr"
   ]
  },
  {
   "cell_type": "code",
   "execution_count": null,
   "id": "8ba73fe6-1c6e-4f96-8119-7fe175475bed",
   "metadata": {},
   "outputs": [],
   "source": []
  }
 ],
 "metadata": {
  "jupytext": {
   "formats": "ipynb,jl:hydrogen"
  },
  "kernelspec": {
   "display_name": "Julia 1.11.1",
   "language": "julia",
   "name": "julia-1.11"
  },
  "language_info": {
   "file_extension": ".jl",
   "mimetype": "application/julia",
   "name": "julia",
   "version": "1.11.1"
  }
 },
 "nbformat": 4,
 "nbformat_minor": 5
}
