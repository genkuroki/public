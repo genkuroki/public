{
 "cells": [
  {
   "cell_type": "code",
   "execution_count": 1,
   "id": "a1dcb071-8a8c-4877-ab07-5e3732060894",
   "metadata": {},
   "outputs": [
    {
     "name": "stdout",
     "output_type": "stream",
     "text": [
      "\n",
      "Welcome to Nemo version 0.39.1\n",
      "\n",
      "Nemo comes with absolutely no warranty whatsoever\n"
     ]
    }
   ],
   "source": [
    "using Nemo"
   ]
  },
  {
   "cell_type": "code",
   "execution_count": 2,
   "id": "f4ef6241-1bbf-489d-afb4-94f1955a70b6",
   "metadata": {},
   "outputs": [
    {
     "data": {
      "text/plain": [
       "(Finite field of degree 2 over GF(2), a)"
      ]
     },
     "execution_count": 2,
     "metadata": {},
     "output_type": "execute_result"
    }
   ],
   "source": [
    "F4, a = finite_field(2, 2, \"a\")"
   ]
  },
  {
   "cell_type": "code",
   "execution_count": 3,
   "id": "acdf25ef-bdca-4035-9763-5358102a7732",
   "metadata": {},
   "outputs": [
    {
     "data": {
      "text/plain": [
       "(Finite field of degree 6 over GF(2), b)"
      ]
     },
     "execution_count": 3,
     "metadata": {},
     "output_type": "execute_result"
    }
   ],
   "source": [
    "F64, b = finite_field(2, 6, \"b\")"
   ]
  },
  {
   "cell_type": "code",
   "execution_count": 4,
   "id": "b2d6cad4-2ce6-4321-a281-e69efa650c96",
   "metadata": {},
   "outputs": [
    {
     "data": {
      "text/plain": [
       "b^3 + b^2 + b + 1"
      ]
     },
     "execution_count": 4,
     "metadata": {},
     "output_type": "execute_result"
    }
   ],
   "source": [
    "F64(a)"
   ]
  },
  {
   "cell_type": "code",
   "execution_count": 5,
   "id": "e97018ee-e2e4-428d-8f7d-5a8bc88d616b",
   "metadata": {},
   "outputs": [
    {
     "data": {
      "text/plain": [
       "4-element Vector{FqFieldElem}:\n",
       " 0\n",
       " 1\n",
       " a\n",
       " a + 1"
      ]
     },
     "execution_count": 5,
     "metadata": {},
     "output_type": "execute_result"
    }
   ],
   "source": [
    "collect_F4 = collect(F4)"
   ]
  },
  {
   "cell_type": "code",
   "execution_count": 6,
   "id": "41cd7048-d5b9-418b-97cb-d99583893cc8",
   "metadata": {},
   "outputs": [
    {
     "data": {
      "text/plain": [
       "4-element Vector{FqFieldElem}:\n",
       " 0\n",
       " 1\n",
       " b^3 + b^2 + b + 1\n",
       " b^3 + b^2 + b"
      ]
     },
     "execution_count": 6,
     "metadata": {},
     "output_type": "execute_result"
    }
   ],
   "source": [
    "F4_embedded_in_F64 = F64.(collect_F4)"
   ]
  },
  {
   "cell_type": "code",
   "execution_count": 7,
   "id": "ffcfb7c7-304d-4d72-9cf7-c2e27f8e0fb1",
   "metadata": {},
   "outputs": [
    {
     "data": {
      "text/plain": [
       "a + 1"
      ]
     },
     "execution_count": 7,
     "metadata": {},
     "output_type": "execute_result"
    }
   ],
   "source": [
    "a^2"
   ]
  },
  {
   "cell_type": "code",
   "execution_count": 8,
   "id": "e6cb5b55-c4bc-48dd-b3b8-c899b0054a5c",
   "metadata": {},
   "outputs": [
    {
     "data": {
      "text/plain": [
       "b^4 + b^3 + b + 1"
      ]
     },
     "execution_count": 8,
     "metadata": {},
     "output_type": "execute_result"
    }
   ],
   "source": [
    "b^6"
   ]
  },
  {
   "cell_type": "code",
   "execution_count": 9,
   "id": "288a1dff-cde5-4ec0-aec2-4fda2fee79e0",
   "metadata": {},
   "outputs": [
    {
     "data": {
      "text/plain": [
       "100-element Vector{Tuple{Int64, Int64, FqFieldElem}}:\n",
       " (2, 1, 0)\n",
       " (2, 2, x + 1)\n",
       " (2, 3, x + 1)\n",
       " (2, 4, x + 1)\n",
       " (2, 5, x^2 + 1)\n",
       " (2, 6, x^4 + x^3 + x + 1)\n",
       " (2, 7, x + 1)\n",
       " (2, 8, x^4 + x^3 + x^2 + 1)\n",
       " (2, 9, x^4 + 1)\n",
       " (2, 10, x^6 + x^5 + x^3 + x^2 + x + 1)\n",
       " (2, 11, x^2 + 1)\n",
       " (2, 12, x^7 + x^6 + x^5 + x^3 + x + 1)\n",
       " (2, 13, x^4 + x^3 + x + 1)\n",
       " ⋮\n",
       " (2, 89, x^6 + x^5 + x^3 + 1)\n",
       " (2, 90, x^64 + x^63 + x^62 + x^61 + x^60 + x^58 + x^57 + x^56 + x^55 + x^53 + x^51 + x^50 + x^48 + x^47 + x^46 + x^45 + x^44 + x^42 + x^40 + x^39 + x^38 + x^37 + x^36 + x^34 + x^32 + x^30 + x^28 + x^26 + x^25 + x^24 + x^18 + x^16 + x^14 + x^12 + x^11 + x^10 + x^7 + x^4 + x^2 + 1)\n",
       " (2, 91, x^17 + x^16 + x^15 + x^13 + x^12 + x^10 + x^9 + x^4 + x + 1)\n",
       " (2, 92, x^48 + x^44 + x^43 + x^42 + x^41 + x^40 + x^38 + x^37 + x^33 + x^32 + x^30 + x^24 + x^23 + x^22 + x^21 + x^18 + x^17 + x^16 + x^15 + x^14 + x^12 + x^9 + x^5 + x^4 + x^2 + 1)\n",
       " (2, 93, x^2 + 1)\n",
       " (2, 94, x^21 + 1)\n",
       " (2, 95, x^24 + x^21 + x^18 + x^17 + x^16 + x^14 + x^13 + x^12 + x^9 + x^8 + x^6 + x^3 + x + 1)\n",
       " (2, 96, x^63 + x^61 + x^60 + x^59 + x^54 + x^50 + x^46 + x^44 + x^40 + x^37 + x^33 + x^32 + x^28 + x^24 + x^23 + x^21 + x^20 + x^19 + x^18 + x^16 + x^15 + x^14 + x^13 + x^11 + x^9 + x^8 + x^7 + x^6 + x^4 + x^3 + x^2 + 1)\n",
       " (2, 97, x^6 + 1)\n",
       " (2, 98, x^56 + x^54 + x^53 + x^51 + x^50 + x^48 + x^46 + x^44 + x^39 + x^31 + x^28 + x^27 + x^26 + x^22 + x^18 + x^15 + x^14 + x^11 + x^10 + x^8 + x^6 + x^3 + x + 1)\n",
       " (2, 99, x^96 + x^91 + x^89 + x^86 + x^82 + x^81 + x^78 + x^75 + x^63 + x^52 + x^48 + x^45 + x^37 + x^35 + x^32 + x^27 + x^15 + 1)\n",
       " (2, 100, x^57 + x^56 + x^55 + x^52 + x^48 + x^47 + x^46 + x^45 + x^44 + x^43 + x^41 + x^37 + x^36 + x^35 + x^34 + x^31 + x^30 + x^27 + x^25 + x^24 + x^22 + x^20 + x^19 + x^16 + x^15 + x^11 + x^9 + x^8 + x^6 + x^5 + x^3 + 1)"
      ]
     },
     "execution_count": 9,
     "metadata": {},
     "output_type": "execute_result"
    }
   ],
   "source": [
    "ENV[\"LIES\"] = 1000\n",
    "p = 2\n",
    "[((k, x) = finite_field(p, e, \"x\"); (p, e, x^e)) for e in 1:100]"
   ]
  },
  {
   "cell_type": "code",
   "execution_count": null,
   "id": "a21db154-15f8-4101-849c-898b74e09de2",
   "metadata": {},
   "outputs": [],
   "source": [
    "p = 2\n",
    "[(e = 2^k; (k, x) = finite_field(p, e, \"x\"); (p, e, x^e)) for k in 1:11]"
   ]
  },
  {
   "cell_type": "code",
   "execution_count": null,
   "id": "6723b9ae-fe6e-43db-bcf3-efc0e2d78c61",
   "metadata": {},
   "outputs": [],
   "source": [
    "p = 2\n",
    "[(e = 2^k-1; (k, x) = finite_field(p, e, \"x\"); (p, e, x^e)) for k in 1:12]"
   ]
  },
  {
   "cell_type": "code",
   "execution_count": null,
   "id": "6eeae6bf-cb5f-44bb-ace2-d9e87a1775a4",
   "metadata": {},
   "outputs": [],
   "source": [
    "p = 2\n",
    "[(e = 2^k+1; (k, x) = finite_field(p, e, \"x\"); (p, e, x^e)) for k in 1:12]"
   ]
  },
  {
   "cell_type": "code",
   "execution_count": null,
   "id": "fcca5cbf-b5da-4628-a725-a8a93714dd8b",
   "metadata": {},
   "outputs": [],
   "source": [
    "F, a = finite_field(2, 1, :a)"
   ]
  },
  {
   "cell_type": "code",
   "execution_count": null,
   "id": "bdb5ac93-7d27-4f4d-8d70-43c8b59da719",
   "metadata": {},
   "outputs": [],
   "source": [
    "A, x = polynomial_ring(F, :x)"
   ]
  },
  {
   "cell_type": "code",
   "execution_count": null,
   "id": "6eb2b324-d80b-4f6b-bca8-fee67c8dc622",
   "metadata": {},
   "outputs": [],
   "source": [
    "is_irreducible(x^2+x+1)"
   ]
  },
  {
   "cell_type": "code",
   "execution_count": null,
   "id": "0b2b3b2c-664d-4258-b8ff-8588182b8270",
   "metadata": {},
   "outputs": [],
   "source": [
    "is_irreducible(x^4+x+1)"
   ]
  },
  {
   "cell_type": "code",
   "execution_count": null,
   "id": "cfff9d8b-a6fc-4e58-b880-6f94ab638daa",
   "metadata": {},
   "outputs": [],
   "source": [
    "ENV[\"LINES\"] = 1000\n",
    "F, a = finite_field(2, 1, :a)\n",
    "A, x = polynomial_ring(F, :x)\n",
    "[(p=2, e=e) for e in 2:100 if is_irreducible(x^e + x + 1)]"
   ]
  },
  {
   "cell_type": "code",
   "execution_count": null,
   "id": "dc3d3aba-8071-4f21-9465-1a0e599bbba0",
   "metadata": {},
   "outputs": [],
   "source": [
    "F, a = finite_field(2, 1, :a)\n",
    "A, x = polynomial_ring(F, :x)\n",
    "[(p=2, k=k, e=2^k) for k in 1:16 if (e = 2^k; is_irreducible(x^e + x + 1))]"
   ]
  },
  {
   "cell_type": "code",
   "execution_count": null,
   "id": "4fc2a198-4a73-45b6-a2ff-86247bc77e78",
   "metadata": {},
   "outputs": [],
   "source": [
    "F, a = finite_field(2, 1, :a)\n",
    "A, x = polynomial_ring(F, :x)\n",
    "[(p=2, k=k, e=2^k-1) for k in 1:14 if (e = 2^k-1; is_irreducible(x^e + x + 1))]"
   ]
  },
  {
   "cell_type": "code",
   "execution_count": null,
   "id": "c537091b-0129-49e0-9c5d-69c9e578f726",
   "metadata": {},
   "outputs": [],
   "source": [
    "F, a = finite_field(2, 1, :a)\n",
    "A, x = polynomial_ring(F, :x)\n",
    "[(p=2, k=k, e=2^k+1) for k in 1:14 if (e = 2^k+1; is_irreducible(x^e + x + 1))]"
   ]
  },
  {
   "cell_type": "code",
   "execution_count": null,
   "id": "b2b862a3-6e89-43c5-b7f1-1ee712222bb2",
   "metadata": {},
   "outputs": [],
   "source": []
  }
 ],
 "metadata": {
  "jupytext": {
   "formats": "ipynb,jl:hydrogen"
  },
  "kernelspec": {
   "display_name": "Julia 1.10.0",
   "language": "julia",
   "name": "julia-1.10"
  },
  "language_info": {
   "file_extension": ".jl",
   "mimetype": "application/julia",
   "name": "julia",
   "version": "1.10.0"
  }
 },
 "nbformat": 4,
 "nbformat_minor": 5
}
