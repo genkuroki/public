{
 "cells": [
  {
   "cell_type": "markdown",
   "id": "0ddeac51",
   "metadata": {},
   "source": [
    "# 潜在反応変数を含むダイアグラムの描き方について\n",
    "\n",
    "* 黒木玄\n",
    "* 2023-12-11\n",
    "\n",
    "__要約:__ \\[黒木学 2017\\] の図6-1, 図6-2, 図6-3, 図8-4, 図8-5では $Y_x$ のように表記された潜在反応変数から元の変数 $Y$ に向けて矢線が描かれている.  その部分は, シンプルな標準的ルールに従って, $Y_x$ から $Y$ に矢線を描かない別のダイアグラムに描き変えた方がよい.\n",
    "\n",
    "__参照文献__\n",
    "\n",
    "* \\[黒木学 2017\\] 黒木学, 構造的因果モデルの基礎, 共立出版, 2017年, iv + 309 pages.\n",
    "* \\[Pearl 2009\\] Judea Pearl, Causality --- Models, Resoning and Inference, Second Edition, Cambridge University Press, 2009, xix + 464 pages.\n",
    "* \\[Shpister--Pearl 2007\\] Ilya Shpitser and Judea Pearl, What counterfactuals can be tested, In: Proceedings of the 23rd Conference on Uncertainty in Artificial Intelligence, UAI 2007, 352--359. [https://arxiv.org/abs/1206.5294](https://arxiv.org/abs/1206.5294)"
   ]
  },
  {
   "cell_type": "markdown",
   "id": "3fb13ad6",
   "metadata": {
    "toc": true
   },
   "source": [
    "<h1>目次<span class=\"tocSkip\"></span></h1>\n",
    "<div class=\"toc\"><ul class=\"toc-item\"><li><span><a href=\"#[黒木学-2017]-の図6-1,-図6-2,-図6-3,-図8-4,-図8-5およびそれらの訂正案\" data-toc-modified-id=\"[黒木学-2017]-の図6-1,-図6-2,-図6-3,-図8-4,-図8-5およびそれらの訂正案-1\"><span class=\"toc-item-num\">1&nbsp;&nbsp;</span>[黒木学 2017] の図6-1, 図6-2, 図6-3, 図8-4, 図8-5およびそれらの訂正案</a></span><ul class=\"toc-item\"><li><span><a href=\"#図6-1とその訂正案\" data-toc-modified-id=\"図6-1とその訂正案-1.1\"><span class=\"toc-item-num\">1.1&nbsp;&nbsp;</span>図6-1とその訂正案</a></span></li><li><span><a href=\"#図6-2とその訂正案\" data-toc-modified-id=\"図6-2とその訂正案-1.2\"><span class=\"toc-item-num\">1.2&nbsp;&nbsp;</span>図6-2とその訂正案</a></span></li><li><span><a href=\"#図6-3とその訂正案\" data-toc-modified-id=\"図6-3とその訂正案-1.3\"><span class=\"toc-item-num\">1.3&nbsp;&nbsp;</span>図6-3とその訂正案</a></span></li><li><span><a href=\"#図8-4とその訂正案\" data-toc-modified-id=\"図8-4とその訂正案-1.4\"><span class=\"toc-item-num\">1.4&nbsp;&nbsp;</span>図8-4とその訂正案</a></span></li><li><span><a href=\"#図8-5とその訂正案\" data-toc-modified-id=\"図8-5とその訂正案-1.5\"><span class=\"toc-item-num\">1.5&nbsp;&nbsp;</span>図8-5とその訂正案</a></span></li></ul></li><li><span><a href=\"#訂正した方が良い理由\" data-toc-modified-id=\"訂正した方が良い理由-2\"><span class=\"toc-item-num\">2&nbsp;&nbsp;</span>訂正した方が良い理由</a></span></li><li><span><a href=\"#他の文献でのダイアグラムの描き方の例\" data-toc-modified-id=\"他の文献でのダイアグラムの描き方の例-3\"><span class=\"toc-item-num\">3&nbsp;&nbsp;</span>他の文献でのダイアグラムの描き方の例</a></span></li></ul></div>"
   ]
  },
  {
   "cell_type": "markdown",
   "id": "4c7accfc",
   "metadata": {},
   "source": [
    "## \\[黒木学 2017\\] の図6-1, 図6-2, 図6-3, 図8-4, 図8-5およびそれらの訂正案\n",
    "\n",
    "この節では \\[黒木学 2017\\] の図6-1, 図6-2, 図6-3, 図8-4, 図8-5およびその訂正案を示す."
   ]
  },
  {
   "cell_type": "markdown",
   "id": "7dbc4b9a",
   "metadata": {},
   "source": [
    "訂正の仕方は非常にシンプルである. 例えば, 構造的因果モデル内で\n",
    "\n",
    "$$\n",
    "Z = g_z(A, B, C, D, \\epsilon_z), \\quad\n",
    "Z_{a,b} = g_z(a, b, C_{a,b}, D_{a,b}, \\epsilon_z)\n",
    "$$\n",
    "\n",
    "と表示されている変数 $Z$, $Z_{a,b}$ について, ダイアグラムを次のように描くだけである:\n",
    "\n",
    "* $A,B,C,D,\\epsilon_z$ から $Z$ への矢線を描き, $Z$ に向けての矢線はその5本だけにする.\n",
    "* 特に $Z_{a,b}$ から $Z$ への矢線は描かない.\n",
    "* 介入で固定した値 $a,b$ をダイアグラムに描かない場合には, $C_{a,b}, D_{a,b}, \\epsilon_z$ から $Z_{a,b}$ への矢線を描き, $Z_{a,b}$ に向けての矢線はその3本だけにする.\n",
    "* 例えば $C = C_{a,b}$ となっている場合には変数 $C_{a,b}$ を新たにダイアグラムに追加せずに $C_{a,b}$ の代わりに $C$ を用いる.\n",
    "\n",
    "このルールは標準的である."
   ]
  },
  {
   "cell_type": "markdown",
   "id": "3196f219",
   "metadata": {},
   "source": [
    "### 図6-1とその訂正案"
   ]
  },
  {
   "cell_type": "markdown",
   "id": "c6ed7d0b",
   "metadata": {},
   "source": [
    "<img src=\"https://raw.githubusercontent.com/genkuroki/public/main/0046/images/fig6-1_corrected.jpg\" width=70%>"
   ]
  },
  {
   "cell_type": "markdown",
   "id": "a72634b3",
   "metadata": {},
   "source": [
    "### 図6-2とその訂正案"
   ]
  },
  {
   "cell_type": "markdown",
   "id": "6329bbd6",
   "metadata": {},
   "source": [
    "<img src=\"https://raw.githubusercontent.com/genkuroki/public/main/0046/images/fig6-2_corrected.jpg\" width=70%>"
   ]
  },
  {
   "cell_type": "markdown",
   "id": "db41627d",
   "metadata": {},
   "source": [
    "### 図6-3とその訂正案"
   ]
  },
  {
   "cell_type": "markdown",
   "id": "8053d79e",
   "metadata": {},
   "source": [
    "<img src=\"https://raw.githubusercontent.com/genkuroki/public/main/0046/images/fig6-3_corrected.jpg\" width=70%>"
   ]
  },
  {
   "cell_type": "markdown",
   "id": "91ee12da",
   "metadata": {},
   "source": [
    "### 図8-4とその訂正案"
   ]
  },
  {
   "cell_type": "markdown",
   "id": "38c733d3",
   "metadata": {},
   "source": [
    "<img src=\"https://raw.githubusercontent.com/genkuroki/public/main/0046/images/fig8-4_corrected.jpg\" width=70%>"
   ]
  },
  {
   "cell_type": "markdown",
   "id": "c7a60665",
   "metadata": {},
   "source": [
    "### 図8-5とその訂正案"
   ]
  },
  {
   "cell_type": "markdown",
   "id": "028347f1",
   "metadata": {},
   "source": [
    "<img src=\"https://raw.githubusercontent.com/genkuroki/public/main/0046/images/fig8-5_corrected.jpg\">"
   ]
  },
  {
   "cell_type": "markdown",
   "id": "efdc52ed",
   "metadata": {},
   "source": [
    "## 訂正した方が良い理由"
   ]
  },
  {
   "cell_type": "markdown",
   "id": "9965c4cd",
   "metadata": {},
   "source": [
    "構造的因果モデルを表すための等式 $Z = g_z(A, B, C, D, \\epsilon_z)$ では, 右辺の表示自体が重要であり, 等式を保ったまま右辺を勝手に変形してはいけない.  例えば, $B = g_b(A, \\epsilon_b)$ となっているとき, 右辺にそれを代入して $Z = g_z(A, g_b(A, \\epsilon_b), C, D, \\epsilon_z)$ と書き直して, $Z$ は $B$ に因果的に依存しないとみなして, 因果ダイアグラムを描くときに $B$ から $Z$ への矢線を描かないようにしてはいけない."
   ]
  },
  {
   "cell_type": "markdown",
   "id": "92763e78",
   "metadata": {},
   "source": [
    "$Y = g_y(X, W, \\epsilon_y)$ に対応する $X=x$ と設定した場合の潜在結果変数は $Y_x=g_y(x, W_x, \\epsilon_y)$ のように定義される. $W_x$ は $Y$ から先祖をさかのぼる帰納的によって同様のルールで定義される. このとき,\n",
    "\n",
    "$$\n",
    "g_y(X, W, \\epsilon_y) = g_y(x, W_x, \\epsilon_y) \\quad\\text{if $X=x$}\n",
    "$$\n",
    "\n",
    "が自明に成立する.  すなわち\n",
    "\n",
    "$$\n",
    "Y = Y_x \\quad \\text{if $X=x$}\n",
    "$$\n",
    "\n",
    "が自明に成立する.  このことを理由に因果ダイアグラムで $Y_x$ から $Y$ に矢線を描くことは複数通りの意味で不適切になる.\n",
    "\n",
    "__理由1:__ 因果ダイアグラムの描き方はシンプルな標準的ルールとして決まっている. 標準的ルールを勝手に変更して読者を惑わせることはやらない方がよい.\n",
    "\n",
    "__理由2:__ 因果推論の文脈で $Y$ は観察研究の結果のモデル化だと解釈され, $Y_x$ は観察兼研究の結果と無関係に $X=x$ と介入した場合の結果のモデル化だとみなされる. $Y_x$ は $Y$ の原因の1つにはなっていないので, 因果推論の文脈では通常因果を意味する矢線を $Y_x$ から $Y$ に引かない方がよい.\n",
    "\n",
    "__理由3:__ この理由は非本質的だが, 読者の参考になるかもしれないので説明しておくことにする.\n",
    "\n",
    "例として, 因果ダイアグラム $X\\to Y$ で要約される構造的因果モデル\n",
    "\n",
    "$$\n",
    "X = g_x(\\epsilon_x), \\quad Y = g_y(X, \\epsilon_y)\n",
    "$$\n",
    "\n",
    "を考える.  ここで $\\epsilon_x$, $\\epsilon_y$ は独立な確率変数である.  このとき, $X=x と介入した場合の結果のモデル化 $Y_x$ は次のように定義される:\n",
    "\n",
    "$$\n",
    "Y_x = g_y(x, \\epsilon_y).\n",
    "$$\n",
    "\n",
    "$X, Y, Y_x$ で構成されるモデルに対応するダイアグラムは標準的ルールに従うと次のようになる:"
   ]
  },
  {
   "cell_type": "markdown",
   "id": "32f0dcdd",
   "metadata": {},
   "source": [
    "<img src=\"https://raw.githubusercontent.com/genkuroki/public/main/0046/images/2a.jpg\" width=35%>"
   ]
  },
  {
   "cell_type": "markdown",
   "id": "b01f4c36",
   "metadata": {},
   "source": [
    "仮に $X$ の取り得る値は $1,0$ の2通りであるとする. そのとき\n",
    "\n",
    "$$\n",
    "Y = \\begin{cases}\n",
    "Y_1 & \\text{if X=1,} \\\\\n",
    "Y_0 & \\text{if X=0} \\\\\n",
    "\\end{cases}\n",
    "$$\n",
    "\n",
    "が自明に成立している. この右辺は $Y_1, Y_0$ の両方と $X$ で決まるので, この等式を\n",
    "\n",
    "$$\n",
    "Y = h(X, Y_1, Y_0)\n",
    "$$\n",
    "\n",
    "と要約しよう. これと\n",
    "\n",
    "$$\n",
    "X = g_x(\\epsilon_x), \\quad\n",
    "Y_1 = g_y(1, \\epsilon_y), \\quad Y_0 = g_y(0, \\epsilon_y),\n",
    "$$\n",
    "\n",
    "と合わせて得られる構造的因果モデルを仮に考えたとする. そのような考え方はしない方がよいが仮にそう考えたとする. そのとき, そのモデルに対応するダイアグラムは次のようになる:"
   ]
  },
  {
   "cell_type": "markdown",
   "id": "4c3586d5",
   "metadata": {},
   "source": [
    "<img src=\"https://raw.githubusercontent.com/genkuroki/public/main/0046/images/2b.jpg\" width=50%>"
   ]
  },
  {
   "cell_type": "markdown",
   "id": "7cae8691",
   "metadata": {},
   "source": [
    "これを単独の $x=1,0$ に関する次のダイアグラムで要約することはできない:"
   ]
  },
  {
   "cell_type": "markdown",
   "id": "7a034790",
   "metadata": {},
   "source": [
    "<img src=\"https://raw.githubusercontent.com/genkuroki/public/main/0046/images/2c.jpg\" width=25%>"
   ]
  },
  {
   "cell_type": "markdown",
   "id": "9d3c0f26",
   "metadata": {},
   "source": [
    "$Y$ の挙動を確定させるためには $Y_1$, $Y_0$ の両方が必要である.\n",
    "\n",
    "以上のように単独の $Y_x$ から $Y$ への矢線を描いたダイアグラムを描くことはモデルの要約の仕方として不完全な方法になる."
   ]
  },
  {
   "cell_type": "markdown",
   "id": "fcef5617",
   "metadata": {},
   "source": [
    "## 他の文献でのダイアグラムの描き方の例"
   ]
  },
  {
   "cell_type": "markdown",
   "id": "446fc2ec",
   "metadata": {},
   "source": [
    "次の図はこの話題について最も標準的な文献だとみなされる \\[Pearl 2009\\] Judea Pearl, Causality --- Models, Resoning and Inference, Second Edition, 2009 のp.394のFigure 11.18 である:"
   ]
  },
  {
   "cell_type": "markdown",
   "id": "7e5275b9",
   "metadata": {},
   "source": [
    "<img src=\"https://raw.githubusercontent.com/genkuroki/public/main/0046/images/3a.jpg\" width=80%>"
   ]
  },
  {
   "cell_type": "markdown",
   "id": "dd4d69d8",
   "metadata": {},
   "source": [
    "この図は読者からの質問の中で示されたダイアグラムであり, このダイアグラムによる解釈についてPearlは次のように肯定している:\n",
    "\n",
    "\\[Pearl 2009], p.394より\n",
    ">Author’s Reply (with Ilya Shpitser):<br>\n",
    ">Your generalization of the twin network to more than two worlds is correct, and so is\n",
    "your conclusion; $Y_x$ is not independent of $X$ given $Y_z$, $Z_x$, $Y$. In fact, a recent paper\n",
    "(Shpitser and Pearl 2007) formulates this graphical representation of counterfactuals in\n",
    "multiple worlds under the rubric “counterfactual graphs.”"
   ]
  },
  {
   "cell_type": "markdown",
   "id": "f3dc027b",
   "metadata": {},
   "source": [
    "そこで引用されている\\[Shpitser--Pearl 2007\\]には次の図がある:"
   ]
  },
  {
   "cell_type": "markdown",
   "id": "a48fb8b0",
   "metadata": {},
   "source": [
    "<img src=\"https://raw.githubusercontent.com/genkuroki/public/main/0046/images/3c.jpg\" width=60%>"
   ]
  },
  {
   "cell_type": "markdown",
   "id": "c11ec4f2",
   "metadata": {},
   "source": [
    "これらのダイアグラムでも $Y_x$ から $Y$ への矢線は描かれておらず, 私による訂正案と同じシンプルな標準的なルールに従ってダイアグラムが描かれている."
   ]
  }
 ],
 "metadata": {
  "@webio": {
   "lastCommId": null,
   "lastKernelId": null
  },
  "jupytext": {
   "encoding": "# -*- coding: utf-8 -*-",
   "formats": "ipynb,jl:hydrogen"
  },
  "kernelspec": {
   "display_name": "Julia 1.9.4",
   "language": "julia",
   "name": "julia-1.9"
  },
  "language_info": {
   "file_extension": ".jl",
   "mimetype": "application/julia",
   "name": "julia",
   "version": "1.9.4"
  },
  "toc": {
   "base_numbering": 1,
   "nav_menu": {},
   "number_sections": true,
   "sideBar": true,
   "skip_h1_title": true,
   "title_cell": "目次",
   "title_sidebar": "目次",
   "toc_cell": true,
   "toc_position": {
    "height": "calc(100% - 180px)",
    "left": "10px",
    "top": "150px",
    "width": "242.173px"
   },
   "toc_section_display": true,
   "toc_window_display": false
  }
 },
 "nbformat": 4,
 "nbformat_minor": 5
}
