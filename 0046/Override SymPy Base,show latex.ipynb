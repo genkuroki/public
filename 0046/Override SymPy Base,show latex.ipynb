{
 "cells": [
  {
   "cell_type": "code",
   "execution_count": 1,
   "id": "99e67282",
   "metadata": {},
   "outputs": [],
   "source": [
    "using SymPy"
   ]
  },
  {
   "cell_type": "code",
   "execution_count": 2,
   "id": "71f792a2",
   "metadata": {},
   "outputs": [],
   "source": [
    "# Override\n",
    "# https://github.com/jverzani/SymPyCore.jl/blob/main/src/SymPy/show_sympy.jl#L31-L34\n",
    "@eval SymPy begin\n",
    "function Base.show(io::IO,  ::MIME\"text/latex\", x::SymbolicObject)\n",
    "    out = _sympy_.latex(↓(x), mode=\"inline\",fold_short_frac=false)\n",
    "    out = replace(out, r\"\\\\frac{\"=>\"\\\\dfrac{\")\n",
    "    print(io, string(out))\n",
    "end\n",
    "end"
   ]
  },
  {
   "cell_type": "code",
   "execution_count": 3,
   "id": "b3339447",
   "metadata": {},
   "outputs": [
    {
     "data": {
      "text/plain": [
       "(a, b, c)"
      ]
     },
     "execution_count": 3,
     "metadata": {},
     "output_type": "execute_result"
    }
   ],
   "source": [
    "@syms a b c"
   ]
  },
  {
   "cell_type": "code",
   "execution_count": 4,
   "id": "6ac68e7c",
   "metadata": {},
   "outputs": [
    {
     "data": {
      "text/latex": [
       "$1 + \\dfrac{1}{\\dfrac{a}{\\dfrac{b}{c + 1} + 1} + 1}$"
      ],
      "text/plain": [
       "          1      \n",
       "1 + -------------\n",
       "        a        \n",
       "    --------- + 1\n",
       "      b          \n",
       "    ----- + 1    \n",
       "    c + 1        "
      ]
     },
     "execution_count": 4,
     "metadata": {},
     "output_type": "execute_result"
    }
   ],
   "source": [
    "x = 1 + 1/(1 + a/(1 + b/(1 + c)))"
   ]
  },
  {
   "cell_type": "code",
   "execution_count": null,
   "id": "268da06f",
   "metadata": {},
   "outputs": [],
   "source": []
  }
 ],
 "metadata": {
  "jupytext": {
   "encoding": "# -*- coding: utf-8 -*-",
   "formats": "ipynb,jl:hydrogen"
  },
  "kernelspec": {
   "display_name": "Julia 1.10.0",
   "language": "julia",
   "name": "julia-1.10"
  },
  "language_info": {
   "file_extension": ".jl",
   "mimetype": "application/julia",
   "name": "julia",
   "version": "1.10.0"
  },
  "toc": {
   "base_numbering": 1,
   "nav_menu": {},
   "number_sections": false,
   "sideBar": true,
   "skip_h1_title": true,
   "title_cell": "Table of Contents",
   "title_sidebar": "Contents",
   "toc_cell": false,
   "toc_position": {},
   "toc_section_display": true,
   "toc_window_display": false
  }
 },
 "nbformat": 4,
 "nbformat_minor": 5
}
