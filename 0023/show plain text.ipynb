{
 "cells": [
  {
   "cell_type": "code",
   "execution_count": 1,
   "id": "5bbcc46d-a24b-455a-8943-9ed63f47baaf",
   "metadata": {},
   "outputs": [
    {
     "data": {
      "text/plain": [
       "Main.My"
      ]
     },
     "execution_count": 1,
     "metadata": {},
     "output_type": "execute_result"
    }
   ],
   "source": [
    "module My\n",
    "\n",
    "struct Foo{A, B, C}\n",
    "    a::A\n",
    "    b::B\n",
    "    c::C\n",
    "end\n",
    "\n",
    "function Base.show(io::IO, m::MIME\"text/plain\", x::Foo)\n",
    "    print(io, \"Foo:\\n\\n\")\n",
    "    print(io, \"a = \")\n",
    "    show(io, m, x.a)\n",
    "    print(io, \"\\n\\nb = \")\n",
    "    show(io, m, x.b)\n",
    "    print(io, \"\\n\\nc = \")\n",
    "    show(io, m, x.c)\n",
    "    print(io, \"\\n\")\n",
    "end\n",
    "\n",
    "end"
   ]
  },
  {
   "cell_type": "code",
   "execution_count": 2,
   "id": "3afe56ff-e8fd-4399-b9ea-44bd84b7bf15",
   "metadata": {},
   "outputs": [
    {
     "data": {
      "text/plain": [
       "Foo:\n",
       "\n",
       "a = 2-element Vector{Int64}:\n",
       " 1\n",
       " 2\n",
       "\n",
       "b = 2×2 Matrix{Int64}:\n",
       " 3  4\n",
       " 5  6\n",
       "\n",
       "c = 2×2×2 Array{Int64, 3}:\n",
       "[:, :, 1] =\n",
       " 1  3\n",
       " 2  4\n",
       "\n",
       "[:, :, 2] =\n",
       " 5  7\n",
       " 6  8\n"
      ]
     },
     "execution_count": 2,
     "metadata": {},
     "output_type": "execute_result"
    }
   ],
   "source": [
    "My.Foo([1, 2], [3 4; 5 6], collect(reshape(1:8, 2, 2, 2)))"
   ]
  },
  {
   "cell_type": "code",
   "execution_count": null,
   "id": "66599f20-d969-4333-946c-52eaea09d4fd",
   "metadata": {},
   "outputs": [],
   "source": []
  }
 ],
 "metadata": {
  "kernelspec": {
   "display_name": "Julia 1.6.3",
   "language": "julia",
   "name": "julia-1.6"
  },
  "language_info": {
   "file_extension": ".jl",
   "mimetype": "application/julia",
   "name": "julia",
   "version": "1.6.3"
  }
 },
 "nbformat": 4,
 "nbformat_minor": 5
}
