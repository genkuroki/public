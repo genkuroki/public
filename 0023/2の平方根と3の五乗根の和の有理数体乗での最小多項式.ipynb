{
 "cells": [
  {
   "cell_type": "code",
   "execution_count": 1,
   "id": "dc4bd8b9-320b-4497-a6fa-3b2b0b0c40e7",
   "metadata": {},
   "outputs": [
    {
     "data": {
      "text/plain": [
       "(x, y, z)"
      ]
     },
     "execution_count": 1,
     "metadata": {},
     "output_type": "execute_result"
    }
   ],
   "source": [
    "using SymPy\n",
    "@vars x y z"
   ]
  },
  {
   "cell_type": "markdown",
   "id": "b3a135c4-fa6f-4911-941b-c48d83755961",
   "metadata": {},
   "source": [
    "## $\\theta = \\sqrt{2} + \\sqrt[3]{3}$ の $\\mathbb{Q}$ 上での最小多項式"
   ]
  },
  {
   "cell_type": "code",
   "execution_count": 2,
   "id": "685ccf2f-c188-4457-867e-228049459348",
   "metadata": {},
   "outputs": [
    {
     "data": {
      "text/latex": [
       "$\\begin{equation*}\\sqrt{2}\\end{equation*}$\n"
      ],
      "text/plain": [
       "  ___\n",
       "\\/ 2 "
      ]
     },
     "execution_count": 2,
     "metadata": {},
     "output_type": "execute_result"
    }
   ],
   "source": [
    "a = √Sym(2)"
   ]
  },
  {
   "cell_type": "code",
   "execution_count": 3,
   "id": "d34e569b-a0e2-4960-9a6a-a1bde4b364b1",
   "metadata": {},
   "outputs": [
    {
     "data": {
      "text/latex": [
       "$\\begin{equation*}\\sqrt[3]{3}\\end{equation*}$\n"
      ],
      "text/plain": [
       "3 ___\n",
       "\\/ 3 "
      ]
     },
     "execution_count": 3,
     "metadata": {},
     "output_type": "execute_result"
    }
   ],
   "source": [
    "b = Sym(3)^(1/Sym(3))"
   ]
  },
  {
   "cell_type": "code",
   "execution_count": 4,
   "id": "e6f63c17-46cb-44c8-a1fc-23d8ab241783",
   "metadata": {},
   "outputs": [
    {
     "data": {
      "text/latex": [
       "$\\begin{equation*}\\sqrt{2} + \\sqrt[3]{3}\\end{equation*}$\n"
      ],
      "text/plain": [
       "  ___   3 ___\n",
       "\\/ 2  + \\/ 3 "
      ]
     },
     "execution_count": 4,
     "metadata": {},
     "output_type": "execute_result"
    }
   ],
   "source": [
    "θ = a + b"
   ]
  },
  {
   "cell_type": "code",
   "execution_count": 5,
   "id": "5f8a6a1c-b83c-4ea6-a467-a2868c0c8e91",
   "metadata": {},
   "outputs": [
    {
     "data": {
      "text/latex": [
       "$\\begin{equation*}x^{6} - 6 x^{4} - 6 x^{3} + 12 x^{2} - 36 x + 1\\end{equation*}$\n"
      ],
      "text/plain": [
       " 6      4      3       2           \n",
       "x  - 6*x  - 6*x  + 12*x  - 36*x + 1"
      ]
     },
     "execution_count": 5,
     "metadata": {},
     "output_type": "execute_result"
    }
   ],
   "source": [
    "sympy.minimal_polynomial(θ, x)"
   ]
  },
  {
   "cell_type": "code",
   "execution_count": 6,
   "id": "d17ab078-f045-4d92-8116-4bf1698ce963",
   "metadata": {},
   "outputs": [
    {
     "data": {
      "text/latex": [
       "$\\begin{equation*}- \\frac{1}{2} + \\frac{\\sqrt{3} i}{2}\\end{equation*}$\n"
      ],
      "text/plain": [
       "        ___  \n",
       "  1   \\/ 3 *I\n",
       "- - + -------\n",
       "  2      2   "
      ]
     },
     "execution_count": 6,
     "metadata": {},
     "output_type": "execute_result"
    }
   ],
   "source": [
    "ω = (-1 + √Sym(-3))/2"
   ]
  },
  {
   "cell_type": "code",
   "execution_count": 7,
   "id": "cef6f191-fde3-4ded-a02e-795c10918ab2",
   "metadata": {},
   "outputs": [
    {
     "data": {
      "text/latex": [
       "$\\begin{equation*}0\\end{equation*}$\n"
      ],
      "text/plain": [
       "0"
      ]
     },
     "execution_count": 7,
     "metadata": {},
     "output_type": "execute_result"
    }
   ],
   "source": [
    "ω^2 + ω + 1 |> expand"
   ]
  },
  {
   "cell_type": "code",
   "execution_count": 8,
   "id": "d7fb1213-2dbf-45f1-9ac6-e3740349d007",
   "metadata": {},
   "outputs": [
    {
     "data": {
      "text/latex": [
       "$\\begin{equation*}x^{6} - 6 x^{4} - 6 x^{3} + 12 x^{2} - 36 x + 1\\end{equation*}$\n"
      ],
      "text/plain": [
       " 6      4      3       2           \n",
       "x  - 6*x  - 6*x  + 12*x  - 36*x + 1"
      ]
     },
     "execution_count": 8,
     "metadata": {},
     "output_type": "execute_result"
    }
   ],
   "source": [
    "prod((x - (a + ω^k * b))*(x - (-a + ω^k * b)) for k in 0:2).expand()"
   ]
  },
  {
   "cell_type": "code",
   "execution_count": 9,
   "id": "5fc46a02-dafc-4220-a765-96abb4c7f634",
   "metadata": {},
   "outputs": [
    {
     "data": {
      "text/latex": [
       "$\\begin{equation*}x^{2} - 2\\end{equation*}$\n"
      ],
      "text/plain": [
       " 2    \n",
       "x  - 2"
      ]
     },
     "execution_count": 9,
     "metadata": {},
     "output_type": "execute_result"
    }
   ],
   "source": [
    "f = sympy.minimal_polynomial(a, x)"
   ]
  },
  {
   "cell_type": "code",
   "execution_count": 10,
   "id": "960770fc-624d-4fa3-9add-59fae5ece4fc",
   "metadata": {},
   "outputs": [
    {
     "data": {
      "text/latex": [
       "$\\begin{equation*}x^{3} - 3\\end{equation*}$\n"
      ],
      "text/plain": [
       " 3    \n",
       "x  - 3"
      ]
     },
     "execution_count": 10,
     "metadata": {},
     "output_type": "execute_result"
    }
   ],
   "source": [
    "g = sympy.minimal_polynomial(b, x)"
   ]
  },
  {
   "cell_type": "code",
   "execution_count": 11,
   "id": "66c9bb8f-eb7a-4882-8688-c506300a68d3",
   "metadata": {},
   "outputs": [
    {
     "data": {
      "text/latex": [
       "$\\begin{equation*}x^{2} - 2 x z + z^{2} - 2\\end{equation*}$\n"
      ],
      "text/plain": [
       " 2            2    \n",
       "x  - 2*x*z + z  - 2"
      ]
     },
     "execution_count": 11,
     "metadata": {},
     "output_type": "execute_result"
    }
   ],
   "source": [
    "h = f(z - x).expand()"
   ]
  },
  {
   "cell_type": "code",
   "execution_count": 12,
   "id": "e91efb03-03d0-413a-a8d4-01671e2e1dde",
   "metadata": {},
   "outputs": [
    {
     "data": {
      "text/latex": [
       "$\\begin{equation*}3 x z^{2} + 2 x - 2 z^{3} + 4 z - 3\\end{equation*}$\n"
      ],
      "text/plain": [
       "     2            3          \n",
       "3*x*z  + 2*x - 2*z  + 4*z - 3"
      ]
     },
     "execution_count": 12,
     "metadata": {},
     "output_type": "execute_result"
    }
   ],
   "source": [
    "r = g - (x + 2z)*h |> expand"
   ]
  },
  {
   "cell_type": "code",
   "execution_count": 13,
   "id": "19b46c1a-8c4c-4200-be56-b5088a52b16c",
   "metadata": {},
   "outputs": [
    {
     "data": {
      "text/latex": [
       "$\\left[ \\begin{array}{r}3 z^{2} + 2\\\\2 z^{3} - 4 z + 3\\end{array} \\right]$\n"
      ],
      "text/plain": [
       "2-element Vector{Sym}:\n",
       "       3*z^2 + 2\n",
       " 2*z^3 - 4*z + 3"
      ]
     },
     "execution_count": 13,
     "metadata": {},
     "output_type": "execute_result"
    }
   ],
   "source": [
    "Denom, Numer = sympy.Poly(r, x).coeffs() |> C -> [C[1], -C[2]]"
   ]
  },
  {
   "cell_type": "code",
   "execution_count": 14,
   "id": "dbba9d97-d3f5-47b3-86b8-3d10c3680b36",
   "metadata": {},
   "outputs": [
    {
     "data": {
      "text/latex": [
       "$\\begin{equation*}\\frac{2 z^{3} - 4 z + 3}{3 z^{2} + 2}\\end{equation*}$\n"
      ],
      "text/plain": [
       "   3          \n",
       "2*z  - 4*z + 3\n",
       "--------------\n",
       "      2       \n",
       "   3*z  + 2   "
      ]
     },
     "execution_count": 14,
     "metadata": {},
     "output_type": "execute_result"
    }
   ],
   "source": [
    "Numer / Denom"
   ]
  },
  {
   "cell_type": "code",
   "execution_count": 15,
   "id": "c5e4e824-b23f-4e79-a716-9583f60d0f21",
   "metadata": {},
   "outputs": [
    {
     "data": {
      "text/latex": [
       "$\\begin{equation*}3 \\cdot 3^{\\frac{2}{3}} + 8 + 6 \\sqrt{2} \\sqrt[3]{3}\\end{equation*}$\n"
      ],
      "text/plain": [
       "   2/3           ___ 3 ___\n",
       "3*3    + 8 + 6*\\/ 2 *\\/ 3 "
      ]
     },
     "execution_count": 15,
     "metadata": {},
     "output_type": "execute_result"
    }
   ],
   "source": [
    "denom = Denom(z => θ).expand().simplify()"
   ]
  },
  {
   "cell_type": "code",
   "execution_count": 16,
   "id": "208e24cb-eb4f-4fe2-88a8-57473ab1a852",
   "metadata": {},
   "outputs": [
    {
     "data": {
      "text/latex": [
       "$\\begin{equation*}9 + 8 \\sqrt[3]{3} + 6 \\sqrt{2} \\cdot 3^{\\frac{2}{3}}\\end{equation*}$\n"
      ],
      "text/plain": [
       "      3 ___       ___  2/3\n",
       "9 + 8*\\/ 3  + 6*\\/ 2 *3   "
      ]
     },
     "execution_count": 16,
     "metadata": {},
     "output_type": "execute_result"
    }
   ],
   "source": [
    "numer = Numer(z => θ).expand().simplify()"
   ]
  },
  {
   "cell_type": "code",
   "execution_count": 17,
   "id": "ccbb580f-254d-43c6-802c-290d031c4a38",
   "metadata": {},
   "outputs": [
    {
     "data": {
      "text/latex": [
       "$\\begin{equation*}\\frac{-72 + 27 \\cdot 3^{\\frac{2}{3}} + 64 \\sqrt[3]{3}}{- 24 \\cdot 3^{\\frac{2}{3}} + 27 \\sqrt[3]{3} + 64}\\end{equation*}$\n"
      ],
      "text/plain": [
       "           2/3      3 ___\n",
       " -72 + 27*3    + 64*\\/ 3 \n",
       "-------------------------\n",
       "      2/3      3 ___     \n",
       "- 24*3    + 27*\\/ 3  + 64"
      ]
     },
     "execution_count": 17,
     "metadata": {},
     "output_type": "execute_result"
    }
   ],
   "source": [
    "c = numer / denom |> simplify"
   ]
  },
  {
   "cell_type": "code",
   "execution_count": 18,
   "id": "b96e8fb7-bdd9-4aca-8efa-64377a913f58",
   "metadata": {},
   "outputs": [
    {
     "data": {
      "text/latex": [
       "$\\begin{equation*}1\\end{equation*}$\n"
      ],
      "text/plain": [
       "1"
      ]
     },
     "execution_count": 18,
     "metadata": {},
     "output_type": "execute_result"
    }
   ],
   "source": [
    "c / b |> simplify"
   ]
  },
  {
   "cell_type": "markdown",
   "id": "57c41f1d-68e8-46b7-b27f-dfd8254ecd69",
   "metadata": {},
   "source": [
    "## $\\omega = (-1 + \\sqrt{-3})/2$ のときの $\\theta = \\omega + \\sqrt[3]{2}$ の $\\mathbb{Q}$ 上での最小多項式"
   ]
  },
  {
   "cell_type": "code",
   "execution_count": 19,
   "id": "6bfdf26d-1faf-454b-88ba-6d6b9bd072df",
   "metadata": {},
   "outputs": [
    {
     "data": {
      "text/latex": [
       "$\\begin{equation*}- \\frac{1}{2} + \\frac{\\sqrt{3} i}{2}\\end{equation*}$\n"
      ],
      "text/plain": [
       "        ___  \n",
       "  1   \\/ 3 *I\n",
       "- - + -------\n",
       "  2      2   "
      ]
     },
     "execution_count": 19,
     "metadata": {},
     "output_type": "execute_result"
    }
   ],
   "source": [
    "ω = (-1 + √Sym(-3))/2"
   ]
  },
  {
   "cell_type": "code",
   "execution_count": 20,
   "id": "53266a8d-6776-4fea-89b0-61055f01c4f5",
   "metadata": {},
   "outputs": [
    {
     "data": {
      "text/latex": [
       "$\\begin{equation*}0\\end{equation*}$\n"
      ],
      "text/plain": [
       "0"
      ]
     },
     "execution_count": 20,
     "metadata": {},
     "output_type": "execute_result"
    }
   ],
   "source": [
    "ω^2 + ω + 1 |> expand"
   ]
  },
  {
   "cell_type": "code",
   "execution_count": 21,
   "id": "df967e7b-92f0-4b08-bfe4-a9c532259fe8",
   "metadata": {},
   "outputs": [
    {
     "data": {
      "text/latex": [
       "$\\begin{equation*}\\sqrt[3]{2}\\end{equation*}$\n"
      ],
      "text/plain": [
       "3 ___\n",
       "\\/ 2 "
      ]
     },
     "execution_count": 21,
     "metadata": {},
     "output_type": "execute_result"
    }
   ],
   "source": [
    "b = Sym(2)^(1/Sym(3))"
   ]
  },
  {
   "cell_type": "code",
   "execution_count": 22,
   "id": "00ff2305-2418-4a42-a8e7-8e0b7f4e7bdc",
   "metadata": {},
   "outputs": [
    {
     "data": {
      "text/latex": [
       "$\\begin{equation*}- \\frac{1}{2} + \\sqrt[3]{2} + \\frac{\\sqrt{3} i}{2}\\end{equation*}$\n"
      ],
      "text/plain": [
       "                ___  \n",
       "  1   3 ___   \\/ 3 *I\n",
       "- - + \\/ 2  + -------\n",
       "  2              2   "
      ]
     },
     "execution_count": 22,
     "metadata": {},
     "output_type": "execute_result"
    }
   ],
   "source": [
    "θ = ω + b"
   ]
  },
  {
   "cell_type": "code",
   "execution_count": 23,
   "id": "056943ae-3a88-4996-93dd-ef6deabc07a1",
   "metadata": {},
   "outputs": [
    {
     "data": {
      "text/latex": [
       "$\\begin{equation*}x^{6} + 3 x^{5} + 6 x^{4} + 3 x^{3} + 9 x + 9\\end{equation*}$\n"
      ],
      "text/plain": [
       " 6      5      4      3          \n",
       "x  + 3*x  + 6*x  + 3*x  + 9*x + 9"
      ]
     },
     "execution_count": 23,
     "metadata": {},
     "output_type": "execute_result"
    }
   ],
   "source": [
    "sympy.minimal_polynomial(θ, x)"
   ]
  },
  {
   "cell_type": "code",
   "execution_count": 24,
   "id": "9c149ba8-e605-4a84-b1af-4fccb0bb2310",
   "metadata": {},
   "outputs": [
    {
     "data": {
      "text/latex": [
       "$\\begin{equation*}x^{6} + 3 x^{5} + 6 x^{4} - 4 \\sqrt{2} x^{3} + 7 x^{3} - 6 \\sqrt{2} x^{2} + 6 x^{2} + 3 x + 6 \\sqrt{2} x + 4 \\sqrt{2} + 9\\end{equation*}$\n"
      ],
      "text/plain": [
       " 6      5      4       ___  3      3       ___  2      2             ___      \n",
       "x  + 3*x  + 6*x  - 4*\\/ 2 *x  + 7*x  - 6*\\/ 2 *x  + 6*x  + 3*x + 6*\\/ 2 *x + 4\n",
       "\n",
       "   ___    \n",
       "*\\/ 2  + 9"
      ]
     },
     "execution_count": 24,
     "metadata": {},
     "output_type": "execute_result"
    }
   ],
   "source": [
    "prod((x - (ω + ω^k * a))*(x - (ω^2 + ω^k * a)) for k in 0:2).expand()"
   ]
  },
  {
   "cell_type": "code",
   "execution_count": 25,
   "id": "ba921024-9fc2-454a-938f-e20d1b4f818f",
   "metadata": {},
   "outputs": [
    {
     "data": {
      "text/latex": [
       "$\\begin{equation*}x^{2} + x + 1\\end{equation*}$\n"
      ],
      "text/plain": [
       " 2        \n",
       "x  + x + 1"
      ]
     },
     "execution_count": 25,
     "metadata": {},
     "output_type": "execute_result"
    }
   ],
   "source": [
    "f = sympy.minimal_polynomial(ω, x)"
   ]
  },
  {
   "cell_type": "code",
   "execution_count": 26,
   "id": "6f7a3595-194f-4597-b3a4-82a934e63923",
   "metadata": {},
   "outputs": [
    {
     "data": {
      "text/latex": [
       "$\\begin{equation*}x^{3} - 2\\end{equation*}$\n"
      ],
      "text/plain": [
       " 3    \n",
       "x  - 2"
      ]
     },
     "execution_count": 26,
     "metadata": {},
     "output_type": "execute_result"
    }
   ],
   "source": [
    "g = sympy.minimal_polynomial(b, x)"
   ]
  },
  {
   "cell_type": "code",
   "execution_count": 27,
   "id": "b2af24bf-0729-40da-b7e5-9ac86042045b",
   "metadata": {},
   "outputs": [
    {
     "data": {
      "text/latex": [
       "$\\begin{equation*}x^{2} - 2 x z - x + z^{2} + z + 1\\end{equation*}$\n"
      ],
      "text/plain": [
       " 2                2        \n",
       "x  - 2*x*z - x + z  + z + 1"
      ]
     },
     "execution_count": 27,
     "metadata": {},
     "output_type": "execute_result"
    }
   ],
   "source": [
    "h = f(z - x).expand()"
   ]
  },
  {
   "cell_type": "code",
   "execution_count": 28,
   "id": "06797430-c6f3-4eb4-9c3c-b3c1ad1cc3c1",
   "metadata": {},
   "outputs": [
    {
     "data": {
      "text/latex": [
       "$\\begin{equation*}3 x z^{2} + 3 x z - 2 z^{3} - 3 z^{2} - 3 z - 3\\end{equation*}$\n"
      ],
      "text/plain": [
       "     2              3      2          \n",
       "3*x*z  + 3*x*z - 2*z  - 3*z  - 3*z - 3"
      ]
     },
     "execution_count": 28,
     "metadata": {},
     "output_type": "execute_result"
    }
   ],
   "source": [
    "r = g - (x + 2z + 1)*h |> expand"
   ]
  },
  {
   "cell_type": "code",
   "execution_count": 29,
   "id": "d8c68661-2df5-4013-8852-bcdde8325fdd",
   "metadata": {},
   "outputs": [
    {
     "data": {
      "text/latex": [
       "$\\left[ \\begin{array}{r}3 z^{2} + 3 z\\\\2 z^{3} + 3 z^{2} + 3 z + 3\\end{array} \\right]$\n"
      ],
      "text/plain": [
       "2-element Vector{Sym}:\n",
       "             3*z^2 + 3*z\n",
       " 2*z^3 + 3*z^2 + 3*z + 3"
      ]
     },
     "execution_count": 29,
     "metadata": {},
     "output_type": "execute_result"
    }
   ],
   "source": [
    "Denom, Numer = sympy.Poly(r, x).coeffs() |> C -> [C[1], -C[2]]"
   ]
  },
  {
   "cell_type": "code",
   "execution_count": 30,
   "id": "11d33d8b-17eb-43fb-8fd4-fdabec8bf475",
   "metadata": {},
   "outputs": [
    {
     "data": {
      "text/latex": [
       "$\\begin{equation*}\\frac{2 z^{3} + 3 z^{2} + 3 z + 3}{3 z^{2} + 3 z}\\end{equation*}$\n"
      ],
      "text/plain": [
       "   3      2          \n",
       "2*z  + 3*z  + 3*z + 3\n",
       "---------------------\n",
       "         2           \n",
       "      3*z  + 3*z     "
      ]
     },
     "execution_count": 30,
     "metadata": {},
     "output_type": "execute_result"
    }
   ],
   "source": [
    "Numer / Denom"
   ]
  },
  {
   "cell_type": "code",
   "execution_count": 31,
   "id": "4f517488-2fb7-44f4-91d6-df796cb1977b",
   "metadata": {},
   "outputs": [
    {
     "data": {
      "text/latex": [
       "$\\begin{equation*}-3 + 3 \\cdot 2^{\\frac{2}{3}} + 3 \\sqrt[3]{2} \\sqrt{3} i\\end{equation*}$\n"
      ],
      "text/plain": [
       "        2/3     3 ___   ___  \n",
       "-3 + 3*2    + 3*\\/ 2 *\\/ 3 *I"
      ]
     },
     "execution_count": 31,
     "metadata": {},
     "output_type": "execute_result"
    }
   ],
   "source": [
    "denom = Denom(z => θ) |> expand |> simplify"
   ]
  },
  {
   "cell_type": "code",
   "execution_count": 32,
   "id": "12b4c149-7dd8-4da0-a833-ea171d152f41",
   "metadata": {},
   "outputs": [
    {
     "data": {
      "text/latex": [
       "$\\begin{equation*}- 3 \\sqrt[3]{2} + 6 + 3 \\cdot 2^{\\frac{2}{3}} \\sqrt{3} i\\end{equation*}$\n"
      ],
      "text/plain": [
       "    3 ___          2/3   ___  \n",
       "- 3*\\/ 2  + 6 + 3*2   *\\/ 3 *I"
      ]
     },
     "execution_count": 32,
     "metadata": {},
     "output_type": "execute_result"
    }
   ],
   "source": [
    "numer = Numer(z => θ) |> expand |> simplify"
   ]
  },
  {
   "cell_type": "code",
   "execution_count": 33,
   "id": "d05d10d7-dccc-40aa-b8e0-73dd67489733",
   "metadata": {},
   "outputs": [
    {
     "data": {
      "text/latex": [
       "$\\begin{equation*}\\frac{\\sqrt[3]{2} + 2 + 2 \\cdot 2^{\\frac{2}{3}}}{1 + 2^{\\frac{2}{3}} + 2 \\sqrt[3]{2}}\\end{equation*}$\n"
      ],
      "text/plain": [
       "3 ___          2/3\n",
       "\\/ 2  + 2 + 2*2   \n",
       "------------------\n",
       "     2/3     3 ___\n",
       "1 + 2    + 2*\\/ 2 "
      ]
     },
     "execution_count": 33,
     "metadata": {},
     "output_type": "execute_result"
    }
   ],
   "source": [
    "c = numer/denom |> simplify"
   ]
  },
  {
   "cell_type": "code",
   "execution_count": 34,
   "id": "0fd67f62-bcc5-45d9-914c-56c898a59ad4",
   "metadata": {},
   "outputs": [
    {
     "data": {
      "text/latex": [
       "$\\begin{equation*}1\\end{equation*}$\n"
      ],
      "text/plain": [
       "1"
      ]
     },
     "execution_count": 34,
     "metadata": {},
     "output_type": "execute_result"
    }
   ],
   "source": [
    "c / b |> simplify"
   ]
  },
  {
   "cell_type": "markdown",
   "id": "64c1e20d-524a-4b57-bbb8-6f89d7697204",
   "metadata": {},
   "source": [
    "## $\\theta = \\sqrt{-3} + \\sqrt[3]{2}$ の $\\mathbb{Q}$ 上での最小多項式"
   ]
  },
  {
   "cell_type": "code",
   "execution_count": 35,
   "id": "e48f36c5-235a-405b-bd70-3838b300d29b",
   "metadata": {},
   "outputs": [
    {
     "data": {
      "text/latex": [
       "$\\begin{equation*}\\sqrt{3} i\\end{equation*}$\n"
      ],
      "text/plain": [
       "  ___  \n",
       "\\/ 3 *I"
      ]
     },
     "execution_count": 35,
     "metadata": {},
     "output_type": "execute_result"
    }
   ],
   "source": [
    "a = √Sym(-3)"
   ]
  },
  {
   "cell_type": "code",
   "execution_count": 36,
   "id": "77e7b700-aa2a-473a-a4dd-ee5b1b75659b",
   "metadata": {},
   "outputs": [
    {
     "data": {
      "text/latex": [
       "$\\begin{equation*}\\sqrt[3]{2}\\end{equation*}$\n"
      ],
      "text/plain": [
       "3 ___\n",
       "\\/ 2 "
      ]
     },
     "execution_count": 36,
     "metadata": {},
     "output_type": "execute_result"
    }
   ],
   "source": [
    "b = Sym(2)^(1/Sym(3))"
   ]
  },
  {
   "cell_type": "code",
   "execution_count": 37,
   "id": "78c068b9-6e16-46da-8e25-af6e6e0b3288",
   "metadata": {},
   "outputs": [
    {
     "data": {
      "text/latex": [
       "$\\begin{equation*}\\sqrt[3]{2} + \\sqrt{3} i\\end{equation*}$\n"
      ],
      "text/plain": [
       "3 ___     ___  \n",
       "\\/ 2  + \\/ 3 *I"
      ]
     },
     "execution_count": 37,
     "metadata": {},
     "output_type": "execute_result"
    }
   ],
   "source": [
    "θ = a + b"
   ]
  },
  {
   "cell_type": "code",
   "execution_count": 38,
   "id": "ddac8004-8b00-4538-88ed-09344cd7544f",
   "metadata": {},
   "outputs": [
    {
     "data": {
      "text/latex": [
       "$\\begin{equation*}x^{6} + 9 x^{4} - 4 x^{3} + 27 x^{2} + 36 x + 31\\end{equation*}$\n"
      ],
      "text/plain": [
       " 6      4      3       2            \n",
       "x  + 9*x  - 4*x  + 27*x  + 36*x + 31"
      ]
     },
     "execution_count": 38,
     "metadata": {},
     "output_type": "execute_result"
    }
   ],
   "source": [
    "sympy.minimal_polynomial(θ, x)"
   ]
  },
  {
   "cell_type": "code",
   "execution_count": 39,
   "id": "bb959d96-8af5-4966-a87d-19145d6ba231",
   "metadata": {},
   "outputs": [
    {
     "data": {
      "text/latex": [
       "$\\begin{equation*}- \\frac{1}{2} + \\frac{\\sqrt{3} i}{2}\\end{equation*}$\n"
      ],
      "text/plain": [
       "        ___  \n",
       "  1   \\/ 3 *I\n",
       "- - + -------\n",
       "  2      2   "
      ]
     },
     "execution_count": 39,
     "metadata": {},
     "output_type": "execute_result"
    }
   ],
   "source": [
    "ω = (-1 + √Sym(-3))/2"
   ]
  },
  {
   "cell_type": "code",
   "execution_count": 40,
   "id": "3da1f0ea-222f-433d-80a9-bab8a3995a0e",
   "metadata": {},
   "outputs": [
    {
     "data": {
      "text/latex": [
       "$\\begin{equation*}0\\end{equation*}$\n"
      ],
      "text/plain": [
       "0"
      ]
     },
     "execution_count": 40,
     "metadata": {},
     "output_type": "execute_result"
    }
   ],
   "source": [
    "ω^2 + ω + 1 |> expand"
   ]
  },
  {
   "cell_type": "code",
   "execution_count": 41,
   "id": "45c5c979-7ddc-4e53-bc6e-823c1329d397",
   "metadata": {},
   "outputs": [
    {
     "data": {
      "text/latex": [
       "$\\begin{equation*}x^{6} + 9 x^{4} - 4 x^{3} + 27 x^{2} + 36 x + 31\\end{equation*}$\n"
      ],
      "text/plain": [
       " 6      4      3       2            \n",
       "x  + 9*x  - 4*x  + 27*x  + 36*x + 31"
      ]
     },
     "execution_count": 41,
     "metadata": {},
     "output_type": "execute_result"
    }
   ],
   "source": [
    "prod((x - (a + ω^k * b))*(x - (-a + ω^k * b)) for k in 0:2).expand()"
   ]
  },
  {
   "cell_type": "code",
   "execution_count": 42,
   "id": "585f5aca-e7a1-4f8f-a703-862ebca8f81d",
   "metadata": {},
   "outputs": [
    {
     "data": {
      "text/latex": [
       "$\\begin{equation*}x^{2} + 3\\end{equation*}$\n"
      ],
      "text/plain": [
       " 2    \n",
       "x  + 3"
      ]
     },
     "execution_count": 42,
     "metadata": {},
     "output_type": "execute_result"
    }
   ],
   "source": [
    "f = sympy.minimal_polynomial(a, x)"
   ]
  },
  {
   "cell_type": "code",
   "execution_count": 43,
   "id": "70494e71-236e-46f1-9bf7-c3edb11b3e19",
   "metadata": {},
   "outputs": [
    {
     "data": {
      "text/latex": [
       "$\\begin{equation*}x^{3} - 2\\end{equation*}$\n"
      ],
      "text/plain": [
       " 3    \n",
       "x  - 2"
      ]
     },
     "execution_count": 43,
     "metadata": {},
     "output_type": "execute_result"
    }
   ],
   "source": [
    "g = sympy.minimal_polynomial(b, x)"
   ]
  },
  {
   "cell_type": "code",
   "execution_count": 44,
   "id": "49063282-59ba-49ba-915f-8065818ff533",
   "metadata": {},
   "outputs": [
    {
     "data": {
      "text/latex": [
       "$\\begin{equation*}x^{2} - 2 x z + z^{2} + 3\\end{equation*}$\n"
      ],
      "text/plain": [
       " 2            2    \n",
       "x  - 2*x*z + z  + 3"
      ]
     },
     "execution_count": 44,
     "metadata": {},
     "output_type": "execute_result"
    }
   ],
   "source": [
    "h = f(z - x).expand()"
   ]
  },
  {
   "cell_type": "code",
   "execution_count": 45,
   "id": "4619881b-b86f-424e-b2ca-23f4395e9bfa",
   "metadata": {},
   "outputs": [
    {
     "data": {
      "text/latex": [
       "$\\begin{equation*}3 x z^{2} - 3 x - 2 z^{3} - 6 z - 2\\end{equation*}$\n"
      ],
      "text/plain": [
       "     2            3          \n",
       "3*x*z  - 3*x - 2*z  - 6*z - 2"
      ]
     },
     "execution_count": 45,
     "metadata": {},
     "output_type": "execute_result"
    }
   ],
   "source": [
    "r = g - (x + 2z)*h |> expand"
   ]
  },
  {
   "cell_type": "code",
   "execution_count": 46,
   "id": "58411ad3-2cf0-4cb9-abdc-e11406082e93",
   "metadata": {},
   "outputs": [
    {
     "data": {
      "text/latex": [
       "$\\left[ \\begin{array}{r}3 z^{2} - 3\\\\2 z^{3} + 6 z + 2\\end{array} \\right]$\n"
      ],
      "text/plain": [
       "2-element Vector{Sym}:\n",
       "       3*z^2 - 3\n",
       " 2*z^3 + 6*z + 2"
      ]
     },
     "execution_count": 46,
     "metadata": {},
     "output_type": "execute_result"
    }
   ],
   "source": [
    "Denom, Numer = sympy.Poly(r, x).coeffs() |> C -> [C[1], -C[2]]"
   ]
  },
  {
   "cell_type": "code",
   "execution_count": 47,
   "id": "1390ae36-4b87-4117-b45f-a3c3772d1a3c",
   "metadata": {},
   "outputs": [
    {
     "data": {
      "text/latex": [
       "$\\begin{equation*}\\frac{2 z^{3} + 6 z + 2}{3 z^{2} - 3}\\end{equation*}$\n"
      ],
      "text/plain": [
       "   3          \n",
       "2*z  + 6*z + 2\n",
       "--------------\n",
       "      2       \n",
       "   3*z  - 3   "
      ]
     },
     "execution_count": 47,
     "metadata": {},
     "output_type": "execute_result"
    }
   ],
   "source": [
    "Numer / Denom"
   ]
  },
  {
   "cell_type": "code",
   "execution_count": 48,
   "id": "a8e830e6-848f-4391-af2e-7e3a32192d87",
   "metadata": {},
   "outputs": [
    {
     "data": {
      "text/latex": [
       "$\\begin{equation*}-12 + 3 \\cdot 2^{\\frac{2}{3}} + 6 \\sqrt[3]{2} \\sqrt{3} i\\end{equation*}$\n"
      ],
      "text/plain": [
       "         2/3     3 ___   ___  \n",
       "-12 + 3*2    + 6*\\/ 2 *\\/ 3 *I"
      ]
     },
     "execution_count": 48,
     "metadata": {},
     "output_type": "execute_result"
    }
   ],
   "source": [
    "denom = Denom(z => θ) |> expand |> simplify"
   ]
  },
  {
   "cell_type": "code",
   "execution_count": 49,
   "id": "7cfbfbd1-cfd8-4915-847e-16ad1bfd8e6b",
   "metadata": {},
   "outputs": [
    {
     "data": {
      "text/latex": [
       "$\\begin{equation*}- 12 \\sqrt[3]{2} + 6 + 6 \\cdot 2^{\\frac{2}{3}} \\sqrt{3} i\\end{equation*}$\n"
      ],
      "text/plain": [
       "     3 ___          2/3   ___  \n",
       "- 12*\\/ 2  + 6 + 6*2   *\\/ 3 *I"
      ]
     },
     "execution_count": 49,
     "metadata": {},
     "output_type": "execute_result"
    }
   ],
   "source": [
    "numer = Numer(z => θ) |> expand |> simplify"
   ]
  },
  {
   "cell_type": "code",
   "execution_count": 50,
   "id": "5bf18a4b-ef64-47d7-bc71-54ba5c79ed4e",
   "metadata": {},
   "outputs": [
    {
     "data": {
      "text/latex": [
       "$\\begin{equation*}\\frac{2 \\cdot 2^{\\frac{2}{3}} + 8 + 16 \\sqrt[3]{2}}{2 \\sqrt[3]{2} + 4 \\cdot 2^{\\frac{2}{3}} + 16}\\end{equation*}$\n"
      ],
      "text/plain": [
       "   2/3          3 ___\n",
       "2*2    + 8 + 16*\\/ 2 \n",
       "---------------------\n",
       "  3 ___      2/3     \n",
       "2*\\/ 2  + 4*2    + 16"
      ]
     },
     "execution_count": 50,
     "metadata": {},
     "output_type": "execute_result"
    }
   ],
   "source": [
    "c = numer/denom |> simplify"
   ]
  },
  {
   "cell_type": "code",
   "execution_count": 51,
   "id": "874c5741-eabc-4f18-86a6-4d8070094d03",
   "metadata": {},
   "outputs": [
    {
     "data": {
      "text/latex": [
       "$\\begin{equation*}1\\end{equation*}$\n"
      ],
      "text/plain": [
       "1"
      ]
     },
     "execution_count": 51,
     "metadata": {},
     "output_type": "execute_result"
    }
   ],
   "source": [
    "c / b |> simplify"
   ]
  },
  {
   "cell_type": "markdown",
   "id": "e294bd61-6d69-4189-a97b-7c7bb987a616",
   "metadata": {},
   "source": [
    "## $\\theta = \\sqrt{2} + \\sqrt[5]{3}$ の $\\mathbb{Q}$ 上での最小多項式"
   ]
  },
  {
   "cell_type": "code",
   "execution_count": 52,
   "id": "8bd777b2-1542-405e-aa2f-cd077239fed3",
   "metadata": {},
   "outputs": [
    {
     "data": {
      "text/latex": [
       "$\\begin{equation*}\\sqrt{2}\\end{equation*}$\n"
      ],
      "text/plain": [
       "  ___\n",
       "\\/ 2 "
      ]
     },
     "execution_count": 52,
     "metadata": {},
     "output_type": "execute_result"
    }
   ],
   "source": [
    "a = √Sym(2)"
   ]
  },
  {
   "cell_type": "code",
   "execution_count": 53,
   "id": "34d7ec1f-4a7e-40b3-bae1-6ec8c2965fed",
   "metadata": {},
   "outputs": [
    {
     "data": {
      "text/latex": [
       "$\\begin{equation*}\\sqrt[5]{3}\\end{equation*}$\n"
      ],
      "text/plain": [
       "5 ___\n",
       "\\/ 3 "
      ]
     },
     "execution_count": 53,
     "metadata": {},
     "output_type": "execute_result"
    }
   ],
   "source": [
    "b = Sym(3)^(1/Sym(5))"
   ]
  },
  {
   "cell_type": "code",
   "execution_count": 54,
   "id": "df38cd2d-e53b-4aa8-b32e-b1321941e03e",
   "metadata": {},
   "outputs": [
    {
     "data": {
      "text/latex": [
       "$\\begin{equation*}\\sqrt[5]{3} + \\sqrt{2}\\end{equation*}$\n"
      ],
      "text/plain": [
       "5 ___     ___\n",
       "\\/ 3  + \\/ 2 "
      ]
     },
     "execution_count": 54,
     "metadata": {},
     "output_type": "execute_result"
    }
   ],
   "source": [
    "θ = a + b"
   ]
  },
  {
   "cell_type": "code",
   "execution_count": 55,
   "id": "46b5b3b7-fa66-4e66-b5e8-5e71930d5db3",
   "metadata": {},
   "outputs": [
    {
     "data": {
      "text/latex": [
       "$\\begin{equation*}x^{10} - 10 x^{8} + 40 x^{6} - 6 x^{5} - 80 x^{4} - 120 x^{3} + 80 x^{2} - 120 x - 23\\end{equation*}$\n"
      ],
      "text/plain": [
       " 10       8       6      5       4        3       2             \n",
       "x   - 10*x  + 40*x  - 6*x  - 80*x  - 120*x  + 80*x  - 120*x - 23"
      ]
     },
     "execution_count": 55,
     "metadata": {},
     "output_type": "execute_result"
    }
   ],
   "source": [
    "sympy.minimal_polynomial(θ, x)"
   ]
  },
  {
   "cell_type": "code",
   "execution_count": 56,
   "id": "b57bf82b-97c5-4c1c-b890-8320d53f9982",
   "metadata": {},
   "outputs": [
    {
     "data": {
      "text/latex": [
       "$\\begin{equation*}- \\frac{1}{4} + \\frac{\\sqrt{5}}{4} + i \\sqrt{\\frac{\\sqrt{5}}{8} + \\frac{5}{8}}\\end{equation*}$\n"
      ],
      "text/plain": [
       "                     ___________\n",
       "        ___         /   ___     \n",
       "  1   \\/ 5         /  \\/ 5    5 \n",
       "- - + ----- + I*  /   ----- + - \n",
       "  4     4       \\/      8     8 "
      ]
     },
     "execution_count": 56,
     "metadata": {},
     "output_type": "execute_result"
    }
   ],
   "source": [
    "ω = cos(2PI/5) + im*sin(2PI/5)"
   ]
  },
  {
   "cell_type": "code",
   "execution_count": 57,
   "id": "edba4e10-1d88-4499-a88b-6c54c13da729",
   "metadata": {},
   "outputs": [
    {
     "data": {
      "text/latex": [
       "$\\begin{equation*}0\\end{equation*}$\n"
      ],
      "text/plain": [
       "0"
      ]
     },
     "execution_count": 57,
     "metadata": {},
     "output_type": "execute_result"
    }
   ],
   "source": [
    "ω^4 + ω^3 + ω^2 + ω + 1 |> expand"
   ]
  },
  {
   "cell_type": "code",
   "execution_count": 58,
   "id": "1c1340ec-b69d-426b-9cf6-7c8fabc81237",
   "metadata": {},
   "outputs": [
    {
     "data": {
      "text/latex": [
       "$\\begin{equation*}x^{10} - 10 x^{8} + 40 x^{6} - 6 x^{5} - 80 x^{4} - 120 x^{3} + 80 x^{2} - 120 x - 23\\end{equation*}$\n"
      ],
      "text/plain": [
       " 10       8       6      5       4        3       2             \n",
       "x   - 10*x  + 40*x  - 6*x  - 80*x  - 120*x  + 80*x  - 120*x - 23"
      ]
     },
     "execution_count": 58,
     "metadata": {},
     "output_type": "execute_result"
    }
   ],
   "source": [
    "prod((x - (a + ω^k * b))*(x - (-a + ω^k * b)) for k in 0:4).expand()"
   ]
  },
  {
   "cell_type": "code",
   "execution_count": 59,
   "id": "12847436-2565-4b2a-9576-eaab5acc5064",
   "metadata": {},
   "outputs": [
    {
     "data": {
      "text/latex": [
       "$\\begin{equation*}x^{2} - 2\\end{equation*}$\n"
      ],
      "text/plain": [
       " 2    \n",
       "x  - 2"
      ]
     },
     "execution_count": 59,
     "metadata": {},
     "output_type": "execute_result"
    }
   ],
   "source": [
    "f = sympy.minimal_polynomial(a, x)"
   ]
  },
  {
   "cell_type": "code",
   "execution_count": 60,
   "id": "669c1519-49ff-4c37-b740-ffcb2fff6e7e",
   "metadata": {},
   "outputs": [
    {
     "data": {
      "text/latex": [
       "$\\begin{equation*}x^{5} - 3\\end{equation*}$\n"
      ],
      "text/plain": [
       " 5    \n",
       "x  - 3"
      ]
     },
     "execution_count": 60,
     "metadata": {},
     "output_type": "execute_result"
    }
   ],
   "source": [
    "g = sympy.minimal_polynomial(b, x)"
   ]
  },
  {
   "cell_type": "code",
   "execution_count": 61,
   "id": "6efc95e4-94c3-49d9-9144-dcb8a19eac85",
   "metadata": {},
   "outputs": [
    {
     "data": {
      "text/latex": [
       "$\\begin{equation*}x^{2} - 2 x z + z^{2} - 2\\end{equation*}$\n"
      ],
      "text/plain": [
       " 2            2    \n",
       "x  - 2*x*z + z  - 2"
      ]
     },
     "execution_count": 61,
     "metadata": {},
     "output_type": "execute_result"
    }
   ],
   "source": [
    "h = f(z - x).expand()"
   ]
  },
  {
   "cell_type": "code",
   "execution_count": 62,
   "id": "91a3a566-3dbc-4e68-8307-1f32ca9ca4fa",
   "metadata": {},
   "outputs": [
    {
     "data": {
      "text/latex": [
       "$\\begin{equation*}5 x z^{4} + 20 x z^{2} + 4 x - 4 z^{5} + 16 z - 3\\end{equation*}$\n"
      ],
      "text/plain": [
       "     4         2            5           \n",
       "5*x*z  + 20*x*z  + 4*x - 4*z  + 16*z - 3"
      ]
     },
     "execution_count": 62,
     "metadata": {},
     "output_type": "execute_result"
    }
   ],
   "source": [
    "r = g - (x^3 + 2z*x^2 + (3z^2+2)*x + 4z^3+8z)*h |> expand"
   ]
  },
  {
   "cell_type": "code",
   "execution_count": 63,
   "id": "b8487ae7-5ce1-4716-9763-7411f7b0cb4b",
   "metadata": {},
   "outputs": [
    {
     "data": {
      "text/latex": [
       "$\\left[ \\begin{array}{r}5 z^{4} + 20 z^{2} + 4\\\\4 z^{5} - 16 z + 3\\end{array} \\right]$\n"
      ],
      "text/plain": [
       "2-element Vector{Sym}:\n",
       " 5*z^4 + 20*z^2 + 4\n",
       "   4*z^5 - 16*z + 3"
      ]
     },
     "execution_count": 63,
     "metadata": {},
     "output_type": "execute_result"
    }
   ],
   "source": [
    "Denom, Numer = sympy.Poly(r, x).coeffs() |> C -> [C[1], -C[2]]"
   ]
  },
  {
   "cell_type": "code",
   "execution_count": 64,
   "id": "8c71eb61-ca33-4ffa-af09-9db2ce67fbd5",
   "metadata": {},
   "outputs": [
    {
     "data": {
      "text/latex": [
       "$\\begin{equation*}\\frac{4 z^{5} - 16 z + 3}{5 z^{4} + 20 z^{2} + 4}\\end{equation*}$\n"
      ],
      "text/plain": [
       "   5            \n",
       "4*z  - 16*z + 3 \n",
       "----------------\n",
       "   4       2    \n",
       "5*z  + 20*z  + 4"
      ]
     },
     "execution_count": 64,
     "metadata": {},
     "output_type": "execute_result"
    }
   ],
   "source": [
    "Numer / Denom"
   ]
  },
  {
   "cell_type": "code",
   "execution_count": 65,
   "id": "e4aea1e7-6c96-410e-87b5-9e48c0939716",
   "metadata": {},
   "outputs": [
    {
     "data": {
      "text/latex": [
       "$\\begin{equation*}5 \\cdot 3^{\\frac{4}{5}} + 20 \\sqrt{2} \\cdot 3^{\\frac{3}{5}} + 64 + 80 \\cdot 3^{\\frac{2}{5}} + 80 \\sqrt{2} \\sqrt[5]{3}\\end{equation*}$\n"
      ],
      "text/plain": [
       "   4/5        ___  3/5            2/5        ___ 5 ___\n",
       "5*3    + 20*\\/ 2 *3    + 64 + 80*3    + 80*\\/ 2 *\\/ 3 "
      ]
     },
     "execution_count": 65,
     "metadata": {},
     "output_type": "execute_result"
    }
   ],
   "source": [
    "denom = Denom(z => θ) |> expand |> simplify"
   ]
  },
  {
   "cell_type": "code",
   "execution_count": 66,
   "id": "334d2bc8-1143-4b38-99fe-9a34f93cdb32",
   "metadata": {},
   "outputs": [
    {
     "data": {
      "text/latex": [
       "$\\begin{equation*}15 + 20 \\sqrt{2} \\cdot 3^{\\frac{4}{5}} + 64 \\sqrt[5]{3} + 80 \\cdot 3^{\\frac{3}{5}} + 80 \\sqrt{2} \\cdot 3^{\\frac{2}{5}}\\end{equation*}$\n"
      ],
      "text/plain": [
       "          ___  4/5      5 ___       3/5        ___  2/5\n",
       "15 + 20*\\/ 2 *3    + 64*\\/ 3  + 80*3    + 80*\\/ 2 *3   "
      ]
     },
     "execution_count": 66,
     "metadata": {},
     "output_type": "execute_result"
    }
   ],
   "source": [
    "numer = Numer(z => θ) |> expand |> simplify"
   ]
  },
  {
   "cell_type": "code",
   "execution_count": 67,
   "id": "422e4186-ea0a-4375-b421-3b5b3e875410",
   "metadata": {},
   "outputs": [
    {
     "data": {
      "text/latex": [
       "$\\begin{equation*}\\frac{- 2560 \\cdot 3^{\\frac{3}{5}} + 75 \\cdot 3^{\\frac{4}{5}} + 1920 + 4096 \\sqrt[5]{3}}{- 2560 \\cdot 3^{\\frac{2}{5}} + 75 \\cdot 3^{\\frac{3}{5}} + 640 \\cdot 3^{\\frac{4}{5}} + 4096}\\end{equation*}$\n"
      ],
      "text/plain": [
       "        3/5       4/5               5 ___\n",
       "- 2560*3    + 75*3    + 1920 + 4096*\\/ 3 \n",
       "-----------------------------------------\n",
       "         2/5       3/5        4/5        \n",
       " - 2560*3    + 75*3    + 640*3    + 4096 "
      ]
     },
     "execution_count": 67,
     "metadata": {},
     "output_type": "execute_result"
    }
   ],
   "source": [
    "c = numer/denom |> simplify"
   ]
  },
  {
   "cell_type": "code",
   "execution_count": 68,
   "id": "e33c934a-2910-439b-9c55-c21af98ef453",
   "metadata": {},
   "outputs": [
    {
     "data": {
      "text/latex": [
       "$\\begin{equation*}1\\end{equation*}$\n"
      ],
      "text/plain": [
       "1"
      ]
     },
     "execution_count": 68,
     "metadata": {},
     "output_type": "execute_result"
    }
   ],
   "source": [
    "c / b |> simplify"
   ]
  },
  {
   "cell_type": "code",
   "execution_count": null,
   "id": "be5ead95-75cd-429c-bfc8-ba09366d83cf",
   "metadata": {},
   "outputs": [],
   "source": []
  }
 ],
 "metadata": {
  "jupytext": {
   "formats": "ipynb,jl:hydrogen"
  },
  "kernelspec": {
   "display_name": "Julia 1.6.3",
   "language": "julia",
   "name": "julia-1.6"
  },
  "language_info": {
   "file_extension": ".jl",
   "mimetype": "application/julia",
   "name": "julia",
   "version": "1.6.3"
  }
 },
 "nbformat": 4,
 "nbformat_minor": 5
}
