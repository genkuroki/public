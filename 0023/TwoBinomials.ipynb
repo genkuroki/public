{
 "cells": [
  {
   "cell_type": "code",
   "execution_count": 8,
   "id": "75cd2ecb-bd2f-4859-b3fa-2831e59a248f",
   "metadata": {},
   "outputs": [],
   "source": [
    "using Distributions\n",
    "\n",
    "struct TwoBinomials{T<:Real} <: DiscreteMultivariateDistribution\n",
    "    m::Int\n",
    "    p::T\n",
    "    n::Int\n",
    "    q::T\n",
    "end\n",
    "\n",
    "Base.length(d::TwoBinomials) = 4\n",
    "Base.eltype(d::TwoBinomials) = Int\n",
    "Distributions.params(d::TwoBinomials) = (d.m, d.p, d.n, d.q)\n",
    "\n",
    "function Distributions._rand!(rng::Distributions.AbstractRNG, d::TwoBinomials, x::AbstractVector)\n",
    "    k = rand(rng, Binomial(d.m, d.p))\n",
    "    l = rand(rng, Binomial(d.n, d.q))\n",
    "    @inbounds x[1], x[2], x[3], x[4] = k, l, d.m - k, d.n - l\n",
    "    x\n",
    "end\n",
    "\n",
    "function Distributions._rand!(rng::Distributions.AbstractRNG, d::TwoBinomials, x::AbstractMatrix)\n",
    "    @inbounds for j in axes(x, 2) \n",
    "        k = rand(rng, Binomial(d.m, d.p))\n",
    "        l = rand(rng, Binomial(d.n, d.q))\n",
    "        x[1,j], x[2,j], x[3,j], x[4,j] = k, l, d.m - k, d.n - l\n",
    "    end\n",
    "    x\n",
    "end\n",
    "\n",
    "function Distributions._logpdf(d::TwoBinomials, x::AbstractVector)\n",
    "    x[1] + x[3] == d.m || x[2] + x[4] == d.m || return -Inf\n",
    "    logpdf(Binomial(d.m, d.p), x[1]) + logpdf(Binomial(d.n, d.q), x[2]) \n",
    "end\n",
    "\n",
    "Distributions.mean(d::TwoBinomials) = [d.m*d.p, d.n*d.q, d.m*(1 - d.p), d.n*(1 - d.q)]"
   ]
  },
  {
   "cell_type": "code",
   "execution_count": 2,
   "id": "5bba6096-2f86-4949-96d3-7fd275bc8b2c",
   "metadata": {},
   "outputs": [
    {
     "data": {
      "text/plain": [
       "TwoBinomials{Float64}(m=10, p=0.25, n=20, q=0.75)"
      ]
     },
     "execution_count": 2,
     "metadata": {},
     "output_type": "execute_result"
    }
   ],
   "source": [
    "d = TwoBinomials(10, 0.25, 20, 0.75)"
   ]
  },
  {
   "cell_type": "code",
   "execution_count": 9,
   "id": "1eb6963f-948c-41c5-9219-19f5b45c8975",
   "metadata": {},
   "outputs": [
    {
     "data": {
      "text/plain": [
       "(10, 0.25, 20, 0.75)"
      ]
     },
     "execution_count": 9,
     "metadata": {},
     "output_type": "execute_result"
    }
   ],
   "source": [
    "params(d)"
   ]
  },
  {
   "cell_type": "code",
   "execution_count": 3,
   "id": "a77f84ca-8637-44a7-a201-feb211fafb6e",
   "metadata": {},
   "outputs": [
    {
     "data": {
      "text/plain": [
       "4-element Vector{Int64}:\n",
       "  3\n",
       " 15\n",
       "  7\n",
       "  5"
      ]
     },
     "execution_count": 3,
     "metadata": {},
     "output_type": "execute_result"
    }
   ],
   "source": [
    "rand(d)"
   ]
  },
  {
   "cell_type": "code",
   "execution_count": 4,
   "id": "95066eee-4e7b-45d0-9146-3b04cafbd9ff",
   "metadata": {},
   "outputs": [
    {
     "data": {
      "text/plain": [
       "4×16 Matrix{Int64}:\n",
       "  3   4   5   0   3   1   3   2   2   3   5   4   1   2   4   1\n",
       " 13  15  17  17  17  14  17  13  14  17  15  15  11  16  17  17\n",
       "  7   6   5  10   7   9   7   8   8   7   5   6   9   8   6   9\n",
       "  7   5   3   3   3   6   3   7   6   3   5   5   9   4   3   3"
      ]
     },
     "execution_count": 4,
     "metadata": {},
     "output_type": "execute_result"
    }
   ],
   "source": [
    "rand(d, 16)"
   ]
  },
  {
   "cell_type": "code",
   "execution_count": 5,
   "id": "706a274b-8c9f-4894-8b68-cee6262dab8e",
   "metadata": {},
   "outputs": [
    {
     "data": {
      "text/plain": [
       "0.04747490956783132"
      ]
     },
     "execution_count": 5,
     "metadata": {},
     "output_type": "execute_result"
    }
   ],
   "source": [
    "pdf(d, [3, 16, d.m-3, d.n-16])"
   ]
  },
  {
   "cell_type": "code",
   "execution_count": 6,
   "id": "a14e8631-2d90-4311-a348-1e1a75824043",
   "metadata": {},
   "outputs": [
    {
     "data": {
      "text/plain": [
       "4-element Vector{Float64}:\n",
       "  2.5\n",
       " 15.0\n",
       "  7.5\n",
       "  5.0"
      ]
     },
     "execution_count": 6,
     "metadata": {},
     "output_type": "execute_result"
    }
   ],
   "source": [
    "mean(d)"
   ]
  },
  {
   "cell_type": "code",
   "execution_count": null,
   "id": "3f296b73-4c81-4422-bd0f-26ac18626bc9",
   "metadata": {},
   "outputs": [],
   "source": []
  }
 ],
 "metadata": {
  "jupytext": {
   "formats": "ipynb,jl:hydrogen"
  },
  "kernelspec": {
   "display_name": "Julia 1.6.3",
   "language": "julia",
   "name": "julia-1.6"
  },
  "language_info": {
   "file_extension": ".jl",
   "mimetype": "application/julia",
   "name": "julia",
   "version": "1.6.3"
  }
 },
 "nbformat": 4,
 "nbformat_minor": 5
}
