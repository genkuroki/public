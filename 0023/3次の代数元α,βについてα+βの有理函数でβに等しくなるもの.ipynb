{
 "cells": [
  {
   "cell_type": "code",
   "execution_count": 1,
   "id": "0f1a5511-aceb-46b4-ae02-702ed1f4266b",
   "metadata": {
    "tags": []
   },
   "outputs": [
    {
     "data": {
      "text/plain": [
       "(X, t, a, b, c, p, q, r, α, β)"
      ]
     },
     "execution_count": 1,
     "metadata": {},
     "output_type": "execute_result"
    }
   ],
   "source": [
    "using SymPy\n",
    "@vars X t a b c p q r α β"
   ]
  },
  {
   "cell_type": "code",
   "execution_count": 2,
   "id": "46943a0f-4e1e-4b7e-be07-69570b0871b2",
   "metadata": {
    "tags": []
   },
   "outputs": [
    {
     "data": {
      "text/latex": [
       "$\\begin{equation*}X^{3} + X^{2} a + X b + c\\end{equation*}$\n"
      ],
      "text/plain": [
       " 3    2            \n",
       "X  + X *a + X*b + c"
      ]
     },
     "execution_count": 2,
     "metadata": {},
     "output_type": "execute_result"
    }
   ],
   "source": [
    "f = X^3 + a*X^2 + b*X + c"
   ]
  },
  {
   "cell_type": "code",
   "execution_count": 3,
   "id": "c394bed3-99ab-4da6-bc92-de80973206f6",
   "metadata": {},
   "outputs": [
    {
     "data": {
      "text/latex": [
       "$\\begin{equation*}X^{3} + X^{2} p + X q + r\\end{equation*}$\n"
      ],
      "text/plain": [
       " 3    2            \n",
       "X  + X *p + X*q + r"
      ]
     },
     "execution_count": 3,
     "metadata": {},
     "output_type": "execute_result"
    }
   ],
   "source": [
    "g = X^3 + p*X^2 + q*X + r"
   ]
  },
  {
   "cell_type": "code",
   "execution_count": 4,
   "id": "23285437-6596-43b1-82d2-729dea3f077c",
   "metadata": {},
   "outputs": [
    {
     "data": {
      "text/latex": [
       "$\\begin{equation*}X^{3} - X^{2} a - 3 X^{2} t + 2 X a t + X b + 3 X t^{2} - a t^{2} - b t - c - t^{3}\\end{equation*}$\n"
      ],
      "text/plain": [
       " 3    2        2                          2      2              3\n",
       "X  - X *a - 3*X *t + 2*X*a*t + X*b + 3*X*t  - a*t  - b*t - c - t "
      ]
     },
     "execution_count": 4,
     "metadata": {},
     "output_type": "execute_result"
    }
   ],
   "source": [
    "h = -f(X => t - X).expand()"
   ]
  },
  {
   "cell_type": "code",
   "execution_count": 5,
   "id": "8f18a816-4afe-4e78-aac9-cc4e73439852",
   "metadata": {},
   "outputs": [
    {
     "data": {
      "text/latex": [
       "$\\begin{equation*}X^{2} a + X^{2} p + 3 X^{2} t - 2 X a t - X b + X q - 3 X t^{2} + a t^{2} + b t + c + r + t^{3}\\end{equation*}$\n"
      ],
      "text/plain": [
       " 2      2        2                                2      2                  3\n",
       "X *a + X *p + 3*X *t - 2*X*a*t - X*b + X*q - 3*X*t  + a*t  + b*t + c + r + t "
      ]
     },
     "execution_count": 5,
     "metadata": {},
     "output_type": "execute_result"
    }
   ],
   "source": [
    "h1 = g - h"
   ]
  },
  {
   "cell_type": "code",
   "execution_count": 6,
   "id": "83488e64-3460-496d-b201-2e50744a84a3",
   "metadata": {},
   "outputs": [
    {
     "data": {
      "text/latex": [
       "$\\begin{equation*}2 X a^{2} p t + X a^{2} q + 3 X a^{2} t^{2} + X a b p + 3 X a b t - X a c + 2 X a p^{2} t + X a p q + 8 X a p t^{2} + 2 X a q t - X a r + 8 X a t^{3} + X b^{2} + X b p^{2} + 2 X b p t - 2 X b q + 3 X b t^{2} - X c p - 3 X c t + 3 X p^{2} t^{2} + 3 X p q t - X p r + 8 X p t^{3} + X q^{2} + 3 X q t^{2} - 3 X r t + 6 X t^{4} - a^{2} p t^{2} + a^{2} r - 2 a^{2} t^{3} - a b p t - 3 a b t^{2} - a c p - 2 a c t - a p^{2} t^{2} + a p r - 4 a p t^{3} + a q t^{2} + 4 a r t - 5 a t^{4} - b^{2} t - b c - b p^{2} t - 3 b p t^{2} + b q t - b r - 4 b t^{3} - c p^{2} - 3 c p t + c q - 3 c t^{2} - p^{2} t^{3} + 3 p r t - 3 p t^{4} + q r + q t^{3} + 6 r t^{2} - 3 t^{5}\\end{equation*}$\n"
      ],
      "text/plain": [
       "     2          2          2  2                                        2      \n",
       "2*X*a *p*t + X*a *q + 3*X*a *t  + X*a*b*p + 3*X*a*b*t - X*a*c + 2*X*a*p *t + X\n",
       "\n",
       "                  2                              3      2        2            \n",
       "*a*p*q + 8*X*a*p*t  + 2*X*a*q*t - X*a*r + 8*X*a*t  + X*b  + X*b*p  + 2*X*b*p*t\n",
       "\n",
       "                    2                          2  2                           \n",
       " - 2*X*b*q + 3*X*b*t  - X*c*p - 3*X*c*t + 3*X*p *t  + 3*X*p*q*t - X*p*r + 8*X*\n",
       "\n",
       "   3      2          2                  4    2    2    2        2  3          \n",
       "p*t  + X*q  + 3*X*q*t  - 3*X*r*t + 6*X*t  - a *p*t  + a *r - 2*a *t  - a*b*p*t\n",
       "\n",
       "          2                        2  2                  3        2           \n",
       " - 3*a*b*t  - a*c*p - 2*a*c*t - a*p *t  + a*p*r - 4*a*p*t  + a*q*t  + 4*a*r*t \n",
       "\n",
       "       4    2              2            2                      3      2       \n",
       "- 5*a*t  - b *t - b*c - b*p *t - 3*b*p*t  + b*q*t - b*r - 4*b*t  - c*p  - 3*c*\n",
       "\n",
       "                 2    2  3                  4            3        2      5\n",
       "p*t + c*q - 3*c*t  - p *t  + 3*p*r*t - 3*p*t  + q*r + q*t  + 6*r*t  - 3*t "
      ]
     },
     "execution_count": 6,
     "metadata": {},
     "output_type": "execute_result"
    }
   ],
   "source": [
    "h2 = (a + p + 3t)^2*h - ((a + p + 3t)*X + (-a^2 - a*p - 4a*t + b - 3p*t - q - 6t^2))*h1 |> expand |> simplify"
   ]
  },
  {
   "cell_type": "code",
   "execution_count": 7,
   "id": "195df1f6-df95-47e0-aae7-c4764f2ea9bb",
   "metadata": {},
   "outputs": [],
   "source": [
    "Denom, Numer = sympy.Poly(h2, X).coeffs() |> C -> [C[1], -C[2]];"
   ]
  },
  {
   "cell_type": "code",
   "execution_count": 8,
   "id": "f44c5e97-6fc9-4908-a27c-0cd53b822fb6",
   "metadata": {},
   "outputs": [
    {
     "data": {
      "text/latex": [
       "$\\begin{equation*}\\operatorname{Poly}{\\left( 6 t^{4} + \\left(8 a + 8 p\\right) t^{3} + \\left(3 a^{2} + 8 a p + 3 b + 3 p^{2} + 3 q\\right) t^{2} + \\left(2 a^{2} p + 3 a b + 2 a p^{2} + 2 a q + 2 b p - 3 c + 3 p q - 3 r\\right) t + a^{2} q + a b p - a c + a p q - a r + b^{2} + b p^{2} - 2 b q - c p - p r + q^{2}, t, domain=\\mathbb{Z}\\left[p, q, r, a, b, c\\right] \\right)}\\end{equation*}$\n"
      ],
      "text/plain": [
       "Poly(6*t**4 + (8*a + 8*p)*t**3 + (3*a**2 + 8*a*p + 3*b + 3*p**2 + 3*q)*t**2 + \n",
       "(2*a**2*p + 3*a*b + 2*a*p**2 + 2*a*q + 2*b*p - 3*c + 3*p*q - 3*r)*t + a**2*q +\n",
       " a*b*p - a*c + a*p*q - a*r + b**2 + b*p**2 - 2*b*q - c*p - p*r + q**2, t, doma\n",
       "in='ZZ[p,q,r,a,b,c]')"
      ]
     },
     "execution_count": 8,
     "metadata": {},
     "output_type": "execute_result"
    }
   ],
   "source": [
    "DENOM = sympy.Poly(Denom, t)"
   ]
  },
  {
   "cell_type": "code",
   "execution_count": 9,
   "id": "29598d42-7003-4ac1-9ee0-b77df86c5ac4",
   "metadata": {},
   "outputs": [
    {
     "data": {
      "text/latex": [
       "$\\begin{equation*}\\operatorname{Poly}{\\left( 3 t^{5} + \\left(5 a + 3 p\\right) t^{4} + \\left(2 a^{2} + 4 a p + 4 b + p^{2} - q\\right) t^{3} + \\left(a^{2} p + 3 a b + a p^{2} - a q + 3 b p + 3 c - 6 r\\right) t^{2} + \\left(a b p + 2 a c - 4 a r + b^{2} + b p^{2} - b q + 3 c p - 3 p r\\right) t -  a^{2} r + a c p - a p r + b c + b r + c p^{2} - c q - q r, t, domain=\\mathbb{Z}\\left[p, q, r, a, b, c\\right] \\right)}\\end{equation*}$\n"
      ],
      "text/plain": [
       "Poly(3*t**5 + (5*a + 3*p)*t**4 + (2*a**2 + 4*a*p + 4*b + p**2 - q)*t**3 + (a**\n",
       "2*p + 3*a*b + a*p**2 - a*q + 3*b*p + 3*c - 6*r)*t**2 + (a*b*p + 2*a*c - 4*a*r \n",
       "+ b**2 + b*p**2 - b*q + 3*c*p - 3*p*r)*t - a**2*r + a*c*p - a*p*r + b*c + b*r \n",
       "+ c*p**2 - c*q - q*r, t, domain='ZZ[p,q,r,a,b,c]')"
      ]
     },
     "execution_count": 9,
     "metadata": {},
     "output_type": "execute_result"
    }
   ],
   "source": [
    "NUMER = sympy.Poly(Numer, t)"
   ]
  },
  {
   "cell_type": "code",
   "execution_count": 10,
   "id": "9e021f9a-84c4-42db-a1cc-fa7c4a3633d9",
   "metadata": {},
   "outputs": [
    {
     "data": {
      "text/latex": [
       "$\\begin{equation*}2 a^{2} p α β - a^{2} p β^{2} - 2 a^{2} q β - 3 a^{2} r + a^{2} α^{2} β + 6 a^{2} α β^{2} + a b p β + a b α β + 3 a b β^{2} - 3 a c β + 2 a p^{2} α β + 2 a p^{2} β^{2} + a p q β - 8 a p α β^{2} - 22 a q α β - 6 a q β^{2} - 24 a r α - 9 a r β + b^{2} β + b p^{2} β - 6 b p α β - b p β^{2} - 5 b q β - 3 b r - 3 b α^{2} β - 18 b α β^{2} - 9 c p β - 9 c α β - 27 c β^{2} - p^{3} β^{2} - p^{2} q β - p^{2} r + 3 p^{2} α^{2} β + 6 p^{2} α β^{2} + 3 p q α β + 4 p q β^{2} - 3 p r β - 12 p α^{2} β^{2} + 4 q^{2} β + 3 q r - 33 q α^{2} β - 18 q α β^{2} - 36 r α^{2} - 27 r α β - 9 r β^{2}\\end{equation*}$\n"
      ],
      "text/plain": [
       "   2          2    2      2          2      2  2        2    2                \n",
       "2*a *p*α*β - a *p*β  - 2*a *q*β - 3*a *r + a *α *β + 6*a *α*β  + a*b*p*β + a*b\n",
       "\n",
       "              2                  2            2  2                      2     \n",
       "*α*β + 3*a*b*β  - 3*a*c*β + 2*a*p *α*β + 2*a*p *β  + a*p*q*β - 8*a*p*α*β  - 22\n",
       "\n",
       "                  2                         2        2                      2 \n",
       "*a*q*α*β - 6*a*q*β  - 24*a*r*α - 9*a*r*β + b *β + b*p *β - 6*b*p*α*β - b*p*β  \n",
       "\n",
       "                         2             2                             2    3  2\n",
       "- 5*b*q*β - 3*b*r - 3*b*α *β - 18*b*α*β  - 9*c*p*β - 9*c*α*β - 27*c*β  - p *β \n",
       "\n",
       "    2        2        2  2        2    2                      2               \n",
       " - p *q*β - p *r + 3*p *α *β + 6*p *α*β  + 3*p*q*α*β + 4*p*q*β  - 3*p*r*β - 12\n",
       "\n",
       "    2  2      2                   2             2         2                   \n",
       "*p*α *β  + 4*q *β + 3*q*r - 33*q*α *β - 18*q*α*β  - 36*r*α  - 27*r*α*β - 9*r*β\n",
       "\n",
       "2\n",
       " "
      ]
     },
     "execution_count": 10,
     "metadata": {},
     "output_type": "execute_result"
    }
   ],
   "source": [
    "βdenom = (β * Denom(t => α + β)).expand()(α^5 => α^5 - α^2*f(X=>α), β^5 => β^5 - β^2*g(X=>β)).expand()(α^4 => α^4 - α*f(X=>α), β^4 => β^4 - β*g(X=>β)).expand().(α^3 => α^3 - f(X=>α), β^3 => β^3 - g(X=>β)).expand()"
   ]
  },
  {
   "cell_type": "code",
   "execution_count": 11,
   "id": "78a85583-dba6-4d8b-84e2-1b32a2999064",
   "metadata": {},
   "outputs": [
    {
     "data": {
      "text/latex": [
       "$\\begin{equation*}2 a^{2} p α β - a^{2} p β^{2} - 2 a^{2} q β - 3 a^{2} r + a^{2} α^{2} β + 6 a^{2} α β^{2} + a b p β + a b α β + 3 a b β^{2} - 3 a c β + 2 a p^{2} α β + 2 a p^{2} β^{2} + a p q β - 8 a p α β^{2} - 22 a q α β - 6 a q β^{2} - 24 a r α - 9 a r β + b^{2} β + b p^{2} β - 6 b p α β - b p β^{2} - 5 b q β - 3 b r - 3 b α^{2} β - 18 b α β^{2} - 9 c p β - 9 c α β - 27 c β^{2} - p^{3} β^{2} - p^{2} q β - p^{2} r + 3 p^{2} α^{2} β + 6 p^{2} α β^{2} + 3 p q α β + 4 p q β^{2} - 3 p r β - 12 p α^{2} β^{2} + 4 q^{2} β + 3 q r - 33 q α^{2} β - 18 q α β^{2} - 36 r α^{2} - 27 r α β - 9 r β^{2}\\end{equation*}$\n"
      ],
      "text/plain": [
       "   2          2    2      2          2      2  2        2    2                \n",
       "2*a *p*α*β - a *p*β  - 2*a *q*β - 3*a *r + a *α *β + 6*a *α*β  + a*b*p*β + a*b\n",
       "\n",
       "              2                  2            2  2                      2     \n",
       "*α*β + 3*a*b*β  - 3*a*c*β + 2*a*p *α*β + 2*a*p *β  + a*p*q*β - 8*a*p*α*β  - 22\n",
       "\n",
       "                  2                         2        2                      2 \n",
       "*a*q*α*β - 6*a*q*β  - 24*a*r*α - 9*a*r*β + b *β + b*p *β - 6*b*p*α*β - b*p*β  \n",
       "\n",
       "                         2             2                             2    3  2\n",
       "- 5*b*q*β - 3*b*r - 3*b*α *β - 18*b*α*β  - 9*c*p*β - 9*c*α*β - 27*c*β  - p *β \n",
       "\n",
       "    2        2        2  2        2    2                      2               \n",
       " - p *q*β - p *r + 3*p *α *β + 6*p *α*β  + 3*p*q*α*β + 4*p*q*β  - 3*p*r*β - 12\n",
       "\n",
       "    2  2      2                   2             2         2                   \n",
       "*p*α *β  + 4*q *β + 3*q*r - 33*q*α *β - 18*q*α*β  - 36*r*α  - 27*r*α*β - 9*r*β\n",
       "\n",
       "2\n",
       " "
      ]
     },
     "execution_count": 11,
     "metadata": {},
     "output_type": "execute_result"
    }
   ],
   "source": [
    "numer = Numer(t => α + β).expand()(α^5 => α^5 - α^2*f(X=>α), β^5 => β^5 - β^2*g(X=>β)).expand()(α^4 => α^4 - α*f(X=>α), β^4 => β^4 - β*g(X=>β)).expand().(α^3 => α^3 - f(X=>α), β^3 => β^3 - g(X=>β)).expand()"
   ]
  },
  {
   "cell_type": "code",
   "execution_count": 12,
   "id": "fa33b7ce-81a8-49f9-8e04-e018bb6fb633",
   "metadata": {},
   "outputs": [
    {
     "data": {
      "text/plain": [
       "true"
      ]
     },
     "execution_count": 12,
     "metadata": {},
     "output_type": "execute_result"
    }
   ],
   "source": [
    "βdenom == numer"
   ]
  },
  {
   "cell_type": "code",
   "execution_count": null,
   "id": "34b2be4d-cbc3-4b7d-9e92-128c1f267066",
   "metadata": {},
   "outputs": [],
   "source": []
  }
 ],
 "metadata": {
  "jupytext": {
   "formats": "ipynb,jl:hydrogen"
  },
  "kernelspec": {
   "display_name": "Julia 1.6.3",
   "language": "julia",
   "name": "julia-1.6"
  },
  "language_info": {
   "file_extension": ".jl",
   "mimetype": "application/julia",
   "name": "julia",
   "version": "1.6.3"
  }
 },
 "nbformat": 4,
 "nbformat_minor": 5
}
