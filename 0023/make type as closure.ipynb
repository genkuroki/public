{
 "cells": [
  {
   "cell_type": "code",
   "execution_count": 17,
   "id": "82422f22-edee-493c-bf24-a86a73d203d0",
   "metadata": {},
   "outputs": [
    {
     "name": "stdout",
     "output_type": "stream",
     "text": [
      "d = var\"#21#24\"{var\"#get#23\", var\"#add#22\"}(Core.Box(5), var\"#get#23\"(Core.Box(5)), var\"#add#22\"(Core.Box(5)))\n",
      "d.number = Core.Box(5)\n",
      "d.get() = 5\n",
      "d.add() = 6\n",
      "d.get() = 6\n"
     ]
    }
   ],
   "source": [
    "function makeatype(number)\n",
    "    add() = number += 1\n",
    "    get() = number\n",
    "    () -> (number; add; get)\n",
    "end\n",
    "\n",
    "d = makeatype(5)\n",
    "@show d          # (generic function with 1 method)\n",
    "@show d.number   # Core.Box(5)\n",
    "@show d.get()    # 5\n",
    "@show d.add()\n",
    "@show d.get()    # 6\n",
    ";"
   ]
  },
  {
   "cell_type": "code",
   "execution_count": 18,
   "id": "c3928dbb-e94a-46b5-b7de-e257d3b213f5",
   "metadata": {},
   "outputs": [
    {
     "name": "stdout",
     "output_type": "stream",
     "text": [
      "#21 (function of type var\"#21#24\"{var\"#get#23\", var\"#add#22\"})\n",
      "  number: Core.Box\n",
      "    contents: Int64 6\n",
      "  get: get (function of type var\"#get#23\")\n",
      "    number: Core.Box\n",
      "      contents: Int64 6\n",
      "  add: add (function of type var\"#add#22\")\n",
      "    number: Core.Box\n",
      "      contents: Int64 6\n"
     ]
    }
   ],
   "source": [
    "dump(d)"
   ]
  },
  {
   "cell_type": "code",
   "execution_count": null,
   "id": "a6f2eaa8-6dc8-4fe0-8d3a-4794cad298a1",
   "metadata": {},
   "outputs": [],
   "source": []
  },
  {
   "cell_type": "code",
   "execution_count": null,
   "id": "3aefa32c-0ab1-422b-a4ec-3e9624d65e08",
   "metadata": {},
   "outputs": [],
   "source": []
  }
 ],
 "metadata": {
  "kernelspec": {
   "display_name": "Julia 1.6.3",
   "language": "julia",
   "name": "julia-1.6"
  },
  "language_info": {
   "file_extension": ".jl",
   "mimetype": "application/julia",
   "name": "julia",
   "version": "1.6.3"
  }
 },
 "nbformat": 4,
 "nbformat_minor": 5
}
