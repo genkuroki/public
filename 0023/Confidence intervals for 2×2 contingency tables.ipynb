{
 "cells": [
  {
   "cell_type": "markdown",
   "id": "5aee92a9-842a-4afb-8ab4-42bf8b681c02",
   "metadata": {},
   "source": [
    "# 2×2の分割表のオッズ比の信頼区間のシンプルな実装例\n",
    "\n",
    "* 黒木玄\n",
    "* 2021-10-24\n",
    "\n",
    "χ²検定に付随するオッズ比の信頼区間の構成に関する詳しい解説が\n",
    "\n",
    "* https://nbviewer.org/gist/genkuroki/19adb161b3f7894d6746010ed7bc6abe\n",
    "\n",
    "にある。Fisher検定に付随するオッズ比の信頼区間の計算にはFisherの非心超幾何分布を使う。\n",
    "\n",
    "信頼区間は「P値がα以上になるパラメーターの範囲」として計算される。\n",
    "\n",
    "実際の計算では「P値がαに等しくなるパラメーター値」を数値計算することによって信頼区間を求める。"
   ]
  },
  {
   "cell_type": "markdown",
   "id": "b5510896-fc4b-48a4-8aeb-3ade5c366abf",
   "metadata": {},
   "source": [
    "## P値函数と信頼区間函数のシンプルな実装"
   ]
  },
  {
   "cell_type": "code",
   "execution_count": null,
   "id": "f31dd60a-9dde-420d-85d1-7498217d4453",
   "metadata": {},
   "outputs": [],
   "source": [
    "using Distributions\n",
    "using Roots\n",
    "using Optim\n",
    "using Memoization\n",
    "using StatsPlots\n",
    "using StatsBase\n",
    "\n",
    "default(fmt = :png)\n",
    "\n",
    "using RCall\n",
    "@rlibrary stats"
   ]
  },
  {
   "cell_type": "code",
   "execution_count": null,
   "id": "0345b125-9815-4c91-b3c3-e0bd86483f04",
   "metadata": {},
   "outputs": [],
   "source": [
    "struct TwoBinomials{T<:Real} <: DiscreteMultivariateDistribution\n",
    "    m::Int\n",
    "    p::T\n",
    "    n::Int\n",
    "    q::T\n",
    "end\n",
    "\n",
    "Base.length(d::TwoBinomials) = 4\n",
    "Base.eltype(d::TwoBinomials) = Int\n",
    "Distributions.params(d::TwoBinomials) = (d.m, d.p, d.n, d.q)\n",
    "\n",
    "function Distributions._rand!(rng::Distributions.AbstractRNG, d::TwoBinomials, x::AbstractVector)\n",
    "    k = rand(rng, Binomial(d.m, d.p))\n",
    "    l = rand(rng, Binomial(d.n, d.q))\n",
    "    @inbounds x[1], x[2], x[3], x[4] = k, l, d.m - k, d.n - l\n",
    "    x\n",
    "end\n",
    "\n",
    "function Distributions._rand!(rng::Distributions.AbstractRNG, d::TwoBinomials, x::AbstractMatrix)\n",
    "    @inbounds for j in axes(x, 2) \n",
    "        k = rand(rng, Binomial(d.m, d.p))\n",
    "        l = rand(rng, Binomial(d.n, d.q))\n",
    "        x[1,j], x[2,j], x[3,j], x[4,j] = k, l, d.m - k, d.n - l\n",
    "    end\n",
    "    x\n",
    "end\n",
    "\n",
    "function Distributions._logpdf(d::TwoBinomials, x::AbstractVector)\n",
    "    x[1] + x[3] == d.m || x[2] + x[4] == d.m || return -Inf\n",
    "    logpdf(Binomial(d.m, d.p), x[1]) + logpdf(Binomial(d.n, d.q), x[2]) \n",
    "end\n",
    "\n",
    "Distributions.mean(d::TwoBinomials) = [d.m*d.p, d.n*d.q, d.m*(1 - d.p), d.n*(1 - d.q)]"
   ]
  },
  {
   "cell_type": "code",
   "execution_count": null,
   "id": "da08442c-f85a-4ce9-b10e-9eafd2855f84",
   "metadata": {},
   "outputs": [],
   "source": [
    "safemul(x, y) = x == 0 ? x : x*y\n",
    "safediv(x, y) = x == 0 ? x : x/y\n",
    "x ⪅ y = x < y || x ≈ y\n",
    "\n",
    "function minimizefunc(f, a, b, N = 100)\n",
    "    x = range(a, b; length = N + 1)\n",
    "    m, i = findmin(f, x)\n",
    "    o = Optim.optimize(f, x[max(begin, i-1)], x[min(end, i+1)])\n",
    "    minimum(o), Optim.minimizer(o)\n",
    "end\n",
    "\n",
    "function maximizefunc(f, a, b, N = 100)\n",
    "    m, x = minimizefunc(x -> -f(x), a, b, N)\n",
    "    -m, x\n",
    "end"
   ]
  },
  {
   "cell_type": "code",
   "execution_count": null,
   "id": "f1b0ce19-39d7-4276-8e87-4f5363426022",
   "metadata": {},
   "outputs": [],
   "source": [
    "@memoize function ci_generic(pvalfunc, a, b, c, d, α = 0.05; xmin = 1e-8, xmax = 1e8)\n",
    "    # find_zeros(f, a, b) returns the solutions of f(x) = 0 in the interval [a, b] \n",
    "    CI = exp.(find_zeros(t -> pvalfunc(a, b, c, d, exp(t)) - α, log(xmin), log(xmax)))\n",
    "    length(CI) == 1 ? CI[1] < 1 ? (0.0, CI[1]) : (CI[1], Inf) : (CI[1], CI[end])\n",
    "end\n",
    "\n",
    "function delta(a, b, c, d, ω = 1.0)\n",
    "    A = 1 - ω\n",
    "    B = a + d + ω*(b + c)\n",
    "    C = a*d - ω*b*c\n",
    "    # solution of Ax² + Bx + C = 0 with −min(a,d) < x < min(b,c)\n",
    "    2*C/(-B - √(B^2 - 4*A*C))\n",
    "end"
   ]
  },
  {
   "cell_type": "code",
   "execution_count": null,
   "id": "85bc49c8-27dd-4e61-8569-b8599f12496b",
   "metadata": {},
   "outputs": [],
   "source": [
    "function chisq_stat(a, b, c, d, ω = 1.0)\n",
    "    δ = delta(a, b, c, d, ω)\n",
    "    safemul(δ^2, 1/(a + δ) + 1/(b - δ) + 1/(c - δ) + 1/(d + δ))\n",
    "end\n",
    "\n",
    "@memoize function pval_chisq(a, b, c, d, ω = 1.0)\n",
    "    (a + b == 0 || c + d == 0 || a + c == 0 || b + d == 0) && return 1.0\n",
    "    X² = chisq_stat(a, b, c, d, ω)\n",
    "    ccdf(Chisq(1), X²)\n",
    "end\n",
    "\n",
    "ci_chisq(a, b, c, d, α = 0.05; xmin = 1e-8, xmax = 1e8) =\n",
    "    ci_generic(pval_chisq, a, b, c, d, α; xmin, xmax)"
   ]
  },
  {
   "cell_type": "code",
   "execution_count": null,
   "id": "d4ac246a-ecb6-44d7-a122-2dbad9430926",
   "metadata": {},
   "outputs": [],
   "source": [
    "function g_stat(a, b, c, d, ω = 1.0)\n",
    "    δ = delta(a, b, c, d, ω)\n",
    "    2(safemul(a, log(a) - log(a + δ)) + safemul(b, log(b) - log(b - δ))\n",
    "    + safemul(c, log(c) - log(c - δ)) + safemul(d, log(d) - log(d + δ)))\n",
    "end\n",
    "\n",
    "@memoize function pval_gtest(a, b, c, d, ω = 1.0)\n",
    "    (a + b == 0 || c + d == 0 || a + c == 0 || b + d == 0) && return 1.0\n",
    "    X² = g_stat(a, b, c, d, ω)\n",
    "    ccdf(Chisq(1), X²)\n",
    "end\n",
    "\n",
    "ci_gtest(a, b, c, d, α = 0.05; xmin = 1e-8, xmax = 1e8) =\n",
    "    ci_generic(pval_gtest, a, b, c, d, α; xmin, xmax)"
   ]
  },
  {
   "cell_type": "code",
   "execution_count": null,
   "id": "2da1d987-2ec8-41c6-b489-c12e6c3d665f",
   "metadata": {},
   "outputs": [],
   "source": [
    "@memoize function pval_fisher(a, b, c, d, ω = 1.0)\n",
    "    (a + b == 0 || c + d == 0 || a + c == 0 || b + d == 0) && return 1.0\n",
    "    fnhg = FisherNoncentralHypergeometric(a + b, c + d, a + c, ω)\n",
    "    p0 = pdf(fnhg, a)\n",
    "    pval = sum(pdf(fnhg, k) for k in support(fnhg) if pdf(fnhg, k) ⪅ p0; init = 0.0)\n",
    "    min(1, pval)\n",
    "end\n",
    "\n",
    "ci_fisher(a, b, c, d, α = 0.05; xmin = 1e-8, xmax = 1e8) =\n",
    "    ci_generic(pval_fisher, a, b, c, d, α; xmin, xmax)"
   ]
  },
  {
   "cell_type": "code",
   "execution_count": null,
   "id": "4c46ac21-ed05-4702-9d2f-7be79145ee86",
   "metadata": {},
   "outputs": [],
   "source": [
    "@memoize function pval_fisher_dos(a, b, c, d, ω = 1.0) # dos stands for \"doubling one-side\"\n",
    "    (a + b == 0 || c + d == 0 || a + c == 0 || b + d == 0) && return 1.0\n",
    "    fnhg = FisherNoncentralHypergeometric(a + b, c + d, a + c, ω)\n",
    "    min(1, 2cdf(fnhg, a), 2ccdf(fnhg, a-1))\n",
    "end\n",
    "\n",
    "ci_fisher_dos(a, b, c, d, α = 0.05; xmin = 1e-8, xmax = 1e8) =\n",
    "    ci_generic(pval_fisher_dos, a, b, c, d, α; xmin, xmax)"
   ]
  },
  {
   "cell_type": "code",
   "execution_count": null,
   "id": "df26889e-4be0-46dd-b4a2-ac0579522d84",
   "metadata": {},
   "outputs": [],
   "source": [
    "@memoize function pval_2bins(a, b, c, d, θ1, ω = 1.0)\n",
    "    (a + c == 0 || b + d == 0) && return 1.0\n",
    "    θ2 = θ1/(θ1 + ω*(1 - θ1))\n",
    "    # Fix n1 = a + c and n2 = b + d for data [a c; b d]\n",
    "    n1, n2 = a + c, b + d\n",
    "    bin1, bin2 = Binomial(n1, θ1), Binomial(n2, θ2)\n",
    "    f0 = pval_fisher(a, b, c, d, ω)\n",
    "    pval = sum(\n",
    "        pdf(bin1, i) * pdf(bin2, j)\n",
    "        for i in support(bin1) for j in support(bin2)\n",
    "        if pval_fisher(i, j, n1-i, n2-j, ω) ⪅ f0\n",
    "        ; init = 0.0)\n",
    "    min(1, pval)\n",
    "end\n",
    "\n",
    "@memoize _pval_boschloo(a, b, c, d, ω = 1.0) =\n",
    "    maximizefunc(θ1 -> pval_2bins(a, b, c, d, θ1, ω), 0, 1)\n",
    "\n",
    "pval_boschloo(a, b, c, d, ω = 1.0) = \n",
    "    _pval_boschloo(a, b, c, d, ω) |> first\n",
    "\n",
    "ci_boschloo(a, b, c, d, α = 0.05; xmin = 1e-8, xmax = 1e8) =\n",
    "    ci_generic(pval_boschloo, a, b, c, d, α; xmin, xmax)"
   ]
  },
  {
   "cell_type": "code",
   "execution_count": null,
   "id": "3eedabe6-9fbb-4900-9164-1a604047d951",
   "metadata": {},
   "outputs": [],
   "source": [
    "oddsratio(a, b, c, d) = safediv(a*d, b*c)\n",
    "\n",
    "@memoize function pval_logOR(a, b, c, d, ω = 1.0)\n",
    "    (a == 0 || b == 0 || c == 0 || d == 0) && return 1.0\n",
    "    μ = log(ω)\n",
    "    σ = √(1/a + 1/b + 1/c + 1/d)\n",
    "    X = log(oddsratio(a, b, c, d))\n",
    "    Z = (X - μ)/σ\n",
    "    min(1, 2ccdf(Normal(), abs(Z)))\n",
    "end\n",
    "\n",
    "ci_logOR(a, b, c, d, α = 0.05; xmin = 1e-8, xmax = 1e8) =\n",
    "    ci_generic(pval_logOR, a, b, c, d, α; xmin, xmax)"
   ]
  },
  {
   "cell_type": "code",
   "execution_count": null,
   "id": "b89305a0-7b18-47a8-8afe-4959905e2554",
   "metadata": {},
   "outputs": [],
   "source": [
    "A = [\n",
    "    5 1\n",
    "    1 6\n",
    "]\n",
    "\n",
    "@show pval_chisq(A...) pval_gtest(A...) pval_fisher(A...) pval_fisher_dos(A...) pval_logOR(A...) pval_boschloo(A...);\n",
    "@show ci_chisq(A...) ci_gtest(A...) ci_fisher(A...) ci_fisher_dos(A...) ci_logOR(A...) ci_boschloo(A...);"
   ]
  },
  {
   "cell_type": "code",
   "execution_count": null,
   "id": "f0962b03-f810-4b4e-907d-ec6e27f424ca",
   "metadata": {},
   "outputs": [],
   "source": [
    "@rput A\n",
    "R\"fisher.test(A)\""
   ]
  },
  {
   "cell_type": "markdown",
   "id": "7bb5f665-0c64-4592-932c-739633a5a590",
   "metadata": {},
   "source": [
    "Rの `fisher.test` の結果は本質的に以上の `pval_fisher` と `ci_fisher_dos` と一致する。\n",
    "\n",
    "Rの `fisher.test` では表示されるP値と信頼区間のあいだに整合性がない。実際、上の場合にP値は５％未満なのに、95%信頼区間が帰無仮説のオッズ比の値1を含んでしまっている。\n",
    "\n",
    "信頼区間の数値の `ci_fisher_dos` との微妙な違いはRでの実装における数値計算の許容誤差が大きいことが原因である。詳しくは以下のリンク先を参照：\n",
    "\n",
    "* https://twitter.com/genkuroki/status/1422926792210280451"
   ]
  },
  {
   "cell_type": "code",
   "execution_count": null,
   "id": "fad6bbe2-addf-48fa-987a-4e14efcf9236",
   "metadata": {},
   "outputs": [],
   "source": [
    "R\"chisq.test(A)\""
   ]
  },
  {
   "cell_type": "markdown",
   "id": "0f5a4457-99ba-4fac-bb83-40d6f1bc09d6",
   "metadata": {},
   "source": [
    "Rの `chisq.test` はデフォルトでYatesの連続性補正を適用する。その結果は `fisher_dos` に近くなる。\n",
    "\n",
    "Yatesの連続性補正はいかなる場合も使用しない方がよいと思う。"
   ]
  },
  {
   "cell_type": "code",
   "execution_count": null,
   "id": "a1602578-7053-49e1-bced-ce1899e55fa1",
   "metadata": {},
   "outputs": [],
   "source": [
    "R\"chisq.test(A, correct = FALSE)\""
   ]
  },
  {
   "cell_type": "markdown",
   "id": "8d7f5296-19aa-4a4e-84c1-d754d49ba1fc",
   "metadata": {},
   "source": [
    "Rの `chisq.test` で補正をオフにすると、その結果は `chisq` に一致する。\n",
    "\n",
    "Rの `chisq.test` はしつこく \"Chi-squared approximation may be incorrect\" と警告して来るが、この警告は必ずしも正しくない。"
   ]
  },
  {
   "cell_type": "code",
   "execution_count": null,
   "id": "227de874-4892-4e94-93db-f0f3ea71afff",
   "metadata": {},
   "outputs": [],
   "source": [
    "@show pvalmax, maximizer = _pval_boschloo(A...)\n",
    "θ1 = range(0, 1; length=1001)\n",
    "p = pval_2bins.(A..., θ1)\n",
    "plot(θ1, p; label=\"\", xtick=0:0.1:1, xlabel = \"θ₁\")\n",
    "scatter!([maximizer], [pvalmax]; label=\"\")\n",
    "title!(\"pval_2bins(A..., θ₁) for A = $A\")\n",
    "plot!(; size=(400, 300), titlefontsize=10)"
   ]
  },
  {
   "cell_type": "code",
   "execution_count": null,
   "id": "eb48445c-64ad-407f-ab5a-f8fe8071ad83",
   "metadata": {},
   "outputs": [],
   "source": [
    "R\"library(Exact)\"\n",
    "R\"\"\"exact.test(A, method=\"Boschloo\")\"\"\""
   ]
  },
  {
   "cell_type": "code",
   "execution_count": null,
   "id": "30843ff8-221f-4c73-bcca-32d1d5b6be7f",
   "metadata": {},
   "outputs": [],
   "source": [
    "X = [2 3; 35 10]\n",
    "@show pvalmax, maximizer = _pval_boschloo(X...)\n",
    "θ1 = range(0, 1; length=1001)\n",
    "p = pval_2bins.(X..., θ1)\n",
    "plot(θ1, p; label=\"\", xtick=0:0.1:1, xlabel = \"θ₁\")\n",
    "scatter!([maximizer], [pvalmax]; label=\"\")\n",
    "title!(\"pval_2bins(X..., θ₁) for X = $X\")\n",
    "plot!(; size=(400, 300), titlefontsize=10)"
   ]
  },
  {
   "cell_type": "code",
   "execution_count": null,
   "id": "bb7202cd-2591-4206-b966-09d6327c2902",
   "metadata": {},
   "outputs": [],
   "source": [
    "@rput X\n",
    "R\"\"\"exact.test(X, method=\"Boschloo\")\"\"\""
   ]
  },
  {
   "cell_type": "markdown",
   "id": "bdc306e9-5693-4f8c-97c7-db6d7ae37e0e",
   "metadata": {},
   "source": [
    "以上のように、`pval_boschloo(A)`の値はRのExactパッケージの `exact.test(A, method=\"Boschloo\")`のP値に一致している。"
   ]
  },
  {
   "cell_type": "markdown",
   "id": "16a1e244-2978-4464-80fb-6308e23e8774",
   "metadata": {},
   "source": [
    "## P値函数のプロット"
   ]
  },
  {
   "cell_type": "code",
   "execution_count": null,
   "id": "1edea390-3d3c-446b-b483-64321925a922",
   "metadata": {},
   "outputs": [],
   "source": [
    "function plot_pvalfuncs(A, ωmin, ωmax; xtick = -20:20, ytick = 0:0.05:1, kwargs...)\n",
    "    t = range(log(10, ωmin), log(10, ωmax), length=1000)\n",
    "    p_chisq = pval_chisq.(A..., exp.(t))\n",
    "    p_gtest = pval_gtest.(A..., exp.(t))\n",
    "    p_fisher = pval_fisher.(A..., exp.(t))\n",
    "    p_fisher_dos = pval_fisher_dos.(A..., exp.(t))\n",
    "    p_logOR = pval_logOR.(A..., exp.(t))\n",
    "    p_boschloo = pval_boschloo.(A..., exp.(t))\n",
    "\n",
    "    plot(t, p_chisq; label=\"chisq\")\n",
    "    plot!(t, p_gtest; label=\"gtest\", ls=:dash)\n",
    "    plot!(t, p_fisher; label=\"fisher\", ls=:dash)\n",
    "    plot!(t, p_fisher_dos; label=\"fisher_dos\", ls=:dashdot)\n",
    "    plot!(t, p_boschloo; label=\"boschloo\", ls=:dot)\n",
    "    plot!(t, p_logOR; label=\"logOR\", ls=:dot)\n",
    "    title!(\"p-value functions for data A = $A\")\n",
    "    plot!(; xlabel=\"log₁₀(odds ratio)\")\n",
    "    plot!(; xtick, ytick, kwargs...)\n",
    "end"
   ]
  },
  {
   "cell_type": "code",
   "execution_count": null,
   "id": "b4a86f62-fc20-4e1f-93ca-858d877c562d",
   "metadata": {},
   "outputs": [],
   "source": [
    "P = plot_pvalfuncs(A, 1e-1, 1e8)\n",
    "Q = plot_pvalfuncs(A, 1e-1, 1e1; legend=:topleft, ylim=(-0.005, 0.105), xtick=-1:0.2:1, ytick=0:0.01:0.1)\n",
    "plot(P, Q; size=(800, 300), tickfontsize=7, guidefontsize=9, titlefontsize=10, bottommargin=4Plots.mm)"
   ]
  },
  {
   "cell_type": "markdown",
   "id": "02c2406a-228f-4921-8a08-c6103a254f7d",
   "metadata": {},
   "source": [
    "## Boschloo検定の最大値を取る前のP値函数のプロット"
   ]
  },
  {
   "cell_type": "code",
   "execution_count": null,
   "id": "ea27f6c1-644e-4883-b4a1-459c889d4494",
   "metadata": {},
   "outputs": [],
   "source": [
    "B = [\n",
    "    6  20\n",
    "    12 10\n",
    "]\n",
    "\n",
    "@show pvalmax, maximizer = _pval_boschloo(B..., 0.9)\n",
    "θ1 = range(0, 1; length=1001)\n",
    "p = pval_2bins.(B..., θ1, 0.9)\n",
    "plot(θ1, p; label=\"\", xtick=0:0.1:1, xlabel = \"θ₁\")\n",
    "scatter!([maximizer], [pvalmax]; label=\"\")\n",
    "title!(\"pval_2bins(B..., θ₁, 0.9) for B = $B\")\n",
    "plot!(; size=(400, 300), titlefontsize=10)"
   ]
  },
  {
   "cell_type": "markdown",
   "id": "c81c7836-9bf7-4611-a0c7-13ff10df9c43",
   "metadata": {},
   "source": [
    "## 第一種の過誤が起こる確率を有意水準の函数としてプロット"
   ]
  },
  {
   "cell_type": "code",
   "execution_count": null,
   "id": "be17a75e-8427-40c3-9b3f-d8f4a5180c35",
   "metadata": {},
   "outputs": [],
   "source": [
    "function plot_pvalecdfs(dist_true; L = 10^5,\n",
    "        plotPQ = trues(2), pvals = trues(6),\n",
    "        size = (400count(plotPQ), 400), kwargs...\n",
    "    )\n",
    "    pvals[1] && (P_chisq = Vector{Float64}(undef, L))\n",
    "    pvals[2] && (P_gtest = Vector{Float64}(undef, L))\n",
    "    pvals[3] && (P_fisher = Vector{Float64}(undef, L))\n",
    "    pvals[4] && (P_fisher_dos = Vector{Float64}(undef, L))\n",
    "    pvals[5] && (P_boschloo = Vector{Float64}(undef, L))\n",
    "    pvals[6] && (P_logOR = Vector{Float64}(undef, L))\n",
    "    \n",
    "    Threads.@threads for i in 1:L\n",
    "        A = rand(dist_true)\n",
    "        pvals[1] && (P_chisq[i] = pval_chisq(A...))\n",
    "        pvals[2] && (P_gtest[i] = pval_gtest(A...))\n",
    "        pvals[3] && (P_fisher[i] = pval_fisher(A...))\n",
    "        pvals[4] && (P_fisher_dos[i] = pval_fisher_dos(A...))\n",
    "        pvals[5] && (P_boschloo[i] = pval_boschloo(A...))\n",
    "        pvals[6] && (P_logOR[i] = pval_logOR(A...))\n",
    "    end\n",
    "    \n",
    "    PP = []\n",
    "    \n",
    "    plotPQ[1] && begin\n",
    "        P = plot()\n",
    "        pvals[1] && plot!(StatsBase.ecdf(P_chisq); c=1, label=\"chisq\")\n",
    "        pvals[2] && plot!(StatsBase.ecdf(P_gtest); c=2, label=\"gtest\", ls=:dash)\n",
    "        pvals[3] && plot!(StatsBase.ecdf(P_fisher); c=3, label=\"fisher\", ls=:dash)\n",
    "        pvals[4] && plot!(StatsBase.ecdf(P_fisher_dos); c=4, label=\"fisher_dos\", ls=:dashdot)\n",
    "        pvals[5] && plot!(StatsBase.ecdf(P_boschloo); c=5, label=\"boschloo\", ls=:dot, lw=1.5)\n",
    "        pvals[6] && plot!(StatsBase.ecdf(P_logOR); c=6, label=\"logOR\", ls=:dot)\n",
    "        plot!(identity; label=\"\", c=:black, ls=:dot)\n",
    "        plot!(; xtick = 0:0.1:1, ytick = 0:0.1:1)\n",
    "        plot!(; xlim = (-0.05, 1.05), ylim = (-0.05, 1.05))\n",
    "        push!(PP, P)\n",
    "    end\n",
    "    \n",
    "    plotPQ[2] && begin\n",
    "        Q = plot()\n",
    "        pvals[1] && plot!(StatsBase.ecdf(P_chisq); c=1, label=\"chisq\")\n",
    "        pvals[2] && plot!(StatsBase.ecdf(P_gtest); c=2, label=\"gtest\", ls=:dash)\n",
    "        pvals[3] && plot!(StatsBase.ecdf(P_fisher); c=3, label=\"fisher\", ls=:dash)\n",
    "        pvals[4] && plot!(StatsBase.ecdf(P_fisher_dos); c=4, label=\"fisher_dos\", ls=:dashdot)\n",
    "        pvals[5] && plot!(StatsBase.ecdf(P_boschloo); c=5, label=\"boschloo\", ls=:dot, lw=1.5)\n",
    "        pvals[6] && plot!(StatsBase.ecdf(P_logOR); c=6, label=\"logOR\", ls=:dot)\n",
    "        plot!(identity; label=\"\", c=:black, ls=:dot)\n",
    "        plot!(; xlim = (-0.005, 0.105), ylim = (-0.005, 0.105))\n",
    "        plot!(; xtick = 0:0.01:1, ytick = 0:0.01:1)\n",
    "        push!(PP, Q)\n",
    "    end\n",
    "\n",
    "    plot(PP...; size, kwargs...)\n",
    "end"
   ]
  },
  {
   "cell_type": "markdown",
   "id": "0502dad2-8d85-4cc9-95fa-557b54546cfe",
   "metadata": {},
   "source": [
    "### 小サンプルだが、χ²検定が十分に適切だと考えられる場合\n",
    "\n",
    "極端な場合を除けば、小サンプルであっても、χ²検定の使用が十分に適切だと考えられる。"
   ]
  },
  {
   "cell_type": "code",
   "execution_count": null,
   "id": "a25ac49b-0308-4b26-b0b0-c7d6ec63c9de",
   "metadata": {},
   "outputs": [],
   "source": [
    "n = 13\n",
    "p, q = 6//n, 6//n\n",
    "dist_true = Multinomial(n, Float64.(vec([p, 1-p]*[q, 1-q]')))\n",
    "plot_pvalecdfs(dist_true; title=\"Multinomial($n, $(round.(probs(dist_true), digits=3)))\", titlefontsize=10)"
   ]
  },
  {
   "cell_type": "code",
   "execution_count": null,
   "id": "cc9cde11-c514-4857-aa56-789842cdd610",
   "metadata": {},
   "outputs": [],
   "source": [
    "n = 20\n",
    "p, q = 1//4, 2//5\n",
    "dist_true = Multinomial(n, Float64.(vec([p, 1-p]*[q, 1-q]')))\n",
    "plot_pvalecdfs(dist_true; title=\"Multinomial$(params(dist_true))\", titlefontsize=10)"
   ]
  },
  {
   "cell_type": "code",
   "execution_count": null,
   "id": "b161045e-5a1a-4a4e-b122-f4671865f319",
   "metadata": {},
   "outputs": [],
   "source": [
    "n = 10\n",
    "p, q = 4//10, 4//10\n",
    "dist_true = Multinomial(n, Float64.(vec([p, 1-p]*[q, 1-q]')))\n",
    "plot_pvalecdfs(dist_true; title=\"Multinomial$(params(dist_true))\", titlefontsize=10)"
   ]
  },
  {
   "cell_type": "code",
   "execution_count": null,
   "id": "fbe01138-f2fa-44b9-b100-28428d36a27b",
   "metadata": {},
   "outputs": [],
   "source": [
    "n = 100\n",
    "p, q = 1//20, 1//5\n",
    "dist_true = Multinomial(n, Float64.(vec([p, 1-p]*[q, 1-q]')))\n",
    "plot_pvalecdfs(dist_true; title=\"Multinomial$(params(dist_true))\", titlefontsize=10)"
   ]
  },
  {
   "cell_type": "markdown",
   "id": "209c7b6c-5017-4166-a047-b8bd6813e0a6",
   "metadata": {},
   "source": [
    "### χ²検定が不適切になるほど極端な場合\n",
    "\n",
    "以下のような極端過ぎる設定のもとではχ²検定で第一種の過誤が起こる確率は大きくなってしまう。\n",
    "\n",
    "非常に大雑把には０のセルがある場合にはχ²検定が不適切になりやすい。"
   ]
  },
  {
   "cell_type": "code",
   "execution_count": null,
   "id": "8e0532b5-6a66-4d7d-bc55-29f5fc948195",
   "metadata": {},
   "outputs": [],
   "source": [
    "n = 20\n",
    "p, q = 1//10, 1//10\n",
    "dist_true = Multinomial(n, Float64.(vec([p, 1-p]*[q, 1-q]')))\n",
    "plot_pvalecdfs(dist_true; title=\"Multinomial$(params(dist_true))\", titlefontsize=10)"
   ]
  },
  {
   "cell_type": "code",
   "execution_count": null,
   "id": "64d50fc9-6668-4ba9-9fcc-bdb53eed13b0",
   "metadata": {},
   "outputs": [],
   "source": [
    "n = 100\n",
    "p, q = 1//25, 1//25\n",
    "dist_true = Multinomial(n, Float64.(vec([p, 1-p]*[q, 1-q]')))\n",
    "plot_pvalecdfs(dist_true; \n",
    "    title=\"Multinomial$(params(dist_true))\", titlefontsize=8)"
   ]
  },
  {
   "cell_type": "code",
   "execution_count": null,
   "id": "274c6e68-8c61-49f0-b40e-552decd20029",
   "metadata": {},
   "outputs": [],
   "source": [
    "n = 1000\n",
    "p, q = 1//200, 1//40\n",
    "dist_true = Multinomial(n, Float64.(vec([p, 1-p]*[q, 1-q]')))\n",
    "plot_pvalecdfs(dist_true; pvals = (tmp = trues(6); tmp[4:6] .= false; tmp),\n",
    "    title=\"Multinomial$(params(dist_true))\", titlefontsize=8)"
   ]
  },
  {
   "cell_type": "markdown",
   "id": "cdb84225-bd43-473a-bb81-a5ae345a44c1",
   "metadata": {},
   "source": [
    "### サンプルを２つの二項分布で生成する場合"
   ]
  },
  {
   "cell_type": "code",
   "execution_count": null,
   "id": "9038862e-9fc3-482e-88a0-d99662e440e6",
   "metadata": {},
   "outputs": [],
   "source": [
    "m, n = 4, 6\n",
    "θ = 0.4\n",
    "dist_true = TwoBinomials(m, θ, n, θ)\n",
    "plot_pvalecdfs(dist_true; title=\"TwoBinomials$(params(dist_true))\", titlefontsize=10)"
   ]
  },
  {
   "cell_type": "code",
   "execution_count": null,
   "id": "19790223-d946-4e6d-b8d9-f6a436fba59f",
   "metadata": {},
   "outputs": [],
   "source": [
    "m, n = 12, 18\n",
    "θ = 0.4\n",
    "dist_true = TwoBinomials(m, θ, n, θ)\n",
    "plot_pvalecdfs(dist_true; title=\"TwoBinomials$(params(dist_true))\", titlefontsize=10)"
   ]
  },
  {
   "cell_type": "code",
   "execution_count": null,
   "id": "912bc193-aa70-40aa-b563-88556f3313dd",
   "metadata": {},
   "outputs": [],
   "source": [
    "m, n = 24, 36\n",
    "θ = 0.3\n",
    "dist_true = TwoBinomials(m, θ, n, θ)\n",
    "plot_pvalecdfs(dist_true; title=\"TwoBinomials$(params(dist_true))\", titlefontsize=10)"
   ]
  },
  {
   "cell_type": "markdown",
   "id": "6df445ea-9851-438f-972d-be28939af925",
   "metadata": {},
   "source": [
    "### サンプルを4つのPoisson分布で生成する場合"
   ]
  },
  {
   "cell_type": "code",
   "execution_count": null,
   "id": "8b0455b6-858d-4133-ad68-ad430b437fd2",
   "metadata": {},
   "outputs": [],
   "source": [
    "n = 10\n",
    "p, q = 4//10, 3//10\n",
    "λ = Float64.(n * vec([p, 1-p]*[q, 1-q]'))\n",
    "dist_true = product_distribution(Poisson.(λ))\n",
    "plot_pvalecdfs(dist_true; title=\"FourPoissons($λ)\", titlefontsize=10)"
   ]
  },
  {
   "cell_type": "code",
   "execution_count": null,
   "id": "e01e8fba-fef6-4ae9-98ce-ab7663125373",
   "metadata": {},
   "outputs": [],
   "source": [
    "n = 20\n",
    "p, q = 4//10, 3//10\n",
    "λ = Float64.(n * vec([p, 1-p]*[q, 1-q]'))\n",
    "dist_true = product_distribution(Poisson.(λ))\n",
    "plot_pvalecdfs(dist_true; title=\"FourPoissons($λ)\", titlefontsize=10)"
   ]
  },
  {
   "cell_type": "code",
   "execution_count": null,
   "id": "5f8f31e0-496c-4480-a5ab-e9a0f4ce49bc",
   "metadata": {},
   "outputs": [],
   "source": [
    "n = 40\n",
    "p, q = 4//10, 3//10\n",
    "λ = Float64.(n * vec([p, 1-p]*[q, 1-q]'))\n",
    "dist_true = product_distribution(Poisson.(λ))\n",
    "plot_pvalecdfs(dist_true; title=\"FourPoissons($λ)\", titlefontsize=10)"
   ]
  },
  {
   "cell_type": "code",
   "execution_count": null,
   "id": "88b30ef7-d5dd-40c4-9dd9-2fb9b330b909",
   "metadata": {},
   "outputs": [],
   "source": []
  }
 ],
 "metadata": {
  "jupytext": {
   "encoding": "# -*- coding: utf-8 -*-",
   "formats": "ipynb,jl:hydrogen"
  },
  "kernelspec": {
   "display_name": "Julia 1.6.3",
   "language": "julia",
   "name": "julia-1.6"
  },
  "language_info": {
   "file_extension": ".jl",
   "mimetype": "application/julia",
   "name": "julia",
   "version": "1.6.3"
  }
 },
 "nbformat": 4,
 "nbformat_minor": 5
}
