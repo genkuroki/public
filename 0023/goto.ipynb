{
 "cells": [
  {
   "cell_type": "code",
   "execution_count": 1,
   "id": "e934be24-8b3a-44bb-a587-7bc774203092",
   "metadata": {},
   "outputs": [
    {
     "name": "stdout",
     "output_type": "stream",
     "text": [
      "i + j = 11\n",
      "i + j = 12\n",
      "i + j = 13\n",
      "i + j = 14\n",
      "i + j = 31\n",
      "i + j = 32\n",
      "i + j = 33\n",
      "i + j = 34\n",
      "i + j = 41\n"
     ]
    }
   ],
   "source": [
    "function f()\n",
    "    for j in 10:10:40\n",
    "        for i in 1:4\n",
    "            (i + j) % 21 == 0 && break\n",
    "            @show i + j\n",
    "        end\n",
    "    end\n",
    "end\n",
    "\n",
    "f()"
   ]
  },
  {
   "cell_type": "code",
   "execution_count": 2,
   "id": "c10271c1-3ed1-45d8-88fb-2957f4dd4e6d",
   "metadata": {},
   "outputs": [
    {
     "name": "stdout",
     "output_type": "stream",
     "text": [
      "i + j = 11\n",
      "i + j = 12\n",
      "i + j = 13\n",
      "i + j = 14\n"
     ]
    }
   ],
   "source": [
    "function g()\n",
    "    for j in 10:10:40\n",
    "        for i in 1:4\n",
    "            (i + j) % 21 == 0 && @goto out\n",
    "            @show i + j\n",
    "        end\n",
    "    end\n",
    "    @label out\n",
    "end\n",
    "\n",
    "g()"
   ]
  },
  {
   "cell_type": "code",
   "execution_count": 3,
   "id": "c4ce8ada-1f2c-4f5f-8b04-5b38b57387af",
   "metadata": {},
   "outputs": [
    {
     "data": {
      "text/latex": [
       "\\begin{verbatim}\n",
       "@goto name\n",
       "\\end{verbatim}\n",
       "\\texttt{@goto name} unconditionally jumps to the statement at the location \\href{@ref}{\\texttt{@label name}}.\n",
       "\n",
       "\\texttt{@label} and \\texttt{@goto} cannot create jumps to different top-level statements. Attempts cause an error. To still use \\texttt{@goto}, enclose the \\texttt{@label} and \\texttt{@goto} in a block.\n",
       "\n"
      ],
      "text/markdown": [
       "```\n",
       "@goto name\n",
       "```\n",
       "\n",
       "`@goto name` unconditionally jumps to the statement at the location [`@label name`](@ref).\n",
       "\n",
       "`@label` and `@goto` cannot create jumps to different top-level statements. Attempts cause an error. To still use `@goto`, enclose the `@label` and `@goto` in a block.\n"
      ],
      "text/plain": [
       "\u001b[36m  @goto name\u001b[39m\n",
       "\n",
       "  \u001b[36m@goto name\u001b[39m unconditionally jumps to the statement at the location \u001b[36m@label\n",
       "  name\u001b[39m.\n",
       "\n",
       "  \u001b[36m@label\u001b[39m and \u001b[36m@goto\u001b[39m cannot create jumps to different top-level statements.\n",
       "  Attempts cause an error. To still use \u001b[36m@goto\u001b[39m, enclose the \u001b[36m@label\u001b[39m and \u001b[36m@goto\u001b[39m in\n",
       "  a block."
      ]
     },
     "execution_count": 3,
     "metadata": {},
     "output_type": "execute_result"
    }
   ],
   "source": [
    "?@goto"
   ]
  },
  {
   "cell_type": "code",
   "execution_count": 4,
   "id": "7377da20-8426-4bb2-8a1b-86282db2710e",
   "metadata": {},
   "outputs": [
    {
     "data": {
      "text/latex": [
       "\\begin{verbatim}\n",
       "@label name\n",
       "\\end{verbatim}\n",
       "Labels a statement with the symbolic label \\texttt{name}. The label marks the end-point of an unconditional jump with \\href{@ref}{\\texttt{@goto name}}.\n",
       "\n"
      ],
      "text/markdown": [
       "```\n",
       "@label name\n",
       "```\n",
       "\n",
       "Labels a statement with the symbolic label `name`. The label marks the end-point of an unconditional jump with [`@goto name`](@ref).\n"
      ],
      "text/plain": [
       "\u001b[36m  @label name\u001b[39m\n",
       "\n",
       "  Labels a statement with the symbolic label \u001b[36mname\u001b[39m. The label marks the\n",
       "  end-point of an unconditional jump with \u001b[36m@goto name\u001b[39m."
      ]
     },
     "execution_count": 4,
     "metadata": {},
     "output_type": "execute_result"
    }
   ],
   "source": [
    "?@label"
   ]
  },
  {
   "cell_type": "code",
   "execution_count": null,
   "id": "58546149-97fc-4c62-beca-41878bd4fb2f",
   "metadata": {},
   "outputs": [],
   "source": []
  }
 ],
 "metadata": {
  "kernelspec": {
   "display_name": "Julia 1.6.3",
   "language": "julia",
   "name": "julia-1.6"
  },
  "language_info": {
   "file_extension": ".jl",
   "mimetype": "application/julia",
   "name": "julia",
   "version": "1.6.3"
  }
 },
 "nbformat": 4,
 "nbformat_minor": 5
}
