{
 "cells": [
  {
   "cell_type": "code",
   "execution_count": 1,
   "id": "ff6728a4-cff9-4948-8f85-c28f4e7d1916",
   "metadata": {},
   "outputs": [
    {
     "data": {
      "text/plain": [
       "調和平均 (generic function with 1 method)"
      ]
     },
     "execution_count": 1,
     "metadata": {},
     "output_type": "execute_result"
    }
   ],
   "source": [
    "平均(p, X) = (sum(x -> x^p, X)/length(X))^(1/p)\n",
    "算術平均(X) = sum(X)/length(X)\n",
    "幾何平均(X) = prod(X)^(1/length(X))\n",
    "調和平均(X) = length(X)/sum(x -> 1/x, X)"
   ]
  },
  {
   "cell_type": "code",
   "execution_count": 2,
   "id": "3805b705-b769-4d21-8350-87115f744619",
   "metadata": {},
   "outputs": [
    {
     "name": "stdout",
     "output_type": "stream",
     "text": [
      "X = [0.2527817070135592, 0.3416112517754557, 0.018434010391014333, 0.2032916196836636, 0.08242766374111388, 0.5018094839310496, 0.6422003267838687, 0.8567403642978115, 0.2864164778822471, 0.3065040735550528, 0.9716719069031483, 0.9769330829387726, 0.9511948605689902, 0.04412072735128225, 0.827699693147288, 0.4130612318148652, 0.9823018166547297, 0.24838151076663562, 0.9195029856053554, 0.3206693317614915]\n",
      "\n",
      "平均(1, X) = 0.5073877063283698\n",
      "算術平均(X) = 0.5073877063283698\n",
      "\n",
      "平均(1.0e-8, X) = 0.34680638060579183\n",
      "幾何平均(X) = 0.3468063814881567\n",
      "平均(-1.0e-8, X) = 0.3468063767944275\n",
      "\n",
      "平均(-1, X) = 0.15588309093109864\n",
      "調和平均(X) = 0.15588309093109867\n"
     ]
    }
   ],
   "source": [
    "X = rand(20)\n",
    "@show X\n",
    "println()\n",
    "@show 平均(1, X) 算術平均(X)\n",
    "println()\n",
    "@show 平均(1e-8, X) 幾何平均(X) 平均(-1e-8, X)\n",
    "println()\n",
    "@show 平均(-1, X) 調和平均(X);"
   ]
  },
  {
   "cell_type": "code",
   "execution_count": null,
   "id": "ce1d48ac-bfad-49e5-8ecb-52a2c7a9c2b4",
   "metadata": {},
   "outputs": [],
   "source": []
  }
 ],
 "metadata": {
  "jupytext": {
   "formats": "ipynb,jl:hydrogen"
  },
  "kernelspec": {
   "display_name": "Julia 1.6.3",
   "language": "julia",
   "name": "julia-1.6"
  },
  "language_info": {
   "file_extension": ".jl",
   "mimetype": "application/julia",
   "name": "julia",
   "version": "1.6.3"
  }
 },
 "nbformat": 4,
 "nbformat_minor": 5
}
