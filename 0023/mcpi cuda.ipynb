{
 "cells": [
  {
   "cell_type": "code",
   "execution_count": 27,
   "id": "35b9add0-dfbf-4b24-84b7-dc2362f25fb7",
   "metadata": {},
   "outputs": [],
   "source": [
    "using BenchmarkTools\n",
    "using CUDA\n",
    "using Random"
   ]
  },
  {
   "cell_type": "code",
   "execution_count": 33,
   "id": "21fe235c-a7d0-4d5c-8b47-85318d1edc22",
   "metadata": {},
   "outputs": [
    {
     "name": "stdout",
     "output_type": "stream",
     "text": [
      "  0.491570 seconds (272.49 k allocations: 15.931 MiB, 65.18% compilation time)\n",
      "  0.075970 seconds (238 allocations: 15.953 KiB)\n",
      "  0.074685 seconds (140 allocations: 7.016 KiB, 21.97% gc time)\n"
     ]
    },
    {
     "data": {
      "text/plain": [
       "3.141501"
      ]
     },
     "execution_count": 33,
     "metadata": {},
     "output_type": "execute_result"
    }
   ],
   "source": [
    "mcpi_cu_sum(n, t::Type{T}=Float32) where T = 4count(≤(1), sum(x->x^2, CUDA.rand(T, 2, n); dims=1))/n\n",
    "\n",
    "@time mcpi_cu_sum(10^8)\n",
    "@time mcpi_cu_sum(10^8)\n",
    "@time mcpi_cu_sum(10^8)"
   ]
  },
  {
   "cell_type": "code",
   "execution_count": 34,
   "id": "ae8b1d39-c0e7-4bfc-bed2-022a921b408c",
   "metadata": {},
   "outputs": [
    {
     "name": "stdout",
     "output_type": "stream",
     "text": [
      "  0.695697 seconds (272.38 k allocations: 15.925 MiB, 19.16% gc time)\n",
      "  0.100567 seconds (250 allocations: 16.156 KiB, 5.01% gc time)\n",
      "  0.098464 seconds (250 allocations: 16.156 KiB, 2.46% gc time)\n"
     ]
    },
    {
     "data": {
      "text/plain": [
       "3.1416836"
      ]
     },
     "execution_count": 34,
     "metadata": {},
     "output_type": "execute_result"
    }
   ],
   "source": [
    "@time mcpi_cu_sum(10^8, Float64)\n",
    "@time mcpi_cu_sum(10^8, Float64)\n",
    "@time mcpi_cu_sum(10^8, Float64)"
   ]
  },
  {
   "cell_type": "code",
   "execution_count": 35,
   "id": "6ac98522-a29b-4db1-82f6-ee36dd04e1e5",
   "metadata": {},
   "outputs": [
    {
     "name": "stdout",
     "output_type": "stream",
     "text": [
      "  0.544994 seconds (361.02 k allocations: 20.852 MiB, 64.18% compilation time)\n",
      "  0.031376 seconds (85 allocations: 4.859 KiB)\n",
      "  0.034947 seconds (83 allocations: 4.359 KiB)\n"
     ]
    },
    {
     "data": {
      "text/plain": [
       "3.14165124"
      ]
     },
     "execution_count": 35,
     "metadata": {},
     "output_type": "execute_result"
    }
   ],
   "source": [
    "mcpi_cu_count(n, t::Type{T}=Float32) where T = 4count(x -> x^2 + rand(T)^2 ≤ 1, CUDA.rand(T, n))/n\n",
    "\n",
    "@time mcpi_cu_count(10^8)\n",
    "@time mcpi_cu_count(10^8)\n",
    "@time mcpi_cu_count(10^8)"
   ]
  },
  {
   "cell_type": "code",
   "execution_count": 36,
   "id": "f118016c-58bb-445e-81ad-c541486b851d",
   "metadata": {},
   "outputs": [
    {
     "name": "stdout",
     "output_type": "stream",
     "text": [
      "  0.547897 seconds (467.25 k allocations: 27.184 MiB, 51.23% compilation time)\n",
      "  0.055763 seconds (82 allocations: 4.266 KiB)\n",
      "  0.057039 seconds (194 allocations: 13.844 KiB)\n"
     ]
    },
    {
     "data": {
      "text/plain": [
       "3.14136356"
      ]
     },
     "execution_count": 36,
     "metadata": {},
     "output_type": "execute_result"
    }
   ],
   "source": [
    "mcpi_cu_count(n, t::Type{T}=Float32) where T = 4count(x -> x^2 + rand(T)^2 ≤ 1, CUDA.rand(T, n))/n\n",
    "\n",
    "@time mcpi_cu_count(10^8, Float64)\n",
    "@time mcpi_cu_count(10^8, Float64)\n",
    "@time mcpi_cu_count(10^8, Float64)"
   ]
  },
  {
   "cell_type": "code",
   "execution_count": 38,
   "id": "b2e308e0-bb76-4e73-b624-e81cb687ea3f",
   "metadata": {},
   "outputs": [
    {
     "name": "stdout",
     "output_type": "stream",
     "text": [
      "  0.274943 seconds (12 allocations: 19.656 KiB)\n",
      "  0.254511 seconds (12 allocations: 19.656 KiB)\n",
      "  0.253433 seconds (12 allocations: 19.656 KiB)\n"
     ]
    },
    {
     "data": {
      "text/plain": [
       "3.14180008"
      ]
     },
     "execution_count": 38,
     "metadata": {},
     "output_type": "execute_result"
    }
   ],
   "source": [
    "function mcpi(n, t::Type{T}=Float32) where T\n",
    "    rng = MersenneTwister()\n",
    "    4count(_ -> rand(rng, T)^2 + rand(rng, T)^2 ≤ 1, 1:n)/n\n",
    "end\n",
    "\n",
    "@time mcpi(10^8)\n",
    "@time mcpi(10^8)\n",
    "@time mcpi(10^8)"
   ]
  },
  {
   "cell_type": "code",
   "execution_count": 39,
   "id": "63b83449-956c-4c52-bf3d-463cf1523d04",
   "metadata": {},
   "outputs": [
    {
     "name": "stdout",
     "output_type": "stream",
     "text": [
      "  0.239222 seconds (12 allocations: 19.656 KiB)\n",
      "  0.234619 seconds (12 allocations: 19.656 KiB)\n",
      "  0.239218 seconds (12 allocations: 19.656 KiB)\n"
     ]
    },
    {
     "data": {
      "text/plain": [
       "3.1414292"
      ]
     },
     "execution_count": 39,
     "metadata": {},
     "output_type": "execute_result"
    }
   ],
   "source": [
    "@time mcpi(10^8, Float64)\n",
    "@time mcpi(10^8, Float64)\n",
    "@time mcpi(10^8, Float64)"
   ]
  },
  {
   "cell_type": "code",
   "execution_count": 40,
   "id": "349c422c-c134-40df-b3cf-952430267ade",
   "metadata": {},
   "outputs": [
    {
     "name": "stdout",
     "output_type": "stream",
     "text": [
      "  251.036 ms (12 allocations: 19.66 KiB)\n",
      "  22.087 ms (118 allocations: 6.36 KiB)\n",
      "  8.640 ms (82 allocations: 4.27 KiB)\n"
     ]
    },
    {
     "data": {
      "text/plain": [
       "3.1413556"
      ]
     },
     "execution_count": 40,
     "metadata": {},
     "output_type": "execute_result"
    }
   ],
   "source": [
    "@btime mcpi(10^8)\n",
    "@btime mcpi_cu_sum(10^8)\n",
    "@btime mcpi_cu_count(10^8)"
   ]
  },
  {
   "cell_type": "code",
   "execution_count": 41,
   "id": "fb723cbd-4d3b-4b59-9c47-26bdd308928b",
   "metadata": {},
   "outputs": [
    {
     "name": "stdout",
     "output_type": "stream",
     "text": [
      "  238.071 ms (12 allocations: 19.66 KiB)\n",
      "  37.072 ms (120 allocations: 6.39 KiB)\n",
      "  17.818 ms (82 allocations: 4.27 KiB)\n"
     ]
    },
    {
     "data": {
      "text/plain": [
       "3.14160596"
      ]
     },
     "execution_count": 41,
     "metadata": {},
     "output_type": "execute_result"
    }
   ],
   "source": [
    "@btime mcpi(10^8, Float64)\n",
    "@btime mcpi_cu_sum(10^8, Float64)\n",
    "@btime mcpi_cu_count(10^8, Float64)"
   ]
  },
  {
   "cell_type": "code",
   "execution_count": null,
   "id": "8ea041f5-b13c-496f-97c8-e187abad7a73",
   "metadata": {},
   "outputs": [],
   "source": []
  }
 ],
 "metadata": {
  "jupytext": {
   "formats": "ipynb,jl:hydrogen"
  },
  "kernelspec": {
   "display_name": "Julia 1.6.3",
   "language": "julia",
   "name": "julia-1.6"
  },
  "language_info": {
   "file_extension": ".jl",
   "mimetype": "application/julia",
   "name": "julia",
   "version": "1.6.3"
  }
 },
 "nbformat": 4,
 "nbformat_minor": 5
}
