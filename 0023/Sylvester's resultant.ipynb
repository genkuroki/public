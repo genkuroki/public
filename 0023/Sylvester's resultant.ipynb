{
 "cells": [
  {
   "cell_type": "code",
   "execution_count": 1,
   "id": "5ab68441-f571-4591-bc32-2beb0b8643da",
   "metadata": {},
   "outputs": [
    {
     "data": {
      "text/plain": [
       "(Univariate Polynomial Ring in x over Multivariate Polynomial Ring in 6 variables a, b, c, l, ..., n over Integers, x)"
      ]
     },
     "execution_count": 1,
     "metadata": {},
     "output_type": "execute_result"
    }
   ],
   "source": [
    "using AbstractAlgebra\n",
    "AbstractAlgebra.PrettyPrinting.set_html_as_latex(true)\n",
    "\n",
    "R, (a, b, c, l, m, n) = ZZ[\"a\", \"b\", \"c\", \"l\", \"m\", \"n\"]\n",
    "Rx, x = R[\"x\"]"
   ]
  },
  {
   "cell_type": "code",
   "execution_count": 2,
   "id": "72394c0e-8164-4f68-904f-b719b6aa19a3",
   "metadata": {},
   "outputs": [
    {
     "data": {
      "text/html": [
       "$a x^{2} + b x + c$"
      ],
      "text/latex": [
       "a x^{2} + b x + c"
      ],
      "text/plain": [
       "a*x^2 + b*x + c"
      ]
     },
     "execution_count": 2,
     "metadata": {},
     "output_type": "execute_result"
    }
   ],
   "source": [
    "f = a*x^2 + b*x + c"
   ]
  },
  {
   "cell_type": "code",
   "execution_count": 3,
   "id": "4d7f310c-436c-4167-b529-bd6991816831",
   "metadata": {},
   "outputs": [
    {
     "data": {
      "text/html": [
       "$l x^{2} + m x + n$"
      ],
      "text/latex": [
       "l x^{2} + m x + n"
      ],
      "text/plain": [
       "l*x^2 + m*x + n"
      ]
     },
     "execution_count": 3,
     "metadata": {},
     "output_type": "execute_result"
    }
   ],
   "source": [
    "g = l*x^2 + m*x + n"
   ]
  },
  {
   "cell_type": "code",
   "execution_count": 4,
   "id": "85e91f98-1ff2-4d66-9e18-8e1ece78e4ae",
   "metadata": {},
   "outputs": [
    {
     "data": {
      "text/html": [
       "$a^{2} n^{2} - a b m n - 2 a c l n + a c m^{2} + b^{2} l n - b c l m + c^{2} l^{2}$"
      ],
      "text/latex": [
       "a^{2} n^{2} - a b m n - 2 a c l n + a c m^{2} + b^{2} l n - b c l m + c^{2} l^{2}"
      ],
      "text/plain": [
       "a^2*n^2 - a*b*m*n - 2*a*c*l*n + a*c*m^2 + b^2*l*n - b*c*l*m + c^2*l^2"
      ]
     },
     "execution_count": 4,
     "metadata": {},
     "output_type": "execute_result"
    }
   ],
   "source": [
    "resultant(f, g)"
   ]
  },
  {
   "cell_type": "code",
   "execution_count": null,
   "id": "db5e9ef8-324c-4ac1-ba27-7e43a554d938",
   "metadata": {},
   "outputs": [],
   "source": []
  }
 ],
 "metadata": {
  "jupytext": {
   "formats": "ipynb,jl:hydrogen"
  },
  "kernelspec": {
   "display_name": "Julia 1.6.3",
   "language": "julia",
   "name": "julia-1.6"
  },
  "language_info": {
   "file_extension": ".jl",
   "mimetype": "application/julia",
   "name": "julia",
   "version": "1.6.3"
  }
 },
 "nbformat": 4,
 "nbformat_minor": 5
}
