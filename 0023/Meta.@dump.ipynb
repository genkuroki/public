{
 "cells": [
  {
   "cell_type": "code",
   "execution_count": 1,
   "id": "48019171-31f6-4c23-ac6d-2863290d3e58",
   "metadata": {},
   "outputs": [
    {
     "name": "stdout",
     "output_type": "stream",
     "text": [
      "Expr\n",
      "  head: Symbol vect\n",
      "  args: Array{Any}((2,))\n",
      "    1: Int64 0\n",
      "    2: Int64 1\n"
     ]
    }
   ],
   "source": [
    "Meta.@dump [0, 1]"
   ]
  },
  {
   "cell_type": "code",
   "execution_count": 2,
   "id": "1075977a-65a9-4366-bc70-294ae0e7f817",
   "metadata": {},
   "outputs": [
    {
     "name": "stdout",
     "output_type": "stream",
     "text": [
      "Expr\n",
      "  head: Symbol vcat\n",
      "  args: Array{Any}((2,))\n",
      "    1: Int64 0\n",
      "    2: Int64 1\n"
     ]
    }
   ],
   "source": [
    "Meta.@dump [0; 1]"
   ]
  },
  {
   "cell_type": "code",
   "execution_count": 3,
   "id": "d42c896d-9b2c-440b-be04-5335c1122be3",
   "metadata": {},
   "outputs": [
    {
     "name": "stdout",
     "output_type": "stream",
     "text": [
      "Expr\n",
      "  head: Symbol hcat\n",
      "  args: Array{Any}((2,))\n",
      "    1: Int64 0\n",
      "    2: Int64 1\n"
     ]
    }
   ],
   "source": [
    "Meta.@dump [0 1]"
   ]
  },
  {
   "cell_type": "code",
   "execution_count": 4,
   "id": "3c7bed9b-75fe-481d-a1f3-d636da432e80",
   "metadata": {},
   "outputs": [
    {
     "data": {
      "text/plain": [
       "11"
      ]
     },
     "execution_count": 4,
     "metadata": {},
     "output_type": "execute_result"
    }
   ],
   "source": [
    "[1, 2]'*[3, 4]"
   ]
  },
  {
   "cell_type": "code",
   "execution_count": 5,
   "id": "e68babee-fe94-4f53-bba7-f39e92703f1f",
   "metadata": {},
   "outputs": [
    {
     "data": {
      "text/plain": [
       "1-element Vector{Int64}:\n",
       " 11"
      ]
     },
     "execution_count": 5,
     "metadata": {},
     "output_type": "execute_result"
    }
   ],
   "source": [
    "[1 2]*[3, 4]"
   ]
  },
  {
   "cell_type": "code",
   "execution_count": null,
   "id": "ed3c8a3b-29ee-452e-90f9-4e54d72e4c0e",
   "metadata": {},
   "outputs": [],
   "source": []
  }
 ],
 "metadata": {
  "kernelspec": {
   "display_name": "Julia 1.6.3",
   "language": "julia",
   "name": "julia-1.6"
  },
  "language_info": {
   "file_extension": ".jl",
   "mimetype": "application/julia",
   "name": "julia",
   "version": "1.6.3"
  }
 },
 "nbformat": 4,
 "nbformat_minor": 5
}
