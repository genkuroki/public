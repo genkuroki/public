{
 "cells": [
  {
   "cell_type": "code",
   "execution_count": 1,
   "id": "ec3ba6d4-1ed1-43c3-a0e9-bbd969b471aa",
   "metadata": {},
   "outputs": [
    {
     "data": {
      "text/plain": [
       "(a, b, p, q, x, α, β)"
      ]
     },
     "execution_count": 1,
     "metadata": {},
     "output_type": "execute_result"
    }
   ],
   "source": [
    "using SymPy\n",
    "Poly = sympy.Poly\n",
    "@vars a b p q x α β"
   ]
  },
  {
   "cell_type": "code",
   "execution_count": 2,
   "id": "3cd1a9b6-f2f9-4ec1-8186-221bb2080721",
   "metadata": {},
   "outputs": [
    {
     "data": {
      "text/plain": [
       "(λ[0], λ[1], λ[2], λ[3], λ[4], λ[5], λ[6], λ[7], λ[8])"
      ]
     },
     "execution_count": 2,
     "metadata": {},
     "output_type": "execute_result"
    }
   ],
   "source": [
    "λ = symbols(\"λ[0:9]\")"
   ]
  },
  {
   "cell_type": "code",
   "execution_count": 3,
   "id": "2499ef6b-406e-4418-8e44-c703483a350d",
   "metadata": {},
   "outputs": [
    {
     "data": {
      "text/latex": [
       "$\\begin{equation*}\\operatorname{Poly}{\\left( x^{3} + a x + b, x, domain=\\mathbb{Z}\\left[a, b\\right] \\right)}\\end{equation*}$\n"
      ],
      "text/plain": [
       "Poly(x**3 + a*x + b, x, domain='ZZ[a,b]')"
      ]
     },
     "execution_count": 3,
     "metadata": {},
     "output_type": "execute_result"
    }
   ],
   "source": [
    "f = x^3 + a*x + b\n",
    "Poly(f, x)"
   ]
  },
  {
   "cell_type": "code",
   "execution_count": 4,
   "id": "d47e3157-f04e-4af2-9f25-aac1f35d00d4",
   "metadata": {},
   "outputs": [
    {
     "data": {
      "text/latex": [
       "$\\begin{equation*}\\operatorname{Poly}{\\left( x^{3} + p x + q, x, domain=\\mathbb{Z}\\left[p, q\\right] \\right)}\\end{equation*}$\n"
      ],
      "text/plain": [
       "Poly(x**3 + p*x + q, x, domain='ZZ[p,q]')"
      ]
     },
     "execution_count": 4,
     "metadata": {},
     "output_type": "execute_result"
    }
   ],
   "source": [
    "g = x^3 + p*x + q\n",
    "Poly(g, x)"
   ]
  },
  {
   "cell_type": "code",
   "execution_count": 5,
   "id": "b06c6bf3-e6ae-4dce-a22e-6ac8d5e80635",
   "metadata": {},
   "outputs": [
    {
     "data": {
      "text/latex": [
       "$\\begin{equation*}\\operatorname{Poly}{\\left( x^{9} + λ[8] x^{8} + λ[7] x^{7} + λ[6] x^{6} + λ[5] x^{5} + λ[4] x^{4} + λ[3] x^{3} + λ[2] x^{2} + λ[1] x + λ[0], x, domain=\\mathbb{Z}\\left[λ[0], λ[1], λ[2], λ[3], λ[4], λ[5], λ[6], λ[7], λ[8]\\right] \\right)}\\end{equation*}$\n"
      ],
      "text/plain": [
       "Poly(x**9 + λ[8]*x**8 + λ[7]*x**7 + λ[6]*x**6 + λ[5]*x**5 + λ[4]*x**4 + λ[3]*x\n",
       "**3 + λ[2]*x**2 + λ[1]*x + λ[0], x, domain='ZZ[λ[0],λ[1],λ[2],λ[3],λ[4],λ[5],λ\n",
       "[6],λ[7],λ[8]]')"
      ]
     },
     "execution_count": 5,
     "metadata": {},
     "output_type": "execute_result"
    }
   ],
   "source": [
    "H = sum(λ[begin+k]*x^k for k in 0:8) + x^9\n",
    "Poly(H, x)"
   ]
  },
  {
   "cell_type": "code",
   "execution_count": 6,
   "id": "2b71c711-99c0-44e9-b620-53ccf6b24a8d",
   "metadata": {},
   "outputs": [
    {
     "data": {
      "text/latex": [
       "$\\begin{equation*}\\operatorname{Poly}{\\left( \\left(28 a^{2} λ[8] + 72 a b + 70 a p λ[8] + 126 a q - 15 a λ[6] + 126 b p - 21 b λ[7] + 28 p^{2} λ[8] + 72 p q - 15 p λ[6] - 21 q λ[7] + 6 λ[4]\\right) α^{2}β^{2} + \\left(- 9 a^{3} - 84 a^{2} p + 7 a^{2} λ[7] + 16 a b λ[8] - 126 a p^{2} + 35 a p λ[7] + 70 a q λ[8] - 5 a λ[5] + 9 b^{2} + 56 b p λ[8] + 126 b q - 6 b λ[6] - 36 p^{3} + 21 p^{2} λ[7] + 56 p q λ[8] - 10 p λ[5] + 36 q^{2} - 15 q λ[6] + 3 λ[3]\\right) α^{2}β + \\left(- a^{3} λ[8] - 3 a^{2} b - 84 a^{2} q + a^{2} λ[6] + 2 a b λ[7] - 126 a p q + 35 a q λ[7] - a λ[4] + b^{2} λ[8] + 56 b q λ[8] - b λ[5] - 36 p^{2} q + 21 p q λ[7] + 28 q^{2} λ[8] - 10 q λ[5] + λ[2]\\right) α^{2} + \\left(- 36 a^{3} - 126 a^{2} p + 21 a^{2} λ[7] + 56 a b λ[8] - 84 a p^{2} + 35 a p λ[7] + 56 a q λ[8] - 10 a λ[5] + 36 b^{2} + 70 b p λ[8] + 126 b q - 15 b λ[6] - 9 p^{3} + 7 p^{2} λ[7] + 16 p q λ[8] - 5 p λ[5] + 9 q^{2} - 6 q λ[6] + 3 λ[3]\\right) αβ^{2} + \\left(- 8 a^{3} λ[8] - 27 a^{2} b - 56 a^{2} p λ[8] - 126 a^{2} q + 6 a^{2} λ[6] - 168 a b p + 14 a b λ[7] - 56 a p^{2} λ[8] - 168 a p q + 20 a p λ[6] + 35 a q λ[7] - 4 a λ[4] + 8 b^{2} λ[8] - 126 b p^{2} + 35 b p λ[7] + 70 b q λ[8] - 5 b λ[5] - 8 p^{3} λ[8] - 27 p^{2} q + 6 p^{2} λ[6] + 14 p q λ[7] - 4 p λ[4] + 8 q^{2} λ[8] - 5 q λ[5] + 2 λ[2]\\right) αβ + \\left(a^{4} - a^{3} λ[7] - 3 a^{2} b λ[8] - 56 a^{2} q λ[8] + a^{2} λ[5] - 3 a b^{2} - 168 a b q + 2 a b λ[6] - 56 a p q λ[8] - 84 a q^{2} + 20 a q λ[6] - a λ[3] + b^{2} λ[7] - 126 b p q + 35 b q λ[7] - b λ[4] - 8 p^{2} q λ[8] - 18 p q^{2} + 6 p q λ[6] + 7 q^{2} λ[7] - 4 q λ[4] + λ[1]\\right) α + \\left(- 36 a^{2} b - 126 a b p + 21 a b λ[7] + 28 b^{2} λ[8] - 84 b p^{2} + 35 b p λ[7] + 56 b q λ[8] - 10 b λ[5] - p^{3} λ[8] - 3 p^{2} q + p^{2} λ[6] + 2 p q λ[7] - p λ[4] + q^{2} λ[8] - q λ[5] + λ[2]\\right) β^{2} + \\left(- 8 a^{2} b λ[8] - 18 a b^{2} - 56 a b p λ[8] - 126 a b q + 6 a b λ[6] - 84 b^{2} p + 7 b^{2} λ[7] - 56 b p^{2} λ[8] - 168 b p q + 20 b p λ[6] + 35 b q λ[7] - 4 b λ[4] + p^{4} - p^{3} λ[7] - 3 p^{2} q λ[8] + p^{2} λ[5] - 3 p q^{2} + 2 p q λ[6] - p λ[3] + q^{2} λ[7] - q λ[4] + λ[1]\\right) β + a^{3} b - a^{2} b λ[7] - 2 a b^{2} λ[8] - 56 a b q λ[8] + a b λ[5] - b^{3} - 84 b^{2} q + b^{2} λ[6] - 56 b p q λ[8] - 84 b q^{2} + 20 b q λ[6] - b λ[3] + p^{3} q - p^{2} q λ[7] - 2 p q^{2} λ[8] + p q λ[5] - q^{3} + q^{2} λ[6] - q λ[3] + λ[0], α, β, domain=\\mathbb{Z}\\left[p, q, a, b, λ[0], λ[1], λ[2], λ[3], λ[4], λ[5], λ[6], λ[7], λ[8]\\right] \\right)}\\end{equation*}$\n"
      ],
      "text/plain": [
       "Poly((28*a**2*λ[8] + 72*a*b + 70*a*p*λ[8] + 126*a*q - 15*a*λ[6] + 126*b*p - 21\n",
       "*b*λ[7] + 28*p**2*λ[8] + 72*p*q - 15*p*λ[6] - 21*q*λ[7] + 6*λ[4])*α**2*β**2 + \n",
       "(-9*a**3 - 84*a**2*p + 7*a**2*λ[7] + 16*a*b*λ[8] - 126*a*p**2 + 35*a*p*λ[7] + \n",
       "70*a*q*λ[8] - 5*a*λ[5] + 9*b**2 + 56*b*p*λ[8] + 126*b*q - 6*b*λ[6] - 36*p**3 +\n",
       " 21*p**2*λ[7] + 56*p*q*λ[8] - 10*p*λ[5] + 36*q**2 - 15*q*λ[6] + 3*λ[3])*α**2*β\n",
       " + (-a**3*λ[8] - 3*a**2*b - 84*a**2*q + a**2*λ[6] + 2*a*b*λ[7] - 126*a*p*q + 3\n",
       "5*a*q*λ[7] - a*λ[4] + b**2*λ[8] + 56*b*q*λ[8] - b*λ[5] - 36*p**2*q + 21*p*q*λ[\n",
       "7] + 28*q**2*λ[8] - 10*q*λ[5] + λ[2])*α**2 + (-36*a**3 - 126*a**2*p + 21*a**2*\n",
       "λ[7] + 56*a*b*λ[8] - 84*a*p**2 + 35*a*p*λ[7] + 56*a*q*λ[8] - 10*a*λ[5] + 36*b*\n",
       "*2 + 70*b*p*λ[8] + 126*b*q - 15*b*λ[6] - 9*p**3 + 7*p**2*λ[7] + 16*p*q*λ[8] - \n",
       "5*p*λ[5] + 9*q**2 - 6*q*λ[6] + 3*λ[3])*α*β**2 + (-8*a**3*λ[8] - 27*a**2*b - 56\n",
       "*a**2*p*λ[8] - 126*a**2*q + 6*a**2*λ[6] - 168*a*b*p + 14*a*b*λ[7] - 56*a*p**2*\n",
       "λ[8] - 168*a*p*q + 20*a*p*λ[6] + 35*a*q*λ[7] - 4*a*λ[4] + 8*b**2*λ[8] - 126*b*\n",
       "p**2 + 35*b*p*λ[7] + 70*b*q*λ[8] - 5*b*λ[5] - 8*p**3*λ[8] - 27*p**2*q + 6*p**2\n",
       "*λ[6] + 14*p*q*λ[7] - 4*p*λ[4] + 8*q**2*λ[8] - 5*q*λ[5] + 2*λ[2])*α*β + (a**4 \n",
       "- a**3*λ[7] - 3*a**2*b*λ[8] - 56*a**2*q*λ[8] + a**2*λ[5] - 3*a*b**2 - 168*a*b*\n",
       "q + 2*a*b*λ[6] - 56*a*p*q*λ[8] - 84*a*q**2 + 20*a*q*λ[6] - a*λ[3] + b**2*λ[7] \n",
       "- 126*b*p*q + 35*b*q*λ[7] - b*λ[4] - 8*p**2*q*λ[8] - 18*p*q**2 + 6*p*q*λ[6] + \n",
       "7*q**2*λ[7] - 4*q*λ[4] + λ[1])*α + (-36*a**2*b - 126*a*b*p + 21*a*b*λ[7] + 28*\n",
       "b**2*λ[8] - 84*b*p**2 + 35*b*p*λ[7] + 56*b*q*λ[8] - 10*b*λ[5] - p**3*λ[8] - 3*\n",
       "p**2*q + p**2*λ[6] + 2*p*q*λ[7] - p*λ[4] + q**2*λ[8] - q*λ[5] + λ[2])*β**2 + (\n",
       "-8*a**2*b*λ[8] - 18*a*b**2 - 56*a*b*p*λ[8] - 126*a*b*q + 6*a*b*λ[6] - 84*b**2*\n",
       "p + 7*b**2*λ[7] - 56*b*p**2*λ[8] - 168*b*p*q + 20*b*p*λ[6] + 35*b*q*λ[7] - 4*b\n",
       "*λ[4] + p**4 - p**3*λ[7] - 3*p**2*q*λ[8] + p**2*λ[5] - 3*p*q**2 + 2*p*q*λ[6] -\n",
       " p*λ[3] + q**2*λ[7] - q*λ[4] + λ[1])*β + a**3*b - a**2*b*λ[7] - 2*a*b**2*λ[8] \n",
       "- 56*a*b*q*λ[8] + a*b*λ[5] - b**3 - 84*b**2*q + b**2*λ[6] - 56*b*p*q*λ[8] - 84\n",
       "*b*q**2 + 20*b*q*λ[6] - b*λ[3] + p**3*q - p**2*q*λ[7] - 2*p*q**2*λ[8] + p*q*λ[\n",
       "5] - q**3 + q**2*λ[6] - q*λ[3] + λ[0], α, β, domain='ZZ[p,q,a,b,λ[0],λ[1],λ[2]\n",
       ",λ[3],λ[4],λ[5],λ[6],λ[7],λ[8]]')"
      ]
     },
     "execution_count": 6,
     "metadata": {},
     "output_type": "execute_result"
    }
   ],
   "source": [
    "h = H(x => α + β).expand()\n",
    "for k in 6:-1:0\n",
    "    h = h(α^(k+3) => α^(k+3) - α^k * f(x=>α), β^(k+3) => β^(k+3) - β^k * g(x=>β)).expand()\n",
    "end\n",
    "P = Poly(h, α, β)"
   ]
  },
  {
   "cell_type": "code",
   "execution_count": 7,
   "id": "7ad6db64-319a-4a4b-b240-4994633caa98",
   "metadata": {},
   "outputs": [
    {
     "data": {
      "text/latex": [
       "$\\left[ \\begin{array}{r}28 a^{2} λ[8] + 72 a b + 70 a p λ[8] + 126 a q - 15 a λ[6] + 126 b p - 21 b λ[7] + 28 p^{2} λ[8] + 72 p q - 15 p λ[6] - 21 q λ[7] + 6 λ[4]\\\\- 9 a^{3} - 84 a^{2} p + 7 a^{2} λ[7] + 16 a b λ[8] - 126 a p^{2} + 35 a p λ[7] + 70 a q λ[8] - 5 a λ[5] + 9 b^{2} + 56 b p λ[8] + 126 b q - 6 b λ[6] - 36 p^{3} + 21 p^{2} λ[7] + 56 p q λ[8] - 10 p λ[5] + 36 q^{2} - 15 q λ[6] + 3 λ[3]\\\\- a^{3} λ[8] - 3 a^{2} b - 84 a^{2} q + a^{2} λ[6] + 2 a b λ[7] - 126 a p q + 35 a q λ[7] - a λ[4] + b^{2} λ[8] + 56 b q λ[8] - b λ[5] - 36 p^{2} q + 21 p q λ[7] + 28 q^{2} λ[8] - 10 q λ[5] + λ[2]\\\\- 36 a^{3} - 126 a^{2} p + 21 a^{2} λ[7] + 56 a b λ[8] - 84 a p^{2} + 35 a p λ[7] + 56 a q λ[8] - 10 a λ[5] + 36 b^{2} + 70 b p λ[8] + 126 b q - 15 b λ[6] - 9 p^{3} + 7 p^{2} λ[7] + 16 p q λ[8] - 5 p λ[5] + 9 q^{2} - 6 q λ[6] + 3 λ[3]\\\\- 8 a^{3} λ[8] - 27 a^{2} b - 56 a^{2} p λ[8] - 126 a^{2} q + 6 a^{2} λ[6] - 168 a b p + 14 a b λ[7] - 56 a p^{2} λ[8] - 168 a p q + 20 a p λ[6] + 35 a q λ[7] - 4 a λ[4] + 8 b^{2} λ[8] - 126 b p^{2} + 35 b p λ[7] + 70 b q λ[8] - 5 b λ[5] - 8 p^{3} λ[8] - 27 p^{2} q + 6 p^{2} λ[6] + 14 p q λ[7] - 4 p λ[4] + 8 q^{2} λ[8] - 5 q λ[5] + 2 λ[2]\\\\a^{4} - a^{3} λ[7] - 3 a^{2} b λ[8] - 56 a^{2} q λ[8] + a^{2} λ[5] - 3 a b^{2} - 168 a b q + 2 a b λ[6] - 56 a p q λ[8] - 84 a q^{2} + 20 a q λ[6] - a λ[3] + b^{2} λ[7] - 126 b p q + 35 b q λ[7] - b λ[4] - 8 p^{2} q λ[8] - 18 p q^{2} + 6 p q λ[6] + 7 q^{2} λ[7] - 4 q λ[4] + λ[1]\\\\- 36 a^{2} b - 126 a b p + 21 a b λ[7] + 28 b^{2} λ[8] - 84 b p^{2} + 35 b p λ[7] + 56 b q λ[8] - 10 b λ[5] - p^{3} λ[8] - 3 p^{2} q + p^{2} λ[6] + 2 p q λ[7] - p λ[4] + q^{2} λ[8] - q λ[5] + λ[2]\\\\- 8 a^{2} b λ[8] - 18 a b^{2} - 56 a b p λ[8] - 126 a b q + 6 a b λ[6] - 84 b^{2} p + 7 b^{2} λ[7] - 56 b p^{2} λ[8] - 168 b p q + 20 b p λ[6] + 35 b q λ[7] - 4 b λ[4] + p^{4} - p^{3} λ[7] - 3 p^{2} q λ[8] + p^{2} λ[5] - 3 p q^{2} + 2 p q λ[6] - p λ[3] + q^{2} λ[7] - q λ[4] + λ[1]\\\\a^{3} b - a^{2} b λ[7] - 2 a b^{2} λ[8] - 56 a b q λ[8] + a b λ[5] - b^{3} - 84 b^{2} q + b^{2} λ[6] - 56 b p q λ[8] - 84 b q^{2} + 20 b q λ[6] - b λ[3] + p^{3} q - p^{2} q λ[7] - 2 p q^{2} λ[8] + p q λ[5] - q^{3} + q^{2} λ[6] - q λ[3] + λ[0]\\end{array} \\right]$\n"
      ],
      "text/plain": [
       "9-element Vector{Sym}:\n",
       "                                                                                                                                                                                      28*a^2*λ[8] + 72*a*b + 70*a*p*λ[8] + 126*a*q - 15*a*λ[6] + 126*b*p - 21*b*λ[7] + 28*p^2*λ[8] + 72*p*q - 15*p*λ[6] - 21*q*λ[7] + 6*λ[4]\n",
       "                                                                                                   -9*a^3 - 84*a^2*p + 7*a^2*λ[7] + 16*a*b*λ[8] - 126*a*p^2 + 35*a*p*λ[7] + 70*a*q*λ[8] - 5*a*λ[5] + 9*b^2 + 56*b*p*λ[8] + 126*b*q - 6*b*λ[6] - 36*p^3 + 21*p^2*λ[7] + 56*p*q*λ[8] - 10*p*λ[5] + 36*q^2 - 15*q*λ[6] + 3*λ[3]\n",
       "                                                                                                                                       -a^3*λ[8] - 3*a^2*b - 84*a^2*q + a^2*λ[6] + 2*a*b*λ[7] - 126*a*p*q + 35*a*q*λ[7] - a*λ[4] + b^2*λ[8] + 56*b*q*λ[8] - b*λ[5] - 36*p^2*q + 21*p*q*λ[7] + 28*q^2*λ[8] - 10*q*λ[5] + λ[2]\n",
       "                                                                                                   -36*a^3 - 126*a^2*p + 21*a^2*λ[7] + 56*a*b*λ[8] - 84*a*p^2 + 35*a*p*λ[7] + 56*a*q*λ[8] - 10*a*λ[5] + 36*b^2 + 70*b*p*λ[8] + 126*b*q - 15*b*λ[6] - 9*p^3 + 7*p^2*λ[7] + 16*p*q*λ[8] - 5*p*λ[5] + 9*q^2 - 6*q*λ[6] + 3*λ[3]\n",
       " -8*a^3*λ[8] - 27*a^2*b - 56*a^2*p*λ[8] - 126*a^2*q + 6*a^2*λ[6] - 168*a*b*p + 14*a*b*λ[7] - 56*a*p^2*λ[8] - 168*a*p*q + 20*a*p*λ[6] + 35*a*q*λ[7] - 4*a*λ[4] + 8*b^2*λ[8] - 126*b*p^2 + 35*b*p*λ[7] + 70*b*q*λ[8] - 5*b*λ[5] - 8*p^3*λ[8] - 27*p^2*q + 6*p^2*λ[6] + 14*p*q*λ[7] - 4*p*λ[4] + 8*q^2*λ[8] - 5*q*λ[5] + 2*λ[2]\n",
       "                                                           a^4 - a^3*λ[7] - 3*a^2*b*λ[8] - 56*a^2*q*λ[8] + a^2*λ[5] - 3*a*b^2 - 168*a*b*q + 2*a*b*λ[6] - 56*a*p*q*λ[8] - 84*a*q^2 + 20*a*q*λ[6] - a*λ[3] + b^2*λ[7] - 126*b*p*q + 35*b*q*λ[7] - b*λ[4] - 8*p^2*q*λ[8] - 18*p*q^2 + 6*p*q*λ[6] + 7*q^2*λ[7] - 4*q*λ[4] + λ[1]\n",
       "                                                                                                                                       -36*a^2*b - 126*a*b*p + 21*a*b*λ[7] + 28*b^2*λ[8] - 84*b*p^2 + 35*b*p*λ[7] + 56*b*q*λ[8] - 10*b*λ[5] - p^3*λ[8] - 3*p^2*q + p^2*λ[6] + 2*p*q*λ[7] - p*λ[4] + q^2*λ[8] - q*λ[5] + λ[2]\n",
       "                                                          -8*a^2*b*λ[8] - 18*a*b^2 - 56*a*b*p*λ[8] - 126*a*b*q + 6*a*b*λ[6] - 84*b^2*p + 7*b^2*λ[7] - 56*b*p^2*λ[8] - 168*b*p*q + 20*b*p*λ[6] + 35*b*q*λ[7] - 4*b*λ[4] + p^4 - p^3*λ[7] - 3*p^2*q*λ[8] + p^2*λ[5] - 3*p*q^2 + 2*p*q*λ[6] - p*λ[3] + q^2*λ[7] - q*λ[4] + λ[1]\n",
       "                                                                                                  a^3*b - a^2*b*λ[7] - 2*a*b^2*λ[8] - 56*a*b*q*λ[8] + a*b*λ[5] - b^3 - 84*b^2*q + b^2*λ[6] - 56*b*p*q*λ[8] - 84*b*q^2 + 20*b*q*λ[6] - b*λ[3] + p^3*q - p^2*q*λ[7] - 2*p*q^2*λ[8] + p*q*λ[5] - q^3 + q^2*λ[6] - q*λ[3] + λ[0]"
      ]
     },
     "execution_count": 7,
     "metadata": {},
     "output_type": "execute_result"
    }
   ],
   "source": [
    "C = P.coeffs()"
   ]
  },
  {
   "cell_type": "code",
   "execution_count": 8,
   "id": "51fc4861-c5e9-426a-850d-9282fedbe061",
   "metadata": {},
   "outputs": [
    {
     "data": {
      "text/plain": [
       "9"
      ]
     },
     "execution_count": 8,
     "metadata": {},
     "output_type": "execute_result"
    }
   ],
   "source": [
    "length(C)"
   ]
  },
  {
   "cell_type": "code",
   "execution_count": 9,
   "id": "f3b3dd77-6003-4bf2-8d23-e424a3d89c97",
   "metadata": {},
   "outputs": [
    {
     "name": "stdout",
     "output_type": "stream",
     "text": [
      "  3.627048 seconds (866.81 k allocations: 52.052 MiB, 0.23% gc time, 0.15% compilation time)\n"
     ]
    },
    {
     "data": {
      "text/plain": [
       "Dict{Any, Any} with 9 entries:\n",
       "  λ[7] => 3*a + 3*p\n",
       "  λ[1] => a^3*p - 2*a^2*p^2 + 3*a*b^2 - 3*a*b*q + a*p^3 - 6*a*q^2 - 6*b^2*p - 3…\n",
       "  λ[6] => 3*b + 3*q\n",
       "  λ[3] => a^3 + a^2*p + a*p^2 + 3*b^2 - 21*b*q + p^3 + 3*q^2\n",
       "  λ[0] => a^3*q + a^2*b*p - 2*a^2*p*q - 2*a*b*p^2 + a*p^2*q + b^3 + 3*b^2*q + b…\n",
       "  λ[5] => 3*a^2 + 3*a*p + 3*p^2\n",
       "  λ[2] => 3*a^2*b + 3*a^2*q - 6*a*b*p - 6*a*p*q + 3*b*p^2 + 3*p^2*q\n",
       "  λ[8] => 0\n",
       "  λ[4] => 6*a*b - 3*a*q - 3*b*p + 6*p*q"
      ]
     },
     "execution_count": 9,
     "metadata": {},
     "output_type": "execute_result"
    }
   ],
   "source": [
    "sol = @time solve(C, λ)"
   ]
  },
  {
   "cell_type": "markdown",
   "id": "c624c547-199c-4751-a4c0-43c88394ce5f",
   "metadata": {},
   "source": [
    "Assume that\n",
    "\n",
    "* the minimal polynomial of $\\alpha$ is equal to $x^3 + ax + b$,\n",
    "* the minimal polynomial of $\\beta$ is equal to $x^3 + px + q$, and\n",
    "* the minimal polynomial of $\\alpha + \\beta$ is of degree $9$.\n",
    "\n",
    "Then the minimal polynomial of $\\alpha + \\beta$ is equal to $x^{9} + \\left(3 a + 3 p\\right) x^{7} + \\left(3 b + 3 q\\right) x^{6} + \\left(3 a^{2} + 3 a p + 3 p^{2}\\right) x^{5} + \\left(6 a b - 3 a q - 3 b p + 6 p q\\right) x^{4} + \\left(a^{3} + a^{2} p + a p^{2} + 3 b^{2} - 21 b q + p^{3} + 3 q^{2}\\right) x^{3} + \\left(3 a^{2} b + 3 a^{2} q - 6 a b p - 6 a p q + 3 b p^{2} + 3 p^{2} q\\right) x^{2} + \\left(a^{3} p - 2 a^{2} p^{2} + 3 a b^{2} - 3 a b q + a p^{3} - 6 a q^{2} - 6 b^{2} p - 3 b p q + 3 p q^{2}\\right) x + a^{3} q + a^{2} b p - 2 a^{2} p q - 2 a b p^{2} + a p^{2} q + b^{3} + 3 b^{2} q + b p^{3} + 3 b q^{2} + q^{3}$."
   ]
  },
  {
   "cell_type": "code",
   "execution_count": 10,
   "id": "dc61976a-354b-4d1e-91f1-ca8222718b7d",
   "metadata": {},
   "outputs": [
    {
     "data": {
      "text/latex": [
       "$\\begin{equation*}\\operatorname{Poly}{\\left( x^{9} + \\left(3 a + 3 p\\right) x^{7} + \\left(3 b + 3 q\\right) x^{6} + \\left(3 a^{2} + 3 a p + 3 p^{2}\\right) x^{5} + \\left(6 a b - 3 a q - 3 b p + 6 p q\\right) x^{4} + \\left(a^{3} + a^{2} p + a p^{2} + 3 b^{2} - 21 b q + p^{3} + 3 q^{2}\\right) x^{3} + \\left(3 a^{2} b + 3 a^{2} q - 6 a b p - 6 a p q + 3 b p^{2} + 3 p^{2} q\\right) x^{2} + \\left(a^{3} p - 2 a^{2} p^{2} + 3 a b^{2} - 3 a b q + a p^{3} - 6 a q^{2} - 6 b^{2} p - 3 b p q + 3 p q^{2}\\right) x + a^{3} q + a^{2} b p - 2 a^{2} p q - 2 a b p^{2} + a p^{2} q + b^{3} + 3 b^{2} q + b p^{3} + 3 b q^{2} + q^{3}, x, domain=\\mathbb{Z}\\left[p, q, a, b\\right] \\right)}\\end{equation*}$\n"
      ],
      "text/plain": [
       "Poly(x**9 + (3*a + 3*p)*x**7 + (3*b + 3*q)*x**6 + (3*a**2 + 3*a*p + 3*p**2)*x*\n",
       "*5 + (6*a*b - 3*a*q - 3*b*p + 6*p*q)*x**4 + (a**3 + a**2*p + a*p**2 + 3*b**2 -\n",
       " 21*b*q + p**3 + 3*q**2)*x**3 + (3*a**2*b + 3*a**2*q - 6*a*b*p - 6*a*p*q + 3*b\n",
       "*p**2 + 3*p**2*q)*x**2 + (a**3*p - 2*a**2*p**2 + 3*a*b**2 - 3*a*b*q + a*p**3 -\n",
       " 6*a*q**2 - 6*b**2*p - 3*b*p*q + 3*p*q**2)*x + a**3*q + a**2*b*p - 2*a**2*p*q \n",
       "- 2*a*b*p**2 + a*p**2*q + b**3 + 3*b**2*q + b*p**3 + 3*b*q**2 + q**3, x, domai\n",
       "n='ZZ[p,q,a,b]')"
      ]
     },
     "execution_count": 10,
     "metadata": {},
     "output_type": "execute_result"
    }
   ],
   "source": [
    "h = sum(sol[λ[begin+k]]*x^k for k in 0:8) + x^9\n",
    "Poly(h, x)"
   ]
  },
  {
   "cell_type": "markdown",
   "id": "2e367c59-bb3b-44be-81e0-6a844258d6fe",
   "metadata": {},
   "source": [
    "Assume that\n",
    "\n",
    "* the minimal polynomial of $\\alpha$ is equal to $x^3 + ax + b$,\n",
    "* the minimal polynomial of $\\beta$ is equal to $x^3 - p $, and\n",
    "* the minimal polynomial of $\\alpha + \\beta$ is of degree $9$.\n",
    "\n",
    "Then the minimal polynomial of $\\alpha + \\beta$ is equal to $x^{9} + 3 a x^{7} + \\left(3 b - 3 p\\right) x^{6} + 3 a^{2} x^{5} + \\left(6 a b + 3 a p\\right) x^{4} + \\left(a^{3} + 3 b^{2} + 21 b p + 3 p^{2}\\right) x^{3} + \\left(3 a^{2} b - 3 a^{2} p\\right) x^{2} + \\left(3 a b^{2} + 3 a b p - 6 a p^{2}\\right) x -  a^{3} p + b^{3} - 3 b^{2} p + 3 b p^{2} - p^{3}$"
   ]
  },
  {
   "cell_type": "code",
   "execution_count": 11,
   "id": "b3cbf21b-9422-4d4a-add3-cf376104f736",
   "metadata": {},
   "outputs": [
    {
     "data": {
      "text/latex": [
       "$\\begin{equation*}\\operatorname{Poly}{\\left( x^{9} + 3 a x^{7} + \\left(3 b - 3 p\\right) x^{6} + 3 a^{2} x^{5} + \\left(6 a b + 3 a p\\right) x^{4} + \\left(a^{3} + 3 b^{2} + 21 b p + 3 p^{2}\\right) x^{3} + \\left(3 a^{2} b - 3 a^{2} p\\right) x^{2} + \\left(3 a b^{2} + 3 a b p - 6 a p^{2}\\right) x -  a^{3} p + b^{3} - 3 b^{2} p + 3 b p^{2} - p^{3}, x, domain=\\mathbb{Z}\\left[p, a, b\\right] \\right)}\\end{equation*}$\n"
      ],
      "text/plain": [
       "Poly(x**9 + 3*a*x**7 + (3*b - 3*p)*x**6 + 3*a**2*x**5 + (6*a*b + 3*a*p)*x**4 +\n",
       " (a**3 + 3*b**2 + 21*b*p + 3*p**2)*x**3 + (3*a**2*b - 3*a**2*p)*x**2 + (3*a*b*\n",
       "*2 + 3*a*b*p - 6*a*p**2)*x - a**3*p + b**3 - 3*b**2*p + 3*b*p**2 - p**3, x, do\n",
       "main='ZZ[p,a,b]')"
      ]
     },
     "execution_count": 11,
     "metadata": {},
     "output_type": "execute_result"
    }
   ],
   "source": [
    "h1 = h(p=>0)(q=>-p)\n",
    "Poly(h1, x)"
   ]
  },
  {
   "cell_type": "markdown",
   "id": "c18004c8-cfc2-491d-8840-c0af43f46bc7",
   "metadata": {},
   "source": [
    "Assume that\n",
    "\n",
    "* the minimal polynomial of $\\alpha$ is equal to $x^3 - a$,\n",
    "* the minimal polynomial of $\\beta$ is equal to $x^3 - b$, and\n",
    "* the minimal polynomial of $\\alpha + \\beta$ is of degree $9$.\n",
    "\n",
    "Then the minimal polynomial of $\\alpha + \\beta$ is equal to $x^{9} + \\left(- 3 a - 3 b\\right) x^{6} + \\left(3 a^{2} - 21 a b + 3 b^{2}\\right) x^{3} -  a^{3} - 3 a^{2} b - 3 a b^{2} - b^{3}$."
   ]
  },
  {
   "cell_type": "code",
   "execution_count": 12,
   "id": "e22ac7e1-0633-497a-81f7-b48ddf2d0248",
   "metadata": {},
   "outputs": [
    {
     "data": {
      "text/latex": [
       "$\\begin{equation*}\\operatorname{Poly}{\\left( x^{9} + \\left(- 3 a - 3 b\\right) x^{6} + \\left(3 a^{2} - 21 a b + 3 b^{2}\\right) x^{3} -  a^{3} - 3 a^{2} b - 3 a b^{2} - b^{3}, x, domain=\\mathbb{Z}\\left[a, b\\right] \\right)}\\end{equation*}$\n"
      ],
      "text/plain": [
       "Poly(x**9 + (-3*a - 3*b)*x**6 + (3*a**2 - 21*a*b + 3*b**2)*x**3 - a**3 - 3*a**\n",
       "2*b - 3*a*b**2 - b**3, x, domain='ZZ[a,b]')"
      ]
     },
     "execution_count": 12,
     "metadata": {},
     "output_type": "execute_result"
    }
   ],
   "source": [
    "h2 = h(a=>0, p=>0)(b=>-a)(q=>-b)\n",
    "Poly(h2, x)"
   ]
  },
  {
   "cell_type": "markdown",
   "id": "0fbd5073-1d9a-41ab-aada-fdd76c243590",
   "metadata": {},
   "source": [
    "The minimal polynomial of $\\sqrt[3]{2} + \\sqrt[3]{3}$ is equal to $x^{9} - 15 x^{6} - 87 x^{3} - 125$."
   ]
  },
  {
   "cell_type": "code",
   "execution_count": 13,
   "id": "807a7fe2-bd9a-4655-9630-1ed34bdc55b8",
   "metadata": {},
   "outputs": [
    {
     "data": {
      "text/latex": [
       "$\\begin{equation*}\\operatorname{Poly}{\\left( x^{9} - 15 x^{6} - 87 x^{3} - 125, x, domain=\\mathbb{Z} \\right)}\\end{equation*}$\n"
      ],
      "text/plain": [
       "Poly(x**9 - 15*x**6 - 87*x**3 - 125, x, domain='ZZ')"
      ]
     },
     "execution_count": 13,
     "metadata": {},
     "output_type": "execute_result"
    }
   ],
   "source": [
    "h3 = h2(a=>2, b=>3)\n",
    "Poly(h3, x)"
   ]
  },
  {
   "cell_type": "code",
   "execution_count": null,
   "id": "6f412dbe-6f2b-4e4f-97f8-54c9b4699741",
   "metadata": {},
   "outputs": [],
   "source": []
  }
 ],
 "metadata": {
  "jupytext": {
   "formats": "ipynb,jl:hydrogen"
  },
  "kernelspec": {
   "display_name": "Julia 1.6.3",
   "language": "julia",
   "name": "julia-1.6"
  },
  "language_info": {
   "file_extension": ".jl",
   "mimetype": "application/julia",
   "name": "julia",
   "version": "1.6.3"
  }
 },
 "nbformat": 4,
 "nbformat_minor": 5
}
