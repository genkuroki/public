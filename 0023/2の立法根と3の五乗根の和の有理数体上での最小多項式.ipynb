{
 "cells": [
  {
   "cell_type": "code",
   "execution_count": 1,
   "id": "1f65d54e-2c96-4dcb-991d-38430ce46072",
   "metadata": {},
   "outputs": [
    {
     "data": {
      "text/plain": [
       "(x, y, z)"
      ]
     },
     "execution_count": 1,
     "metadata": {},
     "output_type": "execute_result"
    }
   ],
   "source": [
    "using SymPy\n",
    "@vars x y z"
   ]
  },
  {
   "cell_type": "code",
   "execution_count": 2,
   "id": "91db7b66-94ae-4a7d-9ddd-a72185ae8140",
   "metadata": {},
   "outputs": [
    {
     "data": {
      "text/latex": [
       "$\\begin{equation*}\\sqrt[3]{2}\\end{equation*}$\n"
      ],
      "text/plain": [
       "3 ___\n",
       "\\/ 2 "
      ]
     },
     "execution_count": 2,
     "metadata": {},
     "output_type": "execute_result"
    }
   ],
   "source": [
    "a = Sym(2)^(1/Sym(3))"
   ]
  },
  {
   "cell_type": "code",
   "execution_count": 3,
   "id": "5140ec9a-faa7-4c8c-9837-a5fe4113f81e",
   "metadata": {},
   "outputs": [
    {
     "data": {
      "text/latex": [
       "$\\begin{equation*}\\sqrt[5]{3}\\end{equation*}$\n"
      ],
      "text/plain": [
       "5 ___\n",
       "\\/ 3 "
      ]
     },
     "execution_count": 3,
     "metadata": {},
     "output_type": "execute_result"
    }
   ],
   "source": [
    "b = Sym(3)^(1/Sym(5))"
   ]
  },
  {
   "cell_type": "code",
   "execution_count": 4,
   "id": "a327c014-f9fa-410b-af3c-8c674724a795",
   "metadata": {},
   "outputs": [
    {
     "data": {
      "text/latex": [
       "$\\begin{equation*}\\sqrt[5]{3} + \\sqrt[3]{2}\\end{equation*}$\n"
      ],
      "text/plain": [
       "5 ___   3 ___\n",
       "\\/ 3  + \\/ 2 "
      ]
     },
     "execution_count": 4,
     "metadata": {},
     "output_type": "execute_result"
    }
   ],
   "source": [
    "θ = a + b"
   ]
  },
  {
   "cell_type": "code",
   "execution_count": 5,
   "id": "d56d56d8-8ad1-4f38-9a3f-5efedeb4d862",
   "metadata": {},
   "outputs": [
    {
     "data": {
      "text/latex": [
       "$\\begin{equation*}x^{15} - 10 x^{12} - 9 x^{10} + 40 x^{9} - 540 x^{7} - 80 x^{6} + 27 x^{5} - 1620 x^{4} + 80 x^{3} - 540 x^{2} - 360 x - 59\\end{equation*}$\n"
      ],
      "text/plain": [
       " 15       12      10       9        7       6       5         4       3       \n",
       "x   - 10*x   - 9*x   + 40*x  - 540*x  - 80*x  + 27*x  - 1620*x  + 80*x  - 540*\n",
       "\n",
       " 2             \n",
       "x  - 360*x - 59"
      ]
     },
     "execution_count": 5,
     "metadata": {},
     "output_type": "execute_result"
    }
   ],
   "source": [
    "sympy.minimal_polynomial(θ, x)"
   ]
  },
  {
   "cell_type": "code",
   "execution_count": 6,
   "id": "baf86d7b-2a85-4115-8468-b18ae70e71cb",
   "metadata": {},
   "outputs": [
    {
     "data": {
      "text/latex": [
       "$\\begin{equation*}x^{3} - 2\\end{equation*}$\n"
      ],
      "text/plain": [
       " 3    \n",
       "x  - 2"
      ]
     },
     "execution_count": 6,
     "metadata": {},
     "output_type": "execute_result"
    }
   ],
   "source": [
    "f = sympy.minimal_polynomial(a, x)"
   ]
  },
  {
   "cell_type": "code",
   "execution_count": 7,
   "id": "8b146c7a-c70d-4c36-96b0-3780801b635f",
   "metadata": {},
   "outputs": [
    {
     "data": {
      "text/latex": [
       "$\\begin{equation*}x^{5} - 3\\end{equation*}$\n"
      ],
      "text/plain": [
       " 5    \n",
       "x  - 3"
      ]
     },
     "execution_count": 7,
     "metadata": {},
     "output_type": "execute_result"
    }
   ],
   "source": [
    "g = sympy.minimal_polynomial(b, x)"
   ]
  },
  {
   "cell_type": "code",
   "execution_count": 8,
   "id": "89ce3a39-2e3d-43de-8ba0-6d8a841abc99",
   "metadata": {},
   "outputs": [
    {
     "data": {
      "text/latex": [
       "$\\begin{equation*}x^{3} - 3 x^{2} z + 3 x z^{2} - z^{3} + 2\\end{equation*}$\n"
      ],
      "text/plain": [
       " 3      2          2    3    \n",
       "x  - 3*x *z + 3*x*z  - z  + 2"
      ]
     },
     "execution_count": 8,
     "metadata": {},
     "output_type": "execute_result"
    }
   ],
   "source": [
    "h = -f(z - x).expand()"
   ]
  },
  {
   "cell_type": "code",
   "execution_count": 9,
   "id": "f50fa505-42f4-47cc-9ad2-b14bb5f79d4b",
   "metadata": {},
   "outputs": [
    {
     "data": {
      "text/latex": [
       "$\\begin{equation*}10 x^{2} z^{3} - 2 x^{2} - 15 x z^{4} - 6 x z + 6 z^{5} - 12 z^{2} - 3\\end{equation*}$\n"
      ],
      "text/plain": [
       "    2  3      2         4              5       2    \n",
       "10*x *z  - 2*x  - 15*x*z  - 6*x*z + 6*z  - 12*z  - 3"
      ]
     },
     "execution_count": 9,
     "metadata": {},
     "output_type": "execute_result"
    }
   ],
   "source": [
    "h1 = g - (x^2 + 3z*x + 6z^2)*h |> expand"
   ]
  },
  {
   "cell_type": "code",
   "execution_count": 10,
   "id": "25d3507d-d97f-4797-b75a-0a8e09ce0f10",
   "metadata": {},
   "outputs": [
    {
     "data": {
      "text/latex": [
       "$\\begin{equation*}15 x z^{8} + 102 x z^{5} + 30 x z^{3} + 60 x z^{2} - 6 x - 10 z^{9} - 12 z^{6} - 45 z^{4} + 60 z^{3} + 36 z + 8\\end{equation*}$\n"
      ],
      "text/plain": [
       "      8          5         3         2             9       6       4       3  \n",
       "15*x*z  + 102*x*z  + 30*x*z  + 60*x*z  - 6*x - 10*z  - 12*z  - 45*z  + 60*z  +\n",
       "\n",
       "         \n",
       " 36*z + 8"
      ]
     },
     "execution_count": 10,
     "metadata": {},
     "output_type": "execute_result"
    }
   ],
   "source": [
    "r = (10z^3 - 2)^2*h - ((10z^3 - 2)*x - 15z^4 + 12z)*h1 |> expand"
   ]
  },
  {
   "cell_type": "code",
   "execution_count": 11,
   "id": "e1126829-1f75-4443-8f81-5301e05534bc",
   "metadata": {},
   "outputs": [
    {
     "data": {
      "text/latex": [
       "$\\left[ \\begin{array}{r}15 z^{8} + 102 z^{5} + 30 z^{3} + 60 z^{2} - 6\\\\10 z^{9} + 12 z^{6} + 45 z^{4} - 60 z^{3} - 36 z - 8\\end{array} \\right]$\n"
      ],
      "text/plain": [
       "2-element Vector{Sym}:\n",
       "       15*z^8 + 102*z^5 + 30*z^3 + 60*z^2 - 6\n",
       " 10*z^9 + 12*z^6 + 45*z^4 - 60*z^3 - 36*z - 8"
      ]
     },
     "execution_count": 11,
     "metadata": {},
     "output_type": "execute_result"
    }
   ],
   "source": [
    "Denom, Numer = sympy.Poly(r, x).coeffs() |> C -> [C[1], -C[2]]"
   ]
  },
  {
   "cell_type": "code",
   "execution_count": 12,
   "id": "47cd42d4-59a9-4496-8ccb-c4fe68080b0d",
   "metadata": {},
   "outputs": [
    {
     "data": {
      "text/latex": [
       "$\\begin{equation*}\\frac{10 z^{9} + 12 z^{6} + 45 z^{4} - 60 z^{3} - 36 z - 8}{15 z^{8} + 102 z^{5} + 30 z^{3} + 60 z^{2} - 6}\\end{equation*}$\n"
      ],
      "text/plain": [
       "    9       6       4       3           \n",
       "10*z  + 12*z  + 45*z  - 60*z  - 36*z - 8\n",
       "----------------------------------------\n",
       "       8        5       3       2       \n",
       "   15*z  + 102*z  + 30*z  + 60*z  - 6   "
      ]
     },
     "execution_count": 12,
     "metadata": {},
     "output_type": "execute_result"
    }
   ],
   "source": [
    "Numer / Denom"
   ]
  },
  {
   "cell_type": "code",
   "execution_count": 13,
   "id": "cbf1af4c-baf2-4bf5-934f-3cffb1847a62",
   "metadata": {},
   "outputs": [
    {
     "data": {
      "text/latex": [
       "$\\begin{equation*}75 \\cdot 3^{\\frac{3}{5}} + 324 \\cdot 2^{\\frac{2}{3}} + 450 \\sqrt[3]{2} \\cdot 3^{\\frac{2}{5}} + 1620 \\sqrt[3]{2} \\sqrt[5]{3} + 1350 \\cdot 2^{\\frac{2}{3}} \\sqrt[5]{3} + 5400 + 3780 \\cdot 3^{\\frac{2}{5}} + 2610 \\sqrt[3]{2} \\cdot 3^{\\frac{4}{5}} + 2700 \\cdot 2^{\\frac{2}{3}} \\cdot 3^{\\frac{3}{5}}\\end{equation*}$\n"
      ],
      "text/plain": [
       "    3/5        2/3       3 ___  2/5        3 ___ 5 ___         2/3 5 ___      \n",
       "75*3    + 324*2    + 450*\\/ 2 *3    + 1620*\\/ 2 *\\/ 3  + 1350*2   *\\/ 3  + 540\n",
       "\n",
       "          2/5        3 ___  4/5         2/3  3/5\n",
       "0 + 3780*3    + 2610*\\/ 2 *3    + 2700*2   *3   "
      ]
     },
     "execution_count": 13,
     "metadata": {},
     "output_type": "execute_result"
    }
   ],
   "source": [
    "denom = Denom(z => θ) |> expand |> simplify"
   ]
  },
  {
   "cell_type": "code",
   "execution_count": 14,
   "id": "e506d63b-06ea-4ec5-b63b-175a4772cd2e",
   "metadata": {},
   "outputs": [
    {
     "data": {
      "text/latex": [
       "$\\begin{equation*}75 \\cdot 3^{\\frac{4}{5}} + 324 \\cdot 2^{\\frac{2}{3}} \\sqrt[5]{3} + 450 \\sqrt[3]{2} \\cdot 3^{\\frac{3}{5}} + 1620 \\sqrt[3]{2} \\cdot 3^{\\frac{2}{5}} + 1350 \\cdot 2^{\\frac{2}{3}} \\cdot 3^{\\frac{2}{5}} + 5400 \\sqrt[5]{3} + 3780 \\cdot 3^{\\frac{3}{5}} + 7830 \\sqrt[3]{2} + 2700 \\cdot 2^{\\frac{2}{3}} \\cdot 3^{\\frac{4}{5}}\\end{equation*}$\n"
      ],
      "text/plain": [
       "    4/5        2/3 5 ___       3 ___  3/5        3 ___  2/5         2/3  2/5  \n",
       "75*3    + 324*2   *\\/ 3  + 450*\\/ 2 *3    + 1620*\\/ 2 *3    + 1350*2   *3    +\n",
       "\n",
       "      5 ___         3/5        3 ___         2/3  4/5\n",
       " 5400*\\/ 3  + 3780*3    + 7830*\\/ 2  + 2700*2   *3   "
      ]
     },
     "execution_count": 14,
     "metadata": {},
     "output_type": "execute_result"
    }
   ],
   "source": [
    "numer = Numer(z => θ) |> expand |> simplify"
   ]
  },
  {
   "cell_type": "code",
   "execution_count": 15,
   "id": "0d473804-e539-4891-bef6-367a22563741",
   "metadata": {},
   "outputs": [
    {
     "data": {
      "text/latex": [
       "$\\begin{equation*}\\frac{25 \\cdot 3^{\\frac{4}{5}} + 108 \\cdot 2^{\\frac{2}{3}} \\sqrt[5]{3} + 150 \\sqrt[3]{2} \\cdot 3^{\\frac{3}{5}} + 540 \\sqrt[3]{2} \\cdot 3^{\\frac{2}{5}} + 450 \\cdot 2^{\\frac{2}{3}} \\cdot 3^{\\frac{2}{5}} + 1800 \\sqrt[5]{3} + 1260 \\cdot 3^{\\frac{3}{5}} + 2610 \\sqrt[3]{2} + 900 \\cdot 2^{\\frac{2}{3}} \\cdot 3^{\\frac{4}{5}}}{25 \\cdot 3^{\\frac{3}{5}} + 108 \\cdot 2^{\\frac{2}{3}} + 150 \\sqrt[3]{2} \\cdot 3^{\\frac{2}{5}} + 540 \\sqrt[3]{2} \\sqrt[5]{3} + 450 \\cdot 2^{\\frac{2}{3}} \\sqrt[5]{3} + 1800 + 1260 \\cdot 3^{\\frac{2}{5}} + 870 \\sqrt[3]{2} \\cdot 3^{\\frac{4}{5}} + 900 \\cdot 2^{\\frac{2}{3}} \\cdot 3^{\\frac{3}{5}}}\\end{equation*}$\n"
      ],
      "text/plain": [
       "    4/5        2/3 5 ___       3 ___  3/5       3 ___  2/5        2/3  2/5    \n",
       "25*3    + 108*2   *\\/ 3  + 150*\\/ 2 *3    + 540*\\/ 2 *3    + 450*2   *3    + 1\n",
       "------------------------------------------------------------------------------\n",
       "       3/5        2/3       3 ___  2/5       3 ___ 5 ___        2/3 5 ___     \n",
       "   25*3    + 108*2    + 150*\\/ 2 *3    + 540*\\/ 2 *\\/ 3  + 450*2   *\\/ 3  + 18\n",
       "\n",
       "    5 ___         3/5        3 ___        2/3  4/5\n",
       "800*\\/ 3  + 1260*3    + 2610*\\/ 2  + 900*2   *3   \n",
       "--------------------------------------------------\n",
       "           2/5       3 ___  4/5        2/3  3/5   \n",
       "00 + 1260*3    + 870*\\/ 2 *3    + 900*2   *3      "
      ]
     },
     "execution_count": 15,
     "metadata": {},
     "output_type": "execute_result"
    }
   ],
   "source": [
    "c = numer/denom |> simplify"
   ]
  },
  {
   "cell_type": "code",
   "execution_count": 16,
   "id": "68f9dda1-1b0f-43d6-b9ae-1c3574f863b5",
   "metadata": {},
   "outputs": [
    {
     "data": {
      "text/latex": [
       "$\\begin{equation*}1\\end{equation*}$\n"
      ],
      "text/plain": [
       "1"
      ]
     },
     "execution_count": 16,
     "metadata": {},
     "output_type": "execute_result"
    }
   ],
   "source": [
    "c / b |> simplify"
   ]
  },
  {
   "cell_type": "code",
   "execution_count": null,
   "id": "b33fe90e-8c68-4705-a26f-b71a7eb9d5b2",
   "metadata": {},
   "outputs": [],
   "source": []
  }
 ],
 "metadata": {
  "jupytext": {
   "formats": "ipynb,jl:hydrogen"
  },
  "kernelspec": {
   "display_name": "Julia 1.6.3",
   "language": "julia",
   "name": "julia-1.6"
  },
  "language_info": {
   "file_extension": ".jl",
   "mimetype": "application/julia",
   "name": "julia",
   "version": "1.6.3"
  }
 },
 "nbformat": 4,
 "nbformat_minor": 5
}
