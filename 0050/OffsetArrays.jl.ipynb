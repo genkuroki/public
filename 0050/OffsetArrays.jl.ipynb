{
 "cells": [
  {
   "cell_type": "code",
   "execution_count": 1,
   "id": "a4ed2d94-8d38-4b2f-8c6f-05a9cad339fe",
   "metadata": {},
   "outputs": [
    {
     "name": "stdout",
     "output_type": "stream",
     "text": [
      "  0.269906 seconds (7.47 M allocations: 115.371 MiB, 23.24% gc time, 9.83% compilation time)\n",
      "  0.165271 seconds (7.44 M allocations: 113.525 MiB, 13.30% gc time)\n"
     ]
    }
   ],
   "source": [
    "module O\n",
    "\n",
    "using OffsetArrays\n",
    "\n",
    "mutable struct POA\n",
    "    n::Int\n",
    "    a::OffsetVector{Float64}\n",
    "    A::OffsetArray{Float64, 2}\n",
    "    x::OffsetVector{Float64}\n",
    "    POA() = new()\n",
    "end\n",
    "\n",
    "function test_oa!(p::POA)\n",
    "    range = 0:p.n-1\n",
    "    a, A, x = p.a, p.A, p.x\n",
    "    for i in range\n",
    "        for j in range\n",
    "            x[i] += A[j,i]*a[i]\n",
    "        end\n",
    "    end\n",
    "end\n",
    "\n",
    "p = POA()\n",
    "p.n = 1000\n",
    "p.a = OffsetVector{Float64}(rand(Float64,p.n), 0:p.n-1)\n",
    "p.A = OffsetArray{Float64}(rand(Float64,p.n,p.n), 0:p.n-1, 0:p.n-1)\n",
    "p.x = OffsetVector{Float64}(zeros(Float64, p.n), 0:p.n-1)\n",
    "\n",
    "end\n",
    "\n",
    "@time O.test_oa!(O.p)\n",
    "@time O.test_oa!(O.p)"
   ]
  },
  {
   "cell_type": "code",
   "execution_count": 2,
   "id": "2f0c1259-963f-4552-ab57-eb44e18e4caf",
   "metadata": {},
   "outputs": [
    {
     "name": "stdout",
     "output_type": "stream",
     "text": [
      "MethodInstance for Main.O.test_oa!(::Main.O.POA)\n",
      "  from test_oa!(\u001b[90mp\u001b[39m::\u001b[1mMain.O.POA\u001b[22m)\u001b[90m @\u001b[39m \u001b[90mMain.O\u001b[39m \u001b[90m\u001b[4mIn[1]:13\u001b[24m\u001b[39m\n",
      "Arguments\n",
      "  #self#\u001b[36m::Core.Const(Main.O.test_oa!)\u001b[39m\n",
      "  p\u001b[36m::Main.O.POA\u001b[39m\n",
      "Locals\n",
      "  @_3\u001b[33m\u001b[1m::Union{Nothing, Tuple{Int64, Int64}}\u001b[22m\u001b[39m\n",
      "  x\u001b[91m\u001b[1m::OffsetArrays.OffsetVector{Float64, AA} where AA<:AbstractVector{Float64}\u001b[22m\u001b[39m\n",
      "  A\u001b[91m\u001b[1m::OffsetArrays.OffsetMatrix{Float64, AA} where AA<:AbstractMatrix{Float64}\u001b[22m\u001b[39m\n",
      "  a\u001b[91m\u001b[1m::OffsetArrays.OffsetVector{Float64, AA} where AA<:AbstractVector{Float64}\u001b[22m\u001b[39m\n",
      "  range\u001b[36m::UnitRange{Int64}\u001b[39m\n",
      "  @_8\u001b[33m\u001b[1m::Union{Nothing, Tuple{Int64, Int64}}\u001b[22m\u001b[39m\n",
      "  i\u001b[36m::Int64\u001b[39m\n",
      "  j\u001b[36m::Int64\u001b[39m\n",
      "Body\u001b[36m::Nothing\u001b[39m\n",
      "\u001b[90m1 ─\u001b[39m %1  = Base.getproperty(p, :n)\u001b[36m::Int64\u001b[39m\n",
      "\u001b[90m│  \u001b[39m %2  = (%1 - 1)\u001b[36m::Int64\u001b[39m\n",
      "\u001b[90m│  \u001b[39m       (range = 0:%2)\n",
      "\u001b[90m│  \u001b[39m %4  = Base.getproperty(p, :a)\u001b[91m\u001b[1m::OffsetArrays.OffsetVector{Float64, AA} where AA<:AbstractVector{Float64}\u001b[22m\u001b[39m\n",
      "\u001b[90m│  \u001b[39m %5  = Base.getproperty(p, :A)\u001b[91m\u001b[1m::OffsetArrays.OffsetMatrix{Float64, AA} where AA<:AbstractMatrix{Float64}\u001b[22m\u001b[39m\n",
      "\u001b[90m│  \u001b[39m %6  = Base.getproperty(p, :x)\u001b[91m\u001b[1m::OffsetArrays.OffsetVector{Float64, AA} where AA<:AbstractVector{Float64}\u001b[22m\u001b[39m\n",
      "\u001b[90m│  \u001b[39m       (a = %4)\n",
      "\u001b[90m│  \u001b[39m       (A = %5)\n",
      "\u001b[90m│  \u001b[39m       (x = %6)\n",
      "\u001b[90m│  \u001b[39m %10 = range\u001b[36m::Core.PartialStruct(UnitRange{Int64}, Any[Core.Const(0), Int64])\u001b[39m\n",
      "\u001b[90m│  \u001b[39m       (@_3 = Base.iterate(%10))\n",
      "\u001b[90m│  \u001b[39m %12 = (@_3 === nothing)\u001b[36m::Bool\u001b[39m\n",
      "\u001b[90m│  \u001b[39m %13 = Base.not_int(%12)\u001b[36m::Bool\u001b[39m\n",
      "\u001b[90m└──\u001b[39m       goto #7 if not %13\n",
      "\u001b[90m2 ┄\u001b[39m %15 = @_3\u001b[36m::Tuple{Int64, Int64}\u001b[39m\n",
      "\u001b[90m│  \u001b[39m       (i = Core.getfield(%15, 1))\n",
      "\u001b[90m│  \u001b[39m %17 = Core.getfield(%15, 2)\u001b[36m::Int64\u001b[39m\n",
      "\u001b[90m│  \u001b[39m %18 = range\u001b[36m::Core.PartialStruct(UnitRange{Int64}, Any[Core.Const(0), Int64])\u001b[39m\n",
      "\u001b[90m│  \u001b[39m       (@_8 = Base.iterate(%18))\n",
      "\u001b[90m│  \u001b[39m %20 = (@_8 === nothing)\u001b[36m::Bool\u001b[39m\n",
      "\u001b[90m│  \u001b[39m %21 = Base.not_int(%20)\u001b[36m::Bool\u001b[39m\n",
      "\u001b[90m└──\u001b[39m       goto #5 if not %21\n",
      "\u001b[90m3 ┄\u001b[39m %23 = @_8\u001b[36m::Tuple{Int64, Int64}\u001b[39m\n",
      "\u001b[90m│  \u001b[39m       (j = Core.getfield(%23, 1))\n",
      "\u001b[90m│  \u001b[39m %25 = Core.getfield(%23, 2)\u001b[36m::Int64\u001b[39m\n",
      "\u001b[90m│  \u001b[39m %26 = Base.getindex(x, i)\u001b[91m\u001b[1m::Any\u001b[22m\u001b[39m\n",
      "\u001b[90m│  \u001b[39m %27 = Base.getindex(A, j, i)\u001b[91m\u001b[1m::Any\u001b[22m\u001b[39m\n",
      "\u001b[90m│  \u001b[39m %28 = Base.getindex(a, i)\u001b[91m\u001b[1m::Any\u001b[22m\u001b[39m\n",
      "\u001b[90m│  \u001b[39m %29 = (%27 * %28)\u001b[91m\u001b[1m::Any\u001b[22m\u001b[39m\n",
      "\u001b[90m│  \u001b[39m %30 = (%26 + %29)\u001b[91m\u001b[1m::Any\u001b[22m\u001b[39m\n",
      "\u001b[90m│  \u001b[39m       Base.setindex!(x, %30, i)\n",
      "\u001b[90m│  \u001b[39m       (@_8 = Base.iterate(%18, %25))\n",
      "\u001b[90m│  \u001b[39m %33 = (@_8 === nothing)\u001b[36m::Bool\u001b[39m\n",
      "\u001b[90m│  \u001b[39m %34 = Base.not_int(%33)\u001b[36m::Bool\u001b[39m\n",
      "\u001b[90m└──\u001b[39m       goto #5 if not %34\n",
      "\u001b[90m4 ─\u001b[39m       goto #3\n",
      "\u001b[90m5 ┄\u001b[39m       (@_3 = Base.iterate(%10, %17))\n",
      "\u001b[90m│  \u001b[39m %38 = (@_3 === nothing)\u001b[36m::Bool\u001b[39m\n",
      "\u001b[90m│  \u001b[39m %39 = Base.not_int(%38)\u001b[36m::Bool\u001b[39m\n",
      "\u001b[90m└──\u001b[39m       goto #7 if not %39\n",
      "\u001b[90m6 ─\u001b[39m       goto #2\n",
      "\u001b[90m7 ┄\u001b[39m       return nothing\n",
      "\n"
     ]
    }
   ],
   "source": [
    "@code_warntype O.test_oa!(O.p)"
   ]
  },
  {
   "cell_type": "code",
   "execution_count": 3,
   "id": "50054e6f-05ee-4f05-be90-89717a9d307b",
   "metadata": {},
   "outputs": [
    {
     "name": "stdout",
     "output_type": "stream",
     "text": [
      "  0.022013 seconds (23.54 k allocations: 1.606 MiB, 99.87% compilation time)\n",
      "  0.000004 seconds\n"
     ]
    }
   ],
   "source": [
    "module Q\n",
    "\n",
    "using OffsetArrays\n",
    "\n",
    "mutable struct POA{\n",
    "        Ta<:AbstractVector,\n",
    "        TA<:AbstractMatrix,\n",
    "        Tx<:AbstractVector\n",
    "    }\n",
    "    a::Ta\n",
    "    A::TA\n",
    "    x::Tx\n",
    "end\n",
    "\n",
    "function test_oa!(p::POA)\n",
    "    (; a, A, x) = p\n",
    "    for i in axes(A, 2)\n",
    "        for j in axes(A, 1)\n",
    "            x[i] += A[j,i]*a[i]\n",
    "        end\n",
    "    end    \n",
    "end\n",
    "\n",
    "m = 10\n",
    "n = 20\n",
    "a = OffsetVector{Float64}(collect(1:n), 0:n-1)\n",
    "A = OffsetMatrix{Float64}((1:m) * (1:n)', 0:m-1, 0:n-1)\n",
    "x = OffsetVector{Float64}(zeros(n), 0:n-1)\n",
    "p = POA(a, A, x)\n",
    "\n",
    "end\n",
    "\n",
    "@time Q.test_oa!(Q.p)\n",
    "@time Q.test_oa!(Q.p)"
   ]
  },
  {
   "cell_type": "code",
   "execution_count": 4,
   "id": "e5b9b87a-1a3f-45b3-971d-8454f645cea4",
   "metadata": {},
   "outputs": [
    {
     "name": "stdout",
     "output_type": "stream",
     "text": [
      "MethodInstance for Main.Q.test_oa!(::Main.Q.POA{OffsetArrays.OffsetVector{Float64, Vector{Float64}}, OffsetArrays.OffsetMatrix{Float64, Matrix{Float64}}, OffsetArrays.OffsetVector{Float64, Vector{Float64}}})\n",
      "  from test_oa!(\u001b[90mp\u001b[39m::\u001b[1mMain.Q.POA\u001b[22m)\u001b[90m @\u001b[39m \u001b[90mMain.Q\u001b[39m \u001b[90m\u001b[4mIn[3]:15\u001b[24m\u001b[39m\n",
      "Arguments\n",
      "  #self#\u001b[36m::Core.Const(Main.Q.test_oa!)\u001b[39m\n",
      "  p\u001b[36m::Main.Q.POA{OffsetArrays.OffsetVector{Float64, Vector{Float64}}, OffsetArrays.OffsetMatrix{Float64, Matrix{Float64}}, OffsetArrays.OffsetVector{Float64, Vector{Float64}}}\u001b[39m\n",
      "Locals\n",
      "  @_3\u001b[33m\u001b[1m::Union{Nothing, Tuple{Int64, Int64}}\u001b[22m\u001b[39m\n",
      "  x\u001b[36m::OffsetArrays.OffsetVector{Float64, Vector{Float64}}\u001b[39m\n",
      "  A\u001b[36m::OffsetArrays.OffsetMatrix{Float64, Matrix{Float64}}\u001b[39m\n",
      "  a\u001b[36m::OffsetArrays.OffsetVector{Float64, Vector{Float64}}\u001b[39m\n",
      "  @_7\u001b[33m\u001b[1m::Union{Nothing, Tuple{Int64, Int64}}\u001b[22m\u001b[39m\n",
      "  i\u001b[36m::Int64\u001b[39m\n",
      "  j\u001b[36m::Int64\u001b[39m\n",
      "Body\u001b[36m::Nothing\u001b[39m\n",
      "\u001b[90m1 ─\u001b[39m       (a = Base.getproperty(p, :a))\n",
      "\u001b[90m│  \u001b[39m       (A = Base.getproperty(p, :A))\n",
      "\u001b[90m│  \u001b[39m       (x = Base.getproperty(p, :x))\n",
      "\u001b[90m│  \u001b[39m %4  = Main.Q.axes(A, 2)\u001b[36m::OffsetArrays.IdOffsetRange{Int64, Base.OneTo{Int64}}\u001b[39m\n",
      "\u001b[90m│  \u001b[39m       (@_3 = Base.iterate(%4))\n",
      "\u001b[90m│  \u001b[39m %6  = (@_3 === nothing)\u001b[36m::Bool\u001b[39m\n",
      "\u001b[90m│  \u001b[39m %7  = Base.not_int(%6)\u001b[36m::Bool\u001b[39m\n",
      "\u001b[90m└──\u001b[39m       goto #7 if not %7\n",
      "\u001b[90m2 ┄\u001b[39m %9  = @_3\u001b[36m::Tuple{Int64, Int64}\u001b[39m\n",
      "\u001b[90m│  \u001b[39m       (i = Core.getfield(%9, 1))\n",
      "\u001b[90m│  \u001b[39m %11 = Core.getfield(%9, 2)\u001b[36m::Int64\u001b[39m\n",
      "\u001b[90m│  \u001b[39m %12 = Main.Q.axes(A, 1)\u001b[36m::OffsetArrays.IdOffsetRange{Int64, Base.OneTo{Int64}}\u001b[39m\n",
      "\u001b[90m│  \u001b[39m       (@_7 = Base.iterate(%12))\n",
      "\u001b[90m│  \u001b[39m %14 = (@_7 === nothing)\u001b[36m::Bool\u001b[39m\n",
      "\u001b[90m│  \u001b[39m %15 = Base.not_int(%14)\u001b[36m::Bool\u001b[39m\n",
      "\u001b[90m└──\u001b[39m       goto #5 if not %15\n",
      "\u001b[90m3 ┄\u001b[39m %17 = @_7\u001b[36m::Tuple{Int64, Int64}\u001b[39m\n",
      "\u001b[90m│  \u001b[39m       (j = Core.getfield(%17, 1))\n",
      "\u001b[90m│  \u001b[39m %19 = Core.getfield(%17, 2)\u001b[36m::Int64\u001b[39m\n",
      "\u001b[90m│  \u001b[39m %20 = Base.getindex(x, i)\u001b[36m::Float64\u001b[39m\n",
      "\u001b[90m│  \u001b[39m %21 = Base.getindex(A, j, i)\u001b[36m::Float64\u001b[39m\n",
      "\u001b[90m│  \u001b[39m %22 = Base.getindex(a, i)\u001b[36m::Float64\u001b[39m\n",
      "\u001b[90m│  \u001b[39m %23 = (%21 * %22)\u001b[36m::Float64\u001b[39m\n",
      "\u001b[90m│  \u001b[39m %24 = (%20 + %23)\u001b[36m::Float64\u001b[39m\n",
      "\u001b[90m│  \u001b[39m       Base.setindex!(x, %24, i)\n",
      "\u001b[90m│  \u001b[39m       (@_7 = Base.iterate(%12, %19))\n",
      "\u001b[90m│  \u001b[39m %27 = (@_7 === nothing)\u001b[36m::Bool\u001b[39m\n",
      "\u001b[90m│  \u001b[39m %28 = Base.not_int(%27)\u001b[36m::Bool\u001b[39m\n",
      "\u001b[90m└──\u001b[39m       goto #5 if not %28\n",
      "\u001b[90m4 ─\u001b[39m       goto #3\n",
      "\u001b[90m5 ┄\u001b[39m       (@_3 = Base.iterate(%4, %11))\n",
      "\u001b[90m│  \u001b[39m %32 = (@_3 === nothing)\u001b[36m::Bool\u001b[39m\n",
      "\u001b[90m│  \u001b[39m %33 = Base.not_int(%32)\u001b[36m::Bool\u001b[39m\n",
      "\u001b[90m└──\u001b[39m       goto #7 if not %33\n",
      "\u001b[90m6 ─\u001b[39m       goto #2\n",
      "\u001b[90m7 ┄\u001b[39m       return nothing\n",
      "\n"
     ]
    }
   ],
   "source": [
    "@code_warntype Q.test_oa!(Q.p)"
   ]
  },
  {
   "cell_type": "code",
   "execution_count": 5,
   "id": "376a9545-77bc-4546-94df-ae489edd6109",
   "metadata": {},
   "outputs": [
    {
     "name": "stdout",
     "output_type": "stream",
     "text": [
      "  0.013624 seconds (7.42 k allocations: 509.461 KiB, 99.81% compilation time)\n",
      "  0.000004 seconds\n"
     ]
    },
    {
     "data": {
      "text/plain": [
       "true"
      ]
     },
     "execution_count": 5,
     "metadata": {},
     "output_type": "execute_result"
    }
   ],
   "source": [
    "q = Q.POA(Q.p.a.parent, Q.p.A.parent, zero(Q.p.x.parent))\n",
    "@time Q.test_oa!(q)\n",
    "@time Q.test_oa!(q)\n",
    "q.x == Q.p.x.parent"
   ]
  },
  {
   "cell_type": "code",
   "execution_count": null,
   "id": "a09ae9e2-8aec-42d5-a60f-0022c317cd05",
   "metadata": {},
   "outputs": [],
   "source": []
  }
 ],
 "metadata": {
  "jupytext": {
   "formats": "ipynb,jl:hydrogen"
  },
  "kernelspec": {
   "display_name": "Julia 1.10.5",
   "language": "julia",
   "name": "julia-1.10"
  },
  "language_info": {
   "file_extension": ".jl",
   "mimetype": "application/julia",
   "name": "julia",
   "version": "1.10.5"
  }
 },
 "nbformat": 4,
 "nbformat_minor": 5
}
