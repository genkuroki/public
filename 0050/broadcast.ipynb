{
 "cells": [
  {
   "cell_type": "markdown",
   "id": "9571a880-5681-4936-9113-cc6187238b62",
   "metadata": {},
   "source": [
    "* https://x.com/utokyo_bunny/status/1841149355736383937\n",
    "  * https://mti-lab.github.io/blog/2024/09/26/broadcast_jp.html"
   ]
  },
  {
   "cell_type": "markdown",
   "id": "bba51b1c-a6b5-4d36-92ac-3807b5f25bd3",
   "metadata": {},
   "source": [
    "<img src=\"IMG_6368.jpeg\" width=50%>"
   ]
  },
  {
   "cell_type": "code",
   "execution_count": 1,
   "id": "47672450-769e-4241-875a-8f949c0bbdf2",
   "metadata": {},
   "outputs": [
    {
     "data": {
      "text/plain": [
       "3×2 Matrix{Int64}:\n",
       " 1  2\n",
       " 3  4\n",
       " 5  6"
      ]
     },
     "execution_count": 1,
     "metadata": {},
     "output_type": "execute_result"
    }
   ],
   "source": [
    "A = [\n",
    "    1 2\n",
    "    3 4\n",
    "    5 6\n",
    "]"
   ]
  },
  {
   "cell_type": "code",
   "execution_count": 2,
   "id": "a447d386-8132-4791-af16-757a132cdbdd",
   "metadata": {},
   "outputs": [
    {
     "data": {
      "text/plain": [
       "1×2 Matrix{Int64}:\n",
       " 7  8"
      ]
     },
     "execution_count": 2,
     "metadata": {},
     "output_type": "execute_result"
    }
   ],
   "source": [
    "v = [\n",
    "    7 8\n",
    "]"
   ]
  },
  {
   "cell_type": "code",
   "execution_count": 3,
   "id": "bfb5eced-37d1-49c8-aec5-e08c9fd1b567",
   "metadata": {},
   "outputs": [
    {
     "data": {
      "text/plain": [
       "3×2 Matrix{Int64}:\n",
       "  7  16\n",
       " 21  32\n",
       " 35  48"
      ]
     },
     "execution_count": 3,
     "metadata": {},
     "output_type": "execute_result"
    }
   ],
   "source": [
    "A .* v"
   ]
  },
  {
   "cell_type": "markdown",
   "id": "7ce1ac8a-714f-4381-8637-09cb072e48bd",
   "metadata": {},
   "source": [
    "<img src=\"IMG_6369.jpeg\">"
   ]
  },
  {
   "cell_type": "code",
   "execution_count": 4,
   "id": "72711b93-da64-4701-8ffa-c7d6a65d5a23",
   "metadata": {},
   "outputs": [
    {
     "data": {
      "text/plain": [
       "3×4×2 Array{Int64, 3}:\n",
       "[:, :, 1] =\n",
       " 1  4  7  10\n",
       " 2  5  8  11\n",
       " 3  6  9  12\n",
       "\n",
       "[:, :, 2] =\n",
       " 13  16  19  22\n",
       " 14  17  20  23\n",
       " 15  18  21  24"
      ]
     },
     "execution_count": 4,
     "metadata": {},
     "output_type": "execute_result"
    }
   ],
   "source": [
    "X = collect(reshape(1:24, 3, 4, 2)) # collectは必要ない"
   ]
  },
  {
   "cell_type": "code",
   "execution_count": 5,
   "id": "8c3ba0cf-b787-4e7b-a706-332f03b20eac",
   "metadata": {},
   "outputs": [
    {
     "data": {
      "text/plain": [
       "3×4 Matrix{Int64}:\n",
       " 1   2   3   4\n",
       " 5   6   7   8\n",
       " 9  10  11  12"
      ]
     },
     "execution_count": 5,
     "metadata": {},
     "output_type": "execute_result"
    }
   ],
   "source": [
    "Y = collect(reshape(1:12, 4, 3)') # collectは必要ない"
   ]
  },
  {
   "cell_type": "code",
   "execution_count": 6,
   "id": "dd599f4c-c52c-453d-a761-b46fbef06015",
   "metadata": {},
   "outputs": [
    {
     "data": {
      "text/plain": [
       "3×4×2 Array{Int64, 3}:\n",
       "[:, :, 1] =\n",
       "  1   8  21   40\n",
       " 10  30  56   88\n",
       " 27  60  99  144\n",
       "\n",
       "[:, :, 2] =\n",
       "  13   32   57   88\n",
       "  70  102  140  184\n",
       " 135  180  231  288"
      ]
     },
     "execution_count": 6,
     "metadata": {},
     "output_type": "execute_result"
    }
   ],
   "source": [
    "X .* Y"
   ]
  },
  {
   "cell_type": "code",
   "execution_count": null,
   "id": "7033e6f5-114b-41ba-afec-2d7aedbe4536",
   "metadata": {},
   "outputs": [],
   "source": []
  }
 ],
 "metadata": {
  "kernelspec": {
   "display_name": "Julia 1.10.5",
   "language": "julia",
   "name": "julia-1.10"
  },
  "language_info": {
   "file_extension": ".jl",
   "mimetype": "application/julia",
   "name": "julia",
   "version": "1.10.5"
  }
 },
 "nbformat": 4,
 "nbformat_minor": 5
}
