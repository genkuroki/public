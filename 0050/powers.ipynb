{
 "cells": [
  {
   "cell_type": "code",
   "execution_count": 1,
   "id": "d5cf09c0-ee79-4d96-98dc-755405e31fca",
   "metadata": {},
   "outputs": [
    {
     "data": {
      "text/plain": [
       "confint_score (generic function with 2 methods)"
      ]
     },
     "execution_count": 1,
     "metadata": {},
     "output_type": "execute_result"
    }
   ],
   "source": [
    "using Distributions\n",
    "using Roots\n",
    "\n",
    "function pvalue_score(k, n, p)\n",
    "    phat = k/n\n",
    "    z = (phat - p) / √(p*(1-p)/n)\n",
    "    2ccdf(Normal(), abs(z))\n",
    "end\n",
    "\n",
    "function confint_score(k, n, α=0.05)\n",
    "    f(p) = pvalue_score(k, n, p) - α\n",
    "    find_zeros(f, (eps(), 1-eps()))\n",
    "end"
   ]
  },
  {
   "cell_type": "code",
   "execution_count": 2,
   "id": "14692544-5ec3-45ef-8e43-02c5f72fa207",
   "metadata": {},
   "outputs": [
    {
     "name": "stdout",
     "output_type": "stream",
     "text": [
      "pvalue_score(k, n, p) = 0.37109336952269445\n",
      "confint_score(k, n) = [0.16276477488737576, 0.1774886640372708]\n"
     ]
    }
   ],
   "source": [
    "n, p = 10000, 1/6\n",
    "k = 0.170n\n",
    "@show pvalue_score(k, n, p)\n",
    "@show confint_score(k, n);"
   ]
  },
  {
   "cell_type": "code",
   "execution_count": 3,
   "id": "ce4d9355-edc2-4964-856a-b14c61054572",
   "metadata": {},
   "outputs": [
    {
     "name": "stdout",
     "output_type": "stream",
     "text": [
      "pvalue_score(k, n, p) = 0.045500263896357016\n",
      "confint_score(k, n) = [0.16673287439283743, 0.17331782896809828]\n"
     ]
    }
   ],
   "source": [
    "n, p = 50000, 1/6\n",
    "k = 0.170n\n",
    "@show pvalue_score(k, n, p)\n",
    "@show confint_score(k, n);"
   ]
  },
  {
   "cell_type": "code",
   "execution_count": 4,
   "id": "94abbf42-6352-4a80-86a6-f55ff2c6bde9",
   "metadata": {},
   "outputs": [
    {
     "data": {
      "text/plain": [
       "expecval (generic function with 1 method)"
      ]
     },
     "execution_count": 4,
     "metadata": {},
     "output_type": "execute_result"
    }
   ],
   "source": [
    "function expecval(f, n, p; m = 5)\n",
    "    bin = Binomial(n, p)\n",
    "    μ, σ = mean(bin), std(bin)\n",
    "    kmin = max(0, round(Int, μ-m*σ))\n",
    "    kmax = min(n, round(Int, μ+m*σ))\n",
    "    sum(k -> f(k) * pdf(bin, k), kmin:kmax)\n",
    "end"
   ]
  },
  {
   "cell_type": "code",
   "execution_count": 5,
   "id": "f9220c47-fbe8-4be9-ab84-d10c752a4a03",
   "metadata": {},
   "outputs": [
    {
     "data": {
      "text/plain": [
       "0.8059682323581653"
      ]
     },
     "execution_count": 5,
     "metadata": {},
     "output_type": "execute_result"
    }
   ],
   "source": [
    "n, p₀, p₁, α = 24_500, 1/6, 0.160, 0.05\n",
    "expecval(k -> pvalue_score(k, n, p₀) < α, n, p₁)"
   ]
  },
  {
   "cell_type": "code",
   "execution_count": 6,
   "id": "3ddfbd51-c7fa-46db-b199-e0e5da1047d1",
   "metadata": {},
   "outputs": [
    {
     "data": {
      "text/plain": [
       "0.805839154015652"
      ]
     },
     "execution_count": 6,
     "metadata": {},
     "output_type": "execute_result"
    }
   ],
   "source": [
    "n, p₀, p₁, α = 100_000, 1/6, 0.170, 0.05\n",
    "expecval(k -> pvalue_score(k, n, p₀) < α, n, p₁)"
   ]
  },
  {
   "cell_type": "code",
   "execution_count": 7,
   "id": "741c7dcd-8e58-4312-94e0-833b556a50f9",
   "metadata": {},
   "outputs": [
    {
     "data": {
      "text/plain": [
       "0.8081873387431793"
      ]
     },
     "execution_count": 7,
     "metadata": {},
     "output_type": "execute_result"
    }
   ],
   "source": [
    "n, p₀, p₁, α = 400_000, 1/6, 0.165, 0.05\n",
    "expecval(k -> pvalue_score(k, n, p₀) < α, n, p₁)"
   ]
  },
  {
   "cell_type": "code",
   "execution_count": 8,
   "id": "c2930ad9-c7fb-4f97-a0a3-fa0cf8c3ccf8",
   "metadata": {},
   "outputs": [
    {
     "data": {
      "text/plain": [
       "0.8035112667759292"
      ]
     },
     "execution_count": 8,
     "metadata": {},
     "output_type": "execute_result"
    }
   ],
   "source": [
    "n, p₀, p₁, α = 620_000, 1/6, 0.168, 0.05\n",
    "expecval(k -> pvalue_score(k, n, p₀) < α, n, p₁)"
   ]
  },
  {
   "cell_type": "code",
   "execution_count": 9,
   "id": "7c1c0b05-7870-4742-9318-347f2362c2d1",
   "metadata": {},
   "outputs": [
    {
     "data": {
      "text/plain": [
       "0.8077090583152023"
      ]
     },
     "execution_count": 9,
     "metadata": {},
     "output_type": "execute_result"
    }
   ],
   "source": [
    "n, p₀, p₁, α = 2_500_000, 1/6, 0.166, 0.05\n",
    "expecval(k -> pvalue_score(k, n, p₀) < α, n, p₁)"
   ]
  },
  {
   "cell_type": "code",
   "execution_count": null,
   "id": "b8d898a8-2445-4629-9d47-a2c192eb3f75",
   "metadata": {},
   "outputs": [],
   "source": []
  }
 ],
 "metadata": {
  "jupytext": {
   "formats": "ipynb,jl:hydrogen"
  },
  "kernelspec": {
   "display_name": "Julia 1.10.5",
   "language": "julia",
   "name": "julia-1.10"
  },
  "language_info": {
   "file_extension": ".jl",
   "mimetype": "application/julia",
   "name": "julia",
   "version": "1.10.5"
  }
 },
 "nbformat": 4,
 "nbformat_minor": 5
}
