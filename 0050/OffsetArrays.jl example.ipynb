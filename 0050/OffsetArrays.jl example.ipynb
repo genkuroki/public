{
 "cells": [
  {
   "cell_type": "code",
   "execution_count": 1,
   "id": "5f67c08b-94be-4384-8283-10fdda9c45dc",
   "metadata": {},
   "outputs": [
    {
     "name": "stdout",
     "output_type": "stream",
     "text": [
      "v = Float64.(1:4) = [1.0, 2.0, 3.0, 4.0]\n",
      "ov = OffsetVector(v, 0:3) = [1.0, 2.0, 3.0, 4.0]\n",
      "x = O.Foo(ov) = Main.O.Foo{OffsetVector{Float64, Vector{Float64}}}([1.0, 2.0, 3.0, 4.0])\n",
      "  0.010112 seconds (12.77 k allocations: 915.641 KiB, 99.76% compilation time)\n",
      "  0.000004 seconds\n",
      "  0.011564 seconds (4.21 k allocations: 313.797 KiB, 99.80% compilation time)\n",
      "  0.000005 seconds\n"
     ]
    },
    {
     "data": {
      "text/plain": [
       "Main.O.Foo{OffsetVector{Float64, Vector{Float64}}}([1024.0, 2048.0, 3072.0, 4096.0])"
      ]
     },
     "execution_count": 1,
     "metadata": {},
     "output_type": "execute_result"
    }
   ],
   "source": [
    "using OffsetArrays\n",
    "\n",
    "module O\n",
    "mutable struct Foo{T} a::T end\n",
    "end\n",
    "\n",
    "function f!(x)\n",
    "    a = x.a\n",
    "    for i in eachindex(a)\n",
    "        a[i] *= 2\n",
    "    end\n",
    "    x\n",
    "end\n",
    "\n",
    "function iterf!(x, n)\n",
    "    for _ in 1:n\n",
    "        f!(x)\n",
    "    end\n",
    "    x\n",
    "end\n",
    "\n",
    "@show v = Float64.(1:4)\n",
    "@show ov = OffsetVector(v, 0:3)\n",
    "@show x = O.Foo(ov)\n",
    "\n",
    "@time f!(x)\n",
    "@time f!(x)\n",
    "@time iterf!(x, 4)\n",
    "@time iterf!(x, 4)"
   ]
  },
  {
   "cell_type": "code",
   "execution_count": null,
   "id": "89a5bfae-2b9b-4c77-9f64-6d0bc77b9f6e",
   "metadata": {},
   "outputs": [],
   "source": []
  }
 ],
 "metadata": {
  "jupytext": {
   "formats": "ipynb,jl:hydrogen"
  },
  "kernelspec": {
   "display_name": "Julia 1.10.5",
   "language": "julia",
   "name": "julia-1.10"
  },
  "language_info": {
   "file_extension": ".jl",
   "mimetype": "application/julia",
   "name": "julia",
   "version": "1.10.5"
  }
 },
 "nbformat": 4,
 "nbformat_minor": 5
}
