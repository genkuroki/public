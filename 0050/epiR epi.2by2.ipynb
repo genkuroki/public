{
 "cells": [
  {
   "cell_type": "code",
   "execution_count": 1,
   "id": "6ed5ff17-213b-4e24-bb58-1dbbe40fab80",
   "metadata": {},
   "outputs": [
    {
     "name": "stdout",
     "output_type": "stream",
     "text": [
      "     [,1] [,2]\n",
      "[1,]   15   13\n",
      "[2,]    5   15\n",
      "\n",
      "Wald RR:\n",
      "       est     lower    upper\n",
      "1 2.142857 0.9309039 4.932664\n",
      "\n",
      "Score RR:\n",
      "       est    lower    upper\n",
      "1 1.615385 1.005002 2.659822\n"
     ]
    }
   ],
   "source": [
    ".Table <- matrix(c(15, 13, 5, 15), 2, 2, byrow=TRUE)\n",
    "print(.Table)\n",
    "\n",
    "# epiR で分析\n",
    "analysis <- epiR::epi.2by2(\n",
    "  dat = .Table,\n",
    "  method = \"cross.sectional\",\n",
    "  digits = 3,\n",
    "  conf.level = 0.95,\n",
    "  units = 1,\n",
    "  outcome = \"as.columns\"\n",
    ")\n",
    "\n",
    "# Wald法\n",
    "rr_result <- analysis$massoc.detail$PR.strata.wald\n",
    "cat(\"\\nWald RR:\\n\")\n",
    "print(rr_result)\n",
    "\n",
    "# スコア法\n",
    "rr_result <- analysis$massoc.detail$PR.strata.score\n",
    "cat(\"\\nScore RR:\\n\")\n",
    "print(rr_result)"
   ]
  },
  {
   "cell_type": "code",
   "execution_count": 2,
   "id": "03ac409d-38a7-4054-beed-e788cb94c57a",
   "metadata": {},
   "outputs": [
    {
     "data": {
      "text/html": [
       "2.14285714285714"
      ],
      "text/latex": [
       "2.14285714285714"
      ],
      "text/markdown": [
       "2.14285714285714"
      ],
      "text/plain": [
       "[1] 2.142857"
      ]
     },
     "metadata": {},
     "output_type": "display_data"
    }
   ],
   "source": [
    "(15/(15+13))/(5/(5+15))"
   ]
  },
  {
   "cell_type": "code",
   "execution_count": 3,
   "id": "d795d775-229d-4e1b-b45c-8ce21e064c1b",
   "metadata": {},
   "outputs": [
    {
     "data": {
      "text/html": [
       "1.61538461538462"
      ],
      "text/latex": [
       "1.61538461538462"
      ],
      "text/markdown": [
       "1.61538461538462"
      ],
      "text/plain": [
       "[1] 1.615385"
      ]
     },
     "metadata": {},
     "output_type": "display_data"
    }
   ],
   "source": [
    "(15/(15+5))/(13/(13+15))"
   ]
  },
  {
   "cell_type": "code",
   "execution_count": 4,
   "id": "b326c9d9-ec8c-4ed8-9a4c-fcb3de78d55a",
   "metadata": {},
   "outputs": [
    {
     "name": "stdout",
     "output_type": "stream",
     "text": [
      "             Outcome +    Outcome -      Total               Prev risk *\n",
      "Exposed +           15           13         28    0.536 (0.339 to 0.725)\n",
      "Exposed -            5           15         20    0.250 (0.087 to 0.491)\n",
      "Total               20           28         48    0.417 (0.276 to 0.568)\n",
      "\n",
      "Point estimates and 95% CIs:\n",
      "-------------------------------------------------------------------\n",
      "Prev risk ratio                                2.143 (0.931, 4.933)\n",
      "Prev odds ratio                                3.462 (0.986, 12.147)\n",
      "Attrib prev in the exposed *                   0.286 (0.021, 0.551)\n",
      "Attrib fraction in the exposed (%)            53.333 (-7.422, 79.727)\n",
      "Attrib prev in the population *                0.167 (-0.069, 0.402)\n",
      "Attrib fraction in the population (%)         40.000 (-12.947, 68.127)\n",
      "-------------------------------------------------------------------\n",
      "Uncorrected chi2 test that OR = 1: chi2(1) = 3.918 Pr>chi2 = 0.048\n",
      "Fisher exact test that OR = 1: Pr>chi2 = 0.075\n",
      " Wald confidence limits\n",
      " CI: confidence interval\n",
      " * Outcomes per population unit \n",
      "\n",
      "Wald RR:\n",
      "       est     lower    upper\n",
      "1 2.142857 0.9309039 4.932664\n",
      "\n",
      "Score RR:\n",
      "       est    lower    upper\n",
      "1 1.615385 1.005002 2.659822\n"
     ]
    }
   ],
   "source": [
    ".Table <- matrix(c(15, 13, 5, 15), 2, 2, byrow=TRUE)\n",
    "\n",
    "# epiR で分析\n",
    "analysis <- epiR::epi.2by2(\n",
    "  dat = .Table,\n",
    "  method = \"cross.sectional\",\n",
    "  digits = 3,\n",
    "  conf.level = 0.95,\n",
    "  units = 1,\n",
    "  outcome = \"as.columns\"\n",
    ")\n",
    "print(analysis)\n",
    "\n",
    "# Wald法\n",
    "rr_result <- analysis$massoc.detail$PR.strata.wald\n",
    "cat(\"\\nWald RR:\\n\")\n",
    "print(rr_result)\n",
    "\n",
    "# スコア法\n",
    "rr_result <- analysis$massoc.detail$PR.strata.score\n",
    "cat(\"\\nScore RR:\\n\")\n",
    "print(rr_result)"
   ]
  },
  {
   "cell_type": "code",
   "execution_count": 5,
   "id": "d7528a10-82ca-4947-8116-3731030d077c",
   "metadata": {},
   "outputs": [
    {
     "name": "stdout",
     "output_type": "stream",
     "text": [
      "List of 10\n",
      " $ method        : chr \"cross.sectional\"\n",
      " $ n.strata      : int 1\n",
      " $ digits        : num 3\n",
      " $ conf.level    : num 0.95\n",
      " $ interp        : logi FALSE\n",
      " $ units         : chr [1:2] \"Outcomes per population unit\" \"per population unit\"\n",
      " $ tab           :'data.frame':\t3 obs. of  4 variables:\n",
      "  ..$    Outcome +             : 'AsIs' chr [1:3] \"15\" \" 5\" \"20\"\n",
      "  ..$    Outcome -             : 'AsIs' chr [1:3] \"13\" \"15\" \"28\"\n",
      "  ..$      Total               : 'AsIs' chr [1:3] \"28\" \"20\" \"48\"\n",
      "  ..$               Prev risk *: 'AsIs' chr [1:3] \"0.536 (0.339 to 0.725)\" \"0.250 (0.087 to 0.491)\" \"0.417 (0.276 to 0.568)\"\n",
      " $ massoc.summary:'data.frame':\t6 obs. of  4 variables:\n",
      "  ..$ var  : chr [1:6] \"Prev risk ratio\" \"Prev odds ratio\" \"Attrib prev *\" \"Attrib fraction in exposed (%)\" ...\n",
      "  ..$ est  : num [1:6] 2.143 3.462 0.286 53.333 0.167 ...\n",
      "  ..$ lower: num [1:6] 0.9309 0.9864 0.0209 -7.4225 -0.0688 ...\n",
      "  ..$ upper: num [1:6] 4.933 12.147 0.551 79.727 0.402 ...\n",
      " $ massoc.interp :'data.frame':\t7 obs. of  2 variables:\n",
      "  ..$ var : chr [1:7] \"Prev risk ratio\" \"Prev odds ratio\" \"Attrib prev *\" \"NNTB NNTH\" ...\n",
      "  ..$ text: chr [1:7] \"The outcome prevalence risk among the exposed was 2.14 (95% CI 0.93 to 4.93) times the outcome prevalence among\"| __truncated__ \"The outcome prevalence odds among the exposed was 3.46 (95% CI 0.99 to 12.15) times the outcome prevalence odds\"| __truncated__ \"Exposure changed the outcome prevalence risk in the exposed by 0.82 (95% CI 0.17 to 1.47) per population unit.\" \"Exposure increased the outcome incidence risk in the exposed. The number needed to treat (i.e., expose) to incr\"| __truncated__ ...\n",
      " $ massoc.detail :List of 19\n",
      "  ..$ PR.strata.wald     :'data.frame':\t1 obs. of  3 variables:\n",
      "  .. ..$ est  : num 2.14\n",
      "  .. ..$ lower: num 0.931\n",
      "  .. ..$ upper: num 4.93\n",
      "  ..$ PR.strata.taylor   :'data.frame':\t1 obs. of  3 variables:\n",
      "  .. ..$ est  : num 2.14\n",
      "  .. ..$ lower: num 0.931\n",
      "  .. ..$ upper: num 4.93\n",
      "  ..$ PR.strata.score    :'data.frame':\t1 obs. of  3 variables:\n",
      "  .. ..$ est  : num 1.62\n",
      "  .. ..$ lower: num 1.01\n",
      "  .. ..$ upper: num 2.66\n",
      "  ..$ OR.strata.wald     :'data.frame':\t1 obs. of  3 variables:\n",
      "  .. ..$ est  : num 3.46\n",
      "  .. ..$ lower: num 0.986\n",
      "  .. ..$ upper: num 12.1\n",
      "  ..$ OR.strata.cfield   :'data.frame':\t0 obs. of  3 variables:\n",
      "  .. ..$ est  : logi(0) \n",
      "  .. ..$ lower: logi(0) \n",
      "  .. ..$ upper: logi(0) \n",
      "  ..$ OR.strata.score    :'data.frame':\t1 obs. of  3 variables:\n",
      "  .. ..$ est  : num 3.46\n",
      "  .. ..$ lower: num 1.01\n",
      "  .. ..$ upper: num 11.7\n",
      "  ..$ OR.strata.mle      :'data.frame':\t1 obs. of  3 variables:\n",
      "  .. ..$ est  : num 3.37\n",
      "  .. ..$ lower: num 0.856\n",
      "  .. ..$ upper: num 15.3\n",
      "  ..$ ARisk.strata.wald  :'data.frame':\t1 obs. of  3 variables:\n",
      "  .. ..$ est  : num 0.286\n",
      "  .. ..$ lower: num 0.0209\n",
      "  .. ..$ upper: num 0.551\n",
      "  ..$ ARisk.strata.score :'data.frame':\t1 obs. of  3 variables:\n",
      "  .. ..$ est  : num 0.286\n",
      "  .. ..$ lower: num 0.00288\n",
      "  .. ..$ upper: num 0.519\n",
      "  ..$ NNT.strata.wald    :'data.frame':\t1 obs. of  3 variables:\n",
      "  .. ..$ est  : num 3.5\n",
      "  .. ..$ lower: num 1.82\n",
      "  .. ..$ upper: num 47.9\n",
      "  ..$ NNT.strata.score   :'data.frame':\t1 obs. of  3 variables:\n",
      "  .. ..$ est  : num 3.5\n",
      "  .. ..$ lower: num 1.93\n",
      "  .. ..$ upper: num 347\n",
      "  ..$ PARisk.strata.wald :'data.frame':\t1 obs. of  3 variables:\n",
      "  .. ..$ est  : num 0.167\n",
      "  .. ..$ lower: num -0.0688\n",
      "  .. ..$ upper: num 0.402\n",
      "  ..$ PARisk.strata.piri :'data.frame':\t1 obs. of  3 variables:\n",
      "  .. ..$ est  : num 0.167\n",
      "  .. ..$ lower: num 0.00712\n",
      "  .. ..$ upper: num 0.326\n",
      "  ..$ AFRisk.strata.wald :'data.frame':\t1 obs. of  3 variables:\n",
      "  .. ..$ est  : num 0.533\n",
      "  .. ..$ lower: num -0.0742\n",
      "  .. ..$ upper: num 0.797\n",
      "  ..$ PAFRisk.strata.wald:'data.frame':\t1 obs. of  3 variables:\n",
      "  .. ..$ est  : num 0.4\n",
      "  .. ..$ lower: num -0.129\n",
      "  .. ..$ upper: num 0.681\n",
      "  ..$ chi2.strata.uncor  :'data.frame':\t1 obs. of  5 variables:\n",
      "  .. ..$ test.statistic: num 3.92\n",
      "  .. ..$ df            : num 1\n",
      "  .. ..$ p.value.1s    : num 0.0239\n",
      "  .. ..$ p.value.2s    : num 0.0478\n",
      "  .. ..$ phi.coef      : num 0.286\n",
      "  ..$ chi2.strata.yates  :'data.frame':\t1 obs. of  4 variables:\n",
      "  .. ..$ test.statistic: num 2.83\n",
      "  .. ..$ df            : num 1\n",
      "  .. ..$ p.value.1s    : num 0.0462\n",
      "  .. ..$ p.value.2s    : num 0.0925\n",
      "  ..$ chi2.strata.fisher :'data.frame':\t1 obs. of  4 variables:\n",
      "  .. ..$ test.statistic: logi NA\n",
      "  .. ..$ df            : logi NA\n",
      "  .. ..$ p.value.1s    : num 0.0375\n",
      "  .. ..$ p.value.2s    : num 0.075\n",
      "  ..$ chi2.correction    : logi FALSE\n",
      " - attr(*, \"class\")= chr \"epi.2by2\"\n"
     ]
    }
   ],
   "source": [
    "str(analysis)"
   ]
  },
  {
   "cell_type": "code",
   "execution_count": 6,
   "id": "635a3abf-4dc7-4d0d-ae3c-bd412a49e69a",
   "metadata": {},
   "outputs": [
    {
     "name": "stdout",
     "output_type": "stream",
     "text": [
      "             Outcome +    Outcome -      Total               Prev risk *\n",
      "Exposed +           15            5         20    0.750 (0.509 to 0.913)\n",
      "Exposed -           13           15         28    0.464 (0.275 to 0.661)\n",
      "Total               28           20         48    0.583 (0.432 to 0.724)\n",
      "\n",
      "Point estimates and 95% CIs:\n",
      "-------------------------------------------------------------------\n",
      "Prev risk ratio                                1.615 (1.008, 2.589)\n",
      "Prev odds ratio                                3.462 (0.986, 12.147)\n",
      "Attrib prev in the exposed *                   0.286 (0.021, 0.551)\n",
      "Attrib fraction in the exposed (%)            38.095 (0.803, 61.368)\n",
      "Attrib prev in the population *                0.119 (-0.112, 0.351)\n",
      "Attrib fraction in the population (%)         20.408 (-3.398, 38.733)\n",
      "-------------------------------------------------------------------\n",
      "Uncorrected chi2 test that OR = 1: chi2(1) = 3.918 Pr>chi2 = 0.048\n",
      "Fisher exact test that OR = 1: Pr>chi2 = 0.075\n",
      " Wald confidence limits\n",
      " CI: confidence interval\n",
      " * Outcomes per population unit \n",
      "\n",
      "Wald RR:\n",
      "       est    lower    upper\n",
      "1 1.615385 1.008091 2.588524\n",
      "\n",
      "Score RR:\n",
      "       est    lower   upper\n",
      "1 2.142857 1.006823 5.06655\n"
     ]
    }
   ],
   "source": [
    ".Table <- matrix(c(15, 13, 5, 15), 2, 2, byrow=FALSE)\n",
    "\n",
    "# epiR で分析\n",
    "analysis <- epiR::epi.2by2(\n",
    "  dat = .Table,\n",
    "  method = \"cross.sectional\",\n",
    "  digits = 3,\n",
    "  conf.level = 0.95,\n",
    "  units = 1,\n",
    "  outcome = \"as.columns\"\n",
    ")\n",
    "print(analysis)\n",
    "\n",
    "# Wald法\n",
    "rr_result <- analysis$massoc.detail$PR.strata.wald\n",
    "cat(\"\\nWald RR:\\n\")\n",
    "print(rr_result)\n",
    "\n",
    "# スコア法\n",
    "rr_result <- analysis$massoc.detail$PR.strata.score\n",
    "cat(\"\\nScore RR:\\n\")\n",
    "print(rr_result)"
   ]
  },
  {
   "cell_type": "code",
   "execution_count": 7,
   "id": "307254db-4c5d-48eb-b203-08453c47978f",
   "metadata": {},
   "outputs": [
    {
     "name": "stdout",
     "output_type": "stream",
     "text": [
      "List of 10\n",
      " $ method        : chr \"cross.sectional\"\n",
      " $ n.strata      : int 1\n",
      " $ digits        : num 3\n",
      " $ conf.level    : num 0.95\n",
      " $ interp        : logi FALSE\n",
      " $ units         : chr [1:2] \"Outcomes per population unit\" \"per population unit\"\n",
      " $ tab           :'data.frame':\t3 obs. of  4 variables:\n",
      "  ..$    Outcome +             : 'AsIs' chr [1:3] \"15\" \"13\" \"28\"\n",
      "  ..$    Outcome -             : 'AsIs' chr [1:3] \" 5\" \"15\" \"20\"\n",
      "  ..$      Total               : 'AsIs' chr [1:3] \"20\" \"28\" \"48\"\n",
      "  ..$               Prev risk *: 'AsIs' chr [1:3] \"0.750 (0.509 to 0.913)\" \"0.464 (0.275 to 0.661)\" \"0.583 (0.432 to 0.724)\"\n",
      " $ massoc.summary:'data.frame':\t6 obs. of  4 variables:\n",
      "  ..$ var  : chr [1:6] \"Prev risk ratio\" \"Prev odds ratio\" \"Attrib prev *\" \"Attrib fraction in exposed (%)\" ...\n",
      "  ..$ est  : num [1:6] 1.615 3.462 0.286 38.095 0.119 ...\n",
      "  ..$ lower: num [1:6] 1.0081 0.9864 0.0209 0.8026 -0.1124 ...\n",
      "  ..$ upper: num [1:6] 2.589 12.147 0.551 61.368 0.351 ...\n",
      " $ massoc.interp :'data.frame':\t7 obs. of  2 variables:\n",
      "  ..$ var : chr [1:7] \"Prev risk ratio\" \"Prev odds ratio\" \"Attrib prev *\" \"NNTB NNTH\" ...\n",
      "  ..$ text: chr [1:7] \"The outcome prevalence risk among the exposed was 1.62 (95% CI 1.01 to 2.59) times the outcome prevalence among\"| __truncated__ \"The outcome prevalence odds among the exposed was 3.46 (95% CI 0.99 to 12.15) times the outcome prevalence odds\"| __truncated__ \"Exposure changed the outcome prevalence risk in the exposed by 2.13 (95% CI 0.54 to 3.72) per population unit.\" \"Exposure increased the outcome incidence risk in the exposed. The number needed to treat (i.e., expose) to incr\"| __truncated__ ...\n",
      " $ massoc.detail :List of 19\n",
      "  ..$ PR.strata.wald     :'data.frame':\t1 obs. of  3 variables:\n",
      "  .. ..$ est  : num 1.62\n",
      "  .. ..$ lower: num 1.01\n",
      "  .. ..$ upper: num 2.59\n",
      "  ..$ PR.strata.taylor   :'data.frame':\t1 obs. of  3 variables:\n",
      "  .. ..$ est  : num 1.62\n",
      "  .. ..$ lower: num 1.01\n",
      "  .. ..$ upper: num 2.59\n",
      "  ..$ PR.strata.score    :'data.frame':\t1 obs. of  3 variables:\n",
      "  .. ..$ est  : num 2.14\n",
      "  .. ..$ lower: num 1.01\n",
      "  .. ..$ upper: num 5.07\n",
      "  ..$ OR.strata.wald     :'data.frame':\t1 obs. of  3 variables:\n",
      "  .. ..$ est  : num 3.46\n",
      "  .. ..$ lower: num 0.986\n",
      "  .. ..$ upper: num 12.1\n",
      "  ..$ OR.strata.cfield   :'data.frame':\t0 obs. of  3 variables:\n",
      "  .. ..$ est  : logi(0) \n",
      "  .. ..$ lower: logi(0) \n",
      "  .. ..$ upper: logi(0) \n",
      "  ..$ OR.strata.score    :'data.frame':\t1 obs. of  3 variables:\n",
      "  .. ..$ est  : num 3.46\n",
      "  .. ..$ lower: num 1.01\n",
      "  .. ..$ upper: num 11.7\n",
      "  ..$ OR.strata.mle      :'data.frame':\t1 obs. of  3 variables:\n",
      "  .. ..$ est  : num 3.37\n",
      "  .. ..$ lower: num 0.856\n",
      "  .. ..$ upper: num 15.3\n",
      "  ..$ ARisk.strata.wald  :'data.frame':\t1 obs. of  3 variables:\n",
      "  .. ..$ est  : num 0.286\n",
      "  .. ..$ lower: num 0.0209\n",
      "  .. ..$ upper: num 0.551\n",
      "  ..$ ARisk.strata.score :'data.frame':\t1 obs. of  3 variables:\n",
      "  .. ..$ est  : num 0.286\n",
      "  .. ..$ lower: num 0.00288\n",
      "  .. ..$ upper: num 0.519\n",
      "  ..$ NNT.strata.wald    :'data.frame':\t1 obs. of  3 variables:\n",
      "  .. ..$ est  : num 3.5\n",
      "  .. ..$ lower: num 1.82\n",
      "  .. ..$ upper: num 47.9\n",
      "  ..$ NNT.strata.score   :'data.frame':\t1 obs. of  3 variables:\n",
      "  .. ..$ est  : num 3.5\n",
      "  .. ..$ lower: num 1.93\n",
      "  .. ..$ upper: num 347\n",
      "  ..$ PARisk.strata.wald :'data.frame':\t1 obs. of  3 variables:\n",
      "  .. ..$ est  : num 0.119\n",
      "  .. ..$ lower: num -0.112\n",
      "  .. ..$ upper: num 0.351\n",
      "  ..$ PARisk.strata.piri :'data.frame':\t1 obs. of  3 variables:\n",
      "  .. ..$ est  : num 0.119\n",
      "  .. ..$ lower: num 0.00173\n",
      "  .. ..$ upper: num 0.236\n",
      "  ..$ AFRisk.strata.wald :'data.frame':\t1 obs. of  3 variables:\n",
      "  .. ..$ est  : num 0.381\n",
      "  .. ..$ lower: num 0.00803\n",
      "  .. ..$ upper: num 0.614\n",
      "  ..$ PAFRisk.strata.wald:'data.frame':\t1 obs. of  3 variables:\n",
      "  .. ..$ est  : num 0.204\n",
      "  .. ..$ lower: num -0.034\n",
      "  .. ..$ upper: num 0.387\n",
      "  ..$ chi2.strata.uncor  :'data.frame':\t1 obs. of  5 variables:\n",
      "  .. ..$ test.statistic: num 3.92\n",
      "  .. ..$ df            : num 1\n",
      "  .. ..$ p.value.1s    : num 0.0239\n",
      "  .. ..$ p.value.2s    : num 0.0478\n",
      "  .. ..$ phi.coef      : num 0.286\n",
      "  ..$ chi2.strata.yates  :'data.frame':\t1 obs. of  4 variables:\n",
      "  .. ..$ test.statistic: num 2.83\n",
      "  .. ..$ df            : num 1\n",
      "  .. ..$ p.value.1s    : num 0.0462\n",
      "  .. ..$ p.value.2s    : num 0.0925\n",
      "  ..$ chi2.strata.fisher :'data.frame':\t1 obs. of  4 variables:\n",
      "  .. ..$ test.statistic: logi NA\n",
      "  .. ..$ df            : logi NA\n",
      "  .. ..$ p.value.1s    : num 0.0375\n",
      "  .. ..$ p.value.2s    : num 0.075\n",
      "  ..$ chi2.correction    : logi FALSE\n",
      " - attr(*, \"class\")= chr \"epi.2by2\"\n"
     ]
    }
   ],
   "source": [
    "str(analysis)"
   ]
  },
  {
   "cell_type": "code",
   "execution_count": null,
   "id": "c0fa4557-d452-40a5-a983-663d72788757",
   "metadata": {},
   "outputs": [],
   "source": []
  }
 ],
 "metadata": {
  "jupytext": {
   "formats": "ipynb,R:hydrogen"
  },
  "kernelspec": {
   "display_name": "R",
   "language": "R",
   "name": "ir"
  },
  "language_info": {
   "codemirror_mode": "r",
   "file_extension": ".r",
   "mimetype": "text/x-r-source",
   "name": "R",
   "pygments_lexer": "r",
   "version": "4.4.0"
  }
 },
 "nbformat": 4,
 "nbformat_minor": 5
}
