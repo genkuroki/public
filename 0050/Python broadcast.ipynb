{
 "cells": [
  {
   "cell_type": "code",
   "execution_count": 1,
   "id": "8dcf8e84-6954-4278-a9ff-7d3e927f4c88",
   "metadata": {},
   "outputs": [],
   "source": [
    "import numpy as np"
   ]
  },
  {
   "cell_type": "code",
   "execution_count": 2,
   "id": "ec0ff9d6-2b48-4d20-80c7-62f70a66ab4a",
   "metadata": {},
   "outputs": [
    {
     "data": {
      "text/plain": [
       "array([[1, 2],\n",
       "       [3, 4],\n",
       "       [5, 6]])"
      ]
     },
     "execution_count": 2,
     "metadata": {},
     "output_type": "execute_result"
    }
   ],
   "source": [
    "# A.shape == (3, 2)\n",
    "A = np.array([[1, 2],\n",
    "              [3, 4],\n",
    "              [5, 6]])\n",
    "A"
   ]
  },
  {
   "cell_type": "code",
   "execution_count": 3,
   "id": "d572cd0c-2e7d-425d-93bf-d9b2bdf38813",
   "metadata": {},
   "outputs": [
    {
     "data": {
      "text/plain": [
       "array([[7, 8]])"
      ]
     },
     "execution_count": 3,
     "metadata": {},
     "output_type": "execute_result"
    }
   ],
   "source": [
    "# v.shape == (1, 2)\n",
    "v = np.array([[7, 8]])\n",
    "v"
   ]
  },
  {
   "cell_type": "code",
   "execution_count": 4,
   "id": "c235fa08-424c-47de-b776-33285320f29e",
   "metadata": {},
   "outputs": [
    {
     "data": {
      "text/plain": [
       "array([[ 7, 16],\n",
       "       [21, 32],\n",
       "       [35, 48]])"
      ]
     },
     "execution_count": 4,
     "metadata": {},
     "output_type": "execute_result"
    }
   ],
   "source": [
    "# Broadcast & multiply\n",
    "A * v\n",
    "# > array([[ 7, 16],\n",
    "# >        [21, 32],\n",
    "# >        [35, 48]])"
   ]
  },
  {
   "cell_type": "code",
   "execution_count": 5,
   "id": "ed263fbf-d6b5-457f-97f8-9258ce532db2",
   "metadata": {},
   "outputs": [
    {
     "data": {
      "text/plain": [
       "array([[[ 1,  4,  7, 10],\n",
       "        [ 2,  5,  8, 11],\n",
       "        [ 3,  6,  9, 12]],\n",
       "\n",
       "       [[13, 16, 19, 22],\n",
       "        [14, 17, 20, 23],\n",
       "        [15, 18, 21, 24]]])"
      ]
     },
     "execution_count": 5,
     "metadata": {},
     "output_type": "execute_result"
    }
   ],
   "source": [
    "X = np.array([[[1, 4, 7, 10],\n",
    "               [2, 5, 8, 11],\n",
    "               [3, 6, 9, 12]],\n",
    "              [[13, 16, 19, 22],\n",
    "               [14, 17, 20, 23],\n",
    "               [15, 18, 21, 24]]])\n",
    "X"
   ]
  },
  {
   "cell_type": "code",
   "execution_count": 6,
   "id": "b4dc34c3-c249-43ae-a95c-5f193e6a5f7f",
   "metadata": {},
   "outputs": [
    {
     "data": {
      "text/plain": [
       "array([[ 1,  2,  3,  4],\n",
       "       [ 5,  6,  7,  8],\n",
       "       [ 9, 10, 11, 12]])"
      ]
     },
     "execution_count": 6,
     "metadata": {},
     "output_type": "execute_result"
    }
   ],
   "source": [
    "Y = np.array([[1, 2, 3, 4],\n",
    "           [5, 6, 7, 8],\n",
    "           [9, 10, 11, 12]])\n",
    "Y"
   ]
  },
  {
   "cell_type": "code",
   "execution_count": 7,
   "id": "a5afebea-2583-46c3-9b47-874504028e7f",
   "metadata": {},
   "outputs": [
    {
     "data": {
      "text/plain": [
       "array([[[  1,   8,  21,  40],\n",
       "        [ 10,  30,  56,  88],\n",
       "        [ 27,  60,  99, 144]],\n",
       "\n",
       "       [[ 13,  32,  57,  88],\n",
       "        [ 70, 102, 140, 184],\n",
       "        [135, 180, 231, 288]]])"
      ]
     },
     "execution_count": 7,
     "metadata": {},
     "output_type": "execute_result"
    }
   ],
   "source": [
    "X * Y"
   ]
  },
  {
   "cell_type": "code",
   "execution_count": null,
   "id": "6cb7daef-82fc-4ee9-9cde-074d379094e3",
   "metadata": {},
   "outputs": [],
   "source": []
  }
 ],
 "metadata": {
  "jupytext": {
   "formats": "ipynb,py:hydrogen"
  },
  "kernelspec": {
   "display_name": "Python 3 (ipykernel)",
   "language": "python",
   "name": "python3"
  },
  "language_info": {
   "codemirror_mode": {
    "name": "ipython",
    "version": 3
   },
   "file_extension": ".py",
   "mimetype": "text/x-python",
   "name": "python",
   "nbconvert_exporter": "python",
   "pygments_lexer": "ipython3",
   "version": "3.8.5"
  }
 },
 "nbformat": 4,
 "nbformat_minor": 5
}
