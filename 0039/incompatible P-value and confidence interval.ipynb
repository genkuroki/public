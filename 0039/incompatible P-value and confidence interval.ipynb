{
 "cells": [
  {
   "cell_type": "code",
   "execution_count": 1,
   "id": "2273637f-a206-408d-ab33-2de614b8557e",
   "metadata": {},
   "outputs": [
    {
     "data": {
      "text/plain": [
       "safediv (generic function with 1 method)"
      ]
     },
     "execution_count": 1,
     "metadata": {},
     "output_type": "execute_result"
    }
   ],
   "source": [
    "using Distributions\n",
    "using Random\n",
    "using RCall\n",
    "using Roots\n",
    "using StatsFuns: logit\n",
    "using StatsPlots\n",
    "default(fmt=:png, titlefontsize=10)\n",
    "x ⪅ y = x < y || x ≈ y\n",
    "safemul(x, y) = x == 0 ? x : isinf(x) ? typeof(x)(Inf) : x*y\n",
    "safediv(x, y) = x == 0 ? x : isinf(y) ? zero(y) : x/y"
   ]
  },
  {
   "cell_type": "code",
   "execution_count": 2,
   "id": "fb67c391-d26f-4ba0-889e-ece8ebca6d84",
   "metadata": {},
   "outputs": [
    {
     "data": {
      "text/plain": [
       "confint_or_wald (generic function with 1 method)"
      ]
     },
     "execution_count": 2,
     "metadata": {},
     "output_type": "execute_result"
    }
   ],
   "source": [
    "oddsratiohat(a, b, c, d) = safediv(a*d, b*c)\n",
    "stderr_logoddsratiohat(a, b, c, d) = √(1/a + 1/b + 1/c + 1/d)\n",
    "\n",
    "function pvalue_or_wald(a, b, c, d; ω=1)\n",
    "    logORhat = log(oddsratiohat(a, b, c, d))\n",
    "    SEhat_logORhat = stderr_logoddsratiohat(a, b, c, d)\n",
    "    2ccdf(Normal(0, 1), safediv(abs(logORhat - log(ω)), SEhat_logORhat))\n",
    "end\n",
    "\n",
    "function confint_or_wald(a, b, c, d; α=0.05)\n",
    "    z = quantile(Normal(), 1-α/2)\n",
    "    ORhat = oddsratiohat(a, b, c, d)\n",
    "    SEhat_logORhat = stderr_logoddsratiohat(a, b, c, d)\n",
    "    [safemul(exp(-z*SEhat_logORhat), ORhat), safemul(exp(z*SEhat_logORhat), ORhat)]\n",
    "end"
   ]
  },
  {
   "cell_type": "code",
   "execution_count": 3,
   "id": "657b9ba5-e8bd-4e60-b354-918334e5d368",
   "metadata": {},
   "outputs": [
    {
     "data": {
      "text/plain": [
       "confint_or_sterne (generic function with 1 method)"
      ]
     },
     "execution_count": 3,
     "metadata": {},
     "output_type": "execute_result"
    }
   ],
   "source": [
    "_pdf_le(x, (dist, y)) =  pdf(dist, x) ⪅ y\n",
    "\n",
    "function _search_boundary(f, x0, Δx, param)\n",
    "    x = x0\n",
    "    if f(x, param)\n",
    "        while f(x - Δx, param) x -= Δx end\n",
    "    else\n",
    "        x += Δx\n",
    "        while !f(x, param) x += Δx end\n",
    "    end\n",
    "    x\n",
    "end\n",
    "\n",
    "function pvalue_sterne(dist::DiscreteUnivariateDistribution, x)\n",
    "    Px = pdf(dist, x)\n",
    "    Px == 0 && return Px\n",
    "    Px == 1 && return Px\n",
    "    m = mode(dist)\n",
    "    Px ≈ pdf(dist, m) && return one(Px)\n",
    "    if x < m\n",
    "        y = _search_boundary(_pdf_le, 2m - x, 1, (dist, Px))\n",
    "        cdf(dist, x) + ccdf(dist, y-1)\n",
    "    else # x > m\n",
    "        y = _search_boundary(_pdf_le, 2m - x, -1, (dist, Px))\n",
    "        cdf(dist, y) + ccdf(dist, x-1)\n",
    "    end\n",
    "end\n",
    "\n",
    "function pvalue_or_sterne(a, b, c, d; ω=1)\n",
    "    fnch = if ω == 1\n",
    "        Hypergeometric(a+b, c+d, a+c)\n",
    "    else\n",
    "        FisherNoncentralHypergeometric(a+b, c+d, a+c, ω)\n",
    "    end\n",
    "    pvalue_sterne(fnch, a)\n",
    "end\n",
    "\n",
    "function confint_or_sterne(a, b, c, d; α = 0.05)\n",
    "    (a+b==0 || c+d==0 || a+c==0 || b+d==0) && return [0, Inf]\n",
    "    f(logω) = logit(pvalue_or_sterne(a, b, c, d; ω=exp(logω))) - logit(α)\n",
    "    if a == 0 || d == 0\n",
    "        [0.0, exp(find_zero(f, 0.0))]\n",
    "    elseif b == 0 || c == 0\n",
    "        [exp(find_zero(f, 0.0)), Inf]\n",
    "    else\n",
    "        ω_L, ω_U = confint_or_wald(a, b, c, d; α = α/10)\n",
    "        ps = exp.(find_zeros(f, log(ω_L), log(ω_U)))\n",
    "        # 次の行は稀に区間にならない場合への対策\n",
    "        [first(ps), last(ps)]\n",
    "    end\n",
    "end"
   ]
  },
  {
   "cell_type": "code",
   "execution_count": 4,
   "id": "ba078273-84c0-4852-8693-6db290857e22",
   "metadata": {},
   "outputs": [
    {
     "data": {
      "text/plain": [
       "confint_or_clopper_pearson (generic function with 1 method)"
      ]
     },
     "execution_count": 4,
     "metadata": {},
     "output_type": "execute_result"
    }
   ],
   "source": [
    "function pvalue_or_clopper_pearson(a, b, c, d; ω=1)\n",
    "    fnch = if ω == 1\n",
    "        Hypergeometric(a+b, c+d, a+c)\n",
    "    else\n",
    "        FisherNoncentralHypergeometric(a+b, c+d, a+c, ω)\n",
    "    end\n",
    "    min(1, 2cdf(fnch, a), 2ccdf(fnch, a-1))\n",
    "end\n",
    "\n",
    "function confint_or_clopper_pearson(a, b, c, d; α = 0.05)\n",
    "    (a+b==0 || c+d==0 || a+c==0 || b+d==0) && return [0, Inf]\n",
    "    f(ω) = logit(pvalue_or_clopper_pearson(a, b, c, d; ω)) - logit(α)\n",
    "    if a == 0 || d == 0\n",
    "        [0.0, find_zero(f, 1.0)]\n",
    "    elseif b == 0 || c == 0\n",
    "        [find_zero(f, 1.0), Inf]\n",
    "    else\n",
    "        ω_L, ω_U = confint_or_wald(a, b, c, d; α = α/10)\n",
    "        find_zeros(f, ω_L, ω_U)\n",
    "    end\n",
    "end"
   ]
  },
  {
   "cell_type": "code",
   "execution_count": 5,
   "id": "b490d4d7-2fd0-4e0e-a5bc-0769ab6eaa9e",
   "metadata": {},
   "outputs": [
    {
     "data": {
      "text/plain": [
       "TaskLocalRNG()"
      ]
     },
     "execution_count": 5,
     "metadata": {},
     "output_type": "execute_result"
    }
   ],
   "source": [
    "Random.seed!(4649373)"
   ]
  },
  {
   "cell_type": "code",
   "execution_count": 6,
   "id": "950cbbbb-b0bd-4236-8078-bbc1d06edff2",
   "metadata": {},
   "outputs": [
    {
     "name": "stdout",
     "output_type": "stream",
     "text": [
      " 11.143672 seconds (328.04 k allocations: 17.813 MiB, 1.79% compilation time: 30% of which was recompilation)\n"
     ]
    },
    {
     "data": {
      "text/plain": [
       "3-element Vector{Any}:\n",
       " ((6, 259, 4, 700), 0.029845399658271293, 0.059690799316542587, [0.9510694286351652, 19.65912907814243])\n",
       " ((8, 442, 3, 689), 0.02994069230485826, 0.05204425808803977, [0.9897707838610275, 24.426268738562133])\n",
       " ((6, 261, 3, 594), 0.02861864760575654, 0.05723729521151308, [0.9615083482669371, 28.28446491930077])"
      ]
     },
     "execution_count": 6,
     "metadata": {},
     "output_type": "execute_result"
    }
   ],
   "source": [
    "D = @time let D = []\n",
    "for _ in 1:2*10^6\n",
    "    A = (rand(3:100), rand(250:700), rand(3:100), rand(300:700))\n",
    "    p1 = pvalue_or_sterne(A...)\n",
    "    p2 = pvalue_or_clopper_pearson(A...)\n",
    "    if p1 < 0.03 && p2 > 0.051\n",
    "        ci2 = confint_or_clopper_pearson(A...)\n",
    "        push!(D, (A, p1, p2, ci2))\n",
    "    end\n",
    "end\n",
    "D\n",
    "end"
   ]
  },
  {
   "cell_type": "code",
   "execution_count": 7,
   "id": "e40df0bd-d1aa-4c69-bde6-e5c074bfab82",
   "metadata": {},
   "outputs": [
    {
     "name": "stdout",
     "output_type": "stream",
     "text": [
      " 10.805574 seconds (1.12 k allocations: 28.844 KiB)\n"
     ]
    },
    {
     "data": {
      "text/plain": [
       "1-element Vector{Any}:\n",
       " ((9, 207, 7, 491), 0.028615270036816423, 0.05140547811856604, [0.9938729259098371, 9.756915682036341])"
      ]
     },
     "execution_count": 7,
     "metadata": {},
     "output_type": "execute_result"
    }
   ],
   "source": [
    "D = @time let D = []\n",
    "for _ in 1:2*10^6\n",
    "    A = (rand(5:100), rand(200:500), rand(5:100), rand(300:500))\n",
    "    p1 = pvalue_or_sterne(A...)\n",
    "    p2 = pvalue_or_clopper_pearson(A...)\n",
    "    if p1 < 0.03 && p2 > 0.051\n",
    "        ci2 = confint_or_clopper_pearson(A...)\n",
    "        push!(D, (A, p1, p2, ci2))\n",
    "    end\n",
    "end\n",
    "D\n",
    "end"
   ]
  },
  {
   "cell_type": "code",
   "execution_count": 8,
   "id": "d476dfbc-0757-49db-99ce-872b8300d74f",
   "metadata": {},
   "outputs": [
    {
     "data": {
      "text/plain": [
       "RObject{VecSxp}\n",
       "\n",
       "\tFisher's Exact Test for Count Data\n",
       "\n",
       "data:  matrix(c(6, 259, 4, 700), nrow = 2)\n",
       "p-value = 0.02985\n",
       "alternative hypothesis: true odds ratio is not equal to 1\n",
       "95 percent confidence interval:\n",
       "  0.9510697 19.6549486\n",
       "sample estimates:\n",
       "odds ratio \n",
       "  4.047037 \n",
       "\n"
      ]
     },
     "execution_count": 8,
     "metadata": {},
     "output_type": "execute_result"
    }
   ],
   "source": [
    "R\"fisher.test(matrix(c(6, 259, 4, 700), nrow=2))\""
   ]
  },
  {
   "cell_type": "code",
   "execution_count": 9,
   "id": "2b3da395-5acb-4a9e-9cf9-b0a3f59cbab7",
   "metadata": {},
   "outputs": [
    {
     "data": {
      "text/plain": [
       "RObject{VecSxp}\n",
       "\n",
       "\tFisher's Exact Test for Count Data\n",
       "\n",
       "data:  matrix(c(6, 261, 3, 594), nrow = 2)\n",
       "p-value = 0.02862\n",
       "alternative hypothesis: true odds ratio is not equal to 1\n",
       "95 percent confidence interval:\n",
       "  0.9615084 28.2602534\n",
       "sample estimates:\n",
       "odds ratio \n",
       "  4.542788 \n",
       "\n"
      ]
     },
     "execution_count": 9,
     "metadata": {},
     "output_type": "execute_result"
    }
   ],
   "source": [
    "R\"fisher.test(matrix(c(6, 261, 3, 594), nrow=2))\""
   ]
  },
  {
   "cell_type": "code",
   "execution_count": 10,
   "id": "57490951-7512-4179-925f-8f74577306e4",
   "metadata": {},
   "outputs": [
    {
     "data": {
      "text/plain": [
       "RObject{VecSxp}\n",
       "\n",
       "\tFisher's Exact Test for Count Data\n",
       "\n",
       "data:  matrix(c(8, 442, 3, 689), nrow = 2)\n",
       "p-value = 0.02994\n",
       "alternative hypothesis: true odds ratio is not equal to 1\n",
       "95 percent confidence interval:\n",
       "  0.9897666 24.4255589\n",
       "sample estimates:\n",
       "odds ratio \n",
       "  4.151696 \n",
       "\n"
      ]
     },
     "execution_count": 10,
     "metadata": {},
     "output_type": "execute_result"
    }
   ],
   "source": [
    "R\"fisher.test(matrix(c(8, 442, 3, 689), nrow=2))\""
   ]
  },
  {
   "cell_type": "code",
   "execution_count": 11,
   "id": "aa5d9c97-8c3a-47b3-beeb-cfe98944e0d5",
   "metadata": {},
   "outputs": [
    {
     "data": {
      "text/plain": [
       "RObject{VecSxp}\n",
       "\n",
       "\tFisher's Exact Test for Count Data\n",
       "\n",
       "data:  matrix(c(9, 207, 7, 491), nrow = 2)\n",
       "p-value = 0.02862\n",
       "alternative hypothesis: true odds ratio is not equal to 1\n",
       "95 percent confidence interval:\n",
       " 0.9938712 9.7594413\n",
       "sample estimates:\n",
       "odds ratio \n",
       "  3.044272 \n",
       "\n"
      ]
     },
     "execution_count": 11,
     "metadata": {},
     "output_type": "execute_result"
    }
   ],
   "source": [
    "R\"fisher.test(matrix(c(9, 207, 7, 491), nrow=2))\""
   ]
  },
  {
   "cell_type": "code",
   "execution_count": null,
   "id": "d207ff41-f787-4281-88be-627096cc14bc",
   "metadata": {},
   "outputs": [],
   "source": []
  }
 ],
 "metadata": {
  "kernelspec": {
   "display_name": "Julia 1.8.2",
   "language": "julia",
   "name": "julia-1.8"
  },
  "language_info": {
   "file_extension": ".jl",
   "mimetype": "application/julia",
   "name": "julia",
   "version": "1.8.2"
  }
 },
 "nbformat": 4,
 "nbformat_minor": 5
}
