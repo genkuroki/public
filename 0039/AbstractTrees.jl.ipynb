{
 "cells": [
  {
   "cell_type": "code",
   "execution_count": 1,
   "id": "a643dc47-a139-4636-9ad2-bcd6ac714a6f",
   "metadata": {},
   "outputs": [
    {
     "name": "stderr",
     "output_type": "stream",
     "text": [
      "\u001b[32m\u001b[1m    Updating\u001b[22m\u001b[39m registry at `D:\\.julia\\registries\\General.toml`\n",
      "\u001b[32m\u001b[1m   Resolving\u001b[22m\u001b[39m package versions...\n",
      "\u001b[32m\u001b[1m  No Changes\u001b[22m\u001b[39m to `D:\\.julia\\environments\\v1.8\\Project.toml`\n",
      "\u001b[32m\u001b[1m  No Changes\u001b[22m\u001b[39m to `D:\\.julia\\environments\\v1.8\\Manifest.toml`\n"
     ]
    }
   ],
   "source": [
    "]add AbstractTrees"
   ]
  },
  {
   "cell_type": "code",
   "execution_count": 2,
   "id": "9a53e873-cc41-4061-95a2-b535b04ab465",
   "metadata": {},
   "outputs": [
    {
     "name": "stdout",
     "output_type": "stream",
     "text": [
      "AbstractVector\n",
      "├─ AbstractRange\n",
      "│  ├─ LinRange\n",
      "│  ├─ OrdinalRange\n",
      "│  │  ├─ AbstractUnitRange\n",
      "│  │  │  ├─ IdentityUnitRange\n",
      "│  │  │  ├─ OneTo\n",
      "│  │  │  ├─ Slice\n",
      "│  │  │  └─ UnitRange\n",
      "│  │  └─ StepRange\n",
      "│  └─ StepRangeLen\n",
      "├─ ExceptionStack\n",
      "├─ LogicalIndex\n",
      "├─ MethodList\n",
      "├─ ReinterpretArray{T, 1, S} where {T, S}\n",
      "├─ ReshapedArray{T, 1} where T\n",
      "├─ BitVector\n",
      "├─ CartesianIndices{1, R} where R<:Tuple{OrdinalRange{Int64, Int64}}\n",
      "├─ AbstractRange\n",
      "│  ├─ LinRange\n",
      "│  ├─ OrdinalRange\n",
      "│  │  ├─ AbstractUnitRange\n",
      "│  │  │  ├─ IdentityUnitRange\n",
      "│  │  │  ├─ OneTo\n",
      "│  │  │  ├─ Slice\n",
      "│  │  │  ├─ StmtRange\n",
      "│  │  │  └─ UnitRange\n",
      "│  │  └─ StepRange\n",
      "│  └─ StepRangeLen\n",
      "├─ BitArray{1}\n",
      "├─ ExceptionStack\n",
      "├─ LinearIndices{1, R} where R<:Tuple{AbstractUnitRange{Int64}}\n",
      "├─ MethodList\n",
      "├─ DenseVector\n",
      "│  ├─ CodeUnits\n",
      "│  ├─ Const{T, 1} where T\n",
      "│  ├─ UnsafeView\n",
      "│  ├─ SharedVector\n",
      "│  └─ Vector\n",
      "├─ LinearIndices{1, R} where R<:Tuple{AbstractUnitRange{Int64}}\n",
      "├─ PermutedDimsArray{T, 1} where T\n",
      "├─ AbstractSparseVector\n",
      "│  └─ SparseVector\n",
      "├─ SubArray{T, 1} where T\n",
      "├─ GenericArray{T, 1} where T\n",
      "└─ Message\n"
     ]
    }
   ],
   "source": [
    "using AbstractTrees\n",
    "AbstractTrees.children(t::Type) = subtypes(t)\n",
    "print_tree(AbstractVector)"
   ]
  },
  {
   "cell_type": "code",
   "execution_count": 3,
   "id": "10b1fa7c-565f-45dd-93d8-9b14620f6544",
   "metadata": {},
   "outputs": [
    {
     "data": {
      "text/html": [
       "# 2 methods for generic function <b>subtypes</b>:<ul><li> subtypes(m::<b>Module</b>, x::<b>Type</b>) in InteractiveUtils at <a href=\"file://C:/workdir/usr/share/julia/stdlib/v1.8/InteractiveUtils/src/InteractiveUtils.jl\" target=\"_blank\">D:\\Julia-1.8.4\\share\\julia\\stdlib\\v1.8\\InteractiveUtils\\src\\InteractiveUtils.jl:255</a></li> <li> subtypes(x::<b>Type</b>) in InteractiveUtils at <a href=\"file://C:/workdir/usr/share/julia/stdlib/v1.8/InteractiveUtils/src/InteractiveUtils.jl\" target=\"_blank\">D:\\Julia-1.8.4\\share\\julia\\stdlib\\v1.8\\InteractiveUtils\\src\\InteractiveUtils.jl:274</a></li> </ul>"
      ],
      "text/plain": [
       "# 2 methods for generic function \"subtypes\":\n",
       "[1] subtypes(m::Module, x::Type) in InteractiveUtils at D:\\Julia-1.8.4\\share\\julia\\stdlib\\v1.8\\InteractiveUtils\\src\\InteractiveUtils.jl:255\n",
       "[2] subtypes(x::Type) in InteractiveUtils at D:\\Julia-1.8.4\\share\\julia\\stdlib\\v1.8\\InteractiveUtils\\src\\InteractiveUtils.jl:274"
      ]
     },
     "execution_count": 3,
     "metadata": {},
     "output_type": "execute_result"
    }
   ],
   "source": [
    "methods(subtypes)"
   ]
  },
  {
   "cell_type": "code",
   "execution_count": null,
   "id": "f09f5840-273e-42f9-ac5a-1233d676f07a",
   "metadata": {},
   "outputs": [],
   "source": []
  }
 ],
 "metadata": {
  "kernelspec": {
   "display_name": "Julia 1.8.4",
   "language": "julia",
   "name": "julia-1.8"
  },
  "language_info": {
   "file_extension": ".jl",
   "mimetype": "application/julia",
   "name": "julia",
   "version": "1.8.4"
  }
 },
 "nbformat": 4,
 "nbformat_minor": 5
}
