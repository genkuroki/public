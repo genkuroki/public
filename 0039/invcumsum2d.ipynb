{
 "cells": [
  {
   "cell_type": "code",
   "execution_count": 1,
   "id": "5664e2b1-48e6-46d6-bd22-c248f6b74460",
   "metadata": {},
   "outputs": [
    {
     "data": {
      "text/plain": [
       "invcumsum2d_view! (generic function with 1 method)"
      ]
     },
     "execution_count": 1,
     "metadata": {},
     "output_type": "execute_result"
    }
   ],
   "source": [
    "function invcumsum2d!(B::AbstractMatrix, C::AbstractMatrix)\n",
    "    O = zero(eltype(C))\n",
    "    for k in keys(C)\n",
    "        B[k[1], k[2]] = (\n",
    "            C[k[1], k[2]]\n",
    "            - get(C, (k[1]-1, k[2]), O)\n",
    "            - get(C, (k[1], k[2]-1), O)\n",
    "            + get(C, (k[1]-1, k[2]-1), O)\n",
    "        )\n",
    "    end\n",
    "    B\n",
    "end\n",
    "\n",
    "invcumsum2d(C::AbstractMatrix) = invcumsum2d!(similar(C), C)\n",
    "\n",
    "function invcumsum!(B::AbstractArray{T,N}, C::AbstractArray{T,N}; dims::Integer) where {T,N}\n",
    "    r = axes(C)\n",
    "    r0 = ntuple(i -> i == dims ? UnitRange(1, last(r[i]) - 1) : UnitRange(r[i]), N)\n",
    "    r1 = ntuple(i -> i == dims ? UnitRange(2, last(r[i])) : UnitRange(r[i]), N)\n",
    "    r2 = ntuple(i -> i == dims ? UnitRange(1, 1) : UnitRange(r[i]), N)\n",
    "\n",
    "    view(B, r2...) .= view(C, r2...)\n",
    "    view(B, r1...) .= view(C, r1...) .- view(C, r0...)\n",
    "    B\n",
    "end\n",
    "\n",
    "function invcumsum2d_view!(B::AbstractMatrix, C::AbstractMatrix)\n",
    "    I, J = axes(C)\n",
    "    view(B, I[begin], J[begin]) .= view(C, I[begin], J[begin])\n",
    "    view(B, I[begin+1:end], J[begin]) .= (\n",
    "        view(C, I[begin+1:end], J[begin])\n",
    "        .- view(C, I[begin:end-1], J[begin])\n",
    "    )\n",
    "    view(B, I[begin], J[begin+1:end]) .= (\n",
    "        view(C, I[begin], J[begin+1:end])\n",
    "        .- view(C, I[begin], J[begin:end-1])\n",
    "    )\n",
    "    view(B, I[begin+1:end], J[begin+1:end]) .= (\n",
    "        view(C, I[begin+1:end], J[begin+1:end])\n",
    "        .- view(C, I[begin:end-1], J[begin+1:end])\n",
    "        .- view(C, I[begin+1:end], J[begin:end-1])\n",
    "        .+ view(C, I[begin:end-1], J[begin:end-1])\n",
    "    )\n",
    "    B\n",
    "end"
   ]
  },
  {
   "cell_type": "code",
   "execution_count": 2,
   "id": "5acd7d30-84c9-43e8-9c0a-63a1afbd0c7c",
   "metadata": {},
   "outputs": [
    {
     "name": "stdout",
     "output_type": "stream",
     "text": [
      "A1 = invcumsum2d!(B0, C): 0.040601 seconds (70.67 k allocations: 3.610 MiB, 91.46% compilation time)\n",
      "A2 = invcumsum!(B2, invcumsum!(B1, C; dims = 2), dims = 1): 0.422290 seconds (2.44 M allocations: 112.591 MiB, 6.55% gc time, 98.82% compilation time)\n",
      "A3 = invcumsum2d_view!(B3, C): 0.713199 seconds (3.06 M allocations: 137.786 MiB, 27.16% gc time, 99.42% compilation time)\n",
      "A4 = invcumsum2d(C): 0.006460 seconds (974 allocations: 8.050 MiB, 55.60% compilation time)\n",
      "\n",
      "A1 = invcumsum2d!(B0, C): 0.002000 seconds\n",
      "A2 = invcumsum!(B2, invcumsum!(B1, C; dims = 2), dims = 1): 0.003262 seconds\n",
      "A3 = invcumsum2d_view!(B3, C): 0.002136 seconds\n",
      "A4 = invcumsum2d(C): 0.003603 seconds (2 allocations: 8.000 MiB)\n",
      "\n",
      "A1 = invcumsum2d!(B0, C): 0.001917 seconds\n",
      "A2 = invcumsum!(B2, invcumsum!(B1, C; dims = 2), dims = 1): 0.003122 seconds\n",
      "A3 = invcumsum2d_view!(B3, C): 0.002040 seconds\n",
      "A4 = invcumsum2d(C): 0.017222 seconds (2 allocations: 8.000 MiB, 83.66% gc time)\n"
     ]
    },
    {
     "data": {
      "text/plain": [
       "true"
      ]
     },
     "execution_count": 2,
     "metadata": {},
     "output_type": "execute_result"
    }
   ],
   "source": [
    "n = 2^10\n",
    "A = randn(n, n)\n",
    "B0 = similar(A)\n",
    "B1 = similar(A)\n",
    "B2 = similar(A)\n",
    "B3 = similar(A)\n",
    "C = cumsum(cumsum(A, dims=2), dims=1)\n",
    "@showtime A1 = invcumsum2d!(B0, C)\n",
    "@showtime A2 = invcumsum!(B2, invcumsum!(B1, C; dims=2), dims=1)\n",
    "@showtime A3 = invcumsum2d_view!(B3, C)\n",
    "@showtime A4 = invcumsum2d(C)\n",
    "println()\n",
    "@showtime A1 = invcumsum2d!(B0, C)\n",
    "@showtime A2 = invcumsum!(B2, invcumsum!(B1, C; dims=2), dims=1)\n",
    "@showtime A3 = invcumsum2d_view!(B3, C)\n",
    "@showtime A4 = invcumsum2d(C)\n",
    "println()\n",
    "@showtime A1 = invcumsum2d!(B0, C)\n",
    "@showtime A2 = invcumsum!(B2, invcumsum!(B1, C; dims=2), dims=1)\n",
    "@showtime A3 = invcumsum2d_view!(B3, C)\n",
    "@showtime A4 = invcumsum2d(C)\n",
    "A1 == A4 ≈ A2 ≈ A3 ≈ A"
   ]
  },
  {
   "cell_type": "code",
   "execution_count": null,
   "id": "10ea51b5-b513-4bd3-b417-8539c615e223",
   "metadata": {},
   "outputs": [],
   "source": []
  }
 ],
 "metadata": {
  "kernelspec": {
   "display_name": "Julia 1.8.4",
   "language": "julia",
   "name": "julia-1.8"
  },
  "language_info": {
   "file_extension": ".jl",
   "mimetype": "application/julia",
   "name": "julia",
   "version": "1.8.4"
  }
 },
 "nbformat": 4,
 "nbformat_minor": 5
}
