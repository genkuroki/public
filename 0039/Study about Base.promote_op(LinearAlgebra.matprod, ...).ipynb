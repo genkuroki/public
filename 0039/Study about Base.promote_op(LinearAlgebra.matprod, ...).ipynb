{
 "cells": [
  {
   "cell_type": "code",
   "execution_count": 1,
   "id": "609fa1ab-7a7e-4753-9835-d583430aa231",
   "metadata": {},
   "outputs": [],
   "source": [
    "using LinearAlgebra\n",
    "using Polynomials\n",
    "using SparseArrays"
   ]
  },
  {
   "cell_type": "code",
   "execution_count": 2,
   "id": "f183dff7-4561-4669-9a9b-dfe87a915b22",
   "metadata": {},
   "outputs": [
    {
     "data": {
      "text/html": [
       "h<sup>2</sup>"
      ],
      "text/latex": [
       "$h^{2}$"
      ],
      "text/plain": [
       "Polynomial(h^2)"
      ]
     },
     "execution_count": 2,
     "metadata": {},
     "output_type": "execute_result"
    }
   ],
   "source": [
    "p = Polynomial([0//1,0//1,1//1], :h)"
   ]
  },
  {
   "cell_type": "code",
   "execution_count": 3,
   "id": "6c9a56a6-37ea-4a28-8f3f-4092a091eb92",
   "metadata": {},
   "outputs": [
    {
     "data": {
      "text/plain": [
       "Polynomial{Rational{Int64}, :h}"
      ]
     },
     "execution_count": 3,
     "metadata": {},
     "output_type": "execute_result"
    }
   ],
   "source": [
    "typeof(p)"
   ]
  },
  {
   "cell_type": "code",
   "execution_count": 4,
   "id": "002a3e3a-bf00-4ff6-984d-f39a0c70527a",
   "metadata": {},
   "outputs": [
    {
     "data": {
      "text/html": [
       "h<sup>2</sup>"
      ],
      "text/latex": [
       "$h^{2}$"
      ],
      "text/plain": [
       "Polynomial(h^2)"
      ]
     },
     "execution_count": 4,
     "metadata": {},
     "output_type": "execute_result"
    }
   ],
   "source": [
    "p = Polynomial(Rational[0,0,1], :h)"
   ]
  },
  {
   "cell_type": "code",
   "execution_count": 5,
   "id": "6e9989eb-e3a8-4f74-9865-4c1a8a217c43",
   "metadata": {},
   "outputs": [
    {
     "data": {
      "text/plain": [
       "1×1 SparseMatrixCSC{Polynomial{Rational, :h}, Int64} with 1 stored entry:\n",
       " Polynomial(h^2)"
      ]
     },
     "execution_count": 5,
     "metadata": {},
     "output_type": "execute_result"
    }
   ],
   "source": [
    "a = sparse([p;;])"
   ]
  },
  {
   "cell_type": "code",
   "execution_count": 6,
   "id": "745a71fc-b0cb-4837-9c61-e0604ee2edab",
   "metadata": {},
   "outputs": [
    {
     "data": {
      "text/plain": [
       "Polynomial{Rational, :h}"
      ]
     },
     "execution_count": 6,
     "metadata": {},
     "output_type": "execute_result"
    }
   ],
   "source": [
    "promote_type(eltype(a), eltype(-a))"
   ]
  },
  {
   "cell_type": "code",
   "execution_count": 7,
   "id": "5e4382d0-4e10-4539-a06d-9286af15c109",
   "metadata": {},
   "outputs": [
    {
     "data": {
      "text/plain": [
       "1×1 SparseMatrixCSC{Polynomial{Rational, :h}, Int64} with 1 stored entry:\n",
       " Polynomial(h^4)"
      ]
     },
     "execution_count": 7,
     "metadata": {},
     "output_type": "execute_result"
    }
   ],
   "source": [
    "a*a"
   ]
  },
  {
   "cell_type": "code",
   "execution_count": 8,
   "id": "ea6c4a9b-4865-4337-824e-7ebcc85ebcdf",
   "metadata": {},
   "outputs": [
    {
     "data": {
      "text/plain": [
       "1×1 SparseMatrixCSC{Polynomial{Rational{Int64}, :h}, Int64} with 1 stored entry:\n",
       " Polynomial(-h^2)"
      ]
     },
     "execution_count": 8,
     "metadata": {},
     "output_type": "execute_result"
    }
   ],
   "source": [
    "-a"
   ]
  },
  {
   "cell_type": "code",
   "execution_count": 9,
   "id": "6c2b0ea6-6ad5-4272-819d-3fc72d120c33",
   "metadata": {},
   "outputs": [
    {
     "data": {
      "text/plain": [
       "1×1 SparseMatrixCSC{Any, Int64} with 1 stored entry:\n",
       " Polynomial(-h^4)"
      ]
     },
     "execution_count": 9,
     "metadata": {},
     "output_type": "execute_result"
    }
   ],
   "source": [
    "(-a)*a"
   ]
  },
  {
   "cell_type": "code",
   "execution_count": 10,
   "id": "aa11095c-a1cf-48ff-98f7-b0f28c0ac789",
   "metadata": {},
   "outputs": [
    {
     "data": {
      "text/html": [
       "*(A::<b>Union{SparseArrays.AbstractSparseMatrixCSC{Tv, Ti}, SubArray{Tv, 2, <:SparseArrays.AbstractSparseMatrixCSC{Tv, Ti}, Tuple{Base.Slice{Base.OneTo{Int64}}, I}} where I<:AbstractUnitRange} where {Tv, Ti}</b>, B::<b>Union{SparseArrays.AbstractSparseMatrixCSC{Tv, Ti}, SubArray{Tv, 2, <:SparseArrays.AbstractSparseMatrixCSC{Tv, Ti}, Tuple{Base.Slice{Base.OneTo{Int64}}, I}} where I<:AbstractUnitRange} where {Tv, Ti}</b>) in SparseArrays at <a href=\"file://C:/buildbot/worker/package_win64/build/usr/share/julia/stdlib/v1.8/SparseArrays/src/linalg.jl\" target=\"_blank\">D:\\Julia-1.8.2\\share\\julia\\stdlib\\v1.8\\SparseArrays\\src\\linalg.jl:166</a>"
      ],
      "text/plain": [
       "*(A::Union{SparseArrays.AbstractSparseMatrixCSC{Tv, Ti}, SubArray{Tv, 2, <:SparseArrays.AbstractSparseMatrixCSC{Tv, Ti}, Tuple{Base.Slice{Base.OneTo{Int64}}, I}} where I<:AbstractUnitRange} where {Tv, Ti}, B::Union{SparseArrays.AbstractSparseMatrixCSC{Tv, Ti}, SubArray{Tv, 2, <:SparseArrays.AbstractSparseMatrixCSC{Tv, Ti}, Tuple{Base.Slice{Base.OneTo{Int64}}, I}} where I<:AbstractUnitRange} where {Tv, Ti}) in SparseArrays at D:\\Julia-1.8.2\\share\\julia\\stdlib\\v1.8\\SparseArrays\\src\\linalg.jl:166"
      ]
     },
     "execution_count": 10,
     "metadata": {},
     "output_type": "execute_result"
    }
   ],
   "source": [
    "@which (-a)*a"
   ]
  },
  {
   "cell_type": "code",
   "execution_count": 11,
   "id": "2229ede4-da2d-4f0f-b61e-d70f62c87c67",
   "metadata": {},
   "outputs": [
    {
     "data": {
      "text/html": [
       "spmatmul(A::<b>Union{SparseArrays.AbstractSparseMatrixCSC{TvA, TiA}, SubArray{TvA, 2, <:SparseArrays.AbstractSparseMatrixCSC{TvA, TiA}, Tuple{Base.Slice{Base.OneTo{Int64}}, I}} where I<:AbstractUnitRange, LowerTriangular{TvA, <:Union{SparseArrays.AbstractSparseMatrixCSC{TvA, TiA}, SubArray{TvA, 2, <:SparseArrays.AbstractSparseMatrixCSC{TvA, TiA}, Tuple{Base.Slice{Base.OneTo{Int64}}, I}} where I<:AbstractUnitRange}}, UpperTriangular{TvA, <:Union{SparseArrays.AbstractSparseMatrixCSC{TvA, TiA}, SubArray{TvA, 2, <:SparseArrays.AbstractSparseMatrixCSC{TvA, TiA}, Tuple{Base.Slice{Base.OneTo{Int64}}, I}} where I<:AbstractUnitRange}}}</b>, B::<b>Union{SparseArrays.AbstractSparseMatrixCSC{TvB, TiB}, SparseVector{TvB, TiB}, SubArray{TvB, 2, <:SparseArrays.AbstractSparseMatrixCSC{TvB, TiB}, Tuple{Base.Slice{Base.OneTo{Int64}}, I}} where I<:AbstractUnitRange, SubArray{TvB, 1, <:SparseArrays.AbstractSparseMatrixCSC{TvB, TiB}, Tuple{Base.Slice{Base.OneTo{Int64}}, Int64}, false}, SubArray{TvB, 1, <:AbstractSparseVector{TvB, TiB}, Tuple{Base.Slice{Base.OneTo{Int64}}}, false}, SubArray{TvB, <:Any, <:AbstractSparseArray{TvB, TiB}}, LowerTriangular{TvB, <:Union{SparseArrays.AbstractSparseMatrixCSC{TvB, TiB}, SubArray{TvB, 2, <:SparseArrays.AbstractSparseMatrixCSC{TvB, TiB}, Tuple{Base.Slice{Base.OneTo{Int64}}, I}} where I<:AbstractUnitRange}}, UpperTriangular{TvB, <:Union{SparseArrays.AbstractSparseMatrixCSC{TvB, TiB}, SubArray{TvB, 2, <:SparseArrays.AbstractSparseMatrixCSC{TvB, TiB}, Tuple{Base.Slice{Base.OneTo{Int64}}, I}} where I<:AbstractUnitRange}}}</b>)<i> where {TvA, TiA, TvB, TiB}</i> in SparseArrays at <a href=\"file://C:/buildbot/worker/package_win64/build/usr/share/julia/stdlib/v1.8/SparseArrays/src/linalg.jl\" target=\"_blank\">D:\\Julia-1.8.2\\share\\julia\\stdlib\\v1.8\\SparseArrays\\src\\linalg.jl:185</a>"
      ],
      "text/plain": [
       "spmatmul(A::Union{SparseArrays.AbstractSparseMatrixCSC{TvA, TiA}, SubArray{TvA, 2, <:SparseArrays.AbstractSparseMatrixCSC{TvA, TiA}, Tuple{Base.Slice{Base.OneTo{Int64}}, I}} where I<:AbstractUnitRange, LowerTriangular{TvA, <:Union{SparseArrays.AbstractSparseMatrixCSC{TvA, TiA}, SubArray{TvA, 2, <:SparseArrays.AbstractSparseMatrixCSC{TvA, TiA}, Tuple{Base.Slice{Base.OneTo{Int64}}, I}} where I<:AbstractUnitRange}}, UpperTriangular{TvA, <:Union{SparseArrays.AbstractSparseMatrixCSC{TvA, TiA}, SubArray{TvA, 2, <:SparseArrays.AbstractSparseMatrixCSC{TvA, TiA}, Tuple{Base.Slice{Base.OneTo{Int64}}, I}} where I<:AbstractUnitRange}}}, B::Union{SparseArrays.AbstractSparseMatrixCSC{TvB, TiB}, SparseVector{TvB, TiB}, SubArray{TvB, 2, <:SparseArrays.AbstractSparseMatrixCSC{TvB, TiB}, Tuple{Base.Slice{Base.OneTo{Int64}}, I}} where I<:AbstractUnitRange, SubArray{TvB, 1, <:SparseArrays.AbstractSparseMatrixCSC{TvB, TiB}, Tuple{Base.Slice{Base.OneTo{Int64}}, Int64}, false}, SubArray{TvB, 1, <:AbstractSparseVector{TvB, TiB}, Tuple{Base.Slice{Base.OneTo{Int64}}}, false}, SubArray{TvB, <:Any, <:AbstractSparseArray{TvB, TiB}}, LowerTriangular{TvB, <:Union{SparseArrays.AbstractSparseMatrixCSC{TvB, TiB}, SubArray{TvB, 2, <:SparseArrays.AbstractSparseMatrixCSC{TvB, TiB}, Tuple{Base.Slice{Base.OneTo{Int64}}, I}} where I<:AbstractUnitRange}}, UpperTriangular{TvB, <:Union{SparseArrays.AbstractSparseMatrixCSC{TvB, TiB}, SubArray{TvB, 2, <:SparseArrays.AbstractSparseMatrixCSC{TvB, TiB}, Tuple{Base.Slice{Base.OneTo{Int64}}, I}} where I<:AbstractUnitRange}}}) where {TvA, TiA, TvB, TiB} in SparseArrays at D:\\Julia-1.8.2\\share\\julia\\stdlib\\v1.8\\SparseArrays\\src\\linalg.jl:185"
      ]
     },
     "execution_count": 11,
     "metadata": {},
     "output_type": "execute_result"
    }
   ],
   "source": [
    "@which SparseArrays.spmatmul(-a, a)"
   ]
  },
  {
   "cell_type": "code",
   "execution_count": 12,
   "id": "c3f1545b-f90f-4abd-9c9f-840719db2892",
   "metadata": {},
   "outputs": [
    {
     "data": {
      "text/plain": [
       "Any"
      ]
     },
     "execution_count": 12,
     "metadata": {},
     "output_type": "execute_result"
    }
   ],
   "source": [
    "Base.promote_op(LinearAlgebra.matprod, Polynomial{Rational{Int}, :h}, Polynomial{Rational, :h})"
   ]
  },
  {
   "cell_type": "code",
   "execution_count": 13,
   "id": "4401280d-aa2a-4251-b13d-a6dbbeff8b2c",
   "metadata": {},
   "outputs": [
    {
     "data": {
      "text/html": [
       "promote_op(f, S::<b>Type...</b>) in Base at <a href=\"https://github.com/JuliaLang/julia/tree/36034abf26062acad4af9dcec7c4fc53b260dbb4/base/promotion.jl#L458\" target=\"_blank\">promotion.jl:458</a>"
      ],
      "text/plain": [
       "promote_op(f, S::Type...) in Base at promotion.jl:458"
      ]
     },
     "execution_count": 13,
     "metadata": {},
     "output_type": "execute_result"
    }
   ],
   "source": [
    "@which Base.promote_op(LinearAlgebra.matprod, Polynomial{Rational{Int}, :h}, Polynomial{Rational, :h})"
   ]
  },
  {
   "cell_type": "code",
   "execution_count": 14,
   "id": "e2c82a8f-7a64-46d9-a1b9-dd1410c1dfb2",
   "metadata": {},
   "outputs": [
    {
     "data": {
      "text/plain": [
       "Any"
      ]
     },
     "execution_count": 14,
     "metadata": {},
     "output_type": "execute_result"
    }
   ],
   "source": [
    "Base._return_type(LinearAlgebra.matprod, Tuple{Polynomial{Rational{Int}, :h}, Polynomial{Rational, :h}})"
   ]
  },
  {
   "cell_type": "code",
   "execution_count": 15,
   "id": "a9be3b9c-febd-4822-b26c-ee2fd402e99b",
   "metadata": {},
   "outputs": [
    {
     "data": {
      "text/html": [
       "return_type(f, t::<b>DataType</b>) in Core.Compiler at <a href=\"file://D:\\Julia-1.8.2\\share\\julia\\base\\compiler\\typeinfer.jl\" target=\"_blank\">compiler/typeinfer.jl:1019</a>"
      ],
      "text/plain": [
       "return_type(f, t::DataType) in Core.Compiler at compiler/typeinfer.jl:1019"
      ]
     },
     "execution_count": 15,
     "metadata": {},
     "output_type": "execute_result"
    }
   ],
   "source": [
    "@which Base._return_type(LinearAlgebra.matprod, Tuple{Polynomial{Rational{Int}, :h}, Polynomial{Rational, :h}})"
   ]
  },
  {
   "cell_type": "code",
   "execution_count": 16,
   "id": "15fb327b-311c-4042-ae0b-9207ebbbb659",
   "metadata": {},
   "outputs": [
    {
     "data": {
      "text/plain": [
       "Any"
      ]
     },
     "execution_count": 16,
     "metadata": {},
     "output_type": "execute_result"
    }
   ],
   "source": [
    "Core.Compiler.return_type(LinearAlgebra.matprod, Tuple{Polynomial{Rational{Int}, :h}, Polynomial{Rational, :h}})"
   ]
  },
  {
   "cell_type": "code",
   "execution_count": 17,
   "id": "6b6746f6-aa35-4530-8a32-ed62e278cdd2",
   "metadata": {},
   "outputs": [
    {
     "data": {
      "text/html": [
       "return_type(f, t::<b>DataType</b>) in Core.Compiler at <a href=\"file://D:\\Julia-1.8.2\\share\\julia\\base\\compiler\\typeinfer.jl\" target=\"_blank\">compiler/typeinfer.jl:1019</a>"
      ],
      "text/plain": [
       "return_type(f, t::DataType) in Core.Compiler at compiler/typeinfer.jl:1019"
      ]
     },
     "execution_count": 17,
     "metadata": {},
     "output_type": "execute_result"
    }
   ],
   "source": [
    "@which Core.Compiler.return_type(LinearAlgebra.matprod, Tuple{Polynomial{Rational{Int}, :h}, Polynomial{Rational, :h}})"
   ]
  },
  {
   "cell_type": "code",
   "execution_count": 18,
   "id": "156692ea-783d-4462-8732-70a118958dd8",
   "metadata": {},
   "outputs": [
    {
     "data": {
      "text/plain": [
       "my_return_type (generic function with 1 method)"
      ]
     },
     "execution_count": 18,
     "metadata": {},
     "output_type": "execute_result"
    }
   ],
   "source": [
    "@eval Core.Compiler function my_return_type(@nospecialize(f), t::DataType) # this method has a special tfunc\n",
    "    @show world = ccall(:jl_get_tls_world_age, UInt, ())\n",
    "    println()\n",
    "    @show args = Any[_return_type, NativeInterpreter(world), Tuple{Core.Typeof(f), t.parameters...}]\n",
    "    println()\n",
    "    return @show ccall(:jl_call_in_typeinf_world, Any, (Ptr{Ptr{Cvoid}}, Cint), args, length(args))\n",
    "end"
   ]
  },
  {
   "cell_type": "code",
   "execution_count": 19,
   "id": "cbde8463-0a09-45b4-8f32-d0f08aa65f41",
   "metadata": {},
   "outputs": [
    {
     "name": "stdout",
     "output_type": "stream",
     "text": [
      ":world = Expr(:call, :ccall, :(:jl_get_tls_world_age), :UInt, Expr(:tuple)) = 0x0000000000007edc\n",
      "\n",
      ":args = Expr(:ref, :Any, :_return_type, Expr(:call, :NativeInterpreter, :world), Expr(:curly, :Tuple, Expr(:call, Expr(:., :Core, :(:Typeof)), :f), Expr(:..., Expr(:., :t, :(:parameters))))) = Array{Any, (3,)}[\n",
      "  Core.Compiler.return_type,\n",
      "  Core.Compiler.NativeInterpreter(cache=Array{Core.Compiler.InferenceResult, (0,)}[], world=0x0000000000007edc, method_table=Core.Compiler.CachedMethodTable{Core.Compiler.InternalMethodTable}(cache=Core.Compiler.IdDict{Core.Compiler.MethodMatchKey, Union{Core.Compiler.Missing, Core.Compiler.MethodMatchResult}}(ht=Array{Any, (32,)}[#<null>, #<null>, #<null>, #<null>, #<null>, #<null>, #<null>, #<null>, #<null>, #<null>, #<null>, #<null>, #<null>, #<null>, #<null>, #<null>, #<null>, #<null>, #<null>, #<null>, #<null>, #<null>, #<null>, #<null>, #<null>, #<null>, #<null>, #<null>, #<null>, #<null>, #<null>, #<null>], count=0, ndel=0), table=Core.Compiler.InternalMethodTable(world=0x0000000000007edc)), inf_params=Core.Compiler.InferenceParams(ipo_constant_propagation=true, aggressive_constant_propagation=false, unoptimize_throw_blocks=true, MAX_METHODS=3, MAX_UNION_SPLITTING=4, MAX_APPLY_UNION_ENUM=8, TUPLE_COMPLEXITY_LIMIT_DEPTH=3, MAX_TUPLE_SPLAT=32), opt_params=Core.Compiler.OptimizationParams(inlining=true, inline_cost_threshold=100, inline_nonleaf_penalty=1000, inline_tupleret_bonus=250, inline_error_path_cost=20, trust_inference=false, MAX_METHODS=3, MAX_TUPLE_SPLAT=32, MAX_UNION_SPLITTING=4)),\n",
      "  Tuple{typeof(LinearAlgebra.matprod), Polynomials.Polynomial{Base.Rational{Int64}, :h}, Polynomials.Polynomial{Base.Rational{T} where T<:Integer, :h}}]\n",
      "\n",
      "Expr(:call, :ccall, :(:jl_call_in_typeinf_world), :Any, Expr(:tuple, Expr(:curly, :Ptr, Expr(:curly, :Ptr, :Cvoid)), :Cint), :args, Expr(:call, :length, :args)) = Any\n"
     ]
    }
   ],
   "source": [
    "Core.Compiler.my_return_type(LinearAlgebra.matprod, Tuple{Polynomial{Rational{Int}, :h}, Polynomial{Rational, :h}})"
   ]
  },
  {
   "cell_type": "code",
   "execution_count": 20,
   "id": "82e3970a-3b08-44be-8b45-65f18d9f865e",
   "metadata": {},
   "outputs": [
    {
     "data": {
      "text/plain": [
       "Any"
      ]
     },
     "execution_count": 20,
     "metadata": {},
     "output_type": "execute_result"
    }
   ],
   "source": [
    "Base.promote_op(LinearAlgebra.matprod, Polynomial{Rational{Int}, :h}, Polynomial{Rational, :h})"
   ]
  },
  {
   "cell_type": "code",
   "execution_count": null,
   "id": "6deddd7f-c191-494c-ac8c-1c0afbc8d995",
   "metadata": {},
   "outputs": [],
   "source": []
  }
 ],
 "metadata": {
  "jupytext": {
   "formats": "ipynb,jl:hydrogen"
  },
  "kernelspec": {
   "display_name": "Julia 1.8.2",
   "language": "julia",
   "name": "julia-1.8"
  },
  "language_info": {
   "file_extension": ".jl",
   "mimetype": "application/julia",
   "name": "julia",
   "version": "1.8.2"
  }
 },
 "nbformat": 4,
 "nbformat_minor": 5
}
