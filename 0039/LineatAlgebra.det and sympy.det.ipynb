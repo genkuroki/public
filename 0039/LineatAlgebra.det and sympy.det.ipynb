{
 "cells": [
  {
   "cell_type": "code",
   "execution_count": 1,
   "id": "70aee052-2da7-4bb8-8fbf-31f22d9e23aa",
   "metadata": {},
   "outputs": [],
   "source": [
    "using SymPy\n",
    "using LinearAlgebra"
   ]
  },
  {
   "cell_type": "code",
   "execution_count": 2,
   "id": "9ae2c7b1-dbe3-4c73-8490-1627ef2f2897",
   "metadata": {},
   "outputs": [
    {
     "data": {
      "text/plain": [
       "(x,)"
      ]
     },
     "execution_count": 2,
     "metadata": {},
     "output_type": "execute_result"
    }
   ],
   "source": [
    "@vars x"
   ]
  },
  {
   "cell_type": "code",
   "execution_count": 3,
   "id": "29cc52ca-2103-4b27-9561-676891bebffd",
   "metadata": {},
   "outputs": [
    {
     "data": {
      "text/latex": [
       "$\\left[ \\begin{array}{rrrrr}2 x&0&0&0&0\\\\0&2 x&0&0&0\\\\0&0&2 x&0&0\\\\0&0&0&2 x&0\\\\0&0&0&0&2 x\\end{array}\\right]$\n"
      ],
      "text/plain": [
       "5×5 Diagonal{Sym, Vector{Sym}}:\n",
       " 2*x    ⋅    ⋅    ⋅    ⋅\n",
       "   ⋅  2*x    ⋅    ⋅    ⋅\n",
       "   ⋅    ⋅  2*x    ⋅    ⋅\n",
       "   ⋅    ⋅    ⋅  2*x    ⋅\n",
       "   ⋅    ⋅    ⋅    ⋅  2*x"
      ]
     },
     "execution_count": 3,
     "metadata": {},
     "output_type": "execute_result"
    }
   ],
   "source": [
    "A = Diagonal(fill(2x, 5))"
   ]
  },
  {
   "cell_type": "code",
   "execution_count": 4,
   "id": "3dd6664b-d587-45d7-8c4c-738beb6ceb04",
   "metadata": {},
   "outputs": [
    {
     "ename": "LoadError",
     "evalue": "PyError ($(Expr(:escape, :(ccall(#= D:\\.julia\\packages\\PyCall\\twYvK\\src\\pyfncall.jl:43 =# @pysym(:PyObject_Call), PyPtr, (PyPtr, PyPtr, PyPtr), o, pyargsptr, kw))))) <class 'TypeError'>\nTypeError('Input to Determinant, 2*x, not a matrix')\n  File \"D:\\.julia\\conda\\3\\lib\\site-packages\\sympy\\matrices\\expressions\\determinant.py\", line 56, in det\n    return Determinant(matexpr).doit()\n  File \"D:\\.julia\\conda\\3\\lib\\site-packages\\sympy\\matrices\\expressions\\determinant.py\", line 25, in __new__\n    raise TypeError(\"Input to Determinant, %s, not a matrix\" % str(mat))\n",
     "output_type": "error",
     "traceback": [
      "PyError ($(Expr(:escape, :(ccall(#= D:\\.julia\\packages\\PyCall\\twYvK\\src\\pyfncall.jl:43 =# @pysym(:PyObject_Call), PyPtr, (PyPtr, PyPtr, PyPtr), o, pyargsptr, kw))))) <class 'TypeError'>\nTypeError('Input to Determinant, 2*x, not a matrix')\n  File \"D:\\.julia\\conda\\3\\lib\\site-packages\\sympy\\matrices\\expressions\\determinant.py\", line 56, in det\n    return Determinant(matexpr).doit()\n  File \"D:\\.julia\\conda\\3\\lib\\site-packages\\sympy\\matrices\\expressions\\determinant.py\", line 25, in __new__\n    raise TypeError(\"Input to Determinant, %s, not a matrix\" % str(mat))\n",
      "",
      "Stacktrace:",
      "  [1] pyerr_check",
      "    @ D:\\.julia\\packages\\PyCall\\twYvK\\src\\exception.jl:75 [inlined]",
      "  [2] pyerr_check",
      "    @ D:\\.julia\\packages\\PyCall\\twYvK\\src\\exception.jl:79 [inlined]",
      "  [3] _handle_error(msg::String)",
      "    @ PyCall D:\\.julia\\packages\\PyCall\\twYvK\\src\\exception.jl:96",
      "  [4] macro expansion",
      "    @ D:\\.julia\\packages\\PyCall\\twYvK\\src\\exception.jl:110 [inlined]",
      "  [5] #107",
      "    @ D:\\.julia\\packages\\PyCall\\twYvK\\src\\pyfncall.jl:43 [inlined]",
      "  [6] disable_sigint",
      "    @ .\\c.jl:473 [inlined]",
      "  [7] __pycall!",
      "    @ D:\\.julia\\packages\\PyCall\\twYvK\\src\\pyfncall.jl:42 [inlined]",
      "  [8] _pycall!(ret::PyCall.PyObject, o::PyCall.PyObject, args::Tuple{Sym}, nargs::Int64, kw::Ptr{Nothing})",
      "    @ PyCall D:\\.julia\\packages\\PyCall\\twYvK\\src\\pyfncall.jl:29",
      "  [9] _pycall!",
      "    @ D:\\.julia\\packages\\PyCall\\twYvK\\src\\pyfncall.jl:11 [inlined]",
      " [10] #_#114",
      "    @ D:\\.julia\\packages\\PyCall\\twYvK\\src\\pyfncall.jl:86 [inlined]",
      " [11] (::PyCall.PyObject)(args::Sym)",
      "    @ PyCall D:\\.julia\\packages\\PyCall\\twYvK\\src\\pyfncall.jl:86",
      " [12] det(::Sym; kwargs::Base.Pairs{Symbol, Union{}, Tuple{}, NamedTuple{(), Tuple{}}})",
      "    @ SymPy D:\\.julia\\packages\\SymPy\\7cg6m\\src\\importexport.jl:84",
      " [13] det",
      "    @ D:\\.julia\\packages\\SymPy\\7cg6m\\src\\importexport.jl:84 [inlined]",
      " [14] _mapreduce(f::typeof(det), op::typeof(Base.mul_prod), #unused#::IndexLinear, A::Vector{Sym})",
      "    @ Base .\\reduce.jl:435",
      " [15] _mapreduce_dim",
      "    @ .\\reducedim.jl:365 [inlined]",
      " [16] #mapreduce#800",
      "    @ .\\reducedim.jl:357 [inlined]",
      " [17] mapreduce",
      "    @ .\\reducedim.jl:357 [inlined]",
      " [18] #_prod#814",
      "    @ .\\reducedim.jl:999 [inlined]",
      " [19] _prod",
      "    @ .\\reducedim.jl:999 [inlined]",
      " [20] #prod#812",
      "    @ .\\reducedim.jl:995 [inlined]",
      " [21] prod",
      "    @ .\\reducedim.jl:995 [inlined]",
      " [22] det(D::Diagonal{Sym, Vector{Sym}})",
      "    @ LinearAlgebra D:\\Julia-1.9.0-beta2\\share\\julia\\stdlib\\v1.9\\LinearAlgebra\\src\\diagonal.jl:660",
      " [23] top-level scope",
      "    @ In[4]:1"
     ]
    }
   ],
   "source": [
    "det(A)"
   ]
  },
  {
   "cell_type": "code",
   "execution_count": 5,
   "id": "172f6f1b-5dbb-41ed-9780-f0014d83dfee",
   "metadata": {},
   "outputs": [
    {
     "data": {
      "text/latex": [
       "$32 x^{5}$"
      ],
      "text/plain": [
       "    5\n",
       "32*x "
      ]
     },
     "execution_count": 5,
     "metadata": {},
     "output_type": "execute_result"
    }
   ],
   "source": [
    "det(Matrix(A))"
   ]
  },
  {
   "cell_type": "code",
   "execution_count": 6,
   "id": "af8cbffc-6601-4da2-934f-b8f27c1f1810",
   "metadata": {},
   "outputs": [
    {
     "data": {
      "text/latex": [
       "$32 x^{5}$"
      ],
      "text/plain": [
       "    5\n",
       "32*x "
      ]
     },
     "execution_count": 6,
     "metadata": {},
     "output_type": "execute_result"
    }
   ],
   "source": [
    "sympy.det(A)"
   ]
  },
  {
   "cell_type": "code",
   "execution_count": 7,
   "id": "1c47d64d-f4e5-4753-9acb-a7b652342ba4",
   "metadata": {},
   "outputs": [
    {
     "data": {
      "text/html": [
       "det(D::<b>Diagonal</b>) in LinearAlgebra at <a href=\"file://C:/workdir/usr/share/julia/stdlib/v1.9/LinearAlgebra/src/diagonal.jl\" target=\"_blank\">D:\\Julia-1.9.0-beta2\\share\\julia\\stdlib\\v1.9\\LinearAlgebra\\src\\diagonal.jl:660</a>"
      ],
      "text/plain": [
       "det(\u001b[90mD\u001b[39m::\u001b[1mDiagonal\u001b[22m)\n",
       "\u001b[90m     @\u001b[39m \u001b[90mLinearAlgebra\u001b[39m \u001b[90mD:\\Julia-1.9.0-beta2\\share\\julia\\stdlib\\v1.9\\LinearAlgebra\\src\\\u001b[39m\u001b[90m\u001b[4mdiagonal.jl:660\u001b[24m\u001b[39m"
      ]
     },
     "execution_count": 7,
     "metadata": {},
     "output_type": "execute_result"
    }
   ],
   "source": [
    "@which det(A)"
   ]
  },
  {
   "cell_type": "code",
   "execution_count": 8,
   "id": "35749117-5916-423b-8fcc-d6122a668d28",
   "metadata": {},
   "outputs": [
    {
     "data": {
      "text/html": [
       "(o::<b>PyCall.PyObject</b>)(args...; <i>kwargs...</i>) in PyCall at <a href=\"file://D:/.julia/packages/PyCall/twYvK/src/pyfncall.jl\" target=\"_blank\">D:\\.julia\\packages\\PyCall\\twYvK\\src\\pyfncall.jl:86</a>"
      ],
      "text/plain": [
       "(o::PyCall.PyObject)(\u001b[90margs...\u001b[39m; kwargs...)\n",
       "\u001b[90m     @\u001b[39m \u001b[90mPyCall\u001b[39m \u001b[90mD:\\.julia\\packages\\PyCall\\twYvK\\src\\\u001b[39m\u001b[90m\u001b[4mpyfncall.jl:86\u001b[24m\u001b[39m"
      ]
     },
     "execution_count": 8,
     "metadata": {},
     "output_type": "execute_result"
    }
   ],
   "source": [
    "@which sympy.det(A)"
   ]
  },
  {
   "cell_type": "code",
   "execution_count": 9,
   "id": "26e57071-e89f-4d90-ad33-86d04a0f0d32",
   "metadata": {},
   "outputs": [
    {
     "data": {
      "text/plain": [
       "1"
      ]
     },
     "execution_count": 9,
     "metadata": {},
     "output_type": "execute_result"
    }
   ],
   "source": [
    "det(1)"
   ]
  },
  {
   "cell_type": "code",
   "execution_count": 10,
   "id": "fc8e5676-b588-4756-a747-caa9a1ad36a5",
   "metadata": {},
   "outputs": [
    {
     "ename": "LoadError",
     "evalue": "PyError ($(Expr(:escape, :(ccall(#= D:\\.julia\\packages\\PyCall\\twYvK\\src\\pyfncall.jl:43 =# @pysym(:PyObject_Call), PyPtr, (PyPtr, PyPtr, PyPtr), o, pyargsptr, kw))))) <class 'TypeError'>\nTypeError('Input to Determinant, x, not a matrix')\n  File \"D:\\.julia\\conda\\3\\lib\\site-packages\\sympy\\matrices\\expressions\\determinant.py\", line 56, in det\n    return Determinant(matexpr).doit()\n  File \"D:\\.julia\\conda\\3\\lib\\site-packages\\sympy\\matrices\\expressions\\determinant.py\", line 25, in __new__\n    raise TypeError(\"Input to Determinant, %s, not a matrix\" % str(mat))\n",
     "output_type": "error",
     "traceback": [
      "PyError ($(Expr(:escape, :(ccall(#= D:\\.julia\\packages\\PyCall\\twYvK\\src\\pyfncall.jl:43 =# @pysym(:PyObject_Call), PyPtr, (PyPtr, PyPtr, PyPtr), o, pyargsptr, kw))))) <class 'TypeError'>\nTypeError('Input to Determinant, x, not a matrix')\n  File \"D:\\.julia\\conda\\3\\lib\\site-packages\\sympy\\matrices\\expressions\\determinant.py\", line 56, in det\n    return Determinant(matexpr).doit()\n  File \"D:\\.julia\\conda\\3\\lib\\site-packages\\sympy\\matrices\\expressions\\determinant.py\", line 25, in __new__\n    raise TypeError(\"Input to Determinant, %s, not a matrix\" % str(mat))\n",
      "",
      "Stacktrace:",
      "  [1] pyerr_check",
      "    @ D:\\.julia\\packages\\PyCall\\twYvK\\src\\exception.jl:75 [inlined]",
      "  [2] pyerr_check",
      "    @ D:\\.julia\\packages\\PyCall\\twYvK\\src\\exception.jl:79 [inlined]",
      "  [3] _handle_error(msg::String)",
      "    @ PyCall D:\\.julia\\packages\\PyCall\\twYvK\\src\\exception.jl:96",
      "  [4] macro expansion",
      "    @ D:\\.julia\\packages\\PyCall\\twYvK\\src\\exception.jl:110 [inlined]",
      "  [5] #107",
      "    @ D:\\.julia\\packages\\PyCall\\twYvK\\src\\pyfncall.jl:43 [inlined]",
      "  [6] disable_sigint",
      "    @ .\\c.jl:473 [inlined]",
      "  [7] __pycall!",
      "    @ D:\\.julia\\packages\\PyCall\\twYvK\\src\\pyfncall.jl:42 [inlined]",
      "  [8] _pycall!(ret::PyCall.PyObject, o::PyCall.PyObject, args::Tuple{Sym}, nargs::Int64, kw::Ptr{Nothing})",
      "    @ PyCall D:\\.julia\\packages\\PyCall\\twYvK\\src\\pyfncall.jl:29",
      "  [9] _pycall!",
      "    @ D:\\.julia\\packages\\PyCall\\twYvK\\src\\pyfncall.jl:11 [inlined]",
      " [10] #_#114",
      "    @ D:\\.julia\\packages\\PyCall\\twYvK\\src\\pyfncall.jl:86 [inlined]",
      " [11] (::PyCall.PyObject)(args::Sym)",
      "    @ PyCall D:\\.julia\\packages\\PyCall\\twYvK\\src\\pyfncall.jl:86",
      " [12] det(::Sym; kwargs::Base.Pairs{Symbol, Union{}, Tuple{}, NamedTuple{(), Tuple{}}})",
      "    @ SymPy D:\\.julia\\packages\\SymPy\\7cg6m\\src\\importexport.jl:84",
      " [13] det(::Sym)",
      "    @ SymPy D:\\.julia\\packages\\SymPy\\7cg6m\\src\\importexport.jl:84",
      " [14] top-level scope",
      "    @ In[10]:1"
     ]
    }
   ],
   "source": [
    "det(x)"
   ]
  },
  {
   "cell_type": "code",
   "execution_count": 11,
   "id": "ff2695bb-0806-442b-9dc6-c9d562131f09",
   "metadata": {},
   "outputs": [
    {
     "data": {
      "text/html": [
       "# 31 methods for generic function <b>det</b> from \u001b[32mLinearAlgebra\u001b[39m:<ul><li> det(Q::<b>LinearAlgebra.QRCompactWYQ</b>) in LinearAlgebra at <a href=\"file://C:/workdir/usr/share/julia/stdlib/v1.9/LinearAlgebra/src/qr.jl\" target=\"_blank\">D:\\Julia-1.9.0-beta2\\share\\julia\\stdlib\\v1.9\\LinearAlgebra\\src\\qr.jl:1068</a></li> <li> det(Q::<b>LinearAlgebra.LQPackedQ</b>) in LinearAlgebra at <a href=\"file://C:/workdir/usr/share/julia/stdlib/v1.9/LinearAlgebra/src/lq.jl\" target=\"_blank\">D:\\Julia-1.9.0-beta2\\share\\julia\\stdlib\\v1.9\\LinearAlgebra\\src\\lq.jl:359</a></li> <li> det(A::<b>UnitUpperTriangular{T, S} where S<:AbstractMatrix{T}</b>)<i> where T</i> in LinearAlgebra at <a href=\"file://C:/workdir/usr/share/julia/stdlib/v1.9/LinearAlgebra/src/triangular.jl\" target=\"_blank\">D:\\Julia-1.9.0-beta2\\share\\julia\\stdlib\\v1.9\\LinearAlgebra\\src\\triangular.jl:2395</a></li> <li> det(F::<b>Hessenberg</b>) in LinearAlgebra at <a href=\"file://C:/workdir/usr/share/julia/stdlib/v1.9/LinearAlgebra/src/hessenberg.jl\" target=\"_blank\">D:\\Julia-1.9.0-beta2\\share\\julia\\stdlib\\v1.9\\LinearAlgebra\\src\\hessenberg.jl:692</a></li> <li> det(A::<b>UnitLowerTriangular{T, S} where S<:AbstractMatrix{T}</b>)<i> where T</i> in LinearAlgebra at <a href=\"file://C:/workdir/usr/share/julia/stdlib/v1.9/LinearAlgebra/src/triangular.jl\" target=\"_blank\">D:\\Julia-1.9.0-beta2\\share\\julia\\stdlib\\v1.9\\LinearAlgebra\\src\\triangular.jl:2396</a></li> <li> det(J::<b>UniformScaling{T}</b>)<i> where T</i> in LinearAlgebra at <a href=\"file://C:/workdir/usr/share/julia/stdlib/v1.9/LinearAlgebra/src/uniformscaling.jl\" target=\"_blank\">D:\\Julia-1.9.0-beta2\\share\\julia\\stdlib\\v1.9\\LinearAlgebra\\src\\uniformscaling.jl:239</a></li> <li> det(Q::<b>LinearAlgebra.QRPackedQ</b>) in LinearAlgebra at <a href=\"file://C:/workdir/usr/share/julia/stdlib/v1.9/LinearAlgebra/src/qr.jl\" target=\"_blank\">D:\\Julia-1.9.0-beta2\\share\\julia\\stdlib\\v1.9\\LinearAlgebra\\src\\qr.jl:1066</a></li> <li> det(A::<b>Symmetric{var\"#s970\", S} where {var\"#s970\"<:Real, S<:(AbstractMatrix{<:var\"#s970\"})}</b>) in LinearAlgebra at <a href=\"file://C:/workdir/usr/share/julia/stdlib/v1.9/LinearAlgebra/src/symmetric.jl\" target=\"_blank\">D:\\Julia-1.9.0-beta2\\share\\julia\\stdlib\\v1.9\\LinearAlgebra\\src\\symmetric.jl:622</a></li> <li> det(A::<b>Union{Hermitian{T, S}, Hermitian{Complex{T}, S}, Symmetric{T, S}} where {T<:Real, S}</b>) in LinearAlgebra at <a href=\"file://C:/workdir/usr/share/julia/stdlib/v1.9/LinearAlgebra/src/symmetric.jl\" target=\"_blank\">D:\\Julia-1.9.0-beta2\\share\\julia\\stdlib\\v1.9\\LinearAlgebra\\src\\symmetric.jl:621</a></li> <li> det(A::<b>Symmetric</b>) in LinearAlgebra at <a href=\"file://C:/workdir/usr/share/julia/stdlib/v1.9/LinearAlgebra/src/symmetric.jl\" target=\"_blank\">D:\\Julia-1.9.0-beta2\\share\\julia\\stdlib\\v1.9\\LinearAlgebra\\src\\symmetric.jl:623</a></li> <li> det(A::<b>SymTridiagonal</b>; <i>shift</i>) in LinearAlgebra at <a href=\"file://C:/workdir/usr/share/julia/stdlib/v1.9/LinearAlgebra/src/tridiag.jl\" target=\"_blank\">D:\\Julia-1.9.0-beta2\\share\\julia\\stdlib\\v1.9\\LinearAlgebra\\src\\tridiag.jl:458</a></li> <li> det(A::<b>UpperTriangular</b>) in LinearAlgebra at <a href=\"file://C:/workdir/usr/share/julia/stdlib/v1.9/LinearAlgebra/src/triangular.jl\" target=\"_blank\">D:\\Julia-1.9.0-beta2\\share\\julia\\stdlib\\v1.9\\LinearAlgebra\\src\\triangular.jl:2401</a></li> <li> det(A::<b>Tridiagonal</b>) in LinearAlgebra at <a href=\"file://C:/workdir/usr/share/julia/stdlib/v1.9/LinearAlgebra/src/tridiag.jl\" target=\"_blank\">D:\\Julia-1.9.0-beta2\\share\\julia\\stdlib\\v1.9\\LinearAlgebra\\src\\tridiag.jl:770</a></li> <li> det(ex::<b>SymPy.SymbolicObject</b>, args...; <i>kwargs...</i>) in SymPy at <a href=\"file://D:/.julia/packages/SymPy/7cg6m/src/importexport.jl\" target=\"_blank\">D:\\.julia\\packages\\SymPy\\7cg6m\\src\\importexport.jl:84</a></li> <li> det(x::<b>Number</b>) in LinearAlgebra at <a href=\"file://C:/workdir/usr/share/julia/stdlib/v1.9/LinearAlgebra/src/generic.jl\" target=\"_blank\">D:\\Julia-1.9.0-beta2\\share\\julia\\stdlib\\v1.9\\LinearAlgebra\\src\\generic.jl:1624</a></li> <li> det(A::<b>Matrix{T}</b>)<i> where T<:Sym</i> in SymPy at <a href=\"file://D:/.julia/packages/SymPy/7cg6m/src/matrix.jl\" target=\"_blank\">D:\\.julia\\packages\\SymPy\\7cg6m\\src\\matrix.jl:77</a></li> <li> det(L::<b>SparseArrays.CHOLMOD.Factor</b>) in SparseArrays.CHOLMOD at <a href=\"file://C:/workdir/usr/share/julia/stdlib/v1.9/SparseArrays/src/solvers/cholmod.jl\" target=\"_blank\">D:\\Julia-1.9.0-beta2\\share\\julia\\stdlib\\v1.9\\SparseArrays\\src\\solvers\\cholmod.jl:1629</a></li> <li> det(D::<b>Diagonal</b>) in LinearAlgebra at <a href=\"file://C:/workdir/usr/share/julia/stdlib/v1.9/LinearAlgebra/src/diagonal.jl\" target=\"_blank\">D:\\Julia-1.9.0-beta2\\share\\julia\\stdlib\\v1.9\\LinearAlgebra\\src\\diagonal.jl:660</a></li> <li> det(C::<b>Cholesky</b>) in LinearAlgebra at <a href=\"file://C:/workdir/usr/share/julia/stdlib/v1.9/LinearAlgebra/src/cholesky.jl\" target=\"_blank\">D:\\Julia-1.9.0-beta2\\share\\julia\\stdlib\\v1.9\\LinearAlgebra\\src\\cholesky.jl:659</a></li> <li> det(C::<b>CholeskyPivoted</b>) in LinearAlgebra at <a href=\"file://C:/workdir/usr/share/julia/stdlib/v1.9/LinearAlgebra/src/cholesky.jl\" target=\"_blank\">D:\\Julia-1.9.0-beta2\\share\\julia\\stdlib\\v1.9\\LinearAlgebra\\src\\cholesky.jl:675</a></li> <li> det(F::<b>LU{T, S} where S<:AbstractMatrix{T}</b>)<i> where T</i> in LinearAlgebra at <a href=\"file://C:/workdir/usr/share/julia/stdlib/v1.9/LinearAlgebra/src/lu.jl\" target=\"_blank\">D:\\Julia-1.9.0-beta2\\share\\julia\\stdlib\\v1.9\\LinearAlgebra\\src\\lu.jl:475</a></li> <li> det(F::<b>UpperHessenberg</b>; <i>shift</i>) in LinearAlgebra at <a href=\"file://C:/workdir/usr/share/julia/stdlib/v1.9/LinearAlgebra/src/hessenberg.jl\" target=\"_blank\">D:\\Julia-1.9.0-beta2\\share\\julia\\stdlib\\v1.9\\LinearAlgebra\\src\\hessenberg.jl:313</a></li> <li> det(A::<b>LowerTriangular</b>) in LinearAlgebra at <a href=\"file://C:/workdir/usr/share/julia/stdlib/v1.9/LinearAlgebra/src/triangular.jl\" target=\"_blank\">D:\\Julia-1.9.0-beta2\\share\\julia\\stdlib\\v1.9\\LinearAlgebra\\src\\triangular.jl:2402</a></li> <li> det(A::<b>AbstractMatrix{BigInt}</b>) in LinearAlgebra at <a href=\"file://C:/workdir/usr/share/julia/stdlib/v1.9/LinearAlgebra/src/generic.jl\" target=\"_blank\">D:\\Julia-1.9.0-beta2\\share\\julia\\stdlib\\v1.9\\LinearAlgebra\\src\\generic.jl:1627</a></li> <li> det(A::<b>AbstractMatrix{T}</b>)<i> where T</i> in LinearAlgebra at <a href=\"file://C:/workdir/usr/share/julia/stdlib/v1.9/LinearAlgebra/src/generic.jl\" target=\"_blank\">D:\\Julia-1.9.0-beta2\\share\\julia\\stdlib\\v1.9\\LinearAlgebra\\src\\generic.jl:1617</a></li> <li> det(A::<b>Eigen</b>) in LinearAlgebra at <a href=\"file://C:/workdir/usr/share/julia/stdlib/v1.9/LinearAlgebra/src/eigen.jl\" target=\"_blank\">D:\\Julia-1.9.0-beta2\\share\\julia\\stdlib\\v1.9\\LinearAlgebra\\src\\eigen.jl:437</a></li> <li> det(lu::<b>SparseArrays.UMFPACK.UmfpackLU{Float64, Int32}</b>) in SparseArrays.UMFPACK at <a href=\"file://C:/workdir/usr/share/julia/stdlib/v1.9/SparseArrays/src/solvers/umfpack.jl\" target=\"_blank\">D:\\Julia-1.9.0-beta2\\share\\julia\\stdlib\\v1.9\\SparseArrays\\src\\solvers\\umfpack.jl:696</a></li> <li> det(lu::<b>SparseArrays.UMFPACK.UmfpackLU{Float64, Int64}</b>) in SparseArrays.UMFPACK at <a href=\"file://C:/workdir/usr/share/julia/stdlib/v1.9/SparseArrays/src/solvers/umfpack.jl\" target=\"_blank\">D:\\Julia-1.9.0-beta2\\share\\julia\\stdlib\\v1.9\\SparseArrays\\src\\solvers\\umfpack.jl:696</a></li> <li> det(lu::<b>SparseArrays.UMFPACK.UmfpackLU{ComplexF64, Int32}</b>) in SparseArrays.UMFPACK at <a href=\"file://C:/workdir/usr/share/julia/stdlib/v1.9/SparseArrays/src/solvers/umfpack.jl\" target=\"_blank\">D:\\Julia-1.9.0-beta2\\share\\julia\\stdlib\\v1.9\\SparseArrays\\src\\solvers\\umfpack.jl:702</a></li> <li> det(lu::<b>SparseArrays.UMFPACK.UmfpackLU{ComplexF64, Int64}</b>) in SparseArrays.UMFPACK at <a href=\"file://C:/workdir/usr/share/julia/stdlib/v1.9/SparseArrays/src/solvers/umfpack.jl\" target=\"_blank\">D:\\Julia-1.9.0-beta2\\share\\julia\\stdlib\\v1.9\\SparseArrays\\src\\solvers\\umfpack.jl:702</a></li> <li> det(F::<b>Factorization</b>) in LinearAlgebra at <a href=\"file://C:/workdir/usr/share/julia/stdlib/v1.9/LinearAlgebra/src/factorization.jl\" target=\"_blank\">D:\\Julia-1.9.0-beta2\\share\\julia\\stdlib\\v1.9\\LinearAlgebra\\src\\factorization.jl:51</a></li> </ul>"
      ],
      "text/plain": [
       "# 31 methods for generic function \"det\" from \u001b[32mLinearAlgebra\u001b[39m:\n",
       "  [1] det(\u001b[90mQ\u001b[39m::\u001b[1mLinearAlgebra.QRCompactWYQ\u001b[22m)\n",
       "\u001b[90m     @\u001b[39m \u001b[90mD:\\Julia-1.9.0-beta2\\share\\julia\\stdlib\\v1.9\\LinearAlgebra\\src\\\u001b[39m\u001b[90m\u001b[4mqr.jl:1068\u001b[24m\u001b[39m\n",
       "  [2] det(\u001b[90mQ\u001b[39m::\u001b[1mLinearAlgebra.LQPackedQ\u001b[22m)\n",
       "\u001b[90m     @\u001b[39m \u001b[90mD:\\Julia-1.9.0-beta2\\share\\julia\\stdlib\\v1.9\\LinearAlgebra\\src\\\u001b[39m\u001b[90m\u001b[4mlq.jl:359\u001b[24m\u001b[39m\n",
       "  [3] det(\u001b[90mA\u001b[39m::\u001b[1mUnitUpperTriangular\u001b[22m\u001b[0m{T, S} where S<:AbstractMatrix{T}) where T\n",
       "\u001b[90m     @\u001b[39m \u001b[90mD:\\Julia-1.9.0-beta2\\share\\julia\\stdlib\\v1.9\\LinearAlgebra\\src\\\u001b[39m\u001b[90m\u001b[4mtriangular.jl:2395\u001b[24m\u001b[39m\n",
       "  [4] det(\u001b[90mF\u001b[39m::\u001b[1mHessenberg\u001b[22m)\n",
       "\u001b[90m     @\u001b[39m \u001b[90mD:\\Julia-1.9.0-beta2\\share\\julia\\stdlib\\v1.9\\LinearAlgebra\\src\\\u001b[39m\u001b[90m\u001b[4mhessenberg.jl:692\u001b[24m\u001b[39m\n",
       "  [5] det(\u001b[90mA\u001b[39m::\u001b[1mUnitLowerTriangular\u001b[22m\u001b[0m{T, S} where S<:AbstractMatrix{T}) where T\n",
       "\u001b[90m     @\u001b[39m \u001b[90mD:\\Julia-1.9.0-beta2\\share\\julia\\stdlib\\v1.9\\LinearAlgebra\\src\\\u001b[39m\u001b[90m\u001b[4mtriangular.jl:2396\u001b[24m\u001b[39m\n",
       "  [6] det(\u001b[90mJ\u001b[39m::\u001b[1mUniformScaling\u001b[22m\u001b[0m{T}) where T\n",
       "\u001b[90m     @\u001b[39m \u001b[90mD:\\Julia-1.9.0-beta2\\share\\julia\\stdlib\\v1.9\\LinearAlgebra\\src\\\u001b[39m\u001b[90m\u001b[4muniformscaling.jl:239\u001b[24m\u001b[39m\n",
       "  [7] det(\u001b[90mQ\u001b[39m::\u001b[1mLinearAlgebra.QRPackedQ\u001b[22m)\n",
       "\u001b[90m     @\u001b[39m \u001b[90mD:\\Julia-1.9.0-beta2\\share\\julia\\stdlib\\v1.9\\LinearAlgebra\\src\\\u001b[39m\u001b[90m\u001b[4mqr.jl:1066\u001b[24m\u001b[39m\n",
       "  [8] det(\u001b[90mA\u001b[39m::\u001b[1mSymmetric\u001b[22m\u001b[0m{var\"#s970\", S} where {var\"#s970\"<:Real, S<:(AbstractMatrix{<:var\"#s970\"})})\n",
       "\u001b[90m     @\u001b[39m \u001b[90mD:\\Julia-1.9.0-beta2\\share\\julia\\stdlib\\v1.9\\LinearAlgebra\\src\\\u001b[39m\u001b[90m\u001b[4msymmetric.jl:622\u001b[24m\u001b[39m\n",
       "  [9] det(\u001b[90mA\u001b[39m::\u001b[1mUnion\u001b[22m\u001b[0m{Hermitian{T, S}, Hermitian{Complex{T}, S}, Symmetric{T, S}} where {T<:Real, S})\n",
       "\u001b[90m     @\u001b[39m \u001b[90mD:\\Julia-1.9.0-beta2\\share\\julia\\stdlib\\v1.9\\LinearAlgebra\\src\\\u001b[39m\u001b[90m\u001b[4msymmetric.jl:621\u001b[24m\u001b[39m\n",
       " [10] det(\u001b[90mA\u001b[39m::\u001b[1mSymmetric\u001b[22m)\n",
       "\u001b[90m     @\u001b[39m \u001b[90mD:\\Julia-1.9.0-beta2\\share\\julia\\stdlib\\v1.9\\LinearAlgebra\\src\\\u001b[39m\u001b[90m\u001b[4msymmetric.jl:623\u001b[24m\u001b[39m\n",
       " [11] det(\u001b[90mA\u001b[39m::\u001b[1mSymTridiagonal\u001b[22m; shift)\n",
       "\u001b[90m     @\u001b[39m \u001b[90mD:\\Julia-1.9.0-beta2\\share\\julia\\stdlib\\v1.9\\LinearAlgebra\\src\\\u001b[39m\u001b[90m\u001b[4mtridiag.jl:458\u001b[24m\u001b[39m\n",
       " [12] det(\u001b[90mA\u001b[39m::\u001b[1mUpperTriangular\u001b[22m)\n",
       "\u001b[90m     @\u001b[39m \u001b[90mD:\\Julia-1.9.0-beta2\\share\\julia\\stdlib\\v1.9\\LinearAlgebra\\src\\\u001b[39m\u001b[90m\u001b[4mtriangular.jl:2401\u001b[24m\u001b[39m\n",
       " [13] det(\u001b[90mA\u001b[39m::\u001b[1mTridiagonal\u001b[22m)\n",
       "\u001b[90m     @\u001b[39m \u001b[90mD:\\Julia-1.9.0-beta2\\share\\julia\\stdlib\\v1.9\\LinearAlgebra\\src\\\u001b[39m\u001b[90m\u001b[4mtridiag.jl:770\u001b[24m\u001b[39m\n",
       " [14] det(\u001b[90mex\u001b[39m::\u001b[1mSymPy.SymbolicObject\u001b[22m, \u001b[90margs...\u001b[39m; kwargs...)\n",
       "\u001b[90m     @\u001b[39m \u001b[36mSymPy\u001b[39m \u001b[90mD:\\.julia\\packages\\SymPy\\7cg6m\\src\\\u001b[39m\u001b[90m\u001b[4mimportexport.jl:84\u001b[24m\u001b[39m\n",
       " [15] det(\u001b[90mx\u001b[39m::\u001b[1mNumber\u001b[22m)\n",
       "\u001b[90m     @\u001b[39m \u001b[90mD:\\Julia-1.9.0-beta2\\share\\julia\\stdlib\\v1.9\\LinearAlgebra\\src\\\u001b[39m\u001b[90m\u001b[4mgeneric.jl:1624\u001b[24m\u001b[39m\n",
       " [16] det(\u001b[90mA\u001b[39m::\u001b[1mMatrix\u001b[22m\u001b[0m{T}) where T<:Sym\n",
       "\u001b[90m     @\u001b[39m \u001b[36mSymPy\u001b[39m \u001b[90mD:\\.julia\\packages\\SymPy\\7cg6m\\src\\\u001b[39m\u001b[90m\u001b[4mmatrix.jl:77\u001b[24m\u001b[39m\n",
       " [17] det(\u001b[90mL\u001b[39m::\u001b[1mSparseArrays.CHOLMOD.Factor\u001b[22m)\n",
       "\u001b[90m     @\u001b[39m \u001b[33mSparseArrays.CHOLMOD\u001b[39m \u001b[90mD:\\Julia-1.9.0-beta2\\share\\julia\\stdlib\\v1.9\\SparseArrays\\src\\solvers\\\u001b[39m\u001b[90m\u001b[4mcholmod.jl:1629\u001b[24m\u001b[39m\n",
       " [18] det(\u001b[90mD\u001b[39m::\u001b[1mDiagonal\u001b[22m)\n",
       "\u001b[90m     @\u001b[39m \u001b[90mD:\\Julia-1.9.0-beta2\\share\\julia\\stdlib\\v1.9\\LinearAlgebra\\src\\\u001b[39m\u001b[90m\u001b[4mdiagonal.jl:660\u001b[24m\u001b[39m\n",
       " [19] det(\u001b[90mC\u001b[39m::\u001b[1mCholesky\u001b[22m)\n",
       "\u001b[90m     @\u001b[39m \u001b[90mD:\\Julia-1.9.0-beta2\\share\\julia\\stdlib\\v1.9\\LinearAlgebra\\src\\\u001b[39m\u001b[90m\u001b[4mcholesky.jl:659\u001b[24m\u001b[39m\n",
       " [20] det(\u001b[90mC\u001b[39m::\u001b[1mCholeskyPivoted\u001b[22m)\n",
       "\u001b[90m     @\u001b[39m \u001b[90mD:\\Julia-1.9.0-beta2\\share\\julia\\stdlib\\v1.9\\LinearAlgebra\\src\\\u001b[39m\u001b[90m\u001b[4mcholesky.jl:675\u001b[24m\u001b[39m\n",
       " [21] det(\u001b[90mF\u001b[39m::\u001b[1mLU\u001b[22m\u001b[0m{T, S} where S<:AbstractMatrix{T}) where T\n",
       "\u001b[90m     @\u001b[39m \u001b[90mD:\\Julia-1.9.0-beta2\\share\\julia\\stdlib\\v1.9\\LinearAlgebra\\src\\\u001b[39m\u001b[90m\u001b[4mlu.jl:475\u001b[24m\u001b[39m\n",
       " [22] det(\u001b[90mF\u001b[39m::\u001b[1mUpperHessenberg\u001b[22m; shift)\n",
       "\u001b[90m     @\u001b[39m \u001b[90mD:\\Julia-1.9.0-beta2\\share\\julia\\stdlib\\v1.9\\LinearAlgebra\\src\\\u001b[39m\u001b[90m\u001b[4mhessenberg.jl:313\u001b[24m\u001b[39m\n",
       " [23] det(\u001b[90mA\u001b[39m::\u001b[1mLowerTriangular\u001b[22m)\n",
       "\u001b[90m     @\u001b[39m \u001b[90mD:\\Julia-1.9.0-beta2\\share\\julia\\stdlib\\v1.9\\LinearAlgebra\\src\\\u001b[39m\u001b[90m\u001b[4mtriangular.jl:2402\u001b[24m\u001b[39m\n",
       " [24] det(\u001b[90mA\u001b[39m::\u001b[1mAbstractMatrix\u001b[22m\u001b[0m{BigInt})\n",
       "\u001b[90m     @\u001b[39m \u001b[90mD:\\Julia-1.9.0-beta2\\share\\julia\\stdlib\\v1.9\\LinearAlgebra\\src\\\u001b[39m\u001b[90m\u001b[4mgeneric.jl:1627\u001b[24m\u001b[39m\n",
       " [25] det(\u001b[90mA\u001b[39m::\u001b[1mAbstractMatrix\u001b[22m\u001b[0m{T}) where T\n",
       "\u001b[90m     @\u001b[39m \u001b[90mD:\\Julia-1.9.0-beta2\\share\\julia\\stdlib\\v1.9\\LinearAlgebra\\src\\\u001b[39m\u001b[90m\u001b[4mgeneric.jl:1617\u001b[24m\u001b[39m\n",
       " [26] det(\u001b[90mA\u001b[39m::\u001b[1mEigen\u001b[22m)\n",
       "\u001b[90m     @\u001b[39m \u001b[90mD:\\Julia-1.9.0-beta2\\share\\julia\\stdlib\\v1.9\\LinearAlgebra\\src\\\u001b[39m\u001b[90m\u001b[4meigen.jl:437\u001b[24m\u001b[39m\n",
       " [27] det(\u001b[90mlu\u001b[39m::\u001b[1mSparseArrays.UMFPACK.UmfpackLU\u001b[22m\u001b[0m{Float64, Int32})\n",
       "\u001b[90m     @\u001b[39m \u001b[33mSparseArrays.UMFPACK\u001b[39m \u001b[90mD:\\Julia-1.9.0-beta2\\share\\julia\\stdlib\\v1.9\\SparseArrays\\src\\solvers\\\u001b[39m\u001b[90m\u001b[4mumfpack.jl:696\u001b[24m\u001b[39m\n",
       " [28] det(\u001b[90mlu\u001b[39m::\u001b[1mSparseArrays.UMFPACK.UmfpackLU\u001b[22m\u001b[0m{Float64, Int64})\n",
       "\u001b[90m     @\u001b[39m \u001b[33mSparseArrays.UMFPACK\u001b[39m \u001b[90mD:\\Julia-1.9.0-beta2\\share\\julia\\stdlib\\v1.9\\SparseArrays\\src\\solvers\\\u001b[39m\u001b[90m\u001b[4mumfpack.jl:696\u001b[24m\u001b[39m\n",
       " [29] det(\u001b[90mlu\u001b[39m::\u001b[1mSparseArrays.UMFPACK.UmfpackLU\u001b[22m\u001b[0m{ComplexF64, Int32})\n",
       "\u001b[90m     @\u001b[39m \u001b[33mSparseArrays.UMFPACK\u001b[39m \u001b[90mD:\\Julia-1.9.0-beta2\\share\\julia\\stdlib\\v1.9\\SparseArrays\\src\\solvers\\\u001b[39m\u001b[90m\u001b[4mumfpack.jl:702\u001b[24m\u001b[39m\n",
       " [30] det(\u001b[90mlu\u001b[39m::\u001b[1mSparseArrays.UMFPACK.UmfpackLU\u001b[22m\u001b[0m{ComplexF64, Int64})\n",
       "\u001b[90m     @\u001b[39m \u001b[33mSparseArrays.UMFPACK\u001b[39m \u001b[90mD:\\Julia-1.9.0-beta2\\share\\julia\\stdlib\\v1.9\\SparseArrays\\src\\solvers\\\u001b[39m\u001b[90m\u001b[4mumfpack.jl:702\u001b[24m\u001b[39m\n",
       " [31] det(\u001b[90mF\u001b[39m::\u001b[1mFactorization\u001b[22m)\n",
       "\u001b[90m     @\u001b[39m \u001b[90mD:\\Julia-1.9.0-beta2\\share\\julia\\stdlib\\v1.9\\LinearAlgebra\\src\\\u001b[39m\u001b[90m\u001b[4mfactorization.jl:51\u001b[24m\u001b[39m"
      ]
     },
     "execution_count": 11,
     "metadata": {},
     "output_type": "execute_result"
    }
   ],
   "source": [
    "methods(det)"
   ]
  },
  {
   "cell_type": "code",
   "execution_count": 12,
   "id": "14a57560-a4fe-4a0e-8e71-7ae901d7fcbb",
   "metadata": {},
   "outputs": [
    {
     "data": {
      "text/plain": [
       "Sym"
      ]
     },
     "execution_count": 12,
     "metadata": {},
     "output_type": "execute_result"
    }
   ],
   "source": [
    "typeof(x)"
   ]
  },
  {
   "cell_type": "code",
   "execution_count": 13,
   "id": "a14beea6-6832-4c34-b529-896ad0fc2e49",
   "metadata": {},
   "outputs": [
    {
     "data": {
      "text/plain": [
       "Number"
      ]
     },
     "execution_count": 13,
     "metadata": {},
     "output_type": "execute_result"
    }
   ],
   "source": [
    "typeof(x) |> supertype |> supertype"
   ]
  },
  {
   "cell_type": "code",
   "execution_count": 14,
   "id": "b26c3fe4-6b40-4f3e-a37f-e9ff7b515981",
   "metadata": {},
   "outputs": [
    {
     "data": {
      "text/html": [
       "det(ex::<b>SymPy.SymbolicObject</b>, args...; <i>kwargs...</i>) in SymPy at <a href=\"file://D:/.julia/packages/SymPy/7cg6m/src/importexport.jl\" target=\"_blank\">D:\\.julia\\packages\\SymPy\\7cg6m\\src\\importexport.jl:84</a>"
      ],
      "text/plain": [
       "det(\u001b[90mex\u001b[39m::\u001b[1mSymPy.SymbolicObject\u001b[22m, \u001b[90margs...\u001b[39m; kwargs...)\n",
       "\u001b[90m     @\u001b[39m \u001b[90mSymPy\u001b[39m \u001b[90mD:\\.julia\\packages\\SymPy\\7cg6m\\src\\\u001b[39m\u001b[90m\u001b[4mimportexport.jl:84\u001b[24m\u001b[39m"
      ]
     },
     "execution_count": 14,
     "metadata": {},
     "output_type": "execute_result"
    }
   ],
   "source": [
    "@which det(x)"
   ]
  },
  {
   "cell_type": "code",
   "execution_count": 15,
   "id": "27539470-7062-40ac-890b-a69d51db59f8",
   "metadata": {},
   "outputs": [],
   "source": [
    "LinearAlgebra.det(x::Sym) = x"
   ]
  },
  {
   "cell_type": "code",
   "execution_count": 16,
   "id": "26c273d4-035d-4e0f-9f5d-25fcc03c65da",
   "metadata": {},
   "outputs": [
    {
     "data": {
      "text/html": [
       "det(x::<b>Sym</b>) in Main at In[15]:1"
      ],
      "text/plain": [
       "det(\u001b[90mx\u001b[39m::\u001b[1mSym\u001b[22m)\n",
       "\u001b[90m     @\u001b[39m \u001b[90mMain\u001b[39m \u001b[90m\u001b[4mIn[15]:1\u001b[24m\u001b[39m"
      ]
     },
     "execution_count": 16,
     "metadata": {},
     "output_type": "execute_result"
    }
   ],
   "source": [
    "@which det(x)"
   ]
  },
  {
   "cell_type": "code",
   "execution_count": 17,
   "id": "89546720-0904-47d2-ba48-4366181d1bdd",
   "metadata": {},
   "outputs": [
    {
     "data": {
      "text/latex": [
       "$32 x^{5}$"
      ],
      "text/plain": [
       "    5\n",
       "32*x "
      ]
     },
     "execution_count": 17,
     "metadata": {},
     "output_type": "execute_result"
    }
   ],
   "source": [
    "det(A)"
   ]
  },
  {
   "cell_type": "code",
   "execution_count": null,
   "id": "757ca504-f069-44ee-bbce-e06e422ff253",
   "metadata": {},
   "outputs": [],
   "source": []
  }
 ],
 "metadata": {
  "kernelspec": {
   "display_name": "Julia 1.9.0-beta2",
   "language": "julia",
   "name": "julia-1.9"
  },
  "language_info": {
   "file_extension": ".jl",
   "mimetype": "application/julia",
   "name": "julia",
   "version": "1.9.0"
  }
 },
 "nbformat": 4,
 "nbformat_minor": 5
}
