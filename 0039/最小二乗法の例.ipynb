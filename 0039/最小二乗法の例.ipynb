{
 "cells": [
  {
   "cell_type": "code",
   "execution_count": 1,
   "id": "4934d730-acf7-46ab-ae7a-cb35530e7bc5",
   "metadata": {},
   "outputs": [],
   "source": [
    "using Statistics"
   ]
  },
  {
   "cell_type": "code",
   "execution_count": 2,
   "id": "344abee1-6554-4f73-b460-3e05d108e6f1",
   "metadata": {},
   "outputs": [
    {
     "data": {
      "text/plain": [
       "3-element Vector{Float64}:\n",
       " 67330.98591549289\n",
       "  2301.0563380281733\n",
       "  4670.774647887336"
      ]
     },
     "execution_count": 2,
     "metadata": {},
     "output_type": "execute_result"
    }
   ],
   "source": [
    "X = [\n",
    "    1  6 0\n",
    "    1  9 1\n",
    "    1  9 2\n",
    "    1  8 1\n",
    "    1 12 1\n",
    "    1 13 0\n",
    "]\n",
    "\n",
    "y = [\n",
    "     81000\n",
    "     92500\n",
    "     97000\n",
    "     91000\n",
    "    100000\n",
    "     97000\n",
    "]\n",
    "\n",
    "β̂ = X\\y"
   ]
  },
  {
   "cell_type": "code",
   "execution_count": 3,
   "id": "30f8400b-5446-436b-8d59-2b8c4f102747",
   "metadata": {},
   "outputs": [
    {
     "data": {
      "text/plain": [
       "2-element Vector{Float64}:\n",
       "  9.647058823529408\n",
       " -0.1764705882352917"
      ]
     },
     "execution_count": 3,
     "metadata": {},
     "output_type": "execute_result"
    }
   ],
   "source": [
    "XX = X[:, [1,3]]\n",
    "yy = X[:, 2]\n",
    "γ̂ = XX\\yy"
   ]
  },
  {
   "cell_type": "code",
   "execution_count": 4,
   "id": "deedbaaf-be0f-476b-823c-de1f338fc188",
   "metadata": {},
   "outputs": [
    {
     "data": {
      "text/plain": [
       "(9.5, 9.499999999999998)"
      ]
     },
     "execution_count": 4,
     "metadata": {},
     "output_type": "execute_result"
    }
   ],
   "source": [
    "mean(yy), γ̂[1]+γ̂[2]*mean(XX[:,2])"
   ]
  },
  {
   "cell_type": "code",
   "execution_count": 5,
   "id": "1d94ace4-15df-4357-9795-957f5cb62e96",
   "metadata": {},
   "outputs": [
    {
     "data": {
      "text/plain": [
       "6-element Vector{Float64}:\n",
       " -3.6470588235294077\n",
       " -0.470588235294116\n",
       " -0.29411764705882426\n",
       " -1.470588235294116\n",
       "  2.529411764705884\n",
       "  3.3529411764705923"
      ]
     },
     "execution_count": 5,
     "metadata": {},
     "output_type": "execute_result"
    }
   ],
   "source": [
    "yy .- (γ̂[1] .+ γ̂[2]*XX[:,2])"
   ]
  },
  {
   "cell_type": "code",
   "execution_count": 6,
   "id": "fcd346f0-0330-4ea2-b59e-a253e24c2631",
   "metadata": {},
   "outputs": [
    {
     "data": {
      "text/plain": [
       "2-element Vector{Int64}:\n",
       " 1\n",
       " 2"
      ]
     },
     "execution_count": 6,
     "metadata": {},
     "output_type": "execute_result"
    }
   ],
   "source": [
    "a = [\n",
    "    1\n",
    "    2\n",
    "]"
   ]
  },
  {
   "cell_type": "code",
   "execution_count": 7,
   "id": "c5536046-6a4b-4eb4-aad8-47a43109a797",
   "metadata": {},
   "outputs": [
    {
     "data": {
      "text/plain": [
       "1×2 adjoint(::Vector{Int64}) with eltype Int64:\n",
       " 1  2"
      ]
     },
     "execution_count": 7,
     "metadata": {},
     "output_type": "execute_result"
    }
   ],
   "source": [
    "b = a'"
   ]
  },
  {
   "cell_type": "code",
   "execution_count": 8,
   "id": "b165d9eb-ccb0-40cf-8e2f-12bb7cd8c3d2",
   "metadata": {},
   "outputs": [
    {
     "data": {
      "text/plain": [
       "5"
      ]
     },
     "execution_count": 8,
     "metadata": {},
     "output_type": "execute_result"
    }
   ],
   "source": [
    "b*a"
   ]
  },
  {
   "cell_type": "code",
   "execution_count": 9,
   "id": "4beee42a-b5fb-4519-9cbd-a7484f8a0a92",
   "metadata": {},
   "outputs": [
    {
     "data": {
      "text/plain": [
       "1×2 Matrix{Int64}:\n",
       " 1  2"
      ]
     },
     "execution_count": 9,
     "metadata": {},
     "output_type": "execute_result"
    }
   ],
   "source": [
    "c = [1 2]"
   ]
  },
  {
   "cell_type": "code",
   "execution_count": 10,
   "id": "2d88f554-1507-4134-b914-5d6dbdf5c8b1",
   "metadata": {},
   "outputs": [
    {
     "data": {
      "text/plain": [
       "1-element Vector{Int64}:\n",
       " 5"
      ]
     },
     "execution_count": 10,
     "metadata": {},
     "output_type": "execute_result"
    }
   ],
   "source": [
    "c*a"
   ]
  },
  {
   "cell_type": "code",
   "execution_count": null,
   "id": "332dfb18-9e21-4712-af3f-312241a848e2",
   "metadata": {},
   "outputs": [],
   "source": []
  }
 ],
 "metadata": {
  "kernelspec": {
   "display_name": "Julia 1.8.3",
   "language": "julia",
   "name": "julia-1.8"
  },
  "language_info": {
   "file_extension": ".jl",
   "mimetype": "application/julia",
   "name": "julia",
   "version": "1.8.3"
  }
 },
 "nbformat": 4,
 "nbformat_minor": 5
}
