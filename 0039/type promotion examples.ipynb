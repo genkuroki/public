{
 "cells": [
  {
   "cell_type": "markdown",
   "id": "e79453fa-b698-4e6d-8043-15a4f7b8cfb4",
   "metadata": {},
   "source": [
    "https://twitter.com/taketo1024_2/status/1585942690495336449"
   ]
  },
  {
   "cell_type": "code",
   "execution_count": 1,
   "id": "ca5c7881-c69c-4c6c-b055-c4726e235351",
   "metadata": {},
   "outputs": [],
   "source": [
    "using LinearAlgebra: LinearAlgebra\n",
    "using SparseArrays\n",
    "using Polynomials"
   ]
  },
  {
   "cell_type": "code",
   "execution_count": 2,
   "id": "78133c3d-d4a3-4228-a8ef-556292a3e523",
   "metadata": {},
   "outputs": [
    {
     "data": {
      "text/plain": [
       "Any"
      ]
     },
     "execution_count": 2,
     "metadata": {},
     "output_type": "execute_result"
    }
   ],
   "source": [
    "Base.promote_op(LinearAlgebra.matprod, Polynomial{Rational{Int}, :h}, Polynomial{Rational, :h})"
   ]
  },
  {
   "cell_type": "markdown",
   "id": "c70db5a4-b81c-4244-8470-9a783cbbcb62",
   "metadata": {},
   "source": [
    "これ↑が以下のようになる理由."
   ]
  },
  {
   "cell_type": "code",
   "execution_count": 3,
   "id": "de617b1e-6a1e-4155-96d5-e32680b1b34b",
   "metadata": {},
   "outputs": [
    {
     "data": {
      "text/html": [
       "h"
      ],
      "text/latex": [
       "$h$"
      ],
      "text/plain": [
       "Polynomial(h)"
      ]
     },
     "execution_count": 3,
     "metadata": {},
     "output_type": "execute_result"
    }
   ],
   "source": [
    "p = Polynomial(Rational[0, 1], :h)"
   ]
  },
  {
   "cell_type": "code",
   "execution_count": 4,
   "id": "2f4b1179-e2ae-471d-9cef-68e1e832f713",
   "metadata": {},
   "outputs": [
    {
     "data": {
      "text/plain": [
       "Rational"
      ]
     },
     "execution_count": 4,
     "metadata": {},
     "output_type": "execute_result"
    }
   ],
   "source": [
    "eltype(p)"
   ]
  },
  {
   "cell_type": "code",
   "execution_count": 5,
   "id": "208ede45-0407-4147-b873-e618e15349d0",
   "metadata": {},
   "outputs": [
    {
     "data": {
      "text/plain": [
       "Polynomial{Rational, :h}"
      ]
     },
     "execution_count": 5,
     "metadata": {},
     "output_type": "execute_result"
    }
   ],
   "source": [
    "typeof(p)"
   ]
  },
  {
   "cell_type": "markdown",
   "id": "c1b86ab2-8857-4494-95ba-5491bd7ab6e0",
   "metadata": {},
   "source": [
    "`Rational` は非具象型なので `Polynomial{Rational, :h}` 型のオブジェクトを使用すると型不安定になって計算速度が劣化する危険性があるので要注意.\n",
    "\n",
    "Juliaでのプログラミングでは具象型の情報が正しく伝搬するように書くことが最も重要である.\n",
    "\n",
    "非具象型と具象型の区別は非常に基本的. \n",
    "\n",
    "非具象型を避けるべき場合があることについては公式ドキュメントの\n",
    "\n",
    "* https://docs.julialang.org/en/v1/manual/performance-tips/#man-performance-abstract-container\n",
    "\n",
    "を読めばわかる.\n",
    "\n",
    "Juliaの大きな特徴の1つは, 本質的に多重ディスパッチを使ったコードによって, 数値の型が混合している場合の演算を定義していることである.  この [mixed type arithmetic 実装](https://www.google.com/search?q=mixed-type+site%3Adocs.julialang.org)は多重ディスパッチを採用していない場合にはかなりやっかいな問題になる.\n",
    "\n",
    "数値の型が混合している場合の演算時の型のプロモーションのルールはJuliaのコードできちんと記述されているので, Juliaの型の取り扱いは実際には全然「ゆるふわ」ではない.\n",
    "\n",
    "むしろ「ゆるふわ」でないせいで面倒なことになる場合が多いように思われる."
   ]
  },
  {
   "cell_type": "code",
   "execution_count": 6,
   "id": "553cba7c-2d19-49d1-b53e-a62104c27158",
   "metadata": {},
   "outputs": [
    {
     "data": {
      "text/plain": [
       "1×1 SparseMatrixCSC{Polynomial{Rational, :h}, Int64} with 1 stored entry:\n",
       " Polynomial(h)"
      ]
     },
     "execution_count": 6,
     "metadata": {},
     "output_type": "execute_result"
    }
   ],
   "source": [
    "a = sparse([p;;])"
   ]
  },
  {
   "cell_type": "code",
   "execution_count": 7,
   "id": "d661573c-c3cd-4e54-81c0-056af018e567",
   "metadata": {},
   "outputs": [
    {
     "data": {
      "text/plain": [
       "1×1 SparseMatrixCSC{Polynomial{Rational{Int64}, :h}, Int64} with 1 stored entry:\n",
       " Polynomial(-h)"
      ]
     },
     "execution_count": 7,
     "metadata": {},
     "output_type": "execute_result"
    }
   ],
   "source": [
    "-a"
   ]
  },
  {
   "cell_type": "markdown",
   "id": "da2ccd91-4538-4b40-a940-1a5fd99acf44",
   "metadata": {},
   "source": [
    "`-a` の `eltype` が `Polynomial{Rational, :h}` ではなく具象型の `Polynomial{Rational{Int64}, :h}` になっている."
   ]
  },
  {
   "cell_type": "code",
   "execution_count": 8,
   "id": "e2d2aa55-e7ce-4d75-ac0b-2bedb2e6e614",
   "metadata": {},
   "outputs": [
    {
     "data": {
      "text/plain": [
       "1×1 SparseMatrixCSC{Any, Int64} with 1 stored entry:\n",
       " Polynomial(-h^2)"
      ]
     },
     "execution_count": 8,
     "metadata": {},
     "output_type": "execute_result"
    }
   ],
   "source": [
    "(-a)*a"
   ]
  },
  {
   "cell_type": "markdown",
   "id": "f144f682-5838-4ab0-a6b0-83ee1f03723f",
   "metadata": {},
   "source": [
    "`(-a)*a` の `eltype` が `Polynomial{Any, :h}` になってしまった!"
   ]
  },
  {
   "cell_type": "markdown",
   "id": "88ee3a63-3f7e-4cfd-b1b8-70a3907c3bb2",
   "metadata": {},
   "source": [
    "こうなってしまった理由はすでに説明したように次のように型がプロモートするようになっているからである."
   ]
  },
  {
   "cell_type": "code",
   "execution_count": 9,
   "id": "57af75ec-6ffd-4c41-a241-cbc3b19223ae",
   "metadata": {},
   "outputs": [
    {
     "data": {
      "text/plain": [
       "Any"
      ]
     },
     "execution_count": 9,
     "metadata": {},
     "output_type": "execute_result"
    }
   ],
   "source": [
    "Base.promote_op(LinearAlgebra.matprod, Polynomial{Rational{Int}, :h}, Polynomial{Rational, :h})"
   ]
  },
  {
   "cell_type": "markdown",
   "id": "ce602187-63d5-4511-be31-496e610e54f0",
   "metadata": {},
   "source": [
    "ただし, `Any` が出て来るより前に非具象型の `Rational` を `eltype` とする多項式を使ってしまっている時点で計算速度的に損失が生じていたと考えられる."
   ]
  },
  {
   "cell_type": "markdown",
   "id": "94c51b82-e178-4843-88ba-3b70d0efd41b",
   "metadata": {},
   "source": [
    "こうならないようにするためには, `p = Polynomial(Rational[0, 1], :h)` を次に置き換えればよい(`Rational` → `Rational{Int}`)."
   ]
  },
  {
   "cell_type": "code",
   "execution_count": 10,
   "id": "e3a7f206-6e50-431e-ab13-ea676547207b",
   "metadata": {},
   "outputs": [
    {
     "data": {
      "text/html": [
       "h"
      ],
      "text/latex": [
       "$h$"
      ],
      "text/plain": [
       "Polynomial(h)"
      ]
     },
     "execution_count": 10,
     "metadata": {},
     "output_type": "execute_result"
    }
   ],
   "source": [
    "q = Polynomial(Rational{Int}[0, 1], :h)"
   ]
  },
  {
   "cell_type": "code",
   "execution_count": 11,
   "id": "aaa485f4-ca91-4a8d-b653-37bebe0b7924",
   "metadata": {},
   "outputs": [
    {
     "data": {
      "text/plain": [
       "Polynomial{Rational{Int64}, :h}"
      ]
     },
     "execution_count": 11,
     "metadata": {},
     "output_type": "execute_result"
    }
   ],
   "source": [
    "typeof(q)"
   ]
  },
  {
   "cell_type": "code",
   "execution_count": 12,
   "id": "c035c4af-3bcd-4508-b23f-9163d8e3fdaa",
   "metadata": {},
   "outputs": [
    {
     "data": {
      "text/plain": [
       "Rational{Int64}"
      ]
     },
     "execution_count": 12,
     "metadata": {},
     "output_type": "execute_result"
    }
   ],
   "source": [
    "eltype(q)"
   ]
  },
  {
   "cell_type": "code",
   "execution_count": 13,
   "id": "d6c0de62-8d96-4960-bd89-2b167eb5cc09",
   "metadata": {},
   "outputs": [
    {
     "data": {
      "text/plain": [
       "false"
      ]
     },
     "execution_count": 13,
     "metadata": {},
     "output_type": "execute_result"
    }
   ],
   "source": [
    "isconcretetype(Rational) # Rationalは具象型ではない"
   ]
  },
  {
   "cell_type": "code",
   "execution_count": 14,
   "id": "96538010-0f0a-4c40-affb-70dfae5c6f67",
   "metadata": {},
   "outputs": [
    {
     "data": {
      "text/plain": [
       "true"
      ]
     },
     "execution_count": 14,
     "metadata": {},
     "output_type": "execute_result"
    }
   ],
   "source": [
    "isconcretetype(Rational{Int}) # Rational{Int}は具象型である"
   ]
  },
  {
   "cell_type": "code",
   "execution_count": 15,
   "id": "6b8faea0-626e-48d8-b4c3-d15426f5f947",
   "metadata": {},
   "outputs": [
    {
     "data": {
      "text/plain": [
       "1×1 SparseMatrixCSC{Polynomial{Rational{Int64}, :h}, Int64} with 1 stored entry:\n",
       " Polynomial(h)"
      ]
     },
     "execution_count": 15,
     "metadata": {},
     "output_type": "execute_result"
    }
   ],
   "source": [
    "b = sparse([q;;])"
   ]
  },
  {
   "cell_type": "code",
   "execution_count": 16,
   "id": "dd4f6e94-c785-49a2-a38b-a9e31148174a",
   "metadata": {},
   "outputs": [
    {
     "data": {
      "text/plain": [
       "1×1 SparseMatrixCSC{Polynomial{Rational{Int64}, :h}, Int64} with 1 stored entry:\n",
       " Polynomial(-h)"
      ]
     },
     "execution_count": 16,
     "metadata": {},
     "output_type": "execute_result"
    }
   ],
   "source": [
    "-b"
   ]
  },
  {
   "cell_type": "code",
   "execution_count": 17,
   "id": "0af7832b-f263-4b7e-bb74-169e4b950620",
   "metadata": {},
   "outputs": [
    {
     "data": {
      "text/plain": [
       "1×1 SparseMatrixCSC{Polynomial{Rational{Int64}, :h}, Int64} with 1 stored entry:\n",
       " Polynomial(-h^2)"
      ]
     },
     "execution_count": 17,
     "metadata": {},
     "output_type": "execute_result"
    }
   ],
   "source": [
    "(-b)*b"
   ]
  },
  {
   "cell_type": "code",
   "execution_count": 18,
   "id": "934c158c-e181-408f-bd45-4012cd1ccf41",
   "metadata": {},
   "outputs": [
    {
     "data": {
      "text/plain": [
       "Polynomial{Rational{Int64}, :h}"
      ]
     },
     "execution_count": 18,
     "metadata": {},
     "output_type": "execute_result"
    }
   ],
   "source": [
    "Base.promote_op(LinearAlgebra.matprod, Polynomial{Rational{Int}, :h}, Polynomial{Rational{Int}, :h})"
   ]
  },
  {
   "cell_type": "code",
   "execution_count": 19,
   "id": "fb494779-e216-4438-82f6-ed8f23bc8f4d",
   "metadata": {},
   "outputs": [
    {
     "data": {
      "text/html": [
       "h"
      ],
      "text/latex": [
       "$h$"
      ],
      "text/plain": [
       "Polynomial(h)"
      ]
     },
     "execution_count": 19,
     "metadata": {},
     "output_type": "execute_result"
    }
   ],
   "source": [
    "qq = Polynomial([0, 1//1], :h)"
   ]
  },
  {
   "cell_type": "code",
   "execution_count": 20,
   "id": "890be62c-c027-42b2-86cd-2fd4fe8f28a3",
   "metadata": {},
   "outputs": [
    {
     "data": {
      "text/plain": [
       "Polynomial{Rational{Int64}, :h}"
      ]
     },
     "execution_count": 20,
     "metadata": {},
     "output_type": "execute_result"
    }
   ],
   "source": [
    "typeof(qq)"
   ]
  },
  {
   "cell_type": "code",
   "execution_count": 21,
   "id": "28428d10-3cc2-40bb-9204-c8289cf224d0",
   "metadata": {},
   "outputs": [
    {
     "data": {
      "text/plain": [
       "true"
      ]
     },
     "execution_count": 21,
     "metadata": {},
     "output_type": "execute_result"
    }
   ],
   "source": [
    "qq == q"
   ]
  },
  {
   "cell_type": "markdown",
   "id": "34cf5d24-ee4f-4f76-b4c3-e0072f74511a",
   "metadata": {},
   "source": [
    "他の例も示しておこう."
   ]
  },
  {
   "cell_type": "code",
   "execution_count": 22,
   "id": "cd884e47-ce09-4890-aac6-29b60e9a2c04",
   "metadata": {},
   "outputs": [
    {
     "data": {
      "text/html": [
       "h"
      ],
      "text/latex": [
       "$h$"
      ],
      "text/plain": [
       "Polynomial(h)"
      ]
     },
     "execution_count": 22,
     "metadata": {},
     "output_type": "execute_result"
    }
   ],
   "source": [
    "r = Polynomial(Rational{BigInt}[0, 1], :h)"
   ]
  },
  {
   "cell_type": "code",
   "execution_count": 23,
   "id": "e913ceee-2e64-4120-8751-ba2435c087ec",
   "metadata": {},
   "outputs": [
    {
     "data": {
      "text/plain": [
       "Polynomial{Rational{BigInt}, :h}"
      ]
     },
     "execution_count": 23,
     "metadata": {},
     "output_type": "execute_result"
    }
   ],
   "source": [
    "typeof(r)"
   ]
  },
  {
   "cell_type": "code",
   "execution_count": 24,
   "id": "34c4fa5a-6fbb-40ae-b51b-e80ecace8b5d",
   "metadata": {},
   "outputs": [
    {
     "data": {
      "text/plain": [
       "1×1 SparseMatrixCSC{Polynomial{Rational{BigInt}, :h}, Int64} with 1 stored entry:\n",
       " Polynomial(h)"
      ]
     },
     "execution_count": 24,
     "metadata": {},
     "output_type": "execute_result"
    }
   ],
   "source": [
    "c = sparse([r;;])"
   ]
  },
  {
   "cell_type": "code",
   "execution_count": 25,
   "id": "b5e39c39-e36e-43cb-835b-1ebb40861c13",
   "metadata": {},
   "outputs": [
    {
     "data": {
      "text/plain": [
       "1×1 SparseMatrixCSC{Polynomial{Rational{BigInt}, :h}, Int64} with 1 stored entry:\n",
       " Polynomial(-h^2)"
      ]
     },
     "execution_count": 25,
     "metadata": {},
     "output_type": "execute_result"
    }
   ],
   "source": [
    "(-b)*c"
   ]
  },
  {
   "cell_type": "code",
   "execution_count": 26,
   "id": "c87335bf-c8c8-475c-bb25-ee5a750fa011",
   "metadata": {},
   "outputs": [
    {
     "data": {
      "text/plain": [
       "Polynomial{Rational{BigInt}, :h}"
      ]
     },
     "execution_count": 26,
     "metadata": {},
     "output_type": "execute_result"
    }
   ],
   "source": [
    "Base.promote_op(LinearAlgebra.matprod, Polynomial{Rational{Int}, :h}, Polynomial{Rational{BigInt}, :h})"
   ]
  },
  {
   "cell_type": "markdown",
   "id": "67976f13-db39-4069-9d95-a52a56e73766",
   "metadata": {},
   "source": [
    "このように `Int` と `BigInt` の演算では `BigInt` の結果が得られるようになっている."
   ]
  },
  {
   "cell_type": "code",
   "execution_count": null,
   "id": "9ef95c8e-9358-4d0d-870c-94cacf08f9bc",
   "metadata": {},
   "outputs": [],
   "source": []
  }
 ],
 "metadata": {
  "jupytext": {
   "formats": "ipynb,md"
  },
  "kernelspec": {
   "display_name": "Julia 1.8.2",
   "language": "julia",
   "name": "julia-1.8"
  },
  "language_info": {
   "file_extension": ".jl",
   "mimetype": "application/julia",
   "name": "julia",
   "version": "1.8.2"
  }
 },
 "nbformat": 4,
 "nbformat_minor": 5
}
