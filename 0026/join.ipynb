{
 "cells": [
  {
   "cell_type": "markdown",
   "id": "c58d811d-e504-43cd-8905-2ecaab917350",
   "metadata": {},
   "source": [
    "https://twitter.com/ka_ttoo/status/1478684198776950786"
   ]
  },
  {
   "cell_type": "code",
   "execution_count": 1,
   "id": "53332c39-2272-425e-9088-05a42ab03685",
   "metadata": {},
   "outputs": [
    {
     "data": {
      "text/plain": [
       "\"x/y/z\""
      ]
     },
     "execution_count": 1,
     "metadata": {},
     "output_type": "execute_result"
    }
   ],
   "source": [
    "a = [\"x\", \"y\", \"z\"]\n",
    "join(a, \"/\")"
   ]
  },
  {
   "cell_type": "code",
   "execution_count": null,
   "id": "c1a2858f-b8b2-4a03-901f-f82e475f2143",
   "metadata": {},
   "outputs": [],
   "source": []
  }
 ],
 "metadata": {
  "kernelspec": {
   "display_name": "Julia 1.7.1",
   "language": "julia",
   "name": "julia-1.7"
  },
  "language_info": {
   "file_extension": ".jl",
   "mimetype": "application/julia",
   "name": "julia",
   "version": "1.7.1"
  }
 },
 "nbformat": 4,
 "nbformat_minor": 5
}
