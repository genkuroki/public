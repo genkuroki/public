{
 "cells": [
  {
   "cell_type": "markdown",
   "id": "8b2540a6-9307-45dd-9417-9319cfd2a17b",
   "metadata": {},
   "source": [
    "https://twitter.com/antimon2/status/1476243704700882944"
   ]
  },
  {
   "cell_type": "code",
   "execution_count": 19,
   "id": "81943ad2-181b-42fd-a8ad-6e2a93095462",
   "metadata": {},
   "outputs": [],
   "source": [
    "struct Unfold{F, T}\n",
    "    f::F\n",
    "    init::T\n",
    "end\n",
    "unfold(f, init) = Unfold(f, init)\n",
    "\n",
    "Base.IteratorSize(::Type{<:Unfold}) = Base.SizeUnknown()\n",
    "Base.IteratorEltype(::Type{<:Unfold}) = Base.EltypeUnknown()\n",
    "\n",
    "Base.iterate(itr::Unfold) = iterate(itr, itr.init)\n",
    "function Base.iterate(itr::Unfold, st)\n",
    "    res = itr.f(st)\n",
    "    isnothing(res) ? nothing : res #something(res)\n",
    "end"
   ]
  },
  {
   "cell_type": "code",
   "execution_count": 20,
   "id": "91e8f9f3-146d-4648-a1ad-62ffe423f382",
   "metadata": {},
   "outputs": [
    {
     "data": {
      "text/plain": [
       "Unfold{var\"#7#8\", Tuple{BigInt, BigInt}}(var\"#7#8\"(), (1, 1))"
      ]
     },
     "execution_count": 20,
     "metadata": {},
     "output_type": "execute_result"
    }
   ],
   "source": [
    "fib = unfold((big\"1\", big\"1\")) do (a, b)\n",
    "    #Some((a, (b, a + b)))\n",
    "    (a, (b, a + b))\n",
    "end"
   ]
  },
  {
   "cell_type": "code",
   "execution_count": 21,
   "id": "599a9bc6-03e0-4bb8-b5ae-fe86202a55cd",
   "metadata": {},
   "outputs": [
    {
     "data": {
      "text/plain": [
       "10-element Vector{BigInt}:\n",
       "  1\n",
       "  1\n",
       "  2\n",
       "  3\n",
       "  5\n",
       "  8\n",
       " 13\n",
       " 21\n",
       " 34\n",
       " 55"
      ]
     },
     "execution_count": 21,
     "metadata": {},
     "output_type": "execute_result"
    }
   ],
   "source": [
    "collect(Iterators.take(fib, 10))"
   ]
  },
  {
   "cell_type": "code",
   "execution_count": 22,
   "id": "c447d4af-052a-40fe-abe5-6ed75bb187b4",
   "metadata": {},
   "outputs": [
    {
     "data": {
      "text/plain": [
       "(1, (1, 2))"
      ]
     },
     "execution_count": 22,
     "metadata": {},
     "output_type": "execute_result"
    }
   ],
   "source": [
    "iterate(fib, fib.init)"
   ]
  },
  {
   "cell_type": "code",
   "execution_count": 23,
   "id": "45fff36e-01cf-4b57-89d7-77d903edd221",
   "metadata": {},
   "outputs": [
    {
     "name": "stdout",
     "output_type": "stream",
     "text": [
      "MethodInstance for iterate(::Unfold{var\"#7#8\", Tuple{BigInt, BigInt}}, ::Tuple{BigInt, BigInt})\n",
      "  from iterate(itr::Unfold, st) in Main at In[19]:11\n",
      "Arguments\n",
      "  #self#\u001b[36m::Core.Const(iterate)\u001b[39m\n",
      "  itr\u001b[36m::Unfold{var\"#7#8\", Tuple{BigInt, BigInt}}\u001b[39m\n",
      "  st\u001b[36m::Tuple{BigInt, BigInt}\u001b[39m\n",
      "Locals\n",
      "  res\u001b[36m::Tuple{BigInt, Tuple{BigInt, BigInt}}\u001b[39m\n",
      "Body\u001b[36m::Tuple{BigInt, Tuple{BigInt, BigInt}}\u001b[39m\n",
      "\u001b[90m1 ─\u001b[39m %1 = Base.getproperty(itr, :f)\u001b[36m::Core.Const(var\"#7#8\"())\u001b[39m\n",
      "\u001b[90m│  \u001b[39m      (res = (%1)(st))\n",
      "\u001b[90m│  \u001b[39m %3 = Main.isnothing(res)\u001b[36m::Core.Const(false)\u001b[39m\n",
      "\u001b[90m└──\u001b[39m      goto #3 if not %3\n",
      "\u001b[90m2 ─\u001b[39m      Core.Const(:(return Main.nothing))\n",
      "\u001b[90m3 ┄\u001b[39m      return res\n",
      "\n"
     ]
    }
   ],
   "source": [
    "@code_warntype iterate(fib, fib.init)"
   ]
  },
  {
   "cell_type": "code",
   "execution_count": null,
   "id": "aaddaf3b-100e-4d7d-9456-f7ed09e386f5",
   "metadata": {},
   "outputs": [],
   "source": []
  }
 ],
 "metadata": {
  "kernelspec": {
   "display_name": "Julia 1.7.0",
   "language": "julia",
   "name": "julia-1.7"
  },
  "language_info": {
   "file_extension": ".jl",
   "mimetype": "application/julia",
   "name": "julia",
   "version": "1.7.0"
  }
 },
 "nbformat": 4,
 "nbformat_minor": 5
}
