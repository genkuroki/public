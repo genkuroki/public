{
 "cells": [
  {
   "cell_type": "code",
   "execution_count": 1,
   "id": "196eb4ff-2d37-4228-98dc-3bec734ac135",
   "metadata": {},
   "outputs": [
    {
     "data": {
      "text/html": [
       "<div>&#36;&#36;&#101;&#94;&#123;&#45;&#92;&#112;&#105;&#32;&#32;&#92;&#120;&#105;&#32;&#94;&#50;&#125;&#36;&#36;</div>"
      ],
      "text/plain": [
       "e^{-\\pi  \\xi ^2}"
      ]
     },
     "execution_count": 1,
     "metadata": {
      "text/html": [],
      "text/plain": []
     },
     "output_type": "execute_result"
    }
   ],
   "source": [
    "Integrate[Exp[-2 Pi I x xi - Pi x^2], {x, -Infinity, Infinity}] // TeXForm"
   ]
  },
  {
   "cell_type": "code",
   "execution_count": null,
   "id": "b15610a6-7a20-47c7-95f5-42c522e6d730",
   "metadata": {},
   "outputs": [],
   "source": []
  }
 ],
 "metadata": {
  "kernelspec": {
   "display_name": "Wolfram Language 12.3",
   "language": "Wolfram Language",
   "name": "wolframlanguage12.3"
  },
  "language_info": {
   "codemirror_mode": "mathematica",
   "file_extension": ".m",
   "mimetype": "application/vnd.wolfram.m",
   "name": "Wolfram Language",
   "pygments_lexer": "mathematica",
   "version": "12.0"
  }
 },
 "nbformat": 4,
 "nbformat_minor": 5
}
