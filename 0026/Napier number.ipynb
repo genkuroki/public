{
 "cells": [
  {
   "cell_type": "code",
   "execution_count": 1,
   "id": "6083c6f9-fe4c-46d3-b2d9-300dad3b2214",
   "metadata": {},
   "outputs": [
    {
     "data": {
      "text/plain": [
       "7-element Vector{Tuple{Int64, Float64, Float64}}:\n",
       " (10, 2.5937424601000023, 2.718281828459045)\n",
       " (100, 2.7048138294215285, 2.718281828459045)\n",
       " (1000, 2.7169239322355936, 2.718281828459045)\n",
       " (10000, 2.7181459268249255, 2.718281828459045)\n",
       " (100000, 2.7182682371922975, 2.718281828459045)\n",
       " (1000000, 2.7182804690957534, 2.718281828459045)\n",
       " (10000000, 2.7182816941320818, 2.718281828459045)"
      ]
     },
     "execution_count": 1,
     "metadata": {},
     "output_type": "execute_result"
    }
   ],
   "source": [
    "f(n) = (1 + 1/n)^n\n",
    "[(n, f(n), exp(1)) for n in 10 .^ (1:7)]"
   ]
  },
  {
   "cell_type": "code",
   "execution_count": 2,
   "id": "bb2d1770-a6bd-4c18-9d9c-5510a6eddca3",
   "metadata": {},
   "outputs": [
    {
     "data": {
      "text/plain": [
       "7-element Vector{Tuple{Int64, Float64, Float64}}:\n",
       " (10, -0.045815473235769066, 0.05)\n",
       " (100, -0.00495459995961911, 0.005)\n",
       " (1000, -0.0004995421038521686, 0.0005)\n",
       " (10000, -4.9995417214176996e-5, 5.0e-5)\n",
       " (100000, -4.999947615935696e-6, 5.0e-6)\n",
       " (1000000, -5.000818080747038e-7, 5.0e-7)\n",
       " (10000000, -4.9416128189427866e-8, 5.0e-8)"
      ]
     },
     "execution_count": 2,
     "metadata": {},
     "output_type": "execute_result"
    }
   ],
   "source": [
    "[(n, f(n)/exp(1) - 1, 1/(2n)) for n in 10 .^ (1:7)]"
   ]
  },
  {
   "cell_type": "code",
   "execution_count": null,
   "id": "173c85ba-2507-4b95-911a-32ba23173034",
   "metadata": {},
   "outputs": [],
   "source": []
  }
 ],
 "metadata": {
  "jupytext": {
   "formats": "ipynb,md"
  },
  "kernelspec": {
   "display_name": "Julia 1.7.0",
   "language": "julia",
   "name": "julia-1.7"
  },
  "language_info": {
   "file_extension": ".jl",
   "mimetype": "application/julia",
   "name": "julia",
   "version": "1.7.0"
  }
 },
 "nbformat": 4,
 "nbformat_minor": 5
}
