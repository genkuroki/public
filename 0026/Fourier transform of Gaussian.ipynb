{
 "cells": [
  {
   "cell_type": "code",
   "execution_count": 1,
   "id": "26d39745-6d4a-40bf-931b-4d94be5b772a",
   "metadata": {},
   "outputs": [
    {
     "data": {
      "text/plain": [
       "(x, y, ξ)"
      ]
     },
     "execution_count": 1,
     "metadata": {},
     "output_type": "execute_result"
    }
   ],
   "source": [
    "using SymPy: SymPy, sympy, @syms, PI, oo\n",
    "@syms x::real y::real ξ::real"
   ]
  },
  {
   "cell_type": "code",
   "execution_count": 2,
   "id": "fd8088e9-3121-470b-8554-6a1cbd5cdcb0",
   "metadata": {},
   "outputs": [
    {
     "data": {
      "text/latex": [
       "$e^{- \\frac{9.86960440108936 ξ^{2}}{\\pi}}$"
      ],
      "text/plain": [
       "                    2 \n",
       " -9.86960440108936*ξ  \n",
       " ---------------------\n",
       "           pi         \n",
       "e                     "
      ]
     },
     "execution_count": 2,
     "metadata": {},
     "output_type": "execute_result"
    }
   ],
   "source": [
    "sympy.integrate(exp(-2π*im*x*ξ - π*x^2), (x, -oo, oo)).simplify()"
   ]
  },
  {
   "cell_type": "code",
   "execution_count": 3,
   "id": "7761b7e3-44d6-4632-b52a-e3b537c5a6c6",
   "metadata": {},
   "outputs": [
    {
     "data": {
      "text/latex": [
       "$e^{- \\pi ξ^{2}}$"
      ],
      "text/plain": [
       "      2\n",
       " -pi*ξ \n",
       "e      "
      ]
     },
     "execution_count": 3,
     "metadata": {},
     "output_type": "execute_result"
    }
   ],
   "source": [
    "sympy.integrate(exp(-2PI*im*x*ξ - π*x^2), (x, -oo, oo)).simplify()"
   ]
  },
  {
   "cell_type": "code",
   "execution_count": 4,
   "id": "2dc0fa30-12f0-4782-8713-54350348e7f0",
   "metadata": {},
   "outputs": [
    {
     "data": {
      "text/latex": [
       "$\\frac{\\sqrt{\\pi} \\left(- \\operatorname{erfi}{\\left(x \\right)} + \\operatorname{erfi}{\\left(1 \\right)}\\right)}{2}$"
      ],
      "text/plain": [
       "  ____                     \n",
       "\\/ pi *(-erfi(x) + erfi(1))\n",
       "---------------------------\n",
       "             2             "
      ]
     },
     "execution_count": 4,
     "metadata": {},
     "output_type": "execute_result"
    }
   ],
   "source": [
    "sympy.integrate(exp(y^2), (y, x, 1)).simplify()"
   ]
  },
  {
   "cell_type": "code",
   "execution_count": 5,
   "id": "ecd2f9f2-a8ef-4ff4-9942-2d1b6994c8d7",
   "metadata": {},
   "outputs": [
    {
     "data": {
      "text/latex": [
       "$- \\frac{1}{2} + \\frac{e}{2}$"
      ],
      "text/plain": [
       "  1   e\n",
       "- - + -\n",
       "  2   2"
      ]
     },
     "execution_count": 5,
     "metadata": {},
     "output_type": "execute_result"
    }
   ],
   "source": [
    "sympy.integrate(exp(y^2), (y, x, 1), (x, 0, 1)).simplify()"
   ]
  },
  {
   "cell_type": "markdown",
   "id": "5560f2a2-5bfc-4323-89c0-a2445de38e53",
   "metadata": {},
   "source": [
    "https://github.com/genkuroki/public/blob/d54bc52c4198e88468e85233130882222890c02f/0023/Maxima.jl%20example.ipynb"
   ]
  },
  {
   "cell_type": "code",
   "execution_count": 6,
   "id": "e880b31d-a1ee-4ea0-a3eb-b5bf2ea06737",
   "metadata": {},
   "outputs": [],
   "source": [
    "using Maxima: Maxima, MExpr, @m_str, mcall\n",
    "Base.convert(::Type{Any}, x::MExpr) = x"
   ]
  },
  {
   "cell_type": "code",
   "execution_count": 7,
   "id": "506a4efc-c162-42c8-8679-cd849172ce62",
   "metadata": {},
   "outputs": [
    {
     "data": {
      "text/latex": [
       " \n",
       "$${{e-1}\\over{2}}$$"
      ],
      "text/plain": [
       " \n",
       "                                    %e - 1\n",
       "                                    ------\n",
       "                                      2"
      ]
     },
     "execution_count": 7,
     "metadata": {},
     "output_type": "execute_result"
    }
   ],
   "source": [
    "m\"integrate(integrate(exp(y^2), y, x, 1), x, 0, 1)\" |> mcall"
   ]
  },
  {
   "cell_type": "code",
   "execution_count": 8,
   "id": "f2ae79d3-cf65-48a1-86cc-621e2e17cf11",
   "metadata": {},
   "outputs": [
    {
     "data": {
      "text/latex": [
       " \n",
       "$${{e}\\over{2}}-{{1}\\over{2}}$$"
      ],
      "text/plain": [
       " \n",
       "                                    %e   1\n",
       "                                    -- - -\n",
       "                                    2    2"
      ]
     },
     "execution_count": 8,
     "metadata": {},
     "output_type": "execute_result"
    }
   ],
   "source": [
    "m\"integrate(integrate(exp(y^2), x, 0, y), y, 0, 1)\" |> mcall"
   ]
  },
  {
   "cell_type": "code",
   "execution_count": 9,
   "id": "048b0bf1-4fa5-4c69-9a87-7130dbf77498",
   "metadata": {},
   "outputs": [
    {
     "data": {
      "text/latex": [
       " \n",
       "$$x\\,\\log \\sin x-{{x\\,\\log \\left(\\sin ^2x+\\cos ^2x+2\\,\\cos x+1\\right)\n",
       " +x\\,\\log \\left(\\sin ^2x+\\cos ^2x-2\\,\\cos x+1\\right)+2\\,i\\,x\\,\n",
       " {\\rm atan2}\\left(\\sin x , \\cos x+1\\right)-2\\,i\\,x\\,{\\rm atan2}\\left(\n",
       " \\sin x , 1-\\cos x\\right)-2\\,i\\,{\\it li}_{2}(e^{i\\,x})-2\\,i\\,{\\it li}\n",
       " _{2}(-e^{i\\,x})-i\\,x^2}\\over{2}}$$"
      ],
      "text/plain": [
       " \n",
       "                           2         2\n",
       " x log(sin(x)) - (x log(sin (x) + cos (x) + 2 cos(x) + 1)\n",
       "            2         2\n",
       " + x log(sin (x) + cos (x) - 2 cos(x) + 1) + 2 %i x atan2(sin(x), cos(x) + 1)\n",
       "                                                 %i x                 %i x\n",
       " - 2 %i x atan2(sin(x), 1 - cos(x)) - 2 %i li (%e    ) - 2 %i li (- %e    )\n",
       "                                             2                  2\n",
       "       2\n",
       " - %i x )/2"
      ]
     },
     "execution_count": 9,
     "metadata": {},
     "output_type": "execute_result"
    }
   ],
   "source": [
    "m\"integrate(log(sin(x)), x)\" |> mcall"
   ]
  },
  {
   "cell_type": "code",
   "execution_count": null,
   "id": "4f457e1d-20f9-4c87-bc46-2cf1b268b7ed",
   "metadata": {},
   "outputs": [],
   "source": []
  }
 ],
 "metadata": {
  "jupytext": {
   "formats": "ipynb,md"
  },
  "kernelspec": {
   "display_name": "Julia 1.7.1",
   "language": "julia",
   "name": "julia-1.7"
  },
  "language_info": {
   "file_extension": ".jl",
   "mimetype": "application/julia",
   "name": "julia",
   "version": "1.7.1"
  }
 },
 "nbformat": 4,
 "nbformat_minor": 5
}
