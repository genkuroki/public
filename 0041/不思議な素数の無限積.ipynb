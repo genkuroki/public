{
 "cells": [
  {
   "cell_type": "markdown",
   "id": "a3732ad3-fac6-4e7b-b330-5c1866a28f0b",
   "metadata": {},
   "source": [
    "https://twitter.com/servantprime/status/1639387897790083075\n",
    "\n",
    "<img src=\"73B62EC9-41F9-4E30-B6FC-3664F7D461AE.jpeg\" width=60%>"
   ]
  },
  {
   "cell_type": "code",
   "execution_count": 1,
   "id": "c84ad829-a5aa-40e5-a62c-211a25d776fb",
   "metadata": {},
   "outputs": [
    {
     "name": "stdout",
     "output_type": "stream",
     "text": [
      "length(P) = 50847534\n",
      "prod(((p ^ 2 + 1) / (p ^ 2 - 1) for p = P)) = 2.499999999260539\n"
     ]
    }
   ],
   "source": [
    "using Primes\n",
    "\n",
    "n = 10^9\n",
    "P = primes(n)\n",
    "@show length(P)\n",
    "@show prod((p^2 + 1) / (p^2 - 1) for p in P);"
   ]
  },
  {
   "cell_type": "code",
   "execution_count": 2,
   "id": "13c16ae9-2d02-49dc-ba19-e23d8bac6ca6",
   "metadata": {},
   "outputs": [
    {
     "name": "stdout",
     "output_type": "stream",
     "text": [
      "a = 0.6079271019431028\n",
      "b = 1.5198177542142146\n",
      "a * b = 0.9239384028011225\n",
      "c = 0.9239384029248213\n",
      "6 / π ^ 2 = 0.6079271018540267\n",
      "90 / π ^ 4 = 0.9239384029215902\n",
      "b / a = 2.4999999989414152\n",
      "(90 / 6) / 6 = 2.5\n"
     ]
    }
   ],
   "source": [
    "a = prod(1 - 1/p^2 for p in P)\n",
    "b = prod(1 + 1/p^2 for p in P)\n",
    "c = prod(1 - 1/p^4 for p in P)\n",
    "@show a b a*b c 6/π^2 90/π^4 b/a (90/6)/6;"
   ]
  },
  {
   "cell_type": "code",
   "execution_count": null,
   "id": "3e61eb3a-9c22-44bc-8dd0-1e6f6c80e141",
   "metadata": {},
   "outputs": [],
   "source": []
  }
 ],
 "metadata": {
  "jupytext": {
   "formats": "ipynb,jl:hydrogen"
  },
  "kernelspec": {
   "display_name": "Julia 1.9.0",
   "language": "julia",
   "name": "julia-1.9"
  },
  "language_info": {
   "file_extension": ".jl",
   "mimetype": "application/julia",
   "name": "julia",
   "version": "1.9.0"
  }
 },
 "nbformat": 4,
 "nbformat_minor": 5
}
