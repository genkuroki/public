{
 "cells": [
  {
   "cell_type": "code",
   "execution_count": 1,
   "id": "e6f7c14c-a3fc-4e54-ac1b-cbed187f0d4e",
   "metadata": {},
   "outputs": [
    {
     "name": "stdout",
     "output_type": "stream",
     "text": [
      "AbstractVector\n",
      "├─ AbstractRange\n",
      "│  ├─ LinRange\n",
      "│  ├─ OrdinalRange\n",
      "│  │  ├─ AbstractUnitRange\n",
      "│  │  │  ├─ IdentityUnitRange\n",
      "│  │  │  ├─ OneTo\n",
      "│  │  │  ├─ Slice\n",
      "│  │  │  └─ UnitRange\n",
      "│  │  └─ StepRange\n",
      "│  └─ StepRangeLen\n",
      "├─ AbstractSlices{T, 1} where T\n",
      "│  └─ Slices{P, SM, AX, S, 1} where {P, SM, AX, S}\n",
      "├─ ExceptionStack\n",
      "├─ LogicalIndex\n",
      "├─ MethodList\n",
      "├─ ReinterpretArray{T, 1, S} where {T, S}\n",
      "├─ ReshapedArray{T, 1} where T\n",
      "├─ WithoutMissingVector\n",
      "├─ BitVector\n",
      "├─ CartesianIndices{1, R} where R<:Tuple{OrdinalRange{Int64, Int64}}\n",
      "├─ AbstractRange\n",
      "│  ├─ LinRange\n",
      "│  ├─ OrdinalRange\n",
      "│  │  ├─ AbstractUnitRange\n",
      "│  │  │  ├─ IdentityUnitRange\n",
      "│  │  │  ├─ OneTo\n",
      "│  │  │  ├─ Slice\n",
      "│  │  │  ├─ StmtRange\n",
      "│  │  │  └─ UnitRange\n",
      "│  │  └─ StepRange\n",
      "│  └─ StepRangeLen\n",
      "├─ BitArray{1}\n",
      "├─ ExceptionStack\n",
      "├─ LinearIndices{1, R} where R<:Tuple{AbstractUnitRange{Int64}}\n",
      "├─ MethodList\n",
      "├─ TwoPhaseDefUseMap\n",
      "├─ TwoPhaseVectorView\n",
      "├─ DenseVector\n",
      "│  ├─ CodeUnits\n",
      "│  ├─ Const{T, 1} where T\n",
      "│  ├─ UnsafeView\n",
      "│  ├─ SharedVector\n",
      "│  └─ Vector\n",
      "├─ LinearIndices{1, R} where R<:Tuple{AbstractUnitRange{Int64}}\n",
      "├─ PermutedDimsArray{T, 1} where T\n",
      "├─ AbstractSparseVector\n",
      "│  └─ AbstractCompressedVector\n",
      "│     ├─ FixedSparseVector\n",
      "│     └─ SparseVector\n",
      "├─ ReadOnly{T, 1, V} where {T, V<:AbstractVector{T}}\n",
      "├─ SubArray{T, 1} where T\n",
      "├─ GenericArray{T, 1} where T\n",
      "└─ Message\n"
     ]
    }
   ],
   "source": [
    "using AbstractTrees\n",
    "AbstractTrees.children(T::Type) = subtypes(T)\n",
    "print_tree(AbstractVector)"
   ]
  },
  {
   "cell_type": "code",
   "execution_count": 12,
   "id": "ed17b609-5041-42ce-ab33-2f2ac9256a2c",
   "metadata": {},
   "outputs": [],
   "source": [
    "using MetaUtils"
   ]
  },
  {
   "cell_type": "code",
   "execution_count": 13,
   "id": "6b2b36ce-de84-4ba4-9bba-5ca66f2c132c",
   "metadata": {},
   "outputs": [
    {
     "name": "stdout",
     "output_type": "stream",
     "text": [
      "Expr(:let, \n",
      "    Expr(:block, \n",
      "        Expr(:(=), :n, \n",
      "            Expr(:call, :^, 10, 8)), \n",
      "        Expr(:(=), :c, 0)), \n",
      "    Expr(:block, \n",
      "        Expr(:for, \n",
      "            Expr(:(=), :_, \n",
      "                Expr(:call, :(:), 1, :n)), \n",
      "            Expr(:block, \n",
      "                Expr(:+=, :c, \n",
      "                    Expr(:call, :≤, \n",
      "                        Expr(:call, :+, \n",
      "                            Expr(:call, :^, \n",
      "                                Expr(:call, :rand), 2), \n",
      "                            Expr(:call, :^, \n",
      "                                Expr(:call, :rand), 2)), 1)))), \n",
      "        Expr(:call, :/, \n",
      "            Expr(:call, :*, 4, :c), :n)))"
     ]
    }
   ],
   "source": [
    "@show_expr let n = 10^8, c = 0\n",
    "    for _ in 1:n c += rand()^2 + rand()^2 ≤ 1 end\n",
    "    4c/n\n",
    "end"
   ]
  },
  {
   "cell_type": "code",
   "execution_count": 15,
   "id": "fe410482-b1e4-4e19-9872-1ac600fcbafa",
   "metadata": {},
   "outputs": [
    {
     "name": "stdout",
     "output_type": "stream",
     "text": [
      "(:let, \n",
      "    (:block, \n",
      "        (:(=), :n, \n",
      "            (:call, :^, 10, 8)), \n",
      "        (:(=), :c, 0)), \n",
      "    (:block, \n",
      "        (:for, \n",
      "            (:(=), :_, \n",
      "                (:call, :(:), 1, :n)), \n",
      "            (:block, \n",
      "                (:+=, :c, \n",
      "                    (:call, :≤, \n",
      "                        (:call, :+, \n",
      "                            (:call, :^, \n",
      "                                (:call, :rand), 2), \n",
      "                            (:call, :^, \n",
      "                                (:call, :rand), 2)), 1)))), \n",
      "        (:call, :/, \n",
      "            (:call, :*, 4, :c), :n)))"
     ]
    }
   ],
   "source": [
    "@show_texpr let n = 10^8, c = 0\n",
    "    for _ in 1:n c += rand()^2 + rand()^2 ≤ 1 end\n",
    "    4c/n\n",
    "end"
   ]
  },
  {
   "cell_type": "code",
   "execution_count": 14,
   "id": "b7e49065-220c-4c90-8e34-110b8534d072",
   "metadata": {},
   "outputs": [
    {
     "data": {
      "text/plain": [
       "3.14213592"
      ]
     },
     "execution_count": 14,
     "metadata": {},
     "output_type": "execute_result"
    }
   ],
   "source": [
    "let n = 10^8, c = 0\n",
    "    for _ in 1:n c += rand()^2 + rand()^2 ≤ 1 end\n",
    "    4c/n\n",
    "end"
   ]
  },
  {
   "cell_type": "code",
   "execution_count": 16,
   "id": "5d735038-a81c-4e3e-8d7d-04e76a17fd40",
   "metadata": {},
   "outputs": [
    {
     "data": {
      "text/plain": [
       "1:5"
      ]
     },
     "execution_count": 16,
     "metadata": {},
     "output_type": "execute_result"
    }
   ],
   "source": [
    "v = 1:5"
   ]
  },
  {
   "cell_type": "code",
   "execution_count": 17,
   "id": "5cb5d8d0-6709-4f85-bbf8-aa7d8ea62f5d",
   "metadata": {},
   "outputs": [
    {
     "data": {
      "text/plain": [
       "UnitRange{Int64}"
      ]
     },
     "execution_count": 17,
     "metadata": {},
     "output_type": "execute_result"
    }
   ],
   "source": [
    "typeof(v)"
   ]
  },
  {
   "cell_type": "code",
   "execution_count": 18,
   "id": "4ff5b7ec-a071-4e87-8b75-9d56e1d18967",
   "metadata": {},
   "outputs": [
    {
     "data": {
      "text/plain": [
       "AbstractUnitRange{Int64}"
      ]
     },
     "execution_count": 18,
     "metadata": {},
     "output_type": "execute_result"
    }
   ],
   "source": [
    "typeof(v) |> supertype"
   ]
  },
  {
   "cell_type": "code",
   "execution_count": 19,
   "id": "93bc5bb9-b742-4ad6-aa24-8733462820b5",
   "metadata": {},
   "outputs": [
    {
     "data": {
      "text/plain": [
       "OrdinalRange{Int64, Int64}"
      ]
     },
     "execution_count": 19,
     "metadata": {},
     "output_type": "execute_result"
    }
   ],
   "source": [
    "typeof(v) |> supertype |> supertype"
   ]
  },
  {
   "cell_type": "code",
   "execution_count": 20,
   "id": "b43055cf-e1db-4027-b5f6-a12d60149140",
   "metadata": {},
   "outputs": [
    {
     "data": {
      "text/plain": [
       "AbstractRange{Int64}"
      ]
     },
     "execution_count": 20,
     "metadata": {},
     "output_type": "execute_result"
    }
   ],
   "source": [
    "typeof(v) |> supertype |> supertype |> supertype"
   ]
  },
  {
   "cell_type": "code",
   "execution_count": 21,
   "id": "f4c27bb6-fc32-4dfb-80be-190fb44217a0",
   "metadata": {},
   "outputs": [
    {
     "data": {
      "text/plain": [
       "AbstractVector{Int64}\u001b[90m (alias for \u001b[39m\u001b[90mAbstractArray{Int64, 1}\u001b[39m\u001b[90m)\u001b[39m"
      ]
     },
     "execution_count": 21,
     "metadata": {},
     "output_type": "execute_result"
    }
   ],
   "source": [
    "typeof(v) |> supertype |> supertype |> supertype |> supertype"
   ]
  },
  {
   "cell_type": "code",
   "execution_count": 1,
   "id": "50ac8793-a1dc-4a25-ad35-1aa58b2ebdca",
   "metadata": {},
   "outputs": [
    {
     "ename": "LoadError",
     "evalue": "DomainError with -1.0:\nlog will only return a complex result if called with a complex argument. Try log(Complex(x)).",
     "output_type": "error",
     "traceback": [
      "DomainError with -1.0:\nlog will only return a complex result if called with a complex argument. Try log(Complex(x)).",
      "",
      "Stacktrace:",
      " [1] throw_complex_domainerror(f::Symbol, x::Float64)",
      "   @ Base.Math .\\math.jl:33",
      " [2] _log(x::Float64, base::Val{:ℯ}, func::Symbol)",
      "   @ Base.Math .\\special\\log.jl:301",
      " [3] log",
      "   @ .\\special\\log.jl:267 [inlined]",
      " [4] log(x::Int64)",
      "   @ Base.Math .\\math.jl:1491",
      " [5] top-level scope",
      "   @ In[1]:1"
     ]
    }
   ],
   "source": [
    "log(-1)"
   ]
  },
  {
   "cell_type": "code",
   "execution_count": null,
   "id": "4f92e6e6-b419-40b5-815b-b6214e49cdd7",
   "metadata": {},
   "outputs": [],
   "source": []
  }
 ],
 "metadata": {
  "kernelspec": {
   "display_name": "Julia 1.9.0-beta4",
   "language": "julia",
   "name": "julia-1.9"
  },
  "language_info": {
   "file_extension": ".jl",
   "mimetype": "application/julia",
   "name": "julia",
   "version": "1.9.0"
  }
 },
 "nbformat": 4,
 "nbformat_minor": 5
}
