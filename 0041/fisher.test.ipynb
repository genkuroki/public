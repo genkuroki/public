{
 "cells": [
  {
   "cell_type": "code",
   "execution_count": 1,
   "id": "d08e4dfc-a9be-4dfc-b377-9648502ff154",
   "metadata": {},
   "outputs": [],
   "source": [
    "using DataFrames\n",
    "using Distributions\n",
    "using RCall"
   ]
  },
  {
   "cell_type": "code",
   "execution_count": 2,
   "id": "04f4daa5-05e7-4f0e-b193-b67b30f96292",
   "metadata": {},
   "outputs": [
    {
     "data": {
      "text/plain": [
       "makedf (generic function with 1 method)"
      ]
     },
     "execution_count": 2,
     "metadata": {},
     "output_type": "execute_result"
    }
   ],
   "source": [
    "x ⪅ y = x < y || x ≈ y\n",
    "\n",
    "function pvalue_fisher_yoshida(a, b, c, d)\n",
    "    hg = Hypergeometric(a+b, c+d, a+c)\n",
    "    p_lower = cdf(hg, a)\n",
    "    p_higher = ccdf(hg, a-1)\n",
    "    p = 0.0\n",
    "    if p_lower > p_higher\n",
    "        for j in support(hg)\n",
    "            p_j = pdf(hg, j)\n",
    "            p + p_j ⪅ p_higher || break\n",
    "            p += p_j\n",
    "        end\n",
    "        p += p_higher\n",
    "    else\n",
    "        for j in reverse(support(hg))\n",
    "            p_j = pdf(hg, j)\n",
    "            p + p_j ⪅ p_lower || break\n",
    "            p += p_j\n",
    "        end\n",
    "        p += p_lower\n",
    "    end\n",
    "    p\n",
    "end\n",
    "\n",
    "function pvalue_fisher(a, b, c, d)\n",
    "    hg = Hypergeometric(a+b, c+d, a+c)\n",
    "    p_a = pdf(hg, a)\n",
    "    sum(pdf(hg, j) for j in support(hg) if pdf(hg, j) ⪅ p_a)\n",
    "end\n",
    "\n",
    "function makedf(a, b, c, d)\n",
    "    @show a, b, c, d\n",
    "    hg = Hypergeometric(a+b, c+d, a+c)\n",
    "    j = reverse(support(hg))\n",
    "    df = DataFrame(\n",
    "    j = j, \n",
    "        var\"j=a\" = @.(Int(j == a)), \n",
    "        var\"P(j)≤P(a)\" = @.(Int(pdf(hg, j) ⪅ pdf(hg, a))),\n",
    "        var\"P(j)\" = @.(pdf(hg, j)),\n",
    "        var\"P(≥j)\" = @.(ccdf(hg, j-1)),\n",
    "        var\"P(≤j)\" = @.(cdf(hg, j))\n",
    "    )\n",
    "end"
   ]
  },
  {
   "cell_type": "code",
   "execution_count": 3,
   "id": "33783078-f063-4f41-98ef-202dea46f3fe",
   "metadata": {},
   "outputs": [
    {
     "data": {
      "text/plain": [
       "2×2 Matrix{Int64}:\n",
       " 12  3\n",
       "  6  8"
      ]
     },
     "execution_count": 3,
     "metadata": {},
     "output_type": "execute_result"
    }
   ],
   "source": [
    "A = [\n",
    "    12 3\n",
    "     6 8\n",
    "]"
   ]
  },
  {
   "cell_type": "code",
   "execution_count": 4,
   "id": "c55c8dc4-a2e1-41ab-8eba-7aa9271f504c",
   "metadata": {},
   "outputs": [
    {
     "name": "stdout",
     "output_type": "stream",
     "text": [
      "(a, b, c, d) = (12, 6, 3, 8)\n"
     ]
    },
    {
     "data": {
      "text/html": [
       "<div><div style = \"float: left;\"><span>12×6 DataFrame</span></div><div style = \"clear: both;\"></div></div><div class = \"data-frame\" style = \"overflow-x: scroll;\"><table class = \"data-frame\" style = \"margin-bottom: 6px;\"><thead><tr class = \"header\"><th class = \"rowNumber\" style = \"font-weight: bold; text-align: right;\">Row</th><th style = \"text-align: left;\">j</th><th style = \"text-align: left;\">j=a</th><th style = \"text-align: left;\">P(j)≤P(a)</th><th style = \"text-align: left;\">P(j)</th><th style = \"text-align: left;\">P(≥j)</th><th style = \"text-align: left;\">P(≤j)</th></tr><tr class = \"subheader headerLastRow\"><th class = \"rowNumber\" style = \"font-weight: bold; text-align: right;\"></th><th title = \"Int64\" style = \"text-align: left;\">Int64</th><th title = \"Int64\" style = \"text-align: left;\">Int64</th><th title = \"Int64\" style = \"text-align: left;\">Int64</th><th title = \"Float64\" style = \"text-align: left;\">Float64</th><th title = \"Float64\" style = \"text-align: left;\">Float64</th><th title = \"Float64\" style = \"text-align: left;\">Float64</th></tr></thead><tbody><tr><td class = \"rowNumber\" style = \"font-weight: bold; text-align: right;\">1</td><td style = \"text-align: right;\">15</td><td style = \"text-align: right;\">0</td><td style = \"text-align: right;\">1</td><td style = \"text-align: right;\">1.05211e-5</td><td style = \"text-align: right;\">1.05211e-5</td><td style = \"text-align: right;\">1.0</td></tr><tr><td class = \"rowNumber\" style = \"font-weight: bold; text-align: right;\">2</td><td style = \"text-align: right;\">14</td><td style = \"text-align: right;\">0</td><td style = \"text-align: right;\">1</td><td style = \"text-align: right;\">0.000433994</td><td style = \"text-align: right;\">0.000444515</td><td style = \"text-align: right;\">0.999989</td></tr><tr><td class = \"rowNumber\" style = \"font-weight: bold; text-align: right;\">3</td><td style = \"text-align: right;\">13</td><td style = \"text-align: right;\">0</td><td style = \"text-align: right;\">1</td><td style = \"text-align: right;\">0.00607591</td><td style = \"text-align: right;\">0.00652042</td><td style = \"text-align: right;\">0.999555</td></tr><tr><td class = \"rowNumber\" style = \"font-weight: bold; text-align: right;\">4</td><td style = \"text-align: right;\">12</td><td style = \"text-align: right;\">1</td><td style = \"text-align: right;\">1</td><td style = \"text-align: right;\">0.0394934</td><td style = \"text-align: right;\">0.0460138</td><td style = \"text-align: right;\">0.99348</td></tr><tr><td class = \"rowNumber\" style = \"font-weight: bold; text-align: right;\">5</td><td style = \"text-align: right;\">11</td><td style = \"text-align: right;\">0</td><td style = \"text-align: right;\">0</td><td style = \"text-align: right;\">0.135406</td><td style = \"text-align: right;\">0.18142</td><td style = \"text-align: right;\">0.953986</td></tr><tr><td class = \"rowNumber\" style = \"font-weight: bold; text-align: right;\">6</td><td style = \"text-align: right;\">10</td><td style = \"text-align: right;\">0</td><td style = \"text-align: right;\">0</td><td style = \"text-align: right;\">0.260657</td><td style = \"text-align: right;\">0.442076</td><td style = \"text-align: right;\">0.81858</td></tr><tr><td class = \"rowNumber\" style = \"font-weight: bold; text-align: right;\">7</td><td style = \"text-align: right;\">9</td><td style = \"text-align: right;\">0</td><td style = \"text-align: right;\">0</td><td style = \"text-align: right;\">0.289618</td><td style = \"text-align: right;\">0.731695</td><td style = \"text-align: right;\">0.557924</td></tr><tr><td class = \"rowNumber\" style = \"font-weight: bold; text-align: right;\">8</td><td style = \"text-align: right;\">8</td><td style = \"text-align: right;\">0</td><td style = \"text-align: right;\">0</td><td style = \"text-align: right;\">0.186183</td><td style = \"text-align: right;\">0.917878</td><td style = \"text-align: right;\">0.268305</td></tr><tr><td class = \"rowNumber\" style = \"font-weight: bold; text-align: right;\">9</td><td style = \"text-align: right;\">7</td><td style = \"text-align: right;\">0</td><td style = \"text-align: right;\">0</td><td style = \"text-align: right;\">0.067703</td><td style = \"text-align: right;\">0.985581</td><td style = \"text-align: right;\">0.0821221</td></tr><tr><td class = \"rowNumber\" style = \"font-weight: bold; text-align: right;\">10</td><td style = \"text-align: right;\">6</td><td style = \"text-align: right;\">0</td><td style = \"text-align: right;\">1</td><td style = \"text-align: right;\">0.0131645</td><td style = \"text-align: right;\">0.998745</td><td style = \"text-align: right;\">0.0144191</td></tr><tr><td class = \"rowNumber\" style = \"font-weight: bold; text-align: right;\">11</td><td style = \"text-align: right;\">5</td><td style = \"text-align: right;\">0</td><td style = \"text-align: right;\">1</td><td style = \"text-align: right;\">0.00121518</td><td style = \"text-align: right;\">0.999961</td><td style = \"text-align: right;\">0.00125464</td></tr><tr><td class = \"rowNumber\" style = \"font-weight: bold; text-align: right;\">12</td><td style = \"text-align: right;\">4</td><td style = \"text-align: right;\">0</td><td style = \"text-align: right;\">1</td><td style = \"text-align: right;\">3.9454e-5</td><td style = \"text-align: right;\">1.0</td><td style = \"text-align: right;\">3.9454e-5</td></tr></tbody></table></div>"
      ],
      "text/latex": [
       "\\begin{tabular}{r|cccccc}\n",
       "\t& j & j=a & P(j)≤P(a) & P(j) & P(≥j) & P(≤j)\\\\\n",
       "\t\\hline\n",
       "\t& Int64 & Int64 & Int64 & Float64 & Float64 & Float64\\\\\n",
       "\t\\hline\n",
       "\t1 & 15 & 0 & 1 & 1.05211e-5 & 1.05211e-5 & 1.0 \\\\\n",
       "\t2 & 14 & 0 & 1 & 0.000433994 & 0.000444515 & 0.999989 \\\\\n",
       "\t3 & 13 & 0 & 1 & 0.00607591 & 0.00652042 & 0.999555 \\\\\n",
       "\t4 & 12 & 1 & 1 & 0.0394934 & 0.0460138 & 0.99348 \\\\\n",
       "\t5 & 11 & 0 & 0 & 0.135406 & 0.18142 & 0.953986 \\\\\n",
       "\t6 & 10 & 0 & 0 & 0.260657 & 0.442076 & 0.81858 \\\\\n",
       "\t7 & 9 & 0 & 0 & 0.289618 & 0.731695 & 0.557924 \\\\\n",
       "\t8 & 8 & 0 & 0 & 0.186183 & 0.917878 & 0.268305 \\\\\n",
       "\t9 & 7 & 0 & 0 & 0.067703 & 0.985581 & 0.0821221 \\\\\n",
       "\t10 & 6 & 0 & 1 & 0.0131645 & 0.998745 & 0.0144191 \\\\\n",
       "\t11 & 5 & 0 & 1 & 0.00121518 & 0.999961 & 0.00125464 \\\\\n",
       "\t12 & 4 & 0 & 1 & 3.9454e-5 & 1.0 & 3.9454e-5 \\\\\n",
       "\\end{tabular}\n"
      ],
      "text/plain": [
       "\u001b[1m12×6 DataFrame\u001b[0m\n",
       "\u001b[1m Row \u001b[0m│\u001b[1m j     \u001b[0m\u001b[1m j=a   \u001b[0m\u001b[1m P(j)≤P(a) \u001b[0m\u001b[1m P(j)        \u001b[0m\u001b[1m P(≥j)       \u001b[0m\u001b[1m P(≤j)      \u001b[0m\n",
       "     │\u001b[90m Int64 \u001b[0m\u001b[90m Int64 \u001b[0m\u001b[90m Int64     \u001b[0m\u001b[90m Float64     \u001b[0m\u001b[90m Float64     \u001b[0m\u001b[90m Float64    \u001b[0m\n",
       "─────┼───────────────────────────────────────────────────────────────\n",
       "   1 │    15      0          1  1.05211e-5   1.05211e-5   1.0\n",
       "   2 │    14      0          1  0.000433994  0.000444515  0.999989\n",
       "   3 │    13      0          1  0.00607591   0.00652042   0.999555\n",
       "   4 │    12      1          1  0.0394934    0.0460138    0.99348\n",
       "   5 │    11      0          0  0.135406     0.18142      0.953986\n",
       "   6 │    10      0          0  0.260657     0.442076     0.81858\n",
       "   7 │     9      0          0  0.289618     0.731695     0.557924\n",
       "   8 │     8      0          0  0.186183     0.917878     0.268305\n",
       "   9 │     7      0          0  0.067703     0.985581     0.0821221\n",
       "  10 │     6      0          1  0.0131645    0.998745     0.0144191\n",
       "  11 │     5      0          1  0.00121518   0.999961     0.00125464\n",
       "  12 │     4      0          1  3.9454e-5    1.0          3.9454e-5"
      ]
     },
     "execution_count": 4,
     "metadata": {},
     "output_type": "execute_result"
    }
   ],
   "source": [
    "makedf(A...)"
   ]
  },
  {
   "cell_type": "code",
   "execution_count": 5,
   "id": "b68da7b8-aeb7-4f4f-b11c-51bfb669f755",
   "metadata": {},
   "outputs": [
    {
     "data": {
      "text/plain": [
       "RObject{RealSxp}\n",
       "[1] 0.06043294\n"
      ]
     },
     "execution_count": 5,
     "metadata": {},
     "output_type": "execute_result"
    }
   ],
   "source": [
    "@rput A\n",
    "R\"\"\"fisher.test(A)$p.value\"\"\""
   ]
  },
  {
   "cell_type": "code",
   "execution_count": 6,
   "id": "180c372e-c6c7-41a0-9573-4bf435ba10c6",
   "metadata": {},
   "outputs": [
    {
     "data": {
      "text/plain": [
       "RObject{RealSxp}\n",
       "[1] 0.06043294\n"
      ]
     },
     "execution_count": 6,
     "metadata": {},
     "output_type": "execute_result"
    }
   ],
   "source": [
    "R\"\"\"\n",
    "a <- 15\n",
    "b <- 14\n",
    "n <- 18\n",
    "x <- 12\n",
    "x1 <- c(4:6)\n",
    "x2 <- c(12:15)\n",
    " \n",
    "sum(\n",
    "    dhyper(x = x1, m = a, n = b, k = n),\n",
    "    dhyper(x = x2, m = a, n = b, k = n)\n",
    "    )\n",
    "\"\"\""
   ]
  },
  {
   "cell_type": "code",
   "execution_count": 7,
   "id": "e535f75f-646e-4138-a18b-1f202762f4da",
   "metadata": {},
   "outputs": [
    {
     "data": {
      "text/plain": [
       "0.06043294142402479"
      ]
     },
     "execution_count": 7,
     "metadata": {},
     "output_type": "execute_result"
    }
   ],
   "source": [
    "pvalue_fisher(A...)"
   ]
  },
  {
   "cell_type": "code",
   "execution_count": 8,
   "id": "705333ab-7e62-4fee-ae62-8f6f2843fd6a",
   "metadata": {},
   "outputs": [
    {
     "data": {
      "text/plain": [
       "0.06043294142402479"
      ]
     },
     "execution_count": 8,
     "metadata": {},
     "output_type": "execute_result"
    }
   ],
   "source": [
    "pvalue_fisher_yoshida(A...)"
   ]
  },
  {
   "cell_type": "code",
   "execution_count": 9,
   "id": "da1fd1e2-f14b-45b9-a826-0a819c326f03",
   "metadata": {},
   "outputs": [
    {
     "name": "stdout",
     "output_type": "stream",
     "text": [
      "A = [8 2; 10 10]\n"
     ]
    }
   ],
   "source": [
    "for _ in 1:1000\n",
    "    A = rand(2:10, 2, 2)\n",
    "    if !(pvalue_fisher(A...) ≈ pvalue_fisher_yoshida(A...)) && pvalue_fisher(A...) < 0.3\n",
    "        @show A\n",
    "        break\n",
    "    end\n",
    "end"
   ]
  },
  {
   "cell_type": "code",
   "execution_count": 10,
   "id": "73e9c27a-1654-4a07-a03e-22e2f7ff9743",
   "metadata": {},
   "outputs": [
    {
     "data": {
      "text/plain": [
       "2×2 Matrix{Int64}:\n",
       " 7   8\n",
       " 2  10"
      ]
     },
     "execution_count": 10,
     "metadata": {},
     "output_type": "execute_result"
    }
   ],
   "source": [
    "A = [\n",
    "    7  8\n",
    "    2 10\n",
    "]"
   ]
  },
  {
   "cell_type": "code",
   "execution_count": 11,
   "id": "10df43c0-e61e-43c5-801f-60aca32d0d7a",
   "metadata": {},
   "outputs": [
    {
     "name": "stdout",
     "output_type": "stream",
     "text": [
      "(a, b, c, d) = (7, 2, 8, 10)\n"
     ]
    },
    {
     "data": {
      "text/html": [
       "<div><div style = \"float: left;\"><span>10×6 DataFrame</span></div><div style = \"clear: both;\"></div></div><div class = \"data-frame\" style = \"overflow-x: scroll;\"><table class = \"data-frame\" style = \"margin-bottom: 6px;\"><thead><tr class = \"header\"><th class = \"rowNumber\" style = \"font-weight: bold; text-align: right;\">Row</th><th style = \"text-align: left;\">j</th><th style = \"text-align: left;\">j=a</th><th style = \"text-align: left;\">P(j)≤P(a)</th><th style = \"text-align: left;\">P(j)</th><th style = \"text-align: left;\">P(≥j)</th><th style = \"text-align: left;\">P(≤j)</th></tr><tr class = \"subheader headerLastRow\"><th class = \"rowNumber\" style = \"font-weight: bold; text-align: right;\"></th><th title = \"Int64\" style = \"text-align: left;\">Int64</th><th title = \"Int64\" style = \"text-align: left;\">Int64</th><th title = \"Int64\" style = \"text-align: left;\">Int64</th><th title = \"Float64\" style = \"text-align: left;\">Float64</th><th title = \"Float64\" style = \"text-align: left;\">Float64</th><th title = \"Float64\" style = \"text-align: left;\">Float64</th></tr></thead><tbody><tr><td class = \"rowNumber\" style = \"font-weight: bold; text-align: right;\">1</td><td style = \"text-align: right;\">9</td><td style = \"text-align: right;\">0</td><td style = \"text-align: right;\">1</td><td style = \"text-align: right;\">0.00106789</td><td style = \"text-align: right;\">0.00106789</td><td style = \"text-align: right;\">1.0</td></tr><tr><td class = \"rowNumber\" style = \"font-weight: bold; text-align: right;\">2</td><td style = \"text-align: right;\">8</td><td style = \"text-align: right;\">0</td><td style = \"text-align: right;\">1</td><td style = \"text-align: right;\">0.016476</td><td style = \"text-align: right;\">0.0175439</td><td style = \"text-align: right;\">0.998932</td></tr><tr><td class = \"rowNumber\" style = \"font-weight: bold; text-align: right;\">3</td><td style = \"text-align: right;\">7</td><td style = \"text-align: right;\">1</td><td style = \"text-align: right;\">1</td><td style = \"text-align: right;\">0.0906178</td><td style = \"text-align: right;\">0.108162</td><td style = \"text-align: right;\">0.982456</td></tr><tr><td class = \"rowNumber\" style = \"font-weight: bold; text-align: right;\">4</td><td style = \"text-align: right;\">6</td><td style = \"text-align: right;\">0</td><td style = \"text-align: right;\">0</td><td style = \"text-align: right;\">0.234935</td><td style = \"text-align: right;\">0.343097</td><td style = \"text-align: right;\">0.891838</td></tr><tr><td class = \"rowNumber\" style = \"font-weight: bold; text-align: right;\">5</td><td style = \"text-align: right;\">5</td><td style = \"text-align: right;\">0</td><td style = \"text-align: right;\">0</td><td style = \"text-align: right;\">0.317162</td><td style = \"text-align: right;\">0.660259</td><td style = \"text-align: right;\">0.656903</td></tr><tr><td class = \"rowNumber\" style = \"font-weight: bold; text-align: right;\">6</td><td style = \"text-align: right;\">4</td><td style = \"text-align: right;\">0</td><td style = \"text-align: right;\">0</td><td style = \"text-align: right;\">0.230664</td><td style = \"text-align: right;\">0.890923</td><td style = \"text-align: right;\">0.339741</td></tr><tr><td class = \"rowNumber\" style = \"font-weight: bold; text-align: right;\">7</td><td style = \"text-align: right;\">3</td><td style = \"text-align: right;\">0</td><td style = \"text-align: right;\">1</td><td style = \"text-align: right;\">0.0897025</td><td style = \"text-align: right;\">0.980625</td><td style = \"text-align: right;\">0.109077</td></tr><tr><td class = \"rowNumber\" style = \"font-weight: bold; text-align: right;\">8</td><td style = \"text-align: right;\">2</td><td style = \"text-align: right;\">0</td><td style = \"text-align: right;\">1</td><td style = \"text-align: right;\">0.0177434</td><td style = \"text-align: right;\">0.998369</td><td style = \"text-align: right;\">0.0193745</td></tr><tr><td class = \"rowNumber\" style = \"font-weight: bold; text-align: right;\">9</td><td style = \"text-align: right;\">1</td><td style = \"text-align: right;\">0</td><td style = \"text-align: right;\">1</td><td style = \"text-align: right;\">0.00158423</td><td style = \"text-align: right;\">0.999953</td><td style = \"text-align: right;\">0.00163117</td></tr><tr><td class = \"rowNumber\" style = \"font-weight: bold; text-align: right;\">10</td><td style = \"text-align: right;\">0</td><td style = \"text-align: right;\">0</td><td style = \"text-align: right;\">1</td><td style = \"text-align: right;\">4.69401e-5</td><td style = \"text-align: right;\">1.0</td><td style = \"text-align: right;\">4.69401e-5</td></tr></tbody></table></div>"
      ],
      "text/latex": [
       "\\begin{tabular}{r|cccccc}\n",
       "\t& j & j=a & P(j)≤P(a) & P(j) & P(≥j) & P(≤j)\\\\\n",
       "\t\\hline\n",
       "\t& Int64 & Int64 & Int64 & Float64 & Float64 & Float64\\\\\n",
       "\t\\hline\n",
       "\t1 & 9 & 0 & 1 & 0.00106789 & 0.00106789 & 1.0 \\\\\n",
       "\t2 & 8 & 0 & 1 & 0.016476 & 0.0175439 & 0.998932 \\\\\n",
       "\t3 & 7 & 1 & 1 & 0.0906178 & 0.108162 & 0.982456 \\\\\n",
       "\t4 & 6 & 0 & 0 & 0.234935 & 0.343097 & 0.891838 \\\\\n",
       "\t5 & 5 & 0 & 0 & 0.317162 & 0.660259 & 0.656903 \\\\\n",
       "\t6 & 4 & 0 & 0 & 0.230664 & 0.890923 & 0.339741 \\\\\n",
       "\t7 & 3 & 0 & 1 & 0.0897025 & 0.980625 & 0.109077 \\\\\n",
       "\t8 & 2 & 0 & 1 & 0.0177434 & 0.998369 & 0.0193745 \\\\\n",
       "\t9 & 1 & 0 & 1 & 0.00158423 & 0.999953 & 0.00163117 \\\\\n",
       "\t10 & 0 & 0 & 1 & 4.69401e-5 & 1.0 & 4.69401e-5 \\\\\n",
       "\\end{tabular}\n"
      ],
      "text/plain": [
       "\u001b[1m10×6 DataFrame\u001b[0m\n",
       "\u001b[1m Row \u001b[0m│\u001b[1m j     \u001b[0m\u001b[1m j=a   \u001b[0m\u001b[1m P(j)≤P(a) \u001b[0m\u001b[1m P(j)       \u001b[0m\u001b[1m P(≥j)      \u001b[0m\u001b[1m P(≤j)      \u001b[0m\n",
       "     │\u001b[90m Int64 \u001b[0m\u001b[90m Int64 \u001b[0m\u001b[90m Int64     \u001b[0m\u001b[90m Float64    \u001b[0m\u001b[90m Float64    \u001b[0m\u001b[90m Float64    \u001b[0m\n",
       "─────┼─────────────────────────────────────────────────────────────\n",
       "   1 │     9      0          1  0.00106789  0.00106789  1.0\n",
       "   2 │     8      0          1  0.016476    0.0175439   0.998932\n",
       "   3 │     7      1          1  0.0906178   0.108162    0.982456\n",
       "   4 │     6      0          0  0.234935    0.343097    0.891838\n",
       "   5 │     5      0          0  0.317162    0.660259    0.656903\n",
       "   6 │     4      0          0  0.230664    0.890923    0.339741\n",
       "   7 │     3      0          1  0.0897025   0.980625    0.109077\n",
       "   8 │     2      0          1  0.0177434   0.998369    0.0193745\n",
       "   9 │     1      0          1  0.00158423  0.999953    0.00163117\n",
       "  10 │     0      0          1  4.69401e-5  1.0         4.69401e-5"
      ]
     },
     "execution_count": 11,
     "metadata": {},
     "output_type": "execute_result"
    }
   ],
   "source": [
    "makedf(A...)"
   ]
  },
  {
   "cell_type": "code",
   "execution_count": 12,
   "id": "3744d026-1456-44e3-92dd-83cc938c559a",
   "metadata": {},
   "outputs": [
    {
     "data": {
      "text/plain": [
       "RObject{RealSxp}\n",
       "[1] 0.2172387\n"
      ]
     },
     "execution_count": 12,
     "metadata": {},
     "output_type": "execute_result"
    }
   ],
   "source": [
    "@rput A\n",
    "R\"\"\"fisher.test(A)$p.value\"\"\""
   ]
  },
  {
   "cell_type": "code",
   "execution_count": 13,
   "id": "b75fdcba-a810-46db-b401-7ec980abe18e",
   "metadata": {},
   "outputs": [
    {
     "data": {
      "text/plain": [
       "RObject{RealSxp}\n",
       "[1] 0.1275362\n"
      ]
     },
     "execution_count": 13,
     "metadata": {},
     "output_type": "execute_result"
    }
   ],
   "source": [
    "R\"\"\"\n",
    "a <- 15\n",
    "b <- 12\n",
    "n <- 9\n",
    "x <- 7\n",
    "x1 <- c(7:9)\n",
    "x2 <- c(0:2)\n",
    " \n",
    "sum(\n",
    "    dhyper(x = x1, m = a, n = b, k = n),\n",
    "    dhyper(x = x2, m = a, n = b, k = n)\n",
    "    )\n",
    "\"\"\""
   ]
  },
  {
   "cell_type": "code",
   "execution_count": 14,
   "id": "cc259f92-0750-447b-a2ba-29710237df08",
   "metadata": {},
   "outputs": [
    {
     "data": {
      "text/plain": [
       "0.21723874904652943"
      ]
     },
     "execution_count": 14,
     "metadata": {},
     "output_type": "execute_result"
    }
   ],
   "source": [
    "pvalue_fisher(A...)"
   ]
  },
  {
   "cell_type": "code",
   "execution_count": 15,
   "id": "603cf8a2-22e2-4172-819c-24ce676b1b3e",
   "metadata": {},
   "outputs": [
    {
     "data": {
      "text/plain": [
       "0.12753623188405805"
      ]
     },
     "execution_count": 15,
     "metadata": {},
     "output_type": "execute_result"
    }
   ],
   "source": [
    "pvalue_fisher_yoshida(A...)"
   ]
  },
  {
   "cell_type": "code",
   "execution_count": null,
   "id": "508703a2-3387-483c-9d8d-368691c80e72",
   "metadata": {},
   "outputs": [],
   "source": []
  }
 ],
 "metadata": {
  "jupytext": {
   "formats": "ipynb,jl:hydrogen"
  },
  "kernelspec": {
   "display_name": "Julia 1.9.0",
   "language": "julia",
   "name": "julia-1.9"
  },
  "language_info": {
   "file_extension": ".jl",
   "mimetype": "application/julia",
   "name": "julia",
   "version": "1.9.0"
  }
 },
 "nbformat": 4,
 "nbformat_minor": 5
}
