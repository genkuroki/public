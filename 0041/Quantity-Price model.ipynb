{
 "cells": [
  {
   "cell_type": "markdown",
   "id": "f94b48b7-7518-4113-b254-74cd4955c606",
   "metadata": {},
   "source": [
    "$\n",
    "\\newcommand\\op{\\operatorname}\n",
    "\\newcommand\\var{\\op{var}}\n",
    "\\newcommand\\cov{\\op{cov}}\n",
    "\\newcommand\\Normal{\\op{Normal}}\n",
    "\\newcommand\\MvNormal{\\op{MvNormal}}\n",
    "$\n",
    "\n",
    "https://escholarship.org/content/qt0j50v7hx/qt0j50v7hx_noSplash_f8d003538b36370a6a9c11bfe39ae39a.pdf で取り上げられているモデルは\n",
    "\n",
    "$$\n",
    "\\begin{aligned}\n",
    "&\n",
    "Q = b_1 P + d_1 I + U_1,\n",
    "\\\\ &\n",
    "P = b_2 Q + d_2 W + U_2,\n",
    "\\\\ &\n",
    "\\text{$\\{I,W\\}$ and $\\{U_1,U_2\\}$ are independent},\n",
    "\\\\ &\n",
    "\\begin{bmatrix}\n",
    "E[U_1] \\\\\n",
    "E[U_2] \\\\\n",
    "\\end{bmatrix} = \\mu,\n",
    "\\quad\n",
    "\\begin{bmatrix}\n",
    "\\var(U_1) & \\cov(U_1,U_2) \\\\\n",
    "\\cov(U_2,U_1) & \\var(U_2) \\\\\n",
    "\\end{bmatrix} = \\Sigma.\n",
    "\\end{aligned}\n",
    "$$\n",
    "\n",
    "この条件のうち前者の2つは次と同値である:\n",
    "\n",
    "$$\n",
    "Q = \\frac{d_1 I + U_1 + b_1(d_2 W + U_2)}{1 - b_1 b_2}, \\quad\n",
    "P = \\frac{d_2 W + U_2 + b_2(d_1 I + U_1)}{1 - b_1 b_2}.\n",
    "$$\n",
    "\n",
    "このように生成したデータの数値からパラメータ値 $b_1,b_2,d_1,d_2,\\mu,\\Sigma$ を推定する方法を考える.\n",
    "\n",
    "$$\n",
    "\\begin{bmatrix}\n",
    "A & C \\\\\n",
    "B & D \\\\\n",
    "\\end{bmatrix}\n",
    "=\n",
    "T_{11}^{-1} T_{12},\n",
    "\\quad\n",
    "T_{11}\n",
    "=\n",
    "\\begin{bmatrix}\n",
    "\\var(I)   & \\cov(I,W) \\\\\n",
    "\\cov(W,I) & \\var(W) \\\\\n",
    "\\end{bmatrix},\n",
    "\\quad\n",
    "T_{12}\n",
    "=\n",
    "\\begin{bmatrix}\n",
    "\\cov(I,Q) & \\cov(I,P) \\\\\n",
    "\\cov(W,Q) & \\cov(W,P) \\\\\n",
    "\\end{bmatrix},\n",
    "$$\n",
    "\n",
    "とおくと,\n",
    "\n",
    "$$\n",
    "A = \\frac{d_1}{1 - b_1 b_2}, \\quad\n",
    "B = \\frac{b_1 d_2}{1 - b_1 b_2}, \\quad\n",
    "C = \\frac{b_2 d_1}{1 - b_1 b_2}, \\quad\n",
    "D = \\frac{d_2}{1 - b_1 b_2}.\n",
    "$$\n",
    "\n",
    "すなわち,\n",
    "\n",
    "$$\n",
    "b_1 = B/D, \\quad\n",
    "b_2 = C/A, \\quad\n",
    "d_1 = (1 - b_1 b_2)A, \\quad\n",
    "d_2 = (1 - b_1 b_2)D.\n",
    "$$\n",
    "\n",
    "そして,\n",
    "\n",
    "$$\n",
    "U_1 = Q - (b_1 P + d_1 I), \\quad\n",
    "U_2 = P - (b_2 Q + d_2 W).\n",
    "$$\n",
    "\n",
    "もしくは,\n",
    "\n",
    "$$\n",
    "V_1 = Q - (AI + BW), \\quad\n",
    "V_2 = P - (CI + DW)\n",
    "$$\n",
    "\n",
    "とおくと,\n",
    "\n",
    "$$\n",
    "U_1 = V_1 - b_1 V_2, \\quad\n",
    "U_2 = V_2 - b_2 V_1, \\quad\n",
    "\\mu =\n",
    "\\begin{bmatrix}\n",
    "E[U_1] \\\\\n",
    "E[U_2] \\\\\n",
    "\\end{bmatrix},\n",
    "\\quad\n",
    "\\Sigma =\n",
    "\\begin{bmatrix}\n",
    "\\var(U_1) & \\cov(U_1,U_2) \\\\\n",
    "\\cov(U_2,U_1) & \\var(U_2) \\\\\n",
    "\\end{bmatrix}.\n",
    "$$\n",
    "\n",
    "データの数値に対して以上の手続きを適用すれば, パラメータ値 $b_1,b_2,d_1,d_2,\\mu,\\Sigma$ を推定できる."
   ]
  },
  {
   "cell_type": "code",
   "execution_count": 1,
   "id": "5812830a-6366-4657-be5d-5416f8a68c84",
   "metadata": {},
   "outputs": [],
   "source": [
    "using Distributions\n",
    "using Random\n",
    "#using StatsPlots\n",
    "#default(fmt=:png, titlefontsize=8, tickfontsize=6, guidefontsize=8, legendfontsize=8)"
   ]
  },
  {
   "cell_type": "code",
   "execution_count": 2,
   "id": "7eabbfde-e04a-4fd8-bed1-3ced6d2668cb",
   "metadata": {},
   "outputs": [
    {
     "data": {
      "text/plain": [
       "rand_qpiw! (generic function with 2 methods)"
      ]
     },
     "execution_count": 2,
     "metadata": {},
     "output_type": "execute_result"
    }
   ],
   "source": [
    "function rand_qpiw(b1, b2, d1, d2, s1, s2)\n",
    "    u1, u2, i, w = randn(), randn(), randn(), randn()\n",
    "    q0 = d1*i + s1*u1\n",
    "    p0 = d2*w + s2*u2\n",
    "    q = (q0 + b1*p0)/(1 - b1*b2)\n",
    "    p = (p0 + b2*q0)/(1 - b1*b2)\n",
    "    q, p, i, w\n",
    "end\n",
    "\n",
    "function rand_qpiw!(b1, b2, d1, d2, s1, s2, qpiw::Matrix)\n",
    "    Threads.@threads for i in axes(qpiw, 2)\n",
    "        qpiw[:, i] .= rand_qpiw(b1, b2, d1, d2, s1, s2)\n",
    "    end\n",
    "    qpiw\n",
    "end\n",
    "\n",
    "function rand_qpiw!(b1, b2, d1, d2, s1, s2, n::Integer)\n",
    "    qpiw = Matrix{Float64}(undef, 4, n)\n",
    "    rand_qpiw!(b1, b2, d1, d2, s1, s2, qpiw)\n",
    "end"
   ]
  },
  {
   "cell_type": "code",
   "execution_count": 3,
   "id": "9c9b7d13-1cf6-459b-a5dc-0acf2bfe7e00",
   "metadata": {},
   "outputs": [],
   "source": [
    "b1, b2, d1, d2, s1, s2 = -1, 1, 0.4, 0.6, √0.5, √0.8\n",
    "n = 10^6\n",
    "qpiw = rand_qpiw!(b1, b2, d1, d2, s1, s2, n)\n",
    "q, p, i, w = eachrow(qpiw);"
   ]
  },
  {
   "cell_type": "code",
   "execution_count": 4,
   "id": "994ce8dc-260e-40c3-b1a8-31149a305293",
   "metadata": {},
   "outputs": [
    {
     "data": {
      "text/plain": [
       "2×2 Matrix{Float64}:\n",
       "  0.200217  0.198295\n",
       " -0.300601  0.300411"
      ]
     },
     "execution_count": 4,
     "metadata": {},
     "output_type": "execute_result"
    }
   ],
   "source": [
    "X2 = [i w]\n",
    "y2 = [q p]\n",
    "\n",
    "β̂2 = X2 \\ y2"
   ]
  },
  {
   "cell_type": "code",
   "execution_count": 5,
   "id": "b20ac79f-9a16-4042-a19e-56f12060512b",
   "metadata": {},
   "outputs": [
    {
     "data": {
      "text/plain": [
       "2×2 Matrix{Float64}:\n",
       "  0.2  0.2\n",
       " -0.3  0.3"
      ]
     },
     "execution_count": 5,
     "metadata": {},
     "output_type": "execute_result"
    }
   ],
   "source": [
    "[\n",
    "       d1 b2*d1\n",
    "    b1*d2    d2\n",
    "]/(1 - b1*b2)"
   ]
  },
  {
   "cell_type": "code",
   "execution_count": 6,
   "id": "0c83684d-3226-4763-80e3-b9ee76399a5e",
   "metadata": {},
   "outputs": [
    {
     "data": {
      "text/plain": [
       "4-element Vector{Float64}:\n",
       " -1.000630469293369\n",
       "  0.9904022542034342\n",
       "  0.39863743287608594\n",
       "  0.5981269190769208"
      ]
     },
     "execution_count": 6,
     "metadata": {},
     "output_type": "execute_result"
    }
   ],
   "source": [
    "ww, xx, yy, zz = β̂2\n",
    "bb1 = xx/zz\n",
    "bb2 = yy/ww\n",
    "dd1 = ww * (1 - bb1*bb2)\n",
    "dd2 = zz * (1 - bb1*bb2)\n",
    "[bb1, bb2, dd1, dd2]"
   ]
  },
  {
   "cell_type": "code",
   "execution_count": 7,
   "id": "629a60c0-9edf-4e26-8b1a-1b7eae5b954c",
   "metadata": {},
   "outputs": [
    {
     "data": {
      "text/plain": [
       "FullNormal(\n",
       "dim: 2\n",
       "μ: [-0.00025276663730480325, 0.0008226382410363626]\n",
       "Σ: [0.5003230872667552 0.500322981735782; 0.500322981735782 1.0176682302929931]\n",
       ")\n"
      ]
     },
     "execution_count": 7,
     "metadata": {},
     "output_type": "execute_result"
    }
   ],
   "source": [
    "u1 = q - (bb1*p + dd1*i)\n",
    "u2 = p - (bb1*q + dd2*w)\n",
    "fit(MvNormal, [u1 u2]')"
   ]
  },
  {
   "cell_type": "code",
   "execution_count": 8,
   "id": "f8c9d7ad-0b7d-4adb-b1aa-b355996f6bd7",
   "metadata": {},
   "outputs": [
    {
     "name": "stdout",
     "output_type": "stream",
     "text": [
      "μ = mean(mvn) = [0.002528178306651554, -0.00011267079764789343, 0.0005257053910915815, 0.00022920997177126542]\n"
     ]
    },
    {
     "data": {
      "text/plain": [
       "4×4 Matrix{Float64}:\n",
       " 1.00166       0.000896279   0.20028    0.198894\n",
       " 0.000896279   1.00108      -0.300746   0.300914\n",
       " 0.20028      -0.300746      0.455156  -0.125455\n",
       " 0.198894      0.300914     -0.125455   0.454836"
      ]
     },
     "execution_count": 8,
     "metadata": {},
     "output_type": "execute_result"
    }
   ],
   "source": [
    "mvn = fit(MvNormal, [i w q p]')\n",
    "@show μ = mean(mvn)\n",
    "Σ = cov(mvn)"
   ]
  },
  {
   "cell_type": "code",
   "execution_count": 9,
   "id": "2087857d-97fe-4e5e-b859-d1cfdaa3bd38",
   "metadata": {},
   "outputs": [
    {
     "data": {
      "text/plain": [
       "2×2 Matrix{Float64}:\n",
       "  0.200217  0.198296\n",
       " -0.300601  0.300411"
      ]
     },
     "execution_count": 9,
     "metadata": {},
     "output_type": "execute_result"
    }
   ],
   "source": [
    "Σ11 = Σ[1:2, 1:2]\n",
    "Σ12 = Σ[1:2, 3:4]\n",
    "Σ21 = Σ[3:4, 1:2]\n",
    "Σ22 = Σ[3:4, 3:4]\n",
    "β̂ = Σ11 \\ Σ12"
   ]
  },
  {
   "cell_type": "code",
   "execution_count": 10,
   "id": "156ace51-0d25-4a8a-8f94-1485838dcfef",
   "metadata": {},
   "outputs": [
    {
     "name": "stdout",
     "output_type": "stream",
     "text": [
      "mean(mvn) = [-0.0002527682535713289, -0.00022405982824296974]\n"
     ]
    },
    {
     "data": {
      "text/plain": [
       "2×2 Matrix{Float64}:\n",
       " 0.500323    0.00299583\n",
       " 0.00299583  0.791656"
      ]
     },
     "execution_count": 10,
     "metadata": {},
     "output_type": "execute_result"
    }
   ],
   "source": [
    "X = [i w]\n",
    "q̂, p̂ = eachcol(X*β̂)\n",
    "v1, v2 = q - q̂, p - p̂\n",
    "u1, u2 = v1 - bb1*v2, v2 - bb2*v1\n",
    "mvn = fit(MvNormal, [u1 u2]')\n",
    "@show mean(mvn)\n",
    "cov(mvn)"
   ]
  },
  {
   "cell_type": "code",
   "execution_count": 11,
   "id": "deae1cbd-be8e-4faa-989c-cc160e7095f8",
   "metadata": {},
   "outputs": [
    {
     "data": {
      "text/plain": [
       "4-element Vector{Float64}:\n",
       " -1.0006305658938555\n",
       "  0.9904050788635844\n",
       "  0.3986380900391199\n",
       "  0.5981277424478418"
      ]
     },
     "execution_count": 11,
     "metadata": {},
     "output_type": "execute_result"
    }
   ],
   "source": [
    "ww, xx, yy, zz = β̂\n",
    "bb1 = xx/zz\n",
    "bb2 = yy/ww\n",
    "dd1 = ww * (1 - bb1*bb2)\n",
    "dd2 = zz * (1 - bb1*bb2)\n",
    "[bb1, bb2, dd1, dd2]"
   ]
  },
  {
   "cell_type": "code",
   "execution_count": 12,
   "id": "9eeb8896-54a5-4602-9d6a-efcd5d4c0735",
   "metadata": {},
   "outputs": [
    {
     "name": "stdout",
     "output_type": "stream",
     "text": [
      "mean(mvn) = [-0.00025276827658837265, -0.00022405978771487714]\n"
     ]
    },
    {
     "data": {
      "text/plain": [
       "2×2 Matrix{Float64}:\n",
       " 0.500323    0.00299517\n",
       " 0.00299517  0.791659"
      ]
     },
     "execution_count": 12,
     "metadata": {},
     "output_type": "execute_result"
    }
   ],
   "source": [
    "u1 = q - (bb1*p + dd1*i)\n",
    "u2 = p - (bb2*q + dd2*w)\n",
    "mvn = fit(MvNormal, [u1'; u2'])\n",
    "@show mean(mvn)\n",
    "cov(mvn)"
   ]
  },
  {
   "cell_type": "code",
   "execution_count": null,
   "id": "075f598e-91fd-441d-95f2-6e5721157517",
   "metadata": {},
   "outputs": [],
   "source": []
  }
 ],
 "metadata": {
  "jupytext": {
   "formats": "ipynb,jl:hydrogen"
  },
  "kernelspec": {
   "display_name": "Julia 1.9.0-beta4",
   "language": "julia",
   "name": "julia-1.9"
  },
  "language_info": {
   "file_extension": ".jl",
   "mimetype": "application/julia",
   "name": "julia",
   "version": "1.9.0"
  }
 },
 "nbformat": 4,
 "nbformat_minor": 5
}
