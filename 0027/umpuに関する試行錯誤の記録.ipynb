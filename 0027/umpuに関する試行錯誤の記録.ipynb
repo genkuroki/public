{
 "cells": [
  {
   "cell_type": "code",
   "execution_count": 1,
   "id": "8b25e4e1-8ac8-4b28-920e-afb4fb1dc14b",
   "metadata": {},
   "outputs": [
    {
     "data": {
      "image/svg+xml": [
       "<?xml version=\"1.0\" encoding=\"utf-8\"?>\n",
       "<svg xmlns=\"http://www.w3.org/2000/svg\" xmlns:xlink=\"http://www.w3.org/1999/xlink\" width=\"300\" height=\"200\" viewBox=\"0 0 1200 800\">\n",
       "<defs>\n",
       "  <clipPath id=\"clip920\">\n",
       "    <rect x=\"0\" y=\"0\" width=\"1200\" height=\"800\"/>\n",
       "  </clipPath>\n",
       "</defs>\n",
       "<path clip-path=\"url(#clip920)\" d=\"\n",
       "M0 800 L1200 800 L1200 0 L0 0  Z\n",
       "  \" fill=\"#ffffff\" fill-rule=\"evenodd\" fill-opacity=\"1\"/>\n",
       "<defs>\n",
       "  <clipPath id=\"clip921\">\n",
       "    <rect x=\"240\" y=\"0\" width=\"841\" height=\"800\"/>\n",
       "  </clipPath>\n",
       "</defs>\n",
       "<path clip-path=\"url(#clip920)\" d=\"\n",
       "M144.598 694.448 L1152.76 694.448 L1152.76 47.2441 L144.598 47.2441  Z\n",
       "  \" fill=\"#ffffff\" fill-rule=\"evenodd\" fill-opacity=\"1\"/>\n",
       "<defs>\n",
       "  <clipPath id=\"clip922\">\n",
       "    <rect x=\"144\" y=\"47\" width=\"1009\" height=\"648\"/>\n",
       "  </clipPath>\n",
       "</defs>\n",
       "<polyline clip-path=\"url(#clip922)\" style=\"stroke:#000000; stroke-linecap:butt; stroke-linejoin:round; stroke-width:2; stroke-opacity:0.1; fill:none\" points=\"\n",
       "  265.071,694.448 265.071,47.2441 \n",
       "  \"/>\n",
       "<polyline clip-path=\"url(#clip922)\" style=\"stroke:#000000; stroke-linecap:butt; stroke-linejoin:round; stroke-width:2; stroke-opacity:0.1; fill:none\" points=\"\n",
       "  392.94,694.448 392.94,47.2441 \n",
       "  \"/>\n",
       "<polyline clip-path=\"url(#clip922)\" style=\"stroke:#000000; stroke-linecap:butt; stroke-linejoin:round; stroke-width:2; stroke-opacity:0.1; fill:none\" points=\"\n",
       "  520.808,694.448 520.808,47.2441 \n",
       "  \"/>\n",
       "<polyline clip-path=\"url(#clip922)\" style=\"stroke:#000000; stroke-linecap:butt; stroke-linejoin:round; stroke-width:2; stroke-opacity:0.1; fill:none\" points=\"\n",
       "  648.677,694.448 648.677,47.2441 \n",
       "  \"/>\n",
       "<polyline clip-path=\"url(#clip922)\" style=\"stroke:#000000; stroke-linecap:butt; stroke-linejoin:round; stroke-width:2; stroke-opacity:0.1; fill:none\" points=\"\n",
       "  776.546,694.448 776.546,47.2441 \n",
       "  \"/>\n",
       "<polyline clip-path=\"url(#clip922)\" style=\"stroke:#000000; stroke-linecap:butt; stroke-linejoin:round; stroke-width:2; stroke-opacity:0.1; fill:none\" points=\"\n",
       "  904.415,694.448 904.415,47.2441 \n",
       "  \"/>\n",
       "<polyline clip-path=\"url(#clip922)\" style=\"stroke:#000000; stroke-linecap:butt; stroke-linejoin:round; stroke-width:2; stroke-opacity:0.1; fill:none\" points=\"\n",
       "  1032.28,694.448 1032.28,47.2441 \n",
       "  \"/>\n",
       "<polyline clip-path=\"url(#clip920)\" style=\"stroke:#000000; stroke-linecap:butt; stroke-linejoin:round; stroke-width:4; stroke-opacity:1; fill:none\" points=\"\n",
       "  144.598,694.448 1152.76,694.448 \n",
       "  \"/>\n",
       "<polyline clip-path=\"url(#clip920)\" style=\"stroke:#000000; stroke-linecap:butt; stroke-linejoin:round; stroke-width:4; stroke-opacity:1; fill:none\" points=\"\n",
       "  265.071,694.448 265.071,675.55 \n",
       "  \"/>\n",
       "<polyline clip-path=\"url(#clip920)\" style=\"stroke:#000000; stroke-linecap:butt; stroke-linejoin:round; stroke-width:4; stroke-opacity:1; fill:none\" points=\"\n",
       "  392.94,694.448 392.94,675.55 \n",
       "  \"/>\n",
       "<polyline clip-path=\"url(#clip920)\" style=\"stroke:#000000; stroke-linecap:butt; stroke-linejoin:round; stroke-width:4; stroke-opacity:1; fill:none\" points=\"\n",
       "  520.808,694.448 520.808,675.55 \n",
       "  \"/>\n",
       "<polyline clip-path=\"url(#clip920)\" style=\"stroke:#000000; stroke-linecap:butt; stroke-linejoin:round; stroke-width:4; stroke-opacity:1; fill:none\" points=\"\n",
       "  648.677,694.448 648.677,675.55 \n",
       "  \"/>\n",
       "<polyline clip-path=\"url(#clip920)\" style=\"stroke:#000000; stroke-linecap:butt; stroke-linejoin:round; stroke-width:4; stroke-opacity:1; fill:none\" points=\"\n",
       "  776.546,694.448 776.546,675.55 \n",
       "  \"/>\n",
       "<polyline clip-path=\"url(#clip920)\" style=\"stroke:#000000; stroke-linecap:butt; stroke-linejoin:round; stroke-width:4; stroke-opacity:1; fill:none\" points=\"\n",
       "  904.415,694.448 904.415,675.55 \n",
       "  \"/>\n",
       "<polyline clip-path=\"url(#clip920)\" style=\"stroke:#000000; stroke-linecap:butt; stroke-linejoin:round; stroke-width:4; stroke-opacity:1; fill:none\" points=\"\n",
       "  1032.28,694.448 1032.28,675.55 \n",
       "  \"/>\n",
       "<path clip-path=\"url(#clip920)\" d=\"M234.539 730.419 L264.214 730.419 L264.214 734.354 L234.539 734.354 L234.539 730.419 Z\" fill=\"#000000\" fill-rule=\"evenodd\" fill-opacity=\"1\" /><path clip-path=\"url(#clip920)\" d=\"M288.473 728.614 Q291.83 729.331 293.705 731.6 Q295.603 733.868 295.603 737.202 Q295.603 742.317 292.084 745.118 Q288.566 747.919 282.085 747.919 Q279.909 747.919 277.594 747.479 Q275.302 747.063 272.848 746.206 L272.848 741.692 Q274.793 742.827 277.108 743.405 Q279.423 743.984 281.946 743.984 Q286.344 743.984 288.635 742.248 Q290.95 740.512 290.95 737.202 Q290.95 734.146 288.797 732.433 Q286.668 730.697 282.848 730.697 L278.821 730.697 L278.821 726.854 L283.034 726.854 Q286.483 726.854 288.311 725.489 Q290.14 724.1 290.14 721.507 Q290.14 718.845 288.242 717.433 Q286.367 715.998 282.848 715.998 Q280.927 715.998 278.728 716.415 Q276.529 716.831 273.89 717.711 L273.89 713.544 Q276.552 712.804 278.867 712.433 Q281.205 712.063 283.265 712.063 Q288.589 712.063 291.691 714.493 Q294.793 716.901 294.793 721.021 Q294.793 723.892 293.149 725.882 Q291.506 727.85 288.473 728.614 Z\" fill=\"#000000\" fill-rule=\"evenodd\" fill-opacity=\"1\" /><path clip-path=\"url(#clip920)\" d=\"M362.882 730.419 L392.558 730.419 L392.558 734.354 L362.882 734.354 L362.882 730.419 Z\" fill=\"#000000\" fill-rule=\"evenodd\" fill-opacity=\"1\" /><path clip-path=\"url(#clip920)\" d=\"M406.678 743.313 L422.997 743.313 L422.997 747.248 L401.053 747.248 L401.053 743.313 Q403.715 740.558 408.298 735.928 Q412.905 731.276 414.085 729.933 Q416.331 727.41 417.21 725.674 Q418.113 723.915 418.113 722.225 Q418.113 719.47 416.169 717.734 Q414.247 715.998 411.145 715.998 Q408.946 715.998 406.493 716.762 Q404.062 717.526 401.284 719.077 L401.284 714.355 Q404.108 713.22 406.562 712.642 Q409.016 712.063 411.053 712.063 Q416.423 712.063 419.618 714.748 Q422.812 717.433 422.812 721.924 Q422.812 724.054 422.002 725.975 Q421.215 727.873 419.108 730.466 Q418.53 731.137 415.428 734.354 Q412.326 737.549 406.678 743.313 Z\" fill=\"#000000\" fill-rule=\"evenodd\" fill-opacity=\"1\" /><path clip-path=\"url(#clip920)\" d=\"M490.565 730.419 L520.241 730.419 L520.241 734.354 L490.565 734.354 L490.565 730.419 Z\" fill=\"#000000\" fill-rule=\"evenodd\" fill-opacity=\"1\" /><path clip-path=\"url(#clip920)\" d=\"M531.144 743.313 L538.783 743.313 L538.783 716.947 L530.473 718.614 L530.473 714.355 L538.736 712.688 L543.412 712.688 L543.412 743.313 L551.051 743.313 L551.051 747.248 L531.144 747.248 L531.144 743.313 Z\" fill=\"#000000\" fill-rule=\"evenodd\" fill-opacity=\"1\" /><path clip-path=\"url(#clip920)\" d=\"M648.677 715.767 Q645.066 715.767 643.237 719.331 Q641.432 722.873 641.432 730.003 Q641.432 737.109 643.237 740.674 Q645.066 744.215 648.677 744.215 Q652.311 744.215 654.117 740.674 Q655.946 737.109 655.946 730.003 Q655.946 722.873 654.117 719.331 Q652.311 715.767 648.677 715.767 M648.677 712.063 Q654.487 712.063 657.543 716.669 Q660.621 721.253 660.621 730.003 Q660.621 738.729 657.543 743.336 Q654.487 747.919 648.677 747.919 Q642.867 747.919 639.788 743.336 Q636.733 738.729 636.733 730.003 Q636.733 721.253 639.788 716.669 Q642.867 712.063 648.677 712.063 Z\" fill=\"#000000\" fill-rule=\"evenodd\" fill-opacity=\"1\" /><path clip-path=\"url(#clip920)\" d=\"M766.928 743.313 L774.567 743.313 L774.567 716.947 L766.257 718.614 L766.257 714.355 L774.52 712.688 L779.196 712.688 L779.196 743.313 L786.835 743.313 L786.835 747.248 L766.928 747.248 L766.928 743.313 Z\" fill=\"#000000\" fill-rule=\"evenodd\" fill-opacity=\"1\" /><path clip-path=\"url(#clip920)\" d=\"M899.067 743.313 L915.387 743.313 L915.387 747.248 L893.442 747.248 L893.442 743.313 Q896.104 740.558 900.688 735.928 Q905.294 731.276 906.475 729.933 Q908.72 727.41 909.6 725.674 Q910.503 723.915 910.503 722.225 Q910.503 719.47 908.558 717.734 Q906.637 715.998 903.535 715.998 Q901.336 715.998 898.882 716.762 Q896.452 717.526 893.674 719.077 L893.674 714.355 Q896.498 713.22 898.952 712.642 Q901.405 712.063 903.442 712.063 Q908.813 712.063 912.007 714.748 Q915.202 717.433 915.202 721.924 Q915.202 724.054 914.391 725.975 Q913.604 727.873 911.498 730.466 Q910.919 731.137 907.817 734.354 Q904.716 737.549 899.067 743.313 Z\" fill=\"#000000\" fill-rule=\"evenodd\" fill-opacity=\"1\" /><path clip-path=\"url(#clip920)\" d=\"M1036.53 728.614 Q1039.89 729.331 1041.76 731.6 Q1043.66 733.868 1043.66 737.202 Q1043.66 742.317 1040.14 745.118 Q1036.62 747.919 1030.14 747.919 Q1027.97 747.919 1025.65 747.479 Q1023.36 747.063 1020.91 746.206 L1020.91 741.692 Q1022.85 742.827 1025.17 743.405 Q1027.48 743.984 1030 743.984 Q1034.4 743.984 1036.69 742.248 Q1039.01 740.512 1039.01 737.202 Q1039.01 734.146 1036.86 732.433 Q1034.73 730.697 1030.91 730.697 L1026.88 730.697 L1026.88 726.854 L1031.09 726.854 Q1034.54 726.854 1036.37 725.489 Q1038.2 724.1 1038.2 721.507 Q1038.2 718.845 1036.3 717.433 Q1034.42 715.998 1030.91 715.998 Q1028.98 715.998 1026.79 716.415 Q1024.59 716.831 1021.95 717.711 L1021.95 713.544 Q1024.61 712.804 1026.92 712.433 Q1029.26 712.063 1031.32 712.063 Q1036.65 712.063 1039.75 714.493 Q1042.85 716.901 1042.85 721.021 Q1042.85 723.892 1041.21 725.882 Q1039.56 727.85 1036.53 728.614 Z\" fill=\"#000000\" fill-rule=\"evenodd\" fill-opacity=\"1\" /><polyline clip-path=\"url(#clip922)\" style=\"stroke:#000000; stroke-linecap:butt; stroke-linejoin:round; stroke-width:2; stroke-opacity:0.1; fill:none\" points=\"\n",
       "  144.598,676.737 1152.76,676.737 \n",
       "  \"/>\n",
       "<polyline clip-path=\"url(#clip922)\" style=\"stroke:#000000; stroke-linecap:butt; stroke-linejoin:round; stroke-width:2; stroke-opacity:0.1; fill:none\" points=\"\n",
       "  144.598,523.512 1152.76,523.512 \n",
       "  \"/>\n",
       "<polyline clip-path=\"url(#clip922)\" style=\"stroke:#000000; stroke-linecap:butt; stroke-linejoin:round; stroke-width:2; stroke-opacity:0.1; fill:none\" points=\"\n",
       "  144.598,370.287 1152.76,370.287 \n",
       "  \"/>\n",
       "<polyline clip-path=\"url(#clip922)\" style=\"stroke:#000000; stroke-linecap:butt; stroke-linejoin:round; stroke-width:2; stroke-opacity:0.1; fill:none\" points=\"\n",
       "  144.598,217.062 1152.76,217.062 \n",
       "  \"/>\n",
       "<polyline clip-path=\"url(#clip922)\" style=\"stroke:#000000; stroke-linecap:butt; stroke-linejoin:round; stroke-width:2; stroke-opacity:0.1; fill:none\" points=\"\n",
       "  144.598,63.8375 1152.76,63.8375 \n",
       "  \"/>\n",
       "<polyline clip-path=\"url(#clip920)\" style=\"stroke:#000000; stroke-linecap:butt; stroke-linejoin:round; stroke-width:4; stroke-opacity:1; fill:none\" points=\"\n",
       "  144.598,694.448 144.598,47.2441 \n",
       "  \"/>\n",
       "<polyline clip-path=\"url(#clip920)\" style=\"stroke:#000000; stroke-linecap:butt; stroke-linejoin:round; stroke-width:4; stroke-opacity:1; fill:none\" points=\"\n",
       "  144.598,676.737 163.496,676.737 \n",
       "  \"/>\n",
       "<polyline clip-path=\"url(#clip920)\" style=\"stroke:#000000; stroke-linecap:butt; stroke-linejoin:round; stroke-width:4; stroke-opacity:1; fill:none\" points=\"\n",
       "  144.598,523.512 163.496,523.512 \n",
       "  \"/>\n",
       "<polyline clip-path=\"url(#clip920)\" style=\"stroke:#000000; stroke-linecap:butt; stroke-linejoin:round; stroke-width:4; stroke-opacity:1; fill:none\" points=\"\n",
       "  144.598,370.287 163.496,370.287 \n",
       "  \"/>\n",
       "<polyline clip-path=\"url(#clip920)\" style=\"stroke:#000000; stroke-linecap:butt; stroke-linejoin:round; stroke-width:4; stroke-opacity:1; fill:none\" points=\"\n",
       "  144.598,217.062 163.496,217.062 \n",
       "  \"/>\n",
       "<polyline clip-path=\"url(#clip920)\" style=\"stroke:#000000; stroke-linecap:butt; stroke-linejoin:round; stroke-width:4; stroke-opacity:1; fill:none\" points=\"\n",
       "  144.598,63.8375 163.496,63.8375 \n",
       "  \"/>\n",
       "<path clip-path=\"url(#clip920)\" d=\"M69.4226 662.536 Q65.8115 662.536 63.9828 666.101 Q62.1773 669.642 62.1773 676.772 Q62.1773 683.878 63.9828 687.443 Q65.8115 690.985 69.4226 690.985 Q73.0569 690.985 74.8624 687.443 Q76.6911 683.878 76.6911 676.772 Q76.6911 669.642 74.8624 666.101 Q73.0569 662.536 69.4226 662.536 M69.4226 658.832 Q75.2328 658.832 78.2883 663.439 Q81.367 668.022 81.367 676.772 Q81.367 685.499 78.2883 690.105 Q75.2328 694.689 69.4226 694.689 Q63.6125 694.689 60.5338 690.105 Q57.4782 685.499 57.4782 676.772 Q57.4782 668.022 60.5338 663.439 Q63.6125 658.832 69.4226 658.832 Z\" fill=\"#000000\" fill-rule=\"evenodd\" fill-opacity=\"1\" /><path clip-path=\"url(#clip920)\" d=\"M89.5845 688.138 L94.4688 688.138 L94.4688 694.017 L89.5845 694.017 L89.5845 688.138 Z\" fill=\"#000000\" fill-rule=\"evenodd\" fill-opacity=\"1\" /><path clip-path=\"url(#clip920)\" d=\"M114.654 662.536 Q111.043 662.536 109.214 666.101 Q107.409 669.642 107.409 676.772 Q107.409 683.878 109.214 687.443 Q111.043 690.985 114.654 690.985 Q118.288 690.985 120.094 687.443 Q121.922 683.878 121.922 676.772 Q121.922 669.642 120.094 666.101 Q118.288 662.536 114.654 662.536 M114.654 658.832 Q120.464 658.832 123.52 663.439 Q126.598 668.022 126.598 676.772 Q126.598 685.499 123.52 690.105 Q120.464 694.689 114.654 694.689 Q108.844 694.689 105.765 690.105 Q102.709 685.499 102.709 676.772 Q102.709 668.022 105.765 663.439 Q108.844 658.832 114.654 658.832 Z\" fill=\"#000000\" fill-rule=\"evenodd\" fill-opacity=\"1\" /><path clip-path=\"url(#clip920)\" d=\"M70.6495 509.311 Q67.0384 509.311 65.2097 512.876 Q63.4041 516.418 63.4041 523.547 Q63.4041 530.654 65.2097 534.218 Q67.0384 537.76 70.6495 537.76 Q74.2837 537.76 76.0892 534.218 Q77.9179 530.654 77.9179 523.547 Q77.9179 516.418 76.0892 512.876 Q74.2837 509.311 70.6495 509.311 M70.6495 505.607 Q76.4596 505.607 79.5152 510.214 Q82.5938 514.797 82.5938 523.547 Q82.5938 532.274 79.5152 536.88 Q76.4596 541.464 70.6495 541.464 Q64.8393 541.464 61.7606 536.88 Q58.7051 532.274 58.7051 523.547 Q58.7051 514.797 61.7606 510.214 Q64.8393 505.607 70.6495 505.607 Z\" fill=\"#000000\" fill-rule=\"evenodd\" fill-opacity=\"1\" /><path clip-path=\"url(#clip920)\" d=\"M90.8114 534.913 L95.6956 534.913 L95.6956 540.792 L90.8114 540.792 L90.8114 534.913 Z\" fill=\"#000000\" fill-rule=\"evenodd\" fill-opacity=\"1\" /><path clip-path=\"url(#clip920)\" d=\"M106.691 536.857 L114.33 536.857 L114.33 510.492 L106.02 512.158 L106.02 507.899 L114.283 506.232 L118.959 506.232 L118.959 536.857 L126.598 536.857 L126.598 540.792 L106.691 540.792 L106.691 536.857 Z\" fill=\"#000000\" fill-rule=\"evenodd\" fill-opacity=\"1\" /><path clip-path=\"url(#clip920)\" d=\"M71.0198 356.086 Q67.4087 356.086 65.58 359.651 Q63.7745 363.193 63.7745 370.322 Q63.7745 377.429 65.58 380.993 Q67.4087 384.535 71.0198 384.535 Q74.6541 384.535 76.4596 380.993 Q78.2883 377.429 78.2883 370.322 Q78.2883 363.193 76.4596 359.651 Q74.6541 356.086 71.0198 356.086 M71.0198 352.382 Q76.83 352.382 79.8855 356.989 Q82.9642 361.572 82.9642 370.322 Q82.9642 379.049 79.8855 383.655 Q76.83 388.239 71.0198 388.239 Q65.2097 388.239 62.131 383.655 Q59.0754 379.049 59.0754 370.322 Q59.0754 361.572 62.131 356.989 Q65.2097 352.382 71.0198 352.382 Z\" fill=\"#000000\" fill-rule=\"evenodd\" fill-opacity=\"1\" /><path clip-path=\"url(#clip920)\" d=\"M91.1818 381.688 L96.066 381.688 L96.066 387.567 L91.1818 387.567 L91.1818 381.688 Z\" fill=\"#000000\" fill-rule=\"evenodd\" fill-opacity=\"1\" /><path clip-path=\"url(#clip920)\" d=\"M110.279 383.632 L126.598 383.632 L126.598 387.567 L104.654 387.567 L104.654 383.632 Q107.316 380.878 111.899 376.248 Q116.506 371.595 117.686 370.253 Q119.932 367.73 120.811 365.993 Q121.714 364.234 121.714 362.544 Q121.714 359.79 119.77 358.054 Q117.848 356.318 114.746 356.318 Q112.547 356.318 110.094 357.081 Q107.663 357.845 104.885 359.396 L104.885 354.674 Q107.709 353.54 110.163 352.961 Q112.617 352.382 114.654 352.382 Q120.024 352.382 123.219 355.068 Q126.413 357.753 126.413 362.243 Q126.413 364.373 125.603 366.294 Q124.816 368.193 122.709 370.785 Q122.131 371.456 119.029 374.674 Q115.927 377.868 110.279 383.632 Z\" fill=\"#000000\" fill-rule=\"evenodd\" fill-opacity=\"1\" /><path clip-path=\"url(#clip920)\" d=\"M70.0708 202.861 Q66.4597 202.861 64.631 206.426 Q62.8254 209.968 62.8254 217.097 Q62.8254 224.204 64.631 227.768 Q66.4597 231.31 70.0708 231.31 Q73.705 231.31 75.5105 227.768 Q77.3392 224.204 77.3392 217.097 Q77.3392 209.968 75.5105 206.426 Q73.705 202.861 70.0708 202.861 M70.0708 199.157 Q75.8809 199.157 78.9365 203.764 Q82.0151 208.347 82.0151 217.097 Q82.0151 225.824 78.9365 230.43 Q75.8809 235.014 70.0708 235.014 Q64.2606 235.014 61.1819 230.43 Q58.1264 225.824 58.1264 217.097 Q58.1264 208.347 61.1819 203.764 Q64.2606 199.157 70.0708 199.157 Z\" fill=\"#000000\" fill-rule=\"evenodd\" fill-opacity=\"1\" /><path clip-path=\"url(#clip920)\" d=\"M90.2327 228.463 L95.1169 228.463 L95.1169 234.342 L90.2327 234.342 L90.2327 228.463 Z\" fill=\"#000000\" fill-rule=\"evenodd\" fill-opacity=\"1\" /><path clip-path=\"url(#clip920)\" d=\"M119.469 215.708 Q122.825 216.426 124.7 218.694 Q126.598 220.963 126.598 224.296 Q126.598 229.412 123.08 232.213 Q119.561 235.014 113.08 235.014 Q110.904 235.014 108.589 234.574 Q106.297 234.157 103.844 233.301 L103.844 228.787 Q105.788 229.921 108.103 230.5 Q110.418 231.079 112.941 231.079 Q117.339 231.079 119.631 229.343 Q121.945 227.606 121.945 224.296 Q121.945 221.241 119.793 219.528 Q117.663 217.792 113.844 217.792 L109.816 217.792 L109.816 213.949 L114.029 213.949 Q117.478 213.949 119.307 212.583 Q121.135 211.194 121.135 208.602 Q121.135 205.94 119.237 204.528 Q117.362 203.093 113.844 203.093 Q111.922 203.093 109.723 203.509 Q107.524 203.926 104.885 204.806 L104.885 200.639 Q107.547 199.898 109.862 199.528 Q112.2 199.157 114.26 199.157 Q119.584 199.157 122.686 201.588 Q125.788 203.995 125.788 208.116 Q125.788 210.986 124.145 212.977 Q122.501 214.944 119.469 215.708 Z\" fill=\"#000000\" fill-rule=\"evenodd\" fill-opacity=\"1\" /><path clip-path=\"url(#clip920)\" d=\"M68.9365 49.6362 Q65.3254 49.6362 63.4967 53.201 Q61.6912 56.7427 61.6912 63.8723 Q61.6912 70.9787 63.4967 74.5435 Q65.3254 78.0851 68.9365 78.0851 Q72.5707 78.0851 74.3763 74.5435 Q76.205 70.9787 76.205 63.8723 Q76.205 56.7427 74.3763 53.201 Q72.5707 49.6362 68.9365 49.6362 M68.9365 45.9325 Q74.7467 45.9325 77.8022 50.539 Q80.8809 55.1223 80.8809 63.8723 Q80.8809 72.5991 77.8022 77.2055 Q74.7467 81.7888 68.9365 81.7888 Q63.1264 81.7888 60.0477 77.2055 Q56.9921 72.5991 56.9921 63.8723 Q56.9921 55.1223 60.0477 50.539 Q63.1264 45.9325 68.9365 45.9325 Z\" fill=\"#000000\" fill-rule=\"evenodd\" fill-opacity=\"1\" /><path clip-path=\"url(#clip920)\" d=\"M89.0984 75.2379 L93.9827 75.2379 L93.9827 81.1175 L89.0984 81.1175 L89.0984 75.2379 Z\" fill=\"#000000\" fill-rule=\"evenodd\" fill-opacity=\"1\" /><path clip-path=\"url(#clip920)\" d=\"M117.015 50.6316 L105.209 69.0806 L117.015 69.0806 L117.015 50.6316 M115.788 46.5575 L121.668 46.5575 L121.668 69.0806 L126.598 69.0806 L126.598 72.9694 L121.668 72.9694 L121.668 81.1175 L117.015 81.1175 L117.015 72.9694 L101.413 72.9694 L101.413 68.4556 L115.788 46.5575 Z\" fill=\"#000000\" fill-rule=\"evenodd\" fill-opacity=\"1\" /><polyline clip-path=\"url(#clip922)\" style=\"stroke:#009af9; stroke-linecap:butt; stroke-linejoin:round; stroke-width:4; stroke-opacity:1; fill:none\" points=\"\n",
       "  173.131,676.131 177.775,676.044 182.419,675.945 225.361,674.188 268.302,669.414 294.108,663.658 319.914,654.31 341.733,642.462 363.551,625.857 375.402,614.445 \n",
       "  387.252,601.126 399.103,585.743 410.953,568.168 421.879,549.941 432.804,529.731 443.729,507.539 454.654,483.414 478.08,425.709 501.506,361.538 528.647,283.278 \n",
       "  555.788,207.224 567.848,176.159 579.908,147.766 591.968,122.712 604.028,101.61 614.604,86.7801 625.179,75.693 635.755,68.5718 646.33,65.5612 657.86,67.0326 \n",
       "  669.39,73.4259 680.92,84.5865 692.451,100.247 704.049,120.168 715.648,143.803 727.247,170.616 738.845,200.018 764.493,271.135 790.14,345.251 814.543,413.188 \n",
       "  838.946,474.695 851.633,503.282 864.32,529.283 877.007,552.614 889.693,573.278 911.052,602.268 932.411,624.61 958.488,644.266 984.565,657.334 1009.08,665.224 \n",
       "  1033.59,670.152 1072.86,674.245 1112.14,675.879 1118.18,676.015 1124.22,676.131 \n",
       "  \"/>\n",
       "<path clip-path=\"url(#clip920)\" d=\"\n",
       "M954.703 172.498 L1119.15 172.498 L1119.15 68.8176 L954.703 68.8176  Z\n",
       "  \" fill=\"#ffffff\" fill-rule=\"evenodd\" fill-opacity=\"1\"/>\n",
       "<polyline clip-path=\"url(#clip920)\" style=\"stroke:#000000; stroke-linecap:butt; stroke-linejoin:round; stroke-width:4; stroke-opacity:1; fill:none\" points=\"\n",
       "  954.703,172.498 1119.15,172.498 1119.15,68.8176 954.703,68.8176 954.703,172.498 \n",
       "  \"/>\n",
       "<polyline clip-path=\"url(#clip920)\" style=\"stroke:#009af9; stroke-linecap:butt; stroke-linejoin:round; stroke-width:4; stroke-opacity:1; fill:none\" points=\"\n",
       "  965.905,120.658 1033.12,120.658 \n",
       "  \"/>\n",
       "<path clip-path=\"url(#clip920)\" d=\"M1058.16 140.345 Q1056.35 144.975 1054.64 146.387 Q1052.93 147.799 1050.06 147.799 L1046.65 147.799 L1046.65 144.234 L1049.15 144.234 Q1050.91 144.234 1051.89 143.4 Q1052.86 142.567 1054.04 139.465 L1054.8 137.521 L1044.32 112.012 L1048.83 112.012 L1056.93 132.289 L1065.03 112.012 L1069.55 112.012 L1058.16 140.345 Z\" fill=\"#000000\" fill-rule=\"evenodd\" fill-opacity=\"1\" /><path clip-path=\"url(#clip920)\" d=\"M1076.84 134.002 L1084.48 134.002 L1084.48 107.637 L1076.17 109.303 L1076.17 105.044 L1084.43 103.378 L1089.11 103.378 L1089.11 134.002 L1096.75 134.002 L1096.75 137.938 L1076.84 137.938 L1076.84 134.002 Z\" fill=\"#000000\" fill-rule=\"evenodd\" fill-opacity=\"1\" /></svg>\n"
      ]
     },
     "execution_count": 1,
     "metadata": {},
     "output_type": "execute_result"
    }
   ],
   "source": [
    "ENV[\"LINES\"] = 200\n",
    "ENV[\"COLUMNS\"] = 200\n",
    "\n",
    "using Distributions\n",
    "using ForwardDiff\n",
    "using Memoization\n",
    "using RCall\n",
    "using Roots\n",
    "using StaticArrays\n",
    "using StatsPlots\n",
    "plot(Normal(); size=(300, 200))"
   ]
  },
  {
   "cell_type": "code",
   "execution_count": 2,
   "id": "b0759dbc-716a-422c-9003-3c4527bc7f1b",
   "metadata": {},
   "outputs": [
    {
     "data": {
      "text/plain": [
       "pval_dos (generic function with 1 method)"
      ]
     },
     "execution_count": 2,
     "metadata": {},
     "output_type": "execute_result"
    }
   ],
   "source": [
    "x ⪅ y = x < y || x ≈ y\n",
    "x ⪆ y = x > y || x ≈ y\n",
    "\n",
    "@memoize function pval_exact(k, n, θ)\n",
    "    bin = Binomial(n, θ)\n",
    "    pk = pdf(bin, k)\n",
    "    P = sum(pdf(bin, j) for j in support(bin) if pdf(bin, j) ⪅ pk; init = 0.0)\n",
    "    min(1, P)\n",
    "end\n",
    "\n",
    "@memoize function pval_dos(k, n, θ)\n",
    "    bin = Binomial(n, θ)\n",
    "    min(1, 2cdf(bin, k), 2ccdf(bin, k-1))\n",
    "end"
   ]
  },
  {
   "cell_type": "code",
   "execution_count": 3,
   "id": "3d7ea2be-2226-4e23-9a8d-4b0556f669c1",
   "metadata": {},
   "outputs": [
    {
     "data": {
      "text/plain": [
       "pval_dos (generic function with 2 methods)"
      ]
     },
     "execution_count": 3,
     "metadata": {},
     "output_type": "execute_result"
    }
   ],
   "source": [
    "x ⪅ y = x < y || x ≈ y\n",
    "x ⪆ y = x > y || x ≈ y\n",
    "\n",
    "@memoize function pval_exact(dist, k)\n",
    "    pk = pdf(dist, k)\n",
    "    P = sum(pdf(dist, j) for j in support(dist) if pdf(dist, j) ⪅ pk; init = 0.0)\n",
    "    min(1, P)\n",
    "end\n",
    "\n",
    "@memoize function pval_dos(dist, k)\n",
    "    min(1, 2cdf(dist, k), 2ccdf(dist, k-1))\n",
    "end"
   ]
  },
  {
   "cell_type": "code",
   "execution_count": 4,
   "id": "3bccf60d-69ff-4644-a953-b1f93aacc7b8",
   "metadata": {},
   "outputs": [
    {
     "data": {
      "text/plain": [
       "pval_exact2 (generic function with 1 method)"
      ]
     },
     "execution_count": 4,
     "metadata": {},
     "output_type": "execute_result"
    }
   ],
   "source": [
    "@memoize function pval_exact2(k, n, θ)\n",
    "    bin = Binomial(n, θ)\n",
    "    pk = pdf(bin, k)\n",
    "    if k ⪅ mean(bin)\n",
    "        a = k\n",
    "        b = n + 1\n",
    "        while a ≤ b\n",
    "            if pdf(bin, b - 1) ⪅ pk\n",
    "                b -= 1\n",
    "            else\n",
    "                break\n",
    "            end\n",
    "        end\n",
    "    else\n",
    "        b = k\n",
    "        a = -1\n",
    "        while a ≤ b\n",
    "            if pdf(bin, a + 1) ⪅ pk\n",
    "                a += 1\n",
    "            else\n",
    "                break\n",
    "            end\n",
    "        end\n",
    "    end\n",
    "    P = min(1, a < b ? cdf(bin, a) + ccdf(bin, b-1) : 1.0)\n",
    "end"
   ]
  },
  {
   "cell_type": "code",
   "execution_count": 5,
   "id": "d151ca08-e1ce-4add-8268-3f525b6d4667",
   "metadata": {},
   "outputs": [
    {
     "data": {
      "text/plain": [
       "11-element Vector{NamedTuple{(:k, :p), Tuple{Int64, Float64}}}:\n",
       " (k = 0, p = 0.0060466176)\n",
       " (k = 1, p = 0.04031078400000004)\n",
       " (k = 2, p = 0.12093235199999994)\n",
       " (k = 3, p = 0.2149908480000006)\n",
       " (k = 4, p = 0.2508226560000002)\n",
       " (k = 5, p = 0.20065812480000034)\n",
       " (k = 6, p = 0.11147673600000013)\n",
       " (k = 7, p = 0.04246732800000012)\n",
       " (k = 8, p = 0.010616832)\n",
       " (k = 9, p = 0.0015728640000000028)\n",
       " (k = 10, p = 0.00010485760000000014)"
      ]
     },
     "execution_count": 5,
     "metadata": {},
     "output_type": "execute_result"
    }
   ],
   "source": [
    "bin = Binomial(10, 0.4)\n",
    "[(k = k, p = pdf(bin, k)) for k in 0:10]"
   ]
  },
  {
   "cell_type": "code",
   "execution_count": 6,
   "id": "dd74c235-07f9-44e6-9a9a-87d40ff44d10",
   "metadata": {},
   "outputs": [
    {
     "data": {
      "text/plain": [
       "13-element Vector{NamedTuple{(:k, :P), Tuple{Int64, Float64}}}:\n",
       " (k = -1, P = 0.0)\n",
       " (k = 0, P = 0.007724339200000003)\n",
       " (k = 1, P = 0.058651955200000036)\n",
       " (k = 2, P = 0.3335283712000003)\n",
       " (k = 3, P = 0.749177344000001)\n",
       " (k = 4, P = 1.0)\n",
       " (k = 5, P = 0.5341864960000006)\n",
       " (k = 6, P = 0.2125960192000003)\n",
       " (k = 7, P = 0.10111928320000015)\n",
       " (k = 8, P = 0.018341171200000003)\n",
       " (k = 9, P = 0.0016777216000000029)\n",
       " (k = 10, P = 0.00010485760000000014)\n",
       " (k = 11, P = 0.0)"
      ]
     },
     "execution_count": 6,
     "metadata": {},
     "output_type": "execute_result"
    }
   ],
   "source": [
    "[(k = k, P = pval_exact(k, params(bin)...)) for k in -1:11]"
   ]
  },
  {
   "cell_type": "code",
   "execution_count": 7,
   "id": "a845b3e4-d5af-4ddb-98e2-01bc77a3509a",
   "metadata": {},
   "outputs": [
    {
     "data": {
      "text/plain": [
       "13-element Vector{NamedTuple{(:k, :ΔP), Tuple{Int64, Float64}}}:\n",
       " (k = -1, ΔP = 0.0)\n",
       " (k = 0, ΔP = 8.673617379884035e-19)\n",
       " (k = 1, ΔP = -1.3877787807814457e-17)\n",
       " (k = 2, ΔP = -1.6653345369377348e-16)\n",
       " (k = 3, ΔP = -7.771561172376096e-16)\n",
       " (k = 4, ΔP = 0.0)\n",
       " (k = 5, ΔP = -3.3306690738754696e-16)\n",
       " (k = 6, ΔP = -8.326672684688674e-17)\n",
       " (k = 7, ΔP = -8.326672684688674e-17)\n",
       " (k = 8, ΔP = 0.0)\n",
       " (k = 9, ΔP = -8.673617379884035e-19)\n",
       " (k = 10, ΔP = 1.3552527156068805e-20)\n",
       " (k = 11, ΔP = 0.0)"
      ]
     },
     "execution_count": 7,
     "metadata": {},
     "output_type": "execute_result"
    }
   ],
   "source": [
    "[(k = k, ΔP = pval_exact2(k, params(bin)...) - pval_exact(k, params(bin)...)) for k in -1:11]"
   ]
  },
  {
   "cell_type": "code",
   "execution_count": 8,
   "id": "816e72dd-9891-4da9-a4ca-0ff14fd29dd2",
   "metadata": {},
   "outputs": [
    {
     "data": {
      "text/plain": [
       "phi (generic function with 2 methods)"
      ]
     },
     "execution_count": 8,
     "metadata": {},
     "output_type": "execute_result"
    }
   ],
   "source": [
    "d(k, n, θ) = k/θ - (n - k)/(1 - θ)\n",
    "dpdf(bin, k) = d(k, params(bin)...) * pdf(bin, k)\n",
    "\n",
    "@memoize function phi(k, n, θ, α=0.05)\n",
    "    bin = Binomial(n, θ)\n",
    "    m = mean(bin)\n",
    "    pk = pdf(bin, k)\n",
    "    if k ⪅ m\n",
    "        a = k\n",
    "        b = n + 1\n",
    "        while a ≤ b\n",
    "            if pdf(bin, b - 1) ⪅ pk\n",
    "                b -= 1\n",
    "            else\n",
    "                break\n",
    "            end\n",
    "        end\n",
    "    else\n",
    "        b = k\n",
    "        a = -1\n",
    "        while a ≤ b\n",
    "            if pdf(bin, a + 1) ⪅ pk\n",
    "                a += 1\n",
    "            else\n",
    "                break\n",
    "            end\n",
    "        end\n",
    "    end\n",
    "\n",
    "    P1 = a < b ? cdf(bin, a) + ccdf(bin, b-1) : 1.0\n",
    "    P1 ⪅ α && return 1.0\n",
    "\n",
    "    P0 = k ⪅ m ? pval_exact(k-1, n, θ) : pval_exact(k+1, n, θ)\n",
    "    P0 ⪆ α && return 0.0\n",
    "    \n",
    "    a == b && return (α - P0)/(P1 - P0)\n",
    "    \n",
    "    dpdf(bin, j) = ForwardDiff.derivative(θ -> pdf(Binomial(n, θ), j), θ)\n",
    "    M = @SMatrix [\n",
    "        pdf(bin, a)  pdf(bin, b)\n",
    "        dpdf(bin, a) dpdf(bin, b)\n",
    "    ]\n",
    "    y1 = max(0, α - P0)\n",
    "    y2 = -sum(dpdf(bin, j) for j in 0:a-1; init=0.0) - sum(dpdf(bin, j) for j in b+1:n; init=0.0)\n",
    "    y = @SVector [y1, y2]\n",
    "    ra, rb = M \\ y\n",
    "    #(0 ≤ ra ⪅ 1 && 0 ≤ rb ⪅ 1) || \n",
    "    println(\"k = $k,  a = $a,  b = $b\\nM = $M,  y = $y\\nra = $ra,  rb = $rb\")\n",
    "    return k == a ? ra : rb\n",
    "end"
   ]
  },
  {
   "cell_type": "code",
   "execution_count": 9,
   "id": "2ead3ec6-4c9e-4453-bddb-08ce0cbdc06a",
   "metadata": {},
   "outputs": [
    {
     "name": "stdout",
     "output_type": "stream",
     "text": [
      "k = 1,  a = 1,  b = 5\n",
      "M = [0.12106082100000018 0.10291934520000003; -1.1529602000000017 0.9801842400000004],  y = [0.011160396699999985, -0.3316021099999997]\n",
      "ra = 0.18989883708949853,  rb = -0.11493380959637109\n",
      "k = 6,  a = 0,  b = 6\n",
      "M = [0.028247524900000005 0.03675690899999997; -0.4035360700000001 0.5250986999999995],  y = [0.039407921599999986, -0.21003948000000033]\n",
      "ra = 0.9577951588954967,  rb = 0.33606141909266624\n"
     ]
    },
    {
     "data": {
      "text/plain": [
       "11-element Vector{NamedTuple{(:k, :P, :phi), Tuple{Int64, Float64, Float64}}}:\n",
       " (k = 0, P = 0.03883960330000002, phi = 1.0)\n",
       " (k = 1, P = 0.2995766785000002, phi = 0.18989883708949853)\n",
       " (k = 2, P = 0.733172068, phi = 0.0)\n",
       " (k = 3, P = 1.0, phi = 0.0)\n",
       " (k = 4, P = 0.4996976275000003, phi = 0.0)\n",
       " (k = 5, P = 0.1785158575, phi = 0.0)\n",
       " (k = 6, P = 0.0755965123, phi = 0.33606141909266624)\n",
       " (k = 7, P = 0.010592078400000015, phi = 1.0)\n",
       " (k = 8, P = 0.0015903863999999985, phi = 1.0)\n",
       " (k = 9, P = 0.00014368590000000015, phi = 1.0)\n",
       " (k = 10, P = 5.904899999999995e-6, phi = 1.0)"
      ]
     },
     "execution_count": 9,
     "metadata": {},
     "output_type": "execute_result"
    }
   ],
   "source": [
    "bin = Binomial(10, 0.3)\n",
    "[(k = k, P = pval_exact(k, params(bin)...), phi = phi(k, params(bin)...)) for k in 0:10]"
   ]
  },
  {
   "cell_type": "code",
   "execution_count": 10,
   "id": "e3ef7a36-b43d-4092-9e03-afec281b5b0d",
   "metadata": {},
   "outputs": [
    {
     "data": {
      "text/plain": [
       "11-element Vector{NamedTuple{(:k, :P, :phi), Tuple{Int64, Float64, Float64}}}:\n",
       " (k = 0, P = 0.03883960330000002, phi = 1.0)\n",
       " (k = 1, P = 0.2995766785000002, phi = 0.18989883708949853)\n",
       " (k = 2, P = 0.733172068, phi = 0.0)\n",
       " (k = 3, P = 1.0, phi = 0.0)\n",
       " (k = 4, P = 0.4996976275000003, phi = 0.0)\n",
       " (k = 5, P = 0.1785158575, phi = 0.0)\n",
       " (k = 6, P = 0.0755965123, phi = 0.33606141909266624)\n",
       " (k = 7, P = 0.010592078400000015, phi = 1.0)\n",
       " (k = 8, P = 0.0015903863999999985, phi = 1.0)\n",
       " (k = 9, P = 0.00014368590000000015, phi = 1.0)\n",
       " (k = 10, P = 5.904899999999995e-6, phi = 1.0)"
      ]
     },
     "execution_count": 10,
     "metadata": {},
     "output_type": "execute_result"
    }
   ],
   "source": [
    "bin = Binomial(10, 0.3)\n",
    "[(k = k, P = pval_exact(k, params(bin)...), phi = phi(k, params(bin)...)) for k in 0:10]"
   ]
  },
  {
   "cell_type": "code",
   "execution_count": 11,
   "id": "c2885599-c3e1-42f3-b11b-9ceaf871ee8d",
   "metadata": {},
   "outputs": [
    {
     "data": {
      "text/plain": [
       "dpdf (generic function with 2 methods)"
      ]
     },
     "execution_count": 11,
     "metadata": {},
     "output_type": "execute_result"
    }
   ],
   "source": [
    "dpdf(bin::Binomial, j) = ForwardDiff.derivative(θ -> pdf(Binomial(ntrials(bin), θ), j), succprob(bin))"
   ]
  },
  {
   "cell_type": "code",
   "execution_count": 12,
   "id": "646c3b58-fcd2-4e43-be70-c056620c2ae0",
   "metadata": {},
   "outputs": [
    {
     "data": {
      "text/plain": [
       "13-element Vector{NamedTuple{(:k, :dpdf), Tuple{Int64, Float64}}}:\n",
       " (k = -1, dpdf = 0.0)\n",
       " (k = 0, dpdf = -0.26012294873748926)\n",
       " (k = 1, dpdf = -0.9104303205812133)\n",
       " (k = 2, dpdf = -1.1705532693187013)\n",
       " (k = 3, dpdf = -0.39018442310623436)\n",
       " (k = 4, dpdf = 0.6828227404359101)\n",
       " (k = 5, dpdf = 1.0242341106538637)\n",
       " (k = 6, dpdf = 0.6828227404359102)\n",
       " (k = 7, dpdf = 0.2682517908855366)\n",
       " (k = 8, dpdf = 0.0640146319158664)\n",
       " (k = 9, dpdf = 0.00863689478229946)\n",
       " (k = 10, dpdf = 0.000508052634252908)\n",
       " (k = 11, dpdf = 0.0)"
      ]
     },
     "execution_count": 12,
     "metadata": {},
     "output_type": "execute_result"
    }
   ],
   "source": [
    "bin = Binomial(10, 1/3)\n",
    "[(k = k, dpdf = dpdf(bin, k)) for k in -1:11]"
   ]
  },
  {
   "cell_type": "code",
   "execution_count": 13,
   "id": "6752bc46-315b-411d-84cb-78fe195c807d",
   "metadata": {},
   "outputs": [
    {
     "data": {
      "text/plain": [
       "dpdf2 (generic function with 1 method)"
      ]
     },
     "execution_count": 13,
     "metadata": {},
     "output_type": "execute_result"
    }
   ],
   "source": [
    "dpdf2(fnh::FisherNoncentralHypergeometric, a) = ForwardDiff.derivative(t -> pdf(FisherNoncentralHypergeometric(params(fnh)[1:3]..., exp(t)), a), log(params(fnh)[4]))"
   ]
  },
  {
   "cell_type": "code",
   "execution_count": 14,
   "id": "5e335721-945e-4d94-ba1e-2141264dafe8",
   "metadata": {},
   "outputs": [
    {
     "name": "stdout",
     "output_type": "stream",
     "text": [
      "mean(fnh) = 4.782608695652174\n"
     ]
    },
    {
     "data": {
      "text/plain": [
       "11-element Vector{NamedTuple{(:a, :dpdf), Tuple{Int64, Float64}}}:\n",
       " (a = 0, dpdf = -0.0002759038149136881)\n",
       " (a = 1, dpdf = -0.008001210632496956)\n",
       " (a = 2, dpdf = -0.06621691557928515)\n",
       " (a = 3, dpdf = -0.2036170154063018)\n",
       " (a = 4, dpdf = -0.2085832840747482)\n",
       " (a = 5, dpdf = 0.06952776135824942)\n",
       " (a = 6, dpdf = 0.2433471647538729)\n",
       " (a = 7, dpdf = 0.14071094560598094)\n",
       " (a = 8, dpdf = 0.03062532345541938)\n",
       " (a = 9, dpdf = 0.0024329700042388866)\n",
       " (a = 10, dpdf = 5.0164329984306945e-5)"
      ]
     },
     "execution_count": 14,
     "metadata": {},
     "output_type": "execute_result"
    }
   ],
   "source": [
    "fnh = FisherNoncentralHypergeometric(11, 12, 10, 1.0)\n",
    "@show mean(fnh)\n",
    "[(a = a, dpdf = dpdf2(fnh, a)) for a in support(fnh)]"
   ]
  },
  {
   "cell_type": "code",
   "execution_count": 15,
   "id": "b28fc98a-37c3-49b0-8b7a-23516093c017",
   "metadata": {},
   "outputs": [
    {
     "data": {
      "text/plain": [
       "dpdf (generic function with 3 methods)"
      ]
     },
     "execution_count": 15,
     "metadata": {},
     "output_type": "execute_result"
    }
   ],
   "source": [
    "dpdf(fnh::FisherNoncentralHypergeometric, a) = ForwardDiff.derivative(ω -> pdf(FisherNoncentralHypergeometric(params(fnh)[1:3]..., ω), a), params(fnh)[4])"
   ]
  },
  {
   "cell_type": "code",
   "execution_count": 16,
   "id": "ef1b5b17-fa0e-44b0-8e45-5f7de8868611",
   "metadata": {},
   "outputs": [
    {
     "name": "stdout",
     "output_type": "stream",
     "text": [
      "mean(fnh) = 4.782608695652174\n"
     ]
    },
    {
     "data": {
      "text/plain": [
       "11-element Vector{NamedTuple{(:a, :dpdf), Tuple{Int64, Float64}}}:\n",
       " (a = 0, dpdf = -0.0002759038149136881)\n",
       " (a = 1, dpdf = -0.008001210632496956)\n",
       " (a = 2, dpdf = -0.06621691557928515)\n",
       " (a = 3, dpdf = -0.2036170154063018)\n",
       " (a = 4, dpdf = -0.2085832840747482)\n",
       " (a = 5, dpdf = 0.06952776135824942)\n",
       " (a = 6, dpdf = 0.2433471647538729)\n",
       " (a = 7, dpdf = 0.14071094560598094)\n",
       " (a = 8, dpdf = 0.03062532345541938)\n",
       " (a = 9, dpdf = 0.0024329700042388866)\n",
       " (a = 10, dpdf = 5.0164329984306945e-5)"
      ]
     },
     "execution_count": 16,
     "metadata": {},
     "output_type": "execute_result"
    }
   ],
   "source": [
    "fnh = FisherNoncentralHypergeometric(11, 12, 10, 1.0)\n",
    "@show mean(fnh)\n",
    "[(a = a, dpdf = dpdf(fnh, a)) for a in support(fnh)]"
   ]
  },
  {
   "cell_type": "code",
   "execution_count": 17,
   "id": "a6c943e9-a1c7-4155-94bc-ef6f280a5bd0",
   "metadata": {},
   "outputs": [
    {
     "data": {
      "text/plain": [
       "calcumpu (generic function with 2 methods)"
      ]
     },
     "execution_count": 17,
     "metadata": {},
     "output_type": "execute_result"
    }
   ],
   "source": [
    "function calcumpu(Dist, np, θ, α = 0.05)\n",
    "    dist = Dist(np..., θ)\n",
    "    supp = support(dist)\n",
    "    pmf(x) = pdf(dist, x)\n",
    "    dpmf(x) = ForwardDiff.derivative(θ -> pdf(Dist(np..., θ), x), θ)\n",
    "    phi = Matrix{Union{Float64, Missing}}(undef, length(supp), length(supp))\n",
    "    phi .= missing\n",
    "    for i in eachindex(supp)\n",
    "        a = supp[i]\n",
    "        Ptmp = cdf(dist, a - 1)\n",
    "        Ptmp ⪅ α || break\n",
    "        P0 = Ptmp\n",
    "        j = lastindex(supp)\n",
    "        b = supp[j]\n",
    "        while a < b\n",
    "            Ptmp = P0 + pdf(dist, b)\n",
    "            Ptmp ⪅ α || break\n",
    "            P0 = Ptmp\n",
    "            j -= 1\n",
    "            b = supp[j]\n",
    "        end\n",
    "        @show P0, a, b\n",
    "    end\n",
    "    phi, supp\n",
    "end"
   ]
  },
  {
   "cell_type": "code",
   "execution_count": 18,
   "id": "5a3e9e50-d5a8-4dba-bb40-92314c9c2160",
   "metadata": {},
   "outputs": [
    {
     "name": "stdout",
     "output_type": "stream",
     "text": [
      "(P0, a, b) = (0.04734898739999999, 0, 5)\n",
      "(P0, a, b) = (0.038839603300000004, 1, 6)\n"
     ]
    },
    {
     "data": {
      "text/plain": [
       "(Union{Missing, Float64}[missing missing … missing missing; missing missing … missing missing; … ; missing missing … missing missing; missing missing … missing missing], 0:10)"
      ]
     },
     "execution_count": 18,
     "metadata": {},
     "output_type": "execute_result"
    }
   ],
   "source": [
    "calcumpu(Binomial, 10, 0.3)"
   ]
  },
  {
   "cell_type": "code",
   "execution_count": 19,
   "id": "07a05e32-4745-4c34-bcbd-f8c157135b3c",
   "metadata": {},
   "outputs": [
    {
     "data": {
      "text/plain": [
       "calcumpu (generic function with 2 methods)"
      ]
     },
     "execution_count": 19,
     "metadata": {},
     "output_type": "execute_result"
    }
   ],
   "source": [
    "function calcumpu(Dist, np, θ, α = 0.05)\n",
    "    dist = Dist(np..., θ)\n",
    "    s = support(dist)\n",
    "    pmf(x) = pdf(dist, x)\n",
    "    dpmf(x) = ForwardDiff.derivative(θ -> pdf(Dist(np..., θ), x), θ)\n",
    "    @show dpmf.(s)\n",
    "    R = Matrix{Union{Float64, Missing}}(undef, length(s), length(s))\n",
    "    R .= missing\n",
    "    for i in eachindex(s)\n",
    "        Ptmp = cdf(dist, s[i] - 1)\n",
    "        @show Ptmp\n",
    "        Ptmp > α && continue\n",
    "        P0 = Ptmp\n",
    "        Pi = P0\n",
    "        j = lastindex(s)\n",
    "        Pj = 0.0\n",
    "        while i < j\n",
    "            Ptmp = P0 + pdf(dist, s[j])\n",
    "            Ptmp ⪅ α || break\n",
    "            P0 = Ptmp\n",
    "            Pj += pdf(dist, s[j])\n",
    "            j -= 1\n",
    "        end\n",
    "        dP0 = sum(dpmf(s[k]) for k in 1:i-1; init=0.0) + sum(dpmf(s[k]) for k in j+1:length(s); init=0.0)\n",
    "        @show P0 ≈ sum(pmf(s[k]) for k in 1:i-1; init=0.0) + sum(pmf(k) for k in j+1:length(s); init=0.0)\n",
    "        @show P0, Pi, Pj, dP0, s[i], s[j]\n",
    "        M = @SMatrix [\n",
    "             pmf(s[i])  pmf(s[j])\n",
    "            dpmf(s[i]) dpmf(s[j])\n",
    "        ]\n",
    "        y = @SVector [max(0, α - P0), -dP0]\n",
    "        @show M\n",
    "        @show y\n",
    "        ri, rj = M \\ y\n",
    "        R[i, :] .= 0\n",
    "        R[i, 1:i-1] .= 1\n",
    "        R[i, j+1:end] .= 1\n",
    "        R[i, i] = ri\n",
    "        R[i, j] = rj\n",
    "        #@show ri*pmf(s[i]) + rj*pmf(s[j]) + P0\n",
    "        #@show ri*dpmf(s[i]) + rj*dpmf(s[j]) + dP0\n",
    "    end\n",
    "    R, s\n",
    "end"
   ]
  },
  {
   "cell_type": "code",
   "execution_count": 20,
   "id": "5b77c8bf-6afe-474e-8649-28bb6c059e26",
   "metadata": {},
   "outputs": [
    {
     "name": "stdout",
     "output_type": "stream",
     "text": [
      "dpmf.(s) = [-3.8742048899999992, 0.0, 2.15233605, 1.2754584000000038, 0.37200870000000086, 0.06613488000000013, 0.0076545000000000085, 0.0005832000000000034, 2.8350000000000018e-5, 8.000000000000024e-7, 1.0000000000000032e-8]\n",
      "Ptmp = 0.0\n",
      "P0 ≈ sum((pmf(s[k]) for k = 1:i - 1); init = 0.0) + sum((pmf(k) for k = j + 1:length(s)); init = 0.0) = false\n",
      "(P0, Pi, Pj, dP0, s[i], s[j]) = (0.012795198400000029, 0.0, 0.012795198400000029, 0.446410440000001, 0, 3)\n",
      "M = [0.34867844009999993 0.05739562800000017; -3.8742048899999992 1.2754584000000038]\n",
      "y = [0.037204801599999976, -0.446410440000001]\n",
      "Ptmp = 0.3486784401000003\n",
      "Ptmp = 0.7360989290999997\n",
      "Ptmp = 0.9298091735999999\n",
      "Ptmp = 0.9872048016\n",
      "Ptmp = 0.9983650626\n",
      "Ptmp = 0.9998530974\n",
      "Ptmp = 0.9999908784\n",
      "Ptmp = 0.9999996264\n",
      "Ptmp = 0.9999999909\n",
      "Ptmp = 0.9999999999\n",
      "s = 0:10\n"
     ]
    },
    {
     "data": {
      "text/plain": [
       "11×11 Matrix{Union{Missing, Float64}}:\n",
       " 0.109544  0.0       0.0       -0.0172611  1.0       1.0       1.0       1.0       1.0       1.0       1.0\n",
       "  missing   missing   missing    missing    missing   missing   missing   missing   missing   missing   missing\n",
       "  missing   missing   missing    missing    missing   missing   missing   missing   missing   missing   missing\n",
       "  missing   missing   missing    missing    missing   missing   missing   missing   missing   missing   missing\n",
       "  missing   missing   missing    missing    missing   missing   missing   missing   missing   missing   missing\n",
       "  missing   missing   missing    missing    missing   missing   missing   missing   missing   missing   missing\n",
       "  missing   missing   missing    missing    missing   missing   missing   missing   missing   missing   missing\n",
       "  missing   missing   missing    missing    missing   missing   missing   missing   missing   missing   missing\n",
       "  missing   missing   missing    missing    missing   missing   missing   missing   missing   missing   missing\n",
       "  missing   missing   missing    missing    missing   missing   missing   missing   missing   missing   missing\n",
       "  missing   missing   missing    missing    missing   missing   missing   missing   missing   missing   missing"
      ]
     },
     "execution_count": 20,
     "metadata": {},
     "output_type": "execute_result"
    }
   ],
   "source": [
    "R, s = calcumpu(Binomial, 10, 0.1)\n",
    "@show s\n",
    "R"
   ]
  },
  {
   "cell_type": "code",
   "execution_count": 21,
   "id": "150b5fec-80c2-4d64-9768-acf81bf363a7",
   "metadata": {},
   "outputs": [
    {
     "name": "stdout",
     "output_type": "stream",
     "text": [
      "rj = (0.05 - ccdf(Binomial(10, 0.1), 3)) / pdf(Binomial(10, 0.1), 3) = 0.6482166481391209\n",
      "rj * pdf(Binomial(10, 0.1), 3) + ccdf(Binomial(10, 0.1), 3) = 0.05\n",
      "10 * 0.01 * 0.05 = 0.005000000000000001\n"
     ]
    },
    {
     "data": {
      "text/plain": [
       "0.1645865428000001"
      ]
     },
     "execution_count": 21,
     "metadata": {},
     "output_type": "execute_result"
    }
   ],
   "source": [
    "@show rj = (0.05 - ccdf(Binomial(10, 0.1), 3))/pdf(Binomial(10, 0.1), 3)\n",
    "r = [zeros(3); rj; ones(7)]\n",
    "@show rj * pdf(Binomial(10, 0.1), 3) + ccdf(Binomial(10, 0.1), 3)\n",
    "@show 10 * 0.01 * 0.05\n",
    "sum((0:10) .* vec(r) .* pdf.(Binomial(10, 0.1), 0:10))"
   ]
  },
  {
   "cell_type": "code",
   "execution_count": 22,
   "id": "1f0c74fa-fdef-433d-b751-d836f509c1fe",
   "metadata": {},
   "outputs": [
    {
     "data": {
      "text/plain": [
       "0.01279519840000001"
      ]
     },
     "execution_count": 22,
     "metadata": {},
     "output_type": "execute_result"
    }
   ],
   "source": [
    "ccdf(Binomial(10, 0.1), 3)"
   ]
  },
  {
   "cell_type": "code",
   "execution_count": 23,
   "id": "7a2e4a7d-bac9-4062-910e-952db58e5367",
   "metadata": {},
   "outputs": [
    {
     "data": {
      "text/plain": [
       "0.05739562800000017"
      ]
     },
     "execution_count": 23,
     "metadata": {},
     "output_type": "execute_result"
    }
   ],
   "source": [
    "pdf(Binomial(10, 0.1), 3)"
   ]
  },
  {
   "cell_type": "code",
   "execution_count": 24,
   "id": "0dd846df-7a33-41aa-be20-10687fd43bcb",
   "metadata": {},
   "outputs": [
    {
     "name": "stdout",
     "output_type": "stream",
     "text": [
      "10 * 0.1 * 0.05 = 0.05\n"
     ]
    },
    {
     "data": {
      "text/plain": [
       "11-element Vector{Union{Missing, Float64}}:\n",
       " 0.05\n",
       "  missing\n",
       "  missing\n",
       "  missing\n",
       "  missing\n",
       "  missing\n",
       "  missing\n",
       "  missing\n",
       "  missing\n",
       "  missing\n",
       "  missing"
      ]
     },
     "execution_count": 24,
     "metadata": {},
     "output_type": "execute_result"
    }
   ],
   "source": [
    "@show 10 * 0.1 * 0.05\n",
    "[sum((0:10) .* vec(r) .* pdf.(Binomial(10, 0.1), 0:10)) for r in eachrow(R)]"
   ]
  },
  {
   "cell_type": "code",
   "execution_count": 25,
   "id": "6898cae9-14b2-4ca0-b049-8682130a0ad6",
   "metadata": {},
   "outputs": [
    {
     "name": "stdout",
     "output_type": "stream",
     "text": [
      "dpmf.(s) = [-1.34217728, -1.6777216000000021, 0.0, 1.258291200000003, 1.1010048000000006, 0.49545216000000025, 0.13762560000000026, 0.02457600000000004, 0.0027648000000000017, 0.00017920000000000032, 5.120000000000002e-6]\n",
      "Ptmp = 0.0\n",
      "P0 ≈ sum((pmf(s[k]) for k = 1:i - 1); init = 0.0) + sum((pmf(k) for k = j + 1:length(s)); init = 0.0) = false\n",
      "(P0, Pi, Pj, dP0, s[i], s[j]) = (0.03279349760000003, 0.0, 0.03279349760000003, 0.6606028800000006, 0, 4)\n",
      "M = [0.1073741824 0.08808038400000004; -1.34217728 1.1010048000000006]\n",
      "y = [0.017206502399999976, -0.6606028800000006]\n",
      "Ptmp = 0.10737418240000009\n",
      "Ptmp = 0.37580963840000037\n",
      "Ptmp = 0.6777995263999997\n",
      "Ptmp = 0.8791261183999999\n",
      "Ptmp = 0.9672065024000001\n",
      "Ptmp = 0.9936306176\n",
      "Ptmp = 0.9991356416\n",
      "Ptmp = 0.9999220736000001\n",
      "Ptmp = 0.9999958016\n",
      "Ptmp = 0.9999998976\n",
      "s = 0:10\n"
     ]
    },
    {
     "data": {
      "text/plain": [
       "11×11 Matrix{Union{Missing, Float64}}:\n",
       " 0.326218  0.0       0.0       0.0       -0.202325  1.0       1.0       1.0       1.0       1.0       1.0\n",
       "  missing   missing   missing   missing    missing   missing   missing   missing   missing   missing   missing\n",
       "  missing   missing   missing   missing    missing   missing   missing   missing   missing   missing   missing\n",
       "  missing   missing   missing   missing    missing   missing   missing   missing   missing   missing   missing\n",
       "  missing   missing   missing   missing    missing   missing   missing   missing   missing   missing   missing\n",
       "  missing   missing   missing   missing    missing   missing   missing   missing   missing   missing   missing\n",
       "  missing   missing   missing   missing    missing   missing   missing   missing   missing   missing   missing\n",
       "  missing   missing   missing   missing    missing   missing   missing   missing   missing   missing   missing\n",
       "  missing   missing   missing   missing    missing   missing   missing   missing   missing   missing   missing\n",
       "  missing   missing   missing   missing    missing   missing   missing   missing   missing   missing   missing\n",
       "  missing   missing   missing   missing    missing   missing   missing   missing   missing   missing   missing"
      ]
     },
     "execution_count": 25,
     "metadata": {},
     "output_type": "execute_result"
    }
   ],
   "source": [
    "R, s = calcumpu(Binomial, 10, 0.2)\n",
    "@show s\n",
    "R"
   ]
  },
  {
   "cell_type": "code",
   "execution_count": 26,
   "id": "4d538c52-1728-4d19-87fa-eaf979f3297e",
   "metadata": {},
   "outputs": [
    {
     "name": "stdout",
     "output_type": "stream",
     "text": [
      "10 * 0.2 * 0.05 = 0.1\n"
     ]
    },
    {
     "data": {
      "text/plain": [
       "11-element Vector{Union{Missing, Float64}}:\n",
       " 0.10000000000000002\n",
       "  missing\n",
       "  missing\n",
       "  missing\n",
       "  missing\n",
       "  missing\n",
       "  missing\n",
       "  missing\n",
       "  missing\n",
       "  missing\n",
       "  missing"
      ]
     },
     "execution_count": 26,
     "metadata": {},
     "output_type": "execute_result"
    }
   ],
   "source": [
    "@show 10 * 0.2 * 0.05\n",
    "[sum((0:10) .* vec(r) .* pdf.(Binomial(10, 0.2), 0:10)) for r in eachrow(R)]"
   ]
  },
  {
   "cell_type": "code",
   "execution_count": 27,
   "id": "4546d201-e62e-42cd-ae1c-61dc9923b880",
   "metadata": {},
   "outputs": [
    {
     "name": "stdout",
     "output_type": "stream",
     "text": [
      "dpmf.(s) = [-0.4035360700000001, -1.1529602000000017, -1.1117830499999994, 0.0, 0.9529569000000008, 0.9801842400000004, 0.5250986999999995, 0.17146080000000036, 0.034445249999999955, 0.0039366000000000045, 0.00019682999999999983]\n",
      "Ptmp = 0.0\n",
      "P0 ≈ sum((pmf(s[k]) for k = 1:i - 1); init = 0.0) + sum((pmf(k) for k = j + 1:length(s)); init = 0.0) = false\n",
      "(P0, Pi, Pj, dP0, s[i], s[j]) = (0.04734898739999999, 0.0, 0.04734898739999999, 0.7351381799999998, 0, 5)\n",
      "M = [0.028247524900000005 0.10291934520000003; -0.4035360700000001 0.9801842400000004]\n",
      "y = [0.002651012600000016, -0.7351381799999998]\n",
      "Ptmp = 0.028247524899999987\n",
      "P0 ≈ sum((pmf(s[k]) for k = 1:i - 1); init = 0.0) + sum((pmf(k) for k = j + 1:length(s)); init = 0.0) = false\n",
      "(P0, Pi, Pj, dP0, s[i], s[j]) = (0.038839603300000004, 0.028247524899999987, 0.010592078400000017, -0.19349658999999975, 1, 6)\n",
      "M = [0.12106082100000018 0.03675690899999997; -1.1529602000000017 0.5250986999999995]\n",
      "y = [0.011160396699999998, 0.19349658999999975]\n",
      "Ptmp = 0.14930834590000003\n",
      "Ptmp = 0.38278278639999974\n",
      "Ptmp = 0.6496107184000002\n",
      "Ptmp = 0.8497316674000002\n",
      "Ptmp = 0.9526510126000001\n",
      "Ptmp = 0.9894079216\n",
      "Ptmp = 0.9984096136\n",
      "Ptmp = 0.9998563141\n",
      "Ptmp = 0.9999940950999999\n",
      "s = 0:10\n"
     ]
    },
    {
     "data": {
      "text/plain": [
       "11×11 Matrix{Union{Missing, Float64}}:\n",
       " 1.13058    0.0        0.0       0.0       0.0       -0.284545  1.0       1.0       1.0       1.0       1.0\n",
       " 1.0       -0.0118174  0.0       0.0       0.0        0.0       0.342548  1.0       1.0       1.0       1.0\n",
       "  missing    missing    missing   missing   missing    missing   missing   missing   missing   missing   missing\n",
       "  missing    missing    missing   missing   missing    missing   missing   missing   missing   missing   missing\n",
       "  missing    missing    missing   missing   missing    missing   missing   missing   missing   missing   missing\n",
       "  missing    missing    missing   missing   missing    missing   missing   missing   missing   missing   missing\n",
       "  missing    missing    missing   missing   missing    missing   missing   missing   missing   missing   missing\n",
       "  missing    missing    missing   missing   missing    missing   missing   missing   missing   missing   missing\n",
       "  missing    missing    missing   missing   missing    missing   missing   missing   missing   missing   missing\n",
       "  missing    missing    missing   missing   missing    missing   missing   missing   missing   missing   missing\n",
       "  missing    missing    missing   missing   missing    missing   missing   missing   missing   missing   missing"
      ]
     },
     "execution_count": 27,
     "metadata": {},
     "output_type": "execute_result"
    }
   ],
   "source": [
    "R, s = calcumpu(Binomial, 10, 0.3)\n",
    "@show s\n",
    "R"
   ]
  },
  {
   "cell_type": "code",
   "execution_count": 28,
   "id": "af07c4e6-d18a-4726-b65b-181a81d35a58",
   "metadata": {},
   "outputs": [
    {
     "name": "stdout",
     "output_type": "stream",
     "text": [
      "10 * 0.3 * 0.05 = 0.15000000000000002\n"
     ]
    },
    {
     "data": {
      "text/plain": [
       "11-element Vector{Union{Missing, Float64}}:\n",
       " 0.15000000000000002\n",
       " 0.15000000000000008\n",
       "  missing\n",
       "  missing\n",
       "  missing\n",
       "  missing\n",
       "  missing\n",
       "  missing\n",
       "  missing\n",
       "  missing\n",
       "  missing"
      ]
     },
     "execution_count": 28,
     "metadata": {},
     "output_type": "execute_result"
    }
   ],
   "source": [
    "@show 10 * 0.3 * 0.05\n",
    "[sum((0:10) .* vec(r) .* pdf.(Binomial(10, 0.3), 0:10)) for r in eachrow(R)]"
   ]
  },
  {
   "cell_type": "code",
   "execution_count": 29,
   "id": "161bca1b-9180-434d-be66-debe7007e4df",
   "metadata": {},
   "outputs": [
    {
     "name": "stdout",
     "output_type": "stream",
     "text": [
      "dpmf.(s) = [-0.10077696000000001, -0.5038848000000005, -1.0077695999999996, -0.8957952000000028, 0.0, 0.8360755200000013, 0.9289728000000009, 0.5308416000000015, 0.1769472, 0.032768000000000054, 0.0026214400000000035]\n",
      "Ptmp = 0.0\n",
      "P0 ≈ sum((pmf(s[k]) for k = 1:i - 1); init = 0.0) + sum((pmf(k) for k = j + 1:length(s)); init = 0.0) = false\n",
      "(P0, Pi, Pj, dP0, s[i], s[j]) = (0.012294553600000003, 0.0, 0.012294553600000003, 0.21233664000000005, 0, 7)\n",
      "M = [0.0060466176 0.04246732800000012; -0.10077696000000001 0.5308416000000015]\n",
      "y = [0.0377054464, -0.21233664000000005]\n",
      "Ptmp = 0.006046617600000002\n",
      "P0 ≈ sum((pmf(s[k]) for k = 1:i - 1); init = 0.0) + sum((pmf(k) for k = j + 1:length(s)); init = 0.0) = false\n",
      "(P0, Pi, Pj, dP0, s[i], s[j]) = (0.018341171200000006, 0.006046617600000002, 0.012294553600000003, 0.11155968000000004, 1, 7)\n",
      "M = [0.04031078400000004 0.04246732800000012; -0.5038848000000005 0.5308416000000015]\n",
      "y = [0.0316588288, -0.11155968000000004]\n",
      "Ptmp = 0.04635740160000002\n",
      "P0 ≈ sum((pmf(s[k]) for k = 1:i - 1); init = 0.0) + sum((pmf(k) for k = j + 1:length(s)); init = 0.0) = false\n",
      "(P0, Pi, Pj, dP0, s[i], s[j]) = (0.04803512320000002, 0.04635740160000002, 0.0016777216000000029, -0.5692723200000004, 2, 8)\n",
      "M = [0.12093235199999994 0.010616832; -1.0077695999999996 0.1769472]\n",
      "y = [0.0019648767999999803, 0.5692723200000004]\n",
      "Ptmp = 0.16728975359999992\n",
      "Ptmp = 0.3822806015999999\n",
      "Ptmp = 0.6331032575999996\n",
      "Ptmp = 0.8337613823999999\n",
      "Ptmp = 0.9452381183999999\n",
      "Ptmp = 0.9877054464\n",
      "Ptmp = 0.9983222784\n",
      "Ptmp = 0.9998951424\n",
      "s = 0:10\n"
     ]
    },
    {
     "data": {
      "text/plain": [
       "11×11 Matrix{Union{Missing, Float64}}:\n",
       " 3.87648   0.0        0.0       0.0       0.0       0.0       0.0       0.335925  1.0       1.0       1.0\n",
       " 1.0       0.503384   0.0       0.0       0.0       0.0       0.0       0.267665  1.0       1.0       1.0\n",
       " 1.0       1.0       -0.177463  0.0       0.0       0.0       0.0       0.0       2.20648   1.0       1.0\n",
       "  missing   missing    missing   missing   missing   missing   missing   missing   missing   missing   missing\n",
       "  missing   missing    missing   missing   missing   missing   missing   missing   missing   missing   missing\n",
       "  missing   missing    missing   missing   missing   missing   missing   missing   missing   missing   missing\n",
       "  missing   missing    missing   missing   missing   missing   missing   missing   missing   missing   missing\n",
       "  missing   missing    missing   missing   missing   missing   missing   missing   missing   missing   missing\n",
       "  missing   missing    missing   missing   missing   missing   missing   missing   missing   missing   missing\n",
       "  missing   missing    missing   missing   missing   missing   missing   missing   missing   missing   missing\n",
       "  missing   missing    missing   missing   missing   missing   missing   missing   missing   missing   missing"
      ]
     },
     "execution_count": 29,
     "metadata": {},
     "output_type": "execute_result"
    }
   ],
   "source": [
    "R, s = calcumpu(Binomial, 10, 0.4)\n",
    "@show s\n",
    "R"
   ]
  },
  {
   "cell_type": "code",
   "execution_count": 30,
   "id": "75aa2a4b-6a51-49f1-8da9-5e21c0beb215",
   "metadata": {},
   "outputs": [
    {
     "data": {
      "text/plain": [
       "11-element Vector{Union{Missing, Float64}}:\n",
       " 0.049999999999999996\n",
       " 0.049999999999999996\n",
       " 0.05000000000000002\n",
       "  missing\n",
       "  missing\n",
       "  missing\n",
       "  missing\n",
       "  missing\n",
       "  missing\n",
       "  missing\n",
       "  missing"
      ]
     },
     "execution_count": 30,
     "metadata": {},
     "output_type": "execute_result"
    }
   ],
   "source": [
    "[sum(vec(r) .* pdf.(Binomial(10, 0.4), 0:10)) for r in eachrow(R)]"
   ]
  },
  {
   "cell_type": "code",
   "execution_count": 31,
   "id": "6fd308b0-e6c0-492d-80e1-7d4a57a2b7d2",
   "metadata": {},
   "outputs": [
    {
     "name": "stdout",
     "output_type": "stream",
     "text": [
      "10 * 0.4 * 0.05 = 0.2\n"
     ]
    },
    {
     "data": {
      "text/plain": [
       "11-element Vector{Union{Missing, Float64}}:\n",
       " 0.20000000000000004\n",
       " 0.2\n",
       " 0.2000000000000001\n",
       "  missing\n",
       "  missing\n",
       "  missing\n",
       "  missing\n",
       "  missing\n",
       "  missing\n",
       "  missing\n",
       "  missing"
      ]
     },
     "execution_count": 31,
     "metadata": {},
     "output_type": "execute_result"
    }
   ],
   "source": [
    "@show 10 * 0.4 * 0.05\n",
    "[sum((0:10) .* vec(r) .* pdf.(Binomial(10, 0.4), 0:10)) for r in eachrow(R)]"
   ]
  },
  {
   "cell_type": "code",
   "execution_count": 32,
   "id": "8dab4179-8def-4af1-bcf9-3370e79d2277",
   "metadata": {},
   "outputs": [
    {
     "name": "stdout",
     "output_type": "stream",
     "text": [
      "dpmf.(s) = [-0.0026214400000000035, -0.032768000000000054, -0.1769472, -0.5308416000000015, -0.9289728000000009, -0.8360755200000013, 0.0, 0.8957952000000028, 1.0077695999999996, 0.5038848000000005, 0.10077696000000001]\n",
      "Ptmp = 0.0\n",
      "P0 ≈ sum((pmf(s[k]) for k = 1:i - 1); init = 0.0) + sum((pmf(k) for k = j + 1:length(s)); init = 0.0) = false\n",
      "(P0, Pi, Pj, dP0, s[i], s[j]) = (0.046357401600000035, 0.0, 0.046357401600000035, 0.6046617600000005, 0, 8)\n",
      "M = [0.00010485760000000014 0.12093235199999994; -0.0026214400000000035 1.0077695999999996]\n",
      "y = [0.0036425983999999675, -0.6046617600000005]\n",
      "Ptmp = 0.00010485760000000015\n",
      "P0 ≈ sum((pmf(s[k]) for k = 1:i - 1); init = 0.0) + sum((pmf(k) for k = j + 1:length(s)); init = 0.0) = false\n",
      "(P0, Pi, Pj, dP0, s[i], s[j]) = (0.046462259200000036, 0.00010485760000000015, 0.046357401600000035, 0.6020403200000005, 1, 8)\n",
      "M = [0.0015728640000000028 0.12093235199999994; -0.032768000000000054 1.0077695999999996]\n",
      "y = [0.0035377407999999666, -0.6020403200000005]\n",
      "Ptmp = 0.001677721600000002\n",
      "P0 ≈ sum((pmf(s[k]) for k = 1:i - 1); init = 0.0) + sum((pmf(k) for k = j + 1:length(s)); init = 0.0) = false\n",
      "(P0, Pi, Pj, dP0, s[i], s[j]) = (0.048035123200000036, 0.001677721600000002, 0.046357401600000035, 0.5692723200000004, 2, 8)\n",
      "M = [0.010616832 0.12093235199999994; -0.1769472 1.0077695999999996]\n",
      "y = [0.0019648767999999664, -0.5692723200000004]\n",
      "Ptmp = 0.0122945536\n",
      "P0 ≈ sum((pmf(s[k]) for k = 1:i - 1); init = 0.0) + sum((pmf(k) for k = j + 1:length(s)); init = 0.0) = false\n",
      "(P0, Pi, Pj, dP0, s[i], s[j]) = (0.0183411712, 0.0122945536, 0.0060466176, -0.11155968000000004, 3, 9)\n",
      "M = [0.04246732800000012 0.04031078400000004; -0.5308416000000015 0.5038848000000005]\n",
      "y = [0.031658828800000004, 0.11155968000000004]\n",
      "Ptmp = 0.05476188160000004\n",
      "Ptmp = 0.1662386176000002\n",
      "Ptmp = 0.36689674240000036\n",
      "Ptmp = 0.6177193984000001\n",
      "Ptmp = 0.8327102464\n",
      "Ptmp = 0.9536425984\n",
      "Ptmp = 0.9939533824\n",
      "s = 0:10\n"
     ]
    },
    {
     "data": {
      "text/plain": [
       "11×11 Matrix{Union{Missing, Float64}}:\n",
       " 181.68       0.0       0.0       0.0       0.0       0.0       0.0       0.0       -0.127409  1.0       1.0\n",
       "   1.0       13.7661    0.0       0.0       0.0       0.0       0.0       0.0       -0.14979   1.0       1.0\n",
       "   1.0        1.0       2.20648   0.0       0.0       0.0       0.0       0.0       -0.177463  1.0       1.0\n",
       "   1.0        1.0       1.0       0.267665  0.0       0.0       0.0       0.0        0.0       0.503384  1.0\n",
       "    missing    missing   missing   missing   missing   missing   missing   missing    missing   missing   missing\n",
       "    missing    missing   missing   missing   missing   missing   missing   missing    missing   missing   missing\n",
       "    missing    missing   missing   missing   missing   missing   missing   missing    missing   missing   missing\n",
       "    missing    missing   missing   missing   missing   missing   missing   missing    missing   missing   missing\n",
       "    missing    missing   missing   missing   missing   missing   missing   missing    missing   missing   missing\n",
       "    missing    missing   missing   missing   missing   missing   missing   missing    missing   missing   missing\n",
       "    missing    missing   missing   missing   missing   missing   missing   missing    missing   missing   missing"
      ]
     },
     "execution_count": 32,
     "metadata": {},
     "output_type": "execute_result"
    }
   ],
   "source": [
    "R, s = calcumpu(Binomial, 10, 0.6)\n",
    "@show s\n",
    "R"
   ]
  },
  {
   "cell_type": "code",
   "execution_count": 33,
   "id": "d5bd3f49-9ad6-4e9d-abe1-ad4132504215",
   "metadata": {},
   "outputs": [
    {
     "data": {
      "text/plain": [
       "11-element Vector{Union{Missing, Float64}}:\n",
       " 0.05\n",
       " 0.05\n",
       " 0.05000000000000001\n",
       " 0.05\n",
       "  missing\n",
       "  missing\n",
       "  missing\n",
       "  missing\n",
       "  missing\n",
       "  missing\n",
       "  missing"
      ]
     },
     "execution_count": 33,
     "metadata": {},
     "output_type": "execute_result"
    }
   ],
   "source": [
    "[sum(vec(r) .* pdf.(Binomial(10, 0.6), 0:10)) for r in eachrow(R)]"
   ]
  },
  {
   "cell_type": "code",
   "execution_count": 34,
   "id": "ca0a4c16-3901-49ff-a033-dd8e6a79b1eb",
   "metadata": {},
   "outputs": [
    {
     "name": "stdout",
     "output_type": "stream",
     "text": [
      "10 * 0.6 * 0.05 = 0.30000000000000004\n"
     ]
    },
    {
     "data": {
      "text/plain": [
       "11-element Vector{Union{Missing, Float64}}:\n",
       " 0.3\n",
       " 0.3\n",
       " 0.30000000000000004\n",
       " 0.30000000000000004\n",
       "  missing\n",
       "  missing\n",
       "  missing\n",
       "  missing\n",
       "  missing\n",
       "  missing\n",
       "  missing"
      ]
     },
     "execution_count": 34,
     "metadata": {},
     "output_type": "execute_result"
    }
   ],
   "source": [
    "@show 10 * 0.6 * 0.05\n",
    "[sum((0:10) .* vec(r) .* pdf.(Binomial(10, 0.6), 0:10)) for r in eachrow(R)]"
   ]
  },
  {
   "cell_type": "code",
   "execution_count": 35,
   "id": "2814c5f1-0e21-40bc-a20f-d194e484af55",
   "metadata": {},
   "outputs": [
    {
     "name": "stderr",
     "output_type": "stream",
     "text": [
      "┌ Warning: RCall.jl: Warning: package 'ump' was built under R version 4.1.1\n",
      "└ @ RCall D:\\.julia\\packages\\RCall\\iMDW2\\src\\io.jl:160\n"
     ]
    },
    {
     "data": {
      "text/plain": [
       "RObject{StrSxp}\n",
       "[1] \"ump\"       \"stats\"     \"graphics\"  \"grDevices\" \"utils\"     \"datasets\" \n",
       "[7] \"methods\"   \"base\"     \n"
      ]
     },
     "execution_count": 35,
     "metadata": {},
     "output_type": "execute_result"
    }
   ],
   "source": [
    "R\"library(ump)\""
   ]
  },
  {
   "cell_type": "code",
   "execution_count": 36,
   "id": "4a91ce3e-a977-4860-8487-466c14fa194f",
   "metadata": {},
   "outputs": [
    {
     "name": "stdout",
     "output_type": "stream",
     "text": [
      "(k, rk) = (0, 0.29302382469177235)\n",
      "(k, rk) = (1, 0.0)\n",
      "(k, rk) = (2, 0.0)\n",
      "(k, rk) = (3, 0.0)\n",
      "(k, rk) = (4, 0.0)\n",
      "(k, rk) = (5, 0.4604666573660717)\n",
      "(k, rk) = (6, 1.0)\n",
      "(k, rk) = (7, 1.0)\n",
      "(k, rk) = (8, 1.0)\n",
      "(k, rk) = (9, 1.0)\n",
      "(k, rk) = (10, 1.0)\n"
     ]
    },
    {
     "data": {
      "text/plain": [
       "11-element Vector{Float64}:\n",
       " 0.29302382469177235\n",
       " 0.0\n",
       " 0.0\n",
       " 0.0\n",
       " 0.0\n",
       " 0.4604666573660717\n",
       " 1.0\n",
       " 1.0\n",
       " 1.0\n",
       " 1.0\n",
       " 1.0"
      ]
     },
     "execution_count": 36,
     "metadata": {},
     "output_type": "execute_result"
    }
   ],
   "source": [
    "r = zeros(11)\n",
    "theta = 0.2\n",
    "for k in 0:10\n",
    "    @rput k theta\n",
    "    R\"rk = umpu.binom(k, 10, theta, 0.05, maxiter=100, tol=1e-14)\"\n",
    "    @rget rk\n",
    "    @show k, rk\n",
    "    r[k+1] = rk\n",
    "end\n",
    "r"
   ]
  },
  {
   "cell_type": "code",
   "execution_count": 37,
   "id": "01a0cbf9-ab53-4f4c-acc2-6596ffa2ee5d",
   "metadata": {},
   "outputs": [
    {
     "name": "stdout",
     "output_type": "stream",
     "text": [
      "(pdf(bin, 0), r[begin + 0], r[begin + 0] * pdf(bin, 0)) = (0.1073741824, 0.29302382469177235, 0.03146319359999999)\n",
      "(pdf(bin, 3), r[begin + 3], r[begin + 3] * pdf(bin, 3)) = (0.2013265920000005, 0.0, 0.0)\n",
      "(pdf(bin, 4), r[begin + 4], r[begin + 4] * pdf(bin, 4)) = (0.08808038400000004, 0.0, 0.0)\n",
      "(pdf(bin, 5), r[begin + 5], r[begin + 5] * pdf(bin, 5)) = (0.026424115200000015, 0.4604666573660717, 0.012167424000000013)\n",
      "ccdf(bin, 5) = 0.006369382399999998\n"
     ]
    },
    {
     "data": {
      "text/plain": [
       "0.006369382399999998"
      ]
     },
     "execution_count": 37,
     "metadata": {},
     "output_type": "execute_result"
    }
   ],
   "source": [
    "θ = theta\n",
    "bin = Binomial(10, θ)\n",
    "@show pdf(bin, 0), r[begin+0], r[begin+0]*pdf(bin, 0)\n",
    "@show pdf(bin, 3), r[begin+3], r[begin+3]*pdf(bin, 3)\n",
    "@show pdf(bin, 4), r[begin+4], r[begin+4]*pdf(bin, 4)\n",
    "@show pdf(bin, 5), r[begin+5], r[begin+5]*pdf(bin, 5)\n",
    "@show ccdf(bin, 5)"
   ]
  },
  {
   "cell_type": "code",
   "execution_count": 38,
   "id": "41a3d43c-09b4-4cdc-a1c2-aa779b970608",
   "metadata": {},
   "outputs": [
    {
     "data": {
      "text/plain": [
       "0.050000000000000024"
      ]
     },
     "execution_count": 38,
     "metadata": {},
     "output_type": "execute_result"
    }
   ],
   "source": [
    "sum(r[k+1] * pdf.(Binomial(10, θ), k) for k in 0:10)"
   ]
  },
  {
   "cell_type": "code",
   "execution_count": 39,
   "id": "5d28d7cb-ea9b-4200-9ad3-15603da33d10",
   "metadata": {},
   "outputs": [
    {
     "data": {
      "text/plain": [
       "0.10000000000000014"
      ]
     },
     "execution_count": 39,
     "metadata": {},
     "output_type": "execute_result"
    }
   ],
   "source": [
    "mean(bin) * 0.05\n",
    "sum(k * r[k+1] * pdf.(Binomial(10, θ), k) for k in 0:10)"
   ]
  },
  {
   "cell_type": "code",
   "execution_count": 40,
   "id": "72d38ff8-3c49-4a0c-a646-34a9fc34b1c9",
   "metadata": {},
   "outputs": [
    {
     "name": "stdout",
     "output_type": "stream",
     "text": [
      "dpmf.(s) = [-1.34217728, -1.6777216000000021, 0.0, 1.258291200000003, 1.1010048000000006, 0.49545216000000025, 0.13762560000000026, 0.02457600000000004, 0.0027648000000000017, 0.00017920000000000032, 5.120000000000002e-6]\n",
      "Ptmp = 0.0\n",
      "P0 ≈ sum((pmf(s[k]) for k = 1:i - 1); init = 0.0) + sum((pmf(k) for k = j + 1:length(s)); init = 0.0) = false\n",
      "(P0, Pi, Pj, dP0, s[i], s[j]) = (0.03279349760000003, 0.0, 0.03279349760000003, 0.6606028800000006, 0, 4)\n",
      "M = [0.1073741824 0.08808038400000004; -1.34217728 1.1010048000000006]\n",
      "y = [0.017206502399999976, -0.6606028800000006]\n",
      "Ptmp = 0.10737418240000009\n",
      "Ptmp = 0.37580963840000037\n",
      "Ptmp = 0.6777995263999997\n",
      "Ptmp = 0.8791261183999999\n",
      "Ptmp = 0.9672065024000001\n",
      "Ptmp = 0.9936306176\n",
      "Ptmp = 0.9991356416\n",
      "Ptmp = 0.9999220736000001\n",
      "Ptmp = 0.9999958016\n",
      "Ptmp = 0.9999998976\n"
     ]
    },
    {
     "data": {
      "text/plain": [
       "11-element Vector{Union{Missing, Float64}}:\n",
       "  0.32621777057647716\n",
       "  0.0\n",
       "  0.0\n",
       "  0.0\n",
       " -0.20232500348772348\n",
       "  1.0\n",
       "  1.0\n",
       "  1.0\n",
       "  1.0\n",
       "  1.0\n",
       "  1.0"
      ]
     },
     "execution_count": 40,
     "metadata": {},
     "output_type": "execute_result"
    }
   ],
   "source": [
    "R, s = calcumpu(Binomial, 10, θ)\n",
    "R\n",
    "rr = R[1,:]"
   ]
  },
  {
   "cell_type": "code",
   "execution_count": 41,
   "id": "4b399b62-dc53-4b14-84ea-6d4b6a3971fe",
   "metadata": {},
   "outputs": [
    {
     "data": {
      "text/plain": [
       "calcumpu (generic function with 2 methods)"
      ]
     },
     "execution_count": 41,
     "metadata": {},
     "output_type": "execute_result"
    }
   ],
   "source": [
    "function calcumpu(Dist, np, θ, α = 0.05)\n",
    "    dist = Dist(np..., θ)\n",
    "    s = support(dist)\n",
    "    pmf(x) = pdf(dist, x)\n",
    "    dpmf(x) = ForwardDiff.derivative(θ -> pdf(Dist(np..., θ), x), θ)\n",
    "    sol = Vector{Float64}[]\n",
    "    r = Vector{Float64}(undef, length(s))\n",
    "    for i in 1:length(s), j in i+1:length(s)\n",
    "        P0 = cdf(dist, s[i] - 1) + ccdf(dist, s[j])\n",
    "        P0 > α && continue\n",
    "        dP0 = sum(dpmf(s[k]) for k in 1:i-1; init=0.0) + sum(dpmf(s[k]) for k in j+1:length(s); init=0.0)\n",
    "        M = @SMatrix [\n",
    "             pmf(s[i])  pmf(s[j])\n",
    "            dpmf(s[i]) dpmf(s[j])\n",
    "        ]\n",
    "        y = @SVector [α - P0, -dP0]\n",
    "        ri, rj = M \\ y\n",
    "        !(0 ⪅ ri ⪅ 1 && 0 ⪅ rj ⪅ 1) && continue \n",
    "        r .= 0\n",
    "        r[1:i-1] .= 1\n",
    "        r[j+1:end] .= 1\n",
    "        r[i] = ri\n",
    "        r[j] = rj\n",
    "        push!(sol, copy(r))\n",
    "    end\n",
    "    sol, dist\n",
    "end"
   ]
  },
  {
   "cell_type": "code",
   "execution_count": 42,
   "id": "ac8e7b01-7dde-4a68-8ee5-8f1716990efc",
   "metadata": {},
   "outputs": [
    {
     "data": {
      "text/plain": [
       "([[0.1088333310459823, 0.0, 0.0, 0.0, 0.9334214047502989, 1.0, 1.0, 1.0, 1.0, 1.0, 1.0]], Binomial{Float64}(n=10, p=0.1))"
      ]
     },
     "execution_count": 42,
     "metadata": {},
     "output_type": "execute_result"
    }
   ],
   "source": [
    "calcumpu(Binomial, 10, 0.1)"
   ]
  },
  {
   "cell_type": "code",
   "execution_count": 43,
   "id": "f5efdd31-5ea7-402c-87b8-2399c7a4b619",
   "metadata": {},
   "outputs": [
    {
     "data": {
      "text/plain": [
       "([[1.0, 1.0, 1.0, 0.25255757575757554, 0.0, 0.0, 0.0, 0.0, 0.9116848484848483, 1.0, 1.0]], FisherNoncentralHypergeometric{Float64}(ns=11, nf=12, n=13, ω=1.0))"
      ]
     },
     "execution_count": 43,
     "metadata": {},
     "output_type": "execute_result"
    }
   ],
   "source": [
    "calcumpu(FisherNoncentralHypergeometric, (11, 12, 13), 1.0)"
   ]
  },
  {
   "cell_type": "code",
   "execution_count": 44,
   "id": "69a662e7-e137-4b06-a2fd-d3e936102709",
   "metadata": {},
   "outputs": [
    {
     "name": "stdout",
     "output_type": "stream",
     "text": [
      "n = 100 = 100\n",
      "θ = rand() = 0.3115513643426038\n",
      "α = rand() = 0.5195511881421906\n",
      "sum((r[1 + k] * pdf(dist, k) for k = support(dist))) ≈ α = true\n",
      "sum((k * r[1 + k] * pdf(dist, k) for k = support(dist))) ≈ mean(dist) * α = true\n"
     ]
    }
   ],
   "source": [
    "@show n = 100\n",
    "@show θ = rand()\n",
    "@show α = rand()\n",
    "\n",
    "(r,), dist = calcumpu(Binomial, n, θ, α)\n",
    "@show sum(r[1+k]*pdf(dist, k) for k in support(dist)) ≈ α\n",
    "@show sum(k*r[1+k]*pdf(dist, k) for k in support(dist)) ≈ mean(dist) * α;"
   ]
  },
  {
   "cell_type": "code",
   "execution_count": 45,
   "id": "a264aecb-4918-41d4-8144-33703974dee2",
   "metadata": {},
   "outputs": [
    {
     "data": {
      "text/plain": [
       "calcumpu (generic function with 2 methods)"
      ]
     },
     "execution_count": 45,
     "metadata": {},
     "output_type": "execute_result"
    }
   ],
   "source": [
    "function calcumpu(Dist, np, θ, α = 0.05)\n",
    "    dist = Dist(np..., θ)\n",
    "    s = support(dist)\n",
    "    pmf(x) = pdf(dist, x)\n",
    "    sol = Vector{Float64}[]\n",
    "    r = Vector{Float64}(undef, length(s))\n",
    "    for i in 1:length(s), j in length(s):-1:i+1\n",
    "        a, b = s[i], s[j]\n",
    "        P0 = cdf(dist, a - 1) + ccdf(dist, b)\n",
    "        P0 > α && continue\n",
    "        M0 = sum(s[k]*pmf(s[k]) for k in 1:i-1; init=0.0) + sum(s[k]*pmf(s[k]) for k in j+1:length(s); init=0.0)\n",
    "        y1 = α - P0\n",
    "        y2 = mean(dist)*α - M0\n",
    "        d = pmf(a)*pmf(b)*(b - a)\n",
    "        ri = pmf(b)*(b*y1 - y2)/d\n",
    "        rj = pmf(a)*(y2 - a*y1)/d\n",
    "        !(0 ⪅ ri ⪅ 1 && 0 ⪅ rj ⪅ 1) && continue \n",
    "        r .= 0\n",
    "        r[1:i-1] .= 1\n",
    "        r[j+1:end] .= 1\n",
    "        r[i] = ri\n",
    "        r[j] = rj\n",
    "        push!(sol, copy(r))\n",
    "    end\n",
    "    sol, dist\n",
    "end"
   ]
  },
  {
   "cell_type": "code",
   "execution_count": 46,
   "id": "92aedb5d-e1da-4f47-aea4-6920677a19a1",
   "metadata": {},
   "outputs": [
    {
     "name": "stdout",
     "output_type": "stream",
     "text": [
      "Dist = Binomial = Binomial\n",
      "np = 10 = 10\n",
      "θ = 0.001 = 0.001\n",
      "α = 0.5 = 0.5\n",
      "\n",
      "length(sol) = 1\n",
      "r = sol[1] = [0.5000226657450815, 0.4954774172518542, 1.0, 1.0, 1.0, 1.0, 1.0, 1.0, 1.0, 1.0, 1.0]\n",
      "sum((r[k] * pdf(dist, s[k]) for k = 1:length(s))) ≈ α = true\n",
      "sum((s[k] * r[k] * pdf(dist, s[k]) for k = 1:length(s))) ≈ mean(dist) * α = true\n"
     ]
    }
   ],
   "source": [
    "@show Dist = Binomial\n",
    "@show np = 10\n",
    "@show θ = 0.001\n",
    "@show α = 0.5\n",
    "println()\n",
    "\n",
    "sol, dist = calcumpu(Dist, np, θ, α)\n",
    "s = support(dist)\n",
    "@show length(sol)\n",
    "@show r = sol[1]\n",
    "@show sum(r[k]*pdf(dist, s[k]) for k in 1:length(s)) ≈ α\n",
    "@show sum(s[k]*r[k]*pdf(dist, s[k]) for k in 1:length(s)) ≈ mean(dist) * α;"
   ]
  },
  {
   "cell_type": "code",
   "execution_count": 47,
   "id": "263124c2-0754-4fb8-9157-b11355c736a2",
   "metadata": {},
   "outputs": [
    {
     "name": "stdout",
     "output_type": "stream",
     "text": [
      "Dist = FisherNoncentralHypergeometric = FisherNoncentralHypergeometric\n",
      "np = (110, 13, 21) = (110, 13, 21)\n",
      "θ = 0.9 = 0.9\n",
      "α = 0.05 = 0.05\n",
      "\n",
      "length(sol) = 1\n",
      "r = sol[1] = [1.0, 1.0, 1.0, 1.0, 1.0, 1.0, 1.0, 1.0, 0.12805534184664816, 0.0, 0.0, 0.0, 0.0, 0.4926863962799345]\n",
      "sum((r[k] * pdf(dist, s[k]) for k = 1:length(s))) ≈ α = true\n",
      "sum((s[k] * r[k] * pdf(dist, s[k]) for k = 1:length(s))) ≈ mean(dist) * α = true\n"
     ]
    }
   ],
   "source": [
    "@show Dist = FisherNoncentralHypergeometric\n",
    "@show np = (110, 13, 21)\n",
    "@show θ = 0.9\n",
    "@show α = 0.05\n",
    "println()\n",
    "\n",
    "sol, dist = calcumpu(Dist, np, θ, α)\n",
    "s = support(dist)\n",
    "@show length(sol)\n",
    "@show r = sol[1]\n",
    "@show sum(r[k]*pdf(dist, s[k]) for k in 1:length(s)) ≈ α\n",
    "@show sum(s[k]*r[k]*pdf(dist, s[k]) for k in 1:length(s)) ≈ mean(dist) * α;"
   ]
  },
  {
   "cell_type": "code",
   "execution_count": 48,
   "id": "7c0c9b5c-5c18-4d66-920c-d691aff3a842",
   "metadata": {},
   "outputs": [
    {
     "data": {
      "text/plain": [
       "Binomial"
      ]
     },
     "execution_count": 48,
     "metadata": {},
     "output_type": "execute_result"
    }
   ],
   "source": [
    "@eval $(nameof(typeof(Binomial(10, 0.1))))"
   ]
  },
  {
   "cell_type": "code",
   "execution_count": 49,
   "id": "a444771a-6d91-4fa3-9420-d59dd1d4e16a",
   "metadata": {},
   "outputs": [
    {
     "name": "stdout",
     "output_type": "stream",
     "text": [
      "Dist = Binomial = Binomial\n",
      "np = 10 = 10\n",
      "θ = 0.2 = 0.2\n",
      "α = 0.05 = 0.05\n",
      "\n",
      "length(sol) = 1\n",
      "r = sol[1] = [0.29302382469177257, 0.0, 0.0, 0.0, 0.0, 0.4604666573660706, 1.0, 1.0, 1.0, 1.0, 1.0]\n",
      "sum((r[k] * pdf(dist, s[k]) for k = 1:length(s))) ≈ α = true\n",
      "sum((s[k] * r[k] * pdf(dist, s[k]) for k = 1:length(s))) ≈ mean(dist) * α = true\n",
      "r1 = [0.031463193600000015, 0.0, 0.0, 0.0, 0.0, -0.014256691200000029, 0.0, 0.0, 0.0, 0.0, 0.0]\n",
      "r2 = [0.031463193600000015, 0.0, 0.0, 0.0, 0.0, 0.012167423999999986, 0.0, 0.0, 0.0, 0.0, 0.0]\n"
     ]
    }
   ],
   "source": [
    "@show Dist = Binomial\n",
    "@show np = 10\n",
    "@show θ = 0.2\n",
    "@show α = 0.05\n",
    "println()\n",
    "\n",
    "sol, dist = calcumpu(Dist, np, θ, α)\n",
    "s = support(dist)\n",
    "@show length(sol)\n",
    "@show r = sol[1]\n",
    "@show sum(r[k]*pdf(dist, s[k]) for k in 1:length(s)) ≈ α\n",
    "@show sum(s[k]*r[k]*pdf(dist, s[k]) for k in 1:length(s)) ≈ mean(dist) * α\n",
    "\n",
    "d1 = r - [pval_exact(dist, k) < α for k in support(dist)]\n",
    "d2 = r - [pval_dos(dist, k) < α for k in support(dist)]\n",
    "r1 = pdf.(dist, s) .* d1\n",
    "r2 = pdf.(dist, s) .* d2\n",
    "#@show d1 d2\n",
    "@show r1 r2;"
   ]
  },
  {
   "cell_type": "code",
   "execution_count": null,
   "id": "a942e19c-4e92-47a6-9866-aa68e898ee0d",
   "metadata": {},
   "outputs": [],
   "source": []
  },
  {
   "cell_type": "code",
   "execution_count": null,
   "id": "88a2631b-54bc-4c98-bce0-433a970b6e90",
   "metadata": {},
   "outputs": [],
   "source": []
  },
  {
   "cell_type": "code",
   "execution_count": null,
   "id": "1968902c-337b-4c27-8148-c15355df2e3c",
   "metadata": {},
   "outputs": [],
   "source": []
  },
  {
   "cell_type": "code",
   "execution_count": 50,
   "id": "a72e6d54-af83-4185-9d95-a25c44496334",
   "metadata": {},
   "outputs": [
    {
     "name": "stdout",
     "output_type": "stream",
     "text": [
      "Dist = Binomial = Binomial\n",
      "np = 10 = 10\n",
      "θ = 0.1 = 0.1\n",
      "α = 0.1 = 0.1\n",
      "\n",
      "length(sol) = 1\n",
      "r = sol[1] = [0.20514273145046127, 0.0, 0.0, 0.27312104678077426, 1.0, 1.0, 1.0, 1.0, 1.0, 1.0, 1.0]\n",
      "sum((r[k] * pdf(dist, s[k]) for k = 1:length(s))) ≈ α = true\n",
      "sum((s[k] * r[k] * pdf(dist, s[k]) for k = 1:length(s))) ≈ mean(dist) * α = true\n",
      "r1 = [0.07152884760000003, 0.0, 0.0, -0.041719674000000206, 0.0, 0.0, 0.0, 0.0, 0.0, 0.0, 0.0]\n",
      "r2 = [0.07152884760000003, 0.0, 0.0, 0.015675953999999964, 0.0, 0.0, 0.0, 0.0, 0.0, 0.0, 0.0]\n"
     ]
    }
   ],
   "source": [
    "@show Dist = Binomial\n",
    "@show np = 10\n",
    "@show θ = 0.1\n",
    "@show α = 0.1\n",
    "println()\n",
    "\n",
    "sol, dist = calcumpu(Dist, np, θ, α)\n",
    "s = support(dist)\n",
    "@show length(sol)\n",
    "@show r = sol[1]\n",
    "@show sum(r[k]*pdf(dist, s[k]) for k in 1:length(s)) ≈ α\n",
    "@show sum(s[k]*r[k]*pdf(dist, s[k]) for k in 1:length(s)) ≈ mean(dist) * α\n",
    "\n",
    "d1 = r - [pval_exact(dist, k) < α for k in support(dist)]\n",
    "d2 = r - [pval_dos(dist, k) < α for k in support(dist)]\n",
    "r1 = pdf.(dist, s) .* d1\n",
    "r2 = pdf.(dist, s) .* d2\n",
    "#@show d1 d2\n",
    "@show r1 r2;"
   ]
  },
  {
   "cell_type": "code",
   "execution_count": 51,
   "id": "52db165a-a466-4e41-9224-845c7f46ba01",
   "metadata": {},
   "outputs": [
    {
     "name": "stdout",
     "output_type": "stream",
     "text": [
      "Dist = FisherNoncentralHypergeometric = FisherNoncentralHypergeometric\n",
      "np = (8, 9, 11) = (8, 9, 11)\n",
      "θ = 1.0 = 1.0\n",
      "α = 0.05 = 0.05\n",
      "\n",
      "length(sol) = 1\n",
      "r = sol[1] = [1.0, 0.5319444444444454, 0.0, 0.0, 0.0, 0.23680555555555538, 1.0]\n",
      "sum((r[k] * pdf(dist, s[k]) for k = 1:length(s))) ≈ α = true\n",
      "sum((s[k] * r[k] * pdf(dist, s[k]) for k = 1:length(s))) ≈ mean(dist) * α = true\n",
      "r1 = [0.0, -0.01906108597285064, 0.0, 0.0, 0.0, 0.01928733031674207, 0.0]\n",
      "r2 = [0.0, 0.02166289592760185, 0.0, 0.0, 0.0, 0.01928733031674207, 0.0]\n"
     ]
    }
   ],
   "source": [
    "@show Dist = FisherNoncentralHypergeometric\n",
    "@show np = (8, 9, 11)\n",
    "@show θ = 1.0\n",
    "@show α = 0.05\n",
    "println()\n",
    "\n",
    "sol, dist = calcumpu(Dist, np, θ, α)\n",
    "s = support(dist)\n",
    "@show length(sol)\n",
    "@show r = sol[1]\n",
    "@show sum(r[k]*pdf(dist, s[k]) for k in 1:length(s)) ≈ α\n",
    "@show sum(s[k]*r[k]*pdf(dist, s[k]) for k in 1:length(s)) ≈ mean(dist) * α\n",
    "\n",
    "d1 = r - [pval_exact(dist, k) < α for k in support(dist)]\n",
    "d2 = r - [pval_dos(dist, k) < α for k in support(dist)]\n",
    "r1 = pdf.(dist, s) .* d1\n",
    "r2 = pdf.(dist, s) .* d2\n",
    "#@show d1 d2\n",
    "@show r1 r2;"
   ]
  },
  {
   "cell_type": "code",
   "execution_count": 52,
   "id": "dcf75226-e3d1-4935-bebb-5c5dea6b98c4",
   "metadata": {},
   "outputs": [
    {
     "name": "stdout",
     "output_type": "stream",
     "text": [
      "Dist = FisherNoncentralHypergeometric = FisherNoncentralHypergeometric\n",
      "np = (8, 9, 13) = (8, 9, 13)\n",
      "θ = 1.0 = 1.0\n",
      "α = 0.05 = 0.05\n",
      "\n",
      "length(sol) = 1\n",
      "r = sol[1] = [0.7999999999999999, 0.0, 0.0, 0.0, 0.5000000000000001]\n",
      "sum((r[k] * pdf(dist, s[k]) for k = 1:length(s))) ≈ α = true\n",
      "sum((s[k] * r[k] * pdf(dist, s[k]) for k = 1:length(s))) ≈ mean(dist) * α = true\n",
      "r1 = [-0.005882352941176472, 0.0, 0.0, 0.0, 0.026470588235294124]\n",
      "r2 = [0.02352941176470588, 0.0, 0.0, 0.0, 0.026470588235294124]\n"
     ]
    }
   ],
   "source": [
    "@show Dist = FisherNoncentralHypergeometric\n",
    "@show np = (8, 9, 13)\n",
    "@show θ = 1.0\n",
    "@show α = 0.05\n",
    "println()\n",
    "\n",
    "sol, dist = calcumpu(Dist, np, θ, α)\n",
    "s = support(dist)\n",
    "@show length(sol)\n",
    "@show r = sol[1]\n",
    "@show sum(r[k]*pdf(dist, s[k]) for k in 1:length(s)) ≈ α\n",
    "@show sum(s[k]*r[k]*pdf(dist, s[k]) for k in 1:length(s)) ≈ mean(dist) * α\n",
    "\n",
    "d1 = r - [pval_exact(dist, k) < α for k in support(dist)]\n",
    "d2 = r - [pval_dos(dist, k) < α for k in support(dist)]\n",
    "r1 = pdf.(dist, s) .* d1\n",
    "r2 = pdf.(dist, s) .* d2\n",
    "#@show d1 d2\n",
    "@show r1 r2;"
   ]
  },
  {
   "cell_type": "code",
   "execution_count": null,
   "id": "d2e470e4-4673-44c0-9161-1c2cc9521743",
   "metadata": {},
   "outputs": [],
   "source": []
  }
 ],
 "metadata": {
  "kernelspec": {
   "display_name": "Julia 1.7.1",
   "language": "julia",
   "name": "julia-1.7"
  },
  "language_info": {
   "file_extension": ".jl",
   "mimetype": "application/julia",
   "name": "julia",
   "version": "1.7.1"
  }
 },
 "nbformat": 4,
 "nbformat_minor": 5
}
