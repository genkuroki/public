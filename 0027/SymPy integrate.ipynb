{
 "cells": [
  {
   "cell_type": "code",
   "execution_count": 14,
   "id": "d4fda32a-8973-4eee-a20c-937cc4619983",
   "metadata": {},
   "outputs": [],
   "source": [
    "using SymPy\n",
    "using SpecialFunctions"
   ]
  },
  {
   "cell_type": "code",
   "execution_count": 2,
   "id": "4c001f10-a31c-4374-b8c4-948c4ba58940",
   "metadata": {},
   "outputs": [
    {
     "data": {
      "text/plain": [
       "(a, b)"
      ]
     },
     "execution_count": 2,
     "metadata": {},
     "output_type": "execute_result"
    }
   ],
   "source": [
    "@vars x\n",
    "@vars a b positive=true"
   ]
  },
  {
   "cell_type": "code",
   "execution_count": 35,
   "id": "96b2f7dd-6241-43b5-81e3-93e34a7300a6",
   "metadata": {},
   "outputs": [
    {
     "data": {
      "text/latex": [
       "$2 b^{\\frac{1}{2 a}} \\Gamma\\left(1 + \\frac{1}{2 a}\\right)$"
      ],
      "text/plain": [
       "    1                \n",
       "   ---               \n",
       "   2*a      /     1 \\\n",
       "2*b   *Gamma|1 + ---|\n",
       "            \\    2*a/"
      ]
     },
     "execution_count": 35,
     "metadata": {},
     "output_type": "execute_result"
    }
   ],
   "source": [
    "Z = 2integrate(exp(-x^(2a)/b), (x, 0, oo)).simplify()"
   ]
  },
  {
   "cell_type": "code",
   "execution_count": 36,
   "id": "9389c599-1674-46f7-9c6b-7b30a7e70a9b",
   "metadata": {},
   "outputs": [
    {
     "data": {
      "text/latex": [
       "$\\frac{b}{2 a}$"
      ],
      "text/plain": [
       " b \n",
       "---\n",
       "2*a"
      ]
     },
     "execution_count": 36,
     "metadata": {},
     "output_type": "execute_result"
    }
   ],
   "source": [
    "2integrate(x^(2a)*exp(-x^(2a)/b), (x, 0, oo))/Z |> sympy.simplify"
   ]
  },
  {
   "cell_type": "code",
   "execution_count": 24,
   "id": "ffb3d959-f709-4c46-b187-014bc875b2d7",
   "metadata": {},
   "outputs": [
    {
     "data": {
      "text/latex": [
       "\\begin{verbatim}\n",
       "gamma(z)\n",
       "\\end{verbatim}\n",
       "Compute the gamma function for complex $z$, defined by\n",
       "\n",
       "$$\\Gamma(z)\n",
       ":=\n",
       "\\begin{cases}\n",
       "    n!\n",
       "    & \\text{for} \\quad z = n+1 \\;, n = 0,1,2,\\dots\n",
       "    \\\\\n",
       "    \\int_0^\\infty t^{z-1} {\\mathrm e}^{-t} \\, {\\mathrm d}t\n",
       "    & \\text{for} \\quad \\Re(z) > 0\n",
       "\\end{cases}$$\n",
       "and by analytic continuation in the whole complex plane.\n",
       "\n",
       "External links: \\href{https://dlmf.nist.gov/5.2.1}{DLMF}, \\href{https://en.wikipedia.org/wiki/Gamma_function}{Wikipedia}.\n",
       "\n",
       "See also: \\href{@ref SpecialFunctions.loggamma}{\\texttt{loggamma(z)}} for $\\log \\Gamma(z)$ and \\href{@ref SpecialFunctions.gamma(::Number,::Number)}{\\texttt{gamma(a,z)}} for the upper incomplete gamma function $\\Gamma(a,z)$.\n",
       "\n",
       "\\section{Implementation by}\n",
       "\\begin{itemize}\n",
       "\\item \\texttt{Float}: C standard math library   \\href{https://en.wikipedia.org/wiki/C_mathematical_functions#libm}{libm}.\n",
       "\n",
       "\n",
       "\\item \\texttt{Complex}: by \\texttt{exp(loggamma(z))}.\n",
       "\n",
       "\n",
       "\\item \\texttt{BigFloat}: C library for multiple-precision floating-point \\href{https://www.mpfr.org/}{MPFR}\n",
       "\n",
       "\\end{itemize}\n",
       "\\begin{verbatim}\n",
       "gamma(a,x)\n",
       "\\end{verbatim}\n",
       "Returns the upper incomplete gamma function\n",
       "\n",
       "$$\\Gamma(a,x) = \\int_x^\\infty t^{a-1} e^{-t} dt \\,$$\n",
       "supporting arbitrary real or complex \\texttt{a} and \\texttt{x}.\n",
       "\n",
       "(The ordinary gamma function \\href{@ref}{\\texttt{gamma(x)}} corresponds to $\\Gamma(a) = \\Gamma(a,0)$. See also the \\href{@ref}{\\texttt{gamma\\_inc}} function to compute both the upper and lower ($\\gamma(a,x)$) incomplete gamma functions scaled by $\\Gamma(a)$.\n",
       "\n",
       "External links: \\href{https://dlmf.nist.gov/8.2.2}{DLMF}, \\href{https://en.wikipedia.org/wiki/Incomplete_gamma_function}{Wikipedia}\n",
       "\n"
      ],
      "text/markdown": [
       "```\n",
       "gamma(z)\n",
       "```\n",
       "\n",
       "Compute the gamma function for complex $z$, defined by\n",
       "\n",
       "$$\n",
       "\\Gamma(z)\n",
       ":=\n",
       "\\begin{cases}\n",
       "    n!\n",
       "    & \\text{for} \\quad z = n+1 \\;, n = 0,1,2,\\dots\n",
       "    \\\\\n",
       "    \\int_0^\\infty t^{z-1} {\\mathrm e}^{-t} \\, {\\mathrm d}t\n",
       "    & \\text{for} \\quad \\Re(z) > 0\n",
       "\\end{cases}\n",
       "$$\n",
       "\n",
       "and by analytic continuation in the whole complex plane.\n",
       "\n",
       "External links: [DLMF](https://dlmf.nist.gov/5.2.1), [Wikipedia](https://en.wikipedia.org/wiki/Gamma_function).\n",
       "\n",
       "See also: [`loggamma(z)`](@ref SpecialFunctions.loggamma) for $\\log \\Gamma(z)$ and [`gamma(a,z)`](@ref SpecialFunctions.gamma(::Number,::Number)) for the upper incomplete gamma function $\\Gamma(a,z)$.\n",
       "\n",
       "# Implementation by\n",
       "\n",
       "  * `Float`: C standard math library   [libm](https://en.wikipedia.org/wiki/C_mathematical_functions#libm).\n",
       "  * `Complex`: by `exp(loggamma(z))`.\n",
       "  * `BigFloat`: C library for multiple-precision floating-point [MPFR](https://www.mpfr.org/)\n",
       "\n",
       "```\n",
       "gamma(a,x)\n",
       "```\n",
       "\n",
       "Returns the upper incomplete gamma function\n",
       "\n",
       "$$\n",
       "\\Gamma(a,x) = \\int_x^\\infty t^{a-1} e^{-t} dt \\,\n",
       "$$\n",
       "\n",
       "supporting arbitrary real or complex `a` and `x`.\n",
       "\n",
       "(The ordinary gamma function [`gamma(x)`](@ref) corresponds to $\\Gamma(a) = \\Gamma(a,0)$. See also the [`gamma_inc`](@ref) function to compute both the upper and lower ($\\gamma(a,x)$) incomplete gamma functions scaled by $\\Gamma(a)$.\n",
       "\n",
       "External links: [DLMF](https://dlmf.nist.gov/8.2.2), [Wikipedia](https://en.wikipedia.org/wiki/Incomplete_gamma_function)\n"
      ],
      "text/plain": [
       "\u001b[36m  gamma(z)\u001b[39m\n",
       "\n",
       "  Compute the gamma function for complex \u001b[35mz\u001b[39m, defined by\n",
       "\n",
       "\u001b[35m  \\Gamma(z)\u001b[39m\n",
       "\u001b[35m:=\u001b[39m\n",
       "\u001b[35m\\begin{cases}\u001b[39m\n",
       "\u001b[35m    n!\u001b[39m\n",
       "\u001b[35m    & \\text{for} \\quad z = n+1 \\;, n = 0,1,2,\\dots\u001b[39m\n",
       "\u001b[35m    \\\\\u001b[39m\n",
       "\u001b[35m    \\int_0^\\infty t^{z-1} {\\mathrm e}^{-t} \\, {\\mathrm d}t\u001b[39m\n",
       "\u001b[35m    & \\text{for} \\quad \\Re(z) > 0\u001b[39m\n",
       "\u001b[35m\\end{cases}\u001b[39m\n",
       "\n",
       "  and by analytic continuation in the whole complex plane.\n",
       "\n",
       "  External links: DLMF (https://dlmf.nist.gov/5.2.1), Wikipedia\n",
       "  (https://en.wikipedia.org/wiki/Gamma_function).\n",
       "\n",
       "  See also: \u001b[36mloggamma(z)\u001b[39m for \u001b[35m\\log \\Gamma(z)\u001b[39m and \u001b[36mgamma(a,z)\u001b[39m for the upper\n",
       "  incomplete gamma function \u001b[35m\\Gamma(a,z)\u001b[39m.\n",
       "\n",
       "\u001b[1m  Implementation by\u001b[22m\n",
       "\u001b[1m  ≡≡≡≡≡≡≡≡≡≡≡≡≡≡≡≡≡≡≡\u001b[22m\n",
       "\n",
       "    •  \u001b[36mFloat\u001b[39m: C standard math library libm\n",
       "       (https://en.wikipedia.org/wiki/C_mathematical_functions#libm).\n",
       "\n",
       "    •  \u001b[36mComplex\u001b[39m: by \u001b[36mexp(loggamma(z))\u001b[39m.\n",
       "\n",
       "    •  \u001b[36mBigFloat\u001b[39m: C library for multiple-precision floating-point MPFR\n",
       "       (https://www.mpfr.org/)\n",
       "\n",
       "\u001b[36m  gamma(a,x)\u001b[39m\n",
       "\n",
       "  Returns the upper incomplete gamma function\n",
       "\n",
       "\u001b[35m  \\Gamma(a,x) = \\int_x^\\infty t^{a-1} e^{-t} dt \\,\u001b[39m\n",
       "\n",
       "  supporting arbitrary real or complex \u001b[36ma\u001b[39m and \u001b[36mx\u001b[39m.\n",
       "\n",
       "  (The ordinary gamma function \u001b[36mgamma(x)\u001b[39m corresponds to \u001b[35m\\Gamma(a) =\n",
       "  \\Gamma(a,0)\u001b[39m. See also the \u001b[36mgamma_inc\u001b[39m function to compute both the upper and\n",
       "  lower (\u001b[35m\\gamma(a,x)\u001b[39m) incomplete gamma functions scaled by \u001b[35m\\Gamma(a)\u001b[39m.\n",
       "\n",
       "  External links: DLMF (https://dlmf.nist.gov/8.2.2), Wikipedia\n",
       "  (https://en.wikipedia.org/wiki/Incomplete_gamma_function)"
      ]
     },
     "execution_count": 24,
     "metadata": {},
     "output_type": "execute_result"
    }
   ],
   "source": [
    "@doc gamma"
   ]
  },
  {
   "cell_type": "code",
   "execution_count": null,
   "id": "bafa8f0c-c14b-4986-9b53-76dcacbac506",
   "metadata": {},
   "outputs": [],
   "source": []
  }
 ],
 "metadata": {
  "kernelspec": {
   "display_name": "Julia 1.7.1",
   "language": "julia",
   "name": "julia-1.7"
  },
  "language_info": {
   "file_extension": ".jl",
   "mimetype": "application/julia",
   "name": "julia",
   "version": "1.7.1"
  }
 },
 "nbformat": 4,
 "nbformat_minor": 5
}
