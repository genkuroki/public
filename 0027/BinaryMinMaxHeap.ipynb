{
 "cells": [
  {
   "cell_type": "code",
   "execution_count": 11,
   "id": "e7a04362-7da0-40ce-b73a-e0c2161b6ebe",
   "metadata": {},
   "outputs": [],
   "source": [
    "ENV[\"COLUMNS\"] = 300\n",
    "using DataStructures"
   ]
  },
  {
   "cell_type": "code",
   "execution_count": 35,
   "id": "50729dd8-8429-46b8-b829-6b2f9b0efbee",
   "metadata": {},
   "outputs": [
    {
     "data": {
      "text/plain": [
       "1×31 adjoint(::Vector{Int64}) with eltype Int64:\n",
       " 1  23  31  4  2  6  3  17  19  21  22  25  27  29  30  16  8  18  9  20  10  5  11  24  12  26  13  28  14  7  15"
      ]
     },
     "execution_count": 35,
     "metadata": {},
     "output_type": "execute_result"
    }
   ],
   "source": [
    "a = collect(1:31)\n",
    "b = BinaryMinMaxHeap(a)\n",
    "b.valtree'"
   ]
  },
  {
   "cell_type": "code",
   "execution_count": null,
   "id": "9de8fa99-f932-41bf-8478-46295839c0c4",
   "metadata": {},
   "outputs": [],
   "source": [
    "for i in 0:4\n",
    "    println(b.valtree[2^i:min(end, 2^(i+1)-1)])\n",
    "end"
   ]
  },
  {
   "cell_type": "code",
   "execution_count": 33,
   "id": "929d202d-4595-4a88-a70f-f5defa3fe8e4",
   "metadata": {},
   "outputs": [
    {
     "name": "stdout",
     "output_type": "stream",
     "text": [
      "popmin!(b) = 1\n",
      "[2]\n",
      "[23, 31]\n",
      "[4, 5, 6, 3]\n",
      "[17, 19, 21, 22, 25, 27, 29, 30]\n",
      "[16, 8, 18, 9, 20, 10, 15, 11, 24, 12, 26, 13, 28, 14, 7]\n"
     ]
    }
   ],
   "source": [
    "@show popmin!(b)\n",
    "for i in 0:4\n",
    "    println(b.valtree[2^i:min(end, 2^(i+1)-1)])\n",
    "end"
   ]
  },
  {
   "cell_type": "code",
   "execution_count": 33,
   "id": "8dd0e30c-e80e-4176-ba1d-3c13a4c7905f",
   "metadata": {},
   "outputs": [
    {
     "name": "stdout",
     "output_type": "stream",
     "text": [
      "popmin!(b) = 1\n",
      "[2]\n",
      "[23, 31]\n",
      "[4, 5, 6, 3]\n",
      "[17, 19, 21, 22, 25, 27, 29, 30]\n",
      "[16, 8, 18, 9, 20, 10, 15, 11, 24, 12, 26, 13, 28, 14, 7]\n"
     ]
    }
   ],
   "source": [
    "@show popmin!(b)\n",
    "for i in 0:4\n",
    "    println(b.valtree[2^i:min(end, 2^(i+1)-1)])\n",
    "end"
   ]
  },
  {
   "cell_type": "code",
   "execution_count": 33,
   "id": "42576d82-3bd8-464e-a34a-153ca7abc6b4",
   "metadata": {},
   "outputs": [
    {
     "name": "stdout",
     "output_type": "stream",
     "text": [
      "popmin!(b) = 1\n",
      "[2]\n",
      "[23, 31]\n",
      "[4, 5, 6, 3]\n",
      "[17, 19, 21, 22, 25, 27, 29, 30]\n",
      "[16, 8, 18, 9, 20, 10, 15, 11, 24, 12, 26, 13, 28, 14, 7]\n"
     ]
    }
   ],
   "source": [
    "@show popmin!(b)\n",
    "for i in 0:4\n",
    "    println(b.valtree[2^i:min(end, 2^(i+1)-1)])\n",
    "end"
   ]
  },
  {
   "cell_type": "code",
   "execution_count": 33,
   "id": "186a6a7a-3c96-40eb-ba93-535faeca968a",
   "metadata": {},
   "outputs": [
    {
     "name": "stdout",
     "output_type": "stream",
     "text": [
      "popmin!(b) = 1\n",
      "[2]\n",
      "[23, 31]\n",
      "[4, 5, 6, 3]\n",
      "[17, 19, 21, 22, 25, 27, 29, 30]\n",
      "[16, 8, 18, 9, 20, 10, 15, 11, 24, 12, 26, 13, 28, 14, 7]\n"
     ]
    }
   ],
   "source": [
    "@show popmin!(b)\n",
    "for i in 0:4\n",
    "    println(b.valtree[2^i:min(end, 2^(i+1)-1)])\n",
    "end"
   ]
  },
  {
   "cell_type": "code",
   "execution_count": 34,
   "id": "1ca9fc31-3094-4575-b6e7-655ca559972c",
   "metadata": {},
   "outputs": [
    {
     "name": "stdout",
     "output_type": "stream",
     "text": [
      "popmin!(b) = 2\n",
      "[3]\n",
      "[23, 31]\n",
      "[4, 5, 6, 7]\n",
      "[17, 19, 21, 22, 25, 27, 29, 30]\n",
      "[16, 8, 18, 9, 20, 10, 15, 11, 24, 12, 26, 13, 28, 14]\n"
     ]
    }
   ],
   "source": [
    "@show popmin!(b)\n",
    "for i in 0:4\n",
    "    println(b.valtree[2^i:min(end, 2^(i+1)-1)])\n",
    "end"
   ]
  },
  {
   "cell_type": "code",
   "execution_count": null,
   "id": "36bf46e5-f929-425d-97c9-61d6c4f9432d",
   "metadata": {},
   "outputs": [],
   "source": []
  },
  {
   "cell_type": "code",
   "execution_count": null,
   "id": "87351521-d169-4880-94a1-687b99dc5a00",
   "metadata": {},
   "outputs": [],
   "source": []
  },
  {
   "cell_type": "code",
   "execution_count": null,
   "id": "f5740f1a-b7c3-4763-bd21-78d397ccc794",
   "metadata": {},
   "outputs": [],
   "source": []
  }
 ],
 "metadata": {
  "kernelspec": {
   "display_name": "Julia 1.7.1",
   "language": "julia",
   "name": "julia-1.7"
  },
  "language_info": {
   "file_extension": ".jl",
   "mimetype": "application/julia",
   "name": "julia",
   "version": "1.7.1"
  }
 },
 "nbformat": 4,
 "nbformat_minor": 5
}
