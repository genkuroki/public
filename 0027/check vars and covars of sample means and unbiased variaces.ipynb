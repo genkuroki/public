{
 "cells": [
  {
   "cell_type": "code",
   "execution_count": 1,
   "id": "9ac0bcbb-7223-46bf-8538-1e86dce2d1c8",
   "metadata": {},
   "outputs": [
    {
     "data": {
      "text/plain": [
       "plot_samplestats (generic function with 1 method)"
      ]
     },
     "execution_count": 1,
     "metadata": {},
     "output_type": "execute_result"
    }
   ],
   "source": [
    "using Distributions\n",
    "using StatsPlots\n",
    "default(fmt=:png, titlefontsize=8, legendfontsize=7, guidefontsize=8, tickfontsize=6)\n",
    "using Random\n",
    "using KernelDensity\n",
    "using QuadGK\n",
    "using StatsBase\n",
    "\n",
    "safediv(x, y) = y == 0 ? y : x/y\n",
    "\n",
    "function myquantile(y, Y, Z, p; δ=log2(y)/4)\n",
    "    mask = @. y - δ < Y < y + δ\n",
    "    !any(mask) && return NaN\n",
    "    quantile(Z[mask], p)\n",
    "end\n",
    "\n",
    "myskewness(dist) = skewness(dist)\n",
    "myskewness(dist::MixtureModel) = _myskewness(dist)\n",
    "function _myskewness(dist)\n",
    "    μ, σ = mean(dist), std(dist)\n",
    "    f(x) = ((x - μ)/σ)^3 * pdf(dist, x)\n",
    "    quadgk(f, extrema(dist)...)[1]\n",
    "end\n",
    "\n",
    "mykurtosis(dist) = kurtosis(dist)\n",
    "mykurtosis(dist::MixtureModel) = _mykurtosis(dist)\n",
    "function _mykurtosis(dist)\n",
    "    μ, σ = mean(dist), std(dist)\n",
    "    f(x) = ((x - μ)/σ)^4 * pdf(dist, x)\n",
    "    quadgk(f, extrema(dist)...)[1] - 3\n",
    "end\n",
    "\n",
    "rd(x; digits=4) = round(x; digits)\n",
    "\n",
    "name(dist) = replace(string(dist), r\"\\{.*\\}\"=>\"\")\n",
    "function name(dist::MixtureModel)\n",
    "    c = components(dist)\n",
    "    p = probs(dist)\n",
    "    s = string(p[1]) * name(c[1])\n",
    "    for i in 2:length(p)\n",
    "        s = s * \"+\" * string(p[i]) * name(c[i])\n",
    "    end\n",
    "    s\n",
    "end\n",
    "\n",
    "function mcsim(;\n",
    "        dist = Beta(0.2, 0.3),\n",
    "        n = 20,\n",
    "        L = 10^6,\n",
    "    )\n",
    "    μ, σ = mean(dist), std(dist)\n",
    "    Z = Vector{Float64}(undef, L) # expected to follow Normal(1,0)\n",
    "    X² = similar(Z)               # expected to follow Chisq(n-1)\n",
    "    tmp = [Vector{Float64}(undef, n) for i in 1:Threads.nthreads()]\n",
    "    Threads.@threads for i in 1:L\n",
    "        X = rand!(dist, tmp[Threads.threadid()])\n",
    "        X̄ = mean(X) # sample mean\n",
    "        S² = var(X) # sample unbiased variance\n",
    "        Z[i] = √n * (X̄ - μ) / σ\n",
    "        X²[i] = (n - 1) * S²/σ^2\n",
    "    end\n",
    "    T = @. Z / √(X²/(n - 1)) # expected to follow TDist(n-1)\n",
    "    T² = @. T .^ 2           # expected to follow FDist(1, n-1)\n",
    "    (; dist, n, Z, X², T, T²)\n",
    "end\n",
    "\n",
    "function plot_samplestats(;\n",
    "        dist = Normal(1, 2),\n",
    "        n = 10,\n",
    "        L = 10^6,\n",
    "        scattermax = 10^5,\n",
    "        T²span = (0.75, 0.999),\n",
    "        Zspan = (0.001, 0.999), \n",
    "        X²span = (0.001, 0.999), \n",
    "        kwargs...\n",
    "    )\n",
    "    (; dist, n, Z, X², T, T²) = mcsim(; dist, n, L)\n",
    "    distname = name(dist)\n",
    "    sk = myskewness(dist)\n",
    "    ku = mykurtosis(dist)\n",
    "    fdist = FDist(1, n-1)\n",
    "    \n",
    "    println(L, \" samples with size n = \", n, \" of \", distname)\n",
    "    println(\"skewness, kurtosis = \", rd(sk), \", \", rd(ku))\n",
    "    for p in (0.95,)# 0.99)\n",
    "        println(\"√quantile(T², $p) = \", rd(√quantile(T², p)), \",  \")\n",
    "        println(\"P(|T| > √quantile(FDist(1, $(n-1)), $p) = \", rd(√quantile(fdist, p)), \") = \",  rd(1 - ecdf(T²)(quantile(fdist, p))))\n",
    "    end\n",
    "    \n",
    "    Zlim = quantile.(Ref(Z), Zspan)\n",
    "    X²lim = quantile.(Ref(X²), X²span)\n",
    "    \n",
    "    kdeX² = InterpKDE(kde(X²))\n",
    "    kdeZX² = InterpKDE(kde((Z, X²)))\n",
    "    g(z, x²) = safediv(pdf(kdeZX², z, x²), pdf(kdeX², x²))\n",
    "    kdeT² = InterpKDE(kde(T²))\n",
    "    h(t²) = pdf(kdeT², t²)\n",
    "    \n",
    "    P = plot(; colorbar=false)\n",
    "    plot!(; xlabel=\"Z = √n(X̄ - μ)/σ\", ylabel=\"X² = (n - 1)S²/σ²\", xlim=Zlim, ylim=X²lim)\n",
    "    scatter!(Z[1:min(end, scattermax)], X²[1:min(end, scattermax)]; alpha=0.3, msw=0, ms=1, label=\"\")\n",
    "    vline!([0]; label=\"\", ls=:dot, c=:red)\n",
    "    hline!([n-1]; label=\"\", ls=:dot, c=:red)\n",
    "    title!(\"$distname, n=$n\")\n",
    "    \n",
    "    z = range(Zlim..., 200)\n",
    "    x² = range(X²lim..., 200)\n",
    "    z05 = (x² -> myquantile(x², X², Z, 0.05)).(x²)\n",
    "    z95 = (x² -> myquantile(x², X², Z, 0.95)).(x²)\n",
    "    Q = plot(; colorbar=false)\n",
    "    plot!(; xlabel=\"Z = √n(X̄ - μ)/σ conditioned by X²\", ylabel=\"X² = (n - 1)S²/σ²\", xlim=Zlim, ylim=X²lim)\n",
    "    heatmap!(z, x², g)\n",
    "    plot!(z05, x²; label=\"\", c=:cyan)\n",
    "    plot!(z95, x²; label=\"\", c=:cyan)\n",
    "    vline!([0]; label=\"\", ls=:dot, c=:pink)\n",
    "    hline!([n-1]; label=\"\", ls=:dot, c=:pink)\n",
    "    title!(\"p(z|x²)\")\n",
    "    \n",
    "    chisqdist = Chisq(n-1)\n",
    "    xlim = (max(0.0, quantile(X², 0.005) - 10), max(quantile(X², 0.995), quantile(chisqdist, 0.999)))\n",
    "    R = plot(; xlabel=\"X² = (n - 1)S²/σ²\", ylabel=\"density\", xlim)\n",
    "    histogram!(X²; norm=true, alpha=0.3, bin=range(xlim..., 100), label=\"X²\")\n",
    "    plot!(chisqdist, xlim...; label=\"Chisq($(n-1))\", lw=1.5)\n",
    "    vline!([n-1]; label=\"\", ls=:dot, c=:black)\n",
    "    title!(\"sample of X² = (n - 1)S²/σ²\")\n",
    "    \n",
    "    xlim = quantile.(Ref(T²), T²span)\n",
    "    bin = range(0, last(xlim), round(Int, 100last(xlim)/(last(xlim) - first(xlim))))\n",
    "    ymax = maximum(x -> max(pdf(fdist, x), h(x)), range(xlim..., 100))\n",
    "    ylim = (-0.03ymax, 1.05ymax)\n",
    "    S = plot(; xlabel=\"T² where T = √n(X̄ - μ)/S\", ylabel=\"density\", xlim, ylim)\n",
    "    histogram!(T²; norm=true, alpha=0.3, bin=bin, label=\"T²\")\n",
    "    plot!(fdist, xlim...; label=\"FDist(1, $(n-1))\", lw=1.5)\n",
    "    vline!([quantile(T², 0.95)]; label=\"95% line of T²\", c=1, ls=:dot)\n",
    "    vline!([quantile(fdist, 0.95)]; label=\"95% line of FDist\", c=2, ls=:dot)\n",
    "    title!(\"tail (> $(100first(T²span))%) of sample of T²\")\n",
    "    \n",
    "    plot(P, Q, R, S; size=(800, 600))\n",
    "    plot!(leftmargin=3Plots.mm, bottommargin=3Plots.mm, kwargs...)\n",
    "end"
   ]
  },
  {
   "cell_type": "code",
   "execution_count": 2,
   "id": "b0fb09f7-da45-4f08-95d1-f505eb159171",
   "metadata": {},
   "outputs": [
    {
     "data": {
      "text/plain": [
       "check_varcov (generic function with 1 method)"
      ]
     },
     "execution_count": 2,
     "metadata": {},
     "output_type": "execute_result"
    }
   ],
   "source": [
    "function mcsimZW(;\n",
    "        dist = Beta(0.2, 0.3),\n",
    "        n = 20,\n",
    "        L = 10^6,\n",
    "    )\n",
    "    μ, σ = mean(dist), std(dist)\n",
    "    Z = Vector{Float64}(undef, L) # expected to follow Normal(1,0)\n",
    "    W = similar(Z)\n",
    "    tmp = [Vector{Float64}(undef, n) for i in 1:Threads.nthreads()]\n",
    "    Threads.@threads for i in 1:L\n",
    "        X = rand!(dist, tmp[Threads.threadid()])\n",
    "        X̄ = mean(X) # sample mean\n",
    "        S² = var(X) # sample unbiased variance\n",
    "        Z[i] = √n * (X̄ - μ) / σ\n",
    "        W[i] = √n * (S²/σ^2 - 1)\n",
    "    end\n",
    "    (; dist, n, Z, W)\n",
    "end\n",
    "\n",
    "function check_varcov(;\n",
    "        dist = Beta(0.2, 0.3),\n",
    "        n = 5,\n",
    "        L = 10^8,\n",
    "    )\n",
    "    (; Z, W) = mcsimZW(; dist, n, L)\n",
    "    Z² = @. Z^2\n",
    "    κ₃ = myskewness(dist)\n",
    "    κ₄ = mykurtosis(dist)\n",
    "    \n",
    "    @show dist\n",
    "    @show κ₃\n",
    "    @show κ₄\n",
    "    meanZ,  meanZ_exact  = mean(Z),    0.0\n",
    "    meanW,  meanW_exact  = mean(W),    0.0\n",
    "    varZ,   varZ_exact   = var(Z),     1.0\n",
    "    covZW,  covZW_exact  = cov(Z, W),  κ₃\n",
    "    varW,   varW_exact   = var(W),     κ₄ + 2n/(n-1)\n",
    "    covZ²W, covZ²W_exact = cov(Z², W), κ₄/√n\n",
    "    varZ²,  varZ²_exact  = var(Z²),    κ₄/n + 2\n",
    "    result = [\n",
    "        :meanZ   meanZ   meanZ_exact   meanZ  - meanZ_exact\n",
    "        :meanW   meanW   meanW_exact   meanW  - meanW_exact\n",
    "        :varZ    varZ    varZ_exact    varZ   - varZ_exact\n",
    "        :covZW   covZW   covZW_exact   covZW  - covZW_exact\n",
    "        :varW    varW    varW_exact    varW   - varW_exact\n",
    "        :covZ²W  covZ²W  covZ²W_exact  covZ²W - covZ²W_exact\n",
    "        :varZ²   varZ²   varZ²_exact   varZ²  - varZ²_exact\n",
    "    ]\n",
    "end"
   ]
  },
  {
   "cell_type": "code",
   "execution_count": 3,
   "id": "ef062da6-af2a-4dda-b27d-5b70cecc70be",
   "metadata": {},
   "outputs": [
    {
     "name": "stdout",
     "output_type": "stream",
     "text": [
      "dist = Normal{Float64}(μ=1.0, σ=2.0)\n",
      "κ₃ = 0.0\n",
      "κ₄ = 0.0\n"
     ]
    },
    {
     "data": {
      "text/plain": [
       "7×4 Matrix{Any}:\n",
       " :meanZ    9.45488e-5   0.0   9.45488e-5\n",
       " :meanW   -0.000109494  0.0  -0.000109494\n",
       " :varZ     1.00006      1.0   6.0009e-5\n",
       " :covZW    0.0002197    0.0   0.0002197\n",
       " :varW     2.49948      2.5  -0.00051887\n",
       " :covZ²W  -0.000424565  0.0  -0.000424565\n",
       " :varZ²    2.00084      2.0   0.000841716"
      ]
     },
     "execution_count": 3,
     "metadata": {},
     "output_type": "execute_result"
    }
   ],
   "source": [
    "check_varcov(dist = Normal(1, 2), n = 5)"
   ]
  },
  {
   "cell_type": "code",
   "execution_count": 4,
   "id": "b5b9b689-3b0a-454a-92f0-dccdfe79c605",
   "metadata": {},
   "outputs": [
    {
     "name": "stdout",
     "output_type": "stream",
     "text": [
      "dist = Beta{Float64}(α=0.2, β=0.3)\n",
      "κ₃ = 0.3999999999999999\n",
      "κ₄ = -1.542857142857143\n"
     ]
    },
    {
     "data": {
      "text/plain": [
       "7×4 Matrix{Any}:\n",
       " :meanZ   -7.138e-5     0.0       -7.138e-5\n",
       " :meanW   -2.91878e-5   0.0       -2.91878e-5\n",
       " :varZ     0.999876     1.0       -0.000124479\n",
       " :covZW    0.399923     0.4       -7.72633e-5\n",
       " :varW     0.956972     0.957143  -0.000170479\n",
       " :covZ²W  -0.689719    -0.689987   0.000268091\n",
       " :varZ²    1.69082      1.69143   -0.000606334"
      ]
     },
     "execution_count": 4,
     "metadata": {},
     "output_type": "execute_result"
    }
   ],
   "source": [
    "check_varcov(dist = Beta(0.2, 0.3), n = 5)"
   ]
  },
  {
   "cell_type": "code",
   "execution_count": 5,
   "id": "ff1bce04-5cc3-417c-a273-f6ba868dfe87",
   "metadata": {},
   "outputs": [
    {
     "name": "stdout",
     "output_type": "stream",
     "text": [
      "dist = TDist{Float64}(ν=4.5)\n",
      "κ₃ = 0.0\n",
      "κ₄ = 12.0\n"
     ]
    },
    {
     "data": {
      "text/plain": [
       "7×4 Matrix{Any}:\n",
       " :meanZ   -0.000129484   0.0      -0.000129484\n",
       " :meanW    7.95634e-5    0.0       7.95634e-5\n",
       " :varZ     1.00004       1.0       4.24114e-5\n",
       " :covZW    0.0177433     0.0       0.0177433\n",
       " :varW    15.4681       14.5       0.968053\n",
       " :covZ²W   5.81034       5.36656   0.443778\n",
       " :varZ²    4.60618       4.4       0.206183"
      ]
     },
     "execution_count": 5,
     "metadata": {},
     "output_type": "execute_result"
    }
   ],
   "source": [
    "check_varcov(dist = TDist(4.5), n = 5)"
   ]
  },
  {
   "cell_type": "code",
   "execution_count": 6,
   "id": "9e7a448f-8984-4a7e-ba5a-dc66cb15e971",
   "metadata": {},
   "outputs": [
    {
     "name": "stdout",
     "output_type": "stream",
     "text": [
      "dist = TDist{Float64}(ν=4.6)\n",
      "κ₃ = 0.0\n",
      "κ₄ = 10.000000000000005\n"
     ]
    },
    {
     "data": {
      "text/plain": [
       "7×4 Matrix{Any}:\n",
       " :meanZ   -6.41269e-5   0.0      -6.41269e-5\n",
       " :meanW    0.00021099   0.0       0.00021099\n",
       " :varZ     1.00003      1.0       3.20309e-5\n",
       " :covZW    0.0019016    0.0       0.0019016\n",
       " :varW    11.2027      12.5      -1.29734\n",
       " :covZ²W   3.89695      4.47214  -0.575189\n",
       " :varZ²    3.7425       4.0      -0.257498"
      ]
     },
     "execution_count": 6,
     "metadata": {},
     "output_type": "execute_result"
    }
   ],
   "source": [
    "check_varcov(dist = TDist(4.6), n = 5)"
   ]
  },
  {
   "cell_type": "code",
   "execution_count": 7,
   "id": "f77b48b1-e7b0-4a1f-85b2-8c4c6b48b933",
   "metadata": {},
   "outputs": [
    {
     "name": "stdout",
     "output_type": "stream",
     "text": [
      "dist = TDist{Float64}(ν=5.0)\n",
      "κ₃ = 0.0\n",
      "κ₄ = 6.0\n"
     ]
    },
    {
     "data": {
      "text/plain": [
       "7×4 Matrix{Any}:\n",
       " :meanZ   -9.17194e-5   0.0      -9.17194e-5\n",
       " :meanW   -0.000155134  0.0      -0.000155134\n",
       " :varZ     1.00001      1.0       8.79713e-6\n",
       " :covZW   -0.00182944   0.0      -0.00182944\n",
       " :varW     8.27791      8.5      -0.222085\n",
       " :covZ²W   2.58411      2.68328  -0.0991733\n",
       " :varZ²    3.15515      3.2      -0.0448527"
      ]
     },
     "execution_count": 7,
     "metadata": {},
     "output_type": "execute_result"
    }
   ],
   "source": [
    "check_varcov(dist = TDist(5.0), n = 5)"
   ]
  },
  {
   "cell_type": "code",
   "execution_count": 8,
   "id": "2f969f9e-f823-4cbe-be7f-dd5ba0c6d0e1",
   "metadata": {},
   "outputs": [
    {
     "name": "stdout",
     "output_type": "stream",
     "text": [
      "dist = Laplace{Float64}(μ=0.0, θ=1.0)\n",
      "κ₃ = 0.0\n",
      "κ₄ = 3.0\n"
     ]
    },
    {
     "data": {
      "text/plain": [
       "7×4 Matrix{Any}:\n",
       " :meanZ    5.4649e-5    0.0       5.4649e-5\n",
       " :meanW   -0.000332864  0.0      -0.000332864\n",
       " :varZ     0.999768     1.0      -0.00023169\n",
       " :covZW    0.000223478  0.0       0.000223478\n",
       " :varW     5.49636      5.5      -0.00363861\n",
       " :covZ²W   1.34063      1.34164  -0.0010089\n",
       " :varZ²    2.59846      2.6      -0.00154342"
      ]
     },
     "execution_count": 8,
     "metadata": {},
     "output_type": "execute_result"
    }
   ],
   "source": [
    "check_varcov(dist = Laplace(), n = 5)"
   ]
  },
  {
   "cell_type": "code",
   "execution_count": 9,
   "id": "d78fa09f-e5dc-439c-a9ac-1063432a73c2",
   "metadata": {},
   "outputs": [
    {
     "name": "stdout",
     "output_type": "stream",
     "text": [
      "dist = Exponential{Float64}(θ=1.0)\n",
      "κ₃ = 2.0\n",
      "κ₄ = 6.0\n"
     ]
    },
    {
     "data": {
      "text/plain": [
       "7×4 Matrix{Any}:\n",
       " :meanZ   4.54152e-5  0.0       4.54152e-5\n",
       " :meanW   4.53059e-5  0.0       4.53059e-5\n",
       " :varZ    1.00009     1.0       9.35006e-5\n",
       " :covZW   1.9999      2.0      -0.000101841\n",
       " :varW    8.49786     8.5      -0.00213706\n",
       " :covZ²W  2.68244     2.68328  -0.000842399\n",
       " :varZ²   3.20008     3.2       7.87109e-5"
      ]
     },
     "execution_count": 9,
     "metadata": {},
     "output_type": "execute_result"
    }
   ],
   "source": [
    "check_varcov(dist = Exponential(), n = 5)"
   ]
  },
  {
   "cell_type": "code",
   "execution_count": 10,
   "id": "5ed46c0f-4c1e-48d5-a10b-6067b8c65f81",
   "metadata": {},
   "outputs": [
    {
     "name": "stdout",
     "output_type": "stream",
     "text": [
      "dist = Gamma{Float64}(α=2.0, θ=1.0)\n",
      "κ₃ = 1.414213562373095\n",
      "κ₄ = 3.0\n"
     ]
    },
    {
     "data": {
      "text/plain": [
       "7×4 Matrix{Any}:\n",
       " :meanZ   -0.000119964  0.0      -0.000119964\n",
       " :meanW    4.13685e-5   0.0       4.13685e-5\n",
       " :varZ     0.999975     1.0      -2.49944e-5\n",
       " :covZW    1.41412      1.41421  -9.7001e-5\n",
       " :varW     5.50124      5.5       0.00124094\n",
       " :covZ²W   1.34056      1.34164  -0.00107967\n",
       " :varZ²    2.59918      2.6      -0.000817381"
      ]
     },
     "execution_count": 10,
     "metadata": {},
     "output_type": "execute_result"
    }
   ],
   "source": [
    "check_varcov(dist = Gamma(2, 1), n = 5)"
   ]
  },
  {
   "cell_type": "code",
   "execution_count": 11,
   "id": "729bd94c-9fae-4899-912c-19d21e0312e1",
   "metadata": {},
   "outputs": [
    {
     "name": "stdout",
     "output_type": "stream",
     "text": [
      "dist = LogNormal{Float64}(μ=0.0, σ=1.0)\n",
      "κ₃ = 6.184877138632554\n",
      "κ₄ = 110.9363921763115\n"
     ]
    },
    {
     "data": {
      "text/plain": [
       "7×4 Matrix{Any}:\n",
       " :meanZ    -2.14904e-5     0.0      -2.14904e-5\n",
       " :meanW    -0.000114033    0.0      -0.000114033\n",
       " :varZ      0.999681       1.0      -0.000319468\n",
       " :covZW     6.18873        6.18488   0.00385054\n",
       " :varW    112.772        113.436    -0.664572\n",
       " :covZ²W   49.2161        49.6123   -0.396145\n",
       " :varZ²    23.9617        24.1873   -0.22557"
      ]
     },
     "execution_count": 11,
     "metadata": {},
     "output_type": "execute_result"
    }
   ],
   "source": [
    "check_varcov(dist = LogNormal(), n = 5)"
   ]
  },
  {
   "cell_type": "code",
   "execution_count": null,
   "id": "0a88efba-5c81-45e8-a419-5acfe80adaff",
   "metadata": {},
   "outputs": [],
   "source": []
  }
 ],
 "metadata": {
  "jupytext": {
   "formats": "ipynb,md"
  },
  "kernelspec": {
   "display_name": "Julia 1.7.1",
   "language": "julia",
   "name": "julia-1.7"
  },
  "language_info": {
   "file_extension": ".jl",
   "mimetype": "application/julia",
   "name": "julia",
   "version": "1.7.1"
  }
 },
 "nbformat": 4,
 "nbformat_minor": 5
}
