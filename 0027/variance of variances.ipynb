{
 "cells": [
  {
   "cell_type": "markdown",
   "id": "792988df-759c-4897-83e7-71fd5696d86e",
   "metadata": {},
   "source": [
    "# 不偏分散の分散と標本分散の平均二乗誤差\n",
    "\n",
    "* 黒木玄\n",
    "* 2022-01-24\n",
    "\n",
    "$\n",
    "\\newcommand\\var{\\operatorname{var}}\n",
    "$\n",
    "\n",
    "$X_1, X_2, \\ldots, X_n$ はその各々が分散 $\\sigma^2$ と尖度 $\\kappa$ (正規分布で0になるようにしたもの, kurtosis)を持つ分布に従う独立同分布確率変数達であるとする。このとき, その標本平均 $\\bar{X}$, 不偏分散 $U$ と標本分散 $V$ が次のように定義される:\n",
    "\n",
    "$$\n",
    "\\bar{X} = \\frac{1}{n}\\sum_{i=1}^n X_i, \\quad\n",
    "U = \\frac{1}{n-1}\\sum_{i=1}^n (X_i - \\bar{X})^2, \\quad\n",
    "V = \\frac{1}{n}\\sum_{i=1}^n (X_i - \\bar{X})^2 = \\frac{n-1}{n}U.\n",
    "$$"
   ]
  },
  {
   "cell_type": "markdown",
   "id": "ea767019-3232-464c-9ca2-e1b8d6fd98d4",
   "metadata": {},
   "source": [
    "このとき, $\\var(\\bar{X}) = E[(\\bar{X}-\\mu)^2] = {\\sigma^2}/{n}$ でかつ, \n",
    "\n",
    "$$\n",
    "E[U] = \\sigma^2, \\quad\n",
    "\\var(U) = \\sigma^4\\left(\\frac{\\kappa+3}{n} - \\frac{n-3}{n(n-1)}\\right), \\quad\n",
    "E\\left[\\left(V - \\sigma^2\\right)^2\\right] = \\left(\\frac{n-1}{n}\\right)^2 \\var(U) + \\frac{\\sigma^4}{n^2}.\n",
    "$$\n",
    "\n",
    "ゆえに\n",
    "\n",
    "$$\n",
    "\\var(U) - E\\left[\\left(V - \\sigma^2\\right)^2\\right] =\n",
    "\\frac{\\sigma^4}{n^2}\n",
    "\\left(\\left(2 - \\frac{1}{n}\\right)(\\kappa + 3) - \\left(3 - \\frac{5n-3}{n(n-1)}\\right)\\right).\n",
    "$$"
   ]
  },
  {
   "cell_type": "markdown",
   "id": "7ab9bb27-9b02-4780-94bf-2e3b6a365031",
   "metadata": {},
   "source": [
    "これより, $\\kappa > -\\dfrac{3}{2}$ ならば十分大きな $n$ について $\\var(U) > E\\left[\\left(V - \\sigma^2\\right)^2\\right]$."
   ]
  },
  {
   "cell_type": "markdown",
   "id": "8f834fcf-a6ee-40d1-ad12-4a43d5c4d9d6",
   "metadata": {},
   "source": [
    "正規分布の場合には $\\kappa = 0$ となるので,\n",
    "\n",
    "$$\n",
    "\\var(U) = \\frac{2\\sigma^4}{n-1}, \\quad\n",
    "\\var(U) - E\\left[\\left(V - \\sigma^2\\right)^2\\right] = \\frac{(3n - 1)\\sigma^4}{n^2(n-1)} > 0.\n",
    "$$"
   ]
  },
  {
   "cell_type": "code",
   "execution_count": 1,
   "id": "1f4db297-8e56-4480-b677-4c28d2f3d16b",
   "metadata": {},
   "outputs": [
    {
     "data": {
      "image/svg+xml": [
       "<?xml version=\"1.0\" encoding=\"utf-8\"?>\n",
       "<svg xmlns=\"http://www.w3.org/2000/svg\" xmlns:xlink=\"http://www.w3.org/1999/xlink\" width=\"200\" height=\"150\" viewBox=\"0 0 800 600\">\n",
       "<defs>\n",
       "  <clipPath id=\"clip410\">\n",
       "    <rect x=\"0\" y=\"0\" width=\"800\" height=\"600\"/>\n",
       "  </clipPath>\n",
       "</defs>\n",
       "<path clip-path=\"url(#clip410)\" d=\"\n",
       "M0 600 L800 600 L800 0 L0 0  Z\n",
       "  \" fill=\"#ffffff\" fill-rule=\"evenodd\" fill-opacity=\"1\"/>\n",
       "<defs>\n",
       "  <clipPath id=\"clip411\">\n",
       "    <rect x=\"160\" y=\"0\" width=\"561\" height=\"561\"/>\n",
       "  </clipPath>\n",
       "</defs>\n",
       "<path clip-path=\"url(#clip410)\" d=\"\n",
       "M140.112 492.128 L752.756 492.128 L752.756 47.2441 L140.112 47.2441  Z\n",
       "  \" fill=\"#ffffff\" fill-rule=\"evenodd\" fill-opacity=\"1\"/>\n",
       "<defs>\n",
       "  <clipPath id=\"clip412\">\n",
       "    <rect x=\"140\" y=\"47\" width=\"614\" height=\"446\"/>\n",
       "  </clipPath>\n",
       "</defs>\n",
       "<polyline clip-path=\"url(#clip412)\" style=\"stroke:#000000; stroke-linecap:butt; stroke-linejoin:round; stroke-width:2; stroke-opacity:0.1; fill:none\" points=\"\n",
       "  205.615,492.128 205.615,47.2441 \n",
       "  \"/>\n",
       "<polyline clip-path=\"url(#clip412)\" style=\"stroke:#000000; stroke-linecap:butt; stroke-linejoin:round; stroke-width:2; stroke-opacity:0.1; fill:none\" points=\"\n",
       "  326.024,492.128 326.024,47.2441 \n",
       "  \"/>\n",
       "<polyline clip-path=\"url(#clip412)\" style=\"stroke:#000000; stroke-linecap:butt; stroke-linejoin:round; stroke-width:2; stroke-opacity:0.1; fill:none\" points=\"\n",
       "  446.434,492.128 446.434,47.2441 \n",
       "  \"/>\n",
       "<polyline clip-path=\"url(#clip412)\" style=\"stroke:#000000; stroke-linecap:butt; stroke-linejoin:round; stroke-width:2; stroke-opacity:0.1; fill:none\" points=\"\n",
       "  566.844,492.128 566.844,47.2441 \n",
       "  \"/>\n",
       "<polyline clip-path=\"url(#clip412)\" style=\"stroke:#000000; stroke-linecap:butt; stroke-linejoin:round; stroke-width:2; stroke-opacity:0.1; fill:none\" points=\"\n",
       "  687.253,492.128 687.253,47.2441 \n",
       "  \"/>\n",
       "<polyline clip-path=\"url(#clip410)\" style=\"stroke:#000000; stroke-linecap:butt; stroke-linejoin:round; stroke-width:4; stroke-opacity:1; fill:none\" points=\"\n",
       "  140.112,492.128 752.756,492.128 \n",
       "  \"/>\n",
       "<polyline clip-path=\"url(#clip410)\" style=\"stroke:#000000; stroke-linecap:butt; stroke-linejoin:round; stroke-width:4; stroke-opacity:1; fill:none\" points=\"\n",
       "  205.615,492.128 205.615,473.23 \n",
       "  \"/>\n",
       "<polyline clip-path=\"url(#clip410)\" style=\"stroke:#000000; stroke-linecap:butt; stroke-linejoin:round; stroke-width:4; stroke-opacity:1; fill:none\" points=\"\n",
       "  326.024,492.128 326.024,473.23 \n",
       "  \"/>\n",
       "<polyline clip-path=\"url(#clip410)\" style=\"stroke:#000000; stroke-linecap:butt; stroke-linejoin:round; stroke-width:4; stroke-opacity:1; fill:none\" points=\"\n",
       "  446.434,492.128 446.434,473.23 \n",
       "  \"/>\n",
       "<polyline clip-path=\"url(#clip410)\" style=\"stroke:#000000; stroke-linecap:butt; stroke-linejoin:round; stroke-width:4; stroke-opacity:1; fill:none\" points=\"\n",
       "  566.844,492.128 566.844,473.23 \n",
       "  \"/>\n",
       "<polyline clip-path=\"url(#clip410)\" style=\"stroke:#000000; stroke-linecap:butt; stroke-linejoin:round; stroke-width:4; stroke-opacity:1; fill:none\" points=\"\n",
       "  687.253,492.128 687.253,473.23 \n",
       "  \"/>\n",
       "<path clip-path=\"url(#clip410)\" d=\"M152.143 524.899 L181.819 524.899 L181.819 528.834 L152.143 528.834 L152.143 524.899 Z\" fill=\"#000000\" fill-rule=\"evenodd\" fill-opacity=\"1\" /><path clip-path=\"url(#clip410)\" d=\"M191.958 507.168 L210.314 507.168 L210.314 511.103 L196.24 511.103 L196.24 519.575 Q197.258 519.228 198.277 519.066 Q199.296 518.881 200.314 518.881 Q206.101 518.881 209.481 522.052 Q212.86 525.223 212.86 530.64 Q212.86 536.219 209.388 539.32 Q205.916 542.399 199.596 542.399 Q197.421 542.399 195.152 542.029 Q192.907 541.658 190.499 540.918 L190.499 536.219 Q192.583 537.353 194.805 537.908 Q197.027 538.464 199.504 538.464 Q203.508 538.464 205.846 536.358 Q208.184 534.251 208.184 530.64 Q208.184 527.029 205.846 524.922 Q203.508 522.816 199.504 522.816 Q197.629 522.816 195.754 523.233 Q193.902 523.649 191.958 524.529 L191.958 507.168 Z\" fill=\"#000000\" fill-rule=\"evenodd\" fill-opacity=\"1\" /><path clip-path=\"url(#clip410)\" d=\"M222.073 535.848 L226.957 535.848 L226.957 541.728 L222.073 541.728 L222.073 535.848 Z\" fill=\"#000000\" fill-rule=\"evenodd\" fill-opacity=\"1\" /><path clip-path=\"url(#clip410)\" d=\"M247.142 510.247 Q243.531 510.247 241.703 513.811 Q239.897 517.353 239.897 524.483 Q239.897 531.589 241.703 535.154 Q243.531 538.695 247.142 538.695 Q250.777 538.695 252.582 535.154 Q254.411 531.589 254.411 524.483 Q254.411 517.353 252.582 513.811 Q250.777 510.247 247.142 510.247 M247.142 506.543 Q252.953 506.543 256.008 511.149 Q259.087 515.733 259.087 524.483 Q259.087 533.209 256.008 537.816 Q252.953 542.399 247.142 542.399 Q241.332 542.399 238.254 537.816 Q235.198 533.209 235.198 524.483 Q235.198 515.733 238.254 511.149 Q241.332 506.543 247.142 506.543 Z\" fill=\"#000000\" fill-rule=\"evenodd\" fill-opacity=\"1\" /><path clip-path=\"url(#clip410)\" d=\"M273.05 524.899 L302.726 524.899 L302.726 528.834 L273.05 528.834 L273.05 524.899 Z\" fill=\"#000000\" fill-rule=\"evenodd\" fill-opacity=\"1\" /><path clip-path=\"url(#clip410)\" d=\"M316.846 537.793 L333.166 537.793 L333.166 541.728 L311.221 541.728 L311.221 537.793 Q313.883 535.038 318.467 530.408 Q323.073 525.756 324.254 524.413 Q326.499 521.89 327.379 520.154 Q328.281 518.395 328.281 516.705 Q328.281 513.95 326.337 512.214 Q324.416 510.478 321.314 510.478 Q319.115 510.478 316.661 511.242 Q314.231 512.006 311.453 513.557 L311.453 508.835 Q314.277 507.7 316.731 507.122 Q319.184 506.543 321.221 506.543 Q326.592 506.543 329.786 509.228 Q332.98 511.913 332.98 516.404 Q332.98 518.534 332.17 520.455 Q331.383 522.353 329.277 524.946 Q328.698 525.617 325.596 528.834 Q322.494 532.029 316.846 537.793 Z\" fill=\"#000000\" fill-rule=\"evenodd\" fill-opacity=\"1\" /><path clip-path=\"url(#clip410)\" d=\"M342.98 535.848 L347.865 535.848 L347.865 541.728 L342.98 541.728 L342.98 535.848 Z\" fill=\"#000000\" fill-rule=\"evenodd\" fill-opacity=\"1\" /><path clip-path=\"url(#clip410)\" d=\"M358.096 507.168 L376.452 507.168 L376.452 511.103 L362.378 511.103 L362.378 519.575 Q363.397 519.228 364.415 519.066 Q365.434 518.881 366.452 518.881 Q372.239 518.881 375.619 522.052 Q378.999 525.223 378.999 530.64 Q378.999 536.219 375.527 539.32 Q372.054 542.399 365.735 542.399 Q363.559 542.399 361.29 542.029 Q359.045 541.658 356.638 540.918 L356.638 536.219 Q358.721 537.353 360.943 537.908 Q363.165 538.464 365.642 538.464 Q369.647 538.464 371.985 536.358 Q374.323 534.251 374.323 530.64 Q374.323 527.029 371.985 524.922 Q369.647 522.816 365.642 522.816 Q363.767 522.816 361.892 523.233 Q360.04 523.649 358.096 524.529 L358.096 507.168 Z\" fill=\"#000000\" fill-rule=\"evenodd\" fill-opacity=\"1\" /><path clip-path=\"url(#clip410)\" d=\"M423.818 510.247 Q420.207 510.247 418.379 513.811 Q416.573 517.353 416.573 524.483 Q416.573 531.589 418.379 535.154 Q420.207 538.695 423.818 538.695 Q427.453 538.695 429.258 535.154 Q431.087 531.589 431.087 524.483 Q431.087 517.353 429.258 513.811 Q427.453 510.247 423.818 510.247 M423.818 506.543 Q429.629 506.543 432.684 511.149 Q435.763 515.733 435.763 524.483 Q435.763 533.209 432.684 537.816 Q429.629 542.399 423.818 542.399 Q418.008 542.399 414.93 537.816 Q411.874 533.209 411.874 524.483 Q411.874 515.733 414.93 511.149 Q418.008 506.543 423.818 506.543 Z\" fill=\"#000000\" fill-rule=\"evenodd\" fill-opacity=\"1\" /><path clip-path=\"url(#clip410)\" d=\"M443.98 535.848 L448.865 535.848 L448.865 541.728 L443.98 541.728 L443.98 535.848 Z\" fill=\"#000000\" fill-rule=\"evenodd\" fill-opacity=\"1\" /><path clip-path=\"url(#clip410)\" d=\"M469.05 510.247 Q465.439 510.247 463.61 513.811 Q461.804 517.353 461.804 524.483 Q461.804 531.589 463.61 535.154 Q465.439 538.695 469.05 538.695 Q472.684 538.695 474.489 535.154 Q476.318 531.589 476.318 524.483 Q476.318 517.353 474.489 513.811 Q472.684 510.247 469.05 510.247 M469.05 506.543 Q474.86 506.543 477.915 511.149 Q480.994 515.733 480.994 524.483 Q480.994 533.209 477.915 537.816 Q474.86 542.399 469.05 542.399 Q463.239 542.399 460.161 537.816 Q457.105 533.209 457.105 524.483 Q457.105 515.733 460.161 511.149 Q463.239 506.543 469.05 506.543 Z\" fill=\"#000000\" fill-rule=\"evenodd\" fill-opacity=\"1\" /><path clip-path=\"url(#clip410)\" d=\"M538.58 537.793 L554.899 537.793 L554.899 541.728 L532.955 541.728 L532.955 537.793 Q535.617 535.038 540.2 530.408 Q544.807 525.756 545.987 524.413 Q548.233 521.89 549.112 520.154 Q550.015 518.395 550.015 516.705 Q550.015 513.95 548.071 512.214 Q546.149 510.478 543.047 510.478 Q540.848 510.478 538.395 511.242 Q535.964 512.006 533.186 513.557 L533.186 508.835 Q536.01 507.7 538.464 507.122 Q540.918 506.543 542.955 506.543 Q548.325 506.543 551.52 509.228 Q554.714 511.913 554.714 516.404 Q554.714 518.534 553.904 520.455 Q553.117 522.353 551.01 524.946 Q550.432 525.617 547.33 528.834 Q544.228 532.029 538.58 537.793 Z\" fill=\"#000000\" fill-rule=\"evenodd\" fill-opacity=\"1\" /><path clip-path=\"url(#clip410)\" d=\"M564.714 535.848 L569.598 535.848 L569.598 541.728 L564.714 541.728 L564.714 535.848 Z\" fill=\"#000000\" fill-rule=\"evenodd\" fill-opacity=\"1\" /><path clip-path=\"url(#clip410)\" d=\"M579.83 507.168 L598.186 507.168 L598.186 511.103 L584.112 511.103 L584.112 519.575 Q585.131 519.228 586.149 519.066 Q587.168 518.881 588.186 518.881 Q593.973 518.881 597.353 522.052 Q600.732 525.223 600.732 530.64 Q600.732 536.219 597.26 539.32 Q593.788 542.399 587.468 542.399 Q585.293 542.399 583.024 542.029 Q580.779 541.658 578.371 540.918 L578.371 536.219 Q580.455 537.353 582.677 537.908 Q584.899 538.464 587.376 538.464 Q591.38 538.464 593.718 536.358 Q596.056 534.251 596.056 530.64 Q596.056 527.029 593.718 524.922 Q591.38 522.816 587.376 522.816 Q585.501 522.816 583.626 523.233 Q581.774 523.649 579.83 524.529 L579.83 507.168 Z\" fill=\"#000000\" fill-rule=\"evenodd\" fill-opacity=\"1\" /><path clip-path=\"url(#clip410)\" d=\"M654.418 507.168 L672.774 507.168 L672.774 511.103 L658.7 511.103 L658.7 519.575 Q659.719 519.228 660.737 519.066 Q661.756 518.881 662.774 518.881 Q668.561 518.881 671.941 522.052 Q675.32 525.223 675.32 530.64 Q675.32 536.219 671.848 539.32 Q668.376 542.399 662.056 542.399 Q659.881 542.399 657.612 542.029 Q655.367 541.658 652.959 540.918 L652.959 536.219 Q655.043 537.353 657.265 537.908 Q659.487 538.464 661.964 538.464 Q665.969 538.464 668.306 536.358 Q670.644 534.251 670.644 530.64 Q670.644 527.029 668.306 524.922 Q665.969 522.816 661.964 522.816 Q660.089 522.816 658.214 523.233 Q656.362 523.649 654.418 524.529 L654.418 507.168 Z\" fill=\"#000000\" fill-rule=\"evenodd\" fill-opacity=\"1\" /><path clip-path=\"url(#clip410)\" d=\"M684.533 535.848 L689.417 535.848 L689.417 541.728 L684.533 541.728 L684.533 535.848 Z\" fill=\"#000000\" fill-rule=\"evenodd\" fill-opacity=\"1\" /><path clip-path=\"url(#clip410)\" d=\"M709.603 510.247 Q705.991 510.247 704.163 513.811 Q702.357 517.353 702.357 524.483 Q702.357 531.589 704.163 535.154 Q705.991 538.695 709.603 538.695 Q713.237 538.695 715.042 535.154 Q716.871 531.589 716.871 524.483 Q716.871 517.353 715.042 513.811 Q713.237 510.247 709.603 510.247 M709.603 506.543 Q715.413 506.543 718.468 511.149 Q721.547 515.733 721.547 524.483 Q721.547 533.209 718.468 537.816 Q715.413 542.399 709.603 542.399 Q703.792 542.399 700.714 537.816 Q697.658 533.209 697.658 524.483 Q697.658 515.733 700.714 511.149 Q703.792 506.543 709.603 506.543 Z\" fill=\"#000000\" fill-rule=\"evenodd\" fill-opacity=\"1\" /><polyline clip-path=\"url(#clip412)\" style=\"stroke:#000000; stroke-linecap:butt; stroke-linejoin:round; stroke-width:2; stroke-opacity:0.1; fill:none\" points=\"\n",
       "  140.112,491.206 752.756,491.206 \n",
       "  \"/>\n",
       "<polyline clip-path=\"url(#clip412)\" style=\"stroke:#000000; stroke-linecap:butt; stroke-linejoin:round; stroke-width:2; stroke-opacity:0.1; fill:none\" points=\"\n",
       "  140.112,355.568 752.756,355.568 \n",
       "  \"/>\n",
       "<polyline clip-path=\"url(#clip412)\" style=\"stroke:#000000; stroke-linecap:butt; stroke-linejoin:round; stroke-width:2; stroke-opacity:0.1; fill:none\" points=\"\n",
       "  140.112,219.93 752.756,219.93 \n",
       "  \"/>\n",
       "<polyline clip-path=\"url(#clip412)\" style=\"stroke:#000000; stroke-linecap:butt; stroke-linejoin:round; stroke-width:2; stroke-opacity:0.1; fill:none\" points=\"\n",
       "  140.112,84.292 752.756,84.292 \n",
       "  \"/>\n",
       "<polyline clip-path=\"url(#clip410)\" style=\"stroke:#000000; stroke-linecap:butt; stroke-linejoin:round; stroke-width:4; stroke-opacity:1; fill:none\" points=\"\n",
       "  140.112,492.128 140.112,47.2441 \n",
       "  \"/>\n",
       "<polyline clip-path=\"url(#clip410)\" style=\"stroke:#000000; stroke-linecap:butt; stroke-linejoin:round; stroke-width:4; stroke-opacity:1; fill:none\" points=\"\n",
       "  140.112,491.206 159.01,491.206 \n",
       "  \"/>\n",
       "<polyline clip-path=\"url(#clip410)\" style=\"stroke:#000000; stroke-linecap:butt; stroke-linejoin:round; stroke-width:4; stroke-opacity:1; fill:none\" points=\"\n",
       "  140.112,355.568 159.01,355.568 \n",
       "  \"/>\n",
       "<polyline clip-path=\"url(#clip410)\" style=\"stroke:#000000; stroke-linecap:butt; stroke-linejoin:round; stroke-width:4; stroke-opacity:1; fill:none\" points=\"\n",
       "  140.112,219.93 159.01,219.93 \n",
       "  \"/>\n",
       "<polyline clip-path=\"url(#clip410)\" style=\"stroke:#000000; stroke-linecap:butt; stroke-linejoin:round; stroke-width:4; stroke-opacity:1; fill:none\" points=\"\n",
       "  140.112,84.292 159.01,84.292 \n",
       "  \"/>\n",
       "<path clip-path=\"url(#clip410)\" d=\"M70.9365 477.004 Q67.3254 477.004 65.4967 480.569 Q63.6912 484.111 63.6912 491.24 Q63.6912 498.347 65.4967 501.912 Q67.3254 505.453 70.9365 505.453 Q74.5707 505.453 76.3763 501.912 Q78.205 498.347 78.205 491.24 Q78.205 484.111 76.3763 480.569 Q74.5707 477.004 70.9365 477.004 M70.9365 473.301 Q76.7467 473.301 79.8022 477.907 Q82.8809 482.49 82.8809 491.24 Q82.8809 499.967 79.8022 504.574 Q76.7467 509.157 70.9365 509.157 Q65.1264 509.157 62.0477 504.574 Q58.9921 499.967 58.9921 491.24 Q58.9921 482.49 62.0477 477.907 Q65.1264 473.301 70.9365 473.301 Z\" fill=\"#000000\" fill-rule=\"evenodd\" fill-opacity=\"1\" /><path clip-path=\"url(#clip410)\" d=\"M91.0984 502.606 L95.9827 502.606 L95.9827 508.486 L91.0984 508.486 L91.0984 502.606 Z\" fill=\"#000000\" fill-rule=\"evenodd\" fill-opacity=\"1\" /><path clip-path=\"url(#clip410)\" d=\"M116.168 477.004 Q112.557 477.004 110.728 480.569 Q108.922 484.111 108.922 491.24 Q108.922 498.347 110.728 501.912 Q112.557 505.453 116.168 505.453 Q119.802 505.453 121.608 501.912 Q123.436 498.347 123.436 491.24 Q123.436 484.111 121.608 480.569 Q119.802 477.004 116.168 477.004 M116.168 473.301 Q121.978 473.301 125.033 477.907 Q128.112 482.49 128.112 491.24 Q128.112 499.967 125.033 504.574 Q121.978 509.157 116.168 509.157 Q110.358 509.157 107.279 504.574 Q104.223 499.967 104.223 491.24 Q104.223 482.49 107.279 477.907 Q110.358 473.301 116.168 473.301 Z\" fill=\"#000000\" fill-rule=\"evenodd\" fill-opacity=\"1\" /><path clip-path=\"url(#clip410)\" d=\"M72.1634 341.367 Q68.5523 341.367 66.7236 344.931 Q64.918 348.473 64.918 355.603 Q64.918 362.709 66.7236 366.274 Q68.5523 369.815 72.1634 369.815 Q75.7976 369.815 77.6031 366.274 Q79.4318 362.709 79.4318 355.603 Q79.4318 348.473 77.6031 344.931 Q75.7976 341.367 72.1634 341.367 M72.1634 337.663 Q77.9735 337.663 81.029 342.269 Q84.1077 346.853 84.1077 355.603 Q84.1077 364.329 81.029 368.936 Q77.9735 373.519 72.1634 373.519 Q66.3532 373.519 63.2745 368.936 Q60.219 364.329 60.219 355.603 Q60.219 346.853 63.2745 342.269 Q66.3532 337.663 72.1634 337.663 Z\" fill=\"#000000\" fill-rule=\"evenodd\" fill-opacity=\"1\" /><path clip-path=\"url(#clip410)\" d=\"M92.3253 366.968 L97.2095 366.968 L97.2095 372.848 L92.3253 372.848 L92.3253 366.968 Z\" fill=\"#000000\" fill-rule=\"evenodd\" fill-opacity=\"1\" /><path clip-path=\"url(#clip410)\" d=\"M108.205 368.913 L115.844 368.913 L115.844 342.547 L107.534 344.214 L107.534 339.954 L115.797 338.288 L120.473 338.288 L120.473 368.913 L128.112 368.913 L128.112 372.848 L108.205 372.848 L108.205 368.913 Z\" fill=\"#000000\" fill-rule=\"evenodd\" fill-opacity=\"1\" /><path clip-path=\"url(#clip410)\" d=\"M72.5337 205.729 Q68.9226 205.729 67.0939 209.293 Q65.2884 212.835 65.2884 219.965 Q65.2884 227.071 67.0939 230.636 Q68.9226 234.178 72.5337 234.178 Q76.168 234.178 77.9735 230.636 Q79.8022 227.071 79.8022 219.965 Q79.8022 212.835 77.9735 209.293 Q76.168 205.729 72.5337 205.729 M72.5337 202.025 Q78.3439 202.025 81.3994 206.631 Q84.4781 211.215 84.4781 219.965 Q84.4781 228.691 81.3994 233.298 Q78.3439 237.881 72.5337 237.881 Q66.7236 237.881 63.6449 233.298 Q60.5893 228.691 60.5893 219.965 Q60.5893 211.215 63.6449 206.631 Q66.7236 202.025 72.5337 202.025 Z\" fill=\"#000000\" fill-rule=\"evenodd\" fill-opacity=\"1\" /><path clip-path=\"url(#clip410)\" d=\"M92.6956 231.33 L97.5799 231.33 L97.5799 237.21 L92.6956 237.21 L92.6956 231.33 Z\" fill=\"#000000\" fill-rule=\"evenodd\" fill-opacity=\"1\" /><path clip-path=\"url(#clip410)\" d=\"M111.793 233.275 L128.112 233.275 L128.112 237.21 L106.168 237.21 L106.168 233.275 Q108.83 230.52 113.413 225.891 Q118.02 221.238 119.2 219.895 Q121.445 217.372 122.325 215.636 Q123.228 213.877 123.228 212.187 Q123.228 209.432 121.283 207.696 Q119.362 205.96 116.26 205.96 Q114.061 205.96 111.608 206.724 Q109.177 207.488 106.399 209.039 L106.399 204.317 Q109.223 203.182 111.677 202.604 Q114.131 202.025 116.168 202.025 Q121.538 202.025 124.733 204.71 Q127.927 207.395 127.927 211.886 Q127.927 214.016 127.117 215.937 Q126.33 217.835 124.223 220.428 Q123.645 221.099 120.543 224.316 Q117.441 227.511 111.793 233.275 Z\" fill=\"#000000\" fill-rule=\"evenodd\" fill-opacity=\"1\" /><path clip-path=\"url(#clip410)\" d=\"M71.5847 70.0907 Q67.9736 70.0907 66.1449 73.6555 Q64.3393 77.1972 64.3393 84.3268 Q64.3393 91.4332 66.1449 94.998 Q67.9736 98.5396 71.5847 98.5396 Q75.2189 98.5396 77.0244 94.998 Q78.8531 91.4332 78.8531 84.3268 Q78.8531 77.1972 77.0244 73.6555 Q75.2189 70.0907 71.5847 70.0907 M71.5847 66.387 Q77.3948 66.387 80.4503 70.9935 Q83.529 75.5768 83.529 84.3268 Q83.529 93.0536 80.4503 97.66 Q77.3948 102.243 71.5847 102.243 Q65.7745 102.243 62.6958 97.66 Q59.6403 93.0536 59.6403 84.3268 Q59.6403 75.5768 62.6958 70.9935 Q65.7745 66.387 71.5847 66.387 Z\" fill=\"#000000\" fill-rule=\"evenodd\" fill-opacity=\"1\" /><path clip-path=\"url(#clip410)\" d=\"M91.7466 95.6924 L96.6308 95.6924 L96.6308 101.572 L91.7466 101.572 L91.7466 95.6924 Z\" fill=\"#000000\" fill-rule=\"evenodd\" fill-opacity=\"1\" /><path clip-path=\"url(#clip410)\" d=\"M120.983 82.9379 Q124.339 83.6555 126.214 85.924 Q128.112 88.1925 128.112 91.5258 Q128.112 96.6415 124.594 99.4424 Q121.075 102.243 114.594 102.243 Q112.418 102.243 110.103 101.804 Q107.811 101.387 105.358 100.53 L105.358 96.0165 Q107.302 97.1508 109.617 97.7295 Q111.932 98.3082 114.455 98.3082 Q118.853 98.3082 121.145 96.5721 Q123.459 94.836 123.459 91.5258 Q123.459 88.4703 121.307 86.7573 Q119.177 85.0212 115.358 85.0212 L111.33 85.0212 L111.33 81.1786 L115.543 81.1786 Q118.992 81.1786 120.82 79.8129 Q122.649 78.424 122.649 75.8314 Q122.649 73.1694 120.751 71.7574 Q118.876 70.3222 115.358 70.3222 Q113.436 70.3222 111.237 70.7389 Q109.038 71.1555 106.399 72.0352 L106.399 67.8685 Q109.061 67.1278 111.376 66.7574 Q113.714 66.387 115.774 66.387 Q121.098 66.387 124.2 68.8176 Q127.302 71.225 127.302 75.3453 Q127.302 78.2157 125.658 80.2064 Q124.015 82.174 120.983 82.9379 Z\" fill=\"#000000\" fill-rule=\"evenodd\" fill-opacity=\"1\" /><polyline clip-path=\"url(#clip412)\" style=\"stroke:#009af9; stroke-linecap:butt; stroke-linejoin:round; stroke-width:4; stroke-opacity:1; fill:none\" points=\"\n",
       "  157.451,479.537 163.095,479.08 215.285,473.241 246.649,467.491 273.167,460.238 287.57,454.862 301.973,448.015 315.251,439.92 328.529,429.463 335.647,422.576 \n",
       "  342.765,414.559 349.882,405.176 357,394.139 365.247,378.812 373.493,360.114 381.74,337.241 389.987,309.305 397.315,279.568 404.644,244.891 411.973,205.646 \n",
       "  419.301,163.465 425.728,126.805 432.155,94.3404 435.368,81.1058 438.581,70.637 441.795,63.4263 445.008,59.8351 448.511,60.2584 452.014,65.1761 455.518,74.2871 \n",
       "  459.021,87.0597 462.525,102.806 466.028,120.765 469.531,140.183 473.035,160.371 480.083,201.069 487.131,239.308 494.18,273.449 501.228,303.02 509.021,330.62 \n",
       "  516.814,353.498 524.606,372.407 532.399,388.057 539.814,400.482 547.229,410.949 554.643,419.814 562.058,427.367 577.477,439.823 592.896,449.072 605.876,455.103 \n",
       "  618.856,459.955 650.549,468.434 680.341,473.645 728.071,478.938 735.417,479.537 \n",
       "  \"/>\n",
       "<path clip-path=\"url(#clip410)\" d=\"\n",
       "M611.833 165.754 L732.334 165.754 L732.334 62.0736 L611.833 62.0736  Z\n",
       "  \" fill=\"#ffffff\" fill-rule=\"evenodd\" fill-opacity=\"1\"/>\n",
       "<polyline clip-path=\"url(#clip410)\" style=\"stroke:#000000; stroke-linecap:butt; stroke-linejoin:round; stroke-width:4; stroke-opacity:1; fill:none\" points=\"\n",
       "  611.833,165.754 732.334,165.754 732.334,62.0736 611.833,62.0736 611.833,165.754 \n",
       "  \"/>\n",
       "<polyline clip-path=\"url(#clip410)\" style=\"stroke:#009af9; stroke-linecap:butt; stroke-linejoin:round; stroke-width:4; stroke-opacity:1; fill:none\" points=\"\n",
       "  618.64,113.914 659.483,113.914 \n",
       "  \"/>\n",
       "<path clip-path=\"url(#clip410)\" d=\"M680.132 133.601 Q678.327 138.231 676.614 139.643 Q674.901 141.055 672.031 141.055 L668.628 141.055 L668.628 137.49 L671.128 137.49 Q672.887 137.49 673.859 136.656 Q674.831 135.823 676.012 132.721 L676.776 130.777 L666.29 105.268 L670.804 105.268 L678.906 125.545 L687.007 105.268 L691.521 105.268 L680.132 133.601 Z\" fill=\"#000000\" fill-rule=\"evenodd\" fill-opacity=\"1\" /><path clip-path=\"url(#clip410)\" d=\"M698.813 127.258 L706.452 127.258 L706.452 100.893 L698.142 102.559 L698.142 98.3002 L706.405 96.6336 L711.081 96.6336 L711.081 127.258 L718.72 127.258 L718.72 131.194 L698.813 131.194 L698.813 127.258 Z\" fill=\"#000000\" fill-rule=\"evenodd\" fill-opacity=\"1\" /></svg>\n"
      ]
     },
     "execution_count": 1,
     "metadata": {},
     "output_type": "execute_result"
    }
   ],
   "source": [
    "using Random\n",
    "using Distributions\n",
    "using StatsPlots\n",
    "plot(TDist(1), -6, 6; size=(200, 150))"
   ]
  },
  {
   "cell_type": "code",
   "execution_count": 2,
   "id": "b0375e7d-7b74-40e1-a158-29ec2e7f0ea8",
   "metadata": {},
   "outputs": [
    {
     "data": {
      "text/plain": [
       "simvar (generic function with 1 method)"
      ]
     },
     "execution_count": 2,
     "metadata": {},
     "output_type": "execute_result"
    }
   ],
   "source": [
    "function diffvarvar(dist, n)\n",
    "    σ = std(dist)\n",
    "    μ₄ = kurtosis(dist) + 3\n",
    "    σ^4/n^2 * ((2 - 1/n)*μ₄ - (3 - (5n-3)/(n*(n-1))))\n",
    "end\n",
    "\n",
    "function diffvarvarnormal(dist, n)\n",
    "    σ = std(dist)\n",
    "    (3n - 1)/(n^2*(n-1)) * σ^4\n",
    "end\n",
    "\n",
    "function var_unbiasedvar(dist, n)\n",
    "    σ = std(dist)\n",
    "    μ₄ = kurtosis(dist) + 3\n",
    "    σ^4 * (μ₄/n - (n-3)/(n*(n-1)))\n",
    "end\n",
    "\n",
    "function var_var(dist, n) # 正確には分散ではなく、σ²に対する平均二乗誤差\n",
    "    σ = std(dist)\n",
    "    ((n-1)/n)^2 * var_unbiasedvar(dist, n) + σ^4/n^2\n",
    "end\n",
    "\n",
    "function simvar(dist, n; L = 10^7)\n",
    "    σ² = var(dist)\n",
    "    tmp = [Vector{Float64}(undef, n) for _ in 1:Threads.nthreads()]\n",
    "    V = Vector{Float64}(undef, L)\n",
    "    U = similar(V)\n",
    "    Threads.@threads for i in 1:L\n",
    "        X = rand!(dist, tmp[Threads.threadid()])\n",
    "        V[i] = var(X; corrected=false)\n",
    "        U[i] = var(X)\n",
    "    end\n",
    "    varU = var(U; mean=σ²)\n",
    "    varV = var(V; mean=σ²) \n",
    "    varU, varV, varU - varV, varV/varU, varU/varV, √(varU/varV)\n",
    "end"
   ]
  },
  {
   "cell_type": "code",
   "execution_count": 3,
   "id": "ce5a5e24-efad-4c73-9c21-ee6208f1f287",
   "metadata": {},
   "outputs": [
    {
     "data": {
      "text/plain": [
       "0.03222222222222222"
      ]
     },
     "metadata": {},
     "output_type": "display_data"
    },
    {
     "data": {
      "text/plain": [
       "(0.22221164920855593, 0.18999102131327705, 0.03222062789527888, 0.8550002755929401, 1.1695902662797424, 1.0814759665751905)"
      ]
     },
     "metadata": {},
     "output_type": "display_data"
    },
    {
     "data": {
      "text/plain": [
       "(0.2222222222222222, 0.19, 0.032222222222222215, 0.8550000000000001, 1.1695906432748537, 1.0814761408717501)"
      ]
     },
     "execution_count": 3,
     "metadata": {},
     "output_type": "execute_result"
    }
   ],
   "source": [
    "dist = Normal()\n",
    "n = 10\n",
    "diffvarvarnormal(dist, n) |> display\n",
    "simvar(dist, n; L = 10^8) |> display\n",
    "var_unbiasedvar(dist, n), var_var(dist, n), diffvarvar(dist, n), var_var(dist, n)/var_unbiasedvar(dist, n), var_unbiasedvar(dist, n)/var_var(dist, n), √(var_unbiasedvar(dist, n)/var_var(dist, n))"
   ]
  },
  {
   "cell_type": "code",
   "execution_count": 4,
   "id": "0c5e7c55-079a-48b0-a402-a4408dfe7224",
   "metadata": {},
   "outputs": [
    {
     "data": {
      "text/plain": [
       "0.5155555555555555"
      ]
     },
     "metadata": {},
     "output_type": "display_data"
    },
    {
     "data": {
      "text/plain": [
       "(3.5559430999629327, 3.0402800115236226, 0.5156630884393101, 0.8549855624954501, 1.16961039328114, 1.0814852718743515)"
      ]
     },
     "metadata": {},
     "output_type": "display_data"
    },
    {
     "data": {
      "text/plain": [
       "(3.5555555555555554, 3.04, 0.5155555555555554, 0.8550000000000001, 1.1695906432748537, 1.0814761408717501)"
      ]
     },
     "execution_count": 4,
     "metadata": {},
     "output_type": "execute_result"
    }
   ],
   "source": [
    "dist = Normal(1, 2)\n",
    "n = 10\n",
    "diffvarvarnormal(dist, n) |> display\n",
    "simvar(dist, n; L = 10^8) |> display\n",
    "var_unbiasedvar(dist, n), var_var(dist, n), diffvarvar(dist, n), var_var(dist, n)/var_unbiasedvar(dist, n), var_unbiasedvar(dist, n)/var_var(dist, n), √(var_unbiasedvar(dist, n)/var_var(dist, n))"
   ]
  },
  {
   "cell_type": "code",
   "execution_count": 5,
   "id": "d019b52b-1fda-498f-8d1a-63904d21271e",
   "metadata": {},
   "outputs": [
    {
     "data": {
      "text/plain": [
       "(0.8218798971391963, 0.675742477097885, 0.14613742004131125, 0.8221912708292451, 1.2162620006795022, 1.1028426908129292)"
      ]
     },
     "metadata": {},
     "output_type": "display_data"
    },
    {
     "data": {
      "text/plain": [
       "(0.8222222222222222, 0.676, 0.1462222222222222, 0.8221621621621622, 1.2163050624589085, 1.1028622137234136)"
      ]
     },
     "execution_count": 5,
     "metadata": {},
     "output_type": "execute_result"
    }
   ],
   "source": [
    "dist = Exponential()\n",
    "n = 10\n",
    "simvar(dist, n; L = 10^8) |> display\n",
    "var_unbiasedvar(dist, n), var_var(dist, n), diffvarvar(dist, n), var_var(dist, n)/var_unbiasedvar(dist, n), var_unbiasedvar(dist, n)/var_var(dist, n), √(var_unbiasedvar(dist, n)/var_var(dist, n))"
   ]
  },
  {
   "cell_type": "code",
   "execution_count": 6,
   "id": "04d6d7da-089e-45bb-a34a-0858e3edbf1e",
   "metadata": {},
   "outputs": [
    {
     "data": {
      "text/plain": [
       "(13.155278877341031, 10.815930991952643, 2.3393478853883884, 0.8221742079966288, 1.2162872421365234, 1.1028541345692655)"
      ]
     },
     "metadata": {},
     "output_type": "display_data"
    },
    {
     "data": {
      "text/plain": [
       "(13.155555555555555, 10.816, 2.339555555555555, 0.8221621621621622, 1.2163050624589085, 1.1028622137234136)"
      ]
     },
     "execution_count": 6,
     "metadata": {},
     "output_type": "execute_result"
    }
   ],
   "source": [
    "dist = Exponential(2)\n",
    "n = 10\n",
    "simvar(dist, n; L = 10^8) |> display\n",
    "var_unbiasedvar(dist, n), var_var(dist, n), diffvarvar(dist, n), var_var(dist, n)/var_unbiasedvar(dist, n), var_unbiasedvar(dist, n)/var_var(dist, n), √(var_unbiasedvar(dist, n)/var_var(dist, n))"
   ]
  },
  {
   "cell_type": "code",
   "execution_count": 7,
   "id": "af06cbdb-c09a-448c-8bb8-bf8f474fddd2",
   "metadata": {},
   "outputs": [
    {
     "data": {
      "text/plain": [
       "(0.0013887897126533299, 0.0017498248184982476, -0.0003610351058449177, 1.2599638394175228, 0.7936735711893897, 0.8908835901448571)"
      ]
     },
     "metadata": {},
     "output_type": "display_data"
    },
    {
     "data": {
      "text/plain": [
       "(0.0013888888888888892, 0.0017500000000000003, -0.0003611111111111112, 1.26, 0.7936507936507937, 0.890870806374748)"
      ]
     },
     "execution_count": 7,
     "metadata": {},
     "output_type": "execute_result"
    }
   ],
   "source": [
    "dist = Bernoulli(0.5)\n",
    "n = 10\n",
    "simvar(dist, n; L = 10^8) |> display\n",
    "var_unbiasedvar(dist, n), var_var(dist, n), diffvarvar(dist, n), var_var(dist, n)/var_unbiasedvar(dist, n), var_unbiasedvar(dist, n)/var_var(dist, n), √(var_unbiasedvar(dist, n)/var_var(dist, n))"
   ]
  },
  {
   "cell_type": "code",
   "execution_count": 8,
   "id": "b28639e7-199f-45bd-b2f2-15ad37977438",
   "metadata": {},
   "outputs": [
    {
     "data": {
      "text/plain": [
       "(1.2619728323524082e-5, 1.861847548238476e-5, -5.9987471588606795e-6, 1.475346774912625, 0.6778067482197353, 0.823290196844184)"
      ]
     },
     "metadata": {},
     "output_type": "display_data"
    },
    {
     "data": {
      "text/plain": [
       "(1.2626262626262599e-5, 1.8624999999999975e-5, -5.998737373737374e-6, 1.4751000000000012, 0.6779201410073887, 0.8233590595890645)"
      ]
     },
     "execution_count": 8,
     "metadata": {},
     "output_type": "execute_result"
    }
   ],
   "source": [
    "dist = Bernoulli(0.5)\n",
    "n = 100\n",
    "simvar(dist, n; L = 10^8) |> display\n",
    "var_unbiasedvar(dist, n), var_var(dist, n), diffvarvar(dist, n), var_var(dist, n)/var_unbiasedvar(dist, n), var_unbiasedvar(dist, n)/var_var(dist, n), √(var_unbiasedvar(dist, n)/var_var(dist, n))"
   ]
  },
  {
   "cell_type": "code",
   "execution_count": null,
   "id": "4db71a25-1080-4ac2-b60d-24800dc70ca9",
   "metadata": {},
   "outputs": [],
   "source": [
    "dist = Bernoulli(0.5)\n",
    "n = 1000\n",
    "simvar(dist, n; L = 10^8) |> display\n",
    "var_unbiasedvar(dist, n), var_var(dist, n), diffvarvar(dist, n), var_var(dist, n)/var_unbiasedvar(dist, n), var_unbiasedvar(dist, n)/var_var(dist, n), √(var_unbiasedvar(dist, n)/var_var(dist, n))"
   ]
  },
  {
   "cell_type": "code",
   "execution_count": null,
   "id": "d5447fdb-ba14-4ff2-b778-06f6ff56035a",
   "metadata": {},
   "outputs": [],
   "source": [
    "dist = Bernoulli(0.4)\n",
    "n = 10\n",
    "simvar(dist, n; L = 10^8) |> display\n",
    "var_unbiasedvar(dist, n), var_var(dist, n), diffvarvar(dist, n), var_var(dist, n)/var_unbiasedvar(dist, n), var_unbiasedvar(dist, n)/var_var(dist, n), √(var_unbiasedvar(dist, n)/var_var(dist, n))"
   ]
  },
  {
   "cell_type": "code",
   "execution_count": null,
   "id": "de44adad-6a9e-49e1-b5b0-6f9d52c38b8e",
   "metadata": {},
   "outputs": [],
   "source": [
    "dist = Bernoulli(0.3)\n",
    "n = 10\n",
    "simvar(dist, n; L = 10^8) |> display\n",
    "var_unbiasedvar(dist, n), var_var(dist, n), diffvarvar(dist, n), var_var(dist, n)/var_unbiasedvar(dist, n), var_unbiasedvar(dist, n)/var_var(dist, n), √(var_unbiasedvar(dist, n)/var_var(dist, n))"
   ]
  },
  {
   "cell_type": "code",
   "execution_count": null,
   "id": "51888e77-a662-44bd-bd63-562cfd37ea70",
   "metadata": {},
   "outputs": [],
   "source": [
    "dist = Bernoulli(0.2)\n",
    "n = 10\n",
    "simvar(dist, n; L = 10^8) |> display\n",
    "var_unbiasedvar(dist, n), var_var(dist, n), diffvarvar(dist, n), var_var(dist, n)/var_unbiasedvar(dist, n), var_unbiasedvar(dist, n)/var_var(dist, n), √(var_unbiasedvar(dist, n)/var_var(dist, n))"
   ]
  },
  {
   "cell_type": "code",
   "execution_count": null,
   "id": "131aa56f-0519-4e71-8fc3-3718ed5a6e63",
   "metadata": {},
   "outputs": [],
   "source": [
    "using SymPy\n",
    "@vars σ μ₄ n\n",
    "\n",
    "σ = 1\n",
    "μ₄ = 0\n",
    "vu = σ^4 * (μ₄/n - (n-3)/(n*(n-1)))\n",
    "vv =  ((n-1)/n)^2 * vu + σ^4/n^2\n",
    "[vu, vv] .|> simplify .|> factor"
   ]
  },
  {
   "cell_type": "code",
   "execution_count": null,
   "id": "6dbfcb0c-5c6c-4862-b075-360784dc2a48",
   "metadata": {},
   "outputs": [],
   "source": [
    "(vu - vv)*(-n^2) |> simplify"
   ]
  },
  {
   "cell_type": "code",
   "execution_count": null,
   "id": "963b68f6-ad27-48ae-bae6-9d3f7f075236",
   "metadata": {},
   "outputs": [],
   "source": [
    "@vars σ μ₄ n\n",
    "\n",
    "μ₄ = 3 # normal dist. case\n",
    "vu = σ^4 * (μ₄/n - (n-3)/(n*(n-1)))\n",
    "vv =  ((n-1)/n)^2 * vu + σ^4/n^2\n",
    "[vu, vv, vv/vu] .|> simplify .|> factor"
   ]
  },
  {
   "cell_type": "code",
   "execution_count": null,
   "id": "29478843-9b94-441f-9b89-bf04bb3a13d5",
   "metadata": {},
   "outputs": [],
   "source": [
    "@vars σ μ₄ n\n",
    "\n",
    "μ₄ = 3 # normal dist. case\n",
    "vu = σ^4 * (μ₄/n - (n-3)/(n*(n-1)))\n",
    "vv =  ((n-1)/n)^2 * vu + σ^4/n^2\n",
    "F = vv/vu |> simplify |> factor\n",
    "F(n => 10)"
   ]
  },
  {
   "cell_type": "code",
   "execution_count": null,
   "id": "7a1566ff-f41f-4c1c-bee0-c71e29c5b5db",
   "metadata": {},
   "outputs": [],
   "source": [
    "@vars σ μ₄ n\n",
    "\n",
    "μ₄ = 1 # Bernoulli(1/2)\n",
    "vu = σ^4 * (μ₄/n - (n-3)/(n*(n-1)))\n",
    "vv =  ((n-1)/n)^2 * vu + σ^4/n^2\n",
    "F = vv/vu |> simplify |> factor"
   ]
  },
  {
   "cell_type": "code",
   "execution_count": null,
   "id": "180d3c6e-cca0-4e0c-8920-e72ef7d6e2c2",
   "metadata": {},
   "outputs": [],
   "source": [
    "F(n => 10)"
   ]
  },
  {
   "cell_type": "code",
   "execution_count": null,
   "id": "feb3b6bd-4fff-4690-a295-ddbeb077f357",
   "metadata": {},
   "outputs": [],
   "source": [
    "@vars σ μ₄ n\n",
    "\n",
    "μ₄ = 3//2\n",
    "vu = σ^4 * (μ₄/n - (n-3)/(n*(n-1)))\n",
    "vv =  ((n-1)/n)^2 * vu + σ^4/n^2\n",
    "F = vv/vu |> simplify |> factor"
   ]
  },
  {
   "cell_type": "code",
   "execution_count": null,
   "id": "58cfd66a-0a26-4fed-aaa9-c6ac7db8d683",
   "metadata": {},
   "outputs": [],
   "source": [
    "@vars σ μ₄ n\n",
    "\n",
    "μ₄ = 0\n",
    "vu = σ^4 * (μ₄/n - (n-3)/(n*(n-1)))\n",
    "vv =  ((n-1)/n)^2 * vu + σ^4/n^2\n",
    "F = vv/vu |> simplify |> factor"
   ]
  },
  {
   "cell_type": "code",
   "execution_count": null,
   "id": "24163625-f96d-441d-9e36-8ae7b02a10f2",
   "metadata": {},
   "outputs": [],
   "source": [
    "@vars σ μ₄ n\n",
    "\n",
    "μ₄ = 1//2\n",
    "vu = σ^4 * (μ₄/n - (n-3)/(n*(n-1)))\n",
    "vv =  ((n-1)/n)^2 * vu + σ^4/n^2\n",
    "F = vv/vu |> simplify |> factor"
   ]
  },
  {
   "cell_type": "code",
   "execution_count": null,
   "id": "ec066c01-da01-4a3d-9aaa-d429e5867104",
   "metadata": {},
   "outputs": [],
   "source": [
    "@vars σ μ₄ n\n",
    "\n",
    "μ₄ = 1\n",
    "vu = σ^4 * (μ₄/n - (n-3)/(n*(n-1)))\n",
    "vv =  ((n-1)/n)^2 * vu + σ^4/n^2\n",
    "F = vv/vu |> simplify |> factor"
   ]
  },
  {
   "cell_type": "code",
   "execution_count": null,
   "id": "213d1b4c-3f91-4e33-af5c-6cad7e991725",
   "metadata": {},
   "outputs": [],
   "source": [
    "@vars σ μ₄ n\n",
    "\n",
    "μ₄ = 3//2\n",
    "vu = σ^4 * (μ₄/n - (n-3)/(n*(n-1)))\n",
    "vv =  ((n-1)/n)^2 * vu + σ^4/n^2\n",
    "F = vv/vu |> simplify |> factor"
   ]
  },
  {
   "cell_type": "code",
   "execution_count": null,
   "id": "7c7077dd-9b3f-41b7-a56f-2a2eb858bbe2",
   "metadata": {},
   "outputs": [],
   "source": [
    "@vars σ μ₄ n\n",
    "\n",
    "μ₄ = 2\n",
    "vu = σ^4 * (μ₄/n - (n-3)/(n*(n-1)))\n",
    "vv =  ((n-1)/n)^2 * vu + σ^4/n^2\n",
    "F = vv/vu |> simplify |> factor"
   ]
  },
  {
   "cell_type": "code",
   "execution_count": null,
   "id": "eb5bb87d-3b63-48b9-a203-1aa5c0eaa621",
   "metadata": {},
   "outputs": [],
   "source": [
    "@vars σ μ₄ n\n",
    "\n",
    "μ₄ = 5//2\n",
    "vu = σ^4 * (μ₄/n - (n-3)/(n*(n-1)))\n",
    "vv =  ((n-1)/n)^2 * vu + σ^4/n^2\n",
    "F = vv/vu |> simplify |> factor"
   ]
  },
  {
   "cell_type": "code",
   "execution_count": null,
   "id": "76f6219b-3d44-4f48-b5a1-8f1eae7850c8",
   "metadata": {},
   "outputs": [],
   "source": [
    "skewness(Normal()), skewness(Gamma(20, 1)), skewness(InverseGamma(20, 1))"
   ]
  },
  {
   "cell_type": "code",
   "execution_count": null,
   "id": "6747f694-4506-462f-8fde-a8316f1b1721",
   "metadata": {},
   "outputs": [],
   "source": [
    "kurtosis(Normal()), kurtosis(Gamma(20, 1)), kurtosis(InverseGamma(20, 1)), kurtosis(Laplace())"
   ]
  },
  {
   "cell_type": "code",
   "execution_count": null,
   "id": "832b6783-11fc-4d12-afbc-2401bf87290d",
   "metadata": {},
   "outputs": [],
   "source": [
    "kurtosis(TDist(4.0001)), kurtosis(TDist(10)), kurtosis(TDist(20))"
   ]
  },
  {
   "cell_type": "code",
   "execution_count": null,
   "id": "46fc4e3f-7a41-4348-af3d-559829676c44",
   "metadata": {},
   "outputs": [],
   "source": [
    "skewness(Beta(0.1, 9.9)), skewness(Beta(7, 3)), skewness(Beta(7, 3)), skewness(Beta(9.9, 0.1))"
   ]
  },
  {
   "cell_type": "code",
   "execution_count": null,
   "id": "a3c569fb-d4fa-4097-b5e9-84cef7faada9",
   "metadata": {},
   "outputs": [],
   "source": [
    "kurtosis(Beta(0.1, 9.9)), kurtosis(Beta(7, 3)), kurtosis(Beta(7, 3)), kurtosis(Beta(9.9, 0.1))"
   ]
  },
  {
   "cell_type": "code",
   "execution_count": null,
   "id": "c7524c49-fd67-41a9-9be3-a16979512487",
   "metadata": {},
   "outputs": [],
   "source": [
    "kurtosis.(Bernoulli.(0.1:0.1:0.9))"
   ]
  },
  {
   "cell_type": "code",
   "execution_count": null,
   "id": "6e1e0033-ff4c-43c6-989d-7bd1a01bd5e8",
   "metadata": {},
   "outputs": [],
   "source": [
    "Binomial.(100, [0.01, 0.3, 0.7, 0.99]) .|> skewness"
   ]
  },
  {
   "cell_type": "code",
   "execution_count": null,
   "id": "5078f2bc-7cd6-4889-9129-aba1c5acd59e",
   "metadata": {},
   "outputs": [],
   "source": [
    "Binomial.(100, [0.01, 0.3, 0.7, 0.99]) .|> kurtosis"
   ]
  },
  {
   "cell_type": "code",
   "execution_count": null,
   "id": "1f66791b-59d6-4b9a-9263-550e01036708",
   "metadata": {},
   "outputs": [],
   "source": []
  }
 ],
 "metadata": {
  "jupytext": {
   "formats": "ipynb,md"
  },
  "kernelspec": {
   "display_name": "Julia 1.7.1",
   "language": "julia",
   "name": "julia-1.7"
  },
  "language_info": {
   "file_extension": ".jl",
   "mimetype": "application/julia",
   "name": "julia",
   "version": "1.7.1"
  }
 },
 "nbformat": 4,
 "nbformat_minor": 5
}
