{
 "cells": [
  {
   "cell_type": "code",
   "execution_count": 1,
   "id": "f1757046-710a-415b-8f3d-dfe533470e86",
   "metadata": {},
   "outputs": [
    {
     "data": {
      "text/plain": [
       "pmfordstat_direct2 (generic function with 1 method)"
      ]
     },
     "execution_count": 1,
     "metadata": {},
     "output_type": "execute_result"
    }
   ],
   "source": [
    "using Distributions\n",
    "using Random\n",
    "\n",
    "function simordstat(dist, n, k; L = 10^6)\n",
    "    X = Vector{Float64}(undef, L)\n",
    "    tmp = [Vector{Float64}(undef, n) for _ in 1:Threads.nthreads()]\n",
    "    Threads.@threads for i in 1:L\n",
    "        X[i] = sort!(rand!(dist, tmp[Threads.threadid()]))[k]\n",
    "    end\n",
    "    X\n",
    "end\n",
    "\n",
    "epmf(X, a) = count(==(a), X)/length(X)\n",
    "\n",
    "function pmfordstat_beta(dist, n, k, x)\n",
    "    beta = Beta(k, n-k+1)\n",
    "    cdf(beta, cdf(dist, x)) - cdf(beta, cdf(dist, x-1))\n",
    "end\n",
    "\n",
    "function pmfordstat_direct1(dist, n, k, x)\n",
    "    beta = Beta(k, n-k+1)\n",
    "    pdf(beta, cdf(dist, x)) * pdf(dist, x)\n",
    "end\n",
    "\n",
    "function pmfordstat_direct2(dist, n, k, x)\n",
    "    beta = Beta(k, n-k+1)\n",
    "    factorial(n)/(factorial(k-1)*factorial(n-k)) * cdf(dist, x)^(k-1) * pdf(dist, x) * (1 - cdf(dist, x))^(n-k)\n",
    "end"
   ]
  },
  {
   "cell_type": "code",
   "execution_count": 2,
   "id": "923ef5e6-a461-4656-8a55-0d1012b23576",
   "metadata": {},
   "outputs": [
    {
     "name": "stdout",
     "output_type": "stream",
     "text": [
      "  1.183266 seconds (538.79 k allocations: 104.969 MiB, 0.89% gc time, 23.52% compilation time)\n"
     ]
    },
    {
     "data": {
      "text/plain": [
       "11×4 Matrix{Float64}:\n",
       " 1.3e-6     2.06032e-6  1.01033e-5   1.01033e-5\n",
       " 0.0055013  0.00551232  0.0198504    0.0198504\n",
       " 0.226239   0.226141    0.458291     0.458291\n",
       " 0.595847   0.595967    0.451219     0.451219\n",
       " 0.166717   0.166703    0.0335143    0.0335143\n",
       " 0.0056683  0.00564794  0.00026842   0.00026842\n",
       " 2.52e-5    2.55177e-5  2.79322e-7   2.79322e-7\n",
       " 0.0        1.62124e-8  3.60504e-11  3.60504e-11\n",
       " 0.0        1.2752e-12  3.88263e-16  3.88263e-16\n",
       " 0.0        0.0         1.05529e-22  1.05529e-22\n",
       " 0.0        0.0         0.0          0.0"
      ]
     },
     "execution_count": 2,
     "metadata": {},
     "output_type": "execute_result"
    }
   ],
   "source": [
    "dist, n, k = Binomial(10, 0.3), 9, 5\n",
    "@time X = simordstat(dist, n, k; L=10^7)\n",
    "x = support(dist)\n",
    "a = epmf.(Ref(X), x)\n",
    "b = pmfordstat_beta.(dist, n, k, x)\n",
    "c = pmfordstat_direct1.(dist, n, k, x)\n",
    "d = pmfordstat_direct2.(dist, n, k, x)\n",
    "[a b c d]"
   ]
  },
  {
   "cell_type": "code",
   "execution_count": 3,
   "id": "54912d10-d3fb-4635-aff4-8bf4817726c9",
   "metadata": {},
   "outputs": [
    {
     "name": "stdout",
     "output_type": "stream",
     "text": [
      "  0.864669 seconds (338.65 k allocations: 94.345 MiB, 1.28% gc time, 15.61% compilation time)\n",
      "x = 0:10 = 0:10\n"
     ]
    },
    {
     "data": {
      "text/plain": [
       "11×4 Matrix{Float64}:\n",
       " 0.0001109  0.000109688  0.00052014   0.00052014\n",
       " 0.0494444  0.0494791    0.143175     0.143175\n",
       " 0.481433   0.481384     0.611335     0.611335\n",
       " 0.416719   0.416755     0.175032     0.175032\n",
       " 0.0510872  0.0510717    0.00681575   0.00681575\n",
       " 0.0011974  0.00119422   5.72822e-5   5.72822e-5\n",
       " 7.9e-6     7.11917e-6   1.4383e-7    1.4383e-7\n",
       " 0.0        1.3887e-8    1.35397e-10  1.35397e-10\n",
       " 0.0        1.0719e-11   5.57586e-14  5.57586e-14\n",
       " 0.0        3.77476e-15  1.11528e-17  1.11528e-17\n",
       " 0.0        0.0          1.16674e-21  1.16674e-21"
      ]
     },
     "execution_count": 3,
     "metadata": {},
     "output_type": "execute_result"
    }
   ],
   "source": [
    "dist, n, k = Poisson(3), 11, 5\n",
    "@time X = simordstat(dist, n, k; L=10^7)\n",
    "@show x = 0:10\n",
    "a = epmf.(Ref(X), x)\n",
    "b = pmfordstat_beta.(dist, n, k, x)\n",
    "c = pmfordstat_direct1.(dist, n, k, x)\n",
    "d = pmfordstat_direct2.(dist, n, k, x)\n",
    "[a b c d]"
   ]
  },
  {
   "cell_type": "code",
   "execution_count": 4,
   "id": "fd8b7f5d-6506-4d60-bf16-31de109ff53b",
   "metadata": {},
   "outputs": [
    {
     "name": "stdout",
     "output_type": "stream",
     "text": [
      "  1.704890 seconds (115.64 k allocations: 82.540 MiB, 0.57% gc time, 2.87% compilation time)\n",
      "x = support(dist) = 0:10\n"
     ]
    },
    {
     "data": {
      "text/plain": [
       "11×4 Matrix{Float64}:\n",
       " 0.0        2.14604e-24  1.07301e-23  1.07301e-23\n",
       " 0.0        2.24941e-14  1.11296e-13  1.11296e-13\n",
       " 0.0        8.79782e-8   4.14132e-7   4.14132e-7\n",
       " 0.0016759  0.00166665   0.00656874   0.00656874\n",
       " 0.274431   0.274434     0.58798      0.58798\n",
       " 0.688435   0.68842      0.201971     0.201971\n",
       " 0.0354466  0.035468     0.000194127  0.000194127\n",
       " 1.16e-5    1.09199e-5   3.99079e-10  3.99079e-10\n",
       " 0.0        8.46634e-12  6.74257e-19  6.74257e-19\n",
       " 0.0        0.0          3.14349e-32  3.14349e-32\n",
       " 0.0        0.0          0.0          0.0"
      ]
     },
     "execution_count": 4,
     "metadata": {},
     "output_type": "execute_result"
    }
   ],
   "source": [
    "dist, n, k = Hypergeometric(10, 10, 10), 11, 5\n",
    "@time X = simordstat(dist, n, k; L=10^7)\n",
    "@show x = support(dist)\n",
    "a = epmf.(Ref(X), x)\n",
    "b = pmfordstat_beta.(dist, n, k, x)\n",
    "c = pmfordstat_direct1.(dist, n, k, x)\n",
    "d = pmfordstat_direct2.(dist, n, k, x)\n",
    "[a b c d]"
   ]
  },
  {
   "cell_type": "code",
   "execution_count": null,
   "id": "fcd0d9f0-a198-4411-8a74-e482da6c13ae",
   "metadata": {},
   "outputs": [],
   "source": []
  },
  {
   "cell_type": "code",
   "execution_count": null,
   "id": "848c348c-d165-4b4e-87b6-8f6f787f4cfe",
   "metadata": {},
   "outputs": [],
   "source": []
  }
 ],
 "metadata": {
  "jupytext": {
   "formats": "ipynb,md"
  },
  "kernelspec": {
   "display_name": "Julia 1.7.1",
   "language": "julia",
   "name": "julia-1.7"
  },
  "language_info": {
   "file_extension": ".jl",
   "mimetype": "application/julia",
   "name": "julia",
   "version": "1.7.1"
  }
 },
 "nbformat": 4,
 "nbformat_minor": 5
}
