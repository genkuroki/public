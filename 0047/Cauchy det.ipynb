{
 "cells": [
  {
   "cell_type": "code",
   "execution_count": 1,
   "id": "68f4cafd-0c77-4117-a005-a20bf53e6883",
   "metadata": {},
   "outputs": [
    {
     "name": "stdout",
     "output_type": "stream",
     "text": [
      "u = Sym{PyCall.PyObject}[u₁, u₂, u₃]\n",
      "v = Sym{PyCall.PyObject}[v₁, v₂, v₃]\n"
     ]
    },
    {
     "data": {
      "text/plain": [
       "A (generic function with 2 methods)"
      ]
     },
     "execution_count": 1,
     "metadata": {},
     "output_type": "execute_result"
    }
   ],
   "source": [
    "using LinearAlgebra\n",
    "using SymPy\n",
    "\n",
    "# Override https://github.com/jverzani/SymPyCore.jl/blob/main/src/SymPy/show_sympy.jl#L31-L34\n",
    "@eval SymPy begin\n",
    "function Base.show(io::IO,  ::MIME\"text/latex\", x::SymbolicObject)\n",
    "    out = _sympy_.latex(↓(x), mode=\"inline\",fold_short_frac=false)\n",
    "    out = replace(out, r\"\\\\frac{\"=>\"\\\\dfrac{\")\n",
    "    print(io, string(out))\n",
    "end\n",
    "end\n",
    "\n",
    "N = 3\n",
    "@eval @syms u[1:$N] v[1:$N]\n",
    "@show u v\n",
    "\n",
    "b(i,j) = (u[i] - v[i])/(u[i] - v[j])\n",
    "B(n) = [b(i,j) for i in 1:n, j in 1:n]\n",
    "A(i,j) = (u[i] - u[j])*(v[i] - v[j])/((u[i] - v[j])*(v[i] - u[j]))\n",
    "A(n) = prod(A(i, j) for i in 1:n for j in i+1:n)"
   ]
  },
  {
   "cell_type": "code",
   "execution_count": 2,
   "id": "dd4edfda-1282-45ea-8f72-828a1cc30082",
   "metadata": {},
   "outputs": [
    {
     "name": "stdout",
     "output_type": "stream",
     "text": [
      "  1.785509 seconds (275.92 k allocations: 18.938 MiB, 11.58% compilation time)\n"
     ]
    },
    {
     "data": {
      "text/latex": [
       "$- \\dfrac{\\left(u₁ - u₂\\right) \\left(v₁ - v₂\\right)}{\\left(u₁ - v₂\\right) \\left(u₂ - v₁\\right)}$"
      ],
      "text/plain": [
       "-(u₁ - u₂)*(v₁ - v₂) \n",
       "---------------------\n",
       " (u₁ - v₂)*(u₂ - v₁) "
      ]
     },
     "execution_count": 2,
     "metadata": {},
     "output_type": "execute_result"
    }
   ],
   "source": [
    "@time expr2 = det(B(2)) |> factor"
   ]
  },
  {
   "cell_type": "code",
   "execution_count": 3,
   "id": "a382db33-9adb-4079-9f16-2b0dfaf7d1eb",
   "metadata": {},
   "outputs": [
    {
     "data": {
      "text/latex": [
       "$1$"
      ],
      "text/plain": [
       "1"
      ]
     },
     "execution_count": 3,
     "metadata": {},
     "output_type": "execute_result"
    }
   ],
   "source": [
    "expr2/A(2) |> simplify"
   ]
  },
  {
   "cell_type": "code",
   "execution_count": 4,
   "id": "fc1c5fa5-1088-42c6-a603-170eb794ad42",
   "metadata": {},
   "outputs": [
    {
     "name": "stdout",
     "output_type": "stream",
     "text": [
      "  3.988889 seconds (16.01 k allocations: 1.079 MiB, 0.32% compilation time)\n"
     ]
    },
    {
     "data": {
      "text/latex": [
       "$- \\dfrac{\\left(u₁ - u₂\\right) \\left(u₁ - u₃\\right) \\left(u₂ - u₃\\right) \\left(v₁ - v₂\\right) \\left(v₁ - v₃\\right) \\left(v₂ - v₃\\right)}{\\left(u₁ - v₂\\right) \\left(u₁ - v₃\\right) \\left(u₂ - v₁\\right) \\left(u₂ - v₃\\right) \\left(u₃ - v₁\\right) \\left(u₃ - v₂\\right)}$"
      ],
      "text/plain": [
       "-(u₁ - u₂)*(u₁ - u₃)*(u₂ - u₃)*(v₁ - v₂)*(v₁ - v₃)*(v₂ - v₃) \n",
       "-------------------------------------------------------------\n",
       " (u₁ - v₂)*(u₁ - v₃)*(u₂ - v₁)*(u₂ - v₃)*(u₃ - v₁)*(u₃ - v₂) "
      ]
     },
     "execution_count": 4,
     "metadata": {},
     "output_type": "execute_result"
    }
   ],
   "source": [
    "@time expr3 = det(B(3)) |> factor"
   ]
  },
  {
   "cell_type": "code",
   "execution_count": 5,
   "id": "60e87893-c3a8-4fb9-8d18-71952ad7a890",
   "metadata": {},
   "outputs": [
    {
     "data": {
      "text/latex": [
       "$1$"
      ],
      "text/plain": [
       "1"
      ]
     },
     "execution_count": 5,
     "metadata": {},
     "output_type": "execute_result"
    }
   ],
   "source": [
    "expr3/A(3) |> simplify"
   ]
  },
  {
   "cell_type": "code",
   "execution_count": null,
   "id": "1895d402-5bae-4b52-87ff-1435fd1808c0",
   "metadata": {},
   "outputs": [],
   "source": []
  }
 ],
 "metadata": {
  "kernelspec": {
   "display_name": "Julia 1.10.2",
   "language": "julia",
   "name": "julia-1.10"
  },
  "language_info": {
   "file_extension": ".jl",
   "mimetype": "application/julia",
   "name": "julia",
   "version": "1.10.2"
  }
 },
 "nbformat": 4,
 "nbformat_minor": 5
}
