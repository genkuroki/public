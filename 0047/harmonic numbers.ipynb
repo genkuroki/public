{
 "cells": [
  {
   "cell_type": "code",
   "execution_count": 1,
   "id": "9666321d-2bca-4005-a10c-1a582fb7b194",
   "metadata": {
    "tags": []
   },
   "outputs": [
    {
     "name": "stdout",
     "output_type": "stream",
     "text": [
      "  853.100 μs (0 allocations: 0 bytes)\n"
     ]
    },
    {
     "data": {
      "text/plain": [
       "14.392726722865772"
      ]
     },
     "execution_count": 1,
     "metadata": {},
     "output_type": "execute_result"
    }
   ],
   "source": [
    "using BenchmarkTools\n",
    "\n",
    "function harmonic_number(n)\n",
    "    s = float(zero(n))\n",
    "    for k in 0:n-1\n",
    "        s += 1/(n-k)\n",
    "    end\n",
    "    s\n",
    "end\n",
    "\n",
    "@btime harmonic_number(10^6)"
   ]
  },
  {
   "cell_type": "code",
   "execution_count": 2,
   "id": "a734bc79-c6cd-4b53-83a7-7ed5777245eb",
   "metadata": {},
   "outputs": [
    {
     "data": {
      "text/plain": [
       "14.39272672286572363138112749318858767664480001374431165341843304581295850751387"
      ]
     },
     "execution_count": 2,
     "metadata": {},
     "output_type": "execute_result"
    }
   ],
   "source": [
    "harmonic_number(big(10^6))"
   ]
  },
  {
   "cell_type": "code",
   "execution_count": 3,
   "id": "767c2dca-2665-447c-9ff8-74678e7eec06",
   "metadata": {},
   "outputs": [
    {
     "name": "stdout",
     "output_type": "stream",
     "text": [
      "MethodInstance for harmonic_number(::BigInt)\n",
      "  from harmonic_number(\u001b[90mn\u001b[39m)\u001b[90m @\u001b[39m \u001b[90mMain\u001b[39m \u001b[90m\u001b[4mIn[1]:3\u001b[24m\u001b[39m\n",
      "Arguments\n",
      "  #self#\u001b[36m::Core.Const(harmonic_number)\u001b[39m\n",
      "  n\u001b[36m::BigInt\u001b[39m\n",
      "Locals\n",
      "  @_3\u001b[33m\u001b[1m::Union{Nothing, Tuple{BigInt, BigInt}}\u001b[22m\u001b[39m\n",
      "  s\u001b[36m::BigFloat\u001b[39m\n",
      "  k\u001b[36m::BigInt\u001b[39m\n",
      "Body\u001b[36m::BigFloat\u001b[39m\n",
      "\u001b[90m1 ─\u001b[39m %1  = Main.zero(n)\u001b[36m::BigInt\u001b[39m\n",
      "\u001b[90m│  \u001b[39m       (s = Main.float(%1))\n",
      "\u001b[90m│  \u001b[39m %3  = (n - 1)\u001b[36m::BigInt\u001b[39m\n",
      "\u001b[90m│  \u001b[39m %4  = (0:%3)\u001b[36m::UnitRange{BigInt}\u001b[39m\n",
      "\u001b[90m│  \u001b[39m       (@_3 = Base.iterate(%4))\n",
      "\u001b[90m│  \u001b[39m %6  = (@_3 === nothing)\u001b[36m::Bool\u001b[39m\n",
      "\u001b[90m│  \u001b[39m %7  = Base.not_int(%6)\u001b[36m::Bool\u001b[39m\n",
      "\u001b[90m└──\u001b[39m       goto #4 if not %7\n",
      "\u001b[90m2 ┄\u001b[39m %9  = @_3\u001b[36m::Tuple{BigInt, BigInt}\u001b[39m\n",
      "\u001b[90m│  \u001b[39m       (k = Core.getfield(%9, 1))\n",
      "\u001b[90m│  \u001b[39m %11 = Core.getfield(%9, 2)\u001b[36m::BigInt\u001b[39m\n",
      "\u001b[90m│  \u001b[39m %12 = s\u001b[36m::BigFloat\u001b[39m\n",
      "\u001b[90m│  \u001b[39m %13 = (n - k)\u001b[36m::BigInt\u001b[39m\n",
      "\u001b[90m│  \u001b[39m %14 = (1 / %13)\u001b[36m::BigFloat\u001b[39m\n",
      "\u001b[90m│  \u001b[39m       (s = %12 + %14)\n",
      "\u001b[90m│  \u001b[39m       (@_3 = Base.iterate(%4, %11))\n",
      "\u001b[90m│  \u001b[39m %17 = (@_3 === nothing)\u001b[36m::Bool\u001b[39m\n",
      "\u001b[90m│  \u001b[39m %18 = Base.not_int(%17)\u001b[36m::Bool\u001b[39m\n",
      "\u001b[90m└──\u001b[39m       goto #4 if not %18\n",
      "\u001b[90m3 ─\u001b[39m       goto #2\n",
      "\u001b[90m4 ┄\u001b[39m       return s\n",
      "\n"
     ]
    }
   ],
   "source": [
    "@code_warntype harmonic_number(big(10^6))"
   ]
  },
  {
   "cell_type": "code",
   "execution_count": 4,
   "id": "1b7c9c63-3743-42bc-9eed-c1fe2d454d7e",
   "metadata": {},
   "outputs": [
    {
     "name": "stdout",
     "output_type": "stream",
     "text": [
      "  79.800 μs (0 allocations: 0 bytes)\n"
     ]
    },
    {
     "data": {
      "text/plain": [
       "14.392726722865724"
      ]
     },
     "execution_count": 4,
     "metadata": {},
     "output_type": "execute_result"
    }
   ],
   "source": [
    "using BenchmarkTools\n",
    "using LoopVectorization\n",
    "\n",
    "function harmonic_number_tturbo(n)\n",
    "    s = float(zero(n))\n",
    "    @tturbo for k in 0:n-1\n",
    "        s += 1/(n-k)\n",
    "    end\n",
    "    s\n",
    "end\n",
    "\n",
    "@btime harmonic_number_tturbo(10^6)"
   ]
  },
  {
   "cell_type": "code",
   "execution_count": 5,
   "id": "08739cd3-4b69-4bd2-85a5-59328261e4ca",
   "metadata": {},
   "outputs": [
    {
     "name": "stdout",
     "output_type": "stream",
     "text": [
      "  1.400 ns (0 allocations: 0 bytes)\n"
     ]
    },
    {
     "data": {
      "text/plain": [
       "14.392726722865724"
      ]
     },
     "execution_count": 5,
     "metadata": {},
     "output_type": "execute_result"
    }
   ],
   "source": [
    "using BenchmarkTools\n",
    "using SpecialFunctions\n",
    "\n",
    "harmonic_number_digamma(n) = digamma(n + 1) + MathConstants.γ\n",
    "\n",
    "@btime harmonic_number_digamma(10^6)"
   ]
  },
  {
   "cell_type": "code",
   "execution_count": 6,
   "id": "1ead09bd-2393-4a5a-8797-5a4f93a8c6ee",
   "metadata": {},
   "outputs": [
    {
     "name": "stdout",
     "output_type": "stream",
     "text": [
      "  8.011 ms (0 allocations: 0 bytes)\n"
     ]
    },
    {
     "data": {
      "text/plain": [
       "18.99789641385392"
      ]
     },
     "execution_count": 6,
     "metadata": {},
     "output_type": "execute_result"
    }
   ],
   "source": [
    "@btime harmonic_number_tturbo(10^8)"
   ]
  },
  {
   "cell_type": "code",
   "execution_count": 7,
   "id": "0bf72632-b8bb-4a0f-913b-df0b655fad42",
   "metadata": {},
   "outputs": [
    {
     "name": "stdout",
     "output_type": "stream",
     "text": [
      "  1.300 ns (0 allocations: 0 bytes)\n"
     ]
    },
    {
     "data": {
      "text/plain": [
       "18.997896413853898"
      ]
     },
     "execution_count": 7,
     "metadata": {},
     "output_type": "execute_result"
    }
   ],
   "source": [
    "@btime harmonic_number_digamma(10^8)"
   ]
  },
  {
   "cell_type": "code",
   "execution_count": null,
   "id": "6462d555-92b1-4a13-be41-344e17c6f3d1",
   "metadata": {},
   "outputs": [],
   "source": []
  }
 ],
 "metadata": {
  "jupytext": {
   "formats": "ipynb,jl:hydrogen"
  },
  "kernelspec": {
   "display_name": "Julia 1.10.1",
   "language": "julia",
   "name": "julia-1.10"
  },
  "language_info": {
   "file_extension": ".jl",
   "mimetype": "application/julia",
   "name": "julia",
   "version": "1.10.1"
  }
 },
 "nbformat": 4,
 "nbformat_minor": 5
}
