{
 "cells": [
  {
   "cell_type": "code",
   "execution_count": 5,
   "id": "ac86cca9-45fb-4bcf-8df2-2143495878fa",
   "metadata": {},
   "outputs": [
    {
     "data": {
      "text/plain": [
       "mdcode (generic function with 1 method)"
      ]
     },
     "execution_count": 5,
     "metadata": {},
     "output_type": "execute_result"
    }
   ],
   "source": [
    "using CodeTracking\n",
    "using Markdown\n",
    "function mdcode(s; lang=\"julia\")\n",
    "    \"\"\"\n",
    "    ```$lang\n",
    "    $s\n",
    "    ```\n",
    "    \"\"\" |> Markdown.parse\n",
    "end"
   ]
  },
  {
   "cell_type": "code",
   "execution_count": 2,
   "id": "df192ff6-d91b-45ae-a0ac-55654fff189a",
   "metadata": {},
   "outputs": [
    {
     "name": "stderr",
     "output_type": "stream",
     "text": [
      "\u001b[36m\u001b[1m[ \u001b[22m\u001b[39m\u001b[36m\u001b[1mInfo: \u001b[22m\u001b[39mtracking Base\n"
     ]
    },
    {
     "data": {
      "text/latex": [
       "\\begin{verbatim}\n",
       "function sum(r::AbstractRange{<:Real})\n",
       "    l = length(r)\n",
       "    # note that a little care is required to avoid overflow in l*(l-1)/2\n",
       "    return l * first(r) + (iseven(l) ? (step(r) * (l-1)) * (l>>1)\n",
       "                                     : (step(r) * l) * ((l-1)>>1))\n",
       "end\n",
       "\\end{verbatim}\n"
      ],
      "text/markdown": [
       "```julia\n",
       "function sum(r::AbstractRange{<:Real})\n",
       "    l = length(r)\n",
       "    # note that a little care is required to avoid overflow in l*(l-1)/2\n",
       "    return l * first(r) + (iseven(l) ? (step(r) * (l-1)) * (l>>1)\n",
       "                                     : (step(r) * l) * ((l-1)>>1))\n",
       "end\n",
       "```\n"
      ],
      "text/plain": [
       "\u001b[36m  function sum(r::AbstractRange{<:Real})\u001b[39m\n",
       "\u001b[36m      l = length(r)\u001b[39m\n",
       "\u001b[36m      # note that a little care is required to avoid overflow in l*(l-1)/2\u001b[39m\n",
       "\u001b[36m      return l * first(r) + (iseven(l) ? (step(r) * (l-1)) * (l>>1)\u001b[39m\n",
       "\u001b[36m                                       : (step(r) * l) * ((l-1)>>1))\u001b[39m\n",
       "\u001b[36m  end\u001b[39m"
      ]
     },
     "execution_count": 2,
     "metadata": {},
     "output_type": "execute_result"
    }
   ],
   "source": [
    "mdcode(@code_string sum(1:4))"
   ]
  },
  {
   "cell_type": "code",
   "execution_count": 3,
   "id": "6bc381f3-112f-45d8-a438-196853e9e110",
   "metadata": {},
   "outputs": [
    {
     "name": "stderr",
     "output_type": "stream",
     "text": [
      "\u001b[36m\u001b[1m[ \u001b[22m\u001b[39m\u001b[36m\u001b[1mInfo: \u001b[22m\u001b[39mtracking LinearAlgebra\n"
     ]
    },
    {
     "data": {
      "text/latex": [
       "\\begin{verbatim}\n",
       "function (*)(A::StridedMaybeAdjOrTransMat{<:BlasReal}, B::StridedMaybeAdjOrTransMat{<:BlasReal})\n",
       "    TS = promote_type(eltype(A), eltype(B))\n",
       "    mul!(similar(B, TS, (size(A, 1), size(B, 2))),\n",
       "         wrapperop(A)(convert(AbstractArray{TS}, _unwrap(A))),\n",
       "         wrapperop(B)(convert(AbstractArray{TS}, _unwrap(B))))\n",
       "end\n",
       "\\end{verbatim}\n"
      ],
      "text/markdown": [
       "```julia\n",
       "function (*)(A::StridedMaybeAdjOrTransMat{<:BlasReal}, B::StridedMaybeAdjOrTransMat{<:BlasReal})\n",
       "    TS = promote_type(eltype(A), eltype(B))\n",
       "    mul!(similar(B, TS, (size(A, 1), size(B, 2))),\n",
       "         wrapperop(A)(convert(AbstractArray{TS}, _unwrap(A))),\n",
       "         wrapperop(B)(convert(AbstractArray{TS}, _unwrap(B))))\n",
       "end\n",
       "```\n"
      ],
      "text/plain": [
       "\u001b[36m  function (*)(A::StridedMaybeAdjOrTransMat{<:BlasReal}, B::StridedMaybeAdjOrTransMat{<:BlasReal})\u001b[39m\n",
       "\u001b[36m      TS = promote_type(eltype(A), eltype(B))\u001b[39m\n",
       "\u001b[36m      mul!(similar(B, TS, (size(A, 1), size(B, 2))),\u001b[39m\n",
       "\u001b[36m           wrapperop(A)(convert(AbstractArray{TS}, _unwrap(A))),\u001b[39m\n",
       "\u001b[36m           wrapperop(B)(convert(AbstractArray{TS}, _unwrap(B))))\u001b[39m\n",
       "\u001b[36m  end\u001b[39m"
      ]
     },
     "execution_count": 3,
     "metadata": {},
     "output_type": "execute_result"
    }
   ],
   "source": [
    "A = rand(2,2)\n",
    "mdcode(@code_string A * A)"
   ]
  },
  {
   "cell_type": "code",
   "execution_count": null,
   "id": "3f0eb79b-b3ae-475d-994b-eb3fc8405f55",
   "metadata": {},
   "outputs": [],
   "source": []
  }
 ],
 "metadata": {
  "jupytext": {
   "formats": "ipynb,jl:hydrogen"
  },
  "kernelspec": {
   "display_name": "Julia 1.10.1",
   "language": "julia",
   "name": "julia-1.10"
  },
  "language_info": {
   "file_extension": ".jl",
   "mimetype": "application/julia",
   "name": "julia",
   "version": "1.10.1"
  }
 },
 "nbformat": 4,
 "nbformat_minor": 5
}
