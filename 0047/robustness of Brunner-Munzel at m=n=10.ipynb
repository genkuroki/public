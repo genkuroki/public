{
 "cells": [
  {
   "cell_type": "code",
   "execution_count": null,
   "id": "4ac2aa48-3769-413e-bd19-11f49a6a77e4",
   "metadata": {},
   "outputs": [],
   "source": [
    "using Distributions\n",
    "using HypothesisTests\n",
    "using QuadGK\n",
    "using Roots\n",
    "using Random\n",
    "using StatsBase\n",
    "using StatsPlots\n",
    "default(fmt=:png)\n",
    "\n",
    "function winning_rate(distx::UnivariateDistribution, disty::ContinuousUnivariateDistribution)\n",
    "    f(y) = cdf(distx, y) * pdf(disty, y)\n",
    "    quadgk(f, extrema(disty)...)[1]\n",
    "end\n",
    "\n",
    "function fair_shift(distx::UnivariateDistribution, disty::ContinuousUnivariateDistribution; p=1/2)\n",
    "    f(s) = winning_rate(distx, disty - s) - p\n",
    "    find_zero(f, 0.0)\n",
    "end\n",
    "\n",
    "function brunner_munzel_test(X, Y; p=1/2)\n",
    "    m, n = length(X), length(Y)\n",
    "    phat = mean((x < y) + (x == y)/2 for x in X, y in Y)\n",
    "    Hbarx = n*(1 - phat)\n",
    "    Hbary = m*phat\n",
    "    sx2 = 1/n^2 * 1/(m-1) * sum(x -> (sum((y < x) + (y == x)/2 for y in Y) - Hbarx)^2, X)\n",
    "    sy2 = 1/m^2 * 1/(n-1) * sum(y -> (sum((x < y) + (x == y)/2 for x in X) - Hbary)^2, Y)\n",
    "    sehat = √(sx2/m + sy2/n)\n",
    "    tvalue = (phat - p)/sehat\n",
    "    df = (sx2/m + sy2/n)^2 / ((sx2/m)^2/(m-1) + (sy2/n)^2/(n-1))\n",
    "    pvalue = sehat > 0 ? 2ccdf(TDist(df), abs(tvalue)) : phat ≈ p ? 1.0 : 0.0\n",
    "    (; phat, sehat, tvalue, df, pvalue, p)\n",
    "end\n",
    "\n",
    "pvalue_brunner_munzel(X, Y; p=1/2) =\n",
    "    brunner_munzel_test(X, Y; p=1/2).pvalue\n",
    "\n",
    "function sim(; distx=Normal(0, 1), disty=Normal(0, 4), m=10, n=10, L=10^5)\n",
    "    Δμ = mean(disty) - mean(distx)\n",
    "    sh = fair_shift(distx, disty)\n",
    "    pval_welch = zeros(L)\n",
    "    pval_wmw = zeros(L)\n",
    "    pval_bm = zeros(L)\n",
    "    nth = Threads.nthreads()\n",
    "    Xtmp = [zeros(m) for _ in 1:nth]\n",
    "    Ytmp = [zeros(n) for _ in 1:nth]\n",
    "    Threads.@threads for i in 1:L\n",
    "        tid = Threads.threadid()\n",
    "        X = rand!(distx, Xtmp[tid])\n",
    "        Y = rand!(disty, Ytmp[tid])\n",
    "        Y .-= Δμ\n",
    "        pval_welch[i] = pvalue(UnequalVarianceTTest(X, Y))\n",
    "        Y .+= Δμ - sh\n",
    "        pval_wmw[i] = pvalue(MannWhitneyUTest(X, Y))\n",
    "        pval_bm[i] = pvalue_brunner_munzel(X, Y)\n",
    "    end\n",
    "    _ecdf_pval_welch = ecdf(pval_welch)\n",
    "    ecdf_pval_welch(x) = _ecdf_pval_welch(x)\n",
    "    _ecdf_pval_wmw = ecdf(pval_wmw)\n",
    "    ecdf_pval_wmw(x) = _ecdf_pval_wmw(x)\n",
    "    _ecdf_pval_bm = ecdf(pval_bm)\n",
    "    ecdf_pval_bm(x) = _ecdf_pval_bm(x)\n",
    "    ecdf_pval_welch, ecdf_pval_wmw, ecdf_pval_bm\n",
    "end\n",
    "\n",
    "function plot_sim(; distx=Normal(0, 1), disty=Normal(0, 4), m=10, n=10, L=10^5, kwargs...)\n",
    "    @show distx disty m n\n",
    "    @show Δμ = mean(disty) - mean(distx)\n",
    "    @show sh = fair_shift(distx, disty)\n",
    "    \n",
    "    μ_x = mean(distx)\n",
    "    stdmax = max(std(distx), std(disty))\n",
    "    P1 = plot(distx, μ_x-4stdmax, μ_x+4stdmax; label=\"distx, m=$m\")\n",
    "    plot!(disty-Δμ, μ_x-4stdmax, μ_x+4stdmax; label=\"disty-Δμ, n=$n\", ls=:dash)\n",
    "    plot!(; kwargs...)\n",
    "    P2 = plot(distx, μ_x-4stdmax, μ_x+4stdmax; label=\"distx, m=$m\")\n",
    "    plot!(disty-sh, μ_x-4stdmax, μ_x+4stdmax; label=\"disty-sh, n=$n\", ls=:dash)\n",
    "    plot!(; kwargs...)\n",
    "\n",
    "    ecdf_pval_welch, ecdf_pval_wmw, ecdf_pval_bm = sim(; distx, disty, m, n)\n",
    "    Q = plot(ecdf_pval_welch, 0, 0.1; label=\"Welch t\")\n",
    "    plot!(ecdf_pval_wmw, 0, 0.1; label=\"Wilcoxon-Mann-Whitney\", ls=:dash)\n",
    "    plot!(ecdf_pval_bm, 0, 0.1; label=\"Brunner-Munzel\", ls=:dash)\n",
    "    plot!(identity; label=\"\", ls=:dot, c=:gray)\n",
    "    plot!(xtick=0:0.01:1, ytick=0:0.01:1)\n",
    "    plot!(xguide=\"α\", yguide=\"probability of P-value ≤ α\")\n",
    "\n",
    "    plot(P1, P2, Q; size=(800, 400), layout=@layout [[a; b] c])\n",
    "end"
   ]
  },
  {
   "cell_type": "code",
   "execution_count": null,
   "id": "996157f8-e1fb-4552-993e-e43534e52f7a",
   "metadata": {},
   "outputs": [],
   "source": [
    "plot_sim(; distx=Normal(0, 1), disty=Normal(0, 4), m=10, n=10)"
   ]
  },
  {
   "cell_type": "code",
   "execution_count": null,
   "id": "a0fd305b-eb8e-423f-abbe-321720e775d8",
   "metadata": {},
   "outputs": [],
   "source": [
    "plot_sim(; distx=Gamma(8, 1), disty=Gamma(8, 4), m=10, n=10)"
   ]
  },
  {
   "cell_type": "code",
   "execution_count": null,
   "id": "8a35363c-29ed-4de8-84a1-5b453435b9e4",
   "metadata": {},
   "outputs": [],
   "source": [
    "plot_sim(; distx=Gamma(2, 1), disty=Gamma(2, 4), m=10, n=10)"
   ]
  },
  {
   "cell_type": "code",
   "execution_count": null,
   "id": "47b59862-4682-43d9-ae01-0dfef6081d06",
   "metadata": {},
   "outputs": [],
   "source": [
    "plot_sim(; distx=Gamma(1, 1), disty=Gamma(16, 1), m=10, n=10)"
   ]
  },
  {
   "cell_type": "code",
   "execution_count": null,
   "id": "1667bd87-4a72-4962-8321-fd6381525b87",
   "metadata": {},
   "outputs": [],
   "source": [
    "plot_sim(; distx=Gamma(1, 4), disty=Gamma(16, 1/4), m=10, n=10)"
   ]
  },
  {
   "cell_type": "code",
   "execution_count": null,
   "id": "1275dbce-d7d0-4be7-8030-1500a227dacf",
   "metadata": {},
   "outputs": [],
   "source": [
    "plot_sim(; distx=Normal(0, 1), disty=Normal(0, 4), m=40, n=40)"
   ]
  },
  {
   "cell_type": "code",
   "execution_count": null,
   "id": "d4bf264d-ca47-45be-b8c5-08087341257c",
   "metadata": {},
   "outputs": [],
   "source": [
    "plot_sim(; distx=Gamma(8, 1), disty=Gamma(8, 4), m=40, n=40)"
   ]
  },
  {
   "cell_type": "code",
   "execution_count": null,
   "id": "4daf2408-7617-4a6f-bd49-ff25d7108090",
   "metadata": {},
   "outputs": [],
   "source": [
    "plot_sim(; distx=Gamma(2, 1), disty=Gamma(2, 4), m=40, n=40)"
   ]
  },
  {
   "cell_type": "code",
   "execution_count": null,
   "id": "944e71a2-6767-439b-80f2-673061899490",
   "metadata": {},
   "outputs": [],
   "source": [
    "plot_sim(; distx=Gamma(1, 1), disty=Gamma(16, 1), m=40, n=40)"
   ]
  },
  {
   "cell_type": "code",
   "execution_count": null,
   "id": "5bb49eae-ceb6-4bdb-b514-1bd8d35ba774",
   "metadata": {},
   "outputs": [],
   "source": [
    "plot_sim(; distx=Gamma(1, 4), disty=Gamma(16, 1/4), m=40, n=40)"
   ]
  },
  {
   "cell_type": "code",
   "execution_count": null,
   "id": "77fe1e61-d2c1-4780-9597-8167b26e3ce1",
   "metadata": {},
   "outputs": [],
   "source": [
    "plot_sim(; distx=Gamma(1, 4), disty=Gamma(16, 1/4), m=160, n=160)"
   ]
  },
  {
   "cell_type": "code",
   "execution_count": null,
   "id": "340d26e3-dea1-49d1-83d0-4f123ffad3c7",
   "metadata": {},
   "outputs": [],
   "source": [
    "plot_sim(; distx=Gamma(1, 4), disty=Gamma(16, 1/4), m=30, n=30)"
   ]
  },
  {
   "cell_type": "code",
   "execution_count": null,
   "id": "68eafaf0-9825-4f38-87fa-fb30f9384fb9",
   "metadata": {},
   "outputs": [],
   "source": [
    "plot_sim(; distx=InverseGamma(3, 8), disty=Normal(4, 1), m=30, n=30, xlim=(-1, 21))"
   ]
  },
  {
   "cell_type": "code",
   "execution_count": null,
   "id": "1ba07af4-fad9-45ef-af89-39569aa4325c",
   "metadata": {},
   "outputs": [],
   "source": [
    "plot_sim(; distx=InverseGamma(3, 8), disty=InverseGamma(3, 2), m=30, n=30, xlim=(-1, 21))"
   ]
  },
  {
   "cell_type": "code",
   "execution_count": null,
   "id": "7c63e03e-1b1f-40ab-a355-341607ea39dd",
   "metadata": {},
   "outputs": [],
   "source": []
  }
 ],
 "metadata": {
  "jupytext": {
   "encoding": "# -*- coding: utf-8 -*-",
   "formats": "ipynb,jl:hydrogen"
  },
  "kernelspec": {
   "display_name": "Julia 1.10.0",
   "language": "julia",
   "name": "julia-1.10"
  },
  "language_info": {
   "file_extension": ".jl",
   "mimetype": "application/julia",
   "name": "julia",
   "version": "1.10.0"
  }
 },
 "nbformat": 4,
 "nbformat_minor": 5
}
