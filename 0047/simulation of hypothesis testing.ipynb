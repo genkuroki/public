{
 "cells": [
  {
   "cell_type": "code",
   "execution_count": 1,
   "id": "aa4dff4f-0ba7-49d0-8805-75e159f628e0",
   "metadata": {},
   "outputs": [
    {
     "data": {
      "text/plain": [
       "sim"
      ]
     },
     "execution_count": 1,
     "metadata": {},
     "output_type": "execute_result"
    }
   ],
   "source": [
    "using Distributions\n",
    "\n",
    "function ci_wald(n, k; α=0.05)\n",
    "    c = cquantile(Normal(), α/2)\n",
    "    p̂ = k/n\n",
    "    sehat = √(p̂*(1-p̂)/n)\n",
    "    p̂ - c*sehat, p̂ + c*sehat\n",
    "end\n",
    "\n",
    "\"\"\"\n",
    "kは確率1-qで二項分布Binomial(n, p0)に従う乱数であり,\n",
    "確率qで二項分布Binomial(n, p1)に従う乱数であるとする.\n",
    "n, kからWaldの100(1-α)%信頼区間[L, U]を計算する.\n",
    "以上をniters回実行する.\n",
    "\n",
    "条件A, Bの定義:\n",
    "\n",
    "* A = (L ≤ p0 ≤ U)\n",
    "* B = (L ≤ p1 ≤ U)\n",
    "\n",
    "kが二項分布Binomial(n, p0)に従う乱数の場合について\n",
    "\n",
    "* a = AかつBとなった回数\n",
    "* b = Aかつnot Bとなった回数\n",
    "* c = not AかつBとなった回数\n",
    "* d = not Aかつnot Bとなった回数\n",
    "\n",
    "kが二項分布Binomial(n, p1)に従う乱数の場合について\n",
    "\n",
    "* e = AかつBとなった回数\n",
    "* f = Aかつnot Bとなった回数\n",
    "* g = not AかつBとなった回数\n",
    "* h = not Aかつnot Bとなった回数\n",
    "\n",
    "このとき\n",
    "\n",
    "* g/(c+d+g+h)はp0が信頼区間に含まれない場合にkの生成に使われたp=p0, p1が信頼区間に含まれる条件付き確率の近似値になる.\n",
    "* (a+b+e)/(a+b+e+f)はp0が信頼区間に含まれる場合にkの生成に使われたp=p0, p1が信頼区間に含まれる条件付き確率の近似値になる.\n",
    "\"\"\"\n",
    "function sim(; p0=0.5, p1=0.6, n=200, q=1e-4, α=0.05, niters=10^8)\n",
    "    a, b, c, d, e, f, g, h = 0, 0, 0, 0, 0, 0, 0, 0\n",
    "    for i in 1:niters\n",
    "        if rand() > q\n",
    "            k = rand(Binomial(n, p0))\n",
    "            L, U = ci_wald(n, k; α)\n",
    "            A = L ≤ p0 ≤ U\n",
    "            B = L ≤ p1 ≤ U\n",
    "            a += A & B\n",
    "            b += A & !B\n",
    "            c += !A & B\n",
    "            d += !A & !B\n",
    "        else\n",
    "            k = rand(Binomial(n, p1))\n",
    "            L, U = ci_wald(n, k; α)\n",
    "            A = L ≤ p0 ≤ U\n",
    "            B = L ≤ p1 ≤ U\n",
    "            e += A & B\n",
    "            f += A & !B\n",
    "            g += !A & B\n",
    "            h += !A & !B\n",
    "        end\n",
    "    end\n",
    "    a, b, c, d, e, f, g, h\n",
    "end"
   ]
  },
  {
   "cell_type": "code",
   "execution_count": 2,
   "id": "d36c0986-306b-4156-b175-d5df1bbb65f2",
   "metadata": {},
   "outputs": [
    {
     "data": {
      "text/latex": [
       "kは確率1-qで二項分布Binomial(n, p0)に従う乱数であり, 確率qで二項分布Binomial(n, p1)に従う乱数であるとする. n, kからWaldの100(1-α)\\%信頼区間[L, U]を計算する. 以上をniters回実行する.\n",
       "\n",
       "条件A, Bの定義:\n",
       "\n",
       "\\begin{itemize}\n",
       "\\item A = (L ≤ p0 ≤ U)\n",
       "\n",
       "\n",
       "\\item B = (L ≤ p1 ≤ U)\n",
       "\n",
       "\\end{itemize}\n",
       "kが二項分布Binomial(n, p0)に従う乱数の場合について\n",
       "\n",
       "\\begin{itemize}\n",
       "\\item a = AかつBとなった回数\n",
       "\n",
       "\n",
       "\\item b = Aかつnot Bとなった回数\n",
       "\n",
       "\n",
       "\\item c = not AかつBとなった回数\n",
       "\n",
       "\n",
       "\\item d = not Aかつnot Bとなった回数\n",
       "\n",
       "\\end{itemize}\n",
       "kが二項分布Binomial(n, p1)に従う乱数の場合について\n",
       "\n",
       "\\begin{itemize}\n",
       "\\item e = AかつBとなった回数\n",
       "\n",
       "\n",
       "\\item f = Aかつnot Bとなった回数\n",
       "\n",
       "\n",
       "\\item g = not AかつBとなった回数\n",
       "\n",
       "\n",
       "\\item h = not Aかつnot Bとなった回数\n",
       "\n",
       "\\end{itemize}\n",
       "このとき\n",
       "\n",
       "\\begin{itemize}\n",
       "\\item g/(c+d+g+h)はp0が信頼区間に含まれない場合にkの生成に使われたp=p0, p1が信頼区間に含まれる条件付き確率の近似値になる.\n",
       "\n",
       "\n",
       "\\item (a+b+e)/(a+b+e+f)はp0が信頼区間に含まれる場合にkの生成に使われたp=p0, p1が信頼区間に含まれる条件付き確率の近似値になる.\n",
       "\n",
       "\\end{itemize}\n"
      ],
      "text/markdown": [
       "kは確率1-qで二項分布Binomial(n, p0)に従う乱数であり, 確率qで二項分布Binomial(n, p1)に従う乱数であるとする. n, kからWaldの100(1-α)%信頼区間[L, U]を計算する. 以上をniters回実行する.\n",
       "\n",
       "条件A, Bの定義:\n",
       "\n",
       "  * A = (L ≤ p0 ≤ U)\n",
       "  * B = (L ≤ p1 ≤ U)\n",
       "\n",
       "kが二項分布Binomial(n, p0)に従う乱数の場合について\n",
       "\n",
       "  * a = AかつBとなった回数\n",
       "  * b = Aかつnot Bとなった回数\n",
       "  * c = not AかつBとなった回数\n",
       "  * d = not Aかつnot Bとなった回数\n",
       "\n",
       "kが二項分布Binomial(n, p1)に従う乱数の場合について\n",
       "\n",
       "  * e = AかつBとなった回数\n",
       "  * f = Aかつnot Bとなった回数\n",
       "  * g = not AかつBとなった回数\n",
       "  * h = not Aかつnot Bとなった回数\n",
       "\n",
       "このとき\n",
       "\n",
       "  * g/(c+d+g+h)はp0が信頼区間に含まれない場合にkの生成に使われたp=p0, p1が信頼区間に含まれる条件付き確率の近似値になる.\n",
       "  * (a+b+e)/(a+b+e+f)はp0が信頼区間に含まれる場合にkの生成に使われたp=p0, p1が信頼区間に含まれる条件付き確率の近似値になる.\n"
      ],
      "text/plain": [
       "  kは確率1-qで二項分布Binomial(n, p0)に従う乱数であり,\n",
       "  確率qで二項分布Binomial(n, p1)に従う乱数であるとする. n,\n",
       "  kからWaldの100(1-α)%信頼区間[L, U]を計算する. 以上をniters回実行する.\n",
       "\n",
       "  条件A, Bの定義:\n",
       "\n",
       "    •  A = (L ≤ p0 ≤ U)\n",
       "\n",
       "    •  B = (L ≤ p1 ≤ U)\n",
       "\n",
       "  kが二項分布Binomial(n, p0)に従う乱数の場合について\n",
       "\n",
       "    •  a = AかつBとなった回数\n",
       "\n",
       "    •  b = Aかつnot Bとなった回数\n",
       "\n",
       "    •  c = not AかつBとなった回数\n",
       "\n",
       "    •  d = not Aかつnot Bとなった回数\n",
       "\n",
       "  kが二項分布Binomial(n, p1)に従う乱数の場合について\n",
       "\n",
       "    •  e = AかつBとなった回数\n",
       "\n",
       "    •  f = Aかつnot Bとなった回数\n",
       "\n",
       "    •  g = not AかつBとなった回数\n",
       "\n",
       "    •  h = not Aかつnot Bとなった回数\n",
       "\n",
       "  このとき\n",
       "\n",
       "    •  g/(c+d+g+h)はp0が信頼区間に含まれない場合にkの生成に使われたp=p0,\n",
       "       p1が信頼区間に含まれる条件付き確率の近似値になる.\n",
       "\n",
       "    •  (a+b+e)/(a+b+e+f)はp0が信頼区間に含まれる場合にkの生成に使われたp=p0,\n",
       "       p1が信頼区間に含まれる条件付き確率の近似値になる."
      ]
     },
     "execution_count": 2,
     "metadata": {},
     "output_type": "execute_result"
    }
   ],
   "source": [
    "@doc sim"
   ]
  },
  {
   "cell_type": "code",
   "execution_count": 3,
   "id": "7950a3e0-2be0-45bc-9af2-486ec19a05ed",
   "metadata": {},
   "outputs": [
    {
     "name": "stdout",
     "output_type": "stream",
     "text": [
      "(a, b, c, d, e, f, g, h) = sim(p0 = 0.5, p1 = 0.6, n = 200, q = 0.0001, α = 0.05) = (15100070, 79292053, 2797810, 2800129, 1471, 260, 7963, 244)\n",
      "g / (c + d + g + h) = 0.001420405390797885\n",
      "(a + b + e) / (a + b + e + f) = 0.999997245583383\n",
      "(a + b) / (a + b + c + d) = 0.9440150462152929\n",
      "(g + h) / (e + f + g + h) = 0.8258200845240491\n"
     ]
    }
   ],
   "source": [
    "@show a, b, c, d, e, f, g, h = sim(p0=0.5, p1=0.6, n=200, q=1e-4, α=0.05)\n",
    "@show g/(c+d+g+h) (a+b+e)/(a+b+e+f) (a+b)/(a+b+c+d) (g+h)/(e+f+g+h);"
   ]
  },
  {
   "cell_type": "code",
   "execution_count": 4,
   "id": "6b952768-c6e3-4d4a-ac60-9002fbafbe45",
   "metadata": {},
   "outputs": [
    {
     "name": "stdout",
     "output_type": "stream",
     "text": [
      "(a, b, c, d, e, f, g, h) = sim(p0 = 0.5, p1 = 0.6, n = 200, q = 0.001, α = 0.05) = (15089915, 79214073, 2797630, 2798744, 14527, 2703, 79973, 2435)\n",
      "g / (c + d + g + h) = 0.014082773383447366\n",
      "(a + b + e) / (a + b + e + f) = 0.9999713426092526\n",
      "(a + b) / (a + b + c + d) = 0.9439804432340295\n",
      "(g + h) / (e + f + g + h) = 0.8270740079086293\n"
     ]
    }
   ],
   "source": [
    "@show a, b, c, d, e, f, g, h = sim(p0=0.5, p1=0.6, n=200, q=0.001, α=0.05)\n",
    "@show g/(c+d+g+h) (a+b+e)/(a+b+e+f) (a+b)/(a+b+c+d) (g+h)/(e+f+g+h);"
   ]
  },
  {
   "cell_type": "code",
   "execution_count": 5,
   "id": "7c9c659e-2679-4914-8039-23c5e984c520",
   "metadata": {},
   "outputs": [
    {
     "name": "stdout",
     "output_type": "stream",
     "text": [
      "(a, b, c, d, e, f, g, h) = sim(p0 = 0.5, p1 = 0.6, n = 200, q = 0.01, α = 0.05) = (14950640, 78505827, 2770631, 2771777, 147817, 26131, 802360, 24817)\n",
      "g / (c + d + g + h) = 0.125967390340187\n",
      "(a + b + e) / (a + b + e + f) = 0.9997209133378294\n",
      "(a + b) / (a + b + c + d) = 0.9440154446199515\n",
      "(g + h) / (e + f + g + h) = 0.8262474715944562\n"
     ]
    }
   ],
   "source": [
    "@show a, b, c, d, e, f, g, h = sim(p0=0.5, p1=0.6, n=200, q=0.01, α=0.05)\n",
    "@show g/(c+d+g+h) (a+b+e)/(a+b+e+f) (a+b)/(a+b+c+d) (g+h)/(e+f+g+h);"
   ]
  },
  {
   "cell_type": "code",
   "execution_count": 6,
   "id": "01721834-507b-4269-ad8b-2bc33dde77ed",
   "metadata": {},
   "outputs": [
    {
     "name": "stdout",
     "output_type": "stream",
     "text": [
      "(a, b, c, d, e, f, g, h) = sim(p0 = 0.5, p1 = 0.6, n = 300, q = 0.01, α = 0.01) = (18668730, 79412487, 459706, 459406, 184021, 4294, 803983, 7373)\n",
      "g / (c + d + g + h) = 0.46460437292108264\n",
      "(a + b + e) / (a + b + e + f) = 0.9999563038521441\n",
      "(a + b) / (a + b + c + d) = 0.9907160712566925\n",
      "(g + h) / (e + f + g + h) = 0.8116230239748877\n"
     ]
    }
   ],
   "source": [
    "@show a, b, c, d, e, f, g, h = sim(p0=0.5, p1=0.6, n=300, q=0.01, α=0.01)\n",
    "@show g/(c+d+g+h) (a+b+e)/(a+b+e+f) (a+b)/(a+b+c+d) (g+h)/(e+f+g+h);"
   ]
  },
  {
   "cell_type": "code",
   "execution_count": 7,
   "id": "a5d20bf9-00fe-4abe-bc6b-10b7355fd93d",
   "metadata": {},
   "outputs": [
    {
     "name": "stdout",
     "output_type": "stream",
     "text": [
      "(a, b, c, d, e, f, g, h) = sim(p0 = 0.5, p1 = 0.6, n = 420, q = 0.01, α = 0.001) = (20089035, 78808304, 52195, 51952, 197670, 449, 799644, 751)\n",
      "g / (c + d + g + h) = 0.8840319189158712\n",
      "(a + b + e) / (a + b + e + f) = 0.9999954690153408\n",
      "(a + b) / (a + b + c + d) = 0.9989480258912478\n",
      "(g + h) / (e + f + g + h) = 0.8015861570293457\n"
     ]
    }
   ],
   "source": [
    "@show a, b, c, d, e, f, g, h = sim(p0=0.5, p1=0.6, n=420, q=0.01, α=0.001)\n",
    "@show g/(c+d+g+h) (a+b+e)/(a+b+e+f) (a+b)/(a+b+c+d) (g+h)/(e+f+g+h);"
   ]
  },
  {
   "cell_type": "code",
   "execution_count": 8,
   "id": "3da32125-5441-411b-b8cc-48f00219bb8c",
   "metadata": {},
   "outputs": [
    {
     "name": "stdout",
     "output_type": "stream",
     "text": [
      "(a, b, c, d, e, f, g, h) = sim(p0 = 0.5, p1 = 0.6, n = 480, q = 0.01, α = 0.0004) = (19078195, 79880606, 21260, 21217, 187347, 187, 810896, 292)\n",
      "g / (c + d + g + h) = 0.9498995507605442\n",
      "(a + b + e) / (a + b + e + f) = 0.999998113899016\n",
      "(a + b) / (a + b + c + d) = 0.9995709449326503\n",
      "(g + h) / (e + f + g + h) = 0.8122260248597708\n"
     ]
    }
   ],
   "source": [
    "@show a, b, c, d, e, f, g, h = sim(p0=0.5, p1=0.6, n=480, q=0.01, α=0.0004)\n",
    "@show g/(c+d+g+h) (a+b+e)/(a+b+e+f) (a+b)/(a+b+c+d) (g+h)/(e+f+g+h);"
   ]
  },
  {
   "cell_type": "code",
   "execution_count": 9,
   "id": "794f16b5-401a-4c35-9a75-f58064430bd5",
   "metadata": {},
   "outputs": [
    {
     "name": "stdout",
     "output_type": "stream",
     "text": [
      "(a, b, c, d, e, f, g, h) = sim(p0 = 0.5, p1 = 0.6, n = 200, q = 0.5, α = 0.05) = (7552247, 39653695, 1400463, 1399630, 7380286, 1315053, 40064927, 1233699)\n",
      "g / (c + d + g + h) = 0.9085281366109523\n",
      "(a + b + e) / (a + b + e + f) = 0.9764754406969672\n",
      "(a + b) / (a + b + c + d) = 0.9440048986087379\n",
      "(g + h) / (e + f + g + h) = 0.826072226917789\n"
     ]
    }
   ],
   "source": [
    "@show a, b, c, d, e, f, g, h = sim(p0=0.5, p1=0.6, n=200, q=0.5, α=0.05)\n",
    "@show g/(c+d+g+h) (a+b+e)/(a+b+e+f) (a+b)/(a+b+c+d) (g+h)/(e+f+g+h);"
   ]
  },
  {
   "cell_type": "code",
   "execution_count": 10,
   "id": "56189b8a-e577-47ba-b96b-084f32bbf04f",
   "metadata": {},
   "outputs": [
    {
     "name": "stdout",
     "output_type": "stream",
     "text": [
      "(a, b, c, d, e, f, g, h) = sim(p0 = 0.5, p1 = 0.6, n = 200, q = 0.8, α = 0.05) = (3021135, 15860825, 559491, 560631, 11806843, 2106724, 64106523, 1977828)\n",
      "g / (c + d + g + h) = 0.9539026219281564\n",
      "(a + b + e) / (a + b + e + f) = 0.9357618494741676\n",
      "(a + b) / (a + b + c + d) = 0.9439997296281457\n",
      "(g + h) / (e + f + g + h) = 0.8260758861249364\n"
     ]
    }
   ],
   "source": [
    "@show a, b, c, d, e, f, g, h = sim(p0=0.5, p1=0.6, n=200, q=0.8, α=0.05)\n",
    "@show g/(c+d+g+h) (a+b+e)/(a+b+e+f) (a+b)/(a+b+c+d) (g+h)/(e+f+g+h);"
   ]
  },
  {
   "cell_type": "code",
   "execution_count": null,
   "id": "719f8d39-353f-49bf-b3e5-b6c970e9db5b",
   "metadata": {},
   "outputs": [],
   "source": []
  }
 ],
 "metadata": {
  "jupytext": {
   "formats": "ipynb,jl:hydrogen"
  },
  "kernelspec": {
   "display_name": "Julia 1.10.0",
   "language": "julia",
   "name": "julia-1.10"
  },
  "language_info": {
   "file_extension": ".jl",
   "mimetype": "application/julia",
   "name": "julia",
   "version": "1.10.0"
  }
 },
 "nbformat": 4,
 "nbformat_minor": 5
}
