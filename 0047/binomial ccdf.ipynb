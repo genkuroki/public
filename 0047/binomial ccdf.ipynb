{
 "cells": [
  {
   "cell_type": "code",
   "execution_count": 1,
   "id": "c8bbf9f0-d0d1-473f-977a-ae1e82cb112f",
   "metadata": {},
   "outputs": [
    {
     "name": "stdout",
     "output_type": "stream",
     "text": [
      "pvalue_one_sided_naive(21, 30, 0.5) = 0.02138697262853384\n",
      "pvalue_one_sided_ccdf(21, 30, 0.5) = 0.02138697262853383\n"
     ]
    }
   ],
   "source": [
    "using BenchmarkTools\n",
    "using Distributions\n",
    "\n",
    "function pvalue_one_sided_naive(k, n, p=1/2)\n",
    "    pval = 0.0\n",
    "    for i in k:n\n",
    "        pval += binomial(n, i) * p^i * (1-p)^(n-i)\n",
    "    end\n",
    "    pval\n",
    "end\n",
    "\n",
    "pvalue_one_sided_ccdf(k, n, p=1/2) = ccdf(Binomial(n, p), k-1)\n",
    "\n",
    "@show pvalue_one_sided_naive(21, 30, 0.5)\n",
    "@show pvalue_one_sided_ccdf(21, 30, 0.5);"
   ]
  },
  {
   "cell_type": "code",
   "execution_count": 2,
   "id": "35df952d-e805-40bd-84b5-46a8faf66634",
   "metadata": {},
   "outputs": [
    {
     "name": "stdout",
     "output_type": "stream",
     "text": [
      "  563.784 ns (0 allocations: 0 bytes)\n",
      "  152.848 ns (0 allocations: 0 bytes)\n"
     ]
    }
   ],
   "source": [
    "@btime pvalue_one_sided_naive(21, 30, 0.5)\n",
    "@btime pvalue_one_sided_ccdf(21, 30, 0.5);"
   ]
  },
  {
   "cell_type": "code",
   "execution_count": 3,
   "id": "e7ee56c9-af83-4558-9806-792b54160e50",
   "metadata": {},
   "outputs": [
    {
     "name": "stdout",
     "output_type": "stream",
     "text": [
      "  1.290 μs (0 allocations: 0 bytes)\n",
      "  159.949 ns (0 allocations: 0 bytes)\n"
     ]
    }
   ],
   "source": [
    "@btime pvalue_one_sided_naive(16, 30, 0.5)\n",
    "@btime pvalue_one_sided_ccdf(16, 30, 0.5);"
   ]
  },
  {
   "cell_type": "code",
   "execution_count": 4,
   "id": "a305867d-e126-4911-98f2-9b0930de4392",
   "metadata": {},
   "outputs": [
    {
     "ename": "LoadError",
     "evalue": "OverflowError: binomial(100, 60) overflows",
     "output_type": "error",
     "traceback": [
      "OverflowError: binomial(100, 60) overflows",
      "",
      "Stacktrace:",
      " [1] binomial(n::Int64, k::Int64)",
      "   @ Base .\\intfuncs.jl:1114",
      " [2] pvalue_one_sided_naive(k::Int64, n::Int64, p::Float64)",
      "   @ Main .\\In[1]:7",
      " [3] top-level scope",
      "   @ In[4]:1"
     ]
    }
   ],
   "source": [
    "pvalue_one_sided_naive(60, 100, 0.5)"
   ]
  },
  {
   "cell_type": "code",
   "execution_count": 5,
   "id": "aeab78b5-184d-42dc-a34f-d1e6bc991214",
   "metadata": {},
   "outputs": [
    {
     "name": "stdout",
     "output_type": "stream",
     "text": [
      "pvalue_one_sided_sf1(60, 100, 0.5) = 0.02844396682049029\n",
      "pvalue_one_sided_ccdf(60, 100, 0.5) = 0.02844396682049039\n"
     ]
    }
   ],
   "source": [
    "using SpecialFunctions\n",
    "\n",
    "function pvalue_one_sided_sf1(k, n, p=1/2)\n",
    "    pval = 0.0\n",
    "    for i in k:n\n",
    "        pval += exp(logabsbinomial(n, i)[1]) * p^i * (1-p)^(n-i)\n",
    "    end\n",
    "    pval\n",
    "end\n",
    "\n",
    "@show pvalue_one_sided_sf1(60, 100, 0.5)\n",
    "@show pvalue_one_sided_ccdf(60, 100, 0.5);"
   ]
  },
  {
   "cell_type": "code",
   "execution_count": 6,
   "id": "44cd6a7b-35fd-4308-8f0a-fedf272685a0",
   "metadata": {},
   "outputs": [
    {
     "name": "stdout",
     "output_type": "stream",
     "text": [
      "  3.638 μs (0 allocations: 0 bytes)\n",
      "  161.269 ns (0 allocations: 0 bytes)\n"
     ]
    }
   ],
   "source": [
    "@btime pvalue_one_sided_sf1(60, 100, 0.5)\n",
    "@btime pvalue_one_sided_ccdf(60, 100, 0.5);"
   ]
  },
  {
   "cell_type": "code",
   "execution_count": 7,
   "id": "8c45504b-2a2f-4dfc-8872-d72fd385e5e5",
   "metadata": {},
   "outputs": [
    {
     "data": {
      "text/plain": [
       "NaN"
      ]
     },
     "execution_count": 7,
     "metadata": {},
     "output_type": "execute_result"
    }
   ],
   "source": [
    "pvalue_one_sided_sf1(501000, 10^6, 0.5)"
   ]
  },
  {
   "cell_type": "code",
   "execution_count": 8,
   "id": "76434c4c-b72a-4298-8288-399897a5eb6b",
   "metadata": {},
   "outputs": [
    {
     "name": "stdout",
     "output_type": "stream",
     "text": [
      "pvalue_one_sided_sf1(60, 100, 0.5) = 0.02844396682049029\n",
      "pvalue_one_sided_sf2(60, 100, 0.5) = 0.02844396682049034\n",
      "pvalue_one_sided_ccdf(60, 100, 0.5) = 0.02844396682049039\n"
     ]
    }
   ],
   "source": [
    "using SpecialFunctions\n",
    "\n",
    "function pvalue_one_sided_sf2(k, n, p=1/2)\n",
    "    pval = 0.0\n",
    "    for i in k:n\n",
    "        pval += exp(logabsbinomial(n, i)[1] + i*log(p) + (n-i)*log(1-p))\n",
    "    end\n",
    "    pval\n",
    "end\n",
    "\n",
    "@show pvalue_one_sided_sf1(60, 100, 0.5)\n",
    "@show pvalue_one_sided_sf2(60, 100, 0.5)\n",
    "@show pvalue_one_sided_ccdf(60, 100, 0.5);"
   ]
  },
  {
   "cell_type": "code",
   "execution_count": 9,
   "id": "3d0f0e21-5630-41b2-a908-b4514e2bf989",
   "metadata": {},
   "outputs": [
    {
     "name": "stdout",
     "output_type": "stream",
     "text": [
      "  3.562 μs (0 allocations: 0 bytes)\n",
      "  3.475 μs (0 allocations: 0 bytes)\n",
      "  161.010 ns (0 allocations: 0 bytes)\n"
     ]
    }
   ],
   "source": [
    "@btime pvalue_one_sided_sf1(60, 100, 0.5)\n",
    "@btime pvalue_one_sided_sf2(60, 100, 0.5)\n",
    "@btime pvalue_one_sided_ccdf(60, 100, 0.5);"
   ]
  },
  {
   "cell_type": "code",
   "execution_count": 10,
   "id": "b8956999-246d-49c3-b457-2010a1fc2ce0",
   "metadata": {},
   "outputs": [
    {
     "name": "stdout",
     "output_type": "stream",
     "text": [
      "pvalue_one_sided_sf2(501000, 10 ^ 6, 0.5) = 0.022804149931594936\n",
      "pvalue_one_sided_ccdf(501000, 10 ^ 6, 0.5) = 0.02280414993269104\n"
     ]
    }
   ],
   "source": [
    "@show pvalue_one_sided_sf2(501000, 10^6, 0.5)\n",
    "@show pvalue_one_sided_ccdf(501000, 10^6, 0.5);"
   ]
  },
  {
   "cell_type": "code",
   "execution_count": 11,
   "id": "221bc314-e2e5-4580-be25-cf7131f0f2c1",
   "metadata": {},
   "outputs": [
    {
     "name": "stdout",
     "output_type": "stream",
     "text": [
      "  39.481 ms (0 allocations: 0 bytes)\n",
      "  406.533 ns (4 allocations: 960 bytes)\n"
     ]
    }
   ],
   "source": [
    "@btime pvalue_one_sided_sf2(501000, 10^6, 0.5)\n",
    "@btime pvalue_one_sided_ccdf(501000, 10^6, 0.5);"
   ]
  },
  {
   "cell_type": "code",
   "execution_count": 12,
   "id": "8e88abda-72dc-4a5e-8e64-41791b552d8a",
   "metadata": {},
   "outputs": [
    {
     "data": {
      "text/plain": [
       "0.02138697262853383"
      ]
     },
     "execution_count": 12,
     "metadata": {},
     "output_type": "execute_result"
    }
   ],
   "source": [
    "ccdf(Binomial(30, 0.5), 20)"
   ]
  },
  {
   "cell_type": "code",
   "execution_count": 13,
   "id": "61457ed5-455b-4bb5-8d0e-bf0253829121",
   "metadata": {},
   "outputs": [
    {
     "data": {
      "text/html": [
       "ccdf(d::<b>Binomial</b>, x::<b>Real</b>) in Distributions at <a href=\"file://D:/.julia/packages/Distributions/UaWBm/src/univariates.jl\" target=\"_blank\">D:\\.julia\\packages\\Distributions\\UaWBm\\src\\univariates.jl:649</a>"
      ],
      "text/plain": [
       "ccdf(\u001b[90md\u001b[39m::\u001b[1mBinomial\u001b[22m, \u001b[90mx\u001b[39m::\u001b[1mReal\u001b[22m)\n",
       "\u001b[90m     @\u001b[39m \u001b[90mDistributions\u001b[39m \u001b[90mD:\\.julia\\packages\\Distributions\\UaWBm\\src\\\u001b[39m\u001b[90m\u001b[4munivariates.jl:649\u001b[24m\u001b[39m"
      ]
     },
     "execution_count": 13,
     "metadata": {},
     "output_type": "execute_result"
    }
   ],
   "source": [
    "@which ccdf(Binomial(30, 0.5), 20)"
   ]
  },
  {
   "cell_type": "code",
   "execution_count": 14,
   "id": "c61dc672-45e5-430d-948d-8964837256f0",
   "metadata": {},
   "outputs": [
    {
     "data": {
      "text/plain": [
       "0.02138697262853383"
      ]
     },
     "execution_count": 14,
     "metadata": {},
     "output_type": "execute_result"
    }
   ],
   "source": [
    "Distributions.binomccdf(30, 0.5, 20)"
   ]
  },
  {
   "cell_type": "code",
   "execution_count": 15,
   "id": "676862fb-0bbb-464f-9def-27473d214f3e",
   "metadata": {},
   "outputs": [
    {
     "data": {
      "text/html": [
       "binomccdf(n::<b>Real</b>, p::<b>Real</b>, k::<b>Real</b>) in StatsFuns at <a href=\"file://D:/.julia/packages/StatsFuns/atA5S/src/distrs/binom.jl\" target=\"_blank\">D:\\.julia\\packages\\StatsFuns\\atA5S\\src\\distrs\\binom.jl:29</a>"
      ],
      "text/plain": [
       "binomccdf(\u001b[90mn\u001b[39m::\u001b[1mReal\u001b[22m, \u001b[90mp\u001b[39m::\u001b[1mReal\u001b[22m, \u001b[90mk\u001b[39m::\u001b[1mReal\u001b[22m)\n",
       "\u001b[90m     @\u001b[39m \u001b[90mStatsFuns\u001b[39m \u001b[90mD:\\.julia\\packages\\StatsFuns\\atA5S\\src\\distrs\\\u001b[39m\u001b[90m\u001b[4mbinom.jl:29\u001b[24m\u001b[39m"
      ]
     },
     "execution_count": 15,
     "metadata": {},
     "output_type": "execute_result"
    }
   ],
   "source": [
    "@which Distributions.binomccdf(30, 0.5, 20)"
   ]
  },
  {
   "cell_type": "code",
   "execution_count": 16,
   "id": "d2c66191-65f4-4521-bb11-ddbf79b51e5b",
   "metadata": {},
   "outputs": [
    {
     "data": {
      "text/plain": [
       "0.02138697262853383"
      ]
     },
     "execution_count": 16,
     "metadata": {},
     "output_type": "execute_result"
    }
   ],
   "source": [
    "Distributions.betacdf(20+1, 30-20, 0.5)"
   ]
  },
  {
   "cell_type": "code",
   "execution_count": 17,
   "id": "d0b46694-d2a5-4ffc-9f2b-4687635fb871",
   "metadata": {},
   "outputs": [
    {
     "data": {
      "text/html": [
       "betacdf(α::<b>Real</b>, β::<b>Real</b>, x::<b>Real</b>) in StatsFuns at <a href=\"file://D:/.julia/packages/StatsFuns/atA5S/src/distrs/beta.jl\" target=\"_blank\">D:\\.julia\\packages\\StatsFuns\\atA5S\\src\\distrs\\beta.jl:29</a>"
      ],
      "text/plain": [
       "betacdf(\u001b[90mα\u001b[39m::\u001b[1mReal\u001b[22m, \u001b[90mβ\u001b[39m::\u001b[1mReal\u001b[22m, \u001b[90mx\u001b[39m::\u001b[1mReal\u001b[22m)\n",
       "\u001b[90m     @\u001b[39m \u001b[90mStatsFuns\u001b[39m \u001b[90mD:\\.julia\\packages\\StatsFuns\\atA5S\\src\\distrs\\\u001b[39m\u001b[90m\u001b[4mbeta.jl:29\u001b[24m\u001b[39m"
      ]
     },
     "execution_count": 17,
     "metadata": {},
     "output_type": "execute_result"
    }
   ],
   "source": [
    "@which Distributions.betacdf(20+1, 30-20, 0.5)"
   ]
  },
  {
   "cell_type": "code",
   "execution_count": 18,
   "id": "64a8a199-c7c3-4857-9da4-402a385e43a4",
   "metadata": {},
   "outputs": [
    {
     "data": {
      "text/plain": [
       "(0.02138697262853383, 0.9786130273714662)"
      ]
     },
     "execution_count": 18,
     "metadata": {},
     "output_type": "execute_result"
    }
   ],
   "source": [
    "beta_inc(20+1, 30-20, 0.5)"
   ]
  },
  {
   "cell_type": "code",
   "execution_count": 19,
   "id": "9d34e113-7659-4fda-8fef-224ddeb77e8a",
   "metadata": {},
   "outputs": [
    {
     "data": {
      "text/html": [
       "beta_inc(a::<b>Real</b>, b::<b>Real</b>, x::<b>Real</b>) in SpecialFunctions at <a href=\"file://D:/.julia/packages/SpecialFunctions/QH8rV/src/beta_inc.jl\" target=\"_blank\">D:\\.julia\\packages\\SpecialFunctions\\QH8rV\\src\\beta_inc.jl:731</a>"
      ],
      "text/plain": [
       "beta_inc(\u001b[90ma\u001b[39m::\u001b[1mReal\u001b[22m, \u001b[90mb\u001b[39m::\u001b[1mReal\u001b[22m, \u001b[90mx\u001b[39m::\u001b[1mReal\u001b[22m)\n",
       "\u001b[90m     @\u001b[39m \u001b[90mSpecialFunctions\u001b[39m \u001b[90mD:\\.julia\\packages\\SpecialFunctions\\QH8rV\\src\\\u001b[39m\u001b[90m\u001b[4mbeta_inc.jl:731\u001b[24m\u001b[39m"
      ]
     },
     "execution_count": 19,
     "metadata": {},
     "output_type": "execute_result"
    }
   ],
   "source": [
    "@which beta_inc(20+1, 30-20, 0.5)"
   ]
  },
  {
   "cell_type": "code",
   "execution_count": 20,
   "id": "5f79c6c4-43fe-42bc-b29d-88ce9dab1441",
   "metadata": {},
   "outputs": [
    {
     "data": {
      "text/plain": [
       "(0.02138697262853383, 0.9786130273714662)"
      ]
     },
     "execution_count": 20,
     "metadata": {},
     "output_type": "execute_result"
    }
   ],
   "source": [
    "SpecialFunctions._beta_inc(float(20+1), float(30-20), 0.5)"
   ]
  },
  {
   "cell_type": "code",
   "execution_count": 21,
   "id": "2b44d2b8-c725-49aa-a2ac-20e07eda714b",
   "metadata": {},
   "outputs": [
    {
     "data": {
      "text/html": [
       "_beta_inc(a::<b>Float64</b>, b::<b>Float64</b>, x::<b>Float64</b>) in SpecialFunctions at <a href=\"file://D:/.julia/packages/SpecialFunctions/QH8rV/src/beta_inc.jl\" target=\"_blank\">D:\\.julia\\packages\\SpecialFunctions\\QH8rV\\src\\beta_inc.jl:738</a>"
      ],
      "text/plain": [
       "_beta_inc(\u001b[90ma\u001b[39m::\u001b[1mFloat64\u001b[22m, \u001b[90mb\u001b[39m::\u001b[1mFloat64\u001b[22m, \u001b[90mx\u001b[39m::\u001b[1mFloat64\u001b[22m)\n",
       "\u001b[90m     @\u001b[39m \u001b[90mSpecialFunctions\u001b[39m \u001b[90mD:\\.julia\\packages\\SpecialFunctions\\QH8rV\\src\\\u001b[39m\u001b[90m\u001b[4mbeta_inc.jl:738\u001b[24m\u001b[39m"
      ]
     },
     "execution_count": 21,
     "metadata": {},
     "output_type": "execute_result"
    }
   ],
   "source": [
    "@which SpecialFunctions._beta_inc(float(20+1), float(30-20), 0.5)"
   ]
  },
  {
   "cell_type": "markdown",
   "id": "5140bf18-71f1-40c5-887f-4515371841b8",
   "metadata": {},
   "source": [
    "https://github.com/JuliaMath/SpecialFunctions.jl/blob/master/src/beta_inc.jl#L738"
   ]
  },
  {
   "cell_type": "code",
   "execution_count": null,
   "id": "7dfab2f3-77d3-4540-bd6d-4a3c92770eda",
   "metadata": {},
   "outputs": [],
   "source": []
  }
 ],
 "metadata": {
  "jupytext": {
   "formats": "ipynb,jl:hydrogen"
  },
  "kernelspec": {
   "display_name": "Julia 1.10.0",
   "language": "julia",
   "name": "julia-1.10"
  },
  "language_info": {
   "file_extension": ".jl",
   "mimetype": "application/julia",
   "name": "julia",
   "version": "1.10.0"
  }
 },
 "nbformat": 4,
 "nbformat_minor": 5
}
