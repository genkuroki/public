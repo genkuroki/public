{
 "cells": [
  {
   "cell_type": "code",
   "execution_count": 1,
   "id": "f8190bc1-88a8-411e-86b2-fd54a0351764",
   "metadata": {},
   "outputs": [
    {
     "data": {
      "text/plain": [
       "\n",
       "\t2-sample test for equality of proportions with continuity correction\n",
       "\n",
       "data:  c(16, 9) out of c(25, 27)\n",
       "X-squared = 3.739, df = 1, p-value = 0.05316\n",
       "alternative hypothesis: two.sided\n",
       "95 percent confidence interval:\n",
       " 0.009266265 0.604067069\n",
       "sample estimates:\n",
       "   prop 1    prop 2 \n",
       "0.6400000 0.3333333 \n"
      ]
     },
     "metadata": {},
     "output_type": "display_data"
    }
   ],
   "source": [
    "prop.test(c(16, 9), c(25, 27))"
   ]
  },
  {
   "cell_type": "code",
   "execution_count": 2,
   "id": "01e84424-3dc4-4cbf-8bb1-187495c85ab6",
   "metadata": {},
   "outputs": [
    {
     "data": {
      "text/plain": [
       "\n",
       "\t2-sample test for equality of proportions without continuity correction\n",
       "\n",
       "data:  c(14, 9) out of c(22, 25)\n",
       "X-squared = 3.5767, df = 1, p-value = 0.0586\n",
       "alternative hypothesis: two.sided\n",
       "95 percent confidence interval:\n",
       " 0.001029453 0.551697820\n",
       "sample estimates:\n",
       "   prop 1    prop 2 \n",
       "0.6363636 0.3600000 \n"
      ]
     },
     "metadata": {},
     "output_type": "display_data"
    }
   ],
   "source": [
    "prop.test(c(14, 9), c(22, 25), correct=F)"
   ]
  },
  {
   "cell_type": "code",
   "execution_count": null,
   "id": "4e3ca772-0992-4b2f-9e60-9376b25ef575",
   "metadata": {},
   "outputs": [],
   "source": []
  }
 ],
 "metadata": {
  "kernelspec": {
   "display_name": "R",
   "language": "R",
   "name": "ir"
  },
  "language_info": {
   "codemirror_mode": "r",
   "file_extension": ".r",
   "mimetype": "text/x-r-source",
   "name": "R",
   "pygments_lexer": "r",
   "version": "4.3.2"
  }
 },
 "nbformat": 4,
 "nbformat_minor": 5
}
