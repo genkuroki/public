{
 "cells": [
  {
   "cell_type": "code",
   "execution_count": 1,
   "id": "b3195540-79e0-4bd2-b99d-8c7d56451893",
   "metadata": {},
   "outputs": [
    {
     "name": "stdout",
     "output_type": "stream",
     "text": [
      "A.f() = \"hoge\"\n",
      "B.g() = \"hogemoge\"\n"
     ]
    }
   ],
   "source": [
    "# include(\"A.jl\")\n",
    "module A\n",
    "f() = \"hoge\"\n",
    "end\n",
    "\n",
    "# include(\"B.jl\")\n",
    "module B\n",
    "using ..A\n",
    "g() = A.f() * \"moge\"\n",
    "end\n",
    "\n",
    "@show A.f()\n",
    "@show B.g();"
   ]
  },
  {
   "cell_type": "code",
   "execution_count": null,
   "id": "4485eb1e-202b-4969-86be-da5b1b617cee",
   "metadata": {},
   "outputs": [],
   "source": []
  }
 ],
 "metadata": {
  "kernelspec": {
   "display_name": "Julia 1.10.0",
   "language": "julia",
   "name": "julia-1.10"
  },
  "language_info": {
   "file_extension": ".jl",
   "mimetype": "application/julia",
   "name": "julia",
   "version": "1.10.0"
  }
 },
 "nbformat": 4,
 "nbformat_minor": 5
}
