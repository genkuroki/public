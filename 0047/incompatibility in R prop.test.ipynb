{
 "cells": [
  {
   "cell_type": "code",
   "execution_count": 5,
   "id": "2bf3f081-5e39-4904-86e0-e3c036f153a0",
   "metadata": {},
   "outputs": [
    {
     "name": "stderr",
     "output_type": "stream",
     "text": [
      "\u001b[36m\u001b[1m[ \u001b[22m\u001b[39m\u001b[36m\u001b[1mInfo: \u001b[22m\u001b[39mPrecompiling RCall [6f49c342-dc21-5d91-9882-a32aef131414]\n"
     ]
    },
    {
     "data": {
      "text/plain": [
       "⪅ (generic function with 1 method)"
      ]
     },
     "execution_count": 5,
     "metadata": {},
     "output_type": "execute_result"
    }
   ],
   "source": [
    "using Distributions\n",
    "using RCall\n",
    "using Roots\n",
    "using StatsBase\n",
    "using StatsPlots\n",
    "default(fmt=:png, titlefontsize=8, tickfontsize=6, size=(400, 250),\n",
    "    plot_titlefontsize=10)\n",
    "safemul(x, y) = x == 0 ? x : isinf(x) ? typeof(x)(Inf) : x*y\n",
    "safediv(x, y) = x == 0 ? x : isinf(y) ? zero(y) : x/y\n",
    "\n",
    "x ⪅ y = x < y || x ≈ y"
   ]
  },
  {
   "cell_type": "code",
   "execution_count": 2,
   "id": "f9de18be-6276-45f5-a0c2-f4a3a2aca395",
   "metadata": {},
   "outputs": [
    {
     "data": {
      "text/plain": [
       "confint_rd_wald (generic function with 1 method)"
      ]
     },
     "execution_count": 2,
     "metadata": {},
     "output_type": "execute_result"
    }
   ],
   "source": [
    "# 警告: 以下の実装の精度は低い. 改良の仕方が\n",
    "# \n",
    "# Kenneth J. Rothman, Sander Greenland, and Timothy L. Lash\n",
    "# Modern Epistemology, Third Edition, 2008, 888 pages\n",
    "#\n",
    "# の\n",
    "#\n",
    "# Chapter 14. Instroduction to Categorical Statistics\n",
    "# Section. Two Study Groups: Large-Sample Methods, pp.299-300\n",
    "#\n",
    "# に書いてある. そこでは, 次の文献が引用されている:\n",
    "#\n",
    "# Guangyong Zou and Allan Donner\n",
    "# A simple alternative confidence interval for the difference between two proportions\n",
    "# Controlled Clinical Trials, Volume 25, Issue 1, February 2004, Pages 3-12\n",
    "# https://doi.org/10.1016/j.cct.2003.08.010\n",
    "#\n",
    "# Zou-Donnerの信頼区間に対応するP値函数の実装については\n",
    "#\n",
    "# https://github.com/genkuroki/public/blob/main/0033/probability%20of%20alpha%20error%20of%20Zou-Donner.ipynb\n",
    "#\n",
    "# を参照せよ.\n",
    "\n",
    "riskdiffhat(a, b, c, d) = safediv(a, a+b) - safediv(c, c+d)\n",
    "\n",
    "function stderr_riskdiffhat(a, b, c, d)\n",
    "    m, n = a+b, c+d\n",
    "    p̂, q̂ = safediv(a, m), safediv(c, n)\n",
    "    √(safediv(p̂*(1-p̂), m) + safediv(q̂*(1-q̂), n))\n",
    "end\n",
    "\n",
    "function pvalue_rd_wald(a, b, c, d; Δ=0)\n",
    "    RDhat = riskdiffhat(a, b, c, d)\n",
    "    SEhat_riskdiffhat = stderr_riskdiffhat(a, b, c, d)\n",
    "    2ccdf(Normal(0, 1), safediv(abs(RDhat - Δ), SEhat_riskdiffhat))\n",
    "end\n",
    "\n",
    "function confint_rd_wald(a, b, c, d; α=0.05)\n",
    "    z = quantile(Normal(), 1-α/2)\n",
    "    RDhat = riskdiffhat(a, b, c, d)\n",
    "    SEhat_riskdiffhat = stderr_riskdiffhat(a, b, c, d)\n",
    "    [RDhat - z*SEhat_riskdiffhat, RDhat + z*SEhat_riskdiffhat]\n",
    "end"
   ]
  },
  {
   "cell_type": "code",
   "execution_count": 3,
   "id": "1744b44b-c3b2-41e0-9f9b-9f3cd1c0d455",
   "metadata": {},
   "outputs": [
    {
     "data": {
      "text/plain": [
       "confint_rd_zou_donner (generic function with 1 method)"
      ]
     },
     "execution_count": 3,
     "metadata": {},
     "output_type": "execute_result"
    }
   ],
   "source": [
    "# risk difference Zou-Donner\n",
    "\n",
    "riskdiffhat_zou_donner(a, b, c, d) = safediv(a, a+b) - safediv(c, c+d)\n",
    "\n",
    "function stderr_riskdiffhat_zou_donner(a, b, c, d; u=1)\n",
    "    m, n = a+b, c+d\n",
    "    p̂, q̂ = safediv(a, m), safediv(c, n)\n",
    "    √(safediv(p̂*(1-p̂), m-u) + safediv(q̂*(1-q̂), n-u))\n",
    "end\n",
    "\n",
    "function pvalue_rd_zou_donner(a, b, c, d; Δ=0, u=1)\n",
    "    ((a==0 && d==0) || (b==0 && c==0)) && return 1.0\n",
    "    RDhat = riskdiffhat_zou_donner(a, b, c, d)\n",
    "    SEhat_riskdiffhat = stderr_riskdiffhat_zou_donner(a, b, c, d; u)\n",
    "    Z = safediv((1 - RDhat^2)*abs(atanh(RDhat) - atanh(Δ)), SEhat_riskdiffhat)\n",
    "    2ccdf(Normal(), abs(Z))\n",
    "end\n",
    "\n",
    "function confint_rd_zou_donner(a, b, c, d; α=0.05, u=1)\n",
    "    z = quantile(Normal(), 1-α/2)\n",
    "    RDhat = riskdiffhat_zou_donner(a, b, c, d)\n",
    "    SEhat_riskdiffhat = stderr_riskdiffhat_zou_donner(a, b, c, d; u)\n",
    "    m = atanh(RDhat)\n",
    "    d = safediv(z*SEhat_riskdiffhat, 1 - RDhat^2)\n",
    "    [tanh(m-d), tanh(m+d)]\n",
    "end"
   ]
  },
  {
   "cell_type": "code",
   "execution_count": 4,
   "id": "2a02710f-9acc-4a7f-9564-aab81ffdc8aa",
   "metadata": {},
   "outputs": [
    {
     "data": {
      "text/plain": [
       "confint_or_pearson_chisq (generic function with 1 method)"
      ]
     },
     "execution_count": 4,
     "metadata": {},
     "output_type": "execute_result"
    }
   ],
   "source": [
    "function delta(a, b, c, d; ω=1)\n",
    "    A, B, C = 1-ω, a+d+ω*(b+c), a*d-ω*b*c\n",
    "    isinf(ω) ? oftype(ω, -min(b, c)) : safediv(2C, B + √(B^2 - 4A*C))\n",
    "end\n",
    "\n",
    "# correction = 0.5 は連続性補正を与える.\n",
    "function _chisqstat_or(a, b, c, d, δ; correction=0.0)\n",
    "    ã, b̃, c̃, d̃ = a-δ, b+δ, c+δ, d-δ\n",
    "    safemul(max(0, abs(δ)-correction)^2, 1/ã + 1/b̃ + 1/c̃ + 1/d̃)\n",
    "end\n",
    "\n",
    "function chisqstat_or(a, b, c, d; ω=1, correction=0.0)\n",
    "    δ = delta(a, b, c, d; ω)\n",
    "    _chisqstat_or(a, b, c, d, δ; correction)\n",
    "end\n",
    "\n",
    "function pvalue_or_pearson_chisq(a, b, c, d; ω=1, correction=0.0)\n",
    "    χ² = chisqstat_or(a, b, c, d; ω, correction)\n",
    "    ccdf(Chisq(1), χ²)\n",
    "end\n",
    "\n",
    "function confint_or_pearson_chisq(a, b, c, d; α=0.05, correction=0.0)\n",
    "    (a+b==0 || c+d==0 || a+c==0 || b+d==0) && return [0, Inf]\n",
    "    f(logω) = logit(pvalue_or_pearson_chisq(a, b, c, d; ω=exp(logω), correction)) - logit(α)\n",
    "    ps = if a == 0 || d == 0\n",
    "        [0, exp(find_zero(f, 0.0))]\n",
    "    elseif b == 0 || c == 0\n",
    "        [exp(find_zero(f, 0.0)), Inf]\n",
    "    else\n",
    "        ORhat = oddsratiohat(a, b, c, d)\n",
    "        ω_L, ω_U = ORhat/2, 2ORhat\n",
    "        [exp(find_zero(f, log(ω_L))), exp(find_zero(f, log(ω_U)))]\n",
    "    end\n",
    "end"
   ]
  },
  {
   "cell_type": "code",
   "execution_count": 52,
   "id": "f792bbb3-c6b2-42ef-a0b4-a732bb7a7bfc",
   "metadata": {},
   "outputs": [
    {
     "name": "stdout",
     "output_type": "stream",
     "text": [
      "A = [16 9; 9 18]\n",
      "chisqstat_or(A'...; correction = 0.5) = 3.738978326474623\n",
      "pvalue_or_pearson_chisq(A'...; correction = 0.5) = 0.05315693868151735\n",
      "\n",
      "X = A[:, 1] = [16, 9]\n",
      "N = vec(sum(A; dims = 2)) = [25, 27]\n"
     ]
    },
    {
     "data": {
      "text/plain": [
       "RObject{VecSxp}\n",
       "\n",
       "\t2-sample test for equality of proportions with continuity correction\n",
       "\n",
       "data:  X out of N\n",
       "X-squared = 3.739, df = 1, p-value = 0.05316\n",
       "alternative hypothesis: two.sided\n",
       "95 percent confidence interval:\n",
       " 0.009266265 0.604067069\n",
       "sample estimates:\n",
       "   prop 1    prop 2 \n",
       "0.6400000 0.3333333 \n",
       "\n"
      ]
     },
     "execution_count": 52,
     "metadata": {},
     "output_type": "execute_result"
    }
   ],
   "source": [
    "A = [\n",
    "    16  9\n",
    "     9 18\n",
    "]\n",
    "\n",
    "@show A\n",
    "@show chisqstat_or(A'...; correction=0.5)\n",
    "@show pvalue_or_pearson_chisq(A'...; correction=0.5)\n",
    "println()\n",
    "\n",
    "@show X = A[:,1]\n",
    "@show N = vec(sum(A; dims=2))\n",
    "@rput X N\n",
    "R\"\"\"\n",
    "prop.test(X, N)\n",
    "\"\"\""
   ]
  },
  {
   "cell_type": "code",
   "execution_count": 36,
   "id": "717d236c-15a0-4fa4-931a-780eaf9ffdc7",
   "metadata": {},
   "outputs": [
    {
     "name": "stdout",
     "output_type": "stream",
     "text": [
      "A = [14 8; 9 16]\n",
      "chisqstat_or(A'...; correction = 0.0) = 3.5767061923583654\n",
      "pvalue_or_pearson_chisq(A'...; correction = 0.0) = 0.05859522590289664\n",
      "pvalue_rd_wald(A'...) = 0.04914954125294981\n",
      "confint_rd_wald(A'...) = [0.0010294527646920737, 0.5516978199625806]\n",
      "\n",
      "X = A[:, 1] = [14, 9]\n",
      "N = vec(sum(A; dims = 2)) = [22, 25]\n"
     ]
    },
    {
     "data": {
      "text/plain": [
       "RObject{VecSxp}\n",
       "\n",
       "\t2-sample test for equality of proportions without continuity correction\n",
       "\n",
       "data:  X out of N\n",
       "X-squared = 3.5767, df = 1, p-value = 0.0586\n",
       "alternative hypothesis: two.sided\n",
       "95 percent confidence interval:\n",
       " 0.001029453 0.551697820\n",
       "sample estimates:\n",
       "   prop 1    prop 2 \n",
       "0.6363636 0.3600000 \n",
       "\n"
      ]
     },
     "execution_count": 36,
     "metadata": {},
     "output_type": "execute_result"
    }
   ],
   "source": [
    "A = [\n",
    "    14  8\n",
    "     9 16\n",
    "]\n",
    "\n",
    "@show A\n",
    "@show chisqstat_or(A'...; correction=0.0)\n",
    "@show pvalue_or_pearson_chisq(A'...; correction=0.0)\n",
    "@show pvalue_rd_wald(A'...)\n",
    "@show confint_rd_wald(A'...)\n",
    "println()\n",
    "\n",
    "@show X = A[:,1]\n",
    "@show N = vec(sum(A; dims=2))\n",
    "@rput X N\n",
    "R\"\"\"\n",
    "prop.test(X, N, correct=F)\n",
    "\"\"\""
   ]
  },
  {
   "cell_type": "code",
   "execution_count": null,
   "id": "b15d1850-bb4d-4bcb-aa9e-81f5fa4b8f25",
   "metadata": {},
   "outputs": [],
   "source": []
  }
 ],
 "metadata": {
  "kernelspec": {
   "display_name": "Julia 1.10.1",
   "language": "julia",
   "name": "julia-1.10"
  },
  "language_info": {
   "file_extension": ".jl",
   "mimetype": "application/julia",
   "name": "julia",
   "version": "1.10.1"
  }
 },
 "nbformat": 4,
 "nbformat_minor": 5
}
