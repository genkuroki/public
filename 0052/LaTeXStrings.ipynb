{
 "cells": [
  {
   "cell_type": "code",
   "execution_count": 1,
   "id": "05f69e79-eba6-428a-bd6f-30599d21efa8",
   "metadata": {},
   "outputs": [],
   "source": [
    "using LaTeXStrings"
   ]
  },
  {
   "cell_type": "code",
   "execution_count": 2,
   "id": "dccb9c03-e640-4a02-8b32-c946b6a00231",
   "metadata": {},
   "outputs": [
    {
     "data": {
      "text/latex": [
       "foo $\\alpha$"
      ],
      "text/plain": [
       "L\"foo $\\alpha$\""
      ]
     },
     "metadata": {},
     "output_type": "display_data"
    },
    {
     "name": "stdout",
     "output_type": "stream",
     "text": [
      "LaTeXString\n",
      "  s: String \"foo \\$\\\\alpha\\$\"\n"
     ]
    }
   ],
   "source": [
    "L\"foo $\\alpha$\" |> display\n",
    "L\"foo $\\alpha$\" |> dump"
   ]
  },
  {
   "cell_type": "code",
   "execution_count": 3,
   "id": "d7b35198-42be-4a70-8146-991cef1c77bd",
   "metadata": {},
   "outputs": [
    {
     "data": {
      "text/latex": [
       "$foo$"
      ],
      "text/plain": [
       "L\"$foo$\""
      ]
     },
     "metadata": {},
     "output_type": "display_data"
    },
    {
     "name": "stdout",
     "output_type": "stream",
     "text": [
      "LaTeXString\n",
      "  s: String \"\\$foo\\$\"\n"
     ]
    }
   ],
   "source": [
    "L\"foo\" |> display\n",
    "L\"foo\" |> dump"
   ]
  },
  {
   "cell_type": "code",
   "execution_count": 4,
   "id": "03d8de20-f863-42d8-a6cd-1d72df6f0ac4",
   "metadata": {},
   "outputs": [
    {
     "data": {
      "text/latex": [
       "foo"
      ],
      "text/plain": [
       "L\"foo\""
      ]
     },
     "metadata": {},
     "output_type": "display_data"
    },
    {
     "name": "stdout",
     "output_type": "stream",
     "text": [
      "LaTeXString\n",
      "  s: String \"foo\"\n"
     ]
    }
   ],
   "source": [
    "LaTeXString(\"foo\") |> display\n",
    "LaTeXString(\"foo\") |> dump"
   ]
  },
  {
   "cell_type": "code",
   "execution_count": 5,
   "id": "3d8765cf-9f5e-4b3c-999a-c90029a12d21",
   "metadata": {},
   "outputs": [
    {
     "data": {
      "text/latex": [
       "$\\pi = 3.141592653589793$"
      ],
      "text/plain": [
       "L\"$\\pi = 3.141592653589793$\""
      ]
     },
     "metadata": {},
     "output_type": "display_data"
    },
    {
     "name": "stdout",
     "output_type": "stream",
     "text": [
      "LaTeXString\n",
      "  s: String \"\\$\\\\pi = 3.141592653589793\\$\"\n"
     ]
    }
   ],
   "source": [
    "L\"\\pi = %$(float(π))\" |> display\n",
    "L\"\\pi = %$(float(π))\" |> dump"
   ]
  },
  {
   "cell_type": "code",
   "execution_count": 6,
   "id": "0284151f-fe34-424f-b04a-5feedb87a98c",
   "metadata": {},
   "outputs": [
    {
     "data": {
      "text/latex": [
       "$5.5\\%$"
      ],
      "text/plain": [
       "L\"$5.5\\%$\""
      ]
     },
     "metadata": {},
     "output_type": "display_data"
    },
    {
     "name": "stdout",
     "output_type": "stream",
     "text": [
      "LaTeXString\n",
      "  s: String \"\\$5.5\\\\%\\$\"\n"
     ]
    },
    {
     "data": {
      "text/plain": [
       "true"
      ]
     },
     "execution_count": 6,
     "metadata": {},
     "output_type": "execute_result"
    }
   ],
   "source": [
    "using Plots\n",
    "pgfplotsx()\n",
    "Plots.pgfx_sanitize_string(L\"5.5%\") |> display\n",
    "Plots.pgfx_sanitize_string(L\"5.5%\") |> dump\n",
    "Plots.pgfx_sanitize_string(L\"5.5%\") == L\"5.5\\%\""
   ]
  },
  {
   "cell_type": "code",
   "execution_count": null,
   "id": "9a3e4470-3384-449f-986f-05a39f084431",
   "metadata": {},
   "outputs": [],
   "source": []
  }
 ],
 "metadata": {
  "jupytext": {
   "formats": "ipynb,jl:hydrogen"
  },
  "kernelspec": {
   "display_name": "Julia 1.11.3",
   "language": "julia",
   "name": "julia-1.11"
  },
  "language_info": {
   "file_extension": ".jl",
   "mimetype": "application/julia",
   "name": "julia",
   "version": "1.11.3"
  }
 },
 "nbformat": 4,
 "nbformat_minor": 5
}
