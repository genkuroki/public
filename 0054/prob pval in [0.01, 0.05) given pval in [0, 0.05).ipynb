{
 "cells": [
  {
   "cell_type": "markdown",
   "id": "09a78080-fa29-4829-9ca4-7b0d51162a33",
   "metadata": {},
   "source": [
    "https://x.com/enodon/status/1931248617672847786"
   ]
  },
  {
   "cell_type": "code",
   "execution_count": 1,
   "id": "d3e0d1e1-385b-4d29-8698-04230c2c82eb",
   "metadata": {},
   "outputs": [
    {
     "data": {
      "text/plain": [
       "@autoadd"
      ]
     },
     "execution_count": 1,
     "metadata": {},
     "output_type": "execute_result"
    }
   ],
   "source": [
    "# Google Colabと自分のパソコンの両方で使えるようにするための工夫\n",
    "\n",
    "using Pkg\n",
    "\n",
    "\"\"\"すでにPkg.add済みのパッケージのリスト (高速化のために用意)\"\"\"\n",
    "_packages_added = [sort!(readdir(Sys.STDLIB));\n",
    "    [info.name for (uuid, info) in Pkg.dependencies() if info.is_direct_dep]]\n",
    "\n",
    "\"\"\"_packages_added内にないパッケージをPkg.addする\"\"\"\n",
    "add_pkg_if_not_added_yet(pkg) = if !(pkg in _packages_added)\n",
    "    println(stderr, \"# $(pkg).jl is not added yet, so let's add it.\")\n",
    "    Pkg.add(pkg)\n",
    "end\n",
    "\n",
    "\"\"\"expr::Exprからusing内の`.`を含まないモジュール名を抽出\"\"\"\n",
    "function find_using_pkgs(expr::Expr)\n",
    "    pkgs = String[]\n",
    "    function traverse(expr::Expr)\n",
    "        if expr.head == :using\n",
    "            for arg in expr.args\n",
    "                if arg.head == :. && length(arg.args) == 1\n",
    "                    push!(pkgs, string(arg.args[1]))\n",
    "                elseif arg.head == :(:) && length(arg.args[1].args) == 1\n",
    "                    push!(pkgs, string(arg.args[1].args[1]))\n",
    "                end\n",
    "            end\n",
    "        else\n",
    "            for arg in expr.args arg isa Expr && traverse(arg) end\n",
    "        end\n",
    "    end\n",
    "    traverse(expr)\n",
    "    pkgs\n",
    "end\n",
    "\n",
    "\"\"\"必要そうなPkg.addを追加するマクロ\"\"\"\n",
    "macro autoadd(expr)\n",
    "    pkgs = find_using_pkgs(expr)\n",
    "    :(add_pkg_if_not_added_yet.($(pkgs)); $expr)\n",
    "end"
   ]
  },
  {
   "cell_type": "code",
   "execution_count": 2,
   "id": "119f7fb2-4cdd-43cc-b5dd-b57633a92106",
   "metadata": {},
   "outputs": [],
   "source": [
    "@autoadd begin\n",
    "using Distributions\n",
    "using QuadGK\n",
    "using Roots\n",
    "using Plots\n",
    "default(fmt=:png)\n",
    "end"
   ]
  },
  {
   "cell_type": "code",
   "execution_count": 3,
   "id": "e0518044-f401-471d-a5ae-3c893ebc35f2",
   "metadata": {},
   "outputs": [
    {
     "data": {
      "text/plain": [
       "find_p1 (generic function with 1 method)"
      ]
     },
     "execution_count": 3,
     "metadata": {},
     "output_type": "execute_result"
    }
   ],
   "source": [
    "function pvalue_bin_score(k, n, p)\n",
    "    phat = k/n\n",
    "    sehat = sqrt(phat * (1 - phat) / n)\n",
    "    z = (phat - p) / sehat\n",
    "    2ccdf(Normal(), abs(z))\n",
    "end\n",
    "\n",
    "function expectval(f, bin::Binomial)\n",
    "    sum(f(k) * pdf(bin, k) for k in support(bin))\n",
    "end\n",
    "\n",
    "function power_bin_score(n, p0, p1; alphamin=0.0, alphamax=0.05)\n",
    "    expectval(k -> alphamin ≤ pvalue_bin_score(k, n, p0) < alphamax, Binomial(n, p1))\n",
    "end\n",
    "\n",
    "function find_p1(n, p0; power=0.8)\n",
    "    f(p1) = power_bin_score(n, p0, p1) - power\n",
    "    find_zero(f, (p0, 1.0))\n",
    "end"
   ]
  },
  {
   "cell_type": "code",
   "execution_count": 4,
   "id": "bd69106c-b00f-404a-82a4-8326f368e1d7",
   "metadata": {},
   "outputs": [
    {
     "name": "stdout",
     "output_type": "stream",
     "text": [
      "(n, p0) = (100, 0.3) = (100, 0.3)\n",
      "p1 = find_p1(n, p0) = 0.4368151627921558\n"
     ]
    },
    {
     "data": {
      "text/plain": [
       "(0.04981982912453117, 0.7999999999999999, 0.6411070821571047, 0.2593684742439168)"
      ]
     },
     "execution_count": 4,
     "metadata": {},
     "output_type": "execute_result"
    }
   ],
   "source": [
    "@show n, p0 = 100, 0.3\n",
    "@show p1 = find_p1(n, p0)\n",
    "power_bin_score(n, p0, p0), power_bin_score(n, p0, p1), power_bin_score(n, p0, p1; alphamax=0.005)/power_bin_score(n, p0, p1), power_bin_score(n, p0, p1; alphamin=0.01)/power_bin_score(n, p0, p1)"
   ]
  },
  {
   "cell_type": "code",
   "execution_count": 5,
   "id": "737a2cae-2847-4e40-9086-ee0d2db63cd8",
   "metadata": {},
   "outputs": [
    {
     "name": "stdout",
     "output_type": "stream",
     "text": [
      "(n, p0) = (1000, 0.3) = (1000, 0.3)\n",
      "p1 = find_p1(n, p0) = 0.3421419901254067\n"
     ]
    },
    {
     "data": {
      "text/plain": [
       "(0.04962173978405629, 0.7999999999999982, 0.6113539910048822, 0.2567317272576154)"
      ]
     },
     "execution_count": 5,
     "metadata": {},
     "output_type": "execute_result"
    }
   ],
   "source": [
    "@show n, p0 = 1000, 0.3\n",
    "@show p1 = find_p1(n, p0)\n",
    "power_bin_score(n, p0, p0), power_bin_score(n, p0, p1), power_bin_score(n, p0, p1; alphamax=0.005)/power_bin_score(n, p0, p1), power_bin_score(n, p0, p1; alphamin=0.01)/power_bin_score(n, p0, p1)"
   ]
  },
  {
   "cell_type": "code",
   "execution_count": 6,
   "id": "a2cc8ad0-5256-4631-8bdc-0a5ac8292bd9",
   "metadata": {},
   "outputs": [
    {
     "name": "stdout",
     "output_type": "stream",
     "text": [
      "(n, p0) = (10000, 0.3) = (10000, 0.3)\n",
      "p1 = find_p1(n, p0) = 0.3129543657640997\n"
     ]
    },
    {
     "data": {
      "text/plain": [
       "(0.04953745059457239, 0.8000000000000755, 0.6140458253493996, 0.2684503371436248)"
      ]
     },
     "execution_count": 6,
     "metadata": {},
     "output_type": "execute_result"
    }
   ],
   "source": [
    "@show n, p0 = 10000, 0.3\n",
    "@show p1 = find_p1(n, p0)\n",
    "power_bin_score(n, p0, p0), power_bin_score(n, p0, p1), power_bin_score(n, p0, p1; alphamax=0.005)/power_bin_score(n, p0, p1), power_bin_score(n, p0, p1; alphamin=0.01)/power_bin_score(n, p0, p1)"
   ]
  },
  {
   "cell_type": "code",
   "execution_count": 7,
   "id": "35f9cb3f-58cf-4543-8e05-faf84ea7b4d6",
   "metadata": {},
   "outputs": [
    {
     "name": "stdout",
     "output_type": "stream",
     "text": [
      "(n, p0) = (10000, 0.03) = (10000, 0.03)\n",
      "p1 = find_p1(n, p0) = 0.035103295759015204\n"
     ]
    },
    {
     "data": {
      "text/plain": [
       "(0.050821946946857655, 0.8000000000000089, 0.6081515398107427, 0.28383718030562205)"
      ]
     },
     "execution_count": 7,
     "metadata": {},
     "output_type": "execute_result"
    }
   ],
   "source": [
    "@show n, p0 = 10000, 0.03\n",
    "@show p1 = find_p1(n, p0)\n",
    "power_bin_score(n, p0, p0), power_bin_score(n, p0, p1), power_bin_score(n, p0, p1; alphamax=0.005)/power_bin_score(n, p0, p1), power_bin_score(n, p0, p1; alphamin=0.01)/power_bin_score(n, p0, p1)"
   ]
  },
  {
   "cell_type": "code",
   "execution_count": 8,
   "id": "b2759bb0-f5d5-4e8b-a1eb-4840aa88116c",
   "metadata": {},
   "outputs": [
    {
     "name": "stdout",
     "output_type": "stream",
     "text": [
      "(n, p0) = (10000, 0.003) = (10000, 0.003)\n",
      "p1 = find_p1(n, p0) = 0.004838379254309776\n"
     ]
    },
    {
     "data": {
      "text/plain": [
       "(0.06887322917787866, 0.7999999999999938, 0.5337580144635746, 0.32331205827294096)"
      ]
     },
     "execution_count": 8,
     "metadata": {},
     "output_type": "execute_result"
    }
   ],
   "source": [
    "@show n, p0 = 10000, 0.003\n",
    "@show p1 = find_p1(n, p0)\n",
    "power_bin_score(n, p0, p0), power_bin_score(n, p0, p1), power_bin_score(n, p0, p1; alphamax=0.005)/power_bin_score(n, p0, p1), power_bin_score(n, p0, p1; alphamin=0.01)/power_bin_score(n, p0, p1)"
   ]
  },
  {
   "cell_type": "code",
   "execution_count": 9,
   "id": "d939b8f9-c5c2-4186-9819-2b1c9961b6dd",
   "metadata": {},
   "outputs": [
    {
     "name": "stdout",
     "output_type": "stream",
     "text": [
      "(n, p0) = (10000, 0.0003) = (10000, 0.0003)\n",
      "p1 = find_p1(n, p0) = 0.0011376080285137112\n"
     ]
    },
    {
     "data": {
      "text/plain": [
       "(0.20290037857217139, 0.7999999999999976, 0.3182241268463505, 0.41803583730065064)"
      ]
     },
     "execution_count": 9,
     "metadata": {},
     "output_type": "execute_result"
    }
   ],
   "source": [
    "@show n, p0 = 10000, 0.0003\n",
    "@show p1 = find_p1(n, p0)\n",
    "power_bin_score(n, p0, p0), power_bin_score(n, p0, p1), power_bin_score(n, p0, p1; alphamax=0.005)/power_bin_score(n, p0, p1), power_bin_score(n, p0, p1; alphamin=0.01)/power_bin_score(n, p0, p1)"
   ]
  },
  {
   "cell_type": "code",
   "execution_count": 10,
   "id": "6dd02692-d887-4f24-af35-fdeef5c2bbb6",
   "metadata": {},
   "outputs": [
    {
     "data": {
      "text/plain": [
       "find_mu1 (generic function with 1 method)"
      ]
     },
     "execution_count": 10,
     "metadata": {},
     "output_type": "execute_result"
    }
   ],
   "source": [
    "function pvalue_ztest(xbar, n)\n",
    "    2ccdf(Normal(0, 1/sqrt(n)), abs(xbar))\n",
    "end\n",
    "\n",
    "function power_ztest(n, mu1; alphamin=0.0, alphamax=0.05)\n",
    "    a, b, c, d = quantile.(Normal(0, 1/sqrt(n)), (alphamin/2, alphamax/2, 1-alphamax/2, 1-alphamin/2))\n",
    "    normal1 = Normal(mu1, 1/sqrt(n))\n",
    "    cdf(normal1, b) - cdf(normal1, a) + ccdf(normal1, c) - ccdf(normal1, d)\n",
    "end\n",
    "\n",
    "function find_mu1(n; power=0.8)\n",
    "    f(mu1) = power_ztest(n, mu1) - power\n",
    "    find_zero(f, (0.0, 10.0))\n",
    "end"
   ]
  },
  {
   "cell_type": "code",
   "execution_count": 11,
   "id": "f207e472-c257-4e2b-b721-e9dd1f659d43",
   "metadata": {},
   "outputs": [
    {
     "name": "stdout",
     "output_type": "stream",
     "text": [
      "n = 100 = 100\n",
      "mu1 = find_mu1(n) = 0.28015817870135823\n"
     ]
    },
    {
     "data": {
      "text/plain": [
       "(0.0499999999999995, 0.8, 0.6222812438850653, 0.26337116258354565)"
      ]
     },
     "execution_count": 11,
     "metadata": {},
     "output_type": "execute_result"
    }
   ],
   "source": [
    "@show n = 100\n",
    "@show mu1 = find_mu1(n)\n",
    "power_ztest(n, 0.0), power_ztest(n, mu1), power_ztest(n, mu1; alphamax=0.005)/power_ztest(n, mu1), power_ztest(n, mu1; alphamin=0.01)/power_ztest(n, mu1)"
   ]
  },
  {
   "cell_type": "code",
   "execution_count": 12,
   "id": "c6d74309-84a0-4a1c-9147-67fd135ea25a",
   "metadata": {},
   "outputs": [
    {
     "name": "stdout",
     "output_type": "stream",
     "text": [
      "n = 1000 = 1000\n",
      "mu1 = find_mu1(n) = 0.08859379498207656\n"
     ]
    },
    {
     "data": {
      "text/plain": [
       "(0.0499999999999995, 0.8, 0.6222812438850652, 0.2633711625835458)"
      ]
     },
     "execution_count": 12,
     "metadata": {},
     "output_type": "execute_result"
    }
   ],
   "source": [
    "@show n = 1000\n",
    "@show mu1 = find_mu1(n)\n",
    "power_ztest(n, 0.0), power_ztest(n, mu1), power_ztest(n, mu1; alphamax=0.005)/power_ztest(n, mu1), power_ztest(n, mu1; alphamin=0.01)/power_ztest(n, mu1)"
   ]
  },
  {
   "cell_type": "code",
   "execution_count": 13,
   "id": "17bb659e-43fe-4946-ac3c-13a4dd437331",
   "metadata": {},
   "outputs": [
    {
     "name": "stdout",
     "output_type": "stream",
     "text": [
      "n = 10000 = 10000\n",
      "mu1 = find_mu1(n) = 0.028015817870135826\n"
     ]
    },
    {
     "data": {
      "text/plain": [
       "(0.04999999999999948, 0.8, 0.6222812438850656, 0.26337116258354554)"
      ]
     },
     "execution_count": 13,
     "metadata": {},
     "output_type": "execute_result"
    }
   ],
   "source": [
    "@show n = 10000\n",
    "@show mu1 = find_mu1(n)\n",
    "power_ztest(n, 0.0), power_ztest(n, mu1), power_ztest(n, mu1; alphamax=0.005)/power_ztest(n, mu1), power_ztest(n, mu1; alphamin=0.01)/power_ztest(n, mu1)"
   ]
  },
  {
   "cell_type": "code",
   "execution_count": null,
   "id": "4f9d6898-1a80-44e6-a219-084b5b0f5690",
   "metadata": {},
   "outputs": [],
   "source": []
  }
 ],
 "metadata": {
  "jupytext": {
   "encoding": "# -*- coding: utf-8 -*-",
   "formats": "ipynb,jl:hydrogen"
  },
  "kernelspec": {
   "display_name": "Julia current stable release",
   "language": "julia",
   "name": "julia"
  },
  "language_info": {
   "file_extension": ".jl",
   "mimetype": "application/julia",
   "name": "julia",
   "version": "1.11.5"
  }
 },
 "nbformat": 4,
 "nbformat_minor": 5
}
