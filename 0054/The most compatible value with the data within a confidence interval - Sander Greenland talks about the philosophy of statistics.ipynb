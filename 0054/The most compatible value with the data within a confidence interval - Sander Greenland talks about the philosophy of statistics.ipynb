{
 "cells": [
  {
   "cell_type": "markdown",
   "id": "85eec6fb",
   "metadata": {},
   "source": [
    "https://discourse.datamethods.org/t/the-most-compatible-value-with-the-data-within-a-confidence-interval/4281/14\n",
    "\n",
    "<p>ソースとこれまでの会話履歴に基づいて、Greenland氏（またはSander Greenland氏）の統計学の「哲学」に対する否定的な考え方について詳しく説明します。</p>\n",
    "<p>Greenland氏の基本的なスタンスは、統計学の手法を特定の「哲学」として捉えるのではなく、「<strong>ツールキット</strong>」として扱うべきであるというものです。彼は、いかなる統計的視点（頻度論、ベイズ論、尤度論など）も、一般研究においては「<strong>深刻に不完全</strong>」であると考えています。特定の視点に「<strong>至上性</strong>」を持たせることは、「<strong>危険な思考の罠</strong>」を冒すことになり、その視点が見落としていることを見逃し、強調していることを過大評価することから生じる認知的バイアスを引き起こす可能性があると警告しています。この注意は、哲学としてではなく<strong>ツールキット</strong>として扱われる限り、あらゆる統計システムに当てはまります。</p>\n",
    "<p>彼は自身を「ベイズ決定理論家」のような特定のラベルで呼ぶこともしません。これは、彼の<strong>パースペクティブ/ツールキット</strong>という見方に照らしてのことです。しかし、彼はベイズ決定理論を含め、頻度論的なFisherianおよびNeyman-Pearson-Waldの理論の<strong>真剣な学習は不可欠</strong>であると考えています。</p>\n",
    "<p>Greenland氏の統計学における他の参加者の意見や提示された特定の考え方への否定的な、あるいは批判的な見解は、主に以下の点に集約されます。</p>\n",
    "<ol>\n",
    "<li>\n",
    "<p><strong>「データが語るもの」という考え方への反対</strong></p>\n",
    "<ul>\n",
    "<li>R_Cubed氏が、Richard Royall氏の見解に同意し、「<strong>データが語るもの</strong>」という問いは原理的に実験者の事前情報 (prior) に依存すべきではないと述べたのに対し、Greenland氏はこの考え方に強く異議を唱えています。</li>\n",
    "<li>Greenland氏のしばしば述べる立場は「<strong>データは何も語らない</strong>」というものです。彼はデータはメディアの中の単なるビットや表の中の数値としてそこに存在しているだけだと述べています。データが事前情報なしに何かを語るという主張は、積み上げられた木材が家であると言うのに似ていると比喩的に表現しています。</li>\n",
    "<li>より正確には、彼はこの主張が、Box氏（そしてその後Gelman氏など多くの人々）の指摘する、「<strong>データ確率モデル（あらゆるアプローチが何らかの形で使用するもの）自体が、パラメーターが与えられた場合のデータに対する事前分布から構築されたもの</strong>」であるという点を考慮に入れていないことに基づいていると考えています。そのため、データ確率モデルは分析者によって大きく異なることがよくあります。</li>\n",
    "<li>データとその統計量によって実際の推論ターゲットについて語られるとされることは、観測者がデータの生成のされ方に関する仮定（推定関数や尤度関数によって大まかに描写または隠されている）と、おそらくその関数外部の情報（事前分布によって大まかに描写または隠されている）を通して<strong>フィルタリングされた解釈</strong>に過ぎないとしています。</li>\n",
    "</ul>\n",
    "</li>\n",
    "<br>\n",
    "<li>\n",
    "<p><strong>「意外度(surprise)」という言葉の特定の用法への不快感と批判</strong></p>\n",
    "<ul>\n",
    "<li>R_Cubed氏が、<strong>信頼区間の両端の値</strong>が<strong>最尤推定値 (maximum likelihood estimate)</strong>よりも「<strong>より意外な (more surprising)</strong>」と表現できると示唆したことに対し、Greenland氏はこの「意外度(surprise)」の用法に「<strong>少し不快感がある</strong>」と述べています。これは、データの確率とパラメーターの確率を混同する（反転させる）危険性があるためです。</li>\n",
    "<li>彼は、$-\\log(p)$ で測定される<strong>その意外度</strong>は、そのP値が計算されたモデルが正しければ、<strong>観測されたデータに対する意外度</strong>であると説明しています。<strong>信頼区間の両端の値</strong>が<strong>最尤推定値 (maximum likelihood estimate)<strong>よりも「<strong>より意外な</strong>」と言うことは、$-\\log(p)$の解釈を逆転させて、データが与えられたときのパラメーター値に関するステートメントとして捉えられかねないと指摘しています。それは</strong>事後意外度</strong>（真のパラメーター値が、与えられたパラメーター値から切り捨てられた事後分布の裾に含まれることが判明した場合に持つ<strong>その意外度</strong>）を指すことになり、CIがベイズの<strong>credible posterior interval</strong>である場合にのみ弁護可能であるとしています。しかし、それが単なる頻度論的なCIであれば、その説明は<strong>不正確である</strong>と明確に述べています。</li>\n",
    "</ul>\n",
    "</li>\n",
    "<br>\n",
    "<li>\n",
    "<p><strong>P値関数に関するFraser氏の主張への強い反対</strong></p>\n",
    "<ul>\n",
    "<li>Greenland氏は、Fraser氏の論文からの引用「<strong>完全なp値関数はユーザーが知る権利があるはずの測定情報をすべて記録している</strong>」という主張に対して、「<strong>No, no, no!</strong>」と強く反対しています。</li>\n",
    "<li>彼は、真の値に関するいかなる結論も<strong>事後</strong>推論であり、それが<strong>事後</strong>確率と数値的に一致する場合を除いて、P値によって形式化されることは全くないと述べています。</li>\n",
    "<li>また、推論を形成するためには、ユーザーはP値関数だけでなく、研究の選択および測定プロトコルのあらゆる詳細、そしてP値を計算するために使用されたあらゆる仮定についての<strong>批判的な議論を含む、はるかに多くの情報</strong>を知る権利を持つべきだと主張しています。<strong>完全なp値関数はユーザーが知る権利があるはずの測定情報をすべて記録している</strong>という文章を、「<strong>学術的なナンセンスの縮図である</strong>」と断言しています。</li>\n",
    "</ul>\n",
    "</li>\n",
    "<br>\n",
    "<li>\n",
    "<p><strong>統計量全般の「埋め込みモデル(embedding model)」への依存性に対する懸念</strong></p>\n",
    "<ul>\n",
    "<li>Greenland氏は、あらゆる統計的測定量（尤度比やP値など）のサイズが、背景となる制約や補助的な仮定のセットである「<strong>埋め込みモデル</strong>」（それをAと呼ぶ）に<strong>極めて敏感</strong>であるという問題を指摘しています。そして、このAは<strong>決して正しいと分かっているものではない</strong>（そしてGreenland氏の仕事においては決して「正しい」ものではなく、単なる「作業モデル」である）と述べています。</li>\n",
    "<li>2つのパラメーター値b1とb2があった場合、b1の尤度がb2より高いことが、どれだけAの<strong>アーティファクト</strong>であるか確信できないとしています。それらの統計量は、これらの測定量が<strong>どのようにAに依存するかについては何も教えてくれない</strong>と述べており、これは「<strong>統計学全体の負担となる注意点</strong>」であるとしています。</li>\n",
    "</ul>\n",
    "</li>\n",
    "</ol>\n",
    "<p>これらの点から、Greenland氏は特定の統計的枠組みを唯一の真実とする「哲学」として捉えることに否定的であり、むしろそれらをツールのセットとして理解し、その限界（特に背景にある仮定への依存性）を深く認識することの重要性を強調していると言えます。彼は、データ自体は受動的であり、そこから得られる結論は常に観測者と彼らの仮定によってフィルタリングされた解釈であるという視点を堅持しています。</p>"
   ]
  }
 ],
 "metadata": {
  "kernelspec": {
   "display_name": "Julia current stable release",
   "language": "julia",
   "name": "julia"
  },
  "language_info": {
   "file_extension": ".jl",
   "mimetype": "application/julia",
   "name": "julia",
   "version": "1.11.5"
  },
  "toc": {
   "base_numbering": 1,
   "nav_menu": {},
   "number_sections": false,
   "sideBar": true,
   "skip_h1_title": true,
   "title_cell": "Table of Contents",
   "title_sidebar": "Contents",
   "toc_cell": false,
   "toc_position": {},
   "toc_section_display": true,
   "toc_window_display": false
  }
 },
 "nbformat": 4,
 "nbformat_minor": 5
}
