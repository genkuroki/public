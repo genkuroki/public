{
 "cells": [
  {
   "cell_type": "markdown",
   "id": "563fb038-b708-462a-8c93-5363cde77c44",
   "metadata": {},
   "source": [
    "https://x.com/dannchu/status/1922545316819014000"
   ]
  },
  {
   "cell_type": "code",
   "execution_count": 1,
   "id": "1e315e9d-61bb-4f6d-b8e5-c3e98958c39a",
   "metadata": {},
   "outputs": [
    {
     "name": "stdout",
     "output_type": "stream",
     "text": [
      "Julia Version 1.11.5\n",
      "Commit 760b2e5b73 (2025-04-14 06:53 UTC)\n",
      "Build Info:\n",
      "  Official https://julialang.org/ release\n",
      "Platform Info:\n",
      "  OS: Windows (x86_64-w64-mingw32)\n",
      "  CPU: 12 × Intel(R) Core(TM) i7-10750H CPU @ 2.60GHz\n",
      "  WORD_SIZE: 64\n",
      "  LLVM: libLLVM-16.0.6 (ORCJIT, skylake)\n",
      "Threads: 12 default, 0 interactive, 6 GC (on 12 virtual cores)\n",
      "Environment:\n",
      "  JULIA_DEPOT_PATH = D:\\.julia\n",
      "  JULIA_NUM_PRECOMPILE_TASKS = 4\n",
      "  JULIA_NUM_THREADS = 12\n",
      "  JULIA_PYTHONCALL_EXE = D:\\.julia\\conda\\3\\python.exe\n"
     ]
    }
   ],
   "source": [
    "versioninfo()"
   ]
  },
  {
   "cell_type": "code",
   "execution_count": 2,
   "id": "4bb83252-2249-4542-8ad9-53b062a09432",
   "metadata": {},
   "outputs": [
    {
     "name": "stdout",
     "output_type": "stream",
     "text": [
      "Benchmarking...\n",
      "  14.060 s (5 allocations: 5.96 GiB)\n",
      "  2.038 s (5 allocations: 5.96 GiB)\n",
      "  2.029 s (5 allocations: 5.96 GiB)\n",
      "  1.987 s (6 allocations: 5.96 GiB)\n"
     ]
    }
   ],
   "source": [
    "using BenchmarkTools\n",
    "\n",
    "function row_major()\n",
    "    n = 20_000\n",
    "    x = randn(n, n)\n",
    "    y = similar(x)\n",
    "    @inbounds for r in 1:n\n",
    "        for c in 1:n\n",
    "            y[r, c] = max(0, x[r, c])\n",
    "        end\n",
    "    end\n",
    "    return nothing\n",
    "end\n",
    "\n",
    "function col_major()\n",
    "    n = 20_000\n",
    "    x = randn(n, n)\n",
    "    y = similar(x)\n",
    "    @inbounds for c in 1:n\n",
    "        for r in 1:n\n",
    "            y[r, c] = max(0, x[r, c])\n",
    "        end\n",
    "    end\n",
    "    return nothing\n",
    "end\n",
    "\n",
    "function use_eachindex()\n",
    "    n = 20_000\n",
    "    x = randn(n, n)\n",
    "    y = similar(x)\n",
    "    @inbounds for i in eachindex(x)\n",
    "        y[i] = max(0, x[i])\n",
    "    end\n",
    "    return nothing\n",
    "end\n",
    "\n",
    "function max0dot()\n",
    "    n = 20_000\n",
    "    x = randn(n, n)\n",
    "    y = max.(0, x)\n",
    "    return nothing\n",
    "end\n",
    "\n",
    "println(\"Benchmarking...\")\n",
    "\n",
    "@btime row_major()\n",
    "@btime col_major()\n",
    "@btime use_eachindex()\n",
    "@btime max0dot()"
   ]
  },
  {
   "cell_type": "code",
   "execution_count": null,
   "id": "f4a6e06a-0cd2-4d8c-bab5-968cf5a37b00",
   "metadata": {},
   "outputs": [],
   "source": []
  }
 ],
 "metadata": {
  "jupytext": {
   "formats": "ipynb,jl:hydrogen"
  },
  "kernelspec": {
   "display_name": "Julia current stable release",
   "language": "julia",
   "name": "julia"
  },
  "language_info": {
   "file_extension": ".jl",
   "mimetype": "application/julia",
   "name": "julia",
   "version": "1.11.5"
  }
 },
 "nbformat": 4,
 "nbformat_minor": 5
}
