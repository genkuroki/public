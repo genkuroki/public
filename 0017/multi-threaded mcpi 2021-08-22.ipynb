{
 "cells": [
  {
   "cell_type": "code",
   "execution_count": 1,
   "id": "9d62399e-5e4b-4c36-9501-7e8a2b78624f",
   "metadata": {},
   "outputs": [],
   "source": [
    "using BenchmarkTools"
   ]
  },
  {
   "cell_type": "code",
   "execution_count": 2,
   "id": "cb569355-bc50-4989-8c40-f5df0a86c832",
   "metadata": {},
   "outputs": [
    {
     "name": "stdout",
     "output_type": "stream",
     "text": [
      "Julia v1.6.2\n",
      "mcpi(10^8):  222.733 ms (12 allocations: 19.66 KiB)\n"
     ]
    },
    {
     "data": {
      "text/plain": [
       "3.14193032"
      ]
     },
     "execution_count": 2,
     "metadata": {},
     "output_type": "execute_result"
    }
   ],
   "source": [
    "using Random\n",
    "\n",
    "function mcpi(N)\n",
    "    rng = MersenneTwister()\n",
    "    c = 0\n",
    "    for _ in 1:N\n",
    "        c += rand(rng)^2 + rand(rng)^2 ≤ 1\n",
    "    end\n",
    "    4c/N\n",
    "end\n",
    "\n",
    "println(\"Julia v\", VERSION)\n",
    "print(\"mcpi(10^8):\")\n",
    "@btime mcpi(10^8)"
   ]
  },
  {
   "cell_type": "markdown",
   "id": "6fb492fa-53a3-416a-9f05-fe0d52b8b684",
   "metadata": {},
   "source": [
    "https://nbviewer.jupyter.org/gist/genkuroki/ab5b8789d099ca65a4ea3e0281dc4be7"
   ]
  },
  {
   "cell_type": "code",
   "execution_count": 3,
   "id": "9c6595fb-8c33-46fd-b415-fc6b21612eaf",
   "metadata": {},
   "outputs": [
    {
     "name": "stdout",
     "output_type": "stream",
     "text": [
      "Julia v1.6.2\n",
      "Threads.nthreads() = 12\n",
      "pi_mcmc_julia5(10^8):  37.794 ms (207 allocations: 242.33 KiB)\n"
     ]
    },
    {
     "data": {
      "text/plain": [
       "3.14158332"
      ]
     },
     "execution_count": 3,
     "metadata": {},
     "output_type": "execute_result"
    }
   ],
   "source": [
    "using Base.Threads\n",
    "using Distributed: splitrange\n",
    "using Random\n",
    "\n",
    "function pi_mcmc_julia5(N)\n",
    "    ranges = splitrange(1, N, nthreads())\n",
    "    a = Atomic{Int}(0)\n",
    "    @threads for ran in ranges\n",
    "        rng = MersenneTwister()\n",
    "        c = 0\n",
    "        for _ in ran\n",
    "            c += rand(rng)^2 + rand(rng)^2 ≤ 1\n",
    "        end\n",
    "        atomic_add!(a, c)\n",
    "    end\n",
    "    4a[]/N\n",
    "end\n",
    "\n",
    "println(\"Julia v\", VERSION)\n",
    "@show Threads.nthreads()\n",
    "print(\"pi_mcmc_julia5(10^8):\")\n",
    "@btime pi_mcmc_julia5(10^8)"
   ]
  },
  {
   "cell_type": "code",
   "execution_count": 4,
   "id": "b2400b1b-27c2-4802-a122-fc617b448145",
   "metadata": {},
   "outputs": [
    {
     "data": {
      "text/latex": [
       "\\begin{verbatim}\n",
       "@my_threads\n",
       "\\end{verbatim}\n",
       "A macro to parallelize a \\texttt{for} loop to run with multiple threads.  It splits the iteration space among multiple tasks with \\texttt{prebody} and \\texttt{postbody}. It runs those tasks on threads according to a scheduling policy. Usage:\n",
       "\n",
       "\\begin{verbatim}\n",
       "@my_threads [schedule] begin\n",
       "    prebody\n",
       "end for ...\n",
       "    ...\n",
       "end begin\n",
       "    postbody\n",
       "end\n",
       "\\end{verbatim}\n"
      ],
      "text/markdown": [
       "```\n",
       "@my_threads\n",
       "```\n",
       "\n",
       "A macro to parallelize a `for` loop to run with multiple threads.  It splits the iteration space among multiple tasks with `prebody` and `postbody`. It runs those tasks on threads according to a scheduling policy. Usage:\n",
       "\n",
       "```julia\n",
       "@my_threads [schedule] begin\n",
       "    prebody\n",
       "end for ...\n",
       "    ...\n",
       "end begin\n",
       "    postbody\n",
       "end\n",
       "```\n"
      ],
      "text/plain": [
       "\u001b[36m  @my_threads\u001b[39m\n",
       "\n",
       "  A macro to parallelize a \u001b[36mfor\u001b[39m loop to run with multiple threads. It splits\n",
       "  the iteration space among multiple tasks with \u001b[36mprebody\u001b[39m and \u001b[36mpostbody\u001b[39m. It runs\n",
       "  those tasks on threads according to a scheduling policy. Usage:\n",
       "\n",
       "\u001b[36m  @my_threads [schedule] begin\u001b[39m\n",
       "\u001b[36m      prebody\u001b[39m\n",
       "\u001b[36m  end for ...\u001b[39m\n",
       "\u001b[36m      ...\u001b[39m\n",
       "\u001b[36m  end begin\u001b[39m\n",
       "\u001b[36m      postbody\u001b[39m\n",
       "\u001b[36m  end\u001b[39m"
      ]
     },
     "execution_count": 4,
     "metadata": {},
     "output_type": "execute_result"
    }
   ],
   "source": [
    "# The following code is a modified version of\n",
    "# \n",
    "#    function _threadsfor(iter, lbody, schedule) \n",
    "#    macro threads(args...)\n",
    "#\n",
    "# in https://github.com/JuliaLang/julia/blob/9f3265399227fbfc4f0160ec3592a9262bd3eb5f/base/threadingconstructs.jl\n",
    "#\n",
    "# Its license is MIT: https://julialang.org/license\n",
    "\n",
    "using Base.Threads\n",
    "using Base.Threads: threading_run\n",
    "\n",
    "function _my_threadsfor(iter, lbody, prebody, postbody, schedule)\n",
    "    lidx = iter.args[1]         # index\n",
    "    range = iter.args[2]\n",
    "    quote\n",
    "        local threadsfor_fun\n",
    "        let range = $(esc(range))\n",
    "        function threadsfor_fun(onethread=false)\n",
    "            r = range # Load into local variable\n",
    "            lenr = length(r)\n",
    "            # divide loop iterations among threads\n",
    "            if onethread\n",
    "                tid = 1\n",
    "                len, rem = lenr, 0\n",
    "            else\n",
    "                tid = threadid()\n",
    "                len, rem = divrem(lenr, nthreads())\n",
    "            end\n",
    "            # not enough iterations for all the threads?\n",
    "            if len == 0\n",
    "                if tid > rem\n",
    "                    return\n",
    "                end\n",
    "                len, rem = 1, 0\n",
    "            end\n",
    "            # compute this thread's iterations\n",
    "            f = firstindex(r) + ((tid-1) * len)\n",
    "            l = f + len - 1\n",
    "            # distribute remaining iterations evenly\n",
    "            if rem > 0\n",
    "                if tid <= rem\n",
    "                    f = f + (tid-1)\n",
    "                    l = l + tid\n",
    "                else\n",
    "                    f = f + rem\n",
    "                    l = l + rem\n",
    "                end\n",
    "            end\n",
    "            # run prebody\n",
    "            $(esc(prebody))\n",
    "            # run this thread's iterations\n",
    "            for i = f:l\n",
    "                local $(esc(lidx)) = @inbounds r[i]\n",
    "                $(esc(lbody))\n",
    "            end\n",
    "            # run postbody\n",
    "            $(esc(postbody))\n",
    "        end\n",
    "        end\n",
    "        if threadid() != 1 || ccall(:jl_in_threaded_region, Cint, ()) != 0\n",
    "            $(if schedule === :static\n",
    "              :(error(\"`@my_threads :static` can only be used from thread 1 and not nested\"))\n",
    "              else\n",
    "              # only use threads when called from thread 1, outside @threads\n",
    "              :(Base.invokelatest(threadsfor_fun, true))\n",
    "              end)\n",
    "        else\n",
    "            threading_run(threadsfor_fun)\n",
    "        end\n",
    "        nothing\n",
    "    end\n",
    "end\n",
    "\n",
    "\"\"\"\n",
    "    @my_threads\n",
    "A macro to parallelize a `for` loop to run with multiple threads. \n",
    "It splits the iteration space among multiple tasks with `prebody` and `postbody`.\n",
    "It runs those tasks on threads according to a scheduling policy.\n",
    "Usage:\n",
    "```julia\n",
    "@my_threads [schedule] begin\n",
    "    prebody\n",
    "end for ...\n",
    "    ...\n",
    "end begin\n",
    "    postbody\n",
    "end\n",
    "```\n",
    "\"\"\"\n",
    "macro my_threads(args...)\n",
    "    na = length(args)\n",
    "    if na == 4\n",
    "        sched, prebody, ex, bostbody = args\n",
    "        if sched isa QuoteNode\n",
    "            sched = sched.value\n",
    "        elseif sched isa Symbol\n",
    "            # for now only allow quoted symbols\n",
    "            sched = nothing\n",
    "        end\n",
    "        if sched !== :static\n",
    "            throw(ArgumentError(\"unsupported schedule argument in @threads\"))\n",
    "        end\n",
    "    elseif na == 3\n",
    "        sched = :default\n",
    "        prebody, ex, postbody = args\n",
    "    else\n",
    "        throw(ArgumentError(\"wrong number of arguments in @my_threads\"))\n",
    "    end\n",
    "    if !(isa(ex, Expr) && ex.head === :for)\n",
    "        throw(ArgumentError(\"@my_threads requires a `for` loop expression\"))\n",
    "    end\n",
    "    if !(ex.args[1] isa Expr && ex.args[1].head === :(=))\n",
    "        throw(ArgumentError(\"nested outer loops are not currently supported by @my_threads\"))\n",
    "    end\n",
    "    return _my_threadsfor(ex.args[1], ex.args[2], prebody, postbody, sched)\n",
    "end\n",
    "\n",
    "@doc @my_threads"
   ]
  },
  {
   "cell_type": "markdown",
   "id": "95e48366-8862-4a96-86f7-686ee4ec8f4d",
   "metadata": {},
   "source": [
    "https://nbviewer.jupyter.org/github/genkuroki/MyUtils.jl/blob/main/MyUtils.ipynb"
   ]
  },
  {
   "cell_type": "code",
   "execution_count": 5,
   "id": "e634c873-87aa-40e5-98a6-f53d8dbec1ca",
   "metadata": {},
   "outputs": [
    {
     "name": "stdout",
     "output_type": "stream",
     "text": [
      "Julia v1.6.2\n",
      "Threads.nthreads() = 12\n",
      "mcpi_my_threads(10^8):  36.002 ms (217 allocations: 242.23 KiB)\n"
     ]
    },
    {
     "data": {
      "text/plain": [
       "3.14150104"
      ]
     },
     "execution_count": 5,
     "metadata": {},
     "output_type": "execute_result"
    }
   ],
   "source": [
    "using Random\n",
    "\n",
    "function mcpi_my_threads(N)\n",
    "    a = Atomic{Int}(0)\n",
    "    @my_threads begin\n",
    "        rng = MersenneTwister()\n",
    "        c = 0\n",
    "    end for _ in 1:N\n",
    "        c += rand(rng)^2 + rand(rng)^2 ≤ 1\n",
    "    end begin\n",
    "        atomic_add!(a, c)\n",
    "    end\n",
    "    4a[]/N\n",
    "end\n",
    "\n",
    "println(\"Julia v\", VERSION)\n",
    "@show Threads.nthreads()\n",
    "print(\"mcpi_my_threads(10^8):\")\n",
    "@btime mcpi_my_threads(10^8)"
   ]
  },
  {
   "cell_type": "code",
   "execution_count": null,
   "id": "6309ade9-79c6-4679-bb44-62e6d32a0933",
   "metadata": {},
   "outputs": [],
   "source": []
  }
 ],
 "metadata": {
  "jupytext": {
   "formats": "ipynb,auto:hydrogen"
  },
  "kernelspec": {
   "display_name": "Julia 1.6.2",
   "language": "julia",
   "name": "julia-1.6"
  },
  "language_info": {
   "file_extension": ".jl",
   "mimetype": "application/julia",
   "name": "julia",
   "version": "1.6.2"
  }
 },
 "nbformat": 4,
 "nbformat_minor": 5
}
