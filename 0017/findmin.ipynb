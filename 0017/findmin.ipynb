{
 "cells": [
  {
   "cell_type": "code",
   "execution_count": 1,
   "id": "558660ed-195b-497c-b12e-070f56e00338",
   "metadata": {},
   "outputs": [],
   "source": [
    "#Base.findmin(f, X) = mapfoldl(x -> (f(x), x), min, X)"
   ]
  },
  {
   "cell_type": "code",
   "execution_count": 2,
   "id": "286f1cfa-88b0-4985-8bae-9b857eda46ee",
   "metadata": {},
   "outputs": [],
   "source": [
    "#ts = range(0, 2; length=201)\n",
    "#findmin(sinpi, ts)"
   ]
  },
  {
   "cell_type": "code",
   "execution_count": 3,
   "id": "4725f1a2-a0b2-4659-8300-f6bc1512afb5",
   "metadata": {},
   "outputs": [],
   "source": [
    "#rosenbrock2d((x, y),) = (1 - x)^2 + 100(y - x^2)^2\n",
    "#xs = ys = range(-5, 5; length=1001)\n",
    "#findmin(rosenbrock2d, Iterators.product(xs, ys))"
   ]
  },
  {
   "cell_type": "code",
   "execution_count": 4,
   "id": "a62f3ec9-5a4c-4715-b8f6-1ac0aab43790",
   "metadata": {},
   "outputs": [
    {
     "data": {
      "text/plain": [
       "(0.0, (1.0, 1.0))"
      ]
     },
     "execution_count": 4,
     "metadata": {},
     "output_type": "execute_result"
    }
   ],
   "source": [
    "struct Foo{F} f::F end\n",
    "Base.findmin(foo::Foo, X) = mapfoldl(x -> (foo.f(x), x), min, X)\n",
    "\n",
    "rosenbrock2d((x, y),) = (1 - x)^2 + 100(y - x^2)^2\n",
    "xs = ys = range(-5, 5; length=1001)\n",
    "findmin(Foo(rosenbrock2d), Iterators.product(xs, ys))"
   ]
  },
  {
   "cell_type": "code",
   "execution_count": 5,
   "id": "3a91484b-2515-42a4-86ad-4da928b0b68e",
   "metadata": {},
   "outputs": [
    {
     "data": {
      "text/plain": [
       "(0.0, (1.0, 1.0))"
      ]
     },
     "execution_count": 5,
     "metadata": {},
     "output_type": "execute_result"
    }
   ],
   "source": [
    "module My\n",
    "findmin(f, X) = mapfoldl(x -> (f(x), x), min, X)\n",
    "end\n",
    "\n",
    "rosenbrock2d((x, y),) = (1 - x)^2 + 100(y - x^2)^2\n",
    "xs = ys = range(-5, 5; length=1001)\n",
    "My.findmin(rosenbrock2d, Iterators.product(xs, ys))"
   ]
  },
  {
   "cell_type": "code",
   "execution_count": 6,
   "id": "609bb804-d2d6-40b5-abbc-59e71c0d47d2",
   "metadata": {},
   "outputs": [
    {
     "ename": "LoadError",
     "evalue": "MethodError: no method matching keys(::Base.Iterators.ProductIterator{Tuple{StepRangeLen{Float64, Base.TwicePrecision{Float64}, Base.TwicePrecision{Float64}}, StepRangeLen{Float64, Base.TwicePrecision{Float64}, Base.TwicePrecision{Float64}}}})\n\u001b[0mClosest candidates are:\n\u001b[0m  keys(\u001b[91m::IOContext\u001b[39m) at show.jl:345\n\u001b[0m  keys(\u001b[91m::Number\u001b[39m) at number.jl:93\n\u001b[0m  keys(\u001b[91m::Tuple\u001b[39m) at tuple.jl:72\n\u001b[0m  ...",
     "output_type": "error",
     "traceback": [
      "MethodError: no method matching keys(::Base.Iterators.ProductIterator{Tuple{StepRangeLen{Float64, Base.TwicePrecision{Float64}, Base.TwicePrecision{Float64}}, StepRangeLen{Float64, Base.TwicePrecision{Float64}, Base.TwicePrecision{Float64}}}})\n\u001b[0mClosest candidates are:\n\u001b[0m  keys(\u001b[91m::IOContext\u001b[39m) at show.jl:345\n\u001b[0m  keys(\u001b[91m::Number\u001b[39m) at number.jl:93\n\u001b[0m  keys(\u001b[91m::Tuple\u001b[39m) at tuple.jl:72\n\u001b[0m  ...",
      "",
      "Stacktrace:",
      " [1] pairs(collection::Base.Iterators.ProductIterator{Tuple{StepRangeLen{Float64, Base.TwicePrecision{Float64}, Base.TwicePrecision{Float64}}, StepRangeLen{Float64, Base.TwicePrecision{Float64}, Base.TwicePrecision{Float64}}}})",
      "   @ Base .\\abstractdict.jl:138",
      " [2] findmin(f::typeof(rosenbrock2d), domain::Base.Iterators.ProductIterator{Tuple{StepRangeLen{Float64, Base.TwicePrecision{Float64}, Base.TwicePrecision{Float64}}, StepRangeLen{Float64, Base.TwicePrecision{Float64}, Base.TwicePrecision{Float64}}}})",
      "   @ Base .\\reduce.jl:862",
      " [3] top-level scope",
      "   @ In[6]:3",
      " [4] eval",
      "   @ .\\boot.jl:373 [inlined]",
      " [5] include_string(mapexpr::typeof(REPL.softscope), mod::Module, code::String, filename::String)",
      "   @ Base .\\loading.jl:1196"
     ]
    }
   ],
   "source": [
    "rosenbrock2d((x, y),) = (1 - x)^2 + 100(y - x^2)^2\n",
    "xs = ys = range(-5, 5; length=1001)\n",
    "findmin(rosenbrock2d, Iterators.product(xs, ys))"
   ]
  },
  {
   "cell_type": "code",
   "execution_count": 7,
   "id": "b97cd350-487b-4013-b028-c26a7d852eff",
   "metadata": {},
   "outputs": [
    {
     "data": {
      "text/plain": [
       "(0.0, (601, 601))"
      ]
     },
     "execution_count": 7,
     "metadata": {},
     "output_type": "execute_result"
    }
   ],
   "source": [
    "Base.keys(itr::Iterators.ProductIterator) = Iterators.product(keys.(itr.iterators)...)\n",
    "findmin(rosenbrock2d, Iterators.product(xs, ys))"
   ]
  },
  {
   "cell_type": "code",
   "execution_count": 8,
   "id": "009cadd9-6b5f-4ae2-a448-933d3cc693b8",
   "metadata": {},
   "outputs": [
    {
     "data": {
      "text/plain": [
       "(1.0, 1.0)"
      ]
     },
     "execution_count": 8,
     "metadata": {},
     "output_type": "execute_result"
    }
   ],
   "source": [
    "argmin(rosenbrock2d, Iterators.product(xs, ys))"
   ]
  },
  {
   "cell_type": "code",
   "execution_count": 9,
   "id": "725d6554-de8a-4287-ae43-6b5881149ec7",
   "metadata": {},
   "outputs": [
    {
     "data": {
      "text/plain": [
       "(0.0, (1.0, 1.0))"
      ]
     },
     "execution_count": 9,
     "metadata": {},
     "output_type": "execute_result"
    }
   ],
   "source": [
    "valargmin(f, X) = (arg = argmin(f, X); (f(arg), arg))\n",
    "valargmin(rosenbrock2d, Iterators.product(xs, ys))"
   ]
  },
  {
   "cell_type": "code",
   "execution_count": 10,
   "id": "6c658175-7be4-4eb0-a435-53575d198663",
   "metadata": {},
   "outputs": [
    {
     "data": {
      "text/plain": [
       "(601, 601) => (1.0, 1.0)"
      ]
     },
     "execution_count": 10,
     "metadata": {},
     "output_type": "execute_result"
    }
   ],
   "source": [
    "Base.keys(itr::Iterators.ProductIterator) = Iterators.product(keys.(itr.iterators)...)\n",
    "argmin(rosenbrock2d∘last, pairs(Iterators.product(xs, ys)))"
   ]
  },
  {
   "cell_type": "code",
   "execution_count": 11,
   "id": "938cb5dc-f9fa-4ffd-8632-52559ed20a1a",
   "metadata": {},
   "outputs": [
    {
     "data": {
      "text/plain": [
       "(0.0, (1.0, 1.0), (601, 601))"
      ]
     },
     "execution_count": 11,
     "metadata": {},
     "output_type": "execute_result"
    }
   ],
   "source": [
    "Base.keys(itr::Iterators.ProductIterator) = Iterators.product(keys.(itr.iterators)...)\n",
    "valargindmin(f, X) = ((ind, arg) = argmin(f∘last, pairs(X)); (f(arg), arg, ind))\n",
    "valargindmin(rosenbrock2d, Iterators.product(xs, ys))"
   ]
  },
  {
   "cell_type": "code",
   "execution_count": null,
   "id": "4037b87b-8e5b-434a-8dea-7b4ea5710c3b",
   "metadata": {},
   "outputs": [],
   "source": []
  }
 ],
 "metadata": {
  "jupytext": {
   "formats": "ipynb,auto:hydrogen"
  },
  "kernelspec": {
   "display_name": "Julia 1.7.0-beta3",
   "language": "julia",
   "name": "julia-1.7"
  },
  "language_info": {
   "file_extension": ".jl",
   "mimetype": "application/julia",
   "name": "julia",
   "version": "1.7.0"
  }
 },
 "nbformat": 4,
 "nbformat_minor": 5
}
