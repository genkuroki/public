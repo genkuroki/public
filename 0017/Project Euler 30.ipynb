{
 "cells": [
  {
   "cell_type": "markdown",
   "id": "9a11e0fa-b89a-4be9-b63f-800dc7e999ac",
   "metadata": {},
   "source": [
    "https://projecteuler.net/index.php?section=problems&id=30\n",
    "\n",
    "https://discourse.julialang.org/t/reduce-number-of-allocations/66990"
   ]
  },
  {
   "cell_type": "code",
   "execution_count": 1,
   "id": "958c9eb6-80b4-433c-8285-6a4e608f66e0",
   "metadata": {},
   "outputs": [],
   "source": [
    "using BenchmarkTools"
   ]
  },
  {
   "cell_type": "code",
   "execution_count": 2,
   "id": "a6c2072c-7cb1-4396-ba15-4de0e6a1a048",
   "metadata": {},
   "outputs": [
    {
     "name": "stdout",
     "output_type": "stream",
     "text": [
      "Problem30() = 443839\n",
      "  130.321 ms (2000004 allocations: 243.83 MiB)\n"
     ]
    }
   ],
   "source": [
    "function power_digit_sum(pow, n)\n",
    "    return sum(c^pow for c in reverse(digits(n)))\n",
    "end\n",
    "\n",
    "function Problem30()\n",
    "    ans = sum(i for i in 2:1_000_000 if i == power_digit_sum(5, i))\n",
    "    return ans\n",
    "end\n",
    "\n",
    "@show Problem30();\n",
    "@btime Problem30();"
   ]
  },
  {
   "cell_type": "markdown",
   "id": "2baaa510-30ee-479c-b2df-157cc5fa1080",
   "metadata": {},
   "source": [
    "https://docs.julialang.org/en/v1/base/numbers/#Base.digits!"
   ]
  },
  {
   "cell_type": "code",
   "execution_count": 3,
   "id": "08dabf7f-9362-44b2-8b92-dc38d20641d7",
   "metadata": {},
   "outputs": [
    {
     "name": "stdout",
     "output_type": "stream",
     "text": [
      "Rev1.Problem30(5, 4) = 19316\n",
      "Rev1.Problem30(6, 5) = 443839\n",
      "  50.873 ms (1 allocation: 128 bytes)\n"
     ]
    }
   ],
   "source": [
    "module Rev1\n",
    "\n",
    "function power_digit_sum!(pow, n, ws)\n",
    "    return sum(c^pow for c in digits!(ws, n))\n",
    "end\n",
    "\n",
    "function Problem30(N, m)\n",
    "    ws = Vector{Int}(undef, N)\n",
    "    ans = sum(i for i in 2:(10^N - 1) if i == power_digit_sum!(m, i, ws))\n",
    "    return ans\n",
    "end\n",
    "\n",
    "end\n",
    "\n",
    "@show Rev1.Problem30(5, 4);\n",
    "@show Rev1.Problem30(6, 5);\n",
    "@btime Rev1.Problem30(6, 5);"
   ]
  },
  {
   "cell_type": "code",
   "execution_count": 4,
   "id": "d493720b-8793-4a42-af5f-271509c1a535",
   "metadata": {},
   "outputs": [
    {
     "name": "stdout",
     "output_type": "stream",
     "text": [
      "DNF1.problem30() = 443839\n",
      "  22.458 ms (0 allocations: 0 bytes)\n"
     ]
    }
   ],
   "source": [
    "module DNF1\n",
    "\n",
    "function powsum(pow, n)\n",
    "    s = 0\n",
    "    while n > 0\n",
    "        (n, r) = divrem(n, 10)\n",
    "        s += r^pow\n",
    "    end\n",
    "    return s\n",
    "end\n",
    "\n",
    "problem30() = sum(i for i in 2:1_000_000 if i == powsum(5, i))\n",
    "\n",
    "end\n",
    "\n",
    "@show DNF1.problem30();\n",
    "@btime DNF1.problem30();"
   ]
  },
  {
   "cell_type": "code",
   "execution_count": 5,
   "id": "9d993642-79bb-4ad4-9f8f-13ea4056f140",
   "metadata": {},
   "outputs": [
    {
     "name": "stdout",
     "output_type": "stream",
     "text": [
      "DNF2.problem30() = 443839\n",
      "  8.376 ms (0 allocations: 0 bytes)\n"
     ]
    }
   ],
   "source": [
    "module DNF2\n",
    "\n",
    "function pow5(x)\n",
    "    y = x^2\n",
    "    return y^2 * x\n",
    "end\n",
    "\n",
    "function pow5sum(n)\n",
    "    s = 0\n",
    "    while n >= 10\n",
    "        (n, r) = divrem(n, 10)\n",
    "        s += pow5(r)\n",
    "    end\n",
    "    return s + pow5(n)\n",
    "end\n",
    "\n",
    "problem30() = sum(i for i in 2:1_000_000 if i == pow5sum(i))\n",
    "\n",
    "end\n",
    "\n",
    "@show DNF2.problem30();\n",
    "@btime DNF2.problem30();"
   ]
  },
  {
   "cell_type": "markdown",
   "id": "ba04dc28-a25b-420a-8b2a-e64843dbacaa",
   "metadata": {},
   "source": [
    "https://docs.julialang.org/en/v1/devdocs/cartesian/"
   ]
  },
  {
   "cell_type": "code",
   "execution_count": 6,
   "id": "5c930b4b-db4b-4fab-bd39-06eee19d47f8",
   "metadata": {},
   "outputs": [],
   "source": [
    "using Base.Cartesian"
   ]
  },
  {
   "cell_type": "code",
   "execution_count": 7,
   "id": "8eabe5a7-1f5e-42d7-8bfd-9747fd900abd",
   "metadata": {},
   "outputs": [
    {
     "data": {
      "text/plain": [
       "quote\n",
       "    s += 1i_1\n",
       "    s += 10i_2\n",
       "    s += 100i_3\n",
       "    s += 1000i_4\n",
       "end"
      ]
     },
     "execution_count": 7,
     "metadata": {},
     "output_type": "execute_result"
    }
   ],
   "source": [
    "(@macroexpand @nexprs 4 d -> s += 10^(d-1)*i_d) |> Base.remove_linenums!"
   ]
  },
  {
   "cell_type": "code",
   "execution_count": 8,
   "id": "75e96edf-df16-4e1a-a6c2-fda2298d8a9a",
   "metadata": {},
   "outputs": [
    {
     "data": {
      "text/plain": [
       "quote\n",
       "    for i_4 = 0:9\n",
       "        nothing\n",
       "        begin\n",
       "            for i_3 = 0:9\n",
       "                nothing\n",
       "                begin\n",
       "                    for i_2 = 0:9\n",
       "                        nothing\n",
       "                        begin\n",
       "                            for i_1 = 0:9\n",
       "                                nothing\n",
       "                                begin\n",
       "                                    begin\n",
       "                                        s += 1i_1\n",
       "                                        s += 10i_2\n",
       "                                        s += 100i_3\n",
       "                                        s += 1000i_4\n",
       "                                    end\n",
       "                                end\n",
       "                                nothing\n",
       "                            end\n",
       "                        end\n",
       "                        nothing\n",
       "                    end\n",
       "                end\n",
       "                nothing\n",
       "            end\n",
       "        end\n",
       "        nothing\n",
       "    end\n",
       "end"
      ]
     },
     "execution_count": 8,
     "metadata": {},
     "output_type": "execute_result"
    }
   ],
   "source": [
    "(@macroexpand @nloops 4 i d -> 0:9 begin\n",
    "    @nexprs 4 d -> s += 10^(d-1)*i_d\n",
    "end) |> Base.remove_linenums!"
   ]
  },
  {
   "cell_type": "code",
   "execution_count": 9,
   "id": "af9c9f01-9a52-487f-9ef4-94fead9f936c",
   "metadata": {},
   "outputs": [
    {
     "data": {
      "text/plain": [
       "49995000"
      ]
     },
     "execution_count": 9,
     "metadata": {},
     "output_type": "execute_result"
    }
   ],
   "source": [
    "N = 4\n",
    "s = 0\n",
    "@eval @nloops $N i d -> 0:9 begin\n",
    "    @nexprs $N d -> global s += 10^(d-1)*i_d\n",
    "end\n",
    "s"
   ]
  },
  {
   "cell_type": "code",
   "execution_count": 10,
   "id": "583576b7-13e9-42c6-8477-65ef2f34a7be",
   "metadata": {},
   "outputs": [
    {
     "data": {
      "text/plain": [
       "49995000"
      ]
     },
     "execution_count": 10,
     "metadata": {},
     "output_type": "execute_result"
    }
   ],
   "source": [
    "sum(0:9999)"
   ]
  },
  {
   "cell_type": "code",
   "execution_count": 11,
   "id": "4c79e890-f0bb-4b58-8836-c751c07bb8fa",
   "metadata": {},
   "outputs": [
    {
     "data": {
      "text/plain": [
       "([1634, 8208, 9474], 19316)"
      ]
     },
     "execution_count": 11,
     "metadata": {},
     "output_type": "execute_result"
    }
   ],
   "source": [
    "begin\n",
    "    begin\n",
    "        a = Int[]\n",
    "        s = 0\n",
    "        x = 0\n",
    "        @nloops 5 i (d -> 0:9) begin\n",
    "            y = 0\n",
    "            @nexprs 5 d -> y += i_d ^ 4\n",
    "            if x > 1 && x == y\n",
    "                push!(a, x)\n",
    "                s += x\n",
    "            end\n",
    "            x += 1\n",
    "        end\n",
    "        a, s\n",
    "    end\n",
    "end"
   ]
  },
  {
   "cell_type": "code",
   "execution_count": 12,
   "id": "6413e276-9e7f-49c4-8306-a61e25ad36bf",
   "metadata": {},
   "outputs": [
    {
     "data": {
      "text/plain": [
       "quote\n",
       "    begin\n",
       "        p = (0, 1, 32, 243, 1024, 3125, 7776, 16807, 32768, 59049)\n",
       "        a = Int[]\n",
       "        s = 0\n",
       "        x = 0\n",
       "        begin\n",
       "            $(Expr(:inbounds, true))\n",
       "            local var\"#38#val\" = begin\n",
       "                        for i_6 = 0:9\n",
       "                            y_6 = p[i_6 + 1]\n",
       "                            begin\n",
       "                                for i_5 = 0:9\n",
       "                                    y_5 = p[i_5 + 1]\n",
       "                                    begin\n",
       "                                        for i_4 = 0:9\n",
       "                                            y_4 = p[i_4 + 1]\n",
       "                                            begin\n",
       "                                                for i_3 = 0:9\n",
       "                                                    y_3 = p[i_3 + 1]\n",
       "                                                    begin\n",
       "                                                        for i_2 = 0:9\n",
       "                                                            y_2 = p[i_2 + 1]\n",
       "                                                            begin\n",
       "                                                                for i_1 = 0:9\n",
       "                                                                    y_1 = p[i_1 + 1]\n",
       "                                                                    begin\n",
       "                                                                        y = 0\n",
       "                                                                        begin\n",
       "                                                                            y += y_1\n",
       "                                                                            y += y_2\n",
       "                                                                            y += y_3\n",
       "                                                                            y += y_4\n",
       "                                                                            y += y_5\n",
       "                                                                            y += y_6\n",
       "                                                                        end\n",
       "                                                                        if x > 1 && x == y\n",
       "                                                                            push!(a, x)\n",
       "                                                                            s += x\n",
       "                                                                        end\n",
       "                                                                        x += 1\n",
       "                                                                    end\n",
       "                                                                    nothing\n",
       "                                                                end\n",
       "                                                            end\n",
       "                                                            nothing\n",
       "                                                        end\n",
       "                                                    end\n",
       "                                                    nothing\n",
       "                                                end\n",
       "                                            end\n",
       "                                            nothing\n",
       "                                        end\n",
       "                                    end\n",
       "                                    nothing\n",
       "                                end\n",
       "                            end\n",
       "                            nothing\n",
       "                        end\n",
       "                    end\n",
       "            $(Expr(:inbounds, :pop))\n",
       "            var\"#38#val\"\n",
       "        end\n",
       "        (a, s)\n",
       "    end\n",
       "end"
      ]
     },
     "execution_count": 12,
     "metadata": {},
     "output_type": "execute_result"
    }
   ],
   "source": [
    "(@macroexpand begin\n",
    "    begin\n",
    "        p = @ntuple 10 i -> (i - 1) ^ 5\n",
    "        a = Int[]\n",
    "        s = 0\n",
    "        x = 0\n",
    "        @inbounds @nloops 6 i d -> 0:9 d -> y_d = p[i_d+1] begin\n",
    "            y = 0\n",
    "            @nexprs 6 d -> y += y_d\n",
    "            if x > 1 && x == y\n",
    "                push!(a, x)\n",
    "                s += x\n",
    "            end\n",
    "            x += 1\n",
    "        end\n",
    "        a, s\n",
    "    end\n",
    "end) |> Base.remove_linenums!"
   ]
  },
  {
   "cell_type": "code",
   "execution_count": 13,
   "id": "eb1714e1-296a-40f2-882d-804e518b5811",
   "metadata": {},
   "outputs": [
    {
     "name": "stdout",
     "output_type": "stream",
     "text": [
      "projecteuler30v(5, 4) = ([1634, 8208, 9474], 19316)\n",
      "projecteuler30v(6, 5) = ([4150, 4151, 54748, 92727, 93084, 194979], 443839)\n",
      "  840.700 μs (3 allocations: 208 bytes)\n"
     ]
    }
   ],
   "source": [
    "@generated function _projecteuler30v(::Val{N}, ::Val{m}) where {N, m}\n",
    "    quote\n",
    "        p = @ntuple 10 i -> (i - 1) ^ $m\n",
    "        a = Int[]\n",
    "        s = 0\n",
    "        x = 0\n",
    "        @inbounds @nloops $N i d -> 0:9 d -> y_d = p[i_d+1] begin\n",
    "            y = 0\n",
    "            @nexprs $N d -> y += y_d\n",
    "            if x > 1 && x == y\n",
    "                push!(a, x)\n",
    "                s += x\n",
    "            end\n",
    "            x += 1\n",
    "        end\n",
    "        a, s\n",
    "    end\n",
    "end\n",
    "projecteuler30v(N, m) = _projecteuler30v(Val(N), Val(m))\n",
    "\n",
    "@show projecteuler30v(5, 4);\n",
    "@show projecteuler30v(6, 5);\n",
    "@btime projecteuler30v(6, 5);"
   ]
  },
  {
   "cell_type": "code",
   "execution_count": 14,
   "id": "ab86bb2a-5939-4158-bdee-ab21cf499aa4",
   "metadata": {},
   "outputs": [
    {
     "name": "stdout",
     "output_type": "stream",
     "text": [
      "projecteuler30(5, 4) = 19316\n",
      "projecteuler30(6, 5) = 443839\n",
      "  298.000 μs (0 allocations: 0 bytes)\n"
     ]
    }
   ],
   "source": [
    "@generated function _projecteuler30(::Val{N}, ::Val{m}) where {N, m}\n",
    "    quote\n",
    "        p = @ntuple 10 i -> (i - 1) ^ $m\n",
    "        s = 0\n",
    "        x = 0\n",
    "        @inbounds @nloops $N i d -> 0:9 begin\n",
    "            y = 0\n",
    "            @nexprs $N d -> y += p[i_d+1]\n",
    "            s += (x == y) * x\n",
    "            x += 1\n",
    "        end\n",
    "        s - 1\n",
    "    end\n",
    "end\n",
    "projecteuler30(N, m) = _projecteuler30(Val(N), Val(m))\n",
    "\n",
    "@show projecteuler30(5, 4);\n",
    "@show projecteuler30(6, 5);\n",
    "@btime projecteuler30(6, 5);"
   ]
  },
  {
   "cell_type": "code",
   "execution_count": 15,
   "id": "654d67f6-32f0-4044-a2ed-15263714e3a1",
   "metadata": {},
   "outputs": [
    {
     "name": "stdout",
     "output_type": "stream",
     "text": [
      "projecteuler30x(5, 4) = 19316\n",
      "projecteuler30x(6, 5) = 443839\n",
      "  297.900 μs (0 allocations: 0 bytes)\n"
     ]
    }
   ],
   "source": [
    "@generated function _projecteuler30x(::Val{N}, ::Val{m}) where {N, m}\n",
    "    quote\n",
    "        p = @ntuple 10 i -> (i - 1) ^ $m\n",
    "        s = 0\n",
    "        x = 0\n",
    "        @inbounds @nloops $N i d -> 0:9 d -> begin\n",
    "            y_d = p[i_d+1]\n",
    "        end begin\n",
    "            y = 0\n",
    "            @nexprs $N d -> y += y_d\n",
    "            s += (x == y) * x\n",
    "            x += 1\n",
    "        end\n",
    "        s - 1\n",
    "    end\n",
    "end\n",
    "projecteuler30x(N, m) = _projecteuler30x(Val(N), Val(m))\n",
    "\n",
    "@show projecteuler30x(5, 4);\n",
    "@show projecteuler30x(6, 5);\n",
    "@btime projecteuler30x(6, 5);"
   ]
  },
  {
   "cell_type": "code",
   "execution_count": 16,
   "id": "809ea2e2-68fd-421b-b48c-85e1d936e672",
   "metadata": {},
   "outputs": [
    {
     "name": "stdout",
     "output_type": "stream",
     "text": [
      "projecteuler30p() = 443839\n",
      "  297.900 μs (0 allocations: 0 bytes)\n"
     ]
    }
   ],
   "source": [
    "function projecteuler30p()\n",
    "    p = @ntuple 10 i -> (i - 1) ^ 5\n",
    "    s = 0\n",
    "    x = 0\n",
    "    @inbounds @nloops 6 i d -> 0:9 begin\n",
    "        y = 0\n",
    "        @nexprs 6 d -> y += p[i_d+1]\n",
    "        s += (x == y) * x\n",
    "        x += 1\n",
    "    end\n",
    "    s - 1\n",
    "end\n",
    "\n",
    "@show projecteuler30p();\n",
    "@btime projecteuler30p();"
   ]
  },
  {
   "cell_type": "code",
   "execution_count": 17,
   "id": "cf73a561-4358-42d5-a231-1921dcccbca3",
   "metadata": {},
   "outputs": [
    {
     "name": "stdout",
     "output_type": "stream",
     "text": [
      "projecteuler30() = 443839\n",
      "  237.700 μs (0 allocations: 0 bytes)\n"
     ]
    }
   ],
   "source": [
    "function projecteuler30()\n",
    "    s = 0\n",
    "    x = 0\n",
    "    @nloops 6 i d -> 0:9 begin\n",
    "        y = 0\n",
    "        @nexprs 6 d -> y += (z = i_d^2; z^2*i_d)\n",
    "        s += (x == y) * x\n",
    "        x += 1\n",
    "    end\n",
    "    s - 1\n",
    "end\n",
    "\n",
    "@show projecteuler30();\n",
    "@btime projecteuler30();"
   ]
  },
  {
   "cell_type": "code",
   "execution_count": 18,
   "id": "1f593b49-3582-4ddf-8aa1-28474fdf8e62",
   "metadata": {},
   "outputs": [
    {
     "name": "stdout",
     "output_type": "stream",
     "text": [
      "projecteuler30x() = 443839\n",
      "  237.700 μs (0 allocations: 0 bytes)\n"
     ]
    }
   ],
   "source": [
    "function projecteuler30x()\n",
    "    s = 0\n",
    "    x = 0\n",
    "    @nloops 6 i d -> 0:9 d -> begin\n",
    "        z = i_d^2\n",
    "        y_d = z^2 * i_d\n",
    "    end begin\n",
    "        y = 0\n",
    "        @nexprs 6 d -> y += y_d\n",
    "        s += (x == y) * x\n",
    "        x += 1\n",
    "    end\n",
    "    s - 1\n",
    "end\n",
    "\n",
    "@show projecteuler30x();\n",
    "@btime projecteuler30x();"
   ]
  },
  {
   "cell_type": "code",
   "execution_count": 19,
   "id": "08011427-72f1-44db-85cd-9cbf066fe68b",
   "metadata": {},
   "outputs": [
    {
     "data": {
      "text/plain": [
       "9-element Vector{Tuple{Int64, Int64, Float64}}:\n",
       " (1, 6561, 4.816970037757299)\n",
       " (2, 13122, 5.11800003342128)\n",
       " (3, 19683, 5.294091292476962)\n",
       " (4, 26244, 5.4190300290852615)\n",
       " (5, 32805, 5.515940042093319)\n",
       " (6, 39366, 5.595121288140943)\n",
       " (7, 45927, 5.662068077771556)\n",
       " (8, 52488, 5.720060024749243)\n",
       " (9, 59049, 5.771212547196624)"
      ]
     },
     "execution_count": 19,
     "metadata": {},
     "output_type": "execute_result"
    }
   ],
   "source": [
    "[(k, k * 9^4, log10(k * 9^4)+1) for k in 1:9]"
   ]
  },
  {
   "cell_type": "code",
   "execution_count": 20,
   "id": "8910625e-0d40-41f3-b412-9f041a1c8f86",
   "metadata": {},
   "outputs": [
    {
     "data": {
      "text/plain": [
       "9-element Vector{Tuple{Int64, Int64, Float64}}:\n",
       " (1, 59049, 5.771212547196624)\n",
       " (2, 118098, 6.0722425428606055)\n",
       " (3, 177147, 6.248333801916287)\n",
       " (4, 236196, 6.373272538524587)\n",
       " (5, 295245, 6.470182551532643)\n",
       " (6, 354294, 6.549363797580268)\n",
       " (7, 413343, 6.616310587210881)\n",
       " (8, 472392, 6.674302534188568)\n",
       " (9, 531441, 6.7254550566359494)"
      ]
     },
     "execution_count": 20,
     "metadata": {},
     "output_type": "execute_result"
    }
   ],
   "source": [
    "[(k, k * 9^5, log10(k * 9^5)+1) for k in 1:9]"
   ]
  },
  {
   "cell_type": "code",
   "execution_count": 21,
   "id": "693eb555-0212-45eb-ab31-2f2f8e9a3438",
   "metadata": {},
   "outputs": [
    {
     "data": {
      "text/plain": [
       "12-element Vector{Tuple{Int64, Int64, Float64}}:\n",
       " (1, 3486784401, 10.542425094393248)\n",
       " (2, 6973568802, 10.84345509005723)\n",
       " (3, 10460353203, 11.019546349112911)\n",
       " (4, 13947137604, 11.144485085721211)\n",
       " (5, 17433922005, 11.241395098729267)\n",
       " (6, 20920706406, 11.320576344776892)\n",
       " (7, 24407490807, 11.387523134407505)\n",
       " (8, 27894275208, 11.445515081385192)\n",
       " (9, 31381059609, 11.496667603832574)\n",
       " (10, 34867844010, 11.542425094393248)\n",
       " (11, 38354628411, 11.583817779551474)\n",
       " (12, 41841412812, 11.621606340440874)"
      ]
     },
     "execution_count": 21,
     "metadata": {},
     "output_type": "execute_result"
    }
   ],
   "source": [
    "[(k, k * 9^10, log10(k * 9^10)+1) for k in 1:12]"
   ]
  },
  {
   "cell_type": "code",
   "execution_count": 22,
   "id": "c7c1343a-0fdf-4f84-a96a-a2ed5e0ab6b5",
   "metadata": {},
   "outputs": [
    {
     "data": {
      "text/plain": [
       "99-element Vector{Tuple{Int64, Int64}}:\n",
       " (2, 3)\n",
       " (3, 4)\n",
       " (4, 5)\n",
       " (5, 6)\n",
       " (6, 7)\n",
       " (7, 8)\n",
       " (8, 10)\n",
       " (9, 11)\n",
       " (10, 12)\n",
       " (11, 13)\n",
       " (12, 14)\n",
       " (13, 15)\n",
       " (14, 16)\n",
       " ⋮\n",
       " (89, 91)\n",
       " (90, 92)\n",
       " (91, 93)\n",
       " (92, 94)\n",
       " (93, 95)\n",
       " (94, 96)\n",
       " (95, 97)\n",
       " (96, 98)\n",
       " (97, 100)\n",
       " (98, 101)\n",
       " (99, 102)\n",
       " (100, 103)"
      ]
     },
     "execution_count": 22,
     "metadata": {},
     "output_type": "execute_result"
    }
   ],
   "source": [
    "[(m, findfirst(k -> k > log10(k*10.0^m)+1, 1:2m)-1) for m in 2:100]"
   ]
  },
  {
   "cell_type": "code",
   "execution_count": 23,
   "id": "b18a61bf-8e07-40ef-8a8f-6192edb79f3f",
   "metadata": {},
   "outputs": [
    {
     "data": {
      "text/latex": [
       "\\begin{verbatim}\n",
       "@nloops N itersym rangeexpr bodyexpr\n",
       "@nloops N itersym rangeexpr preexpr bodyexpr\n",
       "@nloops N itersym rangeexpr preexpr postexpr bodyexpr\n",
       "\\end{verbatim}\n",
       "Generate \\texttt{N} nested loops, using \\texttt{itersym} as the prefix for the iteration variables. \\texttt{rangeexpr} may be an anonymous-function expression, or a simple symbol \\texttt{var} in which case the range is \\texttt{axes(var, d)} for dimension \\texttt{d}.\n",
       "\n",
       "Optionally, you can provide \"pre\" and \"post\" expressions. These get executed first and last, respectively, in the body of each loop. For example:\n",
       "\n",
       "\\begin{verbatim}\n",
       "@nloops 2 i A d -> j_d = min(i_d, 5) begin\n",
       "    s += @nref 2 A j\n",
       "end\n",
       "\\end{verbatim}\n",
       "would generate:\n",
       "\n",
       "\\begin{verbatim}\n",
       "for i_2 = axes(A, 2)\n",
       "    j_2 = min(i_2, 5)\n",
       "    for i_1 = axes(A, 1)\n",
       "        j_1 = min(i_1, 5)\n",
       "        s += A[j_1, j_2]\n",
       "    end\n",
       "end\n",
       "\\end{verbatim}\n",
       "If you want just a post-expression, supply \\href{@ref}{\\texttt{nothing}} for the pre-expression. Using parentheses and semicolons, you can supply multi-statement expressions.\n",
       "\n"
      ],
      "text/markdown": [
       "```\n",
       "@nloops N itersym rangeexpr bodyexpr\n",
       "@nloops N itersym rangeexpr preexpr bodyexpr\n",
       "@nloops N itersym rangeexpr preexpr postexpr bodyexpr\n",
       "```\n",
       "\n",
       "Generate `N` nested loops, using `itersym` as the prefix for the iteration variables. `rangeexpr` may be an anonymous-function expression, or a simple symbol `var` in which case the range is `axes(var, d)` for dimension `d`.\n",
       "\n",
       "Optionally, you can provide \"pre\" and \"post\" expressions. These get executed first and last, respectively, in the body of each loop. For example:\n",
       "\n",
       "```\n",
       "@nloops 2 i A d -> j_d = min(i_d, 5) begin\n",
       "    s += @nref 2 A j\n",
       "end\n",
       "```\n",
       "\n",
       "would generate:\n",
       "\n",
       "```\n",
       "for i_2 = axes(A, 2)\n",
       "    j_2 = min(i_2, 5)\n",
       "    for i_1 = axes(A, 1)\n",
       "        j_1 = min(i_1, 5)\n",
       "        s += A[j_1, j_2]\n",
       "    end\n",
       "end\n",
       "```\n",
       "\n",
       "If you want just a post-expression, supply [`nothing`](@ref) for the pre-expression. Using parentheses and semicolons, you can supply multi-statement expressions.\n"
      ],
      "text/plain": [
       "\u001b[36m  @nloops N itersym rangeexpr bodyexpr\u001b[39m\n",
       "\u001b[36m  @nloops N itersym rangeexpr preexpr bodyexpr\u001b[39m\n",
       "\u001b[36m  @nloops N itersym rangeexpr preexpr postexpr bodyexpr\u001b[39m\n",
       "\n",
       "  Generate \u001b[36mN\u001b[39m nested loops, using \u001b[36mitersym\u001b[39m as the prefix for the iteration\n",
       "  variables. \u001b[36mrangeexpr\u001b[39m may be an anonymous-function expression, or a simple\n",
       "  symbol \u001b[36mvar\u001b[39m in which case the range is \u001b[36maxes(var, d)\u001b[39m for dimension \u001b[36md\u001b[39m.\n",
       "\n",
       "  Optionally, you can provide \"pre\" and \"post\" expressions. These get executed\n",
       "  first and last, respectively, in the body of each loop. For example:\n",
       "\n",
       "\u001b[36m  @nloops 2 i A d -> j_d = min(i_d, 5) begin\u001b[39m\n",
       "\u001b[36m      s += @nref 2 A j\u001b[39m\n",
       "\u001b[36m  end\u001b[39m\n",
       "\n",
       "  would generate:\n",
       "\n",
       "\u001b[36m  for i_2 = axes(A, 2)\u001b[39m\n",
       "\u001b[36m      j_2 = min(i_2, 5)\u001b[39m\n",
       "\u001b[36m      for i_1 = axes(A, 1)\u001b[39m\n",
       "\u001b[36m          j_1 = min(i_1, 5)\u001b[39m\n",
       "\u001b[36m          s += A[j_1, j_2]\u001b[39m\n",
       "\u001b[36m      end\u001b[39m\n",
       "\u001b[36m  end\u001b[39m\n",
       "\n",
       "  If you want just a post-expression, supply \u001b[36mnothing\u001b[39m for the pre-expression.\n",
       "  Using parentheses and semicolons, you can supply multi-statement\n",
       "  expressions."
      ]
     },
     "execution_count": 23,
     "metadata": {},
     "output_type": "execute_result"
    }
   ],
   "source": [
    "?@nloops"
   ]
  },
  {
   "cell_type": "code",
   "execution_count": 24,
   "id": "8bf501fd-8dfa-4db2-b986-b34247ef6b8c",
   "metadata": {},
   "outputs": [
    {
     "data": {
      "text/plain": [
       "quote\n",
       "    for i_3 = 0:9\n",
       "        y_3 = i_3 ^ 2\n",
       "        begin\n",
       "            for i_2 = 0:9\n",
       "                y_2 = i_2 ^ 2\n",
       "                begin\n",
       "                    for i_1 = 0:9\n",
       "                        y_1 = i_1 ^ 2\n",
       "                        begin\n",
       "                            y = 0\n",
       "                            begin\n",
       "                                y += y_1\n",
       "                                y += y_2\n",
       "                                y += y_3\n",
       "                            end\n",
       "                        end\n",
       "                        nothing\n",
       "                    end\n",
       "                end\n",
       "                nothing\n",
       "            end\n",
       "        end\n",
       "        nothing\n",
       "    end\n",
       "end"
      ]
     },
     "execution_count": 24,
     "metadata": {},
     "output_type": "execute_result"
    }
   ],
   "source": [
    "(@macroexpand @nloops 3 i d -> 0:9 d -> y_d = i_d^2 begin\n",
    "    y = 0\n",
    "    @nexprs 3 d -> y += y_d\n",
    "end)|> Base.remove_linenums!"
   ]
  },
  {
   "cell_type": "code",
   "execution_count": null,
   "id": "0a375683-3448-4d16-bb5f-34eca74e25c6",
   "metadata": {},
   "outputs": [],
   "source": []
  }
 ],
 "metadata": {
  "jupytext": {
   "formats": "ipynb,jl:hydrogen"
  },
  "kernelspec": {
   "display_name": "Julia 1.6.2",
   "language": "julia",
   "name": "julia-1.6"
  },
  "language_info": {
   "file_extension": ".jl",
   "mimetype": "application/julia",
   "name": "julia",
   "version": "1.6.2"
  }
 },
 "nbformat": 4,
 "nbformat_minor": 5
}
