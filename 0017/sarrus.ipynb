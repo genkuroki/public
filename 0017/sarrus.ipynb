{
 "cells": [
  {
   "cell_type": "code",
   "execution_count": 16,
   "id": "4d7a271d-3d25-4e1f-911c-9b67ec51b16b",
   "metadata": {},
   "outputs": [
    {
     "data": {
      "text/plain": [
       "sarrus (generic function with 1 method)"
      ]
     },
     "execution_count": 16,
     "metadata": {},
     "output_type": "execute_result"
    }
   ],
   "source": [
    "using LinearAlgebra\n",
    "\n",
    "function sarrus(A)\n",
    "    @assert size(A) == (3, 3)\n",
    "    a, b, c, d, e, f, g, h, k = A\n",
    "    a*e*k + b*f*g + c*d*h - a*f*g - b*d*k - c*e*g\n",
    "end"
   ]
  },
  {
   "cell_type": "code",
   "execution_count": 29,
   "id": "477403c6-6aa7-4ea2-a400-72c64299217e",
   "metadata": {},
   "outputs": [
    {
     "data": {
      "text/plain": [
       "3×3 Matrix{Float64}:\n",
       " 1.0e15  1.0e15  1.0e15\n",
       " 1.0e15  1.0e15  1.0e15\n",
       " 1.0e15  1.0e15  1.0e15"
      ]
     },
     "execution_count": 29,
     "metadata": {},
     "output_type": "execute_result"
    }
   ],
   "source": [
    "a, b, c = 1e15, 1e15+1, 1e15+2\n",
    "x, y = 3, 6\n",
    "z = -1\n",
    "\n",
    "A = [\n",
    "    a   b   c\n",
    "    a+x b+x c+x\n",
    "    a+y b+y c+y+z\n",
    "]"
   ]
  },
  {
   "cell_type": "code",
   "execution_count": 38,
   "id": "5edf90f0-3b7f-40c8-a3f9-39beda8631b2",
   "metadata": {},
   "outputs": [
    {
     "data": {
      "text/plain": [
       "3×3 Matrix{Float64}:\n",
       " -1.0  1.0e15   1.0e15\n",
       "  0.0  3.0      3.0\n",
       "  0.0  0.0     -1.0"
      ]
     },
     "execution_count": 38,
     "metadata": {},
     "output_type": "execute_result"
    }
   ],
   "source": [
    "B = [\n",
    "    a-b b c\n",
    "    0   x x\n",
    "    0   0 z\n",
    "]"
   ]
  },
  {
   "cell_type": "code",
   "execution_count": 39,
   "id": "77124329-3ce4-4ca1-96d6-1467734796c9",
   "metadata": {},
   "outputs": [
    {
     "data": {
      "text/plain": [
       "3.0"
      ]
     },
     "execution_count": 39,
     "metadata": {},
     "output_type": "execute_result"
    }
   ],
   "source": [
    "det(B)"
   ]
  },
  {
   "cell_type": "code",
   "execution_count": 40,
   "id": "027bc86f-1002-49fc-87b4-a6ac9d0889c3",
   "metadata": {},
   "outputs": [
    {
     "data": {
      "text/plain": [
       "3.0"
      ]
     },
     "execution_count": 40,
     "metadata": {},
     "output_type": "execute_result"
    }
   ],
   "source": [
    "sarrus(B)"
   ]
  },
  {
   "cell_type": "code",
   "execution_count": 41,
   "id": "0e4bb388-7aee-4957-a511-ffd9c2d7665a",
   "metadata": {},
   "outputs": [
    {
     "data": {
      "text/plain": [
       "3.0"
      ]
     },
     "execution_count": 41,
     "metadata": {},
     "output_type": "execute_result"
    }
   ],
   "source": [
    "(a - b)*x*z"
   ]
  },
  {
   "cell_type": "code",
   "execution_count": 42,
   "id": "4bf62c1d-8b2c-41a6-958e-1f5f6d69a997",
   "metadata": {},
   "outputs": [
    {
     "data": {
      "text/plain": [
       "0.0"
      ]
     },
     "execution_count": 42,
     "metadata": {},
     "output_type": "execute_result"
    }
   ],
   "source": [
    "det(A)"
   ]
  },
  {
   "cell_type": "code",
   "execution_count": 43,
   "id": "3c4cd78f-9093-40af-a4da-c4c0f9e71fc2",
   "metadata": {},
   "outputs": [
    {
     "data": {
      "text/plain": [
       "2.852213850513516e30"
      ]
     },
     "execution_count": 43,
     "metadata": {},
     "output_type": "execute_result"
    }
   ],
   "source": [
    "sarrus(A)"
   ]
  },
  {
   "cell_type": "code",
   "execution_count": 46,
   "id": "c0650f09-7bbe-430c-a4d4-b85b9097f98d",
   "metadata": {},
   "outputs": [
    {
     "data": {
      "text/plain": [
       "LinearAlgebra.QRCompactWY{Float64, Matrix{Float64}}\n",
       "Q factor:\n",
       "3×3 LinearAlgebra.QRCompactWYQ{Float64, Matrix{Float64}}:\n",
       " -0.57735   0.816497  -1.2388e-15\n",
       " -0.57735  -0.408248  -0.707107\n",
       " -0.57735  -0.408248   0.707107\n",
       "R factor:\n",
       "3×3 Matrix{Float64}:\n",
       " -1.73205e15  -1.73205e15  -1.73205e15\n",
       "  0.0         -0.176777     0.176777\n",
       "  0.0          0.0         -0.707107"
      ]
     },
     "execution_count": 46,
     "metadata": {},
     "output_type": "execute_result"
    }
   ],
   "source": [
    "Q, R = qr(A)"
   ]
  },
  {
   "cell_type": "code",
   "execution_count": 48,
   "id": "d801ef28-63fd-4a4f-9787-9286cea9a10c",
   "metadata": {},
   "outputs": [
    {
     "data": {
      "text/plain": [
       "-2.1650635094611028e14"
      ]
     },
     "execution_count": 48,
     "metadata": {},
     "output_type": "execute_result"
    }
   ],
   "source": [
    "det(R)"
   ]
  },
  {
   "cell_type": "code",
   "execution_count": null,
   "id": "568652a9-c6a0-4e77-9647-72e7e541178e",
   "metadata": {},
   "outputs": [],
   "source": []
  }
 ],
 "metadata": {
  "kernelspec": {
   "display_name": "Julia 1.8.0-DEV",
   "language": "julia",
   "name": "julia-1.8"
  },
  "language_info": {
   "file_extension": ".jl",
   "mimetype": "application/julia",
   "name": "julia",
   "version": "1.8.0"
  }
 },
 "nbformat": 4,
 "nbformat_minor": 5
}
