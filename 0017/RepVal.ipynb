{
 "cells": [
  {
   "cell_type": "code",
   "execution_count": 5,
   "id": "ca5c4a6b-59bb-4a5c-88e2-6382dd6661ad",
   "metadata": {},
   "outputs": [
    {
     "data": {
      "text/latex": [
       "\\begin{verbatim}\n",
       "RepVal(A)\n",
       "\\end{verbatim}\n",
       "Iterator generating the all (repeat length, value)-tuples in \\texttt{A}.\n",
       "\n"
      ],
      "text/markdown": [
       "```\n",
       "RepVal(A)\n",
       "```\n",
       "\n",
       "Iterator generating the all (repeat length, value)-tuples in `A`.\n"
      ],
      "text/plain": [
       "\u001b[36m  RepVal(A)\u001b[39m\n",
       "\n",
       "  Iterator generating the all (repeat length, value)-tuples in \u001b[36mA\u001b[39m."
      ]
     },
     "execution_count": 5,
     "metadata": {},
     "output_type": "execute_result"
    }
   ],
   "source": [
    "function repeatlength(A, i)\n",
    "    k = 1\n",
    "    @inbounds while i + k ≤ lastindex(A) && isequal(A[i+k], A[i])\n",
    "        k += 1\n",
    "    end\n",
    "    k\n",
    "end\n",
    "\n",
    "\"\"\"\n",
    "    RepVal(A)\n",
    "Iterator generating the all (repeat length, value)-tuples in `A`.\n",
    "\"\"\"\n",
    "struct RepVal{T} A::T end\n",
    "Base.IteratorSize(::Type{RepVal{T}}) where T = Base.SizeUnknown()\n",
    "Base.eltype(x::RepVal) = Tuple{Int, eltype(x.A)} # (rep.len., value)\n",
    "\n",
    "Base.iterate(x::RepVal) = iterate(x, firstindex(x.A))\n",
    "function Base.iterate(x::RepVal, i::Int)\n",
    "    i > lastindex(x.A) && return nothing\n",
    "    k = repeatlength(x.A, i)\n",
    "    (k, x.A[i]), i + k\n",
    "end\n",
    "\n",
    "maxrep_maxval(A) = maximum(RepVal(A))\n",
    "negrep((k, v)) = (-k, v)\n",
    "maxrep_minval(A) = negrep(minimum(negrep, RepVal(A)))\n",
    "\n",
    "@doc RepVal"
   ]
  },
  {
   "cell_type": "code",
   "execution_count": 7,
   "id": "c6aa6f00-b857-4cf1-82d3-3064714b3162",
   "metadata": {},
   "outputs": [
    {
     "name": "stdout",
     "output_type": "stream",
     "text": [
      "A = [1.0, 2.0, 3.0, 3.0, 3.0, 1.0, 1.0, 1.0, NaN, NaN, NaN, 2.0, 2.0, 3.0]\n"
     ]
    },
    {
     "data": {
      "text/plain": [
       "7-element Vector{Tuple{Int64, Float64}}:\n",
       " (1, 1.0)\n",
       " (1, 2.0)\n",
       " (3, 3.0)\n",
       " (3, 1.0)\n",
       " (3, NaN)\n",
       " (2, 2.0)\n",
       " (1, 3.0)"
      ]
     },
     "execution_count": 7,
     "metadata": {},
     "output_type": "execute_result"
    }
   ],
   "source": [
    "A = [1, 2, 3, 3, 3, 1, 1, 1, NaN, NaN, NaN, 2, 2, 3]\n",
    "@show A\n",
    "RepVal(A) |> collect"
   ]
  },
  {
   "cell_type": "code",
   "execution_count": 3,
   "id": "cb8cfe50-8654-4c3c-8eb9-5da22adb2415",
   "metadata": {},
   "outputs": [
    {
     "data": {
      "text/plain": [
       "(3, NaN)"
      ]
     },
     "execution_count": 3,
     "metadata": {},
     "output_type": "execute_result"
    }
   ],
   "source": [
    "maxrep_maxval(A)"
   ]
  },
  {
   "cell_type": "code",
   "execution_count": 4,
   "id": "ffaeda6c-35cf-450a-bb4d-03771ebf1538",
   "metadata": {},
   "outputs": [
    {
     "data": {
      "text/plain": [
       "(3, 1.0)"
      ]
     },
     "execution_count": 4,
     "metadata": {},
     "output_type": "execute_result"
    }
   ],
   "source": [
    "maxrep_minval(A)"
   ]
  },
  {
   "cell_type": "code",
   "execution_count": 5,
   "id": "4391643c-6572-4b1d-9608-468dff1edc44",
   "metadata": {},
   "outputs": [
    {
     "name": "stdout",
     "output_type": "stream",
     "text": [
      "Variables\n",
      "  #self#\u001b[36m::Core.Const(iterate)\u001b[39m\n",
      "  x\u001b[36m::RepVal{Vector{Float64}}\u001b[39m\n",
      "  i\u001b[36m::Int64\u001b[39m\n",
      "  k\u001b[36m::Int64\u001b[39m\n",
      "\n",
      "Body\u001b[33m\u001b[1m::Union{Nothing, Tuple{Tuple{Int64, Float64}, Int64}}\u001b[22m\u001b[39m\n",
      "\u001b[90m1 ─\u001b[39m       Core.NewvarNode(:(k))\n",
      "\u001b[90m│  \u001b[39m %2  = Base.getproperty(x, :A)\u001b[36m::Vector{Float64}\u001b[39m\n",
      "\u001b[90m│  \u001b[39m %3  = Main.lastindex(%2)\u001b[36m::Int64\u001b[39m\n",
      "\u001b[90m│  \u001b[39m %4  = (i > %3)\u001b[36m::Bool\u001b[39m\n",
      "\u001b[90m└──\u001b[39m       goto #3 if not %4\n",
      "\u001b[90m2 ─\u001b[39m       return Main.nothing\n",
      "\u001b[90m3 ─\u001b[39m %7  = Base.getproperty(x, :A)\u001b[36m::Vector{Float64}\u001b[39m\n",
      "\u001b[90m│  \u001b[39m       (k = Main.repeatlength(%7, i))\n",
      "\u001b[90m│  \u001b[39m %9  = k\u001b[36m::Int64\u001b[39m\n",
      "\u001b[90m│  \u001b[39m %10 = Base.getproperty(x, :A)\u001b[36m::Vector{Float64}\u001b[39m\n",
      "\u001b[90m│  \u001b[39m %11 = Base.getindex(%10, i)\u001b[36m::Float64\u001b[39m\n",
      "\u001b[90m│  \u001b[39m %12 = Core.tuple(%9, %11)\u001b[36m::Tuple{Int64, Float64}\u001b[39m\n",
      "\u001b[90m│  \u001b[39m %13 = (i + k)\u001b[36m::Int64\u001b[39m\n",
      "\u001b[90m│  \u001b[39m %14 = Core.tuple(%12, %13)\u001b[36m::Tuple{Tuple{Int64, Float64}, Int64}\u001b[39m\n",
      "\u001b[90m└──\u001b[39m       return %14\n"
     ]
    }
   ],
   "source": [
    "@code_warntype iterate(RepVal(A), 1)"
   ]
  },
  {
   "cell_type": "markdown",
   "id": "cd453d93-5638-4fb7-9bdf-784f0687b248",
   "metadata": {},
   "source": [
    "https://discourse.julialang.org/t/minimum-mode-problem-minimum-number-maximum-repetition/66749/2"
   ]
  },
  {
   "cell_type": "code",
   "execution_count": 6,
   "id": "051d862d-990b-4597-820d-01cd5a000368",
   "metadata": {},
   "outputs": [
    {
     "data": {
      "text/plain": [
       "findn (generic function with 2 methods)"
      ]
     },
     "execution_count": 6,
     "metadata": {},
     "output_type": "execute_result"
    }
   ],
   "source": [
    "function findn(x,y=zeros(Int,maximum(x)))\n",
    "    m = 0\n",
    "    fill!(y,0)\n",
    "    @inbounds for i in x\n",
    "        y[i] += 1\n",
    "        m = max(y[i],m)\n",
    "    end\n",
    "    return findfirst(isequal(m),y)\n",
    "end"
   ]
  },
  {
   "cell_type": "code",
   "execution_count": null,
   "id": "e5900623-9cb7-4cff-ab82-6b49b1725f4b",
   "metadata": {},
   "outputs": [],
   "source": []
  },
  {
   "cell_type": "code",
   "execution_count": 7,
   "id": "07574aaf-87dd-4ba2-9fda-f8f7a12bee0c",
   "metadata": {},
   "outputs": [
    {
     "data": {
      "text/plain": [
       "findn_jling (generic function with 1 method)"
      ]
     },
     "execution_count": 7,
     "metadata": {},
     "output_type": "execute_result"
    }
   ],
   "source": [
    "using StatsBase, DataStructures\n",
    "\n",
    "function findn_jling(x)\n",
    "    cm = sort!(OrderedDict(countmap(x)); byvalue = true)\n",
    "    last(cm.keys), last(cm.vals)\n",
    "end"
   ]
  },
  {
   "cell_type": "code",
   "execution_count": null,
   "id": "7dd12b05-a6bd-4eb1-a0df-82767b6fc623",
   "metadata": {},
   "outputs": [],
   "source": []
  },
  {
   "cell_type": "code",
   "execution_count": 8,
   "id": "f5d6411e-4b83-4985-ba4b-6cfda85eef9f",
   "metadata": {},
   "outputs": [
    {
     "data": {
      "text/plain": [
       "minMode (generic function with 1 method)"
      ]
     },
     "execution_count": 8,
     "metadata": {},
     "output_type": "execute_result"
    }
   ],
   "source": [
    "function minMode(c)   \n",
    "    minVal = -1\n",
    "    i = 0\n",
    "    \n",
    "    i = i+1\n",
    "    for row in eachrow(c)\n",
    "    row = collect(row)\n",
    "    temp = filter(x -> x!=0, row)\n",
    "    count = counter(temp)\n",
    "    sortedCollection = sort(collect(count), by=x->x[2], rev=true)\n",
    "    minVal = sortedCollection[1][1]\n",
    "    repetitions = sortedCollection[1][2]\n",
    "    for (key, value) in sortedCollection\n",
    "        if(value == repetitions)\n",
    "            if(key < minVal)\n",
    "                minVal = key\n",
    "            end\n",
    "        end \n",
    "        end\n",
    "    end\n",
    "    \n",
    "    return minVal\n",
    "end"
   ]
  },
  {
   "cell_type": "code",
   "execution_count": 13,
   "id": "1023d512-58ec-4a68-9432-667b418bb053",
   "metadata": {},
   "outputs": [
    {
     "data": {
      "text/plain": [
       "minmode (generic function with 1 method)"
      ]
     },
     "execution_count": 13,
     "metadata": {},
     "output_type": "execute_result"
    }
   ],
   "source": [
    "using StatsBase\n",
    "swap_negval((val, rep)) = (rep, -val)\n",
    "inv_swap_negval((rep, val)) = (-val, rep)\n",
    "minmode(X) = inv_swap_negval(maximum(swap_negval, countmap(X)))k"
   ]
  },
  {
   "cell_type": "code",
   "execution_count": 26,
   "id": "d507d699-b314-4492-b5ce-08830276d386",
   "metadata": {},
   "outputs": [
    {
     "data": {
      "text/plain": [
       "1×1000000 adjoint(::Vector{Int64}) with eltype Int64:\n",
       " 4170001  46020001  82500001  61360001  …  8940001  83130001  75350001"
      ]
     },
     "execution_count": 26,
     "metadata": {},
     "output_type": "execute_result"
    }
   ],
   "source": [
    "X = rand(1:10000:10^8, 10^6)\n",
    "X'"
   ]
  },
  {
   "cell_type": "code",
   "execution_count": 3,
   "id": "b559210c-6c45-42fe-bc71-12e525453b7d",
   "metadata": {},
   "outputs": [],
   "source": [
    "using BenchmarkTools"
   ]
  },
  {
   "cell_type": "code",
   "execution_count": 17,
   "id": "579491f2-afc9-4e39-9d61-5f9109a5b1b5",
   "metadata": {},
   "outputs": [
    {
     "name": "stdout",
     "output_type": "stream",
     "text": [
      "  132.700 μs (0 allocations: 0 bytes)\n"
     ]
    },
    {
     "data": {
      "text/plain": [
       "(2, 2201)"
      ]
     },
     "execution_count": 17,
     "metadata": {},
     "output_type": "execute_result"
    }
   ],
   "source": [
    "@btime maxrep_minval($X)"
   ]
  },
  {
   "cell_type": "code",
   "execution_count": 27,
   "id": "dc6e0738-55ae-4be9-a82e-1a6c93914101",
   "metadata": {},
   "outputs": [
    {
     "name": "stdout",
     "output_type": "stream",
     "text": [
      "  202.202 ms (2 allocations: 762.86 MiB)\n"
     ]
    },
    {
     "data": {
      "text/plain": [
       "8240001"
      ]
     },
     "execution_count": 27,
     "metadata": {},
     "output_type": "execute_result"
    }
   ],
   "source": [
    "@btime findn($X)"
   ]
  },
  {
   "cell_type": "code",
   "execution_count": 19,
   "id": "46640544-28ba-4985-8a17-69ae19292e02",
   "metadata": {},
   "outputs": [
    {
     "name": "stdout",
     "output_type": "stream",
     "text": [
      "  35.930 ms (1100000 allocations: 111.39 MiB)\n"
     ]
    },
    {
     "data": {
      "text/plain": [
       "93701"
      ]
     },
     "execution_count": 19,
     "metadata": {},
     "output_type": "execute_result"
    }
   ],
   "source": [
    "@btime minMode($X)"
   ]
  },
  {
   "cell_type": "code",
   "execution_count": 28,
   "id": "50b79472-8213-4a0f-b790-6c350fe94719",
   "metadata": {},
   "outputs": [
    {
     "name": "stdout",
     "output_type": "stream",
     "text": [
      "  13.802 ms (36 allocations: 15.73 MiB)\n"
     ]
    },
    {
     "data": {
      "text/plain": [
       "(8240001, 144)"
      ]
     },
     "execution_count": 28,
     "metadata": {},
     "output_type": "execute_result"
    }
   ],
   "source": [
    "@btime minmode($X)"
   ]
  },
  {
   "cell_type": "code",
   "execution_count": 29,
   "id": "87c7416d-790d-412c-bc2f-a8e52491c263",
   "metadata": {},
   "outputs": [
    {
     "name": "stdout",
     "output_type": "stream",
     "text": [
      "  14.312 ms (82 allocations: 16.61 MiB)\n"
     ]
    },
    {
     "data": {
      "text/plain": [
       "(8240001, 144)"
      ]
     },
     "execution_count": 29,
     "metadata": {},
     "output_type": "execute_result"
    }
   ],
   "source": [
    "@btime findn_jling($X)"
   ]
  },
  {
   "cell_type": "code",
   "execution_count": null,
   "id": "1aa85c8e-b565-4805-9bee-e887cf23e9ed",
   "metadata": {},
   "outputs": [],
   "source": []
  }
 ],
 "metadata": {
  "jupytext": {
   "encoding": "# -*- coding: utf-8 -*-",
   "formats": "ipynb,jl:hydrogen"
  },
  "kernelspec": {
   "display_name": "Julia 1.6.2",
   "language": "julia",
   "name": "julia-1.6"
  },
  "language_info": {
   "file_extension": ".jl",
   "mimetype": "application/julia",
   "name": "julia",
   "version": "1.6.2"
  }
 },
 "nbformat": 4,
 "nbformat_minor": 5
}
