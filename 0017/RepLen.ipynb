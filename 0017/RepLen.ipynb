{
 "cells": [
  {
   "cell_type": "code",
   "execution_count": 1,
   "id": "ca5c4a6b-59bb-4a5c-88e2-6382dd6661ad",
   "metadata": {},
   "outputs": [
    {
     "data": {
      "text/plain": [
       "maxrep_minval (generic function with 1 method)"
      ]
     },
     "execution_count": 1,
     "metadata": {},
     "output_type": "execute_result"
    }
   ],
   "source": [
    "function repeatlength(A, i)\n",
    "    k = 1\n",
    "    @inbounds while i + k ≤ lastindex(A) && isequal(A[i+k], A[i])\n",
    "        k += 1\n",
    "    end\n",
    "    k\n",
    "end\n",
    "\n",
    "\"\"\"\n",
    "    RepVal(A)\n",
    "Iterator generating tuples of repeat length of `v` and value `v` in `A`\n",
    "\"\"\"\n",
    "struct RepVal{T} A::T end\n",
    "Base.IteratorSize(::Type{RepVal{T}}) where T = Base.SizeUnknown()\n",
    "Base.eltype(x::RepVal) = Tuple{Int, eltype(x.A)}\n",
    "\n",
    "Base.iterate(x::RepVal) = iterate(x, firstindex(x.A))\n",
    "function Base.iterate(x::RepVal, i::Int)\n",
    "    i > lastindex(x.A) && return nothing\n",
    "    k = repeatlength(x.A, i)\n",
    "    (k, x.A[i]), i + k\n",
    "end\n",
    "\n",
    "maxrep_maxval(A) = maximum(RepVal(A))\n",
    "negrep((k, v)) = (-k, v)\n",
    "maxrep_minval(A) = negrep(minimum(negrep, RepVal(A)))"
   ]
  },
  {
   "cell_type": "code",
   "execution_count": 2,
   "id": "c6aa6f00-b857-4cf1-82d3-3064714b3162",
   "metadata": {},
   "outputs": [
    {
     "name": "stdout",
     "output_type": "stream",
     "text": [
      "A = [1.0, 2.0, 3.0, 3.0, 3.0, 1.0, 1.0, 1.0, NaN, NaN, NaN, 2.0, 2.0, 3.0]\n"
     ]
    },
    {
     "data": {
      "text/plain": [
       "7-element Vector{Tuple{Int64, Float64}}:\n",
       " (1, 1.0)\n",
       " (1, 2.0)\n",
       " (3, 3.0)\n",
       " (3, 1.0)\n",
       " (3, NaN)\n",
       " (2, 2.0)\n",
       " (1, 3.0)"
      ]
     },
     "execution_count": 2,
     "metadata": {},
     "output_type": "execute_result"
    }
   ],
   "source": [
    "A = [1, 2, 3, 3, 3, 1, 1, 1, NaN, NaN, NaN, 2, 2, 3]\n",
    "@show A\n",
    "RepVal(A) |> collect"
   ]
  },
  {
   "cell_type": "code",
   "execution_count": 3,
   "id": "cb8cfe50-8654-4c3c-8eb9-5da22adb2415",
   "metadata": {},
   "outputs": [
    {
     "data": {
      "text/plain": [
       "(3, NaN)"
      ]
     },
     "execution_count": 3,
     "metadata": {},
     "output_type": "execute_result"
    }
   ],
   "source": [
    "maxrep_maxval(A)"
   ]
  },
  {
   "cell_type": "code",
   "execution_count": 4,
   "id": "ffaeda6c-35cf-450a-bb4d-03771ebf1538",
   "metadata": {},
   "outputs": [
    {
     "data": {
      "text/plain": [
       "(3, 1.0)"
      ]
     },
     "execution_count": 4,
     "metadata": {},
     "output_type": "execute_result"
    }
   ],
   "source": [
    "maxrep_minval(A)"
   ]
  },
  {
   "cell_type": "code",
   "execution_count": 5,
   "id": "4391643c-6572-4b1d-9608-468dff1edc44",
   "metadata": {},
   "outputs": [
    {
     "name": "stdout",
     "output_type": "stream",
     "text": [
      "Variables\n",
      "  #self#\u001b[36m::Core.Const(iterate)\u001b[39m\n",
      "  x\u001b[36m::RepVal{Vector{Float64}}\u001b[39m\n",
      "  i\u001b[36m::Int64\u001b[39m\n",
      "  k\u001b[36m::Int64\u001b[39m\n",
      "\n",
      "Body\u001b[33m\u001b[1m::Union{Nothing, Tuple{Tuple{Int64, Float64}, Int64}}\u001b[22m\u001b[39m\n",
      "\u001b[90m1 ─\u001b[39m       Core.NewvarNode(:(k))\n",
      "\u001b[90m│  \u001b[39m %2  = Base.getproperty(x, :A)\u001b[36m::Vector{Float64}\u001b[39m\n",
      "\u001b[90m│  \u001b[39m %3  = Main.lastindex(%2)\u001b[36m::Int64\u001b[39m\n",
      "\u001b[90m│  \u001b[39m %4  = (i > %3)\u001b[36m::Bool\u001b[39m\n",
      "\u001b[90m└──\u001b[39m       goto #3 if not %4\n",
      "\u001b[90m2 ─\u001b[39m       return Main.nothing\n",
      "\u001b[90m3 ─\u001b[39m %7  = Base.getproperty(x, :A)\u001b[36m::Vector{Float64}\u001b[39m\n",
      "\u001b[90m│  \u001b[39m       (k = Main.repeatlength(%7, i))\n",
      "\u001b[90m│  \u001b[39m %9  = k\u001b[36m::Int64\u001b[39m\n",
      "\u001b[90m│  \u001b[39m %10 = Base.getproperty(x, :A)\u001b[36m::Vector{Float64}\u001b[39m\n",
      "\u001b[90m│  \u001b[39m %11 = Base.getindex(%10, i)\u001b[36m::Float64\u001b[39m\n",
      "\u001b[90m│  \u001b[39m %12 = Core.tuple(%9, %11)\u001b[36m::Tuple{Int64, Float64}\u001b[39m\n",
      "\u001b[90m│  \u001b[39m %13 = (i + k)\u001b[36m::Int64\u001b[39m\n",
      "\u001b[90m│  \u001b[39m %14 = Core.tuple(%12, %13)\u001b[36m::Tuple{Tuple{Int64, Float64}, Int64}\u001b[39m\n",
      "\u001b[90m└──\u001b[39m       return %14\n"
     ]
    }
   ],
   "source": [
    "@code_warntype iterate(RepVal(A), 1)"
   ]
  },
  {
   "cell_type": "code",
   "execution_count": null,
   "id": "051d862d-990b-4597-820d-01cd5a000368",
   "metadata": {},
   "outputs": [],
   "source": []
  }
 ],
 "metadata": {
  "jupytext": {
   "formats": "ipynb,auto:hydrogen"
  },
  "kernelspec": {
   "display_name": "Julia 1.6.2",
   "language": "julia",
   "name": "julia-1.6"
  },
  "language_info": {
   "file_extension": ".jl",
   "mimetype": "application/julia",
   "name": "julia",
   "version": "1.6.2"
  }
 },
 "nbformat": 4,
 "nbformat_minor": 5
}
