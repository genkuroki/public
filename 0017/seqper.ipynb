{
 "cells": [
  {
   "cell_type": "markdown",
   "id": "a2c63f32-e01f-4af5-b466-91fe13f08f86",
   "metadata": {},
   "source": [
    "https://discourse.julialang.org/t/julia-implementation-of-seqperiod-from-matlab/66791"
   ]
  },
  {
   "cell_type": "code",
   "execution_count": 1,
   "id": "936aa8f0-38b2-41be-aefd-aeb9422c6e80",
   "metadata": {},
   "outputs": [],
   "source": [
    "using BenchmarkTools\n",
    "\n",
    "function testvec(n, per; tol=1e-3)\n",
    "    X = [float(mod1(k, per)) for k in 1:n]\n",
    "    @. X + tol * (rand() - 0.5)\n",
    "end\n",
    "\n",
    "X = testvec(10^4, 999)\n",
    "a = zeros(length(X))\n",
    "a[end] = 2e-3\n",
    "Y = X + a;"
   ]
  },
  {
   "cell_type": "code",
   "execution_count": 2,
   "id": "bcdc6dd1-e420-4992-93fc-d1969078bfc7",
   "metadata": {},
   "outputs": [
    {
     "name": "stdout",
     "output_type": "stream",
     "text": [
      "seqper(X) = 999\n",
      "  222.300 μs (10016 allocations: 602.69 KiB)\n",
      "seqper(Y) = 10000\n",
      "  305.500 μs (10061 allocations: 1.42 MiB)\n"
     ]
    }
   ],
   "source": [
    "function seqper(x; tol=0.001)\n",
    "    ind1 = findall(≤(tol), [abs.(x .- x[1])...])\n",
    "    period = length(x)\n",
    "    for i = 2:length(ind1)\n",
    "        if maximum(abs.(x[ind1[i]:end] .- x[1:end-ind1[i]+1])) ≤ tol\n",
    "            period = ind1[i] - 1\n",
    "            break\n",
    "        end\n",
    "    end \n",
    "    return period\n",
    "end\n",
    "\n",
    "@show seqper(X)\n",
    "@btime seqper($X)\n",
    "@show seqper(Y)\n",
    "@btime seqper($Y);"
   ]
  },
  {
   "cell_type": "code",
   "execution_count": 3,
   "id": "d0453efb-363d-4b56-a400-f03f2cdd0260",
   "metadata": {},
   "outputs": [
    {
     "name": "stdout",
     "output_type": "stream",
     "text": [
      "seqper1(X) = 999\n",
      "  6.360 μs (0 allocations: 0 bytes)\n",
      "seqper1(Y) = 10000\n",
      "  34.100 μs (0 allocations: 0 bytes)\n"
     ]
    }
   ],
   "source": [
    "function seqper1(x; tol=1e-3)\n",
    "    @inbounds for k in 2:length(x)\n",
    "        if abs(x[k] - x[1]) ≤ tol\n",
    "            all(j -> abs(x[j] - x[j-k+1]) ≤ tol, k:lastindex(x)) && return k - 1\n",
    "        end\n",
    "    end \n",
    "    return length(x)\n",
    "end\n",
    "\n",
    "@show seqper1(X)\n",
    "@btime seqper1($X)\n",
    "@show seqper1(Y)\n",
    "@btime seqper1($Y);"
   ]
  },
  {
   "cell_type": "code",
   "execution_count": null,
   "id": "8483dbf2-22d6-4d6d-b4e1-fd813fe7d4d2",
   "metadata": {},
   "outputs": [],
   "source": []
  }
 ],
 "metadata": {
  "jupytext": {
   "formats": "ipynb,auto:hydrogen"
  },
  "kernelspec": {
   "display_name": "Julia 1.6.2",
   "language": "julia",
   "name": "julia-1.6"
  },
  "language_info": {
   "file_extension": ".jl",
   "mimetype": "application/julia",
   "name": "julia",
   "version": "1.6.2"
  }
 },
 "nbformat": 4,
 "nbformat_minor": 5
}
