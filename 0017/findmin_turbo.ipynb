{
 "cells": [
  {
   "cell_type": "code",
   "execution_count": 64,
   "id": "ad51735d-6dbe-419b-9d21-599d655bb6ac",
   "metadata": {},
   "outputs": [
    {
     "name": "stdout",
     "output_type": "stream",
     "text": [
      "\u001b[32m\u001b[1m      Status\u001b[22m\u001b[39m `D:\\.julia\\environments\\v1.8\\Project.toml`\n",
      " \u001b[90m [bdcacae8] \u001b[39mLoopVectorization v0.12.66 `https://github.com/JuliaSIMD/LoopVectorization.jl.git#master`\n"
     ]
    }
   ],
   "source": [
    "using Pkg; Pkg.status(\"LoopVectorization\")"
   ]
  },
  {
   "cell_type": "code",
   "execution_count": 65,
   "id": "5736e1c5-c695-4b79-a298-31279d616a55",
   "metadata": {},
   "outputs": [
    {
     "data": {
      "text/plain": [
       "findmin_turbo (generic function with 1 method)"
      ]
     },
     "execution_count": 65,
     "metadata": {},
     "output_type": "execute_result"
    }
   ],
   "source": [
    "using LoopVectorization, BenchmarkTools\n",
    "function findmin_turbo(x)\n",
    "    indmin = 0\n",
    "    minval = typemax(eltype(x))\n",
    "    @turbo for i ∈ eachindex(x)\n",
    "        newmin = x[i] < minval\n",
    "        minval = newmin ? x[i] : minval\n",
    "        indmin = newmin ? i    : indmin\n",
    "    end\n",
    "    minval, indmin\n",
    "end"
   ]
  },
  {
   "cell_type": "code",
   "execution_count": 76,
   "id": "94d8dc1f-88a1-4065-a1f7-2879921dff7d",
   "metadata": {},
   "outputs": [
    {
     "data": {
      "text/plain": [
       "myfindmin (generic function with 2 methods)"
      ]
     },
     "execution_count": 76,
     "metadata": {},
     "output_type": "execute_result"
    }
   ],
   "source": [
    "_min(x, y) = x < y ? x : y\n",
    "myfindmin(f, domain) = mapfoldl(((k, v),) -> (f(v), k), _min , pairs(domain))\n",
    "myfindmin(domain) = myfindmin(identity, domain)"
   ]
  },
  {
   "cell_type": "code",
   "execution_count": 77,
   "id": "1de5ef00-4e03-4987-ba60-12950184f51f",
   "metadata": {},
   "outputs": [
    {
     "name": "stdout",
     "output_type": "stream",
     "text": [
      "findmin_turbo(y) = (0.0013128019713591899, 942)\n",
      "minimum(y) = 0.0013128019713591899\n",
      "myfindmin(y) = (0.0013128019713591899, 942)\n",
      "findmin(y) = (0.0013128019713591899, 942)\n",
      "argmin(y) = 942\n"
     ]
    },
    {
     "data": {
      "text/plain": [
       "942"
      ]
     },
     "execution_count": 77,
     "metadata": {},
     "output_type": "execute_result"
    }
   ],
   "source": [
    "y = rand(1000);\n",
    "\n",
    "@show findmin_turbo(y)\n",
    "@show minimum(y)\n",
    "@show myfindmin(y)\n",
    "@show findmin(y)\n",
    "@show argmin(y)"
   ]
  },
  {
   "cell_type": "code",
   "execution_count": 78,
   "id": "41fe75a6-a6dc-45dc-9cdf-f9b9166208c1",
   "metadata": {},
   "outputs": [
    {
     "name": "stdout",
     "output_type": "stream",
     "text": [
      "  214.784 ns (0 allocations: 0 bytes)\n",
      "  764.706 ns (0 allocations: 0 bytes)\n",
      "  1.760 μs (0 allocations: 0 bytes)\n",
      "  1.660 μs (0 allocations: 0 bytes)\n",
      "  1.450 μs (0 allocations: 0 bytes)\n"
     ]
    },
    {
     "data": {
      "text/plain": [
       "638"
      ]
     },
     "execution_count": 78,
     "metadata": {},
     "output_type": "execute_result"
    }
   ],
   "source": [
    "y = rand(1000);\n",
    "\n",
    "@btime findmin_turbo($y)\n",
    "@btime minimum($y)\n",
    "@btime myfindmin($y)\n",
    "@btime findmin($y)\n",
    "@btime argmin($y)"
   ]
  },
  {
   "cell_type": "code",
   "execution_count": null,
   "id": "cdd3aa5c-3ed8-4b35-bc88-2fdfe3763f46",
   "metadata": {},
   "outputs": [],
   "source": []
  }
 ],
 "metadata": {
  "kernelspec": {
   "display_name": "Julia 1.8.0-DEV",
   "language": "julia",
   "name": "julia-1.8"
  },
  "language_info": {
   "file_extension": ".jl",
   "mimetype": "application/julia",
   "name": "julia",
   "version": "1.8.0"
  }
 },
 "nbformat": 4,
 "nbformat_minor": 5
}
