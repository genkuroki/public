{
 "cells": [
  {
   "cell_type": "code",
   "execution_count": 18,
   "id": "f6d51be4-6c5b-4e31-95b4-b83c303f48e0",
   "metadata": {},
   "outputs": [],
   "source": [
    "using BenchmarkTools\n",
    "N = 10000;\n",
    "a = ones(N); ##Original vector\n",
    "b = zeros(N); ##New values to assign to a\n",
    "w = findall(rand(N).> 0.5); ##random indices where a will be assigned the values of b"
   ]
  },
  {
   "cell_type": "code",
   "execution_count": 19,
   "id": "fcab2262-bdb7-43e3-b57c-7bd658321ab4",
   "metadata": {},
   "outputs": [
    {
     "name": "stdout",
     "output_type": "stream",
     "text": [
      "  7.733 μs (2 allocations: 39.27 KiB)\n"
     ]
    }
   ],
   "source": [
    "@btime $a[$w] .= $b[$w];"
   ]
  },
  {
   "cell_type": "code",
   "execution_count": 30,
   "id": "b839b04f-8ea9-4a07-ad89-d1e092d72a0a",
   "metadata": {},
   "outputs": [
    {
     "name": "stdout",
     "output_type": "stream",
     "text": [
      "  11.700 μs (4 allocations: 78.53 KiB)\n"
     ]
    }
   ],
   "source": [
    "@btime let a = $a, b = $b, w = $w\n",
    "    view(a, w) .= view(b, w)\n",
    "end;"
   ]
  },
  {
   "cell_type": "code",
   "execution_count": 20,
   "id": "c0bf87a2-dfc8-4b4e-8e2c-f98bc5afa7c2",
   "metadata": {},
   "outputs": [
    {
     "name": "stdout",
     "output_type": "stream",
     "text": [
      "  2.778 μs (0 allocations: 0 bytes)\n"
     ]
    }
   ],
   "source": [
    "@btime foreach(i -> $a[i] = $b[i], $w)"
   ]
  },
  {
   "cell_type": "code",
   "execution_count": 33,
   "id": "e30937fb-8b81-41ae-9060-29f3ae7fcc14",
   "metadata": {},
   "outputs": [
    {
     "name": "stdout",
     "output_type": "stream",
     "text": [
      "  3.612 μs (0 allocations: 0 bytes)\n"
     ]
    }
   ],
   "source": [
    "@btime @inbounds foreach(i -> $a[$w[i]] = $b[$w[i]], eachindex($w))"
   ]
  },
  {
   "cell_type": "code",
   "execution_count": 21,
   "id": "862a1130-f5fb-457e-86d9-d32b22b513f0",
   "metadata": {},
   "outputs": [
    {
     "name": "stdout",
     "output_type": "stream",
     "text": [
      "  2.689 μs (0 allocations: 0 bytes)\n"
     ]
    }
   ],
   "source": [
    "@btime for i in $w\n",
    "    $a[i] = $b[i]\n",
    "end"
   ]
  },
  {
   "cell_type": "code",
   "execution_count": 23,
   "id": "d3a39a38-7302-494f-a133-efef01e8eaa0",
   "metadata": {},
   "outputs": [
    {
     "name": "stdout",
     "output_type": "stream",
     "text": [
      "  2.467 μs (0 allocations: 0 bytes)\n"
     ]
    }
   ],
   "source": [
    "@btime for i in $w\n",
    "    @inbounds $a[i] = $b[i]\n",
    "end"
   ]
  },
  {
   "cell_type": "code",
   "execution_count": 25,
   "id": "1ee284a5-0b21-4cfb-8a12-2237d3f7026a",
   "metadata": {},
   "outputs": [
    {
     "name": "stdout",
     "output_type": "stream",
     "text": [
      "  2.567 μs (0 allocations: 0 bytes)\n"
     ]
    }
   ],
   "source": [
    "@btime let a = $a, b = $b, w = $w\n",
    "    for i in eachindex(w)\n",
    "        @inbounds a[w[i]] = b[w[i]]\n",
    "    end\n",
    "end"
   ]
  },
  {
   "cell_type": "code",
   "execution_count": null,
   "id": "8c0afc8a-4561-4380-bca1-889e6088c23c",
   "metadata": {},
   "outputs": [],
   "source": []
  }
 ],
 "metadata": {
  "kernelspec": {
   "display_name": "Julia 1.6.2",
   "language": "julia",
   "name": "julia-1.6"
  },
  "language_info": {
   "file_extension": ".jl",
   "mimetype": "application/julia",
   "name": "julia",
   "version": "1.6.2"
  }
 },
 "nbformat": 4,
 "nbformat_minor": 5
}
