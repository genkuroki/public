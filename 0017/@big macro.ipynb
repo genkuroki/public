{
 "cells": [
  {
   "cell_type": "code",
   "execution_count": 1,
   "id": "81779f65-a8e1-4872-81e6-d9928dbe8538",
   "metadata": {},
   "outputs": [
    {
     "data": {
      "text/plain": [
       "@big"
      ]
     },
     "execution_count": 1,
     "metadata": {},
     "output_type": "execute_result"
    }
   ],
   "source": [
    "\"\"\"\n",
    "    big!(expr)\n",
    "\n",
    "replaces `Int` and `Float64` values in `expr` by big ones and returns the result.\n",
    "\"\"\"\n",
    "big!(expr) = expr\n",
    "big!(expr::Int) = big(expr)\n",
    "big!(expr::Float64) = big(expr)\n",
    "function big!(expr::Expr)\n",
    "    for i in eachindex(expr.args)\n",
    "        expr.args[i] = big!(expr.args[i])\n",
    "    end\n",
    "    expr\n",
    "end\n",
    "\n",
    "\"\"\"\n",
    "    @big(expr)\n",
    "    @big expr\n",
    "\n",
    "replaces `Int` and `Float64` values in `expr` by big ones and executes the result.\n",
    "\"\"\"\n",
    "macro big(expr) big!(expr) end"
   ]
  },
  {
   "cell_type": "code",
   "execution_count": 2,
   "id": "11f58599-7782-475a-8b69-20a886eb29d0",
   "metadata": {},
   "outputs": [
    {
     "data": {
      "text/latex": [
       "\\begin{verbatim}\n",
       "big!(expr)\n",
       "\\end{verbatim}\n",
       "replaces \\texttt{Int} and \\texttt{Float64} values in \\texttt{expr} by big ones and returns the result.\n",
       "\n"
      ],
      "text/markdown": [
       "```\n",
       "big!(expr)\n",
       "```\n",
       "\n",
       "replaces `Int` and `Float64` values in `expr` by big ones and returns the result.\n"
      ],
      "text/plain": [
       "\u001b[36m  big!(expr)\u001b[39m\n",
       "\n",
       "  replaces \u001b[36mInt\u001b[39m and \u001b[36mFloat64\u001b[39m values in \u001b[36mexpr\u001b[39m by big ones and returns the result."
      ]
     },
     "execution_count": 2,
     "metadata": {},
     "output_type": "execute_result"
    }
   ],
   "source": [
    "@doc big!"
   ]
  },
  {
   "cell_type": "code",
   "execution_count": 3,
   "id": "c1def89f-136f-497f-b624-d455e5c5d36d",
   "metadata": {},
   "outputs": [
    {
     "data": {
      "text/latex": [
       "\\begin{verbatim}\n",
       "@big(expr)\n",
       "@big expr\n",
       "\\end{verbatim}\n",
       "replaces \\texttt{Int} and \\texttt{Float64} values in \\texttt{expr} by big ones and executes the result.\n",
       "\n"
      ],
      "text/markdown": [
       "```\n",
       "@big(expr)\n",
       "@big expr\n",
       "```\n",
       "\n",
       "replaces `Int` and `Float64` values in `expr` by big ones and executes the result.\n"
      ],
      "text/plain": [
       "\u001b[36m  @big(expr)\u001b[39m\n",
       "\u001b[36m  @big expr\u001b[39m\n",
       "\n",
       "  replaces \u001b[36mInt\u001b[39m and \u001b[36mFloat64\u001b[39m values in \u001b[36mexpr\u001b[39m by big ones and executes the result."
      ]
     },
     "execution_count": 3,
     "metadata": {},
     "output_type": "execute_result"
    }
   ],
   "source": [
    "@doc @big"
   ]
  },
  {
   "cell_type": "code",
   "execution_count": 4,
   "id": "1dba82e2-f52b-401e-bb7c-34e4207f08aa",
   "metadata": {},
   "outputs": [
    {
     "data": {
      "text/plain": [
       "3.141592653589793"
      ]
     },
     "execution_count": 4,
     "metadata": {},
     "output_type": "execute_result"
    }
   ],
   "source": [
    "1.0π"
   ]
  },
  {
   "cell_type": "code",
   "execution_count": 5,
   "id": "82fa8e11-b72d-43e6-902c-033517351d0a",
   "metadata": {},
   "outputs": [
    {
     "data": {
      "text/plain": [
       "3.141592653589793238462643383279502884197169399375105820974944592307816406286198"
      ]
     },
     "execution_count": 5,
     "metadata": {},
     "output_type": "execute_result"
    }
   ],
   "source": [
    "@big 1.0π"
   ]
  },
  {
   "cell_type": "code",
   "execution_count": 6,
   "id": "6f76e217-9692-4869-8cf8-8d57d9ecdcc6",
   "metadata": {},
   "outputs": [
    {
     "name": "stdout",
     "output_type": "stream",
     "text": [
      "factorial(20) = 2432902008176640000\n"
     ]
    },
    {
     "ename": "LoadError",
     "evalue": "OverflowError: 21 is too large to look up in the table; consider using `factorial(big(21))` instead",
     "output_type": "error",
     "traceback": [
      "OverflowError: 21 is too large to look up in the table; consider using `factorial(big(21))` instead",
      "",
      "Stacktrace:",
      " [1] factorial_lookup",
      "   @ .\\combinatorics.jl:19 [inlined]",
      " [2] factorial",
      "   @ .\\combinatorics.jl:27 [inlined]",
      " [3] top-level scope",
      "   @ .\\In[6]:2",
      " [4] eval",
      "   @ .\\boot.jl:360 [inlined]",
      " [5] include_string(mapexpr::typeof(REPL.softscope), mod::Module, code::String, filename::String)",
      "   @ Base .\\loading.jl:1116"
     ]
    }
   ],
   "source": [
    "for n in 20:24\n",
    "    println(\"factorial(\", n, \") = \", factorial(n))\n",
    "end"
   ]
  },
  {
   "cell_type": "code",
   "execution_count": 7,
   "id": "93ea14dd-580b-4073-a8f7-8e494b0b7528",
   "metadata": {},
   "outputs": [
    {
     "name": "stdout",
     "output_type": "stream",
     "text": [
      "factorial(20) = 2432902008176640000\n",
      "factorial(21) = 51090942171709440000\n",
      "factorial(22) = 1124000727777607680000\n",
      "factorial(23) = 25852016738884976640000\n",
      "factorial(24) = 620448401733239439360000\n"
     ]
    }
   ],
   "source": [
    "@big for n in 20:24\n",
    "    println(\"factorial(\", n, \") = \", factorial(n))\n",
    "end"
   ]
  },
  {
   "cell_type": "code",
   "execution_count": 8,
   "id": "5346f749-6bc9-48ad-9e95-6e5bf1250d4d",
   "metadata": {},
   "outputs": [
    {
     "data": {
      "text/plain": [
       "2.718281828459045235360287471352662497757247093699959574966967627724076630353555"
      ]
     },
     "execution_count": 8,
     "metadata": {},
     "output_type": "execute_result"
    }
   ],
   "source": [
    "@big @eval begin\n",
    "    n = 57\n",
    "    c = Tuple(1/factorial(k) for k in 0:n)\n",
    "end\n",
    "evalpoly(1, c)"
   ]
  },
  {
   "cell_type": "code",
   "execution_count": 9,
   "id": "a7e5155d-7697-413d-90d6-eb2b37c1fafe",
   "metadata": {},
   "outputs": [
    {
     "data": {
      "text/plain": [
       "2.718281828459045235360287471352662497757247093699959574966967627724076630353555"
      ]
     },
     "execution_count": 9,
     "metadata": {},
     "output_type": "execute_result"
    }
   ],
   "source": [
    "@big exp(1)"
   ]
  },
  {
   "cell_type": "code",
   "execution_count": 10,
   "id": "7668f392-0c13-45ed-adb9-d4c48250d6f0",
   "metadata": {},
   "outputs": [
    {
     "data": {
      "text/plain": [
       "NTuple{58, BigFloat}"
      ]
     },
     "execution_count": 10,
     "metadata": {},
     "output_type": "execute_result"
    }
   ],
   "source": [
    "typeof(c)"
   ]
  },
  {
   "cell_type": "code",
   "execution_count": null,
   "id": "25c85d5c-db30-4de7-a5a8-292bfe196990",
   "metadata": {},
   "outputs": [],
   "source": []
  }
 ],
 "metadata": {
  "jupytext": {
   "encoding": "# -*- coding: utf-8 -*-",
   "formats": "ipynb,jl:hydrogen"
  },
  "kernelspec": {
   "display_name": "Julia 1.6.2",
   "language": "julia",
   "name": "julia-1.6"
  },
  "language_info": {
   "file_extension": ".jl",
   "mimetype": "application/julia",
   "name": "julia",
   "version": "1.6.2"
  }
 },
 "nbformat": 4,
 "nbformat_minor": 5
}
