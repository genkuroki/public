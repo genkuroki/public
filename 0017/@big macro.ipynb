{
 "cells": [
  {
   "cell_type": "code",
   "execution_count": 1,
   "id": "81779f65-a8e1-4872-81e6-d9928dbe8538",
   "metadata": {},
   "outputs": [
    {
     "data": {
      "text/plain": [
       "@big"
      ]
     },
     "execution_count": 1,
     "metadata": {},
     "output_type": "execute_result"
    }
   ],
   "source": [
    "\"\"\"\n",
    "    big!(expr)\n",
    "\n",
    "converts `Int` and `Float64` literals in `expr` to big ones and returns the result.\n",
    "\"\"\"\n",
    "big!(expr) = expr\n",
    "big!(expr::Int) = big(expr)\n",
    "big!(expr::Float64) = big(expr)\n",
    "function big!(expr::Expr)\n",
    "    for i in eachindex(expr.args)\n",
    "        expr.args[i] = big!(expr.args[i])\n",
    "    end\n",
    "    expr\n",
    "end\n",
    "\n",
    "\"\"\"\n",
    "    @big(expr)\n",
    "\n",
    "converts `Int` and `Float64` literal in `expr` to big ones.\n",
    "\"\"\"\n",
    "macro big(expr) big!(expr) end"
   ]
  },
  {
   "cell_type": "code",
   "execution_count": 2,
   "id": "11f58599-7782-475a-8b69-20a886eb29d0",
   "metadata": {},
   "outputs": [
    {
     "data": {
      "text/latex": [
       "No documentation found.\n",
       "\n",
       "Binding \\texttt{bigliteral!} does not exist.\n",
       "\n"
      ],
      "text/markdown": [
       "No documentation found.\n",
       "\n",
       "Binding `bigliteral!` does not exist.\n"
      ],
      "text/plain": [
       "  No documentation found.\n",
       "\n",
       "  Binding \u001b[36mbigliteral!\u001b[39m does not exist."
      ]
     },
     "execution_count": 2,
     "metadata": {},
     "output_type": "execute_result"
    }
   ],
   "source": [
    "@doc bigliteral!"
   ]
  },
  {
   "cell_type": "code",
   "execution_count": 3,
   "id": "c1def89f-136f-497f-b624-d455e5c5d36d",
   "metadata": {},
   "outputs": [
    {
     "data": {
      "text/latex": [
       "\\begin{verbatim}\n",
       "@big(expr)\n",
       "\\end{verbatim}\n",
       "converts \\texttt{Int} and \\texttt{Float64} literal in \\texttt{expr} to big ones.\n",
       "\n"
      ],
      "text/markdown": [
       "```\n",
       "@big(expr)\n",
       "```\n",
       "\n",
       "converts `Int` and `Float64` literal in `expr` to big ones.\n"
      ],
      "text/plain": [
       "\u001b[36m  @big(expr)\u001b[39m\n",
       "\n",
       "  converts \u001b[36mInt\u001b[39m and \u001b[36mFloat64\u001b[39m literal in \u001b[36mexpr\u001b[39m to big ones."
      ]
     },
     "execution_count": 3,
     "metadata": {},
     "output_type": "execute_result"
    }
   ],
   "source": [
    "@doc @big"
   ]
  },
  {
   "cell_type": "code",
   "execution_count": 4,
   "id": "1dba82e2-f52b-401e-bb7c-34e4207f08aa",
   "metadata": {},
   "outputs": [
    {
     "data": {
      "text/plain": [
       "3.141592653589793"
      ]
     },
     "execution_count": 4,
     "metadata": {},
     "output_type": "execute_result"
    }
   ],
   "source": [
    "1.0π"
   ]
  },
  {
   "cell_type": "code",
   "execution_count": 5,
   "id": "82fa8e11-b72d-43e6-902c-033517351d0a",
   "metadata": {},
   "outputs": [
    {
     "data": {
      "text/plain": [
       "3.141592653589793238462643383279502884197169399375105820974944592307816406286198"
      ]
     },
     "execution_count": 5,
     "metadata": {},
     "output_type": "execute_result"
    }
   ],
   "source": [
    "@big 1.0π"
   ]
  },
  {
   "cell_type": "code",
   "execution_count": 6,
   "id": "6f76e217-9692-4869-8cf8-8d57d9ecdcc6",
   "metadata": {},
   "outputs": [
    {
     "name": "stdout",
     "output_type": "stream",
     "text": [
      "factorial(20) = 2432902008176640000\n"
     ]
    },
    {
     "ename": "LoadError",
     "evalue": "OverflowError: 21 is too large to look up in the table; consider using `factorial(big(21))` instead",
     "output_type": "error",
     "traceback": [
      "OverflowError: 21 is too large to look up in the table; consider using `factorial(big(21))` instead",
      "",
      "Stacktrace:",
      " [1] factorial_lookup",
      "   @ .\\combinatorics.jl:19 [inlined]",
      " [2] factorial",
      "   @ .\\combinatorics.jl:27 [inlined]",
      " [3] top-level scope",
      "   @ .\\In[6]:2",
      " [4] eval",
      "   @ .\\boot.jl:360 [inlined]",
      " [5] include_string(mapexpr::typeof(REPL.softscope), mod::Module, code::String, filename::String)",
      "   @ Base .\\loading.jl:1116"
     ]
    }
   ],
   "source": [
    "for n in 20:24\n",
    "    println(\"factorial(\", n, \") = \", factorial(n))\n",
    "end"
   ]
  },
  {
   "cell_type": "code",
   "execution_count": 7,
   "id": "93ea14dd-580b-4073-a8f7-8e494b0b7528",
   "metadata": {},
   "outputs": [
    {
     "name": "stdout",
     "output_type": "stream",
     "text": [
      "factorial(20) = 2432902008176640000\n",
      "factorial(21) = 51090942171709440000\n",
      "factorial(22) = 1124000727777607680000\n",
      "factorial(23) = 25852016738884976640000\n",
      "factorial(24) = 620448401733239439360000\n"
     ]
    }
   ],
   "source": [
    "@big for n in 20:24\n",
    "    println(\"factorial(\", n, \") = \", factorial(n))\n",
    "end"
   ]
  },
  {
   "cell_type": "code",
   "execution_count": null,
   "id": "21ce4b64-2193-409b-abd7-3c1f13c0d989",
   "metadata": {},
   "outputs": [],
   "source": []
  }
 ],
 "metadata": {
  "jupytext": {
   "formats": "ipynb,auto:hydrogen"
  },
  "kernelspec": {
   "display_name": "Julia 1.6.2",
   "language": "julia",
   "name": "julia-1.6"
  },
  "language_info": {
   "file_extension": ".jl",
   "mimetype": "application/julia",
   "name": "julia",
   "version": "1.6.2"
  }
 },
 "nbformat": 4,
 "nbformat_minor": 5
}
