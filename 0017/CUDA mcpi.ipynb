{
 "cells": [
  {
   "cell_type": "code",
   "execution_count": 1,
   "id": "f74c8118-f8d1-4748-920b-2a14d15c411c",
   "metadata": {},
   "outputs": [
    {
     "name": "stdout",
     "output_type": "stream",
     "text": [
      "mcpi(10 ^ 8) = 3.1417248\n",
      "  239.312 ms (12 allocations: 19.66 KiB)\n"
     ]
    },
    {
     "data": {
      "text/plain": [
       "3.14133024"
      ]
     },
     "execution_count": 1,
     "metadata": {},
     "output_type": "execute_result"
    }
   ],
   "source": [
    "using BenchmarkTools\n",
    "using Random\n",
    "function mcpi(n)\n",
    "    rng = MersenneTwister()\n",
    "    4count(_ -> rand(rng, Float32)^2 + rand(rng, Float32)^2 ≤ 1, 1:n)/n\n",
    "end\n",
    "@show mcpi(10^8)\n",
    "@btime mcpi(10^8)"
   ]
  },
  {
   "cell_type": "code",
   "execution_count": 2,
   "id": "690822c9-bd86-4761-b5c6-351099b9de39",
   "metadata": {},
   "outputs": [
    {
     "name": "stdout",
     "output_type": "stream",
     "text": [
      "mcpi_cu(10 ^ 8) = 3.1418064\n",
      "  6.912 ms (11195 allocations: 351.48 KiB)\n"
     ]
    },
    {
     "data": {
      "text/plain": [
       "3.14166168"
      ]
     },
     "execution_count": 2,
     "metadata": {},
     "output_type": "execute_result"
    }
   ],
   "source": [
    "using BenchmarkTools\n",
    "using CUDA\n",
    "mcpi_cu(n) = 4count(x -> x^2 + rand(Float32)^2 ≤ 1, CUDA.rand(n))/n\n",
    "@show mcpi_cu(10^8)\n",
    "@btime mcpi_cu(10^8)"
   ]
  },
  {
   "cell_type": "code",
   "execution_count": 3,
   "id": "dba37845-32e9-43aa-ae1d-e39036315a62",
   "metadata": {},
   "outputs": [
    {
     "name": "stdout",
     "output_type": "stream",
     "text": [
      "CUDA toolkit 11.4.1, artifact installation\n",
      "CUDA driver 11.2.0\n",
      "NVIDIA driver 462.31.0\n",
      "\n",
      "Libraries: \n",
      "- CUBLAS: 11.5.4\n",
      "- CURAND: 10.2.5\n",
      "- CUFFT: 10.5.1\n",
      "- CUSOLVER: 11.2.0\n",
      "- CUSPARSE: 11.6.0\n",
      "- CUPTI: 14.0.0\n",
      "- NVML: 11.0.0+462.31\n",
      "- CUDNN: 8.20.2 (for CUDA 11.4.0)\n",
      "- CUTENSOR: 1.3.0 (for CUDA 11.2.0)\n",
      "\n",
      "Toolchain:\n",
      "- Julia: 1.6.2\n",
      "- LLVM: 11.0.1\n",
      "- PTX ISA support: 3.2, 4.0, 4.1, 4.2, 4.3, 5.0, 6.0, 6.1, 6.3, 6.4, 6.5, 7.0\n",
      "- Device capability support: sm_35, sm_37, sm_50, sm_52, sm_53, sm_60, sm_61, sm_62, sm_70, sm_72, sm_75, sm_80\n",
      "\n",
      "1 device:\n",
      "  0: GeForce GTX 1650 Ti (sm_75, 833.594 MiB / 4.000 GiB available)\n"
     ]
    }
   ],
   "source": [
    "CUDA.versioninfo()"
   ]
  },
  {
   "cell_type": "code",
   "execution_count": null,
   "id": "cbf05ace-1aa3-4b36-930b-f6e66bf5775e",
   "metadata": {},
   "outputs": [],
   "source": []
  }
 ],
 "metadata": {
  "jupytext": {
   "formats": "ipynb,auto:hydrogen"
  },
  "kernelspec": {
   "display_name": "Julia 1.6.2",
   "language": "julia",
   "name": "julia-1.6"
  },
  "language_info": {
   "file_extension": ".jl",
   "mimetype": "application/julia",
   "name": "julia",
   "version": "1.6.2"
  }
 },
 "nbformat": 4,
 "nbformat_minor": 5
}
