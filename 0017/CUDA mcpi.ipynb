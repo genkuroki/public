{
 "cells": [
  {
   "cell_type": "code",
   "execution_count": 1,
   "id": "f74c8118-f8d1-4748-920b-2a14d15c411c",
   "metadata": {},
   "outputs": [
    {
     "name": "stdout",
     "output_type": "stream",
     "text": [
      "mcpi_f32(10 ^ 8) = 3.14160556\n",
      "  239.164 ms (12 allocations: 19.66 KiB)\n"
     ]
    }
   ],
   "source": [
    "using BenchmarkTools\n",
    "using Random\n",
    "function mcpi_f32(n)\n",
    "    rng = MersenneTwister()\n",
    "    4count(_ -> rand(rng, Float32)^2 + rand(rng, Float32)^2 ≤ 1, 1:n)/n\n",
    "end\n",
    "@show mcpi_f32(10^8)\n",
    "@btime mcpi_f32(10^8);"
   ]
  },
  {
   "cell_type": "code",
   "execution_count": 2,
   "id": "690822c9-bd86-4761-b5c6-351099b9de39",
   "metadata": {},
   "outputs": [
    {
     "name": "stdout",
     "output_type": "stream",
     "text": [
      "mcpi_f32_cu(10 ^ 8) = 3.14173908\n",
      "  6.894 ms (8189 allocations: 257.55 KiB)\n"
     ]
    }
   ],
   "source": [
    "using BenchmarkTools\n",
    "using CUDA\n",
    "mcpi_f32_cu(n) = 4count(x -> x^2 + rand(Float32)^2 ≤ 1, CUDA.rand(n))/n\n",
    "@show mcpi_f32_cu(10^8)\n",
    "@btime mcpi_f32_cu(10^8);"
   ]
  },
  {
   "cell_type": "code",
   "execution_count": 3,
   "id": "346f19ff-30a7-4e96-9816-e5d1b12b944a",
   "metadata": {},
   "outputs": [
    {
     "name": "stdout",
     "output_type": "stream",
     "text": [
      "mcpi_f64(10 ^ 8) = 3.14161428\n",
      "  225.706 ms (12 allocations: 19.66 KiB)\n"
     ]
    }
   ],
   "source": [
    "using BenchmarkTools\n",
    "using Random\n",
    "function mcpi_f64(n)\n",
    "    rng = MersenneTwister()\n",
    "    4count(_ -> rand(rng)^2 + rand(rng)^2 ≤ 1, 1:n)/n\n",
    "end\n",
    "@show mcpi_f64(10^8)\n",
    "@btime mcpi_f64(10^8);"
   ]
  },
  {
   "cell_type": "code",
   "execution_count": 4,
   "id": "705cd453-eeb0-4dd8-9c53-4108c7fc3f5e",
   "metadata": {},
   "outputs": [
    {
     "name": "stdout",
     "output_type": "stream",
     "text": [
      "mcpi_f64_cu(10 ^ 8) = 3.1418442\n",
      "  12.518 ms (15601 allocations: 489.17 KiB)\n"
     ]
    }
   ],
   "source": [
    "using BenchmarkTools\n",
    "using CUDA\n",
    "mcpi_f64_cu(n) = 4count(x -> x^2 + rand(Float64)^2 ≤ 1, CUDA.rand(Float64, n))/n\n",
    "@show mcpi_f64_cu(10^8)\n",
    "@btime mcpi_f64_cu(10^8);"
   ]
  },
  {
   "cell_type": "code",
   "execution_count": 5,
   "id": "dba37845-32e9-43aa-ae1d-e39036315a62",
   "metadata": {},
   "outputs": [
    {
     "name": "stdout",
     "output_type": "stream",
     "text": [
      "CUDA toolkit 11.4.1, artifact installation\n",
      "CUDA driver 11.2.0\n",
      "NVIDIA driver 462.31.0\n",
      "\n",
      "Libraries: \n",
      "- CUBLAS: 11.5.4\n",
      "- CURAND: 10.2.5\n",
      "- CUFFT: 10.5.1\n",
      "- CUSOLVER: 11.2.0\n",
      "- CUSPARSE: 11.6.0\n",
      "- CUPTI: 14.0.0\n",
      "- NVML: 11.0.0+462.31\n",
      "- CUDNN: 8.20.2 (for CUDA 11.4.0)\n",
      "- CUTENSOR: 1.3.0 (for CUDA 11.2.0)\n",
      "\n",
      "Toolchain:\n",
      "- Julia: 1.6.2\n",
      "- LLVM: 11.0.1\n",
      "- PTX ISA support: 3.2, 4.0, 4.1, 4.2, 4.3, 5.0, 6.0, 6.1, 6.3, 6.4, 6.5, 7.0\n",
      "- Device capability support: sm_35, sm_37, sm_50, sm_52, sm_53, sm_60, sm_61, sm_62, sm_70, sm_72, sm_75, sm_80\n",
      "\n",
      "1 device:\n",
      "  0: GeForce GTX 1650 Ti (sm_75, 244.281 MiB / 4.000 GiB available)\n"
     ]
    }
   ],
   "source": [
    "CUDA.versioninfo()"
   ]
  },
  {
   "cell_type": "code",
   "execution_count": null,
   "id": "cbf05ace-1aa3-4b36-930b-f6e66bf5775e",
   "metadata": {},
   "outputs": [],
   "source": []
  }
 ],
 "metadata": {
  "jupytext": {
   "encoding": "# -*- coding: utf-8 -*-",
   "formats": "ipynb,jl:hydrogen"
  },
  "kernelspec": {
   "display_name": "Julia 1.6.2",
   "language": "julia",
   "name": "julia-1.6"
  },
  "language_info": {
   "file_extension": ".jl",
   "mimetype": "application/julia",
   "name": "julia",
   "version": "1.6.2"
  }
 },
 "nbformat": 4,
 "nbformat_minor": 5
}
