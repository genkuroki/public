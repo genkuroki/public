{
 "cells": [
  {
   "cell_type": "code",
   "execution_count": 1,
   "id": "6f46fff6-f36b-4b48-a823-7bedf59df797",
   "metadata": {},
   "outputs": [
    {
     "data": {
      "text/plain": [
       "2-element Vector{Int64}:\n",
       " 1\n",
       " 2"
      ]
     },
     "execution_count": 1,
     "metadata": {},
     "output_type": "execute_result"
    }
   ],
   "source": [
    "a = collect(1:2)"
   ]
  },
  {
   "cell_type": "code",
   "execution_count": 2,
   "id": "6a330103-2345-49d7-8a5a-cdfab150739c",
   "metadata": {},
   "outputs": [
    {
     "data": {
      "text/plain": [
       "2-element LinearIndices{1, Tuple{Base.OneTo{Int64}}}:\n",
       " 1\n",
       " 2"
      ]
     },
     "execution_count": 2,
     "metadata": {},
     "output_type": "execute_result"
    }
   ],
   "source": [
    "keys(a)"
   ]
  },
  {
   "cell_type": "code",
   "execution_count": 3,
   "id": "c975d8f1-6631-411c-a774-80dd8ed2debf",
   "metadata": {
    "tags": []
   },
   "outputs": [
    {
     "data": {
      "text/plain": [
       "2×3 Matrix{Int64}:\n",
       " 11  12  13\n",
       " 21  22  23"
      ]
     },
     "execution_count": 3,
     "metadata": {},
     "output_type": "execute_result"
    }
   ],
   "source": [
    "b = 10(1:2) .+ (1:3)'"
   ]
  },
  {
   "cell_type": "code",
   "execution_count": 4,
   "id": "7118e211-1399-4487-b48d-abaf6ebf0bdc",
   "metadata": {},
   "outputs": [
    {
     "data": {
      "text/plain": [
       "2×3 CartesianIndices{2, Tuple{Base.OneTo{Int64}, Base.OneTo{Int64}}}:\n",
       " CartesianIndex(1, 1)  CartesianIndex(1, 2)  CartesianIndex(1, 3)\n",
       " CartesianIndex(2, 1)  CartesianIndex(2, 2)  CartesianIndex(2, 3)"
      ]
     },
     "execution_count": 4,
     "metadata": {},
     "output_type": "execute_result"
    }
   ],
   "source": [
    "keys(b)"
   ]
  },
  {
   "cell_type": "code",
   "execution_count": 5,
   "id": "85ce99a4-3ab0-473e-997b-101580d9d102",
   "metadata": {},
   "outputs": [
    {
     "data": {
      "text/plain": [
       "2×3×4 Array{Int64, 3}:\n",
       "[:, :, 1] =\n",
       " 111  121  131\n",
       " 211  221  231\n",
       "\n",
       "[:, :, 2] =\n",
       " 112  122  132\n",
       " 212  222  232\n",
       "\n",
       "[:, :, 3] =\n",
       " 113  123  133\n",
       " 213  223  233\n",
       "\n",
       "[:, :, 4] =\n",
       " 114  124  134\n",
       " 214  224  234"
      ]
     },
     "execution_count": 5,
     "metadata": {},
     "output_type": "execute_result"
    }
   ],
   "source": [
    "c = 100(1:2) .+ 10(1:3)' .+ reshape(1:4, 1, 1, :)"
   ]
  },
  {
   "cell_type": "code",
   "execution_count": 6,
   "id": "b047f1f3-2a7e-41ec-aac8-92b7d90a7966",
   "metadata": {},
   "outputs": [
    {
     "data": {
      "text/plain": [
       "2×3×4 CartesianIndices{3, Tuple{Base.OneTo{Int64}, Base.OneTo{Int64}, Base.OneTo{Int64}}}:\n",
       "[:, :, 1] =\n",
       " CartesianIndex(1, 1, 1)  CartesianIndex(1, 2, 1)  CartesianIndex(1, 3, 1)\n",
       " CartesianIndex(2, 1, 1)  CartesianIndex(2, 2, 1)  CartesianIndex(2, 3, 1)\n",
       "\n",
       "[:, :, 2] =\n",
       " CartesianIndex(1, 1, 2)  CartesianIndex(1, 2, 2)  CartesianIndex(1, 3, 2)\n",
       " CartesianIndex(2, 1, 2)  CartesianIndex(2, 2, 2)  CartesianIndex(2, 3, 2)\n",
       "\n",
       "[:, :, 3] =\n",
       " CartesianIndex(1, 1, 3)  CartesianIndex(1, 2, 3)  CartesianIndex(1, 3, 3)\n",
       " CartesianIndex(2, 1, 3)  CartesianIndex(2, 2, 3)  CartesianIndex(2, 3, 3)\n",
       "\n",
       "[:, :, 4] =\n",
       " CartesianIndex(1, 1, 4)  CartesianIndex(1, 2, 4)  CartesianIndex(1, 3, 4)\n",
       " CartesianIndex(2, 1, 4)  CartesianIndex(2, 2, 4)  CartesianIndex(2, 3, 4)"
      ]
     },
     "execution_count": 6,
     "metadata": {},
     "output_type": "execute_result"
    }
   ],
   "source": [
    "keys(c)"
   ]
  },
  {
   "cell_type": "code",
   "execution_count": 7,
   "id": "5791ce36-8f5e-400d-9914-7b8a139c216e",
   "metadata": {},
   "outputs": [
    {
     "data": {
      "text/plain": [
       "2×3×4 OffsetArray(::Array{Int64, 3}, 0:1, -1:1, -3:0) with eltype Int64 with indices 0:1×-1:1×-3:0:\n",
       "[:, :, -3] =\n",
       " 111  121  131\n",
       " 211  221  231\n",
       "\n",
       "[:, :, -2] =\n",
       " 112  122  132\n",
       " 212  222  232\n",
       "\n",
       "[:, :, -1] =\n",
       " 113  123  133\n",
       " 213  223  233\n",
       "\n",
       "[:, :, 0] =\n",
       " 114  124  134\n",
       " 214  224  234"
      ]
     },
     "execution_count": 7,
     "metadata": {},
     "output_type": "execute_result"
    }
   ],
   "source": [
    "using OffsetArrays\n",
    "o = OffsetArray(c, 0:1, -1:1, -3:0)"
   ]
  },
  {
   "cell_type": "code",
   "execution_count": 8,
   "id": "abdcdd32-abf9-44cd-b1a8-d923ba34be65",
   "metadata": {},
   "outputs": [
    {
     "data": {
      "text/plain": [
       "2×3×4 CartesianIndices{3, Tuple{OffsetArrays.IdOffsetRange{Int64, Base.OneTo{Int64}}, OffsetArrays.IdOffsetRange{Int64, Base.OneTo{Int64}}, OffsetArrays.IdOffsetRange{Int64, Base.OneTo{Int64}}}} with indices 0:1×-1:1×-3:0:\n",
       "[:, :, -3] =\n",
       " CartesianIndex(0, -1, -3)  …  CartesianIndex(0, 1, -3)\n",
       " CartesianIndex(1, -1, -3)     CartesianIndex(1, 1, -3)\n",
       "\n",
       "[:, :, -2] =\n",
       " CartesianIndex(0, -1, -2)  …  CartesianIndex(0, 1, -2)\n",
       " CartesianIndex(1, -1, -2)     CartesianIndex(1, 1, -2)\n",
       "\n",
       "[:, :, -1] =\n",
       " CartesianIndex(0, -1, -1)  …  CartesianIndex(0, 1, -1)\n",
       " CartesianIndex(1, -1, -1)     CartesianIndex(1, 1, -1)\n",
       "\n",
       "[:, :, 0] =\n",
       " CartesianIndex(0, -1, 0)  CartesianIndex(0, 0, 0)  CartesianIndex(0, 1, 0)\n",
       " CartesianIndex(1, -1, 0)  CartesianIndex(1, 0, 0)  CartesianIndex(1, 1, 0)"
      ]
     },
     "execution_count": 8,
     "metadata": {},
     "output_type": "execute_result"
    }
   ],
   "source": [
    "keys(o)"
   ]
  },
  {
   "cell_type": "code",
   "execution_count": 9,
   "id": "ec815ca2-d500-4240-832f-a9dc632e7780",
   "metadata": {},
   "outputs": [
    {
     "data": {
      "text/plain": [
       "Base.OneTo(24)"
      ]
     },
     "execution_count": 9,
     "metadata": {},
     "output_type": "execute_result"
    }
   ],
   "source": [
    "eachindex(o)"
   ]
  },
  {
   "cell_type": "code",
   "execution_count": null,
   "id": "9668c1c4-04e1-4475-84c7-298ebc1c8326",
   "metadata": {},
   "outputs": [],
   "source": []
  }
 ],
 "metadata": {
  "kernelspec": {
   "display_name": "Julia 1.7.2",
   "language": "julia",
   "name": "julia-1.7"
  },
  "language_info": {
   "file_extension": ".jl",
   "mimetype": "application/julia",
   "name": "julia",
   "version": "1.7.2"
  }
 },
 "nbformat": 4,
 "nbformat_minor": 5
}
