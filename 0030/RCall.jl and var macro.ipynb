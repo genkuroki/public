{
 "cells": [
  {
   "cell_type": "code",
   "execution_count": 1,
   "id": "a3443a90-f797-417e-8b95-d727be047f90",
   "metadata": {},
   "outputs": [],
   "source": [
    "using RCall"
   ]
  },
  {
   "cell_type": "code",
   "execution_count": 2,
   "id": "fdd4fb4f-581c-469e-882c-4c23a9877ec0",
   "metadata": {},
   "outputs": [],
   "source": [
    "@rlibrary stats"
   ]
  },
  {
   "cell_type": "code",
   "execution_count": 3,
   "id": "d9f71b33-c706-4f45-a3e5-bb6d09d25c6d",
   "metadata": {},
   "outputs": [
    {
     "data": {
      "text/plain": [
       "RObject{VecSxp}\n",
       "\n",
       "\tPearson's Chi-squared test with simulated p-value (based on 2000\n",
       "\treplicates)\n",
       "\n",
       "data:  c(0L, 0L, 0L, 5L, 15L, 100L) and c(0, 0, 0, 0.333333333333333, 0.333333333333333, 0.333333333333333\n",
       ")\n",
       "X-squared = 6, df = NA, p-value = 0.1084\n",
       "\n"
      ]
     },
     "execution_count": 3,
     "metadata": {},
     "output_type": "execute_result"
    }
   ],
   "source": [
    "chisq_test([0, 0, 0, 5, 15, 100], [0, 0, 0, 1/3, 1/3, 1/3], var\"simulate.p.value\"=true)"
   ]
  },
  {
   "cell_type": "code",
   "execution_count": null,
   "id": "8bf9d4a3-bf72-4f74-9f3d-0058f0d4194d",
   "metadata": {},
   "outputs": [],
   "source": []
  }
 ],
 "metadata": {
  "kernelspec": {
   "display_name": "Julia 1.7.2",
   "language": "julia",
   "name": "julia-1.7"
  },
  "language_info": {
   "file_extension": ".jl",
   "mimetype": "application/julia",
   "name": "julia",
   "version": "1.7.2"
  }
 },
 "nbformat": 4,
 "nbformat_minor": 5
}
