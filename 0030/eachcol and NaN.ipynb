{
 "cells": [
  {
   "cell_type": "code",
   "execution_count": 1,
   "id": "c5c9f3aa-0b47-4c50-ab83-9f341463f2a9",
   "metadata": {},
   "outputs": [
    {
     "data": {
      "text/plain": [
       "10×5 Matrix{Int64}:\n",
       " 1001  2001  3001  4001  5001\n",
       " 1002  2002  3002  4002  5002\n",
       " 1003  2003  3003  4003  5003\n",
       " 1004  2004  3004  4004  5004\n",
       " 1005  2005  3005  4005  5005\n",
       " 1006  2006  3006  4006  5006\n",
       " 1007  2007  3007  4007  5007\n",
       " 1008  2008  3008  4008  5008\n",
       " 1009  2009  3009  4009  5009\n",
       " 1010  2010  3010  4010  5010"
      ]
     },
     "execution_count": 1,
     "metadata": {},
     "output_type": "execute_result"
    }
   ],
   "source": [
    "A = (1:10) .+ 1000(1:5)'"
   ]
  },
  {
   "cell_type": "code",
   "execution_count": 2,
   "id": "d93320d1-56ce-4b98-808e-b630306d0973",
   "metadata": {},
   "outputs": [
    {
     "data": {
      "text/plain": [
       "5-element Vector{Int64}:\n",
       " 10055\n",
       " 20055\n",
       " 30055\n",
       " 40055\n",
       " 50055"
      ]
     },
     "execution_count": 2,
     "metadata": {},
     "output_type": "execute_result"
    }
   ],
   "source": [
    "sum.(eachcol(A))"
   ]
  },
  {
   "cell_type": "code",
   "execution_count": 3,
   "id": "a69f9948-fca9-4c06-9f25-db3c79adb3a0",
   "metadata": {},
   "outputs": [
    {
     "data": {
      "text/plain": [
       "NaN"
      ]
     },
     "execution_count": 3,
     "metadata": {},
     "output_type": "execute_result"
    }
   ],
   "source": [
    "0.0/0.0"
   ]
  },
  {
   "cell_type": "code",
   "execution_count": 4,
   "id": "6076fed2-9a60-4975-8512-8310857bcf09",
   "metadata": {},
   "outputs": [
    {
     "data": {
      "text/plain": [
       "NaN"
      ]
     },
     "execution_count": 4,
     "metadata": {},
     "output_type": "execute_result"
    }
   ],
   "source": [
    "Inf - Inf"
   ]
  },
  {
   "cell_type": "code",
   "execution_count": 5,
   "id": "ecdabe0a-0783-4e75-9bca-9608c5f8eea5",
   "metadata": {},
   "outputs": [
    {
     "data": {
      "text/plain": [
       "NaN"
      ]
     },
     "execution_count": 5,
     "metadata": {},
     "output_type": "execute_result"
    }
   ],
   "source": [
    "Inf * 0.0"
   ]
  },
  {
   "cell_type": "code",
   "execution_count": 6,
   "id": "dbdaca35-4608-4ea6-8d0a-af23a8f189b0",
   "metadata": {},
   "outputs": [
    {
     "data": {
      "text/plain": [
       "NaN"
      ]
     },
     "execution_count": 6,
     "metadata": {},
     "output_type": "execute_result"
    }
   ],
   "source": [
    "exp(1000) * exp(-1000)"
   ]
  },
  {
   "cell_type": "code",
   "execution_count": null,
   "id": "92c6b5c7-5a1e-462e-936c-a27492e4c454",
   "metadata": {},
   "outputs": [],
   "source": []
  }
 ],
 "metadata": {
  "kernelspec": {
   "display_name": "Julia 1.7.2",
   "language": "julia",
   "name": "julia-1.7"
  },
  "language_info": {
   "file_extension": ".jl",
   "mimetype": "application/julia",
   "name": "julia",
   "version": "1.7.2"
  }
 },
 "nbformat": 4,
 "nbformat_minor": 5
}
