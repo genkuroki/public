{
 "cells": [
  {
   "cell_type": "code",
   "execution_count": 1,
   "id": "68d8f3d0-e131-4fa1-9c04-959bbd22e92b",
   "metadata": {},
   "outputs": [
    {
     "data": {
      "text/plain": [
       "(x,)"
      ]
     },
     "execution_count": 1,
     "metadata": {},
     "output_type": "execute_result"
    }
   ],
   "source": [
    "using SymPy\n",
    "@vars x"
   ]
  },
  {
   "cell_type": "code",
   "execution_count": 2,
   "id": "a840d6ab-cac3-44a4-b9d7-3dfdbd90a92f",
   "metadata": {},
   "outputs": [
    {
     "data": {
      "text/latex": [
       "$\\frac{1}{1 + \\frac{1}{x}}$"
      ],
      "text/plain": [
       "  1  \n",
       "-----\n",
       "    1\n",
       "1 + -\n",
       "    x"
      ]
     },
     "execution_count": 2,
     "metadata": {},
     "output_type": "execute_result"
    }
   ],
   "source": [
    "F = 1/(1+1/x)"
   ]
  },
  {
   "cell_type": "code",
   "execution_count": 3,
   "id": "3816f423-c086-455e-a37a-8e9222596e47",
   "metadata": {},
   "outputs": [
    {
     "data": {
      "text/latex": [
       "$\\left[ \\begin{array}{r}\\frac{1}{1 + \\frac{1}{x}}\\\\\\frac{1}{1 + \\frac{1}{x}}\\end{array} \\right]$\n"
      ],
      "text/plain": [
       "2-element Vector{Sym}:\n",
       " 1/(1 + 1/x)\n",
       " 1/(1 + 1/x)"
      ]
     },
     "execution_count": 3,
     "metadata": {},
     "output_type": "execute_result"
    }
   ],
   "source": [
    "v = [F, F]"
   ]
  },
  {
   "cell_type": "code",
   "execution_count": 4,
   "id": "e1df108f-568a-48db-b320-af5f4f976349",
   "metadata": {},
   "outputs": [
    {
     "data": {
      "text/latex": [
       "$\\left[ \\begin{array}{rr}\\frac{1}{1 + \\frac{1}{x}}&\\frac{1}{1 + \\frac{1}{x}}\\\\\\frac{1}{1 + \\frac{1}{x}}&\\frac{1}{1 + \\frac{1}{x}}\\end{array}\\right]$\n"
      ],
      "text/plain": [
       "2×2 Matrix{Sym}:\n",
       " 1/(1 + 1/x)  1/(1 + 1/x)\n",
       " 1/(1 + 1/x)  1/(1 + 1/x)"
      ]
     },
     "execution_count": 4,
     "metadata": {},
     "output_type": "execute_result"
    }
   ],
   "source": [
    "A = [v v]"
   ]
  },
  {
   "cell_type": "code",
   "execution_count": 5,
   "id": "d1df3202-0a96-4dcc-8a69-35be8cfd14c0",
   "metadata": {},
   "outputs": [
    {
     "data": {
      "text/latex": [
       "$\\int e^{x}\\, dx$"
      ],
      "text/plain": [
       "  /     \n",
       " |      \n",
       " |  x   \n",
       " | e  dx\n",
       " |      \n",
       "/       "
      ]
     },
     "execution_count": 5,
     "metadata": {},
     "output_type": "execute_result"
    }
   ],
   "source": [
    "eq = sympy.Integral(exp(x), x)"
   ]
  },
  {
   "cell_type": "code",
   "execution_count": 6,
   "id": "27d6f72e-cc6f-4a95-b42a-b6410fbd8dca",
   "metadata": {},
   "outputs": [],
   "source": [
    "# Override the Base.show definition of SymPy.jl:\n",
    "# https://github.com/JuliaPy/SymPy.jl/blob/29c5bfd1d10ac53014fa7fef468bc8deccadc2fc/src/types.jl#L87-L105\n",
    "\n",
    "@eval SymPy function Base.show(io::IO, ::MIME\"text/latex\", x::SymbolicObject)\n",
    "    print(io, as_markdown(\"\\\\displaystyle\" * sympy.latex(x, mode=\"plain\", fold_short_frac=false)))\n",
    "end\n",
    "@eval SymPy function Base.show(io::IO, ::MIME\"text/latex\", x::AbstractArray{Sym})\n",
    "    function toeqnarray(x::Vector{Sym})\n",
    "        a = join([\"\\\\displaystyle\" * sympy.latex(x[i]) for i in 1:length(x)], \"\\\\\\\\\")\n",
    "        \"\"\"\\\\left[ \\\\begin{array}{r}$a\\\\end{array} \\\\right]\"\"\"\n",
    "    end\n",
    "    function toeqnarray(x::AbstractArray{Sym,2})\n",
    "        sz = size(x)\n",
    "        a = join([join(\"\\\\displaystyle\" .* map(sympy.latex, x[i,:]), \"&\") for i in 1:sz[1]], \"\\\\\\\\\")\n",
    "        \"\\\\left[ \\\\begin{array}{\" * repeat(\"r\",sz[2]) * \"}\" * a * \"\\\\end{array}\\\\right]\"\n",
    "    end\n",
    "    print(io, as_markdown(toeqnarray(x)))\n",
    "end"
   ]
  },
  {
   "cell_type": "code",
   "execution_count": 7,
   "id": "406eb655-7c0d-46c4-95e3-09aba0672abb",
   "metadata": {},
   "outputs": [
    {
     "data": {
      "text/latex": [
       "$\\displaystyle\\frac{1}{1 + \\frac{1}{x}}$\n"
      ],
      "text/plain": [
       "  1  \n",
       "-----\n",
       "    1\n",
       "1 + -\n",
       "    x"
      ]
     },
     "execution_count": 7,
     "metadata": {},
     "output_type": "execute_result"
    }
   ],
   "source": [
    "F = 1/(1+1/x)"
   ]
  },
  {
   "cell_type": "code",
   "execution_count": 8,
   "id": "bd96c5a0-bcbb-4f20-a939-b969179c17a0",
   "metadata": {},
   "outputs": [
    {
     "data": {
      "text/latex": [
       "$\\left[ \\begin{array}{r}\\displaystyle\\frac{1}{1 + \\frac{1}{x}}\\\\\\displaystyle\\frac{1}{1 + \\frac{1}{x}}\\end{array} \\right]$\n"
      ],
      "text/plain": [
       "2-element Vector{Sym}:\n",
       " 1/(1 + 1/x)\n",
       " 1/(1 + 1/x)"
      ]
     },
     "execution_count": 8,
     "metadata": {},
     "output_type": "execute_result"
    }
   ],
   "source": [
    "v = [F, F]"
   ]
  },
  {
   "cell_type": "code",
   "execution_count": 9,
   "id": "c166ce71-505c-44e7-b779-c616f301e6f1",
   "metadata": {},
   "outputs": [
    {
     "data": {
      "text/latex": [
       "$\\left[ \\begin{array}{rr}\\displaystyle\\frac{1}{1 + \\frac{1}{x}}&\\displaystyle\\frac{1}{1 + \\frac{1}{x}}\\\\\\displaystyle\\frac{1}{1 + \\frac{1}{x}}&\\displaystyle\\frac{1}{1 + \\frac{1}{x}}\\end{array}\\right]$\n"
      ],
      "text/plain": [
       "2×2 Matrix{Sym}:\n",
       " 1/(1 + 1/x)  1/(1 + 1/x)\n",
       " 1/(1 + 1/x)  1/(1 + 1/x)"
      ]
     },
     "execution_count": 9,
     "metadata": {},
     "output_type": "execute_result"
    }
   ],
   "source": [
    "A = [v v]"
   ]
  },
  {
   "cell_type": "code",
   "execution_count": 10,
   "id": "8231c4be-ccb1-4201-8429-0074877a2656",
   "metadata": {},
   "outputs": [
    {
     "data": {
      "text/latex": [
       "$\\displaystyle\\int e^{x}\\, dx$\n"
      ],
      "text/plain": [
       "  /     \n",
       " |      \n",
       " |  x   \n",
       " | e  dx\n",
       " |      \n",
       "/       "
      ]
     },
     "execution_count": 10,
     "metadata": {},
     "output_type": "execute_result"
    }
   ],
   "source": [
    "eq = sympy.Integral(exp(x), x)"
   ]
  },
  {
   "cell_type": "code",
   "execution_count": null,
   "id": "11d83e01-0ec8-460d-af87-f079612405ec",
   "metadata": {},
   "outputs": [],
   "source": []
  }
 ],
 "metadata": {
  "jupytext": {
   "formats": "ipynb,md"
  },
  "kernelspec": {
   "display_name": "Julia 1.7.2",
   "language": "julia",
   "name": "julia-1.7"
  },
  "language_info": {
   "file_extension": ".jl",
   "mimetype": "application/julia",
   "name": "julia",
   "version": "1.7.2"
  }
 },
 "nbformat": 4,
 "nbformat_minor": 5
}
