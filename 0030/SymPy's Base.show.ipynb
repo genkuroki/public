{
 "cells": [
  {
   "cell_type": "code",
   "execution_count": 1,
   "id": "c4a0f39a-e598-4e55-bcf2-c0c8c3e7c5e4",
   "metadata": {},
   "outputs": [],
   "source": [
    "using SymPy"
   ]
  },
  {
   "cell_type": "code",
   "execution_count": 2,
   "id": "b56202ee-c87c-4a1a-a486-cb33c95f198c",
   "metadata": {},
   "outputs": [
    {
     "data": {
      "text/latex": [
       "$\\frac{1}{x^{2} + 1}$"
      ],
      "text/plain": [
       "  1   \n",
       "------\n",
       " 2    \n",
       "x  + 1"
      ]
     },
     "execution_count": 2,
     "metadata": {},
     "output_type": "execute_result"
    }
   ],
   "source": [
    "@vars x\n",
    "expr = 1/(1+x^2)"
   ]
  },
  {
   "cell_type": "code",
   "execution_count": 3,
   "id": "bc82a15c-6f52-4685-8fac-9597ba098d28",
   "metadata": {},
   "outputs": [
    {
     "data": {
      "text/html": [
       "display(x) in Base.Multimedia at <a href=\"https://github.com/JuliaLang/julia/tree/bf534986350a991e4a1b29126de0342ffd76205e/base/multimedia.jl#L324\" target=\"_blank\">multimedia.jl:324</a>"
      ],
      "text/plain": [
       "display(x) in Base.Multimedia at multimedia.jl:324"
      ]
     },
     "execution_count": 3,
     "metadata": {},
     "output_type": "execute_result"
    }
   ],
   "source": [
    "@which display(expr)"
   ]
  },
  {
   "cell_type": "code",
   "execution_count": 4,
   "id": "7d4face9-cdfa-4a24-b4fd-25837ffd688c",
   "metadata": {},
   "outputs": [
    {
     "data": {
      "text/plain": [
       "IJulia.InlineDisplay()"
      ]
     },
     "execution_count": 4,
     "metadata": {},
     "output_type": "execute_result"
    }
   ],
   "source": [
    "d = Base.Multimedia.displays[end]"
   ]
  },
  {
   "cell_type": "code",
   "execution_count": 5,
   "id": "fb60ffe0-b434-4d72-975c-4f22d10f70f7",
   "metadata": {},
   "outputs": [
    {
     "data": {
      "text/html": [
       "display(d::<b>IJulia.InlineDisplay</b>, x) in IJulia at <a href=\"file://D:/.julia/packages/IJulia/AQu2H/src/inline.jl\" target=\"_blank\">D:\\.julia\\packages\\IJulia\\AQu2H\\src\\inline.jl:95</a>"
      ],
      "text/plain": [
       "display(d::IJulia.InlineDisplay, x) in IJulia at D:\\.julia\\packages\\IJulia\\AQu2H\\src\\inline.jl:95"
      ]
     },
     "execution_count": 5,
     "metadata": {},
     "output_type": "execute_result"
    }
   ],
   "source": [
    "@which display(d, expr)"
   ]
  },
  {
   "cell_type": "code",
   "execution_count": 6,
   "id": "3a319734-352e-491f-a574-61d0ff72b981",
   "metadata": {},
   "outputs": [
    {
     "data": {
      "text/plain": [
       "Dict{String, Union{String, JSON.Writer.JSONText}} with 2 entries:\n",
       "  \"text/plain\" => \"x\"\n",
       "  \"text/latex\" => \"\\$x\\$\""
      ]
     },
     "execution_count": 6,
     "metadata": {},
     "output_type": "execute_result"
    }
   ],
   "source": [
    "IJulia.display_dict(x)"
   ]
  },
  {
   "cell_type": "code",
   "execution_count": 7,
   "id": "e7c728b9-a8b2-49d6-908e-14f162156e66",
   "metadata": {},
   "outputs": [
    {
     "data": {
      "text/html": [
       "display_dict(x) in IJulia at <a href=\"file://D:/.julia/packages/IJulia/AQu2H/src/display.jl\" target=\"_blank\">D:\\.julia\\packages\\IJulia\\AQu2H\\src\\display.jl:97</a>"
      ],
      "text/plain": [
       "display_dict(x) in IJulia at D:\\.julia\\packages\\IJulia\\AQu2H\\src\\display.jl:97"
      ]
     },
     "execution_count": 7,
     "metadata": {},
     "output_type": "execute_result"
    }
   ],
   "source": [
    "@which IJulia.display_dict(x)"
   ]
  },
  {
   "cell_type": "code",
   "execution_count": 8,
   "id": "3708fe8c-5788-4693-95ca-c1188f8f1687",
   "metadata": {},
   "outputs": [
    {
     "data": {
      "text/plain": [
       "5-element Vector{Union{MIME, AbstractVector{MIME}}}:\n",
       " MIME type text/plain\n",
       " MIME type image/svg+xml\n",
       " MIME[MIME type image/png, MIME type image/jpeg]\n",
       " MIME[MIME type text/markdown, MIME type text/html]\n",
       " MIME type text/latex"
      ]
     },
     "execution_count": 8,
     "metadata": {},
     "output_type": "execute_result"
    }
   ],
   "source": [
    "IJulia.ijulia_mime_types"
   ]
  },
  {
   "cell_type": "code",
   "execution_count": 9,
   "id": "6de05604-e9f6-4fbc-90e2-dcf4a5c6ffdb",
   "metadata": {},
   "outputs": [
    {
     "data": {
      "text/plain": [
       "MIME type text/latex"
      ]
     },
     "execution_count": 9,
     "metadata": {},
     "output_type": "execute_result"
    }
   ],
   "source": [
    "m = IJulia.ijulia_mime_types[end]"
   ]
  },
  {
   "cell_type": "code",
   "execution_count": 10,
   "id": "275a0a0c-7be0-4712-a589-50b5f7b76e2a",
   "metadata": {},
   "outputs": [
    {
     "data": {
      "text/plain": [
       "(MIME type text/latex, \"\\$x\\$\")"
      ]
     },
     "execution_count": 10,
     "metadata": {},
     "output_type": "execute_result"
    }
   ],
   "source": [
    "IJulia.display_mimestring(m, x)"
   ]
  },
  {
   "cell_type": "code",
   "execution_count": 11,
   "id": "4f4c8cdb-919e-447d-a696-752d409a3fa2",
   "metadata": {},
   "outputs": [
    {
     "data": {
      "text/html": [
       "display_mimestring(m::<b>MIME</b>, x) in IJulia at <a href=\"file://D:/.julia/packages/IJulia/AQu2H/src/display.jl\" target=\"_blank\">D:\\.julia\\packages\\IJulia\\AQu2H\\src\\display.jl:67</a>"
      ],
      "text/plain": [
       "display_mimestring(m::MIME, x) in IJulia at D:\\.julia\\packages\\IJulia\\AQu2H\\src\\display.jl:67"
      ]
     },
     "execution_count": 11,
     "metadata": {},
     "output_type": "execute_result"
    }
   ],
   "source": [
    "@which IJulia.display_mimestring(m, x)"
   ]
  },
  {
   "cell_type": "code",
   "execution_count": 12,
   "id": "d1961cd0-b310-475d-ad1e-7ba85f893063",
   "metadata": {},
   "outputs": [
    {
     "data": {
      "text/plain": [
       "\"\\$x\\$\""
      ]
     },
     "execution_count": 12,
     "metadata": {},
     "output_type": "execute_result"
    }
   ],
   "source": [
    "IJulia.limitstringmime(m, x)"
   ]
  },
  {
   "cell_type": "code",
   "execution_count": 13,
   "id": "ab4111db-5aaa-4706-bc36-781ae572efaa",
   "metadata": {},
   "outputs": [
    {
     "data": {
      "text/html": [
       "limitstringmime(mime::<b>MIME</b>, x) in IJulia at <a href=\"file://D:/.julia/packages/IJulia/AQu2H/src/inline.jl\" target=\"_blank\">D:\\.julia\\packages\\IJulia\\AQu2H\\src\\inline.jl:37</a>"
      ],
      "text/plain": [
       "limitstringmime(mime::MIME, x) in IJulia at D:\\.julia\\packages\\IJulia\\AQu2H\\src\\inline.jl:37"
      ]
     },
     "execution_count": 13,
     "metadata": {},
     "output_type": "execute_result"
    }
   ],
   "source": [
    "@which IJulia.limitstringmime(m, x)"
   ]
  },
  {
   "cell_type": "code",
   "execution_count": 14,
   "id": "a595b44a-6056-433d-812c-2110a72e6cbf",
   "metadata": {},
   "outputs": [
    {
     "name": "stdout",
     "output_type": "stream",
     "text": [
      "$\\frac{1}{x^{2} + 1}$"
     ]
    }
   ],
   "source": [
    "show(stdout, m, expr)"
   ]
  },
  {
   "cell_type": "code",
   "execution_count": 15,
   "id": "fae0f4b9-8e43-4224-a61e-09152bd7b156",
   "metadata": {},
   "outputs": [
    {
     "data": {
      "text/html": [
       "show(io::<b>IO</b>, ::<b>MIME{Symbol(\"text/latex\")}</b>, x::<b>SymPy.SymbolicObject</b>) in SymPy at <a href=\"file://D:/.julia/packages/SymPy/5GXQf/src/types.jl\" target=\"_blank\">D:\\.julia\\packages\\SymPy\\5GXQf\\src\\types.jl:87</a>"
      ],
      "text/plain": [
       "show(io::IO, ::MIME{Symbol(\"text/latex\")}, x::SymPy.SymbolicObject) in SymPy at D:\\.julia\\packages\\SymPy\\5GXQf\\src\\types.jl:87"
      ]
     },
     "execution_count": 15,
     "metadata": {},
     "output_type": "execute_result"
    }
   ],
   "source": [
    "@which show(stdout, m, expr)"
   ]
  },
  {
   "cell_type": "code",
   "execution_count": 16,
   "id": "8f346ddc-ea87-4b6d-bdf7-6f1faa39d4c2",
   "metadata": {},
   "outputs": [
    {
     "data": {
      "text/plain": [
       "\"\\$x\\$\""
      ]
     },
     "execution_count": 16,
     "metadata": {},
     "output_type": "execute_result"
    }
   ],
   "source": [
    "sympy.latex(x, mode=\"inline\",fold_short_frac=false)"
   ]
  },
  {
   "cell_type": "code",
   "execution_count": 17,
   "id": "10e22dc3-c311-4254-9ed4-278f5d5b6eda",
   "metadata": {},
   "outputs": [
    {
     "data": {
      "text/plain": [
       "Convert the given expression to LaTeX string representation.\n",
       "\n",
       "    Parameters\n",
       "    ==========\n",
       "    full_prec: boolean, optional\n",
       "        If set to True, a floating point number is printed with full precision.\n",
       "    fold_frac_powers : boolean, optional\n",
       "        Emit ``^{p/q}`` instead of ``^{\\frac{p}{q}}`` for fractional powers.\n",
       "    fold_func_brackets : boolean, optional\n",
       "        Fold function brackets where applicable.\n",
       "    fold_short_frac : boolean, optional\n",
       "        Emit ``p / q`` instead of ``\\frac{p}{q}`` when the denominator is\n",
       "        simple enough (at most two terms and no powers). The default value is\n",
       "        ``True`` for inline mode, ``False`` otherwise.\n",
       "    inv_trig_style : string, optional\n",
       "        How inverse trig functions should be displayed. Can be one of\n",
       "        ``abbreviated``, ``full``, or ``power``. Defaults to ``abbreviated``.\n",
       "    itex : boolean, optional\n",
       "        Specifies if itex-specific syntax is used, including emitting\n",
       "        ``$$...$$``.\n",
       "    ln_notation : boolean, optional\n",
       "        If set to ``True``, ``\\ln`` is used instead of default ``\\log``.\n",
       "    long_frac_ratio : float or None, optional\n",
       "        The allowed ratio of the width of the numerator to the width of the\n",
       "        denominator before the printer breaks off long fractions. If ``None``\n",
       "        (the default value), long fractions are not broken up.\n",
       "    mat_delim : string, optional\n",
       "        The delimiter to wrap around matrices. Can be one of ``[``, ``(``, or\n",
       "        the empty string. Defaults to ``[``.\n",
       "    mat_str : string, optional\n",
       "        Which matrix environment string to emit. ``smallmatrix``, ``matrix``,\n",
       "        ``array``, etc. Defaults to ``smallmatrix`` for inline mode, ``matrix``\n",
       "        for matrices of no more than 10 columns, and ``array`` otherwise.\n",
       "    mode: string, optional\n",
       "        Specifies how the generated code will be delimited. ``mode`` can be one\n",
       "        of ``plain``, ``inline``, ``equation`` or ``equation*``.  If ``mode``\n",
       "        is set to ``plain``, then the resulting code will not be delimited at\n",
       "        all (this is the default). If ``mode`` is set to ``inline`` then inline\n",
       "        LaTeX ``$...$`` will be used. If ``mode`` is set to ``equation`` or\n",
       "        ``equation*``, the resulting code will be enclosed in the ``equation``\n",
       "        or ``equation*`` environment (remember to import ``amsmath`` for\n",
       "        ``equation*``), unless the ``itex`` option is set. In the latter case,\n",
       "        the ``$$...$$`` syntax is used.\n",
       "    mul_symbol : string or None, optional\n",
       "        The symbol to use for multiplication. Can be one of ``None``, ``ldot``,\n",
       "        ``dot``, or ``times``.\n",
       "    order: string, optional\n",
       "        Any of the supported monomial orderings (currently ``lex``, ``grlex``,\n",
       "        or ``grevlex``), ``old``, and ``none``. This parameter does nothing for\n",
       "        Mul objects. Setting order to ``old`` uses the compatibility ordering\n",
       "        for Add defined in Printer. For very large expressions, set the\n",
       "        ``order`` keyword to ``none`` if speed is a concern.\n",
       "    symbol_names : dictionary of strings mapped to symbols, optional\n",
       "        Dictionary of symbols and the custom strings they should be emitted as.\n",
       "    root_notation : boolean, optional\n",
       "        If set to ``False``, exponents of the form 1/n are printed in fractonal\n",
       "        form. Default is ``True``, to print exponent in root form.\n",
       "    mat_symbol_style : string, optional\n",
       "        Can be either ``plain`` (default) or ``bold``. If set to ``bold``,\n",
       "        a MatrixSymbol A will be printed as ``\\mathbf{A}``, otherwise as ``A``.\n",
       "    imaginary_unit : string, optional\n",
       "        String to use for the imaginary unit. Defined options are \"i\" (default)\n",
       "        and \"j\". Adding \"r\" or \"t\" in front gives ``\\mathrm`` or ``\\text``, so\n",
       "        \"ri\" leads to ``\\mathrm{i}`` which gives `\\mathrm{i}`.\n",
       "    gothic_re_im : boolean, optional\n",
       "        If set to ``True``, `\\Re` and `\\Im` is used for ``re`` and ``im``, respectively.\n",
       "        The default is ``False`` leading to `\\operatorname{re}` and `\\operatorname{im}`.\n",
       "    decimal_separator : string, optional\n",
       "        Specifies what separator to use to separate the whole and fractional parts of a\n",
       "        floating point number as in `2.5` for the default, ``period`` or `2{,}5`\n",
       "        when ``comma`` is specified. Lists, sets, and tuple are printed with semicolon\n",
       "        separating the elements when ``comma`` is chosen. For example, [1; 2; 3] when\n",
       "        ``comma`` is chosen and [1,2,3] for when ``period`` is chosen.\n",
       "    parenthesize_super : boolean, optional\n",
       "        If set to ``False``, superscripted expressions will not be parenthesized when\n",
       "        powered. Default is ``True``, which parenthesizes the expression when powered.\n",
       "    min: Integer or None, optional\n",
       "        Sets the lower bound for the exponent to print floating point numbers in\n",
       "        fixed-point format.\n",
       "    max: Integer or None, optional\n",
       "        Sets the upper bound for the exponent to print floating point numbers in\n",
       "        fixed-point format.\n",
       "\n",
       "    Notes\n",
       "    =====\n",
       "\n",
       "    Not using a print statement for printing, results in double backslashes for\n",
       "    latex commands since that's the way Python escapes backslashes in strings.\n",
       "\n",
       "    >>> from sympy import latex, Rational\n",
       "    >>> from sympy.abc import tau\n",
       "    >>> latex((2*tau)**Rational(7,2))\n",
       "    '8 \\\\sqrt{2} \\\\tau^{\\\\frac{7}{2}}'\n",
       "    >>> print(latex((2*tau)**Rational(7,2)))\n",
       "    8 \\sqrt{2} \\tau^{\\frac{7}{2}}\n",
       "\n",
       "    Examples\n",
       "    ========\n",
       "\n",
       "    >>> from sympy import latex, pi, sin, asin, Integral, Matrix, Rational, log\n",
       "    >>> from sympy.abc import x, y, mu, r, tau\n",
       "\n",
       "    Basic usage:\n",
       "\n",
       "    >>> print(latex((2*tau)**Rational(7,2)))\n",
       "    8 \\sqrt{2} \\tau^{\\frac{7}{2}}\n",
       "\n",
       "    ``mode`` and ``itex`` options:\n",
       "\n",
       "    >>> print(latex((2*mu)**Rational(7,2), mode='plain'))\n",
       "    8 \\sqrt{2} \\mu^{\\frac{7}{2}}\n",
       "    >>> print(latex((2*tau)**Rational(7,2), mode='inline'))\n",
       "    $8 \\sqrt{2} \\tau^{7 / 2}$\n",
       "    >>> print(latex((2*mu)**Rational(7,2), mode='equation*'))\n",
       "    \\begin{equation*}8 \\sqrt{2} \\mu^{\\frac{7}{2}}\\end{equation*}\n",
       "    >>> print(latex((2*mu)**Rational(7,2), mode='equation'))\n",
       "    \\begin{equation}8 \\sqrt{2} \\mu^{\\frac{7}{2}}\\end{equation}\n",
       "    >>> print(latex((2*mu)**Rational(7,2), mode='equation', itex=True))\n",
       "    $$8 \\sqrt{2} \\mu^{\\frac{7}{2}}$$\n",
       "    >>> print(latex((2*mu)**Rational(7,2), mode='plain'))\n",
       "    8 \\sqrt{2} \\mu^{\\frac{7}{2}}\n",
       "    >>> print(latex((2*tau)**Rational(7,2), mode='inline'))\n",
       "    $8 \\sqrt{2} \\tau^{7 / 2}$\n",
       "    >>> print(latex((2*mu)**Rational(7,2), mode='equation*'))\n",
       "    \\begin{equation*}8 \\sqrt{2} \\mu^{\\frac{7}{2}}\\end{equation*}\n",
       "    >>> print(latex((2*mu)**Rational(7,2), mode='equation'))\n",
       "    \\begin{equation}8 \\sqrt{2} \\mu^{\\frac{7}{2}}\\end{equation}\n",
       "    >>> print(latex((2*mu)**Rational(7,2), mode='equation', itex=True))\n",
       "    $$8 \\sqrt{2} \\mu^{\\frac{7}{2}}$$\n",
       "\n",
       "    Fraction options:\n",
       "\n",
       "    >>> print(latex((2*tau)**Rational(7,2), fold_frac_powers=True))\n",
       "    8 \\sqrt{2} \\tau^{7/2}\n",
       "    >>> print(latex((2*tau)**sin(Rational(7,2))))\n",
       "    \\left(2 \\tau\\right)^{\\sin{\\left(\\frac{7}{2} \\right)}}\n",
       "    >>> print(latex((2*tau)**sin(Rational(7,2)), fold_func_brackets=True))\n",
       "    \\left(2 \\tau\\right)^{\\sin {\\frac{7}{2}}}\n",
       "    >>> print(latex(3*x**2/y))\n",
       "    \\frac{3 x^{2}}{y}\n",
       "    >>> print(latex(3*x**2/y, fold_short_frac=True))\n",
       "    3 x^{2} / y\n",
       "    >>> print(latex(Integral(r, r)/2/pi, long_frac_ratio=2))\n",
       "    \\frac{\\int r\\, dr}{2 \\pi}\n",
       "    >>> print(latex(Integral(r, r)/2/pi, long_frac_ratio=0))\n",
       "    \\frac{1}{2 \\pi} \\int r\\, dr\n",
       "\n",
       "    Multiplication options:\n",
       "\n",
       "    >>> print(latex((2*tau)**sin(Rational(7,2)), mul_symbol=\"times\"))\n",
       "    \\left(2 \\times \\tau\\right)^{\\sin{\\left(\\frac{7}{2} \\right)}}\n",
       "\n",
       "    Trig options:\n",
       "\n",
       "    >>> print(latex(asin(Rational(7,2))))\n",
       "    \\operatorname{asin}{\\left(\\frac{7}{2} \\right)}\n",
       "    >>> print(latex(asin(Rational(7,2)), inv_trig_style=\"full\"))\n",
       "    \\arcsin{\\left(\\frac{7}{2} \\right)}\n",
       "    >>> print(latex(asin(Rational(7,2)), inv_trig_style=\"power\"))\n",
       "    \\sin^{-1}{\\left(\\frac{7}{2} \\right)}\n",
       "\n",
       "    Matrix options:\n",
       "\n",
       "    >>> print(latex(Matrix(2, 1, [x, y])))\n",
       "    \\left[\\begin{matrix}x\\\\y\\end{matrix}\\right]\n",
       "    >>> print(latex(Matrix(2, 1, [x, y]), mat_str = \"array\"))\n",
       "    \\left[\\begin{array}{c}x\\\\y\\end{array}\\right]\n",
       "    >>> print(latex(Matrix(2, 1, [x, y]), mat_delim=\"(\"))\n",
       "    \\left(\\begin{matrix}x\\\\y\\end{matrix}\\right)\n",
       "\n",
       "    Custom printing of symbols:\n",
       "\n",
       "    >>> print(latex(x**2, symbol_names={x: 'x_i'}))\n",
       "    x_i^{2}\n",
       "\n",
       "    Logarithms:\n",
       "\n",
       "    >>> print(latex(log(10)))\n",
       "    \\log{\\left(10 \\right)}\n",
       "    >>> print(latex(log(10), ln_notation=True))\n",
       "    \\ln{\\left(10 \\right)}\n",
       "\n",
       "    ``latex()`` also supports the builtin container types :class:`list`,\n",
       "    :class:`tuple`, and :class:`dict`:\n",
       "\n",
       "    >>> print(latex([2/x, y], mode='inline'))\n",
       "    $\\left[ 2 / x, \\  y\\right]$\n",
       "\n",
       "    Unsupported types are rendered as monospaced plaintext:\n",
       "\n",
       "    >>> print(latex(int))\n",
       "    \\mathtt{\\text{<class 'int'>}}\n",
       "    >>> print(latex(\"plain % text\"))\n",
       "    \\mathtt{\\text{plain \\% text}}\n",
       "\n",
       "    See :ref:`printer_method_example` for an example of how to override\n",
       "    this behavior for your own types by implementing ``_latex``.\n",
       "\n",
       "    .. versionchanged:: 1.7.0\n",
       "        Unsupported types no longer have their ``str`` representation treated as valid latex.\n",
       "\n",
       "    "
      ]
     },
     "execution_count": 17,
     "metadata": {},
     "output_type": "execute_result"
    }
   ],
   "source": [
    "?sympy.latex"
   ]
  },
  {
   "cell_type": "code",
   "execution_count": 18,
   "id": "691634fa-9c14-42cb-bd20-d6246a2c0cfc",
   "metadata": {},
   "outputs": [
    {
     "data": {
      "text/html": [
       "(::<b>Core.var\"#Any##kw\"</b>)(::<b>Any</b>, o::<b>PyCall.PyObject</b>, args...) in PyCall at <a href=\"file://D:/.julia/packages/PyCall/7a7w0/src/pyfncall.jl\" target=\"_blank\">D:\\.julia\\packages\\PyCall\\7a7w0\\src\\pyfncall.jl:86</a>"
      ],
      "text/plain": [
       "(::Core.var\"#Any##kw\")(::Any, o::PyCall.PyObject, args...) in PyCall at D:\\.julia\\packages\\PyCall\\7a7w0\\src\\pyfncall.jl:86"
      ]
     },
     "execution_count": 18,
     "metadata": {},
     "output_type": "execute_result"
    }
   ],
   "source": [
    "@which sympy.latex(x, mode=\"inline\",fold_short_frac=false)"
   ]
  },
  {
   "cell_type": "code",
   "execution_count": 19,
   "id": "6790f751-1b33-4719-8968-1f0db9ba1428",
   "metadata": {},
   "outputs": [
    {
     "data": {
      "text/plain": [
       "\"\\$\\$x\\$\\$\""
      ]
     },
     "execution_count": 19,
     "metadata": {},
     "output_type": "execute_result"
    }
   ],
   "source": [
    "sympy.latex(x, mode=\"equation\", itex=true, fold_short_frac=false)"
   ]
  },
  {
   "cell_type": "code",
   "execution_count": 20,
   "id": "0fbea4ed-9c0d-4aee-8207-f4f5dee496ed",
   "metadata": {},
   "outputs": [
    {
     "data": {
      "text/plain": [
       "\"\\\\begin{equation}x\\\\end{equation}\""
      ]
     },
     "execution_count": 20,
     "metadata": {},
     "output_type": "execute_result"
    }
   ],
   "source": [
    "sympy.latex(x, mode=\"equation\", fold_short_frac=false)"
   ]
  },
  {
   "cell_type": "code",
   "execution_count": 21,
   "id": "11e4f4d2-b1bb-4775-9056-38b6d0b31098",
   "metadata": {},
   "outputs": [],
   "source": [
    "# original: https://github.com/JuliaPy/SymPy.jl/blob/master/src/types.jl#L87\n",
    "@eval SymPy function Base.show(io::IO, ::MIME\"text/latex\", x::SymbolicObject)\n",
    "    print(io, sympy.latex(x, mode=\"inline\",fold_short_frac=false)) # plain? equation*?\n",
    "#    #print(io, as_markdown(sympy.latex(x, mode=\"equation*\")))\n",
    "#    #print(io, as_markdown(sympy.latex(x, mode=\"plain\",fold_short_frac=false))) # inline?\n",
    "end"
   ]
  },
  {
   "cell_type": "code",
   "execution_count": 22,
   "id": "f0d043b5-6f25-4611-b53d-63d975d20358",
   "metadata": {},
   "outputs": [],
   "source": [
    "@eval SymPy Base.show(io::IO, ::MIME\"text/latex\", x::SymbolicObject) = print(io, sympy.latex(x, mode=\"equation*\"))"
   ]
  },
  {
   "cell_type": "code",
   "execution_count": 23,
   "id": "fe6d3b51-c42a-4ed1-a987-0850aae97860",
   "metadata": {},
   "outputs": [
    {
     "data": {
      "text/latex": [
       "\\begin{equation*}\\frac{1}{x^{2} + 1}\\end{equation*}"
      ],
      "text/plain": [
       "  1   \n",
       "------\n",
       " 2    \n",
       "x  + 1"
      ]
     },
     "execution_count": 23,
     "metadata": {},
     "output_type": "execute_result"
    }
   ],
   "source": [
    "expr"
   ]
  },
  {
   "cell_type": "code",
   "execution_count": 24,
   "id": "032cede0-01bb-4162-80d2-87304f65dc21",
   "metadata": {},
   "outputs": [
    {
     "data": {
      "text/latex": [
       "$\\left[ \\begin{array}{r}\\frac{1}{x^{2} + 1}\\\\\\frac{1}{x^{2} + 1}\\end{array} \\right]$\n"
      ],
      "text/plain": [
       "2-element Vector{Sym}:\n",
       " 1/(x^2 + 1)\n",
       " 1/(x^2 + 1)"
      ]
     },
     "execution_count": 24,
     "metadata": {},
     "output_type": "execute_result"
    }
   ],
   "source": [
    "y = [expr, expr]"
   ]
  },
  {
   "cell_type": "code",
   "execution_count": 25,
   "id": "21a4994e-6ae8-4e3a-b9ae-9f2f4a98c341",
   "metadata": {},
   "outputs": [
    {
     "name": "stdout",
     "output_type": "stream",
     "text": [
      "$\\left[ \\begin{array}{r}\\frac{1}{x^{2} + 1}\\\\\\frac{1}{x^{2} + 1}\\end{array} \\right]$\n"
     ]
    }
   ],
   "source": [
    "Base.show(stdout, m, y)"
   ]
  },
  {
   "cell_type": "code",
   "execution_count": 26,
   "id": "9fdfddbf-488b-4e34-8611-32896518554e",
   "metadata": {},
   "outputs": [],
   "source": [
    "using Markdown"
   ]
  },
  {
   "cell_type": "code",
   "execution_count": 27,
   "id": "06e77a19-6ca3-49ab-9159-d8ba30ac1908",
   "metadata": {},
   "outputs": [
    {
     "data": {
      "text/latex": [
       "$1/(x^2 + 1)$\n",
       "\n"
      ],
      "text/markdown": [
       "$1/(x^2 + 1)$\n"
      ],
      "text/plain": [
       "  \u001b[35m1/(x^2 + 1)\u001b[39m"
      ]
     },
     "execution_count": 27,
     "metadata": {},
     "output_type": "execute_result"
    }
   ],
   "source": [
    "Markdown.parse(\"``$expr``\")"
   ]
  },
  {
   "cell_type": "code",
   "execution_count": 28,
   "id": "1481266b-e526-4c79-9f9e-46cfe6b6016f",
   "metadata": {},
   "outputs": [
    {
     "data": {
      "text/html": [
       "parse(markdown::<b>AbstractString</b>; <i>flavor</i>) in Markdown at <a href=\"file://C:/buildbot/worker/package_win64/build/usr/share/julia/stdlib/v1.7/Markdown/src/Markdown.jl\" target=\"_blank\">D:\\Julia-1.7.2\\share\\julia\\stdlib\\v1.7\\Markdown\\src\\Markdown.jl:31</a>"
      ],
      "text/plain": [
       "parse(markdown::AbstractString; flavor) in Markdown at D:\\Julia-1.7.2\\share\\julia\\stdlib\\v1.7\\Markdown\\src\\Markdown.jl:31"
      ]
     },
     "execution_count": 28,
     "metadata": {},
     "output_type": "execute_result"
    }
   ],
   "source": [
    "@which Markdown.parse(\"``$expr``\")"
   ]
  },
  {
   "cell_type": "code",
   "execution_count": 29,
   "id": "d7374b31-7f26-466e-80ab-7b875852e503",
   "metadata": {},
   "outputs": [],
   "source": [
    "@eval SymPy function Base.show(io::IO, ::MIME\"text/latex\", x::AbstractArray{Sym})\n",
    "    function toeqnarray(x::Vector{Sym})\n",
    "        a = join([sympy.latex(x[i]) for i in 1:length(x)], \"\\\\\\\\\")\n",
    "        \"\"\"\\\\left[ \\\\begin{array}{r}$a\\\\end{array} \\\\right]\"\"\"\n",
    "#        \"\\\\begin{bmatrix}$a\\\\end{bmatrix}\"\n",
    "    end\n",
    "    function toeqnarray(x::AbstractArray{Sym,2})\n",
    "        sz = size(x)\n",
    "        a = join([join(map(sympy.latex, x[i,:]), \"&\") for i in 1:sz[1]], \"\\\\\\\\\")\n",
    "        \"\\\\left[ \\\\begin{array}{\" * repeat(\"r\",sz[2]) * \"}\" * a * \"\\\\end{array}\\\\right]\"\n",
    "#        \"\\\\begin{bmatrix}$a\\\\end{bmatrix}\"\n",
    "    end\n",
    "    print(io, as_markdown(toeqnarray(x)))\n",
    "end"
   ]
  },
  {
   "cell_type": "code",
   "execution_count": 30,
   "id": "89774305-614e-4743-be02-ec07615ec3a5",
   "metadata": {},
   "outputs": [],
   "source": [
    "@eval SymPy function Base.show(io::IO, ::MIME\"text/latex\", x::AbstractArray{Sym})\n",
    "    function toeqnarray(x::Vector{Sym})\n",
    "        a = join([\"\\\\displaystyle\" * sympy.latex(x[i]) for i in 1:length(x)], \"\\\\\\\\\")\n",
    "        \"\"\"\\\\left[ \\\\begin{array}{r}$a\\\\end{array} \\\\right]\"\"\"\n",
    "#        \"\\\\begin{bmatrix}$a\\\\end{bmatrix}\"\n",
    "    end\n",
    "    function toeqnarray(x::AbstractArray{Sym,2})\n",
    "        sz = size(x)\n",
    "        a = join([join(\"\\\\displaystyle\" .* map(sympy.latex, x[i,:]), \"&\") for i in 1:sz[1]], \"\\\\\\\\\")\n",
    "        \"\\\\left[ \\\\begin{array}{\" * repeat(\"r\",sz[2]) * \"}\" * a * \"\\\\end{array}\\\\right]\"\n",
    "#        \"\\\\begin{bmatrix}$a\\\\end{bmatrix}\"\n",
    "    end\n",
    "    print(io, as_markdown(toeqnarray(x)))\n",
    "end"
   ]
  },
  {
   "cell_type": "code",
   "execution_count": 31,
   "id": "98ef079b-f69d-4896-879c-6c83ddd3dd36",
   "metadata": {},
   "outputs": [
    {
     "data": {
      "text/latex": [
       "$\\left[ \\begin{array}{r}\\displaystyle\\frac{1}{x^{2} + 1}\\\\\\displaystyle\\frac{1}{x^{2} + 1}\\end{array} \\right]$\n"
      ],
      "text/plain": [
       "2-element Vector{Sym}:\n",
       " 1/(x^2 + 1)\n",
       " 1/(x^2 + 1)"
      ]
     },
     "execution_count": 31,
     "metadata": {},
     "output_type": "execute_result"
    }
   ],
   "source": [
    "y"
   ]
  },
  {
   "cell_type": "code",
   "execution_count": 32,
   "id": "894d8cc2-e0fa-4614-957d-496d9778845d",
   "metadata": {},
   "outputs": [
    {
     "data": {
      "text/latex": [
       "$\\left[ \\begin{array}{rr}\\displaystyle\\frac{1}{x^{2} + 1}&\\displaystyle\\frac{1}{x^{2} + 1}\\\\\\displaystyle\\frac{1}{x^{2} + 1}&\\displaystyle\\frac{1}{x^{2} + 1}\\end{array}\\right]$\n"
      ],
      "text/plain": [
       "2×2 Matrix{Sym}:\n",
       " 1/(x^2 + 1)  1/(x^2 + 1)\n",
       " 1/(x^2 + 1)  1/(x^2 + 1)"
      ]
     },
     "execution_count": 32,
     "metadata": {},
     "output_type": "execute_result"
    }
   ],
   "source": [
    "z = [y y]"
   ]
  },
  {
   "cell_type": "code",
   "execution_count": null,
   "id": "61f31f79-9a92-40ae-9c4e-14693a81de44",
   "metadata": {},
   "outputs": [],
   "source": []
  }
 ],
 "metadata": {
  "kernelspec": {
   "display_name": "Julia 1.7.2",
   "language": "julia",
   "name": "julia-1.7"
  },
  "language_info": {
   "file_extension": ".jl",
   "mimetype": "application/julia",
   "name": "julia",
   "version": "1.7.2"
  }
 },
 "nbformat": 4,
 "nbformat_minor": 5
}
