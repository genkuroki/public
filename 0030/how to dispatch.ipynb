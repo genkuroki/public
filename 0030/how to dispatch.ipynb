{
 "cells": [
  {
   "cell_type": "code",
   "execution_count": 1,
   "id": "19a372eb-880c-4021-9018-548ba1abcccb",
   "metadata": {},
   "outputs": [
    {
     "data": {
      "text/plain": [
       "Main.O"
      ]
     },
     "execution_count": 1,
     "metadata": {},
     "output_type": "execute_result"
    }
   ],
   "source": [
    "module O\n",
    "\n",
    "abstract type Mode end\n",
    "\n",
    "struct Grid <: Mode end\n",
    "read_grid(filename) = \"read_grid: $filename\"\n",
    "readfile(filename, mode::Grid) = read_grid(filename)\n",
    "\n",
    "DefaultMode() = Grid()\n",
    "readfile(filename) = readfile(filename, DefaultMode())\n",
    "\n",
    "struct PL3D <: Mode end\n",
    "read_pl3d(filename) = \"read_pl3d: $filename\"\n",
    "readfile(filename, mode::PL3D) = read_pl3d(filename)\n",
    "\n",
    "struct Restart <: Mode end\n",
    "read_restart(filename) = \"read_restart: $filename\"\n",
    "readfile(filename, mode::Restart) = read_restart(filename)\n",
    "\n",
    "struct Header <: Mode end\n",
    "read_header(filename) = \"read_header: $filename\"\n",
    "readfile(filename, mode::Header) = read_header(filename)\n",
    "\n",
    "end"
   ]
  },
  {
   "cell_type": "code",
   "execution_count": 2,
   "id": "b1197a84-f673-4632-b8dc-ccd43072c2f1",
   "metadata": {},
   "outputs": [
    {
     "name": "stdout",
     "output_type": "stream",
     "text": [
      "O.readfile(\"foo.ext\") = \"read_grid: foo.ext\"\n",
      "O.readfile(\"foo.ext\", Main.O.Grid()) = \"read_grid: foo.ext\"\n",
      "O.readfile(\"foo.ext\", Main.O.PL3D()) = \"read_pl3d: foo.ext\"\n",
      "O.readfile(\"foo.ext\", Main.O.Restart()) = \"read_restart: foo.ext\"\n",
      "O.readfile(\"foo.ext\", Main.O.Header()) = \"read_header: foo.ext\"\n"
     ]
    }
   ],
   "source": [
    "filename = \"foo.ext\"\n",
    "@eval @show O.readfile($filename)\n",
    "for mode in (O.Grid(), O.PL3D(), O.Restart(), O.Header())\n",
    "    @eval @show O.readfile($filename, $mode)\n",
    "end"
   ]
  },
  {
   "cell_type": "markdown",
   "id": "6321f3cc-99d8-4af5-a7ab-6f6273c8e13a",
   "metadata": {},
   "source": [
    "上のようなスタイルでコードを書いておくと, モジュール O のコードを変更することなく, 他のモジュールで `O.readfile` メソッドを自由に拡張できるようになる.  このような拡張はJulia言語のエコシステムでは最も普通に行われていることである.  特に `Base.show` メソッドの独自拡張の頻度は極めて多い."
   ]
  },
  {
   "cell_type": "code",
   "execution_count": 3,
   "id": "8105466b-2fb0-4afb-9327-f3110dc5a245",
   "metadata": {},
   "outputs": [
    {
     "data": {
      "text/plain": [
       "Main.P"
      ]
     },
     "execution_count": 3,
     "metadata": {},
     "output_type": "execute_result"
    }
   ],
   "source": [
    "module P\n",
    "\n",
    "using ..O\n",
    "\n",
    "struct ModelP <: O.Mode end\n",
    "read_modelp(filename) = \"read_modelp: $filename\"\n",
    "O.readfile(filename, mode::ModelP) = read_modelp(filename)\n",
    "\n",
    "end"
   ]
  },
  {
   "cell_type": "code",
   "execution_count": 4,
   "id": "cac88c18-f475-4c0f-8a61-f0277ffd7006",
   "metadata": {},
   "outputs": [
    {
     "name": "stdout",
     "output_type": "stream",
     "text": [
      "O.readfile(\"foo.ext\") = \"read_grid: foo.ext\"\n",
      "O.readfile(\"foo.ext\", Main.O.Grid()) = \"read_grid: foo.ext\"\n",
      "O.readfile(\"foo.ext\", Main.O.PL3D()) = \"read_pl3d: foo.ext\"\n",
      "O.readfile(\"foo.ext\", Main.O.Restart()) = \"read_restart: foo.ext\"\n",
      "O.readfile(\"foo.ext\", Main.O.Header()) = \"read_header: foo.ext\"\n",
      "O.readfile(\"foo.ext\", Main.P.ModelP()) = \"read_modelp: foo.ext\"\n"
     ]
    }
   ],
   "source": [
    "filename = \"foo.ext\"\n",
    "@eval @show O.readfile($filename)\n",
    "for mode in (O.Grid(), O.PL3D(), O.Restart(), O.Header(), P.ModelP())\n",
    "    @eval @show O.readfile($filename, $mode)\n",
    "end"
   ]
  },
  {
   "cell_type": "markdown",
   "id": "fc1066e5-5b81-4224-a7d4-c46ccba4f3bb",
   "metadata": {},
   "source": [
    "## メモ1\n",
    "\n",
    "```julia\n",
    "readfile(filename::String, mode::Grid) = read_grid(filename)\n",
    "```\n",
    "\n",
    "と書くことはやめた方がよい. `filename::String` の部分に問題がある. このように書いてはいけない理由は文字列のように振る舞うが `String` 型でないオブジェクトが沢山あるからである. 例えば"
   ]
  },
  {
   "cell_type": "code",
   "execution_count": 5,
   "id": "a5c0762c-ae24-4037-8220-f03568310bd1",
   "metadata": {},
   "outputs": [
    {
     "data": {
      "text/plain": [
       "\"foo123.ext\""
      ]
     },
     "execution_count": 5,
     "metadata": {},
     "output_type": "execute_result"
    }
   ],
   "source": [
    "m = match(r\"foo\\d+.ext\", \"/bar/foo123.ext\").match"
   ]
  },
  {
   "cell_type": "code",
   "execution_count": 6,
   "id": "75f3fe56-e882-4f3b-95cd-375564bab453",
   "metadata": {},
   "outputs": [
    {
     "ename": "LoadError",
     "evalue": "MethodError: no method matching my_readfile(::SubString{String}, ::Main.O.Grid)\n\u001b[0mClosest candidates are:\n\u001b[0m  my_readfile(\u001b[91m::String\u001b[39m, ::Main.O.Grid) at In[6]:1",
     "output_type": "error",
     "traceback": [
      "MethodError: no method matching my_readfile(::SubString{String}, ::Main.O.Grid)\n\u001b[0mClosest candidates are:\n\u001b[0m  my_readfile(\u001b[91m::String\u001b[39m, ::Main.O.Grid) at In[6]:1",
      "",
      "Stacktrace:",
      " [1] top-level scope",
      "   @ In[6]:2",
      " [2] eval",
      "   @ .\\boot.jl:373 [inlined]",
      " [3] include_string(mapexpr::typeof(REPL.softscope), mod::Module, code::String, filename::String)",
      "   @ Base .\\loading.jl:1196"
     ]
    }
   ],
   "source": [
    "my_readfile(filename::String, mode::O.Grid) = O.read_grid(filename)\n",
    "my_readfile(m, O.Grid())"
   ]
  },
  {
   "cell_type": "code",
   "execution_count": 7,
   "id": "e2d79ce4-acfb-4d0c-be12-654bead8a594",
   "metadata": {},
   "outputs": [
    {
     "data": {
      "text/plain": [
       "SubString{String}"
      ]
     },
     "execution_count": 7,
     "metadata": {},
     "output_type": "execute_result"
    }
   ],
   "source": [
    "typeof(m)"
   ]
  },
  {
   "cell_type": "code",
   "execution_count": 8,
   "id": "c2f2f484-c1e0-4c80-a4cd-c7746e3bd932",
   "metadata": {},
   "outputs": [
    {
     "data": {
      "text/plain": [
       "false"
      ]
     },
     "execution_count": 8,
     "metadata": {},
     "output_type": "execute_result"
    }
   ],
   "source": [
    "m isa String"
   ]
  },
  {
   "cell_type": "markdown",
   "id": "0f7d09c2-86e8-4df8-bef2-71065c2b5bcc",
   "metadata": {},
   "source": [
    "函数の引数の型を書くとすれば\n",
    "\n",
    "```\n",
    "readfile(filename::AbstractString, mode::Grid) = read_grid(filename)\n",
    "```\n",
    "\n",
    "と `String` ではなく `AbstractString` を使うべき."
   ]
  },
  {
   "cell_type": "code",
   "execution_count": 9,
   "id": "b01b177e-23d0-45f2-8747-ed3e5cbb4414",
   "metadata": {},
   "outputs": [
    {
     "data": {
      "text/plain": [
       "true"
      ]
     },
     "execution_count": 9,
     "metadata": {},
     "output_type": "execute_result"
    }
   ],
   "source": [
    "m isa AbstractString"
   ]
  },
  {
   "cell_type": "code",
   "execution_count": 10,
   "id": "021723af-4c71-4164-b67e-e9eb985daa02",
   "metadata": {},
   "outputs": [
    {
     "data": {
      "text/plain": [
       "\"read_grid: foo123.ext\""
      ]
     },
     "execution_count": 10,
     "metadata": {},
     "output_type": "execute_result"
    }
   ],
   "source": [
    "my_readfile(filename::AbstractString, mode::O.Grid) = O.read_grid(filename)\n",
    "my_readfile(m, O.Grid())"
   ]
  },
  {
   "cell_type": "markdown",
   "id": "4a7a27bf-882b-49f2-9b32-2e61c3a0cc67",
   "metadata": {},
   "source": [
    "## メモ2\n",
    "\n",
    "さらに module O の中で\n",
    "\n",
    "```julia\n",
    "readfile(filename, mode::Mode) = println(\"Not implemented for \", typeof(mode))\n",
    "```\n",
    "\n",
    "のように定義すると, デバッグが困難になる原因になるので注意が必要. 詳しくは\n",
    "\n",
    "* https://www.oxinabox.net/2020/04/19/Julia-Antipatterns.html#notimplemented-exceptions\n",
    "\n",
    "を参照.\n",
    "\n",
    "たとえば, 函数の引数の型注釈を\n",
    "\n",
    "```\n",
    "readfile(filename::String, mode::Grid) = read_grid(filename)\n",
    "```\n",
    "\n",
    "と書いているときに(これはメモ1で述べたようにやめた方がよい), 上のように not implemented エラーを出すようにしてあると, 以下のようなことが起こって困惑してしまうことになる."
   ]
  },
  {
   "cell_type": "code",
   "execution_count": 11,
   "id": "5e25afd2-0477-4378-9b0a-017e6bb3a252",
   "metadata": {},
   "outputs": [
    {
     "data": {
      "text/plain": [
       "Main.O1"
      ]
     },
     "execution_count": 11,
     "metadata": {},
     "output_type": "execute_result"
    }
   ],
   "source": [
    "module O1\n",
    "\n",
    "abstract type Mode end\n",
    "readfile(filename, mode::Mode) = println(\"Not implemented for \", typeof(mode))\n",
    "\n",
    "struct Grid <: Mode end\n",
    "read_grid(filename) = \"read_grid: $filename\"\n",
    "readfile(filename::String, mode::Grid) = read_grid(filename)\n",
    "\n",
    "end"
   ]
  },
  {
   "cell_type": "code",
   "execution_count": 12,
   "id": "dbe7b5d7-9adf-495f-9701-8c7bff8db6a6",
   "metadata": {},
   "outputs": [
    {
     "name": "stdout",
     "output_type": "stream",
     "text": [
      "Not implemented for Main.O1.Grid\n"
     ]
    }
   ],
   "source": [
    "O1.readfile(m, O1.Grid())"
   ]
  },
  {
   "cell_type": "code",
   "execution_count": 13,
   "id": "f91bbab7-8183-4860-8f2a-b91c5582066d",
   "metadata": {},
   "outputs": [
    {
     "data": {
      "text/plain": [
       "\"foo123.ext\""
      ]
     },
     "execution_count": 13,
     "metadata": {},
     "output_type": "execute_result"
    }
   ],
   "source": [
    "m"
   ]
  },
  {
   "cell_type": "code",
   "execution_count": 14,
   "id": "c7bd2b05-41b1-4600-a0d4-53a2d3c7008a",
   "metadata": {},
   "outputs": [
    {
     "data": {
      "text/plain": [
       "SubString{String}"
      ]
     },
     "execution_count": 14,
     "metadata": {},
     "output_type": "execute_result"
    }
   ],
   "source": [
    "typeof(m)"
   ]
  },
  {
   "cell_type": "markdown",
   "id": "aa8bc0c8-178d-4437-a5e1-e5b692637043",
   "metadata": {},
   "source": [
    "以下のように Not implemented エラーのために函数を定義していない方がエラーメッセージが分かり易い."
   ]
  },
  {
   "cell_type": "code",
   "execution_count": 15,
   "id": "57b57233-557c-43b6-b700-5da2f2079752",
   "metadata": {},
   "outputs": [
    {
     "data": {
      "text/plain": [
       "Main.O2"
      ]
     },
     "execution_count": 15,
     "metadata": {},
     "output_type": "execute_result"
    }
   ],
   "source": [
    "module O2\n",
    "\n",
    "abstract type Mode end\n",
    "\n",
    "struct Grid <: Mode end\n",
    "read_grid(filename) = \"read_grid: $filename\"\n",
    "readfile(filename::String, mode::Grid) = read_grid(filename)\n",
    "\n",
    "end"
   ]
  },
  {
   "cell_type": "code",
   "execution_count": 16,
   "id": "0d0a45bd-7bf5-4b60-9e50-151741df026e",
   "metadata": {},
   "outputs": [
    {
     "name": "stdout",
     "output_type": "stream",
     "text": [
      "m = \"foo123.ext\"\n"
     ]
    },
    {
     "ename": "LoadError",
     "evalue": "MethodError: no method matching readfile(::SubString{String}, ::Main.O2.Grid)\n\u001b[0mClosest candidates are:\n\u001b[0m  readfile(\u001b[91m::String\u001b[39m, ::Main.O2.Grid) at In[15]:7",
     "output_type": "error",
     "traceback": [
      "MethodError: no method matching readfile(::SubString{String}, ::Main.O2.Grid)\n\u001b[0mClosest candidates are:\n\u001b[0m  readfile(\u001b[91m::String\u001b[39m, ::Main.O2.Grid) at In[15]:7",
      "",
      "Stacktrace:",
      " [1] top-level scope",
      "   @ In[16]:2",
      " [2] eval",
      "   @ .\\boot.jl:373 [inlined]",
      " [3] include_string(mapexpr::typeof(REPL.softscope), mod::Module, code::String, filename::String)",
      "   @ Base .\\loading.jl:1196"
     ]
    }
   ],
   "source": [
    "@show m\n",
    "O2.readfile(m, O2.Grid())"
   ]
  },
  {
   "cell_type": "code",
   "execution_count": null,
   "id": "932cf0c2-cc45-4a06-b289-851103ff9fb2",
   "metadata": {},
   "outputs": [],
   "source": []
  }
 ],
 "metadata": {
  "jupytext": {
   "formats": "ipynb,md"
  },
  "kernelspec": {
   "display_name": "Julia 1.7.2",
   "language": "julia",
   "name": "julia-1.7"
  },
  "language_info": {
   "file_extension": ".jl",
   "mimetype": "application/julia",
   "name": "julia",
   "version": "1.7.2"
  }
 },
 "nbformat": 4,
 "nbformat_minor": 5
}
