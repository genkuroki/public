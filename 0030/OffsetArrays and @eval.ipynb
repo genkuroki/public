{
 "cells": [
  {
   "cell_type": "code",
   "execution_count": 1,
   "id": "41b2a107-4ef7-402c-bc17-6c4fba8a8493",
   "metadata": {},
   "outputs": [],
   "source": [
    "using OffsetArrays"
   ]
  },
  {
   "cell_type": "code",
   "execution_count": 2,
   "id": "9720c626-cbf2-4341-a181-b8beccb9ea7f",
   "metadata": {},
   "outputs": [
    {
     "data": {
      "text/plain": [
       "2×3 Matrix{Int64}:\n",
       " 11  12  13\n",
       " 21  22  23"
      ]
     },
     "execution_count": 2,
     "metadata": {},
     "output_type": "execute_result"
    }
   ],
   "source": [
    "a = 10(1:2) .+ (1:3)'"
   ]
  },
  {
   "cell_type": "code",
   "execution_count": 3,
   "id": "1a525d10-a234-4991-8671-5a6f04a09a29",
   "metadata": {},
   "outputs": [
    {
     "data": {
      "text/plain": [
       "2×3 OffsetArray(::Matrix{Int64}, 0:1, -1:1) with eltype Int64 with indices 0:1×-1:1:\n",
       " 11  12  13\n",
       " 21  22  23"
      ]
     },
     "execution_count": 3,
     "metadata": {},
     "output_type": "execute_result"
    }
   ],
   "source": [
    "o = OffsetArray(a, 0:1, -1:1)"
   ]
  },
  {
   "cell_type": "code",
   "execution_count": 4,
   "id": "5c722135-eecc-4718-84fe-41bba3bb33eb",
   "metadata": {},
   "outputs": [
    {
     "name": "stdout",
     "output_type": "stream",
     "text": [
      "o[1] = 11\n",
      "o[2] = 21\n",
      "o[3] = 12\n",
      "o[4] = 22\n",
      "o[5] = 13\n",
      "o[6] = 23\n"
     ]
    }
   ],
   "source": [
    "for i in eachindex(o)\n",
    "    @eval @show o[$i]\n",
    "end"
   ]
  },
  {
   "cell_type": "code",
   "execution_count": 5,
   "id": "67766608-d234-4fe2-bb01-2809acc396a6",
   "metadata": {},
   "outputs": [
    {
     "data": {
      "text/plain": [
       "5-element Vector{Int64}:\n",
       " 1\n",
       " 2\n",
       " 3\n",
       " 4\n",
       " 5"
      ]
     },
     "execution_count": 5,
     "metadata": {},
     "output_type": "execute_result"
    }
   ],
   "source": [
    "b = collect(1:5)"
   ]
  },
  {
   "cell_type": "code",
   "execution_count": 6,
   "id": "58f82e77-543f-45f6-8096-4635a959d663",
   "metadata": {},
   "outputs": [
    {
     "data": {
      "text/plain": [
       "5-element OffsetArray(::Vector{Int64}, -2:2) with eltype Int64 with indices -2:2:\n",
       " 1\n",
       " 2\n",
       " 3\n",
       " 4\n",
       " 5"
      ]
     },
     "execution_count": 6,
     "metadata": {},
     "output_type": "execute_result"
    }
   ],
   "source": [
    "p = OffsetArray(b, -2:2)"
   ]
  },
  {
   "cell_type": "code",
   "execution_count": 7,
   "id": "67bb180c-0577-40f1-80f6-df4daa66fe39",
   "metadata": {},
   "outputs": [
    {
     "name": "stdout",
     "output_type": "stream",
     "text": [
      "p[-2] = 1\n",
      "p[-1] = 2\n",
      "p[0] = 3\n",
      "p[1] = 4\n",
      "p[2] = 5\n"
     ]
    }
   ],
   "source": [
    "for i in eachindex(p)\n",
    "    @eval @show p[$i]\n",
    "end"
   ]
  },
  {
   "cell_type": "code",
   "execution_count": 8,
   "id": "58789f3b-3943-4d6a-a64a-d99afca8649c",
   "metadata": {},
   "outputs": [
    {
     "name": "stdout",
     "output_type": "stream",
     "text": [
      "p[i] = 1\n",
      "p[i] = 2\n",
      "p[i] = 3\n",
      "p[i] = 4\n",
      "p[i] = 5\n"
     ]
    }
   ],
   "source": [
    "for i in eachindex(p)\n",
    "    @show p[i]\n",
    "end"
   ]
  },
  {
   "cell_type": "code",
   "execution_count": null,
   "id": "c8b7e894-a11d-47ca-8884-dd2c946fc2a8",
   "metadata": {},
   "outputs": [],
   "source": []
  }
 ],
 "metadata": {
  "kernelspec": {
   "display_name": "Julia 1.7.2",
   "language": "julia",
   "name": "julia-1.7"
  },
  "language_info": {
   "file_extension": ".jl",
   "mimetype": "application/julia",
   "name": "julia",
   "version": "1.7.2"
  }
 },
 "nbformat": 4,
 "nbformat_minor": 5
}
