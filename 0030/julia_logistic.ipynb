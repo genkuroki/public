{
 "cells": [
  {
   "cell_type": "markdown",
   "id": "aa686284-38ab-4277-ad7c-45cab17a71cc",
   "metadata": {},
   "source": [
    "https://medium.com/@andreaskuhn92/how-to-solve-the-same-numerical-problem-in-7-different-programming-languages-a64daac3ed64"
   ]
  },
  {
   "cell_type": "code",
   "execution_count": 1,
   "id": "692bd6d0-cd04-43b8-9692-4866e3254aa1",
   "metadata": {},
   "outputs": [],
   "source": [
    "using BenchmarkTools"
   ]
  },
  {
   "cell_type": "code",
   "execution_count": 5,
   "id": "76446271-8154-4b7e-aa88-10b62bb12123",
   "metadata": {},
   "outputs": [
    {
     "name": "stdout",
     "output_type": "stream",
     "text": [
      "  1.750 μs (0 allocations: 0 bytes)\n"
     ]
    },
    {
     "data": {
      "text/plain": [
       "1000-element Vector{Float64}:\n",
       " 1.0e-5\n",
       " 1.0249997500000002e-5\n",
       " 1.0506244810938783e-5\n",
       " 1.0768898171682752e-5\n",
       " 1.1038117726745626e-5\n",
       " 1.1314067623913192e-5\n",
       " 1.1596916114307867e-5\n",
       " 1.188683565495398e-5\n",
       " 1.2184003013906282e-5\n",
       " 1.2488599378005703e-5\n",
       " 1.2800810463327985e-5\n",
       " 1.312082662839247e-5\n",
       " 1.3448842990199997e-5\n",
       " ⋮\n",
       " 0.9999981664689883\n",
       " 0.9999982123071796\n",
       " 0.9999982569994201\n",
       " 0.9999983005743587\n",
       " 0.9999983430599275\n",
       " 0.9999983844833606\n",
       " 0.9999984248712114\n",
       " 0.9999984642493691\n",
       " 0.9999985026430759\n",
       " 0.9999985400769429\n",
       " 0.999998576574966\n",
       " 0.9999986121605412"
      ]
     },
     "execution_count": 5,
     "metadata": {},
     "output_type": "execute_result"
    }
   ],
   "source": [
    "function julia_logistic(N,dt,u)\n",
    "    @fastmath @inbounds begin \n",
    "        # Parameters\n",
    "        u0 = 1e-5\n",
    "        # Right hand side function\n",
    "        f(U)= U*(1.0-U)\n",
    "        # Discretization\n",
    "        u[1] = u0\n",
    "        for k = 1:(N-1)\n",
    "            u[k+1] = u[k] + dt*f(u[k])\n",
    "        end\n",
    "        return(u)\n",
    "    end\n",
    "end\n",
    "\n",
    "N = 10^3\n",
    "dt = 25/N\n",
    "u = zeros(N)\n",
    "u = @btime julia_logistic(N, dt, $u)"
   ]
  },
  {
   "cell_type": "code",
   "execution_count": 6,
   "id": "f5ca9b72-4a97-4d6e-855b-fd2d3ade51f1",
   "metadata": {},
   "outputs": [
    {
     "name": "stdout",
     "output_type": "stream",
     "text": [
      "  1.570 μs (0 allocations: 0 bytes)\n"
     ]
    },
    {
     "data": {
      "text/plain": [
       "1000-element Vector{Float64}:\n",
       " 1.0e-5\n",
       " 1.0249997500000002e-5\n",
       " 1.0506244810938783e-5\n",
       " 1.0768898171682752e-5\n",
       " 1.1038117726745626e-5\n",
       " 1.1314067623913192e-5\n",
       " 1.1596916114307867e-5\n",
       " 1.188683565495398e-5\n",
       " 1.2184003013906282e-5\n",
       " 1.2488599378005703e-5\n",
       " 1.2800810463327985e-5\n",
       " 1.312082662839247e-5\n",
       " 1.3448842990199997e-5\n",
       " ⋮\n",
       " 0.9999981664689883\n",
       " 0.9999982123071796\n",
       " 0.9999982569994201\n",
       " 0.9999983005743587\n",
       " 0.9999983430599275\n",
       " 0.9999983844833606\n",
       " 0.9999984248712114\n",
       " 0.9999984642493691\n",
       " 0.9999985026430759\n",
       " 0.9999985400769429\n",
       " 0.999998576574966\n",
       " 0.9999986121605412"
      ]
     },
     "execution_count": 6,
     "metadata": {},
     "output_type": "execute_result"
    }
   ],
   "source": [
    "using LoopVectorization\n",
    "\n",
    "function julia_logistic_turbo(N,dt,u)\n",
    "    # Parameters\n",
    "    u0 = 1e-5\n",
    "    # Right hand side function\n",
    "    f(U)= U*(1.0-U)\n",
    "    # Discretization\n",
    "    u[1] = u0\n",
    "    @turbo for k = 1:(N-1)\n",
    "        u[k+1] = u[k] + dt*f(u[k])\n",
    "    end\n",
    "    return(u)\n",
    "end\n",
    "\n",
    "N = 10^3\n",
    "dt = 25/N\n",
    "v = zeros(N)\n",
    "v = @btime julia_logistic_turbo(N, dt, $v)"
   ]
  },
  {
   "cell_type": "code",
   "execution_count": 7,
   "id": "f62f89a5-38f4-4856-8ddb-9d4c8dc81fcb",
   "metadata": {},
   "outputs": [
    {
     "data": {
      "text/plain": [
       "true"
      ]
     },
     "execution_count": 7,
     "metadata": {},
     "output_type": "execute_result"
    }
   ],
   "source": [
    "u ≈ v"
   ]
  },
  {
   "cell_type": "code",
   "execution_count": null,
   "id": "dd25771a-acd3-4d78-9362-7c398478f592",
   "metadata": {},
   "outputs": [],
   "source": []
  }
 ],
 "metadata": {
  "jupytext": {
   "formats": "ipynb,md"
  },
  "kernelspec": {
   "display_name": "Julia 1.7.2",
   "language": "julia",
   "name": "julia-1.7"
  },
  "language_info": {
   "file_extension": ".jl",
   "mimetype": "application/julia",
   "name": "julia",
   "version": "1.7.2"
  }
 },
 "nbformat": 4,
 "nbformat_minor": 5
}
