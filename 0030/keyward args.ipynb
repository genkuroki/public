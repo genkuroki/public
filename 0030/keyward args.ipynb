{
 "cells": [
  {
   "cell_type": "code",
   "execution_count": 1,
   "id": "91166424-8965-4aa3-b3ba-fa6a711d6dcd",
   "metadata": {},
   "outputs": [
    {
     "data": {
      "text/plain": [
       "f (generic function with 1 method)"
      ]
     },
     "execution_count": 1,
     "metadata": {},
     "output_type": "execute_result"
    }
   ],
   "source": [
    "f(; kwargs...) = kwargs"
   ]
  },
  {
   "cell_type": "code",
   "execution_count": 2,
   "id": "096261f6-38f0-435c-994a-a52788ded23c",
   "metadata": {},
   "outputs": [
    {
     "data": {
      "text/plain": [
       "pairs(::NamedTuple) with 2 entries:\n",
       "  :a => 1\n",
       "  :b => 1"
      ]
     },
     "execution_count": 2,
     "metadata": {},
     "output_type": "execute_result"
    }
   ],
   "source": [
    "pairs((a = 1, b = 1))"
   ]
  },
  {
   "cell_type": "code",
   "execution_count": 3,
   "id": "3332a578-5eb6-4ef7-b53e-47cacd8325d9",
   "metadata": {},
   "outputs": [
    {
     "name": "stdout",
     "output_type": "stream",
     "text": [
      "params = Dict(:a => 1, :b => 2) = Dict(:a => 1, :b => 2)\n",
      "typeof(params) = Dict{Symbol, Int64}\n",
      "f(; params...) = Base.Pairs(:a => 1, :b => 2)\n",
      "\n",
      "MethodInstance for (::var\"#f##kw\")(::NamedTuple{(:a, :b), Tuple{Int64, Int64}}, ::typeof(f))\n",
      "  from (::var\"#f##kw\")(::Any, ::typeof(f)) in Main at In[1]:1\n",
      "Arguments\n",
      "  _\u001b[36m::Core.Const(var\"#f##kw\"())\u001b[39m\n",
      "  @_2\u001b[36m::NamedTuple{(:a, :b), Tuple{Int64, Int64}}\u001b[39m\n",
      "  @_3\u001b[36m::Core.Const(f)\u001b[39m\n",
      "Locals\n",
      "  kwargs...\u001b[36m::Base.Pairs{Symbol, Int64, Tuple{Symbol, Symbol}, NamedTuple{(:a, :b), Tuple{Int64, Int64}}}\u001b[39m\n",
      "Body\u001b[36m::Base.Pairs{Symbol, Int64, Tuple{Symbol, Symbol}, NamedTuple{(:a, :b), Tuple{Int64, Int64}}}\u001b[39m\n",
      "\u001b[90m1 ─\u001b[39m      (kwargs... = Base.pairs(@_2))\n",
      "\u001b[90m│  \u001b[39m %2 = Main.:(var\"#f#1\")(kwargs...::Core.PartialStruct(Base.Pairs{Symbol, Int64, Tuple{Symbol, Symbol}, NamedTuple{(:a, :b), Tuple{Int64, Int64}}}, Any[NamedTuple{(:a, :b), Tuple{Int64, Int64}}, Core.Const((:a, :b))]), @_3)\u001b[36m::Core.PartialStruct(Base.Pairs{Symbol, Int64, Tuple{Symbol, Symbol}, NamedTuple{(:a, :b), Tuple{Int64, Int64}}}, Any[NamedTuple{(:a, :b), Tuple{Int64, Int64}}, Core.Const((:a, :b))])\u001b[39m\n",
      "\u001b[90m└──\u001b[39m      return %2\n",
      "\n"
     ]
    }
   ],
   "source": [
    "@show params = Dict(:a => 1, :b => 2)\n",
    "@show typeof(params)\n",
    "@show f(; params...)\n",
    "println()\n",
    "@code_warntype f(; params...)"
   ]
  },
  {
   "cell_type": "code",
   "execution_count": 4,
   "id": "deb9dc00-6b29-485b-973f-40c8aad0a7c8",
   "metadata": {},
   "outputs": [
    {
     "name": "stdout",
     "output_type": "stream",
     "text": [
      "params = (a = 1, b = 2) = (a = 1, b = 2)\n",
      "typeof(params) = NamedTuple{(:a, :b), Tuple{Int64, Int64}}\n",
      "f(; params...) = Base.Pairs(:a => 1, :b => 2)\n",
      "\n",
      "MethodInstance for (::var\"#f##kw\")(::NamedTuple{(:a, :b), Tuple{Int64, Int64}}, ::typeof(f))\n",
      "  from (::var\"#f##kw\")(::Any, ::typeof(f)) in Main at In[1]:1\n",
      "Arguments\n",
      "  _\u001b[36m::Core.Const(var\"#f##kw\"())\u001b[39m\n",
      "  @_2\u001b[36m::NamedTuple{(:a, :b), Tuple{Int64, Int64}}\u001b[39m\n",
      "  @_3\u001b[36m::Core.Const(f)\u001b[39m\n",
      "Locals\n",
      "  kwargs...\u001b[36m::Base.Pairs{Symbol, Int64, Tuple{Symbol, Symbol}, NamedTuple{(:a, :b), Tuple{Int64, Int64}}}\u001b[39m\n",
      "Body\u001b[36m::Base.Pairs{Symbol, Int64, Tuple{Symbol, Symbol}, NamedTuple{(:a, :b), Tuple{Int64, Int64}}}\u001b[39m\n",
      "\u001b[90m1 ─\u001b[39m      (kwargs... = Base.pairs(@_2))\n",
      "\u001b[90m│  \u001b[39m %2 = Main.:(var\"#f#1\")(kwargs...::Core.PartialStruct(Base.Pairs{Symbol, Int64, Tuple{Symbol, Symbol}, NamedTuple{(:a, :b), Tuple{Int64, Int64}}}, Any[NamedTuple{(:a, :b), Tuple{Int64, Int64}}, Core.Const((:a, :b))]), @_3)\u001b[36m::Core.PartialStruct(Base.Pairs{Symbol, Int64, Tuple{Symbol, Symbol}, NamedTuple{(:a, :b), Tuple{Int64, Int64}}}, Any[NamedTuple{(:a, :b), Tuple{Int64, Int64}}, Core.Const((:a, :b))])\u001b[39m\n",
      "\u001b[90m└──\u001b[39m      return %2\n",
      "\n"
     ]
    }
   ],
   "source": [
    "@show params = (a = 1, b = 2)\n",
    "@show typeof(params)\n",
    "@show f(; params...)\n",
    "println()\n",
    "@code_warntype f(; params...)"
   ]
  },
  {
   "cell_type": "code",
   "execution_count": 5,
   "id": "92a3c5b8-2ccb-4bd2-9f0c-bb2e0c562900",
   "metadata": {},
   "outputs": [
    {
     "name": "stdout",
     "output_type": "stream",
     "text": [
      "params = (:a => 1, :b => 2) = (:a => 1, :b => 2)\n",
      "typeof(params) = Tuple{Pair{Symbol, Int64}, Pair{Symbol, Int64}}\n",
      "f(; params...) = Base.Pairs(:a => 1, :b => 2)\n",
      "\n",
      "MethodInstance for (::var\"#f##kw\")(::NamedTuple{(:a, :b), Tuple{Int64, Int64}}, ::typeof(f))\n",
      "  from (::var\"#f##kw\")(::Any, ::typeof(f)) in Main at In[1]:1\n",
      "Arguments\n",
      "  _\u001b[36m::Core.Const(var\"#f##kw\"())\u001b[39m\n",
      "  @_2\u001b[36m::NamedTuple{(:a, :b), Tuple{Int64, Int64}}\u001b[39m\n",
      "  @_3\u001b[36m::Core.Const(f)\u001b[39m\n",
      "Locals\n",
      "  kwargs...\u001b[36m::Base.Pairs{Symbol, Int64, Tuple{Symbol, Symbol}, NamedTuple{(:a, :b), Tuple{Int64, Int64}}}\u001b[39m\n",
      "Body\u001b[36m::Base.Pairs{Symbol, Int64, Tuple{Symbol, Symbol}, NamedTuple{(:a, :b), Tuple{Int64, Int64}}}\u001b[39m\n",
      "\u001b[90m1 ─\u001b[39m      (kwargs... = Base.pairs(@_2))\n",
      "\u001b[90m│  \u001b[39m %2 = Main.:(var\"#f#1\")(kwargs...::Core.PartialStruct(Base.Pairs{Symbol, Int64, Tuple{Symbol, Symbol}, NamedTuple{(:a, :b), Tuple{Int64, Int64}}}, Any[NamedTuple{(:a, :b), Tuple{Int64, Int64}}, Core.Const((:a, :b))]), @_3)\u001b[36m::Core.PartialStruct(Base.Pairs{Symbol, Int64, Tuple{Symbol, Symbol}, NamedTuple{(:a, :b), Tuple{Int64, Int64}}}, Any[NamedTuple{(:a, :b), Tuple{Int64, Int64}}, Core.Const((:a, :b))])\u001b[39m\n",
      "\u001b[90m└──\u001b[39m      return %2\n",
      "\n"
     ]
    }
   ],
   "source": [
    "@show params = (:a => 1, :b => 2)\n",
    "@show typeof(params)\n",
    "@show f(; params...)\n",
    "println()\n",
    "@code_warntype f(; params...)"
   ]
  },
  {
   "cell_type": "code",
   "execution_count": 6,
   "id": "97659c6f-c1c0-4cd8-813b-53bd314d9617",
   "metadata": {},
   "outputs": [
    {
     "name": "stdout",
     "output_type": "stream",
     "text": [
      "params = [:a => 1, :b => 2] = [:a => 1, :b => 2]\n",
      "typeof(params) = Vector{Pair{Symbol, Int64}}\n",
      "f(; params...) = Base.Pairs(:a => 1, :b => 2)\n",
      "\n",
      "MethodInstance for (::var\"#f##kw\")(::NamedTuple{(:a, :b), Tuple{Int64, Int64}}, ::typeof(f))\n",
      "  from (::var\"#f##kw\")(::Any, ::typeof(f)) in Main at In[1]:1\n",
      "Arguments\n",
      "  _\u001b[36m::Core.Const(var\"#f##kw\"())\u001b[39m\n",
      "  @_2\u001b[36m::NamedTuple{(:a, :b), Tuple{Int64, Int64}}\u001b[39m\n",
      "  @_3\u001b[36m::Core.Const(f)\u001b[39m\n",
      "Locals\n",
      "  kwargs...\u001b[36m::Base.Pairs{Symbol, Int64, Tuple{Symbol, Symbol}, NamedTuple{(:a, :b), Tuple{Int64, Int64}}}\u001b[39m\n",
      "Body\u001b[36m::Base.Pairs{Symbol, Int64, Tuple{Symbol, Symbol}, NamedTuple{(:a, :b), Tuple{Int64, Int64}}}\u001b[39m\n",
      "\u001b[90m1 ─\u001b[39m      (kwargs... = Base.pairs(@_2))\n",
      "\u001b[90m│  \u001b[39m %2 = Main.:(var\"#f#1\")(kwargs...::Core.PartialStruct(Base.Pairs{Symbol, Int64, Tuple{Symbol, Symbol}, NamedTuple{(:a, :b), Tuple{Int64, Int64}}}, Any[NamedTuple{(:a, :b), Tuple{Int64, Int64}}, Core.Const((:a, :b))]), @_3)\u001b[36m::Core.PartialStruct(Base.Pairs{Symbol, Int64, Tuple{Symbol, Symbol}, NamedTuple{(:a, :b), Tuple{Int64, Int64}}}, Any[NamedTuple{(:a, :b), Tuple{Int64, Int64}}, Core.Const((:a, :b))])\u001b[39m\n",
      "\u001b[90m└──\u001b[39m      return %2\n",
      "\n"
     ]
    }
   ],
   "source": [
    "@show params = [:a => 1, :b => 2]\n",
    "@show typeof(params)\n",
    "@show f(; params...)\n",
    "println()\n",
    "@code_warntype f(; params...)"
   ]
  },
  {
   "cell_type": "code",
   "execution_count": 7,
   "id": "f88e8da3-b077-4ace-93f8-affe3970a9cf",
   "metadata": {},
   "outputs": [
    {
     "name": "stdout",
     "output_type": "stream",
     "text": [
      "params = ((:a, 1), (:b, 2)) = ((:a, 1), (:b, 2))\n",
      "typeof(params) = Tuple{Tuple{Symbol, Int64}, Tuple{Symbol, Int64}}\n",
      "f(; params...) = Base.Pairs(:a => 1, :b => 2)\n",
      "\n",
      "MethodInstance for (::var\"#f##kw\")(::NamedTuple{(:a, :b), Tuple{Int64, Int64}}, ::typeof(f))\n",
      "  from (::var\"#f##kw\")(::Any, ::typeof(f)) in Main at In[1]:1\n",
      "Arguments\n",
      "  _\u001b[36m::Core.Const(var\"#f##kw\"())\u001b[39m\n",
      "  @_2\u001b[36m::NamedTuple{(:a, :b), Tuple{Int64, Int64}}\u001b[39m\n",
      "  @_3\u001b[36m::Core.Const(f)\u001b[39m\n",
      "Locals\n",
      "  kwargs...\u001b[36m::Base.Pairs{Symbol, Int64, Tuple{Symbol, Symbol}, NamedTuple{(:a, :b), Tuple{Int64, Int64}}}\u001b[39m\n",
      "Body\u001b[36m::Base.Pairs{Symbol, Int64, Tuple{Symbol, Symbol}, NamedTuple{(:a, :b), Tuple{Int64, Int64}}}\u001b[39m\n",
      "\u001b[90m1 ─\u001b[39m      (kwargs... = Base.pairs(@_2))\n",
      "\u001b[90m│  \u001b[39m %2 = Main.:(var\"#f#1\")(kwargs...::Core.PartialStruct(Base.Pairs{Symbol, Int64, Tuple{Symbol, Symbol}, NamedTuple{(:a, :b), Tuple{Int64, Int64}}}, Any[NamedTuple{(:a, :b), Tuple{Int64, Int64}}, Core.Const((:a, :b))]), @_3)\u001b[36m::Core.PartialStruct(Base.Pairs{Symbol, Int64, Tuple{Symbol, Symbol}, NamedTuple{(:a, :b), Tuple{Int64, Int64}}}, Any[NamedTuple{(:a, :b), Tuple{Int64, Int64}}, Core.Const((:a, :b))])\u001b[39m\n",
      "\u001b[90m└──\u001b[39m      return %2\n",
      "\n"
     ]
    }
   ],
   "source": [
    "@show params = ((:a, 1), (:b, 2))\n",
    "@show typeof(params)\n",
    "@show f(; params...)\n",
    "println()\n",
    "@code_warntype f(; params...)"
   ]
  },
  {
   "cell_type": "code",
   "execution_count": 8,
   "id": "d66cd461-5915-4013-99b4-585a5bb139dd",
   "metadata": {},
   "outputs": [
    {
     "name": "stdout",
     "output_type": "stream",
     "text": [
      "params = [(:a, 1), (:b, 2)] = [(:a, 1), (:b, 2)]\n",
      "typeof(params) = Vector{Tuple{Symbol, Int64}}\n",
      "f(; params...) = Base.Pairs(:a => 1, :b => 2)\n",
      "\n",
      "MethodInstance for (::var\"#f##kw\")(::NamedTuple{(:a, :b), Tuple{Int64, Int64}}, ::typeof(f))\n",
      "  from (::var\"#f##kw\")(::Any, ::typeof(f)) in Main at In[1]:1\n",
      "Arguments\n",
      "  _\u001b[36m::Core.Const(var\"#f##kw\"())\u001b[39m\n",
      "  @_2\u001b[36m::NamedTuple{(:a, :b), Tuple{Int64, Int64}}\u001b[39m\n",
      "  @_3\u001b[36m::Core.Const(f)\u001b[39m\n",
      "Locals\n",
      "  kwargs...\u001b[36m::Base.Pairs{Symbol, Int64, Tuple{Symbol, Symbol}, NamedTuple{(:a, :b), Tuple{Int64, Int64}}}\u001b[39m\n",
      "Body\u001b[36m::Base.Pairs{Symbol, Int64, Tuple{Symbol, Symbol}, NamedTuple{(:a, :b), Tuple{Int64, Int64}}}\u001b[39m\n",
      "\u001b[90m1 ─\u001b[39m      (kwargs... = Base.pairs(@_2))\n",
      "\u001b[90m│  \u001b[39m %2 = Main.:(var\"#f#1\")(kwargs...::Core.PartialStruct(Base.Pairs{Symbol, Int64, Tuple{Symbol, Symbol}, NamedTuple{(:a, :b), Tuple{Int64, Int64}}}, Any[NamedTuple{(:a, :b), Tuple{Int64, Int64}}, Core.Const((:a, :b))]), @_3)\u001b[36m::Core.PartialStruct(Base.Pairs{Symbol, Int64, Tuple{Symbol, Symbol}, NamedTuple{(:a, :b), Tuple{Int64, Int64}}}, Any[NamedTuple{(:a, :b), Tuple{Int64, Int64}}, Core.Const((:a, :b))])\u001b[39m\n",
      "\u001b[90m└──\u001b[39m      return %2\n",
      "\n"
     ]
    }
   ],
   "source": [
    "@show params = [(:a, 1), (:b, 2)]\n",
    "@show typeof(params)\n",
    "@show f(; params...)\n",
    "println()\n",
    "@code_warntype f(; params...)"
   ]
  },
  {
   "cell_type": "code",
   "execution_count": 9,
   "id": "92ce3457-2ea4-4778-9cc6-1b111f426238",
   "metadata": {},
   "outputs": [
    {
     "name": "stdout",
     "output_type": "stream",
     "text": [
      "params = [[:a, 1], [:b, 2]] = Vector{Any}[[:a, 1], [:b, 2]]\n",
      "typeof(params) = Vector{Vector{Any}}\n",
      "f(; params...) = Base.Pairs(:a => 1, :b => 2)\n",
      "\n",
      "MethodInstance for (::var\"#f##kw\")(::NamedTuple{(:a, :b), Tuple{Int64, Int64}}, ::typeof(f))\n",
      "  from (::var\"#f##kw\")(::Any, ::typeof(f)) in Main at In[1]:1\n",
      "Arguments\n",
      "  _\u001b[36m::Core.Const(var\"#f##kw\"())\u001b[39m\n",
      "  @_2\u001b[36m::NamedTuple{(:a, :b), Tuple{Int64, Int64}}\u001b[39m\n",
      "  @_3\u001b[36m::Core.Const(f)\u001b[39m\n",
      "Locals\n",
      "  kwargs...\u001b[36m::Base.Pairs{Symbol, Int64, Tuple{Symbol, Symbol}, NamedTuple{(:a, :b), Tuple{Int64, Int64}}}\u001b[39m\n",
      "Body\u001b[36m::Base.Pairs{Symbol, Int64, Tuple{Symbol, Symbol}, NamedTuple{(:a, :b), Tuple{Int64, Int64}}}\u001b[39m\n",
      "\u001b[90m1 ─\u001b[39m      (kwargs... = Base.pairs(@_2))\n",
      "\u001b[90m│  \u001b[39m %2 = Main.:(var\"#f#1\")(kwargs...::Core.PartialStruct(Base.Pairs{Symbol, Int64, Tuple{Symbol, Symbol}, NamedTuple{(:a, :b), Tuple{Int64, Int64}}}, Any[NamedTuple{(:a, :b), Tuple{Int64, Int64}}, Core.Const((:a, :b))]), @_3)\u001b[36m::Core.PartialStruct(Base.Pairs{Symbol, Int64, Tuple{Symbol, Symbol}, NamedTuple{(:a, :b), Tuple{Int64, Int64}}}, Any[NamedTuple{(:a, :b), Tuple{Int64, Int64}}, Core.Const((:a, :b))])\u001b[39m\n",
      "\u001b[90m└──\u001b[39m      return %2\n",
      "\n"
     ]
    }
   ],
   "source": [
    "@show params = [[:a, 1], [:b, 2]]\n",
    "@show typeof(params)\n",
    "@show f(; params...)\n",
    "println()\n",
    "@code_warntype f(; params...)"
   ]
  },
  {
   "cell_type": "code",
   "execution_count": null,
   "id": "67dd1c53-b444-48e9-8b55-ede5fe204aff",
   "metadata": {},
   "outputs": [],
   "source": []
  }
 ],
 "metadata": {
  "kernelspec": {
   "display_name": "Julia 1.7.2",
   "language": "julia",
   "name": "julia-1.7"
  },
  "language_info": {
   "file_extension": ".jl",
   "mimetype": "application/julia",
   "name": "julia",
   "version": "1.7.2"
  }
 },
 "nbformat": 4,
 "nbformat_minor": 5
}
