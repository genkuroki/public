{
 "cells": [
  {
   "cell_type": "code",
   "execution_count": 1,
   "id": "18f8a0f4-d770-480d-8373-e30dd7a97871",
   "metadata": {},
   "outputs": [
    {
     "data": {
      "text/latex": [
       "Implement \\texttt{elzero(x)}, \\texttt{Base.:+(x, y)}, \\texttt{Base.length(x)}, and \\texttt{Base.getindex(x, i)} for a subtype \\texttt{T} of \\texttt{AbstractFoo}.  Then you can use \\texttt{naivesum(x)} method for \\texttt{x::T}.\n",
       "\n"
      ],
      "text/markdown": [
       "Implement `elzero(x)`, `Base.:+(x, y)`, `Base.length(x)`, and `Base.getindex(x, i)` for a subtype `T` of `AbstractFoo`.  Then you can use `naivesum(x)` method for `x::T`.\n"
      ],
      "text/plain": [
       "  Implement \u001b[36melzero(x)\u001b[39m, \u001b[36mBase.:+(x, y)\u001b[39m, \u001b[36mBase.length(x)\u001b[39m, and \u001b[36mBase.getindex(x, i)\u001b[39m\n",
       "  for a subtype \u001b[36mT\u001b[39m of \u001b[36mAbstractFoo\u001b[39m. Then you can use \u001b[36mnaivesum(x)\u001b[39m method for\n",
       "  \u001b[36mx::T\u001b[39m."
      ]
     },
     "execution_count": 1,
     "metadata": {},
     "output_type": "execute_result"
    }
   ],
   "source": [
    "module O\n",
    "\n",
    "\"\"\"\n",
    "Implement `elzero(x)`, `Base.:+(x, y)`, `Base.length(x)`, and `Base.getindex(x, i)` for a subtype `T` of `AbstractFoo`.  Then you can use `naivesum(x)` method for `x::T`.\n",
    "\"\"\"\n",
    "abstract type AbstractFoo end\n",
    "function naivesum(x::AbstractFoo)\n",
    "    s = elzero(x)\n",
    "    for i in 1:length(x)\n",
    "        s += x[i]\n",
    "    end\n",
    "    s\n",
    "end\n",
    "\n",
    "struct Foo <: AbstractFoo\n",
    "    a\n",
    "end\n",
    "elzero(x::Foo) = Foo(zero(eltype(x.a)))\n",
    "Base.:+(x::Foo, y::Foo) = Foo(x.a + y.a)\n",
    "Base.length(x::Foo)::Int = length(x.a)\n",
    "Base.getindex(x::Foo, i::Integer) = Foo(x.a[i])\n",
    "\n",
    "struct Bar{T} <: AbstractFoo\n",
    "    a::T\n",
    "end\n",
    "elzero(x::Bar) = Bar(zero(eltype(x.a)))\n",
    "Base.:+(x::Bar, y::Bar) = Bar(x.a + y.a)\n",
    "Base.length(x::Bar) = length(x.a)\n",
    "Base.getindex(x::Bar, i::Integer) = Bar(x.a[i])\n",
    "\n",
    "end\n",
    "\n",
    "@doc O.AbstractFoo"
   ]
  },
  {
   "cell_type": "code",
   "execution_count": 2,
   "id": "f978e867-5807-4fc0-a481-41dbc3005e71",
   "metadata": {},
   "outputs": [],
   "source": [
    "a = randn(10^6)\n",
    "foo = O.Foo(a)\n",
    "bar = O.Bar(a);"
   ]
  },
  {
   "cell_type": "code",
   "execution_count": 3,
   "id": "83cbadb1-c6bc-4a9c-8cb3-3be071fc5b8f",
   "metadata": {},
   "outputs": [
    {
     "name": "stdout",
     "output_type": "stream",
     "text": [
      "MethodInstance for Main.O.naivesum(::Main.O.Foo)\n",
      "  from naivesum(x::Main.O.AbstractFoo) in Main.O at In[1]:7\n",
      "Arguments\n",
      "  #self#\u001b[36m::Core.Const(Main.O.naivesum)\u001b[39m\n",
      "  x\u001b[36m::Main.O.Foo\u001b[39m\n",
      "Locals\n",
      "  @_3\u001b[33m\u001b[1m::Union{Nothing, Tuple{Int64, Int64}}\u001b[22m\u001b[39m\n",
      "  s\u001b[36m::Main.O.Foo\u001b[39m\n",
      "  i\u001b[36m::Int64\u001b[39m\n",
      "Body\u001b[36m::Main.O.Foo\u001b[39m\n",
      "\u001b[90m1 ─\u001b[39m       (s = Main.O.elzero(x))\n",
      "\u001b[90m│  \u001b[39m %2  = Main.O.length(x)\u001b[36m::Int64\u001b[39m\n",
      "\u001b[90m│  \u001b[39m %3  = (1:%2)\u001b[36m::Core.PartialStruct(UnitRange{Int64}, Any[Core.Const(1), Int64])\u001b[39m\n",
      "\u001b[90m│  \u001b[39m       (@_3 = Base.iterate(%3))\n",
      "\u001b[90m│  \u001b[39m %5  = (@_3 === nothing)\u001b[36m::Bool\u001b[39m\n",
      "\u001b[90m│  \u001b[39m %6  = Base.not_int(%5)\u001b[36m::Bool\u001b[39m\n",
      "\u001b[90m└──\u001b[39m       goto #4 if not %6\n",
      "\u001b[90m2 ┄\u001b[39m %8  = @_3\u001b[36m::Tuple{Int64, Int64}\u001b[39m\n",
      "\u001b[90m│  \u001b[39m       (i = Core.getfield(%8, 1))\n",
      "\u001b[90m│  \u001b[39m %10 = Core.getfield(%8, 2)\u001b[36m::Int64\u001b[39m\n",
      "\u001b[90m│  \u001b[39m %11 = s\u001b[36m::Main.O.Foo\u001b[39m\n",
      "\u001b[90m│  \u001b[39m %12 = Base.getindex(x, i)\u001b[36m::Main.O.Foo\u001b[39m\n",
      "\u001b[90m│  \u001b[39m       (s = %11 + %12)\n",
      "\u001b[90m│  \u001b[39m       (@_3 = Base.iterate(%3, %10))\n",
      "\u001b[90m│  \u001b[39m %15 = (@_3 === nothing)\u001b[36m::Bool\u001b[39m\n",
      "\u001b[90m│  \u001b[39m %16 = Base.not_int(%15)\u001b[36m::Bool\u001b[39m\n",
      "\u001b[90m└──\u001b[39m       goto #4 if not %16\n",
      "\u001b[90m3 ─\u001b[39m       goto #2\n",
      "\u001b[90m4 ┄\u001b[39m       return s\n",
      "\n"
     ]
    }
   ],
   "source": [
    "@code_warntype O.naivesum(foo)"
   ]
  },
  {
   "cell_type": "code",
   "execution_count": 4,
   "id": "cca024ea-f899-4c7b-9a9e-501d0a72cb1c",
   "metadata": {
    "tags": []
   },
   "outputs": [
    {
     "name": "stdout",
     "output_type": "stream",
     "text": [
      "MethodInstance for Main.O.naivesum(::Main.O.Bar{Vector{Float64}})\n",
      "  from naivesum(x::Main.O.AbstractFoo) in Main.O at In[1]:7\n",
      "Arguments\n",
      "  #self#\u001b[36m::Core.Const(Main.O.naivesum)\u001b[39m\n",
      "  x\u001b[36m::Main.O.Bar{Vector{Float64}}\u001b[39m\n",
      "Locals\n",
      "  @_3\u001b[33m\u001b[1m::Union{Nothing, Tuple{Int64, Int64}}\u001b[22m\u001b[39m\n",
      "  s\u001b[36m::Main.O.Bar{Float64}\u001b[39m\n",
      "  i\u001b[36m::Int64\u001b[39m\n",
      "Body\u001b[36m::Main.O.Bar{Float64}\u001b[39m\n",
      "\u001b[90m1 ─\u001b[39m       (s = Main.O.elzero(x))\n",
      "\u001b[90m│  \u001b[39m %2  = Main.O.length(x)\u001b[36m::Int64\u001b[39m\n",
      "\u001b[90m│  \u001b[39m %3  = (1:%2)\u001b[36m::Core.PartialStruct(UnitRange{Int64}, Any[Core.Const(1), Int64])\u001b[39m\n",
      "\u001b[90m│  \u001b[39m       (@_3 = Base.iterate(%3))\n",
      "\u001b[90m│  \u001b[39m %5  = (@_3 === nothing)\u001b[36m::Bool\u001b[39m\n",
      "\u001b[90m│  \u001b[39m %6  = Base.not_int(%5)\u001b[36m::Bool\u001b[39m\n",
      "\u001b[90m└──\u001b[39m       goto #4 if not %6\n",
      "\u001b[90m2 ┄\u001b[39m %8  = @_3\u001b[36m::Tuple{Int64, Int64}\u001b[39m\n",
      "\u001b[90m│  \u001b[39m       (i = Core.getfield(%8, 1))\n",
      "\u001b[90m│  \u001b[39m %10 = Core.getfield(%8, 2)\u001b[36m::Int64\u001b[39m\n",
      "\u001b[90m│  \u001b[39m %11 = s\u001b[36m::Main.O.Bar{Float64}\u001b[39m\n",
      "\u001b[90m│  \u001b[39m %12 = Base.getindex(x, i)\u001b[36m::Main.O.Bar{Float64}\u001b[39m\n",
      "\u001b[90m│  \u001b[39m       (s = %11 + %12)\n",
      "\u001b[90m│  \u001b[39m       (@_3 = Base.iterate(%3, %10))\n",
      "\u001b[90m│  \u001b[39m %15 = (@_3 === nothing)\u001b[36m::Bool\u001b[39m\n",
      "\u001b[90m│  \u001b[39m %16 = Base.not_int(%15)\u001b[36m::Bool\u001b[39m\n",
      "\u001b[90m└──\u001b[39m       goto #4 if not %16\n",
      "\u001b[90m3 ─\u001b[39m       goto #2\n",
      "\u001b[90m4 ┄\u001b[39m       return s\n",
      "\n"
     ]
    }
   ],
   "source": [
    "@code_warntype O.naivesum(bar)"
   ]
  },
  {
   "cell_type": "code",
   "execution_count": 5,
   "id": "87244486-dad1-4554-8078-66b24187e394",
   "metadata": {},
   "outputs": [
    {
     "name": "stdout",
     "output_type": "stream",
     "text": [
      "  0.092900 seconds (3.01 M allocations: 46.592 MiB, 6.87% gc time, 27.41% compilation time)\n",
      "  0.064759 seconds (3.00 M allocations: 45.769 MiB, 10.00% gc time)\n",
      "  0.065813 seconds (3.00 M allocations: 45.769 MiB, 9.28% gc time)\n"
     ]
    },
    {
     "data": {
      "text/plain": [
       "Main.O.Foo(289.7356483316737)"
      ]
     },
     "execution_count": 5,
     "metadata": {},
     "output_type": "execute_result"
    }
   ],
   "source": [
    "@time O.naivesum(foo)\n",
    "@time O.naivesum(foo)\n",
    "@time O.naivesum(foo)"
   ]
  },
  {
   "cell_type": "code",
   "execution_count": 6,
   "id": "36bb0fa9-e870-4d3f-9dc7-61fddcd5e509",
   "metadata": {},
   "outputs": [
    {
     "name": "stdout",
     "output_type": "stream",
     "text": [
      "  0.007645 seconds (15.18 k allocations: 873.484 KiB, 86.62% compilation time)\n",
      "  0.001031 seconds (1 allocation: 16 bytes)\n",
      "  0.001043 seconds (1 allocation: 16 bytes)\n"
     ]
    },
    {
     "data": {
      "text/plain": [
       "Main.O.Bar{Float64}(289.7356483316737)"
      ]
     },
     "execution_count": 6,
     "metadata": {},
     "output_type": "execute_result"
    }
   ],
   "source": [
    "@time O.naivesum(bar)\n",
    "@time O.naivesum(bar)\n",
    "@time O.naivesum(bar)"
   ]
  },
  {
   "cell_type": "code",
   "execution_count": null,
   "id": "9b59e210-a0fb-43ab-8b04-0be2777eb7f5",
   "metadata": {},
   "outputs": [],
   "source": []
  }
 ],
 "metadata": {
  "jupytext": {
   "formats": "ipynb,md"
  },
  "kernelspec": {
   "display_name": "Julia 1.7.2",
   "language": "julia",
   "name": "julia-1.7"
  },
  "language_info": {
   "file_extension": ".jl",
   "mimetype": "application/julia",
   "name": "julia",
   "version": "1.7.2"
  }
 },
 "nbformat": 4,
 "nbformat_minor": 5
}
