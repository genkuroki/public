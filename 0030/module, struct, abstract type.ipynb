{
 "cells": [
  {
   "cell_type": "code",
   "execution_count": 1,
   "id": "48cfba93-63d3-4478-b46f-417ddc2cc166",
   "metadata": {},
   "outputs": [
    {
     "data": {
      "text/plain": [
       "3.141592653589793"
      ]
     },
     "execution_count": 1,
     "metadata": {},
     "output_type": "execute_result"
    }
   ],
   "source": [
    "module O\n",
    "f(x) = π*x\n",
    "end\n",
    "\n",
    "O.f(1)"
   ]
  },
  {
   "cell_type": "code",
   "execution_count": 2,
   "id": "cca91587-f571-4021-8a1c-48c9a288dca9",
   "metadata": {},
   "outputs": [
    {
     "data": {
      "text/plain": [
       "4.141592653589793"
      ]
     },
     "execution_count": 2,
     "metadata": {},
     "output_type": "execute_result"
    }
   ],
   "source": [
    "struct A end\n",
    "f(a::A, x) = x + π\n",
    "\n",
    "a = A()\n",
    "f(a, 1)"
   ]
  },
  {
   "cell_type": "code",
   "execution_count": 3,
   "id": "62039dbd-b1b1-4174-b989-63e4f7c3008c",
   "metadata": {},
   "outputs": [
    {
     "data": {
      "text/plain": [
       "Main.Q"
      ]
     },
     "execution_count": 3,
     "metadata": {},
     "output_type": "execute_result"
    }
   ],
   "source": [
    "module Q\n",
    "\n",
    "abstract type AbstractFoo end\n",
    "f(foo::AbstractFoo, x) = x + 1\n",
    "\n",
    "struct Foo <: AbstractFoo end\n",
    "\n",
    "struct Bar{T} <: AbstractFoo a::T end\n",
    "f(bar::Bar, x) = x + bar.a\n",
    "\n",
    "end"
   ]
  },
  {
   "cell_type": "code",
   "execution_count": 4,
   "id": "036edc66-a720-424d-be59-e337af2f0e6f",
   "metadata": {},
   "outputs": [
    {
     "data": {
      "text/plain": [
       "2"
      ]
     },
     "execution_count": 4,
     "metadata": {},
     "output_type": "execute_result"
    }
   ],
   "source": [
    "foo = Q.Foo()\n",
    "Q.f(foo, 1)"
   ]
  },
  {
   "cell_type": "code",
   "execution_count": 5,
   "id": "98ed3331-8026-4d6a-b7d3-f12d8eff7af6",
   "metadata": {},
   "outputs": [
    {
     "data": {
      "text/plain": [
       "4649374"
      ]
     },
     "execution_count": 5,
     "metadata": {},
     "output_type": "execute_result"
    }
   ],
   "source": [
    "bar = Q.Bar(4649373)\n",
    "Q.f(bar, 1)"
   ]
  },
  {
   "cell_type": "code",
   "execution_count": 6,
   "id": "73ccbca8-0ef3-460b-a3a5-6938db893687",
   "metadata": {},
   "outputs": [
    {
     "data": {
      "text/plain": [
       "double (generic function with 2 methods)"
      ]
     },
     "execution_count": 6,
     "metadata": {},
     "output_type": "execute_result"
    }
   ],
   "source": [
    "double(x) = 2x\n",
    "double(x::AbstractString) = x^2"
   ]
  },
  {
   "cell_type": "code",
   "execution_count": 7,
   "id": "9e1fe072-dc4c-4b48-9ae8-87b8839fb3be",
   "metadata": {},
   "outputs": [
    {
     "data": {
      "text/plain": [
       "6.283185307179586"
      ]
     },
     "execution_count": 7,
     "metadata": {},
     "output_type": "execute_result"
    }
   ],
   "source": [
    "double(π)"
   ]
  },
  {
   "cell_type": "code",
   "execution_count": 8,
   "id": "687de09f-7822-4883-a102-8ee88564a934",
   "metadata": {},
   "outputs": [
    {
     "data": {
      "text/plain": [
       "\"hogehoge\""
      ]
     },
     "execution_count": 8,
     "metadata": {},
     "output_type": "execute_result"
    }
   ],
   "source": [
    "double(\"hoge\")"
   ]
  },
  {
   "cell_type": "code",
   "execution_count": null,
   "id": "1cd050f4-86d6-40be-85fd-29a22d92ff2c",
   "metadata": {},
   "outputs": [],
   "source": []
  }
 ],
 "metadata": {
  "kernelspec": {
   "display_name": "Julia 1.7.2",
   "language": "julia",
   "name": "julia-1.7"
  },
  "language_info": {
   "file_extension": ".jl",
   "mimetype": "application/julia",
   "name": "julia",
   "version": "1.7.2"
  }
 },
 "nbformat": 4,
 "nbformat_minor": 5
}
