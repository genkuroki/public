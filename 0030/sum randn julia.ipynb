{
 "cells": [
  {
   "cell_type": "code",
   "execution_count": 1,
   "id": "48c5b67f-23cb-459d-a1e5-aa3b8b2e6911",
   "metadata": {},
   "outputs": [
    {
     "name": "stdout",
     "output_type": "stream",
     "text": [
      "  0.383899 seconds (2 allocations: 762.939 MiB, 4.15% gc time)\n",
      "  0.335737 seconds (2 allocations: 762.939 MiB, 4.70% gc time)\n",
      "  0.326252 seconds (2 allocations: 762.939 MiB, 0.11% gc time)\n"
     ]
    },
    {
     "data": {
      "text/plain": [
       "-3681.0460282097024"
      ]
     },
     "execution_count": 1,
     "metadata": {},
     "output_type": "execute_result"
    }
   ],
   "source": [
    "@time sum(randn(10^8)); Base.GC.gc()\n",
    "@time sum(randn(10^8)); Base.GC.gc()\n",
    "@time sum(randn(10^8))"
   ]
  },
  {
   "cell_type": "code",
   "execution_count": null,
   "id": "f55a5a61-5fa2-44dd-8f43-c0f68403b38b",
   "metadata": {},
   "outputs": [],
   "source": []
  }
 ],
 "metadata": {
  "jupytext": {
   "formats": "ipynb,jl:hydrogen"
  },
  "kernelspec": {
   "display_name": "Julia 1.10.0",
   "language": "julia",
   "name": "julia-1.10"
  },
  "language_info": {
   "file_extension": ".jl",
   "mimetype": "application/julia",
   "name": "julia",
   "version": "1.10.0"
  }
 },
 "nbformat": 4,
 "nbformat_minor": 5
}
