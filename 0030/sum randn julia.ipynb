{
 "cells": [
  {
   "cell_type": "code",
   "execution_count": 1,
   "id": "48c5b67f-23cb-459d-a1e5-aa3b8b2e6911",
   "metadata": {},
   "outputs": [
    {
     "name": "stdout",
     "output_type": "stream",
     "text": [
      "  0.418203 seconds (2 allocations: 762.939 MiB, 1.86% gc time)\n"
     ]
    },
    {
     "data": {
      "text/plain": [
       "889.0409954515017"
      ]
     },
     "execution_count": 1,
     "metadata": {},
     "output_type": "execute_result"
    }
   ],
   "source": [
    "@time sum(randn(10^8))"
   ]
  },
  {
   "cell_type": "code",
   "execution_count": null,
   "id": "02412af2-3d08-41e4-baee-6ad15bbca56c",
   "metadata": {},
   "outputs": [],
   "source": []
  }
 ],
 "metadata": {
  "kernelspec": {
   "display_name": "Julia 1.7.2",
   "language": "julia",
   "name": "julia-1.7"
  },
  "language_info": {
   "file_extension": ".jl",
   "mimetype": "application/julia",
   "name": "julia",
   "version": "1.7.2"
  }
 },
 "nbformat": 4,
 "nbformat_minor": 5
}
