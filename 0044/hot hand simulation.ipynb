{
 "cells": [
  {
   "cell_type": "markdown",
   "id": "d21b0dea-a7d0-44b7-ae54-08bf5bf3e933",
   "metadata": {},
   "source": [
    "https://theconversation.com/momentum-isnt-magic-vindicating-the-hot-hand-with-the-mathematics-of-streaks-74786"
   ]
  },
  {
   "cell_type": "code",
   "execution_count": 1,
   "id": "bd07e919-b82a-488e-8857-b0039dc48bad",
   "metadata": {},
   "outputs": [
    {
     "data": {
      "text/plain": [
       "alladmissibles (generic function with 1 method)"
      ]
     },
     "execution_count": 1,
     "metadata": {},
     "output_type": "execute_result"
    }
   ],
   "source": [
    "using Distributions\n",
    "using Random\n",
    "\n",
    "function prob(X, k)\n",
    "    n = length(X)\n",
    "    den = 0\n",
    "    num = 0\n",
    "    for i in k+1:n\n",
    "        if all(X[i-j] for j in 1:k)\n",
    "            den += 1\n",
    "            num += X[i]\n",
    "        end\n",
    "    end\n",
    "    num/den\n",
    "end\n",
    "\n",
    "function sim(n, k; L=10^7)\n",
    "    nths = Threads.nthreads()\n",
    "    Xtmp = [trues(n) for _ in 1:nths]\n",
    "    P = zeros(nths)\n",
    "    N = zeros(Int, nths)\n",
    "    Threads.@threads for _ in 1:L\n",
    "        tid = Threads.threadid()\n",
    "        X = rand!(Xtmp[tid])\n",
    "        p = prob(X, k)\n",
    "        if !isnan(p)\n",
    "            N[tid] += 1\n",
    "            P[tid] += p\n",
    "        end\n",
    "    end\n",
    "    sum(N)/L, sum(P)/sum(N)\n",
    "end\n",
    "\n",
    "function sim1(n, k; L=10^7)\n",
    "    nths = Threads.nthreads()\n",
    "    Xtmp = [trues(n) for _ in 1:nths]\n",
    "    M = zeros(Int, nths)\n",
    "    N = zeros(Int, nths)\n",
    "    Threads.@threads for _ in 1:L\n",
    "        tid = Threads.threadid()\n",
    "        X = rand!(Xtmp[tid])\n",
    "        i = rand(k+1:n)\n",
    "        if all(X[i-j] for j in 1:k)\n",
    "            N[tid] += 1\n",
    "            M[tid] += X[i]\n",
    "        end\n",
    "    end\n",
    "    sum(N)/L, sum(M)/sum(N)\n",
    "end\n",
    "\n",
    "function isadmissible(X, k)\n",
    "    c = 0\n",
    "    for x in X[begin:end-1]\n",
    "        if x\n",
    "            c += 1\n",
    "            c ≥ k && return true\n",
    "        else\n",
    "            c = 0\n",
    "        end\n",
    "    end\n",
    "    false\n",
    "end\n",
    "\n",
    "function sim2(n, k; L=10^7)\n",
    "    nths = Threads.nthreads()\n",
    "    Xtmp = [trues(n) for _ in 1:nths]\n",
    "    M = zeros(Int, nths)\n",
    "    N = zeros(Int, nths)\n",
    "    Threads.@threads for _ in 1:L\n",
    "        tid = Threads.threadid()\n",
    "        X = rand!(Xtmp[tid])\n",
    "        isadmissible(X, k) || continue\n",
    "        N[tid] += 1\n",
    "        c = 0\n",
    "        while true\n",
    "            c += 1\n",
    "            i = rand(k+1:n)\n",
    "            if all(X[i-j] for j in 1:k)\n",
    "                M[tid] += X[i]\n",
    "                break\n",
    "            end\n",
    "        end\n",
    "    end\n",
    "    sum(N)/L, sum(M)/sum(N)\n",
    "end\n",
    "\n",
    "function alladmissibles(n, k)\n",
    "    @assert n ≤ 20\n",
    "    A = Tuple{NTuple{n, Bool}, Vector{Bool}}[]\n",
    "    for X in Iterators.product(fill((false, true), n)...)\n",
    "        if isadmissible(X, k)\n",
    "            Y = Bool[]\n",
    "            for i in 1+k:n\n",
    "                if all(X[i-j] for j in 1:k)\n",
    "                    push!(Y, X[i])\n",
    "                end\n",
    "            end\n",
    "            push!(A, (X, Y))\n",
    "        end\n",
    "    end\n",
    "    A\n",
    "end"
   ]
  },
  {
   "cell_type": "code",
   "execution_count": 2,
   "id": "ad92d299-eedb-42d0-b43d-0df986eeac47",
   "metadata": {},
   "outputs": [
    {
     "data": {
      "text/plain": [
       "6-element Vector{Tuple{NTuple{5, Bool}, Vector{Bool}}}:\n",
       " ((1, 1, 1, 0, 0), [0])\n",
       " ((0, 1, 1, 1, 0), [0])\n",
       " ((1, 1, 1, 1, 0), [1, 0])\n",
       " ((1, 1, 1, 0, 1), [0])\n",
       " ((0, 1, 1, 1, 1), [1])\n",
       " ((1, 1, 1, 1, 1), [1, 1])"
      ]
     },
     "execution_count": 2,
     "metadata": {},
     "output_type": "execute_result"
    }
   ],
   "source": [
    "alladmissibles(5, 3)"
   ]
  },
  {
   "cell_type": "code",
   "execution_count": 3,
   "id": "58bfc13f-7a9d-423d-831a-5257a2d5e6e4",
   "metadata": {},
   "outputs": [
    {
     "data": {
      "text/plain": [
       "0.4166666666666667"
      ]
     },
     "execution_count": 3,
     "metadata": {},
     "output_type": "execute_result"
    }
   ],
   "source": [
    "alladmissibles(5, 3) .|> (t -> t[2]) .|> mean |> mean"
   ]
  },
  {
   "cell_type": "code",
   "execution_count": 4,
   "id": "f6d2668b-b9ae-41b1-aaf5-40056cefc1bf",
   "metadata": {},
   "outputs": [
    {
     "name": "stdout",
     "output_type": "stream",
     "text": [
      "sim(5, 3) = (0.1876402, 0.4163582750391441)\n",
      "sim1(5, 3) = (0.1248436, 0.4996211259527921)\n",
      "sim2(5, 3) = (0.1873954, 0.4160331576975742)\n"
     ]
    }
   ],
   "source": [
    "@show sim(5, 3) sim1(5, 3) sim2(5, 3);"
   ]
  },
  {
   "cell_type": "code",
   "execution_count": 5,
   "id": "779dc20c-64ff-46b1-8583-5adf83b59d55",
   "metadata": {},
   "outputs": [
    {
     "data": {
      "text/plain": [
       "476-element Vector{Tuple{NTuple{10, Bool}, Vector{Bool}}}:\n",
       " ((1, 1, 1, 0, 0, 0, 0, 0, 0, 0), [0])\n",
       " ((0, 1, 1, 1, 0, 0, 0, 0, 0, 0), [0])\n",
       " ((1, 1, 1, 1, 0, 0, 0, 0, 0, 0), [1, 0])\n",
       " ((1, 1, 1, 0, 1, 0, 0, 0, 0, 0), [0])\n",
       " ((0, 0, 1, 1, 1, 0, 0, 0, 0, 0), [0])\n",
       " ((1, 0, 1, 1, 1, 0, 0, 0, 0, 0), [0])\n",
       " ((0, 1, 1, 1, 1, 0, 0, 0, 0, 0), [1, 0])\n",
       " ((1, 1, 1, 1, 1, 0, 0, 0, 0, 0), [1, 1, 0])\n",
       " ((1, 1, 1, 0, 0, 1, 0, 0, 0, 0), [0])\n",
       " ((0, 1, 1, 1, 0, 1, 0, 0, 0, 0), [0])\n",
       " ((1, 1, 1, 1, 0, 1, 0, 0, 0, 0), [1, 0])\n",
       " ((1, 1, 1, 0, 1, 1, 0, 0, 0, 0), [0])\n",
       " ((0, 0, 0, 1, 1, 1, 0, 0, 0, 0), [0])\n",
       " ⋮\n",
       " ((0, 0, 1, 0, 1, 1, 1, 1, 1, 1), [1, 1, 1])\n",
       " ((1, 0, 1, 0, 1, 1, 1, 1, 1, 1), [1, 1, 1])\n",
       " ((0, 1, 1, 0, 1, 1, 1, 1, 1, 1), [1, 1, 1])\n",
       " ((1, 1, 1, 0, 1, 1, 1, 1, 1, 1), [0, 1, 1, 1])\n",
       " ((0, 0, 0, 1, 1, 1, 1, 1, 1, 1), [1, 1, 1, 1])\n",
       " ((1, 0, 0, 1, 1, 1, 1, 1, 1, 1), [1, 1, 1, 1])\n",
       " ((0, 1, 0, 1, 1, 1, 1, 1, 1, 1), [1, 1, 1, 1])\n",
       " ((1, 1, 0, 1, 1, 1, 1, 1, 1, 1), [1, 1, 1, 1])\n",
       " ((0, 0, 1, 1, 1, 1, 1, 1, 1, 1), [1, 1, 1, 1, 1])\n",
       " ((1, 0, 1, 1, 1, 1, 1, 1, 1, 1), [1, 1, 1, 1, 1])\n",
       " ((0, 1, 1, 1, 1, 1, 1, 1, 1, 1), [1, 1, 1, 1, 1, 1])\n",
       " ((1, 1, 1, 1, 1, 1, 1, 1, 1, 1), [1, 1, 1, 1, 1, 1, 1])"
      ]
     },
     "execution_count": 5,
     "metadata": {},
     "output_type": "execute_result"
    }
   ],
   "source": [
    "alladmissibles(10, 3)"
   ]
  },
  {
   "cell_type": "code",
   "execution_count": 6,
   "id": "5157eb68-13c2-4e4f-affe-f6448c275962",
   "metadata": {},
   "outputs": [
    {
     "data": {
      "text/plain": [
       "0.35260604241696675"
      ]
     },
     "execution_count": 6,
     "metadata": {},
     "output_type": "execute_result"
    }
   ],
   "source": [
    "alladmissibles(10, 3) .|> (t -> t[2]) .|> mean |> mean"
   ]
  },
  {
   "cell_type": "code",
   "execution_count": 7,
   "id": "0e113011-1d34-464b-a33d-061c476a38e3",
   "metadata": {},
   "outputs": [
    {
     "name": "stdout",
     "output_type": "stream",
     "text": [
      "sim(10, 3) = (0.4646717, 0.3525811864285721)\n",
      "sim1(10, 3) = (0.12501, 0.5002375809935206)\n",
      "sim2(10, 3) = (0.4649015, 0.35245229365790387)\n"
     ]
    }
   ],
   "source": [
    "@show sim(10, 3) sim1(10, 3) sim2(10, 3);"
   ]
  },
  {
   "cell_type": "code",
   "execution_count": 8,
   "id": "d69f4137-7b6f-413e-b39f-0cd928a09274",
   "metadata": {},
   "outputs": [
    {
     "name": "stdout",
     "output_type": "stream",
     "text": [
      "sim(30, 3) = (0.8997, 0.3823245268627625)\n",
      "sim1(30, 3) = (0.1249244, 0.49969501554540185)\n",
      "sim2(30, 3) = (0.899836, 0.38202105717041773)\n"
     ]
    }
   ],
   "source": [
    "@show sim(30, 3) sim1(30, 3) sim2(30, 3);"
   ]
  },
  {
   "cell_type": "code",
   "execution_count": 9,
   "id": "ec35e8ce-f824-463d-b8b3-5637078ac225",
   "metadata": {},
   "outputs": [
    {
     "name": "stdout",
     "output_type": "stream",
     "text": [
      "sim(100, 3) = (0.9997243, 0.46028864758069166)\n",
      "sim1(100, 3) = (0.124846, 0.5000680838793393)\n",
      "sim2(100, 3) = (0.9997115, 0.4602426800131838)\n"
     ]
    }
   ],
   "source": [
    "@show sim(100, 3) sim1(100, 3) sim2(100, 3);"
   ]
  },
  {
   "cell_type": "code",
   "execution_count": 10,
   "id": "d9fe38b4-c00e-4688-8e79-85c32806c786",
   "metadata": {},
   "outputs": [
    {
     "name": "stdout",
     "output_type": "stream",
     "text": [
      "sim(300, 3) = (1.0, 0.4878309976827274)\n",
      "sim1(300, 3) = (0.1248072, 0.49957935119127744)\n",
      "sim2(300, 3) = (1.0, 0.4879832)\n"
     ]
    }
   ],
   "source": [
    "@show sim(300, 3) sim1(300, 3) sim2(300, 3);"
   ]
  },
  {
   "cell_type": "code",
   "execution_count": 11,
   "id": "0eb81221-14eb-4c90-86d3-45c83682bb39",
   "metadata": {},
   "outputs": [
    {
     "name": "stdout",
     "output_type": "stream",
     "text": [
      "sim(1000, 3) = (1.0, 0.49646528141497764)\n",
      "sim1(1000, 3) = (0.1250088, 0.5001775874978401)\n",
      "sim2(1000, 3) = (1.0, 0.4965632)\n"
     ]
    }
   ],
   "source": [
    "@show sim(1000, 3) sim1(1000, 3) sim2(1000, 3);"
   ]
  },
  {
   "cell_type": "code",
   "execution_count": null,
   "id": "2c4d30da-430c-4c2b-ad81-89157971412f",
   "metadata": {},
   "outputs": [],
   "source": []
  }
 ],
 "metadata": {
  "jupytext": {
   "formats": "ipynb,jl:hydrogen"
  },
  "kernelspec": {
   "display_name": "Julia 1.9.2",
   "language": "julia",
   "name": "julia-1.9"
  },
  "language_info": {
   "file_extension": ".jl",
   "mimetype": "application/julia",
   "name": "julia",
   "version": "1.9.2"
  }
 },
 "nbformat": 4,
 "nbformat_minor": 5
}
