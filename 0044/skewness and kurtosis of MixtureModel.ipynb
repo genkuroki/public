{
 "cells": [
  {
   "cell_type": "code",
   "execution_count": 11,
   "id": "0cf7c594-1ddd-4486-81a8-9aea132e2b7e",
   "metadata": {},
   "outputs": [],
   "source": [
    "using Distributions\n",
    "\n",
    "function meanvarstdskku(dist)\n",
    "    m = mean(dist)\n",
    "    s2 = var(dist)\n",
    "    s = √s2\n",
    "    sk = skewness(dist)\n",
    "    ku = kurtosis(dist)\n",
    "    m, s2, s, sk, ku\n",
    "end\n",
    "\n",
    "function meanvarstdskku(dist::MixtureModel)\n",
    "    M1, M2, M3, M4 = moment1234(dist)\n",
    "    m = mean(dist)\n",
    "    s2 = var(dist)\n",
    "    s = √s2\n",
    "    s3, s4 = s*s2, s2^2\n",
    "    sk = 1/s3 * (M3 - 3m*s2 - m^3)\n",
    "    ku = 1/s4 * (M4 - 4m*s3*sk - 6m^2*s2 - m^4) - 3\n",
    "    m, s2, s, sk, ku\n",
    "end\n",
    "\n",
    "function moment1234(dist)\n",
    "    m, s2, s, sk, ku = meanvarstdskku(dist)\n",
    "    s3, s4 = s*s2, s2^2\n",
    "    m1 = m\n",
    "    m2 = s2 + m^2\n",
    "    m3 = s3*sk + 3m*s2 + m^3\n",
    "    m4 = s4*(ku + 3) + 4m*s3*sk + 6m^2*s2 + m^4\n",
    "    m1, m2, m3, m4\n",
    "end\n",
    "\n",
    "function moment1234(dist::MixtureModel)\n",
    "    T = float(eltype(dist))\n",
    "    M1, M2, M3, M4 = zero(T), zero(T), zero(T), zero(T)\n",
    "    for (d, q) in zip(components(dist), probs(dist))\n",
    "        m1, m2, m3, m4 = moment1234(d)\n",
    "        M1 += q * m1\n",
    "        M2 += q * m2\n",
    "        M3 += q * m3\n",
    "        M4 += q * m4\n",
    "    end\n",
    "    M1, M2, M3, M4\n",
    "end\n",
    "\n",
    "# Warning: type piracy\n",
    "Distributions.skewness(dist::MixtureModel) = meanvarstdskku(dist)[4]\n",
    "Distributions.kurtosis(dist::MixtureModel) = meanvarstdskku(dist)[5]"
   ]
  },
  {
   "cell_type": "code",
   "execution_count": 2,
   "id": "f56fc498-bb57-4882-a605-43ab1f1e46a7",
   "metadata": {},
   "outputs": [
    {
     "name": "stdout",
     "output_type": "stream",
     "text": [
      "skewness(mix) = 3.8236762415246406\n",
      "kurtosis(mix) = 13.585\n"
     ]
    }
   ],
   "source": [
    "mix = MixtureModel([Normal(), Normal(20)], [0.95, 0.05])\n",
    "@show skewness(mix) kurtosis(mix);"
   ]
  },
  {
   "cell_type": "code",
   "execution_count": 3,
   "id": "872f9fa0-c9f3-4a4c-be75-3bd53c24ec19",
   "metadata": {},
   "outputs": [
    {
     "name": "stdout",
     "output_type": "stream",
     "text": [
      "skewness(mixdisc) = 2.737235374074743\n",
      "kurtosis(mixdisc) = 7.571784631305494\n"
     ]
    }
   ],
   "source": [
    "mixdisc = MixtureModel([Poisson(), Poisson(10)], [0.9, 0.1])\n",
    "@show skewness(mixdisc) kurtosis(mixdisc);"
   ]
  },
  {
   "cell_type": "code",
   "execution_count": 4,
   "id": "d178af06-eae2-484c-b30e-75e02285bc80",
   "metadata": {},
   "outputs": [
    {
     "name": "stdout",
     "output_type": "stream",
     "text": [
      "skewness(mixmix) = 3.3443244390341396\n",
      "kurtosis(mixmix) = 12.544763892468605\n"
     ]
    }
   ],
   "source": [
    "mixmix = MixtureModel([mix, Normal(2, 3)], [0.7, 0.3])\n",
    "@show skewness(mixmix) kurtosis(mixmix);"
   ]
  },
  {
   "cell_type": "code",
   "execution_count": 5,
   "id": "5e91a62f-7d35-4c16-9716-a1fb21882e86",
   "metadata": {},
   "outputs": [
    {
     "data": {
      "text/plain": [
       "moment1234_approx (generic function with 1 method)"
      ]
     },
     "execution_count": 5,
     "metadata": {},
     "output_type": "execute_result"
    }
   ],
   "source": [
    "using Distributions\n",
    "using QuadGK\n",
    "\n",
    "function skewness_approx(dist::ContinuousUnivariateDistribution)\n",
    "    μ = mean(dist)\n",
    "    σ = std(dist)\n",
    "    quadgk(x -> ((x-μ)/σ)^3 * pdf(dist, x), extrema(dist)...)[1]\n",
    "end\n",
    "\n",
    "function skewness_approx(dist::DiscreteUnivariateDistribution)\n",
    "    μ = mean(dist)\n",
    "    σ = std(dist)\n",
    "    xmin = max(round(Int, μ-100σ), minimum(dist))\n",
    "    xmax = min(round(Int, μ+100σ), maximum(dist))\n",
    "    sum(x -> ((x-μ)/σ)^3 * pdf(dist, x), xmin:xmax)\n",
    "end\n",
    "\n",
    "function kurtosis_approx(dist::ContinuousUnivariateDistribution)\n",
    "    μ = mean(dist)\n",
    "    σ = std(dist)\n",
    "    quadgk(x -> ((x-μ)/σ)^4 * pdf(dist, x), extrema(dist)...)[1] - 3\n",
    "end\n",
    "\n",
    "function kurtosis_approx(dist::DiscreteUnivariateDistribution)\n",
    "    μ = mean(dist)\n",
    "    σ = std(dist)\n",
    "    xmin = max(round(Int, μ-100σ), minimum(dist))\n",
    "    xmax = min(round(Int, μ+100σ), maximum(dist))\n",
    "    sum(x -> ((x-μ)/σ)^4 * pdf(dist, x), xmin:xmax) - 3\n",
    "end\n",
    "\n",
    "function meanvarstdskku_approx(dist)\n",
    "    m = mean(dist)\n",
    "    s2 = var(dist)\n",
    "    s = √s2\n",
    "    sk = skewness_approx(dist)\n",
    "    ku = kurtosis_approx(dist)\n",
    "    m, s2, s, sk, ku\n",
    "end\n",
    "\n",
    "function _moment_approx(dist::ContinuousUnivariateDistribution, k)\n",
    "    quadgk(x -> x^k * pdf(dist, x), extrema(dist)...)[1]\n",
    "end\n",
    "\n",
    "function _moment_approx(dist::DiscreteUnivariateDistribution, k)\n",
    "    μ = mean(dist)\n",
    "    σ = std(dist)\n",
    "    xmin = max(round(Int, μ-100σ), minimum(dist))\n",
    "    xmax = min(round(Int, μ+100σ), maximum(dist))\n",
    "    sum(x -> x^k * pdf(dist, x), xmin:xmax)\n",
    "end\n",
    "\n",
    "function moment1234_approx(dist)\n",
    "    m1, m2, m3, m4 = (_moment_approx(dist, k) for k in 1:4)\n",
    "    m1, m2, m3, m4\n",
    "end"
   ]
  },
  {
   "cell_type": "code",
   "execution_count": 6,
   "id": "eefaa14c-1fd7-4d5b-b5dd-91723a90a96b",
   "metadata": {},
   "outputs": [
    {
     "name": "stdout",
     "output_type": "stream",
     "text": [
      "meanvarstdskku(dist) = (6.0, 18.0, 4.242640687119285, 1.414213562373095, 3.0)\n",
      "meanvarstdskku_approx(dist) = (6.0, 18.0, 4.242640687119285, 1.4142135623731023, 2.9999999999999982)\n",
      "moment1234(dist) = (6.0, 54.0, 648.0, 9720.0)\n",
      "moment1234_approx(dist) = (5.999999999999999, 54.000000000000014, 648.0000000000008, 9719.999999999909)\n"
     ]
    }
   ],
   "source": [
    "dist = Gamma(2, 3)\n",
    "@show meanvarstdskku(dist) meanvarstdskku_approx(dist)\n",
    "@show moment1234(dist) moment1234_approx(dist);"
   ]
  },
  {
   "cell_type": "code",
   "execution_count": 7,
   "id": "70b34aa3-150e-484d-a1ab-7ce717f5d891",
   "metadata": {},
   "outputs": [
    {
     "name": "stdout",
     "output_type": "stream",
     "text": [
      "meanvarstdskku(dist) = (30.0, 30.0, 5.477225575051661, 0.18257418583505536, 0.03333333333333333)\n",
      "meanvarstdskku_approx(dist) = (30.0, 30.0, 5.477225575051661, 0.1825741858350566, 0.03333333333334343)\n",
      "moment1234(dist) = (30.0, 930.0, 29730.0, 978330.0)\n",
      "moment1234_approx(dist) = (30.000000000000053, 930.000000000002, 29730.000000000073, 978330.000000002)\n"
     ]
    }
   ],
   "source": [
    "dist = Poisson(30)\n",
    "@show meanvarstdskku(dist) meanvarstdskku_approx(dist)\n",
    "@show moment1234(dist) moment1234_approx(dist);"
   ]
  },
  {
   "cell_type": "code",
   "execution_count": 8,
   "id": "ca428ed0-85e2-4427-88fd-354cab1b828b",
   "metadata": {},
   "outputs": [
    {
     "name": "stdout",
     "output_type": "stream",
     "text": [
      "moment1234(mix) = (1.0, 21.0, 403.0, 8123.000000000001)\n",
      "moment1234_approx(mix) = (0.9999999999999988, 20.999999999999982, 403.00000000022675, 8122.999999997206)\n",
      "meanvarstdskku(mix) = (1.0, 20.0, 4.47213595499958, 3.8236762415246406, 13.585)\n",
      "meanvarstdskku_approx(mix) = (1.0, 20.0, 4.47213595499958, 3.823676241524649, 13.584999999990973)\n"
     ]
    }
   ],
   "source": [
    "mix = MixtureModel([Normal(), Normal(20)], [0.95, 0.05])\n",
    "@show moment1234(mix)\n",
    "@show moment1234_approx(mix)\n",
    "@show meanvarstdskku(mix)\n",
    "@show meanvarstdskku_approx(mix);"
   ]
  },
  {
   "cell_type": "code",
   "execution_count": 9,
   "id": "c92a1f46-19d7-444f-a2dd-6de82fa5c07e",
   "metadata": {},
   "outputs": [
    {
     "name": "stdout",
     "output_type": "stream",
     "text": [
      "moment1234(mixdisc) = (1.9, 12.8, 135.5, 1684.5)\n",
      "moment1234_approx(mixdisc) = (1.9000000000000035, 12.800000000000038, 135.50000000000045, 1684.5000000000068)\n",
      "meanvarstdskku(mixdisc) = (1.9, 9.19, 3.0315012782448236, 2.737235374074743, 7.571784631305494)\n",
      "meanvarstdskku_approx(mixdisc) = (1.9, 9.19, 3.0315012782448236, 2.737235374074752, 7.5717846313055315)\n"
     ]
    }
   ],
   "source": [
    "mixdisc = MixtureModel([Poisson(1), Poisson(10)], [0.9, 0.1])\n",
    "@show moment1234(mixdisc)\n",
    "@show moment1234_approx(mixdisc)\n",
    "@show meanvarstdskku(mixdisc)\n",
    "@show meanvarstdskku_approx(mixdisc);"
   ]
  },
  {
   "cell_type": "code",
   "execution_count": 10,
   "id": "3f6ae157-17c6-4324-be3f-c2763281f58d",
   "metadata": {},
   "outputs": [
    {
     "name": "stdout",
     "output_type": "stream",
     "text": [
      "moment1234(mixmix) = (1.2999999999999998, 18.599999999999998, 300.7, 5828.6)\n",
      "moment1234_approx(mixmix) = (1.299999999999999, 18.599999999999987, 300.7000000000006, 5828.600000000012)\n",
      "meanvarstdskku(mixmix) = (1.2999999999999998, 16.909999999999997, 4.112177038990417, 3.3443244390341396, 12.544763892468605)\n",
      "meanvarstdskku_approx(mixmix) = (1.2999999999999998, 16.909999999999997, 4.112177038990417, 3.344324439034147, 12.544763892468545)\n"
     ]
    }
   ],
   "source": [
    "mixmix = MixtureModel([mix, Normal(2, 3)], [0.7, 0.3])\n",
    "@show moment1234(mixmix)\n",
    "@show moment1234_approx(mixmix)\n",
    "@show meanvarstdskku(mixmix)\n",
    "@show meanvarstdskku_approx(mixmix);"
   ]
  },
  {
   "cell_type": "code",
   "execution_count": null,
   "id": "585a95fc-6ae7-487b-8531-d203af2421bb",
   "metadata": {},
   "outputs": [],
   "source": []
  }
 ],
 "metadata": {
  "jupytext": {
   "encoding": "# -*- coding: utf-8 -*-",
   "formats": "ipynb,jl:hydrogen"
  },
  "kernelspec": {
   "display_name": "Julia 1.9.3",
   "language": "julia",
   "name": "julia-1.9"
  },
  "language_info": {
   "file_extension": ".jl",
   "mimetype": "application/julia",
   "name": "julia",
   "version": "1.9.3"
  }
 },
 "nbformat": 4,
 "nbformat_minor": 5
}
