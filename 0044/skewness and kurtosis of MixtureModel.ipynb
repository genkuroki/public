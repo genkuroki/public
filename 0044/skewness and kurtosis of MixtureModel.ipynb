{
 "cells": [
  {
   "cell_type": "code",
   "execution_count": 9,
   "id": "0cf7c594-1ddd-4486-81a8-9aea132e2b7e",
   "metadata": {},
   "outputs": [
    {
     "data": {
      "text/plain": [
       "moment1234 (generic function with 2 methods)"
      ]
     },
     "execution_count": 9,
     "metadata": {},
     "output_type": "execute_result"
    }
   ],
   "source": [
    "using Distributions\n",
    "using QuadGK\n",
    "\n",
    "function skewness_quadgk(dist)\n",
    "    μ = mean(dist)\n",
    "    σ = std(dist)\n",
    "    quadgk(x -> ((x-μ)/σ)^3 * pdf(dist, x), extrema(dist)...)[1]\n",
    "end\n",
    "\n",
    "function kurtosis_quadgk(dist)\n",
    "    μ = mean(dist)\n",
    "    σ = std(dist)\n",
    "    quadgk(x -> ((x-μ)/σ)^4 * pdf(dist, x), extrema(dist)...)[1] - 3\n",
    "end\n",
    "\n",
    "function meanvarstdskku(dist)\n",
    "    m = mean(dist)\n",
    "    s2 = var(dist)\n",
    "    s = √s2\n",
    "    sk = skewness(dist)\n",
    "    ku = kurtosis(dist)\n",
    "    m, s2, s, sk, ku\n",
    "end\n",
    "\n",
    "function meanvarstdskku_quadgk(dist)\n",
    "    m = mean(dist)\n",
    "    s2 = quadgk(x -> (x - m)^2 * pdf(dist, x), extrema(dist)...)[1]\n",
    "    s = √s2\n",
    "    sk = quadgk(x -> ((x - m)/s)^3 * pdf(dist, x), extrema(dist)...)[1]\n",
    "    ku = quadgk(x -> ((x - m)/s)^4 * pdf(dist, x), extrema(dist)...)[1] - 3\n",
    "    m, s2, s, sk, ku\n",
    "end\n",
    "\n",
    "function meanvarstdskku(dist::MixtureModel)\n",
    "    M1, M2, M3, M4 = moment1234_quadgk(dist)\n",
    "    m = mean(dist)\n",
    "    s2 = var(dist)\n",
    "    s = √s2\n",
    "    s3, s4 = s*s2, s2^2\n",
    "    sk = 1/s3 * (M3 - 3m*s2 - m^3)\n",
    "    ku = 1/s4 * (M4 - 4m*s3*sk - 6m^2*s2 - m^4) - 3\n",
    "    m, s2, s, sk, ku\n",
    "end\n",
    "\n",
    "function moment1234(dist)\n",
    "    m, s2, s, sk, ku = meanvarstdskku(dist)\n",
    "    s3, s4 = s*s2, s2^2\n",
    "    m1 = m\n",
    "    m2 = s2 + m^2\n",
    "    m3 = s3*sk + 3m*s2 + m^3\n",
    "    m4 = s4*(ku + 3) + 4m*s3*sk + 6m^2*s2 + m^4\n",
    "    m1, m2, m3, m4\n",
    "end\n",
    "\n",
    "function moment1234_quadgk(dist)\n",
    "    m1 = quadgk(x -> x * pdf(dist, x), extrema(dist)...)[1]\n",
    "    m2 = quadgk(x -> x^2 * pdf(dist, x), extrema(dist)...)[1]\n",
    "    m3 = quadgk(x -> x^3 * pdf(dist, x), extrema(dist)...)[1]\n",
    "    m4 = quadgk(x -> x^4 * pdf(dist, x), extrema(dist)...)[1]\n",
    "    m1, m2, m3, m4\n",
    "end\n",
    "\n",
    "function moment1234(dist::MixtureModel)\n",
    "    T = float(eltype(dist))\n",
    "    M1, M2, M3, M4 = zero(T), zero(T), zero(T), zero(T)\n",
    "    for (d, q) in zip(components(dist), probs(dist))\n",
    "        m1, m2, m3, m4 = moment1234(d)\n",
    "        M1 += q * m1\n",
    "        M2 += q * m2\n",
    "        M3 += q * m3\n",
    "        M4 += q * m4\n",
    "    end\n",
    "    M1, M2, M3, M4\n",
    "end"
   ]
  },
  {
   "cell_type": "code",
   "execution_count": 10,
   "id": "e74f3dc3-0de9-4deb-a706-89e45d8f84a6",
   "metadata": {},
   "outputs": [
    {
     "data": {
      "text/plain": [
       "0.0"
      ]
     },
     "execution_count": 10,
     "metadata": {},
     "output_type": "execute_result"
    }
   ],
   "source": [
    "T = float(eltype(Bernoulli(0.5)))\n",
    "zero(T)"
   ]
  },
  {
   "cell_type": "code",
   "execution_count": 11,
   "id": "eefaa14c-1fd7-4d5b-b5dd-91723a90a96b",
   "metadata": {},
   "outputs": [
    {
     "name": "stdout",
     "output_type": "stream",
     "text": [
      "meanvarstdskku(dist) = (6.0, 18.0, 4.242640687119285, 1.414213562373095, 3.0)\n",
      "meanvarstdskku_quadgk(dist) = (6.0, 18.00000000000002, 4.242640687119287, 1.4142135623730994, 2.9999999999999822)\n",
      "moment1234(dist) = (6.0, 54.0, 648.0, 9720.0)\n",
      "moment1234_quadgk(dist) = (5.999999999999999, 54.000000000000014, 648.0000000000008, 9719.999999999909)\n"
     ]
    }
   ],
   "source": [
    "dist = Gamma(2, 3)\n",
    "@show meanvarstdskku(dist) meanvarstdskku_quadgk(dist)\n",
    "@show moment1234(dist) moment1234_quadgk(dist);"
   ]
  },
  {
   "cell_type": "code",
   "execution_count": 12,
   "id": "ca428ed0-85e2-4427-88fd-354cab1b828b",
   "metadata": {},
   "outputs": [
    {
     "name": "stdout",
     "output_type": "stream",
     "text": [
      "moment1234(mix) = (1.0, 21.0, 403.0, 8123.000000000001)\n",
      "moment1234_quadgk(mix) = (0.9999999999999988, 20.999999999999982, 403.00000000022675, 8122.999999997206)\n",
      "meanvarstdskku(mix) = (1.0, 20.0, 4.47213595499958, 3.8236762415271754, 13.58499999999075)\n",
      "meanvarstdskku_quadgk(mix) = (1.0, 19.99999999999998, 4.472135954999577, 3.8236762415246552, 13.584999999991009)\n"
     ]
    }
   ],
   "source": [
    "mix = MixtureModel([Normal(), Normal(20)], [0.95, 0.05])\n",
    "@show moment1234(mix)\n",
    "@show moment1234_quadgk(mix)\n",
    "@show meanvarstdskku(mix)\n",
    "@show meanvarstdskku_quadgk(mix);"
   ]
  },
  {
   "cell_type": "code",
   "execution_count": null,
   "id": "c92a1f46-19d7-444f-a2dd-6de82fa5c07e",
   "metadata": {},
   "outputs": [],
   "source": []
  }
 ],
 "metadata": {
  "jupytext": {
   "formats": "ipynb,jl:hydrogen"
  },
  "kernelspec": {
   "display_name": "Julia 1.9.3",
   "language": "julia",
   "name": "julia-1.9"
  },
  "language_info": {
   "file_extension": ".jl",
   "mimetype": "application/julia",
   "name": "julia",
   "version": "1.9.3"
  }
 },
 "nbformat": 4,
 "nbformat_minor": 5
}
