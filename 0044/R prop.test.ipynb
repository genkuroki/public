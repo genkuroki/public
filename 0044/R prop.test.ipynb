{
 "cells": [
  {
   "cell_type": "code",
   "execution_count": 12,
   "id": "0258199c-5b05-4b31-9d11-6d45c13ba48a",
   "metadata": {},
   "outputs": [
    {
     "data": {
      "text/plain": [
       "pvalue_confint_score (generic function with 1 method)"
      ]
     },
     "execution_count": 12,
     "metadata": {},
     "output_type": "execute_result"
    }
   ],
   "source": [
    "using RCall\n",
    "@rimport stats as R\n",
    "using Distributions\n",
    "\n",
    "safediv(x, y) = x == 0 ? zero(x/y) : x/y\n",
    "\n",
    "function pvalue_score(k, n, p)\n",
    "    bin = Binomial(n, p)\n",
    "    μ, σ = mean(bin), std(bin)\n",
    "    z = safediv(k - μ, σ)\n",
    "    2ccdf(Normal(), abs(z))\n",
    "end\n",
    "\n",
    "function confint_score(k, n; α = 0.05)\n",
    "    p̂ = k/n\n",
    "    c = quantile(Normal(), 1 - α/2)\n",
    "    a, b, c = 1 + c^2/n, p̂ + c^2/(2n), p̂^2\n",
    "    sqrtD = √(b^2 - a*c)\n",
    "    [(b - sqrtD)/a, (b + sqrtD)/a]\n",
    "end\n",
    "\n",
    "function pvalue_confint_score(k, n; p=1/2, α=0.05)\n",
    "    (pvalue=pvalue_score(k, n, p), confint=confint_score(k, n; α))\n",
    "end"
   ]
  },
  {
   "cell_type": "code",
   "execution_count": 13,
   "id": "0b6a05d2-919d-4b32-9b58-a7018cb0df14",
   "metadata": {},
   "outputs": [
    {
     "data": {
      "text/plain": [
       "(pvalue = 0.07363827012030265, confint = [0.14547724486760408, 0.5189728183535237])"
      ]
     },
     "execution_count": 13,
     "metadata": {},
     "output_type": "execute_result"
    }
   ],
   "source": [
    "pvalue_confint_score(6, 20)"
   ]
  },
  {
   "cell_type": "code",
   "execution_count": 11,
   "id": "ff418c49-cde8-42b4-94e0-fc3d122595ad",
   "metadata": {},
   "outputs": [
    {
     "data": {
      "text/plain": [
       "RObject{VecSxp}\n",
       "\n",
       "\t1-sample proportions test without continuity correction\n",
       "\n",
       "data:  6L out of 20L, null probability 0.5\n",
       "X-squared = 3.2, df = 1, p-value = 0.07364\n",
       "alternative hypothesis: true p is not equal to 0.5\n",
       "95 percent confidence interval:\n",
       " 0.1454772 0.5189728\n",
       "sample estimates:\n",
       "  p \n",
       "0.3 \n",
       "\n"
      ]
     },
     "execution_count": 11,
     "metadata": {},
     "output_type": "execute_result"
    }
   ],
   "source": [
    "R.prop_test(6, 20; correct=false)"
   ]
  },
  {
   "cell_type": "code",
   "execution_count": 17,
   "id": "03278210-0c17-48ad-9c92-2aba26c74405",
   "metadata": {},
   "outputs": [
    {
     "data": {
      "text/plain": [
       "RObject{ClosSxp}\n",
       "function (x, n, p = NULL, alternative = c(\"two.sided\", \n",
       "    \"less\", \"greater\"), conf.level = 0.95, correct = TRUE) \n",
       "{\n",
       "    DNAME <- deparse1(substitute(x))\n",
       "    if (is.table(x) && length(dim(x)) == 1L) {\n",
       "        if (dim(x) != 2L) \n",
       "            stop(\"table 'x' should have 2 entries\")\n",
       "        l <- 1\n",
       "        n <- sum(x)\n",
       "        x <- x[1L]\n",
       "    }\n",
       "    else if (is.matrix(x)) {\n",
       "        if (ncol(x) != 2L) \n",
       "            stop(\"'x' must have 2 columns\")\n",
       "        l <- nrow(x)\n",
       "        n <- rowSums(x)\n",
       "        x <- x[, 1L]\n",
       "    }\n",
       "    else {\n",
       "        DNAME <- paste(DNAME, \"out of\", deparse1(substitute(n)))\n",
       "        if ((l <- length(x)) != length(n)) \n",
       "            stop(\"'x' and 'n' must have the same length\")\n",
       "    }\n",
       "    OK <- complete.cases(x, n)\n",
       "    x <- x[OK]\n",
       "    n <- n[OK]\n",
       "    if ((k <- length(x)) < 1L) \n",
       "        stop(\"not enough data\")\n",
       "    if (any(n <= 0)) \n",
       "        stop(\"elements of 'n' must be positive\")\n",
       "    if (any(x < 0)) \n",
       "        stop(\"elements of 'x' must be nonnegative\")\n",
       "    if (any(x > n)) \n",
       "        stop(\"elements of 'x' must not be greater than those of 'n'\")\n",
       "    if (is.null(p) && (k == 1)) \n",
       "        p <- 0.5\n",
       "    if (!is.null(p)) {\n",
       "        DNAME <- paste0(DNAME, \", null \", if (k == 1) \n",
       "            \"probability \"\n",
       "        else \"probabilities \", deparse1(substitute(p)))\n",
       "        if (length(p) != l) \n",
       "            stop(\"'p' must have the same length as 'x' and 'n'\")\n",
       "        p <- p[OK]\n",
       "        if (any((p <= 0) | (p >= 1))) \n",
       "            stop(\"elements of 'p' must be in (0,1)\")\n",
       "    }\n",
       "    alternative <- match.arg(alternative)\n",
       "    if (k > 2 || (k == 2) && !is.null(p)) \n",
       "        alternative <- \"two.sided\"\n",
       "    if ((length(conf.level) != 1L) || is.na(conf.level) || (conf.level <= \n",
       "        0) || (conf.level >= 1)) \n",
       "        stop(\"'conf.level' must be a single number between 0 and 1\")\n",
       "    correct <- as.logical(correct)\n",
       "    ESTIMATE <- setNames(x/n, if (k == 1) \n",
       "        \"p\"\n",
       "    else paste(\"prop\", 1L:l)[OK])\n",
       "    NVAL <- p\n",
       "    CINT <- NULL\n",
       "    YATES <- if (correct && (k <= 2)) \n",
       "        0.5\n",
       "    else 0\n",
       "    if (k == 1) {\n",
       "        z <- qnorm(if (alternative == \"two.sided\") \n",
       "            (1 + conf.level)/2\n",
       "        else conf.level)\n",
       "        YATES <- min(YATES, abs(x - n * p))\n",
       "        z22n <- z^2/(2 * n)\n",
       "        p.c <- ESTIMATE + YATES/n\n",
       "        p.u <- if (p.c >= 1) \n",
       "            1\n",
       "        else (p.c + z22n + z * sqrt(p.c * (1 - p.c)/n + z22n/(2 * \n",
       "            n)))/(1 + 2 * z22n)\n",
       "        p.c <- ESTIMATE - YATES/n\n",
       "        p.l <- if (p.c <= 0) \n",
       "            0\n",
       "        else (p.c + z22n - z * sqrt(p.c * (1 - p.c)/n + z22n/(2 * \n",
       "            n)))/(1 + 2 * z22n)\n",
       "        CINT <- switch(alternative, two.sided = c(max(p.l, 0), \n",
       "            min(p.u, 1)), greater = c(max(p.l, 0), 1), less = c(0, \n",
       "            min(p.u, 1)))\n",
       "    }\n",
       "    else if ((k == 2) && is.null(p)) {\n",
       "        DELTA <- ESTIMATE[1L] - ESTIMATE[2L]\n",
       "        YATES <- min(YATES, abs(DELTA)/sum(1/n))\n",
       "        WIDTH <- (switch(alternative, two.sided = qnorm((1 + \n",
       "            conf.level)/2), qnorm(conf.level)) * sqrt(sum(ESTIMATE * \n",
       "            (1 - ESTIMATE)/n)) + YATES * sum(1/n))\n",
       "        CINT <- switch(alternative, two.sided = c(max(DELTA - \n",
       "            WIDTH, -1), min(DELTA + WIDTH, 1)), greater = c(max(DELTA - \n",
       "            WIDTH, -1), 1), less = c(-1, min(DELTA + WIDTH, 1)))\n",
       "    }\n",
       "    if (!is.null(CINT)) \n",
       "        attr(CINT, \"conf.level\") <- conf.level\n",
       "    METHOD <- paste(if (k == 1) \n",
       "        \"1-sample proportions test\"\n",
       "    else paste0(k, \"-sample test for \", if (is.null(p)) \n",
       "        \"equality of\"\n",
       "    else \"given\", \" proportions\"), if (YATES) \n",
       "        \"with\"\n",
       "    else \"without\", \"continuity correction\")\n",
       "    if (is.null(p)) {\n",
       "        p <- sum(x)/sum(n)\n",
       "        PARAMETER <- k - 1\n",
       "    }\n",
       "    else {\n",
       "        PARAMETER <- k\n",
       "        names(NVAL) <- names(ESTIMATE)\n",
       "    }\n",
       "    names(PARAMETER) <- \"df\"\n",
       "    x <- cbind(x, n - x)\n",
       "    E <- cbind(n * p, n * (1 - p))\n",
       "    if (any(E < 5)) \n",
       "        warning(\"Chi-squared approximation may be incorrect\")\n",
       "    STATISTIC <- sum((abs(x - E) - YATES)^2/E)\n",
       "    names(STATISTIC) <- \"X-squared\"\n",
       "    if (alternative == \"two.sided\") \n",
       "        PVAL <- pchisq(STATISTIC, PARAMETER, lower.tail = FALSE)\n",
       "    else {\n",
       "        if (k == 1) \n",
       "            z <- sign(ESTIMATE - p) * sqrt(STATISTIC)\n",
       "        else z <- sign(DELTA) * sqrt(STATISTIC)\n",
       "        PVAL <- pnorm(z, lower.tail = (alternative == \"less\"))\n",
       "    }\n",
       "    RVAL <- list(statistic = STATISTIC, parameter = PARAMETER, \n",
       "        p.value = as.numeric(PVAL), estimate = ESTIMATE, null.value = NVAL, \n",
       "        conf.int = CINT, alternative = alternative, method = METHOD, \n",
       "        data.name = DNAME)\n",
       "    class(RVAL) <- \"htest\"\n",
       "    return(RVAL)\n",
       "}\n",
       "<bytecode: 0x0000021416ec7870>\n",
       "<environment: namespace:stats>\n"
      ]
     },
     "execution_count": 17,
     "metadata": {},
     "output_type": "execute_result"
    }
   ],
   "source": [
    "R.prop_test"
   ]
  },
  {
   "cell_type": "code",
   "execution_count": null,
   "id": "2d5c98f3-1fa8-4a8d-ba96-98a0bff16d0d",
   "metadata": {},
   "outputs": [],
   "source": []
  }
 ],
 "metadata": {
  "kernelspec": {
   "display_name": "Julia 1.9.2",
   "language": "julia",
   "name": "julia-1.9"
  },
  "language_info": {
   "file_extension": ".jl",
   "mimetype": "application/julia",
   "name": "julia",
   "version": "1.9.2"
  }
 },
 "nbformat": 4,
 "nbformat_minor": 5
}
