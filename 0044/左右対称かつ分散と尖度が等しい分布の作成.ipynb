{
 "cells": [
  {
   "cell_type": "markdown",
   "id": "c77e45ac-44a6-44ec-beda-2e5e80f381d1",
   "metadata": {},
   "source": [
    "See also https://github.com/genkuroki/public/blob/main/0041/%E5%B7%A6%E5%8F%B3%E5%AF%BE%E7%A7%B0%E3%81%A7%E5%B9%B3%E5%9D%87%E3%81%A8%E5%88%86%E6%95%A3%E3%81%A8%E6%AD%AA%E5%BA%A6%E3%81%8C%E4%B8%80%E8%87%B4%E3%81%99%E3%82%8B%E3%81%8CMann-Whitney%E3%81%AEU%E6%A4%9C%E5%AE%9A%E3%82%92%E4%BD%BF%E3%81%A3%E3%81%A6%E3%81%AF%E3%81%84%E3%81%91%E3%81%AA%E3%81%84%E3%82%B7%E3%83%B3%E3%83%97%E3%83%AB%E3%81%AA%E5%85%B7%E4%BD%93%E4%BE%8B.ipynb"
   ]
  },
  {
   "cell_type": "code",
   "execution_count": 1,
   "id": "9029e822-b531-4e73-9ef0-e7080c00d736",
   "metadata": {},
   "outputs": [
    {
     "data": {
      "text/plain": [
       "(x, y, z)"
      ]
     },
     "execution_count": 1,
     "metadata": {},
     "output_type": "execute_result"
    }
   ],
   "source": [
    "using Plots\n",
    "using SymPy\n",
    "@vars x y z"
   ]
  },
  {
   "cell_type": "code",
   "execution_count": 2,
   "id": "538f7ebd-f80d-4026-be28-0bc1ec2b58df",
   "metadata": {},
   "outputs": [
    {
     "data": {
      "text/plain": [
       "3×3 Matrix{Int64}:\n",
       " 1   4    9\n",
       " 1  16   81\n",
       " 1  64  729"
      ]
     },
     "execution_count": 2,
     "metadata": {},
     "output_type": "execute_result"
    }
   ],
   "source": [
    "A = (1:3)' .^ (2:2:6)"
   ]
  },
  {
   "cell_type": "code",
   "execution_count": 3,
   "id": "32c03d4c-74ee-4e1c-835b-0e84943bd096",
   "metadata": {},
   "outputs": [
    {
     "data": {
      "text/plain": [
       "3×3 Matrix{Int64}:\n",
       " 2    8    18\n",
       " 2   32   162\n",
       " 2  128  1458"
      ]
     },
     "execution_count": 3,
     "metadata": {},
     "output_type": "execute_result"
    }
   ],
   "source": [
    " A = 2A"
   ]
  },
  {
   "cell_type": "code",
   "execution_count": 4,
   "id": "8a7d02ff-faaf-44d3-a255-60fd03ce8633",
   "metadata": {},
   "outputs": [
    {
     "name": "stdout",
     "output_type": "stream",
     "text": [
      "s1 = solve(w[1:2], (y, z)) = Dict{Any, Any}(z => 162, y => 18)\n",
      "s2 = solve(w[[1, 3]], (y, z)) = Dict{Any, Any}(z => 32, y => 8)\n",
      "s3 = solve(w[2:3], (y, z)) = Dict{Any, Any}(z => 2, y => 2)\n",
      "(g(s1)).(w) = Sym[0, 0, 1/9]\n",
      "(g(s2)).(w) = Sym[0, 1/4, 0]\n",
      "(g(s3)).(w) = Sym[1, 0, 0]\n",
      "ss1 = (solve(ww[1], (z,)))[1] = 84\n",
      "ss2 = (solve(ww[2], (z,)))[1] = 102\n",
      "ss3 = (solve(ww[3], (z,)))[1] = 52\n",
      "v1 = (g((z => ss1,))).(ww) = Sym[0, 3/20, 2/45]\n",
      "v2 = (g((z => ss2,))).(ww) = Sym[3/8, 0, 5/72]\n",
      "v3 = (g((z => ss3,))).(ww) = Sym[-2/3, 5/12, 0]\n",
      "(sum(v1), sum(v2), sum(v3)) = (7/36, 4/9, -1/4)\n"
     ]
    }
   ],
   "source": [
    "a, b = 2, 12\n",
    "\n",
    "w = Sym.(A) \\ [a, y, z]\n",
    "\n",
    "@show s1 = solve(w[1:2], (y,z))\n",
    "@show s2 = solve(w[[1,3]], (y,z))\n",
    "@show s3 = solve(w[2:3], (y,z))\n",
    "\n",
    "#scatter([(s[y], s[z]) for s in (s1, s2, s3)]) |> display\n",
    "\n",
    "g(s) = f -> f(s...)\n",
    "@show g(s1).(w)\n",
    "@show g(s2).(w)\n",
    "@show g(s3).(w);\n",
    "\n",
    "ww = g((y=>b,)).(w)\n",
    "\n",
    "@show ss1 = solve(ww[1], (z,))[1]\n",
    "@show ss2 = solve(ww[2], (z,))[1]\n",
    "@show ss3 = solve(ww[3], (z,))[1];\n",
    "\n",
    "@show v1 = g((z=>ss1,)).(ww)\n",
    "@show v2 = g((z=>ss2,)).(ww)\n",
    "@show v3 = g((z=>ss3,)).(ww);\n",
    "\n",
    "@show sum(v1), sum(v2), sum(v3);"
   ]
  },
  {
   "cell_type": "code",
   "execution_count": 5,
   "id": "5bad9d44-2bd5-436b-b17e-bd4c2bb58a7e",
   "metadata": {},
   "outputs": [
    {
     "name": "stdout",
     "output_type": "stream",
     "text": [
      "A * v1 = Sym[2, 12, 84]\n",
      "A * v2 = Sym[2, 12, 102]\n"
     ]
    },
    {
     "data": {
      "text/latex": [
       "$\\left[ \\begin{array}{rr}0&\\frac{3}{8}\\\\\\frac{3}{20}&0\\\\\\frac{2}{45}&\\frac{5}{72}\\end{array}\\right]$\n"
      ],
      "text/plain": [
       "3×2 Matrix{Sym}:\n",
       "    0   3/8\n",
       " 3/20     0\n",
       " 2/45  5/72"
      ]
     },
     "execution_count": 5,
     "metadata": {},
     "output_type": "execute_result"
    }
   ],
   "source": [
    "@show A*v1 A*v2;\n",
    "\n",
    "[v1 v2]"
   ]
  },
  {
   "cell_type": "code",
   "execution_count": 6,
   "id": "63ba88eb-f7b7-4e3c-b3c3-7041bac640ab",
   "metadata": {},
   "outputs": [
    {
     "name": "stdout",
     "output_type": "stream",
     "text": [
      "s1 = solve(w[1:2], (y, z)) = Dict{Any, Any}(z => 162, y => 18)\n",
      "s2 = solve(w[[1, 3]], (y, z)) = Dict{Any, Any}(z => 32, y => 8)\n",
      "s3 = solve(w[2:3], (y, z)) = Dict{Any, Any}(z => 2, y => 2)\n",
      "(g(s1)).(w) = Sym[0, 0, 1/9]\n",
      "(g(s2)).(w) = Sym[0, 1/4, 0]\n",
      "(g(s3)).(w) = Sym[1, 0, 0]\n",
      "ww = (g((y => b,))).(w) = Sym[z/48 - 7/4, 17/20 - z/120, z/720 - 13/180]\n",
      "ss1 = (solve(ww[1], (z,)))[1] = 84\n",
      "ss2 = (solve(ww[2], (z,)))[1] = 102\n",
      "ss3 = (solve(ww[3], (z,)))[1] = 52\n",
      "v1 = (g((z => ss1,))).(ww) = Sym[0, 3/20, 2/45]\n",
      "v2 = (g((z => ss2,))).(ww) = Sym[3/8, 0, 5/72]\n",
      "v3 = (g((z => ss3,))).(ww) = Sym[-2/3, 5/12, 0]\n",
      "v4 = (g((z => c,))).(ww) = Sym[55/24, -23/30, 71/360]\n",
      "(sum(v1), sum(v2), sum(v3), sum(v4)) = (7/36, 4/9, -1/4, 31/18)\n"
     ]
    }
   ],
   "source": [
    "a, b, c = 2, 12, 194\n",
    "\n",
    "w = Sym.(A) \\ [a, y, z]\n",
    "\n",
    "@show s1 = solve(w[1:2], (y,z))\n",
    "@show s2 = solve(w[[1,3]], (y,z))\n",
    "@show s3 = solve(w[2:3], (y,z))\n",
    "\n",
    "#scatter([(s[y], s[z]) for s in (s1, s2, s3)]) |> display\n",
    "\n",
    "g(s) = f -> f(s...)\n",
    "\n",
    "@show g(s1).(w)\n",
    "@show g(s2).(w)\n",
    "@show g(s3).(w);\n",
    "\n",
    "@show ww = g((y=>b,)).(w)\n",
    "\n",
    "@show ss1 = solve(ww[1], (z,))[1]\n",
    "@show ss2 = solve(ww[2], (z,))[1]\n",
    "@show ss3 = solve(ww[3], (z,))[1];\n",
    "\n",
    "@show v1 = g((z=>ss1,)).(ww)\n",
    "@show v2 = g((z=>ss2,)).(ww)\n",
    "@show v3 = g((z=>ss3,)).(ww);\n",
    "@show v4 = g((z=>c,)).(ww)\n",
    "\n",
    "@show sum(v1), sum(v2), sum(v3), sum(v4);"
   ]
  },
  {
   "cell_type": "code",
   "execution_count": 7,
   "id": "7ddc9137-dc61-4862-a117-86a17af2d939",
   "metadata": {},
   "outputs": [
    {
     "name": "stdout",
     "output_type": "stream",
     "text": [
      "A * v1 = Sym[2, 12, 84]\n",
      "A * v2 = Sym[2, 12, 102]\n"
     ]
    },
    {
     "data": {
      "text/latex": [
       "$\\left[ \\begin{array}{rr}0&\\frac{3}{8}\\\\\\frac{3}{20}&0\\\\\\frac{2}{45}&\\frac{5}{72}\\end{array}\\right]$\n"
      ],
      "text/plain": [
       "3×2 Matrix{Sym}:\n",
       "    0   3/8\n",
       " 3/20     0\n",
       " 2/45  5/72"
      ]
     },
     "execution_count": 7,
     "metadata": {},
     "output_type": "execute_result"
    }
   ],
   "source": [
    "@show A*v1 A*v2;\n",
    "\n",
    "[v1 v2]"
   ]
  },
  {
   "cell_type": "code",
   "execution_count": 8,
   "id": "a2d3f33e-04d5-45c7-909b-4584d7e9f526",
   "metadata": {},
   "outputs": [
    {
     "name": "stdout",
     "output_type": "stream",
     "text": [
      "s1 = solve(w[1:2], (y, z)) = Dict{Any, Any}(z => 162, y => 18)\n",
      "s2 = solve(w[[1, 3]], (y, z)) = Dict{Any, Any}(z => 32, y => 8)\n",
      "s3 = solve(w[2:3], (y, z)) = Dict{Any, Any}(z => 2, y => 2)\n",
      "(g(s1)).(w) = Sym[0, 0, 1/9]\n",
      "(g(s2)).(w) = Sym[0, 1/4, 0]\n",
      "(g(s3)).(w) = Sym[1, 0, 0]\n",
      "ww = (g((y => b,))).(w) = Sym[z/48 - 71/48, 23/30 - z/120, z/720 - 47/720]\n",
      "ss1 = (solve(ww[1], (z,)))[1] = 71\n",
      "ss2 = (solve(ww[2], (z,)))[1] = 92\n",
      "ss3 = (solve(ww[3], (z,)))[1] = 47\n",
      "v1 = (g((z => ss1,))).(ww) = Sym[0, 7/40, 1/30]\n",
      "v2 = (g((z => ss2,))).(ww) = Sym[7/16, 0, 1/16]\n",
      "v3 = (g((z => ss3,))).(ww) = Sym[-1/2, 3/8, 0]\n",
      "v4 = (g((z => c,))).(ww) = Sym[41/16, -17/20, 49/240]\n",
      "(sum(v1), sum(v2), sum(v3), sum(v4)) = (5/24, 1/2, -1/8, 23/12)\n"
     ]
    }
   ],
   "source": [
    "a, b, c = 2, 11, 194\n",
    "\n",
    "w = Sym.(A) \\ [a, y, z]\n",
    "\n",
    "@show s1 = solve(w[1:2], (y,z))\n",
    "@show s2 = solve(w[[1,3]], (y,z))\n",
    "@show s3 = solve(w[2:3], (y,z))\n",
    "\n",
    "#scatter([(s[y], s[z]) for s in (s1, s2, s3)]) |> display\n",
    "\n",
    "g(s) = f -> f(s...)\n",
    "\n",
    "@show g(s1).(w)\n",
    "@show g(s2).(w)\n",
    "@show g(s3).(w);\n",
    "\n",
    "@show ww = g((y=>b,)).(w)\n",
    "\n",
    "@show ss1 = solve(ww[1], (z,))[1]\n",
    "@show ss2 = solve(ww[2], (z,))[1]\n",
    "@show ss3 = solve(ww[3], (z,))[1];\n",
    "\n",
    "@show v1 = g((z=>ss1,)).(ww)\n",
    "@show v2 = g((z=>ss2,)).(ww)\n",
    "@show v3 = g((z=>ss3,)).(ww);\n",
    "@show v4 = g((z=>c,)).(ww)\n",
    "\n",
    "@show sum(v1), sum(v2), sum(v3), sum(v4);"
   ]
  },
  {
   "cell_type": "code",
   "execution_count": 9,
   "id": "4bd9976c-3057-4ec9-add5-b1be018c9ff9",
   "metadata": {},
   "outputs": [
    {
     "name": "stdout",
     "output_type": "stream",
     "text": [
      "A * v1 = Sym[2, 11, 71]\n",
      "A * v2 = Sym[2, 11, 92]\n"
     ]
    },
    {
     "data": {
      "text/latex": [
       "$\\left[ \\begin{array}{rr}0&\\frac{7}{16}\\\\\\frac{7}{40}&0\\\\\\frac{1}{30}&\\frac{1}{16}\\end{array}\\right]$\n"
      ],
      "text/plain": [
       "3×2 Matrix{Sym}:\n",
       "    0  7/16\n",
       " 7/40     0\n",
       " 1/30  1/16"
      ]
     },
     "execution_count": 9,
     "metadata": {},
     "output_type": "execute_result"
    }
   ],
   "source": [
    "@show A*v1 A*v2;\n",
    "\n",
    "[v1 v2]"
   ]
  },
  {
   "cell_type": "code",
   "execution_count": 10,
   "id": "fbfc6844-4d68-418d-b2a7-7ee4f5957489",
   "metadata": {},
   "outputs": [
    {
     "name": "stdout",
     "output_type": "stream",
     "text": [
      "s1 = solve(w[1:2], (y, z)) = Dict{Any, Any}(z => 405/2, y => 45/2)\n",
      "s2 = solve(w[[1, 3]], (y, z)) = Dict{Any, Any}(z => 40, y => 10)\n",
      "s3 = solve(w[2:3], (y, z)) = Dict{Any, Any}(z => 5/2, y => 5/2)\n",
      "(g(s1)).(w) = Sym[0, 0, 5/36]\n",
      "(g(s2)).(w) = Sym[0, 5/16, 0]\n",
      "(g(s3)).(w) = Sym[5/4, 0, 0]\n",
      "ww = (g((y => b,))).(w) = Sym[z/48 - 59/24, 55/48 - z/120, z/720 - 7/72]\n",
      "ss1 = (solve(ww[1], (z,)))[1] = 118\n",
      "ss2 = (solve(ww[2], (z,)))[1] = 275/2\n",
      "ss3 = (solve(ww[3], (z,)))[1] = 70\n",
      "v1 = (g((z => ss1,))).(ww) = Sym[0, 13/80, 1/15]\n",
      "v2 = (g((z => ss2,))).(ww) = Sym[13/32, 0, 3/32]\n",
      "v3 = (g((z => ss3,))).(ww) = Sym[-1, 9/16, 0]\n",
      "v4 = (g((z => c,))).(ww) = Sym[19/12, -113/240, 31/180]\n",
      "(sum(v1), sum(v2), sum(v3), sum(v4)) = (11/48, 1/2, -7/16, 185/144)\n"
     ]
    }
   ],
   "source": [
    "a, b, c = 5//2, 16, 194\n",
    "\n",
    "w = Sym.(A) \\ [a, y, z]\n",
    "\n",
    "@show s1 = solve(w[1:2], (y,z))\n",
    "@show s2 = solve(w[[1,3]], (y,z))\n",
    "@show s3 = solve(w[2:3], (y,z))\n",
    "\n",
    "#scatter([(s[y], s[z]) for s in (s1, s2, s3)]) |> display\n",
    "\n",
    "g(s) = f -> f(s...)\n",
    "\n",
    "@show g(s1).(w)\n",
    "@show g(s2).(w)\n",
    "@show g(s3).(w);\n",
    "\n",
    "@show ww = g((y=>b,)).(w)\n",
    "\n",
    "@show ss1 = solve(ww[1], (z,))[1]\n",
    "@show ss2 = solve(ww[2], (z,))[1]\n",
    "@show ss3 = solve(ww[3], (z,))[1];\n",
    "\n",
    "@show v1 = g((z=>ss1,)).(ww)\n",
    "@show v2 = g((z=>ss2,)).(ww)\n",
    "@show v3 = g((z=>ss3,)).(ww);\n",
    "@show v4 = g((z=>c,)).(ww)\n",
    "\n",
    "@show sum(v1), sum(v2), sum(v3), sum(v4);"
   ]
  },
  {
   "cell_type": "code",
   "execution_count": 11,
   "id": "2bcf8040-05a0-42f3-86fb-b2d53336d7b5",
   "metadata": {},
   "outputs": [
    {
     "name": "stdout",
     "output_type": "stream",
     "text": [
      "A * v1 = Sym[5/2, 16, 118]\n",
      "A * v2 = Sym[5/2, 16, 275/2]\n"
     ]
    },
    {
     "data": {
      "text/latex": [
       "$\\left[ \\begin{array}{rr}0&\\frac{13}{32}\\\\\\frac{13}{80}&0\\\\\\frac{1}{15}&\\frac{3}{32}\\end{array}\\right]$\n"
      ],
      "text/plain": [
       "3×2 Matrix{Sym}:\n",
       "     0  13/32\n",
       " 13/80      0\n",
       "  1/15   3/32"
      ]
     },
     "execution_count": 11,
     "metadata": {},
     "output_type": "execute_result"
    }
   ],
   "source": [
    "@show A*v1 A*v2;\n",
    "\n",
    "[v1 v2]"
   ]
  },
  {
   "cell_type": "code",
   "execution_count": 12,
   "id": "ef60a046-4a3d-41dc-84de-568071a8c0c8",
   "metadata": {},
   "outputs": [
    {
     "name": "stdout",
     "output_type": "stream",
     "text": [
      "s1 = solve(w[1:2], (y, z)) = Dict{Any, Any}(z => 243, y => 27)\n",
      "s2 = solve(w[[1, 3]], (y, z)) = Dict{Any, Any}(z => 48, y => 12)\n",
      "s3 = solve(w[2:3], (y, z)) = Dict{Any, Any}(z => 3, y => 3)\n",
      "(g(s1)).(w) = Sym[0, 0, 1/6]\n",
      "(g(s2)).(w) = Sym[0, 3/8, 0]\n",
      "(g(s3)).(w) = Sym[3/2, 0, 0]\n",
      "ww = (g((y => b,))).(w) = Sym[z/48 - 89/24, 193/120 - z/120, z/720 - 49/360]\n",
      "ss1 = (solve(ww[1], (z,)))[1] = 178\n",
      "ss2 = (solve(ww[2], (z,)))[1] = 193\n",
      "ss3 = (solve(ww[3], (z,)))[1] = 98\n",
      "v1 = (g((z => ss1,))).(ww) = Sym[0, 1/8, 1/9]\n",
      "v2 = (g((z => ss2,))).(ww) = Sym[5/16, 0, 19/144]\n",
      "v3 = (g((z => ss3,))).(ww) = Sym[-5/3, 19/24, 0]\n",
      "v4 = (g((z => c,))).(ww) = Sym[1/3, -1/120, 2/15]\n",
      "(sum(v1), sum(v2), sum(v3), sum(v4)) = (17/72, 4/9, -7/8, 11/24)\n"
     ]
    }
   ],
   "source": [
    "a, b, c = 3, 22, 194\n",
    "\n",
    "w = Sym.(A) \\ [a, y, z]\n",
    "\n",
    "@show s1 = solve(w[1:2], (y,z))\n",
    "@show s2 = solve(w[[1,3]], (y,z))\n",
    "@show s3 = solve(w[2:3], (y,z))\n",
    "\n",
    "#scatter([(s[y], s[z]) for s in (s1, s2, s3)]) |> display\n",
    "\n",
    "g(s) = f -> f(s...)\n",
    "\n",
    "@show g(s1).(w)\n",
    "@show g(s2).(w)\n",
    "@show g(s3).(w);\n",
    "\n",
    "@show ww = g((y=>b,)).(w)\n",
    "\n",
    "@show ss1 = solve(ww[1], (z,))[1]\n",
    "@show ss2 = solve(ww[2], (z,))[1]\n",
    "@show ss3 = solve(ww[3], (z,))[1];\n",
    "\n",
    "@show v1 = g((z=>ss1,)).(ww)\n",
    "@show v2 = g((z=>ss2,)).(ww)\n",
    "@show v3 = g((z=>ss3,)).(ww);\n",
    "@show v4 = g((z=>c,)).(ww)\n",
    "\n",
    "@show sum(v1), sum(v2), sum(v3), sum(v4);"
   ]
  },
  {
   "cell_type": "code",
   "execution_count": 13,
   "id": "668650e4-c743-488e-a83b-6f8ed4a83b32",
   "metadata": {},
   "outputs": [
    {
     "name": "stdout",
     "output_type": "stream",
     "text": [
      "A * v1 = Sym[3, 22, 178]\n",
      "A * v2 = Sym[3, 22, 193]\n"
     ]
    },
    {
     "data": {
      "text/latex": [
       "$\\left[ \\begin{array}{rr}0&\\frac{5}{16}\\\\\\frac{1}{8}&0\\\\\\frac{1}{9}&\\frac{19}{144}\\end{array}\\right]$\n"
      ],
      "text/plain": [
       "3×2 Matrix{Sym}:\n",
       "   0    5/16\n",
       " 1/8       0\n",
       " 1/9  19/144"
      ]
     },
     "execution_count": 13,
     "metadata": {},
     "output_type": "execute_result"
    }
   ],
   "source": [
    "@show A*v1 A*v2;\n",
    "\n",
    "[v1 v2]"
   ]
  },
  {
   "cell_type": "code",
   "execution_count": null,
   "id": "fce57a7e-9fc3-4c6b-916a-f68c8b27e92b",
   "metadata": {},
   "outputs": [],
   "source": []
  }
 ],
 "metadata": {
  "kernelspec": {
   "display_name": "Julia 1.9.3",
   "language": "julia",
   "name": "julia-1.9"
  },
  "language_info": {
   "file_extension": ".jl",
   "mimetype": "application/julia",
   "name": "julia",
   "version": "1.9.3"
  }
 },
 "nbformat": 4,
 "nbformat_minor": 5
}
