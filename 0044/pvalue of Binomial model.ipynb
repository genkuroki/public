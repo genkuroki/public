{
 "cells": [
  {
   "cell_type": "code",
   "execution_count": 3,
   "id": "8d0a6f31-3701-4af4-8ba2-e85f3b55d080",
   "metadata": {},
   "outputs": [],
   "source": [
    "using Distributions\n",
    "using StatsPlots\n",
    "default(fmt=:png)"
   ]
  },
  {
   "cell_type": "code",
   "execution_count": 10,
   "id": "7c583697-70da-45c9-a864-cb2e61ae7147",
   "metadata": {},
   "outputs": [
    {
     "data": {
      "text/plain": [
       "0.017848901777597365"
      ]
     },
     "execution_count": 10,
     "metadata": {},
     "output_type": "execute_result"
    }
   ],
   "source": [
    "cdf(Binomial(45, 1/2), 15)"
   ]
  },
  {
   "cell_type": "code",
   "execution_count": 8,
   "id": "ef44c6c4-df74-414f-bee1-3276bce698c8",
   "metadata": {},
   "outputs": [
    {
     "data": {
      "text/plain": [
       "0.9919528199843626"
      ]
     },
     "execution_count": 8,
     "metadata": {},
     "output_type": "execute_result"
    }
   ],
   "source": [
    "cdf(Binomial(45, 1/2), 30)"
   ]
  },
  {
   "cell_type": "code",
   "execution_count": 12,
   "id": "866d5a09-de2f-479b-9bef-5383e25040ac",
   "metadata": {},
   "outputs": [
    {
     "data": {
      "text/plain": [
       "0.03569780355519473"
      ]
     },
     "execution_count": 12,
     "metadata": {},
     "output_type": "execute_result"
    }
   ],
   "source": [
    "2ccdf(Binomial(45, 1/2), 30-1)"
   ]
  },
  {
   "cell_type": "code",
   "execution_count": 28,
   "id": "8b9ebfd0-b87f-4004-952a-557cd32fa2c2",
   "metadata": {},
   "outputs": [
    {
     "name": "stdout",
     "output_type": "stream",
     "text": [
      "ccdf(Binomial(30, 1 / 2), 24 - 1) = 0.000715453177690508\n",
      "ccdf(Binomial(30, 2 / 3), 24 - 1) = 0.08383843843843043\n"
     ]
    }
   ],
   "source": [
    "using Distributions\n",
    "\n",
    "@show ccdf(Binomial(30, 1/2), 24-1)\n",
    "@show ccdf(Binomial(30, 2/3), 24-1);"
   ]
  },
  {
   "cell_type": "code",
   "execution_count": null,
   "id": "a4b0b749-0bc9-4c08-a0c1-a96f34e2ec39",
   "metadata": {},
   "outputs": [],
   "source": []
  }
 ],
 "metadata": {
  "kernelspec": {
   "display_name": "Julia 1.9.2",
   "language": "julia",
   "name": "julia-1.9"
  },
  "language_info": {
   "file_extension": ".jl",
   "mimetype": "application/julia",
   "name": "julia",
   "version": "1.9.2"
  }
 },
 "nbformat": 4,
 "nbformat_minor": 5
}
