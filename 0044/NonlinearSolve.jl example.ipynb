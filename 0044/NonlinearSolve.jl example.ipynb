{
 "cells": [
  {
   "cell_type": "code",
   "execution_count": 3,
   "id": "d503e1ee-a321-4a68-848d-8192db067695",
   "metadata": {},
   "outputs": [],
   "source": [
    "using Distributions\n",
    "using LinearAlgebra\n",
    "using NonlinearSolve\n",
    "using StaticArrays\n",
    "using StatsPlots\n",
    "default(fmt=:png)"
   ]
  },
  {
   "cell_type": "code",
   "execution_count": 19,
   "id": "c1df8e12-4da9-4ad3-aabb-221cbef47dcd",
   "metadata": {},
   "outputs": [
    {
     "data": {
      "text/plain": [
       "u: 2-element SVector{2, Float64} with indices SOneTo(2):\n",
       " 1.4142135623746899\n",
       " 2.0000000929222947"
      ]
     },
     "execution_count": 19,
     "metadata": {},
     "output_type": "execute_result"
    }
   ],
   "source": [
    "function f(u::SVector, p)\n",
    "    x = u[1]*u[1] - p\n",
    "    y = u[2]*u[2] - 2p\n",
    "    SVector(x, y)\n",
    "end\n",
    "\n",
    "u0 = SVector(1.0, 1.0)\n",
    "p = 2.0\n",
    "prob = NonlinearProblem(f, u0, p)\n",
    "sol = solve(prob, NewtonRaphson())"
   ]
  },
  {
   "cell_type": "code",
   "execution_count": 15,
   "id": "12b92603-5508-4284-b687-13b4cc31957c",
   "metadata": {},
   "outputs": [
    {
     "data": {
      "text/plain": [
       "u: 2-element Vector{Float64}:\n",
       " 1.4142135623746899\n",
       " 2.0000000929222947"
      ]
     },
     "execution_count": 15,
     "metadata": {},
     "output_type": "execute_result"
    }
   ],
   "source": [
    "function f!(res, u, p)\n",
    "    res[1] = u[1]*u[1] - p\n",
    "    res[2] = u[2]*u[2] - 2p\n",
    "end\n",
    "\n",
    "u0 = [1.0, 1.0]\n",
    "p = 2.0\n",
    "prob = NonlinearProblem(f!, u0, p)\n",
    "sol = solve(prob, NewtonRaphson())"
   ]
  },
  {
   "cell_type": "code",
   "execution_count": null,
   "id": "db3865f3-1828-49e0-a56a-b778218c739a",
   "metadata": {},
   "outputs": [],
   "source": [
    "function f!(res, u, p)\n",
    "    a, b, c = u\n",
    "    res[1] = \n",
    "end"
   ]
  }
 ],
 "metadata": {
  "kernelspec": {
   "display_name": "Julia 1.9.3",
   "language": "julia",
   "name": "julia-1.9"
  },
  "language_info": {
   "file_extension": ".jl",
   "mimetype": "application/julia",
   "name": "julia",
   "version": "1.9.3"
  }
 },
 "nbformat": 4,
 "nbformat_minor": 5
}
