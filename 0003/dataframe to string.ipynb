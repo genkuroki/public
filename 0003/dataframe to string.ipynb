{
 "cells": [
  {
   "cell_type": "code",
   "execution_count": 1,
   "id": "857e145f-e9b1-4911-9ab8-46fb2b85b52d",
   "metadata": {},
   "outputs": [
    {
     "data": {
      "text/plain": [
       "csv2df (generic function with 1 method)"
      ]
     },
     "execution_count": 1,
     "metadata": {},
     "output_type": "execute_result"
    }
   ],
   "source": [
    "using DataFrames, CSV\n",
    "csvstring(df) = String(take!(CSV.write(IOBuffer(), df)))\n",
    "csv2df(str) = CSV.read(IOBuffer(str), DataFrame)"
   ]
  },
  {
   "cell_type": "code",
   "execution_count": 2,
   "id": "ae7c8631-f092-43bd-9606-34b7fa3f5824",
   "metadata": {},
   "outputs": [
    {
     "data": {
      "text/plain": [
       "TaskLocalRNG()"
      ]
     },
     "execution_count": 2,
     "metadata": {},
     "output_type": "execute_result"
    }
   ],
   "source": [
    "using Random\n",
    "Random.seed!(4649373)"
   ]
  },
  {
   "cell_type": "code",
   "execution_count": 3,
   "id": "931e007f-6ee4-4afd-a147-3e1640b8f25a",
   "metadata": {},
   "outputs": [
    {
     "data": {
      "text/html": [
       "<table class=\"data-frame\"><thead><tr><th></th><th>a</th><th>b</th><th>c</th><th>d</th><th>e</th></tr><tr><th></th><th>Float64</th><th>Float64</th><th>Float64</th><th>Float64</th><th>Float64</th></tr></thead><tbody><p>7 rows × 5 columns</p><tr><th>1</th><td>-5.91</td><td>19.26</td><td>19.44</td><td>1.03</td><td>1.85</td></tr><tr><th>2</th><td>-3.67</td><td>-10.33</td><td>1.57</td><td>-17.67</td><td>-0.47</td></tr><tr><th>3</th><td>6.72</td><td>8.81</td><td>-3.87</td><td>-11.0</td><td>-0.56</td></tr><tr><th>4</th><td>-6.2</td><td>10.66</td><td>11.52</td><td>6.19</td><td>-7.78</td></tr><tr><th>5</th><td>-8.64</td><td>-1.6</td><td>9.28</td><td>-1.8</td><td>3.72</td></tr><tr><th>6</th><td>-1.01</td><td>-17.56</td><td>7.02</td><td>1.08</td><td>18.56</td></tr><tr><th>7</th><td>-20.48</td><td>-9.66</td><td>5.31</td><td>-17.65</td><td>11.51</td></tr></tbody></table>"
      ],
      "text/latex": [
       "\\begin{tabular}{r|ccccc}\n",
       "\t& a & b & c & d & e\\\\\n",
       "\t\\hline\n",
       "\t& Float64 & Float64 & Float64 & Float64 & Float64\\\\\n",
       "\t\\hline\n",
       "\t1 & -5.91 & 19.26 & 19.44 & 1.03 & 1.85 \\\\\n",
       "\t2 & -3.67 & -10.33 & 1.57 & -17.67 & -0.47 \\\\\n",
       "\t3 & 6.72 & 8.81 & -3.87 & -11.0 & -0.56 \\\\\n",
       "\t4 & -6.2 & 10.66 & 11.52 & 6.19 & -7.78 \\\\\n",
       "\t5 & -8.64 & -1.6 & 9.28 & -1.8 & 3.72 \\\\\n",
       "\t6 & -1.01 & -17.56 & 7.02 & 1.08 & 18.56 \\\\\n",
       "\t7 & -20.48 & -9.66 & 5.31 & -17.65 & 11.51 \\\\\n",
       "\\end{tabular}\n"
      ],
      "text/plain": [
       "\u001b[1m7×5 DataFrame\u001b[0m\n",
       "\u001b[1m Row \u001b[0m│\u001b[1m a       \u001b[0m\u001b[1m b       \u001b[0m\u001b[1m c       \u001b[0m\u001b[1m d       \u001b[0m\u001b[1m e       \u001b[0m\n",
       "\u001b[1m     \u001b[0m│\u001b[90m Float64 \u001b[0m\u001b[90m Float64 \u001b[0m\u001b[90m Float64 \u001b[0m\u001b[90m Float64 \u001b[0m\u001b[90m Float64 \u001b[0m\n",
       "─────┼─────────────────────────────────────────────\n",
       "   1 │   -5.91    19.26    19.44     1.03     1.85\n",
       "   2 │   -3.67   -10.33     1.57   -17.67    -0.47\n",
       "   3 │    6.72     8.81    -3.87   -11.0     -0.56\n",
       "   4 │   -6.2     10.66    11.52     6.19    -7.78\n",
       "   5 │   -8.64    -1.6      9.28    -1.8      3.72\n",
       "   6 │   -1.01   -17.56     7.02     1.08    18.56\n",
       "   7 │  -20.48    -9.66     5.31   -17.65    11.51"
      ]
     },
     "execution_count": 3,
     "metadata": {},
     "output_type": "execute_result"
    }
   ],
   "source": [
    "data = round.(10randn(7, 5), digits=2)\n",
    "names = string.('a':'e')\n",
    "df = DataFrame(data, names)"
   ]
  },
  {
   "cell_type": "code",
   "execution_count": 4,
   "id": "803d0bfe-a7d5-400a-a4ab-53af8e5e78fc",
   "metadata": {},
   "outputs": [
    {
     "data": {
      "text/plain": [
       "\"a,b,c,d,e\\n-5.91,19.26,19.44,1.03,1.85\\n-3.67,-10.33,1.57,-17.67,-0.47\\n6.72,8.81,-3.87,-11.0,-0.56\\n-6.2,10.66,11.52,6.19,-7.78\\n-8.64,-1.6,9.28,-1.8,3.72\\n-1.01,-17.56,7.02,1.08,18.56\\n-20.48,-9.66,5.31,-17.65,11.51\\n\""
      ]
     },
     "execution_count": 4,
     "metadata": {},
     "output_type": "execute_result"
    }
   ],
   "source": [
    "str = csvstring(df)"
   ]
  },
  {
   "cell_type": "code",
   "execution_count": 5,
   "id": "bc081fb5-e480-4476-833e-6f0125d2079b",
   "metadata": {},
   "outputs": [
    {
     "data": {
      "text/html": [
       "<table class=\"data-frame\"><thead><tr><th></th><th>a</th><th>b</th><th>c</th><th>d</th><th>e</th></tr><tr><th></th><th>Float64</th><th>Float64</th><th>Float64</th><th>Float64</th><th>Float64</th></tr></thead><tbody><p>7 rows × 5 columns</p><tr><th>1</th><td>-5.91</td><td>19.26</td><td>19.44</td><td>1.03</td><td>1.85</td></tr><tr><th>2</th><td>-3.67</td><td>-10.33</td><td>1.57</td><td>-17.67</td><td>-0.47</td></tr><tr><th>3</th><td>6.72</td><td>8.81</td><td>-3.87</td><td>-11.0</td><td>-0.56</td></tr><tr><th>4</th><td>-6.2</td><td>10.66</td><td>11.52</td><td>6.19</td><td>-7.78</td></tr><tr><th>5</th><td>-8.64</td><td>-1.6</td><td>9.28</td><td>-1.8</td><td>3.72</td></tr><tr><th>6</th><td>-1.01</td><td>-17.56</td><td>7.02</td><td>1.08</td><td>18.56</td></tr><tr><th>7</th><td>-20.48</td><td>-9.66</td><td>5.31</td><td>-17.65</td><td>11.51</td></tr></tbody></table>"
      ],
      "text/latex": [
       "\\begin{tabular}{r|ccccc}\n",
       "\t& a & b & c & d & e\\\\\n",
       "\t\\hline\n",
       "\t& Float64 & Float64 & Float64 & Float64 & Float64\\\\\n",
       "\t\\hline\n",
       "\t1 & -5.91 & 19.26 & 19.44 & 1.03 & 1.85 \\\\\n",
       "\t2 & -3.67 & -10.33 & 1.57 & -17.67 & -0.47 \\\\\n",
       "\t3 & 6.72 & 8.81 & -3.87 & -11.0 & -0.56 \\\\\n",
       "\t4 & -6.2 & 10.66 & 11.52 & 6.19 & -7.78 \\\\\n",
       "\t5 & -8.64 & -1.6 & 9.28 & -1.8 & 3.72 \\\\\n",
       "\t6 & -1.01 & -17.56 & 7.02 & 1.08 & 18.56 \\\\\n",
       "\t7 & -20.48 & -9.66 & 5.31 & -17.65 & 11.51 \\\\\n",
       "\\end{tabular}\n"
      ],
      "text/plain": [
       "\u001b[1m7×5 DataFrame\u001b[0m\n",
       "\u001b[1m Row \u001b[0m│\u001b[1m a       \u001b[0m\u001b[1m b       \u001b[0m\u001b[1m c       \u001b[0m\u001b[1m d       \u001b[0m\u001b[1m e       \u001b[0m\n",
       "\u001b[1m     \u001b[0m│\u001b[90m Float64 \u001b[0m\u001b[90m Float64 \u001b[0m\u001b[90m Float64 \u001b[0m\u001b[90m Float64 \u001b[0m\u001b[90m Float64 \u001b[0m\n",
       "─────┼─────────────────────────────────────────────\n",
       "   1 │   -5.91    19.26    19.44     1.03     1.85\n",
       "   2 │   -3.67   -10.33     1.57   -17.67    -0.47\n",
       "   3 │    6.72     8.81    -3.87   -11.0     -0.56\n",
       "   4 │   -6.2     10.66    11.52     6.19    -7.78\n",
       "   5 │   -8.64    -1.6      9.28    -1.8      3.72\n",
       "   6 │   -1.01   -17.56     7.02     1.08    18.56\n",
       "   7 │  -20.48    -9.66     5.31   -17.65    11.51"
      ]
     },
     "execution_count": 5,
     "metadata": {},
     "output_type": "execute_result"
    }
   ],
   "source": [
    "df1 = csv2df(str)"
   ]
  },
  {
   "cell_type": "code",
   "execution_count": 6,
   "id": "e83d385d-539f-4a09-a31b-e37df7889886",
   "metadata": {},
   "outputs": [
    {
     "data": {
      "text/plain": [
       "true"
      ]
     },
     "execution_count": 6,
     "metadata": {},
     "output_type": "execute_result"
    }
   ],
   "source": [
    "df1 == df"
   ]
  },
  {
   "cell_type": "code",
   "execution_count": 7,
   "id": "c27360be-5fee-4811-8ccb-6e146e38f50e",
   "metadata": {},
   "outputs": [
    {
     "name": "stdout",
     "output_type": "stream",
     "text": [
      "a,b,c,d,e\n",
      "-5.91,19.26,19.44,1.03,1.85\n",
      "-3.67,-10.33,1.57,-17.67,-0.47\n",
      "6.72,8.81,-3.87,-11.0,-0.56\n",
      "-6.2,10.66,11.52,6.19,-7.78\n",
      "-8.64,-1.6,9.28,-1.8,3.72\n",
      "-1.01,-17.56,7.02,1.08,18.56\n",
      "-20.48,-9.66,5.31,-17.65,11.51\n"
     ]
    }
   ],
   "source": [
    "print(str)"
   ]
  },
  {
   "cell_type": "code",
   "execution_count": 8,
   "id": "a4a6bf58-363c-43bc-9ef3-ac467647b8ef",
   "metadata": {},
   "outputs": [
    {
     "data": {
      "text/html": [
       "<table class=\"data-frame\"><thead><tr><th></th><th>a</th><th>b</th><th>c</th><th>d</th><th>e</th></tr><tr><th></th><th>Float64</th><th>Float64</th><th>Float64</th><th>Float64</th><th>Float64</th></tr></thead><tbody><p>7 rows × 5 columns</p><tr><th>1</th><td>-5.91</td><td>19.26</td><td>19.44</td><td>1.03</td><td>1.85</td></tr><tr><th>2</th><td>-3.67</td><td>-10.33</td><td>1.57</td><td>-17.67</td><td>-0.47</td></tr><tr><th>3</th><td>6.72</td><td>8.81</td><td>-3.87</td><td>-11.0</td><td>-0.56</td></tr><tr><th>4</th><td>-6.2</td><td>10.66</td><td>11.52</td><td>6.19</td><td>-7.78</td></tr><tr><th>5</th><td>-8.64</td><td>-1.6</td><td>9.28</td><td>-1.8</td><td>3.72</td></tr><tr><th>6</th><td>-1.01</td><td>-17.56</td><td>7.02</td><td>1.08</td><td>18.56</td></tr><tr><th>7</th><td>-20.48</td><td>-9.66</td><td>5.31</td><td>-17.65</td><td>11.51</td></tr></tbody></table>"
      ],
      "text/latex": [
       "\\begin{tabular}{r|ccccc}\n",
       "\t& a & b & c & d & e\\\\\n",
       "\t\\hline\n",
       "\t& Float64 & Float64 & Float64 & Float64 & Float64\\\\\n",
       "\t\\hline\n",
       "\t1 & -5.91 & 19.26 & 19.44 & 1.03 & 1.85 \\\\\n",
       "\t2 & -3.67 & -10.33 & 1.57 & -17.67 & -0.47 \\\\\n",
       "\t3 & 6.72 & 8.81 & -3.87 & -11.0 & -0.56 \\\\\n",
       "\t4 & -6.2 & 10.66 & 11.52 & 6.19 & -7.78 \\\\\n",
       "\t5 & -8.64 & -1.6 & 9.28 & -1.8 & 3.72 \\\\\n",
       "\t6 & -1.01 & -17.56 & 7.02 & 1.08 & 18.56 \\\\\n",
       "\t7 & -20.48 & -9.66 & 5.31 & -17.65 & 11.51 \\\\\n",
       "\\end{tabular}\n"
      ],
      "text/plain": [
       "\u001b[1m7×5 DataFrame\u001b[0m\n",
       "\u001b[1m Row \u001b[0m│\u001b[1m a       \u001b[0m\u001b[1m b       \u001b[0m\u001b[1m c       \u001b[0m\u001b[1m d       \u001b[0m\u001b[1m e       \u001b[0m\n",
       "\u001b[1m     \u001b[0m│\u001b[90m Float64 \u001b[0m\u001b[90m Float64 \u001b[0m\u001b[90m Float64 \u001b[0m\u001b[90m Float64 \u001b[0m\u001b[90m Float64 \u001b[0m\n",
       "─────┼─────────────────────────────────────────────\n",
       "   1 │   -5.91    19.26    19.44     1.03     1.85\n",
       "   2 │   -3.67   -10.33     1.57   -17.67    -0.47\n",
       "   3 │    6.72     8.81    -3.87   -11.0     -0.56\n",
       "   4 │   -6.2     10.66    11.52     6.19    -7.78\n",
       "   5 │   -8.64    -1.6      9.28    -1.8      3.72\n",
       "   6 │   -1.01   -17.56     7.02     1.08    18.56\n",
       "   7 │  -20.48    -9.66     5.31   -17.65    11.51"
      ]
     },
     "execution_count": 8,
     "metadata": {},
     "output_type": "execute_result"
    }
   ],
   "source": [
    "# copy and paste the above\n",
    "\n",
    "df2 = csv2df(\"\"\"\n",
    "a,b,c,d,e\n",
    "-5.91,19.26,19.44,1.03,1.85\n",
    "-3.67,-10.33,1.57,-17.67,-0.47\n",
    "6.72,8.81,-3.87,-11.0,-0.56\n",
    "-6.2,10.66,11.52,6.19,-7.78\n",
    "-8.64,-1.6,9.28,-1.8,3.72\n",
    "-1.01,-17.56,7.02,1.08,18.56\n",
    "-20.48,-9.66,5.31,-17.65,11.51\n",
    "\"\"\")"
   ]
  },
  {
   "cell_type": "code",
   "execution_count": 9,
   "id": "50e9ec79-959c-4972-9537-5c6d0b18efa0",
   "metadata": {},
   "outputs": [
    {
     "data": {
      "text/plain": [
       "true"
      ]
     },
     "execution_count": 9,
     "metadata": {},
     "output_type": "execute_result"
    }
   ],
   "source": [
    "df2 == df"
   ]
  },
  {
   "cell_type": "code",
   "execution_count": null,
   "id": "2f4312dc-69a3-4fdc-a052-661abf844cc6",
   "metadata": {},
   "outputs": [],
   "source": []
  }
 ],
 "metadata": {
  "jupytext": {
   "formats": "ipynb,auto:hydrogen"
  },
  "kernelspec": {
   "display_name": "Julia 1.7.0-DEV",
   "language": "julia",
   "name": "julia-1.7"
  },
  "language_info": {
   "file_extension": ".jl",
   "mimetype": "application/julia",
   "name": "julia",
   "version": "1.7.0"
  }
 },
 "nbformat": 4,
 "nbformat_minor": 5
}
