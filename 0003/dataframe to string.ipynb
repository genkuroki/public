{
 "cells": [
  {
   "cell_type": "code",
   "execution_count": 1,
   "id": "857e145f-e9b1-4911-9ab8-46fb2b85b52d",
   "metadata": {},
   "outputs": [
    {
     "data": {
      "text/plain": [
       "csv2df (generic function with 1 method)"
      ]
     },
     "execution_count": 1,
     "metadata": {},
     "output_type": "execute_result"
    }
   ],
   "source": [
    "using DataFrames, CSV\n",
    "csvstring(df) = String(take!(CSV.write(IOBuffer(), df)))\n",
    "csv2df(str) = CSV.read(IOBuffer(str), DataFrame)"
   ]
  },
  {
   "cell_type": "code",
   "execution_count": 2,
   "id": "931e007f-6ee4-4afd-a147-3e1640b8f25a",
   "metadata": {},
   "outputs": [
    {
     "data": {
      "text/html": [
       "<table class=\"data-frame\"><thead><tr><th></th><th>a</th><th>b</th><th>c</th><th>d</th><th>e</th></tr><tr><th></th><th>Float64</th><th>Float64</th><th>Float64</th><th>Float64</th><th>Float64</th></tr></thead><tbody><p>7 rows × 5 columns</p><tr><th>1</th><td>14.87</td><td>19.55</td><td>-3.69</td><td>9.27</td><td>13.0</td></tr><tr><th>2</th><td>-6.41</td><td>13.52</td><td>2.88</td><td>8.77</td><td>-2.42</td></tr><tr><th>3</th><td>-3.76</td><td>0.63</td><td>-1.85</td><td>-2.12</td><td>4.46</td></tr><tr><th>4</th><td>5.79</td><td>3.47</td><td>3.1</td><td>-4.61</td><td>5.73</td></tr><tr><th>5</th><td>14.4</td><td>-0.96</td><td>0.23</td><td>23.5</td><td>-4.79</td></tr><tr><th>6</th><td>6.34</td><td>-9.84</td><td>2.28</td><td>9.66</td><td>-20.37</td></tr><tr><th>7</th><td>-11.98</td><td>-9.28</td><td>-0.59</td><td>9.18</td><td>-12.52</td></tr></tbody></table>"
      ],
      "text/latex": [
       "\\begin{tabular}{r|ccccc}\n",
       "\t& a & b & c & d & e\\\\\n",
       "\t\\hline\n",
       "\t& Float64 & Float64 & Float64 & Float64 & Float64\\\\\n",
       "\t\\hline\n",
       "\t1 & 14.87 & 19.55 & -3.69 & 9.27 & 13.0 \\\\\n",
       "\t2 & -6.41 & 13.52 & 2.88 & 8.77 & -2.42 \\\\\n",
       "\t3 & -3.76 & 0.63 & -1.85 & -2.12 & 4.46 \\\\\n",
       "\t4 & 5.79 & 3.47 & 3.1 & -4.61 & 5.73 \\\\\n",
       "\t5 & 14.4 & -0.96 & 0.23 & 23.5 & -4.79 \\\\\n",
       "\t6 & 6.34 & -9.84 & 2.28 & 9.66 & -20.37 \\\\\n",
       "\t7 & -11.98 & -9.28 & -0.59 & 9.18 & -12.52 \\\\\n",
       "\\end{tabular}\n"
      ],
      "text/plain": [
       "\u001b[1m7×5 DataFrame\u001b[0m\n",
       "\u001b[1m Row \u001b[0m│\u001b[1m a       \u001b[0m\u001b[1m b       \u001b[0m\u001b[1m c       \u001b[0m\u001b[1m d       \u001b[0m\u001b[1m e       \u001b[0m\n",
       "\u001b[1m     \u001b[0m│\u001b[90m Float64 \u001b[0m\u001b[90m Float64 \u001b[0m\u001b[90m Float64 \u001b[0m\u001b[90m Float64 \u001b[0m\u001b[90m Float64 \u001b[0m\n",
       "─────┼─────────────────────────────────────────────\n",
       "   1 │   14.87    19.55    -3.69     9.27    13.0\n",
       "   2 │   -6.41    13.52     2.88     8.77    -2.42\n",
       "   3 │   -3.76     0.63    -1.85    -2.12     4.46\n",
       "   4 │    5.79     3.47     3.1     -4.61     5.73\n",
       "   5 │   14.4     -0.96     0.23    23.5     -4.79\n",
       "   6 │    6.34    -9.84     2.28     9.66   -20.37\n",
       "   7 │  -11.98    -9.28    -0.59     9.18   -12.52"
      ]
     },
     "execution_count": 2,
     "metadata": {},
     "output_type": "execute_result"
    }
   ],
   "source": [
    "data = round.(10randn(7, 5), digits=2)\n",
    "names = string.('a':'e')\n",
    "df = DataFrame(data, names)"
   ]
  },
  {
   "cell_type": "code",
   "execution_count": 3,
   "id": "803d0bfe-a7d5-400a-a4ab-53af8e5e78fc",
   "metadata": {},
   "outputs": [
    {
     "data": {
      "text/plain": [
       "\"a,b,c,d,e\\n14.87,19.55,-3.69,9.27,13.0\\n-6.41,13.52,2.88,8.77,-2.42\\n-3.76,0.63,-1.85,-2.12,4.46\\n5.79,3.47,3.1,-4.61,5.73\\n14.4,-0.96,0.23,23.5,-4.79\\n6.34,-9.84,2.28,9.66,-20.37\\n-11.98,-9.28,-0.59,9.18,-12.52\\n\""
      ]
     },
     "execution_count": 3,
     "metadata": {},
     "output_type": "execute_result"
    }
   ],
   "source": [
    "str = csvstring(df)"
   ]
  },
  {
   "cell_type": "code",
   "execution_count": 4,
   "id": "bc081fb5-e480-4476-833e-6f0125d2079b",
   "metadata": {},
   "outputs": [
    {
     "data": {
      "text/html": [
       "<table class=\"data-frame\"><thead><tr><th></th><th>a</th><th>b</th><th>c</th><th>d</th><th>e</th></tr><tr><th></th><th>Float64</th><th>Float64</th><th>Float64</th><th>Float64</th><th>Float64</th></tr></thead><tbody><p>7 rows × 5 columns</p><tr><th>1</th><td>14.87</td><td>19.55</td><td>-3.69</td><td>9.27</td><td>13.0</td></tr><tr><th>2</th><td>-6.41</td><td>13.52</td><td>2.88</td><td>8.77</td><td>-2.42</td></tr><tr><th>3</th><td>-3.76</td><td>0.63</td><td>-1.85</td><td>-2.12</td><td>4.46</td></tr><tr><th>4</th><td>5.79</td><td>3.47</td><td>3.1</td><td>-4.61</td><td>5.73</td></tr><tr><th>5</th><td>14.4</td><td>-0.96</td><td>0.23</td><td>23.5</td><td>-4.79</td></tr><tr><th>6</th><td>6.34</td><td>-9.84</td><td>2.28</td><td>9.66</td><td>-20.37</td></tr><tr><th>7</th><td>-11.98</td><td>-9.28</td><td>-0.59</td><td>9.18</td><td>-12.52</td></tr></tbody></table>"
      ],
      "text/latex": [
       "\\begin{tabular}{r|ccccc}\n",
       "\t& a & b & c & d & e\\\\\n",
       "\t\\hline\n",
       "\t& Float64 & Float64 & Float64 & Float64 & Float64\\\\\n",
       "\t\\hline\n",
       "\t1 & 14.87 & 19.55 & -3.69 & 9.27 & 13.0 \\\\\n",
       "\t2 & -6.41 & 13.52 & 2.88 & 8.77 & -2.42 \\\\\n",
       "\t3 & -3.76 & 0.63 & -1.85 & -2.12 & 4.46 \\\\\n",
       "\t4 & 5.79 & 3.47 & 3.1 & -4.61 & 5.73 \\\\\n",
       "\t5 & 14.4 & -0.96 & 0.23 & 23.5 & -4.79 \\\\\n",
       "\t6 & 6.34 & -9.84 & 2.28 & 9.66 & -20.37 \\\\\n",
       "\t7 & -11.98 & -9.28 & -0.59 & 9.18 & -12.52 \\\\\n",
       "\\end{tabular}\n"
      ],
      "text/plain": [
       "\u001b[1m7×5 DataFrame\u001b[0m\n",
       "\u001b[1m Row \u001b[0m│\u001b[1m a       \u001b[0m\u001b[1m b       \u001b[0m\u001b[1m c       \u001b[0m\u001b[1m d       \u001b[0m\u001b[1m e       \u001b[0m\n",
       "\u001b[1m     \u001b[0m│\u001b[90m Float64 \u001b[0m\u001b[90m Float64 \u001b[0m\u001b[90m Float64 \u001b[0m\u001b[90m Float64 \u001b[0m\u001b[90m Float64 \u001b[0m\n",
       "─────┼─────────────────────────────────────────────\n",
       "   1 │   14.87    19.55    -3.69     9.27    13.0\n",
       "   2 │   -6.41    13.52     2.88     8.77    -2.42\n",
       "   3 │   -3.76     0.63    -1.85    -2.12     4.46\n",
       "   4 │    5.79     3.47     3.1     -4.61     5.73\n",
       "   5 │   14.4     -0.96     0.23    23.5     -4.79\n",
       "   6 │    6.34    -9.84     2.28     9.66   -20.37\n",
       "   7 │  -11.98    -9.28    -0.59     9.18   -12.52"
      ]
     },
     "execution_count": 4,
     "metadata": {},
     "output_type": "execute_result"
    }
   ],
   "source": [
    "df1 = csv2df(str)"
   ]
  },
  {
   "cell_type": "code",
   "execution_count": 5,
   "id": "e83d385d-539f-4a09-a31b-e37df7889886",
   "metadata": {},
   "outputs": [
    {
     "data": {
      "text/plain": [
       "true"
      ]
     },
     "execution_count": 5,
     "metadata": {},
     "output_type": "execute_result"
    }
   ],
   "source": [
    "df1 == df"
   ]
  },
  {
   "cell_type": "code",
   "execution_count": 6,
   "id": "c27360be-5fee-4811-8ccb-6e146e38f50e",
   "metadata": {},
   "outputs": [
    {
     "name": "stdout",
     "output_type": "stream",
     "text": [
      "a,b,c,d,e\n",
      "14.87,19.55,-3.69,9.27,13.0\n",
      "-6.41,13.52,2.88,8.77,-2.42\n",
      "-3.76,0.63,-1.85,-2.12,4.46\n",
      "5.79,3.47,3.1,-4.61,5.73\n",
      "14.4,-0.96,0.23,23.5,-4.79\n",
      "6.34,-9.84,2.28,9.66,-20.37\n",
      "-11.98,-9.28,-0.59,9.18,-12.52\n"
     ]
    }
   ],
   "source": [
    "print(str)"
   ]
  },
  {
   "cell_type": "code",
   "execution_count": 7,
   "id": "a4a6bf58-363c-43bc-9ef3-ac467647b8ef",
   "metadata": {},
   "outputs": [
    {
     "data": {
      "text/html": [
       "<table class=\"data-frame\"><thead><tr><th></th><th>a</th><th>b</th><th>c</th><th>d</th><th>e</th></tr><tr><th></th><th>Float64</th><th>Float64</th><th>Float64</th><th>Float64</th><th>Float64</th></tr></thead><tbody><p>7 rows × 5 columns</p><tr><th>1</th><td>-8.06</td><td>-17.51</td><td>-3.55</td><td>-2.31</td><td>-10.52</td></tr><tr><th>2</th><td>5.47</td><td>-3.17</td><td>-16.43</td><td>-9.26</td><td>-3.25</td></tr><tr><th>3</th><td>-0.39</td><td>-7.39</td><td>-11.55</td><td>5.53</td><td>-1.24</td></tr><tr><th>4</th><td>11.59</td><td>1.36</td><td>-9.81</td><td>0.15</td><td>23.74</td></tr><tr><th>5</th><td>-3.41</td><td>11.27</td><td>-0.65</td><td>4.88</td><td>-10.86</td></tr><tr><th>6</th><td>-2.4</td><td>9.17</td><td>-6.35</td><td>14.36</td><td>2.94</td></tr><tr><th>7</th><td>14.98</td><td>-8.69</td><td>-6.85</td><td>1.23</td><td>-14.48</td></tr></tbody></table>"
      ],
      "text/latex": [
       "\\begin{tabular}{r|ccccc}\n",
       "\t& a & b & c & d & e\\\\\n",
       "\t\\hline\n",
       "\t& Float64 & Float64 & Float64 & Float64 & Float64\\\\\n",
       "\t\\hline\n",
       "\t1 & -8.06 & -17.51 & -3.55 & -2.31 & -10.52 \\\\\n",
       "\t2 & 5.47 & -3.17 & -16.43 & -9.26 & -3.25 \\\\\n",
       "\t3 & -0.39 & -7.39 & -11.55 & 5.53 & -1.24 \\\\\n",
       "\t4 & 11.59 & 1.36 & -9.81 & 0.15 & 23.74 \\\\\n",
       "\t5 & -3.41 & 11.27 & -0.65 & 4.88 & -10.86 \\\\\n",
       "\t6 & -2.4 & 9.17 & -6.35 & 14.36 & 2.94 \\\\\n",
       "\t7 & 14.98 & -8.69 & -6.85 & 1.23 & -14.48 \\\\\n",
       "\\end{tabular}\n"
      ],
      "text/plain": [
       "\u001b[1m7×5 DataFrame\u001b[0m\n",
       "\u001b[1m Row \u001b[0m│\u001b[1m a       \u001b[0m\u001b[1m b       \u001b[0m\u001b[1m c       \u001b[0m\u001b[1m d       \u001b[0m\u001b[1m e       \u001b[0m\n",
       "\u001b[1m     \u001b[0m│\u001b[90m Float64 \u001b[0m\u001b[90m Float64 \u001b[0m\u001b[90m Float64 \u001b[0m\u001b[90m Float64 \u001b[0m\u001b[90m Float64 \u001b[0m\n",
       "─────┼─────────────────────────────────────────────\n",
       "   1 │   -8.06   -17.51    -3.55    -2.31   -10.52\n",
       "   2 │    5.47    -3.17   -16.43    -9.26    -3.25\n",
       "   3 │   -0.39    -7.39   -11.55     5.53    -1.24\n",
       "   4 │   11.59     1.36    -9.81     0.15    23.74\n",
       "   5 │   -3.41    11.27    -0.65     4.88   -10.86\n",
       "   6 │   -2.4      9.17    -6.35    14.36     2.94\n",
       "   7 │   14.98    -8.69    -6.85     1.23   -14.48"
      ]
     },
     "execution_count": 7,
     "metadata": {},
     "output_type": "execute_result"
    }
   ],
   "source": [
    "# copy and paste the above\n",
    "\n",
    "df2 = csv2df(\"\"\"\n",
    "a,b,c,d,e\n",
    "-8.06,-17.51,-3.55,-2.31,-10.52\n",
    "5.47,-3.17,-16.43,-9.26,-3.25\n",
    "-0.39,-7.39,-11.55,5.53,-1.24\n",
    "11.59,1.36,-9.81,0.15,23.74\n",
    "-3.41,11.27,-0.65,4.88,-10.86\n",
    "-2.4,9.17,-6.35,14.36,2.94\n",
    "14.98,-8.69,-6.85,1.23,-14.48\n",
    "\"\"\")"
   ]
  },
  {
   "cell_type": "code",
   "execution_count": 8,
   "id": "50e9ec79-959c-4972-9537-5c6d0b18efa0",
   "metadata": {},
   "outputs": [
    {
     "data": {
      "text/plain": [
       "false"
      ]
     },
     "execution_count": 8,
     "metadata": {},
     "output_type": "execute_result"
    }
   ],
   "source": [
    "df2 == df"
   ]
  },
  {
   "cell_type": "code",
   "execution_count": null,
   "id": "2f4312dc-69a3-4fdc-a052-661abf844cc6",
   "metadata": {},
   "outputs": [],
   "source": []
  }
 ],
 "metadata": {
  "jupytext": {
   "formats": "ipynb,auto:hydrogen"
  },
  "kernelspec": {
   "display_name": "Julia 1.7.0-DEV",
   "language": "julia",
   "name": "julia-1.7"
  },
  "language_info": {
   "file_extension": ".jl",
   "mimetype": "application/julia",
   "name": "julia",
   "version": "1.7.0"
  }
 },
 "nbformat": 4,
 "nbformat_minor": 5
}
