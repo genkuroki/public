{
 "cells": [
  {
   "cell_type": "code",
   "execution_count": 1,
   "id": "daad3ddb-a8a6-4af6-8c97-23ddbf97c4c5",
   "metadata": {},
   "outputs": [],
   "source": [
    "using LinearAlgebra\n",
    "using Random\n",
    "Random.seed!(4648373)\n",
    "using TensorOperations"
   ]
  },
  {
   "cell_type": "code",
   "execution_count": 2,
   "id": "98e45a0c-0d6f-4a65-b0ee-0bbd49179523",
   "metadata": {},
   "outputs": [
    {
     "data": {
      "text/plain": [
       "76"
      ]
     },
     "execution_count": 2,
     "metadata": {},
     "output_type": "execute_result"
    }
   ],
   "source": [
    "A = [\n",
    "    1 3\n",
    "    3 4\n",
    "]\n",
    "\n",
    "B = [\n",
    "    5 6\n",
    "    7 8\n",
    "]\n",
    "\n",
    "c = @tensor A[i, j] * B[j, i]"
   ]
  },
  {
   "cell_type": "code",
   "execution_count": 3,
   "id": "3688554b-4ee7-45e7-82d7-1cb042645088",
   "metadata": {},
   "outputs": [
    {
     "data": {
      "text/plain": [
       "76"
      ]
     },
     "execution_count": 3,
     "metadata": {},
     "output_type": "execute_result"
    }
   ],
   "source": [
    "tr(A*B)"
   ]
  },
  {
   "cell_type": "code",
   "execution_count": 4,
   "id": "98b57bf1-65dc-48ff-9293-7319f61febcf",
   "metadata": {},
   "outputs": [
    {
     "data": {
      "text/plain": [
       "([100, 7, 8, 11], [4, 6, 5, 6])"
      ]
     },
     "execution_count": 4,
     "metadata": {},
     "output_type": "execute_result"
    }
   ],
   "source": [
    "i = rand(5:13, 4)\n",
    "j = rand(3:6, 4)\n",
    "i[1] = 100\n",
    "i, j"
   ]
  },
  {
   "cell_type": "code",
   "execution_count": 5,
   "id": "5478213a-8ff3-423d-9ce2-4a8d66e309b1",
   "metadata": {},
   "outputs": [
    {
     "data": {
      "text/plain": [
       "4-element Vector{Tuple{Int64, Int64, Int64}}:\n",
       " (100, 4, 7)\n",
       " (7, 6, 8)\n",
       " (8, 5, 11)\n",
       " (11, 6, 100)"
      ]
     },
     "execution_count": 5,
     "metadata": {},
     "output_type": "execute_result"
    }
   ],
   "source": [
    "G = [randn(i[mod1(k, 4)], j[k], i[mod1(k+1, 4)]) for k in 1:4]\n",
    "size.(G)"
   ]
  },
  {
   "cell_type": "code",
   "execution_count": 6,
   "id": "59e6f297-6abd-4f55-a98a-880a01548148",
   "metadata": {},
   "outputs": [
    {
     "data": {
      "text/plain": [
       "quote\n",
       "    var\"##453\" = G[1]\n",
       "    var\"##454\" = G[2]\n",
       "    var\"##455\" = G[3]\n",
       "    var\"##456\" = G[4]\n",
       "    var\"##461\" = promote_type(promote_type(promote_type(eltype(var\"##453\"), eltype(var\"##454\")), eltype(var\"##455\")), eltype(var\"##456\"), typeof(true))\n",
       "    var\"##465\" = promote_type(promote_type(eltype(var\"##453\"), eltype(var\"##454\")), eltype(var\"##455\"), typeof(true))\n",
       "    var\"##469\" = promote_type(eltype(var\"##453\"), eltype(var\"##454\"), typeof(true))\n",
       "    var\"##466\" = var\"##453\"\n",
       "    var\"##467\" = var\"##454\"\n",
       "    var\"##468\" = TensorOperations.cached_similar_from_indices(Symbol(\"##468\"), var\"##469\", (1, 2), (2, 3), (1, 2, 3), (4,), var\"##466\", var\"##467\", :N, :N)\n",
       "    var\"##462\" = TensorOperations.contract!(true * true * true, var\"##466\", :N, var\"##467\", :N, false, var\"##468\", (1, 2), (3,), (2, 3), (1,), (1, 2, 3), (4,), (Symbol(\"##470\"), Symbol(\"##471\"), Symbol(\"##472\")))\n",
       "    var\"##463\" = var\"##455\"\n",
       "    var\"##464\" = TensorOperations.cached_similar_from_indices(Symbol(\"##464\"), var\"##465\", (1, 2, 3), (2, 3), (2, 3, 4), (1, 5), var\"##462\", var\"##463\", :N, :N)\n",
       "    var\"##458\" = TensorOperations.contract!(true * 1 * true, var\"##462\", :N, var\"##463\", :N, false, var\"##464\", (1, 2, 3), (4,), (2, 3), (1,), (2, 3, 4), (1, 5), (Symbol(\"##473\"), Symbol(\"##474\"), Symbol(\"##475\")))\n",
       "    var\"##459\" = var\"##456\"\n",
       "    var\"##460\" = TensorOperations.similar_from_indices(var\"##461\", (1, 2, 3), (2,), (1, 2, 3, 4), (), var\"##458\", var\"##459\", :N, :N)\n",
       "    var\"##457\" = TensorOperations.contract!(true * 1 * true, var\"##458\", :N, var\"##459\", :N, false, var\"##460\", (1, 2, 3), (4, 5), (2,), (3, 1), (1, 2, 3, 4), (), (Symbol(\"##476\"), Symbol(\"##477\"), Symbol(\"##478\")))\n",
       "    A = var\"##457\"\n",
       "end"
      ]
     },
     "execution_count": 6,
     "metadata": {},
     "output_type": "execute_result"
    }
   ],
   "source": [
    "@macroexpand @tensor A[j1, j2, j3, j4] := G[1][i1, j1, i2] * G[2][i2, j2, i3] * G[3][i3, j3, i4] * G[4][i4, j4, i1]"
   ]
  },
  {
   "cell_type": "code",
   "execution_count": 7,
   "id": "3f7ac58e-8f11-4c6b-b9cd-fad2043369ea",
   "metadata": {},
   "outputs": [
    {
     "data": {
      "text/plain": [
       "4×6×5×6 Array{Float64, 4}:\n",
       "[:, :, 1, 1] =\n",
       " -98.1599    59.8415   -369.02   160.193    247.483  -246.628\n",
       "  78.5465  -433.429     402.16   -40.5132  -412.02     85.0547\n",
       "  10.6543    -9.78487  -157.838  -38.9479  -158.866   -43.12\n",
       " -72.2632   154.27      264.418  -91.4306  -132.694   -67.0245\n",
       "\n",
       "[:, :, 2, 1] =\n",
       "  28.3777    49.8404   -711.155   -703.158   -111.822    -45.7277\n",
       " 144.26    -138.161    -328.717     58.6918   265.785    177.742\n",
       "  57.9223     7.93006  -133.585   -330.248   -134.977    -71.5173\n",
       "  97.5816  -104.529      60.7184   -24.9773    36.9373  -205.504\n",
       "\n",
       "[:, :, 3, 1] =\n",
       "  168.227    -32.8168   130.914   -59.2854   -30.9975   266.372\n",
       "  176.259    217.786    -82.2031  -58.5456   185.44     248.358\n",
       "  -24.8016  -121.249    360.955    25.5047  -172.363   -511.672\n",
       " -109.954    -13.3711  -238.422   177.019    -57.2132  -495.766\n",
       "\n",
       "[:, :, 4, 1] =\n",
       " 341.937    -384.331   145.145   -17.6244   -42.3556   163.255\n",
       "  65.8122    128.402    36.3643  313.596     36.7675  -278.794\n",
       " 102.005     345.001   363.249   -92.1314  -362.871    -91.4911\n",
       "   3.68056   -40.7292   62.3478  175.288   -118.477    525.596\n",
       "\n",
       "[:, :, 5, 1] =\n",
       " -270.442     357.4      293.652   798.218   202.551  127.842\n",
       "  158.471     181.093    233.141  -159.823   160.393  168.44\n",
       "   67.9935   -177.96     134.553   256.84    142.267  156.124\n",
       "   -8.29848    83.7696  -178.021  -272.498  -119.615  286.289\n",
       "\n",
       "[:, :, 1, 2] =\n",
       " -203.118    145.377  -271.865   -182.342    -9.33157   235.145\n",
       "  -15.5516   442.215   -98.7331    93.8472  206.211    -145.29\n",
       " -310.54     178.367  -173.57     -88.0788    4.07959   275.741\n",
       "   70.8309  -105.224   -88.1709  -217.519   276.845     -71.9811\n",
       "\n",
       "[:, :, 2, 2] =\n",
       " -250.0     -325.469   -177.386      8.66145  -220.946  -517.356\n",
       " -187.741   -126.722    -82.3697    75.1571    206.193  -316.989\n",
       "   22.3432   289.046    358.741     52.3697   -271.711    83.9213\n",
       "  169.942    -62.6411  -217.427   -278.543     419.264    96.244\n",
       "\n",
       "[:, :, 3, 2] =\n",
       "  311.835  -564.159    321.611  457.156   -423.154   -938.97\n",
       "  105.499   207.899   -294.647  358.584    506.416    -61.7855\n",
       "  377.644   -62.5911  -204.304   18.131    -38.7863  -682.798\n",
       " -214.481   125.37    -267.647  -63.4005   104.466    338.231\n",
       "\n",
       "[:, :, 4, 2] =\n",
       "  -42.0564   138.019    315.416    -4.70528    65.7015   -83.6914\n",
       " -158.034   -493.51     215.528     2.1169   -188.636    222.411\n",
       " -121.689    382.74     235.141  -227.277    -115.871   -484.711\n",
       "  288.72      12.3129  -279.572   319.771      86.5549   149.375\n",
       "\n",
       "[:, :, 5, 2] =\n",
       "  267.223   -146.06   -258.594     25.6271   134.703    -441.005\n",
       "   72.0563    61.986   269.854   -332.885   -208.763      31.0508\n",
       " -141.42     -80.108   -27.8512  -110.068    430.207      45.3269\n",
       " -213.663   -218.541   271.158     28.7696    -4.72371   225.405\n",
       "\n",
       "[:, :, 1, 3] =\n",
       "  -90.7512   232.655  -186.002    23.9544    -9.46923  -51.5136\n",
       " -219.043    231.137   155.401  -216.663   -161.809    137.201\n",
       "   78.206    278.143   275.424   281.13    -193.283    476.676\n",
       " -107.426   -164.982  -324.456   101.938    204.207    -28.1341\n",
       "\n",
       "[:, :, 2, 3] =\n",
       " -136.292  -194.272   -388.035    -514.137    156.623    229.198\n",
       " -201.8    -114.701    322.111    -125.114    -17.5846    80.8435\n",
       "   40.359   -88.2042   351.502      76.7114   146.001     61.2322\n",
       "  188.061    77.431      3.72996  -478.009   -140.53    -349.844\n",
       "\n",
       "[:, :, 3, 3] =\n",
       " -10.4897  268.054     24.3372   -82.4565   146.748    164.771\n",
       "  14.1741  109.642   -152.774   -392.895   -304.567    326.75\n",
       " 193.355    94.8669   -17.858    212.319   -246.304    -84.962\n",
       " 343.341   -66.5726   143.841   -167.394    -42.2015  -326.383\n",
       "\n",
       "[:, :, 4, 3] =\n",
       "  -38.3976   -50.7907  -130.494  -106.302      4.63783   247.287\n",
       "   92.1441  -100.027   -143.131   102.315   -348.915    -276.886\n",
       " -153.271    165.139    101.46    -17.9861   299.516    -297.897\n",
       "  542.886     42.93    -141.816    81.8436   -85.6496   -198.091\n",
       "\n",
       "[:, :, 5, 3] =\n",
       " -112.546    -61.2865   -368.674   -61.65     -69.0777  -276.104\n",
       "  133.35      -2.54691  -411.534   -12.4835    19.2002  -268.922\n",
       "   -4.10775  137.566    -140.069    26.6311   101.072    -88.1811\n",
       "  -16.3512   -81.7366   -231.313  -144.97    -187.224    106.461\n",
       "\n",
       "[:, :, 1, 4] =\n",
       " 327.57   -163.086    3.95066  328.364     132.749   -238.007\n",
       " 150.546    88.454  263.478     61.799     -20.3258   -80.6084\n",
       " 162.95    116.694  164.109    441.301     132.205    328.387\n",
       " 264.494    45.863  182.667      5.43628  -317.085   -207.175\n",
       "\n",
       "[:, :, 2, 4] =\n",
       " -342.577    268.695   372.369   243.458   -58.1705   148.604\n",
       "  -23.5817   249.195   314.16    -60.6488   24.6181   119.907\n",
       "   13.9167  -515.097  -121.799  -475.397   -24.9574    40.6114\n",
       "   64.9408   -24.613   155.642    62.9076  107.864   -248.202\n",
       "\n",
       "[:, :, 3, 4] =\n",
       "   67.1605   135.861      342.869    -61.5123   -15.4463    26.9234\n",
       " -199.239    250.512       40.5813  -107.453   -101.746   -275.254\n",
       "  316.418      0.0581881   30.4703  -323.874    100.772   -233.173\n",
       "    5.80911   94.0611      35.8682   192.254    307.466    -63.3391\n",
       "\n",
       "[:, :, 4, 4] =\n",
       " 313.374   -414.619   -51.8536  148.707    22.5438   -11.6729\n",
       "  82.0155   148.72   -195.463   136.442   207.475    529.167\n",
       " 367.758    402.094    96.2291  281.823   169.482    -17.7763\n",
       " 177.403    240.367  -231.78     15.1931    5.23112  411.94\n",
       "\n",
       "[:, :, 5, 4] =\n",
       " -45.8545    1.00112  -187.739  -304.383  -149.145   -142.844\n",
       " 116.3      92.1329   -168.34   -113.933    33.3077  -376.04\n",
       " -28.5495  317.534     277.668   124.332  -168.223    126.301\n",
       " 263.457    70.8762   -126.235  -613.829   -41.4386   300.829\n",
       "\n",
       "[:, :, 1, 5] =\n",
       " 277.894     176.523   246.725     17.2438   218.524     89.3939\n",
       " -97.6674   -152.632    -6.94281  -95.6847  -104.621    -76.4727\n",
       "   3.54225    15.5663  -93.9564   -13.3068    90.2483  -631.1\n",
       " -44.9065     55.2089  146.535    131.297    -91.9922  -152.024\n",
       "\n",
       "[:, :, 2, 5] =\n",
       " -186.991   329.051   -236.539   -313.229   146.182    235.134\n",
       "  215.865   -95.1474    52.1898    58.1902  119.345   -546.1\n",
       " -225.75   -393.906    106.033   -142.444   -74.8885   151.876\n",
       "  310.378  -276.026    166.944    115.958   -78.729   -436.174\n",
       "\n",
       "[:, :, 3, 5] =\n",
       " -275.767       6.54933  -409.88    -155.608  -143.655    -157.481\n",
       "   -5.55067  -203.281      49.1406   110.01      2.68529   120.607\n",
       " -232.454    -127.743      65.3238  -476.523  -119.354    -262.817\n",
       " -255.654      82.0769    245.973   -110.297  -110.379     150.446\n",
       "\n",
       "[:, :, 4, 5] =\n",
       " -123.069   277.205   -103.279    255.791  -170.335    188.723\n",
       "   26.8082  -36.5391   -47.4103  -127.197    83.5734   -18.326\n",
       "  -25.9448  243.191    211.427   -418.413   361.012    -43.0208\n",
       "  458.882   137.535   -102.386   -111.455   101.257   -467.99\n",
       "\n",
       "[:, :, 5, 5] =\n",
       " 269.706   -331.047    247.72    91.748    -47.189    226.758\n",
       " -24.0185   250.223   -190.732  -81.8957   -81.9049  -142.937\n",
       " 143.263     75.4573  -173.849   20.8872  -294.555     40.4659\n",
       "  83.4485   239.476   -612.629  180.601    527.642    275.395\n",
       "\n",
       "[:, :, 1, 6] =\n",
       "  71.6898   129.026     206.583   -281.994     34.076   478.649\n",
       " -99.5189    86.8672    -39.0387  -587.803   -155.206   -71.3736\n",
       " -89.2351     5.80134  -159.639    -58.8282  -359.385  -169.201\n",
       " -92.6275  -136.422     -66.2989    91.39    -154.105  -332.195\n",
       "\n",
       "[:, :, 2, 6] =\n",
       " -155.571    67.9864  -102.647     -38.9192   358.44   -420.13\n",
       "  -84.517  -439.286   -190.04     -383.758   -283.799  -134.622\n",
       " -261.937  -197.772    -46.6697   -271.165   -152.268    26.0205\n",
       " -375.965  -213.035      5.18385  -251.968   -179.408  -181.019\n",
       "\n",
       "[:, :, 3, 6] =\n",
       " -442.418    500.57    -322.6    -160.585   -11.7277  -188.59\n",
       "  -51.1971   -41.9864  -521.665   -34.6638   29.3796    79.6398\n",
       "  143.922   -140.035   -151.688   -74.6496  -34.9641  -312.973\n",
       " -133.819    -28.1189   211.994  -134.619   -35.9906  -736.336\n",
       "\n",
       "[:, :, 4, 6] =\n",
       "  -95.9431   169.486   267.685   41.6626    193.269   -247.873\n",
       "  250.75      45.535  -186.841  260.308    -183.999   -258.641\n",
       " -471.03    -256.012  -182.175   -5.70334  -324.187    185.385\n",
       " -363.121    287.253   204.775   69.8223    -97.2652    52.8116\n",
       "\n",
       "[:, :, 5, 6] =\n",
       " 375.192  -122.548  196.89    -189.425    -60.4583  172.311\n",
       " 143.571   330.325  237.913   -219.231    483.27    165.472\n",
       " 150.749  -552.196  -47.1151  -129.49    -311.135   146.4\n",
       " 188.18   -293.305  -46.3312   -90.3227  -173.144   142.597"
      ]
     },
     "execution_count": 7,
     "metadata": {},
     "output_type": "execute_result"
    }
   ],
   "source": [
    "@tensor A[j1, j2, j3, j4] := G[1][i1, j1, i2] * G[2][i2, j2, i3] * G[3][i3, j3, i4] * G[4][i4, j4, i1]\n",
    "A"
   ]
  },
  {
   "cell_type": "code",
   "execution_count": 8,
   "id": "06a13aac-926c-4946-9945-0ca1095b7c1b",
   "metadata": {},
   "outputs": [
    {
     "data": {
      "text/plain": [
       "refA_Gs (generic function with 1 method)"
      ]
     },
     "execution_count": 8,
     "metadata": {},
     "output_type": "execute_result"
    }
   ],
   "source": [
    "function refA_Gs(A, G, N)\n",
    "    Gs = :($G[1][i1, j1, i2])\n",
    "    for k in 2:N\n",
    "        ik = Symbol(:i, k)\n",
    "        jk = Symbol(:j, k)\n",
    "        ikp1 = Symbol(:i, mod1(k+1, N))\n",
    "        Gs = :($Gs * $G[$k][$ik, $jk, $ikp1])\n",
    "    end\n",
    "    refA = Expr(:ref, :A)\n",
    "    for k in 1:N\n",
    "        push!(refA.args, Symbol(:j, k))\n",
    "    end\n",
    "    refA, Gs\n",
    "end"
   ]
  },
  {
   "cell_type": "code",
   "execution_count": 9,
   "id": "73abffbe-6bea-4c59-bfec-fb5b1ab4d26a",
   "metadata": {},
   "outputs": [
    {
     "data": {
      "text/plain": [
       "(:(A[j1, j2, j3, j4]), :((((G[1])[i1, j1, i2] * (G[2])[i2, j2, i3]) * (G[3])[i3, j3, i4]) * (G[4])[i4, j4, i1]))"
      ]
     },
     "execution_count": 9,
     "metadata": {},
     "output_type": "execute_result"
    }
   ],
   "source": [
    "refA_Gs(:A, :G, 4)"
   ]
  },
  {
   "cell_type": "code",
   "execution_count": 10,
   "id": "156a7e69-2448-4472-8dd9-ab1926f41f8d",
   "metadata": {},
   "outputs": [
    {
     "data": {
      "text/plain": [
       "@multitrace (macro with 1 method)"
      ]
     },
     "execution_count": 10,
     "metadata": {},
     "output_type": "execute_result"
    }
   ],
   "source": [
    "macro multitrace(G, N)\n",
    "    refA, Gs = refA_Gs(:A, :G, N)\n",
    "    quote\n",
    "        let G = $(esc(G))\n",
    "            @tensor $refA := $Gs\n",
    "        end\n",
    "    end\n",
    "end"
   ]
  },
  {
   "cell_type": "code",
   "execution_count": 11,
   "id": "70e2f57d-42f9-4fc5-a209-5089d683d1a7",
   "metadata": {},
   "outputs": [
    {
     "data": {
      "text/plain": [
       "quote\n",
       "    \u001b[90m#= In[10]:4 =#\u001b[39m\n",
       "    let var\"#292#G\" = G\n",
       "        \u001b[90m#= In[10]:5 =#\u001b[39m\n",
       "        begin\n",
       "            var\"#293###1129\" = var\"#292#G\"[1]\n",
       "            var\"#294###1130\" = var\"#292#G\"[2]\n",
       "            var\"#295###1131\" = var\"#292#G\"[3]\n",
       "            var\"#296###1132\" = var\"#292#G\"[4]\n",
       "            var\"#297###1137\" = Main.promote_type(Main.promote_type(Main.promote_type(Main.eltype(var\"#293###1129\"), Main.eltype(var\"#294###1130\")), Main.eltype(var\"#295###1131\")), Main.eltype(var\"#296###1132\"), Main.typeof(true))\n",
       "            var\"#298###1141\" = Main.promote_type(Main.promote_type(Main.eltype(var\"#293###1129\"), Main.eltype(var\"#294###1130\")), Main.eltype(var\"#295###1131\"), Main.typeof(true))\n",
       "            var\"#299###1145\" = Main.promote_type(Main.eltype(var\"#293###1129\"), Main.eltype(var\"#294###1130\"), Main.typeof(true))\n",
       "            var\"#300###1142\" = var\"#293###1129\"\n",
       "            var\"#301###1143\" = var\"#294###1130\"\n",
       "            var\"#302###1144\" = TensorOperations.cached_similar_from_indices(Symbol(\"##1144\"), var\"#299###1145\", (1, 2), (2, 3), (1, 2, 3), (4,), var\"#300###1142\", var\"#301###1143\", :N, :N)\n",
       "            var\"#303###1138\" = TensorOperations.contract!(true * true * true, var\"#300###1142\", :N, var\"#301###1143\", :N, false, var\"#302###1144\", (1, 2), (3,), (2, 3), (1,), (1, 2, 3), (4,), (Symbol(\"##1146\"), Symbol(\"##1147\"), Symbol(\"##1148\")))\n",
       "            var\"#304###1139\" = var\"#295###1131\"\n",
       "            var\"#305###1140\" = TensorOperations.cached_similar_from_indices(Symbol(\"##1140\"), var\"#298###1141\", (1, 2, 3), (2, 3), (2, 3, 4), (1, 5), var\"#303###1138\", var\"#304###1139\", :N, :N)\n",
       "            var\"#306###1134\" = TensorOperations.contract!(true * 1 * true, var\"#303###1138\", :N, var\"#304###1139\", :N, false, var\"#305###1140\", (1, 2, 3), (4,), (2, 3), (1,), (2, 3, 4), (1, 5), (Symbol(\"##1149\"), Symbol(\"##1150\"), Symbol(\"##1151\")))\n",
       "            var\"#307###1135\" = var\"#296###1132\"\n",
       "            var\"#308###1136\" = TensorOperations.similar_from_indices(var\"#297###1137\", (1, 2, 3), (2,), (1, 2, 3, 4), (), var\"#306###1134\", var\"#307###1135\", :N, :N)\n",
       "            var\"#309###1133\" = TensorOperations.contract!(true * 1 * true, var\"#306###1134\", :N, var\"#307###1135\", :N, false, var\"#308###1136\", (1, 2, 3), (4, 5), (2,), (3, 1), (1, 2, 3, 4), (), (Symbol(\"##1152\"), Symbol(\"##1153\"), Symbol(\"##1154\")))\n",
       "            var\"#310#A\" = var\"#309###1133\"\n",
       "        end\n",
       "    end\n",
       "end"
      ]
     },
     "execution_count": 11,
     "metadata": {},
     "output_type": "execute_result"
    }
   ],
   "source": [
    "@macroexpand @multitrace G 4"
   ]
  },
  {
   "cell_type": "code",
   "execution_count": 12,
   "id": "de054920-eb43-452f-8ed3-a9eab02b35fe",
   "metadata": {},
   "outputs": [
    {
     "data": {
      "text/plain": [
       "true"
      ]
     },
     "execution_count": 12,
     "metadata": {},
     "output_type": "execute_result"
    }
   ],
   "source": [
    "B = @multitrace G 4\n",
    "A == B"
   ]
  },
  {
   "cell_type": "code",
   "execution_count": 13,
   "id": "92795454-9cdb-4724-87e2-21ba7d849aed",
   "metadata": {},
   "outputs": [
    {
     "data": {
      "text/plain": [
       "@multitrace (macro with 2 methods)"
      ]
     },
     "execution_count": 13,
     "metadata": {},
     "output_type": "execute_result"
    }
   ],
   "source": [
    "macro multitrace(A, G, N)\n",
    "    refA, Gs = refA_Gs(:A, :G, N)\n",
    "    quote\n",
    "        let A = $(esc(A)), G = $(esc(G))\n",
    "            @tensor $refA = $Gs\n",
    "        end\n",
    "    end\n",
    "end"
   ]
  },
  {
   "cell_type": "code",
   "execution_count": 14,
   "id": "d54af409-5429-4bb2-bdeb-a8d6cf58d221",
   "metadata": {},
   "outputs": [
    {
     "data": {
      "text/plain": [
       "quote\n",
       "    \u001b[90m#= In[13]:4 =#\u001b[39m\n",
       "    let var\"#368#A\" = C, var\"#369#G\" = G\n",
       "        \u001b[90m#= In[13]:5 =#\u001b[39m\n",
       "        begin\n",
       "            var\"#370###1181\" = var\"#369#G\"[1]\n",
       "            var\"#371###1182\" = var\"#369#G\"[2]\n",
       "            var\"#372###1183\" = var\"#369#G\"[3]\n",
       "            var\"#373###1184\" = var\"#369#G\"[4]\n",
       "            var\"#374###1185\" = var\"#368#A\"\n",
       "            var\"#375###1189\" = Main.eltype(var\"#374###1185\")\n",
       "            var\"#376###1193\" = Main.promote_type(Main.promote_type(Main.eltype(var\"#370###1181\"), Main.eltype(var\"#371###1182\")), Main.eltype(var\"#372###1183\"), Main.typeof(true))\n",
       "            var\"#377###1197\" = Main.promote_type(Main.eltype(var\"#370###1181\"), Main.eltype(var\"#371###1182\"), Main.typeof(true))\n",
       "            var\"#378###1194\" = var\"#370###1181\"\n",
       "            var\"#379###1195\" = var\"#371###1182\"\n",
       "            var\"#380###1196\" = TensorOperations.cached_similar_from_indices(Symbol(\"##1196\"), var\"#377###1197\", (1, 2), (2, 3), (1, 2, 3), (4,), var\"#378###1194\", var\"#379###1195\", :N, :N)\n",
       "            var\"#381###1190\" = TensorOperations.contract!(true * true * true, var\"#378###1194\", :N, var\"#379###1195\", :N, false, var\"#380###1196\", (1, 2), (3,), (2, 3), (1,), (1, 2, 3), (4,), (Symbol(\"##1198\"), Symbol(\"##1199\"), Symbol(\"##1200\")))\n",
       "            var\"#382###1191\" = var\"#372###1183\"\n",
       "            var\"#383###1192\" = TensorOperations.cached_similar_from_indices(Symbol(\"##1192\"), var\"#376###1193\", (1, 2, 3), (2, 3), (2, 3, 4), (1, 5), var\"#381###1190\", var\"#382###1191\", :N, :N)\n",
       "            var\"#384###1186\" = TensorOperations.contract!(true * 1 * true, var\"#381###1190\", :N, var\"#382###1191\", :N, false, var\"#383###1192\", (1, 2, 3), (4,), (2, 3), (1,), (2, 3, 4), (1, 5), (Symbol(\"##1201\"), Symbol(\"##1202\"), Symbol(\"##1203\")))\n",
       "            var\"#385###1187\" = var\"#373###1184\"\n",
       "            var\"#386###1188\" = var\"#374###1185\"\n",
       "            var\"#374###1185\" = TensorOperations.contract!(true * 1 * true, var\"#384###1186\", :N, var\"#385###1187\", :N, false, var\"#386###1188\", (1, 2, 3), (4, 5), (2,), (3, 1), (1, 2, 3, 4), (), (Symbol(\"##1204\"), Symbol(\"##1205\"), Symbol(\"##1206\")))\n",
       "            var\"#368#A\" = var\"#374###1185\"\n",
       "        end\n",
       "    end\n",
       "end"
      ]
     },
     "execution_count": 14,
     "metadata": {},
     "output_type": "execute_result"
    }
   ],
   "source": [
    "@macroexpand @multitrace C G 4"
   ]
  },
  {
   "cell_type": "code",
   "execution_count": 15,
   "id": "d977f9b4-7793-403b-b410-b432713f0048",
   "metadata": {},
   "outputs": [
    {
     "data": {
      "text/plain": [
       "true"
      ]
     },
     "execution_count": 15,
     "metadata": {},
     "output_type": "execute_result"
    }
   ],
   "source": [
    "C = similar(zeros(), j...)\n",
    "@multitrace C G 4\n",
    "A == B == C"
   ]
  },
  {
   "cell_type": "markdown",
   "id": "e8e69629-780c-4f1f-975e-ee0d9fe93750",
   "metadata": {},
   "source": [
    "* https://twitter.com/LirimyDh/status/1559364996865216512\n",
    "* https://twitter.com/physics303/status/1559490168477732865"
   ]
  },
  {
   "cell_type": "code",
   "execution_count": 16,
   "id": "ff8668b9-4e43-4db1-bfae-4afdced34305",
   "metadata": {},
   "outputs": [
    {
     "data": {
      "text/plain": [
       "expanddim"
      ]
     },
     "execution_count": 16,
     "metadata": {},
     "output_type": "execute_result"
    }
   ],
   "source": [
    "using StaticArrays\n",
    "\n",
    "# ３次元配列を行列の配列に変換する\n",
    "\"Just specify that [an element of] the argument is an array of matrices\"\n",
    "struct MatrixArray end\n",
    "\n",
    "\"\"\"\n",
    "    R = matrixarray(S::AbstractArray{T,3})\n",
    "\n",
    "`R[k][i, j] = S[i, k, j]`\n",
    "\"\"\"\n",
    "matrixarray(S) = [SMatrix{size(S[:, i, :])...}(S[:, i, :]) for i in axes(S, 2)]\n",
    "#matrixarray(S) = [S[:, i, :] for i in axes(S, 2)] # without StaticArrays\n",
    "\n",
    "\n",
    "# 行列積の最終段を省き、トレースを直接求める\n",
    "reconst(G) = reconst(MatrixArray(), matrixarray.(G))\n",
    "reconst(::MatrixArray, G) = _reconst(G...)\n",
    "\n",
    "# Gs を真ん中で分けないと遅くなる\n",
    "function _reconst(Gs...)\n",
    "    h = length(Gs) ÷ 2\n",
    "    _reconst(reduce(eachprod, Gs[begin:h]), reduce(eachprod, Gs[h+1:end]))\n",
    "end\n",
    "\n",
    "#_reconst(G1, G2, Gs...) = _reconst(eachprod(G1, G2), Gs...) # 遅い\n",
    "_reconst(G1, G2) = trprod.(G1, expanddim(G2, G1))\n",
    "\n",
    "\"\"\"\n",
    "    trprod(A, B)\n",
    "\n",
    "Returns `tr(A * B)`\n",
    "\"\"\"\n",
    "trprod(A, B) = dot(vec(A'), vec(B))\n",
    "\n",
    "\"\"\"\n",
    "    C = eachprod(A, B)\n",
    "\n",
    "`C[i, j, k] = A[i, j] * B[k]`\n",
    "\n",
    "`A, B, C :: Array{Matrix}`\n",
    "\"\"\"\n",
    "eachprod(A, B) = A .* expanddim(B, A)\n",
    "\n",
    "\n",
    "\"\"\"\n",
    "    Bx = expanddim(B, A)\n",
    "\n",
    "`Bx = reshape(B, (1, 1, 1, m, n))` where `ndims(A) == 3`, `size(B) == (m, n)`\n",
    "\"\"\"\n",
    "expanddim(B, A) = reshape(B, (ntuple(_ -> 1, ndims(A))..., size(B)...))"
   ]
  },
  {
   "cell_type": "code",
   "execution_count": 17,
   "id": "03595fd6-eb0e-4706-81b9-3ee665233d90",
   "metadata": {},
   "outputs": [
    {
     "data": {
      "text/plain": [
       "true"
      ]
     },
     "execution_count": 17,
     "metadata": {},
     "output_type": "execute_result"
    }
   ],
   "source": [
    "D = reconst(G)\n",
    "A == B == C ≈ D"
   ]
  },
  {
   "cell_type": "code",
   "execution_count": 18,
   "id": "37c94cc7-f60b-4003-87b9-2e572dcb45b0",
   "metadata": {},
   "outputs": [
    {
     "data": {
      "text/plain": [
       ":(reconst4(G) = begin\n",
       "          \u001b[90m#= In[18]:1 =#\u001b[39m\n",
       "          let X = G\n",
       "              \u001b[90m#= In[18]:1 =#\u001b[39m\n",
       "              begin\n",
       "                  \u001b[90m#= In[10]:4 =#\u001b[39m\n",
       "                  let var\"#674#G\" = X\n",
       "                      \u001b[90m#= In[10]:5 =#\u001b[39m\n",
       "                      begin\n",
       "                          var\"#675###1233\" = var\"#674#G\"[1]\n",
       "                          var\"#676###1234\" = var\"#674#G\"[2]\n",
       "                          var\"#677###1235\" = var\"#674#G\"[3]\n",
       "                          var\"#678###1236\" = var\"#674#G\"[4]\n",
       "                          var\"#679###1241\" = Main.promote_type(Main.promote_type(Main.promote_type(Main.eltype(var\"#675###1233\"), Main.eltype(var\"#676###1234\")), Main.eltype(var\"#677###1235\")), Main.eltype(var\"#678###1236\"), Main.typeof(true))\n",
       "                          var\"#680###1245\" = Main.promote_type(Main.promote_type(Main.eltype(var\"#675###1233\"), Main.eltype(var\"#676###1234\")), Main.eltype(var\"#677###1235\"), Main.typeof(true))\n",
       "                          var\"#681###1249\" = Main.promote_type(Main.eltype(var\"#675###1233\"), Main.eltype(var\"#676###1234\"), Main.typeof(true))\n",
       "                          var\"#682###1246\" = var\"#675###1233\"\n",
       "                          var\"#683###1247\" = var\"#676###1234\"\n",
       "                          var\"#684###1248\" = TensorOperations.cached_similar_from_indices(Symbol(\"##1248\"), var\"#681###1249\", (1, 2), (2, 3), (1, 2, 3), (4,), var\"#682###1246\", var\"#683###1247\", :N, :N)\n",
       "                          var\"#685###1242\" = TensorOperations.contract!(true * true * true, var\"#682###1246\", :N, var\"#683###1247\", :N, false, var\"#684###1248\", (1, 2), (3,), (2, 3), (1,), (1, 2, 3), (4,), (Symbol(\"##1250\"), Symbol(\"##1251\"), Symbol(\"##1252\")))\n",
       "                          var\"#686###1243\" = var\"#677###1235\"\n",
       "                          var\"#687###1244\" = TensorOperations.cached_similar_from_indices(Symbol(\"##1244\"), var\"#680###1245\", (1, 2, 3), (2, 3), (2, 3, 4), (1, 5), var\"#685###1242\", var\"#686###1243\", :N, :N)\n",
       "                          var\"#688###1238\" = TensorOperations.contract!(true * 1 * true, var\"#685###1242\", :N, var\"#686###1243\", :N, false, var\"#687###1244\", (1, 2, 3), (4,), (2, 3), (1,), (2, 3, 4), (1, 5), (Symbol(\"##1253\"), Symbol(\"##1254\"), Symbol(\"##1255\")))\n",
       "                          var\"#689###1239\" = var\"#678###1236\"\n",
       "                          var\"#690###1240\" = TensorOperations.similar_from_indices(var\"#679###1241\", (1, 2, 3), (2,), (1, 2, 3, 4), (), var\"#688###1238\", var\"#689###1239\", :N, :N)\n",
       "                          var\"#691###1237\" = TensorOperations.contract!(true * 1 * true, var\"#688###1238\", :N, var\"#689###1239\", :N, false, var\"#690###1240\", (1, 2, 3), (4, 5), (2,), (3, 1), (1, 2, 3, 4), (), (Symbol(\"##1256\"), Symbol(\"##1257\"), Symbol(\"##1258\")))\n",
       "                          var\"#692#A\" = var\"#691###1237\"\n",
       "                      end\n",
       "                  end\n",
       "              end\n",
       "          end\n",
       "      end)"
      ]
     },
     "execution_count": 18,
     "metadata": {},
     "output_type": "execute_result"
    }
   ],
   "source": [
    "@macroexpand reconst4(G) = let X = G; @multitrace X 4 end"
   ]
  },
  {
   "cell_type": "code",
   "execution_count": 19,
   "id": "6364fabb-0443-4eee-95b0-fdb2fee7d0c8",
   "metadata": {},
   "outputs": [
    {
     "name": "stdout",
     "output_type": "stream",
     "text": [
      "size.(G) = [(100, 4, 7), (7, 6, 8), (8, 5, 11), (11, 6, 100)]\n",
      "Threads.nthreads() = 12\n",
      "  663.500 μs (560 allocations: 693.36 KiB)\n",
      "  235.400 μs (208 allocations: 24.72 KiB)\n",
      "  236.100 μs (216 allocations: 25.19 KiB)\n"
     ]
    },
    {
     "data": {
      "text/plain": [
       "true"
      ]
     },
     "execution_count": 19,
     "metadata": {},
     "output_type": "execute_result"
    }
   ],
   "source": [
    "using BenchmarkTools\n",
    "\n",
    "reconst4(G) = @multitrace G 4\n",
    "\n",
    "@show size.(G)\n",
    "@show Threads.nthreads()\n",
    "\n",
    "D = @btime reconst($G)\n",
    "E = @btime reconst4($G)\n",
    "F = @btime @tensor A[j1, j2, j3, j4] := $G[1][i1, j1, i2] * $G[2][i2, j2, i3] * $G[3][i3, j3, i4] * $G[4][i4, j4, i1]\n",
    "A == B == C == E == F ≈ D"
   ]
  },
  {
   "cell_type": "code",
   "execution_count": 20,
   "id": "ebb4b9d8-ec9d-4b77-b43c-5cf8c7234538",
   "metadata": {},
   "outputs": [
    {
     "name": "stdout",
     "output_type": "stream",
     "text": [
      "size.(H) = [(11, 6, 100), (100, 4, 7), (7, 6, 8), (8, 5, 11)]\n",
      "Threads.nthreads() = 12\n",
      "  169.000 μs (559 allocations: 388.44 KiB)\n",
      "  48.700 μs (108 allocations: 13.03 KiB)\n"
     ]
    },
    {
     "data": {
      "text/plain": [
       "true"
      ]
     },
     "execution_count": 20,
     "metadata": {},
     "output_type": "execute_result"
    }
   ],
   "source": [
    "H = [G[mod1(k-1, 4)] for k in 1:4]\n",
    "\n",
    "@show size.(H)\n",
    "@show Threads.nthreads()\n",
    "\n",
    "X = @btime reconst($H)\n",
    "Y = @btime reconst4($H)\n",
    "X ≈ Y"
   ]
  },
  {
   "cell_type": "code",
   "execution_count": null,
   "id": "8320b018-2e5a-4814-ae62-bbb1ddd6b8e6",
   "metadata": {},
   "outputs": [],
   "source": []
  }
 ],
 "metadata": {
  "jupytext": {
   "encoding": "# -*- coding: utf-8 -*-",
   "formats": "ipynb,jl:hydrogen"
  },
  "kernelspec": {
   "display_name": "Julia 1.8.0",
   "language": "julia",
   "name": "julia-1.8"
  },
  "language_info": {
   "file_extension": ".jl",
   "mimetype": "application/julia",
   "name": "julia",
   "version": "1.8.0"
  }
 },
 "nbformat": 4,
 "nbformat_minor": 5
}
