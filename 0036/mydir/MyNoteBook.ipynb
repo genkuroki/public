{
 "cells": [
  {
   "cell_type": "code",
   "execution_count": 1,
   "id": "13b6c579-0b31-43d1-8af1-7ffc136425df",
   "metadata": {},
   "outputs": [
    {
     "name": "stdout",
     "output_type": "stream",
     "text": [
      "\u001b[32m\u001b[1mStatus\u001b[22m\u001b[39m `D:\\OneDrive\\public\\0036\\mydir\\Project.toml`\n",
      " \u001b[90m [60df982b] \u001b[39mMyPkg v0.1.0 `MyPkg`\n"
     ]
    }
   ],
   "source": [
    "]st"
   ]
  },
  {
   "cell_type": "code",
   "execution_count": 2,
   "id": "1c7b4cfe-e764-4999-b2eb-e7112c425378",
   "metadata": {},
   "outputs": [
    {
     "name": "stderr",
     "output_type": "stream",
     "text": [
      "┌ Info: Precompiling MyPkg [60df982b-9e7b-4c7e-aa74-fd6d0ac1b252]\n",
      "└ @ Base loading.jl:1662\n"
     ]
    }
   ],
   "source": [
    "using Revise\n",
    "using MyPkg"
   ]
  },
  {
   "cell_type": "code",
   "execution_count": 3,
   "id": "4ea02eb5-8e43-48cd-8953-7384194487c3",
   "metadata": {},
   "outputs": [
    {
     "name": "stdout",
     "output_type": "stream",
     "text": [
      "Hello My Package!"
     ]
    }
   ],
   "source": [
    "MyPkg.greet()"
   ]
  },
  {
   "cell_type": "code",
   "execution_count": 4,
   "id": "89f618a7-2858-4f79-9a65-311dac00ba49",
   "metadata": {},
   "outputs": [
    {
     "data": {
      "text/plain": [
       "3.143356"
      ]
     },
     "execution_count": 4,
     "metadata": {},
     "output_type": "execute_result"
    }
   ],
   "source": [
    "MyPkg.mcpi(10^6)"
   ]
  },
  {
   "cell_type": "code",
   "execution_count": 5,
   "id": "c40709a2-07a3-4497-8d9b-2961ff57fb76",
   "metadata": {},
   "outputs": [
    {
     "name": "stdout",
     "output_type": "stream",
     "text": [
      "  0.522822 seconds (80 allocations: 8.109 KiB)\n"
     ]
    },
    {
     "data": {
      "text/plain": [
       "3.141661328"
      ]
     },
     "execution_count": 5,
     "metadata": {},
     "output_type": "execute_result"
    }
   ],
   "source": [
    "@time MyPkg.mcpi(10^9)"
   ]
  },
  {
   "cell_type": "code",
   "execution_count": 6,
   "id": "60c56b56-5240-4791-9b63-5c010ff8663c",
   "metadata": {},
   "outputs": [
    {
     "data": {
      "text/plain": [
       "12"
      ]
     },
     "execution_count": 6,
     "metadata": {},
     "output_type": "execute_result"
    }
   ],
   "source": [
    "Threads.nthreads()"
   ]
  },
  {
   "cell_type": "code",
   "execution_count": 7,
   "id": "0c5155df-05b7-4710-a1da-ae1ec5dbf97b",
   "metadata": {},
   "outputs": [
    {
     "name": "stdout",
     "output_type": "stream",
     "text": [
      "  5.325758 seconds (82 allocations: 8.109 KiB)\n"
     ]
    },
    {
     "data": {
      "text/plain": [
       "3.1416034316"
      ]
     },
     "execution_count": 7,
     "metadata": {},
     "output_type": "execute_result"
    }
   ],
   "source": [
    "@time MyPkg.mcpi(10^10)"
   ]
  },
  {
   "cell_type": "code",
   "execution_count": null,
   "id": "a3784327-3843-4365-ac3a-a29f4c95c729",
   "metadata": {},
   "outputs": [],
   "source": []
  }
 ],
 "metadata": {
  "kernelspec": {
   "display_name": "Julia 1.8.0",
   "language": "julia",
   "name": "julia-1.8"
  },
  "language_info": {
   "file_extension": ".jl",
   "mimetype": "application/julia",
   "name": "julia",
   "version": "1.8.0"
  }
 },
 "nbformat": 4,
 "nbformat_minor": 5
}
