{
 "cells": [
  {
   "cell_type": "code",
   "execution_count": 1,
   "id": "91e2af84-405c-4fdb-bb5e-d05b5dac72fb",
   "metadata": {},
   "outputs": [
    {
     "name": "stderr",
     "output_type": "stream",
     "text": [
      "\u001b[32m\u001b[1m  Activating\u001b[22m\u001b[39m new project at `D:\\OneDrive\\public\\0036\\mydir`\n"
     ]
    }
   ],
   "source": [
    "]activate ."
   ]
  },
  {
   "cell_type": "code",
   "execution_count": 2,
   "id": "5891f85f-656f-4a89-8781-38c72c2bfa48",
   "metadata": {},
   "outputs": [
    {
     "name": "stderr",
     "output_type": "stream",
     "text": [
      "\u001b[32m\u001b[1m  No Changes\u001b[22m\u001b[39m to `D:\\OneDrive\\public\\0036\\mydir\\Project.toml`\n",
      "\u001b[32m\u001b[1m  No Changes\u001b[22m\u001b[39m to `D:\\OneDrive\\public\\0036\\mydir\\Manifest.toml`\n"
     ]
    }
   ],
   "source": [
    "]instantiate"
   ]
  },
  {
   "cell_type": "code",
   "execution_count": 3,
   "id": "c6220ae0-598e-4fe0-a3aa-7f3ea0fad0dd",
   "metadata": {},
   "outputs": [
    {
     "name": "stderr",
     "output_type": "stream",
     "text": [
      "\u001b[32m\u001b[1m  Generating\u001b[22m\u001b[39m  project MyPkg:\n",
      "    MyPkg\\Project.toml\n",
      "    MyPkg\\src\\MyPkg.jl\n"
     ]
    }
   ],
   "source": [
    "]generate MyPkg"
   ]
  },
  {
   "cell_type": "code",
   "execution_count": 4,
   "id": "7d53c5a3-fdfc-4120-9bc5-698ba2e88e76",
   "metadata": {},
   "outputs": [
    {
     "name": "stderr",
     "output_type": "stream",
     "text": [
      "\u001b[32m\u001b[1m   Resolving\u001b[22m\u001b[39m package versions...\n",
      "\u001b[32m\u001b[1m    Updating\u001b[22m\u001b[39m `D:\\OneDrive\\public\\0036\\mydir\\Project.toml`\n",
      " \u001b[90m [60df982b] \u001b[39m\u001b[92m+ MyPkg v0.1.0 `MyPkg`\u001b[39m\n",
      "\u001b[32m\u001b[1m    Updating\u001b[22m\u001b[39m `D:\\OneDrive\\public\\0036\\mydir\\Manifest.toml`\n",
      " \u001b[90m [60df982b] \u001b[39m\u001b[92m+ MyPkg v0.1.0 `MyPkg`\u001b[39m\n"
     ]
    }
   ],
   "source": [
    "]dev ./MyPkg"
   ]
  },
  {
   "cell_type": "code",
   "execution_count": 5,
   "id": "3b1034cd-f2d7-4d14-856d-c142f94b95e2",
   "metadata": {},
   "outputs": [
    {
     "name": "stdout",
     "output_type": "stream",
     "text": [
      "\u001b[32m\u001b[1mStatus\u001b[22m\u001b[39m `D:\\OneDrive\\public\\0036\\mydir\\Project.toml`\n",
      " \u001b[90m [60df982b] \u001b[39mMyPkg v0.1.0 `MyPkg`\n"
     ]
    }
   ],
   "source": [
    "]st"
   ]
  },
  {
   "cell_type": "code",
   "execution_count": 6,
   "id": "f8453c7f-fb37-4703-b67d-49017a7fb035",
   "metadata": {},
   "outputs": [],
   "source": [
    "using Revise"
   ]
  },
  {
   "cell_type": "code",
   "execution_count": 7,
   "id": "c3d18971-fbee-46c4-b66c-9a6359ba7c2f",
   "metadata": {},
   "outputs": [
    {
     "name": "stderr",
     "output_type": "stream",
     "text": [
      "┌ Info: Precompiling MyPkg [60df982b-9e7b-4c7e-aa74-fd6d0ac1b252]\n",
      "└ @ Base loading.jl:1662\n"
     ]
    }
   ],
   "source": [
    "using MyPkg"
   ]
  },
  {
   "cell_type": "code",
   "execution_count": 8,
   "id": "46d694fd-6662-43c9-8277-2e6b2b650c8a",
   "metadata": {},
   "outputs": [
    {
     "name": "stdout",
     "output_type": "stream",
     "text": [
      "Hello World!"
     ]
    }
   ],
   "source": [
    "MyPkg.greet()"
   ]
  },
  {
   "cell_type": "code",
   "execution_count": 9,
   "id": "e2f3420f-4a95-4f54-b9be-63bd049b0172",
   "metadata": {},
   "outputs": [
    {
     "name": "stdout",
     "output_type": "stream",
     "text": [
      "Hello My Package!"
     ]
    }
   ],
   "source": [
    "# After editing ./MyPkg/src/MyPkg.jl\n",
    "MyPkg.greet()"
   ]
  },
  {
   "cell_type": "code",
   "execution_count": null,
   "id": "bd79f38f-3ba7-48ed-b50d-7318ab6358a1",
   "metadata": {},
   "outputs": [],
   "source": []
  }
 ],
 "metadata": {
  "kernelspec": {
   "display_name": "Julia 1.8.0",
   "language": "julia",
   "name": "julia-1.8"
  },
  "language_info": {
   "file_extension": ".jl",
   "mimetype": "application/julia",
   "name": "julia",
   "version": "1.8.0"
  }
 },
 "nbformat": 4,
 "nbformat_minor": 5
}
