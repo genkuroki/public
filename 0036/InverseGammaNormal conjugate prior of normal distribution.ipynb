{
 "cells": [
  {
   "cell_type": "markdown",
   "id": "00fae6e2",
   "metadata": {},
   "source": [
    "# 正規分布モデルの共役事前分布によるベイズ統計\n",
    "\n",
    "* 黒木玄\n",
    "* 2022-09-03～2022-09-06\n",
    "$\n",
    "\\newcommand\\ds{\\displaystyle}\n",
    "\\newcommand\\op[1]{{\\operatorname{#1}}}\n",
    "\\newcommand\\R{{\\mathbb R}}\n",
    "\\newcommand\\var{\\op{var}}\n",
    "\\newcommand\\cov{\\op{cov}}\n",
    "\\newcommand\\ybar{{\\bar y}}\n",
    "\\newcommand\\sigmahat{{\\hat\\sigma}}\n",
    "$"
   ]
  },
  {
   "cell_type": "markdown",
   "id": "ef729307",
   "metadata": {
    "toc": true
   },
   "source": [
    "<h1>目次<span class=\"tocSkip\"></span></h1>\n",
    "<div class=\"toc\"><ul class=\"toc-item\"><li><span><a href=\"#正規分布モデルの共役事前分布とその応用\" data-toc-modified-id=\"正規分布モデルの共役事前分布とその応用-1\"><span class=\"toc-item-num\">1&nbsp;&nbsp;</span>正規分布モデルの共役事前分布とその応用</a></span><ul class=\"toc-item\"><li><span><a href=\"#逆ガンマ正規分布\" data-toc-modified-id=\"逆ガンマ正規分布-1.1\"><span class=\"toc-item-num\">1.1&nbsp;&nbsp;</span>逆ガンマ正規分布</a></span></li><li><span><a href=\"#共役事前分布のBayes更新\" data-toc-modified-id=\"共役事前分布のBayes更新-1.2\"><span class=\"toc-item-num\">1.2&nbsp;&nbsp;</span>共役事前分布のBayes更新</a></span></li><li><span><a href=\"#μの周辺事前・事後分布および事前・事後予測分布\" data-toc-modified-id=\"μの周辺事前・事後分布および事前・事後予測分布-1.3\"><span class=\"toc-item-num\">1.3&nbsp;&nbsp;</span>μの周辺事前・事後分布および事前・事後予測分布</a></span></li><li><span><a href=\"#Jeffreys事前分布の場合\" data-toc-modified-id=\"Jeffreys事前分布の場合-1.4\"><span class=\"toc-item-num\">1.4&nbsp;&nbsp;</span>Jeffreys事前分布の場合</a></span></li><li><span><a href=\"#Jeffreys事前分布の場合の結果の数値的確認\" data-toc-modified-id=\"Jeffreys事前分布の場合の結果の数値的確認-1.5\"><span class=\"toc-item-num\">1.5&nbsp;&nbsp;</span>Jeffreys事前分布の場合の結果の数値的確認</a></span></li><li><span><a href=\"#平均と対数分散について一様な事前分布の場合\" data-toc-modified-id=\"平均と対数分散について一様な事前分布の場合-1.6\"><span class=\"toc-item-num\">1.6&nbsp;&nbsp;</span>平均と対数分散について一様な事前分布の場合</a></span></li><li><span><a href=\"#平均と対数分散について一様な事前分布の場合の結果の数値的確認\" data-toc-modified-id=\"平均と対数分散について一様な事前分布の場合の結果の数値的確認-1.7\"><span class=\"toc-item-num\">1.7&nbsp;&nbsp;</span>平均と対数分散について一様な事前分布の場合の結果の数値的確認</a></span></li><li><span><a href=\"#通常の信頼区間と予測区間との比較\" data-toc-modified-id=\"通常の信頼区間と予測区間との比較-1.8\"><span class=\"toc-item-num\">1.8&nbsp;&nbsp;</span>通常の信頼区間と予測区間との比較</a></span></li><li><span><a href=\"#データの数値から事前分布を決めた場合\" data-toc-modified-id=\"データの数値から事前分布を決めた場合-1.9\"><span class=\"toc-item-num\">1.9&nbsp;&nbsp;</span>データの数値から事前分布を決めた場合</a></span></li><li><span><a href=\"#n-=-5-では適応事前分布の場合と無情報事前分布の場合の結果が結構違う.\" data-toc-modified-id=\"n-=-5-では適応事前分布の場合と無情報事前分布の場合の結果が結構違う.-1.10\"><span class=\"toc-item-num\">1.10&nbsp;&nbsp;</span>n = 5 では適応事前分布の場合と無情報事前分布の場合の結果が結構違う.</a></span></li><li><span><a href=\"#n-=-20-ではデフォルト事前分布の場合と無情報事前分布の場合の結果が近付く.\" data-toc-modified-id=\"n-=-20-ではデフォルト事前分布の場合と無情報事前分布の場合の結果が近付く.-1.11\"><span class=\"toc-item-num\">1.11&nbsp;&nbsp;</span>n = 20 ではデフォルト事前分布の場合と無情報事前分布の場合の結果が近付く.</a></span></li><li><span><a href=\"#n-=-20-で事前分布とデータの数値の相性が悪い場合\" data-toc-modified-id=\"n-=-20-で事前分布とデータの数値の相性が悪い場合-1.12\"><span class=\"toc-item-num\">1.12&nbsp;&nbsp;</span>n = 20 で事前分布とデータの数値の相性が悪い場合</a></span></li></ul></li></ul></div>"
   ]
  },
  {
   "cell_type": "code",
   "execution_count": 1,
   "id": "85d483db",
   "metadata": {},
   "outputs": [],
   "source": [
    "using Distributions\n",
    "using LinearAlgebra\n",
    "using Random\n",
    "using StatsPlots\n",
    "default(fmt=:png, size=(500, 350),\n",
    "    titlefontsize=10, tickfontsize=6, guidefontsize=9,\n",
    "    plot_titlefontsize=10)\n",
    "using SymPy\n",
    "using Turing"
   ]
  },
  {
   "cell_type": "code",
   "execution_count": 2,
   "id": "f4756821",
   "metadata": {},
   "outputs": [],
   "source": [
    "# Override the Base.show definition of SymPy.jl:\n",
    "# https://github.com/JuliaPy/SymPy.jl/blob/29c5bfd1d10ac53014fa7fef468bc8deccadc2fc/src/types.jl#L87-L105\n",
    "\n",
    "@eval SymPy function Base.show(io::IO, ::MIME\"text/latex\", x::SymbolicObject)\n",
    "    print(io, as_markdown(\"\\\\displaystyle \" *\n",
    "            sympy.latex(x, mode=\"plain\", fold_short_frac=false)))\n",
    "end\n",
    "@eval SymPy function Base.show(io::IO, ::MIME\"text/latex\", x::AbstractArray{Sym})\n",
    "    function toeqnarray(x::Vector{Sym})\n",
    "        a = join([\"\\\\displaystyle \" *\n",
    "                sympy.latex(x[i]) for i in 1:length(x)], \"\\\\\\\\\")\n",
    "        \"\"\"\\\\left[ \\\\begin{array}{r}$a\\\\end{array} \\\\right]\"\"\"\n",
    "    end\n",
    "    function toeqnarray(x::AbstractArray{Sym,2})\n",
    "        sz = size(x)\n",
    "        a = join([join(\"\\\\displaystyle \" .* map(sympy.latex, x[i,:]), \"&\")\n",
    "                for i in 1:sz[1]], \"\\\\\\\\\")\n",
    "        \"\\\\left[ \\\\begin{array}{\" * repeat(\"r\",sz[2]) * \"}\" * a * \"\\\\end{array}\\\\right]\"\n",
    "    end\n",
    "    print(io, as_markdown(toeqnarray(x)))\n",
    "end"
   ]
  },
  {
   "cell_type": "code",
   "execution_count": 3,
   "id": "77bd529b",
   "metadata": {},
   "outputs": [
    {
     "data": {
      "text/plain": [
       "confint_ttest (generic function with 2 methods)"
      ]
     },
     "execution_count": 3,
     "metadata": {},
     "output_type": "execute_result"
    }
   ],
   "source": [
    "# One sample t-test\n",
    "\n",
    "function pvalue_ttest(x̄, s², n, μ)\n",
    "    t = (x̄ - μ)/√(s²/n)\n",
    "    2ccdf(TDist(n-1), abs(t))\n",
    "end\n",
    "\n",
    "function pvalue_ttest(x, μ)\n",
    "    x̄, s², n = mean(x), var(x), length(x)\n",
    "    pvalue_ttest(x̄, s², n, μ)\n",
    "end\n",
    "\n",
    "function confint_ttest(x̄, s², n; α = 0.05)\n",
    "    c = quantile(TDist(n-1), 1-α/2)\n",
    "    [x̄ - c*√(s²/n), x̄ + c*√(s²/n)]\n",
    "end\n",
    "\n",
    "function confint_ttest(x; α = 0.05)\n",
    "    x̄, s², n = mean(x), var(x), length(x)\n",
    "    confint_ttest(x̄, s², n; α)\n",
    "end"
   ]
  },
  {
   "cell_type": "code",
   "execution_count": 4,
   "id": "e87eab3b",
   "metadata": {},
   "outputs": [
    {
     "data": {
      "text/plain": [
       "preddist_ttest (generic function with 2 methods)"
      ]
     },
     "execution_count": 4,
     "metadata": {},
     "output_type": "execute_result"
    }
   ],
   "source": [
    "# Bayesian analogue of one sample t-test\n",
    "\n",
    "posterior_μ_ttest(n, x̄, s²) = x̄ + √(s²/n)*TDist(n-1)\n",
    "posterior_μ_ttest(x) = posterior_μ_ttest(length(x), mean(x), var(x))\n",
    "\n",
    "preddist_ttest(n, x̄, s²) = x̄ + √(s²*(1 + 1/n))*TDist(n-1)\n",
    "preddist_ttest(x) = preddist_ttest(length(x), mean(x), var(x))"
   ]
  },
  {
   "cell_type": "code",
   "execution_count": 5,
   "id": "17927fec",
   "metadata": {},
   "outputs": [
    {
     "data": {
      "text/latex": [
       "\\begin{verbatim}\n",
       "PowerPos(p::Real)\n",
       "\\end{verbatim}\n",
       "The \\emph{positive power distribution} with real-valued parameter \\texttt{p} is the improper distribution of real numbers that has the improper probability density function\n",
       "\n",
       "$$f(x) = \\begin{cases}\n",
       "0 & \\text{if } x \\leq 0, \\\\\n",
       "x^p & \\text{otherwise}.\n",
       "\\end{cases}$$\n"
      ],
      "text/markdown": [
       "```\n",
       "PowerPos(p::Real)\n",
       "```\n",
       "\n",
       "The *positive power distribution* with real-valued parameter `p` is the improper distribution of real numbers that has the improper probability density function\n",
       "\n",
       "$$\n",
       "f(x) = \\begin{cases}\n",
       "0 & \\text{if } x \\leq 0, \\\\\n",
       "x^p & \\text{otherwise}.\n",
       "\\end{cases}\n",
       "$$\n"
      ],
      "text/plain": [
       "\u001b[36m  PowerPos(p::Real)\u001b[39m\n",
       "\n",
       "  The \u001b[4mpositive power distribution\u001b[24m with real-valued parameter \u001b[36mp\u001b[39m is the improper\n",
       "  distribution of real numbers that has the improper probability density\n",
       "  function\n",
       "\n",
       "\u001b[35m  f(x) = \\begin{cases}\u001b[39m\n",
       "\u001b[35m0 & \\text{if } x \\leq 0, \\\\\u001b[39m\n",
       "\u001b[35mx^p & \\text{otherwise}.\u001b[39m\n",
       "\u001b[35m\\end{cases}\u001b[39m"
      ]
     },
     "execution_count": 5,
     "metadata": {},
     "output_type": "execute_result"
    }
   ],
   "source": [
    "# Jeffreys事前分布などのimproper事前分布を定義するために以下が使われる.\n",
    "\n",
    "\"\"\"\n",
    "    PowerPos(p::Real)\n",
    "\n",
    "The *positive power distribution* with real-valued parameter `p` is the improper distribution\n",
    "of real numbers that has the improper probability density function\n",
    "\n",
    "```math\n",
    "f(x) = \\\\begin{cases}\n",
    "0 & \\\\text{if } x \\\\leq 0, \\\\\\\\\n",
    "x^p & \\\\text{otherwise}.\n",
    "\\\\end{cases}\n",
    "```\n",
    "\"\"\"\n",
    "struct PowerPos{T<:Real} <: ContinuousUnivariateDistribution\n",
    "    p::T\n",
    "end\n",
    "PowerPos(p::Integer) = PowerPos(float(p))\n",
    "\n",
    "Base.minimum(d::PowerPos{T}) where T = zero(T)\n",
    "Base.maximum(d::PowerPos{T}) where T = T(Inf)\n",
    "\n",
    "Base.rand(rng::Random.AbstractRNG, d::PowerPos) = rand(rng) + 0.5\n",
    "function Distributions.logpdf(d::PowerPos, x::Real)\n",
    "    T = float(eltype(x))\n",
    "    return x ≤ 0 ? T(-Inf) : d.p*log(x)\n",
    "end\n",
    "\n",
    "Distributions.pdf(d::PowerPos, x::Real) = exp(logpdf(d, x))\n",
    "\n",
    "# For vec support\n",
    "function Distributions.loglikelihood(d::PowerPos, x::AbstractVector{<:Real})\n",
    "    T = float(eltype(x))\n",
    "    return any(xi ≤ 0 for xi in x) ? T(-Inf) : d.p*log(prod(x))\n",
    "end\n",
    "\n",
    "@doc PowerPos"
   ]
  },
  {
   "cell_type": "code",
   "execution_count": 6,
   "id": "9096a748",
   "metadata": {},
   "outputs": [
    {
     "data": {
      "text/plain": [
       "MyInverseGamma (generic function with 1 method)"
      ]
     },
     "execution_count": 6,
     "metadata": {},
     "output_type": "execute_result"
    }
   ],
   "source": [
    "# 以下は使わないが,\n",
    "# Flat() や PowerPos(p) と正規分布や逆ガンマ分布の関係は次のようになっている.\n",
    "\n",
    "MyNormal(μ, σ) = σ == Inf ? Flat() : Normal(μ, σ)\n",
    "MyInverseGamma(κ, θ) = θ == 0 ? PowerPos(-κ-1) : InverseGamma(κ, θ)"
   ]
  },
  {
   "cell_type": "markdown",
   "id": "87bff5dd",
   "metadata": {},
   "source": [
    "## 正規分布モデルの共役事前分布とその応用"
   ]
  },
  {
   "cell_type": "markdown",
   "id": "5b686cc7",
   "metadata": {},
   "source": [
    "### 逆ガンマ正規分布\n",
    "\n",
    "平均 $\\mu\\in\\R$, 分散 $v=\\sigma^2\\in\\R_{>0}$ の正規分布の確率密度函数を次のように表す:\n",
    "\n",
    "$$\n",
    "p_\\op{Normal}(y|\\mu, v) =\n",
    "\\frac{1}{\\sqrt{2\\pi v}}\\exp\\left(-\\frac{1}{2v}(y-\\mu)^2\\right)\n",
    "\\quad (y\\in \\R).\n",
    "$$\n",
    "\n",
    "分散パラメータ $\\sigma^2$ を $v$ に書き直している理由は, $\\sigma^2$ を1つの変数として扱いたいからである.\n",
    "\n",
    "パラメータ $\\kappa, \\theta > 0$ の逆ガンマ分布の確率密度函数を次のように書くことにする:\n",
    "\n",
    "$$\n",
    "p_\\op{InverseGamma}(v|\\kappa,\\theta) =\n",
    "\\frac{\\theta^\\kappa}{\\Gamma(\\kappa)}\n",
    "v^{-\\kappa-1}\\exp\\left(-\\frac{\\theta}{v}\\right)\n",
    "\\quad (v > 0).\n",
    "$$\n",
    "\n",
    "$v$ がこの逆ガンマ分布に従う確率変数だとすると, \n",
    "\n",
    "$$\n",
    "\\begin{aligned}\n",
    "&\n",
    "\\frac{1}{v} \\sim\n",
    "\\op{Gamma}\\left(\\kappa,\\, \\frac{1}{\\theta}\\right) =\n",
    "\\frac{1}{2\\theta}\\op{Gamma}\\left(\\frac{2\\kappa}{2},\\, 2\\right) =\n",
    "\\frac{1}{2\\theta}\\op{Chisq}(2\\kappa),\n",
    "\\\\ &\n",
    "E[v] = \\frac{\\theta}{\\kappa - 1}, \\quad\n",
    "\\var(v) = \\frac{E[v]^2}{\\kappa - 2}.\n",
    "\\end{aligned}\n",
    "$$\n",
    "\n",
    "$A$ と $B$ が $\\mu, v$ に関する定数因子の違いを除いて等しいことを $A\\propto B$ と書くことにする.\n",
    "\n",
    "逆ガンマ正規分布の密度函数を次のように定義する:\n",
    "\n",
    "$$\n",
    "\\begin{aligned}\n",
    "p_\\op{InverseGammaNormal}(\\mu,v|\\mu_*, v_*, \\kappa, \\theta) &=\n",
    "p_\\op{Normal}(\\mu|\\mu_*, v_* v) p_\\op{InverseGamma}(v|\\kappa, \\theta)\n",
    "\\\\ &\\propto\n",
    "v^{-(\\kappa+1/2)-1}\n",
    "\\exp\\left(-\\frac{1}{v}\\left(\\theta + \\frac{1}{2v_*}(\\mu-\\mu_*)^2\\right)\\right).\n",
    "\\end{aligned}\n",
    "$$\n",
    "\n",
    "この逆ガンマ正規分布の密度函数に従う確率変数を $\\mu,v$ と書くと,\n",
    "\n",
    "$$\n",
    "E[v] = \\frac{\\theta}{\\kappa-1}, \\quad\n",
    "\\var(v) = \\frac{E[v]^2}{\\kappa-2}, \\quad\n",
    "\\cov(\\mu, v) = 0, \\quad\n",
    "E[\\mu] = \\mu_*, \\quad\n",
    "\\var(\\mu) = v_* E[v].\n",
    "$$\n",
    "\n",
    "この逆ガンマ正規分布が正規分布の共役事前分布になっていることを次の節で確認する. "
   ]
  },
  {
   "cell_type": "markdown",
   "id": "fce7d41e",
   "metadata": {},
   "source": [
    "### 共役事前分布のBayes更新\n",
    "\n",
    "データの数値 $y_1,\\ldots,y_n$ が与えられたとき, 正規分布モデルの尤度函数は\n",
    "\n",
    "$$\n",
    "\\prod_{i=1}^n p_\\op{Normal}(y_i|\\mu,v) \\propto\n",
    "v^{-n/2}\\exp\\left(-\\frac{1}{2v}\\sum_{i=1}^n(y_i-\\mu)^2\\right)\n",
    "$$\n",
    "\n",
    "の形になる. このとき,\n",
    "\n",
    "$$\n",
    "\\ybar = \\frac{1}{n}\\sum_{i=1}^n y_i, \\quad\n",
    "\\sigmahat^2 = \\frac{1}{n}\\sum_{i=1}^n (y_i - \\ybar)^2.\n",
    "$$\n",
    "\n",
    "とおくと, \n",
    "\n",
    "$$\n",
    "\\sum_{i=1}^n(y_i-\\mu)^2 = n(\\mu - \\ybar)^2 + n\\sigmahat^2\n",
    "$$\n",
    "\n",
    "なので, 尤度を最大化する $\\mu, v$ は $\\mu=\\ybar$, $v=\\sigmahat^2$ になることがわかる.\n",
    "\n",
    "さらに, 次が成立することもわかる:\n",
    "\n",
    "$$\n",
    "\\begin{aligned}\n",
    "&\n",
    "\\prod_{i=1}^n p_\\op{Normal}(y_i|\\mu,v)\\times\n",
    "p_\\op{InverseGammaNormal}(\\mu,v|\\mu_*, v_*, \\kappa, \\theta)\n",
    "\\\\ &\\propto\n",
    "v^{-n/2}\\exp\\left(-\\frac{n}{2v}\\left((\\mu-\\ybar)^2 + \\sigmahat^2\\right)\\right)\\times\n",
    "v^{-(\\kappa+1/2)-1}\n",
    "\\exp\\left(-\\frac{1}{v}\\left(\\theta + \\frac{1}{2v_*}(\\mu-\\mu_*)^2\\right)\\right)\n",
    "\\\\ &=\n",
    "v^{-(\\kappa+n/2+1/2)-1}\n",
    "\\exp\\left(-\\frac{1}{v}\\left(\n",
    "\\theta + \\frac{n}{2}\\left(\\sigmahat^2 + \\frac{(\\ybar - \\mu_*)^2}{1+nv_*}\\right) +\n",
    "\\frac{1+nv_*}{2v_*}\\left(\\mu - \\frac{\\mu_*+nv_*\\ybar}{1+nv_*}\\right)^2\n",
    "\\right)\\right).\n",
    "\\end{aligned}\n",
    "$$\n",
    "\n",
    "ゆえに共役事前分布から得られる事後分布のパラメータは次のようになる:\n",
    "\n",
    "$$\n",
    "\\begin{alignedat}{2}\n",
    "&\n",
    "\\tilde\\kappa = \\kappa + \\frac{n}{2} =\n",
    "\\frac{n}{2}\\left(1 + \\frac{2\\kappa}{n}\\right), \n",
    "\\\\ &\n",
    "\\tilde\\theta =\n",
    "\\theta + \\frac{n}{2}\\left(\\sigmahat^2 + \\frac{(\\ybar - \\mu_*)^2}{1+nv_*}\\right) =\n",
    "\\frac{n\\sigmahat^2}{2}\\left(1 + \\frac{2\\theta}{n\\sigmahat^2} + \\frac{(\\ybar - \\mu_*)^2}{(1+nv_*)\\sigmahat^2}\\right),\n",
    "\\\\ &\n",
    "\\tilde\\mu_* = \\frac{\\mu_*+nv_*\\ybar}{1+nv_*} =\n",
    "\\ybar\\frac{1+\\mu_*/(nv_*\\ybar)}{1+1/(nv_*)}, \n",
    "\\\\ &\n",
    "\\tilde v_* = \\frac{v_*}{1+nv_*} =\n",
    "\\frac{1}{n}\\frac{1}{1+1/(nv_*)}.\n",
    "\\end{alignedat}\n",
    "$$"
   ]
  },
  {
   "cell_type": "code",
   "execution_count": 7,
   "id": "9ba46bbb",
   "metadata": {},
   "outputs": [
    {
     "data": {
      "text/plain": [
       "bayesian_update (generic function with 2 methods)"
      ]
     },
     "execution_count": 7,
     "metadata": {},
     "output_type": "execute_result"
    }
   ],
   "source": [
    "function bayesian_update(μstar, vstar, κ, θ, n, ȳ, σ̂²)\n",
    "    μstar_new = (μstar/vstar + n*ȳ)/(1/vstar + n)\n",
    "    vstar_new = 1/(1/vstar + n)\n",
    "    κ_new = κ + n/2\n",
    "    θ_new = θ + (n/2)*(σ̂² + ((ȳ - μstar)^2/vstar)/(1/vstar + n))\n",
    "    μstar_new, vstar_new, κ_new, θ_new\n",
    "end\n",
    "\n",
    "function bayesian_update(μstar, vstar, κ, θ, y)\n",
    "    n, ȳ, σ̂² = length(y), mean(y), var(y; corrected=false)\n",
    "    bayesian_update(μstar, vstar, κ, θ, n, ȳ, σ̂²)\n",
    "end"
   ]
  },
  {
   "cell_type": "code",
   "execution_count": 8,
   "id": "0f843295",
   "metadata": {},
   "outputs": [
    {
     "data": {
      "text/plain": [
       "(n, ȳ, v̂, μ, v, μ0, v0, κ, θ)"
      ]
     },
     "execution_count": 8,
     "metadata": {},
     "output_type": "execute_result"
    }
   ],
   "source": [
    "@vars n ȳ v̂ μ v μ0 v0 κ θ"
   ]
  },
  {
   "cell_type": "code",
   "execution_count": 9,
   "id": "6f807493",
   "metadata": {},
   "outputs": [
    {
     "data": {
      "text/latex": [
       "$\\displaystyle \\frac{n \\log{\\left(v \\right)}}{2} + \\frac{n \\left(v̂ + \\left(- ȳ + μ\\right)^{2}\\right)}{2 v}$\n"
      ],
      "text/plain": [
       "             /            2\\\n",
       "n*log(v)   n*\\v̂ + (-ȳ + μ) /\n",
       "-------- + -----------------\n",
       "   2              2*v       "
      ]
     },
     "execution_count": 9,
     "metadata": {},
     "output_type": "execute_result"
    }
   ],
   "source": [
    "negloglik = n/2*log(v) + n/(2v)*((μ - ȳ)^2 + v̂)"
   ]
  },
  {
   "cell_type": "code",
   "execution_count": 10,
   "id": "b6f95765",
   "metadata": {},
   "outputs": [
    {
     "data": {
      "text/latex": [
       "$\\displaystyle \\left(κ + \\frac{3}{2}\\right) \\log{\\left(v \\right)} + \\frac{θ + \\frac{\\left(μ - μ_{0}\\right)^{2}}{2 v_{0}}}{v}$\n"
      ],
      "text/plain": [
       "                               2\n",
       "                       (μ - μ0) \n",
       "                   θ + ---------\n",
       "                          2*v0  \n",
       "(κ + 3/2)*log(v) + -------------\n",
       "                         v      "
      ]
     },
     "execution_count": 10,
     "metadata": {},
     "output_type": "execute_result"
    }
   ],
   "source": [
    "neglogpri = (κ + 1//2 + 1)*log(v) + 1/v*(θ + 1/(2v0)*(μ-μ0)^2)"
   ]
  },
  {
   "cell_type": "code",
   "execution_count": 11,
   "id": "1f5231f6",
   "metadata": {},
   "outputs": [
    {
     "data": {
      "text/latex": [
       "$\\displaystyle \\left(\\frac{n}{2} + κ + \\frac{3}{2}\\right) \\log{\\left(v \\right)} + \\frac{\\frac{n \\left(v̂ + \\frac{\\left(ȳ - μ_{0}\\right)^{2}}{n v_{0} + 1}\\right)}{2} + θ + \\frac{\\left(μ - \\frac{n v_{0} ȳ + μ_{0}}{n v_{0} + 1}\\right)^{2} \\left(n v_{0} + 1\\right)}{2 v_{0}}}{v}$\n"
      ],
      "text/plain": [
       "                       /            2\\                        2           \n",
       "                       |    (ȳ - μ0) |       /    n*v0*ȳ + μ0\\            \n",
       "                     n*|v̂ + ---------|       |μ - -----------| *(n*v0 + 1)\n",
       "                       \\     n*v0 + 1/       \\      n*v0 + 1 /            \n",
       "                     ----------------- + θ + -----------------------------\n",
       "/n       3\\                  2                            2*v0            \n",
       "|- + κ + -|*log(v) + -----------------------------------------------------\n",
       "\\2       2/                                    v                          "
      ]
     },
     "execution_count": 11,
     "metadata": {},
     "output_type": "execute_result"
    }
   ],
   "source": [
    "neglogpost = (κ + n/2 + 1//2 + 1)*log(v) +  1/v*(\n",
    "    θ + n/2*(v̂ + 1/(1+n*v0)*(ȳ - μ0)^2) +\n",
    "    (1 + n*v0)/(2v0)*(μ - (μ0 + n*v0*ȳ)/(1 + n*v0))^2)"
   ]
  },
  {
   "cell_type": "code",
   "execution_count": 12,
   "id": "f2c4b1df",
   "metadata": {},
   "outputs": [
    {
     "data": {
      "text/latex": [
       "$\\displaystyle 0$\n"
      ],
      "text/plain": [
       "0"
      ]
     },
     "execution_count": 12,
     "metadata": {},
     "output_type": "execute_result"
    }
   ],
   "source": [
    "simplify(negloglik + neglogpri - neglogpost)"
   ]
  },
  {
   "cell_type": "code",
   "execution_count": 13,
   "id": "12d4d8fc",
   "metadata": {},
   "outputs": [
    {
     "data": {
      "text/latex": [
       "$\\left[ \\begin{array}{r}\\displaystyle \\frac{n ȳ + \\frac{μ_{0}}{v_{0}}}{n + \\frac{1}{v_{0}}}\\\\\\displaystyle \\frac{1}{n + \\frac{1}{v_{0}}}\\\\\\displaystyle \\frac{n}{2} + κ\\\\\\displaystyle \\frac{n \\left(v̂ + \\frac{\\left(ȳ - μ_{0}\\right)^{2}}{v_{0} \\left(n + \\frac{1}{v_{0}}\\right)}\\right)}{2} + θ\\end{array} \\right]$\n"
      ],
      "text/plain": [
       "4-element Vector{Sym}:\n",
       "                  (n*ȳ + μ0/v0)/(n + 1/v0)\n",
       "                              1/(n + 1/v0)\n",
       "                                   n/2 + κ\n",
       " n*(v̂ + (ȳ - μ0)^2/(v0*(n + 1/v0)))/2 + θ"
      ]
     },
     "execution_count": 13,
     "metadata": {},
     "output_type": "execute_result"
    }
   ],
   "source": [
    "bayesian_update(μ0, v0, κ, θ, n, ȳ, v̂) |> collect"
   ]
  },
  {
   "cell_type": "markdown",
   "id": "6addf8f7",
   "metadata": {},
   "source": [
    "### μの周辺事前・事後分布および事前・事後予測分布\n",
    "\n",
    "確率密度函数\n",
    "\n",
    "$$\n",
    "p(\\mu|\\mu_*,v_*,\\kappa,\\theta) =\n",
    "\\int_{\\R_{>0}} p_\\op{InverseGammaNormal}(\\mu,v|\\mu_*,v_*,\\kappa,\\theta) \\,dv\n",
    "$$\n",
    "\n",
    "で定義される$\\mu$ の周辺事前分布は次になる:\n",
    "\n",
    "$$\n",
    "\\mu \\sim\n",
    "\\mu_* + \\sqrt{\\frac{\\theta}{\\kappa}v_*}\\;\\op{TDist}(2\\kappa).\n",
    "$$\n",
    "\n",
    "確率密度函数\n",
    "\n",
    "$$\n",
    "p_*(y_\\op{new}|\\mu_*,v_*,\\kappa,\\theta) =\n",
    "\\iint_{\\R\\times\\R_{>0}}\n",
    "p_\\op{Normal}(y_\\op{new}|\\mu,v)\n",
    "p_\\op{InverseGammaNormal}(\\mu,v|\\mu_*,v_*,\\kappa,\\theta)\n",
    "\\,d\\mu\\,dv\n",
    "$$\n",
    "\n",
    "で定義される $y_\\op{new}$ の事前予測分布は次になる:\n",
    "\n",
    "$$\n",
    "y_\\op{new} \\sim\n",
    "\\mu_* + \\sqrt{\\frac{\\theta}{\\kappa}(1+v_*)}\\;\\op{TDist}(2\\kappa).\n",
    "$$\n",
    "\n",
    "パラメータをBayes更新後のパラメータ\n",
    "\n",
    "$$\n",
    "\\begin{alignedat}{2}\n",
    "&\n",
    "\\tilde\\kappa = \\kappa + \\frac{n}{2} =\n",
    "\\frac{n}{2}\\left(1 + \\frac{2\\kappa}{n}\\right), \n",
    "\\\\ &\n",
    "\\tilde\\theta =\n",
    "\\theta + \\frac{n}{2}\\left(\\sigmahat^2 + \\frac{(\\ybar - \\mu_*)^2}{1+nv_*}\\right) =\n",
    "\\frac{n\\sigmahat^2}{2}\\left(1 + \\frac{2\\theta}{n\\sigmahat^2} + \\frac{(\\ybar - \\mu_*)^2}{(1+nv_*)\\sigmahat^2}\\right),\n",
    "\\\\ &\n",
    "\\tilde\\mu_* = \\frac{\\mu_*+nv_*\\ybar}{1+nv_*} =\n",
    "\\ybar\\frac{1+\\mu_*/(nv_*\\ybar)}{1+1/(nv_*)}, \n",
    "\\\\ &\n",
    "\\tilde v_* = \\frac{v_*}{1+nv_*} =\n",
    "\\frac{1}{n}\\frac{1}{1+1/(nv_*)}.\n",
    "\\end{alignedat}\n",
    "$$\n",
    "\n",
    "に置き換えればこれは $\\mu$ の周辺事後分布および事後予測分布になる.\n",
    "\n",
    "その事後分布を使った区間推定の幅は\n",
    "\n",
    "* $n$ が大きいほど狭くなる.\n",
    "* $\\kappa$ が大きいほど狭くなる.\n",
    "* $\\theta$ が大きいほど広くなる.\n",
    "* $|\\ybar - \\mu_*|/\\sigmahat$ が大きいほど広くなる.\n",
    "* $|\\ybar - \\mu_*|/\\sigmahat$ が大きくても, $v_*$ がさらに大きければ狭くなる."
   ]
  },
  {
   "cell_type": "code",
   "execution_count": 14,
   "id": "69d45ee2",
   "metadata": {},
   "outputs": [
    {
     "data": {
      "text/plain": [
       "preddist (generic function with 1 method)"
      ]
     },
     "execution_count": 14,
     "metadata": {},
     "output_type": "execute_result"
    }
   ],
   "source": [
    "posterior_μ(μstar, vstar, κ, θ) = μstar + √(θ/κ*vstar)*TDist(2κ)\n",
    "preddist(μstar, vstar, κ, θ) = μstar + √(θ/κ*(1 + vstar))*TDist(2κ)"
   ]
  },
  {
   "cell_type": "markdown",
   "id": "23707709",
   "metadata": {},
   "source": [
    "### Jeffreys事前分布の場合\n",
    "\n",
    "\n",
    "パラメータ空間が $\\{(\\mu, v)=(\\mu, \\sigma^2)\\in\\R\\times\\R_{>0}\\}$ の $2$ 次元の正規分布モデルのJeffreys事前分布 $p_\\op{Jeffreys}(\\mu,v)$ は\n",
    "\n",
    "$$\n",
    "p_\\op{Jeffreys}(\\mu,v) \\propto v^{-3/2}\n",
    "$$\n",
    "\n",
    "になることが知られている. ただし, 右辺の $(\\mu,v)\\in\\R\\times\\R_{>0}$ に関する積分は $\\infty$ になるので, この場合のJeffreys事前分布はimproperである.\n",
    "\n",
    "逆ガンマ正規分布の密度函数\n",
    "\n",
    "$$\n",
    "p_\\op{InverseGammaNormal}(\\mu,v|\\mu_*, v_*, \\kappa, \\theta) \\propto\n",
    "v^{-(\\kappa+1/2)-1}\n",
    "\\exp\\left(-\\frac{1}{v}\\left(\\theta + \\frac{1}{2v_*}(\\mu-\\mu_*)^2\\right)\\right).\n",
    "$$\n",
    "\n",
    "と比較すると, Jeffreys事前分布に対応する共役事前分布のパラメータ値は形式的に次になることがわかる:\n",
    "\n",
    "$$\n",
    "\\kappa \\to 0, \\quad\n",
    "\\theta \\to 0, \\quad\n",
    "v_* \\to \\infty.\n",
    "$$\n",
    "\n",
    "そのとき, Bayes更新後のパラメータの公式は次のようにシンプルになる:\n",
    "\n",
    "$$\n",
    "\\tilde\\kappa = \\frac{n}{2}, \\quad\n",
    "\\tilde\\theta = \\frac{n\\sigmahat^2}{2}, \\quad\n",
    "\\tilde\\mu_* = \\ybar, \\quad\n",
    "\\tilde v_* = \\frac{1}{n}.\n",
    "$$\n",
    "\n",
    "さらに, 前節の公式から, $n\\to\\infty$ のとき, 一般のパラメータ値に関するBayes更新の結果は, $n\\to\\infty$ のとき漸近的にこのJeffreys事前分布の場合に一致する.\n",
    "\n",
    "さらに, Jeffreys事前分布の場合には\n",
    "\n",
    "$$\n",
    "\\frac{\\tilde\\theta}{\\tilde\\kappa} = \\sigmahat^2, \\quad\n",
    "\\tilde v_* = \\frac{1}{n}, \\quad\n",
    "2\\tilde\\kappa = n.\n",
    "$$\n",
    "\n",
    "ゆえに, $\\mu$ に関する周辺事後分布は\n",
    "\n",
    "$$\n",
    "\\mu \\sim\n",
    "\\ybar + \\frac{\\sigmahat}{\\sqrt{n}}\\;\\op{TDist}(n)\n",
    "$$\n",
    "\n",
    "になり, 事後予測分布は次になる:\n",
    "\n",
    "$$\n",
    "y_\\op{new} \\sim\n",
    "\\ybar + \\sigmahat\\sqrt{1+\\frac{1}{n}}\\;\\op{TDist}(n).\n",
    "$$"
   ]
  },
  {
   "cell_type": "code",
   "execution_count": 15,
   "id": "49442d75",
   "metadata": {},
   "outputs": [
    {
     "data": {
      "text/plain": [
       "preddist_jeffreys (generic function with 2 methods)"
      ]
     },
     "execution_count": 15,
     "metadata": {},
     "output_type": "execute_result"
    }
   ],
   "source": [
    "prior_jeffreys() = 0.0, Inf, 0.0, 0.0\n",
    "\n",
    "posterior_μ_jeffreys(n, ȳ, σ̂²) = ȳ + √(σ̂²/n)*TDist(n)\n",
    "\n",
    "function posterior_μ_jeffreys(y)\n",
    "    n, ȳ, σ̂² = length(y), mean(y), var(y; corrected=false)\n",
    "    posterior_μ_jeffreys(n, ȳ, σ̂²)\n",
    "end\n",
    "\n",
    "preddist_jeffreys(n, ȳ, σ̂²) = ȳ + √(σ̂²*(1+1/n))*TDist(n)\n",
    "\n",
    "function preddist_jeffreys(y)\n",
    "    n, ȳ, σ̂² = length(y), mean(y), var(y; corrected=false)\n",
    "    preddist_jeffreys(n, ȳ, σ̂²)\n",
    "end"
   ]
  },
  {
   "cell_type": "code",
   "execution_count": 16,
   "id": "4fc84e9c",
   "metadata": {},
   "outputs": [
    {
     "name": "stdout",
     "output_type": "stream",
     "text": [
      "dist_true = Normal(μ_true, σ_true) = Normal{Float64}(μ=10.0, σ=3.0)\n",
      "n = 5\n"
     ]
    },
    {
     "data": {
      "text/plain": [
       "5-element Vector{Float64}:\n",
       "  6.322951193124291\n",
       "  9.946379163437928\n",
       "  7.9722911858269345\n",
       "  9.34389126409585\n",
       " 11.409571604932198"
      ]
     },
     "execution_count": 16,
     "metadata": {},
     "output_type": "execute_result"
    }
   ],
   "source": [
    "μ_true, σ_true, n = 10, 3, 5\n",
    "@show dist_true = Normal(μ_true, σ_true) n\n",
    "y = rand(Normal(μ_true, σ_true), n)"
   ]
  },
  {
   "cell_type": "code",
   "execution_count": 17,
   "id": "0f67b067",
   "metadata": {},
   "outputs": [
    {
     "data": {
      "text/plain": [
       "(5, 8.99901688228344, 3.008540186065577)"
      ]
     },
     "execution_count": 17,
     "metadata": {},
     "output_type": "execute_result"
    }
   ],
   "source": [
    "n, ȳ, σ̂² = length(y), mean(y), var(y; corrected=false)"
   ]
  },
  {
   "cell_type": "code",
   "execution_count": 18,
   "id": "ef6b67d7",
   "metadata": {},
   "outputs": [
    {
     "data": {
      "text/plain": [
       "LocationScale{Float64, Continuous, TDist{Float64}}(\n",
       "μ: 8.99901688228344\n",
       "σ: 0.7756984189832512\n",
       "ρ: TDist{Float64}(ν=5.0)\n",
       ")\n"
      ]
     },
     "execution_count": 18,
     "metadata": {},
     "output_type": "execute_result"
    }
   ],
   "source": [
    "post_μ = posterior_μ(bayesian_update(prior_jeffreys()..., y)...)"
   ]
  },
  {
   "cell_type": "code",
   "execution_count": 19,
   "id": "51e78a05",
   "metadata": {},
   "outputs": [
    {
     "data": {
      "text/plain": [
       "true"
      ]
     },
     "execution_count": 19,
     "metadata": {},
     "output_type": "execute_result"
    }
   ],
   "source": [
    "posterior_μ_jeffreys(y) ≈ post_μ"
   ]
  },
  {
   "cell_type": "markdown",
   "id": "b2990864",
   "metadata": {},
   "source": [
    "### Jeffreys事前分布の場合の結果の数値的確認"
   ]
  },
  {
   "cell_type": "code",
   "execution_count": 20,
   "id": "b45b67d7",
   "metadata": {},
   "outputs": [
    {
     "data": {
      "text/plain": [
       "normaldistmodel_jeffreys (generic function with 2 methods)"
      ]
     },
     "execution_count": 20,
     "metadata": {},
     "output_type": "execute_result"
    }
   ],
   "source": [
    "@model function normaldistmodel_jeffreys(y)\n",
    "    σ² ~ PowerPos(-3/2)\n",
    "    μ ~ Flat()\n",
    "    y ~ MvNormal(fill(μ, length(y)), σ²*I)\n",
    "end"
   ]
  },
  {
   "cell_type": "code",
   "execution_count": 21,
   "id": "67f0a593",
   "metadata": {},
   "outputs": [
    {
     "name": "stdout",
     "output_type": "stream",
     "text": [
      "dist_true = Normal(μ_true, σ_true) = Normal{Float64}(μ=10000.0, σ=100.0)\n",
      "n = 5\n"
     ]
    },
    {
     "data": {
      "text/plain": [
       "5-element Vector{Float64}:\n",
       "  9981.783209682842\n",
       " 10005.807009743283\n",
       " 10091.986287960644\n",
       " 10228.19618929372\n",
       " 10113.062364186091"
      ]
     },
     "execution_count": 21,
     "metadata": {},
     "output_type": "execute_result"
    }
   ],
   "source": [
    "μ_true, σ_true, n = 1e4, 1e2, 5\n",
    "@show dist_true = Normal(μ_true, σ_true) n\n",
    "y = rand(Normal(μ_true, σ_true), n)"
   ]
  },
  {
   "cell_type": "code",
   "execution_count": 22,
   "id": "c0c75cd2",
   "metadata": {},
   "outputs": [
    {
     "name": "stderr",
     "output_type": "stream",
     "text": [
      "┌ Warning: The current proposal will be rejected due to numerical error(s).\n",
      "│   isfinite.((θ, r, ℓπ, ℓκ)) = (true, false, false, false)\n",
      "└ @ AdvancedHMC D:\\.julia\\packages\\AdvancedHMC\\51xgc\\src\\hamiltonian.jl:47\n",
      "┌ Warning: The current proposal will be rejected due to numerical error(s).\n",
      "│   isfinite.((θ, r, ℓπ, ℓκ)) = (true, false, false, false)\n",
      "└ @ AdvancedHMC D:\\.julia\\packages\\AdvancedHMC\\51xgc\\src\\hamiltonian.jl:47\n",
      "┌ Warning: The current proposal will be rejected due to numerical error(s).\n",
      "│   isfinite.((θ, r, ℓπ, ℓκ)) = (true, false, false, false)\n",
      "└ @ AdvancedHMC D:\\.julia\\packages\\AdvancedHMC\\51xgc\\src\\hamiltonian.jl:47\n",
      "┌ Warning: The current proposal will be rejected due to numerical error(s).\n",
      "│   isfinite.((θ, r, ℓπ, ℓκ)) = (true, false, false, false)\n",
      "└ @ AdvancedHMC D:\\.julia\\packages\\AdvancedHMC\\51xgc\\src\\hamiltonian.jl:47\n",
      "┌ Warning: The current proposal will be rejected due to numerical error(s).\n",
      "│   isfinite.((θ, r, ℓπ, ℓκ)) = (true, false, false, false)\n",
      "└ @ AdvancedHMC D:\\.julia\\packages\\AdvancedHMC\\51xgc\\src\\hamiltonian.jl:47\n",
      "┌ Warning: The current proposal will be rejected due to numerical error(s).\n",
      "│   isfinite.((θ, r, ℓπ, ℓκ)) = (true, false, false, false)\n",
      "└ @ AdvancedHMC D:\\.julia\\packages\\AdvancedHMC\\51xgc\\src\\hamiltonian.jl:47\n",
      "┌ Warning: The current proposal will be rejected due to numerical error(s).\n",
      "│   isfinite.((θ, r, ℓπ, ℓκ)) = (true, false, false, false)\n",
      "└ @ AdvancedHMC D:\\.julia\\packages\\AdvancedHMC\\51xgc\\src\\hamiltonian.jl:47\n",
      "┌ Warning: The current proposal will be rejected due to numerical error(s).\n",
      "│   isfinite.((θ, r, ℓπ, ℓκ)) = (true, false, false, false)\n",
      "└ @ AdvancedHMC D:\\.julia\\packages\\AdvancedHMC\\51xgc\\src\\hamiltonian.jl:47\n",
      "┌ Warning: The current proposal will be rejected due to numerical error(s).\n",
      "│   isfinite.((θ, r, ℓπ, ℓκ)) = (true, false, false, false)\n",
      "└ @ AdvancedHMC D:\\.julia\\packages\\AdvancedHMC\\51xgc\\src\\hamiltonian.jl:47\n",
      "┌ Warning: The current proposal will be rejected due to numerical error(s).\n",
      "│   isfinite.((θ, r, ℓπ, ℓκ)) = (true, false, false, false)\n",
      "└ @ AdvancedHMC D:\\.julia\\packages\\AdvancedHMC\\51xgc\\src\\hamiltonian.jl:47\n",
      "┌ Warning: The current proposal will be rejected due to numerical error(s).\n",
      "│   isfinite.((θ, r, ℓπ, ℓκ)) = (true, false, false, false)\n",
      "└ @ AdvancedHMC D:\\.julia\\packages\\AdvancedHMC\\51xgc\\src\\hamiltonian.jl:47\n",
      "┌ Warning: The current proposal will be rejected due to numerical error(s).\n",
      "│   isfinite.((θ, r, ℓπ, ℓκ)) = (true, false, false, false)\n",
      "└ @ AdvancedHMC D:\\.julia\\packages\\AdvancedHMC\\51xgc\\src\\hamiltonian.jl:47\n",
      "┌ Warning: The current proposal will be rejected due to numerical error(s).\n",
      "│   isfinite.((θ, r, ℓπ, ℓκ)) = (true, false, false, false)\n",
      "└ @ AdvancedHMC D:\\.julia\\packages\\AdvancedHMC\\51xgc\\src\\hamiltonian.jl:47\n",
      "┌ Warning: The current proposal will be rejected due to numerical error(s).\n",
      "│   isfinite.((θ, r, ℓπ, ℓκ)) = (true, false, false, false)\n",
      "└ @ AdvancedHMC D:\\.julia\\packages\\AdvancedHMC\\51xgc\\src\\hamiltonian.jl:47\n",
      "┌ Warning: The current proposal will be rejected due to numerical error(s).\n",
      "│   isfinite.((θ, r, ℓπ, ℓκ)) = (true, false, false, false)\n",
      "└ @ AdvancedHMC D:\\.julia\\packages\\AdvancedHMC\\51xgc\\src\\hamiltonian.jl:47\n",
      "┌ Warning: The current proposal will be rejected due to numerical error(s).\n",
      "│   isfinite.((θ, r, ℓπ, ℓκ)) = (true, false, false, false)\n",
      "└ @ AdvancedHMC D:\\.julia\\packages\\AdvancedHMC\\51xgc\\src\\hamiltonian.jl:47\n",
      "┌ Warning: The current proposal will be rejected due to numerical error(s).\n",
      "│   isfinite.((θ, r, ℓπ, ℓκ)) = (true, false, false, false)\n",
      "└ @ AdvancedHMC D:\\.julia\\packages\\AdvancedHMC\\51xgc\\src\\hamiltonian.jl:47\n",
      "┌ Warning: The current proposal will be rejected due to numerical error(s).\n",
      "│   isfinite.((θ, r, ℓπ, ℓκ)) = (true, false, false, false)\n",
      "└ @ AdvancedHMC D:\\.julia\\packages\\AdvancedHMC\\51xgc\\src\\hamiltonian.jl:47\n",
      "┌ Warning: The current proposal will be rejected due to numerical error(s).\n",
      "│   isfinite.((θ, r, ℓπ, ℓκ)) = (true, false, false, false)\n",
      "└ @ AdvancedHMC D:\\.julia\\packages\\AdvancedHMC\\51xgc\\src\\hamiltonian.jl:47\n",
      "┌ Warning: The current proposal will be rejected due to numerical error(s).\n",
      "│   isfinite.((θ, r, ℓπ, ℓκ)) = (true, false, false, false)\n",
      "└ @ AdvancedHMC D:\\.julia\\packages\\AdvancedHMC\\51xgc\\src\\hamiltonian.jl:47\n",
      "┌ Warning: The current proposal will be rejected due to numerical error(s).\n",
      "│   isfinite.((θ, r, ℓπ, ℓκ)) = (true, false, false, false)\n",
      "└ @ AdvancedHMC D:\\.julia\\packages\\AdvancedHMC\\51xgc\\src\\hamiltonian.jl:47\n",
      "┌ Warning: The current proposal will be rejected due to numerical error(s).\n",
      "│   isfinite.((θ, r, ℓπ, ℓκ)) = (true, false, false, false)\n",
      "└ @ AdvancedHMC D:\\.julia\\packages\\AdvancedHMC\\51xgc\\src\\hamiltonian.jl:47\n",
      "┌ Warning: The current proposal will be rejected due to numerical error(s).\n",
      "│   isfinite.((θ, r, ℓπ, ℓκ)) = (true, false, false, false)\n",
      "└ @ AdvancedHMC D:\\.julia\\packages\\AdvancedHMC\\51xgc\\src\\hamiltonian.jl:47\n",
      "┌ Warning: The current proposal will be rejected due to numerical error(s).\n",
      "│   isfinite.((θ, r, ℓπ, ℓκ)) = (true, false, false, false)\n",
      "└ @ AdvancedHMC D:\\.julia\\packages\\AdvancedHMC\\51xgc\\src\\hamiltonian.jl:47\n",
      "┌ Warning: The current proposal will be rejected due to numerical error(s).\n",
      "│   isfinite.((θ, r, ℓπ, ℓκ)) = (true, false, false, false)\n",
      "└ @ AdvancedHMC D:\\.julia\\packages\\AdvancedHMC\\51xgc\\src\\hamiltonian.jl:47\n",
      "┌ Warning: The current proposal will be rejected due to numerical error(s).\n",
      "│   isfinite.((θ, r, ℓπ, ℓκ)) = (true, false, false, false)\n",
      "└ @ AdvancedHMC D:\\.julia\\packages\\AdvancedHMC\\51xgc\\src\\hamiltonian.jl:47\n",
      "┌ Warning: The current proposal will be rejected due to numerical error(s).\n",
      "│   isfinite.((θ, r, ℓπ, ℓκ)) = (true, false, false, false)\n",
      "└ @ AdvancedHMC D:\\.julia\\packages\\AdvancedHMC\\51xgc\\src\\hamiltonian.jl:47\n",
      "┌ Warning: The current proposal will be rejected due to numerical error(s).\n",
      "│   isfinite.((θ, r, ℓπ, ℓκ)) = (true, false, false, false)\n",
      "└ @ AdvancedHMC D:\\.julia\\packages\\AdvancedHMC\\51xgc\\src\\hamiltonian.jl:47\n",
      "┌ Warning: The current proposal will be rejected due to numerical error(s).\n",
      "│   isfinite.((θ, r, ℓπ, ℓκ)) = (true, false, false, false)\n",
      "└ @ AdvancedHMC D:\\.julia\\packages\\AdvancedHMC\\51xgc\\src\\hamiltonian.jl:47\n",
      "┌ Warning: The current proposal will be rejected due to numerical error(s).\n",
      "│   isfinite.((θ, r, ℓπ, ℓκ)) = (true, false, false, false)\n",
      "└ @ AdvancedHMC D:\\.julia\\packages\\AdvancedHMC\\51xgc\\src\\hamiltonian.jl:47\n",
      "┌ Warning: The current proposal will be rejected due to numerical error(s).\n",
      "│   isfinite.((θ, r, ℓπ, ℓκ)) = (true, false, false, false)\n",
      "└ @ AdvancedHMC D:\\.julia\\packages\\AdvancedHMC\\51xgc\\src\\hamiltonian.jl:47\n",
      "┌ Warning: The current proposal will be rejected due to numerical error(s).\n",
      "│   isfinite.((θ, r, ℓπ, ℓκ)) = (true, false, false, false)\n",
      "└ @ AdvancedHMC D:\\.julia\\packages\\AdvancedHMC\\51xgc\\src\\hamiltonian.jl:47\n",
      "┌ Warning: The current proposal will be rejected due to numerical error(s).\n",
      "│   isfinite.((θ, r, ℓπ, ℓκ)) = (true, false, false, false)\n",
      "└ @ AdvancedHMC D:\\.julia\\packages\\AdvancedHMC\\51xgc\\src\\hamiltonian.jl:47\n",
      "┌ Warning: The current proposal will be rejected due to numerical error(s).\n",
      "│   isfinite.((θ, r, ℓπ, ℓκ)) = (true, false, false, false)\n",
      "└ @ AdvancedHMC D:\\.julia\\packages\\AdvancedHMC\\51xgc\\src\\hamiltonian.jl:47\n",
      "┌ Warning: The current proposal will be rejected due to numerical error(s).\n",
      "│   isfinite.((θ, r, ℓπ, ℓκ)) = (true, false, false, false)\n",
      "└ @ AdvancedHMC D:\\.julia\\packages\\AdvancedHMC\\51xgc\\src\\hamiltonian.jl:47\n",
      "┌ Warning: The current proposal will be rejected due to numerical error(s).\n",
      "│   isfinite.((θ, r, ℓπ, ℓκ)) = (true, false, false, false)\n",
      "└ @ AdvancedHMC D:\\.julia\\packages\\AdvancedHMC\\51xgc\\src\\hamiltonian.jl:47\n",
      "┌ Warning: The current proposal will be rejected due to numerical error(s).\n",
      "│   isfinite.((θ, r, ℓπ, ℓκ)) = (true, false, false, false)\n",
      "└ @ AdvancedHMC D:\\.julia\\packages\\AdvancedHMC\\51xgc\\src\\hamiltonian.jl:47\n",
      "┌ Warning: The current proposal will be rejected due to numerical error(s).\n",
      "│   isfinite.((θ, r, ℓπ, ℓκ)) = (true, false, false, false)\n",
      "└ @ AdvancedHMC D:\\.julia\\packages\\AdvancedHMC\\51xgc\\src\\hamiltonian.jl:47\n",
      "┌ Warning: The current proposal will be rejected due to numerical error(s).\n",
      "│   isfinite.((θ, r, ℓπ, ℓκ)) = (true, false, false, false)\n",
      "└ @ AdvancedHMC D:\\.julia\\packages\\AdvancedHMC\\51xgc\\src\\hamiltonian.jl:47\n",
      "┌ Warning: The current proposal will be rejected due to numerical error(s).\n",
      "│   isfinite.((θ, r, ℓπ, ℓκ)) = (true, false, false, false)\n",
      "└ @ AdvancedHMC D:\\.julia\\packages\\AdvancedHMC\\51xgc\\src\\hamiltonian.jl:47\n",
      "┌ Warning: The current proposal will be rejected due to numerical error(s).\n",
      "│   isfinite.((θ, r, ℓπ, ℓκ)) = (true, false, false, false)\n",
      "└ @ AdvancedHMC D:\\.julia\\packages\\AdvancedHMC\\51xgc\\src\\hamiltonian.jl:47\n",
      "┌ Warning: The current proposal will be rejected due to numerical error(s).\n",
      "│   isfinite.((θ, r, ℓπ, ℓκ)) = (true, false, false, false)\n",
      "└ @ AdvancedHMC D:\\.julia\\packages\\AdvancedHMC\\51xgc\\src\\hamiltonian.jl:47\n",
      "┌ Warning: The current proposal will be rejected due to numerical error(s).\n",
      "│   isfinite.((θ, r, ℓπ, ℓκ)) = (true, false, false, false)\n",
      "└ @ AdvancedHMC D:\\.julia\\packages\\AdvancedHMC\\51xgc\\src\\hamiltonian.jl:47\n",
      "┌ Warning: The current proposal will be rejected due to numerical error(s).\n",
      "│   isfinite.((θ, r, ℓπ, ℓκ)) = (true, false, false, false)\n",
      "└ @ AdvancedHMC D:\\.julia\\packages\\AdvancedHMC\\51xgc\\src\\hamiltonian.jl:47\n",
      "┌ Warning: The current proposal will be rejected due to numerical error(s).\n",
      "│   isfinite.((θ, r, ℓπ, ℓκ)) = (true, false, false, false)\n",
      "└ @ AdvancedHMC D:\\.julia\\packages\\AdvancedHMC\\51xgc\\src\\hamiltonian.jl:47\n",
      "┌ Warning: The current proposal will be rejected due to numerical error(s).\n",
      "│   isfinite.((θ, r, ℓπ, ℓκ)) = (true, false, false, false)\n",
      "└ @ AdvancedHMC D:\\.julia\\packages\\AdvancedHMC\\51xgc\\src\\hamiltonian.jl:47\n",
      "┌ Warning: The current proposal will be rejected due to numerical error(s).\n",
      "│   isfinite.((θ, r, ℓπ, ℓκ)) = (true, false, false, false)\n",
      "└ @ AdvancedHMC D:\\.julia\\packages\\AdvancedHMC\\51xgc\\src\\hamiltonian.jl:47\n",
      "┌ Warning: The current proposal will be rejected due to numerical error(s).\n",
      "│   isfinite.((θ, r, ℓπ, ℓκ)) = (true, false, false, false)\n",
      "└ @ AdvancedHMC D:\\.julia\\packages\\AdvancedHMC\\51xgc\\src\\hamiltonian.jl:47\n",
      "┌ Warning: The current proposal will be rejected due to numerical error(s).\n",
      "│   isfinite.((θ, r, ℓπ, ℓκ)) = (true, false, false, false)\n",
      "└ @ AdvancedHMC D:\\.julia\\packages\\AdvancedHMC\\51xgc\\src\\hamiltonian.jl:47\n",
      "┌ Warning: The current proposal will be rejected due to numerical error(s).\n",
      "│   isfinite.((θ, r, ℓπ, ℓκ)) = (true, false, false, false)\n",
      "└ @ AdvancedHMC D:\\.julia\\packages\\AdvancedHMC\\51xgc\\src\\hamiltonian.jl:47\n",
      "┌ Warning: The current proposal will be rejected due to numerical error(s).\n",
      "│   isfinite.((θ, r, ℓπ, ℓκ)) = (true, false, false, false)\n",
      "└ @ AdvancedHMC D:\\.julia\\packages\\AdvancedHMC\\51xgc\\src\\hamiltonian.jl:47\n",
      "┌ Warning: The current proposal will be rejected due to numerical error(s).\n",
      "│   isfinite.((θ, r, ℓπ, ℓκ)) = (true, false, false, false)\n",
      "└ @ AdvancedHMC D:\\.julia\\packages\\AdvancedHMC\\51xgc\\src\\hamiltonian.jl:47\n",
      "┌ Warning: The current proposal will be rejected due to numerical error(s).\n",
      "│   isfinite.((θ, r, ℓπ, ℓκ)) = (true, false, false, false)\n",
      "└ @ AdvancedHMC D:\\.julia\\packages\\AdvancedHMC\\51xgc\\src\\hamiltonian.jl:47\n",
      "┌ Warning: The current proposal will be rejected due to numerical error(s).\n",
      "│   isfinite.((θ, r, ℓπ, ℓκ)) = (true, false, false, false)\n",
      "└ @ AdvancedHMC D:\\.julia\\packages\\AdvancedHMC\\51xgc\\src\\hamiltonian.jl:47\n",
      "┌ Warning: The current proposal will be rejected due to numerical error(s).\n",
      "│   isfinite.((θ, r, ℓπ, ℓκ)) = (true, false, false, false)\n",
      "└ @ AdvancedHMC D:\\.julia\\packages\\AdvancedHMC\\51xgc\\src\\hamiltonian.jl:47\n",
      "┌ Warning: The current proposal will be rejected due to numerical error(s).\n",
      "│   isfinite.((θ, r, ℓπ, ℓκ)) = (true, false, false, false)\n",
      "└ @ AdvancedHMC D:\\.julia\\packages\\AdvancedHMC\\51xgc\\src\\hamiltonian.jl:47\n",
      "┌ Warning: The current proposal will be rejected due to numerical error(s).\n",
      "│   isfinite.((θ, r, ℓπ, ℓκ)) = (true, false, false, false)\n",
      "└ @ AdvancedHMC D:\\.julia\\packages\\AdvancedHMC\\51xgc\\src\\hamiltonian.jl:47\n",
      "┌ Warning: The current proposal will be rejected due to numerical error(s).\n",
      "│   isfinite.((θ, r, ℓπ, ℓκ)) = (true, false, false, false)\n",
      "└ @ AdvancedHMC D:\\.julia\\packages\\AdvancedHMC\\51xgc\\src\\hamiltonian.jl:47\n",
      "┌ Warning: The current proposal will be rejected due to numerical error(s).\n",
      "│   isfinite.((θ, r, ℓπ, ℓκ)) = (true, false, false, false)\n",
      "└ @ AdvancedHMC D:\\.julia\\packages\\AdvancedHMC\\51xgc\\src\\hamiltonian.jl:47\n",
      "┌ Warning: The current proposal will be rejected due to numerical error(s).\n",
      "│   isfinite.((θ, r, ℓπ, ℓκ)) = (true, false, false, false)\n",
      "└ @ AdvancedHMC D:\\.julia\\packages\\AdvancedHMC\\51xgc\\src\\hamiltonian.jl:47\n",
      "┌ Warning: The current proposal will be rejected due to numerical error(s).\n",
      "│   isfinite.((θ, r, ℓπ, ℓκ)) = (true, false, false, false)\n",
      "└ @ AdvancedHMC D:\\.julia\\packages\\AdvancedHMC\\51xgc\\src\\hamiltonian.jl:47\n",
      "┌ Warning: The current proposal will be rejected due to numerical error(s).\n",
      "│   isfinite.((θ, r, ℓπ, ℓκ)) = (true, false, false, false)\n",
      "└ @ AdvancedHMC D:\\.julia\\packages\\AdvancedHMC\\51xgc\\src\\hamiltonian.jl:47\n"
     ]
    },
    {
     "name": "stderr",
     "output_type": "stream",
     "text": [
      "┌ Warning: The current proposal will be rejected due to numerical error(s).\n",
      "│   isfinite.((θ, r, ℓπ, ℓκ)) = (true, false, false, false)\n",
      "└ @ AdvancedHMC D:\\.julia\\packages\\AdvancedHMC\\51xgc\\src\\hamiltonian.jl:47\n",
      "┌ Info: Found initial step size\n",
      "│   ϵ = 0.0001953125\n",
      "└ @ Turing.Inference D:\\.julia\\packages\\Turing\\szPqN\\src\\inference\\hmc.jl:191\n",
      "┌ Info: Found initial step size\n",
      "│   ϵ = 0.000390625\n",
      "└ @ Turing.Inference D:\\.julia\\packages\\Turing\\szPqN\\src\\inference\\hmc.jl:191\n",
      "┌ Info: Found initial step size\n",
      "│   ϵ = 0.0001953125\n",
      "└ @ Turing.Inference D:\\.julia\\packages\\Turing\\szPqN\\src\\inference\\hmc.jl:191\n",
      "┌ Info: Found initial step size\n",
      "│   ϵ = 0.0001953125\n",
      "└ @ Turing.Inference D:\\.julia\\packages\\Turing\\szPqN\\src\\inference\\hmc.jl:191\n",
      "┌ Info: Found initial step size\n",
      "│   ϵ = 0.000390625\n",
      "└ @ Turing.Inference D:\\.julia\\packages\\Turing\\szPqN\\src\\inference\\hmc.jl:191\n",
      "┌ Info: Found initial step size\n",
      "│   ϵ = 0.0001953125\n",
      "└ @ Turing.Inference D:\\.julia\\packages\\Turing\\szPqN\\src\\inference\\hmc.jl:191\n",
      "┌ Info: Found initial step size\n",
      "│   ϵ = 9.765625e-5\n",
      "└ @ Turing.Inference D:\\.julia\\packages\\Turing\\szPqN\\src\\inference\\hmc.jl:191\n",
      "┌ Info: Found initial step size\n",
      "│   ϵ = 4.8828125e-5\n",
      "└ @ Turing.Inference D:\\.julia\\packages\\Turing\\szPqN\\src\\inference\\hmc.jl:191\n",
      "┌ Info: Found initial step size\n",
      "│   ϵ = 0.000390625\n",
      "└ @ Turing.Inference D:\\.julia\\packages\\Turing\\szPqN\\src\\inference\\hmc.jl:191\n",
      "┌ Info: Found initial step size\n",
      "│   ϵ = 0.000390625\n",
      "└ @ Turing.Inference D:\\.julia\\packages\\Turing\\szPqN\\src\\inference\\hmc.jl:191\n"
     ]
    }
   ],
   "source": [
    "L = 10^5\n",
    "n_threads = min(Threads.nthreads(), 10)\n",
    "chn = sample(normaldistmodel_jeffreys(y), NUTS(), MCMCThreads(), L, n_threads);"
   ]
  },
  {
   "cell_type": "code",
   "execution_count": 23,
   "id": "29213011",
   "metadata": {},
   "outputs": [
    {
     "data": {
      "text/plain": [
       "Chains MCMC chain (100000×14×10 Array{Float64, 3}):\n",
       "\n",
       "Iterations        = 1001:1:101000\n",
       "Number of chains  = 10\n",
       "Samples per chain = 100000\n",
       "Wall duration     = 25.46 seconds\n",
       "Compute duration  = 239.6 seconds\n",
       "parameters        = σ², μ\n",
       "internals         = lp, n_steps, is_accept, acceptance_rate, log_density, hamiltonian_energy, hamiltonian_energy_error, max_hamiltonian_energy_error, tree_depth, numerical_error, step_size, nom_step_size\n",
       "\n",
       "Summary Statistics\n",
       " \u001b[1m parameters \u001b[0m \u001b[1m       mean \u001b[0m \u001b[1m        std \u001b[0m \u001b[1m naive_se \u001b[0m \u001b[1m    mcse \u001b[0m \u001b[1m         ess \u001b[0m \u001b[1m   \u001b[0m ⋯\n",
       " \u001b[90m     Symbol \u001b[0m \u001b[90m    Float64 \u001b[0m \u001b[90m    Float64 \u001b[0m \u001b[90m  Float64 \u001b[0m \u001b[90m Float64 \u001b[0m \u001b[90m     Float64 \u001b[0m \u001b[90m Fl\u001b[0m ⋯\n",
       "\n",
       "          σ²   12752.0919   16578.4742    16.5785   31.6749   293990.7107    1 ⋯\n",
       "           μ   10084.0819      50.4269     0.0504    0.0826   379336.7306    1 ⋯\n",
       "\u001b[36m                                                               2 columns omitted\u001b[0m\n",
       "\n",
       "Quantiles\n",
       " \u001b[1m parameters \u001b[0m \u001b[1m      2.5% \u001b[0m \u001b[1m      25.0% \u001b[0m \u001b[1m      50.0% \u001b[0m \u001b[1m      75.0% \u001b[0m \u001b[1m      97.5% \u001b[0m\n",
       " \u001b[90m     Symbol \u001b[0m \u001b[90m   Float64 \u001b[0m \u001b[90m    Float64 \u001b[0m \u001b[90m    Float64 \u001b[0m \u001b[90m    Float64 \u001b[0m \u001b[90m    Float64 \u001b[0m\n",
       "\n",
       "          σ²   2979.8905    5784.9747    8797.2751   14302.4056   45923.6978\n",
       "           μ   9983.2925   10055.5844   10084.1285   10112.5531   10184.5942\n"
      ]
     },
     "execution_count": 23,
     "metadata": {},
     "output_type": "execute_result"
    }
   ],
   "source": [
    "chn"
   ]
  },
  {
   "cell_type": "code",
   "execution_count": 24,
   "id": "2aadcf3f",
   "metadata": {},
   "outputs": [
    {
     "name": "stdout",
     "output_type": "stream",
     "text": [
      "confint_ttest(y) = [9962.72614862277, 10205.60787572386]\n"
     ]
    }
   ],
   "source": [
    "@show confint_ttest(y);"
   ]
  },
  {
   "cell_type": "code",
   "execution_count": 25,
   "id": "3c933665",
   "metadata": {},
   "outputs": [
    {
     "data": {
      "image/png": "[encoded data removed]"
     },
     "execution_count": 25,
     "metadata": {},
     "output_type": "execute_result"
    }
   ],
   "source": [
    "postμ_theoretical = posterior_μ_jeffreys(y)\n",
    "postμ_ttest = posterior_μ_ttest(y)\n",
    "plot(legend=:outertop)\n",
    "stephist!(vec(chn[:μ]); norm=true, label=\"MCMC\")\n",
    "plot!(postμ_theoretical; label=\"theoretical\", ls=:dash)\n",
    "plot!(postμ_ttest; label=\"ȳ+√(s²/n)TDist(n-1)\", ls=:dashdot)\n",
    "plot!(xlim=quantile.(postμ_ttest, (0.001, 0.999)))"
   ]
  },
  {
   "cell_type": "code",
   "execution_count": 26,
   "id": "4d8b48d5",
   "metadata": {},
   "outputs": [
    {
     "data": {
      "image/png": "[encoded data removed]"
     },
     "execution_count": 26,
     "metadata": {},
     "output_type": "execute_result"
    }
   ],
   "source": [
    "pdf_pred(y_new) = mean(pdf(Normal(μ, √σ²), y_new)\n",
    "    for (μ, σ²) in zip(vec(chn[:μ]), vec(chn[:σ²])))\n",
    "pred_theoretical = preddist_jeffreys(y)\n",
    "pred_ttest = preddist_ttest(y)\n",
    "xlim = quantile.(pred_theoretical, (0.001, 0.999))\n",
    "\n",
    "plot(legend=:outertop)\n",
    "plot!(pdf_pred, xlim...; label=\"MCMC\")\n",
    "plot!(pred_theoretical, xlim...; label=\"theoretical\", ls=:dash)\n",
    "plot!(pred_ttest, xlim...; label=\"ȳ+√(s²(1+1/n))TDist(n-1)\", ls=:dashdot)"
   ]
  },
  {
   "cell_type": "markdown",
   "id": "b063bb45",
   "metadata": {},
   "source": [
    "### 平均と対数分散について一様な事前分布の場合\n",
    "\n",
    "平均 $\\mu$ と分数の対数 $\\log v = \\log\\sigma^2$ に関する一様な事前分布は\n",
    "\n",
    "$$\n",
    "p_\\op{flat}(\\mu, v) \\propto v^{-1}\n",
    "$$\n",
    "\n",
    "になる. ただし, 右辺の $(\\mu,v)\\in\\R\\times\\R_{>0}$ に関する積分は $\\infty$ になるので, この事前分布はimproperである.\n",
    "\n",
    "逆ガンマ正規分布の密度函数\n",
    "\n",
    "$$\n",
    "p_\\op{InverseGammaNormal}(\\mu,v|\\mu_*, v_*, \\kappa, \\theta) \\propto\n",
    "v^{-(\\kappa+1/2)-1}\n",
    "\\exp\\left(-\\frac{1}{v}\\left(\\theta + \\frac{1}{2v_*}(\\mu-\\mu_*)^2\\right)\\right).\n",
    "$$\n",
    "\n",
    "と比較すると, 平均と対数分散について一様な事前分布に対応する共役事前分布のパラメータ値は形式的に次になることがわかる:\n",
    "\n",
    "$$\n",
    "\\kappa \\to -\\frac{1}{2}, \\quad\n",
    "\\theta \\to 0, \\quad\n",
    "v_* \\to \\infty.\n",
    "$$\n",
    "\n",
    "このとき, Bayes更新後のパラメータの公式は次のようになる:\n",
    "\n",
    "$$\n",
    "\\tilde\\kappa = \\frac{n-1}{2}, \\quad\n",
    "\\tilde\\theta = \\frac{n\\sigmahat^2}{2}, \\quad\n",
    "\\tilde\\mu_* = \\ybar, \\quad\n",
    "\\tilde v_* = \\frac{1}{n}.\n",
    "$$\n",
    "\n",
    "この場合には\n",
    "\n",
    "$$\n",
    "\\frac{\\tilde\\theta}{\\tilde\\kappa} = \\frac{n\\sigmahat^2}{n-1} = s^2, \\quad\n",
    "\\tilde v_* = \\frac{1}{n}, \\quad\n",
    "2\\tilde\\kappa = n-1.\n",
    "$$\n",
    "\n",
    "ここで, $s^2$ はデータの数値 $y_1,\\ldots,y_n$ の不偏分散\n",
    "\n",
    "$$\n",
    "s^2 = \\frac{1}{n-1}\\sum_{i=1}^n(y_i - \\ybar)^2 =\n",
    "\\frac{n\\sigmahat^2}{n-1} > \\sigmahat^2\n",
    "$$\n",
    "\n",
    "であり, $s$ はその平方根である.\n",
    "\n",
    "ゆえに, $\\mu$ に関する周辺事後分布は\n",
    "\n",
    "$$\n",
    "\\mu \\sim\n",
    "\\ybar + \\frac{s}{\\sqrt{n}}\\;\\op{TDist}(n-1)\n",
    "$$\n",
    "\n",
    "になり, $y_\\op{new}$ に関する事後予測分布は次になる:\n",
    "\n",
    "$$\n",
    "y_\\op{new} \\sim\n",
    "\\ybar + s\\sqrt{1+\\frac{1}{n}}\\;\\op{TDist}(n-1).\n",
    "$$\n",
    "\n",
    "したがって, 前節の結果と比較すると, Jeffreys事前分布の事後分布と予測分布による区間推定よりもこの場合の区間推定は少し広くなる."
   ]
  },
  {
   "cell_type": "code",
   "execution_count": 27,
   "id": "b5ddfc6a",
   "metadata": {},
   "outputs": [
    {
     "data": {
      "text/plain": [
       "preddist_flat (generic function with 2 methods)"
      ]
     },
     "execution_count": 27,
     "metadata": {},
     "output_type": "execute_result"
    }
   ],
   "source": [
    "prior_flat() = 0.0, Inf, -1/2, 0.0\n",
    "\n",
    "posterior_μ_flat(n, ȳ, s²) = ȳ + √(s²/n)*TDist(n-1)\n",
    "\n",
    "function posterior_μ_flat(y)\n",
    "    n, ȳ, s² = length(y), mean(y), var(y)\n",
    "    posterior_μ_flat(n, ȳ, s²)\n",
    "end\n",
    "\n",
    "preddist_flat(n, ȳ, s²) = ȳ + √(s²*(1+1/n))*TDist(n-1)\n",
    "\n",
    "function preddist_flat(y)\n",
    "    n, ȳ, s² = length(y), mean(y), var(y)\n",
    "    preddist_flat(n, ȳ, s²)\n",
    "end"
   ]
  },
  {
   "cell_type": "code",
   "execution_count": 28,
   "id": "0faab28a",
   "metadata": {},
   "outputs": [
    {
     "name": "stdout",
     "output_type": "stream",
     "text": [
      "dist_true = Normal(μ_true, σ_true) = Normal{Float64}(μ=10000.0, σ=100.0)\n",
      "n = 5\n"
     ]
    },
    {
     "data": {
      "text/plain": [
       "(5, 12.39500386334508, 2.7250693784756224)"
      ]
     },
     "execution_count": 28,
     "metadata": {},
     "output_type": "execute_result"
    }
   ],
   "source": [
    "y = rand(Normal(10, 3), 5)\n",
    "@show dist_true = Normal(μ_true, σ_true) n\n",
    "n, ȳ, s² = length(y), mean(y), var(y)"
   ]
  },
  {
   "cell_type": "code",
   "execution_count": 29,
   "id": "b923a705",
   "metadata": {},
   "outputs": [
    {
     "data": {
      "text/plain": [
       "LocationScale{Float64, Continuous, TDist{Float64}}(\n",
       "μ: 12.39500386334508\n",
       "σ: 0.7382505507584295\n",
       "ρ: TDist{Float64}(ν=4.0)\n",
       ")\n"
      ]
     },
     "execution_count": 29,
     "metadata": {},
     "output_type": "execute_result"
    }
   ],
   "source": [
    "post_μ = posterior_μ(bayesian_update(prior_flat()..., y)...)"
   ]
  },
  {
   "cell_type": "code",
   "execution_count": 30,
   "id": "616970fb",
   "metadata": {},
   "outputs": [
    {
     "data": {
      "text/plain": [
       "true"
      ]
     },
     "execution_count": 30,
     "metadata": {},
     "output_type": "execute_result"
    }
   ],
   "source": [
    "posterior_μ_flat(y) ≈ post_μ"
   ]
  },
  {
   "cell_type": "markdown",
   "id": "e9f1340d",
   "metadata": {},
   "source": [
    "### 平均と対数分散について一様な事前分布の場合の結果の数値的確認"
   ]
  },
  {
   "cell_type": "code",
   "execution_count": 31,
   "id": "aff9fccf",
   "metadata": {},
   "outputs": [
    {
     "data": {
      "text/plain": [
       "normaldistmodel_flat (generic function with 2 methods)"
      ]
     },
     "execution_count": 31,
     "metadata": {},
     "output_type": "execute_result"
    }
   ],
   "source": [
    "@model function normaldistmodel_flat(y)\n",
    "    σ² ~ PowerPos(-1)\n",
    "    μ ~ Flat()\n",
    "    y ~ MvNormal(fill(μ, length(y)), σ²*I)\n",
    "end"
   ]
  },
  {
   "cell_type": "code",
   "execution_count": 32,
   "id": "d1ae66eb",
   "metadata": {},
   "outputs": [
    {
     "name": "stdout",
     "output_type": "stream",
     "text": [
      "dist_true = Normal(μ_true, σ_true) = Normal{Float64}(μ=10000.0, σ=100.0)\n",
      "n = 5\n"
     ]
    },
    {
     "data": {
      "text/plain": [
       "5-element Vector{Float64}:\n",
       " 10024.894292237077\n",
       " 10082.29826135682\n",
       "  9883.033627479479\n",
       "  9925.846275069784\n",
       "  9857.238694168193"
      ]
     },
     "execution_count": 32,
     "metadata": {},
     "output_type": "execute_result"
    }
   ],
   "source": [
    "μ_true, σ_true, n = 1e4, 1e2, 5\n",
    "@show dist_true = Normal(μ_true, σ_true) n\n",
    "y = rand(Normal(μ_true, σ_true), n)"
   ]
  },
  {
   "cell_type": "code",
   "execution_count": 33,
   "id": "d7ab8ec3",
   "metadata": {},
   "outputs": [
    {
     "name": "stderr",
     "output_type": "stream",
     "text": [
      "┌ Warning: The current proposal will be rejected due to numerical error(s).\n",
      "│   isfinite.((θ, r, ℓπ, ℓκ)) = (true, false, false, false)\n",
      "└ @ AdvancedHMC D:\\.julia\\packages\\AdvancedHMC\\51xgc\\src\\hamiltonian.jl:47\n",
      "┌ Warning: The current proposal will be rejected due to numerical error(s).\n",
      "│   isfinite.((θ, r, ℓπ, ℓκ)) = (true, false, false, false)\n",
      "└ @ AdvancedHMC D:\\.julia\\packages\\AdvancedHMC\\51xgc\\src\\hamiltonian.jl:47\n",
      "┌ Warning: The current proposal will be rejected due to numerical error(s).\n",
      "│   isfinite.((θ, r, ℓπ, ℓκ)) = (true, false, false, false)\n",
      "└ @ AdvancedHMC D:\\.julia\\packages\\AdvancedHMC\\51xgc\\src\\hamiltonian.jl:47\n",
      "┌ Warning: The current proposal will be rejected due to numerical error(s).\n",
      "│   isfinite.((θ, r, ℓπ, ℓκ)) = (true, false, false, false)\n",
      "└ @ AdvancedHMC D:\\.julia\\packages\\AdvancedHMC\\51xgc\\src\\hamiltonian.jl:47\n",
      "┌ Warning: The current proposal will be rejected due to numerical error(s).\n",
      "│   isfinite.((θ, r, ℓπ, ℓκ)) = (true, false, false, false)\n",
      "└ @ AdvancedHMC D:\\.julia\\packages\\AdvancedHMC\\51xgc\\src\\hamiltonian.jl:47\n",
      "┌ Warning: The current proposal will be rejected due to numerical error(s).\n",
      "│   isfinite.((θ, r, ℓπ, ℓκ)) = (true, false, false, false)\n",
      "└ @ AdvancedHMC D:\\.julia\\packages\\AdvancedHMC\\51xgc\\src\\hamiltonian.jl:47\n",
      "┌ Warning: The current proposal will be rejected due to numerical error(s).\n",
      "│   isfinite.((θ, r, ℓπ, ℓκ)) = (true, false, false, false)\n",
      "└ @ AdvancedHMC D:\\.julia\\packages\\AdvancedHMC\\51xgc\\src\\hamiltonian.jl:47\n",
      "┌ Warning: The current proposal will be rejected due to numerical error(s).\n",
      "│   isfinite.((θ, r, ℓπ, ℓκ)) = (true, false, false, false)\n",
      "└ @ AdvancedHMC D:\\.julia\\packages\\AdvancedHMC\\51xgc\\src\\hamiltonian.jl:47\n",
      "┌ Warning: The current proposal will be rejected due to numerical error(s).\n",
      "│   isfinite.((θ, r, ℓπ, ℓκ)) = (true, false, false, false)\n",
      "└ @ AdvancedHMC D:\\.julia\\packages\\AdvancedHMC\\51xgc\\src\\hamiltonian.jl:47\n",
      "┌ Warning: The current proposal will be rejected due to numerical error(s).\n",
      "│   isfinite.((θ, r, ℓπ, ℓκ)) = (true, false, false, false)\n",
      "└ @ AdvancedHMC D:\\.julia\\packages\\AdvancedHMC\\51xgc\\src\\hamiltonian.jl:47\n",
      "┌ Warning: The current proposal will be rejected due to numerical error(s).\n",
      "│   isfinite.((θ, r, ℓπ, ℓκ)) = (true, false, false, false)\n",
      "└ @ AdvancedHMC D:\\.julia\\packages\\AdvancedHMC\\51xgc\\src\\hamiltonian.jl:47\n",
      "┌ Warning: The current proposal will be rejected due to numerical error(s).\n",
      "│   isfinite.((θ, r, ℓπ, ℓκ)) = (true, false, false, false)\n",
      "└ @ AdvancedHMC D:\\.julia\\packages\\AdvancedHMC\\51xgc\\src\\hamiltonian.jl:47\n",
      "┌ Warning: The current proposal will be rejected due to numerical error(s).\n",
      "│   isfinite.((θ, r, ℓπ, ℓκ)) = (true, false, false, false)\n",
      "└ @ AdvancedHMC D:\\.julia\\packages\\AdvancedHMC\\51xgc\\src\\hamiltonian.jl:47\n",
      "┌ Warning: The current proposal will be rejected due to numerical error(s).\n",
      "│   isfinite.((θ, r, ℓπ, ℓκ)) = (true, false, false, false)\n",
      "└ @ AdvancedHMC D:\\.julia\\packages\\AdvancedHMC\\51xgc\\src\\hamiltonian.jl:47\n",
      "┌ Warning: The current proposal will be rejected due to numerical error(s).\n",
      "│   isfinite.((θ, r, ℓπ, ℓκ)) = (true, false, false, false)\n",
      "└ @ AdvancedHMC D:\\.julia\\packages\\AdvancedHMC\\51xgc\\src\\hamiltonian.jl:47\n",
      "┌ Warning: The current proposal will be rejected due to numerical error(s).\n",
      "│   isfinite.((θ, r, ℓπ, ℓκ)) = (true, false, false, false)\n",
      "└ @ AdvancedHMC D:\\.julia\\packages\\AdvancedHMC\\51xgc\\src\\hamiltonian.jl:47\n",
      "┌ Warning: The current proposal will be rejected due to numerical error(s).\n",
      "│   isfinite.((θ, r, ℓπ, ℓκ)) = (true, false, false, false)\n",
      "└ @ AdvancedHMC D:\\.julia\\packages\\AdvancedHMC\\51xgc\\src\\hamiltonian.jl:47\n",
      "┌ Warning: The current proposal will be rejected due to numerical error(s).\n",
      "│   isfinite.((θ, r, ℓπ, ℓκ)) = (true, false, false, false)\n",
      "└ @ AdvancedHMC D:\\.julia\\packages\\AdvancedHMC\\51xgc\\src\\hamiltonian.jl:47\n",
      "┌ Warning: The current proposal will be rejected due to numerical error(s).\n",
      "│   isfinite.((θ, r, ℓπ, ℓκ)) = (true, false, false, false)\n",
      "└ @ AdvancedHMC D:\\.julia\\packages\\AdvancedHMC\\51xgc\\src\\hamiltonian.jl:47\n",
      "┌ Warning: The current proposal will be rejected due to numerical error(s).\n",
      "│   isfinite.((θ, r, ℓπ, ℓκ)) = (true, false, false, false)\n",
      "└ @ AdvancedHMC D:\\.julia\\packages\\AdvancedHMC\\51xgc\\src\\hamiltonian.jl:47\n",
      "┌ Warning: The current proposal will be rejected due to numerical error(s).\n",
      "│   isfinite.((θ, r, ℓπ, ℓκ)) = (true, false, false, false)\n",
      "└ @ AdvancedHMC D:\\.julia\\packages\\AdvancedHMC\\51xgc\\src\\hamiltonian.jl:47\n",
      "┌ Warning: The current proposal will be rejected due to numerical error(s).\n",
      "│   isfinite.((θ, r, ℓπ, ℓκ)) = (true, false, false, false)\n",
      "└ @ AdvancedHMC D:\\.julia\\packages\\AdvancedHMC\\51xgc\\src\\hamiltonian.jl:47\n",
      "┌ Warning: The current proposal will be rejected due to numerical error(s).\n",
      "│   isfinite.((θ, r, ℓπ, ℓκ)) = (true, false, false, false)\n",
      "└ @ AdvancedHMC D:\\.julia\\packages\\AdvancedHMC\\51xgc\\src\\hamiltonian.jl:47\n",
      "┌ Warning: The current proposal will be rejected due to numerical error(s).\n",
      "│   isfinite.((θ, r, ℓπ, ℓκ)) = (true, false, false, false)\n",
      "└ @ AdvancedHMC D:\\.julia\\packages\\AdvancedHMC\\51xgc\\src\\hamiltonian.jl:47\n",
      "┌ Warning: The current proposal will be rejected due to numerical error(s).\n",
      "│   isfinite.((θ, r, ℓπ, ℓκ)) = (true, false, false, false)\n",
      "└ @ AdvancedHMC D:\\.julia\\packages\\AdvancedHMC\\51xgc\\src\\hamiltonian.jl:47\n",
      "┌ Warning: The current proposal will be rejected due to numerical error(s).\n",
      "│   isfinite.((θ, r, ℓπ, ℓκ)) = (true, false, false, false)\n",
      "└ @ AdvancedHMC D:\\.julia\\packages\\AdvancedHMC\\51xgc\\src\\hamiltonian.jl:47\n",
      "┌ Warning: The current proposal will be rejected due to numerical error(s).\n",
      "│   isfinite.((θ, r, ℓπ, ℓκ)) = (true, false, false, false)\n",
      "└ @ AdvancedHMC D:\\.julia\\packages\\AdvancedHMC\\51xgc\\src\\hamiltonian.jl:47\n",
      "┌ Warning: The current proposal will be rejected due to numerical error(s).\n",
      "│   isfinite.((θ, r, ℓπ, ℓκ)) = (true, false, false, false)\n",
      "└ @ AdvancedHMC D:\\.julia\\packages\\AdvancedHMC\\51xgc\\src\\hamiltonian.jl:47\n",
      "┌ Warning: The current proposal will be rejected due to numerical error(s).\n",
      "│   isfinite.((θ, r, ℓπ, ℓκ)) = (true, false, false, false)\n",
      "└ @ AdvancedHMC D:\\.julia\\packages\\AdvancedHMC\\51xgc\\src\\hamiltonian.jl:47\n",
      "┌ Warning: The current proposal will be rejected due to numerical error(s).\n",
      "│   isfinite.((θ, r, ℓπ, ℓκ)) = (true, false, false, false)\n",
      "└ @ AdvancedHMC D:\\.julia\\packages\\AdvancedHMC\\51xgc\\src\\hamiltonian.jl:47\n",
      "┌ Warning: The current proposal will be rejected due to numerical error(s).\n",
      "│   isfinite.((θ, r, ℓπ, ℓκ)) = (true, false, false, false)\n",
      "└ @ AdvancedHMC D:\\.julia\\packages\\AdvancedHMC\\51xgc\\src\\hamiltonian.jl:47\n",
      "┌ Warning: The current proposal will be rejected due to numerical error(s).\n",
      "│   isfinite.((θ, r, ℓπ, ℓκ)) = (true, false, false, false)\n",
      "└ @ AdvancedHMC D:\\.julia\\packages\\AdvancedHMC\\51xgc\\src\\hamiltonian.jl:47\n",
      "┌ Warning: The current proposal will be rejected due to numerical error(s).\n",
      "│   isfinite.((θ, r, ℓπ, ℓκ)) = (true, false, false, false)\n",
      "└ @ AdvancedHMC D:\\.julia\\packages\\AdvancedHMC\\51xgc\\src\\hamiltonian.jl:47\n",
      "┌ Warning: The current proposal will be rejected due to numerical error(s).\n",
      "│   isfinite.((θ, r, ℓπ, ℓκ)) = (true, false, false, false)\n",
      "└ @ AdvancedHMC D:\\.julia\\packages\\AdvancedHMC\\51xgc\\src\\hamiltonian.jl:47\n",
      "┌ Warning: The current proposal will be rejected due to numerical error(s).\n",
      "│   isfinite.((θ, r, ℓπ, ℓκ)) = (true, false, false, false)\n",
      "└ @ AdvancedHMC D:\\.julia\\packages\\AdvancedHMC\\51xgc\\src\\hamiltonian.jl:47\n",
      "┌ Warning: The current proposal will be rejected due to numerical error(s).\n",
      "│   isfinite.((θ, r, ℓπ, ℓκ)) = (true, false, false, false)\n",
      "└ @ AdvancedHMC D:\\.julia\\packages\\AdvancedHMC\\51xgc\\src\\hamiltonian.jl:47\n",
      "┌ Warning: The current proposal will be rejected due to numerical error(s).\n",
      "│   isfinite.((θ, r, ℓπ, ℓκ)) = (true, false, false, false)\n",
      "└ @ AdvancedHMC D:\\.julia\\packages\\AdvancedHMC\\51xgc\\src\\hamiltonian.jl:47\n",
      "┌ Warning: The current proposal will be rejected due to numerical error(s).\n",
      "│   isfinite.((θ, r, ℓπ, ℓκ)) = (true, false, false, false)\n",
      "└ @ AdvancedHMC D:\\.julia\\packages\\AdvancedHMC\\51xgc\\src\\hamiltonian.jl:47\n",
      "┌ Warning: The current proposal will be rejected due to numerical error(s).\n",
      "│   isfinite.((θ, r, ℓπ, ℓκ)) = (true, false, false, false)\n",
      "└ @ AdvancedHMC D:\\.julia\\packages\\AdvancedHMC\\51xgc\\src\\hamiltonian.jl:47\n",
      "┌ Warning: The current proposal will be rejected due to numerical error(s).\n",
      "│   isfinite.((θ, r, ℓπ, ℓκ)) = (true, false, false, false)\n",
      "└ @ AdvancedHMC D:\\.julia\\packages\\AdvancedHMC\\51xgc\\src\\hamiltonian.jl:47\n",
      "┌ Warning: The current proposal will be rejected due to numerical error(s).\n",
      "│   isfinite.((θ, r, ℓπ, ℓκ)) = (true, false, false, false)\n",
      "└ @ AdvancedHMC D:\\.julia\\packages\\AdvancedHMC\\51xgc\\src\\hamiltonian.jl:47\n",
      "┌ Warning: The current proposal will be rejected due to numerical error(s).\n",
      "│   isfinite.((θ, r, ℓπ, ℓκ)) = (true, false, false, false)\n",
      "└ @ AdvancedHMC D:\\.julia\\packages\\AdvancedHMC\\51xgc\\src\\hamiltonian.jl:47\n",
      "┌ Warning: The current proposal will be rejected due to numerical error(s).\n",
      "│   isfinite.((θ, r, ℓπ, ℓκ)) = (true, false, false, false)\n",
      "└ @ AdvancedHMC D:\\.julia\\packages\\AdvancedHMC\\51xgc\\src\\hamiltonian.jl:47\n",
      "┌ Warning: The current proposal will be rejected due to numerical error(s).\n",
      "│   isfinite.((θ, r, ℓπ, ℓκ)) = (true, false, false, false)\n",
      "└ @ AdvancedHMC D:\\.julia\\packages\\AdvancedHMC\\51xgc\\src\\hamiltonian.jl:47\n",
      "┌ Warning: The current proposal will be rejected due to numerical error(s).\n",
      "│   isfinite.((θ, r, ℓπ, ℓκ)) = (true, false, false, false)\n",
      "└ @ AdvancedHMC D:\\.julia\\packages\\AdvancedHMC\\51xgc\\src\\hamiltonian.jl:47\n",
      "┌ Warning: The current proposal will be rejected due to numerical error(s).\n",
      "│   isfinite.((θ, r, ℓπ, ℓκ)) = (true, false, false, false)\n",
      "└ @ AdvancedHMC D:\\.julia\\packages\\AdvancedHMC\\51xgc\\src\\hamiltonian.jl:47\n",
      "┌ Warning: The current proposal will be rejected due to numerical error(s).\n",
      "│   isfinite.((θ, r, ℓπ, ℓκ)) = (true, false, false, false)\n",
      "└ @ AdvancedHMC D:\\.julia\\packages\\AdvancedHMC\\51xgc\\src\\hamiltonian.jl:47\n",
      "┌ Warning: The current proposal will be rejected due to numerical error(s).\n",
      "│   isfinite.((θ, r, ℓπ, ℓκ)) = (true, false, false, false)\n",
      "└ @ AdvancedHMC D:\\.julia\\packages\\AdvancedHMC\\51xgc\\src\\hamiltonian.jl:47\n",
      "┌ Warning: The current proposal will be rejected due to numerical error(s).\n",
      "│   isfinite.((θ, r, ℓπ, ℓκ)) = (true, false, false, false)\n",
      "└ @ AdvancedHMC D:\\.julia\\packages\\AdvancedHMC\\51xgc\\src\\hamiltonian.jl:47\n",
      "┌ Warning: The current proposal will be rejected due to numerical error(s).\n",
      "│   isfinite.((θ, r, ℓπ, ℓκ)) = (true, false, false, false)\n",
      "└ @ AdvancedHMC D:\\.julia\\packages\\AdvancedHMC\\51xgc\\src\\hamiltonian.jl:47\n",
      "┌ Warning: The current proposal will be rejected due to numerical error(s).\n",
      "│   isfinite.((θ, r, ℓπ, ℓκ)) = (true, false, false, false)\n",
      "└ @ AdvancedHMC D:\\.julia\\packages\\AdvancedHMC\\51xgc\\src\\hamiltonian.jl:47\n",
      "┌ Warning: The current proposal will be rejected due to numerical error(s).\n",
      "│   isfinite.((θ, r, ℓπ, ℓκ)) = (true, false, false, false)\n",
      "└ @ AdvancedHMC D:\\.julia\\packages\\AdvancedHMC\\51xgc\\src\\hamiltonian.jl:47\n",
      "┌ Warning: The current proposal will be rejected due to numerical error(s).\n",
      "│   isfinite.((θ, r, ℓπ, ℓκ)) = (true, false, false, false)\n",
      "└ @ AdvancedHMC D:\\.julia\\packages\\AdvancedHMC\\51xgc\\src\\hamiltonian.jl:47\n",
      "┌ Warning: The current proposal will be rejected due to numerical error(s).\n",
      "│   isfinite.((θ, r, ℓπ, ℓκ)) = (true, false, false, false)\n",
      "└ @ AdvancedHMC D:\\.julia\\packages\\AdvancedHMC\\51xgc\\src\\hamiltonian.jl:47\n",
      "┌ Warning: The current proposal will be rejected due to numerical error(s).\n",
      "│   isfinite.((θ, r, ℓπ, ℓκ)) = (true, false, false, false)\n",
      "└ @ AdvancedHMC D:\\.julia\\packages\\AdvancedHMC\\51xgc\\src\\hamiltonian.jl:47\n",
      "┌ Warning: The current proposal will be rejected due to numerical error(s).\n",
      "│   isfinite.((θ, r, ℓπ, ℓκ)) = (true, false, false, false)\n",
      "└ @ AdvancedHMC D:\\.julia\\packages\\AdvancedHMC\\51xgc\\src\\hamiltonian.jl:47\n",
      "┌ Warning: The current proposal will be rejected due to numerical error(s).\n",
      "│   isfinite.((θ, r, ℓπ, ℓκ)) = (true, false, false, false)\n",
      "└ @ AdvancedHMC D:\\.julia\\packages\\AdvancedHMC\\51xgc\\src\\hamiltonian.jl:47\n",
      "┌ Warning: The current proposal will be rejected due to numerical error(s).\n",
      "│   isfinite.((θ, r, ℓπ, ℓκ)) = (true, false, false, false)\n",
      "└ @ AdvancedHMC D:\\.julia\\packages\\AdvancedHMC\\51xgc\\src\\hamiltonian.jl:47\n",
      "┌ Warning: The current proposal will be rejected due to numerical error(s).\n",
      "│   isfinite.((θ, r, ℓπ, ℓκ)) = (true, false, false, false)\n",
      "└ @ AdvancedHMC D:\\.julia\\packages\\AdvancedHMC\\51xgc\\src\\hamiltonian.jl:47\n",
      "┌ Warning: The current proposal will be rejected due to numerical error(s).\n",
      "│   isfinite.((θ, r, ℓπ, ℓκ)) = (true, false, false, false)\n",
      "└ @ AdvancedHMC D:\\.julia\\packages\\AdvancedHMC\\51xgc\\src\\hamiltonian.jl:47\n",
      "┌ Warning: The current proposal will be rejected due to numerical error(s).\n",
      "│   isfinite.((θ, r, ℓπ, ℓκ)) = (true, false, false, false)\n",
      "└ @ AdvancedHMC D:\\.julia\\packages\\AdvancedHMC\\51xgc\\src\\hamiltonian.jl:47\n",
      "┌ Warning: The current proposal will be rejected due to numerical error(s).\n",
      "│   isfinite.((θ, r, ℓπ, ℓκ)) = (true, false, false, false)\n",
      "└ @ AdvancedHMC D:\\.julia\\packages\\AdvancedHMC\\51xgc\\src\\hamiltonian.jl:47\n",
      "┌ Warning: The current proposal will be rejected due to numerical error(s).\n",
      "│   isfinite.((θ, r, ℓπ, ℓκ)) = (true, false, false, false)\n",
      "└ @ AdvancedHMC D:\\.julia\\packages\\AdvancedHMC\\51xgc\\src\\hamiltonian.jl:47\n",
      "┌ Info: Found initial step size\n",
      "│   ϵ = 0.0001953125\n",
      "└ @ Turing.Inference D:\\.julia\\packages\\Turing\\szPqN\\src\\inference\\hmc.jl:191\n",
      "┌ Info: Found initial step size\n",
      "│   ϵ = 0.000390625\n",
      "└ @ Turing.Inference D:\\.julia\\packages\\Turing\\szPqN\\src\\inference\\hmc.jl:191\n",
      "┌ Warning: The current proposal will be rejected due to numerical error(s).\n",
      "│   isfinite.((θ, r, ℓπ, ℓκ)) = (true, false, false, false)\n",
      "└ @ AdvancedHMC D:\\.julia\\packages\\AdvancedHMC\\51xgc\\src\\hamiltonian.jl:47\n",
      "┌ Warning: The current proposal will be rejected due to numerical error(s).\n",
      "│   isfinite.((θ, r, ℓπ, ℓκ)) = (true, false, false, false)\n",
      "└ @ AdvancedHMC D:\\.julia\\packages\\AdvancedHMC\\51xgc\\src\\hamiltonian.jl:47\n",
      "┌ Warning: The current proposal will be rejected due to numerical error(s).\n",
      "│   isfinite.((θ, r, ℓπ, ℓκ)) = (true, false, false, false)\n",
      "└ @ AdvancedHMC D:\\.julia\\packages\\AdvancedHMC\\51xgc\\src\\hamiltonian.jl:47\n",
      "┌ Warning: The current proposal will be rejected due to numerical error(s).\n",
      "│   isfinite.((θ, r, ℓπ, ℓκ)) = (true, false, false, false)\n",
      "└ @ AdvancedHMC D:\\.julia\\packages\\AdvancedHMC\\51xgc\\src\\hamiltonian.jl:47\n",
      "┌ Info: Found initial step size\n",
      "│   ϵ = 0.0001953125\n",
      "└ @ Turing.Inference D:\\.julia\\packages\\Turing\\szPqN\\src\\inference\\hmc.jl:191\n"
     ]
    },
    {
     "name": "stderr",
     "output_type": "stream",
     "text": [
      "┌ Info: Found initial step size\n",
      "│   ϵ = 9.765625e-5\n",
      "└ @ Turing.Inference D:\\.julia\\packages\\Turing\\szPqN\\src\\inference\\hmc.jl:191\n",
      "┌ Warning: The current proposal will be rejected due to numerical error(s).\n",
      "│   isfinite.((θ, r, ℓπ, ℓκ)) = (true, false, false, false)\n",
      "└ @ AdvancedHMC D:\\.julia\\packages\\AdvancedHMC\\51xgc\\src\\hamiltonian.jl:47\n",
      "┌ Info: Found initial step size\n",
      "│   ϵ = 9.765625e-5\n",
      "└ @ Turing.Inference D:\\.julia\\packages\\Turing\\szPqN\\src\\inference\\hmc.jl:191\n",
      "┌ Info: Found initial step size\n",
      "│   ϵ = 9.765625e-5\n",
      "└ @ Turing.Inference D:\\.julia\\packages\\Turing\\szPqN\\src\\inference\\hmc.jl:191\n",
      "┌ Info: Found initial step size\n",
      "│   ϵ = 9.765625e-5\n",
      "└ @ Turing.Inference D:\\.julia\\packages\\Turing\\szPqN\\src\\inference\\hmc.jl:191\n",
      "┌ Info: Found initial step size\n",
      "│   ϵ = 9.765625e-5\n",
      "└ @ Turing.Inference D:\\.julia\\packages\\Turing\\szPqN\\src\\inference\\hmc.jl:191\n",
      "┌ Warning: The current proposal will be rejected due to numerical error(s).\n",
      "│   isfinite.((θ, r, ℓπ, ℓκ)) = (true, false, false, false)\n",
      "└ @ AdvancedHMC D:\\.julia\\packages\\AdvancedHMC\\51xgc\\src\\hamiltonian.jl:47\n",
      "┌ Info: Found initial step size\n",
      "│   ϵ = 4.8828125e-5\n",
      "└ @ Turing.Inference D:\\.julia\\packages\\Turing\\szPqN\\src\\inference\\hmc.jl:191\n",
      "┌ Info: Found initial step size\n",
      "│   ϵ = 9.765625e-5\n",
      "└ @ Turing.Inference D:\\.julia\\packages\\Turing\\szPqN\\src\\inference\\hmc.jl:191\n",
      "┌ Warning: The current proposal will be rejected due to numerical error(s).\n",
      "│   isfinite.((θ, r, ℓπ, ℓκ)) = (true, false, false, false)\n",
      "└ @ AdvancedHMC D:\\.julia\\packages\\AdvancedHMC\\51xgc\\src\\hamiltonian.jl:47\n",
      "\u001b[32mSampling (10 threads): 100%|████████████████████████████| Time: 0:00:04\u001b[39m\n"
     ]
    }
   ],
   "source": [
    "L = 10^5\n",
    "n_threads = min(Threads.nthreads(), 10)\n",
    "chn = sample(normaldistmodel_flat(y), NUTS(), MCMCThreads(), L, n_threads);"
   ]
  },
  {
   "cell_type": "code",
   "execution_count": 34,
   "id": "f3207bdf",
   "metadata": {},
   "outputs": [
    {
     "data": {
      "text/plain": [
       "Chains MCMC chain (100000×14×10 Array{Float64, 3}):\n",
       "\n",
       "Iterations        = 1001:1:101000\n",
       "Number of chains  = 10\n",
       "Samples per chain = 100000\n",
       "Wall duration     = 20.62 seconds\n",
       "Compute duration  = 165.49 seconds\n",
       "parameters        = σ², μ\n",
       "internals         = lp, n_steps, is_accept, acceptance_rate, log_density, hamiltonian_energy, hamiltonian_energy_error, max_hamiltonian_energy_error, tree_depth, numerical_error, step_size, nom_step_size\n",
       "\n",
       "Summary Statistics\n",
       " \u001b[1m parameters \u001b[0m \u001b[1m       mean \u001b[0m \u001b[1m        std \u001b[0m \u001b[1m naive_se \u001b[0m \u001b[1m    mcse \u001b[0m \u001b[1m         ess \u001b[0m \u001b[1m   \u001b[0m ⋯\n",
       " \u001b[90m     Symbol \u001b[0m \u001b[90m    Float64 \u001b[0m \u001b[90m    Float64 \u001b[0m \u001b[90m  Float64 \u001b[0m \u001b[90m Float64 \u001b[0m \u001b[90m     Float64 \u001b[0m \u001b[90m Fl\u001b[0m ⋯\n",
       "\n",
       "          σ²   18277.7351   37321.4636    37.3215   74.1366   234296.5066    1 ⋯\n",
       "           μ    9954.6509      60.3105     0.0603    0.1153   277475.0743    1 ⋯\n",
       "\u001b[36m                                                               2 columns omitted\u001b[0m\n",
       "\n",
       "Quantiles\n",
       " \u001b[1m parameters \u001b[0m \u001b[1m      2.5% \u001b[0m \u001b[1m     25.0% \u001b[0m \u001b[1m      50.0% \u001b[0m \u001b[1m      75.0% \u001b[0m \u001b[1m      97.5% \u001b[0m\n",
       " \u001b[90m     Symbol \u001b[0m \u001b[90m   Float64 \u001b[0m \u001b[90m   Float64 \u001b[0m \u001b[90m    Float64 \u001b[0m \u001b[90m    Float64 \u001b[0m \u001b[90m    Float64 \u001b[0m\n",
       "\n",
       "          σ²   3292.9945   6812.1201   10924.6827   19074.8087   75992.4073\n",
       "           μ   9835.4631   9922.8516    9954.6421    9986.3365   10073.8401\n"
      ]
     },
     "execution_count": 34,
     "metadata": {},
     "output_type": "execute_result"
    }
   ],
   "source": [
    "chn"
   ]
  },
  {
   "cell_type": "code",
   "execution_count": 35,
   "id": "9d63cabf",
   "metadata": {},
   "outputs": [
    {
     "name": "stdout",
     "output_type": "stream",
     "text": [
      "confint_ttest(y) = [9835.767050091436, 10073.557410033103]\n"
     ]
    }
   ],
   "source": [
    "@show confint_ttest(y);"
   ]
  },
  {
   "cell_type": "code",
   "execution_count": 36,
   "id": "8b0de515",
   "metadata": {},
   "outputs": [
    {
     "data": {
      "image/png": "[encoded data removed]"
     },
     "execution_count": 36,
     "metadata": {},
     "output_type": "execute_result"
    }
   ],
   "source": [
    "postμ_theoretical = posterior_μ_flat(y)\n",
    "postμ_ttest = posterior_μ_ttest(y)\n",
    "plot(legend=:outertop)\n",
    "stephist!(vec(chn[:μ]); norm=true, label=\"MCMC\")\n",
    "plot!(postμ_theoretical; label=\"theoretical\", ls=:dash)\n",
    "plot!(postμ_ttest; label=\"ȳ+√(s²/n)TDist(n-1)\", ls=:dashdot)\n",
    "plot!(xlim=quantile.(postμ_ttest, (0.001, 0.999)))"
   ]
  },
  {
   "cell_type": "code",
   "execution_count": 37,
   "id": "d115ab82",
   "metadata": {
    "scrolled": false
   },
   "outputs": [
    {
     "data": {
      "image/png": "[encoded data removed]"
     },
     "execution_count": 37,
     "metadata": {},
     "output_type": "execute_result"
    }
   ],
   "source": [
    "pdf_pred(y_new) = mean(pdf(Normal(μ, √σ²), y_new)\n",
    "    for (μ, σ²) in zip(vec(chn[:μ]), vec(chn[:σ²])))\n",
    "pred_theoretical = preddist_flat(y)\n",
    "pred_ttest = preddist_ttest(y)\n",
    "xlim = quantile.(pred_theoretical, (0.001, 0.999))\n",
    "\n",
    "plot(legend=:outertop)\n",
    "plot!(pdf_pred, xlim...; label=\"MCMC\")\n",
    "plot!(pred_theoretical, xlim...; label=\"theoretical\", ls=:dash)\n",
    "plot!(pred_ttest, xlim...; label=\"ȳ+√(s²(1+1/n))TDist(n-1)\", ls=:dashdot)"
   ]
  },
  {
   "cell_type": "markdown",
   "id": "ca936baf",
   "metadata": {},
   "source": [
    "### 通常の信頼区間と予測区間との比較\n",
    "\n",
    "通常の $t$ 分布を使う平均の信頼区間と次の値の予測区間の構成では以下を使う:\n",
    "\n",
    "$$\n",
    "\\frac{\\ybar - \\mu}{s\\big/\\!\\sqrt{n}} \\sim\n",
    "\\op{TDist}(n-1), \\quad\n",
    "\\frac{y_\\op{new} - \\ybar}{s\\sqrt{1+1/n}} \\sim\n",
    "\\op{TDist}(n-1).\n",
    "$$\n",
    "\n",
    "ここで, $s^2$ はデータの数値の不偏分散であり, $s$ はその平方根である.\n",
    "\n",
    "したがって, 前節の結果と比較すると, 通常の信頼区間と予測区間は, 平均と対数分散に関する一様事前分布に関する事後分布と予測分布を用いた区間推定に一致する."
   ]
  },
  {
   "cell_type": "markdown",
   "id": "38e5dd22",
   "metadata": {},
   "source": [
    "### データの数値から事前分布を決めた場合\n",
    "\n",
    "$a,b>0$ であると仮定する.\n",
    "\n",
    "データの数値から共役事前分布のパラメータを次の条件によって決めたと仮定する:\n",
    "\n",
    "$$\n",
    "E[\\mu] = \\mu_* = \\ybar, \\quad\n",
    "E[v] = \\frac{\\theta}{\\kappa-1} = \\sigmahat^2, \\quad\n",
    "\\var(\\mu) = v_* E[v] = a\\sigmahat^2, \\quad\n",
    "\\var(v) = \\frac{E[v]^2}{\\kappa-2} = b\\sigmahat^4.\n",
    "$$\n",
    "\n",
    "これは次と同値である:\n",
    "\n",
    "$$\n",
    "\\mu_* = \\ybar, \\quad\n",
    "v_* = a, \\quad\n",
    "\\kappa = 2 + \\frac{1}{b}, \\quad\n",
    "\\theta = \\sigmahat^2\\left(1 + \\frac{1}{b}\\right).\n",
    "$$\n",
    "\n",
    "このパラメータ値に対応する共役事前分布を以下では __適応事前分布__ (adaptive prior)と呼ぶことにする(注意: ここだけの用語).\n",
    "\n",
    "これのBayes更新の結果は以下のようになる:\n",
    "\n",
    "$$\n",
    "\\begin{alignedat}{2}\n",
    "&\n",
    "\\tilde\\kappa = 2 + \\frac{1}{b} + \\frac{n}{2} =\n",
    "\\frac{n}{2}\\left(1 + \\frac{2(2+1/b)}{n}\\right)\n",
    "& &\n",
    "\\to 2 + \\frac{n}{2},\n",
    "\\\\ &\n",
    "\\tilde\\theta =\n",
    "\\sigmahat^2\\left(1 + \\frac{1}{b} + \\frac{n}{2}\\right) + \\frac{n}{2}\\frac{(\\ybar - \\ybar)^2}{1+na} =\n",
    "\\frac{n\\sigmahat^2}{2}\\left(1 + \\frac{2(1+1/b))}{n}\\right)\n",
    "& &\n",
    "\\to \\sigmahat^2\\left(1 + \\frac{n}{2}\\right),\n",
    "\\\\ &\n",
    "\\tilde\\mu_* = \\frac{\\ybar+nv_*\\ybar}{1+nv_*} =\n",
    "\\ybar\n",
    "& &\n",
    "\\to \\ybar,\n",
    "\\\\ &\n",
    "\\tilde v_* = \\frac{a}{1+na} =\n",
    "\\frac{1}{n}\\frac{1}{1+1/(na)}\n",
    "& &\n",
    "\\to \\frac{1}{n}.\n",
    "\\end{alignedat}\n",
    "$$\n",
    "\n",
    "以上における $\\to$ は $a\\to\\infty$, $b\\to\\infty$ での極限を意味する.\n",
    "\n",
    "適応事前分布の構成のポイントは, $\\mu_* = \\ybar$ となっているおかげで, $\\tilde\\mu_*$ も $\\tilde\\mu_* = \\ybar$ となってバイアスが消え, さらに, $\\tilde\\theta$ の中の $\\ds\\frac{n}{2}\\frac{(\\ybar - \\mu_*)^2}{1+na}$ の項が消えて, 区間推定の幅が無用に広くならずに済むことである.\n",
    "\n",
    "ただし, 適応事前分布の場合には \n",
    "\n",
    "$$\n",
    "\\frac{\\tilde\\theta}{\\tilde\\kappa} =\n",
    "\\sigmahat^2\\frac{1 + 2(1+1/b)/n}{1 + 2(2+1/b)/n} < \\sigmahat^2, \\quad\n",
    "v_* = \\frac{1}{n}\\frac{1}{1+1/(na)} < \\frac{1}{n}\n",
    "$$\n",
    "\n",
    "なので, 区間推定の幅はJeffreys事前分布の場合よりも少し狭くなる.\n",
    "\n",
    "しかし, $n$ が大きければそれらの違いは小さくなる."
   ]
  },
  {
   "cell_type": "code",
   "execution_count": 38,
   "id": "65a713c3",
   "metadata": {},
   "outputs": [
    {
     "data": {
      "text/plain": [
       "posterior_adaptive (generic function with 2 methods)"
      ]
     },
     "execution_count": 38,
     "metadata": {},
     "output_type": "execute_result"
    }
   ],
   "source": [
    "function prior_adaptive(n, ȳ, σ̂²; a = 2.5, b = 2.5)\n",
    "    μstar = ȳ\n",
    "    vstar = a\n",
    "    κ = 2 + 1/b\n",
    "    θ = σ̂²*(1 + 1/b)\n",
    "    μstar, vstar, κ, θ\n",
    "end\n",
    "\n",
    "function prior_adaptive(y; a = 2.5, b = 2.5)\n",
    "    n, ȳ, σ̂² = length(y), mean(y), var(y; corrected=false)\n",
    "    prior_adaptive(n, ȳ, σ̂²; a, b)\n",
    "end\n",
    "\n",
    "function posterior_adaptive(n, ȳ, σ̂²; a = 2.5, b = 2.5)\n",
    "    μstar = ȳ\n",
    "    vstar = 1/(1/a + n)\n",
    "    κ = 2 + 1/b + n/2\n",
    "    θ = σ̂²*(1 + 1/b + n/2)\n",
    "    μstar, vstar, κ, θ\n",
    "end\n",
    "\n",
    "function posterior_adaptive(y; a = 2.5, b = 2.5)\n",
    "    n, ȳ, σ̂² = length(y), mean(y), var(y; corrected=false)\n",
    "    posterior_adaptive(n, ȳ, σ̂²; a, b)\n",
    "end"
   ]
  },
  {
   "cell_type": "code",
   "execution_count": 39,
   "id": "9acc7874",
   "metadata": {},
   "outputs": [
    {
     "name": "stdout",
     "output_type": "stream",
     "text": [
      "dist_true = Normal(μ_true, σ_true) = Normal{Float64}(μ=10000.0, σ=100.0)\n",
      "n = 5\n"
     ]
    },
    {
     "data": {
      "text/plain": [
       "5-element Vector{Float64}:\n",
       " 10102.081118449192\n",
       "  9930.482431353284\n",
       " 10080.615815000865\n",
       " 10015.69095813968\n",
       " 10014.573059324306"
      ]
     },
     "execution_count": 39,
     "metadata": {},
     "output_type": "execute_result"
    }
   ],
   "source": [
    "μ_true, σ_true, n = 1e4, 1e2, 5\n",
    "@show dist_true = Normal(μ_true, σ_true) n\n",
    "y = rand(Normal(μ_true, σ_true), n)"
   ]
  },
  {
   "cell_type": "code",
   "execution_count": 40,
   "id": "a6e1876a",
   "metadata": {},
   "outputs": [
    {
     "data": {
      "text/plain": [
       "(5, 10028.688676453467, 3619.1072329590634)"
      ]
     },
     "execution_count": 40,
     "metadata": {},
     "output_type": "execute_result"
    }
   ],
   "source": [
    "n, ȳ, σ̂² = length(y), mean(y), var(y; corrected=false)"
   ]
  },
  {
   "cell_type": "code",
   "execution_count": 41,
   "id": "98197a3c",
   "metadata": {},
   "outputs": [
    {
     "name": "stdout",
     "output_type": "stream",
     "text": [
      "(ȳ, σ̂², a * σ̂², b * σ̂² ^ 2) = (10028.688676453467, 3619.1072329590634, 9047.768082397659, 3.274484290914152e7)\n"
     ]
    },
    {
     "data": {
      "text/plain": [
       "(true, true, true, true)"
      ]
     },
     "execution_count": 41,
     "metadata": {},
     "output_type": "execute_result"
    }
   ],
   "source": [
    "μstar, vstar, κ, θ = prior_adaptive(y)\n",
    "a, b = 2.5, 2.5\n",
    "@show ȳ, σ̂², a*σ̂², b*σ̂²^2\n",
    "(ȳ, σ̂², a*σ̂², b*σ̂²^2) .≈ (μstar, θ/(κ - 1), (θ/(κ - 1))*vstar, (θ/(κ - 1))^2/(κ - 2))"
   ]
  },
  {
   "cell_type": "code",
   "execution_count": 42,
   "id": "13e02508",
   "metadata": {},
   "outputs": [
    {
     "data": {
      "text/plain": [
       "(10028.688676453467, 0.18518518518518517, 4.9, 14114.518208540347)"
      ]
     },
     "execution_count": 42,
     "metadata": {},
     "output_type": "execute_result"
    }
   ],
   "source": [
    "posterior_adaptive(n, ȳ, σ̂²)"
   ]
  },
  {
   "cell_type": "code",
   "execution_count": 43,
   "id": "994e8597",
   "metadata": {},
   "outputs": [
    {
     "data": {
      "text/plain": [
       "(10028.688676453465, 0.18518518518518517, 4.9, 14114.518208540347)"
      ]
     },
     "execution_count": 43,
     "metadata": {},
     "output_type": "execute_result"
    }
   ],
   "source": [
    "bayesian_update(prior_adaptive(y)..., y)"
   ]
  },
  {
   "cell_type": "code",
   "execution_count": 44,
   "id": "13292e70",
   "metadata": {},
   "outputs": [
    {
     "data": {
      "text/plain": [
       "(10028.688676453467, 0.18518518518518517, 4.9, 14114.518208540347)"
      ]
     },
     "execution_count": 44,
     "metadata": {},
     "output_type": "execute_result"
    }
   ],
   "source": [
    "posterior_adaptive(y)"
   ]
  },
  {
   "cell_type": "code",
   "execution_count": 45,
   "id": "734af5ae",
   "metadata": {},
   "outputs": [
    {
     "data": {
      "text/plain": [
       "(true, true, true, true)"
      ]
     },
     "execution_count": 45,
     "metadata": {},
     "output_type": "execute_result"
    }
   ],
   "source": [
    "posterior_adaptive(y) .≈ bayesian_update(prior_adaptive(y)..., y)"
   ]
  },
  {
   "cell_type": "markdown",
   "id": "4833fbdc",
   "metadata": {},
   "source": [
    "### n = 5 では適応事前分布の場合と無情報事前分布の場合の結果が結構違う."
   ]
  },
  {
   "cell_type": "code",
   "execution_count": 46,
   "id": "9e60b7a7",
   "metadata": {},
   "outputs": [
    {
     "data": {
      "text/plain": [
       "normaldistmodel_adaptive (generic function with 2 methods)"
      ]
     },
     "execution_count": 46,
     "metadata": {},
     "output_type": "execute_result"
    }
   ],
   "source": [
    "@model function normaldistmodel_adaptive(y; a = 2.5, b = 2.5)\n",
    "    μstar, vstar, κ, θ = prior_adaptive(y; a, b)\n",
    "    σ² ~ InverseGamma(κ, θ)\n",
    "    μ ~ Normal(μstar, √(vstar * σ²))\n",
    "    y ~ MvNormal(fill(μ, length(y)), σ²*I)\n",
    "end"
   ]
  },
  {
   "cell_type": "code",
   "execution_count": 47,
   "id": "21fb6fc6",
   "metadata": {},
   "outputs": [
    {
     "name": "stdout",
     "output_type": "stream",
     "text": [
      "dist_true = Normal(μ_true, σ_true) = Normal{Float64}(μ=10000.0, σ=100.0)\n",
      "n = 5\n"
     ]
    },
    {
     "data": {
      "text/plain": [
       "5-element Vector{Float64}:\n",
       "  9946.069559502377\n",
       "  9861.83165688509\n",
       "  9901.766727197712\n",
       " 10041.100428003567\n",
       " 10031.689212218684"
      ]
     },
     "execution_count": 47,
     "metadata": {},
     "output_type": "execute_result"
    }
   ],
   "source": [
    "μ_true, σ_true, n = 1e4, 1e2, 5\n",
    "@show dist_true = Normal(μ_true, σ_true) n\n",
    "y = rand(Normal(μ_true, σ_true), n)"
   ]
  },
  {
   "cell_type": "code",
   "execution_count": 48,
   "id": "bee73747",
   "metadata": {},
   "outputs": [
    {
     "name": "stderr",
     "output_type": "stream",
     "text": [
      "┌ Warning: The current proposal will be rejected due to numerical error(s).\n",
      "│   isfinite.((θ, r, ℓπ, ℓκ)) = (true, false, false, false)\n",
      "└ @ AdvancedHMC D:\\.julia\\packages\\AdvancedHMC\\51xgc\\src\\hamiltonian.jl:47\n",
      "┌ Warning: The current proposal will be rejected due to numerical error(s).\n",
      "│   isfinite.((θ, r, ℓπ, ℓκ)) = (true, false, false, false)\n",
      "└ @ AdvancedHMC D:\\.julia\\packages\\AdvancedHMC\\51xgc\\src\\hamiltonian.jl:47\n",
      "┌ Warning: The current proposal will be rejected due to numerical error(s).\n",
      "│   isfinite.((θ, r, ℓπ, ℓκ)) = (true, false, false, false)\n",
      "└ @ AdvancedHMC D:\\.julia\\packages\\AdvancedHMC\\51xgc\\src\\hamiltonian.jl:47\n",
      "┌ Warning: The current proposal will be rejected due to numerical error(s).\n",
      "│   isfinite.((θ, r, ℓπ, ℓκ)) = (true, false, false, false)\n",
      "└ @ AdvancedHMC D:\\.julia\\packages\\AdvancedHMC\\51xgc\\src\\hamiltonian.jl:47\n",
      "┌ Warning: The current proposal will be rejected due to numerical error(s).\n",
      "│   isfinite.((θ, r, ℓπ, ℓκ)) = (true, false, false, false)\n",
      "└ @ AdvancedHMC D:\\.julia\\packages\\AdvancedHMC\\51xgc\\src\\hamiltonian.jl:47\n",
      "┌ Warning: The current proposal will be rejected due to numerical error(s).\n",
      "│   isfinite.((θ, r, ℓπ, ℓκ)) = (true, false, false, false)\n",
      "└ @ AdvancedHMC D:\\.julia\\packages\\AdvancedHMC\\51xgc\\src\\hamiltonian.jl:47\n",
      "┌ Warning: The current proposal will be rejected due to numerical error(s).\n",
      "│   isfinite.((θ, r, ℓπ, ℓκ)) = (true, false, false, false)\n",
      "└ @ AdvancedHMC D:\\.julia\\packages\\AdvancedHMC\\51xgc\\src\\hamiltonian.jl:47\n",
      "┌ Warning: The current proposal will be rejected due to numerical error(s).\n",
      "│   isfinite.((θ, r, ℓπ, ℓκ)) = (true, false, false, false)\n",
      "└ @ AdvancedHMC D:\\.julia\\packages\\AdvancedHMC\\51xgc\\src\\hamiltonian.jl:47\n",
      "┌ Warning: The current proposal will be rejected due to numerical error(s).\n",
      "│   isfinite.((θ, r, ℓπ, ℓκ)) = (true, false, false, false)\n",
      "└ @ AdvancedHMC D:\\.julia\\packages\\AdvancedHMC\\51xgc\\src\\hamiltonian.jl:47\n",
      "┌ Warning: The current proposal will be rejected due to numerical error(s).\n",
      "│   isfinite.((θ, r, ℓπ, ℓκ)) = (true, false, false, false)\n",
      "└ @ AdvancedHMC D:\\.julia\\packages\\AdvancedHMC\\51xgc\\src\\hamiltonian.jl:47\n",
      "┌ Warning: The current proposal will be rejected due to numerical error(s).\n",
      "│   isfinite.((θ, r, ℓπ, ℓκ)) = (true, false, false, false)\n",
      "└ @ AdvancedHMC D:\\.julia\\packages\\AdvancedHMC\\51xgc\\src\\hamiltonian.jl:47\n",
      "┌ Warning: The current proposal will be rejected due to numerical error(s).\n",
      "│   isfinite.((θ, r, ℓπ, ℓκ)) = (true, false, false, false)\n",
      "└ @ AdvancedHMC D:\\.julia\\packages\\AdvancedHMC\\51xgc\\src\\hamiltonian.jl:47\n",
      "┌ Warning: The current proposal will be rejected due to numerical error(s).\n",
      "│   isfinite.((θ, r, ℓπ, ℓκ)) = (true, false, false, false)\n",
      "└ @ AdvancedHMC D:\\.julia\\packages\\AdvancedHMC\\51xgc\\src\\hamiltonian.jl:47\n",
      "┌ Warning: The current proposal will be rejected due to numerical error(s).\n",
      "│   isfinite.((θ, r, ℓπ, ℓκ)) = (true, false, false, false)\n",
      "└ @ AdvancedHMC D:\\.julia\\packages\\AdvancedHMC\\51xgc\\src\\hamiltonian.jl:47\n",
      "┌ Warning: The current proposal will be rejected due to numerical error(s).\n",
      "│   isfinite.((θ, r, ℓπ, ℓκ)) = (true, false, false, false)\n",
      "└ @ AdvancedHMC D:\\.julia\\packages\\AdvancedHMC\\51xgc\\src\\hamiltonian.jl:47\n",
      "┌ Warning: The current proposal will be rejected due to numerical error(s).\n",
      "│   isfinite.((θ, r, ℓπ, ℓκ)) = (true, false, false, false)\n",
      "└ @ AdvancedHMC D:\\.julia\\packages\\AdvancedHMC\\51xgc\\src\\hamiltonian.jl:47\n",
      "┌ Warning: The current proposal will be rejected due to numerical error(s).\n",
      "│   isfinite.((θ, r, ℓπ, ℓκ)) = (true, false, false, false)\n",
      "└ @ AdvancedHMC D:\\.julia\\packages\\AdvancedHMC\\51xgc\\src\\hamiltonian.jl:47\n",
      "┌ Warning: The current proposal will be rejected due to numerical error(s).\n",
      "│   isfinite.((θ, r, ℓπ, ℓκ)) = (true, false, false, false)\n",
      "└ @ AdvancedHMC D:\\.julia\\packages\\AdvancedHMC\\51xgc\\src\\hamiltonian.jl:47\n",
      "┌ Warning: The current proposal will be rejected due to numerical error(s).\n",
      "│   isfinite.((θ, r, ℓπ, ℓκ)) = (true, false, false, false)\n",
      "└ @ AdvancedHMC D:\\.julia\\packages\\AdvancedHMC\\51xgc\\src\\hamiltonian.jl:47\n",
      "┌ Warning: The current proposal will be rejected due to numerical error(s).\n",
      "│   isfinite.((θ, r, ℓπ, ℓκ)) = (true, false, false, false)\n",
      "└ @ AdvancedHMC D:\\.julia\\packages\\AdvancedHMC\\51xgc\\src\\hamiltonian.jl:47\n",
      "┌ Warning: The current proposal will be rejected due to numerical error(s).\n",
      "│   isfinite.((θ, r, ℓπ, ℓκ)) = (true, false, false, false)\n",
      "└ @ AdvancedHMC D:\\.julia\\packages\\AdvancedHMC\\51xgc\\src\\hamiltonian.jl:47\n",
      "┌ Warning: The current proposal will be rejected due to numerical error(s).\n",
      "│   isfinite.((θ, r, ℓπ, ℓκ)) = (true, false, false, false)\n",
      "└ @ AdvancedHMC D:\\.julia\\packages\\AdvancedHMC\\51xgc\\src\\hamiltonian.jl:47\n",
      "┌ Warning: The current proposal will be rejected due to numerical error(s).\n",
      "│   isfinite.((θ, r, ℓπ, ℓκ)) = (true, false, false, false)\n",
      "└ @ AdvancedHMC D:\\.julia\\packages\\AdvancedHMC\\51xgc\\src\\hamiltonian.jl:47\n",
      "┌ Warning: The current proposal will be rejected due to numerical error(s).\n",
      "│   isfinite.((θ, r, ℓπ, ℓκ)) = (true, false, false, false)\n",
      "└ @ AdvancedHMC D:\\.julia\\packages\\AdvancedHMC\\51xgc\\src\\hamiltonian.jl:47\n",
      "┌ Warning: The current proposal will be rejected due to numerical error(s).\n",
      "│   isfinite.((θ, r, ℓπ, ℓκ)) = (true, false, false, false)\n",
      "└ @ AdvancedHMC D:\\.julia\\packages\\AdvancedHMC\\51xgc\\src\\hamiltonian.jl:47\n",
      "┌ Warning: The current proposal will be rejected due to numerical error(s).\n",
      "│   isfinite.((θ, r, ℓπ, ℓκ)) = (true, false, false, false)\n",
      "└ @ AdvancedHMC D:\\.julia\\packages\\AdvancedHMC\\51xgc\\src\\hamiltonian.jl:47\n",
      "┌ Warning: The current proposal will be rejected due to numerical error(s).\n",
      "│   isfinite.((θ, r, ℓπ, ℓκ)) = (true, false, false, false)\n",
      "└ @ AdvancedHMC D:\\.julia\\packages\\AdvancedHMC\\51xgc\\src\\hamiltonian.jl:47\n",
      "┌ Warning: The current proposal will be rejected due to numerical error(s).\n",
      "│   isfinite.((θ, r, ℓπ, ℓκ)) = (true, false, false, false)\n",
      "└ @ AdvancedHMC D:\\.julia\\packages\\AdvancedHMC\\51xgc\\src\\hamiltonian.jl:47\n",
      "┌ Warning: The current proposal will be rejected due to numerical error(s).\n",
      "│   isfinite.((θ, r, ℓπ, ℓκ)) = (true, false, false, false)\n",
      "└ @ AdvancedHMC D:\\.julia\\packages\\AdvancedHMC\\51xgc\\src\\hamiltonian.jl:47\n",
      "┌ Warning: The current proposal will be rejected due to numerical error(s).\n",
      "│   isfinite.((θ, r, ℓπ, ℓκ)) = (true, false, false, false)\n",
      "└ @ AdvancedHMC D:\\.julia\\packages\\AdvancedHMC\\51xgc\\src\\hamiltonian.jl:47\n",
      "┌ Warning: The current proposal will be rejected due to numerical error(s).\n",
      "│   isfinite.((θ, r, ℓπ, ℓκ)) = (true, false, false, false)\n",
      "└ @ AdvancedHMC D:\\.julia\\packages\\AdvancedHMC\\51xgc\\src\\hamiltonian.jl:47\n",
      "┌ Warning: The current proposal will be rejected due to numerical error(s).\n",
      "│   isfinite.((θ, r, ℓπ, ℓκ)) = (true, false, false, false)\n",
      "└ @ AdvancedHMC D:\\.julia\\packages\\AdvancedHMC\\51xgc\\src\\hamiltonian.jl:47\n",
      "┌ Warning: The current proposal will be rejected due to numerical error(s).\n",
      "│   isfinite.((θ, r, ℓπ, ℓκ)) = (true, false, false, false)\n",
      "└ @ AdvancedHMC D:\\.julia\\packages\\AdvancedHMC\\51xgc\\src\\hamiltonian.jl:47\n",
      "┌ Warning: The current proposal will be rejected due to numerical error(s).\n",
      "│   isfinite.((θ, r, ℓπ, ℓκ)) = (true, false, false, false)\n",
      "└ @ AdvancedHMC D:\\.julia\\packages\\AdvancedHMC\\51xgc\\src\\hamiltonian.jl:47\n",
      "┌ Warning: The current proposal will be rejected due to numerical error(s).\n",
      "│   isfinite.((θ, r, ℓπ, ℓκ)) = (true, false, false, false)\n",
      "└ @ AdvancedHMC D:\\.julia\\packages\\AdvancedHMC\\51xgc\\src\\hamiltonian.jl:47\n",
      "┌ Warning: The current proposal will be rejected due to numerical error(s).\n",
      "│   isfinite.((θ, r, ℓπ, ℓκ)) = (true, false, false, false)\n",
      "└ @ AdvancedHMC D:\\.julia\\packages\\AdvancedHMC\\51xgc\\src\\hamiltonian.jl:47\n",
      "┌ Warning: The current proposal will be rejected due to numerical error(s).\n",
      "│   isfinite.((θ, r, ℓπ, ℓκ)) = (true, false, false, false)\n",
      "└ @ AdvancedHMC D:\\.julia\\packages\\AdvancedHMC\\51xgc\\src\\hamiltonian.jl:47\n",
      "┌ Warning: The current proposal will be rejected due to numerical error(s).\n",
      "│   isfinite.((θ, r, ℓπ, ℓκ)) = (true, false, false, false)\n",
      "└ @ AdvancedHMC D:\\.julia\\packages\\AdvancedHMC\\51xgc\\src\\hamiltonian.jl:47\n",
      "┌ Warning: The current proposal will be rejected due to numerical error(s).\n",
      "│   isfinite.((θ, r, ℓπ, ℓκ)) = (true, false, false, false)\n",
      "└ @ AdvancedHMC D:\\.julia\\packages\\AdvancedHMC\\51xgc\\src\\hamiltonian.jl:47\n",
      "┌ Warning: The current proposal will be rejected due to numerical error(s).\n",
      "│   isfinite.((θ, r, ℓπ, ℓκ)) = (true, false, false, false)\n",
      "└ @ AdvancedHMC D:\\.julia\\packages\\AdvancedHMC\\51xgc\\src\\hamiltonian.jl:47\n",
      "┌ Warning: The current proposal will be rejected due to numerical error(s).\n",
      "│   isfinite.((θ, r, ℓπ, ℓκ)) = (true, false, false, false)\n",
      "└ @ AdvancedHMC D:\\.julia\\packages\\AdvancedHMC\\51xgc\\src\\hamiltonian.jl:47\n",
      "┌ Warning: The current proposal will be rejected due to numerical error(s).\n",
      "│   isfinite.((θ, r, ℓπ, ℓκ)) = (true, false, false, false)\n",
      "└ @ AdvancedHMC D:\\.julia\\packages\\AdvancedHMC\\51xgc\\src\\hamiltonian.jl:47\n",
      "┌ Warning: The current proposal will be rejected due to numerical error(s).\n",
      "│   isfinite.((θ, r, ℓπ, ℓκ)) = (true, false, false, false)\n",
      "└ @ AdvancedHMC D:\\.julia\\packages\\AdvancedHMC\\51xgc\\src\\hamiltonian.jl:47\n",
      "┌ Warning: The current proposal will be rejected due to numerical error(s).\n",
      "│   isfinite.((θ, r, ℓπ, ℓκ)) = (true, false, false, false)\n",
      "└ @ AdvancedHMC D:\\.julia\\packages\\AdvancedHMC\\51xgc\\src\\hamiltonian.jl:47\n",
      "┌ Warning: The current proposal will be rejected due to numerical error(s).\n",
      "│   isfinite.((θ, r, ℓπ, ℓκ)) = (true, false, false, false)\n",
      "└ @ AdvancedHMC D:\\.julia\\packages\\AdvancedHMC\\51xgc\\src\\hamiltonian.jl:47\n",
      "┌ Warning: The current proposal will be rejected due to numerical error(s).\n",
      "│   isfinite.((θ, r, ℓπ, ℓκ)) = (true, false, false, false)\n",
      "└ @ AdvancedHMC D:\\.julia\\packages\\AdvancedHMC\\51xgc\\src\\hamiltonian.jl:47\n",
      "┌ Warning: The current proposal will be rejected due to numerical error(s).\n",
      "│   isfinite.((θ, r, ℓπ, ℓκ)) = (true, false, false, false)\n",
      "└ @ AdvancedHMC D:\\.julia\\packages\\AdvancedHMC\\51xgc\\src\\hamiltonian.jl:47\n"
     ]
    },
    {
     "name": "stderr",
     "output_type": "stream",
     "text": [
      "┌ Warning: The current proposal will be rejected due to numerical error(s).\n",
      "│   isfinite.((θ, r, ℓπ, ℓκ)) = (true, false, false, false)\n",
      "└ @ AdvancedHMC D:\\.julia\\packages\\AdvancedHMC\\51xgc\\src\\hamiltonian.jl:47\n",
      "┌ Warning: The current proposal will be rejected due to numerical error(s).\n",
      "│   isfinite.((θ, r, ℓπ, ℓκ)) = (true, false, false, false)\n",
      "└ @ AdvancedHMC D:\\.julia\\packages\\AdvancedHMC\\51xgc\\src\\hamiltonian.jl:47\n",
      "┌ Warning: The current proposal will be rejected due to numerical error(s).\n",
      "│   isfinite.((θ, r, ℓπ, ℓκ)) = (true, false, false, false)\n",
      "└ @ AdvancedHMC D:\\.julia\\packages\\AdvancedHMC\\51xgc\\src\\hamiltonian.jl:47\n",
      "┌ Warning: The current proposal will be rejected due to numerical error(s).\n",
      "│   isfinite.((θ, r, ℓπ, ℓκ)) = (true, false, false, false)\n",
      "└ @ AdvancedHMC D:\\.julia\\packages\\AdvancedHMC\\51xgc\\src\\hamiltonian.jl:47\n",
      "┌ Warning: The current proposal will be rejected due to numerical error(s).\n",
      "│   isfinite.((θ, r, ℓπ, ℓκ)) = (true, false, false, false)\n",
      "└ @ AdvancedHMC D:\\.julia\\packages\\AdvancedHMC\\51xgc\\src\\hamiltonian.jl:47\n",
      "┌ Warning: The current proposal will be rejected due to numerical error(s).\n",
      "│   isfinite.((θ, r, ℓπ, ℓκ)) = (true, false, false, false)\n",
      "└ @ AdvancedHMC D:\\.julia\\packages\\AdvancedHMC\\51xgc\\src\\hamiltonian.jl:47\n",
      "┌ Warning: The current proposal will be rejected due to numerical error(s).\n",
      "│   isfinite.((θ, r, ℓπ, ℓκ)) = (true, false, false, false)\n",
      "└ @ AdvancedHMC D:\\.julia\\packages\\AdvancedHMC\\51xgc\\src\\hamiltonian.jl:47\n",
      "┌ Warning: The current proposal will be rejected due to numerical error(s).\n",
      "│   isfinite.((θ, r, ℓπ, ℓκ)) = (true, false, false, false)\n",
      "└ @ AdvancedHMC D:\\.julia\\packages\\AdvancedHMC\\51xgc\\src\\hamiltonian.jl:47\n",
      "┌ Warning: The current proposal will be rejected due to numerical error(s).\n",
      "│   isfinite.((θ, r, ℓπ, ℓκ)) = (true, false, false, false)\n",
      "└ @ AdvancedHMC D:\\.julia\\packages\\AdvancedHMC\\51xgc\\src\\hamiltonian.jl:47\n",
      "┌ Warning: The current proposal will be rejected due to numerical error(s).\n",
      "│   isfinite.((θ, r, ℓπ, ℓκ)) = (true, false, false, false)\n",
      "└ @ AdvancedHMC D:\\.julia\\packages\\AdvancedHMC\\51xgc\\src\\hamiltonian.jl:47\n",
      "┌ Warning: The current proposal will be rejected due to numerical error(s).\n",
      "│   isfinite.((θ, r, ℓπ, ℓκ)) = (true, false, false, false)\n",
      "└ @ AdvancedHMC D:\\.julia\\packages\\AdvancedHMC\\51xgc\\src\\hamiltonian.jl:47\n",
      "┌ Warning: The current proposal will be rejected due to numerical error(s).\n",
      "│   isfinite.((θ, r, ℓπ, ℓκ)) = (true, false, false, false)\n",
      "└ @ AdvancedHMC D:\\.julia\\packages\\AdvancedHMC\\51xgc\\src\\hamiltonian.jl:47\n",
      "┌ Warning: The current proposal will be rejected due to numerical error(s).\n",
      "│   isfinite.((θ, r, ℓπ, ℓκ)) = (true, false, false, false)\n",
      "└ @ AdvancedHMC D:\\.julia\\packages\\AdvancedHMC\\51xgc\\src\\hamiltonian.jl:47\n",
      "┌ Warning: The current proposal will be rejected due to numerical error(s).\n",
      "│   isfinite.((θ, r, ℓπ, ℓκ)) = (true, false, false, false)\n",
      "└ @ AdvancedHMC D:\\.julia\\packages\\AdvancedHMC\\51xgc\\src\\hamiltonian.jl:47\n",
      "┌ Warning: The current proposal will be rejected due to numerical error(s).\n",
      "│   isfinite.((θ, r, ℓπ, ℓκ)) = (true, false, false, false)\n",
      "└ @ AdvancedHMC D:\\.julia\\packages\\AdvancedHMC\\51xgc\\src\\hamiltonian.jl:47\n",
      "┌ Info: Found initial step size\n",
      "│   ϵ = 0.0001953125\n",
      "└ @ Turing.Inference D:\\.julia\\packages\\Turing\\szPqN\\src\\inference\\hmc.jl:191\n",
      "┌ Info: Found initial step size\n",
      "│   ϵ = 0.0001953125\n",
      "└ @ Turing.Inference D:\\.julia\\packages\\Turing\\szPqN\\src\\inference\\hmc.jl:191\n",
      "┌ Info: Found initial step size\n",
      "│   ϵ = 0.0001953125\n",
      "└ @ Turing.Inference D:\\.julia\\packages\\Turing\\szPqN\\src\\inference\\hmc.jl:191\n",
      "┌ Info: Found initial step size\n",
      "│   ϵ = 0.0001953125\n",
      "└ @ Turing.Inference D:\\.julia\\packages\\Turing\\szPqN\\src\\inference\\hmc.jl:191\n",
      "┌ Warning: The current proposal will be rejected due to numerical error(s).\n",
      "│   isfinite.((θ, r, ℓπ, ℓκ)) = (true, false, false, false)\n",
      "└ @ AdvancedHMC D:\\.julia\\packages\\AdvancedHMC\\51xgc\\src\\hamiltonian.jl:47\n",
      "┌ Info: Found initial step size\n",
      "│   ϵ = 9.765625e-5\n",
      "└ @ Turing.Inference D:\\.julia\\packages\\Turing\\szPqN\\src\\inference\\hmc.jl:191\n",
      "┌ Info: Found initial step size\n",
      "│   ϵ = 0.0001953125\n",
      "└ @ Turing.Inference D:\\.julia\\packages\\Turing\\szPqN\\src\\inference\\hmc.jl:191\n",
      "┌ Warning: The current proposal will be rejected due to numerical error(s).\n",
      "│   isfinite.((θ, r, ℓπ, ℓκ)) = (true, false, false, false)\n",
      "└ @ AdvancedHMC D:\\.julia\\packages\\AdvancedHMC\\51xgc\\src\\hamiltonian.jl:47\n",
      "┌ Warning: The current proposal will be rejected due to numerical error(s).\n",
      "│   isfinite.((θ, r, ℓπ, ℓκ)) = (true, false, false, false)\n",
      "└ @ AdvancedHMC D:\\.julia\\packages\\AdvancedHMC\\51xgc\\src\\hamiltonian.jl:47\n",
      "┌ Warning: The current proposal will be rejected due to numerical error(s).\n",
      "│   isfinite.((θ, r, ℓπ, ℓκ)) = (true, false, false, false)\n",
      "└ @ AdvancedHMC D:\\.julia\\packages\\AdvancedHMC\\51xgc\\src\\hamiltonian.jl:47\n",
      "┌ Info: Found initial step size\n",
      "│   ϵ = 9.765625e-5\n",
      "└ @ Turing.Inference D:\\.julia\\packages\\Turing\\szPqN\\src\\inference\\hmc.jl:191\n",
      "┌ Info: Found initial step size\n",
      "│   ϵ = 4.8828125e-5\n",
      "└ @ Turing.Inference D:\\.julia\\packages\\Turing\\szPqN\\src\\inference\\hmc.jl:191\n",
      "┌ Info: Found initial step size\n",
      "│   ϵ = 9.765625e-5\n",
      "└ @ Turing.Inference D:\\.julia\\packages\\Turing\\szPqN\\src\\inference\\hmc.jl:191\n",
      "┌ Info: Found initial step size\n",
      "│   ϵ = 9.765625e-5\n",
      "└ @ Turing.Inference D:\\.julia\\packages\\Turing\\szPqN\\src\\inference\\hmc.jl:191\n",
      "\u001b[32mSampling (10 threads): 100%|████████████████████████████| Time: 0:00:02\u001b[39m\n"
     ]
    }
   ],
   "source": [
    "L = 10^5\n",
    "n_threads = min(Threads.nthreads(), 10)\n",
    "chn = sample(normaldistmodel_adaptive(y), NUTS(), MCMCThreads(), L, n_threads);"
   ]
  },
  {
   "cell_type": "code",
   "execution_count": 49,
   "id": "6e53bc2a",
   "metadata": {},
   "outputs": [
    {
     "data": {
      "text/plain": [
       "Chains MCMC chain (100000×14×10 Array{Float64, 3}):\n",
       "\n",
       "Iterations        = 1001:1:101000\n",
       "Number of chains  = 10\n",
       "Samples per chain = 100000\n",
       "Wall duration     = 16.8 seconds\n",
       "Compute duration  = 157.85 seconds\n",
       "parameters        = σ², μ\n",
       "internals         = lp, n_steps, is_accept, acceptance_rate, log_density, hamiltonian_energy, hamiltonian_energy_error, max_hamiltonian_energy_error, tree_depth, numerical_error, step_size, nom_step_size\n",
       "\n",
       "Summary Statistics\n",
       " \u001b[1m parameters \u001b[0m \u001b[1m      mean \u001b[0m \u001b[1m       std \u001b[0m \u001b[1m naive_se \u001b[0m \u001b[1m    mcse \u001b[0m \u001b[1m         ess \u001b[0m \u001b[1m    r\u001b[0m ⋯\n",
       " \u001b[90m     Symbol \u001b[0m \u001b[90m   Float64 \u001b[0m \u001b[90m   Float64 \u001b[0m \u001b[90m  Float64 \u001b[0m \u001b[90m Float64 \u001b[0m \u001b[90m     Float64 \u001b[0m \u001b[90m Floa\u001b[0m ⋯\n",
       "\n",
       "          σ²   4978.4667   2954.9242     2.9549    4.3254   465317.3372    1.0 ⋯\n",
       "           μ   9956.4990     30.4058     0.0304    0.0394   590162.5211    1.0 ⋯\n",
       "\u001b[36m                                                               2 columns omitted\u001b[0m\n",
       "\n",
       "Quantiles\n",
       " \u001b[1m parameters \u001b[0m \u001b[1m      2.5% \u001b[0m \u001b[1m     25.0% \u001b[0m \u001b[1m     50.0% \u001b[0m \u001b[1m     75.0% \u001b[0m \u001b[1m      97.5% \u001b[0m\n",
       " \u001b[90m     Symbol \u001b[0m \u001b[90m   Float64 \u001b[0m \u001b[90m   Float64 \u001b[0m \u001b[90m   Float64 \u001b[0m \u001b[90m   Float64 \u001b[0m \u001b[90m    Float64 \u001b[0m\n",
       "\n",
       "          σ²   1921.1438   3149.2091   4246.1308   5903.9391   12390.1907\n",
       "           μ   9895.7245   9937.5558   9956.4897   9975.4783   10017.0144\n"
      ]
     },
     "execution_count": 49,
     "metadata": {},
     "output_type": "execute_result"
    }
   ],
   "source": [
    "chn"
   ]
  },
  {
   "cell_type": "code",
   "execution_count": 50,
   "id": "54c4f719",
   "metadata": {},
   "outputs": [
    {
     "name": "stdout",
     "output_type": "stream",
     "text": [
      "confint_ttest(y) = [9858.570603726548, 10054.412429796423]\n"
     ]
    }
   ],
   "source": [
    "@show confint_ttest(y);"
   ]
  },
  {
   "cell_type": "code",
   "execution_count": 51,
   "id": "0b1a3d40",
   "metadata": {
    "scrolled": false
   },
   "outputs": [
    {
     "data": {
      "image/png": "[encoded data removed]"
     },
     "execution_count": 51,
     "metadata": {},
     "output_type": "execute_result"
    }
   ],
   "source": [
    "postμ_theoretical = posterior_μ(posterior_adaptive(y)...)\n",
    "postμ_ttest = posterior_μ_ttest(y)\n",
    "plot(legend=:outertop)\n",
    "stephist!(vec(chn[:μ]); norm=true, label=\"MCMC\")\n",
    "plot!(postμ_theoretical; label=\"theoretical\", ls=:dash)\n",
    "plot!(postμ_ttest; label=\"ȳ+√(s²/n)TDist(n-1)\", ls=:dashdot)\n",
    "plot!(xlim=quantile.(postμ_theoretical, (0.0001, 0.9999)))"
   ]
  },
  {
   "cell_type": "code",
   "execution_count": 52,
   "id": "7c6a2579",
   "metadata": {},
   "outputs": [
    {
     "data": {
      "image/png": "[encoded data removed]"
     },
     "execution_count": 52,
     "metadata": {},
     "output_type": "execute_result"
    }
   ],
   "source": [
    "pdf_pred(y_new) = mean(pdf(Normal(μ, √σ²), y_new)\n",
    "    for (μ, σ²) in zip(vec(chn[:μ]), vec(chn[:σ²])))\n",
    "pred_theoretical = preddist(posterior_adaptive(y)...)\n",
    "pred_ttest = preddist_ttest(y)\n",
    "xlim = quantile.(pred_theoretical, (0.001, 0.999))\n",
    "\n",
    "plot(legend=:outertop)\n",
    "plot!(pdf_pred, xlim...; label=\"MCMC\")\n",
    "plot!(pred_theoretical, xlim...; label=\"theoretical\", ls=:dash)\n",
    "plot!(pred_ttest, xlim...; label=\"ȳ+√(s²(1+1/n))TDist(n-1)\", ls=:dashdot)"
   ]
  },
  {
   "cell_type": "markdown",
   "id": "168f9fa6",
   "metadata": {},
   "source": [
    "以上のように $n=5$ の場合には, 適応事前分布の場合の結果は無情報事前分布の場合の結果(緑のdashdotライン)とかなり違う."
   ]
  },
  {
   "cell_type": "markdown",
   "id": "1371e594",
   "metadata": {},
   "source": [
    "### n = 20 ではデフォルト事前分布の場合と無情報事前分布の場合の結果が近付く."
   ]
  },
  {
   "cell_type": "code",
   "execution_count": 53,
   "id": "54218b1a",
   "metadata": {},
   "outputs": [
    {
     "name": "stdout",
     "output_type": "stream",
     "text": [
      "dist_true = Normal(μ_true, σ_true) = Normal{Float64}(μ=10000.0, σ=100.0)\n",
      "n = 20\n"
     ]
    }
   ],
   "source": [
    "μ_true, σ_true, n = 1e4, 1e2, 20\n",
    "@show dist_true = Normal(μ_true, σ_true) n\n",
    "y = rand(dist_true, n);"
   ]
  },
  {
   "cell_type": "code",
   "execution_count": 54,
   "id": "0bdb0a8b",
   "metadata": {},
   "outputs": [
    {
     "name": "stderr",
     "output_type": "stream",
     "text": [
      "┌ Warning: The current proposal will be rejected due to numerical error(s).\n",
      "│   isfinite.((θ, r, ℓπ, ℓκ)) = (true, false, false, false)\n",
      "└ @ AdvancedHMC D:\\.julia\\packages\\AdvancedHMC\\51xgc\\src\\hamiltonian.jl:47\n",
      "┌ Warning: The current proposal will be rejected due to numerical error(s).\n",
      "│   isfinite.((θ, r, ℓπ, ℓκ)) = (true, false, false, false)\n",
      "└ @ AdvancedHMC D:\\.julia\\packages\\AdvancedHMC\\51xgc\\src\\hamiltonian.jl:47\n",
      "┌ Warning: The current proposal will be rejected due to numerical error(s).\n",
      "│   isfinite.((θ, r, ℓπ, ℓκ)) = (true, false, false, false)\n",
      "└ @ AdvancedHMC D:\\.julia\\packages\\AdvancedHMC\\51xgc\\src\\hamiltonian.jl:47\n",
      "┌ Warning: The current proposal will be rejected due to numerical error(s).\n",
      "│   isfinite.((θ, r, ℓπ, ℓκ)) = (true, false, false, false)\n",
      "└ @ AdvancedHMC D:\\.julia\\packages\\AdvancedHMC\\51xgc\\src\\hamiltonian.jl:47\n",
      "┌ Warning: The current proposal will be rejected due to numerical error(s).\n",
      "│   isfinite.((θ, r, ℓπ, ℓκ)) = (true, false, false, false)\n",
      "└ @ AdvancedHMC D:\\.julia\\packages\\AdvancedHMC\\51xgc\\src\\hamiltonian.jl:47\n",
      "┌ Warning: The current proposal will be rejected due to numerical error(s).\n",
      "│   isfinite.((θ, r, ℓπ, ℓκ)) = (true, false, false, false)\n",
      "└ @ AdvancedHMC D:\\.julia\\packages\\AdvancedHMC\\51xgc\\src\\hamiltonian.jl:47\n",
      "┌ Warning: The current proposal will be rejected due to numerical error(s).\n",
      "│   isfinite.((θ, r, ℓπ, ℓκ)) = (true, false, false, false)\n",
      "└ @ AdvancedHMC D:\\.julia\\packages\\AdvancedHMC\\51xgc\\src\\hamiltonian.jl:47\n",
      "┌ Warning: The current proposal will be rejected due to numerical error(s).\n",
      "│   isfinite.((θ, r, ℓπ, ℓκ)) = (true, false, false, false)\n",
      "└ @ AdvancedHMC D:\\.julia\\packages\\AdvancedHMC\\51xgc\\src\\hamiltonian.jl:47\n",
      "┌ Warning: The current proposal will be rejected due to numerical error(s).\n",
      "│   isfinite.((θ, r, ℓπ, ℓκ)) = (true, false, false, false)\n",
      "└ @ AdvancedHMC D:\\.julia\\packages\\AdvancedHMC\\51xgc\\src\\hamiltonian.jl:47\n",
      "┌ Warning: The current proposal will be rejected due to numerical error(s).\n",
      "│   isfinite.((θ, r, ℓπ, ℓκ)) = (true, false, false, false)\n",
      "└ @ AdvancedHMC D:\\.julia\\packages\\AdvancedHMC\\51xgc\\src\\hamiltonian.jl:47\n",
      "┌ Warning: The current proposal will be rejected due to numerical error(s).\n",
      "│   isfinite.((θ, r, ℓπ, ℓκ)) = (true, false, false, false)\n",
      "└ @ AdvancedHMC D:\\.julia\\packages\\AdvancedHMC\\51xgc\\src\\hamiltonian.jl:47\n",
      "┌ Warning: The current proposal will be rejected due to numerical error(s).\n",
      "│   isfinite.((θ, r, ℓπ, ℓκ)) = (true, false, false, false)\n",
      "└ @ AdvancedHMC D:\\.julia\\packages\\AdvancedHMC\\51xgc\\src\\hamiltonian.jl:47\n",
      "┌ Warning: The current proposal will be rejected due to numerical error(s).\n",
      "│   isfinite.((θ, r, ℓπ, ℓκ)) = (true, false, false, false)\n",
      "└ @ AdvancedHMC D:\\.julia\\packages\\AdvancedHMC\\51xgc\\src\\hamiltonian.jl:47\n",
      "┌ Warning: The current proposal will be rejected due to numerical error(s).\n",
      "│   isfinite.((θ, r, ℓπ, ℓκ)) = (true, false, false, false)\n",
      "└ @ AdvancedHMC D:\\.julia\\packages\\AdvancedHMC\\51xgc\\src\\hamiltonian.jl:47\n",
      "┌ Warning: The current proposal will be rejected due to numerical error(s).\n",
      "│   isfinite.((θ, r, ℓπ, ℓκ)) = (true, false, false, false)\n",
      "└ @ AdvancedHMC D:\\.julia\\packages\\AdvancedHMC\\51xgc\\src\\hamiltonian.jl:47\n",
      "┌ Warning: The current proposal will be rejected due to numerical error(s).\n",
      "│   isfinite.((θ, r, ℓπ, ℓκ)) = (true, false, false, false)\n",
      "└ @ AdvancedHMC D:\\.julia\\packages\\AdvancedHMC\\51xgc\\src\\hamiltonian.jl:47\n",
      "┌ Warning: The current proposal will be rejected due to numerical error(s).\n",
      "│   isfinite.((θ, r, ℓπ, ℓκ)) = (true, false, false, false)\n",
      "└ @ AdvancedHMC D:\\.julia\\packages\\AdvancedHMC\\51xgc\\src\\hamiltonian.jl:47\n",
      "┌ Warning: The current proposal will be rejected due to numerical error(s).\n",
      "│   isfinite.((θ, r, ℓπ, ℓκ)) = (true, false, false, false)\n",
      "└ @ AdvancedHMC D:\\.julia\\packages\\AdvancedHMC\\51xgc\\src\\hamiltonian.jl:47\n",
      "┌ Warning: The current proposal will be rejected due to numerical error(s).\n",
      "│   isfinite.((θ, r, ℓπ, ℓκ)) = (true, false, false, false)\n",
      "└ @ AdvancedHMC D:\\.julia\\packages\\AdvancedHMC\\51xgc\\src\\hamiltonian.jl:47\n",
      "┌ Warning: The current proposal will be rejected due to numerical error(s).\n",
      "│   isfinite.((θ, r, ℓπ, ℓκ)) = (true, false, false, false)\n",
      "└ @ AdvancedHMC D:\\.julia\\packages\\AdvancedHMC\\51xgc\\src\\hamiltonian.jl:47\n",
      "┌ Warning: The current proposal will be rejected due to numerical error(s).\n",
      "│   isfinite.((θ, r, ℓπ, ℓκ)) = (true, false, false, false)\n",
      "└ @ AdvancedHMC D:\\.julia\\packages\\AdvancedHMC\\51xgc\\src\\hamiltonian.jl:47\n",
      "┌ Warning: The current proposal will be rejected due to numerical error(s).\n",
      "│   isfinite.((θ, r, ℓπ, ℓκ)) = (true, false, false, false)\n",
      "└ @ AdvancedHMC D:\\.julia\\packages\\AdvancedHMC\\51xgc\\src\\hamiltonian.jl:47\n",
      "┌ Warning: The current proposal will be rejected due to numerical error(s).\n",
      "│   isfinite.((θ, r, ℓπ, ℓκ)) = (true, false, false, false)\n",
      "└ @ AdvancedHMC D:\\.julia\\packages\\AdvancedHMC\\51xgc\\src\\hamiltonian.jl:47\n",
      "┌ Warning: The current proposal will be rejected due to numerical error(s).\n",
      "│   isfinite.((θ, r, ℓπ, ℓκ)) = (true, false, false, false)\n",
      "└ @ AdvancedHMC D:\\.julia\\packages\\AdvancedHMC\\51xgc\\src\\hamiltonian.jl:47\n",
      "┌ Warning: The current proposal will be rejected due to numerical error(s).\n",
      "│   isfinite.((θ, r, ℓπ, ℓκ)) = (true, false, false, false)\n",
      "└ @ AdvancedHMC D:\\.julia\\packages\\AdvancedHMC\\51xgc\\src\\hamiltonian.jl:47\n",
      "┌ Warning: The current proposal will be rejected due to numerical error(s).\n",
      "│   isfinite.((θ, r, ℓπ, ℓκ)) = (true, false, false, false)\n",
      "└ @ AdvancedHMC D:\\.julia\\packages\\AdvancedHMC\\51xgc\\src\\hamiltonian.jl:47\n",
      "┌ Warning: The current proposal will be rejected due to numerical error(s).\n",
      "│   isfinite.((θ, r, ℓπ, ℓκ)) = (true, false, false, false)\n",
      "└ @ AdvancedHMC D:\\.julia\\packages\\AdvancedHMC\\51xgc\\src\\hamiltonian.jl:47\n",
      "┌ Warning: The current proposal will be rejected due to numerical error(s).\n",
      "│   isfinite.((θ, r, ℓπ, ℓκ)) = (true, false, false, false)\n",
      "└ @ AdvancedHMC D:\\.julia\\packages\\AdvancedHMC\\51xgc\\src\\hamiltonian.jl:47\n",
      "┌ Warning: The current proposal will be rejected due to numerical error(s).\n",
      "│   isfinite.((θ, r, ℓπ, ℓκ)) = (true, false, false, false)\n",
      "└ @ AdvancedHMC D:\\.julia\\packages\\AdvancedHMC\\51xgc\\src\\hamiltonian.jl:47\n",
      "┌ Warning: The current proposal will be rejected due to numerical error(s).\n",
      "│   isfinite.((θ, r, ℓπ, ℓκ)) = (true, false, false, false)\n",
      "└ @ AdvancedHMC D:\\.julia\\packages\\AdvancedHMC\\51xgc\\src\\hamiltonian.jl:47\n",
      "┌ Warning: The current proposal will be rejected due to numerical error(s).\n",
      "│   isfinite.((θ, r, ℓπ, ℓκ)) = (true, false, false, false)\n",
      "└ @ AdvancedHMC D:\\.julia\\packages\\AdvancedHMC\\51xgc\\src\\hamiltonian.jl:47\n",
      "┌ Warning: The current proposal will be rejected due to numerical error(s).\n",
      "│   isfinite.((θ, r, ℓπ, ℓκ)) = (true, false, false, false)\n",
      "└ @ AdvancedHMC D:\\.julia\\packages\\AdvancedHMC\\51xgc\\src\\hamiltonian.jl:47\n",
      "┌ Warning: The current proposal will be rejected due to numerical error(s).\n",
      "│   isfinite.((θ, r, ℓπ, ℓκ)) = (true, false, false, false)\n",
      "└ @ AdvancedHMC D:\\.julia\\packages\\AdvancedHMC\\51xgc\\src\\hamiltonian.jl:47\n",
      "┌ Warning: The current proposal will be rejected due to numerical error(s).\n",
      "│   isfinite.((θ, r, ℓπ, ℓκ)) = (true, false, false, false)\n",
      "└ @ AdvancedHMC D:\\.julia\\packages\\AdvancedHMC\\51xgc\\src\\hamiltonian.jl:47\n",
      "┌ Warning: The current proposal will be rejected due to numerical error(s).\n",
      "│   isfinite.((θ, r, ℓπ, ℓκ)) = (true, false, false, false)\n",
      "└ @ AdvancedHMC D:\\.julia\\packages\\AdvancedHMC\\51xgc\\src\\hamiltonian.jl:47\n",
      "┌ Warning: The current proposal will be rejected due to numerical error(s).\n",
      "│   isfinite.((θ, r, ℓπ, ℓκ)) = (true, false, false, false)\n",
      "└ @ AdvancedHMC D:\\.julia\\packages\\AdvancedHMC\\51xgc\\src\\hamiltonian.jl:47\n",
      "┌ Warning: The current proposal will be rejected due to numerical error(s).\n",
      "│   isfinite.((θ, r, ℓπ, ℓκ)) = (true, false, false, false)\n",
      "└ @ AdvancedHMC D:\\.julia\\packages\\AdvancedHMC\\51xgc\\src\\hamiltonian.jl:47\n",
      "┌ Warning: The current proposal will be rejected due to numerical error(s).\n",
      "│   isfinite.((θ, r, ℓπ, ℓκ)) = (true, false, false, false)\n",
      "└ @ AdvancedHMC D:\\.julia\\packages\\AdvancedHMC\\51xgc\\src\\hamiltonian.jl:47\n",
      "┌ Warning: The current proposal will be rejected due to numerical error(s).\n",
      "│   isfinite.((θ, r, ℓπ, ℓκ)) = (true, false, false, false)\n",
      "└ @ AdvancedHMC D:\\.julia\\packages\\AdvancedHMC\\51xgc\\src\\hamiltonian.jl:47\n",
      "┌ Warning: The current proposal will be rejected due to numerical error(s).\n",
      "│   isfinite.((θ, r, ℓπ, ℓκ)) = (true, false, false, false)\n",
      "└ @ AdvancedHMC D:\\.julia\\packages\\AdvancedHMC\\51xgc\\src\\hamiltonian.jl:47\n",
      "┌ Warning: The current proposal will be rejected due to numerical error(s).\n",
      "│   isfinite.((θ, r, ℓπ, ℓκ)) = (true, false, false, false)\n",
      "└ @ AdvancedHMC D:\\.julia\\packages\\AdvancedHMC\\51xgc\\src\\hamiltonian.jl:47\n",
      "┌ Warning: The current proposal will be rejected due to numerical error(s).\n",
      "│   isfinite.((θ, r, ℓπ, ℓκ)) = (true, false, false, false)\n",
      "└ @ AdvancedHMC D:\\.julia\\packages\\AdvancedHMC\\51xgc\\src\\hamiltonian.jl:47\n",
      "┌ Warning: The current proposal will be rejected due to numerical error(s).\n",
      "│   isfinite.((θ, r, ℓπ, ℓκ)) = (true, false, false, false)\n",
      "└ @ AdvancedHMC D:\\.julia\\packages\\AdvancedHMC\\51xgc\\src\\hamiltonian.jl:47\n"
     ]
    },
    {
     "name": "stderr",
     "output_type": "stream",
     "text": [
      "┌ Warning: The current proposal will be rejected due to numerical error(s).\n",
      "│   isfinite.((θ, r, ℓπ, ℓκ)) = (true, false, false, false)\n",
      "└ @ AdvancedHMC D:\\.julia\\packages\\AdvancedHMC\\51xgc\\src\\hamiltonian.jl:47\n",
      "┌ Warning: The current proposal will be rejected due to numerical error(s).\n",
      "│   isfinite.((θ, r, ℓπ, ℓκ)) = (true, false, false, false)\n",
      "└ @ AdvancedHMC D:\\.julia\\packages\\AdvancedHMC\\51xgc\\src\\hamiltonian.jl:47\n",
      "┌ Warning: The current proposal will be rejected due to numerical error(s).\n",
      "│   isfinite.((θ, r, ℓπ, ℓκ)) = (true, false, false, false)\n",
      "└ @ AdvancedHMC D:\\.julia\\packages\\AdvancedHMC\\51xgc\\src\\hamiltonian.jl:47\n",
      "┌ Warning: The current proposal will be rejected due to numerical error(s).\n",
      "│   isfinite.((θ, r, ℓπ, ℓκ)) = (true, false, false, false)\n",
      "└ @ AdvancedHMC D:\\.julia\\packages\\AdvancedHMC\\51xgc\\src\\hamiltonian.jl:47\n",
      "┌ Warning: The current proposal will be rejected due to numerical error(s).\n",
      "│   isfinite.((θ, r, ℓπ, ℓκ)) = (true, false, false, false)\n",
      "└ @ AdvancedHMC D:\\.julia\\packages\\AdvancedHMC\\51xgc\\src\\hamiltonian.jl:47\n",
      "┌ Warning: The current proposal will be rejected due to numerical error(s).\n",
      "│   isfinite.((θ, r, ℓπ, ℓκ)) = (true, false, false, false)\n",
      "└ @ AdvancedHMC D:\\.julia\\packages\\AdvancedHMC\\51xgc\\src\\hamiltonian.jl:47\n",
      "┌ Warning: The current proposal will be rejected due to numerical error(s).\n",
      "│   isfinite.((θ, r, ℓπ, ℓκ)) = (true, false, false, false)\n",
      "└ @ AdvancedHMC D:\\.julia\\packages\\AdvancedHMC\\51xgc\\src\\hamiltonian.jl:47\n",
      "┌ Warning: The current proposal will be rejected due to numerical error(s).\n",
      "│   isfinite.((θ, r, ℓπ, ℓκ)) = (true, false, false, false)\n",
      "└ @ AdvancedHMC D:\\.julia\\packages\\AdvancedHMC\\51xgc\\src\\hamiltonian.jl:47\n",
      "┌ Warning: The current proposal will be rejected due to numerical error(s).\n",
      "│   isfinite.((θ, r, ℓπ, ℓκ)) = (true, false, false, false)\n",
      "└ @ AdvancedHMC D:\\.julia\\packages\\AdvancedHMC\\51xgc\\src\\hamiltonian.jl:47\n",
      "┌ Warning: The current proposal will be rejected due to numerical error(s).\n",
      "│   isfinite.((θ, r, ℓπ, ℓκ)) = (true, false, false, false)\n",
      "└ @ AdvancedHMC D:\\.julia\\packages\\AdvancedHMC\\51xgc\\src\\hamiltonian.jl:47\n",
      "┌ Warning: The current proposal will be rejected due to numerical error(s).\n",
      "│   isfinite.((θ, r, ℓπ, ℓκ)) = (true, false, false, false)\n",
      "└ @ AdvancedHMC D:\\.julia\\packages\\AdvancedHMC\\51xgc\\src\\hamiltonian.jl:47\n",
      "┌ Warning: The current proposal will be rejected due to numerical error(s).\n",
      "│   isfinite.((θ, r, ℓπ, ℓκ)) = (true, false, false, false)\n",
      "└ @ AdvancedHMC D:\\.julia\\packages\\AdvancedHMC\\51xgc\\src\\hamiltonian.jl:47\n",
      "┌ Warning: The current proposal will be rejected due to numerical error(s).\n",
      "│   isfinite.((θ, r, ℓπ, ℓκ)) = (true, false, false, false)\n",
      "└ @ AdvancedHMC D:\\.julia\\packages\\AdvancedHMC\\51xgc\\src\\hamiltonian.jl:47\n",
      "┌ Warning: The current proposal will be rejected due to numerical error(s).\n",
      "│   isfinite.((θ, r, ℓπ, ℓκ)) = (true, false, false, false)\n",
      "└ @ AdvancedHMC D:\\.julia\\packages\\AdvancedHMC\\51xgc\\src\\hamiltonian.jl:47\n",
      "┌ Warning: The current proposal will be rejected due to numerical error(s).\n",
      "│   isfinite.((θ, r, ℓπ, ℓκ)) = (true, false, false, false)\n",
      "└ @ AdvancedHMC D:\\.julia\\packages\\AdvancedHMC\\51xgc\\src\\hamiltonian.jl:47\n",
      "┌ Warning: The current proposal will be rejected due to numerical error(s).\n",
      "│   isfinite.((θ, r, ℓπ, ℓκ)) = (true, false, false, false)\n",
      "└ @ AdvancedHMC D:\\.julia\\packages\\AdvancedHMC\\51xgc\\src\\hamiltonian.jl:47\n",
      "┌ Warning: The current proposal will be rejected due to numerical error(s).\n",
      "│   isfinite.((θ, r, ℓπ, ℓκ)) = (true, false, false, false)\n",
      "└ @ AdvancedHMC D:\\.julia\\packages\\AdvancedHMC\\51xgc\\src\\hamiltonian.jl:47\n",
      "┌ Warning: The current proposal will be rejected due to numerical error(s).\n",
      "│   isfinite.((θ, r, ℓπ, ℓκ)) = (true, false, false, false)\n",
      "└ @ AdvancedHMC D:\\.julia\\packages\\AdvancedHMC\\51xgc\\src\\hamiltonian.jl:47\n",
      "┌ Warning: The current proposal will be rejected due to numerical error(s).\n",
      "│   isfinite.((θ, r, ℓπ, ℓκ)) = (true, false, false, false)\n",
      "└ @ AdvancedHMC D:\\.julia\\packages\\AdvancedHMC\\51xgc\\src\\hamiltonian.jl:47\n",
      "┌ Warning: The current proposal will be rejected due to numerical error(s).\n",
      "│   isfinite.((θ, r, ℓπ, ℓκ)) = (true, false, false, false)\n",
      "└ @ AdvancedHMC D:\\.julia\\packages\\AdvancedHMC\\51xgc\\src\\hamiltonian.jl:47\n",
      "┌ Warning: The current proposal will be rejected due to numerical error(s).\n",
      "│   isfinite.((θ, r, ℓπ, ℓκ)) = (true, false, false, false)\n",
      "└ @ AdvancedHMC D:\\.julia\\packages\\AdvancedHMC\\51xgc\\src\\hamiltonian.jl:47\n",
      "┌ Warning: The current proposal will be rejected due to numerical error(s).\n",
      "│   isfinite.((θ, r, ℓπ, ℓκ)) = (true, false, false, false)\n",
      "└ @ AdvancedHMC D:\\.julia\\packages\\AdvancedHMC\\51xgc\\src\\hamiltonian.jl:47\n",
      "┌ Info: Found initial step size\n",
      "│   ϵ = 0.0001953125\n",
      "└ @ Turing.Inference D:\\.julia\\packages\\Turing\\szPqN\\src\\inference\\hmc.jl:191\n",
      "┌ Warning: The current proposal will be rejected due to numerical error(s).\n",
      "│   isfinite.((θ, r, ℓπ, ℓκ)) = (true, false, false, false)\n",
      "└ @ AdvancedHMC D:\\.julia\\packages\\AdvancedHMC\\51xgc\\src\\hamiltonian.jl:47\n",
      "┌ Warning: The current proposal will be rejected due to numerical error(s).\n",
      "│   isfinite.((θ, r, ℓπ, ℓκ)) = (true, false, false, false)\n",
      "└ @ AdvancedHMC D:\\.julia\\packages\\AdvancedHMC\\51xgc\\src\\hamiltonian.jl:47\n",
      "┌ Warning: The current proposal will be rejected due to numerical error(s).\n",
      "│   isfinite.((θ, r, ℓπ, ℓκ)) = (true, false, false, false)\n",
      "└ @ AdvancedHMC D:\\.julia\\packages\\AdvancedHMC\\51xgc\\src\\hamiltonian.jl:47\n",
      "┌ Warning: The current proposal will be rejected due to numerical error(s).\n",
      "│   isfinite.((θ, r, ℓπ, ℓκ)) = (true, false, false, false)\n",
      "└ @ AdvancedHMC D:\\.julia\\packages\\AdvancedHMC\\51xgc\\src\\hamiltonian.jl:47\n",
      "┌ Warning: The current proposal will be rejected due to numerical error(s).\n",
      "│   isfinite.((θ, r, ℓπ, ℓκ)) = (true, false, false, false)\n",
      "└ @ AdvancedHMC D:\\.julia\\packages\\AdvancedHMC\\51xgc\\src\\hamiltonian.jl:47\n",
      "┌ Warning: The current proposal will be rejected due to numerical error(s).\n",
      "│   isfinite.((θ, r, ℓπ, ℓκ)) = (true, false, false, false)\n",
      "└ @ AdvancedHMC D:\\.julia\\packages\\AdvancedHMC\\51xgc\\src\\hamiltonian.jl:47\n",
      "┌ Warning: The current proposal will be rejected due to numerical error(s).\n",
      "│   isfinite.((θ, r, ℓπ, ℓκ)) = (true, false, false, false)\n",
      "└ @ AdvancedHMC D:\\.julia\\packages\\AdvancedHMC\\51xgc\\src\\hamiltonian.jl:47\n",
      "┌ Warning: The current proposal will be rejected due to numerical error(s).\n",
      "│   isfinite.((θ, r, ℓπ, ℓκ)) = (true, false, false, false)\n",
      "└ @ AdvancedHMC D:\\.julia\\packages\\AdvancedHMC\\51xgc\\src\\hamiltonian.jl:47\n",
      "┌ Info: Found initial step size\n",
      "│   ϵ = 9.765625e-5\n",
      "└ @ Turing.Inference D:\\.julia\\packages\\Turing\\szPqN\\src\\inference\\hmc.jl:191\n",
      "┌ Info: Found initial step size\n",
      "│   ϵ = 9.765625e-5\n",
      "└ @ Turing.Inference D:\\.julia\\packages\\Turing\\szPqN\\src\\inference\\hmc.jl:191\n",
      "┌ Warning: The current proposal will be rejected due to numerical error(s).\n",
      "│   isfinite.((θ, r, ℓπ, ℓκ)) = (true, false, false, false)\n",
      "└ @ AdvancedHMC D:\\.julia\\packages\\AdvancedHMC\\51xgc\\src\\hamiltonian.jl:47\n",
      "┌ Warning: The current proposal will be rejected due to numerical error(s).\n",
      "│   isfinite.((θ, r, ℓπ, ℓκ)) = (true, false, false, false)\n",
      "└ @ AdvancedHMC D:\\.julia\\packages\\AdvancedHMC\\51xgc\\src\\hamiltonian.jl:47\n",
      "┌ Warning: The current proposal will be rejected due to numerical error(s).\n",
      "│   isfinite.((θ, r, ℓπ, ℓκ)) = (true, false, false, false)\n",
      "└ @ AdvancedHMC D:\\.julia\\packages\\AdvancedHMC\\51xgc\\src\\hamiltonian.jl:47\n",
      "┌ Warning: The current proposal will be rejected due to numerical error(s).\n",
      "│   isfinite.((θ, r, ℓπ, ℓκ)) = (true, false, false, false)\n",
      "└ @ AdvancedHMC D:\\.julia\\packages\\AdvancedHMC\\51xgc\\src\\hamiltonian.jl:47\n",
      "┌ Warning: The current proposal will be rejected due to numerical error(s).\n",
      "│   isfinite.((θ, r, ℓπ, ℓκ)) = (true, false, false, false)\n",
      "└ @ AdvancedHMC D:\\.julia\\packages\\AdvancedHMC\\51xgc\\src\\hamiltonian.jl:47\n",
      "┌ Info: Found initial step size\n",
      "│   ϵ = 9.765625e-5\n",
      "└ @ Turing.Inference D:\\.julia\\packages\\Turing\\szPqN\\src\\inference\\hmc.jl:191\n",
      "┌ Info: Found initial step size\n",
      "│   ϵ = 9.765625e-5\n",
      "└ @ Turing.Inference D:\\.julia\\packages\\Turing\\szPqN\\src\\inference\\hmc.jl:191\n",
      "┌ Info: Found initial step size\n",
      "│   ϵ = 4.8828125e-5\n",
      "└ @ Turing.Inference D:\\.julia\\packages\\Turing\\szPqN\\src\\inference\\hmc.jl:191\n",
      "┌ Warning: The current proposal will be rejected due to numerical error(s).\n",
      "│   isfinite.((θ, r, ℓπ, ℓκ)) = (true, false, false, false)\n",
      "└ @ AdvancedHMC D:\\.julia\\packages\\AdvancedHMC\\51xgc\\src\\hamiltonian.jl:47\n",
      "┌ Info: Found initial step size\n",
      "│   ϵ = 2.44140625e-5\n",
      "└ @ Turing.Inference D:\\.julia\\packages\\Turing\\szPqN\\src\\inference\\hmc.jl:191\n",
      "┌ Info: Found initial step size\n",
      "│   ϵ = 2.44140625e-5\n",
      "└ @ Turing.Inference D:\\.julia\\packages\\Turing\\szPqN\\src\\inference\\hmc.jl:191\n",
      "┌ Info: Found initial step size\n",
      "│   ϵ = 2.44140625e-5\n",
      "└ @ Turing.Inference D:\\.julia\\packages\\Turing\\szPqN\\src\\inference\\hmc.jl:191\n",
      "┌ Info: Found initial step size\n",
      "│   ϵ = 2.44140625e-5\n",
      "└ @ Turing.Inference D:\\.julia\\packages\\Turing\\szPqN\\src\\inference\\hmc.jl:191\n"
     ]
    },
    {
     "name": "stderr",
     "output_type": "stream",
     "text": [
      "┌ Warning: The current proposal will be rejected due to numerical error(s).\n",
      "│   isfinite.((θ, r, ℓπ, ℓκ)) = (true, false, false, false)\n",
      "└ @ AdvancedHMC D:\\.julia\\packages\\AdvancedHMC\\51xgc\\src\\hamiltonian.jl:47\n",
      "\u001b[32mSampling (10 threads): 100%|████████████████████████████| Time: 0:00:03\u001b[39m\n"
     ]
    }
   ],
   "source": [
    "L = 10^5\n",
    "n_threads = min(Threads.nthreads(), 10)\n",
    "chn = sample(normaldistmodel_adaptive(y), NUTS(), MCMCThreads(), L, n_threads);"
   ]
  },
  {
   "cell_type": "code",
   "execution_count": 55,
   "id": "1253f2e3",
   "metadata": {},
   "outputs": [
    {
     "data": {
      "text/plain": [
       "Chains MCMC chain (100000×14×10 Array{Float64, 3}):\n",
       "\n",
       "Iterations        = 1001:1:101000\n",
       "Number of chains  = 10\n",
       "Samples per chain = 100000\n",
       "Wall duration     = 14.84 seconds\n",
       "Compute duration  = 143.37 seconds\n",
       "parameters        = σ², μ\n",
       "internals         = lp, n_steps, is_accept, acceptance_rate, log_density, hamiltonian_energy, hamiltonian_energy_error, max_hamiltonian_energy_error, tree_depth, numerical_error, step_size, nom_step_size\n",
       "\n",
       "Summary Statistics\n",
       " \u001b[1m parameters \u001b[0m \u001b[1m       mean \u001b[0m \u001b[1m       std \u001b[0m \u001b[1m naive_se \u001b[0m \u001b[1m    mcse \u001b[0m \u001b[1m         ess \u001b[0m \u001b[1m    \u001b[0m ⋯\n",
       " \u001b[90m     Symbol \u001b[0m \u001b[90m    Float64 \u001b[0m \u001b[90m   Float64 \u001b[0m \u001b[90m  Float64 \u001b[0m \u001b[90m Float64 \u001b[0m \u001b[90m     Float64 \u001b[0m \u001b[90m Flo\u001b[0m ⋯\n",
       "\n",
       "          σ²   12368.7834   3839.5999     3.8396    4.6957   739574.7499    1. ⋯\n",
       "           μ    9975.2061     24.6510     0.0247    0.0265   850524.2570    1. ⋯\n",
       "\u001b[36m                                                               2 columns omitted\u001b[0m\n",
       "\n",
       "Quantiles\n",
       " \u001b[1m parameters \u001b[0m \u001b[1m      2.5% \u001b[0m \u001b[1m     25.0% \u001b[0m \u001b[1m      50.0% \u001b[0m \u001b[1m      75.0% \u001b[0m \u001b[1m      97.5% \u001b[0m\n",
       " \u001b[90m     Symbol \u001b[0m \u001b[90m   Float64 \u001b[0m \u001b[90m   Float64 \u001b[0m \u001b[90m    Float64 \u001b[0m \u001b[90m    Float64 \u001b[0m \u001b[90m    Float64 \u001b[0m\n",
       "\n",
       "          σ²   6982.6057   9678.0477   11683.1775   14275.5131   21753.5388\n",
       "           μ   9926.4278   9959.0326    9975.2190    9991.3992   10023.8365\n"
      ]
     },
     "execution_count": 55,
     "metadata": {},
     "output_type": "execute_result"
    }
   ],
   "source": [
    "chn"
   ]
  },
  {
   "cell_type": "code",
   "execution_count": 56,
   "id": "cdd06f6c",
   "metadata": {
    "scrolled": true
   },
   "outputs": [
    {
     "name": "stdout",
     "output_type": "stream",
     "text": [
      "confint_ttest(y) = [9921.786329083172, 10028.567649950483]\n"
     ]
    }
   ],
   "source": [
    "@show confint_ttest(y);"
   ]
  },
  {
   "cell_type": "code",
   "execution_count": 57,
   "id": "d01dcc4f",
   "metadata": {
    "scrolled": false
   },
   "outputs": [
    {
     "data": {
      "image/png": "[encoded data removed]"
     },
     "execution_count": 57,
     "metadata": {},
     "output_type": "execute_result"
    }
   ],
   "source": [
    "postμ_theoretical = posterior_μ(posterior_adaptive(y)...)\n",
    "postμ_ttest = posterior_μ_ttest(y)\n",
    "plot(legend=:outertop)\n",
    "stephist!(vec(chn[:μ]); norm=true, label=\"MCMC\")\n",
    "plot!(postμ_theoretical; label=\"theoretical\", ls=:dash)\n",
    "plot!(postμ_ttest; label=\"ȳ+√(s²/n)TDist(n-1)\", ls=:dashdot)\n",
    "plot!(xlim=quantile.(postμ_theoretical, (0.0001, 0.9999)))"
   ]
  },
  {
   "cell_type": "code",
   "execution_count": 58,
   "id": "5ba51e43",
   "metadata": {},
   "outputs": [
    {
     "data": {
      "image/png": "[encoded data removed]"
     },
     "execution_count": 58,
     "metadata": {},
     "output_type": "execute_result"
    }
   ],
   "source": [
    "pdf_pred(y_new) = mean(pdf(Normal(μ, √σ²), y_new)\n",
    "    for (μ, σ²) in zip(vec(chn[:μ]), vec(chn[:σ²])))\n",
    "pred_theoretical = preddist(posterior_adaptive(y)...)\n",
    "pred_ttest = preddist_ttest(y)\n",
    "xlim = quantile.(pred_theoretical, (0.0001, 0.9999))\n",
    "\n",
    "plot(legend=:outertop)\n",
    "plot!(pdf_pred, xlim...; label=\"MCMC\")\n",
    "plot!(pred_theoretical, xlim...; label=\"theoretical\", ls=:dash)\n",
    "plot!(pred_ttest, xlim...; label=\"ȳ+√(s²(1+1/n))TDist(n-1)\", ls=:dashdot)"
   ]
  },
  {
   "cell_type": "markdown",
   "id": "6e6d4a17",
   "metadata": {},
   "source": [
    "### n = 20 で事前分布とデータの数値の相性が悪い場合"
   ]
  },
  {
   "cell_type": "code",
   "execution_count": 59,
   "id": "a276c31b",
   "metadata": {},
   "outputs": [
    {
     "data": {
      "text/plain": [
       "normaldistmodel (generic function with 2 methods)"
      ]
     },
     "execution_count": 59,
     "metadata": {},
     "output_type": "execute_result"
    }
   ],
   "source": [
    "@model function normaldistmodel(y, μstar, vstar, κ, θ)\n",
    "    σ² ~ InverseGamma(κ, θ)\n",
    "    μ ~ Normal(μstar, √(vstar * σ²))\n",
    "    y ~ MvNormal(fill(μ, length(y)), σ²*I)\n",
    "end"
   ]
  },
  {
   "cell_type": "code",
   "execution_count": 60,
   "id": "f9208a9d",
   "metadata": {},
   "outputs": [
    {
     "name": "stdout",
     "output_type": "stream",
     "text": [
      "μstar = 0.0\n",
      "vstar = 10.0\n",
      "κ = 2.1\n",
      "θ = 1.1\n",
      "\n",
      "Eμ = 0.0\n",
      "Ev = 1.0\n",
      "var_μ = 10.0\n",
      "var_v = 9.999999999999991\n"
     ]
    }
   ],
   "source": [
    "a, b = 10.0, 10.0\n",
    "μstar, vstar, κ, θ = 0.0, a, 2 + 1/b, 1 + 1/b\n",
    "@show μstar vstar κ θ\n",
    "println()\n",
    "\n",
    "Eμ, Ev = μstar, θ/(κ - 1)\n",
    "var_μ, var_v = vstar*Ev, Ev^2/(κ - 2)\n",
    "@show Eμ Ev var_μ var_v;"
   ]
  },
  {
   "cell_type": "code",
   "execution_count": 61,
   "id": "f9621e5e",
   "metadata": {},
   "outputs": [
    {
     "name": "stdout",
     "output_type": "stream",
     "text": [
      "dist_true = Normal(μ_true, σ_true) = Normal{Float64}(μ=10000.0, σ=100.0)\n",
      "n = 20\n"
     ]
    }
   ],
   "source": [
    "μ_true, σ_true, n = 1e4, 1e2, 20\n",
    "@show dist_true = Normal(μ_true, σ_true) n\n",
    "y = rand(dist_true, n);"
   ]
  },
  {
   "cell_type": "code",
   "execution_count": 62,
   "id": "d71ef3ae",
   "metadata": {},
   "outputs": [
    {
     "name": "stderr",
     "output_type": "stream",
     "text": [
      "┌ Warning: The current proposal will be rejected due to numerical error(s).\n",
      "│   isfinite.((θ, r, ℓπ, ℓκ)) = (true, false, false, false)\n",
      "└ @ AdvancedHMC D:\\.julia\\packages\\AdvancedHMC\\51xgc\\src\\hamiltonian.jl:47\n",
      "┌ Warning: The current proposal will be rejected due to numerical error(s).\n",
      "│   isfinite.((θ, r, ℓπ, ℓκ)) = (true, false, false, false)\n",
      "└ @ AdvancedHMC D:\\.julia\\packages\\AdvancedHMC\\51xgc\\src\\hamiltonian.jl:47\n",
      "┌ Warning: The current proposal will be rejected due to numerical error(s).\n",
      "│   isfinite.((θ, r, ℓπ, ℓκ)) = (true, false, false, false)\n",
      "└ @ AdvancedHMC D:\\.julia\\packages\\AdvancedHMC\\51xgc\\src\\hamiltonian.jl:47\n",
      "┌ Warning: The current proposal will be rejected due to numerical error(s).\n",
      "│   isfinite.((θ, r, ℓπ, ℓκ)) = (true, false, false, false)\n",
      "└ @ AdvancedHMC D:\\.julia\\packages\\AdvancedHMC\\51xgc\\src\\hamiltonian.jl:47\n",
      "┌ Warning: The current proposal will be rejected due to numerical error(s).\n",
      "│   isfinite.((θ, r, ℓπ, ℓκ)) = (true, false, false, false)\n",
      "└ @ AdvancedHMC D:\\.julia\\packages\\AdvancedHMC\\51xgc\\src\\hamiltonian.jl:47\n",
      "┌ Warning: The current proposal will be rejected due to numerical error(s).\n",
      "│   isfinite.((θ, r, ℓπ, ℓκ)) = (true, false, false, false)\n",
      "└ @ AdvancedHMC D:\\.julia\\packages\\AdvancedHMC\\51xgc\\src\\hamiltonian.jl:47\n",
      "┌ Warning: The current proposal will be rejected due to numerical error(s).\n",
      "│   isfinite.((θ, r, ℓπ, ℓκ)) = (true, false, false, false)\n",
      "└ @ AdvancedHMC D:\\.julia\\packages\\AdvancedHMC\\51xgc\\src\\hamiltonian.jl:47\n",
      "┌ Warning: The current proposal will be rejected due to numerical error(s).\n",
      "│   isfinite.((θ, r, ℓπ, ℓκ)) = (true, false, false, false)\n",
      "└ @ AdvancedHMC D:\\.julia\\packages\\AdvancedHMC\\51xgc\\src\\hamiltonian.jl:47\n",
      "┌ Warning: The current proposal will be rejected due to numerical error(s).\n",
      "│   isfinite.((θ, r, ℓπ, ℓκ)) = (true, false, false, false)\n",
      "└ @ AdvancedHMC D:\\.julia\\packages\\AdvancedHMC\\51xgc\\src\\hamiltonian.jl:47\n",
      "┌ Warning: The current proposal will be rejected due to numerical error(s).\n",
      "│   isfinite.((θ, r, ℓπ, ℓκ)) = (true, false, false, false)\n",
      "└ @ AdvancedHMC D:\\.julia\\packages\\AdvancedHMC\\51xgc\\src\\hamiltonian.jl:47\n",
      "┌ Warning: The current proposal will be rejected due to numerical error(s).\n",
      "│   isfinite.((θ, r, ℓπ, ℓκ)) = (true, false, false, false)\n",
      "└ @ AdvancedHMC D:\\.julia\\packages\\AdvancedHMC\\51xgc\\src\\hamiltonian.jl:47\n",
      "┌ Warning: The current proposal will be rejected due to numerical error(s).\n",
      "│   isfinite.((θ, r, ℓπ, ℓκ)) = (true, false, false, false)\n",
      "└ @ AdvancedHMC D:\\.julia\\packages\\AdvancedHMC\\51xgc\\src\\hamiltonian.jl:47\n",
      "┌ Warning: The current proposal will be rejected due to numerical error(s).\n",
      "│   isfinite.((θ, r, ℓπ, ℓκ)) = (true, false, false, false)\n",
      "└ @ AdvancedHMC D:\\.julia\\packages\\AdvancedHMC\\51xgc\\src\\hamiltonian.jl:47\n",
      "┌ Warning: The current proposal will be rejected due to numerical error(s).\n",
      "│   isfinite.((θ, r, ℓπ, ℓκ)) = (true, false, false, false)\n",
      "└ @ AdvancedHMC D:\\.julia\\packages\\AdvancedHMC\\51xgc\\src\\hamiltonian.jl:47\n",
      "┌ Warning: The current proposal will be rejected due to numerical error(s).\n",
      "│   isfinite.((θ, r, ℓπ, ℓκ)) = (true, false, false, false)\n",
      "└ @ AdvancedHMC D:\\.julia\\packages\\AdvancedHMC\\51xgc\\src\\hamiltonian.jl:47\n",
      "┌ Warning: The current proposal will be rejected due to numerical error(s).\n",
      "│   isfinite.((θ, r, ℓπ, ℓκ)) = (true, false, false, false)\n",
      "└ @ AdvancedHMC D:\\.julia\\packages\\AdvancedHMC\\51xgc\\src\\hamiltonian.jl:47\n",
      "┌ Warning: The current proposal will be rejected due to numerical error(s).\n",
      "│   isfinite.((θ, r, ℓπ, ℓκ)) = (true, false, false, false)\n",
      "└ @ AdvancedHMC D:\\.julia\\packages\\AdvancedHMC\\51xgc\\src\\hamiltonian.jl:47\n",
      "┌ Warning: The current proposal will be rejected due to numerical error(s).\n",
      "│   isfinite.((θ, r, ℓπ, ℓκ)) = (true, false, false, false)\n",
      "└ @ AdvancedHMC D:\\.julia\\packages\\AdvancedHMC\\51xgc\\src\\hamiltonian.jl:47\n",
      "┌ Warning: The current proposal will be rejected due to numerical error(s).\n",
      "│   isfinite.((θ, r, ℓπ, ℓκ)) = (true, false, false, false)\n",
      "└ @ AdvancedHMC D:\\.julia\\packages\\AdvancedHMC\\51xgc\\src\\hamiltonian.jl:47\n",
      "┌ Warning: The current proposal will be rejected due to numerical error(s).\n",
      "│   isfinite.((θ, r, ℓπ, ℓκ)) = (true, false, false, false)\n",
      "└ @ AdvancedHMC D:\\.julia\\packages\\AdvancedHMC\\51xgc\\src\\hamiltonian.jl:47\n",
      "┌ Warning: The current proposal will be rejected due to numerical error(s).\n",
      "│   isfinite.((θ, r, ℓπ, ℓκ)) = (true, false, false, false)\n",
      "└ @ AdvancedHMC D:\\.julia\\packages\\AdvancedHMC\\51xgc\\src\\hamiltonian.jl:47\n",
      "┌ Warning: The current proposal will be rejected due to numerical error(s).\n",
      "│   isfinite.((θ, r, ℓπ, ℓκ)) = (true, false, false, false)\n",
      "└ @ AdvancedHMC D:\\.julia\\packages\\AdvancedHMC\\51xgc\\src\\hamiltonian.jl:47\n",
      "┌ Warning: The current proposal will be rejected due to numerical error(s).\n",
      "│   isfinite.((θ, r, ℓπ, ℓκ)) = (true, false, false, false)\n",
      "└ @ AdvancedHMC D:\\.julia\\packages\\AdvancedHMC\\51xgc\\src\\hamiltonian.jl:47\n",
      "┌ Warning: The current proposal will be rejected due to numerical error(s).\n",
      "│   isfinite.((θ, r, ℓπ, ℓκ)) = (true, false, false, false)\n",
      "└ @ AdvancedHMC D:\\.julia\\packages\\AdvancedHMC\\51xgc\\src\\hamiltonian.jl:47\n",
      "┌ Warning: The current proposal will be rejected due to numerical error(s).\n",
      "│   isfinite.((θ, r, ℓπ, ℓκ)) = (true, false, false, false)\n",
      "└ @ AdvancedHMC D:\\.julia\\packages\\AdvancedHMC\\51xgc\\src\\hamiltonian.jl:47\n",
      "┌ Warning: The current proposal will be rejected due to numerical error(s).\n",
      "│   isfinite.((θ, r, ℓπ, ℓκ)) = (true, false, false, false)\n",
      "└ @ AdvancedHMC D:\\.julia\\packages\\AdvancedHMC\\51xgc\\src\\hamiltonian.jl:47\n",
      "┌ Warning: The current proposal will be rejected due to numerical error(s).\n",
      "│   isfinite.((θ, r, ℓπ, ℓκ)) = (true, false, false, false)\n",
      "└ @ AdvancedHMC D:\\.julia\\packages\\AdvancedHMC\\51xgc\\src\\hamiltonian.jl:47\n",
      "┌ Warning: The current proposal will be rejected due to numerical error(s).\n",
      "│   isfinite.((θ, r, ℓπ, ℓκ)) = (true, false, false, false)\n",
      "└ @ AdvancedHMC D:\\.julia\\packages\\AdvancedHMC\\51xgc\\src\\hamiltonian.jl:47\n",
      "┌ Warning: The current proposal will be rejected due to numerical error(s).\n",
      "│   isfinite.((θ, r, ℓπ, ℓκ)) = (true, false, false, false)\n",
      "└ @ AdvancedHMC D:\\.julia\\packages\\AdvancedHMC\\51xgc\\src\\hamiltonian.jl:47\n",
      "┌ Warning: The current proposal will be rejected due to numerical error(s).\n",
      "│   isfinite.((θ, r, ℓπ, ℓκ)) = (true, false, false, false)\n",
      "└ @ AdvancedHMC D:\\.julia\\packages\\AdvancedHMC\\51xgc\\src\\hamiltonian.jl:47\n",
      "┌ Warning: The current proposal will be rejected due to numerical error(s).\n",
      "│   isfinite.((θ, r, ℓπ, ℓκ)) = (true, false, false, false)\n",
      "└ @ AdvancedHMC D:\\.julia\\packages\\AdvancedHMC\\51xgc\\src\\hamiltonian.jl:47\n",
      "┌ Warning: The current proposal will be rejected due to numerical error(s).\n",
      "│   isfinite.((θ, r, ℓπ, ℓκ)) = (true, false, false, false)\n",
      "└ @ AdvancedHMC D:\\.julia\\packages\\AdvancedHMC\\51xgc\\src\\hamiltonian.jl:47\n",
      "┌ Warning: The current proposal will be rejected due to numerical error(s).\n",
      "│   isfinite.((θ, r, ℓπ, ℓκ)) = (true, false, false, false)\n",
      "└ @ AdvancedHMC D:\\.julia\\packages\\AdvancedHMC\\51xgc\\src\\hamiltonian.jl:47\n",
      "┌ Warning: The current proposal will be rejected due to numerical error(s).\n",
      "│   isfinite.((θ, r, ℓπ, ℓκ)) = (true, false, false, false)\n",
      "└ @ AdvancedHMC D:\\.julia\\packages\\AdvancedHMC\\51xgc\\src\\hamiltonian.jl:47\n",
      "┌ Warning: The current proposal will be rejected due to numerical error(s).\n",
      "│   isfinite.((θ, r, ℓπ, ℓκ)) = (true, false, false, false)\n",
      "└ @ AdvancedHMC D:\\.julia\\packages\\AdvancedHMC\\51xgc\\src\\hamiltonian.jl:47\n",
      "┌ Warning: The current proposal will be rejected due to numerical error(s).\n",
      "│   isfinite.((θ, r, ℓπ, ℓκ)) = (true, false, false, false)\n",
      "└ @ AdvancedHMC D:\\.julia\\packages\\AdvancedHMC\\51xgc\\src\\hamiltonian.jl:47\n",
      "┌ Warning: The current proposal will be rejected due to numerical error(s).\n",
      "│   isfinite.((θ, r, ℓπ, ℓκ)) = (true, false, false, false)\n",
      "└ @ AdvancedHMC D:\\.julia\\packages\\AdvancedHMC\\51xgc\\src\\hamiltonian.jl:47\n",
      "┌ Warning: The current proposal will be rejected due to numerical error(s).\n",
      "│   isfinite.((θ, r, ℓπ, ℓκ)) = (true, false, false, false)\n",
      "└ @ AdvancedHMC D:\\.julia\\packages\\AdvancedHMC\\51xgc\\src\\hamiltonian.jl:47\n",
      "┌ Warning: The current proposal will be rejected due to numerical error(s).\n",
      "│   isfinite.((θ, r, ℓπ, ℓκ)) = (true, false, false, false)\n",
      "└ @ AdvancedHMC D:\\.julia\\packages\\AdvancedHMC\\51xgc\\src\\hamiltonian.jl:47\n",
      "┌ Warning: The current proposal will be rejected due to numerical error(s).\n",
      "│   isfinite.((θ, r, ℓπ, ℓκ)) = (true, false, false, false)\n",
      "└ @ AdvancedHMC D:\\.julia\\packages\\AdvancedHMC\\51xgc\\src\\hamiltonian.jl:47\n",
      "┌ Warning: The current proposal will be rejected due to numerical error(s).\n",
      "│   isfinite.((θ, r, ℓπ, ℓκ)) = (true, false, false, false)\n",
      "└ @ AdvancedHMC D:\\.julia\\packages\\AdvancedHMC\\51xgc\\src\\hamiltonian.jl:47\n",
      "┌ Warning: The current proposal will be rejected due to numerical error(s).\n",
      "│   isfinite.((θ, r, ℓπ, ℓκ)) = (true, false, false, false)\n",
      "└ @ AdvancedHMC D:\\.julia\\packages\\AdvancedHMC\\51xgc\\src\\hamiltonian.jl:47\n",
      "┌ Warning: The current proposal will be rejected due to numerical error(s).\n",
      "│   isfinite.((θ, r, ℓπ, ℓκ)) = (true, false, false, false)\n",
      "└ @ AdvancedHMC D:\\.julia\\packages\\AdvancedHMC\\51xgc\\src\\hamiltonian.jl:47\n",
      "┌ Warning: The current proposal will be rejected due to numerical error(s).\n",
      "│   isfinite.((θ, r, ℓπ, ℓκ)) = (true, false, false, false)\n",
      "└ @ AdvancedHMC D:\\.julia\\packages\\AdvancedHMC\\51xgc\\src\\hamiltonian.jl:47\n",
      "┌ Warning: The current proposal will be rejected due to numerical error(s).\n",
      "│   isfinite.((θ, r, ℓπ, ℓκ)) = (true, false, false, false)\n",
      "└ @ AdvancedHMC D:\\.julia\\packages\\AdvancedHMC\\51xgc\\src\\hamiltonian.jl:47\n",
      "┌ Warning: The current proposal will be rejected due to numerical error(s).\n",
      "│   isfinite.((θ, r, ℓπ, ℓκ)) = (true, false, false, false)\n",
      "└ @ AdvancedHMC D:\\.julia\\packages\\AdvancedHMC\\51xgc\\src\\hamiltonian.jl:47\n",
      "┌ Warning: The current proposal will be rejected due to numerical error(s).\n",
      "│   isfinite.((θ, r, ℓπ, ℓκ)) = (true, false, false, false)\n",
      "└ @ AdvancedHMC D:\\.julia\\packages\\AdvancedHMC\\51xgc\\src\\hamiltonian.jl:47\n",
      "┌ Warning: The current proposal will be rejected due to numerical error(s).\n",
      "│   isfinite.((θ, r, ℓπ, ℓκ)) = (true, false, false, false)\n",
      "└ @ AdvancedHMC D:\\.julia\\packages\\AdvancedHMC\\51xgc\\src\\hamiltonian.jl:47\n",
      "┌ Warning: The current proposal will be rejected due to numerical error(s).\n",
      "│   isfinite.((θ, r, ℓπ, ℓκ)) = (true, false, false, false)\n",
      "└ @ AdvancedHMC D:\\.julia\\packages\\AdvancedHMC\\51xgc\\src\\hamiltonian.jl:47\n",
      "┌ Warning: The current proposal will be rejected due to numerical error(s).\n",
      "│   isfinite.((θ, r, ℓπ, ℓκ)) = (true, false, false, false)\n",
      "└ @ AdvancedHMC D:\\.julia\\packages\\AdvancedHMC\\51xgc\\src\\hamiltonian.jl:47\n",
      "┌ Warning: The current proposal will be rejected due to numerical error(s).\n",
      "│   isfinite.((θ, r, ℓπ, ℓκ)) = (true, false, false, false)\n",
      "└ @ AdvancedHMC D:\\.julia\\packages\\AdvancedHMC\\51xgc\\src\\hamiltonian.jl:47\n",
      "┌ Warning: The current proposal will be rejected due to numerical error(s).\n",
      "│   isfinite.((θ, r, ℓπ, ℓκ)) = (true, false, false, false)\n",
      "└ @ AdvancedHMC D:\\.julia\\packages\\AdvancedHMC\\51xgc\\src\\hamiltonian.jl:47\n",
      "┌ Warning: The current proposal will be rejected due to numerical error(s).\n",
      "│   isfinite.((θ, r, ℓπ, ℓκ)) = (true, false, false, false)\n",
      "└ @ AdvancedHMC D:\\.julia\\packages\\AdvancedHMC\\51xgc\\src\\hamiltonian.jl:47\n",
      "┌ Warning: The current proposal will be rejected due to numerical error(s).\n",
      "│   isfinite.((θ, r, ℓπ, ℓκ)) = (true, false, false, false)\n",
      "└ @ AdvancedHMC D:\\.julia\\packages\\AdvancedHMC\\51xgc\\src\\hamiltonian.jl:47\n",
      "┌ Warning: The current proposal will be rejected due to numerical error(s).\n",
      "│   isfinite.((θ, r, ℓπ, ℓκ)) = (true, false, false, false)\n",
      "└ @ AdvancedHMC D:\\.julia\\packages\\AdvancedHMC\\51xgc\\src\\hamiltonian.jl:47\n",
      "┌ Warning: The current proposal will be rejected due to numerical error(s).\n",
      "│   isfinite.((θ, r, ℓπ, ℓκ)) = (true, false, false, false)\n",
      "└ @ AdvancedHMC D:\\.julia\\packages\\AdvancedHMC\\51xgc\\src\\hamiltonian.jl:47\n",
      "┌ Warning: The current proposal will be rejected due to numerical error(s).\n",
      "│   isfinite.((θ, r, ℓπ, ℓκ)) = (true, false, false, false)\n",
      "└ @ AdvancedHMC D:\\.julia\\packages\\AdvancedHMC\\51xgc\\src\\hamiltonian.jl:47\n",
      "┌ Warning: The current proposal will be rejected due to numerical error(s).\n",
      "│   isfinite.((θ, r, ℓπ, ℓκ)) = (true, false, false, false)\n",
      "└ @ AdvancedHMC D:\\.julia\\packages\\AdvancedHMC\\51xgc\\src\\hamiltonian.jl:47\n",
      "┌ Warning: The current proposal will be rejected due to numerical error(s).\n",
      "│   isfinite.((θ, r, ℓπ, ℓκ)) = (true, false, false, false)\n",
      "└ @ AdvancedHMC D:\\.julia\\packages\\AdvancedHMC\\51xgc\\src\\hamiltonian.jl:47\n",
      "┌ Warning: The current proposal will be rejected due to numerical error(s).\n",
      "│   isfinite.((θ, r, ℓπ, ℓκ)) = (true, false, false, false)\n",
      "└ @ AdvancedHMC D:\\.julia\\packages\\AdvancedHMC\\51xgc\\src\\hamiltonian.jl:47\n"
     ]
    },
    {
     "name": "stderr",
     "output_type": "stream",
     "text": [
      "┌ Warning: The current proposal will be rejected due to numerical error(s).\n",
      "│   isfinite.((θ, r, ℓπ, ℓκ)) = (true, false, false, false)\n",
      "└ @ AdvancedHMC D:\\.julia\\packages\\AdvancedHMC\\51xgc\\src\\hamiltonian.jl:47\n",
      "┌ Warning: The current proposal will be rejected due to numerical error(s).\n",
      "│   isfinite.((θ, r, ℓπ, ℓκ)) = (true, false, false, false)\n",
      "└ @ AdvancedHMC D:\\.julia\\packages\\AdvancedHMC\\51xgc\\src\\hamiltonian.jl:47\n",
      "┌ Warning: The current proposal will be rejected due to numerical error(s).\n",
      "│   isfinite.((θ, r, ℓπ, ℓκ)) = (true, false, false, false)\n",
      "└ @ AdvancedHMC D:\\.julia\\packages\\AdvancedHMC\\51xgc\\src\\hamiltonian.jl:47\n",
      "┌ Warning: The current proposal will be rejected due to numerical error(s).\n",
      "│   isfinite.((θ, r, ℓπ, ℓκ)) = (true, false, false, false)\n",
      "└ @ AdvancedHMC D:\\.julia\\packages\\AdvancedHMC\\51xgc\\src\\hamiltonian.jl:47\n",
      "┌ Warning: The current proposal will be rejected due to numerical error(s).\n",
      "│   isfinite.((θ, r, ℓπ, ℓκ)) = (true, false, false, false)\n",
      "└ @ AdvancedHMC D:\\.julia\\packages\\AdvancedHMC\\51xgc\\src\\hamiltonian.jl:47\n",
      "┌ Warning: The current proposal will be rejected due to numerical error(s).\n",
      "│   isfinite.((θ, r, ℓπ, ℓκ)) = (true, false, false, false)\n",
      "└ @ AdvancedHMC D:\\.julia\\packages\\AdvancedHMC\\51xgc\\src\\hamiltonian.jl:47\n",
      "┌ Warning: The current proposal will be rejected due to numerical error(s).\n",
      "│   isfinite.((θ, r, ℓπ, ℓκ)) = (true, false, false, false)\n",
      "└ @ AdvancedHMC D:\\.julia\\packages\\AdvancedHMC\\51xgc\\src\\hamiltonian.jl:47\n",
      "┌ Warning: The current proposal will be rejected due to numerical error(s).\n",
      "│   isfinite.((θ, r, ℓπ, ℓκ)) = (true, false, false, false)\n",
      "└ @ AdvancedHMC D:\\.julia\\packages\\AdvancedHMC\\51xgc\\src\\hamiltonian.jl:47\n",
      "┌ Warning: The current proposal will be rejected due to numerical error(s).\n",
      "│   isfinite.((θ, r, ℓπ, ℓκ)) = (true, false, false, false)\n",
      "└ @ AdvancedHMC D:\\.julia\\packages\\AdvancedHMC\\51xgc\\src\\hamiltonian.jl:47\n",
      "┌ Warning: The current proposal will be rejected due to numerical error(s).\n",
      "│   isfinite.((θ, r, ℓπ, ℓκ)) = (true, false, false, false)\n",
      "└ @ AdvancedHMC D:\\.julia\\packages\\AdvancedHMC\\51xgc\\src\\hamiltonian.jl:47\n",
      "┌ Warning: The current proposal will be rejected due to numerical error(s).\n",
      "│   isfinite.((θ, r, ℓπ, ℓκ)) = (true, false, false, false)\n",
      "└ @ AdvancedHMC D:\\.julia\\packages\\AdvancedHMC\\51xgc\\src\\hamiltonian.jl:47\n",
      "┌ Warning: The current proposal will be rejected due to numerical error(s).\n",
      "│   isfinite.((θ, r, ℓπ, ℓκ)) = (true, false, false, false)\n",
      "└ @ AdvancedHMC D:\\.julia\\packages\\AdvancedHMC\\51xgc\\src\\hamiltonian.jl:47\n",
      "┌ Warning: The current proposal will be rejected due to numerical error(s).\n",
      "│   isfinite.((θ, r, ℓπ, ℓκ)) = (true, false, false, false)\n",
      "└ @ AdvancedHMC D:\\.julia\\packages\\AdvancedHMC\\51xgc\\src\\hamiltonian.jl:47\n",
      "┌ Warning: The current proposal will be rejected due to numerical error(s).\n",
      "│   isfinite.((θ, r, ℓπ, ℓκ)) = (true, false, false, false)\n",
      "└ @ AdvancedHMC D:\\.julia\\packages\\AdvancedHMC\\51xgc\\src\\hamiltonian.jl:47\n",
      "┌ Warning: The current proposal will be rejected due to numerical error(s).\n",
      "│   isfinite.((θ, r, ℓπ, ℓκ)) = (true, false, false, false)\n",
      "└ @ AdvancedHMC D:\\.julia\\packages\\AdvancedHMC\\51xgc\\src\\hamiltonian.jl:47\n",
      "┌ Warning: The current proposal will be rejected due to numerical error(s).\n",
      "│   isfinite.((θ, r, ℓπ, ℓκ)) = (true, false, false, false)\n",
      "└ @ AdvancedHMC D:\\.julia\\packages\\AdvancedHMC\\51xgc\\src\\hamiltonian.jl:47\n",
      "┌ Info: Found initial step size\n",
      "│   ϵ = 0.0001953125\n",
      "└ @ Turing.Inference D:\\.julia\\packages\\Turing\\szPqN\\src\\inference\\hmc.jl:191\n",
      "┌ Warning: The current proposal will be rejected due to numerical error(s).\n",
      "│   isfinite.((θ, r, ℓπ, ℓκ)) = (true, false, false, false)\n",
      "└ @ AdvancedHMC D:\\.julia\\packages\\AdvancedHMC\\51xgc\\src\\hamiltonian.jl:47\n",
      "┌ Warning: The current proposal will be rejected due to numerical error(s).\n",
      "│   isfinite.((θ, r, ℓπ, ℓκ)) = (true, false, false, false)\n",
      "└ @ AdvancedHMC D:\\.julia\\packages\\AdvancedHMC\\51xgc\\src\\hamiltonian.jl:47\n",
      "┌ Info: Found initial step size\n",
      "│   ϵ = 9.765625e-5\n",
      "└ @ Turing.Inference D:\\.julia\\packages\\Turing\\szPqN\\src\\inference\\hmc.jl:191\n",
      "┌ Info: Found initial step size\n",
      "│   ϵ = 9.765625e-5\n",
      "└ @ Turing.Inference D:\\.julia\\packages\\Turing\\szPqN\\src\\inference\\hmc.jl:191\n",
      "┌ Info: Found initial step size\n",
      "│   ϵ = 4.8828125e-5\n",
      "└ @ Turing.Inference D:\\.julia\\packages\\Turing\\szPqN\\src\\inference\\hmc.jl:191\n",
      "┌ Info: Found initial step size\n",
      "│   ϵ = 4.8828125e-5\n",
      "└ @ Turing.Inference D:\\.julia\\packages\\Turing\\szPqN\\src\\inference\\hmc.jl:191\n",
      "┌ Info: Found initial step size\n",
      "│   ϵ = 4.8828125e-5\n",
      "└ @ Turing.Inference D:\\.julia\\packages\\Turing\\szPqN\\src\\inference\\hmc.jl:191\n",
      "┌ Info: Found initial step size\n",
      "│   ϵ = 4.8828125e-5\n",
      "└ @ Turing.Inference D:\\.julia\\packages\\Turing\\szPqN\\src\\inference\\hmc.jl:191\n",
      "┌ Warning: The current proposal will be rejected due to numerical error(s).\n",
      "│   isfinite.((θ, r, ℓπ, ℓκ)) = (true, false, false, false)\n",
      "└ @ AdvancedHMC D:\\.julia\\packages\\AdvancedHMC\\51xgc\\src\\hamiltonian.jl:47\n",
      "┌ Info: Found initial step size\n",
      "│   ϵ = 2.44140625e-5\n",
      "└ @ Turing.Inference D:\\.julia\\packages\\Turing\\szPqN\\src\\inference\\hmc.jl:191\n",
      "┌ Warning: The current proposal will be rejected due to numerical error(s).\n",
      "│   isfinite.((θ, r, ℓπ, ℓκ)) = (true, false, false, false)\n",
      "└ @ AdvancedHMC D:\\.julia\\packages\\AdvancedHMC\\51xgc\\src\\hamiltonian.jl:47\n",
      "┌ Info: Found initial step size\n",
      "│   ϵ = 4.8828125e-5\n",
      "└ @ Turing.Inference D:\\.julia\\packages\\Turing\\szPqN\\src\\inference\\hmc.jl:191\n",
      "┌ Info: Found initial step size\n",
      "│   ϵ = 2.44140625e-5\n",
      "└ @ Turing.Inference D:\\.julia\\packages\\Turing\\szPqN\\src\\inference\\hmc.jl:191\n"
     ]
    }
   ],
   "source": [
    "L = 10^5\n",
    "n_threads = min(Threads.nthreads(), 10)\n",
    "chn = sample(normaldistmodel(y, μstar, vstar, κ, θ), NUTS(), MCMCThreads(), L, n_threads);"
   ]
  },
  {
   "cell_type": "code",
   "execution_count": 63,
   "id": "5b58c559",
   "metadata": {},
   "outputs": [
    {
     "data": {
      "text/plain": [
       "Chains MCMC chain (100000×14×10 Array{Float64, 3}):\n",
       "\n",
       "Iterations        = 1001:1:101000\n",
       "Number of chains  = 10\n",
       "Samples per chain = 100000\n",
       "Wall duration     = 17.33 seconds\n",
       "Compute duration  = 165.4 seconds\n",
       "parameters        = σ², μ\n",
       "internals         = lp, n_steps, is_accept, acceptance_rate, log_density, hamiltonian_energy, hamiltonian_energy_error, max_hamiltonian_energy_error, tree_depth, numerical_error, step_size, nom_step_size\n",
       "\n",
       "Summary Statistics\n",
       " \u001b[1m parameters \u001b[0m \u001b[1m        mean \u001b[0m \u001b[1m         std \u001b[0m \u001b[1m naive_se \u001b[0m \u001b[1m     mcse \u001b[0m \u001b[1m         ess \u001b[0m \u001b[1m\u001b[0m ⋯\n",
       " \u001b[90m     Symbol \u001b[0m \u001b[90m     Float64 \u001b[0m \u001b[90m     Float64 \u001b[0m \u001b[90m  Float64 \u001b[0m \u001b[90m  Float64 \u001b[0m \u001b[90m     Float64 \u001b[0m \u001b[90m\u001b[0m ⋯\n",
       "\n",
       "          σ²   460313.9575   144591.6418   144.5916   175.2699   747641.9204   ⋯\n",
       "           μ     9944.9300      151.5219     0.1515     0.1699   840324.4052   ⋯\n",
       "\u001b[36m                                                               2 columns omitted\u001b[0m\n",
       "\n",
       "Quantiles\n",
       " \u001b[1m parameters \u001b[0m \u001b[1m        2.5% \u001b[0m \u001b[1m       25.0% \u001b[0m \u001b[1m       50.0% \u001b[0m \u001b[1m       75.0% \u001b[0m \u001b[1m       9\u001b[0m ⋯\n",
       " \u001b[90m     Symbol \u001b[0m \u001b[90m     Float64 \u001b[0m \u001b[90m     Float64 \u001b[0m \u001b[90m     Float64 \u001b[0m \u001b[90m     Float64 \u001b[0m \u001b[90m     Flo\u001b[0m ⋯\n",
       "\n",
       "          σ²   257817.2267   359166.1973   434349.4793   531842.8615   813021. ⋯\n",
       "           μ     9645.1297     9845.7225     9945.0358    10044.2212    10244. ⋯\n",
       "\u001b[36m                                                                1 column omitted\u001b[0m\n"
      ]
     },
     "execution_count": 63,
     "metadata": {},
     "output_type": "execute_result"
    }
   ],
   "source": [
    "chn"
   ]
  },
  {
   "cell_type": "code",
   "execution_count": 64,
   "id": "36b49e31",
   "metadata": {
    "scrolled": true
   },
   "outputs": [
    {
     "name": "stdout",
     "output_type": "stream",
     "text": [
      "confint_ttest(y) = [9937.96631203703, 10051.285553453114]\n"
     ]
    }
   ],
   "source": [
    "@show confint_ttest(y);"
   ]
  },
  {
   "cell_type": "code",
   "execution_count": 65,
   "id": "d7fd8049",
   "metadata": {
    "scrolled": false
   },
   "outputs": [
    {
     "data": {
      "image/png": "[encoded data removed]"
     },
     "execution_count": 65,
     "metadata": {},
     "output_type": "execute_result"
    }
   ],
   "source": [
    "postμ_theoretical = posterior_μ(bayesian_update(μstar, vstar, κ, θ, y)...)\n",
    "postμ_ttest = posterior_μ_ttest(y)\n",
    "xlim = quantile.(Ref(vec(chn[:μ])), (0.001, 0.999))\n",
    "\n",
    "plot(legend=:outertop)\n",
    "stephist!(vec(chn[:μ]); norm=true, label=\"MCMC\")\n",
    "plot!(postμ_theoretical, xlim...; label=\"theoretical\", ls=:dash)\n",
    "plot!(postμ_ttest, xlim...; label=\"ȳ+√(s²/n)TDist(n-1)\", ls=:dashdot)\n",
    "plot!(; xlim)"
   ]
  },
  {
   "cell_type": "code",
   "execution_count": 66,
   "id": "41a9fd89",
   "metadata": {},
   "outputs": [
    {
     "data": {
      "image/png": "[encoded data removed]"
     },
     "execution_count": 66,
     "metadata": {},
     "output_type": "execute_result"
    }
   ],
   "source": [
    "pdf_pred(y_new) = mean(pdf(Normal(μ, √σ²), y_new)\n",
    "    for (μ, σ²) in zip(vec(chn[:μ]), vec(chn[:σ²])))\n",
    "pred_theoretical = preddist(bayesian_update(μstar, vstar, κ, θ, y)...)\n",
    "pred_ttest = preddist_ttest(y)\n",
    "xlim = quantile.(pred_theoretical, (0.001, 0.999))\n",
    "\n",
    "plot(legend=:outertop)\n",
    "plot!(pdf_pred, xlim...; label=\"MCMC\")\n",
    "plot!(pred_theoretical, xlim...; label=\"theoretical\", ls=:dash)\n",
    "plot!(pred_ttest, xlim...; label=\"ȳ+√(s²(1+1/n))TDist(n-1)\", ls=:dashdot)"
   ]
  },
  {
   "cell_type": "code",
   "execution_count": null,
   "id": "a69aca29",
   "metadata": {},
   "outputs": [],
   "source": []
  }
 ],
 "metadata": {
  "@webio": {
   "lastCommId": null,
   "lastKernelId": null
  },
  "jupytext": {
   "formats": "ipynb,md"
  },
  "kernelspec": {
   "display_name": "Julia 1.8.0",
   "language": "julia",
   "name": "julia-1.8"
  },
  "language_info": {
   "file_extension": ".jl",
   "mimetype": "application/julia",
   "name": "julia",
   "version": "1.8.0"
  },
  "toc": {
   "base_numbering": 1,
   "nav_menu": {},
   "number_sections": true,
   "sideBar": true,
   "skip_h1_title": true,
   "title_cell": "目次",
   "title_sidebar": "目次",
   "toc_cell": true,
   "toc_position": {},
   "toc_section_display": true,
   "toc_window_display": false
  }
 },
 "nbformat": 4,
 "nbformat_minor": 5
}
