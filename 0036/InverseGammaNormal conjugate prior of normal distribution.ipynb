{
 "cells": [
  {
   "cell_type": "markdown",
   "id": "490c90db",
   "metadata": {},
   "source": [
    "# 正規分布モデルの共役事前分布によるベイズ統計\n",
    "\n",
    "* 黒木玄\n",
    "* 2022-09-03～2022-09-06\n",
    "$\n",
    "\\newcommand\\ds{\\displaystyle}\n",
    "\\newcommand\\op[1]{{\\operatorname{#1}}}\n",
    "\\newcommand\\R{{\\mathbb R}}\n",
    "\\newcommand\\var{\\op{var}}\n",
    "\\newcommand\\cov{\\op{cov}}\n",
    "\\newcommand\\ybar{{\\bar y}}\n",
    "\\newcommand\\sigmahat{{\\hat\\sigma}}\n",
    "$"
   ]
  },
  {
   "cell_type": "markdown",
   "id": "948ce7f1",
   "metadata": {
    "toc": true
   },
   "source": [
    "<h1>目次<span class=\"tocSkip\"></span></h1>\n",
    "<div class=\"toc\"><ul class=\"toc-item\"><li><span><a href=\"#正規分布モデルの共役事前分布とその応用\" data-toc-modified-id=\"正規分布モデルの共役事前分布とその応用-1\"><span class=\"toc-item-num\">1&nbsp;&nbsp;</span>正規分布モデルの共役事前分布とその応用</a></span><ul class=\"toc-item\"><li><span><a href=\"#逆ガンマ正規分布\" data-toc-modified-id=\"逆ガンマ正規分布-1.1\"><span class=\"toc-item-num\">1.1&nbsp;&nbsp;</span>逆ガンマ正規分布</a></span></li><li><span><a href=\"#共役事前分布のBayes更新\" data-toc-modified-id=\"共役事前分布のBayes更新-1.2\"><span class=\"toc-item-num\">1.2&nbsp;&nbsp;</span>共役事前分布のBayes更新</a></span></li><li><span><a href=\"#μの周辺事前・事後分布および事前・事後予測分布\" data-toc-modified-id=\"μの周辺事前・事後分布および事前・事後予測分布-1.3\"><span class=\"toc-item-num\">1.3&nbsp;&nbsp;</span>μの周辺事前・事後分布および事前・事後予測分布</a></span></li><li><span><a href=\"#Jeffreys事前分布の場合\" data-toc-modified-id=\"Jeffreys事前分布の場合-1.4\"><span class=\"toc-item-num\">1.4&nbsp;&nbsp;</span>Jeffreys事前分布の場合</a></span></li><li><span><a href=\"#Jeffreys事前分布の場合の結果の数値的確認\" data-toc-modified-id=\"Jeffreys事前分布の場合の結果の数値的確認-1.5\"><span class=\"toc-item-num\">1.5&nbsp;&nbsp;</span>Jeffreys事前分布の場合の結果の数値的確認</a></span></li><li><span><a href=\"#平均と対数分散について一様な事前分布の場合\" data-toc-modified-id=\"平均と対数分散について一様な事前分布の場合-1.6\"><span class=\"toc-item-num\">1.6&nbsp;&nbsp;</span>平均と対数分散について一様な事前分布の場合</a></span></li><li><span><a href=\"#平均と対数分散について一様な事前分布の場合の結果の数値的確認\" data-toc-modified-id=\"平均と対数分散について一様な事前分布の場合の結果の数値的確認-1.7\"><span class=\"toc-item-num\">1.7&nbsp;&nbsp;</span>平均と対数分散について一様な事前分布の場合の結果の数値的確認</a></span></li><li><span><a href=\"#通常の信頼区間と予測区間との比較\" data-toc-modified-id=\"通常の信頼区間と予測区間との比較-1.8\"><span class=\"toc-item-num\">1.8&nbsp;&nbsp;</span>通常の信頼区間と予測区間との比較</a></span></li><li><span><a href=\"#データの数値から事前分布を決めた場合\" data-toc-modified-id=\"データの数値から事前分布を決めた場合-1.9\"><span class=\"toc-item-num\">1.9&nbsp;&nbsp;</span>データの数値から事前分布を決めた場合</a></span></li><li><span><a href=\"#n-=-5-では適応事前分布の場合と無情報事前分布の場合の結果が結構違う.\" data-toc-modified-id=\"n-=-5-では適応事前分布の場合と無情報事前分布の場合の結果が結構違う.-1.10\"><span class=\"toc-item-num\">1.10&nbsp;&nbsp;</span>n = 5 では適応事前分布の場合と無情報事前分布の場合の結果が結構違う.</a></span></li><li><span><a href=\"#n-=-20-ではデフォルト事前分布の場合と無情報事前分布の場合の結果が近付く.\" data-toc-modified-id=\"n-=-20-ではデフォルト事前分布の場合と無情報事前分布の場合の結果が近付く.-1.11\"><span class=\"toc-item-num\">1.11&nbsp;&nbsp;</span>n = 20 ではデフォルト事前分布の場合と無情報事前分布の場合の結果が近付く.</a></span></li><li><span><a href=\"#n-=-20-で事前分布とデータの数値の相性が悪い場合\" data-toc-modified-id=\"n-=-20-で事前分布とデータの数値の相性が悪い場合-1.12\"><span class=\"toc-item-num\">1.12&nbsp;&nbsp;</span>n = 20 で事前分布とデータの数値の相性が悪い場合</a></span></li></ul></li></ul></div>"
   ]
  },
  {
   "cell_type": "code",
   "execution_count": 1,
   "id": "6de53329",
   "metadata": {},
   "outputs": [],
   "source": [
    "ENV[\"COLUMNS\"] = 120\n",
    "\n",
    "using Distributions\n",
    "using LinearAlgebra\n",
    "using Random\n",
    "using StatsPlots\n",
    "default(fmt=:png, size=(500, 350),\n",
    "    titlefontsize=10, tickfontsize=6, guidefontsize=9,\n",
    "    plot_titlefontsize=10)\n",
    "using SymPy\n",
    "using Turing"
   ]
  },
  {
   "cell_type": "code",
   "execution_count": 2,
   "id": "7e3197ec",
   "metadata": {},
   "outputs": [],
   "source": [
    "# Override the Base.show definition of SymPy.jl:\n",
    "# https://github.com/JuliaPy/SymPy.jl/blob/29c5bfd1d10ac53014fa7fef468bc8deccadc2fc/src/types.jl#L87-L105\n",
    "\n",
    "@eval SymPy function Base.show(io::IO, ::MIME\"text/latex\", x::SymbolicObject)\n",
    "    print(io, as_markdown(\"\\\\displaystyle \" *\n",
    "            sympy.latex(x, mode=\"plain\", fold_short_frac=false)))\n",
    "end\n",
    "@eval SymPy function Base.show(io::IO, ::MIME\"text/latex\", x::AbstractArray{Sym})\n",
    "    function toeqnarray(x::Vector{Sym})\n",
    "        a = join([\"\\\\displaystyle \" *\n",
    "                sympy.latex(x[i]) for i in 1:length(x)], \"\\\\\\\\\")\n",
    "        \"\"\"\\\\left[ \\\\begin{array}{r}$a\\\\end{array} \\\\right]\"\"\"\n",
    "    end\n",
    "    function toeqnarray(x::AbstractArray{Sym,2})\n",
    "        sz = size(x)\n",
    "        a = join([join(\"\\\\displaystyle \" .* map(sympy.latex, x[i,:]), \"&\")\n",
    "                for i in 1:sz[1]], \"\\\\\\\\\")\n",
    "        \"\\\\left[ \\\\begin{array}{\" * repeat(\"r\",sz[2]) * \"}\" * a * \"\\\\end{array}\\\\right]\"\n",
    "    end\n",
    "    print(io, as_markdown(toeqnarray(x)))\n",
    "end"
   ]
  },
  {
   "cell_type": "code",
   "execution_count": 3,
   "id": "c5ad7c99",
   "metadata": {},
   "outputs": [
    {
     "data": {
      "text/plain": [
       "confint_ttest (generic function with 2 methods)"
      ]
     },
     "execution_count": 3,
     "metadata": {},
     "output_type": "execute_result"
    }
   ],
   "source": [
    "# One sample t-test\n",
    "\n",
    "function pvalue_ttest(x̄, s², n, μ)\n",
    "    t = (x̄ - μ)/√(s²/n)\n",
    "    2ccdf(TDist(n-1), abs(t))\n",
    "end\n",
    "\n",
    "function pvalue_ttest(x, μ)\n",
    "    x̄, s², n = mean(x), var(x), length(x)\n",
    "    pvalue_ttest(x̄, s², n, μ)\n",
    "end\n",
    "\n",
    "function confint_ttest(x̄, s², n; α = 0.05)\n",
    "    c = quantile(TDist(n-1), 1-α/2)\n",
    "    [x̄ - c*√(s²/n), x̄ + c*√(s²/n)]\n",
    "end\n",
    "\n",
    "function confint_ttest(x; α = 0.05)\n",
    "    x̄, s², n = mean(x), var(x), length(x)\n",
    "    confint_ttest(x̄, s², n; α)\n",
    "end"
   ]
  },
  {
   "cell_type": "code",
   "execution_count": 4,
   "id": "46af2484",
   "metadata": {},
   "outputs": [
    {
     "data": {
      "text/plain": [
       "preddist_ttest (generic function with 2 methods)"
      ]
     },
     "execution_count": 4,
     "metadata": {},
     "output_type": "execute_result"
    }
   ],
   "source": [
    "# Bayesian analogue of one sample t-test\n",
    "\n",
    "posterior_μ_ttest(n, x̄, s²) = x̄ + √(s²/n)*TDist(n-1)\n",
    "posterior_μ_ttest(x) = posterior_μ_ttest(length(x), mean(x), var(x))\n",
    "\n",
    "preddist_ttest(n, x̄, s²) = x̄ + √(s²*(1 + 1/n))*TDist(n-1)\n",
    "preddist_ttest(x) = preddist_ttest(length(x), mean(x), var(x))"
   ]
  },
  {
   "cell_type": "code",
   "execution_count": 5,
   "id": "e1752d34",
   "metadata": {},
   "outputs": [
    {
     "data": {
      "text/latex": [
       "\\begin{verbatim}\n",
       "PowerPos(p::Real)\n",
       "\\end{verbatim}\n",
       "The \\emph{positive power distribution} with real-valued parameter \\texttt{p} is the improper distribution of real numbers that has the improper probability density function\n",
       "\n",
       "$$f(x) = \\begin{cases}\n",
       "0 & \\text{if } x \\leq 0, \\\\\n",
       "x^p & \\text{otherwise}.\n",
       "\\end{cases}$$\n"
      ],
      "text/markdown": [
       "```\n",
       "PowerPos(p::Real)\n",
       "```\n",
       "\n",
       "The *positive power distribution* with real-valued parameter `p` is the improper distribution of real numbers that has the improper probability density function\n",
       "\n",
       "$$\n",
       "f(x) = \\begin{cases}\n",
       "0 & \\text{if } x \\leq 0, \\\\\n",
       "x^p & \\text{otherwise}.\n",
       "\\end{cases}\n",
       "$$\n"
      ],
      "text/plain": [
       "\u001b[36m  PowerPos(p::Real)\u001b[39m\n",
       "\n",
       "  The \u001b[4mpositive power distribution\u001b[24m with real-valued parameter \u001b[36mp\u001b[39m is the improper distribution of real numbers that has\n",
       "  the improper probability density function\n",
       "\n",
       "\u001b[35m  f(x) = \\begin{cases}\u001b[39m\n",
       "\u001b[35m0 & \\text{if } x \\leq 0, \\\\\u001b[39m\n",
       "\u001b[35mx^p & \\text{otherwise}.\u001b[39m\n",
       "\u001b[35m\\end{cases}\u001b[39m"
      ]
     },
     "execution_count": 5,
     "metadata": {},
     "output_type": "execute_result"
    }
   ],
   "source": [
    "# Jeffreys事前分布などのimproper事前分布を定義するために以下が使われる.\n",
    "\n",
    "\"\"\"\n",
    "    PowerPos(p::Real)\n",
    "\n",
    "The *positive power distribution* with real-valued parameter `p` is the improper distribution\n",
    "of real numbers that has the improper probability density function\n",
    "\n",
    "```math\n",
    "f(x) = \\\\begin{cases}\n",
    "0 & \\\\text{if } x \\\\leq 0, \\\\\\\\\n",
    "x^p & \\\\text{otherwise}.\n",
    "\\\\end{cases}\n",
    "```\n",
    "\"\"\"\n",
    "struct PowerPos{T<:Real} <: ContinuousUnivariateDistribution\n",
    "    p::T\n",
    "end\n",
    "PowerPos(p::Integer) = PowerPos(float(p))\n",
    "\n",
    "Base.minimum(d::PowerPos{T}) where T = zero(T)\n",
    "Base.maximum(d::PowerPos{T}) where T = T(Inf)\n",
    "\n",
    "Base.rand(rng::Random.AbstractRNG, d::PowerPos) = rand(rng) + 0.5\n",
    "function Distributions.logpdf(d::PowerPos, x::Real)\n",
    "    T = float(eltype(x))\n",
    "    return x ≤ 0 ? T(-Inf) : d.p*log(x)\n",
    "end\n",
    "\n",
    "Distributions.pdf(d::PowerPos, x::Real) = exp(logpdf(d, x))\n",
    "\n",
    "# For vec support\n",
    "function Distributions.loglikelihood(d::PowerPos, x::AbstractVector{<:Real})\n",
    "    T = float(eltype(x))\n",
    "    return any(xi ≤ 0 for xi in x) ? T(-Inf) : d.p*log(prod(x))\n",
    "end\n",
    "\n",
    "@doc PowerPos"
   ]
  },
  {
   "cell_type": "code",
   "execution_count": 6,
   "id": "69044e48",
   "metadata": {},
   "outputs": [
    {
     "data": {
      "text/plain": [
       "MyInverseGamma (generic function with 1 method)"
      ]
     },
     "execution_count": 6,
     "metadata": {},
     "output_type": "execute_result"
    }
   ],
   "source": [
    "# 以下は使わないが,\n",
    "# Flat() や PowerPos(p) と正規分布や逆ガンマ分布の関係は次のようになっている.\n",
    "\n",
    "MyNormal(μ, σ) = σ == Inf ? Flat() : Normal(μ, σ)\n",
    "MyInverseGamma(κ, θ) = θ == 0 ? PowerPos(-κ-1) : InverseGamma(κ, θ)"
   ]
  },
  {
   "cell_type": "markdown",
   "id": "1b5cd5f7",
   "metadata": {},
   "source": [
    "## 正規分布モデルの共役事前分布とその応用"
   ]
  },
  {
   "cell_type": "markdown",
   "id": "57e54968",
   "metadata": {},
   "source": [
    "### 逆ガンマ正規分布\n",
    "\n",
    "平均 $\\mu\\in\\R$, 分散 $v=\\sigma^2\\in\\R_{>0}$ の正規分布の確率密度函数を次のように表す:\n",
    "\n",
    "$$\n",
    "p_\\op{Normal}(y|\\mu, v) =\n",
    "\\frac{1}{\\sqrt{2\\pi v}}\\exp\\left(-\\frac{1}{2v}(y-\\mu)^2\\right)\n",
    "\\quad (y\\in \\R).\n",
    "$$\n",
    "\n",
    "分散パラメータ $\\sigma^2$ を $v$ に書き直している理由は, $\\sigma^2$ を1つの変数として扱いたいからである.\n",
    "\n",
    "パラメータ $\\kappa, \\theta > 0$ の逆ガンマ分布の確率密度函数を次のように書くことにする:\n",
    "\n",
    "$$\n",
    "p_\\op{InverseGamma}(v|\\kappa,\\theta) =\n",
    "\\frac{\\theta^\\kappa}{\\Gamma(\\kappa)}\n",
    "v^{-\\kappa-1}\\exp\\left(-\\frac{\\theta}{v}\\right)\n",
    "\\quad (v > 0).\n",
    "$$\n",
    "\n",
    "$v$ がこの逆ガンマ分布に従う確率変数だとすると, \n",
    "\n",
    "$$\n",
    "\\begin{aligned}\n",
    "&\n",
    "\\frac{1}{v} \\sim\n",
    "\\op{Gamma}\\left(\\kappa,\\, \\frac{1}{\\theta}\\right) =\n",
    "\\frac{1}{2\\theta}\\op{Gamma}\\left(\\frac{2\\kappa}{2},\\, 2\\right) =\n",
    "\\frac{1}{2\\theta}\\op{Chisq}(2\\kappa),\n",
    "\\\\ &\n",
    "E[v] = \\frac{\\theta}{\\kappa - 1}, \\quad\n",
    "\\var(v) = \\frac{E[v]^2}{\\kappa - 2}.\n",
    "\\end{aligned}\n",
    "$$\n",
    "\n",
    "$A$ と $B$ が $\\mu, v$ に関する定数因子の違いを除いて等しいことを $A\\propto B$ と書くことにする.\n",
    "\n",
    "逆ガンマ正規分布の密度函数を次のように定義する:\n",
    "\n",
    "$$\n",
    "\\begin{aligned}\n",
    "p_\\op{InverseGammaNormal}(\\mu,v|\\mu_*, v_*, \\kappa, \\theta) &=\n",
    "p_\\op{Normal}(\\mu|\\mu_*, v_* v) p_\\op{InverseGamma}(v|\\kappa, \\theta)\n",
    "\\\\ &\\propto\n",
    "v^{-(\\kappa+1/2)-1}\n",
    "\\exp\\left(-\\frac{1}{v}\\left(\\theta + \\frac{1}{2v_*}(\\mu-\\mu_*)^2\\right)\\right).\n",
    "\\end{aligned}\n",
    "$$\n",
    "\n",
    "この逆ガンマ正規分布の密度函数に従う確率変数を $\\mu,v$ と書くと,\n",
    "\n",
    "$$\n",
    "E[v] = \\frac{\\theta}{\\kappa-1}, \\quad\n",
    "\\var(v) = \\frac{E[v]^2}{\\kappa-2}, \\quad\n",
    "\\cov(\\mu, v) = 0, \\quad\n",
    "E[\\mu] = \\mu_*, \\quad\n",
    "\\var(\\mu) = v_* E[v].\n",
    "$$\n",
    "\n",
    "この逆ガンマ正規分布が正規分布の共役事前分布になっていることを次の節で確認する. "
   ]
  },
  {
   "cell_type": "markdown",
   "id": "c7f8a93c",
   "metadata": {},
   "source": [
    "### 共役事前分布のBayes更新\n",
    "\n",
    "データの数値 $y_1,\\ldots,y_n$ が与えられたとき, 正規分布モデルの尤度函数は\n",
    "\n",
    "$$\n",
    "\\prod_{i=1}^n p_\\op{Normal}(y_i|\\mu,v) \\propto\n",
    "v^{-n/2}\\exp\\left(-\\frac{1}{2v}\\sum_{i=1}^n(y_i-\\mu)^2\\right)\n",
    "$$\n",
    "\n",
    "の形になる. このとき,\n",
    "\n",
    "$$\n",
    "\\ybar = \\frac{1}{n}\\sum_{i=1}^n y_i, \\quad\n",
    "\\sigmahat^2 = \\frac{1}{n}\\sum_{i=1}^n (y_i - \\ybar)^2.\n",
    "$$\n",
    "\n",
    "とおくと, \n",
    "\n",
    "$$\n",
    "\\sum_{i=1}^n(y_i-\\mu)^2 = n(\\mu - \\ybar)^2 + n\\sigmahat^2\n",
    "$$\n",
    "\n",
    "なので, 尤度を最大化する $\\mu, v$ は $\\mu=\\ybar$, $v=\\sigmahat^2$ になることがわかる.\n",
    "\n",
    "さらに, 次が成立することもわかる:\n",
    "\n",
    "$$\n",
    "\\begin{aligned}\n",
    "&\n",
    "\\prod_{i=1}^n p_\\op{Normal}(y_i|\\mu,v)\\times\n",
    "p_\\op{InverseGammaNormal}(\\mu,v|\\mu_*, v_*, \\kappa, \\theta)\n",
    "\\\\ &\\propto\n",
    "v^{-n/2}\\exp\\left(-\\frac{n}{2v}\\left((\\mu-\\ybar)^2 + \\sigmahat^2\\right)\\right)\\times\n",
    "v^{-(\\kappa+1/2)-1}\n",
    "\\exp\\left(-\\frac{1}{v}\\left(\\theta + \\frac{1}{2v_*}(\\mu-\\mu_*)^2\\right)\\right)\n",
    "\\\\ &=\n",
    "v^{-(\\kappa+n/2+1/2)-1}\n",
    "\\exp\\left(-\\frac{1}{v}\\left(\n",
    "\\theta + \\frac{n}{2}\\left(\\sigmahat^2 + \\frac{(\\ybar - \\mu_*)^2}{1+nv_*}\\right) +\n",
    "\\frac{1+nv_*}{2v_*}\\left(\\mu - \\frac{\\mu_*+nv_*\\ybar}{1+nv_*}\\right)^2\n",
    "\\right)\\right).\n",
    "\\end{aligned}\n",
    "$$\n",
    "\n",
    "ゆえに共役事前分布から得られる事後分布のパラメータは次のようになる:\n",
    "\n",
    "$$\n",
    "\\begin{alignedat}{2}\n",
    "&\n",
    "\\tilde\\kappa = \\kappa + \\frac{n}{2} =\n",
    "\\frac{n}{2}\\left(1 + \\frac{2\\kappa}{n}\\right), \n",
    "\\\\ &\n",
    "\\tilde\\theta =\n",
    "\\theta + \\frac{n}{2}\\left(\\sigmahat^2 + \\frac{(\\ybar - \\mu_*)^2}{1+nv_*}\\right) =\n",
    "\\frac{n\\sigmahat^2}{2}\\left(1 + \\frac{2\\theta}{n\\sigmahat^2} + \\frac{(\\ybar - \\mu_*)^2}{(1+nv_*)\\sigmahat^2}\\right),\n",
    "\\\\ &\n",
    "\\tilde\\mu_* = \\frac{\\mu_*+nv_*\\ybar}{1+nv_*} =\n",
    "\\ybar\\frac{1+\\mu_*/(nv_*\\ybar)}{1+1/(nv_*)}, \n",
    "\\\\ &\n",
    "\\tilde v_* = \\frac{v_*}{1+nv_*} =\n",
    "\\frac{1}{n}\\frac{1}{1+1/(nv_*)}.\n",
    "\\end{alignedat}\n",
    "$$"
   ]
  },
  {
   "cell_type": "code",
   "execution_count": 7,
   "id": "140a240d",
   "metadata": {},
   "outputs": [
    {
     "data": {
      "text/plain": [
       "bayesian_update (generic function with 2 methods)"
      ]
     },
     "execution_count": 7,
     "metadata": {},
     "output_type": "execute_result"
    }
   ],
   "source": [
    "function bayesian_update(μstar, vstar, κ, θ, n, ȳ, σ̂²)\n",
    "    μstar_new = (μstar/vstar + n*ȳ)/(1/vstar + n)\n",
    "    vstar_new = 1/(1/vstar + n)\n",
    "    κ_new = κ + n/2\n",
    "    θ_new = θ + (n/2)*(σ̂² + ((ȳ - μstar)^2/vstar)/(1/vstar + n))\n",
    "    μstar_new, vstar_new, κ_new, θ_new\n",
    "end\n",
    "\n",
    "function bayesian_update(μstar, vstar, κ, θ, y)\n",
    "    n, ȳ, σ̂² = length(y), mean(y), var(y; corrected=false)\n",
    "    bayesian_update(μstar, vstar, κ, θ, n, ȳ, σ̂²)\n",
    "end"
   ]
  },
  {
   "cell_type": "code",
   "execution_count": 8,
   "id": "6a29fa40",
   "metadata": {},
   "outputs": [
    {
     "data": {
      "text/plain": [
       "(n, ȳ, v̂, μ, v, μ0, v0, κ, θ)"
      ]
     },
     "execution_count": 8,
     "metadata": {},
     "output_type": "execute_result"
    }
   ],
   "source": [
    "@vars n ȳ v̂ μ v μ0 v0 κ θ"
   ]
  },
  {
   "cell_type": "code",
   "execution_count": 9,
   "id": "e30a774d",
   "metadata": {},
   "outputs": [
    {
     "data": {
      "text/latex": [
       "$\\displaystyle \\frac{n \\log{\\left(v \\right)}}{2} + \\frac{n \\left(v̂ + \\left(- ȳ + μ\\right)^{2}\\right)}{2 v}$\n"
      ],
      "text/plain": [
       "             /            2\\\n",
       "n*log(v)   n*\\v̂ + (-ȳ + μ) /\n",
       "-------- + -----------------\n",
       "   2              2*v       "
      ]
     },
     "execution_count": 9,
     "metadata": {},
     "output_type": "execute_result"
    }
   ],
   "source": [
    "negloglik = n/2*log(v) + n/(2v)*((μ - ȳ)^2 + v̂)"
   ]
  },
  {
   "cell_type": "code",
   "execution_count": 10,
   "id": "6b48fdca",
   "metadata": {},
   "outputs": [
    {
     "data": {
      "text/latex": [
       "$\\displaystyle \\left(κ + \\frac{3}{2}\\right) \\log{\\left(v \\right)} + \\frac{θ + \\frac{\\left(μ - μ_{0}\\right)^{2}}{2 v_{0}}}{v}$\n"
      ],
      "text/plain": [
       "                               2\n",
       "                       (μ - μ0) \n",
       "                   θ + ---------\n",
       "                          2*v0  \n",
       "(κ + 3/2)*log(v) + -------------\n",
       "                         v      "
      ]
     },
     "execution_count": 10,
     "metadata": {},
     "output_type": "execute_result"
    }
   ],
   "source": [
    "neglogpri = (κ + 1//2 + 1)*log(v) + 1/v*(θ + 1/(2v0)*(μ-μ0)^2)"
   ]
  },
  {
   "cell_type": "code",
   "execution_count": 11,
   "id": "6266c2f2",
   "metadata": {},
   "outputs": [
    {
     "data": {
      "text/latex": [
       "$\\displaystyle \\left(\\frac{n}{2} + κ + \\frac{3}{2}\\right) \\log{\\left(v \\right)} + \\frac{\\frac{n \\left(v̂ + \\frac{\\left(ȳ - μ_{0}\\right)^{2}}{n v_{0} + 1}\\right)}{2} + θ + \\frac{\\left(μ - \\frac{n v_{0} ȳ + μ_{0}}{n v_{0} + 1}\\right)^{2} \\left(n v_{0} + 1\\right)}{2 v_{0}}}{v}$\n"
      ],
      "text/plain": [
       "                       /            2\\                        2           \n",
       "                       |    (ȳ - μ0) |       /    n*v0*ȳ + μ0\\            \n",
       "                     n*|v̂ + ---------|       |μ - -----------| *(n*v0 + 1)\n",
       "                       \\     n*v0 + 1/       \\      n*v0 + 1 /            \n",
       "                     ----------------- + θ + -----------------------------\n",
       "/n       3\\                  2                            2*v0            \n",
       "|- + κ + -|*log(v) + -----------------------------------------------------\n",
       "\\2       2/                                    v                          "
      ]
     },
     "execution_count": 11,
     "metadata": {},
     "output_type": "execute_result"
    }
   ],
   "source": [
    "neglogpost = (κ + n/2 + 1//2 + 1)*log(v) +  1/v*(\n",
    "    θ + n/2*(v̂ + 1/(1+n*v0)*(ȳ - μ0)^2) +\n",
    "    (1 + n*v0)/(2v0)*(μ - (μ0 + n*v0*ȳ)/(1 + n*v0))^2)"
   ]
  },
  {
   "cell_type": "code",
   "execution_count": 12,
   "id": "15860579",
   "metadata": {},
   "outputs": [
    {
     "data": {
      "text/latex": [
       "$\\displaystyle 0$\n"
      ],
      "text/plain": [
       "0"
      ]
     },
     "execution_count": 12,
     "metadata": {},
     "output_type": "execute_result"
    }
   ],
   "source": [
    "simplify(negloglik + neglogpri - neglogpost)"
   ]
  },
  {
   "cell_type": "code",
   "execution_count": 13,
   "id": "a5060acb",
   "metadata": {},
   "outputs": [
    {
     "data": {
      "text/latex": [
       "$\\left[ \\begin{array}{r}\\displaystyle \\frac{n ȳ + \\frac{μ_{0}}{v_{0}}}{n + \\frac{1}{v_{0}}}\\\\\\displaystyle \\frac{1}{n + \\frac{1}{v_{0}}}\\\\\\displaystyle \\frac{n}{2} + κ\\\\\\displaystyle \\frac{n \\left(v̂ + \\frac{\\left(ȳ - μ_{0}\\right)^{2}}{v_{0} \\left(n + \\frac{1}{v_{0}}\\right)}\\right)}{2} + θ\\end{array} \\right]$\n"
      ],
      "text/plain": [
       "4-element Vector{Sym}:\n",
       "                  (n*ȳ + μ0/v0)/(n + 1/v0)\n",
       "                              1/(n + 1/v0)\n",
       "                                   n/2 + κ\n",
       " n*(v̂ + (ȳ - μ0)^2/(v0*(n + 1/v0)))/2 + θ"
      ]
     },
     "execution_count": 13,
     "metadata": {},
     "output_type": "execute_result"
    }
   ],
   "source": [
    "bayesian_update(μ0, v0, κ, θ, n, ȳ, v̂) |> collect"
   ]
  },
  {
   "cell_type": "markdown",
   "id": "37af5247",
   "metadata": {},
   "source": [
    "### μの周辺事前・事後分布および事前・事後予測分布\n",
    "\n",
    "確率密度函数\n",
    "\n",
    "$$\n",
    "p(\\mu|\\mu_*,v_*,\\kappa,\\theta) =\n",
    "\\int_{\\R_{>0}} p_\\op{InverseGammaNormal}(\\mu,v|\\mu_*,v_*,\\kappa,\\theta) \\,dv\n",
    "$$\n",
    "\n",
    "で定義される$\\mu$ の周辺事前分布は次になる:\n",
    "\n",
    "$$\n",
    "\\mu \\sim\n",
    "\\mu_* + \\sqrt{\\frac{\\theta}{\\kappa}v_*}\\;\\op{TDist}(2\\kappa).\n",
    "$$\n",
    "\n",
    "確率密度函数\n",
    "\n",
    "$$\n",
    "p_*(y_\\op{new}|\\mu_*,v_*,\\kappa,\\theta) =\n",
    "\\iint_{\\R\\times\\R_{>0}}\n",
    "p_\\op{Normal}(y_\\op{new}|\\mu,v)\n",
    "p_\\op{InverseGammaNormal}(\\mu,v|\\mu_*,v_*,\\kappa,\\theta)\n",
    "\\,d\\mu\\,dv\n",
    "$$\n",
    "\n",
    "で定義される $y_\\op{new}$ の事前予測分布は次になる:\n",
    "\n",
    "$$\n",
    "y_\\op{new} \\sim\n",
    "\\mu_* + \\sqrt{\\frac{\\theta}{\\kappa}(1+v_*)}\\;\\op{TDist}(2\\kappa).\n",
    "$$\n",
    "\n",
    "パラメータをBayes更新後のパラメータ\n",
    "\n",
    "$$\n",
    "\\begin{alignedat}{2}\n",
    "&\n",
    "\\tilde\\kappa = \\kappa + \\frac{n}{2} =\n",
    "\\frac{n}{2}\\left(1 + \\frac{2\\kappa}{n}\\right), \n",
    "\\\\ &\n",
    "\\tilde\\theta =\n",
    "\\theta + \\frac{n}{2}\\left(\\sigmahat^2 + \\frac{(\\ybar - \\mu_*)^2}{1+nv_*}\\right) =\n",
    "\\frac{n\\sigmahat^2}{2}\\left(1 + \\frac{2\\theta}{n\\sigmahat^2} + \\frac{(\\ybar - \\mu_*)^2}{(1+nv_*)\\sigmahat^2}\\right),\n",
    "\\\\ &\n",
    "\\tilde\\mu_* = \\frac{\\mu_*+nv_*\\ybar}{1+nv_*} =\n",
    "\\ybar\\frac{1+\\mu_*/(nv_*\\ybar)}{1+1/(nv_*)}, \n",
    "\\\\ &\n",
    "\\tilde v_* = \\frac{v_*}{1+nv_*} =\n",
    "\\frac{1}{n}\\frac{1}{1+1/(nv_*)}.\n",
    "\\end{alignedat}\n",
    "$$\n",
    "\n",
    "に置き換えればこれは $\\mu$ の周辺事後分布および事後予測分布になる.\n",
    "\n",
    "その事後分布を使った区間推定の幅は\n",
    "\n",
    "* $n$ が大きいほど狭くなる.\n",
    "* $\\kappa$ が大きいほど狭くなる.\n",
    "* $\\theta$ が大きいほど広くなる.\n",
    "* $|\\ybar - \\mu_*|/\\sigmahat$ が大きいほど広くなる.\n",
    "* $|\\ybar - \\mu_*|/\\sigmahat$ が大きくても, $v_*$ がさらに大きければ狭くなる."
   ]
  },
  {
   "cell_type": "code",
   "execution_count": 14,
   "id": "23f369a4",
   "metadata": {},
   "outputs": [
    {
     "data": {
      "text/plain": [
       "preddist (generic function with 1 method)"
      ]
     },
     "execution_count": 14,
     "metadata": {},
     "output_type": "execute_result"
    }
   ],
   "source": [
    "posterior_μ(μstar, vstar, κ, θ) = μstar + √(θ/κ*vstar)*TDist(2κ)\n",
    "preddist(μstar, vstar, κ, θ) = μstar + √(θ/κ*(1 + vstar))*TDist(2κ)"
   ]
  },
  {
   "cell_type": "markdown",
   "id": "259d9df1",
   "metadata": {},
   "source": [
    "### Jeffreys事前分布の場合\n",
    "\n",
    "\n",
    "パラメータ空間が $\\{(\\mu, v)=(\\mu, \\sigma^2)\\in\\R\\times\\R_{>0}\\}$ の $2$ 次元の正規分布モデルのJeffreys事前分布 $p_\\op{Jeffreys}(\\mu,v)$ は\n",
    "\n",
    "$$\n",
    "p_\\op{Jeffreys}(\\mu,v) \\propto v^{-3/2}\n",
    "$$\n",
    "\n",
    "になることが知られている. ただし, 右辺の $(\\mu,v)\\in\\R\\times\\R_{>0}$ に関する積分は $\\infty$ になるので, この場合のJeffreys事前分布はimproperである.\n",
    "\n",
    "逆ガンマ正規分布の密度函数\n",
    "\n",
    "$$\n",
    "p_\\op{InverseGammaNormal}(\\mu,v|\\mu_*, v_*, \\kappa, \\theta) \\propto\n",
    "v^{-(\\kappa+1/2)-1}\n",
    "\\exp\\left(-\\frac{1}{v}\\left(\\theta + \\frac{1}{2v_*}(\\mu-\\mu_*)^2\\right)\\right).\n",
    "$$\n",
    "\n",
    "と比較すると, Jeffreys事前分布に対応する共役事前分布のパラメータ値は形式的に次になることがわかる:\n",
    "\n",
    "$$\n",
    "\\kappa \\to 0, \\quad\n",
    "\\theta \\to 0, \\quad\n",
    "v_* \\to \\infty.\n",
    "$$\n",
    "\n",
    "そのとき, Bayes更新後のパラメータの公式は次のようにシンプルになる:\n",
    "\n",
    "$$\n",
    "\\tilde\\kappa = \\frac{n}{2}, \\quad\n",
    "\\tilde\\theta = \\frac{n\\sigmahat^2}{2}, \\quad\n",
    "\\tilde\\mu_* = \\ybar, \\quad\n",
    "\\tilde v_* = \\frac{1}{n}.\n",
    "$$\n",
    "\n",
    "さらに, 前節の公式から, $n\\to\\infty$ のとき, 一般のパラメータ値に関するBayes更新の結果は, $n\\to\\infty$ のとき漸近的にこのJeffreys事前分布の場合に一致する.\n",
    "\n",
    "さらに, Jeffreys事前分布の場合には\n",
    "\n",
    "$$\n",
    "\\frac{\\tilde\\theta}{\\tilde\\kappa} = \\sigmahat^2, \\quad\n",
    "\\tilde v_* = \\frac{1}{n}, \\quad\n",
    "2\\tilde\\kappa = n.\n",
    "$$\n",
    "\n",
    "ゆえに, $\\mu$ に関する周辺事後分布は\n",
    "\n",
    "$$\n",
    "\\mu \\sim\n",
    "\\ybar + \\frac{\\sigmahat}{\\sqrt{n}}\\;\\op{TDist}(n)\n",
    "$$\n",
    "\n",
    "になり, 事後予測分布は次になる:\n",
    "\n",
    "$$\n",
    "y_\\op{new} \\sim\n",
    "\\ybar + \\sigmahat\\sqrt{1+\\frac{1}{n}}\\;\\op{TDist}(n).\n",
    "$$"
   ]
  },
  {
   "cell_type": "code",
   "execution_count": 15,
   "id": "945782f7",
   "metadata": {},
   "outputs": [
    {
     "data": {
      "text/plain": [
       "preddist_jeffreys (generic function with 2 methods)"
      ]
     },
     "execution_count": 15,
     "metadata": {},
     "output_type": "execute_result"
    }
   ],
   "source": [
    "prior_jeffreys() = 0.0, Inf, 0.0, 0.0\n",
    "\n",
    "posterior_μ_jeffreys(n, ȳ, σ̂²) = ȳ + √(σ̂²/n)*TDist(n)\n",
    "\n",
    "function posterior_μ_jeffreys(y)\n",
    "    n, ȳ, σ̂² = length(y), mean(y), var(y; corrected=false)\n",
    "    posterior_μ_jeffreys(n, ȳ, σ̂²)\n",
    "end\n",
    "\n",
    "preddist_jeffreys(n, ȳ, σ̂²) = ȳ + √(σ̂²*(1+1/n))*TDist(n)\n",
    "\n",
    "function preddist_jeffreys(y)\n",
    "    n, ȳ, σ̂² = length(y), mean(y), var(y; corrected=false)\n",
    "    preddist_jeffreys(n, ȳ, σ̂²)\n",
    "end"
   ]
  },
  {
   "cell_type": "code",
   "execution_count": 16,
   "id": "d425f6f9",
   "metadata": {},
   "outputs": [
    {
     "name": "stdout",
     "output_type": "stream",
     "text": [
      "dist_true = Normal(μ_true, σ_true) = Normal{Float64}(μ=10.0, σ=3.0)\n",
      "n = 5\n"
     ]
    },
    {
     "data": {
      "text/plain": [
       "5-element Vector{Float64}:\n",
       "  8.907557920758455\n",
       " 12.776442690617682\n",
       "  9.787477037446948\n",
       " 11.654572970463558\n",
       "  7.4928287352336485"
      ]
     },
     "execution_count": 16,
     "metadata": {},
     "output_type": "execute_result"
    }
   ],
   "source": [
    "μ_true, σ_true, n = 10, 3, 5\n",
    "@show dist_true = Normal(μ_true, σ_true) n\n",
    "y = rand(Normal(μ_true, σ_true), n)"
   ]
  },
  {
   "cell_type": "code",
   "execution_count": 17,
   "id": "74f9f1c4",
   "metadata": {},
   "outputs": [
    {
     "data": {
      "text/plain": [
       "(5, 10.123775870904058, 3.578829370952538)"
      ]
     },
     "execution_count": 17,
     "metadata": {},
     "output_type": "execute_result"
    }
   ],
   "source": [
    "n, ȳ, σ̂² = length(y), mean(y), var(y; corrected=false)"
   ]
  },
  {
   "cell_type": "code",
   "execution_count": 18,
   "id": "56f1f543",
   "metadata": {},
   "outputs": [
    {
     "data": {
      "text/plain": [
       "LocationScale{Float64, Continuous, TDist{Float64}}(\n",
       "μ: 10.123775870904058\n",
       "σ: 0.846029475958437\n",
       "ρ: TDist{Float64}(ν=5.0)\n",
       ")\n"
      ]
     },
     "execution_count": 18,
     "metadata": {},
     "output_type": "execute_result"
    }
   ],
   "source": [
    "post_μ = posterior_μ(bayesian_update(prior_jeffreys()..., y)...)"
   ]
  },
  {
   "cell_type": "code",
   "execution_count": 19,
   "id": "e1bf08ef",
   "metadata": {},
   "outputs": [
    {
     "data": {
      "text/plain": [
       "true"
      ]
     },
     "execution_count": 19,
     "metadata": {},
     "output_type": "execute_result"
    }
   ],
   "source": [
    "posterior_μ_jeffreys(y) ≈ post_μ"
   ]
  },
  {
   "cell_type": "markdown",
   "id": "d54e378c",
   "metadata": {},
   "source": [
    "### Jeffreys事前分布の場合の結果の数値的確認"
   ]
  },
  {
   "cell_type": "code",
   "execution_count": 20,
   "id": "cdbb1b9e",
   "metadata": {},
   "outputs": [
    {
     "data": {
      "text/plain": [
       "plot_preddist (generic function with 1 method)"
      ]
     },
     "execution_count": 20,
     "metadata": {},
     "output_type": "execute_result"
    }
   ],
   "source": [
    "# プロット用函数\n",
    "\n",
    "function plot_posterior_μ(chn, y, postμ_theoretical;\n",
    "        xlim = quantile.(postμ_theoretical, (0.0005, 0.9995)), kwargs...)\n",
    "    postμ_ttest = posterior_μ_ttest(y)\n",
    "    plot(legend=:outertop)\n",
    "    stephist!(vec(chn[:μ]); norm=true, label=\"MCMC posterior of μ\")\n",
    "    plot!(postμ_theoretical, xlim...; label=\"theoretical posterior of μ\", ls=:dash)\n",
    "    plot!(postμ_ttest, xlim...; label=\"ȳ+√(s²/n)TDist(n-1)\", ls=:dashdot)\n",
    "    plot!(; xlim, kwargs...)\n",
    "end\n",
    "\n",
    "function plot_preddist(chn, y, pred_theoretical;\n",
    "        xlim = quantile.(pred_theoretical, (0.0005, 0.9995)), kwargs...)\n",
    "    pdf_pred(y_new) = mean(pdf(Normal(μ, √σ²), y_new)\n",
    "        for (μ, σ²) in zip(vec(chn[:μ]), vec(chn[:σ²])))\n",
    "    pred_ttest = preddist_ttest(y)\n",
    "\n",
    "    plot(legend=:outertop)\n",
    "    plot!(pdf_pred, xlim...; label=\"MCMC prediction\")\n",
    "    plot!(pred_theoretical, xlim...; label=\"theoretical prediction\", ls=:dash)\n",
    "    plot!(pred_ttest, xlim...; label=\"ȳ+√(s²(1+1/n))TDist(n-1)\", ls=:dashdot)\n",
    "end"
   ]
  },
  {
   "cell_type": "code",
   "execution_count": 21,
   "id": "885ae55b",
   "metadata": {},
   "outputs": [
    {
     "data": {
      "text/plain": [
       "normaldistmodel_jeffreys (generic function with 2 methods)"
      ]
     },
     "execution_count": 21,
     "metadata": {},
     "output_type": "execute_result"
    }
   ],
   "source": [
    "@model function normaldistmodel_jeffreys(y)\n",
    "    σ² ~ PowerPos(-3/2)\n",
    "    μ ~ Flat()\n",
    "    y ~ MvNormal(fill(μ, length(y)), σ²*I)\n",
    "end"
   ]
  },
  {
   "cell_type": "code",
   "execution_count": 22,
   "id": "d57a0f43",
   "metadata": {},
   "outputs": [
    {
     "name": "stdout",
     "output_type": "stream",
     "text": [
      "dist_true = Normal(μ_true, σ_true) = Normal{Float64}(μ=10000.0, σ=100.0)\n",
      "n = 5\n"
     ]
    },
    {
     "data": {
      "text/plain": [
       "5-element Vector{Float64}:\n",
       " 10077.060404700096\n",
       " 10077.566394735857\n",
       "  9950.983860936245\n",
       "  9891.757783775127\n",
       " 10035.58383410362"
      ]
     },
     "execution_count": 22,
     "metadata": {},
     "output_type": "execute_result"
    }
   ],
   "source": [
    "μ_true, σ_true, n = 1e4, 1e2, 5\n",
    "@show dist_true = Normal(μ_true, σ_true) n\n",
    "y = rand(Normal(μ_true, σ_true), n)"
   ]
  },
  {
   "cell_type": "code",
   "execution_count": 23,
   "id": "b6f242b5",
   "metadata": {},
   "outputs": [
    {
     "name": "stderr",
     "output_type": "stream",
     "text": [
      "┌ Warning: The current proposal will be rejected due to numerical error(s).\n",
      "│   isfinite.((θ, r, ℓπ, ℓκ)) = (true, false, false, false)\n",
      "└ @ AdvancedHMC D:\\.julia\\packages\\AdvancedHMC\\51xgc\\src\\hamiltonian.jl:47\n",
      "┌ Warning: The current proposal will be rejected due to numerical error(s).\n",
      "│   isfinite.((θ, r, ℓπ, ℓκ)) = (true, false, false, false)\n",
      "└ @ AdvancedHMC D:\\.julia\\packages\\AdvancedHMC\\51xgc\\src\\hamiltonian.jl:47\n",
      "┌ Warning: The current proposal will be rejected due to numerical error(s).\n",
      "│   isfinite.((θ, r, ℓπ, ℓκ)) = (true, false, false, false)\n",
      "└ @ AdvancedHMC D:\\.julia\\packages\\AdvancedHMC\\51xgc\\src\\hamiltonian.jl:47\n",
      "┌ Warning: The current proposal will be rejected due to numerical error(s).\n",
      "│   isfinite.((θ, r, ℓπ, ℓκ)) = (true, false, false, false)\n",
      "└ @ AdvancedHMC D:\\.julia\\packages\\AdvancedHMC\\51xgc\\src\\hamiltonian.jl:47\n",
      "┌ Warning: The current proposal will be rejected due to numerical error(s).\n",
      "│   isfinite.((θ, r, ℓπ, ℓκ)) = (true, false, false, false)\n",
      "└ @ AdvancedHMC D:\\.julia\\packages\\AdvancedHMC\\51xgc\\src\\hamiltonian.jl:47\n",
      "┌ Warning: The current proposal will be rejected due to numerical error(s).\n",
      "│   isfinite.((θ, r, ℓπ, ℓκ)) = (true, false, false, false)\n",
      "└ @ AdvancedHMC D:\\.julia\\packages\\AdvancedHMC\\51xgc\\src\\hamiltonian.jl:47\n",
      "┌ Warning: The current proposal will be rejected due to numerical error(s).\n",
      "│   isfinite.((θ, r, ℓπ, ℓκ)) = (true, false, false, false)\n",
      "└ @ AdvancedHMC D:\\.julia\\packages\\AdvancedHMC\\51xgc\\src\\hamiltonian.jl:47\n",
      "┌ Warning: The current proposal will be rejected due to numerical error(s).\n",
      "│   isfinite.((θ, r, ℓπ, ℓκ)) = (true, false, false, false)\n",
      "└ @ AdvancedHMC D:\\.julia\\packages\\AdvancedHMC\\51xgc\\src\\hamiltonian.jl:47\n",
      "┌ Warning: The current proposal will be rejected due to numerical error(s).\n",
      "│   isfinite.((θ, r, ℓπ, ℓκ)) = (true, false, false, false)\n",
      "└ @ AdvancedHMC D:\\.julia\\packages\\AdvancedHMC\\51xgc\\src\\hamiltonian.jl:47\n",
      "┌ Warning: The current proposal will be rejected due to numerical error(s).\n",
      "│   isfinite.((θ, r, ℓπ, ℓκ)) = (true, false, false, false)\n",
      "└ @ AdvancedHMC D:\\.julia\\packages\\AdvancedHMC\\51xgc\\src\\hamiltonian.jl:47\n",
      "┌ Warning: The current proposal will be rejected due to numerical error(s).\n",
      "│   isfinite.((θ, r, ℓπ, ℓκ)) = (true, false, false, false)\n",
      "└ @ AdvancedHMC D:\\.julia\\packages\\AdvancedHMC\\51xgc\\src\\hamiltonian.jl:47\n",
      "┌ Warning: The current proposal will be rejected due to numerical error(s).\n",
      "│   isfinite.((θ, r, ℓπ, ℓκ)) = (true, false, false, false)\n",
      "└ @ AdvancedHMC D:\\.julia\\packages\\AdvancedHMC\\51xgc\\src\\hamiltonian.jl:47\n",
      "┌ Warning: The current proposal will be rejected due to numerical error(s).\n",
      "│   isfinite.((θ, r, ℓπ, ℓκ)) = (true, false, false, false)\n",
      "└ @ AdvancedHMC D:\\.julia\\packages\\AdvancedHMC\\51xgc\\src\\hamiltonian.jl:47\n",
      "┌ Warning: The current proposal will be rejected due to numerical error(s).\n",
      "│   isfinite.((θ, r, ℓπ, ℓκ)) = (true, false, false, false)\n",
      "└ @ AdvancedHMC D:\\.julia\\packages\\AdvancedHMC\\51xgc\\src\\hamiltonian.jl:47\n",
      "┌ Warning: The current proposal will be rejected due to numerical error(s).\n",
      "│   isfinite.((θ, r, ℓπ, ℓκ)) = (true, false, false, false)\n",
      "└ @ AdvancedHMC D:\\.julia\\packages\\AdvancedHMC\\51xgc\\src\\hamiltonian.jl:47\n",
      "┌ Warning: The current proposal will be rejected due to numerical error(s).\n",
      "│   isfinite.((θ, r, ℓπ, ℓκ)) = (true, false, false, false)\n",
      "└ @ AdvancedHMC D:\\.julia\\packages\\AdvancedHMC\\51xgc\\src\\hamiltonian.jl:47\n",
      "┌ Warning: The current proposal will be rejected due to numerical error(s).\n",
      "│   isfinite.((θ, r, ℓπ, ℓκ)) = (true, false, false, false)\n",
      "└ @ AdvancedHMC D:\\.julia\\packages\\AdvancedHMC\\51xgc\\src\\hamiltonian.jl:47\n",
      "┌ Warning: The current proposal will be rejected due to numerical error(s).\n",
      "│   isfinite.((θ, r, ℓπ, ℓκ)) = (true, false, false, false)\n",
      "└ @ AdvancedHMC D:\\.julia\\packages\\AdvancedHMC\\51xgc\\src\\hamiltonian.jl:47\n",
      "┌ Warning: The current proposal will be rejected due to numerical error(s).\n",
      "│   isfinite.((θ, r, ℓπ, ℓκ)) = (true, false, false, false)\n",
      "└ @ AdvancedHMC D:\\.julia\\packages\\AdvancedHMC\\51xgc\\src\\hamiltonian.jl:47\n",
      "┌ Warning: The current proposal will be rejected due to numerical error(s).\n",
      "│   isfinite.((θ, r, ℓπ, ℓκ)) = (true, false, false, false)\n",
      "└ @ AdvancedHMC D:\\.julia\\packages\\AdvancedHMC\\51xgc\\src\\hamiltonian.jl:47\n",
      "┌ Warning: The current proposal will be rejected due to numerical error(s).\n",
      "│   isfinite.((θ, r, ℓπ, ℓκ)) = (true, false, false, false)\n",
      "└ @ AdvancedHMC D:\\.julia\\packages\\AdvancedHMC\\51xgc\\src\\hamiltonian.jl:47\n",
      "┌ Warning: The current proposal will be rejected due to numerical error(s).\n",
      "│   isfinite.((θ, r, ℓπ, ℓκ)) = (true, false, false, false)\n",
      "└ @ AdvancedHMC D:\\.julia\\packages\\AdvancedHMC\\51xgc\\src\\hamiltonian.jl:47\n",
      "┌ Warning: The current proposal will be rejected due to numerical error(s).\n",
      "│   isfinite.((θ, r, ℓπ, ℓκ)) = (true, false, false, false)\n",
      "└ @ AdvancedHMC D:\\.julia\\packages\\AdvancedHMC\\51xgc\\src\\hamiltonian.jl:47\n",
      "┌ Warning: The current proposal will be rejected due to numerical error(s).\n",
      "│   isfinite.((θ, r, ℓπ, ℓκ)) = (true, false, false, false)\n",
      "└ @ AdvancedHMC D:\\.julia\\packages\\AdvancedHMC\\51xgc\\src\\hamiltonian.jl:47\n",
      "┌ Warning: The current proposal will be rejected due to numerical error(s).\n",
      "│   isfinite.((θ, r, ℓπ, ℓκ)) = (true, false, false, false)\n",
      "└ @ AdvancedHMC D:\\.julia\\packages\\AdvancedHMC\\51xgc\\src\\hamiltonian.jl:47\n",
      "┌ Warning: The current proposal will be rejected due to numerical error(s).\n",
      "│   isfinite.((θ, r, ℓπ, ℓκ)) = (true, false, false, false)\n",
      "└ @ AdvancedHMC D:\\.julia\\packages\\AdvancedHMC\\51xgc\\src\\hamiltonian.jl:47\n",
      "┌ Warning: The current proposal will be rejected due to numerical error(s).\n",
      "│   isfinite.((θ, r, ℓπ, ℓκ)) = (true, false, false, false)\n",
      "└ @ AdvancedHMC D:\\.julia\\packages\\AdvancedHMC\\51xgc\\src\\hamiltonian.jl:47\n",
      "┌ Warning: The current proposal will be rejected due to numerical error(s).\n",
      "│   isfinite.((θ, r, ℓπ, ℓκ)) = (true, false, false, false)\n",
      "└ @ AdvancedHMC D:\\.julia\\packages\\AdvancedHMC\\51xgc\\src\\hamiltonian.jl:47\n",
      "┌ Warning: The current proposal will be rejected due to numerical error(s).\n",
      "│   isfinite.((θ, r, ℓπ, ℓκ)) = (true, false, false, false)\n",
      "└ @ AdvancedHMC D:\\.julia\\packages\\AdvancedHMC\\51xgc\\src\\hamiltonian.jl:47\n",
      "┌ Warning: The current proposal will be rejected due to numerical error(s).\n",
      "│   isfinite.((θ, r, ℓπ, ℓκ)) = (true, false, false, false)\n",
      "└ @ AdvancedHMC D:\\.julia\\packages\\AdvancedHMC\\51xgc\\src\\hamiltonian.jl:47\n",
      "┌ Warning: The current proposal will be rejected due to numerical error(s).\n",
      "│   isfinite.((θ, r, ℓπ, ℓκ)) = (true, false, false, false)\n",
      "└ @ AdvancedHMC D:\\.julia\\packages\\AdvancedHMC\\51xgc\\src\\hamiltonian.jl:47\n",
      "┌ Warning: The current proposal will be rejected due to numerical error(s).\n",
      "│   isfinite.((θ, r, ℓπ, ℓκ)) = (true, false, false, false)\n",
      "└ @ AdvancedHMC D:\\.julia\\packages\\AdvancedHMC\\51xgc\\src\\hamiltonian.jl:47\n",
      "┌ Warning: The current proposal will be rejected due to numerical error(s).\n",
      "│   isfinite.((θ, r, ℓπ, ℓκ)) = (true, false, false, false)\n",
      "└ @ AdvancedHMC D:\\.julia\\packages\\AdvancedHMC\\51xgc\\src\\hamiltonian.jl:47\n",
      "┌ Warning: The current proposal will be rejected due to numerical error(s).\n",
      "│   isfinite.((θ, r, ℓπ, ℓκ)) = (true, false, false, false)\n",
      "└ @ AdvancedHMC D:\\.julia\\packages\\AdvancedHMC\\51xgc\\src\\hamiltonian.jl:47\n",
      "┌ Warning: The current proposal will be rejected due to numerical error(s).\n",
      "│   isfinite.((θ, r, ℓπ, ℓκ)) = (true, false, false, false)\n",
      "└ @ AdvancedHMC D:\\.julia\\packages\\AdvancedHMC\\51xgc\\src\\hamiltonian.jl:47\n",
      "┌ Warning: The current proposal will be rejected due to numerical error(s).\n",
      "│   isfinite.((θ, r, ℓπ, ℓκ)) = (true, false, false, false)\n",
      "└ @ AdvancedHMC D:\\.julia\\packages\\AdvancedHMC\\51xgc\\src\\hamiltonian.jl:47\n",
      "┌ Warning: The current proposal will be rejected due to numerical error(s).\n",
      "│   isfinite.((θ, r, ℓπ, ℓκ)) = (true, false, false, false)\n",
      "└ @ AdvancedHMC D:\\.julia\\packages\\AdvancedHMC\\51xgc\\src\\hamiltonian.jl:47\n",
      "┌ Warning: The current proposal will be rejected due to numerical error(s).\n",
      "│   isfinite.((θ, r, ℓπ, ℓκ)) = (true, false, false, false)\n",
      "└ @ AdvancedHMC D:\\.julia\\packages\\AdvancedHMC\\51xgc\\src\\hamiltonian.jl:47\n",
      "┌ Warning: The current proposal will be rejected due to numerical error(s).\n",
      "│   isfinite.((θ, r, ℓπ, ℓκ)) = (true, false, false, false)\n",
      "└ @ AdvancedHMC D:\\.julia\\packages\\AdvancedHMC\\51xgc\\src\\hamiltonian.jl:47\n",
      "┌ Warning: The current proposal will be rejected due to numerical error(s).\n",
      "│   isfinite.((θ, r, ℓπ, ℓκ)) = (true, false, false, false)\n",
      "└ @ AdvancedHMC D:\\.julia\\packages\\AdvancedHMC\\51xgc\\src\\hamiltonian.jl:47\n",
      "┌ Warning: The current proposal will be rejected due to numerical error(s).\n",
      "│   isfinite.((θ, r, ℓπ, ℓκ)) = (true, false, false, false)\n",
      "└ @ AdvancedHMC D:\\.julia\\packages\\AdvancedHMC\\51xgc\\src\\hamiltonian.jl:47\n",
      "┌ Warning: The current proposal will be rejected due to numerical error(s).\n",
      "│   isfinite.((θ, r, ℓπ, ℓκ)) = (true, false, false, false)\n",
      "└ @ AdvancedHMC D:\\.julia\\packages\\AdvancedHMC\\51xgc\\src\\hamiltonian.jl:47\n",
      "┌ Warning: The current proposal will be rejected due to numerical error(s).\n",
      "│   isfinite.((θ, r, ℓπ, ℓκ)) = (true, false, false, false)\n",
      "└ @ AdvancedHMC D:\\.julia\\packages\\AdvancedHMC\\51xgc\\src\\hamiltonian.jl:47\n",
      "┌ Warning: The current proposal will be rejected due to numerical error(s).\n",
      "│   isfinite.((θ, r, ℓπ, ℓκ)) = (true, false, false, false)\n",
      "└ @ AdvancedHMC D:\\.julia\\packages\\AdvancedHMC\\51xgc\\src\\hamiltonian.jl:47\n",
      "┌ Warning: The current proposal will be rejected due to numerical error(s).\n",
      "│   isfinite.((θ, r, ℓπ, ℓκ)) = (true, false, false, false)\n",
      "└ @ AdvancedHMC D:\\.julia\\packages\\AdvancedHMC\\51xgc\\src\\hamiltonian.jl:47\n",
      "┌ Warning: The current proposal will be rejected due to numerical error(s).\n",
      "│   isfinite.((θ, r, ℓπ, ℓκ)) = (true, false, false, false)\n",
      "└ @ AdvancedHMC D:\\.julia\\packages\\AdvancedHMC\\51xgc\\src\\hamiltonian.jl:47\n",
      "┌ Warning: The current proposal will be rejected due to numerical error(s).\n",
      "│   isfinite.((θ, r, ℓπ, ℓκ)) = (true, false, false, false)\n",
      "└ @ AdvancedHMC D:\\.julia\\packages\\AdvancedHMC\\51xgc\\src\\hamiltonian.jl:47\n",
      "┌ Warning: The current proposal will be rejected due to numerical error(s).\n",
      "│   isfinite.((θ, r, ℓπ, ℓκ)) = (true, false, false, false)\n",
      "└ @ AdvancedHMC D:\\.julia\\packages\\AdvancedHMC\\51xgc\\src\\hamiltonian.jl:47\n",
      "┌ Warning: The current proposal will be rejected due to numerical error(s).\n",
      "│   isfinite.((θ, r, ℓπ, ℓκ)) = (true, false, false, false)\n",
      "└ @ AdvancedHMC D:\\.julia\\packages\\AdvancedHMC\\51xgc\\src\\hamiltonian.jl:47\n",
      "┌ Warning: The current proposal will be rejected due to numerical error(s).\n",
      "│   isfinite.((θ, r, ℓπ, ℓκ)) = (true, false, false, false)\n",
      "└ @ AdvancedHMC D:\\.julia\\packages\\AdvancedHMC\\51xgc\\src\\hamiltonian.jl:47\n",
      "┌ Warning: The current proposal will be rejected due to numerical error(s).\n",
      "│   isfinite.((θ, r, ℓπ, ℓκ)) = (true, false, false, false)\n",
      "└ @ AdvancedHMC D:\\.julia\\packages\\AdvancedHMC\\51xgc\\src\\hamiltonian.jl:47\n",
      "┌ Warning: The current proposal will be rejected due to numerical error(s).\n",
      "│   isfinite.((θ, r, ℓπ, ℓκ)) = (true, false, false, false)\n",
      "└ @ AdvancedHMC D:\\.julia\\packages\\AdvancedHMC\\51xgc\\src\\hamiltonian.jl:47\n",
      "┌ Warning: The current proposal will be rejected due to numerical error(s).\n",
      "│   isfinite.((θ, r, ℓπ, ℓκ)) = (true, false, false, false)\n",
      "└ @ AdvancedHMC D:\\.julia\\packages\\AdvancedHMC\\51xgc\\src\\hamiltonian.jl:47\n",
      "┌ Warning: The current proposal will be rejected due to numerical error(s).\n",
      "│   isfinite.((θ, r, ℓπ, ℓκ)) = (true, false, false, false)\n",
      "└ @ AdvancedHMC D:\\.julia\\packages\\AdvancedHMC\\51xgc\\src\\hamiltonian.jl:47\n",
      "┌ Warning: The current proposal will be rejected due to numerical error(s).\n",
      "│   isfinite.((θ, r, ℓπ, ℓκ)) = (true, false, false, false)\n",
      "└ @ AdvancedHMC D:\\.julia\\packages\\AdvancedHMC\\51xgc\\src\\hamiltonian.jl:47\n",
      "┌ Warning: The current proposal will be rejected due to numerical error(s).\n",
      "│   isfinite.((θ, r, ℓπ, ℓκ)) = (true, false, false, false)\n",
      "└ @ AdvancedHMC D:\\.julia\\packages\\AdvancedHMC\\51xgc\\src\\hamiltonian.jl:47\n",
      "┌ Warning: The current proposal will be rejected due to numerical error(s).\n",
      "│   isfinite.((θ, r, ℓπ, ℓκ)) = (true, false, false, false)\n",
      "└ @ AdvancedHMC D:\\.julia\\packages\\AdvancedHMC\\51xgc\\src\\hamiltonian.jl:47\n",
      "┌ Warning: The current proposal will be rejected due to numerical error(s).\n",
      "│   isfinite.((θ, r, ℓπ, ℓκ)) = (true, false, false, false)\n",
      "└ @ AdvancedHMC D:\\.julia\\packages\\AdvancedHMC\\51xgc\\src\\hamiltonian.jl:47\n",
      "┌ Warning: The current proposal will be rejected due to numerical error(s).\n",
      "│   isfinite.((θ, r, ℓπ, ℓκ)) = (true, false, false, false)\n",
      "└ @ AdvancedHMC D:\\.julia\\packages\\AdvancedHMC\\51xgc\\src\\hamiltonian.jl:47\n",
      "┌ Warning: The current proposal will be rejected due to numerical error(s).\n",
      "│   isfinite.((θ, r, ℓπ, ℓκ)) = (true, false, false, false)\n",
      "└ @ AdvancedHMC D:\\.julia\\packages\\AdvancedHMC\\51xgc\\src\\hamiltonian.jl:47\n",
      "┌ Warning: The current proposal will be rejected due to numerical error(s).\n",
      "│   isfinite.((θ, r, ℓπ, ℓκ)) = (true, false, false, false)\n",
      "└ @ AdvancedHMC D:\\.julia\\packages\\AdvancedHMC\\51xgc\\src\\hamiltonian.jl:47\n",
      "┌ Warning: The current proposal will be rejected due to numerical error(s).\n",
      "│   isfinite.((θ, r, ℓπ, ℓκ)) = (true, false, false, false)\n",
      "└ @ AdvancedHMC D:\\.julia\\packages\\AdvancedHMC\\51xgc\\src\\hamiltonian.jl:47\n",
      "┌ Warning: The current proposal will be rejected due to numerical error(s).\n",
      "│   isfinite.((θ, r, ℓπ, ℓκ)) = (true, false, false, false)\n",
      "└ @ AdvancedHMC D:\\.julia\\packages\\AdvancedHMC\\51xgc\\src\\hamiltonian.jl:47\n",
      "┌ Warning: The current proposal will be rejected due to numerical error(s).\n",
      "│   isfinite.((θ, r, ℓπ, ℓκ)) = (true, false, false, false)\n",
      "└ @ AdvancedHMC D:\\.julia\\packages\\AdvancedHMC\\51xgc\\src\\hamiltonian.jl:47\n",
      "┌ Warning: The current proposal will be rejected due to numerical error(s).\n",
      "│   isfinite.((θ, r, ℓπ, ℓκ)) = (true, false, false, false)\n",
      "└ @ AdvancedHMC D:\\.julia\\packages\\AdvancedHMC\\51xgc\\src\\hamiltonian.jl:47\n",
      "┌ Warning: The current proposal will be rejected due to numerical error(s).\n",
      "│   isfinite.((θ, r, ℓπ, ℓκ)) = (true, false, false, false)\n",
      "└ @ AdvancedHMC D:\\.julia\\packages\\AdvancedHMC\\51xgc\\src\\hamiltonian.jl:47\n",
      "┌ Warning: The current proposal will be rejected due to numerical error(s).\n",
      "│   isfinite.((θ, r, ℓπ, ℓκ)) = (true, false, false, false)\n",
      "└ @ AdvancedHMC D:\\.julia\\packages\\AdvancedHMC\\51xgc\\src\\hamiltonian.jl:47\n",
      "┌ Warning: The current proposal will be rejected due to numerical error(s).\n",
      "│   isfinite.((θ, r, ℓπ, ℓκ)) = (true, false, false, false)\n",
      "└ @ AdvancedHMC D:\\.julia\\packages\\AdvancedHMC\\51xgc\\src\\hamiltonian.jl:47\n",
      "┌ Warning: The current proposal will be rejected due to numerical error(s).\n",
      "│   isfinite.((θ, r, ℓπ, ℓκ)) = (true, false, false, false)\n",
      "└ @ AdvancedHMC D:\\.julia\\packages\\AdvancedHMC\\51xgc\\src\\hamiltonian.jl:47\n",
      "┌ Warning: The current proposal will be rejected due to numerical error(s).\n",
      "│   isfinite.((θ, r, ℓπ, ℓκ)) = (true, false, false, false)\n",
      "└ @ AdvancedHMC D:\\.julia\\packages\\AdvancedHMC\\51xgc\\src\\hamiltonian.jl:47\n"
     ]
    },
    {
     "name": "stderr",
     "output_type": "stream",
     "text": [
      "┌ Info: Found initial step size\n",
      "│   ϵ = 0.0001953125\n",
      "└ @ Turing.Inference D:\\.julia\\packages\\Turing\\szPqN\\src\\inference\\hmc.jl:191\n",
      "┌ Info: Found initial step size\n",
      "│   ϵ = 4.8828125e-5\n",
      "└ @ Turing.Inference D:\\.julia\\packages\\Turing\\szPqN\\src\\inference\\hmc.jl:191\n",
      "┌ Info: Found initial step size\n",
      "│   ϵ = 4.8828125e-5\n",
      "└ @ Turing.Inference D:\\.julia\\packages\\Turing\\szPqN\\src\\inference\\hmc.jl:191\n",
      "┌ Info: Found initial step size\n",
      "│   ϵ = 9.765625e-5\n",
      "└ @ Turing.Inference D:\\.julia\\packages\\Turing\\szPqN\\src\\inference\\hmc.jl:191\n",
      "┌ Info: Found initial step size\n",
      "│   ϵ = 9.765625e-5\n",
      "└ @ Turing.Inference D:\\.julia\\packages\\Turing\\szPqN\\src\\inference\\hmc.jl:191\n",
      "┌ Info: Found initial step size\n",
      "│   ϵ = 9.765625e-5\n",
      "└ @ Turing.Inference D:\\.julia\\packages\\Turing\\szPqN\\src\\inference\\hmc.jl:191\n",
      "┌ Info: Found initial step size\n",
      "│   ϵ = 4.8828125e-5\n",
      "└ @ Turing.Inference D:\\.julia\\packages\\Turing\\szPqN\\src\\inference\\hmc.jl:191\n",
      "┌ Info: Found initial step size\n",
      "│   ϵ = 0.0001953125\n",
      "└ @ Turing.Inference D:\\.julia\\packages\\Turing\\szPqN\\src\\inference\\hmc.jl:191\n",
      "┌ Info: Found initial step size\n",
      "│   ϵ = 9.765625e-5\n",
      "└ @ Turing.Inference D:\\.julia\\packages\\Turing\\szPqN\\src\\inference\\hmc.jl:191\n",
      "┌ Info: Found initial step size\n",
      "│   ϵ = 0.0001953125\n",
      "└ @ Turing.Inference D:\\.julia\\packages\\Turing\\szPqN\\src\\inference\\hmc.jl:191\n",
      "┌ Warning: The current proposal will be rejected due to numerical error(s).\n",
      "│   isfinite.((θ, r, ℓπ, ℓκ)) = (true, false, false, false)\n",
      "└ @ AdvancedHMC D:\\.julia\\packages\\AdvancedHMC\\51xgc\\src\\hamiltonian.jl:47\n"
     ]
    }
   ],
   "source": [
    "L = 10^5\n",
    "n_threads = min(Threads.nthreads(), 10)\n",
    "chn = sample(normaldistmodel_jeffreys(y), NUTS(), MCMCThreads(), L, n_threads);"
   ]
  },
  {
   "cell_type": "code",
   "execution_count": 24,
   "id": "34070ae6",
   "metadata": {},
   "outputs": [
    {
     "data": {
      "text/plain": [
       "Chains MCMC chain (100000×14×10 Array{Float64, 3}):\n",
       "\n",
       "Iterations        = 1001:1:101000\n",
       "Number of chains  = 10\n",
       "Samples per chain = 100000\n",
       "Wall duration     = 29.69 seconds\n",
       "Compute duration  = 264.26 seconds\n",
       "parameters        = σ², μ\n",
       "internals         = lp, n_steps, is_accept, acceptance_rate, log_density, hamiltonian_energy, hamiltonian_energy_error, max_hamiltonian_energy_error, tree_depth, numerical_error, step_size, nom_step_size\n",
       "\n",
       "Summary Statistics\n",
       " \u001b[1m parameters \u001b[0m \u001b[1m       mean \u001b[0m \u001b[1m        std \u001b[0m \u001b[1m naive_se \u001b[0m \u001b[1m    mcse \u001b[0m \u001b[1m         ess \u001b[0m \u001b[1m    rhat \u001b[0m \u001b[1m ess_per_sec \u001b[0m\n",
       " \u001b[90m     Symbol \u001b[0m \u001b[90m    Float64 \u001b[0m \u001b[90m    Float64 \u001b[0m \u001b[90m  Float64 \u001b[0m \u001b[90m Float64 \u001b[0m \u001b[90m     Float64 \u001b[0m \u001b[90m Float64 \u001b[0m \u001b[90m     Float64 \u001b[0m\n",
       "\n",
       "          σ²    9022.2542   11754.5766    11.7546   21.1896   306305.9081    1.0000     1159.1213\n",
       "           μ   10006.5220      42.3421     0.0423    0.0684   396030.6207    1.0000     1498.6571\n",
       "\n",
       "Quantiles\n",
       " \u001b[1m parameters \u001b[0m \u001b[1m      2.5% \u001b[0m \u001b[1m     25.0% \u001b[0m \u001b[1m      50.0% \u001b[0m \u001b[1m      75.0% \u001b[0m \u001b[1m      97.5% \u001b[0m\n",
       " \u001b[90m     Symbol \u001b[0m \u001b[90m   Float64 \u001b[0m \u001b[90m   Float64 \u001b[0m \u001b[90m    Float64 \u001b[0m \u001b[90m    Float64 \u001b[0m \u001b[90m    Float64 \u001b[0m\n",
       "\n",
       "          σ²   2112.2209   4091.4356    6229.0145   10127.0592   32526.9346\n",
       "           μ   9921.9926   9982.5538   10006.5203   10030.4900   10091.0425\n"
      ]
     },
     "execution_count": 24,
     "metadata": {},
     "output_type": "execute_result"
    }
   ],
   "source": [
    "chn"
   ]
  },
  {
   "cell_type": "code",
   "execution_count": 25,
   "id": "447351e5",
   "metadata": {},
   "outputs": [
    {
     "name": "stdout",
     "output_type": "stream",
     "text": [
      "confint_ttest(y) = [9904.345532976708, 10108.835378323669]\n"
     ]
    }
   ],
   "source": [
    "@show confint_ttest(y);"
   ]
  },
  {
   "cell_type": "code",
   "execution_count": 26,
   "id": "801cd42d",
   "metadata": {},
   "outputs": [
    {
     "data": {
      "image/png": "[encoded data removed]"
     },
     "execution_count": 26,
     "metadata": {},
     "output_type": "execute_result"
    }
   ],
   "source": [
    "postμ_theoretical = posterior_μ_jeffreys(y)\n",
    "plot_posterior_μ(chn, y, postμ_theoretical)"
   ]
  },
  {
   "cell_type": "code",
   "execution_count": 27,
   "id": "a2f81070",
   "metadata": {},
   "outputs": [
    {
     "data": {
      "image/png": "[encoded data removed]"
     },
     "execution_count": 27,
     "metadata": {},
     "output_type": "execute_result"
    }
   ],
   "source": [
    "pred_theoretical = preddist_jeffreys(y)\n",
    "plot_preddist(chn, y, pred_theoretical)"
   ]
  },
  {
   "cell_type": "markdown",
   "id": "cac40502",
   "metadata": {},
   "source": [
    "### 平均と対数分散について一様な事前分布の場合\n",
    "\n",
    "平均 $\\mu$ と分数の対数 $\\log v = \\log\\sigma^2$ に関する一様な事前分布は\n",
    "\n",
    "$$\n",
    "p_\\op{flat}(\\mu, v) \\propto v^{-1}\n",
    "$$\n",
    "\n",
    "になる. ただし, 右辺の $(\\mu,v)\\in\\R\\times\\R_{>0}$ に関する積分は $\\infty$ になるので, この事前分布はimproperである.\n",
    "\n",
    "逆ガンマ正規分布の密度函数\n",
    "\n",
    "$$\n",
    "p_\\op{InverseGammaNormal}(\\mu,v|\\mu_*, v_*, \\kappa, \\theta) \\propto\n",
    "v^{-(\\kappa+1/2)-1}\n",
    "\\exp\\left(-\\frac{1}{v}\\left(\\theta + \\frac{1}{2v_*}(\\mu-\\mu_*)^2\\right)\\right).\n",
    "$$\n",
    "\n",
    "と比較すると, 平均と対数分散について一様な事前分布に対応する共役事前分布のパラメータ値は形式的に次になることがわかる:\n",
    "\n",
    "$$\n",
    "\\kappa \\to -\\frac{1}{2}, \\quad\n",
    "\\theta \\to 0, \\quad\n",
    "v_* \\to \\infty.\n",
    "$$\n",
    "\n",
    "このとき, Bayes更新後のパラメータの公式は次のようになる:\n",
    "\n",
    "$$\n",
    "\\tilde\\kappa = \\frac{n-1}{2}, \\quad\n",
    "\\tilde\\theta = \\frac{n\\sigmahat^2}{2}, \\quad\n",
    "\\tilde\\mu_* = \\ybar, \\quad\n",
    "\\tilde v_* = \\frac{1}{n}.\n",
    "$$\n",
    "\n",
    "この場合には\n",
    "\n",
    "$$\n",
    "\\frac{\\tilde\\theta}{\\tilde\\kappa} = \\frac{n\\sigmahat^2}{n-1} = s^2, \\quad\n",
    "\\tilde v_* = \\frac{1}{n}, \\quad\n",
    "2\\tilde\\kappa = n-1.\n",
    "$$\n",
    "\n",
    "ここで, $s^2$ はデータの数値 $y_1,\\ldots,y_n$ の不偏分散\n",
    "\n",
    "$$\n",
    "s^2 = \\frac{1}{n-1}\\sum_{i=1}^n(y_i - \\ybar)^2 =\n",
    "\\frac{n\\sigmahat^2}{n-1} > \\sigmahat^2\n",
    "$$\n",
    "\n",
    "であり, $s$ はその平方根である.\n",
    "\n",
    "ゆえに, $\\mu$ に関する周辺事後分布は\n",
    "\n",
    "$$\n",
    "\\mu \\sim\n",
    "\\ybar + \\frac{s}{\\sqrt{n}}\\;\\op{TDist}(n-1)\n",
    "$$\n",
    "\n",
    "になり, $y_\\op{new}$ に関する事後予測分布は次になる:\n",
    "\n",
    "$$\n",
    "y_\\op{new} \\sim\n",
    "\\ybar + s\\sqrt{1+\\frac{1}{n}}\\;\\op{TDist}(n-1).\n",
    "$$\n",
    "\n",
    "したがって, 前節の結果と比較すると, Jeffreys事前分布の事後分布と予測分布による区間推定よりもこの場合の区間推定は少し広くなる."
   ]
  },
  {
   "cell_type": "code",
   "execution_count": 28,
   "id": "732deaf0",
   "metadata": {},
   "outputs": [
    {
     "data": {
      "text/plain": [
       "preddist_flat (generic function with 2 methods)"
      ]
     },
     "execution_count": 28,
     "metadata": {},
     "output_type": "execute_result"
    }
   ],
   "source": [
    "prior_flat() = 0.0, Inf, -1/2, 0.0\n",
    "\n",
    "posterior_μ_flat(n, ȳ, s²) = ȳ + √(s²/n)*TDist(n-1)\n",
    "\n",
    "function posterior_μ_flat(y)\n",
    "    n, ȳ, s² = length(y), mean(y), var(y)\n",
    "    posterior_μ_flat(n, ȳ, s²)\n",
    "end\n",
    "\n",
    "preddist_flat(n, ȳ, s²) = ȳ + √(s²*(1+1/n))*TDist(n-1)\n",
    "\n",
    "function preddist_flat(y)\n",
    "    n, ȳ, s² = length(y), mean(y), var(y)\n",
    "    preddist_flat(n, ȳ, s²)\n",
    "end"
   ]
  },
  {
   "cell_type": "code",
   "execution_count": 29,
   "id": "da6226c4",
   "metadata": {},
   "outputs": [
    {
     "name": "stdout",
     "output_type": "stream",
     "text": [
      "dist_true = Normal(μ_true, σ_true) = Normal{Float64}(μ=10000.0, σ=100.0)\n",
      "n = 5\n"
     ]
    },
    {
     "data": {
      "text/plain": [
       "(5, 8.787734651221303, 11.679443105820628)"
      ]
     },
     "execution_count": 29,
     "metadata": {},
     "output_type": "execute_result"
    }
   ],
   "source": [
    "y = rand(Normal(10, 3), 5)\n",
    "@show dist_true = Normal(μ_true, σ_true) n\n",
    "n, ȳ, s² = length(y), mean(y), var(y)"
   ]
  },
  {
   "cell_type": "code",
   "execution_count": 30,
   "id": "f29da30b",
   "metadata": {},
   "outputs": [
    {
     "data": {
      "text/plain": [
       "LocationScale{Float64, Continuous, TDist{Float64}}(\n",
       "μ: 8.787734651221303\n",
       "σ: 1.528361417062118\n",
       "ρ: TDist{Float64}(ν=4.0)\n",
       ")\n"
      ]
     },
     "execution_count": 30,
     "metadata": {},
     "output_type": "execute_result"
    }
   ],
   "source": [
    "post_μ = posterior_μ(bayesian_update(prior_flat()..., y)...)"
   ]
  },
  {
   "cell_type": "code",
   "execution_count": 31,
   "id": "fc3e131b",
   "metadata": {},
   "outputs": [
    {
     "data": {
      "text/plain": [
       "true"
      ]
     },
     "execution_count": 31,
     "metadata": {},
     "output_type": "execute_result"
    }
   ],
   "source": [
    "posterior_μ_flat(y) ≈ post_μ"
   ]
  },
  {
   "cell_type": "markdown",
   "id": "b3e95952",
   "metadata": {},
   "source": [
    "### 平均と対数分散について一様な事前分布の場合の結果の数値的確認"
   ]
  },
  {
   "cell_type": "code",
   "execution_count": 32,
   "id": "5bfe601a",
   "metadata": {},
   "outputs": [
    {
     "data": {
      "text/plain": [
       "normaldistmodel_flat (generic function with 2 methods)"
      ]
     },
     "execution_count": 32,
     "metadata": {},
     "output_type": "execute_result"
    }
   ],
   "source": [
    "@model function normaldistmodel_flat(y)\n",
    "    σ² ~ PowerPos(-1)\n",
    "    μ ~ Flat()\n",
    "    y ~ MvNormal(fill(μ, length(y)), σ²*I)\n",
    "end"
   ]
  },
  {
   "cell_type": "code",
   "execution_count": 33,
   "id": "f3628641",
   "metadata": {},
   "outputs": [
    {
     "name": "stdout",
     "output_type": "stream",
     "text": [
      "dist_true = Normal(μ_true, σ_true) = Normal{Float64}(μ=10000.0, σ=100.0)\n",
      "n = 5\n"
     ]
    },
    {
     "data": {
      "text/plain": [
       "5-element Vector{Float64}:\n",
       "  9938.320358744673\n",
       " 10043.12283133296\n",
       " 10103.683142774986\n",
       " 10052.567389557995\n",
       "  9952.691263266757"
      ]
     },
     "execution_count": 33,
     "metadata": {},
     "output_type": "execute_result"
    }
   ],
   "source": [
    "μ_true, σ_true, n = 1e4, 1e2, 5\n",
    "@show dist_true = Normal(μ_true, σ_true) n\n",
    "y = rand(Normal(μ_true, σ_true), n)"
   ]
  },
  {
   "cell_type": "code",
   "execution_count": 34,
   "id": "a2d66af5",
   "metadata": {},
   "outputs": [
    {
     "name": "stderr",
     "output_type": "stream",
     "text": [
      "┌ Warning: The current proposal will be rejected due to numerical error(s).\n",
      "│   isfinite.((θ, r, ℓπ, ℓκ)) = (true, false, false, false)\n",
      "└ @ AdvancedHMC D:\\.julia\\packages\\AdvancedHMC\\51xgc\\src\\hamiltonian.jl:47\n",
      "┌ Warning: The current proposal will be rejected due to numerical error(s).\n",
      "│   isfinite.((θ, r, ℓπ, ℓκ)) = (true, false, false, false)\n",
      "└ @ AdvancedHMC D:\\.julia\\packages\\AdvancedHMC\\51xgc\\src\\hamiltonian.jl:47\n",
      "┌ Warning: The current proposal will be rejected due to numerical error(s).\n",
      "│   isfinite.((θ, r, ℓπ, ℓκ)) = (true, false, false, false)\n",
      "└ @ AdvancedHMC D:\\.julia\\packages\\AdvancedHMC\\51xgc\\src\\hamiltonian.jl:47\n",
      "┌ Warning: The current proposal will be rejected due to numerical error(s).\n",
      "│   isfinite.((θ, r, ℓπ, ℓκ)) = (true, false, false, false)\n",
      "└ @ AdvancedHMC D:\\.julia\\packages\\AdvancedHMC\\51xgc\\src\\hamiltonian.jl:47\n",
      "┌ Warning: The current proposal will be rejected due to numerical error(s).\n",
      "│   isfinite.((θ, r, ℓπ, ℓκ)) = (true, false, false, false)\n",
      "└ @ AdvancedHMC D:\\.julia\\packages\\AdvancedHMC\\51xgc\\src\\hamiltonian.jl:47\n",
      "┌ Warning: The current proposal will be rejected due to numerical error(s).\n",
      "│   isfinite.((θ, r, ℓπ, ℓκ)) = (true, false, false, false)\n",
      "└ @ AdvancedHMC D:\\.julia\\packages\\AdvancedHMC\\51xgc\\src\\hamiltonian.jl:47\n",
      "┌ Warning: The current proposal will be rejected due to numerical error(s).\n",
      "│   isfinite.((θ, r, ℓπ, ℓκ)) = (true, false, false, false)\n",
      "└ @ AdvancedHMC D:\\.julia\\packages\\AdvancedHMC\\51xgc\\src\\hamiltonian.jl:47\n",
      "┌ Warning: The current proposal will be rejected due to numerical error(s).\n",
      "│   isfinite.((θ, r, ℓπ, ℓκ)) = (true, false, false, false)\n",
      "└ @ AdvancedHMC D:\\.julia\\packages\\AdvancedHMC\\51xgc\\src\\hamiltonian.jl:47\n",
      "┌ Warning: The current proposal will be rejected due to numerical error(s).\n",
      "│   isfinite.((θ, r, ℓπ, ℓκ)) = (true, false, false, false)\n",
      "└ @ AdvancedHMC D:\\.julia\\packages\\AdvancedHMC\\51xgc\\src\\hamiltonian.jl:47\n",
      "┌ Warning: The current proposal will be rejected due to numerical error(s).\n",
      "│   isfinite.((θ, r, ℓπ, ℓκ)) = (true, false, false, false)\n",
      "└ @ AdvancedHMC D:\\.julia\\packages\\AdvancedHMC\\51xgc\\src\\hamiltonian.jl:47\n",
      "┌ Warning: The current proposal will be rejected due to numerical error(s).\n",
      "│   isfinite.((θ, r, ℓπ, ℓκ)) = (true, false, false, false)\n",
      "└ @ AdvancedHMC D:\\.julia\\packages\\AdvancedHMC\\51xgc\\src\\hamiltonian.jl:47\n",
      "┌ Warning: The current proposal will be rejected due to numerical error(s).\n",
      "│   isfinite.((θ, r, ℓπ, ℓκ)) = (true, false, false, false)\n",
      "└ @ AdvancedHMC D:\\.julia\\packages\\AdvancedHMC\\51xgc\\src\\hamiltonian.jl:47\n",
      "┌ Warning: The current proposal will be rejected due to numerical error(s).\n",
      "│   isfinite.((θ, r, ℓπ, ℓκ)) = (true, false, false, false)\n",
      "└ @ AdvancedHMC D:\\.julia\\packages\\AdvancedHMC\\51xgc\\src\\hamiltonian.jl:47\n",
      "┌ Warning: The current proposal will be rejected due to numerical error(s).\n",
      "│   isfinite.((θ, r, ℓπ, ℓκ)) = (true, false, false, false)\n",
      "└ @ AdvancedHMC D:\\.julia\\packages\\AdvancedHMC\\51xgc\\src\\hamiltonian.jl:47\n",
      "┌ Warning: The current proposal will be rejected due to numerical error(s).\n",
      "│   isfinite.((θ, r, ℓπ, ℓκ)) = (true, false, false, false)\n",
      "└ @ AdvancedHMC D:\\.julia\\packages\\AdvancedHMC\\51xgc\\src\\hamiltonian.jl:47\n",
      "┌ Warning: The current proposal will be rejected due to numerical error(s).\n",
      "│   isfinite.((θ, r, ℓπ, ℓκ)) = (true, false, false, false)\n",
      "└ @ AdvancedHMC D:\\.julia\\packages\\AdvancedHMC\\51xgc\\src\\hamiltonian.jl:47\n",
      "┌ Warning: The current proposal will be rejected due to numerical error(s).\n",
      "│   isfinite.((θ, r, ℓπ, ℓκ)) = (true, false, false, false)\n",
      "└ @ AdvancedHMC D:\\.julia\\packages\\AdvancedHMC\\51xgc\\src\\hamiltonian.jl:47\n",
      "┌ Warning: The current proposal will be rejected due to numerical error(s).\n",
      "│   isfinite.((θ, r, ℓπ, ℓκ)) = (true, false, false, false)\n",
      "└ @ AdvancedHMC D:\\.julia\\packages\\AdvancedHMC\\51xgc\\src\\hamiltonian.jl:47\n",
      "┌ Warning: The current proposal will be rejected due to numerical error(s).\n",
      "│   isfinite.((θ, r, ℓπ, ℓκ)) = (true, false, false, false)\n",
      "└ @ AdvancedHMC D:\\.julia\\packages\\AdvancedHMC\\51xgc\\src\\hamiltonian.jl:47\n",
      "┌ Warning: The current proposal will be rejected due to numerical error(s).\n",
      "│   isfinite.((θ, r, ℓπ, ℓκ)) = (true, false, false, false)\n",
      "└ @ AdvancedHMC D:\\.julia\\packages\\AdvancedHMC\\51xgc\\src\\hamiltonian.jl:47\n",
      "┌ Warning: The current proposal will be rejected due to numerical error(s).\n",
      "│   isfinite.((θ, r, ℓπ, ℓκ)) = (true, false, false, false)\n",
      "└ @ AdvancedHMC D:\\.julia\\packages\\AdvancedHMC\\51xgc\\src\\hamiltonian.jl:47\n",
      "┌ Warning: The current proposal will be rejected due to numerical error(s).\n",
      "│   isfinite.((θ, r, ℓπ, ℓκ)) = (true, false, false, false)\n",
      "└ @ AdvancedHMC D:\\.julia\\packages\\AdvancedHMC\\51xgc\\src\\hamiltonian.jl:47\n",
      "┌ Warning: The current proposal will be rejected due to numerical error(s).\n",
      "│   isfinite.((θ, r, ℓπ, ℓκ)) = (true, false, false, false)\n",
      "└ @ AdvancedHMC D:\\.julia\\packages\\AdvancedHMC\\51xgc\\src\\hamiltonian.jl:47\n",
      "┌ Warning: The current proposal will be rejected due to numerical error(s).\n",
      "│   isfinite.((θ, r, ℓπ, ℓκ)) = (true, false, false, false)\n",
      "└ @ AdvancedHMC D:\\.julia\\packages\\AdvancedHMC\\51xgc\\src\\hamiltonian.jl:47\n",
      "┌ Warning: The current proposal will be rejected due to numerical error(s).\n",
      "│   isfinite.((θ, r, ℓπ, ℓκ)) = (true, false, false, false)\n",
      "└ @ AdvancedHMC D:\\.julia\\packages\\AdvancedHMC\\51xgc\\src\\hamiltonian.jl:47\n",
      "┌ Warning: The current proposal will be rejected due to numerical error(s).\n",
      "│   isfinite.((θ, r, ℓπ, ℓκ)) = (true, false, false, false)\n",
      "└ @ AdvancedHMC D:\\.julia\\packages\\AdvancedHMC\\51xgc\\src\\hamiltonian.jl:47\n",
      "┌ Warning: The current proposal will be rejected due to numerical error(s).\n",
      "│   isfinite.((θ, r, ℓπ, ℓκ)) = (true, false, false, false)\n",
      "└ @ AdvancedHMC D:\\.julia\\packages\\AdvancedHMC\\51xgc\\src\\hamiltonian.jl:47\n",
      "┌ Warning: The current proposal will be rejected due to numerical error(s).\n",
      "│   isfinite.((θ, r, ℓπ, ℓκ)) = (true, false, false, false)\n",
      "└ @ AdvancedHMC D:\\.julia\\packages\\AdvancedHMC\\51xgc\\src\\hamiltonian.jl:47\n",
      "┌ Warning: The current proposal will be rejected due to numerical error(s).\n",
      "│   isfinite.((θ, r, ℓπ, ℓκ)) = (true, false, false, false)\n",
      "└ @ AdvancedHMC D:\\.julia\\packages\\AdvancedHMC\\51xgc\\src\\hamiltonian.jl:47\n",
      "┌ Warning: The current proposal will be rejected due to numerical error(s).\n",
      "│   isfinite.((θ, r, ℓπ, ℓκ)) = (true, false, false, false)\n",
      "└ @ AdvancedHMC D:\\.julia\\packages\\AdvancedHMC\\51xgc\\src\\hamiltonian.jl:47\n",
      "┌ Warning: The current proposal will be rejected due to numerical error(s).\n",
      "│   isfinite.((θ, r, ℓπ, ℓκ)) = (true, false, false, false)\n",
      "└ @ AdvancedHMC D:\\.julia\\packages\\AdvancedHMC\\51xgc\\src\\hamiltonian.jl:47\n",
      "┌ Warning: The current proposal will be rejected due to numerical error(s).\n",
      "│   isfinite.((θ, r, ℓπ, ℓκ)) = (true, false, false, false)\n",
      "└ @ AdvancedHMC D:\\.julia\\packages\\AdvancedHMC\\51xgc\\src\\hamiltonian.jl:47\n",
      "┌ Warning: The current proposal will be rejected due to numerical error(s).\n",
      "│   isfinite.((θ, r, ℓπ, ℓκ)) = (true, false, false, false)\n",
      "└ @ AdvancedHMC D:\\.julia\\packages\\AdvancedHMC\\51xgc\\src\\hamiltonian.jl:47\n",
      "┌ Warning: The current proposal will be rejected due to numerical error(s).\n",
      "│   isfinite.((θ, r, ℓπ, ℓκ)) = (true, false, false, false)\n",
      "└ @ AdvancedHMC D:\\.julia\\packages\\AdvancedHMC\\51xgc\\src\\hamiltonian.jl:47\n",
      "┌ Warning: The current proposal will be rejected due to numerical error(s).\n",
      "│   isfinite.((θ, r, ℓπ, ℓκ)) = (true, false, false, false)\n",
      "└ @ AdvancedHMC D:\\.julia\\packages\\AdvancedHMC\\51xgc\\src\\hamiltonian.jl:47\n",
      "┌ Warning: The current proposal will be rejected due to numerical error(s).\n",
      "│   isfinite.((θ, r, ℓπ, ℓκ)) = (true, false, false, false)\n",
      "└ @ AdvancedHMC D:\\.julia\\packages\\AdvancedHMC\\51xgc\\src\\hamiltonian.jl:47\n",
      "┌ Warning: The current proposal will be rejected due to numerical error(s).\n",
      "│   isfinite.((θ, r, ℓπ, ℓκ)) = (true, false, false, false)\n",
      "└ @ AdvancedHMC D:\\.julia\\packages\\AdvancedHMC\\51xgc\\src\\hamiltonian.jl:47\n",
      "┌ Warning: The current proposal will be rejected due to numerical error(s).\n",
      "│   isfinite.((θ, r, ℓπ, ℓκ)) = (true, false, false, false)\n",
      "└ @ AdvancedHMC D:\\.julia\\packages\\AdvancedHMC\\51xgc\\src\\hamiltonian.jl:47\n",
      "┌ Warning: The current proposal will be rejected due to numerical error(s).\n",
      "│   isfinite.((θ, r, ℓπ, ℓκ)) = (true, false, false, false)\n",
      "└ @ AdvancedHMC D:\\.julia\\packages\\AdvancedHMC\\51xgc\\src\\hamiltonian.jl:47\n",
      "┌ Warning: The current proposal will be rejected due to numerical error(s).\n",
      "│   isfinite.((θ, r, ℓπ, ℓκ)) = (true, false, false, false)\n",
      "└ @ AdvancedHMC D:\\.julia\\packages\\AdvancedHMC\\51xgc\\src\\hamiltonian.jl:47\n",
      "┌ Warning: The current proposal will be rejected due to numerical error(s).\n",
      "│   isfinite.((θ, r, ℓπ, ℓκ)) = (true, false, false, false)\n",
      "└ @ AdvancedHMC D:\\.julia\\packages\\AdvancedHMC\\51xgc\\src\\hamiltonian.jl:47\n",
      "┌ Warning: The current proposal will be rejected due to numerical error(s).\n",
      "│   isfinite.((θ, r, ℓπ, ℓκ)) = (true, false, false, false)\n",
      "└ @ AdvancedHMC D:\\.julia\\packages\\AdvancedHMC\\51xgc\\src\\hamiltonian.jl:47\n",
      "┌ Warning: The current proposal will be rejected due to numerical error(s).\n",
      "│   isfinite.((θ, r, ℓπ, ℓκ)) = (true, false, false, false)\n",
      "└ @ AdvancedHMC D:\\.julia\\packages\\AdvancedHMC\\51xgc\\src\\hamiltonian.jl:47\n",
      "┌ Warning: The current proposal will be rejected due to numerical error(s).\n",
      "│   isfinite.((θ, r, ℓπ, ℓκ)) = (true, false, false, false)\n",
      "└ @ AdvancedHMC D:\\.julia\\packages\\AdvancedHMC\\51xgc\\src\\hamiltonian.jl:47\n",
      "┌ Warning: The current proposal will be rejected due to numerical error(s).\n",
      "│   isfinite.((θ, r, ℓπ, ℓκ)) = (true, false, false, false)\n",
      "└ @ AdvancedHMC D:\\.julia\\packages\\AdvancedHMC\\51xgc\\src\\hamiltonian.jl:47\n"
     ]
    },
    {
     "name": "stderr",
     "output_type": "stream",
     "text": [
      "┌ Warning: The current proposal will be rejected due to numerical error(s).\n",
      "│   isfinite.((θ, r, ℓπ, ℓκ)) = (true, false, false, false)\n",
      "└ @ AdvancedHMC D:\\.julia\\packages\\AdvancedHMC\\51xgc\\src\\hamiltonian.jl:47\n",
      "┌ Warning: The current proposal will be rejected due to numerical error(s).\n",
      "│   isfinite.((θ, r, ℓπ, ℓκ)) = (true, false, false, false)\n",
      "└ @ AdvancedHMC D:\\.julia\\packages\\AdvancedHMC\\51xgc\\src\\hamiltonian.jl:47\n",
      "┌ Warning: The current proposal will be rejected due to numerical error(s).\n",
      "│   isfinite.((θ, r, ℓπ, ℓκ)) = (true, false, false, false)\n",
      "└ @ AdvancedHMC D:\\.julia\\packages\\AdvancedHMC\\51xgc\\src\\hamiltonian.jl:47\n",
      "┌ Warning: The current proposal will be rejected due to numerical error(s).\n",
      "│   isfinite.((θ, r, ℓπ, ℓκ)) = (true, false, false, false)\n",
      "└ @ AdvancedHMC D:\\.julia\\packages\\AdvancedHMC\\51xgc\\src\\hamiltonian.jl:47\n",
      "┌ Warning: The current proposal will be rejected due to numerical error(s).\n",
      "│   isfinite.((θ, r, ℓπ, ℓκ)) = (true, false, false, false)\n",
      "└ @ AdvancedHMC D:\\.julia\\packages\\AdvancedHMC\\51xgc\\src\\hamiltonian.jl:47\n",
      "┌ Warning: The current proposal will be rejected due to numerical error(s).\n",
      "│   isfinite.((θ, r, ℓπ, ℓκ)) = (true, false, false, false)\n",
      "└ @ AdvancedHMC D:\\.julia\\packages\\AdvancedHMC\\51xgc\\src\\hamiltonian.jl:47\n",
      "┌ Warning: The current proposal will be rejected due to numerical error(s).\n",
      "│   isfinite.((θ, r, ℓπ, ℓκ)) = (true, false, false, false)\n",
      "└ @ AdvancedHMC D:\\.julia\\packages\\AdvancedHMC\\51xgc\\src\\hamiltonian.jl:47\n",
      "┌ Warning: The current proposal will be rejected due to numerical error(s).\n",
      "│   isfinite.((θ, r, ℓπ, ℓκ)) = (true, false, false, false)\n",
      "└ @ AdvancedHMC D:\\.julia\\packages\\AdvancedHMC\\51xgc\\src\\hamiltonian.jl:47\n",
      "┌ Warning: The current proposal will be rejected due to numerical error(s).\n",
      "│   isfinite.((θ, r, ℓπ, ℓκ)) = (true, false, false, false)\n",
      "└ @ AdvancedHMC D:\\.julia\\packages\\AdvancedHMC\\51xgc\\src\\hamiltonian.jl:47\n",
      "┌ Warning: The current proposal will be rejected due to numerical error(s).\n",
      "│   isfinite.((θ, r, ℓπ, ℓκ)) = (true, false, false, false)\n",
      "└ @ AdvancedHMC D:\\.julia\\packages\\AdvancedHMC\\51xgc\\src\\hamiltonian.jl:47\n",
      "┌ Warning: The current proposal will be rejected due to numerical error(s).\n",
      "│   isfinite.((θ, r, ℓπ, ℓκ)) = (true, false, false, false)\n",
      "└ @ AdvancedHMC D:\\.julia\\packages\\AdvancedHMC\\51xgc\\src\\hamiltonian.jl:47\n",
      "┌ Warning: The current proposal will be rejected due to numerical error(s).\n",
      "│   isfinite.((θ, r, ℓπ, ℓκ)) = (true, false, false, false)\n",
      "└ @ AdvancedHMC D:\\.julia\\packages\\AdvancedHMC\\51xgc\\src\\hamiltonian.jl:47\n",
      "┌ Warning: The current proposal will be rejected due to numerical error(s).\n",
      "│   isfinite.((θ, r, ℓπ, ℓκ)) = (true, false, false, false)\n",
      "└ @ AdvancedHMC D:\\.julia\\packages\\AdvancedHMC\\51xgc\\src\\hamiltonian.jl:47\n",
      "┌ Warning: The current proposal will be rejected due to numerical error(s).\n",
      "│   isfinite.((θ, r, ℓπ, ℓκ)) = (true, false, false, false)\n",
      "└ @ AdvancedHMC D:\\.julia\\packages\\AdvancedHMC\\51xgc\\src\\hamiltonian.jl:47\n",
      "┌ Warning: The current proposal will be rejected due to numerical error(s).\n",
      "│   isfinite.((θ, r, ℓπ, ℓκ)) = (true, false, false, false)\n",
      "└ @ AdvancedHMC D:\\.julia\\packages\\AdvancedHMC\\51xgc\\src\\hamiltonian.jl:47\n",
      "┌ Warning: The current proposal will be rejected due to numerical error(s).\n",
      "│   isfinite.((θ, r, ℓπ, ℓκ)) = (true, false, false, false)\n",
      "└ @ AdvancedHMC D:\\.julia\\packages\\AdvancedHMC\\51xgc\\src\\hamiltonian.jl:47\n",
      "┌ Warning: The current proposal will be rejected due to numerical error(s).\n",
      "│   isfinite.((θ, r, ℓπ, ℓκ)) = (true, false, false, false)\n",
      "└ @ AdvancedHMC D:\\.julia\\packages\\AdvancedHMC\\51xgc\\src\\hamiltonian.jl:47\n",
      "┌ Warning: The current proposal will be rejected due to numerical error(s).\n",
      "│   isfinite.((θ, r, ℓπ, ℓκ)) = (true, false, false, false)\n",
      "└ @ AdvancedHMC D:\\.julia\\packages\\AdvancedHMC\\51xgc\\src\\hamiltonian.jl:47\n",
      "┌ Warning: The current proposal will be rejected due to numerical error(s).\n",
      "│   isfinite.((θ, r, ℓπ, ℓκ)) = (true, false, false, false)\n",
      "└ @ AdvancedHMC D:\\.julia\\packages\\AdvancedHMC\\51xgc\\src\\hamiltonian.jl:47\n",
      "┌ Info: Found initial step size\n",
      "│   ϵ = 0.0001953125\n",
      "└ @ Turing.Inference D:\\.julia\\packages\\Turing\\szPqN\\src\\inference\\hmc.jl:191\n",
      "┌ Warning: The current proposal will be rejected due to numerical error(s).\n",
      "│   isfinite.((θ, r, ℓπ, ℓκ)) = (true, false, false, false)\n",
      "└ @ AdvancedHMC D:\\.julia\\packages\\AdvancedHMC\\51xgc\\src\\hamiltonian.jl:47\n",
      "┌ Warning: The current proposal will be rejected due to numerical error(s).\n",
      "│   isfinite.((θ, r, ℓπ, ℓκ)) = (true, false, false, false)\n",
      "└ @ AdvancedHMC D:\\.julia\\packages\\AdvancedHMC\\51xgc\\src\\hamiltonian.jl:47\n",
      "┌ Warning: The current proposal will be rejected due to numerical error(s).\n",
      "│   isfinite.((θ, r, ℓπ, ℓκ)) = (true, false, false, false)\n",
      "└ @ AdvancedHMC D:\\.julia\\packages\\AdvancedHMC\\51xgc\\src\\hamiltonian.jl:47\n",
      "┌ Info: Found initial step size\n",
      "│   ϵ = 0.0001953125\n",
      "└ @ Turing.Inference D:\\.julia\\packages\\Turing\\szPqN\\src\\inference\\hmc.jl:191\n",
      "┌ Info: Found initial step size\n",
      "│   ϵ = 0.0001953125\n",
      "└ @ Turing.Inference D:\\.julia\\packages\\Turing\\szPqN\\src\\inference\\hmc.jl:191\n",
      "┌ Info: Found initial step size\n",
      "│   ϵ = 9.765625e-5\n",
      "└ @ Turing.Inference D:\\.julia\\packages\\Turing\\szPqN\\src\\inference\\hmc.jl:191\n",
      "┌ Info: Found initial step size\n",
      "│   ϵ = 9.765625e-5\n",
      "└ @ Turing.Inference D:\\.julia\\packages\\Turing\\szPqN\\src\\inference\\hmc.jl:191\n",
      "┌ Info: Found initial step size\n",
      "│   ϵ = 9.765625e-5\n",
      "└ @ Turing.Inference D:\\.julia\\packages\\Turing\\szPqN\\src\\inference\\hmc.jl:191\n",
      "┌ Info: Found initial step size\n",
      "│   ϵ = 9.765625e-5\n",
      "└ @ Turing.Inference D:\\.julia\\packages\\Turing\\szPqN\\src\\inference\\hmc.jl:191\n",
      "┌ Warning: The current proposal will be rejected due to numerical error(s).\n",
      "│   isfinite.((θ, r, ℓπ, ℓκ)) = (true, false, false, false)\n",
      "└ @ AdvancedHMC D:\\.julia\\packages\\AdvancedHMC\\51xgc\\src\\hamiltonian.jl:47\n",
      "┌ Warning: The current proposal will be rejected due to numerical error(s).\n",
      "│   isfinite.((θ, r, ℓπ, ℓκ)) = (true, false, false, false)\n",
      "└ @ AdvancedHMC D:\\.julia\\packages\\AdvancedHMC\\51xgc\\src\\hamiltonian.jl:47\n",
      "┌ Info: Found initial step size\n",
      "│   ϵ = 4.8828125e-5\n",
      "└ @ Turing.Inference D:\\.julia\\packages\\Turing\\szPqN\\src\\inference\\hmc.jl:191\n",
      "┌ Info: Found initial step size\n",
      "│   ϵ = 9.765625e-5\n",
      "└ @ Turing.Inference D:\\.julia\\packages\\Turing\\szPqN\\src\\inference\\hmc.jl:191\n",
      "┌ Info: Found initial step size\n",
      "│   ϵ = 4.8828125e-5\n",
      "└ @ Turing.Inference D:\\.julia\\packages\\Turing\\szPqN\\src\\inference\\hmc.jl:191\n",
      "\u001b[32mSampling (10 threads): 100%|████████████████████████████| Time: 0:00:02\u001b[39m\n"
     ]
    }
   ],
   "source": [
    "L = 10^5\n",
    "n_threads = min(Threads.nthreads(), 10)\n",
    "chn = sample(normaldistmodel_flat(y), NUTS(), MCMCThreads(), L, n_threads);"
   ]
  },
  {
   "cell_type": "code",
   "execution_count": 35,
   "id": "e72e8d5f",
   "metadata": {},
   "outputs": [
    {
     "data": {
      "text/plain": [
       "Chains MCMC chain (100000×14×10 Array{Float64, 3}):\n",
       "\n",
       "Iterations        = 1001:1:101000\n",
       "Number of chains  = 10\n",
       "Samples per chain = 100000\n",
       "Wall duration     = 24.27 seconds\n",
       "Compute duration  = 198.46 seconds\n",
       "parameters        = σ², μ\n",
       "internals         = lp, n_steps, is_accept, acceptance_rate, log_density, hamiltonian_energy, hamiltonian_energy_error, max_hamiltonian_energy_error, tree_depth, numerical_error, step_size, nom_step_size\n",
       "\n",
       "Summary Statistics\n",
       " \u001b[1m parameters \u001b[0m \u001b[1m       mean \u001b[0m \u001b[1m        std \u001b[0m \u001b[1m naive_se \u001b[0m \u001b[1m    mcse \u001b[0m \u001b[1m         ess \u001b[0m \u001b[1m    rhat \u001b[0m \u001b[1m ess_per_sec \u001b[0m\n",
       " \u001b[90m     Symbol \u001b[0m \u001b[90m    Float64 \u001b[0m \u001b[90m    Float64 \u001b[0m \u001b[90m  Float64 \u001b[0m \u001b[90m Float64 \u001b[0m \u001b[90m     Float64 \u001b[0m \u001b[90m Float64 \u001b[0m \u001b[90m     Float64 \u001b[0m\n",
       "\n",
       "          σ²    9857.0585   20386.2975    20.3863   40.7069   249577.3292    1.0000     1257.5446\n",
       "           μ   10018.0477      44.3136     0.0443    0.0816   282612.2085    1.0000     1423.9973\n",
       "\n",
       "Quantiles\n",
       " \u001b[1m parameters \u001b[0m \u001b[1m      2.5% \u001b[0m \u001b[1m     25.0% \u001b[0m \u001b[1m      50.0% \u001b[0m \u001b[1m      75.0% \u001b[0m \u001b[1m      97.5% \u001b[0m\n",
       " \u001b[90m     Symbol \u001b[0m \u001b[90m   Float64 \u001b[0m \u001b[90m   Float64 \u001b[0m \u001b[90m    Float64 \u001b[0m \u001b[90m    Float64 \u001b[0m \u001b[90m    Float64 \u001b[0m\n",
       "\n",
       "          σ²   1775.4395   3675.5684    5883.5545   10270.3192   40935.0669\n",
       "           μ   9930.8251   9994.7977   10018.0373   10041.3468   10105.2165\n"
      ]
     },
     "execution_count": 35,
     "metadata": {},
     "output_type": "execute_result"
    }
   ],
   "source": [
    "chn"
   ]
  },
  {
   "cell_type": "code",
   "execution_count": 36,
   "id": "1010df48",
   "metadata": {},
   "outputs": [
    {
     "name": "stdout",
     "output_type": "stream",
     "text": [
      "confint_ttest(y) = [9930.758551812789, 10105.39544245816]\n"
     ]
    }
   ],
   "source": [
    "@show confint_ttest(y);"
   ]
  },
  {
   "cell_type": "code",
   "execution_count": 37,
   "id": "d8abb00b",
   "metadata": {},
   "outputs": [
    {
     "data": {
      "image/png": "[encoded data removed]"
     },
     "execution_count": 37,
     "metadata": {},
     "output_type": "execute_result"
    }
   ],
   "source": [
    "postμ_theoretical = posterior_μ_flat(y)\n",
    "plot_posterior_μ(chn, y, postμ_theoretical)"
   ]
  },
  {
   "cell_type": "code",
   "execution_count": 38,
   "id": "8e2b5914",
   "metadata": {},
   "outputs": [
    {
     "data": {
      "image/png": "[encoded data removed]"
     },
     "execution_count": 38,
     "metadata": {},
     "output_type": "execute_result"
    }
   ],
   "source": [
    "pred_theoretical = preddist_flat(y)\n",
    "plot_preddist(chn, y, pred_theoretical)"
   ]
  },
  {
   "cell_type": "markdown",
   "id": "26390298",
   "metadata": {},
   "source": [
    "### 通常の信頼区間と予測区間との比較\n",
    "\n",
    "通常の $t$ 分布を使う平均の信頼区間と次の値の予測区間の構成では以下を使う:\n",
    "\n",
    "$$\n",
    "\\frac{\\ybar - \\mu}{s\\big/\\!\\sqrt{n}} \\sim\n",
    "\\op{TDist}(n-1), \\quad\n",
    "\\frac{y_\\op{new} - \\ybar}{s\\sqrt{1+1/n}} \\sim\n",
    "\\op{TDist}(n-1).\n",
    "$$\n",
    "\n",
    "ここで, $s^2$ はデータの数値の不偏分散であり, $s$ はその平方根である.\n",
    "\n",
    "したがって, 前節の結果と比較すると, 通常の信頼区間と予測区間は, 平均と対数分散に関する一様事前分布に関する事後分布と予測分布を用いた区間推定に一致する."
   ]
  },
  {
   "cell_type": "markdown",
   "id": "6c647a38",
   "metadata": {},
   "source": [
    "### データの数値から事前分布を決めた場合\n",
    "\n",
    "$a,b>0$ であると仮定する.\n",
    "\n",
    "データの数値から共役事前分布のパラメータを次の条件によって決めたと仮定する:\n",
    "\n",
    "$$\n",
    "E[\\mu] = \\mu_* = \\ybar, \\quad\n",
    "E[v] = \\frac{\\theta}{\\kappa-1} = \\sigmahat^2, \\quad\n",
    "\\var(\\mu) = v_* E[v] = a\\sigmahat^2, \\quad\n",
    "\\var(v) = \\frac{E[v]^2}{\\kappa-2} = b\\sigmahat^4.\n",
    "$$\n",
    "\n",
    "これは次と同値である:\n",
    "\n",
    "$$\n",
    "\\mu_* = \\ybar, \\quad\n",
    "v_* = a, \\quad\n",
    "\\kappa = 2 + \\frac{1}{b}, \\quad\n",
    "\\theta = \\sigmahat^2\\left(1 + \\frac{1}{b}\\right).\n",
    "$$\n",
    "\n",
    "このパラメータ値に対応する共役事前分布を以下では __適応事前分布__ (adaptive prior)と呼ぶことにする(注意: ここだけの用語).\n",
    "\n",
    "これのBayes更新の結果は以下のようになる:\n",
    "\n",
    "$$\n",
    "\\begin{alignedat}{2}\n",
    "&\n",
    "\\tilde\\kappa = 2 + \\frac{1}{b} + \\frac{n}{2} =\n",
    "\\frac{n}{2}\\left(1 + \\frac{2(2+1/b)}{n}\\right)\n",
    "& &\n",
    "\\to 2 + \\frac{n}{2},\n",
    "\\\\ &\n",
    "\\tilde\\theta =\n",
    "\\sigmahat^2\\left(1 + \\frac{1}{b} + \\frac{n}{2}\\right) + \\frac{n}{2}\\frac{(\\ybar - \\ybar)^2}{1+na} =\n",
    "\\frac{n\\sigmahat^2}{2}\\left(1 + \\frac{2(1+1/b))}{n}\\right)\n",
    "& &\n",
    "\\to \\sigmahat^2\\left(1 + \\frac{n}{2}\\right),\n",
    "\\\\ &\n",
    "\\tilde\\mu_* = \\frac{\\ybar+nv_*\\ybar}{1+nv_*} =\n",
    "\\ybar\n",
    "& &\n",
    "\\to \\ybar,\n",
    "\\\\ &\n",
    "\\tilde v_* = \\frac{a}{1+na} =\n",
    "\\frac{1}{n}\\frac{1}{1+1/(na)}\n",
    "& &\n",
    "\\to \\frac{1}{n}.\n",
    "\\end{alignedat}\n",
    "$$\n",
    "\n",
    "以上における $\\to$ は $a\\to\\infty$, $b\\to\\infty$ での極限を意味する.\n",
    "\n",
    "適応事前分布の構成のポイントは, $\\mu_* = \\ybar$ となっているおかげで, $\\tilde\\mu_*$ も $\\tilde\\mu_* = \\ybar$ となってバイアスが消え, さらに, $\\tilde\\theta$ の中の $\\ds\\frac{n}{2}\\frac{(\\ybar - \\mu_*)^2}{1+na}$ の項が消えて, 区間推定の幅が無用に広くならずに済むことである.\n",
    "\n",
    "ただし, 適応事前分布の場合には \n",
    "\n",
    "$$\n",
    "\\frac{\\tilde\\theta}{\\tilde\\kappa} =\n",
    "\\sigmahat^2\\frac{1 + 2(1+1/b)/n}{1 + 2(2+1/b)/n} < \\sigmahat^2, \\quad\n",
    "v_* = \\frac{1}{n}\\frac{1}{1+1/(na)} < \\frac{1}{n}\n",
    "$$\n",
    "\n",
    "なので, 区間推定の幅はJeffreys事前分布の場合よりも少し狭くなる.\n",
    "\n",
    "しかし, $n$ が大きければそれらの違いは小さくなる."
   ]
  },
  {
   "cell_type": "code",
   "execution_count": 39,
   "id": "ec963f37",
   "metadata": {},
   "outputs": [
    {
     "data": {
      "text/plain": [
       "posterior_adaptive (generic function with 2 methods)"
      ]
     },
     "execution_count": 39,
     "metadata": {},
     "output_type": "execute_result"
    }
   ],
   "source": [
    "function prior_adaptive(n, ȳ, σ̂²; a = 2.5, b = 2.5)\n",
    "    μstar = ȳ\n",
    "    vstar = a\n",
    "    κ = 2 + 1/b\n",
    "    θ = σ̂²*(1 + 1/b)\n",
    "    μstar, vstar, κ, θ\n",
    "end\n",
    "\n",
    "function prior_adaptive(y; a = 2.5, b = 2.5)\n",
    "    n, ȳ, σ̂² = length(y), mean(y), var(y; corrected=false)\n",
    "    prior_adaptive(n, ȳ, σ̂²; a, b)\n",
    "end\n",
    "\n",
    "function posterior_adaptive(n, ȳ, σ̂²; a = 2.5, b = 2.5)\n",
    "    μstar = ȳ\n",
    "    vstar = 1/(1/a + n)\n",
    "    κ = 2 + 1/b + n/2\n",
    "    θ = σ̂²*(1 + 1/b + n/2)\n",
    "    μstar, vstar, κ, θ\n",
    "end\n",
    "\n",
    "function posterior_adaptive(y; a = 2.5, b = 2.5)\n",
    "    n, ȳ, σ̂² = length(y), mean(y), var(y; corrected=false)\n",
    "    posterior_adaptive(n, ȳ, σ̂²; a, b)\n",
    "end"
   ]
  },
  {
   "cell_type": "code",
   "execution_count": 40,
   "id": "af79b413",
   "metadata": {},
   "outputs": [
    {
     "name": "stdout",
     "output_type": "stream",
     "text": [
      "dist_true = Normal(μ_true, σ_true) = Normal{Float64}(μ=10000.0, σ=100.0)\n",
      "n = 5\n"
     ]
    },
    {
     "data": {
      "text/plain": [
       "5-element Vector{Float64}:\n",
       " 10083.259871757211\n",
       "  9926.401944941801\n",
       "  9991.19372936849\n",
       " 10075.802739280522\n",
       " 10121.121392882735"
      ]
     },
     "execution_count": 40,
     "metadata": {},
     "output_type": "execute_result"
    }
   ],
   "source": [
    "μ_true, σ_true, n = 1e4, 1e2, 5\n",
    "@show dist_true = Normal(μ_true, σ_true) n\n",
    "y = rand(Normal(μ_true, σ_true), n)"
   ]
  },
  {
   "cell_type": "code",
   "execution_count": 41,
   "id": "f193df68",
   "metadata": {},
   "outputs": [
    {
     "data": {
      "text/plain": [
       "(5, 10039.55593564615, 5003.903445576875)"
      ]
     },
     "execution_count": 41,
     "metadata": {},
     "output_type": "execute_result"
    }
   ],
   "source": [
    "n, ȳ, σ̂² = length(y), mean(y), var(y; corrected=false)"
   ]
  },
  {
   "cell_type": "code",
   "execution_count": 42,
   "id": "06a5f29c",
   "metadata": {},
   "outputs": [
    {
     "name": "stdout",
     "output_type": "stream",
     "text": [
      "(ȳ, σ̂², a * σ̂², b * σ̂² ^ 2) = (10039.55593564615, 5003.903445576875, 12509.758613942187, 6.259762423164031e7)\n"
     ]
    },
    {
     "data": {
      "text/plain": [
       "(true, true, true, true)"
      ]
     },
     "execution_count": 42,
     "metadata": {},
     "output_type": "execute_result"
    }
   ],
   "source": [
    "μstar, vstar, κ, θ = prior_adaptive(y)\n",
    "a, b = 2.5, 2.5\n",
    "@show ȳ, σ̂², a*σ̂², b*σ̂²^2\n",
    "(ȳ, σ̂², a*σ̂², b*σ̂²^2) .≈ (μstar, θ/(κ - 1), (θ/(κ - 1))*vstar, (θ/(κ - 1))^2/(κ - 2))"
   ]
  },
  {
   "cell_type": "code",
   "execution_count": 43,
   "id": "6e98bbc8",
   "metadata": {},
   "outputs": [
    {
     "data": {
      "text/plain": [
       "(10039.55593564615, 0.18518518518518517, 4.9, 19515.223437749813)"
      ]
     },
     "execution_count": 43,
     "metadata": {},
     "output_type": "execute_result"
    }
   ],
   "source": [
    "posterior_adaptive(n, ȳ, σ̂²)"
   ]
  },
  {
   "cell_type": "code",
   "execution_count": 44,
   "id": "79c4f901",
   "metadata": {},
   "outputs": [
    {
     "data": {
      "text/plain": [
       "(10039.55593564615, 0.18518518518518517, 4.9, 19515.223437749813)"
      ]
     },
     "execution_count": 44,
     "metadata": {},
     "output_type": "execute_result"
    }
   ],
   "source": [
    "bayesian_update(prior_adaptive(y)..., y)"
   ]
  },
  {
   "cell_type": "code",
   "execution_count": 45,
   "id": "ef8df3be",
   "metadata": {},
   "outputs": [
    {
     "data": {
      "text/plain": [
       "(10039.55593564615, 0.18518518518518517, 4.9, 19515.223437749813)"
      ]
     },
     "execution_count": 45,
     "metadata": {},
     "output_type": "execute_result"
    }
   ],
   "source": [
    "posterior_adaptive(y)"
   ]
  },
  {
   "cell_type": "code",
   "execution_count": 46,
   "id": "8fcfca1b",
   "metadata": {},
   "outputs": [
    {
     "data": {
      "text/plain": [
       "(true, true, true, true)"
      ]
     },
     "execution_count": 46,
     "metadata": {},
     "output_type": "execute_result"
    }
   ],
   "source": [
    "posterior_adaptive(y) .≈ bayesian_update(prior_adaptive(y)..., y)"
   ]
  },
  {
   "cell_type": "markdown",
   "id": "2a2356d9",
   "metadata": {},
   "source": [
    "### n = 5 では適応事前分布の場合と無情報事前分布の場合の結果が結構違う."
   ]
  },
  {
   "cell_type": "code",
   "execution_count": 47,
   "id": "9166a2c2",
   "metadata": {},
   "outputs": [
    {
     "data": {
      "text/plain": [
       "normaldistmodel_adaptive (generic function with 2 methods)"
      ]
     },
     "execution_count": 47,
     "metadata": {},
     "output_type": "execute_result"
    }
   ],
   "source": [
    "@model function normaldistmodel_adaptive(y; a = 2.5, b = 2.5)\n",
    "    μstar, vstar, κ, θ = prior_adaptive(y; a, b)\n",
    "    σ² ~ InverseGamma(κ, θ)\n",
    "    μ ~ Normal(μstar, √(vstar * σ²))\n",
    "    y ~ MvNormal(fill(μ, length(y)), σ²*I)\n",
    "end"
   ]
  },
  {
   "cell_type": "code",
   "execution_count": 48,
   "id": "94d1a9fd",
   "metadata": {},
   "outputs": [
    {
     "name": "stdout",
     "output_type": "stream",
     "text": [
      "dist_true = Normal(μ_true, σ_true) = Normal{Float64}(μ=10000.0, σ=100.0)\n",
      "n = 5\n"
     ]
    },
    {
     "data": {
      "text/plain": [
       "5-element Vector{Float64}:\n",
       "  9985.962507076916\n",
       " 10014.911470901265\n",
       " 10025.95423488364\n",
       " 10005.918983948448\n",
       " 10008.950493691416"
      ]
     },
     "execution_count": 48,
     "metadata": {},
     "output_type": "execute_result"
    }
   ],
   "source": [
    "μ_true, σ_true, n = 1e4, 1e2, 5\n",
    "@show dist_true = Normal(μ_true, σ_true) n\n",
    "y = rand(Normal(μ_true, σ_true), n)"
   ]
  },
  {
   "cell_type": "code",
   "execution_count": 49,
   "id": "5ba5b135",
   "metadata": {},
   "outputs": [
    {
     "name": "stderr",
     "output_type": "stream",
     "text": [
      "┌ Warning: The current proposal will be rejected due to numerical error(s).\n",
      "│   isfinite.((θ, r, ℓπ, ℓκ)) = (true, false, false, false)\n",
      "└ @ AdvancedHMC D:\\.julia\\packages\\AdvancedHMC\\51xgc\\src\\hamiltonian.jl:47\n",
      "┌ Warning: The current proposal will be rejected due to numerical error(s).\n",
      "│   isfinite.((θ, r, ℓπ, ℓκ)) = (true, false, false, false)\n",
      "└ @ AdvancedHMC D:\\.julia\\packages\\AdvancedHMC\\51xgc\\src\\hamiltonian.jl:47\n",
      "┌ Warning: The current proposal will be rejected due to numerical error(s).\n",
      "│   isfinite.((θ, r, ℓπ, ℓκ)) = (true, false, false, false)\n",
      "└ @ AdvancedHMC D:\\.julia\\packages\\AdvancedHMC\\51xgc\\src\\hamiltonian.jl:47\n",
      "┌ Warning: The current proposal will be rejected due to numerical error(s).\n",
      "│   isfinite.((θ, r, ℓπ, ℓκ)) = (true, false, false, false)\n",
      "└ @ AdvancedHMC D:\\.julia\\packages\\AdvancedHMC\\51xgc\\src\\hamiltonian.jl:47\n",
      "┌ Warning: The current proposal will be rejected due to numerical error(s).\n",
      "│   isfinite.((θ, r, ℓπ, ℓκ)) = (true, false, false, false)\n",
      "└ @ AdvancedHMC D:\\.julia\\packages\\AdvancedHMC\\51xgc\\src\\hamiltonian.jl:47\n",
      "┌ Warning: The current proposal will be rejected due to numerical error(s).\n",
      "│   isfinite.((θ, r, ℓπ, ℓκ)) = (true, false, false, false)\n",
      "└ @ AdvancedHMC D:\\.julia\\packages\\AdvancedHMC\\51xgc\\src\\hamiltonian.jl:47\n",
      "┌ Warning: The current proposal will be rejected due to numerical error(s).\n",
      "│   isfinite.((θ, r, ℓπ, ℓκ)) = (true, false, false, false)\n",
      "└ @ AdvancedHMC D:\\.julia\\packages\\AdvancedHMC\\51xgc\\src\\hamiltonian.jl:47\n",
      "┌ Warning: The current proposal will be rejected due to numerical error(s).\n",
      "│   isfinite.((θ, r, ℓπ, ℓκ)) = (true, false, false, false)\n",
      "└ @ AdvancedHMC D:\\.julia\\packages\\AdvancedHMC\\51xgc\\src\\hamiltonian.jl:47\n",
      "┌ Warning: The current proposal will be rejected due to numerical error(s).\n",
      "│   isfinite.((θ, r, ℓπ, ℓκ)) = (true, false, false, false)\n",
      "└ @ AdvancedHMC D:\\.julia\\packages\\AdvancedHMC\\51xgc\\src\\hamiltonian.jl:47\n",
      "┌ Warning: The current proposal will be rejected due to numerical error(s).\n",
      "│   isfinite.((θ, r, ℓπ, ℓκ)) = (true, false, false, false)\n",
      "└ @ AdvancedHMC D:\\.julia\\packages\\AdvancedHMC\\51xgc\\src\\hamiltonian.jl:47\n",
      "┌ Warning: The current proposal will be rejected due to numerical error(s).\n",
      "│   isfinite.((θ, r, ℓπ, ℓκ)) = (true, false, false, false)\n",
      "└ @ AdvancedHMC D:\\.julia\\packages\\AdvancedHMC\\51xgc\\src\\hamiltonian.jl:47\n",
      "┌ Warning: The current proposal will be rejected due to numerical error(s).\n",
      "│   isfinite.((θ, r, ℓπ, ℓκ)) = (true, false, false, false)\n",
      "└ @ AdvancedHMC D:\\.julia\\packages\\AdvancedHMC\\51xgc\\src\\hamiltonian.jl:47\n",
      "┌ Warning: The current proposal will be rejected due to numerical error(s).\n",
      "│   isfinite.((θ, r, ℓπ, ℓκ)) = (true, false, false, false)\n",
      "└ @ AdvancedHMC D:\\.julia\\packages\\AdvancedHMC\\51xgc\\src\\hamiltonian.jl:47\n",
      "┌ Warning: The current proposal will be rejected due to numerical error(s).\n",
      "│   isfinite.((θ, r, ℓπ, ℓκ)) = (true, false, false, false)\n",
      "└ @ AdvancedHMC D:\\.julia\\packages\\AdvancedHMC\\51xgc\\src\\hamiltonian.jl:47\n",
      "┌ Warning: The current proposal will be rejected due to numerical error(s).\n",
      "│   isfinite.((θ, r, ℓπ, ℓκ)) = (true, false, false, false)\n",
      "└ @ AdvancedHMC D:\\.julia\\packages\\AdvancedHMC\\51xgc\\src\\hamiltonian.jl:47\n",
      "┌ Warning: The current proposal will be rejected due to numerical error(s).\n",
      "│   isfinite.((θ, r, ℓπ, ℓκ)) = (true, false, false, false)\n",
      "└ @ AdvancedHMC D:\\.julia\\packages\\AdvancedHMC\\51xgc\\src\\hamiltonian.jl:47\n",
      "┌ Warning: The current proposal will be rejected due to numerical error(s).\n",
      "│   isfinite.((θ, r, ℓπ, ℓκ)) = (true, false, false, false)\n",
      "└ @ AdvancedHMC D:\\.julia\\packages\\AdvancedHMC\\51xgc\\src\\hamiltonian.jl:47\n",
      "┌ Warning: The current proposal will be rejected due to numerical error(s).\n",
      "│   isfinite.((θ, r, ℓπ, ℓκ)) = (true, false, false, false)\n",
      "└ @ AdvancedHMC D:\\.julia\\packages\\AdvancedHMC\\51xgc\\src\\hamiltonian.jl:47\n",
      "┌ Warning: The current proposal will be rejected due to numerical error(s).\n",
      "│   isfinite.((θ, r, ℓπ, ℓκ)) = (true, false, false, false)\n",
      "└ @ AdvancedHMC D:\\.julia\\packages\\AdvancedHMC\\51xgc\\src\\hamiltonian.jl:47\n",
      "┌ Warning: The current proposal will be rejected due to numerical error(s).\n",
      "│   isfinite.((θ, r, ℓπ, ℓκ)) = (true, false, false, false)\n",
      "└ @ AdvancedHMC D:\\.julia\\packages\\AdvancedHMC\\51xgc\\src\\hamiltonian.jl:47\n",
      "┌ Warning: The current proposal will be rejected due to numerical error(s).\n",
      "│   isfinite.((θ, r, ℓπ, ℓκ)) = (true, false, false, false)\n",
      "└ @ AdvancedHMC D:\\.julia\\packages\\AdvancedHMC\\51xgc\\src\\hamiltonian.jl:47\n",
      "┌ Warning: The current proposal will be rejected due to numerical error(s).\n",
      "│   isfinite.((θ, r, ℓπ, ℓκ)) = (true, false, false, false)\n",
      "└ @ AdvancedHMC D:\\.julia\\packages\\AdvancedHMC\\51xgc\\src\\hamiltonian.jl:47\n",
      "┌ Warning: The current proposal will be rejected due to numerical error(s).\n",
      "│   isfinite.((θ, r, ℓπ, ℓκ)) = (true, false, false, false)\n",
      "└ @ AdvancedHMC D:\\.julia\\packages\\AdvancedHMC\\51xgc\\src\\hamiltonian.jl:47\n",
      "┌ Warning: The current proposal will be rejected due to numerical error(s).\n",
      "│   isfinite.((θ, r, ℓπ, ℓκ)) = (true, false, false, false)\n",
      "└ @ AdvancedHMC D:\\.julia\\packages\\AdvancedHMC\\51xgc\\src\\hamiltonian.jl:47\n",
      "┌ Warning: The current proposal will be rejected due to numerical error(s).\n",
      "│   isfinite.((θ, r, ℓπ, ℓκ)) = (true, false, false, false)\n",
      "└ @ AdvancedHMC D:\\.julia\\packages\\AdvancedHMC\\51xgc\\src\\hamiltonian.jl:47\n",
      "┌ Warning: The current proposal will be rejected due to numerical error(s).\n",
      "│   isfinite.((θ, r, ℓπ, ℓκ)) = (true, false, false, false)\n",
      "└ @ AdvancedHMC D:\\.julia\\packages\\AdvancedHMC\\51xgc\\src\\hamiltonian.jl:47\n",
      "┌ Warning: The current proposal will be rejected due to numerical error(s).\n",
      "│   isfinite.((θ, r, ℓπ, ℓκ)) = (true, false, false, false)\n",
      "└ @ AdvancedHMC D:\\.julia\\packages\\AdvancedHMC\\51xgc\\src\\hamiltonian.jl:47\n",
      "┌ Warning: The current proposal will be rejected due to numerical error(s).\n",
      "│   isfinite.((θ, r, ℓπ, ℓκ)) = (true, false, false, false)\n",
      "└ @ AdvancedHMC D:\\.julia\\packages\\AdvancedHMC\\51xgc\\src\\hamiltonian.jl:47\n",
      "┌ Warning: The current proposal will be rejected due to numerical error(s).\n",
      "│   isfinite.((θ, r, ℓπ, ℓκ)) = (true, false, false, false)\n",
      "└ @ AdvancedHMC D:\\.julia\\packages\\AdvancedHMC\\51xgc\\src\\hamiltonian.jl:47\n",
      "┌ Warning: The current proposal will be rejected due to numerical error(s).\n",
      "│   isfinite.((θ, r, ℓπ, ℓκ)) = (true, false, false, false)\n",
      "└ @ AdvancedHMC D:\\.julia\\packages\\AdvancedHMC\\51xgc\\src\\hamiltonian.jl:47\n",
      "┌ Warning: The current proposal will be rejected due to numerical error(s).\n",
      "│   isfinite.((θ, r, ℓπ, ℓκ)) = (true, false, false, false)\n",
      "└ @ AdvancedHMC D:\\.julia\\packages\\AdvancedHMC\\51xgc\\src\\hamiltonian.jl:47\n",
      "┌ Warning: The current proposal will be rejected due to numerical error(s).\n",
      "│   isfinite.((θ, r, ℓπ, ℓκ)) = (true, false, false, false)\n",
      "└ @ AdvancedHMC D:\\.julia\\packages\\AdvancedHMC\\51xgc\\src\\hamiltonian.jl:47\n",
      "┌ Warning: The current proposal will be rejected due to numerical error(s).\n",
      "│   isfinite.((θ, r, ℓπ, ℓκ)) = (true, false, false, false)\n",
      "└ @ AdvancedHMC D:\\.julia\\packages\\AdvancedHMC\\51xgc\\src\\hamiltonian.jl:47\n",
      "┌ Warning: The current proposal will be rejected due to numerical error(s).\n",
      "│   isfinite.((θ, r, ℓπ, ℓκ)) = (true, false, false, false)\n",
      "└ @ AdvancedHMC D:\\.julia\\packages\\AdvancedHMC\\51xgc\\src\\hamiltonian.jl:47\n",
      "┌ Warning: The current proposal will be rejected due to numerical error(s).\n",
      "│   isfinite.((θ, r, ℓπ, ℓκ)) = (true, false, false, false)\n",
      "└ @ AdvancedHMC D:\\.julia\\packages\\AdvancedHMC\\51xgc\\src\\hamiltonian.jl:47\n",
      "┌ Warning: The current proposal will be rejected due to numerical error(s).\n",
      "│   isfinite.((θ, r, ℓπ, ℓκ)) = (true, false, false, false)\n",
      "└ @ AdvancedHMC D:\\.julia\\packages\\AdvancedHMC\\51xgc\\src\\hamiltonian.jl:47\n",
      "┌ Warning: The current proposal will be rejected due to numerical error(s).\n",
      "│   isfinite.((θ, r, ℓπ, ℓκ)) = (true, false, false, false)\n",
      "└ @ AdvancedHMC D:\\.julia\\packages\\AdvancedHMC\\51xgc\\src\\hamiltonian.jl:47\n",
      "┌ Warning: The current proposal will be rejected due to numerical error(s).\n",
      "│   isfinite.((θ, r, ℓπ, ℓκ)) = (true, false, false, false)\n",
      "└ @ AdvancedHMC D:\\.julia\\packages\\AdvancedHMC\\51xgc\\src\\hamiltonian.jl:47\n",
      "┌ Warning: The current proposal will be rejected due to numerical error(s).\n",
      "│   isfinite.((θ, r, ℓπ, ℓκ)) = (true, false, false, false)\n",
      "└ @ AdvancedHMC D:\\.julia\\packages\\AdvancedHMC\\51xgc\\src\\hamiltonian.jl:47\n",
      "┌ Warning: The current proposal will be rejected due to numerical error(s).\n",
      "│   isfinite.((θ, r, ℓπ, ℓκ)) = (true, false, false, false)\n",
      "└ @ AdvancedHMC D:\\.julia\\packages\\AdvancedHMC\\51xgc\\src\\hamiltonian.jl:47\n",
      "┌ Warning: The current proposal will be rejected due to numerical error(s).\n",
      "│   isfinite.((θ, r, ℓπ, ℓκ)) = (true, false, false, false)\n",
      "└ @ AdvancedHMC D:\\.julia\\packages\\AdvancedHMC\\51xgc\\src\\hamiltonian.jl:47\n",
      "┌ Warning: The current proposal will be rejected due to numerical error(s).\n",
      "│   isfinite.((θ, r, ℓπ, ℓκ)) = (true, false, false, false)\n",
      "└ @ AdvancedHMC D:\\.julia\\packages\\AdvancedHMC\\51xgc\\src\\hamiltonian.jl:47\n",
      "┌ Warning: The current proposal will be rejected due to numerical error(s).\n",
      "│   isfinite.((θ, r, ℓπ, ℓκ)) = (true, false, false, false)\n",
      "└ @ AdvancedHMC D:\\.julia\\packages\\AdvancedHMC\\51xgc\\src\\hamiltonian.jl:47\n",
      "┌ Warning: The current proposal will be rejected due to numerical error(s).\n",
      "│   isfinite.((θ, r, ℓπ, ℓκ)) = (true, false, false, false)\n",
      "└ @ AdvancedHMC D:\\.julia\\packages\\AdvancedHMC\\51xgc\\src\\hamiltonian.jl:47\n",
      "┌ Warning: The current proposal will be rejected due to numerical error(s).\n",
      "│   isfinite.((θ, r, ℓπ, ℓκ)) = (true, false, false, false)\n",
      "└ @ AdvancedHMC D:\\.julia\\packages\\AdvancedHMC\\51xgc\\src\\hamiltonian.jl:47\n",
      "┌ Warning: The current proposal will be rejected due to numerical error(s).\n",
      "│   isfinite.((θ, r, ℓπ, ℓκ)) = (true, false, false, false)\n",
      "└ @ AdvancedHMC D:\\.julia\\packages\\AdvancedHMC\\51xgc\\src\\hamiltonian.jl:47\n",
      "┌ Warning: The current proposal will be rejected due to numerical error(s).\n",
      "│   isfinite.((θ, r, ℓπ, ℓκ)) = (true, false, false, false)\n",
      "└ @ AdvancedHMC D:\\.julia\\packages\\AdvancedHMC\\51xgc\\src\\hamiltonian.jl:47\n",
      "┌ Warning: The current proposal will be rejected due to numerical error(s).\n",
      "│   isfinite.((θ, r, ℓπ, ℓκ)) = (true, false, false, false)\n",
      "└ @ AdvancedHMC D:\\.julia\\packages\\AdvancedHMC\\51xgc\\src\\hamiltonian.jl:47\n",
      "┌ Warning: The current proposal will be rejected due to numerical error(s).\n",
      "│   isfinite.((θ, r, ℓπ, ℓκ)) = (true, false, false, false)\n",
      "└ @ AdvancedHMC D:\\.julia\\packages\\AdvancedHMC\\51xgc\\src\\hamiltonian.jl:47\n",
      "┌ Warning: The current proposal will be rejected due to numerical error(s).\n",
      "│   isfinite.((θ, r, ℓπ, ℓκ)) = (true, false, false, false)\n",
      "└ @ AdvancedHMC D:\\.julia\\packages\\AdvancedHMC\\51xgc\\src\\hamiltonian.jl:47\n",
      "┌ Warning: The current proposal will be rejected due to numerical error(s).\n",
      "│   isfinite.((θ, r, ℓπ, ℓκ)) = (true, false, false, false)\n",
      "└ @ AdvancedHMC D:\\.julia\\packages\\AdvancedHMC\\51xgc\\src\\hamiltonian.jl:47\n",
      "┌ Warning: The current proposal will be rejected due to numerical error(s).\n",
      "│   isfinite.((θ, r, ℓπ, ℓκ)) = (true, false, false, false)\n",
      "└ @ AdvancedHMC D:\\.julia\\packages\\AdvancedHMC\\51xgc\\src\\hamiltonian.jl:47\n",
      "┌ Warning: The current proposal will be rejected due to numerical error(s).\n",
      "│   isfinite.((θ, r, ℓπ, ℓκ)) = (true, false, false, false)\n",
      "└ @ AdvancedHMC D:\\.julia\\packages\\AdvancedHMC\\51xgc\\src\\hamiltonian.jl:47\n",
      "┌ Warning: The current proposal will be rejected due to numerical error(s).\n",
      "│   isfinite.((θ, r, ℓπ, ℓκ)) = (true, false, false, false)\n",
      "└ @ AdvancedHMC D:\\.julia\\packages\\AdvancedHMC\\51xgc\\src\\hamiltonian.jl:47\n",
      "┌ Warning: The current proposal will be rejected due to numerical error(s).\n",
      "│   isfinite.((θ, r, ℓπ, ℓκ)) = (true, false, false, false)\n",
      "└ @ AdvancedHMC D:\\.julia\\packages\\AdvancedHMC\\51xgc\\src\\hamiltonian.jl:47\n",
      "┌ Warning: The current proposal will be rejected due to numerical error(s).\n",
      "│   isfinite.((θ, r, ℓπ, ℓκ)) = (true, false, false, false)\n",
      "└ @ AdvancedHMC D:\\.julia\\packages\\AdvancedHMC\\51xgc\\src\\hamiltonian.jl:47\n",
      "┌ Warning: The current proposal will be rejected due to numerical error(s).\n",
      "│   isfinite.((θ, r, ℓπ, ℓκ)) = (true, false, false, false)\n",
      "└ @ AdvancedHMC D:\\.julia\\packages\\AdvancedHMC\\51xgc\\src\\hamiltonian.jl:47\n",
      "┌ Warning: The current proposal will be rejected due to numerical error(s).\n",
      "│   isfinite.((θ, r, ℓπ, ℓκ)) = (true, false, false, false)\n",
      "└ @ AdvancedHMC D:\\.julia\\packages\\AdvancedHMC\\51xgc\\src\\hamiltonian.jl:47\n",
      "┌ Warning: The current proposal will be rejected due to numerical error(s).\n",
      "│   isfinite.((θ, r, ℓπ, ℓκ)) = (true, false, false, false)\n",
      "└ @ AdvancedHMC D:\\.julia\\packages\\AdvancedHMC\\51xgc\\src\\hamiltonian.jl:47\n",
      "┌ Warning: The current proposal will be rejected due to numerical error(s).\n",
      "│   isfinite.((θ, r, ℓπ, ℓκ)) = (true, false, false, false)\n",
      "└ @ AdvancedHMC D:\\.julia\\packages\\AdvancedHMC\\51xgc\\src\\hamiltonian.jl:47\n",
      "┌ Info: Found initial step size\n",
      "│   ϵ = 0.0001953125\n",
      "└ @ Turing.Inference D:\\.julia\\packages\\Turing\\szPqN\\src\\inference\\hmc.jl:191\n",
      "┌ Info: Found initial step size\n",
      "│   ϵ = 0.0001953125\n",
      "└ @ Turing.Inference D:\\.julia\\packages\\Turing\\szPqN\\src\\inference\\hmc.jl:191\n",
      "┌ Warning: The current proposal will be rejected due to numerical error(s).\n",
      "│   isfinite.((θ, r, ℓπ, ℓκ)) = (true, false, false, false)\n",
      "└ @ AdvancedHMC D:\\.julia\\packages\\AdvancedHMC\\51xgc\\src\\hamiltonian.jl:47\n",
      "┌ Warning: The current proposal will be rejected due to numerical error(s).\n",
      "│   isfinite.((θ, r, ℓπ, ℓκ)) = (true, false, false, false)\n",
      "└ @ AdvancedHMC D:\\.julia\\packages\\AdvancedHMC\\51xgc\\src\\hamiltonian.jl:47\n",
      "┌ Info: Found initial step size\n",
      "│   ϵ = 0.0001953125\n",
      "└ @ Turing.Inference D:\\.julia\\packages\\Turing\\szPqN\\src\\inference\\hmc.jl:191\n",
      "┌ Warning: The current proposal will be rejected due to numerical error(s).\n",
      "│   isfinite.((θ, r, ℓπ, ℓκ)) = (true, false, false, false)\n",
      "└ @ AdvancedHMC D:\\.julia\\packages\\AdvancedHMC\\51xgc\\src\\hamiltonian.jl:47\n",
      "┌ Info: Found initial step size\n",
      "│   ϵ = 0.000390625\n",
      "└ @ Turing.Inference D:\\.julia\\packages\\Turing\\szPqN\\src\\inference\\hmc.jl:191\n",
      "┌ Warning: The current proposal will be rejected due to numerical error(s).\n",
      "│   isfinite.((θ, r, ℓπ, ℓκ)) = (true, false, false, false)\n",
      "└ @ AdvancedHMC D:\\.julia\\packages\\AdvancedHMC\\51xgc\\src\\hamiltonian.jl:47\n"
     ]
    },
    {
     "name": "stderr",
     "output_type": "stream",
     "text": [
      "┌ Warning: The current proposal will be rejected due to numerical error(s).\n",
      "│   isfinite.((θ, r, ℓπ, ℓκ)) = (true, false, false, false)\n",
      "└ @ AdvancedHMC D:\\.julia\\packages\\AdvancedHMC\\51xgc\\src\\hamiltonian.jl:47\n",
      "┌ Warning: The current proposal will be rejected due to numerical error(s).\n",
      "│   isfinite.((θ, r, ℓπ, ℓκ)) = (true, false, false, false)\n",
      "└ @ AdvancedHMC D:\\.julia\\packages\\AdvancedHMC\\51xgc\\src\\hamiltonian.jl:47\n",
      "┌ Warning: The current proposal will be rejected due to numerical error(s).\n",
      "│   isfinite.((θ, r, ℓπ, ℓκ)) = (true, false, false, false)\n",
      "└ @ AdvancedHMC D:\\.julia\\packages\\AdvancedHMC\\51xgc\\src\\hamiltonian.jl:47\n",
      "┌ Warning: The current proposal will be rejected due to numerical error(s).\n",
      "│   isfinite.((θ, r, ℓπ, ℓκ)) = (true, false, false, false)\n",
      "└ @ AdvancedHMC D:\\.julia\\packages\\AdvancedHMC\\51xgc\\src\\hamiltonian.jl:47\n",
      "┌ Info: Found initial step size\n",
      "│   ϵ = 0.0001953125\n",
      "└ @ Turing.Inference D:\\.julia\\packages\\Turing\\szPqN\\src\\inference\\hmc.jl:191\n",
      "┌ Warning: The current proposal will be rejected due to numerical error(s).\n",
      "│   isfinite.((θ, r, ℓπ, ℓκ)) = (true, false, false, false)\n",
      "└ @ AdvancedHMC D:\\.julia\\packages\\AdvancedHMC\\51xgc\\src\\hamiltonian.jl:47\n",
      "┌ Warning: The current proposal will be rejected due to numerical error(s).\n",
      "│   isfinite.((θ, r, ℓπ, ℓκ)) = (true, false, false, false)\n",
      "└ @ AdvancedHMC D:\\.julia\\packages\\AdvancedHMC\\51xgc\\src\\hamiltonian.jl:47\n",
      "┌ Info: Found initial step size\n",
      "│   ϵ = 9.765625e-5\n",
      "└ @ Turing.Inference D:\\.julia\\packages\\Turing\\szPqN\\src\\inference\\hmc.jl:191\n",
      "┌ Info: Found initial step size\n",
      "│   ϵ = 9.765625e-5\n",
      "└ @ Turing.Inference D:\\.julia\\packages\\Turing\\szPqN\\src\\inference\\hmc.jl:191\n",
      "┌ Info: Found initial step size\n",
      "│   ϵ = 4.8828125e-5\n",
      "└ @ Turing.Inference D:\\.julia\\packages\\Turing\\szPqN\\src\\inference\\hmc.jl:191\n",
      "┌ Info: Found initial step size\n",
      "│   ϵ = 4.8828125e-5\n",
      "└ @ Turing.Inference D:\\.julia\\packages\\Turing\\szPqN\\src\\inference\\hmc.jl:191\n",
      "┌ Info: Found initial step size\n",
      "│   ϵ = 4.8828125e-5\n",
      "└ @ Turing.Inference D:\\.julia\\packages\\Turing\\szPqN\\src\\inference\\hmc.jl:191\n",
      "\u001b[32mSampling (10 threads): 100%|████████████████████████████| Time: 0:00:02\u001b[39m\n"
     ]
    }
   ],
   "source": [
    "L = 10^5\n",
    "n_threads = min(Threads.nthreads(), 10)\n",
    "chn = sample(normaldistmodel_adaptive(y), NUTS(), MCMCThreads(), L, n_threads);"
   ]
  },
  {
   "cell_type": "code",
   "execution_count": 50,
   "id": "6de89d53",
   "metadata": {},
   "outputs": [
    {
     "data": {
      "text/plain": [
       "Chains MCMC chain (100000×14×10 Array{Float64, 3}):\n",
       "\n",
       "Iterations        = 1001:1:101000\n",
       "Number of chains  = 10\n",
       "Samples per chain = 100000\n",
       "Wall duration     = 24.5 seconds\n",
       "Compute duration  = 197.43 seconds\n",
       "parameters        = σ², μ\n",
       "internals         = lp, n_steps, is_accept, acceptance_rate, log_density, hamiltonian_energy, hamiltonian_energy_error, max_hamiltonian_energy_error, tree_depth, numerical_error, step_size, nom_step_size\n",
       "\n",
       "Summary Statistics\n",
       " \u001b[1m parameters \u001b[0m \u001b[1m       mean \u001b[0m \u001b[1m      std \u001b[0m \u001b[1m naive_se \u001b[0m \u001b[1m    mcse \u001b[0m \u001b[1m         ess \u001b[0m \u001b[1m    rhat \u001b[0m \u001b[1m ess_per_sec \u001b[0m\n",
       " \u001b[90m     Symbol \u001b[0m \u001b[90m    Float64 \u001b[0m \u001b[90m  Float64 \u001b[0m \u001b[90m  Float64 \u001b[0m \u001b[90m Float64 \u001b[0m \u001b[90m     Float64 \u001b[0m \u001b[90m Float64 \u001b[0m \u001b[90m     Float64 \u001b[0m\n",
       "\n",
       "          σ²     171.9107   100.4374     0.1004    0.1412   504873.4560    1.0000     2557.2147\n",
       "           μ   10008.3419     5.6399     0.0056    0.0073   635491.9149    1.0000     3218.8051\n",
       "\n",
       "Quantiles\n",
       " \u001b[1m parameters \u001b[0m \u001b[1m      2.5% \u001b[0m \u001b[1m      25.0% \u001b[0m \u001b[1m      50.0% \u001b[0m \u001b[1m      75.0% \u001b[0m \u001b[1m      97.5% \u001b[0m\n",
       " \u001b[90m     Symbol \u001b[0m \u001b[90m   Float64 \u001b[0m \u001b[90m    Float64 \u001b[0m \u001b[90m    Float64 \u001b[0m \u001b[90m    Float64 \u001b[0m \u001b[90m    Float64 \u001b[0m\n",
       "\n",
       "          σ²     66.4596     108.8723     146.7872     204.2502     427.2786\n",
       "           μ   9997.0848   10004.8203   10008.3417   10011.8590   10019.5846\n"
      ]
     },
     "execution_count": 50,
     "metadata": {},
     "output_type": "execute_result"
    }
   ],
   "source": [
    "chn"
   ]
  },
  {
   "cell_type": "code",
   "execution_count": 51,
   "id": "9ccb4027",
   "metadata": {},
   "outputs": [
    {
     "name": "stdout",
     "output_type": "stream",
     "text": [
      "confint_ttest(y) = [9990.12860088699, 10026.550475313685]\n"
     ]
    }
   ],
   "source": [
    "@show confint_ttest(y);"
   ]
  },
  {
   "cell_type": "code",
   "execution_count": 52,
   "id": "6d7ea260",
   "metadata": {
    "scrolled": false
   },
   "outputs": [
    {
     "data": {
      "image/png": "[encoded data removed]"
     },
     "execution_count": 52,
     "metadata": {},
     "output_type": "execute_result"
    }
   ],
   "source": [
    "postμ_theoretical = posterior_μ(posterior_adaptive(y)...)\n",
    "plot_posterior_μ(chn, y, postμ_theoretical)"
   ]
  },
  {
   "cell_type": "code",
   "execution_count": 53,
   "id": "6a4eb6cc",
   "metadata": {},
   "outputs": [
    {
     "data": {
      "image/png": "[encoded data removed]"
     },
     "execution_count": 53,
     "metadata": {},
     "output_type": "execute_result"
    }
   ],
   "source": [
    "pred_theoretical = preddist(posterior_adaptive(y)...)\n",
    "plot_preddist(chn, y, pred_theoretical)"
   ]
  },
  {
   "cell_type": "markdown",
   "id": "c15c1054",
   "metadata": {},
   "source": [
    "以上のように $n=5$ の場合には, 適応事前分布の場合の結果は無情報事前分布の場合の結果(緑のdashdotライン)とかなり違う."
   ]
  },
  {
   "cell_type": "markdown",
   "id": "11b2c318",
   "metadata": {},
   "source": [
    "### n = 20 ではデフォルト事前分布の場合と無情報事前分布の場合の結果が近付く."
   ]
  },
  {
   "cell_type": "code",
   "execution_count": 54,
   "id": "d5064c60",
   "metadata": {},
   "outputs": [
    {
     "name": "stdout",
     "output_type": "stream",
     "text": [
      "dist_true = Normal(μ_true, σ_true) = Normal{Float64}(μ=10000.0, σ=100.0)\n",
      "n = 20\n"
     ]
    }
   ],
   "source": [
    "μ_true, σ_true, n = 1e4, 1e2, 20\n",
    "@show dist_true = Normal(μ_true, σ_true) n\n",
    "y = rand(dist_true, n);"
   ]
  },
  {
   "cell_type": "code",
   "execution_count": 55,
   "id": "530de503",
   "metadata": {},
   "outputs": [
    {
     "name": "stderr",
     "output_type": "stream",
     "text": [
      "┌ Warning: The current proposal will be rejected due to numerical error(s).\n",
      "│   isfinite.((θ, r, ℓπ, ℓκ)) = (true, false, false, false)\n",
      "└ @ AdvancedHMC D:\\.julia\\packages\\AdvancedHMC\\51xgc\\src\\hamiltonian.jl:47\n",
      "┌ Warning: The current proposal will be rejected due to numerical error(s).\n",
      "│   isfinite.((θ, r, ℓπ, ℓκ)) = (true, false, false, false)\n",
      "└ @ AdvancedHMC D:\\.julia\\packages\\AdvancedHMC\\51xgc\\src\\hamiltonian.jl:47\n",
      "┌ Warning: The current proposal will be rejected due to numerical error(s).\n",
      "│   isfinite.((θ, r, ℓπ, ℓκ)) = (true, false, false, false)\n",
      "└ @ AdvancedHMC D:\\.julia\\packages\\AdvancedHMC\\51xgc\\src\\hamiltonian.jl:47\n",
      "┌ Warning: The current proposal will be rejected due to numerical error(s).\n",
      "│   isfinite.((θ, r, ℓπ, ℓκ)) = (true, false, false, false)\n",
      "└ @ AdvancedHMC D:\\.julia\\packages\\AdvancedHMC\\51xgc\\src\\hamiltonian.jl:47\n",
      "┌ Warning: The current proposal will be rejected due to numerical error(s).\n",
      "│   isfinite.((θ, r, ℓπ, ℓκ)) = (true, false, false, false)\n",
      "└ @ AdvancedHMC D:\\.julia\\packages\\AdvancedHMC\\51xgc\\src\\hamiltonian.jl:47\n",
      "┌ Warning: The current proposal will be rejected due to numerical error(s).\n",
      "│   isfinite.((θ, r, ℓπ, ℓκ)) = (true, false, false, false)\n",
      "└ @ AdvancedHMC D:\\.julia\\packages\\AdvancedHMC\\51xgc\\src\\hamiltonian.jl:47\n",
      "┌ Warning: The current proposal will be rejected due to numerical error(s).\n",
      "│   isfinite.((θ, r, ℓπ, ℓκ)) = (true, false, false, false)\n",
      "└ @ AdvancedHMC D:\\.julia\\packages\\AdvancedHMC\\51xgc\\src\\hamiltonian.jl:47\n",
      "┌ Warning: The current proposal will be rejected due to numerical error(s).\n",
      "│   isfinite.((θ, r, ℓπ, ℓκ)) = (true, false, false, false)\n",
      "└ @ AdvancedHMC D:\\.julia\\packages\\AdvancedHMC\\51xgc\\src\\hamiltonian.jl:47\n",
      "┌ Warning: The current proposal will be rejected due to numerical error(s).\n",
      "│   isfinite.((θ, r, ℓπ, ℓκ)) = (true, false, false, false)\n",
      "└ @ AdvancedHMC D:\\.julia\\packages\\AdvancedHMC\\51xgc\\src\\hamiltonian.jl:47\n",
      "┌ Warning: The current proposal will be rejected due to numerical error(s).\n",
      "│   isfinite.((θ, r, ℓπ, ℓκ)) = (true, false, false, false)\n",
      "└ @ AdvancedHMC D:\\.julia\\packages\\AdvancedHMC\\51xgc\\src\\hamiltonian.jl:47\n",
      "┌ Warning: The current proposal will be rejected due to numerical error(s).\n",
      "│   isfinite.((θ, r, ℓπ, ℓκ)) = (true, false, false, false)\n",
      "└ @ AdvancedHMC D:\\.julia\\packages\\AdvancedHMC\\51xgc\\src\\hamiltonian.jl:47\n",
      "┌ Warning: The current proposal will be rejected due to numerical error(s).\n",
      "│   isfinite.((θ, r, ℓπ, ℓκ)) = (true, false, false, false)\n",
      "└ @ AdvancedHMC D:\\.julia\\packages\\AdvancedHMC\\51xgc\\src\\hamiltonian.jl:47\n",
      "┌ Warning: The current proposal will be rejected due to numerical error(s).\n",
      "│   isfinite.((θ, r, ℓπ, ℓκ)) = (true, false, false, false)\n",
      "└ @ AdvancedHMC D:\\.julia\\packages\\AdvancedHMC\\51xgc\\src\\hamiltonian.jl:47\n",
      "┌ Warning: The current proposal will be rejected due to numerical error(s).\n",
      "│   isfinite.((θ, r, ℓπ, ℓκ)) = (true, false, false, false)\n",
      "└ @ AdvancedHMC D:\\.julia\\packages\\AdvancedHMC\\51xgc\\src\\hamiltonian.jl:47\n",
      "┌ Warning: The current proposal will be rejected due to numerical error(s).\n",
      "│   isfinite.((θ, r, ℓπ, ℓκ)) = (true, false, false, false)\n",
      "└ @ AdvancedHMC D:\\.julia\\packages\\AdvancedHMC\\51xgc\\src\\hamiltonian.jl:47\n",
      "┌ Warning: The current proposal will be rejected due to numerical error(s).\n",
      "│   isfinite.((θ, r, ℓπ, ℓκ)) = (true, false, false, false)\n",
      "└ @ AdvancedHMC D:\\.julia\\packages\\AdvancedHMC\\51xgc\\src\\hamiltonian.jl:47\n",
      "┌ Warning: The current proposal will be rejected due to numerical error(s).\n",
      "│   isfinite.((θ, r, ℓπ, ℓκ)) = (true, false, false, false)\n",
      "└ @ AdvancedHMC D:\\.julia\\packages\\AdvancedHMC\\51xgc\\src\\hamiltonian.jl:47\n",
      "┌ Warning: The current proposal will be rejected due to numerical error(s).\n",
      "│   isfinite.((θ, r, ℓπ, ℓκ)) = (true, false, false, false)\n",
      "└ @ AdvancedHMC D:\\.julia\\packages\\AdvancedHMC\\51xgc\\src\\hamiltonian.jl:47\n",
      "┌ Warning: The current proposal will be rejected due to numerical error(s).\n",
      "│   isfinite.((θ, r, ℓπ, ℓκ)) = (true, false, false, false)\n",
      "└ @ AdvancedHMC D:\\.julia\\packages\\AdvancedHMC\\51xgc\\src\\hamiltonian.jl:47\n",
      "┌ Warning: The current proposal will be rejected due to numerical error(s).\n",
      "│   isfinite.((θ, r, ℓπ, ℓκ)) = (true, false, false, false)\n",
      "└ @ AdvancedHMC D:\\.julia\\packages\\AdvancedHMC\\51xgc\\src\\hamiltonian.jl:47\n",
      "┌ Warning: The current proposal will be rejected due to numerical error(s).\n",
      "│   isfinite.((θ, r, ℓπ, ℓκ)) = (true, false, false, false)\n",
      "└ @ AdvancedHMC D:\\.julia\\packages\\AdvancedHMC\\51xgc\\src\\hamiltonian.jl:47\n",
      "┌ Warning: The current proposal will be rejected due to numerical error(s).\n",
      "│   isfinite.((θ, r, ℓπ, ℓκ)) = (true, false, false, false)\n",
      "└ @ AdvancedHMC D:\\.julia\\packages\\AdvancedHMC\\51xgc\\src\\hamiltonian.jl:47\n",
      "┌ Warning: The current proposal will be rejected due to numerical error(s).\n",
      "│   isfinite.((θ, r, ℓπ, ℓκ)) = (true, false, false, false)\n",
      "└ @ AdvancedHMC D:\\.julia\\packages\\AdvancedHMC\\51xgc\\src\\hamiltonian.jl:47\n",
      "┌ Warning: The current proposal will be rejected due to numerical error(s).\n",
      "│   isfinite.((θ, r, ℓπ, ℓκ)) = (true, false, false, false)\n",
      "└ @ AdvancedHMC D:\\.julia\\packages\\AdvancedHMC\\51xgc\\src\\hamiltonian.jl:47\n",
      "┌ Warning: The current proposal will be rejected due to numerical error(s).\n",
      "│   isfinite.((θ, r, ℓπ, ℓκ)) = (true, false, false, false)\n",
      "└ @ AdvancedHMC D:\\.julia\\packages\\AdvancedHMC\\51xgc\\src\\hamiltonian.jl:47\n",
      "┌ Warning: The current proposal will be rejected due to numerical error(s).\n",
      "│   isfinite.((θ, r, ℓπ, ℓκ)) = (true, false, false, false)\n",
      "└ @ AdvancedHMC D:\\.julia\\packages\\AdvancedHMC\\51xgc\\src\\hamiltonian.jl:47\n",
      "┌ Warning: The current proposal will be rejected due to numerical error(s).\n",
      "│   isfinite.((θ, r, ℓπ, ℓκ)) = (true, false, false, false)\n",
      "└ @ AdvancedHMC D:\\.julia\\packages\\AdvancedHMC\\51xgc\\src\\hamiltonian.jl:47\n",
      "┌ Warning: The current proposal will be rejected due to numerical error(s).\n",
      "│   isfinite.((θ, r, ℓπ, ℓκ)) = (true, false, false, false)\n",
      "└ @ AdvancedHMC D:\\.julia\\packages\\AdvancedHMC\\51xgc\\src\\hamiltonian.jl:47\n",
      "┌ Warning: The current proposal will be rejected due to numerical error(s).\n",
      "│   isfinite.((θ, r, ℓπ, ℓκ)) = (true, false, false, false)\n",
      "└ @ AdvancedHMC D:\\.julia\\packages\\AdvancedHMC\\51xgc\\src\\hamiltonian.jl:47\n",
      "┌ Warning: The current proposal will be rejected due to numerical error(s).\n",
      "│   isfinite.((θ, r, ℓπ, ℓκ)) = (true, false, false, false)\n",
      "└ @ AdvancedHMC D:\\.julia\\packages\\AdvancedHMC\\51xgc\\src\\hamiltonian.jl:47\n",
      "┌ Warning: The current proposal will be rejected due to numerical error(s).\n",
      "│   isfinite.((θ, r, ℓπ, ℓκ)) = (true, false, false, false)\n",
      "└ @ AdvancedHMC D:\\.julia\\packages\\AdvancedHMC\\51xgc\\src\\hamiltonian.jl:47\n",
      "┌ Warning: The current proposal will be rejected due to numerical error(s).\n",
      "│   isfinite.((θ, r, ℓπ, ℓκ)) = (true, false, false, false)\n",
      "└ @ AdvancedHMC D:\\.julia\\packages\\AdvancedHMC\\51xgc\\src\\hamiltonian.jl:47\n",
      "┌ Warning: The current proposal will be rejected due to numerical error(s).\n",
      "│   isfinite.((θ, r, ℓπ, ℓκ)) = (true, false, false, false)\n",
      "└ @ AdvancedHMC D:\\.julia\\packages\\AdvancedHMC\\51xgc\\src\\hamiltonian.jl:47\n",
      "┌ Warning: The current proposal will be rejected due to numerical error(s).\n",
      "│   isfinite.((θ, r, ℓπ, ℓκ)) = (true, false, false, false)\n",
      "└ @ AdvancedHMC D:\\.julia\\packages\\AdvancedHMC\\51xgc\\src\\hamiltonian.jl:47\n",
      "┌ Warning: The current proposal will be rejected due to numerical error(s).\n",
      "│   isfinite.((θ, r, ℓπ, ℓκ)) = (true, false, false, false)\n",
      "└ @ AdvancedHMC D:\\.julia\\packages\\AdvancedHMC\\51xgc\\src\\hamiltonian.jl:47\n",
      "┌ Warning: The current proposal will be rejected due to numerical error(s).\n",
      "│   isfinite.((θ, r, ℓπ, ℓκ)) = (true, false, false, false)\n",
      "└ @ AdvancedHMC D:\\.julia\\packages\\AdvancedHMC\\51xgc\\src\\hamiltonian.jl:47\n",
      "┌ Warning: The current proposal will be rejected due to numerical error(s).\n",
      "│   isfinite.((θ, r, ℓπ, ℓκ)) = (true, false, false, false)\n",
      "└ @ AdvancedHMC D:\\.julia\\packages\\AdvancedHMC\\51xgc\\src\\hamiltonian.jl:47\n",
      "┌ Warning: The current proposal will be rejected due to numerical error(s).\n",
      "│   isfinite.((θ, r, ℓπ, ℓκ)) = (true, false, false, false)\n",
      "└ @ AdvancedHMC D:\\.julia\\packages\\AdvancedHMC\\51xgc\\src\\hamiltonian.jl:47\n",
      "┌ Warning: The current proposal will be rejected due to numerical error(s).\n",
      "│   isfinite.((θ, r, ℓπ, ℓκ)) = (true, false, false, false)\n",
      "└ @ AdvancedHMC D:\\.julia\\packages\\AdvancedHMC\\51xgc\\src\\hamiltonian.jl:47\n",
      "┌ Warning: The current proposal will be rejected due to numerical error(s).\n",
      "│   isfinite.((θ, r, ℓπ, ℓκ)) = (true, false, false, false)\n",
      "└ @ AdvancedHMC D:\\.julia\\packages\\AdvancedHMC\\51xgc\\src\\hamiltonian.jl:47\n",
      "┌ Warning: The current proposal will be rejected due to numerical error(s).\n",
      "│   isfinite.((θ, r, ℓπ, ℓκ)) = (true, false, false, false)\n",
      "└ @ AdvancedHMC D:\\.julia\\packages\\AdvancedHMC\\51xgc\\src\\hamiltonian.jl:47\n",
      "┌ Warning: The current proposal will be rejected due to numerical error(s).\n",
      "│   isfinite.((θ, r, ℓπ, ℓκ)) = (true, false, false, false)\n",
      "└ @ AdvancedHMC D:\\.julia\\packages\\AdvancedHMC\\51xgc\\src\\hamiltonian.jl:47\n",
      "┌ Warning: The current proposal will be rejected due to numerical error(s).\n",
      "│   isfinite.((θ, r, ℓπ, ℓκ)) = (true, false, false, false)\n",
      "└ @ AdvancedHMC D:\\.julia\\packages\\AdvancedHMC\\51xgc\\src\\hamiltonian.jl:47\n",
      "┌ Warning: The current proposal will be rejected due to numerical error(s).\n",
      "│   isfinite.((θ, r, ℓπ, ℓκ)) = (true, false, false, false)\n",
      "└ @ AdvancedHMC D:\\.julia\\packages\\AdvancedHMC\\51xgc\\src\\hamiltonian.jl:47\n",
      "┌ Warning: The current proposal will be rejected due to numerical error(s).\n",
      "│   isfinite.((θ, r, ℓπ, ℓκ)) = (true, false, false, false)\n",
      "└ @ AdvancedHMC D:\\.julia\\packages\\AdvancedHMC\\51xgc\\src\\hamiltonian.jl:47\n",
      "┌ Warning: The current proposal will be rejected due to numerical error(s).\n",
      "│   isfinite.((θ, r, ℓπ, ℓκ)) = (true, false, false, false)\n",
      "└ @ AdvancedHMC D:\\.julia\\packages\\AdvancedHMC\\51xgc\\src\\hamiltonian.jl:47\n",
      "┌ Warning: The current proposal will be rejected due to numerical error(s).\n",
      "│   isfinite.((θ, r, ℓπ, ℓκ)) = (true, false, false, false)\n",
      "└ @ AdvancedHMC D:\\.julia\\packages\\AdvancedHMC\\51xgc\\src\\hamiltonian.jl:47\n",
      "┌ Warning: The current proposal will be rejected due to numerical error(s).\n",
      "│   isfinite.((θ, r, ℓπ, ℓκ)) = (true, false, false, false)\n",
      "└ @ AdvancedHMC D:\\.julia\\packages\\AdvancedHMC\\51xgc\\src\\hamiltonian.jl:47\n",
      "┌ Warning: The current proposal will be rejected due to numerical error(s).\n",
      "│   isfinite.((θ, r, ℓπ, ℓκ)) = (true, false, false, false)\n",
      "└ @ AdvancedHMC D:\\.julia\\packages\\AdvancedHMC\\51xgc\\src\\hamiltonian.jl:47\n",
      "┌ Warning: The current proposal will be rejected due to numerical error(s).\n",
      "│   isfinite.((θ, r, ℓπ, ℓκ)) = (true, false, false, false)\n",
      "└ @ AdvancedHMC D:\\.julia\\packages\\AdvancedHMC\\51xgc\\src\\hamiltonian.jl:47\n",
      "┌ Warning: The current proposal will be rejected due to numerical error(s).\n",
      "│   isfinite.((θ, r, ℓπ, ℓκ)) = (true, false, false, false)\n",
      "└ @ AdvancedHMC D:\\.julia\\packages\\AdvancedHMC\\51xgc\\src\\hamiltonian.jl:47\n",
      "┌ Warning: The current proposal will be rejected due to numerical error(s).\n",
      "│   isfinite.((θ, r, ℓπ, ℓκ)) = (true, false, false, false)\n",
      "└ @ AdvancedHMC D:\\.julia\\packages\\AdvancedHMC\\51xgc\\src\\hamiltonian.jl:47\n",
      "┌ Warning: The current proposal will be rejected due to numerical error(s).\n",
      "│   isfinite.((θ, r, ℓπ, ℓκ)) = (true, false, false, false)\n",
      "└ @ AdvancedHMC D:\\.julia\\packages\\AdvancedHMC\\51xgc\\src\\hamiltonian.jl:47\n",
      "┌ Warning: The current proposal will be rejected due to numerical error(s).\n",
      "│   isfinite.((θ, r, ℓπ, ℓκ)) = (true, false, false, false)\n",
      "└ @ AdvancedHMC D:\\.julia\\packages\\AdvancedHMC\\51xgc\\src\\hamiltonian.jl:47\n",
      "┌ Warning: The current proposal will be rejected due to numerical error(s).\n",
      "│   isfinite.((θ, r, ℓπ, ℓκ)) = (true, false, false, false)\n",
      "└ @ AdvancedHMC D:\\.julia\\packages\\AdvancedHMC\\51xgc\\src\\hamiltonian.jl:47\n"
     ]
    },
    {
     "name": "stderr",
     "output_type": "stream",
     "text": [
      "┌ Warning: The current proposal will be rejected due to numerical error(s).\n",
      "│   isfinite.((θ, r, ℓπ, ℓκ)) = (true, false, false, false)\n",
      "└ @ AdvancedHMC D:\\.julia\\packages\\AdvancedHMC\\51xgc\\src\\hamiltonian.jl:47\n",
      "┌ Warning: The current proposal will be rejected due to numerical error(s).\n",
      "│   isfinite.((θ, r, ℓπ, ℓκ)) = (true, false, false, false)\n",
      "└ @ AdvancedHMC D:\\.julia\\packages\\AdvancedHMC\\51xgc\\src\\hamiltonian.jl:47\n",
      "┌ Warning: The current proposal will be rejected due to numerical error(s).\n",
      "│   isfinite.((θ, r, ℓπ, ℓκ)) = (true, false, false, false)\n",
      "└ @ AdvancedHMC D:\\.julia\\packages\\AdvancedHMC\\51xgc\\src\\hamiltonian.jl:47\n",
      "┌ Warning: The current proposal will be rejected due to numerical error(s).\n",
      "│   isfinite.((θ, r, ℓπ, ℓκ)) = (true, false, false, false)\n",
      "└ @ AdvancedHMC D:\\.julia\\packages\\AdvancedHMC\\51xgc\\src\\hamiltonian.jl:47\n",
      "┌ Warning: The current proposal will be rejected due to numerical error(s).\n",
      "│   isfinite.((θ, r, ℓπ, ℓκ)) = (true, false, false, false)\n",
      "└ @ AdvancedHMC D:\\.julia\\packages\\AdvancedHMC\\51xgc\\src\\hamiltonian.jl:47\n",
      "┌ Warning: The current proposal will be rejected due to numerical error(s).\n",
      "│   isfinite.((θ, r, ℓπ, ℓκ)) = (true, false, false, false)\n",
      "└ @ AdvancedHMC D:\\.julia\\packages\\AdvancedHMC\\51xgc\\src\\hamiltonian.jl:47\n",
      "┌ Warning: The current proposal will be rejected due to numerical error(s).\n",
      "│   isfinite.((θ, r, ℓπ, ℓκ)) = (true, false, false, false)\n",
      "└ @ AdvancedHMC D:\\.julia\\packages\\AdvancedHMC\\51xgc\\src\\hamiltonian.jl:47\n",
      "┌ Warning: The current proposal will be rejected due to numerical error(s).\n",
      "│   isfinite.((θ, r, ℓπ, ℓκ)) = (true, false, false, false)\n",
      "└ @ AdvancedHMC D:\\.julia\\packages\\AdvancedHMC\\51xgc\\src\\hamiltonian.jl:47\n",
      "┌ Warning: The current proposal will be rejected due to numerical error(s).\n",
      "│   isfinite.((θ, r, ℓπ, ℓκ)) = (true, false, false, false)\n",
      "└ @ AdvancedHMC D:\\.julia\\packages\\AdvancedHMC\\51xgc\\src\\hamiltonian.jl:47\n",
      "┌ Warning: The current proposal will be rejected due to numerical error(s).\n",
      "│   isfinite.((θ, r, ℓπ, ℓκ)) = (true, false, false, false)\n",
      "└ @ AdvancedHMC D:\\.julia\\packages\\AdvancedHMC\\51xgc\\src\\hamiltonian.jl:47\n",
      "┌ Warning: The current proposal will be rejected due to numerical error(s).\n",
      "│   isfinite.((θ, r, ℓπ, ℓκ)) = (true, false, false, false)\n",
      "└ @ AdvancedHMC D:\\.julia\\packages\\AdvancedHMC\\51xgc\\src\\hamiltonian.jl:47\n",
      "┌ Warning: The current proposal will be rejected due to numerical error(s).\n",
      "│   isfinite.((θ, r, ℓπ, ℓκ)) = (true, false, false, false)\n",
      "└ @ AdvancedHMC D:\\.julia\\packages\\AdvancedHMC\\51xgc\\src\\hamiltonian.jl:47\n",
      "┌ Warning: The current proposal will be rejected due to numerical error(s).\n",
      "│   isfinite.((θ, r, ℓπ, ℓκ)) = (true, false, false, false)\n",
      "└ @ AdvancedHMC D:\\.julia\\packages\\AdvancedHMC\\51xgc\\src\\hamiltonian.jl:47\n",
      "┌ Warning: The current proposal will be rejected due to numerical error(s).\n",
      "│   isfinite.((θ, r, ℓπ, ℓκ)) = (true, false, false, false)\n",
      "└ @ AdvancedHMC D:\\.julia\\packages\\AdvancedHMC\\51xgc\\src\\hamiltonian.jl:47\n",
      "┌ Warning: The current proposal will be rejected due to numerical error(s).\n",
      "│   isfinite.((θ, r, ℓπ, ℓκ)) = (true, false, false, false)\n",
      "└ @ AdvancedHMC D:\\.julia\\packages\\AdvancedHMC\\51xgc\\src\\hamiltonian.jl:47\n",
      "┌ Warning: The current proposal will be rejected due to numerical error(s).\n",
      "│   isfinite.((θ, r, ℓπ, ℓκ)) = (true, false, false, false)\n",
      "└ @ AdvancedHMC D:\\.julia\\packages\\AdvancedHMC\\51xgc\\src\\hamiltonian.jl:47\n",
      "┌ Warning: The current proposal will be rejected due to numerical error(s).\n",
      "│   isfinite.((θ, r, ℓπ, ℓκ)) = (true, false, false, false)\n",
      "└ @ AdvancedHMC D:\\.julia\\packages\\AdvancedHMC\\51xgc\\src\\hamiltonian.jl:47\n",
      "┌ Info: Found initial step size\n",
      "│   ϵ = 0.0001953125\n",
      "└ @ Turing.Inference D:\\.julia\\packages\\Turing\\szPqN\\src\\inference\\hmc.jl:191\n",
      "┌ Warning: The current proposal will be rejected due to numerical error(s).\n",
      "│   isfinite.((θ, r, ℓπ, ℓκ)) = (true, false, false, false)\n",
      "└ @ AdvancedHMC D:\\.julia\\packages\\AdvancedHMC\\51xgc\\src\\hamiltonian.jl:47\n",
      "┌ Warning: The current proposal will be rejected due to numerical error(s).\n",
      "│   isfinite.((θ, r, ℓπ, ℓκ)) = (true, false, false, false)\n",
      "└ @ AdvancedHMC D:\\.julia\\packages\\AdvancedHMC\\51xgc\\src\\hamiltonian.jl:47\n",
      "┌ Warning: The current proposal will be rejected due to numerical error(s).\n",
      "│   isfinite.((θ, r, ℓπ, ℓκ)) = (true, false, false, false)\n",
      "└ @ AdvancedHMC D:\\.julia\\packages\\AdvancedHMC\\51xgc\\src\\hamiltonian.jl:47\n",
      "┌ Info: Found initial step size\n",
      "│   ϵ = 9.765625e-5\n",
      "└ @ Turing.Inference D:\\.julia\\packages\\Turing\\szPqN\\src\\inference\\hmc.jl:191\n",
      "┌ Warning: The current proposal will be rejected due to numerical error(s).\n",
      "│   isfinite.((θ, r, ℓπ, ℓκ)) = (true, false, false, false)\n",
      "└ @ AdvancedHMC D:\\.julia\\packages\\AdvancedHMC\\51xgc\\src\\hamiltonian.jl:47\n",
      "┌ Warning: The current proposal will be rejected due to numerical error(s).\n",
      "│   isfinite.((θ, r, ℓπ, ℓκ)) = (true, false, false, false)\n",
      "└ @ AdvancedHMC D:\\.julia\\packages\\AdvancedHMC\\51xgc\\src\\hamiltonian.jl:47\n",
      "┌ Warning: The current proposal will be rejected due to numerical error(s).\n",
      "│   isfinite.((θ, r, ℓπ, ℓκ)) = (true, false, false, false)\n",
      "└ @ AdvancedHMC D:\\.julia\\packages\\AdvancedHMC\\51xgc\\src\\hamiltonian.jl:47\n",
      "┌ Warning: The current proposal will be rejected due to numerical error(s).\n",
      "│   isfinite.((θ, r, ℓπ, ℓκ)) = (true, false, false, false)\n",
      "└ @ AdvancedHMC D:\\.julia\\packages\\AdvancedHMC\\51xgc\\src\\hamiltonian.jl:47\n",
      "┌ Info: Found initial step size\n",
      "│   ϵ = 9.765625e-5\n",
      "└ @ Turing.Inference D:\\.julia\\packages\\Turing\\szPqN\\src\\inference\\hmc.jl:191\n",
      "┌ Info: Found initial step size\n",
      "│   ϵ = 4.8828125e-5\n",
      "└ @ Turing.Inference D:\\.julia\\packages\\Turing\\szPqN\\src\\inference\\hmc.jl:191\n",
      "┌ Info: Found initial step size\n",
      "│   ϵ = 4.8828125e-5\n",
      "└ @ Turing.Inference D:\\.julia\\packages\\Turing\\szPqN\\src\\inference\\hmc.jl:191\n",
      "┌ Info: Found initial step size\n",
      "│   ϵ = 4.8828125e-5\n",
      "└ @ Turing.Inference D:\\.julia\\packages\\Turing\\szPqN\\src\\inference\\hmc.jl:191\n",
      "┌ Info: Found initial step size\n",
      "│   ϵ = 2.44140625e-5\n",
      "└ @ Turing.Inference D:\\.julia\\packages\\Turing\\szPqN\\src\\inference\\hmc.jl:191\n",
      "┌ Info: Found initial step size\n",
      "│   ϵ = 4.8828125e-5\n",
      "└ @ Turing.Inference D:\\.julia\\packages\\Turing\\szPqN\\src\\inference\\hmc.jl:191\n",
      "┌ Info: Found initial step size\n",
      "│   ϵ = 4.8828125e-5\n",
      "└ @ Turing.Inference D:\\.julia\\packages\\Turing\\szPqN\\src\\inference\\hmc.jl:191\n",
      "┌ Info: Found initial step size\n",
      "│   ϵ = 4.8828125e-5\n",
      "└ @ Turing.Inference D:\\.julia\\packages\\Turing\\szPqN\\src\\inference\\hmc.jl:191\n",
      "\u001b[32mSampling (10 threads): 100%|████████████████████████████| Time: 0:00:00\u001b[39m\n"
     ]
    }
   ],
   "source": [
    "L = 10^5\n",
    "n_threads = min(Threads.nthreads(), 10)\n",
    "chn = sample(normaldistmodel_adaptive(y), NUTS(), MCMCThreads(), L, n_threads);"
   ]
  },
  {
   "cell_type": "code",
   "execution_count": 56,
   "id": "c811d297",
   "metadata": {},
   "outputs": [
    {
     "data": {
      "text/plain": [
       "Chains MCMC chain (100000×14×10 Array{Float64, 3}):\n",
       "\n",
       "Iterations        = 1001:1:101000\n",
       "Number of chains  = 10\n",
       "Samples per chain = 100000\n",
       "Wall duration     = 25.81 seconds\n",
       "Compute duration  = 253.98 seconds\n",
       "parameters        = σ², μ\n",
       "internals         = lp, n_steps, is_accept, acceptance_rate, log_density, hamiltonian_energy, hamiltonian_energy_error, max_hamiltonian_energy_error, tree_depth, numerical_error, step_size, nom_step_size\n",
       "\n",
       "Summary Statistics\n",
       " \u001b[1m parameters \u001b[0m \u001b[1m       mean \u001b[0m \u001b[1m       std \u001b[0m \u001b[1m naive_se \u001b[0m \u001b[1m    mcse \u001b[0m \u001b[1m         ess \u001b[0m \u001b[1m    rhat \u001b[0m \u001b[1m ess_per_sec \u001b[0m\n",
       " \u001b[90m     Symbol \u001b[0m \u001b[90m    Float64 \u001b[0m \u001b[90m   Float64 \u001b[0m \u001b[90m  Float64 \u001b[0m \u001b[90m Float64 \u001b[0m \u001b[90m     Float64 \u001b[0m \u001b[90m Float64 \u001b[0m \u001b[90m     Float64 \u001b[0m\n",
       "\n",
       "          σ²    9409.0830   2915.8128     2.9158    3.4177   721285.3637    1.0000     2839.8962\n",
       "           μ   10041.4784     21.4701     0.0215    0.0231   838486.6518    1.0000     3301.3495\n",
       "\n",
       "Quantiles\n",
       " \u001b[1m parameters \u001b[0m \u001b[1m      2.5% \u001b[0m \u001b[1m      25.0% \u001b[0m \u001b[1m      50.0% \u001b[0m \u001b[1m      75.0% \u001b[0m \u001b[1m      97.5% \u001b[0m\n",
       " \u001b[90m     Symbol \u001b[0m \u001b[90m   Float64 \u001b[0m \u001b[90m    Float64 \u001b[0m \u001b[90m    Float64 \u001b[0m \u001b[90m    Float64 \u001b[0m \u001b[90m    Float64 \u001b[0m\n",
       "\n",
       "          σ²   5312.3192    7367.9194    8886.3682   10861.4063   16505.4742\n",
       "           μ   9999.1423   10027.3843   10041.4429   10055.5680   10083.9317\n"
      ]
     },
     "execution_count": 56,
     "metadata": {},
     "output_type": "execute_result"
    }
   ],
   "source": [
    "chn"
   ]
  },
  {
   "cell_type": "code",
   "execution_count": 57,
   "id": "2639cd4a",
   "metadata": {
    "scrolled": true
   },
   "outputs": [
    {
     "name": "stdout",
     "output_type": "stream",
     "text": [
      "confint_ttest(y) = [9994.87632340346, 10088.031782529277]\n"
     ]
    }
   ],
   "source": [
    "@show confint_ttest(y);"
   ]
  },
  {
   "cell_type": "code",
   "execution_count": 58,
   "id": "a53328e1",
   "metadata": {
    "scrolled": false
   },
   "outputs": [
    {
     "data": {
      "image/png": "[encoded data removed]"
     },
     "execution_count": 58,
     "metadata": {},
     "output_type": "execute_result"
    }
   ],
   "source": [
    "postμ_theoretical = posterior_μ(posterior_adaptive(y)...)\n",
    "plot_posterior_μ(chn, y, postμ_theoretical)"
   ]
  },
  {
   "cell_type": "code",
   "execution_count": 59,
   "id": "0e1d1616",
   "metadata": {},
   "outputs": [
    {
     "data": {
      "image/png": "[encoded data removed]"
     },
     "execution_count": 59,
     "metadata": {},
     "output_type": "execute_result"
    }
   ],
   "source": [
    "pred_theoretical = preddist(posterior_adaptive(y)...)\n",
    "plot_preddist(chn, y, pred_theoretical)"
   ]
  },
  {
   "cell_type": "markdown",
   "id": "7faa9351",
   "metadata": {},
   "source": [
    "### n = 20 で事前分布とデータの数値の相性が悪い場合"
   ]
  },
  {
   "cell_type": "code",
   "execution_count": 60,
   "id": "85208a0d",
   "metadata": {},
   "outputs": [
    {
     "data": {
      "text/plain": [
       "normaldistmodel (generic function with 2 methods)"
      ]
     },
     "execution_count": 60,
     "metadata": {},
     "output_type": "execute_result"
    }
   ],
   "source": [
    "@model function normaldistmodel(y, μstar, vstar, κ, θ)\n",
    "    σ² ~ InverseGamma(κ, θ)\n",
    "    μ ~ Normal(μstar, √(vstar * σ²))\n",
    "    y ~ MvNormal(fill(μ, length(y)), σ²*I)\n",
    "end"
   ]
  },
  {
   "cell_type": "code",
   "execution_count": 61,
   "id": "ed660a76",
   "metadata": {},
   "outputs": [
    {
     "name": "stdout",
     "output_type": "stream",
     "text": [
      "μstar = 0.0\n",
      "vstar = 25.0\n",
      "κ = 2.04\n",
      "θ = 1.04\n",
      "\n",
      "Eμ = 0.0\n",
      "Ev = 1.0\n",
      "var_μ = 25.0\n",
      "var_v = 24.99999999999998\n"
     ]
    }
   ],
   "source": [
    "# 固定された事前分布の設定\n",
    "\n",
    "a, b = 5.0^2, 5.0^2\n",
    "μstar, vstar, κ, θ = 0.0, a, 2 + 1/b, 1 + 1/b\n",
    "@show μstar vstar κ θ\n",
    "println()\n",
    "\n",
    "Eμ, Ev = μstar, θ/(κ - 1)\n",
    "var_μ, var_v = vstar*Ev, Ev^2/(κ - 2)\n",
    "@show Eμ Ev var_μ var_v;"
   ]
  },
  {
   "cell_type": "markdown",
   "id": "7f4f55cc",
   "metadata": {},
   "source": [
    "以下では以上のようにして定めた事前分布を使う.\n",
    "\n",
    "この事前分布における $\\mu$ の平均と分散はそれぞれ $0$ と $5^2$ であり, $v=\\sigma^2$ の平均と分散はそれぞれ $1$ と $5^2$ である."
   ]
  },
  {
   "cell_type": "code",
   "execution_count": 62,
   "id": "e34d1b55",
   "metadata": {},
   "outputs": [
    {
     "name": "stdout",
     "output_type": "stream",
     "text": [
      "dist_true = Normal(μ_true, σ_true) = Normal{Float64}(μ=10000.0, σ=100.0)\n",
      "n = 20\n"
     ]
    }
   ],
   "source": [
    "μ_true, σ_true, n = 1e4, 1e2, 20\n",
    "@show dist_true = Normal(μ_true, σ_true) n\n",
    "y = rand(dist_true, n);"
   ]
  },
  {
   "cell_type": "markdown",
   "id": "69ad8060",
   "metadata": {},
   "source": [
    "平均と分散がそれぞれ $10000$, $100^2$ の正規分布でサイズ $20$ のサンプルを生成している.\n",
    "\n",
    "平均 $10000$ と分散 $100^2$ は上で定めた事前分布と極めて相性が悪い."
   ]
  },
  {
   "cell_type": "code",
   "execution_count": 63,
   "id": "6499a71b",
   "metadata": {},
   "outputs": [
    {
     "name": "stderr",
     "output_type": "stream",
     "text": [
      "┌ Warning: The current proposal will be rejected due to numerical error(s).\n",
      "│   isfinite.((θ, r, ℓπ, ℓκ)) = (true, false, false, false)\n",
      "└ @ AdvancedHMC D:\\.julia\\packages\\AdvancedHMC\\51xgc\\src\\hamiltonian.jl:47\n",
      "┌ Warning: The current proposal will be rejected due to numerical error(s).\n",
      "│   isfinite.((θ, r, ℓπ, ℓκ)) = (true, false, false, false)\n",
      "└ @ AdvancedHMC D:\\.julia\\packages\\AdvancedHMC\\51xgc\\src\\hamiltonian.jl:47\n",
      "┌ Warning: The current proposal will be rejected due to numerical error(s).\n",
      "│   isfinite.((θ, r, ℓπ, ℓκ)) = (true, false, false, false)\n",
      "└ @ AdvancedHMC D:\\.julia\\packages\\AdvancedHMC\\51xgc\\src\\hamiltonian.jl:47\n",
      "┌ Warning: The current proposal will be rejected due to numerical error(s).\n",
      "│   isfinite.((θ, r, ℓπ, ℓκ)) = (true, false, false, false)\n",
      "└ @ AdvancedHMC D:\\.julia\\packages\\AdvancedHMC\\51xgc\\src\\hamiltonian.jl:47\n",
      "┌ Warning: The current proposal will be rejected due to numerical error(s).\n",
      "│   isfinite.((θ, r, ℓπ, ℓκ)) = (true, false, false, false)\n",
      "└ @ AdvancedHMC D:\\.julia\\packages\\AdvancedHMC\\51xgc\\src\\hamiltonian.jl:47\n",
      "┌ Warning: The current proposal will be rejected due to numerical error(s).\n",
      "│   isfinite.((θ, r, ℓπ, ℓκ)) = (true, false, false, false)\n",
      "└ @ AdvancedHMC D:\\.julia\\packages\\AdvancedHMC\\51xgc\\src\\hamiltonian.jl:47\n",
      "┌ Warning: The current proposal will be rejected due to numerical error(s).\n",
      "│   isfinite.((θ, r, ℓπ, ℓκ)) = (true, false, false, false)\n",
      "└ @ AdvancedHMC D:\\.julia\\packages\\AdvancedHMC\\51xgc\\src\\hamiltonian.jl:47\n",
      "┌ Warning: The current proposal will be rejected due to numerical error(s).\n",
      "│   isfinite.((θ, r, ℓπ, ℓκ)) = (true, false, false, false)\n",
      "└ @ AdvancedHMC D:\\.julia\\packages\\AdvancedHMC\\51xgc\\src\\hamiltonian.jl:47\n",
      "┌ Warning: The current proposal will be rejected due to numerical error(s).\n",
      "│   isfinite.((θ, r, ℓπ, ℓκ)) = (true, false, false, false)\n",
      "└ @ AdvancedHMC D:\\.julia\\packages\\AdvancedHMC\\51xgc\\src\\hamiltonian.jl:47\n",
      "┌ Warning: The current proposal will be rejected due to numerical error(s).\n",
      "│   isfinite.((θ, r, ℓπ, ℓκ)) = (true, false, false, false)\n",
      "└ @ AdvancedHMC D:\\.julia\\packages\\AdvancedHMC\\51xgc\\src\\hamiltonian.jl:47\n",
      "┌ Warning: The current proposal will be rejected due to numerical error(s).\n",
      "│   isfinite.((θ, r, ℓπ, ℓκ)) = (true, false, false, false)\n",
      "└ @ AdvancedHMC D:\\.julia\\packages\\AdvancedHMC\\51xgc\\src\\hamiltonian.jl:47\n",
      "┌ Warning: The current proposal will be rejected due to numerical error(s).\n",
      "│   isfinite.((θ, r, ℓπ, ℓκ)) = (true, false, false, false)\n",
      "└ @ AdvancedHMC D:\\.julia\\packages\\AdvancedHMC\\51xgc\\src\\hamiltonian.jl:47\n",
      "┌ Warning: The current proposal will be rejected due to numerical error(s).\n",
      "│   isfinite.((θ, r, ℓπ, ℓκ)) = (true, false, false, false)\n",
      "└ @ AdvancedHMC D:\\.julia\\packages\\AdvancedHMC\\51xgc\\src\\hamiltonian.jl:47\n",
      "┌ Warning: The current proposal will be rejected due to numerical error(s).\n",
      "│   isfinite.((θ, r, ℓπ, ℓκ)) = (true, false, false, false)\n",
      "└ @ AdvancedHMC D:\\.julia\\packages\\AdvancedHMC\\51xgc\\src\\hamiltonian.jl:47\n",
      "┌ Warning: The current proposal will be rejected due to numerical error(s).\n",
      "│   isfinite.((θ, r, ℓπ, ℓκ)) = (true, false, false, false)\n",
      "└ @ AdvancedHMC D:\\.julia\\packages\\AdvancedHMC\\51xgc\\src\\hamiltonian.jl:47\n",
      "┌ Warning: The current proposal will be rejected due to numerical error(s).\n",
      "│   isfinite.((θ, r, ℓπ, ℓκ)) = (true, false, false, false)\n",
      "└ @ AdvancedHMC D:\\.julia\\packages\\AdvancedHMC\\51xgc\\src\\hamiltonian.jl:47\n",
      "┌ Warning: The current proposal will be rejected due to numerical error(s).\n",
      "│   isfinite.((θ, r, ℓπ, ℓκ)) = (true, false, false, false)\n",
      "└ @ AdvancedHMC D:\\.julia\\packages\\AdvancedHMC\\51xgc\\src\\hamiltonian.jl:47\n",
      "┌ Warning: The current proposal will be rejected due to numerical error(s).\n",
      "│   isfinite.((θ, r, ℓπ, ℓκ)) = (true, false, false, false)\n",
      "└ @ AdvancedHMC D:\\.julia\\packages\\AdvancedHMC\\51xgc\\src\\hamiltonian.jl:47\n",
      "┌ Warning: The current proposal will be rejected due to numerical error(s).\n",
      "│   isfinite.((θ, r, ℓπ, ℓκ)) = (true, false, false, false)\n",
      "└ @ AdvancedHMC D:\\.julia\\packages\\AdvancedHMC\\51xgc\\src\\hamiltonian.jl:47\n",
      "┌ Warning: The current proposal will be rejected due to numerical error(s).\n",
      "│   isfinite.((θ, r, ℓπ, ℓκ)) = (true, false, false, false)\n",
      "└ @ AdvancedHMC D:\\.julia\\packages\\AdvancedHMC\\51xgc\\src\\hamiltonian.jl:47\n",
      "┌ Warning: The current proposal will be rejected due to numerical error(s).\n",
      "│   isfinite.((θ, r, ℓπ, ℓκ)) = (true, false, false, false)\n",
      "└ @ AdvancedHMC D:\\.julia\\packages\\AdvancedHMC\\51xgc\\src\\hamiltonian.jl:47\n",
      "┌ Warning: The current proposal will be rejected due to numerical error(s).\n",
      "│   isfinite.((θ, r, ℓπ, ℓκ)) = (true, false, false, false)\n",
      "└ @ AdvancedHMC D:\\.julia\\packages\\AdvancedHMC\\51xgc\\src\\hamiltonian.jl:47\n",
      "┌ Warning: The current proposal will be rejected due to numerical error(s).\n",
      "│   isfinite.((θ, r, ℓπ, ℓκ)) = (true, false, false, false)\n",
      "└ @ AdvancedHMC D:\\.julia\\packages\\AdvancedHMC\\51xgc\\src\\hamiltonian.jl:47\n",
      "┌ Warning: The current proposal will be rejected due to numerical error(s).\n",
      "│   isfinite.((θ, r, ℓπ, ℓκ)) = (true, false, false, false)\n",
      "└ @ AdvancedHMC D:\\.julia\\packages\\AdvancedHMC\\51xgc\\src\\hamiltonian.jl:47\n",
      "┌ Warning: The current proposal will be rejected due to numerical error(s).\n",
      "│   isfinite.((θ, r, ℓπ, ℓκ)) = (true, false, false, false)\n",
      "└ @ AdvancedHMC D:\\.julia\\packages\\AdvancedHMC\\51xgc\\src\\hamiltonian.jl:47\n",
      "┌ Warning: The current proposal will be rejected due to numerical error(s).\n",
      "│   isfinite.((θ, r, ℓπ, ℓκ)) = (true, false, false, false)\n",
      "└ @ AdvancedHMC D:\\.julia\\packages\\AdvancedHMC\\51xgc\\src\\hamiltonian.jl:47\n",
      "┌ Warning: The current proposal will be rejected due to numerical error(s).\n",
      "│   isfinite.((θ, r, ℓπ, ℓκ)) = (true, false, false, false)\n",
      "└ @ AdvancedHMC D:\\.julia\\packages\\AdvancedHMC\\51xgc\\src\\hamiltonian.jl:47\n",
      "┌ Warning: The current proposal will be rejected due to numerical error(s).\n",
      "│   isfinite.((θ, r, ℓπ, ℓκ)) = (true, false, false, false)\n",
      "└ @ AdvancedHMC D:\\.julia\\packages\\AdvancedHMC\\51xgc\\src\\hamiltonian.jl:47\n",
      "┌ Warning: The current proposal will be rejected due to numerical error(s).\n",
      "│   isfinite.((θ, r, ℓπ, ℓκ)) = (true, false, false, false)\n",
      "└ @ AdvancedHMC D:\\.julia\\packages\\AdvancedHMC\\51xgc\\src\\hamiltonian.jl:47\n",
      "┌ Warning: The current proposal will be rejected due to numerical error(s).\n",
      "│   isfinite.((θ, r, ℓπ, ℓκ)) = (true, false, false, false)\n",
      "└ @ AdvancedHMC D:\\.julia\\packages\\AdvancedHMC\\51xgc\\src\\hamiltonian.jl:47\n",
      "┌ Warning: The current proposal will be rejected due to numerical error(s).\n",
      "│   isfinite.((θ, r, ℓπ, ℓκ)) = (true, false, false, false)\n",
      "└ @ AdvancedHMC D:\\.julia\\packages\\AdvancedHMC\\51xgc\\src\\hamiltonian.jl:47\n",
      "┌ Warning: The current proposal will be rejected due to numerical error(s).\n",
      "│   isfinite.((θ, r, ℓπ, ℓκ)) = (true, false, false, false)\n",
      "└ @ AdvancedHMC D:\\.julia\\packages\\AdvancedHMC\\51xgc\\src\\hamiltonian.jl:47\n",
      "┌ Warning: The current proposal will be rejected due to numerical error(s).\n",
      "│   isfinite.((θ, r, ℓπ, ℓκ)) = (true, false, false, false)\n",
      "└ @ AdvancedHMC D:\\.julia\\packages\\AdvancedHMC\\51xgc\\src\\hamiltonian.jl:47\n",
      "┌ Warning: The current proposal will be rejected due to numerical error(s).\n",
      "│   isfinite.((θ, r, ℓπ, ℓκ)) = (true, false, false, false)\n",
      "└ @ AdvancedHMC D:\\.julia\\packages\\AdvancedHMC\\51xgc\\src\\hamiltonian.jl:47\n",
      "┌ Warning: The current proposal will be rejected due to numerical error(s).\n",
      "│   isfinite.((θ, r, ℓπ, ℓκ)) = (true, false, false, false)\n",
      "└ @ AdvancedHMC D:\\.julia\\packages\\AdvancedHMC\\51xgc\\src\\hamiltonian.jl:47\n",
      "┌ Warning: The current proposal will be rejected due to numerical error(s).\n",
      "│   isfinite.((θ, r, ℓπ, ℓκ)) = (true, false, false, false)\n",
      "└ @ AdvancedHMC D:\\.julia\\packages\\AdvancedHMC\\51xgc\\src\\hamiltonian.jl:47\n",
      "┌ Warning: The current proposal will be rejected due to numerical error(s).\n",
      "│   isfinite.((θ, r, ℓπ, ℓκ)) = (true, false, false, false)\n",
      "└ @ AdvancedHMC D:\\.julia\\packages\\AdvancedHMC\\51xgc\\src\\hamiltonian.jl:47\n",
      "┌ Warning: The current proposal will be rejected due to numerical error(s).\n",
      "│   isfinite.((θ, r, ℓπ, ℓκ)) = (true, false, false, false)\n",
      "└ @ AdvancedHMC D:\\.julia\\packages\\AdvancedHMC\\51xgc\\src\\hamiltonian.jl:47\n",
      "┌ Warning: The current proposal will be rejected due to numerical error(s).\n",
      "│   isfinite.((θ, r, ℓπ, ℓκ)) = (true, false, false, false)\n",
      "└ @ AdvancedHMC D:\\.julia\\packages\\AdvancedHMC\\51xgc\\src\\hamiltonian.jl:47\n",
      "┌ Warning: The current proposal will be rejected due to numerical error(s).\n",
      "│   isfinite.((θ, r, ℓπ, ℓκ)) = (true, false, false, false)\n",
      "└ @ AdvancedHMC D:\\.julia\\packages\\AdvancedHMC\\51xgc\\src\\hamiltonian.jl:47\n",
      "┌ Warning: The current proposal will be rejected due to numerical error(s).\n",
      "│   isfinite.((θ, r, ℓπ, ℓκ)) = (true, false, false, false)\n",
      "└ @ AdvancedHMC D:\\.julia\\packages\\AdvancedHMC\\51xgc\\src\\hamiltonian.jl:47\n",
      "┌ Warning: The current proposal will be rejected due to numerical error(s).\n",
      "│   isfinite.((θ, r, ℓπ, ℓκ)) = (true, false, false, false)\n",
      "└ @ AdvancedHMC D:\\.julia\\packages\\AdvancedHMC\\51xgc\\src\\hamiltonian.jl:47\n",
      "┌ Warning: The current proposal will be rejected due to numerical error(s).\n",
      "│   isfinite.((θ, r, ℓπ, ℓκ)) = (true, false, false, false)\n",
      "└ @ AdvancedHMC D:\\.julia\\packages\\AdvancedHMC\\51xgc\\src\\hamiltonian.jl:47\n",
      "┌ Warning: The current proposal will be rejected due to numerical error(s).\n",
      "│   isfinite.((θ, r, ℓπ, ℓκ)) = (true, false, false, false)\n",
      "└ @ AdvancedHMC D:\\.julia\\packages\\AdvancedHMC\\51xgc\\src\\hamiltonian.jl:47\n",
      "┌ Warning: The current proposal will be rejected due to numerical error(s).\n",
      "│   isfinite.((θ, r, ℓπ, ℓκ)) = (true, false, false, false)\n",
      "└ @ AdvancedHMC D:\\.julia\\packages\\AdvancedHMC\\51xgc\\src\\hamiltonian.jl:47\n",
      "┌ Warning: The current proposal will be rejected due to numerical error(s).\n",
      "│   isfinite.((θ, r, ℓπ, ℓκ)) = (true, false, false, false)\n",
      "└ @ AdvancedHMC D:\\.julia\\packages\\AdvancedHMC\\51xgc\\src\\hamiltonian.jl:47\n",
      "┌ Warning: The current proposal will be rejected due to numerical error(s).\n",
      "│   isfinite.((θ, r, ℓπ, ℓκ)) = (true, false, false, false)\n",
      "└ @ AdvancedHMC D:\\.julia\\packages\\AdvancedHMC\\51xgc\\src\\hamiltonian.jl:47\n",
      "┌ Warning: The current proposal will be rejected due to numerical error(s).\n",
      "│   isfinite.((θ, r, ℓπ, ℓκ)) = (true, false, false, false)\n",
      "└ @ AdvancedHMC D:\\.julia\\packages\\AdvancedHMC\\51xgc\\src\\hamiltonian.jl:47\n"
     ]
    },
    {
     "name": "stderr",
     "output_type": "stream",
     "text": [
      "┌ Warning: The current proposal will be rejected due to numerical error(s).\n",
      "│   isfinite.((θ, r, ℓπ, ℓκ)) = (true, false, false, false)\n",
      "└ @ AdvancedHMC D:\\.julia\\packages\\AdvancedHMC\\51xgc\\src\\hamiltonian.jl:47\n",
      "┌ Warning: The current proposal will be rejected due to numerical error(s).\n",
      "│   isfinite.((θ, r, ℓπ, ℓκ)) = (true, false, false, false)\n",
      "└ @ AdvancedHMC D:\\.julia\\packages\\AdvancedHMC\\51xgc\\src\\hamiltonian.jl:47\n",
      "┌ Warning: The current proposal will be rejected due to numerical error(s).\n",
      "│   isfinite.((θ, r, ℓπ, ℓκ)) = (true, false, false, false)\n",
      "└ @ AdvancedHMC D:\\.julia\\packages\\AdvancedHMC\\51xgc\\src\\hamiltonian.jl:47\n",
      "┌ Warning: The current proposal will be rejected due to numerical error(s).\n",
      "│   isfinite.((θ, r, ℓπ, ℓκ)) = (true, false, false, false)\n",
      "└ @ AdvancedHMC D:\\.julia\\packages\\AdvancedHMC\\51xgc\\src\\hamiltonian.jl:47\n",
      "┌ Warning: The current proposal will be rejected due to numerical error(s).\n",
      "│   isfinite.((θ, r, ℓπ, ℓκ)) = (true, false, false, false)\n",
      "└ @ AdvancedHMC D:\\.julia\\packages\\AdvancedHMC\\51xgc\\src\\hamiltonian.jl:47\n",
      "┌ Warning: The current proposal will be rejected due to numerical error(s).\n",
      "│   isfinite.((θ, r, ℓπ, ℓκ)) = (true, false, false, false)\n",
      "└ @ AdvancedHMC D:\\.julia\\packages\\AdvancedHMC\\51xgc\\src\\hamiltonian.jl:47\n",
      "┌ Warning: The current proposal will be rejected due to numerical error(s).\n",
      "│   isfinite.((θ, r, ℓπ, ℓκ)) = (true, false, false, false)\n",
      "└ @ AdvancedHMC D:\\.julia\\packages\\AdvancedHMC\\51xgc\\src\\hamiltonian.jl:47\n",
      "┌ Warning: The current proposal will be rejected due to numerical error(s).\n",
      "│   isfinite.((θ, r, ℓπ, ℓκ)) = (true, false, false, false)\n",
      "└ @ AdvancedHMC D:\\.julia\\packages\\AdvancedHMC\\51xgc\\src\\hamiltonian.jl:47\n",
      "┌ Warning: The current proposal will be rejected due to numerical error(s).\n",
      "│   isfinite.((θ, r, ℓπ, ℓκ)) = (true, false, false, false)\n",
      "└ @ AdvancedHMC D:\\.julia\\packages\\AdvancedHMC\\51xgc\\src\\hamiltonian.jl:47\n",
      "┌ Warning: The current proposal will be rejected due to numerical error(s).\n",
      "│   isfinite.((θ, r, ℓπ, ℓκ)) = (true, false, false, false)\n",
      "└ @ AdvancedHMC D:\\.julia\\packages\\AdvancedHMC\\51xgc\\src\\hamiltonian.jl:47\n",
      "┌ Warning: The current proposal will be rejected due to numerical error(s).\n",
      "│   isfinite.((θ, r, ℓπ, ℓκ)) = (true, false, false, false)\n",
      "└ @ AdvancedHMC D:\\.julia\\packages\\AdvancedHMC\\51xgc\\src\\hamiltonian.jl:47\n",
      "┌ Warning: The current proposal will be rejected due to numerical error(s).\n",
      "│   isfinite.((θ, r, ℓπ, ℓκ)) = (true, false, false, false)\n",
      "└ @ AdvancedHMC D:\\.julia\\packages\\AdvancedHMC\\51xgc\\src\\hamiltonian.jl:47\n",
      "┌ Warning: The current proposal will be rejected due to numerical error(s).\n",
      "│   isfinite.((θ, r, ℓπ, ℓκ)) = (true, false, false, false)\n",
      "└ @ AdvancedHMC D:\\.julia\\packages\\AdvancedHMC\\51xgc\\src\\hamiltonian.jl:47\n",
      "┌ Warning: The current proposal will be rejected due to numerical error(s).\n",
      "│   isfinite.((θ, r, ℓπ, ℓκ)) = (true, false, false, false)\n",
      "└ @ AdvancedHMC D:\\.julia\\packages\\AdvancedHMC\\51xgc\\src\\hamiltonian.jl:47\n",
      "┌ Warning: The current proposal will be rejected due to numerical error(s).\n",
      "│   isfinite.((θ, r, ℓπ, ℓκ)) = (true, false, false, false)\n",
      "└ @ AdvancedHMC D:\\.julia\\packages\\AdvancedHMC\\51xgc\\src\\hamiltonian.jl:47\n",
      "┌ Warning: The current proposal will be rejected due to numerical error(s).\n",
      "│   isfinite.((θ, r, ℓπ, ℓκ)) = (true, false, false, false)\n",
      "└ @ AdvancedHMC D:\\.julia\\packages\\AdvancedHMC\\51xgc\\src\\hamiltonian.jl:47\n",
      "┌ Warning: The current proposal will be rejected due to numerical error(s).\n",
      "│   isfinite.((θ, r, ℓπ, ℓκ)) = (true, false, false, false)\n",
      "└ @ AdvancedHMC D:\\.julia\\packages\\AdvancedHMC\\51xgc\\src\\hamiltonian.jl:47\n",
      "┌ Warning: The current proposal will be rejected due to numerical error(s).\n",
      "│   isfinite.((θ, r, ℓπ, ℓκ)) = (true, false, false, false)\n",
      "└ @ AdvancedHMC D:\\.julia\\packages\\AdvancedHMC\\51xgc\\src\\hamiltonian.jl:47\n",
      "┌ Warning: The current proposal will be rejected due to numerical error(s).\n",
      "│   isfinite.((θ, r, ℓπ, ℓκ)) = (true, false, false, false)\n",
      "└ @ AdvancedHMC D:\\.julia\\packages\\AdvancedHMC\\51xgc\\src\\hamiltonian.jl:47\n",
      "┌ Warning: The current proposal will be rejected due to numerical error(s).\n",
      "│   isfinite.((θ, r, ℓπ, ℓκ)) = (true, false, false, false)\n",
      "└ @ AdvancedHMC D:\\.julia\\packages\\AdvancedHMC\\51xgc\\src\\hamiltonian.jl:47\n",
      "┌ Warning: The current proposal will be rejected due to numerical error(s).\n",
      "│   isfinite.((θ, r, ℓπ, ℓκ)) = (true, false, false, false)\n",
      "└ @ AdvancedHMC D:\\.julia\\packages\\AdvancedHMC\\51xgc\\src\\hamiltonian.jl:47\n",
      "┌ Info: Found initial step size\n",
      "│   ϵ = 9.765625e-5\n",
      "└ @ Turing.Inference D:\\.julia\\packages\\Turing\\szPqN\\src\\inference\\hmc.jl:191\n",
      "┌ Warning: The current proposal will be rejected due to numerical error(s).\n",
      "│   isfinite.((θ, r, ℓπ, ℓκ)) = (true, false, false, false)\n",
      "└ @ AdvancedHMC D:\\.julia\\packages\\AdvancedHMC\\51xgc\\src\\hamiltonian.jl:47\n",
      "┌ Warning: The current proposal will be rejected due to numerical error(s).\n",
      "│   isfinite.((θ, r, ℓπ, ℓκ)) = (true, false, false, false)\n",
      "└ @ AdvancedHMC D:\\.julia\\packages\\AdvancedHMC\\51xgc\\src\\hamiltonian.jl:47\n",
      "┌ Warning: The current proposal will be rejected due to numerical error(s).\n",
      "│   isfinite.((θ, r, ℓπ, ℓκ)) = (true, false, false, false)\n",
      "└ @ AdvancedHMC D:\\.julia\\packages\\AdvancedHMC\\51xgc\\src\\hamiltonian.jl:47\n",
      "┌ Warning: The current proposal will be rejected due to numerical error(s).\n",
      "│   isfinite.((θ, r, ℓπ, ℓκ)) = (true, false, false, false)\n",
      "└ @ AdvancedHMC D:\\.julia\\packages\\AdvancedHMC\\51xgc\\src\\hamiltonian.jl:47\n",
      "┌ Warning: The current proposal will be rejected due to numerical error(s).\n",
      "│   isfinite.((θ, r, ℓπ, ℓκ)) = (true, false, false, false)\n",
      "└ @ AdvancedHMC D:\\.julia\\packages\\AdvancedHMC\\51xgc\\src\\hamiltonian.jl:47\n",
      "┌ Warning: The current proposal will be rejected due to numerical error(s).\n",
      "│   isfinite.((θ, r, ℓπ, ℓκ)) = (true, false, false, false)\n",
      "└ @ AdvancedHMC D:\\.julia\\packages\\AdvancedHMC\\51xgc\\src\\hamiltonian.jl:47\n",
      "┌ Warning: The current proposal will be rejected due to numerical error(s).\n",
      "│   isfinite.((θ, r, ℓπ, ℓκ)) = (true, false, false, false)\n",
      "└ @ AdvancedHMC D:\\.julia\\packages\\AdvancedHMC\\51xgc\\src\\hamiltonian.jl:47\n",
      "┌ Info: Found initial step size\n",
      "│   ϵ = 9.765625e-5\n",
      "└ @ Turing.Inference D:\\.julia\\packages\\Turing\\szPqN\\src\\inference\\hmc.jl:191\n",
      "┌ Info: Found initial step size\n",
      "│   ϵ = 9.765625e-5\n",
      "└ @ Turing.Inference D:\\.julia\\packages\\Turing\\szPqN\\src\\inference\\hmc.jl:191\n",
      "┌ Info: Found initial step size\n",
      "│   ϵ = 9.765625e-5\n",
      "└ @ Turing.Inference D:\\.julia\\packages\\Turing\\szPqN\\src\\inference\\hmc.jl:191\n",
      "┌ Info: Found initial step size\n",
      "│   ϵ = 4.8828125e-5\n",
      "└ @ Turing.Inference D:\\.julia\\packages\\Turing\\szPqN\\src\\inference\\hmc.jl:191\n",
      "┌ Info: Found initial step size\n",
      "│   ϵ = 4.8828125e-5\n",
      "└ @ Turing.Inference D:\\.julia\\packages\\Turing\\szPqN\\src\\inference\\hmc.jl:191\n",
      "┌ Info: Found initial step size\n",
      "│   ϵ = 9.765625e-5\n",
      "└ @ Turing.Inference D:\\.julia\\packages\\Turing\\szPqN\\src\\inference\\hmc.jl:191\n",
      "┌ Info: Found initial step size\n",
      "│   ϵ = 9.765625e-5\n",
      "└ @ Turing.Inference D:\\.julia\\packages\\Turing\\szPqN\\src\\inference\\hmc.jl:191\n",
      "┌ Info: Found initial step size\n",
      "│   ϵ = 4.8828125e-5\n",
      "└ @ Turing.Inference D:\\.julia\\packages\\Turing\\szPqN\\src\\inference\\hmc.jl:191\n",
      "┌ Info: Found initial step size\n",
      "│   ϵ = 4.8828125e-5\n",
      "└ @ Turing.Inference D:\\.julia\\packages\\Turing\\szPqN\\src\\inference\\hmc.jl:191\n"
     ]
    }
   ],
   "source": [
    "L = 10^5\n",
    "n_threads = min(Threads.nthreads(), 10)\n",
    "chn = sample(normaldistmodel(y, μstar, vstar, κ, θ), NUTS(), MCMCThreads(), L, n_threads);"
   ]
  },
  {
   "cell_type": "code",
   "execution_count": 64,
   "id": "c16a34d1",
   "metadata": {},
   "outputs": [
    {
     "data": {
      "text/plain": [
       "Chains MCMC chain (100000×14×10 Array{Float64, 3}):\n",
       "\n",
       "Iterations        = 1001:1:101000\n",
       "Number of chains  = 10\n",
       "Samples per chain = 100000\n",
       "Wall duration     = 17.67 seconds\n",
       "Compute duration  = 172.78 seconds\n",
       "parameters        = σ², μ\n",
       "internals         = lp, n_steps, is_accept, acceptance_rate, log_density, hamiltonian_energy, hamiltonian_energy_error, max_hamiltonian_energy_error, tree_depth, numerical_error, step_size, nom_step_size\n",
       "\n",
       "Summary Statistics\n",
       " \u001b[1m parameters \u001b[0m \u001b[1m        mean \u001b[0m \u001b[1m        std \u001b[0m \u001b[1m naive_se \u001b[0m \u001b[1m    mcse \u001b[0m \u001b[1m         ess \u001b[0m \u001b[1m    rhat \u001b[0m \u001b[1m ess_per_sec \u001b[0m\n",
       " \u001b[90m     Symbol \u001b[0m \u001b[90m     Float64 \u001b[0m \u001b[90m    Float64 \u001b[0m \u001b[90m  Float64 \u001b[0m \u001b[90m Float64 \u001b[0m \u001b[90m     Float64 \u001b[0m \u001b[90m Float64 \u001b[0m \u001b[90m     Float64 \u001b[0m\n",
       "\n",
       "          σ²   191373.6927   60472.6088    60.4726   70.7529   730230.4176    1.0000     4226.2618\n",
       "           μ     9982.9046      97.6212     0.0976    0.1059   856817.8344    1.0000     4958.8957\n",
       "\n",
       "Quantiles\n",
       " \u001b[1m parameters \u001b[0m \u001b[1m        2.5% \u001b[0m \u001b[1m       25.0% \u001b[0m \u001b[1m       50.0% \u001b[0m \u001b[1m       75.0% \u001b[0m \u001b[1m       97.5% \u001b[0m\n",
       " \u001b[90m     Symbol \u001b[0m \u001b[90m     Float64 \u001b[0m \u001b[90m     Float64 \u001b[0m \u001b[90m     Float64 \u001b[0m \u001b[90m     Float64 \u001b[0m \u001b[90m     Float64 \u001b[0m\n",
       "\n",
       "          σ²   107087.4187   149115.4457   180373.1654   221277.0495   339430.1163\n",
       "           μ     9789.9597     9918.7977     9982.9330    10046.9331    10175.8097\n"
      ]
     },
     "execution_count": 64,
     "metadata": {},
     "output_type": "execute_result"
    }
   ],
   "source": [
    "chn"
   ]
  },
  {
   "cell_type": "code",
   "execution_count": 65,
   "id": "6b97351d",
   "metadata": {
    "scrolled": true
   },
   "outputs": [
    {
     "name": "stdout",
     "output_type": "stream",
     "text": [
      "confint_ttest(y) = [9951.560767950448, 10054.34490671698]\n"
     ]
    }
   ],
   "source": [
    "@show confint_ttest(y);"
   ]
  },
  {
   "cell_type": "code",
   "execution_count": 66,
   "id": "2ec2e140",
   "metadata": {
    "scrolled": false
   },
   "outputs": [
    {
     "data": {
      "image/png": "[encoded data removed]"
     },
     "execution_count": 66,
     "metadata": {},
     "output_type": "execute_result"
    }
   ],
   "source": [
    "postμ_theoretical = posterior_μ(bayesian_update(μstar, vstar, κ, θ, y)...)\n",
    "plot_posterior_μ(chn, y, postμ_theoretical)"
   ]
  },
  {
   "cell_type": "code",
   "execution_count": 67,
   "id": "d2a32a85",
   "metadata": {},
   "outputs": [
    {
     "data": {
      "image/png": "[encoded data removed]"
     },
     "execution_count": 67,
     "metadata": {},
     "output_type": "execute_result"
    }
   ],
   "source": [
    "pred_theoretical = preddist(bayesian_update(μstar, vstar, κ, θ, y)...)\n",
    "plot_preddist(chn, y, pred_theoretical)"
   ]
  },
  {
   "cell_type": "code",
   "execution_count": null,
   "id": "6a16470a",
   "metadata": {},
   "outputs": [],
   "source": []
  }
 ],
 "metadata": {
  "@webio": {
   "lastCommId": null,
   "lastKernelId": null
  },
  "jupytext": {
   "formats": "ipynb,md"
  },
  "kernelspec": {
   "display_name": "Julia 1.8.0",
   "language": "julia",
   "name": "julia-1.8"
  },
  "language_info": {
   "file_extension": ".jl",
   "mimetype": "application/julia",
   "name": "julia",
   "version": "1.8.0"
  },
  "toc": {
   "base_numbering": 1,
   "nav_menu": {},
   "number_sections": true,
   "sideBar": true,
   "skip_h1_title": true,
   "title_cell": "目次",
   "title_sidebar": "目次",
   "toc_cell": true,
   "toc_position": {},
   "toc_section_display": true,
   "toc_window_display": false
  }
 },
 "nbformat": 4,
 "nbformat_minor": 5
}
