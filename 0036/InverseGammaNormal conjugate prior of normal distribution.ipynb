{
 "cells": [
  {
   "cell_type": "markdown",
   "id": "95ff1130",
   "metadata": {},
   "source": [
    "# 正規分布モデルの共役事前分布によるベイズ統計\n",
    "\n",
    "* 黒木玄\n",
    "* 2022-09-03～2022-09-04\n",
    "$\n",
    "\\newcommand\\ds{\\displaystyle}\n",
    "\\newcommand\\op[1]{{\\operatorname{#1}}}\n",
    "\\newcommand\\R{{\\mathbb R}}\n",
    "\\newcommand\\var{\\op{var}}\n",
    "\\newcommand\\cov{\\op{cov}}\n",
    "\\newcommand\\ybar{{\\bar y}}\n",
    "\\newcommand\\sigmahat{{\\hat\\sigma}}\n",
    "$"
   ]
  },
  {
   "cell_type": "markdown",
   "id": "248d7293",
   "metadata": {
    "toc": true
   },
   "source": [
    "<h1>目次<span class=\"tocSkip\"></span></h1>\n",
    "<div class=\"toc\"><ul class=\"toc-item\"><li><span><a href=\"#正規分布モデルの共役事前分布とその応用\" data-toc-modified-id=\"正規分布モデルの共役事前分布とその応用-1\"><span class=\"toc-item-num\">1&nbsp;&nbsp;</span>正規分布モデルの共役事前分布とその応用</a></span><ul class=\"toc-item\"><li><span><a href=\"#逆ガンマ正規分布\" data-toc-modified-id=\"逆ガンマ正規分布-1.1\"><span class=\"toc-item-num\">1.1&nbsp;&nbsp;</span>逆ガンマ正規分布</a></span></li><li><span><a href=\"#共役事前分布のBayes更新\" data-toc-modified-id=\"共役事前分布のBayes更新-1.2\"><span class=\"toc-item-num\">1.2&nbsp;&nbsp;</span>共役事前分布のBayes更新</a></span></li><li><span><a href=\"#μの周辺事前・事後分布および事前・事後予測分布\" data-toc-modified-id=\"μの周辺事前・事後分布および事前・事後予測分布-1.3\"><span class=\"toc-item-num\">1.3&nbsp;&nbsp;</span>μの周辺事前・事後分布および事前・事後予測分布</a></span></li><li><span><a href=\"#Jeffreys事前分布の場合\" data-toc-modified-id=\"Jeffreys事前分布の場合-1.4\"><span class=\"toc-item-num\">1.4&nbsp;&nbsp;</span>Jeffreys事前分布の場合</a></span></li><li><span><a href=\"#平均と対数分散について一様な事前分布の場合\" data-toc-modified-id=\"平均と対数分散について一様な事前分布の場合-1.5\"><span class=\"toc-item-num\">1.5&nbsp;&nbsp;</span>平均と対数分散について一様な事前分布の場合</a></span></li><li><span><a href=\"#平均と対数分散について一様な事前分布の場合の結果の数値的確認\" data-toc-modified-id=\"平均と対数分散について一様な事前分布の場合の結果の数値的確認-1.6\"><span class=\"toc-item-num\">1.6&nbsp;&nbsp;</span>平均と対数分散について一様な事前分布の場合の結果の数値的確認</a></span></li><li><span><a href=\"#通常の信頼区間と予測区間との比較\" data-toc-modified-id=\"通常の信頼区間と予測区間との比較-1.7\"><span class=\"toc-item-num\">1.7&nbsp;&nbsp;</span>通常の信頼区間と予測区間との比較</a></span></li><li><span><a href=\"#データの数値から事前分布を決めた場合\" data-toc-modified-id=\"データの数値から事前分布を決めた場合-1.8\"><span class=\"toc-item-num\">1.8&nbsp;&nbsp;</span>データの数値から事前分布を決めた場合</a></span></li><li><span><a href=\"#n-=-5-ではデフォルト事前分布の場合と無情報事前分布の場合の結果が結構違う.\" data-toc-modified-id=\"n-=-5-ではデフォルト事前分布の場合と無情報事前分布の場合の結果が結構違う.-1.9\"><span class=\"toc-item-num\">1.9&nbsp;&nbsp;</span>n = 5 ではデフォルト事前分布の場合と無情報事前分布の場合の結果が結構違う.</a></span></li><li><span><a href=\"#n-=-20-ではデフォルト事前分布の場合と無情報事前分布の場合の結果が近付く.\" data-toc-modified-id=\"n-=-20-ではデフォルト事前分布の場合と無情報事前分布の場合の結果が近付く.-1.10\"><span class=\"toc-item-num\">1.10&nbsp;&nbsp;</span>n = 20 ではデフォルト事前分布の場合と無情報事前分布の場合の結果が近付く.</a></span></li><li><span><a href=\"#n-=-20-で事前分布とデータの数値の相性が悪い場合\" data-toc-modified-id=\"n-=-20-で事前分布とデータの数値の相性が悪い場合-1.11\"><span class=\"toc-item-num\">1.11&nbsp;&nbsp;</span>n = 20 で事前分布とデータの数値の相性が悪い場合</a></span></li></ul></li></ul></div>"
   ]
  },
  {
   "cell_type": "code",
   "execution_count": 1,
   "id": "c83ecdaa",
   "metadata": {},
   "outputs": [],
   "source": [
    "using Distributions\n",
    "using LinearAlgebra\n",
    "using StatsPlots\n",
    "default(fmt=:png, size=(500, 350),\n",
    "    titlefontsize=10, tickfontsize=6, guidefontsize=9,\n",
    "    plot_titlefontsize=10)\n",
    "using SymPy\n",
    "using Turing"
   ]
  },
  {
   "cell_type": "code",
   "execution_count": 2,
   "id": "29e642b8",
   "metadata": {},
   "outputs": [],
   "source": [
    "# Override the Base.show definition of SymPy.jl:\n",
    "# https://github.com/JuliaPy/SymPy.jl/blob/29c5bfd1d10ac53014fa7fef468bc8deccadc2fc/src/types.jl#L87-L105\n",
    "\n",
    "@eval SymPy function Base.show(io::IO, ::MIME\"text/latex\", x::SymbolicObject)\n",
    "    print(io, as_markdown(\"\\\\displaystyle \" *\n",
    "            sympy.latex(x, mode=\"plain\", fold_short_frac=false)))\n",
    "end\n",
    "@eval SymPy function Base.show(io::IO, ::MIME\"text/latex\", x::AbstractArray{Sym})\n",
    "    function toeqnarray(x::Vector{Sym})\n",
    "        a = join([\"\\\\displaystyle \" *\n",
    "                sympy.latex(x[i]) for i in 1:length(x)], \"\\\\\\\\\")\n",
    "        \"\"\"\\\\left[ \\\\begin{array}{r}$a\\\\end{array} \\\\right]\"\"\"\n",
    "    end\n",
    "    function toeqnarray(x::AbstractArray{Sym,2})\n",
    "        sz = size(x)\n",
    "        a = join([join(\"\\\\displaystyle \" .* map(sympy.latex, x[i,:]), \"&\")\n",
    "                for i in 1:sz[1]], \"\\\\\\\\\")\n",
    "        \"\\\\left[ \\\\begin{array}{\" * repeat(\"r\",sz[2]) * \"}\" * a * \"\\\\end{array}\\\\right]\"\n",
    "    end\n",
    "    print(io, as_markdown(toeqnarray(x)))\n",
    "end"
   ]
  },
  {
   "cell_type": "code",
   "execution_count": 3,
   "id": "bd3feda7",
   "metadata": {},
   "outputs": [
    {
     "data": {
      "text/plain": [
       "preddist_tdist (generic function with 2 methods)"
      ]
     },
     "execution_count": 3,
     "metadata": {},
     "output_type": "execute_result"
    }
   ],
   "source": [
    "function pvalue_tdist(x̄, s², n, μ)\n",
    "    t = (x̄ - μ)/√(s²/n)\n",
    "    2ccdf(TDist(n-1), abs(t))\n",
    "end\n",
    "\n",
    "function pvalue_tdist(x, μ)\n",
    "    x̄, s², n = mean(x), var(x), length(x)\n",
    "    pvalue_tdist(x̄, s², n, μ)\n",
    "end\n",
    "\n",
    "function confint_tdist(x̄, s², n; α = 0.05)\n",
    "    c = quantile(TDist(n-1), 1-α/2)\n",
    "    [x̄ - c*√(s²/n), x̄ + c*√(s²/n)]\n",
    "end\n",
    "\n",
    "function confint_tdist(x; α = 0.05)\n",
    "    x̄, s², n = mean(x), var(x), length(x)\n",
    "    confint_tdist(x̄, s², n; α)\n",
    "end\n",
    "\n",
    "confdist_tdist(x̄, s², n) = x̄ + √(s²/n)*TDist(n-1)\n",
    "confdist_tdist(x) = confdist_tdist(mean(x), var(x), length(x))\n",
    "\n",
    "preddist_tdist(x̄, s², n) = x̄ + √(s²*(1 + 1/n))*TDist(n-1)\n",
    "preddist_tdist(x) = preddist_tdist(mean(x), var(x), length(x))"
   ]
  },
  {
   "cell_type": "markdown",
   "id": "53cf74e3",
   "metadata": {},
   "source": [
    "## 正規分布モデルの共役事前分布とその応用"
   ]
  },
  {
   "cell_type": "markdown",
   "id": "fbdadcf0",
   "metadata": {},
   "source": [
    "### 逆ガンマ正規分布\n",
    "\n",
    "平均 $\\mu\\in\\R$, 分散 $v=\\sigma^2\\in\\R_{>0}$ の正規分布の確率密度函数を次のように表す:\n",
    "\n",
    "$$\n",
    "p_\\op{Normal}(y|\\mu, v) =\n",
    "\\frac{1}{\\sqrt{2\\pi v}}\\exp\\left(-\\frac{1}{2v}(y-\\mu)^2\\right)\n",
    "\\quad (y\\in \\R).\n",
    "$$\n",
    "\n",
    "分散パラメータ $\\sigma^2$ を $v$ に書き直している理由は, $\\sigma^2$ を1つの変数として扱いたいからである.\n",
    "\n",
    "パラメータ $\\kappa, \\theta > 0$ の逆ガンマ分布の確率密度函数を次のように書くことにする:\n",
    "\n",
    "$$\n",
    "p_\\op{InverseGamma}(v|\\kappa,\\theta) =\n",
    "\\frac{\\theta^\\kappa}{\\Gamma(\\kappa)}\n",
    "v^{-\\kappa-1}\\exp\\left(-\\frac{\\theta}{v}\\right)\n",
    "\\quad (v > 0).\n",
    "$$\n",
    "\n",
    "$v$ がこの逆ガンマ分布に従う確率変数だとすると, \n",
    "\n",
    "$$\n",
    "\\begin{aligned}\n",
    "&\n",
    "\\frac{1}{v} \\sim\n",
    "\\op{Gamma}\\left(\\kappa,\\, \\frac{1}{\\theta}\\right) =\n",
    "\\frac{1}{2\\theta}\\op{Gamma}\\left(\\frac{2\\kappa}{2},\\, 2\\right) =\n",
    "\\frac{1}{2\\theta}\\op{Chisq}(2\\kappa),\n",
    "\\\\ &\n",
    "E[v] = \\frac{\\theta}{\\kappa - 1}, \\quad\n",
    "\\var(v) = \\frac{E[v]^2}{\\kappa - 2}.\n",
    "\\end{aligned}\n",
    "$$\n",
    "\n",
    "$A$ と $B$ が $\\mu, v$ に関する定数因子の違いを除いて等しいことを $A\\propto B$ と書くことにする.\n",
    "\n",
    "逆ガンマ正規分布の密度函数を次のように定義する:\n",
    "\n",
    "$$\n",
    "\\begin{aligned}\n",
    "p_\\op{InverseGammaNormal}(\\mu,v|\\mu_*, v_*, \\kappa, \\theta) &=\n",
    "p_\\op{Normal}(\\mu|\\mu_*, v_* v) p_\\op{InverseGamma}(v|\\kappa, \\theta)\n",
    "\\\\ &\\propto\n",
    "v^{-(\\kappa+1/2)-1}\n",
    "\\exp\\left(-\\frac{1}{v}\\left(\\theta + \\frac{1}{2v_*}(\\mu-\\mu_*)^2\\right)\\right).\n",
    "\\end{aligned}\n",
    "$$\n",
    "\n",
    "この逆ガンマ正規分布の密度函数に従う確率変数を $\\mu,v$ と書くと,\n",
    "\n",
    "$$\n",
    "E[v] = \\frac{\\theta}{\\kappa-1}, \\quad\n",
    "\\var(v) = \\frac{E[v]^2}{\\kappa-2}, \\quad\n",
    "\\cov(\\mu, v) = 0, \\quad\n",
    "E[\\mu] = \\mu_*, \\quad\n",
    "\\var(\\mu) = v_* E[v].\n",
    "$$\n",
    "\n",
    "この逆ガンマ正規分布が正規分布の共役事前分布になっていることを次の節で確認する. "
   ]
  },
  {
   "cell_type": "markdown",
   "id": "da0c65e8",
   "metadata": {},
   "source": [
    "### 共役事前分布のBayes更新\n",
    "\n",
    "データの数値 $y_1,\\ldots,y_n$ が与えられたとき, 正規分布モデルの尤度函数は\n",
    "\n",
    "$$\n",
    "\\prod_{i=1}^n p_\\op{Normal}(y_i|\\mu,v) \\propto\n",
    "v^{-n/2}\\exp\\left(-\\frac{1}{2v}\\sum_{i=1}^n(y_i-\\mu)^2\\right)\n",
    "$$\n",
    "\n",
    "の形になる. このとき,\n",
    "\n",
    "$$\n",
    "\\ybar = \\frac{1}{n}\\sum_{i=1}^n y_i, \\quad\n",
    "\\sigmahat^2 = \\frac{1}{n}\\sum_{i=1}^n (y_i - \\ybar)^2.\n",
    "$$\n",
    "\n",
    "とおくと, \n",
    "\n",
    "$$\n",
    "\\sum_{i=1}^n(y_i-\\mu)^2 = n(\\mu - \\ybar)^2 + n\\sigmahat^2\n",
    "$$\n",
    "\n",
    "なので, 尤度を最大化する $\\mu, v$ は $\\mu=\\ybar$, $v=\\sigmahat^2$ になることがわかる.\n",
    "\n",
    "さらに, 次が成立することもわかる:\n",
    "\n",
    "$$\n",
    "\\begin{aligned}\n",
    "&\n",
    "\\prod_{i=1}^n p_\\op{Normal}(y_i|\\mu,v)\\times\n",
    "p_\\op{InverseGammaNormal}(\\mu,v|\\mu_*, v_*, \\kappa, \\theta)\n",
    "\\\\ &\\propto\n",
    "v^{-n/2}\\exp\\left(-\\frac{n}{2v}\\left((\\mu-\\ybar)^2 + \\sigmahat^2\\right)\\right)\\times\n",
    "v^{-(\\kappa+1/2)-1}\n",
    "\\exp\\left(-\\frac{1}{v}\\left(\\theta + \\frac{1}{2v_*}(\\mu-\\mu_*)^2\\right)\\right)\n",
    "\\\\ &=\n",
    "v^{-(\\kappa+n/2+1/2)-1}\n",
    "\\exp\\left(-\\frac{1}{v}\\left(\n",
    "\\theta + \\frac{n}{2}\\left(\\sigmahat^2 + \\frac{(\\ybar - \\mu_*)^2}{1+nv_*}\\right) +\n",
    "\\frac{1+nv_*}{2v_*}\\left(\\mu - \\frac{\\mu_*+nv_*\\ybar}{1+nv_*}\\right)^2\n",
    "\\right)\\right).\n",
    "\\end{aligned}\n",
    "$$\n",
    "\n",
    "ゆえに共役事前分布から得られる事後分布のパラメータは次のようになる:\n",
    "\n",
    "$$\n",
    "\\begin{alignedat}{2}\n",
    "&\n",
    "\\tilde\\kappa = \\kappa + \\frac{n}{2} =\n",
    "\\frac{n}{2}\\left(1 + \\frac{2\\kappa}{n}\\right), \n",
    "\\\\ &\n",
    "\\tilde\\theta =\n",
    "\\theta + \\frac{n}{2}\\left(\\sigmahat^2 + \\frac{(\\ybar - \\mu_*)^2}{1+nv_*}\\right) =\n",
    "\\frac{n\\sigmahat^2}{2}\\left(1 + \\frac{2\\theta}{n\\sigmahat^2} + \\frac{(\\ybar - \\mu_*)^2}{(1+nv_*)\\sigmahat^2}\\right),\n",
    "\\\\ &\n",
    "\\tilde\\mu_* = \\frac{\\mu_*+nv_*\\ybar}{1+nv_*} =\n",
    "\\ybar\\frac{1+\\mu_*/(nv_*\\ybar)}{1+1/(nv_*)}, \n",
    "\\\\ &\n",
    "\\tilde v_* = \\frac{v_*}{1+nv_*} =\n",
    "\\frac{1}{n}\\frac{1}{1+1/(nv_*)}.\n",
    "\\end{alignedat}\n",
    "$$"
   ]
  },
  {
   "cell_type": "code",
   "execution_count": 4,
   "id": "0bdaec00",
   "metadata": {},
   "outputs": [
    {
     "data": {
      "text/plain": [
       "(n, ȳ, v̂, μ, v, μ0, v0, κ, θ)"
      ]
     },
     "execution_count": 4,
     "metadata": {},
     "output_type": "execute_result"
    }
   ],
   "source": [
    "@vars n ȳ v̂ μ v μ0 v0 κ θ"
   ]
  },
  {
   "cell_type": "code",
   "execution_count": 5,
   "id": "c18e2291",
   "metadata": {},
   "outputs": [
    {
     "data": {
      "text/latex": [
       "$\\displaystyle \\frac{n \\log{\\left(v \\right)}}{2} + \\frac{n \\left(v̂ + \\left(- ȳ + μ\\right)^{2}\\right)}{2 v}$\n"
      ],
      "text/plain": [
       "             /            2\\\n",
       "n*log(v)   n*\\v̂ + (-ȳ + μ) /\n",
       "-------- + -----------------\n",
       "   2              2*v       "
      ]
     },
     "execution_count": 5,
     "metadata": {},
     "output_type": "execute_result"
    }
   ],
   "source": [
    "negloglik = n/2*log(v) + n/(2v)*((μ - ȳ)^2 + v̂)"
   ]
  },
  {
   "cell_type": "code",
   "execution_count": 6,
   "id": "5ef19e35",
   "metadata": {},
   "outputs": [
    {
     "data": {
      "text/latex": [
       "$\\displaystyle \\left(κ + \\frac{3}{2}\\right) \\log{\\left(v \\right)} + \\frac{θ + \\frac{\\left(μ - μ_{0}\\right)^{2}}{2 v_{0}}}{v}$\n"
      ],
      "text/plain": [
       "                               2\n",
       "                       (μ - μ0) \n",
       "                   θ + ---------\n",
       "                          2*v0  \n",
       "(κ + 3/2)*log(v) + -------------\n",
       "                         v      "
      ]
     },
     "execution_count": 6,
     "metadata": {},
     "output_type": "execute_result"
    }
   ],
   "source": [
    "neglogpri = (κ + 1//2 + 1)*log(v) + 1/v*(θ + 1/(2v0)*(μ-μ0)^2)"
   ]
  },
  {
   "cell_type": "code",
   "execution_count": 7,
   "id": "1aff85cc",
   "metadata": {},
   "outputs": [
    {
     "data": {
      "text/latex": [
       "$\\displaystyle \\left(\\frac{n}{2} + κ + \\frac{3}{2}\\right) \\log{\\left(v \\right)} + \\frac{\\frac{n \\left(v̂ + \\frac{\\left(ȳ - μ_{0}\\right)^{2}}{n v_{0} + 1}\\right)}{2} + θ + \\frac{\\left(μ - \\frac{n v_{0} ȳ + μ_{0}}{n v_{0} + 1}\\right)^{2} \\left(n v_{0} + 1\\right)}{2 v_{0}}}{v}$\n"
      ],
      "text/plain": [
       "                       /            2\\                        2           \n",
       "                       |    (ȳ - μ0) |       /    n*v0*ȳ + μ0\\            \n",
       "                     n*|v̂ + ---------|       |μ - -----------| *(n*v0 + 1)\n",
       "                       \\     n*v0 + 1/       \\      n*v0 + 1 /            \n",
       "                     ----------------- + θ + -----------------------------\n",
       "/n       3\\                  2                            2*v0            \n",
       "|- + κ + -|*log(v) + -----------------------------------------------------\n",
       "\\2       2/                                    v                          "
      ]
     },
     "execution_count": 7,
     "metadata": {},
     "output_type": "execute_result"
    }
   ],
   "source": [
    "neglogpost = (κ + n/2 + 1//2 + 1)*log(v) +  1/v*(\n",
    "    θ + n/2*(v̂ + 1/(1+n*v0)*(ȳ - μ0)^2) +\n",
    "    (1 + n*v0)/(2v0)*(μ - (μ0 + n*v0*ȳ)/(1 + n*v0))^2)"
   ]
  },
  {
   "cell_type": "code",
   "execution_count": 8,
   "id": "29d551af",
   "metadata": {},
   "outputs": [
    {
     "data": {
      "text/latex": [
       "$\\displaystyle 0$\n"
      ],
      "text/plain": [
       "0"
      ]
     },
     "execution_count": 8,
     "metadata": {},
     "output_type": "execute_result"
    }
   ],
   "source": [
    "simplify(negloglik + neglogpri - neglogpost)"
   ]
  },
  {
   "cell_type": "markdown",
   "id": "64469d0b",
   "metadata": {},
   "source": [
    "### μの周辺事前・事後分布および事前・事後予測分布\n",
    "\n",
    "確率密度函数\n",
    "\n",
    "$$\n",
    "p(\\mu|\\mu_*,v_*,\\kappa,\\theta) =\n",
    "\\int_{\\R_{>0}} p_\\op{InverseGammaNormal}(\\mu,v|\\mu_*,v_*,\\kappa,\\theta) \\,dv\n",
    "$$\n",
    "\n",
    "で定義される$\\mu$ の周辺事前分布は次になる:\n",
    "\n",
    "$$\n",
    "\\mu \\sim\n",
    "\\mu_* + \\sqrt{\\frac{\\theta}{\\kappa}v_*}\\;\\op{TDist}(2\\kappa).\n",
    "$$\n",
    "\n",
    "確率密度函数\n",
    "\n",
    "$$\n",
    "p_*(y_\\op{new}|\\mu_*,v_*,\\kappa,\\theta) =\n",
    "\\iint_{\\R\\times\\R_{>0}}\n",
    "p_\\op{Normal}(y_\\op{new}|\\mu,v)\n",
    "p_\\op{InverseGammaNormal}(\\mu,v|\\mu_*,v_*,\\kappa,\\theta)\n",
    "\\,d\\mu\\,dv\n",
    "$$\n",
    "\n",
    "で定義される $y_\\op{new}$ の事前予測分布は次になる:\n",
    "\n",
    "$$\n",
    "y_\\op{new} \\sim\n",
    "\\mu_* + \\sqrt{\\frac{\\theta}{\\kappa}(1+v_*)}\\;\\op{TDist}(2\\kappa).\n",
    "$$\n",
    "\n",
    "パラメータをBayes更新後のパラメータ\n",
    "\n",
    "$$\n",
    "\\begin{alignedat}{2}\n",
    "&\n",
    "\\tilde\\kappa = \\kappa + \\frac{n}{2} =\n",
    "\\frac{n}{2}\\left(1 + \\frac{2\\kappa}{n}\\right), \n",
    "\\\\ &\n",
    "\\tilde\\theta =\n",
    "\\theta + \\frac{n}{2}\\left(\\sigmahat^2 + \\frac{(\\ybar - \\mu_*)^2}{1+nv_*}\\right) =\n",
    "\\frac{n\\sigmahat^2}{2}\\left(1 + \\frac{2\\theta}{n\\sigmahat^2} + \\frac{(\\ybar - \\mu_*)^2}{(1+nv_*)\\sigmahat^2}\\right),\n",
    "\\\\ &\n",
    "\\tilde\\mu_* = \\frac{\\mu_*+nv_*\\ybar}{1+nv_*} =\n",
    "\\ybar\\frac{1+\\mu_*/(nv_*\\ybar)}{1+1/(nv_*)}, \n",
    "\\\\ &\n",
    "\\tilde v_* = \\frac{v_*}{1+nv_*} =\n",
    "\\frac{1}{n}\\frac{1}{1+1/(nv_*)}.\n",
    "\\end{alignedat}\n",
    "$$\n",
    "\n",
    "に置き換えればこれは $\\mu$ の周辺事後分布および事後予測分布になる.\n",
    "\n",
    "その事後分布を使った区間推定の幅は\n",
    "\n",
    "* $n$ が大きいほど狭くなる.\n",
    "* $\\kappa$ が大きいほど狭くなる.\n",
    "* $\\theta$ が大きいほど広くなる.\n",
    "* $|\\ybar - \\mu_*|/\\sigmahat$ が大きいほど広くなる.\n",
    "* $|\\ybar - \\mu_*|/\\sigmahat$ が大きくても, $v_*$ がさらに大きければ狭くなる."
   ]
  },
  {
   "cell_type": "markdown",
   "id": "e55e39fb",
   "metadata": {},
   "source": [
    "### Jeffreys事前分布の場合\n",
    "\n",
    "\n",
    "パラメータ空間が $\\{(\\mu, v)=(\\mu, \\sigma^2)\\in\\R\\times\\R_{>0}\\}$ の $2$ 次元の正規分布モデルのJeffreys事前分布 $p_\\op{Jeffreys}(\\mu,v)$ は\n",
    "\n",
    "$$\n",
    "p_\\op{Jeffreys}(\\mu,v) \\propto v^{-3/2}\n",
    "$$\n",
    "\n",
    "になることが知られている. ただし, 右辺の $(\\mu,v)\\in\\R\\times\\R_{>0}$ に関する積分は $\\infty$ になるので, この場合のJeffreys事前分布はimproperである.\n",
    "\n",
    "逆ガンマ正規分布の密度函数\n",
    "\n",
    "$$\n",
    "p_\\op{InverseGammaNormal}(\\mu,v|\\mu_*, v_*, \\kappa, \\theta) \\propto\n",
    "v^{-(\\kappa+1/2)-1}\n",
    "\\exp\\left(-\\frac{1}{v}\\left(\\theta + \\frac{1}{2v_*}(\\mu-\\mu_*)^2\\right)\\right).\n",
    "$$\n",
    "\n",
    "と比較すると, Jeffreys事前分布に対応する共役事前分布のパラメータ値は形式的に次になることがわかる:\n",
    "\n",
    "$$\n",
    "\\kappa \\to 0, \\quad\n",
    "\\theta \\to 0, \\quad\n",
    "v_* \\to \\infty.\n",
    "$$\n",
    "\n",
    "そのとき, Bayes更新後のパラメータの公式は次のようにシンプルになる:\n",
    "\n",
    "$$\n",
    "\\tilde\\kappa = \\frac{n}{2}, \\quad\n",
    "\\tilde\\theta = \\frac{n\\sigmahat^2}{2}, \\quad\n",
    "\\tilde\\mu_* = \\ybar, \\quad\n",
    "\\tilde v_* = \\frac{1}{n}.\n",
    "$$\n",
    "\n",
    "さらに, 前節の公式から, $n\\to\\infty$ のとき, 一般のパラメータ値に関するBayes更新の結果は, $n\\to\\infty$ のとき漸近的にこのJeffreys事前分布の場合に一致する.\n",
    "\n",
    "さらに, Jeffreys事前分布の場合には\n",
    "\n",
    "$$\n",
    "\\frac{\\tilde\\theta}{\\tilde\\kappa} = \\sigmahat^2, \\quad\n",
    "\\tilde v_* = \\frac{1}{n}, \\quad\n",
    "2\\tilde\\kappa = n.\n",
    "$$\n",
    "\n",
    "ゆえに, $\\mu$ に関する周辺事後分布は\n",
    "\n",
    "$$\n",
    "\\mu \\sim\n",
    "\\ybar + \\frac{\\sigmahat}{\\sqrt{n}}\\;\\op{TDist}(n)\n",
    "$$\n",
    "\n",
    "になり, 事後予測分布は次になる:\n",
    "\n",
    "$$\n",
    "y_\\op{new} \\sim\n",
    "\\ybar + \\sigmahat\\sqrt{1+\\frac{1}{n}}\\;\\op{TDist}(n).\n",
    "$$"
   ]
  },
  {
   "cell_type": "markdown",
   "id": "67351586",
   "metadata": {},
   "source": [
    "### 平均と対数分散について一様な事前分布の場合\n",
    "\n",
    "平均 $\\mu$ と分数の対数 $\\log v = \\log\\sigma^2$ に関する一様な事前分布は\n",
    "\n",
    "$$\n",
    "p_\\op{flat}(\\mu, v) \\propto v^{-1}\n",
    "$$\n",
    "\n",
    "になる. ただし, 右辺の $(\\mu,v)\\in\\R\\times\\R_{>0}$ に関する積分は $\\infty$ になるので, この事前分布はimproperである.\n",
    "\n",
    "逆ガンマ正規分布の密度函数\n",
    "\n",
    "$$\n",
    "p_\\op{InverseGammaNormal}(\\mu,v|\\mu_*, v_*, \\kappa, \\theta) \\propto\n",
    "v^{-(\\kappa+1/2)-1}\n",
    "\\exp\\left(-\\frac{1}{v}\\left(\\theta + \\frac{1}{2v_*}(\\mu-\\mu_*)^2\\right)\\right).\n",
    "$$\n",
    "\n",
    "と比較すると, 平均と対数分散について一様な事前分布に対応する共役事前分布のパラメータ値は形式的に次になることがわかる:\n",
    "\n",
    "$$\n",
    "\\kappa \\to -\\frac{1}{2}, \\quad\n",
    "\\theta \\to 0, \\quad\n",
    "v_* \\to \\infty.\n",
    "$$\n",
    "\n",
    "このとき, Bayes更新後のパラメータの公式は次のようになる:\n",
    "\n",
    "$$\n",
    "\\tilde\\kappa = \\frac{n-1}{2}, \\quad\n",
    "\\tilde\\theta = \\frac{n\\sigmahat^2}{2}, \\quad\n",
    "\\tilde\\mu_* = \\ybar, \\quad\n",
    "\\tilde v_* = \\frac{1}{n}.\n",
    "$$\n",
    "\n",
    "この場合には\n",
    "\n",
    "$$\n",
    "\\frac{\\tilde\\theta}{\\tilde\\kappa} = \\frac{n\\sigmahat^2}{n-1} = s^2, \\quad\n",
    "\\tilde v_* = \\frac{1}{n}, \\quad\n",
    "2\\tilde\\kappa = n-1.\n",
    "$$\n",
    "\n",
    "ここで, $s^2$ はデータの数値 $y_1,\\ldots,y_n$ の不偏分散\n",
    "\n",
    "$$\n",
    "s^2 = \\frac{1}{n-1}\\sum_{i=1}^n(y_i - \\ybar)^2 =\n",
    "\\frac{n\\sigmahat^2}{n-1} > \\sigmahat^2\n",
    "$$\n",
    "\n",
    "であり, $s$ はその平方根である.\n",
    "\n",
    "ゆえに, $\\mu$ に関する周辺事後分布は\n",
    "\n",
    "$$\n",
    "\\mu \\sim\n",
    "\\ybar + \\frac{s}{\\sqrt{n}}\\;\\op{TDist}(n-1)\n",
    "$$\n",
    "\n",
    "になり, $y_\\op{new}$ に関する事後予測分布は次になる:\n",
    "\n",
    "$$\n",
    "y_\\op{new} \\sim\n",
    "\\ybar + s\\sqrt{1+\\frac{1}{n}}\\;\\op{TDist}(n-1).\n",
    "$$\n",
    "\n",
    "したがって, 前節の結果と比較すると, Jeffreys事前分布の事後分布と予測分布による区間推定よりもこの場合の区間推定は少し広くなる."
   ]
  },
  {
   "cell_type": "markdown",
   "id": "4b937176",
   "metadata": {},
   "source": [
    "### 平均と対数分散について一様な事前分布の場合の結果の数値的確認"
   ]
  },
  {
   "cell_type": "code",
   "execution_count": 9,
   "id": "a2b72fd0",
   "metadata": {},
   "outputs": [
    {
     "data": {
      "text/plain": [
       "normaldistmodel_flat (generic function with 2 methods)"
      ]
     },
     "execution_count": 9,
     "metadata": {},
     "output_type": "execute_result"
    }
   ],
   "source": [
    "@model function normaldistmodel_flat(y)\n",
    "    log_v ~ Flat()\n",
    "    σ² = exp(log_v)\n",
    "    μ ~ Flat()\n",
    "    y ~ MvNormal(fill(μ, length(y)), σ²*I)\n",
    "end"
   ]
  },
  {
   "cell_type": "code",
   "execution_count": 10,
   "id": "0eb93034",
   "metadata": {},
   "outputs": [
    {
     "data": {
      "text/plain": [
       "5-element Vector{Float64}:\n",
       " 11.842482465802226\n",
       "  6.259923440993461\n",
       "  9.034841005068056\n",
       " 10.488612932484408\n",
       "  8.350869289000904"
      ]
     },
     "execution_count": 10,
     "metadata": {},
     "output_type": "execute_result"
    }
   ],
   "source": [
    "μ_true, σ_true, n = 10.0, 3.0, 5\n",
    "y = rand(Normal(μ_true, σ_true), n)"
   ]
  },
  {
   "cell_type": "code",
   "execution_count": 11,
   "id": "3b201e17",
   "metadata": {},
   "outputs": [
    {
     "name": "stderr",
     "output_type": "stream",
     "text": [
      "┌ Info: Found initial step size\n",
      "│   ϵ = 0.8\n",
      "└ @ Turing.Inference D:\\.julia\\packages\\Turing\\szPqN\\src\\inference\\hmc.jl:191\n",
      "┌ Info: Found initial step size\n",
      "│   ϵ = 0.8\n",
      "└ @ Turing.Inference D:\\.julia\\packages\\Turing\\szPqN\\src\\inference\\hmc.jl:191\n",
      "┌ Info: Found initial step size\n",
      "│   ϵ = 0.2\n",
      "└ @ Turing.Inference D:\\.julia\\packages\\Turing\\szPqN\\src\\inference\\hmc.jl:191\n",
      "┌ Info: Found initial step size\n",
      "│   ϵ = 0.05\n",
      "└ @ Turing.Inference D:\\.julia\\packages\\Turing\\szPqN\\src\\inference\\hmc.jl:191\n",
      "┌ Info: Found initial step size\n",
      "│   ϵ = 0.4\n",
      "└ @ Turing.Inference D:\\.julia\\packages\\Turing\\szPqN\\src\\inference\\hmc.jl:191\n",
      "┌ Info: Found initial step size\n",
      "│   ϵ = 0.4\n",
      "└ @ Turing.Inference D:\\.julia\\packages\\Turing\\szPqN\\src\\inference\\hmc.jl:191\n",
      "┌ Info: Found initial step size\n",
      "│   ϵ = 0.05\n",
      "└ @ Turing.Inference D:\\.julia\\packages\\Turing\\szPqN\\src\\inference\\hmc.jl:191\n",
      "┌ Info: Found initial step size\n",
      "│   ϵ = 0.4\n",
      "└ @ Turing.Inference D:\\.julia\\packages\\Turing\\szPqN\\src\\inference\\hmc.jl:191\n",
      "┌ Info: Found initial step size\n",
      "│   ϵ = 0.4\n",
      "└ @ Turing.Inference D:\\.julia\\packages\\Turing\\szPqN\\src\\inference\\hmc.jl:191\n",
      "┌ Info: Found initial step size\n",
      "│   ϵ = 0.05\n",
      "└ @ Turing.Inference D:\\.julia\\packages\\Turing\\szPqN\\src\\inference\\hmc.jl:191\n"
     ]
    },
    {
     "data": {
      "text/plain": [
       "Chains MCMC chain (100000×14×10 Array{Float64, 3}):\n",
       "\n",
       "Iterations        = 1001:1:101000\n",
       "Number of chains  = 10\n",
       "Samples per chain = 100000\n",
       "Wall duration     = 23.73 seconds\n",
       "Compute duration  = 225.8 seconds\n",
       "parameters        = log_v, μ\n",
       "internals         = lp, n_steps, is_accept, acceptance_rate, log_density, hamiltonian_energy, hamiltonian_energy_error, max_hamiltonian_energy_error, tree_depth, numerical_error, step_size, nom_step_size\n",
       "\n",
       "Summary Statistics\n",
       " \u001b[1m parameters \u001b[0m \u001b[1m    mean \u001b[0m \u001b[1m     std \u001b[0m \u001b[1m naive_se \u001b[0m \u001b[1m    mcse \u001b[0m \u001b[1m         ess \u001b[0m \u001b[1m    rhat \u001b[0m ⋯\n",
       " \u001b[90m     Symbol \u001b[0m \u001b[90m Float64 \u001b[0m \u001b[90m Float64 \u001b[0m \u001b[90m  Float64 \u001b[0m \u001b[90m Float64 \u001b[0m \u001b[90m     Float64 \u001b[0m \u001b[90m Float64 \u001b[0m ⋯\n",
       "\n",
       "       log_v    1.7758    0.8035     0.0008    0.0014   306549.2305    1.0000  ⋯\n",
       "           μ    9.1948    1.3417     0.0013    0.0026   273041.8922    1.0000  ⋯\n",
       "\u001b[36m                                                                1 column omitted\u001b[0m\n",
       "\n",
       "Quantiles\n",
       " \u001b[1m parameters \u001b[0m \u001b[1m    2.5% \u001b[0m \u001b[1m   25.0% \u001b[0m \u001b[1m   50.0% \u001b[0m \u001b[1m   75.0% \u001b[0m \u001b[1m   97.5% \u001b[0m\n",
       " \u001b[90m     Symbol \u001b[0m \u001b[90m Float64 \u001b[0m \u001b[90m Float64 \u001b[0m \u001b[90m Float64 \u001b[0m \u001b[90m Float64 \u001b[0m \u001b[90m Float64 \u001b[0m\n",
       "\n",
       "       log_v    0.4804    1.2071    1.6811    2.2386    3.6177\n",
       "           μ    6.5507    8.4928    9.1944    9.8996   11.8411\n"
      ]
     },
     "execution_count": 11,
     "metadata": {},
     "output_type": "execute_result"
    }
   ],
   "source": [
    "L = 10^5\n",
    "n_threads = min(Threads.nthreads(), 10)\n",
    "chn = sample(normaldistmodel_flat(y), NUTS(), MCMCThreads(), L, n_threads)"
   ]
  },
  {
   "cell_type": "code",
   "execution_count": 12,
   "id": "9e717518",
   "metadata": {},
   "outputs": [
    {
     "name": "stdout",
     "output_type": "stream",
     "text": [
      "confint_tdist(y) = [6.558784143228545, 11.831907510111078]\n"
     ]
    }
   ],
   "source": [
    "@show confint_tdist(y);"
   ]
  },
  {
   "cell_type": "code",
   "execution_count": 13,
   "id": "8f84423d",
   "metadata": {},
   "outputs": [
    {
     "data": {
      "image/png": "[encoded data removed]"
     },
     "execution_count": 13,
     "metadata": {},
     "output_type": "execute_result"
    }
   ],
   "source": [
    "dist_conf = confdist_tdist(y)\n",
    "plot(legend=:outertop)\n",
    "stephist!(vec(chn[:μ]); norm=true, label=\"posterior of μ\")\n",
    "plot!(dist_conf; label=\"ȳ+√(s²/n)TDist(n-1)\", ls=:dash)\n",
    "plot!(xlim=quantile.(dist_conf, (0.002, 0.998)))"
   ]
  },
  {
   "cell_type": "code",
   "execution_count": 14,
   "id": "ad910579",
   "metadata": {},
   "outputs": [
    {
     "data": {
      "image/png": "[encoded data removed]"
     },
     "execution_count": 14,
     "metadata": {},
     "output_type": "execute_result"
    }
   ],
   "source": [
    "pdf_pred(y_new) = mean(pdf(Normal(μ, exp(0.5log_v)), y_new)\n",
    "    for (μ, log_v) in zip(vec(chn[:μ]), vec(chn[:log_v])))\n",
    "dist_pred = preddist_tdist(y)\n",
    "\n",
    "plot(legend=:outertop)\n",
    "plot!(pdf_pred, quantile.(dist_pred, (0.002, 0.998))...;\n",
    "    label=\"prediction distribution\")\n",
    "plot!(y_new -> pdf(dist_pred, y_new);\n",
    "    label=\"ȳ+√(s²(1+1/n))TDist(n-1)\", ls=:dash)"
   ]
  },
  {
   "cell_type": "markdown",
   "id": "61c9770b",
   "metadata": {},
   "source": [
    "### 通常の信頼区間と予測区間との比較\n",
    "\n",
    "通常の $t$ 分布を使う平均の信頼区間と次の値の予測区間の構成では以下を使う:\n",
    "\n",
    "$$\n",
    "\\frac{\\ybar - \\mu}{s\\big/\\!\\sqrt{n}} \\sim\n",
    "\\op{TDist}(n-1), \\quad\n",
    "\\frac{y_\\op{new} - \\ybar}{s\\sqrt{1+1/n}} \\sim\n",
    "\\op{TDist}(n-1).\n",
    "$$\n",
    "\n",
    "ここで, $s^2$ はデータの数値の不偏分散であり, $s$ はその平方根である.\n",
    "\n",
    "したがって, 前節の結果と比較すると, 通常の信頼区間と予測区間は, 平均と対数分散に関する一様事前分布に関する事後分布と予測分布を用いた区間推定に一致する."
   ]
  },
  {
   "cell_type": "markdown",
   "id": "c5fc1a0a",
   "metadata": {},
   "source": [
    "### データの数値から事前分布を決めた場合\n",
    "\n",
    "$a,b>0$ であると仮定する.\n",
    "\n",
    "データの数値から共役事前分布のパラメータを次の条件によって決めたと仮定する:\n",
    "\n",
    "$$\n",
    "E[\\mu] = \\mu_* = \\ybar, \\quad\n",
    "E[v] = \\frac{\\theta}{\\kappa-1} = \\sigmahat^2, \\quad\n",
    "\\var(\\mu) = v_* E[v] = a\\sigmahat^2, \\quad\n",
    "\\var(v) = \\frac{E[v]^2}{\\kappa-2} = b\\sigmahat^4.\n",
    "$$\n",
    "\n",
    "これは次と同値である:\n",
    "\n",
    "$$\n",
    "\\mu_* = \\ybar, \\quad\n",
    "v_* = a, \\quad\n",
    "\\kappa = 2 + \\frac{1}{b}, \\quad\n",
    "\\theta = \\sigmahat^2\\left(1 + \\frac{1}{b}\\right).\n",
    "$$\n",
    "\n",
    "これのBayes更新の結果は以下のようになる:\n",
    "\n",
    "$$\n",
    "\\begin{alignedat}{2}\n",
    "&\n",
    "\\tilde\\kappa = 2 + \\frac{1}{b} + \\frac{n}{2} =\n",
    "\\frac{n}{2}\\left(1 + \\frac{2(2+1/b)}{n}\\right)\n",
    "& &\n",
    "\\to 2 + \\frac{n}{2},\n",
    "\\\\ &\n",
    "\\tilde\\theta =\n",
    "\\sigmahat^2\\left(1 + \\frac{1}{b} + \\frac{n}{2}\\right) + \\frac{n}{2}\\frac{(\\ybar - \\ybar)^2}{1+na} =\n",
    "\\frac{n\\sigmahat^2}{2}\\left(1 + \\frac{2(1+1/b))}{n}\\right)\n",
    "& &\n",
    "\\to \\sigmahat^2\\left(1 + \\frac{n}{2}\\right),\n",
    "\\\\ &\n",
    "\\tilde\\mu_* = \\frac{\\ybar+nv_*\\ybar}{1+nv_*} =\n",
    "\\ybar\n",
    "& &\n",
    "\\to \\ybar,\n",
    "\\\\ &\n",
    "\\tilde v_* = \\frac{a}{1+na} =\n",
    "\\frac{1}{n}\\frac{1}{1+1/(na)}\n",
    "& &\n",
    "\\to \\frac{1}{n}.\n",
    "\\end{alignedat}\n",
    "$$\n",
    "\n",
    "以上における $\\to$ は $a\\to\\infty$, $b\\to\\infty$ での極限を意味する.\n",
    "\n",
    "以上の構成のポイントは, $\\mu_* = \\ybar$ となっているおかげで, $\\tilde\\mu_*$ も $\\tilde\\mu_* = \\ybar$ となってバイアスが消え, さらに, $\\tilde\\theta$ の中の $\\ds\\frac{n}{2}\\frac{(\\ybar - \\mu_*)^2}{1+na}$ の項が消えて, 区間推定の幅が無用に広くならずに済むことである.\n",
    "\n",
    "ただし, この場合には \n",
    "\n",
    "$$\n",
    "\\frac{\\tilde\\theta}{\\tilde\\kappa} =\n",
    "\\sigmahat^2\\frac{1 + 2(1+1/b)/n}{1 + 2(2+1/b)/n} < \\sigmahat^2, \\quad\n",
    "v_* = \\frac{1}{n}\\frac{1}{1+1/(na)} < \\frac{1}{n}\n",
    "$$\n",
    "\n",
    "なので, 区間推定の幅はJeffreys事前分布の場合よりも少し狭くなる.\n",
    "\n",
    "しかし, $n$ が大きければそれらの違いは小さくなる."
   ]
  },
  {
   "cell_type": "code",
   "execution_count": 15,
   "id": "aa740dc5",
   "metadata": {},
   "outputs": [
    {
     "data": {
      "text/plain": [
       "preddist (generic function with 1 method)"
      ]
     },
     "execution_count": 15,
     "metadata": {},
     "output_type": "execute_result"
    }
   ],
   "source": [
    "function posterior(y;\n",
    "        a = 2.5, b = 2.5, n = length(y), ȳ = mean(y), σ̂² = var(y; corrected=false),\n",
    "    )\n",
    "    μ_star = ȳ\n",
    "    v_star = a/(1 + n*a)\n",
    "    κ = 2 + 1/b + n/2\n",
    "    θ = σ̂²*(1 + 1/b + n/2)\n",
    "    (μ_star, v_star, κ, θ)\n",
    "end\n",
    "\n",
    "postdist_μ(μ_star, v_star, κ, θ) = μ_star + √(θ/κ * v_star) * TDist(2κ)\n",
    "preddist(μ_star, v_star, κ, θ) = μ_star + √(θ/κ * (1 + v_star)) * TDist(2κ)"
   ]
  },
  {
   "cell_type": "markdown",
   "id": "397db255",
   "metadata": {},
   "source": [
    "### n = 5 ではデフォルト事前分布の場合と無情報事前分布の場合の結果が結構違う."
   ]
  },
  {
   "cell_type": "code",
   "execution_count": 16,
   "id": "bfc75d54",
   "metadata": {},
   "outputs": [
    {
     "data": {
      "text/plain": [
       "normaldistmodel (generic function with 2 methods)"
      ]
     },
     "execution_count": 16,
     "metadata": {},
     "output_type": "execute_result"
    }
   ],
   "source": [
    "@model function normaldistmodel(y;\n",
    "        a = 2.5, b = 2.5, ȳ = mean(y), σ̂² = var(y; corrected=false),\n",
    "        μ_star = ȳ, v_star = a, κ = 2 + 1/b, θ = σ̂²*(1 + 1/b)\n",
    "    )\n",
    "    σ² ~ InverseGamma(κ, θ)\n",
    "    μ ~ Normal(μ_star, √(v_star * σ²))\n",
    "    y ~ MvNormal(fill(μ, length(y)), σ²*I)\n",
    "end"
   ]
  },
  {
   "cell_type": "code",
   "execution_count": 17,
   "id": "9c454b9b",
   "metadata": {},
   "outputs": [
    {
     "data": {
      "text/plain": [
       "5-element Vector{Float64}:\n",
       " 11.842482465802226\n",
       "  6.259923440993461\n",
       "  9.034841005068056\n",
       " 10.488612932484408\n",
       "  8.350869289000904"
      ]
     },
     "execution_count": 17,
     "metadata": {},
     "output_type": "execute_result"
    }
   ],
   "source": [
    "y"
   ]
  },
  {
   "cell_type": "code",
   "execution_count": 18,
   "id": "4494a456",
   "metadata": {
    "scrolled": false
   },
   "outputs": [
    {
     "name": "stderr",
     "output_type": "stream",
     "text": [
      "┌ Info: Found initial step size\n",
      "│   ϵ = 0.4\n",
      "└ @ Turing.Inference D:\\.julia\\packages\\Turing\\szPqN\\src\\inference\\hmc.jl:191\n",
      "┌ Info: Found initial step size\n",
      "│   ϵ = 0.2\n",
      "└ @ Turing.Inference D:\\.julia\\packages\\Turing\\szPqN\\src\\inference\\hmc.jl:191\n",
      "┌ Info: Found initial step size\n",
      "│   ϵ = 0.8\n",
      "└ @ Turing.Inference D:\\.julia\\packages\\Turing\\szPqN\\src\\inference\\hmc.jl:191\n",
      "┌ Info: Found initial step size\n",
      "│   ϵ = 0.05\n",
      "└ @ Turing.Inference D:\\.julia\\packages\\Turing\\szPqN\\src\\inference\\hmc.jl:191\n",
      "┌ Info: Found initial step size\n",
      "│   ϵ = 0.4\n",
      "└ @ Turing.Inference D:\\.julia\\packages\\Turing\\szPqN\\src\\inference\\hmc.jl:191\n",
      "┌ Info: Found initial step size\n",
      "│   ϵ = 0.2\n",
      "└ @ Turing.Inference D:\\.julia\\packages\\Turing\\szPqN\\src\\inference\\hmc.jl:191\n",
      "┌ Info: Found initial step size\n",
      "│   ϵ = 0.05\n",
      "└ @ Turing.Inference D:\\.julia\\packages\\Turing\\szPqN\\src\\inference\\hmc.jl:191\n",
      "┌ Info: Found initial step size\n",
      "│   ϵ = 0.05\n",
      "└ @ Turing.Inference D:\\.julia\\packages\\Turing\\szPqN\\src\\inference\\hmc.jl:191\n",
      "┌ Info: Found initial step size\n",
      "│   ϵ = 0.8\n",
      "└ @ Turing.Inference D:\\.julia\\packages\\Turing\\szPqN\\src\\inference\\hmc.jl:191\n",
      "┌ Info: Found initial step size\n",
      "│   ϵ = 0.05\n",
      "└ @ Turing.Inference D:\\.julia\\packages\\Turing\\szPqN\\src\\inference\\hmc.jl:191\n",
      "┌ Warning: The current proposal will be rejected due to numerical error(s).\n",
      "│   isfinite.((θ, r, ℓπ, ℓκ)) = (true, false, false, false)\n",
      "└ @ AdvancedHMC D:\\.julia\\packages\\AdvancedHMC\\51xgc\\src\\hamiltonian.jl:47\n"
     ]
    },
    {
     "data": {
      "text/plain": [
       "Chains MCMC chain (100000×14×10 Array{Float64, 3}):\n",
       "\n",
       "Iterations        = 1001:1:101000\n",
       "Number of chains  = 10\n",
       "Samples per chain = 100000\n",
       "Wall duration     = 21.81 seconds\n",
       "Compute duration  = 175.57 seconds\n",
       "parameters        = σ², μ\n",
       "internals         = lp, n_steps, is_accept, acceptance_rate, log_density, hamiltonian_energy, hamiltonian_energy_error, max_hamiltonian_energy_error, tree_depth, numerical_error, step_size, nom_step_size\n",
       "\n",
       "Summary Statistics\n",
       " \u001b[1m parameters \u001b[0m \u001b[1m    mean \u001b[0m \u001b[1m     std \u001b[0m \u001b[1m naive_se \u001b[0m \u001b[1m    mcse \u001b[0m \u001b[1m         ess \u001b[0m \u001b[1m    rhat \u001b[0m ⋯\n",
       " \u001b[90m     Symbol \u001b[0m \u001b[90m Float64 \u001b[0m \u001b[90m Float64 \u001b[0m \u001b[90m  Float64 \u001b[0m \u001b[90m Float64 \u001b[0m \u001b[90m     Float64 \u001b[0m \u001b[90m Float64 \u001b[0m ⋯\n",
       "\n",
       "          σ²    3.6076    2.1076     0.0021    0.0030   513714.3064    1.0000  ⋯\n",
       "           μ    9.1964    0.8180     0.0008    0.0011   598792.3096    1.0000  ⋯\n",
       "\u001b[36m                                                                1 column omitted\u001b[0m\n",
       "\n",
       "Quantiles\n",
       " \u001b[1m parameters \u001b[0m \u001b[1m    2.5% \u001b[0m \u001b[1m   25.0% \u001b[0m \u001b[1m   50.0% \u001b[0m \u001b[1m   75.0% \u001b[0m \u001b[1m   97.5% \u001b[0m\n",
       " \u001b[90m     Symbol \u001b[0m \u001b[90m Float64 \u001b[0m \u001b[90m Float64 \u001b[0m \u001b[90m Float64 \u001b[0m \u001b[90m Float64 \u001b[0m \u001b[90m Float64 \u001b[0m\n",
       "\n",
       "          σ²    1.3934    2.2838    3.0791    4.2831    8.9695\n",
       "           μ    7.5687    8.6849    9.1958    9.7077   10.8263\n"
      ]
     },
     "execution_count": 18,
     "metadata": {},
     "output_type": "execute_result"
    }
   ],
   "source": [
    "chn = sample(normaldistmodel(y), NUTS(), MCMCThreads(), L, n_threads)"
   ]
  },
  {
   "cell_type": "code",
   "execution_count": 19,
   "id": "089ca34a",
   "metadata": {},
   "outputs": [
    {
     "name": "stdout",
     "output_type": "stream",
     "text": [
      "confint_tdist(y) = [6.558784143228545, 11.831907510111078]\n"
     ]
    }
   ],
   "source": [
    "@show confint_tdist(y);"
   ]
  },
  {
   "cell_type": "code",
   "execution_count": 20,
   "id": "eebfb6de",
   "metadata": {},
   "outputs": [
    {
     "data": {
      "image/png": "[encoded data removed]"
     },
     "execution_count": 20,
     "metadata": {},
     "output_type": "execute_result"
    }
   ],
   "source": [
    "dist_conf = confdist_tdist(y)\n",
    "dist_post = postdist_μ(posterior(y)...)\n",
    "plot(legend=:outertop)\n",
    "stephist!(vec(chn[:μ]); norm=true, label=\"MCMC\")\n",
    "plot!(dist_post; label=\"posterior of μ\", ls=:dash)\n",
    "plot!(dist_conf; label=\"ȳ+√(s²/n)TDist(n-1)\", ls=:dashdot)\n",
    "plot!(xlim=quantile.(dist_conf, (0.002, 0.998)))"
   ]
  },
  {
   "cell_type": "code",
   "execution_count": 21,
   "id": "890f558c",
   "metadata": {},
   "outputs": [
    {
     "data": {
      "image/png": "[encoded data removed]"
     },
     "execution_count": 21,
     "metadata": {},
     "output_type": "execute_result"
    }
   ],
   "source": [
    "pdf_pred(y_new) = mean(pdf(Normal(μ, √σ²), y_new)\n",
    "    for (μ, σ²) in zip(vec(chn[:μ]), vec(chn[:σ²])))\n",
    "dist_pred_bayes = preddist(posterior(y)...)\n",
    "dist_pred_tdist = preddist_tdist(y)\n",
    "#xlim = quantile.(dist_pred_bayes, (0.002, 0.998))\n",
    "xlim = quantile.(dist_pred_tdist, (0.002, 0.998))\n",
    "\n",
    "plot(legend=:outertop)\n",
    "plot!(pdf_pred, xlim...;\n",
    "    label=\"MCMC\")\n",
    "plot!(dist_pred_bayes, xlim...;\n",
    "    label=\"prediction distribution\", ls=:dash)\n",
    "plot!(dist_pred_tdist, xlim...;\n",
    "    label=\"ȳ+√(s²(1+1/n))TDist(n-1)\", ls=:dashdot)"
   ]
  },
  {
   "cell_type": "markdown",
   "id": "b340c9cc",
   "metadata": {},
   "source": [
    "### n = 20 ではデフォルト事前分布の場合と無情報事前分布の場合の結果が近付く."
   ]
  },
  {
   "cell_type": "code",
   "execution_count": 22,
   "id": "0b92b6b3",
   "metadata": {},
   "outputs": [
    {
     "name": "stdout",
     "output_type": "stream",
     "text": [
      "dist_true = Normal(μ_true, σ_true) = Normal{Float64}(μ=10000.0, σ=100.0)\n",
      "n = 20\n"
     ]
    }
   ],
   "source": [
    "# データの数値をかなり大きくする.\n",
    "μ_true, σ_true, n = 1e4, 1e2, 20\n",
    "@show dist_true = Normal(μ_true, σ_true) n\n",
    "y = rand(dist_true, n);"
   ]
  },
  {
   "cell_type": "code",
   "execution_count": 23,
   "id": "b948ccf5",
   "metadata": {
    "scrolled": false
   },
   "outputs": [
    {
     "name": "stderr",
     "output_type": "stream",
     "text": [
      "┌ Warning: The current proposal will be rejected due to numerical error(s).\n",
      "│   isfinite.((θ, r, ℓπ, ℓκ)) = (true, false, false, false)\n",
      "└ @ AdvancedHMC D:\\.julia\\packages\\AdvancedHMC\\51xgc\\src\\hamiltonian.jl:47\n",
      "┌ Warning: The current proposal will be rejected due to numerical error(s).\n",
      "│   isfinite.((θ, r, ℓπ, ℓκ)) = (true, false, false, false)\n",
      "└ @ AdvancedHMC D:\\.julia\\packages\\AdvancedHMC\\51xgc\\src\\hamiltonian.jl:47\n",
      "┌ Warning: The current proposal will be rejected due to numerical error(s).\n",
      "│   isfinite.((θ, r, ℓπ, ℓκ)) = (true, false, false, false)\n",
      "└ @ AdvancedHMC D:\\.julia\\packages\\AdvancedHMC\\51xgc\\src\\hamiltonian.jl:47\n",
      "┌ Warning: The current proposal will be rejected due to numerical error(s).\n",
      "│   isfinite.((θ, r, ℓπ, ℓκ)) = (true, false, false, false)\n",
      "└ @ AdvancedHMC D:\\.julia\\packages\\AdvancedHMC\\51xgc\\src\\hamiltonian.jl:47\n",
      "┌ Warning: The current proposal will be rejected due to numerical error(s).\n",
      "│   isfinite.((θ, r, ℓπ, ℓκ)) = (true, false, false, false)\n",
      "└ @ AdvancedHMC D:\\.julia\\packages\\AdvancedHMC\\51xgc\\src\\hamiltonian.jl:47\n",
      "┌ Warning: The current proposal will be rejected due to numerical error(s).\n",
      "│   isfinite.((θ, r, ℓπ, ℓκ)) = (true, false, false, false)\n",
      "└ @ AdvancedHMC D:\\.julia\\packages\\AdvancedHMC\\51xgc\\src\\hamiltonian.jl:47\n",
      "┌ Warning: The current proposal will be rejected due to numerical error(s).\n",
      "│   isfinite.((θ, r, ℓπ, ℓκ)) = (true, false, false, false)\n",
      "└ @ AdvancedHMC D:\\.julia\\packages\\AdvancedHMC\\51xgc\\src\\hamiltonian.jl:47\n",
      "┌ Warning: The current proposal will be rejected due to numerical error(s).\n",
      "│   isfinite.((θ, r, ℓπ, ℓκ)) = (true, false, false, false)\n",
      "└ @ AdvancedHMC D:\\.julia\\packages\\AdvancedHMC\\51xgc\\src\\hamiltonian.jl:47\n",
      "┌ Warning: The current proposal will be rejected due to numerical error(s).\n",
      "│   isfinite.((θ, r, ℓπ, ℓκ)) = (true, false, false, false)\n",
      "└ @ AdvancedHMC D:\\.julia\\packages\\AdvancedHMC\\51xgc\\src\\hamiltonian.jl:47\n",
      "┌ Warning: The current proposal will be rejected due to numerical error(s).\n",
      "│   isfinite.((θ, r, ℓπ, ℓκ)) = (true, false, false, false)\n",
      "└ @ AdvancedHMC D:\\.julia\\packages\\AdvancedHMC\\51xgc\\src\\hamiltonian.jl:47\n",
      "┌ Warning: The current proposal will be rejected due to numerical error(s).\n",
      "│   isfinite.((θ, r, ℓπ, ℓκ)) = (true, false, false, false)\n",
      "└ @ AdvancedHMC D:\\.julia\\packages\\AdvancedHMC\\51xgc\\src\\hamiltonian.jl:47\n",
      "┌ Warning: The current proposal will be rejected due to numerical error(s).\n",
      "│   isfinite.((θ, r, ℓπ, ℓκ)) = (true, false, false, false)\n",
      "└ @ AdvancedHMC D:\\.julia\\packages\\AdvancedHMC\\51xgc\\src\\hamiltonian.jl:47\n",
      "┌ Warning: The current proposal will be rejected due to numerical error(s).\n",
      "│   isfinite.((θ, r, ℓπ, ℓκ)) = (true, false, false, false)\n",
      "└ @ AdvancedHMC D:\\.julia\\packages\\AdvancedHMC\\51xgc\\src\\hamiltonian.jl:47\n",
      "┌ Warning: The current proposal will be rejected due to numerical error(s).\n",
      "│   isfinite.((θ, r, ℓπ, ℓκ)) = (true, false, false, false)\n",
      "└ @ AdvancedHMC D:\\.julia\\packages\\AdvancedHMC\\51xgc\\src\\hamiltonian.jl:47\n",
      "┌ Warning: The current proposal will be rejected due to numerical error(s).\n",
      "│   isfinite.((θ, r, ℓπ, ℓκ)) = (true, false, false, false)\n",
      "└ @ AdvancedHMC D:\\.julia\\packages\\AdvancedHMC\\51xgc\\src\\hamiltonian.jl:47\n",
      "┌ Warning: The current proposal will be rejected due to numerical error(s).\n",
      "│   isfinite.((θ, r, ℓπ, ℓκ)) = (true, false, false, false)\n",
      "└ @ AdvancedHMC D:\\.julia\\packages\\AdvancedHMC\\51xgc\\src\\hamiltonian.jl:47\n",
      "┌ Warning: The current proposal will be rejected due to numerical error(s).\n",
      "│   isfinite.((θ, r, ℓπ, ℓκ)) = (true, false, false, false)\n",
      "└ @ AdvancedHMC D:\\.julia\\packages\\AdvancedHMC\\51xgc\\src\\hamiltonian.jl:47\n",
      "┌ Warning: The current proposal will be rejected due to numerical error(s).\n",
      "│   isfinite.((θ, r, ℓπ, ℓκ)) = (true, false, false, false)\n",
      "└ @ AdvancedHMC D:\\.julia\\packages\\AdvancedHMC\\51xgc\\src\\hamiltonian.jl:47\n",
      "┌ Warning: The current proposal will be rejected due to numerical error(s).\n",
      "│   isfinite.((θ, r, ℓπ, ℓκ)) = (true, false, false, false)\n",
      "└ @ AdvancedHMC D:\\.julia\\packages\\AdvancedHMC\\51xgc\\src\\hamiltonian.jl:47\n",
      "┌ Warning: The current proposal will be rejected due to numerical error(s).\n",
      "│   isfinite.((θ, r, ℓπ, ℓκ)) = (true, false, false, false)\n",
      "└ @ AdvancedHMC D:\\.julia\\packages\\AdvancedHMC\\51xgc\\src\\hamiltonian.jl:47\n",
      "┌ Warning: The current proposal will be rejected due to numerical error(s).\n",
      "│   isfinite.((θ, r, ℓπ, ℓκ)) = (true, false, false, false)\n",
      "└ @ AdvancedHMC D:\\.julia\\packages\\AdvancedHMC\\51xgc\\src\\hamiltonian.jl:47\n",
      "┌ Warning: The current proposal will be rejected due to numerical error(s).\n",
      "│   isfinite.((θ, r, ℓπ, ℓκ)) = (true, false, false, false)\n",
      "└ @ AdvancedHMC D:\\.julia\\packages\\AdvancedHMC\\51xgc\\src\\hamiltonian.jl:47\n",
      "┌ Warning: The current proposal will be rejected due to numerical error(s).\n",
      "│   isfinite.((θ, r, ℓπ, ℓκ)) = (true, false, false, false)\n",
      "└ @ AdvancedHMC D:\\.julia\\packages\\AdvancedHMC\\51xgc\\src\\hamiltonian.jl:47\n",
      "┌ Warning: The current proposal will be rejected due to numerical error(s).\n",
      "│   isfinite.((θ, r, ℓπ, ℓκ)) = (true, false, false, false)\n",
      "└ @ AdvancedHMC D:\\.julia\\packages\\AdvancedHMC\\51xgc\\src\\hamiltonian.jl:47\n",
      "┌ Warning: The current proposal will be rejected due to numerical error(s).\n",
      "│   isfinite.((θ, r, ℓπ, ℓκ)) = (true, false, false, false)\n",
      "└ @ AdvancedHMC D:\\.julia\\packages\\AdvancedHMC\\51xgc\\src\\hamiltonian.jl:47\n",
      "┌ Warning: The current proposal will be rejected due to numerical error(s).\n",
      "│   isfinite.((θ, r, ℓπ, ℓκ)) = (true, false, false, false)\n",
      "└ @ AdvancedHMC D:\\.julia\\packages\\AdvancedHMC\\51xgc\\src\\hamiltonian.jl:47\n",
      "┌ Warning: The current proposal will be rejected due to numerical error(s).\n",
      "│   isfinite.((θ, r, ℓπ, ℓκ)) = (true, false, false, false)\n",
      "└ @ AdvancedHMC D:\\.julia\\packages\\AdvancedHMC\\51xgc\\src\\hamiltonian.jl:47\n",
      "┌ Warning: The current proposal will be rejected due to numerical error(s).\n",
      "│   isfinite.((θ, r, ℓπ, ℓκ)) = (true, false, false, false)\n",
      "└ @ AdvancedHMC D:\\.julia\\packages\\AdvancedHMC\\51xgc\\src\\hamiltonian.jl:47\n",
      "┌ Warning: The current proposal will be rejected due to numerical error(s).\n",
      "│   isfinite.((θ, r, ℓπ, ℓκ)) = (true, false, false, false)\n",
      "└ @ AdvancedHMC D:\\.julia\\packages\\AdvancedHMC\\51xgc\\src\\hamiltonian.jl:47\n",
      "┌ Warning: The current proposal will be rejected due to numerical error(s).\n",
      "│   isfinite.((θ, r, ℓπ, ℓκ)) = (true, false, false, false)\n",
      "└ @ AdvancedHMC D:\\.julia\\packages\\AdvancedHMC\\51xgc\\src\\hamiltonian.jl:47\n",
      "┌ Warning: The current proposal will be rejected due to numerical error(s).\n",
      "│   isfinite.((θ, r, ℓπ, ℓκ)) = (true, false, false, false)\n",
      "└ @ AdvancedHMC D:\\.julia\\packages\\AdvancedHMC\\51xgc\\src\\hamiltonian.jl:47\n",
      "┌ Warning: The current proposal will be rejected due to numerical error(s).\n",
      "│   isfinite.((θ, r, ℓπ, ℓκ)) = (true, false, false, false)\n",
      "└ @ AdvancedHMC D:\\.julia\\packages\\AdvancedHMC\\51xgc\\src\\hamiltonian.jl:47\n",
      "┌ Warning: The current proposal will be rejected due to numerical error(s).\n",
      "│   isfinite.((θ, r, ℓπ, ℓκ)) = (true, false, false, false)\n",
      "└ @ AdvancedHMC D:\\.julia\\packages\\AdvancedHMC\\51xgc\\src\\hamiltonian.jl:47\n",
      "┌ Warning: The current proposal will be rejected due to numerical error(s).\n",
      "│   isfinite.((θ, r, ℓπ, ℓκ)) = (true, false, false, false)\n",
      "└ @ AdvancedHMC D:\\.julia\\packages\\AdvancedHMC\\51xgc\\src\\hamiltonian.jl:47\n",
      "┌ Warning: The current proposal will be rejected due to numerical error(s).\n",
      "│   isfinite.((θ, r, ℓπ, ℓκ)) = (true, false, false, false)\n",
      "└ @ AdvancedHMC D:\\.julia\\packages\\AdvancedHMC\\51xgc\\src\\hamiltonian.jl:47\n",
      "┌ Warning: The current proposal will be rejected due to numerical error(s).\n",
      "│   isfinite.((θ, r, ℓπ, ℓκ)) = (true, false, false, false)\n",
      "└ @ AdvancedHMC D:\\.julia\\packages\\AdvancedHMC\\51xgc\\src\\hamiltonian.jl:47\n",
      "┌ Warning: The current proposal will be rejected due to numerical error(s).\n",
      "│   isfinite.((θ, r, ℓπ, ℓκ)) = (true, false, false, false)\n",
      "└ @ AdvancedHMC D:\\.julia\\packages\\AdvancedHMC\\51xgc\\src\\hamiltonian.jl:47\n",
      "┌ Warning: The current proposal will be rejected due to numerical error(s).\n",
      "│   isfinite.((θ, r, ℓπ, ℓκ)) = (true, false, false, false)\n",
      "└ @ AdvancedHMC D:\\.julia\\packages\\AdvancedHMC\\51xgc\\src\\hamiltonian.jl:47\n",
      "┌ Warning: The current proposal will be rejected due to numerical error(s).\n",
      "│   isfinite.((θ, r, ℓπ, ℓκ)) = (true, false, false, false)\n",
      "└ @ AdvancedHMC D:\\.julia\\packages\\AdvancedHMC\\51xgc\\src\\hamiltonian.jl:47\n",
      "┌ Warning: The current proposal will be rejected due to numerical error(s).\n",
      "│   isfinite.((θ, r, ℓπ, ℓκ)) = (true, false, false, false)\n",
      "└ @ AdvancedHMC D:\\.julia\\packages\\AdvancedHMC\\51xgc\\src\\hamiltonian.jl:47\n",
      "┌ Warning: The current proposal will be rejected due to numerical error(s).\n",
      "│   isfinite.((θ, r, ℓπ, ℓκ)) = (true, false, false, false)\n",
      "└ @ AdvancedHMC D:\\.julia\\packages\\AdvancedHMC\\51xgc\\src\\hamiltonian.jl:47\n",
      "┌ Warning: The current proposal will be rejected due to numerical error(s).\n",
      "│   isfinite.((θ, r, ℓπ, ℓκ)) = (true, false, false, false)\n",
      "└ @ AdvancedHMC D:\\.julia\\packages\\AdvancedHMC\\51xgc\\src\\hamiltonian.jl:47\n",
      "┌ Warning: The current proposal will be rejected due to numerical error(s).\n",
      "│   isfinite.((θ, r, ℓπ, ℓκ)) = (true, false, false, false)\n",
      "└ @ AdvancedHMC D:\\.julia\\packages\\AdvancedHMC\\51xgc\\src\\hamiltonian.jl:47\n",
      "┌ Warning: The current proposal will be rejected due to numerical error(s).\n",
      "│   isfinite.((θ, r, ℓπ, ℓκ)) = (true, false, false, false)\n",
      "└ @ AdvancedHMC D:\\.julia\\packages\\AdvancedHMC\\51xgc\\src\\hamiltonian.jl:47\n",
      "┌ Warning: The current proposal will be rejected due to numerical error(s).\n",
      "│   isfinite.((θ, r, ℓπ, ℓκ)) = (true, false, false, false)\n",
      "└ @ AdvancedHMC D:\\.julia\\packages\\AdvancedHMC\\51xgc\\src\\hamiltonian.jl:47\n",
      "┌ Warning: The current proposal will be rejected due to numerical error(s).\n",
      "│   isfinite.((θ, r, ℓπ, ℓκ)) = (true, false, false, false)\n",
      "└ @ AdvancedHMC D:\\.julia\\packages\\AdvancedHMC\\51xgc\\src\\hamiltonian.jl:47\n"
     ]
    },
    {
     "name": "stderr",
     "output_type": "stream",
     "text": [
      "┌ Warning: The current proposal will be rejected due to numerical error(s).\n",
      "│   isfinite.((θ, r, ℓπ, ℓκ)) = (true, false, false, false)\n",
      "└ @ AdvancedHMC D:\\.julia\\packages\\AdvancedHMC\\51xgc\\src\\hamiltonian.jl:47\n",
      "┌ Warning: The current proposal will be rejected due to numerical error(s).\n",
      "│   isfinite.((θ, r, ℓπ, ℓκ)) = (true, false, false, false)\n",
      "└ @ AdvancedHMC D:\\.julia\\packages\\AdvancedHMC\\51xgc\\src\\hamiltonian.jl:47\n",
      "┌ Warning: The current proposal will be rejected due to numerical error(s).\n",
      "│   isfinite.((θ, r, ℓπ, ℓκ)) = (true, false, false, false)\n",
      "└ @ AdvancedHMC D:\\.julia\\packages\\AdvancedHMC\\51xgc\\src\\hamiltonian.jl:47\n",
      "┌ Warning: The current proposal will be rejected due to numerical error(s).\n",
      "│   isfinite.((θ, r, ℓπ, ℓκ)) = (true, false, false, false)\n",
      "└ @ AdvancedHMC D:\\.julia\\packages\\AdvancedHMC\\51xgc\\src\\hamiltonian.jl:47\n",
      "┌ Warning: The current proposal will be rejected due to numerical error(s).\n",
      "│   isfinite.((θ, r, ℓπ, ℓκ)) = (true, false, false, false)\n",
      "└ @ AdvancedHMC D:\\.julia\\packages\\AdvancedHMC\\51xgc\\src\\hamiltonian.jl:47\n",
      "┌ Warning: The current proposal will be rejected due to numerical error(s).\n",
      "│   isfinite.((θ, r, ℓπ, ℓκ)) = (true, false, false, false)\n",
      "└ @ AdvancedHMC D:\\.julia\\packages\\AdvancedHMC\\51xgc\\src\\hamiltonian.jl:47\n",
      "┌ Warning: The current proposal will be rejected due to numerical error(s).\n",
      "│   isfinite.((θ, r, ℓπ, ℓκ)) = (true, false, false, false)\n",
      "└ @ AdvancedHMC D:\\.julia\\packages\\AdvancedHMC\\51xgc\\src\\hamiltonian.jl:47\n",
      "┌ Warning: The current proposal will be rejected due to numerical error(s).\n",
      "│   isfinite.((θ, r, ℓπ, ℓκ)) = (true, false, false, false)\n",
      "└ @ AdvancedHMC D:\\.julia\\packages\\AdvancedHMC\\51xgc\\src\\hamiltonian.jl:47\n",
      "┌ Warning: The current proposal will be rejected due to numerical error(s).\n",
      "│   isfinite.((θ, r, ℓπ, ℓκ)) = (true, false, false, false)\n",
      "└ @ AdvancedHMC D:\\.julia\\packages\\AdvancedHMC\\51xgc\\src\\hamiltonian.jl:47\n",
      "┌ Warning: The current proposal will be rejected due to numerical error(s).\n",
      "│   isfinite.((θ, r, ℓπ, ℓκ)) = (true, false, false, false)\n",
      "└ @ AdvancedHMC D:\\.julia\\packages\\AdvancedHMC\\51xgc\\src\\hamiltonian.jl:47\n",
      "┌ Warning: The current proposal will be rejected due to numerical error(s).\n",
      "│   isfinite.((θ, r, ℓπ, ℓκ)) = (true, false, false, false)\n",
      "└ @ AdvancedHMC D:\\.julia\\packages\\AdvancedHMC\\51xgc\\src\\hamiltonian.jl:47\n",
      "┌ Warning: The current proposal will be rejected due to numerical error(s).\n",
      "│   isfinite.((θ, r, ℓπ, ℓκ)) = (true, false, false, false)\n",
      "└ @ AdvancedHMC D:\\.julia\\packages\\AdvancedHMC\\51xgc\\src\\hamiltonian.jl:47\n",
      "┌ Warning: The current proposal will be rejected due to numerical error(s).\n",
      "│   isfinite.((θ, r, ℓπ, ℓκ)) = (true, false, false, false)\n",
      "└ @ AdvancedHMC D:\\.julia\\packages\\AdvancedHMC\\51xgc\\src\\hamiltonian.jl:47\n",
      "┌ Warning: The current proposal will be rejected due to numerical error(s).\n",
      "│   isfinite.((θ, r, ℓπ, ℓκ)) = (true, false, false, false)\n",
      "└ @ AdvancedHMC D:\\.julia\\packages\\AdvancedHMC\\51xgc\\src\\hamiltonian.jl:47\n",
      "┌ Warning: The current proposal will be rejected due to numerical error(s).\n",
      "│   isfinite.((θ, r, ℓπ, ℓκ)) = (true, false, false, false)\n",
      "└ @ AdvancedHMC D:\\.julia\\packages\\AdvancedHMC\\51xgc\\src\\hamiltonian.jl:47\n",
      "┌ Warning: The current proposal will be rejected due to numerical error(s).\n",
      "│   isfinite.((θ, r, ℓπ, ℓκ)) = (true, false, false, false)\n",
      "└ @ AdvancedHMC D:\\.julia\\packages\\AdvancedHMC\\51xgc\\src\\hamiltonian.jl:47\n",
      "┌ Warning: The current proposal will be rejected due to numerical error(s).\n",
      "│   isfinite.((θ, r, ℓπ, ℓκ)) = (true, false, false, false)\n",
      "└ @ AdvancedHMC D:\\.julia\\packages\\AdvancedHMC\\51xgc\\src\\hamiltonian.jl:47\n",
      "┌ Warning: The current proposal will be rejected due to numerical error(s).\n",
      "│   isfinite.((θ, r, ℓπ, ℓκ)) = (true, false, false, false)\n",
      "└ @ AdvancedHMC D:\\.julia\\packages\\AdvancedHMC\\51xgc\\src\\hamiltonian.jl:47\n",
      "┌ Warning: The current proposal will be rejected due to numerical error(s).\n",
      "│   isfinite.((θ, r, ℓπ, ℓκ)) = (true, false, false, false)\n",
      "└ @ AdvancedHMC D:\\.julia\\packages\\AdvancedHMC\\51xgc\\src\\hamiltonian.jl:47\n",
      "┌ Warning: The current proposal will be rejected due to numerical error(s).\n",
      "│   isfinite.((θ, r, ℓπ, ℓκ)) = (true, false, false, false)\n",
      "└ @ AdvancedHMC D:\\.julia\\packages\\AdvancedHMC\\51xgc\\src\\hamiltonian.jl:47\n",
      "┌ Warning: The current proposal will be rejected due to numerical error(s).\n",
      "│   isfinite.((θ, r, ℓπ, ℓκ)) = (true, false, false, false)\n",
      "└ @ AdvancedHMC D:\\.julia\\packages\\AdvancedHMC\\51xgc\\src\\hamiltonian.jl:47\n",
      "┌ Warning: The current proposal will be rejected due to numerical error(s).\n",
      "│   isfinite.((θ, r, ℓπ, ℓκ)) = (true, false, false, false)\n",
      "└ @ AdvancedHMC D:\\.julia\\packages\\AdvancedHMC\\51xgc\\src\\hamiltonian.jl:47\n",
      "┌ Warning: The current proposal will be rejected due to numerical error(s).\n",
      "│   isfinite.((θ, r, ℓπ, ℓκ)) = (true, false, false, false)\n",
      "└ @ AdvancedHMC D:\\.julia\\packages\\AdvancedHMC\\51xgc\\src\\hamiltonian.jl:47\n",
      "┌ Warning: The current proposal will be rejected due to numerical error(s).\n",
      "│   isfinite.((θ, r, ℓπ, ℓκ)) = (true, false, false, false)\n",
      "└ @ AdvancedHMC D:\\.julia\\packages\\AdvancedHMC\\51xgc\\src\\hamiltonian.jl:47\n",
      "┌ Warning: The current proposal will be rejected due to numerical error(s).\n",
      "│   isfinite.((θ, r, ℓπ, ℓκ)) = (true, false, false, false)\n",
      "└ @ AdvancedHMC D:\\.julia\\packages\\AdvancedHMC\\51xgc\\src\\hamiltonian.jl:47\n",
      "┌ Warning: The current proposal will be rejected due to numerical error(s).\n",
      "│   isfinite.((θ, r, ℓπ, ℓκ)) = (true, false, false, false)\n",
      "└ @ AdvancedHMC D:\\.julia\\packages\\AdvancedHMC\\51xgc\\src\\hamiltonian.jl:47\n",
      "┌ Info: Found initial step size\n",
      "│   ϵ = 9.765625e-5\n",
      "└ @ Turing.Inference D:\\.julia\\packages\\Turing\\szPqN\\src\\inference\\hmc.jl:191\n",
      "┌ Warning: The current proposal will be rejected due to numerical error(s).\n",
      "│   isfinite.((θ, r, ℓπ, ℓκ)) = (true, false, false, false)\n",
      "└ @ AdvancedHMC D:\\.julia\\packages\\AdvancedHMC\\51xgc\\src\\hamiltonian.jl:47\n",
      "┌ Warning: The current proposal will be rejected due to numerical error(s).\n",
      "│   isfinite.((θ, r, ℓπ, ℓκ)) = (true, false, false, false)\n",
      "└ @ AdvancedHMC D:\\.julia\\packages\\AdvancedHMC\\51xgc\\src\\hamiltonian.jl:47\n",
      "┌ Warning: The current proposal will be rejected due to numerical error(s).\n",
      "│   isfinite.((θ, r, ℓπ, ℓκ)) = (true, false, false, false)\n",
      "└ @ AdvancedHMC D:\\.julia\\packages\\AdvancedHMC\\51xgc\\src\\hamiltonian.jl:47\n",
      "┌ Warning: The current proposal will be rejected due to numerical error(s).\n",
      "│   isfinite.((θ, r, ℓπ, ℓκ)) = (true, false, false, false)\n",
      "└ @ AdvancedHMC D:\\.julia\\packages\\AdvancedHMC\\51xgc\\src\\hamiltonian.jl:47\n",
      "┌ Warning: The current proposal will be rejected due to numerical error(s).\n",
      "│   isfinite.((θ, r, ℓπ, ℓκ)) = (true, false, false, false)\n",
      "└ @ AdvancedHMC D:\\.julia\\packages\\AdvancedHMC\\51xgc\\src\\hamiltonian.jl:47\n",
      "┌ Warning: The current proposal will be rejected due to numerical error(s).\n",
      "│   isfinite.((θ, r, ℓπ, ℓκ)) = (true, false, false, false)\n",
      "└ @ AdvancedHMC D:\\.julia\\packages\\AdvancedHMC\\51xgc\\src\\hamiltonian.jl:47\n",
      "┌ Warning: The current proposal will be rejected due to numerical error(s).\n",
      "│   isfinite.((θ, r, ℓπ, ℓκ)) = (true, false, false, false)\n",
      "└ @ AdvancedHMC D:\\.julia\\packages\\AdvancedHMC\\51xgc\\src\\hamiltonian.jl:47\n",
      "┌ Info: Found initial step size\n",
      "│   ϵ = 4.8828125e-5\n",
      "└ @ Turing.Inference D:\\.julia\\packages\\Turing\\szPqN\\src\\inference\\hmc.jl:191\n",
      "┌ Warning: The current proposal will be rejected due to numerical error(s).\n",
      "│   isfinite.((θ, r, ℓπ, ℓκ)) = (true, false, false, false)\n",
      "└ @ AdvancedHMC D:\\.julia\\packages\\AdvancedHMC\\51xgc\\src\\hamiltonian.jl:47\n",
      "┌ Info: Found initial step size\n",
      "│   ϵ = 0.0001953125\n",
      "└ @ Turing.Inference D:\\.julia\\packages\\Turing\\szPqN\\src\\inference\\hmc.jl:191\n",
      "┌ Info: Found initial step size\n",
      "│   ϵ = 2.44140625e-5\n",
      "└ @ Turing.Inference D:\\.julia\\packages\\Turing\\szPqN\\src\\inference\\hmc.jl:191\n",
      "┌ Info: Found initial step size\n",
      "│   ϵ = 4.8828125e-5\n",
      "└ @ Turing.Inference D:\\.julia\\packages\\Turing\\szPqN\\src\\inference\\hmc.jl:191\n",
      "┌ Info: Found initial step size\n",
      "│   ϵ = 4.8828125e-5\n",
      "└ @ Turing.Inference D:\\.julia\\packages\\Turing\\szPqN\\src\\inference\\hmc.jl:191\n",
      "┌ Info: Found initial step size\n",
      "│   ϵ = 4.8828125e-5\n",
      "└ @ Turing.Inference D:\\.julia\\packages\\Turing\\szPqN\\src\\inference\\hmc.jl:191\n",
      "┌ Info: Found initial step size\n",
      "│   ϵ = 4.8828125e-5\n",
      "└ @ Turing.Inference D:\\.julia\\packages\\Turing\\szPqN\\src\\inference\\hmc.jl:191\n",
      "┌ Info: Found initial step size\n",
      "│   ϵ = 9.765625e-5\n",
      "└ @ Turing.Inference D:\\.julia\\packages\\Turing\\szPqN\\src\\inference\\hmc.jl:191\n"
     ]
    },
    {
     "name": "stderr",
     "output_type": "stream",
     "text": [
      "┌ Info: Found initial step size\n",
      "│   ϵ = 4.8828125e-5\n",
      "└ @ Turing.Inference D:\\.julia\\packages\\Turing\\szPqN\\src\\inference\\hmc.jl:191\n",
      "\u001b[32mSampling (10 threads): 100%|████████████████████████████| Time: 0:00:00\u001b[39m\n"
     ]
    },
    {
     "data": {
      "text/plain": [
       "Chains MCMC chain (100000×14×10 Array{Float64, 3}):\n",
       "\n",
       "Iterations        = 1001:1:101000\n",
       "Number of chains  = 10\n",
       "Samples per chain = 100000\n",
       "Wall duration     = 17.66 seconds\n",
       "Compute duration  = 151.51 seconds\n",
       "parameters        = σ², μ\n",
       "internals         = lp, n_steps, is_accept, acceptance_rate, log_density, hamiltonian_energy, hamiltonian_energy_error, max_hamiltonian_energy_error, tree_depth, numerical_error, step_size, nom_step_size\n",
       "\n",
       "Summary Statistics\n",
       " \u001b[1m parameters \u001b[0m \u001b[1m       mean \u001b[0m \u001b[1m       std \u001b[0m \u001b[1m naive_se \u001b[0m \u001b[1m    mcse \u001b[0m \u001b[1m         ess \u001b[0m \u001b[1m    \u001b[0m ⋯\n",
       " \u001b[90m     Symbol \u001b[0m \u001b[90m    Float64 \u001b[0m \u001b[90m   Float64 \u001b[0m \u001b[90m  Float64 \u001b[0m \u001b[90m Float64 \u001b[0m \u001b[90m     Float64 \u001b[0m \u001b[90m Flo\u001b[0m ⋯\n",
       "\n",
       "          σ²   11761.4226   3643.0566     3.6431    4.2257   759629.9461    1. ⋯\n",
       "           μ   10002.1003     24.0140     0.0240    0.0249   873401.2031    1. ⋯\n",
       "\u001b[36m                                                               2 columns omitted\u001b[0m\n",
       "\n",
       "Quantiles\n",
       " \u001b[1m parameters \u001b[0m \u001b[1m      2.5% \u001b[0m \u001b[1m     25.0% \u001b[0m \u001b[1m      50.0% \u001b[0m \u001b[1m      75.0% \u001b[0m \u001b[1m      97.5% \u001b[0m\n",
       " \u001b[90m     Symbol \u001b[0m \u001b[90m   Float64 \u001b[0m \u001b[90m   Float64 \u001b[0m \u001b[90m    Float64 \u001b[0m \u001b[90m    Float64 \u001b[0m \u001b[90m    Float64 \u001b[0m\n",
       "\n",
       "          σ²   6646.1856   9214.8721   11110.2744   13569.6704   20658.5740\n",
       "           μ   9954.6223   9986.3725   10002.1061   10017.8546   10049.5262\n"
      ]
     },
     "execution_count": 23,
     "metadata": {},
     "output_type": "execute_result"
    }
   ],
   "source": [
    "chn = sample(normaldistmodel(y), NUTS(), MCMCThreads(), L, n_threads)"
   ]
  },
  {
   "cell_type": "code",
   "execution_count": 24,
   "id": "9a337d32",
   "metadata": {
    "scrolled": true
   },
   "outputs": [
    {
     "name": "stdout",
     "output_type": "stream",
     "text": [
      "confint_tdist(y) = [9950.075345254349, 10054.199644479408]\n"
     ]
    }
   ],
   "source": [
    "@show confint_tdist(y);"
   ]
  },
  {
   "cell_type": "code",
   "execution_count": 25,
   "id": "2af358bf",
   "metadata": {},
   "outputs": [
    {
     "data": {
      "image/png": "[encoded data removed]"
     },
     "execution_count": 25,
     "metadata": {},
     "output_type": "execute_result"
    }
   ],
   "source": [
    "dist_conf = confdist_tdist(y)\n",
    "dist_post = postdist_μ(posterior(y)...)\n",
    "plot(legend=:outertop)\n",
    "stephist!(vec(chn[:μ]); norm=true, label=\"MCMC\")\n",
    "plot!(dist_post; label=\"default posterior of μ\", ls=:dash)\n",
    "plot!(dist_conf; label=\"ȳ+√(s²/n)TDist(n-1)\", ls=:dashdot)\n",
    "plot!(xlim=quantile.(Ref(vec(chn[:μ])), (0.001, 0.999)))"
   ]
  },
  {
   "cell_type": "code",
   "execution_count": 26,
   "id": "71b3cc15",
   "metadata": {},
   "outputs": [
    {
     "data": {
      "image/png": "[encoded data removed]"
     },
     "execution_count": 26,
     "metadata": {},
     "output_type": "execute_result"
    }
   ],
   "source": [
    "pdf_pred(y_new) = mean(pdf(Normal(μ, √σ²), y_new)\n",
    "    for (μ, σ²) in zip(vec(chn[:μ]), vec(chn[:σ²])))\n",
    "dist_pred_bayes = preddist(posterior(y)...)\n",
    "dist_pred_tdist = preddist_tdist(y)\n",
    "xlim = quantile.(dist_pred_bayes, (0.001, 0.999))\n",
    "#xlim = quantile.(dist_pred_tdist, (0.001, 0.999))\n",
    "\n",
    "plot(legend=:outertop)\n",
    "plot!(pdf_pred, xlim...;\n",
    "    label=\"MCMC\")\n",
    "plot!(dist_pred_bayes, xlim...;\n",
    "    label=\"default prediction distribution\", ls=:dash)\n",
    "plot!(dist_pred_tdist, xlim...;\n",
    "    label=\"ȳ+√(s²(1+1/n))TDist(n-1)\", ls=:dashdot)"
   ]
  },
  {
   "cell_type": "markdown",
   "id": "d16d58eb",
   "metadata": {},
   "source": [
    "### n = 20 で事前分布とデータの数値の相性が悪い場合"
   ]
  },
  {
   "cell_type": "code",
   "execution_count": 27,
   "id": "22674439",
   "metadata": {},
   "outputs": [
    {
     "name": "stdout",
     "output_type": "stream",
     "text": [
      "μ_star = 0.0\n",
      "v_star = 10.0\n",
      "κ = 2.1\n",
      "θ = 1.1\n",
      "Eμ = 0.0\n",
      "Ev = 1.0\n",
      "var_μ = 10.0\n",
      "var_v = 9.999999999999991\n"
     ]
    },
    {
     "data": {
      "text/plain": [
       "DynamicPPL.Model{typeof(normaldistmodel), (:y, :a, :b, :ȳ, :σ̂², :μ_star, :v_star, :κ, :θ), (:a, :b, :ȳ, :σ̂², :μ_star, :v_star, :κ, :θ), (), Tuple{Vector{Float64}, Float64, Float64, Float64, Float64, Float64, Float64, Float64, Float64}, NTuple{8, Float64}, DynamicPPL.DefaultContext}(normaldistmodel, (y = [10166.062790496948, 10008.826245713864, 10099.687439746831, 10052.316989496587, 9906.384613622007, 9971.965667388273, 10213.945709762043, 9812.776061487099, 10006.836584450682, 9966.833374320784, 10006.56265386828, 10199.270140637116, 9920.849533678655, 9904.112041614972, 9982.079189890888, 10006.20676985534, 9832.637200506008, 10070.920004305975, 9882.784935295143, 10031.691951200066], a = 2.5, b = 2.5, ȳ = 10002.137494866878, σ̂² = 11755.723252897847, μ_star = 0.0, v_star = 10.0, κ = 2.1, θ = 1.1), (a = 2.5, b = 2.5, ȳ = 10002.137494866878, σ̂² = 11755.723252897847, μ_star = 10002.137494866878, v_star = 2.5, κ = 2.4, θ = 16458.012554056986), DynamicPPL.DefaultContext())"
      ]
     },
     "execution_count": 27,
     "metadata": {},
     "output_type": "execute_result"
    }
   ],
   "source": [
    "a, b = 10.0, 10.0\n",
    "μ_star, v_star, κ, θ = 0.0, a, 2 + 1/b, 1 + 1/b\n",
    "@show μ_star v_star κ θ\n",
    "Eμ, Ev = μ_star, θ/(κ - 1)\n",
    "var_μ, var_v = v_star*Ev, Ev^2/(κ - 2)\n",
    "@show Eμ Ev var_μ var_v\n",
    "model = normaldistmodel(y; μ_star, v_star, κ, θ)"
   ]
  },
  {
   "cell_type": "code",
   "execution_count": 28,
   "id": "8fd1a166",
   "metadata": {
    "scrolled": false
   },
   "outputs": [
    {
     "name": "stderr",
     "output_type": "stream",
     "text": [
      "┌ Warning: The current proposal will be rejected due to numerical error(s).\n",
      "│   isfinite.((θ, r, ℓπ, ℓκ)) = (true, false, false, false)\n",
      "└ @ AdvancedHMC D:\\.julia\\packages\\AdvancedHMC\\51xgc\\src\\hamiltonian.jl:47\n",
      "┌ Warning: The current proposal will be rejected due to numerical error(s).\n",
      "│   isfinite.((θ, r, ℓπ, ℓκ)) = (true, false, false, false)\n",
      "└ @ AdvancedHMC D:\\.julia\\packages\\AdvancedHMC\\51xgc\\src\\hamiltonian.jl:47\n",
      "┌ Warning: The current proposal will be rejected due to numerical error(s).\n",
      "│   isfinite.((θ, r, ℓπ, ℓκ)) = (true, false, false, false)\n",
      "└ @ AdvancedHMC D:\\.julia\\packages\\AdvancedHMC\\51xgc\\src\\hamiltonian.jl:47\n",
      "┌ Warning: The current proposal will be rejected due to numerical error(s).\n",
      "│   isfinite.((θ, r, ℓπ, ℓκ)) = (true, false, false, false)\n",
      "└ @ AdvancedHMC D:\\.julia\\packages\\AdvancedHMC\\51xgc\\src\\hamiltonian.jl:47\n",
      "┌ Warning: The current proposal will be rejected due to numerical error(s).\n",
      "│   isfinite.((θ, r, ℓπ, ℓκ)) = (true, false, false, false)\n",
      "└ @ AdvancedHMC D:\\.julia\\packages\\AdvancedHMC\\51xgc\\src\\hamiltonian.jl:47\n",
      "┌ Warning: The current proposal will be rejected due to numerical error(s).\n",
      "│   isfinite.((θ, r, ℓπ, ℓκ)) = (true, false, false, false)\n",
      "└ @ AdvancedHMC D:\\.julia\\packages\\AdvancedHMC\\51xgc\\src\\hamiltonian.jl:47\n",
      "┌ Warning: The current proposal will be rejected due to numerical error(s).\n",
      "│   isfinite.((θ, r, ℓπ, ℓκ)) = (true, false, false, false)\n",
      "└ @ AdvancedHMC D:\\.julia\\packages\\AdvancedHMC\\51xgc\\src\\hamiltonian.jl:47\n",
      "┌ Warning: The current proposal will be rejected due to numerical error(s).\n",
      "│   isfinite.((θ, r, ℓπ, ℓκ)) = (true, false, false, false)\n",
      "└ @ AdvancedHMC D:\\.julia\\packages\\AdvancedHMC\\51xgc\\src\\hamiltonian.jl:47\n",
      "┌ Warning: The current proposal will be rejected due to numerical error(s).\n",
      "│   isfinite.((θ, r, ℓπ, ℓκ)) = (true, false, false, false)\n",
      "└ @ AdvancedHMC D:\\.julia\\packages\\AdvancedHMC\\51xgc\\src\\hamiltonian.jl:47\n",
      "┌ Warning: The current proposal will be rejected due to numerical error(s).\n",
      "│   isfinite.((θ, r, ℓπ, ℓκ)) = (true, false, false, false)\n",
      "└ @ AdvancedHMC D:\\.julia\\packages\\AdvancedHMC\\51xgc\\src\\hamiltonian.jl:47\n",
      "┌ Warning: The current proposal will be rejected due to numerical error(s).\n",
      "│   isfinite.((θ, r, ℓπ, ℓκ)) = (true, false, false, false)\n",
      "└ @ AdvancedHMC D:\\.julia\\packages\\AdvancedHMC\\51xgc\\src\\hamiltonian.jl:47\n",
      "┌ Warning: The current proposal will be rejected due to numerical error(s).\n",
      "│   isfinite.((θ, r, ℓπ, ℓκ)) = (true, false, false, false)\n",
      "└ @ AdvancedHMC D:\\.julia\\packages\\AdvancedHMC\\51xgc\\src\\hamiltonian.jl:47\n",
      "┌ Warning: The current proposal will be rejected due to numerical error(s).\n",
      "│   isfinite.((θ, r, ℓπ, ℓκ)) = (true, false, false, false)\n",
      "└ @ AdvancedHMC D:\\.julia\\packages\\AdvancedHMC\\51xgc\\src\\hamiltonian.jl:47\n",
      "┌ Warning: The current proposal will be rejected due to numerical error(s).\n",
      "│   isfinite.((θ, r, ℓπ, ℓκ)) = (true, false, false, false)\n",
      "└ @ AdvancedHMC D:\\.julia\\packages\\AdvancedHMC\\51xgc\\src\\hamiltonian.jl:47\n",
      "┌ Warning: The current proposal will be rejected due to numerical error(s).\n",
      "│   isfinite.((θ, r, ℓπ, ℓκ)) = (true, false, false, false)\n",
      "└ @ AdvancedHMC D:\\.julia\\packages\\AdvancedHMC\\51xgc\\src\\hamiltonian.jl:47\n",
      "┌ Warning: The current proposal will be rejected due to numerical error(s).\n",
      "│   isfinite.((θ, r, ℓπ, ℓκ)) = (true, false, false, false)\n",
      "└ @ AdvancedHMC D:\\.julia\\packages\\AdvancedHMC\\51xgc\\src\\hamiltonian.jl:47\n",
      "┌ Warning: The current proposal will be rejected due to numerical error(s).\n",
      "│   isfinite.((θ, r, ℓπ, ℓκ)) = (true, false, false, false)\n",
      "└ @ AdvancedHMC D:\\.julia\\packages\\AdvancedHMC\\51xgc\\src\\hamiltonian.jl:47\n",
      "┌ Warning: The current proposal will be rejected due to numerical error(s).\n",
      "│   isfinite.((θ, r, ℓπ, ℓκ)) = (true, false, false, false)\n",
      "└ @ AdvancedHMC D:\\.julia\\packages\\AdvancedHMC\\51xgc\\src\\hamiltonian.jl:47\n",
      "┌ Warning: The current proposal will be rejected due to numerical error(s).\n",
      "│   isfinite.((θ, r, ℓπ, ℓκ)) = (true, false, false, false)\n",
      "└ @ AdvancedHMC D:\\.julia\\packages\\AdvancedHMC\\51xgc\\src\\hamiltonian.jl:47\n",
      "┌ Warning: The current proposal will be rejected due to numerical error(s).\n",
      "│   isfinite.((θ, r, ℓπ, ℓκ)) = (true, false, false, false)\n",
      "└ @ AdvancedHMC D:\\.julia\\packages\\AdvancedHMC\\51xgc\\src\\hamiltonian.jl:47\n",
      "┌ Warning: The current proposal will be rejected due to numerical error(s).\n",
      "│   isfinite.((θ, r, ℓπ, ℓκ)) = (true, false, false, false)\n",
      "└ @ AdvancedHMC D:\\.julia\\packages\\AdvancedHMC\\51xgc\\src\\hamiltonian.jl:47\n",
      "┌ Warning: The current proposal will be rejected due to numerical error(s).\n",
      "│   isfinite.((θ, r, ℓπ, ℓκ)) = (true, false, false, false)\n",
      "└ @ AdvancedHMC D:\\.julia\\packages\\AdvancedHMC\\51xgc\\src\\hamiltonian.jl:47\n",
      "┌ Warning: The current proposal will be rejected due to numerical error(s).\n",
      "│   isfinite.((θ, r, ℓπ, ℓκ)) = (true, false, false, false)\n",
      "└ @ AdvancedHMC D:\\.julia\\packages\\AdvancedHMC\\51xgc\\src\\hamiltonian.jl:47\n",
      "┌ Warning: The current proposal will be rejected due to numerical error(s).\n",
      "│   isfinite.((θ, r, ℓπ, ℓκ)) = (true, false, false, false)\n",
      "└ @ AdvancedHMC D:\\.julia\\packages\\AdvancedHMC\\51xgc\\src\\hamiltonian.jl:47\n",
      "┌ Warning: The current proposal will be rejected due to numerical error(s).\n",
      "│   isfinite.((θ, r, ℓπ, ℓκ)) = (true, false, false, false)\n",
      "└ @ AdvancedHMC D:\\.julia\\packages\\AdvancedHMC\\51xgc\\src\\hamiltonian.jl:47\n",
      "┌ Warning: The current proposal will be rejected due to numerical error(s).\n",
      "│   isfinite.((θ, r, ℓπ, ℓκ)) = (true, false, false, false)\n",
      "└ @ AdvancedHMC D:\\.julia\\packages\\AdvancedHMC\\51xgc\\src\\hamiltonian.jl:47\n",
      "┌ Warning: The current proposal will be rejected due to numerical error(s).\n",
      "│   isfinite.((θ, r, ℓπ, ℓκ)) = (true, false, false, false)\n",
      "└ @ AdvancedHMC D:\\.julia\\packages\\AdvancedHMC\\51xgc\\src\\hamiltonian.jl:47\n",
      "┌ Warning: The current proposal will be rejected due to numerical error(s).\n",
      "│   isfinite.((θ, r, ℓπ, ℓκ)) = (true, false, false, false)\n",
      "└ @ AdvancedHMC D:\\.julia\\packages\\AdvancedHMC\\51xgc\\src\\hamiltonian.jl:47\n",
      "┌ Warning: The current proposal will be rejected due to numerical error(s).\n",
      "│   isfinite.((θ, r, ℓπ, ℓκ)) = (true, false, false, false)\n",
      "└ @ AdvancedHMC D:\\.julia\\packages\\AdvancedHMC\\51xgc\\src\\hamiltonian.jl:47\n",
      "┌ Warning: The current proposal will be rejected due to numerical error(s).\n",
      "│   isfinite.((θ, r, ℓπ, ℓκ)) = (true, false, false, false)\n",
      "└ @ AdvancedHMC D:\\.julia\\packages\\AdvancedHMC\\51xgc\\src\\hamiltonian.jl:47\n",
      "┌ Warning: The current proposal will be rejected due to numerical error(s).\n",
      "│   isfinite.((θ, r, ℓπ, ℓκ)) = (true, false, false, false)\n",
      "└ @ AdvancedHMC D:\\.julia\\packages\\AdvancedHMC\\51xgc\\src\\hamiltonian.jl:47\n",
      "┌ Warning: The current proposal will be rejected due to numerical error(s).\n",
      "│   isfinite.((θ, r, ℓπ, ℓκ)) = (true, false, false, false)\n",
      "└ @ AdvancedHMC D:\\.julia\\packages\\AdvancedHMC\\51xgc\\src\\hamiltonian.jl:47\n",
      "┌ Warning: The current proposal will be rejected due to numerical error(s).\n",
      "│   isfinite.((θ, r, ℓπ, ℓκ)) = (true, false, false, false)\n",
      "└ @ AdvancedHMC D:\\.julia\\packages\\AdvancedHMC\\51xgc\\src\\hamiltonian.jl:47\n",
      "┌ Warning: The current proposal will be rejected due to numerical error(s).\n",
      "│   isfinite.((θ, r, ℓπ, ℓκ)) = (true, false, false, false)\n",
      "└ @ AdvancedHMC D:\\.julia\\packages\\AdvancedHMC\\51xgc\\src\\hamiltonian.jl:47\n",
      "┌ Warning: The current proposal will be rejected due to numerical error(s).\n",
      "│   isfinite.((θ, r, ℓπ, ℓκ)) = (true, false, false, false)\n",
      "└ @ AdvancedHMC D:\\.julia\\packages\\AdvancedHMC\\51xgc\\src\\hamiltonian.jl:47\n",
      "┌ Warning: The current proposal will be rejected due to numerical error(s).\n",
      "│   isfinite.((θ, r, ℓπ, ℓκ)) = (true, false, false, false)\n",
      "└ @ AdvancedHMC D:\\.julia\\packages\\AdvancedHMC\\51xgc\\src\\hamiltonian.jl:47\n",
      "┌ Warning: The current proposal will be rejected due to numerical error(s).\n",
      "│   isfinite.((θ, r, ℓπ, ℓκ)) = (true, false, false, false)\n",
      "└ @ AdvancedHMC D:\\.julia\\packages\\AdvancedHMC\\51xgc\\src\\hamiltonian.jl:47\n",
      "┌ Warning: The current proposal will be rejected due to numerical error(s).\n",
      "│   isfinite.((θ, r, ℓπ, ℓκ)) = (true, false, false, false)\n",
      "└ @ AdvancedHMC D:\\.julia\\packages\\AdvancedHMC\\51xgc\\src\\hamiltonian.jl:47\n",
      "┌ Warning: The current proposal will be rejected due to numerical error(s).\n",
      "│   isfinite.((θ, r, ℓπ, ℓκ)) = (true, false, false, false)\n",
      "└ @ AdvancedHMC D:\\.julia\\packages\\AdvancedHMC\\51xgc\\src\\hamiltonian.jl:47\n",
      "┌ Warning: The current proposal will be rejected due to numerical error(s).\n",
      "│   isfinite.((θ, r, ℓπ, ℓκ)) = (true, false, false, false)\n",
      "└ @ AdvancedHMC D:\\.julia\\packages\\AdvancedHMC\\51xgc\\src\\hamiltonian.jl:47\n",
      "┌ Warning: The current proposal will be rejected due to numerical error(s).\n",
      "│   isfinite.((θ, r, ℓπ, ℓκ)) = (true, false, false, false)\n",
      "└ @ AdvancedHMC D:\\.julia\\packages\\AdvancedHMC\\51xgc\\src\\hamiltonian.jl:47\n",
      "┌ Warning: The current proposal will be rejected due to numerical error(s).\n",
      "│   isfinite.((θ, r, ℓπ, ℓκ)) = (true, false, false, false)\n",
      "└ @ AdvancedHMC D:\\.julia\\packages\\AdvancedHMC\\51xgc\\src\\hamiltonian.jl:47\n",
      "┌ Warning: The current proposal will be rejected due to numerical error(s).\n",
      "│   isfinite.((θ, r, ℓπ, ℓκ)) = (true, false, false, false)\n",
      "└ @ AdvancedHMC D:\\.julia\\packages\\AdvancedHMC\\51xgc\\src\\hamiltonian.jl:47\n",
      "┌ Warning: The current proposal will be rejected due to numerical error(s).\n",
      "│   isfinite.((θ, r, ℓπ, ℓκ)) = (true, false, false, false)\n",
      "└ @ AdvancedHMC D:\\.julia\\packages\\AdvancedHMC\\51xgc\\src\\hamiltonian.jl:47\n",
      "┌ Warning: The current proposal will be rejected due to numerical error(s).\n",
      "│   isfinite.((θ, r, ℓπ, ℓκ)) = (true, false, false, false)\n",
      "└ @ AdvancedHMC D:\\.julia\\packages\\AdvancedHMC\\51xgc\\src\\hamiltonian.jl:47\n",
      "┌ Warning: The current proposal will be rejected due to numerical error(s).\n",
      "│   isfinite.((θ, r, ℓπ, ℓκ)) = (true, false, false, false)\n",
      "└ @ AdvancedHMC D:\\.julia\\packages\\AdvancedHMC\\51xgc\\src\\hamiltonian.jl:47\n",
      "┌ Warning: The current proposal will be rejected due to numerical error(s).\n",
      "│   isfinite.((θ, r, ℓπ, ℓκ)) = (true, false, false, false)\n",
      "└ @ AdvancedHMC D:\\.julia\\packages\\AdvancedHMC\\51xgc\\src\\hamiltonian.jl:47\n",
      "┌ Warning: The current proposal will be rejected due to numerical error(s).\n",
      "│   isfinite.((θ, r, ℓπ, ℓκ)) = (true, false, false, false)\n",
      "└ @ AdvancedHMC D:\\.julia\\packages\\AdvancedHMC\\51xgc\\src\\hamiltonian.jl:47\n",
      "┌ Warning: The current proposal will be rejected due to numerical error(s).\n",
      "│   isfinite.((θ, r, ℓπ, ℓκ)) = (true, false, false, false)\n",
      "└ @ AdvancedHMC D:\\.julia\\packages\\AdvancedHMC\\51xgc\\src\\hamiltonian.jl:47\n",
      "┌ Warning: The current proposal will be rejected due to numerical error(s).\n",
      "│   isfinite.((θ, r, ℓπ, ℓκ)) = (true, false, false, false)\n",
      "└ @ AdvancedHMC D:\\.julia\\packages\\AdvancedHMC\\51xgc\\src\\hamiltonian.jl:47\n",
      "┌ Warning: The current proposal will be rejected due to numerical error(s).\n",
      "│   isfinite.((θ, r, ℓπ, ℓκ)) = (true, false, false, false)\n",
      "└ @ AdvancedHMC D:\\.julia\\packages\\AdvancedHMC\\51xgc\\src\\hamiltonian.jl:47\n",
      "┌ Warning: The current proposal will be rejected due to numerical error(s).\n",
      "│   isfinite.((θ, r, ℓπ, ℓκ)) = (true, false, false, false)\n",
      "└ @ AdvancedHMC D:\\.julia\\packages\\AdvancedHMC\\51xgc\\src\\hamiltonian.jl:47\n",
      "┌ Warning: The current proposal will be rejected due to numerical error(s).\n",
      "│   isfinite.((θ, r, ℓπ, ℓκ)) = (true, false, false, false)\n",
      "└ @ AdvancedHMC D:\\.julia\\packages\\AdvancedHMC\\51xgc\\src\\hamiltonian.jl:47\n",
      "┌ Warning: The current proposal will be rejected due to numerical error(s).\n",
      "│   isfinite.((θ, r, ℓπ, ℓκ)) = (true, false, false, false)\n",
      "└ @ AdvancedHMC D:\\.julia\\packages\\AdvancedHMC\\51xgc\\src\\hamiltonian.jl:47\n",
      "┌ Warning: The current proposal will be rejected due to numerical error(s).\n",
      "│   isfinite.((θ, r, ℓπ, ℓκ)) = (true, false, false, false)\n",
      "└ @ AdvancedHMC D:\\.julia\\packages\\AdvancedHMC\\51xgc\\src\\hamiltonian.jl:47\n",
      "┌ Warning: The current proposal will be rejected due to numerical error(s).\n",
      "│   isfinite.((θ, r, ℓπ, ℓκ)) = (true, false, false, false)\n",
      "└ @ AdvancedHMC D:\\.julia\\packages\\AdvancedHMC\\51xgc\\src\\hamiltonian.jl:47\n",
      "┌ Warning: The current proposal will be rejected due to numerical error(s).\n",
      "│   isfinite.((θ, r, ℓπ, ℓκ)) = (true, false, false, false)\n",
      "└ @ AdvancedHMC D:\\.julia\\packages\\AdvancedHMC\\51xgc\\src\\hamiltonian.jl:47\n",
      "┌ Warning: The current proposal will be rejected due to numerical error(s).\n",
      "│   isfinite.((θ, r, ℓπ, ℓκ)) = (true, false, false, false)\n",
      "└ @ AdvancedHMC D:\\.julia\\packages\\AdvancedHMC\\51xgc\\src\\hamiltonian.jl:47\n",
      "┌ Warning: The current proposal will be rejected due to numerical error(s).\n",
      "│   isfinite.((θ, r, ℓπ, ℓκ)) = (true, false, false, false)\n",
      "└ @ AdvancedHMC D:\\.julia\\packages\\AdvancedHMC\\51xgc\\src\\hamiltonian.jl:47\n",
      "┌ Warning: The current proposal will be rejected due to numerical error(s).\n",
      "│   isfinite.((θ, r, ℓπ, ℓκ)) = (true, false, false, false)\n",
      "└ @ AdvancedHMC D:\\.julia\\packages\\AdvancedHMC\\51xgc\\src\\hamiltonian.jl:47\n",
      "┌ Warning: The current proposal will be rejected due to numerical error(s).\n",
      "│   isfinite.((θ, r, ℓπ, ℓκ)) = (true, false, false, false)\n",
      "└ @ AdvancedHMC D:\\.julia\\packages\\AdvancedHMC\\51xgc\\src\\hamiltonian.jl:47\n",
      "┌ Warning: The current proposal will be rejected due to numerical error(s).\n",
      "│   isfinite.((θ, r, ℓπ, ℓκ)) = (true, false, false, false)\n",
      "└ @ AdvancedHMC D:\\.julia\\packages\\AdvancedHMC\\51xgc\\src\\hamiltonian.jl:47\n",
      "┌ Warning: The current proposal will be rejected due to numerical error(s).\n",
      "│   isfinite.((θ, r, ℓπ, ℓκ)) = (true, false, false, false)\n",
      "└ @ AdvancedHMC D:\\.julia\\packages\\AdvancedHMC\\51xgc\\src\\hamiltonian.jl:47\n",
      "┌ Warning: The current proposal will be rejected due to numerical error(s).\n",
      "│   isfinite.((θ, r, ℓπ, ℓκ)) = (true, false, false, false)\n",
      "└ @ AdvancedHMC D:\\.julia\\packages\\AdvancedHMC\\51xgc\\src\\hamiltonian.jl:47\n",
      "┌ Warning: The current proposal will be rejected due to numerical error(s).\n",
      "│   isfinite.((θ, r, ℓπ, ℓκ)) = (true, false, false, false)\n",
      "└ @ AdvancedHMC D:\\.julia\\packages\\AdvancedHMC\\51xgc\\src\\hamiltonian.jl:47\n",
      "┌ Warning: The current proposal will be rejected due to numerical error(s).\n",
      "│   isfinite.((θ, r, ℓπ, ℓκ)) = (true, false, false, false)\n",
      "└ @ AdvancedHMC D:\\.julia\\packages\\AdvancedHMC\\51xgc\\src\\hamiltonian.jl:47\n",
      "┌ Warning: The current proposal will be rejected due to numerical error(s).\n",
      "│   isfinite.((θ, r, ℓπ, ℓκ)) = (true, false, false, false)\n",
      "└ @ AdvancedHMC D:\\.julia\\packages\\AdvancedHMC\\51xgc\\src\\hamiltonian.jl:47\n",
      "┌ Warning: The current proposal will be rejected due to numerical error(s).\n",
      "│   isfinite.((θ, r, ℓπ, ℓκ)) = (true, false, false, false)\n",
      "└ @ AdvancedHMC D:\\.julia\\packages\\AdvancedHMC\\51xgc\\src\\hamiltonian.jl:47\n",
      "┌ Warning: The current proposal will be rejected due to numerical error(s).\n",
      "│   isfinite.((θ, r, ℓπ, ℓκ)) = (true, false, false, false)\n",
      "└ @ AdvancedHMC D:\\.julia\\packages\\AdvancedHMC\\51xgc\\src\\hamiltonian.jl:47\n",
      "┌ Warning: The current proposal will be rejected due to numerical error(s).\n",
      "│   isfinite.((θ, r, ℓπ, ℓκ)) = (true, false, false, false)\n",
      "└ @ AdvancedHMC D:\\.julia\\packages\\AdvancedHMC\\51xgc\\src\\hamiltonian.jl:47\n",
      "┌ Warning: The current proposal will be rejected due to numerical error(s).\n",
      "│   isfinite.((θ, r, ℓπ, ℓκ)) = (true, false, false, false)\n",
      "└ @ AdvancedHMC D:\\.julia\\packages\\AdvancedHMC\\51xgc\\src\\hamiltonian.jl:47\n",
      "┌ Warning: The current proposal will be rejected due to numerical error(s).\n",
      "│   isfinite.((θ, r, ℓπ, ℓκ)) = (true, false, false, false)\n",
      "└ @ AdvancedHMC D:\\.julia\\packages\\AdvancedHMC\\51xgc\\src\\hamiltonian.jl:47\n",
      "┌ Warning: The current proposal will be rejected due to numerical error(s).\n",
      "│   isfinite.((θ, r, ℓπ, ℓκ)) = (true, false, false, false)\n",
      "└ @ AdvancedHMC D:\\.julia\\packages\\AdvancedHMC\\51xgc\\src\\hamiltonian.jl:47\n",
      "┌ Warning: The current proposal will be rejected due to numerical error(s).\n",
      "│   isfinite.((θ, r, ℓπ, ℓκ)) = (true, false, false, false)\n",
      "└ @ AdvancedHMC D:\\.julia\\packages\\AdvancedHMC\\51xgc\\src\\hamiltonian.jl:47\n",
      "┌ Info: Found initial step size\n",
      "│   ϵ = 9.765625e-5\n",
      "└ @ Turing.Inference D:\\.julia\\packages\\Turing\\szPqN\\src\\inference\\hmc.jl:191\n",
      "┌ Warning: The current proposal will be rejected due to numerical error(s).\n",
      "│   isfinite.((θ, r, ℓπ, ℓκ)) = (true, false, false, false)\n",
      "└ @ AdvancedHMC D:\\.julia\\packages\\AdvancedHMC\\51xgc\\src\\hamiltonian.jl:47\n",
      "┌ Info: Found initial step size\n",
      "│   ϵ = 9.765625e-5\n",
      "└ @ Turing.Inference D:\\.julia\\packages\\Turing\\szPqN\\src\\inference\\hmc.jl:191\n",
      "┌ Warning: The current proposal will be rejected due to numerical error(s).\n",
      "│   isfinite.((θ, r, ℓπ, ℓκ)) = (true, false, false, false)\n",
      "└ @ AdvancedHMC D:\\.julia\\packages\\AdvancedHMC\\51xgc\\src\\hamiltonian.jl:47\n",
      "┌ Warning: The current proposal will be rejected due to numerical error(s).\n",
      "│   isfinite.((θ, r, ℓπ, ℓκ)) = (true, false, false, false)\n",
      "└ @ AdvancedHMC D:\\.julia\\packages\\AdvancedHMC\\51xgc\\src\\hamiltonian.jl:47\n",
      "┌ Warning: The current proposal will be rejected due to numerical error(s).\n",
      "│   isfinite.((θ, r, ℓπ, ℓκ)) = (true, false, false, false)\n",
      "└ @ AdvancedHMC D:\\.julia\\packages\\AdvancedHMC\\51xgc\\src\\hamiltonian.jl:47\n",
      "┌ Info: Found initial step size\n",
      "│   ϵ = 9.765625e-5\n",
      "└ @ Turing.Inference D:\\.julia\\packages\\Turing\\szPqN\\src\\inference\\hmc.jl:191\n",
      "┌ Warning: The current proposal will be rejected due to numerical error(s).\n",
      "│   isfinite.((θ, r, ℓπ, ℓκ)) = (true, false, false, false)\n",
      "└ @ AdvancedHMC D:\\.julia\\packages\\AdvancedHMC\\51xgc\\src\\hamiltonian.jl:47\n",
      "┌ Info: Found initial step size\n",
      "│   ϵ = 4.8828125e-5\n",
      "└ @ Turing.Inference D:\\.julia\\packages\\Turing\\szPqN\\src\\inference\\hmc.jl:191\n",
      "┌ Info: Found initial step size\n",
      "│   ϵ = 4.8828125e-5\n",
      "└ @ Turing.Inference D:\\.julia\\packages\\Turing\\szPqN\\src\\inference\\hmc.jl:191\n",
      "┌ Warning: The current proposal will be rejected due to numerical error(s).\n",
      "│   isfinite.((θ, r, ℓπ, ℓκ)) = (true, false, false, false)\n",
      "└ @ AdvancedHMC D:\\.julia\\packages\\AdvancedHMC\\51xgc\\src\\hamiltonian.jl:47\n",
      "┌ Info: Found initial step size\n",
      "│   ϵ = 4.8828125e-5\n",
      "└ @ Turing.Inference D:\\.julia\\packages\\Turing\\szPqN\\src\\inference\\hmc.jl:191\n",
      "┌ Info: Found initial step size\n",
      "│   ϵ = 2.44140625e-5\n",
      "└ @ Turing.Inference D:\\.julia\\packages\\Turing\\szPqN\\src\\inference\\hmc.jl:191\n",
      "┌ Info: Found initial step size\n",
      "│   ϵ = 4.8828125e-5\n",
      "└ @ Turing.Inference D:\\.julia\\packages\\Turing\\szPqN\\src\\inference\\hmc.jl:191\n"
     ]
    },
    {
     "name": "stderr",
     "output_type": "stream",
     "text": [
      "┌ Info: Found initial step size\n",
      "│   ϵ = 2.44140625e-5\n",
      "└ @ Turing.Inference D:\\.julia\\packages\\Turing\\szPqN\\src\\inference\\hmc.jl:191\n",
      "┌ Info: Found initial step size\n",
      "│   ϵ = 2.44140625e-5\n",
      "└ @ Turing.Inference D:\\.julia\\packages\\Turing\\szPqN\\src\\inference\\hmc.jl:191\n",
      "┌ Warning: The current proposal will be rejected due to numerical error(s).\n",
      "│   isfinite.((θ, r, ℓπ, ℓκ)) = (true, false, false, false)\n",
      "└ @ AdvancedHMC D:\\.julia\\packages\\AdvancedHMC\\51xgc\\src\\hamiltonian.jl:47\n",
      "\u001b[32mSampling (10 threads): 100%|████████████████████████████| Time: 0:00:02\u001b[39m\n"
     ]
    },
    {
     "data": {
      "text/plain": [
       "Chains MCMC chain (100000×14×10 Array{Float64, 3}):\n",
       "\n",
       "Iterations        = 1001:1:101000\n",
       "Number of chains  = 10\n",
       "Samples per chain = 100000\n",
       "Wall duration     = 16.24 seconds\n",
       "Compute duration  = 156.81 seconds\n",
       "parameters        = σ², μ\n",
       "internals         = lp, n_steps, is_accept, acceptance_rate, log_density, hamiltonian_energy, hamiltonian_energy_error, max_hamiltonian_energy_error, tree_depth, numerical_error, step_size, nom_step_size\n",
       "\n",
       "Summary Statistics\n",
       " \u001b[1m parameters \u001b[0m \u001b[1m        mean \u001b[0m \u001b[1m         std \u001b[0m \u001b[1m naive_se \u001b[0m \u001b[1m     mcse \u001b[0m \u001b[1m         ess \u001b[0m \u001b[1m\u001b[0m ⋯\n",
       " \u001b[90m     Symbol \u001b[0m \u001b[90m     Float64 \u001b[0m \u001b[90m     Float64 \u001b[0m \u001b[90m  Float64 \u001b[0m \u001b[90m  Float64 \u001b[0m \u001b[90m     Float64 \u001b[0m \u001b[90m\u001b[0m ⋯\n",
       "\n",
       "          σ²   459019.7855   144892.4124   144.8924   166.8436   727782.4295   ⋯\n",
       "           μ     9952.7599      151.3976     0.1514     0.1668   837843.1094   ⋯\n",
       "\u001b[36m                                                               2 columns omitted\u001b[0m\n",
       "\n",
       "Quantiles\n",
       " \u001b[1m parameters \u001b[0m \u001b[1m        2.5% \u001b[0m \u001b[1m       25.0% \u001b[0m \u001b[1m       50.0% \u001b[0m \u001b[1m       75.0% \u001b[0m \u001b[1m       9\u001b[0m ⋯\n",
       " \u001b[90m     Symbol \u001b[0m \u001b[90m     Float64 \u001b[0m \u001b[90m     Float64 \u001b[0m \u001b[90m     Float64 \u001b[0m \u001b[90m     Float64 \u001b[0m \u001b[90m     Flo\u001b[0m ⋯\n",
       "\n",
       "          σ²   257081.1217   357850.1936   432828.7365   530120.7663   813043. ⋯\n",
       "           μ     9654.0826     9853.5857     9952.5870    10052.0031    10251. ⋯\n",
       "\u001b[36m                                                                1 column omitted\u001b[0m\n"
      ]
     },
     "execution_count": 28,
     "metadata": {},
     "output_type": "execute_result"
    }
   ],
   "source": [
    "chn = sample(model, NUTS(), MCMCThreads(), L, n_threads)"
   ]
  },
  {
   "cell_type": "code",
   "execution_count": 29,
   "id": "c99eeec3",
   "metadata": {
    "scrolled": true
   },
   "outputs": [
    {
     "name": "stdout",
     "output_type": "stream",
     "text": [
      "confint_tdist(y) = [9950.075345254349, 10054.199644479408]\n"
     ]
    }
   ],
   "source": [
    "@show confint_tdist(y);"
   ]
  },
  {
   "cell_type": "code",
   "execution_count": 30,
   "id": "bbcbfbb7",
   "metadata": {},
   "outputs": [
    {
     "data": {
      "image/png": "[encoded data removed]"
     },
     "execution_count": 30,
     "metadata": {},
     "output_type": "execute_result"
    }
   ],
   "source": [
    "dist_conf = confdist_tdist(y)\n",
    "dist_post = postdist_μ(posterior(y)...)\n",
    "plot(legend=:outertop)\n",
    "stephist!(vec(chn[:μ]); norm=true, label=\"MCMC\")\n",
    "plot!(dist_post; label=\"default posterior of μ\", ls=:dash)\n",
    "plot!(dist_conf; label=\"ȳ+√(s²/n)TDist(n-1)\", ls=:dashdot)\n",
    "plot!(xlim=quantile.(Ref(vec(chn[:μ])), (0.002, 0.998)))"
   ]
  },
  {
   "cell_type": "code",
   "execution_count": 31,
   "id": "9d77ce07",
   "metadata": {},
   "outputs": [
    {
     "data": {
      "image/png": "[encoded data removed]"
     },
     "execution_count": 31,
     "metadata": {},
     "output_type": "execute_result"
    }
   ],
   "source": [
    "pdf_pred(y_new) = mean(pdf(Normal(μ, √σ²), y_new)\n",
    "    for (μ, σ²) in zip(vec(chn[:μ]), vec(chn[:σ²])))\n",
    "dist_pred_bayes = preddist(posterior(y)...)\n",
    "dist_pred_tdist = preddist_tdist(y)\n",
    "#xlim = quantile.(dist_pred_bayes, (0.002, 0.998))\n",
    "#xlim = quantile.(dist_pred_tdist, (0.002, 0.998))\n",
    "xlim = (8500, 11500)\n",
    "\n",
    "plot(legend=:outertop)\n",
    "plot!(pdf_pred, xlim...;\n",
    "    label=\"MCMC\")\n",
    "plot!(dist_pred_bayes, xlim...;\n",
    "    label=\"default prediction distribution\", ls=:dash)\n",
    "plot!(dist_pred_tdist, xlim...;\n",
    "    label=\"ȳ+√(s²(1+1/n))TDist(n-1)\", ls=:dashdot)"
   ]
  },
  {
   "cell_type": "code",
   "execution_count": null,
   "id": "83d7f915",
   "metadata": {},
   "outputs": [],
   "source": []
  }
 ],
 "metadata": {
  "@webio": {
   "lastCommId": null,
   "lastKernelId": null
  },
  "jupytext": {
   "formats": "ipynb,md"
  },
  "kernelspec": {
   "display_name": "Julia 1.8.0",
   "language": "julia",
   "name": "julia-1.8"
  },
  "language_info": {
   "file_extension": ".jl",
   "mimetype": "application/julia",
   "name": "julia",
   "version": "1.8.0"
  },
  "toc": {
   "base_numbering": 1,
   "nav_menu": {},
   "number_sections": true,
   "sideBar": true,
   "skip_h1_title": true,
   "title_cell": "目次",
   "title_sidebar": "目次",
   "toc_cell": true,
   "toc_position": {},
   "toc_section_display": true,
   "toc_window_display": false
  }
 },
 "nbformat": 4,
 "nbformat_minor": 5
}
