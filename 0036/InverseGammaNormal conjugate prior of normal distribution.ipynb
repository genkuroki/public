{
 "cells": [
  {
   "cell_type": "markdown",
   "id": "fb2d200d",
   "metadata": {},
   "source": [
    "# 正規分布モデルの共役事前分布によるベイズ統計\n",
    "\n",
    "* 黒木玄\n",
    "* 2022-09-03\n",
    "$\n",
    "\\newcommand\\ds{\\displaystyle}\n",
    "\\newcommand\\op[1]{{\\operatorname{#1}}}\n",
    "\\newcommand\\R{{\\mathbb R}}\n",
    "\\newcommand\\var{\\op{var}}\n",
    "\\newcommand\\cov{\\op{cov}}\n",
    "\\newcommand\\ybar{{\\bar y}}\n",
    "\\newcommand\\sigmahat{{\\hat\\sigma}}\n",
    "$"
   ]
  },
  {
   "cell_type": "markdown",
   "id": "54e94ba2",
   "metadata": {
    "toc": true
   },
   "source": [
    "<h1>目次<span class=\"tocSkip\"></span></h1>\n",
    "<div class=\"toc\"><ul class=\"toc-item\"><li><span><a href=\"#正規分布モデルの共役事前分布とその応用\" data-toc-modified-id=\"正規分布モデルの共役事前分布とその応用-1\"><span class=\"toc-item-num\">1&nbsp;&nbsp;</span>正規分布モデルの共役事前分布とその応用</a></span><ul class=\"toc-item\"><li><span><a href=\"#逆ガンマ正規分布\" data-toc-modified-id=\"逆ガンマ正規分布-1.1\"><span class=\"toc-item-num\">1.1&nbsp;&nbsp;</span>逆ガンマ正規分布</a></span></li><li><span><a href=\"#Bayes更新\" data-toc-modified-id=\"Bayes更新-1.2\"><span class=\"toc-item-num\">1.2&nbsp;&nbsp;</span>Bayes更新</a></span></li><li><span><a href=\"#μの周辺事前・事後分布\" data-toc-modified-id=\"μの周辺事前・事後分布-1.3\"><span class=\"toc-item-num\">1.3&nbsp;&nbsp;</span>μの周辺事前・事後分布</a></span></li><li><span><a href=\"#事前・事後予測分布\" data-toc-modified-id=\"事前・事後予測分布-1.4\"><span class=\"toc-item-num\">1.4&nbsp;&nbsp;</span>事前・事後予測分布</a></span></li><li><span><a href=\"#Jeffreys事前分布の場合\" data-toc-modified-id=\"Jeffreys事前分布の場合-1.5\"><span class=\"toc-item-num\">1.5&nbsp;&nbsp;</span>Jeffreys事前分布の場合</a></span></li><li><span><a href=\"#通常の信頼区間と予測区間との比較\" data-toc-modified-id=\"通常の信頼区間と予測区間との比較-1.6\"><span class=\"toc-item-num\">1.6&nbsp;&nbsp;</span>通常の信頼区間と予測区間との比較</a></span></li><li><span><a href=\"#データの数値から事前分布を決めた場合\" data-toc-modified-id=\"データの数値から事前分布を決めた場合-1.7\"><span class=\"toc-item-num\">1.7&nbsp;&nbsp;</span>データの数値から事前分布を決めた場合</a></span></li></ul></li></ul></div>"
   ]
  },
  {
   "cell_type": "code",
   "execution_count": 1,
   "id": "e40a154b",
   "metadata": {},
   "outputs": [],
   "source": [
    "using Distributions\n",
    "using StatsPlots\n",
    "default(fmt=:png, size=(400, 250),\n",
    "    titlefontsize=10, tickfontsize=6, guidefontsize=9,\n",
    "    plot_titlefontsize=10)\n",
    "using SymPy"
   ]
  },
  {
   "cell_type": "code",
   "execution_count": 2,
   "id": "96f452b4",
   "metadata": {},
   "outputs": [],
   "source": [
    "# Override the Base.show definition of SymPy.jl:\n",
    "# https://github.com/JuliaPy/SymPy.jl/blob/29c5bfd1d10ac53014fa7fef468bc8deccadc2fc/src/types.jl#L87-L105\n",
    "\n",
    "@eval SymPy function Base.show(io::IO, ::MIME\"text/latex\", x::SymbolicObject)\n",
    "    print(io, as_markdown(\"\\\\displaystyle \" *\n",
    "            sympy.latex(x, mode=\"plain\", fold_short_frac=false)))\n",
    "end\n",
    "@eval SymPy function Base.show(io::IO, ::MIME\"text/latex\", x::AbstractArray{Sym})\n",
    "    function toeqnarray(x::Vector{Sym})\n",
    "        a = join([\"\\\\displaystyle \" *\n",
    "                sympy.latex(x[i]) for i in 1:length(x)], \"\\\\\\\\\")\n",
    "        \"\"\"\\\\left[ \\\\begin{array}{r}$a\\\\end{array} \\\\right]\"\"\"\n",
    "    end\n",
    "    function toeqnarray(x::AbstractArray{Sym,2})\n",
    "        sz = size(x)\n",
    "        a = join([join(\"\\\\displaystyle \" .* map(sympy.latex, x[i,:]), \"&\")\n",
    "                for i in 1:sz[1]], \"\\\\\\\\\")\n",
    "        \"\\\\left[ \\\\begin{array}{\" * repeat(\"r\",sz[2]) * \"}\" * a * \"\\\\end{array}\\\\right]\"\n",
    "    end\n",
    "    print(io, as_markdown(toeqnarray(x)))\n",
    "end"
   ]
  },
  {
   "cell_type": "markdown",
   "id": "5959e575",
   "metadata": {},
   "source": [
    "## 正規分布モデルの共役事前分布とその応用"
   ]
  },
  {
   "cell_type": "markdown",
   "id": "e025a1c4",
   "metadata": {},
   "source": [
    "### 逆ガンマ正規分布\n",
    "\n",
    "平均 $\\mu\\in\\R$, 分散 $v=\\sigma>0$ の正規分布の確率密度函数を次のように表す:\n",
    "\n",
    "$$\n",
    "p_\\op{N}(y|\\mu, v) =\n",
    "\\frac{1}{\\sqrt{2\\pi v}}\\exp\\left(-\\frac{1}{2v}(y-\\mu)^2\\right)\n",
    "\\quad (y\\in \\R).\n",
    "$$\n",
    "\n",
    "パラメータ $\\kappa, \\theta > 0$ の逆ガンマ分布の確率密度函数を次のように表す:\n",
    "\n",
    "$$\n",
    "p_\\op{IG}(v|\\kappa,\\theta) =\n",
    "\\frac{\\theta^\\kappa}{\\Gamma(\\kappa)}\n",
    "v^{-\\kappa-1}\\exp\\left(-\\frac{\\theta}{v}\\right)\n",
    "\\quad (v > 0).\n",
    "$$\n",
    "\n",
    "$v$ がこの逆ガンマ分布に従う確率変数だとすると, \n",
    "\n",
    "$$\n",
    "\\begin{aligned}\n",
    "&\n",
    "\\frac{1}{v} \\sim\n",
    "\\op{Gamma}\\left(\\kappa,\\, \\frac{1}{\\theta}\\right) =\n",
    "\\frac{1}{2\\theta}\\op{Gamma}\\left(\\frac{2\\kappa}{2},\\, 2\\right) =\n",
    "\\frac{1}{2\\theta}\\op{Chisq}(2\\kappa),\n",
    "\\\\ &\n",
    "E[v] = \\frac{\\theta}{\\kappa - 1}, \\quad\n",
    "\\var(v) = \\frac{E[v]^2}{\\kappa - 2}.\n",
    "\\end{aligned}\n",
    "$$\n",
    "\n",
    "以下において, $A$ と $B$ が $\\mu, v$ に関する定数倍を除いて等しいことを $A\\propto B$ と書く.\n",
    "\n",
    "逆ガンマ正規分布の密度函数を次のように定義する:\n",
    "\n",
    "$$\n",
    "\\begin{aligned}\n",
    "p_\\op{IGN}(\\mu,v|\\mu_*, v_*, \\kappa, \\theta) &=\n",
    "p_\\op{N}(\\mu|\\mu_*, v_* v) p_\\op{IG}(v|\\kappa, \\theta)\n",
    "\\\\ &\\propto\n",
    "v^{-(\\kappa-1/2)-1}\n",
    "\\exp\\left(-\\frac{1}{v}\\left(\\theta + \\frac{1}{2v_*}(\\mu-\\mu_*)^2\\right)\\right).\n",
    "\\end{aligned}\n",
    "$$\n",
    "\n",
    "この逆ガンマ正規分布の密度函数に従う確率変数を $\\mu,v$ と書くと,\n",
    "\n",
    "$$\n",
    "E[v] = \\frac{\\theta}{\\kappa-1}, \\quad\n",
    "\\var(v) = \\frac{E[v]^2}{\\kappa-2}, \\quad\n",
    "\\cov(\\mu, v) = 0, \\quad\n",
    "E[\\mu] = \\mu_*, \\quad\n",
    "\\var(\\mu) = v_* E[v].\n",
    "$$\n",
    "\n",
    "逆ガンマ分布は正規分布の共役事前分布になっている."
   ]
  },
  {
   "cell_type": "markdown",
   "id": "cbb08b79",
   "metadata": {},
   "source": [
    "### Bayes更新\n",
    "\n",
    "データの数値 $y_1,\\ldots,y_n$ が与えられたとき, 正規分布モデルの尤度函数は\n",
    "\n",
    "$$\n",
    "\\prod_{i=1}^n p_\\op{N}(y_i|\\mu,v) \\propto\n",
    "v^{-n/2}\\exp\\left(-\\frac{1}{2v}\\sum_{i=1}^n(y_i-\\mu)^2\\right)\n",
    "$$\n",
    "\n",
    "の形になる. このとき,\n",
    "\n",
    "$$\n",
    "\\ybar = \\frac{1}{n}\\sum_{i=1}^n y_i, \\quad\n",
    "\\sigmahat^2 = \\frac{1}{n}\\sum_{i=1}^n (y_i - \\ybar)^2.\n",
    "$$\n",
    "\n",
    "とおくと, \n",
    "\n",
    "$$\n",
    "\\sum_{i=1}^n(y_i-\\mu)^2 = n(\\mu - \\ybar)^2 + n\\sigmahat^2\n",
    "$$\n",
    "\n",
    "なので, 尤度を最大化する $\\mu, v$ は $\\mu=\\ybar$, $v=\\sigmahat^2$ になることがわかる.\n",
    "\n",
    "さらに, 次が成立することもわかる:\n",
    "\n",
    "$$\n",
    "\\begin{aligned}\n",
    "&\n",
    "\\prod_{i=1}^n p_\\op{N}(y_i|\\mu,v)\\times p_\\op{IGN}(\\mu,v|\\mu_*, v_*, \\kappa, \\theta)\n",
    "\\\\ &\\propto\n",
    "v^{-n/2}\\exp\\left(-\\frac{n}{2v}\\left((\\mu-\\ybar)^2 + \\sigmahat^2\\right)\\right)\\times\n",
    "v^{-(\\kappa+1/2)-1}\n",
    "\\exp\\left(-\\frac{1}{v}\\left(\\theta + \\frac{1}{2v_*}(\\mu-\\mu_*)^2\\right)\\right)\n",
    "\\\\ &=\n",
    "v^{-(\\kappa+n/2+1/2)-1}\n",
    "\\exp\\left(-\\frac{1}{v}\\left(\n",
    "\\theta + \\frac{n}{2}\\left(\\sigmahat^2 + \\frac{(\\ybar - \\mu_*)^2}{1+nv_*}\\right) +\n",
    "\\frac{1+nv_*}{2v_*}\\left(\\mu - \\frac{\\mu_*+nv_*\\ybar}{1+nv_*}\\right)^2\n",
    "\\right)\\right).\n",
    "\\end{aligned}\n",
    "$$\n",
    "\n",
    "ゆえに共役事前分布から得られる事後分布のパラメータは次のようになる:\n",
    "\n",
    "$$\n",
    "\\begin{alignedat}{2}\n",
    "&\n",
    "\\tilde\\kappa = \\kappa + \\frac{n}{2} =\n",
    "\\frac{n}{2}\\left(1 + \\frac{2\\kappa}{n}\\right), \n",
    "\\\\ &\n",
    "\\tilde\\theta =\n",
    "\\theta + \\frac{n}{2}\\left(\\sigmahat^2 + \\frac{(\\ybar - \\mu_*)^2}{1+nv_*}\\right) =\n",
    "\\frac{n\\sigmahat^2}{2}\\left(1 + \\frac{2\\theta}{n\\sigmahat^2} + \\frac{(\\ybar - \\mu_*)^2}{(1+nv_*)\\sigmahat^2}\\right),\n",
    "\\\\ &\n",
    "\\tilde\\mu_* = \\frac{\\mu_*+nv_*\\ybar}{1+nv_*} =\n",
    "\\ybar\\frac{1+\\mu_*/(nv_*\\ybar)}{1+1/(nv_*)}, \n",
    "\\\\ &\n",
    "\\tilde v_* = \\frac{v_*}{1+nv_*} =\n",
    "\\frac{1}{n}\\frac{1}{1+1/(nv_*)}.\n",
    "\\end{alignedat}\n",
    "$$"
   ]
  },
  {
   "cell_type": "code",
   "execution_count": 3,
   "id": "60b3d367",
   "metadata": {},
   "outputs": [
    {
     "data": {
      "text/plain": [
       "(n, ȳ, v̂, μ, v, μ0, v0, κ, θ)"
      ]
     },
     "execution_count": 3,
     "metadata": {},
     "output_type": "execute_result"
    }
   ],
   "source": [
    "@vars n ȳ v̂ μ v μ0 v0 κ θ"
   ]
  },
  {
   "cell_type": "code",
   "execution_count": 4,
   "id": "71b6bc08",
   "metadata": {},
   "outputs": [
    {
     "data": {
      "text/latex": [
       "$\\displaystyle \\frac{n \\log{\\left(v \\right)}}{2} + \\frac{n \\left(v̂ + \\left(- ȳ + μ\\right)^{2}\\right)}{2 v}$\n"
      ],
      "text/plain": [
       "             /            2\\\n",
       "n*log(v)   n*\\v̂ + (-ȳ + μ) /\n",
       "-------- + -----------------\n",
       "   2              2*v       "
      ]
     },
     "execution_count": 4,
     "metadata": {},
     "output_type": "execute_result"
    }
   ],
   "source": [
    "negloglik = n/2*log(v) + n/(2v)*((μ - ȳ)^2 + v̂)"
   ]
  },
  {
   "cell_type": "code",
   "execution_count": 5,
   "id": "1a2a5ab1",
   "metadata": {},
   "outputs": [
    {
     "data": {
      "text/latex": [
       "$\\displaystyle \\left(κ + \\frac{3}{2}\\right) \\log{\\left(v \\right)} + \\frac{θ + \\frac{\\left(μ - μ_{0}\\right)^{2}}{2 v_{0}}}{v}$\n"
      ],
      "text/plain": [
       "                               2\n",
       "                       (μ - μ0) \n",
       "                   θ + ---------\n",
       "                          2*v0  \n",
       "(κ + 3/2)*log(v) + -------------\n",
       "                         v      "
      ]
     },
     "execution_count": 5,
     "metadata": {},
     "output_type": "execute_result"
    }
   ],
   "source": [
    "neglogpri = (κ + 1//2 + 1)*log(v) + 1/v*(θ + 1/(2v0)*(μ-μ0)^2)"
   ]
  },
  {
   "cell_type": "code",
   "execution_count": 6,
   "id": "9f75e722",
   "metadata": {},
   "outputs": [
    {
     "data": {
      "text/latex": [
       "$\\displaystyle \\left(\\frac{n}{2} + κ + \\frac{3}{2}\\right) \\log{\\left(v \\right)} + \\frac{\\frac{n \\left(v̂ + \\frac{\\left(ȳ - μ_{0}\\right)^{2}}{n v_{0} + 1}\\right)}{2} + θ + \\frac{\\left(μ - \\frac{n v_{0} ȳ + μ_{0}}{n v_{0} + 1}\\right)^{2} \\left(n v_{0} + 1\\right)}{2 v_{0}}}{v}$\n"
      ],
      "text/plain": [
       "                       /            2\\                        2           \n",
       "                       |    (ȳ - μ0) |       /    n*v0*ȳ + μ0\\            \n",
       "                     n*|v̂ + ---------|       |μ - -----------| *(n*v0 + 1)\n",
       "                       \\     n*v0 + 1/       \\      n*v0 + 1 /            \n",
       "                     ----------------- + θ + -----------------------------\n",
       "/n       3\\                  2                            2*v0            \n",
       "|- + κ + -|*log(v) + -----------------------------------------------------\n",
       "\\2       2/                                    v                          "
      ]
     },
     "execution_count": 6,
     "metadata": {},
     "output_type": "execute_result"
    }
   ],
   "source": [
    "neglogpost = (κ + n/2 + 1//2 + 1)*log(v) +  1/v*(\n",
    "    θ + n/2*(v̂ + 1/(1+n*v0)*(ȳ - μ0)^2) +\n",
    "    (1 + n*v0)/(2v0)*(μ - (μ0 + n*v0*ȳ)/(1 + n*v0))^2)"
   ]
  },
  {
   "cell_type": "code",
   "execution_count": 7,
   "id": "7b9e57b3",
   "metadata": {},
   "outputs": [
    {
     "data": {
      "text/latex": [
       "$\\displaystyle 0$\n"
      ],
      "text/plain": [
       "0"
      ]
     },
     "execution_count": 7,
     "metadata": {},
     "output_type": "execute_result"
    }
   ],
   "source": [
    "simplify(negloglik + neglogpri - neglogpost)"
   ]
  },
  {
   "cell_type": "markdown",
   "id": "799a5a14",
   "metadata": {},
   "source": [
    "### μの周辺事前・事後分布\n",
    "\n",
    "共役事前分布における $\\mu$ の周辺分布は次になる:\n",
    "\n",
    "$$\n",
    "\\mu \\sim\n",
    "\\mu_* + \\sqrt{\\frac{\\theta}{\\kappa}v_*}\\;\\op{TDist}(2\\kappa).\n",
    "$$\n",
    "\n",
    "パラメータをBayes更新後のパラメータ\n",
    "\n",
    "$$\n",
    "\\begin{alignedat}{2}\n",
    "&\n",
    "\\tilde\\kappa = \\kappa + \\frac{n}{2} =\n",
    "\\frac{n}{2}\\left(1 + \\frac{2\\kappa}{n}\\right), \n",
    "\\\\ &\n",
    "\\tilde\\theta =\n",
    "\\theta + \\frac{n}{2}\\left(\\sigmahat^2 + \\frac{(\\ybar - \\mu_*)^2}{1+nv_*}\\right) =\n",
    "\\frac{n\\sigmahat^2}{2}\\left(1 + \\frac{2\\theta}{n\\sigmahat^2} + \\frac{(\\ybar - \\mu_*)^2}{(1+nv_*)\\sigmahat^2}\\right),\n",
    "\\\\ &\n",
    "\\tilde\\mu_* = \\frac{\\mu_*+nv_*\\ybar}{1+nv_*} =\n",
    "\\ybar\\frac{1+\\mu_*/(nv_*\\ybar)}{1+1/(nv_*)}, \n",
    "\\\\ &\n",
    "\\tilde v_* = \\frac{v_*}{1+nv_*} =\n",
    "\\frac{1}{n}\\frac{1}{1+1/(nv_*)}.\n",
    "\\end{alignedat}\n",
    "$$\n",
    "\n",
    "に置き換えればこれは $\\mu$ の周辺事後分布になる.\n",
    "\n",
    "その事後分布を使った区間推定の幅は\n",
    "\n",
    "* $n$ が大きいほど狭くなる.\n",
    "* $\\kappa$ が大きいほど狭くなる.\n",
    "* $\\theta$ が大きいほど広くなる.\n",
    "* $|\\ybar - \\mu_*|/\\sigmahat$ が大きいほど広くなる.\n",
    "* $|\\ybar - \\mu_*|/\\sigmahat$ が大きくても, $v_*$ がさらに大きければ狭くなる."
   ]
  },
  {
   "cell_type": "markdown",
   "id": "fdc41813",
   "metadata": {},
   "source": [
    "### 事前・事後予測分布\n",
    "\n",
    "密度函数が\n",
    "\n",
    "$$\n",
    "p_*(y_\\op{new}) =\n",
    "\\iint_{\\R\\times\\R_{>0}}\n",
    "p_N(y_\\op{new}|\\mu,v)p_{IGN}(\\mu,v|\\mu_*,v_*,\\kappa,\\theta)\n",
    "\\,d\\mu\\,dv\n",
    "$$\n",
    "\n",
    "で定義される事前予測分布は次になる:\n",
    "\n",
    "$$\n",
    "y_\\op{new} \\sim\n",
    "\\mu_* + \\sqrt{\\frac{\\theta}{\\kappa}(1+v_*)}\\;\\op{TDist}(2\\kappa).\n",
    "$$\n",
    "\n",
    "パラメータをBayes更新後に置き換えればこれは事後予測分布になる."
   ]
  },
  {
   "cell_type": "markdown",
   "id": "9689cd63",
   "metadata": {},
   "source": [
    "### Jeffreys事前分布の場合\n",
    "\n",
    "\n",
    "正規分布モデルのJeffreys事前分布 $p_\\op{Jeffreys}(\\mu,v)$ は\n",
    "\n",
    "$$\n",
    "p_\\op{Jeffreys}(\\mu,v) \\propto v^{-3/2}\n",
    "$$\n",
    "\n",
    "となることが知られている. ただし, これの $(\\mu,v)\\in\\R\\times\\R_{>0}$ に関する積分は $\\infty$ になるので, これはimproper事前分布である.\n",
    "\n",
    "前節の逆ガンマ正規分布の密度函数と比較すると, Jeffreys事前分布に対応するパラメータ値は形式的に次になることがわかる:\n",
    "\n",
    "$$\n",
    "\\kappa \\to 0, \\quad\n",
    "\\theta \\to 0, \\quad\n",
    "v_* \\to \\infty.\n",
    "$$\n",
    "\n",
    "そのとき, Bayes更新後のパラメータの公式は次のようにシンプルになる:\n",
    "\n",
    "$$\n",
    "\\tilde\\kappa = \\frac{n}{2}, \\quad\n",
    "\\tilde\\theta = \\frac{n\\sigmahat^2}{2}, \\quad\n",
    "\\tilde\\mu_* = \\ybar, \\quad\n",
    "\\tilde v_* = \\frac{1}{n}.\n",
    "$$\n",
    "\n",
    "さらに, 前節の公式から, $n\\to\\infty$ のとき, 一般のパラメータ値に関するBayes更新の結果は, $n\\to\\infty$ のとき漸近的にこのJeffreys事前分布の場合に一致する.\n",
    "\n",
    "さらに, Jeffreys事前分布の場合には\n",
    "\n",
    "$$\n",
    "\\frac{\\tilde\\theta}{\\tilde\\kappa} = \\sigmahat^2, \\quad\n",
    "v_* = \\frac{1}{n}.\n",
    "$$\n",
    "\n",
    "ゆえに, $\\mu$ に関する周辺事後分布は\n",
    "\n",
    "$$\n",
    "\\mu \\sim\n",
    "\\ybar + \\frac{\\sigmahat}{\\sqrt{n}}\\;\\op{TDist}(n)\n",
    "$$\n",
    "\n",
    "になり, 事後予測分布は次になる:\n",
    "\n",
    "$$\n",
    "y_\\op{new} \\sim\n",
    "\\ybar + \\sigmahat\\sqrt{1+\\frac{1}{n}}\\;\\op{TDist}(n).\n",
    "$$"
   ]
  },
  {
   "cell_type": "markdown",
   "id": "fbe406b0",
   "metadata": {},
   "source": [
    "### 通常の信頼区間と予測区間との比較\n",
    "\n",
    "通常の $t$ 分布を使う平均の信頼区間と次の値の予測区間の構成では以下を使う:\n",
    "\n",
    "$$\n",
    "\\frac{\\ybar - \\mu}{s\\big/\\!\\sqrt{n}} \\sim\n",
    "\\op{TDist}(n-1), \\quad\n",
    "\\frac{y_\\op{new} - \\ybar}{s\\sqrt{1+1/n}} \\sim\n",
    "\\op{TDist}(n-1).\n",
    "$$\n",
    "\n",
    "ここで, $s^2$ は標本の不偏分散であり, $s$ はその平方根である:\n",
    "\n",
    "$$\n",
    "s^2 = \\frac{1}{n-1}\\sum_{i=1}^n(y_i - \\ybar)^2 =\n",
    "\\frac{n\\sigmahat^2}{n-1} > \\sigmahat^2.\n",
    "$$\n",
    "\n",
    "したがって, 前節の結果と比較すると, Jeffreys事前分布の事後分布と予測分布による区間推定は, 通常の信頼区間と予測区間よりも少し狭くなることがわかる."
   ]
  },
  {
   "cell_type": "markdown",
   "id": "e06e1f6d",
   "metadata": {},
   "source": [
    "### データの数値から事前分布を決めた場合\n",
    "\n",
    "$a,b>0$ であると仮定する.\n",
    "\n",
    "データの数値から共役事前分布のパラメータを次の条件によって決めたと仮定する:\n",
    "\n",
    "$$\n",
    "E[\\mu] = \\mu_* = \\ybar, \\quad\n",
    "E[v] = \\frac{\\theta}{\\kappa-1} = \\sigmahat^2, \\quad\n",
    "\\var(\\mu) = v_* E[v] = a\\sigmahat^2, \\quad\n",
    "\\var(v) = \\frac{E[v]^2}{\\kappa-2} = b\\sigmahat^4.\n",
    "$$\n",
    "\n",
    "これは次と同値である:\n",
    "\n",
    "$$\n",
    "\\mu_* = \\ybar, \\quad\n",
    "v_* = a, \\quad\n",
    "\\kappa = 2 + \\frac{1}{b}, \\quad\n",
    "\\theta = \\sigmahat^2\\left(1 + \\frac{1}{b}\\right).\n",
    "$$\n",
    "\n",
    "これのBayes更新の結果は以下のようになる:\n",
    "\n",
    "$$\n",
    "\\begin{alignedat}{2}\n",
    "&\n",
    "\\tilde\\kappa = 2 + \\frac{1}{b} + \\frac{n}{2} =\n",
    "\\frac{n}{2}\\left(1 + \\frac{2(2+1/b)}{n}\\right)\n",
    "& &\n",
    "\\to 2 + \\frac{n}{2},\n",
    "\\\\ &\n",
    "\\tilde\\theta =\n",
    "\\sigmahat^2\\left(1 + \\frac{1}{b} + \\frac{n}{2}\\right) + \\frac{n}{2}\\frac{(\\ybar - \\ybar)^2}{1+na} =\n",
    "\\frac{n\\sigmahat^2}{2}\\left(1 + \\frac{2(1+1/b))}{n}\\right)\n",
    "& &\n",
    "\\to \\sigmahat^2\\left(1 + \\frac{n}{2}\\right),\n",
    "\\\\ &\n",
    "\\tilde\\mu_* = \\frac{\\ybar+nv_*\\ybar}{1+nv_*} =\n",
    "\\ybar\n",
    "& &\n",
    "\\to \\ybar,\n",
    "\\\\ &\n",
    "\\tilde v_* = \\frac{a}{1+na} =\n",
    "\\frac{1}{n}\\frac{1}{1+1/(na)}\n",
    "& &\n",
    "\\to \\frac{1}{n}.\n",
    "\\end{alignedat}\n",
    "$$\n",
    "\n",
    "以上における $\\to$ は $a\\to\\infty$, $b\\to\\infty$ での極限を意味する.\n",
    "\n",
    "その極限を取った後もJeffreys事前分布の場合とは一致しない.\n",
    "\n",
    "以上の構成のポイントは, $\\mu_* = \\ybar$ となっているおかげで, $\\tilde\\mu_*$ も $\\tilde\\mu_* = \\ybar$ となってバイアスが消え, さらに, $\\tilde\\theta$ の中の $\\ds\\frac{n}{2}\\frac{(\\ybar - \\mu_*)^2}{1+na}$ の項が消えて, 区間推定の幅が無用に広くならずに済むことである.\n",
    "\n",
    "ただし, この場合には \n",
    "\n",
    "$$\n",
    "\\frac{\\tilde\\theta}{\\tilde\\kappa} =\n",
    "\\sigmahat^2\\frac{1 + 2(1+1/b)/n}{1 + 2(2+1/b)/n} < \\sigmahat^2, \\quad\n",
    "v_* = \\frac{1}{n}\\frac{1}{1+1/(na)} < \\frac{1}{n}\n",
    "$$\n",
    "\n",
    "なので, 区間推定の幅はJeffreys事前分布の場合よりも少し狭くなる.\n",
    "\n",
    "しかし, $n$ が大きければそれらの違いは小さくなる."
   ]
  },
  {
   "cell_type": "code",
   "execution_count": null,
   "id": "abe5b6d0",
   "metadata": {},
   "outputs": [],
   "source": []
  }
 ],
 "metadata": {
  "@webio": {
   "lastCommId": null,
   "lastKernelId": null
  },
  "jupytext": {
   "formats": "ipynb,md"
  },
  "kernelspec": {
   "display_name": "Julia 1.8.0",
   "language": "julia",
   "name": "julia-1.8"
  },
  "language_info": {
   "file_extension": ".jl",
   "mimetype": "application/julia",
   "name": "julia",
   "version": "1.8.0"
  },
  "toc": {
   "base_numbering": 1,
   "nav_menu": {},
   "number_sections": true,
   "sideBar": true,
   "skip_h1_title": true,
   "title_cell": "目次",
   "title_sidebar": "目次",
   "toc_cell": true,
   "toc_position": {},
   "toc_section_display": true,
   "toc_window_display": false
  }
 },
 "nbformat": 4,
 "nbformat_minor": 5
}
