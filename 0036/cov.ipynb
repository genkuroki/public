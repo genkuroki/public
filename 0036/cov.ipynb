{
 "cells": [
  {
   "cell_type": "markdown",
   "id": "e4479915-6f10-40f7-a795-92cdf5130919",
   "metadata": {
    "tags": []
   },
   "source": [
    "次の公式の確認: $\\bar{x} = (x_1+\\cdots+x_n)/n$, $\\bar{y} = (y_1+\\cdots+y_n)/n$ とおくと,\n",
    "\n",
    "$$\n",
    "\\frac{1}{n(n-1)}\\sum_{1\\le i<j\\le n} (x_i - x_j)(y_i - y_j) =\n",
    "\\frac{1}{n-1}\\sum_{i=1}^n (x_i - \\bar{x})(y_i - \\bar{y}).\n",
    "$$"
   ]
  },
  {
   "cell_type": "code",
   "execution_count": 1,
   "id": "8723226f-71c2-40be-8c26-7ceff0662433",
   "metadata": {},
   "outputs": [],
   "source": [
    "using Distributions"
   ]
  },
  {
   "cell_type": "code",
   "execution_count": 2,
   "id": "eeae2afa-ac94-4068-8824-919b38424866",
   "metadata": {},
   "outputs": [
    {
     "data": {
      "text/plain": [
       "mycov (generic function with 1 method)"
      ]
     },
     "execution_count": 2,
     "metadata": {},
     "output_type": "execute_result"
    }
   ],
   "source": [
    "function mycov(x, y)\n",
    "    @assert length(x) == length(y)\n",
    "    n = length(x)\n",
    "    sum((x[i] - x[j])*(y[i] - y[j]) for i in 1:n for j in i+1:n) / (n*(n-1))\n",
    "end"
   ]
  },
  {
   "cell_type": "code",
   "execution_count": 3,
   "id": "4057e83d-b526-40ae-8122-a317ca6a991d",
   "metadata": {},
   "outputs": [],
   "source": [
    "x = [1, 2, 3, 4]\n",
    "y = [4, 2, -1, 3];"
   ]
  },
  {
   "cell_type": "code",
   "execution_count": 4,
   "id": "d5aff1a5-22df-4a16-bb35-7a712773f427",
   "metadata": {},
   "outputs": [
    {
     "data": {
      "text/plain": [
       "-1.0"
      ]
     },
     "execution_count": 4,
     "metadata": {},
     "output_type": "execute_result"
    }
   ],
   "source": [
    "cov(x, y)"
   ]
  },
  {
   "cell_type": "code",
   "execution_count": 5,
   "id": "427f2b69-8b74-4297-b714-c5833995e21a",
   "metadata": {},
   "outputs": [
    {
     "data": {
      "text/plain": [
       "-1.0"
      ]
     },
     "execution_count": 5,
     "metadata": {},
     "output_type": "execute_result"
    }
   ],
   "source": [
    "mycov(x, y)"
   ]
  },
  {
   "cell_type": "code",
   "execution_count": 6,
   "id": "04cc9590-169b-4a15-8d4a-76c5b7b35b7d",
   "metadata": {},
   "outputs": [],
   "source": [
    "X, Y = randn(10), randn(10);"
   ]
  },
  {
   "cell_type": "code",
   "execution_count": 7,
   "id": "3b3a705f-c60b-4692-a9aa-117434298820",
   "metadata": {},
   "outputs": [
    {
     "data": {
      "text/plain": [
       "-0.5916374245077112"
      ]
     },
     "execution_count": 7,
     "metadata": {},
     "output_type": "execute_result"
    }
   ],
   "source": [
    "cov(X, Y)"
   ]
  },
  {
   "cell_type": "code",
   "execution_count": 8,
   "id": "f3ec3c77-96e2-4c8a-8b04-287f43b8a70d",
   "metadata": {},
   "outputs": [
    {
     "data": {
      "text/plain": [
       "-0.5916374245077113"
      ]
     },
     "execution_count": 8,
     "metadata": {},
     "output_type": "execute_result"
    }
   ],
   "source": [
    "mycov(X, Y)"
   ]
  },
  {
   "cell_type": "code",
   "execution_count": 9,
   "id": "bdc29346-16b6-4f5c-bff9-f78b635f8fa7",
   "metadata": {},
   "outputs": [
    {
     "data": {
      "text/plain": [
       "true"
      ]
     },
     "execution_count": 9,
     "metadata": {},
     "output_type": "execute_result"
    }
   ],
   "source": [
    "all((X = randn(10); Y = randn(10); cov(X, Y) ≈ mycov(X, Y)) for _ in 1:10^4)"
   ]
  },
  {
   "cell_type": "code",
   "execution_count": 10,
   "id": "eba48723-2320-4d5a-8eb9-a56a80f6584c",
   "metadata": {},
   "outputs": [
    {
     "data": {
      "text/plain": [
       "(Sym[x₁, x₂, x₃, x₄], Sym[y₁, y₂, y₃, y₄])"
      ]
     },
     "execution_count": 10,
     "metadata": {},
     "output_type": "execute_result"
    }
   ],
   "source": [
    "using SymPy\n",
    "n = 4\n",
    "x, y = @eval @syms x[1:$n]::real y[1:$n]::real"
   ]
  },
  {
   "cell_type": "code",
   "execution_count": 11,
   "id": "f83eb372-4229-499f-813f-ee3f5a1b2a10",
   "metadata": {},
   "outputs": [
    {
     "data": {
      "text/latex": [
       "$\\frac{x₁ y₁}{4} - \\frac{x₁ y₂}{12} - \\frac{x₁ y₃}{12} - \\frac{x₁ y₄}{12} - \\frac{x₂ y₁}{12} + \\frac{x₂ y₂}{4} - \\frac{x₂ y₃}{12} - \\frac{x₂ y₄}{12} - \\frac{x₃ y₁}{12} - \\frac{x₃ y₂}{12} + \\frac{x₃ y₃}{4} - \\frac{x₃ y₄}{12} - \\frac{x₄ y₁}{12} - \\frac{x₄ y₂}{12} - \\frac{x₄ y₃}{12} + \\frac{x₄ y₄}{4}$"
      ],
      "text/plain": [
       "x₁*y₁   x₁*y₂   x₁*y₃   x₁*y₄   x₂*y₁   x₂*y₂   x₂*y₃   x₂*y₄   x₃*y₁   x₃*y₂ \n",
       "----- - ----- - ----- - ----- - ----- + ----- - ----- - ----- - ----- - ----- \n",
       "  4       12      12      12      12      4       12      12      12      12  \n",
       "\n",
       "  x₃*y₃   x₃*y₄   x₄*y₁   x₄*y₂   x₄*y₃   x₄*y₄\n",
       "+ ----- - ----- - ----- - ----- - ----- + -----\n",
       "    4       12      12      12      12      4  "
      ]
     },
     "execution_count": 11,
     "metadata": {},
     "output_type": "execute_result"
    }
   ],
   "source": [
    "cov_xy = cov(x, y).simplify()"
   ]
  },
  {
   "cell_type": "code",
   "execution_count": 12,
   "id": "0d2041b4-5cd5-4a15-b3a8-f6d01132ef6a",
   "metadata": {},
   "outputs": [
    {
     "data": {
      "text/latex": [
       "$\\frac{x₁ y₁}{4} - \\frac{x₁ y₂}{12} - \\frac{x₁ y₃}{12} - \\frac{x₁ y₄}{12} - \\frac{x₂ y₁}{12} + \\frac{x₂ y₂}{4} - \\frac{x₂ y₃}{12} - \\frac{x₂ y₄}{12} - \\frac{x₃ y₁}{12} - \\frac{x₃ y₂}{12} + \\frac{x₃ y₃}{4} - \\frac{x₃ y₄}{12} - \\frac{x₄ y₁}{12} - \\frac{x₄ y₂}{12} - \\frac{x₄ y₃}{12} + \\frac{x₄ y₄}{4}$"
      ],
      "text/plain": [
       "x₁*y₁   x₁*y₂   x₁*y₃   x₁*y₄   x₂*y₁   x₂*y₂   x₂*y₃   x₂*y₄   x₃*y₁   x₃*y₂ \n",
       "----- - ----- - ----- - ----- - ----- + ----- - ----- - ----- - ----- - ----- \n",
       "  4       12      12      12      12      4       12      12      12      12  \n",
       "\n",
       "  x₃*y₃   x₃*y₄   x₄*y₁   x₄*y₂   x₄*y₃   x₄*y₄\n",
       "+ ----- - ----- - ----- - ----- - ----- + -----\n",
       "    4       12      12      12      12      4  "
      ]
     },
     "execution_count": 12,
     "metadata": {},
     "output_type": "execute_result"
    }
   ],
   "source": [
    "mycov_xy = mycov(x, y).expand()"
   ]
  },
  {
   "cell_type": "code",
   "execution_count": 13,
   "id": "4ad9185f-3b5a-478b-9ca4-d83f380dfe5f",
   "metadata": {},
   "outputs": [
    {
     "data": {
      "text/plain": [
       "true"
      ]
     },
     "execution_count": 13,
     "metadata": {},
     "output_type": "execute_result"
    }
   ],
   "source": [
    "cov_xy == mycov_xy"
   ]
  },
  {
   "cell_type": "code",
   "execution_count": 14,
   "id": "57ef44d5-e51a-480b-982d-9acfd9ef296e",
   "metadata": {},
   "outputs": [
    {
     "data": {
      "text/plain": [
       "true"
      ]
     },
     "execution_count": 14,
     "metadata": {},
     "output_type": "execute_result"
    }
   ],
   "source": [
    "n = 10\n",
    "x, y = @eval @syms x[1:$n]::real y[1:$n]::real\n",
    "cov(x, y).simplify() == mycov(x, y).expand()"
   ]
  },
  {
   "cell_type": "code",
   "execution_count": null,
   "id": "801952d8-fb1e-4643-8a6b-6a4244929ee5",
   "metadata": {},
   "outputs": [],
   "source": []
  }
 ],
 "metadata": {
  "jupytext": {
   "formats": "ipynb,jl:hydrogen"
  },
  "kernelspec": {
   "display_name": "Julia 1.8.0",
   "language": "julia",
   "name": "julia-1.8"
  },
  "language_info": {
   "file_extension": ".jl",
   "mimetype": "application/julia",
   "name": "julia",
   "version": "1.8.0"
  }
 },
 "nbformat": 4,
 "nbformat_minor": 5
}
