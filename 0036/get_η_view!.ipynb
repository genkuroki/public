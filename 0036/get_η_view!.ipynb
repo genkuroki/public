{
 "cells": [
  {
   "cell_type": "code",
   "execution_count": 1,
   "id": "cb5e4b3a-6474-4d98-b9ea-1697135a9ce5",
   "metadata": {},
   "outputs": [
    {
     "data": {
      "text/plain": [
       "@atime (macro with 1 method)"
      ]
     },
     "execution_count": 1,
     "metadata": {},
     "output_type": "execute_result"
    }
   ],
   "source": [
    "using BenchmarkTools\n",
    "macro atime(expr) :(@btime $expr samples=1 evals=1) end"
   ]
  },
  {
   "cell_type": "code",
   "execution_count": 2,
   "id": "c6028234-5089-4f2d-91c9-3cb8a1a2d8ce",
   "metadata": {},
   "outputs": [
    {
     "data": {
      "text/plain": [
       "get_η_ (generic function with 1 method)"
      ]
     },
     "execution_count": 2,
     "metadata": {},
     "output_type": "execute_result"
    }
   ],
   "source": [
    "function get_η_(T)\n",
    "    D = ndims(T)\n",
    "    η = reverse(T)\n",
    "    for d in 1:D\n",
    "        cumsum!(η, η, dims=d)\n",
    "    end\n",
    "    reverse!(η)\n",
    "end"
   ]
  },
  {
   "cell_type": "code",
   "execution_count": 3,
   "id": "b7310580-9f71-453e-80fa-901101dead1c",
   "metadata": {},
   "outputs": [
    {
     "data": {
      "text/plain": [
       "get_η_view (generic function with 1 method)"
      ]
     },
     "execution_count": 3,
     "metadata": {},
     "output_type": "execute_result"
    }
   ],
   "source": [
    "function get_η_view!(T)\n",
    "    D = ndims(T)\n",
    "    η = view(T, reverse.(axes(T))...)\n",
    "    for d in 1:D\n",
    "        cumsum!(η, η, dims=d)\n",
    "    end\n",
    "    parent(η)\n",
    "end\n",
    "\n",
    "get_η_view(T) = get_η_view!(copy(T))"
   ]
  },
  {
   "cell_type": "code",
   "execution_count": 4,
   "id": "c17f5e53-2598-4b41-9ac0-f3e4ffd6af4e",
   "metadata": {},
   "outputs": [
    {
     "data": {
      "text/plain": [
       "true"
      ]
     },
     "execution_count": 4,
     "metadata": {},
     "output_type": "execute_result"
    }
   ],
   "source": [
    "T = rand(1:8, 5, 4, 3)\n",
    "A = get_η_(T)\n",
    "B = get_η_view(T)\n",
    "A == B"
   ]
  },
  {
   "cell_type": "code",
   "execution_count": 5,
   "id": "ff1dcc7b-bca8-4bd9-8d6c-1634dee3f72f",
   "metadata": {},
   "outputs": [
    {
     "name": "stdout",
     "output_type": "stream",
     "text": [
      "  450.770 ms (2 allocations: 488.28 MiB)\n"
     ]
    }
   ],
   "source": [
    "T = @atime rand(1:8, 400, 400, 400);"
   ]
  },
  {
   "cell_type": "code",
   "execution_count": 6,
   "id": "0c9e9546-2956-43d1-80a3-168221a2b3d3",
   "metadata": {},
   "outputs": [
    {
     "name": "stdout",
     "output_type": "stream",
     "text": [
      "  438.404 ms (10 allocations: 488.28 MiB)\n"
     ]
    }
   ],
   "source": [
    "A = @atime get_η_($T);"
   ]
  },
  {
   "cell_type": "code",
   "execution_count": 7,
   "id": "627bd9f2-f4e1-473c-b3ac-4b798273d385",
   "metadata": {},
   "outputs": [
    {
     "name": "stdout",
     "output_type": "stream",
     "text": [
      "  251.031 ms (14 allocations: 488.28 MiB)\n"
     ]
    }
   ],
   "source": [
    "B = @atime get_η_view($T);"
   ]
  },
  {
   "cell_type": "code",
   "execution_count": 8,
   "id": "4c4b52cf-d466-42e4-aa66-281e8e6ca114",
   "metadata": {},
   "outputs": [
    {
     "data": {
      "text/plain": [
       "true"
      ]
     },
     "execution_count": 8,
     "metadata": {},
     "output_type": "execute_result"
    }
   ],
   "source": [
    "A == B"
   ]
  },
  {
   "cell_type": "code",
   "execution_count": 9,
   "id": "f58fc06f-5565-48c5-aec4-5d574da786d2",
   "metadata": {},
   "outputs": [
    {
     "name": "stdout",
     "output_type": "stream",
     "text": [
      "  0.079798 seconds (16 allocations: 488.282 MiB, 1.88% gc time, 2.39% compilation time)\n",
      "  0.178083 seconds (12 allocations: 608 bytes)\n"
     ]
    },
    {
     "data": {
      "text/plain": [
       "true"
      ]
     },
     "execution_count": 9,
     "metadata": {},
     "output_type": "execute_result"
    }
   ],
   "source": [
    "tmp = @time copy(T)\n",
    "C = @time get_η_view!(tmp)\n",
    "A == C"
   ]
  },
  {
   "cell_type": "code",
   "execution_count": null,
   "id": "2bf85b99-8ab7-4f78-8fe4-38e575904552",
   "metadata": {},
   "outputs": [],
   "source": []
  }
 ],
 "metadata": {
  "jupytext": {
   "formats": "ipynb,jl:hydrogen"
  },
  "kernelspec": {
   "display_name": "Julia 1.8.0",
   "language": "julia",
   "name": "julia-1.8"
  },
  "language_info": {
   "file_extension": ".jl",
   "mimetype": "application/julia",
   "name": "julia",
   "version": "1.8.0"
  }
 },
 "nbformat": 4,
 "nbformat_minor": 5
}
