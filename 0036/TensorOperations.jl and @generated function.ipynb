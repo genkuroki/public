{
 "cells": [
  {
   "cell_type": "markdown",
   "id": "f7f490da",
   "metadata": {},
   "source": [
    "https://github.com/genkuroki/public/blob/main/0036/TensorOperations.jl.ipynb の続き"
   ]
  },
  {
   "cell_type": "code",
   "execution_count": 1,
   "id": "8ca11017",
   "metadata": {},
   "outputs": [],
   "source": [
    "using TensorOperations\n",
    "using BenchmarkTools"
   ]
  },
  {
   "cell_type": "code",
   "execution_count": 2,
   "id": "f54761b8",
   "metadata": {},
   "outputs": [
    {
     "data": {
      "text/plain": [
       "@multitrace (macro with 2 methods)"
      ]
     },
     "execution_count": 2,
     "metadata": {},
     "output_type": "execute_result"
    }
   ],
   "source": [
    "function refA_Gs(A, G, N)\n",
    "    Gs = :($G[1][i1, j1, i2])\n",
    "    for k in 2:N\n",
    "        ik = Symbol(:i, k)\n",
    "        jk = Symbol(:j, k)\n",
    "        ikp1 = Symbol(:i, mod1(k+1, N))\n",
    "        Gs = :($Gs * $G[$k][$ik, $jk, $ikp1])\n",
    "    end\n",
    "    refA = Expr(:ref, :A, Symbol.(:j, 1:N)...)\n",
    "    refA, Gs\n",
    "end\n",
    "\n",
    "macro multitrace(G, N)\n",
    "    refA, Gs = refA_Gs(:A, :G, N)\n",
    "    quote\n",
    "        let G = $(esc(G))\n",
    "            @tensor $refA := $Gs\n",
    "        end\n",
    "    end\n",
    "end\n",
    "\n",
    "macro multitrace(A, G, N)\n",
    "    refA, Gs = refA_Gs(:A, :G, N)\n",
    "    quote\n",
    "        let A = $(esc(A)), G = $(esc(G))\n",
    "            @tensor $refA = $Gs\n",
    "        end\n",
    "    end\n",
    "end"
   ]
  },
  {
   "cell_type": "code",
   "execution_count": 3,
   "id": "519dfdeb",
   "metadata": {},
   "outputs": [
    {
     "data": {
      "text/plain": [
       "multr! (generic function with 2 methods)"
      ]
     },
     "execution_count": 3,
     "metadata": {},
     "output_type": "execute_result"
    }
   ],
   "source": [
    "@generated function multr(G, ::Val{N}) where N\n",
    "    refA, Gs = refA_Gs(:A, :G, N)\n",
    "    quote\n",
    "        @tensor $refA := $Gs\n",
    "    end\n",
    "end\n",
    "\n",
    "multr(G) = multr(G, Val(length(G)))\n",
    "\n",
    "@generated function multr!(A, G, ::Val{N}) where N\n",
    "    refA, Gs = refA_Gs(:A, :G, N)\n",
    "    quote\n",
    "        @tensor $refA = $Gs\n",
    "    end\n",
    "end\n",
    "\n",
    "multr!(A, G) = multr!(A, G, Val(length(G)))"
   ]
  },
  {
   "cell_type": "code",
   "execution_count": 4,
   "id": "5aa24905",
   "metadata": {},
   "outputs": [
    {
     "data": {
      "text/plain": [
       "4-element Vector{Tuple{Int64, Int64, Int64}}:\n",
       " (100, 6, 8)\n",
       " (8, 7, 6)\n",
       " (6, 5, 5)\n",
       " (5, 4, 100)"
      ]
     },
     "execution_count": 4,
     "metadata": {},
     "output_type": "execute_result"
    }
   ],
   "source": [
    "i = [100, 8, 6, 5]\n",
    "j = [6, 7, 5, 4]\n",
    "H = [randn(i[mod1(k, 4)], j[k], i[mod1(k+1, 4)]) for k in 1:4]\n",
    "size.(H)"
   ]
  },
  {
   "cell_type": "code",
   "execution_count": 5,
   "id": "cf819a81",
   "metadata": {},
   "outputs": [
    {
     "data": {
      "text/plain": [
       "(Array{Float64, 4}, (6, 7, 5, 4))"
      ]
     },
     "execution_count": 5,
     "metadata": {},
     "output_type": "execute_result"
    }
   ],
   "source": [
    "A = @multitrace H 4\n",
    "typeof(A), size(A)"
   ]
  },
  {
   "cell_type": "code",
   "execution_count": 6,
   "id": "9bc07a27",
   "metadata": {},
   "outputs": [
    {
     "data": {
      "text/plain": [
       "true"
      ]
     },
     "execution_count": 6,
     "metadata": {},
     "output_type": "execute_result"
    }
   ],
   "source": [
    "B = multr(H)\n",
    "A == B"
   ]
  },
  {
   "cell_type": "code",
   "execution_count": 7,
   "id": "d6c9fb5d",
   "metadata": {},
   "outputs": [
    {
     "data": {
      "text/plain": [
       "true"
      ]
     },
     "execution_count": 7,
     "metadata": {},
     "output_type": "execute_result"
    }
   ],
   "source": [
    "C = similar(zeros(), j...)\n",
    "multr!(C, H)\n",
    "A == B == C"
   ]
  },
  {
   "cell_type": "code",
   "execution_count": 8,
   "id": "e0d698bd",
   "metadata": {},
   "outputs": [
    {
     "name": "stdout",
     "output_type": "stream",
     "text": [
      "size.(H) = [(100, 6, 8), (8, 7, 6), (6, 5, 5), (5, 4, 100)]\n",
      "  223.600 μs (170 allocations: 21.44 KiB)\n",
      "  226.000 μs (172 allocations: 21.56 KiB)\n",
      "  224.400 μs (170 allocations: 14.83 KiB)\n"
     ]
    },
    {
     "data": {
      "text/plain": [
       "true"
      ]
     },
     "execution_count": 8,
     "metadata": {},
     "output_type": "execute_result"
    }
   ],
   "source": [
    "@show size.(H)\n",
    "\n",
    "A = @btime @multitrace $H 4\n",
    "B = @btime multr($H)\n",
    "C = @btime multr!($C, $H)\n",
    "A == B == C"
   ]
  },
  {
   "cell_type": "code",
   "execution_count": 9,
   "id": "6d51e49f",
   "metadata": {},
   "outputs": [
    {
     "name": "stdout",
     "output_type": "stream",
     "text": [
      "size.(K) = [(5, 4, 100), (100, 6, 8), (8, 7, 6), (6, 5, 5)]\n",
      "  32.800 μs (100 allocations: 13.44 KiB)\n",
      "  33.500 μs (104 allocations: 13.72 KiB)\n",
      "  31.900 μs (100 allocations: 6.89 KiB)\n"
     ]
    },
    {
     "data": {
      "text/plain": [
       "true"
      ]
     },
     "execution_count": 9,
     "metadata": {},
     "output_type": "execute_result"
    }
   ],
   "source": [
    "K = [H[mod1(k-1, length(H))] for k in 1:length(H)]\n",
    "@show size.(K)\n",
    "F = similar(zeros(), size.(K, 2)...)\n",
    "\n",
    "D = @btime @multitrace $K 4\n",
    "E = @btime multr($K)\n",
    "F = @btime multr!($F, $K)\n",
    "D == E == F"
   ]
  },
  {
   "cell_type": "code",
   "execution_count": 10,
   "id": "8cc7c044",
   "metadata": {},
   "outputs": [
    {
     "data": {
      "text/plain": [
       "true"
      ]
     },
     "execution_count": 10,
     "metadata": {},
     "output_type": "execute_result"
    }
   ],
   "source": [
    "permutedims(A, (4, 1, 2, 3)) ≈ D"
   ]
  },
  {
   "cell_type": "code",
   "execution_count": null,
   "id": "acbba4bb-0115-42a1-8932-8f3f39e9725c",
   "metadata": {},
   "outputs": [],
   "source": []
  }
 ],
 "metadata": {
  "@webio": {
   "lastCommId": null,
   "lastKernelId": null
  },
  "jupytext": {
   "encoding": "# -*- coding: utf-8 -*-",
   "formats": "ipynb,jl:hydrogen"
  },
  "kernelspec": {
   "display_name": "Julia 1.8.0",
   "language": "julia",
   "name": "julia-1.8"
  },
  "language_info": {
   "file_extension": ".jl",
   "mimetype": "application/julia",
   "name": "julia",
   "version": "1.8.0"
  },
  "toc": {
   "base_numbering": 1,
   "nav_menu": {},
   "number_sections": false,
   "sideBar": true,
   "skip_h1_title": true,
   "title_cell": "Table of Contents",
   "title_sidebar": "Contents",
   "toc_cell": false,
   "toc_position": {},
   "toc_section_display": true,
   "toc_window_display": false
  }
 },
 "nbformat": 4,
 "nbformat_minor": 5
}
