{
 "cells": [
  {
   "cell_type": "code",
   "execution_count": 154,
   "id": "75ba098e-4af1-4efa-a060-587d3d907b91",
   "metadata": {},
   "outputs": [
    {
     "data": {
      "text/plain": [
       "foo (generic function with 2 methods)"
      ]
     },
     "execution_count": 154,
     "metadata": {},
     "output_type": "execute_result"
    }
   ],
   "source": [
    "@generated function foo(x, ::Val{N}) where N\n",
    "    expr = :(x[begin])\n",
    "    for i in 1:N-1\n",
    "        expr = :($expr + x[begin+$i])\n",
    "    end\n",
    "    quote\n",
    "        $expr\n",
    "    end\n",
    "end\n",
    "\n",
    "foo(x) = foo(x, Val(length(x)))"
   ]
  },
  {
   "cell_type": "code",
   "execution_count": 155,
   "id": "89c2ca70-7f93-4d06-a88d-765cf0ac4ab3",
   "metadata": {},
   "outputs": [
    {
     "data": {
      "text/plain": [
       "CodeInfo(\n",
       "\u001b[90m1 ──\u001b[39m %1  = Base.getfield(x, :start)\u001b[36m::Int64\u001b[39m\n",
       "\u001b[90m│   \u001b[39m %2  = Base.add_int(%1, 0)\u001b[36m::Int64\u001b[39m\n",
       "\u001b[90m└───\u001b[39m       goto #8 if not true\n",
       "\u001b[90m2 ──\u001b[39m %4  = Base.getfield(x, :stop)\u001b[36m::Int64\u001b[39m\n",
       "\u001b[90m│   \u001b[39m %5  = Base.sle_int(%2, %4)\u001b[36m::Bool\u001b[39m\n",
       "\u001b[90m└───\u001b[39m       goto #4 if not %5\n",
       "\u001b[90m3 ──\u001b[39m %7  = Base.getfield(x, :start)\u001b[36m::Int64\u001b[39m\n",
       "\u001b[90m│   \u001b[39m %8  = Base.sle_int(%7, %2)\u001b[36m::Bool\u001b[39m\n",
       "\u001b[90m└───\u001b[39m       goto #5\n",
       "\u001b[90m4 ──\u001b[39m       goto #5\n",
       "\u001b[90m5 ┄─\u001b[39m %11 = φ (#3 => %8, #4 => false)\u001b[36m::Bool\u001b[39m\n",
       "\u001b[90m└───\u001b[39m       goto #7 if not %11\n",
       "\u001b[90m6 ──\u001b[39m       goto #8\n",
       "\u001b[90m7 ──\u001b[39m       invoke Base.throw_boundserror(x::UnitRange{Int64}, 1::Int64)\u001b[90m::Union{}\u001b[39m\n",
       "\u001b[90m└───\u001b[39m       unreachable\n",
       "\u001b[90m8 ┄─\u001b[39m       goto #9\n",
       "\u001b[90m9 ──\u001b[39m %17 = Base.getfield(x, :start)\u001b[36m::Int64\u001b[39m\n",
       "\u001b[90m│   \u001b[39m %18 = Base.sub_int(2, 1)\u001b[36m::Int64\u001b[39m\n",
       "\u001b[90m│   \u001b[39m %19 = Base.add_int(%17, %18)\u001b[36m::Int64\u001b[39m\n",
       "\u001b[90m└───\u001b[39m       goto #18 if not true\n",
       "\u001b[90m10 ─\u001b[39m %21 = Base.slt_int(0, 2)\u001b[36m::Bool\u001b[39m\n",
       "\u001b[90m└───\u001b[39m       goto #14 if not %21\n",
       "\u001b[90m11 ─\u001b[39m %23 = Base.getfield(x, :stop)\u001b[36m::Int64\u001b[39m\n",
       "\u001b[90m│   \u001b[39m %24 = Base.sle_int(%19, %23)\u001b[36m::Bool\u001b[39m\n",
       "\u001b[90m└───\u001b[39m       goto #13 if not %24\n",
       "\u001b[90m12 ─\u001b[39m %26 = Base.getfield(x, :start)\u001b[36m::Int64\u001b[39m\n",
       "\u001b[90m│   \u001b[39m %27 = Base.sle_int(%26, %19)\u001b[36m::Bool\u001b[39m\n",
       "\u001b[90m└───\u001b[39m       goto #15\n",
       "\u001b[90m13 ─\u001b[39m       goto #15\n",
       "\u001b[90m14 ─\u001b[39m       goto #15\n",
       "\u001b[90m15 ┄\u001b[39m %31 = φ (#12 => %27, #13 => false, #14 => false)\u001b[36m::Bool\u001b[39m\n",
       "\u001b[90m└───\u001b[39m       goto #17 if not %31\n",
       "\u001b[90m16 ─\u001b[39m       goto #18\n",
       "\u001b[90m17 ─\u001b[39m       invoke Base.throw_boundserror(x::UnitRange{Int64}, 2::Int64)\u001b[90m::Union{}\u001b[39m\n",
       "\u001b[90m└───\u001b[39m       unreachable\n",
       "\u001b[90m18 ┄\u001b[39m       goto #19\n",
       "\u001b[90m19 ─\u001b[39m %37 = Base.add_int(%2, %19)\u001b[36m::Int64\u001b[39m\n",
       "\u001b[90m│   \u001b[39m %38 = Base.getfield(x, :start)\u001b[36m::Int64\u001b[39m\n",
       "\u001b[90m│   \u001b[39m %39 = Base.sub_int(3, 1)\u001b[36m::Int64\u001b[39m\n",
       "\u001b[90m│   \u001b[39m %40 = Base.add_int(%38, %39)\u001b[36m::Int64\u001b[39m\n",
       "\u001b[90m└───\u001b[39m       goto #28 if not true\n",
       "\u001b[90m20 ─\u001b[39m %42 = Base.slt_int(0, 3)\u001b[36m::Bool\u001b[39m\n",
       "\u001b[90m└───\u001b[39m       goto #24 if not %42\n",
       "\u001b[90m21 ─\u001b[39m %44 = Base.getfield(x, :stop)\u001b[36m::Int64\u001b[39m\n",
       "\u001b[90m│   \u001b[39m %45 = Base.sle_int(%40, %44)\u001b[36m::Bool\u001b[39m\n",
       "\u001b[90m└───\u001b[39m       goto #23 if not %45\n",
       "\u001b[90m22 ─\u001b[39m %47 = Base.getfield(x, :start)\u001b[36m::Int64\u001b[39m\n",
       "\u001b[90m│   \u001b[39m %48 = Base.sle_int(%47, %40)\u001b[36m::Bool\u001b[39m\n",
       "\u001b[90m└───\u001b[39m       goto #25\n",
       "\u001b[90m23 ─\u001b[39m       goto #25\n",
       "\u001b[90m24 ─\u001b[39m       goto #25\n",
       "\u001b[90m25 ┄\u001b[39m %52 = φ (#22 => %48, #23 => false, #24 => false)\u001b[36m::Bool\u001b[39m\n",
       "\u001b[90m└───\u001b[39m       goto #27 if not %52\n",
       "\u001b[90m26 ─\u001b[39m       goto #28\n",
       "\u001b[90m27 ─\u001b[39m       invoke Base.throw_boundserror(x::UnitRange{Int64}, 3::Int64)\u001b[90m::Union{}\u001b[39m\n",
       "\u001b[90m└───\u001b[39m       unreachable\n",
       "\u001b[90m28 ┄\u001b[39m       goto #29\n",
       "\u001b[90m29 ─\u001b[39m %58 = Base.add_int(%37, %40)\u001b[36m::Int64\u001b[39m\n",
       "\u001b[90m│   \u001b[39m %59 = Base.getfield(x, :start)\u001b[36m::Int64\u001b[39m\n",
       "\u001b[90m│   \u001b[39m %60 = Base.sub_int(4, 1)\u001b[36m::Int64\u001b[39m\n",
       "\u001b[90m│   \u001b[39m %61 = Base.add_int(%59, %60)\u001b[36m::Int64\u001b[39m\n",
       "\u001b[90m└───\u001b[39m       goto #38 if not true\n",
       "\u001b[90m30 ─\u001b[39m %63 = Base.slt_int(0, 4)\u001b[36m::Bool\u001b[39m\n",
       "\u001b[90m└───\u001b[39m       goto #34 if not %63\n",
       "\u001b[90m31 ─\u001b[39m %65 = Base.getfield(x, :stop)\u001b[36m::Int64\u001b[39m\n",
       "\u001b[90m│   \u001b[39m %66 = Base.sle_int(%61, %65)\u001b[36m::Bool\u001b[39m\n",
       "\u001b[90m└───\u001b[39m       goto #33 if not %66\n",
       "\u001b[90m32 ─\u001b[39m %68 = Base.getfield(x, :start)\u001b[36m::Int64\u001b[39m\n",
       "\u001b[90m│   \u001b[39m %69 = Base.sle_int(%68, %61)\u001b[36m::Bool\u001b[39m\n",
       "\u001b[90m└───\u001b[39m       goto #35\n",
       "\u001b[90m33 ─\u001b[39m       goto #35\n",
       "\u001b[90m34 ─\u001b[39m       goto #35\n",
       "\u001b[90m35 ┄\u001b[39m %73 = φ (#32 => %69, #33 => false, #34 => false)\u001b[36m::Bool\u001b[39m\n",
       "\u001b[90m└───\u001b[39m       goto #37 if not %73\n",
       "\u001b[90m36 ─\u001b[39m       goto #38\n",
       "\u001b[90m37 ─\u001b[39m       invoke Base.throw_boundserror(x::UnitRange{Int64}, 4::Int64)\u001b[90m::Union{}\u001b[39m\n",
       "\u001b[90m└───\u001b[39m       unreachable\n",
       "\u001b[90m38 ┄\u001b[39m       goto #39\n",
       "\u001b[90m39 ─\u001b[39m %79 = Base.add_int(%58, %61)\u001b[36m::Int64\u001b[39m\n",
       "\u001b[90m└───\u001b[39m       return %79\n",
       ") => Int64"
      ]
     },
     "execution_count": 155,
     "metadata": {},
     "output_type": "execute_result"
    }
   ],
   "source": [
    "@code_typed foo(1:4, Val(4))"
   ]
  },
  {
   "cell_type": "code",
   "execution_count": 156,
   "id": "1ee88bf2-8d07-49fe-85cb-5c926b07e530",
   "metadata": {},
   "outputs": [
    {
     "name": "stdout",
     "output_type": "stream",
     "text": [
      "MethodInstance for foo(::UnitRange{Int64}, ::Val{2})\n",
      "  from foo(x, ::Val{N}) where N in Main at In[154]:1\n",
      "Static Parameters\n",
      "  N = \u001b[36m2\u001b[39m\n",
      "Arguments\n",
      "  #self#\u001b[36m::Core.Const(foo)\u001b[39m\n",
      "  x\u001b[36m::UnitRange{Int64}\u001b[39m\n",
      "  _\u001b[36m::Core.Const(Val{2}())\u001b[39m\n",
      "Body\u001b[36m::Int64\u001b[39m\n",
      "\u001b[90m1 ─\u001b[39m %1 = Base.firstindex(x)\u001b[36m::Core.Const(1)\u001b[39m\n",
      "\u001b[90m│  \u001b[39m %2 = Base.getindex(x, %1)\u001b[36m::Int64\u001b[39m\n",
      "\u001b[90m│  \u001b[39m %3 = Base.firstindex(x)\u001b[36m::Core.Const(1)\u001b[39m\n",
      "\u001b[90m│  \u001b[39m %4 = (%3 + 1)\u001b[36m::Core.Const(2)\u001b[39m\n",
      "\u001b[90m│  \u001b[39m %5 = Base.getindex(x, %4)\u001b[36m::Int64\u001b[39m\n",
      "\u001b[90m│  \u001b[39m %6 = (%2 + %5)\u001b[36m::Int64\u001b[39m\n",
      "\u001b[90m└──\u001b[39m      return %6\n",
      "\n"
     ]
    }
   ],
   "source": [
    "@code_warntype foo(1:2, Val(2))"
   ]
  },
  {
   "cell_type": "code",
   "execution_count": 150,
   "id": "a6911a12-4bd3-4e18-8915-748c473ed3c3",
   "metadata": {},
   "outputs": [
    {
     "data": {
      "text/plain": [
       "CodeInfo(\n",
       "\u001b[90m1 ─\u001b[39m %1 = Base.add_int(a, b)\u001b[36m::Int64\u001b[39m\n",
       "\u001b[90m│  \u001b[39m %2 = Base.add_int(%1, c)\u001b[36m::Int64\u001b[39m\n",
       "\u001b[90m│  \u001b[39m %3 = Core.getfield(xs, 1)\u001b[36m::Int64\u001b[39m\n",
       "\u001b[90m│  \u001b[39m %4 = Core.getfield(xs, 2)\u001b[36m::Int64\u001b[39m\n",
       "\u001b[90m│  \u001b[39m %5 = Core.getfield(xs, 3)\u001b[36m::Int64\u001b[39m\n",
       "\u001b[90m│  \u001b[39m %6 = Base.add_int(%2, %3)\u001b[36m::Int64\u001b[39m\n",
       "\u001b[90m│  \u001b[39m %7 = Base.add_int(%6, %4)\u001b[36m::Int64\u001b[39m\n",
       "\u001b[90m│  \u001b[39m %8 = Base.add_int(%7, %5)\u001b[36m::Int64\u001b[39m\n",
       "\u001b[90m└──\u001b[39m      return %8\n",
       ") => Int64"
      ]
     },
     "execution_count": 150,
     "metadata": {},
     "output_type": "execute_result"
    }
   ],
   "source": [
    "@code_typed +(1, 2, 3, 4, 5, 6)"
   ]
  },
  {
   "cell_type": "code",
   "execution_count": null,
   "id": "ff65e94d-6833-4319-a008-099ee0f038a8",
   "metadata": {},
   "outputs": [],
   "source": []
  }
 ],
 "metadata": {
  "kernelspec": {
   "display_name": "Julia 1.8.0",
   "language": "julia",
   "name": "julia-1.8"
  },
  "language_info": {
   "file_extension": ".jl",
   "mimetype": "application/julia",
   "name": "julia",
   "version": "1.8.0"
  }
 },
 "nbformat": 4,
 "nbformat_minor": 5
}
