{
 "cells": [
  {
   "cell_type": "code",
   "execution_count": 1,
   "id": "e735bdb0-1efa-4d28-92c6-2fffa8997271",
   "metadata": {},
   "outputs": [],
   "source": [
    "using BenchmarkTools\n",
    "using HypergeometricFunctions\n",
    "using Distributions\n",
    "using SpecialFunctions\n",
    "using StaticArrays\n",
    "using StatsPlots"
   ]
  },
  {
   "cell_type": "code",
   "execution_count": 2,
   "id": "ad39af3d-af5b-4add-b3cb-68e0b074870d",
   "metadata": {},
   "outputs": [
    {
     "data": {
      "text/plain": [
       "binom (generic function with 1 method)"
      ]
     },
     "execution_count": 2,
     "metadata": {},
     "output_type": "execute_result"
    }
   ],
   "source": [
    "logbinom(n, k) = 0 ≤ k ≤ n ? loggamma(n+1) - loggamma(k+1) - loggamma(n-k+1) : -Inf\n",
    "binom(n, k) = exp(logbinom(n, k))"
   ]
  },
  {
   "cell_type": "code",
   "execution_count": 3,
   "id": "f852f1eb-065c-4a51-bd22-bcc09f8463c2",
   "metadata": {},
   "outputs": [
    {
     "data": {
      "text/plain": [
       "11×3 Matrix{Float64}:\n",
       "  0.0    1.0    1.0\n",
       "  1.0   10.0   10.0\n",
       "  2.0   45.0   45.0\n",
       "  3.0  120.0  120.0\n",
       "  4.0  210.0  210.0\n",
       "  5.0  252.0  252.0\n",
       "  6.0  210.0  210.0\n",
       "  7.0  120.0  120.0\n",
       "  8.0   45.0   45.0\n",
       "  9.0   10.0   10.0\n",
       " 10.0    1.0    1.0"
      ]
     },
     "execution_count": 3,
     "metadata": {},
     "output_type": "execute_result"
    }
   ],
   "source": [
    "n = 10\n",
    "vcat(([k binom(n, k) binomial(n, k)] for k in 0:n)...)"
   ]
  },
  {
   "cell_type": "code",
   "execution_count": 4,
   "id": "50c61386-e479-4304-96bc-9e72a1c45cbb",
   "metadata": {},
   "outputs": [
    {
     "data": {
      "text/plain": [
       "F (generic function with 1 method)"
      ]
     },
     "execution_count": 4,
     "metadata": {},
     "output_type": "execute_result"
    }
   ],
   "source": [
    "# See https://en.wikipedia.org/wiki/Hypergeometric_distribution\n",
    "\n",
    "function F(s, f, n, k)\n",
    "    (1 - exp(logbinom(n, k+1) + logbinom(s+f-n, s-k-1) - logbinom(s+f, s)\n",
    "            + log(pFq(SVector(1, k+1-s, k+1-n), SVector(k+2, f+k+2-n), 1)))\n",
    "    )\n",
    "end"
   ]
  },
  {
   "cell_type": "code",
   "execution_count": 5,
   "id": "3e80ebcd-0e1a-48f3-be7d-2d4a509b6478",
   "metadata": {},
   "outputs": [
    {
     "data": {
      "text/plain": [
       "10×3 Matrix{Float64}:\n",
       " 0.0  5.9538e-5   5.9538e-5\n",
       " 1.0  0.00273875  0.00273875\n",
       " 2.0  0.0348893   0.0348893\n",
       " 3.0  0.184925    0.184925\n",
       " 4.0  0.5         0.5\n",
       " 5.0  0.815075    0.815075\n",
       " 6.0  0.965111    0.965111\n",
       " 7.0  0.997261    0.997261\n",
       " 8.0  0.99994     0.99994\n",
       " 9.0  1.0         1.0"
      ]
     },
     "execution_count": 5,
     "metadata": {},
     "output_type": "execute_result"
    }
   ],
   "source": [
    "s, f, n = 10, 10, 9\n",
    "hg = Hypergeometric(s, f, n)\n",
    "vcat(([k cdf(hg, k) F(s, f, n, k)] for k in support(hg))...)"
   ]
  },
  {
   "cell_type": "code",
   "execution_count": 6,
   "id": "3f676b0e-b006-490e-94dc-065e02b5bded",
   "metadata": {},
   "outputs": [
    {
     "data": {
      "text/plain": [
       "11×3 Matrix{Float64}:\n",
       "  0.0  5.41254e-6   5.41254e-6\n",
       "  1.0  0.000546667  0.000546667\n",
       "  2.0  0.0115071    0.0115071\n",
       "  3.0  0.0894477    0.0894477\n",
       "  4.0  0.328141     0.328141\n",
       "  5.0  0.671859     0.671859\n",
       "  6.0  0.910552     0.910552\n",
       "  7.0  0.988493     0.988493\n",
       "  8.0  0.999453     0.999453\n",
       "  9.0  0.999995     0.999995\n",
       " 10.0  1.0          1.0"
      ]
     },
     "execution_count": 6,
     "metadata": {},
     "output_type": "execute_result"
    }
   ],
   "source": [
    "s, f, n = 10, 10, 10\n",
    "hg = Hypergeometric(s, f, n)\n",
    "vcat(([k cdf(hg, k) F(s, f, n, k)] for k in support(hg))...)"
   ]
  },
  {
   "cell_type": "code",
   "execution_count": 7,
   "id": "9b151858-f71e-48f7-b071-840862c53c76",
   "metadata": {},
   "outputs": [
    {
     "name": "stdout",
     "output_type": "stream",
     "text": [
      "  463.636 ns (0 allocations: 0 bytes)\n"
     ]
    },
    {
     "data": {
      "text/plain": [
       "0.6718591006516704"
      ]
     },
     "execution_count": 7,
     "metadata": {},
     "output_type": "execute_result"
    }
   ],
   "source": [
    "@btime cdf($hg, 5)"
   ]
  },
  {
   "cell_type": "code",
   "execution_count": 8,
   "id": "9a668ff2-33db-4133-bfe2-e198e5e33de5",
   "metadata": {},
   "outputs": [
    {
     "name": "stdout",
     "output_type": "stream",
     "text": [
      "  2.478 μs (0 allocations: 0 bytes)\n"
     ]
    },
    {
     "data": {
      "text/plain": [
       "0.6718591006516705"
      ]
     },
     "execution_count": 8,
     "metadata": {},
     "output_type": "execute_result"
    }
   ],
   "source": [
    "@btime sum(pdf($hg, k) for k in 0:5)"
   ]
  },
  {
   "cell_type": "code",
   "execution_count": 9,
   "id": "8eb66b07-5821-4a29-85c3-d2f55aaf06a7",
   "metadata": {},
   "outputs": [
    {
     "name": "stdout",
     "output_type": "stream",
     "text": [
      "  1.230 μs (15 allocations: 1.50 KiB)\n"
     ]
    },
    {
     "data": {
      "text/plain": [
       "0.6718591006516672"
      ]
     },
     "execution_count": 9,
     "metadata": {},
     "output_type": "execute_result"
    }
   ],
   "source": [
    "@btime F(s, f, n, 5)"
   ]
  },
  {
   "cell_type": "code",
   "execution_count": 10,
   "id": "25e805ba-8a24-435e-ad49-3510c4e8ac54",
   "metadata": {},
   "outputs": [
    {
     "name": "stdout",
     "output_type": "stream",
     "text": [
      "  5.083 μs (0 allocations: 0 bytes)\n"
     ]
    },
    {
     "data": {
      "text/plain": [
       "0.5005641893719712"
      ]
     },
     "execution_count": 10,
     "metadata": {},
     "output_type": "execute_result"
    }
   ],
   "source": [
    "@btime cdf($(Hypergeometric(10^6, 10^6, 10^6)), 10^6÷2)"
   ]
  },
  {
   "cell_type": "code",
   "execution_count": 11,
   "id": "c2029645-eabb-48b4-b45b-82c8862fbb6d",
   "metadata": {},
   "outputs": [
    {
     "name": "stdout",
     "output_type": "stream",
     "text": [
      "  204.223 ms (0 allocations: 0 bytes)\n"
     ]
    },
    {
     "data": {
      "text/plain": [
       "0.5005641893719761"
      ]
     },
     "execution_count": 11,
     "metadata": {},
     "output_type": "execute_result"
    }
   ],
   "source": [
    "@btime sum(pdf($(Hypergeometric(10^6, 10^6, 10^6)), k) for k in 0:10^6÷2)"
   ]
  },
  {
   "cell_type": "code",
   "execution_count": 12,
   "id": "4cf8d860-5c43-4ee3-a85d-322c31d7afcb",
   "metadata": {},
   "outputs": [
    {
     "name": "stdout",
     "output_type": "stream",
     "text": [
      "  36.000 μs (14 allocations: 1.48 KiB)\n"
     ]
    },
    {
     "data": {
      "text/plain": [
       "0.512439513895067"
      ]
     },
     "execution_count": 12,
     "metadata": {},
     "output_type": "execute_result"
    }
   ],
   "source": [
    "@btime F(10^6, 10^6, 10^6, 10^6÷2)"
   ]
  },
  {
   "cell_type": "markdown",
   "id": "fdd9e294-8b5d-4557-aa86-1e82f48946b9",
   "metadata": {},
   "source": [
    "誤差が大きすぎる.  これはなぜだ?"
   ]
  },
  {
   "cell_type": "code",
   "execution_count": 13,
   "id": "e97099cc-af38-47e8-aa65-2a502e095e88",
   "metadata": {},
   "outputs": [
    {
     "data": {
      "text/plain": [
       "0.4999999999999984"
      ]
     },
     "execution_count": 13,
     "metadata": {},
     "output_type": "execute_result"
    }
   ],
   "source": [
    "cdf((Hypergeometric(10^5, 10^5, 10^5+1)), 10^5÷2)"
   ]
  },
  {
   "cell_type": "code",
   "execution_count": 14,
   "id": "b9331f70-47d4-4c93-8ec5-b4574bfd3f3f",
   "metadata": {},
   "outputs": [
    {
     "data": {
      "text/plain": [
       "0.5000028986302089"
      ]
     },
     "execution_count": 14,
     "metadata": {},
     "output_type": "execute_result"
    }
   ],
   "source": [
    "F(10^5, 10^5, 10^5+1, 10^5÷2)"
   ]
  },
  {
   "cell_type": "code",
   "execution_count": 15,
   "id": "cbaf1d27-0db7-41f1-862e-c6564b2f6b53",
   "metadata": {},
   "outputs": [
    {
     "data": {
      "text/plain": [
       "0.4999999999999942"
      ]
     },
     "execution_count": 15,
     "metadata": {},
     "output_type": "execute_result"
    }
   ],
   "source": [
    "cdf((Hypergeometric(10^6, 10^6, 10^6+1)), 10^6÷2)"
   ]
  },
  {
   "cell_type": "code",
   "execution_count": 16,
   "id": "cc4aa8f1-79d1-4f3c-9759-f7eba68723a4",
   "metadata": {},
   "outputs": [
    {
     "data": {
      "text/plain": [
       "0.49970716329462006"
      ]
     },
     "execution_count": 16,
     "metadata": {},
     "output_type": "execute_result"
    }
   ],
   "source": [
    "F(10^6, 10^6, 10^6+1, 10^6÷2)"
   ]
  },
  {
   "cell_type": "markdown",
   "id": "ee63bd3b-9b77-43ed-8a28-cb8390d22cf1",
   "metadata": {},
   "source": [
    "## おまけ"
   ]
  },
  {
   "cell_type": "code",
   "execution_count": 17,
   "id": "9fa62987-755d-424e-bca1-ff669c56e449",
   "metadata": {},
   "outputs": [
    {
     "data": {
      "text/plain": [
       "1-element Vector{Int64}:\n",
       " 2"
      ]
     },
     "execution_count": 17,
     "metadata": {},
     "output_type": "execute_result"
    }
   ],
   "source": [
    "modes(Hypergeometric(5, 5, 4))"
   ]
  },
  {
   "cell_type": "code",
   "execution_count": 18,
   "id": "a2fa434e-9700-42c5-bee4-675ca92f961d",
   "metadata": {},
   "outputs": [
    {
     "data": {
      "text/plain": [
       "2-element Vector{Float64}:\n",
       " 2.0\n",
       " 3.0"
      ]
     },
     "execution_count": 18,
     "metadata": {},
     "output_type": "execute_result"
    }
   ],
   "source": [
    "modes(Hypergeometric(5, 5, 5))"
   ]
  },
  {
   "cell_type": "markdown",
   "id": "36e4cf48-93c2-4bf1-bde0-d9ee536131df",
   "metadata": {},
   "source": [
    "整数にならないのはバグか？\n",
    "\n",
    "https://github.com/JuliaStats/Distributions.jl/blob/371a427205b605df38eb7d4f2aedc2ecd0d9047b/src/univariate/discrete/hypergeometric.jl#L58\n",
    "```julia\n",
    "function modes(d::Hypergeometric)\n",
    "    if (d.ns == d.nf) && mod(d.n, 2) == 1\n",
    "        [(d.n-1)/2, (d.n+1)/2]\n",
    "    else\n",
    "        [mode(d)]\n",
    "    end\n",
    "end\n",
    "```"
   ]
  },
  {
   "cell_type": "code",
   "execution_count": 19,
   "id": "fab1a9b9-23f0-4393-8842-6c2c0b3c18e2",
   "metadata": {},
   "outputs": [
    {
     "name": "stdout",
     "output_type": "stream",
     "text": [
      "MethodInstance for StatsBase.modes(::Hypergeometric)\n",
      "  from modes(d::Hypergeometric) in Distributions at D:\\.julia\\packages\\Distributions\\39PV5\\src\\univariate\\discrete\\hypergeometric.jl:58\n",
      "Arguments\n",
      "  #self#\u001b[36m::Core.Const(StatsBase.modes)\u001b[39m\n",
      "  d\u001b[36m::Hypergeometric\u001b[39m\n",
      "Body\u001b[91m\u001b[1m::Union{Vector{Float64}, Vector{Int64}}\u001b[22m\u001b[39m\n",
      "\u001b[90m1 ─\u001b[39m %1  = Base.getproperty(d, :ns)\u001b[36m::Int64\u001b[39m\n",
      "\u001b[90m│  \u001b[39m %2  = Base.getproperty(d, :nf)\u001b[36m::Int64\u001b[39m\n",
      "\u001b[90m│  \u001b[39m %3  = (%1 == %2)\u001b[36m::Bool\u001b[39m\n",
      "\u001b[90m└──\u001b[39m       goto #4 if not %3\n",
      "\u001b[90m2 ─\u001b[39m %5  = Base.getproperty(d, :n)\u001b[36m::Int64\u001b[39m\n",
      "\u001b[90m│  \u001b[39m %6  = Distributions.mod(%5, 2)\u001b[36m::Int64\u001b[39m\n",
      "\u001b[90m│  \u001b[39m %7  = (%6 == 1)\u001b[36m::Bool\u001b[39m\n",
      "\u001b[90m└──\u001b[39m       goto #4 if not %7\n",
      "\u001b[90m3 ─\u001b[39m %9  = Base.getproperty(d, :n)\u001b[36m::Int64\u001b[39m\n",
      "\u001b[90m│  \u001b[39m %10 = (%9 - 1)\u001b[36m::Int64\u001b[39m\n",
      "\u001b[90m│  \u001b[39m %11 = (%10 / 2)\u001b[36m::Float64\u001b[39m\n",
      "\u001b[90m│  \u001b[39m %12 = Base.getproperty(d, :n)\u001b[36m::Int64\u001b[39m\n",
      "\u001b[90m│  \u001b[39m %13 = (%12 + 1)\u001b[36m::Int64\u001b[39m\n",
      "\u001b[90m│  \u001b[39m %14 = (%13 / 2)\u001b[36m::Float64\u001b[39m\n",
      "\u001b[90m│  \u001b[39m %15 = Base.vect(%11, %14)\u001b[36m::Vector{Float64}\u001b[39m\n",
      "\u001b[90m└──\u001b[39m       return %15\n",
      "\u001b[90m4 ┄\u001b[39m %17 = Distributions.mode(d)\u001b[36m::Int64\u001b[39m\n",
      "\u001b[90m│  \u001b[39m %18 = Base.vect(%17)\u001b[36m::Vector{Int64}\u001b[39m\n",
      "\u001b[90m└──\u001b[39m       return %18\n",
      "\n"
     ]
    }
   ],
   "source": [
    "@code_warntype modes(Hypergeometric(5, 5, 5))"
   ]
  },
  {
   "cell_type": "code",
   "execution_count": 20,
   "id": "c8431c68-49e9-49a6-8ad7-ba1f41d8a24b",
   "metadata": {},
   "outputs": [
    {
     "data": {
      "text/plain": [
       "modes (generic function with 22 methods)"
      ]
     },
     "execution_count": 20,
     "metadata": {},
     "output_type": "execute_result"
    }
   ],
   "source": [
    "@eval Distributions function modes(d::Hypergeometric)\n",
    "    if (d.ns == d.nf) && mod(d.n, 2) == 1\n",
    "        [(d.n-1)÷2, (d.n+1)÷2]\n",
    "    else\n",
    "        [mode(d)]\n",
    "    end\n",
    "end"
   ]
  },
  {
   "cell_type": "code",
   "execution_count": 21,
   "id": "5f9f39d7-3fc3-4998-93db-d4e5302d0c7b",
   "metadata": {},
   "outputs": [
    {
     "data": {
      "text/plain": [
       "2-element Vector{Int64}:\n",
       " 2\n",
       " 3"
      ]
     },
     "execution_count": 21,
     "metadata": {},
     "output_type": "execute_result"
    }
   ],
   "source": [
    "modes(Hypergeometric(5, 5, 5))"
   ]
  },
  {
   "cell_type": "code",
   "execution_count": null,
   "id": "f32f2c8c-f186-40b6-a3e3-053b06c56fd8",
   "metadata": {},
   "outputs": [],
   "source": []
  }
 ],
 "metadata": {
  "kernelspec": {
   "display_name": "Julia 1.8.0",
   "language": "julia",
   "name": "julia-1.8"
  },
  "language_info": {
   "file_extension": ".jl",
   "mimetype": "application/julia",
   "name": "julia",
   "version": "1.8.0"
  }
 },
 "nbformat": 4,
 "nbformat_minor": 5
}
