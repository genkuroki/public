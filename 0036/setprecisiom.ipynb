{
 "cells": [
  {
   "cell_type": "code",
   "execution_count": 1,
   "id": "f3428ce9-69ef-4313-9bfd-e6ef080dbaae",
   "metadata": {},
   "outputs": [
    {
     "name": "stdout",
     "output_type": "stream",
     "text": [
      " 19.407327 seconds (57.59 M allocations: 1.725 GiB, 4.43% gc time, 1.37% compilation time)\n"
     ]
    },
    {
     "data": {
      "text/plain": [
       "3.1917849276422525e-1394"
      ]
     },
     "execution_count": 1,
     "metadata": {},
     "output_type": "execute_result"
    }
   ],
   "source": [
    "using Distributions\n",
    "@time setprecision(50) do\n",
    "    sum(pdf(Binomial(1000000, big\"0.5\"), k) for k in 0:460000)\n",
    "end"
   ]
  },
  {
   "cell_type": "code",
   "execution_count": null,
   "id": "e75a6663-cce2-4a36-9959-dce6ce71ec5e",
   "metadata": {},
   "outputs": [],
   "source": []
  }
 ],
 "metadata": {
  "kernelspec": {
   "display_name": "Julia 1.8.0",
   "language": "julia",
   "name": "julia-1.8"
  },
  "language_info": {
   "file_extension": ".jl",
   "mimetype": "application/julia",
   "name": "julia",
   "version": "1.8.0"
  }
 },
 "nbformat": 4,
 "nbformat_minor": 5
}
