{
 "cells": [
  {
   "cell_type": "code",
   "execution_count": 1,
   "id": "783c3bd7-80bb-46d6-a4ba-e786c15a2f69",
   "metadata": {},
   "outputs": [],
   "source": [
    "using Profile\n",
    "using PProf\n",
    "using BenchmarkTools"
   ]
  },
  {
   "cell_type": "code",
   "execution_count": 2,
   "id": "676a648c-8a49-49e9-9a74-efbcd8cc1b13",
   "metadata": {},
   "outputs": [
    {
     "name": "stdout",
     "output_type": "stream",
     "text": [
      "  0.000073 seconds (104 allocations: 15.984 KiB)\n",
      "  0.000049 seconds (104 allocations: 15.984 KiB)\n",
      "  0.000050 seconds (104 allocations: 15.984 KiB)\n",
      "  33.100 μs (104 allocations: 15.98 KiB)\n"
     ]
    }
   ],
   "source": [
    "using Distributions\n",
    "\n",
    "function sim_t_test(; dist = Normal(), n = 10, μ = mean(dist), L = 10^5)\n",
    "    pval = Float64[]\n",
    "    for _ in 1:L\n",
    "        X = rand(dist, n)\n",
    "        X̄ = mean(X)\n",
    "        S = std(X)\n",
    "        t = √n * (X̄ - μ)/S\n",
    "        p = 2ccdf(TDist(n-1), abs(t))\n",
    "        push!(pval, p)\n",
    "    end\n",
    "    pval\n",
    "end\n",
    "\n",
    "pval = @time sim_t_test(L=100)\n",
    "pval = @time sim_t_test(L=100)\n",
    "pval = @time sim_t_test(L=100)\n",
    "pval = @btime sim_t_test(L=100);"
   ]
  },
  {
   "cell_type": "code",
   "execution_count": 3,
   "id": "e9317944-586b-464d-92ef-83beb981619d",
   "metadata": {},
   "outputs": [],
   "source": [
    "@profile sim_t_test(L=100);"
   ]
  },
  {
   "cell_type": "code",
   "execution_count": 4,
   "id": "b343f5b6-4f26-4db2-80d9-38b3dd71a5db",
   "metadata": {},
   "outputs": [
    {
     "data": {
      "text/plain": [
       "\"profile.pb.gz\""
      ]
     },
     "execution_count": 4,
     "metadata": {},
     "output_type": "execute_result"
    },
    {
     "name": "stderr",
     "output_type": "stream",
     "text": [
      "Serving web UI on http://localhost:57599\n",
      "pprof: listen tcp 127.0.0.1:57599: bind: Only one usage of each socket address (protocol/network address/port) is normally permitted.\n"
     ]
    }
   ],
   "source": [
    "pprof()"
   ]
  },
  {
   "cell_type": "code",
   "execution_count": null,
   "id": "c9c75119-5bf6-4e70-9b10-f46fdc4294e6",
   "metadata": {},
   "outputs": [],
   "source": []
  }
 ],
 "metadata": {
  "kernelspec": {
   "display_name": "Julia 1.8.0",
   "language": "julia",
   "name": "julia-1.8"
  },
  "language_info": {
   "file_extension": ".jl",
   "mimetype": "application/julia",
   "name": "julia",
   "version": "1.8.0"
  }
 },
 "nbformat": 4,
 "nbformat_minor": 5
}
