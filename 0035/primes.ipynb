{
 "cells": [
  {
   "cell_type": "code",
   "execution_count": 1,
   "id": "f4e07470",
   "metadata": {},
   "outputs": [
    {
     "name": "stdout",
     "output_type": "stream",
     "text": [
      "_primesmask_BitVector(100) = Bool[1, 1, 1, 1, 1, 1, 1, 1, 1, 1, 1, 1, 0, 1, 1, 1, 1, 1, 1, 0, 1, 1, 1, 0, 1]\n",
      "my_primes(100) = [2, 3, 5, 7, 11, 13, 17, 19, 23, 29, 31, 37, 41, 43, 47, 53, 59, 61, 67, 71, 73, 79, 83, 89, 97]\n"
     ]
    }
   ],
   "source": [
    "using Primes\n",
    "using Primes: wheel, wheel_index, wheel_prime\n",
    "\n",
    "function _primesmask_BitVector(limit::Int)\n",
    "    limit < 7 && throw(ArgumentError(\"The condition limit ≥ 7 must be met.\"))\n",
    "    n = wheel_index(limit)\n",
    "    m = wheel_prime(n)\n",
    "    sieve = trues(n)\n",
    "    @inbounds for i = 1:wheel_index(isqrt(limit))\n",
    "        if sieve[i]\n",
    "            p = wheel_prime(i)\n",
    "            q = p^2\n",
    "            j = (i - 1) & 7 + 1\n",
    "            while q ≤ m\n",
    "                sieve[wheel_index(q)] = false\n",
    "                q += wheel[j] * p\n",
    "                j = j & 7 + 1\n",
    "            end\n",
    "        end\n",
    "    end\n",
    "    return sieve\n",
    "end\n",
    "\n",
    "function my_primes(n)\n",
    "    list = [2, 3, 5]\n",
    "    lo, hi = 2, n\n",
    "    # http://projecteuclid.org/euclid.rmjm/1181070157\n",
    "    sizehint!(list, 5 + floor(Int, hi / (log(hi) - 1.12) - lo / (log(lo) - 1.12 * (lo > 7))))\n",
    "    sieve = _primesmask_BitVector(n)\n",
    "    @inbounds for i = 1:length(sieve)   # don't use eachindex here\n",
    "        sieve[i] && push!(list, wheel_prime(i))\n",
    "    end\n",
    "    list\n",
    "end\n",
    "\n",
    "@show _primesmask_BitVector(100)\n",
    "@show my_primes(100);"
   ]
  },
  {
   "cell_type": "code",
   "execution_count": 2,
   "id": "36eac5e0",
   "metadata": {},
   "outputs": [],
   "source": [
    "using BenchmarkTools"
   ]
  },
  {
   "cell_type": "code",
   "execution_count": 3,
   "id": "879abd1c",
   "metadata": {},
   "outputs": [
    {
     "name": "stdout",
     "output_type": "stream",
     "text": [
      "  215.700 μs (4 allocations: 78.80 KiB)\n"
     ]
    }
   ],
   "source": [
    "P = @btime my_primes(10^5);"
   ]
  },
  {
   "cell_type": "code",
   "execution_count": 4,
   "id": "e5d4d1b1",
   "metadata": {},
   "outputs": [
    {
     "name": "stdout",
     "output_type": "stream",
     "text": [
      "  173.800 μs (5 allocations: 101.50 KiB)\n"
     ]
    }
   ],
   "source": [
    "Q = @btime primes(10^5);"
   ]
  },
  {
   "cell_type": "code",
   "execution_count": 5,
   "id": "9af25a3c",
   "metadata": {},
   "outputs": [
    {
     "data": {
      "text/plain": [
       "true"
      ]
     },
     "execution_count": 5,
     "metadata": {},
     "output_type": "execute_result"
    }
   ],
   "source": [
    "P == Q"
   ]
  },
  {
   "cell_type": "code",
   "execution_count": 6,
   "id": "a7185f68",
   "metadata": {},
   "outputs": [
    {
     "name": "stdout",
     "output_type": "stream",
     "text": [
      " 42.988508 seconds (5 allocations: 5.885 GiB, 0.03% gc time)\n"
     ]
    },
    {
     "data": {
      "text/plain": [
       "455052511-element Vector{Int64}:\n",
       "          2\n",
       "          3\n",
       "          5\n",
       "          7\n",
       "         11\n",
       "         13\n",
       "         17\n",
       "         19\n",
       "         23\n",
       "         29\n",
       "         31\n",
       "         37\n",
       "         41\n",
       "          ⋮\n",
       " 9999999707\n",
       " 9999999727\n",
       " 9999999769\n",
       " 9999999781\n",
       " 9999999787\n",
       " 9999999817\n",
       " 9999999833\n",
       " 9999999851\n",
       " 9999999881\n",
       " 9999999929\n",
       " 9999999943\n",
       " 9999999967"
      ]
     },
     "execution_count": 6,
     "metadata": {},
     "output_type": "execute_result"
    }
   ],
   "source": [
    "PP = @time primes(10^10)"
   ]
  },
  {
   "cell_type": "code",
   "execution_count": 7,
   "id": "3177bf12",
   "metadata": {},
   "outputs": [
    {
     "data": {
      "text/plain": [
       "naive_primes (generic function with 1 method)"
      ]
     },
     "execution_count": 7,
     "metadata": {},
     "output_type": "execute_result"
    }
   ],
   "source": [
    "function naive_primes(N)\n",
    "    P = typeof(N)[]\n",
    "    for n in 2:N\n",
    "        for i in 2:isqrt(n)\n",
    "            n % i == 0 && @goto next\n",
    "        end\n",
    "        push!(P, n)\n",
    "        @label next\n",
    "    end\n",
    "    P\n",
    "end"
   ]
  },
  {
   "cell_type": "code",
   "execution_count": 8,
   "id": "f3825492",
   "metadata": {},
   "outputs": [
    {
     "data": {
      "text/plain": [
       "true"
      ]
     },
     "execution_count": 8,
     "metadata": {},
     "output_type": "execute_result"
    }
   ],
   "source": [
    "naive_primes(100) == primes(100)"
   ]
  },
  {
   "cell_type": "code",
   "execution_count": 9,
   "id": "a7e2cee8",
   "metadata": {},
   "outputs": [
    {
     "name": "stdout",
     "output_type": "stream",
     "text": [
      "  6.586 ms (9 allocations: 326.55 KiB)\n"
     ]
    },
    {
     "data": {
      "text/plain": [
       "9592-element Vector{Int64}:\n",
       "     2\n",
       "     3\n",
       "     5\n",
       "     7\n",
       "    11\n",
       "    13\n",
       "    17\n",
       "    19\n",
       "    23\n",
       "    29\n",
       "    31\n",
       "    37\n",
       "    41\n",
       "     ⋮\n",
       " 99859\n",
       " 99871\n",
       " 99877\n",
       " 99881\n",
       " 99901\n",
       " 99907\n",
       " 99923\n",
       " 99929\n",
       " 99961\n",
       " 99971\n",
       " 99989\n",
       " 99991"
      ]
     },
     "execution_count": 9,
     "metadata": {},
     "output_type": "execute_result"
    }
   ],
   "source": [
    "@btime naive_primes(10^5)"
   ]
  },
  {
   "cell_type": "code",
   "execution_count": 10,
   "id": "393688b1",
   "metadata": {},
   "outputs": [
    {
     "data": {
      "text/plain": [
       "true"
      ]
     },
     "execution_count": 10,
     "metadata": {},
     "output_type": "execute_result"
    }
   ],
   "source": [
    "naive_primes(10^5) == primes(10^5)"
   ]
  },
  {
   "cell_type": "code",
   "execution_count": 11,
   "id": "bcdfc6d0-a1c3-4ba8-800d-22d521260176",
   "metadata": {},
   "outputs": [
    {
     "data": {
      "text/plain": [
       "naive_first_primes (generic function with 1 method)"
      ]
     },
     "execution_count": 11,
     "metadata": {},
     "output_type": "execute_result"
    }
   ],
   "source": [
    "function naive_first_primes(K)\n",
    "    P = typeof(K)[]\n",
    "    k = 0\n",
    "    n = 2\n",
    "    while k < K\n",
    "        for i in 2:isqrt(n)\n",
    "            n % i == 0 && @goto next\n",
    "        end\n",
    "        push!(P, n)\n",
    "        k += 1\n",
    "        @label next\n",
    "        n += 1\n",
    "    end\n",
    "    P\n",
    "end"
   ]
  },
  {
   "cell_type": "code",
   "execution_count": 12,
   "id": "7f067551-88fd-4c4f-8923-18cc0cc19226",
   "metadata": {},
   "outputs": [],
   "source": [
    "using BenchmarkTools"
   ]
  },
  {
   "cell_type": "code",
   "execution_count": 13,
   "id": "051e07ca-dc97-4c9e-8b62-1f26efb54e69",
   "metadata": {},
   "outputs": [
    {
     "name": "stdout",
     "output_type": "stream",
     "text": [
      "  222.279 ms (11 allocations: 1.83 MiB)\n"
     ]
    },
    {
     "data": {
      "text/plain": [
       "100000-element Vector{Int64}:\n",
       "       2\n",
       "       3\n",
       "       5\n",
       "       7\n",
       "      11\n",
       "      13\n",
       "      17\n",
       "      19\n",
       "      23\n",
       "      29\n",
       "      31\n",
       "      37\n",
       "      41\n",
       "       ⋮\n",
       " 1299533\n",
       " 1299541\n",
       " 1299553\n",
       " 1299583\n",
       " 1299601\n",
       " 1299631\n",
       " 1299637\n",
       " 1299647\n",
       " 1299653\n",
       " 1299673\n",
       " 1299689\n",
       " 1299709"
      ]
     },
     "execution_count": 13,
     "metadata": {},
     "output_type": "execute_result"
    }
   ],
   "source": [
    "P = @btime naive_first_primes(10^5)"
   ]
  },
  {
   "cell_type": "code",
   "execution_count": 14,
   "id": "c9a1b810-b32e-4ea8-8dfe-2ffd0bc21a8a",
   "metadata": {},
   "outputs": [
    {
     "name": "stdout",
     "output_type": "stream",
     "text": [
      "  119.658 ms (201896 allocations: 3.84 MiB)\n"
     ]
    },
    {
     "data": {
      "text/plain": [
       "true"
      ]
     },
     "execution_count": 14,
     "metadata": {},
     "output_type": "execute_result"
    }
   ],
   "source": [
    "using Primes\n",
    "Q = @btime nextprimes(2, 10^5)\n",
    "P == Q"
   ]
  },
  {
   "cell_type": "code",
   "execution_count": null,
   "id": "a549e8f4-4e78-4bc4-8b32-53ca4300ce30",
   "metadata": {},
   "outputs": [],
   "source": []
  }
 ],
 "metadata": {
  "@webio": {
   "lastCommId": null,
   "lastKernelId": null
  },
  "kernelspec": {
   "display_name": "Julia 1.7.3",
   "language": "julia",
   "name": "julia-1.7"
  },
  "language_info": {
   "file_extension": ".jl",
   "mimetype": "application/julia",
   "name": "julia",
   "version": "1.7.3"
  },
  "toc": {
   "base_numbering": 1,
   "nav_menu": {},
   "number_sections": false,
   "sideBar": true,
   "skip_h1_title": true,
   "title_cell": "Table of Contents",
   "title_sidebar": "Contents",
   "toc_cell": false,
   "toc_position": {},
   "toc_section_display": true,
   "toc_window_display": false
  }
 },
 "nbformat": 4,
 "nbformat_minor": 5
}
