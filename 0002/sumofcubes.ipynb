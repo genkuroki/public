{
 "cells": [
  {
   "cell_type": "code",
   "execution_count": 1,
   "id": "0c3d34cf-4e52-4deb-8cd1-080d442a4965",
   "metadata": {},
   "outputs": [
    {
     "name": "stdout",
     "output_type": "stream",
     "text": [
      "3025\n"
     ]
    }
   ],
   "source": [
    "code1 = raw\"\"\"\n",
    "s = 0\n",
    "for i in 1:10\n",
    "    global s += i^3\n",
    "end\n",
    "println(s)\n",
    "\"\"\"\n",
    "\n",
    "include_string(Main, code1)"
   ]
  },
  {
   "cell_type": "code",
   "execution_count": 2,
   "id": "12b80acf-3c0e-4d84-b693-2146725de8c6",
   "metadata": {},
   "outputs": [
    {
     "name": "stderr",
     "output_type": "stream",
     "text": [
      "┌ Warning: Assignment to `s` in soft scope is ambiguous because a global variable by the same name exists: `s` will be treated as a new local. Disambiguate by using `local s` to suppress this warning or `global s` to assign to the existing global variable.\n",
      "└ @ nothing string:3\n"
     ]
    },
    {
     "ename": "LoadError",
     "evalue": "LoadError: UndefVarError: s not defined\nin expression starting at string:2",
     "output_type": "error",
     "traceback": [
      "LoadError: UndefVarError: s not defined\nin expression starting at string:2",
      "",
      "Stacktrace:",
      " [1] top-level scope",
      "   @ .\\string:3",
      " [2] eval",
      "   @ .\\boot.jl:369 [inlined]",
      " [3] include_string(mapexpr::typeof(identity), mod::Module, code::String, filename::String)",
      "   @ Base .\\loading.jl:1110",
      " [4] include_string (repeats 2 times)",
      "   @ .\\loading.jl:1120 [inlined]",
      " [5] top-level scope",
      "   @ In[2]:9",
      " [6] eval",
      "   @ .\\boot.jl:369 [inlined]",
      " [7] include_string(mapexpr::typeof(REPL.softscope), mod::Module, code::String, filename::String)",
      "   @ Base .\\loading.jl:1110"
     ]
    }
   ],
   "source": [
    "code2 = raw\"\"\"\n",
    "s = 0\n",
    "for i in 1:10\n",
    "    s += i^3\n",
    "end\n",
    "println(s)\n",
    "\"\"\"\n",
    "\n",
    "include_string(Main, code2)"
   ]
  },
  {
   "cell_type": "code",
   "execution_count": 3,
   "id": "518bc4db-815a-4027-9b0f-a6b65273b1f9",
   "metadata": {},
   "outputs": [
    {
     "name": "stdout",
     "output_type": "stream",
     "text": [
      "3025\n"
     ]
    }
   ],
   "source": [
    "module A\n",
    "s = 0\n",
    "for i in 1:10\n",
    "    global s += i^3\n",
    "end\n",
    "println(s)\n",
    "end;"
   ]
  },
  {
   "cell_type": "code",
   "execution_count": 4,
   "id": "e1e42257-532a-431e-938d-9bfcc3bccc8b",
   "metadata": {},
   "outputs": [
    {
     "ename": "LoadError",
     "evalue": "UndefVarError: s not defined",
     "output_type": "error",
     "traceback": [
      "UndefVarError: s not defined",
      "",
      "Stacktrace:",
      " [1] top-level scope",
      "   @ .\\In[4]:4",
      " [2] eval",
      "   @ .\\boot.jl:369 [inlined]",
      " [3] include_string(mapexpr::typeof(REPL.softscope), mod::Module, code::String, filename::String)",
      "   @ Base .\\loading.jl:1110"
     ]
    }
   ],
   "source": [
    "module B\n",
    "s = 0\n",
    "for i in 1:10\n",
    "    s += i^3\n",
    "end\n",
    "println(s)\n",
    "end;"
   ]
  },
  {
   "cell_type": "code",
   "execution_count": 5,
   "id": "e27bfbf8-cc4e-4cf6-8aba-a8cd05b58b1c",
   "metadata": {},
   "outputs": [
    {
     "name": "stdout",
     "output_type": "stream",
     "text": [
      "3025\n"
     ]
    }
   ],
   "source": [
    "s = 0\n",
    "\n",
    "function f(n)\n",
    "    for i in 1:n\n",
    "        global s += i^3\n",
    "    end\n",
    "    println(s)\n",
    "end\n",
    "\n",
    "f(10)"
   ]
  },
  {
   "cell_type": "code",
   "execution_count": 6,
   "id": "934f4b3e-899e-4911-b422-0165a943cd45",
   "metadata": {},
   "outputs": [
    {
     "name": "stdout",
     "output_type": "stream",
     "text": [
      "3025\n"
     ]
    }
   ],
   "source": [
    "function f(n)\n",
    "    s = 0\n",
    "    for i in 1:n\n",
    "        s += i^3\n",
    "    end\n",
    "    println(s)\n",
    "end\n",
    "\n",
    "f(10)"
   ]
  },
  {
   "cell_type": "code",
   "execution_count": 7,
   "id": "80d02b6c-034d-469d-816f-519e927444e8",
   "metadata": {},
   "outputs": [
    {
     "ename": "LoadError",
     "evalue": "UndefVarError: s not defined",
     "output_type": "error",
     "traceback": [
      "UndefVarError: s not defined",
      "",
      "Stacktrace:",
      " [1] f(n::Int64)",
      "   @ Main .\\In[7]:5",
      " [2] top-level scope",
      "   @ In[7]:10",
      " [3] eval",
      "   @ .\\boot.jl:369 [inlined]",
      " [4] include_string(mapexpr::typeof(REPL.softscope), mod::Module, code::String, filename::String)",
      "   @ Base .\\loading.jl:1110"
     ]
    }
   ],
   "source": [
    "s = 0\n",
    "\n",
    "function f(n)\n",
    "    for i in 1:n\n",
    "        s += i^3\n",
    "    end\n",
    "    println(s)\n",
    "end\n",
    "\n",
    "f(10)"
   ]
  },
  {
   "cell_type": "code",
   "execution_count": 8,
   "id": "96b1ea4c-5fce-4b6e-a3f6-3134d28f9fa1",
   "metadata": {},
   "outputs": [
    {
     "name": "stdout",
     "output_type": "stream",
     "text": [
      "3025\n"
     ]
    }
   ],
   "source": [
    "s = 0\n",
    "let\n",
    "    for i in 1:10\n",
    "        global s += i^3\n",
    "    end\n",
    "    println(s)\n",
    "end"
   ]
  },
  {
   "cell_type": "code",
   "execution_count": 9,
   "id": "c7e98406-b9b0-4fb8-bdad-dfb416a3687b",
   "metadata": {},
   "outputs": [
    {
     "name": "stdout",
     "output_type": "stream",
     "text": [
      "3025\n"
     ]
    }
   ],
   "source": [
    "let\n",
    "    s = 0\n",
    "    for i in 1:10\n",
    "        s += i^3\n",
    "    end\n",
    "    println(s)\n",
    "end"
   ]
  },
  {
   "cell_type": "code",
   "execution_count": 10,
   "id": "f69b97f7-5aee-4a07-90b5-3265900f9940",
   "metadata": {},
   "outputs": [
    {
     "ename": "LoadError",
     "evalue": "UndefVarError: s not defined",
     "output_type": "error",
     "traceback": [
      "UndefVarError: s not defined",
      "",
      "Stacktrace:",
      " [1] top-level scope",
      "   @ .\\In[10]:5",
      " [2] eval",
      "   @ .\\boot.jl:369 [inlined]",
      " [3] include_string(mapexpr::typeof(REPL.softscope), mod::Module, code::String, filename::String)",
      "   @ Base .\\loading.jl:1110"
     ]
    }
   ],
   "source": [
    "s = 0\n",
    "\n",
    "let\n",
    "    for i in 1:10\n",
    "        s += i^3\n",
    "    end\n",
    "    println(s)\n",
    "end"
   ]
  },
  {
   "cell_type": "code",
   "execution_count": null,
   "id": "9769856e-df9d-41a7-8766-a9b0bf274a35",
   "metadata": {},
   "outputs": [],
   "source": []
  }
 ],
 "metadata": {
  "jupytext": {
   "formats": "ipynb,md"
  },
  "kernelspec": {
   "display_name": "Julia 1.7.0-DEV",
   "language": "julia",
   "name": "julia-1.7"
  },
  "language_info": {
   "file_extension": ".jl",
   "mimetype": "application/julia",
   "name": "julia",
   "version": "1.7.0"
  }
 },
 "nbformat": 4,
 "nbformat_minor": 5
}
