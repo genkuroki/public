{
 "cells": [
  {
   "cell_type": "markdown",
   "id": "b4f4e79f-c559-46d0-9666-a208dd04c4ab",
   "metadata": {},
   "source": [
    "See https://twitter.com/taketo1024/status/1400990265364549634\n",
    "\n",
    "A straightforward translation in Swift to Julia of\n",
    "* https://gist.github.com/taketo1024/e1e1b92b0c5c9c441bd870476356204e"
   ]
  },
  {
   "cell_type": "code",
   "execution_count": 1,
   "id": "ca39fadb-c50e-444c-a0b1-ee68672e7d33",
   "metadata": {},
   "outputs": [
    {
     "name": "stdout",
     "output_type": "stream",
     "text": [
      "true\n",
      "false\n",
      "true\n"
     ]
    }
   ],
   "source": [
    "step = 10\n",
    "\n",
    "function forAnySmall(p)\n",
    "    for i in 0:step-1\n",
    "        ε = (step - i) / step\n",
    "        if !p(ε)\n",
    "            return false\n",
    "        end\n",
    "    end\n",
    "    return true\n",
    "end\n",
    "\n",
    "function existsSmall(p)\n",
    "    for i in 0:step-1\n",
    "        δ = (step - i) / step\n",
    "        if p(δ) \n",
    "            return true\n",
    "        end\n",
    "    end\n",
    "    return false\n",
    "end\n",
    "\n",
    "function forAnyInRange((from, to), p)\n",
    "    for _ in 0:step-1\n",
    "        x = from + rand() * (to - from)\n",
    "        if !p(x)\n",
    "            return false\n",
    "        end\n",
    "    end\n",
    "    return true\n",
    "end\n",
    "\n",
    "function isContinuous(f, at, a)\n",
    "    forAnySmall(ε ->\n",
    "        existsSmall(δ ->\n",
    "            forAnyInRange((a - δ, a + δ), x ->\n",
    "                abs(f(x) - f(a)) < ε\n",
    "            )\n",
    "        )\n",
    "    )\n",
    "end\n",
    "\n",
    "println(isContinuous(x -> x^2, :at, 0))\n",
    "# true: x^2 is continuous at x = 0\n",
    "\n",
    "println(isContinuous(floor, :at, 1))\n",
    "# false: floor func is not continuous at x = 1\n",
    "\n",
    "println(isContinuous(floor, :at, 1/2))\n",
    "# true: floor func is continuous at x = 1/2"
   ]
  },
  {
   "cell_type": "code",
   "execution_count": 2,
   "id": "39230174-ecf6-4b88-a112-e30d88bd1d54",
   "metadata": {},
   "outputs": [
    {
     "data": {
      "text/plain": [
       "@p (macro with 1 method)"
      ]
     },
     "execution_count": 2,
     "metadata": {},
     "output_type": "execute_result"
    }
   ],
   "source": [
    "macro for_any_positive(ε, P)\n",
    "    :(forAnySmall($(esc(ε)) -> $(esc(P))))\n",
    "end\n",
    "\n",
    "macro there_exists_some_positive(δ, P)\n",
    "    :(existsSmall($(esc(δ)) -> $(esc(P))))\n",
    "end\n",
    "\n",
    "macro for_any(x_in_ran, P)\n",
    "    x = x_in_ran.args[2]\n",
    "    ran = x_in_ran.args[3]\n",
    "    :(forAnyInRange($(esc(ran)), $(esc(x)) -> $(esc(P))))\n",
    "end\n",
    "\n",
    "macro p(x)\n",
    "    :(println($(esc(x))))\n",
    "end"
   ]
  },
  {
   "cell_type": "code",
   "execution_count": 3,
   "id": "9895708c-eef0-40f6-835a-ed7d934b19dc",
   "metadata": {},
   "outputs": [
    {
     "name": "stdout",
     "output_type": "stream",
     "text": [
      "true\n"
     ]
    }
   ],
   "source": [
    "a = 0\n",
    "@p @for_any_positive ε @there_exists_some_positive δ @for_any x ∈ (a - δ, a + δ) abs(x^2 - a^2) < ε"
   ]
  },
  {
   "cell_type": "code",
   "execution_count": 4,
   "id": "159cafd9-12aa-48f4-bfa5-e9b959413c0f",
   "metadata": {},
   "outputs": [
    {
     "name": "stdout",
     "output_type": "stream",
     "text": [
      "false\n"
     ]
    }
   ],
   "source": [
    "a = 1\n",
    "@p @for_any_positive ε @there_exists_some_positive δ @for_any x ∈ (a - δ, a + δ) abs(floor(x) - floor(a)) < ε"
   ]
  },
  {
   "cell_type": "code",
   "execution_count": 5,
   "id": "cc8f114a-ae18-4bf9-a317-58ce4fe9c4b7",
   "metadata": {},
   "outputs": [
    {
     "name": "stdout",
     "output_type": "stream",
     "text": [
      "true\n"
     ]
    }
   ],
   "source": [
    "a = 0.5\n",
    "@p @for_any_positive ε @there_exists_some_positive δ @for_any x ∈ (a - δ, a + δ) abs(floor(x) - floor(a)) < ε"
   ]
  },
  {
   "cell_type": "code",
   "execution_count": 6,
   "id": "822cbe81-3e2b-4cfa-9786-6427dc42e2a4",
   "metadata": {},
   "outputs": [
    {
     "name": "stdout",
     "output_type": "stream",
     "text": [
      "true\n"
     ]
    }
   ],
   "source": [
    "a = 0\n",
    "@p @for_any_positive ε (\n",
    "    @there_exists_some_positive δ (\n",
    "        @for_any x ∈ (a - δ, a + δ) abs(x^2 - a^2) < ε))"
   ]
  },
  {
   "cell_type": "code",
   "execution_count": 7,
   "id": "d78a2f98-ca42-4d8f-92e9-c4bedca4bdab",
   "metadata": {},
   "outputs": [
    {
     "name": "stdout",
     "output_type": "stream",
     "text": [
      "false\n"
     ]
    }
   ],
   "source": [
    "a = 1\n",
    "@p @for_any_positive ε (\n",
    "    @there_exists_some_positive δ (\n",
    "        @for_any x ∈ (a - δ, a + δ) abs(floor(x) - floor(a)) < ε))"
   ]
  },
  {
   "cell_type": "code",
   "execution_count": 8,
   "id": "d0eb8a9b-c4fd-4f84-8834-d54cd5736065",
   "metadata": {},
   "outputs": [
    {
     "name": "stdout",
     "output_type": "stream",
     "text": [
      "true\n"
     ]
    }
   ],
   "source": [
    "a = 0.5\n",
    "@p @for_any_positive ε (\n",
    "    @there_exists_some_positive δ (\n",
    "        @for_any x ∈ (a - δ, a + δ) abs(floor(x) - floor(a)) < ε))"
   ]
  },
  {
   "cell_type": "code",
   "execution_count": null,
   "id": "d8aa3f8a-7e84-4434-a62e-f0147c0a72c4",
   "metadata": {},
   "outputs": [],
   "source": []
  }
 ],
 "metadata": {
  "jupytext": {
   "encoding": "# -*- coding: utf-8 -*-",
   "formats": "ipynb,jl:hydrogen"
  },
  "kernelspec": {
   "display_name": "Julia 1.7.0-DEV",
   "language": "julia",
   "name": "julia-1.7"
  },
  "language_info": {
   "file_extension": ".jl",
   "mimetype": "application/julia",
   "name": "julia",
   "version": "1.7.0"
  }
 },
 "nbformat": 4,
 "nbformat_minor": 5
}
