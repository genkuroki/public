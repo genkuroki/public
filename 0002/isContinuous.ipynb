{
 "cells": [
  {
   "cell_type": "markdown",
   "id": "b4f4e79f-c559-46d0-9666-a208dd04c4ab",
   "metadata": {},
   "source": [
    "See https://twitter.com/taketo1024/status/1400990265364549634\n",
    "\n",
    "A straightforward translation in Swift to Julia of\n",
    "* https://gist.github.com/taketo1024/e1e1b92b0c5c9c441bd870476356204e"
   ]
  },
  {
   "cell_type": "code",
   "execution_count": 1,
   "id": "ca39fadb-c50e-444c-a0b1-ee68672e7d33",
   "metadata": {},
   "outputs": [
    {
     "name": "stdout",
     "output_type": "stream",
     "text": [
      "true\n",
      "false\n"
     ]
    }
   ],
   "source": [
    "step = 10\n",
    "\n",
    "function forAnySmall(p)\n",
    "    for i in 0:step-1\n",
    "        ε = (step - i) / step\n",
    "        if !p(ε)\n",
    "            return false\n",
    "        end\n",
    "    end\n",
    "    return true\n",
    "end\n",
    "\n",
    "function existsSmall(p)\n",
    "    for i in 0:step-1\n",
    "        δ = (step - i) / step\n",
    "        if p(δ) \n",
    "            return true\n",
    "        end\n",
    "    end\n",
    "    return false\n",
    "end\n",
    "\n",
    "function forAnyInRange((from, to), p)\n",
    "    for _ in 0:step-1\n",
    "        x = from + rand() * (to - from)\n",
    "        if !p(x)\n",
    "            return false\n",
    "        end\n",
    "    end\n",
    "    return true\n",
    "end\n",
    "\n",
    "function isContinuous(f, at, a)\n",
    "    forAnySmall(ε ->\n",
    "        existsSmall(δ ->\n",
    "            forAnyInRange((a - δ, a + δ), x ->\n",
    "                abs(f(x) - f(a)) < ε\n",
    "            )\n",
    "        )\n",
    "    )\n",
    "end\n",
    "\n",
    "println(isContinuous(x -> x^2, :at, 0))\n",
    "# true: x^2 is continuous at x = 0\n",
    "println(isContinuous(floor, :at, 1))\n",
    "# false: floor func is not continuous at x = 0"
   ]
  },
  {
   "cell_type": "code",
   "execution_count": null,
   "id": "ff0204df-0c3c-488a-b025-997dfe2bbef2",
   "metadata": {},
   "outputs": [],
   "source": []
  }
 ],
 "metadata": {
  "jupytext": {
   "formats": "ipynb,auto:hydrogen"
  },
  "kernelspec": {
   "display_name": "Julia 1.7.0-DEV",
   "language": "julia",
   "name": "julia-1.7"
  },
  "language_info": {
   "file_extension": ".jl",
   "mimetype": "application/julia",
   "name": "julia",
   "version": "1.7.0"
  }
 },
 "nbformat": 4,
 "nbformat_minor": 5
}
