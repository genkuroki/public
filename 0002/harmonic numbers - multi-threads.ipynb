{
 "cells": [
  {
   "cell_type": "code",
   "execution_count": 1,
   "id": "8610afd0-b365-4ef9-b068-2cb3932c84d0",
   "metadata": {},
   "outputs": [
    {
     "name": "stdout",
     "output_type": "stream",
     "text": [
      "  1.627475 seconds\n"
     ]
    },
    {
     "data": {
      "text/plain": [
       "21.300481502347942"
      ]
     },
     "execution_count": 1,
     "metadata": {},
     "output_type": "execute_result"
    }
   ],
   "source": [
    "function add_kbn(s, c, a)\n",
    "    t = s + a\n",
    "    d = c + ifelse(abs(s) ≥ abs(a), (s-t) + a, (a-t) + s)\n",
    "    t, d\n",
    "end\n",
    "\n",
    "function sum_kbn(f, iter; T = Float64, s = zero(T), c = zero(T))\n",
    "    for n in iter\n",
    "        s, c = add_kbn(s, c, f(T(n)))\n",
    "    end\n",
    "    s + c\n",
    "end\n",
    "\n",
    "sum_kbn(iter; T = Float64, s = zero(T), c = zero(T)) =\n",
    "    sum_kbn(identity, iter; T, s, c)\n",
    "\n",
    "function sumupto_kbn(f, iter, x; T = Float64, s = zero(T), c = zero(T))\n",
    "    for n in iter\n",
    "        s, c = add_kbn(s, c, f(T(n)))\n",
    "        s + c ≥ x && return s + c, n\n",
    "    end\n",
    "    s + c, typemax(eltype(iter))\n",
    "end\n",
    "\n",
    "@time sum_kbn(inv, 1:10^9)"
   ]
  },
  {
   "cell_type": "code",
   "execution_count": 2,
   "id": "85705553-1717-40c1-94a0-61d52e88e715",
   "metadata": {},
   "outputs": [
    {
     "name": "stdout",
     "output_type": "stream",
     "text": [
      "21.300481502347944"
     ]
    }
   ],
   "source": [
    "using SpecialFunctions, Printf\n",
    "H(n) = digamma(n+1) + MathConstants.γ\n",
    "@printf \"%.15f\" H(big(10^9))"
   ]
  },
  {
   "cell_type": "code",
   "execution_count": 3,
   "id": "05cf809e-3fcf-43d0-a845-d9e5955844ed",
   "metadata": {},
   "outputs": [
    {
     "name": "stdout",
     "output_type": "stream",
     "text": [
      "  1.144573 seconds (1 allocation: 16 bytes)\n",
      "  0.100277 seconds (45.48 k allocations: 2.722 MiB)\n"
     ]
    },
    {
     "data": {
      "text/plain": [
       "(21.000000000401332, 740461601)"
      ]
     },
     "execution_count": 3,
     "metadata": {},
     "output_type": "execute_result"
    }
   ],
   "source": [
    "@time s = sum_kbn(inv, 1:7*10^8)\n",
    "@time h, n = sumupto_kbn(inv, 7*10^8+1:10^9, 21.0; s)"
   ]
  },
  {
   "cell_type": "code",
   "execution_count": 4,
   "id": "40ab0851-ba6d-4f1a-b4de-dccd410946bb",
   "metadata": {},
   "outputs": [
    {
     "name": "stdout",
     "output_type": "stream",
     "text": [
      "21.000000000401333"
     ]
    }
   ],
   "source": [
    "@printf \"%.15f\" H(big(n))"
   ]
  },
  {
   "cell_type": "code",
   "execution_count": 5,
   "id": "223dccdc-14fd-4b58-9cb6-126641f6f6aa",
   "metadata": {},
   "outputs": [
    {
     "name": "stdout",
     "output_type": "stream",
     "text": [
      "Threads.nthreads() = 12\n"
     ]
    },
    {
     "data": {
      "text/plain": [
       "sum_kbn_threads (generic function with 1 method)"
      ]
     },
     "execution_count": 5,
     "metadata": {},
     "output_type": "execute_result"
    }
   ],
   "source": [
    "@show Threads.nthreads()\n",
    "using Distributed\n",
    "\n",
    "function sum_kbn_threads(f, ran; T = Float64, nth = Threads.nthreads())\n",
    "    splitran = Distributed.splitrange(ran[begin], ran[end], nth)\n",
    "    S, C = zeros(T, nth), zeros(T, nth)\n",
    "    Threads.@threads for i in 1:nth\n",
    "        S[i] = sum_kbn(f, splitran[i]; T)\n",
    "    end\n",
    "    S .+= C\n",
    "    S\n",
    "end"
   ]
  },
  {
   "cell_type": "code",
   "execution_count": 6,
   "id": "a9c3038b-51b3-45d5-a33d-5d5e1f9c5a01",
   "metadata": {},
   "outputs": [
    {
     "name": "stdout",
     "output_type": "stream",
     "text": [
      "  0.406791 seconds (323.65 k allocations: 19.816 MiB, 15.79% compilation time)\n"
     ]
    },
    {
     "data": {
      "text/plain": [
       "21.300481502347942"
      ]
     },
     "execution_count": 6,
     "metadata": {},
     "output_type": "execute_result"
    }
   ],
   "source": [
    "@time S = sum_kbn_threads(inv, 1:10^9)\n",
    "sum_kbn(S)"
   ]
  },
  {
   "cell_type": "code",
   "execution_count": 7,
   "id": "074db484-ac23-4182-b661-ae6413167ef8",
   "metadata": {},
   "outputs": [
    {
     "name": "stdout",
     "output_type": "stream",
     "text": [
      "  0.212324 seconds (65.85 k allocations: 3.753 MiB, 4.37% compilation time)\n",
      "  0.000005 seconds (3 allocations: 48 bytes)\n",
      "  0.081589 seconds (64 allocations: 3.250 KiB, 3.56% compilation time)\n"
     ]
    },
    {
     "data": {
      "text/plain": [
       "(21.000000000401336, 740461601)"
      ]
     },
     "execution_count": 7,
     "metadata": {},
     "output_type": "execute_result"
    }
   ],
   "source": [
    "m, x = 7*10^8, 21.0\n",
    "@time S = sum_kbn_threads(inv, 1:m)\n",
    "@time s = sum_kbn(S)\n",
    "@time h, n = sumupto_kbn(inv, m+1:round(Int, 1.1*m), x; s)"
   ]
  },
  {
   "cell_type": "code",
   "execution_count": 8,
   "id": "116bca19-317b-4001-b3cf-76ec570dbeaa",
   "metadata": {},
   "outputs": [
    {
     "name": "stdout",
     "output_type": "stream",
     "text": [
      "21.000000000401333"
     ]
    }
   ],
   "source": [
    "@printf \"%.15f\" H(big(n))"
   ]
  },
  {
   "cell_type": "code",
   "execution_count": 9,
   "id": "6680797e-5fbf-4b11-92e2-7639b0687c63",
   "metadata": {},
   "outputs": [
    {
     "name": "stdout",
     "output_type": "stream",
     "text": [
      "  1.706449 seconds (115 allocations: 8.016 KiB)\n"
     ]
    },
    {
     "data": {
      "text/plain": [
       "23.09224097115933"
      ]
     },
     "execution_count": 9,
     "metadata": {},
     "output_type": "execute_result"
    }
   ],
   "source": [
    "@time S = sum_kbn_threads(inv, 1:6*10^9)\n",
    "sum_kbn(S)"
   ]
  },
  {
   "cell_type": "code",
   "execution_count": 10,
   "id": "2aa09b97-22cc-400c-b4e3-2b6001ba721d",
   "metadata": {},
   "outputs": [
    {
     "name": "stdout",
     "output_type": "stream",
     "text": [
      "1688.581247 seconds (118 allocations: 8.109 KiB)\n",
      "  0.000012 seconds (3 allocations: 48 bytes)\n",
      "  0.044741 seconds (18 allocations: 400 bytes)\n"
     ]
    },
    {
     "data": {
      "text/plain": [
       "(30.00000000000002, 6000022499693)"
      ]
     },
     "execution_count": 10,
     "metadata": {},
     "output_type": "execute_result"
    }
   ],
   "source": [
    "m, x = 6*10^12, 30.0\n",
    "@time S = sum_kbn_threads(inv, 1:m)\n",
    "@time s = sum_kbn(S)\n",
    "@time h, n = sumupto_kbn(inv, m+1:round(Int, 1.1*m), x; s)"
   ]
  },
  {
   "cell_type": "code",
   "execution_count": 11,
   "id": "115ac94a-b803-416a-8a38-0be8a5113b15",
   "metadata": {},
   "outputs": [
    {
     "name": "stdout",
     "output_type": "stream",
     "text": [
      "30.000000000000022"
     ]
    }
   ],
   "source": [
    "@printf \"%.15f\" H(big(n))"
   ]
  },
  {
   "cell_type": "code",
   "execution_count": null,
   "id": "d9cabdc4-9575-44ab-bad0-1a21cdd2e70a",
   "metadata": {},
   "outputs": [],
   "source": []
  }
 ],
 "metadata": {
  "jupytext": {
   "formats": "ipynb,md"
  },
  "kernelspec": {
   "display_name": "Julia 1.7.0-DEV",
   "language": "julia",
   "name": "julia-1.7"
  },
  "language_info": {
   "file_extension": ".jl",
   "mimetype": "application/julia",
   "name": "julia",
   "version": "1.7.0"
  }
 },
 "nbformat": 4,
 "nbformat_minor": 5
}
