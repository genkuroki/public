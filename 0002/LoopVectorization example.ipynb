{
 "cells": [
  {
   "cell_type": "code",
   "execution_count": 1,
   "id": "6365b6d9-4a92-488b-a1e4-11bf6a685c85",
   "metadata": {},
   "outputs": [
    {
     "data": {
      "text/plain": [
       "12"
      ]
     },
     "execution_count": 1,
     "metadata": {},
     "output_type": "execute_result"
    }
   ],
   "source": [
    "Threads.nthreads()"
   ]
  },
  {
   "cell_type": "code",
   "execution_count": 2,
   "id": "f8253841-617b-41cc-9095-3dd2a47b923d",
   "metadata": {},
   "outputs": [
    {
     "data": {
      "text/plain": [
       "M_tturbo2! (generic function with 1 method)"
      ]
     },
     "execution_count": 2,
     "metadata": {},
     "output_type": "execute_result"
    }
   ],
   "source": [
    "using LoopVectorization\n",
    "using BenchmarkTools\n",
    "\n",
    "function L!(foo, bar)\n",
    "    I, J = axes(foo, 1)[begin+1:end-1], axes(foo, 2)[begin+1:end-1]\n",
    "    for j in J\n",
    "        for i in I\n",
    "            foo[i, j] = bar[i, j-1] + bar[i, j+1] + bar[i-1, j] + bar[i+1, j] - 4bar[i, j]\n",
    "        end\n",
    "    end\n",
    "end\n",
    "\n",
    "function M!(foo, bar)\n",
    "    I, J = axes(foo, 1)[begin+1:end-1], axes(foo, 2)[begin+1:end-1]\n",
    "    for i in I\n",
    "        for j in J\n",
    "            foo[i, j] = bar[i, j-1] + bar[i, j+1] + bar[i-1, j] + bar[i+1, j] - 4bar[i, j]\n",
    "        end\n",
    "    end\n",
    "end\n",
    "\n",
    "function L_inbounds!(foo, bar)\n",
    "    I, J = axes(foo, 1)[begin+1:end-1], axes(foo, 2)[begin+1:end-1]\n",
    "    @inbounds for j in J\n",
    "        for i in I\n",
    "            foo[i, j] = bar[i, j-1] + bar[i, j+1] + bar[i-1, j] + bar[i+1, j] - 4bar[i, j]\n",
    "        end\n",
    "    end\n",
    "end\n",
    "\n",
    "function M_inbounds!(foo, bar)\n",
    "    I, J = axes(foo, 1)[begin+1:end-1], axes(foo, 2)[begin+1:end-1]\n",
    "    @inbounds for i in I\n",
    "        for j in J\n",
    "            foo[i, j] = bar[i, j-1] + bar[i, j+1] + bar[i-1, j] + bar[i+1, j] - 4bar[i, j]\n",
    "        end\n",
    "    end\n",
    "end\n",
    "\n",
    "function L_turbo!(foo, bar)\n",
    "    I, J = axes(foo, 1)[begin+1:end-1], axes(foo, 2)[begin+1:end-1]\n",
    "    @turbo for j in J\n",
    "        for i in I\n",
    "            foo[i, j] = bar[i, j-1] + bar[i, j+1] + bar[i-1, j] + bar[i+1, j] - 4bar[i, j]\n",
    "        end\n",
    "    end\n",
    "end\n",
    "\n",
    "function M_turbo!(foo, bar)\n",
    "    I, J = axes(foo, 1)[begin+1:end-1], axes(foo, 2)[begin+1:end-1]\n",
    "    @turbo for i in I\n",
    "        for j in J\n",
    "            foo[i, j] = bar[i, j-1] + bar[i, j+1] + bar[i-1, j] + bar[i+1, j] - 4bar[i, j]\n",
    "        end\n",
    "    end\n",
    "end\n",
    "\n",
    "function L_turbo2!(foo, bar)\n",
    "    I, J = axes(foo, 1)[begin+1:end-1], axes(foo, 2)[begin+1:end-1]\n",
    "    for j in J\n",
    "        @turbo for i in I\n",
    "            foo[i, j] = bar[i, j-1] + bar[i, j+1] + bar[i-1, j] + bar[i+1, j] - 4bar[i, j]\n",
    "        end\n",
    "    end\n",
    "end\n",
    "\n",
    "function M_turbo2!(foo, bar)\n",
    "    I, J = axes(foo, 1)[begin+1:end-1], axes(foo, 2)[begin+1:end-1]\n",
    "    for i in I\n",
    "        @turbo for j in J\n",
    "            foo[i, j] = bar[i, j-1] + bar[i, j+1] + bar[i-1, j] + bar[i+1, j] - 4bar[i, j]\n",
    "        end\n",
    "    end\n",
    "end\n",
    "\n",
    "function L_tturbo!(foo, bar)\n",
    "    I, J = axes(foo, 1)[begin+1:end-1], axes(foo, 2)[begin+1:end-1]\n",
    "    @tturbo for j in J\n",
    "        for i in I\n",
    "            foo[i, j] = bar[i, j-1] + bar[i, j+1] + bar[i-1, j] + bar[i+1, j] - 4bar[i, j]\n",
    "        end\n",
    "    end\n",
    "end\n",
    "\n",
    "function M_tturbo!(foo, bar)\n",
    "    I, J = axes(foo, 1)[begin+1:end-1], axes(foo, 2)[begin+1:end-1]\n",
    "    @tturbo for i in I\n",
    "        for j in J\n",
    "            foo[i, j] = bar[i, j-1] + bar[i, j+1] + bar[i-1, j] + bar[i+1, j] - 4bar[i, j]\n",
    "        end\n",
    "    end\n",
    "end\n",
    "\n",
    "function L_tturbo2!(foo, bar)\n",
    "    I, J = axes(foo, 1)[begin+1:end-1], axes(foo, 2)[begin+1:end-1]\n",
    "    for j in J\n",
    "        @tturbo for i in I\n",
    "            foo[i, j] = bar[i, j-1] + bar[i, j+1] + bar[i-1, j] + bar[i+1, j] - 4bar[i, j]\n",
    "        end\n",
    "    end\n",
    "end\n",
    "\n",
    "function M_tturbo2!(foo, bar)\n",
    "    I, J = axes(foo, 1)[begin+1:end-1], axes(foo, 2)[begin+1:end-1]\n",
    "    for i in I\n",
    "        @tturbo for j in J\n",
    "            foo[i, j] = bar[i, j-1] + bar[i, j+1] + bar[i-1, j] + bar[i+1, j] - 4bar[i, j]\n",
    "        end\n",
    "    end\n",
    "end"
   ]
  },
  {
   "cell_type": "code",
   "execution_count": 3,
   "id": "14ee63a7-4610-494c-98ad-06e657adb003",
   "metadata": {},
   "outputs": [
    {
     "data": {
      "text/plain": [
       "true"
      ]
     },
     "execution_count": 3,
     "metadata": {},
     "output_type": "execute_result"
    }
   ],
   "source": [
    "n = 100\n",
    "x = y = range(-1, 1; length=n)\n",
    "f(x, y) = exp(-2(x^2+y^2))\n",
    "bar = f.(x', y)\n",
    "\n",
    "foo = zero(bar)\n",
    "foo_inbounds = zero(bar)\n",
    "foo_turbo = zero(bar)\n",
    "foo_turbo2 = zero(bar)\n",
    "foo_tturbo = zero(bar)\n",
    "foo_tturbo2 = zero(bar)\n",
    "Foo = zero(bar)\n",
    "Foo_inbounds = zero(bar)\n",
    "Foo_turbo = zero(bar)\n",
    "Foo_turbo2 = zero(bar)\n",
    "Foo_tturbo = zero(bar)\n",
    "Foo_tturbo2 = zero(bar)\n",
    "\n",
    "L!(foo, bar)\n",
    "L_inbounds!(foo_inbounds, bar)\n",
    "L_turbo!(foo_turbo, bar)\n",
    "L_turbo2!(foo_turbo2, bar)\n",
    "L_tturbo!(foo_tturbo, bar)\n",
    "L_tturbo2!(foo_tturbo2, bar)\n",
    "M!(Foo, bar)\n",
    "M_inbounds!(Foo_inbounds, bar)\n",
    "M_turbo!(Foo_turbo, bar)\n",
    "M_turbo2!(Foo_turbo2, bar)\n",
    "M_tturbo!(Foo_tturbo, bar)\n",
    "M_tturbo2!(Foo_tturbo2, bar)\n",
    "\n",
    "foo == foo_inbounds == foo_turbo == foo_turbo2 == foo_tturbo == foo_tturbo2 ==\n",
    "Foo == Foo_inbounds == Foo_turbo == Foo_turbo2 == Foo_tturbo == Foo_tturbo2"
   ]
  },
  {
   "cell_type": "code",
   "execution_count": 4,
   "id": "b312cb53-00f5-46ad-975e-fd91c39e2b8d",
   "metadata": {},
   "outputs": [
    {
     "name": "stdout",
     "output_type": "stream",
     "text": [
      "  14.100 μs (0 allocations: 0 bytes)\n"
     ]
    }
   ],
   "source": [
    "@btime L!($foo, $bar)"
   ]
  },
  {
   "cell_type": "code",
   "execution_count": 5,
   "id": "93600381-d672-4e4f-9b5d-6aaee273dbf3",
   "metadata": {},
   "outputs": [
    {
     "name": "stdout",
     "output_type": "stream",
     "text": [
      "  17.700 μs (0 allocations: 0 bytes)\n"
     ]
    }
   ],
   "source": [
    "@btime M!($foo, $bar)"
   ]
  },
  {
   "cell_type": "code",
   "execution_count": 6,
   "id": "ba457b85-02d3-4885-b384-57264a1977c9",
   "metadata": {},
   "outputs": [
    {
     "name": "stdout",
     "output_type": "stream",
     "text": [
      "  3.225 μs (0 allocations: 0 bytes)\n"
     ]
    }
   ],
   "source": [
    "@btime L_inbounds!($foo, $bar)"
   ]
  },
  {
   "cell_type": "code",
   "execution_count": 7,
   "id": "1c433e26-91a1-4522-998c-9049b5c1c4e0",
   "metadata": {},
   "outputs": [
    {
     "name": "stdout",
     "output_type": "stream",
     "text": [
      "  8.367 μs (0 allocations: 0 bytes)\n"
     ]
    }
   ],
   "source": [
    "@btime M_inbounds!($foo, $bar)"
   ]
  },
  {
   "cell_type": "code",
   "execution_count": 8,
   "id": "dcf9b6da-36d0-430c-bc42-bdb2524e74d7",
   "metadata": {},
   "outputs": [
    {
     "name": "stdout",
     "output_type": "stream",
     "text": [
      "  2.811 μs (0 allocations: 0 bytes)\n"
     ]
    }
   ],
   "source": [
    "@btime L_turbo!($foo, $bar)"
   ]
  },
  {
   "cell_type": "code",
   "execution_count": 9,
   "id": "93567c4d-4714-4a7c-963a-377028f0d5ee",
   "metadata": {},
   "outputs": [
    {
     "name": "stdout",
     "output_type": "stream",
     "text": [
      "  2.922 μs (0 allocations: 0 bytes)\n"
     ]
    }
   ],
   "source": [
    "@btime M_turbo!($foo, $bar)"
   ]
  },
  {
   "cell_type": "code",
   "execution_count": 10,
   "id": "cd1afbb7-583c-40bf-8b1b-ee4b342b60e1",
   "metadata": {},
   "outputs": [
    {
     "name": "stdout",
     "output_type": "stream",
     "text": [
      "  2.644 μs (0 allocations: 0 bytes)\n"
     ]
    }
   ],
   "source": [
    "@btime L_turbo2!($foo, $bar)"
   ]
  },
  {
   "cell_type": "code",
   "execution_count": 11,
   "id": "0006853c-96c1-4ff4-9755-5c7bde5f3649",
   "metadata": {},
   "outputs": [
    {
     "name": "stdout",
     "output_type": "stream",
     "text": [
      "  14.700 μs (0 allocations: 0 bytes)\n"
     ]
    }
   ],
   "source": [
    "@btime M_turbo2!($foo, $bar)"
   ]
  },
  {
   "cell_type": "code",
   "execution_count": 12,
   "id": "afde133f-29b3-4ead-8231-b43b284c4f4f",
   "metadata": {},
   "outputs": [
    {
     "name": "stdout",
     "output_type": "stream",
     "text": [
      "  1.820 μs (0 allocations: 0 bytes)\n"
     ]
    }
   ],
   "source": [
    "@btime L_tturbo!($foo, $bar)"
   ]
  },
  {
   "cell_type": "code",
   "execution_count": 13,
   "id": "d9c67aa0-944a-467d-aa8d-e6554135943b",
   "metadata": {},
   "outputs": [
    {
     "name": "stdout",
     "output_type": "stream",
     "text": [
      "  1.580 μs (0 allocations: 0 bytes)\n"
     ]
    }
   ],
   "source": [
    "@btime M_tturbo!($foo, $bar)"
   ]
  },
  {
   "cell_type": "code",
   "execution_count": 14,
   "id": "d6d59bd1-0ac5-4e74-8c65-0e1ad467f3bf",
   "metadata": {},
   "outputs": [
    {
     "name": "stdout",
     "output_type": "stream",
     "text": [
      "  3.212 μs (0 allocations: 0 bytes)\n"
     ]
    }
   ],
   "source": [
    "@btime L_tturbo2!($foo, $bar)"
   ]
  },
  {
   "cell_type": "code",
   "execution_count": 15,
   "id": "6d86cb16-f5bd-4e04-b641-a33febf5c4af",
   "metadata": {},
   "outputs": [
    {
     "name": "stdout",
     "output_type": "stream",
     "text": [
      "  22.200 μs (0 allocations: 0 bytes)\n"
     ]
    }
   ],
   "source": [
    "@btime M_tturbo2!($foo, $bar)"
   ]
  },
  {
   "cell_type": "code",
   "execution_count": null,
   "id": "75c729bc-dab0-44cd-82c2-d7a3e49d1c4d",
   "metadata": {},
   "outputs": [],
   "source": []
  }
 ],
 "metadata": {
  "jupytext": {
   "formats": "ipynb,md"
  },
  "kernelspec": {
   "display_name": "Julia 1.7.0-DEV",
   "language": "julia",
   "name": "julia-1.7"
  },
  "language_info": {
   "file_extension": ".jl",
   "mimetype": "application/julia",
   "name": "julia",
   "version": "1.7.0"
  }
 },
 "nbformat": 4,
 "nbformat_minor": 5
}
