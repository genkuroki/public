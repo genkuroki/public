{
 "cells": [
  {
   "cell_type": "code",
   "execution_count": 1,
   "id": "cfffef28-0ea1-46ac-a6f7-b6c3d3d3e916",
   "metadata": {},
   "outputs": [
    {
     "data": {
      "text/plain": [
       "1×4 Matrix{Int64}:\n",
       " 1  2  3  4"
      ]
     },
     "execution_count": 1,
     "metadata": {},
     "output_type": "execute_result"
    }
   ],
   "source": [
    "A = [1 2 3 4]"
   ]
  },
  {
   "cell_type": "code",
   "execution_count": 2,
   "id": "e6d03bb5-6195-48e0-a198-7b3e6452631d",
   "metadata": {},
   "outputs": [
    {
     "data": {
      "text/plain": [
       "4-element Vector{Int64}:\n",
       " 1\n",
       " 2\n",
       " 3\n",
       " 4"
      ]
     },
     "execution_count": 2,
     "metadata": {},
     "output_type": "execute_result"
    }
   ],
   "source": [
    "B = [1, 2, 3, 4]"
   ]
  },
  {
   "cell_type": "code",
   "execution_count": 3,
   "id": "cfda9194-55ef-473e-a81c-a4e68e48dce7",
   "metadata": {},
   "outputs": [
    {
     "data": {
      "text/plain": [
       "1-element Vector{Int64}:\n",
       " 30"
      ]
     },
     "execution_count": 3,
     "metadata": {},
     "output_type": "execute_result"
    }
   ],
   "source": [
    "A*B"
   ]
  },
  {
   "cell_type": "code",
   "execution_count": 4,
   "id": "2996ba83-a633-40c9-a839-81f4fac3b3ca",
   "metadata": {},
   "outputs": [
    {
     "data": {
      "text/plain": [
       "1×4 adjoint(::Vector{Int64}) with eltype Int64:\n",
       " 1  2  3  4"
      ]
     },
     "execution_count": 4,
     "metadata": {},
     "output_type": "execute_result"
    }
   ],
   "source": [
    "A = [1, 2, 3, 4]'"
   ]
  },
  {
   "cell_type": "code",
   "execution_count": 5,
   "id": "ba2a3424-7a97-4c3e-a29c-99e9c3210d7b",
   "metadata": {},
   "outputs": [
    {
     "data": {
      "text/plain": [
       "30"
      ]
     },
     "execution_count": 5,
     "metadata": {},
     "output_type": "execute_result"
    }
   ],
   "source": [
    "A*B"
   ]
  },
  {
   "cell_type": "code",
   "execution_count": 6,
   "id": "817b35d8-08fb-4975-8d5f-241c11fcd1d8",
   "metadata": {},
   "outputs": [
    {
     "data": {
      "text/plain": [
       "4×2 Matrix{Int64}:\n",
       " 1  5\n",
       " 2  6\n",
       " 3  7\n",
       " 4  8"
      ]
     },
     "execution_count": 6,
     "metadata": {},
     "output_type": "execute_result"
    }
   ],
   "source": [
    "C = [\n",
    "    1 5\n",
    "    2 6\n",
    "    3 7\n",
    "    4 8\n",
    "]"
   ]
  },
  {
   "cell_type": "code",
   "execution_count": 7,
   "id": "aae29eb3-b337-4fb4-850a-ce66b2a1c88f",
   "metadata": {},
   "outputs": [
    {
     "data": {
      "text/plain": [
       "1×2 adjoint(::Vector{Int64}) with eltype Int64:\n",
       " 30  70"
      ]
     },
     "execution_count": 7,
     "metadata": {},
     "output_type": "execute_result"
    }
   ],
   "source": [
    "A*C"
   ]
  },
  {
   "cell_type": "code",
   "execution_count": 8,
   "id": "15bebe58-e508-46b0-93cf-935cd2738425",
   "metadata": {},
   "outputs": [
    {
     "data": {
      "text/plain": [
       "2-element Vector{Int64}:\n",
       " 1\n",
       " 2"
      ]
     },
     "execution_count": 8,
     "metadata": {},
     "output_type": "execute_result"
    }
   ],
   "source": [
    "v = [\n",
    "    1\n",
    "    2\n",
    "]"
   ]
  },
  {
   "cell_type": "code",
   "execution_count": 9,
   "id": "97da6174-fc55-4607-994d-690e0dda4cb7",
   "metadata": {},
   "outputs": [
    {
     "data": {
      "text/plain": [
       "170"
      ]
     },
     "execution_count": 9,
     "metadata": {},
     "output_type": "execute_result"
    }
   ],
   "source": [
    "A*C*v"
   ]
  },
  {
   "cell_type": "code",
   "execution_count": 10,
   "id": "2ee2c9ed-ae7f-4390-8184-548d0e442f1d",
   "metadata": {},
   "outputs": [
    {
     "data": {
      "text/plain": [
       "1:3"
      ]
     },
     "execution_count": 10,
     "metadata": {},
     "output_type": "execute_result"
    }
   ],
   "source": [
    "x = 1:4\n",
    "y = 1:3"
   ]
  },
  {
   "cell_type": "code",
   "execution_count": 11,
   "id": "27a129c5-1439-4695-b127-71bac05c7d1a",
   "metadata": {},
   "outputs": [
    {
     "data": {
      "text/plain": [
       "3×4 Matrix{Int64}:\n",
       " 1  2  3  4\n",
       " 1  2  3  4\n",
       " 1  2  3  4"
      ]
     },
     "execution_count": 11,
     "metadata": {},
     "output_type": "execute_result"
    }
   ],
   "source": [
    "X = [x for y in y, x in x]"
   ]
  },
  {
   "cell_type": "code",
   "execution_count": 12,
   "id": "ec9a4bc6-c554-4a82-bc16-24ef2999b281",
   "metadata": {},
   "outputs": [
    {
     "data": {
      "text/plain": [
       "3×4 Matrix{Int64}:\n",
       " 1  1  1  1\n",
       " 2  2  2  2\n",
       " 3  3  3  3"
      ]
     },
     "execution_count": 12,
     "metadata": {},
     "output_type": "execute_result"
    }
   ],
   "source": [
    "Y = [y for y in y, x in x]"
   ]
  },
  {
   "cell_type": "code",
   "execution_count": 13,
   "id": "24b9175c-35ac-474c-9061-28526134909a",
   "metadata": {},
   "outputs": [
    {
     "data": {
      "text/plain": [
       "3×4 Matrix{Int64}:\n",
       " 0  0  0  0\n",
       " 0  0  0  0\n",
       " 0  0  0  0"
      ]
     },
     "execution_count": 13,
     "metadata": {},
     "output_type": "execute_result"
    }
   ],
   "source": [
    "zero(X)"
   ]
  },
  {
   "cell_type": "code",
   "execution_count": 14,
   "id": "fa4dbcdc-46b7-4e2b-969a-196c5b5f129a",
   "metadata": {},
   "outputs": [
    {
     "data": {
      "text/plain": [
       "Main.O"
      ]
     },
     "execution_count": 14,
     "metadata": {},
     "output_type": "execute_result"
    }
   ],
   "source": [
    "module O\n",
    "\n",
    "struct Foo{T}\n",
    "    d::Dict{T}\n",
    "end\n",
    "\n",
    "function f(foo::Foo)\n",
    "    d = foo.d\n",
    "    for k in keys(d)\n",
    "        println(k, \": \", d[k])\n",
    "    end\n",
    "end\n",
    "\n",
    "end"
   ]
  },
  {
   "cell_type": "code",
   "execution_count": 15,
   "id": "3f995468-0aa4-44e1-ba77-dd2cb8e461ae",
   "metadata": {},
   "outputs": [
    {
     "data": {
      "text/plain": [
       "Main.O.Foo{Symbol}(Dict(:a => 1, :b => 2, :c => 3))"
      ]
     },
     "execution_count": 15,
     "metadata": {},
     "output_type": "execute_result"
    }
   ],
   "source": [
    "foo = O.Foo(Dict(:a => 1, :b => 2, :c => 3))"
   ]
  },
  {
   "cell_type": "code",
   "execution_count": 16,
   "id": "66e7434b-cbe0-440f-ac21-02e8d1eb61aa",
   "metadata": {},
   "outputs": [
    {
     "name": "stdout",
     "output_type": "stream",
     "text": [
      "a: 1\n",
      "b: 2\n",
      "c: 3\n"
     ]
    }
   ],
   "source": [
    "O.f(foo)"
   ]
  },
  {
   "cell_type": "code",
   "execution_count": 17,
   "id": "d2f32e41-c6ac-4044-9218-6f9811cd414d",
   "metadata": {},
   "outputs": [
    {
     "name": "stdout",
     "output_type": "stream",
     "text": [
      "MethodInstance for Main.O.f(::\u001b[0mMain.O.Foo{Symbol})\n",
      "  from f(foo::Main.O.Foo) in Main.O at In[14]:7\n",
      "Arguments\n",
      "  #self#\u001b[36m::Core.Const(Main.O.f)\u001b[39m\n",
      "  foo\u001b[36m::Main.O.Foo{Symbol}\u001b[39m\n",
      "Locals\n",
      "  @_3\u001b[33m\u001b[1m::Union{Nothing, Tuple{Any, Any}}\u001b[22m\u001b[39m\n",
      "  d\u001b[91m\u001b[1m::Dict{Symbol}\u001b[22m\u001b[39m\n",
      "  k\u001b[91m\u001b[1m::Any\u001b[22m\u001b[39m\n",
      "Body\u001b[36m::Nothing\u001b[39m\n",
      "\u001b[90m1 ─\u001b[39m       (d = Base.getproperty(foo, :d))\n",
      "\u001b[90m│  \u001b[39m %2  = Main.O.keys(d)\u001b[91m\u001b[1m::Base.KeySet{Symbol, _A} where _A<:(AbstractDict{Symbol})\u001b[22m\u001b[39m\n",
      "\u001b[90m│  \u001b[39m       (@_3 = Base.iterate(%2))\n",
      "\u001b[90m│  \u001b[39m %4  = (@_3 === nothing)\u001b[36m::Bool\u001b[39m\n",
      "\u001b[90m│  \u001b[39m %5  = Base.not_int(%4)\u001b[36m::Bool\u001b[39m\n",
      "\u001b[90m└──\u001b[39m       goto #4 if not %5\n",
      "\u001b[90m2 ┄\u001b[39m %7  = @_3\u001b[91m\u001b[1m::Tuple{Any, Any}\u001b[22m\u001b[39m\n",
      "\u001b[90m│  \u001b[39m       (k = Core.getfield(%7, 1))\n",
      "\u001b[90m│  \u001b[39m %9  = Core.getfield(%7, 2)\u001b[91m\u001b[1m::Any\u001b[22m\u001b[39m\n",
      "\u001b[90m│  \u001b[39m %10 = k\u001b[91m\u001b[1m::Any\u001b[22m\u001b[39m\n",
      "\u001b[90m│  \u001b[39m %11 = Base.getindex(d, k)\u001b[91m\u001b[1m::Any\u001b[22m\u001b[39m\n",
      "\u001b[90m│  \u001b[39m       Main.O.println(%10, \": \", %11)\n",
      "\u001b[90m│  \u001b[39m       (@_3 = Base.iterate(%2, %9))\n",
      "\u001b[90m│  \u001b[39m %14 = (@_3 === nothing)\u001b[36m::Bool\u001b[39m\n",
      "\u001b[90m│  \u001b[39m %15 = Base.not_int(%14)\u001b[36m::Bool\u001b[39m\n",
      "\u001b[90m└──\u001b[39m       goto #4 if not %15\n",
      "\u001b[90m3 ─\u001b[39m       goto #2\n",
      "\u001b[90m4 ┄\u001b[39m       return nothing\n",
      "\n"
     ]
    }
   ],
   "source": [
    "@code_warntype O.f(foo)"
   ]
  },
  {
   "cell_type": "code",
   "execution_count": 18,
   "id": "5619a6bc-c848-43fd-9e7b-1c4b8b9bbf69",
   "metadata": {},
   "outputs": [
    {
     "data": {
      "text/plain": [
       "Main.Q"
      ]
     },
     "execution_count": 18,
     "metadata": {},
     "output_type": "execute_result"
    }
   ],
   "source": [
    "module Q\n",
    "\n",
    "struct Bar{K, V}\n",
    "    d::Dict{K, V}\n",
    "end\n",
    "\n",
    "function g(bar::Bar)\n",
    "    d = bar.d\n",
    "    for k in keys(d)\n",
    "        println(k, \": \", d[k])\n",
    "    end\n",
    "end\n",
    "\n",
    "end"
   ]
  },
  {
   "cell_type": "code",
   "execution_count": 19,
   "id": "bb8f4c66-3208-40f2-a9f1-6b09df00a441",
   "metadata": {},
   "outputs": [
    {
     "data": {
      "text/plain": [
       "Main.Q.Bar{Symbol, Int64}(Dict(:a => 1, :b => 2, :c => 3))"
      ]
     },
     "execution_count": 19,
     "metadata": {},
     "output_type": "execute_result"
    }
   ],
   "source": [
    "bar = Q.Bar(Dict(:a => 1, :b => 2, :c => 3))"
   ]
  },
  {
   "cell_type": "code",
   "execution_count": 20,
   "id": "34c269d4-a4a9-4d94-bd87-5e097f77f5e3",
   "metadata": {},
   "outputs": [
    {
     "name": "stdout",
     "output_type": "stream",
     "text": [
      "a: 1\n",
      "b: 2\n",
      "c: 3\n"
     ]
    }
   ],
   "source": [
    "Q.g(bar)"
   ]
  },
  {
   "cell_type": "code",
   "execution_count": 21,
   "id": "c5cf36a6-ea82-449b-bf22-d18c5dbd7d9e",
   "metadata": {},
   "outputs": [
    {
     "name": "stdout",
     "output_type": "stream",
     "text": [
      "MethodInstance for Main.Q.g(::\u001b[0mMain.Q.Bar{Symbol, Int64})\n",
      "  from g(bar::Main.Q.Bar) in Main.Q at In[18]:7\n",
      "Arguments\n",
      "  #self#\u001b[36m::Core.Const(Main.Q.g)\u001b[39m\n",
      "  bar\u001b[36m::Main.Q.Bar{Symbol, Int64}\u001b[39m\n",
      "Locals\n",
      "  @_3\u001b[33m\u001b[1m::Union{Nothing, Tuple{Symbol, Int64}}\u001b[22m\u001b[39m\n",
      "  d\u001b[36m::Dict{Symbol, Int64}\u001b[39m\n",
      "  k\u001b[36m::Symbol\u001b[39m\n",
      "Body\u001b[36m::Nothing\u001b[39m\n",
      "\u001b[90m1 ─\u001b[39m       (d = Base.getproperty(bar, :d))\n",
      "\u001b[90m│  \u001b[39m %2  = Main.Q.keys(d)\u001b[36m::Base.KeySet{Symbol, Dict{Symbol, Int64}}\u001b[39m\n",
      "\u001b[90m│  \u001b[39m       (@_3 = Base.iterate(%2))\n",
      "\u001b[90m│  \u001b[39m %4  = (@_3 === nothing)\u001b[36m::Bool\u001b[39m\n",
      "\u001b[90m│  \u001b[39m %5  = Base.not_int(%4)\u001b[36m::Bool\u001b[39m\n",
      "\u001b[90m└──\u001b[39m       goto #4 if not %5\n",
      "\u001b[90m2 ┄\u001b[39m %7  = @_3\u001b[36m::Tuple{Symbol, Int64}\u001b[39m\n",
      "\u001b[90m│  \u001b[39m       (k = Core.getfield(%7, 1))\n",
      "\u001b[90m│  \u001b[39m %9  = Core.getfield(%7, 2)\u001b[36m::Int64\u001b[39m\n",
      "\u001b[90m│  \u001b[39m %10 = k\u001b[36m::Symbol\u001b[39m\n",
      "\u001b[90m│  \u001b[39m %11 = Base.getindex(d, k)\u001b[36m::Int64\u001b[39m\n",
      "\u001b[90m│  \u001b[39m       Main.Q.println(%10, \": \", %11)\n",
      "\u001b[90m│  \u001b[39m       (@_3 = Base.iterate(%2, %9))\n",
      "\u001b[90m│  \u001b[39m %14 = (@_3 === nothing)\u001b[36m::Bool\u001b[39m\n",
      "\u001b[90m│  \u001b[39m %15 = Base.not_int(%14)\u001b[36m::Bool\u001b[39m\n",
      "\u001b[90m└──\u001b[39m       goto #4 if not %15\n",
      "\u001b[90m3 ─\u001b[39m       goto #2\n",
      "\u001b[90m4 ┄\u001b[39m       return nothing\n",
      "\n"
     ]
    }
   ],
   "source": [
    "@code_warntype Q.g(bar)"
   ]
  },
  {
   "cell_type": "code",
   "execution_count": 22,
   "id": "5d9b39ab-771e-4288-94e8-53ac1ab96b36",
   "metadata": {},
   "outputs": [
    {
     "data": {
      "text/plain": [
       "4"
      ]
     },
     "execution_count": 22,
     "metadata": {},
     "output_type": "execute_result"
    }
   ],
   "source": [
    "bar.d[:d] = 4"
   ]
  },
  {
   "cell_type": "code",
   "execution_count": 23,
   "id": "ab969088-af69-41b4-a649-ec834e4c044d",
   "metadata": {},
   "outputs": [
    {
     "data": {
      "text/plain": [
       "Main.Q.Bar{Symbol, Int64}(Dict(:a => 1, :b => 2, :d => 4, :c => 3))"
      ]
     },
     "execution_count": 23,
     "metadata": {},
     "output_type": "execute_result"
    }
   ],
   "source": [
    "bar"
   ]
  },
  {
   "cell_type": "code",
   "execution_count": 24,
   "id": "c71e9b82-4212-4eaa-9360-3849e0372f44",
   "metadata": {},
   "outputs": [
    {
     "data": {
      "text/plain": [
       "(d = Dict(:a => 1, :b => 2, :d => 4, :c => 3),)"
      ]
     },
     "execution_count": 24,
     "metadata": {},
     "output_type": "execute_result"
    }
   ],
   "source": [
    "baz = (d = bar.d,)"
   ]
  },
  {
   "cell_type": "code",
   "execution_count": 25,
   "id": "eb1989f2-0e92-41ae-85c7-75372a504432",
   "metadata": {},
   "outputs": [
    {
     "data": {
      "text/plain": [
       "(d = Dict(:a => 1, :b => 2, :d => 4, :e => 5, :c => 3),)"
      ]
     },
     "execution_count": 25,
     "metadata": {},
     "output_type": "execute_result"
    }
   ],
   "source": [
    "baz.d[:e] = 5\n",
    "baz"
   ]
  },
  {
   "cell_type": "code",
   "execution_count": 26,
   "id": "186ad225-f592-4861-975b-ae14de708254",
   "metadata": {},
   "outputs": [
    {
     "data": {
      "text/plain": [
       "Main.Q.Bar{Symbol, Int64}(Dict(:a => 1, :b => 2, :d => 4, :e => 5, :c => 3))"
      ]
     },
     "execution_count": 26,
     "metadata": {},
     "output_type": "execute_result"
    }
   ],
   "source": [
    "bar"
   ]
  },
  {
   "cell_type": "code",
   "execution_count": 27,
   "id": "4de37338-1314-4b64-8e27-2e3e2a51ffc2",
   "metadata": {},
   "outputs": [
    {
     "data": {
      "text/plain": [
       "Qoo{Dict{Symbol, Int64}}(Dict{Symbol, Int64}())"
      ]
     },
     "execution_count": 27,
     "metadata": {},
     "output_type": "execute_result"
    }
   ],
   "source": [
    "struct Qoo{T} a::T end\n",
    "qoo = Qoo(Dict{Symbol, Int64}())"
   ]
  },
  {
   "cell_type": "code",
   "execution_count": 28,
   "id": "2de9f4d9-73b2-4f8d-8516-c6fcc2d79d05",
   "metadata": {},
   "outputs": [
    {
     "data": {
      "text/plain": [
       "Qoo{Dict{Symbol, Int64}}(Dict(:a => 1))"
      ]
     },
     "execution_count": 28,
     "metadata": {},
     "output_type": "execute_result"
    }
   ],
   "source": [
    "qoo.a[:a] = 1\n",
    "qoo"
   ]
  },
  {
   "cell_type": "code",
   "execution_count": 29,
   "id": "2851a0c6-ff70-43d1-bb11-0b68c76d7684",
   "metadata": {},
   "outputs": [
    {
     "data": {
      "text/plain": [
       "Qoo{Dict{Symbol, Int64}}(Dict(:a => 1, :b => 2))"
      ]
     },
     "execution_count": 29,
     "metadata": {},
     "output_type": "execute_result"
    }
   ],
   "source": [
    "qoo.a[:b] = 2\n",
    "qoo"
   ]
  },
  {
   "cell_type": "code",
   "execution_count": 30,
   "id": "c7542006-60f8-43de-b235-b4c66f08db6f",
   "metadata": {},
   "outputs": [
    {
     "data": {
      "text/plain": [
       "(a = Int64[],)"
      ]
     },
     "execution_count": 30,
     "metadata": {},
     "output_type": "execute_result"
    }
   ],
   "source": [
    "qux = (a = Int64[],)"
   ]
  },
  {
   "cell_type": "code",
   "execution_count": 31,
   "id": "bfca86b1-2dc0-45db-94f3-b38a1b5019a4",
   "metadata": {},
   "outputs": [
    {
     "data": {
      "text/plain": [
       "(a = [1, 2, 3],)"
      ]
     },
     "execution_count": 31,
     "metadata": {},
     "output_type": "execute_result"
    }
   ],
   "source": [
    "push!(qux.a, 1, 2, 3)\n",
    "qux"
   ]
  },
  {
   "cell_type": "code",
   "execution_count": 32,
   "id": "d198cfe1-8a0c-48fd-9595-9cbf9e9777a9",
   "metadata": {},
   "outputs": [
    {
     "data": {
      "text/plain": [
       "(a = [1, 999, 3],)"
      ]
     },
     "execution_count": 32,
     "metadata": {},
     "output_type": "execute_result"
    }
   ],
   "source": [
    "qux.a[2] = 999\n",
    "qux"
   ]
  },
  {
   "cell_type": "code",
   "execution_count": 33,
   "id": "d7b5f0bc-3161-48b8-a252-37a88079f844",
   "metadata": {},
   "outputs": [
    {
     "data": {
      "text/plain": [
       "f (generic function with 1 method)"
      ]
     },
     "execution_count": 33,
     "metadata": {},
     "output_type": "execute_result"
    }
   ],
   "source": [
    "f(x) = if x < 0; \"negative\"; elseif x == 0; \"zero\"; else; \"positive\"; end"
   ]
  },
  {
   "cell_type": "code",
   "execution_count": 34,
   "id": "434bd1fe-e9ab-4ad9-bf87-56c3bc136e75",
   "metadata": {},
   "outputs": [
    {
     "data": {
      "text/plain": [
       "(\"negative\", \"zero\", \"positive\")"
      ]
     },
     "execution_count": 34,
     "metadata": {},
     "output_type": "execute_result"
    }
   ],
   "source": [
    "f(-1), f(0), f(1)"
   ]
  },
  {
   "cell_type": "code",
   "execution_count": 35,
   "id": "d7f65b1b-e983-4dfd-b092-58eb8a411795",
   "metadata": {},
   "outputs": [
    {
     "data": {
      "text/plain": [
       "g (generic function with 1 method)"
      ]
     },
     "execution_count": 35,
     "metadata": {},
     "output_type": "execute_result"
    }
   ],
   "source": [
    "g(x) = if x < 0 \"negative\" elseif x == 0 \"zero\" else \"positive\" end"
   ]
  },
  {
   "cell_type": "code",
   "execution_count": 36,
   "id": "ac4d6087-97e9-4510-b3c3-52f06aa66773",
   "metadata": {},
   "outputs": [
    {
     "data": {
      "text/plain": [
       "(\"negative\", \"zero\", \"positive\")"
      ]
     },
     "execution_count": 36,
     "metadata": {},
     "output_type": "execute_result"
    }
   ],
   "source": [
    "g(-1), f(0), f(1)"
   ]
  },
  {
   "cell_type": "code",
   "execution_count": 37,
   "id": "10462d53-80c3-4ad4-be31-7219b6a42145",
   "metadata": {},
   "outputs": [
    {
     "data": {
      "text/plain": [
       ":(if a\n",
       "      A\n",
       "  elseif b\n",
       "      B\n",
       "  elseif c\n",
       "      C\n",
       "  else\n",
       "      D\n",
       "  end)"
      ]
     },
     "execution_count": 37,
     "metadata": {},
     "output_type": "execute_result"
    }
   ],
   "source": [
    ":(if a A elseif b B elseif c C else D end) |> Base.remove_linenums!"
   ]
  },
  {
   "cell_type": "code",
   "execution_count": 38,
   "id": "d641ba0c-81f3-4f92-934b-76fea3f1514b",
   "metadata": {},
   "outputs": [
    {
     "data": {
      "text/plain": [
       "(a = 1, b = 2.0, c = \"three\")"
      ]
     },
     "execution_count": 38,
     "metadata": {},
     "output_type": "execute_result"
    }
   ],
   "source": [
    "hoe = (a = 1, b = 2.0, c = \"three\")"
   ]
  },
  {
   "cell_type": "code",
   "execution_count": 39,
   "id": "dcc40abf-de2a-4ce7-a0ec-60451ca902b1",
   "metadata": {},
   "outputs": [
    {
     "data": {
      "text/plain": [
       "NamedTuple{(:a, :b, :c), Tuple{Int64, Float64, String}}"
      ]
     },
     "execution_count": 39,
     "metadata": {},
     "output_type": "execute_result"
    }
   ],
   "source": [
    "typeof(hoe)"
   ]
  },
  {
   "cell_type": "code",
   "execution_count": null,
   "id": "01a4bd39-c5b2-460a-87ed-5548a8c1f9e7",
   "metadata": {},
   "outputs": [],
   "source": []
  }
 ],
 "metadata": {
  "jupytext": {
   "formats": "ipynb,md"
  },
  "kernelspec": {
   "display_name": "Julia 1.7.0-DEV",
   "language": "julia",
   "name": "julia-1.7"
  },
  "language_info": {
   "file_extension": ".jl",
   "mimetype": "application/julia",
   "name": "julia",
   "version": "1.7.0"
  }
 },
 "nbformat": 4,
 "nbformat_minor": 5
}
