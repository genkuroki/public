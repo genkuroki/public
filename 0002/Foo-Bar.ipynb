{
 "cells": [
  {
   "cell_type": "code",
   "execution_count": 1,
   "id": "6f09918a-ff73-4f9d-b802-41d525ada1f5",
   "metadata": {},
   "outputs": [
    {
     "data": {
      "text/plain": [
       "Foo{Vector{Int64}}([123])"
      ]
     },
     "execution_count": 1,
     "metadata": {},
     "output_type": "execute_result"
    }
   ],
   "source": [
    "struct Foo{A} a::A end\n",
    "foo = Foo(Int[])\n",
    "push!(foo.a, 123)\n",
    "foo"
   ]
  },
  {
   "cell_type": "code",
   "execution_count": 2,
   "id": "00104ebb-e9af-4f9d-9fb9-029bce79646e",
   "metadata": {},
   "outputs": [
    {
     "data": {
      "text/plain": [
       "Foo{Vector{Int64}}([999, 456])"
      ]
     },
     "execution_count": 2,
     "metadata": {},
     "output_type": "execute_result"
    }
   ],
   "source": [
    "push!(foo.a, 456)\n",
    "foo.a[1] = 999\n",
    "foo"
   ]
  },
  {
   "cell_type": "code",
   "execution_count": 4,
   "id": "6c365bd9-d377-49e3-8cc0-f8a91fcce8cc",
   "metadata": {},
   "outputs": [
    {
     "data": {
      "text/plain": [
       "Bar{Int64, Float64, String}(1, 2.0, \"three\")"
      ]
     },
     "execution_count": 4,
     "metadata": {},
     "output_type": "execute_result"
    }
   ],
   "source": [
    "Base.@kwdef struct Bar{A, B, C}\n",
    "     a::A = 1\n",
    "     b::B = 2.0\n",
    "     c::C = \"three\"\n",
    "end\n",
    "bar = Bar()"
   ]
  },
  {
   "cell_type": "code",
   "execution_count": 5,
   "id": "8cfb1e5a-6a4d-4caf-904b-a4156504ff20",
   "metadata": {},
   "outputs": [
    {
     "name": "stdout",
     "output_type": "stream",
     "text": [
      "c = \"three\"\n",
      "a = 1\n"
     ]
    }
   ],
   "source": [
    "(; c, a) = bar\n",
    "@show c a;"
   ]
  },
  {
   "cell_type": "code",
   "execution_count": null,
   "id": "83b9f6ec-5cc2-4b8c-ae17-5533d7780642",
   "metadata": {},
   "outputs": [],
   "source": []
  }
 ],
 "metadata": {
  "jupytext": {
   "formats": "ipynb,md"
  },
  "kernelspec": {
   "display_name": "Julia 1.7.0-DEV",
   "language": "julia",
   "name": "julia-1.7"
  },
  "language_info": {
   "file_extension": ".jl",
   "mimetype": "application/julia",
   "name": "julia",
   "version": "1.7.0"
  }
 },
 "nbformat": 4,
 "nbformat_minor": 5
}
