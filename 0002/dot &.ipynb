{
 "cells": [
  {
   "cell_type": "code",
   "execution_count": 1,
   "id": "35563d55-7eeb-4940-bbef-440ff2d3b744",
   "metadata": {},
   "outputs": [
    {
     "data": {
      "text/html": [
       "# 17 methods for generic function <b>&</b>:<ul><li> &(x::<b>T</b>, y::<b>T</b>)<i> where T<:Union{Int128, Int16, Int32, Int64, Int8, UInt128, UInt16, UInt32, UInt64, UInt8}</i> in Base at <a href=\"https://github.com/JuliaLang/julia/tree/db8d09609ccd0e99c480a9c6180a29e776359441/base/int.jl#L330\" target=\"_blank\">int.jl:330</a></li> <li> &(left::<b>Base.AbstractCmd</b>, right::<b>Base.AbstractCmd</b>) in Base at <a href=\"https://github.com/JuliaLang/julia/tree/db8d09609ccd0e99c480a9c6180a29e776359441/base/cmd.jl#L287\" target=\"_blank\">cmd.jl:287</a></li> <li> &(x::<b>Bool</b>, y::<b>Bool</b>) in Base at <a href=\"https://github.com/JuliaLang/julia/tree/db8d09609ccd0e99c480a9c6180a29e776359441/base/bool.jl#L38\" target=\"_blank\">bool.jl:38</a></li> <li> &(b::<b>Bool</b>, a::<b>Missing</b>) in Base at <a href=\"https://github.com/JuliaLang/julia/tree/db8d09609ccd0e99c480a9c6180a29e776359441/base/missing.jl#L168\" target=\"_blank\">missing.jl:168</a></li> <li> &(::<b>Integer</b>, ::<b>Missing</b>) in Base at <a href=\"https://github.com/JuliaLang/julia/tree/db8d09609ccd0e99c480a9c6180a29e776359441/base/missing.jl#L170\" target=\"_blank\">missing.jl:170</a></li> <li> &(::<b>Missing</b>) in Base at <a href=\"https://github.com/JuliaLang/julia/tree/db8d09609ccd0e99c480a9c6180a29e776359441/base/missing.jl#L101\" target=\"_blank\">missing.jl:101</a></li> <li> &(::<b>Missing</b>, ::<b>Missing</b>) in Base at <a href=\"https://github.com/JuliaLang/julia/tree/db8d09609ccd0e99c480a9c6180a29e776359441/base/missing.jl#L166\" target=\"_blank\">missing.jl:166</a></li> <li> &(a::<b>Missing</b>, b::<b>Bool</b>) in Base at <a href=\"https://github.com/JuliaLang/julia/tree/db8d09609ccd0e99c480a9c6180a29e776359441/base/missing.jl#L167\" target=\"_blank\">missing.jl:167</a></li> <li> &(::<b>Missing</b>, ::<b>Integer</b>) in Base at <a href=\"https://github.com/JuliaLang/julia/tree/db8d09609ccd0e99c480a9c6180a29e776359441/base/missing.jl#L169\" target=\"_blank\">missing.jl:169</a></li> <li> &(x::<b>BigInt</b>, y::<b>BigInt</b>) in Base.GMP at <a href=\"https://github.com/JuliaLang/julia/tree/db8d09609ccd0e99c480a9c6180a29e776359441/base/gmp.jl#L480\" target=\"_blank\">gmp.jl:480</a></li> <li> &(a::<b>BigInt</b>, b::<b>BigInt</b>, c::<b>BigInt</b>) in Base.GMP at <a href=\"https://github.com/JuliaLang/julia/tree/db8d09609ccd0e99c480a9c6180a29e776359441/base/gmp.jl#L520\" target=\"_blank\">gmp.jl:520</a></li> <li> &(a::<b>BigInt</b>, b::<b>BigInt</b>, c::<b>BigInt</b>, d::<b>BigInt</b>) in Base.GMP at <a href=\"https://github.com/JuliaLang/julia/tree/db8d09609ccd0e99c480a9c6180a29e776359441/base/gmp.jl#L521\" target=\"_blank\">gmp.jl:521</a></li> <li> &(a::<b>BigInt</b>, b::<b>BigInt</b>, c::<b>BigInt</b>, d::<b>BigInt</b>, e::<b>BigInt</b>) in Base.GMP at <a href=\"https://github.com/JuliaLang/julia/tree/db8d09609ccd0e99c480a9c6180a29e776359441/base/gmp.jl#L522\" target=\"_blank\">gmp.jl:522</a></li> <li> &(x::<b>Integer</b>) in Base at <a href=\"https://github.com/JuliaLang/julia/tree/db8d09609ccd0e99c480a9c6180a29e776359441/base/operators.jl#L592\" target=\"_blank\">operators.jl:592</a></li> <li> &(x::<b>T</b>, y::<b>T</b>)<i> where T<:Integer</i> in Base at <a href=\"https://github.com/JuliaLang/julia/tree/db8d09609ccd0e99c480a9c6180a29e776359441/base/promotion.jl#L420\" target=\"_blank\">promotion.jl:420</a></li> <li> &(a::<b>Integer</b>, b::<b>Integer</b>) in Base at <a href=\"https://github.com/JuliaLang/julia/tree/db8d09609ccd0e99c480a9c6180a29e776359441/base/int.jl#L960\" target=\"_blank\">int.jl:960</a></li> <li> &(a, b, c, xs...) in Base at <a href=\"https://github.com/JuliaLang/julia/tree/db8d09609ccd0e99c480a9c6180a29e776359441/base/operators.jl#L653\" target=\"_blank\">operators.jl:653</a></li> </ul>"
      ],
      "text/plain": [
       "# 17 methods for generic function \"&\":\n",
       "[1] &(x::T, y::T) where T<:Union{Int128, Int16, Int32, Int64, Int8, UInt128, UInt16, UInt32, UInt64, UInt8} in Base at int.jl:330\n",
       "[2] &(left::Base.AbstractCmd, right::Base.AbstractCmd) in Base at cmd.jl:287\n",
       "[3] &(x::Bool, y::Bool) in Base at bool.jl:38\n",
       "[4] &(b::Bool, a::Missing) in Base at missing.jl:168\n",
       "[5] &(::Integer, ::Missing) in Base at missing.jl:170\n",
       "[6] &(::Missing) in Base at missing.jl:101\n",
       "[7] &(::Missing, ::Missing) in Base at missing.jl:166\n",
       "[8] &(a::Missing, b::Bool) in Base at missing.jl:167\n",
       "[9] &(::Missing, ::Integer) in Base at missing.jl:169\n",
       "[10] &(x::BigInt, y::BigInt) in Base.GMP at gmp.jl:480\n",
       "[11] &(a::BigInt, b::BigInt, c::BigInt) in Base.GMP at gmp.jl:520\n",
       "[12] &(a::BigInt, b::BigInt, c::BigInt, d::BigInt) in Base.GMP at gmp.jl:521\n",
       "[13] &(a::BigInt, b::BigInt, c::BigInt, d::BigInt, e::BigInt) in Base.GMP at gmp.jl:522\n",
       "[14] &(x::Integer) in Base at operators.jl:592\n",
       "[15] &(x::T, y::T) where T<:Integer in Base at promotion.jl:420\n",
       "[16] &(a::Integer, b::Integer) in Base at int.jl:960\n",
       "[17] &(a, b, c, xs...) in Base at operators.jl:653"
      ]
     },
     "execution_count": 1,
     "metadata": {},
     "output_type": "execute_result"
    }
   ],
   "source": [
    "methods(&)"
   ]
  },
  {
   "cell_type": "code",
   "execution_count": 2,
   "id": "1a287f3a-415a-4055-8592-6abd8beab41f",
   "metadata": {},
   "outputs": [
    {
     "ename": "LoadError",
     "evalue": "syntax: invalid syntax &(true, true, true, true) around In[2]:1",
     "output_type": "error",
     "traceback": [
      "syntax: invalid syntax &(true, true, true, true) around In[2]:1",
      "",
      "Stacktrace:",
      " [1] top-level scope",
      "   @ In[2]:1",
      " [2] eval",
      "   @ .\\boot.jl:369 [inlined]",
      " [3] include_string(mapexpr::typeof(REPL.softscope), mod::Module, code::String, filename::String)",
      "   @ Base .\\loading.jl:1110"
     ]
    }
   ],
   "source": [
    "&(true, true, true, true)"
   ]
  },
  {
   "cell_type": "code",
   "execution_count": 3,
   "id": "b85a7e93-b7ae-45e7-965d-cee371eaf71a",
   "metadata": {},
   "outputs": [
    {
     "data": {
      "text/plain": [
       "true"
      ]
     },
     "execution_count": 3,
     "metadata": {},
     "output_type": "execute_result"
    }
   ],
   "source": [
    "Base.:&(true, true, true, true)"
   ]
  },
  {
   "cell_type": "code",
   "execution_count": 4,
   "id": "c2d8dd1c-de9e-41b5-8871-a2352461d6cb",
   "metadata": {},
   "outputs": [
    {
     "data": {
      "text/plain": [
       "true"
      ]
     },
     "execution_count": 4,
     "metadata": {},
     "output_type": "execute_result"
    }
   ],
   "source": [
    "var\"&\"(true, true, true, true)"
   ]
  },
  {
   "cell_type": "code",
   "execution_count": 5,
   "id": "384cb1b3-8450-47f2-93f0-b26e20307ac9",
   "metadata": {},
   "outputs": [
    {
     "data": {
      "text/plain": [
       "true"
      ]
     },
     "execution_count": 5,
     "metadata": {},
     "output_type": "execute_result"
    }
   ],
   "source": [
    ".&(true, true, true, true)"
   ]
  },
  {
   "cell_type": "code",
   "execution_count": 6,
   "id": "dbaf2f56-e18d-4b15-b4a2-2f578c9eabfd",
   "metadata": {},
   "outputs": [
    {
     "data": {
      "text/plain": [
       "false"
      ]
     },
     "execution_count": 6,
     "metadata": {},
     "output_type": "execute_result"
    }
   ],
   "source": [
    ".&(true, true, false, true)"
   ]
  },
  {
   "cell_type": "code",
   "execution_count": 7,
   "id": "4229fbe8-fc4b-4956-9ba6-6676b6a74e6a",
   "metadata": {},
   "outputs": [
    {
     "name": "stdout",
     "output_type": "stream",
     "text": [
      "\u001b[90m; Function Attrs: uwtable\u001b[39m\n",
      "\u001b[95mdefine\u001b[39m \u001b[36mi8\u001b[39m \u001b[93m@\"julia_&_1296\"\u001b[39m\u001b[33m(\u001b[39m\u001b[36mi8\u001b[39m \u001b[95mzeroext\u001b[39m \u001b[0m%0\u001b[0m, \u001b[36mi8\u001b[39m \u001b[95mzeroext\u001b[39m \u001b[0m%1\u001b[0m, \u001b[36mi8\u001b[39m \u001b[95mzeroext\u001b[39m \u001b[0m%2\u001b[0m, \u001b[36mi8\u001b[39m \u001b[95mzeroext\u001b[39m \u001b[0m%3\u001b[33m)\u001b[39m \u001b[0m#0 \u001b[33m{\u001b[39m\n",
      "\u001b[91mtop:\u001b[39m\n",
      "  \u001b[0m%4 \u001b[0m= \u001b[96m\u001b[1mand\u001b[22m\u001b[39m \u001b[36mi8\u001b[39m \u001b[0m%0\u001b[0m, \u001b[33m1\u001b[39m\n",
      "  \u001b[0m%5 \u001b[0m= \u001b[96m\u001b[1mand\u001b[22m\u001b[39m \u001b[36mi8\u001b[39m \u001b[0m%4\u001b[0m, \u001b[0m%1\n",
      "  \u001b[0m%6 \u001b[0m= \u001b[96m\u001b[1mand\u001b[22m\u001b[39m \u001b[36mi8\u001b[39m \u001b[0m%5\u001b[0m, \u001b[0m%2\n",
      "  \u001b[0m%7 \u001b[0m= \u001b[96m\u001b[1mand\u001b[22m\u001b[39m \u001b[36mi8\u001b[39m \u001b[0m%6\u001b[0m, \u001b[0m%3\n",
      "  \u001b[96m\u001b[1mret\u001b[22m\u001b[39m \u001b[36mi8\u001b[39m \u001b[0m%7\n",
      "\u001b[33m}\u001b[39m\n"
     ]
    }
   ],
   "source": [
    "@code_llvm debuginfo=:none Base.:&(true, true, true, true)"
   ]
  },
  {
   "cell_type": "code",
   "execution_count": 8,
   "id": "71113ca5-cdac-40a2-a52f-cb6f1482f235",
   "metadata": {},
   "outputs": [
    {
     "name": "stdout",
     "output_type": "stream",
     "text": [
      "\u001b[90m; Function Attrs: uwtable\u001b[39m\n",
      "\u001b[95mdefine\u001b[39m \u001b[36mi8\u001b[39m \u001b[93m@julia_f_1332\u001b[39m\u001b[33m(\u001b[39m\u001b[36mi8\u001b[39m \u001b[95mzeroext\u001b[39m \u001b[0m%0\u001b[0m, \u001b[36mi8\u001b[39m \u001b[95mzeroext\u001b[39m \u001b[0m%1\u001b[0m, \u001b[36mi8\u001b[39m \u001b[95mzeroext\u001b[39m \u001b[0m%2\u001b[0m, \u001b[36mi8\u001b[39m \u001b[95mzeroext\u001b[39m \u001b[0m%3\u001b[33m)\u001b[39m \u001b[0m#0 \u001b[33m{\u001b[39m\n",
      "\u001b[91mtop:\u001b[39m\n",
      "  \u001b[0m%4 \u001b[0m= \u001b[96m\u001b[1mand\u001b[22m\u001b[39m \u001b[36mi8\u001b[39m \u001b[0m%0\u001b[0m, \u001b[33m1\u001b[39m\n",
      "  \u001b[0m%5 \u001b[0m= \u001b[96m\u001b[1mand\u001b[22m\u001b[39m \u001b[36mi8\u001b[39m \u001b[0m%4\u001b[0m, \u001b[0m%1\n",
      "  \u001b[0m%6 \u001b[0m= \u001b[96m\u001b[1mand\u001b[22m\u001b[39m \u001b[36mi8\u001b[39m \u001b[0m%5\u001b[0m, \u001b[0m%2\n",
      "  \u001b[0m%7 \u001b[0m= \u001b[96m\u001b[1mand\u001b[22m\u001b[39m \u001b[36mi8\u001b[39m \u001b[0m%6\u001b[0m, \u001b[0m%3\n",
      "  \u001b[96m\u001b[1mret\u001b[22m\u001b[39m \u001b[36mi8\u001b[39m \u001b[0m%7\n",
      "\u001b[33m}\u001b[39m\n"
     ]
    }
   ],
   "source": [
    "f(x...) = .&(x...)\n",
    "@code_llvm debuginfo=:none f(true, true, true, true)"
   ]
  },
  {
   "cell_type": "code",
   "execution_count": null,
   "id": "c3195db9-22fd-479f-b911-eda2835a17ef",
   "metadata": {},
   "outputs": [],
   "source": []
  }
 ],
 "metadata": {
  "jupytext": {
   "formats": "ipynb,md"
  },
  "kernelspec": {
   "display_name": "Julia 1.7.0-DEV",
   "language": "julia",
   "name": "julia-1.7"
  },
  "language_info": {
   "file_extension": ".jl",
   "mimetype": "application/julia",
   "name": "julia",
   "version": "1.7.0"
  }
 },
 "nbformat": 4,
 "nbformat_minor": 5
}
