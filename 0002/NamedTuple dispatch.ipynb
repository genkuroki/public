{
 "cells": [
  {
   "cell_type": "code",
   "execution_count": 1,
   "id": "7f5e1aa0-1ab1-4cc2-8860-714ddf860900",
   "metadata": {},
   "outputs": [
    {
     "name": "stdout",
     "output_type": "stream",
     "text": [
      "Foo(a = 1,)\n",
      "Bar(a = 1, b = 2.0)\n",
      "Baz(a = 1, b = 2.0, c = \"three\")\n"
     ]
    }
   ],
   "source": [
    "module Q\n",
    "\n",
    "const Foo = NamedTuple{(:a,)}\n",
    "const Bar = NamedTuple{(:a, :b)}\n",
    "const Baz = NamedTuple{(:a, :b, :c)}\n",
    "\n",
    "f(x::Foo) = println(\"Foo\", x)\n",
    "f(x::Bar) = println(\"Bar\", x)\n",
    "f(x::Baz) = println(\"Baz\", x)\n",
    "\n",
    "end\n",
    "\n",
    "foo = (a = 1,)\n",
    "bar = (a = 1, b = 2.0)\n",
    "baz = (a = 1, b = 2.0, c = \"three\");\n",
    "\n",
    "Q.f(foo)\n",
    "Q.f(bar)\n",
    "Q.f(baz);"
   ]
  },
  {
   "cell_type": "code",
   "execution_count": 2,
   "id": "5d9b909b-aed9-4e94-9c0f-4c9466847e2f",
   "metadata": {},
   "outputs": [
    {
     "data": {
      "text/plain": [
       "(a = 999, b = 2.0, c = \"three\")"
      ]
     },
     "execution_count": 2,
     "metadata": {},
     "output_type": "execute_result"
    }
   ],
   "source": [
    "baz = (a = 999, baz.b, baz.c)\n",
    "baz"
   ]
  },
  {
   "cell_type": "code",
   "execution_count": 3,
   "id": "2dfef40f-2a1d-45a2-bcf5-346b64340ba2",
   "metadata": {},
   "outputs": [
    {
     "data": {
      "text/plain": [
       "(a = Base.RefValue{Int64}(1), b = Base.RefValue{Float64}(2.0), c = Base.RefValue{String}(\"three\"))"
      ]
     },
     "execution_count": 3,
     "metadata": {},
     "output_type": "execute_result"
    }
   ],
   "source": [
    "qoo = (a = Ref(1), b = Ref(2.0), c = Ref(\"three\"))"
   ]
  },
  {
   "cell_type": "code",
   "execution_count": 4,
   "id": "aa7a45f6-a8e7-410c-b25e-ca9f02bfafac",
   "metadata": {},
   "outputs": [
    {
     "data": {
      "text/plain": [
       "(a = Base.RefValue{Int64}(1000), b = Base.RefValue{Float64}(2000.0), c = Base.RefValue{String}(\"three thousand\"))"
      ]
     },
     "execution_count": 4,
     "metadata": {},
     "output_type": "execute_result"
    }
   ],
   "source": [
    "qoo.a[] = 1000\n",
    "qoo.b[] = 2000.0\n",
    "qoo.c[] = \"three thousand\"\n",
    "qoo"
   ]
  },
  {
   "cell_type": "code",
   "execution_count": 5,
   "id": "01783eff-c944-4a91-be97-e64482a0cc98",
   "metadata": {},
   "outputs": [
    {
     "data": {
      "text/plain": [
       "(a = fill(1), b = fill(2.0), c = fill(\"three\"))"
      ]
     },
     "execution_count": 5,
     "metadata": {},
     "output_type": "execute_result"
    }
   ],
   "source": [
    "qux = (a = fill(1), b = fill(2.0), c = fill(\"three\"))"
   ]
  },
  {
   "cell_type": "code",
   "execution_count": 6,
   "id": "378aec0a-6272-42dd-a7bc-674360cf8ee6",
   "metadata": {},
   "outputs": [
    {
     "data": {
      "text/plain": [
       "(a = fill(1000), b = fill(2000.0), c = fill(\"three thousand\"))"
      ]
     },
     "execution_count": 6,
     "metadata": {},
     "output_type": "execute_result"
    }
   ],
   "source": [
    "qux.a[] = 1000\n",
    "qux.b[] = 2000.0\n",
    "qux.c[] = \"three thousand\"\n",
    "qux"
   ]
  },
  {
   "cell_type": "code",
   "execution_count": null,
   "id": "8b5889dd-2e5a-49d8-adb1-f26012d92120",
   "metadata": {},
   "outputs": [],
   "source": []
  }
 ],
 "metadata": {
  "jupytext": {
   "formats": "ipynb,md,jl:hydrogen"
  },
  "kernelspec": {
   "display_name": "Julia 1.7.0-DEV",
   "language": "julia",
   "name": "julia-1.7"
  },
  "language_info": {
   "file_extension": ".jl",
   "mimetype": "application/julia",
   "name": "julia",
   "version": "1.7.0"
  }
 },
 "nbformat": 4,
 "nbformat_minor": 5
}
