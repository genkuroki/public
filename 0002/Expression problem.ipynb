{
 "cells": [
  {
   "cell_type": "markdown",
   "id": "d4a3818f-f766-4fdf-bdfb-11b14cf36462",
   "metadata": {},
   "source": [
    "# Expression problem\n",
    "\n",
    "* https://miguelraz.github.io/blog/dispatch/index.html\n",
    "\n",
    "以下のコードは\n",
    "\n",
    "* https://eli.thegreenplace.net/2016/the-expression-problem-and-its-solutions/\n",
    "\n",
    "より。\n",
    "\n",
    "__C++__\n",
    "\n",
    "```C++\n",
    "class Expr {\n",
    "public:\n",
    "  virtual std::string ToString() const = 0;\n",
    "  virtual double Eval() const = 0;\n",
    "};\n",
    "```\n",
    "\n",
    "```C++\n",
    "class Constant : public Expr {\n",
    "public:\n",
    "  Constant(double value) : value_(value) {}\n",
    "\n",
    "  std::string ToString() const {\n",
    "    std::ostringstream ss;\n",
    "    ss << value_;\n",
    "    return ss.str();\n",
    "  }\n",
    "\n",
    "  double Eval() const {\n",
    "    return value_;\n",
    "  }\n",
    "\n",
    "private:\n",
    "  double value_;\n",
    "};\n",
    "```\n",
    "\n",
    "```C++\n",
    "class BinaryPlus : public Expr {\n",
    "public:\n",
    "  BinaryPlus(const Expr& lhs, const Expr& rhs) : lhs_(lhs), rhs_(rhs) {}\n",
    "\n",
    "  std::string ToString() const {\n",
    "    return lhs_.ToString() + \" + \" + rhs_.ToString();\n",
    "  }\n",
    "\n",
    "  double Eval() const {\n",
    "    return lhs_.Eval() + rhs_.Eval();\n",
    "  }\n",
    "\n",
    "private:\n",
    "  const Expr& lhs_;\n",
    "  const Expr& rhs_;\n",
    "};\n",
    "```\n",
    "\n",
    "__Haskell__\n",
    "\n",
    "```Haskell\n",
    "module Expressions where\n",
    "\n",
    "data Expr = Constant Double\n",
    "          | BinaryPlus Expr Expr\n",
    "\n",
    "stringify :: Expr -> String\n",
    "stringify (Constant c) = show c\n",
    "stringify (BinaryPlus lhs rhs) = stringify lhs\n",
    "                                ++ \" + \"\n",
    "                                ++ stringify rhs\n",
    "\n",
    "evaluate :: Expr -> Double\n",
    "evaluate (Constant c) = c\n",
    "evaluate (BinaryPlus lhs rhs) = evaluate lhs + evaluate rhs\n",
    "```"
   ]
  },
  {
   "cell_type": "markdown",
   "id": "78f76ca6-fd0b-4b59-ae3f-8af01565a1a1",
   "metadata": {},
   "source": [
    "## 値の四則演算を行えるモジュールO"
   ]
  },
  {
   "cell_type": "code",
   "execution_count": 1,
   "id": "55bd5351-ca07-4d3b-b291-d0d324b5c42c",
   "metadata": {},
   "outputs": [
    {
     "data": {
      "text/plain": [
       "Main.O"
      ]
     },
     "execution_count": 1,
     "metadata": {},
     "output_type": "execute_result"
    }
   ],
   "source": [
    "module O\n",
    "\n",
    "abstract type Expression end\n",
    "\n",
    "struct Constant{C} <: Expression value::C end\n",
    "value(x::Constant) = getfield(x, :value)\n",
    "stringify(x::Constant) = string(value(x))\n",
    "evaluate(x::Constant) = value(x)\n",
    "\n",
    "abstract type BinOp <: Expression end\n",
    "lhs(x::BinOp) = getfield(x, :lhs)\n",
    "rhs(x::BinOp) = getfield(x, :rhs)\n",
    "\n",
    "const binop_list = ((:Plus, :+), (:Minus, :-), (:Mult, :*), (:Div, :/))\n",
    "for (S, op) in binop_list\n",
    "    @eval begin\n",
    "        struct $S{L<:Expression, R<:Expression} <: BinOp lhs::L; rhs::R end\n",
    "        stringify(x::$S) = \"(\" * stringify(lhs(x)) * \" $($op) \" * stringify(rhs(x)) * \")\"\n",
    "        evaluate(x::$S) = $op(evaluate(lhs(x)), evaluate(rhs(x)))\n",
    "    end\n",
    "end\n",
    "\n",
    "Base.show(io::IO, ::MIME\"text/plain\", x::Expression) = print(io, O.stringify(x))\n",
    "\n",
    "end"
   ]
  },
  {
   "cell_type": "code",
   "execution_count": 2,
   "id": "42dd6158-cb6f-4a71-b6b2-1f8081f45e4c",
   "metadata": {},
   "outputs": [
    {
     "data": {
      "text/plain": [
       "(((4 - 2) + (3 * 6)) / 5)"
      ]
     },
     "execution_count": 2,
     "metadata": {},
     "output_type": "execute_result"
    }
   ],
   "source": [
    "a = O.Constant(2)\n",
    "b = O.Constant(3)\n",
    "c = O.Constant(4)\n",
    "d = O.Constant(5)\n",
    "e = O.Constant(6)\n",
    "expr1 = O.Div(O.Plus(O.Minus(c, a), O.Mult(b, e)), d)"
   ]
  },
  {
   "cell_type": "code",
   "execution_count": 3,
   "id": "b79c0850-50a9-4590-a1b2-b5aa8c8cbbd4",
   "metadata": {},
   "outputs": [
    {
     "data": {
      "text/plain": [
       "4.0"
      ]
     },
     "execution_count": 3,
     "metadata": {},
     "output_type": "execute_result"
    }
   ],
   "source": [
    "O.evaluate(expr1)"
   ]
  },
  {
   "cell_type": "markdown",
   "id": "ca0e030f-b64b-4076-b010-9bc66748040c",
   "metadata": {},
   "source": [
    "## モジュールOを変更することなく、モジュールPで型と函数を追加\n",
    "\n",
    "モジュールPでは以下を追加する。\n",
    "\n",
    "* 変数の型\n",
    "* 変数の値のリストの型\n",
    "* 変数の値のリストに従って式を評価する函数\n",
    "* 変数の値のリストに従って変数に式を代入した式を作る函数"
   ]
  },
  {
   "cell_type": "code",
   "execution_count": 4,
   "id": "fc0baed5-3fd9-4cf6-bd38-5c875a9bbcea",
   "metadata": {},
   "outputs": [
    {
     "data": {
      "text/plain": [
       "Main.P"
      ]
     },
     "execution_count": 4,
     "metadata": {},
     "output_type": "execute_result"
    }
   ],
   "source": [
    "module P\n",
    "\n",
    "using InteractiveUtils: subtypes\n",
    "using ..O: O, Expression, Constant, BinOp, lhs, rhs\n",
    "\n",
    "struct Variable <:Expression name::Symbol end\n",
    "name(x::Variable) = getfield(x, :name)\n",
    "O.stringify(x::Variable) = string(name(x))\n",
    "\n",
    "struct ValueList{T<:NamedTuple} v::T end\n",
    "ValueList() = ValueList((;))\n",
    "ValueList(; p...) = ValueList((; p...))\n",
    "parent(x::ValueList) = getfield(x, :v)\n",
    "names(x::ValueList) = keys(parent(x))\n",
    "value(x::ValueList, name::Symbol) = getproperty(parent(x), name)\n",
    "\n",
    "evaluate(x::Variable, v::ValueList=ValueList()) = value(v, name(x))\n",
    "evaluate(x::Constant, v::ValueList=ValueLust()) = O.value(x)\n",
    "for (S, op) in O.binop_list\n",
    "    @eval evaluate(x::O.$S, v::ValueList=ValueList()) = \n",
    "        $op(evaluate(lhs(x), v), evaluate(rhs(x), v))\n",
    "end\n",
    "\n",
    "substitute(x::Variable, v::ValueList) = name(x) ∈ names(v) ? Constant(value(v, name(x))) : x\n",
    "substitute(x::Constant, v::ValueList) = x\n",
    "for (S, op) in O.binop_list\n",
    "    @eval substitute(x::O.$S, v::ValueList) = O.$S(substitute(lhs(x), v), substitute(rhs(x), v))\n",
    "end\n",
    "\n",
    "end"
   ]
  },
  {
   "cell_type": "code",
   "execution_count": 5,
   "id": "97c561d5-1add-4e0c-b8f4-03966d14f037",
   "metadata": {},
   "outputs": [
    {
     "data": {
      "text/plain": [
       "4.0"
      ]
     },
     "execution_count": 5,
     "metadata": {},
     "output_type": "execute_result"
    }
   ],
   "source": [
    "P.evaluate(expr1)"
   ]
  },
  {
   "cell_type": "code",
   "execution_count": 6,
   "id": "96149bcf-02e7-414e-aeab-78d687374c95",
   "metadata": {},
   "outputs": [
    {
     "data": {
      "text/plain": [
       "(((w - u) + (v * y)) / x)"
      ]
     },
     "execution_count": 6,
     "metadata": {},
     "output_type": "execute_result"
    }
   ],
   "source": [
    "u = P.Variable(:u)\n",
    "v = P.Variable(:v)\n",
    "w = P.Variable(:w)\n",
    "x = P.Variable(:x)\n",
    "y = P.Variable(:y)\n",
    "expr2 = O.Div(O.Plus(O.Minus(w, u), O.Mult(v, y)), x)"
   ]
  },
  {
   "cell_type": "code",
   "execution_count": 7,
   "id": "920dcadd-84ce-47bc-bf46-a9e8d2ff94ee",
   "metadata": {},
   "outputs": [
    {
     "data": {
      "text/plain": [
       "4.0"
      ]
     },
     "execution_count": 7,
     "metadata": {},
     "output_type": "execute_result"
    }
   ],
   "source": [
    "P.evaluate(expr2, P.ValueList(u=2, v=3, w=4, x=5, y=6))"
   ]
  },
  {
   "cell_type": "code",
   "execution_count": 8,
   "id": "f55a6e6b-a47d-40c2-86f5-6fc3b4cfb3df",
   "metadata": {},
   "outputs": [
    {
     "data": {
      "text/plain": [
       "(((4 - 2) + (3 * y)) / x)"
      ]
     },
     "execution_count": 8,
     "metadata": {},
     "output_type": "execute_result"
    }
   ],
   "source": [
    "expr3 = P.substitute(expr2, P.ValueList(u=2, v=3, w=4))"
   ]
  },
  {
   "cell_type": "code",
   "execution_count": 9,
   "id": "0c7b4023-7c46-4df3-98a7-00fb600145d3",
   "metadata": {},
   "outputs": [
    {
     "data": {
      "text/plain": [
       "(((4 - 2) + (3 * 6)) / 5)"
      ]
     },
     "execution_count": 9,
     "metadata": {},
     "output_type": "execute_result"
    }
   ],
   "source": [
    "expr4 = P.substitute(expr3, P.ValueList(x = 5, y = 6))"
   ]
  },
  {
   "cell_type": "code",
   "execution_count": 10,
   "id": "c413bc26-4074-4f9b-a016-95e3ac06fccd",
   "metadata": {},
   "outputs": [
    {
     "data": {
      "text/plain": [
       "4.0"
      ]
     },
     "execution_count": 10,
     "metadata": {},
     "output_type": "execute_result"
    }
   ],
   "source": [
    "O.evaluate(expr4)"
   ]
  },
  {
   "cell_type": "code",
   "execution_count": 11,
   "id": "641358a4-0c68-4952-b805-4be90702c6df",
   "metadata": {},
   "outputs": [
    {
     "data": {
      "text/plain": [
       "4.0"
      ]
     },
     "execution_count": 11,
     "metadata": {},
     "output_type": "execute_result"
    }
   ],
   "source": [
    "P.evaluate(expr3, P.ValueList(x = 5, y = 6))"
   ]
  },
  {
   "cell_type": "code",
   "execution_count": null,
   "id": "e2627c44-d71d-459a-8c7a-d23c3533b563",
   "metadata": {},
   "outputs": [],
   "source": []
  }
 ],
 "metadata": {
  "jupytext": {
   "formats": "ipynb,md"
  },
  "kernelspec": {
   "display_name": "Julia 1.7.0-DEV",
   "language": "julia",
   "name": "julia-1.7"
  },
  "language_info": {
   "file_extension": ".jl",
   "mimetype": "application/julia",
   "name": "julia",
   "version": "1.7.0"
  }
 },
 "nbformat": 4,
 "nbformat_minor": 5
}
