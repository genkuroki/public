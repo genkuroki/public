{
 "cells": [
  {
   "cell_type": "markdown",
   "id": "d4a3818f-f766-4fdf-bdfb-11b14cf36462",
   "metadata": {},
   "source": [
    "# Expression problem\n",
    "\n",
    "* https://miguelraz.github.io/blog/dispatch/index.html\n",
    "\n",
    "以下のコードは\n",
    "\n",
    "* https://eli.thegreenplace.net/2016/the-expression-problem-and-its-solutions/\n",
    "\n",
    "より。\n",
    "\n",
    "__C++__\n",
    "\n",
    "```C++\n",
    "class Expr {\n",
    "public:\n",
    "  virtual std::string ToString() const = 0;\n",
    "  virtual double Eval() const = 0;\n",
    "};\n",
    "```\n",
    "\n",
    "```C++\n",
    "class Constant : public Expr {\n",
    "public:\n",
    "  Constant(double value) : val(value) {}\n",
    "\n",
    "  std::string ToString() const {\n",
    "    std::ostringstream ss;\n",
    "    ss << value_;\n",
    "    return ss.str();\n",
    "  }\n",
    "\n",
    "  double Eval() const {\n",
    "    return value_;\n",
    "  }\n",
    "\n",
    "private:\n",
    "  double value_;\n",
    "};\n",
    "```\n",
    "\n",
    "```C++\n",
    "class BinaryPlus : public Expr {\n",
    "public:\n",
    "  BinaryPlus(const Expr& lhs, const Expr& rhs) : lhs_(lhs), rhs_(rhs) {}\n",
    "\n",
    "  std::string ToString() const {\n",
    "    return lhs_.ToString() + \" + \" + rhs_.ToString();\n",
    "  }\n",
    "\n",
    "  double Eval() const {\n",
    "    return lhs_.Eval() + rhs_.Eval();\n",
    "  }\n",
    "\n",
    "private:\n",
    "  const Expr& lhs_;\n",
    "  const Expr& rhs_;\n",
    "};\n",
    "```\n",
    "\n",
    "__Haskell__\n",
    "\n",
    "```Haskell\n",
    "module Expressions where\n",
    "\n",
    "data Expr = Constant Double\n",
    "          | BinaryPlus Expr Expr\n",
    "\n",
    "stringify :: Expr -> String\n",
    "stringify (Constant c) = show c\n",
    "stringify (BinaryPlus lhs rhs) = stringify lhs\n",
    "                                ++ \" + \"\n",
    "                                ++ stringify rhs\n",
    "\n",
    "evaluate :: Expr -> Double\n",
    "evaluate (Constant c) = c\n",
    "evaluate (BinaryPlus lhs rhs) = evaluate lhs + evaluate rhs\n",
    "```"
   ]
  },
  {
   "cell_type": "markdown",
   "id": "78f76ca6-fd0b-4b59-ae3f-8af01565a1a1",
   "metadata": {},
   "source": [
    "## 値の四則演算を行えるモジュールO\n",
    "\n",
    "以下をモジュールOで定義する。\n",
    "\n",
    "* 式の型 `Expression`\n",
    "  * 定数の型 `Constant`\n",
    "    * 定数の値を得る函数 `value`\n",
    "  * 二項演算達の型 `Plus`, `Minus`, `Mul`, `Dic`\n",
    "    * 二項演算の左辺と右辺を得る函数 `lhs`, `rhs`\n",
    "* これらを文字列に変換する函数 `stringify`\n",
    "* そららの値を評価する函数 `evaluate`"
   ]
  },
  {
   "cell_type": "code",
   "execution_count": 1,
   "id": "55bd5351-ca07-4d3b-b291-d0d324b5c42c",
   "metadata": {},
   "outputs": [
    {
     "data": {
      "text/plain": [
       "Main.O"
      ]
     },
     "execution_count": 1,
     "metadata": {},
     "output_type": "execute_result"
    }
   ],
   "source": [
    "module O\n",
    "\n",
    "abstract type Expression end\n",
    "\n",
    "struct Constant{C} <: Expression value::C end\n",
    "value(c::Constant) = getfield(c, :value)\n",
    "stringify(c::Constant) = string(value(c))\n",
    "evaluate(c::Constant) = value(c)\n",
    "\n",
    "abstract type BinOp <: Expression end\n",
    "lhs(bo::BinOp) = getfield(bo, :lhs)\n",
    "rhs(bo::BinOp) = getfield(bo, :rhs)\n",
    "\n",
    "const binop_list = ((:Plus, :+), (:Minus, :-), (:Mul, :*), (:Div, :/))\n",
    "for (S, op) in binop_list\n",
    "    @eval begin\n",
    "        struct $S{L<:Expression, R<:Expression} <: BinOp lhs::L; rhs::R end\n",
    "        stringify(bo::$S) = \"(\" * stringify(lhs(bo)) * \" $($op) \" * stringify(rhs(bo)) * \")\"\n",
    "        evaluate(bo::$S) = $op(evaluate(lhs(bo)), evaluate(rhs(bo)))\n",
    "    end\n",
    "end\n",
    "\n",
    "# デフォルトでの表示の仕方\n",
    "Base.show(io::IO, expr::Expression) = print(io, stringify(expr))\n",
    "\n",
    "end"
   ]
  },
  {
   "cell_type": "code",
   "execution_count": 2,
   "id": "e96f7c92-7d3d-41b1-9af3-377d12df863a",
   "metadata": {},
   "outputs": [
    {
     "data": {
      "text/plain": [
       "(2, 3, 4, 5, 6)"
      ]
     },
     "execution_count": 2,
     "metadata": {},
     "output_type": "execute_result"
    }
   ],
   "source": [
    "a = O.Constant(2)\n",
    "b = O.Constant(3)\n",
    "c = O.Constant(4)\n",
    "d = O.Constant(5)\n",
    "e = O.Constant(6)\n",
    "a, b, c, d, e"
   ]
  },
  {
   "cell_type": "code",
   "execution_count": 3,
   "id": "6ad4fae5-266b-4795-b075-e7d0dfc93873",
   "metadata": {},
   "outputs": [
    {
     "data": {
      "text/plain": [
       "(((4 - 2) + (3 * 6)) / 5)"
      ]
     },
     "execution_count": 3,
     "metadata": {},
     "output_type": "execute_result"
    }
   ],
   "source": [
    "expr1 = O.Div(O.Plus(O.Minus(c, a), O.Mul(b, e)), d)"
   ]
  },
  {
   "cell_type": "code",
   "execution_count": 4,
   "id": "b79c0850-50a9-4590-a1b2-b5aa8c8cbbd4",
   "metadata": {},
   "outputs": [
    {
     "data": {
      "text/plain": [
       "4.0"
      ]
     },
     "execution_count": 4,
     "metadata": {},
     "output_type": "execute_result"
    }
   ],
   "source": [
    "O.evaluate(expr1)"
   ]
  },
  {
   "cell_type": "markdown",
   "id": "ca0e030f-b64b-4076-b010-9bc66748040c",
   "metadata": {},
   "source": [
    "## モジュールOを変更することなく、モジュールPで型と函数を追加\n",
    "\n",
    "モジュールPでは以下をO.Expression型に追加する。\n",
    "\n",
    "* 函数呼び出しの型 `FunctionCall`\n",
    "  * 函数呼び出しの函数部分を取り出す函数 `fun`\n",
    "  * 函数呼び出しの引数部分を取り出す函数 `arg`\n",
    "  * 函数呼び出しを文字列に変換するメソッド `O.stringify`\n",
    "  * 函数呼び出した結果を得るメソッド `O.evaluate`\n",
    "* 変数の型 `Variable`\n",
    "  * 変数の名前を得る函数 `name`\n",
    "  * 変数を文字列に変換するメソッド `O.stringify`\n",
    "* 変数の値のリストの型 `ValueList`\n",
    "  * 変数の値のリストの内部実装を取り出す函数 `parent`\n",
    "  * 変数の値のリストを文字列に変換するメソッド `O.stringify`\n",
    "  * 変数の値のリストに従って式を評価する函数 `evaluate`\n",
    "  * 変数の値のリストに従って変数に式を代入した式を作る函数 `substitute`"
   ]
  },
  {
   "cell_type": "code",
   "execution_count": 5,
   "id": "fc0baed5-3fd9-4cf6-bd38-5c875a9bbcea",
   "metadata": {},
   "outputs": [
    {
     "data": {
      "text/plain": [
       "Main.P"
      ]
     },
     "execution_count": 5,
     "metadata": {},
     "output_type": "execute_result"
    }
   ],
   "source": [
    "module P\n",
    "\n",
    "### 函数呼び出し機能を追加\n",
    "\n",
    "using ..O: O, Expression\n",
    "\n",
    "struct FunctionCall{F, X<:Expression} <: Expression f::F; x::X end\n",
    "fun(fc::FunctionCall) = getfield(fc, :f)\n",
    "arg(fc::FunctionCall) = getfield(fc, :x)\n",
    "O.stringify(fc::FunctionCall) = string(fun(fc)) * \"(\" * O.stringify(arg(fc)) * \")\"\n",
    "O.evaluate(fc::FunctionCall) = fun(fc)(O.evaluate(arg(fc)))\n",
    "\n",
    "### 変数を扱う機能を追加\n",
    "\n",
    "using ..O: O, Expression, Constant, BinOp, lhs, rhs\n",
    "\n",
    "struct Variable <:Expression name::Symbol end\n",
    "name(var::Variable) = getfield(var, :name)\n",
    "O.stringify(var::Variable) = string(name(var))\n",
    "\n",
    "struct ValueList{T<:NamedTuple} list::T end\n",
    "ValueList() = ValueList((;))\n",
    "ValueList(; p...) = ValueList((; p...))\n",
    "parent(list::ValueList) = getfield(list, :list)\n",
    "names(list::ValueList) = keys(parent(list))\n",
    "value(list::ValueList, name::Symbol) = getproperty(parent(list), name)\n",
    "O.stringify(list::ValueList) = \"ValueList\" * string(parent(list))\n",
    "\n",
    "evaluate(var::Variable, list::ValueList) = value(list, name(var))\n",
    "evaluate(fc::FunctionCall, list::ValueList) = fun(fc)(evaluate(arg(fc), list))\n",
    "evaluate(c::Constant, list::ValueList) = O.value(c)\n",
    "for (S, op) in O.binop_list\n",
    "    @eval function evaluate(bo::O.$S, list::ValueList=ValueList())\n",
    "        $op(evaluate(lhs(bo), list), evaluate(rhs(bo), list))\n",
    "    end\n",
    "end\n",
    "\n",
    "substitute(var::Variable, list::ValueList) =\n",
    "    name(var) ∈ names(list) ? Constant(value(list, name(var))) : var\n",
    "substitute(fc::FunctionCall, list::ValueList) =\n",
    "    FunctionCall(fun(fc), substitute(arg(fc), list))\n",
    "substitute(c::Constant, list::ValueList) = c\n",
    "for (S, op) in O.binop_list\n",
    "    @eval substitute(bo::O.$S, list::ValueList) =\n",
    "        O.$S(substitute(lhs(bo), list), substitute(rhs(bo), list))\n",
    "end\n",
    "\n",
    "# デフォルトでの表示の仕方\n",
    "Base.show(io::IO, list::ValueList) = print(io, O.stringify(list))\n",
    "\n",
    "end"
   ]
  },
  {
   "cell_type": "code",
   "execution_count": 6,
   "id": "5753f5ff-661a-46ce-8564-888f31624650",
   "metadata": {},
   "outputs": [
    {
     "data": {
      "text/plain": [
       "ValueList(u = 2, v = 3, w = 4, x = 5, y = 6)"
      ]
     },
     "execution_count": 6,
     "metadata": {},
     "output_type": "execute_result"
    }
   ],
   "source": [
    "P.ValueList(u=2, v=3, w=4, x=5, y=6)"
   ]
  },
  {
   "cell_type": "code",
   "execution_count": 7,
   "id": "23b28565-6a2c-4c2a-b634-fb033233977d",
   "metadata": {},
   "outputs": [
    {
     "data": {
      "text/plain": [
       "(u, v, w, x, y)"
      ]
     },
     "execution_count": 7,
     "metadata": {},
     "output_type": "execute_result"
    }
   ],
   "source": [
    "u = P.Variable(:u)\n",
    "v = P.Variable(:v)\n",
    "w = P.Variable(:w)\n",
    "x = P.Variable(:x)\n",
    "y = P.Variable(:y)\n",
    "u, v, w, x, y"
   ]
  },
  {
   "cell_type": "code",
   "execution_count": 8,
   "id": "e2627c44-d71d-459a-8c7a-d23c3533b563",
   "metadata": {},
   "outputs": [
    {
     "data": {
      "text/plain": [
       "sinpi((x / y))"
      ]
     },
     "execution_count": 8,
     "metadata": {},
     "output_type": "execute_result"
    }
   ],
   "source": [
    "sinpi_x_div_y = P.FunctionCall(sinpi, O.Div(x, y))"
   ]
  },
  {
   "cell_type": "code",
   "execution_count": 9,
   "id": "71a88766-1c50-4e92-bfe8-3146371dca84",
   "metadata": {
    "tags": []
   },
   "outputs": [
    {
     "data": {
      "text/plain": [
       "0.5"
      ]
     },
     "execution_count": 9,
     "metadata": {},
     "output_type": "execute_result"
    }
   ],
   "source": [
    "P.evaluate(sinpi_x_div_y, P.ValueList(x = 1, y = 6))"
   ]
  },
  {
   "cell_type": "code",
   "execution_count": 10,
   "id": "a33d9c15-896e-4438-8fcf-2df84b312db2",
   "metadata": {
    "tags": []
   },
   "outputs": [
    {
     "data": {
      "text/plain": [
       "sinpi((1 / 6))"
      ]
     },
     "execution_count": 10,
     "metadata": {},
     "output_type": "execute_result"
    }
   ],
   "source": [
    "P.substitute(sinpi_x_div_y, P.ValueList(x = 1, y = 6))"
   ]
  },
  {
   "cell_type": "code",
   "execution_count": 11,
   "id": "a0c1c11c-3a36-4df9-a74b-a7425ecf401a",
   "metadata": {},
   "outputs": [
    {
     "data": {
      "text/plain": [
       "(((4 - 2) + (3 * 6)) / 5)"
      ]
     },
     "execution_count": 11,
     "metadata": {},
     "output_type": "execute_result"
    }
   ],
   "source": [
    "expr1"
   ]
  },
  {
   "cell_type": "code",
   "execution_count": 12,
   "id": "97c561d5-1add-4e0c-b8f4-03966d14f037",
   "metadata": {},
   "outputs": [
    {
     "data": {
      "text/plain": [
       "4.0"
      ]
     },
     "execution_count": 12,
     "metadata": {},
     "output_type": "execute_result"
    }
   ],
   "source": [
    "P.evaluate(expr1, P.ValueList())"
   ]
  },
  {
   "cell_type": "code",
   "execution_count": 13,
   "id": "ca8b385c-1628-4adc-9efb-04cbea005d75",
   "metadata": {},
   "outputs": [
    {
     "data": {
      "text/plain": [
       "(((w - u) + (v * y)) / x)"
      ]
     },
     "execution_count": 13,
     "metadata": {},
     "output_type": "execute_result"
    }
   ],
   "source": [
    "expr2 = O.Div(O.Plus(O.Minus(w, u), O.Mul(v, y)), x)"
   ]
  },
  {
   "cell_type": "code",
   "execution_count": 14,
   "id": "920dcadd-84ce-47bc-bf46-a9e8d2ff94ee",
   "metadata": {},
   "outputs": [
    {
     "data": {
      "text/plain": [
       "4.0"
      ]
     },
     "execution_count": 14,
     "metadata": {},
     "output_type": "execute_result"
    }
   ],
   "source": [
    "P.evaluate(expr2, P.ValueList(u=2, v=3, w=4, x=5, y=6))"
   ]
  },
  {
   "cell_type": "code",
   "execution_count": 15,
   "id": "f55a6e6b-a47d-40c2-86f5-6fc3b4cfb3df",
   "metadata": {},
   "outputs": [
    {
     "data": {
      "text/plain": [
       "(((4 - 2) + (3 * y)) / x)"
      ]
     },
     "execution_count": 15,
     "metadata": {},
     "output_type": "execute_result"
    }
   ],
   "source": [
    "expr3 = P.substitute(expr2, P.ValueList(u=2, v=3, w=4))"
   ]
  },
  {
   "cell_type": "code",
   "execution_count": 16,
   "id": "0c7b4023-7c46-4df3-98a7-00fb600145d3",
   "metadata": {},
   "outputs": [
    {
     "data": {
      "text/plain": [
       "(((4 - 2) + (3 * 6)) / 5)"
      ]
     },
     "execution_count": 16,
     "metadata": {},
     "output_type": "execute_result"
    }
   ],
   "source": [
    "expr4 = P.substitute(expr3, P.ValueList(x = 5, y = 6))"
   ]
  },
  {
   "cell_type": "code",
   "execution_count": 17,
   "id": "c413bc26-4074-4f9b-a016-95e3ac06fccd",
   "metadata": {},
   "outputs": [
    {
     "data": {
      "text/plain": [
       "4.0"
      ]
     },
     "execution_count": 17,
     "metadata": {},
     "output_type": "execute_result"
    }
   ],
   "source": [
    "O.evaluate(expr4)"
   ]
  },
  {
   "cell_type": "code",
   "execution_count": 18,
   "id": "641358a4-0c68-4952-b805-4be90702c6df",
   "metadata": {},
   "outputs": [
    {
     "data": {
      "text/plain": [
       "4.0"
      ]
     },
     "execution_count": 18,
     "metadata": {},
     "output_type": "execute_result"
    }
   ],
   "source": [
    "P.evaluate(expr3, P.ValueList(x = 5, y = 6))"
   ]
  },
  {
   "cell_type": "markdown",
   "id": "23d6d679-d21c-4319-a58b-d24889a29d21",
   "metadata": {},
   "source": [
    "## Visitor patternでモジュールOを全面的に書き直し\n",
    "\n",
    "以下のコードは\n",
    "\n",
    "* https://eli.thegreenplace.net/2016/the-expression-problem-and-its-solutions/\n",
    "\n",
    "より。\n",
    "\n",
    "__C++__\n",
    "\n",
    "```C++\n",
    "class ExprVisitor {\n",
    "public:\n",
    "  virtual void VisitConstant(const Constant& c) = 0;\n",
    "  virtual void VisitBinaryPlus(const BinaryPlus& bp) = 0;\n",
    "};\n",
    "```\n",
    "\n",
    "```C++\n",
    "class Expr {\n",
    "public:\n",
    "  virtual void Accept(ExprVisitor* visitor) const = 0;\n",
    "};\n",
    "```\n",
    "\n",
    "```C++\n",
    "class Constant : public Expr {\n",
    "public:\n",
    "  Constant(double value) : val(value) {}\n",
    "\n",
    "  void Accept(ExprVisitor* visitor) const {\n",
    "    visitor->VisitConstant(*this);\n",
    "  }\n",
    "\n",
    "  double GetValue() const {\n",
    "    return value_;\n",
    "  }\n",
    "\n",
    "private:\n",
    "  double value_;\n",
    "};\n",
    "\n",
    "// ... similarly, BinaryPlus would have\n",
    "//\n",
    "//    void Accept(ExprVisitor* visitor) const {\n",
    "//      visitor->VisitBinaryPlus(*this);\n",
    "//    }\n",
    "//\n",
    "// ... etc.\n",
    "```\n",
    "\n",
    "```C++\n",
    "class Evaluator : public ExprVisitor {\n",
    "public:\n",
    "  double GetValueForExpr(const Expr& e) {\n",
    "    return value_map_[&e];\n",
    "  }\n",
    "\n",
    "  void VisitConstant(const Constant& c) {\n",
    "    value_map_[&c] = c.GetValue();\n",
    "  }\n",
    "\n",
    "  void VisitBinaryPlus(const BinaryPlus& bp) {\n",
    "    bp.GetLhs().Accept(this);\n",
    "    bp.GetRhs().Accept(this);\n",
    "    value_map_[&bp] = value_map_[&(bp.GetLhs())] + value_map_[&(bp.GetRhs())];\n",
    "  }\n",
    "\n",
    "private:\n",
    "  std::map<const Expr*, double> value_map_;\n",
    "};\n",
    "```"
   ]
  },
  {
   "cell_type": "markdown",
   "id": "41163cdf-f012-4e17-905d-26d19f3c136c",
   "metadata": {},
   "source": [
    "以上のコードを参考にしながら、Visitor patternに従って、モジュールOを完全に作り直してしまいましょう。 \n",
    "\n",
    "新モジュール名をQとする。\n",
    "\n",
    "以下のモジュールQはモジュールOよりも圧倒的に複雑になってしまっている。\n",
    "\n",
    "* 式の型 `Expression`\n",
    "  * 定数の型 `Constant`\n",
    "    * 定数の値を得る函数 `value`\n",
    "  * 二項演算の型 `Plus`, `Minus`, `Mul`, `Div`\n",
    "    * 二項演算の左辺と右辺を得る函数 `lhs`, `rhs`\n",
    "* 式訪問者の型 `ExprVisitor`\n",
    "  * 式訪問者の記憶を取り出す函数 `memory`\n",
    "  * 式訪問者が式を訪れて仕事をした結果を得る函数 `(::ExprVisitor)(::Expression)`\n",
    "  * 式訪問者が式を訪れて記憶(思い出)を得る函数 `visit`\n",
    "  * 式を文字列化する者の型 `Stringifier`\n",
    "  * 式の評価者の型 `Evaluator`"
   ]
  },
  {
   "cell_type": "code",
   "execution_count": 19,
   "id": "c59b0184-0b22-4c74-8118-a0833a96a15a",
   "metadata": {},
   "outputs": [
    {
     "data": {
      "text/plain": [
       "Main.Q"
      ]
     },
     "execution_count": 19,
     "metadata": {},
     "output_type": "execute_result"
    }
   ],
   "source": [
    "module Q\n",
    "\n",
    "abstract type Expression end\n",
    "\n",
    "struct Constant{T} <: Expression value::T end\n",
    "value(x::Constant) = getfield(x, :value)\n",
    "\n",
    "abstract type BinOp <: Expression end\n",
    "lhs(bo::BinOp) = getfield(bo, :lhs)\n",
    "rhs(bo::BinOp) = getfield(bo, :rhs)\n",
    "\n",
    "const binop_list = ((:Plus, :+), (:Minus, :-), (:Mul, :*), (:Div, :/))\n",
    "for (S, op) in binop_list\n",
    "    @eval struct $S{L<:Expression, R<:Expression} <: BinOp lhs::L; rhs::R end\n",
    "end\n",
    "\n",
    "abstract type ExprVisitor end\n",
    "memory(visitor::ExprVisitor) = getfield(visitor, :memory)\n",
    "function (visitor::ExprVisitor)(expr::Expression) # 多重ディスパッチを利用\n",
    "    visit(visitor, expr)\n",
    "    memory(visitor)[expr]\n",
    "end\n",
    "\n",
    "struct Evaluator <: ExprVisitor memory::Dict{Expression, Any} end\n",
    "Evaluator() = Evaluator(Dict{Expression, Any}())\n",
    "\n",
    "# 多重ディスパッチを利用\n",
    "visit(visitor::Evaluator, c::Constant) = memory(visitor)[c] = value(c)\n",
    "for (S, op) in binop_list\n",
    "    @eval function visit(visitor::Evaluator, bo::$S)\n",
    "        visit(visitor, lhs(bo))\n",
    "        visit(visitor, rhs(bo))\n",
    "        memory(visitor)[bo] = $op(memory(visitor)[lhs(bo)], memory(visitor)[rhs(bo)])\n",
    "    end\n",
    "end\n",
    "\n",
    "struct Stringifier <: ExprVisitor memory::Dict{Expression, String} end\n",
    "Stringifier() = Stringifier(Dict{Expression, String}())\n",
    "\n",
    "# 多重ディスパッチを利用\n",
    "visit(visitor::Stringifier, c::Constant) = memory(visitor)[c] = string(value(c))\n",
    "for (S, op) in binop_list\n",
    "    @eval function visit(visitor::Stringifier, bo::$S)\n",
    "        visit(visitor, lhs(bo))\n",
    "        visit(visitor, rhs(bo))\n",
    "        memory(visitor)[bo] =\n",
    "            \"(\" * memory(visitor)[lhs(bo)] * \" $($op) \" * memory(visitor)[rhs(bo)] * \")\"\n",
    "    end\n",
    "end\n",
    "\n",
    "# デフォルトでの表示の仕方\n",
    "Base.show(io::IO, expr::Expression) = print(io, Stringifier()(expr))\n",
    "\n",
    "end"
   ]
  },
  {
   "cell_type": "code",
   "execution_count": 20,
   "id": "cad3cf10-9cb2-455b-800f-a0f1cf854856",
   "metadata": {},
   "outputs": [
    {
     "data": {
      "text/plain": [
       "(2, 3, 4, 5, 6)"
      ]
     },
     "execution_count": 20,
     "metadata": {},
     "output_type": "execute_result"
    }
   ],
   "source": [
    "a = Q.Constant(2)\n",
    "b = Q.Constant(3)\n",
    "c = Q.Constant(4)\n",
    "d = Q.Constant(5)\n",
    "e = Q.Constant(6)\n",
    "a, b, c, d, e"
   ]
  },
  {
   "cell_type": "code",
   "execution_count": 21,
   "id": "67ab7351-ccbc-49ad-8853-930bdb17c0ac",
   "metadata": {},
   "outputs": [
    {
     "data": {
      "text/plain": [
       "(((4 - 2) + (3 * 6)) / 5)"
      ]
     },
     "execution_count": 21,
     "metadata": {},
     "output_type": "execute_result"
    }
   ],
   "source": [
    "expr1 = Q.Div(Q.Plus(Q.Minus(c, a), Q.Mul(b, e)), d)"
   ]
  },
  {
   "cell_type": "code",
   "execution_count": 22,
   "id": "3faf9ee4-09fd-43d8-87a9-17a069b8779e",
   "metadata": {},
   "outputs": [
    {
     "data": {
      "text/plain": [
       "Dict{Main.Q.Expression, String} with 9 entries:\n",
       "  (4 - 2)                   => \"(4 - 2)\"\n",
       "  3                         => \"3\"\n",
       "  5                         => \"5\"\n",
       "  2                         => \"2\"\n",
       "  6                         => \"6\"\n",
       "  (3 * 6)                   => \"(3 * 6)\"\n",
       "  4                         => \"4\"\n",
       "  ((4 - 2) + (3 * 6))       => \"((4 - 2) + (3 * 6))\"\n",
       "  (((4 - 2) + (3 * 6)) / 5) => \"(((4 - 2) + (3 * 6)) / 5)\""
      ]
     },
     "execution_count": 22,
     "metadata": {},
     "output_type": "execute_result"
    }
   ],
   "source": [
    "stringifier = Q.Stringifier()\n",
    "Q.visit(stringifier, expr1)\n",
    "Q.memory(stringifier)"
   ]
  },
  {
   "cell_type": "code",
   "execution_count": 23,
   "id": "cff07df9-ccaa-44af-adc4-2bd62e3ae11b",
   "metadata": {},
   "outputs": [
    {
     "data": {
      "text/plain": [
       "\"(((4 - 2) + (3 * 6)) / 5)\""
      ]
     },
     "execution_count": 23,
     "metadata": {},
     "output_type": "execute_result"
    }
   ],
   "source": [
    "Q.Stringifier()(expr1)"
   ]
  },
  {
   "cell_type": "code",
   "execution_count": 24,
   "id": "4e5b21f3-fbdc-42b2-99a1-d9e1e36c2d0e",
   "metadata": {},
   "outputs": [
    {
     "data": {
      "text/plain": [
       "Dict{Main.Q.Expression, Any} with 9 entries:\n",
       "  (4 - 2)                   => 2\n",
       "  3                         => 3\n",
       "  5                         => 5\n",
       "  2                         => 2\n",
       "  6                         => 6\n",
       "  (3 * 6)                   => 18\n",
       "  4                         => 4\n",
       "  ((4 - 2) + (3 * 6))       => 20\n",
       "  (((4 - 2) + (3 * 6)) / 5) => 4.0"
      ]
     },
     "execution_count": 24,
     "metadata": {},
     "output_type": "execute_result"
    }
   ],
   "source": [
    "evaluator = Q.Evaluator()\n",
    "Q.visit(evaluator, expr1)\n",
    "Q.memory(evaluator)"
   ]
  },
  {
   "cell_type": "code",
   "execution_count": 25,
   "id": "74c6a58a-dec2-4a05-8a0f-92fe13c72ef6",
   "metadata": {},
   "outputs": [
    {
     "data": {
      "text/plain": [
       "4.0"
      ]
     },
     "execution_count": 25,
     "metadata": {},
     "output_type": "execute_result"
    }
   ],
   "source": [
    "Q.Evaluator()(expr1)"
   ]
  },
  {
   "cell_type": "markdown",
   "id": "d6998efd-2a27-4c7e-bc68-47d7bc91829f",
   "metadata": {},
   "source": [
    "## Visitor patternでの機能の追加\n",
    "\n",
    "以下のコードは\n",
    "\n",
    "* https://eli.thegreenplace.net/2016/the-expression-problem-and-its-solutions/\n",
    "\n",
    "より。\n",
    "\n",
    "__C++__\n",
    "\n",
    "```C++\n",
    "class Evaluator : virtual public ExprVisitor {\n",
    "  // .. the rest is the same\n",
    "};\n",
    "```\n",
    "\n",
    "```C++\n",
    "// This is the new (\"extended\") expression we're adding.\n",
    "class FunctionCall : public Expr {\n",
    "public:\n",
    "  FunctionCall(const std::string& name, const Expr& argument)\n",
    "      : name_(name), argument_(argument) {}\n",
    "\n",
    "  void Accept(ExprVisitor* visitor) const {\n",
    "    ExprVisitorWithFunctionCall* v =\n",
    "        dynamic_cast<ExprVisitorWithFunctionCall*>(visitor);\n",
    "    if (v == nullptr) {\n",
    "      std::cerr << \"Fatal: visitor is not ExprVisitorWithFunctionCall\\n\";\n",
    "      exit(1);\n",
    "    }\n",
    "    v->VisitFunctionCall(*this);\n",
    "  }\n",
    "\n",
    "private:\n",
    "  std::string name_;\n",
    "  const Expr& argument_;\n",
    "};\n",
    "```\n",
    "\n",
    "```C++\n",
    "class ExprVisitorWithFunctionCall : virtual public ExprVisitor {\n",
    "public:\n",
    "  virtual void VisitFunctionCall(const FunctionCall& fc) = 0;\n",
    "};\n",
    "```\n",
    "\n",
    "```C++\n",
    "class EvaluatorWithFunctionCall : public ExprVisitorWithFunctionCall,\n",
    "                                  public Evaluator {\n",
    "public:\n",
    "  void VisitFunctionCall(const FunctionCall& fc) {\n",
    "    std::cout << \"Visiting FunctionCall!!\\n\";\n",
    "  }\n",
    "};\n",
    "```"
   ]
  },
  {
   "cell_type": "markdown",
   "id": "07b7409a-d16f-4af4-8f1c-4d26654868b1",
   "metadata": {},
   "source": [
    "Visitor patternでモジュールOに函数呼び出しの機能を追加してみる。 \n",
    "\n",
    "多重ディスパッチのおかげで、上のＣ＋＋版と比較すると圧倒的にシンプルになっている。 (函数呼び出しのコードのみを比較せよ)\n",
    "\n",
    "しかし、モジュールPにおける次の函数呼び出しのコードと比較するとロジックは複雑で込み入ったものになってしまう。\n",
    "\n",
    "```Julia\n",
    "struct FunctionCall{F, X<:Expression} <: Expression f::F; x::X end\n",
    "fun(fx::FunctionCall) = getfield(fx, :f)\n",
    "arg(fx::FunctionCall) = getfield(fx, :x)\n",
    "O.stringify(fx::FunctionCall) = string(fun(fx)) * \"(\" * O.stringify(arg(fx)) * \")\"\n",
    "O.evaluate(fx::FunctionCall) = fun(fx)(O.evaluate(arg(fx)))\n",
    "```\n",
    "\n",
    "モジュールRでは以下を追加する。\n",
    "\n",
    "* 函数呼び出しの型 `FunctionCall`\n",
    "  * 函数呼び出しの函数部分を取り出す函数 `fun`\n",
    "  * 函数呼び出しの引数部分を取り出す函数 `arg`\n",
    "* 式を文字列に変換する者が函数呼び出しを訪れて記憶を得るメソッド `Q.visit`\n",
    "* 式評価者が函数呼び出しを訪れて記憶を得るメソッド `Q.visit`\n",
    "* 変数の型 `Variable`\n",
    "  * 式を文字列に変換する者が変数を訪れて記憶を得るメソッド `Q.visit`\n",
    "* 変数の値のリストの型 `ValueList`\n",
    "  * 変数の値のリストを文字列に変換する函数 `stringify`\n",
    "* 変数の値のリストの下で、式訪問者が式を訪れて記憶を得るメソッド `Q.visit`\n",
    "* 変数の値のリストの下で、式訪問者が式を訪れて仕事をした結果を得る函数 `(::ExprVisitor)(::Expression, ::ValueList)`\n",
    "* 代入する式訪問者の型 `Substitution`"
   ]
  },
  {
   "cell_type": "code",
   "execution_count": 26,
   "id": "ae850981-ec43-4c91-821f-0f475eb42498",
   "metadata": {
    "tags": []
   },
   "outputs": [
    {
     "data": {
      "text/plain": [
       "Main.R"
      ]
     },
     "execution_count": 26,
     "metadata": {},
     "output_type": "execute_result"
    }
   ],
   "source": [
    "module R\n",
    "\n",
    "########## 函数呼び出し機能を追加\n",
    "\n",
    "using ..Q: Q, Expression\n",
    "\n",
    "struct FunctionCall{F, X<:Expression} <: Expression f::F; x::X end\n",
    "fun(fc::FunctionCall) = getfield(fc, :f)\n",
    "arg(fc::FunctionCall) = getfield(fc, :x)\n",
    "\n",
    "# 多重ディスパッチを利用\n",
    "function Q.visit(visitor::Q.Stringifier, fc::FunctionCall)\n",
    "    Q.visit(visitor, arg(fc))\n",
    "    Q.memory(visitor)[fc] = string(fun(fc)) * \"(\" * Q.memory(visitor)[arg(fc)] * \")\"\n",
    "end\n",
    "\n",
    "# 多重ディスパッチを利用\n",
    "function Q.visit(visitor::Q.Evaluator, fc::FunctionCall)\n",
    "    Q.visit(visitor, arg(fc))\n",
    "    Q.memory(visitor)[fc] = fun(fc)(Q.memory(visitor)[arg(fc)])\n",
    "end\n",
    "\n",
    "########## 変数を扱う機能を追加\n",
    "\n",
    "using ..Q: Q, Expression, ExprVisitor, Constant, BinOp, lhs, rhs\n",
    "\n",
    "struct Variable <:Expression name::Symbol end\n",
    "name(var::Variable) = getfield(var, :name)\n",
    "\n",
    "# 多重ディスパッチを利用\n",
    "function Q.visit(visitor::Q.Stringifier, var::Variable)\n",
    "    Q.memory(visitor)[var] = string(name(var))\n",
    "end\n",
    "\n",
    "struct ValueList{T<:NamedTuple} v::T end\n",
    "ValueList() = ValueList((;))\n",
    "ValueList(; p...) = ValueList((; p...))\n",
    "parent(list::ValueList) = getfield(list, :v)\n",
    "names(list::ValueList) = keys(parent(list))\n",
    "value(list::ValueList, name::Symbol) = getproperty(parent(list), name)\n",
    "stringify(list::ValueList) = \"ValueList\" * string(parent(list))\n",
    "\n",
    "# 多重ディスパッチを利用\n",
    "function (visitor::ExprVisitor)(expr::Expression, list::ValueList)\n",
    "    Q.visit(visitor, expr, list)\n",
    "    Q.memory(visitor)[expr]\n",
    "end\n",
    "\n",
    "# 多重ディスパッチを利用\n",
    "function Q.visit(visitor::Q.Evaluator, var::Variable, list::ValueList)\n",
    "    Q.memory(visitor)[var] = value(list, name(var))\n",
    "end\n",
    "function Q.visit(visitor::Q.Evaluator, fc::FunctionCall, list::ValueList)\n",
    "    Q.visit(visitor, arg(fc), list)\n",
    "    Q.memory(visitor)[fc] = fun(fc)(Q.memory(visitor)[arg(fc)])\n",
    "end\n",
    "function Q.visit(visitor::Q.Evaluator, c::Constant, v::ValueList)\n",
    "    Q.memory(visitor)[c] = Q.value(c)\n",
    "end\n",
    "for (S, op) in Q.binop_list\n",
    "    @eval function Q.visit(visitor::Q.Evaluator, bo::Q.$S, list::ValueList=ValueList())\n",
    "        Q.visit(visitor, lhs(bo), list)\n",
    "        Q.visit(visitor, rhs(bo), list)\n",
    "        Q.memory(visitor)[bo] = $op(Q.memory(visitor)[lhs(bo)], Q.memory(visitor)[rhs(bo)])\n",
    "    end\n",
    "end\n",
    "\n",
    "struct Substitution <: ExprVisitor memory::Dict{Expression, Expression} end\n",
    "Substitution() = Substitution(Dict{Expression, Expression}())\n",
    "\n",
    "# 多重ディスパッチを利用\n",
    "function Q.visit(visitor::Substitution, var::Variable, list::ValueList)\n",
    "    Q.memory(visitor)[var] = name(var) ∈ names(list) ? Constant(value(list, name(var))) : var\n",
    "end\n",
    "function Q.visit(visitor::Substitution, fc::FunctionCall, list::ValueList)\n",
    "    Q.visit(visitor, arg(fc), list)\n",
    "    Q.memory(visitor)[fc] = FunctionCall(fun(fc), Q.memory(visitor)[arg(fc)])\n",
    "end\n",
    "function Q.visit(visitor::Substitution, c::Constant, list::ValueList)\n",
    "    Q.memory(visitor)[c] = c\n",
    "end\n",
    "for (S, op) in Q.binop_list\n",
    "    @eval function Q.visit(visitor::Substitution, bo::Q.$S, list::ValueList)\n",
    "        Q.visit(visitor, lhs(bo), list)\n",
    "        Q.visit(visitor, rhs(bo), list)\n",
    "        Q.memory(visitor)[bo] = Q.$S(Q.memory(visitor)[lhs(bo)], Q.memory(visitor)[rhs(bo)])\n",
    "    end\n",
    "end\n",
    "\n",
    "# デフォルトでの表示の仕方\n",
    "Base.show(io::IO, list::ValueList) = print(io, stringify(list))\n",
    "\n",
    "end"
   ]
  },
  {
   "cell_type": "code",
   "execution_count": 27,
   "id": "8e397eb2-43ee-412b-afc2-1a1de3ac3acd",
   "metadata": {},
   "outputs": [
    {
     "data": {
      "text/plain": [
       "ValueList(u = 2, v = 3, w = 4, x = 5, y = 6)"
      ]
     },
     "execution_count": 27,
     "metadata": {},
     "output_type": "execute_result"
    }
   ],
   "source": [
    "R.ValueList(u=2, v=3, w=4, x=5, y=6)"
   ]
  },
  {
   "cell_type": "code",
   "execution_count": 28,
   "id": "fa5956d8-a2ce-4458-b7dd-bbf1b91383fd",
   "metadata": {},
   "outputs": [
    {
     "data": {
      "text/plain": [
       "(u, v, w, x, y)"
      ]
     },
     "execution_count": 28,
     "metadata": {},
     "output_type": "execute_result"
    }
   ],
   "source": [
    "u = R.Variable(:u)\n",
    "v = R.Variable(:v)\n",
    "w = R.Variable(:w)\n",
    "x = R.Variable(:x)\n",
    "y = R.Variable(:y)\n",
    "u, v, w, x, y"
   ]
  },
  {
   "cell_type": "code",
   "execution_count": 29,
   "id": "15098e4e-678f-4bf7-8695-f18390662c5b",
   "metadata": {},
   "outputs": [
    {
     "data": {
      "text/plain": [
       "sinpi((x / y))"
      ]
     },
     "execution_count": 29,
     "metadata": {},
     "output_type": "execute_result"
    }
   ],
   "source": [
    "sinpi_x_div_y = R.FunctionCall(sinpi, Q.Div(x, y))"
   ]
  },
  {
   "cell_type": "code",
   "execution_count": 30,
   "id": "a492f648-9d49-45e5-acbc-56401c781d6c",
   "metadata": {},
   "outputs": [
    {
     "data": {
      "text/plain": [
       "Dict{Main.Q.Expression, String} with 4 entries:\n",
       "  (x / y)        => \"(x / y)\"\n",
       "  y              => \"y\"\n",
       "  x              => \"x\"\n",
       "  sinpi((x / y)) => \"sinpi((x / y))\""
      ]
     },
     "execution_count": 30,
     "metadata": {},
     "output_type": "execute_result"
    }
   ],
   "source": [
    "stringifier = Q.Stringifier()\n",
    "Q.visit(stringifier, sinpi_x_div_y)\n",
    "Q.memory(stringifier)"
   ]
  },
  {
   "cell_type": "code",
   "execution_count": 31,
   "id": "83127bd7-ed2e-45c6-82f9-d567e07ca67f",
   "metadata": {},
   "outputs": [
    {
     "data": {
      "text/plain": [
       "\"sinpi((x / y))\""
      ]
     },
     "execution_count": 31,
     "metadata": {},
     "output_type": "execute_result"
    }
   ],
   "source": [
    "Q.Stringifier()(sinpi_x_div_y)"
   ]
  },
  {
   "cell_type": "code",
   "execution_count": 32,
   "id": "3c8e49e4-95fd-4e5b-b978-9ab849ff3493",
   "metadata": {},
   "outputs": [
    {
     "data": {
      "text/plain": [
       "Dict{Main.Q.Expression, Any} with 4 entries:\n",
       "  (x / y)        => 0.166667\n",
       "  y              => 6\n",
       "  x              => 1\n",
       "  sinpi((x / y)) => 0.5"
      ]
     },
     "execution_count": 32,
     "metadata": {},
     "output_type": "execute_result"
    }
   ],
   "source": [
    "evaluator = Q.Evaluator()\n",
    "Q.visit(evaluator, sinpi_x_div_y, R.ValueList(x = 1, y = 6))\n",
    "Q.memory(evaluator)"
   ]
  },
  {
   "cell_type": "code",
   "execution_count": 33,
   "id": "7cc69656-deb1-433a-b731-385fd85d48f3",
   "metadata": {},
   "outputs": [
    {
     "data": {
      "text/plain": [
       "0.5"
      ]
     },
     "execution_count": 33,
     "metadata": {},
     "output_type": "execute_result"
    }
   ],
   "source": [
    "Q.Evaluator()(sinpi_x_div_y, R.ValueList(x = 1, y = 6))"
   ]
  },
  {
   "cell_type": "code",
   "execution_count": 34,
   "id": "1573a4a3-7367-406c-8d1a-2fa64ab2c089",
   "metadata": {},
   "outputs": [
    {
     "data": {
      "text/plain": [
       "Dict{Main.Q.Expression, Main.Q.Expression} with 4 entries:\n",
       "  (x / y)        => (1 / y)\n",
       "  y              => y\n",
       "  x              => 1\n",
       "  sinpi((x / y)) => sinpi((1 / y))"
      ]
     },
     "execution_count": 34,
     "metadata": {},
     "output_type": "execute_result"
    }
   ],
   "source": [
    "substitution = R.Substitution()\n",
    "Q.visit(substitution, sinpi_x_div_y, R.ValueList(x = 1))\n",
    "Q.memory(substitution)"
   ]
  },
  {
   "cell_type": "code",
   "execution_count": 35,
   "id": "e8ebdce9-993b-43f8-a3ce-731a2db01d17",
   "metadata": {},
   "outputs": [
    {
     "data": {
      "text/plain": [
       "sinpi((1 / y))"
      ]
     },
     "execution_count": 35,
     "metadata": {},
     "output_type": "execute_result"
    }
   ],
   "source": [
    "R.Substitution()(sinpi_x_div_y, R.ValueList(x = 1))"
   ]
  },
  {
   "cell_type": "code",
   "execution_count": 36,
   "id": "8d7436f7-11db-4277-9f73-15f6afc23be6",
   "metadata": {},
   "outputs": [
    {
     "data": {
      "text/plain": [
       "(((4 - 2) + (3 * 6)) / 5)"
      ]
     },
     "execution_count": 36,
     "metadata": {},
     "output_type": "execute_result"
    }
   ],
   "source": [
    "expr1"
   ]
  },
  {
   "cell_type": "code",
   "execution_count": 37,
   "id": "e813ea63-1ccf-48a2-a61b-952406b576f6",
   "metadata": {},
   "outputs": [
    {
     "data": {
      "text/plain": [
       "4.0"
      ]
     },
     "execution_count": 37,
     "metadata": {},
     "output_type": "execute_result"
    }
   ],
   "source": [
    "Q.Evaluator()(expr1, R.ValueList())"
   ]
  },
  {
   "cell_type": "code",
   "execution_count": 38,
   "id": "4f53f70e-48c1-4c13-80e9-c727681b994d",
   "metadata": {},
   "outputs": [
    {
     "data": {
      "text/plain": [
       "(((w - u) + (v * y)) / x)"
      ]
     },
     "execution_count": 38,
     "metadata": {},
     "output_type": "execute_result"
    }
   ],
   "source": [
    "expr2 = Q.Div(Q.Plus(Q.Minus(w, u), Q.Mul(v, y)), x)"
   ]
  },
  {
   "cell_type": "code",
   "execution_count": 39,
   "id": "7609434e-cc4d-4a9b-8d4e-38e9a6906194",
   "metadata": {},
   "outputs": [
    {
     "data": {
      "text/plain": [
       "4.0"
      ]
     },
     "execution_count": 39,
     "metadata": {},
     "output_type": "execute_result"
    }
   ],
   "source": [
    "Q.Evaluator()(expr2, R.ValueList(u=2, v=3, w=4, x=5, y=6))"
   ]
  },
  {
   "cell_type": "code",
   "execution_count": 40,
   "id": "c634aba7-691a-424e-87a3-5d02143f7fe0",
   "metadata": {},
   "outputs": [
    {
     "data": {
      "text/plain": [
       "(((4 - 2) + (3 * y)) / x)"
      ]
     },
     "execution_count": 40,
     "metadata": {},
     "output_type": "execute_result"
    }
   ],
   "source": [
    "expr3 = R.Substitution()(expr2, R.ValueList(u=2, v=3, w=4))"
   ]
  },
  {
   "cell_type": "code",
   "execution_count": 41,
   "id": "8484da3a-a0e9-4253-a36b-ef2f5340e79f",
   "metadata": {},
   "outputs": [
    {
     "data": {
      "text/plain": [
       "(((4 - 2) + (3 * 6)) / 5)"
      ]
     },
     "execution_count": 41,
     "metadata": {},
     "output_type": "execute_result"
    }
   ],
   "source": [
    "expr4 = R.Substitution()(expr3, R.ValueList(x = 5, y = 6))"
   ]
  },
  {
   "cell_type": "code",
   "execution_count": 42,
   "id": "eb5115f8-083d-46de-99e5-4e368dfa1801",
   "metadata": {},
   "outputs": [
    {
     "data": {
      "text/plain": [
       "4.0"
      ]
     },
     "execution_count": 42,
     "metadata": {},
     "output_type": "execute_result"
    }
   ],
   "source": [
    "Q.Evaluator()(expr4)"
   ]
  },
  {
   "cell_type": "code",
   "execution_count": 43,
   "id": "311f4cee-7d3f-4884-a8ea-cd9e00a401f2",
   "metadata": {},
   "outputs": [
    {
     "data": {
      "text/plain": [
       "4.0"
      ]
     },
     "execution_count": 43,
     "metadata": {},
     "output_type": "execute_result"
    }
   ],
   "source": [
    "Q.Evaluator()(expr3, R.ValueList(x = 5, y = 6))"
   ]
  },
  {
   "cell_type": "code",
   "execution_count": null,
   "id": "22c67f30-e521-4b2e-b0f6-d3f17d54c4a8",
   "metadata": {},
   "outputs": [],
   "source": []
  }
 ],
 "metadata": {
  "jupytext": {
   "formats": "ipynb,md"
  },
  "kernelspec": {
   "display_name": "Julia 1.7.0-DEV",
   "language": "julia",
   "name": "julia-1.7"
  },
  "language_info": {
   "file_extension": ".jl",
   "mimetype": "application/julia",
   "name": "julia",
   "version": "1.7.0"
  },
  "toc-autonumbering": false,
  "toc-showmarkdowntxt": false,
  "toc-showtags": false
 },
 "nbformat": 4,
 "nbformat_minor": 5
}
