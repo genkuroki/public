{
 "cells": [
  {
   "cell_type": "markdown",
   "id": "579f91fb-81ad-435b-9e07-c596d90b22d7",
   "metadata": {},
   "source": [
    "* https://twitter.com/genkuroki/status/1401330514175291396\n",
    "* https://github.com/genkuroki/public/blob/main/0001/harmonic%20numbers.ipynb\n",
    "* https://twitter.com/genkuroki/status/1400995381933051904"
   ]
  },
  {
   "cell_type": "code",
   "execution_count": 1,
   "id": "d89c0b48-9ef5-427b-b154-32228704c088",
   "metadata": {},
   "outputs": [
    {
     "name": "stdout",
     "output_type": "stream",
     "text": [
      "Julia Version 1.7.0-DEV.1133\n",
      "Commit db8d09609c (2021-05-21 13:48 UTC)\n",
      "Platform Info:\n",
      "  OS: Windows (x86_64-w64-mingw32)\n",
      "  CPU: Intel(R) Core(TM) i7-10750H CPU @ 2.60GHz\n",
      "  WORD_SIZE: 64\n",
      "  LIBM: libopenlibm\n",
      "  LLVM: libLLVM-11.0.1 (ORCJIT, skylake)\n",
      "Environment:\n",
      "  JULIA_DEPOT_PATH = D:\\.julia\n",
      "  JULIA_NUM_THREADS = 12\n",
      "  JULIA_PYTHONCALL_EXE = D:\\.julia\\conda\\3\\python.exe\n",
      "\n",
      "  0.646062 seconds\n"
     ]
    },
    {
     "data": {
      "text/plain": [
       "(740461601, 21.000000000402316)"
      ]
     },
     "execution_count": 1,
     "metadata": {},
     "output_type": "execute_result"
    }
   ],
   "source": [
    "versioninfo()\n",
    "println()\n",
    "\n",
    "function f(x, T=Float64)\n",
    "    n = 1\n",
    "    s = one(T)\n",
    "    while s < x\n",
    "        n += 1\n",
    "        s += inv(T(n))\n",
    "    end\n",
    "    n, s\n",
    "end\n",
    "\n",
    "@time f(21)"
   ]
  },
  {
   "cell_type": "code",
   "execution_count": 2,
   "id": "eb57f610-9ce8-4f93-8a02-142cdec3ebc3",
   "metadata": {},
   "outputs": [
    {
     "data": {
      "text/plain": [
       "samples: 16; evals/sample: 1; memory estimate: 0 bytes; allocs estimate: 0\n",
       "ns\n",
       "\n",
       " (6.45e8 - 6.5e8 ]  \u001b[32m██████████████████████████████ \u001b[39m9\n",
       " (6.5e8  - 6.54e8]  \u001b[32m██████████ \u001b[39m3\n",
       " (6.54e8 - 6.58e8]  \u001b[32m \u001b[39m0\n",
       " (6.58e8 - 6.62e8]  \u001b[32m██████▊\u001b[39m2\n",
       " (6.62e8 - 6.66e8]  \u001b[32m██████▊\u001b[39m2\n",
       "\n",
       "                  Counts\n",
       "\n",
       "min: 645.357 ms (0.00% GC); mean: 651.945 ms (0.00% GC); median: 649.090 ms (0.00% GC); max: 666.155 ms (0.00% GC)."
      ]
     },
     "execution_count": 2,
     "metadata": {},
     "output_type": "execute_result"
    }
   ],
   "source": [
    "using BenchmarkHistograms\n",
    "@benchmark f(21) seconds=10"
   ]
  },
  {
   "cell_type": "code",
   "execution_count": 3,
   "id": "f299ede4-0f0d-4675-8c7b-21c395898239",
   "metadata": {},
   "outputs": [
    {
     "name": "stdout",
     "output_type": "stream",
     "text": [
      "gcc (Rev10, Built by MSYS2 project) 10.2.0\n",
      "Copyright (C) 2020 Free Software Foundation, Inc.\n",
      "This is free software; see the source for copying conditions.  There is NO\n",
      "warranty; not even for MERCHANTABILITY or FITNESS FOR A PARTICULAR PURPOSE.\n",
      "\n"
     ]
    },
    {
     "data": {
      "text/markdown": [
       "```C\n",
       "long long f(double x) {\n",
       "    long long n = 1;\n",
       "    double s = 1.0;\n",
       "    while (s < x) {\n",
       "        n++;\n",
       "        s += 1.0 / (double) n;\n",
       "    }\n",
       "    return n;\n",
       "}\n",
       "\n",
       "```"
      ]
     },
     "metadata": {},
     "output_type": "display_data"
    },
    {
     "name": "stdout",
     "output_type": "stream",
     "text": [
      "-rwxr-xr-x 1 genkuroki genkuroki 95812 Jun  6 09:56 C:\\Users\\GENKUR~1\\AppData\\Local\\Temp\\jl_oTBciIiDu6.dll\n",
      "\n",
      "  0.671877 seconds\n"
     ]
    },
    {
     "data": {
      "text/plain": [
       "740461601"
      ]
     },
     "execution_count": 3,
     "metadata": {},
     "output_type": "execute_result"
    }
   ],
   "source": [
    "run(`gcc --version`)\n",
    "flush(stdout)\n",
    "\n",
    "C_code = raw\"\"\"\n",
    "long long f(double x) {\n",
    "    long long n = 1;\n",
    "    double s = 1.0;\n",
    "    while (s < x) {\n",
    "        n++;\n",
    "        s += 1.0 / (double) n;\n",
    "    }\n",
    "    return n;\n",
    "}\n",
    "\"\"\"\n",
    "display(\"text/markdown\", \"```C\\n\"*C_code*\"\\n```\")\n",
    "\n",
    "using Libdl\n",
    "libname = tempname()\n",
    "libname_dl = libname * \".\" * Libdl.dlext\n",
    "\n",
    "open(`gcc -Wall -O3 -march=native -xc -shared -o $libname_dl -`, \"w\") do f\n",
    "     print(f, C_code)\n",
    "end\n",
    "run(`ls -l $libname_dl`)\n",
    "println()\n",
    "\n",
    "f_gcc(x::Float64) = @ccall libname.f(x::Float64)::Int64\n",
    "@time f_gcc(21.0)"
   ]
  },
  {
   "cell_type": "code",
   "execution_count": 4,
   "id": "29be1d98-92a3-425b-b5ec-104528986602",
   "metadata": {},
   "outputs": [
    {
     "data": {
      "text/plain": [
       "samples: 16; evals/sample: 1; memory estimate: 0 bytes; allocs estimate: 0\n",
       "ns\n",
       "\n",
       " (6.46e8 - 6.5e8 ]  \u001b[32m██████████████████████████████ \u001b[39m7\n",
       " (6.5e8  - 6.53e8]  \u001b[32m█████████████████▎\u001b[39m4\n",
       " (6.53e8 - 6.57e8]  \u001b[32m████████▋\u001b[39m2\n",
       " (6.57e8 - 6.61e8]  \u001b[32m████████▋\u001b[39m2\n",
       " (6.61e8 - 6.64e8]  \u001b[32m████▍\u001b[39m1\n",
       "\n",
       "                  Counts\n",
       "\n",
       "min: 645.901 ms (0.00% GC); mean: 651.795 ms (0.00% GC); median: 649.763 ms (0.00% GC); max: 664.150 ms (0.00% GC)."
      ]
     },
     "execution_count": 4,
     "metadata": {},
     "output_type": "execute_result"
    }
   ],
   "source": [
    "@benchmark f_gcc(21.0) seconds=10"
   ]
  },
  {
   "cell_type": "code",
   "execution_count": 5,
   "id": "1f5c089f-a228-402a-9681-12cf2528c193",
   "metadata": {},
   "outputs": [
    {
     "data": {
      "text/plain": [
       "1.5080997180929478"
      ]
     },
     "execution_count": 5,
     "metadata": {},
     "output_type": "execute_result"
    }
   ],
   "source": [
    "0.67/740461601*6000125006293/60^2"
   ]
  },
  {
   "cell_type": "code",
   "execution_count": 6,
   "id": "87b31479-1c80-4457-99c6-10b3f28b7789",
   "metadata": {},
   "outputs": [
    {
     "name": "stdout",
     "output_type": "stream",
     "text": [
      "Julia Version 1.7.0-DEV.1133\n",
      "Commit db8d09609c (2021-05-21 13:48 UTC)\n",
      "Platform Info:\n",
      "  OS: Windows (x86_64-w64-mingw32)\n",
      "  CPU: Intel(R) Core(TM) i7-10750H CPU @ 2.60GHz\n",
      "  WORD_SIZE: 64\n",
      "  LIBM: libopenlibm\n",
      "  LLVM: libLLVM-11.0.1 (ORCJIT, skylake)\n",
      "Environment:\n",
      "  JULIA_DEPOT_PATH = D:\\.julia\n",
      "  JULIA_NUM_THREADS = 12\n",
      "  JULIA_PYTHONCALL_EXE = D:\\.julia\\conda\\3\\python.exe\n",
      "\n",
      "  1.318597 seconds\n"
     ]
    },
    {
     "data": {
      "text/plain": [
       "(740461601, 21.000000000401332)"
      ]
     },
     "execution_count": 6,
     "metadata": {},
     "output_type": "execute_result"
    }
   ],
   "source": [
    "# Kahan-Babuska-Neumaier (KBN) algorithm\n",
    "# See https://github.com/JuliaMath/KahanSummation.jl\n",
    "\n",
    "versioninfo()\n",
    "println()\n",
    "\n",
    "function f_kbn(x, T=Float64)\n",
    "    n = 1\n",
    "    s = one(T)\n",
    "    c = zero(T)\n",
    "    while s < x\n",
    "        n += 1\n",
    "        a = inv(T(n))\n",
    "        t = s + a\n",
    "        c += abs(s) ≥ abs(a) ? ((s-t) + a) : ((a-t) + s)\n",
    "        s = t\n",
    "    end\n",
    "    n, s + c\n",
    "end\n",
    "\n",
    "@time f_kbn(21)"
   ]
  },
  {
   "cell_type": "code",
   "execution_count": 7,
   "id": "6a20a829-388c-4cc7-9ae2-6f7810eb5ad6",
   "metadata": {},
   "outputs": [
    {
     "data": {
      "text/plain": [
       "21.00000000040133333292517378163353387852"
      ]
     },
     "execution_count": 7,
     "metadata": {},
     "output_type": "execute_result"
    }
   ],
   "source": [
    "using SpecialFunctions\n",
    "H(n) = digamma(big(n+1)) + MathConstants.γ\n",
    "setprecision(128) do; H(740461601) end"
   ]
  },
  {
   "cell_type": "code",
   "execution_count": 8,
   "id": "d6cf8daf-0cff-43e0-b18e-297cba1c78fb",
   "metadata": {},
   "outputs": [
    {
     "data": {
      "text/plain": [
       "samples: 16; evals/sample: 1; memory estimate: 0 bytes; allocs estimate: 0\n",
       "ns\n",
       "\n",
       " (1.305e9 - 1.316e9]  \u001b[32m██████████████████████████████ \u001b[39m9\n",
       " (1.316e9 - 1.327e9]  \u001b[32m██████▊\u001b[39m2\n",
       " (1.327e9 - 1.338e9]  \u001b[32m██████████ \u001b[39m3\n",
       " (1.338e9 - 1.349e9]  \u001b[32m███▍\u001b[39m1\n",
       " (1.349e9 - 1.361e9]  \u001b[32m███▍\u001b[39m1\n",
       "\n",
       "                  Counts\n",
       "\n",
       "min: 1.305 s (0.00% GC); mean: 1.320 s (0.00% GC); median: 1.313 s (0.00% GC); max: 1.361 s (0.00% GC)."
      ]
     },
     "execution_count": 8,
     "metadata": {},
     "output_type": "execute_result"
    }
   ],
   "source": [
    "using BenchmarkHistograms\n",
    "@benchmark f_kbn(21) seconds=20"
   ]
  },
  {
   "cell_type": "code",
   "execution_count": null,
   "id": "422edd05-e938-4f40-8156-32d831ca54d6",
   "metadata": {},
   "outputs": [],
   "source": []
  }
 ],
 "metadata": {
  "jupytext": {
   "formats": "ipynb,md"
  },
  "kernelspec": {
   "display_name": "Julia 1.7.0-DEV",
   "language": "julia",
   "name": "julia-1.7"
  },
  "language_info": {
   "file_extension": ".jl",
   "mimetype": "application/julia",
   "name": "julia",
   "version": "1.7.0"
  }
 },
 "nbformat": 4,
 "nbformat_minor": 5
}
