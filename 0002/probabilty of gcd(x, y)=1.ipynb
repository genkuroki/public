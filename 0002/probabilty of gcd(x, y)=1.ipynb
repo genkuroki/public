{
 "cells": [
  {
   "cell_type": "code",
   "execution_count": 1,
   "id": "77b6e7c9-5ac7-4d2c-a607-f0e5744414b4",
   "metadata": {},
   "outputs": [],
   "source": [
    "using Random\n",
    "using LoopVectorization"
   ]
  },
  {
   "cell_type": "code",
   "execution_count": 2,
   "id": "747ed3d9-a892-4fe1-abdf-2210b2ab4f4a",
   "metadata": {},
   "outputs": [
    {
     "name": "stdout",
     "output_type": "stream",
     "text": [
      " 10.509234 seconds\n"
     ]
    },
    {
     "data": {
      "text/plain": [
       "3.1415535912002763"
      ]
     },
     "execution_count": 2,
     "metadata": {},
     "output_type": "execute_result"
    }
   ],
   "source": [
    "function simpi(N, rng = Random.default_rng())\n",
    "    c = 0\n",
    "    for _ in 1:N\n",
    "        c += isone(gcd(rand(rng, Int), rand(rng, Int)))\n",
    "    end\n",
    "    √(6N/c)\n",
    "end\n",
    "\n",
    "simpi(10)\n",
    "Random.seed!(4549373)\n",
    "\n",
    "@time simpi(10^8)"
   ]
  },
  {
   "cell_type": "code",
   "execution_count": 3,
   "id": "4134dbc8-2dc5-4f65-bc84-8b87fe30dc88",
   "metadata": {},
   "outputs": [
    {
     "name": "stdout",
     "output_type": "stream",
     "text": [
      " 10.734014 seconds\n"
     ]
    },
    {
     "data": {
      "text/plain": [
       "3.1415535912002763"
      ]
     },
     "execution_count": 3,
     "metadata": {},
     "output_type": "execute_result"
    }
   ],
   "source": [
    "Random.seed!(4549373)\n",
    "\n",
    "@time let\n",
    "    N = 10^8\n",
    "    rng = Random.default_rng()\n",
    "    s = 0\n",
    "    for _ in 1:N\n",
    "        s += isone(gcd(rand(rng, Int), rand(rng, Int)))\n",
    "    end\n",
    "    √(6N/s)\n",
    "end"
   ]
  },
  {
   "cell_type": "code",
   "execution_count": null,
   "id": "4dd7213a-3c13-4fec-bd5f-8c8aa209303d",
   "metadata": {},
   "outputs": [],
   "source": [
    "Random.seed!(4549373)\n",
    "\n",
    "@time begin\n",
    "    N = 10^8\n",
    "    rng = Random.default_rng()\n",
    "    s = 0\n",
    "    for _ in 1:N\n",
    "        s += isone(gcd(rand(rng, Int), rand(rng, Int)))\n",
    "    end\n",
    "    √(6N/s)\n",
    "end"
   ]
  },
  {
   "cell_type": "code",
   "execution_count": null,
   "id": "0876cbf8-70ee-44e6-b4b4-7296760648e3",
   "metadata": {},
   "outputs": [],
   "source": [
    "@show Threads.nthreads()\n",
    "\n",
    "using Random\n",
    "\n",
    "# https://github.com/genkuroki/MyUtils.jl\n",
    "using MyUtils: @my_threads\n",
    "\n",
    "function simpi_threads(N)\n",
    "    a = Threads.Atomic{Int}(0)\n",
    "    @my_threads begin\n",
    "        rng = Random.default_rng()\n",
    "        c = 0\n",
    "    end for _ in 1:N\n",
    "        c += isone(gcd(rand(rng, Int), rand(rng, Int)))\n",
    "    end begin\n",
    "        Threads.atomic_add!(a, c)\n",
    "    end\n",
    "    √(6N/a[])\n",
    "end\n",
    "\n",
    "simpi_threads(10)\n",
    "\n",
    "@time simpi_threads(10^8)"
   ]
  },
  {
   "cell_type": "code",
   "execution_count": null,
   "id": "9ade21b5-0219-4e9e-8faf-d0d9b16874b8",
   "metadata": {},
   "outputs": [],
   "source": [
    "@show Threads.nthreads()\n",
    "\n",
    "using Random\n",
    "\n",
    "# https://github.com/genkuroki/MyUtils.jl\n",
    "using MyUtils: @my_threads\n",
    "\n",
    "@time let\n",
    "    N = 10^8\n",
    "    a = Threads.Atomic{Int}(0)\n",
    "    @my_threads begin\n",
    "        rng = Random.default_rng()\n",
    "        c = 0\n",
    "    end for _ in 1:N\n",
    "        c += isone(gcd(rand(rng, Int), rand(rng, Int)))\n",
    "    end begin\n",
    "        Threads.atomic_add!(a, c)\n",
    "    end\n",
    "    √(6N/a[])\n",
    "end"
   ]
  },
  {
   "cell_type": "code",
   "execution_count": null,
   "id": "211e1917-6bd1-4b78-b5ab-82d6f4299c1c",
   "metadata": {},
   "outputs": [],
   "source": [
    "@show Threads.nthreads()\n",
    "\n",
    "using Random\n",
    "\n",
    "# https://github.com/genkuroki/MyUtils.jl\n",
    "using MyUtils: @my_threads\n",
    "\n",
    "@time begin\n",
    "    N = 10^8\n",
    "    a = Threads.Atomic{Int}(0)\n",
    "    @my_threads begin\n",
    "        rng = Random.default_rng()\n",
    "        c = 0\n",
    "    end for _ in 1:N\n",
    "        c += isone(gcd(rand(rng, Int), rand(rng, Int)))\n",
    "    end begin\n",
    "        Threads.atomic_add!(a, c)\n",
    "    end\n",
    "    √(6N/a[])\n",
    "end"
   ]
  },
  {
   "cell_type": "code",
   "execution_count": null,
   "id": "0efce638-e4b1-46a9-8879-79358c2ef5e3",
   "metadata": {},
   "outputs": [],
   "source": []
  }
 ],
 "metadata": {
  "jupytext": {
   "formats": "ipynb,md"
  },
  "kernelspec": {
   "display_name": "Julia 1.7.0-DEV",
   "language": "julia",
   "name": "julia-1.7"
  },
  "language_info": {
   "file_extension": ".jl",
   "mimetype": "application/julia",
   "name": "julia",
   "version": "1.7.0"
  }
 },
 "nbformat": 4,
 "nbformat_minor": 5
}
