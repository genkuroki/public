{
 "cells": [
  {
   "cell_type": "code",
   "execution_count": 1,
   "id": "e54cf693-7da4-474e-8141-f3042a1c0102",
   "metadata": {},
   "outputs": [
    {
     "data": {
      "text/plain": [
       ":(if a\n",
       "      A\n",
       "  elseif b\n",
       "      B\n",
       "  elseif c\n",
       "      C\n",
       "  else\n",
       "      D\n",
       "  end)"
      ]
     },
     "execution_count": 1,
     "metadata": {},
     "output_type": "execute_result"
    }
   ],
   "source": [
    "expr = :(if a A elseif b B elseif c C else D end) |> Base.remove_linenums!"
   ]
  },
  {
   "cell_type": "code",
   "execution_count": 2,
   "id": "086c61a2-86cd-4b83-8e9b-a50d6e0e711c",
   "metadata": {},
   "outputs": [
    {
     "name": "stdout",
     "output_type": "stream",
     "text": [
      "Expr\n",
      "  head: Symbol if\n",
      "  args: Array{Any}((3,))\n",
      "    1: Symbol a\n",
      "    2: Expr\n",
      "      head: Symbol block\n",
      "      args: Array{Any}((1,))\n",
      "        1: Symbol A\n",
      "    3: Expr\n",
      "      head: Symbol elseif\n",
      "      args: Array{Any}((3,))\n",
      "        1: Expr\n",
      "          head: Symbol block\n",
      "          args: Array{Any}((1,))\n",
      "            1: Symbol b\n",
      "        2: Expr\n",
      "          head: Symbol block\n",
      "          args: Array{Any}((1,))\n",
      "            1: Symbol B\n",
      "        3: Expr\n",
      "          head: Symbol elseif\n",
      "          args: Array{Any}((3,))\n",
      "            1: Expr\n",
      "              head: Symbol block\n",
      "              args: Array{Any}((1,))\n",
      "                1: Symbol c\n",
      "            2: Expr\n",
      "              head: Symbol block\n",
      "              args: Array{Any}((1,))\n",
      "                1: Symbol C\n",
      "            3: Expr\n",
      "              head: Symbol block\n",
      "              args: Array{Any}((1,))\n",
      "                1: Symbol D\n"
     ]
    }
   ],
   "source": [
    "dump(expr)"
   ]
  },
  {
   "cell_type": "code",
   "execution_count": 3,
   "id": "6e4f24fd-5e0d-4e60-bc64-1cbc9c73f160",
   "metadata": {},
   "outputs": [],
   "source": [
    "using MetaUtils"
   ]
  },
  {
   "cell_type": "code",
   "execution_count": 9,
   "id": "f58dace0-1b27-4fa6-a647-e848b39ca1d4",
   "metadata": {},
   "outputs": [
    {
     "name": "stdout",
     "output_type": "stream",
     "text": [
      "Expr(:if)\n",
      "├─ :a\n",
      "├─ Expr(:block)\n",
      "│  └─ :A\n",
      "└─ Expr(:elseif)\n",
      "   ├─ Expr(:block)\n",
      "   │  └─ :b\n",
      "   ├─ Expr(:block)\n",
      "   │  └─ :B\n",
      "   └─ Expr(:elseif)\n",
      "      ├─ Expr(:block)\n",
      "      │  └─ :c\n",
      "      ├─ Expr(:block)\n",
      "      │  └─ :C\n",
      "      └─ Expr(:block)\n",
      "         └─ :D\n"
     ]
    }
   ],
   "source": [
    "MetaUtils.print_tree(expr)"
   ]
  },
  {
   "cell_type": "code",
   "execution_count": 5,
   "id": "f297ff7b-08c3-4167-bebf-47b0f8a799cf",
   "metadata": {},
   "outputs": [
    {
     "name": "stdout",
     "output_type": "stream",
     "text": [
      "search: @\u001b[0m\u001b[1ms\u001b[22m\u001b[0m\u001b[1mh\u001b[22m\u001b[0m\u001b[1mo\u001b[22m\u001b[0m\u001b[1mw\u001b[22m\u001b[0m\u001b[1m_\u001b[22m\u001b[0m\u001b[1mt\u001b[22m\u001b[0m\u001b[1mr\u001b[22m\u001b[0m\u001b[1me\u001b[22m\u001b[0m\u001b[1me\u001b[22m \u001b[0m\u001b[1ms\u001b[22m\u001b[0m\u001b[1mh\u001b[22m\u001b[0m\u001b[1mo\u001b[22m\u001b[0m\u001b[1mw\u001b[22m\u001b[0m\u001b[1m_\u001b[22m\u001b[0m\u001b[1mt\u001b[22mexp\u001b[0m\u001b[1mr\u001b[22m @\u001b[0m\u001b[1ms\u001b[22m\u001b[0m\u001b[1mh\u001b[22m\u001b[0m\u001b[1mo\u001b[22m\u001b[0m\u001b[1mw\u001b[22m\u001b[0m\u001b[1m_\u001b[22m\u001b[0m\u001b[1mt\u001b[22mexp\u001b[0m\u001b[1mr\u001b[22m\n",
      "\n",
      "Couldn't find \u001b[36mshow_tree\u001b[39m\n",
      "Perhaps you meant @show_tree or show_texpr\n"
     ]
    },
    {
     "data": {
      "text/latex": [
       "No documentation found.\n",
       "\n",
       "Binding \\texttt{show\\_tree} does not exist.\n",
       "\n"
      ],
      "text/markdown": [
       "No documentation found.\n",
       "\n",
       "Binding `show_tree` does not exist.\n"
      ],
      "text/plain": [
       "  No documentation found.\n",
       "\n",
       "  Binding \u001b[36mshow_tree\u001b[39m does not exist."
      ]
     },
     "execution_count": 5,
     "metadata": {},
     "output_type": "execute_result"
    }
   ],
   "source": [
    "show_expr(expr)"
   ]
  },
  {
   "cell_type": "code",
   "execution_count": null,
   "id": "eedf0017-25f1-40cd-8ef4-7feb63df506d",
   "metadata": {},
   "outputs": [],
   "source": []
  }
 ],
 "metadata": {
  "jupytext": {
   "formats": "ipynb,md"
  },
  "kernelspec": {
   "display_name": "Julia 1.7.0-DEV",
   "language": "julia",
   "name": "julia-1.7"
  },
  "language_info": {
   "file_extension": ".jl",
   "mimetype": "application/julia",
   "name": "julia",
   "version": "1.7.0"
  }
 },
 "nbformat": 4,
 "nbformat_minor": 5
}
