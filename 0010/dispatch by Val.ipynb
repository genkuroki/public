{
 "cells": [
  {
   "cell_type": "markdown",
   "id": "98bc2bd2-858a-4092-88be-ad27499e7527",
   "metadata": {
    "tags": []
   },
   "source": [
    "Optimization by specialization to argument types comes with the tradeoff of increased compilation time. An extreme case of this is shown in the following example."
   ]
  },
  {
   "cell_type": "code",
   "execution_count": 1,
   "id": "ccfccc8f-4f9f-4366-801b-1fedfca74c27",
   "metadata": {},
   "outputs": [
    {
     "data": {
      "text/plain": [
       "(1000003000002, 1000003000002)"
      ]
     },
     "execution_count": 1,
     "metadata": {},
     "output_type": "execute_result"
    }
   ],
   "source": [
    "f(x) = x^2 + 3x + 2\n",
    "g(::Val{x}) where x = f(x)\n",
    "f(10^6), g(Val(10^6))"
   ]
  },
  {
   "cell_type": "code",
   "execution_count": 2,
   "id": "0108d599-aac1-4baf-9e25-7b00742b4d39",
   "metadata": {},
   "outputs": [
    {
     "name": "stdout",
     "output_type": "stream",
     "text": [
      "  3.500 ns (0 allocations: 0 bytes)\n",
      "  0.001 ns (0 allocations: 0 bytes)\n"
     ]
    }
   ],
   "source": [
    "using BenchmarkTools\n",
    "@btime f(10^6)\n",
    "@btime g($(Val(10^6)));"
   ]
  },
  {
   "cell_type": "markdown",
   "id": "ecd11c91-ac3f-44f3-931a-a56a6c4e182c",
   "metadata": {},
   "source": [
    "`g(Val(10^6))` is ultra fast because it is specialized to the argument type `Val{10^6}` and compiled to `return 1000003000002`."
   ]
  },
  {
   "cell_type": "code",
   "execution_count": 3,
   "id": "2fbd2aa7-62b7-4db9-9f04-b4995e39497e",
   "metadata": {},
   "outputs": [
    {
     "data": {
      "text/plain": [
       "CodeInfo(\n",
       "\u001b[90m1 ─\u001b[39m     return 1000003000002\n",
       ") => Int64"
      ]
     },
     "execution_count": 3,
     "metadata": {},
     "output_type": "execute_result"
    }
   ],
   "source": [
    "@code_typed debuginfo=:none g(Val(10^6))"
   ]
  },
  {
   "cell_type": "markdown",
   "id": "4a617805-6375-4570-8445-58fa5b366fdc",
   "metadata": {},
   "source": [
    "However, `g(Val(k))` is compiled separately for each different `k`.  So if you run `g(Val(k))` for a large number of different `k`'s,  it will perform a large number of compilations and will be very slow. (After compilation, though, it will be explosively fast.) "
   ]
  },
  {
   "cell_type": "code",
   "execution_count": 4,
   "id": "750bff43-798d-4f9b-800c-327b65b0f093",
   "metadata": {},
   "outputs": [
    {
     "name": "stdout",
     "output_type": "stream",
     "text": [
      "  0.000010 seconds (2 allocations: 78.203 KiB)\n",
      "  5.160295 seconds (55.43 M allocations: 3.894 GiB, 14.56% gc time, 95.65% compilation time)\n"
     ]
    }
   ],
   "source": [
    "F(n) = [f(k) for k in 1:n]\n",
    "G(n) = [g(Val(k)) for k in 1:n]\n",
    "\n",
    "@time F(10^4)\n",
    "@time G(10^4);"
   ]
  },
  {
   "cell_type": "markdown",
   "id": "0fd5f808-1a43-45b8-b64b-10ffbc988a58",
   "metadata": {},
   "source": [
    "The first execution of `G(10^4)` is very slow."
   ]
  },
  {
   "cell_type": "code",
   "execution_count": 5,
   "id": "f94f7c88-0c00-4408-884e-a45af58e8de5",
   "metadata": {},
   "outputs": [
    {
     "data": {
      "text/plain": [
       "true"
      ]
     },
     "execution_count": 5,
     "metadata": {},
     "output_type": "execute_result"
    }
   ],
   "source": [
    "F(10^4) == G(10^4)"
   ]
  },
  {
   "cell_type": "markdown",
   "id": "6c5f6cc5-a833-4f55-a0aa-3b07190de009",
   "metadata": {},
   "source": [
    "Thus, it is not reasonable to try to optimize by specialization to the argument types by different large numbers of `Val{k}` types.\n",
    "\n",
    "On the other hand, the native code specialized to argument types is very fast, so if compilation time is not an issue, optimization by specialization to argument types should be done aggressively.\n",
    "\n",
    "In short, it is a matter of trade-off."
   ]
  },
  {
   "cell_type": "code",
   "execution_count": null,
   "id": "f363281e-64d6-422c-82e9-63b67454e0f9",
   "metadata": {},
   "outputs": [],
   "source": []
  }
 ],
 "metadata": {
  "jupytext": {
   "formats": "ipynb,auto:hydrogen"
  },
  "kernelspec": {
   "display_name": "Julia 1.6.1",
   "language": "julia",
   "name": "julia-1.6"
  },
  "language_info": {
   "file_extension": ".jl",
   "mimetype": "application/julia",
   "name": "julia",
   "version": "1.6.1"
  }
 },
 "nbformat": 4,
 "nbformat_minor": 5
}
