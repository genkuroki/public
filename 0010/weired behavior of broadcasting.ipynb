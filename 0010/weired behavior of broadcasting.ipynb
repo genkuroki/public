{
 "cells": [
  {
   "cell_type": "code",
   "execution_count": 35,
   "id": "f4d6f185-be8d-4f60-a0a0-83c6ccde7f61",
   "metadata": {},
   "outputs": [
    {
     "name": "stdout",
     "output_type": "stream",
     "text": [
      "  0.025316 seconds (16.04 k allocations: 745.293 KiB, 99.95% compilation time)\n",
      "  0.000002 seconds (2 allocations: 16 bytes)\n",
      "  0.000001 seconds (2 allocations: 16 bytes)\n"
     ]
    },
    {
     "data": {
      "text/plain": [
       "2-element Vector{Float64}:\n",
       " 0.0\n",
       " 1.5"
      ]
     },
     "execution_count": 35,
     "metadata": {},
     "output_type": "execute_result"
    }
   ],
   "source": [
    "a = [1.0, 2.0]\n",
    "b = [1.0, 2.0]\n",
    "c = zeros(2)\n",
    "\n",
    "f!(a, b, c) = @. c = b - a/b^2\n",
    "@time f!(a, b, c)\n",
    "@time f!(a, b, c)\n",
    "@time f!(a, b, c)"
   ]
  },
  {
   "cell_type": "code",
   "execution_count": 34,
   "id": "9a7224b7-50e4-480c-a695-69bbcc1603c3",
   "metadata": {},
   "outputs": [
    {
     "name": "stdout",
     "output_type": "stream",
     "text": [
      "  0.028608 seconds (21.35 k allocations: 973.171 KiB, 99.96% compilation time)\n",
      "  0.000002 seconds\n",
      "  0.000002 seconds\n"
     ]
    },
    {
     "data": {
      "text/plain": [
       "2-element Vector{Float64}:\n",
       " 0.0\n",
       " 1.5"
      ]
     },
     "execution_count": 34,
     "metadata": {},
     "output_type": "execute_result"
    }
   ],
   "source": [
    "a = [1.0, 2.0]\n",
    "b = [1.0, 2.0]\n",
    "c = zeros(2)\n",
    "\n",
    "f2!(a, b, c) = @. c = -a/b^2 + b\n",
    "@time f2!(a, b, c)\n",
    "@time f2!(a, b, c)\n",
    "@time f2!(a, b, c)"
   ]
  },
  {
   "cell_type": "code",
   "execution_count": 38,
   "id": "5dded222-1bcf-44af-bbc3-ec50fb3951ef",
   "metadata": {},
   "outputs": [
    {
     "name": "stdout",
     "output_type": "stream",
     "text": [
      "  27.437 ns (2 allocations: 16 bytes)\n",
      "  13.427 ns (0 allocations: 0 bytes)\n"
     ]
    },
    {
     "data": {
      "text/plain": [
       "2-element Vector{Float64}:\n",
       " 0.0\n",
       " 1.5"
      ]
     },
     "execution_count": 38,
     "metadata": {},
     "output_type": "execute_result"
    }
   ],
   "source": [
    "using BenchmarkTools\n",
    "@btime f!($a, $b, $c)\n",
    "@btime f2!($a, $b, $c)"
   ]
  },
  {
   "cell_type": "code",
   "execution_count": 50,
   "id": "a7c4cb9d-5ef9-4a4a-ba37-d0429632678a",
   "metadata": {},
   "outputs": [
    {
     "name": "stdout",
     "output_type": "stream",
     "text": [
      "  13.942 ns (0 allocations: 0 bytes)\n"
     ]
    },
    {
     "data": {
      "text/plain": [
       "2-element Vector{Float64}:\n",
       " 0.0\n",
       " 1.5"
      ]
     },
     "execution_count": 50,
     "metadata": {},
     "output_type": "execute_result"
    }
   ],
   "source": [
    "g!(a, b, c) = c .= .- a ./ (b .^ 2) .+ b\n",
    "@btime g!($a, $b, $c)"
   ]
  },
  {
   "cell_type": "code",
   "execution_count": null,
   "id": "64cfbd56-fd82-4bc0-a7ab-1e8f6c9f7002",
   "metadata": {},
   "outputs": [],
   "source": []
  }
 ],
 "metadata": {
  "jupytext": {
   "formats": "ipynb,auto:hydrogen"
  },
  "kernelspec": {
   "display_name": "Julia 1.8.0-DEV",
   "language": "julia",
   "name": "julia-1.8"
  },
  "language_info": {
   "file_extension": ".jl",
   "mimetype": "application/julia",
   "name": "julia",
   "version": "1.8.0"
  }
 },
 "nbformat": 4,
 "nbformat_minor": 5
}
