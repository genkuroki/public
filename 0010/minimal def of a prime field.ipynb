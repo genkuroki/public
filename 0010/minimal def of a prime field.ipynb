{
 "cells": [
  {
   "cell_type": "code",
   "execution_count": 1,
   "id": "c30402f6-eafd-41b3-9f3b-3f9a5b0b5e21",
   "metadata": {},
   "outputs": [
    {
     "name": "stdout",
     "output_type": "stream",
     "text": [
      "x = F7(3)\n",
      "y = F7(5)\n",
      "zero(x) = F7(0)\n",
      "one(x) = F7(1)\n",
      "+x = F7(3)\n",
      "-x = F7(4)\n",
      "x + y = F7(1)\n",
      "x - y = F7(5)\n",
      "x * y = F7(1)\n",
      "x / y = F7(2)\n",
      "x \\ y = F7(4)\n",
      "\n",
      "A = F{7, BigInt}[F7(1) F7(2); F7(3) F7(4)]\n",
      "4A = F{7, BigInt}[F7(4) F7(1); F7(5) F7(2)]\n",
      "A / 4 = F{7, BigInt}[F7(2) F7(4); F7(6) F7(1)]\n",
      "\n",
      "L * U = F{7, BigInt}[F7(1) F7(2); F7(3) F7(4)]\n",
      "det(A) = F7(5)\n",
      "inv(A) = F{7, BigInt}[F7(5) F7(1); F7(5) F7(3)]\n",
      "inv(A) * A = F{7, BigInt}[F7(1) F7(0); F7(0) F7(1)]\n",
      "A * inv(A) = F{7, BigInt}[F7(1) F7(0); F7(0) F7(1)]\n"
     ]
    }
   ],
   "source": [
    "struct F{p, T<:Integer} <: Integer\n",
    "    a::T\n",
    "    F{p, T}(a::Integer) where {p, T<:Integer} = new{p, T}(mod(T(a), p))\n",
    "end\n",
    "F{p}(a::Integer) where p = F{p, typeof(a)}(mod(a, p))\n",
    "F{p, S}(x::F{p, T}) where {S<:Integer, p, T<:Integer} = F{p, S}(x.a)\n",
    "\n",
    "Base.promote_rule(::Type{F{p, T}}, ::Type{S}) where {p, T<:Integer, S<:Integer} =\n",
    "    F{p, promote_type(T, S)}\n",
    "\n",
    "Base.zero(::Type{F{p, T}}) where {p, T<:Integer} = F{p}(mod(zero(T), p))\n",
    "Base.one(::Type{F{p, T}}) where {p, T<:Integer} = F{p}(mod(one(T), p))\n",
    "for op in (:-, :+)\n",
    "    @eval Base.$op(x::F{p}) where p = F{p}(mod($op(x.a), p))\n",
    "end\n",
    "for op in (:-, :+, :*)\n",
    "    @eval Base.$op(x::F{p}, y::F{p}) where p = F{p}(mod($op(x.a, y.a), p))\n",
    "end\n",
    "Base.inv(x::F{p}) where p = F{p}(invmod(x.a, p))\n",
    "Base.:/(x::F{p}, y::F{p}) where p = x * inv(y)\n",
    "Base.:\\(x::F{p}, y::F{p}) where p = inv(x) * y\n",
    "Base.:<(x::F{p}, y::F{p}) where p = x.a < y.a\n",
    "\n",
    "Base.show(io::IO, x::F{p}) where p = print(io, \"F\", p, '(', x.a, ')')\n",
    "\n",
    "F7 = F{7, BigInt}\n",
    "x, y = F7(10), F7(-2)\n",
    "@show(x, y, zero(x), one(x), +x, -x, x + y, x - y, x * y, x / y, x \\ y)\n",
    "println()\n",
    "A = F7[1 2; 3 4]\n",
    "@show(A, 4A, A/4)\n",
    "println()\n",
    "using LinearAlgebra\n",
    "L, U = lu(A, NoPivot())\n",
    "@show(L * U, det(A), inv(A), inv(A) * A, A * inv(A));"
   ]
  },
  {
   "cell_type": "code",
   "execution_count": null,
   "id": "b9bc0f95-4979-4159-b894-915bc2bdcd23",
   "metadata": {},
   "outputs": [],
   "source": []
  }
 ],
 "metadata": {
  "jupytext": {
   "formats": "ipynb,jl:hydrogen"
  },
  "kernelspec": {
   "display_name": "Julia 1.8.0-DEV",
   "language": "julia",
   "name": "julia-1.8"
  },
  "language_info": {
   "file_extension": ".jl",
   "mimetype": "application/julia",
   "name": "julia",
   "version": "1.8.0"
  }
 },
 "nbformat": 4,
 "nbformat_minor": 5
}
