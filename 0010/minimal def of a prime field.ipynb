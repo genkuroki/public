{
 "cells": [
  {
   "cell_type": "code",
   "execution_count": 1,
   "id": "c30402f6-eafd-41b3-9f3b-3f9a5b0b5e21",
   "metadata": {},
   "outputs": [
    {
     "name": "stdout",
     "output_type": "stream",
     "text": [
      "x = F7(3)\n",
      "y = F7(5)\n",
      "zero(x) = F7(0)\n",
      "one(x) = F7(1)\n",
      "+x = F7(3)\n",
      "-x = F7(4)\n",
      "x + y = F7(1)\n",
      "x - y = F7(5)\n",
      "x * y = F7(1)\n",
      "x / y = F7(2)\n",
      "x \\ y = F7(4)\n",
      "x ^ 3 = F7(6)\n",
      "x ^ -5 = F7(3)\n",
      "x == F7(3) = true\n",
      "x == 3 = true\n",
      "\n",
      "A = F{7, BigInt}[F7(1) F7(2); F7(3) F7(4)]\n",
      "4A = F{7, BigInt}[F7(4) F7(1); F7(5) F7(2)]\n",
      "A / 4 = F{7, BigInt}[F7(2) F7(4); F7(6) F7(1)]\n",
      "\n",
      "L = F{7, BigInt}[F7(1) F7(0); F7(3) F7(1)]\n",
      "U = F{7, BigInt}[F7(1) F7(2); F7(0) F7(5)]\n",
      "L * U = F{7, BigInt}[F7(1) F7(2); F7(3) F7(4)]\n",
      "det(A) = F7(5)\n",
      "inv(A) = F{7, BigInt}[F7(5) F7(1); F7(5) F7(3)]\n",
      "inv(A) * A = F{7, BigInt}[F7(1) F7(0); F7(0) F7(1)]\n",
      "A * inv(A) = F{7, BigInt}[F7(1) F7(0); F7(0) F7(1)]\n"
     ]
    }
   ],
   "source": [
    "struct F{p, T<:Integer} <: Integer\n",
    "    a::T\n",
    "    F{p, T}(a::Integer) where {p, T<:Integer} = new{p, T}(mod(T(a), p))\n",
    "end\n",
    "F{p}(a::Integer) where p = F{p, typeof(a)}(mod(a, p))\n",
    "F{p, S}(x::F{p, T}) where {S<:Integer, p, T<:Integer} = F{p, S}(x.a)\n",
    "\n",
    "Base.promote_rule(::Type{F{p, T}}, ::Type{S}) where {p, T<:Integer, S<:Integer} =\n",
    "    F{p, promote_type(T, S)}\n",
    "\n",
    "Base.zero(::Type{F{p, T}}) where {p, T<:Integer} = F{p}(mod(zero(T), p))\n",
    "Base.one(::Type{F{p, T}}) where {p, T<:Integer} = F{p}(mod(one(T), p))\n",
    "for op in (:-, :+)\n",
    "    @eval Base.$op(x::F{p}) where p = F{p}(mod($op(x.a), p))\n",
    "end\n",
    "for op in (:-, :+, :*)\n",
    "    @eval Base.$op(x::F{p}, y::F{p}) where p = F{p}(mod($op(x.a, y.a), p))\n",
    "end\n",
    "Base.inv(x::F{p}) where p = F{p}(invmod(x.a, p))\n",
    "Base.:/(x::F{p}, y::F{p}) where p = x * inv(y)\n",
    "Base.:\\(x::F{p}, y::F{p}) where p = inv(x) * y\n",
    "Base.:(==)(x::F{p}, y::F{p}) where p = x.a == y.a\n",
    "Base.:<(x::F{p}, y::F{p}) where p = x.a < y.a\n",
    "\n",
    "Base.show(io::IO, x::F{p}) where p = print(io, \"F\", p, '(', x.a, ')')\n",
    "\n",
    "F7 = F{7, BigInt}\n",
    "x, y = F7(10), F7(-2)\n",
    "@show(x, y, zero(x), one(x), +x, -x, x + y, x - y, x * y, x / y, x \\ y, x^3, x^-5, x == F7(3), x == 3)\n",
    "println()\n",
    "A = F7[1 2; 3 4]\n",
    "@show(A, 4A, A/4)\n",
    "println()\n",
    "using LinearAlgebra\n",
    "L, U = lu(A, NoPivot())\n",
    "@show(L, U, L * U, det(A), inv(A), inv(A) * A, A * inv(A));"
   ]
  },
  {
   "cell_type": "code",
   "execution_count": 2,
   "id": "5f0f55af-5f7d-4171-9809-1ead64b72fc8",
   "metadata": {},
   "outputs": [
    {
     "name": "stdout",
     "output_type": "stream",
     "text": [
      "collect(F7) = F{7, BigInt}[F7(0), F7(1), F7(2), F7(3), F7(4), F7(5), F7(6)]\n",
      "squares(F7) = F{7, BigInt}[F7(0), F7(1), F7(4), F7(2), F7(2), F7(4), F7(1)]\n",
      "squareroots.(0:6, Ref(F7)) = Vector{F{7, BigInt}}[[F7(0)], [F7(1), F7(6)], [F7(3), F7(4)], [], [F7(2), F7(5)], [], []]\n"
     ]
    }
   ],
   "source": [
    "\"\"\"See https://docs.julialang.org/en/v1/manual/interfaces/\"\"\"\n",
    "Base.iterate(Fp::Type{F{p, T}}) where {p, T<:Integer} = (zero(Fp), zero(T))\n",
    "function Base.iterate(Fp::Type{F{p, T}}, state) where {p, T<:Integer}\n",
    "    nextstate = state + 1\n",
    "    nextstate < p ? (Fp(nextstate), nextstate) : nothing\n",
    "end\n",
    "Base.IteratorSize(Fp::Type{F{p, T}}) where {p, T<:Integer} = Base.HasLength()\n",
    "Base.length(Fp::Type{F{p, T}}) where {p, T<:Integer} = p\n",
    "Base.eltype(Fp::Type{F{p, T}}) where {p, T<:Integer} = Fp\n",
    "\n",
    "squares(Fp) = Fp[x^2 for x in Fp]\n",
    "squareroots(k, Fp) = Fp[x for x in Fp if x^2 == k]\n",
    "@show(collect(F7), squares(F7), squareroots.(0:6, Ref(F7)));"
   ]
  },
  {
   "cell_type": "code",
   "execution_count": 3,
   "id": "b9bc0f95-4979-4159-b894-915bc2bdcd23",
   "metadata": {},
   "outputs": [
    {
     "ename": "LoadError",
     "evalue": "MethodError: no method matching abs(::𝔽₇)\n\u001b[0mClosest candidates are:\n\u001b[0m  abs(\u001b[91m::Unsigned\u001b[39m) at int.jl:173\n\u001b[0m  abs(\u001b[91m::Signed\u001b[39m) at int.jl:174\n\u001b[0m  abs(\u001b[91m::Complex\u001b[39m) at complex.jl:277\n\u001b[0m  ...",
     "output_type": "error",
     "traceback": [
      "MethodError: no method matching abs(::𝔽₇)\n\u001b[0mClosest candidates are:\n\u001b[0m  abs(\u001b[91m::Unsigned\u001b[39m) at int.jl:173\n\u001b[0m  abs(\u001b[91m::Signed\u001b[39m) at int.jl:174\n\u001b[0m  abs(\u001b[91m::Complex\u001b[39m) at complex.jl:277\n\u001b[0m  ...",
      "",
      "Stacktrace:",
      " [1] generic_lufact!(A::Matrix{GaloisFields.PrimeField{Int8, 7}}, pivot::RowMaximum; check::Bool)",
      "   @ LinearAlgebra C:\\buildbot\\worker\\package_win64\\build\\usr\\share\\julia\\stdlib\\v1.8\\LinearAlgebra\\src\\lu.jl:157",
      " [2] #lu!#161",
      "   @ C:\\buildbot\\worker\\package_win64\\build\\usr\\share\\julia\\stdlib\\v1.8\\LinearAlgebra\\src\\lu.jl:141 [inlined]",
      " [3] lu(A::Matrix{GaloisFields.PrimeField{Int8, 7}}, pivot::RowMaximum; check::Bool)",
      "   @ LinearAlgebra C:\\buildbot\\worker\\package_win64\\build\\usr\\share\\julia\\stdlib\\v1.8\\LinearAlgebra\\src\\lu.jl:79",
      " [4] det(A::Matrix{GaloisFields.PrimeField{Int8, 7}})",
      "   @ LinearAlgebra C:\\buildbot\\worker\\package_win64\\build\\usr\\share\\julia\\stdlib\\v1.8\\LinearAlgebra\\src\\generic.jl:1557",
      " [5] top-level scope",
      "   @ In[3]:4",
      " [6] eval",
      "   @ .\\boot.jl:373 [inlined]",
      " [7] include_string(mapexpr::typeof(REPL.softscope), mod::Module, code::String, filename::String)",
      "   @ Base .\\loading.jl:1196"
     ]
    }
   ],
   "source": [
    "using GaloisFields, LinearAlgebra\n",
    "GF7 = @GaloisField 7\n",
    "B = GF7[1 2; 3 4]\n",
    "det(B)"
   ]
  },
  {
   "cell_type": "code",
   "execution_count": 4,
   "id": "864317c9-b3eb-460b-9b56-4cf7cd20746c",
   "metadata": {},
   "outputs": [
    {
     "ename": "LoadError",
     "evalue": "MethodError: no method matching abs(::𝔽₇)\n\u001b[0mClosest candidates are:\n\u001b[0m  abs(\u001b[91m::Unsigned\u001b[39m) at int.jl:173\n\u001b[0m  abs(\u001b[91m::Signed\u001b[39m) at int.jl:174\n\u001b[0m  abs(\u001b[91m::Complex\u001b[39m) at complex.jl:277\n\u001b[0m  ...",
     "output_type": "error",
     "traceback": [
      "MethodError: no method matching abs(::𝔽₇)\n\u001b[0mClosest candidates are:\n\u001b[0m  abs(\u001b[91m::Unsigned\u001b[39m) at int.jl:173\n\u001b[0m  abs(\u001b[91m::Signed\u001b[39m) at int.jl:174\n\u001b[0m  abs(\u001b[91m::Complex\u001b[39m) at complex.jl:277\n\u001b[0m  ...",
      "",
      "Stacktrace:",
      " [1] generic_lufact!(A::Matrix{𝔽₇}, pivot::RowMaximum; check::Bool)",
      "   @ LinearAlgebra C:\\buildbot\\worker\\package_win64\\build\\usr\\share\\julia\\stdlib\\v1.8\\LinearAlgebra\\src\\lu.jl:157",
      " [2] #lu!#161",
      "   @ C:\\buildbot\\worker\\package_win64\\build\\usr\\share\\julia\\stdlib\\v1.8\\LinearAlgebra\\src\\lu.jl:141 [inlined]",
      " [3] lu(A::Matrix{𝔽₇}, pivot::RowMaximum; check::Bool)",
      "   @ LinearAlgebra C:\\buildbot\\worker\\package_win64\\build\\usr\\share\\julia\\stdlib\\v1.8\\LinearAlgebra\\src\\lu.jl:79",
      " [4] lu (repeats 2 times)",
      "   @ C:\\buildbot\\worker\\package_win64\\build\\usr\\share\\julia\\stdlib\\v1.8\\LinearAlgebra\\src\\lu.jl:79 [inlined]",
      " [5] inv(A::Matrix{𝔽₇})",
      "   @ LinearAlgebra C:\\buildbot\\worker\\package_win64\\build\\usr\\share\\julia\\stdlib\\v1.8\\LinearAlgebra\\src\\dense.jl:874",
      " [6] top-level scope",
      "   @ In[4]:1",
      " [7] eval",
      "   @ .\\boot.jl:373 [inlined]",
      " [8] include_string(mapexpr::typeof(REPL.softscope), mod::Module, code::String, filename::String)",
      "   @ Base .\\loading.jl:1196"
     ]
    }
   ],
   "source": [
    "inv(B)"
   ]
  },
  {
   "cell_type": "code",
   "execution_count": 5,
   "id": "b13e8baa-ab8a-43f0-8a3a-814160a158a0",
   "metadata": {},
   "outputs": [
    {
     "ename": "LoadError",
     "evalue": "MethodError: no method matching abs(::𝔽₇)\n\u001b[0mClosest candidates are:\n\u001b[0m  abs(\u001b[91m::Unsigned\u001b[39m) at int.jl:173\n\u001b[0m  abs(\u001b[91m::Signed\u001b[39m) at int.jl:174\n\u001b[0m  abs(\u001b[91m::Complex\u001b[39m) at complex.jl:277\n\u001b[0m  ...",
     "output_type": "error",
     "traceback": [
      "MethodError: no method matching abs(::𝔽₇)\n\u001b[0mClosest candidates are:\n\u001b[0m  abs(\u001b[91m::Unsigned\u001b[39m) at int.jl:173\n\u001b[0m  abs(\u001b[91m::Signed\u001b[39m) at int.jl:174\n\u001b[0m  abs(\u001b[91m::Complex\u001b[39m) at complex.jl:277\n\u001b[0m  ...",
      "",
      "Stacktrace:",
      " [1] generic_lufact!(A::Matrix{𝔽₇}, pivot::RowMaximum; check::Bool)",
      "   @ LinearAlgebra C:\\buildbot\\worker\\package_win64\\build\\usr\\share\\julia\\stdlib\\v1.8\\LinearAlgebra\\src\\lu.jl:157",
      " [2] #lu!#161",
      "   @ C:\\buildbot\\worker\\package_win64\\build\\usr\\share\\julia\\stdlib\\v1.8\\LinearAlgebra\\src\\lu.jl:141 [inlined]",
      " [3] lu(A::Matrix{𝔽₇}, pivot::RowMaximum; check::Bool)",
      "   @ LinearAlgebra C:\\buildbot\\worker\\package_win64\\build\\usr\\share\\julia\\stdlib\\v1.8\\LinearAlgebra\\src\\lu.jl:79",
      " [4] lu (repeats 2 times)",
      "   @ C:\\buildbot\\worker\\package_win64\\build\\usr\\share\\julia\\stdlib\\v1.8\\LinearAlgebra\\src\\lu.jl:79 [inlined]",
      " [5] top-level scope",
      "   @ In[5]:1",
      " [6] eval",
      "   @ .\\boot.jl:373 [inlined]",
      " [7] include_string(mapexpr::typeof(REPL.softscope), mod::Module, code::String, filename::String)",
      "   @ Base .\\loading.jl:1196"
     ]
    }
   ],
   "source": [
    "lu(B)"
   ]
  },
  {
   "cell_type": "code",
   "execution_count": 6,
   "id": "b1a73608-969d-4323-93c3-a6084af9cee2",
   "metadata": {},
   "outputs": [
    {
     "name": "stdout",
     "output_type": "stream",
     "text": [
      "GF7 = GF(7) = Finite field F_7\n",
      "x = 3\n",
      "y = 5\n",
      "zero(x) = 0\n",
      "one(x) = 1\n",
      "-x = 4\n",
      "x + y = 1\n",
      "x - y = 5\n",
      "x * y = 1\n",
      "x ^ 3 = 6\n",
      "x ^ -5 = 3\n",
      "x == GF7(3) = true\n",
      "x == 3 = true\n",
      "\n",
      "C = GF7[1 2; 3 4] = [1 2; 3 4]\n",
      "(P, x) = PolynomialRing(GF7, \"x\") = (Univariate Polynomial Ring in x over Finite field F_7, x)\n",
      "det(C) = 5\n",
      "inv(C) = [5 1; 5 3]\n",
      "lu(C) = (2, (), [1 0; 3 1], [1 2; 0 5])\n",
      "charpoly(P, C) = x^2 + 2*x + 5\n",
      "\n",
      "collect(GF7) = AbstractAlgebra.GFElem{Int64}[0, 1, 2, 3, 4, 5, 6]\n",
      "squares(GF7) = AbstractAlgebra.GFElem{Int64}[0, 1, 4, 2, 2, 4, 1]\n",
      "squareroots.(0:6, Ref(GF7)) = Vector{AbstractAlgebra.GFElem{Int64}}[[0], [1, 6], [3, 4], [], [2, 5], [], []]\n"
     ]
    }
   ],
   "source": [
    "using AbstractAlgebra\n",
    "\n",
    "@show GF7 = GF(7)\n",
    "x, y = GF7(10), GF7(-2)\n",
    "@show(x, y, zero(x), one(x), -x, x + y, x - y, x * y, x^3, x^-5, x == GF7(3), x == 3)\n",
    "println()\n",
    "\n",
    "@show C = GF7[1 2; 3 4]\n",
    "@show P, x = PolynomialRing(GF7, \"x\")\n",
    "@show(det(C), inv(C), lu(C), charpoly(P, C))\n",
    "println()\n",
    "\n",
    "squares(Fp) = [x^2 for x in Fp]\n",
    "squareroots(k, Fp) = [x for x in Fp if x^2 == k]\n",
    "@show(collect(GF7), squares(GF7), squareroots.(0:6, Ref(GF7)));"
   ]
  },
  {
   "cell_type": "code",
   "execution_count": null,
   "id": "d60d8756-93e3-4cf8-8644-b354589b2799",
   "metadata": {},
   "outputs": [],
   "source": []
  }
 ],
 "metadata": {
  "jupytext": {
   "formats": "ipynb,jl:hydrogen"
  },
  "kernelspec": {
   "display_name": "Julia 1.8.0-DEV",
   "language": "julia",
   "name": "julia-1.8"
  },
  "language_info": {
   "file_extension": ".jl",
   "mimetype": "application/julia",
   "name": "julia",
   "version": "1.8.0"
  }
 },
 "nbformat": 4,
 "nbformat_minor": 5
}
