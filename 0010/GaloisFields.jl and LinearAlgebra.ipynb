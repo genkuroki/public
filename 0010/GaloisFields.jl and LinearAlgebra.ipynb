{
 "cells": [
  {
   "cell_type": "code",
   "execution_count": 1,
   "id": "98cf6b41-6e2a-4eb7-b191-3809d156d711",
   "metadata": {},
   "outputs": [
    {
     "data": {
      "text/plain": [
       "2×2 Matrix{𝔽₅}:\n",
       " 1  2\n",
       " 0  3"
      ]
     },
     "execution_count": 1,
     "metadata": {},
     "output_type": "execute_result"
    }
   ],
   "source": [
    "using GaloisFields, LinearAlgebra\n",
    "const F5 = @GaloisField 5\n",
    "A = F5[1 2; 0 3]"
   ]
  },
  {
   "cell_type": "code",
   "execution_count": 2,
   "id": "d9e329ff-75e5-4173-a69a-ad4589aec867",
   "metadata": {},
   "outputs": [
    {
     "data": {
      "text/plain": [
       "3"
      ]
     },
     "execution_count": 2,
     "metadata": {},
     "output_type": "execute_result"
    }
   ],
   "source": [
    "det(A)"
   ]
  },
  {
   "cell_type": "code",
   "execution_count": 3,
   "id": "062f4453-15d8-4c47-b332-a7b8a4dc8f53",
   "metadata": {},
   "outputs": [
    {
     "data": {
      "text/plain": [
       "2×2 Matrix{𝔽₅}:\n",
       " 1  2\n",
       " 3  4"
      ]
     },
     "execution_count": 3,
     "metadata": {},
     "output_type": "execute_result"
    }
   ],
   "source": [
    "B = F5[1 2; 3 4]"
   ]
  },
  {
   "cell_type": "code",
   "execution_count": 4,
   "id": "9b586e8a-ac5c-424c-b799-d4081c205a17",
   "metadata": {},
   "outputs": [
    {
     "ename": "LoadError",
     "evalue": "MethodError: no method matching abs(::𝔽₅)\n\u001b[0mClosest candidates are:\n\u001b[0m  abs(\u001b[91m::Unsigned\u001b[39m) at int.jl:173\n\u001b[0m  abs(\u001b[91m::Signed\u001b[39m) at int.jl:174\n\u001b[0m  abs(\u001b[91m::Complex\u001b[39m) at complex.jl:277\n\u001b[0m  ...",
     "output_type": "error",
     "traceback": [
      "MethodError: no method matching abs(::𝔽₅)\n\u001b[0mClosest candidates are:\n\u001b[0m  abs(\u001b[91m::Unsigned\u001b[39m) at int.jl:173\n\u001b[0m  abs(\u001b[91m::Signed\u001b[39m) at int.jl:174\n\u001b[0m  abs(\u001b[91m::Complex\u001b[39m) at complex.jl:277\n\u001b[0m  ...",
      "",
      "Stacktrace:",
      " [1] generic_lufact!(A::Matrix{𝔽₅}, pivot::RowMaximum; check::Bool)",
      "   @ LinearAlgebra C:\\buildbot\\worker\\package_win64\\build\\usr\\share\\julia\\stdlib\\v1.8\\LinearAlgebra\\src\\lu.jl:157",
      " [2] #lu!#161",
      "   @ C:\\buildbot\\worker\\package_win64\\build\\usr\\share\\julia\\stdlib\\v1.8\\LinearAlgebra\\src\\lu.jl:141 [inlined]",
      " [3] lu(A::Matrix{𝔽₅}, pivot::RowMaximum; check::Bool)",
      "   @ LinearAlgebra C:\\buildbot\\worker\\package_win64\\build\\usr\\share\\julia\\stdlib\\v1.8\\LinearAlgebra\\src\\lu.jl:79",
      " [4] det(A::Matrix{𝔽₅})",
      "   @ LinearAlgebra C:\\buildbot\\worker\\package_win64\\build\\usr\\share\\julia\\stdlib\\v1.8\\LinearAlgebra\\src\\generic.jl:1557",
      " [5] top-level scope",
      "   @ In[4]:1",
      " [6] eval",
      "   @ .\\boot.jl:373 [inlined]",
      " [7] include_string(mapexpr::typeof(REPL.softscope), mod::Module, code::String, filename::String)",
      "   @ Base .\\loading.jl:1196"
     ]
    }
   ],
   "source": [
    "det(B)"
   ]
  },
  {
   "cell_type": "code",
   "execution_count": 5,
   "id": "dadd4568-06ce-484b-a343-a393d41b95e1",
   "metadata": {},
   "outputs": [
    {
     "name": "stdout",
     "output_type": "stream",
     "text": [
      "𝔽₅\n",
      "  n: Int8 3\n"
     ]
    }
   ],
   "source": [
    "F5(3) |> dump"
   ]
  },
  {
   "cell_type": "code",
   "execution_count": 6,
   "id": "162c7dac-b1f8-4667-802c-d8b7e6982bf6",
   "metadata": {},
   "outputs": [
    {
     "name": "stdout",
     "output_type": "stream",
     "text": [
      "𝔽₅ <: GaloisFields.AbstractGaloisField\n",
      "  n::Int8\n"
     ]
    }
   ],
   "source": [
    "F5 |> dump"
   ]
  },
  {
   "cell_type": "code",
   "execution_count": 7,
   "id": "823490d0-fa13-4893-b9e8-902e2ce918c7",
   "metadata": {},
   "outputs": [
    {
     "data": {
      "text/plain": [
       "3"
      ]
     },
     "execution_count": 7,
     "metadata": {},
     "output_type": "execute_result"
    }
   ],
   "source": [
    "Base.abs(x::GaloisFields.PrimeField) = x.n # type-piracy!\n",
    "det(B)"
   ]
  },
  {
   "cell_type": "code",
   "execution_count": 8,
   "id": "fae07259-890a-4790-a27c-b07d237b7e10",
   "metadata": {},
   "outputs": [
    {
     "data": {
      "text/plain": [
       "20-element Vector{𝔽₃}:\n",
       " 1\n",
       " 2\n",
       " 2\n",
       " 1\n",
       " 2\n",
       " 2\n",
       " 2\n",
       " 1\n",
       " 2\n",
       " 2\n",
       " 2\n",
       " 0\n",
       " 2\n",
       " 2\n",
       " 0\n",
       " 1\n",
       " 1\n",
       " 1\n",
       " 0\n",
       " 1"
      ]
     },
     "execution_count": 8,
     "metadata": {},
     "output_type": "execute_result"
    }
   ],
   "source": [
    "F3 = @GaloisField 3\n",
    "[det(F3.(rand(0:2, 3, 3))) for _ in 1:20]"
   ]
  },
  {
   "cell_type": "code",
   "execution_count": 39,
   "id": "fe9c1ef5-9613-4da4-958e-25670723da1e",
   "metadata": {},
   "outputs": [
    {
     "data": {
      "text/plain": [
       "2×2 Matrix{𝔽₉}:\n",
       " a + 1  a + 2\n",
       " a + 2  a + 2"
      ]
     },
     "execution_count": 39,
     "metadata": {},
     "output_type": "execute_result"
    }
   ],
   "source": [
    "Base.abs(x::GaloisFields.ExtensionField) = x.coeffs # type-piracy!\n",
    "Base.isless(x::GaloisFields.PrimeField, y::GaloisFields.PrimeField) = isless(x.n, y.n) # type-piracy!\n",
    "F9 = @GaloisField! 3 a^2 + 1\n",
    "C = F9[1+a 2+a; 2+a 2+a]"
   ]
  },
  {
   "cell_type": "code",
   "execution_count": 37,
   "id": "8b52f951-05cd-4b7e-a8f7-0770355e59d5",
   "metadata": {},
   "outputs": [
    {
     "data": {
      "text/plain": [
       "2 * a + 1"
      ]
     },
     "execution_count": 37,
     "metadata": {},
     "output_type": "execute_result"
    }
   ],
   "source": [
    "det(C)"
   ]
  },
  {
   "cell_type": "code",
   "execution_count": null,
   "id": "f6e59076-7571-4329-b929-36e6188718a9",
   "metadata": {},
   "outputs": [],
   "source": []
  }
 ],
 "metadata": {
  "jupytext": {
   "formats": "ipynb,auto:hydrogen"
  },
  "kernelspec": {
   "display_name": "Julia 1.8.0-DEV",
   "language": "julia",
   "name": "julia-1.8"
  },
  "language_info": {
   "file_extension": ".jl",
   "mimetype": "application/julia",
   "name": "julia",
   "version": "1.8.0"
  }
 },
 "nbformat": 4,
 "nbformat_minor": 5
}
