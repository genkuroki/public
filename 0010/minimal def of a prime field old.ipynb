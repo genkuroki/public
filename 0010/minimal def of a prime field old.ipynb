{
 "cells": [
  {
   "cell_type": "code",
   "execution_count": 1,
   "id": "c30402f6-eafd-41b3-9f3b-3f9a5b0b5e21",
   "metadata": {},
   "outputs": [
    {
     "name": "stdout",
     "output_type": "stream",
     "text": [
      "x = F7(3)\n",
      "y = F7(5)\n",
      "zero(x) = F7(0)\n",
      "one(x) = F7(1)\n",
      "+x = F7(3)\n",
      "-x = F7(4)\n",
      "x + y = F7(1)\n",
      "x - y = F7(5)\n",
      "x * y = F7(1)\n",
      "x / y = F7(2)\n",
      "x \\ y = F7(4)\n",
      "x ^ 3 = F7(6)\n",
      "x ^ -5 = F7(3)\n",
      "x == F7(3) = true\n",
      "x == 3 = true\n",
      "\n",
      "A = F{7, BigInt}[F7(1) F7(2); F7(3) F7(4)]\n",
      "4A = F{7, BigInt}[F7(4) F7(1); F7(5) F7(2)]\n",
      "A / 4 = F{7, BigInt}[F7(2) F7(4); F7(6) F7(1)]\n",
      "\n",
      "L = F{7, BigInt}[F7(1) F7(0); F7(3) F7(1)]\n",
      "U = F{7, BigInt}[F7(1) F7(2); F7(0) F7(5)]\n",
      "L * U = F{7, BigInt}[F7(1) F7(2); F7(3) F7(4)]\n",
      "det(A) = F7(5)\n",
      "inv(A) = F{7, BigInt}[F7(5) F7(1); F7(5) F7(3)]\n",
      "inv(A) * A = F{7, BigInt}[F7(1) F7(0); F7(0) F7(1)]\n",
      "A * inv(A) = F{7, BigInt}[F7(1) F7(0); F7(0) F7(1)]\n"
     ]
    }
   ],
   "source": [
    "struct F{p, T<:Integer} <: Integer\n",
    "    a::T\n",
    "    F{p, T}(a::Integer) where {p, T<:Integer} = new{p, T}(mod(T(a), p))\n",
    "end\n",
    "F{p}(a::Integer) where p = F{p, typeof(a)}(mod(a, p))\n",
    "F{p, S}(x::F{p, T}) where {S<:Integer, p, T<:Integer} = F{p, S}(x.a)\n",
    "\n",
    "Base.promote_rule(::Type{F{p, T}}, ::Type{S}) where {p, T<:Integer, S<:Integer} =\n",
    "    F{p, promote_type(T, S)}\n",
    "\n",
    "Base.zero(::Type{F{p, T}}) where {p, T<:Integer} = F{p}(mod(zero(T), p))\n",
    "Base.one(::Type{F{p, T}}) where {p, T<:Integer} = F{p}(mod(one(T), p))\n",
    "for op in (:-, :+)\n",
    "    @eval Base.$op(x::F{p}) where p = F{p}(mod($op(x.a), p))\n",
    "end\n",
    "for op in (:-, :+, :*)\n",
    "    @eval Base.$op(x::F{p}, y::F{p}) where p = F{p}(mod($op(x.a, y.a), p))\n",
    "end\n",
    "Base.inv(x::F{p}) where p = F{p}(invmod(x.a, p))\n",
    "Base.:/(x::F{p}, y::F{p}) where p = x * inv(y)\n",
    "Base.:\\(x::F{p}, y::F{p}) where p = inv(x) * y\n",
    "Base.:(==)(x::F{p}, y::F{p}) where p = x.a == y.a\n",
    "Base.:<(x::F{p}, y::F{p}) where p = x.a < y.a\n",
    "\n",
    "Base.show(io::IO, x::F{p}) where p = print(io, \"F\", p, '(', x.a, ')')\n",
    "\n",
    "F7 = F{7, BigInt}\n",
    "x, y = F7(10), F7(-2)\n",
    "@show(x, y, zero(x), one(x), +x, -x, x + y, x - y, x * y, x / y, x \\ y, x^3, x^-5, x == F7(3), x == 3)\n",
    "println()\n",
    "A = F7[1 2; 3 4]\n",
    "@show(A, 4A, A/4)\n",
    "println()\n",
    "using LinearAlgebra\n",
    "L, U = lu(A, NoPivot())\n",
    "@show(L, U, L * U, det(A), inv(A), inv(A) * A, A * inv(A));"
   ]
  },
  {
   "cell_type": "code",
   "execution_count": 2,
   "id": "5f0f55af-5f7d-4171-9809-1ead64b72fc8",
   "metadata": {},
   "outputs": [
    {
     "name": "stdout",
     "output_type": "stream",
     "text": [
      "collect(F7) = F{7, BigInt}[F7(0), F7(1), F7(2), F7(3), F7(4), F7(5), F7(6)]\n",
      "squares(F7) = F{7, BigInt}[F7(0), F7(1), F7(4), F7(2), F7(2), F7(4), F7(1)]\n",
      "squareroots.(0:6, Ref(F7)) = Vector{F{7, BigInt}}[[F7(0)], [F7(1), F7(6)], [F7(3), F7(4)], [], [F7(2), F7(5)], [], []]\n"
     ]
    }
   ],
   "source": [
    "\"\"\"See https://docs.julialang.org/en/v1/manual/interfaces/\"\"\"\n",
    "Base.iterate(Fp::Type{F{p, T}}) where {p, T<:Integer} = (zero(Fp), zero(T))\n",
    "function Base.iterate(Fp::Type{F{p, T}}, state) where {p, T<:Integer}\n",
    "    nextstate = state + 1\n",
    "    nextstate < p ? (Fp(nextstate), nextstate) : nothing\n",
    "end\n",
    "Base.IteratorSize(Fp::Type{F{p, T}}) where {p, T<:Integer} = Base.HasLength()\n",
    "Base.length(Fp::Type{F{p, T}}) where {p, T<:Integer} = p\n",
    "Base.eltype(Fp::Type{F{p, T}}) where {p, T<:Integer} = Fp\n",
    "\n",
    "squares(Fp) = Fp[x^2 for x in Fp]\n",
    "squareroots(k, Fp) = Fp[x for x in Fp if x^2 == k]\n",
    "@show(collect(F7), squares(F7), squareroots.(0:6, Ref(F7)));"
   ]
  },
  {
   "cell_type": "code",
   "execution_count": 3,
   "id": "b9bc0f95-4979-4159-b894-915bc2bdcd23",
   "metadata": {},
   "outputs": [
    {
     "ename": "LoadError",
     "evalue": "syntax: extra token \"{\" after end of expression",
     "output_type": "error",
     "traceback": [
      "syntax: extra token \"{\" after end of expression",
      "",
      "Stacktrace:",
      " [1] top-level scope",
      "   @ In[3]:1",
      " [2] eval",
      "   @ .\\boot.jl:373 [inlined]",
      " [3] include_string(mapexpr::typeof(REPL.softscope), mod::Module, code::String, filename::String)",
      "   @ Base .\\loading.jl:1196"
     ]
    }
   ],
   "source": [
    "using GaloisFields, LinearAlgebra{}\n",
    "GF7 = @GaloisField 7\n",
    "B = GF7[1 2; 3 4]\n",
    "det(B)"
   ]
  },
  {
   "cell_type": "code",
   "execution_count": 4,
   "id": "864317c9-b3eb-460b-9b56-4cf7cd20746c",
   "metadata": {},
   "outputs": [
    {
     "ename": "LoadError",
     "evalue": "UndefVarError: B not defined",
     "output_type": "error",
     "traceback": [
      "UndefVarError: B not defined",
      "",
      "Stacktrace:",
      " [1] top-level scope",
      "   @ In[4]:1",
      " [2] eval",
      "   @ .\\boot.jl:373 [inlined]",
      " [3] include_string(mapexpr::typeof(REPL.softscope), mod::Module, code::String, filename::String)",
      "   @ Base .\\loading.jl:1196"
     ]
    }
   ],
   "source": [
    "inv(B)"
   ]
  },
  {
   "cell_type": "code",
   "execution_count": 5,
   "id": "b13e8baa-ab8a-43f0-8a3a-814160a158a0",
   "metadata": {},
   "outputs": [
    {
     "ename": "LoadError",
     "evalue": "UndefVarError: B not defined",
     "output_type": "error",
     "traceback": [
      "UndefVarError: B not defined",
      "",
      "Stacktrace:",
      " [1] top-level scope",
      "   @ In[5]:1",
      " [2] eval",
      "   @ .\\boot.jl:373 [inlined]",
      " [3] include_string(mapexpr::typeof(REPL.softscope), mod::Module, code::String, filename::String)",
      "   @ Base .\\loading.jl:1196"
     ]
    }
   ],
   "source": [
    "lu(B)"
   ]
  },
  {
   "cell_type": "code",
   "execution_count": 6,
   "id": "b1a73608-969d-4323-93c3-a6084af9cee2",
   "metadata": {},
   "outputs": [
    {
     "name": "stdout",
     "output_type": "stream",
     "text": [
      "GF7 = GF(7) = Finite field F_7\n",
      "(P, x) = PolynomialRing(GF7, \"x\") = (Univariate Polynomial Ring in x over Finite field F_7, x)\n",
      "C = GF7[1 2; 3 4] = [1 2; 3 4]\n",
      "\n",
      "det(C) = 5\n",
      "inv(C) = [5 1; 5 3]\n",
      "lu(C) = (2, (), [1 0; 3 1], [1 2; 0 5])\n",
      "charpoly(P, C) = x^2 + 2*x + 5\n",
      "\n",
      "collect(GF7) = AbstractAlgebra.GFElem{Int64}[0, 1, 2, 3, 4, 5, 6]\n",
      "squares(GF7) = AbstractAlgebra.GFElem{Int64}[0, 1, 4, 2, 2, 4, 1]\n",
      "squareroots.(0:6, Ref(GF7)) = Vector{AbstractAlgebra.GFElem{Int64}}[[0], [1, 6], [3, 4], [], [2, 5], [], []]\n"
     ]
    }
   ],
   "source": [
    "using AbstractAlgebra\n",
    "\n",
    "@show GF7 = GF(7)\n",
    "@show P, x = PolynomialRing(GF7, \"x\")\n",
    "@show C = GF7[1 2; 3 4]\n",
    "squares(Fp) = [x^2 for x in Fp]\n",
    "squareroots(k, Fp) = [x for x in Fp if x^2 == k]\n",
    "println()\n",
    "@show(det(C), inv(C), lu(C), charpoly(P, C))\n",
    "println()\n",
    "@show(collect(GF7), squares(GF7), squareroots.(0:6, Ref(GF7)));"
   ]
  },
  {
   "cell_type": "code",
   "execution_count": 7,
   "id": "dcab8f74-7be1-4872-bc2b-8db34739d7b8",
   "metadata": {},
   "outputs": [
    {
     "data": {
      "text/html": [
       "iterate(f::<b>FinField</b>) in AbstractAlgebra at <a href=\"file://D:/.julia/packages/AbstractAlgebra/hlSYb/src/algorithms/FinField.jl\" target=\"_blank\">D:\\.julia\\packages\\AbstractAlgebra\\hlSYb\\src\\algorithms\\FinField.jl:34</a>"
      ],
      "text/plain": [
       "iterate(f::FinField) in AbstractAlgebra at D:\\.julia\\packages\\AbstractAlgebra\\hlSYb\\src\\algorithms\\FinField.jl:34"
      ]
     },
     "execution_count": 7,
     "metadata": {},
     "output_type": "execute_result"
    }
   ],
   "source": [
    "@which iterate(GF7)"
   ]
  },
  {
   "cell_type": "code",
   "execution_count": 8,
   "id": "2f544fa9-d97d-43cb-aa88-6f3fb8586036",
   "metadata": {},
   "outputs": [
    {
     "name": "stdout",
     "output_type": "stream",
     "text": [
      "MethodInstance for iterate(::\u001b[0mType{F{7, BigInt}}, ::\u001b[0mBigInt)\n",
      "  from iterate(Fp::Type{F{p, T}}, state) where {p, T<:Integer} in Main at In[2]:3\n",
      "Static Parameters\n",
      "  p = \u001b[36m7\u001b[39m\n",
      "  T = \u001b[36mBigInt\u001b[39m\n",
      "Arguments\n",
      "  #self#\u001b[36m::Core.Const(iterate)\u001b[39m\n",
      "  Fp\u001b[36m::Core.Const(F{7, BigInt})\u001b[39m\n",
      "  state\u001b[36m::BigInt\u001b[39m\n",
      "Locals\n",
      "  nextstate\u001b[36m::BigInt\u001b[39m\n",
      "Body\u001b[33m\u001b[1m::Union{Nothing, Tuple{F{7, BigInt}, BigInt}}\u001b[22m\u001b[39m\n",
      "\u001b[90m1 ─\u001b[39m      (nextstate = state + 1)\n",
      "\u001b[90m│  \u001b[39m %2 = (nextstate < $(Expr(:static_parameter, 1)))\u001b[36m::Bool\u001b[39m\n",
      "\u001b[90m└──\u001b[39m      goto #3 if not %2\n",
      "\u001b[90m2 ─\u001b[39m %4 = (Fp)(nextstate)\u001b[36m::F{7, BigInt}\u001b[39m\n",
      "\u001b[90m│  \u001b[39m %5 = Core.tuple(%4, nextstate)\u001b[36m::Tuple{F{7, BigInt}, BigInt}\u001b[39m\n",
      "\u001b[90m└──\u001b[39m      return %5\n",
      "\u001b[90m3 ─\u001b[39m      return Main.nothing\n",
      "\n"
     ]
    }
   ],
   "source": [
    "@code_warntype iterate(F7, big(1))"
   ]
  },
  {
   "cell_type": "code",
   "execution_count": 9,
   "id": "185c15ca-cbe7-447f-8487-af06a5d38f71",
   "metadata": {},
   "outputs": [
    {
     "data": {
      "text/plain": [
       "2-element Vector{F{7, BigInt}}:\n",
       " F7(2)\n",
       " F7(5)"
      ]
     },
     "execution_count": 9,
     "metadata": {},
     "output_type": "execute_result"
    }
   ],
   "source": [
    "[x for x in F7 if x^2 == 4]"
   ]
  },
  {
   "cell_type": "code",
   "execution_count": 10,
   "id": "d4ebdb65-8da4-4681-963e-55df7a395ade",
   "metadata": {},
   "outputs": [
    {
     "data": {
      "text/plain": [
       "Any[]"
      ]
     },
     "execution_count": 10,
     "metadata": {},
     "output_type": "execute_result"
    }
   ],
   "source": [
    "[x for x in F7 if x^2 == 5]"
   ]
  },
  {
   "cell_type": "code",
   "execution_count": 11,
   "id": "228cc56d-f8ed-450a-a8e2-74cce2e4983e",
   "metadata": {},
   "outputs": [
    {
     "data": {
      "text/html": [
       "collect(itr::<b>Base.Generator</b>) in Base at <a href=\"https://github.com/JuliaLang/julia/tree/018977209bb4fd707ec61c59dfd31860abaa6717/base/array.jl#L704\" target=\"_blank\">array.jl:704</a>"
      ],
      "text/plain": [
       "collect(itr::Base.Generator) in Base at array.jl:704"
      ]
     },
     "execution_count": 11,
     "metadata": {},
     "output_type": "execute_result"
    }
   ],
   "source": [
    "@which collect(x for x in F7 if x^2 == 5)"
   ]
  },
  {
   "cell_type": "code",
   "execution_count": 12,
   "id": "98cf2e64-f14b-48f9-8bbc-fe835fefc582",
   "metadata": {},
   "outputs": [
    {
     "data": {
      "text/plain": [
       "Any"
      ]
     },
     "execution_count": 12,
     "metadata": {},
     "output_type": "execute_result"
    }
   ],
   "source": [
    "Base.@default_eltype(x for x in F7 if x^2 == 5)"
   ]
  },
  {
   "cell_type": "code",
   "execution_count": 13,
   "id": "540b0b65-b979-4865-8e48-e73dbb3d1abe",
   "metadata": {},
   "outputs": [
    {
     "data": {
      "text/plain": [
       "Any"
      ]
     },
     "execution_count": 13,
     "metadata": {},
     "output_type": "execute_result"
    }
   ],
   "source": [
    "Base.@default_eltype(x for x in F7 if x^2 == 5)"
   ]
  },
  {
   "cell_type": "code",
   "execution_count": 14,
   "id": "080cf3f9-e04f-4a12-8e63-b83bcecb82a4",
   "metadata": {},
   "outputs": [
    {
     "data": {
      "text/plain": [
       "quote\n",
       "    if (x for x = F7 if x ^ 2 == 5) isa Base.Generator && ((x for x = F7 if x ^ 2 == 5)).f isa Base.Type\n",
       "        ((x for x = F7 if x ^ 2 == 5)).f\n",
       "    else\n",
       "        (Base.Core).Compiler.return_type(Base._iterator_upper_bound, Base.Tuple{Base.typeof((x for x = F7 if x ^ 2 == 5))})\n",
       "    end\n",
       "end"
      ]
     },
     "execution_count": 14,
     "metadata": {},
     "output_type": "execute_result"
    }
   ],
   "source": [
    "(@macroexpand Base.@default_eltype(x for x in F7 if x^2 == 5)) |> Base.remove_linenums!"
   ]
  },
  {
   "cell_type": "code",
   "execution_count": 15,
   "id": "cec21721-33a0-44fe-b1e1-0727235641bb",
   "metadata": {},
   "outputs": [
    {
     "data": {
      "text/plain": [
       "Base.Generator{Base.Iterators.Filter{var\"#29#30\", DataType}, typeof(identity)}(identity, Base.Iterators.Filter{var\"#29#30\", DataType}(var\"#29#30\"(), F{7, BigInt}))"
      ]
     },
     "execution_count": 15,
     "metadata": {},
     "output_type": "execute_result"
    }
   ],
   "source": [
    "iter = (x for x in F7 if x^2 == 5)"
   ]
  },
  {
   "cell_type": "code",
   "execution_count": 16,
   "id": "0fce6e2c-61fc-42a4-a759-0310b5aec1a4",
   "metadata": {},
   "outputs": [
    {
     "ename": "LoadError",
     "evalue": "nothing",
     "output_type": "error",
     "traceback": [
      "nothing",
      "",
      "Stacktrace:",
      " [1] _iterator_upper_bound(itr::Base.Generator{Base.Iterators.Filter{var\"#29#30\", DataType}, typeof(identity)})",
      "   @ Base .\\array.jl:670",
      " [2] top-level scope",
      "   @ In[16]:1",
      " [3] eval",
      "   @ .\\boot.jl:373 [inlined]",
      " [4] include_string(mapexpr::typeof(REPL.softscope), mod::Module, code::String, filename::String)",
      "   @ Base .\\loading.jl:1196"
     ]
    }
   ],
   "source": [
    "Base._iterator_upper_bound(iter)"
   ]
  },
  {
   "cell_type": "code",
   "execution_count": 17,
   "id": "16634e0f-12fd-4527-891d-6bd781e90beb",
   "metadata": {},
   "outputs": [
    {
     "data": {
      "text/plain": [
       "Any"
      ]
     },
     "execution_count": 17,
     "metadata": {},
     "output_type": "execute_result"
    }
   ],
   "source": [
    "Core.Compiler.return_type(Base._iterator_upper_bound, Tuple{typeof(iter)})"
   ]
  },
  {
   "cell_type": "code",
   "execution_count": 18,
   "id": "559192f8-98e1-4bfc-baae-e4737aa7108a",
   "metadata": {},
   "outputs": [
    {
     "data": {
      "text/html": [
       "inferencebarrier(x) in Base at <a href=\"https://github.com/JuliaLang/julia/tree/018977209bb4fd707ec61c59dfd31860abaa6717/base/essentials.jl#L756\" target=\"_blank\">essentials.jl:756</a>"
      ],
      "text/plain": [
       "inferencebarrier(x) in Base at essentials.jl:756"
      ]
     },
     "execution_count": 18,
     "metadata": {},
     "output_type": "execute_result"
    }
   ],
   "source": [
    "@which Base.inferencebarrier(nothing)"
   ]
  },
  {
   "cell_type": "code",
   "execution_count": 19,
   "id": "153f01d2-1153-40c9-803d-eba54d9d6aef",
   "metadata": {},
   "outputs": [
    {
     "data": {
      "text/plain": [
       "Base.Generator{Base.Iterators.Filter{var\"#31#32\", DataType}, typeof(identity)}(identity, Base.Iterators.Filter{var\"#31#32\", DataType}(var\"#31#32\"(), F{7, BigInt}))"
      ]
     },
     "execution_count": 19,
     "metadata": {},
     "output_type": "execute_result"
    }
   ],
   "source": [
    "iter2 = (x for x in F7 if x^2 == 4)"
   ]
  },
  {
   "cell_type": "code",
   "execution_count": 20,
   "id": "942f138a-b94a-4938-93af-4ed46c2a2ecd",
   "metadata": {},
   "outputs": [
    {
     "ename": "LoadError",
     "evalue": "TypeError: non-boolean (Nothing) used in boolean context",
     "output_type": "error",
     "traceback": [
      "TypeError: non-boolean (Nothing) used in boolean context",
      "",
      "Stacktrace:",
      " [1] _iterator_upper_bound(itr::Base.Generator{Base.Iterators.Filter{var\"#31#32\", DataType}, typeof(identity)})",
      "   @ Base .\\array.jl:665",
      " [2] top-level scope",
      "   @ In[20]:1",
      " [3] eval",
      "   @ .\\boot.jl:373 [inlined]",
      " [4] include_string(mapexpr::typeof(REPL.softscope), mod::Module, code::String, filename::String)",
      "   @ Base .\\loading.jl:1196"
     ]
    }
   ],
   "source": [
    "Base._iterator_upper_bound(iter2)"
   ]
  },
  {
   "cell_type": "code",
   "execution_count": 21,
   "id": "568dd88d-c8e0-4355-aa00-a2f0163fd73d",
   "metadata": {},
   "outputs": [
    {
     "data": {
      "text/plain": [
       "2-element Vector{AbstractAlgebra.GFElem{Int64}}:\n",
       " 2\n",
       " 5"
      ]
     },
     "execution_count": 21,
     "metadata": {},
     "output_type": "execute_result"
    }
   ],
   "source": [
    "iter3 = (x for x in GF7 if x^2 == 4)\n",
    "collect(iter3)"
   ]
  },
  {
   "cell_type": "code",
   "execution_count": 22,
   "id": "c2659794-2e49-419f-a749-61bd76365cda",
   "metadata": {},
   "outputs": [
    {
     "data": {
      "text/plain": [
       "AbstractAlgebra.GFElem{Int64}[]"
      ]
     },
     "execution_count": 22,
     "metadata": {},
     "output_type": "execute_result"
    }
   ],
   "source": [
    "iter4 = (x for x in GF7 if x^2 == 5)\n",
    "collect(iter4)"
   ]
  },
  {
   "cell_type": "code",
   "execution_count": 23,
   "id": "b886c4b7-4197-4a4c-8df2-d12aac9ce87e",
   "metadata": {},
   "outputs": [
    {
     "data": {
      "text/plain": [
       "AbstractAlgebra.GFElem{Int64}"
      ]
     },
     "execution_count": 23,
     "metadata": {},
     "output_type": "execute_result"
    }
   ],
   "source": [
    "Core.Compiler.return_type(Base._iterator_upper_bound, Tuple{typeof(iter4)})"
   ]
  },
  {
   "cell_type": "code",
   "execution_count": 24,
   "id": "60a991cf-f177-4765-84c2-c726c801da72",
   "metadata": {},
   "outputs": [
    {
     "ename": "LoadError",
     "evalue": "nothing",
     "output_type": "error",
     "traceback": [
      "nothing",
      "",
      "Stacktrace:",
      " [1] _iterator_upper_bound(itr::Base.Generator{Base.Iterators.Filter{var\"#35#36\", AbstractAlgebra.GFField{Int64}}, typeof(identity)})",
      "   @ Base .\\array.jl:670",
      " [2] top-level scope",
      "   @ In[24]:1",
      " [3] eval",
      "   @ .\\boot.jl:373 [inlined]",
      " [4] include_string(mapexpr::typeof(REPL.softscope), mod::Module, code::String, filename::String)",
      "   @ Base .\\loading.jl:1196"
     ]
    }
   ],
   "source": [
    "Base._iterator_upper_bound(iter4)"
   ]
  },
  {
   "cell_type": "code",
   "execution_count": 25,
   "id": "345bf33b-a40a-4030-9fcc-318438ac02a2",
   "metadata": {},
   "outputs": [
    {
     "name": "stdout",
     "output_type": "stream",
     "text": [
      "MethodInstance for Base._iterator_upper_bound(::\u001b[0mBase.Generator{Base.Iterators.Filter{var\"#35#36\", AbstractAlgebra.GFField{Int64}}, typeof(identity)})\n",
      "  from _iterator_upper_bound(itr) in Base at array.jl:661\n",
      "Arguments\n",
      "  #self#\u001b[36m::Core.Const(Base._iterator_upper_bound)\u001b[39m\n",
      "  itr\u001b[36m::Base.Generator{Base.Iterators.Filter{var\"#35#36\", AbstractAlgebra.GFField{Int64}}, typeof(identity)}\u001b[39m\n",
      "Locals\n",
      "  x\u001b[33m\u001b[1m::Union{Nothing, Tuple{AbstractAlgebra.GFElem{Int64}, AbstractAlgebra.FinFieldIterator{AbstractAlgebra.GFElem{Int64}}}}\u001b[22m\u001b[39m\n",
      "  val\u001b[36m::AbstractAlgebra.GFElem{Int64}\u001b[39m\n",
      "Body\u001b[36m::AbstractAlgebra.GFElem{Int64}\u001b[39m\n",
      "\u001b[90m1 ─\u001b[39m      (x = Base.iterate(itr))\n",
      "\u001b[90m2 ┄\u001b[39m %2 = (x !== Base.nothing)\u001b[36m::Bool\u001b[39m\n",
      "\u001b[90m└──\u001b[39m      goto #6 if not %2\n",
      "\u001b[90m3 ─\u001b[39m      (val = Base.getfield(x::Tuple{AbstractAlgebra.GFElem{Int64}, AbstractAlgebra.FinFieldIterator{AbstractAlgebra.GFElem{Int64}}}, 1))\n",
      "\u001b[90m│  \u001b[39m %5 = Base.inferencebarrier(Base.nothing)\u001b[91m\u001b[1m::Any\u001b[22m\u001b[39m\n",
      "\u001b[90m└──\u001b[39m      goto #5 if not %5\n",
      "\u001b[90m4 ─\u001b[39m      return val\n",
      "\u001b[90m5 ─\u001b[39m %8 = Base.getfield(x::Tuple{AbstractAlgebra.GFElem{Int64}, AbstractAlgebra.FinFieldIterator{AbstractAlgebra.GFElem{Int64}}}, 2)\u001b[36m::AbstractAlgebra.FinFieldIterator{AbstractAlgebra.GFElem{Int64}}\u001b[39m\n",
      "\u001b[90m│  \u001b[39m      (x = Base.iterate(itr, %8))\n",
      "\u001b[90m└──\u001b[39m      goto #2\n",
      "\u001b[90m6 ─\u001b[39m      Base.throw(Base.nothing)\n",
      "\u001b[90m└──\u001b[39m      Core.Const(:(return %11))\n",
      "\n"
     ]
    }
   ],
   "source": [
    "@code_warntype Base._iterator_upper_bound(iter4)"
   ]
  },
  {
   "cell_type": "code",
   "execution_count": 26,
   "id": "7ef64dbd-9e3e-4cb2-b05c-0778a3d8b195",
   "metadata": {},
   "outputs": [
    {
     "name": "stdout",
     "output_type": "stream",
     "text": [
      "MethodInstance for Base._iterator_upper_bound(::\u001b[0mBase.Generator{Base.Iterators.Filter{var\"#31#32\", DataType}, typeof(identity)})\n",
      "  from _iterator_upper_bound(itr) in Base at array.jl:661\n",
      "Arguments\n",
      "  #self#\u001b[36m::Core.Const(Base._iterator_upper_bound)\u001b[39m\n",
      "  itr\u001b[36m::Base.Generator{Base.Iterators.Filter{var\"#31#32\", DataType}, typeof(identity)}\u001b[39m\n",
      "Locals\n",
      "  x\u001b[33m\u001b[1m::Union{Nothing, Tuple{Any, Any}}\u001b[22m\u001b[39m\n",
      "  val\u001b[91m\u001b[1m::Any\u001b[22m\u001b[39m\n",
      "Body\u001b[91m\u001b[1m::Any\u001b[22m\u001b[39m\n",
      "\u001b[90m1 ─\u001b[39m      (x = Base.iterate(itr))\n",
      "\u001b[90m2 ┄\u001b[39m %2 = (x !== Base.nothing)\u001b[36m::Bool\u001b[39m\n",
      "\u001b[90m└──\u001b[39m      goto #6 if not %2\n",
      "\u001b[90m3 ─\u001b[39m      (val = Base.getfield(x::Tuple{Any, Any}, 1))\n",
      "\u001b[90m│  \u001b[39m %5 = Base.inferencebarrier(Base.nothing)\u001b[91m\u001b[1m::Any\u001b[22m\u001b[39m\n",
      "\u001b[90m└──\u001b[39m      goto #5 if not %5\n",
      "\u001b[90m4 ─\u001b[39m      return val\n",
      "\u001b[90m5 ─\u001b[39m %8 = Base.getfield(x::Tuple{Any, Any}, 2)\u001b[91m\u001b[1m::Any\u001b[22m\u001b[39m\n",
      "\u001b[90m│  \u001b[39m      (x = Base.iterate(itr, %8))\n",
      "\u001b[90m└──\u001b[39m      goto #2\n",
      "\u001b[90m6 ─\u001b[39m      Base.throw(Base.nothing)\n",
      "\u001b[90m└──\u001b[39m      Core.Const(:(return %11))\n",
      "\n"
     ]
    }
   ],
   "source": [
    "@code_warntype Base._iterator_upper_bound(iter2)"
   ]
  },
  {
   "cell_type": "code",
   "execution_count": 27,
   "id": "2edd978e-2006-4594-a36c-d3c51409e4b0",
   "metadata": {},
   "outputs": [
    {
     "name": "stdout",
     "output_type": "stream",
     "text": [
      "MethodInstance for iterate(::\u001b[0mBase.Generator{Base.Iterators.Filter{var\"#35#36\", AbstractAlgebra.GFField{Int64}}, typeof(identity)})\n",
      "  from iterate(g::Base.Generator, s...) in Base at generator.jl:42\n",
      "Arguments\n",
      "  #self#\u001b[36m::Core.Const(iterate)\u001b[39m\n",
      "  g\u001b[36m::Base.Generator{Base.Iterators.Filter{var\"#35#36\", AbstractAlgebra.GFField{Int64}}, typeof(identity)}\u001b[39m\n",
      "  s\u001b[36m::Tuple{}\u001b[39m\n",
      "Locals\n",
      "  y\u001b[33m\u001b[1m::Union{Nothing, Tuple{AbstractAlgebra.GFElem{Int64}, AbstractAlgebra.FinFieldIterator{AbstractAlgebra.GFElem{Int64}}}}\u001b[22m\u001b[39m\n",
      "Body\u001b[33m\u001b[1m::Union{Nothing, Tuple{AbstractAlgebra.GFElem{Int64}, AbstractAlgebra.FinFieldIterator{AbstractAlgebra.GFElem{Int64}}}}\u001b[22m\u001b[39m\n",
      "\u001b[90m1 ─\u001b[39m       nothing\n",
      "\u001b[90m│  \u001b[39m %2  = Base.getproperty(g, :iter)\u001b[36m::Base.Iterators.Filter{var\"#35#36\", AbstractAlgebra.GFField{Int64}}\u001b[39m\n",
      "\u001b[90m│  \u001b[39m %3  = Core.tuple(%2)\u001b[36m::Tuple{Base.Iterators.Filter{var\"#35#36\", AbstractAlgebra.GFField{Int64}}}\u001b[39m\n",
      "\u001b[90m│  \u001b[39m       (y = Core._apply_iterate(Base.iterate, Base.iterate, %3, s))\n",
      "\u001b[90m│  \u001b[39m %5  = (y === Base.nothing)\u001b[36m::Bool\u001b[39m\n",
      "\u001b[90m└──\u001b[39m       goto #3 if not %5\n",
      "\u001b[90m2 ─\u001b[39m       return Base.nothing\n",
      "\u001b[90m3 ─\u001b[39m %8  = y\u001b[36m::Tuple{AbstractAlgebra.GFElem{Int64}, AbstractAlgebra.FinFieldIterator{AbstractAlgebra.GFElem{Int64}}}\u001b[39m\n",
      "\u001b[90m│  \u001b[39m %9  = Core.apply_type(Base.Tuple, Base.Any, Base.Any)\u001b[36m::Core.Const(Tuple{Any, Any})\u001b[39m\n",
      "\u001b[90m│  \u001b[39m       (y = Core.typeassert(%8, %9))\n",
      "\u001b[90m│  \u001b[39m %11 = Base.getproperty(g, :f)\u001b[36m::Core.Const(identity)\u001b[39m\n",
      "\u001b[90m│  \u001b[39m %12 = Base.getindex(y::Tuple{AbstractAlgebra.GFElem{Int64}, AbstractAlgebra.FinFieldIterator{AbstractAlgebra.GFElem{Int64}}}, 1)\u001b[36m::AbstractAlgebra.GFElem{Int64}\u001b[39m\n",
      "\u001b[90m│  \u001b[39m %13 = (%11)(%12)\u001b[36m::AbstractAlgebra.GFElem{Int64}\u001b[39m\n",
      "\u001b[90m│  \u001b[39m %14 = Base.getindex(y::Tuple{AbstractAlgebra.GFElem{Int64}, AbstractAlgebra.FinFieldIterator{AbstractAlgebra.GFElem{Int64}}}, 2)\u001b[36m::AbstractAlgebra.FinFieldIterator{AbstractAlgebra.GFElem{Int64}}\u001b[39m\n",
      "\u001b[90m│  \u001b[39m %15 = Core.tuple(%13, %14)\u001b[36m::Tuple{AbstractAlgebra.GFElem{Int64}, AbstractAlgebra.FinFieldIterator{AbstractAlgebra.GFElem{Int64}}}\u001b[39m\n",
      "\u001b[90m└──\u001b[39m       return %15\n",
      "\n"
     ]
    }
   ],
   "source": [
    "@code_warntype iterate(iter4)"
   ]
  },
  {
   "cell_type": "code",
   "execution_count": 28,
   "id": "671a264e-78aa-4073-bc34-f5dc64e0a4a5",
   "metadata": {},
   "outputs": [
    {
     "name": "stdout",
     "output_type": "stream",
     "text": [
      "MethodInstance for iterate(::\u001b[0mBase.Generator{Base.Iterators.Filter{var\"#29#30\", DataType}, typeof(identity)})\n",
      "  from iterate(g::Base.Generator, s...) in Base at generator.jl:42\n",
      "Arguments\n",
      "  #self#\u001b[36m::Core.Const(iterate)\u001b[39m\n",
      "  g\u001b[36m::Base.Generator{Base.Iterators.Filter{var\"#29#30\", DataType}, typeof(identity)}\u001b[39m\n",
      "  s\u001b[36m::Tuple{}\u001b[39m\n",
      "Locals\n",
      "  y\u001b[33m\u001b[1m::Union{Nothing, Tuple{Any, Any}}\u001b[22m\u001b[39m\n",
      "Body\u001b[33m\u001b[1m::Union{Nothing, Tuple{Any, Any}}\u001b[22m\u001b[39m\n",
      "\u001b[90m1 ─\u001b[39m       nothing\n",
      "\u001b[90m│  \u001b[39m %2  = Base.getproperty(g, :iter)\u001b[36m::Base.Iterators.Filter{var\"#29#30\", DataType}\u001b[39m\n",
      "\u001b[90m│  \u001b[39m %3  = Core.tuple(%2)\u001b[36m::Tuple{Base.Iterators.Filter{var\"#29#30\", DataType}}\u001b[39m\n",
      "\u001b[90m│  \u001b[39m       (y = Core._apply_iterate(Base.iterate, Base.iterate, %3, s))\n",
      "\u001b[90m│  \u001b[39m %5  = (y === Base.nothing)\u001b[36m::Bool\u001b[39m\n",
      "\u001b[90m└──\u001b[39m       goto #3 if not %5\n",
      "\u001b[90m2 ─\u001b[39m       return Base.nothing\n",
      "\u001b[90m3 ─\u001b[39m %8  = y\u001b[91m\u001b[1m::Tuple{Any, Any}\u001b[22m\u001b[39m\n",
      "\u001b[90m│  \u001b[39m %9  = Core.apply_type(Base.Tuple, Base.Any, Base.Any)\u001b[36m::Core.Const(Tuple{Any, Any})\u001b[39m\n",
      "\u001b[90m│  \u001b[39m       (y = Core.typeassert(%8, %9))\n",
      "\u001b[90m│  \u001b[39m %11 = Base.getproperty(g, :f)\u001b[36m::Core.Const(identity)\u001b[39m\n",
      "\u001b[90m│  \u001b[39m %12 = Base.getindex(y::Tuple{Any, Any}, 1)\u001b[91m\u001b[1m::Any\u001b[22m\u001b[39m\n",
      "\u001b[90m│  \u001b[39m %13 = (%11)(%12)\u001b[91m\u001b[1m::Any\u001b[22m\u001b[39m\n",
      "\u001b[90m│  \u001b[39m %14 = Base.getindex(y::Tuple{Any, Any}, 2)\u001b[91m\u001b[1m::Any\u001b[22m\u001b[39m\n",
      "\u001b[90m│  \u001b[39m %15 = Core.tuple(%13, %14)\u001b[91m\u001b[1m::Tuple{Any, Any}\u001b[22m\u001b[39m\n",
      "\u001b[90m└──\u001b[39m       return %15\n",
      "\n"
     ]
    }
   ],
   "source": [
    "@code_warntype iterate(iter)"
   ]
  },
  {
   "cell_type": "code",
   "execution_count": 29,
   "id": "d03e6eaa-37dd-41cd-86de-6a574fc6ff82",
   "metadata": {},
   "outputs": [
    {
     "data": {
      "text/plain": [
       "(2, AbstractAlgebra.FinFieldIterator{AbstractAlgebra.GFElem{Int64}}(AbstractAlgebra.GFElem{Int64}[1], [2]))"
      ]
     },
     "execution_count": 29,
     "metadata": {},
     "output_type": "execute_result"
    }
   ],
   "source": [
    "Core._apply_iterate(Base.iterate, Base.iterate, Core.tuple(iter3.iter), ())"
   ]
  },
  {
   "cell_type": "code",
   "execution_count": 30,
   "id": "40bedf02-5f9f-4702-826d-e970274b7168",
   "metadata": {},
   "outputs": [
    {
     "data": {
      "text/plain": [
       "(F7(2), 2)"
      ]
     },
     "execution_count": 30,
     "metadata": {},
     "output_type": "execute_result"
    }
   ],
   "source": [
    "Core._apply_iterate(Base.iterate, Base.iterate, Core.tuple(iter2.iter), ())"
   ]
  },
  {
   "cell_type": "code",
   "execution_count": 31,
   "id": "ba6fd90a-d258-457a-b136-45c9f5d58409",
   "metadata": {},
   "outputs": [
    {
     "data": {
      "text/plain": [
       "(Base.Iterators.Filter{var\"#29#30\", DataType}(var\"#29#30\"(), F{7, BigInt}),)"
      ]
     },
     "execution_count": 31,
     "metadata": {},
     "output_type": "execute_result"
    }
   ],
   "source": [
    "Core.tuple(iter.iter)"
   ]
  },
  {
   "cell_type": "code",
   "execution_count": 32,
   "id": "22af083f-6637-423d-bfd1-86569e01536a",
   "metadata": {},
   "outputs": [
    {
     "data": {
      "text/plain": [
       "(Base.Iterators.Filter{var\"#35#36\", AbstractAlgebra.GFField{Int64}}(var\"#35#36\"(), Finite field F_7),)"
      ]
     },
     "execution_count": 32,
     "metadata": {},
     "output_type": "execute_result"
    }
   ],
   "source": [
    "Core.tuple(iter4.iter)"
   ]
  },
  {
   "cell_type": "code",
   "execution_count": null,
   "id": "48cee630-0a81-4b67-83e2-0678ef38d9c9",
   "metadata": {},
   "outputs": [],
   "source": []
  }
 ],
 "metadata": {
  "jupytext": {
   "formats": "ipynb,jl:hydrogen"
  },
  "kernelspec": {
   "display_name": "Julia 1.8.0-DEV",
   "language": "julia",
   "name": "julia-1.8"
  },
  "language_info": {
   "file_extension": ".jl",
   "mimetype": "application/julia",
   "name": "julia",
   "version": "1.8.0"
  }
 },
 "nbformat": 4,
 "nbformat_minor": 5
}
