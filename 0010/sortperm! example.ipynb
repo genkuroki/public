{
 "cells": [
  {
   "cell_type": "markdown",
   "id": "8c0bbe77-9ba3-4a8e-87e8-c13b42661bf8",
   "metadata": {},
   "source": [
    "https://twitter.com/physics303/status/1414522243216859143?s=21"
   ]
  },
  {
   "cell_type": "code",
   "execution_count": 1,
   "id": "ab26fe3a-020a-4402-aee7-edf50cb93385",
   "metadata": {},
   "outputs": [
    {
     "name": "stdout",
     "output_type": "stream",
     "text": [
      "ix = [199430896, 199431024, 199431056, 199432816, 0]\n",
      "tmp = [[0, 304413312, 303997008, 0, 304413312, 303997008], [0, 304413312, 303997008, 0, 304413312, 318519168], [180640488, 180595872, 180988944, 180883752, 180314280, 180725408], [0, 304413312, 303997008, 0, 304413312, 303997008], [305538448, 305538272, 304016512, 304016336, 303997008, 304016512]]\n",
      "f(B) == g!(B, ix, tmp) = true\n",
      "  0.000013 seconds (9 allocations: 1024 bytes)\n",
      "  0.000011 seconds (2 allocations: 112 bytes)\n"
     ]
    },
    {
     "data": {
      "text/plain": [
       "5-element Vector{Int64}:\n",
       " 1\n",
       " 5\n",
       " 3\n",
       " 4\n",
       " 2"
      ]
     },
     "execution_count": 1,
     "metadata": {},
     "output_type": "execute_result"
    }
   ],
   "source": [
    "f(A) = sortperm(sort.(collect(eachrow(A))); rev=true)\n",
    "\n",
    "function g!(A, ix, tmp)\n",
    "    for i in axes(A, 1) tmp[i] .= @view A[i, :] end\n",
    "    sort!.(tmp)\n",
    "    sortperm!(ix, tmp; rev=true)\n",
    "end\n",
    "\n",
    "function maketmp(A)\n",
    "    ix = Vector{Int}(undef, size(A, 1))\n",
    "    tmp = [Vector{eltype(A)}(undef, size(A, 2)) for _ in 1:size(A, 1)]\n",
    "    ix, tmp\n",
    "end\n",
    "\n",
    "B = [\n",
    "    2 4 4 4 5 9\n",
    "    1 2 2 3 5 9\n",
    "    1 2 3 3 3 9\n",
    "    1 2 2 5 6 9\n",
    "    1 3 4 4 4 9\n",
    "]\n",
    "\n",
    "ix, tmp = maketmp(B)\n",
    "@show ix\n",
    "@show tmp\n",
    "@show f(B) == g!(B, ix, tmp)\n",
    "@time f(B)\n",
    "@time g!(B, ix, tmp)"
   ]
  },
  {
   "cell_type": "code",
   "execution_count": 2,
   "id": "aa0cc936-76a9-44d4-91cc-ab43e0d2bc5f",
   "metadata": {},
   "outputs": [
    {
     "name": "stdout",
     "output_type": "stream",
     "text": [
      "  676.821 ns (9 allocations: 1.00 KiB)\n",
      "  523.936 ns (2 allocations: 112 bytes)\n"
     ]
    },
    {
     "data": {
      "text/plain": [
       "5-element Vector{Int64}:\n",
       " 1\n",
       " 5\n",
       " 3\n",
       " 4\n",
       " 2"
      ]
     },
     "execution_count": 2,
     "metadata": {},
     "output_type": "execute_result"
    }
   ],
   "source": [
    "using BenchmarkTools\n",
    "@btime f($B)\n",
    "@btime g!($B, $ix, $tmp)"
   ]
  },
  {
   "cell_type": "code",
   "execution_count": null,
   "id": "d898862e-f163-481c-82ca-23d87e127b0a",
   "metadata": {},
   "outputs": [],
   "source": []
  }
 ],
 "metadata": {
  "jupytext": {
   "formats": "ipynb,auto:hydrogen"
  },
  "kernelspec": {
   "display_name": "Julia 1.8.0-DEV",
   "language": "julia",
   "name": "julia-1.8"
  },
  "language_info": {
   "file_extension": ".jl",
   "mimetype": "application/julia",
   "name": "julia",
   "version": "1.8.0"
  }
 },
 "nbformat": 4,
 "nbformat_minor": 5
}
