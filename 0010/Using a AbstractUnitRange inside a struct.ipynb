{
 "cells": [
  {
   "cell_type": "markdown",
   "id": "801a0d27-6c18-4d40-b283-df6c9252868e",
   "metadata": {},
   "source": [
    "https://discourse.julialang.org/t/using-a-abstractunitrange-inside-a-struct/64463/5"
   ]
  },
  {
   "cell_type": "code",
   "execution_count": 1,
   "id": "37e20c33-647b-449f-a88a-02b23fde13df",
   "metadata": {},
   "outputs": [
    {
     "data": {
      "text/plain": [
       "BechmarkTools.Trial: 10000 samples with 1000 evaluations.\n",
       " Range \u001b[90m(\u001b[39m\u001b[36m\u001b[1mmin\u001b[22m\u001b[39m … \u001b[35mmax\u001b[39m\u001b[90m):  \u001b[39m\u001b[36m\u001b[1m12.200 ns\u001b[22m\u001b[39m … \u001b[35m55.000 ns\u001b[39m  \u001b[90m┊\u001b[39m GC \u001b[90m(\u001b[39mmin … max\u001b[90m): \u001b[39m0.00% … 0.00%\n",
       " Time  \u001b[90m(\u001b[39m\u001b[34m\u001b[1mmedian\u001b[22m\u001b[39m\u001b[90m):     \u001b[39m\u001b[34m\u001b[1m12.800 ns              \u001b[22m\u001b[39m\u001b[90m┊\u001b[39m GC \u001b[90m(\u001b[39mmedian\u001b[90m):    \u001b[39m0.00%\n",
       " Time  \u001b[90m(\u001b[39m\u001b[32m\u001b[1mmean\u001b[22m\u001b[39m ± \u001b[32mσ\u001b[39m\u001b[90m):   \u001b[39m\u001b[32m\u001b[1m14.394 ns\u001b[22m\u001b[39m ± \u001b[32m 3.772 ns\u001b[39m  \u001b[90m┊\u001b[39m GC \u001b[90m(\u001b[39mmean ± σ\u001b[90m):  \u001b[39m0.00% ± 0.00%\n",
       "\n",
       "  \u001b[39m█\u001b[39m█\u001b[34m▄\u001b[39m\u001b[39m▃\u001b[39m▂\u001b[39m▁\u001b[32m▁\u001b[39m\u001b[39m▁\u001b[39m▂\u001b[39m▅\u001b[39m▁\u001b[39m▇\u001b[39m▄\u001b[39m▂\u001b[39m▁\u001b[39m▃\u001b[39m \u001b[39m▃\u001b[39m \u001b[39m \u001b[39m \u001b[39m \u001b[39m \u001b[39m \u001b[39m \u001b[39m \u001b[39m \u001b[39m \u001b[39m \u001b[39m \u001b[39m \u001b[39m \u001b[39m \u001b[39m \u001b[39m \u001b[39m \u001b[39m \u001b[39m \u001b[39m \u001b[39m \u001b[39m \u001b[39m▁\u001b[39m \u001b[39m \u001b[39m \u001b[39m \u001b[39m \u001b[39m \u001b[39m \u001b[39m \u001b[39m \u001b[39m \u001b[39m \u001b[39m \u001b[39m \u001b[39m \u001b[39m \u001b[39m▁\u001b[39m \u001b[39m \u001b[39m▂\n",
       "  \u001b[39m█\u001b[39m█\u001b[34m█\u001b[39m\u001b[39m█\u001b[39m█\u001b[39m█\u001b[32m█\u001b[39m\u001b[39m█\u001b[39m█\u001b[39m█\u001b[39m█\u001b[39m█\u001b[39m█\u001b[39m█\u001b[39m█\u001b[39m█\u001b[39m█\u001b[39m█\u001b[39m▅\u001b[39m▅\u001b[39m▃\u001b[39m▄\u001b[39m▃\u001b[39m▁\u001b[39m▄\u001b[39m▃\u001b[39m▁\u001b[39m▄\u001b[39m▃\u001b[39m▁\u001b[39m▄\u001b[39m▁\u001b[39m▁\u001b[39m▃\u001b[39m▁\u001b[39m▄\u001b[39m▁\u001b[39m▃\u001b[39m▁\u001b[39m▅\u001b[39m█\u001b[39m█\u001b[39m█\u001b[39m▆\u001b[39m▆\u001b[39m▆\u001b[39m▄\u001b[39m▄\u001b[39m▅\u001b[39m▄\u001b[39m▃\u001b[39m▁\u001b[39m▃\u001b[39m▁\u001b[39m▃\u001b[39m▄\u001b[39m▆\u001b[39m█\u001b[39m█\u001b[39m \u001b[39m█\n",
       "  12.2 ns\u001b[90m      \u001b[39m\u001b[90mHistogram: \u001b[39m\u001b[90m\u001b[1mlog(\u001b[22m\u001b[39m\u001b[90mfrequency\u001b[39m\u001b[90m\u001b[1m)\u001b[22m\u001b[39m\u001b[90m by time\u001b[39m      32.9 ns \u001b[0m\u001b[1m<\u001b[22m\n",
       "\n",
       " Memory estimate\u001b[90m: \u001b[39m\u001b[33m0 bytes\u001b[39m, allocs estimate\u001b[90m: \u001b[39m\u001b[33m0\u001b[39m."
      ]
     },
     "execution_count": 1,
     "metadata": {},
     "output_type": "execute_result"
    }
   ],
   "source": [
    "using BenchmarkTools\n",
    "\n",
    "struct Instance_RH{P <: AbstractFloat, Q <: AbstractUnitRange}\n",
    "    cost::Array{P, 2}\n",
    "    time_by_quantity::Array{P, 2}\n",
    "    penalty_by_multitask::Array{P, 1}\n",
    "    penalty_by_know_how::Array{P, 2}\n",
    "    maximum_budget::P\n",
    "    I::Q\n",
    "    J::Q\n",
    "end\n",
    "\n",
    "function generate_instance(cost, time_by_quantity, \n",
    "    penalty_by_multitask, penalty_by_know_how, maximum_budget)\n",
    "    \n",
    "    dimensions_of_instance = size(cost);\n",
    "    I = Base.OneTo(dimensions_of_instance[1]);\n",
    "    J = Base.OneTo(dimensions_of_instance[2]);\n",
    "    return Instance_RH(cost, time_by_quantity, \n",
    "        penalty_by_multitask, penalty_by_know_how, maximum_budget, I, J);\n",
    "end\n",
    "\n",
    "\n",
    "cost = [404.16130257432536 342.6121400760149 334.65400017129275; 609.9826980212956 451.2171757784507 483.83148674153233; 362.93218686863423 414.41083606045623 675.6532058287046; 498.73524270040207 379.8833522296185 372.12075326006203; 507.1394146512986 343.40004673720284 344.87937542652276; 614.5935044087983 343.38652475868105 666.6455577870877; 654.5084251471844 460.7325334872372 343.51651476383165; 514.5598529059743 445.47832539448785 667.5994573488664; 352.0625777996967 357.63523731788064 426.5800063667885; 633.8737992123354 575.4684437771787 526.8544116378721]\n",
    "time_by_quantity = [551.149318836251 353.5576871795756 544.7850084991596; 540.8786124298001 347.11253457830435 534.2360337745861; 530.9324781581835 340.806606793647 524.2600861079036; 521.2428271420944 334.758141874596 514.891286519538; 512.0603850942899 329.686814227325 506.0319653251741; 503.2315108697694 324.6932839541254 497.68125911747074; 495.06705853446783 320.35799835061465 489.867352509886; 487.4786234404495 316.2110977723632 483.3234557345035; 481.19585646796173 312.4731479370266 477.0680377885712; 476.0273928951479 309.1389856638628 472.01244831930615]\n",
    "penalty_by_multitask = [3.932768925120902, 2.1629197821510475, 3.747201375134096, 1.2027401788064473, 3.762680990567876, 3.601216190081945, 3.9412748264981996, 1.004961550315905, 3.963908498229274, 1.5845709053894907]\n",
    "penalty_by_know_how = [0.811984335664391 0.2852506669586609 0.4118216702970811; 0.10635146869948212 0.3497031430472351 0.6630721652898788; 0.13880963807944877 0.5621105391563797 0.22663788295134837; 0.44358375556142055 0.22274423735250545 0.5015070457420686; 0.14826541117764483 0.7966779051319146 0.6769308830979445; 0.07009524283219473 0.08771913744412921 0.5220504363220271; 0.8324525095520683 0.8185583447816812 0.4939598817833735; 0.597792860354574 0.4440247339167606 0.8233927217289345; 0.014589514521600778 0.29122819336562134 0.6274289868926287; 0.21229629326964108 0.2910770390826134 0.8959322834368744]\n",
    "maximum_budget = 14109.108387884087\n",
    "instance_0 = generate_instance(cost, time_by_quantity, penalty_by_multitask, penalty_by_know_how, maximum_budget)\n",
    "\n",
    "function calculate!(y, x, instance) # Quantidade de pessoas i envolvidas no projeto j\n",
    "    @inbounds begin\n",
    "        for j in instance.J\n",
    "            y[j] = 0;\n",
    "            for i in instance.I\n",
    "                y[j] += x[i, j];\n",
    "            end\n",
    "        end\n",
    "    end\n",
    "    return minimum(y) == 0 ? count(i->(i == 0), y) : 0;\n",
    "end\n",
    "x = [1 1 0; 0 0 1; 1 0 1; 0 0 0; 0 0 0; 1 1 1; 0 0 0; 0 0 0; 0 0 0; 0 1 1]\n",
    "y = zeros(Int, size(x, 2))\n",
    "@benchmark calculate!($y, $x, $instance_0)"
   ]
  },
  {
   "cell_type": "code",
   "execution_count": 2,
   "id": "b5856a55-e870-43da-b17a-77a2bc73a10d",
   "metadata": {},
   "outputs": [
    {
     "data": {
      "text/plain": [
       "BechmarkTools.Trial: 10000 samples with 999 evaluations.\n",
       " Range \u001b[90m(\u001b[39m\u001b[36m\u001b[1mmin\u001b[22m\u001b[39m … \u001b[35mmax\u001b[39m\u001b[90m):  \u001b[39m\u001b[36m\u001b[1m 9.409 ns\u001b[22m\u001b[39m … \u001b[35m56.356 ns\u001b[39m  \u001b[90m┊\u001b[39m GC \u001b[90m(\u001b[39mmin … max\u001b[90m): \u001b[39m0.00% … 0.00%\n",
       " Time  \u001b[90m(\u001b[39m\u001b[34m\u001b[1mmedian\u001b[22m\u001b[39m\u001b[90m):     \u001b[39m\u001b[34m\u001b[1m 9.710 ns              \u001b[22m\u001b[39m\u001b[90m┊\u001b[39m GC \u001b[90m(\u001b[39mmedian\u001b[90m):    \u001b[39m0.00%\n",
       " Time  \u001b[90m(\u001b[39m\u001b[32m\u001b[1mmean\u001b[22m\u001b[39m ± \u001b[32mσ\u001b[39m\u001b[90m):   \u001b[39m\u001b[32m\u001b[1m10.099 ns\u001b[22m\u001b[39m ± \u001b[32m 3.013 ns\u001b[39m  \u001b[90m┊\u001b[39m GC \u001b[90m(\u001b[39mmean ± σ\u001b[90m):  \u001b[39m0.00% ± 0.00%\n",
       "\n",
       "  \u001b[39m█\u001b[34m▅\u001b[39m\u001b[39m▁\u001b[39m \u001b[39m \u001b[39m \u001b[39m \u001b[39m \u001b[39m \u001b[39m \u001b[39m \u001b[39m \u001b[39m \u001b[39m \u001b[39m \u001b[39m \u001b[39m \u001b[39m \u001b[39m \u001b[39m \u001b[39m \u001b[39m \u001b[39m \u001b[39m \u001b[39m \u001b[39m \u001b[39m \u001b[39m \u001b[39m \u001b[39m \u001b[39m \u001b[39m \u001b[39m \u001b[39m \u001b[39m \u001b[39m \u001b[39m \u001b[39m \u001b[39m \u001b[39m \u001b[39m \u001b[39m \u001b[39m \u001b[39m \u001b[39m \u001b[39m \u001b[39m \u001b[39m \u001b[39m \u001b[39m \u001b[39m \u001b[39m \u001b[39m \u001b[39m \u001b[39m \u001b[39m \u001b[39m \u001b[39m \u001b[39m \u001b[39m \u001b[39m▁\n",
       "  \u001b[39m█\u001b[34m█\u001b[39m\u001b[39m█\u001b[39m▆\u001b[39m▄\u001b[39m▄\u001b[39m▄\u001b[39m▄\u001b[39m▄\u001b[39m▃\u001b[39m▁\u001b[39m▃\u001b[39m▄\u001b[39m▃\u001b[39m▅\u001b[39m▄\u001b[39m▃\u001b[39m▁\u001b[39m▁\u001b[39m▁\u001b[39m▄\u001b[39m▁\u001b[39m▁\u001b[39m▁\u001b[39m▁\u001b[39m▁\u001b[39m▁\u001b[39m▁\u001b[39m▁\u001b[39m▁\u001b[39m▃\u001b[39m▁\u001b[39m▁\u001b[39m▁\u001b[39m▁\u001b[39m▁\u001b[39m▃\u001b[39m▁\u001b[39m▁\u001b[39m▁\u001b[39m▁\u001b[39m▇\u001b[39m▇\u001b[39m▇\u001b[39m▅\u001b[39m▄\u001b[39m▃\u001b[39m▄\u001b[39m▄\u001b[39m▄\u001b[39m▄\u001b[39m▁\u001b[39m▁\u001b[39m▁\u001b[39m▁\u001b[39m▁\u001b[39m▁\u001b[39m▄\u001b[39m▇\u001b[39m \u001b[39m█\n",
       "  9.41 ns\u001b[90m      \u001b[39m\u001b[90mHistogram: \u001b[39m\u001b[90m\u001b[1mlog(\u001b[22m\u001b[39m\u001b[90mfrequency\u001b[39m\u001b[90m\u001b[1m)\u001b[22m\u001b[39m\u001b[90m by time\u001b[39m      29.4 ns \u001b[0m\u001b[1m<\u001b[22m\n",
       "\n",
       " Memory estimate\u001b[90m: \u001b[39m\u001b[33m0 bytes\u001b[39m, allocs estimate\u001b[90m: \u001b[39m\u001b[33m0\u001b[39m."
      ]
     },
     "execution_count": 2,
     "metadata": {},
     "output_type": "execute_result"
    }
   ],
   "source": [
    "function calculate_2!(y, x, instance) # Quantidade de pessoas i envolvidas no projeto j\n",
    "    @inbounds begin\n",
    "        for j in 1:3\n",
    "            y[j] = 0;\n",
    "            for i in 1:10\n",
    "                y[j] += x[i, j];\n",
    "            end\n",
    "        end\n",
    "    end\n",
    "    return minimum(y) == 0 ? count(i->(i == 0), y) : 0;\n",
    "end\n",
    "\n",
    "@benchmark calculate_2!($y, $x, $instance_0)"
   ]
  },
  {
   "cell_type": "code",
   "execution_count": 3,
   "id": "6d7981b0-915e-46a4-a84a-b6054e29f250",
   "metadata": {},
   "outputs": [
    {
     "data": {
      "text/plain": [
       "BechmarkTools.Trial: 10000 samples with 999 evaluations.\n",
       " Range \u001b[90m(\u001b[39m\u001b[36m\u001b[1mmin\u001b[22m\u001b[39m … \u001b[35mmax\u001b[39m\u001b[90m):  \u001b[39m\u001b[36m\u001b[1m12.513 ns\u001b[22m\u001b[39m … \u001b[35m58.458 ns\u001b[39m  \u001b[90m┊\u001b[39m GC \u001b[90m(\u001b[39mmin … max\u001b[90m): \u001b[39m0.00% … 0.00%\n",
       " Time  \u001b[90m(\u001b[39m\u001b[34m\u001b[1mmedian\u001b[22m\u001b[39m\u001b[90m):     \u001b[39m\u001b[34m\u001b[1m12.813 ns              \u001b[22m\u001b[39m\u001b[90m┊\u001b[39m GC \u001b[90m(\u001b[39mmedian\u001b[90m):    \u001b[39m0.00%\n",
       " Time  \u001b[90m(\u001b[39m\u001b[32m\u001b[1mmean\u001b[22m\u001b[39m ± \u001b[32mσ\u001b[39m\u001b[90m):   \u001b[39m\u001b[32m\u001b[1m13.983 ns\u001b[22m\u001b[39m ± \u001b[32m 3.073 ns\u001b[39m  \u001b[90m┊\u001b[39m GC \u001b[90m(\u001b[39mmean ± σ\u001b[90m):  \u001b[39m0.00% ± 0.00%\n",
       "\n",
       "  \u001b[39m█\u001b[34m▄\u001b[39m\u001b[39m▅\u001b[39m▄\u001b[32m▁\u001b[39m\u001b[39m▂\u001b[39m▂\u001b[39m▁\u001b[39m▁\u001b[39m▁\u001b[39m▄\u001b[39m▅\u001b[39m▄\u001b[39m▂\u001b[39m \u001b[39m▁\u001b[39m \u001b[39m \u001b[39m \u001b[39m \u001b[39m \u001b[39m \u001b[39m \u001b[39m \u001b[39m \u001b[39m \u001b[39m \u001b[39m \u001b[39m \u001b[39m \u001b[39m \u001b[39m \u001b[39m \u001b[39m \u001b[39m \u001b[39m \u001b[39m \u001b[39m \u001b[39m \u001b[39m \u001b[39m \u001b[39m \u001b[39m \u001b[39m \u001b[39m \u001b[39m \u001b[39m \u001b[39m \u001b[39m \u001b[39m \u001b[39m \u001b[39m \u001b[39m \u001b[39m \u001b[39m \u001b[39m \u001b[39m \u001b[39m \u001b[39m \u001b[39m \u001b[39m▂\n",
       "  \u001b[39m█\u001b[34m█\u001b[39m\u001b[39m█\u001b[39m█\u001b[32m█\u001b[39m\u001b[39m█\u001b[39m█\u001b[39m█\u001b[39m█\u001b[39m█\u001b[39m█\u001b[39m█\u001b[39m█\u001b[39m█\u001b[39m█\u001b[39m█\u001b[39m▅\u001b[39m▄\u001b[39m▃\u001b[39m▄\u001b[39m▅\u001b[39m▄\u001b[39m▄\u001b[39m▃\u001b[39m▄\u001b[39m▃\u001b[39m▃\u001b[39m▅\u001b[39m▃\u001b[39m▁\u001b[39m▃\u001b[39m▁\u001b[39m▁\u001b[39m▄\u001b[39m▁\u001b[39m▃\u001b[39m▁\u001b[39m▁\u001b[39m▄\u001b[39m▄\u001b[39m▁\u001b[39m▃\u001b[39m▃\u001b[39m▃\u001b[39m▁\u001b[39m▃\u001b[39m▄\u001b[39m▇\u001b[39m▆\u001b[39m▅\u001b[39m▅\u001b[39m▅\u001b[39m▄\u001b[39m▅\u001b[39m▅\u001b[39m▄\u001b[39m▅\u001b[39m▄\u001b[39m▄\u001b[39m \u001b[39m█\n",
       "  12.5 ns\u001b[90m      \u001b[39m\u001b[90mHistogram: \u001b[39m\u001b[90m\u001b[1mlog(\u001b[22m\u001b[39m\u001b[90mfrequency\u001b[39m\u001b[90m\u001b[1m)\u001b[22m\u001b[39m\u001b[90m by time\u001b[39m      30.4 ns \u001b[0m\u001b[1m<\u001b[22m\n",
       "\n",
       " Memory estimate\u001b[90m: \u001b[39m\u001b[33m0 bytes\u001b[39m, allocs estimate\u001b[90m: \u001b[39m\u001b[33m0\u001b[39m."
      ]
     },
     "execution_count": 3,
     "metadata": {},
     "output_type": "execute_result"
    }
   ],
   "source": [
    "function calculate_3!(y, x, instance) # Quantidade de pessoas i envolvidas no projeto j\n",
    "    m, n = size(x)\n",
    "    @inbounds begin\n",
    "        for j in 1:n\n",
    "            y[j] = 0;\n",
    "            for i in 1:m\n",
    "                y[j] += x[i, j];\n",
    "            end\n",
    "        end\n",
    "    end\n",
    "    return minimum(y) == 0 ? count(i->(i == 0), y) : 0;\n",
    "end\n",
    "\n",
    "@benchmark calculate_3!($y, $x, $instance_0)"
   ]
  },
  {
   "cell_type": "code",
   "execution_count": 4,
   "id": "37f86b18-8807-4a0d-91d0-de5a66de1603",
   "metadata": {},
   "outputs": [
    {
     "data": {
      "text/plain": [
       "true"
      ]
     },
     "execution_count": 4,
     "metadata": {},
     "output_type": "execute_result"
    }
   ],
   "source": [
    "calculate!(y, x, instance_0) == calculate_2!(y, x, instance_0) == calculate_3!(y, x, instance_0)"
   ]
  },
  {
   "cell_type": "code",
   "execution_count": 7,
   "id": "11bee39a-0ec0-4e2f-84d4-b0104aa790a2",
   "metadata": {},
   "outputs": [
    {
     "name": "stdout",
     "output_type": "stream",
     "text": [
      "calculate!(y_1, x_1, instance_1) == calculate_2!(y_12, x_1, instance_1) == calculate_3!(y_13, x_1, instance_1) = true\n",
      "  1.581 ms (0 allocations: 0 bytes)\n",
      "  1.768 ms (0 allocations: 0 bytes)\n",
      "  1.783 ms (0 allocations: 0 bytes)\n"
     ]
    }
   ],
   "source": [
    "using BenchmarkTools\n",
    "\n",
    "struct Instance_RH{P <: AbstractFloat, Q <: AbstractUnitRange}\n",
    "    cost::Array{P, 2}\n",
    "    time_by_quantity::Array{P, 2}\n",
    "    penalty_by_multitask::Array{P, 1}\n",
    "    penalty_by_know_how::Array{P, 2}\n",
    "    maximum_budget::P\n",
    "    I::Q\n",
    "    J::Q\n",
    "end\n",
    "\n",
    "function generate_instance(cost, time_by_quantity, \n",
    "    penalty_by_multitask, penalty_by_know_how, maximum_budget)\n",
    "    \n",
    "    dimensions_of_instance = size(cost);\n",
    "    I = Base.OneTo(dimensions_of_instance[1]);\n",
    "    J = Base.OneTo(dimensions_of_instance[2]);\n",
    "    return Instance_RH(cost, time_by_quantity, \n",
    "        penalty_by_multitask, penalty_by_know_how, maximum_budget, I, J);\n",
    "end\n",
    "\n",
    "function calculate!(y, x, instance) # Quantidade de pessoas i envolvidas no projeto j\n",
    "    @inbounds begin\n",
    "        for j in instance.J\n",
    "            y[j] = 0;\n",
    "            for i in instance.I\n",
    "                y[j] += x[i, j];\n",
    "            end\n",
    "        end\n",
    "    end\n",
    "    #return minimum(y) == 0 ? count(i->(i == 0), y) : 0;\n",
    "    y\n",
    "end\n",
    "\n",
    "function calculate_2!(y, x, instance) # Quantidade de pessoas i envolvidas no projeto j\n",
    "    @inbounds begin\n",
    "        for j in 1:1000\n",
    "            y[j] = 0;\n",
    "            for i in 1:3000\n",
    "                y[j] += x[i, j];\n",
    "            end\n",
    "        end\n",
    "    end\n",
    "    #return minimum(y) == 0 ? count(i->(i == 0), y) : 0;\n",
    "    y\n",
    "end\n",
    "\n",
    "function calculate_3!(y, x, instance) # Quantidade de pessoas i envolvidas no projeto j\n",
    "    m, n = size(x)\n",
    "    @inbounds begin\n",
    "        for j in 1:n\n",
    "            y[j] = 0;\n",
    "            for i in 1:m\n",
    "                y[j] += x[i, j];\n",
    "            end\n",
    "        end\n",
    "    end\n",
    "    #return minimum(y) == 0 ? count(i->(i == 0), y) : 0;\n",
    "    y\n",
    "end\n",
    "\n",
    "m, n = 3000, 1000\n",
    "instance_1 = generate_instance(rand(m, n), rand(m, n), rand(n), rand(m, n), rand())\n",
    "x_1 = rand([0, 1], m, n)\n",
    "\n",
    "y_1 = zeros(Int, size(x_1, 2))\n",
    "y_12 = zeros(Int, size(x_1, 2))\n",
    "y_13 = zeros(Int, size(x_1, 2))\n",
    "@show calculate!(y_1, x_1, instance_1) == calculate_2!(y_12, x_1, instance_1) == calculate_3!(y_13, x_1, instance_1)\n",
    "\n",
    "@btime calculate!($y_1, $x_1, $instance_1)\n",
    "@btime calculate_2!($y_12, $x_1, $instance_1)\n",
    "@btime calculate_3!($y_13, $x_1, $instance_1);"
   ]
  },
  {
   "cell_type": "code",
   "execution_count": null,
   "id": "e1044ec7-2d84-43e9-9c34-f4d25388b358",
   "metadata": {},
   "outputs": [],
   "source": []
  }
 ],
 "metadata": {
  "jupytext": {
   "formats": "ipynb,auto:hydrogen"
  },
  "kernelspec": {
   "display_name": "Julia 1.6.1",
   "language": "julia",
   "name": "julia-1.6"
  },
  "language_info": {
   "file_extension": ".jl",
   "mimetype": "application/julia",
   "name": "julia",
   "version": "1.6.1"
  }
 },
 "nbformat": 4,
 "nbformat_minor": 5
}
