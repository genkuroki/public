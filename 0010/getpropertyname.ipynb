{
 "cells": [
  {
   "cell_type": "code",
   "execution_count": 1,
   "id": "770daa0c-40f5-4e9a-bfff-c3282469e7e2",
   "metadata": {},
   "outputs": [],
   "source": [
    "struct Param{T} _inner::Dict{Symbol, T} end\n",
    "Param() = Param(Dict{Symbol, Any}())\n",
    "Base.getproperty(param::Param, name::Symbol) = getfield(param, :_inner)[name]\n",
    "Base.setproperty!(param::Param, name::Symbol, val) = setindex!(getfield(param, :_inner), val, name)\n",
    "Base.propertynames(param::Param) = (keys(getfield(param, :_inner))...,)"
   ]
  },
  {
   "cell_type": "code",
   "execution_count": 2,
   "id": "c6c97cd4-01e0-4487-ba65-69b296e3a03f",
   "metadata": {},
   "outputs": [
    {
     "data": {
      "text/plain": [
       "Param{Any}(Dict{Symbol, Any}())"
      ]
     },
     "execution_count": 2,
     "metadata": {},
     "output_type": "execute_result"
    }
   ],
   "source": [
    "p = Param()"
   ]
  },
  {
   "cell_type": "code",
   "execution_count": 3,
   "id": "feece049-d664-4da5-a23a-83b6209cb488",
   "metadata": {},
   "outputs": [
    {
     "data": {
      "text/plain": [
       "()"
      ]
     },
     "execution_count": 3,
     "metadata": {},
     "output_type": "execute_result"
    }
   ],
   "source": [
    "propertynames(p)"
   ]
  },
  {
   "cell_type": "code",
   "execution_count": 4,
   "id": "3473dec8-8a55-4375-8bc9-0123eea0d96b",
   "metadata": {},
   "outputs": [
    {
     "data": {
      "text/plain": [
       "Param{Any}(Dict{Symbol, Any}(:a => 123, :b => 4.56, :c => \"hoge\"))"
      ]
     },
     "execution_count": 4,
     "metadata": {},
     "output_type": "execute_result"
    }
   ],
   "source": [
    "p.a = 123\n",
    "p.b = 4.56\n",
    "p.c = \"hoge\"\n",
    "p"
   ]
  },
  {
   "cell_type": "code",
   "execution_count": 5,
   "id": "b63210ee-76a8-4396-9583-671571529716",
   "metadata": {},
   "outputs": [
    {
     "data": {
      "text/plain": [
       "(:a, :b, :c)"
      ]
     },
     "execution_count": 5,
     "metadata": {},
     "output_type": "execute_result"
    }
   ],
   "source": [
    "propertynames(p)"
   ]
  },
  {
   "cell_type": "code",
   "execution_count": null,
   "id": "a39d4e7e-36f6-4235-ae82-dc3ec5bb55ec",
   "metadata": {},
   "outputs": [],
   "source": [
    "p."
   ]
  },
  {
   "cell_type": "code",
   "execution_count": null,
   "id": "13756046-8af4-4c5a-9f95-9b83bb858bf2",
   "metadata": {},
   "outputs": [],
   "source": []
  }
 ],
 "metadata": {
  "jupytext": {
   "formats": "ipynb,auto:hydrogen"
  },
  "kernelspec": {
   "display_name": "Julia 1.8.0-DEV",
   "language": "julia",
   "name": "julia-1.8"
  },
  "language_info": {
   "file_extension": ".jl",
   "mimetype": "application/julia",
   "name": "julia",
   "version": "1.8.0"
  }
 },
 "nbformat": 4,
 "nbformat_minor": 5
}
