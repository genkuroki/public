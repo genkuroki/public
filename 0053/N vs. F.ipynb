{
 "cells": [
  {
   "cell_type": "code",
   "execution_count": 1,
   "id": "5e66783b-9c2e-41c9-95db-d61ae3bf12ef",
   "metadata": {},
   "outputs": [
    {
     "data": {
      "text/plain": [
       "Main.O"
      ]
     },
     "execution_count": 1,
     "metadata": {},
     "output_type": "execute_result"
    }
   ],
   "source": [
    "module O\n",
    "\n",
    "using Distributions\n",
    "using LinearAlgebra\n",
    "using Random\n",
    "using Printf\n",
    "\n",
    "function pvalue_N(X)\n",
    "    n = length(X)\n",
    "    z = sum(X) / √n\n",
    "    ccdf(Chisq(1), z^2)\n",
    "end\n",
    "\n",
    "function pvalue_F(X)\n",
    "    n = length(X)\n",
    "    χ² = dot(X, X)\n",
    "    ccdf(Chisq(n), χ²)\n",
    "end\n",
    "\n",
    "struct SimPval{M,P,T}\n",
    "    μ::M\n",
    "    pval_N::P\n",
    "    pval_F::P\n",
    "    α::T\n",
    "end\n",
    "\n",
    "function Base.show(io::IO, ::MIME\"text/plain\", sp::SimPval)\n",
    "    (; μ, pval_N, pval_F, α) = sp\n",
    "    Nrej = pval_N .< α\n",
    "    Nacc = .!Nrej\n",
    "    Frej = pval_F .< α\n",
    "    Facc = .!Frej\n",
    "    if iszero(mean(μ))\n",
    "        print(io, @sprintf(\"alpha error rate for test of \\\"mean(μ)=0\\\": %5.1f%%\\n\", 100mean(Nrej)))\n",
    "    else\n",
    "        print(io, @sprintf(\"power for test of \\\"mean(μ)=0\\\": %5.1f%%    (mean(μ) = %.3f)\\n\", 100mean(Nrej), mean(μ)))\n",
    "    end\n",
    "    if iszero(μ)\n",
    "        print(io, @sprintf(\"alpha error rate for test of \\\"norm(μ)=0\\\": %5.1f%%\\n\", 100mean(Frej)))\n",
    "    else\n",
    "        print(io, @sprintf(\"power for test of \\\"norm(μ)=0\\\": %5.1f%%    (norm(μ) = %.3f)\\n\", 100mean(Frej), norm(μ)))\n",
    "    end\n",
    "    print(io, \"\\n\")\n",
    "    print(io, @sprintf(\"                       %18s  %22s\\n\", \"reject \\\"norm(μ)=0\\\"\", \"not reject \\\"norm(μ)=0\\\"\"))\n",
    "    print(io, @sprintf(\"reject     \\\"mean(μ)=0\\\" %11.1f%%  %18.1f%%\\n\", 100mean(Nrej .& Frej), 100mean(Nrej .& Facc)))\n",
    "    print(io, @sprintf(\"not reject \\\"mean(μ)=0\\\" %11.1f%%  %18.1f%%\\n\", 100mean(Nacc .& Frej), 100mean(Nacc .& Facc)))\n",
    "end\n",
    "\n",
    "function sim_pval(; n=20, μ=zeros(n), niters=10^6, α=0.05)\n",
    "    pval_N = zeros(niters)\n",
    "    pval_F = zeros(niters)\n",
    "    dist = product_distribution(Normal.(μ))\n",
    "    Xtmp = [rand(dist) for _ in 1:Threads.nthreads()]\n",
    "    Threads.@threads :static for i in 1:niters\n",
    "        tid = Threads.threadid()\n",
    "        X = rand!(dist, Xtmp[tid])\n",
    "        pval_N[i] = pvalue_N(X)\n",
    "        pval_F[i] = pvalue_F(X)\n",
    "    end\n",
    "    O.SimPval(μ, pval_N, pval_F, α)\n",
    "end\n",
    "\n",
    "end"
   ]
  },
  {
   "cell_type": "markdown",
   "id": "61f44560-9f6e-4a03-a45f-96c80736a4c8",
   "metadata": {},
   "source": [
    "モデル: \n",
    "$\n",
    "X_i \\sim \\mathrm{Normal}(\\mu_i, 1) \\quad \\text{($i=1,2,\\ldots,n$) かつ $X_i$達は独立}\n",
    "$\n",
    "\n",
    "帰無仮説N: \n",
    "$\n",
    "\\dfrac{\\mu_1+\\cdots+\\mu_n}{n} = 0\n",
    "$\n",
    "\n",
    "帰無仮説F: \n",
    "$\n",
    "(\\mu_1,\\ldots,\\mu_n)=(0,\\ldots,0)\n",
    "$"
   ]
  },
  {
   "cell_type": "code",
   "execution_count": 2,
   "id": "556d9e19-e47b-46d4-b66b-c12410f1c3c7",
   "metadata": {},
   "outputs": [
    {
     "data": {
      "text/plain": [
       "alpha error rate for test of \"mean(μ)=0\":   5.0%\n",
       "alpha error rate for test of \"norm(μ)=0\":   5.0%\n",
       "\n",
       "                       reject \"norm(μ)=0\"  not reject \"norm(μ)=0\"\n",
       "reject     \"mean(μ)=0\"         1.4%                 3.6%\n",
       "not reject \"mean(μ)=0\"         3.6%                91.4%\n"
      ]
     },
     "execution_count": 2,
     "metadata": {},
     "output_type": "execute_result"
    }
   ],
   "source": [
    "O.sim_pval(; n=5, niters=10^7, α=0.05)"
   ]
  },
  {
   "cell_type": "code",
   "execution_count": 3,
   "id": "d30c33c3-bac7-4e0b-8872-f2f1e4af5257",
   "metadata": {},
   "outputs": [
    {
     "data": {
      "text/plain": [
       "alpha error rate for test of \"mean(μ)=0\":   5.0%\n",
       "alpha error rate for test of \"norm(μ)=0\":   5.0%\n",
       "\n",
       "                       reject \"norm(μ)=0\"  not reject \"norm(μ)=0\"\n",
       "reject     \"mean(μ)=0\"         0.7%                 4.3%\n",
       "not reject \"mean(μ)=0\"         4.3%                90.7%\n"
      ]
     },
     "execution_count": 3,
     "metadata": {},
     "output_type": "execute_result"
    }
   ],
   "source": [
    "O.sim_pval(; n=20, niters=10^7, α=0.05)"
   ]
  },
  {
   "cell_type": "code",
   "execution_count": 4,
   "id": "1fb473b6-cc8a-4dfa-ae31-5bf8ca3f250b",
   "metadata": {},
   "outputs": [
    {
     "data": {
      "text/plain": [
       "alpha error rate for test of \"mean(μ)=0\":   5.0%\n",
       "alpha error rate for test of \"norm(μ)=0\":   5.0%\n",
       "\n",
       "                       reject \"norm(μ)=0\"  not reject \"norm(μ)=0\"\n",
       "reject     \"mean(μ)=0\"         0.4%                 4.6%\n",
       "not reject \"mean(μ)=0\"         4.6%                90.4%\n"
      ]
     },
     "execution_count": 4,
     "metadata": {},
     "output_type": "execute_result"
    }
   ],
   "source": [
    "O.sim_pval(; n=100, niters=10^7, α=0.05)"
   ]
  },
  {
   "cell_type": "code",
   "execution_count": 5,
   "id": "cf5fc2c8-dbee-4338-9696-65b9b81f8291",
   "metadata": {},
   "outputs": [
    {
     "data": {
      "text/plain": [
       "alpha error rate for test of \"mean(μ)=0\":   5.0%\n",
       "alpha error rate for test of \"norm(μ)=0\":   5.0%\n",
       "\n",
       "                       reject \"norm(μ)=0\"  not reject \"norm(μ)=0\"\n",
       "reject     \"mean(μ)=0\"         0.3%                 4.7%\n",
       "not reject \"mean(μ)=0\"         4.7%                90.3%\n"
      ]
     },
     "execution_count": 5,
     "metadata": {},
     "output_type": "execute_result"
    }
   ],
   "source": [
    "O.sim_pval(; n=1000, niters=10^7, α=0.05)"
   ]
  },
  {
   "cell_type": "code",
   "execution_count": 6,
   "id": "c3d90018-e604-49e1-8750-4608a68417ac",
   "metadata": {
    "tags": []
   },
   "outputs": [
    {
     "data": {
      "text/plain": [
       "power for test of \"mean(μ)=0\":  60.9%    (mean(μ) = 0.500)\n",
       "power for test of \"norm(μ)=0\":  19.3%    (norm(μ) = 2.236)\n",
       "\n",
       "                       reject \"norm(μ)=0\"  not reject \"norm(μ)=0\"\n",
       "reject     \"mean(μ)=0\"        17.0%                43.9%\n",
       "not reject \"mean(μ)=0\"         2.3%                36.7%\n"
      ]
     },
     "execution_count": 6,
     "metadata": {},
     "output_type": "execute_result"
    }
   ],
   "source": [
    "O.sim_pval(; μ=fill(0.5, 20), niters=10^7, α=0.05)"
   ]
  },
  {
   "cell_type": "code",
   "execution_count": 7,
   "id": "aefccada-11cc-4cb2-83ec-055253a11a2f",
   "metadata": {},
   "outputs": [
    {
     "data": {
      "text/plain": [
       "alpha error rate for test of \"mean(μ)=0\":   5.0%\n",
       "power for test of \"norm(μ)=0\":  19.3%    (norm(μ) = 2.236)\n",
       "\n",
       "                       reject \"norm(μ)=0\"  not reject \"norm(μ)=0\"\n",
       "reject     \"mean(μ)=0\"         1.9%                 3.1%\n",
       "not reject \"mean(μ)=0\"        17.5%                77.5%\n"
      ]
     },
     "execution_count": 7,
     "metadata": {},
     "output_type": "execute_result"
    }
   ],
   "source": [
    "O.sim_pval(; μ=[fill(0.5, 10); fill(-0.5, 10)], niters=10^7, α=0.05)"
   ]
  },
  {
   "cell_type": "code",
   "execution_count": 8,
   "id": "e70f167e-2340-4194-8b22-377f6c2999e2",
   "metadata": {},
   "outputs": [
    {
     "data": {
      "text/plain": [
       "power for test of \"mean(μ)=0\":  20.1%    (mean(μ) = 0.250)\n",
       "power for test of \"norm(μ)=0\":  88.3%    (norm(μ) = 5.000)\n",
       "\n",
       "                       reject \"norm(μ)=0\"  not reject \"norm(μ)=0\"\n",
       "reject     \"mean(μ)=0\"        19.1%                 1.0%\n",
       "not reject \"mean(μ)=0\"        69.1%                10.8%\n"
      ]
     },
     "execution_count": 8,
     "metadata": {},
     "output_type": "execute_result"
    }
   ],
   "source": [
    "O.sim_pval(; μ=[5; zeros(19)], niters=10^7, α=0.05)"
   ]
  },
  {
   "cell_type": "code",
   "execution_count": null,
   "id": "a9237408-7487-4189-8471-67e18ff4b62c",
   "metadata": {},
   "outputs": [],
   "source": []
  }
 ],
 "metadata": {
  "jupytext": {
   "encoding": "# -*- coding: utf-8 -*-",
   "formats": "ipynb,jl:hydrogen"
  },
  "kernelspec": {
   "display_name": "Julia 1.11.3",
   "language": "julia",
   "name": "julia-1.11"
  },
  "language_info": {
   "file_extension": ".jl",
   "mimetype": "application/julia",
   "name": "julia",
   "version": "1.11.3"
  }
 },
 "nbformat": 4,
 "nbformat_minor": 5
}
