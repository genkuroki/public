{
 "cells": [
  {
   "cell_type": "code",
   "execution_count": 1,
   "id": "5e66783b-9c2e-41c9-95db-d61ae3bf12ef",
   "metadata": {},
   "outputs": [
    {
     "data": {
      "text/plain": [
       "Main.O"
      ]
     },
     "execution_count": 1,
     "metadata": {},
     "output_type": "execute_result"
    }
   ],
   "source": [
    "module O\n",
    "\n",
    "using Distributions\n",
    "using LinearAlgebra\n",
    "using Random\n",
    "using Printf\n",
    "\n",
    "function pvalue_N(X)\n",
    "    n = length(X)\n",
    "    z = sum(X) / √n\n",
    "    ccdf(Chisq(1), z^2)\n",
    "end\n",
    "\n",
    "function pvalue_F(X)\n",
    "    n = length(X)\n",
    "    χ² = dot(X, X)\n",
    "    ccdf(Chisq(n), χ²)\n",
    "end\n",
    "\n",
    "struct SimPval{P,T}\n",
    "    pval_N::P\n",
    "    pval_F::P\n",
    "    α::T\n",
    "end\n",
    "\n",
    "function Base.show(io::IO, ::MIME\"text/plain\", x::SimPval)\n",
    "    (; pval_N, pval_F, α) = x\n",
    "    Nrej = pval_N .< α\n",
    "    Nacc = .!Nrej\n",
    "    Frej = pval_F .< α\n",
    "    Facc = .!Frej\n",
    "    print(io, @sprintf(\"alpha error rate for N: %6.3f\\n\", mean(Nrej)))\n",
    "    print(io, @sprintf(\"alpha error rate for F: %6.3f\\n\", mean(Frej)))\n",
    "    print(io, \"\\n\")\n",
    "    print(io, @sprintf(\"          %8s  %8s\\n\", \"reject F\", \"accept F\"))\n",
    "    print(io, @sprintf(\"reject N %8.3f  %8.3f\\n\", mean(Nrej .& Frej), mean(Nrej .& Facc)))\n",
    "    print(io, @sprintf(\"accept N %8.3f  %8.3f\\n\", mean(Nacc .& Frej), mean(Nacc .& Facc)))\n",
    "end\n",
    "\n",
    "function sim_pval(; n=20, niters=10^6, α=0.05)\n",
    "    pval_N = zeros(niters)\n",
    "    pval_F = zeros(niters)\n",
    "    Xtmp = [randn(n) for _ in 1:Threads.nthreads()]\n",
    "    Threads.@threads :static for i in 1:niters\n",
    "        tid = Threads.threadid()\n",
    "        X = rand!(Normal(), Xtmp[tid])\n",
    "        pval_N[i] = pvalue_N(X)\n",
    "        pval_F[i] = pvalue_F(X)\n",
    "    end\n",
    "    O.SimPval(pval_N, pval_F, α)\n",
    "end\n",
    "\n",
    "end"
   ]
  },
  {
   "cell_type": "markdown",
   "id": "61f44560-9f6e-4a03-a45f-96c80736a4c8",
   "metadata": {},
   "source": [
    "モデル\n",
    "$$\n",
    "X_i \\sim \\mathrm{Normal}(\\mu_i, 1) \\quad \\text{($i=1,2,\\ldots,n$) かつ $X_i$達は独立}\n",
    "$$\n",
    "\n",
    "帰無仮説N:\\\n",
    "$$\n",
    "\\frac{\\mu_1+\\cdots+\\mu_n}{n} = 0\n",
    "$$\n",
    "\n",
    "帰無仮説F:\n",
    "$$\n",
    "(\\mu_1,\\ldots,\\mu_n)=(0,\\ldots,0)\n",
    "$$"
   ]
  },
  {
   "cell_type": "code",
   "execution_count": 2,
   "id": "556d9e19-e47b-46d4-b66b-c12410f1c3c7",
   "metadata": {},
   "outputs": [
    {
     "data": {
      "text/plain": [
       "alpha error rate for N:  0.050\n",
       "alpha error rate for F:  0.050\n",
       "\n",
       "          reject F  accept F\n",
       "reject N    0.014     0.036\n",
       "accept N    0.036     0.913\n"
      ]
     },
     "execution_count": 2,
     "metadata": {},
     "output_type": "execute_result"
    }
   ],
   "source": [
    "O.sim_pval(; n=5, niters=10^7, α=0.05)"
   ]
  },
  {
   "cell_type": "code",
   "execution_count": 3,
   "id": "d30c33c3-bac7-4e0b-8872-f2f1e4af5257",
   "metadata": {},
   "outputs": [
    {
     "data": {
      "text/plain": [
       "alpha error rate for N:  0.050\n",
       "alpha error rate for F:  0.050\n",
       "\n",
       "          reject F  accept F\n",
       "reject N    0.007     0.043\n",
       "accept N    0.043     0.907\n"
      ]
     },
     "execution_count": 3,
     "metadata": {},
     "output_type": "execute_result"
    }
   ],
   "source": [
    "O.sim_pval(; n=20, niters=10^7, α=0.05)"
   ]
  },
  {
   "cell_type": "code",
   "execution_count": 4,
   "id": "1fb473b6-cc8a-4dfa-ae31-5bf8ca3f250b",
   "metadata": {},
   "outputs": [
    {
     "data": {
      "text/plain": [
       "alpha error rate for N:  0.050\n",
       "alpha error rate for F:  0.050\n",
       "\n",
       "          reject F  accept F\n",
       "reject N    0.004     0.046\n",
       "accept N    0.046     0.904\n"
      ]
     },
     "execution_count": 4,
     "metadata": {},
     "output_type": "execute_result"
    }
   ],
   "source": [
    "O.sim_pval(; n=100, niters=10^7, α=0.05)"
   ]
  },
  {
   "cell_type": "code",
   "execution_count": 5,
   "id": "cf5fc2c8-dbee-4338-9696-65b9b81f8291",
   "metadata": {},
   "outputs": [
    {
     "data": {
      "text/plain": [
       "alpha error rate for N:  0.050\n",
       "alpha error rate for F:  0.050\n",
       "\n",
       "          reject F  accept F\n",
       "reject N    0.003     0.047\n",
       "accept N    0.047     0.903\n"
      ]
     },
     "execution_count": 5,
     "metadata": {},
     "output_type": "execute_result"
    }
   ],
   "source": [
    "O.sim_pval(; n=1000, niters=10^7, α=0.05)"
   ]
  },
  {
   "cell_type": "code",
   "execution_count": null,
   "id": "a9237408-7487-4189-8471-67e18ff4b62c",
   "metadata": {},
   "outputs": [],
   "source": []
  }
 ],
 "metadata": {
  "jupytext": {
   "formats": "ipynb,jl:hydrogen"
  },
  "kernelspec": {
   "display_name": "Julia 1.11.3",
   "language": "julia",
   "name": "julia-1.11"
  },
  "language_info": {
   "file_extension": ".jl",
   "mimetype": "application/julia",
   "name": "julia",
   "version": "1.11.3"
  }
 },
 "nbformat": 4,
 "nbformat_minor": 5
}
