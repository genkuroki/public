{
 "cells": [
  {
   "cell_type": "code",
   "execution_count": 1,
   "id": "523f8d6e-10a5-48d0-b1ad-150ca02d10da",
   "metadata": {},
   "outputs": [
    {
     "data": {
      "text/plain": [
       "confint_or_pearson_chisq (generic function with 1 method)"
      ]
     },
     "execution_count": 1,
     "metadata": {},
     "output_type": "execute_result"
    }
   ],
   "source": [
    "using Distributions\n",
    "using Roots\n",
    "using StatsFuns\n",
    "using StatsPlots\n",
    "default(fmt=:png)\n",
    "\n",
    "safemul(x, y) = x == 0 ? x : isinf(x) ? oftype(x, Inf) : x*y\n",
    "safediv(x, y) = x == 0 ? x : isinf(y) ? zero(y) : x/y\n",
    "\n",
    "oddsratiohat(a, b, c, d) = safediv(a*d, b*c)\n",
    "\n",
    "function delta(a, b, c, d; ω=1)\n",
    "    A, B, C = 1-ω, a+d+ω*(b+c), a*d-ω*b*c\n",
    "    isinf(ω) ? oftype(ω, -min(b, c)) : safediv(2C, B + √(B^2 - 4A*C))\n",
    "end\n",
    "\n",
    "# correction = 0.5 は連続性補正を与える.\n",
    "function _chisqstat_or(a, b, c, d, δ; correction=0.0)\n",
    "    ã, b̃, c̃, d̃ = a-δ, b+δ, c+δ, d-δ\n",
    "    safemul(max(0, abs(δ)-correction)^2, 1/ã + 1/b̃ + 1/c̃ + 1/d̃)\n",
    "end\n",
    "\n",
    "function chisqstat_or(a, b, c, d; ω=1, correction=0.0)\n",
    "    δ = delta(a, b, c, d; ω)\n",
    "    _chisqstat_or(a, b, c, d, δ; correction)\n",
    "end\n",
    "\n",
    "function pvalue_or_pearson_chisq(a, b, c, d; ω=1, correction=0.0)\n",
    "    χ² = chisqstat_or(a, b, c, d; ω, correction)\n",
    "    ccdf(Chisq(1), χ²)\n",
    "end\n",
    "\n",
    "function confint_or_pearson_chisq(a, b, c, d; α=0.05, correction=0.0)\n",
    "    (a+b==0 || c+d==0 || a+c==0 || b+d==0) && return [0, Inf]\n",
    "    f(logω) = logit(pvalue_or_pearson_chisq(a, b, c, d; ω=exp(logω), correction)) - logit(α)\n",
    "    ps = if a == 0 || d == 0\n",
    "        [0, exp(find_zero(f, 0.0))]\n",
    "    elseif b == 0 || c == 0\n",
    "        [exp(find_zero(f, 0.0)), Inf]\n",
    "    else\n",
    "        ORhat = oddsratiohat(a, b, c, d)\n",
    "        ω_L, ω_U = ORhat/2, 2ORhat\n",
    "        [exp(find_zero(f, log(ω_L))), exp(find_zero(f, log(ω_U)))]\n",
    "    end\n",
    "end"
   ]
  },
  {
   "cell_type": "markdown",
   "id": "1e28d847-8664-458f-8453-ded1fa22ab1d",
   "metadata": {},
   "source": [
    "<img src=\"IMG_8592.png\">"
   ]
  },
  {
   "cell_type": "code",
   "execution_count": 2,
   "id": "39cbc228-9394-405f-a1be-c8af9bb9440d",
   "metadata": {},
   "outputs": [
    {
     "name": "stdout",
     "output_type": "stream",
     "text": [
      "A = [14 41967; 1 18326]\n",
      "oddsratiohat(a, b, c, d) = 6.11347010746539\n",
      "confint_or_pearson_chisq(a, b, c, d) = [1.0277686835274809, 36.36317619246635]\n",
      "pvalue_or_pearson_chisq(a, b, c, d) = 0.045734383713917776\n"
     ]
    }
   ],
   "source": [
    "A = [\n",
    "    14 41981-14\n",
    "     1 18327-1\n",
    "]\n",
    "a, b, c, d = A'\n",
    "\n",
    "@show A\n",
    "@show oddsratiohat(a, b, c, d)\n",
    "@show confint_or_pearson_chisq(a, b, c, d)\n",
    "@show pvalue_or_pearson_chisq(a, b, c, d)\n",
    ";"
   ]
  },
  {
   "cell_type": "code",
   "execution_count": 3,
   "id": "7410dda2-f8b7-4fd4-9d60-a0579c34c9e7",
   "metadata": {},
   "outputs": [
    {
     "name": "stdout",
     "output_type": "stream",
     "text": [
      "A = [14 41967; 2 18325]\n",
      "oddsratiohat(a, b, c, d) = 3.056568256010675\n",
      "confint_or_pearson_chisq(a, b, c, d) = [0.7754073277864398, 12.048222656197431]\n",
      "pvalue_or_pearson_chisq(a, b, c, d) = 0.11971064589398882\n"
     ]
    }
   ],
   "source": [
    "A = [\n",
    "    14 41981-14\n",
    "     2 18327-2\n",
    "]\n",
    "a, b, c, d = A'\n",
    "\n",
    "@show A\n",
    "@show oddsratiohat(a, b, c, d)\n",
    "@show confint_or_pearson_chisq(a, b, c, d)\n",
    "@show pvalue_or_pearson_chisq(a, b, c, d)\n",
    ";"
   ]
  },
  {
   "cell_type": "code",
   "execution_count": 4,
   "id": "ddde763c-6eaa-4c32-a0a7-917f30c8a241",
   "metadata": {},
   "outputs": [
    {
     "name": "stdout",
     "output_type": "stream",
     "text": [
      "A = [11 17958; 1 18326]\n",
      "oddsratiohat(a, b, c, d) = 11.225414856888294\n",
      "confint_or_pearson_chisq(a, b, c, d) = [1.8629687749595616, 67.6349343557417]\n",
      "pvalue_or_pearson_chisq(a, b, c, d) = 0.0034830100353045444\n"
     ]
    }
   ],
   "source": [
    "A = [\n",
    "    11 17969-11\n",
    "     1 18327-1\n",
    "]\n",
    "a, b, c, d = A'\n",
    "\n",
    "@show A\n",
    "@show oddsratiohat(a, b, c, d)\n",
    "@show confint_or_pearson_chisq(a, b, c, d)\n",
    "@show pvalue_or_pearson_chisq(a, b, c, d)\n",
    ";"
   ]
  },
  {
   "cell_type": "code",
   "execution_count": 5,
   "id": "05e77006-5479-458e-a6df-6d09091bff7e",
   "metadata": {},
   "outputs": [
    {
     "name": "stdout",
     "output_type": "stream",
     "text": [
      "A = [11 17958; 2 18325]\n",
      "oddsratiohat(a, b, c, d) = 5.612401158258158\n",
      "confint_or_pearson_chisq(a, b, c, d) = [1.3954333945865385, 22.571783961847302]\n",
      "pvalue_or_pearson_chisq(a, b, c, d) = 0.011332010573363192\n"
     ]
    }
   ],
   "source": [
    "A = [\n",
    "    11 17969-11\n",
    "     2 18327-2\n",
    "]\n",
    "a, b, c, d = A'\n",
    "\n",
    "@show A\n",
    "@show oddsratiohat(a, b, c, d)\n",
    "@show confint_or_pearson_chisq(a, b, c, d)\n",
    "@show pvalue_or_pearson_chisq(a, b, c, d)\n",
    ";"
   ]
  },
  {
   "cell_type": "code",
   "execution_count": 9,
   "id": "0431d4e0-b1dd-4ba9-858e-55f6c70daa4d",
   "metadata": {},
   "outputs": [
    {
     "name": "stdout",
     "output_type": "stream",
     "text": [
      "A = [11 17958; 3 18324]\n",
      "oddsratiohat(a, b, c, d) = 3.7413965920481123\n",
      "confint_or_pearson_chisq(a, b, c, d) = [1.1235405836250592, 12.458362906548109]\n",
      "pvalue_or_pearson_chisq(a, b, c, d) = 0.029591125356557564\n"
     ]
    }
   ],
   "source": [
    "A = [\n",
    "    11 17969-11\n",
    "     3 18327-3\n",
    "]\n",
    "a, b, c, d = A'\n",
    "\n",
    "@show A\n",
    "@show oddsratiohat(a, b, c, d)\n",
    "@show confint_or_pearson_chisq(a, b, c, d)#correction=0.5)\n",
    "@show pvalue_or_pearson_chisq(a, b, c, d)#correction=0.5)\n",
    ";"
   ]
  },
  {
   "cell_type": "code",
   "execution_count": 10,
   "id": "e62f26d6-38f1-4280-8e74-5f8ff25a3f1e",
   "metadata": {},
   "outputs": [
    {
     "name": "stdout",
     "output_type": "stream",
     "text": [
      "A = [11 17958; 3 18324]\n",
      "oddsratiohat(a, b, c, d) = 3.7413965920481123\n",
      "confint_or_pearson_chisq(a, b, c, d; correction = 0.5) = [0.9729294587795231, 16.864414230409725]\n",
      "pvalue_or_pearson_chisq(a, b, c, d; correction = 0.5) = 0.05636604270757734\n"
     ]
    }
   ],
   "source": [
    "A = [\n",
    "    11 17969-11\n",
    "     3 18327-3\n",
    "]\n",
    "a, b, c, d = A'\n",
    "\n",
    "@show A\n",
    "@show oddsratiohat(a, b, c, d)\n",
    "@show confint_or_pearson_chisq(a, b, c, d; correction=0.5)\n",
    "@show pvalue_or_pearson_chisq(a, b, c, d; correction=0.5)\n",
    ";"
   ]
  },
  {
   "cell_type": "code",
   "execution_count": null,
   "id": "5f34d865-dc67-4dc3-96be-6f2c77387a88",
   "metadata": {},
   "outputs": [],
   "source": []
  }
 ],
 "metadata": {
  "jupytext": {
   "formats": "ipynb,jl:hydrogen"
  },
  "kernelspec": {
   "display_name": "Julia current stable release",
   "language": "julia",
   "name": "julia"
  },
  "language_info": {
   "file_extension": ".jl",
   "mimetype": "application/julia",
   "name": "julia",
   "version": "1.11.5"
  }
 },
 "nbformat": 4,
 "nbformat_minor": 5
}
