{
 "cells": [
  {
   "cell_type": "markdown",
   "id": "baa3868e",
   "metadata": {},
   "source": [
    "# 音声概要集\n",
    "\n",
    "移動しました → https://genkuroki.github.io/audio/"
   ]
  }
 ],
 "metadata": {
  "kernelspec": {
   "display_name": "Julia current stable release",
   "language": "julia",
   "name": "julia"
  },
  "language_info": {
   "file_extension": ".jl",
   "mimetype": "application/julia",
   "name": "julia",
   "version": "1.11.5"
  },
  "toc": {
   "base_numbering": 1,
   "nav_menu": {},
   "number_sections": false,
   "sideBar": true,
   "skip_h1_title": true,
   "title_cell": "音声概要集目次",
   "title_sidebar": "音声概要集目次",
   "toc_cell": true,
   "toc_position": {},
   "toc_section_display": true,
   "toc_window_display": false
  }
 },
 "nbformat": 4,
 "nbformat_minor": 5
}
