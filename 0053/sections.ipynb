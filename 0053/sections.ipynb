{
 "cells": [
  {
   "cell_type": "markdown",
   "id": "d389f2c2-3675-48c0-98f6-2ed4c45b3217",
   "metadata": {
    "tags": []
   },
   "source": [
    "# タイトル\n",
    "\n",
    "## 節\n",
    "\n",
    "### 部分節\n",
    "\n",
    "## 節\n",
    "\n",
    "### 部分節"
   ]
  },
  {
   "cell_type": "code",
   "execution_count": null,
   "id": "7f01d9e0-02e3-443c-9cc7-0015bcb0b1a3",
   "metadata": {},
   "outputs": [],
   "source": []
  }
 ],
 "metadata": {
  "jupytext": {
   "formats": "ipynb,jl:hydrogen"
  },
  "kernelspec": {
   "display_name": "Julia current stable release",
   "language": "julia",
   "name": "julia"
  },
  "language_info": {
   "file_extension": ".jl",
   "mimetype": "application/julia",
   "name": "julia",
   "version": "1.11.5"
  },
  "toc-autonumbering": true,
  "toc-showmarkdowntxt": false,
  "toc-showtags": false
 },
 "nbformat": 4,
 "nbformat_minor": 5
}
