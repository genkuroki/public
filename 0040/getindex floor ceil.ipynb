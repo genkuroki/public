{
 "cells": [
  {
   "cell_type": "markdown",
   "id": "2ea3608a-a7c7-4774-89e3-7e3a443ef237",
   "metadata": {},
   "source": [
    "* https://twitter.com/YutaTasaki/status/1617668862165778432\n",
    "* https://gist.github.com/tagdtm/3d923b706430e80973463d76a0b3605e"
   ]
  },
  {
   "cell_type": "code",
   "execution_count": 1,
   "id": "ec454abc-9557-459f-9ac4-03559676f7ca",
   "metadata": {},
   "outputs": [],
   "source": [
    "nx = 2\n",
    "ny = 2\n",
    "a = zeros(2,2)\n",
    "b = zeros(2,2)\n",
    "c = zeros(2,2)\n",
    "\n",
    "a = [1 2; 3 4]\n",
    "b = [1.1 1.8; 1.4 1.7]\n",
    "\n",
    "for i in 1:nx\n",
    "    for j in 1:ny\n",
    "      c[i,j] = a[i,j] * a[floor.(Int, b[i,j]), ceil.(Int, b[i,j])]\n",
    "    end\n",
    "end\n",
    "\n",
    "#=\n",
    "I would like to find simpler way of this without for loop.\n",
    "The expected form is something like\n",
    "c = a .* a[floor.(Int64,b),ceil.(Int64,b)]\n",
    "But it generates multi dimension array, which in this case 4d array.\n",
    "=#"
   ]
  },
  {
   "cell_type": "code",
   "execution_count": 2,
   "id": "172c9916-5c91-460f-823f-1f5cb4233b52",
   "metadata": {},
   "outputs": [
    {
     "data": {
      "text/plain": [
       "2×2 Matrix{Float64}:\n",
       " 2.0  4.0\n",
       " 6.0  8.0"
      ]
     },
     "execution_count": 2,
     "metadata": {},
     "output_type": "execute_result"
    }
   ],
   "source": [
    "c"
   ]
  },
  {
   "cell_type": "code",
   "execution_count": 3,
   "id": "97e6734e-1989-4700-82a1-297e7cfc575f",
   "metadata": {},
   "outputs": [
    {
     "data": {
      "text/plain": [
       "2×2 Matrix{Float64}:\n",
       " 2.0  4.0\n",
       " 6.0  8.0"
      ]
     },
     "execution_count": 3,
     "metadata": {},
     "output_type": "execute_result"
    }
   ],
   "source": [
    "c1 = zeros(2,2)\n",
    "@. c1 = a * getindex((a,), floor(Int, b), ceil(Int, b))"
   ]
  },
  {
   "cell_type": "code",
   "execution_count": 4,
   "id": "dda43b1a-020a-4b0d-ad94-57d2af685ab2",
   "metadata": {},
   "outputs": [
    {
     "data": {
      "text/plain": [
       "true"
      ]
     },
     "execution_count": 4,
     "metadata": {},
     "output_type": "execute_result"
    }
   ],
   "source": [
    "c1 == c"
   ]
  },
  {
   "cell_type": "code",
   "execution_count": 5,
   "id": "037fee29-34fe-46c7-833a-4c172af0d45a",
   "metadata": {},
   "outputs": [
    {
     "data": {
      "text/plain": [
       "5×5 Matrix{Float64}:\n",
       "  2.0  81.0  63.0  27.0   8.0\n",
       "  0.0  81.0   1.0   7.0  54.0\n",
       " 36.0   2.0  54.0   9.0  63.0\n",
       "  0.0   9.0  81.0   9.0  18.0\n",
       " 27.0  36.0   9.0   9.0  81.0"
      ]
     },
     "execution_count": 5,
     "metadata": {},
     "output_type": "execute_result"
    }
   ],
   "source": [
    "m, n = 5, 5\n",
    "A = round.(10rand(m, n))\n",
    "B = round.(1 .+ 3rand(m, n); digits=1)\n",
    "C = similar(A)\n",
    "\n",
    "for k in keys(A)\n",
    "    C[k] = A[k] * A[floor(Int, B[k]), ceil(Int, B[k])]\n",
    "end\n",
    "C"
   ]
  },
  {
   "cell_type": "code",
   "execution_count": 6,
   "id": "353bb01c-50b3-4a9b-8fc0-d3bb0e9aec46",
   "metadata": {},
   "outputs": [
    {
     "data": {
      "text/plain": [
       "5×5 Matrix{Float64}:\n",
       "  2.0  81.0  63.0  27.0   8.0\n",
       "  0.0  81.0   1.0   7.0  54.0\n",
       " 36.0   2.0  54.0   9.0  63.0\n",
       "  0.0   9.0  81.0   9.0  18.0\n",
       " 27.0  36.0   9.0   9.0  81.0"
      ]
     },
     "execution_count": 6,
     "metadata": {},
     "output_type": "execute_result"
    }
   ],
   "source": [
    "C1 = similar(A)\n",
    "@. C1 = A * getindex((A,), floor(Int, B), ceil(Int, B))"
   ]
  },
  {
   "cell_type": "code",
   "execution_count": 7,
   "id": "fb584a99-4e5e-468d-9b57-a4e11d682308",
   "metadata": {},
   "outputs": [
    {
     "data": {
      "text/plain": [
       "true"
      ]
     },
     "execution_count": 7,
     "metadata": {},
     "output_type": "execute_result"
    }
   ],
   "source": [
    "C1 == C"
   ]
  },
  {
   "cell_type": "code",
   "execution_count": null,
   "id": "880650db-045d-44f0-9609-766da6987bfa",
   "metadata": {},
   "outputs": [],
   "source": []
  }
 ],
 "metadata": {
  "jupytext": {
   "formats": "ipynb,jl:hydrogen"
  },
  "kernelspec": {
   "display_name": "Julia 1.9.0-beta3",
   "language": "julia",
   "name": "julia-1.9"
  },
  "language_info": {
   "file_extension": ".jl",
   "mimetype": "application/julia",
   "name": "julia",
   "version": "1.9.0"
  }
 },
 "nbformat": 4,
 "nbformat_minor": 5
}
