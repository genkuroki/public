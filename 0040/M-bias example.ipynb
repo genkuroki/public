{
 "cells": [
  {
   "cell_type": "markdown",
   "id": "3706069c-ddd6-43e5-972e-659c8d205625",
   "metadata": {},
   "source": [
    "$$\n",
    "\\begin{matrix}\n",
    "U          &          &     &          & V \\\\\n",
    "\\downarrow & \\searrow &     & \\swarrow & \\downarrow \\\\\n",
    "\\downarrow &          & Z   &          & \\downarrow \\\\\n",
    "\\downarrow &          &     &          & \\downarrow \\\\\n",
    "X          & \\to      & \\to & \\to      & Y \\\\\n",
    "\\end{matrix}\n",
    "\\quad\n",
    "\\begin{cases}\n",
    "Z = qU + sV + \\varepsilon_1 \\\\\n",
    "X = pU + \\varepsilon_2 \\\\\n",
    "Y = aX + rV + \\varepsilon_3 \\\\\n",
    "\\end{cases}\n",
    "\\quad\n",
    "\\begin{cases}\n",
    "\\text{$U,V,\\varepsilon_1,\\varepsilon_2,\\varepsilon_3$ are i.i.d $\\sim$ Normal(0,1).} \\\\\n",
    "E[Z^2] = q^2 + s^2 + \\sigma_1^2 := 1 \\\\\n",
    "E[X^2] = p^2 + \\sigma_2^2 := 1 \\\\\n",
    "\\end{cases}\n",
    "$$\n",
    "\n",
    "<img src=\"IMG_8351.PNG\" width=80%>"
   ]
  },
  {
   "cell_type": "code",
   "execution_count": 1,
   "id": "3e5f6eed-02cd-4672-9ceb-82f18d2b6248",
   "metadata": {},
   "outputs": [
    {
     "data": {
      "text/plain": [
       "rd (generic function with 1 method)"
      ]
     },
     "execution_count": 1,
     "metadata": {},
     "output_type": "execute_result"
    }
   ],
   "source": [
    "using Distributions\n",
    "using StatsPlots\n",
    "default(fmt=:png, size=(400, 250),\n",
    "    titlefontsize=8, tickfontsize=6, legendfontsize=7, guidefontsize=7)\n",
    "rd(x) = round(x; digits=3)"
   ]
  },
  {
   "cell_type": "code",
   "execution_count": 2,
   "id": "4463afd4-2480-4fda-a146-5b82b9e806b8",
   "metadata": {},
   "outputs": [
    {
     "data": {
      "text/plain": [
       "5×100 Matrix{Float64}:\n",
       " -0.915   0.305  -0.45   1.252  -0.01   …  0.513   1.287  -0.59   -1.436\n",
       " -1.477  -2.983  -2.398  5.441  -1.12      2.448  -1.868  -3.002  -0.83\n",
       " -0.855  -0.732  -0.73   1.918   0.106     0.698   0.481  -0.867  -0.307\n",
       " -1.011   0.329  -0.381  1.253   0.063     0.396   1.553  -0.726  -1.004\n",
       " -0.142  -1.203  -0.702  1.375  -0.347     0.678  -1.037  -0.798   0.251"
      ]
     },
     "execution_count": 2,
     "metadata": {},
     "output_type": "execute_result"
    }
   ],
   "source": [
    "function rand_XYZUV(; σ₁, σ₂, σ₃, a, p = √(1 - σ₂^2), q, r, s=√(1-q^2-σ₁^2))\n",
    "    U = randn()\n",
    "    V = randn()\n",
    "    Z = q*U + s*V + σ₁*randn()\n",
    "    X = p*U + σ₂*randn()\n",
    "    Y = a*X + r*V + σ₃*randn()\n",
    "    [X, Y, Z, U, V]\n",
    "end\n",
    "\n",
    "function rand_XYZUV(n;\n",
    "        σ₁ = 0.2, σ₂ = 0.2, σ₃ = 0.2, \n",
    "        a = 1.0, p = √(1 - σ₂^2), q = √((1 - σ₁^2)/2), r = √10, s = √(1 - q^2 - σ₁^2))\n",
    "    [rand_XYZUV(; σ₁, σ₂, σ₃, a, p, q, r) for _ in 1:n] |> stack\n",
    "end\n",
    "\n",
    "rand_XYZUV(100) .|> rd"
   ]
  },
  {
   "cell_type": "code",
   "execution_count": 3,
   "id": "cd59b0fb-9277-41f9-a093-f6fe13456d5c",
   "metadata": {},
   "outputs": [
    {
     "data": {
      "text/plain": [
       "show_XYZUV (generic function with 2 methods)"
      ]
     },
     "execution_count": 3,
     "metadata": {},
     "output_type": "execute_result"
    }
   ],
   "source": [
    "function show_XYZUV(n = 10^6;\n",
    "        σ₁ = 0.2, σ₂ = 0.2, σ₃ = 0.2, \n",
    "        a = 1.0, p = √(1 - σ₂^2), q = √((1 - σ₁^2)/2), r = √10, s = √(1 - q^2 - σ₁^2))\n",
    "    println(\"====== model parameters\")\n",
    "    @show rd(σ₁) rd(σ₂) rd(σ₃) rd(a) rd(p) rd(q) rd(r) rd(s) n\n",
    "    println()\n",
    "\n",
    "    data = rand_XYZUV(n; σ₁, σ₂, σ₃, a, p, q, r, s)\n",
    "    X, Y, Z, U, V = eachrow(data)\n",
    "    println(\"====== summary of data\")\n",
    "    @show rd.(mean.((X, Y, Z, U, V)))\n",
    "    @show rd.(var.((X, Y, Z, U, V)))\n",
    "    @show rd.(std.((X, Y, Z, U, V)))\n",
    "    println()\n",
    "\n",
    "    println(\"====== resgressions\")\n",
    "    println(\"=== Y ~ α₁X\")\n",
    "    @show rd(a)\n",
    "    α = [X;;] \\ Y\n",
    "    @show rd.(α)\n",
    "    println(\"=== Y ∼ β₁X + β₂Z\")\n",
    "    @show rd(a - p*q*r*s/(1 - p^2*q^2)), rd(r*s/(1 - p^2*q^2))\n",
    "    β = [X Z] \\ Y\n",
    "    @show rd.(β)\n",
    "    println(\"=== Y ∼ γ₁X + γ₄V\")\n",
    "    @show rd(a), rd(r)\n",
    "    γ = [X V] \\ Y\n",
    "    @show rd.(γ)\n",
    "    println()\n",
    "    \n",
    "    println(\"====== M-bias\")\n",
    "    @show rd(β[1] - a)\n",
    "    println()\n",
    "\n",
    "    println(\"====== errors of prediction for Y\")\n",
    "    err_α = @. Y - α[1]*X\n",
    "    err_β = @. Y - (β[1]*X + β[2]*Z)\n",
    "    err_γ = @. Y - (γ[1]*X + γ[2]*V)\n",
    "    @show rd.(mean.((err_α, err_β, err_γ)))\n",
    "    @show rd.(var.((err_α, err_β, err_γ)))\n",
    "    @show rd.(std.((err_α, err_β, err_γ)))\n",
    "    println()\n",
    "\n",
    "    P1 = plot()\n",
    "    stephist!(err_α; norm=true, label=\"Y ∼ X\", ls=:solid)\n",
    "    stephist!(err_β; norm=true, label=\"Y ∼ X + Z\", ls=:dash)\n",
    "    plot!(xguide=\"error of prediction for Y\")\n",
    "    \n",
    "    P2 = plot()\n",
    "    stephist!(err_α; norm=true, label=\"Y ∼ X\", ls=:solid)\n",
    "    stephist!(err_β; norm=true, label=\"Y ∼ X + Z\", ls=:dash)\n",
    "    stephist!(err_γ; norm=true, label=\"Y ∼ X + V\", ls=:dashdot)\n",
    "    plot!(xguide=\"error of prediction for Y\")\n",
    "\n",
    "    plot(P1, P2; size=(800, 250))\n",
    "    plot!(bottommargin=4Plots.mm)\n",
    "end"
   ]
  },
  {
   "cell_type": "code",
   "execution_count": 4,
   "id": "45a901d9-2e20-4a18-a505-c81c77fe5b2e",
   "metadata": {},
   "outputs": [
    {
     "name": "stdout",
     "output_type": "stream",
     "text": [
      "====== model parameters\n",
      "rd(σ₁) = 0.2\n",
      "rd(σ₂) = 0.2\n",
      "rd(σ₃) = 0.2\n",
      "rd(a) = 1.0\n",
      "rd(p) = 0.98\n",
      "rd(q) = 0.693\n",
      "rd(r) = 3.162\n",
      "rd(s) = 0.693\n",
      "n = 1000000\n",
      "\n",
      "====== summary of data\n",
      "rd.(mean.((X, Y, Z, U, V))) = (-0.0, 0.004, 0.0, -0.0, 0.001)\n",
      "rd.(var.((X, Y, Z, U, V))) = (1.0, 11.026, 0.999, 1.0, 0.999)\n",
      "rd.(std.((X, Y, Z, U, V))) = (1.0, 3.32, 0.999, 1.0, 0.999)\n",
      "\n",
      "====== resgressions\n",
      "=== Y ~ α₁X\n",
      "rd(a) = 1.0\n",
      "rd.(α) = [0.999]\n",
      "=== Y ∼ β₁X + β₂Z\n",
      "(rd(a - (p * q * r * s) / (1 - p ^ 2 * q ^ 2)), rd((r * s) / (1 - p ^ 2 * q ^ 2))) = (-1.758, 4.063)\n",
      "rd.(β) = [-1.76, 4.065]\n",
      "=== Y ∼ γ₁X + γ₄V\n",
      "(rd(a), rd(r)) = (1.0, 3.162)\n",
      "rd.(γ) = [1.0, 3.162]\n",
      "\n",
      "====== M-bias\n",
      "rd(β[1] - a) = -2.76\n",
      "\n",
      "====== errors of prediction for Y\n",
      "rd.(mean.((err_α, err_β, err_γ))) = (0.004, 0.002, 0.0)\n",
      "rd.(var.((err_α, err_β, err_γ))) = (10.027, 1.137, 0.04)\n",
      "rd.(std.((err_α, err_β, err_γ))) = (3.167, 1.066, 0.2)\n",
      "\n"
     ]
    },
    {
     "data": {
      "image/png": "[encoded data removed]"
     },
     "execution_count": 4,
     "metadata": {},
     "output_type": "execute_result"
    }
   ],
   "source": [
    "show_XYZUV()"
   ]
  },
  {
   "cell_type": "markdown",
   "id": "e999e58a-69c9-448b-8dc5-f1e22b0e8114",
   "metadata": {},
   "source": [
    "$$\n",
    "\\begin{matrix}\n",
    "U          &          &     &          & V \\\\\n",
    "\\downarrow & \\searrow &     & \\swarrow & \\downarrow \\\\\n",
    "\\downarrow &          & Z   &          & \\downarrow \\\\\n",
    "\\downarrow &          &     &          & \\downarrow \\\\\n",
    "X          & \\to      & \\to & \\to      & Y \\\\\n",
    "\\end{matrix}\n",
    "\\quad\n",
    "\\begin{cases}\n",
    "Z = qU + sV + \\varepsilon_1 \\\\\n",
    "X = pU + \\varepsilon_2 \\\\\n",
    "Y = aX + rV + \\varepsilon_3 \\\\\n",
    "\\end{cases}\n",
    "\\quad\n",
    "\\begin{cases}\n",
    "\\text{$U,V,\\varepsilon_1,\\varepsilon_2,\\varepsilon_3$ are i.i.d $\\sim$ Normal(0,1).} \\\\\n",
    "E[Z^2] = q^2 + s^2 + \\sigma_1^2 := 1 \\\\\n",
    "E[X^2] = p^2 + \\sigma_2^2 := 1 \\\\\n",
    "\\end{cases}\n",
    "$$"
   ]
  },
  {
   "cell_type": "code",
   "execution_count": null,
   "id": "0b0043ab-6117-4475-969f-7d1cc75ba450",
   "metadata": {},
   "outputs": [],
   "source": []
  }
 ],
 "metadata": {
  "jupytext": {
   "formats": "ipynb,jl:hydrogen"
  },
  "kernelspec": {
   "display_name": "Julia 1.9.0-beta3",
   "language": "julia",
   "name": "julia-1.9"
  },
  "language_info": {
   "file_extension": ".jl",
   "mimetype": "application/julia",
   "name": "julia",
   "version": "1.9.0"
  }
 },
 "nbformat": 4,
 "nbformat_minor": 5
}
