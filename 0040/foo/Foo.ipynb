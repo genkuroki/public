{
 "cells": [
  {
   "cell_type": "code",
   "execution_count": 1,
   "id": "f1c1f031-a706-4bbc-bf78-b972da6520da",
   "metadata": {},
   "outputs": [
    {
     "name": "stderr",
     "output_type": "stream",
     "text": [
      "\u001b[32m\u001b[1m  Generating\u001b[22m\u001b[39m  project Foo:\n",
      "    Foo\\Project.toml\n",
      "    Foo\\src\\Foo.jl\n"
     ]
    }
   ],
   "source": [
    "]generate Foo"
   ]
  },
  {
   "cell_type": "code",
   "execution_count": 2,
   "id": "f9edf413-eb9f-46d3-9c5c-ac107769d208",
   "metadata": {},
   "outputs": [
    {
     "name": "stderr",
     "output_type": "stream",
     "text": [
      "\u001b[32m\u001b[1m  Activating\u001b[22m\u001b[39m new project at `D:\\OneDrive\\public\\0040\\foo`\n"
     ]
    }
   ],
   "source": [
    "]activate ."
   ]
  },
  {
   "cell_type": "code",
   "execution_count": 3,
   "id": "3ee3616d-c5c7-44dc-ae88-26554c1cef0c",
   "metadata": {},
   "outputs": [
    {
     "name": "stdout",
     "output_type": "stream",
     "text": [
      "total 20\n",
      "drwxr-xr-x 1 genkuroki genkuroki    0 Feb  5 18:29 .\n",
      "drwxr-xr-x 1 genkuroki genkuroki    0 Feb  5 18:21 ..\n",
      "drwxr-xr-x 1 genkuroki genkuroki    0 Feb  5 18:27 .ipynb_checkpoints\n",
      "drwxr-xr-x 1 genkuroki genkuroki    0 Feb  5 18:29 Foo\n",
      "-rw-r--r-- 1 genkuroki genkuroki 4633 Feb  5 18:27 Foo.ipynb\n"
     ]
    }
   ],
   "source": [
    ";ls -la"
   ]
  },
  {
   "cell_type": "code",
   "execution_count": 4,
   "id": "20fab797-7a20-45d7-90d0-03fdb7bf9537",
   "metadata": {},
   "outputs": [
    {
     "name": "stderr",
     "output_type": "stream",
     "text": [
      "\u001b[32m\u001b[1m   Resolving\u001b[22m\u001b[39m package versions...\n",
      "\u001b[32m\u001b[1m    Updating\u001b[22m\u001b[39m `D:\\OneDrive\\public\\0040\\foo\\Project.toml`\n",
      "  \u001b[90m[3fd9b0fe] \u001b[39m\u001b[92m+ Foo v0.1.0 `Foo`\u001b[39m\n",
      "\u001b[32m\u001b[1m    Updating\u001b[22m\u001b[39m `D:\\OneDrive\\public\\0040\\foo\\Manifest.toml`\n",
      "  \u001b[90m[3fd9b0fe] \u001b[39m\u001b[92m+ Foo v0.1.0 `Foo`\u001b[39m\n"
     ]
    }
   ],
   "source": [
    "]dev ./Foo"
   ]
  },
  {
   "cell_type": "code",
   "execution_count": 5,
   "id": "3a781fea-3214-4e68-b54a-4067fabe08e8",
   "metadata": {},
   "outputs": [
    {
     "name": "stdout",
     "output_type": "stream",
     "text": [
      "\u001b[32m\u001b[1mStatus\u001b[22m\u001b[39m `D:\\OneDrive\\public\\0040\\foo\\Project.toml`\n",
      "  \u001b[90m[3fd9b0fe] \u001b[39mFoo v0.1.0 `Foo`\n"
     ]
    }
   ],
   "source": [
    "]st"
   ]
  },
  {
   "cell_type": "code",
   "execution_count": 6,
   "id": "5066d3df-8f2e-4c01-a4bc-80c3b250aecc",
   "metadata": {},
   "outputs": [
    {
     "data": {
      "text/plain": [
       "Main.Foo"
      ]
     },
     "execution_count": 6,
     "metadata": {},
     "output_type": "execute_result"
    }
   ],
   "source": [
    "module Foo\n",
    "\n",
    "export greet\n",
    "greet() = print(\"Foo module defined in Main\")\n",
    "\n",
    "end # module Foo"
   ]
  },
  {
   "cell_type": "code",
   "execution_count": 7,
   "id": "93415c74-5bdc-4e63-8932-44f42b4496fd",
   "metadata": {},
   "outputs": [
    {
     "name": "stderr",
     "output_type": "stream",
     "text": [
      "\u001b[36m\u001b[1m[ \u001b[22m\u001b[39m\u001b[36m\u001b[1mInfo: \u001b[22m\u001b[39mPrecompiling Foo [3fd9b0fe-f817-4e6b-be18-d9e347fda0f6]\n"
     ]
    },
    {
     "ename": "LoadError",
     "evalue": "importing Foo into Main conflicts with an existing global",
     "output_type": "error",
     "traceback": [
      "importing Foo into Main conflicts with an existing global",
      ""
     ]
    }
   ],
   "source": [
    "import Foo"
   ]
  },
  {
   "cell_type": "code",
   "execution_count": 8,
   "id": "007ecda4-67f6-463d-8910-8ece8c83052f",
   "metadata": {},
   "outputs": [
    {
     "name": "stdout",
     "output_type": "stream",
     "text": [
      "Foo module defined in Main"
     ]
    }
   ],
   "source": [
    "Foo.greet()"
   ]
  },
  {
   "cell_type": "code",
   "execution_count": null,
   "id": "caa15acb-fa42-4ca0-9d7a-48338eed6d9f",
   "metadata": {},
   "outputs": [],
   "source": []
  }
 ],
 "metadata": {
  "kernelspec": {
   "display_name": "Julia 1.9.0-beta3",
   "language": "julia",
   "name": "julia-1.9"
  },
  "language_info": {
   "file_extension": ".jl",
   "mimetype": "application/julia",
   "name": "julia",
   "version": "1.9.0"
  }
 },
 "nbformat": 4,
 "nbformat_minor": 5
}
