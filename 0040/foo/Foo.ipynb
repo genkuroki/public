{
 "cells": [
  {
   "cell_type": "code",
   "execution_count": 1,
   "id": "f1c1f031-a706-4bbc-bf78-b972da6520da",
   "metadata": {},
   "outputs": [
    {
     "name": "stderr",
     "output_type": "stream",
     "text": [
      "\u001b[32m\u001b[1m  Generating\u001b[22m\u001b[39m  project Foo:\n",
      "    Foo\\Project.toml\n",
      "    Foo\\src\\Foo.jl\n"
     ]
    }
   ],
   "source": [
    "]generate Foo"
   ]
  },
  {
   "cell_type": "code",
   "execution_count": 2,
   "id": "f9edf413-eb9f-46d3-9c5c-ac107769d208",
   "metadata": {},
   "outputs": [
    {
     "name": "stderr",
     "output_type": "stream",
     "text": [
      "\u001b[32m\u001b[1m  Activating\u001b[22m\u001b[39m new project at `D:\\OneDrive\\public\\0040\\foo`\n"
     ]
    }
   ],
   "source": [
    "]activate ."
   ]
  },
  {
   "cell_type": "code",
   "execution_count": 3,
   "id": "20fab797-7a20-45d7-90d0-03fdb7bf9537",
   "metadata": {},
   "outputs": [
    {
     "name": "stderr",
     "output_type": "stream",
     "text": [
      "\u001b[32m\u001b[1m   Resolving\u001b[22m\u001b[39m package versions...\n",
      "\u001b[32m\u001b[1m    Updating\u001b[22m\u001b[39m `D:\\OneDrive\\public\\0040\\foo\\Project.toml`\n",
      "  \u001b[90m[d0564559] \u001b[39m\u001b[92m+ Foo v0.1.0 `Foo`\u001b[39m\n",
      "\u001b[32m\u001b[1m    Updating\u001b[22m\u001b[39m `D:\\OneDrive\\public\\0040\\foo\\Manifest.toml`\n",
      "  \u001b[90m[d0564559] \u001b[39m\u001b[92m+ Foo v0.1.0 `Foo`\u001b[39m\n"
     ]
    }
   ],
   "source": [
    "]dev ./Foo"
   ]
  },
  {
   "cell_type": "code",
   "execution_count": 4,
   "id": "3a781fea-3214-4e68-b54a-4067fabe08e8",
   "metadata": {},
   "outputs": [
    {
     "name": "stdout",
     "output_type": "stream",
     "text": [
      "\u001b[32m\u001b[1mStatus\u001b[22m\u001b[39m `D:\\OneDrive\\public\\0040\\foo\\Project.toml`\n",
      "  \u001b[90m[d0564559] \u001b[39mFoo v0.1.0 `Foo`\n"
     ]
    }
   ],
   "source": [
    "]st"
   ]
  },
  {
   "cell_type": "code",
   "execution_count": 5,
   "id": "3ee3616d-c5c7-44dc-ae88-26554c1cef0c",
   "metadata": {},
   "outputs": [
    {
     "name": "stdout",
     "output_type": "stream",
     "text": [
      "total 22\n",
      "drwxr-xr-x 1 genkuroki genkuroki    0 Feb  5 18:38 .\n",
      "drwxr-xr-x 1 genkuroki genkuroki    0 Feb  5 18:21 ..\n",
      "drwxr-xr-x 1 genkuroki genkuroki    0 Feb  5 18:37 .ipynb_checkpoints\n",
      "drwxr-xr-x 1 genkuroki genkuroki    0 Feb  5 18:37 Foo\n",
      "-rw-r--r-- 1 genkuroki genkuroki 5989 Feb  5 18:37 Foo.ipynb\n",
      "-rw-r--r-- 1 genkuroki genkuroki  274 Feb  5 18:38 Manifest.toml\n",
      "-rw-r--r-- 1 genkuroki genkuroki   52 Feb  5 18:38 Project.toml\n"
     ]
    }
   ],
   "source": [
    ";ls -la"
   ]
  },
  {
   "cell_type": "code",
   "execution_count": 6,
   "id": "caa15acb-fa42-4ca0-9d7a-48338eed6d9f",
   "metadata": {},
   "outputs": [
    {
     "data": {
      "text/plain": [
       "Main.Foo"
      ]
     },
     "execution_count": 6,
     "metadata": {},
     "output_type": "execute_result"
    }
   ],
   "source": [
    "include(\"./Foo/src/Foo.jl\")"
   ]
  },
  {
   "cell_type": "code",
   "execution_count": 7,
   "id": "f17335f7-6ae4-4bee-bfd6-a3011f224b02",
   "metadata": {},
   "outputs": [
    {
     "name": "stderr",
     "output_type": "stream",
     "text": [
      "\u001b[36m\u001b[1m[ \u001b[22m\u001b[39m\u001b[36m\u001b[1mInfo: \u001b[22m\u001b[39mPrecompiling Foo [d0564559-5b47-4c7c-871f-02a065a21f8c]\n"
     ]
    },
    {
     "ename": "LoadError",
     "evalue": "importing Foo into Main conflicts with an existing global",
     "output_type": "error",
     "traceback": [
      "importing Foo into Main conflicts with an existing global",
      ""
     ]
    }
   ],
   "source": [
    "import Foo"
   ]
  },
  {
   "cell_type": "code",
   "execution_count": 8,
   "id": "f3500b37-d050-471f-aace-b150bc736d6b",
   "metadata": {},
   "outputs": [
    {
     "name": "stdout",
     "output_type": "stream",
     "text": [
      "Hello World!"
     ]
    }
   ],
   "source": [
    "Foo.greet()"
   ]
  },
  {
   "cell_type": "code",
   "execution_count": null,
   "id": "cf1d8244-d789-45b8-afea-db079d27bb4d",
   "metadata": {},
   "outputs": [],
   "source": []
  }
 ],
 "metadata": {
  "kernelspec": {
   "display_name": "Julia 1.9.0-beta3",
   "language": "julia",
   "name": "julia-1.9"
  },
  "language_info": {
   "file_extension": ".jl",
   "mimetype": "application/julia",
   "name": "julia",
   "version": "1.9.0"
  }
 },
 "nbformat": 4,
 "nbformat_minor": 5
}
