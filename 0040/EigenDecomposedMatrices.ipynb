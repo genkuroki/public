{
 "cells": [
  {
   "cell_type": "markdown",
   "id": "b0184a3a-d155-4ea7-82bb-d88b29ddee16",
   "metadata": {},
   "source": [
    "## The Original EigenDecompression.EigenDecompose\n",
    "\n",
    "See\n",
    "\n",
    "* https://mobile.twitter.com/realize_ss/status/1615160291108745216\n",
    "* https://qiita.com/lelele/items/8408410a94f5c6b8f76e"
   ]
  },
  {
   "cell_type": "code",
   "execution_count": 1,
   "id": "9c72fb52-e0c2-4b6e-ada5-b0fba6982ae5",
   "metadata": {},
   "outputs": [
    {
     "data": {
      "text/plain": [
       "Eigen{ComplexF64, ComplexF64, Matrix{ComplexF64}, Vector{ComplexF64}}\n",
       "values:\n",
       "100-element Vector{ComplexF64}:\n",
       " -2.9751216540721384 - 0.7361270868451844im\n",
       " -2.9751216540721384 + 0.7361270868451844im\n",
       " -2.8366486254651258 + 0.0im\n",
       " -2.4484641846954807 - 1.2159078705290065im\n",
       " -2.4484641846954807 + 1.2159078705290065im\n",
       "  -2.383557536265102 - 0.6473616193805896im\n",
       "  -2.383557536265102 + 0.6473616193805896im\n",
       " -2.0893584505639122 + 0.0im\n",
       " -2.0342009560006638 - 1.8457021937288598im\n",
       " -2.0342009560006638 + 1.8457021937288598im\n",
       " -1.9189352293259374 - 1.0826785867521127im\n",
       " -1.9189352293259374 + 1.0826785867521127im\n",
       "  -1.839740625871089 + 0.0im\n",
       "                     ⋮\n",
       "  1.9612660936640003 + 0.31609722819482927im\n",
       "  2.1721178114005077 - 1.3257556752057784im\n",
       "  2.1721178114005077 + 1.3257556752057784im\n",
       "  2.2880569126025625 - 0.2029150387620231im\n",
       "  2.2880569126025625 + 0.2029150387620231im\n",
       "   2.342227699415863 - 2.1638904456844994im\n",
       "   2.342227699415863 + 2.1638904456844994im\n",
       "  2.4414741909795317 - 0.6536772820892685im\n",
       "  2.4414741909795317 + 0.6536772820892685im\n",
       "  2.6077222222916125 - 0.6948545922842898im\n",
       "  2.6077222222916125 + 0.6948545922842898im\n",
       "     50.266130128021 + 0.0im\n",
       "vectors:\n",
       "100×100 Matrix{ComplexF64}:\n",
       "   -0.0272317+0.043483im      -0.0272317-0.043483im    …  -0.0976926+0.0im\n",
       "    0.0451154-0.135191im       0.0451154+0.135191im       -0.0892908+0.0im\n",
       "    0.0298785+0.0415915im      0.0298785-0.0415915im       -0.104938+0.0im\n",
       "    0.0524878-0.0436708im      0.0524878+0.0436708im      -0.0917347+0.0im\n",
       "   -0.0905792+0.00143381im    -0.0905792-0.00143381im       -0.11453+0.0im\n",
       " -0.000821915-0.0218844im   -0.000821915+0.0218844im   …   -0.108042+0.0im\n",
       "   -0.0875695-0.00260638im    -0.0875695+0.00260638im     -0.0985717+0.0im\n",
       "   -0.0610746-0.0325608im     -0.0610746+0.0325608im       -0.102526+0.0im\n",
       "    -0.112896-0.0357621im      -0.112896+0.0357621im      -0.0985922+0.0im\n",
       "   -0.0589358-0.124454im      -0.0589358+0.124454im        -0.103696+0.0im\n",
       "    0.0167616+0.0388083im      0.0167616-0.0388083im   …   -0.104073+0.0im\n",
       "    0.0441961+0.0379525im      0.0441961-0.0379525im       -0.096739+0.0im\n",
       "   -0.0227227-0.0829501im     -0.0227227+0.0829501im       -0.101528+0.0im\n",
       "             ⋮                                         ⋱  \n",
       "    0.0670605+0.140139im       0.0670605-0.140139im       -0.0970806+0.0im\n",
       "    -0.020681+0.0351922im      -0.020681-0.0351922im      -0.0931549+0.0im\n",
       "    0.0866356+0.112936im       0.0866356-0.112936im    …   -0.105452+0.0im\n",
       "   -0.0640214-0.0730544im     -0.0640214+0.0730544im       -0.100568+0.0im\n",
       "   -0.0667786+0.0304552im     -0.0667786-0.0304552im       -0.095495+0.0im\n",
       "     -0.17239-0.131254im        -0.17239+0.131254im        -0.104659+0.0im\n",
       "   -0.0899994-0.191002im      -0.0899994+0.191002im       -0.0843374+0.0im\n",
       "  0.000371854-0.0261338im    0.000371854+0.0261338im   …  -0.0974229+0.0im\n",
       "     -0.10273-0.0312613im       -0.10273+0.0312613im      -0.0973507+0.0im\n",
       "   -0.0775642-0.0316448im     -0.0775642+0.0316448im       -0.101065+0.0im\n",
       "    0.0675977+0.0173828im      0.0675977-0.0173828im       -0.104248+0.0im\n",
       "     0.120361-0.0840489im       0.120361+0.0840489im      -0.0988818+0.0im"
      ]
     },
     "execution_count": 1,
     "metadata": {},
     "output_type": "execute_result"
    }
   ],
   "source": [
    "using LinearAlgebra\n",
    "M = rand(100,100)#対角化したい行列\n",
    "E, P = eigen(M)"
   ]
  },
  {
   "cell_type": "code",
   "execution_count": 2,
   "id": "f69a793a-abb9-4c47-ab07-912b4bd711de",
   "metadata": {},
   "outputs": [
    {
     "ename": "LoadError",
     "evalue": "MethodError: no method matching exp(::Eigen{ComplexF64, ComplexF64, Matrix{ComplexF64}, Vector{ComplexF64}})\n\n\u001b[0mClosest candidates are:\n\u001b[0m  exp(\u001b[91m::Union{Float16, Float32, Float64}\u001b[39m)\n\u001b[0m\u001b[90m   @\u001b[39m \u001b[90mBase\u001b[39m \u001b[90mspecial\\\u001b[39m\u001b[90m\u001b[4mexp.jl:325\u001b[24m\u001b[39m\n\u001b[0m  exp(\u001b[91m::Adjoint{T, <:AbstractMatrix} where T\u001b[39m)\n\u001b[0m\u001b[90m   @\u001b[39m \u001b[35mLinearAlgebra\u001b[39m \u001b[90mD:\\Julia-1.9.0-beta2\\share\\julia\\stdlib\\v1.9\\LinearAlgebra\\src\\\u001b[39m\u001b[90m\u001b[4mdense.jl:595\u001b[24m\u001b[39m\n\u001b[0m  exp(\u001b[91m::Transpose{T, <:AbstractMatrix} where T\u001b[39m)\n\u001b[0m\u001b[90m   @\u001b[39m \u001b[35mLinearAlgebra\u001b[39m \u001b[90mD:\\Julia-1.9.0-beta2\\share\\julia\\stdlib\\v1.9\\LinearAlgebra\\src\\\u001b[39m\u001b[90m\u001b[4mdense.jl:596\u001b[24m\u001b[39m\n\u001b[0m  ...\n",
     "output_type": "error",
     "traceback": [
      "MethodError: no method matching exp(::Eigen{ComplexF64, ComplexF64, Matrix{ComplexF64}, Vector{ComplexF64}})\n\n\u001b[0mClosest candidates are:\n\u001b[0m  exp(\u001b[91m::Union{Float16, Float32, Float64}\u001b[39m)\n\u001b[0m\u001b[90m   @\u001b[39m \u001b[90mBase\u001b[39m \u001b[90mspecial\\\u001b[39m\u001b[90m\u001b[4mexp.jl:325\u001b[24m\u001b[39m\n\u001b[0m  exp(\u001b[91m::Adjoint{T, <:AbstractMatrix} where T\u001b[39m)\n\u001b[0m\u001b[90m   @\u001b[39m \u001b[35mLinearAlgebra\u001b[39m \u001b[90mD:\\Julia-1.9.0-beta2\\share\\julia\\stdlib\\v1.9\\LinearAlgebra\\src\\\u001b[39m\u001b[90m\u001b[4mdense.jl:595\u001b[24m\u001b[39m\n\u001b[0m  exp(\u001b[91m::Transpose{T, <:AbstractMatrix} where T\u001b[39m)\n\u001b[0m\u001b[90m   @\u001b[39m \u001b[35mLinearAlgebra\u001b[39m \u001b[90mD:\\Julia-1.9.0-beta2\\share\\julia\\stdlib\\v1.9\\LinearAlgebra\\src\\\u001b[39m\u001b[90m\u001b[4mdense.jl:596\u001b[24m\u001b[39m\n\u001b[0m  ...\n",
      "",
      "Stacktrace:",
      " [1] top-level scope",
      "   @ In[2]:1"
     ]
    }
   ],
   "source": [
    "exp(eigen(M))"
   ]
  },
  {
   "cell_type": "code",
   "execution_count": 3,
   "id": "0ceab85b-f2a5-43b9-a45a-19bebb655d60",
   "metadata": {},
   "outputs": [
    {
     "data": {
      "text/plain": [
       "Main.EigenDecompression"
      ]
     },
     "execution_count": 3,
     "metadata": {},
     "output_type": "execute_result"
    }
   ],
   "source": [
    "module EigenDecompression\n",
    "\n",
    "export EigenDecompose, eigDecomp\n",
    "using LinearAlgebra\n",
    "import Base.*, Base./\n",
    "\n",
    "#対角化された行列型\n",
    "struct EigenDecompose{T<:Number} <: AbstractMatrix{T}\n",
    "    P::AbstractMatrix{T}\n",
    "    D::Diagonal{T}\n",
    "    invP::AbstractMatrix{T}\n",
    "end\n",
    "\n",
    "#普通のMatrixを対角化する\n",
    "function eigDecomp(mat::AbstractMatrix)\n",
    "    E, P = eigen(mat)\n",
    "    EigenDecompose(P, Diagonal(E), inv(P))\n",
    "end\n",
    "\n",
    "#EigenDecompose型に対する関数\n",
    "Base.exp(eig::EigenDecompose) = EigenDecompose(eig.P, exp(eig.D), eig.invP)\n",
    "*(eig::EigenDecompose, vec::AbstractVector) = eig.P * eig.D * eig.invP * vec\n",
    "*(eig::EigenDecompose, sc::Number) = EigenDecompose(eig.P, eig.D*sc, eig.invP)\n",
    "/(eig::EigenDecompose, sc::Number) = EigenDecompose(eig.P, eig.D/sc, eig.invP)\n",
    "\n",
    "#普通のMatrixに戻す\n",
    "Base.Array(eig::EigenDecompose) = eig.P * eig.D * eig.invP\n",
    "\n",
    "end"
   ]
  },
  {
   "cell_type": "code",
   "execution_count": 4,
   "id": "a6f2726f-780f-4cbc-a980-e13b78f159a6",
   "metadata": {},
   "outputs": [],
   "source": [
    "using .EigenDecompression\n",
    "\n",
    "M = rand(100, 100)\n",
    "eM = eigDecomp(M)\n",
    "for i in 1:100\n",
    "    v = rand(100)\n",
    "    rnd = rand()\n",
    "    @assert exp(M*rnd)*v ≈ exp(eM*rnd)*v\n",
    "end"
   ]
  },
  {
   "cell_type": "code",
   "execution_count": 5,
   "id": "b3566c65-ea4a-48b2-9736-00e7904ebe3b",
   "metadata": {},
   "outputs": [
    {
     "data": {
      "text/plain": [
       "bench2 (generic function with 1 method)"
      ]
     },
     "execution_count": 5,
     "metadata": {},
     "output_type": "execute_result"
    }
   ],
   "source": [
    "using BenchmarkTools\n",
    "\n",
    "M = rand(100, 100);\n",
    "\n",
    "#普通な方\n",
    "function bench1(M)\n",
    "    for i in 1:100\n",
    "        v = rand(100)\n",
    "        exp(M*rand())*v\n",
    "    end\n",
    "end\n",
    "\n",
    "#今回実装した方\n",
    "function bench2(M)\n",
    "    eM = eigDecomp(M)\n",
    "    for i in 1:100\n",
    "        v = rand(100)\n",
    "        exp(eM*rand())*v\n",
    "    end\n",
    "end"
   ]
  },
  {
   "cell_type": "code",
   "execution_count": 6,
   "id": "7ce7e7d9-dc0b-4384-8296-a0c0c884deae",
   "metadata": {},
   "outputs": [
    {
     "data": {
      "text/plain": [
       "BenchmarkTools.Trial: 66 samples with 1 evaluation.\n",
       " Range \u001b[90m(\u001b[39m\u001b[36m\u001b[1mmin\u001b[22m\u001b[39m … \u001b[35mmax\u001b[39m\u001b[90m):  \u001b[39m\u001b[36m\u001b[1m68.357 ms\u001b[22m\u001b[39m … \u001b[35m88.674 ms\u001b[39m  \u001b[90m┊\u001b[39m GC \u001b[90m(\u001b[39mmin … max\u001b[90m): \u001b[39m2.19% … 8.10%\n",
       " Time  \u001b[90m(\u001b[39m\u001b[34m\u001b[1mmedian\u001b[22m\u001b[39m\u001b[90m):     \u001b[39m\u001b[34m\u001b[1m75.069 ms              \u001b[22m\u001b[39m\u001b[90m┊\u001b[39m GC \u001b[90m(\u001b[39mmedian\u001b[90m):    \u001b[39m2.24%\n",
       " Time  \u001b[90m(\u001b[39m\u001b[32m\u001b[1mmean\u001b[22m\u001b[39m ± \u001b[32mσ\u001b[39m\u001b[90m):   \u001b[39m\u001b[32m\u001b[1m75.864 ms\u001b[22m\u001b[39m ± \u001b[32m 4.577 ms\u001b[39m  \u001b[90m┊\u001b[39m GC \u001b[90m(\u001b[39mmean ± σ\u001b[90m):  \u001b[39m3.20% ± 1.38%\n",
       "\n",
       "  \u001b[39m \u001b[39m \u001b[39m \u001b[39m \u001b[39m▂\u001b[39m \u001b[39m \u001b[39m \u001b[39m \u001b[39m \u001b[39m \u001b[39m \u001b[39m \u001b[39m▅\u001b[39m \u001b[39m \u001b[39m \u001b[39m \u001b[39m▅\u001b[39m \u001b[34m█\u001b[39m\u001b[39m \u001b[32m█\u001b[39m\u001b[39m \u001b[39m \u001b[39m \u001b[39m \u001b[39m \u001b[39m \u001b[39m \u001b[39m \u001b[39m \u001b[39m \u001b[39m \u001b[39m \u001b[39m \u001b[39m \u001b[39m \u001b[39m \u001b[39m \u001b[39m \u001b[39m \u001b[39m \u001b[39m \u001b[39m \u001b[39m \u001b[39m \u001b[39m \u001b[39m \u001b[39m \u001b[39m \u001b[39m \u001b[39m \u001b[39m \u001b[39m \u001b[39m \u001b[39m \u001b[39m \u001b[39m \u001b[39m \u001b[39m \n",
       "  \u001b[39m▅\u001b[39m▅\u001b[39m▅\u001b[39m▅\u001b[39m█\u001b[39m▁\u001b[39m▅\u001b[39m▅\u001b[39m▁\u001b[39m▅\u001b[39m▅\u001b[39m█\u001b[39m█\u001b[39m█\u001b[39m█\u001b[39m▅\u001b[39m█\u001b[39m█\u001b[39m█\u001b[39m█\u001b[34m█\u001b[39m\u001b[39m█\u001b[32m█\u001b[39m\u001b[39m▅\u001b[39m▅\u001b[39m▅\u001b[39m▁\u001b[39m▁\u001b[39m▅\u001b[39m█\u001b[39m█\u001b[39m▁\u001b[39m▁\u001b[39m▁\u001b[39m▁\u001b[39m▅\u001b[39m▅\u001b[39m█\u001b[39m▅\u001b[39m▁\u001b[39m▅\u001b[39m▁\u001b[39m█\u001b[39m█\u001b[39m▁\u001b[39m▁\u001b[39m▅\u001b[39m▁\u001b[39m▁\u001b[39m▁\u001b[39m▁\u001b[39m▅\u001b[39m▁\u001b[39m▁\u001b[39m▁\u001b[39m▁\u001b[39m▁\u001b[39m▁\u001b[39m▅\u001b[39m \u001b[39m▁\n",
       "  68.4 ms\u001b[90m         Histogram: frequency by time\u001b[39m        88.1 ms \u001b[0m\u001b[1m<\u001b[22m\n",
       "\n",
       " Memory estimate\u001b[90m: \u001b[39m\u001b[33m53.80 MiB\u001b[39m, allocs estimate\u001b[90m: \u001b[39m\u001b[33m1900\u001b[39m."
      ]
     },
     "execution_count": 6,
     "metadata": {},
     "output_type": "execute_result"
    }
   ],
   "source": [
    "@benchmark bench1(M)"
   ]
  },
  {
   "cell_type": "code",
   "execution_count": 7,
   "id": "8441c537-41ff-425b-a83b-bc7c455a1ff4",
   "metadata": {},
   "outputs": [
    {
     "data": {
      "text/plain": [
       "BenchmarkTools.Trial: 768 samples with 1 evaluation.\n",
       " Range \u001b[90m(\u001b[39m\u001b[36m\u001b[1mmin\u001b[22m\u001b[39m … \u001b[35mmax\u001b[39m\u001b[90m):  \u001b[39m\u001b[36m\u001b[1m5.800 ms\u001b[22m\u001b[39m … \u001b[35m  8.036 ms\u001b[39m  \u001b[90m┊\u001b[39m GC \u001b[90m(\u001b[39mmin … max\u001b[90m): \u001b[39m0.00% … 0.00%\n",
       " Time  \u001b[90m(\u001b[39m\u001b[34m\u001b[1mmedian\u001b[22m\u001b[39m\u001b[90m):     \u001b[39m\u001b[34m\u001b[1m6.476 ms               \u001b[22m\u001b[39m\u001b[90m┊\u001b[39m GC \u001b[90m(\u001b[39mmedian\u001b[90m):    \u001b[39m0.00%\n",
       " Time  \u001b[90m(\u001b[39m\u001b[32m\u001b[1mmean\u001b[22m\u001b[39m ± \u001b[32mσ\u001b[39m\u001b[90m):   \u001b[39m\u001b[32m\u001b[1m6.512 ms\u001b[22m\u001b[39m ± \u001b[32m228.915 μs\u001b[39m  \u001b[90m┊\u001b[39m GC \u001b[90m(\u001b[39mmean ± σ\u001b[90m):  \u001b[39m0.40% ± 1.82%\n",
       "\n",
       "  \u001b[39m \u001b[39m \u001b[39m \u001b[39m \u001b[39m \u001b[39m \u001b[39m \u001b[39m \u001b[39m \u001b[39m \u001b[39m \u001b[39m \u001b[39m \u001b[39m \u001b[39m \u001b[39m \u001b[39m \u001b[39m \u001b[39m \u001b[39m \u001b[39m \u001b[39m \u001b[39m▁\u001b[39m▂\u001b[39m▅\u001b[39m▆\u001b[39m█\u001b[39m█\u001b[34m▇\u001b[39m\u001b[32m▆\u001b[39m\u001b[39m▄\u001b[39m▃\u001b[39m▂\u001b[39m \u001b[39m \u001b[39m▁\u001b[39m▁\u001b[39m \u001b[39m▁\u001b[39m▁\u001b[39m \u001b[39m \u001b[39m \u001b[39m \u001b[39m \u001b[39m \u001b[39m \u001b[39m \u001b[39m \u001b[39m \u001b[39m \u001b[39m \u001b[39m \u001b[39m \u001b[39m \u001b[39m \u001b[39m \u001b[39m \u001b[39m \u001b[39m \u001b[39m \n",
       "  \u001b[39m▄\u001b[39m▁\u001b[39m▄\u001b[39m▄\u001b[39m▅\u001b[39m▇\u001b[39m█\u001b[39m▅\u001b[39m▆\u001b[39m▅\u001b[39m▆\u001b[39m▅\u001b[39m▄\u001b[39m▁\u001b[39m▄\u001b[39m▆\u001b[39m▅\u001b[39m▆\u001b[39m▁\u001b[39m▅\u001b[39m█\u001b[39m▇\u001b[39m█\u001b[39m█\u001b[39m█\u001b[39m█\u001b[39m█\u001b[39m█\u001b[34m█\u001b[39m\u001b[32m█\u001b[39m\u001b[39m█\u001b[39m█\u001b[39m█\u001b[39m█\u001b[39m█\u001b[39m█\u001b[39m█\u001b[39m▇\u001b[39m█\u001b[39m█\u001b[39m█\u001b[39m█\u001b[39m▇\u001b[39m▆\u001b[39m▆\u001b[39m▅\u001b[39m▁\u001b[39m▄\u001b[39m▄\u001b[39m▅\u001b[39m▆\u001b[39m▇\u001b[39m▅\u001b[39m▇\u001b[39m▅\u001b[39m▇\u001b[39m▁\u001b[39m▆\u001b[39m▅\u001b[39m \u001b[39m█\n",
       "  5.8 ms\u001b[90m       \u001b[39m\u001b[90mHistogram: \u001b[39m\u001b[90m\u001b[1mlog(\u001b[22m\u001b[39m\u001b[90mfrequency\u001b[39m\u001b[90m\u001b[1m)\u001b[22m\u001b[39m\u001b[90m by time\u001b[39m      7.24 ms \u001b[0m\u001b[1m<\u001b[22m\n",
       "\n",
       " Memory estimate\u001b[90m: \u001b[39m\u001b[33m1.82 MiB\u001b[39m, allocs estimate\u001b[90m: \u001b[39m\u001b[33m1728\u001b[39m."
      ]
     },
     "execution_count": 7,
     "metadata": {},
     "output_type": "execute_result"
    }
   ],
   "source": [
    "@benchmark bench2(M)"
   ]
  },
  {
   "cell_type": "markdown",
   "id": "a9ecc6b7-4601-40b9-937f-05854d56f58b",
   "metadata": {},
   "source": [
    "## EigenDecomposedMatrices.EigenDecomposed"
   ]
  },
  {
   "cell_type": "code",
   "execution_count": 8,
   "id": "262cac0e-fb9b-4e2f-bd2c-f0f16de013d7",
   "metadata": {},
   "outputs": [
    {
     "data": {
      "text/plain": [
       "Main.EigenDecomposedMatrices"
      ]
     },
     "execution_count": 8,
     "metadata": {},
     "output_type": "execute_result"
    }
   ],
   "source": [
    "module EigenDecomposedMatrices\n",
    "\n",
    "export EigenDecomposed\n",
    "\n",
    "using LinearAlgebra\n",
    "\n",
    "struct EigenDecomposed{\n",
    "        T,\n",
    "        TA<:AbstractMatrix,\n",
    "        TE<:AbstractVector,\n",
    "        TP<:AbstractMatrix,\n",
    "        TinvP<:AbstractMatrix\n",
    "    } <: AbstractMatrix{T}\n",
    "    A::TA\n",
    "    E::TE\n",
    "    P::TP\n",
    "    invP::TinvP\n",
    "end\n",
    "\n",
    "function EigenDecomposed(A::AbstractMatrix, E::AbstractVector, P::AbstractMatrix, invP::AbstractMatrix)\n",
    "    EigenDecomposed{eltype(A), typeof(A), typeof(E), typeof(P), typeof(invP)}(A, E, P, invP)\n",
    "end\n",
    "\n",
    "function EigenDecomposed(M::AbstractMatrix)\n",
    "    E, P = eigen(M)\n",
    "    A = oftype(P, M)\n",
    "    invP = ishermitian(M) ? P' : inv(P)\n",
    "    EigenDecomposed(A, E, P, invP)\n",
    "end\n",
    "\n",
    "Base.size(ed::EigenDecomposed) = size(ed.A)\n",
    "Base.getindex(ed::EigenDecomposed, I...) = getindex(ed.A, I...)\n",
    "Base.convert(::Type{Array}, ed::EigenDecomposed) = ed.A\n",
    "\n",
    "function exp_old(ed::EigenDecomposed)\n",
    "    (; A, E, P, invP) = ed\n",
    "    expE = exp.(E)\n",
    "    expA = P * Diagonal(expE) * invP\n",
    "    EigenDecomposed(expA, expE, P, invP)\n",
    "end\n",
    "Base.exp(ed::EigenDecomposed) = exp_eigendecomposed(ed)\n",
    "Base.:*(c::Number, ed::EigenDecomposed) = EigenDecomposed(c*ed.A, c*ed.E, ed.P, ed.invP)\n",
    "Base.:*(ed::EigenDecomposed, c::Number) = EigenDecomposed(ed.A*c, ed.E*c, ed.P, ed.invP)\n",
    "Base.:\\(c::Number, ed::EigenDecomposed) = EigenDecomposed(c\\ed.A, c\\ed.E, ed.P, ed.invP)\n",
    "Base.:/(ed::EigenDecomposed, c::Number) = EigenDecomposed(ed.A/c, ed.E/c, ed.P, ed.invP)\n",
    "Base.:*(ed::EigenDecomposed, v::AbstractVector) = ed.A * v\n",
    "\n",
    "\"\"\"\n",
    "    exp_eigendecomposed!(Y, ed::EigenDecomposed, expE=similar(ed.E), tmpY=similar(Y))\n",
    "\n",
    "returns the exponential of `ed` and stores the result in `Y`, overwriting the existing value of `Y`. \n",
    "It does not overwrite `ed` and uses `expE` and `tmpY` as workspaces.\n",
    "\"\"\"\n",
    "function exp_eigendecomposed!(Y, ed::EigenDecomposed, expE=similar(ed.E), tmpY=similar(Y))\n",
    "    (; A, E, P, invP) = ed\n",
    "    @. expE = exp.(E)\n",
    "    mul!(tmpY, P, Diagonal(expE))\n",
    "    mul!(Y, tmpY, invP)\n",
    "end\n",
    "exp_eigendecomposed(ed::EigenDecomposed) = exp_eigendecomposed!(similar(ed.P), ed)\n",
    "LinearAlgebra.lmul!(c::Number, ed::EigenDecomposed) = (lmul!(c, ed.A); lmul!(c, ed.E))\n",
    "LinearAlgebra.rmul!(ed::EigenDecomposed, c::Number) = (rmul!(ed.A, c); rmul!(ed.E, c))\n",
    "LinearAlgebra.ldiv!(c::Number, ed::EigenDecomposed) = (ldiv!(c, ed.A); ldiv!(c, ed.E))\n",
    "LinearAlgebra.rdiv!(ed::EigenDecomposed, c::Number) = (rdiv!(ed.A, c); rdiv!(ed.E, c))\n",
    "\n",
    "for T in (AbstractVector, AbstractMatrix)\n",
    "    @eval function LinearAlgebra.mul!(y::$T, ed::EigenDecomposed, x::$T, alpha::Number, beta::Number)\n",
    "        mul!(y, ed.A, x, alpha, beta)\n",
    "    end\n",
    "end\n",
    "\n",
    "end"
   ]
  },
  {
   "cell_type": "code",
   "execution_count": 9,
   "id": "f4402c98-850b-44e0-9407-6088e6421f19",
   "metadata": {},
   "outputs": [
    {
     "data": {
      "text/latex": [
       "\\begin{verbatim}\n",
       "exp_eigendecomposed!(Y, ed::EigenDecomposed, expE=similar(ed.E), tmpY=similar(Y))\n",
       "\\end{verbatim}\n",
       "returns the exponential of \\texttt{ed} and stores the result in \\texttt{Y}, overwriting the existing value of \\texttt{Y}.  It does not overwrite \\texttt{ed} and uses \\texttt{expE} and \\texttt{tmpY} as workspaces.\n",
       "\n"
      ],
      "text/markdown": [
       "```\n",
       "exp_eigendecomposed!(Y, ed::EigenDecomposed, expE=similar(ed.E), tmpY=similar(Y))\n",
       "```\n",
       "\n",
       "returns the exponential of `ed` and stores the result in `Y`, overwriting the existing value of `Y`.  It does not overwrite `ed` and uses `expE` and `tmpY` as workspaces.\n"
      ],
      "text/plain": [
       "\u001b[36m  exp_eigendecomposed!(Y, ed::EigenDecomposed, expE=similar(ed.E), tmpY=similar(Y))\u001b[39m\n",
       "\n",
       "  returns the exponential of \u001b[36med\u001b[39m and stores the result in \u001b[36mY\u001b[39m, overwriting the\n",
       "  existing value of \u001b[36mY\u001b[39m. It does not overwrite \u001b[36med\u001b[39m and uses \u001b[36mexpE\u001b[39m and \u001b[36mtmpY\u001b[39m as\n",
       "  workspaces."
      ]
     },
     "execution_count": 9,
     "metadata": {},
     "output_type": "execute_result"
    }
   ],
   "source": [
    "?EigenDecomposedMatrices.exp_eigendecomposed!"
   ]
  },
  {
   "cell_type": "code",
   "execution_count": 10,
   "id": "312bddb6-0a2d-4caf-8b60-d421be7143f3",
   "metadata": {},
   "outputs": [
    {
     "data": {
      "text/html": [
       "# 2 methods for type constructor:<ul><li> Main.EigenDecomposedMatrices.EigenDecomposed(M::<b>AbstractMatrix</b>) in Main.EigenDecomposedMatrices at In[8]:24</li> <li> Main.EigenDecomposedMatrices.EigenDecomposed(A::<b>AbstractMatrix</b>, E::<b>AbstractVector</b>, P::<b>AbstractMatrix</b>, invP::<b>AbstractMatrix</b>) in Main.EigenDecomposedMatrices at In[8]:20</li> </ul>"
      ],
      "text/plain": [
       "# 2 methods for type constructor:\n",
       " [1] Main.EigenDecomposedMatrices.EigenDecomposed(\u001b[90mM\u001b[39m::\u001b[1mAbstractMatrix\u001b[22m)\n",
       "\u001b[90m     @\u001b[39m \u001b[90m\u001b[4mIn[8]:24\u001b[24m\u001b[39m\n",
       " [2] Main.EigenDecomposedMatrices.EigenDecomposed(\u001b[90mA\u001b[39m::\u001b[1mAbstractMatrix\u001b[22m, \u001b[90mE\u001b[39m::\u001b[1mAbstractVector\u001b[22m, \u001b[90mP\u001b[39m::\u001b[1mAbstractMatrix\u001b[22m, \u001b[90minvP\u001b[39m::\u001b[1mAbstractMatrix\u001b[22m)\n",
       "\u001b[90m     @\u001b[39m \u001b[90m\u001b[4mIn[8]:20\u001b[24m\u001b[39m"
      ]
     },
     "execution_count": 10,
     "metadata": {},
     "output_type": "execute_result"
    }
   ],
   "source": [
    "methods(EigenDecomposedMatrices.EigenDecomposed)"
   ]
  },
  {
   "cell_type": "code",
   "execution_count": 11,
   "id": "3b092734-4748-40e2-9081-9e4309d93e8d",
   "metadata": {},
   "outputs": [
    {
     "data": {
      "text/html": [
       "15-element Vector{Method}:<ul><li> *(ed::<b>Main.EigenDecomposedMatrices.EigenDecomposed</b>, c::<b>Number</b>) in Main.EigenDecomposedMatrices at In[8]:43<li> *(ed::<b>Main.EigenDecomposedMatrices.EigenDecomposed</b>, v::<b>AbstractVector</b>) in Main.EigenDecomposedMatrices at In[8]:46<li> *(c::<b>Number</b>, ed::<b>Main.EigenDecomposedMatrices.EigenDecomposed</b>) in Main.EigenDecomposedMatrices at In[8]:42<li> /(ed::<b>Main.EigenDecomposedMatrices.EigenDecomposed</b>, c::<b>Number</b>) in Main.EigenDecomposedMatrices at In[8]:45<li> \\(c::<b>Number</b>, ed::<b>Main.EigenDecomposedMatrices.EigenDecomposed</b>) in Main.EigenDecomposedMatrices at In[8]:44<li> convert(::<b>Type{Array}</b>, ed::<b>Main.EigenDecomposedMatrices.EigenDecomposed</b>) in Main.EigenDecomposedMatrices at In[8]:33<li> exp(ed::<b>Main.EigenDecomposedMatrices.EigenDecomposed</b>) in Main.EigenDecomposedMatrices at In[8]:41<li> getindex(ed::<b>Main.EigenDecomposedMatrices.EigenDecomposed</b>, I...) in Main.EigenDecomposedMatrices at In[8]:32<li> size(ed::<b>Main.EigenDecomposedMatrices.EigenDecomposed</b>) in Main.EigenDecomposedMatrices at In[8]:31<li> ldiv!(c::<b>Number</b>, ed::<b>Main.EigenDecomposedMatrices.EigenDecomposed</b>) in Main.EigenDecomposedMatrices at In[8]:63<li> lmul!(c::<b>Number</b>, ed::<b>Main.EigenDecomposedMatrices.EigenDecomposed</b>) in Main.EigenDecomposedMatrices at In[8]:61<li> mul!(y::<b>AbstractVector</b>, ed::<b>Main.EigenDecomposedMatrices.EigenDecomposed</b>, x::<b>AbstractVector</b>, alpha::<b>Number</b>, beta::<b>Number</b>) in Main.EigenDecomposedMatrices at In[8]:67<li> mul!(y::<b>AbstractMatrix</b>, ed::<b>Main.EigenDecomposedMatrices.EigenDecomposed</b>, x::<b>AbstractMatrix</b>, alpha::<b>Number</b>, beta::<b>Number</b>) in Main.EigenDecomposedMatrices at In[8]:67<li> rdiv!(ed::<b>Main.EigenDecomposedMatrices.EigenDecomposed</b>, c::<b>Number</b>) in Main.EigenDecomposedMatrices at In[8]:64<li> rmul!(ed::<b>Main.EigenDecomposedMatrices.EigenDecomposed</b>, c::<b>Number</b>) in Main.EigenDecomposedMatrices at In[8]:62</ul>"
      ],
      "text/plain": [
       "[1] *(\u001b[90med\u001b[39m::\u001b[1mMain.EigenDecomposedMatrices.EigenDecomposed\u001b[22m, \u001b[90mc\u001b[39m::\u001b[1mNumber\u001b[22m)\u001b[90m @\u001b[39m \u001b[90mMain.EigenDecomposedMatrices\u001b[39m \u001b[90m\u001b[4mIn[8]:43\u001b[24m\u001b[39m\n",
       "[2] *(\u001b[90med\u001b[39m::\u001b[1mMain.EigenDecomposedMatrices.EigenDecomposed\u001b[22m, \u001b[90mv\u001b[39m::\u001b[1mAbstractVector\u001b[22m)\u001b[90m @\u001b[39m \u001b[90mMain.EigenDecomposedMatrices\u001b[39m \u001b[90m\u001b[4mIn[8]:46\u001b[24m\u001b[39m\n",
       "[3] *(\u001b[90mc\u001b[39m::\u001b[1mNumber\u001b[22m, \u001b[90med\u001b[39m::\u001b[1mMain.EigenDecomposedMatrices.EigenDecomposed\u001b[22m)\u001b[90m @\u001b[39m \u001b[90mMain.EigenDecomposedMatrices\u001b[39m \u001b[90m\u001b[4mIn[8]:42\u001b[24m\u001b[39m\n",
       "[4] /(\u001b[90med\u001b[39m::\u001b[1mMain.EigenDecomposedMatrices.EigenDecomposed\u001b[22m, \u001b[90mc\u001b[39m::\u001b[1mNumber\u001b[22m)\u001b[90m @\u001b[39m \u001b[90mMain.EigenDecomposedMatrices\u001b[39m \u001b[90m\u001b[4mIn[8]:45\u001b[24m\u001b[39m\n",
       "[5] \\(\u001b[90mc\u001b[39m::\u001b[1mNumber\u001b[22m, \u001b[90med\u001b[39m::\u001b[1mMain.EigenDecomposedMatrices.EigenDecomposed\u001b[22m)\u001b[90m @\u001b[39m \u001b[90mMain.EigenDecomposedMatrices\u001b[39m \u001b[90m\u001b[4mIn[8]:44\u001b[24m\u001b[39m\n",
       "[6] convert(::\u001b[1mType\u001b[22m\u001b[0m{Array}, \u001b[90med\u001b[39m::\u001b[1mMain.EigenDecomposedMatrices.EigenDecomposed\u001b[22m)\u001b[90m @\u001b[39m \u001b[90mMain.EigenDecomposedMatrices\u001b[39m \u001b[90m\u001b[4mIn[8]:33\u001b[24m\u001b[39m\n",
       "[7] exp(\u001b[90med\u001b[39m::\u001b[1mMain.EigenDecomposedMatrices.EigenDecomposed\u001b[22m)\u001b[90m @\u001b[39m \u001b[90mMain.EigenDecomposedMatrices\u001b[39m \u001b[90m\u001b[4mIn[8]:41\u001b[24m\u001b[39m\n",
       "[8] getindex(\u001b[90med\u001b[39m::\u001b[1mMain.EigenDecomposedMatrices.EigenDecomposed\u001b[22m, \u001b[90mI...\u001b[39m)\u001b[90m @\u001b[39m \u001b[90mMain.EigenDecomposedMatrices\u001b[39m \u001b[90m\u001b[4mIn[8]:32\u001b[24m\u001b[39m\n",
       "[9] size(\u001b[90med\u001b[39m::\u001b[1mMain.EigenDecomposedMatrices.EigenDecomposed\u001b[22m)\u001b[90m @\u001b[39m \u001b[90mMain.EigenDecomposedMatrices\u001b[39m \u001b[90m\u001b[4mIn[8]:31\u001b[24m\u001b[39m\n",
       "[10] ldiv!(\u001b[90mc\u001b[39m::\u001b[1mNumber\u001b[22m, \u001b[90med\u001b[39m::\u001b[1mMain.EigenDecomposedMatrices.EigenDecomposed\u001b[22m)\u001b[90m @\u001b[39m \u001b[90mMain.EigenDecomposedMatrices\u001b[39m \u001b[90m\u001b[4mIn[8]:63\u001b[24m\u001b[39m\n",
       "[11] lmul!(\u001b[90mc\u001b[39m::\u001b[1mNumber\u001b[22m, \u001b[90med\u001b[39m::\u001b[1mMain.EigenDecomposedMatrices.EigenDecomposed\u001b[22m)\u001b[90m @\u001b[39m \u001b[90mMain.EigenDecomposedMatrices\u001b[39m \u001b[90m\u001b[4mIn[8]:61\u001b[24m\u001b[39m\n",
       "[12] mul!(\u001b[90my\u001b[39m::\u001b[1mAbstractVector\u001b[22m, \u001b[90med\u001b[39m::\u001b[1mMain.EigenDecomposedMatrices.EigenDecomposed\u001b[22m, \u001b[90mx\u001b[39m::\u001b[1mAbstractVector\u001b[22m, \u001b[90malpha\u001b[39m::\u001b[1mNumber\u001b[22m, \u001b[90mbeta\u001b[39m::\u001b[1mNumber\u001b[22m)\u001b[90m @\u001b[39m \u001b[90mMain.EigenDecomposedMatrices\u001b[39m \u001b[90m\u001b[4mIn[8]:67\u001b[24m\u001b[39m\n",
       "[13] mul!(\u001b[90my\u001b[39m::\u001b[1mAbstractMatrix\u001b[22m, \u001b[90med\u001b[39m::\u001b[1mMain.EigenDecomposedMatrices.EigenDecomposed\u001b[22m, \u001b[90mx\u001b[39m::\u001b[1mAbstractMatrix\u001b[22m, \u001b[90malpha\u001b[39m::\u001b[1mNumber\u001b[22m, \u001b[90mbeta\u001b[39m::\u001b[1mNumber\u001b[22m)\u001b[90m @\u001b[39m \u001b[90mMain.EigenDecomposedMatrices\u001b[39m \u001b[90m\u001b[4mIn[8]:67\u001b[24m\u001b[39m\n",
       "[14] rdiv!(\u001b[90med\u001b[39m::\u001b[1mMain.EigenDecomposedMatrices.EigenDecomposed\u001b[22m, \u001b[90mc\u001b[39m::\u001b[1mNumber\u001b[22m)\u001b[90m @\u001b[39m \u001b[90mMain.EigenDecomposedMatrices\u001b[39m \u001b[90m\u001b[4mIn[8]:64\u001b[24m\u001b[39m\n",
       "[15] rmul!(\u001b[90med\u001b[39m::\u001b[1mMain.EigenDecomposedMatrices.EigenDecomposed\u001b[22m, \u001b[90mc\u001b[39m::\u001b[1mNumber\u001b[22m)\u001b[90m @\u001b[39m \u001b[90mMain.EigenDecomposedMatrices\u001b[39m \u001b[90m\u001b[4mIn[8]:62\u001b[24m\u001b[39m"
      ]
     },
     "execution_count": 11,
     "metadata": {},
     "output_type": "execute_result"
    }
   ],
   "source": [
    "methodswith(EigenDecomposedMatrices.EigenDecomposed)"
   ]
  },
  {
   "cell_type": "code",
   "execution_count": 12,
   "id": "d00504b2-cf67-4d6a-abdf-1f71f61d9c30",
   "metadata": {},
   "outputs": [
    {
     "data": {
      "text/html": [
       "# 3 methods for generic function <b>exp_eigendecomposed!</b> from \u001b[36mMain.EigenDecomposedMatrices\u001b[39m:<ul><li> exp_eigendecomposed!(Y, ed::<b>Main.EigenDecomposedMatrices.EigenDecomposed</b>) in Main.EigenDecomposedMatrices at In[8]:54</li> <li> exp_eigendecomposed!(Y, ed::<b>Main.EigenDecomposedMatrices.EigenDecomposed</b>, expE) in Main.EigenDecomposedMatrices at In[8]:54</li> <li> exp_eigendecomposed!(Y, ed::<b>Main.EigenDecomposedMatrices.EigenDecomposed</b>, expE, tmpY) in Main.EigenDecomposedMatrices at In[8]:54</li> </ul>"
      ],
      "text/plain": [
       "# 3 methods for generic function \"exp_eigendecomposed!\" from \u001b[36mMain.EigenDecomposedMatrices\u001b[39m:\n",
       " [1] exp_eigendecomposed!(\u001b[90mY\u001b[39m, \u001b[90med\u001b[39m::\u001b[1mMain.EigenDecomposedMatrices.EigenDecomposed\u001b[22m)\n",
       "\u001b[90m     @\u001b[39m \u001b[90m\u001b[4mIn[8]:54\u001b[24m\u001b[39m\n",
       " [2] exp_eigendecomposed!(\u001b[90mY\u001b[39m, \u001b[90med\u001b[39m::\u001b[1mMain.EigenDecomposedMatrices.EigenDecomposed\u001b[22m, \u001b[90mexpE\u001b[39m)\n",
       "\u001b[90m     @\u001b[39m \u001b[90m\u001b[4mIn[8]:54\u001b[24m\u001b[39m\n",
       " [3] exp_eigendecomposed!(\u001b[90mY\u001b[39m, \u001b[90med\u001b[39m::\u001b[1mMain.EigenDecomposedMatrices.EigenDecomposed\u001b[22m, \u001b[90mexpE\u001b[39m, \u001b[90mtmpY\u001b[39m)\n",
       "\u001b[90m     @\u001b[39m \u001b[90m\u001b[4mIn[8]:54\u001b[24m\u001b[39m"
      ]
     },
     "execution_count": 12,
     "metadata": {},
     "output_type": "execute_result"
    }
   ],
   "source": [
    "methods(EigenDecomposedMatrices.exp_eigendecomposed!)"
   ]
  },
  {
   "cell_type": "code",
   "execution_count": 13,
   "id": "a2d8c089-f82a-43c6-b324-370b6268ddd5",
   "metadata": {},
   "outputs": [],
   "source": [
    "n = 2^8\n",
    "M = 5I + randn(n, n)\n",
    "v = randn(n)\n",
    "c = randn()\n",
    "\n",
    "edM = EigenDecomposedMatrices.EigenDecomposed(M)\n",
    "\n",
    "Y = similar(edM.A)\n",
    "expE = similar(edM.E)\n",
    "tmpY = similar(Y)\n",
    "\n",
    "y = similar(v)\n",
    "tmpy = oftype(edM.E, y)\n",
    "alpha = randn()\n",
    "beta = randn();"
   ]
  },
  {
   "cell_type": "code",
   "execution_count": 14,
   "id": "5fe62250-1d58-4adb-b9a3-352e56f2e075",
   "metadata": {},
   "outputs": [
    {
     "data": {
      "text/plain": [
       "256×256 Main.EigenDecomposedMatrices.EigenDecomposed{ComplexF64, Matrix{ComplexF64}, Vector{ComplexF64}, Matrix{ComplexF64}, Matrix{ComplexF64}}:\n",
       "   5.65324+0.0im   0.811664+0.0im  …  -0.859246+0.0im   -0.867373+0.0im\n",
       "  -1.20315+0.0im    6.35092+0.0im       0.16714+0.0im    0.281514+0.0im\n",
       "  0.229875+0.0im  -0.453096+0.0im      0.768638+0.0im   -0.433825+0.0im\n",
       "  0.742781+0.0im   -1.28684+0.0im     -0.586964+0.0im    -1.79043+0.0im\n",
       "  0.609952+0.0im  -0.808625+0.0im      0.567903+0.0im  -0.0417683+0.0im\n",
       " -0.756712+0.0im   -1.73971+0.0im  …  -0.895302+0.0im   -0.727094+0.0im\n",
       " -0.942006+0.0im  -0.695088+0.0im     0.0502155+0.0im    0.834619+0.0im\n",
       " -0.721786+0.0im  -0.135759+0.0im      0.421936+0.0im    0.717119+0.0im\n",
       " -0.343408+0.0im    0.63547+0.0im     -0.604267+0.0im     1.13966+0.0im\n",
       "  -0.36897+0.0im   0.723486+0.0im      0.306799+0.0im     1.94141+0.0im\n",
       "  0.400205+0.0im   -1.03729+0.0im  …  0.0994644+0.0im    0.565096+0.0im\n",
       "  -1.12538+0.0im  -0.732021+0.0im       1.64388+0.0im   -0.278866+0.0im\n",
       "  0.107803+0.0im    0.32981+0.0im      0.235384+0.0im    0.681907+0.0im\n",
       "          ⋮                        ⋱                             ⋮\n",
       " -0.502418+0.0im   -1.02847+0.0im      -1.40837+0.0im   -0.564809+0.0im\n",
       "   1.32248+0.0im    1.06108+0.0im  …  -0.730469+0.0im   -0.226902+0.0im\n",
       "  0.393807+0.0im  -0.311677+0.0im      0.312133+0.0im    0.603992+0.0im\n",
       " -0.474337+0.0im   0.841078+0.0im       1.87679+0.0im    0.932879+0.0im\n",
       "  0.741206+0.0im    1.59747+0.0im       1.82935+0.0im    0.147707+0.0im\n",
       "  0.945044+0.0im   -1.25792+0.0im      0.246776+0.0im   0.0101742+0.0im\n",
       "  0.310258+0.0im   0.221899+0.0im  …    0.29709+0.0im    0.968718+0.0im\n",
       " -0.136592+0.0im   -2.47512+0.0im      0.809847+0.0im     1.20028+0.0im\n",
       "  -1.48837+0.0im   -3.07623+0.0im      0.808308+0.0im   -0.197248+0.0im\n",
       " -0.594715+0.0im   0.182968+0.0im      0.463716+0.0im  -0.0400484+0.0im\n",
       "  0.472049+0.0im  -0.645292+0.0im       6.11287+0.0im  -0.0977541+0.0im\n",
       "  0.601421+0.0im    1.07644+0.0im  …   -0.45789+0.0im     4.18821+0.0im"
      ]
     },
     "execution_count": 14,
     "metadata": {},
     "output_type": "execute_result"
    }
   ],
   "source": [
    "edM"
   ]
  },
  {
   "cell_type": "code",
   "execution_count": 15,
   "id": "e613f081-b46d-406a-97dd-9fbff8168a51",
   "metadata": {},
   "outputs": [
    {
     "name": "stdout",
     "output_type": "stream",
     "text": [
      "Main.EigenDecomposedMatrices.EigenDecomposed{ComplexF64, Matrix{ComplexF64}, Vector{ComplexF64}, Matrix{ComplexF64}, Matrix{ComplexF64}}\n",
      "  A: Array{ComplexF64}((256, 256)) ComplexF64[5.653240359790474 + 0.0im 0.8116635437078049 + 0.0im … -0.8592461147165348 + 0.0im -0.8673734639992252 + 0.0im; -1.2031483417318523 + 0.0im 6.350920262183919 + 0.0im … 0.16713954681326654 + 0.0im 0.28151448021470293 + 0.0im; … ; 0.4720489945034345 + 0.0im -0.6452920480150005 + 0.0im … 6.11287275336207 + 0.0im -0.09775410755150953 + 0.0im; 0.6014206821441552 + 0.0im 1.076439839583611 + 0.0im … -0.4578902312844247 + 0.0im 4.188209737806721 + 0.0im]\n",
      "  E: Array{ComplexF64}((256,)) ComplexF64[-11.353090158082509 + 0.0im, -10.32210154913398 - 1.861974982038516im, -10.32210154913398 + 1.861974982038516im, -10.297200076170467 - 5.368797892732106im, -10.297200076170467 + 5.368797892732106im, -9.056997191260702 - 4.030008990882876im, -9.056997191260702 + 4.030008990882876im, -8.754271496477859 - 1.4600949380533892im, -8.754271496477859 + 1.4600949380533892im, -8.087807496457526 - 8.395814402748256im  …  18.63754144103507 + 8.098178834241653im, 18.793116455795275 - 5.658719638074263im, 18.793116455795275 + 5.658719638074263im, 18.906141485005232 + 0.0im, 19.709681893391547 - 3.902524437985447im, 19.709681893391547 + 3.902524437985447im, 19.843888596165527 + 0.0im, 20.639719623329427 - 1.4622720438082897im, 20.639719623329427 + 1.4622720438082897im, 21.217240678092946 + 0.0im]\n",
      "  P: Array{ComplexF64}((256, 256)) ComplexF64[0.019149318385726043 + 0.0im 0.010691026563787228 + 0.0004848223196079025im … -0.03306280867283912 + 0.05466100847458491im -0.11017371763740537 + 0.0im; -0.015625127263534756 + 0.0im -0.022097105569949104 - 0.11303663436723094im … -0.0710646908777696 - 0.0244580424812413im 0.03031531363782899 + 0.0im; … ; 0.06995958375582818 + 0.0im 0.052140532284159456 + 0.037684283837755725im … 0.022498039277400836 - 0.005208858313683678im -0.006344194704657869 + 0.0im; 0.054448675308140834 + 0.0im 0.04005921960671032 + 0.036934066133146704im … 0.014829181480781519 + 0.013443620595593082im -0.06961542865347749 + 0.0im]\n",
      "  invP: Array{ComplexF64}((256, 256)) ComplexF64[0.15010118811377915 - 8.143442517538624e-16im 0.31808759916512297 - 5.224987109642143e-15im … 0.0028397852223481235 - 7.315958539068107e-15im -0.06960778302398242 + 4.881564489309531e-15im; 0.03688648334183274 + 0.05383216992281226im 0.08204295885091341 + 0.14766292651821894im … 0.10238216689068047 - 0.06406586470265921im 0.32113531466083 - 0.10100550084137866im; … ; 0.07038462090647678 - 0.17540272387322348im 0.19796734020642814 - 0.18621319249828805im … -0.17977120160490137 + 0.17907868147842382im -0.16001869580606562 - 0.39913343594346407im; 0.2079538389748771 + 6.217248937900877e-15im 0.15949914168854776 - 1.0935696792557792e-14im … -0.08427180307768009 - 5.529001162424701e-15im 0.30683620110058923 - 5.660162296791741e-15im]\n"
     ]
    }
   ],
   "source": [
    "dump(edM)"
   ]
  },
  {
   "cell_type": "code",
   "execution_count": 16,
   "id": "283dbc81-a65a-4cfa-8b7b-2b4e3444a526",
   "metadata": {},
   "outputs": [
    {
     "data": {
      "text/plain": [
       "true"
      ]
     },
     "execution_count": 16,
     "metadata": {},
     "output_type": "execute_result"
    }
   ],
   "source": [
    "M ≈ Matrix(edM)"
   ]
  },
  {
   "cell_type": "code",
   "execution_count": 17,
   "id": "38622469-86c8-4542-97a3-e97138c061fd",
   "metadata": {},
   "outputs": [
    {
     "data": {
      "text/plain": [
       "true"
      ]
     },
     "execution_count": 17,
     "metadata": {},
     "output_type": "execute_result"
    }
   ],
   "source": [
    "M ≈ edM"
   ]
  },
  {
   "cell_type": "code",
   "execution_count": 18,
   "id": "4de76f66-fa04-4293-8d77-0b00c3ecb182",
   "metadata": {},
   "outputs": [
    {
     "data": {
      "text/plain": [
       "true"
      ]
     },
     "execution_count": 18,
     "metadata": {},
     "output_type": "execute_result"
    }
   ],
   "source": [
    "c*M ≈ c*edM ≈ edM*c"
   ]
  },
  {
   "cell_type": "code",
   "execution_count": 19,
   "id": "73f06380-1bc3-45a6-ab28-3c30fd64c4c6",
   "metadata": {},
   "outputs": [
    {
     "data": {
      "text/plain": [
       "true"
      ]
     },
     "execution_count": 19,
     "metadata": {},
     "output_type": "execute_result"
    }
   ],
   "source": [
    "c\\M ≈ c\\edM ≈ edM/c"
   ]
  },
  {
   "cell_type": "code",
   "execution_count": 20,
   "id": "98def48b-63dc-4dd3-88b0-0a8332c409b5",
   "metadata": {},
   "outputs": [
    {
     "data": {
      "text/plain": [
       "true"
      ]
     },
     "execution_count": 20,
     "metadata": {},
     "output_type": "execute_result"
    }
   ],
   "source": [
    "(\n",
    "    exp(M)\n",
    "    ≈ exp(edM)\n",
    "    ≈ EigenDecomposedMatrices.exp_old(edM)\n",
    "    ≈ EigenDecomposedMatrices.exp_eigendecomposed!(Y, edM)\n",
    "    ≈ EigenDecomposedMatrices.exp_eigendecomposed!(Y, edM, expE, tmpY)\n",
    ")"
   ]
  },
  {
   "cell_type": "code",
   "execution_count": 21,
   "id": "bba18259-e299-4709-b304-cd395c686f24",
   "metadata": {},
   "outputs": [
    {
     "name": "stdout",
     "output_type": "stream",
     "text": [
      "typeof(y) = Vector{Float64}\n"
     ]
    },
    {
     "data": {
      "text/plain": [
       "true"
      ]
     },
     "execution_count": 21,
     "metadata": {},
     "output_type": "execute_result"
    }
   ],
   "source": [
    "@show typeof(y)\n",
    "mul!(y, M, v, alpha, beta) ≈ mul!(y, edM, v, alpha, beta)"
   ]
  },
  {
   "cell_type": "code",
   "execution_count": 22,
   "id": "23c99064-3d0e-4b04-9810-c176a273316b",
   "metadata": {
    "tags": []
   },
   "outputs": [
    {
     "name": "stdout",
     "output_type": "stream",
     "text": [
      "typeof(tmpy) = Vector{ComplexF64}\n"
     ]
    },
    {
     "data": {
      "text/plain": [
       "true"
      ]
     },
     "execution_count": 22,
     "metadata": {},
     "output_type": "execute_result"
    }
   ],
   "source": [
    "@show typeof(tmpy)\n",
    "(\n",
    "    exp(M) * v\n",
    "    ≈ exp(edM) * v\n",
    "    ≈ EigenDecomposedMatrices.exp_old(edM) * v\n",
    "    ≈ mul!(tmpy, EigenDecomposedMatrices.exp_eigendecomposed!(Y, edM), v)\n",
    "    ≈ mul!(tmpy, EigenDecomposedMatrices.exp_eigendecomposed!(Y, edM, expE, tmpY), v)\n",
    ")"
   ]
  },
  {
   "cell_type": "code",
   "execution_count": 23,
   "id": "bd540d02-5314-4565-8ed1-5eaa48307f7a",
   "metadata": {},
   "outputs": [
    {
     "name": "stdout",
     "output_type": "stream",
     "text": [
      "  35.788 ms (28 allocations: 4.53 MiB)\n"
     ]
    }
   ],
   "source": [
    "@btime edM = EigenDecomposedMatrices.EigenDecomposed(M);"
   ]
  },
  {
   "cell_type": "code",
   "execution_count": 24,
   "id": "ffb45dc7-2f11-44e1-8acd-e4114f7449a8",
   "metadata": {},
   "outputs": [
    {
     "name": "stdout",
     "output_type": "stream",
     "text": [
      "  9.392 ms (16 allocations: 3.01 MiB)\n",
      "  2.485 ms (7 allocations: 2.01 MiB)\n",
      "  2.481 ms (7 allocations: 2.01 MiB)\n",
      "  2.349 ms (3 allocations: 1.00 MiB)\n",
      "  2.202 ms (0 allocations: 0 bytes)\n"
     ]
    }
   ],
   "source": [
    "@btime exp($M) * $v\n",
    "@btime exp($edM) * $v\n",
    "@btime EigenDecomposedMatrices.exp_old($edM) * $v\n",
    "@btime mul!($tmpy, EigenDecomposedMatrices.exp_eigendecomposed!($Y, $edM), $v)\n",
    "@btime mul!($tmpy, EigenDecomposedMatrices.exp_eigendecomposed!($Y, $edM, $expE, $tmpY), $v);"
   ]
  },
  {
   "cell_type": "code",
   "execution_count": 25,
   "id": "5d55c783-7d12-4e09-8121-ec398884a7e4",
   "metadata": {},
   "outputs": [],
   "source": [
    "n2 = 2^8\n",
    "M2 = Symmetric(5I + randn(n2, n2))\n",
    "v2 = randn(n)\n",
    "c2 = randn()\n",
    "\n",
    "edM2 = EigenDecomposedMatrices.EigenDecomposed(M2)\n",
    "\n",
    "Y2 = similar(edM2.A)\n",
    "expE2 = similar(edM2.E)\n",
    "tmpY2 = similar(Y2)\n",
    "\n",
    "y2 = similar(v2)\n",
    "tmpy2 = oftype(edM2.E, y2)\n",
    "alpha2 = randn()\n",
    "beta2 = randn();"
   ]
  },
  {
   "cell_type": "code",
   "execution_count": 26,
   "id": "4ca2d50f-c879-410c-8e8b-0b815fa54a66",
   "metadata": {},
   "outputs": [
    {
     "data": {
      "text/plain": [
       "256×256 Main.EigenDecomposedMatrices.EigenDecomposed{Float64, Matrix{Float64}, Vector{Float64}, Matrix{Float64}, Adjoint{Float64, Matrix{Float64}}}:\n",
       "  3.6473      -0.00782139  -0.435994   …   2.05575    -0.249281    0.587851\n",
       " -0.00782139   5.28651      0.131905       0.695865   -1.63094     0.583392\n",
       " -0.435994     0.131905     5.21008       -0.775603   -0.81029    -0.0374679\n",
       " -0.0769022   -0.335312     0.648623      -0.739495    0.621381   -1.48564\n",
       " -1.17094      1.35226      0.0443991      0.0735607   0.0549492   0.419179\n",
       "  1.02721      1.44404     -0.0222104  …   0.803171    0.336903    1.0392\n",
       " -1.39573     -0.809841    -0.78849       -0.0727124  -0.970087   -1.17958\n",
       "  0.226949    -0.173972    -0.714227       0.43552     1.03035     0.859974\n",
       "  0.558163     0.647521     0.833877       0.554956    1.85963     0.0859631\n",
       "  0.762047    -0.408986     1.90391        1.48416     0.414748    0.0762793\n",
       " -0.344087     0.40267      1.12732    …   0.669697    0.187838    0.15391\n",
       " -0.794478     0.234578    -2.83608        0.256364    0.961592   -2.17394\n",
       " -1.21512      1.69544     -0.0197223     -2.67796    -0.339717    1.25512\n",
       "  ⋮                                    ⋱                           ⋮\n",
       "  0.0536952   -1.46249      1.16488       -1.51363    -0.2071     -1.76612\n",
       "  1.79327     -0.52568      0.277018   …  -0.969468    1.81627    -0.576609\n",
       " -0.0782419    0.77437     -0.62905        1.46115    -0.99748    -0.616214\n",
       "  1.02422      0.0356938   -1.29388       -0.0459317   0.929891    0.188816\n",
       "  0.986321    -0.202815    -0.319073       1.02439    -0.157278    0.538959\n",
       "  1.41488     -0.0672266    0.392463      -1.691       1.30315    -0.30691\n",
       "  0.663184     1.99406      1.37798    …  -1.40645     1.3788      1.06549\n",
       " -0.817452    -0.409397     1.30857        0.993148    0.507468   -0.859239\n",
       "  1.11884     -0.0128622   -0.832455      -0.336027    0.985658    0.986724\n",
       "  2.05575      0.695865    -0.775603       4.97315     0.705771   -0.16213\n",
       " -0.249281    -1.63094     -0.81029        0.705771    6.1016      0.385368\n",
       "  0.587851     0.583392    -0.0374679  …  -0.16213     0.385368    3.88928"
      ]
     },
     "execution_count": 26,
     "metadata": {},
     "output_type": "execute_result"
    }
   ],
   "source": [
    "edM2"
   ]
  },
  {
   "cell_type": "code",
   "execution_count": 27,
   "id": "a4d5952e-473f-4f9a-b051-819bbc67a055",
   "metadata": {},
   "outputs": [
    {
     "name": "stdout",
     "output_type": "stream",
     "text": [
      "Main.EigenDecomposedMatrices.EigenDecomposed{Float64, Matrix{Float64}, Vector{Float64}, Matrix{Float64}, Adjoint{Float64, Matrix{Float64}}}\n",
      "  A: Array{Float64}((256, 256)) [3.6473037451227297 -0.00782139350902675 … -0.24928079518286228 0.5878511392913932; -0.00782139350902675 5.286509064562285 … -1.630937812174819 0.5833916370789631; … ; -0.24928079518286228 -1.630937812174819 … 6.101596058446986 0.385368144948812; 0.5878511392913932 0.5833916370789631 … 0.385368144948812 3.889279373400584]\n",
      "  E: Array{Float64}((256,)) [-26.076276490208027, -25.239068382181962, -24.939945334190398, -23.839257544987905, -23.5983515819698, -23.54900040977536, -23.102530353964465, -22.769248576893425, -22.492489063227726, -21.822935288841673  …  31.789738919208137, 32.16508641952741, 32.53493593530226, 32.717394738860534, 33.520275725483884, 33.651503888385676, 34.200240012037284, 34.67922559347302, 35.265230151313474, 36.74795337385183]\n",
      "  P: Array{Float64}((256, 256)) [-0.0791786726633903 0.008996040093953592 … 0.14240112639714375 0.021168360715851795; 0.03048206196946707 0.04063057793680246 … -0.07986764798839416 0.009462950490291517; … ; 0.0042116243677596255 0.015575273556899222 … 0.06580853716759516 0.14636822602747052; -0.055231530582596396 -0.04759981834921679 … 0.003267408189081547 0.11615176600550539]\n",
      "  invP: Adjoint{Float64, Matrix{Float64}}\n",
      "    parent: Array{Float64}((256, 256)) [-0.0791786726633903 0.008996040093953592 … 0.14240112639714375 0.021168360715851795; 0.03048206196946707 0.04063057793680246 … -0.07986764798839416 0.009462950490291517; … ; 0.0042116243677596255 0.015575273556899222 … 0.06580853716759516 0.14636822602747052; -0.055231530582596396 -0.04759981834921679 … 0.003267408189081547 0.11615176600550539]\n"
     ]
    }
   ],
   "source": [
    "dump(edM2)"
   ]
  },
  {
   "cell_type": "code",
   "execution_count": 28,
   "id": "48b70d58-74b6-4a9e-a95b-9973cc775118",
   "metadata": {},
   "outputs": [
    {
     "data": {
      "text/plain": [
       "true"
      ]
     },
     "execution_count": 28,
     "metadata": {},
     "output_type": "execute_result"
    }
   ],
   "source": [
    "M2 ≈ Matrix(edM2)"
   ]
  },
  {
   "cell_type": "code",
   "execution_count": 29,
   "id": "0dde64d3-71f4-40de-a2a8-c5bd79e24d64",
   "metadata": {},
   "outputs": [
    {
     "data": {
      "text/plain": [
       "true"
      ]
     },
     "execution_count": 29,
     "metadata": {},
     "output_type": "execute_result"
    }
   ],
   "source": [
    "M2 ≈ edM2"
   ]
  },
  {
   "cell_type": "code",
   "execution_count": 30,
   "id": "f0a53088-b448-4880-b082-265b9f435b06",
   "metadata": {},
   "outputs": [
    {
     "data": {
      "text/plain": [
       "true"
      ]
     },
     "execution_count": 30,
     "metadata": {},
     "output_type": "execute_result"
    }
   ],
   "source": [
    "c2*M2 ≈ c2*edM2 ≈ edM2*c2"
   ]
  },
  {
   "cell_type": "code",
   "execution_count": 31,
   "id": "b3cf000b-7d36-4354-ad55-324218517899",
   "metadata": {},
   "outputs": [
    {
     "data": {
      "text/plain": [
       "true"
      ]
     },
     "execution_count": 31,
     "metadata": {},
     "output_type": "execute_result"
    }
   ],
   "source": [
    "c2\\M2 ≈ c2\\edM2 ≈ edM2/c2"
   ]
  },
  {
   "cell_type": "code",
   "execution_count": 32,
   "id": "8a9f4b9d-964e-4ddf-950e-7ed6eae067e6",
   "metadata": {},
   "outputs": [
    {
     "data": {
      "text/plain": [
       "true"
      ]
     },
     "execution_count": 32,
     "metadata": {},
     "output_type": "execute_result"
    }
   ],
   "source": [
    "(\n",
    "    exp(M2)\n",
    "    ≈ exp(edM2)\n",
    "    ≈ EigenDecomposedMatrices.exp_old(edM2)\n",
    "    ≈ EigenDecomposedMatrices.exp_eigendecomposed!(Y2, edM2)\n",
    "    ≈ EigenDecomposedMatrices.exp_eigendecomposed!(Y2, edM2, expE2, tmpY2)\n",
    ")"
   ]
  },
  {
   "cell_type": "code",
   "execution_count": 33,
   "id": "8ab2727d-78d0-404c-9c28-045d1a79241d",
   "metadata": {},
   "outputs": [
    {
     "name": "stdout",
     "output_type": "stream",
     "text": [
      "typeof(y2) = Vector{Float64}\n"
     ]
    },
    {
     "data": {
      "text/plain": [
       "true"
      ]
     },
     "execution_count": 33,
     "metadata": {},
     "output_type": "execute_result"
    }
   ],
   "source": [
    "@show typeof(y2)\n",
    "mul!(y2, M2, v2, alpha2, beta2) ≈ mul!(y2, edM2, v2, alpha2, beta2)"
   ]
  },
  {
   "cell_type": "code",
   "execution_count": 34,
   "id": "2ba1d808-754a-4075-8c5a-122fa6360e62",
   "metadata": {},
   "outputs": [
    {
     "name": "stdout",
     "output_type": "stream",
     "text": [
      "typeof(tmpy2) = Vector{Float64}\n"
     ]
    },
    {
     "data": {
      "text/plain": [
       "true"
      ]
     },
     "execution_count": 34,
     "metadata": {},
     "output_type": "execute_result"
    }
   ],
   "source": [
    "@show typeof(tmpy2)\n",
    "(\n",
    "    exp(M2) * v2\n",
    "    ≈ exp(edM2) * v2\n",
    "    ≈ EigenDecomposedMatrices.exp_old(edM2) * v2\n",
    "    ≈ mul!(tmpy2, EigenDecomposedMatrices.exp_eigendecomposed!(Y2, edM2), v2)\n",
    "    ≈ mul!(tmpy2, EigenDecomposedMatrices.exp_eigendecomposed!(Y2, edM2, expE2, tmpY2), v2)\n",
    ")"
   ]
  },
  {
   "cell_type": "code",
   "execution_count": 35,
   "id": "a1925b60-427c-45ed-9053-2d79a9d412af",
   "metadata": {},
   "outputs": [
    {
     "name": "stdout",
     "output_type": "stream",
     "text": [
      "  6.327 ms (16 allocations: 2.09 MiB)\n"
     ]
    }
   ],
   "source": [
    "@btime edM2 = EigenDecomposedMatrices.EigenDecomposed(M2);"
   ]
  },
  {
   "cell_type": "code",
   "execution_count": 36,
   "id": "2292854e-259d-4615-8551-8c2c6060b7b5",
   "metadata": {},
   "outputs": [
    {
     "name": "stdout",
     "output_type": "stream",
     "text": [
      "  6.853 ms (19 allocations: 2.60 MiB)\n",
      "  639.400 μs (6 allocations: 1.00 MiB)\n",
      "  629.900 μs (6 allocations: 1.00 MiB)\n",
      "  637.000 μs (3 allocations: 514.17 KiB)\n",
      "  597.100 μs (0 allocations: 0 bytes)\n"
     ]
    }
   ],
   "source": [
    "@btime exp($M2) * $v2\n",
    "@btime exp($edM2) * $v2\n",
    "@btime EigenDecomposedMatrices.exp_old($edM2) * $v2\n",
    "@btime mul!($tmpy2, EigenDecomposedMatrices.exp_eigendecomposed!($Y2, $edM2), $v2)\n",
    "@btime mul!($tmpy2, EigenDecomposedMatrices.exp_eigendecomposed!($Y2, $edM2, $expE2, $tmpY2), $v2);"
   ]
  },
  {
   "cell_type": "code",
   "execution_count": null,
   "id": "ba4c485f-0f08-4cb5-be8f-990f48c6c6f7",
   "metadata": {},
   "outputs": [],
   "source": []
  }
 ],
 "metadata": {
  "jupytext": {
   "formats": "ipynb,jl:hydrogen"
  },
  "kernelspec": {
   "display_name": "Julia 1.9.0-beta2",
   "language": "julia",
   "name": "julia-1.9"
  },
  "language_info": {
   "file_extension": ".jl",
   "mimetype": "application/julia",
   "name": "julia",
   "version": "1.9.0"
  }
 },
 "nbformat": 4,
 "nbformat_minor": 5
}
