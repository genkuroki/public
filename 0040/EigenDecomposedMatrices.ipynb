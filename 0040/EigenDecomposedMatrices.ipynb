{
 "cells": [
  {
   "cell_type": "markdown",
   "id": "b0184a3a-d155-4ea7-82bb-d88b29ddee16",
   "metadata": {},
   "source": [
    "## The Original EigenDecompression.EigenDecompose\n",
    "\n",
    "See\n",
    "\n",
    "* https://mobile.twitter.com/realize_ss/status/1615160291108745216\n",
    "* https://qiita.com/lelele/items/8408410a94f5c6b8f76e"
   ]
  },
  {
   "cell_type": "code",
   "execution_count": 1,
   "id": "9c72fb52-e0c2-4b6e-ada5-b0fba6982ae5",
   "metadata": {},
   "outputs": [
    {
     "data": {
      "text/plain": [
       "Eigen{ComplexF64, ComplexF64, Matrix{ComplexF64}, Vector{ComplexF64}}\n",
       "values:\n",
       "100-element Vector{ComplexF64}:\n",
       "  -2.754451450502443 - 0.39749988627169797im\n",
       "  -2.754451450502443 + 0.39749988627169797im\n",
       " -2.5250571636150148 - 0.6374236149840182im\n",
       " -2.5250571636150148 + 0.6374236149840182im\n",
       "  -2.356868242449035 + 0.0im\n",
       " -2.2156064058331095 - 1.4230980003258915im\n",
       " -2.2156064058331095 + 1.4230980003258915im\n",
       " -2.2010456461956913 - 0.2927949755547112im\n",
       " -2.2010456461956913 + 0.2927949755547112im\n",
       "  -2.183471618894222 - 0.7964116773484528im\n",
       "  -2.183471618894222 + 0.7964116773484528im\n",
       " -1.9439605762180874 - 1.7634788581232392im\n",
       " -1.9439605762180874 + 1.7634788581232392im\n",
       "                     ⋮\n",
       "  1.6711235830269149 - 1.1869067408760747im\n",
       "  1.6711235830269149 + 1.1869067408760747im\n",
       "   1.801639489578879 - 0.15506751202355196im\n",
       "   1.801639489578879 + 0.15506751202355196im\n",
       "   2.191927392912879 - 1.206248996604773im\n",
       "   2.191927392912879 + 1.206248996604773im\n",
       "  2.2857563767873113 + 0.0im\n",
       "  2.5270645583769324 - 0.6756214872072047im\n",
       "  2.5270645583769324 + 0.6756214872072047im\n",
       "  3.0421016646864203 - 0.016980407454159418im\n",
       "  3.0421016646864203 + 0.016980407454159418im\n",
       "   49.77208644096936 + 0.0im\n",
       "vectors:\n",
       "100×100 Matrix{ComplexF64}:\n",
       "    -0.118069-0.010602im       -0.118069+0.010602im    …  -0.0982856+0.0im\n",
       "   -0.0855736+0.0410975im     -0.0855736-0.0410975im      -0.0955439+0.0im\n",
       "    0.0421099-0.0194488im      0.0421099+0.0194488im       -0.104924+0.0im\n",
       "    -0.106637+0.03941im        -0.106637-0.03941im         -0.104248+0.0im\n",
       "   -0.0358704-0.00436869im    -0.0358704+0.00436869im      -0.105927+0.0im\n",
       "   0.00564362-0.031039im      0.00564362+0.031039im    …   -0.091476+0.0im\n",
       "   -0.0228494+0.125905im      -0.0228494-0.125905im       -0.0982096+0.0im\n",
       "    -0.021301+0.0454996im      -0.021301-0.0454996im      -0.0945311+0.0im\n",
       "    -0.069956-0.077176im       -0.069956+0.077176im        -0.106401+0.0im\n",
       "    0.0223583-0.0275687im      0.0223583+0.0275687im      -0.0983985+0.0im\n",
       "    0.0136339+0.0693986im      0.0136339-0.0693986im   …   -0.099802+0.0im\n",
       "    0.0961077-0.0328916im      0.0961077+0.0328916im       -0.104409+0.0im\n",
       "    0.0242855-0.0266815im      0.0242855+0.0266815im      -0.0970232+0.0im\n",
       "             ⋮                                         ⋱  \n",
       "   -0.0670447+0.0380551im     -0.0670447-0.0380551im      -0.0981716+0.0im\n",
       "   -0.0828259-0.00183257im    -0.0828259+0.00183257im     -0.0990337+0.0im\n",
       "    0.0593269+0.0146544im      0.0593269-0.0146544im   …   -0.103271+0.0im\n",
       "    0.0483132-0.021643im       0.0483132+0.021643im        -0.100193+0.0im\n",
       "    0.0389744+0.0523802im      0.0389744-0.0523802im        -0.10152+0.0im\n",
       "   -0.0139768-0.0219523im     -0.0139768+0.0219523im      -0.0998817+0.0im\n",
       "    0.0401683-0.0172423im      0.0401683+0.0172423im      -0.0954111+0.0im\n",
       "    0.0961153-0.122957im       0.0961153+0.122957im    …   -0.104946+0.0im\n",
       " -0.000420781-0.026988im    -0.000420781+0.026988im        -0.101345+0.0im\n",
       "    0.0810031+0.0259969im      0.0810031-0.0259969im      -0.0954936+0.0im\n",
       "    -0.019416+0.113357im       -0.019416-0.113357im       -0.0976747+0.0im\n",
       "   -0.0345183-0.117658im      -0.0345183+0.117658im        -0.104658+0.0im"
      ]
     },
     "execution_count": 1,
     "metadata": {},
     "output_type": "execute_result"
    }
   ],
   "source": [
    "using LinearAlgebra\n",
    "M = rand(100,100)#対角化したい行列\n",
    "E, P = eigen(M)"
   ]
  },
  {
   "cell_type": "code",
   "execution_count": 2,
   "id": "f69a793a-abb9-4c47-ab07-912b4bd711de",
   "metadata": {},
   "outputs": [
    {
     "ename": "LoadError",
     "evalue": "MethodError: no method matching exp(::Eigen{ComplexF64, ComplexF64, Matrix{ComplexF64}, Vector{ComplexF64}})\n\n\u001b[0mClosest candidates are:\n\u001b[0m  exp(\u001b[91m::Union{Float16, Float32, Float64}\u001b[39m)\n\u001b[0m\u001b[90m   @\u001b[39m \u001b[90mBase\u001b[39m \u001b[90mspecial\\\u001b[39m\u001b[90m\u001b[4mexp.jl:325\u001b[24m\u001b[39m\n\u001b[0m  exp(\u001b[91m::Adjoint{T, <:AbstractMatrix} where T\u001b[39m)\n\u001b[0m\u001b[90m   @\u001b[39m \u001b[35mLinearAlgebra\u001b[39m \u001b[90mD:\\Julia-1.9.0-beta2\\share\\julia\\stdlib\\v1.9\\LinearAlgebra\\src\\\u001b[39m\u001b[90m\u001b[4mdense.jl:595\u001b[24m\u001b[39m\n\u001b[0m  exp(\u001b[91m::Transpose{T, <:AbstractMatrix} where T\u001b[39m)\n\u001b[0m\u001b[90m   @\u001b[39m \u001b[35mLinearAlgebra\u001b[39m \u001b[90mD:\\Julia-1.9.0-beta2\\share\\julia\\stdlib\\v1.9\\LinearAlgebra\\src\\\u001b[39m\u001b[90m\u001b[4mdense.jl:596\u001b[24m\u001b[39m\n\u001b[0m  ...\n",
     "output_type": "error",
     "traceback": [
      "MethodError: no method matching exp(::Eigen{ComplexF64, ComplexF64, Matrix{ComplexF64}, Vector{ComplexF64}})\n\n\u001b[0mClosest candidates are:\n\u001b[0m  exp(\u001b[91m::Union{Float16, Float32, Float64}\u001b[39m)\n\u001b[0m\u001b[90m   @\u001b[39m \u001b[90mBase\u001b[39m \u001b[90mspecial\\\u001b[39m\u001b[90m\u001b[4mexp.jl:325\u001b[24m\u001b[39m\n\u001b[0m  exp(\u001b[91m::Adjoint{T, <:AbstractMatrix} where T\u001b[39m)\n\u001b[0m\u001b[90m   @\u001b[39m \u001b[35mLinearAlgebra\u001b[39m \u001b[90mD:\\Julia-1.9.0-beta2\\share\\julia\\stdlib\\v1.9\\LinearAlgebra\\src\\\u001b[39m\u001b[90m\u001b[4mdense.jl:595\u001b[24m\u001b[39m\n\u001b[0m  exp(\u001b[91m::Transpose{T, <:AbstractMatrix} where T\u001b[39m)\n\u001b[0m\u001b[90m   @\u001b[39m \u001b[35mLinearAlgebra\u001b[39m \u001b[90mD:\\Julia-1.9.0-beta2\\share\\julia\\stdlib\\v1.9\\LinearAlgebra\\src\\\u001b[39m\u001b[90m\u001b[4mdense.jl:596\u001b[24m\u001b[39m\n\u001b[0m  ...\n",
      "",
      "Stacktrace:",
      " [1] top-level scope",
      "   @ In[2]:1"
     ]
    }
   ],
   "source": [
    "exp(eigen(M))"
   ]
  },
  {
   "cell_type": "code",
   "execution_count": 3,
   "id": "0ceab85b-f2a5-43b9-a45a-19bebb655d60",
   "metadata": {},
   "outputs": [
    {
     "data": {
      "text/plain": [
       "Main.EigenDecompression"
      ]
     },
     "execution_count": 3,
     "metadata": {},
     "output_type": "execute_result"
    }
   ],
   "source": [
    "module EigenDecompression\n",
    "\n",
    "export EigenDecompose, eigDecomp\n",
    "using LinearAlgebra\n",
    "import Base.*, Base./\n",
    "\n",
    "#対角化された行列型\n",
    "struct EigenDecompose{T<:Number} <: AbstractMatrix{T}\n",
    "    P::AbstractMatrix{T}\n",
    "    D::Diagonal{T}\n",
    "    invP::AbstractMatrix{T}\n",
    "end\n",
    "\n",
    "#普通のMatrixを対角化する\n",
    "function eigDecomp(mat::AbstractMatrix)\n",
    "    E, P = eigen(mat)\n",
    "    EigenDecompose(P, Diagonal(E), inv(P))\n",
    "end\n",
    "\n",
    "#EigenDecompose型に対する関数\n",
    "Base.exp(eig::EigenDecompose) = EigenDecompose(eig.P, exp(eig.D), eig.invP)\n",
    "*(eig::EigenDecompose, vec::AbstractVector) = eig.P * eig.D * eig.invP * vec\n",
    "*(eig::EigenDecompose, sc::Number) = EigenDecompose(eig.P, eig.D*sc, eig.invP)\n",
    "/(eig::EigenDecompose, sc::Number) = EigenDecompose(eig.P, eig.D/sc, eig.invP)\n",
    "\n",
    "#普通のMatrixに戻す\n",
    "Base.Array(eig::EigenDecompose) = eig.P * eig.D * eig.invP\n",
    "\n",
    "end"
   ]
  },
  {
   "cell_type": "code",
   "execution_count": 4,
   "id": "a6f2726f-780f-4cbc-a980-e13b78f159a6",
   "metadata": {},
   "outputs": [],
   "source": [
    "using .EigenDecompression\n",
    "\n",
    "M = rand(100, 100)\n",
    "eM = eigDecomp(M)\n",
    "for i in 1:100\n",
    "    v = rand(100)\n",
    "    rnd = rand()\n",
    "    @assert exp(M*rnd)*v ≈ exp(eM*rnd)*v\n",
    "end"
   ]
  },
  {
   "cell_type": "code",
   "execution_count": 5,
   "id": "b3566c65-ea4a-48b2-9736-00e7904ebe3b",
   "metadata": {},
   "outputs": [
    {
     "data": {
      "text/plain": [
       "bench2 (generic function with 1 method)"
      ]
     },
     "execution_count": 5,
     "metadata": {},
     "output_type": "execute_result"
    }
   ],
   "source": [
    "using BenchmarkTools\n",
    "\n",
    "M = rand(100, 100);\n",
    "\n",
    "#普通な方\n",
    "function bench1(M)\n",
    "    for i in 1:100\n",
    "        v = rand(100)\n",
    "        exp(M*rand())*v\n",
    "    end\n",
    "end\n",
    "\n",
    "#今回実装した方\n",
    "function bench2(M)\n",
    "    eM = eigDecomp(M)\n",
    "    for i in 1:100\n",
    "        v = rand(100)\n",
    "        exp(eM*rand())*v\n",
    "    end\n",
    "end"
   ]
  },
  {
   "cell_type": "code",
   "execution_count": 6,
   "id": "7ce7e7d9-dc0b-4384-8296-a0c0c884deae",
   "metadata": {},
   "outputs": [
    {
     "data": {
      "text/plain": [
       "BenchmarkTools.Trial: 61 samples with 1 evaluation.\n",
       " Range \u001b[90m(\u001b[39m\u001b[36m\u001b[1mmin\u001b[22m\u001b[39m … \u001b[35mmax\u001b[39m\u001b[90m):  \u001b[39m\u001b[36m\u001b[1m74.035 ms\u001b[22m\u001b[39m … \u001b[35m96.327 ms\u001b[39m  \u001b[90m┊\u001b[39m GC \u001b[90m(\u001b[39mmin … max\u001b[90m): \u001b[39m2.37% … 4.74%\n",
       " Time  \u001b[90m(\u001b[39m\u001b[34m\u001b[1mmedian\u001b[22m\u001b[39m\u001b[90m):     \u001b[39m\u001b[34m\u001b[1m82.196 ms              \u001b[22m\u001b[39m\u001b[90m┊\u001b[39m GC \u001b[90m(\u001b[39mmedian\u001b[90m):    \u001b[39m2.31%\n",
       " Time  \u001b[90m(\u001b[39m\u001b[32m\u001b[1mmean\u001b[22m\u001b[39m ± \u001b[32mσ\u001b[39m\u001b[90m):   \u001b[39m\u001b[32m\u001b[1m83.068 ms\u001b[22m\u001b[39m ± \u001b[32m 5.198 ms\u001b[39m  \u001b[90m┊\u001b[39m GC \u001b[90m(\u001b[39mmean ± σ\u001b[90m):  \u001b[39m3.43% ± 1.96%\n",
       "\n",
       "  \u001b[39m \u001b[39m \u001b[39m \u001b[39m \u001b[39m \u001b[39m \u001b[39m \u001b[39m \u001b[39m▃\u001b[39m \u001b[39m▃\u001b[39m \u001b[39m▃\u001b[39m \u001b[39m█\u001b[39m \u001b[39m \u001b[39m \u001b[39m█\u001b[39m▃\u001b[39m▃\u001b[39m█\u001b[39m \u001b[39m \u001b[34m▃\u001b[39m\u001b[39m▃\u001b[39m \u001b[39m█\u001b[32m \u001b[39m\u001b[39m \u001b[39m▃\u001b[39m \u001b[39m \u001b[39m \u001b[39m▃\u001b[39m \u001b[39m \u001b[39m \u001b[39m \u001b[39m \u001b[39m▃\u001b[39m \u001b[39m \u001b[39m \u001b[39m \u001b[39m \u001b[39m \u001b[39m▃\u001b[39m \u001b[39m \u001b[39m \u001b[39m▃\u001b[39m \u001b[39m \u001b[39m \u001b[39m \u001b[39m \u001b[39m \u001b[39m \u001b[39m \u001b[39m \n",
       "  \u001b[39m▇\u001b[39m▇\u001b[39m▁\u001b[39m▇\u001b[39m▁\u001b[39m▁\u001b[39m▇\u001b[39m▇\u001b[39m█\u001b[39m▁\u001b[39m█\u001b[39m▇\u001b[39m█\u001b[39m▇\u001b[39m█\u001b[39m▁\u001b[39m▁\u001b[39m▇\u001b[39m█\u001b[39m█\u001b[39m█\u001b[39m█\u001b[39m▁\u001b[39m▇\u001b[34m█\u001b[39m\u001b[39m█\u001b[39m▇\u001b[39m█\u001b[32m▁\u001b[39m\u001b[39m▇\u001b[39m█\u001b[39m▁\u001b[39m▇\u001b[39m▁\u001b[39m█\u001b[39m▇\u001b[39m▇\u001b[39m▁\u001b[39m▇\u001b[39m▇\u001b[39m█\u001b[39m▁\u001b[39m▁\u001b[39m▁\u001b[39m▇\u001b[39m▇\u001b[39m▇\u001b[39m█\u001b[39m▇\u001b[39m▇\u001b[39m▁\u001b[39m█\u001b[39m▁\u001b[39m▁\u001b[39m▇\u001b[39m▁\u001b[39m▇\u001b[39m▁\u001b[39m▇\u001b[39m \u001b[39m▁\n",
       "  74 ms\u001b[90m           Histogram: frequency by time\u001b[39m        93.2 ms \u001b[0m\u001b[1m<\u001b[22m\n",
       "\n",
       " Memory estimate\u001b[90m: \u001b[39m\u001b[33m53.80 MiB\u001b[39m, allocs estimate\u001b[90m: \u001b[39m\u001b[33m1900\u001b[39m."
      ]
     },
     "execution_count": 6,
     "metadata": {},
     "output_type": "execute_result"
    }
   ],
   "source": [
    "@benchmark bench1(M)"
   ]
  },
  {
   "cell_type": "code",
   "execution_count": 7,
   "id": "8441c537-41ff-425b-a83b-bc7c455a1ff4",
   "metadata": {},
   "outputs": [
    {
     "data": {
      "text/plain": [
       "BenchmarkTools.Trial: 707 samples with 1 evaluation.\n",
       " Range \u001b[90m(\u001b[39m\u001b[36m\u001b[1mmin\u001b[22m\u001b[39m … \u001b[35mmax\u001b[39m\u001b[90m):  \u001b[39m\u001b[36m\u001b[1m6.119 ms\u001b[22m\u001b[39m … \u001b[35m 11.841 ms\u001b[39m  \u001b[90m┊\u001b[39m GC \u001b[90m(\u001b[39mmin … max\u001b[90m): \u001b[39m0.00% … 29.23%\n",
       " Time  \u001b[90m(\u001b[39m\u001b[34m\u001b[1mmedian\u001b[22m\u001b[39m\u001b[90m):     \u001b[39m\u001b[34m\u001b[1m6.887 ms               \u001b[22m\u001b[39m\u001b[90m┊\u001b[39m GC \u001b[90m(\u001b[39mmedian\u001b[90m):    \u001b[39m0.00%\n",
       " Time  \u001b[90m(\u001b[39m\u001b[32m\u001b[1mmean\u001b[22m\u001b[39m ± \u001b[32mσ\u001b[39m\u001b[90m):   \u001b[39m\u001b[32m\u001b[1m7.062 ms\u001b[22m\u001b[39m ± \u001b[32m711.919 μs\u001b[39m  \u001b[90m┊\u001b[39m GC \u001b[90m(\u001b[39mmean ± σ\u001b[90m):  \u001b[39m0.44% ±  2.03%\n",
       "\n",
       "  \u001b[39m \u001b[39m \u001b[39m \u001b[39m▄\u001b[39m▇\u001b[39m▆\u001b[39m█\u001b[39m▅\u001b[39m▅\u001b[39m▅\u001b[39m▄\u001b[39m▁\u001b[34m▂\u001b[39m\u001b[39m \u001b[39m \u001b[32m▁\u001b[39m\u001b[39m▁\u001b[39m▅\u001b[39m▄\u001b[39m \u001b[39m \u001b[39m \u001b[39m \u001b[39m \u001b[39m \u001b[39m \u001b[39m \u001b[39m \u001b[39m \u001b[39m \u001b[39m \u001b[39m \u001b[39m \u001b[39m \u001b[39m \u001b[39m \u001b[39m \u001b[39m \u001b[39m \u001b[39m \u001b[39m \u001b[39m \u001b[39m \u001b[39m \u001b[39m \u001b[39m \u001b[39m \u001b[39m \u001b[39m \u001b[39m \u001b[39m \u001b[39m \u001b[39m \u001b[39m \u001b[39m \u001b[39m \u001b[39m \u001b[39m \u001b[39m \u001b[39m \u001b[39m \n",
       "  \u001b[39m▂\u001b[39m▆\u001b[39m▆\u001b[39m█\u001b[39m█\u001b[39m█\u001b[39m█\u001b[39m█\u001b[39m█\u001b[39m█\u001b[39m█\u001b[39m█\u001b[34m█\u001b[39m\u001b[39m█\u001b[39m█\u001b[32m█\u001b[39m\u001b[39m█\u001b[39m█\u001b[39m█\u001b[39m▇\u001b[39m█\u001b[39m█\u001b[39m█\u001b[39m▇\u001b[39m▄\u001b[39m▆\u001b[39m▅\u001b[39m▅\u001b[39m▃\u001b[39m▅\u001b[39m▄\u001b[39m▃\u001b[39m▃\u001b[39m▂\u001b[39m▃\u001b[39m▂\u001b[39m▃\u001b[39m▃\u001b[39m▃\u001b[39m▃\u001b[39m▂\u001b[39m▃\u001b[39m▂\u001b[39m▂\u001b[39m▃\u001b[39m▂\u001b[39m▃\u001b[39m▂\u001b[39m▁\u001b[39m▃\u001b[39m▁\u001b[39m▁\u001b[39m▁\u001b[39m▃\u001b[39m▁\u001b[39m▂\u001b[39m▁\u001b[39m▂\u001b[39m▂\u001b[39m \u001b[39m▄\n",
       "  6.12 ms\u001b[90m         Histogram: frequency by time\u001b[39m         9.8 ms \u001b[0m\u001b[1m<\u001b[22m\n",
       "\n",
       " Memory estimate\u001b[90m: \u001b[39m\u001b[33m1.82 MiB\u001b[39m, allocs estimate\u001b[90m: \u001b[39m\u001b[33m1728\u001b[39m."
      ]
     },
     "execution_count": 7,
     "metadata": {},
     "output_type": "execute_result"
    }
   ],
   "source": [
    "@benchmark bench2(M)"
   ]
  },
  {
   "cell_type": "markdown",
   "id": "a9ecc6b7-4601-40b9-937f-05854d56f58b",
   "metadata": {},
   "source": [
    "## EigenDecomposedMatrices.EigenDecomposed"
   ]
  },
  {
   "cell_type": "code",
   "execution_count": 8,
   "id": "57691738-e725-481e-ba43-9d7fea5b8c60",
   "metadata": {},
   "outputs": [],
   "source": [
    "using LinearAlgebra\n",
    "using BenchmarkTools"
   ]
  },
  {
   "cell_type": "code",
   "execution_count": 9,
   "id": "a3672e5b-5030-4952-b50a-da95ef2eb11e",
   "metadata": {},
   "outputs": [
    {
     "data": {
      "text/plain": [
       "Main.EigenDecomposedMatrices"
      ]
     },
     "execution_count": 9,
     "metadata": {},
     "output_type": "execute_result"
    }
   ],
   "source": [
    "module EigenDecomposedMatrices\n",
    "\n",
    "export EigenDecomposed\n",
    "\n",
    "using LinearAlgebra\n",
    "using Memoization\n",
    "\n",
    "struct EigenDecomposed{\n",
    "        T,\n",
    "        TE<:AbstractVector{T},\n",
    "        TP<:AbstractMatrix{T},\n",
    "        TinvP<:AbstractMatrix{T}\n",
    "    } <: AbstractMatrix{T}\n",
    "    E::TE\n",
    "    P::TP\n",
    "    invP::TinvP\n",
    "end\n",
    "\n",
    "function EigenDecomposed(A::AbstractMatrix)\n",
    "    E, P = eigen(A)\n",
    "    invP = ishermitian(A) ? P' : inv(P)\n",
    "    EigenDecomposed(E, P, invP)\n",
    "end\n",
    "\n",
    "LinearAlgebra.eigvals(ed::EigenDecomposed) = ed.E\n",
    "LinearAlgebra.eigvecs(ed::EigenDecomposed) = ed.P\n",
    "inveigvecs(ed::EigenDecomposed) = ed.invP\n",
    "@memoize Base.parent(ed::EigenDecomposed) = eigvecs(ed) * Diagonal(eigvals(ed)) * inveigvecs(ed)\n",
    "Base.convert(::Type{Array}, ed::EigenDecomposed) = convert(Array, parent(ed))\n",
    "for op in (:eltype, :size)\n",
    "    @eval Base.$op(ed::EigenDecomposed) = $op(eigvecs(ed))\n",
    "end\n",
    "Base.getindex(ed::EigenDecomposed, I...) = getindex(parent(ed), I...)\n",
    "\n",
    "Base.:*(c::Number, ed::EigenDecomposed) = EigenDecomposed(c*eigvals(ed), eigvecs(ed), inveigvecs(ed))\n",
    "Base.:*(ed::EigenDecomposed, c::Number) = EigenDecomposed(eigvals(ed)*c, eigvecs(ed), inveigvecs(ed))\n",
    "Base.:\\(c::Number, ed::EigenDecomposed) = EigenDecomposed(c\\eigvals(ed), eigvecs(ed), inveigvecs(ed))\n",
    "Base.:/(ed::EigenDecomposed, c::Number) = EigenDecomposed(eigvals(ed)/c, eigvecs(ed), inveigvecs(ed))\n",
    "for T in (AbstractVector, AbstractMatrix)\n",
    "    @eval function Base.:*(ed::EigenDecomposed, v::$T)\n",
    "        E, P, invP = eigvals(ed), eigvecs(ed), inveigvecs(ed)\n",
    "        P * (Diagonal(E) * (invP * v))\n",
    "    end\n",
    "end\n",
    "\n",
    "function exp_old(ed::EigenDecomposed)\n",
    "    E, P, invP = eigvals(ed), eigvecs(ed), inveigvecs(ed)\n",
    "    expE = exp.(E)\n",
    "    expA = P * Diagonal(expE) * invP \n",
    "    EigenDecomposed(expE, P, invP)\n",
    "end\n",
    "\n",
    "LinearAlgebra.lmul!(c::Number, ed::EigenDecomposed) = lmul!(c, eigvals(ed))\n",
    "LinearAlgebra.rmul!(ed::EigenDecomposed, c::Number) = rmul!(eigvals(ed), c)\n",
    "LinearAlgebra.ldiv!(c::Number, ed::EigenDecomposed) = ldiv!(c, eigvals(ed))\n",
    "LinearAlgebra.rdiv!(ed::EigenDecomposed, c::Number) = rdiv!(eigvals(ed), c)\n",
    "\n",
    "for op in (:exp, :log, :sin, :cos)\n",
    "    opE = Symbol(op, \"E\")\n",
    "    op_eigendecomposed = Symbol(op, \"_eigendecomposed\")\n",
    "    op_eigendecomposed! = Symbol(op_eigendecomposed, \"!\")\n",
    "    op_eigendecomposed!_doc =\n",
    "        \"\"\"\n",
    "        $op_eigendecomposed!(Y, ed::EigenDecomposed, $opE=similar(ed.E), tmpY=similar(Y))\n",
    "\n",
    "        returns the `$op` of `ed` and stores the result in `Y`, overwriting the existing value of `Y`. \n",
    "        It does not overwrite `ed` and uses `$opE` and `tmpY` as workspaces.\n",
    "        \"\"\"\n",
    "    @eval begin\n",
    "        @doc $op_eigendecomposed!_doc\n",
    "        function $op_eigendecomposed!(Y, ed::EigenDecomposed, $opE=similar(ed.E), tmpY=similar(Y))\n",
    "            E, P, invP = eigvals(ed), eigvecs(ed), inveigvecs(ed)\n",
    "            @. $opE = $op.(E)\n",
    "            mul!(tmpY, P, Diagonal($opE))\n",
    "            mul!(Y, tmpY, invP)\n",
    "        end\n",
    "        $op_eigendecomposed(ed::EigenDecomposed) = $op_eigendecomposed!(similar(eigvecs(ed)), ed)\n",
    "        Base.$op(ed::EigenDecomposed) = $op_eigendecomposed(ed)\n",
    "    end\n",
    "end\n",
    "\n",
    "end"
   ]
  },
  {
   "cell_type": "code",
   "execution_count": 10,
   "id": "f4402c98-850b-44e0-9407-6088e6421f19",
   "metadata": {},
   "outputs": [
    {
     "data": {
      "text/latex": [
       "exp\\_eigendecomposed!(Y, ed::EigenDecomposed, expE=similar(ed.E), tmpY=similar(Y))\n",
       "\n",
       "returns the \\texttt{exp} of \\texttt{ed} and stores the result in \\texttt{Y}, overwriting the existing value of \\texttt{Y}.  It does not overwrite \\texttt{ed} and uses \\texttt{expE} and \\texttt{tmpY} as workspaces.\n",
       "\n"
      ],
      "text/markdown": [
       "exp_eigendecomposed!(Y, ed::EigenDecomposed, expE=similar(ed.E), tmpY=similar(Y))\n",
       "\n",
       "returns the `exp` of `ed` and stores the result in `Y`, overwriting the existing value of `Y`.  It does not overwrite `ed` and uses `expE` and `tmpY` as workspaces.\n"
      ],
      "text/plain": [
       "  exp_eigendecomposed!(Y, ed::EigenDecomposed, expE=similar(ed.E),\n",
       "  tmpY=similar(Y))\n",
       "\n",
       "  returns the \u001b[36mexp\u001b[39m of \u001b[36med\u001b[39m and stores the result in \u001b[36mY\u001b[39m, overwriting the existing\n",
       "  value of \u001b[36mY\u001b[39m. It does not overwrite \u001b[36med\u001b[39m and uses \u001b[36mexpE\u001b[39m and \u001b[36mtmpY\u001b[39m as workspaces."
      ]
     },
     "execution_count": 10,
     "metadata": {},
     "output_type": "execute_result"
    }
   ],
   "source": [
    "?EigenDecomposedMatrices.exp_eigendecomposed!"
   ]
  },
  {
   "cell_type": "code",
   "execution_count": 11,
   "id": "beb73095-1445-4318-b010-1f4c495edec6",
   "metadata": {},
   "outputs": [
    {
     "data": {
      "text/latex": [
       "log\\_eigendecomposed!(Y, ed::EigenDecomposed, logE=similar(ed.E), tmpY=similar(Y))\n",
       "\n",
       "returns the \\texttt{log} of \\texttt{ed} and stores the result in \\texttt{Y}, overwriting the existing value of \\texttt{Y}.  It does not overwrite \\texttt{ed} and uses \\texttt{logE} and \\texttt{tmpY} as workspaces.\n",
       "\n"
      ],
      "text/markdown": [
       "log_eigendecomposed!(Y, ed::EigenDecomposed, logE=similar(ed.E), tmpY=similar(Y))\n",
       "\n",
       "returns the `log` of `ed` and stores the result in `Y`, overwriting the existing value of `Y`.  It does not overwrite `ed` and uses `logE` and `tmpY` as workspaces.\n"
      ],
      "text/plain": [
       "  log_eigendecomposed!(Y, ed::EigenDecomposed, logE=similar(ed.E),\n",
       "  tmpY=similar(Y))\n",
       "\n",
       "  returns the \u001b[36mlog\u001b[39m of \u001b[36med\u001b[39m and stores the result in \u001b[36mY\u001b[39m, overwriting the existing\n",
       "  value of \u001b[36mY\u001b[39m. It does not overwrite \u001b[36med\u001b[39m and uses \u001b[36mlogE\u001b[39m and \u001b[36mtmpY\u001b[39m as workspaces."
      ]
     },
     "execution_count": 11,
     "metadata": {},
     "output_type": "execute_result"
    }
   ],
   "source": [
    "?EigenDecomposedMatrices.log_eigendecomposed!"
   ]
  },
  {
   "cell_type": "code",
   "execution_count": 12,
   "id": "312bddb6-0a2d-4caf-8b60-d421be7143f3",
   "metadata": {},
   "outputs": [
    {
     "data": {
      "text/html": [
       "# 2 methods for type constructor:<ul><li> Main.EigenDecomposedMatrices.EigenDecomposed(E::<b>TE</b>, P::<b>TP</b>, invP::<b>TinvP</b>)<i> where {T, TE<:AbstractVector{T}, TP<:AbstractMatrix{T}, TinvP<:AbstractMatrix{T}}</i> in Main.EigenDecomposedMatrices at In[9]:14</li> <li> Main.EigenDecomposedMatrices.EigenDecomposed(A::<b>AbstractMatrix</b>) in Main.EigenDecomposedMatrices at In[9]:19</li> </ul>"
      ],
      "text/plain": [
       "# 2 methods for type constructor:\n",
       " [1] Main.EigenDecomposedMatrices.EigenDecomposed(\u001b[90mE\u001b[39m::\u001b[1mTE\u001b[22m, \u001b[90mP\u001b[39m::\u001b[1mTP\u001b[22m, \u001b[90minvP\u001b[39m::\u001b[1mTinvP\u001b[22m) where {T, TE<:AbstractVector{T}, TP<:AbstractMatrix{T}, TinvP<:AbstractMatrix{T}}\n",
       "\u001b[90m     @\u001b[39m \u001b[90m\u001b[4mIn[9]:14\u001b[24m\u001b[39m\n",
       " [2] Main.EigenDecomposedMatrices.EigenDecomposed(\u001b[90mA\u001b[39m::\u001b[1mAbstractMatrix\u001b[22m)\n",
       "\u001b[90m     @\u001b[39m \u001b[90m\u001b[4mIn[9]:19\u001b[24m\u001b[39m"
      ]
     },
     "execution_count": 12,
     "metadata": {},
     "output_type": "execute_result"
    }
   ],
   "source": [
    "methods(EigenDecomposedMatrices.EigenDecomposed)"
   ]
  },
  {
   "cell_type": "code",
   "execution_count": 13,
   "id": "880f55dc-77ea-46e3-8bdf-d4bb540a005a",
   "metadata": {},
   "outputs": [
    {
     "data": {
      "text/html": [
       "# 1 method for type constructor:<ul><li> (var\"#ctor-self#\"::<b>Type{Main.EigenDecomposedMatrices.EigenDecomposed{T, TE, TP, TinvP}} where {T, TE<:AbstractVector{T}, TP<:AbstractMatrix{T}, TinvP<:AbstractMatrix{T}}</b>)(E, P, invP) in Main.EigenDecomposedMatrices at In[9]:14</li> </ul>"
      ],
      "text/plain": [
       "# 1 method for type constructor:\n",
       " [1] (var\"#ctor-self#\"::Type{Main.EigenDecomposedMatrices.EigenDecomposed{T, TE, TP, TinvP}} where {T, TE<:AbstractVector{T}, TP<:AbstractMatrix{T}, TinvP<:AbstractMatrix{T}})(\u001b[90mE\u001b[39m, \u001b[90mP\u001b[39m, \u001b[90minvP\u001b[39m)\n",
       "\u001b[90m     @\u001b[39m \u001b[90m\u001b[4mIn[9]:14\u001b[24m\u001b[39m"
      ]
     },
     "execution_count": 13,
     "metadata": {},
     "output_type": "execute_result"
    }
   ],
   "source": [
    "methods(EigenDecomposedMatrices.EigenDecomposed{Float64, Vector{Float64}, Matrix{Float64}, Matrix{Float64}})"
   ]
  },
  {
   "cell_type": "code",
   "execution_count": 14,
   "id": "3b092734-4748-40e2-9081-9e4309d93e8d",
   "metadata": {},
   "outputs": [
    {
     "data": {
      "text/html": [
       "21-element Vector{Method}:<ul><li> *(c::<b>Number</b>, ed::<b>Main.EigenDecomposedMatrices.EigenDecomposed</b>) in Main.EigenDecomposedMatrices at In[9]:35<li> *(ed::<b>Main.EigenDecomposedMatrices.EigenDecomposed</b>, c::<b>Number</b>) in Main.EigenDecomposedMatrices at In[9]:36<li> *(ed::<b>Main.EigenDecomposedMatrices.EigenDecomposed</b>, v::<b>AbstractVector</b>) in Main.EigenDecomposedMatrices at In[9]:40<li> *(ed::<b>Main.EigenDecomposedMatrices.EigenDecomposed</b>, v::<b>AbstractMatrix</b>) in Main.EigenDecomposedMatrices at In[9]:40<li> /(ed::<b>Main.EigenDecomposedMatrices.EigenDecomposed</b>, c::<b>Number</b>) in Main.EigenDecomposedMatrices at In[9]:38<li> \\(c::<b>Number</b>, ed::<b>Main.EigenDecomposedMatrices.EigenDecomposed</b>) in Main.EigenDecomposedMatrices at In[9]:37<li> convert(::<b>Type{Array}</b>, ed::<b>Main.EigenDecomposedMatrices.EigenDecomposed</b>) in Main.EigenDecomposedMatrices at In[9]:29<li> cos(ed::<b>Main.EigenDecomposedMatrices.EigenDecomposed</b>) in Main.EigenDecomposedMatrices at In[9]:78<li> eltype(ed::<b>Main.EigenDecomposedMatrices.EigenDecomposed</b>) in Main.EigenDecomposedMatrices at In[9]:31<li> exp(ed::<b>Main.EigenDecomposedMatrices.EigenDecomposed</b>) in Main.EigenDecomposedMatrices at In[9]:78<li> getindex(ed::<b>Main.EigenDecomposedMatrices.EigenDecomposed</b>, I...) in Main.EigenDecomposedMatrices at In[9]:33<li> log(ed::<b>Main.EigenDecomposedMatrices.EigenDecomposed</b>) in Main.EigenDecomposedMatrices at In[9]:78<li> parent(ed::<b>Main.EigenDecomposedMatrices.EigenDecomposed</b>) in Main.EigenDecomposedMatrices at <a href=\"file://D:/.julia/packages/Memoization/ut5GT/src/Memoization.jl\" target=\"_blank\">D:\\.julia\\packages\\Memoization\\ut5GT\\src\\Memoization.jl:162</a><li> sin(ed::<b>Main.EigenDecomposedMatrices.EigenDecomposed</b>) in Main.EigenDecomposedMatrices at In[9]:78<li> size(ed::<b>Main.EigenDecomposedMatrices.EigenDecomposed</b>) in Main.EigenDecomposedMatrices at In[9]:31<li> eigvals(ed::<b>Main.EigenDecomposedMatrices.EigenDecomposed</b>) in Main.EigenDecomposedMatrices at In[9]:25<li> eigvecs(ed::<b>Main.EigenDecomposedMatrices.EigenDecomposed</b>) in Main.EigenDecomposedMatrices at In[9]:26<li> ldiv!(c::<b>Number</b>, ed::<b>Main.EigenDecomposedMatrices.EigenDecomposed</b>) in Main.EigenDecomposedMatrices at In[9]:55<li> lmul!(c::<b>Number</b>, ed::<b>Main.EigenDecomposedMatrices.EigenDecomposed</b>) in Main.EigenDecomposedMatrices at In[9]:53<li> rdiv!(ed::<b>Main.EigenDecomposedMatrices.EigenDecomposed</b>, c::<b>Number</b>) in Main.EigenDecomposedMatrices at In[9]:56<li> rmul!(ed::<b>Main.EigenDecomposedMatrices.EigenDecomposed</b>, c::<b>Number</b>) in Main.EigenDecomposedMatrices at In[9]:54</ul>"
      ],
      "text/plain": [
       "[1] *(\u001b[90mc\u001b[39m::\u001b[1mNumber\u001b[22m, \u001b[90med\u001b[39m::\u001b[1mMain.EigenDecomposedMatrices.EigenDecomposed\u001b[22m)\u001b[90m @\u001b[39m \u001b[90mMain.EigenDecomposedMatrices\u001b[39m \u001b[90m\u001b[4mIn[9]:35\u001b[24m\u001b[39m\n",
       "[2] *(\u001b[90med\u001b[39m::\u001b[1mMain.EigenDecomposedMatrices.EigenDecomposed\u001b[22m, \u001b[90mc\u001b[39m::\u001b[1mNumber\u001b[22m)\u001b[90m @\u001b[39m \u001b[90mMain.EigenDecomposedMatrices\u001b[39m \u001b[90m\u001b[4mIn[9]:36\u001b[24m\u001b[39m\n",
       "[3] *(\u001b[90med\u001b[39m::\u001b[1mMain.EigenDecomposedMatrices.EigenDecomposed\u001b[22m, \u001b[90mv\u001b[39m::\u001b[1mAbstractVector\u001b[22m)\u001b[90m @\u001b[39m \u001b[90mMain.EigenDecomposedMatrices\u001b[39m \u001b[90m\u001b[4mIn[9]:40\u001b[24m\u001b[39m\n",
       "[4] *(\u001b[90med\u001b[39m::\u001b[1mMain.EigenDecomposedMatrices.EigenDecomposed\u001b[22m, \u001b[90mv\u001b[39m::\u001b[1mAbstractMatrix\u001b[22m)\u001b[90m @\u001b[39m \u001b[90mMain.EigenDecomposedMatrices\u001b[39m \u001b[90m\u001b[4mIn[9]:40\u001b[24m\u001b[39m\n",
       "[5] /(\u001b[90med\u001b[39m::\u001b[1mMain.EigenDecomposedMatrices.EigenDecomposed\u001b[22m, \u001b[90mc\u001b[39m::\u001b[1mNumber\u001b[22m)\u001b[90m @\u001b[39m \u001b[90mMain.EigenDecomposedMatrices\u001b[39m \u001b[90m\u001b[4mIn[9]:38\u001b[24m\u001b[39m\n",
       "[6] \\(\u001b[90mc\u001b[39m::\u001b[1mNumber\u001b[22m, \u001b[90med\u001b[39m::\u001b[1mMain.EigenDecomposedMatrices.EigenDecomposed\u001b[22m)\u001b[90m @\u001b[39m \u001b[90mMain.EigenDecomposedMatrices\u001b[39m \u001b[90m\u001b[4mIn[9]:37\u001b[24m\u001b[39m\n",
       "[7] convert(::\u001b[1mType\u001b[22m\u001b[0m{Array}, \u001b[90med\u001b[39m::\u001b[1mMain.EigenDecomposedMatrices.EigenDecomposed\u001b[22m)\u001b[90m @\u001b[39m \u001b[90mMain.EigenDecomposedMatrices\u001b[39m \u001b[90m\u001b[4mIn[9]:29\u001b[24m\u001b[39m\n",
       "[8] cos(\u001b[90med\u001b[39m::\u001b[1mMain.EigenDecomposedMatrices.EigenDecomposed\u001b[22m)\u001b[90m @\u001b[39m \u001b[90mMain.EigenDecomposedMatrices\u001b[39m \u001b[90m\u001b[4mIn[9]:78\u001b[24m\u001b[39m\n",
       "[9] eltype(\u001b[90med\u001b[39m::\u001b[1mMain.EigenDecomposedMatrices.EigenDecomposed\u001b[22m)\u001b[90m @\u001b[39m \u001b[90mMain.EigenDecomposedMatrices\u001b[39m \u001b[90m\u001b[4mIn[9]:31\u001b[24m\u001b[39m\n",
       "[10] exp(\u001b[90med\u001b[39m::\u001b[1mMain.EigenDecomposedMatrices.EigenDecomposed\u001b[22m)\u001b[90m @\u001b[39m \u001b[90mMain.EigenDecomposedMatrices\u001b[39m \u001b[90m\u001b[4mIn[9]:78\u001b[24m\u001b[39m\n",
       "[11] getindex(\u001b[90med\u001b[39m::\u001b[1mMain.EigenDecomposedMatrices.EigenDecomposed\u001b[22m, \u001b[90mI...\u001b[39m)\u001b[90m @\u001b[39m \u001b[90mMain.EigenDecomposedMatrices\u001b[39m \u001b[90m\u001b[4mIn[9]:33\u001b[24m\u001b[39m\n",
       "[12] log(\u001b[90med\u001b[39m::\u001b[1mMain.EigenDecomposedMatrices.EigenDecomposed\u001b[22m)\u001b[90m @\u001b[39m \u001b[90mMain.EigenDecomposedMatrices\u001b[39m \u001b[90m\u001b[4mIn[9]:78\u001b[24m\u001b[39m\n",
       "[13] parent(\u001b[90med\u001b[39m::\u001b[1mMain.EigenDecomposedMatrices.EigenDecomposed\u001b[22m)\u001b[90m @\u001b[39m \u001b[90mMain.EigenDecomposedMatrices\u001b[39m \u001b[90mD:\\.julia\\packages\\Memoization\\ut5GT\\src\\\u001b[39m\u001b[90m\u001b[4mMemoization.jl:162\u001b[24m\u001b[39m\n",
       "[14] sin(\u001b[90med\u001b[39m::\u001b[1mMain.EigenDecomposedMatrices.EigenDecomposed\u001b[22m)\u001b[90m @\u001b[39m \u001b[90mMain.EigenDecomposedMatrices\u001b[39m \u001b[90m\u001b[4mIn[9]:78\u001b[24m\u001b[39m\n",
       "[15] size(\u001b[90med\u001b[39m::\u001b[1mMain.EigenDecomposedMatrices.EigenDecomposed\u001b[22m)\u001b[90m @\u001b[39m \u001b[90mMain.EigenDecomposedMatrices\u001b[39m \u001b[90m\u001b[4mIn[9]:31\u001b[24m\u001b[39m\n",
       "[16] eigvals(\u001b[90med\u001b[39m::\u001b[1mMain.EigenDecomposedMatrices.EigenDecomposed\u001b[22m)\u001b[90m @\u001b[39m \u001b[90mMain.EigenDecomposedMatrices\u001b[39m \u001b[90m\u001b[4mIn[9]:25\u001b[24m\u001b[39m\n",
       "[17] eigvecs(\u001b[90med\u001b[39m::\u001b[1mMain.EigenDecomposedMatrices.EigenDecomposed\u001b[22m)\u001b[90m @\u001b[39m \u001b[90mMain.EigenDecomposedMatrices\u001b[39m \u001b[90m\u001b[4mIn[9]:26\u001b[24m\u001b[39m\n",
       "[18] ldiv!(\u001b[90mc\u001b[39m::\u001b[1mNumber\u001b[22m, \u001b[90med\u001b[39m::\u001b[1mMain.EigenDecomposedMatrices.EigenDecomposed\u001b[22m)\u001b[90m @\u001b[39m \u001b[90mMain.EigenDecomposedMatrices\u001b[39m \u001b[90m\u001b[4mIn[9]:55\u001b[24m\u001b[39m\n",
       "[19] lmul!(\u001b[90mc\u001b[39m::\u001b[1mNumber\u001b[22m, \u001b[90med\u001b[39m::\u001b[1mMain.EigenDecomposedMatrices.EigenDecomposed\u001b[22m)\u001b[90m @\u001b[39m \u001b[90mMain.EigenDecomposedMatrices\u001b[39m \u001b[90m\u001b[4mIn[9]:53\u001b[24m\u001b[39m\n",
       "[20] rdiv!(\u001b[90med\u001b[39m::\u001b[1mMain.EigenDecomposedMatrices.EigenDecomposed\u001b[22m, \u001b[90mc\u001b[39m::\u001b[1mNumber\u001b[22m)\u001b[90m @\u001b[39m \u001b[90mMain.EigenDecomposedMatrices\u001b[39m \u001b[90m\u001b[4mIn[9]:56\u001b[24m\u001b[39m\n",
       "[21] rmul!(\u001b[90med\u001b[39m::\u001b[1mMain.EigenDecomposedMatrices.EigenDecomposed\u001b[22m, \u001b[90mc\u001b[39m::\u001b[1mNumber\u001b[22m)\u001b[90m @\u001b[39m \u001b[90mMain.EigenDecomposedMatrices\u001b[39m \u001b[90m\u001b[4mIn[9]:54\u001b[24m\u001b[39m"
      ]
     },
     "execution_count": 14,
     "metadata": {},
     "output_type": "execute_result"
    }
   ],
   "source": [
    "methodswith(EigenDecomposedMatrices.EigenDecomposed)"
   ]
  },
  {
   "cell_type": "code",
   "execution_count": 15,
   "id": "d00504b2-cf67-4d6a-abdf-1f71f61d9c30",
   "metadata": {},
   "outputs": [
    {
     "data": {
      "text/html": [
       "# 3 methods for generic function <b>exp_eigendecomposed!</b> from \u001b[36mMain.EigenDecomposedMatrices\u001b[39m:<ul><li> exp_eigendecomposed!(Y, ed::<b>Main.EigenDecomposedMatrices.EigenDecomposed</b>) in Main.EigenDecomposedMatrices at In[9]:71</li> <li> exp_eigendecomposed!(Y, ed::<b>Main.EigenDecomposedMatrices.EigenDecomposed</b>, expE) in Main.EigenDecomposedMatrices at In[9]:71</li> <li> exp_eigendecomposed!(Y, ed::<b>Main.EigenDecomposedMatrices.EigenDecomposed</b>, expE, tmpY) in Main.EigenDecomposedMatrices at In[9]:71</li> </ul>"
      ],
      "text/plain": [
       "# 3 methods for generic function \"exp_eigendecomposed!\" from \u001b[36mMain.EigenDecomposedMatrices\u001b[39m:\n",
       " [1] exp_eigendecomposed!(\u001b[90mY\u001b[39m, \u001b[90med\u001b[39m::\u001b[1mMain.EigenDecomposedMatrices.EigenDecomposed\u001b[22m)\n",
       "\u001b[90m     @\u001b[39m \u001b[90m\u001b[4mIn[9]:71\u001b[24m\u001b[39m\n",
       " [2] exp_eigendecomposed!(\u001b[90mY\u001b[39m, \u001b[90med\u001b[39m::\u001b[1mMain.EigenDecomposedMatrices.EigenDecomposed\u001b[22m, \u001b[90mexpE\u001b[39m)\n",
       "\u001b[90m     @\u001b[39m \u001b[90m\u001b[4mIn[9]:71\u001b[24m\u001b[39m\n",
       " [3] exp_eigendecomposed!(\u001b[90mY\u001b[39m, \u001b[90med\u001b[39m::\u001b[1mMain.EigenDecomposedMatrices.EigenDecomposed\u001b[22m, \u001b[90mexpE\u001b[39m, \u001b[90mtmpY\u001b[39m)\n",
       "\u001b[90m     @\u001b[39m \u001b[90m\u001b[4mIn[9]:71\u001b[24m\u001b[39m"
      ]
     },
     "execution_count": 15,
     "metadata": {},
     "output_type": "execute_result"
    }
   ],
   "source": [
    "methods(EigenDecomposedMatrices.exp_eigendecomposed!)"
   ]
  },
  {
   "cell_type": "code",
   "execution_count": 16,
   "id": "e2e20647-3c4e-4fd2-8c18-4a2f8e439fd0",
   "metadata": {},
   "outputs": [
    {
     "data": {
      "text/html": [
       "# 3 methods for generic function <b>log_eigendecomposed!</b> from \u001b[36mMain.EigenDecomposedMatrices\u001b[39m:<ul><li> log_eigendecomposed!(Y, ed::<b>Main.EigenDecomposedMatrices.EigenDecomposed</b>) in Main.EigenDecomposedMatrices at In[9]:71</li> <li> log_eigendecomposed!(Y, ed::<b>Main.EigenDecomposedMatrices.EigenDecomposed</b>, logE) in Main.EigenDecomposedMatrices at In[9]:71</li> <li> log_eigendecomposed!(Y, ed::<b>Main.EigenDecomposedMatrices.EigenDecomposed</b>, logE, tmpY) in Main.EigenDecomposedMatrices at In[9]:71</li> </ul>"
      ],
      "text/plain": [
       "# 3 methods for generic function \"log_eigendecomposed!\" from \u001b[36mMain.EigenDecomposedMatrices\u001b[39m:\n",
       " [1] log_eigendecomposed!(\u001b[90mY\u001b[39m, \u001b[90med\u001b[39m::\u001b[1mMain.EigenDecomposedMatrices.EigenDecomposed\u001b[22m)\n",
       "\u001b[90m     @\u001b[39m \u001b[90m\u001b[4mIn[9]:71\u001b[24m\u001b[39m\n",
       " [2] log_eigendecomposed!(\u001b[90mY\u001b[39m, \u001b[90med\u001b[39m::\u001b[1mMain.EigenDecomposedMatrices.EigenDecomposed\u001b[22m, \u001b[90mlogE\u001b[39m)\n",
       "\u001b[90m     @\u001b[39m \u001b[90m\u001b[4mIn[9]:71\u001b[24m\u001b[39m\n",
       " [3] log_eigendecomposed!(\u001b[90mY\u001b[39m, \u001b[90med\u001b[39m::\u001b[1mMain.EigenDecomposedMatrices.EigenDecomposed\u001b[22m, \u001b[90mlogE\u001b[39m, \u001b[90mtmpY\u001b[39m)\n",
       "\u001b[90m     @\u001b[39m \u001b[90m\u001b[4mIn[9]:71\u001b[24m\u001b[39m"
      ]
     },
     "execution_count": 16,
     "metadata": {},
     "output_type": "execute_result"
    }
   ],
   "source": [
    "methods(EigenDecomposedMatrices.log_eigendecomposed!)"
   ]
  },
  {
   "cell_type": "code",
   "execution_count": 17,
   "id": "6f34704c-58d3-46ac-9333-19417c300f84",
   "metadata": {},
   "outputs": [
    {
     "data": {
      "text/plain": [
       "3×3 Main.EigenDecomposedMatrices.EigenDecomposed{Float64, Vector{Float64}, Matrix{Float64}, Adjoint{Float64, Matrix{Float64}}}:\n",
       "  2.0          -1.0  -3.33067e-16\n",
       " -1.0           2.0  -1.0\n",
       " -3.33067e-16  -1.0   2.0"
      ]
     },
     "execution_count": 17,
     "metadata": {},
     "output_type": "execute_result"
    }
   ],
   "source": [
    "A = [\n",
    "    2 -1 0\n",
    "    -1 2 -1\n",
    "    0 -1 2\n",
    "]\n",
    "\n",
    "edA = EigenDecomposedMatrices.EigenDecomposed(A)"
   ]
  },
  {
   "cell_type": "code",
   "execution_count": 18,
   "id": "04d9e6cc-253b-4340-a448-6050a71bc349",
   "metadata": {},
   "outputs": [
    {
     "data": {
      "text/plain": [
       "3×3 Matrix{Float64}:\n",
       "  0.51986   -0.623225  -0.173287\n",
       " -0.623225   0.346574  -0.623225\n",
       " -0.173287  -0.623225   0.51986"
      ]
     },
     "execution_count": 18,
     "metadata": {},
     "output_type": "execute_result"
    }
   ],
   "source": [
    "log(edA)"
   ]
  },
  {
   "cell_type": "code",
   "execution_count": 19,
   "id": "070a1c06-ed0a-4d68-9716-168bcb1c46d6",
   "metadata": {},
   "outputs": [
    {
     "data": {
      "text/plain": [
       "3×3 Matrix{Float64}:\n",
       "  0.51986   -0.623225  -0.173287\n",
       " -0.623225   0.346574  -0.623225\n",
       " -0.173287  -0.623225   0.51986"
      ]
     },
     "execution_count": 19,
     "metadata": {},
     "output_type": "execute_result"
    }
   ],
   "source": [
    "log(A)"
   ]
  },
  {
   "cell_type": "code",
   "execution_count": 20,
   "id": "a64fdfe1-f568-459a-b9c2-5d35aa060134",
   "metadata": {},
   "outputs": [
    {
     "data": {
      "text/plain": [
       "true"
      ]
     },
     "execution_count": 20,
     "metadata": {},
     "output_type": "execute_result"
    }
   ],
   "source": [
    "log(edA) ≈ log(A)"
   ]
  },
  {
   "cell_type": "code",
   "execution_count": 21,
   "id": "a2d8c089-f82a-43c6-b324-370b6268ddd5",
   "metadata": {},
   "outputs": [],
   "source": [
    "n = 2^8\n",
    "M = 5I + randn(n, n)\n",
    "v = randn(n)\n",
    "c = randn()\n",
    "\n",
    "edM = EigenDecomposedMatrices.EigenDecomposed(M)\n",
    "\n",
    "Y = similar(eigvecs(edM))\n",
    "expE = similar(eigvals(edM))\n",
    "tmpY = similar(Y)\n",
    "\n",
    "y = similar(eigvals(edM))\n",
    "alpha = randn()\n",
    "beta = randn();"
   ]
  },
  {
   "cell_type": "code",
   "execution_count": 22,
   "id": "5fe62250-1d58-4adb-b9a3-352e56f2e075",
   "metadata": {},
   "outputs": [
    {
     "data": {
      "text/plain": [
       "256×256 Main.EigenDecomposedMatrices.EigenDecomposed{ComplexF64, Vector{ComplexF64}, Matrix{ComplexF64}, Matrix{ComplexF64}}:\n",
       "   4.50882-1.99811e-14im  …    -1.93418+1.02755e-14im\n",
       "  0.178093-1.5888e-13im        0.291791+4.03833e-14im\n",
       "  0.660934-7.28835e-14im       0.478016+8.06988e-14im\n",
       "  0.514208-2.46164e-14im       0.420897+1.39345e-13im\n",
       "  0.315633-1.42527e-13im      -0.991916-3.32215e-15im\n",
       " -0.565129-1.30476e-13im  …     0.68231-9.73311e-14im\n",
       "  0.684523-9.32653e-14im       -1.01822-7.13542e-14im\n",
       " -0.245717+1.85644e-14im       -0.15539-1.18862e-13im\n",
       " -0.972128-5.32949e-14im      -0.705398-3.22293e-14im\n",
       "  -1.23254-1.38035e-13im       -0.45892-1.41504e-13im\n",
       " -0.338835+2.05102e-15im  …   -0.101063-3.38399e-14im\n",
       "  -2.63825-5.76997e-14im      -0.300011+7.27317e-15im\n",
       "  0.267818-8.54684e-14im       0.849471-2.2567e-14im\n",
       "          ⋮               ⋱            ⋮\n",
       " -0.133486+3.82874e-14im       -1.22384-5.27683e-15im\n",
       "  -1.06467+5.44355e-14im  …     1.07444-1.00114e-13im\n",
       "   1.73935+1.7277e-14im        -0.47551+9.14453e-14im\n",
       "   1.03515+3.36854e-14im      -0.691903+2.68848e-14im\n",
       " -0.838196-1.28266e-13im       0.642986+8.30747e-14im\n",
       " -0.900449+9.79487e-14im       0.560283+5.56504e-15im\n",
       "  -2.18901+1.30047e-14im  …    0.931841-3.14989e-16im\n",
       "    1.0016+1.14269e-13im     2.23619e-5-4.57736e-14im\n",
       "  -1.12784-8.43521e-14im       0.761506+9.85607e-14im\n",
       "   1.01809+7.80332e-14im        1.27913+1.50881e-13im\n",
       " -0.663502+8.21895e-14im       -1.15794+4.86972e-14im\n",
       "    1.3298+1.53583e-13im  …     4.00748-6.19035e-14im"
      ]
     },
     "execution_count": 22,
     "metadata": {},
     "output_type": "execute_result"
    }
   ],
   "source": [
    "edM"
   ]
  },
  {
   "cell_type": "code",
   "execution_count": 23,
   "id": "e613f081-b46d-406a-97dd-9fbff8168a51",
   "metadata": {},
   "outputs": [
    {
     "name": "stdout",
     "output_type": "stream",
     "text": [
      "Main.EigenDecomposedMatrices.EigenDecomposed{ComplexF64, Vector{ComplexF64}, Matrix{ComplexF64}, Matrix{ComplexF64}}\n",
      "  E: Array{ComplexF64}((256,)) ComplexF64[-10.713981718561799 + 0.0im, -10.154389039301256 - 2.424021823386712im, -10.154389039301256 + 2.424021823386712im, -9.723440034384598 - 3.3970170968772115im, -9.723440034384598 + 3.3970170968772115im, -9.032127832245212 + 0.0im, -9.019972086880806 - 2.400029839448304im, -9.019972086880806 + 2.400029839448304im, -8.793253293393999 - 7.761789438318596im, -8.793253293393999 + 7.761789438318596im  …  18.258605642548513 - 7.197681830937633im, 18.258605642548513 + 7.197681830937633im, 18.587800054998098 - 5.614738859029982im, 18.587800054998098 + 5.614738859029982im, 18.83456699611093 - 4.283354547339249im, 18.83456699611093 + 4.283354547339249im, 19.54090238648596 - 2.7461009138097694im, 19.54090238648596 + 2.7461009138097694im, 19.857608966841305 + 0.0im, 22.168239258917858 + 0.0im]\n",
      "  P: Array{ComplexF64}((256, 256)) ComplexF64[0.05622664149452407 + 0.0im -0.02054034216764635 + 0.08305639916797487im … 0.023425098836429768 + 0.0im -0.06170212673986989 + 0.0im; 0.08487821571573834 + 0.0im -0.024040943221720287 + 0.09319221805297669im … -0.048073919673669176 + 0.0im 0.02313678471743681 + 0.0im; … ; 0.07484634157313472 + 0.0im 0.006576425193529169 - 0.027798773596851716im … -0.04633391549364942 + 0.0im -0.048166906703971266 + 0.0im; -0.06510413957911348 + 0.0im 0.04257148737136733 - 0.07204947424685959im … 0.03608886090000346 + 0.0im -0.008114383698201331 + 0.0im]\n",
      "  invP: Array{ComplexF64}((256, 256)) ComplexF64[0.4698255868751508 + 1.4155343563970746e-14im -0.22166888559372055 + 4.3298697960381105e-15im … -0.0011545450732173938 - 1.150688458018689e-14im 0.2239432995341107 + 1.4587327134983642e-14im; 0.18196019821210657 - 0.44873341619276247im 0.1994841809963177 + 0.06101675984646199im … 0.03631811960867497 + 0.35504264602539704im -0.22086402217707374 - 0.14710899019581491im; … ; -0.06998356622734137 - 4.1988981736018616e-15im -0.2730978084530984 + 4.052314039881821e-15im … -0.5060805316083448 - 3.2749560783652642e-15im -0.4196783717669406 + 1.1983446141947856e-15im; -0.2628581297109655 + 1.1102230246251565e-16im -0.013075355724187276 + 1.0269562977782698e-15im … -0.3911870378772173 - 1.1507554857407956e-15im -0.2533796748607193 + 3.5215127334130282e-15im]\n"
     ]
    }
   ],
   "source": [
    "dump(edM)"
   ]
  },
  {
   "cell_type": "code",
   "execution_count": 24,
   "id": "283dbc81-a65a-4cfa-8b7b-2b4e3444a526",
   "metadata": {},
   "outputs": [
    {
     "data": {
      "text/plain": [
       "true"
      ]
     },
     "execution_count": 24,
     "metadata": {},
     "output_type": "execute_result"
    }
   ],
   "source": [
    "M ≈ parent(edM) == Matrix(edM)"
   ]
  },
  {
   "cell_type": "code",
   "execution_count": 25,
   "id": "38622469-86c8-4542-97a3-e97138c061fd",
   "metadata": {},
   "outputs": [
    {
     "data": {
      "text/plain": [
       "true"
      ]
     },
     "execution_count": 25,
     "metadata": {},
     "output_type": "execute_result"
    }
   ],
   "source": [
    "M ≈ edM"
   ]
  },
  {
   "cell_type": "code",
   "execution_count": 26,
   "id": "4de76f66-fa04-4293-8d77-0b00c3ecb182",
   "metadata": {},
   "outputs": [
    {
     "data": {
      "text/plain": [
       "true"
      ]
     },
     "execution_count": 26,
     "metadata": {},
     "output_type": "execute_result"
    }
   ],
   "source": [
    "c*M ≈ c*edM ≈ edM*c"
   ]
  },
  {
   "cell_type": "code",
   "execution_count": 27,
   "id": "73f06380-1bc3-45a6-ab28-3c30fd64c4c6",
   "metadata": {},
   "outputs": [
    {
     "data": {
      "text/plain": [
       "true"
      ]
     },
     "execution_count": 27,
     "metadata": {},
     "output_type": "execute_result"
    }
   ],
   "source": [
    "c\\M ≈ c\\edM ≈ edM/c"
   ]
  },
  {
   "cell_type": "code",
   "execution_count": 28,
   "id": "98def48b-63dc-4dd3-88b0-0a8332c409b5",
   "metadata": {},
   "outputs": [
    {
     "data": {
      "text/plain": [
       "true"
      ]
     },
     "execution_count": 28,
     "metadata": {},
     "output_type": "execute_result"
    }
   ],
   "source": [
    "(\n",
    "    exp(M)\n",
    "    ≈ exp(edM)\n",
    "    ≈ EigenDecomposedMatrices.exp_old(edM)\n",
    "    ≈ EigenDecomposedMatrices.exp_eigendecomposed!(Y, edM)\n",
    "    ≈ EigenDecomposedMatrices.exp_eigendecomposed!(Y, edM, expE, tmpY)\n",
    ")"
   ]
  },
  {
   "cell_type": "code",
   "execution_count": 29,
   "id": "23c99064-3d0e-4b04-9810-c176a273316b",
   "metadata": {
    "tags": []
   },
   "outputs": [
    {
     "name": "stdout",
     "output_type": "stream",
     "text": [
      "typeof(y) = Vector{ComplexF64}\n"
     ]
    },
    {
     "data": {
      "text/plain": [
       "true"
      ]
     },
     "execution_count": 29,
     "metadata": {},
     "output_type": "execute_result"
    }
   ],
   "source": [
    "@show typeof(y)\n",
    "(\n",
    "    exp(M) * v\n",
    "    ≈ exp(edM) * v\n",
    "    ≈ EigenDecomposedMatrices.exp_old(edM) * v\n",
    "    ≈ mul!(y, EigenDecomposedMatrices.exp_eigendecomposed!(Y, edM), v)\n",
    "    ≈ mul!(y, EigenDecomposedMatrices.exp_eigendecomposed!(Y, edM, expE, tmpY), v)\n",
    ")"
   ]
  },
  {
   "cell_type": "code",
   "execution_count": 30,
   "id": "bd540d02-5314-4565-8ed1-5eaa48307f7a",
   "metadata": {},
   "outputs": [
    {
     "name": "stdout",
     "output_type": "stream",
     "text": [
      "  40.834 ms (26 allocations: 3.53 MiB)\n"
     ]
    }
   ],
   "source": [
    "@btime edM = EigenDecomposedMatrices.EigenDecomposed(M);"
   ]
  },
  {
   "cell_type": "code",
   "execution_count": 31,
   "id": "ffb45dc7-2f11-44e1-8acd-e4114f7449a8",
   "metadata": {},
   "outputs": [
    {
     "name": "stdout",
     "output_type": "stream",
     "text": [
      "  9.925 ms (16 allocations: 3.01 MiB)\n",
      "  2.641 ms (7 allocations: 2.01 MiB)\n",
      "  2.609 ms (9 allocations: 2.02 MiB)\n",
      "  2.466 ms (3 allocations: 1.00 MiB)\n",
      "  2.324 ms (0 allocations: 0 bytes)\n"
     ]
    }
   ],
   "source": [
    "@btime exp($M) * $v\n",
    "@btime exp($edM) * $v\n",
    "@btime EigenDecomposedMatrices.exp_old($edM) * $v\n",
    "@btime mul!($y, EigenDecomposedMatrices.exp_eigendecomposed!($Y, $edM), $v)\n",
    "@btime mul!($y, EigenDecomposedMatrices.exp_eigendecomposed!($Y, $edM, $expE, $tmpY), $v);"
   ]
  },
  {
   "cell_type": "code",
   "execution_count": 32,
   "id": "5d55c783-7d12-4e09-8121-ec398884a7e4",
   "metadata": {},
   "outputs": [],
   "source": [
    "n2 = 2^8\n",
    "M2 = Symmetric(5I + randn(n2, n2))\n",
    "v2 = randn(n)\n",
    "c2 = randn()\n",
    "\n",
    "edM2 = EigenDecomposedMatrices.EigenDecomposed(M2)\n",
    "\n",
    "Y2 = similar(eigvecs(edM2))\n",
    "expE2 = similar(eigvals(edM2))\n",
    "tmpY2 = similar(Y2)\n",
    "\n",
    "y2 = similar(eigvals(edM2))\n",
    "alpha2 = randn()\n",
    "beta2 = randn();"
   ]
  },
  {
   "cell_type": "code",
   "execution_count": 33,
   "id": "4ca2d50f-c879-410c-8e8b-0b815fa54a66",
   "metadata": {},
   "outputs": [
    {
     "data": {
      "text/plain": [
       "256×256 Main.EigenDecomposedMatrices.EigenDecomposed{Float64, Vector{Float64}, Matrix{Float64}, Adjoint{Float64, Matrix{Float64}}}:\n",
       "  3.84552     0.735639   -0.888777   …  -1.94169   -1.11377     -0.179077\n",
       "  0.735639    6.13647     2.36641        0.46021   -1.93826     -0.933242\n",
       " -0.888777    2.36641     2.65894       -0.940202  -0.0157323    1.67736\n",
       " -1.79558    -1.26612     0.49305        0.449019  -0.421509     1.54008\n",
       " -2.04969     0.784308    0.389021      -0.815583  -0.565886     0.370766\n",
       "  1.73157    -0.385898   -0.513229   …  -0.431498   0.504747    -0.119192\n",
       " -1.76546    -0.896505    2.23703       -1.41797    0.669383     2.4564\n",
       " -0.136065    0.0741303   0.779564      -0.870817  -1.05158      0.26942\n",
       "  1.06007    -0.859178   -1.58712        0.818716   1.68292     -2.06501\n",
       "  0.47115     2.12702    -0.727821       0.311544   0.389826     1.23045\n",
       "  0.933921    2.8016     -0.146519   …   0.541884   0.341482    -0.569981\n",
       "  0.503665   -0.989737    0.358613       0.678894  -1.25855      0.00171713\n",
       " -0.130684   -2.13106    -0.645815       0.292118   0.76828     -1.33061\n",
       "  ⋮                                  ⋱                           ⋮\n",
       " -1.23037     0.798602   -1.02819        0.495884  -0.555137     0.98698\n",
       " -1.10477    -0.14696     0.409573   …   2.32732    0.909322     1.36659\n",
       " -1.00243     1.64827     0.271039       0.7464    -0.23821     -0.655003\n",
       " -0.69674    -1.56288    -0.420202      -0.832161   0.653099    -0.406023\n",
       "  1.63668    -0.690813   -2.3021        -1.69816   -1.71931     -0.552159\n",
       "  0.131131   -1.65441     1.11869       -0.361548  -0.310167    -0.66497\n",
       " -0.991434    0.830128   -1.04308    …   0.29297   -1.58142      0.396661\n",
       "  0.329442    0.574948   -0.206163      -0.175837  -0.00216189  -0.342832\n",
       "  0.0259748  -1.52372    -0.597089       0.112201  -0.820408     0.0781199\n",
       " -1.94169     0.46021    -0.940202       2.7111     1.31728      1.22241\n",
       " -1.11377    -1.93826    -0.0157323      1.31728    5.03005     -1.09559\n",
       " -0.179077   -0.933242    1.67736    …   1.22241   -1.09559      4.52008"
      ]
     },
     "execution_count": 33,
     "metadata": {},
     "output_type": "execute_result"
    }
   ],
   "source": [
    "edM2"
   ]
  },
  {
   "cell_type": "code",
   "execution_count": 34,
   "id": "a4d5952e-473f-4f9a-b051-819bbc67a055",
   "metadata": {},
   "outputs": [
    {
     "name": "stdout",
     "output_type": "stream",
     "text": [
      "Main.EigenDecomposedMatrices.EigenDecomposed{Float64, Vector{Float64}, Matrix{Float64}, Adjoint{Float64, Matrix{Float64}}}\n",
      "  E: Array{Float64}((256,)) [-25.571180068391705, -25.10389874230669, -24.71837275242493, -24.14704531547706, -23.549395946381665, -23.27924831353725, -22.86477521997237, -22.34148869945747, -22.06726394345153, -21.69605252089312  …  32.13800956470965, 32.417305346384495, 32.80631583751178, 33.17703854582697, 33.40589623488248, 33.75143436409553, 34.207467542218055, 35.2005032890178, 35.87647737986236, 36.84341690154979]\n",
      "  P: Array{Float64}((256, 256)) [0.01970303581542531 0.06961126249910145 … 0.10889105047645242 0.06587468385128539; 0.13936923612315275 0.016389422084200564 … 0.08003790520524548 -0.05543473838950966; … ; -0.0813526587874257 -0.08544346354981683 … -0.06647468178125723 -0.06279456372691025; 0.09018581115633151 -0.10369767417719022 … 0.07672144691394629 0.04364369488183982]\n",
      "  invP: Adjoint{Float64, Matrix{Float64}}\n",
      "    parent: Array{Float64}((256, 256)) [0.01970303581542531 0.06961126249910145 … 0.10889105047645242 0.06587468385128539; 0.13936923612315275 0.016389422084200564 … 0.08003790520524548 -0.05543473838950966; … ; -0.0813526587874257 -0.08544346354981683 … -0.06647468178125723 -0.06279456372691025; 0.09018581115633151 -0.10369767417719022 … 0.07672144691394629 0.04364369488183982]\n"
     ]
    }
   ],
   "source": [
    "dump(edM2)"
   ]
  },
  {
   "cell_type": "code",
   "execution_count": 35,
   "id": "48b70d58-74b6-4a9e-a95b-9973cc775118",
   "metadata": {},
   "outputs": [
    {
     "data": {
      "text/plain": [
       "true"
      ]
     },
     "execution_count": 35,
     "metadata": {},
     "output_type": "execute_result"
    }
   ],
   "source": [
    "M2 ≈ parent(edM2) == Matrix(edM2)"
   ]
  },
  {
   "cell_type": "code",
   "execution_count": 36,
   "id": "0dde64d3-71f4-40de-a2a8-c5bd79e24d64",
   "metadata": {},
   "outputs": [
    {
     "data": {
      "text/plain": [
       "true"
      ]
     },
     "execution_count": 36,
     "metadata": {},
     "output_type": "execute_result"
    }
   ],
   "source": [
    "M2 ≈ edM2"
   ]
  },
  {
   "cell_type": "code",
   "execution_count": 37,
   "id": "f0a53088-b448-4880-b082-265b9f435b06",
   "metadata": {},
   "outputs": [
    {
     "data": {
      "text/plain": [
       "true"
      ]
     },
     "execution_count": 37,
     "metadata": {},
     "output_type": "execute_result"
    }
   ],
   "source": [
    "c2*M2 ≈ c2*edM2 ≈ edM2*c2"
   ]
  },
  {
   "cell_type": "code",
   "execution_count": 38,
   "id": "b3cf000b-7d36-4354-ad55-324218517899",
   "metadata": {},
   "outputs": [
    {
     "data": {
      "text/plain": [
       "true"
      ]
     },
     "execution_count": 38,
     "metadata": {},
     "output_type": "execute_result"
    }
   ],
   "source": [
    "c2\\M2 ≈ c2\\edM2 ≈ edM2/c2"
   ]
  },
  {
   "cell_type": "code",
   "execution_count": 39,
   "id": "8a9f4b9d-964e-4ddf-950e-7ed6eae067e6",
   "metadata": {},
   "outputs": [
    {
     "data": {
      "text/plain": [
       "true"
      ]
     },
     "execution_count": 39,
     "metadata": {},
     "output_type": "execute_result"
    }
   ],
   "source": [
    "(\n",
    "    exp(M2)\n",
    "    ≈ exp(edM2)\n",
    "    ≈ EigenDecomposedMatrices.exp_old(edM2)\n",
    "    ≈ EigenDecomposedMatrices.exp_eigendecomposed!(Y2, edM2)\n",
    "    ≈ EigenDecomposedMatrices.exp_eigendecomposed!(Y2, edM2, expE2, tmpY2)\n",
    ")"
   ]
  },
  {
   "cell_type": "code",
   "execution_count": 40,
   "id": "2ba1d808-754a-4075-8c5a-122fa6360e62",
   "metadata": {},
   "outputs": [
    {
     "name": "stdout",
     "output_type": "stream",
     "text": [
      "typeof(y2) = Vector{Float64}\n"
     ]
    },
    {
     "data": {
      "text/plain": [
       "true"
      ]
     },
     "execution_count": 40,
     "metadata": {},
     "output_type": "execute_result"
    }
   ],
   "source": [
    "@show typeof(y2)\n",
    "(\n",
    "    exp(M2) * v2\n",
    "    ≈ exp(edM2) * v2\n",
    "    ≈ EigenDecomposedMatrices.exp_old(edM2) * v2\n",
    "    ≈ mul!(y2, EigenDecomposedMatrices.exp_eigendecomposed!(Y2, edM2), v2)\n",
    "    ≈ mul!(y2, EigenDecomposedMatrices.exp_eigendecomposed!(Y2, edM2, expE2, tmpY2), v2)\n",
    ")"
   ]
  },
  {
   "cell_type": "code",
   "execution_count": 41,
   "id": "a1925b60-427c-45ed-9053-2d79a9d412af",
   "metadata": {},
   "outputs": [
    {
     "name": "stdout",
     "output_type": "stream",
     "text": [
      "  6.480 ms (14 allocations: 1.59 MiB)\n"
     ]
    }
   ],
   "source": [
    "@btime edM2 = EigenDecomposedMatrices.EigenDecomposed(M2);"
   ]
  },
  {
   "cell_type": "code",
   "execution_count": 42,
   "id": "2292854e-259d-4615-8551-8c2c6060b7b5",
   "metadata": {},
   "outputs": [
    {
     "name": "stdout",
     "output_type": "stream",
     "text": [
      "  7.506 ms (19 allocations: 2.60 MiB)\n",
      "  712.500 μs (6 allocations: 1.00 MiB)\n",
      "  723.600 μs (8 allocations: 1.01 MiB)\n",
      "  676.200 μs (3 allocations: 514.17 KiB)\n",
      "  646.000 μs (0 allocations: 0 bytes)\n"
     ]
    }
   ],
   "source": [
    "@btime exp($M2) * $v2\n",
    "@btime exp($edM2) * $v2\n",
    "@btime EigenDecomposedMatrices.exp_old($edM2) * $v2\n",
    "@btime mul!($y2, EigenDecomposedMatrices.exp_eigendecomposed!($Y2, $edM2), $v2)\n",
    "@btime mul!($y2, EigenDecomposedMatrices.exp_eigendecomposed!($Y2, $edM2, $expE2, $tmpY2), $v2);"
   ]
  },
  {
   "cell_type": "code",
   "execution_count": null,
   "id": "ba4c485f-0f08-4cb5-be8f-990f48c6c6f7",
   "metadata": {},
   "outputs": [],
   "source": []
  }
 ],
 "metadata": {
  "jupytext": {
   "encoding": "# -*- coding: utf-8 -*-",
   "formats": "ipynb,jl:hydrogen"
  },
  "kernelspec": {
   "display_name": "Julia 1.9.0-beta2",
   "language": "julia",
   "name": "julia-1.9"
  },
  "language_info": {
   "file_extension": ".jl",
   "mimetype": "application/julia",
   "name": "julia",
   "version": "1.9.0"
  }
 },
 "nbformat": 4,
 "nbformat_minor": 5
}
