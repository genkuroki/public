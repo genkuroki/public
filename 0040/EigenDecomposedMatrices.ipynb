{
 "cells": [
  {
   "cell_type": "markdown",
   "id": "b0184a3a-d155-4ea7-82bb-d88b29ddee16",
   "metadata": {},
   "source": [
    "## The Original EigenDecompression.EigenDecompose\n",
    "\n",
    "See\n",
    "\n",
    "* https://mobile.twitter.com/realize_ss/status/1615160291108745216\n",
    "* https://qiita.com/lelele/items/8408410a94f5c6b8f76e"
   ]
  },
  {
   "cell_type": "code",
   "execution_count": 1,
   "id": "9c72fb52-e0c2-4b6e-ada5-b0fba6982ae5",
   "metadata": {},
   "outputs": [
    {
     "data": {
      "text/plain": [
       "Eigen{ComplexF64, ComplexF64, Matrix{ComplexF64}, Vector{ComplexF64}}\n",
       "values:\n",
       "100-element Vector{ComplexF64}:\n",
       "  -2.724962858231039 - 0.7207622109262605im\n",
       "  -2.724962858231039 + 0.7207622109262605im\n",
       " -2.6548314664437656 + 0.0im\n",
       " -2.3635661717028222 + 0.0im\n",
       "  -2.311359579573719 - 0.3874223153830758im\n",
       "  -2.311359579573719 + 0.3874223153830758im\n",
       "  -2.286803636823847 - 0.7755168568262587im\n",
       "  -2.286803636823847 + 0.7755168568262587im\n",
       " -2.1332012384176133 - 1.5452028510462612im\n",
       " -2.1332012384176133 + 1.5452028510462612im\n",
       " -1.8156753210892314 - 0.735600758169247im\n",
       " -1.8156753210892314 + 0.735600758169247im\n",
       "  -1.771869598468355 - 1.6181376519992137im\n",
       "                     ⋮\n",
       "  1.9398192405932326 - 0.5131696041292336im\n",
       "  1.9398192405932326 + 0.5131696041292336im\n",
       "  2.1282633990088096 - 0.891167292853587im\n",
       "  2.1282633990088096 + 0.891167292853587im\n",
       "   2.174694661762957 - 1.4203015873441718im\n",
       "   2.174694661762957 + 1.4203015873441718im\n",
       "   2.358968292344132 - 0.7001871658313624im\n",
       "   2.358968292344132 + 0.7001871658313624im\n",
       "   2.558000750068139 - 1.08266890126725im\n",
       "   2.558000750068139 + 1.08266890126725im\n",
       "  2.9794929808152606 + 0.0im\n",
       "  50.005113426730944 + 0.0im\n",
       "vectors:\n",
       "100×100 Matrix{ComplexF64}:\n",
       "  0.0322283-0.0389936im     0.0322283+0.0389936im    …   -0.104337+0.0im\n",
       "  -0.140347+0.0340922im     -0.140347-0.0340922im       -0.0913556+0.0im\n",
       " -0.0213284+0.0420835im    -0.0213284-0.0420835im        -0.104881+0.0im\n",
       "   0.110865+0.0134072im      0.110865-0.0134072im       -0.0966614+0.0im\n",
       " -0.0276833+0.0469947im    -0.0276833-0.0469947im       -0.0972192+0.0im\n",
       "  0.0367361-0.0373898im     0.0367361+0.0373898im    …  -0.0932967+0.0im\n",
       "  0.0400175-0.0821607im     0.0400175+0.0821607im        -0.100172+0.0im\n",
       "  -0.113956+0.00123647im    -0.113956-0.00123647im       -0.100693+0.0im\n",
       " -0.0166471+0.0355378im    -0.0166471-0.0355378im        -0.106567+0.0im\n",
       "  0.0157657+0.0195846im     0.0157657-0.0195846im       -0.0988638+0.0im\n",
       "   -0.11495+0.028454im       -0.11495-0.028454im     …   -0.101707+0.0im\n",
       "   0.070815+0.0767472im      0.070815-0.0767472im        -0.106208+0.0im\n",
       "  0.0112712+0.118174im      0.0112712-0.118174im          -0.10183+0.0im\n",
       "           ⋮                                         ⋱  \n",
       "  -0.112939-0.00943531im    -0.112939+0.00943531im       -0.097254+0.0im\n",
       " -0.0236329+0.114604im     -0.0236329-0.114604im         -0.110725+0.0im\n",
       "  0.0179679-0.000427387im   0.0179679+0.000427387im  …   -0.105856+0.0im\n",
       "  -0.123947-0.0326295im     -0.123947+0.0326295im        -0.102099+0.0im\n",
       " -0.0174572-0.108926im     -0.0174572+0.108926im        -0.0976464+0.0im\n",
       " -0.0957683+0.000935382im  -0.0957683-0.000935382im     -0.0945489+0.0im\n",
       "  0.0997312+0.0537184im     0.0997312-0.0537184im       -0.0841913+0.0im\n",
       "   0.106378+0.0336343im      0.106378-0.0336343im    …   -0.102086+0.0im\n",
       "  0.0656991-0.00916386im    0.0656991+0.00916386im       -0.105142+0.0im\n",
       "  0.0609771-0.0410919im     0.0609771+0.0410919im        -0.104423+0.0im\n",
       "  0.0107046+0.0553014im     0.0107046-0.0553014im       -0.0974206+0.0im\n",
       " -0.0479472+0.0136912im    -0.0479472-0.0136912im       -0.0974757+0.0im"
      ]
     },
     "execution_count": 1,
     "metadata": {},
     "output_type": "execute_result"
    }
   ],
   "source": [
    "using LinearAlgebra\n",
    "M = rand(100,100)#対角化したい行列\n",
    "E, P = eigen(M)"
   ]
  },
  {
   "cell_type": "code",
   "execution_count": 2,
   "id": "f69a793a-abb9-4c47-ab07-912b4bd711de",
   "metadata": {},
   "outputs": [
    {
     "ename": "LoadError",
     "evalue": "MethodError: no method matching exp(::Eigen{ComplexF64, ComplexF64, Matrix{ComplexF64}, Vector{ComplexF64}})\n\n\u001b[0mClosest candidates are:\n\u001b[0m  exp(\u001b[91m::Union{Float16, Float32, Float64}\u001b[39m)\n\u001b[0m\u001b[90m   @\u001b[39m \u001b[90mBase\u001b[39m \u001b[90mspecial\\\u001b[39m\u001b[90m\u001b[4mexp.jl:325\u001b[24m\u001b[39m\n\u001b[0m  exp(\u001b[91m::Adjoint{T, <:AbstractMatrix} where T\u001b[39m)\n\u001b[0m\u001b[90m   @\u001b[39m \u001b[35mLinearAlgebra\u001b[39m \u001b[90mD:\\Julia-1.9.0-beta2\\share\\julia\\stdlib\\v1.9\\LinearAlgebra\\src\\\u001b[39m\u001b[90m\u001b[4mdense.jl:595\u001b[24m\u001b[39m\n\u001b[0m  exp(\u001b[91m::Transpose{T, <:AbstractMatrix} where T\u001b[39m)\n\u001b[0m\u001b[90m   @\u001b[39m \u001b[35mLinearAlgebra\u001b[39m \u001b[90mD:\\Julia-1.9.0-beta2\\share\\julia\\stdlib\\v1.9\\LinearAlgebra\\src\\\u001b[39m\u001b[90m\u001b[4mdense.jl:596\u001b[24m\u001b[39m\n\u001b[0m  ...\n",
     "output_type": "error",
     "traceback": [
      "MethodError: no method matching exp(::Eigen{ComplexF64, ComplexF64, Matrix{ComplexF64}, Vector{ComplexF64}})\n\n\u001b[0mClosest candidates are:\n\u001b[0m  exp(\u001b[91m::Union{Float16, Float32, Float64}\u001b[39m)\n\u001b[0m\u001b[90m   @\u001b[39m \u001b[90mBase\u001b[39m \u001b[90mspecial\\\u001b[39m\u001b[90m\u001b[4mexp.jl:325\u001b[24m\u001b[39m\n\u001b[0m  exp(\u001b[91m::Adjoint{T, <:AbstractMatrix} where T\u001b[39m)\n\u001b[0m\u001b[90m   @\u001b[39m \u001b[35mLinearAlgebra\u001b[39m \u001b[90mD:\\Julia-1.9.0-beta2\\share\\julia\\stdlib\\v1.9\\LinearAlgebra\\src\\\u001b[39m\u001b[90m\u001b[4mdense.jl:595\u001b[24m\u001b[39m\n\u001b[0m  exp(\u001b[91m::Transpose{T, <:AbstractMatrix} where T\u001b[39m)\n\u001b[0m\u001b[90m   @\u001b[39m \u001b[35mLinearAlgebra\u001b[39m \u001b[90mD:\\Julia-1.9.0-beta2\\share\\julia\\stdlib\\v1.9\\LinearAlgebra\\src\\\u001b[39m\u001b[90m\u001b[4mdense.jl:596\u001b[24m\u001b[39m\n\u001b[0m  ...\n",
      "",
      "Stacktrace:",
      " [1] top-level scope",
      "   @ In[2]:1"
     ]
    }
   ],
   "source": [
    "exp(eigen(M))"
   ]
  },
  {
   "cell_type": "code",
   "execution_count": 3,
   "id": "0ceab85b-f2a5-43b9-a45a-19bebb655d60",
   "metadata": {},
   "outputs": [
    {
     "data": {
      "text/plain": [
       "Main.EigenDecompression"
      ]
     },
     "execution_count": 3,
     "metadata": {},
     "output_type": "execute_result"
    }
   ],
   "source": [
    "module EigenDecompression\n",
    "\n",
    "export EigenDecompose, eigDecomp\n",
    "using LinearAlgebra\n",
    "import Base.*, Base./\n",
    "\n",
    "#対角化された行列型\n",
    "struct EigenDecompose{T<:Number} <: AbstractMatrix{T}\n",
    "    P::AbstractMatrix{T}\n",
    "    D::Diagonal{T}\n",
    "    invP::AbstractMatrix{T}\n",
    "end\n",
    "\n",
    "#普通のMatrixを対角化する\n",
    "function eigDecomp(mat::AbstractMatrix)\n",
    "    E, P = eigen(mat)\n",
    "    EigenDecompose(P, Diagonal(E), inv(P))\n",
    "end\n",
    "\n",
    "#EigenDecompose型に対する関数\n",
    "Base.exp(eig::EigenDecompose) = EigenDecompose(eig.P, exp(eig.D), eig.invP)\n",
    "*(eig::EigenDecompose, vec::AbstractVector) = eig.P * eig.D * eig.invP * vec\n",
    "*(eig::EigenDecompose, sc::Number) = EigenDecompose(eig.P, eig.D*sc, eig.invP)\n",
    "/(eig::EigenDecompose, sc::Number) = EigenDecompose(eig.P, eig.D/sc, eig.invP)\n",
    "\n",
    "#普通のMatrixに戻す\n",
    "Base.Array(eig::EigenDecompose) = eig.P * eig.D * eig.invP\n",
    "\n",
    "end"
   ]
  },
  {
   "cell_type": "code",
   "execution_count": 4,
   "id": "a6f2726f-780f-4cbc-a980-e13b78f159a6",
   "metadata": {},
   "outputs": [],
   "source": [
    "using .EigenDecompression\n",
    "\n",
    "M = rand(100, 100)\n",
    "eM = eigDecomp(M)\n",
    "for i in 1:100\n",
    "    v = rand(100)\n",
    "    rnd = rand()\n",
    "    @assert exp(M*rnd)*v ≈ exp(eM*rnd)*v\n",
    "end"
   ]
  },
  {
   "cell_type": "code",
   "execution_count": 5,
   "id": "b3566c65-ea4a-48b2-9736-00e7904ebe3b",
   "metadata": {},
   "outputs": [
    {
     "data": {
      "text/plain": [
       "bench2 (generic function with 1 method)"
      ]
     },
     "execution_count": 5,
     "metadata": {},
     "output_type": "execute_result"
    }
   ],
   "source": [
    "using BenchmarkTools\n",
    "\n",
    "M = rand(100, 100);\n",
    "\n",
    "#普通な方\n",
    "function bench1(M)\n",
    "    for i in 1:100\n",
    "        v = rand(100)\n",
    "        exp(M*rand())*v\n",
    "    end\n",
    "end\n",
    "\n",
    "#今回実装した方\n",
    "function bench2(M)\n",
    "    eM = eigDecomp(M)\n",
    "    for i in 1:100\n",
    "        v = rand(100)\n",
    "        exp(eM*rand())*v\n",
    "    end\n",
    "end"
   ]
  },
  {
   "cell_type": "code",
   "execution_count": 6,
   "id": "7ce7e7d9-dc0b-4384-8296-a0c0c884deae",
   "metadata": {},
   "outputs": [
    {
     "data": {
      "text/plain": [
       "BenchmarkTools.Trial: 65 samples with 1 evaluation.\n",
       " Range \u001b[90m(\u001b[39m\u001b[36m\u001b[1mmin\u001b[22m\u001b[39m … \u001b[35mmax\u001b[39m\u001b[90m):  \u001b[39m\u001b[36m\u001b[1m70.653 ms\u001b[22m\u001b[39m … \u001b[35m84.618 ms\u001b[39m  \u001b[90m┊\u001b[39m GC \u001b[90m(\u001b[39mmin … max\u001b[90m): \u001b[39m4.87% … 5.74%\n",
       " Time  \u001b[90m(\u001b[39m\u001b[34m\u001b[1mmedian\u001b[22m\u001b[39m\u001b[90m):     \u001b[39m\u001b[34m\u001b[1m77.408 ms              \u001b[22m\u001b[39m\u001b[90m┊\u001b[39m GC \u001b[90m(\u001b[39mmedian\u001b[90m):    \u001b[39m2.52%\n",
       " Time  \u001b[90m(\u001b[39m\u001b[32m\u001b[1mmean\u001b[22m\u001b[39m ± \u001b[32mσ\u001b[39m\u001b[90m):   \u001b[39m\u001b[32m\u001b[1m77.587 ms\u001b[22m\u001b[39m ± \u001b[32m 3.380 ms\u001b[39m  \u001b[90m┊\u001b[39m GC \u001b[90m(\u001b[39mmean ± σ\u001b[90m):  \u001b[39m3.37% ± 1.21%\n",
       "\n",
       "  \u001b[39m \u001b[39m \u001b[39m \u001b[39m \u001b[39m \u001b[39m \u001b[39m \u001b[39m \u001b[39m \u001b[39m \u001b[39m \u001b[39m \u001b[39m \u001b[39m \u001b[39m \u001b[39m \u001b[39m \u001b[39m \u001b[39m \u001b[39m \u001b[39m▂\u001b[39m \u001b[39m \u001b[39m \u001b[39m▂\u001b[39m \u001b[39m▂\u001b[39m \u001b[34m▂\u001b[39m\u001b[39m \u001b[32m \u001b[39m\u001b[39m▅\u001b[39m \u001b[39m \u001b[39m \u001b[39m \u001b[39m█\u001b[39m \u001b[39m \u001b[39m \u001b[39m \u001b[39m \u001b[39m \u001b[39m \u001b[39m \u001b[39m \u001b[39m \u001b[39m \u001b[39m \u001b[39m \u001b[39m \u001b[39m \u001b[39m▂\u001b[39m \u001b[39m \u001b[39m \u001b[39m \u001b[39m \u001b[39m \u001b[39m \u001b[39m \n",
       "  \u001b[39m█\u001b[39m▁\u001b[39m▁\u001b[39m▅\u001b[39m▁\u001b[39m▁\u001b[39m▁\u001b[39m▅\u001b[39m▅\u001b[39m█\u001b[39m▁\u001b[39m▅\u001b[39m▁\u001b[39m▅\u001b[39m▅\u001b[39m▅\u001b[39m▁\u001b[39m▅\u001b[39m▅\u001b[39m▅\u001b[39m█\u001b[39m█\u001b[39m▅\u001b[39m█\u001b[39m█\u001b[39m█\u001b[39m█\u001b[39m▅\u001b[34m█\u001b[39m\u001b[39m█\u001b[32m█\u001b[39m\u001b[39m█\u001b[39m▅\u001b[39m▁\u001b[39m▁\u001b[39m▅\u001b[39m█\u001b[39m▅\u001b[39m▅\u001b[39m█\u001b[39m▁\u001b[39m▁\u001b[39m▁\u001b[39m▁\u001b[39m▁\u001b[39m█\u001b[39m▁\u001b[39m█\u001b[39m▁\u001b[39m▁\u001b[39m▅\u001b[39m▁\u001b[39m█\u001b[39m▁\u001b[39m▁\u001b[39m▅\u001b[39m▁\u001b[39m▅\u001b[39m▅\u001b[39m \u001b[39m▁\n",
       "  70.7 ms\u001b[90m         Histogram: frequency by time\u001b[39m        84.5 ms \u001b[0m\u001b[1m<\u001b[22m\n",
       "\n",
       " Memory estimate\u001b[90m: \u001b[39m\u001b[33m53.80 MiB\u001b[39m, allocs estimate\u001b[90m: \u001b[39m\u001b[33m1900\u001b[39m."
      ]
     },
     "execution_count": 6,
     "metadata": {},
     "output_type": "execute_result"
    }
   ],
   "source": [
    "@benchmark bench1(M)"
   ]
  },
  {
   "cell_type": "code",
   "execution_count": 7,
   "id": "8441c537-41ff-425b-a83b-bc7c455a1ff4",
   "metadata": {},
   "outputs": [
    {
     "data": {
      "text/plain": [
       "BenchmarkTools.Trial: 767 samples with 1 evaluation.\n",
       " Range \u001b[90m(\u001b[39m\u001b[36m\u001b[1mmin\u001b[22m\u001b[39m … \u001b[35mmax\u001b[39m\u001b[90m):  \u001b[39m\u001b[36m\u001b[1m5.915 ms\u001b[22m\u001b[39m … \u001b[35m  8.231 ms\u001b[39m  \u001b[90m┊\u001b[39m GC \u001b[90m(\u001b[39mmin … max\u001b[90m): \u001b[39m0.00% … 25.51%\n",
       " Time  \u001b[90m(\u001b[39m\u001b[34m\u001b[1mmedian\u001b[22m\u001b[39m\u001b[90m):     \u001b[39m\u001b[34m\u001b[1m6.551 ms               \u001b[22m\u001b[39m\u001b[90m┊\u001b[39m GC \u001b[90m(\u001b[39mmedian\u001b[90m):    \u001b[39m0.00%\n",
       " Time  \u001b[90m(\u001b[39m\u001b[32m\u001b[1mmean\u001b[22m\u001b[39m ± \u001b[32mσ\u001b[39m\u001b[90m):   \u001b[39m\u001b[32m\u001b[1m6.520 ms\u001b[22m\u001b[39m ± \u001b[32m287.822 μs\u001b[39m  \u001b[90m┊\u001b[39m GC \u001b[90m(\u001b[39mmean ± σ\u001b[90m):  \u001b[39m0.43% ±  1.99%\n",
       "\n",
       "  \u001b[39m \u001b[39m \u001b[39m \u001b[39m \u001b[39m \u001b[39m \u001b[39m \u001b[39m \u001b[39m \u001b[39m \u001b[39m \u001b[39m \u001b[39m \u001b[39m \u001b[39m \u001b[39m \u001b[39m \u001b[39m \u001b[39m \u001b[39m \u001b[39m \u001b[39m \u001b[39m \u001b[39m▃\u001b[32m▅\u001b[39m\u001b[34m▇\u001b[39m\u001b[39m█\u001b[39m \u001b[39m \u001b[39m \u001b[39m \u001b[39m \u001b[39m \u001b[39m \u001b[39m \u001b[39m \u001b[39m \u001b[39m \u001b[39m \u001b[39m \u001b[39m \u001b[39m \u001b[39m \u001b[39m \u001b[39m \u001b[39m \u001b[39m \u001b[39m \u001b[39m \u001b[39m \u001b[39m \u001b[39m \u001b[39m \u001b[39m \u001b[39m \u001b[39m \u001b[39m \u001b[39m \u001b[39m \u001b[39m \u001b[39m \n",
       "  \u001b[39m▃\u001b[39m▂\u001b[39m▃\u001b[39m▃\u001b[39m▃\u001b[39m▅\u001b[39m▆\u001b[39m▅\u001b[39m▄\u001b[39m▅\u001b[39m▄\u001b[39m▃\u001b[39m▃\u001b[39m▃\u001b[39m▃\u001b[39m▂\u001b[39m▃\u001b[39m▂\u001b[39m▂\u001b[39m▃\u001b[39m▃\u001b[39m▄\u001b[39m▇\u001b[39m█\u001b[32m█\u001b[39m\u001b[34m█\u001b[39m\u001b[39m█\u001b[39m▇\u001b[39m▇\u001b[39m▅\u001b[39m▄\u001b[39m▄\u001b[39m▄\u001b[39m▄\u001b[39m▃\u001b[39m▄\u001b[39m▄\u001b[39m▄\u001b[39m▃\u001b[39m▃\u001b[39m▂\u001b[39m▂\u001b[39m▂\u001b[39m▁\u001b[39m▂\u001b[39m▁\u001b[39m▁\u001b[39m▂\u001b[39m▂\u001b[39m▂\u001b[39m▂\u001b[39m▂\u001b[39m▂\u001b[39m▂\u001b[39m▂\u001b[39m▂\u001b[39m▂\u001b[39m▂\u001b[39m▂\u001b[39m \u001b[39m▃\n",
       "  5.91 ms\u001b[90m         Histogram: frequency by time\u001b[39m         7.4 ms \u001b[0m\u001b[1m<\u001b[22m\n",
       "\n",
       " Memory estimate\u001b[90m: \u001b[39m\u001b[33m1.82 MiB\u001b[39m, allocs estimate\u001b[90m: \u001b[39m\u001b[33m1728\u001b[39m."
      ]
     },
     "execution_count": 7,
     "metadata": {},
     "output_type": "execute_result"
    }
   ],
   "source": [
    "@benchmark bench2(M)"
   ]
  },
  {
   "cell_type": "markdown",
   "id": "a9ecc6b7-4601-40b9-937f-05854d56f58b",
   "metadata": {},
   "source": [
    "## EigenDecomposedMatrices.EigenDecomposed"
   ]
  },
  {
   "cell_type": "code",
   "execution_count": 8,
   "id": "57691738-e725-481e-ba43-9d7fea5b8c60",
   "metadata": {},
   "outputs": [],
   "source": [
    "using LinearAlgebra\n",
    "using BenchmarkTools"
   ]
  },
  {
   "cell_type": "code",
   "execution_count": 9,
   "id": "a3672e5b-5030-4952-b50a-da95ef2eb11e",
   "metadata": {},
   "outputs": [
    {
     "data": {
      "text/plain": [
       "Main.EigenDecomposedMatrices"
      ]
     },
     "execution_count": 9,
     "metadata": {},
     "output_type": "execute_result"
    }
   ],
   "source": [
    "module EigenDecomposedMatrices\n",
    "\n",
    "export EigenDecomposed\n",
    "\n",
    "using LinearAlgebra\n",
    "\n",
    "struct EigenDecomposed{\n",
    "        T,\n",
    "        TA<:AbstractMatrix,\n",
    "        TE<:AbstractVector,\n",
    "        TP<:AbstractMatrix,\n",
    "        TinvP<:AbstractMatrix\n",
    "    } <: AbstractMatrix{T}\n",
    "    A::TA\n",
    "    E::TE\n",
    "    P::TP\n",
    "    invP::TinvP\n",
    "end\n",
    "\n",
    "function EigenDecomposed(A::AbstractMatrix, E::AbstractVector, P::AbstractMatrix, invP::AbstractMatrix)\n",
    "    EigenDecomposed{eltype(A), typeof(A), typeof(E), typeof(P), typeof(invP)}(A, E, P, invP)\n",
    "end\n",
    "\n",
    "function EigenDecomposed(A::AbstractMatrix)\n",
    "    E, P = eigen(A)\n",
    "    invP = ishermitian(A) ? P' : inv(P)\n",
    "    EigenDecomposed(A, E, P, invP)\n",
    "end\n",
    "\n",
    "Base.parent(ed::EigenDecomposed) = ed.A\n",
    "LinearAlgebra.eigvals(ed::EigenDecomposed) = ed.E\n",
    "LinearAlgebra.eigvecs(ed::EigenDecomposed) = ed.P\n",
    "Base.convert(::Type{Array}, ed::EigenDecomposed) = convert(Array, parent(ed))\n",
    "for op in (:eltype, :size)\n",
    "    @eval Base.$op(ed::EigenDecomposed) = $op(parent(ed))\n",
    "end\n",
    "Base.getindex(ed::EigenDecomposed, I...) = getindex(parent(ed), I...)\n",
    "\n",
    "Base.:*(c::Number, ed::EigenDecomposed) = EigenDecomposed(c*ed.A, c*ed.E, ed.P, ed.invP)\n",
    "Base.:*(ed::EigenDecomposed, c::Number) = EigenDecomposed(ed.A*c, ed.E*c, ed.P, ed.invP)\n",
    "Base.:\\(c::Number, ed::EigenDecomposed) = EigenDecomposed(c\\ed.A, c\\ed.E, ed.P, ed.invP)\n",
    "Base.:/(ed::EigenDecomposed, c::Number) = EigenDecomposed(ed.A/c, ed.E/c, ed.P, ed.invP)\n",
    "for T in (AbstractVector, AbstractMatrix)\n",
    "    @eval Base.:*(ed::EigenDecomposed, v::$T) = ed.A * v\n",
    "end\n",
    "\n",
    "function exp_old(ed::EigenDecomposed)\n",
    "    (; A, E, P, invP) = ed\n",
    "    expE = exp.(E)\n",
    "    expA = P * Diagonal(expE) * invP\n",
    "    EigenDecomposed(expA, expE, P, invP)\n",
    "end\n",
    "\n",
    "LinearAlgebra.lmul!(c::Number, ed::EigenDecomposed) = (lmul!(c, parent(ed)); lmul!(c, eigvals(ed)))\n",
    "LinearAlgebra.rmul!(ed::EigenDecomposed, c::Number) = (rmul!(parent(ed), c); rmul!(eigvals(ed), c))\n",
    "LinearAlgebra.ldiv!(c::Number, ed::EigenDecomposed) = (ldiv!(c, parent(ed)); ldiv!(c, eigvals(ed)))\n",
    "LinearAlgebra.rdiv!(ed::EigenDecomposed, c::Number) = (rdiv!(parent(ed), c); rdiv!(eigvals(ed), c))\n",
    "for T in (AbstractVector, AbstractMatrix)\n",
    "    @eval function LinearAlgebra.mul!(y::$T, ed::EigenDecomposed, x::$T, alpha::Number, beta::Number)\n",
    "        mul!(y, parent(ed), x, alpha, beta)\n",
    "    end\n",
    "end\n",
    "\n",
    "for op in (:exp, :log, :sin, :cos)\n",
    "    opE = Symbol(op, \"E\")\n",
    "    op_eigendecomposed = Symbol(op, \"_eigendecomposed\")\n",
    "    op_eigendecomposed! = Symbol(op_eigendecomposed, \"!\")\n",
    "    op_eigendecomposed!_doc =\n",
    "        \"\"\"\n",
    "        $op_eigendecomposed!(Y, ed::EigenDecomposed, $opE=similar(ed.E), tmpY=similar(Y))\n",
    "\n",
    "        returns the `$op` of `ed` and stores the result in `Y`, overwriting the existing value of `Y`. \n",
    "        It does not overwrite `ed` and uses `$opE` and `tmpY` as workspaces.\n",
    "        \"\"\"\n",
    "    @eval begin\n",
    "        @doc $op_eigendecomposed!_doc\n",
    "        function $op_eigendecomposed!(Y, ed::EigenDecomposed, $opE=similar(ed.E), tmpY=similar(Y))\n",
    "            (; A, E, P, invP) = ed\n",
    "            @. $opE = $op.(E)\n",
    "            mul!(tmpY, P, Diagonal($opE))\n",
    "            mul!(Y, tmpY, invP)\n",
    "        end\n",
    "        $op_eigendecomposed(ed::EigenDecomposed) = $op_eigendecomposed!(similar(ed.P), ed)\n",
    "        Base.$op(ed::EigenDecomposed) = $op_eigendecomposed(ed)\n",
    "    end\n",
    "end\n",
    "\n",
    "end"
   ]
  },
  {
   "cell_type": "code",
   "execution_count": 10,
   "id": "7a17b2b7-2afe-4a96-9294-de292ca701ea",
   "metadata": {},
   "outputs": [
    {
     "name": "stdout",
     "output_type": "stream",
     "text": [
      "search: \u001b[0m\u001b[1mr\u001b[22m\u001b[0m\u001b[1mm\u001b[22m\u001b[0m\u001b[1mu\u001b[22m\u001b[0m\u001b[1ml\u001b[22m\u001b[0m\u001b[1m!\u001b[22m ba\u001b[0m\u001b[1mr\u001b[22me\u001b[0m\u001b[1mm\u001b[22mod\u001b[0m\u001b[1mu\u001b[22m\u001b[0m\u001b[1ml\u001b[22me pa\u001b[0m\u001b[1mr\u001b[22ment\u001b[0m\u001b[1mm\u001b[22mod\u001b[0m\u001b[1mu\u001b[22m\u001b[0m\u001b[1ml\u001b[22me p\u001b[0m\u001b[1mr\u001b[22mo\u001b[0m\u001b[1mm\u001b[22mote_r\u001b[0m\u001b[1mu\u001b[22m\u001b[0m\u001b[1ml\u001b[22me\n",
      "\n"
     ]
    },
    {
     "data": {
      "text/latex": [
       "\\begin{verbatim}\n",
       "rmul!(A::AbstractArray, b::Number)\n",
       "\\end{verbatim}\n",
       "Scale an array \\texttt{A} by a scalar \\texttt{b} overwriting \\texttt{A} in-place.  Use \\href{@ref}{\\texttt{lmul!}} to multiply scalar from left.  The scaling operation respects the semantics of the multiplication \\href{@ref}{\\texttt{*}} between an element of \\texttt{A} and \\texttt{b}.  In particular, this also applies to multiplication involving non-finite numbers such as \\texttt{NaN} and \\texttt{±Inf}.\n",
       "\n",
       "\\begin{quote}\n",
       "\\textbf{compat}\n",
       "\n",
       "Julia 1.1\n",
       "\n",
       "Prior to Julia 1.1, \\texttt{NaN} and \\texttt{±Inf} entries in \\texttt{A} were treated inconsistently.\n",
       "\n",
       "\\end{quote}\n",
       "\\section{Examples}\n",
       "\\begin{verbatim}\n",
       "julia> A = [1 2; 3 4]\n",
       "2×2 Matrix{Int64}:\n",
       " 1  2\n",
       " 3  4\n",
       "\n",
       "julia> rmul!(A, 2)\n",
       "2×2 Matrix{Int64}:\n",
       " 2  4\n",
       " 6  8\n",
       "\n",
       "julia> rmul!([NaN], 0.0)\n",
       "1-element Vector{Float64}:\n",
       " NaN\n",
       "\\end{verbatim}\n",
       "\\rule{\\textwidth}{1pt}\n",
       "\\begin{verbatim}\n",
       "rmul!(A, B)\n",
       "\\end{verbatim}\n",
       "Calculate the matrix-matrix product $AB$, overwriting \\texttt{A}, and return the result. Here, \\texttt{B} must be of special matrix type, like, e.g., \\href{@ref}{\\texttt{Diagonal}}, \\href{@ref}{\\texttt{UpperTriangular}} or \\href{@ref}{\\texttt{LowerTriangular}}, or of some orthogonal type, see \\href{@ref}{\\texttt{QR}}.\n",
       "\n",
       "\\section{Examples}\n",
       "\\begin{verbatim}\n",
       "julia> A = [0 1; 1 0];\n",
       "\n",
       "julia> B = UpperTriangular([1 2; 0 3]);\n",
       "\n",
       "julia> rmul!(A, B);\n",
       "\n",
       "julia> A\n",
       "2×2 Matrix{Int64}:\n",
       " 0  3\n",
       " 1  2\n",
       "\n",
       "julia> A = [1.0 2.0; 3.0 4.0];\n",
       "\n",
       "julia> F = qr([0 1; -1 0]);\n",
       "\n",
       "julia> rmul!(A, F.Q)\n",
       "2×2 Matrix{Float64}:\n",
       " 2.0  1.0\n",
       " 4.0  3.0\n",
       "\\end{verbatim}\n"
      ],
      "text/markdown": [
       "```\n",
       "rmul!(A::AbstractArray, b::Number)\n",
       "```\n",
       "\n",
       "Scale an array `A` by a scalar `b` overwriting `A` in-place.  Use [`lmul!`](@ref) to multiply scalar from left.  The scaling operation respects the semantics of the multiplication [`*`](@ref) between an element of `A` and `b`.  In particular, this also applies to multiplication involving non-finite numbers such as `NaN` and `±Inf`.\n",
       "\n",
       "!!! compat \"Julia 1.1\"\n",
       "    Prior to Julia 1.1, `NaN` and `±Inf` entries in `A` were treated inconsistently.\n",
       "\n",
       "\n",
       "# Examples\n",
       "\n",
       "```jldoctest\n",
       "julia> A = [1 2; 3 4]\n",
       "2×2 Matrix{Int64}:\n",
       " 1  2\n",
       " 3  4\n",
       "\n",
       "julia> rmul!(A, 2)\n",
       "2×2 Matrix{Int64}:\n",
       " 2  4\n",
       " 6  8\n",
       "\n",
       "julia> rmul!([NaN], 0.0)\n",
       "1-element Vector{Float64}:\n",
       " NaN\n",
       "```\n",
       "\n",
       "---\n",
       "\n",
       "```\n",
       "rmul!(A, B)\n",
       "```\n",
       "\n",
       "Calculate the matrix-matrix product $AB$, overwriting `A`, and return the result. Here, `B` must be of special matrix type, like, e.g., [`Diagonal`](@ref), [`UpperTriangular`](@ref) or [`LowerTriangular`](@ref), or of some orthogonal type, see [`QR`](@ref).\n",
       "\n",
       "# Examples\n",
       "\n",
       "```jldoctest\n",
       "julia> A = [0 1; 1 0];\n",
       "\n",
       "julia> B = UpperTriangular([1 2; 0 3]);\n",
       "\n",
       "julia> rmul!(A, B);\n",
       "\n",
       "julia> A\n",
       "2×2 Matrix{Int64}:\n",
       " 0  3\n",
       " 1  2\n",
       "\n",
       "julia> A = [1.0 2.0; 3.0 4.0];\n",
       "\n",
       "julia> F = qr([0 1; -1 0]);\n",
       "\n",
       "julia> rmul!(A, F.Q)\n",
       "2×2 Matrix{Float64}:\n",
       " 2.0  1.0\n",
       " 4.0  3.0\n",
       "```\n"
      ],
      "text/plain": [
       "\u001b[36m  rmul!(A::AbstractArray, b::Number)\u001b[39m\n",
       "\n",
       "  Scale an array \u001b[36mA\u001b[39m by a scalar \u001b[36mb\u001b[39m overwriting \u001b[36mA\u001b[39m in-place. Use \u001b[36mlmul!\u001b[39m to multiply\n",
       "  scalar from left. The scaling operation respects the semantics of the\n",
       "  multiplication \u001b[36m*\u001b[39m between an element of \u001b[36mA\u001b[39m and \u001b[36mb\u001b[39m. In particular, this also\n",
       "  applies to multiplication involving non-finite numbers such as \u001b[36mNaN\u001b[39m and \u001b[36m±Inf\u001b[39m.\n",
       "\n",
       "\u001b[39m\u001b[1m  │ \u001b[22m\u001b[39m\u001b[1mJulia 1.1\u001b[22m\n",
       "\u001b[39m\u001b[1m  │\u001b[22m\n",
       "\u001b[39m\u001b[1m  │\u001b[22m  Prior to Julia 1.1, \u001b[36mNaN\u001b[39m and \u001b[36m±Inf\u001b[39m entries in \u001b[36mA\u001b[39m were treated\n",
       "\u001b[39m\u001b[1m  │\u001b[22m  inconsistently.\n",
       "\n",
       "\u001b[1m  Examples\u001b[22m\n",
       "\u001b[1m  ≡≡≡≡≡≡≡≡≡≡\u001b[22m\n",
       "\n",
       "\u001b[36m  julia> A = [1 2; 3 4]\u001b[39m\n",
       "\u001b[36m  2×2 Matrix{Int64}:\u001b[39m\n",
       "\u001b[36m   1  2\u001b[39m\n",
       "\u001b[36m   3  4\u001b[39m\n",
       "\u001b[36m  \u001b[39m\n",
       "\u001b[36m  julia> rmul!(A, 2)\u001b[39m\n",
       "\u001b[36m  2×2 Matrix{Int64}:\u001b[39m\n",
       "\u001b[36m   2  4\u001b[39m\n",
       "\u001b[36m   6  8\u001b[39m\n",
       "\u001b[36m  \u001b[39m\n",
       "\u001b[36m  julia> rmul!([NaN], 0.0)\u001b[39m\n",
       "\u001b[36m  1-element Vector{Float64}:\u001b[39m\n",
       "\u001b[36m   NaN\u001b[39m\n",
       "\n",
       "  ────────────────────────────────────────────────────────────────────────────\n",
       "\n",
       "\u001b[36m  rmul!(A, B)\u001b[39m\n",
       "\n",
       "  Calculate the matrix-matrix product \u001b[35mAB\u001b[39m, overwriting \u001b[36mA\u001b[39m, and return the\n",
       "  result. Here, \u001b[36mB\u001b[39m must be of special matrix type, like, e.g., \u001b[36mDiagonal\u001b[39m,\n",
       "  \u001b[36mUpperTriangular\u001b[39m or \u001b[36mLowerTriangular\u001b[39m, or of some orthogonal type, see \u001b[36mQR\u001b[39m.\n",
       "\n",
       "\u001b[1m  Examples\u001b[22m\n",
       "\u001b[1m  ≡≡≡≡≡≡≡≡≡≡\u001b[22m\n",
       "\n",
       "\u001b[36m  julia> A = [0 1; 1 0];\u001b[39m\n",
       "\u001b[36m  \u001b[39m\n",
       "\u001b[36m  julia> B = UpperTriangular([1 2; 0 3]);\u001b[39m\n",
       "\u001b[36m  \u001b[39m\n",
       "\u001b[36m  julia> rmul!(A, B);\u001b[39m\n",
       "\u001b[36m  \u001b[39m\n",
       "\u001b[36m  julia> A\u001b[39m\n",
       "\u001b[36m  2×2 Matrix{Int64}:\u001b[39m\n",
       "\u001b[36m   0  3\u001b[39m\n",
       "\u001b[36m   1  2\u001b[39m\n",
       "\u001b[36m  \u001b[39m\n",
       "\u001b[36m  julia> A = [1.0 2.0; 3.0 4.0];\u001b[39m\n",
       "\u001b[36m  \u001b[39m\n",
       "\u001b[36m  julia> F = qr([0 1; -1 0]);\u001b[39m\n",
       "\u001b[36m  \u001b[39m\n",
       "\u001b[36m  julia> rmul!(A, F.Q)\u001b[39m\n",
       "\u001b[36m  2×2 Matrix{Float64}:\u001b[39m\n",
       "\u001b[36m   2.0  1.0\u001b[39m\n",
       "\u001b[36m   4.0  3.0\u001b[39m"
      ]
     },
     "execution_count": 10,
     "metadata": {},
     "output_type": "execute_result"
    }
   ],
   "source": [
    "?rmul!"
   ]
  },
  {
   "cell_type": "code",
   "execution_count": 11,
   "id": "f4402c98-850b-44e0-9407-6088e6421f19",
   "metadata": {},
   "outputs": [
    {
     "data": {
      "text/latex": [
       "exp\\_eigendecomposed!(Y, ed::EigenDecomposed, expE=similar(ed.E), tmpY=similar(Y))\n",
       "\n",
       "returns the \\texttt{exp} of \\texttt{ed} and stores the result in \\texttt{Y}, overwriting the existing value of \\texttt{Y}.  It does not overwrite \\texttt{ed} and uses \\texttt{expE} and \\texttt{tmpY} as workspaces.\n",
       "\n"
      ],
      "text/markdown": [
       "exp_eigendecomposed!(Y, ed::EigenDecomposed, expE=similar(ed.E), tmpY=similar(Y))\n",
       "\n",
       "returns the `exp` of `ed` and stores the result in `Y`, overwriting the existing value of `Y`.  It does not overwrite `ed` and uses `expE` and `tmpY` as workspaces.\n"
      ],
      "text/plain": [
       "  exp_eigendecomposed!(Y, ed::EigenDecomposed, expE=similar(ed.E),\n",
       "  tmpY=similar(Y))\n",
       "\n",
       "  returns the \u001b[36mexp\u001b[39m of \u001b[36med\u001b[39m and stores the result in \u001b[36mY\u001b[39m, overwriting the existing\n",
       "  value of \u001b[36mY\u001b[39m. It does not overwrite \u001b[36med\u001b[39m and uses \u001b[36mexpE\u001b[39m and \u001b[36mtmpY\u001b[39m as workspaces."
      ]
     },
     "execution_count": 11,
     "metadata": {},
     "output_type": "execute_result"
    }
   ],
   "source": [
    "?EigenDecomposedMatrices.exp_eigendecomposed!"
   ]
  },
  {
   "cell_type": "code",
   "execution_count": 12,
   "id": "beb73095-1445-4318-b010-1f4c495edec6",
   "metadata": {},
   "outputs": [
    {
     "data": {
      "text/latex": [
       "log\\_eigendecomposed!(Y, ed::EigenDecomposed, logE=similar(ed.E), tmpY=similar(Y))\n",
       "\n",
       "returns the \\texttt{log} of \\texttt{ed} and stores the result in \\texttt{Y}, overwriting the existing value of \\texttt{Y}.  It does not overwrite \\texttt{ed} and uses \\texttt{logE} and \\texttt{tmpY} as workspaces.\n",
       "\n"
      ],
      "text/markdown": [
       "log_eigendecomposed!(Y, ed::EigenDecomposed, logE=similar(ed.E), tmpY=similar(Y))\n",
       "\n",
       "returns the `log` of `ed` and stores the result in `Y`, overwriting the existing value of `Y`.  It does not overwrite `ed` and uses `logE` and `tmpY` as workspaces.\n"
      ],
      "text/plain": [
       "  log_eigendecomposed!(Y, ed::EigenDecomposed, logE=similar(ed.E),\n",
       "  tmpY=similar(Y))\n",
       "\n",
       "  returns the \u001b[36mlog\u001b[39m of \u001b[36med\u001b[39m and stores the result in \u001b[36mY\u001b[39m, overwriting the existing\n",
       "  value of \u001b[36mY\u001b[39m. It does not overwrite \u001b[36med\u001b[39m and uses \u001b[36mlogE\u001b[39m and \u001b[36mtmpY\u001b[39m as workspaces."
      ]
     },
     "execution_count": 12,
     "metadata": {},
     "output_type": "execute_result"
    }
   ],
   "source": [
    "?EigenDecomposedMatrices.log_eigendecomposed!"
   ]
  },
  {
   "cell_type": "code",
   "execution_count": 13,
   "id": "312bddb6-0a2d-4caf-8b60-d421be7143f3",
   "metadata": {},
   "outputs": [
    {
     "data": {
      "text/html": [
       "# 2 methods for type constructor:<ul><li> Main.EigenDecomposedMatrices.EigenDecomposed(A::<b>AbstractMatrix</b>) in Main.EigenDecomposedMatrices at In[9]:24</li> <li> Main.EigenDecomposedMatrices.EigenDecomposed(A::<b>AbstractMatrix</b>, E::<b>AbstractVector</b>, P::<b>AbstractMatrix</b>, invP::<b>AbstractMatrix</b>) in Main.EigenDecomposedMatrices at In[9]:20</li> </ul>"
      ],
      "text/plain": [
       "# 2 methods for type constructor:\n",
       " [1] Main.EigenDecomposedMatrices.EigenDecomposed(\u001b[90mA\u001b[39m::\u001b[1mAbstractMatrix\u001b[22m)\n",
       "\u001b[90m     @\u001b[39m \u001b[90m\u001b[4mIn[9]:24\u001b[24m\u001b[39m\n",
       " [2] Main.EigenDecomposedMatrices.EigenDecomposed(\u001b[90mA\u001b[39m::\u001b[1mAbstractMatrix\u001b[22m, \u001b[90mE\u001b[39m::\u001b[1mAbstractVector\u001b[22m, \u001b[90mP\u001b[39m::\u001b[1mAbstractMatrix\u001b[22m, \u001b[90minvP\u001b[39m::\u001b[1mAbstractMatrix\u001b[22m)\n",
       "\u001b[90m     @\u001b[39m \u001b[90m\u001b[4mIn[9]:20\u001b[24m\u001b[39m"
      ]
     },
     "execution_count": 13,
     "metadata": {},
     "output_type": "execute_result"
    }
   ],
   "source": [
    "methods(EigenDecomposedMatrices.EigenDecomposed)"
   ]
  },
  {
   "cell_type": "code",
   "execution_count": 14,
   "id": "3b092734-4748-40e2-9081-9e4309d93e8d",
   "metadata": {},
   "outputs": [
    {
     "data": {
      "text/html": [
       "23-element Vector{Method}:<ul><li> *(c::<b>Number</b>, ed::<b>Main.EigenDecomposedMatrices.EigenDecomposed</b>) in Main.EigenDecomposedMatrices at In[9]:39<li> *(ed::<b>Main.EigenDecomposedMatrices.EigenDecomposed</b>, c::<b>Number</b>) in Main.EigenDecomposedMatrices at In[9]:40<li> *(ed::<b>Main.EigenDecomposedMatrices.EigenDecomposed</b>, v::<b>AbstractVector</b>) in Main.EigenDecomposedMatrices at In[9]:44<li> *(ed::<b>Main.EigenDecomposedMatrices.EigenDecomposed</b>, v::<b>AbstractMatrix</b>) in Main.EigenDecomposedMatrices at In[9]:44<li> /(ed::<b>Main.EigenDecomposedMatrices.EigenDecomposed</b>, c::<b>Number</b>) in Main.EigenDecomposedMatrices at In[9]:42<li> \\(c::<b>Number</b>, ed::<b>Main.EigenDecomposedMatrices.EigenDecomposed</b>) in Main.EigenDecomposedMatrices at In[9]:41<li> convert(::<b>Type{Array}</b>, ed::<b>Main.EigenDecomposedMatrices.EigenDecomposed</b>) in Main.EigenDecomposedMatrices at In[9]:33<li> cos(ed::<b>Main.EigenDecomposedMatrices.EigenDecomposed</b>) in Main.EigenDecomposedMatrices at In[9]:84<li> eltype(ed::<b>Main.EigenDecomposedMatrices.EigenDecomposed</b>) in Main.EigenDecomposedMatrices at In[9]:35<li> exp(ed::<b>Main.EigenDecomposedMatrices.EigenDecomposed</b>) in Main.EigenDecomposedMatrices at In[9]:84<li> getindex(ed::<b>Main.EigenDecomposedMatrices.EigenDecomposed</b>, I...) in Main.EigenDecomposedMatrices at In[9]:37<li> log(ed::<b>Main.EigenDecomposedMatrices.EigenDecomposed</b>) in Main.EigenDecomposedMatrices at In[9]:84<li> parent(ed::<b>Main.EigenDecomposedMatrices.EigenDecomposed</b>) in Main.EigenDecomposedMatrices at In[9]:30<li> sin(ed::<b>Main.EigenDecomposedMatrices.EigenDecomposed</b>) in Main.EigenDecomposedMatrices at In[9]:84<li> size(ed::<b>Main.EigenDecomposedMatrices.EigenDecomposed</b>) in Main.EigenDecomposedMatrices at In[9]:35<li> eigvals(ed::<b>Main.EigenDecomposedMatrices.EigenDecomposed</b>) in Main.EigenDecomposedMatrices at In[9]:31<li> eigvecs(ed::<b>Main.EigenDecomposedMatrices.EigenDecomposed</b>) in Main.EigenDecomposedMatrices at In[9]:32<li> ldiv!(c::<b>Number</b>, ed::<b>Main.EigenDecomposedMatrices.EigenDecomposed</b>) in Main.EigenDecomposedMatrices at In[9]:56<li> lmul!(c::<b>Number</b>, ed::<b>Main.EigenDecomposedMatrices.EigenDecomposed</b>) in Main.EigenDecomposedMatrices at In[9]:54<li> mul!(y::<b>AbstractVector</b>, ed::<b>Main.EigenDecomposedMatrices.EigenDecomposed</b>, x::<b>AbstractVector</b>, alpha::<b>Number</b>, beta::<b>Number</b>) in Main.EigenDecomposedMatrices at In[9]:59<li> mul!(y::<b>AbstractMatrix</b>, ed::<b>Main.EigenDecomposedMatrices.EigenDecomposed</b>, x::<b>AbstractMatrix</b>, alpha::<b>Number</b>, beta::<b>Number</b>) in Main.EigenDecomposedMatrices at In[9]:59<li> rdiv!(ed::<b>Main.EigenDecomposedMatrices.EigenDecomposed</b>, c::<b>Number</b>) in Main.EigenDecomposedMatrices at In[9]:57<li> rmul!(ed::<b>Main.EigenDecomposedMatrices.EigenDecomposed</b>, c::<b>Number</b>) in Main.EigenDecomposedMatrices at In[9]:55</ul>"
      ],
      "text/plain": [
       "[1] *(\u001b[90mc\u001b[39m::\u001b[1mNumber\u001b[22m, \u001b[90med\u001b[39m::\u001b[1mMain.EigenDecomposedMatrices.EigenDecomposed\u001b[22m)\u001b[90m @\u001b[39m \u001b[90mMain.EigenDecomposedMatrices\u001b[39m \u001b[90m\u001b[4mIn[9]:39\u001b[24m\u001b[39m\n",
       "[2] *(\u001b[90med\u001b[39m::\u001b[1mMain.EigenDecomposedMatrices.EigenDecomposed\u001b[22m, \u001b[90mc\u001b[39m::\u001b[1mNumber\u001b[22m)\u001b[90m @\u001b[39m \u001b[90mMain.EigenDecomposedMatrices\u001b[39m \u001b[90m\u001b[4mIn[9]:40\u001b[24m\u001b[39m\n",
       "[3] *(\u001b[90med\u001b[39m::\u001b[1mMain.EigenDecomposedMatrices.EigenDecomposed\u001b[22m, \u001b[90mv\u001b[39m::\u001b[1mAbstractVector\u001b[22m)\u001b[90m @\u001b[39m \u001b[90mMain.EigenDecomposedMatrices\u001b[39m \u001b[90m\u001b[4mIn[9]:44\u001b[24m\u001b[39m\n",
       "[4] *(\u001b[90med\u001b[39m::\u001b[1mMain.EigenDecomposedMatrices.EigenDecomposed\u001b[22m, \u001b[90mv\u001b[39m::\u001b[1mAbstractMatrix\u001b[22m)\u001b[90m @\u001b[39m \u001b[90mMain.EigenDecomposedMatrices\u001b[39m \u001b[90m\u001b[4mIn[9]:44\u001b[24m\u001b[39m\n",
       "[5] /(\u001b[90med\u001b[39m::\u001b[1mMain.EigenDecomposedMatrices.EigenDecomposed\u001b[22m, \u001b[90mc\u001b[39m::\u001b[1mNumber\u001b[22m)\u001b[90m @\u001b[39m \u001b[90mMain.EigenDecomposedMatrices\u001b[39m \u001b[90m\u001b[4mIn[9]:42\u001b[24m\u001b[39m\n",
       "[6] \\(\u001b[90mc\u001b[39m::\u001b[1mNumber\u001b[22m, \u001b[90med\u001b[39m::\u001b[1mMain.EigenDecomposedMatrices.EigenDecomposed\u001b[22m)\u001b[90m @\u001b[39m \u001b[90mMain.EigenDecomposedMatrices\u001b[39m \u001b[90m\u001b[4mIn[9]:41\u001b[24m\u001b[39m\n",
       "[7] convert(::\u001b[1mType\u001b[22m\u001b[0m{Array}, \u001b[90med\u001b[39m::\u001b[1mMain.EigenDecomposedMatrices.EigenDecomposed\u001b[22m)\u001b[90m @\u001b[39m \u001b[90mMain.EigenDecomposedMatrices\u001b[39m \u001b[90m\u001b[4mIn[9]:33\u001b[24m\u001b[39m\n",
       "[8] cos(\u001b[90med\u001b[39m::\u001b[1mMain.EigenDecomposedMatrices.EigenDecomposed\u001b[22m)\u001b[90m @\u001b[39m \u001b[90mMain.EigenDecomposedMatrices\u001b[39m \u001b[90m\u001b[4mIn[9]:84\u001b[24m\u001b[39m\n",
       "[9] eltype(\u001b[90med\u001b[39m::\u001b[1mMain.EigenDecomposedMatrices.EigenDecomposed\u001b[22m)\u001b[90m @\u001b[39m \u001b[90mMain.EigenDecomposedMatrices\u001b[39m \u001b[90m\u001b[4mIn[9]:35\u001b[24m\u001b[39m\n",
       "[10] exp(\u001b[90med\u001b[39m::\u001b[1mMain.EigenDecomposedMatrices.EigenDecomposed\u001b[22m)\u001b[90m @\u001b[39m \u001b[90mMain.EigenDecomposedMatrices\u001b[39m \u001b[90m\u001b[4mIn[9]:84\u001b[24m\u001b[39m\n",
       "[11] getindex(\u001b[90med\u001b[39m::\u001b[1mMain.EigenDecomposedMatrices.EigenDecomposed\u001b[22m, \u001b[90mI...\u001b[39m)\u001b[90m @\u001b[39m \u001b[90mMain.EigenDecomposedMatrices\u001b[39m \u001b[90m\u001b[4mIn[9]:37\u001b[24m\u001b[39m\n",
       "[12] log(\u001b[90med\u001b[39m::\u001b[1mMain.EigenDecomposedMatrices.EigenDecomposed\u001b[22m)\u001b[90m @\u001b[39m \u001b[90mMain.EigenDecomposedMatrices\u001b[39m \u001b[90m\u001b[4mIn[9]:84\u001b[24m\u001b[39m\n",
       "[13] parent(\u001b[90med\u001b[39m::\u001b[1mMain.EigenDecomposedMatrices.EigenDecomposed\u001b[22m)\u001b[90m @\u001b[39m \u001b[90mMain.EigenDecomposedMatrices\u001b[39m \u001b[90m\u001b[4mIn[9]:30\u001b[24m\u001b[39m\n",
       "[14] sin(\u001b[90med\u001b[39m::\u001b[1mMain.EigenDecomposedMatrices.EigenDecomposed\u001b[22m)\u001b[90m @\u001b[39m \u001b[90mMain.EigenDecomposedMatrices\u001b[39m \u001b[90m\u001b[4mIn[9]:84\u001b[24m\u001b[39m\n",
       "[15] size(\u001b[90med\u001b[39m::\u001b[1mMain.EigenDecomposedMatrices.EigenDecomposed\u001b[22m)\u001b[90m @\u001b[39m \u001b[90mMain.EigenDecomposedMatrices\u001b[39m \u001b[90m\u001b[4mIn[9]:35\u001b[24m\u001b[39m\n",
       "[16] eigvals(\u001b[90med\u001b[39m::\u001b[1mMain.EigenDecomposedMatrices.EigenDecomposed\u001b[22m)\u001b[90m @\u001b[39m \u001b[90mMain.EigenDecomposedMatrices\u001b[39m \u001b[90m\u001b[4mIn[9]:31\u001b[24m\u001b[39m\n",
       "[17] eigvecs(\u001b[90med\u001b[39m::\u001b[1mMain.EigenDecomposedMatrices.EigenDecomposed\u001b[22m)\u001b[90m @\u001b[39m \u001b[90mMain.EigenDecomposedMatrices\u001b[39m \u001b[90m\u001b[4mIn[9]:32\u001b[24m\u001b[39m\n",
       "[18] ldiv!(\u001b[90mc\u001b[39m::\u001b[1mNumber\u001b[22m, \u001b[90med\u001b[39m::\u001b[1mMain.EigenDecomposedMatrices.EigenDecomposed\u001b[22m)\u001b[90m @\u001b[39m \u001b[90mMain.EigenDecomposedMatrices\u001b[39m \u001b[90m\u001b[4mIn[9]:56\u001b[24m\u001b[39m\n",
       "[19] lmul!(\u001b[90mc\u001b[39m::\u001b[1mNumber\u001b[22m, \u001b[90med\u001b[39m::\u001b[1mMain.EigenDecomposedMatrices.EigenDecomposed\u001b[22m)\u001b[90m @\u001b[39m \u001b[90mMain.EigenDecomposedMatrices\u001b[39m \u001b[90m\u001b[4mIn[9]:54\u001b[24m\u001b[39m\n",
       "[20] mul!(\u001b[90my\u001b[39m::\u001b[1mAbstractVector\u001b[22m, \u001b[90med\u001b[39m::\u001b[1mMain.EigenDecomposedMatrices.EigenDecomposed\u001b[22m, \u001b[90mx\u001b[39m::\u001b[1mAbstractVector\u001b[22m, \u001b[90malpha\u001b[39m::\u001b[1mNumber\u001b[22m, \u001b[90mbeta\u001b[39m::\u001b[1mNumber\u001b[22m)\u001b[90m @\u001b[39m \u001b[90mMain.EigenDecomposedMatrices\u001b[39m \u001b[90m\u001b[4mIn[9]:59\u001b[24m\u001b[39m\n",
       "[21] mul!(\u001b[90my\u001b[39m::\u001b[1mAbstractMatrix\u001b[22m, \u001b[90med\u001b[39m::\u001b[1mMain.EigenDecomposedMatrices.EigenDecomposed\u001b[22m, \u001b[90mx\u001b[39m::\u001b[1mAbstractMatrix\u001b[22m, \u001b[90malpha\u001b[39m::\u001b[1mNumber\u001b[22m, \u001b[90mbeta\u001b[39m::\u001b[1mNumber\u001b[22m)\u001b[90m @\u001b[39m \u001b[90mMain.EigenDecomposedMatrices\u001b[39m \u001b[90m\u001b[4mIn[9]:59\u001b[24m\u001b[39m\n",
       "[22] rdiv!(\u001b[90med\u001b[39m::\u001b[1mMain.EigenDecomposedMatrices.EigenDecomposed\u001b[22m, \u001b[90mc\u001b[39m::\u001b[1mNumber\u001b[22m)\u001b[90m @\u001b[39m \u001b[90mMain.EigenDecomposedMatrices\u001b[39m \u001b[90m\u001b[4mIn[9]:57\u001b[24m\u001b[39m\n",
       "[23] rmul!(\u001b[90med\u001b[39m::\u001b[1mMain.EigenDecomposedMatrices.EigenDecomposed\u001b[22m, \u001b[90mc\u001b[39m::\u001b[1mNumber\u001b[22m)\u001b[90m @\u001b[39m \u001b[90mMain.EigenDecomposedMatrices\u001b[39m \u001b[90m\u001b[4mIn[9]:55\u001b[24m\u001b[39m"
      ]
     },
     "execution_count": 14,
     "metadata": {},
     "output_type": "execute_result"
    }
   ],
   "source": [
    "methodswith(EigenDecomposedMatrices.EigenDecomposed)"
   ]
  },
  {
   "cell_type": "code",
   "execution_count": 15,
   "id": "d00504b2-cf67-4d6a-abdf-1f71f61d9c30",
   "metadata": {},
   "outputs": [
    {
     "data": {
      "text/html": [
       "# 3 methods for generic function <b>exp_eigendecomposed!</b> from \u001b[36mMain.EigenDecomposedMatrices\u001b[39m:<ul><li> exp_eigendecomposed!(Y, ed::<b>Main.EigenDecomposedMatrices.EigenDecomposed</b>) in Main.EigenDecomposedMatrices at In[9]:77</li> <li> exp_eigendecomposed!(Y, ed::<b>Main.EigenDecomposedMatrices.EigenDecomposed</b>, expE) in Main.EigenDecomposedMatrices at In[9]:77</li> <li> exp_eigendecomposed!(Y, ed::<b>Main.EigenDecomposedMatrices.EigenDecomposed</b>, expE, tmpY) in Main.EigenDecomposedMatrices at In[9]:77</li> </ul>"
      ],
      "text/plain": [
       "# 3 methods for generic function \"exp_eigendecomposed!\" from \u001b[36mMain.EigenDecomposedMatrices\u001b[39m:\n",
       " [1] exp_eigendecomposed!(\u001b[90mY\u001b[39m, \u001b[90med\u001b[39m::\u001b[1mMain.EigenDecomposedMatrices.EigenDecomposed\u001b[22m)\n",
       "\u001b[90m     @\u001b[39m \u001b[90m\u001b[4mIn[9]:77\u001b[24m\u001b[39m\n",
       " [2] exp_eigendecomposed!(\u001b[90mY\u001b[39m, \u001b[90med\u001b[39m::\u001b[1mMain.EigenDecomposedMatrices.EigenDecomposed\u001b[22m, \u001b[90mexpE\u001b[39m)\n",
       "\u001b[90m     @\u001b[39m \u001b[90m\u001b[4mIn[9]:77\u001b[24m\u001b[39m\n",
       " [3] exp_eigendecomposed!(\u001b[90mY\u001b[39m, \u001b[90med\u001b[39m::\u001b[1mMain.EigenDecomposedMatrices.EigenDecomposed\u001b[22m, \u001b[90mexpE\u001b[39m, \u001b[90mtmpY\u001b[39m)\n",
       "\u001b[90m     @\u001b[39m \u001b[90m\u001b[4mIn[9]:77\u001b[24m\u001b[39m"
      ]
     },
     "execution_count": 15,
     "metadata": {},
     "output_type": "execute_result"
    }
   ],
   "source": [
    "methods(EigenDecomposedMatrices.exp_eigendecomposed!)"
   ]
  },
  {
   "cell_type": "code",
   "execution_count": 16,
   "id": "e2e20647-3c4e-4fd2-8c18-4a2f8e439fd0",
   "metadata": {},
   "outputs": [
    {
     "data": {
      "text/html": [
       "# 3 methods for generic function <b>log_eigendecomposed!</b> from \u001b[36mMain.EigenDecomposedMatrices\u001b[39m:<ul><li> log_eigendecomposed!(Y, ed::<b>Main.EigenDecomposedMatrices.EigenDecomposed</b>) in Main.EigenDecomposedMatrices at In[9]:77</li> <li> log_eigendecomposed!(Y, ed::<b>Main.EigenDecomposedMatrices.EigenDecomposed</b>, logE) in Main.EigenDecomposedMatrices at In[9]:77</li> <li> log_eigendecomposed!(Y, ed::<b>Main.EigenDecomposedMatrices.EigenDecomposed</b>, logE, tmpY) in Main.EigenDecomposedMatrices at In[9]:77</li> </ul>"
      ],
      "text/plain": [
       "# 3 methods for generic function \"log_eigendecomposed!\" from \u001b[36mMain.EigenDecomposedMatrices\u001b[39m:\n",
       " [1] log_eigendecomposed!(\u001b[90mY\u001b[39m, \u001b[90med\u001b[39m::\u001b[1mMain.EigenDecomposedMatrices.EigenDecomposed\u001b[22m)\n",
       "\u001b[90m     @\u001b[39m \u001b[90m\u001b[4mIn[9]:77\u001b[24m\u001b[39m\n",
       " [2] log_eigendecomposed!(\u001b[90mY\u001b[39m, \u001b[90med\u001b[39m::\u001b[1mMain.EigenDecomposedMatrices.EigenDecomposed\u001b[22m, \u001b[90mlogE\u001b[39m)\n",
       "\u001b[90m     @\u001b[39m \u001b[90m\u001b[4mIn[9]:77\u001b[24m\u001b[39m\n",
       " [3] log_eigendecomposed!(\u001b[90mY\u001b[39m, \u001b[90med\u001b[39m::\u001b[1mMain.EigenDecomposedMatrices.EigenDecomposed\u001b[22m, \u001b[90mlogE\u001b[39m, \u001b[90mtmpY\u001b[39m)\n",
       "\u001b[90m     @\u001b[39m \u001b[90m\u001b[4mIn[9]:77\u001b[24m\u001b[39m"
      ]
     },
     "execution_count": 16,
     "metadata": {},
     "output_type": "execute_result"
    }
   ],
   "source": [
    "methods(EigenDecomposedMatrices.log_eigendecomposed!)"
   ]
  },
  {
   "cell_type": "code",
   "execution_count": 17,
   "id": "6f34704c-58d3-46ac-9333-19417c300f84",
   "metadata": {},
   "outputs": [
    {
     "data": {
      "text/plain": [
       "3×3 Main.EigenDecomposedMatrices.EigenDecomposed{Int64, Matrix{Int64}, Vector{Float64}, Matrix{Float64}, Adjoint{Float64, Matrix{Float64}}}:\n",
       "  2  -1   0\n",
       " -1   2  -1\n",
       "  0  -1   2"
      ]
     },
     "execution_count": 17,
     "metadata": {},
     "output_type": "execute_result"
    }
   ],
   "source": [
    "A = [\n",
    "    2 -1 0\n",
    "    -1 2 -1\n",
    "    0 -1 2\n",
    "]\n",
    "\n",
    "edA = EigenDecomposedMatrices.EigenDecomposed(A)"
   ]
  },
  {
   "cell_type": "code",
   "execution_count": 18,
   "id": "04d9e6cc-253b-4340-a448-6050a71bc349",
   "metadata": {},
   "outputs": [
    {
     "data": {
      "text/plain": [
       "3×3 Matrix{Float64}:\n",
       "  0.51986   -0.623225  -0.173287\n",
       " -0.623225   0.346574  -0.623225\n",
       " -0.173287  -0.623225   0.51986"
      ]
     },
     "execution_count": 18,
     "metadata": {},
     "output_type": "execute_result"
    }
   ],
   "source": [
    "log(edA)"
   ]
  },
  {
   "cell_type": "code",
   "execution_count": 19,
   "id": "070a1c06-ed0a-4d68-9716-168bcb1c46d6",
   "metadata": {},
   "outputs": [
    {
     "data": {
      "text/plain": [
       "3×3 Matrix{Float64}:\n",
       "  0.51986   -0.623225  -0.173287\n",
       " -0.623225   0.346574  -0.623225\n",
       " -0.173287  -0.623225   0.51986"
      ]
     },
     "execution_count": 19,
     "metadata": {},
     "output_type": "execute_result"
    }
   ],
   "source": [
    "log(A)"
   ]
  },
  {
   "cell_type": "code",
   "execution_count": 20,
   "id": "a64fdfe1-f568-459a-b9c2-5d35aa060134",
   "metadata": {},
   "outputs": [
    {
     "data": {
      "text/plain": [
       "true"
      ]
     },
     "execution_count": 20,
     "metadata": {},
     "output_type": "execute_result"
    }
   ],
   "source": [
    "log(edA) ≈ log(A)"
   ]
  },
  {
   "cell_type": "code",
   "execution_count": 21,
   "id": "a2d8c089-f82a-43c6-b324-370b6268ddd5",
   "metadata": {},
   "outputs": [],
   "source": [
    "n = 2^8\n",
    "M = 5I + randn(n, n)\n",
    "v = randn(n)\n",
    "c = randn()\n",
    "\n",
    "edM = EigenDecomposedMatrices.EigenDecomposed(M)\n",
    "\n",
    "Y = similar(edM.P)\n",
    "expE = similar(edM.E)\n",
    "tmpY = similar(Y)\n",
    "\n",
    "y = similar(v)\n",
    "tmpy = oftype(edM.E, y)\n",
    "alpha = randn()\n",
    "beta = randn();"
   ]
  },
  {
   "cell_type": "code",
   "execution_count": 22,
   "id": "5fe62250-1d58-4adb-b9a3-352e56f2e075",
   "metadata": {},
   "outputs": [
    {
     "data": {
      "text/plain": [
       "256×256 Main.EigenDecomposedMatrices.EigenDecomposed{Float64, Matrix{Float64}, Vector{ComplexF64}, Matrix{ComplexF64}, Matrix{ComplexF64}}:\n",
       "  4.87255    -0.507229    0.396491   …  -0.0688048   0.0267753  -2.0903\n",
       "  0.586697    5.22725     1.65916       -2.72841     0.517771   -0.650931\n",
       " -0.650661   -0.613283    6.32087       -1.62838    -0.213295    0.606555\n",
       "  0.0957037  -0.984439    2.13963        1.25206     0.194758   -0.882486\n",
       " -0.491411   -2.01713     0.262164      -1.16212     0.808374   -0.209107\n",
       " -0.561059    0.169715    0.88275    …  -1.16109    -0.566131   -0.250877\n",
       "  0.126085   -0.80616     0.786413      -1.66361     0.63883     0.294365\n",
       "  0.353058    2.07809    -1.81548        0.883853    0.898294    0.554953\n",
       " -0.952261    1.55763    -0.258424      -0.292387    0.557137    0.630342\n",
       " -1.85629    -0.860528    0.521213      -2.23465    -0.585842    0.434833\n",
       " -0.596956   -1.23116     0.0459735  …   1.02247    -1.03702    -0.339125\n",
       "  1.11443     1.14029     1.21753       -0.387204    0.0055735   1.08706\n",
       " -0.28345     1.40384     0.425684       0.122991    2.34127     0.0288391\n",
       "  ⋮                                  ⋱                           ⋮\n",
       " -0.463827   -1.115       0.749263      -0.235509    0.643855   -1.1321\n",
       " -0.876936    1.69624    -0.678585   …   1.10111     0.749869   -0.386605\n",
       "  1.06641    -0.0765606  -0.365606      -0.918425   -0.175934    1.72391\n",
       "  0.574717   -2.53449    -1.05068       -2.61254    -0.757908    0.483662\n",
       "  0.865816   -1.34666    -1.59698        0.2893      1.00511    -2.33255\n",
       "  0.646724   -0.145512   -0.391876      -1.26278    -1.61448    -2.55937\n",
       " -0.468203   -0.597351   -0.853593   …  -0.996459    0.656733    1.29395\n",
       "  0.302048    0.954042    0.193573      -1.5021     -0.401339   -0.987044\n",
       "  0.402954    0.125753    0.0149214     -0.56374    -0.286441   -1.10754\n",
       " -0.877389   -0.551407   -1.28741        3.74491    -0.28089     0.342568\n",
       "  0.435812   -0.809708    0.67803        0.633099    4.54908    -1.31037\n",
       " -1.81787     0.299483    1.38681    …   1.01859    -0.311129    4.42244"
      ]
     },
     "execution_count": 22,
     "metadata": {},
     "output_type": "execute_result"
    }
   ],
   "source": [
    "edM"
   ]
  },
  {
   "cell_type": "code",
   "execution_count": 23,
   "id": "e613f081-b46d-406a-97dd-9fbff8168a51",
   "metadata": {},
   "outputs": [
    {
     "name": "stdout",
     "output_type": "stream",
     "text": [
      "Main.EigenDecomposedMatrices.EigenDecomposed{Float64, Matrix{Float64}, Vector{ComplexF64}, Matrix{ComplexF64}, Matrix{ComplexF64}}\n",
      "  A: Array{Float64}((256, 256)) [4.872549976390289 -0.5072293514414554 … 0.026775264242302976 -2.090304406052311; 0.5866968546250569 5.227245530760838 … 0.5177706871328531 -0.6509305489017451; … ; 0.43581219010859434 -0.8097081081811991 … 4.549075588749601 -1.3103692504099345; -1.8178702348494415 0.29948283685649607 … -0.31112877791441057 4.422435324770879]\n",
      "  E: Array{ComplexF64}((256,)) ComplexF64[-10.303007885224146 - 2.854389916176393im, -10.303007885224146 + 2.854389916176393im, -10.160588399135197 + 0.0im, -9.593782680771696 - 4.227501316197441im, -9.593782680771696 + 4.227501316197441im, -8.91390610422193 - 8.063557606604641im, -8.91390610422193 + 8.063557606604641im, -8.563954387474627 - 0.49857040843494554im, -8.563954387474627 + 0.49857040843494554im, -8.227730099318327 - 4.962471022646931im  …  18.44108615033121 + 3.524144477211968im, 18.61418217998836 - 5.967622482166102im, 18.61418217998836 + 5.967622482166102im, 18.68103236849875 - 0.8478120109380352im, 18.68103236849875 + 0.8478120109380352im, 19.5062296134967 - 2.077317076836271im, 19.5062296134967 + 2.077317076836271im, 19.973250292840845 - 1.5413373347356532im, 19.973250292840845 + 1.5413373347356532im, 21.42688229298665 + 0.0im]\n",
      "  P: Array{ComplexF64}((256, 256)) ComplexF64[-0.05539228749498354 - 0.035193892529823134im -0.05539228749498354 + 0.035193892529823134im … 0.08672786889970707 + 0.004747481286230933im 0.010303758193157 + 0.0im; -0.0262308514202557 + 0.054050350976771064im -0.0262308514202557 - 0.054050350976771064im … -0.049185638423041265 + 0.016672074760994533im 0.0758297463936707 + 0.0im; … ; -0.03889091766992161 + 0.011701366046921905im -0.03889091766992161 - 0.011701366046921905im … -0.05696758176121693 - 0.025803002107818163im 0.0038363242138321867 + 0.0im; -0.00839191522992981 - 0.03729438410099138im -0.00839191522992981 + 0.03729438410099138im … 0.004736313054819506 + 0.024052983149316212im 0.08009846010070541 + 0.0im]\n",
      "  invP: Array{ComplexF64}((256, 256)) ComplexF64[-0.1264498904439173 + 0.02900919645167476im 0.0019914941403439135 - 0.015321033249010574im … -0.21360133800890357 - 0.018019760454478728im 0.06759967655114277 + 0.2287249928962095im; -0.12644989044389865 - 0.029009196451674994im 0.0019914941403534753 + 0.015321033249026228im … -0.21360133800891606 + 0.018019760454493938im 0.06759967655112589 - 0.2287249928961842im; … ; 0.13886118156050586 - 0.47652872743434516im -0.08718674462138211 - 0.4638525175828581im … -0.009004024159546459 + 0.11798311208613232im 0.14711282026339514 + 0.277461763484767im; 0.19181333887753302 + 2.0345266973868534e-15im -0.2587890500405157 + 5.242952645318114e-15im … 0.12100932229454016 - 2.5902536573269937e-15im 0.20530860635566012 - 4.565572715270702e-15im]\n"
     ]
    }
   ],
   "source": [
    "dump(edM)"
   ]
  },
  {
   "cell_type": "code",
   "execution_count": 24,
   "id": "283dbc81-a65a-4cfa-8b7b-2b4e3444a526",
   "metadata": {},
   "outputs": [
    {
     "data": {
      "text/plain": [
       "true"
      ]
     },
     "execution_count": 24,
     "metadata": {},
     "output_type": "execute_result"
    }
   ],
   "source": [
    "M == parent(edM) == Matrix(edM)"
   ]
  },
  {
   "cell_type": "code",
   "execution_count": 25,
   "id": "38622469-86c8-4542-97a3-e97138c061fd",
   "metadata": {},
   "outputs": [
    {
     "data": {
      "text/plain": [
       "true"
      ]
     },
     "execution_count": 25,
     "metadata": {},
     "output_type": "execute_result"
    }
   ],
   "source": [
    "M ≈ edM"
   ]
  },
  {
   "cell_type": "code",
   "execution_count": 26,
   "id": "4de76f66-fa04-4293-8d77-0b00c3ecb182",
   "metadata": {},
   "outputs": [
    {
     "data": {
      "text/plain": [
       "true"
      ]
     },
     "execution_count": 26,
     "metadata": {},
     "output_type": "execute_result"
    }
   ],
   "source": [
    "c*M ≈ c*edM ≈ edM*c"
   ]
  },
  {
   "cell_type": "code",
   "execution_count": 27,
   "id": "73f06380-1bc3-45a6-ab28-3c30fd64c4c6",
   "metadata": {},
   "outputs": [
    {
     "data": {
      "text/plain": [
       "true"
      ]
     },
     "execution_count": 27,
     "metadata": {},
     "output_type": "execute_result"
    }
   ],
   "source": [
    "c\\M ≈ c\\edM ≈ edM/c"
   ]
  },
  {
   "cell_type": "code",
   "execution_count": 28,
   "id": "98def48b-63dc-4dd3-88b0-0a8332c409b5",
   "metadata": {},
   "outputs": [
    {
     "data": {
      "text/plain": [
       "true"
      ]
     },
     "execution_count": 28,
     "metadata": {},
     "output_type": "execute_result"
    }
   ],
   "source": [
    "(\n",
    "    exp(M)\n",
    "    ≈ exp(edM)\n",
    "    ≈ EigenDecomposedMatrices.exp_old(edM)\n",
    "    ≈ EigenDecomposedMatrices.exp_eigendecomposed!(Y, edM)\n",
    "    ≈ EigenDecomposedMatrices.exp_eigendecomposed!(Y, edM, expE, tmpY)\n",
    ")"
   ]
  },
  {
   "cell_type": "code",
   "execution_count": 29,
   "id": "bba18259-e299-4709-b304-cd395c686f24",
   "metadata": {},
   "outputs": [
    {
     "name": "stdout",
     "output_type": "stream",
     "text": [
      "typeof(y) = Vector{Float64}\n"
     ]
    },
    {
     "data": {
      "text/plain": [
       "true"
      ]
     },
     "execution_count": 29,
     "metadata": {},
     "output_type": "execute_result"
    }
   ],
   "source": [
    "@show typeof(y)\n",
    "mul!(y, M, v, alpha, beta) ≈ mul!(y, edM, v, alpha, beta)"
   ]
  },
  {
   "cell_type": "code",
   "execution_count": 30,
   "id": "23c99064-3d0e-4b04-9810-c176a273316b",
   "metadata": {
    "tags": []
   },
   "outputs": [
    {
     "name": "stdout",
     "output_type": "stream",
     "text": [
      "typeof(tmpy) = Vector{ComplexF64}\n"
     ]
    },
    {
     "data": {
      "text/plain": [
       "true"
      ]
     },
     "execution_count": 30,
     "metadata": {},
     "output_type": "execute_result"
    }
   ],
   "source": [
    "@show typeof(tmpy)\n",
    "(\n",
    "    exp(M) * v\n",
    "    ≈ exp(edM) * v\n",
    "    ≈ EigenDecomposedMatrices.exp_old(edM) * v\n",
    "    ≈ mul!(tmpy, EigenDecomposedMatrices.exp_eigendecomposed!(Y, edM), v)\n",
    "    ≈ mul!(tmpy, EigenDecomposedMatrices.exp_eigendecomposed!(Y, edM, expE, tmpY), v)\n",
    ")"
   ]
  },
  {
   "cell_type": "code",
   "execution_count": 31,
   "id": "bd540d02-5314-4565-8ed1-5eaa48307f7a",
   "metadata": {},
   "outputs": [
    {
     "name": "stdout",
     "output_type": "stream",
     "text": [
      "  37.752 ms (26 allocations: 3.53 MiB)\n"
     ]
    }
   ],
   "source": [
    "@btime edM = EigenDecomposedMatrices.EigenDecomposed(M);"
   ]
  },
  {
   "cell_type": "code",
   "execution_count": 32,
   "id": "ffb45dc7-2f11-44e1-8acd-e4114f7449a8",
   "metadata": {},
   "outputs": [
    {
     "name": "stdout",
     "output_type": "stream",
     "text": [
      "  9.485 ms (16 allocations: 3.01 MiB)\n",
      "  2.507 ms (7 allocations: 2.01 MiB)\n",
      "  2.485 ms (7 allocations: 2.01 MiB)\n",
      "  2.344 ms (3 allocations: 1.00 MiB)\n",
      "  2.202 ms (0 allocations: 0 bytes)\n"
     ]
    }
   ],
   "source": [
    "@btime exp($M) * $v\n",
    "@btime exp($edM) * $v\n",
    "@btime EigenDecomposedMatrices.exp_old($edM) * $v\n",
    "@btime mul!($tmpy, EigenDecomposedMatrices.exp_eigendecomposed!($Y, $edM), $v)\n",
    "@btime mul!($tmpy, EigenDecomposedMatrices.exp_eigendecomposed!($Y, $edM, $expE, $tmpY), $v);"
   ]
  },
  {
   "cell_type": "code",
   "execution_count": 33,
   "id": "5d55c783-7d12-4e09-8121-ec398884a7e4",
   "metadata": {},
   "outputs": [],
   "source": [
    "n2 = 2^8\n",
    "M2 = Symmetric(5I + randn(n2, n2))\n",
    "v2 = randn(n)\n",
    "c2 = randn()\n",
    "\n",
    "edM2 = EigenDecomposedMatrices.EigenDecomposed(M2)\n",
    "\n",
    "Y2 = similar(edM2.P)\n",
    "expE2 = similar(edM2.E)\n",
    "tmpY2 = similar(Y2)\n",
    "\n",
    "y2 = similar(v2)\n",
    "tmpy2 = oftype(edM2.E, y2)\n",
    "alpha2 = randn()\n",
    "beta2 = randn();"
   ]
  },
  {
   "cell_type": "code",
   "execution_count": 34,
   "id": "4ca2d50f-c879-410c-8e8b-0b815fa54a66",
   "metadata": {},
   "outputs": [
    {
     "data": {
      "text/plain": [
       "256×256 Main.EigenDecomposedMatrices.EigenDecomposed{Float64, Symmetric{Float64, Matrix{Float64}}, Vector{Float64}, Matrix{Float64}, Adjoint{Float64, Matrix{Float64}}}:\n",
       "  3.85098    0.654999   -0.22236    …   0.451596    0.924806   -0.73356\n",
       "  0.654999   5.65044    -0.319709       0.895527   -1.94368    -0.357162\n",
       " -0.22236   -0.319709    4.05874       -1.38347     0.437127    0.229985\n",
       " -0.565409   0.796815    0.189045       0.0733588   2.10046     0.520188\n",
       "  1.07176   -0.625197   -0.219381       0.210028    0.572497    0.412839\n",
       " -0.685181   0.0373845   1.40711    …  -1.0828      0.127981   -0.897418\n",
       " -1.4339    -0.78984     0.0412881      0.0761074   1.66859    -1.2846\n",
       "  1.1693     0.624434   -0.102805       0.167902    2.15768    -0.54081\n",
       "  0.419173  -1.42096    -0.764747      -0.605752   -0.99121    -1.78425\n",
       " -0.251158   0.894521   -0.800078       1.3601      0.319503    1.2047\n",
       "  0.110265   1.56796     0.121427   …   1.44905     1.6954     -0.348939\n",
       "  0.391195   1.34717     0.34941       -1.4412      2.76285     0.200874\n",
       "  0.3418     0.682128   -0.0504614     -0.489823   -1.01055     0.002131\n",
       "  ⋮                                 ⋱                           ⋮\n",
       "  0.139283   0.354961    0.314041       0.418517    0.843765    1.78996\n",
       "  1.03893    0.106696    0.623642   …  -0.218467    0.204666    0.10815\n",
       "  1.1006     1.259      -0.595224      -0.74822     1.34497    -1.02499\n",
       " -0.487241   1.38356    -0.826082      -1.63425     0.715024    0.782155\n",
       "  0.601316   1.09881    -0.255943       1.15745     0.991358    1.46586\n",
       "  0.180556  -0.110372   -0.0759681     -0.458694   -0.478298    0.647031\n",
       " -1.01407   -2.56302     0.537894   …  -0.581325    0.0227866   0.0322253\n",
       " -1.88124   -0.343772   -1.37501       -0.371209   -0.859014   -2.81891\n",
       " -0.153735   0.615775    0.943275       1.35179     0.519568   -0.519435\n",
       "  0.451596   0.895527   -1.38347        4.98581    -2.05122     0.408265\n",
       "  0.924806  -1.94368     0.437127      -2.05122     5.84397     0.747632\n",
       " -0.73356   -0.357162    0.229985   …   0.408265    0.747632    5.91024"
      ]
     },
     "execution_count": 34,
     "metadata": {},
     "output_type": "execute_result"
    }
   ],
   "source": [
    "edM2"
   ]
  },
  {
   "cell_type": "code",
   "execution_count": 35,
   "id": "a4d5952e-473f-4f9a-b051-819bbc67a055",
   "metadata": {},
   "outputs": [
    {
     "name": "stdout",
     "output_type": "stream",
     "text": [
      "Main.EigenDecomposedMatrices.EigenDecomposed{Float64, Symmetric{Float64, Matrix{Float64}}, Vector{Float64}, Matrix{Float64}, Adjoint{Float64, Matrix{Float64}}}\n",
      "  A: Symmetric{Float64, Matrix{Float64}}\n",
      "    data: Array{Float64}((256, 256)) [3.8509839198236686 0.6549994301800877 … 0.9248060066688447 -0.7335596326354893; 0.19812333355458134 5.650439338336893 … -1.9436821805927027 -0.3571621991841546; … ; 1.0975275361997898 -2.712274801268304 … 5.843971125545126 0.7476322646239064; 0.08737024898538669 1.490779151377127 … 2.138199034410058 5.910235294496456]\n",
      "    uplo: Char 'U'\n",
      "  E: Array{Float64}((256,)) [-26.22951260582353, -25.86700583128568, -25.385457524596717, -24.588820333945726, -24.436625531648033, -23.771072170581185, -23.057241407868787, -22.517899160828343, -22.236388200760558, -21.98726345846221  …  31.91892242294034, 32.51642871229246, 32.736023745647344, 33.02108560490655, 33.626011407359684, 33.73042990481509, 34.56491515347458, 35.035499594604545, 35.498385741856794, 35.97248716028982]\n",
      "  P: Array{Float64}((256, 256)) [-0.041583114334806465 0.027517718341072563 … -0.04894743139760868 0.03669856657961574; 0.00783420884507412 -0.08631908794997564 … -0.12065229346885332 -0.03076061140711961; … ; -0.060318302430257945 0.051382814585591075 … -0.02010182534868296 -0.0085120222668712; 0.030489354921558937 0.008933783088751155 … -0.07108741072120998 0.09838671327382538]\n",
      "  invP: Adjoint{Float64, Matrix{Float64}}\n",
      "    parent: Array{Float64}((256, 256)) [-0.041583114334806465 0.027517718341072563 … -0.04894743139760868 0.03669856657961574; 0.00783420884507412 -0.08631908794997564 … -0.12065229346885332 -0.03076061140711961; … ; -0.060318302430257945 0.051382814585591075 … -0.02010182534868296 -0.0085120222668712; 0.030489354921558937 0.008933783088751155 … -0.07108741072120998 0.09838671327382538]\n"
     ]
    }
   ],
   "source": [
    "dump(edM2)"
   ]
  },
  {
   "cell_type": "code",
   "execution_count": 36,
   "id": "48b70d58-74b6-4a9e-a95b-9973cc775118",
   "metadata": {},
   "outputs": [
    {
     "data": {
      "text/plain": [
       "true"
      ]
     },
     "execution_count": 36,
     "metadata": {},
     "output_type": "execute_result"
    }
   ],
   "source": [
    "M2 == parent(edM2) == Matrix(edM2)"
   ]
  },
  {
   "cell_type": "code",
   "execution_count": 37,
   "id": "0dde64d3-71f4-40de-a2a8-c5bd79e24d64",
   "metadata": {},
   "outputs": [
    {
     "data": {
      "text/plain": [
       "true"
      ]
     },
     "execution_count": 37,
     "metadata": {},
     "output_type": "execute_result"
    }
   ],
   "source": [
    "M2 ≈ edM2"
   ]
  },
  {
   "cell_type": "code",
   "execution_count": 38,
   "id": "f0a53088-b448-4880-b082-265b9f435b06",
   "metadata": {},
   "outputs": [
    {
     "data": {
      "text/plain": [
       "true"
      ]
     },
     "execution_count": 38,
     "metadata": {},
     "output_type": "execute_result"
    }
   ],
   "source": [
    "c2*M2 ≈ c2*edM2 ≈ edM2*c2"
   ]
  },
  {
   "cell_type": "code",
   "execution_count": 39,
   "id": "b3cf000b-7d36-4354-ad55-324218517899",
   "metadata": {},
   "outputs": [
    {
     "data": {
      "text/plain": [
       "true"
      ]
     },
     "execution_count": 39,
     "metadata": {},
     "output_type": "execute_result"
    }
   ],
   "source": [
    "c2\\M2 ≈ c2\\edM2 ≈ edM2/c2"
   ]
  },
  {
   "cell_type": "code",
   "execution_count": 40,
   "id": "8a9f4b9d-964e-4ddf-950e-7ed6eae067e6",
   "metadata": {},
   "outputs": [
    {
     "data": {
      "text/plain": [
       "true"
      ]
     },
     "execution_count": 40,
     "metadata": {},
     "output_type": "execute_result"
    }
   ],
   "source": [
    "(\n",
    "    exp(M2)\n",
    "    ≈ exp(edM2)\n",
    "    ≈ EigenDecomposedMatrices.exp_old(edM2)\n",
    "    ≈ EigenDecomposedMatrices.exp_eigendecomposed!(Y2, edM2)\n",
    "    ≈ EigenDecomposedMatrices.exp_eigendecomposed!(Y2, edM2, expE2, tmpY2)\n",
    ")"
   ]
  },
  {
   "cell_type": "code",
   "execution_count": 41,
   "id": "8ab2727d-78d0-404c-9c28-045d1a79241d",
   "metadata": {},
   "outputs": [
    {
     "name": "stdout",
     "output_type": "stream",
     "text": [
      "typeof(y2) = Vector{Float64}\n"
     ]
    },
    {
     "data": {
      "text/plain": [
       "true"
      ]
     },
     "execution_count": 41,
     "metadata": {},
     "output_type": "execute_result"
    }
   ],
   "source": [
    "@show typeof(y2)\n",
    "mul!(y2, M2, v2, alpha2, beta2) ≈ mul!(y2, edM2, v2, alpha2, beta2)"
   ]
  },
  {
   "cell_type": "code",
   "execution_count": 42,
   "id": "2ba1d808-754a-4075-8c5a-122fa6360e62",
   "metadata": {},
   "outputs": [
    {
     "name": "stdout",
     "output_type": "stream",
     "text": [
      "typeof(tmpy2) = Vector{Float64}\n"
     ]
    },
    {
     "data": {
      "text/plain": [
       "true"
      ]
     },
     "execution_count": 42,
     "metadata": {},
     "output_type": "execute_result"
    }
   ],
   "source": [
    "@show typeof(tmpy2)\n",
    "(\n",
    "    exp(M2) * v2\n",
    "    ≈ exp(edM2) * v2\n",
    "    ≈ EigenDecomposedMatrices.exp_old(edM2) * v2\n",
    "    ≈ mul!(tmpy2, EigenDecomposedMatrices.exp_eigendecomposed!(Y2, edM2), v2)\n",
    "    ≈ mul!(tmpy2, EigenDecomposedMatrices.exp_eigendecomposed!(Y2, edM2, expE2, tmpY2), v2)\n",
    ")"
   ]
  },
  {
   "cell_type": "code",
   "execution_count": 43,
   "id": "a1925b60-427c-45ed-9053-2d79a9d412af",
   "metadata": {},
   "outputs": [
    {
     "name": "stdout",
     "output_type": "stream",
     "text": [
      "  6.068 ms (14 allocations: 1.59 MiB)\n"
     ]
    }
   ],
   "source": [
    "@btime edM2 = EigenDecomposedMatrices.EigenDecomposed(M2);"
   ]
  },
  {
   "cell_type": "code",
   "execution_count": 44,
   "id": "2292854e-259d-4615-8551-8c2c6060b7b5",
   "metadata": {},
   "outputs": [
    {
     "name": "stdout",
     "output_type": "stream",
     "text": [
      "  6.704 ms (19 allocations: 2.60 MiB)\n",
      "  669.000 μs (6 allocations: 1.00 MiB)\n",
      "  668.100 μs (6 allocations: 1.00 MiB)\n",
      "  647.000 μs (3 allocations: 514.17 KiB)\n",
      "  618.200 μs (0 allocations: 0 bytes)\n"
     ]
    }
   ],
   "source": [
    "@btime exp($M2) * $v2\n",
    "@btime exp($edM2) * $v2\n",
    "@btime EigenDecomposedMatrices.exp_old($edM2) * $v2\n",
    "@btime mul!($tmpy2, EigenDecomposedMatrices.exp_eigendecomposed!($Y2, $edM2), $v2)\n",
    "@btime mul!($tmpy2, EigenDecomposedMatrices.exp_eigendecomposed!($Y2, $edM2, $expE2, $tmpY2), $v2);"
   ]
  },
  {
   "cell_type": "code",
   "execution_count": null,
   "id": "ba4c485f-0f08-4cb5-be8f-990f48c6c6f7",
   "metadata": {},
   "outputs": [],
   "source": []
  }
 ],
 "metadata": {
  "jupytext": {
   "formats": "ipynb,jl:hydrogen"
  },
  "kernelspec": {
   "display_name": "Julia 1.9.0-beta2",
   "language": "julia",
   "name": "julia-1.9"
  },
  "language_info": {
   "file_extension": ".jl",
   "mimetype": "application/julia",
   "name": "julia",
   "version": "1.9.0"
  }
 },
 "nbformat": 4,
 "nbformat_minor": 5
}
