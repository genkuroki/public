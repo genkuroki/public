{
 "cells": [
  {
   "cell_type": "code",
   "execution_count": 1,
   "id": "3e5f6eed-02cd-4672-9ceb-82f18d2b6248",
   "metadata": {},
   "outputs": [
    {
     "data": {
      "text/plain": [
       "rd (generic function with 1 method)"
      ]
     },
     "execution_count": 1,
     "metadata": {},
     "output_type": "execute_result"
    }
   ],
   "source": [
    "using Distributions\n",
    "using StatsPlots\n",
    "default(fmt=:png, size=(400, 250),\n",
    "    titlefontsize=8, tickfontsize=6, legendfontsize=7, guidefontsize=7)\n",
    "rd(x) = round(x; digits=3)"
   ]
  },
  {
   "cell_type": "markdown",
   "id": "6b870c68-21fb-4a4c-9f91-067d86c3cfa5",
   "metadata": {},
   "source": [
    "$$\n",
    "\\begin{matrix}\n",
    "  &       &          & U   & & \\\\\n",
    "  &       & \\swarrow &     & \\searrow & \\\\\n",
    "Z & \\to X & \\to      & \\to & \\to & Y \\\\\n",
    "\\end{matrix}\n",
    "\\quad\n",
    "\\begin{cases}\n",
    "X = bZ + pU + \\sigma_1\\varepsilon_1 \\\\\n",
    "Y = aX + qU + \\sigma_2\\varepsilon_2 \\\\\n",
    "\\end{cases}\n",
    "\\quad\n",
    "\\begin{cases}\n",
    "\\text{$\\varepsilon_1,\\varepsilon_2,Z$ are independent and have mean zero.} \\\\\n",
    "E[X^2] = b^2 + p^2 + \\sigma_1^2 := 1 \\\\\n",
    "\\end{cases}\n",
    "$$"
   ]
  },
  {
   "cell_type": "code",
   "execution_count": 2,
   "id": "4463afd4-2480-4fda-a146-5b82b9e806b8",
   "metadata": {},
   "outputs": [
    {
     "data": {
      "text/plain": [
       "4×100 Matrix{Float64}:\n",
       " 1.515  -0.944   0.42   -1.002  -0.93   …   0.073  -3.037  0.329   0.073\n",
       " 3.04   -3.213  -0.599  -0.511  -0.384     -1.316  -8.573  1.069  -0.422\n",
       " 0.951  -0.329   1.371  -1.076  -1.759      0.538  -0.452  0.197   0.652\n",
       " 0.98   -1.525  -0.624   0.173   0.308     -0.967  -4.05   0.254  -0.336"
      ]
     },
     "execution_count": 2,
     "metadata": {},
     "output_type": "execute_result"
    }
   ],
   "source": [
    "function rand_XYZU(; σ₁, σ₂, a, b, p = √(1-b^2-σ₁^2), q)\n",
    "    U = randn()\n",
    "    Z = randn()\n",
    "    X = b*Z + p*U + σ₁*randn()\n",
    "    Y = a*X + q*U + σ₂*randn()\n",
    "    [X, Y, Z, U]\n",
    "end\n",
    "\n",
    "function rand_XYZU(n;\n",
    "        σ₁ = 0.2, σ₂ = 0.2, \n",
    "        a = 1.0, b = √((1 - σ₁^2)/2), p = √(1-b^2-σ₁^2), q = 1/p)\n",
    "    [rand_XYZU(; σ₁, σ₂, a, b, p, q) for _ in 1:n] |> stack\n",
    "end\n",
    "\n",
    "rand_XYZU(100) .|> rd"
   ]
  },
  {
   "cell_type": "code",
   "execution_count": 3,
   "id": "cd59b0fb-9277-41f9-a093-f6fe13456d5c",
   "metadata": {},
   "outputs": [
    {
     "data": {
      "text/plain": [
       "show_XYZU (generic function with 2 methods)"
      ]
     },
     "execution_count": 3,
     "metadata": {},
     "output_type": "execute_result"
    }
   ],
   "source": [
    "function show_XYZU(n = 10^6;\n",
    "        σ₁ = 0.2, σ₂ = 0.2, \n",
    "        a = 1.0, b = √((1 - σ₁^2)/2), p = √(1-b^2-σ₁^2), q = 1/p)\n",
    "    println(\"====== model parameters\")\n",
    "    @show rd(σ₁) rd(σ₂) rd(a) rd(b) rd(p) rd(q) n\n",
    "    println()\n",
    "\n",
    "    data = rand_XYZU(n; σ₁, σ₂, a, b, p, q)\n",
    "    X, Y, Z, U = eachrow(data)\n",
    "    println(\"====== summary of data\")\n",
    "    @show rd.(mean.((X, Y, Z, U)))\n",
    "    @show rd.(var.((X, Y, Z, U)))\n",
    "    @show rd.(std.((X, Y, Z, U)))\n",
    "    println()\n",
    "\n",
    "    println(\"====== resgressions\")\n",
    "    println(\"=== Y ~ α₁X\")\n",
    "    α = [X;;] \\ Y\n",
    "    @show rd(a + p*q)\n",
    "    @show rd.(α)\n",
    "    println(\"=== Y ∼ β₁Z\")\n",
    "    β = [Z;;] \\ Y\n",
    "    @show rd.(a*b)\n",
    "    @show rd.(β)\n",
    "    println(\"=== X ∼ γ₁Z\")\n",
    "    γ = [Z;;] \\ X\n",
    "    @show rd.(b)\n",
    "    @show rd.(γ)\n",
    "    println(\"=== instrumental variable method\")\n",
    "    @show rd(a)\n",
    "    @show rd(β[1]/γ[1])\n",
    "    println()\n",
    "\n",
    "    println(\"====== errors of prediction for Y\")\n",
    "    err_α = @. Y - α[1]*X\n",
    "    err_β = @. Y - β[1]/γ[1]*Z\n",
    "    @show rd.(mean.((err_α, err_β)))\n",
    "    @show rd.(var.((err_α, err_β)))\n",
    "    @show rd.(std.((err_α, err_β)))\n",
    "    println()\n",
    "\n",
    "    plot()\n",
    "    stephist!(err_α; norm=true, label=\"Y ∼ X\", ls=:solid)\n",
    "    stephist!(err_β; norm=true, label=\"Y ∼ Z\", ls=:dash)\n",
    "    plot!(xguide=\"error of prediction for Y\")\n",
    "end"
   ]
  },
  {
   "cell_type": "code",
   "execution_count": 4,
   "id": "45a901d9-2e20-4a18-a505-c81c77fe5b2e",
   "metadata": {},
   "outputs": [
    {
     "name": "stdout",
     "output_type": "stream",
     "text": [
      "====== model parameters\n",
      "rd(σ₁) = 0.2\n",
      "rd(σ₂) = 0.2\n",
      "rd(a) = 2.0\n",
      "rd(b) = 0.693\n",
      "rd(p) = 0.693\n",
      "rd(q) = 1.443\n",
      "n = 1000000\n",
      "\n",
      "====== summary of data\n",
      "rd.(mean.((X, Y, Z, U))) = (0.0, -0.001, 0.001, -0.001)\n",
      "rd.(var.((X, Y, Z, U))) = (1.0, 10.12, 1.0, 0.999)\n",
      "rd.(std.((X, Y, Z, U))) = (1.0, 3.181, 1.0, 1.0)\n",
      "\n",
      "====== resgressions\n",
      "=== Y ~ α₁X\n",
      "rd(a + p * q) = 3.0\n",
      "rd.(α) = [3.0]\n",
      "=== Y ∼ β₁Z\n",
      "rd.(a * b) = 1.386\n",
      "rd.(β) = [1.387]\n",
      "=== X ∼ γ₁Z\n",
      "rd.(b) = 0.693\n",
      "rd.(γ) = [0.693]\n",
      "=== instrumental variable method\n",
      "rd(a) = 2.0\n",
      "rd(β[1] / γ[1]) = 2.001\n",
      "\n",
      "====== errors of prediction for Y\n",
      "rd.(mean.((err_α, err_β))) = (-0.001, -0.002)\n",
      "rd.(var.((err_α, err_β))) = (1.121, 8.574)\n",
      "rd.(std.((err_α, err_β))) = (1.059, 2.928)\n",
      "\n"
     ]
    },
    {
     "data": {
      "image/png": "[encoded data removed]"
     },
     "execution_count": 4,
     "metadata": {},
     "output_type": "execute_result"
    }
   ],
   "source": [
    "show_XYZU(a=2)"
   ]
  },
  {
   "cell_type": "code",
   "execution_count": 5,
   "id": "0b0043ab-6117-4475-969f-7d1cc75ba450",
   "metadata": {},
   "outputs": [
    {
     "name": "stdout",
     "output_type": "stream",
     "text": [
      "====== model parameters\n",
      "rd(σ₁) = 0.2\n",
      "rd(σ₂) = 0.2\n",
      "rd(a) = 2.0\n",
      "rd(b) = 0.4\n",
      "rd(p) = 0.894\n",
      "rd(q) = 1.118\n",
      "n = 1000000\n",
      "\n",
      "====== summary of data\n",
      "rd.(mean.((X, Y, Z, U))) = (-0.001, -0.003, 0.001, -0.001)\n",
      "rd.(var.((X, Y, Z, U))) = (1.0, 9.291, 0.999, 1.0)\n",
      "rd.(std.((X, Y, Z, U))) = (1.0, 3.048, 0.999, 1.0)\n",
      "\n",
      "====== resgressions\n",
      "=== Y ~ α₁X\n",
      "rd(a + p * q) = 3.0\n",
      "rd.(α) = [3.0]\n",
      "=== Y ∼ β₁Z\n",
      "rd.(a * b) = 0.8\n",
      "rd.(β) = [0.801]\n",
      "=== X ∼ γ₁Z\n",
      "rd.(b) = 0.4\n",
      "rd.(γ) = [0.4]\n",
      "=== instrumental variable method\n",
      "rd(a) = 2.0\n",
      "rd(β[1] / γ[1]) = 2.001\n",
      "\n",
      "====== errors of prediction for Y\n",
      "rd.(mean.((err_α, err_β))) = (-0.001, -0.006)\n",
      "rd.(var.((err_α, err_β))) = (0.29, 10.087)\n",
      "rd.(std.((err_α, err_β))) = (0.538, 3.176)\n",
      "\n"
     ]
    },
    {
     "data": {
      "image/png": "[encoded data removed]"
     },
     "execution_count": 5,
     "metadata": {},
     "output_type": "execute_result"
    }
   ],
   "source": [
    "show_XYZU(a=2, b=0.4)"
   ]
  },
  {
   "cell_type": "code",
   "execution_count": 6,
   "id": "bc9eb832-cb96-451a-a61b-969f7263227e",
   "metadata": {},
   "outputs": [
    {
     "name": "stdout",
     "output_type": "stream",
     "text": [
      "====== model parameters\n",
      "rd(σ₁) = 0.2\n",
      "rd(σ₂) = 0.2\n",
      "rd(a) = 2.0\n",
      "rd(b) = 0.97\n",
      "rd(p) = 0.138\n",
      "rd(q) = 7.236\n",
      "n = 1000000\n",
      "\n",
      "====== summary of data\n",
      "rd.(mean.((X, Y, Z, U))) = (-0.001, -0.001, -0.001, 0.0)\n",
      "rd.(var.((X, Y, Z, U))) = (0.997, 60.352, 0.997, 1.0)\n",
      "rd.(std.((X, Y, Z, U))) = (0.999, 7.769, 0.999, 1.0)\n",
      "\n",
      "====== resgressions\n",
      "=== Y ~ α₁X\n",
      "rd(a + p * q) = 3.0\n",
      "rd.(α) = [2.999]\n",
      "=== Y ∼ β₁Z\n",
      "rd.(a * b) = 1.94\n",
      "rd.(β) = [1.939]\n",
      "=== X ∼ γ₁Z\n",
      "rd.(b) = 0.97\n",
      "rd.(γ) = [0.97]\n",
      "=== instrumental variable method\n",
      "rd(a) = 2.0\n",
      "rd(β[1] / γ[1]) = 1.998\n",
      "\n",
      "====== errors of prediction for Y\n",
      "rd.(mean.((err_α, err_β))) = (0.003, 0.002)\n",
      "rd.(var.((err_α, err_β))) = (51.381, 56.608)\n",
      "rd.(std.((err_α, err_β))) = (7.168, 7.524)\n",
      "\n"
     ]
    },
    {
     "data": {
      "image/png": "[encoded data removed]"
     },
     "execution_count": 6,
     "metadata": {},
     "output_type": "execute_result"
    }
   ],
   "source": [
    "show_XYZU(a=2.0, b=0.97)"
   ]
  },
  {
   "cell_type": "code",
   "execution_count": null,
   "id": "39a24a99-b77b-40ff-81b9-51256716821f",
   "metadata": {},
   "outputs": [],
   "source": []
  }
 ],
 "metadata": {
  "jupytext": {
   "encoding": "# -*- coding: utf-8 -*-",
   "formats": "ipynb,jl:hydrogen"
  },
  "kernelspec": {
   "display_name": "Julia 1.9.0-beta3",
   "language": "julia",
   "name": "julia-1.9"
  },
  "language_info": {
   "file_extension": ".jl",
   "mimetype": "application/julia",
   "name": "julia",
   "version": "1.9.0"
  }
 },
 "nbformat": 4,
 "nbformat_minor": 5
}
