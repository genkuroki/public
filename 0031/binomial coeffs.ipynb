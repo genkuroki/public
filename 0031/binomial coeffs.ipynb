{
 "cells": [
  {
   "cell_type": "code",
   "execution_count": 1,
   "id": "0108d3a7-3e50-4609-b14e-f50727b0007a",
   "metadata": {},
   "outputs": [
    {
     "data": {
      "text/plain": [
       "361380499593643812415417731358348955261176375524921026758907671524014137766292657301589010141914502942429030462990641845084565050679073846373782637032318146219400290646391777497815452511872909766186171104003596192703690399438129208400228549288339722016128471948205645327899260071267905210828852878818940727331392546158729850621569920203187033270059881974717706807800"
      ]
     },
     "execution_count": 1,
     "metadata": {},
     "output_type": "execute_result"
    }
   ],
   "source": [
    "binomial(big(2000), 300)"
   ]
  },
  {
   "cell_type": "code",
   "execution_count": 2,
   "id": "1c53788f-07f1-4492-9818-a07d33ee49ac",
   "metadata": {},
   "outputs": [
    {
     "data": {
      "text/plain": [
       "841.7283201755836"
      ]
     },
     "execution_count": 2,
     "metadata": {},
     "output_type": "execute_result"
    }
   ],
   "source": [
    "using SpecialFunctions\n",
    "logbinomial(n, k) = logfactorial(n) - logfactorial(k) - logfactorial(n-k)\n",
    "a = logbinomial(2000, 300)"
   ]
  },
  {
   "cell_type": "code",
   "execution_count": 3,
   "id": "69689426-9981-4420-97c1-149411f5a968",
   "metadata": {},
   "outputs": [
    {
     "data": {
      "text/plain": [
       "Inf"
      ]
     },
     "execution_count": 3,
     "metadata": {},
     "output_type": "execute_result"
    }
   ],
   "source": [
    "exp(a)"
   ]
  },
  {
   "cell_type": "code",
   "execution_count": 4,
   "id": "a44a2b54-8aa7-472f-97bb-2286faebf582",
   "metadata": {},
   "outputs": [
    {
     "data": {
      "text/plain": [
       "-236.15935142660578"
      ]
     },
     "execution_count": 4,
     "metadata": {},
     "output_type": "execute_result"
    }
   ],
   "source": [
    "logprob(n, p, k) = logbinomial(n, k) + k*log(p) + (n-k)*log(1-p)\n",
    "b = logprob(2000, 0.3, 200)"
   ]
  },
  {
   "cell_type": "code",
   "execution_count": 5,
   "id": "8a709ad3-24ef-43c1-aaf6-4d9118db90a6",
   "metadata": {},
   "outputs": [
    {
     "data": {
      "text/plain": [
       "2.737138828874951e-103"
      ]
     },
     "execution_count": 5,
     "metadata": {},
     "output_type": "execute_result"
    }
   ],
   "source": [
    "exp(b)"
   ]
  },
  {
   "cell_type": "code",
   "execution_count": 6,
   "id": "f5549aec-cb30-42dd-8b15-74ea8b888d93",
   "metadata": {},
   "outputs": [
    {
     "name": "stdout",
     "output_type": "stream",
     "text": [
      "c = logsumexp((logprob(2000, 0.3, k) for k = 0:560)) = -3.6345798290390183\n"
     ]
    },
    {
     "data": {
      "text/plain": [
       "0.02639502247977427"
      ]
     },
     "execution_count": 6,
     "metadata": {},
     "output_type": "execute_result"
    }
   ],
   "source": [
    "using StatsFuns\n",
    "@show c = logsumexp(logprob(2000, 0.3, k) for k in 0:560)\n",
    "exp(c)"
   ]
  },
  {
   "cell_type": "code",
   "execution_count": 7,
   "id": "1dbf8f36-71ad-455f-b9bd-ba4f3f1675ba",
   "metadata": {},
   "outputs": [
    {
     "data": {
      "text/plain": [
       "0.02639502247973931"
      ]
     },
     "execution_count": 7,
     "metadata": {},
     "output_type": "execute_result"
    }
   ],
   "source": [
    "using Distributions\n",
    "cdf(Binomial(2000, 0.3), 560)"
   ]
  },
  {
   "cell_type": "code",
   "execution_count": null,
   "id": "f96052b9-0105-4d66-a016-ab2a14c6b09c",
   "metadata": {},
   "outputs": [],
   "source": []
  }
 ],
 "metadata": {
  "jupytext": {
   "formats": "ipynb,jl:hydrogen"
  },
  "kernelspec": {
   "display_name": "Julia 1.7.3",
   "language": "julia",
   "name": "julia-1.7"
  },
  "language_info": {
   "file_extension": ".jl",
   "mimetype": "application/julia",
   "name": "julia",
   "version": "1.7.3"
  }
 },
 "nbformat": 4,
 "nbformat_minor": 5
}
