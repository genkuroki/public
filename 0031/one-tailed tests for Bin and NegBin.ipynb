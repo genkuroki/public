{
 "cells": [
  {
   "cell_type": "markdown",
   "id": "4e711615-900d-4c24-a1bc-74f987c2abef",
   "metadata": {},
   "source": [
    "# 二項分布と負の二項分布の片側検定のP値\n",
    "\n",
    "* 黒木玄\n",
    "* 2022-06-06\n",
    "\n",
    "$\n",
    "\\newcommand\\op{\\operatorname}\n",
    "\\newcommand\\Beta{\\op{Beta}}\n",
    "\\newcommand\\Binomial{\\op{Binomial}}\n",
    "\\newcommand\\NegativeBinomial{\\op{NegativeBinomial}}\n",
    "\\newcommand\\Bin{\\op{Bin}}\n",
    "\\newcommand\\NegBin{\\op{NegBin}}\n",
    "\\newcommand\\pmf{\\op{pmf}}\n",
    "\\newcommand\\pdf{\\op{pdf}}\n",
    "\\newcommand\\cdf{\\op{cdf}}\n",
    "\\newcommand\\ccdf{\\op{ccdf}}\n",
    "$"
   ]
  },
  {
   "cell_type": "markdown",
   "id": "2e96de80-f392-4b99-b839-2f8ca889f049",
   "metadata": {},
   "source": [
    "一般に次が成立している:\n",
    "\n",
    "$$\n",
    "\\begin{aligned}\n",
    "&\n",
    "\\frac{\\int_0^p t^{k-1}(1-t)^{n-k}\\,dt}{B(k, n-k+1)} =\n",
    "\\sum_{i=k}^n \\binom{n}{i} p^i (1-p)^{n-i} =\n",
    "\\sum_{j=k}^n \\binom{j-1}{k-1} p^k (1-p)^{j-k},\n",
    "\\\\ &\n",
    "\\frac{\\int_p^1 t^{k}(1-t)^{n-k-1}\\,dt}{B(k+1, n-k)} =\n",
    "\\sum_{i=0}^k \\binom{n}{i} p^i (1-p)^{n-i} =\n",
    "\\sum_{j=n+1}^\\infty \\binom{j-1}{(k+1)-1} p^{k+1} (1-p)^{j-(k+1)},\n",
    "\\\\ &\n",
    "\\frac{\\int_p^1 t^{k-1}(1-t)^{n-k-1}\\,dt}{B(k, n-k)} =\n",
    "\\sum_{i=0}^{k-1} \\binom{n-1}{i} p^i (1-p)^{(n-1)-i} =\n",
    "\\sum_{j=n}^\\infty \\binom{j-1}{k-1} p^k (1-p)^{j-k}.\n",
    "\\end{aligned}\n",
    "$$\n",
    "\n",
    "これは「試行回数 $n$, 成功回数 $k$」というデータについて, 以下のようになることを含む:\n",
    "\n",
    "$$\n",
    "\\begin{aligned}\n",
    "&\n",
    "(\\text{二項分布 $\\Binomial(n, p)$ での仮説 $p\\le p_0$ の片側検定のP値}) \\\\ &=\n",
    "(\\text{負の二項分布 $\\NegativeBinomial(k, p)$ での仮説 $p\\le p_0$ の片側検定のP値}) \\\\ &=\n",
    "(\\text{ベータ分布 $\\Beta(k, n-k+1)$ 内で仮説 $p\\le p_0$ が成立する確率})\n",
    "\\\\ &\n",
    "\\quad\n",
    "\\\\ &\n",
    "(\\text{二項分布 $\\Binomial(n, p)$ での仮説 $p\\ge p_0$ の片側検定のP値}) \\\\ &=\n",
    "(\\text{ベータ分布 $\\Beta(k+1, n-k)$ 内で仮説 $p\\ge p_0$ が成立する確率})\n",
    "\\\\ &\n",
    "\\quad\n",
    "\\\\ &\n",
    "(\\text{負の二項分布 $\\NegativeBinomial(k, p)$ での仮説 $p\\ge p_0$ の片側検定のP値}) \\\\ &=\n",
    "(\\text{ベータ分布 $\\Beta(k, n-k)$ 内で仮説 $p\\ge p_0$ が成立する確率}).\n",
    "\\end{aligned}\n",
    "$$\n",
    "\n",
    "これは以下が成立していることを意味している:\n",
    "\n",
    "(1) 二項分布 $\\Binomial(n, p)$ と負の二項分布 $\\NegativeBinomial(k, p)$ のどちらにおいても, 仮説 $p\\le p_0$ の片側検定のP値は, improper事前分布 $\\Beta(0, 1)$ から定まる事後分布内でその仮説が成立する確率に等しい.\n",
    "\n",
    "(2) 二項分布 $\\Binomial(n, p)$ での仮説 $p\\ge p_0$ の片側検定のP値は, improper事前分布 $\\Beta(1, 0)$ から定まる事後分布内でその仮説が成立する確率に等しい.\n",
    "\n",
    "(3) 負の二項分布 $\\NegativeBinomial(k, p)$ での仮説 $p\\ge p_0$ の片側検定のP値は, improper事前分布 $\\Beta(0, 0)$ から定まる事後分布内で仮説 $p\\ge p_0$ が成立する確率に等しい.\n",
    "\n",
    "このとき, (2)と(3)が一致していないことに注意せよ."
   ]
  },
  {
   "cell_type": "code",
   "execution_count": 1,
   "id": "2480d0f4-c432-492b-8573-7086142efeb5",
   "metadata": {},
   "outputs": [],
   "source": [
    "using Distributions\n",
    "#using StatsPlots"
   ]
  },
  {
   "cell_type": "code",
   "execution_count": 2,
   "id": "10a7bbe3-9779-4344-a1d1-392a9e2f74a5",
   "metadata": {},
   "outputs": [
    {
     "name": "stdout",
     "output_type": "stream",
     "text": [
      "n = 12\n",
      "k = 3\n",
      "p = 0.5\n",
      "\n",
      "sum((binomial(n, i) * p ^ i * (1 - p) ^ (n - i) for i = k:n)) = 0.980712890625\n",
      "sum((binomial(j - 1, k - 1) * p ^ k * (1 - p) ^ (j - k) for j = k:n)) = 0.980712890625\n",
      "cdf(Beta(k, (n - k) + 1), p) = 0.980712890625\n",
      "\n",
      "sum((binomial(n, i) * p ^ i * (1 - p) ^ (n - i) for i = 0:k)) = 0.072998046875\n",
      "1 - sum((binomial(j - 1, (k + 1) - 1) * p ^ (k + 1) * (1 - p) ^ (j - (k + 1)) for j = k + 1:n)) = 0.072998046875\n",
      "ccdf(Beta(k + 1, n - k), p) = 0.072998046875\n",
      "\n",
      "sum((binomial(n - 1, i) * p ^ i * (1 - p) ^ ((n - 1) - i) for i = 0:k - 1)) = 0.03271484375\n",
      "1 - sum((binomial(j - 1, k - 1) * p ^ k * (1 - p) ^ (j - k) for j = k:n - 1)) = 0.03271484375\n",
      "ccdf(Beta(k, n - k), p) = 0.03271484374999999\n"
     ]
    }
   ],
   "source": [
    "n, k, p = 12, 3, 0.5\n",
    "@show n k p\n",
    "println()\n",
    "\n",
    "@show sum(binomial(n, i)*p^i*(1-p)^(n-i) for i in k:n)\n",
    "@show sum(binomial(j-1, k-1)*p^k*(1-p)^(j-k) for j in k:n)\n",
    "@show cdf(Beta(k, n-k+1), p)\n",
    "println()\n",
    "\n",
    "@show sum(binomial(n, i)*p^i*(1-p)^(n-i) for i in 0:k)\n",
    "@show 1 - sum(binomial(j-1, (k+1)-1)*p^(k+1)*(1-p)^(j-(k+1)) for j in k+1:n)\n",
    "@show ccdf(Beta(k+1, n-k), p)\n",
    "println()\n",
    "\n",
    "@show sum(binomial(n-1, i)*p^i*(1-p)^((n-1)-i) for i in 0:k-1)\n",
    "@show 1 - sum(binomial(j-1, k-1)*p^k*(1-p)^(j-k) for j in k:n-1)\n",
    "@show ccdf(Beta(k, n-k), p)\n",
    ";"
   ]
  },
  {
   "cell_type": "code",
   "execution_count": 3,
   "id": "a0599944-5e67-425d-a452-7d9f685ea697",
   "metadata": {},
   "outputs": [
    {
     "name": "stdout",
     "output_type": "stream",
     "text": [
      "n = 12\n",
      "k = 3\n",
      "p = 0.5\n",
      "\n",
      "ccdf(Binomial(n, p), k - 1) = 0.980712890625\n",
      "cdf(NegativeBinomial(k, p), n - k) = 0.980712890625\n",
      "cdf(Beta(k, (n - k) + 1), p) = 0.980712890625\n",
      "\n",
      "cdf(Binomial(n, p), k) = 0.072998046875\n",
      "ccdf(NegativeBinomial(k + 1, p), ((n + 1) - 1) - (k + 1)) = 0.07299804687500007\n",
      "ccdf(Beta(k + 1, n - k), p) = 0.072998046875\n",
      "\n",
      "cdf(Binomial(n - 1, p), k - 1) = 0.03271484374999999\n",
      "ccdf(NegativeBinomial(k, p), (n - 1) - k) = 0.03271484375000003\n",
      "ccdf(Beta(k, n - k), p) = 0.03271484374999999\n"
     ]
    }
   ],
   "source": [
    "n, k, p = 12, 3, 0.5\n",
    "@show n k p\n",
    "println()\n",
    "\n",
    "@show ccdf(Binomial(n, p), k-1)\n",
    "@show cdf(NegativeBinomial(k, p), n-k)\n",
    "@show cdf(Beta(k, n-k+1), p)\n",
    "println()\n",
    "\n",
    "@show cdf(Binomial(n, p), k)\n",
    "@show ccdf(NegativeBinomial(k+1, p), (n+1)-1-(k+1))\n",
    "@show ccdf(Beta(k+1, n-k), p)\n",
    "println()\n",
    "\n",
    "@show cdf(Binomial(n-1, p), k-1)\n",
    "@show ccdf(NegativeBinomial(k, p), n-1-k)\n",
    "@show ccdf(Beta(k, n-k), p)\n",
    ";"
   ]
  },
  {
   "cell_type": "code",
   "execution_count": 4,
   "id": "13c38c50-a4dc-4a6c-9eeb-321ebc71e43a",
   "metadata": {},
   "outputs": [
    {
     "name": "stdout",
     "output_type": "stream",
     "text": [
      "n = 24\n",
      "k = 7\n",
      "p = 0.5\n",
      "\n",
      "ccdf(Binomial(n, p), k - 1) = 0.9886720776557922\n",
      "cdf(NegativeBinomial(k, p), n - k) = 0.9886720776557922\n",
      "cdf(Beta(k, (n - k) + 1), p) = 0.9886720776557922\n",
      "\n",
      "cdf(Binomial(n, p), k) = 0.03195732831954961\n",
      "ccdf(NegativeBinomial(k + 1, p), ((n + 1) - 1) - (k + 1)) = 0.0319573283195496\n",
      "ccdf(Beta(k + 1, n - k), p) = 0.03195732831954961\n",
      "\n",
      "cdf(Binomial(n - 1, p), k - 1) = 0.01734483242034915\n",
      "ccdf(NegativeBinomial(k, p), (n - 1) - k) = 0.017344832420349142\n",
      "ccdf(Beta(k, n - k), p) = 0.01734483242034915\n"
     ]
    }
   ],
   "source": [
    "n, k, p = 24, 7, 0.5\n",
    "@show n k p\n",
    "println()\n",
    "\n",
    "@show ccdf(Binomial(n, p), k-1)\n",
    "@show cdf(NegativeBinomial(k, p), n-k)\n",
    "@show cdf(Beta(k, n-k+1), p)\n",
    "println()\n",
    "\n",
    "@show cdf(Binomial(n, p), k)\n",
    "@show ccdf(NegativeBinomial(k+1, p), (n+1)-1-(k+1))\n",
    "@show ccdf(Beta(k+1, n-k), p)\n",
    "println()\n",
    "\n",
    "@show cdf(Binomial(n-1, p), k-1)\n",
    "@show ccdf(NegativeBinomial(k, p), n-1-k)\n",
    "@show ccdf(Beta(k, n-k), p)\n",
    ";"
   ]
  },
  {
   "cell_type": "code",
   "execution_count": null,
   "id": "1e7347da-446e-4272-aadf-e55d07dedec9",
   "metadata": {},
   "outputs": [],
   "source": []
  }
 ],
 "metadata": {
  "jupytext": {
   "formats": "ipynb,jl:hydrogen"
  },
  "kernelspec": {
   "display_name": "Julia 1.7.3",
   "language": "julia",
   "name": "julia-1.7"
  },
  "language_info": {
   "file_extension": ".jl",
   "mimetype": "application/julia",
   "name": "julia",
   "version": "1.7.3"
  }
 },
 "nbformat": 4,
 "nbformat_minor": 5
}
