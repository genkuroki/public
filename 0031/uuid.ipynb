{
 "cells": [
  {
   "cell_type": "markdown",
   "id": "a135b59b-64a2-4f96-9546-9d4021fa51af",
   "metadata": {},
   "source": [
    "https://discourse.julialang.org/t/look-up-uuid-of-package-by-name-in-the-general-registry/52369/2"
   ]
  },
  {
   "cell_type": "code",
   "execution_count": 1,
   "id": "c7a19500-1e4a-4881-85d6-a33f8ee52e40",
   "metadata": {},
   "outputs": [
    {
     "data": {
      "text/plain": [
       "lookup (generic function with 1 method)"
      ]
     },
     "execution_count": 1,
     "metadata": {},
     "output_type": "execute_result"
    }
   ],
   "source": [
    "import TOML\n",
    "\n",
    "function lookup(name)\n",
    "    # Look up Registry.toml files in depots\n",
    "    tomlfiles = String[]\n",
    "    for d in DEPOT_PATH\n",
    "        regs = joinpath(d, \"registries\")\n",
    "        if isdir(regs)\n",
    "            for r in readdir(regs)\n",
    "                toml = joinpath(regs, r, \"Registry.toml\")\n",
    "                if isfile(toml)\n",
    "                    push!(tomlfiles, toml)\n",
    "                end\n",
    "            end\n",
    "        end\n",
    "    end\n",
    "\n",
    "    # Look up uuids in toml files\n",
    "    uuids = Base.UUID[]\n",
    "        for f in tomlfiles\n",
    "            toml = TOML.parsefile(f)\n",
    "            if haskey(toml, \"packages\")\n",
    "                for (k, v) in toml[\"packages\"]\n",
    "                if v[\"name\"] == name\n",
    "                   push!(uuids, Base.UUID(k))\n",
    "                end\n",
    "            end\n",
    "        end\n",
    "    end\n",
    "    return uuids\n",
    "end"
   ]
  },
  {
   "cell_type": "code",
   "execution_count": 2,
   "id": "3d492692-edf0-47b5-91f2-af7711594e3b",
   "metadata": {},
   "outputs": [
    {
     "data": {
      "text/plain": [
       "1-element Vector{Base.UUID}:\n",
       " UUID(\"fa267f1f-6049-4f14-aa54-33bafae1ed76\")"
      ]
     },
     "execution_count": 2,
     "metadata": {},
     "output_type": "execute_result"
    }
   ],
   "source": [
    "lookup(\"TOML\")"
   ]
  },
  {
   "cell_type": "code",
   "execution_count": 7,
   "id": "2813c5f3-5ffa-41b2-9aff-64a36d8ac119",
   "metadata": {},
   "outputs": [
    {
     "data": {
      "text/plain": [
       "Base.UUID[]"
      ]
     },
     "execution_count": 7,
     "metadata": {},
     "output_type": "execute_result"
    }
   ],
   "source": [
    "lookup(\"Unicode\")"
   ]
  },
  {
   "cell_type": "code",
   "execution_count": 9,
   "id": "9f3b015d-e544-4860-8703-5c68d6cb7177",
   "metadata": {},
   "outputs": [],
   "source": [
    "using UUIDs"
   ]
  },
  {
   "cell_type": "code",
   "execution_count": 10,
   "id": "17768c87-089f-43f0-8ff2-0004b51dee41",
   "metadata": {},
   "outputs": [
    {
     "data": {
      "text/plain": [
       "UUID(\"9d5d3dd0-370a-5fca-814c-8f548afa6c60\")"
      ]
     },
     "execution_count": 10,
     "metadata": {},
     "output_type": "execute_result"
    }
   ],
   "source": [
    "uuid5(uuid4(), \"Unicode\")"
   ]
  },
  {
   "cell_type": "markdown",
   "id": "7223a5b1-d4ec-47b1-94e4-5af9682cb8e7",
   "metadata": {},
   "source": [
    ".julia/environments 以下を見ればUUIDを確認でいる."
   ]
  },
  {
   "cell_type": "code",
   "execution_count": null,
   "id": "4f0f25db-80f1-49bb-beb7-d0408a07767e",
   "metadata": {},
   "outputs": [],
   "source": []
  }
 ],
 "metadata": {
  "kernelspec": {
   "display_name": "Julia 1.7.3",
   "language": "julia",
   "name": "julia-1.7"
  },
  "language_info": {
   "file_extension": ".jl",
   "mimetype": "application/julia",
   "name": "julia",
   "version": "1.7.3"
  }
 },
 "nbformat": 4,
 "nbformat_minor": 5
}
