{
 "cells": [
  {
   "cell_type": "code",
   "execution_count": 1,
   "id": "ff9b00a7-1eba-4a5b-bcb2-e13ba67b221e",
   "metadata": {},
   "outputs": [
    {
     "data": {
      "text/plain": [
       "isinstalled (generic function with 1 method)"
      ]
     },
     "execution_count": 1,
     "metadata": {},
     "output_type": "execute_result"
    }
   ],
   "source": [
    "using Pkg\n",
    "isinstalled(x::AbstractString) = x ∈ keys(Pkg.project().dependencies)"
   ]
  },
  {
   "cell_type": "code",
   "execution_count": 2,
   "id": "f1c61e94-b0cd-499d-a39d-8a3c21c281fa",
   "metadata": {},
   "outputs": [
    {
     "data": {
      "text/plain": [
       "true"
      ]
     },
     "execution_count": 2,
     "metadata": {},
     "output_type": "execute_result"
    }
   ],
   "source": [
    "isinstalled(\"IJulia\")"
   ]
  },
  {
   "cell_type": "code",
   "execution_count": 3,
   "id": "6f79c04d-0921-4955-ac24-fc756bb391ba",
   "metadata": {},
   "outputs": [
    {
     "data": {
      "text/plain": [
       "false"
      ]
     },
     "execution_count": 3,
     "metadata": {},
     "output_type": "execute_result"
    }
   ],
   "source": [
    "isinstalled(\"FooBarPackage\")"
   ]
  },
  {
   "cell_type": "code",
   "execution_count": 4,
   "id": "075c862d-b9da-4dc6-b957-2d0de05c8d54",
   "metadata": {},
   "outputs": [
    {
     "data": {
      "text/plain": [
       "Dict{String, Base.UUID} with 45 entries:\n",
       "  \"OffsetArrays\"          => UUID(\"6fe1bfb0-de20-5000-8ca7-80f57d26f881\")\n",
       "  \"MLDataUtils\"           => UUID(\"cc2ba9b6-d476-5e6d-8eaf-a92d5412d41d\")\n",
       "  \"SymPy\"                 => UUID(\"24249f21-da20-56a4-8eb1-6a02cf4ae2e6\")\n",
       "  \"Memoization\"           => UUID(\"6fafb56a-5788-4b4e-91ca-c0cea6611c73\")\n",
       "  \"Latexify\"              => UUID(\"23fbe1c1-3f47-55db-b15f-69d7ec21a316\")\n",
       "  \"StatsFuns\"             => UUID(\"4c63d2b9-4356-54db-8cca-17b64c39e42c\")\n",
       "  \"DataFrames\"            => UUID(\"a93c6f00-e57d-5684-b7b6-d8193f3e46c0\")\n",
       "  \"SpecialFunctions\"      => UUID(\"276daf66-3868-5448-9aa4-cd146d93841b\")\n",
       "  \"Turing\"                => UUID(\"fce5fe82-541a-59a6-adf8-730c64b5f9a0\")\n",
       "  \"MCMCChains\"            => UUID(\"c7f686f2-ff18-58e9-bc7b-31028e88f75d\")\n",
       "  \"Distributions\"         => UUID(\"31c24e10-a181-5473-b8eb-7969acd0382f\")\n",
       "  \"Primes\"                => UUID(\"27ebfcd6-29c5-5fa9-bf4b-fb8fc14df3ae\")\n",
       "  \"SymbolicUtils\"         => UUID(\"d1185830-fcd6-423d-90d6-eec64667417b\")\n",
       "  \"KernelDensity\"         => UUID(\"5ab0869b-81aa-558d-bb23-cbf5423bbe9b\")\n",
       "  \"LoopVectorization\"     => UUID(\"bdcacae8-1622-11e9-2a5c-532679323890\")\n",
       "  \"PrettyPrinting\"        => UUID(\"54e16d92-306c-5ea0-a30b-337be88ac337\")\n",
       "  \"Bokeh\"                 => UUID(\"c4b4474d-016b-471b-b14f-576041b951ff\")\n",
       "  \"ProgressMeter\"         => UUID(\"92933f4c-e287-5a05-a399-4b506db050ca\")\n",
       "  \"Saiten\"                => UUID(\"24a713b4-7d5a-4899-ba30-fd153dee0342\")\n",
       "  \"CSV\"                   => UUID(\"336ed68f-0bac-5ca0-87d4-7b16caf5d00b\")\n",
       "  \"Revise\"                => UUID(\"295af30f-e4ad-537b-8983-00126c2a3abe\")\n",
       "  \"BenchmarkTools\"        => UUID(\"6e4b80f9-dd63-53aa-95a3-0cdb28fa8baf\")\n",
       "  \"Optim\"                 => UUID(\"429524aa-4258-5aef-a3af-852621145aeb\")\n",
       "  \"StatsPlots\"            => UUID(\"f3b207a7-027a-5e70-b257-86293d7955fd\")\n",
       "  \"Symbolics\"             => UUID(\"0c5d862f-8b57-4792-8d23-62f2024744c7\")\n",
       "  \"PyCall\"                => UUID(\"438e738f-606a-5dbb-bf0a-cddfbfd45ab0\")\n",
       "  \"StatsBase\"             => UUID(\"2913bbd2-ae8a-5f71-8c99-4fb6c76f3a91\")\n",
       "  \"Groebner\"              => UUID(\"0b43b601-686d-58a3-8a1c-6623616c7cd4\")\n",
       "  \"DynamicPolynomials\"    => UUID(\"7c1d4256-1411-5781-91ec-d7bc3513ac07\")\n",
       "  \"IJulia\"                => UUID(\"7073ff75-c697-5162-941a-fcdaad2a7d2a\")\n",
       "  \"Plots\"                 => UUID(\"91a5bcdd-55d7-5caf-9e0b-520d859cae80\")\n",
       "  \"PyPlot\"                => UUID(\"d330b81b-6aea-500a-939a-2ce795aea3ee\")\n",
       "  \"AbstractAlgebra\"       => UUID(\"c3fe647b-3220-5bb0-a1ea-a7954cac585d\")\n",
       "  \"QuadGK\"                => UUID(\"1fd47b50-473d-5c70-9696-f719f8f3bcdc\")\n",
       "  \"StaticArrays\"          => UUID(\"90137ffa-7385-5640-81b9-e52037218182\")\n",
       "  \"RCall\"                 => UUID(\"6f49c342-dc21-5d91-9882-a32aef131414\")\n",
       "  \"DifferentialEquations\" => UUID(\"0c46a032-eb83-5123-abaf-570d42b7fbaa\")\n",
       "  \"SimpleDiffEq\"          => UUID(\"05bca326-078c-5bf0-a5bf-ce7c7982d7fd\")\n",
       "  \"DiffEqPhysics\"         => UUID(\"055956cb-9e8b-5191-98cc-73ae4a59e68a\")\n",
       "  \"Roots\"                 => UUID(\"f2b01f46-fcfa-551c-844a-d8ac1e96c665\")\n",
       "  \"LaTeXStrings\"          => UUID(\"b964fa9f-0449-5b57-a5c2-d3ea65f4040f\")\n",
       "  \"OhMyREPL\"              => UUID(\"5fb14364-9ced-5910-84b2-373655c76a03\")\n",
       "  \"PkgTemplates\"          => UUID(\"14b8a8f1-9102-5b29-a752-f990bacb7fe1\")\n",
       "  \"RDatasets\"             => UUID(\"ce6b1742-4840-55fa-b093-852dadbb1d8b\")\n",
       "  \"Quadmath\"              => UUID(\"be4d8f0f-7fa4-5f49-b795-2f01399ab2dd\")"
      ]
     },
     "execution_count": 4,
     "metadata": {},
     "output_type": "execute_result"
    }
   ],
   "source": [
    "ENV[\"LINES\"] = 100\n",
    "Pkg.project().dependencies"
   ]
  },
  {
   "cell_type": "code",
   "execution_count": null,
   "id": "768ee8a9-01c5-4a48-acfa-209c96cdb6c7",
   "metadata": {},
   "outputs": [],
   "source": []
  },
  {
   "cell_type": "code",
   "execution_count": null,
   "id": "9a5c0784-bbbe-40f2-8b9b-12476d225d64",
   "metadata": {},
   "outputs": [],
   "source": []
  }
 ],
 "metadata": {
  "jupytext": {
   "formats": "ipynb,jl:hydrogen"
  },
  "kernelspec": {
   "display_name": "Julia 1.7.3",
   "language": "julia",
   "name": "julia-1.7"
  },
  "language_info": {
   "file_extension": ".jl",
   "mimetype": "application/julia",
   "name": "julia",
   "version": "1.7.3"
  }
 },
 "nbformat": 4,
 "nbformat_minor": 5
}
