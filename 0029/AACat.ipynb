{
 "cells": [
  {
   "cell_type": "code",
   "execution_count": 1,
   "id": "c1f520c8-8a2d-4b99-8fa8-1382bf6a2f0c",
   "metadata": {},
   "outputs": [
    {
     "data": {
      "text/plain": [
       "Main.O"
      ]
     },
     "execution_count": 1,
     "metadata": {},
     "output_type": "execute_result"
    }
   ],
   "source": [
    "module O\n",
    "\n",
    "struct AACat{T, N, U} <: AbstractArray{T, N}\n",
    "    A::U\n",
    "end\n",
    "AACat(A) = AACat{eltype(eltype(A)), ndims(eltype(A)) + ndims(A), typeof(A)}(A)\n",
    "\n",
    "function Base.size(C::AACat)\n",
    "    A = C.A\n",
    "    (size(A[begin])..., size(A)...)\n",
    "end\n",
    "\n",
    "function Base.axes(C::AACat)\n",
    "    A = C.A\n",
    "    (axes(A[begin])..., axes(A)...)\n",
    "end\n",
    "\n",
    "function Base.getindex(C::AACat, I::Integer...)\n",
    "    A = C.A\n",
    "    n = length(I) - ndims(A)\n",
    "    J = I[1:n]\n",
    "    K = I[n+1:end]\n",
    "    getindex(A[K...], J...)\n",
    "end\n",
    "\n",
    "function Base.setindex!(C::AACat, v, I::Integer...)\n",
    "    A = C.A\n",
    "    n = length(I) - ndims(A)\n",
    "    J = I[1:n]\n",
    "    K = I[n+1:end]\n",
    "    setindex!(A[K...], v, J...)\n",
    "end\n",
    "\n",
    "function aacat!(C, A::AbstractVector)\n",
    "    for i in keys(A)\n",
    "        C[axes(A[i])..., i] .= A[i]\n",
    "    end\n",
    "    C\n",
    "end\n",
    "\n",
    "function aacat!(C, A)\n",
    "    for i in keys(A)\n",
    "        C[axes(A[i])..., i.I...] .= A[i]\n",
    "    end\n",
    "    C\n",
    "end\n",
    "\n",
    "function aacat(A; A1 = A[begin])\n",
    "    C = similar(A1, axes(A1)..., axes(A)...)\n",
    "    aacat!(C, A)\n",
    "end\n",
    "\n",
    "end"
   ]
  },
  {
   "cell_type": "code",
   "execution_count": 2,
   "id": "2cba7bae-c377-4683-819a-84387d079696",
   "metadata": {},
   "outputs": [
    {
     "data": {
      "text/plain": [
       "3×2 Matrix{Matrix{Int64}}:\n",
       " [8 7 7; 2 9 2]  [0 9 1; 3 1 7]\n",
       " [5 2 4; 5 2 6]  [9 9 3; 0 3 3]\n",
       " [6 2 0; 6 3 9]  [6 4 5; 8 1 3]"
      ]
     },
     "execution_count": 2,
     "metadata": {},
     "output_type": "execute_result"
    }
   ],
   "source": [
    "A = [rand(0:9, 2, 3) for _ in Iterators.product(1:3, 1:2)]"
   ]
  },
  {
   "cell_type": "code",
   "execution_count": 3,
   "id": "5c87bddb-277f-4cff-9a2b-6a297cc05526",
   "metadata": {},
   "outputs": [
    {
     "data": {
      "text/plain": [
       "2×3×3×2 Main.O.AACat{Int64, 4, Matrix{Matrix{Int64}}}:\n",
       "[:, :, 1, 1] =\n",
       " 8  7  7\n",
       " 2  9  2\n",
       "\n",
       "[:, :, 2, 1] =\n",
       " 5  2  4\n",
       " 5  2  6\n",
       "\n",
       "[:, :, 3, 1] =\n",
       " 6  2  0\n",
       " 6  3  9\n",
       "\n",
       "[:, :, 1, 2] =\n",
       " 0  9  1\n",
       " 3  1  7\n",
       "\n",
       "[:, :, 2, 2] =\n",
       " 9  9  3\n",
       " 0  3  3\n",
       "\n",
       "[:, :, 3, 2] =\n",
       " 6  4  5\n",
       " 8  1  3"
      ]
     },
     "execution_count": 3,
     "metadata": {},
     "output_type": "execute_result"
    }
   ],
   "source": [
    "AC = O.AACat(A)"
   ]
  },
  {
   "cell_type": "code",
   "execution_count": 4,
   "id": "4cefa303-e8e9-492e-8b90-3a528b613bcf",
   "metadata": {},
   "outputs": [
    {
     "data": {
      "text/plain": [
       "3×2 OffsetArray(::Matrix{OffsetMatrix{Int64, Matrix{Int64}}}, 0:2, 0:1) with eltype OffsetMatrix{Int64, Matrix{Int64}} with indices 0:2×0:1:\n",
       " [9 3 1; 3 5 3]  [7 5 5; 5 5 9]\n",
       " [6 3 0; 6 2 7]  [4 6 8; 9 9 8]\n",
       " [9 0 8; 0 4 4]  [5 7 0; 4 8 0]"
      ]
     },
     "execution_count": 4,
     "metadata": {},
     "output_type": "execute_result"
    }
   ],
   "source": [
    "using OffsetArrays\n",
    "\n",
    "b = [OffsetArray(rand(0:9, 2, 3), 0:1, 0:2) for _ in Iterators.product(1:3, 1:2)]\n",
    "B = OffsetArray(b, 0:2, 0:1)"
   ]
  },
  {
   "cell_type": "code",
   "execution_count": 5,
   "id": "9b618f6c-3c16-4860-a347-fe3b24c0cff6",
   "metadata": {},
   "outputs": [
    {
     "data": {
      "text/plain": [
       "2×3×3×2 Main.O.AACat{Int64, 4, OffsetMatrix{OffsetMatrix{Int64, Matrix{Int64}}, Matrix{OffsetMatrix{Int64, Matrix{Int64}}}}} with indices 0:1×0:2×0:2×0:1:\n",
       "[:, :, 0, 0] =\n",
       " 9  3  1\n",
       " 3  5  3\n",
       "\n",
       "[:, :, 1, 0] =\n",
       " 6  3  0\n",
       " 6  2  7\n",
       "\n",
       "[:, :, 2, 0] =\n",
       " 9  0  8\n",
       " 0  4  4\n",
       "\n",
       "[:, :, 0, 1] =\n",
       " 7  5  5\n",
       " 5  5  9\n",
       "\n",
       "[:, :, 1, 1] =\n",
       " 4  6  8\n",
       " 9  9  8\n",
       "\n",
       "[:, :, 2, 1] =\n",
       " 5  7  0\n",
       " 4  8  0"
      ]
     },
     "execution_count": 5,
     "metadata": {},
     "output_type": "execute_result"
    }
   ],
   "source": [
    "BC = O.AACat(B)"
   ]
  },
  {
   "cell_type": "code",
   "execution_count": 6,
   "id": "e4caf847-b82a-4ccf-bb78-1361d4b70dc8",
   "metadata": {},
   "outputs": [
    {
     "data": {
      "text/plain": [
       "2×3 OffsetArray(::Matrix{Int64}, 0:1, 0:2) with eltype Int64 with indices 0:1×0:2:\n",
       " 4  6  8\n",
       " 9  9  8"
      ]
     },
     "execution_count": 6,
     "metadata": {},
     "output_type": "execute_result"
    }
   ],
   "source": [
    "BC[:, :, 1, 1]"
   ]
  },
  {
   "cell_type": "code",
   "execution_count": 7,
   "id": "1c198295-3916-46bf-8697-3d4fc5b7d46c",
   "metadata": {},
   "outputs": [
    {
     "data": {
      "text/plain": [
       "2×3 OffsetArray(::Matrix{Int64}, 0:1, 0:2) with eltype Int64 with indices 0:1×0:2:\n",
       " 4   6  8\n",
       " 9  99  8"
      ]
     },
     "execution_count": 7,
     "metadata": {},
     "output_type": "execute_result"
    }
   ],
   "source": [
    "BC[1, 1, 1, 1] = 99\n",
    "BC[:, :, 1, 1]"
   ]
  },
  {
   "cell_type": "code",
   "execution_count": 8,
   "id": "0f5ecdcd-8f43-4d21-bd44-93764411b5e8",
   "metadata": {},
   "outputs": [
    {
     "name": "stdout",
     "output_type": "stream",
     "text": [
      "  16.300 μs (2 allocations: 46.94 KiB)\n",
      "  443.655 ns (0 allocations: 0 bytes)\n",
      "s3 = 3019.4930827226012\n",
      "  1.900 ns (0 allocations: 0 bytes)\n",
      "  8.867 μs (0 allocations: 0 bytes)\n",
      "s5 = 3019.493082722603\n",
      "s3 ≈ s5 = true\n"
     ]
    }
   ],
   "source": [
    "using BenchmarkTools\n",
    "\n",
    "V = [rand(2, 3) for _ in 1:1000]\n",
    "\n",
    "C3 = @btime O.aacat($V)\n",
    "s3 = @btime sum($C3)\n",
    "@show s3\n",
    "\n",
    "C5 = @btime O.AACat($V)\n",
    "s5 = @btime sum($C5)\n",
    "@show s5\n",
    "\n",
    "@show s3 ≈ s5;"
   ]
  },
  {
   "cell_type": "code",
   "execution_count": 9,
   "id": "2a0a7889-cfa1-426d-b6d1-704b65ccc27a",
   "metadata": {},
   "outputs": [
    {
     "name": "stdout",
     "output_type": "stream",
     "text": [
      "  23.563 ms (2 allocations: 45.78 MiB)\n",
      "  2.093 ms (0 allocations: 0 bytes)\n",
      "s3 = 3.000365616833018e6\n",
      "  2.000 ns (0 allocations: 0 bytes)\n",
      "  11.511 ms (0 allocations: 0 bytes)\n",
      "s5 = 3.0003656168328323e6\n",
      "s3 ≈ s5 = true\n"
     ]
    }
   ],
   "source": [
    "using BenchmarkTools\n",
    "\n",
    "V = [rand(2, 3) for _ in 1:10^6]\n",
    "\n",
    "C3 = @btime O.aacat($V)\n",
    "s3 = @btime sum($C3)\n",
    "@show s3\n",
    "\n",
    "C5 = @btime O.AACat($V)\n",
    "s5 = @btime sum($C5)\n",
    "@show s5\n",
    "\n",
    "@show s3 ≈ s5;"
   ]
  },
  {
   "cell_type": "code",
   "execution_count": null,
   "id": "6c12e806-2d72-4c44-99ff-a027055fdbc6",
   "metadata": {},
   "outputs": [],
   "source": []
  }
 ],
 "metadata": {
  "jupytext": {
   "formats": "ipynb,md"
  },
  "kernelspec": {
   "display_name": "Julia 1.8.0-beta1",
   "language": "julia",
   "name": "julia-1.8"
  },
  "language_info": {
   "file_extension": ".jl",
   "mimetype": "application/julia",
   "name": "julia",
   "version": "1.8.0"
  }
 },
 "nbformat": 4,
 "nbformat_minor": 5
}
