{
 "cells": [
  {
   "cell_type": "code",
   "execution_count": 1,
   "id": "051cbb57-98dc-4382-8004-e160a6f3a5ac",
   "metadata": {},
   "outputs": [
    {
     "name": "stdout",
     "output_type": "stream",
     "text": [
      "VERSION = v\"1.8.0-beta1\"\n",
      "  16.631 ms (10013 allocations: 13.97 MiB)\n",
      "  5.526 ms (20648 allocations: 23.55 MiB)\n",
      "  17.500 μs (2 allocations: 46.94 KiB)\n",
      "  17.300 μs (0 allocations: 0 bytes)\n",
      "axes(C4) = (Base.OneTo(2), Base.OneTo(3), Base.OneTo(1000))\n",
      "C1 == C2 == C3 == C4 = true\n"
     ]
    }
   ],
   "source": [
    "@show VERSION\n",
    "\n",
    "using BenchmarkTools\n",
    "\n",
    "V = [rand(2, 3) for _ in 1:1000]\n",
    "\n",
    "C1 = @btime cat($V...; dims=3)\n",
    "\n",
    "C2 = @btime foldl((x, y) -> cat(x, y; dims=3), $V)\n",
    "\n",
    "function aacat!(C, A::AbstractVector)\n",
    "    for i in keys(A)\n",
    "        C[axes(A[i])..., i] .= A[i]\n",
    "    end\n",
    "    C\n",
    "end\n",
    "function aacat!(C, A)\n",
    "    for i in keys(A)\n",
    "        C[axes(A[i])..., i.I...] .= A[i]\n",
    "    end\n",
    "    C\n",
    "end\n",
    "function aacat(A; A1 = A[begin])\n",
    "    C = similar(A1, axes(A1)..., axes(A)...)\n",
    "    aacat!(C, A)\n",
    "end\n",
    "C3 = @btime aacat($V)\n",
    "\n",
    "C4 = similar(C3)\n",
    "@btime aacat!($C4, $V)\n",
    "aacat!(C4, V)\n",
    "\n",
    "@show axes(C4)\n",
    "@show C1 == C2 == C3 == C4;"
   ]
  },
  {
   "cell_type": "code",
   "execution_count": 2,
   "id": "8572ca00-3697-47f5-8c93-15d47660417c",
   "metadata": {},
   "outputs": [
    {
     "data": {
      "text/plain": [
       "3×3 OffsetArray(::Matrix{OffsetMatrix{Float64, Matrix{Float64}}}, 0:2, -2:0) with eltype OffsetMatrix{Float64, Matrix{Float64}} with indices 0:2×-2:0:\n",
       " [0.884794 0.482408 0.445004; 0.0111522 0.761849 0.45306]   …  [0.0889951 0.00375174 0.205639; 0.874426 0.712647 0.77176]\n",
       " [0.407049 0.196206 0.612513; 0.970393 0.416169 0.0157348]     [0.331117 0.363294 0.299127; 0.925211 0.856703 0.897712]\n",
       " [0.953153 0.982571 0.14442; 0.444591 0.0592617 0.0602498]     [0.0652447 0.700463 0.787878; 0.893807 0.298732 0.0059241]"
      ]
     },
     "execution_count": 2,
     "metadata": {},
     "output_type": "execute_result"
    }
   ],
   "source": [
    "using OffsetArrays\n",
    "w = [OffsetArray(rand(2, 3), 0:1, -1:1) for _ in Iterators.product(1:3, 1:3)]\n",
    "W = OffsetArray(w, 0:2, -2:0)"
   ]
  },
  {
   "cell_type": "code",
   "execution_count": 3,
   "id": "c988e1b8-eaf7-4312-a690-e07804476e8e",
   "metadata": {},
   "outputs": [
    {
     "name": "stdout",
     "output_type": "stream",
     "text": [
      "  255.091 ns (0 allocations: 0 bytes)\n"
     ]
    },
    {
     "data": {
      "text/plain": [
       "2×3×3×3 OffsetArray(::Array{Float64, 4}, 0:1, -1:1, 0:2, -2:0) with eltype Float64 with indices 0:1×-1:1×0:2×-2:0:\n",
       "[:, :, 0, -2] =\n",
       " 0.884794   0.482408  0.445004\n",
       " 0.0111522  0.761849  0.45306\n",
       "\n",
       "[:, :, 1, -2] =\n",
       " 0.407049  0.196206  0.612513\n",
       " 0.970393  0.416169  0.0157348\n",
       "\n",
       "[:, :, 2, -2] =\n",
       " 0.953153  0.982571   0.14442\n",
       " 0.444591  0.0592617  0.0602498\n",
       "\n",
       "[:, :, 0, -1] =\n",
       " 0.499203   0.46028   0.504579\n",
       " 0.0589405  0.589531  0.550563\n",
       "\n",
       "[:, :, 1, -1] =\n",
       " 0.381717  0.728156   0.207326\n",
       " 0.850348  0.0680289  0.276464\n",
       "\n",
       "[:, :, 2, -1] =\n",
       " 0.361449  0.768525  0.334865\n",
       " 0.23814   0.324103  0.655979\n",
       "\n",
       "[:, :, 0, 0] =\n",
       " 0.0889951  0.00375174  0.205639\n",
       " 0.874426   0.712647    0.77176\n",
       "\n",
       "[:, :, 1, 0] =\n",
       " 0.331117  0.363294  0.299127\n",
       " 0.925211  0.856703  0.897712\n",
       "\n",
       "[:, :, 2, 0] =\n",
       " 0.0652447  0.700463  0.787878\n",
       " 0.893807   0.298732  0.0059241"
      ]
     },
     "execution_count": 3,
     "metadata": {},
     "output_type": "execute_result"
    }
   ],
   "source": [
    "E = similar(W[begin], axes(W[begin])..., axes(W)...)\n",
    "@btime aacat!($E, $W)"
   ]
  },
  {
   "cell_type": "code",
   "execution_count": 4,
   "id": "a2011590-23ca-4886-8c90-f2a5b08537dc",
   "metadata": {},
   "outputs": [
    {
     "name": "stdout",
     "output_type": "stream",
     "text": [
      "  293.258 ns (2 allocations: 592 bytes)\n"
     ]
    },
    {
     "data": {
      "text/plain": [
       "2×3×3×3 OffsetArray(::Array{Float64, 4}, 0:1, -1:1, 0:2, -2:0) with eltype Float64 with indices 0:1×-1:1×0:2×-2:0:\n",
       "[:, :, 0, -2] =\n",
       " 0.884794   0.482408  0.445004\n",
       " 0.0111522  0.761849  0.45306\n",
       "\n",
       "[:, :, 1, -2] =\n",
       " 0.407049  0.196206  0.612513\n",
       " 0.970393  0.416169  0.0157348\n",
       "\n",
       "[:, :, 2, -2] =\n",
       " 0.953153  0.982571   0.14442\n",
       " 0.444591  0.0592617  0.0602498\n",
       "\n",
       "[:, :, 0, -1] =\n",
       " 0.499203   0.46028   0.504579\n",
       " 0.0589405  0.589531  0.550563\n",
       "\n",
       "[:, :, 1, -1] =\n",
       " 0.381717  0.728156   0.207326\n",
       " 0.850348  0.0680289  0.276464\n",
       "\n",
       "[:, :, 2, -1] =\n",
       " 0.361449  0.768525  0.334865\n",
       " 0.23814   0.324103  0.655979\n",
       "\n",
       "[:, :, 0, 0] =\n",
       " 0.0889951  0.00375174  0.205639\n",
       " 0.874426   0.712647    0.77176\n",
       "\n",
       "[:, :, 1, 0] =\n",
       " 0.331117  0.363294  0.299127\n",
       " 0.925211  0.856703  0.897712\n",
       "\n",
       "[:, :, 2, 0] =\n",
       " 0.0652447  0.700463  0.787878\n",
       " 0.893807   0.298732  0.0059241"
      ]
     },
     "execution_count": 4,
     "metadata": {},
     "output_type": "execute_result"
    }
   ],
   "source": [
    "@btime aacat($W)"
   ]
  },
  {
   "cell_type": "code",
   "execution_count": null,
   "id": "6d3d9e86-72f3-4079-9365-ef2bad6e625e",
   "metadata": {},
   "outputs": [],
   "source": []
  }
 ],
 "metadata": {
  "jupytext": {
   "formats": "ipynb,md"
  },
  "kernelspec": {
   "display_name": "Julia 1.8.0-beta1",
   "language": "julia",
   "name": "julia-1.8"
  },
  "language_info": {
   "file_extension": ".jl",
   "mimetype": "application/julia",
   "name": "julia",
   "version": "1.8.0"
  }
 },
 "nbformat": 4,
 "nbformat_minor": 5
}
