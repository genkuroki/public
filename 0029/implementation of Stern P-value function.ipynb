{
 "cells": [
  {
   "cell_type": "markdown",
   "id": "bbd637b5",
   "metadata": {},
   "source": [
    "* Sterne, Theodore E. Some Remarks on Confidence or Fiducial Limits. Biometrika\n",
    "Vol. 41, No. 1/2 (Jun., 1954), pp. 275-278 (4 pages) https://www.jstor.org/stable/2333026"
   ]
  },
  {
   "cell_type": "code",
   "execution_count": 1,
   "id": "0e348f33",
   "metadata": {},
   "outputs": [],
   "source": [
    "using Distributions\n",
    "using StatsPlots\n",
    "default(fmt=:png, titlefontsize=10)"
   ]
  },
  {
   "cell_type": "code",
   "execution_count": 2,
   "id": "4ab316bd",
   "metadata": {},
   "outputs": [
    {
     "data": {
      "text/plain": [
       "pvalue_clopper_pearson (generic function with 2 methods)"
      ]
     },
     "execution_count": 2,
     "metadata": {},
     "output_type": "execute_result"
    }
   ],
   "source": [
    "function pvalue_clopper_pearson(dist::DiscreteUnivariateDistribution, x)\n",
    "    min(1, 2cdf(dist, x), 2ccdf(dist, x-1))\n",
    "end\n",
    "pvalue_clopper_pearson(n, k, p) = pvalue_clopper_pearson(Binomial(n, p), k)"
   ]
  },
  {
   "cell_type": "code",
   "execution_count": 3,
   "id": "39168143",
   "metadata": {},
   "outputs": [
    {
     "data": {
      "text/plain": [
       "pvalue_stern (generic function with 2 methods)"
      ]
     },
     "execution_count": 3,
     "metadata": {},
     "output_type": "execute_result"
    }
   ],
   "source": [
    "x ⪅ y = x < y || x ≈ y\n",
    "\n",
    "# Naive implementation is terribly slow.\n",
    "function pvalue_stern_naive(dist::DiscreteUnivariateDistribution, x; xmax = 10^6)\n",
    "    Px = pdf(dist, x)\n",
    "    Px == 0 && return Px\n",
    "    ymin, maxdist = minimum(dist), maximum(dist)\n",
    "    ymax = maxdist == Inf ? xmax : maxdist\n",
    "    sum(pdf(dist, y) for y in ymin:ymax if 0 < pdf(dist, y) ⪅ Px; init = 0.0)\n",
    "end\n",
    "pvalue_stern_naive(n, k, p) = pvalue_stern_naive(Binomial(n, p), k)\n",
    "\n",
    "# Second implementation is very slow.\n",
    "function pvalue_stern_old(dist::DiscreteUnivariateDistribution, x)\n",
    "    Px = pdf(dist, x)\n",
    "    Px == 0 && return Px\n",
    "    distmin, distmax = extrema(dist)\n",
    "    m = mode(dist)\n",
    "    Px ≈ pdf(dist, m) && return one(Px)\n",
    "    if x < m\n",
    "        y = m + 1\n",
    "        while !(pdf(dist, y) ⪅ Px)\n",
    "            y += 1\n",
    "        end\n",
    "        cdf(dist, x) + ccdf(dist, y-1)\n",
    "    else # k > m\n",
    "        y = m - 1\n",
    "        while !(pdf(dist, y) ⪅ Px)\n",
    "            y -= 1\n",
    "        end\n",
    "        cdf(dist, y) + ccdf(dist, x-1)\n",
    "    end\n",
    "end\n",
    "pvalue_stern_old(n, k, p) = pvalue_stern_old(Binomial(n, p), k)\n",
    "\n",
    "### efficient implementation\n",
    "\n",
    "_pdf_le(x, (dist, y)) =  pdf(dist, x) ⪅ y\n",
    "\n",
    "function _search_boundary(f, x0, Δx, param)\n",
    "    x = x0\n",
    "    if f(x, param)\n",
    "        while f(x - Δx, param) x -= Δx end\n",
    "    else\n",
    "        x += Δx\n",
    "        while !f(x, param) x += Δx end\n",
    "    end\n",
    "    x\n",
    "end\n",
    "\n",
    "function pvalue_stern(dist::DiscreteUnivariateDistribution, x)\n",
    "    Px = pdf(dist, x)\n",
    "    Px == 0 && return Px\n",
    "    m = mode(dist)\n",
    "    Px ≈ pdf(dist, m) && return one(Px)\n",
    "    if x < m\n",
    "        y = _search_boundary(_pdf_le, 2m - x, 1, (dist, Px))\n",
    "        cdf(dist, x) + ccdf(dist, y-1)\n",
    "    else # x > m\n",
    "        y = _search_boundary(_pdf_le, 2m - x, -1, (dist, Px))\n",
    "        cdf(dist, y) + ccdf(dist, x-1)\n",
    "    end\n",
    "end\n",
    "pvalue_stern(n, k, p) = pvalue_stern(Binomial(n, p), k)"
   ]
  },
  {
   "cell_type": "code",
   "execution_count": 4,
   "id": "38fc702b",
   "metadata": {},
   "outputs": [
    {
     "name": "stdout",
     "output_type": "stream",
     "text": [
      "  0.132667 seconds (601.66 k allocations: 33.067 MiB, 99.80% compilation time)\n",
      "  0.062414 seconds (224.08 k allocations: 12.114 MiB, 99.46% compilation time)\n",
      "  0.062351 seconds (190.22 k allocations: 10.236 MiB, 99.52% compilation time)\n",
      "  0.036937 seconds (161.82 k allocations: 8.748 MiB, 99.19% compilation time)\n",
      "a ≈ b ≈ c = true\n"
     ]
    },
    {
     "data": {
      "text/plain": [
       "13×4 Matrix{Float64}:\n",
       " 0.0          0.0          0.0          0.0\n",
       " 0.00772434   0.00772434   0.00772434   0.0120932\n",
       " 0.058652     0.058652     0.058652     0.0927148\n",
       " 0.333528     0.333528     0.333528     0.33458\n",
       " 0.749177     0.749177     0.749177     0.764561\n",
       " 1.0          1.0          1.0          1.0\n",
       " 0.534186     0.534186     0.534186     0.733793\n",
       " 0.212596     0.212596     0.212596     0.332477\n",
       " 0.101119     0.101119     0.101119     0.109524\n",
       " 0.0183412    0.0183412    0.0183412    0.0245891\n",
       " 0.00167772   0.00167772   0.00167772   0.00335544\n",
       " 0.000104858  0.000104858  0.000104858  0.000209715\n",
       " 0.0          0.0          0.0          0.0"
      ]
     },
     "execution_count": 4,
     "metadata": {},
     "output_type": "execute_result"
    }
   ],
   "source": [
    "n = 10\n",
    "k = -1:11\n",
    "p = 0.4\n",
    "a = @time pvalue_stern_naive.(n, k, p)\n",
    "b = @time pvalue_stern_old.(n, k, p)\n",
    "c = @time pvalue_stern.(n, k, p)\n",
    "d = @time pvalue_clopper_pearson.(n, k, p)\n",
    "@show a ≈ b ≈ c\n",
    "[a b c d]"
   ]
  },
  {
   "cell_type": "code",
   "execution_count": 5,
   "id": "c55b6dde",
   "metadata": {},
   "outputs": [
    {
     "name": "stdout",
     "output_type": "stream",
     "text": [
      " 10.728506 seconds (3 allocations: 8.094 KiB)\n",
      "  0.026309 seconds (3 allocations: 8.094 KiB)\n",
      "  0.001486 seconds (3 allocations: 8.094 KiB)\n",
      "  0.001087 seconds (3 allocations: 8.094 KiB)\n",
      "a ≈ b ≈ c ≈ d = true\n"
     ]
    }
   ],
   "source": [
    "n = 100000\n",
    "k = 49500:50500\n",
    "a = @time pvalue_stern_naive.(n, k, 0.5)\n",
    "b = @time pvalue_stern_old.(n, k, 0.5)\n",
    "c = @time pvalue_stern.(n, k, 0.5)\n",
    "d = @time pvalue_clopper_pearson.(n, k, 0.5)\n",
    "@show a ≈ b ≈ c ≈ d;"
   ]
  },
  {
   "cell_type": "code",
   "execution_count": 6,
   "id": "0e991733",
   "metadata": {},
   "outputs": [
    {
     "name": "stdout",
     "output_type": "stream",
     "text": [
      "  0.069352 seconds (360.27 k allocations: 19.754 MiB, 99.49% compilation time)\n",
      "  0.062529 seconds (166.45 k allocations: 8.985 MiB, 28.24% gc time, 99.50% compilation time)\n",
      "  0.055460 seconds (150.20 k allocations: 8.065 MiB, 99.23% compilation time)\n",
      "  0.040415 seconds (171.76 k allocations: 8.863 MiB, 99.11% compilation time)\n",
      "a ≈ b ≈ c ≈ d = true\n"
     ]
    },
    {
     "data": {
      "text/plain": [
       "12×4 Matrix{Float64}:\n",
       " 0.0         0.0         0.0         0.0\n",
       " 4.11353e-5  4.11353e-5  4.11353e-5  4.11353e-5\n",
       " 0.0033731   0.0033731   0.0033731   0.0033731\n",
       " 0.0566845   0.0566845   0.0566845   0.0566845\n",
       " 0.346935    0.346935    0.346935    0.346935\n",
       " 1.0         1.0         1.0         1.0\n",
       " 1.0         1.0         1.0         1.0\n",
       " 0.346935    0.346935    0.346935    0.346935\n",
       " 0.0566845   0.0566845   0.0566845   0.0566845\n",
       " 0.0033731   0.0033731   0.0033731   0.0033731\n",
       " 4.11353e-5  4.11353e-5  4.11353e-5  4.11353e-5\n",
       " 0.0         0.0         0.0         0.0"
      ]
     },
     "execution_count": 6,
     "metadata": {},
     "output_type": "execute_result"
    }
   ],
   "source": [
    "dist = Hypergeometric(9, 9, 9)\n",
    "ran = -1:10\n",
    "a = @time pvalue_stern_naive.(dist, ran)\n",
    "b = @time pvalue_stern_old.(dist, ran)\n",
    "c = @time pvalue_stern.(dist, ran)\n",
    "d = @time pvalue_clopper_pearson.(dist, ran)\n",
    "@show a ≈ b ≈ c ≈ d\n",
    "[a b c d]"
   ]
  },
  {
   "cell_type": "code",
   "execution_count": 7,
   "id": "3ab62c19",
   "metadata": {},
   "outputs": [
    {
     "name": "stdout",
     "output_type": "stream",
     "text": [
      "  0.604778 seconds (437.13 k allocations: 24.391 MiB, 24.57% compilation time)\n",
      "  0.044205 seconds (161.34 k allocations: 8.797 MiB, 99.23% compilation time)\n",
      "  0.033108 seconds (165.00 k allocations: 8.615 MiB, 99.09% compilation time)\n"
     ]
    },
    {
     "data": {
      "text/plain": [
       "12×3 Matrix{Float64}:\n",
       " 0.0         0.0         0.0\n",
       " 0.0396791   0.0396791   0.0366313\n",
       " 0.202252    0.202252    0.183156\n",
       " 0.452973    0.452973    0.476207\n",
       " 1.0         1.0         0.86694\n",
       " 1.0         1.0         1.0\n",
       " 0.609266    0.609266    0.742326\n",
       " 0.306448    0.306448    0.429739\n",
       " 0.12899     0.12899     0.221348\n",
       " 0.0694493   0.0694493   0.102267\n",
       " 0.0213634   0.0213634   0.0427269\n",
       " 0.00813224  0.00813224  0.0162645"
      ]
     },
     "execution_count": 7,
     "metadata": {},
     "output_type": "execute_result"
    }
   ],
   "source": [
    "dist = Poisson(4)\n",
    "ran = -1:10\n",
    "a = @time pvalue_stern_naive.(dist, ran)\n",
    "c = @time pvalue_stern.(dist, ran)\n",
    "d = @time pvalue_clopper_pearson.(dist, ran)\n",
    "[a c d]"
   ]
  },
  {
   "cell_type": "code",
   "execution_count": null,
   "id": "6afbdab2",
   "metadata": {},
   "outputs": [],
   "source": []
  }
 ],
 "metadata": {
  "@webio": {
   "lastCommId": null,
   "lastKernelId": null
  },
  "jupytext": {
   "formats": "ipynb,md"
  },
  "kernelspec": {
   "display_name": "Julia 1.7.2",
   "language": "julia",
   "name": "julia-1.7"
  },
  "language_info": {
   "file_extension": ".jl",
   "mimetype": "application/julia",
   "name": "julia",
   "version": "1.7.2"
  },
  "toc": {
   "base_numbering": 1,
   "nav_menu": {},
   "number_sections": false,
   "sideBar": true,
   "skip_h1_title": true,
   "title_cell": "Table of Contents",
   "title_sidebar": "Contents",
   "toc_cell": false,
   "toc_position": {},
   "toc_section_display": true,
   "toc_window_display": false
  }
 },
 "nbformat": 4,
 "nbformat_minor": 5
}
