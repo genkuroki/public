{
 "cells": [
  {
   "cell_type": "markdown",
   "id": "cc2b8143",
   "metadata": {},
   "source": [
    "* Sterne, Theodore E. Some Remarks on Confidence or Fiducial Limits. Biometrika\n",
    "Vol. 41, No. 1/2 (Jun., 1954), pp. 275-278 (4 pages) https://www.jstor.org/stable/2333026"
   ]
  },
  {
   "cell_type": "code",
   "execution_count": 1,
   "id": "ca13f9bb",
   "metadata": {},
   "outputs": [],
   "source": [
    "using Distributions\n",
    "using StatsPlots\n",
    "default(fmt=:png, titlefontsize=10)"
   ]
  },
  {
   "cell_type": "code",
   "execution_count": 18,
   "id": "9f3a5d5f",
   "metadata": {},
   "outputs": [
    {
     "data": {
      "text/plain": [
       "pvalue_stern (generic function with 1 method)"
      ]
     },
     "execution_count": 18,
     "metadata": {},
     "output_type": "execute_result"
    }
   ],
   "source": [
    "x ⪅ y = x < y || x ≈ y\n",
    "\n",
    "# Naive implementation is terrible slow.\n",
    "function pvalue_stern_naive(dist::DiscreteUnivariateDistribution, x; xmax = 10^6)\n",
    "    Px = pdf(dist, x)\n",
    "    Px == 0 && return Px\n",
    "    m = mode(dist)\n",
    "    (x == m || Px ≈ pdf(dist, m)) && return 1.0\n",
    "    ymin, maxdist = minimum(dist), maximum(dist)\n",
    "    ymax = maxdist == Inf ? xmax : maxdist\n",
    "    sum(pdf(dist, y) for y in ymin:ymax if 0 < pdf(dist, y) ⪅ Px; init = 0.0)\n",
    "end\n",
    "\n",
    "### efficient implementation\n",
    "\n",
    "_pdf_le(x, (dist, y)) =  pdf(dist, x) ⪅ y\n",
    "\n",
    "function _search_boundary(f, x0, Δx, param)\n",
    "    x = x0\n",
    "    if f(x, param)\n",
    "        while f(x - Δx, param) x -= Δx end\n",
    "    else\n",
    "        x += Δx\n",
    "        while !f(x, param) x += Δx end\n",
    "    end\n",
    "    x\n",
    "end\n",
    "\n",
    "function pvalue_stern(dist::DiscreteUnivariateDistribution, x)\n",
    "    Px = pdf(dist, x)\n",
    "    Px == 0 && return Px\n",
    "    m = mode(dist)\n",
    "    (x == m || Px ≈ pdf(dist, m)) && return 1.0\n",
    "    if x < m\n",
    "        y = _search_boundary(_pdf_le, 2m - x, 1, (dist, Px))\n",
    "        cdf(dist, x) + ccdf(dist, y-1)\n",
    "    else # x > m\n",
    "        y = _search_boundary(_pdf_le, 2m - x, -1, (dist, Px))\n",
    "        cdf(dist, y) + ccdf(dist, x-1)\n",
    "    end\n",
    "end"
   ]
  },
  {
   "cell_type": "code",
   "execution_count": 19,
   "id": "fa599171",
   "metadata": {},
   "outputs": [
    {
     "name": "stdout",
     "output_type": "stream",
     "text": [
      "a ≈ b = true\n"
     ]
    },
    {
     "data": {
      "text/plain": [
       "13-element Vector{Float64}:\n",
       " 0.0\n",
       " 0.038839603299999984\n",
       " 0.2995766784999999\n",
       " 0.7331720679999996\n",
       " 1.0\n",
       " 0.4996976274999998\n",
       " 0.17851585749999987\n",
       " 0.07559651229999995\n",
       " 0.010592078399999996\n",
       " 0.0015903864000000002\n",
       " 0.00014368589999999999\n",
       " 5.904899999999991e-6\n",
       " 0.0"
      ]
     },
     "execution_count": 19,
     "metadata": {},
     "output_type": "execute_result"
    }
   ],
   "source": [
    "dist = Binomial(10, 0.3)\n",
    "a = pvalue_stern.(dist, -1:11)\n",
    "b = pvalue_stern_naive.(dist, -1:11)\n",
    "@show a ≈ b\n",
    "a"
   ]
  },
  {
   "cell_type": "code",
   "execution_count": 24,
   "id": "2cfabbda",
   "metadata": {},
   "outputs": [
    {
     "name": "stdout",
     "output_type": "stream",
     "text": [
      "  0.001839 seconds (4 allocations: 8.094 KiB)\n",
      " 10.855532 seconds (4 allocations: 8.094 KiB)\n",
      "a ≈ b = true\n"
     ]
    },
    {
     "data": {
      "text/plain": [
       "1001-element Vector{Float64}:\n",
       " 0.0015823598788515954\n",
       " 0.0016170462998192799\n",
       " 0.0016524313261302747\n",
       " 0.0016885275841076281\n",
       " 0.0017253478963870853\n",
       " 0.001762905284304741\n",
       " 0.0018012129703004164\n",
       " 0.0018402843803366896\n",
       " 0.0018801331463333246\n",
       " 0.0019207731086169947\n",
       " 0.0019622183183860276\n",
       " 0.002004483040190035\n",
       " 0.0020475817544242164\n",
       " ⋮\n",
       " 0.002004483040190035\n",
       " 0.0019622183183860276\n",
       " 0.0019207731086169947\n",
       " 0.0018801331463333246\n",
       " 0.0018402843803366896\n",
       " 0.0018012129703004164\n",
       " 0.001762905284304741\n",
       " 0.0017253478963870853\n",
       " 0.0016885275841076281\n",
       " 0.0016524313261302747\n",
       " 0.0016170462998192799\n",
       " 0.0015823598788515954"
      ]
     },
     "execution_count": 24,
     "metadata": {},
     "output_type": "execute_result"
    }
   ],
   "source": [
    "dist = Binomial(100000, 0.5)\n",
    "ran = 49500:50500\n",
    "@time a = pvalue_stern.(dist, ran)\n",
    "@time b = pvalue_stern_naive.(dist, ran)\n",
    "@show a ≈ b\n",
    "a"
   ]
  },
  {
   "cell_type": "code",
   "execution_count": 21,
   "id": "56254469",
   "metadata": {},
   "outputs": [
    {
     "name": "stdout",
     "output_type": "stream",
     "text": [
      "a ≈ b = true\n"
     ]
    },
    {
     "data": {
      "text/plain": [
       "13-element Vector{Float64}:\n",
       " 0.0\n",
       " 1.082508822446903e-5\n",
       " 0.0010933339106713729\n",
       " 0.02301413756522111\n",
       " 0.1788954079975756\n",
       " 0.6562817986966591\n",
       " 1.0\n",
       " 0.6562817986966591\n",
       " 0.1788954079975756\n",
       " 0.02301413756522111\n",
       " 0.0010933339106713729\n",
       " 1.082508822446903e-5\n",
       " 0.0"
      ]
     },
     "execution_count": 21,
     "metadata": {},
     "output_type": "execute_result"
    }
   ],
   "source": [
    "dist = Hypergeometric(10, 10, 10)\n",
    "a = pvalue_stern.(dist, -1:11)\n",
    "b = pvalue_stern_naive.(dist, -1:11)\n",
    "@show a ≈ b\n",
    "a"
   ]
  },
  {
   "cell_type": "code",
   "execution_count": 22,
   "id": "daaa8b88",
   "metadata": {},
   "outputs": [
    {
     "name": "stdout",
     "output_type": "stream",
     "text": [
      "a ≈ b = true\n"
     ]
    },
    {
     "data": {
      "text/plain": [
       "12-element Vector{Float64}:\n",
       " 0.0\n",
       " 0.03967907337671833\n",
       " 0.20225217284624464\n",
       " 0.45297291852313915\n",
       " 1.0\n",
       " 1.0\n",
       " 0.6092663703736709\n",
       " 0.3064478074132657\n",
       " 0.1289896172913079\n",
       " 0.06944925468158153\n",
       " 0.02136343448798415\n",
       " 0.008132242796933864"
      ]
     },
     "execution_count": 22,
     "metadata": {},
     "output_type": "execute_result"
    }
   ],
   "source": [
    "dist = Poisson(4)\n",
    "a = pvalue_stern.(dist, -1:10)\n",
    "b = pvalue_stern_naive.(dist, -1:10)\n",
    "@show a ≈ b\n",
    "a"
   ]
  },
  {
   "cell_type": "code",
   "execution_count": null,
   "id": "f68aff05",
   "metadata": {},
   "outputs": [],
   "source": []
  }
 ],
 "metadata": {
  "@webio": {
   "lastCommId": null,
   "lastKernelId": null
  },
  "kernelspec": {
   "display_name": "Julia 1.7.2",
   "language": "julia",
   "name": "julia-1.7"
  },
  "language_info": {
   "file_extension": ".jl",
   "mimetype": "application/julia",
   "name": "julia",
   "version": "1.7.2"
  },
  "toc": {
   "base_numbering": 1,
   "nav_menu": {},
   "number_sections": false,
   "sideBar": true,
   "skip_h1_title": true,
   "title_cell": "Table of Contents",
   "title_sidebar": "Contents",
   "toc_cell": false,
   "toc_position": {},
   "toc_section_display": true,
   "toc_window_display": false
  }
 },
 "nbformat": 4,
 "nbformat_minor": 5
}
