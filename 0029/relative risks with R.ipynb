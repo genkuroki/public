{
 "cells": [
  {
   "cell_type": "markdown",
   "id": "f9546fcf-42ca-407a-8976-d2d912f0c09e",
   "metadata": {},
   "source": [
    "See Table 2 of https://www.nejm.org/doi/full/10.1056/NEJMoa2115869, Bayesian credible intervals of relative risks:\n",
    "\n",
    "* ITT: 0.90 (0.70–1.16)\n",
    "* MITT: 0.89 (0.69–1.15)\n",
    "* PP: 0.94 (0.67–1.35)"
   ]
  },
  {
   "cell_type": "code",
   "execution_count": 1,
   "id": "68078ad3-d456-43c5-807e-84b1c353ce4e",
   "metadata": {},
   "outputs": [
    {
     "name": "stderr",
     "output_type": "stream",
     "text": [
      "Loading required package: survival\n",
      "\n",
      "Package epiR 2.0.46 is loaded\n",
      "\n",
      "Type help(epi.about) for summary information\n",
      "\n",
      "Type browseVignettes(package = 'epiR') to learn how to use epiR for applied epidemiological analyses\n",
      "\n",
      "\n",
      "\n",
      "\n"
     ]
    }
   ],
   "source": [
    "library(epiR)"
   ]
  },
  {
   "cell_type": "code",
   "execution_count": 2,
   "id": "d4898a0a-1178-4c0e-8f97-55b72e28a642",
   "metadata": {},
   "outputs": [
    {
     "data": {
      "text/plain": [
       "             Outcome +    Outcome -      Total        Inc risk *        Odds\n",
       "Exposed +          100          579        679              14.7       0.173\n",
       "Exposed -          111          568        679              16.3       0.195\n",
       "Total              211         1147       1358              15.5       0.184\n",
       "\n",
       "Point estimates and 95% CIs:\n",
       "-------------------------------------------------------------------\n",
       "Inc risk ratio                                 0.90 (0.70, 1.15)\n",
       "Odds ratio                                     0.88 (0.66, 1.19)\n",
       "Attrib risk in the exposed *                   -1.62 (-5.47, 2.23)\n",
       "Attrib fraction in the exposed (%)            -11.00 (-42.30, 13.42)\n",
       "Attrib risk in the population *                -0.81 (-4.19, 2.57)\n",
       "Attrib fraction in the population (%)         -5.21 (-18.36, 6.48)\n",
       "-------------------------------------------------------------------\n",
       "Uncorrected chi2 test that OR = 1: chi2(1) = 0.679 Pr>chi2 = 0.410\n",
       "Fisher exact test that OR = 1: Pr>chi2 = 0.454\n",
       " Wald confidence limits\n",
       " CI: confidence interval\n",
       " * Outcomes per 100 population units "
      ]
     },
     "metadata": {},
     "output_type": "display_data"
    }
   ],
   "source": [
    "data_ITT = matrix(c(100, 679-100, 111, 679-111), nrow=2, byrow=T)\n",
    "ITT = epi.2by2(data_ITT)\n",
    "ITT"
   ]
  },
  {
   "cell_type": "code",
   "execution_count": 3,
   "id": "de6dbb89-968e-4a51-a189-51a7978638f5",
   "metadata": {},
   "outputs": [
    {
     "data": {
      "text/plain": [
       "             Outcome +    Outcome -      Total        Inc risk *        Odds\n",
       "Exposed +           95          579        674              14.1       0.164\n",
       "Exposed -          107          568        675              15.9       0.188\n",
       "Total              202         1147       1349              15.0       0.176\n",
       "\n",
       "Point estimates and 95% CIs:\n",
       "-------------------------------------------------------------------\n",
       "Inc risk ratio                                 0.89 (0.69, 1.15)\n",
       "Odds ratio                                     0.87 (0.65, 1.18)\n",
       "Attrib risk in the exposed *                   -1.76 (-5.56, 2.05)\n",
       "Attrib fraction in the exposed (%)            -12.46 (-45.11, 12.84)\n",
       "Attrib risk in the population *                -0.88 (-4.23, 2.47)\n",
       "Attrib fraction in the population (%)         -5.86 (-19.35, 6.10)\n",
       "-------------------------------------------------------------------\n",
       "Uncorrected chi2 test that OR = 1: chi2(1) = 0.818 Pr>chi2 = 0.366\n",
       "Fisher exact test that OR = 1: Pr>chi2 = 0.401\n",
       " Wald confidence limits\n",
       " CI: confidence interval\n",
       " * Outcomes per 100 population units "
      ]
     },
     "metadata": {},
     "output_type": "display_data"
    }
   ],
   "source": [
    "data_MITT = matrix(c(95, 674-95, 107, 675-107), nrow=2, byrow=T)\n",
    "MITT = epi.2by2(data_MITT)\n",
    "MITT"
   ]
  },
  {
   "cell_type": "code",
   "execution_count": 4,
   "id": "8fae1b4e-b3fd-4a32-b9cf-c584bf550517",
   "metadata": {},
   "outputs": [
    {
     "data": {
      "text/plain": [
       "             Outcome +    Outcome -      Total        Inc risk *        Odds\n",
       "Exposed +           82          542        624              13.1       0.151\n",
       "Exposed -           40          248        288              13.9       0.161\n",
       "Total              122          790        912              13.4       0.154\n",
       "\n",
       "Point estimates and 95% CIs:\n",
       "-------------------------------------------------------------------\n",
       "Inc risk ratio                                 0.95 (0.67, 1.34)\n",
       "Odds ratio                                     0.94 (0.62, 1.41)\n",
       "Attrib risk in the exposed *                   -0.75 (-5.54, 4.05)\n",
       "Attrib fraction in the exposed (%)            -5.69 (-50.17, 25.62)\n",
       "Attrib risk in the population *                -0.51 (-5.08, 4.05)\n",
       "Attrib fraction in the population (%)         -3.83 (-31.47, 18.01)\n",
       "-------------------------------------------------------------------\n",
       "Uncorrected chi2 test that OR = 1: chi2(1) = 0.095 Pr>chi2 = 0.758\n",
       "Fisher exact test that OR = 1: Pr>chi2 = 0.754\n",
       " Wald confidence limits\n",
       " CI: confidence interval\n",
       " * Outcomes per 100 population units "
      ]
     },
     "metadata": {},
     "output_type": "display_data"
    }
   ],
   "source": [
    "data_PP = matrix(c(82, 624-82, 40, 288-40), nrow=2, byrow=T)\n",
    "PP = epi.2by2(data_PP)\n",
    "PP"
   ]
  },
  {
   "cell_type": "code",
   "execution_count": 5,
   "id": "c5bec54a-839e-4634-ae64-25b0bc8c942b",
   "metadata": {},
   "outputs": [
    {
     "name": "stdout",
     "output_type": "stream",
     "text": [
      "[1] \"ITT\"\n",
      "        est     lower    upper\n",
      "1 0.9009009 0.7027391 1.154941\n",
      "[1] \"MITT\"\n",
      "        est     lower    upper\n",
      "1 0.8891678 0.6891357 1.147262\n",
      "[1] \"PP\"\n",
      "        est     lower    upper\n",
      "1 0.9461538 0.6658987 1.344359\n"
     ]
    }
   ],
   "source": [
    "print(\"ITT\")\n",
    "print(ITT$massoc.detail$RR.strata.wald)\n",
    "print(\"MITT\")\n",
    "print(MITT$massoc.detail$RR.strata.wald)\n",
    "print(\"PP\")\n",
    "print(PP$massoc.detail$RR.strata.wald)"
   ]
  },
  {
   "cell_type": "markdown",
   "id": "c6fe0544-6bef-4ec3-86b9-65a9caa965d8",
   "metadata": {},
   "source": [
    "* ITT: 0.90 (0.70-1.15)\n",
    "* MITT: 0.89 (0.69-1.15)\n",
    "* PP: 0.95 (0.67-1.34)"
   ]
  },
  {
   "cell_type": "code",
   "execution_count": 6,
   "id": "91a94a83-53bf-42a2-be5b-0c1fdd470d64",
   "metadata": {},
   "outputs": [
    {
     "name": "stdout",
     "output_type": "stream",
     "text": [
      "[1] \"ITT\"\n",
      "        est     lower    upper\n",
      "1 0.9009009 0.7030223 1.154083\n",
      "[1] \"MITT\"\n",
      "        est     lower    upper\n",
      "1 0.8891678 0.6894315 1.146321\n",
      "[1] \"PP\"\n",
      "        est     lower    upper\n",
      "1 0.9461538 0.6693567 1.346356\n"
     ]
    }
   ],
   "source": [
    "print(\"ITT\")\n",
    "print(ITT$massoc.detail$RR.strata.score)\n",
    "print(\"MITT\")\n",
    "print(MITT$massoc.detail$RR.strata.score)\n",
    "print(\"PP\")\n",
    "print(PP$massoc.detail$RR.strata.score)"
   ]
  },
  {
   "cell_type": "markdown",
   "id": "d843116a-3102-40db-bd69-9dd6a0478185",
   "metadata": {},
   "source": [
    "* ITT: 0.90 (0.70-1.15)\n",
    "* MITT: 0.89 (0.69-1.15)\n",
    "* PP: 0.95 (0.67-1.35)"
   ]
  },
  {
   "cell_type": "markdown",
   "id": "2e327b62-0e50-4891-af8d-0962120f6d5f",
   "metadata": {},
   "source": [
    "See Table 2 of https://www.nejm.org/doi/full/10.1056/NEJMoa2115869, Bayesian credible intervals of relative risks:\n",
    "\n",
    "* ITT: 0.90 (0.70–1.16)\n",
    "* MITT: 0.89 (0.69–1.15)\n",
    "* PP: 0.94 (0.67–1.35)\n",
    "\n",
    "Supplementary Appendix, Figure S6:\n",
    "\n",
    "* ITT: 0.90 (0.70–1.15)\n",
    "* MITT: 0.89 (0.69–1.15)\n",
    "* PP: 0.94 (0.67–1.35)"
   ]
  },
  {
   "cell_type": "code",
   "execution_count": null,
   "id": "d1113e9e-31da-44c0-b249-7edf120d2420",
   "metadata": {},
   "outputs": [],
   "source": []
  }
 ],
 "metadata": {
  "jupytext": {
   "formats": "ipynb,Rmd"
  },
  "kernelspec": {
   "display_name": "R 4.1.2",
   "language": "R",
   "name": "ir"
  },
  "language_info": {
   "codemirror_mode": "r",
   "file_extension": ".r",
   "mimetype": "text/x-r-source",
   "name": "R",
   "pygments_lexer": "r",
   "version": "4.1.2"
  }
 },
 "nbformat": 4,
 "nbformat_minor": 5
}
