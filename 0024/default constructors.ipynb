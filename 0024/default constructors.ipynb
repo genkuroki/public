{
 "cells": [
  {
   "cell_type": "markdown",
   "id": "9999fbd0-1ee0-4f1a-802f-1ef1869e5d5b",
   "metadata": {},
   "source": [
    "## デフォルトで定義されるコンストラクタ"
   ]
  },
  {
   "cell_type": "code",
   "execution_count": 1,
   "id": "8fe1a0db-6a95-4a05-9277-47bcbdd2d405",
   "metadata": {},
   "outputs": [],
   "source": [
    "struct Kuma{T}\n",
    "    p::Tuple{T, T}\n",
    "end"
   ]
  },
  {
   "cell_type": "markdown",
   "id": "7ead461b-d4a7-4e2a-9cff-da0f598932e3",
   "metadata": {},
   "source": [
    "これだけで、\n",
    "\n",
    "* `Kuma(p::Tuple{T, T}) where T`\n",
    "* `Kuma{T}(p) where T`\n",
    "\n",
    "が定義される。内部コンストラクタを定義するとこれらは定義されなくなる。\n",
    "\n",
    "多くの場合に自動的に定義されるデフォルトのコンストラクタで十分である。\n",
    "\n",
    "複雑なことをやってくれるコンストラクタは外部コンストラクタで行えばよい。"
   ]
  },
  {
   "cell_type": "code",
   "execution_count": 2,
   "id": "d7516937-5e9e-41b3-85e9-2401865c28c7",
   "metadata": {},
   "outputs": [
    {
     "data": {
      "text/html": [
       "# 1 method for type constructor:<ul><li> Kuma(p::<b>Tuple{T, T}</b>)<i> where T</i> in Main at In[1]:2</li> </ul>"
      ],
      "text/plain": [
       "# 1 method for type constructor:\n",
       "[1] Kuma(p::Tuple{T, T}) where T in Main at In[1]:2"
      ]
     },
     "metadata": {},
     "output_type": "display_data"
    },
    {
     "data": {
      "text/html": [
       "# 1 method for type constructor:<ul><li> Kuma{T}(p)<i> where T</i> in Main at In[1]:2</li> </ul>"
      ],
      "text/plain": [
       "# 1 method for type constructor:\n",
       "[1] Kuma{T}(p) where T in Main at In[1]:2"
      ]
     },
     "metadata": {},
     "output_type": "display_data"
    }
   ],
   "source": [
    "methods(Kuma) |> display\n",
    "methods(Kuma{Int}) |> display"
   ]
  },
  {
   "cell_type": "markdown",
   "id": "c5127511-14d9-41a5-a594-887a1f4ebbd1",
   "metadata": {},
   "source": [
    "## デフォルトの`Kuma{T}(p)`は引数の型変換を自動的にしてくれる。"
   ]
  },
  {
   "cell_type": "markdown",
   "id": "03e28af4-f538-4e4d-9c62-a21ee428b722",
   "metadata": {},
   "source": [
    "`Kuma{T}(p) where T` は `p` の型を自動的に `Tuple{T, T}` 型に変換してくれる。"
   ]
  },
  {
   "cell_type": "code",
   "execution_count": 3,
   "id": "eb947930-e5e7-4b4d-b172-29247b197187",
   "metadata": {},
   "outputs": [
    {
     "data": {
      "text/plain": [
       "Kuma{Int64}((2, 3))"
      ]
     },
     "execution_count": 3,
     "metadata": {},
     "output_type": "execute_result"
    }
   ],
   "source": [
    "x = Kuma{Int}((Float32(2.0), big(3)))"
   ]
  },
  {
   "cell_type": "code",
   "execution_count": 4,
   "id": "26281457-464e-4e20-beb7-20eea22a51f2",
   "metadata": {},
   "outputs": [
    {
     "data": {
      "text/plain": [
       "Tuple{Int64, Int64}"
      ]
     },
     "execution_count": 4,
     "metadata": {},
     "output_type": "execute_result"
    }
   ],
   "source": [
    "typeof(x.p)"
   ]
  },
  {
   "cell_type": "markdown",
   "id": "9b571d7d-2bf5-4cbe-a8c5-028bbbc0fd20",
   "metadata": {},
   "source": [
    "## promotionによる自動型変換に一般化"
   ]
  },
  {
   "cell_type": "markdown",
   "id": "6f38c535-03ae-4b67-b2cb-2737ecb97e54",
   "metadata": {},
   "source": [
    "`Kuma(p::Tuple{T, U}) where {T, U}` をpromotionによって作成。"
   ]
  },
  {
   "cell_type": "code",
   "execution_count": 5,
   "id": "2f8ac889-6c4b-4d92-a253-3b0d0903d37e",
   "metadata": {},
   "outputs": [
    {
     "data": {
      "text/plain": [
       "Kuma"
      ]
     },
     "execution_count": 5,
     "metadata": {},
     "output_type": "execute_result"
    }
   ],
   "source": [
    "Kuma(p::Tuple{T, U}) where {T, U} = Kuma(promote(p...))"
   ]
  },
  {
   "cell_type": "code",
   "execution_count": 6,
   "id": "2a6c6866-b8be-435c-b1d3-4cdade35d5fb",
   "metadata": {},
   "outputs": [
    {
     "data": {
      "text/html": [
       "# 2 methods for type constructor:<ul><li> Kuma(p::<b>Tuple{T, T}</b>)<i> where T</i> in Main at In[1]:2</li> <li> Kuma(p::<b>Tuple{T, U}</b>)<i> where {T, U}</i> in Main at In[5]:1</li> </ul>"
      ],
      "text/plain": [
       "# 2 methods for type constructor:\n",
       "[1] Kuma(p::Tuple{T, T}) where T in Main at In[1]:2\n",
       "[2] Kuma(p::Tuple{T, U}) where {T, U} in Main at In[5]:1"
      ]
     },
     "execution_count": 6,
     "metadata": {},
     "output_type": "execute_result"
    }
   ],
   "source": [
    "methods(Kuma)"
   ]
  },
  {
   "cell_type": "code",
   "execution_count": 7,
   "id": "61087da2-032d-41e2-89f6-5ed9d166b2e0",
   "metadata": {},
   "outputs": [
    {
     "data": {
      "text/plain": [
       "Kuma{BigFloat}((2.0, 3.0))"
      ]
     },
     "execution_count": 7,
     "metadata": {},
     "output_type": "execute_result"
    }
   ],
   "source": [
    "y = Kuma((big(2), 3.0))"
   ]
  },
  {
   "cell_type": "code",
   "execution_count": 8,
   "id": "bd659d27-76e1-4acd-bb2f-8a0b3cb09e47",
   "metadata": {},
   "outputs": [
    {
     "data": {
      "text/plain": [
       "Tuple{BigFloat, BigFloat}"
      ]
     },
     "execution_count": 8,
     "metadata": {},
     "output_type": "execute_result"
    }
   ],
   "source": [
    "typeof(y.p)"
   ]
  },
  {
   "cell_type": "markdown",
   "id": "bb430c7d-08d0-4d43-8ebc-4798f67caccc",
   "metadata": {},
   "source": [
    "## `Kuma(x, y)` を定義"
   ]
  },
  {
   "cell_type": "markdown",
   "id": "06f38ec0-eb38-49e4-a5b6-9a8b170c0b9e",
   "metadata": {},
   "source": [
    "`Kuma(x, y)` を定義。"
   ]
  },
  {
   "cell_type": "code",
   "execution_count": 9,
   "id": "44d183ac-b5ab-47ef-938d-735f73b15f52",
   "metadata": {},
   "outputs": [
    {
     "data": {
      "text/plain": [
       "Kuma"
      ]
     },
     "execution_count": 9,
     "metadata": {},
     "output_type": "execute_result"
    }
   ],
   "source": [
    "Kuma(x, y) = Kuma((x, y))"
   ]
  },
  {
   "cell_type": "code",
   "execution_count": 10,
   "id": "d877c4e9-0c6d-48b5-b9b8-8387dde46b1f",
   "metadata": {},
   "outputs": [
    {
     "data": {
      "text/html": [
       "# 3 methods for type constructor:<ul><li> Kuma(p::<b>Tuple{T, T}</b>)<i> where T</i> in Main at In[1]:2</li> <li> Kuma(p::<b>Tuple{T, U}</b>)<i> where {T, U}</i> in Main at In[5]:1</li> <li> Kuma(x, y) in Main at In[9]:1</li> </ul>"
      ],
      "text/plain": [
       "# 3 methods for type constructor:\n",
       "[1] Kuma(p::Tuple{T, T}) where T in Main at In[1]:2\n",
       "[2] Kuma(p::Tuple{T, U}) where {T, U} in Main at In[5]:1\n",
       "[3] Kuma(x, y) in Main at In[9]:1"
      ]
     },
     "execution_count": 10,
     "metadata": {},
     "output_type": "execute_result"
    }
   ],
   "source": [
    "methods(Kuma)"
   ]
  },
  {
   "cell_type": "code",
   "execution_count": 11,
   "id": "337d2a2a-36db-48d5-acab-20ab13ae1579",
   "metadata": {},
   "outputs": [
    {
     "data": {
      "text/plain": [
       "Kuma{BigFloat}((2.0, 3.0))"
      ]
     },
     "execution_count": 11,
     "metadata": {},
     "output_type": "execute_result"
    }
   ],
   "source": [
    "z = Kuma(big(2), 3.0)"
   ]
  },
  {
   "cell_type": "code",
   "execution_count": 12,
   "id": "eebceeb0-885e-47ab-95cb-13d14aebc1b8",
   "metadata": {},
   "outputs": [
    {
     "data": {
      "text/plain": [
       "Tuple{BigFloat, BigFloat}"
      ]
     },
     "execution_count": 12,
     "metadata": {},
     "output_type": "execute_result"
    }
   ],
   "source": [
    "typeof(z.p)"
   ]
  },
  {
   "cell_type": "markdown",
   "id": "a7506c12-9876-49b8-bfee-eb1c43ae28cd",
   "metadata": {},
   "source": [
    "## `==` を定義"
   ]
  },
  {
   "cell_type": "code",
   "execution_count": 13,
   "id": "13288d99-f928-4ad6-978a-4dd5e7778556",
   "metadata": {},
   "outputs": [
    {
     "data": {
      "text/plain": [
       "false"
      ]
     },
     "execution_count": 13,
     "metadata": {},
     "output_type": "execute_result"
    }
   ],
   "source": [
    "y == z"
   ]
  },
  {
   "cell_type": "code",
   "execution_count": 14,
   "id": "f5dc097a-cace-4c65-9266-294c511748ed",
   "metadata": {},
   "outputs": [],
   "source": [
    "Base.:(==)(x::Kuma, y::Kuma) = x.p == y.p"
   ]
  },
  {
   "cell_type": "code",
   "execution_count": 15,
   "id": "f4d87cc5-47bd-43c4-bbe3-1b1b7b4e6889",
   "metadata": {},
   "outputs": [
    {
     "data": {
      "text/plain": [
       "true"
      ]
     },
     "execution_count": 15,
     "metadata": {},
     "output_type": "execute_result"
    }
   ],
   "source": [
    "y == z"
   ]
  },
  {
   "cell_type": "code",
   "execution_count": null,
   "id": "c14e6263-8a84-4744-8b14-bae1d548f783",
   "metadata": {},
   "outputs": [],
   "source": []
  }
 ],
 "metadata": {
  "jupytext": {
   "encoding": "# -*- coding: utf-8 -*-",
   "formats": "ipynb,jl:hydrogen"
  },
  "kernelspec": {
   "display_name": "Julia 1.6.3",
   "language": "julia",
   "name": "julia-1.6"
  },
  "language_info": {
   "file_extension": ".jl",
   "mimetype": "application/julia",
   "name": "julia",
   "version": "1.6.3"
  }
 },
 "nbformat": 4,
 "nbformat_minor": 5
}
