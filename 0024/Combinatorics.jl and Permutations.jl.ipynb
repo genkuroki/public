{
 "cells": [
  {
   "cell_type": "code",
   "execution_count": 1,
   "id": "b4a72ee1-ab98-4358-81b8-dae67094230e",
   "metadata": {},
   "outputs": [
    {
     "data": {
      "text/plain": [
       "24-element Vector{Permutation}:\n",
       " (1)(2)(3)(4)\n",
       " (1)(2)(3,4)\n",
       " (1)(2,3)(4)\n",
       " (1)(2,3,4)\n",
       " (1)(2,4,3)\n",
       " (1)(2,4)(3)\n",
       " (1,2)(3)(4)\n",
       " (1,2)(3,4)\n",
       " (1,2,3)(4)\n",
       " (1,2,3,4)\n",
       " (1,2,4,3)\n",
       " (1,2,4)(3)\n",
       " (1,3,2)(4)\n",
       " (1,3,4,2)\n",
       " (1,3)(2)(4)\n",
       " (1,3,4)(2)\n",
       " (1,3)(2,4)\n",
       " (1,3,2,4)\n",
       " (1,4,3,2)\n",
       " (1,4,2)(3)\n",
       " (1,4,3)(2)\n",
       " (1,4)(2)(3)\n",
       " (1,4,2,3)\n",
       " (1,4)(2,3)"
      ]
     },
     "execution_count": 1,
     "metadata": {},
     "output_type": "execute_result"
    }
   ],
   "source": [
    "using Combinatorics, Permutations\n",
    "\n",
    "S₄ = Permutation.(permutations(1:4))"
   ]
  },
  {
   "cell_type": "code",
   "execution_count": 2,
   "id": "58caac4c-5395-474d-a96b-bb436128a0fb",
   "metadata": {},
   "outputs": [
    {
     "data": {
      "text/plain": [
       "24-element Vector{Vector{Vector{Int64}}}:\n",
       " [[1], [2], [3], [4]]\n",
       " [[1], [2], [3, 4]]\n",
       " [[1], [2, 3], [4]]\n",
       " [[1], [2, 3, 4]]\n",
       " [[1], [2, 4, 3]]\n",
       " [[1], [2, 4], [3]]\n",
       " [[1, 2], [3], [4]]\n",
       " [[1, 2], [3, 4]]\n",
       " [[1, 2, 3], [4]]\n",
       " [[1, 2, 3, 4]]\n",
       " [[1, 2, 4, 3]]\n",
       " [[1, 2, 4], [3]]\n",
       " [[1, 3, 2], [4]]\n",
       " [[1, 3, 4, 2]]\n",
       " [[1, 3], [2], [4]]\n",
       " [[1, 3, 4], [2]]\n",
       " [[1, 3], [2, 4]]\n",
       " [[1, 3, 2, 4]]\n",
       " [[1, 4, 3, 2]]\n",
       " [[1, 4, 2], [3]]\n",
       " [[1, 4, 3], [2]]\n",
       " [[1, 4], [2], [3]]\n",
       " [[1, 4, 2, 3]]\n",
       " [[1, 4], [2, 3]]"
      ]
     },
     "execution_count": 2,
     "metadata": {},
     "output_type": "execute_result"
    }
   ],
   "source": [
    "cycles.(S₄)"
   ]
  },
  {
   "cell_type": "code",
   "execution_count": null,
   "id": "2ba9a9f9-4bbc-41b7-add9-d7a11a56ca37",
   "metadata": {},
   "outputs": [],
   "source": []
  }
 ],
 "metadata": {
  "kernelspec": {
   "display_name": "Julia 1.6.3",
   "language": "julia",
   "name": "julia-1.6"
  },
  "language_info": {
   "file_extension": ".jl",
   "mimetype": "application/julia",
   "name": "julia",
   "version": "1.6.3"
  }
 },
 "nbformat": 4,
 "nbformat_minor": 5
}
