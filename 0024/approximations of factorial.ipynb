{
 "cells": [
  {
   "cell_type": "code",
   "execution_count": 26,
   "id": "b3e94b1e-bfc7-4058-aa37-150e56686b25",
   "metadata": {},
   "outputs": [
    {
     "data": {
      "text/plain": [
       "k (generic function with 1 method)"
      ]
     },
     "execution_count": 26,
     "metadata": {},
     "output_type": "execute_result"
    }
   ],
   "source": [
    "f(n) = n^n * exp(-n) * √(2(π*n)) * (1 + 1/(12n) + 1/(288n^2))\n",
    "g(n) = √oftype(float(n), π) * n^n * exp(-n) * (8n^3 + 4n^2 + n + 1//30)^(1/6)\n",
    "h(n) = (n + 1/(12n - 1/(10n)))^n * exp(-n) * √(2(π*n))\n",
    "k(n) = (n * √(n*sinh(1/n) + 1/(810n^6)))^n * exp(-n) * √(2(π*n))"
   ]
  },
  {
   "cell_type": "code",
   "execution_count": 27,
   "id": "5e57356f-21cd-4734-9598-f17bd42027cc",
   "metadata": {},
   "outputs": [
    {
     "data": {
      "text/plain": [
       "20-element Vector{Tuple{BigInt, BigFloat}}:\n",
       " (1, 0.0)\n",
       " (2, 0.0)\n",
       " (3, 0.0)\n",
       " (4, 0.0)\n",
       " (5, 0.0)\n",
       " (6, 0.0)\n",
       " (7, 0.0)\n",
       " (8, 0.0)\n",
       " (9, 0.0)\n",
       " (10, 0.0)\n",
       " (11, 0.0)\n",
       " (12, 0.0)\n",
       " (13, 0.0)\n",
       " (14, 0.0)\n",
       " (15, -4.0)\n",
       " (16, -37.0)\n",
       " (17, -413.0)\n",
       " (18, -4984.0)\n",
       " (19, -64893.0)\n",
       " (20, -906769.0)"
      ]
     },
     "execution_count": 27,
     "metadata": {},
     "output_type": "execute_result"
    }
   ],
   "source": [
    "[(n, factorial(n) - round(k(n))) for n in big(1):20]"
   ]
  },
  {
   "cell_type": "code",
   "execution_count": 22,
   "id": "23b01c85-d1f6-4ab5-8849-6b487355b24b",
   "metadata": {},
   "outputs": [
    {
     "data": {
      "text/plain": [
       "20-element Vector{Tuple{BigInt, BigFloat}}:\n",
       " (1, 0.0)\n",
       " (2, 0.0)\n",
       " (3, 0.0)\n",
       " (4, 0.0)\n",
       " (5, 0.0)\n",
       " (6, 0.0)\n",
       " (7, 0.0)\n",
       " (8, 0.0)\n",
       " (9, 0.0)\n",
       " (10, 0.0)\n",
       " (11, 0.0)\n",
       " (12, 1.0)\n",
       " (13, 11.0)\n",
       " (14, 105.0)\n",
       " (15, 1120.0)\n",
       " (16, 12981.0)\n",
       " (17, 163034.0)\n",
       " (18, 2.205861e+06)\n",
       " (19, 3.1992579e+07)\n",
       " (20, 4.95224653e+08)"
      ]
     },
     "execution_count": 22,
     "metadata": {},
     "output_type": "execute_result"
    }
   ],
   "source": [
    "[(n, factorial(n) - round(h(n))) for n in big(1):20]"
   ]
  },
  {
   "cell_type": "code",
   "execution_count": 25,
   "id": "fff5aa4a-0028-489a-b9b2-255a4f14ce25",
   "metadata": {},
   "outputs": [
    {
     "data": {
      "text/plain": [
       "20-element Vector{Tuple{BigInt, BigFloat}}:\n",
       " (1, 0.0)\n",
       " (2, 0.0)\n",
       " (3, 0.0)\n",
       " (4, 0.0)\n",
       " (5, 0.0)\n",
       " (6, 0.0)\n",
       " (7, 0.0)\n",
       " (8, 0.0)\n",
       " (9, 0.0)\n",
       " (10, 0.0)\n",
       " (11, -2.0)\n",
       " (12, -20.0)\n",
       " (13, -192.0)\n",
       " (14, -2011.0)\n",
       " (15, -23003.0)\n",
       " (16, -285591.0)\n",
       " (17, -3.824623e+06)\n",
       " (18, -5.4964674e+07)\n",
       " (19, -8.43852264e+08)\n",
       " (20, -1.3784978262e+10)"
      ]
     },
     "execution_count": 25,
     "metadata": {},
     "output_type": "execute_result"
    }
   ],
   "source": [
    "[(n, factorial(n) - round(g(n))) for n in big(1):20]"
   ]
  },
  {
   "cell_type": "code",
   "execution_count": 24,
   "id": "09c75a07-7f61-471e-8e24-c1826ccdd13b",
   "metadata": {},
   "outputs": [
    {
     "data": {
      "text/plain": [
       "20-element Vector{Tuple{BigInt, BigFloat}}:\n",
       " (1, 0.0)\n",
       " (2, 0.0)\n",
       " (3, 0.0)\n",
       " (4, 0.0)\n",
       " (5, 0.0)\n",
       " (6, 0.0)\n",
       " (7, 0.0)\n",
       " (8, 0.0)\n",
       " (9, -1.0)\n",
       " (10, -10.0)\n",
       " (11, -80.0)\n",
       " (12, -742.0)\n",
       " (13, -7588.0)\n",
       " (14, -85073.0)\n",
       " (15, -1.037698e+06)\n",
       " (16, -1.368263e+07)\n",
       " (17, -1.93947941e+08)\n",
       " (18, -2.941247582e+09)\n",
       " (19, -4.7520341372e+10)\n",
       " (20, -8.14915154029e+11)"
      ]
     },
     "execution_count": 24,
     "metadata": {},
     "output_type": "execute_result"
    }
   ],
   "source": [
    "[(n, factorial(n) - round(f(n))) for n in big(1):20]"
   ]
  },
  {
   "cell_type": "code",
   "execution_count": null,
   "id": "0b1c9210-bea8-4241-9d33-9de3e47b3f42",
   "metadata": {},
   "outputs": [],
   "source": []
  }
 ],
 "metadata": {
  "kernelspec": {
   "display_name": "Julia 1.6.4",
   "language": "julia",
   "name": "julia-1.6"
  },
  "language_info": {
   "file_extension": ".jl",
   "mimetype": "application/julia",
   "name": "julia",
   "version": "1.6.4"
  }
 },
 "nbformat": 4,
 "nbformat_minor": 5
}
