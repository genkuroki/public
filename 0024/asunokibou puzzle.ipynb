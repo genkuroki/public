{
 "cells": [
  {
   "cell_type": "markdown",
   "id": "b6aaf5d0-e1d8-4078-bf4d-8e91109ee668",
   "metadata": {},
   "source": [
    "* https://twitter.com/asunokibou/status/1457694534016507922\n",
    "* https://twitter.com/mathsorcerer/status/1457937816235634691\n",
    "* https://twitter.com/sophia8wendel/status/1457980892966576128"
   ]
  },
  {
   "cell_type": "code",
   "execution_count": 1,
   "id": "b9d25237-da35-444d-a765-c1ced8b82f2b",
   "metadata": {},
   "outputs": [
    {
     "data": {
      "text/plain": [
       "54-element Vector{Vector{Int64}}:\n",
       " [1, 2, 3, 4, 5, 6, 7]\n",
       " [1, 2, 3, 8, 5, 4, 7]\n",
       " [1, 2, 4, 3, 5, 8, 6]\n",
       " [1, 2, 6, 8, 5, 3, 7]\n",
       " [1, 2, 6, 8, 5, 9, 3]\n",
       " [1, 2, 9, 3, 6, 4, 7]\n",
       " [1, 2, 9, 3, 6, 8, 4]\n",
       " [1, 2, 9, 4, 3, 6, 7]\n",
       " [1, 2, 9, 6, 5, 3, 7]\n",
       " [1, 2, 9, 8, 3, 4, 7]\n",
       " [1, 2, 9, 8, 5, 3, 6]\n",
       " [1, 3, 2, 4, 5, 9, 6]\n",
       " [1, 3, 2, 8, 6, 4, 7]\n",
       " [1, 3, 4, 2, 6, 8, 7]\n",
       " [1, 3, 9, 2, 4, 8, 7]\n",
       " [1, 3, 9, 2, 5, 6, 7]\n",
       " [1, 3, 9, 8, 2, 6, 7]\n",
       " [1, 4, 2, 3, 5, 9, 7]\n",
       " [1, 4, 2, 6, 3, 9, 7]\n",
       " [1, 4, 2, 8, 3, 9, 6]\n",
       " [1, 4, 3, 2, 6, 9, 7]\n",
       " [1, 6, 3, 2, 5, 9, 7]\n",
       " [1, 6, 3, 8, 2, 9, 7]\n",
       " [1, 6, 9, 8, 5, 4, 3]\n",
       " [1, 8, 2, 3, 4, 9, 7]\n",
       " [1, 8, 4, 2, 5, 6, 7]\n",
       " [1, 8, 9, 6, 5, 3, 4]\n",
       " [2, 1, 3, 4, 6, 9, 7]\n",
       " [2, 1, 3, 8, 5, 6, 7]\n",
       " [2, 1, 6, 3, 5, 9, 7]\n",
       " [2, 1, 6, 8, 5, 4, 7]\n",
       " [2, 1, 9, 6, 5, 4, 7]\n",
       " [2, 1, 9, 6, 5, 8, 4]\n",
       " [2, 1, 9, 8, 3, 6, 7]\n",
       " [2, 1, 9, 8, 5, 4, 6]\n",
       " [2, 4, 1, 8, 6, 9, 7]\n",
       " [2, 6, 1, 8, 5, 9, 7]\n",
       " [3, 1, 2, 8, 5, 9, 7]\n",
       " [3, 4, 1, 8, 5, 9, 7]\n",
       " [3, 4, 6, 8, 5, 9, 2]\n",
       " [3, 6, 9, 4, 5, 2, 7]\n",
       " [3, 8, 4, 6, 5, 2, 7]\n",
       " [4, 6, 9, 2, 5, 8, 3]\n",
       " [4, 8, 6, 2, 5, 3, 7]\n",
       " [4, 8, 6, 2, 5, 9, 3]\n",
       " [4, 8, 9, 2, 5, 3, 6]\n",
       " [4, 8, 9, 3, 6, 2, 7]\n",
       " [4, 8, 9, 6, 2, 3, 7]\n",
       " [6, 1, 4, 3, 5, 8, 7]\n",
       " [6, 1, 9, 8, 5, 3, 7]\n",
       " [6, 3, 1, 8, 5, 9, 7]\n",
       " [6, 4, 9, 2, 5, 3, 7]\n",
       " [6, 4, 9, 8, 2, 3, 7]\n",
       " [6, 8, 9, 2, 4, 3, 7]"
      ]
     },
     "execution_count": 1,
     "metadata": {},
     "output_type": "execute_result"
    }
   ],
   "source": [
    "ENV[\"LINES\"] = 100\n",
    "using Combinatorics\n",
    "sol = [p for p in permutations(1:9, 7) if sum(i//p[i] for i in 1:7) == 7]"
   ]
  },
  {
   "cell_type": "code",
   "execution_count": null,
   "id": "bde5742d-8fd7-4452-bbcb-05bdb5bc674d",
   "metadata": {},
   "outputs": [],
   "source": []
  }
 ],
 "metadata": {
  "jupytext": {
   "formats": "ipynb,jl:hydrogen"
  },
  "kernelspec": {
   "display_name": "Julia 1.6.3",
   "language": "julia",
   "name": "julia-1.6"
  },
  "language_info": {
   "file_extension": ".jl",
   "mimetype": "application/julia",
   "name": "julia",
   "version": "1.6.3"
  }
 },
 "nbformat": 4,
 "nbformat_minor": 5
}
