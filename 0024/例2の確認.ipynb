{
 "cells": [
  {
   "cell_type": "markdown",
   "id": "0db756fa-6b78-4bda-bfa8-6d404543369f",
   "metadata": {},
   "source": [
    "https://twitter.com/genkuroki/status/1463113855299584007"
   ]
  },
  {
   "cell_type": "code",
   "execution_count": 1,
   "id": "7fbfb286-59e0-49b2-b757-74e6e7e8b243",
   "metadata": {},
   "outputs": [
    {
     "data": {
      "text/latex": [
       "$\\begin{equation*}\\frac{\\sqrt{2} e^{- \\frac{\\left(x - μ\\right)^{2}}{2 σ²}}}{2 \\sqrt{\\pi} \\sqrt{σ²}}\\end{equation*}$\n"
      ],
      "text/plain": [
       "               2 \n",
       "       -(x - μ)  \n",
       "       ----------\n",
       "  ___     2*σ²   \n",
       "\\/ 2 *e          \n",
       "-----------------\n",
       "     ____   ____ \n",
       " 2*\\/ pi *\\/ σ²  "
      ]
     },
     "execution_count": 1,
     "metadata": {},
     "output_type": "execute_result"
    }
   ],
   "source": [
    "using SymPy\n",
    "@vars x w μ σ²\n",
    "N(x, μ, σ²) = 1/√(2oftype(x, π)*σ²) * exp(-(x - μ)^2/(2σ²))\n",
    "N(x, μ, σ²)"
   ]
  },
  {
   "cell_type": "code",
   "execution_count": 2,
   "id": "6443649e-666e-4ca5-a711-31dffef8d689",
   "metadata": {},
   "outputs": [
    {
     "data": {
      "text/latex": [
       "$\\begin{equation*}\\frac{\\sqrt{2} e^{- \\frac{w^{2}}{2}}}{2 \\sqrt{\\pi}}\\end{equation*}$\n"
      ],
      "text/plain": [
       "         2 \n",
       "       -w  \n",
       "       ----\n",
       "  ___   2  \n",
       "\\/ 2 *e    \n",
       "-----------\n",
       "      ____ \n",
       "  2*\\/ pi  "
      ]
     },
     "execution_count": 2,
     "metadata": {},
     "output_type": "execute_result"
    }
   ],
   "source": [
    "var\"P(w)\" = N(w, 0, 1)"
   ]
  },
  {
   "cell_type": "code",
   "execution_count": 3,
   "id": "78082d36-76aa-4fb8-bb2e-10d3cc29fcca",
   "metadata": {},
   "outputs": [
    {
     "data": {
      "text/latex": [
       "$\\begin{equation*}\\frac{\\sqrt{2} e^{- \\frac{\\left(- w + x\\right)^{2}}{2}}}{2 \\sqrt{\\pi}}\\end{equation*}$\n"
      ],
      "text/plain": [
       "                2 \n",
       "       -(-w + x)  \n",
       "       -----------\n",
       "  ___       2     \n",
       "\\/ 2 *e           \n",
       "------------------\n",
       "         ____     \n",
       "     2*\\/ pi      "
      ]
     },
     "execution_count": 3,
     "metadata": {},
     "output_type": "execute_result"
    }
   ],
   "source": [
    "var\"P(x|w)\" = N(x, w, 1)"
   ]
  },
  {
   "cell_type": "code",
   "execution_count": 4,
   "id": "d2051a54-7144-4813-884b-f69a3a340d36",
   "metadata": {},
   "outputs": [
    {
     "data": {
      "text/latex": [
       "$\\begin{equation*}\\frac{e^{- w^{2} + w x - \\frac{x^{2}}{2}}}{2 \\pi}\\end{equation*}$\n"
      ],
      "text/plain": [
       "               2\n",
       "    2         x \n",
       " - w  + w*x - --\n",
       "              2 \n",
       "e               \n",
       "----------------\n",
       "      2*pi      "
      ]
     },
     "execution_count": 4,
     "metadata": {},
     "output_type": "execute_result"
    }
   ],
   "source": [
    "var\"P(x, w)\" = var\"P(x|w)\" * var\"P(w)\" |> expand |> simplify"
   ]
  },
  {
   "cell_type": "code",
   "execution_count": 5,
   "id": "f34b8e29-ab99-4e7f-bbdf-31ab836ec031",
   "metadata": {},
   "outputs": [
    {
     "data": {
      "text/latex": [
       "$\\begin{equation*}\\frac{e^{- \\frac{x^{2}}{4}}}{2 \\sqrt{\\pi}}\\end{equation*}$\n"
      ],
      "text/plain": [
       "    2   \n",
       "  -x    \n",
       "  ----  \n",
       "   4    \n",
       " e      \n",
       "--------\n",
       "    ____\n",
       "2*\\/ pi "
      ]
     },
     "execution_count": 5,
     "metadata": {},
     "output_type": "execute_result"
    }
   ],
   "source": [
    "var\"P(x)\" = integrate(var\"P(x, w)\", (w, -oo, oo)) |> expand |> simplify"
   ]
  },
  {
   "cell_type": "code",
   "execution_count": 6,
   "id": "9cf2ca8a-e804-46ac-9bc7-931eecc4cd65",
   "metadata": {},
   "outputs": [
    {
     "data": {
      "text/plain": [
       "true"
      ]
     },
     "execution_count": 6,
     "metadata": {},
     "output_type": "execute_result"
    }
   ],
   "source": [
    "var\"P(x)\" == N(x, 0, 2)"
   ]
  },
  {
   "cell_type": "code",
   "execution_count": 7,
   "id": "2fce441b-0dba-4d8a-94f3-9c06bcd5318a",
   "metadata": {},
   "outputs": [
    {
     "data": {
      "text/latex": [
       "$\\begin{equation*}\\frac{e^{- w^{2} + w x - \\frac{x^{2}}{4}}}{\\sqrt{\\pi}}\\end{equation*}$\n"
      ],
      "text/plain": [
       "               2\n",
       "    2         x \n",
       " - w  + w*x - --\n",
       "              4 \n",
       "e               \n",
       "----------------\n",
       "       ____     \n",
       "     \\/ pi      "
      ]
     },
     "execution_count": 7,
     "metadata": {},
     "output_type": "execute_result"
    }
   ],
   "source": [
    "var\"P(w|x)\" = var\"P(x, w)\"/var\"P(x)\" |> expand |> simplify"
   ]
  },
  {
   "cell_type": "code",
   "execution_count": 8,
   "id": "4802e021-42e8-437c-80a2-7853b5da5074",
   "metadata": {},
   "outputs": [
    {
     "data": {
      "text/plain": [
       "true"
      ]
     },
     "execution_count": 8,
     "metadata": {},
     "output_type": "execute_result"
    }
   ],
   "source": [
    "var\"P(w|x)\" == N(w, x/2, 1//2) |> expand |> simplify"
   ]
  },
  {
   "cell_type": "code",
   "execution_count": null,
   "id": "1a055f0d-d1a9-445c-b32e-b0335f1a17e1",
   "metadata": {},
   "outputs": [],
   "source": []
  }
 ],
 "metadata": {
  "jupytext": {
   "formats": "ipynb,jl:hydrogen"
  },
  "kernelspec": {
   "display_name": "Julia 1.6.4",
   "language": "julia",
   "name": "julia-1.6"
  },
  "language_info": {
   "file_extension": ".jl",
   "mimetype": "application/julia",
   "name": "julia",
   "version": "1.6.4"
  }
 },
 "nbformat": 4,
 "nbformat_minor": 5
}
