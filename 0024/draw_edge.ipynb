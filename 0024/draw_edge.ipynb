{
 "cells": [
  {
   "cell_type": "markdown",
   "metadata": {},
   "source": [
    "https://twitter.com/MathSorcerer/status/1302576992965984261"
   ]
  },
  {
   "cell_type": "code",
   "execution_count": 1,
   "metadata": {
    "ExecuteTime": {
     "end_time": "2020-09-06T20:55:40.807000+09:00",
     "start_time": "2020-09-06T11:55:40.110Z"
    }
   },
   "outputs": [],
   "source": [
    "module Goma # 再編集しやすいように仮想モジュールを設定\n",
    "\n",
    "abstract type AbstractEdge{T<:Integer} end\n",
    "\n",
    "struct Edge{T} <: AbstractEdge{T}\n",
    "    data::NTuple{2, T}\n",
    "    Edge(x::NTuple{2, T}) where T = new{T}(x)\n",
    "    # To define Edge{Int}(1, 2)\n",
    "    Edge{T}(x::Vararg{T2, 2}) where {T, T2} = new{T}(NTuple{2, T}(convert.(T, x)))\n",
    "    # To define Edge{Int}([1, 2])\n",
    "    Edge{T}(x::AbstractVector{T2}) where {T,T2} = new{T}(NTuple{2, T2}(x))\n",
    "    # To define Edge{Int}((1,2))\n",
    "    Edge{T}(x::Tuple) where T = new{T}(NTuple{2, T}(x))\n",
    "end\n",
    "\n",
    "function Edge(x::Tuple)\n",
    "    nt = NTuple(promote(x...))\n",
    "    if eltype(nt) <: Integer\n",
    "        Edge(nt)\n",
    "    else\n",
    "        try \n",
    "            Edge(Int.(nt))\n",
    "        catch \n",
    "            error(\"Fail to convert $(nt) to NTuple{$(length(nt)), Int}\")\n",
    "        end\n",
    "    end\n",
    "end\n",
    "\n",
    "Edge(v::AbstractVector) = Edge(promote(v...))\n",
    "Edge(vargs...) = Edge(vargs)\n",
    "\n",
    "const Right = Edge(1, 0)\n",
    "const Left  = Edge(-1, 0)\n",
    "const Up    = Edge(0, 1)\n",
    "const Down  = Edge(0, -1)\n",
    "\n",
    "# override functions\n",
    "Base.getindex(e::AbstractEdge, i::Int) = e.data[i]\n",
    "Base.iterate(e::AbstractEdge, state=1) = iterate(e.data, state)\n",
    "Base.length(e::AbstractEdge) = length(e.data)\n",
    "Base.size(e::AbstractEdge) = (length(e.data),)\n",
    "\n",
    "function Base.getproperty(e::Edge, sym::Symbol)\n",
    "    if sym in fieldnames(Edge)\n",
    "        return getfield(e, sym)\n",
    "    elseif sym === :x\n",
    "        return e[1]\n",
    "    elseif sym === :y\n",
    "        return e[2]\n",
    "    else\n",
    "        error(\"invalid symbol $sym\")\n",
    "    end\n",
    "end\n",
    "\n",
    "function Base.show(io::IO,  mime::MIME\"text/plain\", e::AbstractEdge{T}) where {T}\n",
    "    println(io, e |> typeof)\n",
    "    for (i, (s, d)) in enumerate(zip([:x,:y], e))\n",
    "        println(io, \"$s = $(e[i])\")\n",
    "    end\n",
    "end\n",
    "\n",
    "# Define conversion and promotion\n",
    "Base.promote_rule(a::Type{Edge{T1}}, b::Type{Edge{T2}}) where {T1, T2} = Edge{promote_type(T1, T2)}\n",
    "Edge{T}(x::Edge{T2}) where {T, T2} = Edge{T}(x.data)\n",
    "Edge(x::Edge) = x\n",
    "\n",
    "Base.convert(::Type{Edge{T}}, x::Edge{T2}) where {T, T2} = Edge{T}(x)\n",
    "\n",
    "# Operation\n",
    "for op in [:+, :-, :*]\n",
    "    @eval function Base.$op(e1::AbstractEdge{T1}, e2::AbstractEdge{T2}) where {T1, T2}\n",
    "        promote_type(typeof(e1), typeof(e2))(broadcast($op, e1.data, e2.data))\n",
    "    end\n",
    "end\n",
    "\n",
    "abstract type AbstractPath{T<:Integer} end\n",
    "\n",
    "struct Path{T} <: AbstractPath{T}\n",
    "    edges::Vector{Edge{T}}\n",
    "    origin::NTuple{2, T}\n",
    "    Path(edges::Vector{Edge{T}}) where {T} = new{T}(Edge{T}.(edges), NTuple{2, T}(zeros(T , 2)))\n",
    "    Path{T}(edges::Vector{Edge{T1}}) where {T, T1} = new{T}(Edge{T}.(edges), NTuple{2, T}(zeros(T, 2)))\n",
    "    Path(edges::Vector{Edge{T1}}, origin::NTuple{2, T2}) where {T1, T2} = new{promote_type(T1, T2)}(edges, origin)\n",
    "    Path{T}(edges::Vector{Edge{T1}}, origin) where {T, T1} = new{T}(Edge{T}.(edges), NTuple{2, T}(origin))\n",
    "end\n",
    "\n",
    "end\n",
    "\n",
    "Edge = Goma.Edge\n",
    "Path = Goma.Path\n",
    "\n",
    "R = Right = Goma.Right\n",
    "L = Left = Goma.Left\n",
    "U = Up = Goma.Up\n",
    "D = Down = Goma.Down;"
   ]
  },
  {
   "cell_type": "code",
   "execution_count": 2,
   "metadata": {
    "ExecuteTime": {
     "end_time": "2020-09-06T20:55:40.851000+09:00",
     "start_time": "2020-09-06T11:55:40.111Z"
    }
   },
   "outputs": [],
   "source": [
    "using Plots"
   ]
  },
  {
   "cell_type": "code",
   "execution_count": 3,
   "metadata": {
    "ExecuteTime": {
     "end_time": "2020-09-06T20:55:42.928000+09:00",
     "start_time": "2020-09-06T11:55:40.114Z"
    },
    "tags": []
   },
   "outputs": [
    {
     "data": {
      "image/svg+xml": [
       "<?xml version=\"1.0\" encoding=\"utf-8\"?>\n",
       "<svg xmlns=\"http://www.w3.org/2000/svg\" xmlns:xlink=\"http://www.w3.org/1999/xlink\" width=\"600\" height=\"400\" viewBox=\"0 0 2400 1600\">\n",
       "<defs>\n",
       "  <clipPath id=\"clip360\">\n",
       "    <rect x=\"0\" y=\"0\" width=\"2400\" height=\"1600\"/>\n",
       "  </clipPath>\n",
       "</defs>\n",
       "<path clip-path=\"url(#clip360)\" d=\"\n",
       "M0 1600 L2400 1600 L2400 0 L0 0  Z\n",
       "  \" fill=\"#ffffff\" fill-rule=\"evenodd\" fill-opacity=\"1\"/>\n",
       "<defs>\n",
       "  <clipPath id=\"clip361\">\n",
       "    <rect x=\"480\" y=\"0\" width=\"1681\" height=\"1600\"/>\n",
       "  </clipPath>\n",
       "</defs>\n",
       "<path clip-path=\"url(#clip360)\" d=\"\n",
       "M174.149 1423.18 L2352.76 1423.18 L2352.76 47.2441 L174.149 47.2441  Z\n",
       "  \" fill=\"#ffffff\" fill-rule=\"evenodd\" fill-opacity=\"1\"/>\n",
       "<defs>\n",
       "  <clipPath id=\"clip362\">\n",
       "    <rect x=\"174\" y=\"47\" width=\"2180\" height=\"1377\"/>\n",
       "  </clipPath>\n",
       "</defs>\n",
       "<polyline clip-path=\"url(#clip362)\" style=\"stroke:#000000; stroke-linecap:butt; stroke-linejoin:round; stroke-width:2; stroke-opacity:0.1; fill:none\" points=\"\n",
       "  235.808,1423.18 235.808,47.2441 \n",
       "  \"/>\n",
       "<polyline clip-path=\"url(#clip362)\" style=\"stroke:#000000; stroke-linecap:butt; stroke-linejoin:round; stroke-width:2; stroke-opacity:0.1; fill:none\" points=\"\n",
       "  646.866,1423.18 646.866,47.2441 \n",
       "  \"/>\n",
       "<polyline clip-path=\"url(#clip362)\" style=\"stroke:#000000; stroke-linecap:butt; stroke-linejoin:round; stroke-width:2; stroke-opacity:0.1; fill:none\" points=\"\n",
       "  1057.92,1423.18 1057.92,47.2441 \n",
       "  \"/>\n",
       "<polyline clip-path=\"url(#clip362)\" style=\"stroke:#000000; stroke-linecap:butt; stroke-linejoin:round; stroke-width:2; stroke-opacity:0.1; fill:none\" points=\"\n",
       "  1468.98,1423.18 1468.98,47.2441 \n",
       "  \"/>\n",
       "<polyline clip-path=\"url(#clip362)\" style=\"stroke:#000000; stroke-linecap:butt; stroke-linejoin:round; stroke-width:2; stroke-opacity:0.1; fill:none\" points=\"\n",
       "  1880.04,1423.18 1880.04,47.2441 \n",
       "  \"/>\n",
       "<polyline clip-path=\"url(#clip362)\" style=\"stroke:#000000; stroke-linecap:butt; stroke-linejoin:round; stroke-width:2; stroke-opacity:0.1; fill:none\" points=\"\n",
       "  2291.1,1423.18 2291.1,47.2441 \n",
       "  \"/>\n",
       "<polyline clip-path=\"url(#clip360)\" style=\"stroke:#000000; stroke-linecap:butt; stroke-linejoin:round; stroke-width:4; stroke-opacity:1; fill:none\" points=\"\n",
       "  174.149,1423.18 2352.76,1423.18 \n",
       "  \"/>\n",
       "<polyline clip-path=\"url(#clip360)\" style=\"stroke:#000000; stroke-linecap:butt; stroke-linejoin:round; stroke-width:4; stroke-opacity:1; fill:none\" points=\"\n",
       "  235.808,1423.18 235.808,1404.28 \n",
       "  \"/>\n",
       "<polyline clip-path=\"url(#clip360)\" style=\"stroke:#000000; stroke-linecap:butt; stroke-linejoin:round; stroke-width:4; stroke-opacity:1; fill:none\" points=\"\n",
       "  646.866,1423.18 646.866,1404.28 \n",
       "  \"/>\n",
       "<polyline clip-path=\"url(#clip360)\" style=\"stroke:#000000; stroke-linecap:butt; stroke-linejoin:round; stroke-width:4; stroke-opacity:1; fill:none\" points=\"\n",
       "  1057.92,1423.18 1057.92,1404.28 \n",
       "  \"/>\n",
       "<polyline clip-path=\"url(#clip360)\" style=\"stroke:#000000; stroke-linecap:butt; stroke-linejoin:round; stroke-width:4; stroke-opacity:1; fill:none\" points=\"\n",
       "  1468.98,1423.18 1468.98,1404.28 \n",
       "  \"/>\n",
       "<polyline clip-path=\"url(#clip360)\" style=\"stroke:#000000; stroke-linecap:butt; stroke-linejoin:round; stroke-width:4; stroke-opacity:1; fill:none\" points=\"\n",
       "  1880.04,1423.18 1880.04,1404.28 \n",
       "  \"/>\n",
       "<polyline clip-path=\"url(#clip360)\" style=\"stroke:#000000; stroke-linecap:butt; stroke-linejoin:round; stroke-width:4; stroke-opacity:1; fill:none\" points=\"\n",
       "  2291.1,1423.18 2291.1,1404.28 \n",
       "  \"/>\n",
       "<path clip-path=\"url(#clip360)\" d=\"M235.808 1454.1 Q232.197 1454.1 230.368 1457.66 Q228.562 1461.2 228.562 1468.33 Q228.562 1475.44 230.368 1479.01 Q232.197 1482.55 235.808 1482.55 Q239.442 1482.55 241.247 1479.01 Q243.076 1475.44 243.076 1468.33 Q243.076 1461.2 241.247 1457.66 Q239.442 1454.1 235.808 1454.1 M235.808 1450.39 Q241.618 1450.39 244.673 1455 Q247.752 1459.58 247.752 1468.33 Q247.752 1477.06 244.673 1481.67 Q241.618 1486.25 235.808 1486.25 Q229.997 1486.25 226.919 1481.67 Q223.863 1477.06 223.863 1468.33 Q223.863 1459.58 226.919 1455 Q229.997 1450.39 235.808 1450.39 Z\" fill=\"#000000\" fill-rule=\"evenodd\" fill-opacity=\"1\" /><path clip-path=\"url(#clip360)\" d=\"M637.248 1481.64 L644.886 1481.64 L644.886 1455.28 L636.576 1456.95 L636.576 1452.69 L644.84 1451.02 L649.516 1451.02 L649.516 1481.64 L657.155 1481.64 L657.155 1485.58 L637.248 1485.58 L637.248 1481.64 Z\" fill=\"#000000\" fill-rule=\"evenodd\" fill-opacity=\"1\" /><path clip-path=\"url(#clip360)\" d=\"M1052.58 1481.64 L1068.9 1481.64 L1068.9 1485.58 L1046.95 1485.58 L1046.95 1481.64 Q1049.61 1478.89 1054.2 1474.26 Q1058.8 1469.61 1059.98 1468.27 Q1062.23 1465.74 1063.11 1464.01 Q1064.01 1462.25 1064.01 1460.56 Q1064.01 1457.8 1062.07 1456.07 Q1060.15 1454.33 1057.04 1454.33 Q1054.84 1454.33 1052.39 1455.09 Q1049.96 1455.86 1047.18 1457.41 L1047.18 1452.69 Q1050.01 1451.55 1052.46 1450.97 Q1054.91 1450.39 1056.95 1450.39 Q1062.32 1450.39 1065.52 1453.08 Q1068.71 1455.77 1068.71 1460.26 Q1068.71 1462.39 1067.9 1464.31 Q1067.11 1466.2 1065.01 1468.8 Q1064.43 1469.47 1061.33 1472.69 Q1058.22 1475.88 1052.58 1481.64 Z\" fill=\"#000000\" fill-rule=\"evenodd\" fill-opacity=\"1\" /><path clip-path=\"url(#clip360)\" d=\"M1473.23 1466.95 Q1476.59 1467.66 1478.46 1469.93 Q1480.36 1472.2 1480.36 1475.53 Q1480.36 1480.65 1476.84 1483.45 Q1473.32 1486.25 1466.84 1486.25 Q1464.66 1486.25 1462.35 1485.81 Q1460.06 1485.39 1457.6 1484.54 L1457.6 1480.02 Q1459.55 1481.16 1461.86 1481.74 Q1464.18 1482.32 1466.7 1482.32 Q1471.1 1482.32 1473.39 1480.58 Q1475.71 1478.84 1475.71 1475.53 Q1475.71 1472.48 1473.55 1470.77 Q1471.42 1469.03 1467.6 1469.03 L1463.58 1469.03 L1463.58 1465.19 L1467.79 1465.19 Q1471.24 1465.19 1473.07 1463.82 Q1474.9 1462.43 1474.9 1459.84 Q1474.9 1457.18 1473 1455.77 Q1471.12 1454.33 1467.6 1454.33 Q1465.68 1454.33 1463.48 1454.75 Q1461.28 1455.16 1458.65 1456.04 L1458.65 1451.88 Q1461.31 1451.14 1463.62 1450.77 Q1465.96 1450.39 1468.02 1450.39 Q1473.34 1450.39 1476.45 1452.83 Q1479.55 1455.23 1479.55 1459.35 Q1479.55 1462.22 1477.9 1464.21 Q1476.26 1466.18 1473.23 1466.95 Z\" fill=\"#000000\" fill-rule=\"evenodd\" fill-opacity=\"1\" /><path clip-path=\"url(#clip360)\" d=\"M1883.05 1455.09 L1871.24 1473.54 L1883.05 1473.54 L1883.05 1455.09 M1881.82 1451.02 L1887.7 1451.02 L1887.7 1473.54 L1892.63 1473.54 L1892.63 1477.43 L1887.7 1477.43 L1887.7 1485.58 L1883.05 1485.58 L1883.05 1477.43 L1867.45 1477.43 L1867.45 1472.92 L1881.82 1451.02 Z\" fill=\"#000000\" fill-rule=\"evenodd\" fill-opacity=\"1\" /><path clip-path=\"url(#clip360)\" d=\"M2281.38 1451.02 L2299.73 1451.02 L2299.73 1454.96 L2285.66 1454.96 L2285.66 1463.43 Q2286.68 1463.08 2287.69 1462.92 Q2288.71 1462.73 2289.73 1462.73 Q2295.52 1462.73 2298.9 1465.9 Q2302.28 1469.08 2302.28 1474.49 Q2302.28 1480.07 2298.81 1483.17 Q2295.33 1486.25 2289.01 1486.25 Q2286.84 1486.25 2284.57 1485.88 Q2282.32 1485.51 2279.92 1484.77 L2279.92 1480.07 Q2282 1481.2 2284.22 1481.76 Q2286.44 1482.32 2288.92 1482.32 Q2292.93 1482.32 2295.26 1480.21 Q2297.6 1478.1 2297.6 1474.49 Q2297.6 1470.88 2295.26 1468.77 Q2292.93 1466.67 2288.92 1466.67 Q2287.05 1466.67 2285.17 1467.08 Q2283.32 1467.5 2281.38 1468.38 L2281.38 1451.02 Z\" fill=\"#000000\" fill-rule=\"evenodd\" fill-opacity=\"1\" /><path clip-path=\"url(#clip360)\" d=\"M1280.07 1532.4 L1267.18 1549.74 L1280.74 1568.04 L1273.83 1568.04 L1263.45 1554.04 L1253.08 1568.04 L1246.17 1568.04 L1260.01 1549.39 L1247.35 1532.4 L1254.25 1532.4 L1263.71 1545.1 L1273.16 1532.4 L1280.07 1532.4 Z\" fill=\"#000000\" fill-rule=\"evenodd\" fill-opacity=\"1\" /><polyline clip-path=\"url(#clip362)\" style=\"stroke:#000000; stroke-linecap:butt; stroke-linejoin:round; stroke-width:2; stroke-opacity:0.1; fill:none\" points=\"\n",
       "  174.149,1384.24 2352.76,1384.24 \n",
       "  \"/>\n",
       "<polyline clip-path=\"url(#clip362)\" style=\"stroke:#000000; stroke-linecap:butt; stroke-linejoin:round; stroke-width:2; stroke-opacity:0.1; fill:none\" points=\"\n",
       "  174.149,951.554 2352.76,951.554 \n",
       "  \"/>\n",
       "<polyline clip-path=\"url(#clip362)\" style=\"stroke:#000000; stroke-linecap:butt; stroke-linejoin:round; stroke-width:2; stroke-opacity:0.1; fill:none\" points=\"\n",
       "  174.149,518.87 2352.76,518.87 \n",
       "  \"/>\n",
       "<polyline clip-path=\"url(#clip362)\" style=\"stroke:#000000; stroke-linecap:butt; stroke-linejoin:round; stroke-width:2; stroke-opacity:0.1; fill:none\" points=\"\n",
       "  174.149,86.1857 2352.76,86.1857 \n",
       "  \"/>\n",
       "<polyline clip-path=\"url(#clip360)\" style=\"stroke:#000000; stroke-linecap:butt; stroke-linejoin:round; stroke-width:4; stroke-opacity:1; fill:none\" points=\"\n",
       "  174.149,1423.18 174.149,47.2441 \n",
       "  \"/>\n",
       "<polyline clip-path=\"url(#clip360)\" style=\"stroke:#000000; stroke-linecap:butt; stroke-linejoin:round; stroke-width:4; stroke-opacity:1; fill:none\" points=\"\n",
       "  174.149,1384.24 193.047,1384.24 \n",
       "  \"/>\n",
       "<polyline clip-path=\"url(#clip360)\" style=\"stroke:#000000; stroke-linecap:butt; stroke-linejoin:round; stroke-width:4; stroke-opacity:1; fill:none\" points=\"\n",
       "  174.149,951.554 193.047,951.554 \n",
       "  \"/>\n",
       "<polyline clip-path=\"url(#clip360)\" style=\"stroke:#000000; stroke-linecap:butt; stroke-linejoin:round; stroke-width:4; stroke-opacity:1; fill:none\" points=\"\n",
       "  174.149,518.87 193.047,518.87 \n",
       "  \"/>\n",
       "<polyline clip-path=\"url(#clip360)\" style=\"stroke:#000000; stroke-linecap:butt; stroke-linejoin:round; stroke-width:4; stroke-opacity:1; fill:none\" points=\"\n",
       "  174.149,86.1857 193.047,86.1857 \n",
       "  \"/>\n",
       "<path clip-path=\"url(#clip360)\" d=\"M126.205 1370.04 Q122.593 1370.04 120.765 1373.6 Q118.959 1377.14 118.959 1384.27 Q118.959 1391.38 120.765 1394.94 Q122.593 1398.49 126.205 1398.49 Q129.839 1398.49 131.644 1394.94 Q133.473 1391.38 133.473 1384.27 Q133.473 1377.14 131.644 1373.6 Q129.839 1370.04 126.205 1370.04 M126.205 1366.33 Q132.015 1366.33 135.07 1370.94 Q138.149 1375.52 138.149 1384.27 Q138.149 1393 135.07 1397.61 Q132.015 1402.19 126.205 1402.19 Q120.394 1402.19 117.316 1397.61 Q114.26 1393 114.26 1384.27 Q114.26 1375.52 117.316 1370.94 Q120.394 1366.33 126.205 1366.33 Z\" fill=\"#000000\" fill-rule=\"evenodd\" fill-opacity=\"1\" /><path clip-path=\"url(#clip360)\" d=\"M118.242 964.899 L125.88 964.899 L125.88 938.533 L117.57 940.2 L117.57 935.941 L125.834 934.274 L130.51 934.274 L130.51 964.899 L138.149 964.899 L138.149 968.834 L118.242 968.834 L118.242 964.899 Z\" fill=\"#000000\" fill-rule=\"evenodd\" fill-opacity=\"1\" /><path clip-path=\"url(#clip360)\" d=\"M121.83 532.215 L138.149 532.215 L138.149 536.15 L116.205 536.15 L116.205 532.215 Q118.867 529.46 123.45 524.83 Q128.056 520.178 129.237 518.835 Q131.482 516.312 132.362 514.576 Q133.265 512.817 133.265 511.127 Q133.265 508.372 131.32 506.636 Q129.399 504.9 126.297 504.9 Q124.098 504.9 121.644 505.664 Q119.214 506.428 116.436 507.979 L116.436 503.257 Q119.26 502.122 121.714 501.544 Q124.168 500.965 126.205 500.965 Q131.575 500.965 134.769 503.65 Q137.964 506.335 137.964 510.826 Q137.964 512.956 137.154 514.877 Q136.367 516.775 134.26 519.368 Q133.681 520.039 130.58 523.256 Q127.478 526.451 121.83 532.215 Z\" fill=\"#000000\" fill-rule=\"evenodd\" fill-opacity=\"1\" /><path clip-path=\"url(#clip360)\" d=\"M131.019 84.8315 Q134.376 85.5491 136.251 87.8176 Q138.149 90.0861 138.149 93.4194 Q138.149 98.5351 134.63 101.336 Q131.112 104.137 124.63 104.137 Q122.455 104.137 120.14 103.697 Q117.848 103.28 115.394 102.424 L115.394 97.9101 Q117.339 99.0444 119.654 99.6231 Q121.968 100.202 124.492 100.202 Q128.89 100.202 131.181 98.4657 Q133.496 96.7296 133.496 93.4194 Q133.496 90.3639 131.343 88.6509 Q129.214 86.9148 125.394 86.9148 L121.367 86.9148 L121.367 83.0723 L125.58 83.0723 Q129.029 83.0723 130.857 81.7065 Q132.686 80.3176 132.686 77.7251 Q132.686 75.063 130.788 73.651 Q128.913 72.2158 125.394 72.2158 Q123.473 72.2158 121.274 72.6325 Q119.075 73.0492 116.436 73.9288 L116.436 69.7621 Q119.098 69.0214 121.413 68.651 Q123.751 68.2807 125.811 68.2807 Q131.135 68.2807 134.237 70.7112 Q137.339 73.1186 137.339 77.239 Q137.339 80.1093 135.695 82.1 Q134.052 84.0676 131.019 84.8315 Z\" fill=\"#000000\" fill-rule=\"evenodd\" fill-opacity=\"1\" /><path clip-path=\"url(#clip360)\" d=\"M67.3143 733.525 Q73.68 736.008 75.6216 738.363 Q77.5631 740.718 77.5631 744.665 L77.5631 749.344 L72.6615 749.344 L72.6615 745.906 Q72.6615 743.487 71.5157 742.151 Q70.3699 740.814 66.1048 739.191 L63.4312 738.14 L28.3562 752.559 L28.3562 746.352 L56.238 735.212 L28.3562 724.072 L28.3562 717.865 L67.3143 733.525 Z\" fill=\"#000000\" fill-rule=\"evenodd\" fill-opacity=\"1\" /><polyline clip-path=\"url(#clip362)\" style=\"stroke:#009af9; stroke-linecap:butt; stroke-linejoin:round; stroke-width:4; stroke-opacity:1; fill:none\" points=\"\n",
       "  235.808,1384.24 646.866,1384.24 \n",
       "  \"/>\n",
       "<polyline clip-path=\"url(#clip362)\" style=\"stroke:#009af9; stroke-linecap:butt; stroke-linejoin:round; stroke-width:4; stroke-opacity:1; fill:none\" points=\"\n",
       "  610.866,1366.24 646.866,1384.24 610.866,1402.24 \n",
       "  \"/>\n",
       "<polyline clip-path=\"url(#clip362)\" style=\"stroke:#009af9; stroke-linecap:butt; stroke-linejoin:round; stroke-width:4; stroke-opacity:1; fill:none\" points=\"\n",
       "  646.866,1384.24 235.808,1384.24 \n",
       "  \"/>\n",
       "<polyline clip-path=\"url(#clip362)\" style=\"stroke:#e26f46; stroke-linecap:butt; stroke-linejoin:round; stroke-width:4; stroke-opacity:1; fill:none\" points=\"\n",
       "  646.866,1384.24 1057.92,1384.24 \n",
       "  \"/>\n",
       "<polyline clip-path=\"url(#clip362)\" style=\"stroke:#e26f46; stroke-linecap:butt; stroke-linejoin:round; stroke-width:4; stroke-opacity:1; fill:none\" points=\"\n",
       "  1021.92,1366.24 1057.92,1384.24 1021.92,1402.24 \n",
       "  \"/>\n",
       "<polyline clip-path=\"url(#clip362)\" style=\"stroke:#e26f46; stroke-linecap:butt; stroke-linejoin:round; stroke-width:4; stroke-opacity:1; fill:none\" points=\"\n",
       "  1057.92,1384.24 646.866,1384.24 \n",
       "  \"/>\n",
       "<polyline clip-path=\"url(#clip362)\" style=\"stroke:#3da44d; stroke-linecap:butt; stroke-linejoin:round; stroke-width:4; stroke-opacity:1; fill:none\" points=\"\n",
       "  1057.92,1384.24 1057.92,951.554 \n",
       "  \"/>\n",
       "<polyline clip-path=\"url(#clip362)\" style=\"stroke:#3da44d; stroke-linecap:butt; stroke-linejoin:round; stroke-width:4; stroke-opacity:1; fill:none\" points=\"\n",
       "  1039.92,987.554 1057.92,951.554 1075.92,987.554 \n",
       "  \"/>\n",
       "<polyline clip-path=\"url(#clip362)\" style=\"stroke:#3da44d; stroke-linecap:butt; stroke-linejoin:round; stroke-width:4; stroke-opacity:1; fill:none\" points=\"\n",
       "  1057.92,951.554 1057.92,1384.24 \n",
       "  \"/>\n",
       "<polyline clip-path=\"url(#clip362)\" style=\"stroke:#c271d2; stroke-linecap:butt; stroke-linejoin:round; stroke-width:4; stroke-opacity:1; fill:none\" points=\"\n",
       "  1057.92,951.554 646.866,951.554 \n",
       "  \"/>\n",
       "<polyline clip-path=\"url(#clip362)\" style=\"stroke:#c271d2; stroke-linecap:butt; stroke-linejoin:round; stroke-width:4; stroke-opacity:1; fill:none\" points=\"\n",
       "  682.866,969.554 646.866,951.554 682.866,933.554 \n",
       "  \"/>\n",
       "<polyline clip-path=\"url(#clip362)\" style=\"stroke:#c271d2; stroke-linecap:butt; stroke-linejoin:round; stroke-width:4; stroke-opacity:1; fill:none\" points=\"\n",
       "  646.866,951.554 1057.92,951.554 \n",
       "  \"/>\n",
       "<polyline clip-path=\"url(#clip362)\" style=\"stroke:#ac8d18; stroke-linecap:butt; stroke-linejoin:round; stroke-width:4; stroke-opacity:1; fill:none\" points=\"\n",
       "  646.866,951.554 646.866,518.87 \n",
       "  \"/>\n",
       "<polyline clip-path=\"url(#clip362)\" style=\"stroke:#ac8d18; stroke-linecap:butt; stroke-linejoin:round; stroke-width:4; stroke-opacity:1; fill:none\" points=\"\n",
       "  628.866,554.87 646.866,518.87 664.866,554.87 \n",
       "  \"/>\n",
       "<polyline clip-path=\"url(#clip362)\" style=\"stroke:#ac8d18; stroke-linecap:butt; stroke-linejoin:round; stroke-width:4; stroke-opacity:1; fill:none\" points=\"\n",
       "  646.866,518.87 646.866,951.554 \n",
       "  \"/>\n",
       "<polyline clip-path=\"url(#clip362)\" style=\"stroke:#00a9ad; stroke-linecap:butt; stroke-linejoin:round; stroke-width:4; stroke-opacity:1; fill:none\" points=\"\n",
       "  646.866,518.87 1057.92,86.1857 \n",
       "  \"/>\n",
       "<polyline clip-path=\"url(#clip362)\" style=\"stroke:#00a9ad; stroke-linecap:butt; stroke-linejoin:round; stroke-width:4; stroke-opacity:1; fill:none\" points=\"\n",
       "  1020.08,99.8878 1057.92,86.1857 1046.18,124.683 \n",
       "  \"/>\n",
       "<polyline clip-path=\"url(#clip362)\" style=\"stroke:#00a9ad; stroke-linecap:butt; stroke-linejoin:round; stroke-width:4; stroke-opacity:1; fill:none\" points=\"\n",
       "  1057.92,86.1857 646.866,518.87 \n",
       "  \"/>\n",
       "<polyline clip-path=\"url(#clip362)\" style=\"stroke:#ed5d92; stroke-linecap:butt; stroke-linejoin:round; stroke-width:4; stroke-opacity:1; fill:none\" points=\"\n",
       "  1057.92,86.1857 1468.98,86.1857 \n",
       "  \"/>\n",
       "<polyline clip-path=\"url(#clip362)\" style=\"stroke:#ed5d92; stroke-linecap:butt; stroke-linejoin:round; stroke-width:4; stroke-opacity:1; fill:none\" points=\"\n",
       "  1432.98,68.1857 1468.98,86.1857 1432.98,104.186 \n",
       "  \"/>\n",
       "<polyline clip-path=\"url(#clip362)\" style=\"stroke:#ed5d92; stroke-linecap:butt; stroke-linejoin:round; stroke-width:4; stroke-opacity:1; fill:none\" points=\"\n",
       "  1468.98,86.1857 1057.92,86.1857 \n",
       "  \"/>\n",
       "<polyline clip-path=\"url(#clip362)\" style=\"stroke:#c68125; stroke-linecap:butt; stroke-linejoin:round; stroke-width:4; stroke-opacity:1; fill:none\" points=\"\n",
       "  1468.98,86.1857 1880.04,86.1857 \n",
       "  \"/>\n",
       "<polyline clip-path=\"url(#clip362)\" style=\"stroke:#c68125; stroke-linecap:butt; stroke-linejoin:round; stroke-width:4; stroke-opacity:1; fill:none\" points=\"\n",
       "  1844.04,68.1857 1880.04,86.1857 1844.04,104.186 \n",
       "  \"/>\n",
       "<polyline clip-path=\"url(#clip362)\" style=\"stroke:#c68125; stroke-linecap:butt; stroke-linejoin:round; stroke-width:4; stroke-opacity:1; fill:none\" points=\"\n",
       "  1880.04,86.1857 1468.98,86.1857 \n",
       "  \"/>\n",
       "<polyline clip-path=\"url(#clip362)\" style=\"stroke:#00a98d; stroke-linecap:butt; stroke-linejoin:round; stroke-width:4; stroke-opacity:1; fill:none\" points=\"\n",
       "  1880.04,86.1857 1880.04,518.87 \n",
       "  \"/>\n",
       "<polyline clip-path=\"url(#clip362)\" style=\"stroke:#00a98d; stroke-linecap:butt; stroke-linejoin:round; stroke-width:4; stroke-opacity:1; fill:none\" points=\"\n",
       "  1898.04,482.87 1880.04,518.87 1862.04,482.87 \n",
       "  \"/>\n",
       "<polyline clip-path=\"url(#clip362)\" style=\"stroke:#00a98d; stroke-linecap:butt; stroke-linejoin:round; stroke-width:4; stroke-opacity:1; fill:none\" points=\"\n",
       "  1880.04,518.87 1880.04,86.1857 \n",
       "  \"/>\n",
       "<polyline clip-path=\"url(#clip362)\" style=\"stroke:#8e971d; stroke-linecap:butt; stroke-linejoin:round; stroke-width:4; stroke-opacity:1; fill:none\" points=\"\n",
       "  1880.04,518.87 2291.1,518.87 \n",
       "  \"/>\n",
       "<polyline clip-path=\"url(#clip362)\" style=\"stroke:#8e971d; stroke-linecap:butt; stroke-linejoin:round; stroke-width:4; stroke-opacity:1; fill:none\" points=\"\n",
       "  2255.1,500.87 2291.1,518.87 2255.1,536.87 \n",
       "  \"/>\n",
       "<polyline clip-path=\"url(#clip362)\" style=\"stroke:#8e971d; stroke-linecap:butt; stroke-linejoin:round; stroke-width:4; stroke-opacity:1; fill:none\" points=\"\n",
       "  2291.1,518.87 1880.04,518.87 \n",
       "  \"/>\n",
       "</svg>\n"
      ]
     },
     "execution_count": 3,
     "metadata": {},
     "output_type": "execute_result"
    }
   ],
   "source": [
    "edges = Edge{Int32}.([\n",
    "        [1,0],\n",
    "        R,\n",
    "        U,\n",
    "        L,\n",
    "        U,\n",
    "        [1,1],\n",
    "        R,\n",
    "        R,\n",
    "        [0,-1],\n",
    "        R,\n",
    "])\n",
    "\n",
    "path = Path(edges)\n",
    "\n",
    "x, y = path.origin\n",
    "xmin = xmax = x\n",
    "ymin = ymax = y\n",
    "\n",
    "p = plot(xlabel=\"x\", ylabel=\"y\")\n",
    "for e in path.edges\n",
    "    quiver!(p, [x], [y], quiver=([e.x], [e.y]))\n",
    "    x += e.x\n",
    "    y += e.y\n",
    "    xmin = min(xmin, x + e.x)\n",
    "    ymin = min(ymin, y + e.y)\n",
    "    xmax = max(xmax, x + e.x)\n",
    "    ymax = max(ymax, y + e.y)\n",
    "end\n",
    "\n",
    "plot!(p, xticks = xmin:xmax, yticks = ymin:ymax)\n",
    "\n",
    "p"
   ]
  },
  {
   "cell_type": "code",
   "execution_count": 4,
   "metadata": {},
   "outputs": [
    {
     "data": {
      "text/html": [
       "# 5 methods for type constructor:<ul><li> Main.Goma.Edge(x::<b>Tuple{T, T}</b>)<i> where T</i> in Main.Goma at In[1]:7</li> <li> Main.Goma.Edge(x::<b>Tuple</b>) in Main.Goma at In[1]:16</li> <li> Main.Goma.Edge(v::<b>AbstractVector{T} where T</b>) in Main.Goma at In[1]:29</li> <li> Main.Goma.Edge(x::<b>Main.Goma.Edge</b>) in Main.Goma at In[1]:65</li> <li> Main.Goma.Edge(vargs...) in Main.Goma at In[1]:30</li> </ul>"
      ],
      "text/plain": [
       "# 5 methods for type constructor:\n",
       "[1] Main.Goma.Edge(x::Tuple{T, T}) where T in Main.Goma at In[1]:7\n",
       "[2] Main.Goma.Edge(x::Tuple) in Main.Goma at In[1]:16\n",
       "[3] Main.Goma.Edge(v::AbstractVector{T} where T) in Main.Goma at In[1]:29\n",
       "[4] Main.Goma.Edge(x::Main.Goma.Edge) in Main.Goma at In[1]:65\n",
       "[5] Main.Goma.Edge(vargs...) in Main.Goma at In[1]:30"
      ]
     },
     "execution_count": 4,
     "metadata": {},
     "output_type": "execute_result"
    }
   ],
   "source": [
    "methods(Goma.Edge)"
   ]
  },
  {
   "cell_type": "code",
   "execution_count": 5,
   "metadata": {
    "ExecuteTime": {
     "end_time": "2020-09-06T20:55:40.807000+09:00",
     "start_time": "2020-09-06T11:55:40.110Z"
    }
   },
   "outputs": [],
   "source": [
    "module Kuma # 再編集しやすいように仮想モジュールを設定\n",
    "\n",
    "abstract type AbstractEdge{T<:Integer} end\n",
    "\n",
    "struct Edge{T} <: AbstractEdge{T}\n",
    "    data::NTuple{2, T}\n",
    "    # Automatically defined are\n",
    "    #   Edge(data::Tuple{T, T}) where T\n",
    "    #   Edge{T}(data)\n",
    "\n",
    "#     Edge(x::NTuple{2, T}) where T = new{T}(x)\n",
    "#     # To define Edge{Int}(1, 2)\n",
    "#     Edge{T}(x::Vararg{T2, 2}) where {T, T2} = new{T}(NTuple{2, T}(convert.(T, x)))\n",
    "#     # To define Edge{Int}([1, 2])\n",
    "#     Edge{T}(x::AbstractVector{T2}) where {T,T2} = new{T}(NTuple{2, T2}(x))\n",
    "#     # To define Edge{Int}((1,2))\n",
    "#     Edge{T}(x::Tuple) where T = new{T}(NTuple{2, T}(x))\n",
    "end\n",
    "\n",
    "Edge{T}(x, y) where T = Edge{T}((x, y))\n",
    "Edge{T}(v::AbstractVector) where T = Edge{T}(v...)\n",
    "\n",
    "function Edge(x::Tuple)\n",
    "    nt = NTuple(promote(x...))\n",
    "    if eltype(nt) <: Integer\n",
    "        Edge(nt)\n",
    "    else\n",
    "        try \n",
    "            Edge(Int.(nt))\n",
    "        catch \n",
    "            error(\"Fail to convert $(nt) to NTuple{$(length(nt)), Int}\")\n",
    "        end\n",
    "    end\n",
    "end\n",
    "\n",
    "Edge(x, y) = Edge((x, y))\n",
    "Edge(v::AbstractVector) = Edge(v...)\n",
    "\n",
    "const Right = Edge(1, 0)\n",
    "const Left  = Edge(-1, 0)\n",
    "const Up    = Edge(0, 1)\n",
    "const Down  = Edge(0, -1)\n",
    "\n",
    "# override functions\n",
    "Base.getindex(e::AbstractEdge, i::Int) = e.data[i]\n",
    "Base.iterate(e::AbstractEdge, state=1) = iterate(e.data, state)\n",
    "Base.length(e::AbstractEdge) = length(e.data)\n",
    "Base.size(e::AbstractEdge) = (length(e.data),)\n",
    "\n",
    "function Base.getproperty(e::Edge, sym::Symbol)\n",
    "    if sym in fieldnames(Edge)\n",
    "        return getfield(e, sym)\n",
    "    elseif sym === :x\n",
    "        return e[1]\n",
    "    elseif sym === :y\n",
    "        return e[2]\n",
    "    else\n",
    "        error(\"invalid symbol $sym\")\n",
    "    end\n",
    "end\n",
    "\n",
    "function Base.show(io::IO,  mime::MIME\"text/plain\", e::AbstractEdge{T}) where {T}\n",
    "    println(io, e |> typeof)\n",
    "    for (i, (s, d)) in enumerate(zip([:x,:y], e))\n",
    "        println(io, \"$s = $(e[i])\")\n",
    "    end\n",
    "end\n",
    "\n",
    "# Define conversion and promotion\n",
    "Base.promote_rule(a::Type{Edge{T1}}, b::Type{Edge{T2}}) where {T1, T2} = Edge{promote_type(T1, T2)}\n",
    "Edge{T}(x::Edge) where T = Edge{T}(x.data)\n",
    "Edge(x::Edge) = x\n",
    "\n",
    "Base.convert(::Type{Edge{T}}, x::Edge{T2}) where {T, T2} = Edge{T}(x)\n",
    "\n",
    "# Operation\n",
    "for op in [:+, :-, :*]\n",
    "    @eval function Base.$op(e1::AbstractEdge{T1}, e2::AbstractEdge{T2}) where {T1, T2}\n",
    "        promote_type(typeof(e1), typeof(e2))(broadcast($op, e1.data, e2.data))\n",
    "    end\n",
    "end\n",
    "\n",
    "abstract type AbstractPath{T<:Integer} end\n",
    "\n",
    "struct Path{T} <: AbstractPath{T}\n",
    "    edges::Vector{Edge{T}}\n",
    "    origin::NTuple{2, T}\n",
    "    Path(edges::Vector{Edge{T}}) where {T} = new{T}(Edge{T}.(edges), NTuple{2, T}(zeros(T , 2)))\n",
    "    Path{T}(edges::Vector{Edge{T1}}) where {T, T1} = new{T}(Edge{T}.(edges), NTuple{2, T}(zeros(T, 2)))\n",
    "    Path(edges::Vector{Edge{T1}}, origin::NTuple{2, T2}) where {T1, T2} = new{promote_type(T1, T2)}(edges, origin)\n",
    "    Path{T}(edges::Vector{Edge{T1}}, origin) where {T, T1} = new{T}(Edge{T}.(edges), NTuple{2, T}(origin))\n",
    "end\n",
    "\n",
    "end\n",
    "\n",
    "Edge = Kuma.Edge\n",
    "Path = Kuma.Path\n",
    "\n",
    "R = Right = Kuma.Right\n",
    "L = Left = Kuma.Left\n",
    "U = Up = Kuma.Up\n",
    "D = Down = Kuma.Down;"
   ]
  },
  {
   "cell_type": "code",
   "execution_count": 6,
   "metadata": {},
   "outputs": [
    {
     "data": {
      "image/svg+xml": [
       "<?xml version=\"1.0\" encoding=\"utf-8\"?>\n",
       "<svg xmlns=\"http://www.w3.org/2000/svg\" xmlns:xlink=\"http://www.w3.org/1999/xlink\" width=\"600\" height=\"400\" viewBox=\"0 0 2400 1600\">\n",
       "<defs>\n",
       "  <clipPath id=\"clip400\">\n",
       "    <rect x=\"0\" y=\"0\" width=\"2400\" height=\"1600\"/>\n",
       "  </clipPath>\n",
       "</defs>\n",
       "<path clip-path=\"url(#clip400)\" d=\"\n",
       "M0 1600 L2400 1600 L2400 0 L0 0  Z\n",
       "  \" fill=\"#ffffff\" fill-rule=\"evenodd\" fill-opacity=\"1\"/>\n",
       "<defs>\n",
       "  <clipPath id=\"clip401\">\n",
       "    <rect x=\"480\" y=\"0\" width=\"1681\" height=\"1600\"/>\n",
       "  </clipPath>\n",
       "</defs>\n",
       "<path clip-path=\"url(#clip400)\" d=\"\n",
       "M174.149 1423.18 L2352.76 1423.18 L2352.76 47.2441 L174.149 47.2441  Z\n",
       "  \" fill=\"#ffffff\" fill-rule=\"evenodd\" fill-opacity=\"1\"/>\n",
       "<defs>\n",
       "  <clipPath id=\"clip402\">\n",
       "    <rect x=\"174\" y=\"47\" width=\"2180\" height=\"1377\"/>\n",
       "  </clipPath>\n",
       "</defs>\n",
       "<polyline clip-path=\"url(#clip402)\" style=\"stroke:#000000; stroke-linecap:butt; stroke-linejoin:round; stroke-width:2; stroke-opacity:0.1; fill:none\" points=\"\n",
       "  235.808,1423.18 235.808,47.2441 \n",
       "  \"/>\n",
       "<polyline clip-path=\"url(#clip402)\" style=\"stroke:#000000; stroke-linecap:butt; stroke-linejoin:round; stroke-width:2; stroke-opacity:0.1; fill:none\" points=\"\n",
       "  646.866,1423.18 646.866,47.2441 \n",
       "  \"/>\n",
       "<polyline clip-path=\"url(#clip402)\" style=\"stroke:#000000; stroke-linecap:butt; stroke-linejoin:round; stroke-width:2; stroke-opacity:0.1; fill:none\" points=\"\n",
       "  1057.92,1423.18 1057.92,47.2441 \n",
       "  \"/>\n",
       "<polyline clip-path=\"url(#clip402)\" style=\"stroke:#000000; stroke-linecap:butt; stroke-linejoin:round; stroke-width:2; stroke-opacity:0.1; fill:none\" points=\"\n",
       "  1468.98,1423.18 1468.98,47.2441 \n",
       "  \"/>\n",
       "<polyline clip-path=\"url(#clip402)\" style=\"stroke:#000000; stroke-linecap:butt; stroke-linejoin:round; stroke-width:2; stroke-opacity:0.1; fill:none\" points=\"\n",
       "  1880.04,1423.18 1880.04,47.2441 \n",
       "  \"/>\n",
       "<polyline clip-path=\"url(#clip402)\" style=\"stroke:#000000; stroke-linecap:butt; stroke-linejoin:round; stroke-width:2; stroke-opacity:0.1; fill:none\" points=\"\n",
       "  2291.1,1423.18 2291.1,47.2441 \n",
       "  \"/>\n",
       "<polyline clip-path=\"url(#clip400)\" style=\"stroke:#000000; stroke-linecap:butt; stroke-linejoin:round; stroke-width:4; stroke-opacity:1; fill:none\" points=\"\n",
       "  174.149,1423.18 2352.76,1423.18 \n",
       "  \"/>\n",
       "<polyline clip-path=\"url(#clip400)\" style=\"stroke:#000000; stroke-linecap:butt; stroke-linejoin:round; stroke-width:4; stroke-opacity:1; fill:none\" points=\"\n",
       "  235.808,1423.18 235.808,1404.28 \n",
       "  \"/>\n",
       "<polyline clip-path=\"url(#clip400)\" style=\"stroke:#000000; stroke-linecap:butt; stroke-linejoin:round; stroke-width:4; stroke-opacity:1; fill:none\" points=\"\n",
       "  646.866,1423.18 646.866,1404.28 \n",
       "  \"/>\n",
       "<polyline clip-path=\"url(#clip400)\" style=\"stroke:#000000; stroke-linecap:butt; stroke-linejoin:round; stroke-width:4; stroke-opacity:1; fill:none\" points=\"\n",
       "  1057.92,1423.18 1057.92,1404.28 \n",
       "  \"/>\n",
       "<polyline clip-path=\"url(#clip400)\" style=\"stroke:#000000; stroke-linecap:butt; stroke-linejoin:round; stroke-width:4; stroke-opacity:1; fill:none\" points=\"\n",
       "  1468.98,1423.18 1468.98,1404.28 \n",
       "  \"/>\n",
       "<polyline clip-path=\"url(#clip400)\" style=\"stroke:#000000; stroke-linecap:butt; stroke-linejoin:round; stroke-width:4; stroke-opacity:1; fill:none\" points=\"\n",
       "  1880.04,1423.18 1880.04,1404.28 \n",
       "  \"/>\n",
       "<polyline clip-path=\"url(#clip400)\" style=\"stroke:#000000; stroke-linecap:butt; stroke-linejoin:round; stroke-width:4; stroke-opacity:1; fill:none\" points=\"\n",
       "  2291.1,1423.18 2291.1,1404.28 \n",
       "  \"/>\n",
       "<path clip-path=\"url(#clip400)\" d=\"M235.808 1454.1 Q232.197 1454.1 230.368 1457.66 Q228.562 1461.2 228.562 1468.33 Q228.562 1475.44 230.368 1479.01 Q232.197 1482.55 235.808 1482.55 Q239.442 1482.55 241.247 1479.01 Q243.076 1475.44 243.076 1468.33 Q243.076 1461.2 241.247 1457.66 Q239.442 1454.1 235.808 1454.1 M235.808 1450.39 Q241.618 1450.39 244.673 1455 Q247.752 1459.58 247.752 1468.33 Q247.752 1477.06 244.673 1481.67 Q241.618 1486.25 235.808 1486.25 Q229.997 1486.25 226.919 1481.67 Q223.863 1477.06 223.863 1468.33 Q223.863 1459.58 226.919 1455 Q229.997 1450.39 235.808 1450.39 Z\" fill=\"#000000\" fill-rule=\"evenodd\" fill-opacity=\"1\" /><path clip-path=\"url(#clip400)\" d=\"M637.248 1481.64 L644.886 1481.64 L644.886 1455.28 L636.576 1456.95 L636.576 1452.69 L644.84 1451.02 L649.516 1451.02 L649.516 1481.64 L657.155 1481.64 L657.155 1485.58 L637.248 1485.58 L637.248 1481.64 Z\" fill=\"#000000\" fill-rule=\"evenodd\" fill-opacity=\"1\" /><path clip-path=\"url(#clip400)\" d=\"M1052.58 1481.64 L1068.9 1481.64 L1068.9 1485.58 L1046.95 1485.58 L1046.95 1481.64 Q1049.61 1478.89 1054.2 1474.26 Q1058.8 1469.61 1059.98 1468.27 Q1062.23 1465.74 1063.11 1464.01 Q1064.01 1462.25 1064.01 1460.56 Q1064.01 1457.8 1062.07 1456.07 Q1060.15 1454.33 1057.04 1454.33 Q1054.84 1454.33 1052.39 1455.09 Q1049.96 1455.86 1047.18 1457.41 L1047.18 1452.69 Q1050.01 1451.55 1052.46 1450.97 Q1054.91 1450.39 1056.95 1450.39 Q1062.32 1450.39 1065.52 1453.08 Q1068.71 1455.77 1068.71 1460.26 Q1068.71 1462.39 1067.9 1464.31 Q1067.11 1466.2 1065.01 1468.8 Q1064.43 1469.47 1061.33 1472.69 Q1058.22 1475.88 1052.58 1481.64 Z\" fill=\"#000000\" fill-rule=\"evenodd\" fill-opacity=\"1\" /><path clip-path=\"url(#clip400)\" d=\"M1473.23 1466.95 Q1476.59 1467.66 1478.46 1469.93 Q1480.36 1472.2 1480.36 1475.53 Q1480.36 1480.65 1476.84 1483.45 Q1473.32 1486.25 1466.84 1486.25 Q1464.66 1486.25 1462.35 1485.81 Q1460.06 1485.39 1457.6 1484.54 L1457.6 1480.02 Q1459.55 1481.16 1461.86 1481.74 Q1464.18 1482.32 1466.7 1482.32 Q1471.1 1482.32 1473.39 1480.58 Q1475.71 1478.84 1475.71 1475.53 Q1475.71 1472.48 1473.55 1470.77 Q1471.42 1469.03 1467.6 1469.03 L1463.58 1469.03 L1463.58 1465.19 L1467.79 1465.19 Q1471.24 1465.19 1473.07 1463.82 Q1474.9 1462.43 1474.9 1459.84 Q1474.9 1457.18 1473 1455.77 Q1471.12 1454.33 1467.6 1454.33 Q1465.68 1454.33 1463.48 1454.75 Q1461.28 1455.16 1458.65 1456.04 L1458.65 1451.88 Q1461.31 1451.14 1463.62 1450.77 Q1465.96 1450.39 1468.02 1450.39 Q1473.34 1450.39 1476.45 1452.83 Q1479.55 1455.23 1479.55 1459.35 Q1479.55 1462.22 1477.9 1464.21 Q1476.26 1466.18 1473.23 1466.95 Z\" fill=\"#000000\" fill-rule=\"evenodd\" fill-opacity=\"1\" /><path clip-path=\"url(#clip400)\" d=\"M1883.05 1455.09 L1871.24 1473.54 L1883.05 1473.54 L1883.05 1455.09 M1881.82 1451.02 L1887.7 1451.02 L1887.7 1473.54 L1892.63 1473.54 L1892.63 1477.43 L1887.7 1477.43 L1887.7 1485.58 L1883.05 1485.58 L1883.05 1477.43 L1867.45 1477.43 L1867.45 1472.92 L1881.82 1451.02 Z\" fill=\"#000000\" fill-rule=\"evenodd\" fill-opacity=\"1\" /><path clip-path=\"url(#clip400)\" d=\"M2281.38 1451.02 L2299.73 1451.02 L2299.73 1454.96 L2285.66 1454.96 L2285.66 1463.43 Q2286.68 1463.08 2287.69 1462.92 Q2288.71 1462.73 2289.73 1462.73 Q2295.52 1462.73 2298.9 1465.9 Q2302.28 1469.08 2302.28 1474.49 Q2302.28 1480.07 2298.81 1483.17 Q2295.33 1486.25 2289.01 1486.25 Q2286.84 1486.25 2284.57 1485.88 Q2282.32 1485.51 2279.92 1484.77 L2279.92 1480.07 Q2282 1481.2 2284.22 1481.76 Q2286.44 1482.32 2288.92 1482.32 Q2292.93 1482.32 2295.26 1480.21 Q2297.6 1478.1 2297.6 1474.49 Q2297.6 1470.88 2295.26 1468.77 Q2292.93 1466.67 2288.92 1466.67 Q2287.05 1466.67 2285.17 1467.08 Q2283.32 1467.5 2281.38 1468.38 L2281.38 1451.02 Z\" fill=\"#000000\" fill-rule=\"evenodd\" fill-opacity=\"1\" /><path clip-path=\"url(#clip400)\" d=\"M1280.07 1532.4 L1267.18 1549.74 L1280.74 1568.04 L1273.83 1568.04 L1263.45 1554.04 L1253.08 1568.04 L1246.17 1568.04 L1260.01 1549.39 L1247.35 1532.4 L1254.25 1532.4 L1263.71 1545.1 L1273.16 1532.4 L1280.07 1532.4 Z\" fill=\"#000000\" fill-rule=\"evenodd\" fill-opacity=\"1\" /><polyline clip-path=\"url(#clip402)\" style=\"stroke:#000000; stroke-linecap:butt; stroke-linejoin:round; stroke-width:2; stroke-opacity:0.1; fill:none\" points=\"\n",
       "  174.149,1384.24 2352.76,1384.24 \n",
       "  \"/>\n",
       "<polyline clip-path=\"url(#clip402)\" style=\"stroke:#000000; stroke-linecap:butt; stroke-linejoin:round; stroke-width:2; stroke-opacity:0.1; fill:none\" points=\"\n",
       "  174.149,951.554 2352.76,951.554 \n",
       "  \"/>\n",
       "<polyline clip-path=\"url(#clip402)\" style=\"stroke:#000000; stroke-linecap:butt; stroke-linejoin:round; stroke-width:2; stroke-opacity:0.1; fill:none\" points=\"\n",
       "  174.149,518.87 2352.76,518.87 \n",
       "  \"/>\n",
       "<polyline clip-path=\"url(#clip402)\" style=\"stroke:#000000; stroke-linecap:butt; stroke-linejoin:round; stroke-width:2; stroke-opacity:0.1; fill:none\" points=\"\n",
       "  174.149,86.1857 2352.76,86.1857 \n",
       "  \"/>\n",
       "<polyline clip-path=\"url(#clip400)\" style=\"stroke:#000000; stroke-linecap:butt; stroke-linejoin:round; stroke-width:4; stroke-opacity:1; fill:none\" points=\"\n",
       "  174.149,1423.18 174.149,47.2441 \n",
       "  \"/>\n",
       "<polyline clip-path=\"url(#clip400)\" style=\"stroke:#000000; stroke-linecap:butt; stroke-linejoin:round; stroke-width:4; stroke-opacity:1; fill:none\" points=\"\n",
       "  174.149,1384.24 193.047,1384.24 \n",
       "  \"/>\n",
       "<polyline clip-path=\"url(#clip400)\" style=\"stroke:#000000; stroke-linecap:butt; stroke-linejoin:round; stroke-width:4; stroke-opacity:1; fill:none\" points=\"\n",
       "  174.149,951.554 193.047,951.554 \n",
       "  \"/>\n",
       "<polyline clip-path=\"url(#clip400)\" style=\"stroke:#000000; stroke-linecap:butt; stroke-linejoin:round; stroke-width:4; stroke-opacity:1; fill:none\" points=\"\n",
       "  174.149,518.87 193.047,518.87 \n",
       "  \"/>\n",
       "<polyline clip-path=\"url(#clip400)\" style=\"stroke:#000000; stroke-linecap:butt; stroke-linejoin:round; stroke-width:4; stroke-opacity:1; fill:none\" points=\"\n",
       "  174.149,86.1857 193.047,86.1857 \n",
       "  \"/>\n",
       "<path clip-path=\"url(#clip400)\" d=\"M126.205 1370.04 Q122.593 1370.04 120.765 1373.6 Q118.959 1377.14 118.959 1384.27 Q118.959 1391.38 120.765 1394.94 Q122.593 1398.49 126.205 1398.49 Q129.839 1398.49 131.644 1394.94 Q133.473 1391.38 133.473 1384.27 Q133.473 1377.14 131.644 1373.6 Q129.839 1370.04 126.205 1370.04 M126.205 1366.33 Q132.015 1366.33 135.07 1370.94 Q138.149 1375.52 138.149 1384.27 Q138.149 1393 135.07 1397.61 Q132.015 1402.19 126.205 1402.19 Q120.394 1402.19 117.316 1397.61 Q114.26 1393 114.26 1384.27 Q114.26 1375.52 117.316 1370.94 Q120.394 1366.33 126.205 1366.33 Z\" fill=\"#000000\" fill-rule=\"evenodd\" fill-opacity=\"1\" /><path clip-path=\"url(#clip400)\" d=\"M118.242 964.899 L125.88 964.899 L125.88 938.533 L117.57 940.2 L117.57 935.941 L125.834 934.274 L130.51 934.274 L130.51 964.899 L138.149 964.899 L138.149 968.834 L118.242 968.834 L118.242 964.899 Z\" fill=\"#000000\" fill-rule=\"evenodd\" fill-opacity=\"1\" /><path clip-path=\"url(#clip400)\" d=\"M121.83 532.215 L138.149 532.215 L138.149 536.15 L116.205 536.15 L116.205 532.215 Q118.867 529.46 123.45 524.83 Q128.056 520.178 129.237 518.835 Q131.482 516.312 132.362 514.576 Q133.265 512.817 133.265 511.127 Q133.265 508.372 131.32 506.636 Q129.399 504.9 126.297 504.9 Q124.098 504.9 121.644 505.664 Q119.214 506.428 116.436 507.979 L116.436 503.257 Q119.26 502.122 121.714 501.544 Q124.168 500.965 126.205 500.965 Q131.575 500.965 134.769 503.65 Q137.964 506.335 137.964 510.826 Q137.964 512.956 137.154 514.877 Q136.367 516.775 134.26 519.368 Q133.681 520.039 130.58 523.256 Q127.478 526.451 121.83 532.215 Z\" fill=\"#000000\" fill-rule=\"evenodd\" fill-opacity=\"1\" /><path clip-path=\"url(#clip400)\" d=\"M131.019 84.8315 Q134.376 85.5491 136.251 87.8176 Q138.149 90.0861 138.149 93.4194 Q138.149 98.5351 134.63 101.336 Q131.112 104.137 124.63 104.137 Q122.455 104.137 120.14 103.697 Q117.848 103.28 115.394 102.424 L115.394 97.9101 Q117.339 99.0444 119.654 99.6231 Q121.968 100.202 124.492 100.202 Q128.89 100.202 131.181 98.4657 Q133.496 96.7296 133.496 93.4194 Q133.496 90.3639 131.343 88.6509 Q129.214 86.9148 125.394 86.9148 L121.367 86.9148 L121.367 83.0723 L125.58 83.0723 Q129.029 83.0723 130.857 81.7065 Q132.686 80.3176 132.686 77.7251 Q132.686 75.063 130.788 73.651 Q128.913 72.2158 125.394 72.2158 Q123.473 72.2158 121.274 72.6325 Q119.075 73.0492 116.436 73.9288 L116.436 69.7621 Q119.098 69.0214 121.413 68.651 Q123.751 68.2807 125.811 68.2807 Q131.135 68.2807 134.237 70.7112 Q137.339 73.1186 137.339 77.239 Q137.339 80.1093 135.695 82.1 Q134.052 84.0676 131.019 84.8315 Z\" fill=\"#000000\" fill-rule=\"evenodd\" fill-opacity=\"1\" /><path clip-path=\"url(#clip400)\" d=\"M67.3143 733.525 Q73.68 736.008 75.6216 738.363 Q77.5631 740.718 77.5631 744.665 L77.5631 749.344 L72.6615 749.344 L72.6615 745.906 Q72.6615 743.487 71.5157 742.151 Q70.3699 740.814 66.1048 739.191 L63.4312 738.14 L28.3562 752.559 L28.3562 746.352 L56.238 735.212 L28.3562 724.072 L28.3562 717.865 L67.3143 733.525 Z\" fill=\"#000000\" fill-rule=\"evenodd\" fill-opacity=\"1\" /><polyline clip-path=\"url(#clip402)\" style=\"stroke:#009af9; stroke-linecap:butt; stroke-linejoin:round; stroke-width:4; stroke-opacity:1; fill:none\" points=\"\n",
       "  235.808,1384.24 646.866,1384.24 \n",
       "  \"/>\n",
       "<polyline clip-path=\"url(#clip402)\" style=\"stroke:#009af9; stroke-linecap:butt; stroke-linejoin:round; stroke-width:4; stroke-opacity:1; fill:none\" points=\"\n",
       "  610.866,1366.24 646.866,1384.24 610.866,1402.24 \n",
       "  \"/>\n",
       "<polyline clip-path=\"url(#clip402)\" style=\"stroke:#009af9; stroke-linecap:butt; stroke-linejoin:round; stroke-width:4; stroke-opacity:1; fill:none\" points=\"\n",
       "  646.866,1384.24 235.808,1384.24 \n",
       "  \"/>\n",
       "<polyline clip-path=\"url(#clip402)\" style=\"stroke:#e26f46; stroke-linecap:butt; stroke-linejoin:round; stroke-width:4; stroke-opacity:1; fill:none\" points=\"\n",
       "  646.866,1384.24 1057.92,1384.24 \n",
       "  \"/>\n",
       "<polyline clip-path=\"url(#clip402)\" style=\"stroke:#e26f46; stroke-linecap:butt; stroke-linejoin:round; stroke-width:4; stroke-opacity:1; fill:none\" points=\"\n",
       "  1021.92,1366.24 1057.92,1384.24 1021.92,1402.24 \n",
       "  \"/>\n",
       "<polyline clip-path=\"url(#clip402)\" style=\"stroke:#e26f46; stroke-linecap:butt; stroke-linejoin:round; stroke-width:4; stroke-opacity:1; fill:none\" points=\"\n",
       "  1057.92,1384.24 646.866,1384.24 \n",
       "  \"/>\n",
       "<polyline clip-path=\"url(#clip402)\" style=\"stroke:#3da44d; stroke-linecap:butt; stroke-linejoin:round; stroke-width:4; stroke-opacity:1; fill:none\" points=\"\n",
       "  1057.92,1384.24 1057.92,951.554 \n",
       "  \"/>\n",
       "<polyline clip-path=\"url(#clip402)\" style=\"stroke:#3da44d; stroke-linecap:butt; stroke-linejoin:round; stroke-width:4; stroke-opacity:1; fill:none\" points=\"\n",
       "  1039.92,987.554 1057.92,951.554 1075.92,987.554 \n",
       "  \"/>\n",
       "<polyline clip-path=\"url(#clip402)\" style=\"stroke:#3da44d; stroke-linecap:butt; stroke-linejoin:round; stroke-width:4; stroke-opacity:1; fill:none\" points=\"\n",
       "  1057.92,951.554 1057.92,1384.24 \n",
       "  \"/>\n",
       "<polyline clip-path=\"url(#clip402)\" style=\"stroke:#c271d2; stroke-linecap:butt; stroke-linejoin:round; stroke-width:4; stroke-opacity:1; fill:none\" points=\"\n",
       "  1057.92,951.554 646.866,951.554 \n",
       "  \"/>\n",
       "<polyline clip-path=\"url(#clip402)\" style=\"stroke:#c271d2; stroke-linecap:butt; stroke-linejoin:round; stroke-width:4; stroke-opacity:1; fill:none\" points=\"\n",
       "  682.866,969.554 646.866,951.554 682.866,933.554 \n",
       "  \"/>\n",
       "<polyline clip-path=\"url(#clip402)\" style=\"stroke:#c271d2; stroke-linecap:butt; stroke-linejoin:round; stroke-width:4; stroke-opacity:1; fill:none\" points=\"\n",
       "  646.866,951.554 1057.92,951.554 \n",
       "  \"/>\n",
       "<polyline clip-path=\"url(#clip402)\" style=\"stroke:#ac8d18; stroke-linecap:butt; stroke-linejoin:round; stroke-width:4; stroke-opacity:1; fill:none\" points=\"\n",
       "  646.866,951.554 646.866,518.87 \n",
       "  \"/>\n",
       "<polyline clip-path=\"url(#clip402)\" style=\"stroke:#ac8d18; stroke-linecap:butt; stroke-linejoin:round; stroke-width:4; stroke-opacity:1; fill:none\" points=\"\n",
       "  628.866,554.87 646.866,518.87 664.866,554.87 \n",
       "  \"/>\n",
       "<polyline clip-path=\"url(#clip402)\" style=\"stroke:#ac8d18; stroke-linecap:butt; stroke-linejoin:round; stroke-width:4; stroke-opacity:1; fill:none\" points=\"\n",
       "  646.866,518.87 646.866,951.554 \n",
       "  \"/>\n",
       "<polyline clip-path=\"url(#clip402)\" style=\"stroke:#00a9ad; stroke-linecap:butt; stroke-linejoin:round; stroke-width:4; stroke-opacity:1; fill:none\" points=\"\n",
       "  646.866,518.87 1057.92,86.1857 \n",
       "  \"/>\n",
       "<polyline clip-path=\"url(#clip402)\" style=\"stroke:#00a9ad; stroke-linecap:butt; stroke-linejoin:round; stroke-width:4; stroke-opacity:1; fill:none\" points=\"\n",
       "  1020.08,99.8878 1057.92,86.1857 1046.18,124.683 \n",
       "  \"/>\n",
       "<polyline clip-path=\"url(#clip402)\" style=\"stroke:#00a9ad; stroke-linecap:butt; stroke-linejoin:round; stroke-width:4; stroke-opacity:1; fill:none\" points=\"\n",
       "  1057.92,86.1857 646.866,518.87 \n",
       "  \"/>\n",
       "<polyline clip-path=\"url(#clip402)\" style=\"stroke:#ed5d92; stroke-linecap:butt; stroke-linejoin:round; stroke-width:4; stroke-opacity:1; fill:none\" points=\"\n",
       "  1057.92,86.1857 1468.98,86.1857 \n",
       "  \"/>\n",
       "<polyline clip-path=\"url(#clip402)\" style=\"stroke:#ed5d92; stroke-linecap:butt; stroke-linejoin:round; stroke-width:4; stroke-opacity:1; fill:none\" points=\"\n",
       "  1432.98,68.1857 1468.98,86.1857 1432.98,104.186 \n",
       "  \"/>\n",
       "<polyline clip-path=\"url(#clip402)\" style=\"stroke:#ed5d92; stroke-linecap:butt; stroke-linejoin:round; stroke-width:4; stroke-opacity:1; fill:none\" points=\"\n",
       "  1468.98,86.1857 1057.92,86.1857 \n",
       "  \"/>\n",
       "<polyline clip-path=\"url(#clip402)\" style=\"stroke:#c68125; stroke-linecap:butt; stroke-linejoin:round; stroke-width:4; stroke-opacity:1; fill:none\" points=\"\n",
       "  1468.98,86.1857 1880.04,86.1857 \n",
       "  \"/>\n",
       "<polyline clip-path=\"url(#clip402)\" style=\"stroke:#c68125; stroke-linecap:butt; stroke-linejoin:round; stroke-width:4; stroke-opacity:1; fill:none\" points=\"\n",
       "  1844.04,68.1857 1880.04,86.1857 1844.04,104.186 \n",
       "  \"/>\n",
       "<polyline clip-path=\"url(#clip402)\" style=\"stroke:#c68125; stroke-linecap:butt; stroke-linejoin:round; stroke-width:4; stroke-opacity:1; fill:none\" points=\"\n",
       "  1880.04,86.1857 1468.98,86.1857 \n",
       "  \"/>\n",
       "<polyline clip-path=\"url(#clip402)\" style=\"stroke:#00a98d; stroke-linecap:butt; stroke-linejoin:round; stroke-width:4; stroke-opacity:1; fill:none\" points=\"\n",
       "  1880.04,86.1857 1880.04,518.87 \n",
       "  \"/>\n",
       "<polyline clip-path=\"url(#clip402)\" style=\"stroke:#00a98d; stroke-linecap:butt; stroke-linejoin:round; stroke-width:4; stroke-opacity:1; fill:none\" points=\"\n",
       "  1898.04,482.87 1880.04,518.87 1862.04,482.87 \n",
       "  \"/>\n",
       "<polyline clip-path=\"url(#clip402)\" style=\"stroke:#00a98d; stroke-linecap:butt; stroke-linejoin:round; stroke-width:4; stroke-opacity:1; fill:none\" points=\"\n",
       "  1880.04,518.87 1880.04,86.1857 \n",
       "  \"/>\n",
       "<polyline clip-path=\"url(#clip402)\" style=\"stroke:#8e971d; stroke-linecap:butt; stroke-linejoin:round; stroke-width:4; stroke-opacity:1; fill:none\" points=\"\n",
       "  1880.04,518.87 2291.1,518.87 \n",
       "  \"/>\n",
       "<polyline clip-path=\"url(#clip402)\" style=\"stroke:#8e971d; stroke-linecap:butt; stroke-linejoin:round; stroke-width:4; stroke-opacity:1; fill:none\" points=\"\n",
       "  2255.1,500.87 2291.1,518.87 2255.1,536.87 \n",
       "  \"/>\n",
       "<polyline clip-path=\"url(#clip402)\" style=\"stroke:#8e971d; stroke-linecap:butt; stroke-linejoin:round; stroke-width:4; stroke-opacity:1; fill:none\" points=\"\n",
       "  2291.1,518.87 1880.04,518.87 \n",
       "  \"/>\n",
       "</svg>\n"
      ]
     },
     "execution_count": 6,
     "metadata": {},
     "output_type": "execute_result"
    }
   ],
   "source": [
    "edges = Edge{Int32}.([\n",
    "        [1,0],\n",
    "        R,\n",
    "        U,\n",
    "        L,\n",
    "        U,\n",
    "        [1,1],\n",
    "        R,\n",
    "        R,\n",
    "        [0,-1],\n",
    "        R,\n",
    "])\n",
    "\n",
    "path = Path(edges)\n",
    "\n",
    "x, y = path.origin\n",
    "xmin = xmax = x\n",
    "ymin = ymax = y\n",
    "\n",
    "p = plot(xlabel=\"x\", ylabel=\"y\")\n",
    "for e in path.edges\n",
    "    quiver!(p, [x], [y], quiver=([e.x], [e.y]))\n",
    "    x += e.x\n",
    "    y += e.y\n",
    "    xmin = min(xmin, x + e.x)\n",
    "    ymin = min(ymin, y + e.y)\n",
    "    xmax = max(xmax, x + e.x)\n",
    "    ymax = max(ymax, y + e.y)\n",
    "end\n",
    "\n",
    "plot!(p, xticks = xmin:xmax, yticks = ymin:ymax)\n",
    "\n",
    "p"
   ]
  },
  {
   "cell_type": "code",
   "execution_count": 7,
   "metadata": {},
   "outputs": [
    {
     "data": {
      "text/html": [
       "# 5 methods for type constructor:<ul><li> Main.Kuma.Edge(data::<b>Tuple{T, T}</b>)<i> where T</i> in Main.Kuma at In[5]:6</li> <li> Main.Kuma.Edge(x::<b>Tuple</b>) in Main.Kuma at In[5]:23</li> <li> Main.Kuma.Edge(v::<b>AbstractVector{T} where T</b>) in Main.Kuma at In[5]:37</li> <li> Main.Kuma.Edge(x::<b>Main.Kuma.Edge</b>) in Main.Kuma at In[5]:72</li> <li> Main.Kuma.Edge(x, y) in Main.Kuma at In[5]:36</li> </ul>"
      ],
      "text/plain": [
       "# 5 methods for type constructor:\n",
       "[1] Main.Kuma.Edge(data::Tuple{T, T}) where T in Main.Kuma at In[5]:6\n",
       "[2] Main.Kuma.Edge(x::Tuple) in Main.Kuma at In[5]:23\n",
       "[3] Main.Kuma.Edge(v::AbstractVector{T} where T) in Main.Kuma at In[5]:37\n",
       "[4] Main.Kuma.Edge(x::Main.Kuma.Edge) in Main.Kuma at In[5]:72\n",
       "[5] Main.Kuma.Edge(x, y) in Main.Kuma at In[5]:36"
      ]
     },
     "metadata": {},
     "output_type": "display_data"
    },
    {
     "data": {
      "text/html": [
       "# 4 methods for type constructor:<ul><li> Main.Kuma.Edge{T}(v::<b>AbstractVector{T} where T</b>)<i> where T</i> in Main.Kuma at In[5]:21</li> <li> Main.Kuma.Edge{T}(x::<b>Main.Kuma.Edge</b>)<i> where T</i> in Main.Kuma at In[5]:71</li> <li> Main.Kuma.Edge{T}(data)<i> where T</i> in Main.Kuma at In[5]:6</li> <li> Main.Kuma.Edge{T}(x, y)<i> where T</i> in Main.Kuma at In[5]:20</li> </ul>"
      ],
      "text/plain": [
       "# 4 methods for type constructor:\n",
       "[1] Main.Kuma.Edge{T}(v::AbstractVector{T} where T) where T in Main.Kuma at In[5]:21\n",
       "[2] Main.Kuma.Edge{T}(x::Main.Kuma.Edge) where T in Main.Kuma at In[5]:71\n",
       "[3] Main.Kuma.Edge{T}(data) where T in Main.Kuma at In[5]:6\n",
       "[4] Main.Kuma.Edge{T}(x, y) where T in Main.Kuma at In[5]:20"
      ]
     },
     "metadata": {},
     "output_type": "display_data"
    }
   ],
   "source": [
    "methods(Kuma.Edge) |> display\n",
    "methods(Kuma.Edge{Int}) |> display"
   ]
  },
  {
   "cell_type": "code",
   "execution_count": 8,
   "metadata": {},
   "outputs": [
    {
     "data": {
      "text/html": [
       "# 5 methods for type constructor:<ul><li> Main.Goma.Edge(x::<b>Tuple{T, T}</b>)<i> where T</i> in Main.Goma at In[1]:7</li> <li> Main.Goma.Edge(x::<b>Tuple</b>) in Main.Goma at In[1]:16</li> <li> Main.Goma.Edge(v::<b>AbstractVector{T} where T</b>) in Main.Goma at In[1]:29</li> <li> Main.Goma.Edge(x::<b>Main.Goma.Edge</b>) in Main.Goma at In[1]:65</li> <li> Main.Goma.Edge(vargs...) in Main.Goma at In[1]:30</li> </ul>"
      ],
      "text/plain": [
       "# 5 methods for type constructor:\n",
       "[1] Main.Goma.Edge(x::Tuple{T, T}) where T in Main.Goma at In[1]:7\n",
       "[2] Main.Goma.Edge(x::Tuple) in Main.Goma at In[1]:16\n",
       "[3] Main.Goma.Edge(v::AbstractVector{T} where T) in Main.Goma at In[1]:29\n",
       "[4] Main.Goma.Edge(x::Main.Goma.Edge) in Main.Goma at In[1]:65\n",
       "[5] Main.Goma.Edge(vargs...) in Main.Goma at In[1]:30"
      ]
     },
     "metadata": {},
     "output_type": "display_data"
    },
    {
     "data": {
      "text/html": [
       "# 4 methods for type constructor:<ul><li> Main.Goma.Edge{T}(x::<b>AbstractVector{T2}</b>)<i> where {T, T2}</i> in Main.Goma at In[1]:11</li> <li> Main.Goma.Edge{T}(x::<b>Tuple</b>)<i> where T</i> in Main.Goma at In[1]:13</li> <li> Main.Goma.Edge{T}(x::<b>Main.Goma.Edge{T2}</b>)<i> where {T, T2}</i> in Main.Goma at In[1]:64</li> <li> Main.Goma.Edge{T}(x::<b>Vararg{T2, 2}</b>)<i> where {T, T2}</i> in Main.Goma at In[1]:9</li> </ul>"
      ],
      "text/plain": [
       "# 4 methods for type constructor:\n",
       "[1] Main.Goma.Edge{T}(x::AbstractVector{T2}) where {T, T2} in Main.Goma at In[1]:11\n",
       "[2] Main.Goma.Edge{T}(x::Tuple) where T in Main.Goma at In[1]:13\n",
       "[3] Main.Goma.Edge{T}(x::Main.Goma.Edge{T2}) where {T, T2} in Main.Goma at In[1]:64\n",
       "[4] Main.Goma.Edge{T}(x::Vararg{T2, 2}) where {T, T2} in Main.Goma at In[1]:9"
      ]
     },
     "metadata": {},
     "output_type": "display_data"
    }
   ],
   "source": [
    "methods(Goma.Edge) |> display\n",
    "methods(Goma.Edge{Int}) |> display"
   ]
  },
  {
   "cell_type": "code",
   "execution_count": 9,
   "metadata": {},
   "outputs": [
    {
     "data": {
      "text/plain": [
       "Main.Kuma.Edge{Int64}\n",
       "x = 1\n",
       "y = 2\n"
      ]
     },
     "execution_count": 9,
     "metadata": {},
     "output_type": "execute_result"
    }
   ],
   "source": [
    "Kuma.Edge{Int}((1.0, 2.0))"
   ]
  },
  {
   "cell_type": "code",
   "execution_count": 10,
   "metadata": {},
   "outputs": [
    {
     "data": {
      "text/html": [
       "Main.Kuma.Edge{T}(data)<i> where T</i> in Main.Kuma at In[5]:6"
      ],
      "text/plain": [
       "Main.Kuma.Edge{T}(data) where T in Main.Kuma at In[5]:6"
      ]
     },
     "execution_count": 10,
     "metadata": {},
     "output_type": "execute_result"
    }
   ],
   "source": [
    "@which Kuma.Edge{Int}((1.0, 2.0))"
   ]
  },
  {
   "cell_type": "code",
   "execution_count": 11,
   "metadata": {},
   "outputs": [
    {
     "data": {
      "text/plain": [
       "Main.Goma.Edge{Int64}\n",
       "x = 1\n",
       "y = 2\n"
      ]
     },
     "execution_count": 11,
     "metadata": {},
     "output_type": "execute_result"
    }
   ],
   "source": [
    "Goma.Edge{Int}((1.0, 2.0))"
   ]
  },
  {
   "cell_type": "code",
   "execution_count": 12,
   "metadata": {},
   "outputs": [
    {
     "data": {
      "text/html": [
       "Main.Goma.Edge{T}(x::<b>Tuple</b>)<i> where T</i> in Main.Goma at In[1]:13"
      ],
      "text/plain": [
       "Main.Goma.Edge{T}(x::Tuple) where T in Main.Goma at In[1]:13"
      ]
     },
     "execution_count": 12,
     "metadata": {},
     "output_type": "execute_result"
    }
   ],
   "source": [
    "@which Goma.Edge{Int}((1, 2))"
   ]
  },
  {
   "cell_type": "code",
   "execution_count": 13,
   "metadata": {},
   "outputs": [
    {
     "data": {
      "text/plain": [
       "Main.Kuma.Edge{Int64}\n",
       "x = 1\n",
       "y = 2\n"
      ]
     },
     "execution_count": 13,
     "metadata": {},
     "output_type": "execute_result"
    }
   ],
   "source": [
    "Kuma.Edge{Int}([1.0, 2.0])"
   ]
  },
  {
   "cell_type": "code",
   "execution_count": 14,
   "metadata": {},
   "outputs": [
    {
     "data": {
      "text/html": [
       "Main.Kuma.Edge{T}(v::<b>AbstractVector{T} where T</b>)<i> where T</i> in Main.Kuma at In[5]:21"
      ],
      "text/plain": [
       "Main.Kuma.Edge{T}(v::AbstractVector{T} where T) where T in Main.Kuma at In[5]:21"
      ]
     },
     "execution_count": 14,
     "metadata": {},
     "output_type": "execute_result"
    }
   ],
   "source": [
    "@which Kuma.Edge{Int}([1.0, 2.0])"
   ]
  },
  {
   "cell_type": "code",
   "execution_count": 15,
   "metadata": {},
   "outputs": [
    {
     "data": {
      "text/plain": [
       "Main.Goma.Edge{Int64}\n",
       "x = 1\n",
       "y = 2\n"
      ]
     },
     "execution_count": 15,
     "metadata": {},
     "output_type": "execute_result"
    }
   ],
   "source": [
    "Goma.Edge{Int}([1.0, 2.0])"
   ]
  },
  {
   "cell_type": "code",
   "execution_count": 16,
   "metadata": {},
   "outputs": [
    {
     "data": {
      "text/html": [
       "Main.Goma.Edge{T}(x::<b>AbstractVector{T2}</b>)<i> where {T, T2}</i> in Main.Goma at In[1]:11"
      ],
      "text/plain": [
       "Main.Goma.Edge{T}(x::AbstractVector{T2}) where {T, T2} in Main.Goma at In[1]:11"
      ]
     },
     "execution_count": 16,
     "metadata": {},
     "output_type": "execute_result"
    }
   ],
   "source": [
    "@which Goma.Edge{Int}([1.0, 2.0])"
   ]
  },
  {
   "cell_type": "code",
   "execution_count": 17,
   "metadata": {},
   "outputs": [
    {
     "data": {
      "text/plain": [
       "Main.Kuma.Edge{Int64}\n",
       "x = 1\n",
       "y = 2\n"
      ]
     },
     "execution_count": 17,
     "metadata": {},
     "output_type": "execute_result"
    }
   ],
   "source": [
    "Kuma.Edge{Int}([1.0, 2.0]...)"
   ]
  },
  {
   "cell_type": "code",
   "execution_count": 18,
   "metadata": {},
   "outputs": [
    {
     "data": {
      "text/html": [
       "Main.Kuma.Edge{T}(x, y)<i> where T</i> in Main.Kuma at In[5]:20"
      ],
      "text/plain": [
       "Main.Kuma.Edge{T}(x, y) where T in Main.Kuma at In[5]:20"
      ]
     },
     "execution_count": 18,
     "metadata": {},
     "output_type": "execute_result"
    }
   ],
   "source": [
    "@which Kuma.Edge{Int}([1.0, 2.0]...)"
   ]
  },
  {
   "cell_type": "code",
   "execution_count": 19,
   "metadata": {},
   "outputs": [
    {
     "data": {
      "text/plain": [
       "Main.Goma.Edge{Int64}\n",
       "x = 1\n",
       "y = 2\n"
      ]
     },
     "execution_count": 19,
     "metadata": {},
     "output_type": "execute_result"
    }
   ],
   "source": [
    "Goma.Edge{Int}([1.0, 2.0]...)"
   ]
  },
  {
   "cell_type": "code",
   "execution_count": 20,
   "metadata": {},
   "outputs": [
    {
     "data": {
      "text/html": [
       "Main.Goma.Edge{T}(x::<b>Vararg{T2, 2}</b>)<i> where {T, T2}</i> in Main.Goma at In[1]:9"
      ],
      "text/plain": [
       "Main.Goma.Edge{T}(x::Vararg{T2, 2}) where {T, T2} in Main.Goma at In[1]:9"
      ]
     },
     "execution_count": 20,
     "metadata": {},
     "output_type": "execute_result"
    }
   ],
   "source": [
    "@which Goma.Edge{Int}([1.0, 2.0]...)"
   ]
  },
  {
   "cell_type": "code",
   "execution_count": 21,
   "metadata": {},
   "outputs": [
    {
     "data": {
      "text/plain": [
       "Main.Kuma.Edge{Int64}\n",
       "x = 1\n",
       "y = 2\n"
      ]
     },
     "execution_count": 21,
     "metadata": {},
     "output_type": "execute_result"
    }
   ],
   "source": [
    "Kuma.Edge{Int}((1.0f0, 2.0)...)"
   ]
  },
  {
   "cell_type": "code",
   "execution_count": 22,
   "metadata": {},
   "outputs": [
    {
     "data": {
      "text/html": [
       "Main.Kuma.Edge{T}(x, y)<i> where T</i> in Main.Kuma at In[5]:20"
      ],
      "text/plain": [
       "Main.Kuma.Edge{T}(x, y) where T in Main.Kuma at In[5]:20"
      ]
     },
     "execution_count": 22,
     "metadata": {},
     "output_type": "execute_result"
    }
   ],
   "source": [
    "@which Kuma.Edge{Int}((1.0f0, 2.0)...)"
   ]
  },
  {
   "cell_type": "code",
   "execution_count": 23,
   "metadata": {},
   "outputs": [
    {
     "ename": "LoadError",
     "evalue": "MethodError: no method matching Main.Goma.Edge{Int64}(::Float32, ::Float64)\n\u001b[0mClosest candidates are:\n\u001b[0m  Main.Goma.Edge{T}(\u001b[91m::T2...\u001b[39m) where {T, T2} at In[1]:9",
     "output_type": "error",
     "traceback": [
      "MethodError: no method matching Main.Goma.Edge{Int64}(::Float32, ::Float64)\n\u001b[0mClosest candidates are:\n\u001b[0m  Main.Goma.Edge{T}(\u001b[91m::T2...\u001b[39m) where {T, T2} at In[1]:9",
      "",
      "Stacktrace:",
      " [1] top-level scope",
      "   @ In[23]:1",
      " [2] eval",
      "   @ .\\boot.jl:360 [inlined]",
      " [3] include_string(mapexpr::typeof(REPL.softscope), mod::Module, code::String, filename::String)",
      "   @ Base .\\loading.jl:1116"
     ]
    }
   ],
   "source": [
    "Goma.Edge{Int}((1.0f0, 2.0)...)"
   ]
  },
  {
   "cell_type": "code",
   "execution_count": null,
   "metadata": {},
   "outputs": [],
   "source": []
  }
 ],
 "metadata": {
  "@webio": {
   "lastCommId": null,
   "lastKernelId": null
  },
  "_draft": {
   "nbviewer_url": "https://gist.github.com/7479c2858fce161fc5b0e7a0a001d53b"
  },
  "gist": {
   "data": {
    "description": "draw_edge.ipynb",
    "public": true
   },
   "id": "7479c2858fce161fc5b0e7a0a001d53b"
  },
  "kernelspec": {
   "display_name": "Julia 1.6.3",
   "language": "julia",
   "name": "julia-1.6"
  },
  "language_info": {
   "file_extension": ".jl",
   "mimetype": "application/julia",
   "name": "julia",
   "version": "1.6.3"
  },
  "toc": {
   "base_numbering": 1,
   "nav_menu": {},
   "number_sections": true,
   "sideBar": true,
   "skip_h1_title": false,
   "title_cell": "Table of Contents",
   "title_sidebar": "Contents",
   "toc_cell": false,
   "toc_position": {},
   "toc_section_display": true,
   "toc_window_display": false
  },
  "varInspector": {
   "cols": {
    "lenName": 16,
    "lenType": 16,
    "lenVar": 40
   },
   "kernels_config": {
    "python": {
     "delete_cmd_postfix": "",
     "delete_cmd_prefix": "del ",
     "library": "var_list.py",
     "varRefreshCmd": "print(var_dic_list())"
    },
    "r": {
     "delete_cmd_postfix": ") ",
     "delete_cmd_prefix": "rm(",
     "library": "var_list.r",
     "varRefreshCmd": "cat(var_dic_list()) "
    }
   },
   "types_to_exclude": [
    "module",
    "function",
    "builtin_function_or_method",
    "instance",
    "_Feature"
   ],
   "window_display": false
  }
 },
 "nbformat": 4,
 "nbformat_minor": 4
}
