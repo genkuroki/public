{
 "cells": [
  {
   "cell_type": "code",
   "execution_count": 1,
   "id": "4391e573-7e8b-4ca7-87f2-bb882db4c41e",
   "metadata": {},
   "outputs": [],
   "source": [
    "using Statistics"
   ]
  },
  {
   "cell_type": "code",
   "execution_count": 2,
   "id": "bb71b918-ee61-45cd-af52-af959385bb4f",
   "metadata": {},
   "outputs": [
    {
     "data": {
      "text/plain": [
       "0.093174"
      ]
     },
     "execution_count": 2,
     "metadata": {},
     "output_type": "execute_result"
    }
   ],
   "source": [
    "X = [mean(rand(1:6, 6)) for _ in 1:10^6]\n",
    "mean(==(3.5), X)"
   ]
  },
  {
   "cell_type": "code",
   "execution_count": 3,
   "id": "5e4e4316-1d97-4a1e-af35-5c03023fd60e",
   "metadata": {},
   "outputs": [
    {
     "data": {
      "text/plain": [
       "0.093174"
      ]
     },
     "execution_count": 3,
     "metadata": {},
     "output_type": "execute_result"
    }
   ],
   "source": [
    "mean(≈(3.5), X)"
   ]
  },
  {
   "cell_type": "code",
   "execution_count": 4,
   "id": "538ac059-54e7-488f-bc39-e3f41cd19028",
   "metadata": {},
   "outputs": [
    {
     "data": {
      "text/plain": [
       "361//3888"
      ]
     },
     "execution_count": 4,
     "metadata": {},
     "output_type": "execute_result"
    }
   ],
   "source": [
    "X = [sum(X) for X in Iterators.product(fill(1:6, 6)...)]\n",
    "count(==(21), X)//6^6"
   ]
  },
  {
   "cell_type": "code",
   "execution_count": 5,
   "id": "275db4af-7db9-43e4-bc4f-911a21d9ec18",
   "metadata": {},
   "outputs": [
    {
     "data": {
      "text/plain": [
       "0.09284979423868313"
      ]
     },
     "execution_count": 5,
     "metadata": {},
     "output_type": "execute_result"
    }
   ],
   "source": [
    "mean(==(21), X)"
   ]
  },
  {
   "cell_type": "code",
   "execution_count": null,
   "id": "abb130cd-76c7-4bab-922b-c4674d23e868",
   "metadata": {},
   "outputs": [],
   "source": []
  }
 ],
 "metadata": {
  "jupytext": {
   "formats": "ipynb,jl:hydrogen"
  },
  "kernelspec": {
   "display_name": "Julia 1.6.3",
   "language": "julia",
   "name": "julia-1.6"
  },
  "language_info": {
   "file_extension": ".jl",
   "mimetype": "application/julia",
   "name": "julia",
   "version": "1.6.3"
  }
 },
 "nbformat": 4,
 "nbformat_minor": 5
}
