{
 "cells": [
  {
   "cell_type": "code",
   "execution_count": 1,
   "id": "4dbb718d-df1d-4ab8-a8b6-b7eab0d3d4f4",
   "metadata": {},
   "outputs": [
    {
     "data": {
      "text/plain": [
       "Main.O"
      ]
     },
     "execution_count": 1,
     "metadata": {},
     "output_type": "execute_result"
    }
   ],
   "source": [
    "module O\n",
    "struct Foo{T} a::T end\n",
    "end"
   ]
  },
  {
   "cell_type": "code",
   "execution_count": 2,
   "id": "f9534460-cd40-4362-a111-0273e9175c98",
   "metadata": {},
   "outputs": [
    {
     "data": {
      "text/plain": [
       "Main.O.Foo{Int64}(2)"
      ]
     },
     "execution_count": 2,
     "metadata": {},
     "output_type": "execute_result"
    }
   ],
   "source": [
    "foo = O.Foo(1)\n",
    "bar = O.Foo(2)"
   ]
  },
  {
   "cell_type": "code",
   "execution_count": 3,
   "id": "34a9ac09-9e52-4ad7-b34a-4e9ca72a2935",
   "metadata": {},
   "outputs": [
    {
     "data": {
      "text/html": [
       "==(x, y) in Base at <a href=\"https://github.com/JuliaLang/julia/tree/742b9abb4dd4621b667ec5bb3434b8b3602f96fd/base/Base.jl#L119\" target=\"_blank\">Base.jl:119</a>"
      ],
      "text/plain": [
       "==(x, y) in Base at Base.jl:119"
      ]
     },
     "execution_count": 3,
     "metadata": {},
     "output_type": "execute_result"
    }
   ],
   "source": [
    "@which foo == bar"
   ]
  },
  {
   "cell_type": "markdown",
   "id": "7331b4c8-1636-4d42-b92e-ed9958357536",
   "metadata": {},
   "source": [
    "```julia\n",
    "==(x, y) = x === y\n",
    "```\n",
    "\n",
    "See https://docs.julialang.org/en/v1/base/math/#Base.:=="
   ]
  },
  {
   "cell_type": "code",
   "execution_count": null,
   "id": "c825e61c-7035-4385-841c-03eb2472a2e0",
   "metadata": {},
   "outputs": [],
   "source": []
  }
 ],
 "metadata": {
  "jupytext": {
   "formats": "ipynb,jl:hydrogen"
  },
  "kernelspec": {
   "display_name": "Julia 1.7.3",
   "language": "julia",
   "name": "julia-1.7"
  },
  "language_info": {
   "file_extension": ".jl",
   "mimetype": "application/julia",
   "name": "julia",
   "version": "1.7.3"
  }
 },
 "nbformat": 4,
 "nbformat_minor": 5
}
