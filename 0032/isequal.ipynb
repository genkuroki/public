{
 "cells": [
  {
   "cell_type": "code",
   "execution_count": 1,
   "id": "20128cf7-5911-4d94-9221-984412b05524",
   "metadata": {},
   "outputs": [
    {
     "data": {
      "text/plain": [
       "true"
      ]
     },
     "execution_count": 1,
     "metadata": {},
     "output_type": "execute_result"
    }
   ],
   "source": [
    "1 == 1.0"
   ]
  },
  {
   "cell_type": "code",
   "execution_count": 2,
   "id": "f0bbc26e-7ce8-43c3-9426-6cb738ecf0c2",
   "metadata": {},
   "outputs": [
    {
     "data": {
      "text/plain": [
       "true"
      ]
     },
     "execution_count": 2,
     "metadata": {},
     "output_type": "execute_result"
    }
   ],
   "source": [
    "isequal(1, 1.0)"
   ]
  },
  {
   "cell_type": "code",
   "execution_count": 3,
   "id": "db38fbe1-17a4-49fc-a175-1ee7657d595c",
   "metadata": {},
   "outputs": [
    {
     "data": {
      "text/plain": [
       "false"
      ]
     },
     "execution_count": 3,
     "metadata": {},
     "output_type": "execute_result"
    }
   ],
   "source": [
    "1 === 1.0"
   ]
  },
  {
   "cell_type": "code",
   "execution_count": 4,
   "id": "2bd2340f-6a83-488a-994e-bc3576417ac9",
   "metadata": {},
   "outputs": [
    {
     "data": {
      "text/plain": [
       "false"
      ]
     },
     "execution_count": 4,
     "metadata": {},
     "output_type": "execute_result"
    }
   ],
   "source": [
    "NaN == NaN"
   ]
  },
  {
   "cell_type": "code",
   "execution_count": 5,
   "id": "74ed9d15-1f3c-4e08-a118-2edad7e2e07a",
   "metadata": {},
   "outputs": [
    {
     "data": {
      "text/plain": [
       "true"
      ]
     },
     "execution_count": 5,
     "metadata": {},
     "output_type": "execute_result"
    }
   ],
   "source": [
    "isequal(NaN, NaN)"
   ]
  },
  {
   "cell_type": "code",
   "execution_count": 6,
   "id": "efb778ff-9541-4baf-8ab7-416211955d39",
   "metadata": {},
   "outputs": [
    {
     "data": {
      "text/plain": [
       "true"
      ]
     },
     "execution_count": 6,
     "metadata": {},
     "output_type": "execute_result"
    }
   ],
   "source": [
    "NaN === NaN"
   ]
  },
  {
   "cell_type": "code",
   "execution_count": 7,
   "id": "6a85ef0c-9c65-4d89-aae3-20872c25c792",
   "metadata": {},
   "outputs": [
    {
     "data": {
      "text/plain": [
       "missing"
      ]
     },
     "execution_count": 7,
     "metadata": {},
     "output_type": "execute_result"
    }
   ],
   "source": [
    "missing == missing"
   ]
  },
  {
   "cell_type": "code",
   "execution_count": 8,
   "id": "a103c4aa-cc31-4481-9b24-23cc276146dc",
   "metadata": {},
   "outputs": [
    {
     "data": {
      "text/plain": [
       "true"
      ]
     },
     "execution_count": 8,
     "metadata": {},
     "output_type": "execute_result"
    }
   ],
   "source": [
    "isequal(missing, missing)"
   ]
  },
  {
   "cell_type": "code",
   "execution_count": 9,
   "id": "675c49f1-9911-4e90-a569-e8c40b8cc061",
   "metadata": {},
   "outputs": [
    {
     "data": {
      "text/plain": [
       "true"
      ]
     },
     "execution_count": 9,
     "metadata": {},
     "output_type": "execute_result"
    }
   ],
   "source": [
    "missing === missing"
   ]
  },
  {
   "cell_type": "code",
   "execution_count": 10,
   "id": "7bcd6008-39d5-4dce-a298-f13f5e93cfc1",
   "metadata": {},
   "outputs": [],
   "source": [
    "a = [1, 2, 3]\n",
    "b = [1, 2, 3]\n",
    "c = [1.0, 2.0, 3.0];"
   ]
  },
  {
   "cell_type": "code",
   "execution_count": 11,
   "id": "1d0b1c14-9eb5-4a5d-8aee-a29c147d71bf",
   "metadata": {},
   "outputs": [
    {
     "data": {
      "text/plain": [
       "true"
      ]
     },
     "execution_count": 11,
     "metadata": {},
     "output_type": "execute_result"
    }
   ],
   "source": [
    "a == b == c"
   ]
  },
  {
   "cell_type": "code",
   "execution_count": 12,
   "id": "33bb01e2-5d5d-4d45-bb6f-8df5500f99a6",
   "metadata": {},
   "outputs": [
    {
     "data": {
      "text/plain": [
       "false"
      ]
     },
     "execution_count": 12,
     "metadata": {},
     "output_type": "execute_result"
    }
   ],
   "source": [
    "a === b"
   ]
  },
  {
   "cell_type": "code",
   "execution_count": 13,
   "id": "aa241ca2-4faf-4dd2-885d-bbb2a756405b",
   "metadata": {},
   "outputs": [],
   "source": [
    "d = Dict(:a => a, :b => b, :c => c)\n",
    "e = Dict(:a => a, :b => b, :c => c);"
   ]
  },
  {
   "cell_type": "code",
   "execution_count": 14,
   "id": "d839f35b-ae58-4be4-a230-21c22f513222",
   "metadata": {},
   "outputs": [
    {
     "data": {
      "text/plain": [
       "true"
      ]
     },
     "execution_count": 14,
     "metadata": {},
     "output_type": "execute_result"
    }
   ],
   "source": [
    "d == e"
   ]
  },
  {
   "cell_type": "code",
   "execution_count": 15,
   "id": "ec61105e-1a89-4bc2-a252-f991cbf2e451",
   "metadata": {},
   "outputs": [
    {
     "data": {
      "text/plain": [
       "false"
      ]
     },
     "execution_count": 15,
     "metadata": {},
     "output_type": "execute_result"
    }
   ],
   "source": [
    "d === e"
   ]
  },
  {
   "cell_type": "code",
   "execution_count": 16,
   "id": "4a518bf2-efb8-4215-8ff2-d0a302a6be14",
   "metadata": {},
   "outputs": [],
   "source": [
    "f = Dict(:one => 1, :two => 2)\n",
    "g = Dict(:one => 1.0, :two => 2.0);"
   ]
  },
  {
   "cell_type": "code",
   "execution_count": 17,
   "id": "f7f68adc-e09e-435a-8df4-4657489b2f8b",
   "metadata": {},
   "outputs": [
    {
     "data": {
      "text/plain": [
       "true"
      ]
     },
     "execution_count": 17,
     "metadata": {},
     "output_type": "execute_result"
    }
   ],
   "source": [
    "f == g"
   ]
  },
  {
   "cell_type": "code",
   "execution_count": 18,
   "id": "cab37498-749c-4303-adb9-c0ef1539fbce",
   "metadata": {},
   "outputs": [
    {
     "data": {
      "text/plain": [
       "false"
      ]
     },
     "execution_count": 18,
     "metadata": {},
     "output_type": "execute_result"
    }
   ],
   "source": [
    "f === g"
   ]
  },
  {
   "cell_type": "code",
   "execution_count": null,
   "id": "e340cfc2-bf3e-4339-acd7-a701c9dc3bad",
   "metadata": {},
   "outputs": [],
   "source": []
  }
 ],
 "metadata": {
  "kernelspec": {
   "display_name": "Julia 1.7.3",
   "language": "julia",
   "name": "julia-1.7"
  },
  "language_info": {
   "file_extension": ".jl",
   "mimetype": "application/julia",
   "name": "julia",
   "version": "1.7.3"
  }
 },
 "nbformat": 4,
 "nbformat_minor": 5
}
