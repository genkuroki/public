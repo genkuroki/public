{
 "cells": [
  {
   "cell_type": "code",
   "execution_count": 19,
   "id": "d79601b4-f0a2-4f6b-923a-203b8ae6c4f8",
   "metadata": {},
   "outputs": [],
   "source": [
    "using Distributions\n",
    "using StatsPlots\n",
    "default(fmt=:png, titlefontsize=10)\n",
    "safediv(x, y) = x==0 ? x : isinf(y) ? zero(y) : x/y\n",
    "using Roots"
   ]
  },
  {
   "cell_type": "code",
   "execution_count": 21,
   "id": "1f265b41-53e8-4a11-839e-8ade5b1aa13b",
   "metadata": {},
   "outputs": [
    {
     "data": {
      "text/plain": [
       "pvalue_wilson (generic function with 1 method)"
      ]
     },
     "execution_count": 21,
     "metadata": {},
     "output_type": "execute_result"
    }
   ],
   "source": [
    "function pvalue_wilson(n, k, p)\n",
    "    μ = n*p\n",
    "    sehat = √(n*p*(1-p))\n",
    "    z = safediv(k - n*p, sehat)\n",
    "    2ccdf(Normal(), abs(z))\n",
    "end"
   ]
  },
  {
   "cell_type": "code",
   "execution_count": 22,
   "id": "f51cebbb-d565-4b43-8506-c15def495480",
   "metadata": {},
   "outputs": [
    {
     "data": {
      "text/plain": [
       "0.456056540250256"
      ]
     },
     "execution_count": 22,
     "metadata": {},
     "output_type": "execute_result"
    }
   ],
   "source": [
    "pvalue_wilson(5, 0, 0.1)"
   ]
  },
  {
   "cell_type": "code",
   "execution_count": 23,
   "id": "b7d0548d-647d-47b1-ad2b-d66a54cf7a64",
   "metadata": {},
   "outputs": [
    {
     "data": {
      "text/plain": [
       "0.4344824647831748"
      ]
     },
     "execution_count": 23,
     "metadata": {},
     "output_type": "execute_result"
    }
   ],
   "source": [
    "find_zero(p -> pvalue_wilson(5, 0, p) - 0.05, 0.5)"
   ]
  },
  {
   "cell_type": "code",
   "execution_count": 24,
   "id": "1f2e72ab-f615-47cb-9ba7-bd8c30486772",
   "metadata": {},
   "outputs": [
    {
     "data": {
      "text/plain": [
       "pvalue_clopper_pearson (generic function with 1 method)"
      ]
     },
     "execution_count": 24,
     "metadata": {},
     "output_type": "execute_result"
    }
   ],
   "source": [
    "function pvalue_clopper_pearson(n, k, p)\n",
    "    bin = Binomial(n, p)\n",
    "    min(1, 2cdf(bin, k), 2ccdf(bin, k-1))\n",
    "end"
   ]
  },
  {
   "cell_type": "code",
   "execution_count": 26,
   "id": "f9d156f5-2e36-4a7f-8ef4-5a9eb5757c3b",
   "metadata": {},
   "outputs": [
    {
     "data": {
      "text/plain": [
       "0.65536"
      ]
     },
     "execution_count": 26,
     "metadata": {},
     "output_type": "execute_result"
    }
   ],
   "source": [
    "pvalue_clopper_pearson(5, 0, 0.2)"
   ]
  },
  {
   "cell_type": "code",
   "execution_count": 27,
   "id": "4c920354-0238-4758-80f6-8a594770b7ac",
   "metadata": {},
   "outputs": [
    {
     "data": {
      "text/plain": [
       "0.5218237501049815"
      ]
     },
     "execution_count": 27,
     "metadata": {},
     "output_type": "execute_result"
    }
   ],
   "source": [
    "find_zero(p -> pvalue_clopper_pearson(5, 0, p) - 0.05, 0.5)"
   ]
  },
  {
   "cell_type": "code",
   "execution_count": 28,
   "id": "93f6f447-07a6-4e30-87cd-4a7053fb65d9",
   "metadata": {},
   "outputs": [
    {
     "data": {
      "text/plain": [
       "pvalue_bayes (generic function with 1 method)"
      ]
     },
     "execution_count": 28,
     "metadata": {},
     "output_type": "execute_result"
    }
   ],
   "source": [
    "function pvalue_bayes(n, k, p; a=0.5, b=0.5)\n",
    "    beta = Beta(a+k, b+n-k)\n",
    "     min(1, 2cdf(beta, p), 2ccdf(beta, p))\n",
    "end"
   ]
  },
  {
   "cell_type": "code",
   "execution_count": 29,
   "id": "688e4325-3c2d-439a-aa2e-a85ace7f9492",
   "metadata": {},
   "outputs": [
    {
     "data": {
      "text/plain": [
       "0.5850369107915462"
      ]
     },
     "execution_count": 29,
     "metadata": {},
     "output_type": "execute_result"
    }
   ],
   "source": [
    "pvalue_bayes(5, 0, 0.1)"
   ]
  },
  {
   "cell_type": "code",
   "execution_count": 31,
   "id": "71dfd26a-c492-4ec4-926f-f455d799e576",
   "metadata": {},
   "outputs": [
    {
     "data": {
      "text/plain": [
       "0.3793771422990393"
      ]
     },
     "execution_count": 31,
     "metadata": {},
     "output_type": "execute_result"
    }
   ],
   "source": [
    "find_zero(p -> pvalue_bayes(5, 0, p) - 0.05, 0.5)"
   ]
  },
  {
   "cell_type": "code",
   "execution_count": 32,
   "id": "049f3809-9e43-4fae-b2d5-926e5d633017",
   "metadata": {},
   "outputs": [
    {
     "data": {
      "text/plain": [
       "0.4592581264399006"
      ]
     },
     "execution_count": 32,
     "metadata": {},
     "output_type": "execute_result"
    }
   ],
   "source": [
    "find_zero(p -> pvalue_bayes(5, 0, p; a=1, b=1) - 0.05, 0.5)"
   ]
  },
  {
   "cell_type": "code",
   "execution_count": null,
   "id": "9773f450-6740-42bf-a38f-6cb77d31efad",
   "metadata": {},
   "outputs": [],
   "source": []
  }
 ],
 "metadata": {
  "jupytext": {
   "formats": "ipynb,jl:hydrogen"
  },
  "kernelspec": {
   "display_name": "Julia 1.7.3",
   "language": "julia",
   "name": "julia-1.7"
  },
  "language_info": {
   "file_extension": ".jl",
   "mimetype": "application/julia",
   "name": "julia",
   "version": "1.7.3"
  }
 },
 "nbformat": 4,
 "nbformat_minor": 5
}
