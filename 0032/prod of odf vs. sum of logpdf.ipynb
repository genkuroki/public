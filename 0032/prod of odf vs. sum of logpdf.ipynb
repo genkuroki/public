{
 "cells": [
  {
   "cell_type": "code",
   "execution_count": 1,
   "id": "ddba1c73-1880-450f-911a-58bea48c7541",
   "metadata": {},
   "outputs": [
    {
     "data": {
      "text/plain": [
       "1.7976931348623157e308"
      ]
     },
     "execution_count": 1,
     "metadata": {},
     "output_type": "execute_result"
    }
   ],
   "source": [
    "floatmax(Float64)"
   ]
  },
  {
   "cell_type": "code",
   "execution_count": 2,
   "id": "4b433667-7d6d-4b63-a2ae-15595fee1358",
   "metadata": {},
   "outputs": [
    {
     "data": {
      "text/plain": [
       "2.2250738585072014e-308"
      ]
     },
     "execution_count": 2,
     "metadata": {},
     "output_type": "execute_result"
    }
   ],
   "source": [
    "floatmin(Float64)"
   ]
  },
  {
   "cell_type": "code",
   "execution_count": 3,
   "id": "38aa7bbc-362f-452d-8f94-752b8bf4c342",
   "metadata": {},
   "outputs": [
    {
     "data": {
      "image/png": "[encoded data removed]"
     },
     "execution_count": 3,
     "metadata": {},
     "output_type": "execute_result"
    }
   ],
   "source": [
    "using Distributions\n",
    "using StatsFuns\n",
    "using StatsPlots\n",
    "default(fmt=:png, size=(400, 250))\n",
    "\n",
    "logisticmodel(a, b, x) = Bernoulli(logistic(a + b*x))\n",
    "randlogistic(a, b, x) = @. rand(logisticmodel(a, b, x))\n",
    "\n",
    "a, b, n = 1, 2, 3000\n",
    "x = rand(Uniform(-3, 2), n)\n",
    "y = randlogistic(a, b, x)\n",
    "scatter(x, y; label=\"\", ytick=0:1, msc=:auto, alpha=0.5, ms=2,\n",
    "    size=(800, 100), ylim=(-0.3, 1.2))"
   ]
  },
  {
   "cell_type": "code",
   "execution_count": 4,
   "id": "51d9ddfc-dd7a-4abb-95a5-0fbf54411a99",
   "metadata": {},
   "outputs": [
    {
     "data": {
      "text/plain": [
       "0.0"
      ]
     },
     "execution_count": 4,
     "metadata": {},
     "output_type": "execute_result"
    }
   ],
   "source": [
    "prod(pdf(logisticmodel(a, b, x[i]), y[i]) for i in eachindex(x, y))"
   ]
  },
  {
   "cell_type": "code",
   "execution_count": 5,
   "id": "f179379e-4fc8-4db9-90bf-562300240d4e",
   "metadata": {},
   "outputs": [
    {
     "data": {
      "text/plain": [
       "-947.1082267505304"
      ]
     },
     "execution_count": 5,
     "metadata": {},
     "output_type": "execute_result"
    }
   ],
   "source": [
    "sum(logpdf(logisticmodel(a, b, x[i]), y[i]) for i in eachindex(x, y))"
   ]
  },
  {
   "cell_type": "code",
   "execution_count": null,
   "id": "4a04a165-6fa1-42a3-9e9c-bb0bbdc85378",
   "metadata": {},
   "outputs": [],
   "source": []
  }
 ],
 "metadata": {
  "jupytext": {
   "formats": "ipynb,jl:hydrogen"
  },
  "kernelspec": {
   "display_name": "Julia 1.7.3",
   "language": "julia",
   "name": "julia-1.7"
  },
  "language_info": {
   "file_extension": ".jl",
   "mimetype": "application/julia",
   "name": "julia",
   "version": "1.7.3"
  }
 },
 "nbformat": 4,
 "nbformat_minor": 5
}
