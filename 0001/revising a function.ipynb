{
 "cells": [
  {
   "cell_type": "code",
   "execution_count": 1,
   "id": "9a5df5ff-4d91-4d71-be95-5506a8a8cd2b",
   "metadata": {},
   "outputs": [
    {
     "data": {
      "text/plain": [
       "5-element Vector{Int64}:\n",
       " 1\n",
       " 2\n",
       " 3\n",
       " 4\n",
       " 5"
      ]
     },
     "execution_count": 1,
     "metadata": {},
     "output_type": "execute_result"
    }
   ],
   "source": [
    "num_list = [1, 2, 3, 4, 5]"
   ]
  },
  {
   "cell_type": "markdown",
   "id": "0f697808-fc5d-4650-8b1e-83b0eafae6fa",
   "metadata": {},
   "source": [
    "`[1, 2, 3, 4, 5]` はリストではなく、配列(もしくはベクトル)である。"
   ]
  },
  {
   "cell_type": "code",
   "execution_count": 2,
   "id": "9573cb2d-63d8-4375-af34-33a4843a711e",
   "metadata": {},
   "outputs": [
    {
     "data": {
      "text/plain": [
       "5-element Vector{Int64}:\n",
       " 1\n",
       " 2\n",
       " 3\n",
       " 4\n",
       " 5"
      ]
     },
     "execution_count": 2,
     "metadata": {},
     "output_type": "execute_result"
    }
   ],
   "source": [
    "num_arr = [1, 2, 3, 4, 5]"
   ]
  },
  {
   "cell_type": "code",
   "execution_count": 3,
   "id": "7441152d-4ba6-4a2a-a38a-d4ccbf597110",
   "metadata": {},
   "outputs": [
    {
     "data": {
      "text/plain": [
       "15"
      ]
     },
     "execution_count": 3,
     "metadata": {},
     "output_type": "execute_result"
    }
   ],
   "source": [
    "function f(num_arr)\n",
    "    sum = 0\n",
    "    n_iters = length(num_arr)\n",
    "    for i in 1:n_iters\n",
    "        sum += num_arr[i]\n",
    "    end\n",
    "    return sum\n",
    "end\n",
    "\n",
    "f(num_arr)"
   ]
  },
  {
   "cell_type": "markdown",
   "id": "728f0661-cd6c-4a05-8467-90ce3c35290f",
   "metadata": {},
   "source": [
    "`f(num_arr)` は配列(Array)以外にも適用可能だが `num_arr` という名前でいいのか？"
   ]
  },
  {
   "cell_type": "code",
   "execution_count": 4,
   "id": "3ea62b61-3705-48d7-a13e-462937dc4034",
   "metadata": {},
   "outputs": [
    {
     "data": {
      "text/plain": [
       "15"
      ]
     },
     "execution_count": 4,
     "metadata": {},
     "output_type": "execute_result"
    }
   ],
   "source": [
    "f(1:5)"
   ]
  },
  {
   "cell_type": "code",
   "execution_count": 5,
   "id": "c8f3747f-6a2e-4eac-85dc-017c6766dfe8",
   "metadata": {},
   "outputs": [
    {
     "data": {
      "text/plain": [
       "6-element Vector{DataType}:\n",
       " UnitRange{Int64}\n",
       " AbstractUnitRange{Int64}\n",
       " OrdinalRange{Int64, Int64}\n",
       " AbstractRange{Int64}\n",
       " AbstractVector{Int64} (alias for AbstractArray{Int64, 1})\n",
       " Any"
      ]
     },
     "execution_count": 5,
     "metadata": {},
     "output_type": "execute_result"
    }
   ],
   "source": [
    "[typeof(1:5); [∘(fill(supertype, k)...)(typeof(1:5)) for k in 1:5]]"
   ]
  },
  {
   "cell_type": "markdown",
   "id": "0a2c9bfd-a6a4-4091-9524-8c18ba910c93",
   "metadata": {},
   "source": [
    "あと、`Base.sum` とローカル変数の名前が被っていても確かに問題ないが、それでもいいのか？"
   ]
  },
  {
   "cell_type": "code",
   "execution_count": 6,
   "id": "8ac147ef-5146-4fde-8d37-c4190517b7ea",
   "metadata": {},
   "outputs": [
    {
     "data": {
      "text/plain": [
       "15"
      ]
     },
     "execution_count": 6,
     "metadata": {},
     "output_type": "execute_result"
    }
   ],
   "source": [
    "function f_rev1(num_abst_arr)\n",
    "    total = 0\n",
    "    n_iters = length(num_abst_arr)\n",
    "    for i in 1:n_iters\n",
    "        total += num_arr[i]\n",
    "    end\n",
    "    return total\n",
    "end\n",
    "\n",
    "f_rev1(num_arr)"
   ]
  },
  {
   "cell_type": "markdown",
   "id": "f2fe2b3a-6fa2-4ccb-8954-7f0cc9e31e43",
   "metadata": {},
   "source": [
    "`f_rev1([k for k in 1:5])` は計算できるが、`f_rev1(k for k in 1:5)` はエラーになる。"
   ]
  },
  {
   "cell_type": "code",
   "execution_count": 7,
   "id": "a25f2b4b-3c0c-4748-b95b-094f9b44e171",
   "metadata": {},
   "outputs": [
    {
     "data": {
      "text/plain": [
       "15"
      ]
     },
     "execution_count": 7,
     "metadata": {},
     "output_type": "execute_result"
    }
   ],
   "source": [
    "f_rev1([k for k in 1:5])"
   ]
  },
  {
   "cell_type": "code",
   "execution_count": 8,
   "id": "bbd6e736-a10b-427e-b98b-207837f9e174",
   "metadata": {},
   "outputs": [
    {
     "data": {
      "text/plain": [
       "15"
      ]
     },
     "execution_count": 8,
     "metadata": {},
     "output_type": "execute_result"
    }
   ],
   "source": [
    "f_rev1(k for k in 1:5)"
   ]
  },
  {
   "cell_type": "code",
   "execution_count": 9,
   "id": "a6e25233-539e-4e42-8f38-79094f7b819d",
   "metadata": {},
   "outputs": [
    {
     "data": {
      "text/plain": [
       "Base.Generator{UnitRange{Int64}, typeof(identity)}(identity, 1:5)"
      ]
     },
     "execution_count": 9,
     "metadata": {},
     "output_type": "execute_result"
    }
   ],
   "source": [
    "G = (k for k in 1:5)"
   ]
  },
  {
   "cell_type": "code",
   "execution_count": 10,
   "id": "ccd913fe-4eec-444b-a28c-3a8a1ab7881c",
   "metadata": {},
   "outputs": [
    {
     "data": {
      "text/plain": [
       "15"
      ]
     },
     "execution_count": 10,
     "metadata": {},
     "output_type": "execute_result"
    }
   ],
   "source": [
    "function f_rev2(num_iter)\n",
    "    total = 0\n",
    "    for num in num_iter\n",
    "        total += num\n",
    "    end\n",
    "    return total\n",
    "end\n",
    "\n",
    "f_rev2(num_arr)"
   ]
  },
  {
   "cell_type": "code",
   "execution_count": 11,
   "id": "ad91a0a6-f81e-4e2d-a278-d062f2adf9e0",
   "metadata": {},
   "outputs": [
    {
     "data": {
      "text/plain": [
       "15"
      ]
     },
     "execution_count": 11,
     "metadata": {},
     "output_type": "execute_result"
    }
   ],
   "source": [
    "f_rev2(k for k in 1:5)"
   ]
  },
  {
   "cell_type": "markdown",
   "id": "f88ab7d5-ab5e-41d8-b905-2f94ff96fe4f",
   "metadata": {},
   "source": [
    "引数 `num_iter` の要素が整数でない場合に型不安定！"
   ]
  },
  {
   "cell_type": "code",
   "execution_count": 12,
   "id": "ed1f87c8-1244-45a5-9604-dccfefe39b51",
   "metadata": {},
   "outputs": [
    {
     "name": "stdout",
     "output_type": "stream",
     "text": [
      "MethodInstance for f_rev2(::\u001b[0mVector{Float64})\n",
      "  from f_rev2(num_iter) in Main at In[10]:1\n",
      "Arguments\n",
      "  #self#\u001b[36m::Core.Const(f_rev2)\u001b[39m\n",
      "  num_iter\u001b[36m::Vector{Float64}\u001b[39m\n",
      "Locals\n",
      "  @_3\u001b[33m\u001b[1m::Union{Nothing, Tuple{Float64, Int64}}\u001b[22m\u001b[39m\n",
      "  total\u001b[91m\u001b[1m::Union{Float64, Int64}\u001b[22m\u001b[39m\n",
      "  num\u001b[36m::Float64\u001b[39m\n",
      "Body\u001b[91m\u001b[1m::Union{Float64, Int64}\u001b[22m\u001b[39m\n",
      "\u001b[90m1 ─\u001b[39m       (total = 0)\n",
      "\u001b[90m│  \u001b[39m %2  = num_iter\u001b[36m::Vector{Float64}\u001b[39m\n",
      "\u001b[90m│  \u001b[39m       (@_3 = Base.iterate(%2))\n",
      "\u001b[90m│  \u001b[39m %4  = (@_3 === nothing)\u001b[36m::Bool\u001b[39m\n",
      "\u001b[90m│  \u001b[39m %5  = Base.not_int(%4)\u001b[36m::Bool\u001b[39m\n",
      "\u001b[90m└──\u001b[39m       goto #4 if not %5\n",
      "\u001b[90m2 ┄\u001b[39m %7  = @_3\u001b[36m::Tuple{Float64, Int64}\u001b[39m\n",
      "\u001b[90m│  \u001b[39m       (num = Core.getfield(%7, 1))\n",
      "\u001b[90m│  \u001b[39m %9  = Core.getfield(%7, 2)\u001b[36m::Int64\u001b[39m\n",
      "\u001b[90m│  \u001b[39m       (total = total + num)\n",
      "\u001b[90m│  \u001b[39m       (@_3 = Base.iterate(%2, %9))\n",
      "\u001b[90m│  \u001b[39m %12 = (@_3 === nothing)\u001b[36m::Bool\u001b[39m\n",
      "\u001b[90m│  \u001b[39m %13 = Base.not_int(%12)\u001b[36m::Bool\u001b[39m\n",
      "\u001b[90m└──\u001b[39m       goto #4 if not %13\n",
      "\u001b[90m3 ─\u001b[39m       goto #2\n",
      "\u001b[90m4 ┄\u001b[39m       return total\n",
      "\n"
     ]
    }
   ],
   "source": [
    "@code_warntype f_rev2([1.0, 2.0, 3.0, 4.0, 5.0])"
   ]
  },
  {
   "cell_type": "code",
   "execution_count": 13,
   "id": "fde8b358-2a27-4c90-9250-4d929173d72b",
   "metadata": {},
   "outputs": [
    {
     "data": {
      "text/plain": [
       "15"
      ]
     },
     "execution_count": 13,
     "metadata": {},
     "output_type": "execute_result"
    }
   ],
   "source": [
    "function f_rev3(num_iter)\n",
    "    total = zero(first(num_iter))\n",
    "    for num in num_iter\n",
    "        total += num\n",
    "    end\n",
    "    return total\n",
    "end\n",
    "\n",
    "f_rev3(num_arr)"
   ]
  },
  {
   "cell_type": "code",
   "execution_count": 14,
   "id": "8274cd93-a1b0-4bea-8cdd-7d7220764da4",
   "metadata": {},
   "outputs": [
    {
     "data": {
      "text/plain": [
       "15"
      ]
     },
     "execution_count": 14,
     "metadata": {},
     "output_type": "execute_result"
    }
   ],
   "source": [
    "f_rev3(k for k in 1:5)"
   ]
  },
  {
   "cell_type": "code",
   "execution_count": 15,
   "id": "0b3b6702-9b42-4907-b0b6-62a5377817cd",
   "metadata": {},
   "outputs": [
    {
     "name": "stdout",
     "output_type": "stream",
     "text": [
      "MethodInstance for f_rev3(::\u001b[0mVector{Float64})\n",
      "  from f_rev3(num_iter) in Main at In[13]:1\n",
      "Arguments\n",
      "  #self#\u001b[36m::Core.Const(f_rev3)\u001b[39m\n",
      "  num_iter\u001b[36m::Vector{Float64}\u001b[39m\n",
      "Locals\n",
      "  @_3\u001b[33m\u001b[1m::Union{Nothing, Tuple{Float64, Int64}}\u001b[22m\u001b[39m\n",
      "  total\u001b[36m::Float64\u001b[39m\n",
      "  num\u001b[36m::Float64\u001b[39m\n",
      "Body\u001b[36m::Float64\u001b[39m\n",
      "\u001b[90m1 ─\u001b[39m %1  = Main.first(num_iter)\u001b[36m::Float64\u001b[39m\n",
      "\u001b[90m│  \u001b[39m       (total = Main.zero(%1))\n",
      "\u001b[90m│  \u001b[39m %3  = num_iter\u001b[36m::Vector{Float64}\u001b[39m\n",
      "\u001b[90m│  \u001b[39m       (@_3 = Base.iterate(%3))\n",
      "\u001b[90m│  \u001b[39m %5  = (@_3 === nothing)\u001b[36m::Bool\u001b[39m\n",
      "\u001b[90m│  \u001b[39m %6  = Base.not_int(%5)\u001b[36m::Bool\u001b[39m\n",
      "\u001b[90m└──\u001b[39m       goto #4 if not %6\n",
      "\u001b[90m2 ┄\u001b[39m %8  = @_3\u001b[36m::Tuple{Float64, Int64}\u001b[39m\n",
      "\u001b[90m│  \u001b[39m       (num = Core.getfield(%8, 1))\n",
      "\u001b[90m│  \u001b[39m %10 = Core.getfield(%8, 2)\u001b[36m::Int64\u001b[39m\n",
      "\u001b[90m│  \u001b[39m       (total = total + num)\n",
      "\u001b[90m│  \u001b[39m       (@_3 = Base.iterate(%3, %10))\n",
      "\u001b[90m│  \u001b[39m %13 = (@_3 === nothing)\u001b[36m::Bool\u001b[39m\n",
      "\u001b[90m│  \u001b[39m %14 = Base.not_int(%13)\u001b[36m::Bool\u001b[39m\n",
      "\u001b[90m└──\u001b[39m       goto #4 if not %14\n",
      "\u001b[90m3 ─\u001b[39m       goto #2\n",
      "\u001b[90m4 ┄\u001b[39m       return total\n",
      "\n"
     ]
    }
   ],
   "source": [
    "@code_warntype f_rev3([1.0, 2.0, 3.0, 4.0, 5.0])"
   ]
  },
  {
   "cell_type": "markdown",
   "id": "a01177d2-4a62-4fca-a75c-04621689fcc1",
   "metadata": {},
   "source": [
    "`f_rev3(num_iter)` は引数 `num_iter` の要素が数でなくても使えるのに、`num_iter` という名前でいいのか？"
   ]
  },
  {
   "cell_type": "code",
   "execution_count": 16,
   "id": "bd7a7fe8-de52-4a81-ae25-3a6f233e16ba",
   "metadata": {},
   "outputs": [
    {
     "data": {
      "text/plain": [
       "2-element Vector{Int64}:\n",
       "  9\n",
       " 12"
      ]
     },
     "execution_count": 16,
     "metadata": {},
     "output_type": "execute_result"
    }
   ],
   "source": [
    "f_rev3([[1, 2], [3, 4], [5, 6]])"
   ]
  },
  {
   "cell_type": "code",
   "execution_count": 17,
   "id": "caccd11b-3c0c-46cf-b218-ddb4008f9710",
   "metadata": {},
   "outputs": [
    {
     "data": {
      "text/plain": [
       "15"
      ]
     },
     "execution_count": 17,
     "metadata": {},
     "output_type": "execute_result"
    }
   ],
   "source": [
    "function f_rev4(iter)\n",
    "    total = zero(first(iter))\n",
    "    for val in iter\n",
    "        total += val\n",
    "    end\n",
    "    return total\n",
    "end\n",
    "\n",
    "f_rev4(num_arr)"
   ]
  },
  {
   "cell_type": "code",
   "execution_count": 18,
   "id": "14f56d41-ebea-456c-b3a1-8e65e668917f",
   "metadata": {},
   "outputs": [
    {
     "data": {
      "text/plain": [
       "15"
      ]
     },
     "execution_count": 18,
     "metadata": {},
     "output_type": "execute_result"
    }
   ],
   "source": [
    "f_rev4(k for k in 1:5)"
   ]
  },
  {
   "cell_type": "code",
   "execution_count": 19,
   "id": "291baa76-6b35-4f52-a108-7f3a956f0135",
   "metadata": {},
   "outputs": [
    {
     "data": {
      "text/plain": [
       "2-element Vector{Int64}:\n",
       "  9\n",
       " 12"
      ]
     },
     "execution_count": 19,
     "metadata": {},
     "output_type": "execute_result"
    }
   ],
   "source": [
    "f_rev4([[1, 2], [3, 4], [5, 6]])"
   ]
  },
  {
   "cell_type": "markdown",
   "id": "0671f11a-b3dd-4ed9-9e80-0b266a4b5ce4",
   "metadata": {},
   "source": [
    "Juliaでは全ての文が値を持つ式なので函数の終わりでの `return` は省略できる。"
   ]
  },
  {
   "cell_type": "code",
   "execution_count": 20,
   "id": "e3904df9-37bb-4707-859e-e504dd20aa60",
   "metadata": {},
   "outputs": [
    {
     "data": {
      "text/plain": [
       "15"
      ]
     },
     "execution_count": 20,
     "metadata": {},
     "output_type": "execute_result"
    }
   ],
   "source": [
    "function f_rev5(iter)\n",
    "    total = zero(first(iter))\n",
    "    for val in iter\n",
    "        total += val\n",
    "    end\n",
    "    total\n",
    "end\n",
    "\n",
    "f_rev5(num_arr)"
   ]
  },
  {
   "cell_type": "code",
   "execution_count": 21,
   "id": "cdda590a-666c-4295-ac67-37872e13bb57",
   "metadata": {},
   "outputs": [
    {
     "data": {
      "text/plain": [
       "15"
      ]
     },
     "execution_count": 21,
     "metadata": {},
     "output_type": "execute_result"
    }
   ],
   "source": [
    "f_rev5(k for k in 1:5)"
   ]
  },
  {
   "cell_type": "code",
   "execution_count": 22,
   "id": "6dc9bc73-7eaa-4058-a05a-c6a4d07e19de",
   "metadata": {},
   "outputs": [
    {
     "data": {
      "text/plain": [
       "2-element Vector{Int64}:\n",
       "  9\n",
       " 12"
      ]
     },
     "execution_count": 22,
     "metadata": {},
     "output_type": "execute_result"
    }
   ],
   "source": [
    "f_rev5([[1, 2], [3, 4], [5, 6]])"
   ]
  },
  {
   "cell_type": "markdown",
   "id": "382d3127-8f37-46e5-a897-d200347c0c45",
   "metadata": {},
   "source": [
    "`iter` が空の場合はエラーになる。"
   ]
  },
  {
   "cell_type": "code",
   "execution_count": 23,
   "id": "32b7eb8f-79b8-427e-b9da-6de87cf7658c",
   "metadata": {},
   "outputs": [
    {
     "data": {
      "text/plain": [
       "Float64[]"
      ]
     },
     "execution_count": 23,
     "metadata": {},
     "output_type": "execute_result"
    }
   ],
   "source": [
    "zeros(0)"
   ]
  },
  {
   "cell_type": "code",
   "execution_count": 24,
   "id": "c057b05e-c440-4f45-98b6-4087ece81162",
   "metadata": {},
   "outputs": [
    {
     "ename": "LoadError",
     "evalue": "BoundsError: attempt to access 0-element Vector{Float64} at index [1]",
     "output_type": "error",
     "traceback": [
      "BoundsError: attempt to access 0-element Vector{Float64} at index [1]",
      "",
      "Stacktrace:",
      " [1] getindex",
      "   @ .\\array.jl:833 [inlined]",
      " [2] first",
      "   @ .\\abstractarray.jl:401 [inlined]",
      " [3] f_rev5(iter::Vector{Float64})",
      "   @ Main .\\In[20]:2",
      " [4] top-level scope",
      "   @ In[24]:1",
      " [5] eval",
      "   @ .\\boot.jl:369 [inlined]",
      " [6] include_string(mapexpr::typeof(REPL.softscope), mod::Module, code::String, filename::String)",
      "   @ Base .\\loading.jl:1110"
     ]
    }
   ],
   "source": [
    "f_rev5(zeros(0))"
   ]
  },
  {
   "cell_type": "code",
   "execution_count": 25,
   "id": "7805bff7-3d32-4959-81d1-3bc37efce01a",
   "metadata": {},
   "outputs": [
    {
     "data": {
      "text/plain": [
       "15"
      ]
     },
     "execution_count": 25,
     "metadata": {},
     "output_type": "execute_result"
    }
   ],
   "source": [
    "function f_rev6(iter, init = isempty(iter) ? zero(eltype(iter)) : zero(first(iter)))\n",
    "    total = init\n",
    "    for val in iter\n",
    "        total += val\n",
    "    end\n",
    "    total\n",
    "end\n",
    "\n",
    "f_rev6(num_arr)"
   ]
  },
  {
   "cell_type": "code",
   "execution_count": 26,
   "id": "ba12aab0-ee23-4a9e-8e87-c484fe0b2f36",
   "metadata": {},
   "outputs": [
    {
     "data": {
      "text/plain": [
       "15"
      ]
     },
     "execution_count": 26,
     "metadata": {},
     "output_type": "execute_result"
    }
   ],
   "source": [
    "f_rev6(k for k in 1:5)"
   ]
  },
  {
   "cell_type": "code",
   "execution_count": 27,
   "id": "897b86d5-c3cf-480e-bfa2-6d4c0c0e0472",
   "metadata": {},
   "outputs": [
    {
     "data": {
      "text/plain": [
       "2-element Vector{Int64}:\n",
       "  9\n",
       " 12"
      ]
     },
     "execution_count": 27,
     "metadata": {},
     "output_type": "execute_result"
    }
   ],
   "source": [
    "f_rev6([[1, 2], [3, 4], [5, 6]])"
   ]
  },
  {
   "cell_type": "code",
   "execution_count": 28,
   "id": "8c179d62-d91c-4f52-95e6-8c37352d0203",
   "metadata": {},
   "outputs": [
    {
     "data": {
      "text/plain": [
       "0.0"
      ]
     },
     "execution_count": 28,
     "metadata": {},
     "output_type": "execute_result"
    }
   ],
   "source": [
    "f_rev6(zeros())"
   ]
  },
  {
   "cell_type": "code",
   "execution_count": 29,
   "id": "5f5f69c8-1fa1-444a-a5d4-f93ef7b220c7",
   "metadata": {},
   "outputs": [
    {
     "ename": "LoadError",
     "evalue": "MethodError: no method matching zero(::Type{Vector{Int64}})\n\u001b[0mClosest candidates are:\n\u001b[0m  zero(\u001b[91m::Union{Type{P}, P}\u001b[39m) where P<:Dates.Period at C:\\buildbot\\worker\\package_win64\\build\\usr\\share\\julia\\stdlib\\v1.7\\Dates\\src\\periods.jl:53\n\u001b[0m  zero(\u001b[91m::SparseArrays.AbstractSparseArray\u001b[39m) at C:\\buildbot\\worker\\package_win64\\build\\usr\\share\\julia\\stdlib\\v1.7\\SparseArrays\\src\\SparseArrays.jl:55\n\u001b[0m  zero(\u001b[91m::AbstractArray{T}\u001b[39m) where T at abstractarray.jl:1136\n\u001b[0m  ...",
     "output_type": "error",
     "traceback": [
      "MethodError: no method matching zero(::Type{Vector{Int64}})\n\u001b[0mClosest candidates are:\n\u001b[0m  zero(\u001b[91m::Union{Type{P}, P}\u001b[39m) where P<:Dates.Period at C:\\buildbot\\worker\\package_win64\\build\\usr\\share\\julia\\stdlib\\v1.7\\Dates\\src\\periods.jl:53\n\u001b[0m  zero(\u001b[91m::SparseArrays.AbstractSparseArray\u001b[39m) at C:\\buildbot\\worker\\package_win64\\build\\usr\\share\\julia\\stdlib\\v1.7\\SparseArrays\\src\\SparseArrays.jl:55\n\u001b[0m  zero(\u001b[91m::AbstractArray{T}\u001b[39m) where T at abstractarray.jl:1136\n\u001b[0m  ...",
      "",
      "Stacktrace:",
      " [1] f_rev6(iter::Vector{Vector{Int64}})",
      "   @ Main .\\In[25]:2",
      " [2] top-level scope",
      "   @ In[29]:1",
      " [3] eval",
      "   @ .\\boot.jl:369 [inlined]",
      " [4] include_string(mapexpr::typeof(REPL.softscope), mod::Module, code::String, filename::String)",
      "   @ Base .\\loading.jl:1110"
     ]
    }
   ],
   "source": [
    "f_rev6(Vector{Int64}[])"
   ]
  },
  {
   "cell_type": "code",
   "execution_count": 30,
   "id": "9ea5923e-dc4c-45b0-bb2e-8e6f45c6ae56",
   "metadata": {},
   "outputs": [
    {
     "data": {
      "text/plain": [
       "2-element Vector{Int64}:\n",
       " 0\n",
       " 0"
      ]
     },
     "execution_count": 30,
     "metadata": {},
     "output_type": "execute_result"
    }
   ],
   "source": [
    "f_rev6(Vector{Int64}[], [0, 0])"
   ]
  },
  {
   "cell_type": "markdown",
   "id": "72ae010e-9aef-4da9-ab57-4373828d76b9",
   "metadata": {},
   "source": [
    "函数の定義がこれだけ短いなら、「意味のある変数名」ではなく、1文字変数名でもいいんじゃね？"
   ]
  },
  {
   "cell_type": "code",
   "execution_count": 31,
   "id": "6a308276-ab7f-4cb7-b79f-94435f997d01",
   "metadata": {},
   "outputs": [
    {
     "data": {
      "text/plain": [
       "15"
      ]
     },
     "execution_count": 31,
     "metadata": {},
     "output_type": "execute_result"
    }
   ],
   "source": [
    "function f_rev7(A, o = isempty(A) ? zero(eltype(A)) : zero(first(A)))\n",
    "    s = o\n",
    "    for v in A\n",
    "        s += v\n",
    "    end\n",
    "    s\n",
    "end\n",
    "\n",
    "f_rev7(num_arr)"
   ]
  },
  {
   "cell_type": "code",
   "execution_count": 32,
   "id": "ea9d8752-388f-4dad-9afc-7cf419c52cf0",
   "metadata": {},
   "outputs": [
    {
     "data": {
      "text/plain": [
       "15"
      ]
     },
     "execution_count": 32,
     "metadata": {},
     "output_type": "execute_result"
    }
   ],
   "source": [
    "f_rev7(k for k in 1:5)"
   ]
  },
  {
   "cell_type": "code",
   "execution_count": 33,
   "id": "557dc32e-5c73-47b0-ac1f-74639ab67554",
   "metadata": {},
   "outputs": [
    {
     "data": {
      "text/plain": [
       "2-element Vector{Int64}:\n",
       "  9\n",
       " 12"
      ]
     },
     "execution_count": 33,
     "metadata": {},
     "output_type": "execute_result"
    }
   ],
   "source": [
    "f_rev7([[1, 2], [3, 4], [5, 6]])"
   ]
  },
  {
   "cell_type": "code",
   "execution_count": 34,
   "id": "0b144e19-ed9d-4bbf-a2c5-bacf3637b1e0",
   "metadata": {},
   "outputs": [
    {
     "data": {
      "text/plain": [
       "0.0"
      ]
     },
     "execution_count": 34,
     "metadata": {},
     "output_type": "execute_result"
    }
   ],
   "source": [
    "f_rev7(zeros())"
   ]
  },
  {
   "cell_type": "code",
   "execution_count": 35,
   "id": "a0586b2d-7bc4-4b14-9af0-cbd4e2e3d775",
   "metadata": {},
   "outputs": [
    {
     "data": {
      "text/plain": [
       "2-element Vector{Int64}:\n",
       " 0\n",
       " 0"
      ]
     },
     "execution_count": 35,
     "metadata": {},
     "output_type": "execute_result"
    }
   ],
   "source": [
    "f_rev7(Vector{Int64}[], [0, 0])"
   ]
  },
  {
   "cell_type": "code",
   "execution_count": 36,
   "id": "69d6d34e-ad69-4f9c-84dc-766832bb3154",
   "metadata": {},
   "outputs": [
    {
     "data": {
      "text/plain": [
       "10"
      ]
     },
     "execution_count": 36,
     "metadata": {},
     "output_type": "execute_result"
    }
   ],
   "source": [
    "A = [\n",
    "    1 2\n",
    "    3 4\n",
    "]\n",
    "f_rev7(A)"
   ]
  },
  {
   "cell_type": "markdown",
   "id": "39dba975-971a-4b2a-a09a-be979fdcd125",
   "metadata": {},
   "source": [
    "Juliaの配列のインデックスは任意始まりにできる。"
   ]
  },
  {
   "cell_type": "code",
   "execution_count": 37,
   "id": "7e807dfa-271a-422c-875e-f0eba140d607",
   "metadata": {},
   "outputs": [
    {
     "data": {
      "text/plain": [
       "7-element OffsetArray(::Vector{Int64}, -3:3) with eltype Int64 with indices -3:3:\n",
       " -27\n",
       "  -8\n",
       "  -1\n",
       "   0\n",
       "   1\n",
       "   8\n",
       "  27"
      ]
     },
     "execution_count": 37,
     "metadata": {},
     "output_type": "execute_result"
    }
   ],
   "source": [
    "using OffsetArrays\n",
    "a = OffsetArray([k^3 for k in -3:3], -3:3)"
   ]
  },
  {
   "cell_type": "code",
   "execution_count": 38,
   "id": "61c20f06-cc7f-4f9a-94f8-3a92929c205c",
   "metadata": {},
   "outputs": [
    {
     "name": "stdout",
     "output_type": "stream",
     "text": [
      "collect(eachindex(a)) = [-3, -2, -1, 0, 1, 2, 3]\n",
      "a[-3] = -27\n",
      "a[-2] = -8\n",
      "a[-1] = -1\n",
      "a[0] = 0\n",
      "a[1] = 1\n",
      "a[2] = 8\n",
      "a[3] = 27\n"
     ]
    }
   ],
   "source": [
    "@show collect(eachindex(a))\n",
    "\n",
    "for i in eachindex(a)\n",
    "    println(\"a[\", i, \"] = \", a[i])\n",
    "end"
   ]
  },
  {
   "cell_type": "code",
   "execution_count": 39,
   "id": "d6c6ebff-100f-459c-939a-8823055125d8",
   "metadata": {},
   "outputs": [
    {
     "name": "stdout",
     "output_type": "stream",
     "text": [
      "pairs(a) = Base.Pairs(-3 => -27, -2 => -8, -1 => -1, 0 => 0, 1 => 1, 2 => 8, 3 => 27)\n",
      "a[-3] = -27\n",
      "a[-2] = -8\n",
      "a[-1] = -1\n",
      "a[0] = 0\n",
      "a[1] = 1\n",
      "a[2] = 8\n",
      "a[3] = 27\n"
     ]
    }
   ],
   "source": [
    "@show pairs(a)\n",
    "for (i, v) in pairs(a)\n",
    "    println(\"a[\", i, \"] = \", v)\n",
    "end"
   ]
  },
  {
   "cell_type": "code",
   "execution_count": 40,
   "id": "2df3a5df-5395-46e3-8a8b-34af00b16b3d",
   "metadata": {},
   "outputs": [
    {
     "data": {
      "text/plain": [
       "pairs(::OffsetVector{Int64, Vector{Int64}})(...):\n",
       "  -3 => -27\n",
       "  -2 => -8\n",
       "  -1 => -1\n",
       "  0  => 0\n",
       "  1  => 1\n",
       "  2  => 8\n",
       "  3  => 27"
      ]
     },
     "execution_count": 40,
     "metadata": {},
     "output_type": "execute_result"
    }
   ],
   "source": [
    "pairs(a)"
   ]
  },
  {
   "cell_type": "code",
   "execution_count": 41,
   "id": "ba58e10a-bba2-484a-bbe6-41259f7a181d",
   "metadata": {},
   "outputs": [
    {
     "data": {
      "text/plain": [
       "4×3×2 OffsetArray(reshape(::UnitRange{Int64}, 4, 3, 2), -1:2, -1:1, 0:1) with eltype Int64 with indices -1:2×-1:1×0:1:\n",
       "[:, :, 0] =\n",
       " 1  5   9\n",
       " 2  6  10\n",
       " 3  7  11\n",
       " 4  8  12\n",
       "\n",
       "[:, :, 1] =\n",
       " 13  17  21\n",
       " 14  18  22\n",
       " 15  19  23\n",
       " 16  20  24"
      ]
     },
     "execution_count": 41,
     "metadata": {},
     "output_type": "execute_result"
    }
   ],
   "source": [
    "A = OffsetArray(reshape(1:24, 4, 3, 2), -1:2, -1:1, 0:1)"
   ]
  },
  {
   "cell_type": "code",
   "execution_count": 42,
   "id": "f96287b2-1908-465e-acaa-e6d6cfb9db28",
   "metadata": {},
   "outputs": [
    {
     "name": "stdout",
     "output_type": "stream",
     "text": [
      "A[-1, -1, 0] = 1\n",
      "A[0, -1, 0] = 2\n",
      "A[1, -1, 0] = 3\n",
      "A[2, -1, 0] = 4\n",
      "A[-1, 0, 0] = 5\n",
      "A[0, 0, 0] = 6\n",
      "A[1, 0, 0] = 7\n",
      "A[2, 0, 0] = 8\n",
      "A[-1, 1, 0] = 9\n",
      "A[0, 1, 0] = 10\n",
      "A[1, 1, 0] = 11\n",
      "A[2, 1, 0] = 12\n",
      "A[-1, -1, 1] = 13\n",
      "A[0, -1, 1] = 14\n",
      "A[1, -1, 1] = 15\n",
      "A[2, -1, 1] = 16\n",
      "A[-1, 0, 1] = 17\n",
      "A[0, 0, 1] = 18\n",
      "A[1, 0, 1] = 19\n",
      "A[2, 0, 1] = 20\n",
      "A[-1, 1, 1] = 21\n",
      "A[0, 1, 1] = 22\n",
      "A[1, 1, 1] = 23\n",
      "A[2, 1, 1] = 24\n"
     ]
    }
   ],
   "source": [
    "for k in axes(A, 3), j in axes(A, 2), i in axes(A, 1)\n",
    "    println(\"A[\", i, \", \", j, \", \", k, \"] = \", A[i, j, k])\n",
    "end"
   ]
  },
  {
   "cell_type": "code",
   "execution_count": null,
   "id": "87535785-ecf8-4723-af95-87c5760a1b86",
   "metadata": {},
   "outputs": [],
   "source": []
  }
 ],
 "metadata": {
  "jupytext": {
   "formats": "ipynb,md"
  },
  "kernelspec": {
   "display_name": "Julia 1.7.0-DEV",
   "language": "julia",
   "name": "julia-1.7"
  },
  "language_info": {
   "file_extension": ".jl",
   "mimetype": "application/julia",
   "name": "julia",
   "version": "1.7.0"
  }
 },
 "nbformat": 4,
 "nbformat_minor": 5
}
