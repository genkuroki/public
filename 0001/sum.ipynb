{
 "cells": [
  {
   "cell_type": "code",
   "execution_count": 1,
   "id": "56c25ba5-71ec-46e1-87f7-35751cab76b8",
   "metadata": {},
   "outputs": [
    {
     "data": {
      "text/plain": [
       "1:9"
      ]
     },
     "execution_count": 1,
     "metadata": {},
     "output_type": "execute_result"
    }
   ],
   "source": [
    "f(x, y) = x * y\n",
    "X = Y = 1:9"
   ]
  },
  {
   "cell_type": "code",
   "execution_count": 2,
   "id": "dbe73f60-679f-4148-ba6b-6014978ad9b2",
   "metadata": {},
   "outputs": [
    {
     "data": {
      "text/plain": [
       "2025"
      ]
     },
     "execution_count": 2,
     "metadata": {},
     "output_type": "execute_result"
    }
   ],
   "source": [
    "sum(f(x, y) for x in X for y in Y)"
   ]
  },
  {
   "cell_type": "code",
   "execution_count": 3,
   "id": "d11b9ed8-a028-4ca9-bb5b-a75f6a599b8e",
   "metadata": {},
   "outputs": [
    {
     "data": {
      "text/plain": [
       "2025"
      ]
     },
     "execution_count": 3,
     "metadata": {},
     "output_type": "execute_result"
    }
   ],
   "source": [
    "sum(f(x, y) for x in X, y in Y)"
   ]
  },
  {
   "cell_type": "code",
   "execution_count": 4,
   "id": "cd74d171-7e56-4c85-ad77-52f77c168907",
   "metadata": {},
   "outputs": [
    {
     "data": {
      "text/plain": [
       "2025"
      ]
     },
     "execution_count": 4,
     "metadata": {},
     "output_type": "execute_result"
    }
   ],
   "source": [
    "sum(t -> f(t...), Iterators.product(X, Y))"
   ]
  },
  {
   "cell_type": "code",
   "execution_count": 5,
   "id": "840a30f4-465d-4424-b94d-5ba1ecc75d48",
   "metadata": {},
   "outputs": [
    {
     "data": {
      "text/plain": [
       "2025"
      ]
     },
     "execution_count": 5,
     "metadata": {},
     "output_type": "execute_result"
    }
   ],
   "source": [
    "sum(x -> x^3, X)"
   ]
  },
  {
   "cell_type": "code",
   "execution_count": null,
   "id": "5366030e-59ae-43cd-81aa-c8dd1a06a2ff",
   "metadata": {},
   "outputs": [],
   "source": []
  }
 ],
 "metadata": {
  "kernelspec": {
   "display_name": "Julia 1.7.0-DEV",
   "language": "julia",
   "name": "julia-1.7"
  },
  "language_info": {
   "file_extension": ".jl",
   "mimetype": "application/julia",
   "name": "julia",
   "version": "1.7.0"
  }
 },
 "nbformat": 4,
 "nbformat_minor": 5
}
