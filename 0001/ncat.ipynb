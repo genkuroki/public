{
 "cells": [
  {
   "cell_type": "code",
   "execution_count": 1,
   "id": "66feabd5-3175-42e9-a122-61a87021548e",
   "metadata": {},
   "outputs": [
    {
     "data": {
      "text/plain": [
       "v\"1.7.0-DEV.1133\""
      ]
     },
     "execution_count": 1,
     "metadata": {},
     "output_type": "execute_result"
    }
   ],
   "source": [
    "VERSION"
   ]
  },
  {
   "cell_type": "code",
   "execution_count": 2,
   "id": "e5d0a94c-2ea5-432c-978f-b1be37d84656",
   "metadata": {},
   "outputs": [],
   "source": [
    "using Random\n",
    "using MetaUtils"
   ]
  },
  {
   "cell_type": "code",
   "execution_count": 3,
   "id": "2d236774-c1fa-4b17-baa6-d1c9e224f2d1",
   "metadata": {},
   "outputs": [
    {
     "data": {
      "text/plain": [
       "4×3 Matrix{String}:\n",
       " \"vE1GpDhO\"  \"qYnskcY0\"  \"F6HX0Uu8\"\n",
       " \"l3N7fPDv\"  \"YsJLICwT\"  \"ByFvaoVq\"\n",
       " \"AYtVQwYa\"  \"RAOAMBxn\"  \"aJ99iDok\"\n",
       " \"RX3VrtyN\"  \"um6tCGGX\"  \"C4CNkyQc\""
      ]
     },
     "execution_count": 3,
     "metadata": {},
     "output_type": "execute_result"
    }
   ],
   "source": [
    "A = [randstring(8) for i in 1:4, j in 1:3]"
   ]
  },
  {
   "cell_type": "code",
   "execution_count": 4,
   "id": "c5aac29b-209f-4d6f-b0f1-e570a98db8fb",
   "metadata": {},
   "outputs": [
    {
     "name": "stdout",
     "output_type": "stream",
     "text": [
      "[\"vE1GpDhO\" \"qYnskcY0\" \"F6HX0Uu8\"; \"l3N7fPDv\" \"YsJLICwT\" \"ByFvaoVq\"; \"AYtVQwYa\" \"RAOAMBxn\" \"aJ99iDok\"; \"RX3VrtyN\" \"um6tCGGX\" \"C4CNkyQc\"]"
     ]
    }
   ],
   "source": [
    "A_string = string(A)\n",
    "print(A_string)"
   ]
  },
  {
   "cell_type": "code",
   "execution_count": 5,
   "id": "b34f6467-ebee-4e08-8682-2fd626027085",
   "metadata": {},
   "outputs": [
    {
     "data": {
      "text/plain": [
       ":([\"vE1GpDhO\" \"qYnskcY0\" \"F6HX0Uu8\"; \"l3N7fPDv\" \"YsJLICwT\" \"ByFvaoVq\"; \"AYtVQwYa\" \"RAOAMBxn\" \"aJ99iDok\"; \"RX3VrtyN\" \"um6tCGGX\" \"C4CNkyQc\"])"
      ]
     },
     "execution_count": 5,
     "metadata": {},
     "output_type": "execute_result"
    }
   ],
   "source": [
    "A_parse = Meta.parse(A_string)"
   ]
  },
  {
   "cell_type": "code",
   "execution_count": 6,
   "id": "f38f6f7c-b501-4b1f-944d-02712de9413c",
   "metadata": {},
   "outputs": [
    {
     "name": "stdout",
     "output_type": "stream",
     "text": [
      "Expr(:vcat, \n",
      "    Expr(:row, \"vE1GpDhO\", \"qYnskcY0\", \"F6HX0Uu8\"), \n",
      "    Expr(:row, \"l3N7fPDv\", \"YsJLICwT\", \"ByFvaoVq\"), \n",
      "    Expr(:row, \"AYtVQwYa\", \"RAOAMBxn\", \"aJ99iDok\"), \n",
      "    Expr(:row, \"RX3VrtyN\", \"um6tCGGX\", \"C4CNkyQc\"))"
     ]
    }
   ],
   "source": [
    "show_expr(A_parse)"
   ]
  },
  {
   "cell_type": "code",
   "execution_count": 7,
   "id": "30ab456e-f5ab-475c-aa94-d3605f8a5ca5",
   "metadata": {},
   "outputs": [
    {
     "data": {
      "text/plain": [
       "4×3 Matrix{String}:\n",
       " \"vE1GpDhO\"  \"qYnskcY0\"  \"F6HX0Uu8\"\n",
       " \"l3N7fPDv\"  \"YsJLICwT\"  \"ByFvaoVq\"\n",
       " \"AYtVQwYa\"  \"RAOAMBxn\"  \"aJ99iDok\"\n",
       " \"RX3VrtyN\"  \"um6tCGGX\"  \"C4CNkyQc\""
      ]
     },
     "execution_count": 7,
     "metadata": {},
     "output_type": "execute_result"
    }
   ],
   "source": [
    "A_eval = eval(A_parse)"
   ]
  },
  {
   "cell_type": "code",
   "execution_count": 8,
   "id": "ddd57c3d-06d8-4a8b-8cc0-d2353c23e9e0",
   "metadata": {},
   "outputs": [
    {
     "data": {
      "text/plain": [
       "4×3×2 Array{String, 3}:\n",
       "[:, :, 1] =\n",
       " \"dkaUUZhV\"  \"Viwawycq\"  \"kMefJWAH\"\n",
       " \"OKPvgYCI\"  \"qVlggyYP\"  \"8tyPHYgD\"\n",
       " \"3WSwHJ1o\"  \"hxTJdGZK\"  \"D8fUg3Ul\"\n",
       " \"wCPgnM76\"  \"1nb4xKDJ\"  \"GPBk3SOk\"\n",
       "\n",
       "[:, :, 2] =\n",
       " \"yAygLHtd\"  \"ArEi5Ofu\"  \"dHQwvOKj\"\n",
       " \"WYStWK8l\"  \"fi9Ceb95\"  \"g9mE3cYd\"\n",
       " \"v2K9K07M\"  \"lmzKgidE\"  \"WHdsNEig\"\n",
       " \"zxnlhyrC\"  \"u1Iyp0OZ\"  \"gbrV3yOS\""
      ]
     },
     "execution_count": 8,
     "metadata": {},
     "output_type": "execute_result"
    }
   ],
   "source": [
    "B = [randstring(8) for i in 1:4, j in 1:3, k in 1:2]"
   ]
  },
  {
   "cell_type": "code",
   "execution_count": 9,
   "id": "ad4962d9-74a8-4bf2-9069-dfe35daa6f99",
   "metadata": {},
   "outputs": [
    {
     "name": "stdout",
     "output_type": "stream",
     "text": [
      "[\"dkaUUZhV\" \"Viwawycq\" \"kMefJWAH\"; \"OKPvgYCI\" \"qVlggyYP\" \"8tyPHYgD\"; \"3WSwHJ1o\" \"hxTJdGZK\" \"D8fUg3Ul\"; \"wCPgnM76\" \"1nb4xKDJ\" \"GPBk3SOk\";;; \"yAygLHtd\" \"ArEi5Ofu\" \"dHQwvOKj\"; \"WYStWK8l\" \"fi9Ceb95\" \"g9mE3cYd\"; \"v2K9K07M\" \"lmzKgidE\" \"WHdsNEig\"; \"zxnlhyrC\" \"u1Iyp0OZ\" \"gbrV3yOS\"]"
     ]
    }
   ],
   "source": [
    "B_string = string(B)\n",
    "print(B_string)"
   ]
  },
  {
   "cell_type": "code",
   "execution_count": 10,
   "id": "d791d826-f38d-4444-99a7-676260135141",
   "metadata": {},
   "outputs": [
    {
     "data": {
      "text/plain": [
       ":($(Expr(:ncat, 3, :($(Expr(:nrow, 1, :(\"dkaUUZhV\" \"Viwawycq\" \"kMefJWAH\"), :(\"OKPvgYCI\" \"qVlggyYP\" \"8tyPHYgD\"), :(\"3WSwHJ1o\" \"hxTJdGZK\" \"D8fUg3Ul\"), :(\"wCPgnM76\" \"1nb4xKDJ\" \"GPBk3SOk\")))), :($(Expr(:nrow, 1, :(\"yAygLHtd\" \"ArEi5Ofu\" \"dHQwvOKj\"), :(\"WYStWK8l\" \"fi9Ceb95\" \"g9mE3cYd\"), :(\"v2K9K07M\" \"lmzKgidE\" \"WHdsNEig\"), :(\"zxnlhyrC\" \"u1Iyp0OZ\" \"gbrV3yOS\")))))))"
      ]
     },
     "execution_count": 10,
     "metadata": {},
     "output_type": "execute_result"
    }
   ],
   "source": [
    "B_parse = Meta.parse(B_string)"
   ]
  },
  {
   "cell_type": "code",
   "execution_count": 11,
   "id": "a2292eca-2ff0-4195-999c-c8e782f7622b",
   "metadata": {},
   "outputs": [
    {
     "name": "stdout",
     "output_type": "stream",
     "text": [
      "Expr(:ncat, 3, \n",
      "    Expr(:nrow, 1, \n",
      "        Expr(:row, \"dkaUUZhV\", \"Viwawycq\", \"kMefJWAH\"), \n",
      "        Expr(:row, \"OKPvgYCI\", \"qVlggyYP\", \"8tyPHYgD\"), \n",
      "        Expr(:row, \"3WSwHJ1o\", \"hxTJdGZK\", \"D8fUg3Ul\"), \n",
      "        Expr(:row, \"wCPgnM76\", \"1nb4xKDJ\", \"GPBk3SOk\")), \n",
      "    Expr(:nrow, 1, \n",
      "        Expr(:row, \"yAygLHtd\", \"ArEi5Ofu\", \"dHQwvOKj\"), \n",
      "        Expr(:row, \"WYStWK8l\", \"fi9Ceb95\", \"g9mE3cYd\"), \n",
      "        Expr(:row, \"v2K9K07M\", \"lmzKgidE\", \"WHdsNEig\"), \n",
      "        Expr(:row, \"zxnlhyrC\", \"u1Iyp0OZ\", \"gbrV3yOS\")))"
     ]
    }
   ],
   "source": [
    "using MetaUtils\n",
    "show_expr(B_parse)"
   ]
  },
  {
   "cell_type": "code",
   "execution_count": 12,
   "id": "f9f1ac22-4d8f-48b6-aaa3-265ae48c1c94",
   "metadata": {},
   "outputs": [
    {
     "ename": "LoadError",
     "evalue": "MethodError: no method matching ndims(::String)\n\u001b[0mClosest candidates are:\n\u001b[0m  ndims(\u001b[91m::CartesianIndices\u001b[39m) at multidimensional.jl:360\n\u001b[0m  ndims(\u001b[91m::Number\u001b[39m) at number.jl:85\n\u001b[0m  ndims(\u001b[91m::Base.Iterators.ProductIterator\u001b[39m) at iterators.jl:978\n\u001b[0m  ...",
     "output_type": "error",
     "traceback": [
      "MethodError: no method matching ndims(::String)\n\u001b[0mClosest candidates are:\n\u001b[0m  ndims(\u001b[91m::CartesianIndices\u001b[39m) at multidimensional.jl:360\n\u001b[0m  ndims(\u001b[91m::Number\u001b[39m) at number.jl:85\n\u001b[0m  ndims(\u001b[91m::Base.Iterators.ProductIterator\u001b[39m) at iterators.jl:978\n\u001b[0m  ...",
      "",
      "Stacktrace:",
      " [1] _typed_hvncat(::Type{String}, ::Tuple{Int64, Int64, Int64}, ::Bool, ::String, ::Vararg{String})",
      "   @ Base .\\abstractarray.jl:2224",
      " [2] _hvncat(::Tuple{Int64, Int64, Int64}, ::Bool, ::String, ::Vararg{String})",
      "   @ Base .\\abstractarray.jl:2106",
      " [3] hvncat(::Tuple{Int64, Int64, Int64}, ::Bool, ::String, ::Vararg{String})",
      "   @ Base .\\abstractarray.jl:2102",
      " [4] top-level scope",
      "   @ none:1",
      " [5] eval",
      "   @ .\\boot.jl:369 [inlined]",
      " [6] eval(x::Expr)",
      "   @ Base.MainInclude .\\client.jl:453",
      " [7] top-level scope",
      "   @ In[12]:1",
      " [8] eval",
      "   @ .\\boot.jl:369 [inlined]",
      " [9] include_string(mapexpr::typeof(REPL.softscope), mod::Module, code::String, filename::String)",
      "   @ Base .\\loading.jl:1110"
     ]
    }
   ],
   "source": [
    "eval(B_parse)"
   ]
  },
  {
   "cell_type": "code",
   "execution_count": 13,
   "id": "683f10dc-f019-4a76-b56a-bb719e841803",
   "metadata": {},
   "outputs": [
    {
     "data": {
      "text/plain": [
       "v\"1.7.0-DEV.1133\""
      ]
     },
     "execution_count": 13,
     "metadata": {},
     "output_type": "execute_result"
    }
   ],
   "source": [
    "VERSION"
   ]
  },
  {
   "cell_type": "code",
   "execution_count": 14,
   "id": "fa4a357f-61d8-4aa4-86a7-f0ba3461052f",
   "metadata": {},
   "outputs": [
    {
     "data": {
      "text/plain": [
       "2×2×2 Array{Int64, 3}:\n",
       "[:, :, 1] =\n",
       " 111  112\n",
       " 121  122\n",
       "\n",
       "[:, :, 2] =\n",
       " 211  212\n",
       " 221  222"
      ]
     },
     "execution_count": 14,
     "metadata": {},
     "output_type": "execute_result"
    }
   ],
   "source": [
    "a = [\n",
    "    111 112\n",
    "    121 122\n",
    "    ;;;\n",
    "    211 212\n",
    "    221 222\n",
    "]"
   ]
  },
  {
   "cell_type": "code",
   "execution_count": 15,
   "id": "4af657ed-72d3-41e8-a6fc-85a62034e96c",
   "metadata": {},
   "outputs": [
    {
     "ename": "LoadError",
     "evalue": "MethodError: no method matching ndims(::String)\n\u001b[0mClosest candidates are:\n\u001b[0m  ndims(\u001b[91m::CartesianIndices\u001b[39m) at multidimensional.jl:360\n\u001b[0m  ndims(\u001b[91m::Number\u001b[39m) at number.jl:85\n\u001b[0m  ndims(\u001b[91m::Base.Iterators.ProductIterator\u001b[39m) at iterators.jl:978\n\u001b[0m  ...",
     "output_type": "error",
     "traceback": [
      "MethodError: no method matching ndims(::String)\n\u001b[0mClosest candidates are:\n\u001b[0m  ndims(\u001b[91m::CartesianIndices\u001b[39m) at multidimensional.jl:360\n\u001b[0m  ndims(\u001b[91m::Number\u001b[39m) at number.jl:85\n\u001b[0m  ndims(\u001b[91m::Base.Iterators.ProductIterator\u001b[39m) at iterators.jl:978\n\u001b[0m  ...",
      "",
      "Stacktrace:",
      " [1] _typed_hvncat(::Type{String}, ::Tuple{Int64, Int64, Int64}, ::Bool, ::String, ::Vararg{String})",
      "   @ Base .\\abstractarray.jl:2224",
      " [2] _hvncat(::Tuple{Int64, Int64, Int64}, ::Bool, ::String, ::Vararg{String})",
      "   @ Base .\\abstractarray.jl:2106",
      " [3] hvncat(::Tuple{Int64, Int64, Int64}, ::Bool, ::String, ::Vararg{String})",
      "   @ Base .\\abstractarray.jl:2102",
      " [4] top-level scope",
      "   @ In[15]:1",
      " [5] eval",
      "   @ .\\boot.jl:369 [inlined]",
      " [6] include_string(mapexpr::typeof(REPL.softscope), mod::Module, code::String, filename::String)",
      "   @ Base .\\loading.jl:1110"
     ]
    }
   ],
   "source": [
    "b = [\n",
    "    \"a\" \"b\"\n",
    "    \"c\" \"d\"\n",
    "    ;;;\n",
    "    \"e\" \"f\"\n",
    "    \"g\" \"h\"\n",
    "]"
   ]
  },
  {
   "cell_type": "code",
   "execution_count": 16,
   "id": "2e2633ab-94a9-4c07-84a6-0028b33ca64b",
   "metadata": {},
   "outputs": [
    {
     "data": {
      "text/plain": [
       "2×2×2 Array{String, 3}:\n",
       "[:, :, 1] =\n",
       " \"a\"  \"b\"\n",
       " \"c\"  \"d\"\n",
       "\n",
       "[:, :, 2] =\n",
       " \"e\"  \"f\"\n",
       " \"g\"  \"h\""
      ]
     },
     "execution_count": 16,
     "metadata": {},
     "output_type": "execute_result"
    }
   ],
   "source": [
    "Base.ndims(x::AbstractString) = 0\n",
    "\n",
    "b = [\n",
    "    \"a\" \"b\"\n",
    "    \"c\" \"d\"\n",
    "    ;;;\n",
    "    \"e\" \"f\"\n",
    "    \"g\" \"h\"\n",
    "]"
   ]
  },
  {
   "cell_type": "code",
   "execution_count": 17,
   "id": "37f601d8-a4f6-4392-a64c-03fc918f1378",
   "metadata": {},
   "outputs": [
    {
     "data": {
      "text/plain": [
       "2×2×2 Array{Any, 3}:\n",
       "[:, :, 1] =\n",
       " 1     2.0\n",
       "  \"3\"   '4'\n",
       "\n",
       "[:, :, 2] =\n",
       " Int64    nothing\n",
       " missing  sin"
      ]
     },
     "execution_count": 17,
     "metadata": {},
     "output_type": "execute_result"
    }
   ],
   "source": [
    "c = [\n",
    "    1       2.0\n",
    "    \"3\"     '4'\n",
    "    ;;;\n",
    "    Int64   nothing\n",
    "    missing sin\n",
    "]"
   ]
  },
  {
   "cell_type": "code",
   "execution_count": null,
   "id": "7cc96ecb-9c53-463e-bab1-90d1e69a9c58",
   "metadata": {},
   "outputs": [],
   "source": []
  }
 ],
 "metadata": {
  "jupytext": {
   "formats": "ipynb,md"
  },
  "kernelspec": {
   "display_name": "Julia 1.7.0-DEV",
   "language": "julia",
   "name": "julia-1.7"
  },
  "language_info": {
   "file_extension": ".jl",
   "mimetype": "application/julia",
   "name": "julia",
   "version": "1.7.0"
  }
 },
 "nbformat": 4,
 "nbformat_minor": 5
}
