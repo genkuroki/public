{
 "cells": [
  {
   "cell_type": "code",
   "execution_count": 1,
   "id": "0b5e524f-fd43-4a51-bde4-860cfb3c8ea7",
   "metadata": {},
   "outputs": [],
   "source": [
    "using MetaUtils"
   ]
  },
  {
   "cell_type": "code",
   "execution_count": 2,
   "id": "cece2c15-2a39-421d-8810-19249433ea19",
   "metadata": {},
   "outputs": [
    {
     "data": {
      "text/plain": [
       "Any"
      ]
     },
     "execution_count": 2,
     "metadata": {},
     "output_type": "execute_result"
    }
   ],
   "source": [
    "where where where"
   ]
  },
  {
   "cell_type": "code",
   "execution_count": 3,
   "id": "0fbf3eb0-8b78-4836-a9a0-9283df807bd1",
   "metadata": {},
   "outputs": [
    {
     "name": "stdout",
     "output_type": "stream",
     "text": [
      "Expr(:where)\n",
      "├─ :where\n",
      "└─ :where\n"
     ]
    }
   ],
   "source": [
    "@show_tree where where where"
   ]
  },
  {
   "cell_type": "code",
   "execution_count": 4,
   "id": "f46a54ad-afe9-422a-9629-fab5f0f755a7",
   "metadata": {},
   "outputs": [
    {
     "name": "stdout",
     "output_type": "stream",
     "text": [
      "Expr(:where)\n",
      "├─ Expr(:where)\n",
      "│  ├─ :where\n",
      "│  └─ :where\n",
      "└─ :where\n"
     ]
    }
   ],
   "source": [
    "@show_tree where where where where where"
   ]
  },
  {
   "cell_type": "code",
   "execution_count": 5,
   "id": "a7e019ac-1bff-4e86-83e5-fdf0ca32e89e",
   "metadata": {},
   "outputs": [
    {
     "name": "stdout",
     "output_type": "stream",
     "text": [
      "Expr(:where)\n",
      "├─ Expr(:where)\n",
      "│  ├─ Expr(:where)\n",
      "│  │  ├─ :where\n",
      "│  │  └─ :where\n",
      "│  └─ :where\n",
      "└─ :where\n"
     ]
    }
   ],
   "source": [
    "@show_tree where where where where where where where"
   ]
  },
  {
   "cell_type": "code",
   "execution_count": 6,
   "id": "07778b16-0f4d-4f80-a4fd-d9f8323aaa2d",
   "metadata": {},
   "outputs": [
    {
     "name": "stdout",
     "output_type": "stream",
     "text": [
      "Expr(:(=))\n",
      "├─ :f\n",
      "└─ Expr(:(=))\n",
      "   ├─ Expr(:call)\n",
      "   │  └─ Expr(:tuple)\n",
      "   └─ Expr(:block)\n",
      "      └─ Expr(:tuple)\n"
     ]
    }
   ],
   "source": [
    "@show_tree f = (()() = ())"
   ]
  },
  {
   "cell_type": "code",
   "execution_count": 7,
   "id": "3728975f-8f35-4153-a2c9-3a821ee58262",
   "metadata": {},
   "outputs": [
    {
     "data": {
      "text/plain": [
       "#s28 (generic function with 1 method)"
      ]
     },
     "execution_count": 7,
     "metadata": {},
     "output_type": "execute_result"
    }
   ],
   "source": [
    "f = (()() = ())"
   ]
  },
  {
   "cell_type": "code",
   "execution_count": 8,
   "id": "43d38d53-dfa5-4343-a301-8d2caae09ce5",
   "metadata": {},
   "outputs": [
    {
     "data": {
      "text/plain": [
       "()"
      ]
     },
     "execution_count": 8,
     "metadata": {},
     "output_type": "execute_result"
    }
   ],
   "source": [
    "f()"
   ]
  },
  {
   "cell_type": "code",
   "execution_count": null,
   "id": "dba83b8b-fc11-4c2a-a863-39ccfdbe0e1e",
   "metadata": {},
   "outputs": [],
   "source": []
  }
 ],
 "metadata": {
  "kernelspec": {
   "display_name": "Julia 1.7.0-DEV",
   "language": "julia",
   "name": "julia-1.7"
  },
  "language_info": {
   "file_extension": ".jl",
   "mimetype": "application/julia",
   "name": "julia",
   "version": "1.7.0"
  }
 },
 "nbformat": 4,
 "nbformat_minor": 5
}
