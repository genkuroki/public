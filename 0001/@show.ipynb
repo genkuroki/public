{
 "cells": [
  {
   "cell_type": "code",
   "execution_count": 1,
   "id": "4da9c04e-e797-4850-81d7-9bb5ec6f1659",
   "metadata": {},
   "outputs": [
    {
     "data": {
      "text/plain": [
       "6.283185307179586"
      ]
     },
     "execution_count": 1,
     "metadata": {},
     "output_type": "execute_result"
    }
   ],
   "source": [
    "y = 2π"
   ]
  },
  {
   "cell_type": "code",
   "execution_count": 2,
   "id": "bdc85ed1-9356-4758-bae5-a549e611d435",
   "metadata": {},
   "outputs": [
    {
     "name": "stdout",
     "output_type": "stream",
     "text": [
      "y = 6.283185307179586\n"
     ]
    },
    {
     "data": {
      "text/plain": [
       "6.283185307179586"
      ]
     },
     "execution_count": 2,
     "metadata": {},
     "output_type": "execute_result"
    }
   ],
   "source": [
    "@show y"
   ]
  },
  {
   "cell_type": "code",
   "execution_count": 3,
   "id": "ff4f0617-9772-4a22-be39-78af290afef6",
   "metadata": {},
   "outputs": [
    {
     "data": {
      "text/html": [
       "var\"@show\"(__source__::<b>LineNumberNode</b>, __module__::<b>Module</b>, exs...) in Base at <a href=\"https://github.com/JuliaLang/julia/tree/db8d09609ccd0e99c480a9c6180a29e776359441/base/show.jl#L1036\" target=\"_blank\">show.jl:1036</a>"
      ],
      "text/plain": [
       "var\"@show\"(__source__::LineNumberNode, __module__::Module, exs...) in Base at show.jl:1036"
      ]
     },
     "execution_count": 3,
     "metadata": {},
     "output_type": "execute_result"
    }
   ],
   "source": [
    "@which @show y"
   ]
  },
  {
   "cell_type": "code",
   "execution_count": 4,
   "id": "eb7acac2-3c62-4c9e-824a-5f1892d5000e",
   "metadata": {},
   "outputs": [
    {
     "data": {
      "text/plain": [
       "@my_show (macro with 1 method)"
      ]
     },
     "execution_count": 4,
     "metadata": {},
     "output_type": "execute_result"
    }
   ],
   "source": [
    "macro my_show(args...)\n",
    "    A = [:(println($(string(x)), \" = \", repr($(esc(x))))) for x in args]\n",
    "    quote\n",
    "        $(A...)\n",
    "    end\n",
    "end"
   ]
  },
  {
   "cell_type": "code",
   "execution_count": 5,
   "id": "58bd6663-05b4-41cb-95dd-77de08417acd",
   "metadata": {},
   "outputs": [
    {
     "name": "stdout",
     "output_type": "stream",
     "text": [
      "y = 6.283185307179586\n"
     ]
    }
   ],
   "source": [
    "@my_show y"
   ]
  },
  {
   "cell_type": "code",
   "execution_count": 6,
   "id": "7743485f-ea1c-47f0-b51d-0db409c0a24a",
   "metadata": {},
   "outputs": [
    {
     "data": {
      "text/plain": [
       "\"foo\""
      ]
     },
     "execution_count": 6,
     "metadata": {},
     "output_type": "execute_result"
    }
   ],
   "source": [
    "x = \"foo\""
   ]
  },
  {
   "cell_type": "code",
   "execution_count": 7,
   "id": "6ee8f890-b9ee-48ba-bcb1-cdc077f49100",
   "metadata": {},
   "outputs": [
    {
     "name": "stdout",
     "output_type": "stream",
     "text": [
      "x = \"foo\"\n",
      "y = 6.283185307179586\n"
     ]
    }
   ],
   "source": [
    "@show x y;"
   ]
  },
  {
   "cell_type": "code",
   "execution_count": 8,
   "id": "424b8fcb-3e10-41af-90db-b81fc10f13cf",
   "metadata": {},
   "outputs": [
    {
     "name": "stdout",
     "output_type": "stream",
     "text": [
      "x = \"foo\"\n",
      "y = 6.283185307179586\n"
     ]
    }
   ],
   "source": [
    "@my_show x y"
   ]
  },
  {
   "cell_type": "code",
   "execution_count": 9,
   "id": "b15b1d24-5538-4e35-bd46-76d1087aab9e",
   "metadata": {},
   "outputs": [
    {
     "name": "stdout",
     "output_type": "stream",
     "text": [
      "sinpi(1 / 6) = 0.5\n"
     ]
    }
   ],
   "source": [
    "@show sinpi(1/6);"
   ]
  },
  {
   "cell_type": "code",
   "execution_count": 10,
   "id": "0928c9f2-b6ca-4388-933a-361a3a3c32cd",
   "metadata": {},
   "outputs": [
    {
     "name": "stdout",
     "output_type": "stream",
     "text": [
      "sinpi(1 / 6) = 0.5\n"
     ]
    }
   ],
   "source": [
    "@my_show sinpi(1/6)"
   ]
  },
  {
   "cell_type": "code",
   "execution_count": 11,
   "id": "e120b7ca-cb5c-41f1-ac29-c68bc050aaab",
   "metadata": {},
   "outputs": [
    {
     "name": "stdout",
     "output_type": "stream",
     "text": [
      "a = 1\n",
      "b = 2.0\n",
      "c = \"3\"\n"
     ]
    }
   ],
   "source": [
    "a, b, c = 1, 2.0, \"3\"\n",
    "@show a b c;"
   ]
  },
  {
   "cell_type": "code",
   "execution_count": 12,
   "id": "7dd98c26-ba9f-46a5-9739-75a4d3b5f4a2",
   "metadata": {},
   "outputs": [
    {
     "data": {
      "text/plain": [
       "(a = 1, b = 2.0, c = \"3\")"
      ]
     },
     "execution_count": 12,
     "metadata": {},
     "output_type": "execute_result"
    }
   ],
   "source": [
    "x = (a = 1, b = 2.0, c = \"3\")"
   ]
  },
  {
   "cell_type": "code",
   "execution_count": 13,
   "id": "3560aa3a-e79f-4235-aabc-1ab5ef0eb478",
   "metadata": {},
   "outputs": [
    {
     "data": {
      "text/plain": [
       "NamedTuple{(:a, :b, :c), Tuple{Int64, Float64, String}}"
      ]
     },
     "execution_count": 13,
     "metadata": {},
     "output_type": "execute_result"
    }
   ],
   "source": [
    "typeof(x)"
   ]
  },
  {
   "cell_type": "code",
   "execution_count": 14,
   "id": "ca2b9c2e-3752-4b36-8bf5-9aa288420ae2",
   "metadata": {},
   "outputs": [
    {
     "data": {
      "text/plain": [
       "myshow (generic function with 1 method)"
      ]
     },
     "execution_count": 14,
     "metadata": {},
     "output_type": "execute_result"
    }
   ],
   "source": [
    "function myshow(x::NamedTuple{names}) where names\n",
    "    for name in names\n",
    "        println(string(name), \" = \", repr(getproperty(x, name)))\n",
    "    end\n",
    "end"
   ]
  },
  {
   "cell_type": "code",
   "execution_count": 15,
   "id": "b3877514-ab24-4772-aa15-b5491686b310",
   "metadata": {},
   "outputs": [
    {
     "name": "stdout",
     "output_type": "stream",
     "text": [
      "a = 1\n",
      "b = 2.0\n",
      "c = \"3\"\n"
     ]
    }
   ],
   "source": [
    "myshow(x)"
   ]
  },
  {
   "cell_type": "code",
   "execution_count": null,
   "id": "8ffe3e1a-8d57-4628-9e83-ac3b71ef6a62",
   "metadata": {},
   "outputs": [],
   "source": []
  }
 ],
 "metadata": {
  "jupytext": {
   "formats": "ipynb,md"
  },
  "kernelspec": {
   "display_name": "Julia 1.7.0-DEV",
   "language": "julia",
   "name": "julia-1.7"
  },
  "language_info": {
   "file_extension": ".jl",
   "mimetype": "application/julia",
   "name": "julia",
   "version": "1.7.0"
  }
 },
 "nbformat": 4,
 "nbformat_minor": 5
}
