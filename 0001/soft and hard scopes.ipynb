{
 "cells": [
  {
   "cell_type": "code",
   "execution_count": 1,
   "id": "624fd086-f6f9-42cf-97dc-f6320e538e07",
   "metadata": {},
   "outputs": [
    {
     "name": "stdout",
     "output_type": "stream",
     "text": [
      "s = 3025\n"
     ]
    }
   ],
   "source": [
    "# soft scope in REPL, Jupyter, etc.\n",
    "\n",
    "n = 10\n",
    "s = 0\n",
    "for k in 1:n\n",
    "    s += k^3\n",
    "end\n",
    "@show s;"
   ]
  },
  {
   "cell_type": "code",
   "execution_count": 2,
   "id": "74034fd5-16a6-4238-8d5c-373e77841abc",
   "metadata": {},
   "outputs": [
    {
     "ename": "LoadError",
     "evalue": "UndefVarError: s not defined",
     "output_type": "error",
     "traceback": [
      "UndefVarError: s not defined",
      "",
      "Stacktrace:",
      " [1] top-level scope",
      "   @ .\\In[2]:8",
      " [2] eval",
      "   @ .\\boot.jl:369 [inlined]",
      " [3] include_string(mapexpr::typeof(REPL.softscope), mod::Module, code::String, filename::String)",
      "   @ Base .\\loading.jl:1110"
     ]
    }
   ],
   "source": [
    "# hard scope\n",
    "\n",
    "module O1\n",
    "\n",
    "n = 10\n",
    "s = 0\n",
    "for k in 1:n\n",
    "    s += k^3\n",
    "end\n",
    "@show s\n",
    "\n",
    "end;"
   ]
  },
  {
   "cell_type": "code",
   "execution_count": 3,
   "id": "825b4005-6154-4839-bcbb-e2587bd88a1f",
   "metadata": {},
   "outputs": [
    {
     "name": "stdout",
     "output_type": "stream",
     "text": [
      "s = 3025\n"
     ]
    }
   ],
   "source": [
    "# hard scope\n",
    "\n",
    "module O2\n",
    "\n",
    "n = 10\n",
    "s = 0\n",
    "for k in 1:n\n",
    "    global s += k^3\n",
    "end\n",
    "@show s\n",
    "\n",
    "end;"
   ]
  },
  {
   "cell_type": "code",
   "execution_count": 4,
   "id": "9bb5f5d1-418c-4ba6-bbff-ef5376c4953a",
   "metadata": {},
   "outputs": [
    {
     "name": "stdout",
     "output_type": "stream",
     "text": [
      "O3.f(10) = 3025\n"
     ]
    }
   ],
   "source": [
    "# hard scope\n",
    "\n",
    "module O3\n",
    "\n",
    "function f(n)\n",
    "    s = 0\n",
    "    for k in 1:n\n",
    "        s += k^3\n",
    "    end\n",
    "    s\n",
    "end\n",
    "\n",
    "end\n",
    "\n",
    "@show O3.f(10);"
   ]
  },
  {
   "cell_type": "code",
   "execution_count": 5,
   "id": "dfe72704-fc4f-4cfc-9881-bb133f176439",
   "metadata": {},
   "outputs": [
    {
     "name": "stdout",
     "output_type": "stream",
     "text": [
      "s = 3025\n"
     ]
    }
   ],
   "source": [
    "# hard scope\n",
    "\n",
    "module O4\n",
    "\n",
    "let\n",
    "    n = 10\n",
    "    s = 0\n",
    "    for k in 1:n\n",
    "        s += k^3\n",
    "    end\n",
    "    @show s\n",
    "end\n",
    "\n",
    "end;"
   ]
  },
  {
   "cell_type": "code",
   "execution_count": 6,
   "id": "1ad3f769-a8f4-47d2-ae2f-e9c9867c6b9b",
   "metadata": {},
   "outputs": [
    {
     "name": "stdout",
     "output_type": "stream",
     "text": [
      "outside of let block:\n"
     ]
    },
    {
     "ename": "LoadError",
     "evalue": "UndefVarError: s not defined",
     "output_type": "error",
     "traceback": [
      "UndefVarError: s not defined",
      "",
      "Stacktrace:",
      " [1] top-level scope",
      "   @ show.jl:1040",
      " [2] eval",
      "   @ .\\boot.jl:369 [inlined]",
      " [3] include_string(mapexpr::typeof(REPL.softscope), mod::Module, code::String, filename::String)",
      "   @ Base .\\loading.jl:1110"
     ]
    }
   ],
   "source": [
    "# hard scope\n",
    "\n",
    "module O5\n",
    "\n",
    "let\n",
    "    n = 10\n",
    "    s = 0\n",
    "    for k in 1:n\n",
    "        s += k^3\n",
    "    end\n",
    "    s\n",
    "end\n",
    "\n",
    "print(\"outside of let block:\\n\")\n",
    "@show s\n",
    "\n",
    "end;"
   ]
  },
  {
   "cell_type": "code",
   "execution_count": 7,
   "id": "c1c7c18c-50a3-4b9f-938e-3f397fc1a5de",
   "metadata": {},
   "outputs": [
    {
     "name": "stdout",
     "output_type": "stream",
     "text": [
      "\n",
      "outside of let block:\n",
      "s = 3025\n"
     ]
    }
   ],
   "source": [
    "# hard scope\n",
    "\n",
    "module O6\n",
    "\n",
    "s = let\n",
    "    n = 10\n",
    "    s = 0\n",
    "    for k in 1:n\n",
    "        s += k^3\n",
    "    end\n",
    "    s\n",
    "end\n",
    "\n",
    "print(\"\\noutside of let block:\\n\")\n",
    "@show s\n",
    "\n",
    "end;"
   ]
  },
  {
   "cell_type": "code",
   "execution_count": null,
   "id": "24351d79-8324-4ce4-84da-e26bf84fd833",
   "metadata": {},
   "outputs": [],
   "source": []
  }
 ],
 "metadata": {
  "jupytext": {
   "formats": "ipynb,md"
  },
  "kernelspec": {
   "display_name": "Julia 1.7.0-DEV",
   "language": "julia",
   "name": "julia-1.7"
  },
  "language_info": {
   "file_extension": ".jl",
   "mimetype": "application/julia",
   "name": "julia",
   "version": "1.7.0"
  }
 },
 "nbformat": 4,
 "nbformat_minor": 5
}
