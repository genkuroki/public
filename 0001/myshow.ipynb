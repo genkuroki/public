{
 "cells": [
  {
   "cell_type": "code",
   "execution_count": 1,
   "id": "011385dc-61aa-49bd-a33b-38a5bf2be5fd",
   "metadata": {},
   "outputs": [
    {
     "name": "stdout",
     "output_type": "stream",
     "text": [
      "a = 1\n",
      "b = 2.0\n",
      "c = \"3\"\n"
     ]
    }
   ],
   "source": [
    "a, b, c = 1, 2.0, \"3\"\n",
    "@show a b c;"
   ]
  },
  {
   "cell_type": "code",
   "execution_count": 2,
   "id": "9eb91b7b-c3ab-4198-8ea0-528f5cafe36f",
   "metadata": {},
   "outputs": [
    {
     "data": {
      "text/plain": [
       "(a = 1, b = 2.0, c = \"3\")"
      ]
     },
     "execution_count": 2,
     "metadata": {},
     "output_type": "execute_result"
    }
   ],
   "source": [
    "x = (a = 1, b = 2.0, c = \"3\")"
   ]
  },
  {
   "cell_type": "code",
   "execution_count": 3,
   "id": "b8f81436-9435-4540-863b-56c0964f9c18",
   "metadata": {},
   "outputs": [
    {
     "data": {
      "text/plain": [
       "myshow (generic function with 1 method)"
      ]
     },
     "execution_count": 3,
     "metadata": {},
     "output_type": "execute_result"
    }
   ],
   "source": [
    "function myshow(x::NamedTuple{names}) where names\n",
    "    for name in names\n",
    "        println(string(name), \" = \", repr(getproperty(x, name)))\n",
    "    end\n",
    "end"
   ]
  },
  {
   "cell_type": "code",
   "execution_count": 4,
   "id": "7dc8b182-7380-4d2a-bfcc-4a66b6d3e652",
   "metadata": {},
   "outputs": [
    {
     "name": "stdout",
     "output_type": "stream",
     "text": [
      "a = 1\n",
      "b = 2.0\n",
      "c = \"3\"\n"
     ]
    }
   ],
   "source": [
    "myshow(x)"
   ]
  },
  {
   "cell_type": "code",
   "execution_count": null,
   "id": "76174f33-f8fc-44ca-bbaf-32874496b045",
   "metadata": {},
   "outputs": [],
   "source": []
  }
 ],
 "metadata": {
  "jupytext": {
   "formats": "ipynb,md"
  },
  "kernelspec": {
   "display_name": "Julia 1.7.0-DEV",
   "language": "julia",
   "name": "julia-1.7"
  },
  "language_info": {
   "file_extension": ".jl",
   "mimetype": "application/julia",
   "name": "julia",
   "version": "1.7.0"
  }
 },
 "nbformat": 4,
 "nbformat_minor": 5
}
