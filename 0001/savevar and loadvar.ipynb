{
 "cells": [
  {
   "cell_type": "code",
   "execution_count": 1,
   "id": "28748e9b-040a-4a9d-81da-f77bac92dcf6",
   "metadata": {},
   "outputs": [
    {
     "data": {
      "text/plain": [
       "@loadvar (macro with 1 method)"
      ]
     },
     "execution_count": 1,
     "metadata": {},
     "output_type": "execute_result"
    }
   ],
   "source": [
    "savevar(fn, x) = write(fn, string(x))\n",
    "loadvar(fn) = read(fn, String) |> Meta.parse |> eval\n",
    "\n",
    "const dir_savevar = \"tmp\"\n",
    "fn_savevar(x::Symbol) = joinpath(dir_savevar, string(x) * \".txt\")\n",
    "macro savevar(x) :(savevar($(fn_savevar(x)), $(esc(x)))) end\n",
    "macro loadvar(x) :(loadvar($(fn_savevar(x)))) end"
   ]
  },
  {
   "cell_type": "code",
   "execution_count": 2,
   "id": "e537cfc2-f1a2-4621-87a9-34ee2e987b6b",
   "metadata": {},
   "outputs": [
    {
     "data": {
      "text/plain": [
       "4×3×2 Array{ComplexF64, 3}:\n",
       "[:, :, 1] =\n",
       "  0.470394-1.24199im    0.324307-0.830998im    -1.36385-0.819458im\n",
       "  0.914595+0.606709im   -1.74485+0.321525im   -0.900143+0.16891im\n",
       " -0.351528-0.321163im  -0.475401+1.19043im    -0.222386+1.1035im\n",
       " -0.650031-0.329523im  -0.444669-0.18812im   -0.0703274+0.151396im\n",
       "\n",
       "[:, :, 2] =\n",
       "  0.792622+0.393121im   0.645209-0.292201im   -0.646126+0.564621im\n",
       "   1.76298+0.6363im    -0.501296-0.44821im     -1.30471+0.177596im\n",
       " -0.466601-0.678718im  -0.207731-0.288013im   -0.800805+0.110567im\n",
       " -0.742362+0.11632im   0.0321849+0.0284991im  -0.150832+0.143167im"
      ]
     },
     "execution_count": 2,
     "metadata": {},
     "output_type": "execute_result"
    }
   ],
   "source": [
    "A = randn(ComplexF64, 4, 3, 2)"
   ]
  },
  {
   "cell_type": "code",
   "execution_count": 3,
   "id": "bda031fa-c871-4d1f-b410-c087d274a3eb",
   "metadata": {},
   "outputs": [
    {
     "data": {
      "text/plain": [
       "1050"
      ]
     },
     "execution_count": 3,
     "metadata": {},
     "output_type": "execute_result"
    }
   ],
   "source": [
    "@savevar A"
   ]
  },
  {
   "cell_type": "code",
   "execution_count": 4,
   "id": "45421e27-b39a-4da3-a913-4bb8b8622c4f",
   "metadata": {},
   "outputs": [
    {
     "data": {
      "text/plain": [
       "\"[0.47039412510045076 - 1.2419934861532163im 0.3243072987823107 - 0.8309975807594685im -1.3638475764512887 - 0.8194582797818907im; 0.9145947919205442 + 0.6067086873497549im -1.7448458886247802 + 0.3215248826174964im -0.9001431857933212 + 0.16891044145304038im; -0.35152843\" ⋯ 509 bytes ⋯ \"im; -0.46660088149961854 - 0.6787180515152149im -0.2077312680964327 - 0.2880128053147268im -0.8008045230516498 + 0.11056709195986676im; -0.7423622433305336 + 0.11631967516827231im 0.032184936393026775 + 0.02849909452902963im -0.15083150814036517 + 0.14316696799492723im]\""
      ]
     },
     "execution_count": 4,
     "metadata": {},
     "output_type": "execute_result"
    }
   ],
   "source": [
    "read(\"tmp/A.txt\", String)"
   ]
  },
  {
   "cell_type": "code",
   "execution_count": 5,
   "id": "a15bace7-d717-46fa-aee4-265654e2b0ea",
   "metadata": {},
   "outputs": [
    {
     "data": {
      "text/plain": [
       "4×3×2 Array{ComplexF64, 3}:\n",
       "[:, :, 1] =\n",
       "  0.470394-1.24199im    0.324307-0.830998im    -1.36385-0.819458im\n",
       "  0.914595+0.606709im   -1.74485+0.321525im   -0.900143+0.16891im\n",
       " -0.351528-0.321163im  -0.475401+1.19043im    -0.222386+1.1035im\n",
       " -0.650031-0.329523im  -0.444669-0.18812im   -0.0703274+0.151396im\n",
       "\n",
       "[:, :, 2] =\n",
       "  0.792622+0.393121im   0.645209-0.292201im   -0.646126+0.564621im\n",
       "   1.76298+0.6363im    -0.501296-0.44821im     -1.30471+0.177596im\n",
       " -0.466601-0.678718im  -0.207731-0.288013im   -0.800805+0.110567im\n",
       " -0.742362+0.11632im   0.0321849+0.0284991im  -0.150832+0.143167im"
      ]
     },
     "execution_count": 5,
     "metadata": {},
     "output_type": "execute_result"
    }
   ],
   "source": [
    "A_load = @loadvar A"
   ]
  },
  {
   "cell_type": "code",
   "execution_count": 6,
   "id": "42f54459-a5bc-45b0-8f64-6a218b4219ee",
   "metadata": {},
   "outputs": [
    {
     "data": {
      "text/plain": [
       "true"
      ]
     },
     "execution_count": 6,
     "metadata": {},
     "output_type": "execute_result"
    }
   ],
   "source": [
    "A_load == A"
   ]
  },
  {
   "cell_type": "code",
   "execution_count": 7,
   "id": "a4393e1d-c5d4-41bf-b443-4cb53cc9fd5f",
   "metadata": {},
   "outputs": [
    {
     "data": {
      "text/plain": [
       "3-element Vector{String}:\n",
       " \"Foo\"\n",
       " \"Bar\"\n",
       " \"Baz\""
      ]
     },
     "execution_count": 7,
     "metadata": {},
     "output_type": "execute_result"
    }
   ],
   "source": [
    "B = [\"Foo\", \"Bar\", \"Baz\"]"
   ]
  },
  {
   "cell_type": "code",
   "execution_count": 8,
   "id": "cefee068-405e-4a36-a176-520f08e9bb65",
   "metadata": {},
   "outputs": [
    {
     "data": {
      "text/plain": [
       "21"
      ]
     },
     "execution_count": 8,
     "metadata": {},
     "output_type": "execute_result"
    }
   ],
   "source": [
    "@savevar B"
   ]
  },
  {
   "cell_type": "code",
   "execution_count": 9,
   "id": "67b4a505-513b-4ceb-b239-3f43f8e5d5c8",
   "metadata": {},
   "outputs": [
    {
     "data": {
      "text/plain": [
       "\"[\\\"Foo\\\", \\\"Bar\\\", \\\"Baz\\\"]\""
      ]
     },
     "execution_count": 9,
     "metadata": {},
     "output_type": "execute_result"
    }
   ],
   "source": [
    "read(\"tmp/B.txt\", String)"
   ]
  },
  {
   "cell_type": "code",
   "execution_count": 10,
   "id": "695629dc-b95c-44c4-b5da-39ccb20bc90e",
   "metadata": {},
   "outputs": [
    {
     "data": {
      "text/plain": [
       "3-element Vector{String}:\n",
       " \"Foo\"\n",
       " \"Bar\"\n",
       " \"Baz\""
      ]
     },
     "execution_count": 10,
     "metadata": {},
     "output_type": "execute_result"
    }
   ],
   "source": [
    "B_load = @loadvar B"
   ]
  },
  {
   "cell_type": "code",
   "execution_count": 11,
   "id": "e9fd6e4b-5a9a-42ef-9353-64cfa5b417af",
   "metadata": {},
   "outputs": [
    {
     "data": {
      "text/plain": [
       "true"
      ]
     },
     "execution_count": 11,
     "metadata": {},
     "output_type": "execute_result"
    }
   ],
   "source": [
    "B_load == B"
   ]
  },
  {
   "cell_type": "code",
   "execution_count": 12,
   "id": "2079c4b2-fbea-4eab-ac6f-83a23541c0c7",
   "metadata": {},
   "outputs": [
    {
     "data": {
      "text/plain": [
       "Dict{Symbol, Array} with 2 entries:\n",
       "  :A => [0.470394-1.24199im 0.324307-0.830998im -1.36385-0.819458im; 0.914595+0…\n",
       "  :B => [\"Foo\", \"Bar\", \"Baz\"]"
      ]
     },
     "execution_count": 12,
     "metadata": {},
     "output_type": "execute_result"
    }
   ],
   "source": [
    "D = Dict(:A => A, :B => B)"
   ]
  },
  {
   "cell_type": "code",
   "execution_count": 13,
   "id": "9d665b66-449f-4cf0-8aa8-c24f6c8e199d",
   "metadata": {},
   "outputs": [
    {
     "data": {
      "text/plain": [
       "1106"
      ]
     },
     "execution_count": 13,
     "metadata": {},
     "output_type": "execute_result"
    }
   ],
   "source": [
    "@savevar D"
   ]
  },
  {
   "cell_type": "code",
   "execution_count": 14,
   "id": "09813a8e-f3f9-4539-ae5f-cb1b26dde64d",
   "metadata": {},
   "outputs": [
    {
     "data": {
      "text/plain": [
       "\"Dict{Symbol, Array}(:A => [0.47039412510045076 - 1.2419934861532163im 0.3243072987823107 - 0.8309975807594685im -1.3638475764512887 - 0.8194582797818907im; 0.9145947919205442 + 0.6067086873497549im -1.7448458886247802 + 0.3215248826174964im -0.9001431857933212 + 0.168910\" ⋯ 565 bytes ⋯ \"787180515152149im -0.2077312680964327 - 0.2880128053147268im -0.8008045230516498 + 0.11056709195986676im; -0.7423622433305336 + 0.11631967516827231im 0.032184936393026775 + 0.02849909452902963im -0.15083150814036517 + 0.14316696799492723im], :B => [\\\"Foo\\\", \\\"Bar\\\", \\\"Baz\\\"])\""
      ]
     },
     "execution_count": 14,
     "metadata": {},
     "output_type": "execute_result"
    }
   ],
   "source": [
    "read(\"tmp/D.txt\", String)"
   ]
  },
  {
   "cell_type": "code",
   "execution_count": 15,
   "id": "8dd57510-df29-4ac9-9eab-0504b03630cc",
   "metadata": {},
   "outputs": [
    {
     "data": {
      "text/plain": [
       "Dict{Symbol, Array} with 2 entries:\n",
       "  :A => [0.470394-1.24199im 0.324307-0.830998im -1.36385-0.819458im; 0.914595+0…\n",
       "  :B => [\"Foo\", \"Bar\", \"Baz\"]"
      ]
     },
     "execution_count": 15,
     "metadata": {},
     "output_type": "execute_result"
    }
   ],
   "source": [
    "D_load = @loadvar D"
   ]
  },
  {
   "cell_type": "code",
   "execution_count": 16,
   "id": "6a4bbec8-6b46-426c-88a2-1ad3ccafb99e",
   "metadata": {},
   "outputs": [
    {
     "data": {
      "text/plain": [
       "true"
      ]
     },
     "execution_count": 16,
     "metadata": {},
     "output_type": "execute_result"
    }
   ],
   "source": [
    "D_load == D"
   ]
  },
  {
   "cell_type": "code",
   "execution_count": 17,
   "id": "465c8021-69c7-4018-a7cf-b1c073fb8de0",
   "metadata": {},
   "outputs": [
    {
     "data": {
      "text/plain": [
       "Main.O"
      ]
     },
     "execution_count": 17,
     "metadata": {},
     "output_type": "execute_result"
    }
   ],
   "source": [
    "module O\n",
    "struct Foo{A, B}\n",
    "    a::A\n",
    "    b::B\n",
    "end\n",
    "end"
   ]
  },
  {
   "cell_type": "code",
   "execution_count": 18,
   "id": "53c54353-cab9-4b61-a7fc-f6b5ae259236",
   "metadata": {},
   "outputs": [
    {
     "data": {
      "text/plain": [
       "Main.O.Foo{Array{ComplexF64, 3}, Vector{String}}([0.47039412510045076 - 1.2419934861532163im 0.3243072987823107 - 0.8309975807594685im -1.3638475764512887 - 0.8194582797818907im; 0.9145947919205442 + 0.6067086873497549im -1.7448458886247802 + 0.3215248826174964im -0.9001431857933212 + 0.16891044145304038im; -0.35152843214888707 - 0.321162529471987im -0.4754008894627203 + 1.1904335905287855im -0.2223859814167182 + 1.1035013877559368im; -0.6500312877094107 - 0.32952307728010527im -0.4446685914964552 - 0.18812023352357732im -0.0703274000059062 + 0.15139600612631415im;;; 0.7926220179396294 + 0.39312142258866656im 0.6452094907923738 - 0.2922011207632218im -0.6461256215618928 + 0.5646214999060991im; 1.7629783520333888 + 0.6363001059311436im -0.5012962007888065 - 0.4482097523427277im -1.3047095765227346 + 0.17759622692862034im; -0.46660088149961854 - 0.6787180515152149im -0.2077312680964327 - 0.2880128053147268im -0.8008045230516498 + 0.11056709195986676im; -0.7423622433305336 + 0.11631967516827231im 0.032184936393026775 + 0.02849909452902963im -0.15083150814036517 + 0.14316696799492723im], [\"Foo\", \"Bar\", \"Baz\"])"
      ]
     },
     "execution_count": 18,
     "metadata": {},
     "output_type": "execute_result"
    }
   ],
   "source": [
    "foo = O.Foo(A, B)"
   ]
  },
  {
   "cell_type": "code",
   "execution_count": 19,
   "id": "67f7aff5-4d45-4eb1-8455-3d2ddd4fa0fb",
   "metadata": {},
   "outputs": [
    {
     "data": {
      "text/plain": [
       "1123"
      ]
     },
     "execution_count": 19,
     "metadata": {},
     "output_type": "execute_result"
    }
   ],
   "source": [
    "@savevar foo"
   ]
  },
  {
   "cell_type": "code",
   "execution_count": 20,
   "id": "9f287236-8dde-4436-90f2-68a85527c086",
   "metadata": {},
   "outputs": [
    {
     "data": {
      "text/plain": [
       "\"Main.O.Foo{Array{ComplexF64, 3}, Vector{String}}([0.47039412510045076 - 1.2419934861532163im 0.3243072987823107 - 0.8309975807594685im -1.3638475764512887 - 0.8194582797818907im; 0.9145947919205442 + 0.6067086873497549im -1.7448458886247802 + 0.3215248826174964im -0.9001\" ⋯ 582 bytes ⋯ \" - 0.6787180515152149im -0.2077312680964327 - 0.2880128053147268im -0.8008045230516498 + 0.11056709195986676im; -0.7423622433305336 + 0.11631967516827231im 0.032184936393026775 + 0.02849909452902963im -0.15083150814036517 + 0.14316696799492723im], [\\\"Foo\\\", \\\"Bar\\\", \\\"Baz\\\"])\""
      ]
     },
     "execution_count": 20,
     "metadata": {},
     "output_type": "execute_result"
    }
   ],
   "source": [
    "read(\"tmp/foo.txt\", String)"
   ]
  },
  {
   "cell_type": "code",
   "execution_count": 21,
   "id": "d7aef901-a360-491a-8399-18fe242b28cb",
   "metadata": {},
   "outputs": [
    {
     "data": {
      "text/plain": [
       "Main.O.Foo{Array{ComplexF64, 3}, Vector{String}}([0.47039412510045076 - 1.2419934861532163im 0.3243072987823107 - 0.8309975807594685im -1.3638475764512887 - 0.8194582797818907im; 0.9145947919205442 + 0.6067086873497549im -1.7448458886247802 + 0.3215248826174964im -0.9001431857933212 + 0.16891044145304038im; -0.35152843214888707 - 0.321162529471987im -0.4754008894627203 + 1.1904335905287855im -0.2223859814167182 + 1.1035013877559368im; -0.6500312877094107 - 0.32952307728010527im -0.4446685914964552 - 0.18812023352357732im -0.0703274000059062 + 0.15139600612631415im;;; 0.7926220179396294 + 0.39312142258866656im 0.6452094907923738 - 0.2922011207632218im -0.6461256215618928 + 0.5646214999060991im; 1.7629783520333888 + 0.6363001059311436im -0.5012962007888065 - 0.4482097523427277im -1.3047095765227346 + 0.17759622692862034im; -0.46660088149961854 - 0.6787180515152149im -0.2077312680964327 - 0.2880128053147268im -0.8008045230516498 + 0.11056709195986676im; -0.7423622433305336 + 0.11631967516827231im 0.032184936393026775 + 0.02849909452902963im -0.15083150814036517 + 0.14316696799492723im], [\"Foo\", \"Bar\", \"Baz\"])"
      ]
     },
     "execution_count": 21,
     "metadata": {},
     "output_type": "execute_result"
    }
   ],
   "source": [
    "foo_load = @loadvar foo"
   ]
  },
  {
   "cell_type": "code",
   "execution_count": 22,
   "id": "37d1cb3a-1f4e-4126-b959-c56d3c1c193c",
   "metadata": {},
   "outputs": [
    {
     "data": {
      "text/plain": [
       "true"
      ]
     },
     "execution_count": 22,
     "metadata": {},
     "output_type": "execute_result"
    }
   ],
   "source": [
    "(foo_load.a, foo_load.b) == (foo.a, foo.b)"
   ]
  },
  {
   "cell_type": "code",
   "execution_count": null,
   "id": "00f838ed-2ffb-4d51-9bbe-4ca3487d47cd",
   "metadata": {},
   "outputs": [],
   "source": []
  }
 ],
 "metadata": {
  "jupytext": {
   "formats": "ipynb,md"
  },
  "kernelspec": {
   "display_name": "Julia 1.7.0-DEV",
   "language": "julia",
   "name": "julia-1.7"
  },
  "language_info": {
   "file_extension": ".jl",
   "mimetype": "application/julia",
   "name": "julia",
   "version": "1.7.0"
  }
 },
 "nbformat": 4,
 "nbformat_minor": 5
}
