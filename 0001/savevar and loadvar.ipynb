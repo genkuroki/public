{
 "cells": [
  {
   "cell_type": "code",
   "execution_count": 1,
   "id": "e20bbe26-ec92-47cf-82f7-6a47ae0dafa0",
   "metadata": {},
   "outputs": [
    {
     "data": {
      "text/plain": [
       "loadvar (generic function with 1 method)"
      ]
     },
     "execution_count": 1,
     "metadata": {},
     "output_type": "execute_result"
    }
   ],
   "source": [
    "savevar(fn, x) = write(fn, string(x))\n",
    "loadvar(fn) = read(fn, String) |> Meta.parse |> eval"
   ]
  },
  {
   "cell_type": "code",
   "execution_count": 2,
   "id": "600532aa-94d2-49d6-9fc6-091e920e21f4",
   "metadata": {},
   "outputs": [
    {
     "data": {
      "text/plain": [
       "4×3×2 Array{ComplexF64, 3}:\n",
       "[:, :, 1] =\n",
       "  0.0362951+0.721473im  0.0837136+0.394688im   0.825512-1.41153im\n",
       "   0.370305-0.282639im  -0.212329+0.713438im  -0.948288-0.66423im\n",
       " 0.00378931+0.804708im   0.138855+0.239906im    1.60772-0.0895067im\n",
       "  -0.339606+0.468061im  -0.436768-0.143496im   -1.54527+1.80814im\n",
       "\n",
       "[:, :, 2] =\n",
       " -0.207455+0.272931im    0.31445-0.445149im  0.0136171-1.89719im\n",
       "  0.738489-0.88716im    0.142878-1.1181im     0.544036+0.205605im\n",
       " -0.972507+1.23239im   -0.730273+0.660781im  -0.345665+0.197431im\n",
       "  -0.21103+0.767076im   -0.41309-0.869451im  -0.396777-0.0188116im"
      ]
     },
     "execution_count": 2,
     "metadata": {},
     "output_type": "execute_result"
    }
   ],
   "source": [
    "A = randn(ComplexF64, 4, 3, 2)"
   ]
  },
  {
   "cell_type": "code",
   "execution_count": 3,
   "id": "bda031fa-c871-4d1f-b410-c087d274a3eb",
   "metadata": {},
   "outputs": [
    {
     "data": {
      "text/plain": [
       "1049"
      ]
     },
     "execution_count": 3,
     "metadata": {},
     "output_type": "execute_result"
    }
   ],
   "source": [
    "savevar(\"tmp/A.txt\", A)"
   ]
  },
  {
   "cell_type": "code",
   "execution_count": 4,
   "id": "45421e27-b39a-4da3-a913-4bb8b8622c4f",
   "metadata": {},
   "outputs": [
    {
     "data": {
      "text/plain": [
       "\"[0.03629513214642978 + 0.7214732561208483im 0.08371355465181504 + 0.39468795761551956im 0.8255116799427007 - 1.411534139418578im; 0.37030479611095785 - 0.28263916307533404im -0.2123291731569978 + 0.7134384867868138im -0.9482880717326637 - 0.6642304489305854im; 0.00378930\" ⋯ 508 bytes ⋯ \"292im; -0.9725073828228493 + 1.2323930723733192im -0.7302732700063497 + 0.6607809770224146im -0.3456652244639833 + 0.19743079465439087im; -0.2110304977521085 + 0.7670761936407169im -0.41308972362962176 - 0.8694509938199181im -0.3967767365981693 - 0.018811645954688684im]\""
      ]
     },
     "execution_count": 4,
     "metadata": {},
     "output_type": "execute_result"
    }
   ],
   "source": [
    "read(\"tmp/A.txt\", String)"
   ]
  },
  {
   "cell_type": "code",
   "execution_count": 5,
   "id": "a15bace7-d717-46fa-aee4-265654e2b0ea",
   "metadata": {},
   "outputs": [
    {
     "data": {
      "text/plain": [
       "4×3×2 Array{ComplexF64, 3}:\n",
       "[:, :, 1] =\n",
       "  0.0362951+0.721473im  0.0837136+0.394688im   0.825512-1.41153im\n",
       "   0.370305-0.282639im  -0.212329+0.713438im  -0.948288-0.66423im\n",
       " 0.00378931+0.804708im   0.138855+0.239906im    1.60772-0.0895067im\n",
       "  -0.339606+0.468061im  -0.436768-0.143496im   -1.54527+1.80814im\n",
       "\n",
       "[:, :, 2] =\n",
       " -0.207455+0.272931im    0.31445-0.445149im  0.0136171-1.89719im\n",
       "  0.738489-0.88716im    0.142878-1.1181im     0.544036+0.205605im\n",
       " -0.972507+1.23239im   -0.730273+0.660781im  -0.345665+0.197431im\n",
       "  -0.21103+0.767076im   -0.41309-0.869451im  -0.396777-0.0188116im"
      ]
     },
     "execution_count": 5,
     "metadata": {},
     "output_type": "execute_result"
    }
   ],
   "source": [
    "A_load = loadvar(\"tmp/A.txt\")"
   ]
  },
  {
   "cell_type": "code",
   "execution_count": 6,
   "id": "42f54459-a5bc-45b0-8f64-6a218b4219ee",
   "metadata": {},
   "outputs": [
    {
     "data": {
      "text/plain": [
       "true"
      ]
     },
     "execution_count": 6,
     "metadata": {},
     "output_type": "execute_result"
    }
   ],
   "source": [
    "A_load == A"
   ]
  },
  {
   "cell_type": "code",
   "execution_count": 7,
   "id": "a4393e1d-c5d4-41bf-b443-4cb53cc9fd5f",
   "metadata": {},
   "outputs": [
    {
     "data": {
      "text/plain": [
       "3-element Vector{String}:\n",
       " \"Foo\"\n",
       " \"Bar\"\n",
       " \"Baz\""
      ]
     },
     "execution_count": 7,
     "metadata": {},
     "output_type": "execute_result"
    }
   ],
   "source": [
    "B = [\"Foo\", \"Bar\", \"Baz\"]"
   ]
  },
  {
   "cell_type": "code",
   "execution_count": 8,
   "id": "cefee068-405e-4a36-a176-520f08e9bb65",
   "metadata": {},
   "outputs": [
    {
     "data": {
      "text/plain": [
       "21"
      ]
     },
     "execution_count": 8,
     "metadata": {},
     "output_type": "execute_result"
    }
   ],
   "source": [
    "savevar(\"tmp/B.txt\", B)"
   ]
  },
  {
   "cell_type": "code",
   "execution_count": 9,
   "id": "67b4a505-513b-4ceb-b239-3f43f8e5d5c8",
   "metadata": {},
   "outputs": [
    {
     "data": {
      "text/plain": [
       "\"[\\\"Foo\\\", \\\"Bar\\\", \\\"Baz\\\"]\""
      ]
     },
     "execution_count": 9,
     "metadata": {},
     "output_type": "execute_result"
    }
   ],
   "source": [
    "read(\"tmp/B.txt\", String)"
   ]
  },
  {
   "cell_type": "code",
   "execution_count": 10,
   "id": "695629dc-b95c-44c4-b5da-39ccb20bc90e",
   "metadata": {},
   "outputs": [
    {
     "data": {
      "text/plain": [
       "3-element Vector{String}:\n",
       " \"Foo\"\n",
       " \"Bar\"\n",
       " \"Baz\""
      ]
     },
     "execution_count": 10,
     "metadata": {},
     "output_type": "execute_result"
    }
   ],
   "source": [
    "B_load = loadvar(\"tmp/B.txt\")"
   ]
  },
  {
   "cell_type": "code",
   "execution_count": 11,
   "id": "e9fd6e4b-5a9a-42ef-9353-64cfa5b417af",
   "metadata": {},
   "outputs": [
    {
     "data": {
      "text/plain": [
       "true"
      ]
     },
     "execution_count": 11,
     "metadata": {},
     "output_type": "execute_result"
    }
   ],
   "source": [
    "B_load == B"
   ]
  },
  {
   "cell_type": "code",
   "execution_count": 12,
   "id": "2079c4b2-fbea-4eab-ac6f-83a23541c0c7",
   "metadata": {},
   "outputs": [
    {
     "data": {
      "text/plain": [
       "Dict{Symbol, Array} with 2 entries:\n",
       "  :A => [0.0362951+0.721473im 0.0837136+0.394688im 0.825512-1.41153im; 0.370305…\n",
       "  :B => [\"Foo\", \"Bar\", \"Baz\"]"
      ]
     },
     "execution_count": 12,
     "metadata": {},
     "output_type": "execute_result"
    }
   ],
   "source": [
    "D = Dict(:A => A, :B => B)"
   ]
  },
  {
   "cell_type": "code",
   "execution_count": 13,
   "id": "9d665b66-449f-4cf0-8aa8-c24f6c8e199d",
   "metadata": {},
   "outputs": [
    {
     "data": {
      "text/plain": [
       "1105"
      ]
     },
     "execution_count": 13,
     "metadata": {},
     "output_type": "execute_result"
    }
   ],
   "source": [
    "savevar(\"tmp/D.txt\", D)"
   ]
  },
  {
   "cell_type": "code",
   "execution_count": 14,
   "id": "09813a8e-f3f9-4539-ae5f-cb1b26dde64d",
   "metadata": {},
   "outputs": [
    {
     "data": {
      "text/plain": [
       "\"Dict{Symbol, Array}(:A => [0.03629513214642978 + 0.7214732561208483im 0.08371355465181504 + 0.39468795761551956im 0.8255116799427007 - 1.411534139418578im; 0.37030479611095785 - 0.28263916307533404im -0.2123291731569978 + 0.7134384867868138im -0.9482880717326637 - 0.6642\" ⋯ 564 bytes ⋯ \".2323930723733192im -0.7302732700063497 + 0.6607809770224146im -0.3456652244639833 + 0.19743079465439087im; -0.2110304977521085 + 0.7670761936407169im -0.41308972362962176 - 0.8694509938199181im -0.3967767365981693 - 0.018811645954688684im], :B => [\\\"Foo\\\", \\\"Bar\\\", \\\"Baz\\\"])\""
      ]
     },
     "execution_count": 14,
     "metadata": {},
     "output_type": "execute_result"
    }
   ],
   "source": [
    "read(\"tmp/D.txt\", String)"
   ]
  },
  {
   "cell_type": "code",
   "execution_count": 15,
   "id": "8dd57510-df29-4ac9-9eab-0504b03630cc",
   "metadata": {},
   "outputs": [
    {
     "data": {
      "text/plain": [
       "Dict{Symbol, Array} with 2 entries:\n",
       "  :A => [0.0362951+0.721473im 0.0837136+0.394688im 0.825512-1.41153im; 0.370305…\n",
       "  :B => [\"Foo\", \"Bar\", \"Baz\"]"
      ]
     },
     "execution_count": 15,
     "metadata": {},
     "output_type": "execute_result"
    }
   ],
   "source": [
    "D_load = loadvar(\"tmp/D.txt\")"
   ]
  },
  {
   "cell_type": "code",
   "execution_count": 16,
   "id": "6a4bbec8-6b46-426c-88a2-1ad3ccafb99e",
   "metadata": {},
   "outputs": [
    {
     "data": {
      "text/plain": [
       "true"
      ]
     },
     "execution_count": 16,
     "metadata": {},
     "output_type": "execute_result"
    }
   ],
   "source": [
    "D_load == D"
   ]
  },
  {
   "cell_type": "code",
   "execution_count": 17,
   "id": "465c8021-69c7-4018-a7cf-b1c073fb8de0",
   "metadata": {},
   "outputs": [
    {
     "data": {
      "text/plain": [
       "Main.O"
      ]
     },
     "execution_count": 17,
     "metadata": {},
     "output_type": "execute_result"
    }
   ],
   "source": [
    "module O\n",
    "struct Foo{A, B}\n",
    "    a::A\n",
    "    b::B\n",
    "end\n",
    "end"
   ]
  },
  {
   "cell_type": "code",
   "execution_count": 18,
   "id": "53c54353-cab9-4b61-a7fc-f6b5ae259236",
   "metadata": {},
   "outputs": [
    {
     "data": {
      "text/plain": [
       "Main.O.Foo{Array{ComplexF64, 3}, Vector{String}}([0.03629513214642978 + 0.7214732561208483im 0.08371355465181504 + 0.39468795761551956im 0.8255116799427007 - 1.411534139418578im; 0.37030479611095785 - 0.28263916307533404im -0.2123291731569978 + 0.7134384867868138im -0.9482880717326637 - 0.6642304489305854im; 0.0037893062964498773 + 0.8047078956204896im 0.13885534229280388 + 0.23990577877845826im 1.6077215336452866 - 0.08950669805809473im; -0.3396060871893301 + 0.4680605808371213im -0.4367680538509532 - 0.14349610351963074im -1.5452678726069151 + 1.8081375054930435im;;; -0.20745500431340289 + 0.27293133965547994im 0.3144500351426793 - 0.4451493437639256im 0.01361713843613112 - 1.8971857410744895im; 0.7384892674464592 - 0.8871601718961595im 0.14287797559065318 - 1.1181031306303615im 0.5440359643714784 + 0.2056051070328292im; -0.9725073828228493 + 1.2323930723733192im -0.7302732700063497 + 0.6607809770224146im -0.3456652244639833 + 0.19743079465439087im; -0.2110304977521085 + 0.7670761936407169im -0.41308972362962176 - 0.8694509938199181im -0.3967767365981693 - 0.018811645954688684im], [\"Foo\", \"Bar\", \"Baz\"])"
      ]
     },
     "execution_count": 18,
     "metadata": {},
     "output_type": "execute_result"
    }
   ],
   "source": [
    "foo = O.Foo(A, B)"
   ]
  },
  {
   "cell_type": "code",
   "execution_count": 19,
   "id": "67f7aff5-4d45-4eb1-8455-3d2ddd4fa0fb",
   "metadata": {},
   "outputs": [
    {
     "data": {
      "text/plain": [
       "1122"
      ]
     },
     "execution_count": 19,
     "metadata": {},
     "output_type": "execute_result"
    }
   ],
   "source": [
    "savevar(\"tmp/foo.txt\", foo)"
   ]
  },
  {
   "cell_type": "code",
   "execution_count": 20,
   "id": "9f287236-8dde-4436-90f2-68a85527c086",
   "metadata": {},
   "outputs": [
    {
     "data": {
      "text/plain": [
       "\"Main.O.Foo{Array{ComplexF64, 3}, Vector{String}}([0.03629513214642978 + 0.7214732561208483im 0.08371355465181504 + 0.39468795761551956im 0.8255116799427007 - 1.411534139418578im; 0.37030479611095785 - 0.28263916307533404im -0.2123291731569978 + 0.7134384867868138im -0.94\" ⋯ 581 bytes ⋯ \"93 + 1.2323930723733192im -0.7302732700063497 + 0.6607809770224146im -0.3456652244639833 + 0.19743079465439087im; -0.2110304977521085 + 0.7670761936407169im -0.41308972362962176 - 0.8694509938199181im -0.3967767365981693 - 0.018811645954688684im], [\\\"Foo\\\", \\\"Bar\\\", \\\"Baz\\\"])\""
      ]
     },
     "execution_count": 20,
     "metadata": {},
     "output_type": "execute_result"
    }
   ],
   "source": [
    "read(\"tmp/foo.txt\", String)"
   ]
  },
  {
   "cell_type": "code",
   "execution_count": 21,
   "id": "d7aef901-a360-491a-8399-18fe242b28cb",
   "metadata": {},
   "outputs": [
    {
     "data": {
      "text/plain": [
       "Main.O.Foo{Array{ComplexF64, 3}, Vector{String}}([0.03629513214642978 + 0.7214732561208483im 0.08371355465181504 + 0.39468795761551956im 0.8255116799427007 - 1.411534139418578im; 0.37030479611095785 - 0.28263916307533404im -0.2123291731569978 + 0.7134384867868138im -0.9482880717326637 - 0.6642304489305854im; 0.0037893062964498773 + 0.8047078956204896im 0.13885534229280388 + 0.23990577877845826im 1.6077215336452866 - 0.08950669805809473im; -0.3396060871893301 + 0.4680605808371213im -0.4367680538509532 - 0.14349610351963074im -1.5452678726069151 + 1.8081375054930435im;;; -0.20745500431340289 + 0.27293133965547994im 0.3144500351426793 - 0.4451493437639256im 0.01361713843613112 - 1.8971857410744895im; 0.7384892674464592 - 0.8871601718961595im 0.14287797559065318 - 1.1181031306303615im 0.5440359643714784 + 0.2056051070328292im; -0.9725073828228493 + 1.2323930723733192im -0.7302732700063497 + 0.6607809770224146im -0.3456652244639833 + 0.19743079465439087im; -0.2110304977521085 + 0.7670761936407169im -0.41308972362962176 - 0.8694509938199181im -0.3967767365981693 - 0.018811645954688684im], [\"Foo\", \"Bar\", \"Baz\"])"
      ]
     },
     "execution_count": 21,
     "metadata": {},
     "output_type": "execute_result"
    }
   ],
   "source": [
    "foo_load = loadvar(\"tmp/foo.txt\")"
   ]
  },
  {
   "cell_type": "code",
   "execution_count": 22,
   "id": "37d1cb3a-1f4e-4126-b959-c56d3c1c193c",
   "metadata": {},
   "outputs": [
    {
     "data": {
      "text/plain": [
       "true"
      ]
     },
     "execution_count": 22,
     "metadata": {},
     "output_type": "execute_result"
    }
   ],
   "source": [
    "(foo_load.a, foo_load.b) == (foo.a, foo.b)"
   ]
  },
  {
   "cell_type": "code",
   "execution_count": null,
   "id": "30ba8006-a84b-4c59-9371-82fa1ba08b99",
   "metadata": {},
   "outputs": [],
   "source": []
  }
 ],
 "metadata": {
  "jupytext": {
   "formats": "ipynb,md"
  },
  "kernelspec": {
   "display_name": "Julia 1.7.0-DEV",
   "language": "julia",
   "name": "julia-1.7"
  },
  "language_info": {
   "file_extension": ".jl",
   "mimetype": "application/julia",
   "name": "julia",
   "version": "1.7.0"
  }
 },
 "nbformat": 4,
 "nbformat_minor": 5
}
