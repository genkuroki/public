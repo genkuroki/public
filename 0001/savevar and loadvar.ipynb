{
 "cells": [
  {
   "cell_type": "code",
   "execution_count": 1,
   "id": "28748e9b-040a-4a9d-81da-f77bac92dcf6",
   "metadata": {},
   "outputs": [
    {
     "data": {
      "text/plain": [
       "@loadvar"
      ]
     },
     "execution_count": 1,
     "metadata": {},
     "output_type": "execute_result"
    }
   ],
   "source": [
    "\"\"\"\n",
    "    savevar(fn, x)\n",
    "\n",
    "saves the value of `x` to the file `fn`, where `fn` is the filename string of the file.\n",
    "\"\"\"\n",
    "savevar(fn, x) = write(fn, string(x))\n",
    "\n",
    "\"\"\"\n",
    "    loadvar(fn)\n",
    "\n",
    "loads the file `fn` (the filename string of the file) and `Meta.parse |> eval`.\n",
    "\"\"\"\n",
    "loadvar(fn) = read(fn, String) |> Meta.parse |> eval\n",
    "\n",
    "\"\"\"\n",
    "    dir_savevar\n",
    "\n",
    "is the default directory to which `@savevar` saves the values of variables.\n",
    "\"\"\"\n",
    "const dir_savevar = \"tmp\"\n",
    "\n",
    "\"\"\"\n",
    "    fn_savevar(x::Symbol)\n",
    "\n",
    "is the filename string to which `@savevar` saves the value of a variable.\n",
    "\"\"\"\n",
    "fn_savevar(x::Symbol) = joinpath(dir_savevar, string(x) * \".txt\")\n",
    "\n",
    "\"\"\"\n",
    "    @savevar(args...)\n",
    "\n",
    "saves the variables in args to the corresponding textfiles.\n",
    "\n",
    "Example: `@savevar A B C` saves the variables `A`, `B`, `C` to textfiles. \n",
    "\"\"\"\n",
    "macro savevar(args...)\n",
    "    A = [:(savevar($(fn_savevar(x)), $(esc(x)))) for x in args]\n",
    "    quote $(A...); nothing end\n",
    "end\n",
    "\n",
    "\"\"\"\n",
    "    @loadvar(args...)\n",
    "\n",
    "loads the values from the textfiles corresponding to `args`.\n",
    "If `length(args)` is greater than 1, then it returns the tuple of the values.\n",
    "\n",
    "Example: `a, b, c = @loadvar A B C` loads \n",
    "the values of `A`, `B`, `C` in textfiles to the variables `a`, `b`, `c`.\n",
    "\"\"\"\n",
    "macro loadvar(args...)\n",
    "    if length(args) == 1\n",
    "        x = args[1]\n",
    "        :(loadvar($(fn_savevar(x))))\n",
    "    else\n",
    "        A = [:(loadvar($(fn_savevar(x)))) for x in args]\n",
    "        :(($(A...),))\n",
    "    end\n",
    "end"
   ]
  },
  {
   "cell_type": "code",
   "execution_count": 2,
   "id": "e537cfc2-f1a2-4621-87a9-34ee2e987b6b",
   "metadata": {},
   "outputs": [
    {
     "data": {
      "text/plain": [
       "4×3×2 Array{ComplexF64, 3}:\n",
       "[:, :, 1] =\n",
       "  -0.15665-0.152185im  -0.00850843-0.117858im    0.991609+0.509163im\n",
       " -0.501556-0.395643im    -0.670763-0.303195im     1.10098+0.773024im\n",
       "  0.816394-0.594176im   -0.0993448+0.869365im    -0.19295-0.0251947im\n",
       " -0.176706+0.434546im    -0.681203-0.354963im  -0.0460242+0.202243im\n",
       "\n",
       "[:, :, 2] =\n",
       " -0.76602+0.280803im  -1.19998+1.13841im    0.415317+1.23584im\n",
       " -1.54378+0.581553im  -0.31096+0.219272im   -1.12813+0.258349im\n",
       " -0.38217+0.521425im   -1.5734+0.787018im  0.0892293-1.38347im\n",
       "  0.84882-0.290673im  0.021213-0.556017im  -0.585268+1.49758im"
      ]
     },
     "execution_count": 2,
     "metadata": {},
     "output_type": "execute_result"
    }
   ],
   "source": [
    "A = randn(ComplexF64, 4, 3, 2)"
   ]
  },
  {
   "cell_type": "code",
   "execution_count": 3,
   "id": "bda031fa-c871-4d1f-b410-c087d274a3eb",
   "metadata": {},
   "outputs": [],
   "source": [
    "@savevar A"
   ]
  },
  {
   "cell_type": "code",
   "execution_count": 4,
   "id": "45421e27-b39a-4da3-a913-4bb8b8622c4f",
   "metadata": {},
   "outputs": [
    {
     "data": {
      "text/plain": [
       "\"[-0.156650130215756 - 0.1521846045225801im -0.008508430031920991 - 0.11785832622730098im 0.9916085123898436 + 0.509163013160152im; -0.5015560579775442 - 0.39564252140474393im -0.6707627426813939 - 0.3031945722518282im 1.1009798923326821 + 0.7730243442095321im; 0.81639406\" ⋯ 505 bytes ⋯ \"4825026067im; -0.3821696633462519 + 0.5214246426767306im -1.5734002156414655 + 0.7870181178379331im 0.08922932667106047 - 1.3834685293567983im; 0.8488197258219703 - 0.2906733494342182im 0.02121301175192206 - 0.5560174926909549im -0.5852677181203029 + 1.49757517493166im]\""
      ]
     },
     "execution_count": 4,
     "metadata": {},
     "output_type": "execute_result"
    }
   ],
   "source": [
    "read(\"tmp/A.txt\", String)"
   ]
  },
  {
   "cell_type": "code",
   "execution_count": 5,
   "id": "a15bace7-d717-46fa-aee4-265654e2b0ea",
   "metadata": {},
   "outputs": [
    {
     "data": {
      "text/plain": [
       "4×3×2 Array{ComplexF64, 3}:\n",
       "[:, :, 1] =\n",
       "  -0.15665-0.152185im  -0.00850843-0.117858im    0.991609+0.509163im\n",
       " -0.501556-0.395643im    -0.670763-0.303195im     1.10098+0.773024im\n",
       "  0.816394-0.594176im   -0.0993448+0.869365im    -0.19295-0.0251947im\n",
       " -0.176706+0.434546im    -0.681203-0.354963im  -0.0460242+0.202243im\n",
       "\n",
       "[:, :, 2] =\n",
       " -0.76602+0.280803im  -1.19998+1.13841im    0.415317+1.23584im\n",
       " -1.54378+0.581553im  -0.31096+0.219272im   -1.12813+0.258349im\n",
       " -0.38217+0.521425im   -1.5734+0.787018im  0.0892293-1.38347im\n",
       "  0.84882-0.290673im  0.021213-0.556017im  -0.585268+1.49758im"
      ]
     },
     "execution_count": 5,
     "metadata": {},
     "output_type": "execute_result"
    }
   ],
   "source": [
    "A_load = @loadvar A"
   ]
  },
  {
   "cell_type": "code",
   "execution_count": 6,
   "id": "42f54459-a5bc-45b0-8f64-6a218b4219ee",
   "metadata": {},
   "outputs": [
    {
     "data": {
      "text/plain": [
       "true"
      ]
     },
     "execution_count": 6,
     "metadata": {},
     "output_type": "execute_result"
    }
   ],
   "source": [
    "A_load == A"
   ]
  },
  {
   "cell_type": "code",
   "execution_count": 7,
   "id": "a4393e1d-c5d4-41bf-b443-4cb53cc9fd5f",
   "metadata": {},
   "outputs": [
    {
     "data": {
      "text/plain": [
       "3-element Vector{String}:\n",
       " \"Foo\"\n",
       " \"Bar\"\n",
       " \"Baz\""
      ]
     },
     "execution_count": 7,
     "metadata": {},
     "output_type": "execute_result"
    }
   ],
   "source": [
    "B = [\"Foo\", \"Bar\", \"Baz\"]"
   ]
  },
  {
   "cell_type": "code",
   "execution_count": 8,
   "id": "cefee068-405e-4a36-a176-520f08e9bb65",
   "metadata": {},
   "outputs": [],
   "source": [
    "@savevar B"
   ]
  },
  {
   "cell_type": "code",
   "execution_count": 9,
   "id": "67b4a505-513b-4ceb-b239-3f43f8e5d5c8",
   "metadata": {},
   "outputs": [
    {
     "data": {
      "text/plain": [
       "\"[\\\"Foo\\\", \\\"Bar\\\", \\\"Baz\\\"]\""
      ]
     },
     "execution_count": 9,
     "metadata": {},
     "output_type": "execute_result"
    }
   ],
   "source": [
    "read(\"tmp/B.txt\", String)"
   ]
  },
  {
   "cell_type": "code",
   "execution_count": 10,
   "id": "695629dc-b95c-44c4-b5da-39ccb20bc90e",
   "metadata": {},
   "outputs": [
    {
     "data": {
      "text/plain": [
       "3-element Vector{String}:\n",
       " \"Foo\"\n",
       " \"Bar\"\n",
       " \"Baz\""
      ]
     },
     "execution_count": 10,
     "metadata": {},
     "output_type": "execute_result"
    }
   ],
   "source": [
    "B_load = @loadvar B"
   ]
  },
  {
   "cell_type": "code",
   "execution_count": 11,
   "id": "e9fd6e4b-5a9a-42ef-9353-64cfa5b417af",
   "metadata": {},
   "outputs": [
    {
     "data": {
      "text/plain": [
       "true"
      ]
     },
     "execution_count": 11,
     "metadata": {},
     "output_type": "execute_result"
    }
   ],
   "source": [
    "B_load == B"
   ]
  },
  {
   "cell_type": "code",
   "execution_count": 12,
   "id": "2079c4b2-fbea-4eab-ac6f-83a23541c0c7",
   "metadata": {},
   "outputs": [
    {
     "data": {
      "text/plain": [
       "Dict{Symbol, Array} with 2 entries:\n",
       "  :A => [-0.15665-0.152185im -0.00850843-0.117858im 0.991609+0.509163im; -0.501…\n",
       "  :B => [\"Foo\", \"Bar\", \"Baz\"]"
      ]
     },
     "execution_count": 12,
     "metadata": {},
     "output_type": "execute_result"
    }
   ],
   "source": [
    "D = Dict(:A => A, :B => B)"
   ]
  },
  {
   "cell_type": "code",
   "execution_count": 13,
   "id": "9d665b66-449f-4cf0-8aa8-c24f6c8e199d",
   "metadata": {},
   "outputs": [],
   "source": [
    "@savevar D"
   ]
  },
  {
   "cell_type": "code",
   "execution_count": 14,
   "id": "09813a8e-f3f9-4539-ae5f-cb1b26dde64d",
   "metadata": {},
   "outputs": [
    {
     "data": {
      "text/plain": [
       "\"Dict{Symbol, Array}(:A => [-0.156650130215756 - 0.1521846045225801im -0.008508430031920991 - 0.11785832622730098im 0.9916085123898436 + 0.509163013160152im; -0.5015560579775442 - 0.39564252140474393im -0.6707627426813939 - 0.3031945722518282im 1.1009798923326821 + 0.7730\" ⋯ 561 bytes ⋯ \"519 + 0.5214246426767306im -1.5734002156414655 + 0.7870181178379331im 0.08922932667106047 - 1.3834685293567983im; 0.8488197258219703 - 0.2906733494342182im 0.02121301175192206 - 0.5560174926909549im -0.5852677181203029 + 1.49757517493166im], :B => [\\\"Foo\\\", \\\"Bar\\\", \\\"Baz\\\"])\""
      ]
     },
     "execution_count": 14,
     "metadata": {},
     "output_type": "execute_result"
    }
   ],
   "source": [
    "read(\"tmp/D.txt\", String)"
   ]
  },
  {
   "cell_type": "code",
   "execution_count": 15,
   "id": "8dd57510-df29-4ac9-9eab-0504b03630cc",
   "metadata": {},
   "outputs": [
    {
     "data": {
      "text/plain": [
       "Dict{Symbol, Array} with 2 entries:\n",
       "  :A => [-0.15665-0.152185im -0.00850843-0.117858im 0.991609+0.509163im; -0.501…\n",
       "  :B => [\"Foo\", \"Bar\", \"Baz\"]"
      ]
     },
     "execution_count": 15,
     "metadata": {},
     "output_type": "execute_result"
    }
   ],
   "source": [
    "D_load = @loadvar D"
   ]
  },
  {
   "cell_type": "code",
   "execution_count": 16,
   "id": "6a4bbec8-6b46-426c-88a2-1ad3ccafb99e",
   "metadata": {},
   "outputs": [
    {
     "data": {
      "text/plain": [
       "true"
      ]
     },
     "execution_count": 16,
     "metadata": {},
     "output_type": "execute_result"
    }
   ],
   "source": [
    "D_load == D"
   ]
  },
  {
   "cell_type": "code",
   "execution_count": 17,
   "id": "465c8021-69c7-4018-a7cf-b1c073fb8de0",
   "metadata": {},
   "outputs": [
    {
     "data": {
      "text/plain": [
       "Main.O"
      ]
     },
     "execution_count": 17,
     "metadata": {},
     "output_type": "execute_result"
    }
   ],
   "source": [
    "module O\n",
    "struct Foo{A, B}\n",
    "    a::A\n",
    "    b::B\n",
    "end\n",
    "end"
   ]
  },
  {
   "cell_type": "code",
   "execution_count": 18,
   "id": "53c54353-cab9-4b61-a7fc-f6b5ae259236",
   "metadata": {},
   "outputs": [
    {
     "data": {
      "text/plain": [
       "Main.O.Foo{Array{ComplexF64, 3}, Vector{String}}([-0.156650130215756 - 0.1521846045225801im -0.008508430031920991 - 0.11785832622730098im 0.9916085123898436 + 0.509163013160152im; -0.5015560579775442 - 0.39564252140474393im -0.6707627426813939 - 0.3031945722518282im 1.1009798923326821 + 0.7730243442095321im; 0.8163940609702098 - 0.5941760728150809im -0.09934475697119184 + 0.8693647834487719im -0.19295033361398556 - 0.025194656996883568im; -0.17670641658760577 + 0.43454612004574245im -0.6812032779955188 - 0.35496302265308993im -0.0460242059900602 + 0.20224306598412567im;;; -0.7660201209718887 + 0.28080346633410824im -1.1999750338478339 + 1.13841192823082im 0.4153169662062253 + 1.2358439307770157im; -1.543778900140576 + 0.5815531889718983im -0.31095993516434856 + 0.21927228054858208im -1.1281253146424577 + 0.25834894825026067im; -0.3821696633462519 + 0.5214246426767306im -1.5734002156414655 + 0.7870181178379331im 0.08922932667106047 - 1.3834685293567983im; 0.8488197258219703 - 0.2906733494342182im 0.02121301175192206 - 0.5560174926909549im -0.5852677181203029 + 1.49757517493166im], [\"Foo\", \"Bar\", \"Baz\"])"
      ]
     },
     "execution_count": 18,
     "metadata": {},
     "output_type": "execute_result"
    }
   ],
   "source": [
    "foo = O.Foo(A, B)"
   ]
  },
  {
   "cell_type": "code",
   "execution_count": 19,
   "id": "67f7aff5-4d45-4eb1-8455-3d2ddd4fa0fb",
   "metadata": {},
   "outputs": [],
   "source": [
    "@savevar foo"
   ]
  },
  {
   "cell_type": "code",
   "execution_count": 20,
   "id": "9f287236-8dde-4436-90f2-68a85527c086",
   "metadata": {},
   "outputs": [
    {
     "data": {
      "text/plain": [
       "\"Main.O.Foo{Array{ComplexF64, 3}, Vector{String}}([-0.156650130215756 - 0.1521846045225801im -0.008508430031920991 - 0.11785832622730098im 0.9916085123898436 + 0.509163013160152im; -0.5015560579775442 - 0.39564252140474393im -0.6707627426813939 - 0.3031945722518282im 1.10\" ⋯ 578 bytes ⋯ \"633462519 + 0.5214246426767306im -1.5734002156414655 + 0.7870181178379331im 0.08922932667106047 - 1.3834685293567983im; 0.8488197258219703 - 0.2906733494342182im 0.02121301175192206 - 0.5560174926909549im -0.5852677181203029 + 1.49757517493166im], [\\\"Foo\\\", \\\"Bar\\\", \\\"Baz\\\"])\""
      ]
     },
     "execution_count": 20,
     "metadata": {},
     "output_type": "execute_result"
    }
   ],
   "source": [
    "read(\"tmp/foo.txt\", String)"
   ]
  },
  {
   "cell_type": "code",
   "execution_count": 21,
   "id": "d7aef901-a360-491a-8399-18fe242b28cb",
   "metadata": {},
   "outputs": [
    {
     "data": {
      "text/plain": [
       "Main.O.Foo{Array{ComplexF64, 3}, Vector{String}}([-0.156650130215756 - 0.1521846045225801im -0.008508430031920991 - 0.11785832622730098im 0.9916085123898436 + 0.509163013160152im; -0.5015560579775442 - 0.39564252140474393im -0.6707627426813939 - 0.3031945722518282im 1.1009798923326821 + 0.7730243442095321im; 0.8163940609702098 - 0.5941760728150809im -0.09934475697119184 + 0.8693647834487719im -0.19295033361398556 - 0.025194656996883568im; -0.17670641658760577 + 0.43454612004574245im -0.6812032779955188 - 0.35496302265308993im -0.0460242059900602 + 0.20224306598412567im;;; -0.7660201209718887 + 0.28080346633410824im -1.1999750338478339 + 1.13841192823082im 0.4153169662062253 + 1.2358439307770157im; -1.543778900140576 + 0.5815531889718983im -0.31095993516434856 + 0.21927228054858208im -1.1281253146424577 + 0.25834894825026067im; -0.3821696633462519 + 0.5214246426767306im -1.5734002156414655 + 0.7870181178379331im 0.08922932667106047 - 1.3834685293567983im; 0.8488197258219703 - 0.2906733494342182im 0.02121301175192206 - 0.5560174926909549im -0.5852677181203029 + 1.49757517493166im], [\"Foo\", \"Bar\", \"Baz\"])"
      ]
     },
     "execution_count": 21,
     "metadata": {},
     "output_type": "execute_result"
    }
   ],
   "source": [
    "foo_load = @loadvar foo"
   ]
  },
  {
   "cell_type": "code",
   "execution_count": 22,
   "id": "37d1cb3a-1f4e-4126-b959-c56d3c1c193c",
   "metadata": {},
   "outputs": [
    {
     "data": {
      "text/plain": [
       "true"
      ]
     },
     "execution_count": 22,
     "metadata": {},
     "output_type": "execute_result"
    }
   ],
   "source": [
    "(foo_load.a, foo_load.b) == (foo.a, foo.b)"
   ]
  },
  {
   "cell_type": "code",
   "execution_count": 23,
   "id": "00f838ed-2ffb-4d51-9bbe-4ca3487d47cd",
   "metadata": {},
   "outputs": [
    {
     "data": {
      "text/plain": [
       "(-1.2309629892045488, -1.4670886856334742, 1.0166064458442237)"
      ]
     },
     "execution_count": 23,
     "metadata": {},
     "output_type": "execute_result"
    }
   ],
   "source": [
    "x, y, z = randn(3)\n",
    "x, y, z"
   ]
  },
  {
   "cell_type": "code",
   "execution_count": 24,
   "id": "91ebe1fb-3020-4073-9b46-ebe0ab5ea607",
   "metadata": {},
   "outputs": [],
   "source": [
    "@savevar x y z"
   ]
  },
  {
   "cell_type": "code",
   "execution_count": 25,
   "id": "429be5bb-bb2b-4d39-bef5-d5a9ba924ef2",
   "metadata": {},
   "outputs": [
    {
     "data": {
      "text/plain": [
       "(-1.2309629892045488, -1.4670886856334742, 1.0166064458442237)"
      ]
     },
     "execution_count": 25,
     "metadata": {},
     "output_type": "execute_result"
    }
   ],
   "source": [
    "X, Y, Z = @loadvar x y z\n",
    "X, Y, Z"
   ]
  },
  {
   "cell_type": "code",
   "execution_count": 26,
   "id": "dd5193f9-57db-466f-8ec9-36904971466d",
   "metadata": {},
   "outputs": [
    {
     "data": {
      "text/plain": [
       "true"
      ]
     },
     "execution_count": 26,
     "metadata": {},
     "output_type": "execute_result"
    }
   ],
   "source": [
    "(X, Y, Z) == (x, y, z)"
   ]
  },
  {
   "cell_type": "code",
   "execution_count": null,
   "id": "9ce11fed-d02a-4ef5-8bd7-a1f295262c57",
   "metadata": {},
   "outputs": [],
   "source": []
  }
 ],
 "metadata": {
  "jupytext": {
   "formats": "ipynb,md"
  },
  "kernelspec": {
   "display_name": "Julia 1.7.0-DEV",
   "language": "julia",
   "name": "julia-1.7"
  },
  "language_info": {
   "file_extension": ".jl",
   "mimetype": "application/julia",
   "name": "julia",
   "version": "1.7.0"
  }
 },
 "nbformat": 4,
 "nbformat_minor": 5
}
