{
 "cells": [
  {
   "cell_type": "code",
   "execution_count": 1,
   "id": "84e987b4-9a8d-44bc-bcb3-c5d330bdbebd",
   "metadata": {},
   "outputs": [],
   "source": [
    "struct Foo end"
   ]
  },
  {
   "cell_type": "code",
   "execution_count": 2,
   "id": "b354f91c-d20d-474f-8050-3b68e4168de1",
   "metadata": {
    "tags": []
   },
   "outputs": [],
   "source": [
    "Base.getproperty(::Type{Foo}, f::Symbol) = println(\"Foo's property: \", f)"
   ]
  },
  {
   "cell_type": "code",
   "execution_count": 3,
   "id": "46f01e01-d03a-4abb-b61e-033ba6fdaaf4",
   "metadata": {},
   "outputs": [
    {
     "name": "stdout",
     "output_type": "stream",
     "text": [
      "Foo's property: qoo\n"
     ]
    }
   ],
   "source": [
    "Foo.qoo"
   ]
  },
  {
   "cell_type": "code",
   "execution_count": 4,
   "id": "80d15c7e-b659-47cf-a7b6-48f2a1c4447c",
   "metadata": {},
   "outputs": [
    {
     "ename": "LoadError",
     "evalue": "type TypeofBottom has no field qoo",
     "output_type": "error",
     "traceback": [
      "type TypeofBottom has no field qoo",
      "",
      "Stacktrace:",
      " [1] getproperty(x::Type, f::Symbol)",
      "   @ Base .\\Base.jl:28",
      " [2] top-level scope",
      "   @ In[4]:1",
      " [3] eval",
      "   @ .\\boot.jl:369 [inlined]",
      " [4] include_string(mapexpr::typeof(REPL.softscope), mod::Module, code::String, filename::String)",
      "   @ Base .\\loading.jl:1110"
     ]
    }
   ],
   "source": [
    "Union{}.qoo"
   ]
  },
  {
   "cell_type": "code",
   "execution_count": 5,
   "id": "332751cd-8081-48cd-b041-6233ecedccf1",
   "metadata": {},
   "outputs": [],
   "source": [
    "struct Bar end"
   ]
  },
  {
   "cell_type": "code",
   "execution_count": 6,
   "id": "65e98fa5-9eb3-4da7-b598-e9f655ef578d",
   "metadata": {},
   "outputs": [],
   "source": [
    "Base.getproperty(::Type{T}, f::Symbol) where T<:Bar = println(\"Bar's property: \", f)"
   ]
  },
  {
   "cell_type": "code",
   "execution_count": 7,
   "id": "f9f482b9-3e7b-4ec8-b00f-7f4d7613ef6d",
   "metadata": {},
   "outputs": [
    {
     "name": "stdout",
     "output_type": "stream",
     "text": [
      "Bar's property: qoo\n"
     ]
    }
   ],
   "source": [
    "Bar.qoo"
   ]
  },
  {
   "cell_type": "code",
   "execution_count": 8,
   "id": "481d4b53-bff3-495e-8d27-740a12d3fd24",
   "metadata": {},
   "outputs": [
    {
     "name": "stdout",
     "output_type": "stream",
     "text": [
      "Bar's property: qoo\n"
     ]
    }
   ],
   "source": [
    "Union{}.qoo"
   ]
  },
  {
   "cell_type": "code",
   "execution_count": 9,
   "id": "534a8f0f-5400-4490-95b9-5179611127d5",
   "metadata": {},
   "outputs": [
    {
     "data": {
      "text/plain": [
       "true"
      ]
     },
     "execution_count": 9,
     "metadata": {},
     "output_type": "execute_result"
    }
   ],
   "source": [
    "Union{} <: Bar"
   ]
  },
  {
   "cell_type": "markdown",
   "id": "79ee3ddf-08fc-48a1-88f1-9b708acb22c9",
   "metadata": {},
   "source": [
    "__type piracy!__\n",
    "\n",
    "See https://github.com/JuliaLang/julia/issues/39534 and https://github.com/JuliaLang/julia/pull/39573"
   ]
  },
  {
   "cell_type": "code",
   "execution_count": null,
   "id": "1d456962-e293-43ba-865c-6a18260b4438",
   "metadata": {},
   "outputs": [],
   "source": []
  }
 ],
 "metadata": {
  "jupytext": {
   "formats": "ipynb,md"
  },
  "kernelspec": {
   "display_name": "Julia 1.7.0-DEV",
   "language": "julia",
   "name": "julia-1.7"
  },
  "language_info": {
   "file_extension": ".jl",
   "mimetype": "application/julia",
   "name": "julia",
   "version": "1.7.0"
  }
 },
 "nbformat": 4,
 "nbformat_minor": 5
}
