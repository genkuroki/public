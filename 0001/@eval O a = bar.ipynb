{
 "cells": [
  {
   "cell_type": "code",
   "execution_count": 1,
   "id": "dc280b85-638a-4fe6-8f7d-c20bc7785f3d",
   "metadata": {},
   "outputs": [
    {
     "data": {
      "text/plain": [
       "Main.O"
      ]
     },
     "execution_count": 1,
     "metadata": {},
     "output_type": "execute_result"
    }
   ],
   "source": [
    "module O\n",
    "\n",
    "a = \"foo\"\n",
    "\n",
    "end"
   ]
  },
  {
   "cell_type": "code",
   "execution_count": 2,
   "id": "ecaffb7d-72d3-4593-add9-f9eb2e39a756",
   "metadata": {},
   "outputs": [
    {
     "data": {
      "text/plain": [
       "\"foo\""
      ]
     },
     "execution_count": 2,
     "metadata": {},
     "output_type": "execute_result"
    }
   ],
   "source": [
    "O.a"
   ]
  },
  {
   "cell_type": "code",
   "execution_count": 3,
   "id": "d74f671b-3bec-4e0e-85a9-cc768158afd3",
   "metadata": {},
   "outputs": [
    {
     "ename": "LoadError",
     "evalue": "cannot assign variables in other modules",
     "output_type": "error",
     "traceback": [
      "cannot assign variables in other modules",
      "",
      "Stacktrace:",
      " [1] setproperty!(x::Module, f::Symbol, v::String)",
      "   @ Base .\\Base.jl:27",
      " [2] top-level scope",
      "   @ In[3]:1",
      " [3] eval",
      "   @ .\\boot.jl:369 [inlined]",
      " [4] include_string(mapexpr::typeof(REPL.softscope), mod::Module, code::String, filename::String)",
      "   @ Base .\\loading.jl:1110"
     ]
    }
   ],
   "source": [
    "O.a = \"bar\""
   ]
  },
  {
   "cell_type": "code",
   "execution_count": 4,
   "id": "3da6ecad-44ca-49e0-9e2b-f7c831141f17",
   "metadata": {},
   "outputs": [
    {
     "data": {
      "text/plain": [
       "\"bar\""
      ]
     },
     "execution_count": 4,
     "metadata": {},
     "output_type": "execute_result"
    }
   ],
   "source": [
    "@eval O a = \"bar\"\n",
    "O.a"
   ]
  },
  {
   "cell_type": "code",
   "execution_count": 5,
   "id": "575e2b47-9697-4754-89c1-acdfc34a8636",
   "metadata": {},
   "outputs": [
    {
     "ename": "LoadError",
     "evalue": "UndefVarError: f not defined",
     "output_type": "error",
     "traceback": [
      "UndefVarError: f not defined",
      "",
      "Stacktrace:",
      " [1] getproperty(x::Module, f::Symbol)",
      "   @ Base .\\Base.jl:26",
      " [2] top-level scope",
      "   @ In[5]:1",
      " [3] eval",
      "   @ .\\boot.jl:369 [inlined]",
      " [4] include_string(mapexpr::typeof(REPL.softscope), mod::Module, code::String, filename::String)",
      "   @ Base .\\loading.jl:1110"
     ]
    }
   ],
   "source": [
    "O.f() = println(O.a)"
   ]
  },
  {
   "cell_type": "code",
   "execution_count": 6,
   "id": "3a2f6a6c-871b-45ff-98ab-02d4d5d90350",
   "metadata": {},
   "outputs": [
    {
     "name": "stdout",
     "output_type": "stream",
     "text": [
      "bar\n"
     ]
    }
   ],
   "source": [
    "@eval O f() = println(a)\n",
    "O.f()"
   ]
  },
  {
   "cell_type": "code",
   "execution_count": null,
   "id": "1b1e7144-7010-464e-aa9b-45f42c8798fb",
   "metadata": {},
   "outputs": [],
   "source": []
  }
 ],
 "metadata": {
  "kernelspec": {
   "display_name": "Julia 1.7.0-DEV",
   "language": "julia",
   "name": "julia-1.7"
  },
  "language_info": {
   "file_extension": ".jl",
   "mimetype": "application/julia",
   "name": "julia",
   "version": "1.7.0"
  }
 },
 "nbformat": 4,
 "nbformat_minor": 5
}
