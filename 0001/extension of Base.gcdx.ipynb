{
 "cells": [
  {
   "cell_type": "code",
   "execution_count": 5,
   "id": "c0bab8a7-e561-41cf-a4e7-208b423117c6",
   "metadata": {},
   "outputs": [
    {
     "name": "stdout",
     "output_type": "stream",
     "text": [
      "search: \u001b[0m\u001b[1mg\u001b[22m\u001b[0m\u001b[1mc\u001b[22m\u001b[0m\u001b[1md\u001b[22m\u001b[0m\u001b[1mx\u001b[22m \u001b[0m\u001b[1mg\u001b[22m\u001b[0m\u001b[1mc\u001b[22m\u001b[0m\u001b[1md\u001b[22m x\u001b[0m\u001b[1mg\u001b[22m\u001b[0m\u001b[1mc\u001b[22m\u001b[0m\u001b[1md\u001b[22m si\u001b[0m\u001b[1mg\u001b[22mnifi\u001b[0m\u001b[1mc\u001b[22man\u001b[0m\u001b[1md\u001b[22m\n",
      "\n"
     ]
    },
    {
     "data": {
      "text/latex": [
       "\\begin{verbatim}\n",
       "gcdx(a, b)\n",
       "\\end{verbatim}\n",
       "Computes the greatest common (positive) divisor of \\texttt{a} and \\texttt{b} and their Bézout coefficients, i.e. the integer coefficients \\texttt{u} and \\texttt{v} that satisfy $ua+vb = d = gcd(a, b)$. $gcdx(a, b)$ returns $(d, u, v)$.\n",
       "\n",
       "The arguments may be integer and rational numbers.\n",
       "\n",
       "\\begin{quote}\n",
       "\\textbf{compat}\n",
       "\n",
       "Julia 1.4\n",
       "\n",
       "Rational arguments require Julia 1.4 or later.\n",
       "\n",
       "\\end{quote}\n",
       "\\section{Examples}\n",
       "\\begin{verbatim}\n",
       "julia> gcdx(12, 42)\n",
       "(6, -3, 1)\n",
       "\n",
       "julia> gcdx(240, 46)\n",
       "(2, -9, 47)\n",
       "\\end{verbatim}\n",
       "\\begin{quote}\n",
       "\\textbf{note}\n",
       "\n",
       "Note\n",
       "\n",
       "Bézout coefficients are \\emph{not} uniquely defined. \\texttt{gcdx} returns the minimal Bézout coefficients that are computed by the extended Euclidean algorithm. (Ref: D. Knuth, TAoCP, 2/e, p. 325, Algorithm X.) For signed integers, these coefficients \\texttt{u} and \\texttt{v} are minimal in the sense that $|u| < |y/d|$ and $|v| < |x/d|$. Furthermore, the signs of \\texttt{u} and \\texttt{v} are chosen so that \\texttt{d} is positive. For unsigned integers, the coefficients \\texttt{u} and \\texttt{v} might be near their \\texttt{typemax}, and the identity then holds only via the unsigned integers' modulo arithmetic.\n",
       "\n",
       "\\end{quote}\n"
      ],
      "text/markdown": [
       "```\n",
       "gcdx(a, b)\n",
       "```\n",
       "\n",
       "Computes the greatest common (positive) divisor of `a` and `b` and their Bézout coefficients, i.e. the integer coefficients `u` and `v` that satisfy $ua+vb = d = gcd(a, b)$. $gcdx(a, b)$ returns $(d, u, v)$.\n",
       "\n",
       "The arguments may be integer and rational numbers.\n",
       "\n",
       "!!! compat \"Julia 1.4\"\n",
       "    Rational arguments require Julia 1.4 or later.\n",
       "\n",
       "\n",
       "# Examples\n",
       "\n",
       "```jldoctest\n",
       "julia> gcdx(12, 42)\n",
       "(6, -3, 1)\n",
       "\n",
       "julia> gcdx(240, 46)\n",
       "(2, -9, 47)\n",
       "```\n",
       "\n",
       "!!! note\n",
       "    Bézout coefficients are *not* uniquely defined. `gcdx` returns the minimal Bézout coefficients that are computed by the extended Euclidean algorithm. (Ref: D. Knuth, TAoCP, 2/e, p. 325, Algorithm X.) For signed integers, these coefficients `u` and `v` are minimal in the sense that $|u| < |y/d|$ and $|v| < |x/d|$. Furthermore, the signs of `u` and `v` are chosen so that `d` is positive. For unsigned integers, the coefficients `u` and `v` might be near their `typemax`, and the identity then holds only via the unsigned integers' modulo arithmetic.\n",
       "\n"
      ],
      "text/plain": [
       "\u001b[36m  gcdx(a, b)\u001b[39m\n",
       "\n",
       "  Computes the greatest common (positive) divisor of \u001b[36ma\u001b[39m and \u001b[36mb\u001b[39m and their Bézout\n",
       "  coefficients, i.e. the integer coefficients \u001b[36mu\u001b[39m and \u001b[36mv\u001b[39m that satisfy \u001b[35mua+vb = d =\n",
       "  gcd(a, b)\u001b[39m. \u001b[35mgcdx(a, b)\u001b[39m returns \u001b[35m(d, u, v)\u001b[39m.\n",
       "\n",
       "  The arguments may be integer and rational numbers.\n",
       "\n",
       "\u001b[39m\u001b[1m  │ \u001b[22m\u001b[39m\u001b[1mJulia 1.4\u001b[22m\n",
       "\u001b[39m\u001b[1m  │\u001b[22m\n",
       "\u001b[39m\u001b[1m  │\u001b[22m  Rational arguments require Julia 1.4 or later.\n",
       "\n",
       "\u001b[1m  Examples\u001b[22m\n",
       "\u001b[1m  ≡≡≡≡≡≡≡≡≡≡\u001b[22m\n",
       "\n",
       "\u001b[36m  julia> gcdx(12, 42)\u001b[39m\n",
       "\u001b[36m  (6, -3, 1)\u001b[39m\n",
       "\u001b[36m  \u001b[39m\n",
       "\u001b[36m  julia> gcdx(240, 46)\u001b[39m\n",
       "\u001b[36m  (2, -9, 47)\u001b[39m\n",
       "\n",
       "\u001b[36m\u001b[1m  │ \u001b[22m\u001b[39m\u001b[36m\u001b[1mNote\u001b[22m\u001b[39m\n",
       "\u001b[36m\u001b[1m  │\u001b[22m\u001b[39m\n",
       "\u001b[36m\u001b[1m  │\u001b[22m\u001b[39m  Bézout coefficients are \u001b[4mnot\u001b[24m uniquely defined. \u001b[36mgcdx\u001b[39m returns the\n",
       "\u001b[36m\u001b[1m  │\u001b[22m\u001b[39m  minimal Bézout coefficients that are computed by the extended\n",
       "\u001b[36m\u001b[1m  │\u001b[22m\u001b[39m  Euclidean algorithm. (Ref: D. Knuth, TAoCP, 2/e, p. 325, Algorithm\n",
       "\u001b[36m\u001b[1m  │\u001b[22m\u001b[39m  X.) For signed integers, these coefficients \u001b[36mu\u001b[39m and \u001b[36mv\u001b[39m are minimal in\n",
       "\u001b[36m\u001b[1m  │\u001b[22m\u001b[39m  the sense that \u001b[35m|u| < |y/d|\u001b[39m and \u001b[35m|v| < |x/d|\u001b[39m. Furthermore, the signs\n",
       "\u001b[36m\u001b[1m  │\u001b[22m\u001b[39m  of \u001b[36mu\u001b[39m and \u001b[36mv\u001b[39m are chosen so that \u001b[36md\u001b[39m is positive. For unsigned\n",
       "\u001b[36m\u001b[1m  │\u001b[22m\u001b[39m  integers, the coefficients \u001b[36mu\u001b[39m and \u001b[36mv\u001b[39m might be near their \u001b[36mtypemax\u001b[39m,\n",
       "\u001b[36m\u001b[1m  │\u001b[22m\u001b[39m  and the identity then holds only via the unsigned integers' modulo\n",
       "\u001b[36m\u001b[1m  │\u001b[22m\u001b[39m  arithmetic."
      ]
     },
     "execution_count": 5,
     "metadata": {},
     "output_type": "execute_result"
    }
   ],
   "source": [
    "?gcdx"
   ]
  },
  {
   "cell_type": "code",
   "execution_count": 2,
   "id": "99d9c4cd-89e6-4ff5-8e2a-2257ac089ba0",
   "metadata": {},
   "outputs": [
    {
     "data": {
      "text/plain": [
       "xgcd (generic function with 3 methods)"
      ]
     },
     "execution_count": 2,
     "metadata": {},
     "output_type": "execute_result"
    }
   ],
   "source": [
    "xgcd(a) = (abs(a), sign(a))\n",
    "xgcd(a, b) = gcdx(a, b)\n",
    "function xgcd(a, b, c...)\n",
    "    d, u, v = xgcd(a, b)\n",
    "    X = xgcd(d, c...)\n",
    "    g, w, x = X[1], X[2], X[3:end]\n",
    "    (g, w*u, w*v, x...)\n",
    "end"
   ]
  },
  {
   "cell_type": "code",
   "execution_count": 3,
   "id": "f8b098b1-0dce-4cc4-af53-1f4b3d1e67b9",
   "metadata": {},
   "outputs": [
    {
     "name": "stdout",
     "output_type": "stream",
     "text": [
      "A = [36077580, 34347390, 9492420, 199890, 6366]\n",
      "xgcd(A...) = (6, 1778116263168, -1867685552544, -807296, 212, 1)\n"
     ]
    }
   ],
   "source": [
    "A = [2310*rand(1:10^5), 2310*rand(1:10^5), 210*rand(1:10^5), 30*rand(1:10^5), 6*rand(1:10^5)]\n",
    "@show A xgcd(A...); "
   ]
  },
  {
   "cell_type": "code",
   "execution_count": 4,
   "id": "5fec2053-b1dd-4b9e-a3a6-6ac5393d6102",
   "metadata": {},
   "outputs": [
    {
     "data": {
      "text/plain": [
       "6"
      ]
     },
     "execution_count": 4,
     "metadata": {},
     "output_type": "execute_result"
    }
   ],
   "source": [
    "collect(xgcd(A...)[2:end])'A"
   ]
  },
  {
   "cell_type": "code",
   "execution_count": null,
   "id": "f06082cf-352d-413c-9d67-547a6bc2b515",
   "metadata": {},
   "outputs": [],
   "source": []
  }
 ],
 "metadata": {
  "kernelspec": {
   "display_name": "Julia 1.7.0-DEV",
   "language": "julia",
   "name": "julia-1.7"
  },
  "language_info": {
   "file_extension": ".jl",
   "mimetype": "application/julia",
   "name": "julia",
   "version": "1.7.0"
  }
 },
 "nbformat": 4,
 "nbformat_minor": 5
}
