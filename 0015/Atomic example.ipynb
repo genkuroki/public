{
 "cells": [
  {
   "cell_type": "code",
   "execution_count": 4,
   "id": "6701fe8c-82b0-463f-b456-926712449a36",
   "metadata": {},
   "outputs": [
    {
     "data": {
      "text/plain": [
       "2"
      ]
     },
     "execution_count": 4,
     "metadata": {},
     "output_type": "execute_result"
    }
   ],
   "source": [
    "a = Threads.Atomic{Int}(2)\n",
    "b = a[]"
   ]
  },
  {
   "cell_type": "code",
   "execution_count": 6,
   "id": "185fa757-ffad-4b5e-80d9-72e3fd332275",
   "metadata": {},
   "outputs": [
    {
     "name": "stdout",
     "output_type": "stream",
     "text": [
      "Threads.nthreads() = 6\n",
      "a = Threads.Atomic{Int}(99) = Base.Threads.Atomic{Int64}(99)\n",
      "(id:  4)  i =  7,  a[] =  7\n",
      "(id:  6)  i = 10,  a[] = 10\n",
      "(id:  3)  i =  5,  a[] =  5\n",
      "(id:  1)  i =  1,  a[] =  1\n",
      "(id:  2)  i =  3,  a[] =  3\n",
      "(id:  5)  i =  9,  a[] =  9\n",
      "(id:  4)  i =  7,  b =  3\n",
      "(id:  6)  i = 10,  b =  3\n",
      "(id:  3)  i =  5,  b =  3\n",
      "(id:  1)  i =  1,  b =  3\n",
      "(id:  2)  i =  3,  b =  3\n",
      "(id:  5)  i =  9,  b =  3\n",
      "(id:  4)  i =  8,  a[] =  8\n",
      "(id:  3)  i =  6,  a[] =  6\n",
      "(id:  1)  i =  2,  a[] =  2\n",
      "(id:  2)  i =  4,  a[] =  4\n",
      "(id:  4)  i =  8,  b =  4\n",
      "(id:  3)  i =  6,  b =  4\n",
      "(id:  2)  i =  4,  b =  4\n",
      "(id:  1)  i =  2,  b =  4\n"
     ]
    }
   ],
   "source": [
    "using Printf\n",
    "@show Threads.nthreads()\n",
    "@show a = Threads.Atomic{Int}(99)\n",
    "Threads.@threads for i in 1:10\n",
    "    a[] = i\n",
    "    @printf \"(id: %2d)  i = %2d,  a[] = %2d\\n\" Threads.threadid() i a[]\n",
    "    b = a[]\n",
    "    @printf \"(id: %2d)  i = %2d,  b = %2d\\n\" Threads.threadid() i b\n",
    "end"
   ]
  },
  {
   "cell_type": "code",
   "execution_count": null,
   "id": "c870df53-6845-4806-8df6-2a142127a307",
   "metadata": {},
   "outputs": [],
   "source": []
  }
 ],
 "metadata": {
  "jupytext": {
   "formats": "ipynb,auto:hydrogen"
  },
  "kernelspec": {
   "display_name": "Julia 1.8.0-DEV -t 6",
   "language": "julia",
   "name": "julia-1.8-t4"
  },
  "language_info": {
   "file_extension": ".jl",
   "mimetype": "application/julia",
   "name": "julia",
   "version": "1.8.0"
  }
 },
 "nbformat": 4,
 "nbformat_minor": 5
}
