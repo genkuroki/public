{
 "cells": [
  {
   "cell_type": "code",
   "execution_count": 1,
   "id": "ab3dada6-878f-4908-a920-4ebb604e9678",
   "metadata": {},
   "outputs": [
    {
     "name": "stderr",
     "output_type": "stream",
     "text": [
      "\u001b[32m\u001b[1m  Activating\u001b[22m\u001b[39m project at `D:\\OneDrive\\public\\0015\\Pkg`\n"
     ]
    }
   ],
   "source": [
    "]activate ."
   ]
  },
  {
   "cell_type": "code",
   "execution_count": 2,
   "id": "fed3b904-4156-4347-bb73-5ee04148f334",
   "metadata": {},
   "outputs": [
    {
     "name": "stdout",
     "output_type": "stream",
     "text": [
      "\u001b[32m\u001b[1m      Status\u001b[22m\u001b[39m `D:\\OneDrive\\public\\0015\\Pkg\\Project.toml`\n",
      " \u001b[90m [56e20d83] \u001b[39mMyPkg v0.1.0 `MyPkg`\n"
     ]
    }
   ],
   "source": [
    "]st"
   ]
  },
  {
   "cell_type": "code",
   "execution_count": 3,
   "id": "8e895abc-14a9-4f03-85f4-7e528202488c",
   "metadata": {},
   "outputs": [
    {
     "name": "stdout",
     "output_type": "stream",
     "text": [
      "module MyPkg\n",
      "\n",
      "greet() = print(\"Hello World!\")\n",
      "\n",
      "end # module\n"
     ]
    }
   ],
   "source": [
    "print(read(\"./MyPkg/src/MyPkg.jl\", String))"
   ]
  },
  {
   "cell_type": "code",
   "execution_count": 4,
   "id": "ea712a74-b403-46c3-93c1-4a70e52cbf65",
   "metadata": {},
   "outputs": [
    {
     "name": "stdout",
     "output_type": "stream",
     "text": [
      "Hello World!"
     ]
    }
   ],
   "source": [
    "using MyPkg: MyPkg, greet\n",
    "greet()"
   ]
  },
  {
   "cell_type": "code",
   "execution_count": 5,
   "id": "46590c37-d730-4e1b-9de4-e75f6e469247",
   "metadata": {},
   "outputs": [
    {
     "ename": "LoadError",
     "evalue": "error in method definition: function MyPkg.greet must be explicitly imported to be extended",
     "output_type": "error",
     "traceback": [
      "error in method definition: function MyPkg.greet must be explicitly imported to be extended",
      "",
      "Stacktrace:",
      " [1] top-level scope",
      "   @ none:0",
      " [2] top-level scope",
      "   @ In[5]:1",
      " [3] eval",
      "   @ .\\boot.jl:373 [inlined]",
      " [4] include_string(mapexpr::typeof(REPL.softscope), mod::Module, code::String, filename::String)",
      "   @ Base .\\loading.jl:1207"
     ]
    }
   ],
   "source": [
    "greet() = print(\"Hello Julia!\")"
   ]
  },
  {
   "cell_type": "code",
   "execution_count": 6,
   "id": "7507cdf0-a386-4cce-b447-b52c2f836e9e",
   "metadata": {},
   "outputs": [
    {
     "name": "stdout",
     "output_type": "stream",
     "text": [
      "Hello Julia!"
     ]
    }
   ],
   "source": [
    "MyPkg.greet() = print(\"Hello Julia!\")\n",
    "greet()"
   ]
  },
  {
   "cell_type": "code",
   "execution_count": 7,
   "id": "31cabd0b-6c46-49dc-af21-5a056e10d104",
   "metadata": {},
   "outputs": [
    {
     "name": "stdout",
     "output_type": "stream",
     "text": [
      "Hello MyPkg!"
     ]
    }
   ],
   "source": [
    "import MyPkg: greet\n",
    "greet() = print(\"Hello MyPkg!\")\n",
    "MyPkg.greet()"
   ]
  },
  {
   "cell_type": "code",
   "execution_count": null,
   "id": "87144a39-49f8-4d6e-8cda-e0282e278a7d",
   "metadata": {},
   "outputs": [],
   "source": []
  }
 ],
 "metadata": {
  "kernelspec": {
   "display_name": "Julia 1.8.0-DEV",
   "language": "julia",
   "name": "julia-1.8"
  },
  "language_info": {
   "file_extension": ".jl",
   "mimetype": "application/julia",
   "name": "julia",
   "version": "1.8.0"
  }
 },
 "nbformat": 4,
 "nbformat_minor": 5
}
