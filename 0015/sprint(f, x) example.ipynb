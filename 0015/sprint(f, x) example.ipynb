{
 "cells": [
  {
   "cell_type": "code",
   "execution_count": 1,
   "id": "cd28c653-7db4-429a-afa4-57c73f21862f",
   "metadata": {},
   "outputs": [
    {
     "name": "stdout",
     "output_type": "stream",
     "text": [
      "Hello, \"Julia\"!"
     ]
    }
   ],
   "source": [
    "function show_Hello(io::IO, x)\n",
    "    print(io, \"Hello, \")\n",
    "    show(io, x)\n",
    "    print(io, '!')\n",
    "end\n",
    "show_Hello(x) = show_Hello(stdout, x)\n",
    "\n",
    "show_Hello(\"Julia\")"
   ]
  },
  {
   "cell_type": "code",
   "execution_count": 2,
   "id": "a6c1ec1e-2543-4a23-9ec5-9a1c658d5cc2",
   "metadata": {},
   "outputs": [
    {
     "data": {
      "text/plain": [
       "\"Hello, \\\"Julia\\\"!\""
      ]
     },
     "execution_count": 2,
     "metadata": {},
     "output_type": "execute_result"
    }
   ],
   "source": [
    "str = sprint(show_Hello, \"Julia\")"
   ]
  },
  {
   "cell_type": "code",
   "execution_count": 3,
   "id": "3df6a6ad-9ea9-4dd5-954e-aaf7ec4d2c6c",
   "metadata": {},
   "outputs": [
    {
     "name": "stdout",
     "output_type": "stream",
     "text": [
      "Hello, \"Julia\"!"
     ]
    }
   ],
   "source": [
    "print(str)"
   ]
  },
  {
   "cell_type": "code",
   "execution_count": 4,
   "id": "202613a8-1c21-4b23-a8ad-83c945347cd3",
   "metadata": {},
   "outputs": [
    {
     "name": "stdout",
     "output_type": "stream",
     "text": [
      "search: \u001b[0m\u001b[1ms\u001b[22m\u001b[0m\u001b[1mp\u001b[22m\u001b[0m\u001b[1mr\u001b[22m\u001b[0m\u001b[1mi\u001b[22m\u001b[0m\u001b[1mn\u001b[22m\u001b[0m\u001b[1mt\u001b[22m i\u001b[0m\u001b[1ms\u001b[22m\u001b[0m\u001b[1mp\u001b[22m\u001b[0m\u001b[1mr\u001b[22m\u001b[0m\u001b[1mi\u001b[22m\u001b[0m\u001b[1mn\u001b[22m\u001b[0m\u001b[1mt\u001b[22m \u001b[0m\u001b[1ms\u001b[22met\u001b[0m\u001b[1mp\u001b[22m\u001b[0m\u001b[1mr\u001b[22mec\u001b[0m\u001b[1mi\u001b[22msio\u001b[0m\u001b[1mn\u001b[22m e\u001b[0m\u001b[1ms\u001b[22mca\u001b[0m\u001b[1mp\u001b[22me_st\u001b[0m\u001b[1mr\u001b[22m\u001b[0m\u001b[1mi\u001b[22m\u001b[0m\u001b[1mn\u001b[22mg une\u001b[0m\u001b[1ms\u001b[22mca\u001b[0m\u001b[1mp\u001b[22me_st\u001b[0m\u001b[1mr\u001b[22m\u001b[0m\u001b[1mi\u001b[22m\u001b[0m\u001b[1mn\u001b[22mg\n",
      "\n"
     ]
    },
    {
     "data": {
      "text/latex": [
       "\\begin{verbatim}\n",
       "sprint(f::Function, args...; context=nothing, sizehint=0)\n",
       "\\end{verbatim}\n",
       "Call the given function with an I/O stream and the supplied extra arguments. Everything written to this I/O stream is returned as a string. \\texttt{context} can be an \\href{@ref}{\\texttt{IOContext}} whose properties will be used, a \\texttt{Pair} specifying a property and its value, or a tuple of \\texttt{Pair} specifying multiple properties and their values. \\texttt{sizehint} suggests the capacity of the buffer (in bytes).\n",
       "\n",
       "The optional keyword argument \\texttt{context} can be set to a \\texttt{:key=>value} pair, a tuple of \\texttt{:key=>value} pairs, or an \\texttt{IO} or \\href{@ref}{\\texttt{IOContext}} object whose attributes are used for the I/O stream passed to \\texttt{f}.  The optional \\texttt{sizehint} is a suggested size (in bytes) to allocate for the buffer used to write the string.\n",
       "\n",
       "\\begin{quote}\n",
       "\\textbf{compat}\n",
       "\n",
       "Julia 1.7\n",
       "\n",
       "Passing a tuple to keyword \\texttt{context} requires Julia 1.7 or later.\n",
       "\n",
       "\\end{quote}\n",
       "\\section{Examples}\n",
       "\\begin{verbatim}\n",
       "julia> sprint(show, 66.66666; context=:compact => true)\n",
       "\"66.6667\"\n",
       "\n",
       "julia> sprint(showerror, BoundsError([1], 100))\n",
       "\"BoundsError: attempt to access 1-element Vector{Int64} at index [100]\"\n",
       "\\end{verbatim}\n"
      ],
      "text/markdown": [
       "```\n",
       "sprint(f::Function, args...; context=nothing, sizehint=0)\n",
       "```\n",
       "\n",
       "Call the given function with an I/O stream and the supplied extra arguments. Everything written to this I/O stream is returned as a string. `context` can be an [`IOContext`](@ref) whose properties will be used, a `Pair` specifying a property and its value, or a tuple of `Pair` specifying multiple properties and their values. `sizehint` suggests the capacity of the buffer (in bytes).\n",
       "\n",
       "The optional keyword argument `context` can be set to a `:key=>value` pair, a tuple of `:key=>value` pairs, or an `IO` or [`IOContext`](@ref) object whose attributes are used for the I/O stream passed to `f`.  The optional `sizehint` is a suggested size (in bytes) to allocate for the buffer used to write the string.\n",
       "\n",
       "!!! compat \"Julia 1.7\"\n",
       "    Passing a tuple to keyword `context` requires Julia 1.7 or later.\n",
       "\n",
       "\n",
       "# Examples\n",
       "\n",
       "```jldoctest\n",
       "julia> sprint(show, 66.66666; context=:compact => true)\n",
       "\"66.6667\"\n",
       "\n",
       "julia> sprint(showerror, BoundsError([1], 100))\n",
       "\"BoundsError: attempt to access 1-element Vector{Int64} at index [100]\"\n",
       "```\n"
      ],
      "text/plain": [
       "\u001b[36m  sprint(f::Function, args...; context=nothing, sizehint=0)\u001b[39m\n",
       "\n",
       "  Call the given function with an I/O stream and the supplied extra arguments.\n",
       "  Everything written to this I/O stream is returned as a string. \u001b[36mcontext\u001b[39m can\n",
       "  be an \u001b[36mIOContext\u001b[39m whose properties will be used, a \u001b[36mPair\u001b[39m specifying a property\n",
       "  and its value, or a tuple of \u001b[36mPair\u001b[39m specifying multiple properties and their\n",
       "  values. \u001b[36msizehint\u001b[39m suggests the capacity of the buffer (in bytes).\n",
       "\n",
       "  The optional keyword argument \u001b[36mcontext\u001b[39m can be set to a \u001b[36m:key=>value\u001b[39m pair, a\n",
       "  tuple of \u001b[36m:key=>value\u001b[39m pairs, or an \u001b[36mIO\u001b[39m or \u001b[36mIOContext\u001b[39m object whose attributes\n",
       "  are used for the I/O stream passed to \u001b[36mf\u001b[39m. The optional \u001b[36msizehint\u001b[39m is a\n",
       "  suggested size (in bytes) to allocate for the buffer used to write the\n",
       "  string.\n",
       "\n",
       "\u001b[39m\u001b[1m  │ \u001b[22m\u001b[39m\u001b[1mJulia 1.7\u001b[22m\n",
       "\u001b[39m\u001b[1m  │\u001b[22m\n",
       "\u001b[39m\u001b[1m  │\u001b[22m  Passing a tuple to keyword \u001b[36mcontext\u001b[39m requires Julia 1.7 or later.\n",
       "\n",
       "\u001b[1m  Examples\u001b[22m\n",
       "\u001b[1m  ≡≡≡≡≡≡≡≡≡≡\u001b[22m\n",
       "\n",
       "\u001b[36m  julia> sprint(show, 66.66666; context=:compact => true)\u001b[39m\n",
       "\u001b[36m  \"66.6667\"\u001b[39m\n",
       "\u001b[36m  \u001b[39m\n",
       "\u001b[36m  julia> sprint(showerror, BoundsError([1], 100))\u001b[39m\n",
       "\u001b[36m  \"BoundsError: attempt to access 1-element Vector{Int64} at index [100]\"\u001b[39m"
      ]
     },
     "execution_count": 4,
     "metadata": {},
     "output_type": "execute_result"
    }
   ],
   "source": [
    "?sprint"
   ]
  },
  {
   "cell_type": "code",
   "execution_count": 5,
   "id": "f1fb8601-f20a-4f62-a66f-db84eced0513",
   "metadata": {},
   "outputs": [
    {
     "data": {
      "text/html": [
       "# 1 method for generic function <b>sprint</b>:<ul><li> sprint(f::<b>Function</b>, args...; <i>context, sizehint</i>) in Base at <a href=\"https://github.com/JuliaLang/julia/tree/cb30aa7a089f4d5f1c9f834d96c3788f2e93ebcc/base/strings/io.jl#L105\" target=\"_blank\">strings/io.jl:105</a></li> </ul>"
      ],
      "text/plain": [
       "# 1 method for generic function \"sprint\":\n",
       "[1] sprint(f::Function, args...; context, sizehint) in Base at strings/io.jl:105"
      ]
     },
     "execution_count": 5,
     "metadata": {},
     "output_type": "execute_result"
    }
   ],
   "source": [
    "methods(sprint)"
   ]
  },
  {
   "cell_type": "code",
   "execution_count": null,
   "id": "13939447-f76c-4fd7-8cfc-0885e5b467b7",
   "metadata": {},
   "outputs": [],
   "source": []
  }
 ],
 "metadata": {
  "jupytext": {
   "formats": "ipynb,auto:hydrogen"
  },
  "kernelspec": {
   "display_name": "Julia 1.8.0-DEV",
   "language": "julia",
   "name": "julia-1.8"
  },
  "language_info": {
   "file_extension": ".jl",
   "mimetype": "application/julia",
   "name": "julia",
   "version": "1.8.0"
  }
 },
 "nbformat": 4,
 "nbformat_minor": 5
}
