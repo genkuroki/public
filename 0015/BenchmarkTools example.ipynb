{
 "cells": [
  {
   "cell_type": "code",
   "execution_count": 1,
   "id": "3e539877-b659-47ba-ac98-820548ddb8d2",
   "metadata": {},
   "outputs": [
    {
     "data": {
      "text/plain": [
       "BenchmarkTools.Trial: 699 samples with 1 evaluation.\n",
       " Range \u001b[90m(\u001b[39m\u001b[36m\u001b[1mmin\u001b[22m\u001b[39m … \u001b[35mmax\u001b[39m\u001b[90m):  \u001b[39m\u001b[36m\u001b[1m6.924 ms\u001b[22m\u001b[39m … \u001b[35m  9.339 ms\u001b[39m  \u001b[90m┊\u001b[39m GC \u001b[90m(\u001b[39mmin … max\u001b[90m): \u001b[39m0.00% … 0.00%\n",
       " Time  \u001b[90m(\u001b[39m\u001b[34m\u001b[1mmedian\u001b[22m\u001b[39m\u001b[90m):     \u001b[39m\u001b[34m\u001b[1m7.066 ms               \u001b[22m\u001b[39m\u001b[90m┊\u001b[39m GC \u001b[90m(\u001b[39mmedian\u001b[90m):    \u001b[39m0.00%\n",
       " Time  \u001b[90m(\u001b[39m\u001b[32m\u001b[1mmean\u001b[22m\u001b[39m ± \u001b[32mσ\u001b[39m\u001b[90m):   \u001b[39m\u001b[32m\u001b[1m7.152 ms\u001b[22m\u001b[39m ± \u001b[32m254.300 μs\u001b[39m  \u001b[90m┊\u001b[39m GC \u001b[90m(\u001b[39mmean ± σ\u001b[90m):  \u001b[39m0.00% ± 0.00%\n",
       "\n",
       "  \u001b[39m \u001b[39m█\u001b[39m▁\u001b[39m█\u001b[39m \u001b[39m▆\u001b[39m▃\u001b[34m▁\u001b[39m\u001b[39m \u001b[39m \u001b[39m \u001b[39m \u001b[32m \u001b[39m\u001b[39m \u001b[39m \u001b[39m \u001b[39m \u001b[39m \u001b[39m \u001b[39m \u001b[39m \u001b[39m \u001b[39m \u001b[39m \u001b[39m \u001b[39m \u001b[39m \u001b[39m \u001b[39m \u001b[39m \u001b[39m \u001b[39m \u001b[39m \u001b[39m \u001b[39m \u001b[39m \u001b[39m \u001b[39m \u001b[39m \u001b[39m \u001b[39m \u001b[39m \u001b[39m \u001b[39m \u001b[39m \u001b[39m \u001b[39m \u001b[39m \u001b[39m \u001b[39m \u001b[39m \u001b[39m \u001b[39m \u001b[39m \u001b[39m \u001b[39m \u001b[39m \u001b[39m \u001b[39m \u001b[39m \u001b[39m \n",
       "  \u001b[39m▃\u001b[39m█\u001b[39m█\u001b[39m█\u001b[39m▇\u001b[39m█\u001b[39m█\u001b[34m█\u001b[39m\u001b[39m█\u001b[39m▇\u001b[39m▇\u001b[39m▆\u001b[32m▅\u001b[39m\u001b[39m▅\u001b[39m▅\u001b[39m▄\u001b[39m▃\u001b[39m▄\u001b[39m▄\u001b[39m▃\u001b[39m▃\u001b[39m▃\u001b[39m▃\u001b[39m▃\u001b[39m▃\u001b[39m▃\u001b[39m▃\u001b[39m▄\u001b[39m▃\u001b[39m▃\u001b[39m▃\u001b[39m▃\u001b[39m▃\u001b[39m▂\u001b[39m▃\u001b[39m▃\u001b[39m▂\u001b[39m▂\u001b[39m▂\u001b[39m▂\u001b[39m▃\u001b[39m▁\u001b[39m▂\u001b[39m▂\u001b[39m▂\u001b[39m▁\u001b[39m▁\u001b[39m▂\u001b[39m▂\u001b[39m▁\u001b[39m▂\u001b[39m▂\u001b[39m▁\u001b[39m▁\u001b[39m▁\u001b[39m▁\u001b[39m▁\u001b[39m▁\u001b[39m▂\u001b[39m \u001b[39m▃\n",
       "  6.92 ms\u001b[90m         Histogram: frequency by time\u001b[39m         880 ms \u001b[0m\u001b[1m<\u001b[22m\n",
       "\n",
       " Memory estimate\u001b[90m: \u001b[39m\u001b[33m0 bytes\u001b[39m, allocs estimate\u001b[90m: \u001b[39m\u001b[33m0\u001b[39m."
      ]
     },
     "execution_count": 1,
     "metadata": {},
     "output_type": "execute_result"
    }
   ],
   "source": [
    "using BenchmarkTools\n",
    "b = @benchmark sum(rand()^2 + rand()^2 ≤ 1 for _ in 1:10^6)/10^6"
   ]
  },
  {
   "cell_type": "code",
   "execution_count": 2,
   "id": "6fa68d95-6061-4932-9768-7ca6e0afa040",
   "metadata": {},
   "outputs": [
    {
     "name": "stdout",
     "output_type": "stream",
     "text": [
      "BenchmarkTools.Trial\n",
      "  params: BenchmarkTools.Parameters\n",
      "    seconds: Float64 5.0\n",
      "    samples: Int64 10000\n",
      "    evals: Int64 1\n",
      "    overhead: Float64 0.0\n",
      "    gctrial: Bool true\n",
      "    gcsample: Bool false\n",
      "    time_tolerance: Float64 0.05\n",
      "    memory_tolerance: Float64 0.01\n",
      "  times: Array{Float64}((699,)) [6.9243e6, 6.9245e6, 6.9247e6, 6.958e6, 6.9585e6, 6.9588e6, 6.9588e6, 6.9592e6, 6.9592e6, 6.9592e6  …  7.9109e6, 7.9271e6, 8.0791e6, 8.2453e6, 8.3576e6, 8.5318e6, 8.6104e6, 8.7073e6, 9.2592e6, 9.3386e6]\n",
      "  gctimes: Array{Float64}((699,)) [0.0, 0.0, 0.0, 0.0, 0.0, 0.0, 0.0, 0.0, 0.0, 0.0  …  0.0, 0.0, 0.0, 0.0, 0.0, 0.0, 0.0, 0.0, 0.0, 0.0]\n",
      "  memory: Int64 0\n",
      "  allocs: Int64 0\n"
     ]
    }
   ],
   "source": [
    "dump(b)"
   ]
  },
  {
   "cell_type": "code",
   "execution_count": 3,
   "id": "2a84cc73-33ed-4688-97a2-15666c050f9c",
   "metadata": {},
   "outputs": [
    {
     "data": {
      "text/html": [
       "27-element Vector{Method}:<ul><li> mean(trial::<b>BenchmarkTools.Trial</b>) in BenchmarkTools at <a href=\"file://D:/.julia/packages/BenchmarkTools/tGTCy/src/trials.jl\" target=\"_blank\">D:\\.julia\\packages\\BenchmarkTools\\tGTCy\\src\\trials.jl:122</a><li> median(trial::<b>BenchmarkTools.Trial</b>) in BenchmarkTools at <a href=\"file://D:/.julia/packages/BenchmarkTools/tGTCy/src/trials.jl\" target=\"_blank\">D:\\.julia\\packages\\BenchmarkTools\\tGTCy\\src\\trials.jl:121</a><li> std(trial::<b>BenchmarkTools.Trial</b>) in BenchmarkTools at <a href=\"file://D:/.julia/packages/BenchmarkTools/tGTCy/src/trials.jl\" target=\"_blank\">D:\\.julia\\packages\\BenchmarkTools\\tGTCy\\src\\trials.jl:123</a><li> allocs(t::<b>BenchmarkTools.Trial</b>) in BenchmarkTools at <a href=\"file://D:/.julia/packages/BenchmarkTools/tGTCy/src/trials.jl\" target=\"_blank\">D:\\.julia\\packages\\BenchmarkTools\\tGTCy\\src\\trials.jl:56</a><li> gctime(t::<b>BenchmarkTools.Trial</b>) in BenchmarkTools at <a href=\"file://D:/.julia/packages/BenchmarkTools/tGTCy/src/trials.jl\" target=\"_blank\">D:\\.julia\\packages\\BenchmarkTools\\tGTCy\\src\\trials.jl:54</a><li> memory(t::<b>BenchmarkTools.Trial</b>) in BenchmarkTools at <a href=\"file://D:/.julia/packages/BenchmarkTools/tGTCy/src/trials.jl\" target=\"_blank\">D:\\.julia\\packages\\BenchmarkTools\\tGTCy\\src\\trials.jl:55</a><li> params(t::<b>BenchmarkTools.Trial</b>) in BenchmarkTools at <a href=\"file://D:/.julia/packages/BenchmarkTools/tGTCy/src/trials.jl\" target=\"_blank\">D:\\.julia\\packages\\BenchmarkTools\\tGTCy\\src\\trials.jl:57</a><li> rmskew(t::<b>BenchmarkTools.Trial</b>) in BenchmarkTools at <a href=\"file://D:/.julia/packages/BenchmarkTools/tGTCy/src/trials.jl\" target=\"_blank\">D:\\.julia\\packages\\BenchmarkTools\\tGTCy\\src\\trials.jl:78</a><li> rmskew!(t::<b>BenchmarkTools.Trial</b>) in BenchmarkTools at <a href=\"file://D:/.julia/packages/BenchmarkTools/tGTCy/src/trials.jl\" target=\"_blank\">D:\\.julia\\packages\\BenchmarkTools\\tGTCy\\src\\trials.jl:71</a><li> trim(t::<b>BenchmarkTools.Trial</b>) in BenchmarkTools at <a href=\"file://D:/.julia/packages/BenchmarkTools/tGTCy/src/trials.jl\" target=\"_blank\">D:\\.julia\\packages\\BenchmarkTools\\tGTCy\\src\\trials.jl:83</a><li> trim(t::<b>BenchmarkTools.Trial</b>, percentage) in BenchmarkTools at <a href=\"file://D:/.julia/packages/BenchmarkTools/tGTCy/src/trials.jl\" target=\"_blank\">D:\\.julia\\packages\\BenchmarkTools\\tGTCy\\src\\trials.jl:83</a><li> ==(a::<b>BenchmarkTools.Trial</b>, b::<b>BenchmarkTools.Trial</b>) in BenchmarkTools at <a href=\"file://D:/.julia/packages/BenchmarkTools/tGTCy/src/trials.jl\" target=\"_blank\">D:\\.julia\\packages\\BenchmarkTools\\tGTCy\\src\\trials.jl:15</a><li> copy(t::<b>BenchmarkTools.Trial</b>) in BenchmarkTools at <a href=\"file://D:/.julia/packages/BenchmarkTools/tGTCy/src/trials.jl\" target=\"_blank\">D:\\.julia\\packages\\BenchmarkTools\\tGTCy\\src\\trials.jl:23</a><li> deleteat!(t::<b>BenchmarkTools.Trial</b>, i) in BenchmarkTools at <a href=\"file://D:/.julia/packages/BenchmarkTools/tGTCy/src/trials.jl\" target=\"_blank\">D:\\.julia\\packages\\BenchmarkTools\\tGTCy\\src\\trials.jl:33</a><li> getindex(t::<b>BenchmarkTools.Trial</b>, i::<b>Number</b>) in BenchmarkTools at <a href=\"file://D:/.julia/packages/BenchmarkTools/tGTCy/src/trials.jl\" target=\"_blank\">D:\\.julia\\packages\\BenchmarkTools\\tGTCy\\src\\trials.jl:40</a><li> getindex(t::<b>BenchmarkTools.Trial</b>, i) in BenchmarkTools at <a href=\"file://D:/.julia/packages/BenchmarkTools/tGTCy/src/trials.jl\" target=\"_blank\">D:\\.julia\\packages\\BenchmarkTools\\tGTCy\\src\\trials.jl:41</a><li> lastindex(t::<b>BenchmarkTools.Trial</b>) in BenchmarkTools at <a href=\"file://D:/.julia/packages/BenchmarkTools/tGTCy/src/trials.jl\" target=\"_blank\">D:\\.julia\\packages\\BenchmarkTools\\tGTCy\\src\\trials.jl:42</a><li> length(t::<b>BenchmarkTools.Trial</b>) in BenchmarkTools at <a href=\"file://D:/.julia/packages/BenchmarkTools/tGTCy/src/trials.jl\" target=\"_blank\">D:\\.julia\\packages\\BenchmarkTools\\tGTCy\\src\\trials.jl:39</a><li> maximum(trial::<b>BenchmarkTools.Trial</b>) in BenchmarkTools at <a href=\"file://D:/.julia/packages/BenchmarkTools/tGTCy/src/trials.jl\" target=\"_blank\">D:\\.julia\\packages\\BenchmarkTools\\tGTCy\\src\\trials.jl:116</a><li> minimum(trial::<b>BenchmarkTools.Trial</b>) in BenchmarkTools at <a href=\"file://D:/.julia/packages/BenchmarkTools/tGTCy/src/trials.jl\" target=\"_blank\">D:\\.julia\\packages\\BenchmarkTools\\tGTCy\\src\\trials.jl:111</a><li> push!(t::<b>BenchmarkTools.Trial</b>, time, gctime, memory, allocs) in BenchmarkTools at <a href=\"file://D:/.julia/packages/BenchmarkTools/tGTCy/src/trials.jl\" target=\"_blank\">D:\\.julia\\packages\\BenchmarkTools\\tGTCy\\src\\trials.jl:25</a><li> show(io::<b>IO</b>, t::<b>BenchmarkTools.Trial</b>) in BenchmarkTools at <a href=\"file://D:/.julia/packages/BenchmarkTools/tGTCy/src/trials.jl\" target=\"_blank\">D:\\.julia\\packages\\BenchmarkTools\\tGTCy\\src\\trials.jl:336</a><li> show(io::<b>IO</b>, ::<b>MIME{Symbol(\"text/plain\")}</b>, t::<b>BenchmarkTools.Trial</b>) in BenchmarkTools at <a href=\"file://D:/.julia/packages/BenchmarkTools/tGTCy/src/trials.jl\" target=\"_blank\">D:\\.julia\\packages\\BenchmarkTools\\tGTCy\\src\\trials.jl:341</a><li> sort(t::<b>BenchmarkTools.Trial</b>) in BenchmarkTools at <a href=\"file://D:/.julia/packages/BenchmarkTools/tGTCy/src/trials.jl\" target=\"_blank\">D:\\.julia\\packages\\BenchmarkTools\\tGTCy\\src\\trials.jl:51</a><li> sort!(t::<b>BenchmarkTools.Trial</b>) in BenchmarkTools at <a href=\"file://D:/.julia/packages/BenchmarkTools/tGTCy/src/trials.jl\" target=\"_blank\">D:\\.julia\\packages\\BenchmarkTools\\tGTCy\\src\\trials.jl:44</a><li> summary(io::<b>IO</b>, t::<b>BenchmarkTools.Trial</b>) in BenchmarkTools at <a href=\"file://D:/.julia/packages/BenchmarkTools/tGTCy/src/trials.jl\" target=\"_blank\">D:\\.julia\\packages\\BenchmarkTools\\tGTCy\\src\\trials.jl:321</a><li> time(t::<b>BenchmarkTools.Trial</b>) in BenchmarkTools at <a href=\"file://D:/.julia/packages/BenchmarkTools/tGTCy/src/trials.jl\" target=\"_blank\">D:\\.julia\\packages\\BenchmarkTools\\tGTCy\\src\\trials.jl:53</a></ul>"
      ],
      "text/plain": [
       "[1] mean(trial::BenchmarkTools.Trial) in BenchmarkTools at D:\\.julia\\packages\\BenchmarkTools\\tGTCy\\src\\trials.jl:122\n",
       "[2] median(trial::BenchmarkTools.Trial) in BenchmarkTools at D:\\.julia\\packages\\BenchmarkTools\\tGTCy\\src\\trials.jl:121\n",
       "[3] std(trial::BenchmarkTools.Trial) in BenchmarkTools at D:\\.julia\\packages\\BenchmarkTools\\tGTCy\\src\\trials.jl:123\n",
       "[4] allocs(t::BenchmarkTools.Trial) in BenchmarkTools at D:\\.julia\\packages\\BenchmarkTools\\tGTCy\\src\\trials.jl:56\n",
       "[5] gctime(t::BenchmarkTools.Trial) in BenchmarkTools at D:\\.julia\\packages\\BenchmarkTools\\tGTCy\\src\\trials.jl:54\n",
       "[6] memory(t::BenchmarkTools.Trial) in BenchmarkTools at D:\\.julia\\packages\\BenchmarkTools\\tGTCy\\src\\trials.jl:55\n",
       "[7] params(t::BenchmarkTools.Trial) in BenchmarkTools at D:\\.julia\\packages\\BenchmarkTools\\tGTCy\\src\\trials.jl:57\n",
       "[8] rmskew(t::BenchmarkTools.Trial) in BenchmarkTools at D:\\.julia\\packages\\BenchmarkTools\\tGTCy\\src\\trials.jl:78\n",
       "[9] rmskew!(t::BenchmarkTools.Trial) in BenchmarkTools at D:\\.julia\\packages\\BenchmarkTools\\tGTCy\\src\\trials.jl:71\n",
       "[10] trim(t::BenchmarkTools.Trial) in BenchmarkTools at D:\\.julia\\packages\\BenchmarkTools\\tGTCy\\src\\trials.jl:83\n",
       "[11] trim(t::BenchmarkTools.Trial, percentage) in BenchmarkTools at D:\\.julia\\packages\\BenchmarkTools\\tGTCy\\src\\trials.jl:83\n",
       "[12] ==(a::BenchmarkTools.Trial, b::BenchmarkTools.Trial) in BenchmarkTools at D:\\.julia\\packages\\BenchmarkTools\\tGTCy\\src\\trials.jl:15\n",
       "[13] copy(t::BenchmarkTools.Trial) in BenchmarkTools at D:\\.julia\\packages\\BenchmarkTools\\tGTCy\\src\\trials.jl:23\n",
       "[14] deleteat!(t::BenchmarkTools.Trial, i) in BenchmarkTools at D:\\.julia\\packages\\BenchmarkTools\\tGTCy\\src\\trials.jl:33\n",
       "[15] getindex(t::BenchmarkTools.Trial, i::Number) in BenchmarkTools at D:\\.julia\\packages\\BenchmarkTools\\tGTCy\\src\\trials.jl:40\n",
       "[16] getindex(t::BenchmarkTools.Trial, i) in BenchmarkTools at D:\\.julia\\packages\\BenchmarkTools\\tGTCy\\src\\trials.jl:41\n",
       "[17] lastindex(t::BenchmarkTools.Trial) in BenchmarkTools at D:\\.julia\\packages\\BenchmarkTools\\tGTCy\\src\\trials.jl:42\n",
       "[18] length(t::BenchmarkTools.Trial) in BenchmarkTools at D:\\.julia\\packages\\BenchmarkTools\\tGTCy\\src\\trials.jl:39\n",
       "[19] maximum(trial::BenchmarkTools.Trial) in BenchmarkTools at D:\\.julia\\packages\\BenchmarkTools\\tGTCy\\src\\trials.jl:116\n",
       "[20] minimum(trial::BenchmarkTools.Trial) in BenchmarkTools at D:\\.julia\\packages\\BenchmarkTools\\tGTCy\\src\\trials.jl:111\n",
       "[21] push!(t::BenchmarkTools.Trial, time, gctime, memory, allocs) in BenchmarkTools at D:\\.julia\\packages\\BenchmarkTools\\tGTCy\\src\\trials.jl:25\n",
       "[22] show(io::IO, t::BenchmarkTools.Trial) in BenchmarkTools at D:\\.julia\\packages\\BenchmarkTools\\tGTCy\\src\\trials.jl:336\n",
       "[23] show(io::IO, ::MIME{Symbol(\"text/plain\")}, t::BenchmarkTools.Trial) in BenchmarkTools at D:\\.julia\\packages\\BenchmarkTools\\tGTCy\\src\\trials.jl:341\n",
       "[24] sort(t::BenchmarkTools.Trial) in BenchmarkTools at D:\\.julia\\packages\\BenchmarkTools\\tGTCy\\src\\trials.jl:51\n",
       "[25] sort!(t::BenchmarkTools.Trial) in BenchmarkTools at D:\\.julia\\packages\\BenchmarkTools\\tGTCy\\src\\trials.jl:44\n",
       "[26] summary(io::IO, t::BenchmarkTools.Trial) in BenchmarkTools at D:\\.julia\\packages\\BenchmarkTools\\tGTCy\\src\\trials.jl:321\n",
       "[27] time(t::BenchmarkTools.Trial) in BenchmarkTools at D:\\.julia\\packages\\BenchmarkTools\\tGTCy\\src\\trials.jl:53"
      ]
     },
     "execution_count": 3,
     "metadata": {},
     "output_type": "execute_result"
    }
   ],
   "source": [
    "methodswith(BenchmarkTools.Trial)"
   ]
  },
  {
   "cell_type": "code",
   "execution_count": 4,
   "id": "d0cd5118-cb7f-41cf-b228-e0b43f6cb15c",
   "metadata": {},
   "outputs": [
    {
     "data": {
      "text/plain": [
       "699-element Vector{Float64}:\n",
       " 6.9243e6\n",
       " 6.9245e6\n",
       " 6.9247e6\n",
       " 6.958e6\n",
       " 6.9585e6\n",
       " 6.9588e6\n",
       " 6.9588e6\n",
       " 6.9592e6\n",
       " 6.9592e6\n",
       " 6.9592e6\n",
       " 6.9592e6\n",
       " 6.9595e6\n",
       " 6.9597e6\n",
       " ⋮\n",
       " 7.8468e6\n",
       " 7.8807e6\n",
       " 7.9109e6\n",
       " 7.9271e6\n",
       " 8.0791e6\n",
       " 8.2453e6\n",
       " 8.3576e6\n",
       " 8.5318e6\n",
       " 8.6104e6\n",
       " 8.7073e6\n",
       " 9.2592e6\n",
       " 9.3386e6"
      ]
     },
     "execution_count": 4,
     "metadata": {},
     "output_type": "execute_result"
    }
   ],
   "source": [
    "b.times"
   ]
  },
  {
   "cell_type": "code",
   "execution_count": null,
   "id": "d1320b30-fff6-45c6-ad6c-0a699850bfc7",
   "metadata": {},
   "outputs": [],
   "source": []
  }
 ],
 "metadata": {
  "jupytext": {
   "formats": "ipynb,auto:hydrogen"
  },
  "kernelspec": {
   "display_name": "Julia 1.8.0-DEV",
   "language": "julia",
   "name": "julia-1.8"
  },
  "language_info": {
   "file_extension": ".jl",
   "mimetype": "application/julia",
   "name": "julia",
   "version": "1.8.0"
  }
 },
 "nbformat": 4,
 "nbformat_minor": 5
}
