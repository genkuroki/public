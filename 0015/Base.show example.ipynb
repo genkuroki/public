{
 "cells": [
  {
   "cell_type": "code",
   "execution_count": 1,
   "id": "01c96825-9937-401e-9347-dce3b352a991",
   "metadata": {},
   "outputs": [
    {
     "data": {
      "text/plain": [
       "Main.My.Hello{String}(\"Julia\")"
      ]
     },
     "execution_count": 1,
     "metadata": {},
     "output_type": "execute_result"
    }
   ],
   "source": [
    "module My\n",
    "\n",
    "struct Hello{T}\n",
    "    a::T\n",
    "end\n",
    "\n",
    "end\n",
    "\n",
    "My.Hello(\"Julia\")"
   ]
  },
  {
   "cell_type": "code",
   "execution_count": 2,
   "id": "bdb8bda9-d257-4229-8899-bd25a658db7c",
   "metadata": {},
   "outputs": [
    {
     "name": "stderr",
     "output_type": "stream",
     "text": [
      "WARNING: replacing module My.\n"
     ]
    },
    {
     "data": {
      "text/plain": [
       "Hello, \"Julia\"!"
      ]
     },
     "execution_count": 2,
     "metadata": {},
     "output_type": "execute_result"
    }
   ],
   "source": [
    "module My\n",
    "\n",
    "struct Hello{T}\n",
    "    a::T\n",
    "end\n",
    "\n",
    "function Base.show(io::IO, x::Hello)\n",
    "    print(io, \"Hello, \")\n",
    "    show(io, x.a)\n",
    "    print(io, '!')\n",
    "end\n",
    "\n",
    "end\n",
    "\n",
    "My.Hello(\"Julia\")"
   ]
  },
  {
   "cell_type": "code",
   "execution_count": 3,
   "id": "fabd0f1e-d167-43a1-a17a-4488c5c57005",
   "metadata": {},
   "outputs": [
    {
     "name": "stdout",
     "output_type": "stream",
     "text": [
      "Main.My.Hello{String}\n",
      "  a: String \"Julia\"\n"
     ]
    }
   ],
   "source": [
    "dump(My.Hello(\"Julia\"))"
   ]
  },
  {
   "cell_type": "code",
   "execution_count": 4,
   "id": "793b26d5-9a2f-4257-8ab1-f120130e1eb5",
   "metadata": {},
   "outputs": [
    {
     "data": {
      "text/plain": [
       "π = 3.1415926535897..."
      ]
     },
     "execution_count": 4,
     "metadata": {},
     "output_type": "execute_result"
    }
   ],
   "source": [
    "π"
   ]
  },
  {
   "cell_type": "code",
   "execution_count": 5,
   "id": "1399bb41-f2bb-463b-9b16-3d55c685c284",
   "metadata": {},
   "outputs": [
    {
     "data": {
      "text/plain": [
       "Hello, π!"
      ]
     },
     "execution_count": 5,
     "metadata": {},
     "output_type": "execute_result"
    }
   ],
   "source": [
    "My.Hello(π)"
   ]
  },
  {
   "cell_type": "code",
   "execution_count": 6,
   "id": "eb2a99dc-6a9d-4fd4-b5e8-7c38c79ffb08",
   "metadata": {},
   "outputs": [
    {
     "name": "stderr",
     "output_type": "stream",
     "text": [
      "WARNING: replacing module My.\n"
     ]
    },
    {
     "data": {
      "text/plain": [
       "Hello, \"Julia\"!"
      ]
     },
     "execution_count": 6,
     "metadata": {},
     "output_type": "execute_result"
    }
   ],
   "source": [
    "module My\n",
    "\n",
    "struct Hello{T}\n",
    "    a::T\n",
    "end\n",
    "\n",
    "function Base.show(io::IO, x::Hello)\n",
    "    print(io, \"Hello, \")\n",
    "    show(io, x.a)\n",
    "    print(io, '!')\n",
    "end\n",
    "\n",
    "function Base.show(io::IO, ::MIME\"text/plain\", x::Hello)\n",
    "    print(io, \"Hello, \")\n",
    "    show(io, MIME\"text/plain\"(), x.a)\n",
    "    print(io, \"!\")\n",
    "end\n",
    "\n",
    "end\n",
    "\n",
    "My.Hello(\"Julia\")"
   ]
  },
  {
   "cell_type": "code",
   "execution_count": 7,
   "id": "9c0a921f-a4d8-43b1-9e96-9652e53e80c0",
   "metadata": {},
   "outputs": [
    {
     "data": {
      "text/plain": [
       "Hello, π = 3.1415926535897...!"
      ]
     },
     "execution_count": 7,
     "metadata": {},
     "output_type": "execute_result"
    }
   ],
   "source": [
    "My.Hello(π)"
   ]
  },
  {
   "cell_type": "code",
   "execution_count": null,
   "id": "16232bbb-5cb1-45aa-a82b-e5bf3f3d6d32",
   "metadata": {},
   "outputs": [],
   "source": []
  }
 ],
 "metadata": {
  "jupytext": {
   "formats": "ipynb,auto:hydrogen"
  },
  "kernelspec": {
   "display_name": "Julia 1.8.0-DEV",
   "language": "julia",
   "name": "julia-1.8"
  },
  "language_info": {
   "file_extension": ".jl",
   "mimetype": "application/julia",
   "name": "julia",
   "version": "1.8.0"
  }
 },
 "nbformat": 4,
 "nbformat_minor": 5
}
