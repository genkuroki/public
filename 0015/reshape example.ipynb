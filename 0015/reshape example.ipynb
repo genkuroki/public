{
 "cells": [
  {
   "cell_type": "code",
   "execution_count": 1,
   "id": "30801412-2440-49a9-b41a-baa91f8219ae",
   "metadata": {},
   "outputs": [
    {
     "name": "stdout",
     "output_type": "stream",
     "text": [
      "Foo.f([1 2; 3 4]) = [2.0 4.0; 6.0 8.0]\n",
      "Foo.a = [2.0, 6.0, 4.0, 8.0]\n"
     ]
    }
   ],
   "source": [
    "module Foo\n",
    "\n",
    "const a = Float64[]\n",
    "\n",
    "function prepare_workspace(m::Integer...)\n",
    "    resize!(a, prod(m))\n",
    "    reshape(a, m)\n",
    "end\n",
    "\n",
    "prepare_workspace(x::AbstractArray) = prepare_workspace(size(x)...)\n",
    "\n",
    "function f(x)\n",
    "    ws = prepare_workspace(x)\n",
    "    ws .= 2x\n",
    "end\n",
    "\n",
    "end\n",
    "\n",
    "@show Foo.f([1 2; 3 4])\n",
    "@show Foo.a;"
   ]
  },
  {
   "cell_type": "code",
   "execution_count": null,
   "id": "5dee022a-9647-468a-a55f-4bfd6a01f30d",
   "metadata": {},
   "outputs": [],
   "source": []
  }
 ],
 "metadata": {
  "jupytext": {
   "formats": "ipynb,auto:hydrogen"
  },
  "kernelspec": {
   "display_name": "Julia 1.8.0-DEV",
   "language": "julia",
   "name": "julia-1.8"
  },
  "language_info": {
   "file_extension": ".jl",
   "mimetype": "application/julia",
   "name": "julia",
   "version": "1.8.0"
  }
 },
 "nbformat": 4,
 "nbformat_minor": 5
}
