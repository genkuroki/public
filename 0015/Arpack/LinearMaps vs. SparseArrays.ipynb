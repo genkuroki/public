{
 "cells": [
  {
   "cell_type": "code",
   "execution_count": 1,
   "id": "332a1dc9-cb9d-40ba-893b-52bb0267ee18",
   "metadata": {},
   "outputs": [
    {
     "data": {
      "text/plain": [
       "f_exact (generic function with 1 method)"
      ]
     },
     "execution_count": 1,
     "metadata": {},
     "output_type": "execute_result"
    }
   ],
   "source": [
    "using LinearAlgebra\n",
    "using LoopVectorization\n",
    "using LinearMaps\n",
    "using ArnoldiMethod\n",
    "\n",
    "function prepareDiag(L)\n",
    "    diag = zeros(2^L)\n",
    "    for state = 1:2^L\n",
    "        for i = 1:L\n",
    "            j = i==L ? 1 : i+1\n",
    "            @inbounds diag[state] -= (((state >> (i-1))&1) == ((state >> (j-1))&1)) ? 1 : -1\n",
    "        end\n",
    "    end\n",
    "    diag\n",
    "end\n",
    "    \n",
    "function Hfunc!(C, B, diag, L)\n",
    "    N = length(diag)\n",
    "    @tturbo for state = 1:N\n",
    "        C[state] = diag[state] * B[state]\n",
    "    end\n",
    "    for i = 1:L\n",
    "        @tturbo for state = 1:N\n",
    "            newstate = (state&(~(2^L))) ⊻ (1<<(i-1))\n",
    "            c = newstate == 0\n",
    "            newstate = !c*newstate + c*N # remove if statement\n",
    "            C[newstate] -= B[state]\n",
    "        end\n",
    "    end\n",
    "end\n",
    "prepareHfunc!(L) = (C, B) -> Hfunc!(C, B, prepareDiag(L), L)\n",
    "\n",
    "function f_LinearMap(L)\n",
    "    H! = prepareHfunc!(L)\n",
    "    H_LinearMap = LinearMap(H!, 2^L, ismutating=true, issymmetric=true, isposdef=false)\n",
    "    d_LM, h_LM = partialschur(H_LinearMap, nev=1, which=SR())\n",
    "    d_LM.eigenvalues[1]\n",
    "end\n",
    "\n",
    "f_exact(L) = -2sum(abs(sin((n-1/2) * pi/L)) for n in 1:L)"
   ]
  },
  {
   "cell_type": "code",
   "execution_count": 7,
   "id": "7071f752-782e-40a4-8cc3-dca4037c6316",
   "metadata": {},
   "outputs": [
    {
     "data": {
      "text/plain": [
       "f_sparse (generic function with 1 method)"
      ]
     },
     "execution_count": 7,
     "metadata": {},
     "output_type": "execute_result"
    }
   ],
   "source": [
    "# https://juliaphysics.github.io/PhysicsTutorials.jl/tutorials/general/quantum_ising/quantum_ising.html\n",
    "\n",
    "using SparseArrays\n",
    "using ArnoldiMethod\n",
    "⊗(x,y) = kron(x,y)\n",
    "\n",
    "function TransverseFieldIsing_sparse(;N,h)\n",
    "    id = [1 0; 0 1] |> sparse\n",
    "    σˣ = [0 1; 1 0] |> sparse\n",
    "    σᶻ = [1 0; 0 -1] |> sparse\n",
    "    \n",
    "    first_term_ops = fill(id, N)\n",
    "    first_term_ops[1] = σᶻ\n",
    "    first_term_ops[2] = σᶻ\n",
    "    \n",
    "    second_term_ops = fill(id, N)\n",
    "    second_term_ops[1] = σˣ\n",
    "    \n",
    "    H = spzeros(Int, 2^N, 2^N) # note the spzeros instead of zeros here\n",
    "    #for i in 1:N-1\n",
    "    for i in 1:N # periodic boundary condition\n",
    "        H -= foldl(⊗, first_term_ops)\n",
    "        first_term_ops = circshift(first_term_ops,1)\n",
    "    end\n",
    "    \n",
    "    for i in 1:N\n",
    "        H -= h*foldl(⊗, second_term_ops)\n",
    "        second_term_ops = circshift(second_term_ops,1)\n",
    "    end\n",
    "    H\n",
    "end\n",
    "\n",
    "function f_sparse(L)\n",
    "    H = TransverseFieldIsing_sparse(N=L, h=1)\n",
    "    d, h = partialschur(H; nev=1, which=SR())\n",
    "    d.eigenvalues[1]\n",
    "end"
   ]
  },
  {
   "cell_type": "code",
   "execution_count": 3,
   "id": "6349527c-64eb-4f3d-b062-94d85c95f88e",
   "metadata": {},
   "outputs": [
    {
     "data": {
      "text/plain": [
       "-25.49098968636475"
      ]
     },
     "execution_count": 3,
     "metadata": {},
     "output_type": "execute_result"
    }
   ],
   "source": [
    "f_exact(20)"
   ]
  },
  {
   "cell_type": "code",
   "execution_count": 4,
   "id": "a64d1ba7-5b23-4108-bc53-e1a25b1ca090",
   "metadata": {},
   "outputs": [
    {
     "name": "stdout",
     "output_type": "stream",
     "text": [
      "  8.176899 seconds (92.59 k allocations: 973.226 MiB, 3.00% gc time)\n",
      "  7.878416 seconds (620 allocations: 968.031 MiB, 0.44% gc time)\n"
     ]
    },
    {
     "data": {
      "text/plain": [
       "-25.490989686364784 + 0.0im"
      ]
     },
     "execution_count": 4,
     "metadata": {},
     "output_type": "execute_result"
    }
   ],
   "source": [
    "@time f_LinearMap(20)\n",
    "@time f_LinearMap(20)"
   ]
  },
  {
   "cell_type": "code",
   "execution_count": 5,
   "id": "27203092-a164-4a0e-91a6-cd89c5e94091",
   "metadata": {},
   "outputs": [
    {
     "name": "stdout",
     "output_type": "stream",
     "text": [
      " 10.483391 seconds (4.72 k allocations: 7.038 GiB, 6.81% gc time)\n",
      " 10.396778 seconds (4.72 k allocations: 7.038 GiB, 5.98% gc time)\n"
     ]
    },
    {
     "data": {
      "text/plain": [
       "-25.49098968636471 + 0.0im"
      ]
     },
     "execution_count": 5,
     "metadata": {},
     "output_type": "execute_result"
    }
   ],
   "source": [
    "@time f_sparse(20)\n",
    "@time f_sparse(20)"
   ]
  },
  {
   "cell_type": "code",
   "execution_count": 6,
   "id": "0420e9fb-4fa3-4159-9e74-43a4d9d805f1",
   "metadata": {},
   "outputs": [
    {
     "name": "stdout",
     "output_type": "stream",
     "text": [
      "  3.827107 seconds (4.66 k allocations: 6.718 GiB, 22.51% gc time)\n",
      "  7.067865 seconds (248 allocations: 328.026 MiB, 1.34% gc time, 0.23% compilation time)\n"
     ]
    },
    {
     "data": {
      "text/plain": [
       "(ArnoldiMethod.PartialSchur{SubArray{Float64, 2, Matrix{Float64}, Tuple{Base.Slice{Base.OneTo{Int64}}, UnitRange{Int64}}, true}, SubArray{Float64, 2, Matrix{Float64}, Tuple{UnitRange{Int64}, UnitRange{Int64}}, false}, ComplexF64}([0.23608646324993104; 0.06481741688770436; … ; 0.06481741672801705; 0.2360864632028416;;], [-25.490989686364795;;], ComplexF64[-25.490989686364795 + 0.0im]), \u001b[32mConverged\u001b[39m: 1 of 1 eigenvalues in 80 matrix-vector products)"
      ]
     },
     "execution_count": 6,
     "metadata": {},
     "output_type": "execute_result"
    }
   ],
   "source": [
    "@time H = TransverseFieldIsing_sparse(N=20, h=1)\n",
    "@time d, h = partialschur(H; nev=1, which=SR())"
   ]
  },
  {
   "cell_type": "code",
   "execution_count": null,
   "id": "7765f861-6487-4d9d-89e3-2c1f99fec788",
   "metadata": {},
   "outputs": [],
   "source": []
  }
 ],
 "metadata": {
  "jupytext": {
   "formats": "ipynb,auto:hydrogen"
  },
  "kernelspec": {
   "display_name": "Julia 1.8.0-DEV",
   "language": "julia",
   "name": "julia-1.8"
  },
  "language_info": {
   "file_extension": ".jl",
   "mimetype": "application/julia",
   "name": "julia",
   "version": "1.8.0"
  }
 },
 "nbformat": 4,
 "nbformat_minor": 5
}
