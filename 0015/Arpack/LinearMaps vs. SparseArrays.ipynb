{
 "cells": [
  {
   "cell_type": "code",
   "execution_count": 1,
   "id": "332a1dc9-cb9d-40ba-893b-52bb0267ee18",
   "metadata": {},
   "outputs": [
    {
     "data": {
      "text/plain": [
       "f_exact (generic function with 1 method)"
      ]
     },
     "execution_count": 1,
     "metadata": {},
     "output_type": "execute_result"
    }
   ],
   "source": [
    "using LinearAlgebra\n",
    "using LoopVectorization\n",
    "using LinearMaps\n",
    "using ArnoldiMethod\n",
    "\n",
    "function prepareDiag(L)\n",
    "    diag = zeros(2^L)\n",
    "    for state = 1:2^L\n",
    "        for i = 1:L\n",
    "            j = i==L ? 1 : i+1\n",
    "            @inbounds diag[state] -= (((state >> (i-1))&1) == ((state >> (j-1))&1)) ? 1 : -1\n",
    "        end\n",
    "    end\n",
    "    diag\n",
    "end\n",
    "    \n",
    "function Hfunc!(C, B, diag, L)\n",
    "    N = length(diag)\n",
    "    @tturbo for state = 1:N\n",
    "        C[state] = diag[state] * B[state]\n",
    "    end\n",
    "    for i = 1:L\n",
    "        @tturbo for state = 1:N\n",
    "            newstate = (state&(~(2^L))) ⊻ (1<<(i-1))\n",
    "            c = newstate == 0\n",
    "            newstate = !c*newstate + c*N # remove if statement\n",
    "            C[newstate] -= B[state]\n",
    "        end\n",
    "    end\n",
    "end\n",
    "prepareHfunc!(L) = (C, B) -> Hfunc!(C, B, prepareDiag(L), L)\n",
    "\n",
    "function f_LinearMap(L)\n",
    "    H_LinearMap = LinearMap(prepareHfunc!(L), 2^L, ismutating=true, issymmetric=true, isposdef=false)\n",
    "    d_LM, h_LM = partialschur(H_LinearMap, nev=1, which=SR())\n",
    "    d_LM.eigenvalues[1]\n",
    "end\n",
    "\n",
    "f_exact(L) = -2sum(abs(sin((n-1/2) * pi/L)) for n in 1:L)"
   ]
  },
  {
   "cell_type": "code",
   "execution_count": 2,
   "id": "7071f752-782e-40a4-8cc3-dca4037c6316",
   "metadata": {},
   "outputs": [
    {
     "data": {
      "text/plain": [
       "f_sparse (generic function with 1 method)"
      ]
     },
     "execution_count": 2,
     "metadata": {},
     "output_type": "execute_result"
    }
   ],
   "source": [
    "# https://juliaphysics.github.io/PhysicsTutorials.jl/tutorials/general/quantum_ising/quantum_ising.html\n",
    "\n",
    "using LinearAlgebra\n",
    "using SparseArrays\n",
    "using ArnoldiMethod\n",
    "⊗(x,y) = kron(x,y)\n",
    "\n",
    "function TransverseFieldIsing_sparse(;N,h)\n",
    "    id = [1 0; 0 1] |> sparse\n",
    "    σˣ = [0 1; 1 0] |> sparse\n",
    "    σᶻ = [1 0; 0 -1] |> sparse\n",
    "    \n",
    "    first_term_ops = fill(id, N)\n",
    "    first_term_ops[1] = σᶻ\n",
    "    first_term_ops[2] = σᶻ\n",
    "    \n",
    "    second_term_ops = fill(id, N)\n",
    "    second_term_ops[1] = σˣ\n",
    "    \n",
    "    H = spzeros(Int, 2^N, 2^N) # note the spzeros instead of zeros here\n",
    "    #for i in 1:N-1\n",
    "    for i in 1:N # periodic boundary condition\n",
    "        H -= foldl(⊗, first_term_ops)\n",
    "        first_term_ops = circshift(first_term_ops,1)\n",
    "    end\n",
    "    \n",
    "    for i in 1:N\n",
    "        H -= h*foldl(⊗, second_term_ops)\n",
    "        second_term_ops = circshift(second_term_ops,1)\n",
    "    end\n",
    "    H\n",
    "end\n",
    "\n",
    "function f_sparse(L)\n",
    "    H = TransverseFieldIsing_sparse(N=L, h=1)\n",
    "    d, h = partialschur(H; nev=1, which=SR())\n",
    "    d.eigenvalues[1]\n",
    "end"
   ]
  },
  {
   "cell_type": "code",
   "execution_count": 3,
   "id": "6349527c-64eb-4f3d-b062-94d85c95f88e",
   "metadata": {},
   "outputs": [
    {
     "data": {
      "text/plain": [
       "-25.49098968636475"
      ]
     },
     "execution_count": 3,
     "metadata": {},
     "output_type": "execute_result"
    }
   ],
   "source": [
    "f_exact(20)"
   ]
  },
  {
   "cell_type": "code",
   "execution_count": 4,
   "id": "a64d1ba7-5b23-4108-bc53-e1a25b1ca090",
   "metadata": {},
   "outputs": [
    {
     "name": "stdout",
     "output_type": "stream",
     "text": [
      "  8.097473 seconds (92.59 k allocations: 973.225 MiB, 2.82% gc time)\n",
      "  8.033746 seconds (615 allocations: 968.031 MiB, 2.75% gc time)\n"
     ]
    },
    {
     "data": {
      "text/plain": [
       "-25.490989686364806 + 0.0im"
      ]
     },
     "execution_count": 4,
     "metadata": {},
     "output_type": "execute_result"
    }
   ],
   "source": [
    "@time f_LinearMap(20)\n",
    "@time f_LinearMap(20)"
   ]
  },
  {
   "cell_type": "code",
   "execution_count": 5,
   "id": "27203092-a164-4a0e-91a6-cd89c5e94091",
   "metadata": {},
   "outputs": [
    {
     "name": "stdout",
     "output_type": "stream",
     "text": [
      " 10.785176 seconds (4.72 k allocations: 7.038 GiB, 5.51% gc time)\n",
      " 11.085410 seconds (4.72 k allocations: 7.038 GiB, 7.18% gc time)\n"
     ]
    },
    {
     "data": {
      "text/plain": [
       "-25.4909896863647 + 0.0im"
      ]
     },
     "execution_count": 5,
     "metadata": {},
     "output_type": "execute_result"
    }
   ],
   "source": [
    "@time f_sparse(20)\n",
    "@time f_sparse(20)"
   ]
  },
  {
   "cell_type": "code",
   "execution_count": 6,
   "id": "0420e9fb-4fa3-4159-9e74-43a4d9d805f1",
   "metadata": {},
   "outputs": [
    {
     "name": "stdout",
     "output_type": "stream",
     "text": [
      "  2.898631 seconds (4.66 k allocations: 6.718 GiB, 16.42% gc time)\n",
      "  7.037959 seconds (243 allocations: 328.025 MiB, 0.34% gc time, 0.19% compilation time)\n"
     ]
    },
    {
     "data": {
      "text/plain": [
       "(ArnoldiMethod.PartialSchur{SubArray{Float64, 2, Matrix{Float64}, Tuple{Base.Slice{Base.OneTo{Int64}}, UnitRange{Int64}}, true}, SubArray{Float64, 2, Matrix{Float64}, Tuple{UnitRange{Int64}, UnitRange{Int64}}, false}, ComplexF64}([-0.23608646317649218; -0.0648174167327405; … ; -0.0648174168866638; -0.23608646334949165;;], [-25.4909896863647;;], ComplexF64[-25.4909896863647 + 0.0im]), \u001b[32mConverged\u001b[39m: 1 of 1 eigenvalues in 80 matrix-vector products)"
      ]
     },
     "execution_count": 6,
     "metadata": {},
     "output_type": "execute_result"
    }
   ],
   "source": [
    "@time H = TransverseFieldIsing_sparse(N=20, h=1)\n",
    "@time d, h = partialschur(H; nev=1, which=SR())"
   ]
  },
  {
   "cell_type": "code",
   "execution_count": 7,
   "id": "7765f861-6487-4d9d-89e3-2c1f99fec788",
   "metadata": {},
   "outputs": [
    {
     "name": "stdout",
     "output_type": "stream",
     "text": [
      "  0.004856 seconds (81 allocations: 665.359 KiB)\n",
      "  0.003592 seconds (78 allocations: 664.953 KiB)\n"
     ]
    },
    {
     "data": {
      "text/plain": [
       "-12.784906442999326 + 0.0im"
      ]
     },
     "execution_count": 7,
     "metadata": {},
     "output_type": "execute_result"
    }
   ],
   "source": [
    "@time f_LinearMap(10)\n",
    "@time f_LinearMap(10)"
   ]
  },
  {
   "cell_type": "code",
   "execution_count": 8,
   "id": "b0979cde-dfc6-4771-a734-9c7e1f0f1dd1",
   "metadata": {},
   "outputs": [
    {
     "name": "stdout",
     "output_type": "stream",
     "text": [
      "  0.005913 seconds (1.15 k allocations: 3.037 MiB)\n",
      "  0.005827 seconds (1.15 k allocations: 3.037 MiB)\n"
     ]
    },
    {
     "data": {
      "text/plain": [
       "-12.784906442999327 + 0.0im"
      ]
     },
     "execution_count": 8,
     "metadata": {},
     "output_type": "execute_result"
    }
   ],
   "source": [
    "@time f_sparse(10)\n",
    "@time f_sparse(10)"
   ]
  },
  {
   "cell_type": "code",
   "execution_count": 9,
   "id": "b87ae004-5703-4f9c-bd4f-6ab0bbb00de5",
   "metadata": {},
   "outputs": [
    {
     "name": "stdout",
     "output_type": "stream",
     "text": [
      "  0.018664 seconds (25.96 k allocations: 1.478 MiB, 99.93% compilation time)\n",
      "  0.009178 seconds (212 allocations: 672.875 KiB, 49.23% compilation time)\n",
      "  0.003642 seconds (87 allocations: 666.062 KiB)\n"
     ]
    },
    {
     "data": {
      "text/plain": [
       "(ArnoldiMethod.PartialSchur{SubArray{Float64, 2, Matrix{Float64}, Tuple{Base.Slice{Base.OneTo{Int64}}, UnitRange{Int64}}, true}, SubArray{Float64, 2, Matrix{Float64}, Tuple{UnitRange{Int64}, UnitRange{Int64}}, false}, ComplexF64}([0.11434387837217815; 0.11434387995844354; … ; 0.4105842730085417; 0.4105842766790208;;], [-12.78490644299935;;], ComplexF64[-12.78490644299935 + 0.0im]), \u001b[32mConverged\u001b[39m: 1 of 1 eigenvalues in 40 matrix-vector products)"
      ]
     },
     "execution_count": 9,
     "metadata": {},
     "output_type": "execute_result"
    }
   ],
   "source": [
    "L = 10\n",
    "@time H_LM = LinearMap(prepareHfunc!(L), 2^L, ismutating=true, issymmetric=true, isposdef=false)\n",
    "@time d_LM, h_LM = partialschur(H_LM, nev=1, which=SR())\n",
    "@time d_LM, h_LM = partialschur(H_LM, nev=1, which=SR())"
   ]
  },
  {
   "cell_type": "code",
   "execution_count": 10,
   "id": "cd116aad-27de-449b-85ce-fd96859b4b79",
   "metadata": {},
   "outputs": [
    {
     "name": "stdout",
     "output_type": "stream",
     "text": [
      "  0.001126 seconds (1.11 k allocations: 2.705 MiB)\n",
      "  0.004603 seconds (49 allocations: 341.438 KiB)\n",
      "  0.002675 seconds (48 allocations: 341.141 KiB)\n"
     ]
    },
    {
     "data": {
      "text/plain": [
       "(ArnoldiMethod.PartialSchur{SubArray{Float64, 2, Matrix{Float64}, Tuple{Base.Slice{Base.OneTo{Int64}}, UnitRange{Int64}}, true}, SubArray{Float64, 2, Matrix{Float64}, Tuple{UnitRange{Int64}, UnitRange{Int64}}, false}, ComplexF64}([-0.41058427652986995; -0.11434388133853843; … ; -0.11434387984736308; -0.41058427284523213;;], [-12.784906442999334;;], ComplexF64[-12.784906442999334 + 0.0im]), \u001b[32mConverged\u001b[39m: 1 of 1 eigenvalues in 40 matrix-vector products)"
      ]
     },
     "execution_count": 10,
     "metadata": {},
     "output_type": "execute_result"
    }
   ],
   "source": [
    "@time H_sparse = TransverseFieldIsing_sparse(N=10, h=1)\n",
    "@time d, h = partialschur(H_sparse; nev=1, which=SR())\n",
    "@time d, h = partialschur(H_sparse; nev=1, which=SR())"
   ]
  },
  {
   "cell_type": "code",
   "execution_count": 16,
   "id": "2d61b2b2-50a2-4e12-ba63-19fba962f4c3",
   "metadata": {},
   "outputs": [
    {
     "name": "stdout",
     "output_type": "stream",
     "text": [
      "L = 10\n",
      "LinearMaps:\n",
      "  223.396 ns (6 allocations: 128 bytes)\n",
      "  3.401 ms (74 allocations: 664.31 KiB)\n",
      "SparseArrays:\n",
      "  697.200 μs (1113 allocations: 2.70 MiB)\n",
      "  2.506 ms (36 allocations: 339.52 KiB)\n"
     ]
    }
   ],
   "source": [
    "using BenchmarkTools\n",
    "\n",
    "L = 10\n",
    "@show L\n",
    "println(\"LinearMaps:\")\n",
    "H_LM = @btime LinearMap(prepareHfunc!(L), 2^L, ismutating=true, issymmetric=true, isposdef=false)\n",
    "@btime d_LM, h_LM = partialschur($H_LM, nev=1, which=$(SR()))\n",
    "println(\"SparseArrays:\")\n",
    "H_sparse = @btime TransverseFieldIsing_sparse(N=L, h=1)\n",
    "@btime d, h = partialschur($H_sparse; nev=1, which=$(SR()));"
   ]
  },
  {
   "cell_type": "code",
   "execution_count": 17,
   "id": "fcfb856e-00ba-45e2-ac56-e5ac24a8ab54",
   "metadata": {},
   "outputs": [
    {
     "name": "stdout",
     "output_type": "stream",
     "text": [
      "L = 20\n",
      "LinearMaps:\n",
      "  216.667 ns (6 allocations: 128 bytes)\n",
      "  7.770 s (621 allocations: 968.03 MiB)\n",
      "SparseArrays:\n",
      "  3.289 s (4664 allocations: 6.72 GiB)\n",
      "  6.736 s (56 allocations: 328.01 MiB)\n"
     ]
    }
   ],
   "source": [
    "using BenchmarkTools\n",
    "\n",
    "L = 20\n",
    "@show L\n",
    "println(\"LinearMaps:\")\n",
    "H_LM = @btime LinearMap(prepareHfunc!(L), 2^L, ismutating=true, issymmetric=true, isposdef=false)\n",
    "@btime d_LM, h_LM = partialschur($H_LM, nev=1, which=$(SR()))\n",
    "println(\"SparseArrays:\")\n",
    "H_sparse = @btime TransverseFieldIsing_sparse(N=L, h=1)\n",
    "@btime d, h = partialschur($H_sparse; nev=1, which=$(SR()));"
   ]
  },
  {
   "cell_type": "code",
   "execution_count": null,
   "id": "8017f662-fec3-4c1b-a12b-1e4ed864571e",
   "metadata": {},
   "outputs": [],
   "source": []
  }
 ],
 "metadata": {
  "jupytext": {
   "encoding": "# -*- coding: utf-8 -*-",
   "formats": "ipynb,jl:hydrogen"
  },
  "kernelspec": {
   "display_name": "Julia 1.8.0-DEV",
   "language": "julia",
   "name": "julia-1.8"
  },
  "language_info": {
   "file_extension": ".jl",
   "mimetype": "application/julia",
   "name": "julia",
   "version": "1.8.0"
  }
 },
 "nbformat": 4,
 "nbformat_minor": 5
}
