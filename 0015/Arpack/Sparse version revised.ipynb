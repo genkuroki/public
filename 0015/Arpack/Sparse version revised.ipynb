{
 "cells": [
  {
   "cell_type": "markdown",
   "id": "d8fd03d5-b4e4-48c7-93f5-8d858b333626",
   "metadata": {},
   "source": [
    "https://twitter.com/yujitach/status/1424030835771023363"
   ]
  },
  {
   "cell_type": "code",
   "execution_count": 1,
   "id": "6efeeda8-5250-46d4-ae00-5f06861e0729",
   "metadata": {},
   "outputs": [
    {
     "data": {
      "text/plain": [
       "(-25.490989686364657 + 0.0im, -25.49098968636475)"
      ]
     },
     "execution_count": 1,
     "metadata": {},
     "output_type": "execute_result"
    }
   ],
   "source": [
    "using LinearAlgebra\n",
    "using LoopVectorization\n",
    "using LinearMaps\n",
    "using ArnoldiMethod\n",
    "\n",
    "function prepareDiag(L)\n",
    "    diag = zeros(2^L)\n",
    "    for state = 1:2^L\n",
    "        for i = 1:L\n",
    "            j = i==L ? 1 : i+1\n",
    "            @inbounds diag[state] -= (((state >> (i-1))&1) == ((state >> (j-1))&1)) ? 1 : -1\n",
    "        end\n",
    "    end\n",
    "    diag\n",
    "end\n",
    "    \n",
    "function Hfunc!(C, B, diag, L)\n",
    "    N = length(diag)\n",
    "    @tturbo for state = 1:N\n",
    "        C[state] = diag[state] * B[state]\n",
    "    end\n",
    "    for i = 1:L\n",
    "        @tturbo for state = 1:N\n",
    "            newstate = (state&(~(2^L))) ⊻ (1<<(i-1))\n",
    "            c = newstate == 0\n",
    "            newstate = !c*newstate + c*N # remove if statement\n",
    "            C[newstate] -= B[state]\n",
    "        end\n",
    "    end\n",
    "end\n",
    "prepareHfunc!(L) = (C, B) -> Hfunc!(C, B, prepareDiag(L), L)\n",
    "\n",
    "function f_LinearMap(L)\n",
    "    H_LinearMap = LinearMap(prepareHfunc!(L), 2^L, ismutating=true, issymmetric=true, isposdef=false)\n",
    "    d_LM, h_LM = partialschur(H_LinearMap, nev=1, which=SR())\n",
    "    d_LM.eigenvalues[1]\n",
    "end\n",
    "\n",
    "f_exact(L) = -2sum(abs(sin((n-1/2) * pi/L)) for n in 1:L)\n",
    "\n",
    "f_LinearMap(20), f_exact(20)"
   ]
  },
  {
   "cell_type": "code",
   "execution_count": 2,
   "id": "e0a4f082-4f1e-4834-a1db-2b30ddf32bd8",
   "metadata": {},
   "outputs": [
    {
     "name": "stdout",
     "output_type": "stream",
     "text": [
      "  6.998082 seconds (614 allocations: 968.031 MiB, 0.47% gc time)\n",
      "  7.010990 seconds (618 allocations: 968.031 MiB, 1.15% gc time)\n",
      "  7.056832 seconds (621 allocations: 968.032 MiB, 0.82% gc time)\n"
     ]
    },
    {
     "data": {
      "text/plain": [
       "-25.490989686364767 + 0.0im"
      ]
     },
     "execution_count": 2,
     "metadata": {},
     "output_type": "execute_result"
    }
   ],
   "source": [
    "@time f_LinearMap(20)\n",
    "@time f_LinearMap(20)\n",
    "@time f_LinearMap(20)"
   ]
  },
  {
   "cell_type": "markdown",
   "id": "61d978d2-17c3-4201-b113-bd1ee9917d39",
   "metadata": {},
   "source": [
    "https://juliaphysics.github.io/PhysicsTutorials.jl/tutorials/general/quantum_ising/quantum_ising.html"
   ]
  },
  {
   "cell_type": "code",
   "execution_count": 3,
   "id": "2b1840ac-269e-4f0b-b107-7ece0ca9b6cf",
   "metadata": {},
   "outputs": [
    {
     "data": {
      "text/plain": [
       "(-25.49098968636474 + 0.0im, -25.49098968636475)"
      ]
     },
     "execution_count": 3,
     "metadata": {},
     "output_type": "execute_result"
    }
   ],
   "source": [
    "using LinearAlgebra\n",
    "using SparseArrays\n",
    "using ArnoldiMethod\n",
    "⊗(x,y) = kron(x,y)\n",
    "\n",
    "function TransverseFieldIsing_sparse(;N,h)\n",
    "    id = [1 0; 0 1] |> sparse\n",
    "    σˣ = [0 1; 1 0] |> sparse\n",
    "    σᶻ = [1 0; 0 -1] |> sparse\n",
    "    \n",
    "    first_term_ops = fill(id, N)\n",
    "    first_term_ops[1] = σᶻ\n",
    "    first_term_ops[2] = σᶻ\n",
    "    \n",
    "    second_term_ops = fill(id, N)\n",
    "    second_term_ops[1] = σˣ\n",
    "    \n",
    "    H = spzeros(Int, 2^N, 2^N)\n",
    "    for i in 1:N\n",
    "        H -= foldl(⊗, first_term_ops)\n",
    "        first_term_ops = circshift(first_term_ops,1)\n",
    "    end\n",
    "    \n",
    "    for i in 1:N\n",
    "        H -= h*foldl(⊗, second_term_ops)\n",
    "        second_term_ops = circshift(second_term_ops,1)\n",
    "    end\n",
    "    H\n",
    "end\n",
    "\n",
    "function f_sparse(L)\n",
    "    H = TransverseFieldIsing_sparse(N=L, h=1)\n",
    "    d, h = partialschur(H; nev=1, which=SR())\n",
    "    d.eigenvalues[1]\n",
    "end\n",
    "\n",
    "f_exact(L) = -2sum(abs(sin((n-1/2) * pi/L)) for n in 1:L)\n",
    "\n",
    "f_sparse(20), f_exact(20)"
   ]
  },
  {
   "cell_type": "code",
   "execution_count": 4,
   "id": "9f90e1bd-6b7b-4d8b-b8ff-799697b86a36",
   "metadata": {},
   "outputs": [
    {
     "name": "stdout",
     "output_type": "stream",
     "text": [
      "  2.954490 seconds (4.75 k allocations: 6.718 GiB, 15.25% gc time, 0.28% compilation time)\n",
      "  6.425090 seconds (246 allocations: 328.026 MiB, 0.43% gc time, 0.21% compilation time)\n"
     ]
    },
    {
     "data": {
      "text/plain": [
       "(ArnoldiMethod.PartialSchur{SubArray{Float64, 2, Matrix{Float64}, Tuple{Base.Slice{Base.OneTo{Int64}}, UnitRange{Int64}}, true}, SubArray{Float64, 2, Matrix{Float64}, Tuple{UnitRange{Int64}, UnitRange{Int64}}, false}, ComplexF64}([-0.23608646331041197; -0.06481741688439337; … ; -0.06481741680178926; -0.23608646323348847;;], [-25.49098968636478;;], ComplexF64[-25.49098968636478 + 0.0im]), \u001b[32mConverged\u001b[39m: 1 of 1 eigenvalues in 80 matrix-vector products)"
      ]
     },
     "execution_count": 4,
     "metadata": {},
     "output_type": "execute_result"
    }
   ],
   "source": [
    "L = 20\n",
    "@time H = TransverseFieldIsing_sparse(N=L, h=1)\n",
    "@time d, h = partialschur(H; nev=1, which=SR())"
   ]
  },
  {
   "cell_type": "code",
   "execution_count": 5,
   "id": "2b82e905-f10b-42ed-8b91-c5d51e75198a",
   "metadata": {},
   "outputs": [
    {
     "name": "stdout",
     "output_type": "stream",
     "text": [
      "  3.025552 seconds (4.66 k allocations: 6.718 GiB, 18.19% gc time)\n",
      "  6.172042 seconds (70 allocations: 328.017 MiB)\n"
     ]
    },
    {
     "data": {
      "text/plain": [
       "(ArnoldiMethod.PartialSchur{SubArray{Float64, 2, Matrix{Float64}, Tuple{Base.Slice{Base.OneTo{Int64}}, UnitRange{Int64}}, true}, SubArray{Float64, 2, Matrix{Float64}, Tuple{UnitRange{Int64}, UnitRange{Int64}}, false}, ComplexF64}([0.23608646320973226; 0.06481741675939662; … ; 0.06481741678115605; 0.23608646324381535;;], [-25.490989686364703;;], ComplexF64[-25.490989686364703 + 0.0im]), \u001b[32mConverged\u001b[39m: 1 of 1 eigenvalues in 80 matrix-vector products)"
      ]
     },
     "execution_count": 5,
     "metadata": {},
     "output_type": "execute_result"
    }
   ],
   "source": [
    "L = 20\n",
    "@time H = TransverseFieldIsing_sparse(N=L, h=1)\n",
    "@time d, h = partialschur(H; nev=1, which=SR())"
   ]
  },
  {
   "cell_type": "code",
   "execution_count": 6,
   "id": "cda1aff2-dad9-4f0d-85c5-02612a38ecc7",
   "metadata": {},
   "outputs": [
    {
     "name": "stdout",
     "output_type": "stream",
     "text": [
      "  3.009844 seconds (4.66 k allocations: 6.718 GiB, 17.19% gc time)\n",
      "  6.855470 seconds (71 allocations: 328.017 MiB)\n"
     ]
    },
    {
     "data": {
      "text/plain": [
       "(ArnoldiMethod.PartialSchur{SubArray{Float64, 2, Matrix{Float64}, Tuple{Base.Slice{Base.OneTo{Int64}}, UnitRange{Int64}}, true}, SubArray{Float64, 2, Matrix{Float64}, Tuple{UnitRange{Int64}, UnitRange{Int64}}, false}, ComplexF64}([0.23608646305480757; 0.06481741675765908; … ; 0.06481741682791009; 0.23608646341856734;;], [-25.490989686364745;;], ComplexF64[-25.490989686364745 + 0.0im]), \u001b[32mConverged\u001b[39m: 1 of 1 eigenvalues in 80 matrix-vector products)"
      ]
     },
     "execution_count": 6,
     "metadata": {},
     "output_type": "execute_result"
    }
   ],
   "source": [
    "L = 20\n",
    "@time H = TransverseFieldIsing_sparse(N=L, h=1)\n",
    "@time d, h = partialschur(H; nev=1, which=SR())"
   ]
  },
  {
   "cell_type": "code",
   "execution_count": 7,
   "id": "74d66c89-018f-4fa1-b07a-7f5d6a374eda",
   "metadata": {},
   "outputs": [
    {
     "data": {
      "text/plain": [
       "1048576×1048576 SparseMatrixCSC{Int64, Int64} with 21650584 stored entries:\n",
       "⣿⣿⣾⢦⡀⠳⣄⠀⠀⠀⠳⣄⠀⠀⠀⠀⠀⠀⠀⠀⠳⣄⠀⠀⠀⠀⠀⠀⠀⠀⠀⠀⠀⠀⠀⠀⠀⠀⠀⠀\n",
       "⠺⣟⢻⣶⣿⡂⠈⠳⣄⠀⠀⠈⠳⣄⠀⠀⠀⠀⠀⠀⠀⠈⠳⣄⠀⠀⠀⠀⠀⠀⠀⠀⠀⠀⠀⠀⠀⠀⠀⠀\n",
       "⢤⡈⠻⠻⠿⣧⣤⣠⡈⠳⠄⠀⠀⠈⠳⣄⠀⠀⠀⠀⠀⠀⠀⠈⠳⣄⠀⠀⠀⠀⠀⠀⠀⠀⠀⠀⠀⠀⠀⠀\n",
       "⠀⠙⢦⡀⠀⣻⣿⣿⣙⣦⡀⠀⠀⠀⠀⠈⠳⣄⠀⠀⠀⠀⠀⠀⠀⠈⠳⣄⠀⠀⠀⠀⠀⠀⠀⠀⠀⠀⠀⠀\n",
       "⠀⠀⠀⠙⢦⡈⠳⣼⣿⣿⡆⠀⠀⠀⠀⠀⠀⠈⠳⣄⠀⠀⠀⠀⠀⠀⠀⠈⠳⣄⠀⠀⠀⠀⠀⠀⠀⠀⠀⠀\n",
       "⠙⢦⡀⠀⠀⠁⠀⠈⠈⠉⣿⣿⣾⢦⡀⠳⣄⠀⠀⠈⠀⠀⠀⠀⠀⠀⠀⠀⠀⠈⠳⣄⠀⠀⠀⠀⠀⠀⠀⠀\n",
       "⠀⠀⠙⢦⡀⠀⠀⠀⠀⠀⠺⣟⢻⣶⣿⡂⠈⠳⣄⠀⠀⠀⠀⠀⠀⠀⠀⠀⠀⠀⠀⠈⠳⣄⠀⠀⠀⠀⠀⠀\n",
       "⠀⠀⠀⠀⠙⢦⡀⠀⠀⠀⢤⡈⠻⠻⠿⣧⣤⣠⡈⠳⠀⠀⠀⠀⠀⠀⠀⠀⠀⠀⠀⠀⠀⠈⠳⣄⠀⠀⠀⠀\n",
       "⠀⠀⠀⠀⠀⠀⠙⢦⡀⠀⠀⠙⢦⡀⠀⣻⣿⣿⣙⣦⠀⠀⠀⠀⠀⠀⠀⠀⠀⠀⠀⠀⠀⠀⠀⠈⠳⣄⠀⠀\n",
       "⠀⠀⠀⠀⠀⠀⠀⠀⠙⢦⡀⠀⠀⠙⢦⡈⠳⣼⣿⣿⠀⠀⠀⠀⠀⠀⠀⠀⠀⠀⠀⠀⠀⠀⠀⠀⠀⠈⠳⣄\n",
       "⠙⢦⡀⠀⠀⠀⠀⠀⠀⠀⠀⠀⠀⠀⠀⠀⠀⠀⠀⠀⣿⣿⡟⢦⡈⠳⣄⠀⠀⠈⠳⣄⠀⠀⠀⠀⠀⠀⠀⠀\n",
       "⠀⠀⠙⢦⡀⠀⠀⠀⠀⠀⠀⠀⠀⠀⠀⠀⠀⠀⠀⠀⠻⣍⣿⣿⣯⠀⠈⠳⣄⠀⠀⠈⠳⣄⠀⠀⠀⠀⠀⠀\n",
       "⠀⠀⠀⠀⠙⢦⡀⠀⠀⠀⠀⠀⠀⠀⠀⠀⠀⠀⠀⠀⢦⡈⠋⠛⢻⣶⣦⣦⡈⠓⠀⠀⠀⠈⠳⣄⠀⠀⠀⠀\n",
       "⠀⠀⠀⠀⠀⠀⠙⢦⡀⠀⠀⠀⠀⠀⠀⠀⠀⠀⠀⠀⠀⠙⢦⡀⠨⣿⠿⣧⣽⡦⠀⠀⠀⠀⠀⠈⠳⣄⠀⠀\n",
       "⠀⠀⠀⠀⠀⠀⠀⠀⠙⢦⡀⠀⠀⠀⠀⠀⠀⠀⠀⠀⡀⠀⠀⠙⢦⠈⠳⡿⣿⣿⣀⡀⡀⠀⢀⠀⠀⠈⠳⣄\n",
       "⠀⠀⠀⠀⠀⠀⠀⠀⠀⠀⠙⢦⡀⠀⠀⠀⠀⠀⠀⠀⠙⢦⡀⠀⠀⠀⠀⠀⠀⠸⣿⣿⡟⢦⡈⠳⣄⠀⠀⠀\n",
       "⠀⠀⠀⠀⠀⠀⠀⠀⠀⠀⠀⠀⠙⢦⡀⠀⠀⠀⠀⠀⠀⠀⠙⢦⡀⠀⠀⠀⠀⠈⠻⣍⣿⣿⣯⠀⠈⠳⣄⠀\n",
       "⠀⠀⠀⠀⠀⠀⠀⠀⠀⠀⠀⠀⠀⠀⠙⢦⡀⠀⠀⠀⠀⠀⠀⠀⠙⢦⡀⠀⠀⠐⢦⡈⠋⠛⢻⣶⣦⣦⡈⠓\n",
       "⠀⠀⠀⠀⠀⠀⠀⠀⠀⠀⠀⠀⠀⠀⠀⠀⠙⢦⡀⠀⠀⠀⠀⠀⠀⠀⠙⢦⡀⠀⠀⠙⢦⡀⠨⣿⠿⣧⣽⡦\n",
       "⠀⠀⠀⠀⠀⠀⠀⠀⠀⠀⠀⠀⠀⠀⠀⠀⠀⠀⠙⢦⠀⠀⠀⠀⠀⠀⠀⠀⠙⢦⠀⠀⠀⠙⢦⠈⠳⡿⣿⣿"
      ]
     },
     "execution_count": 7,
     "metadata": {},
     "output_type": "execute_result"
    }
   ],
   "source": [
    "TransverseFieldIsing_sparse(N=20, h=1)"
   ]
  },
  {
   "cell_type": "code",
   "execution_count": 8,
   "id": "cabdf627-6a63-4e31-a446-b7d6e35a5cad",
   "metadata": {},
   "outputs": [
    {
     "data": {
      "text/plain": [
       "true"
      ]
     },
     "execution_count": 8,
     "metadata": {},
     "output_type": "execute_result"
    }
   ],
   "source": [
    "function TransverseFieldIsing_sparse_revised(;N, h)\n",
    "    id = [1 0; 0 1] |> sparse\n",
    "    σˣ = [0 1; 1 0] |> sparse\n",
    "    σᶻ = [1 0; 0 -1] |> sparse\n",
    "    \n",
    "    first_term_ops = fill(id, N)\n",
    "    first_term_ops[1] = σᶻ\n",
    "    first_term_ops[2] = σᶻ\n",
    "    \n",
    "    second_term_ops = fill(id, N)\n",
    "    second_term_ops[1] = σˣ\n",
    "    \n",
    "    tmp = [spzeros(Int, 2^k, 2^k) for k in 1:N]\n",
    "    H = spzeros(Int, 2^N, 2^N)\n",
    "    \n",
    "    for i in 1:N\n",
    "        tmp[1] .= first_term_ops[mod1(i, N)]\n",
    "        for k in 2:N\n",
    "            kron!(tmp[k], tmp[k-1], first_term_ops[mod1(i+k-1, N)])\n",
    "        end\n",
    "        H .-= tmp[N]\n",
    "    end\n",
    "    \n",
    "    for i in 1:N\n",
    "        tmp[1] .= second_term_ops[mod1(i, N)]\n",
    "        for k in 2:N\n",
    "            kron!(tmp[k], tmp[k-1], second_term_ops[mod1(i+k-1, N)])\n",
    "        end\n",
    "        H .-= h .* tmp[N]\n",
    "    end\n",
    "    H\n",
    "end\n",
    "\n",
    "function f_sparse_revised(L)\n",
    "    H = TransverseFieldIsing_sparse_revised(N=L, h=1)\n",
    "    d, h = partialschur(H; nev=1, which=SR())\n",
    "    d.eigenvalues[1]\n",
    "end\n",
    "\n",
    "TransverseFieldIsing_sparse_revised(N=10, h=1) == TransverseFieldIsing_sparse(N=10, h=1)"
   ]
  },
  {
   "cell_type": "code",
   "execution_count": 9,
   "id": "add85c82-4675-4377-a232-20588ac56ffd",
   "metadata": {},
   "outputs": [
    {
     "name": "stdout",
     "output_type": "stream",
     "text": [
      "  2.634633 seconds (385 allocations: 4.078 GiB, 14.19% gc time)\n",
      "  6.180826 seconds (67 allocations: 328.016 MiB)\n"
     ]
    },
    {
     "data": {
      "text/plain": [
       "(ArnoldiMethod.PartialSchur{SubArray{Float64, 2, Matrix{Float64}, Tuple{Base.Slice{Base.OneTo{Int64}}, UnitRange{Int64}}, true}, SubArray{Float64, 2, Matrix{Float64}, Tuple{UnitRange{Int64}, UnitRange{Int64}}, false}, ComplexF64}([0.23608646329398694; 0.06481741671479442; … ; 0.06481741677502564; 0.23608646326086227;;], [-25.49098968636457;;], ComplexF64[-25.49098968636457 + 0.0im]), \u001b[32mConverged\u001b[39m: 1 of 1 eigenvalues in 80 matrix-vector products)"
      ]
     },
     "execution_count": 9,
     "metadata": {},
     "output_type": "execute_result"
    }
   ],
   "source": [
    "L = 20\n",
    "@time H = TransverseFieldIsing_sparse_revised(N=L, h=1)\n",
    "@time d, h = partialschur(H; nev=1, which=SR())"
   ]
  },
  {
   "cell_type": "code",
   "execution_count": 10,
   "id": "701c2f0f-83d5-49b6-8383-2b8979d966ce",
   "metadata": {},
   "outputs": [
    {
     "name": "stdout",
     "output_type": "stream",
     "text": [
      "  2.639796 seconds (385 allocations: 4.078 GiB, 13.87% gc time)\n",
      "  8.812041 seconds (68 allocations: 328.016 MiB, 1.75% gc time)\n"
     ]
    },
    {
     "data": {
      "text/plain": [
       "(ArnoldiMethod.PartialSchur{SubArray{Float64, 2, Matrix{Float64}, Tuple{Base.Slice{Base.OneTo{Int64}}, UnitRange{Int64}}, true}, SubArray{Float64, 2, Matrix{Float64}, Tuple{UnitRange{Int64}, UnitRange{Int64}}, false}, ComplexF64}([0.2360864634510118; 0.06481741680576163; … ; 0.0648174167763798; 0.2360864630405447;;], [-25.490989686364745;;], ComplexF64[-25.490989686364745 + 0.0im]), \u001b[32mConverged\u001b[39m: 1 of 1 eigenvalues in 80 matrix-vector products)"
      ]
     },
     "execution_count": 10,
     "metadata": {},
     "output_type": "execute_result"
    }
   ],
   "source": [
    "L = 20\n",
    "@time H = TransverseFieldIsing_sparse_revised(N=L, h=1)\n",
    "@time d, h = partialschur(H; nev=1, which=SR())"
   ]
  },
  {
   "cell_type": "code",
   "execution_count": 11,
   "id": "15162d58-fe4f-45c6-91a9-4124f2e91083",
   "metadata": {},
   "outputs": [
    {
     "name": "stdout",
     "output_type": "stream",
     "text": [
      "  2.457894 seconds (385 allocations: 4.078 GiB, 6.30% gc time)\n",
      "  6.303066 seconds (68 allocations: 328.017 MiB, 1.39% gc time)\n"
     ]
    },
    {
     "data": {
      "text/plain": [
       "(ArnoldiMethod.PartialSchur{SubArray{Float64, 2, Matrix{Float64}, Tuple{Base.Slice{Base.OneTo{Int64}}, UnitRange{Int64}}, true}, SubArray{Float64, 2, Matrix{Float64}, Tuple{UnitRange{Int64}, UnitRange{Int64}}, false}, ComplexF64}([0.23608646321942076; 0.06481741682882682; … ; 0.06481741676495698; 0.23608646324728416;;], [-25.490989686364763;;], ComplexF64[-25.490989686364763 + 0.0im]), \u001b[32mConverged\u001b[39m: 1 of 1 eigenvalues in 80 matrix-vector products)"
      ]
     },
     "execution_count": 11,
     "metadata": {},
     "output_type": "execute_result"
    }
   ],
   "source": [
    "L = 20\n",
    "@time H = TransverseFieldIsing_sparse_revised(N=L, h=1)\n",
    "@time d, h = partialschur(H; nev=1, which=SR())"
   ]
  },
  {
   "cell_type": "code",
   "execution_count": 12,
   "id": "fc8c3853-343f-4925-b22f-b74085bac74c",
   "metadata": {},
   "outputs": [
    {
     "data": {
      "text/plain": [
       "1048576×1048576 SparseMatrixCSC{Int64, Int64} with 21650584 stored entries:\n",
       "⣿⣿⣾⢦⡀⠳⣄⠀⠀⠀⠳⣄⠀⠀⠀⠀⠀⠀⠀⠀⠳⣄⠀⠀⠀⠀⠀⠀⠀⠀⠀⠀⠀⠀⠀⠀⠀⠀⠀⠀\n",
       "⠺⣟⢻⣶⣿⡂⠈⠳⣄⠀⠀⠈⠳⣄⠀⠀⠀⠀⠀⠀⠀⠈⠳⣄⠀⠀⠀⠀⠀⠀⠀⠀⠀⠀⠀⠀⠀⠀⠀⠀\n",
       "⢤⡈⠻⠻⠿⣧⣤⣠⡈⠳⠄⠀⠀⠈⠳⣄⠀⠀⠀⠀⠀⠀⠀⠈⠳⣄⠀⠀⠀⠀⠀⠀⠀⠀⠀⠀⠀⠀⠀⠀\n",
       "⠀⠙⢦⡀⠀⣻⣿⣿⣙⣦⡀⠀⠀⠀⠀⠈⠳⣄⠀⠀⠀⠀⠀⠀⠀⠈⠳⣄⠀⠀⠀⠀⠀⠀⠀⠀⠀⠀⠀⠀\n",
       "⠀⠀⠀⠙⢦⡈⠳⣼⣿⣿⡆⠀⠀⠀⠀⠀⠀⠈⠳⣄⠀⠀⠀⠀⠀⠀⠀⠈⠳⣄⠀⠀⠀⠀⠀⠀⠀⠀⠀⠀\n",
       "⠙⢦⡀⠀⠀⠁⠀⠈⠈⠉⣿⣿⣾⢦⡀⠳⣄⠀⠀⠈⠀⠀⠀⠀⠀⠀⠀⠀⠀⠈⠳⣄⠀⠀⠀⠀⠀⠀⠀⠀\n",
       "⠀⠀⠙⢦⡀⠀⠀⠀⠀⠀⠺⣟⢻⣶⣿⡂⠈⠳⣄⠀⠀⠀⠀⠀⠀⠀⠀⠀⠀⠀⠀⠈⠳⣄⠀⠀⠀⠀⠀⠀\n",
       "⠀⠀⠀⠀⠙⢦⡀⠀⠀⠀⢤⡈⠻⠻⠿⣧⣤⣠⡈⠳⠀⠀⠀⠀⠀⠀⠀⠀⠀⠀⠀⠀⠀⠈⠳⣄⠀⠀⠀⠀\n",
       "⠀⠀⠀⠀⠀⠀⠙⢦⡀⠀⠀⠙⢦⡀⠀⣻⣿⣿⣙⣦⠀⠀⠀⠀⠀⠀⠀⠀⠀⠀⠀⠀⠀⠀⠀⠈⠳⣄⠀⠀\n",
       "⠀⠀⠀⠀⠀⠀⠀⠀⠙⢦⡀⠀⠀⠙⢦⡈⠳⣼⣿⣿⠀⠀⠀⠀⠀⠀⠀⠀⠀⠀⠀⠀⠀⠀⠀⠀⠀⠈⠳⣄\n",
       "⠙⢦⡀⠀⠀⠀⠀⠀⠀⠀⠀⠀⠀⠀⠀⠀⠀⠀⠀⠀⣿⣿⡟⢦⡈⠳⣄⠀⠀⠈⠳⣄⠀⠀⠀⠀⠀⠀⠀⠀\n",
       "⠀⠀⠙⢦⡀⠀⠀⠀⠀⠀⠀⠀⠀⠀⠀⠀⠀⠀⠀⠀⠻⣍⣿⣿⣯⠀⠈⠳⣄⠀⠀⠈⠳⣄⠀⠀⠀⠀⠀⠀\n",
       "⠀⠀⠀⠀⠙⢦⡀⠀⠀⠀⠀⠀⠀⠀⠀⠀⠀⠀⠀⠀⢦⡈⠋⠛⢻⣶⣦⣦⡈⠓⠀⠀⠀⠈⠳⣄⠀⠀⠀⠀\n",
       "⠀⠀⠀⠀⠀⠀⠙⢦⡀⠀⠀⠀⠀⠀⠀⠀⠀⠀⠀⠀⠀⠙⢦⡀⠨⣿⠿⣧⣽⡦⠀⠀⠀⠀⠀⠈⠳⣄⠀⠀\n",
       "⠀⠀⠀⠀⠀⠀⠀⠀⠙⢦⡀⠀⠀⠀⠀⠀⠀⠀⠀⠀⡀⠀⠀⠙⢦⠈⠳⡿⣿⣿⣀⡀⡀⠀⢀⠀⠀⠈⠳⣄\n",
       "⠀⠀⠀⠀⠀⠀⠀⠀⠀⠀⠙⢦⡀⠀⠀⠀⠀⠀⠀⠀⠙⢦⡀⠀⠀⠀⠀⠀⠀⠸⣿⣿⡟⢦⡈⠳⣄⠀⠀⠀\n",
       "⠀⠀⠀⠀⠀⠀⠀⠀⠀⠀⠀⠀⠙⢦⡀⠀⠀⠀⠀⠀⠀⠀⠙⢦⡀⠀⠀⠀⠀⠈⠻⣍⣿⣿⣯⠀⠈⠳⣄⠀\n",
       "⠀⠀⠀⠀⠀⠀⠀⠀⠀⠀⠀⠀⠀⠀⠙⢦⡀⠀⠀⠀⠀⠀⠀⠀⠙⢦⡀⠀⠀⠐⢦⡈⠋⠛⢻⣶⣦⣦⡈⠓\n",
       "⠀⠀⠀⠀⠀⠀⠀⠀⠀⠀⠀⠀⠀⠀⠀⠀⠙⢦⡀⠀⠀⠀⠀⠀⠀⠀⠙⢦⡀⠀⠀⠙⢦⡀⠨⣿⠿⣧⣽⡦\n",
       "⠀⠀⠀⠀⠀⠀⠀⠀⠀⠀⠀⠀⠀⠀⠀⠀⠀⠀⠙⢦⠀⠀⠀⠀⠀⠀⠀⠀⠙⢦⠀⠀⠀⠙⢦⠈⠳⡿⣿⣿"
      ]
     },
     "execution_count": 12,
     "metadata": {},
     "output_type": "execute_result"
    }
   ],
   "source": [
    "TransverseFieldIsing_sparse_revised(N=20, h=1)"
   ]
  },
  {
   "cell_type": "code",
   "execution_count": 13,
   "id": "95b51c04-e623-40ff-b801-3d3f511a3578",
   "metadata": {},
   "outputs": [
    {
     "data": {
      "text/plain": [
       "true"
      ]
     },
     "execution_count": 13,
     "metadata": {},
     "output_type": "execute_result"
    }
   ],
   "source": [
    "bit(a, k) = (a >> k) & 1\n",
    "\n",
    "function sigmaz2(N)\n",
    "    d = zeros(Int, 2^N)\n",
    "    for k in 1:N, a in 0:2^N-1\n",
    "        d[a+1] -= ifelse(bit(a, N-k) == bit(a, N - mod1(k+1, N)), 1, -1)\n",
    "    end\n",
    "    d\n",
    "end\n",
    "\n",
    "function sigmax(N, k)\n",
    "    v = zeros(Int, 2^N - 2^(N-k))\n",
    "    for i in 1:2:2^k-1\n",
    "        v[(2^(N-k)*(i-1) + 1):2^(N-k)*i] .= -1\n",
    "    end\n",
    "    v\n",
    "end\n",
    "\n",
    "function TransverseFieldIsing_sparse_revised2(;N, h)\n",
    "    d = sigmaz2(N)    \n",
    "    v = sigmax.(N, 1:N)    \n",
    "    H = spdiagm(\n",
    "        (-2^(N-k) => v[k] for k in 1:N)...,\n",
    "        0 => d,\n",
    "        ( 2^(N-k) => v[k] for k in 1:N)...)\n",
    "end\n",
    "\n",
    "function f_sparse_revised2(L)\n",
    "    H = TransverseFieldIsing_sparse_revised2(N=L, h=1)\n",
    "    d, h = partialschur(H; nev=1, which=SR())\n",
    "    d.eigenvalues[1]\n",
    "end\n",
    "\n",
    "TransverseFieldIsing_sparse_revised2(N=10, h=1) == TransverseFieldIsing_sparse(N=10, h=1)"
   ]
  },
  {
   "cell_type": "code",
   "execution_count": 14,
   "id": "a6f7a123-0971-482f-bf1f-eb425d1bc89f",
   "metadata": {},
   "outputs": [
    {
     "name": "stdout",
     "output_type": "stream",
     "text": [
      "  2.117366 seconds (21.90 k allocations: 2.314 GiB, 0.64% gc time, 0.33% compilation time)\n",
      "  8.971829 seconds (66 allocations: 328.016 MiB, 1.25% gc time)\n"
     ]
    },
    {
     "data": {
      "text/plain": [
       "(ArnoldiMethod.PartialSchur{SubArray{Float64, 2, Matrix{Float64}, Tuple{Base.Slice{Base.OneTo{Int64}}, UnitRange{Int64}}, true}, SubArray{Float64, 2, Matrix{Float64}, Tuple{UnitRange{Int64}, UnitRange{Int64}}, false}, ComplexF64}([-0.2360864633854531; -0.06481741687207625; … ; -0.06481741678547956; -0.23608646316295315;;], [-25.490989686364735;;], ComplexF64[-25.490989686364735 + 0.0im]), \u001b[32mConverged\u001b[39m: 1 of 1 eigenvalues in 80 matrix-vector products)"
      ]
     },
     "execution_count": 14,
     "metadata": {},
     "output_type": "execute_result"
    }
   ],
   "source": [
    "L = 20\n",
    "@time H = TransverseFieldIsing_sparse_revised2(N=L, h=1)\n",
    "@time d, h = partialschur(H; nev=1, which=SR())"
   ]
  },
  {
   "cell_type": "code",
   "execution_count": 15,
   "id": "034efb76-5f8a-4e24-a665-05e7bc28dacd",
   "metadata": {},
   "outputs": [
    {
     "name": "stdout",
     "output_type": "stream",
     "text": [
      "  2.472227 seconds (485 allocations: 2.313 GiB, 14.28% gc time)\n",
      "  9.172846 seconds (66 allocations: 328.016 MiB, 2.44% gc time)\n"
     ]
    },
    {
     "data": {
      "text/plain": [
       "(ArnoldiMethod.PartialSchur{SubArray{Float64, 2, Matrix{Float64}, Tuple{Base.Slice{Base.OneTo{Int64}}, UnitRange{Int64}}, true}, SubArray{Float64, 2, Matrix{Float64}, Tuple{UnitRange{Int64}, UnitRange{Int64}}, false}, ComplexF64}([-0.23608646289610324; -0.0648174166615296; … ; -0.06481741685765068; -0.2360864635797589;;], [-25.490989686364703;;], ComplexF64[-25.490989686364703 + 0.0im]), \u001b[32mConverged\u001b[39m: 1 of 1 eigenvalues in 80 matrix-vector products)"
      ]
     },
     "execution_count": 15,
     "metadata": {},
     "output_type": "execute_result"
    }
   ],
   "source": [
    "L = 20\n",
    "@time H = TransverseFieldIsing_sparse_revised2(N=L, h=1)\n",
    "@time d, h = partialschur(H; nev=1, which=SR())"
   ]
  },
  {
   "cell_type": "code",
   "execution_count": 16,
   "id": "9047fc30-dc15-4ba8-bf29-b6a94183c7d1",
   "metadata": {},
   "outputs": [
    {
     "name": "stdout",
     "output_type": "stream",
     "text": [
      "  2.429283 seconds (485 allocations: 2.313 GiB, 13.51% gc time)\n",
      "  9.201822 seconds (70 allocations: 328.017 MiB, 2.28% gc time)\n"
     ]
    },
    {
     "data": {
      "text/plain": [
       "(ArnoldiMethod.PartialSchur{SubArray{Float64, 2, Matrix{Float64}, Tuple{Base.Slice{Base.OneTo{Int64}}, UnitRange{Int64}}, true}, SubArray{Float64, 2, Matrix{Float64}, Tuple{UnitRange{Int64}, UnitRange{Int64}}, false}, ComplexF64}([0.23608646346807252; 0.06481741691576823; … ; 0.06481741667368268; 0.23608646309026252;;], [-25.49098968636476;;], ComplexF64[-25.49098968636476 + 0.0im]), \u001b[32mConverged\u001b[39m: 1 of 1 eigenvalues in 80 matrix-vector products)"
      ]
     },
     "execution_count": 16,
     "metadata": {},
     "output_type": "execute_result"
    }
   ],
   "source": [
    "L = 20\n",
    "@time H = TransverseFieldIsing_sparse_revised2(N=L, h=1)\n",
    "@time d, h = partialschur(H; nev=1, which=SR())"
   ]
  },
  {
   "cell_type": "code",
   "execution_count": 17,
   "id": "cc3c3431-d01b-4cd7-83da-f2866defab1d",
   "metadata": {},
   "outputs": [
    {
     "name": "stdout",
     "output_type": "stream",
     "text": [
      "  0.117869 seconds (2 allocations: 8.000 MiB)\n",
      "  0.066151 seconds (41 allocations: 152.001 MiB, 40.96% gc time)\n",
      "  2.234131 seconds (11.41 k allocations: 2.157 GiB, 13.51% gc time, 0.96% compilation time)\n",
      "\n",
      "  0.116526 seconds (2 allocations: 8.000 MiB)\n",
      "  0.040681 seconds (41 allocations: 152.001 MiB)\n",
      "  2.486643 seconds (440 allocations: 2.156 GiB, 17.64% gc time)\n",
      "\n",
      "  0.116804 seconds (2 allocations: 8.000 MiB)\n",
      "  0.038584 seconds (41 allocations: 152.001 MiB)\n",
      "  2.430211 seconds (440 allocations: 2.156 GiB, 19.43% gc time)\n"
     ]
    },
    {
     "data": {
      "text/plain": [
       "1048576×1048576 SparseMatrixCSC{Int64, Int64} with 40894466 stored entries:\n",
       "⣿⣿⣾⣦⡀⠳⣄⠀⠀⠀⠳⣄⠀⠀⠀⠀⠀⠀⠀⠀⠳⣄⠀⠀⠀⠀⠀⠀⠀⠀⠀⠀⠀⠀⠀⠀⠀⠀⠀⠀\n",
       "⠺⣿⣿⣿⣿⣦⡈⠳⣄⠀⠀⠈⠳⣄⠀⠀⠀⠀⠀⠀⠀⠈⠳⣄⠀⠀⠀⠀⠀⠀⠀⠀⠀⠀⠀⠀⠀⠀⠀⠀\n",
       "⢤⡈⠻⣿⣿⣿⣿⣦⡈⠳⣄⠀⠀⠈⠳⣄⠀⠀⠀⠀⠀⠀⠀⠈⠳⣄⠀⠀⠀⠀⠀⠀⠀⠀⠀⠀⠀⠀⠀⠀\n",
       "⠀⠙⢦⡈⠻⣿⣿⣿⣿⣦⡈⠳⣄⠀⠀⠈⠳⣄⠀⠀⠀⠀⠀⠀⠀⠈⠳⣄⠀⠀⠀⠀⠀⠀⠀⠀⠀⠀⠀⠀\n",
       "⠀⠀⠀⠙⢦⡈⠻⣿⣿⣿⣿⣦⡈⠳⣄⠀⠀⠈⠳⣄⠀⠀⠀⠀⠀⠀⠀⠈⠳⣄⠀⠀⠀⠀⠀⠀⠀⠀⠀⠀\n",
       "⠙⢦⡀⠀⠀⠙⢦⡈⠻⣿⣿⣿⣿⣦⡈⠳⣄⠀⠀⠈⠳⣄⠀⠀⠀⠀⠀⠀⠀⠈⠳⣄⠀⠀⠀⠀⠀⠀⠀⠀\n",
       "⠀⠀⠙⢦⡀⠀⠀⠙⢦⡈⠻⣿⣿⣿⣿⣦⡈⠳⣄⠀⠀⠈⠳⣄⠀⠀⠀⠀⠀⠀⠀⠈⠳⣄⠀⠀⠀⠀⠀⠀\n",
       "⠀⠀⠀⠀⠙⢦⡀⠀⠀⠙⢦⡈⠻⣿⣿⣿⣿⣦⡈⠳⣄⠀⠀⠈⠳⣄⠀⠀⠀⠀⠀⠀⠀⠈⠳⣄⠀⠀⠀⠀\n",
       "⠀⠀⠀⠀⠀⠀⠙⢦⡀⠀⠀⠙⢦⡈⠻⣿⣿⣿⣿⣦⡈⠳⣄⠀⠀⠈⠳⣄⠀⠀⠀⠀⠀⠀⠀⠈⠳⣄⠀⠀\n",
       "⠀⠀⠀⠀⠀⠀⠀⠀⠙⢦⡀⠀⠀⠙⢦⡈⠻⣿⣿⣿⣿⣦⡈⠳⣄⠀⠀⠈⠳⣄⠀⠀⠀⠀⠀⠀⠀⠈⠳⣄\n",
       "⠙⢦⡀⠀⠀⠀⠀⠀⠀⠀⠙⢦⡀⠀⠀⠙⢦⡈⠻⣿⣿⣿⣿⣦⡈⠳⣄⠀⠀⠈⠳⣄⠀⠀⠀⠀⠀⠀⠀⠀\n",
       "⠀⠀⠙⢦⡀⠀⠀⠀⠀⠀⠀⠀⠙⢦⡀⠀⠀⠙⢦⡈⠻⣿⣿⣿⣿⣦⡈⠳⣄⠀⠀⠈⠳⣄⠀⠀⠀⠀⠀⠀\n",
       "⠀⠀⠀⠀⠙⢦⡀⠀⠀⠀⠀⠀⠀⠀⠙⢦⡀⠀⠀⠙⢦⡈⠻⣿⣿⣿⣿⣦⡈⠳⣄⠀⠀⠈⠳⣄⠀⠀⠀⠀\n",
       "⠀⠀⠀⠀⠀⠀⠙⢦⡀⠀⠀⠀⠀⠀⠀⠀⠙⢦⡀⠀⠀⠙⢦⡈⠻⣿⣿⣿⣿⣦⡈⠳⣄⠀⠀⠈⠳⣄⠀⠀\n",
       "⠀⠀⠀⠀⠀⠀⠀⠀⠙⢦⡀⠀⠀⠀⠀⠀⠀⠀⠙⢦⡀⠀⠀⠙⢦⡈⠻⣿⣿⣿⣿⣦⡈⠳⣄⠀⠀⠈⠳⣄\n",
       "⠀⠀⠀⠀⠀⠀⠀⠀⠀⠀⠙⢦⡀⠀⠀⠀⠀⠀⠀⠀⠙⢦⡀⠀⠀⠙⢦⡈⠻⣿⣿⣿⣿⣦⡈⠳⣄⠀⠀⠀\n",
       "⠀⠀⠀⠀⠀⠀⠀⠀⠀⠀⠀⠀⠙⢦⡀⠀⠀⠀⠀⠀⠀⠀⠙⢦⡀⠀⠀⠙⢦⡈⠻⣿⣿⣿⣿⣦⡈⠳⣄⠀\n",
       "⠀⠀⠀⠀⠀⠀⠀⠀⠀⠀⠀⠀⠀⠀⠙⢦⡀⠀⠀⠀⠀⠀⠀⠀⠙⢦⡀⠀⠀⠙⢦⡈⠻⣿⣿⣿⣿⣦⡈⠓\n",
       "⠀⠀⠀⠀⠀⠀⠀⠀⠀⠀⠀⠀⠀⠀⠀⠀⠙⢦⡀⠀⠀⠀⠀⠀⠀⠀⠙⢦⡀⠀⠀⠙⢦⡈⠻⣿⣿⣿⣿⡦\n",
       "⠀⠀⠀⠀⠀⠀⠀⠀⠀⠀⠀⠀⠀⠀⠀⠀⠀⠀⠙⢦⠀⠀⠀⠀⠀⠀⠀⠀⠙⢦⠀⠀⠀⠙⢦⠈⠻⡿⣿⣿"
      ]
     },
     "execution_count": 17,
     "metadata": {},
     "output_type": "execute_result"
    }
   ],
   "source": [
    "function TransverseFieldIsing_sparse_revised2_time(;N, h)\n",
    "    @time d = sigmaz2(N)    \n",
    "    @time v = sigmax.(N, 1:N)    \n",
    "    @time H = spdiagm(\n",
    "        (-2^(N-k) => v[k] for k in 1:N)...,\n",
    "        0 => d,\n",
    "        ( 2^(N-k) => v[k] for k in 1:N)...)\n",
    "end\n",
    "\n",
    "TransverseFieldIsing_sparse_revised2_time(N=20, h=1); println()\n",
    "TransverseFieldIsing_sparse_revised2_time(N=20, h=1); println()\n",
    "TransverseFieldIsing_sparse_revised2_time(N=20, h=1)"
   ]
  },
  {
   "cell_type": "code",
   "execution_count": 18,
   "id": "c9890c42-9173-42c1-9ffe-c8e7ebaa3682",
   "metadata": {},
   "outputs": [
    {
     "data": {
      "text/plain": [
       "true"
      ]
     },
     "execution_count": 18,
     "metadata": {},
     "output_type": "execute_result"
    }
   ],
   "source": [
    "bit(a, k) = (a >> k) & 1\n",
    "\n",
    "function sigmaz2_sparse(N)\n",
    "    d = zeros(Int, 2^N)\n",
    "    for k in 1:N, a in 0:2^N-1\n",
    "        d[a+1] -= ifelse(bit(a, N-k) == bit(a, N - mod1(k+1, N)), 1, -1)\n",
    "    end\n",
    "    sparse(d) # should be sparse\n",
    "end\n",
    "\n",
    "function sigmax_sparse(N, k)\n",
    "    v = zeros(Int, 2^N - 2^(N-k))\n",
    "    for i in 1:2:2^k-1\n",
    "        v[(2^(N-k)*(i-1) + 1):2^(N-k)*i] .= -1\n",
    "    end\n",
    "    sparse(v) # should be sparse\n",
    "end\n",
    "\n",
    "function TransverseFieldIsing_sparse_revised3(;N, h)\n",
    "    d = sigmaz2_sparse(N)    \n",
    "    v = sigmax_sparse.(N, 1:N)    \n",
    "    H = spdiagm(\n",
    "        (-2^(N-k) => v[k] for k in 1:N)...,\n",
    "        0 => d,\n",
    "        ( 2^(N-k) => v[k] for k in 1:N)...)\n",
    "end\n",
    "\n",
    "function f_sparse_revised3(L)\n",
    "    H = TransverseFieldIsing_sparse_revised3(N=L, h=1)\n",
    "    d, h = partialschur(H; nev=1, which=SR())\n",
    "    d.eigenvalues[1]\n",
    "end\n",
    "\n",
    "TransverseFieldIsing_sparse_revised3(;N=10, h=1) == TransverseFieldIsing_sparse(;N=10, h=1)"
   ]
  },
  {
   "cell_type": "code",
   "execution_count": 19,
   "id": "cc245d4f-5c90-47ae-b7be-c0cf766b0701",
   "metadata": {},
   "outputs": [
    {
     "name": "stdout",
     "output_type": "stream",
     "text": [
      "  1.885320 seconds (22.24 k allocations: 1.948 GiB, 25.43% gc time, 0.46% compilation time)\n",
      "  6.144846 seconds (68 allocations: 328.016 MiB)\n"
     ]
    },
    {
     "data": {
      "text/plain": [
       "(ArnoldiMethod.PartialSchur{SubArray{Float64, 2, Matrix{Float64}, Tuple{Base.Slice{Base.OneTo{Int64}}, UnitRange{Int64}}, true}, SubArray{Float64, 2, Matrix{Float64}, Tuple{UnitRange{Int64}, UnitRange{Int64}}, false}, ComplexF64}([0.23608646342098635; 0.06481741685044573; … ; 0.06481741672015905; 0.23608646302451014;;], [-25.490989686364717;;], ComplexF64[-25.490989686364717 + 0.0im]), \u001b[32mConverged\u001b[39m: 1 of 1 eigenvalues in 80 matrix-vector products)"
      ]
     },
     "execution_count": 19,
     "metadata": {},
     "output_type": "execute_result"
    }
   ],
   "source": [
    "L = 20\n",
    "@time H = TransverseFieldIsing_sparse_revised3(N=L, h=1)\n",
    "@time d, h = partialschur(H; nev=1, which=SR())"
   ]
  },
  {
   "cell_type": "code",
   "execution_count": 20,
   "id": "5e0962d3-45fa-49e1-b212-eaaf486caba3",
   "metadata": {},
   "outputs": [
    {
     "name": "stdout",
     "output_type": "stream",
     "text": [
      "  1.864288 seconds (859 allocations: 1.947 GiB, 24.79% gc time)\n",
      "  6.913462 seconds (69 allocations: 328.017 MiB, 2.07% gc time)\n"
     ]
    },
    {
     "data": {
      "text/plain": [
       "(ArnoldiMethod.PartialSchur{SubArray{Float64, 2, Matrix{Float64}, Tuple{Base.Slice{Base.OneTo{Int64}}, UnitRange{Int64}}, true}, SubArray{Float64, 2, Matrix{Float64}, Tuple{UnitRange{Int64}, UnitRange{Int64}}, false}, ComplexF64}([0.2360864633332615; 0.06481741679110317; … ; 0.06481741680489875; 0.23608646312630016;;], [-25.490989686364678;;], ComplexF64[-25.490989686364678 + 0.0im]), \u001b[32mConverged\u001b[39m: 1 of 1 eigenvalues in 80 matrix-vector products)"
      ]
     },
     "execution_count": 20,
     "metadata": {},
     "output_type": "execute_result"
    }
   ],
   "source": [
    "L = 20\n",
    "@time H = TransverseFieldIsing_sparse_revised3(N=L, h=1)\n",
    "@time d, h = partialschur(H; nev=1, which=SR())"
   ]
  },
  {
   "cell_type": "code",
   "execution_count": 21,
   "id": "d8650548-ec9e-4796-8652-f3ff2b456156",
   "metadata": {},
   "outputs": [
    {
     "name": "stdout",
     "output_type": "stream",
     "text": [
      "  1.738984 seconds (859 allocations: 1.947 GiB, 20.36% gc time)\n",
      "  6.133689 seconds (69 allocations: 328.017 MiB)\n"
     ]
    },
    {
     "data": {
      "text/plain": [
       "(ArnoldiMethod.PartialSchur{SubArray{Float64, 2, Matrix{Float64}, Tuple{Base.Slice{Base.OneTo{Int64}}, UnitRange{Int64}}, true}, SubArray{Float64, 2, Matrix{Float64}, Tuple{UnitRange{Int64}, UnitRange{Int64}}, false}, ComplexF64}([-0.23608646323858584; -0.06481741682626445; … ; -0.06481741681770777; -0.23608646331891392;;], [-25.49098968636463;;], ComplexF64[-25.49098968636463 + 0.0im]), \u001b[32mConverged\u001b[39m: 1 of 1 eigenvalues in 80 matrix-vector products)"
      ]
     },
     "execution_count": 21,
     "metadata": {},
     "output_type": "execute_result"
    }
   ],
   "source": [
    "L = 20\n",
    "@time H = TransverseFieldIsing_sparse_revised3(N=L, h=1)\n",
    "@time d, h = partialschur(H; nev=1, which=SR())"
   ]
  },
  {
   "cell_type": "code",
   "execution_count": 22,
   "id": "4fafd66d-4203-4e65-875e-b6cbe91a9862",
   "metadata": {},
   "outputs": [
    {
     "name": "stdout",
     "output_type": "stream",
     "text": [
      "  0.128349 seconds (12 allocations: 25.879 MiB)\n",
      "  0.334002 seconds (241 allocations: 456.943 MiB, 52.55% gc time)\n",
      "  1.435743 seconds (11.56 k allocations: 1.476 GiB, 19.08% gc time, 1.64% compilation time)\n",
      "\n",
      "  0.124450 seconds (12 allocations: 25.879 MiB)\n",
      "  0.407541 seconds (241 allocations: 456.943 MiB, 61.91% gc time)\n",
      "  1.289654 seconds (604 allocations: 1.475 GiB, 13.74% gc time)\n",
      "\n",
      "  0.120620 seconds (12 allocations: 25.879 MiB)\n",
      "  0.404538 seconds (241 allocations: 456.943 MiB, 62.34% gc time)\n",
      "  1.329586 seconds (604 allocations: 1.475 GiB, 13.98% gc time)\n"
     ]
    },
    {
     "data": {
      "text/plain": [
       "1048576×1048576 SparseMatrixCSC{Int64, Int64} with 21650584 stored entries:\n",
       "⣿⣿⣾⢦⡀⠳⣄⠀⠀⠀⠳⣄⠀⠀⠀⠀⠀⠀⠀⠀⠳⣄⠀⠀⠀⠀⠀⠀⠀⠀⠀⠀⠀⠀⠀⠀⠀⠀⠀⠀\n",
       "⠺⣟⢻⣶⣿⡂⠈⠳⣄⠀⠀⠈⠳⣄⠀⠀⠀⠀⠀⠀⠀⠈⠳⣄⠀⠀⠀⠀⠀⠀⠀⠀⠀⠀⠀⠀⠀⠀⠀⠀\n",
       "⢤⡈⠻⠻⠿⣧⣤⣠⡈⠳⠄⠀⠀⠈⠳⣄⠀⠀⠀⠀⠀⠀⠀⠈⠳⣄⠀⠀⠀⠀⠀⠀⠀⠀⠀⠀⠀⠀⠀⠀\n",
       "⠀⠙⢦⡀⠀⣻⣿⣿⣙⣦⡀⠀⠀⠀⠀⠈⠳⣄⠀⠀⠀⠀⠀⠀⠀⠈⠳⣄⠀⠀⠀⠀⠀⠀⠀⠀⠀⠀⠀⠀\n",
       "⠀⠀⠀⠙⢦⡈⠳⣼⣿⣿⡆⠀⠀⠀⠀⠀⠀⠈⠳⣄⠀⠀⠀⠀⠀⠀⠀⠈⠳⣄⠀⠀⠀⠀⠀⠀⠀⠀⠀⠀\n",
       "⠙⢦⡀⠀⠀⠁⠀⠈⠈⠉⣿⣿⣾⢦⡀⠳⣄⠀⠀⠈⠀⠀⠀⠀⠀⠀⠀⠀⠀⠈⠳⣄⠀⠀⠀⠀⠀⠀⠀⠀\n",
       "⠀⠀⠙⢦⡀⠀⠀⠀⠀⠀⠺⣟⢻⣶⣿⡂⠈⠳⣄⠀⠀⠀⠀⠀⠀⠀⠀⠀⠀⠀⠀⠈⠳⣄⠀⠀⠀⠀⠀⠀\n",
       "⠀⠀⠀⠀⠙⢦⡀⠀⠀⠀⢤⡈⠻⠻⠿⣧⣤⣠⡈⠳⠀⠀⠀⠀⠀⠀⠀⠀⠀⠀⠀⠀⠀⠈⠳⣄⠀⠀⠀⠀\n",
       "⠀⠀⠀⠀⠀⠀⠙⢦⡀⠀⠀⠙⢦⡀⠀⣻⣿⣿⣙⣦⠀⠀⠀⠀⠀⠀⠀⠀⠀⠀⠀⠀⠀⠀⠀⠈⠳⣄⠀⠀\n",
       "⠀⠀⠀⠀⠀⠀⠀⠀⠙⢦⡀⠀⠀⠙⢦⡈⠳⣼⣿⣿⠀⠀⠀⠀⠀⠀⠀⠀⠀⠀⠀⠀⠀⠀⠀⠀⠀⠈⠳⣄\n",
       "⠙⢦⡀⠀⠀⠀⠀⠀⠀⠀⠀⠀⠀⠀⠀⠀⠀⠀⠀⠀⣿⣿⡟⢦⡈⠳⣄⠀⠀⠈⠳⣄⠀⠀⠀⠀⠀⠀⠀⠀\n",
       "⠀⠀⠙⢦⡀⠀⠀⠀⠀⠀⠀⠀⠀⠀⠀⠀⠀⠀⠀⠀⠻⣍⣿⣿⣯⠀⠈⠳⣄⠀⠀⠈⠳⣄⠀⠀⠀⠀⠀⠀\n",
       "⠀⠀⠀⠀⠙⢦⡀⠀⠀⠀⠀⠀⠀⠀⠀⠀⠀⠀⠀⠀⢦⡈⠋⠛⢻⣶⣦⣦⡈⠓⠀⠀⠀⠈⠳⣄⠀⠀⠀⠀\n",
       "⠀⠀⠀⠀⠀⠀⠙⢦⡀⠀⠀⠀⠀⠀⠀⠀⠀⠀⠀⠀⠀⠙⢦⡀⠨⣿⠿⣧⣽⡦⠀⠀⠀⠀⠀⠈⠳⣄⠀⠀\n",
       "⠀⠀⠀⠀⠀⠀⠀⠀⠙⢦⡀⠀⠀⠀⠀⠀⠀⠀⠀⠀⡀⠀⠀⠙⢦⠈⠳⡿⣿⣿⣀⡀⡀⠀⢀⠀⠀⠈⠳⣄\n",
       "⠀⠀⠀⠀⠀⠀⠀⠀⠀⠀⠙⢦⡀⠀⠀⠀⠀⠀⠀⠀⠙⢦⡀⠀⠀⠀⠀⠀⠀⠸⣿⣿⡟⢦⡈⠳⣄⠀⠀⠀\n",
       "⠀⠀⠀⠀⠀⠀⠀⠀⠀⠀⠀⠀⠙⢦⡀⠀⠀⠀⠀⠀⠀⠀⠙⢦⡀⠀⠀⠀⠀⠈⠻⣍⣿⣿⣯⠀⠈⠳⣄⠀\n",
       "⠀⠀⠀⠀⠀⠀⠀⠀⠀⠀⠀⠀⠀⠀⠙⢦⡀⠀⠀⠀⠀⠀⠀⠀⠙⢦⡀⠀⠀⠐⢦⡈⠋⠛⢻⣶⣦⣦⡈⠓\n",
       "⠀⠀⠀⠀⠀⠀⠀⠀⠀⠀⠀⠀⠀⠀⠀⠀⠙⢦⡀⠀⠀⠀⠀⠀⠀⠀⠙⢦⡀⠀⠀⠙⢦⡀⠨⣿⠿⣧⣽⡦\n",
       "⠀⠀⠀⠀⠀⠀⠀⠀⠀⠀⠀⠀⠀⠀⠀⠀⠀⠀⠙⢦⠀⠀⠀⠀⠀⠀⠀⠀⠙⢦⠀⠀⠀⠙⢦⠈⠳⡿⣿⣿"
      ]
     },
     "execution_count": 22,
     "metadata": {},
     "output_type": "execute_result"
    }
   ],
   "source": [
    "function TransverseFieldIsing_sparse_revised3_time(;N, h)\n",
    "    @time d = sigmaz2_sparse(N)    \n",
    "    @time v = sigmax_sparse.(N, 1:N)    \n",
    "    @time H = spdiagm(\n",
    "        (-2^(N-k) => v[k] for k in 1:N)...,\n",
    "        0 => d,\n",
    "        ( 2^(N-k) => v[k] for k in 1:N)...)\n",
    "end\n",
    "\n",
    "TransverseFieldIsing_sparse_revised3_time(N=20, h=1); println()\n",
    "TransverseFieldIsing_sparse_revised3_time(N=20, h=1); println()\n",
    "TransverseFieldIsing_sparse_revised3_time(N=20, h=1)"
   ]
  },
  {
   "cell_type": "code",
   "execution_count": null,
   "id": "d41a3309-0d1a-49b2-97ec-53622dae3107",
   "metadata": {},
   "outputs": [],
   "source": []
  }
 ],
 "metadata": {
  "jupytext": {
   "encoding": "# -*- coding: utf-8 -*-",
   "formats": "ipynb,jl:hydrogen"
  },
  "kernelspec": {
   "display_name": "Julia 1.8.0-DEV",
   "language": "julia",
   "name": "julia-1.8"
  },
  "language_info": {
   "file_extension": ".jl",
   "mimetype": "application/julia",
   "name": "julia",
   "version": "1.8.0"
  }
 },
 "nbformat": 4,
 "nbformat_minor": 5
}
