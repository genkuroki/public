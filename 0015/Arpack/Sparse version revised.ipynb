{
 "cells": [
  {
   "cell_type": "markdown",
   "id": "d8fd03d5-b4e4-48c7-93f5-8d858b333626",
   "metadata": {},
   "source": [
    "https://twitter.com/yujitach/status/1424030835771023363"
   ]
  },
  {
   "cell_type": "code",
   "execution_count": 1,
   "id": "6efeeda8-5250-46d4-ae00-5f06861e0729",
   "metadata": {},
   "outputs": [
    {
     "data": {
      "text/plain": [
       "(-25.490989686364827 + 0.0im, -25.49098968636475)"
      ]
     },
     "execution_count": 1,
     "metadata": {},
     "output_type": "execute_result"
    }
   ],
   "source": [
    "using LinearAlgebra\n",
    "using LoopVectorization\n",
    "using LinearMaps\n",
    "using ArnoldiMethod\n",
    "\n",
    "function prepareDiag(L)\n",
    "    diag = zeros(2^L)\n",
    "    for state = 1:2^L\n",
    "        for i = 1:L\n",
    "            j = i==L ? 1 : i+1\n",
    "            @inbounds diag[state] -= (((state >> (i-1))&1) == ((state >> (j-1))&1)) ? 1 : -1\n",
    "        end\n",
    "    end\n",
    "    diag\n",
    "end\n",
    "    \n",
    "function Hfunc!(C, B, diag, L)\n",
    "    N = length(diag)\n",
    "    @tturbo for state = 1:N\n",
    "        C[state] = diag[state] * B[state]\n",
    "    end\n",
    "    for i = 1:L\n",
    "        @tturbo for state = 1:N\n",
    "            newstate = (state&(~(2^L))) ⊻ (1<<(i-1))\n",
    "            c = newstate == 0\n",
    "            newstate = !c*newstate + c*N # remove if statement\n",
    "            C[newstate] -= B[state]\n",
    "        end\n",
    "    end\n",
    "end\n",
    "prepareHfunc!(L) = (C, B) -> Hfunc!(C, B, prepareDiag(L), L)\n",
    "\n",
    "function f_LinearMap(L)\n",
    "    H_LinearMap = LinearMap(prepareHfunc!(L), 2^L, ismutating=true, issymmetric=true, isposdef=false)\n",
    "    d_LM, h_LM = partialschur(H_LinearMap, nev=1, which=SR())\n",
    "    d_LM.eigenvalues[1]\n",
    "end\n",
    "\n",
    "f_exact(L) = -2sum(abs(sin((n-1/2) * pi/L)) for n in 1:L)\n",
    "\n",
    "f_LinearMap(20), f_exact(20)"
   ]
  },
  {
   "cell_type": "code",
   "execution_count": 2,
   "id": "e0a4f082-4f1e-4834-a1db-2b30ddf32bd8",
   "metadata": {},
   "outputs": [
    {
     "name": "stdout",
     "output_type": "stream",
     "text": [
      "  7.881726 seconds (615 allocations: 968.031 MiB, 0.62% gc time)\n",
      "  7.629038 seconds (618 allocations: 968.031 MiB, 1.10% gc time)\n",
      "  7.480598 seconds (620 allocations: 968.031 MiB, 0.72% gc time)\n"
     ]
    },
    {
     "data": {
      "text/plain": [
       "-25.490989686364795 + 0.0im"
      ]
     },
     "execution_count": 2,
     "metadata": {},
     "output_type": "execute_result"
    }
   ],
   "source": [
    "@time f_LinearMap(20)\n",
    "@time f_LinearMap(20)\n",
    "@time f_LinearMap(20)"
   ]
  },
  {
   "cell_type": "markdown",
   "id": "61d978d2-17c3-4201-b113-bd1ee9917d39",
   "metadata": {},
   "source": [
    "https://juliaphysics.github.io/PhysicsTutorials.jl/tutorials/general/quantum_ising/quantum_ising.html"
   ]
  },
  {
   "cell_type": "code",
   "execution_count": 3,
   "id": "2b1840ac-269e-4f0b-b107-7ece0ca9b6cf",
   "metadata": {},
   "outputs": [
    {
     "data": {
      "text/plain": [
       "(-25.490989686364724 + 0.0im, -25.49098968636475)"
      ]
     },
     "execution_count": 3,
     "metadata": {},
     "output_type": "execute_result"
    }
   ],
   "source": [
    "using LinearAlgebra\n",
    "using SparseArrays\n",
    "using ArnoldiMethod\n",
    "⊗(x,y) = kron(x,y)\n",
    "\n",
    "function TransverseFieldIsing_sparse(;N,h)\n",
    "    id = [1 0; 0 1] |> sparse\n",
    "    σˣ = [0 1; 1 0] |> sparse\n",
    "    σᶻ = [1 0; 0 -1] |> sparse\n",
    "    \n",
    "    first_term_ops = fill(id, N)\n",
    "    first_term_ops[1] = σᶻ\n",
    "    first_term_ops[2] = σᶻ\n",
    "    \n",
    "    second_term_ops = fill(id, N)\n",
    "    second_term_ops[1] = σˣ\n",
    "    \n",
    "    H = spzeros(Int, 2^N, 2^N)\n",
    "    for i in 1:N\n",
    "        H -= foldl(⊗, first_term_ops)\n",
    "        first_term_ops = circshift(first_term_ops,1)\n",
    "    end\n",
    "    \n",
    "    for i in 1:N\n",
    "        H -= h*foldl(⊗, second_term_ops)\n",
    "        second_term_ops = circshift(second_term_ops,1)\n",
    "    end\n",
    "    H\n",
    "end\n",
    "\n",
    "function f_sparse(L)\n",
    "    H = TransverseFieldIsing_sparse(N=L, h=1)\n",
    "    d, hist = partialschur(H; nev=1, which=SR())\n",
    "    d.eigenvalues[1]\n",
    "end\n",
    "\n",
    "f_exact(L) = -2sum(abs(sin((n-1/2) * pi/L)) for n in 1:L)\n",
    "\n",
    "f_sparse(20), f_exact(20)"
   ]
  },
  {
   "cell_type": "code",
   "execution_count": 4,
   "id": "9f90e1bd-6b7b-4d8b-b8ff-799697b86a36",
   "metadata": {},
   "outputs": [
    {
     "name": "stdout",
     "output_type": "stream",
     "text": [
      "  3.575960 seconds (4.75 k allocations: 6.718 GiB, 16.08% gc time, 0.22% compilation time)\n",
      "  6.070545 seconds (244 allocations: 328.025 MiB, 0.43% gc time, 0.23% compilation time)\n"
     ]
    },
    {
     "data": {
      "text/plain": [
       "(ArnoldiMethod.PartialSchur{SubArray{Float64, 2, Matrix{Float64}, Tuple{Base.Slice{Base.OneTo{Int64}}, UnitRange{Int64}}, true}, SubArray{Float64, 2, Matrix{Float64}, Tuple{UnitRange{Int64}, UnitRange{Int64}}, false}, ComplexF64}([0.23608646331422362; 0.06481741684518699; … ; 0.06481741684984593; 0.23608646320135146;;], [-25.490989686364777;;], ComplexF64[-25.490989686364777 + 0.0im]), \u001b[32mConverged\u001b[39m: 1 of 1 eigenvalues in 80 matrix-vector products)"
      ]
     },
     "execution_count": 4,
     "metadata": {},
     "output_type": "execute_result"
    }
   ],
   "source": [
    "L = 20\n",
    "@time H = TransverseFieldIsing_sparse(N=L, h=1)\n",
    "@time d, hist = partialschur(H; nev=1, which=SR())"
   ]
  },
  {
   "cell_type": "code",
   "execution_count": 5,
   "id": "2b82e905-f10b-42ed-8b91-c5d51e75198a",
   "metadata": {},
   "outputs": [
    {
     "name": "stdout",
     "output_type": "stream",
     "text": [
      "  3.360816 seconds (4.66 k allocations: 6.718 GiB, 16.59% gc time)\n",
      "  6.067743 seconds (68 allocations: 328.016 MiB)\n"
     ]
    },
    {
     "data": {
      "text/plain": [
       "(ArnoldiMethod.PartialSchur{SubArray{Float64, 2, Matrix{Float64}, Tuple{Base.Slice{Base.OneTo{Int64}}, UnitRange{Int64}}, true}, SubArray{Float64, 2, Matrix{Float64}, Tuple{UnitRange{Int64}, UnitRange{Int64}}, false}, ComplexF64}([0.23608646297508845; 0.06481741679717856; … ; 0.06481741673091695; 0.23608646350811635;;], [-25.490989686364845;;], ComplexF64[-25.490989686364845 + 0.0im]), \u001b[32mConverged\u001b[39m: 1 of 1 eigenvalues in 80 matrix-vector products)"
      ]
     },
     "execution_count": 5,
     "metadata": {},
     "output_type": "execute_result"
    }
   ],
   "source": [
    "L = 20\n",
    "@time H = TransverseFieldIsing_sparse(N=L, h=1)\n",
    "@time d, hist = partialschur(H; nev=1, which=SR())"
   ]
  },
  {
   "cell_type": "code",
   "execution_count": 6,
   "id": "cda1aff2-dad9-4f0d-85c5-02612a38ecc7",
   "metadata": {},
   "outputs": [
    {
     "name": "stdout",
     "output_type": "stream",
     "text": [
      "  3.272127 seconds (4.66 k allocations: 6.718 GiB, 17.05% gc time)\n",
      "  6.066787 seconds (68 allocations: 328.016 MiB)\n"
     ]
    },
    {
     "data": {
      "text/plain": [
       "(ArnoldiMethod.PartialSchur{SubArray{Float64, 2, Matrix{Float64}, Tuple{Base.Slice{Base.OneTo{Int64}}, UnitRange{Int64}}, true}, SubArray{Float64, 2, Matrix{Float64}, Tuple{UnitRange{Int64}, UnitRange{Int64}}, false}, ComplexF64}([0.23608646320484591; 0.06481741675988469; … ; 0.06481741686672923; 0.23608646333627437;;], [-25.490989686364873;;], ComplexF64[-25.490989686364873 + 0.0im]), \u001b[32mConverged\u001b[39m: 1 of 1 eigenvalues in 80 matrix-vector products)"
      ]
     },
     "execution_count": 6,
     "metadata": {},
     "output_type": "execute_result"
    }
   ],
   "source": [
    "L = 20\n",
    "@time H = TransverseFieldIsing_sparse(N=L, h=1)\n",
    "@time d, hist = partialschur(H; nev=1, which=SR())"
   ]
  },
  {
   "cell_type": "code",
   "execution_count": 7,
   "id": "74d66c89-018f-4fa1-b07a-7f5d6a374eda",
   "metadata": {},
   "outputs": [
    {
     "data": {
      "text/plain": [
       "1048576×1048576 SparseMatrixCSC{Int64, Int64} with 21650584 stored entries:\n",
       "⣿⣿⣾⢦⡀⠳⣄⠀⠀⠀⠳⣄⠀⠀⠀⠀⠀⠀⠀⠀⠳⣄⠀⠀⠀⠀⠀⠀⠀⠀⠀⠀⠀⠀⠀⠀⠀⠀⠀⠀\n",
       "⠺⣟⢻⣶⣿⡂⠈⠳⣄⠀⠀⠈⠳⣄⠀⠀⠀⠀⠀⠀⠀⠈⠳⣄⠀⠀⠀⠀⠀⠀⠀⠀⠀⠀⠀⠀⠀⠀⠀⠀\n",
       "⢤⡈⠻⠻⠿⣧⣤⣠⡈⠳⠄⠀⠀⠈⠳⣄⠀⠀⠀⠀⠀⠀⠀⠈⠳⣄⠀⠀⠀⠀⠀⠀⠀⠀⠀⠀⠀⠀⠀⠀\n",
       "⠀⠙⢦⡀⠀⣻⣿⣿⣙⣦⡀⠀⠀⠀⠀⠈⠳⣄⠀⠀⠀⠀⠀⠀⠀⠈⠳⣄⠀⠀⠀⠀⠀⠀⠀⠀⠀⠀⠀⠀\n",
       "⠀⠀⠀⠙⢦⡈⠳⣼⣿⣿⡆⠀⠀⠀⠀⠀⠀⠈⠳⣄⠀⠀⠀⠀⠀⠀⠀⠈⠳⣄⠀⠀⠀⠀⠀⠀⠀⠀⠀⠀\n",
       "⠙⢦⡀⠀⠀⠁⠀⠈⠈⠉⣿⣿⣾⢦⡀⠳⣄⠀⠀⠈⠀⠀⠀⠀⠀⠀⠀⠀⠀⠈⠳⣄⠀⠀⠀⠀⠀⠀⠀⠀\n",
       "⠀⠀⠙⢦⡀⠀⠀⠀⠀⠀⠺⣟⢻⣶⣿⡂⠈⠳⣄⠀⠀⠀⠀⠀⠀⠀⠀⠀⠀⠀⠀⠈⠳⣄⠀⠀⠀⠀⠀⠀\n",
       "⠀⠀⠀⠀⠙⢦⡀⠀⠀⠀⢤⡈⠻⠻⠿⣧⣤⣠⡈⠳⠀⠀⠀⠀⠀⠀⠀⠀⠀⠀⠀⠀⠀⠈⠳⣄⠀⠀⠀⠀\n",
       "⠀⠀⠀⠀⠀⠀⠙⢦⡀⠀⠀⠙⢦⡀⠀⣻⣿⣿⣙⣦⠀⠀⠀⠀⠀⠀⠀⠀⠀⠀⠀⠀⠀⠀⠀⠈⠳⣄⠀⠀\n",
       "⠀⠀⠀⠀⠀⠀⠀⠀⠙⢦⡀⠀⠀⠙⢦⡈⠳⣼⣿⣿⠀⠀⠀⠀⠀⠀⠀⠀⠀⠀⠀⠀⠀⠀⠀⠀⠀⠈⠳⣄\n",
       "⠙⢦⡀⠀⠀⠀⠀⠀⠀⠀⠀⠀⠀⠀⠀⠀⠀⠀⠀⠀⣿⣿⡟⢦⡈⠳⣄⠀⠀⠈⠳⣄⠀⠀⠀⠀⠀⠀⠀⠀\n",
       "⠀⠀⠙⢦⡀⠀⠀⠀⠀⠀⠀⠀⠀⠀⠀⠀⠀⠀⠀⠀⠻⣍⣿⣿⣯⠀⠈⠳⣄⠀⠀⠈⠳⣄⠀⠀⠀⠀⠀⠀\n",
       "⠀⠀⠀⠀⠙⢦⡀⠀⠀⠀⠀⠀⠀⠀⠀⠀⠀⠀⠀⠀⢦⡈⠋⠛⢻⣶⣦⣦⡈⠓⠀⠀⠀⠈⠳⣄⠀⠀⠀⠀\n",
       "⠀⠀⠀⠀⠀⠀⠙⢦⡀⠀⠀⠀⠀⠀⠀⠀⠀⠀⠀⠀⠀⠙⢦⡀⠨⣿⠿⣧⣽⡦⠀⠀⠀⠀⠀⠈⠳⣄⠀⠀\n",
       "⠀⠀⠀⠀⠀⠀⠀⠀⠙⢦⡀⠀⠀⠀⠀⠀⠀⠀⠀⠀⡀⠀⠀⠙⢦⠈⠳⡿⣿⣿⣀⡀⡀⠀⢀⠀⠀⠈⠳⣄\n",
       "⠀⠀⠀⠀⠀⠀⠀⠀⠀⠀⠙⢦⡀⠀⠀⠀⠀⠀⠀⠀⠙⢦⡀⠀⠀⠀⠀⠀⠀⠸⣿⣿⡟⢦⡈⠳⣄⠀⠀⠀\n",
       "⠀⠀⠀⠀⠀⠀⠀⠀⠀⠀⠀⠀⠙⢦⡀⠀⠀⠀⠀⠀⠀⠀⠙⢦⡀⠀⠀⠀⠀⠈⠻⣍⣿⣿⣯⠀⠈⠳⣄⠀\n",
       "⠀⠀⠀⠀⠀⠀⠀⠀⠀⠀⠀⠀⠀⠀⠙⢦⡀⠀⠀⠀⠀⠀⠀⠀⠙⢦⡀⠀⠀⠐⢦⡈⠋⠛⢻⣶⣦⣦⡈⠓\n",
       "⠀⠀⠀⠀⠀⠀⠀⠀⠀⠀⠀⠀⠀⠀⠀⠀⠙⢦⡀⠀⠀⠀⠀⠀⠀⠀⠙⢦⡀⠀⠀⠙⢦⡀⠨⣿⠿⣧⣽⡦\n",
       "⠀⠀⠀⠀⠀⠀⠀⠀⠀⠀⠀⠀⠀⠀⠀⠀⠀⠀⠙⢦⠀⠀⠀⠀⠀⠀⠀⠀⠙⢦⠀⠀⠀⠙⢦⠈⠳⡿⣿⣿"
      ]
     },
     "execution_count": 7,
     "metadata": {},
     "output_type": "execute_result"
    }
   ],
   "source": [
    "TransverseFieldIsing_sparse(N=20, h=1)"
   ]
  },
  {
   "cell_type": "code",
   "execution_count": 8,
   "id": "cabdf627-6a63-4e31-a446-b7d6e35a5cad",
   "metadata": {},
   "outputs": [
    {
     "data": {
      "text/plain": [
       "true"
      ]
     },
     "execution_count": 8,
     "metadata": {},
     "output_type": "execute_result"
    }
   ],
   "source": [
    "function TransverseFieldIsing_sparse_revised(;N, h)\n",
    "    id = [1 0; 0 1] |> sparse\n",
    "    σˣ = [0 1; 1 0] |> sparse\n",
    "    σᶻ = [1 0; 0 -1] |> sparse\n",
    "    \n",
    "    first_term_ops = fill(id, N)\n",
    "    first_term_ops[1] = σᶻ\n",
    "    first_term_ops[2] = σᶻ\n",
    "    \n",
    "    second_term_ops = fill(id, N)\n",
    "    second_term_ops[1] = σˣ\n",
    "    \n",
    "    tmp = [spzeros(Int, 2^k, 2^k) for k in 1:N]\n",
    "    H = spzeros(Int, 2^N, 2^N)\n",
    "    \n",
    "    for i in 1:N\n",
    "        tmp[1] .= first_term_ops[mod1(i, N)]\n",
    "        for k in 2:N\n",
    "            kron!(tmp[k], tmp[k-1], first_term_ops[mod1(i+k-1, N)])\n",
    "        end\n",
    "        H .-= tmp[N]\n",
    "    end\n",
    "    \n",
    "    for i in 1:N\n",
    "        tmp[1] .= second_term_ops[mod1(i, N)]\n",
    "        for k in 2:N\n",
    "            kron!(tmp[k], tmp[k-1], second_term_ops[mod1(i+k-1, N)])\n",
    "        end\n",
    "        H .-= h .* tmp[N]\n",
    "    end\n",
    "    H\n",
    "end\n",
    "\n",
    "function f_sparse_revised(L)\n",
    "    H = TransverseFieldIsing_sparse_revised(N=L, h=1)\n",
    "    d, hist = partialschur(H; nev=1, which=SR())\n",
    "    d.eigenvalues[1]\n",
    "end\n",
    "\n",
    "TransverseFieldIsing_sparse_revised(N=10, h=1) == TransverseFieldIsing_sparse(N=10, h=1)"
   ]
  },
  {
   "cell_type": "code",
   "execution_count": 9,
   "id": "add85c82-4675-4377-a232-20588ac56ffd",
   "metadata": {},
   "outputs": [
    {
     "name": "stdout",
     "output_type": "stream",
     "text": [
      "  2.870208 seconds (385 allocations: 4.078 GiB, 14.16% gc time)\n",
      "  6.471502 seconds (71 allocations: 328.017 MiB)\n"
     ]
    },
    {
     "data": {
      "text/plain": [
       "(ArnoldiMethod.PartialSchur{SubArray{Float64, 2, Matrix{Float64}, Tuple{Base.Slice{Base.OneTo{Int64}}, UnitRange{Int64}}, true}, SubArray{Float64, 2, Matrix{Float64}, Tuple{UnitRange{Int64}, UnitRange{Int64}}, false}, ComplexF64}([0.2360864633046971; 0.0648174169472536; … ; 0.06481741684795281; 0.23608646324871999;;], [-25.490989686364806;;], ComplexF64[-25.490989686364806 + 0.0im]), \u001b[32mConverged\u001b[39m: 1 of 1 eigenvalues in 80 matrix-vector products)"
      ]
     },
     "execution_count": 9,
     "metadata": {},
     "output_type": "execute_result"
    }
   ],
   "source": [
    "L = 20\n",
    "@time H = TransverseFieldIsing_sparse_revised(N=L, h=1)\n",
    "@time d, hist = partialschur(H; nev=1, which=SR())"
   ]
  },
  {
   "cell_type": "code",
   "execution_count": 10,
   "id": "701c2f0f-83d5-49b6-8383-2b8979d966ce",
   "metadata": {},
   "outputs": [
    {
     "name": "stdout",
     "output_type": "stream",
     "text": [
      "  2.924030 seconds (385 allocations: 4.078 GiB, 13.41% gc time)\n",
      "  6.799733 seconds (71 allocations: 328.017 MiB, 2.39% gc time)\n"
     ]
    },
    {
     "data": {
      "text/plain": [
       "(ArnoldiMethod.PartialSchur{SubArray{Float64, 2, Matrix{Float64}, Tuple{Base.Slice{Base.OneTo{Int64}}, UnitRange{Int64}}, true}, SubArray{Float64, 2, Matrix{Float64}, Tuple{UnitRange{Int64}, UnitRange{Int64}}, false}, ComplexF64}([0.23608646327258132; 0.06481741685940348; … ; 0.06481741674432355; 0.23608646316934312;;], [-25.490989686364838;;], ComplexF64[-25.490989686364838 + 0.0im]), \u001b[32mConverged\u001b[39m: 1 of 1 eigenvalues in 80 matrix-vector products)"
      ]
     },
     "execution_count": 10,
     "metadata": {},
     "output_type": "execute_result"
    }
   ],
   "source": [
    "L = 20\n",
    "@time H = TransverseFieldIsing_sparse_revised(N=L, h=1)\n",
    "@time d, hist = partialschur(H; nev=1, which=SR())"
   ]
  },
  {
   "cell_type": "code",
   "execution_count": 11,
   "id": "15162d58-fe4f-45c6-91a9-4124f2e91083",
   "metadata": {},
   "outputs": [
    {
     "name": "stdout",
     "output_type": "stream",
     "text": [
      "  2.602227 seconds (385 allocations: 4.078 GiB, 6.76% gc time)\n",
      "  6.214519 seconds (67 allocations: 328.016 MiB, 1.48% gc time)\n"
     ]
    },
    {
     "data": {
      "text/plain": [
       "(ArnoldiMethod.PartialSchur{SubArray{Float64, 2, Matrix{Float64}, Tuple{Base.Slice{Base.OneTo{Int64}}, UnitRange{Int64}}, true}, SubArray{Float64, 2, Matrix{Float64}, Tuple{UnitRange{Int64}, UnitRange{Int64}}, false}, ComplexF64}([0.2360864631977021; 0.0648174168369423; … ; 0.06481741683961632; 0.2360864632717958;;], [-25.4909896863647;;], ComplexF64[-25.4909896863647 + 0.0im]), \u001b[32mConverged\u001b[39m: 1 of 1 eigenvalues in 80 matrix-vector products)"
      ]
     },
     "execution_count": 11,
     "metadata": {},
     "output_type": "execute_result"
    }
   ],
   "source": [
    "L = 20\n",
    "@time H = TransverseFieldIsing_sparse_revised(N=L, h=1)\n",
    "@time d, hist = partialschur(H; nev=1, which=SR())"
   ]
  },
  {
   "cell_type": "code",
   "execution_count": 12,
   "id": "fc8c3853-343f-4925-b22f-b74085bac74c",
   "metadata": {},
   "outputs": [
    {
     "data": {
      "text/plain": [
       "1048576×1048576 SparseMatrixCSC{Int64, Int64} with 21650584 stored entries:\n",
       "⣿⣿⣾⢦⡀⠳⣄⠀⠀⠀⠳⣄⠀⠀⠀⠀⠀⠀⠀⠀⠳⣄⠀⠀⠀⠀⠀⠀⠀⠀⠀⠀⠀⠀⠀⠀⠀⠀⠀⠀\n",
       "⠺⣟⢻⣶⣿⡂⠈⠳⣄⠀⠀⠈⠳⣄⠀⠀⠀⠀⠀⠀⠀⠈⠳⣄⠀⠀⠀⠀⠀⠀⠀⠀⠀⠀⠀⠀⠀⠀⠀⠀\n",
       "⢤⡈⠻⠻⠿⣧⣤⣠⡈⠳⠄⠀⠀⠈⠳⣄⠀⠀⠀⠀⠀⠀⠀⠈⠳⣄⠀⠀⠀⠀⠀⠀⠀⠀⠀⠀⠀⠀⠀⠀\n",
       "⠀⠙⢦⡀⠀⣻⣿⣿⣙⣦⡀⠀⠀⠀⠀⠈⠳⣄⠀⠀⠀⠀⠀⠀⠀⠈⠳⣄⠀⠀⠀⠀⠀⠀⠀⠀⠀⠀⠀⠀\n",
       "⠀⠀⠀⠙⢦⡈⠳⣼⣿⣿⡆⠀⠀⠀⠀⠀⠀⠈⠳⣄⠀⠀⠀⠀⠀⠀⠀⠈⠳⣄⠀⠀⠀⠀⠀⠀⠀⠀⠀⠀\n",
       "⠙⢦⡀⠀⠀⠁⠀⠈⠈⠉⣿⣿⣾⢦⡀⠳⣄⠀⠀⠈⠀⠀⠀⠀⠀⠀⠀⠀⠀⠈⠳⣄⠀⠀⠀⠀⠀⠀⠀⠀\n",
       "⠀⠀⠙⢦⡀⠀⠀⠀⠀⠀⠺⣟⢻⣶⣿⡂⠈⠳⣄⠀⠀⠀⠀⠀⠀⠀⠀⠀⠀⠀⠀⠈⠳⣄⠀⠀⠀⠀⠀⠀\n",
       "⠀⠀⠀⠀⠙⢦⡀⠀⠀⠀⢤⡈⠻⠻⠿⣧⣤⣠⡈⠳⠀⠀⠀⠀⠀⠀⠀⠀⠀⠀⠀⠀⠀⠈⠳⣄⠀⠀⠀⠀\n",
       "⠀⠀⠀⠀⠀⠀⠙⢦⡀⠀⠀⠙⢦⡀⠀⣻⣿⣿⣙⣦⠀⠀⠀⠀⠀⠀⠀⠀⠀⠀⠀⠀⠀⠀⠀⠈⠳⣄⠀⠀\n",
       "⠀⠀⠀⠀⠀⠀⠀⠀⠙⢦⡀⠀⠀⠙⢦⡈⠳⣼⣿⣿⠀⠀⠀⠀⠀⠀⠀⠀⠀⠀⠀⠀⠀⠀⠀⠀⠀⠈⠳⣄\n",
       "⠙⢦⡀⠀⠀⠀⠀⠀⠀⠀⠀⠀⠀⠀⠀⠀⠀⠀⠀⠀⣿⣿⡟⢦⡈⠳⣄⠀⠀⠈⠳⣄⠀⠀⠀⠀⠀⠀⠀⠀\n",
       "⠀⠀⠙⢦⡀⠀⠀⠀⠀⠀⠀⠀⠀⠀⠀⠀⠀⠀⠀⠀⠻⣍⣿⣿⣯⠀⠈⠳⣄⠀⠀⠈⠳⣄⠀⠀⠀⠀⠀⠀\n",
       "⠀⠀⠀⠀⠙⢦⡀⠀⠀⠀⠀⠀⠀⠀⠀⠀⠀⠀⠀⠀⢦⡈⠋⠛⢻⣶⣦⣦⡈⠓⠀⠀⠀⠈⠳⣄⠀⠀⠀⠀\n",
       "⠀⠀⠀⠀⠀⠀⠙⢦⡀⠀⠀⠀⠀⠀⠀⠀⠀⠀⠀⠀⠀⠙⢦⡀⠨⣿⠿⣧⣽⡦⠀⠀⠀⠀⠀⠈⠳⣄⠀⠀\n",
       "⠀⠀⠀⠀⠀⠀⠀⠀⠙⢦⡀⠀⠀⠀⠀⠀⠀⠀⠀⠀⡀⠀⠀⠙⢦⠈⠳⡿⣿⣿⣀⡀⡀⠀⢀⠀⠀⠈⠳⣄\n",
       "⠀⠀⠀⠀⠀⠀⠀⠀⠀⠀⠙⢦⡀⠀⠀⠀⠀⠀⠀⠀⠙⢦⡀⠀⠀⠀⠀⠀⠀⠸⣿⣿⡟⢦⡈⠳⣄⠀⠀⠀\n",
       "⠀⠀⠀⠀⠀⠀⠀⠀⠀⠀⠀⠀⠙⢦⡀⠀⠀⠀⠀⠀⠀⠀⠙⢦⡀⠀⠀⠀⠀⠈⠻⣍⣿⣿⣯⠀⠈⠳⣄⠀\n",
       "⠀⠀⠀⠀⠀⠀⠀⠀⠀⠀⠀⠀⠀⠀⠙⢦⡀⠀⠀⠀⠀⠀⠀⠀⠙⢦⡀⠀⠀⠐⢦⡈⠋⠛⢻⣶⣦⣦⡈⠓\n",
       "⠀⠀⠀⠀⠀⠀⠀⠀⠀⠀⠀⠀⠀⠀⠀⠀⠙⢦⡀⠀⠀⠀⠀⠀⠀⠀⠙⢦⡀⠀⠀⠙⢦⡀⠨⣿⠿⣧⣽⡦\n",
       "⠀⠀⠀⠀⠀⠀⠀⠀⠀⠀⠀⠀⠀⠀⠀⠀⠀⠀⠙⢦⠀⠀⠀⠀⠀⠀⠀⠀⠙⢦⠀⠀⠀⠙⢦⠈⠳⡿⣿⣿"
      ]
     },
     "execution_count": 12,
     "metadata": {},
     "output_type": "execute_result"
    }
   ],
   "source": [
    "TransverseFieldIsing_sparse_revised(N=20, h=1)"
   ]
  },
  {
   "cell_type": "code",
   "execution_count": 13,
   "id": "95b51c04-e623-40ff-b801-3d3f511a3578",
   "metadata": {},
   "outputs": [
    {
     "data": {
      "text/plain": [
       "true"
      ]
     },
     "execution_count": 13,
     "metadata": {},
     "output_type": "execute_result"
    }
   ],
   "source": [
    "bit(a, k) = (a >> k) & 1\n",
    "\n",
    "function sigmaz2(N)\n",
    "    d = zeros(Int, 2^N)\n",
    "    for k in 1:N, a in 0:2^N-1\n",
    "        d[a+1] -= ifelse(bit(a, N-k) == bit(a, N - mod1(k+1, N)), 1, -1)\n",
    "    end\n",
    "    d\n",
    "end\n",
    "\n",
    "function sigmax(N, h, k)\n",
    "    v = zeros(Int, 2^N - 2^(N-k))\n",
    "    for i in 1:2:2^k-1\n",
    "        v[(2^(N-k)*(i-1) + 1):2^(N-k)*i] .= -h\n",
    "    end\n",
    "    v\n",
    "end\n",
    "\n",
    "function TransverseFieldIsing_sparse_revised2(; N, h)\n",
    "    d = sigmaz2(N)    \n",
    "    v = sigmax.(N, h, 1:N)\n",
    "    H = spdiagm(\n",
    "        (-2^(N-k) => v[k] for k in 1:N)...,\n",
    "        0 => d,\n",
    "        ( 2^(N-k) => v[k] for k in 1:N)...)\n",
    "end\n",
    "\n",
    "function f_sparse_revised2(L)\n",
    "    H = TransverseFieldIsing_sparse_revised2(N=L, h=1)\n",
    "    d, hist = partialschur(H; nev=1, which=SR())\n",
    "    d.eigenvalues[1]\n",
    "end\n",
    "\n",
    "TransverseFieldIsing_sparse_revised2(N=10, h=1) == TransverseFieldIsing_sparse(N=10, h=1)"
   ]
  },
  {
   "cell_type": "code",
   "execution_count": 14,
   "id": "a6f7a123-0971-482f-bf1f-eb425d1bc89f",
   "metadata": {},
   "outputs": [
    {
     "name": "stdout",
     "output_type": "stream",
     "text": [
      "  2.257209 seconds (21.90 k allocations: 2.314 GiB, 0.16% gc time, 0.33% compilation time)\n",
      "  9.399031 seconds (69 allocations: 328.017 MiB, 1.38% gc time)\n"
     ]
    },
    {
     "data": {
      "text/plain": [
       "(ArnoldiMethod.PartialSchur{SubArray{Float64, 2, Matrix{Float64}, Tuple{Base.Slice{Base.OneTo{Int64}}, UnitRange{Int64}}, true}, SubArray{Float64, 2, Matrix{Float64}, Tuple{UnitRange{Int64}, UnitRange{Int64}}, false}, ComplexF64}([0.23608646316394694; 0.06481741675269476; … ; 0.0648174167797212; 0.23608646325222996;;], [-25.490989686364788;;], ComplexF64[-25.490989686364788 + 0.0im]), \u001b[32mConverged\u001b[39m: 1 of 1 eigenvalues in 80 matrix-vector products)"
      ]
     },
     "execution_count": 14,
     "metadata": {},
     "output_type": "execute_result"
    }
   ],
   "source": [
    "L = 20\n",
    "@time H = TransverseFieldIsing_sparse_revised2(N=L, h=1)\n",
    "@time d, hist = partialschur(H; nev=1, which=SR())"
   ]
  },
  {
   "cell_type": "code",
   "execution_count": 15,
   "id": "034efb76-5f8a-4e24-a665-05e7bc28dacd",
   "metadata": {},
   "outputs": [
    {
     "name": "stdout",
     "output_type": "stream",
     "text": [
      "  2.706911 seconds (485 allocations: 2.313 GiB, 13.87% gc time)\n",
      " 14.006098 seconds (70 allocations: 328.017 MiB, 1.56% gc time)\n"
     ]
    },
    {
     "data": {
      "text/plain": [
       "(ArnoldiMethod.PartialSchur{SubArray{Float64, 2, Matrix{Float64}, Tuple{Base.Slice{Base.OneTo{Int64}}, UnitRange{Int64}}, true}, SubArray{Float64, 2, Matrix{Float64}, Tuple{UnitRange{Int64}, UnitRange{Int64}}, false}, ComplexF64}([0.2360864631171512; 0.06481741666241515; … ; 0.06481741684743102; 0.23608646339763717;;], [-25.49098968636467;;], ComplexF64[-25.49098968636467 + 0.0im]), \u001b[32mConverged\u001b[39m: 1 of 1 eigenvalues in 80 matrix-vector products)"
      ]
     },
     "execution_count": 15,
     "metadata": {},
     "output_type": "execute_result"
    }
   ],
   "source": [
    "L = 20\n",
    "@time H = TransverseFieldIsing_sparse_revised2(N=L, h=1)\n",
    "@time d, hist = partialschur(H; nev=1, which=SR())"
   ]
  },
  {
   "cell_type": "code",
   "execution_count": 16,
   "id": "9047fc30-dc15-4ba8-bf29-b6a94183c7d1",
   "metadata": {},
   "outputs": [
    {
     "name": "stdout",
     "output_type": "stream",
     "text": [
      "  2.917142 seconds (485 allocations: 2.313 GiB, 13.23% gc time)\n",
      " 12.666293 seconds (65 allocations: 328.016 MiB, 1.86% gc time)\n"
     ]
    },
    {
     "data": {
      "text/plain": [
       "(ArnoldiMethod.PartialSchur{SubArray{Float64, 2, Matrix{Float64}, Tuple{Base.Slice{Base.OneTo{Int64}}, UnitRange{Int64}}, true}, SubArray{Float64, 2, Matrix{Float64}, Tuple{UnitRange{Int64}, UnitRange{Int64}}, false}, ComplexF64}([0.23608646297156452; 0.06481741674067998; … ; 0.06481741686791398; 0.23608646349121185;;], [-25.490989686364667;;], ComplexF64[-25.490989686364667 + 0.0im]), \u001b[32mConverged\u001b[39m: 1 of 1 eigenvalues in 80 matrix-vector products)"
      ]
     },
     "execution_count": 16,
     "metadata": {},
     "output_type": "execute_result"
    }
   ],
   "source": [
    "L = 20\n",
    "@time H = TransverseFieldIsing_sparse_revised2(N=L, h=1)\n",
    "@time d, hist = partialschur(H; nev=1, which=SR())"
   ]
  },
  {
   "cell_type": "code",
   "execution_count": 17,
   "id": "cc3c3431-d01b-4cd7-83da-f2866defab1d",
   "metadata": {},
   "outputs": [
    {
     "name": "stdout",
     "output_type": "stream",
     "text": [
      "  0.122803 seconds (2 allocations: 8.000 MiB)\n",
      "  0.066156 seconds (41 allocations: 152.001 MiB, 41.83% gc time)\n",
      "  2.452109 seconds (11.41 k allocations: 2.157 GiB, 12.96% gc time, 0.94% compilation time)\n",
      "\n",
      "  0.135020 seconds (2 allocations: 8.000 MiB)\n",
      "  0.052721 seconds (41 allocations: 152.001 MiB)\n",
      "  2.554871 seconds (440 allocations: 2.156 GiB, 19.08% gc time)\n",
      "\n",
      "  0.125856 seconds (2 allocations: 8.000 MiB)\n",
      "  0.043061 seconds (41 allocations: 152.001 MiB)\n",
      "  2.481045 seconds (440 allocations: 2.156 GiB, 19.51% gc time)\n"
     ]
    },
    {
     "data": {
      "text/plain": [
       "1048576×1048576 SparseMatrixCSC{Int64, Int64} with 40894466 stored entries:\n",
       "⣿⣿⣾⣦⡀⠳⣄⠀⠀⠀⠳⣄⠀⠀⠀⠀⠀⠀⠀⠀⠳⣄⠀⠀⠀⠀⠀⠀⠀⠀⠀⠀⠀⠀⠀⠀⠀⠀⠀⠀\n",
       "⠺⣿⣿⣿⣿⣦⡈⠳⣄⠀⠀⠈⠳⣄⠀⠀⠀⠀⠀⠀⠀⠈⠳⣄⠀⠀⠀⠀⠀⠀⠀⠀⠀⠀⠀⠀⠀⠀⠀⠀\n",
       "⢤⡈⠻⣿⣿⣿⣿⣦⡈⠳⣄⠀⠀⠈⠳⣄⠀⠀⠀⠀⠀⠀⠀⠈⠳⣄⠀⠀⠀⠀⠀⠀⠀⠀⠀⠀⠀⠀⠀⠀\n",
       "⠀⠙⢦⡈⠻⣿⣿⣿⣿⣦⡈⠳⣄⠀⠀⠈⠳⣄⠀⠀⠀⠀⠀⠀⠀⠈⠳⣄⠀⠀⠀⠀⠀⠀⠀⠀⠀⠀⠀⠀\n",
       "⠀⠀⠀⠙⢦⡈⠻⣿⣿⣿⣿⣦⡈⠳⣄⠀⠀⠈⠳⣄⠀⠀⠀⠀⠀⠀⠀⠈⠳⣄⠀⠀⠀⠀⠀⠀⠀⠀⠀⠀\n",
       "⠙⢦⡀⠀⠀⠙⢦⡈⠻⣿⣿⣿⣿⣦⡈⠳⣄⠀⠀⠈⠳⣄⠀⠀⠀⠀⠀⠀⠀⠈⠳⣄⠀⠀⠀⠀⠀⠀⠀⠀\n",
       "⠀⠀⠙⢦⡀⠀⠀⠙⢦⡈⠻⣿⣿⣿⣿⣦⡈⠳⣄⠀⠀⠈⠳⣄⠀⠀⠀⠀⠀⠀⠀⠈⠳⣄⠀⠀⠀⠀⠀⠀\n",
       "⠀⠀⠀⠀⠙⢦⡀⠀⠀⠙⢦⡈⠻⣿⣿⣿⣿⣦⡈⠳⣄⠀⠀⠈⠳⣄⠀⠀⠀⠀⠀⠀⠀⠈⠳⣄⠀⠀⠀⠀\n",
       "⠀⠀⠀⠀⠀⠀⠙⢦⡀⠀⠀⠙⢦⡈⠻⣿⣿⣿⣿⣦⡈⠳⣄⠀⠀⠈⠳⣄⠀⠀⠀⠀⠀⠀⠀⠈⠳⣄⠀⠀\n",
       "⠀⠀⠀⠀⠀⠀⠀⠀⠙⢦⡀⠀⠀⠙⢦⡈⠻⣿⣿⣿⣿⣦⡈⠳⣄⠀⠀⠈⠳⣄⠀⠀⠀⠀⠀⠀⠀⠈⠳⣄\n",
       "⠙⢦⡀⠀⠀⠀⠀⠀⠀⠀⠙⢦⡀⠀⠀⠙⢦⡈⠻⣿⣿⣿⣿⣦⡈⠳⣄⠀⠀⠈⠳⣄⠀⠀⠀⠀⠀⠀⠀⠀\n",
       "⠀⠀⠙⢦⡀⠀⠀⠀⠀⠀⠀⠀⠙⢦⡀⠀⠀⠙⢦⡈⠻⣿⣿⣿⣿⣦⡈⠳⣄⠀⠀⠈⠳⣄⠀⠀⠀⠀⠀⠀\n",
       "⠀⠀⠀⠀⠙⢦⡀⠀⠀⠀⠀⠀⠀⠀⠙⢦⡀⠀⠀⠙⢦⡈⠻⣿⣿⣿⣿⣦⡈⠳⣄⠀⠀⠈⠳⣄⠀⠀⠀⠀\n",
       "⠀⠀⠀⠀⠀⠀⠙⢦⡀⠀⠀⠀⠀⠀⠀⠀⠙⢦⡀⠀⠀⠙⢦⡈⠻⣿⣿⣿⣿⣦⡈⠳⣄⠀⠀⠈⠳⣄⠀⠀\n",
       "⠀⠀⠀⠀⠀⠀⠀⠀⠙⢦⡀⠀⠀⠀⠀⠀⠀⠀⠙⢦⡀⠀⠀⠙⢦⡈⠻⣿⣿⣿⣿⣦⡈⠳⣄⠀⠀⠈⠳⣄\n",
       "⠀⠀⠀⠀⠀⠀⠀⠀⠀⠀⠙⢦⡀⠀⠀⠀⠀⠀⠀⠀⠙⢦⡀⠀⠀⠙⢦⡈⠻⣿⣿⣿⣿⣦⡈⠳⣄⠀⠀⠀\n",
       "⠀⠀⠀⠀⠀⠀⠀⠀⠀⠀⠀⠀⠙⢦⡀⠀⠀⠀⠀⠀⠀⠀⠙⢦⡀⠀⠀⠙⢦⡈⠻⣿⣿⣿⣿⣦⡈⠳⣄⠀\n",
       "⠀⠀⠀⠀⠀⠀⠀⠀⠀⠀⠀⠀⠀⠀⠙⢦⡀⠀⠀⠀⠀⠀⠀⠀⠙⢦⡀⠀⠀⠙⢦⡈⠻⣿⣿⣿⣿⣦⡈⠓\n",
       "⠀⠀⠀⠀⠀⠀⠀⠀⠀⠀⠀⠀⠀⠀⠀⠀⠙⢦⡀⠀⠀⠀⠀⠀⠀⠀⠙⢦⡀⠀⠀⠙⢦⡈⠻⣿⣿⣿⣿⡦\n",
       "⠀⠀⠀⠀⠀⠀⠀⠀⠀⠀⠀⠀⠀⠀⠀⠀⠀⠀⠙⢦⠀⠀⠀⠀⠀⠀⠀⠀⠙⢦⠀⠀⠀⠙⢦⠈⠻⡿⣿⣿"
      ]
     },
     "execution_count": 17,
     "metadata": {},
     "output_type": "execute_result"
    }
   ],
   "source": [
    "function TransverseFieldIsing_sparse_revised2_time(;N, h)\n",
    "    @time d = sigmaz2(N)    \n",
    "    @time v = sigmax.(N, h, 1:N)    \n",
    "    @time H = spdiagm(\n",
    "        (-2^(N-k) => v[k] for k in 1:N)...,\n",
    "        0 => d,\n",
    "        ( 2^(N-k) => v[k] for k in 1:N)...)\n",
    "end\n",
    "\n",
    "TransverseFieldIsing_sparse_revised2_time(N=20, h=1); println()\n",
    "TransverseFieldIsing_sparse_revised2_time(N=20, h=1); println()\n",
    "TransverseFieldIsing_sparse_revised2_time(N=20, h=1)"
   ]
  },
  {
   "cell_type": "code",
   "execution_count": 18,
   "id": "c9890c42-9173-42c1-9ffe-c8e7ebaa3682",
   "metadata": {},
   "outputs": [
    {
     "data": {
      "text/plain": [
       "true"
      ]
     },
     "execution_count": 18,
     "metadata": {},
     "output_type": "execute_result"
    }
   ],
   "source": [
    "bit(a, k) = (a >> k) & 1\n",
    "\n",
    "function sigmaz2_sparse(N)\n",
    "    d = zeros(Int, 2^N)\n",
    "    for k in 1:N, a in 0:2^N-1\n",
    "        d[a+1] -= ifelse(bit(a, N-k) == bit(a, N - mod1(k+1, N)), 1, -1)\n",
    "    end\n",
    "    sparse(d) # should be sparse\n",
    "end\n",
    "\n",
    "function sigmax_sparse(N, h, k)\n",
    "    v = zeros(Int, 2^N - 2^(N-k))\n",
    "    for i in 1:2:2^k-1\n",
    "        v[(2^(N-k)*(i-1) + 1):2^(N-k)*i] .= -h\n",
    "    end\n",
    "    sparse(v) # should be sparse\n",
    "end\n",
    "\n",
    "function TransverseFieldIsing_sparse_revised3(; N, h)\n",
    "    d = sigmaz2_sparse(N)    \n",
    "    v = sigmax_sparse.(N, h, 1:N)    \n",
    "    H = spdiagm(\n",
    "        (-2^(N-k) => v[k] for k in 1:N)...,\n",
    "        0 => d,\n",
    "        ( 2^(N-k) => v[k] for k in 1:N)...)\n",
    "end\n",
    "\n",
    "function f_sparse_revised3(L)\n",
    "    H = TransverseFieldIsing_sparse_revised3(N=L, h=1)\n",
    "    d, hist = partialschur(H; nev=1, which=SR())\n",
    "    d.eigenvalues[1]\n",
    "end\n",
    "\n",
    "TransverseFieldIsing_sparse_revised3(N=10, h=1) == TransverseFieldIsing_sparse(N=10, h=1)"
   ]
  },
  {
   "cell_type": "code",
   "execution_count": 19,
   "id": "cc245d4f-5c90-47ae-b7be-c0cf766b0701",
   "metadata": {
    "tags": []
   },
   "outputs": [
    {
     "name": "stdout",
     "output_type": "stream",
     "text": [
      "  2.026332 seconds (22.24 k allocations: 1.948 GiB, 24.89% gc time, 0.43% compilation time)\n",
      "  6.533151 seconds (69 allocations: 328.017 MiB)\n"
     ]
    },
    {
     "data": {
      "text/plain": [
       "(ArnoldiMethod.PartialSchur{SubArray{Float64, 2, Matrix{Float64}, Tuple{Base.Slice{Base.OneTo{Int64}}, UnitRange{Int64}}, true}, SubArray{Float64, 2, Matrix{Float64}, Tuple{UnitRange{Int64}, UnitRange{Int64}}, false}, ComplexF64}([0.23608646323178667; 0.06481741675713112; … ; 0.06481741679844684; 0.23608646322819707;;], [-25.490989686364692;;], ComplexF64[-25.490989686364692 + 0.0im]), \u001b[32mConverged\u001b[39m: 1 of 1 eigenvalues in 80 matrix-vector products)"
      ]
     },
     "execution_count": 19,
     "metadata": {},
     "output_type": "execute_result"
    }
   ],
   "source": [
    "L = 20\n",
    "@time H = TransverseFieldIsing_sparse_revised3(N=L, h=1)\n",
    "@time d, hist = partialschur(H; nev=1, which=SR())"
   ]
  },
  {
   "cell_type": "code",
   "execution_count": 20,
   "id": "5e0962d3-45fa-49e1-b212-eaaf486caba3",
   "metadata": {},
   "outputs": [
    {
     "name": "stdout",
     "output_type": "stream",
     "text": [
      "  1.909642 seconds (859 allocations: 1.947 GiB, 25.74% gc time)\n",
      "  6.628583 seconds (70 allocations: 328.017 MiB, 2.21% gc time)\n"
     ]
    },
    {
     "data": {
      "text/plain": [
       "(ArnoldiMethod.PartialSchur{SubArray{Float64, 2, Matrix{Float64}, Tuple{Base.Slice{Base.OneTo{Int64}}, UnitRange{Int64}}, true}, SubArray{Float64, 2, Matrix{Float64}, Tuple{UnitRange{Int64}, UnitRange{Int64}}, false}, ComplexF64}([-0.2360864629014018; -0.06481741675471878; … ; -0.06481741678319904; -0.2360864634963557;;], [-25.490989686364777;;], ComplexF64[-25.490989686364777 + 0.0im]), \u001b[32mConverged\u001b[39m: 1 of 1 eigenvalues in 80 matrix-vector products)"
      ]
     },
     "execution_count": 20,
     "metadata": {},
     "output_type": "execute_result"
    }
   ],
   "source": [
    "L = 20\n",
    "@time H = TransverseFieldIsing_sparse_revised3(N=L, h=1)\n",
    "@time d, hist = partialschur(H; nev=1, which=SR())"
   ]
  },
  {
   "cell_type": "code",
   "execution_count": 21,
   "id": "d8650548-ec9e-4796-8652-f3ff2b456156",
   "metadata": {},
   "outputs": [
    {
     "name": "stdout",
     "output_type": "stream",
     "text": [
      "  1.803837 seconds (859 allocations: 1.947 GiB, 19.92% gc time)\n",
      "  6.421522 seconds (69 allocations: 328.017 MiB)\n"
     ]
    },
    {
     "data": {
      "text/plain": [
       "(ArnoldiMethod.PartialSchur{SubArray{Float64, 2, Matrix{Float64}, Tuple{Base.Slice{Base.OneTo{Int64}}, UnitRange{Int64}}, true}, SubArray{Float64, 2, Matrix{Float64}, Tuple{UnitRange{Int64}, UnitRange{Int64}}, false}, ComplexF64}([0.23608646332465794; 0.06481741686516923; … ; 0.0648174168755622; 0.23608646313274745;;], [-25.49098968636477;;], ComplexF64[-25.49098968636477 + 0.0im]), \u001b[32mConverged\u001b[39m: 1 of 1 eigenvalues in 80 matrix-vector products)"
      ]
     },
     "execution_count": 21,
     "metadata": {},
     "output_type": "execute_result"
    }
   ],
   "source": [
    "L = 20\n",
    "@time H = TransverseFieldIsing_sparse_revised3(N=L, h=1)\n",
    "@time d, hist = partialschur(H; nev=1, which=SR())"
   ]
  },
  {
   "cell_type": "code",
   "execution_count": 22,
   "id": "4fafd66d-4203-4e65-875e-b6cbe91a9862",
   "metadata": {},
   "outputs": [
    {
     "name": "stdout",
     "output_type": "stream",
     "text": [
      "  0.127333 seconds (12 allocations: 25.879 MiB)\n",
      "  0.363907 seconds (241 allocations: 456.943 MiB, 51.86% gc time)\n",
      "  1.709171 seconds (11.56 k allocations: 1.476 GiB, 19.62% gc time, 1.75% compilation time)\n",
      "\n",
      "  0.145346 seconds (12 allocations: 25.879 MiB)\n",
      "  0.493428 seconds (241 allocations: 456.943 MiB, 59.75% gc time)\n",
      "  1.380391 seconds (604 allocations: 1.475 GiB, 13.45% gc time)\n",
      "\n",
      "  0.132552 seconds (12 allocations: 25.879 MiB)\n",
      "  0.416358 seconds (241 allocations: 456.943 MiB, 62.29% gc time)\n",
      "  1.415231 seconds (604 allocations: 1.475 GiB, 14.11% gc time)\n"
     ]
    },
    {
     "data": {
      "text/plain": [
       "1048576×1048576 SparseMatrixCSC{Int64, Int64} with 21650584 stored entries:\n",
       "⣿⣿⣾⢦⡀⠳⣄⠀⠀⠀⠳⣄⠀⠀⠀⠀⠀⠀⠀⠀⠳⣄⠀⠀⠀⠀⠀⠀⠀⠀⠀⠀⠀⠀⠀⠀⠀⠀⠀⠀\n",
       "⠺⣟⢻⣶⣿⡂⠈⠳⣄⠀⠀⠈⠳⣄⠀⠀⠀⠀⠀⠀⠀⠈⠳⣄⠀⠀⠀⠀⠀⠀⠀⠀⠀⠀⠀⠀⠀⠀⠀⠀\n",
       "⢤⡈⠻⠻⠿⣧⣤⣠⡈⠳⠄⠀⠀⠈⠳⣄⠀⠀⠀⠀⠀⠀⠀⠈⠳⣄⠀⠀⠀⠀⠀⠀⠀⠀⠀⠀⠀⠀⠀⠀\n",
       "⠀⠙⢦⡀⠀⣻⣿⣿⣙⣦⡀⠀⠀⠀⠀⠈⠳⣄⠀⠀⠀⠀⠀⠀⠀⠈⠳⣄⠀⠀⠀⠀⠀⠀⠀⠀⠀⠀⠀⠀\n",
       "⠀⠀⠀⠙⢦⡈⠳⣼⣿⣿⡆⠀⠀⠀⠀⠀⠀⠈⠳⣄⠀⠀⠀⠀⠀⠀⠀⠈⠳⣄⠀⠀⠀⠀⠀⠀⠀⠀⠀⠀\n",
       "⠙⢦⡀⠀⠀⠁⠀⠈⠈⠉⣿⣿⣾⢦⡀⠳⣄⠀⠀⠈⠀⠀⠀⠀⠀⠀⠀⠀⠀⠈⠳⣄⠀⠀⠀⠀⠀⠀⠀⠀\n",
       "⠀⠀⠙⢦⡀⠀⠀⠀⠀⠀⠺⣟⢻⣶⣿⡂⠈⠳⣄⠀⠀⠀⠀⠀⠀⠀⠀⠀⠀⠀⠀⠈⠳⣄⠀⠀⠀⠀⠀⠀\n",
       "⠀⠀⠀⠀⠙⢦⡀⠀⠀⠀⢤⡈⠻⠻⠿⣧⣤⣠⡈⠳⠀⠀⠀⠀⠀⠀⠀⠀⠀⠀⠀⠀⠀⠈⠳⣄⠀⠀⠀⠀\n",
       "⠀⠀⠀⠀⠀⠀⠙⢦⡀⠀⠀⠙⢦⡀⠀⣻⣿⣿⣙⣦⠀⠀⠀⠀⠀⠀⠀⠀⠀⠀⠀⠀⠀⠀⠀⠈⠳⣄⠀⠀\n",
       "⠀⠀⠀⠀⠀⠀⠀⠀⠙⢦⡀⠀⠀⠙⢦⡈⠳⣼⣿⣿⠀⠀⠀⠀⠀⠀⠀⠀⠀⠀⠀⠀⠀⠀⠀⠀⠀⠈⠳⣄\n",
       "⠙⢦⡀⠀⠀⠀⠀⠀⠀⠀⠀⠀⠀⠀⠀⠀⠀⠀⠀⠀⣿⣿⡟⢦⡈⠳⣄⠀⠀⠈⠳⣄⠀⠀⠀⠀⠀⠀⠀⠀\n",
       "⠀⠀⠙⢦⡀⠀⠀⠀⠀⠀⠀⠀⠀⠀⠀⠀⠀⠀⠀⠀⠻⣍⣿⣿⣯⠀⠈⠳⣄⠀⠀⠈⠳⣄⠀⠀⠀⠀⠀⠀\n",
       "⠀⠀⠀⠀⠙⢦⡀⠀⠀⠀⠀⠀⠀⠀⠀⠀⠀⠀⠀⠀⢦⡈⠋⠛⢻⣶⣦⣦⡈⠓⠀⠀⠀⠈⠳⣄⠀⠀⠀⠀\n",
       "⠀⠀⠀⠀⠀⠀⠙⢦⡀⠀⠀⠀⠀⠀⠀⠀⠀⠀⠀⠀⠀⠙⢦⡀⠨⣿⠿⣧⣽⡦⠀⠀⠀⠀⠀⠈⠳⣄⠀⠀\n",
       "⠀⠀⠀⠀⠀⠀⠀⠀⠙⢦⡀⠀⠀⠀⠀⠀⠀⠀⠀⠀⡀⠀⠀⠙⢦⠈⠳⡿⣿⣿⣀⡀⡀⠀⢀⠀⠀⠈⠳⣄\n",
       "⠀⠀⠀⠀⠀⠀⠀⠀⠀⠀⠙⢦⡀⠀⠀⠀⠀⠀⠀⠀⠙⢦⡀⠀⠀⠀⠀⠀⠀⠸⣿⣿⡟⢦⡈⠳⣄⠀⠀⠀\n",
       "⠀⠀⠀⠀⠀⠀⠀⠀⠀⠀⠀⠀⠙⢦⡀⠀⠀⠀⠀⠀⠀⠀⠙⢦⡀⠀⠀⠀⠀⠈⠻⣍⣿⣿⣯⠀⠈⠳⣄⠀\n",
       "⠀⠀⠀⠀⠀⠀⠀⠀⠀⠀⠀⠀⠀⠀⠙⢦⡀⠀⠀⠀⠀⠀⠀⠀⠙⢦⡀⠀⠀⠐⢦⡈⠋⠛⢻⣶⣦⣦⡈⠓\n",
       "⠀⠀⠀⠀⠀⠀⠀⠀⠀⠀⠀⠀⠀⠀⠀⠀⠙⢦⡀⠀⠀⠀⠀⠀⠀⠀⠙⢦⡀⠀⠀⠙⢦⡀⠨⣿⠿⣧⣽⡦\n",
       "⠀⠀⠀⠀⠀⠀⠀⠀⠀⠀⠀⠀⠀⠀⠀⠀⠀⠀⠙⢦⠀⠀⠀⠀⠀⠀⠀⠀⠙⢦⠀⠀⠀⠙⢦⠈⠳⡿⣿⣿"
      ]
     },
     "execution_count": 22,
     "metadata": {},
     "output_type": "execute_result"
    }
   ],
   "source": [
    "function TransverseFieldIsing_sparse_revised3_time(; N, h)\n",
    "    @time d = sigmaz2_sparse(N)    \n",
    "    @time v = sigmax_sparse.(N, h, 1:N)    \n",
    "    @time H = spdiagm(\n",
    "        (-2^(N-k) => v[k] for k in 1:N)...,\n",
    "        0 => d,\n",
    "        ( 2^(N-k) => v[k] for k in 1:N)...)\n",
    "end\n",
    "\n",
    "TransverseFieldIsing_sparse_revised3_time(N=20, h=1); println()\n",
    "TransverseFieldIsing_sparse_revised3_time(N=20, h=1); println()\n",
    "TransverseFieldIsing_sparse_revised3_time(N=20, h=1)"
   ]
  },
  {
   "cell_type": "code",
   "execution_count": 23,
   "id": "d41a3309-0d1a-49b2-97ec-53622dae3107",
   "metadata": {},
   "outputs": [
    {
     "data": {
      "text/plain": [
       "true"
      ]
     },
     "execution_count": 23,
     "metadata": {},
     "output_type": "execute_result"
    }
   ],
   "source": [
    "bit(a, k) = (a >> k) & 1\n",
    "\n",
    "function sigmaz2(N)\n",
    "    d = zeros(Int8, 2^N)\n",
    "    for k in 1:N, a in 0:2^N-1\n",
    "        d[a+1] -= ifelse(bit(a, N-k) == bit(a, N - mod1(k+1, N)), 1, -1)\n",
    "    end\n",
    "    d\n",
    "end\n",
    "\n",
    "function IJV(N, h=1)\n",
    "    i, v = findnz(sigmaz2_sparse(N))\n",
    "    m = length(i)\n",
    "    M = 2^N\n",
    "    \n",
    "    I = Vector{Int32}(undef, m + N*M)\n",
    "    J = similar(I)\n",
    "    V = similar(I, Int8)\n",
    "    \n",
    "    I[1:m] .= i\n",
    "    J[1:m] .= i\n",
    "    V[1:m] .= v\n",
    "    V[m+1:end] .= -h\n",
    "    \n",
    "    for a in 0:M-1\n",
    "        s = m + N*a\n",
    "        I[s+1:s+N] .= a+1\n",
    "        for i in 1:N\n",
    "            b = a ⊻ (1 << (N-i))\n",
    "            J[s+i] = b+1\n",
    "        end\n",
    "    end\n",
    "    \n",
    "    I, J, V\n",
    "end\n",
    "\n",
    "TransverseFieldIsing_sparse_revised4(; N, h) = sparse(IJV(N, h)...)\n",
    "\n",
    "function f_sparse_revised4(L)\n",
    "    H = TransverseFieldIsing_sparse_revised4(N=L, h=1)\n",
    "    d, hist = partialschur(H; nev=1, which=SR())\n",
    "    d.eigenvalues[1]\n",
    "end\n",
    "\n",
    "TransverseFieldIsing_sparse_revised4(N=10, h=1) == TransverseFieldIsing_sparse(N=10, h=1)"
   ]
  },
  {
   "cell_type": "code",
   "execution_count": 24,
   "id": "0e205a7b-8aa5-4f7c-af53-b89495975075",
   "metadata": {},
   "outputs": [
    {
     "name": "stdout",
     "output_type": "stream",
     "text": [
      "  0.740486 seconds (45 allocations: 440.546 MiB, 23.06% gc time)\n",
      "  6.815968 seconds (1.94 M allocations: 422.754 MiB, 2.41% gc time, 6.41% compilation time)\n"
     ]
    },
    {
     "data": {
      "text/plain": [
       "(ArnoldiMethod.PartialSchur{SubArray{Float64, 2, Matrix{Float64}, Tuple{Base.Slice{Base.OneTo{Int64}}, UnitRange{Int64}}, true}, SubArray{Float64, 2, Matrix{Float64}, Tuple{UnitRange{Int64}, UnitRange{Int64}}, false}, ComplexF64}([0.23608646344579565; 0.06481741671505085; … ; 0.06481741673486824; 0.23608646315051454;;], [-25.490989686364763;;], ComplexF64[-25.490989686364763 + 0.0im]), \u001b[32mConverged\u001b[39m: 1 of 1 eigenvalues in 80 matrix-vector products)"
      ]
     },
     "execution_count": 24,
     "metadata": {},
     "output_type": "execute_result"
    }
   ],
   "source": [
    "L = 20\n",
    "@time H = TransverseFieldIsing_sparse_revised4(N=L, h=1)\n",
    "@time d, hist = partialschur(H; nev=1, which=SR())"
   ]
  },
  {
   "cell_type": "code",
   "execution_count": 25,
   "id": "d28d30d2-bbb2-4d98-a99d-9143eb81c794",
   "metadata": {},
   "outputs": [
    {
     "name": "stdout",
     "output_type": "stream",
     "text": [
      "  0.613358 seconds (45 allocations: 440.546 MiB, 15.99% gc time)\n",
      "  6.033260 seconds (66 allocations: 328.016 MiB, 1.71% gc time)\n"
     ]
    },
    {
     "data": {
      "text/plain": [
       "(ArnoldiMethod.PartialSchur{SubArray{Float64, 2, Matrix{Float64}, Tuple{Base.Slice{Base.OneTo{Int64}}, UnitRange{Int64}}, true}, SubArray{Float64, 2, Matrix{Float64}, Tuple{UnitRange{Int64}, UnitRange{Int64}}, false}, ComplexF64}([-0.23608646338067998; -0.06481741684219659; … ; -0.06481741679306888; -0.23608646323942808;;], [-25.490989686364742;;], ComplexF64[-25.490989686364742 + 0.0im]), \u001b[32mConverged\u001b[39m: 1 of 1 eigenvalues in 80 matrix-vector products)"
      ]
     },
     "execution_count": 25,
     "metadata": {},
     "output_type": "execute_result"
    }
   ],
   "source": [
    "L = 20\n",
    "@time H = TransverseFieldIsing_sparse_revised4(N=L, h=1)\n",
    "@time d, hist = partialschur(H; nev=1, which=SR())"
   ]
  },
  {
   "cell_type": "code",
   "execution_count": 26,
   "id": "88ecff6d-b0ff-464e-9103-00efed111f7c",
   "metadata": {},
   "outputs": [
    {
     "name": "stdout",
     "output_type": "stream",
     "text": [
      "  0.660722 seconds (45 allocations: 440.546 MiB, 24.23% gc time)\n",
      "  6.052385 seconds (66 allocations: 328.016 MiB, 1.68% gc time)\n"
     ]
    },
    {
     "data": {
      "text/plain": [
       "(ArnoldiMethod.PartialSchur{SubArray{Float64, 2, Matrix{Float64}, Tuple{Base.Slice{Base.OneTo{Int64}}, UnitRange{Int64}}, true}, SubArray{Float64, 2, Matrix{Float64}, Tuple{UnitRange{Int64}, UnitRange{Int64}}, false}, ComplexF64}([-0.23608646298345434; -0.06481741676767476; … ; -0.06481741684625962; -0.23608646339998085;;], [-25.49098968636477;;], ComplexF64[-25.49098968636477 + 0.0im]), \u001b[32mConverged\u001b[39m: 1 of 1 eigenvalues in 80 matrix-vector products)"
      ]
     },
     "execution_count": 26,
     "metadata": {},
     "output_type": "execute_result"
    }
   ],
   "source": [
    "L = 20\n",
    "@time H = TransverseFieldIsing_sparse_revised4(N=L, h=1)\n",
    "@time d, hist = partialschur(H; nev=1, which=SR())"
   ]
  },
  {
   "cell_type": "code",
   "execution_count": 27,
   "id": "065d802c-0694-4fa1-99cf-85de6d08db76",
   "metadata": {},
   "outputs": [
    {
     "name": "stdout",
     "output_type": "stream",
     "text": [
      "  0.293487 seconds (22 allocations: 222.070 MiB, 29.77% gc time)\n",
      "  0.373351 seconds (17 allocations: 218.477 MiB, 20.42% gc time)\n",
      "\n",
      "  0.284671 seconds (22 allocations: 222.070 MiB, 28.78% gc time)\n",
      "  0.325566 seconds (17 allocations: 218.477 MiB, 5.84% gc time)\n",
      "\n",
      "  0.317679 seconds (22 allocations: 222.070 MiB, 32.27% gc time)\n",
      "  0.312738 seconds (17 allocations: 218.477 MiB, 5.97% gc time)\n"
     ]
    },
    {
     "data": {
      "text/plain": [
       "1048576×1048576 SparseMatrixCSC{Int8, Int32} with 21650584 stored entries:\n",
       "⣿⣿⣾⢦⡀⠳⣄⠀⠀⠀⠳⣄⠀⠀⠀⠀⠀⠀⠀⠀⠳⣄⠀⠀⠀⠀⠀⠀⠀⠀⠀⠀⠀⠀⠀⠀⠀⠀⠀⠀\n",
       "⠺⣟⢻⣶⣿⡂⠈⠳⣄⠀⠀⠈⠳⣄⠀⠀⠀⠀⠀⠀⠀⠈⠳⣄⠀⠀⠀⠀⠀⠀⠀⠀⠀⠀⠀⠀⠀⠀⠀⠀\n",
       "⢤⡈⠻⠻⠿⣧⣤⣠⡈⠳⠄⠀⠀⠈⠳⣄⠀⠀⠀⠀⠀⠀⠀⠈⠳⣄⠀⠀⠀⠀⠀⠀⠀⠀⠀⠀⠀⠀⠀⠀\n",
       "⠀⠙⢦⡀⠀⣻⣿⣿⣙⣦⡀⠀⠀⠀⠀⠈⠳⣄⠀⠀⠀⠀⠀⠀⠀⠈⠳⣄⠀⠀⠀⠀⠀⠀⠀⠀⠀⠀⠀⠀\n",
       "⠀⠀⠀⠙⢦⡈⠳⣼⣿⣿⡆⠀⠀⠀⠀⠀⠀⠈⠳⣄⠀⠀⠀⠀⠀⠀⠀⠈⠳⣄⠀⠀⠀⠀⠀⠀⠀⠀⠀⠀\n",
       "⠙⢦⡀⠀⠀⠁⠀⠈⠈⠉⣿⣿⣾⢦⡀⠳⣄⠀⠀⠈⠀⠀⠀⠀⠀⠀⠀⠀⠀⠈⠳⣄⠀⠀⠀⠀⠀⠀⠀⠀\n",
       "⠀⠀⠙⢦⡀⠀⠀⠀⠀⠀⠺⣟⢻⣶⣿⡂⠈⠳⣄⠀⠀⠀⠀⠀⠀⠀⠀⠀⠀⠀⠀⠈⠳⣄⠀⠀⠀⠀⠀⠀\n",
       "⠀⠀⠀⠀⠙⢦⡀⠀⠀⠀⢤⡈⠻⠻⠿⣧⣤⣠⡈⠳⠀⠀⠀⠀⠀⠀⠀⠀⠀⠀⠀⠀⠀⠈⠳⣄⠀⠀⠀⠀\n",
       "⠀⠀⠀⠀⠀⠀⠙⢦⡀⠀⠀⠙⢦⡀⠀⣻⣿⣿⣙⣦⠀⠀⠀⠀⠀⠀⠀⠀⠀⠀⠀⠀⠀⠀⠀⠈⠳⣄⠀⠀\n",
       "⠀⠀⠀⠀⠀⠀⠀⠀⠙⢦⡀⠀⠀⠙⢦⡈⠳⣼⣿⣿⠀⠀⠀⠀⠀⠀⠀⠀⠀⠀⠀⠀⠀⠀⠀⠀⠀⠈⠳⣄\n",
       "⠙⢦⡀⠀⠀⠀⠀⠀⠀⠀⠀⠀⠀⠀⠀⠀⠀⠀⠀⠀⣿⣿⡟⢦⡈⠳⣄⠀⠀⠈⠳⣄⠀⠀⠀⠀⠀⠀⠀⠀\n",
       "⠀⠀⠙⢦⡀⠀⠀⠀⠀⠀⠀⠀⠀⠀⠀⠀⠀⠀⠀⠀⠻⣍⣿⣿⣯⠀⠈⠳⣄⠀⠀⠈⠳⣄⠀⠀⠀⠀⠀⠀\n",
       "⠀⠀⠀⠀⠙⢦⡀⠀⠀⠀⠀⠀⠀⠀⠀⠀⠀⠀⠀⠀⢦⡈⠋⠛⢻⣶⣦⣦⡈⠓⠀⠀⠀⠈⠳⣄⠀⠀⠀⠀\n",
       "⠀⠀⠀⠀⠀⠀⠙⢦⡀⠀⠀⠀⠀⠀⠀⠀⠀⠀⠀⠀⠀⠙⢦⡀⠨⣿⠿⣧⣽⡦⠀⠀⠀⠀⠀⠈⠳⣄⠀⠀\n",
       "⠀⠀⠀⠀⠀⠀⠀⠀⠙⢦⡀⠀⠀⠀⠀⠀⠀⠀⠀⠀⡀⠀⠀⠙⢦⠈⠳⡿⣿⣿⣀⡀⡀⠀⢀⠀⠀⠈⠳⣄\n",
       "⠀⠀⠀⠀⠀⠀⠀⠀⠀⠀⠙⢦⡀⠀⠀⠀⠀⠀⠀⠀⠙⢦⡀⠀⠀⠀⠀⠀⠀⠸⣿⣿⡟⢦⡈⠳⣄⠀⠀⠀\n",
       "⠀⠀⠀⠀⠀⠀⠀⠀⠀⠀⠀⠀⠙⢦⡀⠀⠀⠀⠀⠀⠀⠀⠙⢦⡀⠀⠀⠀⠀⠈⠻⣍⣿⣿⣯⠀⠈⠳⣄⠀\n",
       "⠀⠀⠀⠀⠀⠀⠀⠀⠀⠀⠀⠀⠀⠀⠙⢦⡀⠀⠀⠀⠀⠀⠀⠀⠙⢦⡀⠀⠀⠐⢦⡈⠋⠛⢻⣶⣦⣦⡈⠓\n",
       "⠀⠀⠀⠀⠀⠀⠀⠀⠀⠀⠀⠀⠀⠀⠀⠀⠙⢦⡀⠀⠀⠀⠀⠀⠀⠀⠙⢦⡀⠀⠀⠙⢦⡀⠨⣿⠿⣧⣽⡦\n",
       "⠀⠀⠀⠀⠀⠀⠀⠀⠀⠀⠀⠀⠀⠀⠀⠀⠀⠀⠙⢦⠀⠀⠀⠀⠀⠀⠀⠀⠙⢦⠀⠀⠀⠙⢦⠈⠳⡿⣿⣿"
      ]
     },
     "execution_count": 27,
     "metadata": {},
     "output_type": "execute_result"
    }
   ],
   "source": [
    "function TransverseFieldIsing_sparse_revised4_time(; N, h)\n",
    "    @time I, J, V = IJV(N, h)\n",
    "    @time sparse(I, J, V)\n",
    "end\n",
    "    \n",
    "TransverseFieldIsing_sparse_revised4_time(N=20, h=1); println()\n",
    "TransverseFieldIsing_sparse_revised4_time(N=20, h=1); println()\n",
    "TransverseFieldIsing_sparse_revised4_time(N=20, h=1)"
   ]
  },
  {
   "cell_type": "code",
   "execution_count": null,
   "id": "49ea0e4f-3a54-42dc-b8a8-2e89e7195ceb",
   "metadata": {},
   "outputs": [],
   "source": []
  }
 ],
 "metadata": {
  "jupytext": {
   "encoding": "# -*- coding: utf-8 -*-",
   "formats": "ipynb,jl:hydrogen"
  },
  "kernelspec": {
   "display_name": "Julia 1.8.0-DEV",
   "language": "julia",
   "name": "julia-1.8"
  },
  "language_info": {
   "file_extension": ".jl",
   "mimetype": "application/julia",
   "name": "julia",
   "version": "1.8.0"
  }
 },
 "nbformat": 4,
 "nbformat_minor": 5
}
