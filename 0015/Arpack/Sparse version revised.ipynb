{
 "cells": [
  {
   "cell_type": "markdown",
   "id": "d8fd03d5-b4e4-48c7-93f5-8d858b333626",
   "metadata": {},
   "source": [
    "https://twitter.com/yujitach/status/1424030835771023363"
   ]
  },
  {
   "cell_type": "code",
   "execution_count": 1,
   "id": "6efeeda8-5250-46d4-ae00-5f06861e0729",
   "metadata": {},
   "outputs": [
    {
     "data": {
      "text/plain": [
       "(-25.490989686364685 + 0.0im, -25.49098968636475)"
      ]
     },
     "execution_count": 1,
     "metadata": {},
     "output_type": "execute_result"
    }
   ],
   "source": [
    "using LinearAlgebra\n",
    "using LoopVectorization\n",
    "using LinearMaps\n",
    "using ArnoldiMethod\n",
    "\n",
    "function prepareDiag(L)\n",
    "    diag = zeros(2^L)\n",
    "    for state = 1:2^L\n",
    "        for i = 1:L\n",
    "            j = i==L ? 1 : i+1\n",
    "            @inbounds diag[state] -= (((state >> (i-1))&1) == ((state >> (j-1))&1)) ? 1 : -1\n",
    "        end\n",
    "    end\n",
    "    diag\n",
    "end\n",
    "    \n",
    "function Hfunc!(C, B, diag, L)\n",
    "    N = length(diag)\n",
    "    @tturbo for state = 1:N\n",
    "        C[state] = diag[state] * B[state]\n",
    "    end\n",
    "    for i = 1:L\n",
    "        @tturbo for state = 1:N\n",
    "            newstate = (state&(~(2^L))) ⊻ (1<<(i-1))\n",
    "            c = newstate == 0\n",
    "            newstate = !c*newstate + c*N # remove if statement\n",
    "            C[newstate] -= B[state]\n",
    "        end\n",
    "    end\n",
    "end\n",
    "prepareHfunc!(L) = (C, B) -> Hfunc!(C, B, prepareDiag(L), L)\n",
    "\n",
    "function f_LinearMap(L)\n",
    "    H_LinearMap = LinearMap(prepareHfunc!(L), 2^L, ismutating=true, issymmetric=true, isposdef=false)\n",
    "    d_LM, h_LM = partialschur(H_LinearMap, nev=1, which=SR())\n",
    "    d_LM.eigenvalues[1]\n",
    "end\n",
    "\n",
    "f_exact(L) = -2sum(abs(sin((n-1/2) * pi/L)) for n in 1:L)\n",
    "\n",
    "f_LinearMap(20), f_exact(20)"
   ]
  },
  {
   "cell_type": "code",
   "execution_count": 2,
   "id": "e0a4f082-4f1e-4834-a1db-2b30ddf32bd8",
   "metadata": {},
   "outputs": [
    {
     "name": "stdout",
     "output_type": "stream",
     "text": [
      "  7.019248 seconds (618 allocations: 968.031 MiB, 0.47% gc time)\n",
      "  6.983104 seconds (615 allocations: 968.031 MiB, 1.10% gc time)\n",
      "  7.001607 seconds (617 allocations: 968.031 MiB, 0.74% gc time)\n"
     ]
    },
    {
     "data": {
      "text/plain": [
       "-25.490989686364756 + 0.0im"
      ]
     },
     "execution_count": 2,
     "metadata": {},
     "output_type": "execute_result"
    }
   ],
   "source": [
    "@time f_LinearMap(20)\n",
    "@time f_LinearMap(20)\n",
    "@time f_LinearMap(20)"
   ]
  },
  {
   "cell_type": "markdown",
   "id": "61d978d2-17c3-4201-b113-bd1ee9917d39",
   "metadata": {},
   "source": [
    "https://juliaphysics.github.io/PhysicsTutorials.jl/tutorials/general/quantum_ising/quantum_ising.html"
   ]
  },
  {
   "cell_type": "code",
   "execution_count": 3,
   "id": "2b1840ac-269e-4f0b-b107-7ece0ca9b6cf",
   "metadata": {},
   "outputs": [
    {
     "data": {
      "text/plain": [
       "(-25.49098968636484 + 0.0im, -25.49098968636475)"
      ]
     },
     "execution_count": 3,
     "metadata": {},
     "output_type": "execute_result"
    }
   ],
   "source": [
    "using LinearAlgebra\n",
    "using SparseArrays\n",
    "using ArnoldiMethod\n",
    "⊗(x,y) = kron(x,y)\n",
    "\n",
    "function TransverseFieldIsing_sparse(;N,h)\n",
    "    id = [1 0; 0 1] |> sparse\n",
    "    σˣ = [0 1; 1 0] |> sparse\n",
    "    σᶻ = [1 0; 0 -1] |> sparse\n",
    "    \n",
    "    first_term_ops = fill(id, N)\n",
    "    first_term_ops[1] = σᶻ\n",
    "    first_term_ops[2] = σᶻ\n",
    "    \n",
    "    second_term_ops = fill(id, N)\n",
    "    second_term_ops[1] = σˣ\n",
    "    \n",
    "    H = spzeros(Int, 2^N, 2^N)\n",
    "    for i in 1:N\n",
    "        H -= foldl(⊗, first_term_ops)\n",
    "        first_term_ops = circshift(first_term_ops,1)\n",
    "    end\n",
    "    \n",
    "    for i in 1:N\n",
    "        H -= h*foldl(⊗, second_term_ops)\n",
    "        second_term_ops = circshift(second_term_ops,1)\n",
    "    end\n",
    "    H\n",
    "end\n",
    "\n",
    "function f_sparse(L)\n",
    "    H = TransverseFieldIsing_sparse(N=L, h=1)\n",
    "    d, h = partialschur(H; nev=1, which=SR())\n",
    "    d.eigenvalues[1]\n",
    "end\n",
    "\n",
    "f_exact(L) = -2sum(abs(sin((n-1/2) * pi/L)) for n in 1:L)\n",
    "\n",
    "f_sparse(20), f_exact(20)"
   ]
  },
  {
   "cell_type": "code",
   "execution_count": 4,
   "id": "9f90e1bd-6b7b-4d8b-b8ff-799697b86a36",
   "metadata": {},
   "outputs": [
    {
     "name": "stdout",
     "output_type": "stream",
     "text": [
      "  3.051506 seconds (4.75 k allocations: 6.718 GiB, 14.31% gc time, 0.20% compilation time)\n",
      "  6.839898 seconds (247 allocations: 328.026 MiB, 0.38% gc time, 0.22% compilation time)\n"
     ]
    },
    {
     "data": {
      "text/plain": [
       "(ArnoldiMethod.PartialSchur{SubArray{Float64, 2, Matrix{Float64}, Tuple{Base.Slice{Base.OneTo{Int64}}, UnitRange{Int64}}, true}, SubArray{Float64, 2, Matrix{Float64}, Tuple{UnitRange{Int64}, UnitRange{Int64}}, false}, ComplexF64}([0.2360864632564727; 0.06481741680476345; … ; 0.06481741671756175; 0.23608646325357102;;], [-25.490989686364717;;], ComplexF64[-25.490989686364717 + 0.0im]), \u001b[32mConverged\u001b[39m: 1 of 1 eigenvalues in 80 matrix-vector products)"
      ]
     },
     "execution_count": 4,
     "metadata": {},
     "output_type": "execute_result"
    }
   ],
   "source": [
    "L = 20\n",
    "@time H = TransverseFieldIsing_sparse(N=L, h=1)\n",
    "@time d, h = partialschur(H; nev=1, which=SR())"
   ]
  },
  {
   "cell_type": "code",
   "execution_count": 5,
   "id": "2b82e905-f10b-42ed-8b91-c5d51e75198a",
   "metadata": {},
   "outputs": [
    {
     "name": "stdout",
     "output_type": "stream",
     "text": [
      "  3.093728 seconds (4.66 k allocations: 6.718 GiB, 18.33% gc time)\n",
      "  6.377327 seconds (68 allocations: 328.016 MiB)\n"
     ]
    },
    {
     "data": {
      "text/plain": [
       "(ArnoldiMethod.PartialSchur{SubArray{Float64, 2, Matrix{Float64}, Tuple{Base.Slice{Base.OneTo{Int64}}, UnitRange{Int64}}, true}, SubArray{Float64, 2, Matrix{Float64}, Tuple{UnitRange{Int64}, UnitRange{Int64}}, false}, ComplexF64}([0.2360864633353528; 0.06481741687053828; … ; 0.06481741685256798; 0.2360864630598102;;], [-25.49098968636478;;], ComplexF64[-25.49098968636478 + 0.0im]), \u001b[32mConverged\u001b[39m: 1 of 1 eigenvalues in 80 matrix-vector products)"
      ]
     },
     "execution_count": 5,
     "metadata": {},
     "output_type": "execute_result"
    }
   ],
   "source": [
    "L = 20\n",
    "@time H = TransverseFieldIsing_sparse(N=L, h=1)\n",
    "@time d, h = partialschur(H; nev=1, which=SR())"
   ]
  },
  {
   "cell_type": "code",
   "execution_count": 6,
   "id": "cda1aff2-dad9-4f0d-85c5-02612a38ecc7",
   "metadata": {},
   "outputs": [
    {
     "name": "stdout",
     "output_type": "stream",
     "text": [
      "  3.215592 seconds (4.66 k allocations: 6.718 GiB, 16.80% gc time)\n",
      "  7.353999 seconds (64 allocations: 328.016 MiB)\n"
     ]
    },
    {
     "data": {
      "text/plain": [
       "(ArnoldiMethod.PartialSchur{SubArray{Float64, 2, Matrix{Float64}, Tuple{Base.Slice{Base.OneTo{Int64}}, UnitRange{Int64}}, true}, SubArray{Float64, 2, Matrix{Float64}, Tuple{UnitRange{Int64}, UnitRange{Int64}}, false}, ComplexF64}([0.23608646317923557; 0.06481741678884152; … ; 0.06481741689138287; 0.2360864633477125;;], [-25.49098968636478;;], ComplexF64[-25.49098968636478 + 0.0im]), \u001b[32mConverged\u001b[39m: 1 of 1 eigenvalues in 80 matrix-vector products)"
      ]
     },
     "execution_count": 6,
     "metadata": {},
     "output_type": "execute_result"
    }
   ],
   "source": [
    "L = 20\n",
    "@time H = TransverseFieldIsing_sparse(N=L, h=1)\n",
    "@time d, h = partialschur(H; nev=1, which=SR())"
   ]
  },
  {
   "cell_type": "code",
   "execution_count": 7,
   "id": "74d66c89-018f-4fa1-b07a-7f5d6a374eda",
   "metadata": {},
   "outputs": [
    {
     "data": {
      "text/plain": [
       "1048576×1048576 SparseMatrixCSC{Int64, Int64} with 21650584 stored entries:\n",
       "⣿⣿⣾⢦⡀⠳⣄⠀⠀⠀⠳⣄⠀⠀⠀⠀⠀⠀⠀⠀⠳⣄⠀⠀⠀⠀⠀⠀⠀⠀⠀⠀⠀⠀⠀⠀⠀⠀⠀⠀\n",
       "⠺⣟⢻⣶⣿⡂⠈⠳⣄⠀⠀⠈⠳⣄⠀⠀⠀⠀⠀⠀⠀⠈⠳⣄⠀⠀⠀⠀⠀⠀⠀⠀⠀⠀⠀⠀⠀⠀⠀⠀\n",
       "⢤⡈⠻⠻⠿⣧⣤⣠⡈⠳⠄⠀⠀⠈⠳⣄⠀⠀⠀⠀⠀⠀⠀⠈⠳⣄⠀⠀⠀⠀⠀⠀⠀⠀⠀⠀⠀⠀⠀⠀\n",
       "⠀⠙⢦⡀⠀⣻⣿⣿⣙⣦⡀⠀⠀⠀⠀⠈⠳⣄⠀⠀⠀⠀⠀⠀⠀⠈⠳⣄⠀⠀⠀⠀⠀⠀⠀⠀⠀⠀⠀⠀\n",
       "⠀⠀⠀⠙⢦⡈⠳⣼⣿⣿⡆⠀⠀⠀⠀⠀⠀⠈⠳⣄⠀⠀⠀⠀⠀⠀⠀⠈⠳⣄⠀⠀⠀⠀⠀⠀⠀⠀⠀⠀\n",
       "⠙⢦⡀⠀⠀⠁⠀⠈⠈⠉⣿⣿⣾⢦⡀⠳⣄⠀⠀⠈⠀⠀⠀⠀⠀⠀⠀⠀⠀⠈⠳⣄⠀⠀⠀⠀⠀⠀⠀⠀\n",
       "⠀⠀⠙⢦⡀⠀⠀⠀⠀⠀⠺⣟⢻⣶⣿⡂⠈⠳⣄⠀⠀⠀⠀⠀⠀⠀⠀⠀⠀⠀⠀⠈⠳⣄⠀⠀⠀⠀⠀⠀\n",
       "⠀⠀⠀⠀⠙⢦⡀⠀⠀⠀⢤⡈⠻⠻⠿⣧⣤⣠⡈⠳⠀⠀⠀⠀⠀⠀⠀⠀⠀⠀⠀⠀⠀⠈⠳⣄⠀⠀⠀⠀\n",
       "⠀⠀⠀⠀⠀⠀⠙⢦⡀⠀⠀⠙⢦⡀⠀⣻⣿⣿⣙⣦⠀⠀⠀⠀⠀⠀⠀⠀⠀⠀⠀⠀⠀⠀⠀⠈⠳⣄⠀⠀\n",
       "⠀⠀⠀⠀⠀⠀⠀⠀⠙⢦⡀⠀⠀⠙⢦⡈⠳⣼⣿⣿⠀⠀⠀⠀⠀⠀⠀⠀⠀⠀⠀⠀⠀⠀⠀⠀⠀⠈⠳⣄\n",
       "⠙⢦⡀⠀⠀⠀⠀⠀⠀⠀⠀⠀⠀⠀⠀⠀⠀⠀⠀⠀⣿⣿⡟⢦⡈⠳⣄⠀⠀⠈⠳⣄⠀⠀⠀⠀⠀⠀⠀⠀\n",
       "⠀⠀⠙⢦⡀⠀⠀⠀⠀⠀⠀⠀⠀⠀⠀⠀⠀⠀⠀⠀⠻⣍⣿⣿⣯⠀⠈⠳⣄⠀⠀⠈⠳⣄⠀⠀⠀⠀⠀⠀\n",
       "⠀⠀⠀⠀⠙⢦⡀⠀⠀⠀⠀⠀⠀⠀⠀⠀⠀⠀⠀⠀⢦⡈⠋⠛⢻⣶⣦⣦⡈⠓⠀⠀⠀⠈⠳⣄⠀⠀⠀⠀\n",
       "⠀⠀⠀⠀⠀⠀⠙⢦⡀⠀⠀⠀⠀⠀⠀⠀⠀⠀⠀⠀⠀⠙⢦⡀⠨⣿⠿⣧⣽⡦⠀⠀⠀⠀⠀⠈⠳⣄⠀⠀\n",
       "⠀⠀⠀⠀⠀⠀⠀⠀⠙⢦⡀⠀⠀⠀⠀⠀⠀⠀⠀⠀⡀⠀⠀⠙⢦⠈⠳⡿⣿⣿⣀⡀⡀⠀⢀⠀⠀⠈⠳⣄\n",
       "⠀⠀⠀⠀⠀⠀⠀⠀⠀⠀⠙⢦⡀⠀⠀⠀⠀⠀⠀⠀⠙⢦⡀⠀⠀⠀⠀⠀⠀⠸⣿⣿⡟⢦⡈⠳⣄⠀⠀⠀\n",
       "⠀⠀⠀⠀⠀⠀⠀⠀⠀⠀⠀⠀⠙⢦⡀⠀⠀⠀⠀⠀⠀⠀⠙⢦⡀⠀⠀⠀⠀⠈⠻⣍⣿⣿⣯⠀⠈⠳⣄⠀\n",
       "⠀⠀⠀⠀⠀⠀⠀⠀⠀⠀⠀⠀⠀⠀⠙⢦⡀⠀⠀⠀⠀⠀⠀⠀⠙⢦⡀⠀⠀⠐⢦⡈⠋⠛⢻⣶⣦⣦⡈⠓\n",
       "⠀⠀⠀⠀⠀⠀⠀⠀⠀⠀⠀⠀⠀⠀⠀⠀⠙⢦⡀⠀⠀⠀⠀⠀⠀⠀⠙⢦⡀⠀⠀⠙⢦⡀⠨⣿⠿⣧⣽⡦\n",
       "⠀⠀⠀⠀⠀⠀⠀⠀⠀⠀⠀⠀⠀⠀⠀⠀⠀⠀⠙⢦⠀⠀⠀⠀⠀⠀⠀⠀⠙⢦⠀⠀⠀⠙⢦⠈⠳⡿⣿⣿"
      ]
     },
     "execution_count": 7,
     "metadata": {},
     "output_type": "execute_result"
    }
   ],
   "source": [
    "TransverseFieldIsing_sparse(N=20, h=1)"
   ]
  },
  {
   "cell_type": "code",
   "execution_count": 8,
   "id": "cabdf627-6a63-4e31-a446-b7d6e35a5cad",
   "metadata": {},
   "outputs": [
    {
     "data": {
      "text/plain": [
       "true"
      ]
     },
     "execution_count": 8,
     "metadata": {},
     "output_type": "execute_result"
    }
   ],
   "source": [
    "function TransverseFieldIsing_sparse_revised(;N, h)\n",
    "    id = [1 0; 0 1] |> sparse\n",
    "    σˣ = [0 1; 1 0] |> sparse\n",
    "    σᶻ = [1 0; 0 -1] |> sparse\n",
    "    \n",
    "    first_term_ops = fill(id, N)\n",
    "    first_term_ops[1] = σᶻ\n",
    "    first_term_ops[2] = σᶻ\n",
    "    \n",
    "    second_term_ops = fill(id, N)\n",
    "    second_term_ops[1] = σˣ\n",
    "    \n",
    "    tmp = [spzeros(Int, 2^k, 2^k) for k in 1:N]\n",
    "    H = spzeros(Int, 2^N, 2^N)\n",
    "    \n",
    "    for i in 1:N\n",
    "        tmp[1] .= first_term_ops[mod1(i, N)]\n",
    "        for k in 2:N\n",
    "            kron!(tmp[k], tmp[k-1], first_term_ops[mod1(i+k-1, N)])\n",
    "        end\n",
    "        H .-= tmp[N]\n",
    "    end\n",
    "    \n",
    "    for i in 1:N\n",
    "        tmp[1] .= second_term_ops[mod1(i, N)]\n",
    "        for k in 2:N\n",
    "            kron!(tmp[k], tmp[k-1], second_term_ops[mod1(i+k-1, N)])\n",
    "        end\n",
    "        H .-= h .* tmp[N]\n",
    "    end\n",
    "    H\n",
    "end\n",
    "\n",
    "function f_sparse_revised(L)\n",
    "    H = TransverseFieldIsing_sparse_revised(N=L, h=1)\n",
    "    d, h = partialschur(H; nev=1, which=SR())\n",
    "    d.eigenvalues[1]\n",
    "end\n",
    "\n",
    "TransverseFieldIsing_sparse_revised(N=10, h=1) == TransverseFieldIsing_sparse(N=10, h=1)"
   ]
  },
  {
   "cell_type": "code",
   "execution_count": 9,
   "id": "add85c82-4675-4377-a232-20588ac56ffd",
   "metadata": {},
   "outputs": [
    {
     "name": "stdout",
     "output_type": "stream",
     "text": [
      "  2.718570 seconds (385 allocations: 4.078 GiB, 13.86% gc time)\n",
      "  6.395660 seconds (68 allocations: 328.017 MiB)\n"
     ]
    },
    {
     "data": {
      "text/plain": [
       "(ArnoldiMethod.PartialSchur{SubArray{Float64, 2, Matrix{Float64}, Tuple{Base.Slice{Base.OneTo{Int64}}, UnitRange{Int64}}, true}, SubArray{Float64, 2, Matrix{Float64}, Tuple{UnitRange{Int64}, UnitRange{Int64}}, false}, ComplexF64}([0.2360864631572488; 0.06481741670219336; … ; 0.06481741676573859; 0.2360864634248621;;], [-25.49098968636465;;], ComplexF64[-25.49098968636465 + 0.0im]), \u001b[32mConverged\u001b[39m: 1 of 1 eigenvalues in 80 matrix-vector products)"
      ]
     },
     "execution_count": 9,
     "metadata": {},
     "output_type": "execute_result"
    }
   ],
   "source": [
    "L = 20\n",
    "@time H = TransverseFieldIsing_sparse_revised(N=L, h=1)\n",
    "@time d, h = partialschur(H; nev=1, which=SR())"
   ]
  },
  {
   "cell_type": "code",
   "execution_count": 10,
   "id": "701c2f0f-83d5-49b6-8383-2b8979d966ce",
   "metadata": {},
   "outputs": [
    {
     "name": "stdout",
     "output_type": "stream",
     "text": [
      "  2.812526 seconds (385 allocations: 4.078 GiB, 13.75% gc time)\n",
      "  8.080196 seconds (65 allocations: 328.016 MiB, 2.54% gc time)\n"
     ]
    },
    {
     "data": {
      "text/plain": [
       "(ArnoldiMethod.PartialSchur{SubArray{Float64, 2, Matrix{Float64}, Tuple{Base.Slice{Base.OneTo{Int64}}, UnitRange{Int64}}, true}, SubArray{Float64, 2, Matrix{Float64}, Tuple{UnitRange{Int64}, UnitRange{Int64}}, false}, ComplexF64}([0.23608646351658097; 0.0648174168264387; … ; 0.0648174167081197; 0.23608646301445615;;], [-25.490989686364827;;], ComplexF64[-25.490989686364827 + 0.0im]), \u001b[32mConverged\u001b[39m: 1 of 1 eigenvalues in 80 matrix-vector products)"
      ]
     },
     "execution_count": 10,
     "metadata": {},
     "output_type": "execute_result"
    }
   ],
   "source": [
    "L = 20\n",
    "@time H = TransverseFieldIsing_sparse_revised(N=L, h=1)\n",
    "@time d, h = partialschur(H; nev=1, which=SR())"
   ]
  },
  {
   "cell_type": "code",
   "execution_count": 11,
   "id": "15162d58-fe4f-45c6-91a9-4124f2e91083",
   "metadata": {},
   "outputs": [
    {
     "name": "stdout",
     "output_type": "stream",
     "text": [
      "  2.606386 seconds (385 allocations: 4.078 GiB, 5.99% gc time)\n",
      "  6.393208 seconds (67 allocations: 328.016 MiB, 1.71% gc time)\n"
     ]
    },
    {
     "data": {
      "text/plain": [
       "(ArnoldiMethod.PartialSchur{SubArray{Float64, 2, Matrix{Float64}, Tuple{Base.Slice{Base.OneTo{Int64}}, UnitRange{Int64}}, true}, SubArray{Float64, 2, Matrix{Float64}, Tuple{UnitRange{Int64}, UnitRange{Int64}}, false}, ComplexF64}([0.23608646323076649; 0.06481741678094972; … ; 0.06481741684356077; 0.2360864632854659;;], [-25.490989686364756;;], ComplexF64[-25.490989686364756 + 0.0im]), \u001b[32mConverged\u001b[39m: 1 of 1 eigenvalues in 80 matrix-vector products)"
      ]
     },
     "execution_count": 11,
     "metadata": {},
     "output_type": "execute_result"
    }
   ],
   "source": [
    "L = 20\n",
    "@time H = TransverseFieldIsing_sparse_revised(N=L, h=1)\n",
    "@time d, h = partialschur(H; nev=1, which=SR())"
   ]
  },
  {
   "cell_type": "code",
   "execution_count": 12,
   "id": "fc8c3853-343f-4925-b22f-b74085bac74c",
   "metadata": {},
   "outputs": [
    {
     "data": {
      "text/plain": [
       "1048576×1048576 SparseMatrixCSC{Int64, Int64} with 21650584 stored entries:\n",
       "⣿⣿⣾⢦⡀⠳⣄⠀⠀⠀⠳⣄⠀⠀⠀⠀⠀⠀⠀⠀⠳⣄⠀⠀⠀⠀⠀⠀⠀⠀⠀⠀⠀⠀⠀⠀⠀⠀⠀⠀\n",
       "⠺⣟⢻⣶⣿⡂⠈⠳⣄⠀⠀⠈⠳⣄⠀⠀⠀⠀⠀⠀⠀⠈⠳⣄⠀⠀⠀⠀⠀⠀⠀⠀⠀⠀⠀⠀⠀⠀⠀⠀\n",
       "⢤⡈⠻⠻⠿⣧⣤⣠⡈⠳⠄⠀⠀⠈⠳⣄⠀⠀⠀⠀⠀⠀⠀⠈⠳⣄⠀⠀⠀⠀⠀⠀⠀⠀⠀⠀⠀⠀⠀⠀\n",
       "⠀⠙⢦⡀⠀⣻⣿⣿⣙⣦⡀⠀⠀⠀⠀⠈⠳⣄⠀⠀⠀⠀⠀⠀⠀⠈⠳⣄⠀⠀⠀⠀⠀⠀⠀⠀⠀⠀⠀⠀\n",
       "⠀⠀⠀⠙⢦⡈⠳⣼⣿⣿⡆⠀⠀⠀⠀⠀⠀⠈⠳⣄⠀⠀⠀⠀⠀⠀⠀⠈⠳⣄⠀⠀⠀⠀⠀⠀⠀⠀⠀⠀\n",
       "⠙⢦⡀⠀⠀⠁⠀⠈⠈⠉⣿⣿⣾⢦⡀⠳⣄⠀⠀⠈⠀⠀⠀⠀⠀⠀⠀⠀⠀⠈⠳⣄⠀⠀⠀⠀⠀⠀⠀⠀\n",
       "⠀⠀⠙⢦⡀⠀⠀⠀⠀⠀⠺⣟⢻⣶⣿⡂⠈⠳⣄⠀⠀⠀⠀⠀⠀⠀⠀⠀⠀⠀⠀⠈⠳⣄⠀⠀⠀⠀⠀⠀\n",
       "⠀⠀⠀⠀⠙⢦⡀⠀⠀⠀⢤⡈⠻⠻⠿⣧⣤⣠⡈⠳⠀⠀⠀⠀⠀⠀⠀⠀⠀⠀⠀⠀⠀⠈⠳⣄⠀⠀⠀⠀\n",
       "⠀⠀⠀⠀⠀⠀⠙⢦⡀⠀⠀⠙⢦⡀⠀⣻⣿⣿⣙⣦⠀⠀⠀⠀⠀⠀⠀⠀⠀⠀⠀⠀⠀⠀⠀⠈⠳⣄⠀⠀\n",
       "⠀⠀⠀⠀⠀⠀⠀⠀⠙⢦⡀⠀⠀⠙⢦⡈⠳⣼⣿⣿⠀⠀⠀⠀⠀⠀⠀⠀⠀⠀⠀⠀⠀⠀⠀⠀⠀⠈⠳⣄\n",
       "⠙⢦⡀⠀⠀⠀⠀⠀⠀⠀⠀⠀⠀⠀⠀⠀⠀⠀⠀⠀⣿⣿⡟⢦⡈⠳⣄⠀⠀⠈⠳⣄⠀⠀⠀⠀⠀⠀⠀⠀\n",
       "⠀⠀⠙⢦⡀⠀⠀⠀⠀⠀⠀⠀⠀⠀⠀⠀⠀⠀⠀⠀⠻⣍⣿⣿⣯⠀⠈⠳⣄⠀⠀⠈⠳⣄⠀⠀⠀⠀⠀⠀\n",
       "⠀⠀⠀⠀⠙⢦⡀⠀⠀⠀⠀⠀⠀⠀⠀⠀⠀⠀⠀⠀⢦⡈⠋⠛⢻⣶⣦⣦⡈⠓⠀⠀⠀⠈⠳⣄⠀⠀⠀⠀\n",
       "⠀⠀⠀⠀⠀⠀⠙⢦⡀⠀⠀⠀⠀⠀⠀⠀⠀⠀⠀⠀⠀⠙⢦⡀⠨⣿⠿⣧⣽⡦⠀⠀⠀⠀⠀⠈⠳⣄⠀⠀\n",
       "⠀⠀⠀⠀⠀⠀⠀⠀⠙⢦⡀⠀⠀⠀⠀⠀⠀⠀⠀⠀⡀⠀⠀⠙⢦⠈⠳⡿⣿⣿⣀⡀⡀⠀⢀⠀⠀⠈⠳⣄\n",
       "⠀⠀⠀⠀⠀⠀⠀⠀⠀⠀⠙⢦⡀⠀⠀⠀⠀⠀⠀⠀⠙⢦⡀⠀⠀⠀⠀⠀⠀⠸⣿⣿⡟⢦⡈⠳⣄⠀⠀⠀\n",
       "⠀⠀⠀⠀⠀⠀⠀⠀⠀⠀⠀⠀⠙⢦⡀⠀⠀⠀⠀⠀⠀⠀⠙⢦⡀⠀⠀⠀⠀⠈⠻⣍⣿⣿⣯⠀⠈⠳⣄⠀\n",
       "⠀⠀⠀⠀⠀⠀⠀⠀⠀⠀⠀⠀⠀⠀⠙⢦⡀⠀⠀⠀⠀⠀⠀⠀⠙⢦⡀⠀⠀⠐⢦⡈⠋⠛⢻⣶⣦⣦⡈⠓\n",
       "⠀⠀⠀⠀⠀⠀⠀⠀⠀⠀⠀⠀⠀⠀⠀⠀⠙⢦⡀⠀⠀⠀⠀⠀⠀⠀⠙⢦⡀⠀⠀⠙⢦⡀⠨⣿⠿⣧⣽⡦\n",
       "⠀⠀⠀⠀⠀⠀⠀⠀⠀⠀⠀⠀⠀⠀⠀⠀⠀⠀⠙⢦⠀⠀⠀⠀⠀⠀⠀⠀⠙⢦⠀⠀⠀⠙⢦⠈⠳⡿⣿⣿"
      ]
     },
     "execution_count": 12,
     "metadata": {},
     "output_type": "execute_result"
    }
   ],
   "source": [
    "TransverseFieldIsing_sparse_revised(N=20, h=1)"
   ]
  },
  {
   "cell_type": "code",
   "execution_count": 13,
   "id": "95b51c04-e623-40ff-b801-3d3f511a3578",
   "metadata": {},
   "outputs": [
    {
     "data": {
      "text/plain": [
       "true"
      ]
     },
     "execution_count": 13,
     "metadata": {},
     "output_type": "execute_result"
    }
   ],
   "source": [
    "bit(a, k) = (a >> k) & 1\n",
    "\n",
    "function sigmaz2(N)\n",
    "    d = zeros(Int, 2^N)\n",
    "    for k in 1:N, a in 0:2^N-1\n",
    "        d[a+1] -= ifelse(bit(a, N-k) == bit(a, N - mod1(k+1, N)), 1, -1)\n",
    "    end\n",
    "    d\n",
    "end\n",
    "\n",
    "function sigmax(N, k)\n",
    "    v = zeros(Int, 2^N - 2^(N-k))\n",
    "    for i in 1:2:2^k-1\n",
    "        v[(2^(N-k)*(i-1) + 1):2^(N-k)*i] .= -1\n",
    "    end\n",
    "    v\n",
    "end\n",
    "\n",
    "function TransverseFieldIsing_sparse_revised2(;N, h)\n",
    "    d = sigmaz2(N)    \n",
    "    v = sigmax.(N, 1:N)    \n",
    "    H = spdiagm(\n",
    "        ( 2^(N-k) => v[k] for k in 1:N)...,\n",
    "        0 => d,\n",
    "        (-2^(N-k) => v[k] for k in 1:N)...)\n",
    "end\n",
    "\n",
    "function f_sparse_revised2(L)\n",
    "    H = TransverseFieldIsing_sparse_revised2(N=L, h=1)\n",
    "    d, h = partialschur(H; nev=1, which=SR())\n",
    "    d.eigenvalues[1]\n",
    "end\n",
    "\n",
    "TransverseFieldIsing_sparse_revised2(N=10, h=1) == TransverseFieldIsing_sparse(N=10, h=1)"
   ]
  },
  {
   "cell_type": "code",
   "execution_count": 14,
   "id": "a6f7a123-0971-482f-bf1f-eb425d1bc89f",
   "metadata": {},
   "outputs": [
    {
     "name": "stdout",
     "output_type": "stream",
     "text": [
      "  2.278459 seconds (21.90 k allocations: 2.314 GiB, 0.70% gc time, 0.34% compilation time)\n",
      "  9.104363 seconds (69 allocations: 328.017 MiB, 1.23% gc time)\n"
     ]
    },
    {
     "data": {
      "text/plain": [
       "(ArnoldiMethod.PartialSchur{SubArray{Float64, 2, Matrix{Float64}, Tuple{Base.Slice{Base.OneTo{Int64}}, UnitRange{Int64}}, true}, SubArray{Float64, 2, Matrix{Float64}, Tuple{UnitRange{Int64}, UnitRange{Int64}}, false}, ComplexF64}([0.23608646328908184; 0.06481741673347335; … ; 0.06481741677941563; 0.2360864632506768;;], [-25.49098968636478;;], ComplexF64[-25.49098968636478 + 0.0im]), \u001b[32mConverged\u001b[39m: 1 of 1 eigenvalues in 80 matrix-vector products)"
      ]
     },
     "execution_count": 14,
     "metadata": {},
     "output_type": "execute_result"
    }
   ],
   "source": [
    "L = 20\n",
    "@time H = TransverseFieldIsing_sparse_revised2(N=L, h=1)\n",
    "@time d, h = partialschur(H; nev=1, which=SR())"
   ]
  },
  {
   "cell_type": "code",
   "execution_count": 15,
   "id": "034efb76-5f8a-4e24-a665-05e7bc28dacd",
   "metadata": {},
   "outputs": [
    {
     "name": "stdout",
     "output_type": "stream",
     "text": [
      "  2.529292 seconds (485 allocations: 2.313 GiB, 13.89% gc time)\n",
      "  9.387389 seconds (68 allocations: 328.016 MiB, 2.44% gc time)\n"
     ]
    },
    {
     "data": {
      "text/plain": [
       "(ArnoldiMethod.PartialSchur{SubArray{Float64, 2, Matrix{Float64}, Tuple{Base.Slice{Base.OneTo{Int64}}, UnitRange{Int64}}, true}, SubArray{Float64, 2, Matrix{Float64}, Tuple{UnitRange{Int64}, UnitRange{Int64}}, false}, ComplexF64}([0.23608646298266253; 0.064817416713123; … ; 0.06481741687521565; 0.2360864635594257;;], [-25.49098968636476;;], ComplexF64[-25.49098968636476 + 0.0im]), \u001b[32mConverged\u001b[39m: 1 of 1 eigenvalues in 80 matrix-vector products)"
      ]
     },
     "execution_count": 15,
     "metadata": {},
     "output_type": "execute_result"
    }
   ],
   "source": [
    "L = 20\n",
    "@time H = TransverseFieldIsing_sparse_revised2(N=L, h=1)\n",
    "@time d, h = partialschur(H; nev=1, which=SR())"
   ]
  },
  {
   "cell_type": "code",
   "execution_count": 16,
   "id": "9047fc30-dc15-4ba8-bf29-b6a94183c7d1",
   "metadata": {},
   "outputs": [
    {
     "name": "stdout",
     "output_type": "stream",
     "text": [
      "  2.528039 seconds (485 allocations: 2.313 GiB, 13.43% gc time)\n",
      "  9.497895 seconds (68 allocations: 328.016 MiB, 2.19% gc time)\n"
     ]
    },
    {
     "data": {
      "text/plain": [
       "(ArnoldiMethod.PartialSchur{SubArray{Float64, 2, Matrix{Float64}, Tuple{Base.Slice{Base.OneTo{Int64}}, UnitRange{Int64}}, true}, SubArray{Float64, 2, Matrix{Float64}, Tuple{UnitRange{Int64}, UnitRange{Int64}}, false}, ComplexF64}([0.23608646312626227; 0.06481741675487475; … ; 0.06481741671674497; 0.23608646334185027;;], [-25.4909896863647;;], ComplexF64[-25.4909896863647 + 0.0im]), \u001b[32mConverged\u001b[39m: 1 of 1 eigenvalues in 80 matrix-vector products)"
      ]
     },
     "execution_count": 16,
     "metadata": {},
     "output_type": "execute_result"
    }
   ],
   "source": [
    "L = 20\n",
    "@time H = TransverseFieldIsing_sparse_revised2(N=L, h=1)\n",
    "@time d, h = partialschur(H; nev=1, which=SR())"
   ]
  },
  {
   "cell_type": "code",
   "execution_count": 17,
   "id": "cc3c3431-d01b-4cd7-83da-f2866defab1d",
   "metadata": {},
   "outputs": [
    {
     "name": "stdout",
     "output_type": "stream",
     "text": [
      "  0.122171 seconds (2 allocations: 8.000 MiB)\n",
      "  0.068290 seconds (41 allocations: 152.001 MiB, 42.27% gc time)\n",
      "  2.354622 seconds (11.41 k allocations: 2.157 GiB, 13.18% gc time, 0.86% compilation time)\n",
      "\n",
      "  0.119927 seconds (2 allocations: 8.000 MiB)\n",
      "  0.043431 seconds (41 allocations: 152.001 MiB)\n",
      "  2.534531 seconds (440 allocations: 2.156 GiB, 17.41% gc time)\n",
      "\n",
      "  0.120879 seconds (2 allocations: 8.000 MiB)\n",
      "  0.045864 seconds (41 allocations: 152.001 MiB)\n",
      "  2.472143 seconds (440 allocations: 2.156 GiB, 17.97% gc time)\n"
     ]
    },
    {
     "data": {
      "text/plain": [
       "1048576×1048576 SparseMatrixCSC{Int64, Int64} with 40894466 stored entries:\n",
       "⣿⣿⣾⣦⡀⠳⣄⠀⠀⠀⠳⣄⠀⠀⠀⠀⠀⠀⠀⠀⠳⣄⠀⠀⠀⠀⠀⠀⠀⠀⠀⠀⠀⠀⠀⠀⠀⠀⠀⠀\n",
       "⠺⣿⣿⣿⣿⣦⡈⠳⣄⠀⠀⠈⠳⣄⠀⠀⠀⠀⠀⠀⠀⠈⠳⣄⠀⠀⠀⠀⠀⠀⠀⠀⠀⠀⠀⠀⠀⠀⠀⠀\n",
       "⢤⡈⠻⣿⣿⣿⣿⣦⡈⠳⣄⠀⠀⠈⠳⣄⠀⠀⠀⠀⠀⠀⠀⠈⠳⣄⠀⠀⠀⠀⠀⠀⠀⠀⠀⠀⠀⠀⠀⠀\n",
       "⠀⠙⢦⡈⠻⣿⣿⣿⣿⣦⡈⠳⣄⠀⠀⠈⠳⣄⠀⠀⠀⠀⠀⠀⠀⠈⠳⣄⠀⠀⠀⠀⠀⠀⠀⠀⠀⠀⠀⠀\n",
       "⠀⠀⠀⠙⢦⡈⠻⣿⣿⣿⣿⣦⡈⠳⣄⠀⠀⠈⠳⣄⠀⠀⠀⠀⠀⠀⠀⠈⠳⣄⠀⠀⠀⠀⠀⠀⠀⠀⠀⠀\n",
       "⠙⢦⡀⠀⠀⠙⢦⡈⠻⣿⣿⣿⣿⣦⡈⠳⣄⠀⠀⠈⠳⣄⠀⠀⠀⠀⠀⠀⠀⠈⠳⣄⠀⠀⠀⠀⠀⠀⠀⠀\n",
       "⠀⠀⠙⢦⡀⠀⠀⠙⢦⡈⠻⣿⣿⣿⣿⣦⡈⠳⣄⠀⠀⠈⠳⣄⠀⠀⠀⠀⠀⠀⠀⠈⠳⣄⠀⠀⠀⠀⠀⠀\n",
       "⠀⠀⠀⠀⠙⢦⡀⠀⠀⠙⢦⡈⠻⣿⣿⣿⣿⣦⡈⠳⣄⠀⠀⠈⠳⣄⠀⠀⠀⠀⠀⠀⠀⠈⠳⣄⠀⠀⠀⠀\n",
       "⠀⠀⠀⠀⠀⠀⠙⢦⡀⠀⠀⠙⢦⡈⠻⣿⣿⣿⣿⣦⡈⠳⣄⠀⠀⠈⠳⣄⠀⠀⠀⠀⠀⠀⠀⠈⠳⣄⠀⠀\n",
       "⠀⠀⠀⠀⠀⠀⠀⠀⠙⢦⡀⠀⠀⠙⢦⡈⠻⣿⣿⣿⣿⣦⡈⠳⣄⠀⠀⠈⠳⣄⠀⠀⠀⠀⠀⠀⠀⠈⠳⣄\n",
       "⠙⢦⡀⠀⠀⠀⠀⠀⠀⠀⠙⢦⡀⠀⠀⠙⢦⡈⠻⣿⣿⣿⣿⣦⡈⠳⣄⠀⠀⠈⠳⣄⠀⠀⠀⠀⠀⠀⠀⠀\n",
       "⠀⠀⠙⢦⡀⠀⠀⠀⠀⠀⠀⠀⠙⢦⡀⠀⠀⠙⢦⡈⠻⣿⣿⣿⣿⣦⡈⠳⣄⠀⠀⠈⠳⣄⠀⠀⠀⠀⠀⠀\n",
       "⠀⠀⠀⠀⠙⢦⡀⠀⠀⠀⠀⠀⠀⠀⠙⢦⡀⠀⠀⠙⢦⡈⠻⣿⣿⣿⣿⣦⡈⠳⣄⠀⠀⠈⠳⣄⠀⠀⠀⠀\n",
       "⠀⠀⠀⠀⠀⠀⠙⢦⡀⠀⠀⠀⠀⠀⠀⠀⠙⢦⡀⠀⠀⠙⢦⡈⠻⣿⣿⣿⣿⣦⡈⠳⣄⠀⠀⠈⠳⣄⠀⠀\n",
       "⠀⠀⠀⠀⠀⠀⠀⠀⠙⢦⡀⠀⠀⠀⠀⠀⠀⠀⠙⢦⡀⠀⠀⠙⢦⡈⠻⣿⣿⣿⣿⣦⡈⠳⣄⠀⠀⠈⠳⣄\n",
       "⠀⠀⠀⠀⠀⠀⠀⠀⠀⠀⠙⢦⡀⠀⠀⠀⠀⠀⠀⠀⠙⢦⡀⠀⠀⠙⢦⡈⠻⣿⣿⣿⣿⣦⡈⠳⣄⠀⠀⠀\n",
       "⠀⠀⠀⠀⠀⠀⠀⠀⠀⠀⠀⠀⠙⢦⡀⠀⠀⠀⠀⠀⠀⠀⠙⢦⡀⠀⠀⠙⢦⡈⠻⣿⣿⣿⣿⣦⡈⠳⣄⠀\n",
       "⠀⠀⠀⠀⠀⠀⠀⠀⠀⠀⠀⠀⠀⠀⠙⢦⡀⠀⠀⠀⠀⠀⠀⠀⠙⢦⡀⠀⠀⠙⢦⡈⠻⣿⣿⣿⣿⣦⡈⠓\n",
       "⠀⠀⠀⠀⠀⠀⠀⠀⠀⠀⠀⠀⠀⠀⠀⠀⠙⢦⡀⠀⠀⠀⠀⠀⠀⠀⠙⢦⡀⠀⠀⠙⢦⡈⠻⣿⣿⣿⣿⡦\n",
       "⠀⠀⠀⠀⠀⠀⠀⠀⠀⠀⠀⠀⠀⠀⠀⠀⠀⠀⠙⢦⠀⠀⠀⠀⠀⠀⠀⠀⠙⢦⠀⠀⠀⠙⢦⠈⠻⡿⣿⣿"
      ]
     },
     "execution_count": 17,
     "metadata": {},
     "output_type": "execute_result"
    }
   ],
   "source": [
    "function TransverseFieldIsing_sparse_revised2_time(;N, h)\n",
    "    @time d = sigmaz2(N)    \n",
    "    @time v = sigmax.(N, 1:N)    \n",
    "    @time H = spdiagm(\n",
    "        ( 2^(N-k) => v[k] for k in 1:N)...,\n",
    "        0 => d,\n",
    "        (-2^(N-k) => v[k] for k in 1:N)...)\n",
    "end\n",
    "\n",
    "TransverseFieldIsing_sparse_revised2_time(N=20, h=1); println()\n",
    "TransverseFieldIsing_sparse_revised2_time(N=20, h=1); println()\n",
    "TransverseFieldIsing_sparse_revised2_time(N=20, h=1)"
   ]
  },
  {
   "cell_type": "code",
   "execution_count": 18,
   "id": "c9890c42-9173-42c1-9ffe-c8e7ebaa3682",
   "metadata": {},
   "outputs": [
    {
     "data": {
      "text/plain": [
       "true"
      ]
     },
     "execution_count": 18,
     "metadata": {},
     "output_type": "execute_result"
    }
   ],
   "source": [
    "bit(a, k) = (a >> k) & 1\n",
    "\n",
    "function sigmaz2_sparse(N)\n",
    "    d = zeros(Int, 2^N)\n",
    "    for k in 1:N, a in 0:2^N-1\n",
    "        d[a+1] -= ifelse(bit(a, N-k) == bit(a, N - mod1(k+1, N)), 1, -1)\n",
    "    end\n",
    "    sparse(d) # should be sparse\n",
    "end\n",
    "\n",
    "function sigmax_sparse(N, k)\n",
    "    v = zeros(Int, 2^N - 2^(N-k))\n",
    "    for i in 1:2:2^k-1\n",
    "        v[(2^(N-k)*(i-1) + 1):2^(N-k)*i] .= -1\n",
    "    end\n",
    "    sparse(v) # should be sparse\n",
    "end\n",
    "\n",
    "function TransverseFieldIsing_sparse_revised3(;N, h)\n",
    "    d = sigmaz2_sparse(N)    \n",
    "    v = sigmax_sparse.(N, 1:N)    \n",
    "    H = spdiagm(\n",
    "        ( 2^(N-k) => v[k] for k in 1:N)...,\n",
    "        0 => d,\n",
    "        (-2^(N-k) => v[k] for k in 1:N)...)\n",
    "end\n",
    "\n",
    "function f_sparse_revised3(L)\n",
    "    H = TransverseFieldIsing_sparse_revised3(N=L, h=1)\n",
    "    d, h = partialschur(H; nev=1, which=SR())\n",
    "    d.eigenvalues[1]\n",
    "end\n",
    "\n",
    "TransverseFieldIsing_sparse_revised3(;N=10, h=1) == TransverseFieldIsing_sparse(;N=10, h=1)"
   ]
  },
  {
   "cell_type": "code",
   "execution_count": 19,
   "id": "cc245d4f-5c90-47ae-b7be-c0cf766b0701",
   "metadata": {},
   "outputs": [
    {
     "name": "stdout",
     "output_type": "stream",
     "text": [
      "  2.053167 seconds (22.24 k allocations: 1.948 GiB, 24.06% gc time, 0.44% compilation time)\n",
      "  6.359542 seconds (66 allocations: 328.016 MiB)\n"
     ]
    },
    {
     "data": {
      "text/plain": [
       "(ArnoldiMethod.PartialSchur{SubArray{Float64, 2, Matrix{Float64}, Tuple{Base.Slice{Base.OneTo{Int64}}, UnitRange{Int64}}, true}, SubArray{Float64, 2, Matrix{Float64}, Tuple{UnitRange{Int64}, UnitRange{Int64}}, false}, ComplexF64}([0.23608646314766069; 0.06481741680829978; … ; 0.06481741684061726; 0.23608646333127445;;], [-25.490989686364745;;], ComplexF64[-25.490989686364745 + 0.0im]), \u001b[32mConverged\u001b[39m: 1 of 1 eigenvalues in 80 matrix-vector products)"
      ]
     },
     "execution_count": 19,
     "metadata": {},
     "output_type": "execute_result"
    }
   ],
   "source": [
    "L = 20\n",
    "@time H = TransverseFieldIsing_sparse_revised3(N=L, h=1)\n",
    "@time d, h = partialschur(H; nev=1, which=SR())"
   ]
  },
  {
   "cell_type": "code",
   "execution_count": 20,
   "id": "5e0962d3-45fa-49e1-b212-eaaf486caba3",
   "metadata": {},
   "outputs": [
    {
     "name": "stdout",
     "output_type": "stream",
     "text": [
      "  1.963513 seconds (859 allocations: 1.947 GiB, 24.40% gc time)\n",
      "  6.393544 seconds (66 allocations: 328.016 MiB, 2.26% gc time)\n"
     ]
    },
    {
     "data": {
      "text/plain": [
       "(ArnoldiMethod.PartialSchur{SubArray{Float64, 2, Matrix{Float64}, Tuple{Base.Slice{Base.OneTo{Int64}}, UnitRange{Int64}}, true}, SubArray{Float64, 2, Matrix{Float64}, Tuple{UnitRange{Int64}, UnitRange{Int64}}, false}, ComplexF64}([-0.23608646317642293; -0.06481741663477773; … ; -0.0648174168382664; -0.23608646323938465;;], [-25.490989686364735;;], ComplexF64[-25.490989686364735 + 0.0im]), \u001b[32mConverged\u001b[39m: 1 of 1 eigenvalues in 80 matrix-vector products)"
      ]
     },
     "execution_count": 20,
     "metadata": {},
     "output_type": "execute_result"
    }
   ],
   "source": [
    "L = 20\n",
    "@time H = TransverseFieldIsing_sparse_revised3(N=L, h=1)\n",
    "@time d, h = partialschur(H; nev=1, which=SR())"
   ]
  },
  {
   "cell_type": "code",
   "execution_count": 21,
   "id": "4fafd66d-4203-4e65-875e-b6cbe91a9862",
   "metadata": {},
   "outputs": [
    {
     "name": "stdout",
     "output_type": "stream",
     "text": [
      "  0.125182 seconds (12 allocations: 25.879 MiB)\n",
      "  0.315881 seconds (241 allocations: 456.943 MiB, 57.01% gc time)\n",
      "  1.332958 seconds (11.56 k allocations: 1.476 GiB, 12.60% gc time, 1.79% compilation time)\n",
      "\n",
      "  0.126099 seconds (12 allocations: 25.879 MiB)\n",
      "  0.138541 seconds (241 allocations: 456.943 MiB)\n",
      "  1.613559 seconds (604 allocations: 1.475 GiB, 21.87% gc time)\n",
      "\n",
      "  0.124854 seconds (12 allocations: 25.879 MiB)\n",
      "  0.377330 seconds (241 allocations: 456.943 MiB, 62.46% gc time)\n",
      "  1.371604 seconds (604 allocations: 1.475 GiB, 13.39% gc time)\n"
     ]
    },
    {
     "data": {
      "text/plain": [
       "1048576×1048576 SparseMatrixCSC{Int64, Int64} with 21650584 stored entries:\n",
       "⣿⣿⣾⢦⡀⠳⣄⠀⠀⠀⠳⣄⠀⠀⠀⠀⠀⠀⠀⠀⠳⣄⠀⠀⠀⠀⠀⠀⠀⠀⠀⠀⠀⠀⠀⠀⠀⠀⠀⠀\n",
       "⠺⣟⢻⣶⣿⡂⠈⠳⣄⠀⠀⠈⠳⣄⠀⠀⠀⠀⠀⠀⠀⠈⠳⣄⠀⠀⠀⠀⠀⠀⠀⠀⠀⠀⠀⠀⠀⠀⠀⠀\n",
       "⢤⡈⠻⠻⠿⣧⣤⣠⡈⠳⠄⠀⠀⠈⠳⣄⠀⠀⠀⠀⠀⠀⠀⠈⠳⣄⠀⠀⠀⠀⠀⠀⠀⠀⠀⠀⠀⠀⠀⠀\n",
       "⠀⠙⢦⡀⠀⣻⣿⣿⣙⣦⡀⠀⠀⠀⠀⠈⠳⣄⠀⠀⠀⠀⠀⠀⠀⠈⠳⣄⠀⠀⠀⠀⠀⠀⠀⠀⠀⠀⠀⠀\n",
       "⠀⠀⠀⠙⢦⡈⠳⣼⣿⣿⡆⠀⠀⠀⠀⠀⠀⠈⠳⣄⠀⠀⠀⠀⠀⠀⠀⠈⠳⣄⠀⠀⠀⠀⠀⠀⠀⠀⠀⠀\n",
       "⠙⢦⡀⠀⠀⠁⠀⠈⠈⠉⣿⣿⣾⢦⡀⠳⣄⠀⠀⠈⠀⠀⠀⠀⠀⠀⠀⠀⠀⠈⠳⣄⠀⠀⠀⠀⠀⠀⠀⠀\n",
       "⠀⠀⠙⢦⡀⠀⠀⠀⠀⠀⠺⣟⢻⣶⣿⡂⠈⠳⣄⠀⠀⠀⠀⠀⠀⠀⠀⠀⠀⠀⠀⠈⠳⣄⠀⠀⠀⠀⠀⠀\n",
       "⠀⠀⠀⠀⠙⢦⡀⠀⠀⠀⢤⡈⠻⠻⠿⣧⣤⣠⡈⠳⠀⠀⠀⠀⠀⠀⠀⠀⠀⠀⠀⠀⠀⠈⠳⣄⠀⠀⠀⠀\n",
       "⠀⠀⠀⠀⠀⠀⠙⢦⡀⠀⠀⠙⢦⡀⠀⣻⣿⣿⣙⣦⠀⠀⠀⠀⠀⠀⠀⠀⠀⠀⠀⠀⠀⠀⠀⠈⠳⣄⠀⠀\n",
       "⠀⠀⠀⠀⠀⠀⠀⠀⠙⢦⡀⠀⠀⠙⢦⡈⠳⣼⣿⣿⠀⠀⠀⠀⠀⠀⠀⠀⠀⠀⠀⠀⠀⠀⠀⠀⠀⠈⠳⣄\n",
       "⠙⢦⡀⠀⠀⠀⠀⠀⠀⠀⠀⠀⠀⠀⠀⠀⠀⠀⠀⠀⣿⣿⡟⢦⡈⠳⣄⠀⠀⠈⠳⣄⠀⠀⠀⠀⠀⠀⠀⠀\n",
       "⠀⠀⠙⢦⡀⠀⠀⠀⠀⠀⠀⠀⠀⠀⠀⠀⠀⠀⠀⠀⠻⣍⣿⣿⣯⠀⠈⠳⣄⠀⠀⠈⠳⣄⠀⠀⠀⠀⠀⠀\n",
       "⠀⠀⠀⠀⠙⢦⡀⠀⠀⠀⠀⠀⠀⠀⠀⠀⠀⠀⠀⠀⢦⡈⠋⠛⢻⣶⣦⣦⡈⠓⠀⠀⠀⠈⠳⣄⠀⠀⠀⠀\n",
       "⠀⠀⠀⠀⠀⠀⠙⢦⡀⠀⠀⠀⠀⠀⠀⠀⠀⠀⠀⠀⠀⠙⢦⡀⠨⣿⠿⣧⣽⡦⠀⠀⠀⠀⠀⠈⠳⣄⠀⠀\n",
       "⠀⠀⠀⠀⠀⠀⠀⠀⠙⢦⡀⠀⠀⠀⠀⠀⠀⠀⠀⠀⡀⠀⠀⠙⢦⠈⠳⡿⣿⣿⣀⡀⡀⠀⢀⠀⠀⠈⠳⣄\n",
       "⠀⠀⠀⠀⠀⠀⠀⠀⠀⠀⠙⢦⡀⠀⠀⠀⠀⠀⠀⠀⠙⢦⡀⠀⠀⠀⠀⠀⠀⠸⣿⣿⡟⢦⡈⠳⣄⠀⠀⠀\n",
       "⠀⠀⠀⠀⠀⠀⠀⠀⠀⠀⠀⠀⠙⢦⡀⠀⠀⠀⠀⠀⠀⠀⠙⢦⡀⠀⠀⠀⠀⠈⠻⣍⣿⣿⣯⠀⠈⠳⣄⠀\n",
       "⠀⠀⠀⠀⠀⠀⠀⠀⠀⠀⠀⠀⠀⠀⠙⢦⡀⠀⠀⠀⠀⠀⠀⠀⠙⢦⡀⠀⠀⠐⢦⡈⠋⠛⢻⣶⣦⣦⡈⠓\n",
       "⠀⠀⠀⠀⠀⠀⠀⠀⠀⠀⠀⠀⠀⠀⠀⠀⠙⢦⡀⠀⠀⠀⠀⠀⠀⠀⠙⢦⡀⠀⠀⠙⢦⡀⠨⣿⠿⣧⣽⡦\n",
       "⠀⠀⠀⠀⠀⠀⠀⠀⠀⠀⠀⠀⠀⠀⠀⠀⠀⠀⠙⢦⠀⠀⠀⠀⠀⠀⠀⠀⠙⢦⠀⠀⠀⠙⢦⠈⠳⡿⣿⣿"
      ]
     },
     "execution_count": 21,
     "metadata": {},
     "output_type": "execute_result"
    }
   ],
   "source": [
    "function TransverseFieldIsing_sparse_revised3_time(;N, h)\n",
    "    @time d = sigmaz2_sparse(N)    \n",
    "    @time v = sigmax_sparse.(N, 1:N)    \n",
    "    @time H = spdiagm(\n",
    "        ( 2^(N-k) => v[k] for k in 1:N)...,\n",
    "        0 => d,\n",
    "        (-2^(N-k) => v[k] for k in 1:N)...)\n",
    "end\n",
    "\n",
    "TransverseFieldIsing_sparse_revised3_time(N=20, h=1); println()\n",
    "TransverseFieldIsing_sparse_revised3_time(N=20, h=1); println()\n",
    "TransverseFieldIsing_sparse_revised3_time(N=20, h=1)"
   ]
  },
  {
   "cell_type": "code",
   "execution_count": null,
   "id": "d41a3309-0d1a-49b2-97ec-53622dae3107",
   "metadata": {},
   "outputs": [],
   "source": []
  }
 ],
 "metadata": {
  "jupytext": {
   "formats": "ipynb,auto:hydrogen"
  },
  "kernelspec": {
   "display_name": "Julia 1.8.0-DEV",
   "language": "julia",
   "name": "julia-1.8"
  },
  "language_info": {
   "file_extension": ".jl",
   "mimetype": "application/julia",
   "name": "julia",
   "version": "1.8.0"
  }
 },
 "nbformat": 4,
 "nbformat_minor": 5
}
