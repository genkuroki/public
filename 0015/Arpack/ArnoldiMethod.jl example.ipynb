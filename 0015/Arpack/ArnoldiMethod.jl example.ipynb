{
 "cells": [
  {
   "cell_type": "markdown",
   "id": "9d807ac0-1db7-49be-95da-3facd82e0313",
   "metadata": {},
   "source": [
    "https://github.com/haampie/ArnoldiMethod.jl"
   ]
  },
  {
   "cell_type": "code",
   "execution_count": 2,
   "id": "01bf799d-28ce-4ef6-998e-daf74499b6ab",
   "metadata": {},
   "outputs": [
    {
     "name": "stdout",
     "output_type": "stream",
     "text": [
      "\u001b[32m\u001b[1m      Status\u001b[22m\u001b[39m `D:\\OneDrive\\public\\0015\\Arpack\\Project.toml`\n",
      " \u001b[90m [ec485272] \u001b[39mArnoldiMethod v0.2.0\n",
      " \u001b[90m [7d9fca2a] \u001b[39mArpack v0.5.3 `https://github.com/JuliaLinearAlgebra/Arpack.jl.git#master`\n",
      " \u001b[90m [bdcacae8] \u001b[39mLoopVectorization v0.12.63\n"
     ]
    }
   ],
   "source": [
    "]st"
   ]
  },
  {
   "cell_type": "code",
   "execution_count": 4,
   "id": "fd7c915a-1f44-4648-aca5-4309a5df1be0",
   "metadata": {},
   "outputs": [],
   "source": [
    "using ArnoldiMethod, LinearAlgebra, SparseArrays"
   ]
  },
  {
   "cell_type": "code",
   "execution_count": 5,
   "id": "07c633ed-4ed1-4636-af28-76a880c0e2c4",
   "metadata": {},
   "outputs": [
    {
     "data": {
      "text/plain": [
       "100×100 SparseMatrixCSC{Float64, Int64} with 298 stored entries:\n",
       "⠻⣦⡀⠀⠀⠀⠀⠀⠀⠀⠀⠀⠀⠀⠀⠀⠀⠀⠀⠀⠀⠀⠀⠀⠀⠀⠀⠀⠀⠀⠀⠀⠀⠀⠀⠀⠀⠀⠀⠀\n",
       "⠀⠈⠻⣦⡀⠀⠀⠀⠀⠀⠀⠀⠀⠀⠀⠀⠀⠀⠀⠀⠀⠀⠀⠀⠀⠀⠀⠀⠀⠀⠀⠀⠀⠀⠀⠀⠀⠀⠀⠀\n",
       "⠀⠀⠀⠈⠻⣦⡀⠀⠀⠀⠀⠀⠀⠀⠀⠀⠀⠀⠀⠀⠀⠀⠀⠀⠀⠀⠀⠀⠀⠀⠀⠀⠀⠀⠀⠀⠀⠀⠀⠀\n",
       "⠀⠀⠀⠀⠀⠈⠻⣦⡀⠀⠀⠀⠀⠀⠀⠀⠀⠀⠀⠀⠀⠀⠀⠀⠀⠀⠀⠀⠀⠀⠀⠀⠀⠀⠀⠀⠀⠀⠀⠀\n",
       "⠀⠀⠀⠀⠀⠀⠀⠈⠻⣦⡀⠀⠀⠀⠀⠀⠀⠀⠀⠀⠀⠀⠀⠀⠀⠀⠀⠀⠀⠀⠀⠀⠀⠀⠀⠀⠀⠀⠀⠀\n",
       "⠀⠀⠀⠀⠀⠀⠀⠀⠀⠈⠻⣦⡀⠀⠀⠀⠀⠀⠀⠀⠀⠀⠀⠀⠀⠀⠀⠀⠀⠀⠀⠀⠀⠀⠀⠀⠀⠀⠀⠀\n",
       "⠀⠀⠀⠀⠀⠀⠀⠀⠀⠀⠀⠈⠻⣦⡀⠀⠀⠀⠀⠀⠀⠀⠀⠀⠀⠀⠀⠀⠀⠀⠀⠀⠀⠀⠀⠀⠀⠀⠀⠀\n",
       "⠀⠀⠀⠀⠀⠀⠀⠀⠀⠀⠀⠀⠀⠈⠻⣦⡀⠀⠀⠀⠀⠀⠀⠀⠀⠀⠀⠀⠀⠀⠀⠀⠀⠀⠀⠀⠀⠀⠀⠀\n",
       "⠀⠀⠀⠀⠀⠀⠀⠀⠀⠀⠀⠀⠀⠀⠀⠈⠻⣦⡀⠀⠀⠀⠀⠀⠀⠀⠀⠀⠀⠀⠀⠀⠀⠀⠀⠀⠀⠀⠀⠀\n",
       "⠀⠀⠀⠀⠀⠀⠀⠀⠀⠀⠀⠀⠀⠀⠀⠀⠀⠈⠻⣦⡀⠀⠀⠀⠀⠀⠀⠀⠀⠀⠀⠀⠀⠀⠀⠀⠀⠀⠀⠀\n",
       "⠀⠀⠀⠀⠀⠀⠀⠀⠀⠀⠀⠀⠀⠀⠀⠀⠀⠀⠀⠈⠻⣦⡀⠀⠀⠀⠀⠀⠀⠀⠀⠀⠀⠀⠀⠀⠀⠀⠀⠀\n",
       "⠀⠀⠀⠀⠀⠀⠀⠀⠀⠀⠀⠀⠀⠀⠀⠀⠀⠀⠀⠀⠀⠈⠻⣦⡀⠀⠀⠀⠀⠀⠀⠀⠀⠀⠀⠀⠀⠀⠀⠀\n",
       "⠀⠀⠀⠀⠀⠀⠀⠀⠀⠀⠀⠀⠀⠀⠀⠀⠀⠀⠀⠀⠀⠀⠀⠈⠻⣦⡀⠀⠀⠀⠀⠀⠀⠀⠀⠀⠀⠀⠀⠀\n",
       "⠀⠀⠀⠀⠀⠀⠀⠀⠀⠀⠀⠀⠀⠀⠀⠀⠀⠀⠀⠀⠀⠀⠀⠀⠀⠈⠻⣦⡀⠀⠀⠀⠀⠀⠀⠀⠀⠀⠀⠀\n",
       "⠀⠀⠀⠀⠀⠀⠀⠀⠀⠀⠀⠀⠀⠀⠀⠀⠀⠀⠀⠀⠀⠀⠀⠀⠀⠀⠀⠈⠻⣦⡀⠀⠀⠀⠀⠀⠀⠀⠀⠀\n",
       "⠀⠀⠀⠀⠀⠀⠀⠀⠀⠀⠀⠀⠀⠀⠀⠀⠀⠀⠀⠀⠀⠀⠀⠀⠀⠀⠀⠀⠀⠈⠻⣦⡀⠀⠀⠀⠀⠀⠀⠀\n",
       "⠀⠀⠀⠀⠀⠀⠀⠀⠀⠀⠀⠀⠀⠀⠀⠀⠀⠀⠀⠀⠀⠀⠀⠀⠀⠀⠀⠀⠀⠀⠀⠈⠻⣦⡀⠀⠀⠀⠀⠀\n",
       "⠀⠀⠀⠀⠀⠀⠀⠀⠀⠀⠀⠀⠀⠀⠀⠀⠀⠀⠀⠀⠀⠀⠀⠀⠀⠀⠀⠀⠀⠀⠀⠀⠀⠈⠻⣦⡀⠀⠀⠀\n",
       "⠀⠀⠀⠀⠀⠀⠀⠀⠀⠀⠀⠀⠀⠀⠀⠀⠀⠀⠀⠀⠀⠀⠀⠀⠀⠀⠀⠀⠀⠀⠀⠀⠀⠀⠀⠈⠻⣦⡀⠀\n",
       "⠀⠀⠀⠀⠀⠀⠀⠀⠀⠀⠀⠀⠀⠀⠀⠀⠀⠀⠀⠀⠀⠀⠀⠀⠀⠀⠀⠀⠀⠀⠀⠀⠀⠀⠀⠀⠀⠈⠻⣦"
      ]
     },
     "execution_count": 5,
     "metadata": {},
     "output_type": "execute_result"
    }
   ],
   "source": [
    "A = spdiagm(\n",
    "    -1 => fill(-1.0, 99),\n",
    "    0 => fill(2.0, 100), \n",
    "    1 => fill(-1.0, 99)\n",
    ")"
   ]
  },
  {
   "cell_type": "code",
   "execution_count": 6,
   "id": "38a9258b-4843-42f9-910b-589c3336bd2c",
   "metadata": {},
   "outputs": [],
   "source": [
    "decomp, history = partialschur(A, nev=10, tol=1e-6, which=SR());"
   ]
  },
  {
   "cell_type": "code",
   "execution_count": 7,
   "id": "47783390-88c7-4b4e-8ee7-0809ac34a2e8",
   "metadata": {},
   "outputs": [
    {
     "data": {
      "text/plain": [
       "\u001b[32mConverged\u001b[39m: 10 of 10 eigenvalues in 176 matrix-vector products"
      ]
     },
     "execution_count": 7,
     "metadata": {},
     "output_type": "execute_result"
    }
   ],
   "source": [
    "history"
   ]
  },
  {
   "cell_type": "code",
   "execution_count": 8,
   "id": "67fe5f2e-0a6b-450d-afa3-28d5f6965102",
   "metadata": {},
   "outputs": [
    {
     "data": {
      "text/plain": [
       "PartialSchur decomposition (Float64) of dimension 10\n",
       "eigenvalues:\n",
       "10-element Vector{ComplexF64}:\n",
       " 0.0009674354160242877 + 0.0im\n",
       " 0.0038688057328114746 + 0.0im\n",
       "  0.008701304061961835 + 0.0im\n",
       "  0.015460255273446894 + 0.0im\n",
       "  0.024139120518486386 + 0.0im\n",
       "   0.03472950355547361 + 0.0im\n",
       "   0.04722115887278619 + 0.0im\n",
       "     0.061602001600668 + 0.0im\n",
       "   0.07785811920255561 + 0.0im\n",
       "   0.09597378493454135 + 0.0im"
      ]
     },
     "execution_count": 8,
     "metadata": {},
     "output_type": "execute_result"
    }
   ],
   "source": [
    "decomp"
   ]
  },
  {
   "cell_type": "code",
   "execution_count": 17,
   "id": "c7420134-e56f-4bee-9957-d52012dd268b",
   "metadata": {},
   "outputs": [
    {
     "name": "stderr",
     "output_type": "stream",
     "text": [
      "WARNING: replacing module Rev0.\n"
     ]
    }
   ],
   "source": [
    "\"\"\"\n",
    "    Rev0\n",
    "\n",
    "* This revision is almost equivalent to the original.\n",
    "* Stop using constants.\n",
    "* Always pass global variables to functions as arguments.\n",
    "* Swap the order of the for loop.\n",
    "* Add @inbounds macro.\n",
    "* Revise sum([f(x) for x in X]) to sum(f(x) for x in X).\n",
    "\"\"\"\n",
    "module Rev0\n",
    "\n",
    "using LinearAlgebra, LinearMaps\n",
    "import Arpack\n",
    "    \n",
    "function prepareDiag(L)\n",
    "    diag = zeros(2^L)\n",
    "    for state = 1:2^L\n",
    "        for i = 1:L\n",
    "            j = i==L ? 1 : i+1\n",
    "            @inbounds diag[state] -= (((state >> (i-1))&1) == ((state >> (j-1))&1)) ? 1 : -1\n",
    "        end\n",
    "    end\n",
    "    diag\n",
    "end\n",
    "    \n",
    "function Hfunc!(C, B, diag, L)\n",
    "    for state = 1:2^L\n",
    "        @inbounds C[state] = diag[state] * B[state]\n",
    "    end\n",
    "    for i = 1:L\n",
    "        for state = 1:2^L\n",
    "            newstate = (state&(~(2^L))) ⊻ (1<<(i-1))\n",
    "            if newstate == 0\n",
    "                newstate = 2^L\n",
    "            end\n",
    "            @inbounds C[newstate] -= B[state]\n",
    "        end\n",
    "    end\n",
    "end\n",
    "prepareHfunc!(diag, L) = (C, B) -> Hfunc!(C, B, diag, L)\n",
    "\n",
    "L = 20\n",
    "diag_ = prepareDiag(L)\n",
    "H = LinearMap(prepareHfunc!(diag_, L), 2^L, ismutating=true, issymmetric=true, isposdef=false)\n",
    "sol_exact = -2sum(abs(sin((n-1/2) * pi/L)) for n in 1:L)\n",
    "\n",
    "end;"
   ]
  },
  {
   "cell_type": "code",
   "execution_count": 18,
   "id": "4adaa546-0a1b-4b11-9e64-619b4ce04209",
   "metadata": {},
   "outputs": [
    {
     "name": "stderr",
     "output_type": "stream",
     "text": [
      "WARNING: replacing module Rev1.\n"
     ]
    }
   ],
   "source": [
    "\"\"\"\n",
    "    Rev1\n",
    "\n",
    "* Use Threads.@threads macro.\n",
    "\"\"\"\n",
    "module Rev1\n",
    "\n",
    "using LinearAlgebra, LinearMaps\n",
    "import Arpack\n",
    "    \n",
    "function prepareDiag(L)\n",
    "    diag = zeros(2^L)\n",
    "    for state = 1:2^L\n",
    "        for i = 1:L\n",
    "            j = i==L ? 1 : i+1\n",
    "            @inbounds diag[state] -= (((state >> (i-1))&1) == ((state >> (j-1))&1)) ? 1 : -1\n",
    "        end\n",
    "    end\n",
    "    diag\n",
    "end\n",
    "    \n",
    "function Hfunc!(C, B, diag, L)\n",
    "    Threads.@threads for state = 1:2^L\n",
    "        @inbounds C[state] = diag[state] * B[state]\n",
    "    end\n",
    "    for i = 1:L\n",
    "        Threads.@threads for state = 1:2^L\n",
    "            newstate = (state&(~(2^L))) ⊻ (1<<(i-1))\n",
    "            if newstate == 0\n",
    "                newstate = 2^L\n",
    "            end\n",
    "            @inbounds C[newstate] -= B[state]\n",
    "        end\n",
    "    end\n",
    "end\n",
    "prepareHfunc!(diag, L) = (C, B) -> Hfunc!(C, B, diag, L)\n",
    "\n",
    "L = 20\n",
    "diag_ = prepareDiag(L)\n",
    "H = LinearMap(prepareHfunc!(diag_, L), 2^L, ismutating=true, issymmetric=true, isposdef=false)\n",
    "sol_exact = -2sum(abs(sin((n-1/2) * pi/L)) for n in 1:L)\n",
    "\n",
    "end;"
   ]
  },
  {
   "cell_type": "code",
   "execution_count": 35,
   "id": "70c0c1cc-1ac3-498a-9b22-bcf3835ad82a",
   "metadata": {},
   "outputs": [],
   "source": [
    "\"\"\"\n",
    "    Rev2\n",
    "\n",
    "* Use LoopVectorization.@tturbo macro.\n",
    "\"\"\"\n",
    "module Rev2\n",
    "\n",
    "using LinearAlgebra, LinearMaps\n",
    "import Arpack\n",
    "using LoopVectorization\n",
    "\n",
    "function prepareDiag(L)\n",
    "    diag = zeros(2^L)\n",
    "    for state = 1:2^L\n",
    "        for i = 1:L\n",
    "            j = i==L ? 1 : i+1\n",
    "            @inbounds diag[state] -= (((state >> (i-1))&1) == ((state >> (j-1))&1)) ? 1 : -1\n",
    "        end\n",
    "    end\n",
    "    diag\n",
    "end\n",
    "    \n",
    "function Hfunc!(C, B, diag, L)\n",
    "    N = length(diag)\n",
    "    @tturbo for state = 1:N\n",
    "        C[state] = diag[state] * B[state]\n",
    "    end\n",
    "    for i = 1:L\n",
    "        @tturbo for state = 1:N\n",
    "            newstate = (state&(~(2^L))) ⊻ (1<<(i-1))\n",
    "            c = newstate == 0\n",
    "            newstate = !c*newstate + c*N # remove if statement\n",
    "            C[newstate] -= B[state]\n",
    "        end\n",
    "    end\n",
    "end\n",
    "prepareHfunc!(diag, L) = (C, B) -> Hfunc!(C, B, diag, L)\n",
    "\n",
    "L = 20\n",
    "diag_ = prepareDiag(L)\n",
    "H = LinearMap(prepareHfunc!(diag_, L), 2^L, ismutating=true, issymmetric=true, isposdef=false)\n",
    "sol_exact = -2sum(abs(sin((n-1/2) * pi/L)) for n in 1:L)\n",
    "\n",
    "end;"
   ]
  },
  {
   "cell_type": "code",
   "execution_count": 19,
   "id": "31f6b091-e25b-411e-8d08-30e51259f171",
   "metadata": {},
   "outputs": [
    {
     "data": {
      "text/plain": [
       "-25.49098968636475"
      ]
     },
     "execution_count": 19,
     "metadata": {},
     "output_type": "execute_result"
    }
   ],
   "source": [
    "Rev0.sol_exact"
   ]
  },
  {
   "cell_type": "code",
   "execution_count": 37,
   "id": "795bf761-135d-4b47-b374-0825ff35ce45",
   "metadata": {},
   "outputs": [
    {
     "name": "stdout",
     "output_type": "stream",
     "text": [
      " 10.295061 seconds (67 allocations: 328.016 MiB)\n",
      " 10.347432 seconds (68 allocations: 328.016 MiB, 0.35% gc time)\n"
     ]
    },
    {
     "data": {
      "text/plain": [
       "-25.490989686364788 + 0.0im"
      ]
     },
     "execution_count": 37,
     "metadata": {},
     "output_type": "execute_result"
    }
   ],
   "source": [
    "@time decomp0, history0 = partialschur(Rev0.H, nev=1, which=SR())\n",
    "@time decomp0, history0 = partialschur(Rev0.H, nev=1, which=SR())\n",
    "decomp0.eigenvalues[1]"
   ]
  },
  {
   "cell_type": "code",
   "execution_count": 38,
   "id": "830aee6b-01d2-4e76-901d-f974d118d851",
   "metadata": {},
   "outputs": [
    {
     "name": "stdout",
     "output_type": "stream",
     "text": [
      "  4.707912 seconds (105.76 k allocations: 340.187 MiB)\n",
      "  4.758620 seconds (105.78 k allocations: 340.188 MiB)\n"
     ]
    },
    {
     "data": {
      "text/plain": [
       "-25.490989686364788 + 0.0im"
      ]
     },
     "execution_count": 38,
     "metadata": {},
     "output_type": "execute_result"
    }
   ],
   "source": [
    "@time decomp1, history1 = partialschur(Rev1.H, nev=1, which=SR())\n",
    "@time decomp1, history1 = partialschur(Rev1.H, nev=1, which=SR())\n",
    "decomp1.eigenvalues[1]"
   ]
  },
  {
   "cell_type": "code",
   "execution_count": 39,
   "id": "290fc737-c170-4cb4-b8ff-0ee699a4b689",
   "metadata": {},
   "outputs": [
    {
     "name": "stdout",
     "output_type": "stream",
     "text": [
      "  3.679977 seconds (102 allocations: 328.018 MiB, 1.49% gc time)\n",
      "  3.386835 seconds (99 allocations: 328.017 MiB)\n"
     ]
    },
    {
     "data": {
      "text/plain": [
       "-25.49098968636488 + 0.0im"
      ]
     },
     "execution_count": 39,
     "metadata": {},
     "output_type": "execute_result"
    }
   ],
   "source": [
    "@time decomp2, history2 = partialschur(Rev2.H, nev=1, which=SR())\n",
    "@time decomp2, history2 = partialschur(Rev2.H, nev=1, which=SR())\n",
    "decomp2.eigenvalues[1]"
   ]
  },
  {
   "cell_type": "code",
   "execution_count": null,
   "id": "dce012b4-0adb-4017-ba48-fb34c5ef48e2",
   "metadata": {},
   "outputs": [],
   "source": []
  }
 ],
 "metadata": {
  "jupytext": {
   "formats": "ipynb,auto:hydrogen"
  },
  "kernelspec": {
   "display_name": "Julia 1.8.0-DEV",
   "language": "julia",
   "name": "julia-1.8"
  },
  "language_info": {
   "file_extension": ".jl",
   "mimetype": "application/julia",
   "name": "julia",
   "version": "1.8.0"
  }
 },
 "nbformat": 4,
 "nbformat_minor": 5
}
