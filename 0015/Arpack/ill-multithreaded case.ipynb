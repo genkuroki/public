{
 "cells": [
  {
   "cell_type": "code",
   "execution_count": 1,
   "id": "2a5a37b8-353c-41da-9a50-f11e6357f628",
   "metadata": {},
   "outputs": [],
   "source": [
    "using Test, Statistics\n",
    "L = 20;"
   ]
  },
  {
   "cell_type": "code",
   "execution_count": 2,
   "id": "b37ff872-65b7-47b2-b6ed-95dd4405d330",
   "metadata": {},
   "outputs": [
    {
     "data": {
      "text/plain": [
       "\u001b[32m\u001b[1mTest Passed\u001b[22m\u001b[39m\n",
       "  Expression: f(L) == fill(L, 2 ^ L)\n",
       "   Evaluated: [20, 20, 20, 20, 20, 20, 20, 20, 20, 20  …  20, 20, 20, 20, 20, 20, 20, 20, 20, 20] == [20, 20, 20, 20, 20, 20, 20, 20, 20, 20  …  20, 20, 20, 20, 20, 20, 20, 20, 20, 20]"
      ]
     },
     "execution_count": 2,
     "metadata": {},
     "output_type": "execute_result"
    }
   ],
   "source": [
    "function f(L)\n",
    "    a = zeros(Int, 2^L)\n",
    "    for j in 0:2^L-1\n",
    "        for i in 0:L-1\n",
    "            a[begin + (j ⊻ (1 << i))] += 1\n",
    "        end\n",
    "    end\n",
    "    a\n",
    "end\n",
    "@test f(L) == fill(L, 2^L)"
   ]
  },
  {
   "cell_type": "code",
   "execution_count": 3,
   "id": "ac844c11-0c0e-4c97-830e-e8d14fcabc10",
   "metadata": {},
   "outputs": [
    {
     "name": "stdout",
     "output_type": "stream",
     "text": [
      "\u001b[91m\u001b[1mTest Failed\u001b[22m\u001b[39m at \u001b[39m\u001b[1mIn[3]:10\u001b[22m\n",
      "  Expression: f_ill_multithreaded(L) == fill(L, 2 ^ L)\n",
      "   Evaluated: [20, 20, 20, 20, 20, 20, 20, 20, 20, 20  …  20, 20, 20, 20, 20, 20, 20, 20, 20, 20] == [20, 20, 20, 20, 20, 20, 20, 20, 20, 20  …  20, 20, 20, 20, 20, 20, 20, 20, 20, 20]\n"
     ]
    },
    {
     "ename": "LoadError",
     "evalue": "\u001b[91mThere was an error during testing\u001b[39m",
     "output_type": "error",
     "traceback": [
      "\u001b[91mThere was an error during testing\u001b[39m",
      "",
      "Stacktrace:",
      " [1] record(ts::Test.FallbackTestSet, t::Union{Test.Error, Test.Fail})",
      "   @ Test C:\\buildbot\\worker\\package_win64\\build\\usr\\share\\julia\\stdlib\\v1.8\\Test\\src\\Test.jl:903",
      " [2] do_test(result::Test.ExecutionResult, orig_expr::Any)",
      "   @ Test C:\\buildbot\\worker\\package_win64\\build\\usr\\share\\julia\\stdlib\\v1.8\\Test\\src\\Test.jl:637",
      " [3] top-level scope",
      "   @ C:\\buildbot\\worker\\package_win64\\build\\usr\\share\\julia\\stdlib\\v1.8\\Test\\src\\Test.jl:445",
      " [4] eval",
      "   @ .\\boot.jl:373 [inlined]",
      " [5] include_string(mapexpr::typeof(REPL.softscope), mod::Module, code::String, filename::String)",
      "   @ Base .\\loading.jl:1207"
     ]
    }
   ],
   "source": [
    "function f_ill_multithreaded(L)\n",
    "    a = zeros(Int, 2^L)\n",
    "    Threads.@threads for j in 0:2^L-1\n",
    "        for i in 0:L-1\n",
    "            a[begin + (j ⊻ (1 << i))] += 1\n",
    "        end\n",
    "    end\n",
    "    a\n",
    "end\n",
    "@test f_ill_multithreaded(L) == fill(L, 2^L)"
   ]
  },
  {
   "cell_type": "code",
   "execution_count": 4,
   "id": "c64fe0db-bb8c-4622-b520-1153b459dfee",
   "metadata": {},
   "outputs": [
    {
     "data": {
      "text/plain": [
       "\u001b[32m\u001b[1mTest Passed\u001b[22m\u001b[39m\n",
       "  Expression: f_well_multithreaded(L) == fill(L, 2 ^ L)\n",
       "   Evaluated: [20, 20, 20, 20, 20, 20, 20, 20, 20, 20  …  20, 20, 20, 20, 20, 20, 20, 20, 20, 20] == [20, 20, 20, 20, 20, 20, 20, 20, 20, 20  …  20, 20, 20, 20, 20, 20, 20, 20, 20, 20]"
      ]
     },
     "execution_count": 4,
     "metadata": {},
     "output_type": "execute_result"
    }
   ],
   "source": [
    "function f_well_multithreaded(L)\n",
    "    a = zeros(Int, 2^L)\n",
    "    for i in 0:L-1\n",
    "        Threads.@threads for j in 0:2^L-1\n",
    "            a[begin + (j ⊻ (1 << i))] += 1\n",
    "        end\n",
    "    end\n",
    "    a\n",
    "end\n",
    "@test f_well_multithreaded(L) == fill(L, 2^L)"
   ]
  },
  {
   "cell_type": "code",
   "execution_count": 5,
   "id": "00072ed5-d49d-4305-9957-0f91fcc164b6",
   "metadata": {},
   "outputs": [
    {
     "name": "stdout",
     "output_type": "stream",
     "text": [
      "mean(f(L)) = 20.0\n",
      "mean(f_ill_multithreaded(L)) = 19.997864723205566\n",
      "mean(f_well_multithreaded(L)) = 20.0\n"
     ]
    }
   ],
   "source": [
    "@show mean(f(L))\n",
    "@show mean(f_ill_multithreaded(L))\n",
    "@show mean(f_well_multithreaded(L));"
   ]
  },
  {
   "cell_type": "code",
   "execution_count": null,
   "id": "cf3817ae-b1b8-4699-ab51-78dae2958a4c",
   "metadata": {},
   "outputs": [],
   "source": []
  }
 ],
 "metadata": {
  "jupytext": {
   "formats": "ipynb,auto:hydrogen"
  },
  "kernelspec": {
   "display_name": "Julia 1.8.0-DEV",
   "language": "julia",
   "name": "julia-1.8"
  },
  "language_info": {
   "file_extension": ".jl",
   "mimetype": "application/julia",
   "name": "julia",
   "version": "1.8.0"
  }
 },
 "nbformat": 4,
 "nbformat_minor": 5
}
