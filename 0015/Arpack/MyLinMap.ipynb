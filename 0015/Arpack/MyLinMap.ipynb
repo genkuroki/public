{
 "cells": [
  {
   "cell_type": "code",
   "execution_count": 1,
   "id": "02141678-e83a-46e9-acdc-45b18616f98f",
   "metadata": {},
   "outputs": [
    {
     "name": "stdout",
     "output_type": "stream",
     "text": [
      "sol_exact = -25.49098968636475\n"
     ]
    }
   ],
   "source": [
    "using LinearAlgebra\n",
    "using LoopVectorization\n",
    "using LinearMaps\n",
    "using Arpack: Arpack\n",
    "using ArnoldiMethod\n",
    "\n",
    "function prepareDiag(L)\n",
    "    diag = zeros(2^L)\n",
    "    for state = 1:2^L\n",
    "        for i = 1:L\n",
    "            j = i==L ? 1 : i+1\n",
    "            @inbounds diag[state] -= (((state >> (i-1))&1) == ((state >> (j-1))&1)) ? 1 : -1\n",
    "        end\n",
    "    end\n",
    "    diag\n",
    "end\n",
    "    \n",
    "function Hfunc!(C, B, diag, L)\n",
    "    N = length(diag)\n",
    "    @tturbo for state = 1:N\n",
    "        C[state] = diag[state] * B[state]\n",
    "    end\n",
    "    for i = 1:L\n",
    "        @tturbo for state = 1:N\n",
    "            newstate = (state&(~(2^L))) ⊻ (1<<(i-1))\n",
    "            c = newstate == 0\n",
    "            newstate = !c*newstate + c*N # remove if statement\n",
    "            C[newstate] -= B[state]\n",
    "        end\n",
    "    end\n",
    "end\n",
    "prepareHfunc!(diag, L) = (C, B) -> Hfunc!(C, B, diag, L)\n",
    "\n",
    "struct MyLinMap{T, F, I<:Integer}\n",
    "    f!::F; N::I; issymmetric::Bool; isposdef::Bool\n",
    "end\n",
    "MyLinMap(f!, N; issymmetric=false, isposdef=false) =\n",
    "    MyLinMap{Float64, typeof(f!), typeof(N)}(f!, N, issymmetric, isposdef)\n",
    "LinearAlgebra.mul!(y, A::MyLinMap, x) = A.f!(y, x)\n",
    "Base.size(A::MyLinMap) = (A.N, A.N)\n",
    "Base.size(A::MyLinMap, i::Integer) = size(A::MyLinMap)[i]\n",
    "Base.eltype(A::MyLinMap{T}) where T = T\n",
    "LinearAlgebra.issymmetric(A::MyLinMap) = A.issymmetric\n",
    "LinearAlgebra.isposdef(A::MyLinMap) = A.isposdef\n",
    "\n",
    "L = 20\n",
    "diag_ = prepareDiag(L)\n",
    "H! = prepareHfunc!(diag_, L)\n",
    "\n",
    "H_LinearMap = LinearMap(H!, 2^L, ismutating=true, issymmetric=true, isposdef=false)\n",
    "H_MyLinMap = MyLinMap(H!, 2^L, issymmetric = true, isposdef = false)\n",
    "sol_exact = -2sum(abs(sin((n-1/2) * pi/L)) for n in 1:L)\n",
    "@show sol_exact;"
   ]
  },
  {
   "cell_type": "code",
   "execution_count": 2,
   "id": "1e26ebbc-7891-4d18-a1cc-2548d50d3a3c",
   "metadata": {},
   "outputs": [
    {
     "name": "stdout",
     "output_type": "stream",
     "text": [
      " 18.989504 seconds (14.82 M allocations: 1011.981 MiB, 1.02% gc time)\n",
      " 10.119445 seconds (935 allocations: 200.040 MiB, 0.38% gc time)\n"
     ]
    },
    {
     "data": {
      "text/plain": [
       "-25.490989686364685"
      ]
     },
     "execution_count": 2,
     "metadata": {},
     "output_type": "execute_result"
    }
   ],
   "source": [
    "@time e1, v1 = Arpack.eigs(H_LinearMap, nev=1, which=:SR)\n",
    "@time e1, v1 = Arpack.eigs(H_LinearMap, nev=1, which=:SR)\n",
    "e1[1]"
   ]
  },
  {
   "cell_type": "code",
   "execution_count": 3,
   "id": "07bb6bc1-6cf4-475e-9dce-d50487ff67df",
   "metadata": {},
   "outputs": [
    {
     "name": "stdout",
     "output_type": "stream",
     "text": [
      " 10.488049 seconds (442.35 k allocations: 224.373 MiB, 1.48% gc time, 2.70% compilation time)\n",
      "  9.427201 seconds (880 allocations: 200.038 MiB, 0.18% gc time)\n"
     ]
    },
    {
     "data": {
      "text/plain": [
       "-25.490989686364742"
      ]
     },
     "execution_count": 3,
     "metadata": {},
     "output_type": "execute_result"
    }
   ],
   "source": [
    "@time e2, v2 = Arpack.eigs(H_MyLinMap, nev=1, which=:SR)\n",
    "@time e2, v2 = Arpack.eigs(H_MyLinMap, nev=1, which=:SR)\n",
    "e2[1]"
   ]
  },
  {
   "cell_type": "code",
   "execution_count": 4,
   "id": "f4e76702-08f3-48ec-9c5f-944f9a7f3cd5",
   "metadata": {},
   "outputs": [
    {
     "name": "stdout",
     "output_type": "stream",
     "text": [
      "  6.829463 seconds (12.33 M allocations: 930.490 MiB, 2.78% gc time, 48.00% compilation time)\n",
      "  3.538457 seconds (100 allocations: 328.017 MiB, 0.25% gc time)\n"
     ]
    },
    {
     "data": {
      "text/plain": [
       "-25.490989686364667 + 0.0im"
      ]
     },
     "execution_count": 4,
     "metadata": {},
     "output_type": "execute_result"
    }
   ],
   "source": [
    "@time d1, h1 = partialschur(H_LinearMap, nev=1, which=SR())\n",
    "@time d1, h1 = partialschur(H_LinearMap, nev=1, which=SR())\n",
    "d1.eigenvalues[1]"
   ]
  },
  {
   "cell_type": "code",
   "execution_count": 5,
   "id": "04bb4a7c-48d8-4201-bfca-d1aa997a7786",
   "metadata": {},
   "outputs": [
    {
     "name": "stdout",
     "output_type": "stream",
     "text": [
      "  3.834794 seconds (1.84 M allocations: 417.458 MiB, 1.75% gc time, 6.73% compilation time)\n",
      "  3.612403 seconds (99 allocations: 328.017 MiB, 2.20% gc time)\n"
     ]
    },
    {
     "data": {
      "text/plain": [
       "-25.49098968636474 + 0.0im"
      ]
     },
     "execution_count": 5,
     "metadata": {},
     "output_type": "execute_result"
    }
   ],
   "source": [
    "@time d2, h2 = partialschur(H_MyLinMap, nev=1, which=SR())\n",
    "@time d2, h2 = partialschur(H_MyLinMap, nev=1, which=SR())\n",
    "d2.eigenvalues[1]"
   ]
  },
  {
   "cell_type": "code",
   "execution_count": null,
   "id": "58df9f26-4b52-471f-afa2-896d021039b0",
   "metadata": {},
   "outputs": [],
   "source": []
  }
 ],
 "metadata": {
  "jupytext": {
   "encoding": "# -*- coding: utf-8 -*-",
   "formats": "ipynb,jl:hydrogen"
  },
  "kernelspec": {
   "display_name": "Julia 1.8.0-DEV",
   "language": "julia",
   "name": "julia-1.8"
  },
  "language_info": {
   "file_extension": ".jl",
   "mimetype": "application/julia",
   "name": "julia",
   "version": "1.8.0"
  }
 },
 "nbformat": 4,
 "nbformat_minor": 5
}
