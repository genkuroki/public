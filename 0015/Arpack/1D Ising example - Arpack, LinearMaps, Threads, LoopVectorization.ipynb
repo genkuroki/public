{
 "cells": [
  {
   "cell_type": "markdown",
   "id": "947a5ba0-d205-415a-9fff-db091d199443",
   "metadata": {},
   "source": [
    "https://twitter.com/yujitach/status/1424030835771023363"
   ]
  },
  {
   "cell_type": "code",
   "execution_count": 1,
   "id": "03849656-a151-48c8-9c66-4a6b086f3e30",
   "metadata": {},
   "outputs": [
    {
     "data": {
      "text/plain": [
       "v\"1.8.0-DEV.310\""
      ]
     },
     "execution_count": 1,
     "metadata": {},
     "output_type": "execute_result"
    }
   ],
   "source": [
    "VERSION"
   ]
  },
  {
   "cell_type": "code",
   "execution_count": 2,
   "id": "1904a3a7-fe40-4c96-bf86-6c61cd6cf402",
   "metadata": {},
   "outputs": [
    {
     "name": "stdout",
     "output_type": "stream",
     "text": [
      "\u001b[32m\u001b[1m      Status\u001b[22m\u001b[39m `D:\\OneDrive\\public\\0015\\Untitled Arpack\\Project.toml`\n",
      " \u001b[90m [7d9fca2a] \u001b[39mArpack v0.5.3 `https://github.com/JuliaLinearAlgebra/Arpack.jl.git#master`\n",
      " \u001b[90m [bdcacae8] \u001b[39mLoopVectorization v0.12.63\n"
     ]
    }
   ],
   "source": [
    "]st"
   ]
  },
  {
   "cell_type": "code",
   "execution_count": 3,
   "id": "7f7af1b1-b830-457a-bdf7-87bcc3676500",
   "metadata": {},
   "outputs": [
    {
     "data": {
      "text/plain": [
       "12"
      ]
     },
     "execution_count": 3,
     "metadata": {},
     "output_type": "execute_result"
    }
   ],
   "source": [
    "Threads.nthreads()"
   ]
  },
  {
   "cell_type": "code",
   "execution_count": 4,
   "id": "4211bcc6-0e96-41d9-81c7-f725063df69d",
   "metadata": {},
   "outputs": [
    {
     "name": "stdout",
     "output_type": "stream",
     "text": [
      "preparing...\n",
      "computing the lowest eigenvalue...\n",
      " 24.283829 seconds (3.91 M allocations: 415.084 MiB, 0.69% gc time, 4.06% compilation time)\n",
      " 23.558853 seconds (1.11 k allocations: 200.048 MiB, 0.23% gc time)\n",
      "obtained:\n",
      "-25.49098968636477\n",
      "theoretical:\n",
      "-25.49098968636475\n"
     ]
    }
   ],
   "source": [
    "\"\"\"\n",
    "    Original\n",
    "\n",
    "* https://gist.github.com/yujitach/c30d7a174bbc3d3d3e40a3c0f9f9d47f\n",
    "* TAB を \"    \" で置換\n",
    "\"\"\"\n",
    "module Original\n",
    "\n",
    "using LinearAlgebra,LinearMaps\n",
    "import Arpack\n",
    "\n",
    "const L=20\n",
    "    \n",
    "diag_ = zeros(Float64,2^L)\n",
    "\n",
    "function prepareDiag(diag)\n",
    "    for state = 1 : 2^L\n",
    "        for i = 1 : L\n",
    "            j = i==L ? 1 : i+1\n",
    "            diag[state] -= (((state >> (i-1))&1) == ((state >> (j-1))&1)) ? 1 : -1\n",
    "        end\n",
    "    end\n",
    "end\n",
    "    \n",
    "function Hfunc!(C,B,diag)\n",
    "    for state = 1 : 2^L\n",
    "        C[state] = diag[state] * B[state]\n",
    "    end\n",
    "    for state = 1 : 2^L\n",
    "        for i = 1 : L\n",
    "            newstate = (state&(~(2^L))) ⊻ (1<<(i-1))\n",
    "            if newstate==0\n",
    "                newstate = 2^L\n",
    "            end\n",
    "            C[newstate] -= B[state]\n",
    "        end\n",
    "    end\n",
    "end\n",
    "\n",
    "\n",
    "println(\"preparing...\")\n",
    "prepareDiag(diag_)\n",
    "\n",
    "println(\"computing the lowest eigenvalue...\")\n",
    "H=LinearMap((C,B)->Hfunc!(C,B,diag_),2^L,ismutating=true,issymmetric=true,isposdef=false)\n",
    "@time e,v = Arpack.eigs(H,nev=1,which=:SR)\n",
    "@time e,v = Arpack.eigs(H,nev=1,which=:SR)\n",
    "\n",
    "println(\"obtained:\")\n",
    "println(e[1])\n",
    "\n",
    "println(\"theoretical:\")\n",
    "println(-2sum([ abs(sin((n-1/2) * pi/L)) for n in 1 : L]))\n",
    "\n",
    "end;"
   ]
  },
  {
   "cell_type": "code",
   "execution_count": 5,
   "id": "29d741a5-5aeb-4f49-b0dc-71509025da3c",
   "metadata": {},
   "outputs": [
    {
     "name": "stdout",
     "output_type": "stream",
     "text": [
      "preparing...\n",
      "computing the lowest eigenvalue...\n",
      " 23.481924 seconds (659.00 k allocations: 235.908 MiB, 0.11% gc time, 1.12% compilation time)\n",
      " 21.677027 seconds (806 allocations: 200.036 MiB, 0.08% gc time)\n",
      "obtained:\n",
      "-25.490989686364742\n",
      "theoretical:\n",
      "-25.49098968636475\n"
     ]
    }
   ],
   "source": [
    "\"\"\"\n",
    "    Rev0\n",
    "\n",
    "* This revision is almost equivalent to the original.\n",
    "* Stop using constants.\n",
    "* Always pass global variables to functions as arguments.\n",
    "* Swap the order of the for loop.\n",
    "* Add @inbounds macro.\n",
    "* Revise sum([f(x) for x in X]) to sum(f(x) for x in X).\n",
    "\"\"\"\n",
    "module Rev0\n",
    "\n",
    "using LinearAlgebra, LinearMaps\n",
    "import Arpack\n",
    "    \n",
    "function prepareDiag(L)\n",
    "    diag = zeros(2^L)\n",
    "    for state = 1:2^L\n",
    "        for i = 1:L\n",
    "            j = i==L ? 1 : i+1\n",
    "            @inbounds diag[state] -= (((state >> (i-1))&1) == ((state >> (j-1))&1)) ? 1 : -1\n",
    "        end\n",
    "    end\n",
    "    diag\n",
    "end\n",
    "    \n",
    "function Hfunc!(C, B, diag, L)\n",
    "    for state = 1:2^L\n",
    "        @inbounds C[state] = diag[state] * B[state]\n",
    "    end\n",
    "    for i = 1:L\n",
    "        for state = 1:2^L\n",
    "            newstate = (state&(~(2^L))) ⊻ (1<<(i-1))\n",
    "            if newstate == 0\n",
    "                newstate = 2^L\n",
    "            end\n",
    "            @inbounds C[newstate] -= B[state]\n",
    "        end\n",
    "    end\n",
    "end\n",
    "prepareHfunc!(diag, L) = (C, B) -> Hfunc!(C, B, diag, L)\n",
    "\n",
    "L = 20\n",
    "\n",
    "println(\"preparing...\")\n",
    "diag_ = prepareDiag(L)\n",
    "\n",
    "println(\"computing the lowest eigenvalue...\")\n",
    "H = LinearMap(prepareHfunc!(diag_, L), 2^L, ismutating=true, issymmetric=true, isposdef=false)\n",
    "@time e, v = Arpack.eigs(H, nev=1, which=:SR)\n",
    "@time e, v = Arpack.eigs(H, nev=1, which=:SR)\n",
    "\n",
    "println(\"obtained:\")\n",
    "println(e[1])\n",
    "\n",
    "println(\"theoretical:\")\n",
    "println(-2sum(abs(sin((n-1/2) * pi/L)) for n in 1:L))\n",
    "\n",
    "end;"
   ]
  },
  {
   "cell_type": "code",
   "execution_count": 6,
   "id": "0a3529c0-0054-49fe-9531-d2c3d178e427",
   "metadata": {},
   "outputs": [
    {
     "name": "stdout",
     "output_type": "stream",
     "text": [
      "preparing...\n",
      "computing the lowest eigenvalue...\n",
      " 11.949328 seconds (1.00 M allocations: 266.665 MiB, 0.16% gc time, 2.82% compilation time)\n",
      " 10.844770 seconds (185.66 k allocations: 221.331 MiB, 0.15% gc time)\n",
      "obtained:\n",
      "-25.490989686364742\n",
      "theoretical:\n",
      "-25.49098968636475\n"
     ]
    }
   ],
   "source": [
    "\"\"\"\n",
    "    Rev1\n",
    "\n",
    "* Use Threads.@threads macro.\n",
    "\"\"\"\n",
    "module Rev1\n",
    "\n",
    "using LinearAlgebra, LinearMaps\n",
    "import Arpack\n",
    "    \n",
    "function prepareDiag(L)\n",
    "    diag = zeros(2^L)\n",
    "    for state = 1:2^L\n",
    "        for i = 1:L\n",
    "            j = i==L ? 1 : i+1\n",
    "            @inbounds diag[state] -= (((state >> (i-1))&1) == ((state >> (j-1))&1)) ? 1 : -1\n",
    "        end\n",
    "    end\n",
    "    diag\n",
    "end\n",
    "    \n",
    "function Hfunc!(C, B, diag, L)\n",
    "    Threads.@threads for state = 1:2^L\n",
    "        @inbounds C[state] = diag[state] * B[state]\n",
    "    end\n",
    "    for i = 1:L\n",
    "        Threads.@threads for state = 1:2^L\n",
    "            newstate = (state&(~(2^L))) ⊻ (1<<(i-1))\n",
    "            if newstate == 0\n",
    "                newstate = 2^L\n",
    "            end\n",
    "            @inbounds C[newstate] -= B[state]\n",
    "        end\n",
    "    end\n",
    "end\n",
    "prepareHfunc!(diag, L) = (C, B) -> Hfunc!(C, B, diag, L)\n",
    "\n",
    "L = 20\n",
    "\n",
    "println(\"preparing...\")\n",
    "diag_ = prepareDiag(L)\n",
    "\n",
    "println(\"computing the lowest eigenvalue...\")\n",
    "H = LinearMap(prepareHfunc!(diag_, L), 2^L, ismutating=true, issymmetric=true, isposdef=false)\n",
    "@time e, v = Arpack.eigs(H, nev=1, which=:SR)\n",
    "@time e, v = Arpack.eigs(H, nev=1, which=:SR)\n",
    "\n",
    "println(\"obtained:\")\n",
    "println(e[1])\n",
    "\n",
    "println(\"theoretical:\")\n",
    "println(-2sum(abs(sin((n-1/2) * pi/L)) for n in 1:L))\n",
    "\n",
    "end;"
   ]
  },
  {
   "cell_type": "code",
   "execution_count": 7,
   "id": "f76e37c4-9299-43b7-8f2f-208e9050ce93",
   "metadata": {},
   "outputs": [
    {
     "name": "stdout",
     "output_type": "stream",
     "text": [
      "preparing...\n",
      "computing the lowest eigenvalue...\n",
      " 17.706952 seconds (12.31 M allocations: 875.821 MiB, 1.24% gc time)\n",
      "  8.895560 seconds (889 allocations: 200.039 MiB, 0.21% gc time)\n",
      "obtained:\n",
      "-25.490989686364763\n",
      "theoretical:\n",
      "-25.49098968636475\n"
     ]
    }
   ],
   "source": [
    "\"\"\"\n",
    "    Rev2\n",
    "\n",
    "* Use LoopVectorization.@tturbo macro.\n",
    "\"\"\"\n",
    "module Rev2\n",
    "\n",
    "using LinearAlgebra, LinearMaps\n",
    "import Arpack\n",
    "using LoopVectorization\n",
    "\n",
    "function prepareDiag(L)\n",
    "    diag = zeros(2^L)\n",
    "    for state = 1:2^L\n",
    "        for i = 1:L\n",
    "            j = i==L ? 1 : i+1\n",
    "            @inbounds diag[state] -= (((state >> (i-1))&1) == ((state >> (j-1))&1)) ? 1 : -1\n",
    "        end\n",
    "    end\n",
    "    diag\n",
    "end\n",
    "    \n",
    "function Hfunc!(C, B, diag, L)\n",
    "    N = length(diag)\n",
    "    @tturbo for state = 1:N\n",
    "        C[state] = diag[state] * B[state]\n",
    "    end\n",
    "    for i = 1:L\n",
    "        @tturbo for state = 1:N\n",
    "            newstate = (state&(~(2^L))) ⊻ (1<<(i-1))\n",
    "            c = newstate == 0\n",
    "            newstate = !c*newstate + c*N # remove if statement\n",
    "            C[newstate] -= B[state]\n",
    "        end\n",
    "    end\n",
    "end\n",
    "prepareHfunc!(diag, L) = (C, B) -> Hfunc!(C, B, diag, L)\n",
    "\n",
    "L = 20\n",
    "\n",
    "println(\"preparing...\")\n",
    "diag_ = prepareDiag(L)\n",
    "\n",
    "println(\"computing the lowest eigenvalue...\")\n",
    "H = LinearMap(prepareHfunc!(diag_, L), 2^L, ismutating=true, issymmetric=true, isposdef=false)\n",
    "@time e, v = Arpack.eigs(H, nev=1, which=:SR)\n",
    "@time e, v = Arpack.eigs(H, nev=1, which=:SR)\n",
    "\n",
    "println(\"obtained:\")\n",
    "println(e[1])\n",
    "\n",
    "println(\"theoretical:\")\n",
    "println(-2sum(abs(sin((n-1/2) * pi/L)) for n in 1:L))\n",
    "\n",
    "end;"
   ]
  },
  {
   "cell_type": "code",
   "execution_count": 8,
   "id": "4be05d8c-f9f8-44cc-a4a6-fb5b47451e5b",
   "metadata": {},
   "outputs": [
    {
     "name": "stdout",
     "output_type": "stream",
     "text": [
      "Hamiltonian bench\n",
      "  Original:                  99.818 ms (0 allocations: 0 bytes)\n",
      "  Rev0 (almost original):    85.333 ms (0 allocations: 0 bytes)\n",
      "  Rev1 (Threads.@threads):   25.261 ms (1301 allocations: 153.84 KiB)\n",
      "  Rev2 (LoopVectorization):  11.808 ms (0 allocations: 0 bytes)\n"
     ]
    }
   ],
   "source": [
    "using BenchmarkTools\n",
    "using LinearAlgebra\n",
    "using Arpack: Arpack\n",
    "\n",
    "H = Original.H\n",
    "H0 = Rev0.H\n",
    "H1 = Rev1.H\n",
    "H2 = Rev2.H\n",
    "\n",
    "B, C = similar(Original.diag_), similar(Original.diag_)\n",
    "println(\"Hamiltonian bench\")\n",
    "print(\"  Original:                \")\n",
    "@btime mul!($C, $H, $B)\n",
    "print(\"  Rev0 (almost original):  \")\n",
    "@btime mul!($C, $H0, $B)\n",
    "print(\"  Rev1 (Threads.@threads): \")\n",
    "@btime mul!($C, $H1, $B)\n",
    "print(\"  Rev2 (LoopVectorization):\")\n",
    "@btime mul!($C, $H2, $B);"
   ]
  },
  {
   "cell_type": "code",
   "execution_count": 9,
   "id": "7a6cf8e4-9920-4adb-bb71-e93e4b3db0d6",
   "metadata": {},
   "outputs": [
    {
     "name": "stdout",
     "output_type": "stream",
     "text": [
      "Arpack.eigs bench\n",
      "  Original:                  22.863 s (1106 allocations: 200.05 MiB)\n",
      "  Rev0 (almost original):    21.502 s (806 allocations: 200.04 MiB)\n",
      "  Rev1 (Threads.@threads):   11.504 s (198068 allocations: 222.83 MiB)\n",
      "  Rev2 (LoopVectorization):  8.535 s (878 allocations: 200.04 MiB)\n"
     ]
    }
   ],
   "source": [
    "println(\"Arpack.eigs bench\")\n",
    "print(\"  Original:                \")\n",
    "@btime e, v = Arpack.eigs($H, nev=1, which=:SR)\n",
    "print(\"  Rev0 (almost original):  \")\n",
    "@btime e, v = Arpack.eigs($H0, nev=1, which=:SR)\n",
    "print(\"  Rev1 (Threads.@threads): \")\n",
    "@btime e, v = Arpack.eigs($H1, nev=1, which=:SR)\n",
    "print(\"  Rev2 (LoopVectorization):\")\n",
    "@btime e, v = Arpack.eigs($H2, nev=1, which=:SR);"
   ]
  },
  {
   "cell_type": "code",
   "execution_count": 10,
   "id": "432ff214-f067-4c4e-afd2-8917a7f4f7bc",
   "metadata": {},
   "outputs": [
    {
     "name": "stdout",
     "output_type": "stream",
     "text": [
      "a = 2 = 2\n",
      "foo = (x->begin\n",
      "            #= In[10]:2 =#\n",
      "            a * x\n",
      "        end) = var\"#1#2\"()\n",
      "foo(3) = 6\n",
      "a = 10 = 10\n",
      "foo(3) = 30\n"
     ]
    }
   ],
   "source": [
    "@show a = 2\n",
    "@show foo = x -> a*x\n",
    "@show foo(3)\n",
    "@show a = 10\n",
    "@show foo(3);"
   ]
  },
  {
   "cell_type": "code",
   "execution_count": 11,
   "id": "754282a0-a913-4b53-9516-ae233046ab4a",
   "metadata": {},
   "outputs": [
    {
     "name": "stdout",
     "output_type": "stream",
     "text": [
      "a = 2 = 2\n",
      "makebar(a) = begin\n",
      "        #= In[11]:2 =#\n",
      "        x->begin\n",
      "                #= In[11]:2 =#\n",
      "                a * x\n",
      "            end\n",
      "    end = makebar\n",
      "bar = makebar(a) = var\"#3#4\"{Int64}(2)\n",
      "bar(3) = 6\n",
      "a = 10 = 10\n",
      "bar(3) = 6\n"
     ]
    }
   ],
   "source": [
    "@show a = 2\n",
    "@show makebar(a) = x -> a*x\n",
    "@show bar = makebar(a)\n",
    "@show bar(3)\n",
    "@show a = 10\n",
    "@show bar(3);"
   ]
  },
  {
   "cell_type": "code",
   "execution_count": null,
   "id": "87d1281c-c1e9-47a5-8d52-23f5340fc3db",
   "metadata": {},
   "outputs": [],
   "source": []
  }
 ],
 "metadata": {
  "jupytext": {
   "encoding": "# -*- coding: utf-8 -*-",
   "formats": "ipynb,jl:hydrogen"
  },
  "kernelspec": {
   "display_name": "Julia 1.8.0-DEV",
   "language": "julia",
   "name": "julia-1.8"
  },
  "language_info": {
   "file_extension": ".jl",
   "mimetype": "application/julia",
   "name": "julia",
   "version": "1.8.0"
  }
 },
 "nbformat": 4,
 "nbformat_minor": 5
}
