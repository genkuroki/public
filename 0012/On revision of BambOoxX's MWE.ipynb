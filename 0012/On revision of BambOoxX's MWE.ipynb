{
 "cells": [
  {
   "cell_type": "code",
   "execution_count": 1,
   "id": "1fb98d18-6117-4dca-8c71-242713ac4cb1",
   "metadata": {},
   "outputs": [
    {
     "name": "stdout",
     "output_type": "stream",
     "text": [
      "compute! = SCI.compute! = Main.SCI.compute!\n",
      "container = COM.init_container() = Any[]\n",
      "msg = COM.read_message(:fun1) = :fun1\n",
      "COM.process!(compute!, container, msg) = Any[0.619876019321522]\n",
      "msg = COM.read_message(:fun2) = :fun2\n",
      "COM.process!(compute!, container, msg) = Any[0.619876019321522, 0.40342923543449455]\n"
     ]
    }
   ],
   "source": [
    "module COM\n",
    "\"\"\"function to initialize a container\"\"\"\n",
    "init_container() = []\n",
    "\"\"\"function to read a message from a pipe, assume it reads from the argument for simplicity\"\"\"\n",
    "read_message(x) = x\n",
    "# function to check if instruction is authorized (omitted for simplicity)\n",
    "\n",
    "\"\"\"\n",
    "function doing something based on the message received\n",
    "compute! function will be defined elsewhere\n",
    "\"\"\"\n",
    "process!(compute!, container, msg) = compute!(container, msg)\n",
    "end\n",
    "\n",
    "module SCI\n",
    "fun1(x) = x\n",
    "fun2(x) = x^2\n",
    "\n",
    "function compute!(container, msg)\n",
    "    if msg == :fun1\n",
    "        push!(container, fun1(rand()))\n",
    "    elseif msg ==:fun2\n",
    "        push!(container, fun2(rand()))\n",
    "    end\n",
    "    return container\n",
    "end\n",
    "end\n",
    "\n",
    "@show compute! = SCI.compute!\n",
    "@show container = COM.init_container()\n",
    "@show msg = COM.read_message(:fun1) \n",
    "@show COM.process!(compute!, container, msg)\n",
    "@show msg = COM.read_message(:fun2) \n",
    "@show COM.process!(compute!, container, msg);"
   ]
  },
  {
   "cell_type": "code",
   "execution_count": null,
   "id": "f63ebc73-60a8-4ce8-bfbc-1da843593a5b",
   "metadata": {},
   "outputs": [],
   "source": []
  }
 ],
 "metadata": {
  "jupytext": {
   "formats": "ipynb,auto:hydrogen"
  },
  "kernelspec": {
   "display_name": "Julia 1.8.0-DEV",
   "language": "julia",
   "name": "julia-1.8"
  },
  "language_info": {
   "file_extension": ".jl",
   "mimetype": "application/julia",
   "name": "julia",
   "version": "1.8.0"
  }
 },
 "nbformat": 4,
 "nbformat_minor": 5
}
