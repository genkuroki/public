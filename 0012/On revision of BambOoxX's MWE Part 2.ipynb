{
 "cells": [
  {
   "cell_type": "code",
   "execution_count": 3,
   "id": "1fb98d18-6117-4dca-8c71-242713ac4cb1",
   "metadata": {},
   "outputs": [
    {
     "name": "stdout",
     "output_type": "stream",
     "text": [
      "compute! = SCI.compute! = Main.SCI.compute!\n",
      "container = COM.init_container() = Main.COM.Container{Vector{Any}}(Any[])\n",
      "msg = COM.read_message(:fun1) = Main.COM.Message{Symbol}(:fun1)\n",
      "COM.process!(compute!, container, msg) = Main.COM.Container{Vector{Any}}(Any[])\n",
      "msg = COM.read_message(:fun2) = Main.COM.Message{Symbol}(:fun2)\n",
      "COM.process!(compute!, container, msg) = Main.COM.Container{Vector{Any}}(Any[])\n"
     ]
    }
   ],
   "source": [
    "module COM\n",
    "\n",
    "abstract type AbstractContainer end\n",
    "struct Container{T<:Vector} <: AbstractContainer vec::T end\n",
    "Base.parent(x::AbstractContainer) = getfield(x, :vec)\n",
    "Base.pop!(x::AbstractContainer) = pop!(parent(x))\n",
    "Base.push!(x::AbstractContainer, a...) = push!(parent(x), a...)\n",
    "\n",
    "abstract type AbstractMessage end\n",
    "struct Message{T} <: AbstractMessage instruction::T end\n",
    "instruction(x::AbstractMessage) = getfield(x, :instruction)\n",
    "\n",
    "init_container() = Container([])\n",
    "read_message(x) = Message(x)\n",
    "\n",
    "\"\"\"\n",
    "function doing something based on the message received\n",
    "compute! function will be defined elsewhere\n",
    "\"\"\"\n",
    "process!(compute!, container::AbstractContainer, msg::AbstractMessage) =\n",
    "    compute!(container, msg)\n",
    "end\n",
    "\n",
    "module SCI\n",
    "\n",
    "fun1(x) = x\n",
    "fun2(x) = x^2\n",
    "\n",
    "using ..COM\n",
    "\n",
    "function compute!(container, msg)\n",
    "    if msg == :fun1\n",
    "        push!(container, fun1(rand()))\n",
    "    elseif msg ==:fun2\n",
    "        push!(container, fun2(rand()))\n",
    "    end\n",
    "    return container\n",
    "end\n",
    "end\n",
    "\n",
    "@show compute! = SCI.compute!\n",
    "@show container = COM.init_container()\n",
    "@show msg = COM.read_message(:fun1) \n",
    "@show COM.process!(compute!, container, msg)\n",
    "@show msg = COM.read_message(:fun2) \n",
    "@show COM.process!(compute!, container, msg);"
   ]
  },
  {
   "cell_type": "code",
   "execution_count": 10,
   "id": "82779cef-f1da-41a8-afe9-5747debd9597",
   "metadata": {},
   "outputs": [
    {
     "name": "stdout",
     "output_type": "stream",
     "text": [
      "3.141592653589793"
     ]
    },
    {
     "name": "stderr",
     "output_type": "stream",
     "text": [
      "WARNING: replacing module O.\n",
      "WARNING: replacing module P.\n"
     ]
    }
   ],
   "source": [
    "module O\n",
    "main(mod::Module) = print(mod.main())\n",
    "end\n",
    "\n",
    "module P\n",
    "main() = float(π)\n",
    "end\n",
    "\n",
    "O.main(P);"
   ]
  },
  {
   "cell_type": "code",
   "execution_count": null,
   "id": "da4fa3f2-fb21-42ce-8e64-b9d31676020b",
   "metadata": {},
   "outputs": [],
   "source": []
  }
 ],
 "metadata": {
  "jupytext": {
   "formats": "ipynb,jl:hydrogen"
  },
  "kernelspec": {
   "display_name": "Julia 1.8.0-DEV",
   "language": "julia",
   "name": "julia-1.8"
  },
  "language_info": {
   "file_extension": ".jl",
   "mimetype": "application/julia",
   "name": "julia",
   "version": "1.8.0"
  }
 },
 "nbformat": 4,
 "nbformat_minor": 5
}
