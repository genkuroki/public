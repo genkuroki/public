{
 "cells": [
  {
   "cell_type": "code",
   "execution_count": 1,
   "id": "92b3eaf7-5f8f-42bd-80f0-06c78b906de8",
   "metadata": {},
   "outputs": [
    {
     "name": "stdout",
     "output_type": "stream",
     "text": [
      "f(x) = begin\n",
      "        x2 = x ^ 2\n",
      "        x * Main.muladd(x2, Main.muladd(x2, 0.008333333333333333, -0.16666666666666666), 1.0)\n",
      "    end\n",
      "\n",
      "f(π / 6) = 0.5000021325887924\n"
     ]
    }
   ],
   "source": [
    "macro h(x, p...)\n",
    "    ex = :($(p[end]))\n",
    "    for i in length(p)-1:-1:1\n",
    "        ex = :(muladd($(esc(x)), $ex, $(p[i])))\n",
    "    end\n",
    "    ex\n",
    "end\n",
    "\n",
    "expr = @macroexpand f(x) = (x2 = x^2; x * @h(x2, 1.0, -0.16666666666666666, 0.008333333333333333))\n",
    "write(\"def.jl\", string(Base.remove_linenums!(expr)))\n",
    "println(read(\"def.jl\", String)); println()\n",
    "include(\"def.jl\")\n",
    "@show f(π/6);"
   ]
  },
  {
   "cell_type": "code",
   "execution_count": 6,
   "id": "11c69070-82f6-4f69-b165-e3a1d9f5cbf4",
   "metadata": {},
   "outputs": [
    {
     "name": "stdout",
     "output_type": "stream",
     "text": [
      "f(x) = begin\n",
      "        x2 = x ^ 2\n",
      "        x * Main.muladd(x2, Main.muladd(x2, 0.008333333333333333, -0.16666666666666666), 1.0)\n",
      "    end\n",
      "\n",
      "  1.006669 seconds (144 allocations: 10.969 KiB)\n",
      "g(π / 6) = 0.49999999999999994\n"
     ]
    }
   ],
   "source": [
    "expr = @macroexpand g(x) = @time (sleep(1); sin(x))\n",
    "write(\"foo.jl\", string(Base.remove_linenums!(expr)))\n",
    "println(read(\"def.jl\", String)); println()\n",
    "include(\"foo.jl\")\n",
    "@show g(π/6);"
   ]
  },
  {
   "cell_type": "code",
   "execution_count": 3,
   "id": "2027db38-f145-46b1-ae24-78c8dc420da0",
   "metadata": {},
   "outputs": [
    {
     "name": "stdout",
     "output_type": "stream",
     "text": [
      "string_remove_linenums!(Meta.parse(str)) == str = true\n"
     ]
    }
   ],
   "source": [
    "string_remove_linenums!(expr) = string(Base.remove_linenums!(expr))\n",
    "expr = @macroexpand g(x) = @time (sleep(1); sin(x))\n",
    "str = string_remove_linenums!(expr)\n",
    "@show string_remove_linenums!(Meta.parse(str)) == str;"
   ]
  },
  {
   "cell_type": "code",
   "execution_count": 4,
   "id": "69aac4cd-6ff4-463d-8bf7-7958283bc0c7",
   "metadata": {},
   "outputs": [
    {
     "name": "stdout",
     "output_type": "stream",
     "text": [
      "string_remove_linenums!(Meta.parse(str)) == str = true\n"
     ]
    }
   ],
   "source": [
    "macro h(x, p...)\n",
    "    ex = :($(p[end]))\n",
    "    for i in length(p)-1:-1:1\n",
    "        ex = :(muladd($(esc(x)), $ex, $(p[i])))\n",
    "    end\n",
    "    ex\n",
    "end\n",
    "\n",
    "expr = @macroexpand f(x) = (x2 = x^2; x * @h(x2, 1.0, -0.16666666666666666, 0.008333333333333333))\n",
    "str = string_remove_linenums!(expr)\n",
    "@show string_remove_linenums!(Meta.parse(str)) == str;"
   ]
  },
  {
   "cell_type": "code",
   "execution_count": 5,
   "id": "d760e8a4-ff02-4318-86af-0e3c2651a252",
   "metadata": {},
   "outputs": [
    {
     "name": "stdout",
     "output_type": "stream",
     "text": [
      "  1.002852 seconds (34 allocations: 768 bytes)\n"
     ]
    },
    {
     "data": {
      "text/plain": [
       "0.49999999999999994"
      ]
     },
     "execution_count": 5,
     "metadata": {},
     "output_type": "execute_result"
    }
   ],
   "source": [
    "using Serialization\n",
    "expr = Base.remove_linenums!(@macroexpand g(x) = @time (sleep(1); sin(x)))\n",
    "serialize(\"def.jls\", expr)\n",
    "ast = deserialize(\"def.jls\")\n",
    "eval(ast)\n",
    "g(π/6)"
   ]
  },
  {
   "cell_type": "code",
   "execution_count": null,
   "id": "d7fc1f9a-c016-4304-b8fc-a41d505b35ef",
   "metadata": {},
   "outputs": [],
   "source": []
  }
 ],
 "metadata": {
  "jupytext": {
   "encoding": "# -*- coding: utf-8 -*-",
   "formats": "ipynb,jl:hydrogen"
  },
  "kernelspec": {
   "display_name": "Julia 1.6.2",
   "language": "julia",
   "name": "julia-1.6"
  },
  "language_info": {
   "file_extension": ".jl",
   "mimetype": "application/julia",
   "name": "julia",
   "version": "1.6.2"
  }
 },
 "nbformat": 4,
 "nbformat_minor": 5
}
