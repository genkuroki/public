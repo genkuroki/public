{
 "cells": [
  {
   "cell_type": "code",
   "execution_count": 1,
   "id": "4115575c-9616-43a6-bd88-ba08d15e7801",
   "metadata": {},
   "outputs": [
    {
     "data": {
      "text/plain": [
       "prob_trueisinci (generic function with 1 method)"
      ]
     },
     "execution_count": 1,
     "metadata": {},
     "output_type": "execute_result"
    }
   ],
   "source": [
    "using Distributions\n",
    "\n",
    "tstat(μ, X) = (mean(X) - μ)/√(var(X) / length(X))\n",
    "pvalue(μ, X) = 2ccdf(TDist(length(X) - 1), abs(tstat(μ, X)))\n",
    "\n",
    "function ci(X, α)\n",
    "    X̄ = mean(X)\n",
    "    c = quantile(TDist(length(X) - 1), 1 - α/2)\n",
    "    d = √(var(X) / length(X))\n",
    "    X̄ - c*d, X̄ + c*d\n",
    "end\n",
    "\n",
    "isininterval(x, int) = first(int) ≤ x ≤ last(int)\n",
    "isinci(μ, X, α) = isininterval(μ, ci(X, α))\n",
    "\n",
    "prob_trueisinci(dist, n, α; L=10^6) = mean(isinci(mean(dist), rand(dist, n), α) for _ in 1:L)"
   ]
  },
  {
   "cell_type": "code",
   "execution_count": 2,
   "id": "3c10ebe7-526c-42a0-bc3f-c5731b86d1b9",
   "metadata": {},
   "outputs": [
    {
     "data": {
      "text/plain": [
       "0.949858"
      ]
     },
     "execution_count": 2,
     "metadata": {},
     "output_type": "execute_result"
    }
   ],
   "source": [
    "prob_trueisinci(Normal(), 20, 0.05)"
   ]
  },
  {
   "cell_type": "code",
   "execution_count": 3,
   "id": "61cd77ca-c4a8-4a69-9623-f8010dc9a229",
   "metadata": {},
   "outputs": [
    {
     "data": {
      "text/plain": [
       "0.948488"
      ]
     },
     "execution_count": 3,
     "metadata": {},
     "output_type": "execute_result"
    }
   ],
   "source": [
    "prob_trueisinci(Uniform(), 20, 0.05)"
   ]
  },
  {
   "cell_type": "code",
   "execution_count": 4,
   "id": "5a429692-3673-4742-923b-137cf119b65d",
   "metadata": {},
   "outputs": [
    {
     "data": {
      "text/plain": [
       "0.918961"
      ]
     },
     "execution_count": 4,
     "metadata": {},
     "output_type": "execute_result"
    }
   ],
   "source": [
    "prob_trueisinci(Exponential(), 20, 0.05)"
   ]
  },
  {
   "cell_type": "code",
   "execution_count": 5,
   "id": "98b443e1-be98-451c-b07b-a992c62f91a7",
   "metadata": {},
   "outputs": [
    {
     "data": {
      "text/plain": [
       "0.796189"
      ]
     },
     "execution_count": 5,
     "metadata": {},
     "output_type": "execute_result"
    }
   ],
   "source": [
    "prob_trueisinci(MixtureModel([Normal(), Normal(10, 1)], [0.95, 0.05]), 20, 0.05)"
   ]
  },
  {
   "cell_type": "code",
   "execution_count": null,
   "id": "e93a6d9f-0521-42c8-b599-15bb9011edd0",
   "metadata": {},
   "outputs": [],
   "source": []
  }
 ],
 "metadata": {
  "jupytext": {
   "formats": "ipynb,auto:hydrogen"
  },
  "kernelspec": {
   "display_name": "Julia 1.8.0-DEV",
   "language": "julia",
   "name": "julia-1.8"
  },
  "language_info": {
   "file_extension": ".jl",
   "mimetype": "application/julia",
   "name": "julia",
   "version": "1.8.0"
  }
 },
 "nbformat": 4,
 "nbformat_minor": 5
}
