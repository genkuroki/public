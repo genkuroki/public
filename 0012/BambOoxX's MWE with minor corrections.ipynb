{
 "cells": [
  {
   "cell_type": "markdown",
   "id": "e83d8500-9740-40c2-8e4e-f8db000c71e6",
   "metadata": {},
   "source": [
    "https://discourse.julialang.org/t/handling-of-package-inter-dependency/64568/24"
   ]
  },
  {
   "cell_type": "code",
   "execution_count": 1,
   "id": "23f50c6e-37df-4506-b9cc-88505b491e7a",
   "metadata": {},
   "outputs": [
    {
     "name": "stdout",
     "output_type": "stream",
     "text": [
      "container = COM.init_container() = Any[]\n",
      "msg = COM.read_message(:fun1) = :fun1\n",
      "container = COM.compute!(container, msg) = Any[0.8424998776259705]\n",
      "msg = COM.read_message(:fun2) = :fun2\n",
      "container = COM.compute!(container, msg) = Any[0.8424998776259705, 0.043802504213398666]\n"
     ]
    }
   ],
   "source": [
    "module SCI\n",
    "export fun1,fun2\n",
    "fun1(x) = x\n",
    "fun2(x) = x^2\n",
    "end\n",
    "\n",
    "module COM\n",
    "using ..SCI\n",
    "\"\"\"function to initialize a container\"\"\"\n",
    "init_container() = []\n",
    "\"\"\"function to read a message from a pipe, assume it reads from the argument for simplicity\"\"\"\n",
    "read_message(x) = x\n",
    "# function to check if instruction is authorized (omitted for simplicity)\n",
    "\n",
    "\"\"\"function doing something based on the message received\"\"\"\n",
    "function compute!(container, msg)\n",
    "    if msg == :fun1\n",
    "        push!(container, fun1(rand()))\n",
    "    elseif msg ==:fun2\n",
    "        push!(container, fun2(rand()))\n",
    "    end\n",
    "    return container\n",
    "end\n",
    "end\n",
    "\n",
    "# Load COM+SCI utilities\n",
    "using .COM\n",
    "\n",
    "@show container = COM.init_container()\n",
    "@show msg = COM.read_message(:fun1) \n",
    "@show container = COM.compute!(container, msg)\n",
    "@show msg = COM.read_message(:fun2) \n",
    "@show container = COM.compute!(container, msg);"
   ]
  },
  {
   "cell_type": "code",
   "execution_count": null,
   "id": "6d5026b4-fd8d-4d02-88f5-a931b601c503",
   "metadata": {},
   "outputs": [],
   "source": []
  }
 ],
 "metadata": {
  "jupytext": {
   "formats": "ipynb,auto:hydrogen"
  },
  "kernelspec": {
   "display_name": "Julia 1.8.0-DEV",
   "language": "julia",
   "name": "julia-1.8"
  },
  "language_info": {
   "file_extension": ".jl",
   "mimetype": "application/julia",
   "name": "julia",
   "version": "1.8.0"
  }
 },
 "nbformat": 4,
 "nbformat_minor": 5
}
