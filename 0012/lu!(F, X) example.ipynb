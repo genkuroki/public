{
 "cells": [
  {
   "cell_type": "markdown",
   "id": "57d5f042-fadd-42e8-ac3f-59e1b647a5a2",
   "metadata": {},
   "source": [
    "https://discourse.julialang.org/t/how-to-reduce-large-memory-allocation-by-lu-with-sparse-matrices/64791/7"
   ]
  },
  {
   "cell_type": "code",
   "execution_count": 1,
   "id": "1967b5ad-7e7f-44cc-b257-300863e83a89",
   "metadata": {},
   "outputs": [
    {
     "data": {
      "text/plain": [
       "v\"1.6.2\""
      ]
     },
     "execution_count": 1,
     "metadata": {},
     "output_type": "execute_result"
    }
   ],
   "source": [
    "VERSION"
   ]
  },
  {
   "cell_type": "code",
   "execution_count": 2,
   "id": "b5a6c23b-6c72-41d0-a38a-1918d42409cc",
   "metadata": {},
   "outputs": [
    {
     "name": "stdout",
     "output_type": "stream",
     "text": [
      "(lu(X)).L == (lu!(F, X)).L = true\n",
      "(lu(X)).U == (lu!(F, X)).U = true\n",
      "(lu!(F, X)).L == (lu_dot!(G, X)).L = true\n",
      "(lu!(F, X)).U == (lu_dot!(G, X)).U = true\n",
      "\n",
      "lu(X):          141.900 μs (61 allocations: 505.51 KiB)\n",
      "lu!(F, X):      71.500 μs (36 allocations: 220.17 KiB)\n",
      "lu_dot!(F, X):  73.800 μs (31 allocations: 179.58 KiB)\n"
     ]
    }
   ],
   "source": [
    "using BenchmarkTools\n",
    "using Random; Random.seed!(4649373)\n",
    "using LinearAlgebra\n",
    "using SparseArrays\n",
    "using SparseArrays: getcolptr\n",
    "using SuiteSparse: decrement\n",
    "using SuiteSparse.UMFPACK: UmfpackLU, UMFVTypes, UMFITypes, umfpack_numeric!\n",
    "\n",
    "\"\"\"https://github.com/JuliaLang/SuiteSparse.jl/blob/master/src/umfpack.jl#L220-L278\"\"\"\n",
    "function lu_org!(F::UmfpackLU, S::SparseMatrixCSC{<:UMFVTypes,<:UMFITypes}; check::Bool=true)\n",
    "    zerobased = getcolptr(S)[1] == 0\n",
    "    F.m = size(S, 1)\n",
    "    F.n = size(S, 2)\n",
    "    F.colptr = zerobased ? copy(getcolptr(S)) : decrement(getcolptr(S))\n",
    "    F.rowval = zerobased ? copy(rowvals(S)) : decrement(rowvals(S))\n",
    "    F.nzval = copy(nonzeros(S))\n",
    "\n",
    "    umfpack_numeric!(F, reuse_numeric = false)\n",
    "    check && (issuccess(F) || throw(LinearAlgebra.SingularException(0)))\n",
    "    return F\n",
    "end\n",
    "\n",
    "\"\"\"A modification of https://github.com/JuliaLang/SuiteSparse.jl/blob/master/src/umfpack.jl#L220-L278\"\"\"\n",
    "function lu_dot!(F::UmfpackLU, S::SparseMatrixCSC{<:UMFVTypes,<:UMFITypes}; check::Bool=true)\n",
    "    zerobased = getcolptr(S)[1] == 0\n",
    "    F.m = size(S, 1)\n",
    "    F.n = size(S, 2)\n",
    "    if zerobased\n",
    "        F.colptr .= getcolptr(S)\n",
    "        F.rowval .= rowvals(S)\n",
    "    else\n",
    "        F.colptr .= getcolptr(S) .- oneunit(eltype(S))\n",
    "        F.rowval .= rowvals(S) .- oneunit(eltype(S))\n",
    "    end\n",
    "    F.nzval .= nonzeros(S)\n",
    "\n",
    "    umfpack_numeric!(F, reuse_numeric = false)\n",
    "    check && (issuccess(F) || throw(LinearAlgebra.SingularException(0)))\n",
    "    return F\n",
    "end\n",
    "\n",
    "n = 2^10\n",
    "X = I + sprandn(n, n, 1e-3)\n",
    "\n",
    "F = lu(X)\n",
    "G = lu(X)\n",
    "@show lu(X).L == lu!(F, X).L\n",
    "@show lu(X).U == lu!(F, X).U\n",
    "@show lu!(F, X).L == lu_dot!(G, X).L\n",
    "@show lu!(F, X).U == lu_dot!(G, X).U\n",
    "println()\n",
    "print(\"lu(X):        \")\n",
    "@btime lu($X)\n",
    "print(\"lu!(F, X):    \")\n",
    "@btime lu!($F, $X)\n",
    "print(\"lu_dot!(F, X):\")\n",
    "@btime lu_dot!($F, $X);"
   ]
  },
  {
   "cell_type": "code",
   "execution_count": 3,
   "id": "d0bc83c4-f411-4599-9cb5-7374d68246e6",
   "metadata": {},
   "outputs": [
    {
     "name": "stdout",
     "output_type": "stream",
     "text": [
      "umfpack_numeric!(F, reuse_numeric = false):  66.000 μs (31 allocations: 179.58 KiB)\n"
     ]
    }
   ],
   "source": [
    "print(\"umfpack_numeric!(F, reuse_numeric = false):\")\n",
    "let F = F, S = X\n",
    "    zerobased = getcolptr(S)[1] == 0\n",
    "    F.m = size(S, 1)\n",
    "    F.n = size(S, 2)\n",
    "    if zerobased\n",
    "        F.colptr .= getcolptr(S)\n",
    "        F.rowval .= rowvals(S)\n",
    "    else\n",
    "        F.colptr .= getcolptr(S) .- oneunit(eltype(S))\n",
    "        F.rowval .= rowvals(S) .- oneunit(eltype(S))\n",
    "    end\n",
    "    F.nzval .= nonzeros(S)\n",
    "\n",
    "    @btime umfpack_numeric!(F, reuse_numeric = false)\n",
    "end;"
   ]
  },
  {
   "cell_type": "code",
   "execution_count": 4,
   "id": "0c858b55-2fdb-4988-ba0e-4147263b757f",
   "metadata": {},
   "outputs": [
    {
     "data": {
      "text/html": [
       "(::<b>SuiteSparse.UMFPACK.var\"#umfpack_numeric!##kw\"</b>)(::<b>Any</b>, ::<b>typeof(umfpack_numeric!)</b>, U::<b>UmfpackLU{Float64, Int64}</b>) in SuiteSparse.UMFPACK at <a href=\"file://C:/buildbot/worker/package_win64/build/usr/share/julia/stdlib/v1.6/SuiteSparse/src/umfpack.jl\" target=\"_blank\">D:\\Julia-1.6.2\\share\\julia\\stdlib\\v1.6\\SuiteSparse\\src\\umfpack.jl:323</a>"
      ],
      "text/plain": [
       "(::SuiteSparse.UMFPACK.var\"#umfpack_numeric!##kw\")(::Any, ::typeof(umfpack_numeric!), U::UmfpackLU{Float64, Int64}) in SuiteSparse.UMFPACK at D:\\Julia-1.6.2\\share\\julia\\stdlib\\v1.6\\SuiteSparse\\src\\umfpack.jl:323"
      ]
     },
     "execution_count": 4,
     "metadata": {},
     "output_type": "execute_result"
    }
   ],
   "source": [
    "@which umfpack_numeric!(F, reuse_numeric = false)"
   ]
  },
  {
   "cell_type": "markdown",
   "id": "9a27958c-4781-4c0c-a885-be451b12c56e",
   "metadata": {},
   "source": [
    "https://github.com/JuliaLang/SuiteSparse.jl/blob/master/src/umfpack.jl#L384-L400"
   ]
  },
  {
   "cell_type": "code",
   "execution_count": 5,
   "id": "5d94a08c-1be4-4a7a-99c8-fbd4c999902a",
   "metadata": {},
   "outputs": [
    {
     "data": {
      "text/plain": [
       "true"
      ]
     },
     "execution_count": 5,
     "metadata": {},
     "output_type": "execute_result"
    }
   ],
   "source": [
    "mutable struct Factor F::UmfpackLU end\n",
    "factor = Factor(F)\n",
    "factor.F === F"
   ]
  },
  {
   "cell_type": "code",
   "execution_count": null,
   "id": "f4ff16cf-617c-47d9-90be-270d628eac96",
   "metadata": {},
   "outputs": [],
   "source": []
  }
 ],
 "metadata": {
  "jupytext": {
   "formats": "ipynb,jl:hydrogen"
  },
  "kernelspec": {
   "display_name": "Julia 1.6.2",
   "language": "julia",
   "name": "julia-1.6"
  },
  "language_info": {
   "file_extension": ".jl",
   "mimetype": "application/julia",
   "name": "julia",
   "version": "1.6.2"
  }
 },
 "nbformat": 4,
 "nbformat_minor": 5
}
