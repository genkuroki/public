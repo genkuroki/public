{
 "cells": [
  {
   "cell_type": "code",
   "execution_count": 1,
   "id": "35462e85-e365-4d78-85a2-ff4336ee4034",
   "metadata": {},
   "outputs": [
    {
     "data": {
      "text/html": [
       "# 7 methods for generic function <b>factorial</b>:<ul><li> factorial(n::<b>Union{Int64, UInt64}</b>) in Base at <a href=\"https://github.com/JuliaLang/julia/tree/361b3a48e2ce05a05f7e3c01903d18bf114432e3/base/combinatorics.jl#L27\" target=\"_blank\">combinatorics.jl:27</a></li> <li> factorial(n::<b>Union{Int16, Int32, Int8, UInt16, UInt32, UInt8}</b>) in Base at <a href=\"https://github.com/JuliaLang/julia/tree/361b3a48e2ce05a05f7e3c01903d18bf114432e3/base/combinatorics.jl#L33\" target=\"_blank\">combinatorics.jl:33</a></li> <li> factorial(x::<b>BigInt</b>) in Base.GMP at <a href=\"https://github.com/JuliaLang/julia/tree/361b3a48e2ce05a05f7e3c01903d18bf114432e3/base/gmp.jl#L656\" target=\"_blank\">gmp.jl:656</a></li> <li> factorial(x::<b>BigFloat</b>) in Base.MPFR at <a href=\"https://github.com/JuliaLang/julia/tree/361b3a48e2ce05a05f7e3c01903d18bf114432e3/base/mpfr.jl#L640\" target=\"_blank\">mpfr.jl:640</a></li> <li> factorial(n::<b>Int128</b>) in Base at <a href=\"https://github.com/JuliaLang/julia/tree/361b3a48e2ce05a05f7e3c01903d18bf114432e3/base/combinatorics.jl#L25\" target=\"_blank\">combinatorics.jl:25</a></li> <li> factorial(n::<b>UInt128</b>) in Base at <a href=\"https://github.com/JuliaLang/julia/tree/361b3a48e2ce05a05f7e3c01903d18bf114432e3/base/combinatorics.jl#L26\" target=\"_blank\">combinatorics.jl:26</a></li> <li> factorial(n::<b>Integer</b>) in Base at <a href=\"https://github.com/JuliaLang/julia/tree/361b3a48e2ce05a05f7e3c01903d18bf114432e3/base/intfuncs.jl#L986\" target=\"_blank\">intfuncs.jl:986</a></li> </ul>"
      ],
      "text/plain": [
       "# 7 methods for generic function \"factorial\":\n",
       "[1] factorial(n::Union{Int64, UInt64}) in Base at combinatorics.jl:27\n",
       "[2] factorial(n::Union{Int16, Int32, Int8, UInt16, UInt32, UInt8}) in Base at combinatorics.jl:33\n",
       "[3] factorial(x::BigInt) in Base.GMP at gmp.jl:656\n",
       "[4] factorial(x::BigFloat) in Base.MPFR at mpfr.jl:640\n",
       "[5] factorial(n::Int128) in Base at combinatorics.jl:25\n",
       "[6] factorial(n::UInt128) in Base at combinatorics.jl:26\n",
       "[7] factorial(n::Integer) in Base at intfuncs.jl:986"
      ]
     },
     "execution_count": 1,
     "metadata": {},
     "output_type": "execute_result"
    }
   ],
   "source": [
    "methods(factorial)"
   ]
  },
  {
   "cell_type": "code",
   "execution_count": 2,
   "id": "41ec4089-1583-4c63-a066-5ff84412b76f",
   "metadata": {},
   "outputs": [
    {
     "data": {
      "text/plain": [
       "2432902008176640000"
      ]
     },
     "execution_count": 2,
     "metadata": {},
     "output_type": "execute_result"
    }
   ],
   "source": [
    "factorial(20)"
   ]
  },
  {
   "cell_type": "code",
   "execution_count": 3,
   "id": "0adbcaf5-ecbf-48cc-b4a7-9918802d0490",
   "metadata": {},
   "outputs": [
    {
     "ename": "LoadError",
     "evalue": "OverflowError: 21 is too large to look up in the table; consider using `factorial(big(21))` instead",
     "output_type": "error",
     "traceback": [
      "OverflowError: 21 is too large to look up in the table; consider using `factorial(big(21))` instead",
      "",
      "Stacktrace:",
      " [1] factorial_lookup",
      "   @ .\\combinatorics.jl:19 [inlined]",
      " [2] factorial(n::Int64)",
      "   @ Base .\\combinatorics.jl:27",
      " [3] top-level scope",
      "   @ In[3]:1",
      " [4] eval",
      "   @ .\\boot.jl:373 [inlined]",
      " [5] include_string(mapexpr::typeof(REPL.softscope), mod::Module, code::String, filename::String)",
      "   @ Base .\\loading.jl:1196"
     ]
    }
   ],
   "source": [
    "factorial(21)"
   ]
  },
  {
   "cell_type": "code",
   "execution_count": 4,
   "id": "cdc0d1d5-ad30-411e-ac5a-2d7d0a9a7d18",
   "metadata": {},
   "outputs": [
    {
     "data": {
      "text/html": [
       "factorial(n::<b>Union{Int64, UInt64}</b>) in Base at <a href=\"https://github.com/JuliaLang/julia/tree/361b3a48e2ce05a05f7e3c01903d18bf114432e3/base/combinatorics.jl#L27\" target=\"_blank\">combinatorics.jl:27</a>"
      ],
      "text/plain": [
       "factorial(n::Union{Int64, UInt64}) in Base at combinatorics.jl:27"
      ]
     },
     "execution_count": 4,
     "metadata": {},
     "output_type": "execute_result"
    }
   ],
   "source": [
    "@which factorial(21)"
   ]
  },
  {
   "cell_type": "code",
   "execution_count": 5,
   "id": "a0765f74-0e9b-4daa-9855-0335fd7e7209",
   "metadata": {},
   "outputs": [
    {
     "data": {
      "text/plain": [
       "20-element Vector{Int64}:\n",
       "                   1\n",
       "                   2\n",
       "                   6\n",
       "                  24\n",
       "                 120\n",
       "                 720\n",
       "                5040\n",
       "               40320\n",
       "              362880\n",
       "             3628800\n",
       "            39916800\n",
       "           479001600\n",
       "          6227020800\n",
       "         87178291200\n",
       "       1307674368000\n",
       "      20922789888000\n",
       "     355687428096000\n",
       "    6402373705728000\n",
       "  121645100408832000\n",
       " 2432902008176640000"
      ]
     },
     "execution_count": 5,
     "metadata": {},
     "output_type": "execute_result"
    }
   ],
   "source": [
    "Base._fact_table64"
   ]
  },
  {
   "cell_type": "code",
   "execution_count": 6,
   "id": "7bbef615-0a48-4f7a-9fef-6b710eeb1c9c",
   "metadata": {},
   "outputs": [
    {
     "data": {
      "text/plain": [
       "666"
      ]
     },
     "execution_count": 6,
     "metadata": {},
     "output_type": "execute_result"
    }
   ],
   "source": [
    "Base._fact_table64[1] = 666"
   ]
  },
  {
   "cell_type": "code",
   "execution_count": 7,
   "id": "91cf23dd-9327-4d9b-9463-8a66ba9f8b6a",
   "metadata": {},
   "outputs": [
    {
     "data": {
      "text/plain": [
       "666"
      ]
     },
     "execution_count": 7,
     "metadata": {},
     "output_type": "execute_result"
    }
   ],
   "source": [
    "factorial(1)"
   ]
  },
  {
   "cell_type": "code",
   "execution_count": 8,
   "id": "7dd40dad-d48b-4159-b762-7f5908c9696f",
   "metadata": {},
   "outputs": [
    {
     "ename": "LoadError",
     "evalue": "MethodError: no method matching factorial(::Float64)\n\u001b[0mClosest candidates are:\n\u001b[0m  factorial(\u001b[91m::Union{Int64, UInt64}\u001b[39m) at combinatorics.jl:27\n\u001b[0m  factorial(\u001b[91m::Union{Int16, Int32, Int8, UInt16, UInt32, UInt8}\u001b[39m) at combinatorics.jl:33\n\u001b[0m  factorial(\u001b[91m::BigInt\u001b[39m) at gmp.jl:656\n\u001b[0m  ...",
     "output_type": "error",
     "traceback": [
      "MethodError: no method matching factorial(::Float64)\n\u001b[0mClosest candidates are:\n\u001b[0m  factorial(\u001b[91m::Union{Int64, UInt64}\u001b[39m) at combinatorics.jl:27\n\u001b[0m  factorial(\u001b[91m::Union{Int16, Int32, Int8, UInt16, UInt32, UInt8}\u001b[39m) at combinatorics.jl:33\n\u001b[0m  factorial(\u001b[91m::BigInt\u001b[39m) at gmp.jl:656\n\u001b[0m  ...",
      "",
      "Stacktrace:",
      " [1] top-level scope",
      "   @ In[8]:1",
      " [2] eval",
      "   @ .\\boot.jl:373 [inlined]",
      " [3] include_string(mapexpr::typeof(REPL.softscope), mod::Module, code::String, filename::String)",
      "   @ Base .\\loading.jl:1196"
     ]
    }
   ],
   "source": [
    "factorial(0.5)"
   ]
  },
  {
   "cell_type": "code",
   "execution_count": 9,
   "id": "f7088857-5f06-406a-8154-c55fd3fe48b6",
   "metadata": {},
   "outputs": [],
   "source": [
    "using SpecialFunctions"
   ]
  },
  {
   "cell_type": "code",
   "execution_count": 10,
   "id": "7d19ab5e-91be-4544-a50f-6ad3ad4970b1",
   "metadata": {},
   "outputs": [
    {
     "data": {
      "text/plain": [
       "0.886226925452758"
      ]
     },
     "execution_count": 10,
     "metadata": {},
     "output_type": "execute_result"
    }
   ],
   "source": [
    "factorial(0.5)"
   ]
  },
  {
   "cell_type": "code",
   "execution_count": 11,
   "id": "a526abd9-f0e8-4ef2-9ed3-349ee96f2c51",
   "metadata": {},
   "outputs": [
    {
     "data": {
      "text/plain": [
       "0.886226925452758"
      ]
     },
     "execution_count": 11,
     "metadata": {},
     "output_type": "execute_result"
    }
   ],
   "source": [
    "gamma(1.5)"
   ]
  },
  {
   "cell_type": "code",
   "execution_count": 12,
   "id": "6f070a8c-3052-428c-aa36-52af9b2a1370",
   "metadata": {},
   "outputs": [
    {
     "data": {
      "text/html": [
       "factorial(x::<b>Number</b>) in SpecialFunctions at <a href=\"file://D:/.julia/packages/SpecialFunctions/Bm58S/src/gamma.jl\" target=\"_blank\">D:\\.julia\\packages\\SpecialFunctions\\Bm58S\\src\\gamma.jl:876</a>"
      ],
      "text/plain": [
       "factorial(x::Number) in SpecialFunctions at D:\\.julia\\packages\\SpecialFunctions\\Bm58S\\src\\gamma.jl:876"
      ]
     },
     "execution_count": 12,
     "metadata": {},
     "output_type": "execute_result"
    }
   ],
   "source": [
    "@which factorial(0.5)"
   ]
  },
  {
   "cell_type": "code",
   "execution_count": 13,
   "id": "8c247dec-e7b9-445e-bfb2-3ac6ab535bbd",
   "metadata": {},
   "outputs": [
    {
     "data": {
      "text/html": [
       "# 9 methods for generic function <b>factorial</b>:<ul><li> factorial(n::<b>Union{Int64, UInt64}</b>) in Base at <a href=\"https://github.com/JuliaLang/julia/tree/361b3a48e2ce05a05f7e3c01903d18bf114432e3/base/combinatorics.jl#L27\" target=\"_blank\">combinatorics.jl:27</a></li> <li> factorial(n::<b>Union{Int16, Int32, Int8, UInt16, UInt32, UInt8}</b>) in Base at <a href=\"https://github.com/JuliaLang/julia/tree/361b3a48e2ce05a05f7e3c01903d18bf114432e3/base/combinatorics.jl#L33\" target=\"_blank\">combinatorics.jl:33</a></li> <li> factorial(x::<b>BigInt</b>) in Base.GMP at <a href=\"https://github.com/JuliaLang/julia/tree/361b3a48e2ce05a05f7e3c01903d18bf114432e3/base/gmp.jl#L656\" target=\"_blank\">gmp.jl:656</a></li> <li> factorial(x::<b>BigFloat</b>) in Base.MPFR at <a href=\"https://github.com/JuliaLang/julia/tree/361b3a48e2ce05a05f7e3c01903d18bf114432e3/base/mpfr.jl#L640\" target=\"_blank\">mpfr.jl:640</a></li> <li> factorial(n::<b>Int128</b>) in Base at <a href=\"https://github.com/JuliaLang/julia/tree/361b3a48e2ce05a05f7e3c01903d18bf114432e3/base/combinatorics.jl#L25\" target=\"_blank\">combinatorics.jl:25</a></li> <li> factorial(n::<b>UInt128</b>) in Base at <a href=\"https://github.com/JuliaLang/julia/tree/361b3a48e2ce05a05f7e3c01903d18bf114432e3/base/combinatorics.jl#L26\" target=\"_blank\">combinatorics.jl:26</a></li> <li> factorial(n::<b>Integer</b>) in Base at <a href=\"https://github.com/JuliaLang/julia/tree/361b3a48e2ce05a05f7e3c01903d18bf114432e3/base/intfuncs.jl#L986\" target=\"_blank\">intfuncs.jl:986</a></li> <li> factorial(x::<b>Number</b>) in SpecialFunctions at <a href=\"file://D:/.julia/packages/SpecialFunctions/Bm58S/src/gamma.jl\" target=\"_blank\">D:\\.julia\\packages\\SpecialFunctions\\Bm58S\\src\\gamma.jl:876</a></li> <li> factorial(x) in SpecialFunctions at <a href=\"file://D:/.julia/packages/SpecialFunctions/Bm58S/src/gamma.jl\" target=\"_blank\">D:\\.julia\\packages\\SpecialFunctions\\Bm58S\\src\\gamma.jl:875</a></li> </ul>"
      ],
      "text/plain": [
       "# 9 methods for generic function \"factorial\":\n",
       "[1] factorial(n::Union{Int64, UInt64}) in Base at combinatorics.jl:27\n",
       "[2] factorial(n::Union{Int16, Int32, Int8, UInt16, UInt32, UInt8}) in Base at combinatorics.jl:33\n",
       "[3] factorial(x::BigInt) in Base.GMP at gmp.jl:656\n",
       "[4] factorial(x::BigFloat) in Base.MPFR at mpfr.jl:640\n",
       "[5] factorial(n::Int128) in Base at combinatorics.jl:25\n",
       "[6] factorial(n::UInt128) in Base at combinatorics.jl:26\n",
       "[7] factorial(n::Integer) in Base at intfuncs.jl:986\n",
       "[8] factorial(x::Number) in SpecialFunctions at D:\\.julia\\packages\\SpecialFunctions\\Bm58S\\src\\gamma.jl:876\n",
       "[9] factorial(x) in SpecialFunctions at D:\\.julia\\packages\\SpecialFunctions\\Bm58S\\src\\gamma.jl:875"
      ]
     },
     "execution_count": 13,
     "metadata": {},
     "output_type": "execute_result"
    }
   ],
   "source": [
    "methods(factorial)"
   ]
  },
  {
   "cell_type": "code",
   "execution_count": 14,
   "id": "a5693eef-8d9f-4683-82c7-6109c99bd586",
   "metadata": {},
   "outputs": [
    {
     "data": {
      "text/plain": [
       "2432902008176640000"
      ]
     },
     "execution_count": 14,
     "metadata": {},
     "output_type": "execute_result"
    }
   ],
   "source": [
    "factorial(20)"
   ]
  },
  {
   "cell_type": "code",
   "execution_count": 15,
   "id": "27c32d51-1087-4cb0-9f68-c9d68df02ae8",
   "metadata": {},
   "outputs": [
    {
     "data": {
      "text/html": [
       "factorial(n::<b>Union{Int64, UInt64}</b>) in Base at <a href=\"https://github.com/JuliaLang/julia/tree/361b3a48e2ce05a05f7e3c01903d18bf114432e3/base/combinatorics.jl#L27\" target=\"_blank\">combinatorics.jl:27</a>"
      ],
      "text/plain": [
       "factorial(n::Union{Int64, UInt64}) in Base at combinatorics.jl:27"
      ]
     },
     "execution_count": 15,
     "metadata": {},
     "output_type": "execute_result"
    }
   ],
   "source": [
    "@which factorial(20)"
   ]
  },
  {
   "cell_type": "code",
   "execution_count": null,
   "id": "f81fa201-a289-459a-97a1-b83d282ae0d5",
   "metadata": {},
   "outputs": [],
   "source": []
  }
 ],
 "metadata": {
  "jupytext": {
   "formats": "ipynb,auto:hydrogen"
  },
  "kernelspec": {
   "display_name": "Julia 1.8.0-DEV",
   "language": "julia",
   "name": "julia-1.8"
  },
  "language_info": {
   "file_extension": ".jl",
   "mimetype": "application/julia",
   "name": "julia",
   "version": "1.8.0"
  }
 },
 "nbformat": 4,
 "nbformat_minor": 5
}
