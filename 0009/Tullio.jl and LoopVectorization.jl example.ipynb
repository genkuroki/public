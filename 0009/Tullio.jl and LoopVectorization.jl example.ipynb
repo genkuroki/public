{
 "cells": [
  {
   "cell_type": "code",
   "execution_count": 1,
   "id": "645ba328-12a3-417c-99a8-7beee0220152",
   "metadata": {},
   "outputs": [
    {
     "name": "stdout",
     "output_type": "stream",
     "text": [
      "R1 ≈ R2 ≈ R3 ≈ R4 ≈ R5 = true\n",
      "typeof(R1) = Array{Float64, 3}\n",
      "size(R1) = (400, 200, 100)\n"
     ]
    },
    {
     "name": "stderr",
     "output_type": "stream",
     "text": [
      "WARNING: Wrapping `Vararg` directly in UnionAll is deprecated (wrap the tuple instead).\n"
     ]
    }
   ],
   "source": [
    "using Tullio, LoopVectorization\n",
    "\n",
    "I, J, K = 400, 200, 100\n",
    "f1 = rand(I, 1, K)\n",
    "f2 = rand(I, J, 1)\n",
    "dev = rand(I, 1, 1)\n",
    "\n",
    "function make_R(f1, f2, dev)\n",
    "    I, J, K = axes(dev, 1), axes(f2, 2), axes(f1, 3)\n",
    "    R = similar(dev, I, J, K)\n",
    "    for i in I, j in J, k in K\n",
    "        @inbounds R[i, j, k] = f1[i, 1, k] * f2[i, j, 1] / dev[i, 1, 1]\n",
    "    end\n",
    "    R\n",
    "end\n",
    "\n",
    "R1 = make_R(f1, f2, dev)\n",
    "@tullio R2[i, j, k] := f1[i, 1, k] * f2[i, j, 1] / dev[i, 1, 1]\n",
    "R3 = @. f1 * f2 / dev\n",
    "R4 = @turbo @. f1 * f2 / dev\n",
    "R5 = @tturbo @. f1 * f2 / dev\n",
    "\n",
    "@show R1 ≈ R2 ≈ R3 ≈ R4 ≈ R5\n",
    "@show typeof(R1) size(R1);"
   ]
  },
  {
   "cell_type": "code",
   "execution_count": 2,
   "id": "56de3a6e-c2cc-4a99-8b46-ed79a5dee1bc",
   "metadata": {},
   "outputs": [
    {
     "name": "stdout",
     "output_type": "stream",
     "text": [
      "  38.469 ms (2 allocations: 61.04 MiB)\n",
      "  13.323 ms (152 allocations: 61.05 MiB)\n",
      "  10.020 ms (2 allocations: 61.04 MiB)\n",
      "  10.425 ms (2 allocations: 61.04 MiB)\n",
      "  7.464 ms (2 allocations: 61.04 MiB)\n"
     ]
    }
   ],
   "source": [
    "using BenchmarkTools\n",
    "@btime R1 = make_R($f1, $f2, $dev)\n",
    "@btime @tullio R2[i, j, k] := $f1[i, 1, k] * $f2[i, j, 1] / $dev[i, 1, 1]\n",
    "@btime R3 = @. $f1 * $f2 / $dev\n",
    "@btime R4 = @turbo @. $f1 * $f2 / $dev\n",
    "@btime R5 = @tturbo @. $f1 * $f2 / $dev\n",
    ";"
   ]
  },
  {
   "cell_type": "code",
   "execution_count": null,
   "id": "5e5b7e48-44bc-46d7-8214-f3cc4787a40a",
   "metadata": {},
   "outputs": [],
   "source": []
  }
 ],
 "metadata": {
  "kernelspec": {
   "display_name": "Julia 1.8.0-DEV",
   "language": "julia",
   "name": "julia-1.8"
  },
  "language_info": {
   "file_extension": ".jl",
   "mimetype": "application/julia",
   "name": "julia",
   "version": "1.8.0"
  }
 },
 "nbformat": 4,
 "nbformat_minor": 5
}
