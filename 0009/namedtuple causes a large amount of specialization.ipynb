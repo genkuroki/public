{
 "cells": [
  {
   "cell_type": "code",
   "execution_count": 1,
   "id": "e77f1901-606b-47b9-83ad-2d06b84514b4",
   "metadata": {},
   "outputs": [
    {
     "name": "stdout",
     "output_type": "stream",
     "text": [
      "test_namedtuple(5) = [\"Smzsk9hu8h => C4oCMxA\", \"dPq3IqxC4 => ijGo\", \"WLqSOlYVq => Q7sTs\", \"QR4tbQiQf => rtCDrOk\", \"xhxpH => 7RqcuFyR\"]\n",
      "test_dict(5) = [\"al1ZGj5ub => VShq2ClGcv\", \"LzX => 0ITtVQ1Tt\", \"PoW => EcEBid7\", \"bFflUjp9 => 6Lb0PU5\", \"lFy => txtXE8l54\"]\n",
      "\n",
      "test_namedtuple(2^8):  1.719489 seconds (2.24 M allocations: 127.048 MiB, 1.29% gc time)\n",
      "test_dict(2^8):        0.000245 seconds (2.56 k allocations: 197.062 KiB)\n"
     ]
    }
   ],
   "source": [
    "using Random\n",
    "\n",
    "f(x) = string(first(keys(x))) * \" => \" * string(first(values(x)))\n",
    "\n",
    "function test_namedtuple(n)\n",
    "    S = String[]\n",
    "    for _ in 1:n\n",
    "        symb = Symbol(randstring(rand(3:10)))\n",
    "        str = randstring(rand(3:10))\n",
    "        nt = NamedTuple{(symb,)}((str,))\n",
    "        push!(S, f(nt))\n",
    "    end\n",
    "    S\n",
    "end\n",
    "\n",
    "function test_dict(n)\n",
    "    S = String[]\n",
    "    for _ in 1:n\n",
    "        symb = Symbol(randstring(rand(3:10)))\n",
    "        str = randstring(rand(3:10))\n",
    "        dic = Dict(symb => str)\n",
    "        push!(S, f(dic))\n",
    "    end\n",
    "    S\n",
    "end\n",
    "\n",
    "@show test_namedtuple(5)\n",
    "@show test_dict(5)\n",
    "println()\n",
    "print(\"test_namedtuple(2^8):\")\n",
    "@time test_namedtuple(2^8)\n",
    "print(\"test_dict(2^8):      \")\n",
    "@time test_dict(2^8);"
   ]
  },
  {
   "cell_type": "code",
   "execution_count": null,
   "id": "8a369aa2-6248-4e19-ab5d-66b89ae62f59",
   "metadata": {},
   "outputs": [],
   "source": []
  }
 ],
 "metadata": {
  "jupytext": {
   "formats": "ipynb,auto:hydrogen"
  },
  "kernelspec": {
   "display_name": "Julia 1.8.0-DEV",
   "language": "julia",
   "name": "julia-1.8"
  },
  "language_info": {
   "file_extension": ".jl",
   "mimetype": "application/julia",
   "name": "julia",
   "version": "1.8.0"
  }
 },
 "nbformat": 4,
 "nbformat_minor": 5
}
