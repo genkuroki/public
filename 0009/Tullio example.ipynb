{
 "cells": [
  {
   "cell_type": "code",
   "execution_count": 8,
   "id": "645ba328-12a3-417c-99a8-7beee0220152",
   "metadata": {},
   "outputs": [
    {
     "name": "stdout",
     "output_type": "stream",
     "text": [
      "R ≈ R1 = true\n",
      "typeof(R) = Array{Float64, 3}\n",
      "size(R) = (400, 200, 100)\n"
     ]
    }
   ],
   "source": [
    "I, J, K = 400, 200, 100\n",
    "f1 = rand(I, 1, K)\n",
    "f2 = rand(I, J, 1)\n",
    "dev = rand(I, 1, 1)\n",
    "\n",
    "function make_R(f1, f2, dev)\n",
    "    I, J, K = axes(dev, 1), axes(f2, 2), axes(f1, 3)\n",
    "    R = similar(dev, I, J, K)\n",
    "    for i in I, j in J, k in K\n",
    "        @inbounds R[i, j, k] = f1[i, 1, k] * f2[i, j, 1] / dev[i, 1, 1]\n",
    "    end\n",
    "    R\n",
    "end\n",
    "R1 = make_R(f1, f2, dev)\n",
    "\n",
    "using Tullio, LoopVectorization\n",
    "@tullio R[i, j, k] := f1[i, 1, k] * f2[i, j, 1] / dev[i, 1, 1]\n",
    "\n",
    "@show R ≈ R1 typeof(R) size(R);"
   ]
  },
  {
   "cell_type": "code",
   "execution_count": 7,
   "id": "56de3a6e-c2cc-4a99-8b46-ed79a5dee1bc",
   "metadata": {},
   "outputs": [
    {
     "name": "stdout",
     "output_type": "stream",
     "text": [
      "  36.550 ms (2 allocations: 61.04 MiB)\n",
      "  12.736 ms (152 allocations: 61.05 MiB)\n"
     ]
    }
   ],
   "source": [
    "using BenchmarkTools\n",
    "@btime R1 = make_R($f1, $f2, $dev)\n",
    "@btime @tullio R[i, j, k] := $f1[i, 1, k] * $f2[i, j, 1] / $dev[i, 1, 1];"
   ]
  },
  {
   "cell_type": "code",
   "execution_count": null,
   "id": "5e5b7e48-44bc-46d7-8214-f3cc4787a40a",
   "metadata": {},
   "outputs": [],
   "source": []
  }
 ],
 "metadata": {
  "kernelspec": {
   "display_name": "Julia 1.8.0-DEV",
   "language": "julia",
   "name": "julia-1.8"
  },
  "language_info": {
   "file_extension": ".jl",
   "mimetype": "application/julia",
   "name": "julia",
   "version": "1.8.0"
  }
 },
 "nbformat": 4,
 "nbformat_minor": 5
}
