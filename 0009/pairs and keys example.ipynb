{
 "cells": [
  {
   "cell_type": "code",
   "execution_count": 1,
   "id": "73cb3b66-dd5b-4b58-86f8-194bbaf9e5ed",
   "metadata": {},
   "outputs": [],
   "source": [
    "using OffsetArrays"
   ]
  },
  {
   "cell_type": "code",
   "execution_count": 2,
   "id": "cda7b310-3b9c-4b0a-b874-927d82d21c2b",
   "metadata": {},
   "outputs": [
    {
     "data": {
      "text/plain": [
       "OffsetArrays.IdOffsetRange(values=-4:4, indices=-4:4)"
      ]
     },
     "execution_count": 2,
     "metadata": {},
     "output_type": "execute_result"
    }
   ],
   "source": [
    "v = OffsetVector(rand(0:9, 9), -4:4)\n",
    "axes(v, 1)"
   ]
  },
  {
   "cell_type": "code",
   "execution_count": 3,
   "id": "a6b79fa7-0a0f-4e23-bd01-54e17ec95714",
   "metadata": {},
   "outputs": [
    {
     "data": {
      "text/plain": [
       "9-element Vector{Tuple{Int64, Int64}}:\n",
       " (1, 9)\n",
       " (2, 7)\n",
       " (3, 5)\n",
       " (4, 9)\n",
       " (5, 9)\n",
       " (6, 6)\n",
       " (7, 7)\n",
       " (8, 5)\n",
       " (9, 5)"
      ]
     },
     "execution_count": 3,
     "metadata": {},
     "output_type": "execute_result"
    }
   ],
   "source": [
    "enumerate(v) |> collect"
   ]
  },
  {
   "cell_type": "code",
   "execution_count": 4,
   "id": "affe11cc-0441-45c9-a637-b22daf568810",
   "metadata": {},
   "outputs": [
    {
     "data": {
      "text/plain": [
       "pairs(::OffsetVector{Int64, Vector{Int64}})(...):\n",
       "  -4 => 9\n",
       "  -3 => 7\n",
       "  -2 => 5\n",
       "  -1 => 9\n",
       "  0  => 9\n",
       "  1  => 6\n",
       "  2  => 7\n",
       "  3  => 5\n",
       "  4  => 5"
      ]
     },
     "execution_count": 4,
     "metadata": {},
     "output_type": "execute_result"
    }
   ],
   "source": [
    "pairs(v)"
   ]
  },
  {
   "cell_type": "code",
   "execution_count": 5,
   "id": "906207fb-9f87-45cd-9a8f-a1286702dd33",
   "metadata": {},
   "outputs": [
    {
     "data": {
      "text/plain": [
       "9-element LinearIndices{1, Tuple{OffsetArrays.IdOffsetRange{Int64, Base.OneTo{Int64}}}} with indices -4:4:\n",
       " -4\n",
       " -3\n",
       " -2\n",
       " -1\n",
       "  0\n",
       "  1\n",
       "  2\n",
       "  3\n",
       "  4"
      ]
     },
     "execution_count": 5,
     "metadata": {},
     "output_type": "execute_result"
    }
   ],
   "source": [
    "keys(v)"
   ]
  },
  {
   "cell_type": "code",
   "execution_count": 6,
   "id": "6dfb29ea-0f86-45e8-8f63-1057bbc1f5b5",
   "metadata": {},
   "outputs": [
    {
     "data": {
      "text/plain": [
       "(OffsetArrays.IdOffsetRange(values=0:4, indices=0:4), OffsetArrays.IdOffsetRange(values=-2:2, indices=-2:2))"
      ]
     },
     "execution_count": 6,
     "metadata": {},
     "output_type": "execute_result"
    }
   ],
   "source": [
    "A = OffsetArray(rand(0:9, 5, 5), 0:4, -2:2)\n",
    "axes(A)"
   ]
  },
  {
   "cell_type": "code",
   "execution_count": 7,
   "id": "8cdf9be2-d5f5-4017-b3ac-9fb2cc741d61",
   "metadata": {},
   "outputs": [
    {
     "data": {
      "text/plain": [
       "5×5 Matrix{Tuple{Int64, Int64}}:\n",
       " (1, 9)  (6, 1)   (11, 4)  (16, 7)  (21, 6)\n",
       " (2, 0)  (7, 8)   (12, 6)  (17, 2)  (22, 3)\n",
       " (3, 2)  (8, 1)   (13, 8)  (18, 0)  (23, 5)\n",
       " (4, 7)  (9, 8)   (14, 7)  (19, 3)  (24, 9)\n",
       " (5, 9)  (10, 7)  (15, 8)  (20, 6)  (25, 7)"
      ]
     },
     "execution_count": 7,
     "metadata": {},
     "output_type": "execute_result"
    }
   ],
   "source": [
    "enumerate(A) |> collect"
   ]
  },
  {
   "cell_type": "code",
   "execution_count": 8,
   "id": "94ca4bfc-66f3-491d-8764-1f60535310d7",
   "metadata": {},
   "outputs": [
    {
     "data": {
      "text/plain": [
       "5×5 OffsetArray(::Matrix{Pair{CartesianIndex{2}, Int64}}, 0:4, -2:2) with eltype Pair{CartesianIndex{2}, Int64} with indices 0:4×-2:2:\n",
       " CartesianIndex(0, -2)=>9  …  CartesianIndex(0, 2)=>6\n",
       " CartesianIndex(1, -2)=>0     CartesianIndex(1, 2)=>3\n",
       " CartesianIndex(2, -2)=>2     CartesianIndex(2, 2)=>5\n",
       " CartesianIndex(3, -2)=>7     CartesianIndex(3, 2)=>9\n",
       " CartesianIndex(4, -2)=>9     CartesianIndex(4, 2)=>7"
      ]
     },
     "execution_count": 8,
     "metadata": {},
     "output_type": "execute_result"
    }
   ],
   "source": [
    "pairs(A) |> collect"
   ]
  },
  {
   "cell_type": "code",
   "execution_count": 9,
   "id": "887c4101-6dc7-4564-930f-9156f6806f26",
   "metadata": {},
   "outputs": [
    {
     "data": {
      "text/plain": [
       "5×5 CartesianIndices{2, Tuple{OffsetArrays.IdOffsetRange{Int64, Base.OneTo{Int64}}, OffsetArrays.IdOffsetRange{Int64, Base.OneTo{Int64}}}} with indices 0:4×-2:2:\n",
       " CartesianIndex(0, -2)  CartesianIndex(0, -1)  …  CartesianIndex(0, 2)\n",
       " CartesianIndex(1, -2)  CartesianIndex(1, -1)     CartesianIndex(1, 2)\n",
       " CartesianIndex(2, -2)  CartesianIndex(2, -1)     CartesianIndex(2, 2)\n",
       " CartesianIndex(3, -2)  CartesianIndex(3, -1)     CartesianIndex(3, 2)\n",
       " CartesianIndex(4, -2)  CartesianIndex(4, -1)     CartesianIndex(4, 2)"
      ]
     },
     "execution_count": 9,
     "metadata": {},
     "output_type": "execute_result"
    }
   ],
   "source": [
    "keys(A)"
   ]
  },
  {
   "cell_type": "code",
   "execution_count": null,
   "id": "6e0b2718-23cf-4dc6-b83b-7c5f2ab0284a",
   "metadata": {},
   "outputs": [],
   "source": []
  }
 ],
 "metadata": {
  "jupytext": {
   "formats": "ipynb,auto:hydrogen"
  },
  "kernelspec": {
   "display_name": "Julia 1.6.1",
   "language": "julia",
   "name": "julia-1.6"
  },
  "language_info": {
   "file_extension": ".jl",
   "mimetype": "application/julia",
   "name": "julia",
   "version": "1.6.1"
  }
 },
 "nbformat": 4,
 "nbformat_minor": 5
}
