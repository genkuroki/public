{
 "cells": [
  {
   "cell_type": "code",
   "execution_count": 1,
   "id": "6ab1d9b7-6511-4762-8d23-b8d5d665ecce",
   "metadata": {},
   "outputs": [
    {
     "name": "stdout",
     "output_type": "stream",
     "text": [
      "VERSION = v\"1.6.1\"\n"
     ]
    },
    {
     "ename": "LoadError",
     "evalue": "MethodError: objects of type Float64 are not callable",
     "output_type": "error",
     "traceback": [
      "MethodError: objects of type Float64 are not callable",
      "",
      "Stacktrace:",
      " [1] f(S::Float64)",
      "   @ Main .\\In[1]:2",
      " [2] top-level scope",
      "   @ In[1]:3",
      " [3] eval",
      "   @ .\\boot.jl:360 [inlined]",
      " [4] include_string(mapexpr::typeof(REPL.softscope), mod::Module, code::String, filename::String)",
      "   @ Base .\\loading.jl:1094"
     ]
    }
   ],
   "source": [
    "@show VERSION\n",
    "f(S) = S(S + 1)\n",
    "f(3/2)"
   ]
  },
  {
   "cell_type": "code",
   "execution_count": 1,
   "id": "ceee2b38-d6ff-4955-a156-7c002853d16c",
   "metadata": {},
   "outputs": [
    {
     "name": "stdout",
     "output_type": "stream",
     "text": [
      "VERSION = v\"1.7.0-beta2\"\n"
     ]
    },
    {
     "ename": "LoadError",
     "evalue": "MethodError: objects of type Float64 are not callable\nMaybe you forgot to use an operator such as \u001b[36m*, ^, %, / etc. \u001b[39m?",
     "output_type": "error",
     "traceback": [
      "MethodError: objects of type Float64 are not callable\nMaybe you forgot to use an operator such as \u001b[36m*, ^, %, / etc. \u001b[39m?",
      "",
      "Stacktrace:",
      " [1] f(S::Float64)",
      "   @ Main .\\In[1]:2",
      " [2] top-level scope",
      "   @ In[1]:3",
      " [3] eval",
      "   @ .\\boot.jl:373 [inlined]",
      " [4] include_string(mapexpr::typeof(REPL.softscope), mod::Module, code::String, filename::String)",
      "   @ Base .\\loading.jl:1196"
     ]
    }
   ],
   "source": [
    "@show VERSION\n",
    "f(S) = S(S + 1)\n",
    "f(3/2)"
   ]
  },
  {
   "cell_type": "code",
   "execution_count": 2,
   "id": "c5ae04b5-a3e3-44f9-b6d9-870a0290ca83",
   "metadata": {},
   "outputs": [
    {
     "data": {
      "text/plain": [
       "3.75"
      ]
     },
     "execution_count": 2,
     "metadata": {},
     "output_type": "execute_result"
    }
   ],
   "source": [
    "f(S) = S * (S + 1)\n",
    "f(3/2)"
   ]
  },
  {
   "cell_type": "code",
   "execution_count": null,
   "id": "229a6d46-4999-44f3-8c24-87a398250c0e",
   "metadata": {},
   "outputs": [],
   "source": []
  }
 ],
 "metadata": {
  "jupytext": {
   "formats": "ipynb,auto:hydrogen"
  },
  "kernelspec": {
   "display_name": "Julia 1.6.1",
   "language": "julia",
   "name": "julia-1.6"
  },
  "language_info": {
   "file_extension": ".jl",
   "mimetype": "application/julia",
   "name": "julia",
   "version": "1.6.1"
  }
 },
 "nbformat": 4,
 "nbformat_minor": 5
}
