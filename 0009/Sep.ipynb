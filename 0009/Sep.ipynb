{
 "cells": [
  {
   "cell_type": "code",
   "execution_count": 1,
   "id": "1b698b63-ff86-469f-ab5c-5a56ee98010d",
   "metadata": {},
   "outputs": [],
   "source": [
    "abstract type AbstractSep{T} end\n",
    "\n",
    "struct Sep{T<:Union{Nothing, Tuple{<:AbstractSep, <:AbstractSep}}} <: AbstractSep{T}\n",
    "    a::T\n",
    "end\n",
    "Sep(x::AbstractSep, y::AbstractSep) = Sep((x, y))\n",
    "\n",
    "const Nil = Sep(nothing)\n",
    "Base.show(io::IO, ::Sep{Nothing}) = print(io, \"Nil\")\n",
    "Base.show(io::IO, x::Sep{<:Tuple}) = print(io, x.a)"
   ]
  },
  {
   "cell_type": "code",
   "execution_count": 2,
   "id": "e186b46d-277a-444c-b54c-25e2298964c8",
   "metadata": {},
   "outputs": [
    {
     "data": {
      "text/plain": [
       "Nil"
      ]
     },
     "execution_count": 2,
     "metadata": {},
     "output_type": "execute_result"
    }
   ],
   "source": [
    "Nil"
   ]
  },
  {
   "cell_type": "code",
   "execution_count": 3,
   "id": "929ddaaa-e678-422d-8c7e-9c36eaef7264",
   "metadata": {},
   "outputs": [
    {
     "data": {
      "text/plain": [
       "(Nil, Nil)"
      ]
     },
     "execution_count": 3,
     "metadata": {},
     "output_type": "execute_result"
    }
   ],
   "source": [
    "a = Sep(Nil, Nil)"
   ]
  },
  {
   "cell_type": "code",
   "execution_count": 4,
   "id": "69d6b2e4-aea8-4b3e-9e11-e62bf59e797b",
   "metadata": {},
   "outputs": [
    {
     "data": {
      "text/plain": [
       "((Nil, Nil), (Nil, Nil))"
      ]
     },
     "execution_count": 4,
     "metadata": {},
     "output_type": "execute_result"
    }
   ],
   "source": [
    "b = Sep(a, a)"
   ]
  },
  {
   "cell_type": "code",
   "execution_count": 5,
   "id": "ed2f282e-a960-4b69-a466-d55df8964fcb",
   "metadata": {},
   "outputs": [
    {
     "data": {
      "text/plain": [
       "((Nil, Nil), ((Nil, Nil), (Nil, Nil)))"
      ]
     },
     "execution_count": 5,
     "metadata": {},
     "output_type": "execute_result"
    }
   ],
   "source": [
    "c = Sep(a, b)"
   ]
  },
  {
   "cell_type": "code",
   "execution_count": 6,
   "id": "a4b73d0f-8482-41f1-b443-ea2d634310a4",
   "metadata": {},
   "outputs": [
    {
     "data": {
      "text/plain": [
       "Sep{Tuple{Sep{Tuple{Sep{Nothing}, Sep{Nothing}}}, Sep{Tuple{Sep{Tuple{Sep{Nothing}, Sep{Nothing}}}, Sep{Tuple{Sep{Nothing}, Sep{Nothing}}}}}}}"
      ]
     },
     "execution_count": 6,
     "metadata": {},
     "output_type": "execute_result"
    }
   ],
   "source": [
    "typeof(c)"
   ]
  },
  {
   "cell_type": "code",
   "execution_count": null,
   "id": "b943ba36-69c5-4a5b-a21b-47e02a01a0eb",
   "metadata": {},
   "outputs": [],
   "source": []
  }
 ],
 "metadata": {
  "jupytext": {
   "formats": "ipynb,auto:hydrogen"
  },
  "kernelspec": {
   "display_name": "Julia 1.8.0-DEV",
   "language": "julia",
   "name": "julia-1.8"
  },
  "language_info": {
   "file_extension": ".jl",
   "mimetype": "application/julia",
   "name": "julia",
   "version": "1.8.0"
  }
 },
 "nbformat": 4,
 "nbformat_minor": 5
}
