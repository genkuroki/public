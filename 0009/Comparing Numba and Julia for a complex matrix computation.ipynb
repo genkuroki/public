{
 "cells": [
  {
   "cell_type": "markdown",
   "id": "4a29e528-a170-4f63-845d-878b947ec602",
   "metadata": {},
   "source": [
    "https://discourse.julialang.org/t/comparing-numba-and-julia-for-a-complex-matrix-computation/63703/11"
   ]
  },
  {
   "cell_type": "code",
   "execution_count": 1,
   "id": "05bd7978-817b-4112-baf9-3f8848131cc3",
   "metadata": {},
   "outputs": [
    {
     "name": "stdout",
     "output_type": "stream",
     "text": [
      "Julia Version 1.6.1\n",
      "Commit 6aaedecc44 (2021-04-23 05:59 UTC)\n",
      "Platform Info:\n",
      "  OS: Windows (x86_64-w64-mingw32)\n",
      "  CPU: Intel(R) Core(TM) i7-10750H CPU @ 2.60GHz\n",
      "  WORD_SIZE: 64\n",
      "  LIBM: libopenlibm\n",
      "  LLVM: libLLVM-11.0.1 (ORCJIT, skylake)\n",
      "Environment:\n",
      "  JULIA_DEPOT_PATH = D:\\.julia\n",
      "  JULIA_NUM_THREADS = 12\n",
      "  JULIA_PYTHONCALL_EXE = D:\\.julia\\conda\\3\\python.exe\n"
     ]
    }
   ],
   "source": [
    "versioninfo()"
   ]
  },
  {
   "cell_type": "code",
   "execution_count": 2,
   "id": "3e7d155f-3189-4702-9b10-747f129a28af",
   "metadata": {},
   "outputs": [
    {
     "name": "stdout",
     "output_type": "stream",
     "text": [
      " 28.222513 seconds (358.24 k allocations: 480.214 MiB, 0.23% gc time, 0.22% compilation time)\n",
      " 28.034453 seconds (160.00 k allocations: 468.750 MiB, 0.18% gc time)\n",
      " 27.827226 seconds (160.00 k allocations: 468.750 MiB, 0.17% gc time)\n"
     ]
    }
   ],
   "source": [
    "# resized original version\n",
    "\n",
    "height, width = 187, 746;\n",
    "#org_sized = rand(Float32, (2001, 2001)) * 60;\n",
    "org_sized = rand(Float32, (401, 401)) * 60;\n",
    "shadow_time_hrs = zeros(Float32, size(org_sized));\n",
    "height_mat = rand(Float32, (height, width)) * 100; # originally values getting larger from (0, width//2) to the outside with the distance squared\n",
    "\n",
    "\n",
    "angle_mat = round.(Int32, 2 .* atand.(0:height-1, (0:width-1)' .-(width/2-1))) .+ 1;\n",
    "\n",
    "enlarged_size = zeros(eltype(org_sized), size(org_sized, 1) + height, size(org_sized, 2) + width);\n",
    "enlarged_size[1:size(org_sized, 1), range(Int(width/2), length=size(org_sized, 2))] = org_sized;\n",
    "\n",
    "weights = rand(Float32, 361)/ 10 .+ 0.01;  # weights originally larger in the middle\n",
    "\n",
    "function computeSumHours(org_sized, enlarged_size, angle_mat, height_mat, weights, y, x)\n",
    "    height, width = size(height_mat)\n",
    "    short_elevations = @view enlarged_size[y:y+height, x:x+width]\n",
    "    shadowed_segments = zeros(eltype(weights), 361)\n",
    "\n",
    "    for x2 in 1:width\n",
    "        for y2 in 1:height\n",
    "            overshadowed = (short_elevations[y2, x2] - org_sized[y, x]) > height_mat[y2, x2]\n",
    "            if overshadowed\n",
    "                angle = angle_mat[y2, x2]\n",
    "                if shadowed_segments[angle] == 0.0\n",
    "                    shadowed_segments[angle] = weights[angle]\n",
    "                end\n",
    "            end\n",
    "        end\n",
    "    end\n",
    "\n",
    "    return sum(shadowed_segments)\n",
    "end\n",
    "\n",
    "function computeAllLines(org_sized, enlarged_size, angle_mat, height_mat, shadow_time_hrs, weights)\n",
    "    for x in 1:size(org_sized, 2) - 1\n",
    "        for y  in 1:size(org_sized, 1) - 1\n",
    "            shadow_time_hrs[x, y] = computeSumHours(org_sized, enlarged_size, angle_mat, height_mat, weights, y, x)\n",
    "        end\n",
    "    end\n",
    "    return shadow_time_hrs\n",
    "end\n",
    "\n",
    "@time result = computeAllLines(org_sized, enlarged_size, angle_mat, height_mat, shadow_time_hrs, weights);\n",
    "@time result = computeAllLines(org_sized, enlarged_size, angle_mat, height_mat, shadow_time_hrs, weights);\n",
    "@time result = computeAllLines(org_sized, enlarged_size, angle_mat, height_mat, shadow_time_hrs, weights);\n",
    "r0 = result;"
   ]
  },
  {
   "cell_type": "code",
   "execution_count": 3,
   "id": "9a11f91d-f7e8-47c4-88f1-286e52164942",
   "metadata": {},
   "outputs": [
    {
     "name": "stdout",
     "output_type": "stream",
     "text": [
      " 20.481910 seconds (207.30 k allocations: 12.225 MiB, 0.29% compilation time)\n",
      " 20.319880 seconds (1 allocation: 1.594 KiB)\n",
      " 20.339460 seconds (1 allocation: 1.594 KiB)\n"
     ]
    }
   ],
   "source": [
    "# revised version\n",
    "\n",
    "weights = Float32.(weights)\n",
    "\n",
    "function computeSumHours!(org_sized, enlarged_size, angle_mat, height_mat, weights, y, x, shadowed_segments)\n",
    "    height, width = size(height_mat)\n",
    "    short_elevations = @view enlarged_size[y:y+height, x:x+width]\n",
    "    shadowed_segments .= 0\n",
    "\n",
    "    @inbounds for x2 in 1:width\n",
    "        for y2 in 1:height\n",
    "            overshadowed = (short_elevations[y2, x2] - org_sized[y, x]) > height_mat[y2, x2]\n",
    "            if overshadowed\n",
    "                angle = angle_mat[y2, x2]\n",
    "                if shadowed_segments[angle] == 0.0\n",
    "                    shadowed_segments[angle] = weights[angle]\n",
    "                end\n",
    "            end\n",
    "        end\n",
    "    end\n",
    "\n",
    "    return sum(shadowed_segments)\n",
    "end\n",
    "\n",
    "function computeAllLines!(org_sized, enlarged_size, angle_mat, height_mat, shadow_time_hrs, weights)\n",
    "    shadowed_segments = zeros(eltype(weights), 361)\n",
    "    for x in 1:size(org_sized, 2) - 1\n",
    "        for y  in 1:size(org_sized, 1) - 1\n",
    "            shadow_time_hrs[x, y] = computeSumHours!(org_sized, enlarged_size, angle_mat, height_mat, weights, y, x, shadowed_segments)\n",
    "        end\n",
    "    end\n",
    "    return shadow_time_hrs\n",
    "end\n",
    "\n",
    "@time result = computeAllLines!(org_sized, enlarged_size, angle_mat, height_mat, shadow_time_hrs, weights);\n",
    "@time result = computeAllLines!(org_sized, enlarged_size, angle_mat, height_mat, shadow_time_hrs, weights);\n",
    "@time result = computeAllLines!(org_sized, enlarged_size, angle_mat, height_mat, shadow_time_hrs, weights);\n",
    "r1 = result;"
   ]
  },
  {
   "cell_type": "code",
   "execution_count": 4,
   "id": "26e54080-0e24-473a-8364-a270a351e800",
   "metadata": {},
   "outputs": [
    {
     "name": "stdout",
     "output_type": "stream",
     "text": [
      "Threads.nthreads() = 12\n",
      "  5.817959 seconds (10.12 M allocations: 997.270 MiB, 3.60% gc time, 1.31% compilation time)\n",
      "  5.754861 seconds (9.95 M allocations: 987.269 MiB, 3.29% gc time)\n",
      "  5.781787 seconds (9.95 M allocations: 987.292 MiB, 3.26% gc time)\n"
     ]
    }
   ],
   "source": [
    "# revised version 2\n",
    "\n",
    "weights = Float32.(weights)\n",
    "\n",
    "function computeSumHours!(org_sized, enlarged_size, angle_mat, height_mat, weights, y, x, shadowed_segments)\n",
    "    height, width = size(height_mat)\n",
    "    short_elevations = @view enlarged_size[y:y+height, x:x+width]\n",
    "    shadowed_segments .= 0\n",
    "\n",
    "    Threads.@threads for x2 in 1:width\n",
    "        for y2 in 1:height\n",
    "            @inbounds overshadowed = (short_elevations[y2, x2] - org_sized[y, x]) > height_mat[y2, x2]\n",
    "            @inbounds if overshadowed\n",
    "                angle = angle_mat[y2, x2]\n",
    "                if shadowed_segments[angle] == 0.0\n",
    "                    shadowed_segments[angle] = weights[angle]\n",
    "                end\n",
    "            end\n",
    "        end\n",
    "    end\n",
    "\n",
    "    return sum(shadowed_segments)\n",
    "end\n",
    "\n",
    "function computeAllLines!(org_sized, enlarged_size, angle_mat, height_mat, shadow_time_hrs, weights)\n",
    "    shadowed_segments = zeros(eltype(weights), 361)\n",
    "    for x in 1:size(org_sized, 2) - 1\n",
    "        for y  in 1:size(org_sized, 1) - 1\n",
    "            shadow_time_hrs[x, y] = computeSumHours!(org_sized, enlarged_size, angle_mat, height_mat, weights, y, x, shadowed_segments)\n",
    "        end\n",
    "    end\n",
    "    return shadow_time_hrs\n",
    "end\n",
    "\n",
    "@show Threads.nthreads()\n",
    "@time result = computeAllLines!(org_sized, enlarged_size, angle_mat, height_mat, shadow_time_hrs, weights);\n",
    "@time result = computeAllLines!(org_sized, enlarged_size, angle_mat, height_mat, shadow_time_hrs, weights);\n",
    "@time result = computeAllLines!(org_sized, enlarged_size, angle_mat, height_mat, shadow_time_hrs, weights);\n",
    "r2 = result;"
   ]
  },
  {
   "cell_type": "code",
   "execution_count": 5,
   "id": "db72ef38-dd50-4c74-9adc-d60da8b0c80f",
   "metadata": {},
   "outputs": [
    {
     "data": {
      "text/plain": [
       "true"
      ]
     },
     "execution_count": 5,
     "metadata": {},
     "output_type": "execute_result"
    }
   ],
   "source": [
    "r0 ≈ r1 ≈ r2"
   ]
  },
  {
   "cell_type": "code",
   "execution_count": null,
   "id": "eafc84bd-9727-48b0-8b12-ffeac0e14b0b",
   "metadata": {},
   "outputs": [],
   "source": []
  }
 ],
 "metadata": {
  "jupytext": {
   "formats": "ipynb,jl:hydrogen"
  },
  "kernelspec": {
   "display_name": "Julia 1.6.1",
   "language": "julia",
   "name": "julia-1.6"
  },
  "language_info": {
   "file_extension": ".jl",
   "mimetype": "application/julia",
   "name": "julia",
   "version": "1.6.1"
  }
 },
 "nbformat": 4,
 "nbformat_minor": 5
}
