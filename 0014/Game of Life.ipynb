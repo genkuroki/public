{
 "cells": [
  {
   "cell_type": "code",
   "execution_count": 1,
   "id": "4fb94915-2cc4-4bac-ba5e-fa4acdbc753e",
   "metadata": {},
   "outputs": [
    {
     "data": {
      "text/plain": [
       "Main.LifeGame"
      ]
     },
     "execution_count": 1,
     "metadata": {},
     "output_type": "execute_result"
    }
   ],
   "source": [
    "module LifeGame\n",
    "\n",
    "using Plots\n",
    "using ProgressMeter\n",
    "\n",
    "struct Board{T}\n",
    "    state::T\n",
    "    tmp::T\n",
    "end\n",
    "Board(state) = Board(state, similar(state))\n",
    "function fivexfive(n=200)\n",
    "    state = zeros(Int8, n, n)\n",
    "    m = n ÷ 2\n",
    "    state[m-2:m+2, m-2:m+2] .= [1 1 1 0 1; 1 0 0 0 0; 0 0 0 1 1; 0 1 1 0 1; 1 0 1 0 1]\n",
    "    Board(state)\n",
    "end\n",
    "randboard(n=200) = Board(rand(Int8[0, 1], n, n))\n",
    "\n",
    "P(i, m) = ifelse(i == m, 1, i+1)\n",
    "Q(i, m) = ifelse(i == 1, m, i-1)\n",
    "function _update!(v, u)\n",
    "    m, n = size(u)\n",
    "    @inbounds for j in 1:n, i in 1:m\n",
    "        i₊, i₋, j₊, j₋ = P(i, m), Q(i, m), P(j, n), Q(j, n)\n",
    "        N = u[i₋,j₋] + u[i,j₋] + u[i₊,j₋] + u[i₋,j] + u[i₊,j] + u[i₋,j₊] + u[i,j₊] + u[i₊,j₊]\n",
    "        v[i,j] = N == 3 ? 1 : (N == 2 && !iszero(u[i,j])) ? 1 : 0\n",
    "    end\n",
    "end\n",
    "\n",
    "function update!(board::Board, niters=1)\n",
    "    state, tmp = board.state, board.tmp\n",
    "    for _ in 1:niters÷2\n",
    "        _update!(tmp, state)\n",
    "        _update!(state, tmp)\n",
    "    end\n",
    "    if isodd(niters)\n",
    "        _update!(tmp, state)\n",
    "        state .= tmp\n",
    "    end\n",
    "end\n",
    "\n",
    "function gif!(board::Board, niters, nskips=1; gifname=\"life.gif\", fps=20, size=(240, 240))\n",
    "    prog = Progress(niters, 0)\n",
    "    anim = @animate for t in 1:niters\n",
    "        heatmap(board.state; size, colorbar=false, ticks=false, axis=false, frame=false)\n",
    "        update!(board, nskips)\n",
    "        next!(prog)\n",
    "    end\n",
    "    gif(anim, gifname; fps)\n",
    "end\n",
    "\n",
    "end"
   ]
  },
  {
   "cell_type": "code",
   "execution_count": null,
   "id": "81c82dd3-63d3-45b2-8e14-d6dcdba0e446",
   "metadata": {},
   "outputs": [
    {
     "name": "stderr",
     "output_type": "stream",
     "text": [
      "\u001b[32mProgress:  59%|█████████████████████████                |  ETA: 0:00:15\u001b[39m9m"
     ]
    }
   ],
   "source": [
    "boardrandom = LifeGame.randboard()\n",
    "LifeGame.gif!(boardrandom, 500; gifname=\"liferandom.gif\")"
   ]
  },
  {
   "cell_type": "code",
   "execution_count": null,
   "id": "2091d87f-2e13-4290-a262-1ef669da3aa9",
   "metadata": {},
   "outputs": [],
   "source": [
    "board5x5 = LifeGame.fivexfive()\n",
    "LifeGame.gif!(board5x5, 2000; gifname=\"life5x5.gif\", fps=60)"
   ]
  },
  {
   "cell_type": "code",
   "execution_count": null,
   "id": "0e8870bd-f781-4669-a882-e8f0c83dd2b3",
   "metadata": {},
   "outputs": [],
   "source": [
    "state = Int8[\n",
    "    0 0 0 0 0 0 0\n",
    "    0 0 0 0 0 0 0\n",
    "    0 0 0 0 0 0 0\n",
    "    0 0 0 0 0 0 0\n",
    "    0 1 1 0 0 0 0\n",
    "    1 0 1 0 0 0 0\n",
    "    0 0 1 0 0 0 0\n",
    "]\n",
    "board = LifeGame.Board(state)\n",
    "board.state"
   ]
  },
  {
   "cell_type": "code",
   "execution_count": null,
   "id": "ecb8daf2-2f43-4b7d-9c07-04ffd5855e0a",
   "metadata": {},
   "outputs": [],
   "source": [
    "LifeGame.update!(board, 12)\n",
    "board.state"
   ]
  },
  {
   "cell_type": "code",
   "execution_count": null,
   "id": "471c4884-d6a7-4b32-9682-68c589911fb1",
   "metadata": {},
   "outputs": [],
   "source": [
    "LifeGame.gif!(board, 27; gifname=\"lifeglider.gif\", fps=5)"
   ]
  },
  {
   "cell_type": "code",
   "execution_count": null,
   "id": "aa08a90f-8a5e-4574-b03c-23973016bc87",
   "metadata": {},
   "outputs": [],
   "source": []
  }
 ],
 "metadata": {
  "jupytext": {
   "encoding": "# -*- coding: utf-8 -*-",
   "formats": "ipynb,jl:hydrogen"
  },
  "kernelspec": {
   "display_name": "Julia 1.8.0-DEV",
   "language": "julia",
   "name": "julia-1.8"
  },
  "language_info": {
   "file_extension": ".jl",
   "mimetype": "application/julia",
   "name": "julia",
   "version": "1.8.0"
  }
 },
 "nbformat": 4,
 "nbformat_minor": 5
}
