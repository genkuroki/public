{
 "cells": [
  {
   "cell_type": "markdown",
   "id": "e90fd606-66e5-442d-97d1-8ac04167f36a",
   "metadata": {},
   "source": [
    " http://www.snap-tck.com/room04/c01/stat/stat01/stat0106.html#note03"
   ]
  },
  {
   "cell_type": "code",
   "execution_count": 1,
   "id": "8d11a757-117a-44ae-9748-e8beb4df8732",
   "metadata": {},
   "outputs": [
    {
     "data": {
      "text/plain": [
       "pvalue (generic function with 6 methods)"
      ]
     },
     "execution_count": 1,
     "metadata": {},
     "output_type": "execute_result"
    }
   ],
   "source": [
    "using Logging\n",
    "disable_logging(Logging.Warn)\n",
    "\n",
    "using Distributions\n",
    "using Roots\n",
    "using RCall\n",
    "@rlibrary stats\n",
    "\n",
    "x ⪅ y = x < y || x ≈ y\n",
    "\n",
    "function pvalue(d, k, ::Val{:ts}) # :ts stands for \"two-sided\"\n",
    "    sum(pdf(d, j) for j in support(d) if pdf(d, j) ⪅ pdf(d, k); init = 0.0)\n",
    "end\n",
    "\n",
    "function pvalue(d, k, ::Val{:dos}) # :dos stands for \"doubled one-sided\"\n",
    "    min(1, 2cdf(d, k), 2ccdf(d, k-1))\n",
    "end\n",
    "\n",
    "function pvalue(a, b, c, d, ::Val{:fisher}; ω = 1.0)\n",
    "    pvalue(FisherNoncentralHypergeometric(a+b, c+d, a+c, ω), a, Val(:ts))\n",
    "end\n",
    "\n",
    "function pvalue(a, b, c, d, ::Val{:fisher_dos}; ω = 1.0)\n",
    "    pvalue(FisherNoncentralHypergeometric(a+b, c+d, a+c, ω), a, Val(:dos))\n",
    "end\n",
    "\n",
    "function confidence_interval(a, b, c, d, alg; α = 0.05)\n",
    "    CI = exp.(find_zeros(t -> pvalue(a, b, c, d, alg; ω = exp(t)) - α, -20, 20))\n",
    "    isone(length(CI)) ? CI[1] < 1 ? (0.0, CI[1]) : (CI[1], Inf) : (CI[1], CI[end])\n",
    "end\n",
    "\n",
    "function delta(a, b, c, d, ω=1.0)\n",
    "    A = 1 - ω\n",
    "    B = a + d + ω*(b + c)\n",
    "    C = a*d - ω*b*c\n",
    "    2*C/(-B - √(B^2 - 4*A*C))\n",
    "end\n",
    "\n",
    "_odds_ratio(a, b, c, d) = (ad = a*d; iszero(ad) ? ad : ad/(b*c))\n",
    "function odds_ratio(a, b, c, d, ω=1.0)\n",
    "    δ = delta(a, b, c, d, ω)\n",
    "    _odds_ratio(a + δ, b - δ, c - δ, d + δ)\n",
    "end\n",
    "\n",
    "_chisq(a, b, c, d) = (a+b+c+d)*(a*d - b*c)^2/((a+b)*(c+d)*(a+c)*(b+d))\n",
    "function chisq(a, b, c, d, ω=1.0)\n",
    "    δ = delta(a, b, c, d, ω)\n",
    "    iszero(δ) ? δ : δ^2 * (1/(a + δ) + 1/(b - δ) + 1/(c - δ) + 1/(d + δ))\n",
    "end\n",
    "\n",
    "function chisq_yates(a, b, c, d, ω=1.0)\n",
    "    δ = delta(a, b, c, d, ω)\n",
    "    m = max(0, abs(δ)-1/2)^2\n",
    "    iszero(m) ? m : m * (1/(a + δ) + 1/(b - δ) + 1/(c - δ) + 1/(d + δ))\n",
    "end\n",
    "\n",
    "function pvalue(a, b, c, d, ::Val{:chisq}; ω = 1.0)\n",
    "    ccdf(Chisq(1), chisq(a, b, c, d, ω))\n",
    "end\n",
    "\n",
    "function pvalue(a, b, c, d, ::Val{:chisq_yates}; ω = 1.0)\n",
    "    ccdf(Chisq(1), chisq_yates(a, b, c, d, ω))\n",
    "end"
   ]
  },
  {
   "cell_type": "code",
   "execution_count": 2,
   "id": "65f2ca25-0085-457e-95b6-8895279058fe",
   "metadata": {},
   "outputs": [
    {
     "name": "stdout",
     "output_type": "stream",
     "text": [
      "============================== Test data:\n",
      "\n",
      "A = [16 4; 4 6]\n",
      "\n",
      "============================== Calculated by R:\n",
      "\n",
      "(rcopy(fisher_test(A)))[:p_value] = 0.04485792401834373\n",
      "(rcopy(fisher_test(A)))[:conf_int] = [0.8602909481155422, 44.00171912708482]\n",
      "\n",
      "(rcopy(chisq_test(A, correct = false)))[:p_value] = 0.028459736916310548\n",
      "(rcopy(chisq_test(A)))[:p_value] = 0.07505987281783368\n",
      "\n",
      "============================== Calculated by Julia:\n",
      "\n",
      "pvalue(A..., Val(:fisher)) = 0.04485792401834382\n",
      "confidence_interval(A..., Val(:fisher)) = (1.0548936562756734, 32.69944128327747)\n",
      "pvalue(A..., Val(:fisher_dos)) = 0.07741723543822498\n",
      "confidence_interval(A..., Val(:fisher_dos)) = (0.8602702455780803, 43.98182262822144)\n",
      "\n",
      "pvalue(A..., Val(:chisq)) = 0.028459736916310548\n",
      "confidence_interval(A..., Val(:chisq)) = (1.1911176901272547, 30.49633585876286)\n",
      "pvalue(A..., Val(:chisq_yates)) = 0.07505987281783368\n",
      "confidence_interval(A..., Val(:chisq_yates)) = (0.8734133287988821, 47.22191280527806)\n"
     ]
    }
   ],
   "source": [
    "println(\"=\"^30 * \" Test data:\\n\")\n",
    "\n",
    "A = [16 4; 4 6]\n",
    "@show A\n",
    "println()\n",
    "\n",
    "println(\"=\"^30 * \" Calculated by R:\\n\")\n",
    "@show rcopy(fisher_test(A))[:p_value]\n",
    "@show rcopy(fisher_test(A))[:conf_int]\n",
    "println()\n",
    "@show rcopy(chisq_test(A, correct=false))[:p_value]\n",
    "@show rcopy(chisq_test(A))[:p_value]\n",
    "\n",
    "sleep(0.1)\n",
    "println()\n",
    "\n",
    "println(\"=\"^30 * \" Calculated by Julia:\\n\")\n",
    "@show pvalue(A..., Val(:fisher))\n",
    "@show confidence_interval(A..., Val(:fisher))\n",
    "@show pvalue(A..., Val(:fisher_dos))\n",
    "@show confidence_interval(A..., Val(:fisher_dos))\n",
    "println()\n",
    "@show pvalue(A..., Val(:chisq))\n",
    "@show confidence_interval(A..., Val(:chisq))\n",
    "@show pvalue(A..., Val(:chisq_yates))\n",
    "@show confidence_interval(A..., Val(:chisq_yates))\n",
    ";"
   ]
  },
  {
   "cell_type": "code",
   "execution_count": 3,
   "id": "3909c7e0-236c-43e2-8c62-42745fc4dcb0",
   "metadata": {},
   "outputs": [
    {
     "data": {
      "text/plain": [
       "RObject{VecSxp}\n",
       "\n",
       "\tFisher's Exact Test for Count Data\n",
       "\n",
       "data:  structure(c(16L, 4L, 4L, 6L), .Dim = c(2L, 2L))\n",
       "p-value = 0.04486\n",
       "alternative hypothesis: true odds ratio is not equal to 1\n",
       "95 percent confidence interval:\n",
       "  0.8602909 44.0017191\n",
       "sample estimates:\n",
       "odds ratio \n",
       "  5.585888 \n",
       "\n"
      ]
     },
     "execution_count": 3,
     "metadata": {},
     "output_type": "execute_result"
    }
   ],
   "source": [
    "fisher_test(A)"
   ]
  },
  {
   "cell_type": "code",
   "execution_count": 4,
   "id": "8bf28a90-552c-4faf-96ca-6c64a7672920",
   "metadata": {},
   "outputs": [
    {
     "data": {
      "text/plain": [
       "RObject{VecSxp}\n",
       "\n",
       "\tPearson's Chi-squared test\n",
       "\n",
       "data:  structure(c(16L, 4L, 4L, 6L), .Dim = c(2L, 2L))\n",
       "X-squared = 4.8, df = 1, p-value = 0.02846\n",
       "\n"
      ]
     },
     "execution_count": 4,
     "metadata": {},
     "output_type": "execute_result"
    }
   ],
   "source": [
    "chisq_test(A, correct = false)"
   ]
  },
  {
   "cell_type": "code",
   "execution_count": 5,
   "id": "424a0836-6f5d-4eee-a8be-1999a1762fe4",
   "metadata": {},
   "outputs": [
    {
     "data": {
      "text/plain": [
       "RObject{VecSxp}\n",
       "\n",
       "\tPearson's Chi-squared test with Yates' continuity correction\n",
       "\n",
       "data:  structure(c(16L, 4L, 4L, 6L), .Dim = c(2L, 2L))\n",
       "X-squared = 3.1687, df = 1, p-value = 0.07506\n",
       "\n"
      ]
     },
     "execution_count": 5,
     "metadata": {},
     "output_type": "execute_result"
    }
   ],
   "source": [
    "chisq_test(A)"
   ]
  },
  {
   "cell_type": "code",
   "execution_count": null,
   "id": "6fbca144-d445-47f2-9089-c66bb3411146",
   "metadata": {},
   "outputs": [],
   "source": []
  }
 ],
 "metadata": {
  "jupytext": {
   "formats": "ipynb,auto:hydrogen"
  },
  "kernelspec": {
   "display_name": "Julia 1.6.2",
   "language": "julia",
   "name": "julia-1.6"
  },
  "language_info": {
   "file_extension": ".jl",
   "mimetype": "application/julia",
   "name": "julia",
   "version": "1.6.2"
  }
 },
 "nbformat": 4,
 "nbformat_minor": 5
}
