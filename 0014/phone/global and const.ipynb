{
 "cells": [
  {
   "cell_type": "markdown",
   "id": "80eba3bb-7e1d-4e20-b03b-2fb3f9b88e0e",
   "metadata": {},
   "source": [
    "https://discourse.julialang.org/t/how-to-correctly-define-and-use-global-variables-in-the-module-in-julia/65720/8"
   ]
  },
  {
   "cell_type": "code",
   "execution_count": 1,
   "id": "aa84c71e-bd9b-4e47-8346-1746e98fb8a5",
   "metadata": {},
   "outputs": [
    {
     "name": "stdout",
     "output_type": "stream",
     "text": [
      "f(6.0) = 36.0,  a = 100.0\n"
     ]
    }
   ],
   "source": [
    "# The `::Float64`'s below are redundant.\n",
    "module A\n",
    "global a = 100.0::Float64\n",
    "function f(x)::Float64\n",
    "    a = x^2\n",
    "    return a\n",
    "end\n",
    "println(\"f(6.0) = \", f(6.0), \",  a = \", a)\n",
    "end;"
   ]
  },
  {
   "cell_type": "code",
   "execution_count": 2,
   "id": "08dc7a17-1644-487e-9800-416b95645f69",
   "metadata": {},
   "outputs": [
    {
     "name": "stdout",
     "output_type": "stream",
     "text": [
      "f(6.0) = 36.0,  a = 100.0\n"
     ]
    }
   ],
   "source": [
    "# A is equivalent to the following.\n",
    "module B\n",
    "a = 100.0\n",
    "function f(x)::Float64\n",
    "    a = x^2\n",
    "    return a\n",
    "end\n",
    "println(\"f(6.0) = \", f(6.0), \",  a = \", a)\n",
    "end;"
   ]
  },
  {
   "cell_type": "code",
   "execution_count": 3,
   "id": "8c3a9048-8d0d-43b3-be02-c409a55e84a8",
   "metadata": {},
   "outputs": [
    {
     "name": "stdout",
     "output_type": "stream",
     "text": [
      "f(6.0) = 36.0,  a = 100.0\n"
     ]
    }
   ],
   "source": [
    "# Don't write return-type in general.\n",
    "# https://github.com/JuliaLang/julia/blob/master/doc/src/manual/functions.md#return-type\n",
    "module B′\n",
    "a = 100.0\n",
    "function f(x)\n",
    "    a = x^2\n",
    "    return a\n",
    "end\n",
    "println(\"f(6.0) = \", f(6.0), \",  a = \", a)\n",
    "end;"
   ]
  },
  {
   "cell_type": "code",
   "execution_count": 4,
   "id": "35e81ef2-0a82-413a-80f1-921e3869663b",
   "metadata": {},
   "outputs": [
    {
     "name": "stdout",
     "output_type": "stream",
     "text": [
      "f(6.0) = 36.0,  a = 36.0\n"
     ]
    }
   ],
   "source": [
    "# We need `global` for the immutable global variable `a` in for-loop.\n",
    "module C\n",
    "a = 100.0\n",
    "function f(x)\n",
    "    global a = x^2\n",
    "    return a\n",
    "end\n",
    "println(\"f(6.0) = \", f(6.0), \",  a = \", a)\n",
    "end;"
   ]
  },
  {
   "cell_type": "code",
   "execution_count": 5,
   "id": "796dc6cb-e393-4dbb-a4ce-91f9d7aa0a9b",
   "metadata": {},
   "outputs": [
    {
     "name": "stdout",
     "output_type": "stream",
     "text": [
      "f(6.0) = 36.0,  a[] = 36.0\n"
     ]
    }
   ],
   "source": [
    "# We don't need `global` for the content `a[]` of the mutable global variable `a`.\n",
    "module D\n",
    "a = Ref(100.0)\n",
    "function f(x)\n",
    "    a[] = x^2\n",
    "    return a[]\n",
    "end\n",
    "println(\"f(6.0) = \", f(6.0), \",  a[] = \", a[])\n",
    "end;"
   ]
  },
  {
   "cell_type": "code",
   "execution_count": 6,
   "id": "79ac60c9-e7b4-42de-9533-eadb93e5b2a6",
   "metadata": {},
   "outputs": [
    {
     "name": "stdout",
     "output_type": "stream",
     "text": [
      "f(6.0) = 36.0,  a[] = 36.0\n"
     ]
    }
   ],
   "source": [
    "# D is type-unstable.  We need `const` for type stability.\n",
    "module E\n",
    "const a = Ref(100.0)\n",
    "function f(x)\n",
    "    a[] = x^2\n",
    "    return a[]\n",
    "end\n",
    "println(\"f(6.0) = \", f(6.0), \",  a[] = \", a[])\n",
    "end;"
   ]
  },
  {
   "cell_type": "code",
   "execution_count": 7,
   "id": "ea5b26f5-6352-4454-a91a-dd09362910e2",
   "metadata": {},
   "outputs": [
    {
     "name": "stdout",
     "output_type": "stream",
     "text": [
      "MethodInstance for Main.D.f(::\u001b[0mFloat64)\n",
      "  from f(x) in Main.D at In[5]:4\n",
      "Arguments\n",
      "  #self#\u001b[36m::Core.Const(Main.D.f)\u001b[39m\n",
      "  x\u001b[36m::Float64\u001b[39m\n",
      "Body\u001b[91m\u001b[1m::Any\u001b[22m\u001b[39m\n",
      "\u001b[90m1 ─\u001b[39m %1 = Core.apply_type(Base.Val, 2)\u001b[36m::Core.Const(Val{2})\u001b[39m\n",
      "\u001b[90m│  \u001b[39m %2 = (%1)()\u001b[36m::Core.Const(Val{2}())\u001b[39m\n",
      "\u001b[90m│  \u001b[39m %3 = Base.literal_pow(Main.D.:^, x, %2)\u001b[36m::Float64\u001b[39m\n",
      "\u001b[90m│  \u001b[39m      Base.setindex!(Main.D.a, %3)\n",
      "\u001b[90m│  \u001b[39m %5 = Base.getindex(Main.D.a)\u001b[91m\u001b[1m::Any\u001b[22m\u001b[39m\n",
      "\u001b[90m└──\u001b[39m      return %5\n",
      "\n"
     ]
    }
   ],
   "source": [
    "@code_warntype D.f(6.0)"
   ]
  },
  {
   "cell_type": "code",
   "execution_count": 8,
   "id": "d00ccea7-8afa-4e6e-b1b3-4caecd530b06",
   "metadata": {},
   "outputs": [
    {
     "name": "stdout",
     "output_type": "stream",
     "text": [
      "MethodInstance for Main.E.f(::\u001b[0mFloat64)\n",
      "  from f(x) in Main.E at In[6]:4\n",
      "Arguments\n",
      "  #self#\u001b[36m::Core.Const(Main.E.f)\u001b[39m\n",
      "  x\u001b[36m::Float64\u001b[39m\n",
      "Body\u001b[36m::Float64\u001b[39m\n",
      "\u001b[90m1 ─\u001b[39m %1 = Core.apply_type(Base.Val, 2)\u001b[36m::Core.Const(Val{2})\u001b[39m\n",
      "\u001b[90m│  \u001b[39m %2 = (%1)()\u001b[36m::Core.Const(Val{2}())\u001b[39m\n",
      "\u001b[90m│  \u001b[39m %3 = Base.literal_pow(Main.E.:^, x, %2)\u001b[36m::Float64\u001b[39m\n",
      "\u001b[90m│  \u001b[39m      Base.setindex!(Main.E.a, %3)\n",
      "\u001b[90m│  \u001b[39m %5 = Base.getindex(Main.E.a)\u001b[36m::Float64\u001b[39m\n",
      "\u001b[90m└──\u001b[39m      return %5\n",
      "\n"
     ]
    }
   ],
   "source": [
    "@code_warntype E.f(6.0)"
   ]
  },
  {
   "cell_type": "code",
   "execution_count": null,
   "id": "25553092-eaf0-4323-b544-51a787460c4e",
   "metadata": {},
   "outputs": [],
   "source": []
  }
 ],
 "metadata": {
  "jupytext": {
   "formats": "ipynb,auto:hydrogen"
  },
  "kernelspec": {
   "display_name": "Julia 1.8.0-DEV",
   "language": "julia",
   "name": "julia-1.8"
  },
  "language_info": {
   "file_extension": ".jl",
   "mimetype": "application/julia",
   "name": "julia",
   "version": "1.8.0"
  }
 },
 "nbformat": 4,
 "nbformat_minor": 5
}
