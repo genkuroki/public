{
 "cells": [
  {
   "cell_type": "markdown",
   "id": "74338773-6f43-4009-930f-702555004c97",
   "metadata": {},
   "source": [
    "https://discourse.julialang.org/t/help-to-get-my-slow-julia-code-to-run-as-fast-as-rust-java-lisp/65741"
   ]
  },
  {
   "cell_type": "code",
   "execution_count": 1,
   "id": "b0dbe454-5e3e-406c-8380-2aefcd962e6a",
   "metadata": {},
   "outputs": [],
   "source": [
    "# download dictionary\n",
    "if !isfile(\"dictionary.txt\")\n",
    "    dictionary_url = \"https://raw.githubusercontent.com/renatoathaydes/prechelt-phone-number-encoding/julia/dictionary.txt\"\n",
    "    Downloads.download(dictionary_url, \"dictionary.txt\")\n",
    "end"
   ]
  },
  {
   "cell_type": "code",
   "execution_count": 2,
   "id": "91dff487-417a-4258-896b-3e569259de54",
   "metadata": {},
   "outputs": [
    {
     "data": {
      "text/plain": [
       "wordToNumber (generic function with 1 method)"
      ]
     },
     "execution_count": 2,
     "metadata": {},
     "output_type": "execute_result"
    }
   ],
   "source": [
    "# https://gist.github.com/jonathanBieler/de37a190d590297fc6b5d0ffee3c18dc\n",
    "\n",
    "#=\n",
    "# Port of Peter Norvig's Common Lisp program from http://norvig.com/java-lisp.html.\n",
    "#\n",
    "# - Julia version: 1.6.2\n",
    "# - Author: Renato Athaydes\n",
    "# - Date: 2021-07-24\n",
    "=#\n",
    "const emptyStrings = String[]\n",
    "\n",
    "function printTranslations(num, digits, start=1, words=String[])\n",
    "    if start > length(digits)\n",
    "       return println(num, \": \", join(words, \" \"))\n",
    "    end\n",
    "    foundWord = false\n",
    "    n = BigInt(1)\n",
    "    for i in start:length(digits)\n",
    "        n = n * 10 + nthDigit(digits, i)\n",
    "        for word in get(dict, n, emptyStrings)\n",
    "            foundWord = true\n",
    "            printTranslations(num, digits, i + 1, [words; word])\n",
    "        end\n",
    "    end\n",
    "    if !foundWord &&\n",
    "        !(!isempty(words) && length(words[end]) == 1 && isdigit(words[end][begin]))\n",
    "        printTranslations(num, digits, start + 1, [words; string(nthDigit(digits, start))])\n",
    "    end\n",
    "end\n",
    "\n",
    "function loadDictionary(file)::Dict{BigInt, Vector{String}}\n",
    "    local dict = Dict{BigInt, Vector{String}}()\n",
    "    for word in eachline(file)\n",
    "        push!(get!(dict, wordToNumber(word)) do; String[] end, word)\n",
    "    end\n",
    "    dict\n",
    "end\n",
    "\n",
    "function nthDigit(digits::String, i::Int64)::UInt\n",
    "    UInt(digits[i]) - UInt('0')\n",
    "end\n",
    "\n",
    "function charToDigit(ch::Char)::UInt\n",
    "    ch = lowercase(ch)\n",
    "    ch == 'e' && return 0\n",
    "    ch in ['j', 'n', 'q'] && return 1\n",
    "    ch in ['r', 'w', 'x'] && return 2\n",
    "    ch in ['d', 's', 'y'] && return 3\n",
    "    ch in ['f', 't'] && return 4\n",
    "    ch in ['a', 'm'] && return 5\n",
    "    ch in ['c', 'i', 'v'] && return 6\n",
    "    ch in ['b', 'k', 'u'] && return 7\n",
    "    ch in ['l', 'o', 'p'] && return 8\n",
    "    ch in ['g', 'h', 'z'] && return 9\n",
    "    throw(DomainError(ch, \"Not a letter\"))\n",
    "end\n",
    "\n",
    "function wordToNumber(word::String)::BigInt\n",
    "    n = BigInt(1)\n",
    "    for ch in word\n",
    "        if isletter(ch) && isascii(ch)\n",
    "            n = n * 10 + charToDigit(ch)\n",
    "        end\n",
    "    end\n",
    "    n\n",
    "end\n",
    "\n",
    "\n",
    "# dict = open(isempty(ARGS) ? \"tests/words.txt\" : ARGS[begin]) do file\n",
    "#     loadDictionary(file)\n",
    "# end\n",
    "\n",
    "# open(length(ARGS) < 2 ? \"tests/numbers.txt\" : ARGS[begin+1]) do file\n",
    "#     for num in eachline(file)\n",
    "#         printTranslations(num, filter(isdigit, num))\n",
    "#     end\n",
    "# end"
   ]
  },
  {
   "cell_type": "code",
   "execution_count": 3,
   "id": "462da944-4755-4a0d-8d9c-4225730801c1",
   "metadata": {},
   "outputs": [
    {
     "data": {
      "text/plain": [
       "translate (generic function with 1 method)"
      ]
     },
     "execution_count": 3,
     "metadata": {},
     "output_type": "execute_result"
    }
   ],
   "source": [
    "# original printTranslations added the arguments io and dict\n",
    "function printTranslations_original(io, dict, num, digits, start=1, words=String[])\n",
    "    if start > length(digits)\n",
    "       return println(io, num, \": \", join(words, \" \"))\n",
    "    end\n",
    "    foundWord = false\n",
    "    n = BigInt(1)\n",
    "    for i in start:length(digits)\n",
    "        n = n * 10 + nthDigit(digits, i)\n",
    "        for word in get(dict, n, emptyStrings)\n",
    "            foundWord = true\n",
    "            printTranslations_original(io, dict, num, digits, i + 1, [words; word])\n",
    "        end\n",
    "    end\n",
    "    if !foundWord &&\n",
    "        !(!isempty(words) && length(words[end]) == 1 && isdigit(words[end][begin]))\n",
    "        printTranslations_original(io, dict, num, digits, start + 1, [words; string(nthDigit(digits, start))])\n",
    "    end\n",
    "end\n",
    "\n",
    "# translate numbers by printTranslations with dict and print the result to io\n",
    "function translate(io::IO, printTranslations, dict, numbers)\n",
    "    (num -> printTranslations(io, dict, num, filter(isdigit, num))).(numbers)\n",
    "end"
   ]
  },
  {
   "cell_type": "code",
   "execution_count": 4,
   "id": "0e8691cd-9733-415f-b021-e93487fcc07a",
   "metadata": {},
   "outputs": [
    {
     "name": "stdout",
     "output_type": "stream",
     "text": [
      "numbers = randphone(1000000):\n",
      "  0.587511 seconds (2.25 M allocations: 250.310 MiB, 29.60% gc time, 10.49% compilation time)\n",
      "\n"
     ]
    }
   ],
   "source": [
    "# generate the test data `numbers` of length n = 10^6\n",
    "\n",
    "using Random\n",
    "\n",
    "const _chars = ('0', '1', '2', '3', '4', '5', '6', '7', '8', '9', '/', '-')\n",
    "const _maxlen = 50\n",
    "const _allowempty = false\n",
    "\n",
    "function randphone(; chars=_chars, maxlen=_maxlen, allowempty=_allowempty)\n",
    "    while true\n",
    "        phone = randstring(chars, rand(1:maxlen))\n",
    "        (allowempty || occursin(r\"[0-9]\", phone)) && return phone\n",
    "    end\n",
    "end\n",
    "\n",
    "function randphone(n; chars=_chars, maxlen=_maxlen, allowempty=_allowempty)\n",
    "    [randphone(; chars, maxlen, allowempty) for _ in 1:n]\n",
    "end\n",
    "\n",
    "n = 10^6\n",
    "println(\"numbers = randphone($n):\")\n",
    "@time numbers = randphone(n)\n",
    "println()"
   ]
  },
  {
   "cell_type": "code",
   "execution_count": 5,
   "id": "900ace55-0baf-4e92-ac27-df1525412b18",
   "metadata": {},
   "outputs": [
    {
     "name": "stdout",
     "output_type": "stream",
     "text": [
      "open(loadDictionary, \"dictionary.txt\"):\n",
      "  0.890145 seconds (13.38 M allocations: 503.104 MiB, 25.84% gc time)\n",
      "\n"
     ]
    }
   ],
   "source": [
    "# load dictionary\n",
    "println(\"open(loadDictionary, \\\"dictionary.txt\\\"):\")\n",
    "@time dict = open(loadDictionary, \"dictionary.txt\")\n",
    "println()"
   ]
  },
  {
   "cell_type": "code",
   "execution_count": 6,
   "id": "ec1de035-0c7a-447a-bec1-bc6eff9fec50",
   "metadata": {},
   "outputs": [
    {
     "name": "stdout",
     "output_type": "stream",
     "text": [
      "translate by printTranslations_original:\n",
      "103.701857 seconds (1.35 G allocations: 21.646 GiB, 21.61% gc time, 0.19% compilation time)\n",
      "\n"
     ]
    }
   ],
   "source": [
    "# translate numbers with dict and print the result to io\n",
    "io = IOBuffer()\n",
    "println(\"translate by printTranslations_original:\")\n",
    "@time translate(io, printTranslations_original, dict, numbers)\n",
    "println()\n",
    "result_original = String(take!(io))\n",
    "close(io)"
   ]
  },
  {
   "cell_type": "code",
   "execution_count": 7,
   "id": "a06b7ae4-9779-4bb3-8799-e3dbd2126c7c",
   "metadata": {},
   "outputs": [
    {
     "data": {
      "text/plain": [
       "main (generic function with 1 method)"
      ]
     },
     "execution_count": 7,
     "metadata": {},
     "output_type": "execute_result"
    }
   ],
   "source": [
    "# https://gist.github.com/jonathanBieler/de37a190d590297fc6b5d0ffee3c18dc\n",
    "\n",
    "#=\n",
    "# Port of Peter Norvig's Common Lisp program from http://norvig.com/java-lisp.html.\n",
    "#\n",
    "# - Julia version: 1.6.2\n",
    "# - Author: Renato Athaydes\n",
    "# - Date: 2021-07-24\n",
    "=#\n",
    "# const emptyStrings = String[]\n",
    "\n",
    "function printTranslations(io, dict, num, digits, start=1, words=String[])\n",
    "    if start > length(digits)\n",
    "       return println(io, num, \": \", join(words, \" \"))\n",
    "    end\n",
    "    foundWord = false\n",
    "    n = BigInt(1)\n",
    "    for i in start:length(digits)\n",
    "        Base.GMP.MPZ.mul_si!(n, 10)\n",
    "        Base.GMP.MPZ.add_ui!(n, nthDigit(digits, i))\n",
    "        for word in get(dict, n, emptyStrings)\n",
    "            foundWord = true\n",
    "            printTranslations(io, dict, num, digits, i + 1, [words; word])\n",
    "        end\n",
    "    end\n",
    "    if !foundWord &&\n",
    "        !(!isempty(words) && length(words[end]) == 1 && isdigit(words[end][begin]))\n",
    "        printTranslations(io, dict, num, digits, start + 1, [words; string(nthDigit(digits, start))])\n",
    "    end\n",
    "end\n",
    "\n",
    "function loadDictionary(file)::Dict{BigInt, Vector{String}}\n",
    "    local dict = Dict{BigInt, Vector{String}}()\n",
    "    for word in eachline(file)\n",
    "        push!(get!(dict, wordToNumber(word)) do; String[] end, word)\n",
    "    end\n",
    "    dict\n",
    "end\n",
    "\n",
    "function nthDigit(digits::String, i::Int64)\n",
    "    UInt(digits[i]) - UInt('0')\n",
    "end\n",
    "\n",
    "function charToDigit(ch::Char)\n",
    "    ch = lowercase(ch)\n",
    "    ch == 'e' && return 0\n",
    "    ch in ('j', 'n', 'q') && return 1\n",
    "    ch in ('r', 'w', 'x') && return 2\n",
    "    ch in ('d', 's', 'y') && return 3\n",
    "    ch in ('f', 't') && return 4\n",
    "    ch in ('a', 'm') && return 5\n",
    "    ch in ('c', 'i', 'v') && return 6\n",
    "    ch in ('b', 'k', 'u') && return 7\n",
    "    ch in ('l', 'o', 'p') && return 8\n",
    "    ch in ('g', 'h', 'z') && return 9\n",
    "    throw(DomainError(ch, \"Not a letter\"))\n",
    "end\n",
    "\n",
    "function wordToNumber(word::String)\n",
    "    n = BigInt(1)\n",
    "    for ch in word\n",
    "        if isletter(ch) && isascii(ch)\n",
    "            Base.GMP.MPZ.mul_si!(n, 10)\n",
    "            Base.GMP.MPZ.add_ui!(n, charToDigit(ch))\n",
    "        end\n",
    "    end\n",
    "    n\n",
    "end\n",
    "\n",
    "# patch in method to add integer to BigInt in-place\n",
    "@eval Base.GMP.MPZ begin\n",
    "    add_ui!(x::BigInt, a::BigInt, b) = (ccall((:__gmpz_add_ui, :libgmp), Cvoid, (mpz_t, mpz_t, Clong), x, a, b); x)\n",
    "    add_ui!(x::BigInt, b) = add_ui!(x, x, b)\n",
    "end\n",
    "\n",
    "function main()\n",
    "\n",
    "    path = \"/Users/jbieler/Downloads/tmp/prechelt-phone-number-encoding/\"\n",
    "\n",
    "    dict = open(\"$(path)dictionary.txt\") do file\n",
    "        loadDictionary(file)\n",
    "    end\n",
    "    io = IOBuffer()\n",
    "    open(\"$(path)input.txt\") do file\n",
    "        for num in eachline(file)\n",
    "            printTranslations(io, dict, num, filter(isdigit, num))\n",
    "        end\n",
    "    end\n",
    "\n",
    "end\n",
    "\n",
    "# main() #make sure it's compiled before timing it\n",
    "# @time main()"
   ]
  },
  {
   "cell_type": "code",
   "execution_count": 8,
   "id": "a39bfb96-a8d2-4bad-82b6-5f42add1f5e0",
   "metadata": {},
   "outputs": [
    {
     "name": "stdout",
     "output_type": "stream",
     "text": [
      "translate by printTranslations of jonathanBieler:\n",
      " 12.157957 seconds (49.64 M allocations: 1.673 GiB, 5.08% gc time, 0.50% compilation time)\n",
      "\n"
     ]
    }
   ],
   "source": [
    "io = IOBuffer()\n",
    "println(\"translate by printTranslations of jonathanBieler:\")\n",
    "@time translate(io, printTranslations, dict, numbers)\n",
    "println()\n",
    "result_jonathanBieler = String(take!(io))\n",
    "close(io)"
   ]
  },
  {
   "cell_type": "code",
   "execution_count": 9,
   "id": "06db73ee-c409-4ee2-a4b9-496d11e3dd39",
   "metadata": {},
   "outputs": [
    {
     "name": "stdout",
     "output_type": "stream",
     "text": [
      "result_original == result_jonathanBieler = true\n"
     ]
    }
   ],
   "source": [
    "@show result_original == result_jonathanBieler;"
   ]
  },
  {
   "cell_type": "code",
   "execution_count": null,
   "id": "f115cdde-57f7-4de6-a996-a93a3edeba15",
   "metadata": {},
   "outputs": [],
   "source": []
  }
 ],
 "metadata": {
  "jupytext": {
   "formats": "ipynb,auto:hydrogen"
  },
  "kernelspec": {
   "display_name": "Julia 1.6.2",
   "language": "julia",
   "name": "julia-1.6"
  },
  "language_info": {
   "file_extension": ".jl",
   "mimetype": "application/julia",
   "name": "julia",
   "version": "1.6.2"
  }
 },
 "nbformat": 4,
 "nbformat_minor": 5
}
