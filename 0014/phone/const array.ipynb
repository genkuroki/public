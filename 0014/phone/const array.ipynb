{
 "cells": [
  {
   "cell_type": "code",
   "execution_count": 1,
   "id": "7d444fe8-c6e3-46b5-af8c-fe9a1faf0322",
   "metadata": {},
   "outputs": [
    {
     "data": {
      "text/plain": [
       "5-element Vector{Mean_covar}:\n",
       " #undef\n",
       " #undef\n",
       " #undef\n",
       " #undef\n",
       " #undef"
      ]
     },
     "metadata": {},
     "output_type": "display_data"
    }
   ],
   "source": [
    "mutable struct Mean_covar\n",
    "    mu::Array{Float64,2}\n",
    "    sigma::Array{Float64,2}\n",
    "    w::Float64 \n",
    "end\n",
    "\n",
    "const B = Array{Mean_covar,1}(undef, 5)\n",
    "display(B)"
   ]
  },
  {
   "cell_type": "code",
   "execution_count": 2,
   "id": "d8659a49-459b-4c61-9d22-66f4cd3ab0c6",
   "metadata": {},
   "outputs": [
    {
     "data": {
      "text/plain": [
       "5-element Vector{Mean_covar}:\n",
       "    Mean_covar([0.0 0.0; 0.0 0.0], [0.0 0.0; 0.0 0.0], 0.0)\n",
       " #undef\n",
       " #undef\n",
       " #undef\n",
       " #undef"
      ]
     },
     "metadata": {},
     "output_type": "display_data"
    }
   ],
   "source": [
    "B[1] = Mean_covar(zeros(2,2), zeros(2,2), 0.0)\n",
    "display(B)"
   ]
  },
  {
   "cell_type": "code",
   "execution_count": null,
   "id": "7a8c1bab-6306-44b5-b599-dc406d707717",
   "metadata": {},
   "outputs": [],
   "source": []
  }
 ],
 "metadata": {
  "jupytext": {
   "formats": "ipynb,auto:hydrogen"
  },
  "kernelspec": {
   "display_name": "Julia 1.8.0-DEV",
   "language": "julia",
   "name": "julia-1.8"
  },
  "language_info": {
   "file_extension": ".jl",
   "mimetype": "application/julia",
   "name": "julia",
   "version": "1.8.0"
  }
 },
 "nbformat": 4,
 "nbformat_minor": 5
}
