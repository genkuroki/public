{
 "cells": [
  {
   "cell_type": "markdown",
   "id": "6d0a2d55-fd5d-42d0-8126-f0e0b432500d",
   "metadata": {},
   "source": [
    "See https://github.com/jonniedie/ConcreteStructs.jl/issues/4"
   ]
  },
  {
   "cell_type": "code",
   "execution_count": 1,
   "id": "7dab5868-090f-498a-828d-1dc3b2b0a6f0",
   "metadata": {},
   "outputs": [
    {
     "data": {
      "text/plain": [
       "Problem{Float64, Float64, Float64, Tuple{Float64, Float64}}(9.80665, 0.0, 30.0, (0.0, 8.0))"
      ]
     },
     "execution_count": 1,
     "metadata": {},
     "output_type": "execute_result"
    }
   ],
   "source": [
    "using ConcreteStructs\n",
    "\n",
    "Base.@kwdef @concrete struct Problem g; y0; v0; tspan end\n",
    "Problem(;\n",
    "    g = 9.80665,\n",
    "    y0 = 0.0,\n",
    "    v0 = 30.0,\n",
    "    tspan = (0.0, 8.0)\n",
    ") = Problem(g, y0, v0, tspan)\n",
    "\n",
    "prob1 = Problem()"
   ]
  },
  {
   "cell_type": "code",
   "execution_count": 2,
   "id": "1644f775-151e-4bff-a019-ae41898792b8",
   "metadata": {},
   "outputs": [
    {
     "data": {
      "text/plain": [
       "Problem{Float64, Float64, Float64, Tuple{Float64, Float64}}(9.80665, 0.0, 100.0, (0.0, 8.0))"
      ]
     },
     "execution_count": 2,
     "metadata": {},
     "output_type": "execute_result"
    }
   ],
   "source": [
    "prob2 = Problem(v0 = 100.0)"
   ]
  },
  {
   "cell_type": "code",
   "execution_count": 3,
   "id": "21b8bf37-d477-4e8b-b1b5-6f2dc00d863f",
   "metadata": {},
   "outputs": [
    {
     "data": {
      "text/plain": [
       "Problem{Float64, Particles{Float64, 2000}, Particles{Float64, 2000}, Tuple{Float64, Float64}}(9.80665, 0.0, 30.0 ± 1.0, (0.0, 8.0))"
      ]
     },
     "execution_count": 3,
     "metadata": {},
     "output_type": "execute_result"
    }
   ],
   "source": [
    "using MonteCarloMeasurements\n",
    "prob3 = Problem(y0 = 0.0 ± 0.0, v0 = 30.0 ± 1.0)"
   ]
  },
  {
   "cell_type": "code",
   "execution_count": null,
   "id": "60f6b98b-3fa4-4c7d-8949-aac32c1dbc9d",
   "metadata": {},
   "outputs": [],
   "source": []
  }
 ],
 "metadata": {
  "jupytext": {
   "formats": "ipynb,auto:hydrogen"
  },
  "kernelspec": {
   "display_name": "Julia 1.6.2",
   "language": "julia",
   "name": "julia-1.6"
  },
  "language_info": {
   "file_extension": ".jl",
   "mimetype": "application/julia",
   "name": "julia",
   "version": "1.6.2"
  }
 },
 "nbformat": 4,
 "nbformat_minor": 5
}
