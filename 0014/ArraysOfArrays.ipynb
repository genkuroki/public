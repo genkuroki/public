{
 "cells": [
  {
   "cell_type": "code",
   "execution_count": 33,
   "id": "4dc3ce16-133a-460b-83b5-31f1d24e0c3f",
   "metadata": {},
   "outputs": [
    {
     "name": "stdout",
     "output_type": "stream",
     "text": [
      "nestedview(inp, 2) == [inp[:, :, k] for k = axes(inp, 3)] = true\n",
      "Comprehension:            177.245 ns (4 allocations: 848 bytes)\n",
      "Comprehension with @view:  40.202 ns (1 allocation: 208 bytes)\n",
      "ArraysOfArrays.nestedview:  1.100 ns (0 allocations: 0 bytes)\n"
     ]
    }
   ],
   "source": [
    "using BenchmarkTools, ArraysOfArrays\n",
    "\n",
    "inp = rand(5, 5, 3)\n",
    "@show nestedview(inp, 2) == [inp[:, :, k] for k in axes(inp, 3)]\n",
    "print(\"Comprehension:          \")\n",
    "@btime out = [$inp[:, :, k] for k in axes($inp, 3)]\n",
    "print(\"Comprehension with @view:\")\n",
    "@btime out = [@view($inp[:, :, k]) for k in axes($inp, 3)]\n",
    "print(\"ArraysOfArrays.nestedview:\")\n",
    "@btime out = nestedview($inp, 2);"
   ]
  },
  {
   "cell_type": "code",
   "execution_count": null,
   "id": "28aea9d2-21ba-47e4-bf7a-2f8e06925570",
   "metadata": {},
   "outputs": [],
   "source": []
  }
 ],
 "metadata": {
  "jupytext": {
   "formats": "ipynb,auto:hydrogen"
  },
  "kernelspec": {
   "display_name": "Julia 1.8.0-DEV",
   "language": "julia",
   "name": "julia-1.8"
  },
  "language_info": {
   "file_extension": ".jl",
   "mimetype": "application/julia",
   "name": "julia",
   "version": "1.8.0"
  }
 },
 "nbformat": 4,
 "nbformat_minor": 5
}
