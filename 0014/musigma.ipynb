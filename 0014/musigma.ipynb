{
 "cells": [
  {
   "cell_type": "markdown",
   "id": "a07c6d7b-22ca-4c85-a231-0d03dd28af37",
   "metadata": {},
   "source": [
    "https://discourse.julialang.org/t/concrete-example-0805-how-to-prevent-using-global-variable-in-the-module/65917"
   ]
  },
  {
   "cell_type": "code",
   "execution_count": 1,
   "id": "c5c41b64-4793-4022-a30c-d10ab6319184",
   "metadata": {},
   "outputs": [
    {
     "name": "stdout",
     "output_type": "stream",
     "text": [
      "typeof(musigma) = Vector{Main.Mixture.Mean_covar}\n",
      "size(musigma) = (5,)\n",
      "(musigma[1]).mu = [0.6221103832411683; 0.7991229601025627; 0.0]\n",
      "(musigma[1]).sigma = [0.4745900255343851 0.0 0.0; 0.0 0.3828611437852718 0.0; 0.0 0.0 0.0]\n",
      "(musigma[1]).w = 0.3361370653747586\n"
     ]
    }
   ],
   "source": [
    "module Mixture\n",
    "\n",
    "export musigma\n",
    "\n",
    "mutable struct Mean_covar\n",
    "    mu::Array{Float64,2}\n",
    "    sigma::Array{Float64,2}\n",
    "    w::Float64\n",
    "end\n",
    "\n",
    "global const musigma = Array{Mean_covar,1}()  \n",
    "\n",
    "function mean_covar_init(kmix::Int64,dim_p::Int64\n",
    "                        ,weight::Array{Float64,1}\n",
    "                        ,sigma::Array{Float64,3}\n",
    "                        ,mu::Array{Float64,2})\n",
    "    @assert length(weight) == kmix\n",
    "    @assert size(sigma) == (kmix,dim_p,dim_p)\n",
    "    @assert size(mu) == (kmix,dim_p)\n",
    "    resize!(musigma, kmix) \n",
    "    for k in 1:kmix\n",
    "        musigma[k] = Mean_covar(zeros(dim_p,1),zeros(dim_p,dim_p),0.0)\n",
    "        musigma[k].mu[1,1] = mu[k,1]\n",
    "        musigma[k].mu[2,1] = mu[k,2]\n",
    "        musigma[k].sigma[1,1] = sigma[k,1,1]\n",
    "        musigma[k].sigma[2,2] = sigma[k,2,2]\n",
    "        musigma[k].w = weight[k]\n",
    "    end\n",
    "    return nothing\n",
    "end\n",
    "\n",
    "end\n",
    "\n",
    "kmix = 5\n",
    "dim_p = 3\n",
    "weight = rand(kmix)\n",
    "sigma = rand(kmix, dim_p, dim_p)\n",
    "mu = rand(kmix, dim_p)\n",
    "\n",
    "using .Mixture\n",
    "Mixture.mean_covar_init(kmix, dim_p, weight, sigma, mu)\n",
    "@show typeof(musigma) size(musigma)\n",
    "@show musigma[1].mu musigma[1].sigma musigma[1].w;"
   ]
  },
  {
   "cell_type": "code",
   "execution_count": 2,
   "id": "31f69674-f61c-4462-9447-8956ec12913b",
   "metadata": {},
   "outputs": [
    {
     "name": "stdout",
     "output_type": "stream",
     "text": [
      "typeof(musigma64) = Vector{Main.O.Mean_covar{Float64}}\n",
      "size(musigma64) = (5,)\n",
      "(musigma64[1]).mu = [0.6221103832411683, 0.7991229601025627, 0.0]\n",
      "(musigma64[1]).sigma = [0.4745900255343851 0.0 0.0; 0.0 0.3828611437852718 0.0; 0.0 0.0 0.0]\n",
      "(musigma64[1]).w = fill(0.3361370653747586)\n"
     ]
    }
   ],
   "source": [
    "module O\n",
    "\n",
    "export musigma\n",
    "\n",
    "struct Mean_covar{T}\n",
    "    mu::Vector{T}\n",
    "    sigma::Matrix{T}\n",
    "    w::Array{T,0}\n",
    "end\n",
    "\n",
    "function mean_covar_init(kmix, dim_p, \n",
    "        weight::AbstractVector{T},\n",
    "        sigma::AbstractArray{T,3},\n",
    "        mu::AbstractMatrix{T}) where T\n",
    "    @assert size(weight) == (kmix,)\n",
    "    @assert size(sigma) == (kmix, dim_p, dim_p)\n",
    "    @assert size(mu) == (kmix, dim_p)\n",
    "    musigma = Vector{Mean_covar{T}}(undef, kmix)\n",
    "    for k in 1:kmix\n",
    "        musigma[k] = Mean_covar(zeros(T, dim_p), zeros(T, dim_p, dim_p), fill(zero(T)))\n",
    "        musigma[k].mu[1,1] = mu[k,1]\n",
    "        musigma[k].mu[2,1] = mu[k,2]\n",
    "        musigma[k].sigma[1,1] = sigma[k,1,1]\n",
    "        musigma[k].sigma[2,2] = sigma[k,2,2]\n",
    "        musigma[k].w[] = weight[k]\n",
    "    end\n",
    "    musigma\n",
    "end\n",
    "\n",
    "end\n",
    "\n",
    "musigma64 = O.mean_covar_init(kmix, dim_p, weight, sigma, mu)\n",
    "@show typeof(musigma64) size(musigma64)\n",
    "@show musigma64[1].mu musigma64[1].sigma musigma64[1].w;"
   ]
  },
  {
   "cell_type": "code",
   "execution_count": 3,
   "id": "6c861eab-f816-43fb-9895-fe3bc5e0cf38",
   "metadata": {},
   "outputs": [
    {
     "name": "stdout",
     "output_type": "stream",
     "text": [
      "typeof(musigma32) = Vector{Main.O.Mean_covar{Float32}}\n",
      "size(musigma32) = (5,)\n",
      "(musigma32[1]).mu = Float32[0.3150419, 0.10469973, 0.0]\n",
      "(musigma32[1]).sigma = Float32[0.76839507 0.0 0.0; 0.0 0.28694403 0.0; 0.0 0.0 0.0]\n",
      "(musigma32[1]).w = fill(0.3895439f0)\n"
     ]
    }
   ],
   "source": [
    "weight32 = rand(Float32, kmix)\n",
    "sigma32 = rand(Float32, kmix, dim_p, dim_p)\n",
    "mu32 = rand(Float32, kmix, dim_p)\n",
    "\n",
    "musigma32 = O.mean_covar_init(kmix, dim_p, weight32, sigma32, mu32)\n",
    "@show typeof(musigma32) size(musigma32)\n",
    "@show musigma32[1].mu musigma32[1].sigma musigma32[1].w;"
   ]
  },
  {
   "cell_type": "code",
   "execution_count": 4,
   "id": "04d3fcbe-74e2-4dfc-aeb1-77c9f6c96cb5",
   "metadata": {},
   "outputs": [
    {
     "name": "stdout",
     "output_type": "stream",
     "text": [
      "typeof(musigma64) = Vector{Main.P.Mean_covar{Vector{Float64}, Matrix{Float64}, Array{Float64, 0}}}\n",
      "size(musigma64) = (5,)\n",
      "(musigma64[1]).mu = [0.6221103832411683, 0.7991229601025627, 0.0]\n",
      "(musigma64[1]).sigma = [0.4745900255343851 0.0 0.0; 0.0 0.3828611437852718 0.0; 0.0 0.0 0.0]\n",
      "(musigma64[1]).w = fill(0.3361370653747586)\n"
     ]
    }
   ],
   "source": [
    "module P\n",
    "\n",
    "export musigma\n",
    "\n",
    "struct Mean_covar{M,S,W}\n",
    "    mu::M\n",
    "    sigma::S\n",
    "    w::W\n",
    "end\n",
    "\n",
    "function mean_covar_init(kmix, dim_p, \n",
    "        weight::AbstractVector{T},\n",
    "        sigma::AbstractArray{T,3},\n",
    "        mu::AbstractMatrix{T}) where T\n",
    "    @assert size(weight) == (kmix,)\n",
    "    @assert size(sigma) == (kmix, dim_p, dim_p)\n",
    "    @assert size(mu) == (kmix, dim_p)\n",
    "    M = typeof(similar(mu, (0,)))\n",
    "    S = typeof(similar(sigma, (0, 0)))\n",
    "    W = typeof(similar(weight, ()))\n",
    "    musigma = Vector{Mean_covar{M,S,W}}(undef, kmix)\n",
    "    for k in 1:kmix\n",
    "        musigma[k] = Mean_covar(zeros(T, dim_p), zeros(T, dim_p, dim_p), fill(zero(T)))\n",
    "        musigma[k].mu[1,1] = mu[k,1]\n",
    "        musigma[k].mu[2,1] = mu[k,2]\n",
    "        musigma[k].sigma[1,1] = sigma[k,1,1]\n",
    "        musigma[k].sigma[2,2] = sigma[k,2,2]\n",
    "        musigma[k].w[] = weight[k]\n",
    "    end\n",
    "    musigma\n",
    "end\n",
    "\n",
    "end\n",
    "\n",
    "musigma64 = P.mean_covar_init(kmix, dim_p, weight, sigma, mu)\n",
    "@show typeof(musigma64) size(musigma64)\n",
    "@show musigma64[1].mu musigma64[1].sigma musigma64[1].w;"
   ]
  },
  {
   "cell_type": "code",
   "execution_count": 5,
   "id": "61e4a09e-7110-4655-b604-7ff75eb5bd34",
   "metadata": {},
   "outputs": [
    {
     "name": "stdout",
     "output_type": "stream",
     "text": [
      "typeof(musigma32) = Vector{Main.O.Mean_covar{Float32}}\n",
      "size(musigma32) = (5,)\n",
      "(musigma32[1]).mu = Float32[0.3150419, 0.10469973, 0.0]\n",
      "(musigma32[1]).sigma = Float32[0.76839507 0.0 0.0; 0.0 0.28694403 0.0; 0.0 0.0 0.0]\n",
      "(musigma32[1]).w = fill(0.3895439f0)\n"
     ]
    }
   ],
   "source": [
    "musigma32 = O.mean_covar_init(kmix, dim_p, weight32, sigma32, mu32)\n",
    "@show typeof(musigma32) size(musigma32)\n",
    "@show musigma32[1].mu musigma32[1].sigma musigma32[1].w;"
   ]
  },
  {
   "cell_type": "code",
   "execution_count": null,
   "id": "33799a7f-a4d0-46d9-a936-90f069a5db31",
   "metadata": {},
   "outputs": [],
   "source": []
  }
 ],
 "metadata": {
  "jupytext": {
   "formats": "ipynb,auto:hydrogen"
  },
  "kernelspec": {
   "display_name": "Julia 1.6.2",
   "language": "julia",
   "name": "julia-1.6"
  },
  "language_info": {
   "file_extension": ".jl",
   "mimetype": "application/julia",
   "name": "julia",
   "version": "1.6.2"
  }
 },
 "nbformat": 4,
 "nbformat_minor": 5
}
