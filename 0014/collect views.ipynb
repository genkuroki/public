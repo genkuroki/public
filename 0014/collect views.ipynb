{
 "cells": [
  {
   "cell_type": "markdown",
   "id": "aab26327-5f76-4832-a1f6-6d5111cc0c87",
   "metadata": {},
   "source": [
    "https://docs.julialang.org/en/v1/base/arrays/#Base.PermutedDimsArrays.PermutedDimsArray"
   ]
  },
  {
   "cell_type": "code",
   "execution_count": 1,
   "id": "85d356f9-def5-4289-8b00-e86fbf47ceee",
   "metadata": {},
   "outputs": [
    {
     "data": {
      "text/plain": [
       "3-element VectorOfSimilarArrays{Float64, 2, 3, PermutedDimsArray{Float64, 3, (2, 3, 1), (3, 1, 2), Array{Float64, 3}}}:\n",
       " [11.1 12.1 … 14.1 15.1; 21.1 22.1 … 24.1 25.1; … ; 41.1 42.1 … 44.1 45.1; 51.1 52.1 … 54.1 55.1]\n",
       " [11.2 12.2 … 14.2 15.2; 21.2 22.2 … 24.2 25.2; … ; 41.2 42.2 … 44.2 45.2; 51.2 52.2 … 54.2 55.2]\n",
       " [11.3 12.3 … 14.3 15.3; 21.3 22.3 … 24.3 25.3; … ; 41.3 42.3 … 44.3 45.3; 51.3 52.3 … 54.3 55.3]"
      ]
     },
     "execution_count": 1,
     "metadata": {},
     "output_type": "execute_result"
    }
   ],
   "source": [
    "using ArraysOfArrays\n",
    "f(inp) = nestedview(PermutedDimsArray(inp, (2, 3, 1)), 2)\n",
    "w, h = 5, 5\n",
    "inp = 0.1(1:3) .+ 10(1:5)' .+ reshape(1:5, 1, 1, :)\n",
    "out = f(inp)"
   ]
  },
  {
   "cell_type": "code",
   "execution_count": 2,
   "id": "fcf6dda4-b346-46a1-8303-c2df1df8e0c7",
   "metadata": {},
   "outputs": [
    {
     "data": {
      "text/plain": [
       "5×5 view(PermutedDimsArray(::Array{Float64, 3}, (2, 3, 1)), :, :, 2) with eltype Float64:\n",
       " 11.2  12.2  13.2  14.2  15.2\n",
       " 21.2  22.2  23.2  24.2  25.2\n",
       " 31.2  32.2  33.2  34.2  35.2\n",
       " 41.2  42.2  43.2  44.2  45.2\n",
       " 51.2  52.2  53.2  54.2  55.2"
      ]
     },
     "execution_count": 2,
     "metadata": {},
     "output_type": "execute_result"
    }
   ],
   "source": [
    "out[2]"
   ]
  },
  {
   "cell_type": "code",
   "execution_count": 3,
   "id": "5700a677-ca32-4cc2-a7c3-5aca2c1789d0",
   "metadata": {},
   "outputs": [
    {
     "name": "stdout",
     "output_type": "stream",
     "text": [
      "[#= In[3]:4 =# @view(inp[i, :, :]) for i = 1:3] == collect(eachslice(inp; dims = 1)) == f(inp) = true\n",
      "  56.130 ns (1 allocation: 208 bytes)\n",
      "  273.756 ns (4 allocations: 272 bytes)\n",
      "  394.000 ns (5 allocations: 160 bytes)\n",
      "  308.230 ns (4 allocations: 144 bytes)\n"
     ]
    }
   ],
   "source": [
    "using BenchmarkTools\n",
    "w, h = 1000, 1000\n",
    "inp = 0.1(1:3) .+ 10(1:5)' .+ reshape(1:5, 1, 1, :)\n",
    "@show [@view(inp[i, :, :]) for i in 1:3] == collect(eachslice(inp; dims=1)) == f(inp)\n",
    "@btime [@view($inp[i, :, :]) for i in 1:3]\n",
    "@btime collect(eachslice($inp; dims=1))\n",
    "@btime f($inp)\n",
    "@btime PermutedDimsArray($inp, (2, 3, 1));"
   ]
  },
  {
   "cell_type": "code",
   "execution_count": null,
   "id": "b7de94ca-40e7-4f4b-8336-5f35695adfce",
   "metadata": {},
   "outputs": [],
   "source": []
  }
 ],
 "metadata": {
  "jupytext": {
   "formats": "ipynb,auto:hydrogen"
  },
  "kernelspec": {
   "display_name": "Julia 1.8.0-DEV",
   "language": "julia",
   "name": "julia-1.8"
  },
  "language_info": {
   "file_extension": ".jl",
   "mimetype": "application/julia",
   "name": "julia",
   "version": "1.8.0"
  }
 },
 "nbformat": 4,
 "nbformat_minor": 5
}
