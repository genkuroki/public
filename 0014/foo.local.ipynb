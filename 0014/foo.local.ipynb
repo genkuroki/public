{
 "cells": [
  {
   "cell_type": "code",
   "execution_count": 1,
   "id": "16facd83-c8ce-4e88-98bf-a7c45048d837",
   "metadata": {},
   "outputs": [
    {
     "name": "stdout",
     "output_type": "stream",
     "text": [
      "foo = Foo(1.2) = Foo(1.2)\n",
      "foo.local = 1.2\n"
     ]
    }
   ],
   "source": [
    "struct Foo\n",
    "    var\"local\"::Float64\n",
    "end\n",
    "@show foo = Foo(1.2)\n",
    "@show foo.local;"
   ]
  },
  {
   "cell_type": "code",
   "execution_count": 2,
   "id": "6133afd2-6fe2-4fde-a0f1-5eda08c604ba",
   "metadata": {},
   "outputs": [
    {
     "name": "stdout",
     "output_type": "stream",
     "text": [
      "struct Foo\n",
      "    local::Float64\n",
      "end"
     ]
    }
   ],
   "source": [
    ":(struct Foo\n",
    "    var\"local\"::Float64\n",
    "end) |> Base.remove_linenums! |> print"
   ]
  },
  {
   "cell_type": "code",
   "execution_count": null,
   "id": "a9f6008a-715a-46a6-8b38-0f06a0206584",
   "metadata": {},
   "outputs": [],
   "source": []
  }
 ],
 "metadata": {
  "jupytext": {
   "formats": "ipynb,auto:hydrogen"
  },
  "kernelspec": {
   "display_name": "Julia 1.8.0-DEV",
   "language": "julia",
   "name": "julia-1.8"
  },
  "language_info": {
   "file_extension": ".jl",
   "mimetype": "application/julia",
   "name": "julia",
   "version": "1.8.0"
  }
 },
 "nbformat": 4,
 "nbformat_minor": 5
}
