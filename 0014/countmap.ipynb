{
 "cells": [
  {
   "cell_type": "code",
   "execution_count": 2,
   "id": "3e3b0ff4-d72d-4cc8-ac82-b88277c20681",
   "metadata": {},
   "outputs": [],
   "source": [
    "using StatsBase"
   ]
  },
  {
   "cell_type": "code",
   "execution_count": 3,
   "id": "817544b5-d6b7-40f4-8c97-7198d4f1a659",
   "metadata": {},
   "outputs": [
    {
     "name": "stdout",
     "output_type": "stream",
     "text": [
      "search: \u001b[0m\u001b[1mc\u001b[22m\u001b[0m\u001b[1mo\u001b[22m\u001b[0m\u001b[1mu\u001b[22m\u001b[0m\u001b[1mn\u001b[22m\u001b[0m\u001b[1mt\u001b[22m\u001b[0m\u001b[1mm\u001b[22m\u001b[0m\u001b[1ma\u001b[22m\u001b[0m\u001b[1mp\u001b[22m\n",
      "\n"
     ]
    },
    {
     "data": {
      "text/latex": [
       "\\begin{verbatim}\n",
       "countmap(x; alg = :auto)\n",
       "countmap(x::AbstractVector, w::AbstractVector{<:Real}; alg = :auto)\n",
       "\\end{verbatim}\n",
       "Return a dictionary mapping each unique value in \\texttt{x} to its number of occurrences. A vector of weights \\texttt{w} can be provided when \\texttt{x} is a vector.\n",
       "\n",
       "\\begin{itemize}\n",
       "\\item \\texttt{:auto} (default): if \\texttt{StatsBase.radixsort\\_safe(eltype(x)) == true} then use                    \\texttt{:radixsort}, otherwise use \\texttt{:dict}.\n",
       "\n",
       "\n",
       "\\item \\texttt{:radixsort}:      if \\texttt{radixsort\\_safe(eltype(x)) == true} then use the                    \\href{https://en.wikipedia.org/wiki/Radix_sort}{radix sort}                    algorithm to sort the input vector which will generally lead to                    shorter running time. However the radix sort algorithm creates a                    copy of the input vector and hence uses more RAM. Choose \\texttt{:dict}                    if the amount of available RAM is a limitation.\n",
       "\n",
       "\n",
       "\\item \\texttt{:dict}:           use \\texttt{Dict}-based method which is generally slower but uses less                    RAM and is safe for any data type.\n",
       "\n",
       "\\end{itemize}\n"
      ],
      "text/markdown": [
       "```\n",
       "countmap(x; alg = :auto)\n",
       "countmap(x::AbstractVector, w::AbstractVector{<:Real}; alg = :auto)\n",
       "```\n",
       "\n",
       "Return a dictionary mapping each unique value in `x` to its number of occurrences. A vector of weights `w` can be provided when `x` is a vector.\n",
       "\n",
       "  * `:auto` (default): if `StatsBase.radixsort_safe(eltype(x)) == true` then use                    `:radixsort`, otherwise use `:dict`.\n",
       "  * `:radixsort`:      if `radixsort_safe(eltype(x)) == true` then use the                    [radix sort](https://en.wikipedia.org/wiki/Radix_sort)                    algorithm to sort the input vector which will generally lead to                    shorter running time. However the radix sort algorithm creates a                    copy of the input vector and hence uses more RAM. Choose `:dict`                    if the amount of available RAM is a limitation.\n",
       "  * `:dict`:           use `Dict`-based method which is generally slower but uses less                    RAM and is safe for any data type.\n"
      ],
      "text/plain": [
       "\u001b[36m  countmap(x; alg = :auto)\u001b[39m\n",
       "\u001b[36m  countmap(x::AbstractVector, w::AbstractVector{<:Real}; alg = :auto)\u001b[39m\n",
       "\n",
       "  Return a dictionary mapping each unique value in \u001b[36mx\u001b[39m to its number of\n",
       "  occurrences. A vector of weights \u001b[36mw\u001b[39m can be provided when \u001b[36mx\u001b[39m is a vector.\n",
       "\n",
       "    •  \u001b[36m:auto\u001b[39m (default): if \u001b[36mStatsBase.radixsort_safe(eltype(x)) == true\u001b[39m\n",
       "       then use \u001b[36m:radixsort\u001b[39m, otherwise use \u001b[36m:dict\u001b[39m.\n",
       "\n",
       "    •  \u001b[36m:radixsort\u001b[39m: if \u001b[36mradixsort_safe(eltype(x)) == true\u001b[39m then use the\n",
       "       radix sort (https://en.wikipedia.org/wiki/Radix_sort) algorithm to\n",
       "       sort the input vector which will generally lead to shorter running\n",
       "       time. However the radix sort algorithm creates a copy of the input\n",
       "       vector and hence uses more RAM. Choose \u001b[36m:dict\u001b[39m if the amount of\n",
       "       available RAM is a limitation.\n",
       "\n",
       "    •  \u001b[36m:dict\u001b[39m: use \u001b[36mDict\u001b[39m-based method which is generally slower but uses\n",
       "       less RAM and is safe for any data type."
      ]
     },
     "execution_count": 3,
     "metadata": {},
     "output_type": "execute_result"
    }
   ],
   "source": [
    "?countmap"
   ]
  },
  {
   "cell_type": "code",
   "execution_count": 7,
   "id": "91142ccd-c71d-4f75-8401-32eddc0ce0e9",
   "metadata": {},
   "outputs": [
    {
     "data": {
      "text/plain": [
       "Dict{Int64, Int64} with 7 entries:\n",
       "  5 => 1\n",
       "  4 => 1\n",
       "  6 => 2\n",
       "  7 => 1\n",
       "  2 => 1\n",
       "  9 => 3\n",
       "  3 => 1"
      ]
     },
     "execution_count": 7,
     "metadata": {},
     "output_type": "execute_result"
    }
   ],
   "source": [
    "countmap(rand(1:10, 10))"
   ]
  },
  {
   "cell_type": "code",
   "execution_count": null,
   "id": "3ba96485-cb2b-4520-8bf6-68205d591bcf",
   "metadata": {},
   "outputs": [],
   "source": []
  }
 ],
 "metadata": {
  "jupytext": {
   "formats": "ipynb,auto:hydrogen"
  },
  "kernelspec": {
   "display_name": "Julia 1.8.0-DEV",
   "language": "julia",
   "name": "julia-1.8"
  },
  "language_info": {
   "file_extension": ".jl",
   "mimetype": "application/julia",
   "name": "julia",
   "version": "1.8.0"
  }
 },
 "nbformat": 4,
 "nbformat_minor": 5
}
