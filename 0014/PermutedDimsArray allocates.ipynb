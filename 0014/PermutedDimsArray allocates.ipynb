{
 "cells": [
  {
   "cell_type": "code",
   "execution_count": 1,
   "id": "a52366ab-cd9e-40ab-b050-22e4fa941edc",
   "metadata": {},
   "outputs": [
    {
     "name": "stdout",
     "output_type": "stream",
     "text": [
      "a = [1 3; 2 4]\n",
      "p = (2, 1)\n",
      "\n",
      "Foo{typeof(a), (1, 2)}(a) = Foo{Matrix{Int64}, (1, 2)}([1 3; 2 4])\n",
      "Foo{typeof(a), p}(a) = Foo{Matrix{Int64}, (2, 1)}([1 3; 2 4])\n",
      "Foo{typeof(a), (1, 2)}(a) == Foo{typeof(a), p}(a) = false\n",
      "\n",
      "@btime Foo{typeof($a), (1, 2)}($a):    1.100 ns (0 allocations: 0 bytes)\n",
      "@btime Foo{typeof($a), p}($a):       183.994 ns (1 allocation: 16 bytes)\n",
      "@btime Foo{typeof($a), $p}($a):      194.108 ns (2 allocations: 48 bytes)\n"
     ]
    }
   ],
   "source": [
    "using BenchmarkTools\n",
    "struct Foo{A, P} a::A end\n",
    "a = [1 3; 2 4]\n",
    "p = (2, 1)\n",
    "\n",
    "@show a p\n",
    "println()\n",
    "@show Foo{typeof(a), (1, 2)}(a)\n",
    "@show Foo{typeof(a), p}(a)\n",
    "@show Foo{typeof(a), (1, 2)}(a) == Foo{typeof(a), p}(a)\n",
    "println()\n",
    "print(\"@btime Foo{typeof(\\$a), (1, 2)}(\\$a):  \")\n",
    "@btime Foo{typeof($a), (1, 2)}($a)\n",
    "print(\"@btime Foo{typeof(\\$a), p}(\\$a):     \")\n",
    "@btime Foo{typeof($a), p}($a)\n",
    "print(\"@btime Foo{typeof(\\$a), \\$p}(\\$a):    \")\n",
    "@btime Foo{typeof($a), $p}($a);"
   ]
  },
  {
   "cell_type": "code",
   "execution_count": 2,
   "id": "529518b9-644a-47f9-b5bf-1703c2d411d8",
   "metadata": {},
   "outputs": [
    {
     "name": "stdout",
     "output_type": "stream",
     "text": [
      "PermutedDimsArray(a, (2, 1)) = [1 2; 3 4]\n",
      "  295.635 ns (4 allocations: 144 bytes)\n"
     ]
    }
   ],
   "source": [
    "@show PermutedDimsArray(a, (2, 1))\n",
    "@btime PermutedDimsArray($a, (2, 1));"
   ]
  },
  {
   "cell_type": "code",
   "execution_count": 4,
   "id": "84d9bd83-5a33-49b9-a3cf-51c1ef5da4c8",
   "metadata": {},
   "outputs": [
    {
     "name": "stdout",
     "output_type": "stream",
     "text": [
      "  0.000009 seconds (1 allocation: 16 bytes)\n",
      "  0.000010 seconds (1 allocation: 16 bytes)\n",
      "  0.000005 seconds (1 allocation: 16 bytes)\n"
     ]
    },
    {
     "data": {
      "text/plain": [
       "Foo{Matrix{Int64}, (2, 1)}([1 3; 2 4])"
      ]
     },
     "execution_count": 4,
     "metadata": {},
     "output_type": "execute_result"
    }
   ],
   "source": [
    "@time Foo{typeof(a), p}(a)\n",
    "@time Foo{typeof(a), p}(a)\n",
    "@time Foo{typeof(a), p}(a)"
   ]
  },
  {
   "cell_type": "code",
   "execution_count": 5,
   "id": "4ee8d017-245f-4630-9b72-e31b866708c7",
   "metadata": {},
   "outputs": [
    {
     "name": "stdout",
     "output_type": "stream",
     "text": [
      "  0.000014 seconds (4 allocations: 144 bytes)\n",
      "  0.000010 seconds (4 allocations: 144 bytes)\n",
      "  0.000014 seconds (4 allocations: 144 bytes)\n"
     ]
    },
    {
     "data": {
      "text/plain": [
       "2×2 PermutedDimsArray(::Matrix{Int64}, (2, 1)) with eltype Int64:\n",
       " 1  2\n",
       " 3  4"
      ]
     },
     "execution_count": 5,
     "metadata": {},
     "output_type": "execute_result"
    }
   ],
   "source": [
    "@time PermutedDimsArray(a, (2, 1))\n",
    "@time PermutedDimsArray(a, (2, 1))\n",
    "@time PermutedDimsArray(a, (2, 1))"
   ]
  },
  {
   "cell_type": "code",
   "execution_count": 3,
   "id": "11b5255e-3a68-40c5-b57e-b57738916fd7",
   "metadata": {},
   "outputs": [
    {
     "data": {
      "text/html": [
       "PermutedDimsArray(data::<b>AbstractArray{T, N}</b>, perm)<i> where {T, N}</i> in Base.PermutedDimsArrays at <a href=\"https://github.com/JuliaLang/julia/tree/073af4a7415c6e9f15df29b6cf3732050f4ce7c8/base/permuteddimsarray.jl#L42\" target=\"_blank\">permuteddimsarray.jl:42</a>"
      ],
      "text/plain": [
       "PermutedDimsArray(data::AbstractArray{T, N}, perm) where {T, N} in Base.PermutedDimsArrays at permuteddimsarray.jl:42"
      ]
     },
     "execution_count": 3,
     "metadata": {},
     "output_type": "execute_result"
    }
   ],
   "source": [
    "@which PermutedDimsArray(a, (2, 1))"
   ]
  },
  {
   "cell_type": "markdown",
   "id": "92c32a5a-d0c5-4ec0-adab-789016889d6f",
   "metadata": {},
   "source": [
    "`all(map(d->iperm[perm[d]]==d, 1:N))` allocates. ([source](https://github.com/JuliaLang/julia/blob/073af4a7415c6e9f15df29b6cf3732050f4ce7c8/base/permuteddimsarray.jl#L15))\n",
    "\n",
    "`PermutedDimsArray{T,N,(perm...,),(iperm...,),typeof(data)}(data)` allocates. ([source](https://github.com/JuliaLang/julia/blob/073af4a7415c6e9f15df29b6cf3732050f4ce7c8/base/permuteddimsarray.jl#L45))"
   ]
  },
  {
   "cell_type": "code",
   "execution_count": null,
   "id": "8afbf378-cc23-4ec7-bcdc-3617353ff484",
   "metadata": {},
   "outputs": [],
   "source": []
  }
 ],
 "metadata": {
  "kernelspec": {
   "display_name": "Julia 1.8.0-DEV",
   "language": "julia",
   "name": "julia-1.8"
  },
  "language_info": {
   "file_extension": ".jl",
   "mimetype": "application/julia",
   "name": "julia",
   "version": "1.8.0"
  }
 },
 "nbformat": 4,
 "nbformat_minor": 5
}
