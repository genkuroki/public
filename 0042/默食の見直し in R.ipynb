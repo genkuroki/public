{
 "cells": [
  {
   "cell_type": "markdown",
   "id": "3c898a89-a7b4-4b96-90ee-65fc210e4e0a",
   "metadata": {},
   "source": [
    "* https://twitter.com/eggplantmed/status/1629147688053923840\n",
    "  * https://www.pref.chiba.lg.jp/kyouiku/anzen/hokenn/covid-19.html\n",
    "    * https://www.pref.chiba.lg.jp/kyouiku/anzen/hokenn/documents/mokushoku-minaoshi.pdf"
   ]
  },
  {
   "cell_type": "code",
   "execution_count": 1,
   "id": "e95b396b-e269-447a-ab9e-4b6fccc42e7e",
   "metadata": {},
   "outputs": [
    {
     "name": "stderr",
     "output_type": "stream",
     "text": [
      "Loading required package: exactci\n",
      "\n",
      "Loading required package: ssanv\n",
      "\n",
      "Loading required package: testthat\n",
      "\n"
     ]
    }
   ],
   "source": [
    "library(exact2x2)"
   ]
  },
  {
   "cell_type": "code",
   "execution_count": 2,
   "id": "15ae9e0b-8be9-476b-b23e-fedda4891a38",
   "metadata": {},
   "outputs": [
    {
     "data": {
      "text/html": [
       "<table class=\"dataframe\">\n",
       "<caption>A matrix: 2 × 2 of type dbl</caption>\n",
       "<tbody>\n",
       "\t<tr><td> 5</td><td> 546</td></tr>\n",
       "\t<tr><td>27</td><td>1923</td></tr>\n",
       "</tbody>\n",
       "</table>\n"
      ],
      "text/latex": [
       "A matrix: 2 × 2 of type dbl\n",
       "\\begin{tabular}{ll}\n",
       "\t  5 &  546\\\\\n",
       "\t 27 & 1923\\\\\n",
       "\\end{tabular}\n"
      ],
      "text/markdown": [
       "\n",
       "A matrix: 2 × 2 of type dbl\n",
       "\n",
       "|  5 |  546 |\n",
       "| 27 | 1923 |\n",
       "\n"
      ],
      "text/plain": [
       "     [,1] [,2]\n",
       "[1,]  5    546\n",
       "[2,] 27   1923"
      ]
     },
     "metadata": {},
     "output_type": "display_data"
    }
   ],
   "source": [
    "A = matrix(c(5, 551-5, 27, 1950-27), byrow=T, nrow=2)\n",
    "A"
   ]
  },
  {
   "cell_type": "code",
   "execution_count": 3,
   "id": "1e856a11-53d3-49ef-849a-086c7f4a165d",
   "metadata": {},
   "outputs": [
    {
     "data": {
      "text/plain": [
       "\n",
       "\tPearson's Chi-squared test\n",
       "\n",
       "data:  A\n",
       "X-squared = 0.77443, df = 1, p-value = 0.3788\n"
      ]
     },
     "metadata": {},
     "output_type": "display_data"
    }
   ],
   "source": [
    "chisq.test(A, correct=F)"
   ]
  },
  {
   "cell_type": "code",
   "execution_count": 4,
   "id": "a542bf84-3398-4242-b858-a87a9dc797f6",
   "metadata": {},
   "outputs": [
    {
     "data": {
      "text/plain": [
       "\n",
       "\tTwo-sided Fisher's Exact Test (usual method using minimum likelihood)\n",
       "\n",
       "data:  A\n",
       "p-value = 0.5197\n",
       "alternative hypothesis: true odds ratio is not equal to 1\n",
       "95 percent confidence interval:\n",
       " 0.2384 1.7228\n",
       "sample estimates:\n",
       "odds ratio \n",
       " 0.6523276 \n"
      ]
     },
     "metadata": {},
     "output_type": "display_data"
    },
    {
     "data": {
      "image/png": "[encoded data removed]",
      "text/plain": [
       "plot without title"
      ]
     },
     "metadata": {
      "image/png": {
       "height": 420,
       "width": 420
      }
     },
     "output_type": "display_data"
    }
   ],
   "source": [
    "exact2x2(A, plot=T)"
   ]
  },
  {
   "cell_type": "code",
   "execution_count": 5,
   "id": "6aa49bff-fde8-4ef2-a069-6438fb3d6a29",
   "metadata": {},
   "outputs": [
    {
     "data": {
      "text/html": [
       "<table class=\"dataframe\">\n",
       "<caption>A matrix: 2 × 2 of type dbl</caption>\n",
       "<tbody>\n",
       "\t<tr><td> 25</td><td>2730</td></tr>\n",
       "\t<tr><td>135</td><td>9615</td></tr>\n",
       "</tbody>\n",
       "</table>\n"
      ],
      "text/latex": [
       "A matrix: 2 × 2 of type dbl\n",
       "\\begin{tabular}{ll}\n",
       "\t  25 & 2730\\\\\n",
       "\t 135 & 9615\\\\\n",
       "\\end{tabular}\n"
      ],
      "text/markdown": [
       "\n",
       "A matrix: 2 × 2 of type dbl\n",
       "\n",
       "|  25 | 2730 |\n",
       "| 135 | 9615 |\n",
       "\n"
      ],
      "text/plain": [
       "     [,1] [,2]\n",
       "[1,]  25  2730\n",
       "[2,] 135  9615"
      ]
     },
     "metadata": {},
     "output_type": "display_data"
    }
   ],
   "source": [
    "5*A"
   ]
  },
  {
   "cell_type": "code",
   "execution_count": 6,
   "id": "8beb180a-513c-4561-aaa1-4c7cbd077ef6",
   "metadata": {},
   "outputs": [
    {
     "data": {
      "text/plain": [
       "\n",
       "\tPearson's Chi-squared test\n",
       "\n",
       "data:  5 * A\n",
       "X-squared = 3.8722, df = 1, p-value = 0.04909\n"
      ]
     },
     "metadata": {},
     "output_type": "display_data"
    }
   ],
   "source": [
    "chisq.test(5*A, correct=F)"
   ]
  },
  {
   "cell_type": "code",
   "execution_count": 7,
   "id": "0ebd8fdc-0ddc-4b40-ad1c-802854522a91",
   "metadata": {},
   "outputs": [
    {
     "data": {
      "text/plain": [
       "\n",
       "\tTwo-sided Fisher's Exact Test (usual method using minimum likelihood)\n",
       "\n",
       "data:  5 * A\n",
       "p-value = 0.05434\n",
       "alternative hypothesis: true odds ratio is not equal to 1\n",
       "95 percent confidence interval:\n",
       " 0.4125 1.0057\n",
       "sample estimates:\n",
       "odds ratio \n",
       " 0.6522488 \n"
      ]
     },
     "metadata": {},
     "output_type": "display_data"
    },
    {
     "data": {
      "image/png": "[encoded data removed]",
      "text/plain": [
       "plot without title"
      ]
     },
     "metadata": {
      "image/png": {
       "height": 420,
       "width": 420
      }
     },
     "output_type": "display_data"
    }
   ],
   "source": [
    "exact2x2(5*A, plot=T)"
   ]
  },
  {
   "cell_type": "code",
   "execution_count": 8,
   "id": "2915c809-5709-4718-ad7a-39b1a7ce94b7",
   "metadata": {},
   "outputs": [
    {
     "data": {
      "text/html": [
       "<table class=\"dataframe\">\n",
       "<caption>A matrix: 2 × 2 of type dbl</caption>\n",
       "<tbody>\n",
       "\t<tr><td> 30</td><td> 3276</td></tr>\n",
       "\t<tr><td>162</td><td>11538</td></tr>\n",
       "</tbody>\n",
       "</table>\n"
      ],
      "text/latex": [
       "A matrix: 2 × 2 of type dbl\n",
       "\\begin{tabular}{ll}\n",
       "\t  30 &  3276\\\\\n",
       "\t 162 & 11538\\\\\n",
       "\\end{tabular}\n"
      ],
      "text/markdown": [
       "\n",
       "A matrix: 2 × 2 of type dbl\n",
       "\n",
       "|  30 |  3276 |\n",
       "| 162 | 11538 |\n",
       "\n"
      ],
      "text/plain": [
       "     [,1] [,2] \n",
       "[1,]  30   3276\n",
       "[2,] 162  11538"
      ]
     },
     "metadata": {},
     "output_type": "display_data"
    }
   ],
   "source": [
    "6*A"
   ]
  },
  {
   "cell_type": "code",
   "execution_count": 9,
   "id": "cdca24ef-1fa5-4681-b3fe-4b7a7dbf97e7",
   "metadata": {},
   "outputs": [
    {
     "data": {
      "text/plain": [
       "\n",
       "\tPearson's Chi-squared test\n",
       "\n",
       "data:  6 * A\n",
       "X-squared = 4.6466, df = 1, p-value = 0.03112\n"
      ]
     },
     "metadata": {},
     "output_type": "display_data"
    }
   ],
   "source": [
    "chisq.test(6*A, correct=F)"
   ]
  },
  {
   "cell_type": "code",
   "execution_count": 10,
   "id": "d7721b02-5bf3-4505-9d9d-d5442a5a4659",
   "metadata": {},
   "outputs": [
    {
     "data": {
      "text/plain": [
       "\n",
       "\tTwo-sided Fisher's Exact Test (usual method using minimum likelihood)\n",
       "\n",
       "data:  6 * A\n",
       "p-value = 0.03495\n",
       "alternative hypothesis: true odds ratio is not equal to 1\n",
       "95 percent confidence interval:\n",
       " 0.4387 0.9724\n",
       "sample estimates:\n",
       "odds ratio \n",
       " 0.6522456 \n"
      ]
     },
     "metadata": {},
     "output_type": "display_data"
    },
    {
     "data": {
      "image/png": "[encoded data removed]",
      "text/plain": [
       "plot without title"
      ]
     },
     "metadata": {
      "image/png": {
       "height": 420,
       "width": 420
      }
     },
     "output_type": "display_data"
    }
   ],
   "source": [
    "exact2x2(6*A, plot=T)"
   ]
  },
  {
   "cell_type": "code",
   "execution_count": 11,
   "id": "c4c0b525-97ac-4e89-854f-a4768e744948",
   "metadata": {},
   "outputs": [
    {
     "data": {
      "text/html": [
       "<table class=\"dataframe\">\n",
       "<caption>A matrix: 2 × 2 of type dbl</caption>\n",
       "<tbody>\n",
       "\t<tr><td> 50</td><td> 5460</td></tr>\n",
       "\t<tr><td>270</td><td>19230</td></tr>\n",
       "</tbody>\n",
       "</table>\n"
      ],
      "text/latex": [
       "A matrix: 2 × 2 of type dbl\n",
       "\\begin{tabular}{ll}\n",
       "\t  50 &  5460\\\\\n",
       "\t 270 & 19230\\\\\n",
       "\\end{tabular}\n"
      ],
      "text/markdown": [
       "\n",
       "A matrix: 2 × 2 of type dbl\n",
       "\n",
       "|  50 |  5460 |\n",
       "| 270 | 19230 |\n",
       "\n"
      ],
      "text/plain": [
       "     [,1] [,2] \n",
       "[1,]  50   5460\n",
       "[2,] 270  19230"
      ]
     },
     "metadata": {},
     "output_type": "display_data"
    }
   ],
   "source": [
    "10*A"
   ]
  },
  {
   "cell_type": "code",
   "execution_count": 12,
   "id": "5d5b3aa9-1b4d-49c7-ad1f-abe1e3f9df58",
   "metadata": {},
   "outputs": [
    {
     "data": {
      "text/plain": [
       "\n",
       "\tPearson's Chi-squared test\n",
       "\n",
       "data:  10 * A\n",
       "X-squared = 7.7443, df = 1, p-value = 0.005388\n"
      ]
     },
     "metadata": {},
     "output_type": "display_data"
    }
   ],
   "source": [
    "chisq.test(10*A, correct=F)"
   ]
  },
  {
   "cell_type": "code",
   "execution_count": 13,
   "id": "be461ba8-4592-4a9e-bffd-8f50b3957dab",
   "metadata": {},
   "outputs": [
    {
     "data": {
      "text/plain": [
       "\n",
       "\tTwo-sided Fisher's Exact Test (usual method using minimum likelihood)\n",
       "\n",
       "data:  10 * A\n",
       "p-value = 0.005259\n",
       "alternative hypothesis: true odds ratio is not equal to 1\n",
       "95 percent confidence interval:\n",
       " 0.4787 0.8819\n",
       "sample estimates:\n",
       "odds ratio \n",
       "  0.652239 \n"
      ]
     },
     "metadata": {},
     "output_type": "display_data"
    },
    {
     "data": {
      "image/png": "[encoded data removed]",
      "text/plain": [
       "plot without title"
      ]
     },
     "metadata": {
      "image/png": {
       "height": 420,
       "width": 420
      }
     },
     "output_type": "display_data"
    }
   ],
   "source": [
    "exact2x2(10*A, plot=T)"
   ]
  },
  {
   "cell_type": "code",
   "execution_count": 14,
   "id": "2d220da4-64e7-4b62-9554-221e26cae174",
   "metadata": {},
   "outputs": [
    {
     "data": {
      "text/html": [
       "<table class=\"dataframe\">\n",
       "<caption>A matrix: 2 × 2 of type dbl</caption>\n",
       "<tbody>\n",
       "\t<tr><td>35</td><td>3822</td></tr>\n",
       "\t<tr><td>54</td><td>3846</td></tr>\n",
       "</tbody>\n",
       "</table>\n"
      ],
      "text/latex": [
       "A matrix: 2 × 2 of type dbl\n",
       "\\begin{tabular}{ll}\n",
       "\t 35 & 3822\\\\\n",
       "\t 54 & 3846\\\\\n",
       "\\end{tabular}\n"
      ],
      "text/markdown": [
       "\n",
       "A matrix: 2 × 2 of type dbl\n",
       "\n",
       "| 35 | 3822 |\n",
       "| 54 | 3846 |\n",
       "\n"
      ],
      "text/plain": [
       "     [,1] [,2]\n",
       "[1,] 35   3822\n",
       "[2,] 54   3846"
      ]
     },
     "metadata": {},
     "output_type": "display_data"
    }
   ],
   "source": [
    "B = matrix(c(7*5, 7*(551-5), 2*27, 2*(1950-27)), byrow=T, nrow=2)\n",
    "B"
   ]
  },
  {
   "cell_type": "code",
   "execution_count": 15,
   "id": "d18a861d-defd-407f-9bb6-9064ced33deb",
   "metadata": {},
   "outputs": [
    {
     "data": {
      "text/plain": [
       "\n",
       "\tPearson's Chi-squared test\n",
       "\n",
       "data:  B\n",
       "X-squared = 3.8931, df = 1, p-value = 0.04849\n"
      ]
     },
     "metadata": {},
     "output_type": "display_data"
    }
   ],
   "source": [
    "chisq.test(B, correct=F)"
   ]
  },
  {
   "cell_type": "code",
   "execution_count": 16,
   "id": "6d77522f-1df8-4e85-93ea-5c2ea3e7259b",
   "metadata": {},
   "outputs": [
    {
     "data": {
      "text/plain": [
       "\n",
       "\tTwo-sided Fisher's Exact Test (usual method using minimum likelihood)\n",
       "\n",
       "data:  B\n",
       "p-value = 0.05471\n",
       "alternative hypothesis: true odds ratio is not equal to 1\n",
       "95 percent confidence interval:\n",
       " 0.4234 1.0113\n",
       "sample estimates:\n",
       "odds ratio \n",
       " 0.6522572 \n"
      ]
     },
     "metadata": {},
     "output_type": "display_data"
    },
    {
     "data": {
      "image/png": "[encoded data removed]",
      "text/plain": [
       "plot without title"
      ]
     },
     "metadata": {
      "image/png": {
       "height": 420,
       "width": 420
      }
     },
     "output_type": "display_data"
    }
   ],
   "source": [
    "exact2x2(B, plot=T)"
   ]
  },
  {
   "cell_type": "code",
   "execution_count": 17,
   "id": "ee95d6ec-b0b1-4635-bc7e-456a5b0a2fbe",
   "metadata": {},
   "outputs": [
    {
     "data": {
      "text/html": [
       "<table class=\"dataframe\">\n",
       "<caption>A matrix: 2 × 2 of type dbl</caption>\n",
       "<tbody>\n",
       "\t<tr><td> 70</td><td>7644</td></tr>\n",
       "\t<tr><td>108</td><td>7692</td></tr>\n",
       "</tbody>\n",
       "</table>\n"
      ],
      "text/latex": [
       "A matrix: 2 × 2 of type dbl\n",
       "\\begin{tabular}{ll}\n",
       "\t  70 & 7644\\\\\n",
       "\t 108 & 7692\\\\\n",
       "\\end{tabular}\n"
      ],
      "text/markdown": [
       "\n",
       "A matrix: 2 × 2 of type dbl\n",
       "\n",
       "|  70 | 7644 |\n",
       "| 108 | 7692 |\n",
       "\n"
      ],
      "text/plain": [
       "     [,1] [,2]\n",
       "[1,]  70  7644\n",
       "[2,] 108  7692"
      ]
     },
     "metadata": {},
     "output_type": "display_data"
    }
   ],
   "source": [
    "2*B"
   ]
  },
  {
   "cell_type": "code",
   "execution_count": 18,
   "id": "567591a4-55c8-4603-8cf6-26dbf339e365",
   "metadata": {},
   "outputs": [
    {
     "data": {
      "text/plain": [
       "\n",
       "\tPearson's Chi-squared test\n",
       "\n",
       "data:  2 * B\n",
       "X-squared = 7.7861, df = 1, p-value = 0.005265\n"
      ]
     },
     "metadata": {},
     "output_type": "display_data"
    }
   ],
   "source": [
    "chisq.test(2*B, correct=F)"
   ]
  },
  {
   "cell_type": "code",
   "execution_count": 19,
   "id": "24a0a7fe-8c46-4c80-9f17-e11ab51272fc",
   "metadata": {},
   "outputs": [
    {
     "data": {
      "text/plain": [
       "\n",
       "\tTwo-sided Fisher's Exact Test (usual method using minimum likelihood)\n",
       "\n",
       "data:  2 * B\n",
       "p-value = 0.005263\n",
       "alternative hypothesis: true odds ratio is not equal to 1\n",
       "95 percent confidence interval:\n",
       " 0.4779 0.8820\n",
       "sample estimates:\n",
       "odds ratio \n",
       " 0.6522395 \n"
      ]
     },
     "metadata": {},
     "output_type": "display_data"
    },
    {
     "data": {
      "image/png": "[encoded data removed]",
      "text/plain": [
       "plot without title"
      ]
     },
     "metadata": {
      "image/png": {
       "height": 420,
       "width": 420
      }
     },
     "output_type": "display_data"
    }
   ],
   "source": [
    "exact2x2(2*B, plot=T)"
   ]
  },
  {
   "cell_type": "code",
   "execution_count": null,
   "id": "f4bd89d2-0256-4719-9150-398da6e67452",
   "metadata": {},
   "outputs": [],
   "source": []
  }
 ],
 "metadata": {
  "jupytext": {
   "formats": "ipynb,R:hydrogen"
  },
  "kernelspec": {
   "display_name": "R",
   "language": "R",
   "name": "ir"
  },
  "language_info": {
   "codemirror_mode": "r",
   "file_extension": ".r",
   "mimetype": "text/x-r-source",
   "name": "R",
   "pygments_lexer": "r",
   "version": "4.2.2"
  }
 },
 "nbformat": 4,
 "nbformat_minor": 5
}
