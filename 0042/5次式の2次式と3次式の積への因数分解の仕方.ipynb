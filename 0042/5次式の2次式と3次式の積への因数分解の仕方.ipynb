{
 "cells": [
  {
   "cell_type": "markdown",
   "id": "a93854ef-c338-4788-b6af-9299decd73b6",
   "metadata": {},
   "source": [
    "# 5次式の2次式と3次式の積への因数分解の仕方\n",
    "\n",
    "* 黒木玄"
   ]
  },
  {
   "cell_type": "code",
   "execution_count": 1,
   "id": "8e9dac4b-76aa-4c3e-8eca-461bb0fb0469",
   "metadata": {},
   "outputs": [],
   "source": [
    "using SymPy\n",
    "\n",
    "# Override the Base.show definition of SymPy.jl:\n",
    "# https://github.com/JuliaPy/SymPy.jl/blob/29c5bfd1d10ac53014fa7fef468bc8deccadc2fc/src/types.jl#L87-L105\n",
    "\n",
    "@eval SymPy function Base.show(io::IO, ::MIME\"text/latex\", x::SymbolicObject)\n",
    "    print(io, as_markdown(\"\\\\displaystyle \" * sympy.latex(x, mode=\"plain\", fold_short_frac=false)))\n",
    "end\n",
    "@eval SymPy function Base.show(io::IO, ::MIME\"text/latex\", x::AbstractArray{Sym})\n",
    "    function toeqnarray(x::Vector{Sym})\n",
    "        a = join([\"\\\\displaystyle \" * sympy.latex(x[i]) for i in 1:length(x)], \"\\\\\\\\\")\n",
    "        \"\"\"\\\\left[ \\\\begin{array}{r}$a\\\\end{array} \\\\right]\"\"\"\n",
    "    end\n",
    "    function toeqnarray(x::AbstractArray{Sym,2})\n",
    "        sz = size(x)\n",
    "        a = join([join(\"\\\\displaystyle \" .* map(sympy.latex, x[i,:]), \"&\") for i in 1:sz[1]], \"\\\\\\\\\")\n",
    "        \"\\\\left[ \\\\begin{array}{\" * repeat(\"r\",sz[2]) * \"}\" * a * \"\\\\end{array}\\\\right]\"\n",
    "    end\n",
    "    print(io, as_markdown(toeqnarray(x)))\n",
    "end"
   ]
  },
  {
   "cell_type": "markdown",
   "id": "f5ae8f78-2ab1-4393-8769-241b6a887164",
   "metadata": {},
   "source": [
    "## 一般論"
   ]
  },
  {
   "cell_type": "code",
   "execution_count": 2,
   "id": "9daa19be-0419-4948-a2fa-c7504c573e46",
   "metadata": {},
   "outputs": [
    {
     "data": {
      "text/plain": [
       "(a, b, c, d, e, p, q, r, s, t, x)"
      ]
     },
     "execution_count": 2,
     "metadata": {},
     "output_type": "execute_result"
    }
   ],
   "source": [
    "@vars a b c d e p q r s t x"
   ]
  },
  {
   "cell_type": "code",
   "execution_count": 3,
   "id": "b6d25422-733a-46ef-9193-6581287f1868",
   "metadata": {},
   "outputs": [
    {
     "data": {
      "text/latex": [
       "$\\displaystyle p x^{4} + q x^{3} + r x^{2} + s x + t + x^{5}$\n"
      ],
      "text/plain": [
       "   4      3      2              5\n",
       "p*x  + q*x  + r*x  + s*x + t + x "
      ]
     },
     "execution_count": 3,
     "metadata": {},
     "output_type": "execute_result"
    }
   ],
   "source": [
    "f = x^5 + p*x^4 + q*x^3 + r*x^2 + s*x + t"
   ]
  },
  {
   "cell_type": "code",
   "execution_count": 4,
   "id": "f2bfbd7c-2e65-488b-9e2a-6b35c810553c",
   "metadata": {},
   "outputs": [
    {
     "data": {
      "text/latex": [
       "$\\displaystyle a x + b + x^{2}$\n"
      ],
      "text/plain": [
       "           2\n",
       "a*x + b + x "
      ]
     },
     "execution_count": 4,
     "metadata": {},
     "output_type": "execute_result"
    }
   ],
   "source": [
    "g = x^2 + a*x + b"
   ]
  },
  {
   "cell_type": "code",
   "execution_count": 5,
   "id": "1624c8e3-14b5-411b-95b3-f0db49e6b10f",
   "metadata": {},
   "outputs": [
    {
     "data": {
      "text/latex": [
       "$\\displaystyle c x^{2} + d x + e + x^{3}$\n"
      ],
      "text/plain": [
       "   2              3\n",
       "c*x  + d*x + e + x "
      ]
     },
     "execution_count": 5,
     "metadata": {},
     "output_type": "execute_result"
    }
   ],
   "source": [
    "h = x^3 + c*x^2 + d*x + e"
   ]
  },
  {
   "cell_type": "code",
   "execution_count": 6,
   "id": "ef0ef997-8b98-4135-9d22-fcc52359eb2b",
   "metadata": {},
   "outputs": [
    {
     "data": {
      "text/latex": [
       "$\\displaystyle \\operatorname{Poly}{\\left( \\left(a + c - p\\right) x^{4} + \\left(a c + b + d - q\\right) x^{3} + \\left(a d + b c + e - r\\right) x^{2} + \\left(a e + b d - s\\right) x + b e - t, x, domain=\\mathbb{Z}\\left[a, b, c, d, e, p, q, r, s, t\\right] \\right)}$\n"
      ],
      "text/plain": [
       "Poly((a + c - p)*x**4 + (a*c + b + d - q)*x**3 + (a*d + b*c + e - r)*x**2 + (a\n",
       "*e + b*d - s)*x + b*e - t, x, domain='ZZ[a,b,c,d,e,p,q,r,s,t]')"
      ]
     },
     "execution_count": 6,
     "metadata": {},
     "output_type": "execute_result"
    }
   ],
   "source": [
    "ghmf = sympy.poly(g*h - f, x)"
   ]
  },
  {
   "cell_type": "markdown",
   "id": "69b83696-d7a7-40fc-ad92-0affc0d7418c",
   "metadata": {},
   "source": [
    "$gh=f$ となることと次のセルの内容がすべて $0$ になることは同値."
   ]
  },
  {
   "cell_type": "code",
   "execution_count": 7,
   "id": "6712bbb2-6c04-469c-8cd0-d7f234d56257",
   "metadata": {},
   "outputs": [
    {
     "data": {
      "text/latex": [
       "$\\left[ \\begin{array}{r}\\displaystyle a + c - p\\\\\\displaystyle a c + b + d - q\\\\\\displaystyle a d + b c + e - r\\\\\\displaystyle a e + b d - s\\\\\\displaystyle b e - t\\end{array} \\right]$\n"
      ],
      "text/plain": [
       "5-element Vector{Sym}:\n",
       "         a + c - p\n",
       "   a*c + b + d - q\n",
       " a*d + b*c + e - r\n",
       "     a*e + b*d - s\n",
       "           b*e - t"
      ]
     },
     "execution_count": 7,
     "metadata": {},
     "output_type": "execute_result"
    }
   ],
   "source": [
    "eq = ghmf.coeffs()"
   ]
  },
  {
   "cell_type": "markdown",
   "id": "384608f1-9948-4fe6-ba41-561e91b9ed8f",
   "metadata": {},
   "source": [
    "この方程式を使って $c,d,e$ を $a,b,p,q,r$ で表そう."
   ]
  },
  {
   "cell_type": "code",
   "execution_count": 8,
   "id": "71f1df48-64d4-4ff2-bec1-c8cd5701b437",
   "metadata": {},
   "outputs": [
    {
     "data": {
      "text/latex": [
       "$\\displaystyle - a + p$\n"
      ],
      "text/plain": [
       "-a + p"
      ]
     },
     "execution_count": 8,
     "metadata": {},
     "output_type": "execute_result"
    }
   ],
   "source": [
    "C = p - a"
   ]
  },
  {
   "cell_type": "code",
   "execution_count": 9,
   "id": "04564672-223c-4763-8382-e41efb8014d3",
   "metadata": {},
   "outputs": [
    {
     "data": {
      "text/latex": [
       "$\\displaystyle a^{2} - a p - b + q$\n"
      ],
      "text/plain": [
       " 2              \n",
       "a  - a*p - b + q"
      ]
     },
     "execution_count": 9,
     "metadata": {},
     "output_type": "execute_result"
    }
   ],
   "source": [
    "D = q - a*C - b |> expand"
   ]
  },
  {
   "cell_type": "code",
   "execution_count": 10,
   "id": "4cda26fd-a383-4785-9c94-75ce31910c11",
   "metadata": {},
   "outputs": [
    {
     "data": {
      "text/latex": [
       "$\\displaystyle - a^{3} + a^{2} p + 2 a b - a q - b p + r$\n"
      ],
      "text/plain": [
       "   3    2                          \n",
       "- a  + a *p + 2*a*b - a*q - b*p + r"
      ]
     },
     "execution_count": 10,
     "metadata": {},
     "output_type": "execute_result"
    }
   ],
   "source": [
    "E = r - a*D - b*C |> expand"
   ]
  },
  {
   "cell_type": "markdown",
   "id": "27aa698c-a86a-448c-8a6c-dbd7710e520c",
   "metadata": {},
   "source": [
    "元の方程式にこれらを代入して $c,d,e$ を削除すると以下のようになる."
   ]
  },
  {
   "cell_type": "code",
   "execution_count": 11,
   "id": "e0fb9564-98ed-48fc-9c88-f479685dc2a0",
   "metadata": {},
   "outputs": [
    {
     "data": {
      "text/latex": [
       "$\\left[ \\begin{array}{r}\\displaystyle 0\\\\\\displaystyle 0\\\\\\displaystyle 0\\\\\\displaystyle a^{4} - a^{3} p - 3 a^{2} b + a^{2} q + 2 a b p - a r + b^{2} - b q + s\\\\\\displaystyle a^{3} b - a^{2} b p - 2 a b^{2} + a b q + b^{2} p - b r + t\\end{array} \\right]$\n"
      ],
      "text/plain": [
       "5-element Vector{Sym}:\n",
       "                                                             0\n",
       "                                                             0\n",
       "                                                             0\n",
       " a^4 - a^3*p - 3*a^2*b + a^2*q + 2*a*b*p - a*r + b^2 - b*q + s\n",
       "           a^3*b - a^2*b*p - 2*a*b^2 + a*b*q + b^2*p - b*r + t"
      ]
     },
     "execution_count": 11,
     "metadata": {},
     "output_type": "execute_result"
    }
   ],
   "source": [
    "eq1 = eq .|> (F -> -F(c=>C, d=>D, e=>E).expand())"
   ]
  },
  {
   "cell_type": "markdown",
   "id": "c35b6d34-c632-49a6-ae3a-f0adc7e637e6",
   "metadata": {},
   "source": [
    "$b\\ne 0$ の場合に($t\\ne 0$ ならば $b\\ne 0$ となる), 最下段の方程式は次のセルのように書き直される($t$ に $be$ を代入しておく)."
   ]
  },
  {
   "cell_type": "code",
   "execution_count": 12,
   "id": "88473360-6865-46e3-89b5-a7bb5d845245",
   "metadata": {},
   "outputs": [
    {
     "data": {
      "text/latex": [
       "$\\displaystyle a^{3} - a^{2} p - 2 a b + a q + b p + e - r$\n"
      ],
      "text/plain": [
       " 3    2                              \n",
       "a  - a *p - 2*a*b + a*q + b*p + e - r"
      ]
     },
     "execution_count": 12,
     "metadata": {},
     "output_type": "execute_result"
    }
   ],
   "source": [
    "eqlast = eq1[end](t=>b*e) / b |> expand"
   ]
  },
  {
   "cell_type": "markdown",
   "id": "8f06619e-07e9-4f55-a507-8066c3832df3",
   "metadata": {},
   "source": [
    "## 例1\n",
    "\n",
    "$g = x^2 + 3x - 2$, $h = (x+1)^3-2 = x^3+3x^2+3x-1$ の場合にどうなるか."
   ]
  },
  {
   "cell_type": "code",
   "execution_count": 13,
   "id": "2316fbfa-daa4-4475-8c0b-69867c8c795b",
   "metadata": {},
   "outputs": [
    {
     "data": {
      "text/latex": [
       "$\\displaystyle x^{2} + 3 x - 2$\n"
      ],
      "text/plain": [
       " 2          \n",
       "x  + 3*x - 2"
      ]
     },
     "execution_count": 13,
     "metadata": {},
     "output_type": "execute_result"
    }
   ],
   "source": [
    "GG = x^2 + 3x - 2"
   ]
  },
  {
   "cell_type": "code",
   "execution_count": 14,
   "id": "08b30df4-848b-460e-8ddf-db2360d5da97",
   "metadata": {},
   "outputs": [
    {
     "data": {
      "text/latex": [
       "$\\displaystyle x^{3} + 3 x^{2} + 3 x - 1$\n"
      ],
      "text/plain": [
       " 3      2          \n",
       "x  + 3*x  + 3*x - 1"
      ]
     },
     "execution_count": 14,
     "metadata": {},
     "output_type": "execute_result"
    }
   ],
   "source": [
    "HH = (x+1)^3-2 |> expand"
   ]
  },
  {
   "cell_type": "code",
   "execution_count": 15,
   "id": "7d3cbc8c-13bf-48d2-b2e7-917158aa2694",
   "metadata": {},
   "outputs": [
    {
     "data": {
      "text/latex": [
       "$\\displaystyle \\left(x^{2} + 3 x - 2\\right) \\left(x^{3} + 3 x^{2} + 3 x - 1\\right)$\n"
      ],
      "text/plain": [
       "/ 2          \\ / 3      2          \\\n",
       "\\x  + 3*x - 2/*\\x  + 3*x  + 3*x - 1/"
      ]
     },
     "execution_count": 15,
     "metadata": {},
     "output_type": "execute_result"
    }
   ],
   "source": [
    "FF = GG*HH"
   ]
  },
  {
   "cell_type": "code",
   "execution_count": 16,
   "id": "4d111fb6-5c7b-470e-b198-948d6a9d51c9",
   "metadata": {},
   "outputs": [
    {
     "data": {
      "text/latex": [
       "$\\displaystyle x^{5} + 6 x^{4} + 10 x^{3} + 2 x^{2} - 9 x + 2$\n"
      ],
      "text/plain": [
       " 5      4       3      2          \n",
       "x  + 6*x  + 10*x  + 2*x  - 9*x + 2"
      ]
     },
     "execution_count": 16,
     "metadata": {},
     "output_type": "execute_result"
    }
   ],
   "source": [
    "FF = expand(FF)"
   ]
  },
  {
   "cell_type": "markdown",
   "id": "05131908-5323-4126-a7bf-2b3b8ec443c3",
   "metadata": {},
   "source": [
    "既存の函数を使えば因数分解は易しい."
   ]
  },
  {
   "cell_type": "code",
   "execution_count": 17,
   "id": "fe89deee-1831-4039-a19d-946026f83cdd",
   "metadata": {},
   "outputs": [
    {
     "data": {
      "text/latex": [
       "$\\displaystyle \\left(x^{2} + 3 x - 2\\right) \\left(x^{3} + 3 x^{2} + 3 x - 1\\right)$\n"
      ],
      "text/plain": [
       "/ 2          \\ / 3      2          \\\n",
       "\\x  + 3*x - 2/*\\x  + 3*x  + 3*x - 1/"
      ]
     },
     "execution_count": 17,
     "metadata": {},
     "output_type": "execute_result"
    }
   ],
   "source": [
    "factor(FF)"
   ]
  },
  {
   "cell_type": "markdown",
   "id": "8bdfdccf-feaf-4ecf-991f-4f80625b929c",
   "metadata": {},
   "source": [
    "係数を $P,Q,R,S,T$ に代入する."
   ]
  },
  {
   "cell_type": "code",
   "execution_count": 18,
   "id": "75013cc9-6bc0-4654-aad4-93f4a6ac513c",
   "metadata": {},
   "outputs": [
    {
     "data": {
      "text/latex": [
       "$\\left[ \\begin{array}{r}\\displaystyle 1\\\\\\displaystyle 6\\\\\\displaystyle 10\\\\\\displaystyle 2\\\\\\displaystyle -9\\\\\\displaystyle 2\\end{array} \\right]$\n"
      ],
      "text/plain": [
       "6-element Vector{Sym}:\n",
       "  1\n",
       "  6\n",
       " 10\n",
       "  2\n",
       " -9\n",
       "  2"
      ]
     },
     "execution_count": 18,
     "metadata": {},
     "output_type": "execute_result"
    }
   ],
   "source": [
    "_, P, Q, R, S, T = [FF.coeff(x, k) for k in 5:-1:0]"
   ]
  },
  {
   "cell_type": "markdown",
   "id": "478a5a5b-0636-472b-9368-8d77ee5057bf",
   "metadata": {},
   "source": [
    "最下段の方程式の形の確認."
   ]
  },
  {
   "cell_type": "code",
   "execution_count": 19,
   "id": "eb080670-4ef6-4f57-8581-cd8cfc396a9b",
   "metadata": {},
   "outputs": [
    {
     "data": {
      "text/latex": [
       "$\\displaystyle a^{3} - 6 a^{2} - 2 a b + 10 a + 6 b + e - 2$\n"
      ],
      "text/plain": [
       " 3      2                             \n",
       "a  - 6*a  - 2*a*b + 10*a + 6*b + e - 2"
      ]
     },
     "execution_count": 19,
     "metadata": {},
     "output_type": "execute_result"
    }
   ],
   "source": [
    "Eqlast = eqlast(p=>P, q=>Q, r=>R, s=>S, t=>T)"
   ]
  },
  {
   "cell_type": "markdown",
   "id": "ac761886-dea6-465d-b580-d0ca1aa66e16",
   "metadata": {},
   "source": [
    "$be = 2$ となる整数の組 $(b, e)$ 全体について, 最下段の方程式が整数解を持つ場合を探す."
   ]
  },
  {
   "cell_type": "code",
   "execution_count": 20,
   "id": "3c9bffab-1883-4ab4-95cd-a74ff1029234",
   "metadata": {},
   "outputs": [
    {
     "data": {
      "text/latex": [
       "$\\left[ \\begin{array}{r}\\displaystyle a^{3} - 6 a^{2} + 8 a + 6\\\\\\displaystyle a^{3} - 6 a^{2} + 6 a + 11\\\\\\displaystyle a^{3} - 6 a^{2} + 12 a - 10\\\\\\displaystyle \\left(a - 3\\right) \\left(a^{2} - 3 a + 5\\right)\\end{array} \\right]$\n"
      ],
      "text/plain": [
       "4-element Vector{Sym}:\n",
       "   a^3 - 6*a^2 + 8*a + 6\n",
       "  a^3 - 6*a^2 + 6*a + 11\n",
       " a^3 - 6*a^2 + 12*a - 10\n",
       " (a - 3)*(a^2 - 3*a + 5)"
      ]
     },
     "execution_count": 20,
     "metadata": {},
     "output_type": "execute_result"
    }
   ],
   "source": [
    "[Eqlast(b=>k, e=>T/k) |> factor for k in (1, 2, -1, -2)]"
   ]
  },
  {
   "cell_type": "markdown",
   "id": "e14a0e9b-c64b-4eb4-ab54-668d5c24165c",
   "metadata": {},
   "source": [
    "最後の $b=-2$, $e=-1$ の場合にのみ整数解 $a=3$ が存在する."
   ]
  },
  {
   "cell_type": "code",
   "execution_count": 21,
   "id": "06cfd6a9-aec5-4c11-ae03-d4d19a6f0493",
   "metadata": {},
   "outputs": [
    {
     "data": {
      "text/plain": [
       "(-2, 3)"
      ]
     },
     "execution_count": 21,
     "metadata": {},
     "output_type": "execute_result"
    }
   ],
   "source": [
    "BB, AA = -2, 3"
   ]
  },
  {
   "cell_type": "markdown",
   "id": "3c91fb73-f473-445c-9507-0e807c1063f2",
   "metadata": {},
   "source": [
    "この場合が実際に解になっていることの確認."
   ]
  },
  {
   "cell_type": "code",
   "execution_count": 22,
   "id": "134001f9-9e00-452a-9c25-0ddd114a4a8b",
   "metadata": {},
   "outputs": [
    {
     "data": {
      "text/plain": [
       "(-a + p, a^2 - a*p - b + q, -a^3 + a^2*p + 2*a*b - a*q - b*p + r)"
      ]
     },
     "execution_count": 22,
     "metadata": {},
     "output_type": "execute_result"
    }
   ],
   "source": [
    "C, D, E"
   ]
  },
  {
   "cell_type": "code",
   "execution_count": 23,
   "id": "c5203760-33ef-41bc-96c3-d660f9df4c08",
   "metadata": {},
   "outputs": [
    {
     "data": {
      "text/plain": [
       "(3, 3, -1)"
      ]
     },
     "execution_count": 23,
     "metadata": {},
     "output_type": "execute_result"
    }
   ],
   "source": [
    "CC, DD, EE = C(a=>AA, b=>BB, p=>P), D(a=>AA, b=>BB, p=>P, q=>Q), E(a=>AA, b=>BB, p=>P, q=>Q, r=>R, t=>T)"
   ]
  },
  {
   "cell_type": "code",
   "execution_count": 24,
   "id": "6aef550c-e718-420d-a089-855aa56b56ea",
   "metadata": {},
   "outputs": [
    {
     "data": {
      "text/latex": [
       "$\\displaystyle a e + b d - s$\n"
      ],
      "text/plain": [
       "a*e + b*d - s"
      ]
     },
     "execution_count": 24,
     "metadata": {},
     "output_type": "execute_result"
    }
   ],
   "source": [
    "eq[end-1]"
   ]
  },
  {
   "cell_type": "code",
   "execution_count": 25,
   "id": "abb1b000-7e9b-42f9-900b-92b20591f040",
   "metadata": {},
   "outputs": [
    {
     "data": {
      "text/latex": [
       "$\\displaystyle 0$\n"
      ],
      "text/plain": [
       "0"
      ]
     },
     "execution_count": 25,
     "metadata": {},
     "output_type": "execute_result"
    }
   ],
   "source": [
    "eq[end-1](a=>AA, b=>BB, d=>DD, e=>EE, s=>S)"
   ]
  },
  {
   "cell_type": "code",
   "execution_count": 26,
   "id": "500fe1d2-bd75-473a-a682-192a1d1e388b",
   "metadata": {},
   "outputs": [
    {
     "data": {
      "text/latex": [
       "$\\displaystyle \\left(x^{2} + 3 x - 2\\right) \\left(x^{3} + 3 x^{2} + 3 x - 1\\right)$\n"
      ],
      "text/plain": [
       "/ 2          \\ / 3      2          \\\n",
       "\\x  + 3*x - 2/*\\x  + 3*x  + 3*x - 1/"
      ]
     },
     "execution_count": 26,
     "metadata": {},
     "output_type": "execute_result"
    }
   ],
   "source": [
    "sol = (x^2 + AA*x + BB)*(x^3 + CC*x^2 + DD*x + EE)"
   ]
  },
  {
   "cell_type": "code",
   "execution_count": 27,
   "id": "5e1b5979-eaa3-49d8-9848-480793520d5b",
   "metadata": {},
   "outputs": [
    {
     "data": {
      "text/latex": [
       "$\\displaystyle 0$\n"
      ],
      "text/plain": [
       "0"
      ]
     },
     "execution_count": 27,
     "metadata": {},
     "output_type": "execute_result"
    }
   ],
   "source": [
    "sol - FF |> simplify"
   ]
  },
  {
   "cell_type": "markdown",
   "id": "b8fef769-ad5c-458d-8044-11981c9a19e5",
   "metadata": {},
   "source": [
    "## 例2\n",
    "\n",
    "$f = x^5 - x^4 - 1$ の因数分解."
   ]
  },
  {
   "cell_type": "code",
   "execution_count": 28,
   "id": "2c13915d-b8f7-47cf-911e-49b62a476104",
   "metadata": {},
   "outputs": [
    {
     "data": {
      "text/latex": [
       "$\\displaystyle x^{5} - x^{4} - 1$\n"
      ],
      "text/plain": [
       " 5    4    \n",
       "x  - x  - 1"
      ]
     },
     "execution_count": 28,
     "metadata": {},
     "output_type": "execute_result"
    }
   ],
   "source": [
    "FF = x^5 - x^4 - 1"
   ]
  },
  {
   "cell_type": "markdown",
   "id": "e3ca68f2-6f73-443b-b4c2-504d4d01d695",
   "metadata": {},
   "source": [
    "既存の函数を使えば易しい."
   ]
  },
  {
   "cell_type": "code",
   "execution_count": 29,
   "id": "1b820290-8f5b-4aa9-9663-e257af15b225",
   "metadata": {},
   "outputs": [
    {
     "data": {
      "text/latex": [
       "$\\displaystyle \\left(x^{2} - x + 1\\right) \\left(x^{3} - x - 1\\right)$\n"
      ],
      "text/plain": [
       "/ 2        \\ / 3        \\\n",
       "\\x  - x + 1/*\\x  - x - 1/"
      ]
     },
     "execution_count": 29,
     "metadata": {},
     "output_type": "execute_result"
    }
   ],
   "source": [
    "factor(FF)"
   ]
  },
  {
   "cell_type": "markdown",
   "id": "e7860708-6129-4869-a6c5-180a1d76c9d4",
   "metadata": {},
   "source": [
    "よくある解答例では天下り的に「$x^3$ を足して引く」という方法を使っている.\n",
    "\n",
    "$$\n",
    "\\begin{aligned}\n",
    "x^5 - x^4 - 1\n",
    "&=\n",
    "x^5 - x^4 + x^3 - x^3 - 1\n",
    "\\\\ &=\n",
    "(x^5 - x^4 + x^3) - (x^3 + 1)\n",
    "\\\\ &=\n",
    "x^3(x^2-x+1) -(x+1)(x^2-x+1)\n",
    "\\\\ &=\n",
    "(x^2-x+1)(x^3-x-1).\n",
    "\\end{aligned}\n",
    "$$\n",
    "\n",
    "以下の方法であればそういう天下り的な操作が無用になる."
   ]
  },
  {
   "cell_type": "markdown",
   "id": "e6661d21-e08e-4b5e-bb15-08124f5ce5d1",
   "metadata": {},
   "source": [
    "係数を $P,Q,R,S,T$ に代入する."
   ]
  },
  {
   "cell_type": "code",
   "execution_count": 30,
   "id": "2c032626-3f4f-47aa-b699-874d51e6ffa4",
   "metadata": {},
   "outputs": [
    {
     "data": {
      "text/latex": [
       "$\\left[ \\begin{array}{r}\\displaystyle 1\\\\\\displaystyle -1\\\\\\displaystyle 0\\\\\\displaystyle 0\\\\\\displaystyle 0\\\\\\displaystyle -1\\end{array} \\right]$\n"
      ],
      "text/plain": [
       "6-element Vector{Sym}:\n",
       "  1\n",
       " -1\n",
       "  0\n",
       "  0\n",
       "  0\n",
       " -1"
      ]
     },
     "execution_count": 30,
     "metadata": {},
     "output_type": "execute_result"
    }
   ],
   "source": [
    "_, P, Q, R, S, T = [FF.coeff(x, k) for k in 5:-1:0]"
   ]
  },
  {
   "cell_type": "markdown",
   "id": "e269c7d1-774f-475c-a330-650af29c4e45",
   "metadata": {},
   "source": [
    "最下段の方程式の形の確認."
   ]
  },
  {
   "cell_type": "code",
   "execution_count": 31,
   "id": "b126ffc1-4670-4e2a-af44-333cfd9230f6",
   "metadata": {},
   "outputs": [
    {
     "data": {
      "text/latex": [
       "$\\displaystyle a^{3} + a^{2} - 2 a b - b + e$\n"
      ],
      "text/plain": [
       " 3    2                \n",
       "a  + a  - 2*a*b - b + e"
      ]
     },
     "execution_count": 31,
     "metadata": {},
     "output_type": "execute_result"
    }
   ],
   "source": [
    "Eqlast = eqlast(p=>P, q=>Q, r=>R, s=>S, t=>T)"
   ]
  },
  {
   "cell_type": "markdown",
   "id": "fafc1bd6-4267-49f9-b6ae-c4fdc6d508a0",
   "metadata": {},
   "source": [
    "$be=-1$ となる整数の組 $(b,d)$ の各々について, 最下段の方程式が整数解を持つかどうかを確認する."
   ]
  },
  {
   "cell_type": "code",
   "execution_count": 32,
   "id": "335dd229-ca0d-4432-b589-28e5330e7a67",
   "metadata": {},
   "outputs": [
    {
     "data": {
      "text/latex": [
       "$\\left[ \\begin{array}{r}\\displaystyle \\left(a + 1\\right) \\left(a^{2} - 2\\right)\\\\\\displaystyle \\left(a + 1\\right) \\left(a^{2} + 2\\right)\\end{array} \\right]$\n"
      ],
      "text/plain": [
       "2-element Vector{Sym}:\n",
       " (a + 1)*(a^2 - 2)\n",
       " (a + 1)*(a^2 + 2)"
      ]
     },
     "execution_count": 32,
     "metadata": {},
     "output_type": "execute_result"
    }
   ],
   "source": [
    "[(B = k; E = T/k; Eqlast(b=>B, e=>E) |> factor) for k in (1, -1)]"
   ]
  },
  {
   "cell_type": "markdown",
   "id": "bfb90943-6c64-4dc1-866f-342031914ac6",
   "metadata": {},
   "source": [
    "$(b,d)=(1,-1), (-1,1)$ の両方の場合に整数解 $a=-1$ を持つことがわかった.\n",
    "\n",
    "これらが下から2段目の方程式も満たしているかを確認する."
   ]
  },
  {
   "cell_type": "code",
   "execution_count": 33,
   "id": "891f232a-d4ca-4679-bd09-f6cd47ee419e",
   "metadata": {},
   "outputs": [
    {
     "data": {
      "text/latex": [
       "$\\displaystyle 0$\n"
      ],
      "text/plain": [
       "0"
      ]
     },
     "execution_count": 33,
     "metadata": {},
     "output_type": "execute_result"
    }
   ],
   "source": [
    "BB, AA = 1, -1\n",
    "eq[end-1](a=>AA, b=>BB, d=>D(a=>AA, b=>BB, p=>P, q=>Q), e=>E(a=>AA, b=>BB, p=>P, q=>Q, r=>R, t=>T), s=>S)"
   ]
  },
  {
   "cell_type": "code",
   "execution_count": 34,
   "id": "0f71e001-416e-487b-bbf4-eb00de2e185b",
   "metadata": {},
   "outputs": [
    {
     "data": {
      "text/latex": [
       "$\\displaystyle -3$\n"
      ],
      "text/plain": [
       "-3"
      ]
     },
     "execution_count": 34,
     "metadata": {},
     "output_type": "execute_result"
    }
   ],
   "source": [
    "BB, AA = -1, -1\n",
    "eq[end-1](a=>AA, b=>BB, d=>D(a=>2, b=>4, p=>P, q=>Q), e=>E(a=>AA, b=>BB, p=>P, q=>Q, r=>R, t=>T), s=>S)"
   ]
  },
  {
   "cell_type": "markdown",
   "id": "d2ed6509-4426-4f05-89f6-e35c479b9227",
   "metadata": {},
   "source": [
    "$(a, b) = -1, 1$ の場合のみが解になっていることがわかった."
   ]
  },
  {
   "cell_type": "markdown",
   "id": "22b7194d-f43c-44ce-a8c9-137901f11d12",
   "metadata": {},
   "source": [
    "以下は検算である."
   ]
  },
  {
   "cell_type": "code",
   "execution_count": 35,
   "id": "80feb09b-0858-4bcf-8987-3256012df508",
   "metadata": {},
   "outputs": [
    {
     "data": {
      "text/plain": [
       "(0, -1, -1)"
      ]
     },
     "execution_count": 35,
     "metadata": {},
     "output_type": "execute_result"
    }
   ],
   "source": [
    "AA, BB = -1, 1\n",
    "CC, DD, EE = C(a=>AA, b=>BB, p=>P), D(a=>AA, b=>BB, p=>P, q=>Q), E(a=>AA, b=>BB, p=>P, q=>Q, r=>R, t=>T)"
   ]
  },
  {
   "cell_type": "code",
   "execution_count": 36,
   "id": "3565b1b0-d959-4d78-8660-59194170a5be",
   "metadata": {},
   "outputs": [
    {
     "data": {
      "text/latex": [
       "$\\displaystyle \\left(x^{2} - x + 1\\right) \\left(x^{3} - x - 1\\right)$\n"
      ],
      "text/plain": [
       "/ 2        \\ / 3        \\\n",
       "\\x  - x + 1/*\\x  - x - 1/"
      ]
     },
     "execution_count": 36,
     "metadata": {},
     "output_type": "execute_result"
    }
   ],
   "source": [
    "sol = (x^2 + AA*x + BB)*(x^3 + CC*x^2 + DD*x + EE)"
   ]
  },
  {
   "cell_type": "code",
   "execution_count": 37,
   "id": "fd159a47-ca9d-42f0-a78d-bfbd22762938",
   "metadata": {},
   "outputs": [
    {
     "data": {
      "text/latex": [
       "$\\displaystyle 0$\n"
      ],
      "text/plain": [
       "0"
      ]
     },
     "execution_count": 37,
     "metadata": {},
     "output_type": "execute_result"
    }
   ],
   "source": [
    "sol - FF |> simplify"
   ]
  },
  {
   "cell_type": "markdown",
   "id": "d1d35cf7-1b60-4e83-bcb0-00981bdc689d",
   "metadata": {},
   "source": [
    "## 例3\n",
    "\n",
    "$f = x^5 + 16x + 32$ の因数分解."
   ]
  },
  {
   "cell_type": "code",
   "execution_count": 38,
   "id": "24af85b2-a6d4-4154-837e-32afd11d670d",
   "metadata": {},
   "outputs": [
    {
     "data": {
      "text/latex": [
       "$\\displaystyle x^{5} + 16 x + 32$\n"
      ],
      "text/plain": [
       " 5            \n",
       "x  + 16*x + 32"
      ]
     },
     "execution_count": 38,
     "metadata": {},
     "output_type": "execute_result"
    }
   ],
   "source": [
    "FF = x^5 + 16x + 32"
   ]
  },
  {
   "cell_type": "markdown",
   "id": "2395e598-0fdc-40e0-8176-3dd313695694",
   "metadata": {},
   "source": [
    "既存の函数を使えば易しい."
   ]
  },
  {
   "cell_type": "code",
   "execution_count": 39,
   "id": "0ca2ad7b-95fb-486f-86f5-3054d941782f",
   "metadata": {},
   "outputs": [
    {
     "data": {
      "text/latex": [
       "$\\displaystyle \\left(x^{2} + 2 x + 4\\right) \\left(x^{3} - 2 x^{2} + 8\\right)$\n"
      ],
      "text/plain": [
       "/ 2          \\ / 3      2    \\\n",
       "\\x  + 2*x + 4/*\\x  - 2*x  + 8/"
      ]
     },
     "execution_count": 39,
     "metadata": {},
     "output_type": "execute_result"
    }
   ],
   "source": [
    "factor(FF)"
   ]
  },
  {
   "cell_type": "markdown",
   "id": "07e8b6d4-c18f-4585-9057-a4a5428506cd",
   "metadata": {},
   "source": [
    "係数を $P,Q,R,S,T$ に代入する."
   ]
  },
  {
   "cell_type": "code",
   "execution_count": 40,
   "id": "65d453b0-e174-457d-a9bf-4026368218b9",
   "metadata": {},
   "outputs": [
    {
     "data": {
      "text/latex": [
       "$\\left[ \\begin{array}{r}\\displaystyle 1\\\\\\displaystyle 0\\\\\\displaystyle 0\\\\\\displaystyle 0\\\\\\displaystyle 16\\\\\\displaystyle 32\\end{array} \\right]$\n"
      ],
      "text/plain": [
       "6-element Vector{Sym}:\n",
       "  1\n",
       "  0\n",
       "  0\n",
       "  0\n",
       " 16\n",
       " 32"
      ]
     },
     "execution_count": 40,
     "metadata": {},
     "output_type": "execute_result"
    }
   ],
   "source": [
    "_, P, Q, R, S, T = [FF.coeff(x, k) for k in 5:-1:0]"
   ]
  },
  {
   "cell_type": "markdown",
   "id": "22b021b7-7af2-43d5-8bb2-ac8234726640",
   "metadata": {},
   "source": [
    "最下段の方程式."
   ]
  },
  {
   "cell_type": "code",
   "execution_count": 41,
   "id": "65ef985c-67c2-4a18-893a-a39c1702019e",
   "metadata": {},
   "outputs": [
    {
     "data": {
      "text/latex": [
       "$\\displaystyle a^{3} - 2 a b + e$\n"
      ],
      "text/plain": [
       " 3            \n",
       "a  - 2*a*b + e"
      ]
     },
     "execution_count": 41,
     "metadata": {},
     "output_type": "execute_result"
    }
   ],
   "source": [
    "Eqlast = eqlast(p=>P, q=>Q, r=>R, s=>S, t=>T)"
   ]
  },
  {
   "cell_type": "code",
   "execution_count": 42,
   "id": "7da47ce0-5ab8-46c7-a559-5dc4aa36800e",
   "metadata": {},
   "outputs": [
    {
     "data": {
      "text/plain": [
       "12-element Vector{NamedTuple{(:b, :e, :eqlast), Tuple{Int64, Sym, Sym}}}:\n",
       " (b = 1, e = 32, eqlast = a^3 - 2*a + 32)\n",
       " (b = 2, e = 16, eqlast = a^3 - 4*a + 16)\n",
       " (b = 4, e = 8, eqlast = (a - 2)*(a^2 + 2*a - 4))\n",
       " (b = 8, e = 4, eqlast = a^3 - 16*a + 4)\n",
       " (b = 16, e = 2, eqlast = a^3 - 32*a + 2)\n",
       " (b = 32, e = 1, eqlast = a^3 - 64*a + 1)\n",
       " (b = -1, e = -32, eqlast = a^3 + 2*a - 32)\n",
       " (b = -2, e = -16, eqlast = (a - 2)*(a^2 + 2*a + 8))\n",
       " (b = -4, e = -8, eqlast = a^3 + 8*a - 8)\n",
       " (b = -8, e = -4, eqlast = a^3 + 16*a - 4)\n",
       " (b = -16, e = -2, eqlast = a^3 + 32*a - 2)\n",
       " (b = -32, e = -1, eqlast = a^3 + 64*a - 1)"
      ]
     },
     "execution_count": 42,
     "metadata": {},
     "output_type": "execute_result"
    }
   ],
   "source": [
    "[(B = k; E = T/k; (b=B, e=E, eqlast = Eqlast(b=>B, e=>E) |> factor)) for k in ((2 .^ (0:5))..., (-2 .^ (0:5))...)]"
   ]
  },
  {
   "cell_type": "code",
   "execution_count": 43,
   "id": "3e58b87c-4cbb-4a15-a1c3-1009bc73dbc9",
   "metadata": {},
   "outputs": [
    {
     "data": {
      "text/latex": [
       "$\\displaystyle 0$\n"
      ],
      "text/plain": [
       "0"
      ]
     },
     "execution_count": 43,
     "metadata": {},
     "output_type": "execute_result"
    }
   ],
   "source": [
    "BB, AA = 4, 2\n",
    "eq[end-1](a=>AA, b=>BB, d=>D(a=>AA, b=>BB, p=>P, q=>Q), e=>E(a=>AA, b=>BB, p=>P, q=>Q, r=>R, t=>T), s=>S)"
   ]
  },
  {
   "cell_type": "code",
   "execution_count": 44,
   "id": "36fcd873-8dc7-45f1-bece-d9eb6f007239",
   "metadata": {},
   "outputs": [
    {
     "data": {
      "text/latex": [
       "$\\displaystyle -67092$\n"
      ],
      "text/plain": [
       "-67092"
      ]
     },
     "execution_count": 44,
     "metadata": {},
     "output_type": "execute_result"
    }
   ],
   "source": [
    "BB, AA = -2, -16\n",
    "eq[end-1](a=>AA, b=>BB, d=>D(a=>AA, b=>BB, p=>P, q=>Q), e=>E(a=>AA, b=>BB, p=>P, q=>Q, r=>R, t=>T), s=>S)"
   ]
  },
  {
   "cell_type": "markdown",
   "id": "8cb3b847-8cca-49c5-a841-504994da80f3",
   "metadata": {},
   "source": [
    "解 $a = 2$, $b=4$ が見付かった."
   ]
  },
  {
   "cell_type": "code",
   "execution_count": 45,
   "id": "1acce335-5e2a-43d8-b173-4920666a4994",
   "metadata": {},
   "outputs": [
    {
     "data": {
      "text/plain": [
       "(-2, 0, 8)"
      ]
     },
     "execution_count": 45,
     "metadata": {},
     "output_type": "execute_result"
    }
   ],
   "source": [
    "AA, BB = 2, 4\n",
    "CC, DD, EE = C(a=>AA, b=>BB, p=>P), D(a=>AA, b=>BB, p=>P, q=>Q), E(a=>AA, b=>BB, p=>P, q=>Q, r=>R, t=>T)"
   ]
  },
  {
   "cell_type": "code",
   "execution_count": 46,
   "id": "a457dfd8-b6fc-407e-9236-0e3276175193",
   "metadata": {},
   "outputs": [
    {
     "data": {
      "text/latex": [
       "$\\displaystyle \\left(x^{2} + 2 x + 4\\right) \\left(x^{3} - 2 x^{2} + 8\\right)$\n"
      ],
      "text/plain": [
       "/ 2          \\ / 3      2    \\\n",
       "\\x  + 2*x + 4/*\\x  - 2*x  + 8/"
      ]
     },
     "execution_count": 46,
     "metadata": {},
     "output_type": "execute_result"
    }
   ],
   "source": [
    "sol = (x^2 + AA*x + BB)*(x^3 + CC*x^2 + DD*x + EE)"
   ]
  },
  {
   "cell_type": "code",
   "execution_count": 47,
   "id": "ac373687-98c3-404e-9a1a-61dcdb8eff04",
   "metadata": {},
   "outputs": [
    {
     "data": {
      "text/latex": [
       "$\\displaystyle 0$\n"
      ],
      "text/plain": [
       "0"
      ]
     },
     "execution_count": 47,
     "metadata": {},
     "output_type": "execute_result"
    }
   ],
   "source": [
    "sol - FF |> simplify"
   ]
  },
  {
   "cell_type": "code",
   "execution_count": null,
   "id": "b9bc0034-420a-4209-b2d3-e16548403cb9",
   "metadata": {},
   "outputs": [],
   "source": []
  }
 ],
 "metadata": {
  "jupytext": {
   "formats": "ipynb,jl:hydrogen"
  },
  "kernelspec": {
   "display_name": "Julia 1.9.0",
   "language": "julia",
   "name": "julia-1.9"
  },
  "language_info": {
   "file_extension": ".jl",
   "mimetype": "application/julia",
   "name": "julia",
   "version": "1.9.0"
  }
 },
 "nbformat": 4,
 "nbformat_minor": 5
}
