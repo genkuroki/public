{
 "cells": [
  {
   "cell_type": "code",
   "execution_count": 61,
   "id": "ce598b0b-0460-473a-9c09-0b9e328069ac",
   "metadata": {},
   "outputs": [
    {
     "data": {
      "text/plain": [
       "5-element Vector{NamedTuple{(:n, :f, :g), Tuple{Int64, Float64, Float64}}}:\n",
       " (n = 100000, f = 0.09530972526031706, g = 0.095)\n",
       " (n = 1000000, f = 0.009950325902674709, g = 0.00995)\n",
       " (n = 10000000, f = 0.0009995002831334838, g = 0.0009995)\n",
       " (n = 100000000, f = 9.999499983335819e-5, g = 9.999500000000001e-5)\n",
       " (n = 1000000000, f = 9.999949995333398e-6, g = 9.99995e-6)"
      ]
     },
     "execution_count": 61,
     "metadata": {},
     "output_type": "execute_result"
    }
   ],
   "source": [
    "f(n, m) = sum(1/k for k in n+1:n+m)\n",
    "g(n, m) = m/n - m^2/(2n^2)\n",
    "[\n",
    "    (n=n, f=f(n, 10^4), g=g(n, 10^4))\n",
    "    for n in 10 .^ (5:9)\n",
    "]"
   ]
  },
  {
   "cell_type": "code",
   "execution_count": null,
   "id": "04ba7c43-c7f8-4b45-9bae-f6eb33ad052d",
   "metadata": {},
   "outputs": [],
   "source": []
  }
 ],
 "metadata": {
  "kernelspec": {
   "display_name": "Julia 1.9.0",
   "language": "julia",
   "name": "julia-1.9"
  },
  "language_info": {
   "file_extension": ".jl",
   "mimetype": "application/julia",
   "name": "julia",
   "version": "1.9.0"
  }
 },
 "nbformat": 4,
 "nbformat_minor": 5
}
