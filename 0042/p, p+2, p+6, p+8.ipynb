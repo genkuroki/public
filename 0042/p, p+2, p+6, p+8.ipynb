{
 "cells": [
  {
   "cell_type": "code",
   "execution_count": 1,
   "id": "183d0bc2-997a-4e08-a75e-6ff2affca905",
   "metadata": {},
   "outputs": [],
   "source": [
    "using Primes"
   ]
  },
  {
   "cell_type": "code",
   "execution_count": 2,
   "id": "59bd589a-5c0a-4a99-94e1-871ee79b6a9e",
   "metadata": {
    "tags": []
   },
   "outputs": [
    {
     "data": {
      "text/plain": [
       "18-element Vector{NTuple{4, Int64}}:\n",
       " (11, 13, 17, 19)\n",
       " (101, 103, 107, 109)\n",
       " (191, 193, 197, 199)\n",
       " (821, 823, 827, 829)\n",
       " (1481, 1483, 1487, 1489)\n",
       " (1871, 1873, 1877, 1879)\n",
       " (2081, 2083, 2087, 2089)\n",
       " (3251, 3253, 3257, 3259)\n",
       " (3461, 3463, 3467, 3469)\n",
       " (5651, 5653, 5657, 5659)\n",
       " (9431, 9433, 9437, 9439)\n",
       " (13001, 13003, 13007, 13009)\n",
       " (15641, 15643, 15647, 15649)\n",
       " (15731, 15733, 15737, 15739)\n",
       " (16061, 16063, 16067, 16069)\n",
       " (18041, 18043, 18047, 18049)\n",
       " (18911, 18913, 18917, 18919)\n",
       " (19421, 19423, 19427, 19429)"
      ]
     },
     "execution_count": 2,
     "metadata": {},
     "output_type": "execute_result"
    }
   ],
   "source": [
    "N = 20000\n",
    "A = [(p, p+2, p+6, p+8) for p in primes(6, N) if isprime(p+2) && isprime(p+6) && isprime(p+8)]"
   ]
  },
  {
   "cell_type": "code",
   "execution_count": 3,
   "id": "506cf314-1c8c-4bd1-857d-bd35e48524ac",
   "metadata": {},
   "outputs": [
    {
     "data": {
      "text/plain": [
       "true"
      ]
     },
     "execution_count": 3,
     "metadata": {},
     "output_type": "execute_result"
    }
   ],
   "source": [
    "[mod(sum(a), 60) == 0 for a in A] |> all"
   ]
  },
  {
   "cell_type": "markdown",
   "id": "9e483f2b-1345-4b71-9d47-5e00200641f7",
   "metadata": {},
   "source": [
    "問題: $p$, $p+2$, $p+6$, $p+8$ が7以上の素数ならば, それら4つの素数の和が60で割り切れることを示せ."
   ]
  },
  {
   "cell_type": "code",
   "execution_count": null,
   "id": "619d8796-a30c-4e04-9eb6-c1ae712e6247",
   "metadata": {},
   "outputs": [],
   "source": []
  }
 ],
 "metadata": {
  "jupytext": {
   "formats": "ipynb,jl:hydrogen"
  },
  "kernelspec": {
   "display_name": "Julia 1.9.0",
   "language": "julia",
   "name": "julia-1.9"
  },
  "language_info": {
   "file_extension": ".jl",
   "mimetype": "application/julia",
   "name": "julia",
   "version": "1.9.0"
  }
 },
 "nbformat": 4,
 "nbformat_minor": 5
}
