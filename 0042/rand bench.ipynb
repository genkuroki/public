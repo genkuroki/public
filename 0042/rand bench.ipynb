{
 "cells": [
  {
   "cell_type": "code",
   "execution_count": 1,
   "id": "338d7640-a0b8-4f3f-b494-1543b927a235",
   "metadata": {},
   "outputs": [
    {
     "name": "stdout",
     "output_type": "stream",
     "text": [
      "Julia Version 1.9.0\n",
      "Commit 8e63055292 (2023-05-07 11:25 UTC)\n",
      "Platform Info:\n",
      "  OS: Windows (x86_64-w64-mingw32)\n",
      "  CPU: 12 × Intel(R) Core(TM) i7-10750H CPU @ 2.60GHz\n",
      "  WORD_SIZE: 64\n",
      "  LIBM: libopenlibm\n",
      "  LLVM: libLLVM-14.0.6 (ORCJIT, skylake)\n",
      "  Threads: 13 on 12 virtual cores\n",
      "Environment:\n",
      "  JULIA_DEPOT_PATH = D:\\.julia\n",
      "  JULIA_NUM_PRECOMPILE_TASKS = 4\n",
      "  JULIA_NUM_THREADS = 12\n",
      "  JULIA_PYTHONCALL_EXE = D:\\.julia\\conda\\3\\python.exe\n"
     ]
    }
   ],
   "source": [
    "using Random\n",
    "using BenchmarkTools\n",
    "versioninfo()"
   ]
  },
  {
   "cell_type": "code",
   "execution_count": 2,
   "id": "cc04339d-9671-4a7a-9028-fc1f964a74de",
   "metadata": {},
   "outputs": [
    {
     "name": "stdout",
     "output_type": "stream",
     "text": [
      "  481.443 ns (7 allocations: 512 bytes)\n",
      "  1.332 ms (2 allocations: 8.00 MiB)\n"
     ]
    }
   ],
   "source": [
    "rng = @btime Random.Xoshiro(4649373)\n",
    "@btime rand($rng, 2^20);"
   ]
  },
  {
   "cell_type": "code",
   "execution_count": 3,
   "id": "8c6ebe95-2603-493d-a9be-a9f2a9a6ca9a",
   "metadata": {},
   "outputs": [
    {
     "name": "stdout",
     "output_type": "stream",
     "text": [
      "  8.300 μs (12 allocations: 19.58 KiB)\n",
      "  1.251 ms (2 allocations: 8.00 MiB)\n"
     ]
    }
   ],
   "source": [
    "rng = @btime Random.MersenneTwister(4649373)\n",
    "@btime rand($rng, 2^20);"
   ]
  },
  {
   "cell_type": "code",
   "execution_count": 4,
   "id": "d9e55a3a-beb4-40b5-953a-0765d5bc7f9c",
   "metadata": {},
   "outputs": [
    {
     "name": "stdout",
     "output_type": "stream",
     "text": [
      "  480.311 ns (7 allocations: 512 bytes)\n",
      "  1.097 ms (2 allocations: 8.00 MiB)\n"
     ]
    }
   ],
   "source": [
    "rng = @btime Random.Xoshiro(4649373)\n",
    "@btime rand($rng, UInt64, 2^20);"
   ]
  },
  {
   "cell_type": "code",
   "execution_count": 5,
   "id": "fbce318c-1b8c-4897-8ed6-baed86896fec",
   "metadata": {},
   "outputs": [
    {
     "name": "stdout",
     "output_type": "stream",
     "text": [
      "  8.400 μs (12 allocations: 19.58 KiB)\n",
      "  2.046 ms (2 allocations: 8.00 MiB)\n"
     ]
    }
   ],
   "source": [
    "rng = @btime Random.MersenneTwister(4649373)\n",
    "@btime rand($rng, UInt64, 2^20);"
   ]
  },
  {
   "cell_type": "code",
   "execution_count": null,
   "id": "55eee2c7-b60e-4a8f-a015-3d47e93f89fc",
   "metadata": {},
   "outputs": [],
   "source": []
  }
 ],
 "metadata": {
  "jupytext": {
   "formats": "ipynb,jl:hydrogen"
  },
  "kernelspec": {
   "display_name": "Julia 1.9.0",
   "language": "julia",
   "name": "julia-1.9"
  },
  "language_info": {
   "file_extension": ".jl",
   "mimetype": "application/julia",
   "name": "julia",
   "version": "1.9.0"
  }
 },
 "nbformat": 4,
 "nbformat_minor": 5
}
