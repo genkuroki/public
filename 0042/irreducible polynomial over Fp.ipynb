{
 "cells": [
  {
   "cell_type": "code",
   "execution_count": 1,
   "id": "ee247cd3-1463-4f12-89f3-7fce5fb32a90",
   "metadata": {},
   "outputs": [
    {
     "data": {
      "text/plain": [
       "(x,)"
      ]
     },
     "execution_count": 1,
     "metadata": {},
     "output_type": "execute_result"
    }
   ],
   "source": [
    "using Primes\n",
    "using SymPy\n",
    "@vars x"
   ]
  },
  {
   "cell_type": "code",
   "execution_count": 2,
   "id": "0d6714cf-62f1-40b9-9b2e-ed473c5fc8fb",
   "metadata": {},
   "outputs": [
    {
     "name": "stdout",
     "output_type": "stream",
     "text": [
      "expr.factor() = x\n",
      "expr.factor() = x^2 - 3*x + 3\n",
      "expr.factor() = x^3 - 6*x^2 + 11*x - 5\n",
      "expr.factor() = (x^2 - 5*x + 5)^2\n",
      "expr.factor() = x^5 - 15*x^4 + 85*x^3 - 225*x^2 + 274*x - 119\n",
      "expr.factor() = x^6 - 21*x^5 + 175*x^4 - 735*x^3 + 1624*x^2 - 1764*x + 721\n",
      "expr.factor() = x^7 - 28*x^6 + 322*x^5 - 1960*x^4 + 6769*x^3 - 13132*x^2 + 13068*x - 5039\n",
      "expr.factor() = x^8 - 36*x^7 + 546*x^6 - 4536*x^5 + 22449*x^4 - 67284*x^3 + 118124*x^2 - 109584*x + 40321\n",
      "expr.factor() = x^9 - 45*x^8 + 870*x^7 - 9450*x^6 + 63273*x^5 - 269325*x^4 + 723680*x^3 - 1172700*x^2 + 1026576*x - 362879\n",
      "expr.factor() = x^10 - 55*x^9 + 1320*x^8 - 18150*x^7 + 157773*x^6 - 902055*x^5 + 3416930*x^4 - 8409500*x^3 + 12753576*x^2 - 10628640*x + 3628801\n"
     ]
    }
   ],
   "source": [
    "for n in 1:10\n",
    "    expr = prod(x - big(k) for k in 1:n) + 1\n",
    "    @show expr.factor()\n",
    "end"
   ]
  },
  {
   "cell_type": "code",
   "execution_count": 3,
   "id": "665a93d4-37ce-410e-a5b9-b492621cc781",
   "metadata": {},
   "outputs": [
    {
     "data": {
      "text/plain": [
       "allirredpolys (generic function with 3 methods)"
      ]
     },
     "execution_count": 3,
     "metadata": {},
     "output_type": "execute_result"
    }
   ],
   "source": [
    "function allirredpolys(d, p=2, x = symbols(\"x\"))\n",
    "    d == 1 && return Set(trunc(x+k, p) for k in 0:p-1)\n",
    "    \n",
    "    P = Set(trunc(evalpoly(x, (a..., 1)), p) for a in Iterators.product(fill(0:p-1, d)...))\n",
    "    \n",
    "    Q = [Set(trunc(evalpoly(x, (a..., 1)) * evalpoly(x, (b..., 1)), p)\n",
    "            for a in Iterators.product(fill(0:p-1, k)...), b in Iterators.product(fill(0:p-1, d-k)...))\n",
    "        for k in 1:(d ÷ 2)] |> splat(union)\n",
    "    setdiff(P, Q)\n",
    "end"
   ]
  },
  {
   "cell_type": "code",
   "execution_count": 4,
   "id": "a91573c4-b060-4859-8528-ac2c94fe4b6f",
   "metadata": {},
   "outputs": [
    {
     "data": {
      "text/plain": [
       "6-element Vector{Set{Sym}}:\n",
       " Set([x, x + 1])\n",
       " Set([x^2 + x + 1])\n",
       " Set([x^3 + x + 1, x^3 + x^2 + 1])\n",
       " Set([x^4 + x^3 + x^2 + x + 1, x^4 + x + 1, x^4 + x^3 + 1])\n",
       " Set([x^5 + x^4 + x^2 + x + 1, x^5 + x^4 + x^3 + x + 1, x^5 + x^2 + 1, x^5 + x^3 + x^2 + x + 1, x^5 + x^4 + x^3 + x^2 + 1, x^5 + x^3 + 1])\n",
       " Set([x^6 + x^3 + 1, x^6 + x^5 + x^4 + x + 1, x^6 + x^4 + x^3 + x + 1, x^6 + x^5 + x^3 + x^2 + 1, x^6 + x^5 + x^2 + x + 1, x^6 + x^5 + 1, x^6 + x^4 + x^2 + x + 1, x^6 + x^5 + x^4 + x^2 + 1, x^6 + x + 1])"
      ]
     },
     "execution_count": 4,
     "metadata": {},
     "output_type": "execute_result"
    }
   ],
   "source": [
    "[allirredpolys(d) for d in 1:6]"
   ]
  },
  {
   "cell_type": "code",
   "execution_count": 5,
   "id": "9956a757-0b0f-4708-b9ca-443cff3c0c1c",
   "metadata": {},
   "outputs": [
    {
     "data": {
      "text/plain": [
       "6-element Vector{Set{Sym}}:\n",
       " Set([x, x + 1, x - 1])\n",
       " Set([x^2 - x - 1, x^2 + 1, x^2 + x - 1])\n",
       " Set([x^3 + x^2 - 1, x^3 - x - 1, x^3 + x^2 - x + 1, x^3 + x^2 + x - 1, x^3 - x^2 - x - 1, x^3 - x^2 + x + 1, x^3 - x + 1, x^3 - x^2 + 1])\n",
       " Set([x^4 + x^2 - 1, x^4 + x^3 + x^2 + x + 1, x^4 + x^2 - x + 1, x^4 - x^3 + x^2 - x + 1, x^4 + x - 1, x^4 - x^3 - x^2 + x - 1, x^4 - x^3 - 1, x^4 + x^3 - x^2 - x - 1, x^4 - x^3 + x^2 + 1, x^4 + x^3 - x + 1, x^4 - x^3 + x + 1, x^4 - x^2 - 1, x^4 - x^3 + x^2 + x - 1, x^4 - x - 1, x^4 + x^2 + x + 1, x^4 + x^3 + x^2 + 1, x^4 + x^3 - 1, x^4 + x^3 + x^2 - x - 1])\n",
       " Set([x^5 + x^4 - 1, x^5 - x^4 - x - 1, x^5 + x^4 + x^2 - x - 1, x^5 - x^3 + x^2 + x - 1, x^5 + x^4 + x^3 + x^2 - x + 1, x^5 + x^4 + x^3 + x + 1, x^5 - x^4 + x^3 + x - 1, x^5 - x^4 + x^3 + x^2 + x - 1, x^5 - x^3 - x^2 + x + 1, x^5 - x^4 - x^3 + x^2 - 1  …  x^5 + x^4 - x^3 - x^2 - 1, x^5 - x^4 + x + 1, x^5 - x^4 - x^3 - x + 1, x^5 + x^4 + x^3 - x^2 + x + 1, x^5 - x^4 - x^2 - 1, x^5 - x^4 + x^3 - x^2 - x - 1, x^5 + x^4 + x - 1, x^5 + x^4 - x + 1, x^5 + x^4 - x^3 + 1, x^5 - x^4 - x^3 - 1])\n",
       " Set([x^6 - x^4 - x^3 + x^2 + x + 1, x^6 - x^5 + x^3 - x^2 + 1, x^6 - x^5 - x^3 + x^2 - x - 1, x^6 - x^5 - x^4 + x^2 + x + 1, x^6 + x^5 - x^3 - x^2 - 1, x^6 + x^3 - x^2 - x + 1, x^6 + x^5 + x^4 - x^3 - x^2 - x - 1, x^6 + x^5 + x - 1, x^6 - x^5 - x^4 - x^3 - x^2 - x - 1, x^6 + x^5 + x^3 + x + 1  …  x^6 - x^4 - x^3 + x^2 - x - 1, x^6 - x^5 + x^4 - x^2 + x + 1, x^6 + x^5 - x^4 + x^3 - x^2 - x + 1, x^6 - x^4 + x^2 + x - 1, x^6 + x^5 - 1, x^6 + x^4 + x^3 + 1, x^6 - x^3 - x - 1, x^6 - x^5 - x^3 - x^2 - x - 1, x^6 + x^5 - x^4 - x^3 + x^2 - x - 1, x^6 - x^4 + x^2 + 1])"
      ]
     },
     "execution_count": 5,
     "metadata": {},
     "output_type": "execute_result"
    }
   ],
   "source": [
    "[allirredpolys(d, 3) for d in 1:6]"
   ]
  },
  {
   "cell_type": "code",
   "execution_count": 6,
   "id": "9fcede8e-dc99-447a-9c97-556812d893c1",
   "metadata": {},
   "outputs": [
    {
     "data": {
      "text/latex": [
       "$x^{5} - 15 x^{4} + 85 x^{3} - 225 x^{2} + 274 x - 119$"
      ],
      "text/plain": [
       " 5       4       3        2              \n",
       "x  - 15*x  + 85*x  - 225*x  + 274*x - 119"
      ]
     },
     "execution_count": 6,
     "metadata": {},
     "output_type": "execute_result"
    }
   ],
   "source": [
    "f5 = prod(x - k for k in 1:5) + 1 |> expand"
   ]
  },
  {
   "cell_type": "code",
   "execution_count": 7,
   "id": "676447aa-03de-4df9-8e15-5659acdaec08",
   "metadata": {},
   "outputs": [
    {
     "data": {
      "text/plain": [
       "-119"
      ]
     },
     "execution_count": 7,
     "metadata": {},
     "output_type": "execute_result"
    }
   ],
   "source": [
    "c = f5(x=>0) |> N"
   ]
  },
  {
   "cell_type": "code",
   "execution_count": 8,
   "id": "1cd3051f-24db-44a4-ba8a-2a1f78a27a4f",
   "metadata": {},
   "outputs": [
    {
     "data": {
      "text/plain": [
       "-1 * 7 * 17"
      ]
     },
     "execution_count": 8,
     "metadata": {},
     "output_type": "execute_result"
    }
   ],
   "source": [
    "Primes.factor(c)"
   ]
  },
  {
   "cell_type": "code",
   "execution_count": 9,
   "id": "0cab40f6-8e1c-4f89-9c78-c218189b0de5",
   "metadata": {},
   "outputs": [
    {
     "data": {
      "text/latex": [
       "$x^{5} + x^{4} + x^{3} + x^{2} + 1$"
      ],
      "text/plain": [
       " 5    4    3    2    \n",
       "x  + x  + x  + x  + 1"
      ]
     },
     "execution_count": 9,
     "metadata": {},
     "output_type": "execute_result"
    }
   ],
   "source": [
    "sympy.factor(trunc(f5, 2), modulus=2)"
   ]
  },
  {
   "cell_type": "code",
   "execution_count": 10,
   "id": "7fd94c05-b15f-4a16-afa4-95cd28df314a",
   "metadata": {},
   "outputs": [
    {
     "data": {
      "text/latex": [
       "$x^{6} - 21 x^{5} + 175 x^{4} - 735 x^{3} + 1624 x^{2} - 1764 x + 721$"
      ],
      "text/plain": [
       " 6       5        4        3         2               \n",
       "x  - 21*x  + 175*x  - 735*x  + 1624*x  - 1764*x + 721"
      ]
     },
     "execution_count": 10,
     "metadata": {},
     "output_type": "execute_result"
    }
   ],
   "source": [
    "f6 = prod(x - k for k in 1:6) + 1 |> expand"
   ]
  },
  {
   "cell_type": "code",
   "execution_count": 11,
   "id": "d417bd86-ef00-4214-a3dc-3a904f274f33",
   "metadata": {},
   "outputs": [
    {
     "data": {
      "text/plain": [
       "721"
      ]
     },
     "execution_count": 11,
     "metadata": {},
     "output_type": "execute_result"
    }
   ],
   "source": [
    "c = f6(x=>0) |> N"
   ]
  },
  {
   "cell_type": "code",
   "execution_count": 12,
   "id": "3dfcd948-62e0-40bf-90ce-ef387a12191c",
   "metadata": {},
   "outputs": [
    {
     "data": {
      "text/plain": [
       "7 * 103"
      ]
     },
     "execution_count": 12,
     "metadata": {},
     "output_type": "execute_result"
    }
   ],
   "source": [
    "Primes.factor(c)"
   ]
  },
  {
   "cell_type": "code",
   "execution_count": 13,
   "id": "53984491-5184-4f51-9ae7-5a7563172b10",
   "metadata": {},
   "outputs": [
    {
     "data": {
      "text/latex": [
       "$x^{6}$"
      ],
      "text/plain": [
       " 6\n",
       "x "
      ]
     },
     "execution_count": 13,
     "metadata": {},
     "output_type": "execute_result"
    }
   ],
   "source": [
    "trunc(f6, 7)"
   ]
  },
  {
   "cell_type": "code",
   "execution_count": 14,
   "id": "94717e3f-bafc-4169-9505-c47ff0b2063c",
   "metadata": {},
   "outputs": [
    {
     "data": {
      "text/latex": [
       "$\\left[ \\begin{array}{r}\\left(x^{2} + x + 1\\right) \\left(x^{4} + x + 1\\right)\\\\\\left(x^{2} + 1\\right) \\left(x^{2} - x - 1\\right) \\left(x^{2} + x - 1\\right)\\\\\\left(x^{2} - 2 x - 2\\right) \\left(x^{4} + x^{3} - x^{2} + 2\\right)\\\\x^{6}\\\\x^{6} + x^{5} - x^{4} + 2 x^{3} - 4 x^{2} - 4 x - 5\\\\x^{6} + 5 x^{5} + 6 x^{4} + 6 x^{3} - x^{2} + 4 x + 6\\\\\\left(x^{3} - 5 x^{2} - 8 x - 1\\right) \\left(x^{3} + x^{2} + x - 7\\right)\\\\\\left(x^{2} - 7 x + 3\\right) \\left(x^{4} + 5 x^{3} - 2 x^{2} - 4 x + 6\\right)\\\\\\left(x + 8\\right)^{2} \\left(x^{2} - 10 x - 3\\right) \\left(x^{2} - 4 x - 1\\right)\\\\\\left(x^{3} - x^{2} + 11 x - 7\\right) \\left(x^{3} + 9 x^{2} - x + 13\\right)\\\\\\left(x - 10\\right) \\left(x + 3\\right) \\left(x^{4} - 14 x^{3} + 14 x^{2} - 3 x + 8\\right)\\\\x^{6} + 16 x^{5} - 10 x^{4} + 5 x^{3} - 4 x^{2} + 12 x + 18\\\\\\left(x^{2} - 7 x - 9\\right) \\left(x^{2} + 12 x - 11\\right) \\left(x^{2} + 15 x - 1\\right)\\\\x^{6} - 21 x^{5} + 3 x^{4} - 4 x^{3} - 10 x^{2} - x - 10\\\\x^{6} - 21 x^{5} - 13 x^{4} + 17 x^{3} - 21 x^{2} + 22 x + 16\\\\\\left(x^{2} - 7 x - 23\\right)^{2} \\left(x^{2} - 7 x + 21\\right)\\\\x^{6} - 21 x^{5} - 2 x^{4} - 27 x^{3} - 28 x^{2} + 6 x + 13\\\\\\left(x^{2} - 7 x - 5\\right) \\left(x^{4} - 14 x^{3} + 21 x^{2} + 13 x - 10\\right)\\\\\\left(x - 28\\right) \\left(x + 21\\right) \\left(x^{4} - 14 x^{3} - 5 x^{2} - 24 x - 10\\right)\\\\\\left(x - 8\\right) \\left(x + 1\\right) \\left(x^{2} - 29 x - 18\\right) \\left(x^{2} + 15 x - 30\\right)\\\\\\left(x - 19\\right) \\left(x + 12\\right) \\left(x^{4} - 14 x^{3} + 13 x^{2} + 33 x + 1\\right)\\\\\\left(x - 20\\right) \\left(x + 13\\right) \\left(x^{4} - 14 x^{3} + 21 x^{2} + 38 x + 3\\right)\\\\\\left(x - 17\\right) \\left(x + 10\\right) \\left(x^{2} - 11 x + 38\\right) \\left(x^{2} - 3 x + 10\\right)\\\\\\left(x^{3} + 29 x^{2} + 2 x + 10\\right) \\left(x^{3} + 39 x^{2} + 21 x - 8\\right)\\\\\\left(x - 43\\right) \\left(x + 36\\right) \\left(x^{2} - 7 x - 40\\right) \\left(x^{2} - 7 x - 33\\right)\\\\\\left(x^{2} - 47 x + 34\\right) \\left(x^{2} - 7 x + 22\\right) \\left(x^{2} + 33 x - 44\\right)\\\\x \\left(x - 7\\right) \\left(x^{2} - 45 x + 45\\right) \\left(x^{2} + 31 x - 15\\right)\\end{array} \\right]$\n"
      ],
      "text/plain": [
       "27-element Vector{Sym}:\n",
       "                          (x^2 + x + 1)*(x^4 + x + 1)\n",
       "                (x^2 + 1)*(x^2 - x - 1)*(x^2 + x - 1)\n",
       "                (x^2 - 2*x - 2)*(x^4 + x^3 - x^2 + 2)\n",
       "                                                  x^6\n",
       "            x^6 + x^5 - x^4 + 2*x^3 - 4*x^2 - 4*x - 5\n",
       "          x^6 + 5*x^5 + 6*x^4 + 6*x^3 - x^2 + 4*x + 6\n",
       "          (x^3 - 5*x^2 - 8*x - 1)*(x^3 + x^2 + x - 7)\n",
       "      (x^2 - 7*x + 3)*(x^4 + 5*x^3 - 2*x^2 - 4*x + 6)\n",
       "           (x + 8)^2*(x^2 - 10*x - 3)*(x^2 - 4*x - 1)\n",
       "        (x^3 - x^2 + 11*x - 7)*(x^3 + 9*x^2 - x + 13)\n",
       "   (x - 10)*(x + 3)*(x^4 - 14*x^3 + 14*x^2 - 3*x + 8)\n",
       "    x^6 + 16*x^5 - 10*x^4 + 5*x^3 - 4*x^2 + 12*x + 18\n",
       "   (x^2 - 7*x - 9)*(x^2 + 12*x - 11)*(x^2 + 15*x - 1)\n",
       "                                                    ⋮\n",
       "                  (x^2 - 7*x - 23)^2*(x^2 - 7*x + 21)\n",
       "    x^6 - 21*x^5 - 2*x^4 - 27*x^3 - 28*x^2 + 6*x + 13\n",
       "  (x^2 - 7*x - 5)*(x^4 - 14*x^3 + 21*x^2 + 13*x - 10)\n",
       " (x - 28)*(x + 21)*(x^4 - 14*x^3 - 5*x^2 - 24*x - 10)\n",
       "  (x - 8)*(x + 1)*(x^2 - 29*x - 18)*(x^2 + 15*x - 30)\n",
       " (x - 19)*(x + 12)*(x^4 - 14*x^3 + 13*x^2 + 33*x + 1)\n",
       " (x - 20)*(x + 13)*(x^4 - 14*x^3 + 21*x^2 + 38*x + 3)\n",
       " (x - 17)*(x + 10)*(x^2 - 11*x + 38)*(x^2 - 3*x + 10)\n",
       "  (x^3 + 29*x^2 + 2*x + 10)*(x^3 + 39*x^2 + 21*x - 8)\n",
       "  (x - 43)*(x + 36)*(x^2 - 7*x - 40)*(x^2 - 7*x - 33)\n",
       " (x^2 - 47*x + 34)*(x^2 - 7*x + 22)*(x^2 + 33*x - 44)\n",
       "        x*(x - 7)*(x^2 - 45*x + 45)*(x^2 + 31*x - 15)"
      ]
     },
     "execution_count": 14,
     "metadata": {},
     "output_type": "execute_result"
    }
   ],
   "source": [
    "[sympy.factor(trunc(f6, p), modulus=p) for p in primes(103)]"
   ]
  },
  {
   "cell_type": "code",
   "execution_count": 15,
   "id": "8e47e027-d0ee-4195-b7c5-23b594c68efd",
   "metadata": {},
   "outputs": [
    {
     "data": {
      "text/plain": [
       "allirredpolys_slow (generic function with 3 methods)"
      ]
     },
     "execution_count": 15,
     "metadata": {},
     "output_type": "execute_result"
    }
   ],
   "source": [
    "function isirreducible_slow(f, p=2, x=symbols(\"x\"))\n",
    "    fx = f(x)\n",
    "    n = degree(fx, x) |> N\n",
    "    sympy.rem(x^p^n - x, fx, modulus=p) != 0 && return false\n",
    "    for t in 2:n\n",
    "        mod(n, t) == 0 || continue\n",
    "        Primes.isprime(t) || continue\n",
    "        gcd(x^p^(n ÷ t) - x, fx, modulus=p) == 1 || return false\n",
    "    end\n",
    "    true\n",
    "end\n",
    "\n",
    "allpolys(d, p=2, x=symbols(\"x\")) = (trunc(evalpoly(x, (a..., 1)), p) for a in Iterators.product(fill(0:p-1, d)...))\n",
    "\n",
    "allirredpolys_slow(d, p=2, x=symbols(\"x\")) = [f for f in allpolys(d, p, x) if isirreducible_slow(f, p, x)]"
   ]
  },
  {
   "cell_type": "code",
   "execution_count": 16,
   "id": "61b34990-6633-421f-a3bb-555be56d23df",
   "metadata": {},
   "outputs": [
    {
     "data": {
      "text/plain": [
       "true"
      ]
     },
     "execution_count": 16,
     "metadata": {},
     "output_type": "execute_result"
    }
   ],
   "source": [
    "[allirredpolys_slow(d) |> Set for d in 1:6] == [allirredpolys(d) for d in 1:6]"
   ]
  },
  {
   "cell_type": "code",
   "execution_count": 17,
   "id": "3e0a94a2-6abd-4f4c-8b57-32b7235fb4cc",
   "metadata": {},
   "outputs": [
    {
     "data": {
      "text/plain": [
       "true"
      ]
     },
     "execution_count": 17,
     "metadata": {},
     "output_type": "execute_result"
    }
   ],
   "source": [
    "[allirredpolys_slow(d, 3) |> Set for d in 1:4] == [allirredpolys(d, 3) for d in 1:4]"
   ]
  },
  {
   "cell_type": "code",
   "execution_count": 18,
   "id": "b64d9e08-da70-4af2-8be6-bcb192730167",
   "metadata": {},
   "outputs": [
    {
     "name": "stdout",
     "output_type": "stream",
     "text": [
      "  8.593638 seconds (135.50 k allocations: 4.408 MiB)\n",
      "  0.632971 seconds (77.03 k allocations: 2.593 MiB)\n"
     ]
    },
    {
     "data": {
      "text/plain": [
       "true"
      ]
     },
     "execution_count": 18,
     "metadata": {},
     "output_type": "execute_result"
    }
   ],
   "source": [
    "X = @time allirredpolys_slow(5, 3) |> Set\n",
    "Y = @time allirredpolys(5, 3)\n",
    "X == Y"
   ]
  },
  {
   "cell_type": "code",
   "execution_count": 19,
   "id": "758eb7c4-729e-4472-ac24-1aa21a28d1c6",
   "metadata": {},
   "outputs": [
    {
     "data": {
      "text/plain": [
       "Set{Sym} with 48 elements:\n",
       "  x^5 + x^4 + x^3 + x + 1\n",
       "  x^5 - x^4 + x + 1\n",
       "  x^5 + x^3 + x + 1\n",
       "  x^5 - x^4 + x^3 + x - 1\n",
       "  x^5 + x^3 + x - 1\n",
       "  x^5 - x^3 + x^2 + 1\n",
       "  x^5 - x^4 + x^3 + x^2 + x + 1\n",
       "  x^5 - x^4 - x^3 - x + 1\n",
       "  x^5 + x^4 - x^3 + x^2 + x + 1\n",
       "  x^5 + x^4 + x^3 - x^2 + x + 1\n",
       "  x^5 - x^4 + 1\n",
       "  x^5 - x^3 + x^2 - x - 1\n",
       "  x^5 - x^3 - x^2 - 1\n",
       "  x^5 + x^2 + x - 1\n",
       "  x^5 - x^4 - x^2 - 1\n",
       "  x^5 - x^4 - x^3 - x^2 + 1\n",
       "  x^5 - x + 1\n",
       "  x^5 - x^4 + x^3 + x^2 + x - 1\n",
       "  x^5 - x^3 - x^2 - x + 1\n",
       "  x^5 - x^3 - x^2 + x + 1\n",
       "  x^5 + x^4 - 1\n",
       "  x^5 - x^4 - x^3 + x^2 + 1\n",
       "  x^5 + x^3 - x^2 + 1\n",
       "  x^5 + x^4 + x^3 - x^2 + x - 1\n",
       "  x^5 - x^4 - x - 1\n",
       "  ⋮ "
      ]
     },
     "execution_count": 19,
     "metadata": {},
     "output_type": "execute_result"
    }
   ],
   "source": [
    "X"
   ]
  },
  {
   "cell_type": "code",
   "execution_count": 20,
   "id": "1e774a2a-28c3-4f63-ae29-b701e3ef929c",
   "metadata": {},
   "outputs": [
    {
     "data": {
      "text/latex": [
       "$\\left[ \\begin{array}{r}x^{5} + x^{4} + x^{3} + x + 1\\\\x^{5} - x^{4} + x + 1\\\\x^{5} + x^{3} + x + 1\\\\x^{5} - x^{4} + x^{3} + x - 1\\\\x^{5} + x^{3} + x - 1\\\\x^{5} - x^{3} + x^{2} + 1\\\\x^{5} - x^{4} + x^{3} + x^{2} + x + 1\\\\x^{5} - x^{4} - x^{3} - x + 1\\\\x^{5} + x^{4} - x^{3} + x^{2} + x + 1\\\\x^{5} + x^{4} + x^{3} - x^{2} + x + 1\\\\x^{5} - x^{4} + 1\\\\x^{5} - x^{3} + x^{2} - x - 1\\\\x^{5} - x^{3} - x^{2} - 1\\\\x^{5} + x^{2} + x - 1\\\\x^{5} - x^{4} - x^{2} - 1\\\\x^{5} - x^{4} - x^{3} - x^{2} + 1\\\\x^{5} - x + 1\\\\x^{5} - x^{4} + x^{3} + x^{2} + x - 1\\\\x^{5} - x^{3} - x^{2} - x + 1\\\\x^{5} - x^{3} - x^{2} + x + 1\\\\x^{5} + x^{4} - 1\\\\x^{5} - x^{4} - x^{3} + x^{2} + 1\\\\x^{5} + x^{3} - x^{2} + 1\\\\x^{5} + x^{4} + x^{3} - x^{2} + x - 1\\\\x^{5} - x^{4} - x - 1\\\\x^{5} + x^{4} + x^{2} + x + 1\\\\x^{5} - x^{4} - x^{2} - x + 1\\\\x^{5} + x^{4} + x^{2} + 1\\\\x^{5} + x^{4} + x^{2} - x - 1\\\\x^{5} + x^{4} - x^{3} - x^{2} + 1\\\\x^{5} - x^{4} - x^{2} + x - 1\\\\x^{5} - x^{2} + x + 1\\\\x^{5} - x^{4} - x^{3} + x^{2} - 1\\\\x^{5} - x^{4} + x^{3} - x^{2} - x - 1\\\\x^{5} + x^{4} + x - 1\\\\x^{5} + x^{3} - x^{2} - x + 1\\\\x^{5} - x^{3} + x^{2} + x - 1\\\\x^{5} + x^{3} + x^{2} - 1\\\\x^{5} + x^{4} - x + 1\\\\x^{5} + x^{4} - x^{3} - x - 1\\\\x^{5} + x^{4} - x^{3} + 1\\\\x^{5} + x^{3} + x^{2} - x - 1\\\\x^{5} + x^{4} + x^{3} + x^{2} - x + 1\\\\x^{5} + x^{4} - x^{3} + x^{2} - 1\\\\x^{5} - x^{4} - x^{3} - 1\\\\x^{5} - x - 1\\\\x^{5} + x^{4} - x^{3} - x^{2} - 1\\\\x^{5} - x^{4} - x^{3} - x^{2} + x - 1\\end{array} \\right]$\n"
      ],
      "text/plain": [
       "48-element Vector{Sym}:\n",
       "       x^5 + x^4 + x^3 + x + 1\n",
       "             x^5 - x^4 + x + 1\n",
       "             x^5 + x^3 + x + 1\n",
       "       x^5 - x^4 + x^3 + x - 1\n",
       "             x^5 + x^3 + x - 1\n",
       "           x^5 - x^3 + x^2 + 1\n",
       " x^5 - x^4 + x^3 + x^2 + x + 1\n",
       "       x^5 - x^4 - x^3 - x + 1\n",
       " x^5 + x^4 - x^3 + x^2 + x + 1\n",
       " x^5 + x^4 + x^3 - x^2 + x + 1\n",
       "                 x^5 - x^4 + 1\n",
       "       x^5 - x^3 + x^2 - x - 1\n",
       "           x^5 - x^3 - x^2 - 1\n",
       "                             ⋮\n",
       "       x^5 - x^3 + x^2 + x - 1\n",
       "           x^5 + x^3 + x^2 - 1\n",
       "             x^5 + x^4 - x + 1\n",
       "       x^5 + x^4 - x^3 - x - 1\n",
       "           x^5 + x^4 - x^3 + 1\n",
       "       x^5 + x^3 + x^2 - x - 1\n",
       " x^5 + x^4 + x^3 + x^2 - x + 1\n",
       "     x^5 + x^4 - x^3 + x^2 - 1\n",
       "           x^5 - x^4 - x^3 - 1\n",
       "                   x^5 - x - 1\n",
       "     x^5 + x^4 - x^3 - x^2 - 1\n",
       " x^5 - x^4 - x^3 - x^2 + x - 1"
      ]
     },
     "execution_count": 20,
     "metadata": {},
     "output_type": "execute_result"
    }
   ],
   "source": [
    "XX = collect(X)"
   ]
  },
  {
   "cell_type": "code",
   "execution_count": 21,
   "id": "3a3ed691-3df0-46e4-a86e-a86fd2da28f9",
   "metadata": {},
   "outputs": [
    {
     "name": "stdout",
     "output_type": "stream",
     "text": [
      "  0.192702 seconds (62.80 k allocations: 3.903 MiB, 74.43% compilation time)\n"
     ]
    },
    {
     "data": {
      "text/plain": [
       "true"
      ]
     },
     "execution_count": 21,
     "metadata": {},
     "output_type": "execute_result"
    }
   ],
   "source": [
    "@time isirreducible_slow(XX[1], 3)"
   ]
  },
  {
   "cell_type": "code",
   "execution_count": 22,
   "id": "c9df1df4-b1e5-4d81-afc3-1895caa93026",
   "metadata": {},
   "outputs": [
    {
     "data": {
      "text/latex": [
       "$\\left(x - 5\\right) \\left(x - 4\\right) \\left(x - 3\\right) \\left(x - 2\\right) \\left(x - 1\\right) + 1$"
      ],
      "text/plain": [
       "(x - 5)*(x - 4)*(x - 3)*(x - 2)*(x - 1) + 1"
      ]
     },
     "execution_count": 22,
     "metadata": {},
     "output_type": "execute_result"
    }
   ],
   "source": [
    "f5 = prod(x - k for k in 1:5) + 1"
   ]
  },
  {
   "cell_type": "code",
   "execution_count": 23,
   "id": "f398b184-7b3b-44b6-9f15-5b5d8a2358d1",
   "metadata": {},
   "outputs": [
    {
     "data": {
      "text/latex": [
       "$x^{5} - 15 x^{4} + 85 x^{3} - 225 x^{2} + 274 x - 119$"
      ],
      "text/plain": [
       " 5       4       3        2              \n",
       "x  - 15*x  + 85*x  - 225*x  + 274*x - 119"
      ]
     },
     "execution_count": 23,
     "metadata": {},
     "output_type": "execute_result"
    }
   ],
   "source": [
    "f5 = f5 |> expand"
   ]
  },
  {
   "cell_type": "code",
   "execution_count": 24,
   "id": "bd5d682c-939d-4a46-931a-a6d2a8fbc210",
   "metadata": {},
   "outputs": [
    {
     "data": {
      "text/latex": [
       "$x^{5} + x^{4} + x^{3} + x^{2} + 1$"
      ],
      "text/plain": [
       " 5    4    3    2    \n",
       "x  + x  + x  + x  + 1"
      ]
     },
     "execution_count": 24,
     "metadata": {},
     "output_type": "execute_result"
    }
   ],
   "source": [
    "f5mod2 = trunc(f5, 2)"
   ]
  },
  {
   "cell_type": "code",
   "execution_count": 25,
   "id": "074e0a56-f00b-48ad-8390-0b5a6db600ff",
   "metadata": {},
   "outputs": [
    {
     "data": {
      "text/latex": [
       "$0$"
      ],
      "text/plain": [
       "0"
      ]
     },
     "execution_count": 25,
     "metadata": {},
     "output_type": "execute_result"
    }
   ],
   "source": [
    "sympy.rem(x^2^5 - x, f5mod2, modulus=2)"
   ]
  },
  {
   "cell_type": "code",
   "execution_count": 26,
   "id": "6ff76b73-efa0-4042-a2da-e63d458c6400",
   "metadata": {},
   "outputs": [
    {
     "data": {
      "text/latex": [
       "$1$"
      ],
      "text/plain": [
       "1"
      ]
     },
     "execution_count": 26,
     "metadata": {},
     "output_type": "execute_result"
    }
   ],
   "source": [
    "sympy.gcd(x^2 - x, f5mod2, modulus=2)"
   ]
  },
  {
   "cell_type": "markdown",
   "id": "394b842a-2be4-4d1a-8e0f-f0016137c303",
   "metadata": {},
   "source": [
    "Thus $f_5\\operatorname{mod}2$ is irreducible over $\\Bbb{F}_2$.  Therefore $f_5$ is irreducible over $\\Bbb{Q}$."
   ]
  },
  {
   "cell_type": "code",
   "execution_count": 27,
   "id": "52ce66c1-ba5a-4596-8eea-e87e783fed6f",
   "metadata": {},
   "outputs": [
    {
     "data": {
      "text/latex": [
       "$\\left(x - 6\\right) \\left(x - 5\\right) \\left(x - 4\\right) \\left(x - 3\\right) \\left(x - 2\\right) \\left(x - 1\\right) + 1$"
      ],
      "text/plain": [
       "(x - 6)*(x - 5)*(x - 4)*(x - 3)*(x - 2)*(x - 1) + 1"
      ]
     },
     "execution_count": 27,
     "metadata": {},
     "output_type": "execute_result"
    }
   ],
   "source": [
    "f6 = prod(x - k for k in 1:6) + 1"
   ]
  },
  {
   "cell_type": "code",
   "execution_count": 28,
   "id": "6e7a25b5-61f7-4cd8-a06c-844c29f336c1",
   "metadata": {},
   "outputs": [
    {
     "data": {
      "text/latex": [
       "$x^{6} - 21 x^{5} + 175 x^{4} - 735 x^{3} + 1624 x^{2} - 1764 x + 721$"
      ],
      "text/plain": [
       " 6       5        4        3         2               \n",
       "x  - 21*x  + 175*x  - 735*x  + 1624*x  - 1764*x + 721"
      ]
     },
     "execution_count": 28,
     "metadata": {},
     "output_type": "execute_result"
    }
   ],
   "source": [
    "f6 = f6 |> expand"
   ]
  },
  {
   "cell_type": "code",
   "execution_count": 29,
   "id": "3b3ecb74-afe5-4127-b0bc-865c668efb36",
   "metadata": {},
   "outputs": [
    {
     "data": {
      "text/latex": [
       "$x^{6}$"
      ],
      "text/plain": [
       " 6\n",
       "x "
      ]
     },
     "execution_count": 29,
     "metadata": {},
     "output_type": "execute_result"
    }
   ],
   "source": [
    "f6mod7 = trunc(f6, 7)"
   ]
  },
  {
   "cell_type": "code",
   "execution_count": 30,
   "id": "6614cd42-2ad5-4f5c-8cb9-747714c5ac2d",
   "metadata": {},
   "outputs": [
    {
     "data": {
      "text/plain": [
       "7 * 103"
      ]
     },
     "execution_count": 30,
     "metadata": {},
     "output_type": "execute_result"
    }
   ],
   "source": [
    "Primes.factor(N(f6(0)))"
   ]
  },
  {
   "cell_type": "markdown",
   "id": "345fdf69-7552-4f8f-b113-ca6a1101e172",
   "metadata": {},
   "source": [
    "It follows from Eisenstein's criterion of irreducibility that $f_6$ is irreducible over $\\Bbb{Z}$"
   ]
  },
  {
   "cell_type": "code",
   "execution_count": 31,
   "id": "6839ede8-d2f2-4ec0-8671-725cf98a6f42",
   "metadata": {},
   "outputs": [
    {
     "data": {
      "text/latex": [
       "$x^{6} + x^{5} - x^{4} + 2 x^{3} - 4 x^{2} - 4 x - 5$"
      ],
      "text/plain": [
       " 6    5    4      3      2          \n",
       "x  + x  - x  + 2*x  - 4*x  - 4*x - 5"
      ]
     },
     "execution_count": 31,
     "metadata": {},
     "output_type": "execute_result"
    }
   ],
   "source": [
    "f6mod11 = trunc(f6, 11)"
   ]
  },
  {
   "cell_type": "code",
   "execution_count": 32,
   "id": "747fc9e8-bb58-4218-843d-af4bc26d8232",
   "metadata": {},
   "outputs": [
    {
     "data": {
      "text/latex": [
       "$0$"
      ],
      "text/plain": [
       "0"
      ]
     },
     "execution_count": 32,
     "metadata": {},
     "output_type": "execute_result"
    }
   ],
   "source": [
    "d = 6\n",
    "p = 11\n",
    "f6modp = trunc(f6, p)\n",
    "n = p^d\n",
    "k = n\n",
    "expr = Sym(1)\n",
    "xpow = x\n",
    "for i in 0:floor(Int, log2(n))\n",
    "    if isodd(k)\n",
    "        expr = trunc(sympy.rem(expr * xpow, f6modp), p)\n",
    "    end\n",
    "    xpow = trunc(sympy.rem(xpow^2, f6modp), p)\n",
    "    k = k ÷ 2\n",
    "end\n",
    "expr - x"
   ]
  },
  {
   "cell_type": "code",
   "execution_count": 33,
   "id": "8cc84a57-f508-46fd-a008-3fbe51c65429",
   "metadata": {},
   "outputs": [
    {
     "data": {
      "text/latex": [
       "$- 2 x - 4$"
      ],
      "text/plain": [
       "-2*x - 4"
      ]
     },
     "execution_count": 33,
     "metadata": {},
     "output_type": "execute_result"
    }
   ],
   "source": [
    "d = 6\n",
    "p = 11\n",
    "f6modp = trunc(f6, p)\n",
    "n = p^(d ÷ 2)\n",
    "k = n\n",
    "expr = Sym(1)\n",
    "xpow = x\n",
    "for i in 0:floor(Int, log2(n))\n",
    "    if isodd(k)\n",
    "        expr = trunc(sympy.rem(expr * xpow, f6modp), p)\n",
    "    end\n",
    "    xpow = trunc(sympy.rem(xpow^2, f6modp), p)\n",
    "    k = k ÷ 2\n",
    "end\n",
    "g1 = trunc(expr - x, p)"
   ]
  },
  {
   "cell_type": "code",
   "execution_count": 34,
   "id": "fba00898-1c51-438f-8f90-0b9fd153f6a0",
   "metadata": {},
   "outputs": [
    {
     "data": {
      "text/latex": [
       "$-2$"
      ],
      "text/plain": [
       "-2"
      ]
     },
     "execution_count": 34,
     "metadata": {},
     "output_type": "execute_result"
    }
   ],
   "source": [
    "g2 = sympy.rem(f6modp, g1, modulus=p)"
   ]
  },
  {
   "cell_type": "code",
   "execution_count": 35,
   "id": "9b4078b9-0a10-465c-bcad-d8850a5e9cf4",
   "metadata": {},
   "outputs": [
    {
     "data": {
      "text/latex": [
       "$- 5 x^{5} + 5 x^{4} - 5 x^{3} - 5 x - 4$"
      ],
      "text/plain": [
       "     5      4      3          \n",
       "- 5*x  + 5*x  - 5*x  - 5*x - 4"
      ]
     },
     "execution_count": 35,
     "metadata": {},
     "output_type": "execute_result"
    }
   ],
   "source": [
    "d = 6\n",
    "p = 11\n",
    "f6modp = trunc(f6, p)\n",
    "n = p^(d ÷ 3)\n",
    "k = n\n",
    "expr = Sym(1)\n",
    "xpow = x\n",
    "for i in 0:floor(Int, log2(n))\n",
    "    if isodd(k)\n",
    "        expr = trunc(sympy.rem(expr * xpow, f6modp), p)\n",
    "    end\n",
    "    xpow = trunc(sympy.rem(xpow^2, f6modp), p)\n",
    "    k = k ÷ 2\n",
    "end\n",
    "g1 = trunc(expr - x, p)"
   ]
  },
  {
   "cell_type": "code",
   "execution_count": 36,
   "id": "342c1c0e-186c-4ce8-8c72-e492f5f05aea",
   "metadata": {},
   "outputs": [
    {
     "data": {
      "text/latex": [
       "$- 5 x^{2} + 2 x$"
      ],
      "text/plain": [
       "     2      \n",
       "- 5*x  + 2*x"
      ]
     },
     "execution_count": 36,
     "metadata": {},
     "output_type": "execute_result"
    }
   ],
   "source": [
    "g2 = sympy.rem(f6modp, g1, modulus=p)"
   ]
  },
  {
   "cell_type": "code",
   "execution_count": 37,
   "id": "63ef570a-e4a3-4ced-b5ec-70160a824f47",
   "metadata": {},
   "outputs": [
    {
     "data": {
      "text/latex": [
       "$- 2 x - 4$"
      ],
      "text/plain": [
       "-2*x - 4"
      ]
     },
     "execution_count": 37,
     "metadata": {},
     "output_type": "execute_result"
    }
   ],
   "source": [
    "g3 = sympy.rem(g1, g2, modulus=p)"
   ]
  },
  {
   "cell_type": "code",
   "execution_count": 38,
   "id": "eeb99ae3-e1f6-4f64-80da-eacc4e655abd",
   "metadata": {},
   "outputs": [
    {
     "data": {
      "text/latex": [
       "$-2$"
      ],
      "text/plain": [
       "-2"
      ]
     },
     "execution_count": 38,
     "metadata": {},
     "output_type": "execute_result"
    }
   ],
   "source": [
    "g4 = sympy.rem(g2, g3, modulus=p)"
   ]
  },
  {
   "cell_type": "code",
   "execution_count": 39,
   "id": "7241bf7a-ba0b-4dd9-946a-0d4b760e3769",
   "metadata": {},
   "outputs": [
    {
     "data": {
      "text/latex": [
       "$0$"
      ],
      "text/plain": [
       "0"
      ]
     },
     "execution_count": 39,
     "metadata": {},
     "output_type": "execute_result"
    }
   ],
   "source": [
    "0*x"
   ]
  },
  {
   "cell_type": "code",
   "execution_count": 40,
   "id": "5c49d217-0e79-4ecd-a583-6a524faaad38",
   "metadata": {},
   "outputs": [
    {
     "data": {
      "text/latex": [
       "$x + 1$"
      ],
      "text/plain": [
       "x + 1"
      ]
     },
     "execution_count": 40,
     "metadata": {},
     "output_type": "execute_result"
    }
   ],
   "source": [
    "trunc(Sym(-1)+x, 2)"
   ]
  },
  {
   "cell_type": "code",
   "execution_count": 41,
   "id": "188a37a2-eeb8-4f05-a2a2-6fdbe4848071",
   "metadata": {},
   "outputs": [
    {
     "data": {
      "text/plain": [
       "allirredpolys_rev (generic function with 3 methods)"
      ]
     },
     "execution_count": 41,
     "metadata": {},
     "output_type": "execute_result"
    }
   ],
   "source": [
    "safetrunc(x::Sym, p::Integer) = x(0) == x ? x : trunc(x, p)\n",
    "\n",
    "modsym(x::Sym, p::Integer, f::Sym) = sympy.rem(x, f, modulus=p)\n",
    "\n",
    "function powermodsym(x::Sym, n::Integer, p::Integer, f::Sym)\n",
    "    k = n\n",
    "    expr = one(x)\n",
    "    xpow2 = x\n",
    "    while true\n",
    "        if isodd(k)\n",
    "            expr = modsym(expr * xpow2, p, f)\n",
    "        end\n",
    "        xpow2 = modsym(xpow2^2, p, f)\n",
    "        k = k ÷ 2\n",
    "        k == 0 && break\n",
    "    end\n",
    "    expr\n",
    "end\n",
    "\n",
    "function isirreducible_rev(f, p=2, x=symbols(\"x\"))\n",
    "    fx = f(x)\n",
    "    n = degree(fx, x) |> N\n",
    "    sympy.rem(powermodsym(x, p^n, p, fx) - x, fx, modulus=p) != 0 && return false\n",
    "    for t in 2:n\n",
    "        mod(n, t) == 0 || continue\n",
    "        Primes.isprime(t) || continue\n",
    "        gcd(powermodsym(x, p^(n ÷ t), p, fx) - x, fx, modulus=p) == 1 || return false\n",
    "    end\n",
    "    true\n",
    "end\n",
    "\n",
    "allpolys(d, p=2, x=symbols(\"x\")) = (trunc(evalpoly(x, (a..., 1)), p) for a in Iterators.product(fill(0:p-1, d)...))\n",
    "\n",
    "allirredpolys_rev(d, p=2, x=symbols(\"x\")) = [f for f in allpolys(d, p, x) if isirreducible_rev(f, p, x)]"
   ]
  },
  {
   "cell_type": "code",
   "execution_count": 42,
   "id": "b917e05f-1af3-47e1-9b57-e7b3801a724b",
   "metadata": {},
   "outputs": [
    {
     "data": {
      "text/plain": [
       "true"
      ]
     },
     "execution_count": 42,
     "metadata": {},
     "output_type": "execute_result"
    }
   ],
   "source": [
    "[allirredpolys_rev(d) |> Set for d in 1:6] == [allirredpolys(d) for d in 1:6]"
   ]
  },
  {
   "cell_type": "code",
   "execution_count": 43,
   "id": "5990cfbd-a460-44af-8897-c5d3243ea28e",
   "metadata": {},
   "outputs": [
    {
     "data": {
      "text/plain": [
       "true"
      ]
     },
     "execution_count": 43,
     "metadata": {},
     "output_type": "execute_result"
    }
   ],
   "source": [
    "[allirredpolys_rev(d, 3) |> Set for d in 1:4] == [allirredpolys(d, 3) for d in 1:4]"
   ]
  },
  {
   "cell_type": "code",
   "execution_count": 44,
   "id": "7ecc6d40-8495-4f9f-8c19-606e7a77318b",
   "metadata": {},
   "outputs": [
    {
     "name": "stdout",
     "output_type": "stream",
     "text": [
      "  4.246101 seconds (233.30 k allocations: 8.311 MiB)\n",
      "  0.767319 seconds (77.03 k allocations: 2.593 MiB)\n"
     ]
    },
    {
     "data": {
      "text/plain": [
       "true"
      ]
     },
     "execution_count": 44,
     "metadata": {},
     "output_type": "execute_result"
    }
   ],
   "source": [
    "X = @time allirredpolys_rev(5, 3) |> Set\n",
    "Y = @time allirredpolys(5, 3)\n",
    "X == Y"
   ]
  },
  {
   "cell_type": "code",
   "execution_count": 45,
   "id": "734a074a-7fe6-4b2d-8940-7f2efd9d22c7",
   "metadata": {},
   "outputs": [
    {
     "name": "stdout",
     "output_type": "stream",
     "text": [
      "  0.045942 seconds (516 allocations: 16.992 KiB)\n",
      "  0.038569 seconds (516 allocations: 16.992 KiB)\n",
      "  0.039891 seconds (516 allocations: 16.992 KiB)\n",
      "  0.150158 seconds (48.81 k allocations: 2.967 MiB, 77.70% compilation time)\n",
      "  0.013397 seconds (1.01 k allocations: 37.289 KiB)\n",
      "  0.013672 seconds (1.01 k allocations: 37.289 KiB)\n"
     ]
    },
    {
     "data": {
      "text/plain": [
       "true"
      ]
     },
     "execution_count": 45,
     "metadata": {},
     "output_type": "execute_result"
    }
   ],
   "source": [
    "XX = collect(X)\n",
    "@time isirreducible_slow(XX[1], 3)\n",
    "@time isirreducible_slow(XX[1], 3)\n",
    "@time isirreducible_slow(XX[1], 3)\n",
    "@time isirreducible_rev(XX[1], 3)\n",
    "@time isirreducible_rev(XX[1], 3)\n",
    "@time isirreducible_rev(XX[1], 3)"
   ]
  },
  {
   "cell_type": "code",
   "execution_count": 46,
   "id": "2cd442e0-202f-4d00-8675-0796cd4e2edd",
   "metadata": {},
   "outputs": [
    {
     "name": "stdout",
     "output_type": "stream",
     "text": [
      "  2.867570 seconds (7.30 k allocations: 476.311 KiB, 0.69% compilation time)\n",
      "  2.915411 seconds (585 allocations: 19.320 KiB)\n",
      "  2.867721 seconds (585 allocations: 19.320 KiB)\n",
      "  0.045614 seconds (1.16 k allocations: 42.828 KiB)\n",
      "  0.016501 seconds (1.16 k allocations: 42.828 KiB)\n",
      "  0.016483 seconds (1.16 k allocations: 42.828 KiB)\n"
     ]
    },
    {
     "data": {
      "text/plain": [
       "true"
      ]
     },
     "execution_count": 46,
     "metadata": {},
     "output_type": "execute_result"
    }
   ],
   "source": [
    "@time isirreducible_slow(x^7 + x^3 + x + 1, 3)\n",
    "@time isirreducible_slow(x^7 + x^3 + x + 1, 3)\n",
    "@time isirreducible_slow(x^7 + x^3 + x + 1, 3)\n",
    "@time isirreducible_rev(x^7 + x^3 + x + 1, 3)\n",
    "@time isirreducible_rev(x^7 + x^3 + x + 1, 3)\n",
    "@time isirreducible_rev(x^7 + x^3 + x + 1, 3)"
   ]
  },
  {
   "cell_type": "code",
   "execution_count": 47,
   "id": "ce8935cb-2713-4172-9faa-ed2cecbcb64e",
   "metadata": {},
   "outputs": [
    {
     "data": {
      "text/latex": [
       "$\\left(x - 6\\right) \\left(x - 5\\right) \\left(x - 4\\right) \\left(x - 3\\right) \\left(x - 2\\right) \\left(x - 1\\right) + 1$"
      ],
      "text/plain": [
       "(x - 6)*(x - 5)*(x - 4)*(x - 3)*(x - 2)*(x - 1) + 1"
      ]
     },
     "execution_count": 47,
     "metadata": {},
     "output_type": "execute_result"
    }
   ],
   "source": [
    "f6 = prod(x - k for k in 1:6) + 1"
   ]
  },
  {
   "cell_type": "code",
   "execution_count": 48,
   "id": "ca645587-87c6-4a4b-b875-e78730c609ff",
   "metadata": {},
   "outputs": [
    {
     "data": {
      "text/latex": [
       "$x^{6} + x^{5} - x^{4} + 2 x^{3} - 4 x^{2} - 4 x - 5$"
      ],
      "text/plain": [
       " 6    5    4      3      2          \n",
       "x  + x  - x  + 2*x  - 4*x  - 4*x - 5"
      ]
     },
     "execution_count": 48,
     "metadata": {},
     "output_type": "execute_result"
    }
   ],
   "source": [
    "f6mod11 = trunc(f6, 11)"
   ]
  },
  {
   "cell_type": "code",
   "execution_count": 49,
   "id": "403aff44-9f83-49b8-8c71-681e66eb86b8",
   "metadata": {},
   "outputs": [],
   "source": [
    "# @time isirreducible_slow(f6mod11, 11) # hungs up"
   ]
  },
  {
   "cell_type": "code",
   "execution_count": 50,
   "id": "2d566a48-8d3f-4db0-b2c7-460fead6cf5a",
   "metadata": {},
   "outputs": [
    {
     "name": "stdout",
     "output_type": "stream",
     "text": [
      "  0.242313 seconds (2.30 k allocations: 88.672 KiB)\n"
     ]
    },
    {
     "data": {
      "text/plain": [
       "true"
      ]
     },
     "execution_count": 50,
     "metadata": {},
     "output_type": "execute_result"
    }
   ],
   "source": [
    "@time isirreducible_rev(f6mod11, 11)"
   ]
  },
  {
   "cell_type": "code",
   "execution_count": 51,
   "id": "19088f85-4f88-47f4-9b5b-deb908e142c3",
   "metadata": {},
   "outputs": [
    {
     "data": {
      "text/latex": [
       "$\\left(x - 5\\right) \\left(x - 4\\right) \\left(x - 3\\right) \\left(x - 2\\right) \\left(x - 1\\right) + 1$"
      ],
      "text/plain": [
       "(x - 5)*(x - 4)*(x - 3)*(x - 2)*(x - 1) + 1"
      ]
     },
     "execution_count": 51,
     "metadata": {},
     "output_type": "execute_result"
    }
   ],
   "source": [
    "f5 = prod(x - k for k in 1:5) + 1"
   ]
  },
  {
   "cell_type": "code",
   "execution_count": 53,
   "id": "92c39ec7-4199-4993-bc5a-0b2f34802664",
   "metadata": {},
   "outputs": [
    {
     "data": {
      "text/latex": [
       "$x^{5} + x^{3} + 1$"
      ],
      "text/plain": [
       " 5    3    \n",
       "x  + x  + 1"
      ]
     },
     "execution_count": 53,
     "metadata": {},
     "output_type": "execute_result"
    }
   ],
   "source": [
    "g = trunc(f5(x+1), 2)"
   ]
  },
  {
   "cell_type": "code",
   "execution_count": 54,
   "id": "4373134b-c255-424f-bc2a-692f2c5cc59d",
   "metadata": {},
   "outputs": [
    {
     "data": {
      "text/latex": [
       "$x^{2}$"
      ],
      "text/plain": [
       " 2\n",
       "x "
      ]
     },
     "execution_count": 54,
     "metadata": {},
     "output_type": "execute_result"
    }
   ],
   "source": [
    "x2 = x^2"
   ]
  },
  {
   "cell_type": "code",
   "execution_count": 56,
   "id": "d82e8414-4419-4a72-b148-d719666d77cb",
   "metadata": {},
   "outputs": [
    {
     "data": {
      "text/latex": [
       "$x^{4}$"
      ],
      "text/plain": [
       " 4\n",
       "x "
      ]
     },
     "execution_count": 56,
     "metadata": {},
     "output_type": "execute_result"
    }
   ],
   "source": [
    "x4 = x2^2"
   ]
  },
  {
   "cell_type": "code",
   "execution_count": 58,
   "id": "644faa40-0e85-42d3-a2aa-2e62a01d3fe6",
   "metadata": {},
   "outputs": [
    {
     "data": {
      "text/latex": [
       "$x^{4} + x^{3} + x$"
      ],
      "text/plain": [
       " 4    3    \n",
       "x  + x  + x"
      ]
     },
     "execution_count": 58,
     "metadata": {},
     "output_type": "execute_result"
    }
   ],
   "source": [
    "x8 = sympy.rem(x4^2, g, modulus=2)"
   ]
  },
  {
   "cell_type": "code",
   "execution_count": 59,
   "id": "9a21b75a-adc1-40ed-a460-07420864803c",
   "metadata": {},
   "outputs": [
    {
     "data": {
      "text/latex": [
       "$x^{3} + x^{2}$"
      ],
      "text/plain": [
       " 3    2\n",
       "x  + x "
      ]
     },
     "execution_count": 59,
     "metadata": {},
     "output_type": "execute_result"
    }
   ],
   "source": [
    "x16 = sympy.rem(x8^2, g, modulus=2)"
   ]
  },
  {
   "cell_type": "code",
   "execution_count": 60,
   "id": "5c864d41-71cc-46d4-9f1f-367921c4bde3",
   "metadata": {},
   "outputs": [
    {
     "data": {
      "text/latex": [
       "$x$"
      ],
      "text/plain": [
       "x"
      ]
     },
     "execution_count": 60,
     "metadata": {},
     "output_type": "execute_result"
    }
   ],
   "source": [
    "x32 = sympy.rem(x16^2, g, modulus=2)"
   ]
  },
  {
   "cell_type": "code",
   "execution_count": 61,
   "id": "198efe9a-327e-490c-8989-c1e6340d9e24",
   "metadata": {},
   "outputs": [
    {
     "data": {
      "text/latex": [
       "$0$"
      ],
      "text/plain": [
       "0"
      ]
     },
     "execution_count": 61,
     "metadata": {},
     "output_type": "execute_result"
    }
   ],
   "source": [
    "x32 - x"
   ]
  },
  {
   "cell_type": "code",
   "execution_count": 66,
   "id": "2a11141b-737c-4203-99d6-bf26fbb4ab13",
   "metadata": {},
   "outputs": [
    {
     "data": {
      "text/latex": [
       "$x^{2} - x$"
      ],
      "text/plain": [
       " 2    \n",
       "x  - x"
      ]
     },
     "execution_count": 66,
     "metadata": {},
     "output_type": "execute_result"
    }
   ],
   "source": [
    "g1 = x2 - x"
   ]
  },
  {
   "cell_type": "code",
   "execution_count": 67,
   "id": "b952a30f-9ae2-4a77-b75e-b964b2c6258c",
   "metadata": {},
   "outputs": [
    {
     "data": {
      "text/latex": [
       "$1$"
      ],
      "text/plain": [
       "1"
      ]
     },
     "execution_count": 67,
     "metadata": {},
     "output_type": "execute_result"
    }
   ],
   "source": [
    "g2 = sympy.rem(g, g1, modulus=2)"
   ]
  },
  {
   "cell_type": "code",
   "execution_count": 69,
   "id": "718d0e72-1a97-428a-bf5f-970a61d46ff7",
   "metadata": {},
   "outputs": [
    {
     "data": {
      "text/latex": [
       "$x + 1$"
      ],
      "text/plain": [
       "x + 1"
      ]
     },
     "execution_count": 69,
     "metadata": {},
     "output_type": "execute_result"
    }
   ],
   "source": [
    "sympy.rem(g, x^2+x+1, modulus=2)"
   ]
  },
  {
   "cell_type": "code",
   "execution_count": null,
   "id": "ad16f2e6-0b56-4d8f-b1aa-0a9aee1f7f34",
   "metadata": {},
   "outputs": [],
   "source": []
  }
 ],
 "metadata": {
  "jupytext": {
   "formats": "ipynb,jl:hydrogen"
  },
  "kernelspec": {
   "display_name": "Julia 1.9.0",
   "language": "julia",
   "name": "julia-1.9"
  },
  "language_info": {
   "file_extension": ".jl",
   "mimetype": "application/julia",
   "name": "julia",
   "version": "1.9.0"
  }
 },
 "nbformat": 4,
 "nbformat_minor": 5
}
