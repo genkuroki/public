{
 "cells": [
  {
   "cell_type": "code",
   "execution_count": 1,
   "id": "2ee49699-4b9a-43e1-8188-e9e1035c25e1",
   "metadata": {
    "tags": []
   },
   "outputs": [
    {
     "data": {
      "text/html": [
       "<div><img alt=\"Output\" src=\"data:image/png;base64,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\"></div>"
      ],
      "text/plain": [
       "-Graphics-"
      ]
     },
     "execution_count": 1,
     "metadata": {
      "text/html": [],
      "text/plain": []
     },
     "output_type": "execute_result"
    }
   ],
   "source": [
    "RegionPlot[ImplicitRegion[x y > x^4 + y^4, {x, y}]]"
   ]
  },
  {
   "cell_type": "code",
   "execution_count": 2,
   "id": "e4779389-4beb-4c7d-8b6d-c3010092a447",
   "metadata": {},
   "outputs": [
    {
     "data": {
      "text/html": [
       "<div><pre style=\"&#102;&#111;&#110;&#116;&#45;&#102;&#97;&#109;&#105;&#108;&#121;&#58;&#32;&#34;&#67;&#111;&#117;&#114;&#105;&#101;&#114;&#32;&#78;&#101;&#119;&#34;&#44;&#67;&#111;&#117;&#114;&#105;&#101;&#114;&#44;&#109;&#111;&#110;&#111;&#115;&#112;&#97;&#99;&#101;&#59;\">&#48;&#46;&#51;&#57;&#50;&#54;&#57;&#57;</pre></div>"
      ],
      "text/plain": [
       "0.392699"
      ]
     },
     "execution_count": 2,
     "metadata": {
      "text/html": [],
      "text/plain": []
     },
     "output_type": "execute_result"
    }
   ],
   "source": [
    "NIntegrate[1, {x, y} ∈ ImplicitRegion[x y > x^4 + y^4, {x, y}]]/2"
   ]
  },
  {
   "cell_type": "code",
   "execution_count": 3,
   "id": "1c6a2319-3187-4f71-9cdf-eba190b6b08d",
   "metadata": {},
   "outputs": [
    {
     "data": {
      "text/html": [
       "<div><pre style=\"&#102;&#111;&#110;&#116;&#45;&#102;&#97;&#109;&#105;&#108;&#121;&#58;&#32;&#34;&#67;&#111;&#117;&#114;&#105;&#101;&#114;&#32;&#78;&#101;&#119;&#34;&#44;&#67;&#111;&#117;&#114;&#105;&#101;&#114;&#44;&#109;&#111;&#110;&#111;&#115;&#112;&#97;&#99;&#101;&#59;\">&#48;&#46;&#51;&#57;&#50;&#54;&#57;&#57;</pre></div>"
      ],
      "text/plain": [
       "0.392699"
      ]
     },
     "execution_count": 3,
     "metadata": {
      "text/html": [],
      "text/plain": []
     },
     "output_type": "execute_result"
    }
   ],
   "source": [
    "N[Beta[1/2, 1/2]/8]"
   ]
  },
  {
   "cell_type": "code",
   "execution_count": 4,
   "id": "be99dc6c-7239-40f6-a45b-bc46d195d002",
   "metadata": {},
   "outputs": [
    {
     "data": {
      "text/html": [
       "<div><pre style=\"&#102;&#111;&#110;&#116;&#45;&#102;&#97;&#109;&#105;&#108;&#121;&#58;&#32;&#34;&#67;&#111;&#117;&#114;&#105;&#101;&#114;&#32;&#78;&#101;&#119;&#34;&#44;&#67;&#111;&#117;&#114;&#105;&#101;&#114;&#44;&#109;&#111;&#110;&#111;&#115;&#112;&#97;&#99;&#101;&#59;\">&#48;&#46;&#54;&#49;&#56;&#48;&#50;&#53;</pre></div>"
      ],
      "text/plain": [
       "0.618025"
      ]
     },
     "execution_count": 4,
     "metadata": {
      "text/html": [],
      "text/plain": []
     },
     "output_type": "execute_result"
    }
   ],
   "source": [
    "NIntegrate[1, {x, y} ∈ ImplicitRegion[x y > x^6 + y^6, {x, y}]]/2"
   ]
  },
  {
   "cell_type": "code",
   "execution_count": 5,
   "id": "5e938e09-2678-4068-83e8-74c0d0a7abc2",
   "metadata": {},
   "outputs": [
    {
     "data": {
      "text/html": [
       "<div><pre style=\"&#102;&#111;&#110;&#116;&#45;&#102;&#97;&#109;&#105;&#108;&#121;&#58;&#32;&#34;&#67;&#111;&#117;&#114;&#105;&#101;&#114;&#32;&#78;&#101;&#119;&#34;&#44;&#67;&#111;&#117;&#114;&#105;&#101;&#114;&#44;&#109;&#111;&#110;&#111;&#115;&#112;&#97;&#99;&#101;&#59;\">&#48;&#46;&#54;&#49;&#56;&#48;&#50;&#53;</pre></div>"
      ],
      "text/plain": [
       "0.618025"
      ]
     },
     "execution_count": 5,
     "metadata": {
      "text/html": [],
      "text/plain": []
     },
     "output_type": "execute_result"
    }
   ],
   "source": [
    "N[Beta[1/4, 1/4]/12]"
   ]
  },
  {
   "cell_type": "code",
   "execution_count": 6,
   "id": "82f51677-eb27-4fc1-acce-8713103cc931",
   "metadata": {},
   "outputs": [
    {
     "data": {
      "text/html": [
       "<div><pre style=\"&#102;&#111;&#110;&#116;&#45;&#102;&#97;&#109;&#105;&#108;&#121;&#58;&#32;&#34;&#67;&#111;&#117;&#114;&#105;&#101;&#114;&#32;&#78;&#101;&#119;&#34;&#44;&#67;&#111;&#117;&#114;&#105;&#101;&#114;&#44;&#109;&#111;&#110;&#111;&#115;&#112;&#97;&#99;&#101;&#59;\">&#48;&#46;&#55;&#50;&#50;&#56;&#53;&#56;</pre></div>"
      ],
      "text/plain": [
       "0.722858"
      ]
     },
     "execution_count": 6,
     "metadata": {
      "text/html": [],
      "text/plain": []
     },
     "output_type": "execute_result"
    }
   ],
   "source": [
    "NIntegrate[1, {x, y} ∈ ImplicitRegion[x y > x^8 + y^8, {x, y}]]/2"
   ]
  },
  {
   "cell_type": "code",
   "execution_count": 7,
   "id": "91a996ea-c357-4515-b1ab-86a284b44aec",
   "metadata": {},
   "outputs": [
    {
     "data": {
      "text/html": [
       "<div><pre style=\"&#102;&#111;&#110;&#116;&#45;&#102;&#97;&#109;&#105;&#108;&#121;&#58;&#32;&#34;&#67;&#111;&#117;&#114;&#105;&#101;&#114;&#32;&#78;&#101;&#119;&#34;&#44;&#67;&#111;&#117;&#114;&#105;&#101;&#114;&#44;&#109;&#111;&#110;&#111;&#115;&#112;&#97;&#99;&#101;&#59;\">&#48;&#46;&#55;&#50;&#50;&#56;&#53;&#56;</pre></div>"
      ],
      "text/plain": [
       "0.722858"
      ]
     },
     "execution_count": 7,
     "metadata": {
      "text/html": [],
      "text/plain": []
     },
     "output_type": "execute_result"
    }
   ],
   "source": [
    "N[Beta[1/6, 1/6]/16]"
   ]
  },
  {
   "cell_type": "code",
   "execution_count": null,
   "id": "5c7ba473-8f5d-40f3-979b-c8042d3602c5",
   "metadata": {},
   "outputs": [],
   "source": []
  }
 ],
 "metadata": {
  "jupytext": {
   "formats": "ipynb,m:hydrogen"
  },
  "kernelspec": {
   "display_name": "Wolfram Language 13.1",
   "language": "Wolfram Language",
   "name": "wolframlanguage13.1"
  },
  "language_info": {
   "codemirror_mode": "mathematica",
   "file_extension": ".m",
   "mimetype": "application/vnd.wolfram.m",
   "name": "Wolfram Language",
   "pygments_lexer": "mathematica",
   "version": "12.0"
  }
 },
 "nbformat": 4,
 "nbformat_minor": 5
}
