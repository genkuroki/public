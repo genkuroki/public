{
 "cells": [
  {
   "cell_type": "code",
   "execution_count": 1,
   "id": "4951bf1a-7155-4880-8d0d-25961c7d05f9",
   "metadata": {},
   "outputs": [
    {
     "data": {
      "text/plain": [
       "(x,)"
      ]
     },
     "execution_count": 1,
     "metadata": {},
     "output_type": "execute_result"
    }
   ],
   "source": [
    "using Primes: Primes\n",
    "using SymPy\n",
    "@vars x"
   ]
  },
  {
   "cell_type": "code",
   "execution_count": 2,
   "id": "73764bf5-97da-478f-b496-35cdbc1ea802",
   "metadata": {},
   "outputs": [
    {
     "data": {
      "text/latex": [
       "$\\left(x - 5\\right) \\left(x - 4\\right) \\left(x - 3\\right) \\left(x - 2\\right) \\left(x - 1\\right) + 1$"
      ],
      "text/plain": [
       "(x - 5)*(x - 4)*(x - 3)*(x - 2)*(x - 1) + 1"
      ]
     },
     "execution_count": 2,
     "metadata": {},
     "output_type": "execute_result"
    }
   ],
   "source": [
    "f = prod(x - k for k in 1:5) + 1"
   ]
  },
  {
   "cell_type": "code",
   "execution_count": 3,
   "id": "f8574fd9-29a9-4e9d-be9a-6fab74b54e66",
   "metadata": {},
   "outputs": [
    {
     "data": {
      "text/latex": [
       "$\\left[ \\begin{array}{rr}0&x^{5} - 15 x^{4} + 85 x^{3} - 225 x^{2} + 274 x - 119\\\\2&x^{5} + x^{4} + x^{3} + x^{2} + 1\\\\3&x^{5} + x^{3} + x + 1\\\\5&x^{5} - x + 1\\\\7&x \\left(x^{4} - x^{3} + x^{2} - x + 1\\right)\\\\11&\\left(x + 2\\right) \\left(x + 5\\right) \\left(x^{3} - 2 x - 2\\right)\\\\13&\\left(x + 4\\right) \\left(x^{4} - 6 x^{3} + 5 x^{2} + 2 x + 6\\right)\\\\17&x \\left(x^{2} - 3 x + 3\\right) \\left(x^{2} + 5 x - 5\\right)\\\\19&\\left(x^{2} - 4 x - 9\\right) \\left(x^{3} + 8 x^{2} - 7 x + 9\\right)\\\\23&\\left(x^{2} - x - 4\\right) \\left(x^{3} + 9 x^{2} + 6 x + 1\\right)\\\\29&x^{5} + 14 x^{4} - 2 x^{3} + 7 x^{2} + 13 x - 3\\\\31&x^{5} - 15 x^{4} - 8 x^{3} - 8 x^{2} - 5 x + 5\\\\37&\\left(x - 15\\right) \\left(x^{4} + 11 x^{2} + 14 x + 3\\right)\\\\41&\\left(x^{2} - 6\\right) \\left(x^{3} - 15 x^{2} + 9 x + 13\\right)\\\\43&\\left(x - 21\\right) \\left(x - 15\\right) \\left(x^{3} + 21 x^{2} + 10 x + 13\\right)\\\\47&\\left(x - 9\\right) \\left(x^{4} - 6 x^{3} - 16 x^{2} + 7 x + 8\\right)\\\\53&x^{5} - 15 x^{4} - 21 x^{3} - 13 x^{2} + 9 x - 13\\\\59&\\left(x + 20\\right) \\left(x^{4} + 24 x^{3} + 18 x^{2} + 5 x - 3\\right)\\\\61&\\left(x^{2} - 29 x + 22\\right) \\left(x^{3} + 14 x^{2} - 19 x + 14\\right)\\\\67&\\left(x - 18\\right) \\left(x^{4} + 3 x^{3} + 5 x^{2} - x - 12\\right)\\\\71&x^{5} - 15 x^{4} + 14 x^{3} - 12 x^{2} - 10 x + 23\\\\73&\\left(x - 26\\right) \\left(x + 32\\right) \\left(x^{3} - 21 x^{2} + 21 x - 11\\right)\\\\79&\\left(x - 27\\right) \\left(x + 9\\right) \\left(x + 17\\right) \\left(x^{2} - 14 x - 12\\right)\\\\83&\\left(x + 41\\right) \\left(x^{4} + 27 x^{3} - 26 x^{2} + 11 x - 11\\right)\\\\89&\\left(x - 16\\right) \\left(x^{2} - 23 x - 22\\right) \\left(x^{2} + 24 x - 37\\right)\\\\97&\\left(x^{2} + 16 x - 18\\right) \\left(x^{3} - 31 x^{2} + 17 x + 12\\right)\\end{array}\\right]$\n"
      ],
      "text/plain": [
       "26×2 Matrix{Sym}:\n",
       "  0  x^5 - 15*x^4 + 85*x^3 - 225*x^2 + 274*x - 119\n",
       "  2                      x^5 + x^4 + x^3 + x^2 + 1\n",
       "  3                              x^5 + x^3 + x + 1\n",
       "  5                                    x^5 - x + 1\n",
       "  7                    x*(x^4 - x^3 + x^2 - x + 1)\n",
       " 11                (x + 2)*(x + 5)*(x^3 - 2*x - 2)\n",
       " 13        (x + 4)*(x^4 - 6*x^3 + 5*x^2 + 2*x + 6)\n",
       " 17              x*(x^2 - 3*x + 3)*(x^2 + 5*x - 5)\n",
       " 19        (x^2 - 4*x - 9)*(x^3 + 8*x^2 - 7*x + 9)\n",
       " 23          (x^2 - x - 4)*(x^3 + 9*x^2 + 6*x + 1)\n",
       " 29        x^5 + 14*x^4 - 2*x^3 + 7*x^2 + 13*x - 3\n",
       " 31         x^5 - 15*x^4 - 8*x^3 - 8*x^2 - 5*x + 5\n",
       " 37             (x - 15)*(x^4 + 11*x^2 + 14*x + 3)\n",
       " 41            (x^2 - 6)*(x^3 - 15*x^2 + 9*x + 13)\n",
       " 43   (x - 21)*(x - 15)*(x^3 + 21*x^2 + 10*x + 13)\n",
       " 47       (x - 9)*(x^4 - 6*x^3 - 16*x^2 + 7*x + 8)\n",
       " 53      x^5 - 15*x^4 - 21*x^3 - 13*x^2 + 9*x - 13\n",
       " 59     (x + 20)*(x^4 + 24*x^3 + 18*x^2 + 5*x - 3)\n",
       " 61   (x^2 - 29*x + 22)*(x^3 + 14*x^2 - 19*x + 14)\n",
       " 67        (x - 18)*(x^4 + 3*x^3 + 5*x^2 - x - 12)\n",
       " 71     x^5 - 15*x^4 + 14*x^3 - 12*x^2 - 10*x + 23\n",
       " 73   (x - 26)*(x + 32)*(x^3 - 21*x^2 + 21*x - 11)\n",
       " 79    (x - 27)*(x + 9)*(x + 17)*(x^2 - 14*x - 12)\n",
       " 83   (x + 41)*(x^4 + 27*x^3 - 26*x^2 + 11*x - 11)\n",
       " 89   (x - 16)*(x^2 - 23*x - 22)*(x^2 + 24*x - 37)\n",
       " 97   (x^2 + 16*x - 18)*(x^3 - 31*x^2 + 17*x + 12)"
      ]
     },
     "execution_count": 3,
     "metadata": {},
     "output_type": "execute_result"
    }
   ],
   "source": [
    "vcat([0 f.expand()], ([p sympy.factor(f, modulus=p)] for p in Primes.primes(100))...)"
   ]
  },
  {
   "cell_type": "code",
   "execution_count": 4,
   "id": "efac6bec-646a-48e6-a03d-12c03a611ed1",
   "metadata": {},
   "outputs": [
    {
     "data": {
      "text/latex": [
       "$\\left(x - 5\\right) \\left(x - 4\\right) \\left(x - 3\\right) \\left(x - 2\\right) \\left(x - 1\\right) + 1$"
      ],
      "text/plain": [
       "(x - 5)*(x - 4)*(x - 3)*(x - 2)*(x - 1) + 1"
      ]
     },
     "execution_count": 4,
     "metadata": {},
     "output_type": "execute_result"
    }
   ],
   "source": [
    "f = prod(x - k for k in 1:5) + 1"
   ]
  },
  {
   "cell_type": "code",
   "execution_count": 5,
   "id": "65ed743c-2863-49dc-878d-5b6a606812ed",
   "metadata": {},
   "outputs": [
    {
     "data": {
      "text/latex": [
       "$x^{5} - 5 x^{3} + 4 x + 1$"
      ],
      "text/plain": [
       " 5      3          \n",
       "x  - 5*x  + 4*x + 1"
      ]
     },
     "execution_count": 5,
     "metadata": {},
     "output_type": "execute_result"
    }
   ],
   "source": [
    "g = f(x+3).expand()"
   ]
  },
  {
   "cell_type": "code",
   "execution_count": 6,
   "id": "7b42fe69-969a-4b5e-bee8-c285f67bbad4",
   "metadata": {},
   "outputs": [
    {
     "data": {
      "text/plain": [
       "(a, b)"
      ]
     },
     "execution_count": 6,
     "metadata": {},
     "output_type": "execute_result"
    }
   ],
   "source": [
    "@vars a b"
   ]
  },
  {
   "cell_type": "code",
   "execution_count": 7,
   "id": "2b4e8457-f64d-479b-9e34-e54131a4dee5",
   "metadata": {},
   "outputs": [
    {
     "data": {
      "text/latex": [
       "$a x + b$"
      ],
      "text/plain": [
       "a*x + b"
      ]
     },
     "execution_count": 7,
     "metadata": {},
     "output_type": "execute_result"
    }
   ],
   "source": [
    "x2 = a*x+b"
   ]
  },
  {
   "cell_type": "code",
   "execution_count": 8,
   "id": "41316133-2bd3-414a-837b-8bd520c08568",
   "metadata": {},
   "outputs": [
    {
     "data": {
      "text/latex": [
       "$a^{2} x + a b + b x$"
      ],
      "text/plain": [
       " 2              \n",
       "a *x + a*b + b*x"
      ]
     },
     "execution_count": 8,
     "metadata": {},
     "output_type": "execute_result"
    }
   ],
   "source": [
    "x3 = (x*x2).expand()(x^2=>x2).expand()"
   ]
  },
  {
   "cell_type": "code",
   "execution_count": 9,
   "id": "4c6b22c6-dae2-4a9b-a63e-35400db5930b",
   "metadata": {},
   "outputs": [
    {
     "data": {
      "text/latex": [
       "$a^{3} x + a^{2} b + 2 a b x + b^{2}$"
      ],
      "text/plain": [
       " 3      2                2\n",
       "a *x + a *b + 2*a*b*x + b "
      ]
     },
     "execution_count": 9,
     "metadata": {},
     "output_type": "execute_result"
    }
   ],
   "source": [
    "x4 = (x2^2).expand()(x^2=>x2).expand()"
   ]
  },
  {
   "cell_type": "code",
   "execution_count": 10,
   "id": "25a70aed-16e4-4fdc-8a0a-f0028c710a81",
   "metadata": {},
   "outputs": [
    {
     "data": {
      "text/latex": [
       "$a^{4} x + a^{3} b + 3 a^{2} b x + 2 a b^{2} + b^{2} x$"
      ],
      "text/plain": [
       " 4      3        2            2    2  \n",
       "a *x + a *b + 3*a *b*x + 2*a*b  + b *x"
      ]
     },
     "execution_count": 10,
     "metadata": {},
     "output_type": "execute_result"
    }
   ],
   "source": [
    "x5 = (x*x4).expand()(x^2=>x2).expand()"
   ]
  },
  {
   "cell_type": "code",
   "execution_count": 11,
   "id": "5a6d8022-a6c1-4838-9132-e73e7e913b2e",
   "metadata": {},
   "outputs": [
    {
     "data": {
      "text/latex": [
       "$\\operatorname{Poly}{\\left( \\left(a^{4} + 3 a^{2} b + b^{2} - 1\\right) x + a^{3} b + 2 a b^{2} + 1, x, domain=\\mathbb{Z}\\left[a, b\\right] \\right)}$"
      ],
      "text/plain": [
       "Poly((a**4 + 3*a**2*b + b**2 - 1)*x + a**3*b + 2*a*b**2 + 1, x, domain='ZZ[a,b\n",
       "]')"
      ]
     },
     "execution_count": 11,
     "metadata": {},
     "output_type": "execute_result"
    }
   ],
   "source": [
    "G = sympy.Poly(x5 - x + 1, x)"
   ]
  },
  {
   "cell_type": "code",
   "execution_count": 12,
   "id": "717e7cfc-d9b6-4dba-80a6-a4a71ea7f05f",
   "metadata": {},
   "outputs": [
    {
     "data": {
      "text/latex": [
       "$\\operatorname{Poly}{\\left( \\left(a^{4} + 3 a^{2} b + b^{2} - 1\\right) x + a^{3} b + 2 a b^{2} + 1, x, domain=\\mathbb{Z}\\left[a, b\\right] \\right)}$"
      ],
      "text/plain": [
       "Poly((a**4 + 3*a**2*b + b**2 - 1)*x + a**3*b + 2*a*b**2 + 1, x, domain='ZZ[a,b\n",
       "]')"
      ]
     },
     "execution_count": 12,
     "metadata": {},
     "output_type": "execute_result"
    }
   ],
   "source": [
    "sympy.Poly(sympy.rem(x^5-x+1, x^2-a*x-b), x)"
   ]
  },
  {
   "cell_type": "code",
   "execution_count": 13,
   "id": "ecb0da97-9a18-4b67-99e4-c41f54abb052",
   "metadata": {},
   "outputs": [
    {
     "data": {
      "text/plain": [
       "4×4 Matrix{Tuple{Int64, Int64}}:\n",
       " (4, 4)  (0, 1)  (3, 2)  (3, 2)\n",
       " (3, 3)  (3, 3)  (0, 1)  (4, 2)\n",
       " (3, 4)  (3, 4)  (0, 1)  (4, 0)\n",
       " (4, 3)  (0, 1)  (3, 0)  (3, 0)"
      ]
     },
     "execution_count": 13,
     "metadata": {},
     "output_type": "execute_result"
    }
   ],
   "source": [
    "[(mod(a^4+3a^2*b+b^2-1, 5), mod(a^3*b+2a*b^2+1, 5)) for (a, b) in Iterators.product(1:4, 1:4)]"
   ]
  },
  {
   "cell_type": "code",
   "execution_count": 14,
   "id": "81d5a74c-eba9-416e-bf01-4302b20874be",
   "metadata": {},
   "outputs": [
    {
     "data": {
      "text/latex": [
       "$\\left[ \\begin{array}{rr}0&x^{5} - 15 x^{4} + 85 x^{3} - 225 x^{2} + 274 x - 119\\\\2&x^{2} \\left(x + 1\\right)^{3}\\\\3&x^{5} + x^{3} + x - 1\\\\5&x^{5} - x + 2\\\\7&x^{5} - x^{4} + x^{3} - x^{2} + x + 1\\\\11&x^{5} - 4 x^{4} - 3 x^{3} - 5 x^{2} - x + 3\\\\13&\\left(x + 5\\right) \\left(x^{2} - 4 x - 3\\right) \\left(x^{2} - 3 x - 6\\right)\\\\17&x^{5} + 2 x^{4} - 4 x^{2} + 2 x + 1\\\\19&\\left(x - 7\\right) \\left(x + 7\\right) \\left(x^{3} + 4 x^{2} + x + 9\\right)\\\\23&\\left(x^{2} - 9 x - 8\\right) \\left(x^{3} - 6 x^{2} - 7 x + 9\\right)\\\\29&x^{5} + 14 x^{4} - 2 x^{3} + 7 x^{2} + 13 x - 2\\\\31&\\left(x - 14\\right) \\left(x^{4} - x^{3} + 9 x^{2} - 6 x + 4\\right)\\\\37&\\left(x + 8\\right) \\left(x^{4} + 14 x^{3} + 10 x^{2} - 9 x + 13\\right)\\\\41&\\left(x + 7\\right) \\left(x + 16\\right) \\left(x^{3} + 3 x^{2} - 14 x + 7\\right)\\\\43&\\left(x^{2} + 15 x - 10\\right) \\left(x^{3} + 13 x^{2} - 14 x - 14\\right)\\\\47&\\left(x - 14\\right) \\left(x^{2} - 9 x - 9\\right) \\left(x^{2} + 8 x + 11\\right)\\\\53&\\left(x - 14\\right) \\left(x + 6\\right) \\left(x^{3} - 7 x^{2} + 7 x - 15\\right)\\\\59&x \\left(x^{4} - 15 x^{3} + 26 x^{2} + 11 x - 21\\right)\\\\61&\\left(x - 6\\right) \\left(x + 7\\right) \\left(x + 20\\right) \\left(x^{2} + 25 x + 9\\right)\\\\67&\\left(x - 22\\right) \\left(x^{4} + 7 x^{3} - 29 x^{2} + 8 x - 19\\right)\\\\71&\\left(x^{2} - 30 x - 19\\right) \\left(x^{3} + 15 x^{2} - 14 x - 5\\right)\\\\73&\\left(x + 15\\right) \\left(x^{4} - 30 x^{3} + 24 x^{2} - x - 3\\right)\\\\79&\\left(x + 32\\right) \\left(x^{4} + 32 x^{3} + 9 x^{2} - 39 x + 21\\right)\\\\83&\\left(x - 30\\right) \\left(x + 27\\right) \\left(x^{3} - 12 x^{2} + 29 x + 19\\right)\\\\89&\\left(x^{2} + 39 x - 1\\right) \\left(x^{3} + 35 x^{2} - 33 x + 29\\right)\\\\97&\\left(x - 8\\right) \\left(x + 16\\right) \\left(x + 32\\right) \\left(x^{2} + 42 x + 23\\right)\\end{array}\\right]$\n"
      ],
      "text/plain": [
       "26×2 Matrix{Sym}:\n",
       "  0  x^5 - 15*x^4 + 85*x^3 - 225*x^2 + 274*x - 119\n",
       "  2                                  x^2*(x + 1)^3\n",
       "  3                              x^5 + x^3 + x - 1\n",
       "  5                                    x^5 - x + 2\n",
       "  7                  x^5 - x^4 + x^3 - x^2 + x + 1\n",
       " 11            x^5 - 4*x^4 - 3*x^3 - 5*x^2 - x + 3\n",
       " 13        (x + 5)*(x^2 - 4*x - 3)*(x^2 - 3*x - 6)\n",
       " 17                  x^5 + 2*x^4 - 4*x^2 + 2*x + 1\n",
       " 19          (x - 7)*(x + 7)*(x^3 + 4*x^2 + x + 9)\n",
       " 23        (x^2 - 9*x - 8)*(x^3 - 6*x^2 - 7*x + 9)\n",
       " 29        x^5 + 14*x^4 - 2*x^3 + 7*x^2 + 13*x - 2\n",
       " 31         (x - 14)*(x^4 - x^3 + 9*x^2 - 6*x + 4)\n",
       " 37     (x + 8)*(x^4 + 14*x^3 + 10*x^2 - 9*x + 13)\n",
       " 41      (x + 7)*(x + 16)*(x^3 + 3*x^2 - 14*x + 7)\n",
       " 43   (x^2 + 15*x - 10)*(x^3 + 13*x^2 - 14*x - 14)\n",
       " 47      (x - 14)*(x^2 - 9*x - 9)*(x^2 + 8*x + 11)\n",
       " 53      (x - 14)*(x + 6)*(x^3 - 7*x^2 + 7*x - 15)\n",
       " 59          x*(x^4 - 15*x^3 + 26*x^2 + 11*x - 21)\n",
       " 61      (x - 6)*(x + 7)*(x + 20)*(x^2 + 25*x + 9)\n",
       " 67     (x - 22)*(x^4 + 7*x^3 - 29*x^2 + 8*x - 19)\n",
       " 71    (x^2 - 30*x - 19)*(x^3 + 15*x^2 - 14*x - 5)\n",
       " 73       (x + 15)*(x^4 - 30*x^3 + 24*x^2 - x - 3)\n",
       " 79    (x + 32)*(x^4 + 32*x^3 + 9*x^2 - 39*x + 21)\n",
       " 83   (x - 30)*(x + 27)*(x^3 - 12*x^2 + 29*x + 19)\n",
       " 89    (x^2 + 39*x - 1)*(x^3 + 35*x^2 - 33*x + 29)\n",
       " 97    (x - 8)*(x + 16)*(x + 32)*(x^2 + 42*x + 23)"
      ]
     },
     "execution_count": 14,
     "metadata": {},
     "output_type": "execute_result"
    }
   ],
   "source": [
    "vcat([0 f.expand()], ([p sympy.factor(f+1, modulus=p)] for p in Primes.primes(100))...)"
   ]
  },
  {
   "cell_type": "code",
   "execution_count": null,
   "id": "edf4f69b-e7be-4be0-b8e2-47ef3a353710",
   "metadata": {},
   "outputs": [],
   "source": []
  }
 ],
 "metadata": {
  "jupytext": {
   "formats": "ipynb,jl:hydrogen"
  },
  "kernelspec": {
   "display_name": "Julia 1.9.0",
   "language": "julia",
   "name": "julia-1.9"
  },
  "language_info": {
   "file_extension": ".jl",
   "mimetype": "application/julia",
   "name": "julia",
   "version": "1.9.0"
  }
 },
 "nbformat": 4,
 "nbformat_minor": 5
}
