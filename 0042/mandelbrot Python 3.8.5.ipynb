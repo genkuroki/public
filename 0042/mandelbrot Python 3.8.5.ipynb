{
 "cells": [
  {
   "cell_type": "code",
   "execution_count": 1,
   "id": "a46aeba1-d401-4fc9-9017-0da60b41118a",
   "metadata": {},
   "outputs": [
    {
     "data": {
      "text/plain": [
       "'3.8.5 (default, Sep  3 2020, 21:29:08) [MSC v.1916 64 bit (AMD64)]'"
      ]
     },
     "execution_count": 1,
     "metadata": {},
     "output_type": "execute_result"
    }
   ],
   "source": [
    "import sys\n",
    "sys.version"
   ]
  },
  {
   "cell_type": "markdown",
   "id": "69d63abe-44ea-42a4-ac08-6d9e682d96a8",
   "metadata": {},
   "source": [
    "https://zenn.dev/turing_motors/articles/8b9a2c4d3e8882"
   ]
  },
  {
   "cell_type": "code",
   "execution_count": 2,
   "id": "d432806e-2fed-45ad-8b45-9d80b1714e9f",
   "metadata": {},
   "outputs": [
    {
     "name": "stdout",
     "output_type": "stream",
     "text": [
      "elapsed time: 415292.968 ms\n"
     ]
    }
   ],
   "source": [
    "import time\n",
    "\n",
    "xmin = -1.75\n",
    "xmax = 0.75\n",
    "width = 4096\n",
    "ymin = -1.25\n",
    "ymax = 1.25\n",
    "height = 4096\n",
    "max_iter = 500\n",
    "\n",
    "def mandelbrot_kernel(c):\n",
    "    z = c\n",
    "    for i in range(max_iter):\n",
    "        z = z * z + c\n",
    "\t# zが閾値を超えたら終了します\n",
    "        if abs(z) > 2:\n",
    "            return i\n",
    "    return max_iter\n",
    "\n",
    "def compute_mandelbrot(image):\n",
    "    dx = (xmax - xmin) / width\n",
    "    dy = (ymax - ymin) / height\n",
    "\t\t\n",
    "    # 各ピクセルごとに複素数を計算します\n",
    "    for j in range(height):\n",
    "        for i in range(width):\n",
    "            y = ymin + j * dy\n",
    "            x = xmin + i * dx\n",
    "            image[j][i] = mandelbrot_kernel(complex(x, y))\n",
    "    return image\n",
    "\n",
    "image = [[0 for _ in range(width)] for _ in range(height)]\n",
    "t0 = time.time()\n",
    "image = compute_mandelbrot(image)\n",
    "t1 = time.time()\n",
    "print(f\"elapsed time: {(t1-t0) * 1000:.3f} ms\")"
   ]
  },
  {
   "cell_type": "code",
   "execution_count": null,
   "id": "607a95b0-8fec-420f-910a-75f2dec42dae",
   "metadata": {},
   "outputs": [],
   "source": []
  }
 ],
 "metadata": {
  "jupytext": {
   "formats": "ipynb,py:hydrogen"
  },
  "kernelspec": {
   "display_name": "Python 3 (ipykernel)",
   "language": "python",
   "name": "python3"
  },
  "language_info": {
   "codemirror_mode": {
    "name": "ipython",
    "version": 3
   },
   "file_extension": ".py",
   "mimetype": "text/x-python",
   "name": "python",
   "nbconvert_exporter": "python",
   "pygments_lexer": "ipython3",
   "version": "3.8.5"
  }
 },
 "nbformat": 4,
 "nbformat_minor": 5
}
