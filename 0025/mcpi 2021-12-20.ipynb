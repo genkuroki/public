{
 "cells": [
  {
   "cell_type": "code",
   "execution_count": 1,
   "id": "b4b01cd2-81ce-4b86-b010-abe6094828f4",
   "metadata": {},
   "outputs": [],
   "source": [
    "using BenchmarkTools"
   ]
  },
  {
   "cell_type": "code",
   "execution_count": 2,
   "id": "29ca533c-7159-414a-8c6c-770ab8fecf9f",
   "metadata": {},
   "outputs": [
    {
     "name": "stdout",
     "output_type": "stream",
     "text": [
      "Julia v1.7.0\n",
      "mcpi(10^8):  238.200 ms (12 allocations: 19.62 KiB)\n"
     ]
    },
    {
     "data": {
      "text/plain": [
       "3.14119232"
      ]
     },
     "execution_count": 2,
     "metadata": {},
     "output_type": "execute_result"
    }
   ],
   "source": [
    "using Random\n",
    "\n",
    "function mcpi(N, rng = MersenneTwister())\n",
    "    c = 0\n",
    "    for _ in 1:N\n",
    "        c += rand(rng)^2 + rand(rng)^2 ≤ 1\n",
    "    end\n",
    "    4c/N\n",
    "end\n",
    "\n",
    "println(\"Julia v\", VERSION)\n",
    "print(\"mcpi(10^8):\")\n",
    "@btime mcpi(10^8)"
   ]
  },
  {
   "cell_type": "code",
   "execution_count": 3,
   "id": "e07ffdd1-ba61-4451-bb00-80a80d3cdf25",
   "metadata": {},
   "outputs": [
    {
     "name": "stdout",
     "output_type": "stream",
     "text": [
      "Julia v1.7.0\n",
      "Threads.nthreads() = 12\n",
      "mcpi_atomic(10^8):  1.986 s (76 allocations: 26.98 KiB)\n"
     ]
    },
    {
     "data": {
      "text/plain": [
       "3.14145772"
      ]
     },
     "execution_count": 3,
     "metadata": {},
     "output_type": "execute_result"
    }
   ],
   "source": [
    "using Base.Threads\n",
    "using Random\n",
    "\n",
    "function mcpi_atomic(N, rng = MersenneTwister())\n",
    "    a = Atomic{Int}(0)\n",
    "    @threads for _ in 1:N\n",
    "        atomic_add!(a, Int(rand(rng)^2 + rand(rng)^2 ≤ 1))\n",
    "    end\n",
    "    4a[]/N\n",
    "end\n",
    "\n",
    "println(\"Julia v\", VERSION)\n",
    "@show Threads.nthreads()\n",
    "print(\"mcpi_atomic(10^8):\")\n",
    "@btime mcpi_atomic(10^8)"
   ]
  },
  {
   "cell_type": "markdown",
   "id": "c05ffb77-b0d2-4b81-8deb-f7a0d5ebf1c4",
   "metadata": {},
   "source": [
    "https://gist.github.com/TsuMakoto/4138d3c2fd05a400d02eff0b91e34658"
   ]
  },
  {
   "cell_type": "code",
   "execution_count": 4,
   "id": "c61e8c1e-b5dd-4c63-8172-8688a9a4181e",
   "metadata": {},
   "outputs": [
    {
     "name": "stdout",
     "output_type": "stream",
     "text": [
      "Julia v1.7.0\n",
      "Threads.nthreads() = 12\n",
      "mcpi_tm(10^8):  6.651 s (76 allocations: 26.98 KiB)\n"
     ]
    },
    {
     "data": {
      "text/plain": [
       "3.14094128"
      ]
     },
     "execution_count": 4,
     "metadata": {},
     "output_type": "execute_result"
    }
   ],
   "source": [
    "using Base.Threads\n",
    "using Random\n",
    "\n",
    "mutable struct MCAtomic{T}; @atomic n::T; end\n",
    "\n",
    "function mcpi_tm(N, rng = MersenneTwister())\n",
    "    mc = MCAtomic(0)\n",
    "    @threads for _ in 1:N\n",
    "        @atomic mc.n += Int(rand(rng)^2 + rand(rng)^2 ≤ 1)\n",
    "    end\n",
    "    4mc.n/N\n",
    "end\n",
    "\n",
    "println(\"Julia v\", VERSION)\n",
    "@show Threads.nthreads()\n",
    "print(\"mcpi_tm(10^8):\")\n",
    "@btime mcpi_tm(10^8)"
   ]
  },
  {
   "cell_type": "code",
   "execution_count": 5,
   "id": "00b42d1b-9831-44b3-ab99-19a524a099e2",
   "metadata": {},
   "outputs": [
    {
     "name": "stdout",
     "output_type": "stream",
     "text": [
      "Julia v1.7.0\n",
      "Threads.nthreads() = 12\n",
      "mcpi_splittange_atomic(10^8):  38.383 ms (207 allocations: 243.03 KiB)\n"
     ]
    },
    {
     "data": {
      "text/plain": [
       "3.14144344"
      ]
     },
     "execution_count": 5,
     "metadata": {},
     "output_type": "execute_result"
    }
   ],
   "source": [
    "using Base.Threads\n",
    "using Distributed: splitrange\n",
    "using Random\n",
    "\n",
    "function mcpi_splittange_atomic(N)\n",
    "    ranges = splitrange(1, N, nthreads())\n",
    "    a = Atomic{Int}(0)\n",
    "    @threads for ran in ranges\n",
    "        rng = MersenneTwister()\n",
    "        c = 0\n",
    "        for _ in ran\n",
    "            c += rand(rng)^2 + rand(rng)^2 ≤ 1\n",
    "        end\n",
    "        atomic_add!(a, c)\n",
    "    end\n",
    "    4a[]/N\n",
    "end\n",
    "\n",
    "println(\"Julia v\", VERSION)\n",
    "@show Threads.nthreads()\n",
    "print(\"mcpi_splittange_atomic(10^8):\")\n",
    "@btime mcpi_splittange_atomic(10^8)"
   ]
  },
  {
   "cell_type": "code",
   "execution_count": 6,
   "id": "c7c77869-f316-4744-a9ce-15a9a6f4690d",
   "metadata": {},
   "outputs": [
    {
     "data": {
      "text/latex": [
       "\\begin{verbatim}\n",
       "@my_threads\n",
       "\\end{verbatim}\n",
       "A macro to parallelize a \\texttt{for} loop to run with multiple threads.  It splits the iteration space among multiple tasks with \\texttt{prebody} and \\texttt{postbody}. It runs those tasks on threads according to a scheduling policy. Usage:\n",
       "\n",
       "\\begin{verbatim}\n",
       "@my_threads [schedule] begin\n",
       "    prebody\n",
       "end for ...\n",
       "    ...\n",
       "end begin\n",
       "    postbody\n",
       "end\n",
       "\\end{verbatim}\n"
      ],
      "text/markdown": [
       "```\n",
       "@my_threads\n",
       "```\n",
       "\n",
       "A macro to parallelize a `for` loop to run with multiple threads.  It splits the iteration space among multiple tasks with `prebody` and `postbody`. It runs those tasks on threads according to a scheduling policy. Usage:\n",
       "\n",
       "```julia\n",
       "@my_threads [schedule] begin\n",
       "    prebody\n",
       "end for ...\n",
       "    ...\n",
       "end begin\n",
       "    postbody\n",
       "end\n",
       "```\n"
      ],
      "text/plain": [
       "\u001b[36m  @my_threads\u001b[39m\n",
       "\n",
       "  A macro to parallelize a \u001b[36mfor\u001b[39m loop to run with multiple threads. It splits\n",
       "  the iteration space among multiple tasks with \u001b[36mprebody\u001b[39m and \u001b[36mpostbody\u001b[39m. It runs\n",
       "  those tasks on threads according to a scheduling policy. Usage:\n",
       "\n",
       "\u001b[36m  @my_threads [schedule] begin\u001b[39m\n",
       "\u001b[36m      prebody\u001b[39m\n",
       "\u001b[36m  end for ...\u001b[39m\n",
       "\u001b[36m      ...\u001b[39m\n",
       "\u001b[36m  end begin\u001b[39m\n",
       "\u001b[36m      postbody\u001b[39m\n",
       "\u001b[36m  end\u001b[39m"
      ]
     },
     "execution_count": 6,
     "metadata": {},
     "output_type": "execute_result"
    }
   ],
   "source": [
    "# The following code is a modified version of\n",
    "# \n",
    "#    function _threadsfor(iter, lbody, schedule) \n",
    "#    macro threads(args...)\n",
    "#\n",
    "# in https://github.com/JuliaLang/julia/blob/9f3265399227fbfc4f0160ec3592a9262bd3eb5f/base/threadingconstructs.jl\n",
    "#\n",
    "# Its license is MIT: https://julialang.org/license\n",
    "\n",
    "using Base.Threads\n",
    "using Base.Threads: threading_run\n",
    "\n",
    "function _my_threadsfor(iter, lbody, prebody, postbody, schedule)\n",
    "    lidx = iter.args[1]         # index\n",
    "    range = iter.args[2]\n",
    "    quote\n",
    "        local threadsfor_fun\n",
    "        let range = $(esc(range))\n",
    "        function threadsfor_fun(onethread=false)\n",
    "            r = range # Load into local variable\n",
    "            lenr = length(r)\n",
    "            # divide loop iterations among threads\n",
    "            if onethread\n",
    "                tid = 1\n",
    "                len, rem = lenr, 0\n",
    "            else\n",
    "                tid = threadid()\n",
    "                len, rem = divrem(lenr, nthreads())\n",
    "            end\n",
    "            # not enough iterations for all the threads?\n",
    "            if len == 0\n",
    "                if tid > rem\n",
    "                    return\n",
    "                end\n",
    "                len, rem = 1, 0\n",
    "            end\n",
    "            # compute this thread's iterations\n",
    "            f = firstindex(r) + ((tid-1) * len)\n",
    "            l = f + len - 1\n",
    "            # distribute remaining iterations evenly\n",
    "            if rem > 0\n",
    "                if tid <= rem\n",
    "                    f = f + (tid-1)\n",
    "                    l = l + tid\n",
    "                else\n",
    "                    f = f + rem\n",
    "                    l = l + rem\n",
    "                end\n",
    "            end\n",
    "            # run prebody\n",
    "            $(esc(prebody))\n",
    "            # run this thread's iterations\n",
    "            for i = f:l\n",
    "                local $(esc(lidx)) = @inbounds r[i]\n",
    "                $(esc(lbody))\n",
    "            end\n",
    "            # run postbody\n",
    "            $(esc(postbody))\n",
    "        end\n",
    "        end\n",
    "        if threadid() != 1 || ccall(:jl_in_threaded_region, Cint, ()) != 0\n",
    "            $(if schedule === :static\n",
    "              :(error(\"`@my_threads :static` can only be used from thread 1 and not nested\"))\n",
    "              else\n",
    "              # only use threads when called from thread 1, outside @threads\n",
    "              :(Base.invokelatest(threadsfor_fun, true))\n",
    "              end)\n",
    "        else\n",
    "            threading_run(threadsfor_fun)\n",
    "        end\n",
    "        nothing\n",
    "    end\n",
    "end\n",
    "\n",
    "\"\"\"\n",
    "    @my_threads\n",
    "A macro to parallelize a `for` loop to run with multiple threads. \n",
    "It splits the iteration space among multiple tasks with `prebody` and `postbody`.\n",
    "It runs those tasks on threads according to a scheduling policy.\n",
    "Usage:\n",
    "```julia\n",
    "@my_threads [schedule] begin\n",
    "    prebody\n",
    "end for ...\n",
    "    ...\n",
    "end begin\n",
    "    postbody\n",
    "end\n",
    "```\n",
    "\"\"\"\n",
    "macro my_threads(args...)\n",
    "    na = length(args)\n",
    "    if na == 4\n",
    "        sched, prebody, ex, bostbody = args\n",
    "        if sched isa QuoteNode\n",
    "            sched = sched.value\n",
    "        elseif sched isa Symbol\n",
    "            # for now only allow quoted symbols\n",
    "            sched = nothing\n",
    "        end\n",
    "        if sched !== :static\n",
    "            throw(ArgumentError(\"unsupported schedule argument in @threads\"))\n",
    "        end\n",
    "    elseif na == 3\n",
    "        sched = :default\n",
    "        prebody, ex, postbody = args\n",
    "    else\n",
    "        throw(ArgumentError(\"wrong number of arguments in @my_threads\"))\n",
    "    end\n",
    "    if !(isa(ex, Expr) && ex.head === :for)\n",
    "        throw(ArgumentError(\"@my_threads requires a `for` loop expression\"))\n",
    "    end\n",
    "    if !(ex.args[1] isa Expr && ex.args[1].head === :(=))\n",
    "        throw(ArgumentError(\"nested outer loops are not currently supported by @my_threads\"))\n",
    "    end\n",
    "    return _my_threadsfor(ex.args[1], ex.args[2], prebody, postbody, sched)\n",
    "end\n",
    "\n",
    "@doc @my_threads"
   ]
  },
  {
   "cell_type": "code",
   "execution_count": 7,
   "id": "b0dc4a5f-7377-4e35-aa2f-0ebb7d565478",
   "metadata": {},
   "outputs": [
    {
     "name": "stdout",
     "output_type": "stream",
     "text": [
      "Julia v1.7.0\n",
      "Threads.nthreads() = 12\n",
      "mcpi_my_threads(10^8):  38.951 ms (217 allocations: 242.95 KiB)\n"
     ]
    },
    {
     "data": {
      "text/plain": [
       "3.14158692"
      ]
     },
     "execution_count": 7,
     "metadata": {},
     "output_type": "execute_result"
    }
   ],
   "source": [
    "using Random\n",
    "\n",
    "function mcpi_my_threads(N)\n",
    "    a = Atomic{Int}(0)\n",
    "    @my_threads begin\n",
    "        rng = MersenneTwister()\n",
    "        c = 0\n",
    "    end for _ in 1:N\n",
    "        c += rand(rng)^2 + rand(rng)^2 ≤ 1\n",
    "    end begin\n",
    "        atomic_add!(a, c)\n",
    "    end\n",
    "    4a[]/N\n",
    "end\n",
    "\n",
    "println(\"Julia v\", VERSION)\n",
    "@show Threads.nthreads()\n",
    "print(\"mcpi_my_threads(10^8):\")\n",
    "@btime mcpi_my_threads(10^8)"
   ]
  },
  {
   "cell_type": "code",
   "execution_count": null,
   "id": "e9354388-782f-487b-be9b-74f366efe0e6",
   "metadata": {},
   "outputs": [],
   "source": []
  }
 ],
 "metadata": {
  "jupytext": {
   "formats": "ipynb,jl:hydrogen"
  },
  "kernelspec": {
   "display_name": "Julia 1.7.0",
   "language": "julia",
   "name": "julia-1.7"
  },
  "language_info": {
   "file_extension": ".jl",
   "mimetype": "application/julia",
   "name": "julia",
   "version": "1.7.0"
  }
 },
 "nbformat": 4,
 "nbformat_minor": 5
}
