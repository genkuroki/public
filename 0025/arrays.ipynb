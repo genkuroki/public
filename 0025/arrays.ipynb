{
 "cells": [
  {
   "cell_type": "code",
   "execution_count": 1,
   "id": "c7b817e8-8253-4ac5-852e-388c17b9de90",
   "metadata": {},
   "outputs": [
    {
     "name": "stdout",
     "output_type": "stream",
     "text": [
      "a = rand(10) = [0.11406414631337813, 0.8668313400386214, 0.8478718475032364, 0.26997992951421823, 0.3245262135445748, 0.87911748172887, 0.5732783315840341, 0.2180921860067102, 0.8574211919922937, 0.10984449263517249]\n"
     ]
    }
   ],
   "source": [
    "@show a = rand(10);"
   ]
  },
  {
   "cell_type": "code",
   "execution_count": 2,
   "id": "9dc017f1-8a47-4724-a288-d491cb60478b",
   "metadata": {},
   "outputs": [
    {
     "name": "stdout",
     "output_type": "stream",
     "text": [
      "x = 0.11406414631337813\n",
      "x = 0.8668313400386214\n",
      "x = 0.8478718475032364\n",
      "x = 0.26997992951421823\n",
      "x = 0.3245262135445748\n",
      "x = 0.87911748172887\n",
      "x = 0.5732783315840341\n",
      "x = 0.2180921860067102\n",
      "x = 0.8574211919922937\n",
      "x = 0.10984449263517249\n"
     ]
    }
   ],
   "source": [
    "for x in a\n",
    "    @show x\n",
    "end"
   ]
  },
  {
   "cell_type": "code",
   "execution_count": 3,
   "id": "d1c993b0-1cd8-4d44-b85e-ac8bceec7d0e",
   "metadata": {},
   "outputs": [
    {
     "name": "stdout",
     "output_type": "stream",
     "text": [
      "a[1] = 0.11406414631337813\n",
      "a[2] = 0.8668313400386214\n",
      "a[3] = 0.8478718475032364\n",
      "a[4] = 0.26997992951421823\n",
      "a[5] = 0.3245262135445748\n",
      "a[6] = 0.87911748172887\n",
      "a[7] = 0.5732783315840341\n",
      "a[8] = 0.2180921860067102\n",
      "a[9] = 0.8574211919922937\n",
      "a[10] = 0.10984449263517249\n"
     ]
    }
   ],
   "source": [
    "for i in keys(a)\n",
    "    @eval @show a[$i]\n",
    "end"
   ]
  },
  {
   "cell_type": "code",
   "execution_count": 4,
   "id": "f20724ba-55cf-4d04-a020-ecc0582bacd1",
   "metadata": {},
   "outputs": [
    {
     "name": "stdout",
     "output_type": "stream",
     "text": [
      "0.11406414631337813\n",
      "0.8668313400386214\n",
      "0.8478718475032364\n",
      "0.26997992951421823\n",
      "0.3245262135445748\n",
      "0.87911748172887\n",
      "0.5732783315840341\n",
      "0.2180921860067102\n",
      "0.8574211919922937\n",
      "0.10984449263517249\n"
     ]
    }
   ],
   "source": [
    "println.(a);"
   ]
  },
  {
   "cell_type": "code",
   "execution_count": 5,
   "id": "2ece4eb8-5627-48e6-841f-d43a1f850317",
   "metadata": {},
   "outputs": [
    {
     "name": "stdout",
     "output_type": "stream",
     "text": [
      "b[-4] = 0.11406414631337813\n",
      "b[-3] = 0.8668313400386214\n",
      "b[-2] = 0.8478718475032364\n",
      "b[-1] = 0.26997992951421823\n",
      "b[0] = 0.3245262135445748\n",
      "b[1] = 0.87911748172887\n",
      "b[2] = 0.5732783315840341\n",
      "b[3] = 0.2180921860067102\n",
      "b[4] = 0.8574211919922937\n",
      "b[5] = 0.10984449263517249\n"
     ]
    }
   ],
   "source": [
    "using OffsetArrays\n",
    "b = OffsetVector(a, -4:5)\n",
    "for i in keys(b)\n",
    "    @eval @show b[$i]\n",
    "end"
   ]
  },
  {
   "cell_type": "code",
   "execution_count": null,
   "id": "679d81ee-c767-44a8-997f-680e8e500730",
   "metadata": {},
   "outputs": [],
   "source": []
  }
 ],
 "metadata": {
  "kernelspec": {
   "display_name": "Julia 1.7.0",
   "language": "julia",
   "name": "julia-1.7"
  },
  "language_info": {
   "file_extension": ".jl",
   "mimetype": "application/julia",
   "name": "julia",
   "version": "1.7.0"
  }
 },
 "nbformat": 4,
 "nbformat_minor": 5
}
