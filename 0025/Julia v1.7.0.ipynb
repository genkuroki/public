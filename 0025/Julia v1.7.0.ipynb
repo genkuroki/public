{
 "cells": [
  {
   "cell_type": "code",
   "execution_count": 1,
   "id": "54ffd799-ee30-4279-bb0b-d029e14ce717",
   "metadata": {},
   "outputs": [
    {
     "data": {
      "text/plain": [
       "v\"1.7.0\""
      ]
     },
     "execution_count": 1,
     "metadata": {},
     "output_type": "execute_result"
    }
   ],
   "source": [
    "VERSION"
   ]
  },
  {
   "cell_type": "code",
   "execution_count": 2,
   "id": "f1a7339e-ac9f-45e4-8196-73753b638160",
   "metadata": {},
   "outputs": [
    {
     "data": {
      "text/plain": [
       "6.0"
      ]
     },
     "execution_count": 2,
     "metadata": {},
     "output_type": "execute_result"
    }
   ],
   "source": [
    "2∛27"
   ]
  },
  {
   "cell_type": "code",
   "execution_count": 3,
   "id": "c94a20db-e7d7-444a-8102-4822acf1dd49",
   "metadata": {},
   "outputs": [
    {
     "data": {
      "text/plain": [
       "(a = 1, b = 2.0, c = \"three\")"
      ]
     },
     "execution_count": 3,
     "metadata": {},
     "output_type": "execute_result"
    }
   ],
   "source": [
    "t = (a = 1, b = 2.0, c = \"three\")"
   ]
  },
  {
   "cell_type": "code",
   "execution_count": 4,
   "id": "832cb9d7-6657-4030-a3fe-3123d52697e6",
   "metadata": {},
   "outputs": [
    {
     "data": {
      "text/plain": [
       "(1, 2.0, \"three\")"
      ]
     },
     "execution_count": 4,
     "metadata": {},
     "output_type": "execute_result"
    }
   ],
   "source": [
    "a, b, c = t\n",
    "a, b, c"
   ]
  },
  {
   "cell_type": "code",
   "execution_count": 5,
   "id": "40849abe-547b-4274-89c1-533ad3077359",
   "metadata": {},
   "outputs": [
    {
     "data": {
      "text/plain": [
       "2×2×2 Array{Int64, 3}:\n",
       "[:, :, 1] =\n",
       " 1  3\n",
       " 2  4\n",
       "\n",
       "[:, :, 2] =\n",
       " 5  7\n",
       " 6  8"
      ]
     },
     "execution_count": 5,
     "metadata": {},
     "output_type": "execute_result"
    }
   ],
   "source": [
    "A = [1;2;;3;4;;;5;6;;7;8]"
   ]
  },
  {
   "cell_type": "code",
   "execution_count": 6,
   "id": "f13737b7-ffce-4c94-8d03-c0d04e4cc405",
   "metadata": {},
   "outputs": [
    {
     "name": "stdout",
     "output_type": "stream",
     "text": [
      "BLAS.get_config() = LBTConfig([ILP64] libopenblas64_.dll)\n",
      "  6.073547 seconds (1.93 M allocations: 231.421 MiB, 2.18% gc time, 10.09% compilation time)\n",
      "  5.366227 seconds (22 allocations: 130.173 MiB, 0.16% gc time)\n",
      "  5.364041 seconds (22 allocations: 130.173 MiB, 0.18% gc time)\n"
     ]
    }
   ],
   "source": [
    "n = 2^11\n",
    "X = randn(n, n)\n",
    "\n",
    "using LinearAlgebra\n",
    "@show BLAS.get_config()\n",
    "@time eigen(X)\n",
    "@time eigen(X)\n",
    "@time eigen(X);"
   ]
  },
  {
   "cell_type": "code",
   "execution_count": 7,
   "id": "46626b53-2bd1-4845-a186-eb30bbeca583",
   "metadata": {},
   "outputs": [
    {
     "name": "stdout",
     "output_type": "stream",
     "text": [
      "BLAS.get_config() = LBTConfig([ILP64] mkl_rt.1.dll)\n",
      "  3.981651 seconds (22 allocations: 134.173 MiB, 0.17% gc time)\n",
      "  3.892595 seconds (22 allocations: 134.173 MiB, 0.61% gc time)\n",
      "  3.852908 seconds (22 allocations: 134.173 MiB)\n"
     ]
    }
   ],
   "source": [
    "using MKL\n",
    "@show BLAS.get_config()\n",
    "@time eigen(X)\n",
    "@time eigen(X)\n",
    "@time eigen(X);"
   ]
  },
  {
   "cell_type": "code",
   "execution_count": null,
   "id": "d8cfb9f1-232a-4c75-ae59-a26d10ce5f5c",
   "metadata": {},
   "outputs": [],
   "source": []
  }
 ],
 "metadata": {
  "kernelspec": {
   "display_name": "Julia 1.7.0",
   "language": "julia",
   "name": "julia-1.7"
  },
  "language_info": {
   "file_extension": ".jl",
   "mimetype": "application/julia",
   "name": "julia",
   "version": "1.7.0"
  }
 },
 "nbformat": 4,
 "nbformat_minor": 5
}
