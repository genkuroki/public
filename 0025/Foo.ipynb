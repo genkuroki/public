{
 "cells": [
  {
   "cell_type": "code",
   "execution_count": 1,
   "id": "4120ca8b-ddb4-4a0a-9efc-1ea2b625bc70",
   "metadata": {},
   "outputs": [],
   "source": [
    "struct Foo{A, B}\n",
    "    a::A\n",
    "    b::B\n",
    "end"
   ]
  },
  {
   "cell_type": "code",
   "execution_count": 2,
   "id": "93253272-3a2a-421d-8d1c-a016de8f10e3",
   "metadata": {},
   "outputs": [
    {
     "data": {
      "text/html": [
       "# 1 method for type constructor:<ul><li> Foo(a::<b>A</b>, b::<b>B</b>)<i> where {A, B}</i> in Main at In[1]:2</li> </ul>"
      ],
      "text/plain": [
       "# 1 method for type constructor:\n",
       "[1] Foo(a::A, b::B) where {A, B} in Main at In[1]:2"
      ]
     },
     "execution_count": 2,
     "metadata": {},
     "output_type": "execute_result"
    }
   ],
   "source": [
    "methods(Foo)"
   ]
  },
  {
   "cell_type": "code",
   "execution_count": 3,
   "id": "a52eeaae-af85-46e7-9d89-0ac298590d29",
   "metadata": {},
   "outputs": [
    {
     "data": {
      "text/html": [
       "# 1 method for type constructor:<ul><li> Foo{A, B}(a, b)<i> where {A, B}</i> in Main at In[1]:2</li> </ul>"
      ],
      "text/plain": [
       "# 1 method for type constructor:\n",
       "[1] Foo{A, B}(a, b) where {A, B} in Main at In[1]:2"
      ]
     },
     "execution_count": 3,
     "metadata": {},
     "output_type": "execute_result"
    }
   ],
   "source": [
    "methods(Foo{Int, Int})"
   ]
  },
  {
   "cell_type": "code",
   "execution_count": 4,
   "id": "73140a16-d6d2-4566-a83c-2471f7704d40",
   "metadata": {},
   "outputs": [
    {
     "data": {
      "text/plain": [
       "Foo{Float64, Int64}(1.2, 34)"
      ]
     },
     "execution_count": 4,
     "metadata": {},
     "output_type": "execute_result"
    }
   ],
   "source": [
    "foo = Foo(1.2, 34)"
   ]
  },
  {
   "cell_type": "code",
   "execution_count": 5,
   "id": "e78b68b9-5e9c-4416-a0c2-4fa7a949f070",
   "metadata": {},
   "outputs": [
    {
     "data": {
      "text/plain": [
       "mult (generic function with 1 method)"
      ]
     },
     "execution_count": 5,
     "metadata": {},
     "output_type": "execute_result"
    }
   ],
   "source": [
    "mult(x::Foo{<:Number, <:Number}) = x.a * x.b"
   ]
  },
  {
   "cell_type": "code",
   "execution_count": 6,
   "id": "ec7f06f3-41b8-42c5-86e5-b0979165e524",
   "metadata": {},
   "outputs": [
    {
     "data": {
      "text/html": [
       "# 1 method for generic function <b>mult</b>:<ul><li> mult(x::<b>Foo{<:Number, <:Number}</b>) in Main at In[5]:1</li> </ul>"
      ],
      "text/plain": [
       "# 1 method for generic function \"mult\":\n",
       "[1] mult(x::Foo{<:Number, <:Number}) in Main at In[5]:1"
      ]
     },
     "execution_count": 6,
     "metadata": {},
     "output_type": "execute_result"
    }
   ],
   "source": [
    "methods(mult)"
   ]
  },
  {
   "cell_type": "code",
   "execution_count": 7,
   "id": "fcb953aa-ee3e-43f9-bb16-9f9021efa4db",
   "metadata": {},
   "outputs": [
    {
     "data": {
      "text/plain": [
       "6 + 8im"
      ]
     },
     "execution_count": 7,
     "metadata": {},
     "output_type": "execute_result"
    }
   ],
   "source": [
    "mult(Foo(2, 3 + 4im))"
   ]
  },
  {
   "cell_type": "code",
   "execution_count": 8,
   "id": "55108b79-468c-4854-9025-ff627ab87822",
   "metadata": {},
   "outputs": [
    {
     "data": {
      "text/plain": [
       "mult (generic function with 2 methods)"
      ]
     },
     "execution_count": 8,
     "metadata": {},
     "output_type": "execute_result"
    }
   ],
   "source": [
    "mult(x::Foo{<:Integer, <:AbstractString}) = x.b ^ x.a"
   ]
  },
  {
   "cell_type": "code",
   "execution_count": 9,
   "id": "e2adde27-c157-4f7f-a782-75e85f41c205",
   "metadata": {},
   "outputs": [
    {
     "data": {
      "text/html": [
       "# 2 methods for generic function <b>mult</b>:<ul><li> mult(x::<b>Foo{<:Integer, <:AbstractString}</b>) in Main at In[8]:1</li> <li> mult(x::<b>Foo{<:Number, <:Number}</b>) in Main at In[5]:1</li> </ul>"
      ],
      "text/plain": [
       "# 2 methods for generic function \"mult\":\n",
       "[1] mult(x::Foo{<:Integer, <:AbstractString}) in Main at In[8]:1\n",
       "[2] mult(x::Foo{<:Number, <:Number}) in Main at In[5]:1"
      ]
     },
     "execution_count": 9,
     "metadata": {},
     "output_type": "execute_result"
    }
   ],
   "source": [
    "methods(mult)"
   ]
  },
  {
   "cell_type": "code",
   "execution_count": 10,
   "id": "e1f681ee-51e3-4692-90ab-fc1d798ad7ba",
   "metadata": {},
   "outputs": [
    {
     "data": {
      "text/plain": [
       "\"hoge! hoge! hoge! hoge! hoge! hoge! hoge! hoge! hoge! hoge! \""
      ]
     },
     "execution_count": 10,
     "metadata": {},
     "output_type": "execute_result"
    }
   ],
   "source": [
    "mult(Foo(10, \"hoge! \"))"
   ]
  },
  {
   "cell_type": "code",
   "execution_count": null,
   "id": "7e2be092-4292-4dd2-8954-25dd2b23e30c",
   "metadata": {},
   "outputs": [],
   "source": []
  }
 ],
 "metadata": {
  "jupytext": {
   "formats": "ipynb,jl:hydrogen"
  },
  "kernelspec": {
   "display_name": "Julia 1.7.0",
   "language": "julia",
   "name": "julia-1.7"
  },
  "language_info": {
   "file_extension": ".jl",
   "mimetype": "application/julia",
   "name": "julia",
   "version": "1.7.0"
  }
 },
 "nbformat": 4,
 "nbformat_minor": 5
}
