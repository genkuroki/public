{
 "cells": [
  {
   "cell_type": "markdown",
   "id": "5f112ea0-bd49-43de-a6da-9220bba4a8cc",
   "metadata": {},
   "source": [
    "https://twitter.com/mkashi/status/1466794901111455749"
   ]
  },
  {
   "cell_type": "code",
   "execution_count": 1,
   "id": "fe64376e-4f97-4ffb-9700-739812e54a79",
   "metadata": {},
   "outputs": [
    {
     "name": "stdout",
     "output_type": "stream",
     "text": [
      "Julia Version 1.7.0\n",
      "Commit 3bf9d17731 (2021-11-30 12:12 UTC)\n",
      "Platform Info:\n",
      "  OS: Windows (x86_64-w64-mingw32)\n",
      "  CPU: Intel(R) Core(TM) i7-10750H CPU @ 2.60GHz\n",
      "  WORD_SIZE: 64\n",
      "  LIBM: libopenlibm\n",
      "  LLVM: libLLVM-12.0.1 (ORCJIT, skylake)\n",
      "Environment:\n",
      "  JULIA_DEPOT_PATH = D:\\.julia\n",
      "  JULIA_NUM_THREADS = 12\n",
      "  JULIA_PYTHONCALL_EXE = D:\\.julia\\conda\\3\\python.exe\n"
     ]
    }
   ],
   "source": [
    "versioninfo()"
   ]
  },
  {
   "cell_type": "code",
   "execution_count": 2,
   "id": "f2ec0cf9-7b03-4a3a-a8a0-8beb40d34ba8",
   "metadata": {},
   "outputs": [
    {
     "name": "stdout",
     "output_type": "stream",
     "text": [
      "  5.710590 seconds\n",
      "  5.728734 seconds\n",
      "  5.734568 seconds\n"
     ]
    },
    {
     "data": {
      "text/plain": [
       "0.48730753067792154"
      ]
     },
     "execution_count": 2,
     "metadata": {},
     "output_type": "execute_result"
    }
   ],
   "source": [
    "function hoge(x) for i in 1:10^9 x = 1 / (x * (x - 1)) + 4.6 end; x end\n",
    "@time hoge(0.5)\n",
    "@time hoge(0.5)\n",
    "@time hoge(0.5)"
   ]
  },
  {
   "cell_type": "code",
   "execution_count": 3,
   "id": "656c8fa3-ed19-4e02-b47d-66c6909f4b85",
   "metadata": {},
   "outputs": [
    {
     "name": "stdout",
     "output_type": "stream",
     "text": [
      "  4.851776 seconds\n",
      "  4.858440 seconds\n",
      "  4.854680 seconds\n"
     ]
    },
    {
     "data": {
      "text/plain": [
       "0.48730753067792154"
      ]
     },
     "execution_count": 3,
     "metadata": {},
     "output_type": "execute_result"
    }
   ],
   "source": [
    "function moge(x) for i in 1:10^9 x = 1 / muladd(x, x, -x) + 4.6 end; x end\n",
    "@time moge(0.5)\n",
    "@time moge(0.5)\n",
    "@time moge(0.5)"
   ]
  },
  {
   "cell_type": "code",
   "execution_count": 4,
   "id": "7aa2a7fb-cdf8-47fd-9d33-152fe40bb05e",
   "metadata": {},
   "outputs": [
    {
     "name": "stdout",
     "output_type": "stream",
     "text": [
      " 56.109004 seconds\n"
     ]
    },
    {
     "data": {
      "text/plain": [
       "0.45709987608693947"
      ]
     },
     "execution_count": 4,
     "metadata": {},
     "output_type": "execute_result"
    }
   ],
   "source": [
    "using DoubleFloats\n",
    "a = @time hoge(Double64(0.5))"
   ]
  },
  {
   "cell_type": "code",
   "execution_count": 5,
   "id": "3816743d-6083-40e7-94e7-d3abfe8ca16c",
   "metadata": {},
   "outputs": [
    {
     "name": "stdout",
     "output_type": "stream",
     "text": [
      "Double64\n",
      "  hi: Float64 0.45709987608693947\n",
      "  lo: Float64 1.4861874894266844e-17\n"
     ]
    }
   ],
   "source": [
    "dump(a)"
   ]
  },
  {
   "cell_type": "code",
   "execution_count": 6,
   "id": "2deede51-cb1d-424c-be5a-f565d4970435",
   "metadata": {},
   "outputs": [
    {
     "name": "stdout",
     "output_type": "stream",
     "text": [
      "127.291196 seconds\n"
     ]
    },
    {
     "data": {
      "text/plain": [
       "5.47514459174119908491991967899936694e-01"
      ]
     },
     "execution_count": 6,
     "metadata": {},
     "output_type": "execute_result"
    }
   ],
   "source": [
    "using Quadmath\n",
    "b = @time hoge(Float128(0.5))"
   ]
  },
  {
   "cell_type": "code",
   "execution_count": null,
   "id": "9b45557d-16b2-4e64-8cb9-1fe406685f48",
   "metadata": {},
   "outputs": [],
   "source": []
  }
 ],
 "metadata": {
  "kernelspec": {
   "display_name": "Julia 1.7.0",
   "language": "julia",
   "name": "julia-1.7"
  },
  "language_info": {
   "file_extension": ".jl",
   "mimetype": "application/julia",
   "name": "julia",
   "version": "1.7.0"
  }
 },
 "nbformat": 4,
 "nbformat_minor": 5
}
