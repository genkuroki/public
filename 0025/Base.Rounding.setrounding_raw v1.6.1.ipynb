{
 "cells": [
  {
   "cell_type": "markdown",
   "id": "c35f49fe-c0e2-411d-8907-0c632403a08e",
   "metadata": {},
   "source": [
    "https://twitter.com/takitoshi/status/1465221258463768576"
   ]
  },
  {
   "cell_type": "code",
   "execution_count": 1,
   "id": "52627690-7eeb-4776-ac33-80c8de2870f1",
   "metadata": {},
   "outputs": [
    {
     "name": "stdout",
     "output_type": "stream",
     "text": [
      "Julia Version 1.6.4\n",
      "Commit 35f0c911f4 (2021-11-19 03:54 UTC)\n",
      "Platform Info:\n",
      "  OS: Windows (x86_64-w64-mingw32)\n",
      "  CPU: Intel(R) Core(TM) i7-10750H CPU @ 2.60GHz\n",
      "  WORD_SIZE: 64\n",
      "  LIBM: libopenlibm\n",
      "  LLVM: libLLVM-11.0.1 (ORCJIT, skylake)\n",
      "Environment:\n",
      "  JULIA_DEPOT_PATH = D:\\.julia\n",
      "  JULIA_NUM_THREADS = 12\n",
      "  JULIA_PYTHONCALL_EXE = D:\\.julia\\conda\\3\\python.exe\n"
     ]
    }
   ],
   "source": [
    "versioninfo()"
   ]
  },
  {
   "cell_type": "code",
   "execution_count": null,
   "id": "06bd99e1-c48c-476e-a3a3-15dcd1911d15",
   "metadata": {},
   "outputs": [],
   "source": [
    "using Statistics\n",
    "\n",
    "for i in fill(12, 3)\n",
    "    @show n = 2^i\n",
    "    A, B = randn(n, n), randn(n, n)\n",
    "    Base.Rounding.setrounding_raw(Float64, 0x800) # RoundUp\n",
    "    Cup = A + B\n",
    "    Base.Rounding.setrounding_raw(Float64, 0x400) # RoundDown\n",
    "    Cdown = A + B\n",
    "    Base.Rounding.setrounding_raw(Float64, 0x000) # RoundNearest\n",
    "    Cnearest = A + B\n",
    "    @show all(Cup .≥ Cnearest .≥ Cdown)\n",
    "    @show mean(Cup .> Cnearest)\n",
    "    @show mean(Cnearest .> Cdown)\n",
    "    @show mean(Cup .> Cnearest .> Cdown)\n",
    "    println()\n",
    "end"
   ]
  },
  {
   "cell_type": "code",
   "execution_count": null,
   "id": "6c3d7bc3-3f29-49bc-a846-a3ce8c65182e",
   "metadata": {},
   "outputs": [],
   "source": [
    "using Statistics\n",
    "\n",
    "for i in fill(12, 3)\n",
    "    @show n = 2^i\n",
    "    A, B = randn(n, n), randn(n, n)\n",
    "    Base.Rounding.setrounding_raw(Float64, 0x800) # RoundUp\n",
    "    Cup = A .* B\n",
    "    Base.Rounding.setrounding_raw(Float64, 0x400) # RoundDown\n",
    "    Cdown = A .* B\n",
    "    Base.Rounding.setrounding_raw(Float64, 0x000) # RoundNearest\n",
    "    Cnearest = A .* B\n",
    "    @show all(Cup .≥ Cnearest .≥ Cdown)\n",
    "    @show mean(Cup .> Cnearest)\n",
    "    @show mean(Cnearest .> Cdown)\n",
    "    @show mean(Cup .> Cnearest .> Cdown)\n",
    "    println()\n",
    "end"
   ]
  },
  {
   "cell_type": "code",
   "execution_count": null,
   "id": "5b497344-317c-4b14-a920-58e17fc0463c",
   "metadata": {},
   "outputs": [],
   "source": [
    "using Statistics\n",
    "\n",
    "for i in 6:12\n",
    "    @show n = 2^i\n",
    "    A, B = randn(n, n), randn(n, n)\n",
    "    Base.Rounding.setrounding_raw(Float64, 0x800) # RoundUp\n",
    "    Cup = A * B\n",
    "    Base.Rounding.setrounding_raw(Float64, 0x400) # RoundDown\n",
    "    Cdown = A * B\n",
    "    Base.Rounding.setrounding_raw(Float64, 0x000) # RoundNearest\n",
    "    Cnearest = A * B\n",
    "    @show all(Cup .≥ Cnearest .≥ Cdown)\n",
    "    @show mean(Cup .> Cnearest)\n",
    "    @show mean(Cnearest .> Cdown)\n",
    "    @show mean(Cup .> Cnearest .> Cdown)\n",
    "    println()\n",
    "end"
   ]
  },
  {
   "cell_type": "code",
   "execution_count": null,
   "id": "a68630ca-500e-42a0-914e-abbeb8335171",
   "metadata": {},
   "outputs": [],
   "source": []
  }
 ],
 "metadata": {
  "kernelspec": {
   "display_name": "Julia 1.6.4",
   "language": "julia",
   "name": "julia-1.6"
  },
  "language_info": {
   "file_extension": ".jl",
   "mimetype": "application/julia",
   "name": "julia",
   "version": "1.6.4"
  }
 },
 "nbformat": 4,
 "nbformat_minor": 5
}
