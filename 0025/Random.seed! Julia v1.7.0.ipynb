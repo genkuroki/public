{
 "cells": [
  {
   "cell_type": "code",
   "execution_count": 1,
   "id": "6fe8c89f-e372-41a3-8762-e003f300edc2",
   "metadata": {},
   "outputs": [],
   "source": [
    "using Random"
   ]
  },
  {
   "cell_type": "code",
   "execution_count": 2,
   "id": "c2742772-1006-44d0-a02e-1b993a9bc622",
   "metadata": {},
   "outputs": [
    {
     "data": {
      "text/plain": [
       "5-element Vector{Float64}:\n",
       "  0.8436951449710766\n",
       "  0.2866512867120548\n",
       " -0.11736115332313454\n",
       "  1.4321507315155166\n",
       " -1.397027351393659"
      ]
     },
     "execution_count": 2,
     "metadata": {},
     "output_type": "execute_result"
    }
   ],
   "source": [
    "Random.seed!(4649373)\n",
    "randn(5)"
   ]
  },
  {
   "cell_type": "code",
   "execution_count": 3,
   "id": "abca8d17-f727-4204-abfe-06c126f94d77",
   "metadata": {},
   "outputs": [
    {
     "data": {
      "text/plain": [
       "5-element Vector{Float64}:\n",
       "  0.8436951449710766\n",
       "  0.2866512867120548\n",
       " -0.11736115332313454\n",
       "  1.4321507315155166\n",
       " -1.397027351393659"
      ]
     },
     "execution_count": 3,
     "metadata": {},
     "output_type": "execute_result"
    }
   ],
   "source": [
    "rng = Xoshiro(4649373)\n",
    "randn(rng, 5)"
   ]
  },
  {
   "cell_type": "code",
   "execution_count": 4,
   "id": "cb1180de-d5be-494e-9a4a-b4fbfd7b5db4",
   "metadata": {},
   "outputs": [
    {
     "data": {
      "text/plain": [
       "5-element Vector{Float64}:\n",
       "  0.5053616009809876\n",
       " -1.7646510014102095\n",
       "  1.413898917657188\n",
       " -0.18217688173511015\n",
       "  0.9140779817132691"
      ]
     },
     "execution_count": 4,
     "metadata": {},
     "output_type": "execute_result"
    }
   ],
   "source": [
    "rng = MersenneTwister(4649373)\n",
    "randn(rng, 5)"
   ]
  },
  {
   "cell_type": "code",
   "execution_count": null,
   "id": "a10fbd45-c8c9-414d-b421-ad1deedaf63a",
   "metadata": {},
   "outputs": [],
   "source": []
  }
 ],
 "metadata": {
  "kernelspec": {
   "display_name": "Julia 1.7.0",
   "language": "julia",
   "name": "julia-1.7"
  },
  "language_info": {
   "file_extension": ".jl",
   "mimetype": "application/julia",
   "name": "julia",
   "version": "1.7.0"
  }
 },
 "nbformat": 4,
 "nbformat_minor": 5
}
