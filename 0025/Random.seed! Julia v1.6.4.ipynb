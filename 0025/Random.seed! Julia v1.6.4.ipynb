{
 "cells": [
  {
   "cell_type": "code",
   "execution_count": 1,
   "id": "8b4ff8b6-2c78-466e-a8fb-dad9ef8d9d26",
   "metadata": {},
   "outputs": [],
   "source": [
    "using Random"
   ]
  },
  {
   "cell_type": "code",
   "execution_count": 2,
   "id": "450ed785-1932-4377-8273-0ea4bcf94087",
   "metadata": {},
   "outputs": [
    {
     "data": {
      "text/plain": [
       "5-element Vector{Float64}:\n",
       "  0.5053616009809876\n",
       " -1.7646510014102095\n",
       "  1.413898917657188\n",
       " -0.18217688173511015\n",
       "  0.9140779817132691"
      ]
     },
     "execution_count": 2,
     "metadata": {},
     "output_type": "execute_result"
    }
   ],
   "source": [
    "Random.seed!(4649373)\n",
    "randn(5)"
   ]
  },
  {
   "cell_type": "code",
   "execution_count": 3,
   "id": "dd936be5-27fb-4b7f-a18e-098dd67f5f51",
   "metadata": {},
   "outputs": [
    {
     "data": {
      "text/plain": [
       "5-element Vector{Float64}:\n",
       "  0.5053616009809876\n",
       " -1.7646510014102095\n",
       "  1.413898917657188\n",
       " -0.18217688173511015\n",
       "  0.9140779817132691"
      ]
     },
     "execution_count": 3,
     "metadata": {},
     "output_type": "execute_result"
    }
   ],
   "source": [
    "rng = MersenneTwister(4649373)\n",
    "randn(rng, 5)"
   ]
  },
  {
   "cell_type": "code",
   "execution_count": null,
   "id": "db420c69-2870-4eae-936c-291e076780fd",
   "metadata": {},
   "outputs": [],
   "source": []
  }
 ],
 "metadata": {
  "kernelspec": {
   "display_name": "Julia 1.6.4",
   "language": "julia",
   "name": "julia-1.6"
  },
  "language_info": {
   "file_extension": ".jl",
   "mimetype": "application/julia",
   "name": "julia",
   "version": "1.6.4"
  }
 },
 "nbformat": 4,
 "nbformat_minor": 5
}
