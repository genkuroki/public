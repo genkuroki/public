{
 "cells": [
  {
   "cell_type": "markdown",
   "id": "29cb02e8-beb0-419d-8a70-94e7dfbca8eb",
   "metadata": {},
   "source": [
    "https://twitter.com/dolphin7473/status/1466376598853148680"
   ]
  },
  {
   "cell_type": "code",
   "execution_count": 1,
   "id": "427a3cbb-f4cd-40f2-a473-65be0da59810",
   "metadata": {},
   "outputs": [
    {
     "name": "stdout",
     "output_type": "stream",
     "text": [
      "  0.070605 seconds (337.96 k allocations: 17.379 MiB, 99.75% compilation time)\n",
      "  0.000008 seconds (5 allocations: 416 bytes)\n",
      "  0.000005 seconds (5 allocations: 416 bytes)\n"
     ]
    },
    {
     "data": {
      "text/plain": [
       "5-element OffsetArray(::Vector{ComplexF64}, -2:2) with eltype ComplexF64 with indices -2:2:\n",
       "  9.511812688088053 - 0.7646983229826569im\n",
       " 20.223482735117127 - 1.4115455348581938im\n",
       " 30.136997037231144 - 1.4742364302797373im\n",
       "  40.71933560366233 + 0.04154853800393057im\n",
       "  50.56642874479132 + 0.12929998505539517im"
      ]
     },
     "execution_count": 1,
     "metadata": {},
     "output_type": "execute_result"
    }
   ],
   "source": [
    "module O\n",
    "\n",
    "using OffsetArrays\n",
    "\n",
    "mutable struct Variables\n",
    "    u::OffsetArray{ComplexF64, 1}\n",
    "end\n",
    "\n",
    "function update_u!(var::Variables)\n",
    "    rhs = OffsetArray{ComplexF64}(undef, -2:2)\n",
    "    rhs[-2:2] = randn(ComplexF64, 5)\n",
    "    var.u .+= rhs\n",
    "end\n",
    "\n",
    "function main()\n",
    "    u = OffsetArray{ComplexF64}(undef, -2:2)   \n",
    "    var = Variables(u)\n",
    "    var.u[-2:2] .= 10:10:50\n",
    "    @time update_u!(var)\n",
    "end\n",
    "\n",
    "end\n",
    "\n",
    "O.main()\n",
    "O.main()\n",
    "O.main()"
   ]
  },
  {
   "cell_type": "code",
   "execution_count": 2,
   "id": "a07ca6d6-36f7-4f1f-9755-8e4c7c12aa57",
   "metadata": {},
   "outputs": [
    {
     "name": "stdout",
     "output_type": "stream",
     "text": [
      "MethodInstance for Main.O.main()\n",
      "  from main() in Main.O at In[1]:15\n",
      "Arguments\n",
      "  #self#\u001b[36m::Core.Const(Main.O.main)\u001b[39m\n",
      "Locals\n",
      "  diff\u001b[36m::Base.GC_Diff\u001b[39m\n",
      "  val\u001b[91m\u001b[1m::OffsetArrays.OffsetVector{ComplexF64, AA} where AA<:AbstractVector{ComplexF64}\u001b[22m\u001b[39m\n",
      "  compile_elapsedtime\u001b[36m::UInt64\u001b[39m\n",
      "  elapsedtime\u001b[36m::UInt64\u001b[39m\n",
      "  stats\u001b[36m::Base.GC_Num\u001b[39m\n",
      "  var\u001b[36m::Main.O.Variables\u001b[39m\n",
      "  u\u001b[36m::OffsetArrays.OffsetVector{ComplexF64, Vector{ComplexF64}}\u001b[39m\n",
      "  @_9\u001b[36m::Int64\u001b[39m\n",
      "  @_10\u001b[91m\u001b[1m::OffsetArrays.OffsetVector{ComplexF64, AA} where AA<:AbstractVector{ComplexF64}\u001b[22m\u001b[39m\n",
      "Body\u001b[91m\u001b[1m::OffsetArrays.OffsetVector{ComplexF64, AA} where AA<:AbstractVector{ComplexF64}\u001b[22m\u001b[39m\n",
      "\u001b[90m1 ──\u001b[39m       Core.NewvarNode(:(diff))\n",
      "\u001b[90m│   \u001b[39m       Core.NewvarNode(:(val))\n",
      "\u001b[90m│   \u001b[39m       Core.NewvarNode(:(compile_elapsedtime))\n",
      "\u001b[90m│   \u001b[39m       Core.NewvarNode(:(elapsedtime))\n",
      "\u001b[90m│   \u001b[39m       Core.NewvarNode(:(stats))\n",
      "\u001b[90m│   \u001b[39m %6  = Core.apply_type(Main.O.OffsetArray, Main.O.ComplexF64)\u001b[36m::Core.Const(OffsetArrays.OffsetArray{ComplexF64, N, AA} where {N, AA<:AbstractArray{ComplexF64, N}})\u001b[39m\n",
      "\u001b[90m│   \u001b[39m %7  = (-2:2)\u001b[36m::Core.Const(-2:2)\u001b[39m\n",
      "\u001b[90m│   \u001b[39m       (u = (%6)(Main.O.undef, %7))\n",
      "\u001b[90m│   \u001b[39m       (var = Main.O.Variables(u::Core.PartialStruct(OffsetArrays.OffsetVector{ComplexF64, Vector{ComplexF64}}, Any[Vector{ComplexF64}, Core.Const((-3,))])))\n",
      "\u001b[90m│   \u001b[39m %10 = Base.getproperty(var, :u)\u001b[91m\u001b[1m::OffsetArrays.OffsetVector{ComplexF64, AA} where AA<:AbstractVector{ComplexF64}\u001b[22m\u001b[39m\n",
      "\u001b[90m│   \u001b[39m %11 = (-2:2)\u001b[36m::Core.Const(-2:2)\u001b[39m\n",
      "\u001b[90m│   \u001b[39m %12 = Base.dotview(%10, %11)\u001b[91m\u001b[1m::SubArray{ComplexF64, 1, P, Tuple{UnitRange{Int64}}} where P\u001b[22m\u001b[39m\n",
      "\u001b[90m│   \u001b[39m %13 = (10:10:50)\u001b[36m::Core.Const(10:10:50)\u001b[39m\n",
      "\u001b[90m│   \u001b[39m %14 = Base.broadcasted(Base.identity, %13)\u001b[36m::Core.Const(Base.Broadcast.Broadcasted(identity, (10:10:50,)))\u001b[39m\n",
      "\u001b[90m│   \u001b[39m       Base.materialize!(%12, %14)\n",
      "\u001b[90m└───\u001b[39m       goto #3 if not false\n",
      "\u001b[90m2 ──\u001b[39m       Core.Const(:(goto %16))\n",
      "\u001b[90m3 ┄─\u001b[39m       (stats = Base.gc_num())\n",
      "\u001b[90m│   \u001b[39m       (elapsedtime = Base.time_ns())\n",
      "\u001b[90m└───\u001b[39m       (compile_elapsedtime = Base.cumulative_compile_time_ns_before())\n",
      "\u001b[90m4 ──\u001b[39m       $(Expr(:enter, #7))\n",
      "\u001b[90m5 ──\u001b[39m       (@_9 = -1)\n",
      "\u001b[90m│   \u001b[39m       (@_10 = Main.O.update_u!(var))\n",
      "\u001b[90m└───\u001b[39m       $(Expr(:leave, 1))\n",
      "\u001b[90m6 ──\u001b[39m       goto #9\n",
      "\u001b[90m7 ┄─\u001b[39m       $(Expr(:leave, 1))\n",
      "\u001b[90m8 ──\u001b[39m       (@_9 = 1)\n",
      "\u001b[90m9 ┄─\u001b[39m %28 = Base.time_ns()\u001b[36m::UInt64\u001b[39m\n",
      "\u001b[90m│   \u001b[39m       (elapsedtime = %28 - elapsedtime)\n",
      "\u001b[90m│   \u001b[39m %30 = Base.cumulative_compile_time_ns_after()\u001b[36m::UInt64\u001b[39m\n",
      "\u001b[90m│   \u001b[39m       (compile_elapsedtime = %30 - compile_elapsedtime)\n",
      "\u001b[90m│   \u001b[39m %32 = (@_9 === 1)\u001b[36m::Bool\u001b[39m\n",
      "\u001b[90m└───\u001b[39m       goto #11 if not %32\n",
      "\u001b[90m10 ─\u001b[39m       Base.rethrow()\n",
      "\u001b[90m11 ┄\u001b[39m       (val = @_10)\n",
      "\u001b[90m│   \u001b[39m %36 = Base.gc_num()\u001b[36m::Base.GC_Num\u001b[39m\n",
      "\u001b[90m│   \u001b[39m       (diff = Base.GC_Diff(%36, stats))\n",
      "\u001b[90m│   \u001b[39m %38 = elapsedtime\u001b[36m::UInt64\u001b[39m\n",
      "\u001b[90m│   \u001b[39m %39 = Base.getproperty(diff, :allocd)\u001b[36m::Int64\u001b[39m\n",
      "\u001b[90m│   \u001b[39m %40 = Base.getproperty(diff, :total_time)\u001b[36m::Int64\u001b[39m\n",
      "\u001b[90m│   \u001b[39m %41 = Base.gc_alloc_count(diff)\u001b[36m::Int64\u001b[39m\n",
      "\u001b[90m│   \u001b[39m %42 = compile_elapsedtime\u001b[36m::UInt64\u001b[39m\n",
      "\u001b[90m│   \u001b[39m       Base.time_print(%38, %39, %40, %41, %42, true)\n",
      "\u001b[90m│   \u001b[39m %44 = val\u001b[91m\u001b[1m::OffsetArrays.OffsetVector{ComplexF64, AA} where AA<:AbstractVector{ComplexF64}\u001b[22m\u001b[39m\n",
      "\u001b[90m└───\u001b[39m       return %44\n",
      "\n"
     ]
    }
   ],
   "source": [
    "@code_warntype O.main()"
   ]
  },
  {
   "cell_type": "code",
   "execution_count": 3,
   "id": "fc691d29-de4e-4293-b025-660a1b363354",
   "metadata": {},
   "outputs": [
    {
     "name": "stdout",
     "output_type": "stream",
     "text": [
      "  0.000002 seconds (2 allocations: 288 bytes)\n",
      "  0.000001 seconds (2 allocations: 288 bytes)\n",
      "  0.000001 seconds (2 allocations: 288 bytes)\n"
     ]
    },
    {
     "data": {
      "text/plain": [
       "5-element OffsetArray(::Vector{ComplexF64}, -2:2) with eltype ComplexF64 with indices -2:2:\n",
       " 10.025668128079534 + 0.018350852607677885im\n",
       " 19.201795207289308 - 0.6924360206702946im\n",
       "  30.53879085462059 - 0.21606275425657515im\n",
       " 40.645370233195564 + 0.8168150965949178im\n",
       "  49.18691192369667 - 0.22455210620952568im"
      ]
     },
     "execution_count": 3,
     "metadata": {},
     "output_type": "execute_result"
    }
   ],
   "source": [
    "module P\n",
    "\n",
    "using OffsetArrays\n",
    "\n",
    "mutable struct Variables{U<:OffsetArray{ComplexF64, 1}}\n",
    "    u::U\n",
    "end\n",
    "\n",
    "function update_u!(var::Variables)\n",
    "    rhs = OffsetArray{ComplexF64}(undef, -2:2)\n",
    "    rhs[-2:2] = randn(ComplexF64, 5)\n",
    "    var.u .+= rhs\n",
    "end\n",
    "\n",
    "function main()\n",
    "    u = OffsetArray{ComplexF64}(undef, -2:2)   \n",
    "    var = Variables(u)\n",
    "    var.u[-2:2] .= 10:10:50\n",
    "    @time update_u!(var)\n",
    "end\n",
    "\n",
    "end\n",
    "\n",
    "P.main()\n",
    "P.main()\n",
    "P.main()"
   ]
  },
  {
   "cell_type": "code",
   "execution_count": 4,
   "id": "702cabfe-3be6-4519-a993-1579bacc2231",
   "metadata": {},
   "outputs": [
    {
     "name": "stdout",
     "output_type": "stream",
     "text": [
      "MethodInstance for Main.P.main()\n",
      "  from main() in Main.P at In[3]:15\n",
      "Arguments\n",
      "  #self#\u001b[36m::Core.Const(Main.P.main)\u001b[39m\n",
      "Locals\n",
      "  diff\u001b[36m::Base.GC_Diff\u001b[39m\n",
      "  val\u001b[36m::OffsetArrays.OffsetVector{ComplexF64, Vector{ComplexF64}}\u001b[39m\n",
      "  compile_elapsedtime\u001b[36m::UInt64\u001b[39m\n",
      "  elapsedtime\u001b[36m::UInt64\u001b[39m\n",
      "  stats\u001b[36m::Base.GC_Num\u001b[39m\n",
      "  var\u001b[36m::Main.P.Variables{OffsetArrays.OffsetVector{ComplexF64, Vector{ComplexF64}}}\u001b[39m\n",
      "  u\u001b[36m::OffsetArrays.OffsetVector{ComplexF64, Vector{ComplexF64}}\u001b[39m\n",
      "  @_9\u001b[36m::Int64\u001b[39m\n",
      "  @_10\u001b[36m::OffsetArrays.OffsetVector{ComplexF64, Vector{ComplexF64}}\u001b[39m\n",
      "Body\u001b[36m::OffsetArrays.OffsetVector{ComplexF64, Vector{ComplexF64}}\u001b[39m\n",
      "\u001b[90m1 ──\u001b[39m       Core.NewvarNode(:(diff))\n",
      "\u001b[90m│   \u001b[39m       Core.NewvarNode(:(val))\n",
      "\u001b[90m│   \u001b[39m       Core.NewvarNode(:(compile_elapsedtime))\n",
      "\u001b[90m│   \u001b[39m       Core.NewvarNode(:(elapsedtime))\n",
      "\u001b[90m│   \u001b[39m       Core.NewvarNode(:(stats))\n",
      "\u001b[90m│   \u001b[39m %6  = Core.apply_type(Main.P.OffsetArray, Main.P.ComplexF64)\u001b[36m::Core.Const(OffsetArrays.OffsetArray{ComplexF64, N, AA} where {N, AA<:AbstractArray{ComplexF64, N}})\u001b[39m\n",
      "\u001b[90m│   \u001b[39m %7  = (-2:2)\u001b[36m::Core.Const(-2:2)\u001b[39m\n",
      "\u001b[90m│   \u001b[39m       (u = (%6)(Main.P.undef, %7))\n",
      "\u001b[90m│   \u001b[39m       (var = Main.P.Variables(u::Core.PartialStruct(OffsetArrays.OffsetVector{ComplexF64, Vector{ComplexF64}}, Any[Vector{ComplexF64}, Core.Const((-3,))])))\n",
      "\u001b[90m│   \u001b[39m %10 = Base.getproperty(var, :u)\u001b[36m::OffsetArrays.OffsetVector{ComplexF64, Vector{ComplexF64}}\u001b[39m\n",
      "\u001b[90m│   \u001b[39m %11 = (-2:2)\u001b[36m::Core.Const(-2:2)\u001b[39m\n",
      "\u001b[90m│   \u001b[39m %12 = Base.dotview(%10, %11)\u001b[36m::Core.PartialStruct(SubArray{ComplexF64, 1, OffsetArrays.OffsetVector{ComplexF64, Vector{ComplexF64}}, Tuple{UnitRange{Int64}}, true}, Any[OffsetArrays.OffsetVector{ComplexF64, Vector{ComplexF64}}, Core.Const((-2:2,)), Core.Const(-3), Core.Const(1)])\u001b[39m\n",
      "\u001b[90m│   \u001b[39m %13 = (10:10:50)\u001b[36m::Core.Const(10:10:50)\u001b[39m\n",
      "\u001b[90m│   \u001b[39m %14 = Base.broadcasted(Base.identity, %13)\u001b[36m::Core.Const(Base.Broadcast.Broadcasted(identity, (10:10:50,)))\u001b[39m\n",
      "\u001b[90m│   \u001b[39m       Base.materialize!(%12, %14)\n",
      "\u001b[90m└───\u001b[39m       goto #3 if not false\n",
      "\u001b[90m2 ──\u001b[39m       Core.Const(:(goto %16))\n",
      "\u001b[90m3 ┄─\u001b[39m       (stats = Base.gc_num())\n",
      "\u001b[90m│   \u001b[39m       (elapsedtime = Base.time_ns())\n",
      "\u001b[90m└───\u001b[39m       (compile_elapsedtime = Base.cumulative_compile_time_ns_before())\n",
      "\u001b[90m4 ──\u001b[39m       $(Expr(:enter, #7))\n",
      "\u001b[90m5 ──\u001b[39m       (@_9 = -1)\n",
      "\u001b[90m│   \u001b[39m       (@_10 = Main.P.update_u!(var))\n",
      "\u001b[90m└───\u001b[39m       $(Expr(:leave, 1))\n",
      "\u001b[90m6 ──\u001b[39m       goto #9\n",
      "\u001b[90m7 ┄─\u001b[39m       $(Expr(:leave, 1))\n",
      "\u001b[90m8 ──\u001b[39m       (@_9 = 1)\n",
      "\u001b[90m9 ┄─\u001b[39m %28 = Base.time_ns()\u001b[36m::UInt64\u001b[39m\n",
      "\u001b[90m│   \u001b[39m       (elapsedtime = %28 - elapsedtime)\n",
      "\u001b[90m│   \u001b[39m %30 = Base.cumulative_compile_time_ns_after()\u001b[36m::UInt64\u001b[39m\n",
      "\u001b[90m│   \u001b[39m       (compile_elapsedtime = %30 - compile_elapsedtime)\n",
      "\u001b[90m│   \u001b[39m %32 = (@_9 === 1)\u001b[36m::Bool\u001b[39m\n",
      "\u001b[90m└───\u001b[39m       goto #11 if not %32\n",
      "\u001b[90m10 ─\u001b[39m       Base.rethrow()\n",
      "\u001b[90m11 ┄\u001b[39m       (val = @_10)\n",
      "\u001b[90m│   \u001b[39m %36 = Base.gc_num()\u001b[36m::Base.GC_Num\u001b[39m\n",
      "\u001b[90m│   \u001b[39m       (diff = Base.GC_Diff(%36, stats))\n",
      "\u001b[90m│   \u001b[39m %38 = elapsedtime\u001b[36m::UInt64\u001b[39m\n",
      "\u001b[90m│   \u001b[39m %39 = Base.getproperty(diff, :allocd)\u001b[36m::Int64\u001b[39m\n",
      "\u001b[90m│   \u001b[39m %40 = Base.getproperty(diff, :total_time)\u001b[36m::Int64\u001b[39m\n",
      "\u001b[90m│   \u001b[39m %41 = Base.gc_alloc_count(diff)\u001b[36m::Int64\u001b[39m\n",
      "\u001b[90m│   \u001b[39m %42 = compile_elapsedtime\u001b[36m::UInt64\u001b[39m\n",
      "\u001b[90m│   \u001b[39m       Base.time_print(%38, %39, %40, %41, %42, true)\n",
      "\u001b[90m│   \u001b[39m %44 = val\u001b[36m::OffsetArrays.OffsetVector{ComplexF64, Vector{ComplexF64}}\u001b[39m\n",
      "\u001b[90m└───\u001b[39m       return %44\n",
      "\n"
     ]
    }
   ],
   "source": [
    "@code_warntype P.main()"
   ]
  },
  {
   "cell_type": "code",
   "execution_count": 5,
   "id": "79cc8a97-faa1-4572-b697-f10fb8f8425f",
   "metadata": {},
   "outputs": [
    {
     "name": "stdout",
     "output_type": "stream",
     "text": [
      "  0.000002 seconds\n",
      "  0.000001 seconds\n",
      "  0.000001 seconds\n",
      "var = Main.Q.Variables{OffsetArrays.OffsetVector{ComplexF64, Vector{ComplexF64}}}(ComplexF64[10.988720074351786 - 0.1271063358075224im, 20.239351567577128 - 1.1069790299365965im, 29.774111257389908 + 0.44110895477196316im, 40.10041976132278 + 0.43447345214684024im, 50.615192646201535 + 0.33274513097358394im])\n"
     ]
    },
    {
     "data": {
      "text/plain": [
       "5-element OffsetArray(::Vector{ComplexF64}, -2:2) with eltype ComplexF64 with indices -2:2:\n",
       " 10.988720074351786 - 0.1271063358075224im\n",
       " 20.239351567577128 - 1.1069790299365965im\n",
       " 29.774111257389908 + 0.44110895477196316im\n",
       "  40.10041976132278 + 0.43447345214684024im\n",
       " 50.615192646201535 + 0.33274513097358394im"
      ]
     },
     "execution_count": 5,
     "metadata": {},
     "output_type": "execute_result"
    }
   ],
   "source": [
    "module Q\n",
    "\n",
    "using OffsetArrays\n",
    "using Random\n",
    "\n",
    "struct Variables{U}\n",
    "    u::U\n",
    "end\n",
    "\n",
    "function update_u!(var::Variables, rhs)\n",
    "    randn!(rhs)\n",
    "    var.u .+= rhs\n",
    "    var\n",
    "end\n",
    "\n",
    "function main()\n",
    "    u = OffsetVector{ComplexF64}(undef, -2:2)\n",
    "    var = Variables(u)\n",
    "    parent(var.u) .= 10:10:50\n",
    "    rhs = similar(u)\n",
    "    @time update_u!(var, rhs)\n",
    "end\n",
    "\n",
    "end\n",
    "\n",
    "Q.main()\n",
    "Q.main()\n",
    "var = Q.main()\n",
    "@show var\n",
    "var.u"
   ]
  },
  {
   "cell_type": "code",
   "execution_count": 6,
   "id": "3db10936-d5b8-4198-8b5a-58d335c8b77e",
   "metadata": {},
   "outputs": [
    {
     "name": "stdout",
     "output_type": "stream",
     "text": [
      "MethodInstance for Main.Q.main()\n",
      "  from main() in Main.Q at In[5]:16\n",
      "Arguments\n",
      "  #self#\u001b[36m::Core.Const(Main.Q.main)\u001b[39m\n",
      "Locals\n",
      "  diff\u001b[36m::Base.GC_Diff\u001b[39m\n",
      "  val\u001b[36m::Main.Q.Variables{OffsetArrays.OffsetVector{ComplexF64, Vector{ComplexF64}}}\u001b[39m\n",
      "  compile_elapsedtime\u001b[36m::UInt64\u001b[39m\n",
      "  elapsedtime\u001b[36m::UInt64\u001b[39m\n",
      "  stats\u001b[36m::Base.GC_Num\u001b[39m\n",
      "  rhs\u001b[36m::OffsetArrays.OffsetVector{ComplexF64, Vector{ComplexF64}}\u001b[39m\n",
      "  var\u001b[36m::Main.Q.Variables{OffsetArrays.OffsetVector{ComplexF64, Vector{ComplexF64}}}\u001b[39m\n",
      "  u\u001b[36m::OffsetArrays.OffsetVector{ComplexF64, Vector{ComplexF64}}\u001b[39m\n",
      "  @_10\u001b[36m::Int64\u001b[39m\n",
      "  @_11\u001b[36m::Main.Q.Variables{OffsetArrays.OffsetVector{ComplexF64, Vector{ComplexF64}}}\u001b[39m\n",
      "Body\u001b[36m::Main.Q.Variables{OffsetArrays.OffsetVector{ComplexF64, Vector{ComplexF64}}}\u001b[39m\n",
      "\u001b[90m1 ──\u001b[39m       Core.NewvarNode(:(diff))\n",
      "\u001b[90m│   \u001b[39m       Core.NewvarNode(:(val))\n",
      "\u001b[90m│   \u001b[39m       Core.NewvarNode(:(compile_elapsedtime))\n",
      "\u001b[90m│   \u001b[39m       Core.NewvarNode(:(elapsedtime))\n",
      "\u001b[90m│   \u001b[39m       Core.NewvarNode(:(stats))\n",
      "\u001b[90m│   \u001b[39m %6  = Core.apply_type(Main.Q.OffsetVector, Main.Q.ComplexF64)\u001b[36m::Core.Const(OffsetArrays.OffsetVector{ComplexF64, AA} where AA<:AbstractVector{ComplexF64})\u001b[39m\n",
      "\u001b[90m│   \u001b[39m %7  = (-2:2)\u001b[36m::Core.Const(-2:2)\u001b[39m\n",
      "\u001b[90m│   \u001b[39m       (u = (%6)(Main.Q.undef, %7))\n",
      "\u001b[90m│   \u001b[39m       (var = Main.Q.Variables(u::Core.PartialStruct(OffsetArrays.OffsetVector{ComplexF64, Vector{ComplexF64}}, Any[Vector{ComplexF64}, Core.Const((-3,))])))\n",
      "\u001b[90m│   \u001b[39m %10 = Base.getproperty(var::Core.PartialStruct(Main.Q.Variables{OffsetArrays.OffsetVector{ComplexF64, Vector{ComplexF64}}}, Any[Core.PartialStruct(OffsetArrays.OffsetVector{ComplexF64, Vector{ComplexF64}}, Any[Vector{ComplexF64}, Core.Const((-3,))])]), :u)\u001b[36m::Core.PartialStruct(OffsetArrays.OffsetVector{ComplexF64, Vector{ComplexF64}}, Any[Vector{ComplexF64}, Core.Const((-3,))])\u001b[39m\n",
      "\u001b[90m│   \u001b[39m %11 = Main.Q.parent(%10)\u001b[36m::Vector{ComplexF64}\u001b[39m\n",
      "\u001b[90m│   \u001b[39m %12 = (10:10:50)\u001b[36m::Core.Const(10:10:50)\u001b[39m\n",
      "\u001b[90m│   \u001b[39m %13 = Base.broadcasted(Base.identity, %12)\u001b[36m::Core.Const(Base.Broadcast.Broadcasted(identity, (10:10:50,)))\u001b[39m\n",
      "\u001b[90m│   \u001b[39m       Base.materialize!(%11, %13)\n",
      "\u001b[90m│   \u001b[39m       (rhs = Main.Q.similar(u::Core.PartialStruct(OffsetArrays.OffsetVector{ComplexF64, Vector{ComplexF64}}, Any[Vector{ComplexF64}, Core.Const((-3,))])))\n",
      "\u001b[90m└───\u001b[39m       goto #3 if not false\n",
      "\u001b[90m2 ──\u001b[39m       Core.Const(:(goto %16))\n",
      "\u001b[90m3 ┄─\u001b[39m       (stats = Base.gc_num())\n",
      "\u001b[90m│   \u001b[39m       (elapsedtime = Base.time_ns())\n",
      "\u001b[90m└───\u001b[39m       (compile_elapsedtime = Base.cumulative_compile_time_ns_before())\n",
      "\u001b[90m4 ──\u001b[39m       $(Expr(:enter, #7))\n",
      "\u001b[90m5 ──\u001b[39m       (@_10 = -1)\n",
      "\u001b[90m│   \u001b[39m       (@_11 = Main.Q.update_u!(var::Core.PartialStruct(Main.Q.Variables{OffsetArrays.OffsetVector{ComplexF64, Vector{ComplexF64}}}, Any[Core.PartialStruct(OffsetArrays.OffsetVector{ComplexF64, Vector{ComplexF64}}, Any[Vector{ComplexF64}, Core.Const((-3,))])]), rhs::Core.PartialStruct(OffsetArrays.OffsetVector{ComplexF64, Vector{ComplexF64}}, Any[Vector{ComplexF64}, Core.Const((-3,))])))\n",
      "\u001b[90m└───\u001b[39m       $(Expr(:leave, 1))\n",
      "\u001b[90m6 ──\u001b[39m       goto #9\n",
      "\u001b[90m7 ┄─\u001b[39m       $(Expr(:leave, 1))\n",
      "\u001b[90m8 ──\u001b[39m       (@_10 = 1)\n",
      "\u001b[90m9 ┄─\u001b[39m %28 = Base.time_ns()\u001b[36m::UInt64\u001b[39m\n",
      "\u001b[90m│   \u001b[39m       (elapsedtime = %28 - elapsedtime)\n",
      "\u001b[90m│   \u001b[39m %30 = Base.cumulative_compile_time_ns_after()\u001b[36m::UInt64\u001b[39m\n",
      "\u001b[90m│   \u001b[39m       (compile_elapsedtime = %30 - compile_elapsedtime)\n",
      "\u001b[90m│   \u001b[39m %32 = (@_10 === 1)\u001b[36m::Bool\u001b[39m\n",
      "\u001b[90m└───\u001b[39m       goto #11 if not %32\n",
      "\u001b[90m10 ─\u001b[39m       Base.rethrow()\n",
      "\u001b[90m11 ┄\u001b[39m       (val = @_11::Core.PartialStruct(Main.Q.Variables{OffsetArrays.OffsetVector{ComplexF64, Vector{ComplexF64}}}, Any[Core.PartialStruct(OffsetArrays.OffsetVector{ComplexF64, Vector{ComplexF64}}, Any[Vector{ComplexF64}, Core.Const((-3,))])]))\n",
      "\u001b[90m│   \u001b[39m %36 = Base.gc_num()\u001b[36m::Base.GC_Num\u001b[39m\n",
      "\u001b[90m│   \u001b[39m       (diff = Base.GC_Diff(%36, stats))\n",
      "\u001b[90m│   \u001b[39m %38 = elapsedtime\u001b[36m::UInt64\u001b[39m\n",
      "\u001b[90m│   \u001b[39m %39 = Base.getproperty(diff, :allocd)\u001b[36m::Int64\u001b[39m\n",
      "\u001b[90m│   \u001b[39m %40 = Base.getproperty(diff, :total_time)\u001b[36m::Int64\u001b[39m\n",
      "\u001b[90m│   \u001b[39m %41 = Base.gc_alloc_count(diff)\u001b[36m::Int64\u001b[39m\n",
      "\u001b[90m│   \u001b[39m %42 = compile_elapsedtime\u001b[36m::UInt64\u001b[39m\n",
      "\u001b[90m│   \u001b[39m       Base.time_print(%38, %39, %40, %41, %42, true)\n",
      "\u001b[90m│   \u001b[39m %44 = val\u001b[36m::Core.PartialStruct(Main.Q.Variables{OffsetArrays.OffsetVector{ComplexF64, Vector{ComplexF64}}}, Any[Core.PartialStruct(OffsetArrays.OffsetVector{ComplexF64, Vector{ComplexF64}}, Any[Vector{ComplexF64}, Core.Const((-3,))])])\u001b[39m\n",
      "\u001b[90m└───\u001b[39m       return %44\n",
      "\n"
     ]
    }
   ],
   "source": [
    "@code_warntype Q.main()"
   ]
  },
  {
   "cell_type": "code",
   "execution_count": null,
   "id": "af11b9b4-6a7c-4c4e-b293-38a98a9ab47d",
   "metadata": {},
   "outputs": [],
   "source": []
  }
 ],
 "metadata": {
  "jupytext": {
   "formats": "ipynb,jl:hydrogen"
  },
  "kernelspec": {
   "display_name": "Julia 1.7.0",
   "language": "julia",
   "name": "julia-1.7"
  },
  "language_info": {
   "file_extension": ".jl",
   "mimetype": "application/julia",
   "name": "julia",
   "version": "1.7.0"
  }
 },
 "nbformat": 4,
 "nbformat_minor": 5
}
