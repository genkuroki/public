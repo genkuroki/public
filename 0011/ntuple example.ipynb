{
 "cells": [
  {
   "cell_type": "code",
   "execution_count": 1,
   "id": "b8aa5697-e601-4a66-b09e-c029098b5cc9",
   "metadata": {},
   "outputs": [
    {
     "data": {
      "text/plain": [
       "([1.697901335e-315, 1.49706286e-315, 1.49706286e-315], [-1.1498828436940665e-125, 4.74e-322, 1.19150397e-315], [1.639069183e-315, 1.49706286e-315, 1.49706286e-315])"
      ]
     },
     "execution_count": 1,
     "metadata": {},
     "output_type": "execute_result"
    }
   ],
   "source": [
    "a = zeros(3)\n",
    "x, y, z = ntuple(i -> similar(a), Val(3))"
   ]
  },
  {
   "cell_type": "code",
   "execution_count": 2,
   "id": "702f4c58-a4ea-4c36-9064-6b3af6a8440e",
   "metadata": {},
   "outputs": [
    {
     "data": {
      "text/plain": [
       "([1.697901335e-315, 1.49706286e-315, 1.49706286e-315], [-1.1498828436940665e-125, 4.74e-322, 1.19150397e-315], [1.639069183e-315, 1.49706286e-315, 1.49706286e-315])"
      ]
     },
     "execution_count": 2,
     "metadata": {},
     "output_type": "execute_result"
    }
   ],
   "source": [
    "x, y, z"
   ]
  },
  {
   "cell_type": "code",
   "execution_count": 3,
   "id": "110ed5f1-865e-4911-be8a-6a87c58d8bd5",
   "metadata": {},
   "outputs": [
    {
     "data": {
      "text/plain": [
       "([0.0, 1.49706286e-315, 1.49706286e-315], [-1.1498828436940665e-125, 4.74e-322, 1.19150397e-315], [1.639069183e-315, 1.49706286e-315, 1.49706286e-315])"
      ]
     },
     "execution_count": 3,
     "metadata": {},
     "output_type": "execute_result"
    }
   ],
   "source": [
    "x[1] = 0\n",
    "x, y, z"
   ]
  },
  {
   "cell_type": "code",
   "execution_count": 4,
   "id": "b258a546-c730-4080-98fc-4d80adc9cd48",
   "metadata": {},
   "outputs": [
    {
     "name": "stdout",
     "output_type": "stream",
     "text": [
      "search: \u001b[0m\u001b[1mn\u001b[22m\u001b[0m\u001b[1mt\u001b[22m\u001b[0m\u001b[1mu\u001b[22m\u001b[0m\u001b[1mp\u001b[22m\u001b[0m\u001b[1ml\u001b[22m\u001b[0m\u001b[1me\u001b[22m \u001b[0m\u001b[1mN\u001b[22m\u001b[0m\u001b[1mT\u001b[22m\u001b[0m\u001b[1mu\u001b[22m\u001b[0m\u001b[1mp\u001b[22m\u001b[0m\u001b[1ml\u001b[22m\u001b[0m\u001b[1me\u001b[22m \u001b[0m\u001b[1mN\u001b[22mamed\u001b[0m\u001b[1mT\u001b[22m\u001b[0m\u001b[1mu\u001b[22m\u001b[0m\u001b[1mp\u001b[22m\u001b[0m\u001b[1ml\u001b[22m\u001b[0m\u001b[1me\u001b[22m @\u001b[0m\u001b[1mN\u001b[22mamed\u001b[0m\u001b[1mT\u001b[22m\u001b[0m\u001b[1mu\u001b[22m\u001b[0m\u001b[1mp\u001b[22m\u001b[0m\u001b[1ml\u001b[22m\u001b[0m\u001b[1me\u001b[22m\n",
      "\n"
     ]
    },
    {
     "data": {
      "text/latex": [
       "\\begin{verbatim}\n",
       "ntuple(f::Function, n::Integer)\n",
       "\\end{verbatim}\n",
       "Create a tuple of length \\texttt{n}, computing each element as \\texttt{f(i)}, where \\texttt{i} is the index of the element.\n",
       "\n",
       "\\section{Examples}\n",
       "\\begin{verbatim}\n",
       "julia> ntuple(i -> 2*i, 4)\n",
       "(2, 4, 6, 8)\n",
       "\\end{verbatim}\n",
       "\\rule{\\textwidth}{1pt}\n",
       "\\begin{verbatim}\n",
       "ntuple(f, ::Val{N})\n",
       "\\end{verbatim}\n",
       "Create a tuple of length \\texttt{N}, computing each element as \\texttt{f(i)}, where \\texttt{i} is the index of the element. By taking a \\texttt{Val(N)} argument, it is possible that this version of ntuple may generate more efficient code than the version taking the length as an integer. But \\texttt{ntuple(f, N)} is preferable to \\texttt{ntuple(f, Val(N))} in cases where \\texttt{N} cannot be determined at compile time.\n",
       "\n",
       "\\section{Examples}\n",
       "\\begin{verbatim}\n",
       "julia> ntuple(i -> 2*i, Val(4))\n",
       "(2, 4, 6, 8)\n",
       "\\end{verbatim}\n"
      ],
      "text/markdown": [
       "```\n",
       "ntuple(f::Function, n::Integer)\n",
       "```\n",
       "\n",
       "Create a tuple of length `n`, computing each element as `f(i)`, where `i` is the index of the element.\n",
       "\n",
       "# Examples\n",
       "\n",
       "```jldoctest\n",
       "julia> ntuple(i -> 2*i, 4)\n",
       "(2, 4, 6, 8)\n",
       "```\n",
       "\n",
       "---\n",
       "\n",
       "```\n",
       "ntuple(f, ::Val{N})\n",
       "```\n",
       "\n",
       "Create a tuple of length `N`, computing each element as `f(i)`, where `i` is the index of the element. By taking a `Val(N)` argument, it is possible that this version of ntuple may generate more efficient code than the version taking the length as an integer. But `ntuple(f, N)` is preferable to `ntuple(f, Val(N))` in cases where `N` cannot be determined at compile time.\n",
       "\n",
       "# Examples\n",
       "\n",
       "```jldoctest\n",
       "julia> ntuple(i -> 2*i, Val(4))\n",
       "(2, 4, 6, 8)\n",
       "```\n"
      ],
      "text/plain": [
       "\u001b[36m  ntuple(f::Function, n::Integer)\u001b[39m\n",
       "\n",
       "  Create a tuple of length \u001b[36mn\u001b[39m, computing each element as \u001b[36mf(i)\u001b[39m, where \u001b[36mi\u001b[39m is the\n",
       "  index of the element.\n",
       "\n",
       "\u001b[1m  Examples\u001b[22m\n",
       "\u001b[1m  ≡≡≡≡≡≡≡≡≡≡\u001b[22m\n",
       "\n",
       "\u001b[36m  julia> ntuple(i -> 2*i, 4)\u001b[39m\n",
       "\u001b[36m  (2, 4, 6, 8)\u001b[39m\n",
       "\n",
       "  ────────────────────────────────────────────────────────────────────────────\n",
       "\n",
       "\u001b[36m  ntuple(f, ::Val{N})\u001b[39m\n",
       "\n",
       "  Create a tuple of length \u001b[36mN\u001b[39m, computing each element as \u001b[36mf(i)\u001b[39m, where \u001b[36mi\u001b[39m is the\n",
       "  index of the element. By taking a \u001b[36mVal(N)\u001b[39m argument, it is possible that this\n",
       "  version of ntuple may generate more efficient code than the version taking\n",
       "  the length as an integer. But \u001b[36mntuple(f, N)\u001b[39m is preferable to \u001b[36mntuple(f,\n",
       "  Val(N))\u001b[39m in cases where \u001b[36mN\u001b[39m cannot be determined at compile time.\n",
       "\n",
       "\u001b[1m  Examples\u001b[22m\n",
       "\u001b[1m  ≡≡≡≡≡≡≡≡≡≡\u001b[22m\n",
       "\n",
       "\u001b[36m  julia> ntuple(i -> 2*i, Val(4))\u001b[39m\n",
       "\u001b[36m  (2, 4, 6, 8)\u001b[39m"
      ]
     },
     "execution_count": 4,
     "metadata": {},
     "output_type": "execute_result"
    }
   ],
   "source": [
    "?ntuple"
   ]
  },
  {
   "cell_type": "code",
   "execution_count": null,
   "id": "1282c3e5-d0f4-48e0-bc29-5b04a9c080bc",
   "metadata": {},
   "outputs": [],
   "source": []
  }
 ],
 "metadata": {
  "jupytext": {
   "formats": "ipynb,auto:hydrogen"
  },
  "kernelspec": {
   "display_name": "Julia 1.8.0-DEV",
   "language": "julia",
   "name": "julia-1.8"
  },
  "language_info": {
   "file_extension": ".jl",
   "mimetype": "application/julia",
   "name": "julia",
   "version": "1.8.0"
  }
 },
 "nbformat": 4,
 "nbformat_minor": 5
}
