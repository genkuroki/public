{
 "cells": [
  {
   "cell_type": "markdown",
   "id": "b6529758-421a-4816-9aaa-b2c049f0599a",
   "metadata": {},
   "source": [
    "Since there is no minimal working example (MWE), I could not figure out what you really wanted to do.\n",
    "(Please read https://discourse.julialang.org/t/please-read-make-it-easier-to-help-you/14757)\n",
    "\n",
    "However, I thought that possibly you would like to do something like this. Please take a look at the MWE below."
   ]
  },
  {
   "cell_type": "code",
   "execution_count": 1,
   "id": "4c25cf50-b00b-416d-a28d-203230868e47",
   "metadata": {},
   "outputs": [
    {
     "name": "stdout",
     "output_type": "stream",
     "text": [
      "prob = Problem(1.5) = Problem{Float64}(1.5)\n",
      "\n",
      "Problem:   Problem{Float64}(1.5)\n",
      "Algorithm: Algorithm_A{Float64}(2.0)\n",
      "Result:    3.0\n",
      "\n",
      "Problem:   Problem{Float64}(1.5)\n",
      "Algorithm: Algorithm_B{Float64}(3.0)\n",
      "Result:    4.5\n",
      "\n"
     ]
    }
   ],
   "source": [
    "module SCI\n",
    "\n",
    "export Problem, Algorithm_A, Algorithm_B, solve\n",
    "\n",
    "abstract type AbstractProblem end\n",
    "struct Problem{T} <: AbstractProblem x::T end\n",
    "\n",
    "abstract type AbstractAlgorithm end\n",
    "Base.@kwdef struct Algorithm_A{T} <: AbstractAlgorithm a::T = 2.0 end\n",
    "Base.@kwdef struct Algorithm_B{T} <: AbstractAlgorithm a::T = 3.0 end\n",
    "default_algorithm(prob::Problem) = Algorithm_A()\n",
    "\n",
    "struct Solution{R, P<:AbstractProblem, A<:AbstractAlgorithm} result::R; prob::P; alg::A end\n",
    "solve(prob::AbstractProblem) = solve(prob, default_algorithm(prob))\n",
    "solve(prob::AbstractProblem, alg::AbstractAlgorithm) = Solution(alg.a * prob.x, prob, alg)\n",
    "\n",
    "\"\"\"\n",
    "Here, `Base` module plays the role of `COM` package.\n",
    "SCI module can define the method of \n",
    "`Base.show` = `COM.show` function for `SCI.Solution` type.\n",
    "\"\"\"\n",
    "function Base.show(io::IO, sol::Solution)\n",
    "    result = \"\"\"\n",
    "    Problem:   $(sol.prob)\n",
    "    Algorithm: $(sol.alg)\n",
    "    Result:    $(sol.result)\n",
    "    \"\"\"\n",
    "    print(io, result)\n",
    "end\n",
    "\n",
    "end\n",
    "\n",
    "using .SCI\n",
    "@show prob = Problem(1.5)\n",
    "println()\n",
    "println(solve(prob))\n",
    "println(solve(prob, Algorithm_B()))"
   ]
  },
  {
   "cell_type": "code",
   "execution_count": 2,
   "id": "21c73b12-fee3-49be-a493-2f9453b91412",
   "metadata": {},
   "outputs": [
    {
     "name": "stdout",
     "output_type": "stream",
     "text": [
      "prob2 = Problem2(10.0, 1.0) = Problem2{Float64}(10.0, 1.0)\n",
      "\n",
      "Problem:   Problem2{Float64}(10.0, 1.0)\n",
      "Algorithm: Algorithm_C{Float64}(2.0, 3.0)\n",
      "Result:    23.0\n",
      "\n"
     ]
    }
   ],
   "source": [
    "module SCI2 # extension of SCI module\n",
    "\n",
    "export Problem2, Algorithm_C\n",
    "\n",
    "using ..SCI: SCI, AbstractProblem, AbstractAlgorithm, Solution\n",
    "\n",
    "struct Problem2{T} <: AbstractProblem x::T; y::T end\n",
    "Base.@kwdef struct Algorithm_C{T} <: AbstractAlgorithm a::T = 2.0; b = 3.0 end\n",
    "SCI.default_algorithm(prob::Problem2) = Algorithm_C()\n",
    "SCI.solve(prob::Problem2, alg::Algorithm_C) = Solution(alg.a * prob.x + alg.b * prob.y, prob, alg)\n",
    "\n",
    "end\n",
    "\n",
    "using .SCI2\n",
    "@show prob2 = Problem2(10.0, 1.0)\n",
    "println()\n",
    "println(solve(prob2))"
   ]
  },
  {
   "cell_type": "markdown",
   "id": "6fc989e8-a0cf-442f-b748-89e335e7ca6d",
   "metadata": {},
   "source": [
    "In the above example I don't define `AbstractSolution` type, nor did I make `Solution` a subtype of it. But you can define it, and then define another Solution type as a subtype of it in `SCI2` module, and also define how to display objects of another Solution type.   Many other extensions are also possible.\n",
    "\n",
    "See also https://discourse.julialang.org/t/function-depending-on-the-global-variable-inside-module/64322/10"
   ]
  },
  {
   "cell_type": "code",
   "execution_count": null,
   "id": "0021a4b9-b9a9-47f2-b846-04fc330aec98",
   "metadata": {},
   "outputs": [],
   "source": []
  }
 ],
 "metadata": {
  "jupytext": {
   "formats": "ipynb,auto:hydrogen"
  },
  "kernelspec": {
   "display_name": "Julia 1.8.0-DEV",
   "language": "julia",
   "name": "julia-1.8"
  },
  "language_info": {
   "file_extension": ".jl",
   "mimetype": "application/julia",
   "name": "julia",
   "version": "1.8.0"
  }
 },
 "nbformat": 4,
 "nbformat_minor": 5
}
