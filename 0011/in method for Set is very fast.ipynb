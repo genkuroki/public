{
 "cells": [
  {
   "cell_type": "code",
   "execution_count": 1,
   "id": "74e975b0-d461-4730-8d86-fac2850035a2",
   "metadata": {},
   "outputs": [
    {
     "data": {
      "text/plain": [
       "1000000"
      ]
     },
     "execution_count": 1,
     "metadata": {},
     "output_type": "execute_result"
    }
   ],
   "source": [
    "a = rand(1:10^6, 10^6)\n",
    "length(a)"
   ]
  },
  {
   "cell_type": "code",
   "execution_count": 2,
   "id": "982be07e-a894-4fce-8f87-8266129b5791",
   "metadata": {},
   "outputs": [
    {
     "data": {
      "text/plain": [
       "631801"
      ]
     },
     "execution_count": 2,
     "metadata": {},
     "output_type": "execute_result"
    }
   ],
   "source": [
    "u = unique(a)\n",
    "length(u)"
   ]
  },
  {
   "cell_type": "code",
   "execution_count": 3,
   "id": "48da4d2f-d37d-4173-ad72-1d79d64c6450",
   "metadata": {},
   "outputs": [
    {
     "name": "stdout",
     "output_type": "stream",
     "text": [
      "[1, 3, 8, 9, 10, 11, 12, 13, 14, 17, 18, 19, 20, 21, 22, 23, 24, 26, 27, 28, 29, 30, 31, 35, 36, 37, 38, 42, 43, 45, 47, 48, 50, 51, 52, 53, 54, 55, 56, 57, 58, 59, 61, 62, 64, 65, 66, 67, 68, 71, 72, 74, 76, 77, 80, 81, 82, 83, 84, 86, 87, 88, 89, 90, 93, 94, 96, 100, 101, 102, 103, 107, 111, 112, 113, 114, 116, 117, 118, 119, 120, 121, 122, 123, 124, 125, 127, 129, 131, 133, 134, 137, 138, 139, 143, 144, 145, 146, 148, 150]"
     ]
    }
   ],
   "source": [
    "s = sort(u)\n",
    "first(s, 100) |> print"
   ]
  },
  {
   "cell_type": "code",
   "execution_count": 4,
   "id": "37de622c-58c8-4a66-a64e-ddcc827c9706",
   "metadata": {},
   "outputs": [
    {
     "data": {
      "text/plain": [
       "631801"
      ]
     },
     "execution_count": 4,
     "metadata": {},
     "output_type": "execute_result"
    }
   ],
   "source": [
    "X = Set(a)\n",
    "length(X)"
   ]
  },
  {
   "cell_type": "code",
   "execution_count": 5,
   "id": "0775cf32-7670-47ff-8cad-b4373f9419d6",
   "metadata": {},
   "outputs": [
    {
     "name": "stdout",
     "output_type": "stream",
     "text": [
      "  29.281 ms (2 allocations: 112 bytes)\n",
      "  16.957 ms (2 allocations: 112 bytes)\n",
      "  2.456 μs (2 allocations: 112 bytes)\n",
      "  485.567 ns (2 allocations: 112 bytes)\n"
     ]
    }
   ],
   "source": [
    "using BenchmarkTools\n",
    "R = rand(1:10^6, 100)\n",
    "\n",
    "@btime in($a).($R)\n",
    "@btime in($u).($R)\n",
    "@btime Base.Fix2(insorted, $s).($R)\n",
    "@btime in($X).($R);"
   ]
  },
  {
   "cell_type": "code",
   "execution_count": null,
   "id": "a2fd4d39-703d-4842-a986-ede2142058a4",
   "metadata": {},
   "outputs": [],
   "source": []
  }
 ],
 "metadata": {
  "jupytext": {
   "formats": "ipynb,auto:hydrogen"
  },
  "kernelspec": {
   "display_name": "Julia 1.8.0-DEV",
   "language": "julia",
   "name": "julia-1.8"
  },
  "language_info": {
   "file_extension": ".jl",
   "mimetype": "application/julia",
   "name": "julia",
   "version": "1.8.0"
  }
 },
 "nbformat": 4,
 "nbformat_minor": 5
}
