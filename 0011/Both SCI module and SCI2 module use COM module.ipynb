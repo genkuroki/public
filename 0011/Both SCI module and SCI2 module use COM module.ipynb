{
 "cells": [
  {
   "cell_type": "code",
   "execution_count": 1,
   "id": "f7a74459-66b8-401e-94b4-86d541be2f54",
   "metadata": {},
   "outputs": [
    {
     "name": "stdout",
     "output_type": "stream",
     "text": [
      "2-element Vector{Float64}:\n",
      " 3.141592653589793\n",
      " 6.283185307179586"
     ]
    }
   ],
   "source": [
    "\"\"\"\n",
    "`COM.prettyprint(x)` prints nicely the object `x` \n",
    "for which `COM.prettify(x)` method is defined.\n",
    "\"\"\"\n",
    "module COM\n",
    "prettify(x) = sprint(io -> show(io, \"text/plain\", x))\n",
    "prettyprint(io::IO, x) = print(io, prettify(x))\n",
    "prettyprint(x) = prettyprint(stdout, x)\n",
    "end\n",
    "\n",
    "using .COM\n",
    "COM.prettyprint([π, 2π])"
   ]
  },
  {
   "cell_type": "code",
   "execution_count": 2,
   "id": "166a1ba3-0401-45dc-9805-61d590467438",
   "metadata": {},
   "outputs": [
    {
     "name": "stdout",
     "output_type": "stream",
     "text": [
      "Problem:   x = 1\n",
      "Algorithm: builtin exp(x)\n",
      "Result:    2.718281828459045\n",
      "\n",
      "Problem:   x = 1\n",
      "Algorithm: Taylor series of exp(x) upto degree 10\n",
      "Result:    2.7182818011463845\n"
     ]
    }
   ],
   "source": [
    "\"\"\"A scirntific module (calculate exp(x))\"\"\"\n",
    "module SCI\n",
    "\n",
    "abstract type AbstractProblem end\n",
    "struct Problem{T} <: AbstractProblem x::T end\n",
    "\n",
    "abstract type AbstractAlgorithm end\n",
    "struct Builtin <: AbstractAlgorithm end\n",
    "Base.@kwdef struct Taylor <: AbstractAlgorithm n::Int = 10 end\n",
    "default_algorithm(prob::Problem) = Builtin()\n",
    "\n",
    "struct Solution{R, P<:AbstractProblem, A<:AbstractAlgorithm} result::R; prob::P; alg::A end\n",
    "solve(prob::AbstractProblem) = solve(prob, default_algorithm(prob))\n",
    "solve(prob::AbstractProblem, alg::Builtin) = Solution(exp(prob.x), prob, alg)\n",
    "solve(prob::AbstractProblem, alg::Taylor) = Solution(sum(prob.x^k/factorial(k) for k in 0:alg.n), prob, alg)\n",
    "\n",
    "using ..COM\n",
    "\n",
    "COM.prettify(sol::Solution{R, P, A}) where {R, P<:AbstractProblem, A<:Builtin} = \"\"\"\n",
    "Problem:   x = $(sol.prob.x)\n",
    "Algorithm: builtin exp(x)\n",
    "Result:    $(sol.result)\n",
    "\"\"\"\n",
    "\n",
    "COM.prettify(sol::Solution{R, P, A}) where {R, P<:AbstractProblem, A<:Taylor} = \"\"\"\n",
    "Problem:   x = $(sol.prob.x)\n",
    "Algorithm: Taylor series of exp(x) upto degree $(sol.alg.n)\n",
    "Result:    $(sol.result)\n",
    "\"\"\"\n",
    "\n",
    "end\n",
    "\n",
    "using .SCI\n",
    "prob = SCI.Problem(1)\n",
    "COM.prettyprint(SCI.solve(prob))\n",
    "println()\n",
    "COM.prettyprint(SCI.solve(prob, SCI.Taylor()))"
   ]
  },
  {
   "cell_type": "code",
   "execution_count": 3,
   "id": "eca4ec79-921d-4aa6-8aa6-783b93195690",
   "metadata": {},
   "outputs": [
    {
     "name": "stdout",
     "output_type": "stream",
     "text": [
      "Problem:   x = 0.5235987755982988\n",
      "Algorithm: builtin sin(x)\n",
      "Result:    0.49999999999999994\n",
      "\n",
      "Problem:   x = 0.5235987755982988\n",
      "Algorithm: Taylor series of sin(x) upto degree 3\n",
      "Result:    0.49967417939436376\n"
     ]
    }
   ],
   "source": [
    "\"\"\"Another scirntific module (calculate sin(x))\"\"\"\n",
    "module SCI2\n",
    "\n",
    "abstract type AbstractProblem end\n",
    "struct Problem{T} <: AbstractProblem x::T end\n",
    "\n",
    "abstract type AbstractAlgorithm end\n",
    "struct Builtin <: AbstractAlgorithm end\n",
    "Base.@kwdef struct Taylor <: AbstractAlgorithm n::Int = 1 end\n",
    "default_algorithm(prob::Problem) = Builtin()\n",
    "\n",
    "struct Solution{R, P<:AbstractProblem, A<:AbstractAlgorithm} result::R; prob::P; alg::A end\n",
    "solve(prob::AbstractProblem) = solve(prob, default_algorithm(prob))\n",
    "solve(prob::AbstractProblem, alg::Builtin) = Solution(sin(prob.x), prob, alg)\n",
    "solve(prob::AbstractProblem, alg::Taylor) = Solution(sum((-1)^k*prob.x^(2k+1)/factorial(2k+1) for k in 0:alg.n), prob, alg)\n",
    "\n",
    "using ..COM\n",
    "\n",
    "COM.prettify(sol::Solution{R, P, A}) where {R, P<:AbstractProblem, A<:Builtin} = \"\"\"\n",
    "Problem:   x = $(sol.prob.x)\n",
    "Algorithm: builtin sin(x)\n",
    "Result:    $(sol.result)\n",
    "\"\"\"\n",
    "\n",
    "COM.prettify(sol::Solution{R, P, A}) where {R, P<:AbstractProblem, A<:Taylor} = \"\"\"\n",
    "Problem:   x = $(sol.prob.x)\n",
    "Algorithm: Taylor series of sin(x) upto degree $(2sol.alg.n + 1)\n",
    "Result:    $(sol.result)\n",
    "\"\"\"\n",
    "\n",
    "end\n",
    "\n",
    "using .SCI2\n",
    "prob2 = SCI2.Problem(π/6)\n",
    "COM.prettyprint(SCI2.solve(prob2))\n",
    "println()\n",
    "COM.prettyprint(SCI2.solve(prob2, SCI2.Taylor()))"
   ]
  },
  {
   "cell_type": "markdown",
   "id": "b1c01246-6b23-485e-a4f0-199c0a5a0e2b",
   "metadata": {},
   "source": [
    "[quote=\"BambOoxX, post:12, topic:64568\"]\n",
    "you define the `SCI` package such that it patches the `COM` package is this right ?\n",
    "[/quote]\n",
    "\n",
    "Yes.  It is a very standard pattern.\n",
    "\n",
    "[quote=\"BambOoxX, post:12, topic:64568\"]\n",
    "If so : What would happen if `COM` is not loaded prior to `SC` .\n",
    "[/quote]\n",
    "\n",
    "Assume that, unlike the MWE I have shown above, both COM and SCI are packaged and available for `using COM` and `using SCI`.  Then the result of `using SCI; using COM` and the result of `using COM; using SCI` will be the same.\n",
    "\n",
    "In the following example, `COM` package has a function `prettify(x)` that its methods can be defined for user-defined types, and a function `prettyprint(x)` that uses `prettify(x)`.  The `SCI` package makes use of them."
   ]
  },
  {
   "cell_type": "code",
   "execution_count": null,
   "id": "e3fa92a6-ee82-43f7-9556-878cd2c18c84",
   "metadata": {},
   "outputs": [],
   "source": []
  }
 ],
 "metadata": {
  "kernelspec": {
   "display_name": "Julia 1.6.1",
   "language": "julia",
   "name": "julia-1.6"
  },
  "language_info": {
   "file_extension": ".jl",
   "mimetype": "application/julia",
   "name": "julia",
   "version": "1.6.1"
  }
 },
 "nbformat": 4,
 "nbformat_minor": 5
}
