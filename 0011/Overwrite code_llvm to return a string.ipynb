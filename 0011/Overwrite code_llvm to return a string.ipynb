{
 "cells": [
  {
   "cell_type": "code",
   "execution_count": 7,
   "id": "2bd94b0b-e4cc-4753-9295-98dd47d718a5",
   "metadata": {},
   "outputs": [],
   "source": [
    "InteractiveUtils.code_llvm(@nospecialize(f), @nospecialize(types=Tuple); raw=false, dump_module=false, optimize=true, debuginfo::Symbol=:default) = sprint() do io\n",
    "    code_llvm(io, f, types; raw=raw, dump_module=dump_module, optimize=optimize, debuginfo=debuginfo)\n",
    "end"
   ]
  },
  {
   "cell_type": "code",
   "execution_count": 18,
   "id": "619eba6a-ff66-428f-b503-da7688b15f6c",
   "metadata": {},
   "outputs": [
    {
     "data": {
      "text/plain": [
       "\"; Function Attrs: uwtable\\ndefine double @julia_sin_kernel_1792(double %0) #0 {\\ntop:\\n  %1 = fmul double %0, %0\\n  %2 = fmul double %1, %1\\n  %3 = fmul contract double %1, 0x3EC71DE357B1FE7D\\n  %4 = fadd contract double %3, 0xBF2A01A019C161D5\\n  %5 = fmul contract double %1, %4\\n  %6 = fadd contract double %5, 0x3F8111111110F8A6\\n  %7 = fmul contract double %1, 0x3DE5D93A5ACFD57C\\n  %8 = fadd contract double %7, 0xBE5AE5E68A2B9CEB\\n  %9 = fmul double %1, %2\\n  %10 = fmul double %9, %8\\n  %11 = fadd double %10, %6\\n  %12 = fmul double %1, %0\\n  %13 = fmul double %1, %11\\n  %14 = fadd double %13, 0xBFC5555555555549\\n  %15 = fmul double %12, %14\\n  %16 = fadd double %15, %0\\n  ret double %16\\n}\\n\""
      ]
     },
     "execution_count": 18,
     "metadata": {},
     "output_type": "execute_result"
    }
   ],
   "source": [
    "s = @code_llvm debuginfo=:none Base.Math.sin_kernel(0.5)"
   ]
  },
  {
   "cell_type": "code",
   "execution_count": 16,
   "id": "62e3b5ae-359f-4b6d-86ab-b605336d6ece",
   "metadata": {},
   "outputs": [
    {
     "data": {
      "text/plain": [
       "String"
      ]
     },
     "execution_count": 16,
     "metadata": {},
     "output_type": "execute_result"
    }
   ],
   "source": [
    "s |> typeof"
   ]
  },
  {
   "cell_type": "code",
   "execution_count": 19,
   "id": "779f4c8d-1480-4455-b91c-7806a200b65f",
   "metadata": {},
   "outputs": [
    {
     "name": "stdout",
     "output_type": "stream",
     "text": [
      "; Function Attrs: uwtable\n",
      "define double @julia_sin_kernel_1792(double %0) #0 {\n",
      "top:\n",
      "  %1 = fmul double %0, %0\n",
      "  %2 = fmul double %1, %1\n",
      "  %3 = fmul contract double %1, 0x3EC71DE357B1FE7D\n",
      "  %4 = fadd contract double %3, 0xBF2A01A019C161D5\n",
      "  %5 = fmul contract double %1, %4\n",
      "  %6 = fadd contract double %5, 0x3F8111111110F8A6\n",
      "  %7 = fmul contract double %1, 0x3DE5D93A5ACFD57C\n",
      "  %8 = fadd contract double %7, 0xBE5AE5E68A2B9CEB\n",
      "  %9 = fmul double %1, %2\n",
      "  %10 = fmul double %9, %8\n",
      "  %11 = fadd double %10, %6\n",
      "  %12 = fmul double %1, %0\n",
      "  %13 = fmul double %1, %11\n",
      "  %14 = fadd double %13, 0xBFC5555555555549\n",
      "  %15 = fmul double %12, %14\n",
      "  %16 = fadd double %15, %0\n",
      "  ret double %16\n",
      "}\n"
     ]
    }
   ],
   "source": [
    "print(s)"
   ]
  },
  {
   "cell_type": "code",
   "execution_count": null,
   "id": "7e263290-4b0a-42fa-911c-c6dc99db95b1",
   "metadata": {},
   "outputs": [],
   "source": []
  }
 ],
 "metadata": {
  "jupytext": {
   "formats": "ipynb,auto:hydrogen"
  },
  "kernelspec": {
   "display_name": "Julia 1.6.1",
   "language": "julia",
   "name": "julia-1.6"
  },
  "language_info": {
   "file_extension": ".jl",
   "mimetype": "application/julia",
   "name": "julia",
   "version": "1.6.1"
  }
 },
 "nbformat": 4,
 "nbformat_minor": 5
}
