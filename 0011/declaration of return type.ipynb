{
 "cells": [
  {
   "cell_type": "code",
   "execution_count": 3,
   "id": "2b378dd6-7774-4180-b10d-330d97a020d0",
   "metadata": {},
   "outputs": [
    {
     "data": {
      "text/plain": [
       "g (generic function with 1 method)"
      ]
     },
     "execution_count": 3,
     "metadata": {},
     "output_type": "execute_result"
    }
   ],
   "source": [
    "f(x::Int)::Int = x > 0 ? x / 2 : x\n",
    "g(x::Int) = x > 0 ? typeassert(convert(Int, x / 2), Int) : typeassert(convert(Int, x), Int)"
   ]
  },
  {
   "cell_type": "code",
   "execution_count": 2,
   "id": "58593a0c-b3f5-4cf2-a3a4-890abde6924c",
   "metadata": {},
   "outputs": [
    {
     "name": "stdout",
     "output_type": "stream",
     "text": [
      "MethodInstance for f(::\u001b[0mInt64)\n",
      "  from f(x::Int64) in Main at In[1]:1\n",
      "Arguments\n",
      "  #self#\u001b[36m::Core.Const(f)\u001b[39m\n",
      "  x\u001b[36m::Int64\u001b[39m\n",
      "Body\u001b[36m::Int64\u001b[39m\n",
      "\u001b[90m1 ─\u001b[39m %1 = Main.Int\u001b[36m::Core.Const(Int64)\u001b[39m\n",
      "\u001b[90m│  \u001b[39m %2 = (x > 0)\u001b[36m::Bool\u001b[39m\n",
      "\u001b[90m└──\u001b[39m      goto #3 if not %2\n",
      "\u001b[90m2 ─\u001b[39m %4 = (x / 2)\u001b[36m::Float64\u001b[39m\n",
      "\u001b[90m│  \u001b[39m %5 = Base.convert(%1, %4)\u001b[36m::Int64\u001b[39m\n",
      "\u001b[90m│  \u001b[39m %6 = Core.typeassert(%5, %1)\u001b[36m::Int64\u001b[39m\n",
      "\u001b[90m└──\u001b[39m      return %6\n",
      "\u001b[90m3 ─\u001b[39m %8 = Base.convert(%1, x)\u001b[36m::Int64\u001b[39m\n",
      "\u001b[90m│  \u001b[39m %9 = Core.typeassert(%8, %1)\u001b[36m::Int64\u001b[39m\n",
      "\u001b[90m└──\u001b[39m      return %9\n",
      "\n"
     ]
    }
   ],
   "source": [
    "@code_warntype f(1)"
   ]
  },
  {
   "cell_type": "code",
   "execution_count": 4,
   "id": "27080d32-ca20-4b00-a963-12a5472a4ab8",
   "metadata": {},
   "outputs": [
    {
     "name": "stdout",
     "output_type": "stream",
     "text": [
      "MethodInstance for g(::\u001b[0mInt64)\n",
      "  from g(x::Int64) in Main at In[3]:2\n",
      "Arguments\n",
      "  #self#\u001b[36m::Core.Const(g)\u001b[39m\n",
      "  x\u001b[36m::Int64\u001b[39m\n",
      "Body\u001b[36m::Int64\u001b[39m\n",
      "\u001b[90m1 ─\u001b[39m %1 = (x > 0)\u001b[36m::Bool\u001b[39m\n",
      "\u001b[90m└──\u001b[39m      goto #3 if not %1\n",
      "\u001b[90m2 ─\u001b[39m %3 = (x / 2)\u001b[36m::Float64\u001b[39m\n",
      "\u001b[90m│  \u001b[39m %4 = Main.convert(Main.Int, %3)\u001b[36m::Int64\u001b[39m\n",
      "\u001b[90m│  \u001b[39m %5 = Main.typeassert(%4, Main.Int)\u001b[36m::Int64\u001b[39m\n",
      "\u001b[90m└──\u001b[39m      return %5\n",
      "\u001b[90m3 ─\u001b[39m %7 = Main.convert(Main.Int, x)\u001b[36m::Int64\u001b[39m\n",
      "\u001b[90m│  \u001b[39m %8 = Main.typeassert(%7, Main.Int)\u001b[36m::Int64\u001b[39m\n",
      "\u001b[90m└──\u001b[39m      return %8\n",
      "\n"
     ]
    }
   ],
   "source": [
    "@code_warntype g(1)"
   ]
  },
  {
   "cell_type": "code",
   "execution_count": 5,
   "id": "b1ec4abb-dd5f-4a05-b5fd-dedaa7f6d468",
   "metadata": {},
   "outputs": [
    {
     "data": {
      "text/plain": [
       "CodeInfo(\n",
       "\u001b[90m1 ──\u001b[39m %1  = Base.slt_int(0, x)\u001b[36m::Bool\u001b[39m\n",
       "\u001b[90m└───\u001b[39m       goto #11 if not %1\n",
       "\u001b[90m2 ──\u001b[39m %3  = Base.sitofp(Float64, x)\u001b[36m::Float64\u001b[39m\n",
       "\u001b[90m│   \u001b[39m %4  = Base.div_float(%3, 2.0)\u001b[36m::Float64\u001b[39m\n",
       "\u001b[90m│   \u001b[39m %5  = Base.le_float(-9.223372036854776e18, %4)\u001b[36m::Bool\u001b[39m\n",
       "\u001b[90m└───\u001b[39m       goto #4 if not %5\n",
       "\u001b[90m3 ──\u001b[39m %7  = Base.lt_float(%4, 9.223372036854776e18)\u001b[36m::Bool\u001b[39m\n",
       "\u001b[90m└───\u001b[39m       goto #5\n",
       "\u001b[90m4 ──\u001b[39m       nothing\u001b[90m::Nothing\u001b[39m\n",
       "\u001b[90m5 ┄─\u001b[39m %10 = φ (#3 => %7, #4 => false)\u001b[36m::Bool\u001b[39m\n",
       "\u001b[90m└───\u001b[39m       goto #8 if not %10\n",
       "\u001b[90m6 ──\u001b[39m %12 = Base.trunc_llvm(%4)\u001b[36m::Float64\u001b[39m\n",
       "\u001b[90m│   \u001b[39m %13 = Base.eq_float(%12, %4)\u001b[36m::Bool\u001b[39m\n",
       "\u001b[90m└───\u001b[39m       goto #8 if not %13\n",
       "\u001b[90m7 ──\u001b[39m %15 = Base.fptosi(Int64, %4)\u001b[36m::Int64\u001b[39m\n",
       "\u001b[90m└───\u001b[39m       goto #9\n",
       "\u001b[90m8 ┄─\u001b[39m %17 = Base.InexactError(:Int64, Int64, %4)\u001b[36m::Any\u001b[39m\n",
       "\u001b[90m│   \u001b[39m       Base.throw(%17)\u001b[90m::Union{}\u001b[39m\n",
       "\u001b[90m└───\u001b[39m       unreachable\n",
       "\u001b[90m9 ──\u001b[39m       goto #10\n",
       "\u001b[90m10 ─\u001b[39m       return %15\n",
       "\u001b[90m11 ─\u001b[39m       return x\n",
       ") => Int64"
      ]
     },
     "execution_count": 5,
     "metadata": {},
     "output_type": "execute_result"
    }
   ],
   "source": [
    "@code_typed f(1)"
   ]
  },
  {
   "cell_type": "code",
   "execution_count": 6,
   "id": "227da201-f856-4c3f-a5b0-d9c79b9f0e9d",
   "metadata": {},
   "outputs": [
    {
     "data": {
      "text/plain": [
       "CodeInfo(\n",
       "\u001b[90m1 ──\u001b[39m %1  = Base.slt_int(0, x)\u001b[36m::Bool\u001b[39m\n",
       "\u001b[90m└───\u001b[39m       goto #11 if not %1\n",
       "\u001b[90m2 ──\u001b[39m %3  = Base.sitofp(Float64, x)\u001b[36m::Float64\u001b[39m\n",
       "\u001b[90m│   \u001b[39m %4  = Base.div_float(%3, 2.0)\u001b[36m::Float64\u001b[39m\n",
       "\u001b[90m│   \u001b[39m %5  = Base.le_float(-9.223372036854776e18, %4)\u001b[36m::Bool\u001b[39m\n",
       "\u001b[90m└───\u001b[39m       goto #4 if not %5\n",
       "\u001b[90m3 ──\u001b[39m %7  = Base.lt_float(%4, 9.223372036854776e18)\u001b[36m::Bool\u001b[39m\n",
       "\u001b[90m└───\u001b[39m       goto #5\n",
       "\u001b[90m4 ──\u001b[39m       nothing\u001b[90m::Nothing\u001b[39m\n",
       "\u001b[90m5 ┄─\u001b[39m %10 = φ (#3 => %7, #4 => false)\u001b[36m::Bool\u001b[39m\n",
       "\u001b[90m└───\u001b[39m       goto #8 if not %10\n",
       "\u001b[90m6 ──\u001b[39m %12 = Base.trunc_llvm(%4)\u001b[36m::Float64\u001b[39m\n",
       "\u001b[90m│   \u001b[39m %13 = Base.eq_float(%12, %4)\u001b[36m::Bool\u001b[39m\n",
       "\u001b[90m└───\u001b[39m       goto #8 if not %13\n",
       "\u001b[90m7 ──\u001b[39m %15 = Base.fptosi(Int64, %4)\u001b[36m::Int64\u001b[39m\n",
       "\u001b[90m└───\u001b[39m       goto #9\n",
       "\u001b[90m8 ┄─\u001b[39m %17 = Base.InexactError(:Int64, Int64, %4)\u001b[36m::Any\u001b[39m\n",
       "\u001b[90m│   \u001b[39m       Base.throw(%17)\u001b[90m::Union{}\u001b[39m\n",
       "\u001b[90m└───\u001b[39m       unreachable\n",
       "\u001b[90m9 ──\u001b[39m       goto #10\n",
       "\u001b[90m10 ─\u001b[39m       return %15\n",
       "\u001b[90m11 ─\u001b[39m       return x\n",
       ") => Int64"
      ]
     },
     "execution_count": 6,
     "metadata": {},
     "output_type": "execute_result"
    }
   ],
   "source": [
    "@code_typed g(1)"
   ]
  },
  {
   "cell_type": "code",
   "execution_count": null,
   "id": "cee93e01-d7c9-4351-a6ea-b1f89d2d6f04",
   "metadata": {},
   "outputs": [],
   "source": []
  }
 ],
 "metadata": {
  "jupytext": {
   "formats": "ipynb,auto:hydrogen"
  },
  "kernelspec": {
   "display_name": "Julia 1.8.0-DEV",
   "language": "julia",
   "name": "julia-1.8"
  },
  "language_info": {
   "file_extension": ".jl",
   "mimetype": "application/julia",
   "name": "julia",
   "version": "1.8.0"
  }
 },
 "nbformat": 4,
 "nbformat_minor": 5
}
