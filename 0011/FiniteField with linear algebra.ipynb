{
 "cells": [
  {
   "cell_type": "code",
   "execution_count": 1,
   "id": "e675f201-723c-4457-82ad-357e249a31b1",
   "metadata": {},
   "outputs": [
    {
     "name": "stdout",
     "output_type": "stream",
     "text": [
      "\n",
      "Welcome to Nemo version 0.25.0\n",
      "\n",
      "Nemo comes with absolutely no warranty whatsoever\n",
      "\n"
     ]
    }
   ],
   "source": [
    "using Nemo"
   ]
  },
  {
   "cell_type": "code",
   "execution_count": 2,
   "id": "b8f8e370-1974-4649-a78a-9b4a13faddf0",
   "metadata": {},
   "outputs": [
    {
     "data": {
      "text/plain": [
       "(Finite field of degree 2 over F_7, a)"
      ]
     },
     "execution_count": 2,
     "metadata": {},
     "output_type": "execute_result"
    }
   ],
   "source": [
    "F49, a = FiniteField(7, 2, \"a\")"
   ]
  },
  {
   "cell_type": "code",
   "execution_count": 3,
   "id": "a5e54fe2-eea4-4d76-be86-6eac1803d813",
   "metadata": {},
   "outputs": [
    {
     "data": {
      "text/plain": [
       "7×7 Matrix{fq_nmod}:\n",
       " 0  a      2*a      3*a      4*a      5*a      6*a\n",
       " 1  a + 1  2*a + 1  3*a + 1  4*a + 1  5*a + 1  6*a + 1\n",
       " 2  a + 2  2*a + 2  3*a + 2  4*a + 2  5*a + 2  6*a + 2\n",
       " 3  a + 3  2*a + 3  3*a + 3  4*a + 3  5*a + 3  6*a + 3\n",
       " 4  a + 4  2*a + 4  3*a + 4  4*a + 4  5*a + 4  6*a + 4\n",
       " 5  a + 5  2*a + 5  3*a + 5  4*a + 5  5*a + 5  6*a + 5\n",
       " 6  a + 6  2*a + 6  3*a + 6  4*a + 6  5*a + 6  6*a + 6"
      ]
     },
     "execution_count": 3,
     "metadata": {},
     "output_type": "execute_result"
    }
   ],
   "source": [
    "M = (0:6)' .* a .+ (0:6)"
   ]
  },
  {
   "cell_type": "code",
   "execution_count": 4,
   "id": "86d073bc-24c8-4892-b4cd-9daa4acb2bfc",
   "metadata": {},
   "outputs": [
    {
     "data": {
      "text/html": [
       "[0 a 2*a 3*a 4*a 5*a 6*a; 1 a+1 2*a+1 3*a+1 4*a+1 5*a+1 6*a+1; 2 a+2 2*a+2 3*a+2 4*a+2 5*a+2 6*a+2; 3 a+3 2*a+3 3*a+3 4*a+3 5*a+3 6*a+3; 4 a+4 2*a+4 3*a+4 4*a+4 5*a+4 6*a+4; 5 a+5 2*a+5 3*a+5 4*a+5 5*a+5 6*a+5; 6 a+6 2*a+6 3*a+6 4*a+6 5*a+6 6*a+6]"
      ],
      "text/latex": [
       "\\begin{array}{ccccccc}\n",
       "0 & a & 2 a & 3 a & 4 a & 5 a & 6 a \\\\\n",
       "1 & a + 1 & 2 a + 1 & 3 a + 1 & 4 a + 1 & 5 a + 1 & 6 a + 1 \\\\\n",
       "2 & a + 2 & 2 a + 2 & 3 a + 2 & 4 a + 2 & 5 a + 2 & 6 a + 2 \\\\\n",
       "3 & a + 3 & 2 a + 3 & 3 a + 3 & 4 a + 3 & 5 a + 3 & 6 a + 3 \\\\\n",
       "4 & a + 4 & 2 a + 4 & 3 a + 4 & 4 a + 4 & 5 a + 4 & 6 a + 4 \\\\\n",
       "5 & a + 5 & 2 a + 5 & 3 a + 5 & 4 a + 5 & 5 a + 5 & 6 a + 5 \\\\\n",
       "6 & a + 6 & 2 a + 6 & 3 a + 6 & 4 a + 6 & 5 a + 6 & 6 a + 6\n",
       "\\end{array}"
      ],
      "text/plain": [
       "[0       a       2*a       3*a       4*a       5*a       6*a]\n",
       "[1   a + 1   2*a + 1   3*a + 1   4*a + 1   5*a + 1   6*a + 1]\n",
       "[2   a + 2   2*a + 2   3*a + 2   4*a + 2   5*a + 2   6*a + 2]\n",
       "[3   a + 3   2*a + 3   3*a + 3   4*a + 3   5*a + 3   6*a + 3]\n",
       "[4   a + 4   2*a + 4   3*a + 4   4*a + 4   5*a + 4   6*a + 4]\n",
       "[5   a + 5   2*a + 5   3*a + 5   4*a + 5   5*a + 5   6*a + 5]\n",
       "[6   a + 6   2*a + 6   3*a + 6   4*a + 6   5*a + 6   6*a + 6]"
      ]
     },
     "execution_count": 4,
     "metadata": {},
     "output_type": "execute_result"
    }
   ],
   "source": [
    "X = MatrixSpace(F49, 7, 7)(M)"
   ]
  },
  {
   "cell_type": "code",
   "execution_count": 5,
   "id": "6c551769-7285-40a4-a093-f3aaea7ef121",
   "metadata": {},
   "outputs": [
    {
     "data": {
      "text/plain": [
       "(0, 0)"
      ]
     },
     "execution_count": 5,
     "metadata": {},
     "output_type": "execute_result"
    }
   ],
   "source": [
    "det(X), tr(X)"
   ]
  },
  {
   "cell_type": "code",
   "execution_count": 6,
   "id": "22d5719d-77d6-43bb-bdb4-6bc79ff39974",
   "metadata": {},
   "outputs": [
    {
     "data": {
      "text/plain": [
       "7×7 Matrix{fq_nmod}:\n",
       " 0  a      2*a      3*a      4*a      5*a      6*a\n",
       " 1  a + 1  2*a + 1  3*a + 1  4*a + 1  5*a + 1  6*a + 1\n",
       " 2  a + 2  2*a + 2  3*a + 2  4*a + 2  5*a + 2  6*a + 2\n",
       " 3  a + 3  2*a + 3  3*a + 3  4*a + 3  5*a + 3  6*a + 3\n",
       " 4  a + 4  2*a + 4  3*a + 4  4*a + 4  5*a + 4  6*a + 4\n",
       " 5  a + 5  2*a + 5  3*a + 5  4*a + 5  5*a + 5  6*a + 5\n",
       " 6  a + 6  2*a + 6  3*a + 6  4*a + 6  5*a + 6  6*a + 6"
      ]
     },
     "execution_count": 6,
     "metadata": {},
     "output_type": "execute_result"
    }
   ],
   "source": [
    "Matrix(X)"
   ]
  },
  {
   "cell_type": "code",
   "execution_count": 7,
   "id": "65e1a1e0-e560-47de-aa49-7fdd00480068",
   "metadata": {},
   "outputs": [
    {
     "data": {
      "text/html": [
       "[a+1 a+2; a+3 4*a+4]"
      ],
      "text/latex": [
       "\\begin{array}{cc}\n",
       "a + 1 & a + 2 \\\\\n",
       "a + 3 & 4 a + 4\n",
       "\\end{array}"
      ],
      "text/plain": [
       "[a + 1     a + 2]\n",
       "[a + 3   4*a + 4]"
      ]
     },
     "execution_count": 7,
     "metadata": {},
     "output_type": "execute_result"
    }
   ],
   "source": [
    "A = F49[\n",
    "    a+1 a+2\n",
    "    a+3 4a+4\n",
    "]"
   ]
  },
  {
   "cell_type": "code",
   "execution_count": 8,
   "id": "cf9aa3e9-af12-4ecc-9d1f-ef4e26b6a68f",
   "metadata": {},
   "outputs": [
    {
     "data": {
      "text/plain": [
       "(2, (), [1 0; a+6 1], [a+1 a+2; 0 2*a+2])"
      ]
     },
     "execution_count": 8,
     "metadata": {},
     "output_type": "execute_result"
    }
   ],
   "source": [
    "lu(A)"
   ]
  },
  {
   "cell_type": "code",
   "execution_count": 9,
   "id": "2129b48d-2c2f-459e-81fa-d25aba427577",
   "metadata": {},
   "outputs": [
    {
     "data": {
      "text/html": [
       "[a+5 a+3; 4*a+2 2*a+3]"
      ],
      "text/latex": [
       "\\begin{array}{cc}\n",
       "a + 5 & a + 3 \\\\\n",
       "4 a + 2 & 2 a + 3\n",
       "\\end{array}"
      ],
      "text/plain": [
       "[  a + 5     a + 3]\n",
       "[4*a + 2   2*a + 3]"
      ]
     },
     "execution_count": 9,
     "metadata": {},
     "output_type": "execute_result"
    }
   ],
   "source": [
    "inv(A)"
   ]
  },
  {
   "cell_type": "code",
   "execution_count": 10,
   "id": "6745f4e1-c26b-4a43-8c75-fc7fa2ec291c",
   "metadata": {},
   "outputs": [
    {
     "data": {
      "text/html": [
       "6*a + 3"
      ],
      "text/latex": [
       "6 a + 3"
      ],
      "text/plain": [
       "6*a + 3"
      ]
     },
     "execution_count": 10,
     "metadata": {},
     "output_type": "execute_result"
    }
   ],
   "source": [
    "det(A)"
   ]
  },
  {
   "cell_type": "code",
   "execution_count": 11,
   "id": "26ef59f8-795c-4a56-b7f2-b8098bcdba6b",
   "metadata": {},
   "outputs": [
    {
     "data": {
      "text/html": [
       "[a+5; 2*a+6]"
      ],
      "text/latex": [
       "\\begin{array}{c}\n",
       "a + 5 \\\\\n",
       "2 a + 6\n",
       "\\end{array}"
      ],
      "text/plain": [
       "[  a + 5]\n",
       "[2*a + 6]"
      ]
     },
     "execution_count": 11,
     "metadata": {},
     "output_type": "execute_result"
    }
   ],
   "source": [
    "v = F49[a+5; 2a+6]"
   ]
  },
  {
   "cell_type": "code",
   "execution_count": 12,
   "id": "43207b9c-7515-417a-8f9a-6b7ddf792bd3",
   "metadata": {},
   "outputs": [
    {
     "data": {
      "text/html": [
       "[5*a+1; 5]"
      ],
      "text/latex": [
       "\\begin{array}{c}\n",
       "5 a + 1 \\\\\n",
       "5\n",
       "\\end{array}"
      ],
      "text/plain": [
       "[5*a + 1]\n",
       "[      5]"
      ]
     },
     "execution_count": 12,
     "metadata": {},
     "output_type": "execute_result"
    }
   ],
   "source": [
    "A*v"
   ]
  },
  {
   "cell_type": "code",
   "execution_count": null,
   "id": "05c9bdf5-b517-4c96-b4d5-529c2d940d76",
   "metadata": {},
   "outputs": [],
   "source": []
  }
 ],
 "metadata": {
  "kernelspec": {
   "display_name": "Julia 1.6.2",
   "language": "julia",
   "name": "julia-1.6"
  },
  "language_info": {
   "file_extension": ".jl",
   "mimetype": "application/julia",
   "name": "julia",
   "version": "1.6.2"
  }
 },
 "nbformat": 4,
 "nbformat_minor": 5
}
