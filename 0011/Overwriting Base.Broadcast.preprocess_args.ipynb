{
 "cells": [
  {
   "cell_type": "code",
   "execution_count": 16,
   "id": "7d52846f-1167-4cb7-a08e-09b9907ffab4",
   "metadata": {},
   "outputs": [
    {
     "name": "stdout",
     "output_type": "stream",
     "text": [
      "VERSION = v\"1.6.1\"\n",
      "f(10 ^ 6) == g(10 ^ 6) = true\n",
      "f(10^6):  6.320 μs (0 allocations: 0 bytes)\n",
      "g(10^6):  4.700 ns (0 allocations: 0 bytes)\n"
     ]
    },
    {
     "data": {
      "text/plain": [
       "333333833333500001"
      ]
     },
     "execution_count": 16,
     "metadata": {},
     "output_type": "execute_result"
    }
   ],
   "source": [
    "using BenchmarkTools\n",
    "\n",
    "f(n) = 1 + sum(abs2, 1:n)\n",
    "g(n) = 1 + sum(abs2(k) for k in 1:n)\n",
    "\n",
    "@show VERSION\n",
    "@show f(10^6) == g(10^6)\n",
    "print(\"f(10^6):\")\n",
    "@btime f(10^6)\n",
    "print(\"g(10^6):\")\n",
    "@btime g(10^6)"
   ]
  },
  {
   "cell_type": "code",
   "execution_count": 1,
   "id": "d498f984-988a-4215-a162-b08d83369a61",
   "metadata": {},
   "outputs": [
    {
     "name": "stdout",
     "output_type": "stream",
     "text": [
      "VERSION = v\"1.7.0-beta3.0\"\n",
      "f(10 ^ 6) == g(10 ^ 6) = true\n",
      "f(10^6):  7.140 μs (0 allocations: 0 bytes)\n",
      "g(10^6):  153.200 μs (0 allocations: 0 bytes)\n"
     ]
    },
    {
     "data": {
      "text/plain": [
       "333333833333500001"
      ]
     },
     "execution_count": 1,
     "metadata": {},
     "output_type": "execute_result"
    }
   ],
   "source": [
    "using BenchmarkTools\n",
    "\n",
    "f(n) = 1 + sum(abs2, 1:n)\n",
    "g(n) = 1 + sum(abs2(k) for k in 1:n)\n",
    "\n",
    "@show VERSION\n",
    "@show f(10^6) == g(10^6)\n",
    "print(\"f(10^6):\")\n",
    "@btime f(10^6)\n",
    "print(\"g(10^6):\")\n",
    "@btime g(10^6)"
   ]
  },
  {
   "cell_type": "code",
   "execution_count": 3,
   "id": "1ad10764-c464-498d-b72b-40a283bf5e91",
   "metadata": {},
   "outputs": [
    {
     "name": "stdout",
     "output_type": "stream",
     "text": [
      "VERSION = v\"1.7.0-beta3.0\"\n",
      "f(10 ^ 6) == g(10 ^ 6) = true\n",
      "f(10^6):  7.140 μs (0 allocations: 0 bytes)\n",
      "g(10^6):  153.200 μs (0 allocations: 0 bytes)\n"
     ]
    },
    {
     "data": {
      "text/plain": [
       "333333833333500001"
      ]
     },
     "execution_count": 3,
     "metadata": {},
     "output_type": "execute_result"
    }
   ],
   "source": [
    "import Base.Broadcast.preprocess_args\n",
    "import Base.Broadcast.preprocess\n",
    "@inline preprocess_args(dest, args::Tuple) = (Base.Broadcast.preprocess(dest, args[1]), Base.Broadcast.preprocess_args(dest, Base.tail(args))...)\n",
    "@inline preprocess_args(dest, args::Tuple{Any}) = (Base.Broadcast.preprocess(dest, args[1]),)\n",
    "@inline preprocess_args(dest, args::Tuple{}) = ()\n",
    "\n",
    "using BenchmarkTools\n",
    "\n",
    "f(n) = 1 + sum(abs2, 1:n)\n",
    "g(n) = 1 + sum(abs2(k) for k in 1:n)\n",
    "\n",
    "@show VERSION\n",
    "@show f(10^6) == g(10^6)\n",
    "print(\"f(10^6):\")\n",
    "@btime f(10^6)\n",
    "print(\"g(10^6):\")\n",
    "@btime g(10^6)"
   ]
  },
  {
   "cell_type": "code",
   "execution_count": null,
   "id": "aeda0639-b059-445a-9bda-ab98b4a26fc9",
   "metadata": {},
   "outputs": [],
   "source": []
  }
 ],
 "metadata": {
  "jupytext": {
   "formats": "ipynb,auto:hydrogen"
  },
  "kernelspec": {
   "display_name": "Julia 1.7.0-beta3",
   "language": "julia",
   "name": "julia-1.7"
  },
  "language_info": {
   "file_extension": ".jl",
   "mimetype": "application/julia",
   "name": "julia",
   "version": "1.7.0"
  }
 },
 "nbformat": 4,
 "nbformat_minor": 5
}
