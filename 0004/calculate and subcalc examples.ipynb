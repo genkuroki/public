{
 "cells": [
  {
   "cell_type": "markdown",
   "id": "e96b4ae5-d405-4f2e-b987-13e098820b5c",
   "metadata": {},
   "source": [
    "https://discourse.julialang.org/t/proper-modules-in-the-future/62646/112"
   ]
  },
  {
   "cell_type": "code",
   "execution_count": 1,
   "id": "28bb10a9-cee8-406f-8861-9c2105a6e523",
   "metadata": {},
   "outputs": [
    {
     "data": {
      "text/plain": [
       "dispcode (generic function with 2 methods)"
      ]
     },
     "execution_count": 1,
     "metadata": {},
     "output_type": "execute_result"
    }
   ],
   "source": [
    "dispcode(c, l = \"julia\") = display(\"text/markdown\", \"```$l\\n$c\\n```\")"
   ]
  },
  {
   "cell_type": "code",
   "execution_count": 2,
   "id": "663647dc-c800-4d73-9daf-be2bc6fe2352",
   "metadata": {},
   "outputs": [
    {
     "data": {
      "text/markdown": [
       "```julia\n",
       "calculate(x) = x * subcalc(x)\n",
       "\n",
       "```"
      ]
     },
     "metadata": {},
     "output_type": "display_data"
    }
   ],
   "source": [
    "MyCalc_jl = raw\"\"\"\n",
    "calculate(x) = x * subcalc(x)\n",
    "\"\"\"\n",
    "dispcode(MyCalc_jl)"
   ]
  },
  {
   "cell_type": "code",
   "execution_count": 3,
   "id": "203caedd-34ee-4a76-85e4-3544f2d48cf4",
   "metadata": {},
   "outputs": [
    {
     "data": {
      "text/plain": [
       "8"
      ]
     },
     "execution_count": 3,
     "metadata": {},
     "output_type": "execute_result"
    }
   ],
   "source": [
    "subcalc(x) = x^2\n",
    "include_string(Main, MyCalc_jl)\n",
    "calculate(2)"
   ]
  },
  {
   "cell_type": "code",
   "execution_count": 4,
   "id": "86608969-b64f-4629-b36f-9735484bec55",
   "metadata": {},
   "outputs": [
    {
     "data": {
      "text/markdown": [
       "```julia\n",
       "module MyCalc2\n",
       "calculate2(x) = x * subcalc2(x)\n",
       "end\n",
       "\n",
       "```"
      ]
     },
     "metadata": {},
     "output_type": "display_data"
    }
   ],
   "source": [
    "MyCalc2_jl = raw\"\"\"\n",
    "module MyCalc2\n",
    "calculate2(x) = x * subcalc2(x)\n",
    "end\n",
    "\"\"\"\n",
    "dispcode(MyCalc2_jl)"
   ]
  },
  {
   "cell_type": "code",
   "execution_count": 5,
   "id": "72ebef32-fe89-4d27-824e-daea61623e10",
   "metadata": {},
   "outputs": [
    {
     "ename": "LoadError",
     "evalue": "UndefVarError: subcalc2 not defined",
     "output_type": "error",
     "traceback": [
      "UndefVarError: subcalc2 not defined",
      "",
      "Stacktrace:",
      " [1] calculate2(x::Int64)",
      "   @ Main.MyCalc2 .\\string:2",
      " [2] top-level scope",
      "   @ In[5]:4",
      " [3] eval",
      "   @ .\\boot.jl:373 [inlined]",
      " [4] include_string(mapexpr::typeof(REPL.softscope), mod::Module, code::String, filename::String)",
      "   @ Base .\\loading.jl:1196"
     ]
    }
   ],
   "source": [
    "subcalc2(x) = x^2\n",
    "include_string(Main, MyCalc2_jl)\n",
    "using .MyCalc2: calculate2\n",
    "calculate2(2)"
   ]
  },
  {
   "cell_type": "code",
   "execution_count": 6,
   "id": "99a450d7-7fe6-4b9e-b5db-65be702a6997",
   "metadata": {
    "tags": []
   },
   "outputs": [
    {
     "data": {
      "text/markdown": [
       "```julia\n",
       "module MyCalc3\n",
       "calculate3(x)= x * subcalc3(x)\n",
       "subcalc3(x) = x^3\n",
       "end\n",
       "\n",
       "```"
      ]
     },
     "metadata": {},
     "output_type": "display_data"
    }
   ],
   "source": [
    "MyCalc3_jl = raw\"\"\"\n",
    "module MyCalc3\n",
    "calculate3(x)= x * subcalc3(x)\n",
    "subcalc3(x) = x^3\n",
    "end\n",
    "\"\"\"\n",
    "dispcode(MyCalc3_jl)"
   ]
  },
  {
   "cell_type": "code",
   "execution_count": 7,
   "id": "e5153591-00ba-42d1-8acc-017a8d8c7054",
   "metadata": {},
   "outputs": [
    {
     "data": {
      "text/plain": [
       "16"
      ]
     },
     "execution_count": 7,
     "metadata": {},
     "output_type": "execute_result"
    }
   ],
   "source": [
    "include_string(Main, MyCalc3_jl)\n",
    "using .MyCalc3: calculate3\n",
    "calculate3(2)"
   ]
  },
  {
   "cell_type": "code",
   "execution_count": 8,
   "id": "c8daf870-b61e-48c0-9881-8b542ae4f61e",
   "metadata": {},
   "outputs": [
    {
     "data": {
      "text/markdown": [
       "```julia\n",
       "module MyCalc4\n",
       "calculate4(x) = x * subcalc4(x)\n",
       "using Main: subcalc4\n",
       "end\n",
       "\n",
       "```"
      ]
     },
     "metadata": {},
     "output_type": "display_data"
    }
   ],
   "source": [
    "MyCalc4_jl = raw\"\"\"\n",
    "module MyCalc4\n",
    "calculate4(x) = x * subcalc4(x)\n",
    "using Main: subcalc4\n",
    "end\n",
    "\"\"\"\n",
    "dispcode(MyCalc4_jl)"
   ]
  },
  {
   "cell_type": "code",
   "execution_count": 9,
   "id": "61cd86d9-7c51-4d79-ac6e-6725fa9cdbdb",
   "metadata": {},
   "outputs": [
    {
     "data": {
      "text/plain": [
       "32"
      ]
     },
     "execution_count": 9,
     "metadata": {},
     "output_type": "execute_result"
    }
   ],
   "source": [
    "subcalc4(x) = x^4\n",
    "include_string(Main, MyCalc4_jl)\n",
    "using .MyCalc4: calculate4\n",
    "calculate4(2)"
   ]
  },
  {
   "cell_type": "code",
   "execution_count": 10,
   "id": "b8f0819b-f5d7-4138-b64e-1e5b10317867",
   "metadata": {},
   "outputs": [
    {
     "data": {
      "text/markdown": [
       "```julia\n",
       "module MyCalc5\n",
       "calculate5(subcalc5, x) = x * subcalc5(x)\n",
       "end\n",
       "\n",
       "```"
      ]
     },
     "metadata": {},
     "output_type": "display_data"
    }
   ],
   "source": [
    "MyCalc5_jl = raw\"\"\"\n",
    "module MyCalc5\n",
    "calculate5(subcalc5, x) = x * subcalc5(x)\n",
    "end\n",
    "\"\"\"\n",
    "dispcode(MyCalc5_jl)"
   ]
  },
  {
   "cell_type": "code",
   "execution_count": 11,
   "id": "16ab4197-261e-4860-8d0b-6bb936a5e43d",
   "metadata": {},
   "outputs": [
    {
     "data": {
      "text/plain": [
       "64"
      ]
     },
     "execution_count": 11,
     "metadata": {},
     "output_type": "execute_result"
    }
   ],
   "source": [
    "include_string(Main, MyCalc5_jl)\n",
    "using .MyCalc5: calculate5\n",
    "calculate5(x -> x^5, 2)"
   ]
  },
  {
   "cell_type": "code",
   "execution_count": null,
   "id": "ce74298c-1188-405d-a085-7e1c45a6ab3f",
   "metadata": {},
   "outputs": [],
   "source": []
  }
 ],
 "metadata": {
  "jupytext": {
   "formats": "ipynb,auto:hydrogen"
  },
  "kernelspec": {
   "display_name": "Julia 1.7.0-DEV",
   "language": "julia",
   "name": "julia-1.7"
  },
  "language_info": {
   "file_extension": ".jl",
   "mimetype": "application/julia",
   "name": "julia",
   "version": "1.7.0"
  }
 },
 "nbformat": 4,
 "nbformat_minor": 5
}
