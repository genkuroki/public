{
 "cells": [
  {
   "cell_type": "code",
   "execution_count": 1,
   "id": "7308e70d-c789-414b-91fb-fa6cc7e6c8d1",
   "metadata": {},
   "outputs": [],
   "source": [
    "using BenchmarkTools\n",
    "using DistributedArrays\n",
    "struct Foo{T, N} d::DArray{T, N} end\n",
    "struct Bar{T, N, A} d::DArray{T, N, A} end"
   ]
  },
  {
   "cell_type": "code",
   "execution_count": 2,
   "id": "5b657c62-6259-4fb0-b275-af1364203108",
   "metadata": {},
   "outputs": [],
   "source": [
    "d = drand(4, 3, 2)\n",
    "l = localpart(d)\n",
    "foo = Foo(d)\n",
    "bar = Bar(d);"
   ]
  },
  {
   "cell_type": "code",
   "execution_count": 3,
   "id": "d4a28ce1-2e6a-4463-bcb4-d53f3419a28a",
   "metadata": {},
   "outputs": [
    {
     "data": {
      "text/plain": [
       "g (generic function with 1 method)"
      ]
     },
     "execution_count": 3,
     "metadata": {},
     "output_type": "execute_result"
    }
   ],
   "source": [
    "f(foobar, i, j, k) = localpart(foobar.d)[i, j, k]\n",
    "g(d, i, j, k) = localpart(d)[i, j, k]"
   ]
  },
  {
   "cell_type": "code",
   "execution_count": 4,
   "id": "00192cab-cf9a-4b2e-a33e-90b50d025a5d",
   "metadata": {},
   "outputs": [
    {
     "name": "stdout",
     "output_type": "stream",
     "text": [
      "  43.232 ns (1 allocation: 16 bytes)\n"
     ]
    },
    {
     "data": {
      "text/plain": [
       "0.37718471311641577"
      ]
     },
     "execution_count": 4,
     "metadata": {},
     "output_type": "execute_result"
    }
   ],
   "source": [
    "@btime f($foo, 3, 2, 1)"
   ]
  },
  {
   "cell_type": "code",
   "execution_count": 5,
   "id": "184df7c1-5a31-4900-b2c4-6e1e799d339e",
   "metadata": {},
   "outputs": [
    {
     "name": "stdout",
     "output_type": "stream",
     "text": [
      "  6.400 ns (0 allocations: 0 bytes)\n"
     ]
    },
    {
     "data": {
      "text/plain": [
       "0.37718471311641577"
      ]
     },
     "execution_count": 5,
     "metadata": {},
     "output_type": "execute_result"
    }
   ],
   "source": [
    "@btime f($bar, 3, 2, 1)"
   ]
  },
  {
   "cell_type": "code",
   "execution_count": 6,
   "id": "9a69d43c-70a6-4fcf-b9fc-df49ad147fb0",
   "metadata": {},
   "outputs": [
    {
     "name": "stdout",
     "output_type": "stream",
     "text": [
      "  6.100 ns (0 allocations: 0 bytes)\n"
     ]
    },
    {
     "data": {
      "text/plain": [
       "0.37718471311641577"
      ]
     },
     "execution_count": 6,
     "metadata": {},
     "output_type": "execute_result"
    }
   ],
   "source": [
    "@btime g($d, 3, 2, 1)"
   ]
  },
  {
   "cell_type": "code",
   "execution_count": 7,
   "id": "acbbc33c-62d7-436b-8f9b-a5a99a85e601",
   "metadata": {},
   "outputs": [
    {
     "name": "stdout",
     "output_type": "stream",
     "text": [
      "  1.300 ns (0 allocations: 0 bytes)\n"
     ]
    },
    {
     "data": {
      "text/plain": [
       "0.37718471311641577"
      ]
     },
     "execution_count": 7,
     "metadata": {},
     "output_type": "execute_result"
    }
   ],
   "source": [
    "@btime getindex($l, 3, 2, 1)"
   ]
  },
  {
   "cell_type": "code",
   "execution_count": 8,
   "id": "d5f06fee-57cb-467a-a1c4-f4c58c41a974",
   "metadata": {},
   "outputs": [
    {
     "name": "stdout",
     "output_type": "stream",
     "text": [
      "MethodInstance for f(::\u001b[0mFoo{Float64, 3}, ::\u001b[0mInt64, ::\u001b[0mInt64, ::\u001b[0mInt64)\n",
      "  from f(foobar, i, j, k) in Main at In[3]:1\n",
      "Arguments\n",
      "  #self#\u001b[36m::Core.Const(f)\u001b[39m\n",
      "  foobar\u001b[36m::Foo{Float64, 3}\u001b[39m\n",
      "  i\u001b[36m::Int64\u001b[39m\n",
      "  j\u001b[36m::Int64\u001b[39m\n",
      "  k\u001b[36m::Int64\u001b[39m\n",
      "Body\u001b[91m\u001b[1m::Any\u001b[22m\u001b[39m\n",
      "\u001b[90m1 ─\u001b[39m %1 = Base.getproperty(foobar, :d)\u001b[91m\u001b[1m::DArray{Float64, 3}\u001b[22m\u001b[39m\n",
      "\u001b[90m│  \u001b[39m %2 = Main.localpart(%1)\u001b[91m\u001b[1m::Any\u001b[22m\u001b[39m\n",
      "\u001b[90m│  \u001b[39m %3 = Base.getindex(%2, i, j, k)\u001b[91m\u001b[1m::Any\u001b[22m\u001b[39m\n",
      "\u001b[90m└──\u001b[39m      return %3\n",
      "\n"
     ]
    }
   ],
   "source": [
    "@code_warntype f(foo, 3, 2, 1)"
   ]
  },
  {
   "cell_type": "code",
   "execution_count": 9,
   "id": "a1de6fc9-1648-4759-a4d1-8ecca32b01bf",
   "metadata": {},
   "outputs": [
    {
     "name": "stdout",
     "output_type": "stream",
     "text": [
      "MethodInstance for f(::\u001b[0mBar{Float64, 3, Array{Float64, 3}}, ::\u001b[0mInt64, ::\u001b[0mInt64, ::\u001b[0mInt64)\n",
      "  from f(foobar, i, j, k) in Main at In[3]:1\n",
      "Arguments\n",
      "  #self#\u001b[36m::Core.Const(f)\u001b[39m\n",
      "  foobar\u001b[36m::Bar{Float64, 3, Array{Float64, 3}}\u001b[39m\n",
      "  i\u001b[36m::Int64\u001b[39m\n",
      "  j\u001b[36m::Int64\u001b[39m\n",
      "  k\u001b[36m::Int64\u001b[39m\n",
      "Body\u001b[36m::Float64\u001b[39m\n",
      "\u001b[90m1 ─\u001b[39m %1 = Base.getproperty(foobar, :d)\u001b[36m::DArray{Float64, 3, Array{Float64, 3}}\u001b[39m\n",
      "\u001b[90m│  \u001b[39m %2 = Main.localpart(%1)\u001b[36m::Array{Float64, 3}\u001b[39m\n",
      "\u001b[90m│  \u001b[39m %3 = Base.getindex(%2, i, j, k)\u001b[36m::Float64\u001b[39m\n",
      "\u001b[90m└──\u001b[39m      return %3\n",
      "\n"
     ]
    }
   ],
   "source": [
    "@code_warntype f(bar, 3, 2, 1)"
   ]
  },
  {
   "cell_type": "code",
   "execution_count": 10,
   "id": "abd0dc53-f75c-419e-a59f-dbec44106674",
   "metadata": {},
   "outputs": [
    {
     "data": {
      "text/plain": [
       "true"
      ]
     },
     "execution_count": 10,
     "metadata": {},
     "output_type": "execute_result"
    }
   ],
   "source": [
    "isconcretetype(Array{Float64, 3})"
   ]
  },
  {
   "cell_type": "code",
   "execution_count": 11,
   "id": "389ffa8e-9b6b-4474-a084-42091297bea5",
   "metadata": {},
   "outputs": [
    {
     "data": {
      "text/plain": [
       "false"
      ]
     },
     "execution_count": 11,
     "metadata": {},
     "output_type": "execute_result"
    }
   ],
   "source": [
    "isconcretetype(DArray{Float64, 3})"
   ]
  },
  {
   "cell_type": "code",
   "execution_count": 12,
   "id": "c1398c54-8ad4-4368-a657-623c25de3282",
   "metadata": {},
   "outputs": [
    {
     "data": {
      "text/plain": [
       "DArray{Float64, 3, Array{Float64, 3}}"
      ]
     },
     "execution_count": 12,
     "metadata": {},
     "output_type": "execute_result"
    }
   ],
   "source": [
    "typeof(d)"
   ]
  },
  {
   "cell_type": "code",
   "execution_count": 13,
   "id": "c5592f1d-ab11-4d22-9622-29558bd65945",
   "metadata": {},
   "outputs": [
    {
     "data": {
      "text/plain": [
       "true"
      ]
     },
     "execution_count": 13,
     "metadata": {},
     "output_type": "execute_result"
    }
   ],
   "source": [
    "isconcretetype(DArray{Float64, 3, Array{Float64, 3}})"
   ]
  },
  {
   "cell_type": "code",
   "execution_count": null,
   "id": "1b5c4172-2f8a-485b-be4c-95df6db01bb8",
   "metadata": {},
   "outputs": [],
   "source": []
  }
 ],
 "metadata": {
  "jupytext": {
   "formats": "ipynb,auto:hydrogen"
  },
  "kernelspec": {
   "display_name": "Julia 1.7.0-DEV",
   "language": "julia",
   "name": "julia-1.7"
  },
  "language_info": {
   "file_extension": ".jl",
   "mimetype": "application/julia",
   "name": "julia",
   "version": "1.7.0"
  }
 },
 "nbformat": 4,
 "nbformat_minor": 5
}
