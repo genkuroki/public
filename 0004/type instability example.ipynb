{
 "cells": [
  {
   "cell_type": "code",
   "execution_count": 1,
   "id": "a89046bb-d5a7-47d6-a519-16c034d05dca",
   "metadata": {},
   "outputs": [
    {
     "data": {
      "text/plain": [
       "f (generic function with 1 method)"
      ]
     },
     "execution_count": 1,
     "metadata": {},
     "output_type": "execute_result"
    }
   ],
   "source": [
    "function f(x)\n",
    "    s = 1\n",
    "    for i in 1:10^6\n",
    "        s += s*x/10^6\n",
    "    end\n",
    "    s\n",
    "end"
   ]
  },
  {
   "cell_type": "code",
   "execution_count": 2,
   "id": "68a63665-4f8c-4ae6-9706-718600e26d07",
   "metadata": {},
   "outputs": [
    {
     "data": {
      "text/plain": [
       "2.7182804693194718"
      ]
     },
     "execution_count": 2,
     "metadata": {},
     "output_type": "execute_result"
    }
   ],
   "source": [
    "f(1.0)"
   ]
  },
  {
   "cell_type": "code",
   "execution_count": 3,
   "id": "b075b27b-8af5-481e-9f00-13e0c5f8169c",
   "metadata": {},
   "outputs": [
    {
     "name": "stdout",
     "output_type": "stream",
     "text": [
      "MethodInstance for f(::\u001b[0mFloat64)\n",
      "  from f(x) in Main at In[1]:1\n",
      "Arguments\n",
      "  #self#\u001b[36m::Core.Const(f)\u001b[39m\n",
      "  x\u001b[36m::Float64\u001b[39m\n",
      "Locals\n",
      "  @_3\u001b[33m\u001b[1m::Union{Nothing, Tuple{Int64, Int64}}\u001b[22m\u001b[39m\n",
      "  s\u001b[91m\u001b[1m::Union{Float64, Int64}\u001b[22m\u001b[39m\n",
      "  i\u001b[36m::Int64\u001b[39m\n",
      "Body\u001b[91m\u001b[1m::Union{Float64, Int64}\u001b[22m\u001b[39m\n",
      "\u001b[90m1 ─\u001b[39m       (s = 1)\n",
      "\u001b[90m│  \u001b[39m %2  = Core.apply_type(Base.Val, 6)\u001b[36m::Core.Const(Val{6})\u001b[39m\n",
      "\u001b[90m│  \u001b[39m %3  = (%2)()\u001b[36m::Core.Const(Val{6}())\u001b[39m\n",
      "\u001b[90m│  \u001b[39m %4  = Base.literal_pow(Main.:^, 10, %3)\u001b[36m::Int64\u001b[39m\n",
      "\u001b[90m│  \u001b[39m %5  = (1:%4)\u001b[36m::Core.PartialStruct(UnitRange{Int64}, Any[Core.Const(1), Int64])\u001b[39m\n",
      "\u001b[90m│  \u001b[39m       (@_3 = Base.iterate(%5))\n",
      "\u001b[90m│  \u001b[39m %7  = (@_3 === nothing)\u001b[36m::Bool\u001b[39m\n",
      "\u001b[90m│  \u001b[39m %8  = Base.not_int(%7)\u001b[36m::Bool\u001b[39m\n",
      "\u001b[90m└──\u001b[39m       goto #4 if not %8\n",
      "\u001b[90m2 ┄\u001b[39m %10 = @_3\u001b[36m::Tuple{Int64, Int64}\u001b[39m\n",
      "\u001b[90m│  \u001b[39m       (i = Core.getfield(%10, 1))\n",
      "\u001b[90m│  \u001b[39m %12 = Core.getfield(%10, 2)\u001b[36m::Int64\u001b[39m\n",
      "\u001b[90m│  \u001b[39m %13 = s\u001b[91m\u001b[1m::Union{Float64, Int64}\u001b[22m\u001b[39m\n",
      "\u001b[90m│  \u001b[39m %14 = (s * x)\u001b[36m::Float64\u001b[39m\n",
      "\u001b[90m│  \u001b[39m %15 = Core.apply_type(Base.Val, 6)\u001b[36m::Core.Const(Val{6})\u001b[39m\n",
      "\u001b[90m│  \u001b[39m %16 = (%15)()\u001b[36m::Core.Const(Val{6}())\u001b[39m\n",
      "\u001b[90m│  \u001b[39m %17 = Base.literal_pow(Main.:^, 10, %16)\u001b[36m::Int64\u001b[39m\n",
      "\u001b[90m│  \u001b[39m %18 = (%14 / %17)\u001b[36m::Float64\u001b[39m\n",
      "\u001b[90m│  \u001b[39m       (s = %13 + %18)\n",
      "\u001b[90m│  \u001b[39m       (@_3 = Base.iterate(%5, %12))\n",
      "\u001b[90m│  \u001b[39m %21 = (@_3 === nothing)\u001b[36m::Bool\u001b[39m\n",
      "\u001b[90m│  \u001b[39m %22 = Base.not_int(%21)\u001b[36m::Bool\u001b[39m\n",
      "\u001b[90m└──\u001b[39m       goto #4 if not %22\n",
      "\u001b[90m3 ─\u001b[39m       goto #2\n",
      "\u001b[90m4 ┄\u001b[39m       return s\n",
      "\n"
     ]
    }
   ],
   "source": [
    "@code_warntype f(1.0)"
   ]
  },
  {
   "cell_type": "code",
   "execution_count": 4,
   "id": "f070c476-7c14-4648-980d-c984377ca83d",
   "metadata": {},
   "outputs": [
    {
     "data": {
      "text/plain": [
       "f_revised (generic function with 1 method)"
      ]
     },
     "execution_count": 4,
     "metadata": {},
     "output_type": "execute_result"
    }
   ],
   "source": [
    "function f_revised(x)\n",
    "    s = one(x)\n",
    "    for i in 1:10^6\n",
    "        s += s*x/10^6\n",
    "    end\n",
    "    s\n",
    "end"
   ]
  },
  {
   "cell_type": "code",
   "execution_count": 5,
   "id": "59c19534-d9e2-46f8-ac80-9709ab28d606",
   "metadata": {},
   "outputs": [
    {
     "data": {
      "text/plain": [
       "2.7182804693194718"
      ]
     },
     "execution_count": 5,
     "metadata": {},
     "output_type": "execute_result"
    }
   ],
   "source": [
    "f_revised(1.0)"
   ]
  },
  {
   "cell_type": "code",
   "execution_count": 6,
   "id": "053d8fd9-9f9f-4a01-8b58-7bb7fe7da12a",
   "metadata": {},
   "outputs": [
    {
     "name": "stdout",
     "output_type": "stream",
     "text": [
      "MethodInstance for f_revised(::\u001b[0mFloat64)\n",
      "  from f_revised(x) in Main at In[4]:1\n",
      "Arguments\n",
      "  #self#\u001b[36m::Core.Const(f_revised)\u001b[39m\n",
      "  x\u001b[36m::Float64\u001b[39m\n",
      "Locals\n",
      "  @_3\u001b[33m\u001b[1m::Union{Nothing, Tuple{Int64, Int64}}\u001b[22m\u001b[39m\n",
      "  s\u001b[36m::Float64\u001b[39m\n",
      "  i\u001b[36m::Int64\u001b[39m\n",
      "Body\u001b[36m::Float64\u001b[39m\n",
      "\u001b[90m1 ─\u001b[39m       (s = Main.one(x))\n",
      "\u001b[90m│  \u001b[39m %2  = Core.apply_type(Base.Val, 6)\u001b[36m::Core.Const(Val{6})\u001b[39m\n",
      "\u001b[90m│  \u001b[39m %3  = (%2)()\u001b[36m::Core.Const(Val{6}())\u001b[39m\n",
      "\u001b[90m│  \u001b[39m %4  = Base.literal_pow(Main.:^, 10, %3)\u001b[36m::Int64\u001b[39m\n",
      "\u001b[90m│  \u001b[39m %5  = (1:%4)\u001b[36m::Core.PartialStruct(UnitRange{Int64}, Any[Core.Const(1), Int64])\u001b[39m\n",
      "\u001b[90m│  \u001b[39m       (@_3 = Base.iterate(%5))\n",
      "\u001b[90m│  \u001b[39m %7  = (@_3 === nothing)\u001b[36m::Bool\u001b[39m\n",
      "\u001b[90m│  \u001b[39m %8  = Base.not_int(%7)\u001b[36m::Bool\u001b[39m\n",
      "\u001b[90m└──\u001b[39m       goto #4 if not %8\n",
      "\u001b[90m2 ┄\u001b[39m %10 = @_3\u001b[36m::Tuple{Int64, Int64}\u001b[39m\n",
      "\u001b[90m│  \u001b[39m       (i = Core.getfield(%10, 1))\n",
      "\u001b[90m│  \u001b[39m %12 = Core.getfield(%10, 2)\u001b[36m::Int64\u001b[39m\n",
      "\u001b[90m│  \u001b[39m %13 = s\u001b[36m::Float64\u001b[39m\n",
      "\u001b[90m│  \u001b[39m %14 = (s * x)\u001b[36m::Float64\u001b[39m\n",
      "\u001b[90m│  \u001b[39m %15 = Core.apply_type(Base.Val, 6)\u001b[36m::Core.Const(Val{6})\u001b[39m\n",
      "\u001b[90m│  \u001b[39m %16 = (%15)()\u001b[36m::Core.Const(Val{6}())\u001b[39m\n",
      "\u001b[90m│  \u001b[39m %17 = Base.literal_pow(Main.:^, 10, %16)\u001b[36m::Int64\u001b[39m\n",
      "\u001b[90m│  \u001b[39m %18 = (%14 / %17)\u001b[36m::Float64\u001b[39m\n",
      "\u001b[90m│  \u001b[39m       (s = %13 + %18)\n",
      "\u001b[90m│  \u001b[39m       (@_3 = Base.iterate(%5, %12))\n",
      "\u001b[90m│  \u001b[39m %21 = (@_3 === nothing)\u001b[36m::Bool\u001b[39m\n",
      "\u001b[90m│  \u001b[39m %22 = Base.not_int(%21)\u001b[36m::Bool\u001b[39m\n",
      "\u001b[90m└──\u001b[39m       goto #4 if not %22\n",
      "\u001b[90m3 ─\u001b[39m       goto #2\n",
      "\u001b[90m4 ┄\u001b[39m       return s\n",
      "\n"
     ]
    }
   ],
   "source": [
    "@code_warntype f_revised(1.0)"
   ]
  },
  {
   "cell_type": "code",
   "execution_count": 7,
   "id": "0d3b2e3d-ca89-46cc-a281-8a6a3d5350da",
   "metadata": {},
   "outputs": [
    {
     "data": {
      "text/plain": [
       "double (generic function with 1 method)"
      ]
     },
     "execution_count": 7,
     "metadata": {},
     "output_type": "execute_result"
    }
   ],
   "source": [
    "double(x::Real)::Real = 2x"
   ]
  },
  {
   "cell_type": "code",
   "execution_count": 8,
   "id": "a1a0bf46-f4b9-44ec-ad01-96fb4af9da62",
   "metadata": {},
   "outputs": [
    {
     "data": {
      "text/plain": [
       "6"
      ]
     },
     "execution_count": 8,
     "metadata": {},
     "output_type": "execute_result"
    }
   ],
   "source": [
    "double(3)"
   ]
  },
  {
   "cell_type": "code",
   "execution_count": 9,
   "id": "3ea10443-5828-4303-b2d6-7234fbb7d842",
   "metadata": {},
   "outputs": [
    {
     "data": {
      "text/plain": [
       "2.46"
      ]
     },
     "execution_count": 9,
     "metadata": {},
     "output_type": "execute_result"
    }
   ],
   "source": [
    "double(1.23)"
   ]
  },
  {
   "cell_type": "code",
   "execution_count": 10,
   "id": "03bdaca3-54a8-4591-b1ed-56f8bf520b16",
   "metadata": {},
   "outputs": [
    {
     "data": {
      "text/plain": [
       "CodeInfo(\n",
       "\u001b[90m1 ─\u001b[39m %1 = Base.mul_int(2, x)\u001b[36m::Int64\u001b[39m\n",
       "\u001b[90m└──\u001b[39m      return %1\n",
       ") => Int64"
      ]
     },
     "execution_count": 10,
     "metadata": {},
     "output_type": "execute_result"
    }
   ],
   "source": [
    "@code_typed double(3)"
   ]
  },
  {
   "cell_type": "code",
   "execution_count": 11,
   "id": "6ccf887b-f487-4e42-8c41-cd79ae76868f",
   "metadata": {
    "collapsed": true,
    "jupyter": {
     "outputs_hidden": true
    },
    "tags": []
   },
   "outputs": [
    {
     "data": {
      "text/plain": [
       "CodeInfo(\n",
       "\u001b[90m1 ─\u001b[39m %1 = Base.mul_float(2.0, x)\u001b[36m::Float64\u001b[39m\n",
       "\u001b[90m└──\u001b[39m      return %1\n",
       ") => Float64"
      ]
     },
     "execution_count": 11,
     "metadata": {},
     "output_type": "execute_result"
    }
   ],
   "source": [
    "@code_typed double(1.23)"
   ]
  },
  {
   "cell_type": "code",
   "execution_count": 12,
   "id": "37a38940-2de7-4792-8513-289b7154182b",
   "metadata": {},
   "outputs": [
    {
     "data": {
      "text/plain": [
       "half (generic function with 1 method)"
      ]
     },
     "execution_count": 12,
     "metadata": {},
     "output_type": "execute_result"
    }
   ],
   "source": [
    "half(x::Real)::Real = x/2"
   ]
  },
  {
   "cell_type": "code",
   "execution_count": 13,
   "id": "3df96ceb-f907-4c28-a6dd-6653ced5afcc",
   "metadata": {},
   "outputs": [
    {
     "data": {
      "text/plain": [
       "0.5"
      ]
     },
     "execution_count": 13,
     "metadata": {},
     "output_type": "execute_result"
    }
   ],
   "source": [
    "half(1)"
   ]
  },
  {
   "cell_type": "code",
   "execution_count": 14,
   "id": "5bf91881-74b9-4424-ac23-952e4992d911",
   "metadata": {},
   "outputs": [
    {
     "data": {
      "text/plain": [
       "CodeInfo(\n",
       "\u001b[90m1 ─\u001b[39m %1 = Base.sitofp(Float64, x)\u001b[36m::Float64\u001b[39m\n",
       "\u001b[90m│  \u001b[39m %2 = Base.div_float(%1, 2.0)\u001b[36m::Float64\u001b[39m\n",
       "\u001b[90m└──\u001b[39m      return %2\n",
       ") => Float64"
      ]
     },
     "execution_count": 14,
     "metadata": {},
     "output_type": "execute_result"
    }
   ],
   "source": [
    "@code_typed half(1)"
   ]
  },
  {
   "cell_type": "code",
   "execution_count": 15,
   "id": "9c9fdda2-c612-4384-91ac-2fe3502fd356",
   "metadata": {},
   "outputs": [
    {
     "data": {
      "text/plain": [
       "half2 (generic function with 1 method)"
      ]
     },
     "execution_count": 15,
     "metadata": {},
     "output_type": "execute_result"
    }
   ],
   "source": [
    "function half2(x::T)::float(T) where T<:Integer\n",
    "    x/2\n",
    "end"
   ]
  },
  {
   "cell_type": "code",
   "execution_count": 16,
   "id": "0ac0116f-d523-41e5-b3fe-9be992be5d7a",
   "metadata": {},
   "outputs": [
    {
     "data": {
      "text/plain": [
       "0.5"
      ]
     },
     "execution_count": 16,
     "metadata": {},
     "output_type": "execute_result"
    }
   ],
   "source": [
    "half2(1)"
   ]
  },
  {
   "cell_type": "code",
   "execution_count": 17,
   "id": "2b7ef180-7919-4028-889f-5f2336808b37",
   "metadata": {},
   "outputs": [
    {
     "data": {
      "text/plain": [
       "CodeInfo(\n",
       "\u001b[90m1 ─\u001b[39m %1 = Base.sitofp(Float64, x)\u001b[36m::Float64\u001b[39m\n",
       "\u001b[90m│  \u001b[39m %2 = Base.div_float(%1, 2.0)\u001b[36m::Float64\u001b[39m\n",
       "\u001b[90m└──\u001b[39m      return %2\n",
       ") => Float64"
      ]
     },
     "execution_count": 17,
     "metadata": {},
     "output_type": "execute_result"
    }
   ],
   "source": [
    "@code_typed half2(1)"
   ]
  },
  {
   "cell_type": "code",
   "execution_count": null,
   "id": "46ed1a5c-6df2-4ecf-ae2f-92654af46164",
   "metadata": {},
   "outputs": [],
   "source": []
  }
 ],
 "metadata": {
  "kernelspec": {
   "display_name": "Julia 1.7.0-DEV",
   "language": "julia",
   "name": "julia-1.7"
  },
  "language_info": {
   "file_extension": ".jl",
   "mimetype": "application/julia",
   "name": "julia",
   "version": "1.7.0"
  }
 },
 "nbformat": 4,
 "nbformat_minor": 5
}
