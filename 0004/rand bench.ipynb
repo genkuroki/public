{
 "cells": [
  {
   "cell_type": "code",
   "execution_count": 1,
   "id": "90ad420a-250f-4be6-b454-c878f1f47e3f",
   "metadata": {},
   "outputs": [
    {
     "name": "stdout",
     "output_type": "stream",
     "text": [
      "VERSION = v\"1.6.1\"\n",
      "  5.577835 seconds (12 allocations: 19.656 KiB)\n",
      "  5.577447 seconds\n",
      "  5.584850 seconds\n"
     ]
    },
    {
     "data": {
      "text/plain": [
       "3.141654144"
      ]
     },
     "execution_count": 1,
     "metadata": {},
     "output_type": "execute_result"
    }
   ],
   "source": [
    "function pimc(n)\n",
    "    c = 0\n",
    "    for _ in 1:n\n",
    "        c += rand()^2 + rand()^2 ≤ 1\n",
    "    end\n",
    "    4c/n\n",
    "end\n",
    "\n",
    "@show VERSION\n",
    "@time pimc(10^9)\n",
    "@time pimc(10^9)\n",
    "@time pimc(10^9)"
   ]
  },
  {
   "cell_type": "code",
   "execution_count": 2,
   "id": "4f4b31e9-7930-464b-8cc8-e3d3291655f5",
   "metadata": {},
   "outputs": [
    {
     "name": "stdout",
     "output_type": "stream",
     "text": [
      "VERSION = v\"1.6.1\"\n",
      "  2.176174 seconds\n",
      "  2.163062 seconds\n",
      "  2.156915 seconds\n"
     ]
    },
    {
     "data": {
      "text/plain": [
       "3.141545096"
      ]
     },
     "execution_count": 2,
     "metadata": {},
     "output_type": "execute_result"
    }
   ],
   "source": [
    "using Random: default_rng\n",
    "\n",
    "function pimc2(n)\n",
    "    rng = default_rng()\n",
    "    c = 0\n",
    "    for _ in 1:n\n",
    "        c += rand(rng)^2 + rand(rng)^2 ≤ 1\n",
    "    end\n",
    "    4c/n\n",
    "end\n",
    "\n",
    "@show VERSION\n",
    "@time pimc2(10^9)\n",
    "@time pimc2(10^9)\n",
    "@time pimc2(10^9)"
   ]
  },
  {
   "cell_type": "code",
   "execution_count": 4,
   "id": "29a05051-13e6-4ad8-9898-3ffc3b549a81",
   "metadata": {},
   "outputs": [
    {
     "name": "stdout",
     "output_type": "stream",
     "text": [
      "VERSION = v\"1.6.1\"\n",
      "  2.159619 seconds (12 allocations: 19.656 KiB)\n",
      "  2.184617 seconds (12 allocations: 19.656 KiB)\n",
      "  2.178021 seconds (12 allocations: 19.656 KiB)\n"
     ]
    },
    {
     "data": {
      "text/plain": [
       "3.141577632"
      ]
     },
     "execution_count": 4,
     "metadata": {},
     "output_type": "execute_result"
    }
   ],
   "source": [
    "using Random: MersenneTwister\n",
    "\n",
    "function pimc3(n)\n",
    "    rng = MersenneTwister()\n",
    "    c = 0\n",
    "    for _ in 1:n\n",
    "        c += rand(rng)^2 + rand(rng)^2 ≤ 1\n",
    "    end\n",
    "    4c/n\n",
    "end\n",
    "\n",
    "@show VERSION\n",
    "@time pimc3(10^9)\n",
    "@time pimc3(10^9)\n",
    "@time pimc3(10^9)"
   ]
  },
  {
   "cell_type": "code",
   "execution_count": 1,
   "id": "f4d4dfaf-9a76-4def-9280-86e35cabd271",
   "metadata": {},
   "outputs": [
    {
     "name": "stdout",
     "output_type": "stream",
     "text": [
      "VERSION = v\"1.7.0-DEV.1249\"\n",
      "  2.808320 seconds\n",
      "  2.810829 seconds\n",
      "  2.819853 seconds\n"
     ]
    },
    {
     "data": {
      "text/plain": [
       "3.141569024"
      ]
     },
     "execution_count": 1,
     "metadata": {},
     "output_type": "execute_result"
    }
   ],
   "source": [
    "function pimc(n)\n",
    "    c = 0\n",
    "    for _ in 1:n\n",
    "        c += rand()^2 + rand()^2 ≤ 1\n",
    "    end\n",
    "    4c/n\n",
    "end\n",
    "\n",
    "@show VERSION\n",
    "@time pimc(10^9)\n",
    "@time pimc(10^9)\n",
    "@time pimc(10^9)"
   ]
  },
  {
   "cell_type": "code",
   "execution_count": 2,
   "id": "2e885e08-320e-430e-ac47-6d33588d80b7",
   "metadata": {},
   "outputs": [
    {
     "name": "stdout",
     "output_type": "stream",
     "text": [
      "VERSION = v\"1.7.0-DEV.1249\"\n",
      "  2.793183 seconds\n",
      "  2.827903 seconds\n",
      "  2.800144 seconds\n"
     ]
    },
    {
     "data": {
      "text/plain": [
       "3.141554988"
      ]
     },
     "execution_count": 2,
     "metadata": {},
     "output_type": "execute_result"
    }
   ],
   "source": [
    "using Random: default_rng\n",
    "\n",
    "function pimc2(n)\n",
    "    rng = default_rng()\n",
    "    c = 0\n",
    "    for _ in 1:n\n",
    "        c += rand(rng)^2 + rand(rng)^2 ≤ 1\n",
    "    end\n",
    "    4c/n\n",
    "end\n",
    "\n",
    "@show VERSION\n",
    "@time pimc2(10^9)\n",
    "@time pimc2(10^9)\n",
    "@time pimc2(10^9)"
   ]
  },
  {
   "cell_type": "code",
   "execution_count": 3,
   "id": "e9a0f7f8-cf07-4c6f-a15b-cb1e838fcd89",
   "metadata": {},
   "outputs": [
    {
     "name": "stdout",
     "output_type": "stream",
     "text": [
      "VERSION = v\"1.7.0-DEV.1249\"\n",
      "  2.177749 seconds (12 allocations: 19.672 KiB)\n",
      "  2.185907 seconds (12 allocations: 19.672 KiB)\n",
      "  2.149227 seconds (12 allocations: 19.672 KiB)\n"
     ]
    },
    {
     "data": {
      "text/plain": [
       "3.141556852"
      ]
     },
     "execution_count": 3,
     "metadata": {},
     "output_type": "execute_result"
    }
   ],
   "source": [
    "using Random: MersenneTwister\n",
    "\n",
    "function pimc3(n)\n",
    "    rng = MersenneTwister()\n",
    "    c = 0\n",
    "    for _ in 1:n\n",
    "        c += rand(rng)^2 + rand(rng)^2 ≤ 1\n",
    "    end\n",
    "    4c/n\n",
    "end\n",
    "\n",
    "@show VERSION\n",
    "@time pimc3(10^9)\n",
    "@time pimc3(10^9)\n",
    "@time pimc3(10^9)"
   ]
  },
  {
   "cell_type": "code",
   "execution_count": 1,
   "id": "579d955b-8bfe-4b6e-8f21-8462a9823680",
   "metadata": {},
   "outputs": [
    {
     "name": "stdout",
     "output_type": "stream",
     "text": [
      "VERSION = v\"1.8.0-DEV.19\"\n",
      "  2.891221 seconds\n",
      "  2.902248 seconds\n",
      "  2.906133 seconds\n"
     ]
    },
    {
     "data": {
      "text/plain": [
       "3.141616004"
      ]
     },
     "execution_count": 1,
     "metadata": {},
     "output_type": "execute_result"
    }
   ],
   "source": [
    "function pimc(n)\n",
    "    c = 0\n",
    "    for _ in 1:n\n",
    "        c += rand()^2 + rand()^2 ≤ 1\n",
    "    end\n",
    "    4c/n\n",
    "end\n",
    "\n",
    "@show VERSION\n",
    "@time pimc(10^9)\n",
    "@time pimc(10^9)\n",
    "@time pimc(10^9)"
   ]
  },
  {
   "cell_type": "code",
   "execution_count": 2,
   "id": "b576fbed-df72-409a-808f-ea97db545375",
   "metadata": {},
   "outputs": [
    {
     "name": "stdout",
     "output_type": "stream",
     "text": [
      "VERSION = v\"1.8.0-DEV.19\"\n",
      "  3.014671 seconds\n",
      "  2.902528 seconds\n",
      "  2.979248 seconds\n"
     ]
    },
    {
     "data": {
      "text/plain": [
       "3.14154456"
      ]
     },
     "execution_count": 2,
     "metadata": {},
     "output_type": "execute_result"
    }
   ],
   "source": [
    "using Random: default_rng\n",
    "\n",
    "function pimc2(n)\n",
    "    rng = default_rng()\n",
    "    c = 0\n",
    "    for _ in 1:n\n",
    "        c += rand(rng)^2 + rand(rng)^2 ≤ 1\n",
    "    end\n",
    "    4c/n\n",
    "end\n",
    "\n",
    "@show VERSION\n",
    "@time pimc2(10^9)\n",
    "@time pimc2(10^9)\n",
    "@time pimc2(10^9)"
   ]
  },
  {
   "cell_type": "code",
   "execution_count": 3,
   "id": "9ada222c-88e9-4d16-ad70-874f889bde96",
   "metadata": {},
   "outputs": [
    {
     "name": "stdout",
     "output_type": "stream",
     "text": [
      "VERSION = v\"1.8.0-DEV.19\"\n",
      "  2.207171 seconds (12 allocations: 19.672 KiB)\n",
      "  2.157959 seconds (12 allocations: 19.672 KiB)\n",
      "  2.157134 seconds (12 allocations: 19.672 KiB)\n"
     ]
    },
    {
     "data": {
      "text/plain": [
       "3.141676024"
      ]
     },
     "execution_count": 3,
     "metadata": {},
     "output_type": "execute_result"
    }
   ],
   "source": [
    "using Random: MersenneTwister\n",
    "\n",
    "function pimc3(n)\n",
    "    rng = MersenneTwister()\n",
    "    c = 0\n",
    "    for _ in 1:n\n",
    "        c += rand(rng)^2 + rand(rng)^2 ≤ 1\n",
    "    end\n",
    "    4c/n\n",
    "end\n",
    "\n",
    "@show VERSION\n",
    "@time pimc3(10^9)\n",
    "@time pimc3(10^9)\n",
    "@time pimc3(10^9)"
   ]
  },
  {
   "cell_type": "code",
   "execution_count": null,
   "id": "fa38d713-1e81-4dad-9250-4d6c968def06",
   "metadata": {},
   "outputs": [],
   "source": []
  }
 ],
 "metadata": {
  "jupytext": {
   "encoding": "# -*- coding: utf-8 -*-",
   "formats": "ipynb,jl:hydrogen"
  },
  "kernelspec": {
   "display_name": "Julia 1.6.1",
   "language": "julia",
   "name": "julia-1.6"
  },
  "language_info": {
   "file_extension": ".jl",
   "mimetype": "application/julia",
   "name": "julia",
   "version": "1.6.1"
  }
 },
 "nbformat": 4,
 "nbformat_minor": 5
}
