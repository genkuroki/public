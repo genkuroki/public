{
 "cells": [
  {
   "cell_type": "code",
   "execution_count": 1,
   "id": "a43d5322-fcea-4e31-bbaa-fd8c25d87322",
   "metadata": {},
   "outputs": [
    {
     "data": {
      "text/plain": [
       "2×2 Matrix{Int64}:\n",
       " 1  2\n",
       " 3  4"
      ]
     },
     "execution_count": 1,
     "metadata": {},
     "output_type": "execute_result"
    }
   ],
   "source": [
    "A = [\n",
    "    1 2\n",
    "    3 4\n",
    "]"
   ]
  },
  {
   "cell_type": "code",
   "execution_count": 4,
   "id": "d41a164d-6722-4144-8ce4-6d0263e77602",
   "metadata": {},
   "outputs": [
    {
     "data": {
      "text/plain": [
       ":(f([1 2; 3 4]))"
      ]
     },
     "execution_count": 4,
     "metadata": {},
     "output_type": "execute_result"
    }
   ],
   "source": [
    ":(f($A))"
   ]
  },
  {
   "cell_type": "code",
   "execution_count": 3,
   "id": "6c3cbaad-3864-4138-ba5d-98a04ae24a1c",
   "metadata": {},
   "outputs": [
    {
     "name": "stdout",
     "output_type": "stream",
     "text": [
      "Expr\n",
      "  head: Symbol call\n",
      "  args: Array{Any}((2,))\n",
      "    1: Symbol f\n",
      "    2: Array{Int64}((2, 2)) [1 2; 3 4]\n"
     ]
    }
   ],
   "source": [
    ":(f($A)) |> dump"
   ]
  },
  {
   "cell_type": "code",
   "execution_count": 5,
   "id": "2e7fb553-2c99-4e01-8dd1-2cb3df7af337",
   "metadata": {},
   "outputs": [
    {
     "name": "stdout",
     "output_type": "stream",
     "text": [
      "(:call, :f, [1 2; 3 4])"
     ]
    }
   ],
   "source": [
    ":(f($A)) |> Meta.show_sexpr"
   ]
  },
  {
   "cell_type": "code",
   "execution_count": null,
   "id": "ea4c0990-7ec9-466e-9a8b-0c2df99759d6",
   "metadata": {},
   "outputs": [],
   "source": []
  }
 ],
 "metadata": {
  "kernelspec": {
   "display_name": "Julia 1.7.0-DEV",
   "language": "julia",
   "name": "julia-1.7"
  },
  "language_info": {
   "file_extension": ".jl",
   "mimetype": "application/julia",
   "name": "julia",
   "version": "1.7.0"
  }
 },
 "nbformat": 4,
 "nbformat_minor": 5
}
