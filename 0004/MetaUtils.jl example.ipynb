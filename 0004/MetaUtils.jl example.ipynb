{
 "cells": [
  {
   "cell_type": "code",
   "execution_count": 1,
   "id": "337ceb6d-7022-41aa-8f50-166dd7c27516",
   "metadata": {},
   "outputs": [],
   "source": [
    "using MetaUtils"
   ]
  },
  {
   "cell_type": "code",
   "execution_count": 2,
   "id": "7aa35e72-be0b-40bd-bbef-63df9a0e5a5e",
   "metadata": {},
   "outputs": [
    {
     "name": "stdout",
     "output_type": "stream",
     "text": [
      "Number\n",
      "├─ Complex\n",
      "└─ Real\n",
      "   ├─ AbstractFloat\n",
      "   │  ├─ BigFloat\n",
      "   │  ├─ Float16\n",
      "   │  ├─ Float32\n",
      "   │  └─ Float64\n",
      "   ├─ AbstractIrrational\n",
      "   │  └─ Irrational\n",
      "   ├─ Integer\n",
      "   │  ├─ Bool\n",
      "   │  ├─ Signed\n",
      "   │  │  ├─ BigInt\n",
      "   │  │  ├─ Int128\n",
      "   │  │  ├─ Int16\n",
      "   │  │  ├─ Int32\n",
      "   │  │  ├─ Int64\n",
      "   │  │  └─ Int8\n",
      "   │  └─ Unsigned\n",
      "   │     ├─ UInt128\n",
      "   │     ├─ UInt16\n",
      "   │     ├─ UInt32\n",
      "   │     ├─ UInt64\n",
      "   │     └─ UInt8\n",
      "   └─ Rational\n"
     ]
    }
   ],
   "source": [
    "print_subtypes(Number)"
   ]
  },
  {
   "cell_type": "code",
   "execution_count": 3,
   "id": "c66705a9-67d0-4577-903b-26b673d3c5b9",
   "metadata": {},
   "outputs": [
    {
     "name": "stdout",
     "output_type": "stream",
     "text": [
      "AbstractString\n",
      "├─ String\n",
      "├─ SubString\n",
      "├─ SubstitutionString\n",
      "└─ Test.GenericString\n"
     ]
    }
   ],
   "source": [
    "print_subtypes(AbstractString)"
   ]
  },
  {
   "cell_type": "code",
   "execution_count": 4,
   "id": "4e63c79b-78d7-45c3-92a8-4214eb07e35a",
   "metadata": {},
   "outputs": [
    {
     "name": "stdout",
     "output_type": "stream",
     "text": [
      "AbstractDict\n",
      "├─ Base.EnvDict\n",
      "├─ Base.ImmutableDict\n",
      "├─ Base.Pairs\n",
      "├─ Dict\n",
      "├─ IdDict\n",
      "├─ Test.GenericDict\n",
      "└─ WeakKeyDict\n"
     ]
    }
   ],
   "source": [
    "print_subtypes(AbstractDict)"
   ]
  },
  {
   "cell_type": "code",
   "execution_count": 5,
   "id": "402e3a7c-6ba4-425c-bf0f-0cc3bb9d0794",
   "metadata": {},
   "outputs": [
    {
     "name": "stdout",
     "output_type": "stream",
     "text": [
      "AbstractSet\n",
      "├─ Base.IdSet\n",
      "├─ Base.KeySet\n",
      "├─ BitSet\n",
      "├─ Set\n",
      "└─ Test.GenericSet\n"
     ]
    }
   ],
   "source": [
    "print_subtypes(AbstractSet)"
   ]
  },
  {
   "cell_type": "code",
   "execution_count": 6,
   "id": "29c52cae-05bd-4589-9f49-967eb02445b8",
   "metadata": {},
   "outputs": [
    {
     "name": "stdout",
     "output_type": "stream",
     "text": [
      "AbstractVector\n",
      "├─ AbstractRange\n",
      "│  ├─ LinRange\n",
      "│  ├─ OrdinalRange\n",
      "│  │  ├─ AbstractUnitRange\n",
      "│  │  │  ├─ Base.IdentityUnitRange\n",
      "│  │  │  ├─ Base.OneTo\n",
      "│  │  │  ├─ Base.Slice\n",
      "│  │  │  └─ UnitRange\n",
      "│  │  └─ StepRange\n",
      "│  └─ StepRangeLen\n",
      "├─ Base.ExceptionStack\n",
      "├─ Base.LogicalIndex\n",
      "├─ Base.MethodList\n",
      "├─ Base.ReinterpretArray{T, 1, S, A} where {T, S, A<:(AbstractArray{S})}\n",
      "├─ Base.ReshapedArray{T, 1} where T\n",
      "├─ BitVector\n",
      "├─ CartesianIndices{1, R} where R<:Tuple{OrdinalRange{Int64, Int64}}\n",
      "├─ Core.Compiler.AbstractRange\n",
      "│  ├─ Core.Compiler.LinRange\n",
      "│  ├─ Core.Compiler.OrdinalRange\n",
      "│  │  ├─ Core.Compiler.AbstractUnitRange\n",
      "│  │  │  ├─ Core.Compiler.IdentityUnitRange\n",
      "│  │  │  ├─ Core.Compiler.OneTo\n",
      "│  │  │  ├─ Core.Compiler.Slice\n",
      "│  │  │  ├─ Core.Compiler.StmtRange\n",
      "│  │  │  └─ Core.Compiler.UnitRange\n",
      "│  │  └─ Core.Compiler.StepRange\n",
      "│  └─ Core.Compiler.StepRangeLen\n",
      "├─ Core.Compiler.BitArray{1}\n",
      "├─ Core.Compiler.ExceptionStack\n",
      "├─ Core.Compiler.LinearIndices{1, R} where R<:Tuple{Core.Compiler.AbstractUnitRange{Int64}}\n",
      "├─ Core.Compiler.MethodList\n",
      "├─ DenseVector\n",
      "│  ├─ Base.CodeUnits\n",
      "│  ├─ Base.Experimental.Const{T, 1} where T\n",
      "│  ├─ Random.UnsafeView\n",
      "│  ├─ SharedArrays.SharedVector\n",
      "│  └─ Vector\n",
      "├─ LinearIndices{1, R} where R<:Tuple{AbstractUnitRange{Int64}}\n",
      "├─ PermutedDimsArray{T, 1} where T\n",
      "├─ SparseArrays.AbstractSparseVector\n",
      "│  └─ SparseArrays.SparseVector\n",
      "├─ SubArray{T, 1} where T\n",
      "├─ Test.GenericArray{T, 1} where T\n",
      "└─ ZMQ.Message\n"
     ]
    }
   ],
   "source": [
    "print_subtypes(AbstractVector)"
   ]
  },
  {
   "cell_type": "code",
   "execution_count": 7,
   "id": "8466ba44-a0a2-42c4-b097-1a9b549835b0",
   "metadata": {},
   "outputs": [
    {
     "name": "stdout",
     "output_type": "stream",
     "text": [
      "AbstractMatrix\n",
      "├─ Base.ReinterpretArray{T, 2, S, A} where {T, S, A<:(AbstractArray{S})}\n",
      "├─ Base.ReshapedArray{T, 2} where T\n",
      "├─ Base.SCartesianIndices2\n",
      "├─ BitMatrix\n",
      "├─ CartesianIndices{2, R} where R<:Tuple{OrdinalRange{Int64, Int64}, OrdinalRange{Int64, Int64}}\n",
      "├─ Core.Compiler.BitArray{2}\n",
      "├─ Core.Compiler.LinearIndices{2, R} where R<:Tuple{Core.Compiler.AbstractUnitRange{Int64}, Core.Compiler.AbstractUnitRange{Int64}}\n",
      "├─ DenseMatrix\n",
      "│  ├─ Base.Experimental.Const{T, 2} where T\n",
      "│  ├─ Matrix\n",
      "│  ├─ SharedArrays.SharedMatrix\n",
      "│  └─ SuiteSparse.CHOLMOD.Dense\n",
      "├─ LinearAlgebra.AbstractQ\n",
      "│  ├─ LinearAlgebra.HessenbergQ\n",
      "│  ├─ LinearAlgebra.QRCompactWYQ\n",
      "│  ├─ LinearAlgebra.QRPackedQ\n",
      "│  └─ SuiteSparse.SPQR.QRSparseQ\n",
      "├─ LinearAlgebra.AbstractTriangular\n",
      "│  ├─ LinearAlgebra.LowerTriangular\n",
      "│  ├─ LinearAlgebra.UnitLowerTriangular\n",
      "│  ├─ LinearAlgebra.UnitUpperTriangular\n",
      "│  └─ LinearAlgebra.UpperTriangular\n",
      "├─ LinearAlgebra.Adjoint\n",
      "├─ LinearAlgebra.Bidiagonal\n",
      "├─ LinearAlgebra.Diagonal\n",
      "├─ LinearAlgebra.Hermitian\n",
      "├─ LinearAlgebra.LQPackedQ\n",
      "├─ LinearAlgebra.SymTridiagonal\n",
      "├─ LinearAlgebra.Symmetric\n",
      "├─ LinearAlgebra.Transpose\n",
      "├─ LinearAlgebra.Tridiagonal\n",
      "├─ LinearAlgebra.UpperHessenberg\n",
      "├─ LinearIndices{2, R} where R<:Tuple{AbstractUnitRange{Int64}, AbstractUnitRange{Int64}}\n",
      "├─ PermutedDimsArray{T, 2} where T\n",
      "├─ SparseArrays.AbstractSparseMatrix\n",
      "│  ├─ SparseArrays.AbstractSparseMatrixCSC\n",
      "│  │  └─ SparseArrays.SparseMatrixCSC\n",
      "│  └─ SuiteSparse.CHOLMOD.Sparse\n",
      "├─ SubArray{T, 2} where T\n",
      "├─ SuiteSparse.CHOLMOD.FactorComponent\n",
      "└─ Test.GenericArray{T, 2} where T\n"
     ]
    }
   ],
   "source": [
    "print_subtypes(AbstractMatrix)"
   ]
  },
  {
   "cell_type": "code",
   "execution_count": null,
   "id": "caf73848-f864-4eed-bae2-a7cf9e4f2b62",
   "metadata": {},
   "outputs": [],
   "source": []
  }
 ],
 "metadata": {
  "kernelspec": {
   "display_name": "Julia 1.7.0-DEV",
   "language": "julia",
   "name": "julia-1.7"
  },
  "language_info": {
   "file_extension": ".jl",
   "mimetype": "application/julia",
   "name": "julia",
   "version": "1.7.0"
  }
 },
 "nbformat": 4,
 "nbformat_minor": 5
}
