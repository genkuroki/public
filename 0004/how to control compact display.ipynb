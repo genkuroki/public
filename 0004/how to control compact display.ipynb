{
 "cells": [
  {
   "cell_type": "markdown",
   "id": "89432b10-6f43-43cb-8778-ed2c509baebb",
   "metadata": {},
   "source": [
    "For REPL, see https://docs.julialang.org/en/v1/stdlib/REPL/#The-Julian-mode"
   ]
  },
  {
   "cell_type": "code",
   "execution_count": 1,
   "id": "836e1a63-e3ea-4ea9-96e1-04f2b91faf24",
   "metadata": {},
   "outputs": [
    {
     "data": {
      "text/plain": [
       "1.2345678901234567"
      ]
     },
     "execution_count": 1,
     "metadata": {},
     "output_type": "execute_result"
    }
   ],
   "source": [
    "x = 1.234567890123456789"
   ]
  },
  {
   "cell_type": "code",
   "execution_count": 2,
   "id": "b115df01-d03e-4c01-848a-43fdeef5824e",
   "metadata": {},
   "outputs": [
    {
     "data": {
      "text/plain": [
       "InlineIOContext"
      ]
     },
     "execution_count": 2,
     "metadata": {},
     "output_type": "execute_result"
    }
   ],
   "source": [
    "const COMPACT = Ref(true)\n",
    "\n",
    "# copy from\n",
    "# https://github.com/JuliaLang/IJulia.jl/blob/cc2a9bf61a2515596b177339f9a3514de8c38573/src/inline.jl#L29\n",
    "#\n",
    "@eval IJulia InlineIOContext(io, KVs::Pair...) = IOContext(\n",
    "    io,\n",
    "    :limit=>true, :color=>true, :jupyter=>true,\n",
    "    :compact=>Main.COMPACT[],\n",
    "    KVs...\n",
    ")"
   ]
  },
  {
   "cell_type": "code",
   "execution_count": 3,
   "id": "048c02be-7631-4da1-9a49-9facb31c9b2b",
   "metadata": {},
   "outputs": [
    {
     "data": {
      "text/plain": [
       "1.23457"
      ]
     },
     "execution_count": 3,
     "metadata": {},
     "output_type": "execute_result"
    }
   ],
   "source": [
    "COMPACT[] = true\n",
    "x"
   ]
  },
  {
   "cell_type": "code",
   "execution_count": 4,
   "id": "21c05c15-754d-441c-9ff5-cde172362a31",
   "metadata": {},
   "outputs": [
    {
     "data": {
      "text/plain": [
       "1.2345678901234567"
      ]
     },
     "execution_count": 4,
     "metadata": {},
     "output_type": "execute_result"
    }
   ],
   "source": [
    "COMPACT[] = false\n",
    "x"
   ]
  },
  {
   "cell_type": "code",
   "execution_count": 5,
   "id": "76fbd154-3e33-4813-80f6-188dc57cf6b3",
   "metadata": {},
   "outputs": [
    {
     "data": {
      "text/plain": [
       "\"1.2345678901234567\""
      ]
     },
     "execution_count": 5,
     "metadata": {},
     "output_type": "execute_result"
    }
   ],
   "source": [
    "buf = Vector{UInt8}(undef, 20)\n",
    "pos = Base.Ryu.writeshortest(buf, 1, x, false, false, true, -1, \n",
    "    UInt8('f'), false, UInt8('.'), false, false)\n",
    "sprint(write, resize!(buf, pos - 1))"
   ]
  },
  {
   "cell_type": "code",
   "execution_count": 6,
   "id": "9d30a458-19d7-445b-a833-b9972d2b51c1",
   "metadata": {},
   "outputs": [
    {
     "data": {
      "text/plain": [
       "\"1.23457\""
      ]
     },
     "execution_count": 6,
     "metadata": {},
     "output_type": "execute_result"
    }
   ],
   "source": [
    "buf = Vector{UInt8}(undef, 20)\n",
    "pos = Base.Ryu.writeshortest(buf, 1, x, false, false, true, -1, \n",
    "    UInt8('f'), false, UInt8('.'), false, true)\n",
    "sprint(write, resize!(buf, pos - 1))"
   ]
  },
  {
   "cell_type": "markdown",
   "id": "47d0b4e8-763f-4838-b83f-9db4d2d5b114",
   "metadata": {},
   "source": [
    "https://github.com/JuliaLang/julia/blob/82ae530db62f364853b355bcd64b28c71445a2c4/base/ryu/Ryu.jl#L111"
   ]
  },
  {
   "cell_type": "code",
   "execution_count": 7,
   "id": "f0f0d4b0-95a2-4749-8761-bc8d6052158e",
   "metadata": {},
   "outputs": [
    {
     "data": {
      "text/html": [
       "writeshortest(buf::<b>Vector{UInt8}</b>, pos, x::<b>T</b>, plus, space, hash, precision, expchar, padexp, decchar, typed, compact)<i> where T</i> in Base.Ryu at <a href=\"https://github.com/JuliaLang/julia/tree/82ae530db62f364853b355bcd64b28c71445a2c4/base/ryu/shortest.jl#L227\" target=\"_blank\">ryu\\shortest.jl:227</a>"
      ],
      "text/plain": [
       "writeshortest(buf::Vector{UInt8}, pos, x::T, plus, space, hash, precision, expchar, padexp, decchar, typed, compact) where T in Base.Ryu at ryu\\shortest.jl:227"
      ]
     },
     "execution_count": 7,
     "metadata": {},
     "output_type": "execute_result"
    }
   ],
   "source": [
    "@which Base.Ryu.writeshortest(buf, 1, x, false, false, true, -1, \n",
    "    UInt8('f'), false, UInt8('.'), false, false)"
   ]
  },
  {
   "cell_type": "code",
   "execution_count": 8,
   "id": "83ba3cc8-290f-43a1-b8a6-8bc37bb72340",
   "metadata": {},
   "outputs": [
    {
     "data": {
      "text/plain": [
       "(0x000000000001e241, -5)"
      ]
     },
     "execution_count": 8,
     "metadata": {},
     "output_type": "execute_result"
    }
   ],
   "source": [
    "Base.Ryu.reduce_shortest(x, 999_999)"
   ]
  },
  {
   "cell_type": "code",
   "execution_count": 9,
   "id": "aff6398a-9ac9-4a4a-8dcd-5e552b8af91e",
   "metadata": {},
   "outputs": [
    {
     "data": {
      "text/html": [
       "reduce_shortest(f::<b>T</b>, maxsignif)<i> where T</i> in Base.Ryu at <a href=\"https://github.com/JuliaLang/julia/tree/82ae530db62f364853b355bcd64b28c71445a2c4/base/ryu/shortest.jl#L7\" target=\"_blank\">ryu\\shortest.jl:7</a>"
      ],
      "text/plain": [
       "reduce_shortest(f::T, maxsignif) where T in Base.Ryu at ryu\\shortest.jl:7"
      ]
     },
     "execution_count": 9,
     "metadata": {},
     "output_type": "execute_result"
    }
   ],
   "source": [
    "@which Base.Ryu.reduce_shortest(x, 999_999)"
   ]
  },
  {
   "cell_type": "code",
   "execution_count": 10,
   "id": "de7f9d83-cfb8-4077-8a35-79255aa17787",
   "metadata": {},
   "outputs": [
    {
     "data": {
      "text/plain": [
       "writeshortest (generic function with 20 methods)"
      ]
     },
     "execution_count": 10,
     "metadata": {},
     "output_type": "execute_result"
    }
   ],
   "source": [
    "const MAXSIGNIF = Ref(999_999)\n",
    "\n",
    "# copy from \n",
    "# https://github.com/JuliaLang/julia/blob/82ae530db62f364853b355bcd64b28c71445a2c4/base/ryu/shortest.jl#L227\n",
    "# \n",
    "@eval Base.Ryu function writeshortest(buf::Vector{UInt8}, pos, x::T,\n",
    "                       plus=false, space=false, hash=true,\n",
    "                       precision=-1, expchar=UInt8('e'), padexp=false, decchar=UInt8('.'),\n",
    "                       typed=false, compact=false) where {T}\n",
    "    @assert 0 < pos <= length(buf)\n",
    "    # special cases\n",
    "    if x == 0\n",
    "        if typed && x isa Float16\n",
    "            buf[pos] = UInt8('F')\n",
    "            buf[pos + 1] = UInt8('l')\n",
    "            buf[pos + 2] = UInt8('o')\n",
    "            buf[pos + 3] = UInt8('a')\n",
    "            buf[pos + 4] = UInt8('t')\n",
    "            buf[pos + 5] = UInt8('1')\n",
    "            buf[pos + 6] = UInt8('6')\n",
    "            buf[pos + 7] = UInt8('(')\n",
    "            pos += 8\n",
    "        end\n",
    "        pos = append_sign(x, plus, space, buf, pos)\n",
    "        buf[pos] = UInt8('0')\n",
    "        pos += 1\n",
    "        if hash\n",
    "            buf[pos] = decchar\n",
    "            pos += 1\n",
    "        end\n",
    "        if precision == -1\n",
    "            buf[pos] = UInt8('0')\n",
    "            pos += 1\n",
    "            if typed && x isa Float32\n",
    "                buf[pos] = UInt8('f')\n",
    "                buf[pos + 1] = UInt8('0')\n",
    "                pos += 2\n",
    "            end\n",
    "            if typed && x isa Float16\n",
    "                buf[pos] = UInt8(')')\n",
    "                pos += 1\n",
    "            end\n",
    "            return pos\n",
    "        end\n",
    "        while hash && precision > 1\n",
    "            buf[pos] = UInt8('0')\n",
    "            pos += 1\n",
    "            precision -= 1\n",
    "        end\n",
    "        if typed && x isa Float32\n",
    "            buf[pos] = UInt8('f')\n",
    "            buf[pos + 1] = UInt8('0')\n",
    "            pos += 2\n",
    "        end\n",
    "        if typed && x isa Float16\n",
    "            buf[pos] = UInt8(')')\n",
    "            pos += 1\n",
    "        end\n",
    "        return pos\n",
    "    elseif isnan(x)\n",
    "        pos = append_sign(x, plus, space, buf, pos)\n",
    "        buf[pos] = UInt8('N')\n",
    "        buf[pos + 1] = UInt8('a')\n",
    "        buf[pos + 2] = UInt8('N')\n",
    "        if typed\n",
    "            if x isa Float32\n",
    "                buf[pos + 3] = UInt8('3')\n",
    "                buf[pos + 4] = UInt8('2')\n",
    "            elseif x isa Float16\n",
    "                buf[pos + 3] = UInt8('1')\n",
    "                buf[pos + 4] = UInt8('6')\n",
    "            end\n",
    "        end\n",
    "        return pos + 3 + (typed && x isa Union{Float32, Float16} ? 2 : 0)\n",
    "    elseif !isfinite(x)\n",
    "        pos = append_sign(x, plus, space, buf, pos)\n",
    "        buf[pos] = UInt8('I')\n",
    "        buf[pos + 1] = UInt8('n')\n",
    "        buf[pos + 2] = UInt8('f')\n",
    "        if typed\n",
    "            if x isa Float32\n",
    "                buf[pos + 3] = UInt8('3')\n",
    "                buf[pos + 4] = UInt8('2')\n",
    "            elseif x isa Float16\n",
    "                buf[pos + 3] = UInt8('1')\n",
    "                buf[pos + 4] = UInt8('6')\n",
    "            end\n",
    "        end\n",
    "        return pos + 3 + (typed && x isa Union{Float32, Float16} ? 2 : 0)\n",
    "    end\n",
    "\n",
    "    #output, nexp = reduce_shortest(x, compact ? 999_999 : nothing)\n",
    "    output, nexp = reduce_shortest(x, compact ? Main.MAXSIGNIF[] : nothing)\n",
    "\n",
    "    if typed && x isa Float16\n",
    "        buf[pos] = UInt8('F')\n",
    "        buf[pos + 1] = UInt8('l')\n",
    "        buf[pos + 2] = UInt8('o')\n",
    "        buf[pos + 3] = UInt8('a')\n",
    "        buf[pos + 4] = UInt8('t')\n",
    "        buf[pos + 5] = UInt8('1')\n",
    "        buf[pos + 6] = UInt8('6')\n",
    "        buf[pos + 7] = UInt8('(')\n",
    "        pos += 8\n",
    "    end\n",
    "    pos = append_sign(x, plus, space, buf, pos)\n",
    "\n",
    "    olength = decimallength(output)\n",
    "    exp_form = true\n",
    "    pt = nexp + olength\n",
    "    if -4 < pt <= (precision == -1 ? (T == Float16 ? 3 : 6) : precision) &&\n",
    "        !(pt >= olength && abs(mod(x + 0.05, 10^(pt - olength)) - 0.05) > 0.05)\n",
    "        exp_form = false\n",
    "        if pt <= 0\n",
    "            buf[pos] = UInt8('0')\n",
    "            pos += 1\n",
    "            buf[pos] = decchar\n",
    "            pos += 1\n",
    "            for _ = 1:abs(pt)\n",
    "                buf[pos] = UInt8('0')\n",
    "                pos += 1\n",
    "            end\n",
    "            # elseif pt >= olength\n",
    "            # nothing to do at this point\n",
    "            # else\n",
    "            # nothing to do at this point\n",
    "        end\n",
    "    else\n",
    "        pos += 1\n",
    "    end\n",
    "    i = 0\n",
    "    ptr = pointer(buf)\n",
    "    ptr2 = pointer(DIGIT_TABLE)\n",
    "    if (output >> 32) != 0\n",
    "        q = output ÷ 100000000\n",
    "        output2 = (output % UInt32) - UInt32(100000000) * (q % UInt32)\n",
    "        output = q\n",
    "\n",
    "        c = output2 % UInt32(10000)\n",
    "        output2 = div(output2, UInt32(10000))\n",
    "        d = output2 % UInt32(10000)\n",
    "        c0 = (c % 100) << 1\n",
    "        c1 = (c ÷ 100) << 1\n",
    "        d0 = (d % 100) << 1\n",
    "        d1 = (d ÷ 100) << 1\n",
    "        memcpy(ptr, pos + olength - 2, ptr2, c0 + 1, 2)\n",
    "        memcpy(ptr, pos + olength - 4, ptr2, c1 + 1, 2)\n",
    "        memcpy(ptr, pos + olength - 6, ptr2, d0 + 1, 2)\n",
    "        memcpy(ptr, pos + olength - 8, ptr2, d1 + 1, 2)\n",
    "        i += 8\n",
    "    end\n",
    "    output2 = output % UInt32\n",
    "    while output2 >= 10000\n",
    "        c = output2 % UInt32(10000)\n",
    "        output2 = div(output2, UInt32(10000))\n",
    "        c0 = (c % 100) << 1\n",
    "        c1 = (c ÷ 100) << 1\n",
    "        memcpy(ptr, pos + olength - i - 2, ptr2, c0 + 1, 2)\n",
    "        memcpy(ptr, pos + olength - i - 4, ptr2, c1 + 1, 2)\n",
    "        i += 4\n",
    "    end\n",
    "    if output2 >= 100\n",
    "        c = (output2 % UInt32(100)) << 1\n",
    "        output2 = div(output2, UInt32(100))\n",
    "        memcpy(ptr, pos + olength - i - 2, ptr2, c + 1, 2)\n",
    "        i += 2\n",
    "    end\n",
    "    if output2 >= 10\n",
    "        c = output2 << 1\n",
    "        buf[pos + 1] = DIGIT_TABLE[c + 2]\n",
    "        buf[pos - exp_form] = DIGIT_TABLE[c + 1]\n",
    "    else\n",
    "        buf[pos - exp_form] = UInt8('0') + (output2 % UInt8)\n",
    "    end\n",
    "\n",
    "    if !exp_form\n",
    "        if pt <= 0\n",
    "            pos += olength\n",
    "            precision -= olength\n",
    "            while hash && precision > 0\n",
    "                buf[pos] = UInt8('0')\n",
    "                pos += 1\n",
    "                precision -= 1\n",
    "            end\n",
    "        elseif pt >= olength\n",
    "            pos += olength\n",
    "            precision -= olength\n",
    "            for _ = 1:nexp\n",
    "                buf[pos] = UInt8('0')\n",
    "                pos += 1\n",
    "                precision -= 1\n",
    "            end\n",
    "            if hash\n",
    "                buf[pos] = decchar\n",
    "                pos += 1\n",
    "                if precision < 0\n",
    "                    buf[pos] = UInt8('0')\n",
    "                    pos += 1\n",
    "                end\n",
    "                while precision > 0\n",
    "                    buf[pos] = UInt8('0')\n",
    "                    pos += 1\n",
    "                    precision -= 1\n",
    "                end\n",
    "            end\n",
    "        else\n",
    "            pointoff = olength - abs(nexp)\n",
    "            memmove(ptr, pos + pointoff + 1, ptr, pos + pointoff, olength - pointoff + 1)\n",
    "            buf[pos + pointoff] = decchar\n",
    "            pos += olength + 1\n",
    "            precision -= olength\n",
    "            while hash && precision > 0\n",
    "                buf[pos] = UInt8('0')\n",
    "                pos += 1\n",
    "                precision -= 1\n",
    "            end\n",
    "        end\n",
    "        if typed && x isa Float32\n",
    "            buf[pos] = UInt8('f')\n",
    "            buf[pos + 1] = UInt8('0')\n",
    "            pos += 2\n",
    "        end\n",
    "    else\n",
    "        if olength > 1 || hash\n",
    "            buf[pos] = decchar\n",
    "            pos += olength\n",
    "            precision -= olength\n",
    "        end\n",
    "        if hash && olength == 1\n",
    "            buf[pos] = UInt8('0')\n",
    "            pos += 1\n",
    "        end\n",
    "        while hash && precision > 0\n",
    "            buf[pos] = UInt8('0')\n",
    "            pos += 1\n",
    "            precision -= 1\n",
    "        end\n",
    "\n",
    "        buf[pos] = expchar\n",
    "        pos += 1\n",
    "        exp2 = nexp + olength - 1\n",
    "        if exp2 < 0\n",
    "            buf[pos] = UInt8('-')\n",
    "            pos += 1\n",
    "            exp2 = -exp2\n",
    "        elseif padexp\n",
    "            buf[pos] = UInt8('+')\n",
    "            pos += 1\n",
    "        end\n",
    "\n",
    "        if exp2 >= 100\n",
    "            c = exp2 % 10\n",
    "            memcpy(ptr, pos, ptr2, 2 * div(exp2, 10) + 1, 2)\n",
    "            buf[pos + 2] = UInt8('0') + (c % UInt8)\n",
    "            pos += 3\n",
    "        elseif exp2 >= 10\n",
    "            memcpy(ptr, pos, ptr2, 2 * exp2 + 1, 2)\n",
    "            pos += 2\n",
    "        else\n",
    "            if padexp\n",
    "                buf[pos] = UInt8('0')\n",
    "                pos += 1\n",
    "            end\n",
    "            buf[pos] = UInt8('0') + (exp2 % UInt8)\n",
    "            pos += 1\n",
    "        end\n",
    "    end\n",
    "    if typed && x isa Float16\n",
    "        buf[pos] = UInt8(')')\n",
    "        pos += 1\n",
    "    end\n",
    "\n",
    "    return pos\n",
    "end"
   ]
  },
  {
   "cell_type": "code",
   "execution_count": 11,
   "id": "41d61be0-0d94-490b-b5e9-5425f90c8fb8",
   "metadata": {},
   "outputs": [
    {
     "data": {
      "text/plain": [
       "2×2 Array{Float64, 2}:\n",
       " 0.8313533766345167   0.670411464040264\n",
       " 0.34206762753498066  0.24430979423909738"
      ]
     },
     "execution_count": 11,
     "metadata": {},
     "output_type": "execute_result"
    }
   ],
   "source": [
    "A = rand(2, 2)"
   ]
  },
  {
   "cell_type": "code",
   "execution_count": 12,
   "id": "c7c655c0-1a8a-4e82-9f83-e5011bd1b5fd",
   "metadata": {},
   "outputs": [
    {
     "data": {
      "text/plain": [
       "2×2 Array{Float64, 2}:\n",
       " 0.8313533766345167   0.670411464040264\n",
       " 0.34206762753498066  0.24430979423909738"
      ]
     },
     "execution_count": 12,
     "metadata": {},
     "output_type": "execute_result"
    }
   ],
   "source": [
    "MAXSIGNIF[] = 99\n",
    "A"
   ]
  },
  {
   "cell_type": "code",
   "execution_count": 13,
   "id": "c4dc50e5-f97d-466b-ac02-f6097a048996",
   "metadata": {},
   "outputs": [
    {
     "data": {
      "text/plain": [
       "2×2 Array{Float64, 2}:\n",
       " 0.8313533766345167   0.670411464040264\n",
       " 0.34206762753498066  0.24430979423909738"
      ]
     },
     "execution_count": 13,
     "metadata": {},
     "output_type": "execute_result"
    }
   ],
   "source": [
    "MAXSIGNIF[] = 999_999\n",
    "A"
   ]
  },
  {
   "cell_type": "code",
   "execution_count": 14,
   "id": "f436f2db-680f-427a-9aa2-37c3b2425826",
   "metadata": {},
   "outputs": [
    {
     "data": {
      "text/plain": [
       "2×2 Array{Float64, 2}:\n",
       " 0.8313533766345167   0.670411464040264\n",
       " 0.34206762753498066  0.24430979423909738"
      ]
     },
     "execution_count": 14,
     "metadata": {},
     "output_type": "execute_result"
    }
   ],
   "source": [
    "MAXSIGNIF[] = 999_999_999\n",
    "A"
   ]
  },
  {
   "cell_type": "code",
   "execution_count": 15,
   "id": "08cee90a-0f33-4db2-84c2-fcdc357047b4",
   "metadata": {},
   "outputs": [
    {
     "data": {
      "text/plain": [
       "1.2"
      ]
     },
     "execution_count": 15,
     "metadata": {},
     "output_type": "execute_result"
    }
   ],
   "source": [
    "COMPACT[] = true\n",
    "MAXSIGNIF[] = 99\n",
    "x"
   ]
  },
  {
   "cell_type": "code",
   "execution_count": 16,
   "id": "2297099c-76f2-43f0-bb32-d5b7b44afc54",
   "metadata": {},
   "outputs": [
    {
     "data": {
      "text/plain": [
       "1.23"
      ]
     },
     "execution_count": 16,
     "metadata": {},
     "output_type": "execute_result"
    }
   ],
   "source": [
    "COMPACT[] = true\n",
    "MAXSIGNIF[] = 999\n",
    "x"
   ]
  },
  {
   "cell_type": "code",
   "execution_count": 17,
   "id": "e5b07d0e-e19c-4170-b668-e8568b96c34c",
   "metadata": {},
   "outputs": [
    {
     "data": {
      "text/plain": [
       "1.23457"
      ]
     },
     "execution_count": 17,
     "metadata": {},
     "output_type": "execute_result"
    }
   ],
   "source": [
    "COMPACT[] = true\n",
    "MAXSIGNIF[] = 999_999\n",
    "x"
   ]
  },
  {
   "cell_type": "code",
   "execution_count": 18,
   "id": "0683f17b-e55b-4f60-b11b-363ea47e4396",
   "metadata": {},
   "outputs": [
    {
     "data": {
      "text/plain": [
       "1.23456789"
      ]
     },
     "execution_count": 18,
     "metadata": {},
     "output_type": "execute_result"
    }
   ],
   "source": [
    "COMPACT[] = true\n",
    "MAXSIGNIF[] = 999_999_999\n",
    "x"
   ]
  },
  {
   "cell_type": "code",
   "execution_count": null,
   "id": "8e22a166-7307-43c5-a229-de479e869e81",
   "metadata": {},
   "outputs": [],
   "source": []
  }
 ],
 "metadata": {
  "jupytext": {
   "formats": "ipynb,auto:hydrogen"
  },
  "kernelspec": {
   "display_name": "Julia 1.8.0-DEV",
   "language": "julia",
   "name": "julia-1.8"
  },
  "language_info": {
   "file_extension": ".jl",
   "mimetype": "application/julia",
   "name": "julia",
   "version": "1.8.0"
  }
 },
 "nbformat": 4,
 "nbformat_minor": 5
}
