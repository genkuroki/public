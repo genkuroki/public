{
 "cells": [
  {
   "cell_type": "code",
   "execution_count": 1,
   "id": "4987e795-194e-4b18-b6c3-5a10a3f4633a",
   "metadata": {},
   "outputs": [
    {
     "data": {
      "text/plain": [
       "v\"1.8.0-DEV.19\""
      ]
     },
     "execution_count": 1,
     "metadata": {},
     "output_type": "execute_result"
    }
   ],
   "source": [
    "VERSION"
   ]
  },
  {
   "cell_type": "code",
   "execution_count": 2,
   "id": "2498bbfd-5d56-4a48-b393-11081b5bc8bb",
   "metadata": {},
   "outputs": [],
   "source": [
    "using Random"
   ]
  },
  {
   "cell_type": "code",
   "execution_count": 3,
   "id": "f12eb3fa-a1cf-46a8-ade0-2e8a19a6ee98",
   "metadata": {},
   "outputs": [
    {
     "data": {
      "text/plain": [
       "TaskLocalRNG()"
      ]
     },
     "execution_count": 3,
     "metadata": {},
     "output_type": "execute_result"
    }
   ],
   "source": [
    "rng = Random.default_rng()"
   ]
  },
  {
   "cell_type": "code",
   "execution_count": 4,
   "id": "605e2d8d-943a-44e6-8353-f20f9f18f148",
   "metadata": {},
   "outputs": [
    {
     "name": "stdout",
     "output_type": "stream",
     "text": [
      "search: \u001b[0m\u001b[1mT\u001b[22m\u001b[0m\u001b[1ma\u001b[22m\u001b[0m\u001b[1ms\u001b[22m\u001b[0m\u001b[1mk\u001b[22m\u001b[0m\u001b[1mL\u001b[22m\u001b[0m\u001b[1mo\u001b[22m\u001b[0m\u001b[1mc\u001b[22m\u001b[0m\u001b[1ma\u001b[22m\u001b[0m\u001b[1ml\u001b[22m\u001b[0m\u001b[1mR\u001b[22m\u001b[0m\u001b[1mN\u001b[22m\u001b[0m\u001b[1mG\u001b[22m \u001b[0m\u001b[1mt\u001b[22m\u001b[0m\u001b[1ma\u001b[22m\u001b[0m\u001b[1ms\u001b[22m\u001b[0m\u001b[1mk\u001b[22m_\u001b[0m\u001b[1ml\u001b[22m\u001b[0m\u001b[1mo\u001b[22m\u001b[0m\u001b[1mc\u001b[22m\u001b[0m\u001b[1ma\u001b[22m\u001b[0m\u001b[1ml\u001b[22m_sto\u001b[0m\u001b[1mr\u001b[22mage\n",
      "\n"
     ]
    },
    {
     "data": {
      "text/latex": [
       "\\begin{verbatim}\n",
       "TaskLocalRNG\n",
       "\\end{verbatim}\n",
       "The \\texttt{TaskLocalRNG} has state that is local to its task, not its thread. It is seeded upon task creation, from the state of its parent task. Therefore, task creation is an event that changes the parent's RNG state.\n",
       "\n",
       "As an upside, the \\texttt{TaskLocalRNG} is pretty fast, and permits reproducible multithreaded simulations (barring race conditions), independent of scheduler decisions. As long as the number of threads is not used to make decisions on task creation, simulation results are also independent of the number of available threads / CPUs. The random stream should not depend on hardware specifics, up to endianness and possibly word size.\n",
       "\n",
       "Using or seeding the RNG of any other task than the one returned by \\texttt{current\\_task()} is undefined behavior: it will work most of the time, and may sometimes fail silently.\n",
       "\n"
      ],
      "text/markdown": [
       "```\n",
       "TaskLocalRNG\n",
       "```\n",
       "\n",
       "The `TaskLocalRNG` has state that is local to its task, not its thread. It is seeded upon task creation, from the state of its parent task. Therefore, task creation is an event that changes the parent's RNG state.\n",
       "\n",
       "As an upside, the `TaskLocalRNG` is pretty fast, and permits reproducible multithreaded simulations (barring race conditions), independent of scheduler decisions. As long as the number of threads is not used to make decisions on task creation, simulation results are also independent of the number of available threads / CPUs. The random stream should not depend on hardware specifics, up to endianness and possibly word size.\n",
       "\n",
       "Using or seeding the RNG of any other task than the one returned by `current_task()` is undefined behavior: it will work most of the time, and may sometimes fail silently.\n"
      ],
      "text/plain": [
       "\u001b[36m  TaskLocalRNG\u001b[39m\n",
       "\n",
       "  The \u001b[36mTaskLocalRNG\u001b[39m has state that is local to its task, not its thread. It is\n",
       "  seeded upon task creation, from the state of its parent task. Therefore,\n",
       "  task creation is an event that changes the parent's RNG state.\n",
       "\n",
       "  As an upside, the \u001b[36mTaskLocalRNG\u001b[39m is pretty fast, and permits reproducible\n",
       "  multithreaded simulations (barring race conditions), independent of\n",
       "  scheduler decisions. As long as the number of threads is not used to make\n",
       "  decisions on task creation, simulation results are also independent of the\n",
       "  number of available threads / CPUs. The random stream should not depend on\n",
       "  hardware specifics, up to endianness and possibly word size.\n",
       "\n",
       "  Using or seeding the RNG of any other task than the one returned by\n",
       "  \u001b[36mcurrent_task()\u001b[39m is undefined behavior: it will work most of the time, and may\n",
       "  sometimes fail silently."
      ]
     },
     "execution_count": 4,
     "metadata": {},
     "output_type": "execute_result"
    }
   ],
   "source": [
    "?TaskLocalRNG"
   ]
  },
  {
   "cell_type": "code",
   "execution_count": 5,
   "id": "88c449db-d507-46a4-ae66-c31b0e6404a1",
   "metadata": {},
   "outputs": [
    {
     "data": {
      "text/plain": [
       "MersenneTwister(0x748f4f0165cd19291a952fb91b0bc5a3)"
      ]
     },
     "execution_count": 5,
     "metadata": {},
     "output_type": "execute_result"
    }
   ],
   "source": [
    "MersenneTwister()"
   ]
  },
  {
   "cell_type": "code",
   "execution_count": 6,
   "id": "8fe6a62c-62c7-4c81-b981-454bb4f26a1b",
   "metadata": {},
   "outputs": [
    {
     "data": {
      "text/plain": [
       "pimc (generic function with 2 methods)"
      ]
     },
     "execution_count": 6,
     "metadata": {},
     "output_type": "execute_result"
    }
   ],
   "source": [
    "function pimc(n, rng=Random.default_rng())\n",
    "    c = 0\n",
    "    for _ in 1:n\n",
    "        c += rand(rng)^2 + rand(rng)^2 ≤ 1\n",
    "    end\n",
    "    4c/n\n",
    "end"
   ]
  },
  {
   "cell_type": "code",
   "execution_count": 7,
   "id": "ef5c5141-06d3-4c00-811b-5da3ed67be7e",
   "metadata": {},
   "outputs": [
    {
     "name": "stdout",
     "output_type": "stream",
     "text": [
      "  2.743905 seconds (50.18 k allocations: 3.101 MiB, 0.28% gc time, 0.70% compilation time)\n",
      "  2.698962 seconds (2 allocations: 32 bytes)\n",
      "  2.683216 seconds (2 allocations: 32 bytes)\n"
     ]
    },
    {
     "data": {
      "text/plain": [
       "3.141619944"
      ]
     },
     "execution_count": 7,
     "metadata": {},
     "output_type": "execute_result"
    }
   ],
   "source": [
    "rng = Random.default_rng()\n",
    "\n",
    "@time pimc(10^9, rng)\n",
    "@time pimc(10^9, rng)\n",
    "@time pimc(10^9, rng)"
   ]
  },
  {
   "cell_type": "code",
   "execution_count": 8,
   "id": "1b847e4a-c316-40ba-a50c-bad0f4dcfec8",
   "metadata": {},
   "outputs": [
    {
     "name": "stdout",
     "output_type": "stream",
     "text": [
      "  2.325507 seconds (53.95 k allocations: 3.555 MiB, 0.61% compilation time)\n",
      "  2.286633 seconds (2 allocations: 32 bytes)\n",
      "  2.294850 seconds (2 allocations: 32 bytes)\n"
     ]
    },
    {
     "data": {
      "text/plain": [
       "3.141562752"
      ]
     },
     "execution_count": 8,
     "metadata": {},
     "output_type": "execute_result"
    }
   ],
   "source": [
    "rng = MersenneTwister()\n",
    "\n",
    "@time pimc(10^9, rng)\n",
    "@time pimc(10^9, rng)\n",
    "@time pimc(10^9, rng)"
   ]
  },
  {
   "cell_type": "code",
   "execution_count": 9,
   "id": "c27bd7b3-ddd6-4cc1-b29a-8cc666209a54",
   "metadata": {},
   "outputs": [],
   "source": [
    "using BenchmarkTools"
   ]
  },
  {
   "cell_type": "code",
   "execution_count": 10,
   "id": "ebefd8d0-1dcf-4844-8a35-94d76a4c0726",
   "metadata": {},
   "outputs": [
    {
     "name": "stdout",
     "output_type": "stream",
     "text": [
      "  26.105 ms (0 allocations: 0 bytes)\n"
     ]
    },
    {
     "data": {
      "text/plain": [
       "3.1419956"
      ]
     },
     "execution_count": 10,
     "metadata": {},
     "output_type": "execute_result"
    }
   ],
   "source": [
    "rng = Random.default_rng()\n",
    "@btime pimc(10^7, $rng)"
   ]
  },
  {
   "cell_type": "code",
   "execution_count": 11,
   "id": "98fcac1a-7c77-4195-8318-bef8b571f48b",
   "metadata": {},
   "outputs": [
    {
     "name": "stdout",
     "output_type": "stream",
     "text": [
      "  21.515 ms (0 allocations: 0 bytes)\n"
     ]
    },
    {
     "data": {
      "text/plain": [
       "3.1420128"
      ]
     },
     "execution_count": 11,
     "metadata": {},
     "output_type": "execute_result"
    }
   ],
   "source": [
    "rng = MersenneTwister()\n",
    "@btime pimc(10^7, $rng)"
   ]
  },
  {
   "cell_type": "code",
   "execution_count": null,
   "id": "bb73ffe4-c335-4b88-85ca-7a8b2c8a94e6",
   "metadata": {},
   "outputs": [],
   "source": []
  }
 ],
 "metadata": {
  "kernelspec": {
   "display_name": "Julia 1.8.0-DEV",
   "language": "julia",
   "name": "julia-1.8"
  },
  "language_info": {
   "file_extension": ".jl",
   "mimetype": "application/julia",
   "name": "julia",
   "version": "1.8.0"
  }
 },
 "nbformat": 4,
 "nbformat_minor": 5
}
