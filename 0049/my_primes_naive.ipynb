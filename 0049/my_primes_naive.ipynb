{
 "cells": [
  {
   "cell_type": "code",
   "execution_count": 1,
   "id": "4db04ec8-800a-4afc-a1d2-f20c2cc14cf8",
   "metadata": {},
   "outputs": [
    {
     "name": "stdout",
     "output_type": "stream",
     "text": [
      "$ cat CodeTest.c\n",
      "\n"
     ]
    },
    {
     "data": {
      "text/markdown": [
       "```C\n",
       "#include <stdio.h>\n",
       "#include <stdlib.h>\n",
       "#include <memory.h>\n",
       "#include <math.h>\n",
       "#include <time.h>\n",
       "/*\n",
       "#pragma warning(disable:6011)\n",
       "#pragma warning(disable:6385)\n",
       "#pragma warning(disable:6386)\n",
       "*/\n",
       "\n",
       "int main()\n",
       "{\n",
       "    int max, pnum = 0, pmax, i, j;\n",
       "    char* pSieve;\n",
       "    int* pPrime;\n",
       "    /*\n",
       "    printf(\"素数調査の最大数を入力してください (2以上の整数) \\n\");\n",
       "    do\n",
       "    {\n",
       "        scanf_s(\"%d\", &max);\n",
       "    } while (max < 2);\n",
       "    */\n",
       "    max = 1000000000;\n",
       "    printf(\"max = %d\\n\", max);\n",
       "    max++;\n",
       "    if (max < 10000)\n",
       "    {\n",
       "        pmax = max / 2;\n",
       "    }\n",
       "    else\n",
       "    {\n",
       "        pmax = max / log(max) * 1.2;\n",
       "    }\n",
       "    clock_t start = clock();\n",
       "    pSieve = malloc(sizeof (char) * max / 2);\n",
       "    if (!pSieve) exit(1);\n",
       "    pPrime = malloc(sizeof(int) * pmax);\n",
       "    if (!pPrime) exit(1);\n",
       "    memset(pSieve, 1, max / 2);\n",
       "    for (i =3; i * i < max; i += 2)\n",
       "    {\n",
       "        if (pSieve[i / 2])\n",
       "        {\n",
       "            for (j= i * i / 2; j< max / 2; j += i)\n",
       "            {\n",
       "                pSieve[j] = 0;\n",
       "            }\n",
       "        }\n",
       "    }\n",
       "    pPrime[0] = 2;\n",
       "    pnum++;\n",
       "    for (i = 1; i < max / 2; i++)\n",
       "    {\n",
       "        if (pSieve[i])\n",
       "        {\n",
       "            pPrime[pnum] = i*2+1;\n",
       "            pnum++;\n",
       "        }\n",
       "    }\n",
       "    clock_t t = clock() - start;\n",
       "    \n",
       "    printf(\"%ld.%ldsec\\n\", t / 1000, t % 1000);\n",
       "    printf(\"素数が%d個見つかりました\\n\", pnum);\n",
       "    free (pSieve);\n",
       "    free (pPrime);\n",
       "    return EXIT_SUCCESS;\n",
       "}\n",
       "\n",
       "```\n"
      ]
     },
     "metadata": {},
     "output_type": "display_data"
    },
    {
     "name": "stdout",
     "output_type": "stream",
     "text": [
      "\n",
      "$ gcc -Wall -O3 -march=native CodeTest.c -o CodeTest.exe\n",
      "\n",
      "$ ./CodeTest.exe\n",
      "max = 1000000000\n",
      "7.669sec\n",
      "素数が50847534個見つかりました\n",
      "\n",
      "$ ./CodeTest.exe\n",
      "max = 1000000000\n",
      "7.430sec\n",
      "素数が50847534個見つかりました\n",
      "\n",
      "$ ./CodeTest.exe\n",
      "max = 1000000000\n",
      "7.518sec\n",
      "素数が50847534個見つかりました\n"
     ]
    },
    {
     "data": {
      "text/plain": [
       "Process(`\u001b[4m./CodeTest.exe\u001b[24m`, ProcessExited(0))"
      ]
     },
     "execution_count": 1,
     "metadata": {},
     "output_type": "execute_result"
    }
   ],
   "source": [
    "# https://x.com/toku51n/status/1809063593704632457\n",
    "CodeTest_c = read(\"CodeTest.c\", String)\n",
    "println(\"\\$ cat CodeTest.c\\n\")\n",
    "display(\"text/markdown\", \"```C\\n\" * CodeTest_c * \"\\n```\\n\")\n",
    "println(\"\\n\\$ gcc -Wall -O3 -march=native CodeTest.c -o CodeTest.exe\")\n",
    "run(`gcc -Wall -O3 -march=native CodeTest.c -o CodeTest.exe`)\n",
    "println(\"\\n\\$ ./CodeTest.exe\")\n",
    "run(`./CodeTest.exe`)\n",
    "println(\"\\n\\$ ./CodeTest.exe\")\n",
    "run(`./CodeTest.exe`)\n",
    "println(\"\\n\\$ ./CodeTest.exe\")\n",
    "run(`./CodeTest.exe`)"
   ]
  },
  {
   "cell_type": "code",
   "execution_count": 2,
   "id": "78a2e2b9-7492-4591-99da-16c6ec0e863c",
   "metadata": {},
   "outputs": [
    {
     "name": "stdout",
     "output_type": "stream",
     "text": [
      "$ cat ideone_usLDXm.c\n",
      "\n"
     ]
    },
    {
     "data": {
      "text/markdown": [
       "```C\n",
       "#include <stdio.h>\n",
       "#include <stdlib.h>\n",
       "#include <memory.h>\n",
       "#include <math.h>\n",
       "#include <time.h>\n",
       "\n",
       "int main()\n",
       "{\n",
       "    int max, pnum = 0, pmax, i, j;\n",
       "    char* pSieve;\n",
       "    int* pPrime;\n",
       "    printf(\"素数調査の最大数を入力してください（2以上の整数）\\n\");\n",
       "    do\n",
       "    {\n",
       "        scanf(\"%d\", &max);\n",
       "    } while (max < 2);\n",
       "    clock_t start = clock();\n",
       "    max++;\n",
       "    if (max < 10000)\n",
       "    {\n",
       "        pmax = max / 2+1;\n",
       "    }\n",
       "    else\n",
       "    {\n",
       "        pmax = max / log(max) * 1.2;\n",
       "    }\n",
       "    pSieve = malloc(sizeof(char) * max / 2 + 16);\n",
       "    if (!pSieve) exit(1);\n",
       "    pPrime = malloc(sizeof(int) * pmax);\n",
       "    if (!pPrime) exit(1);\n",
       "    int* ipSieve = pSieve;\n",
       "    for (j = 0; j <= max / 8 ; j += 3)\n",
       "    {\n",
       "        ipSieve[j + 0] = 0x01010001;\n",
       "        ipSieve[j + 1] = 0x00010100;\n",
       "        ipSieve[j + 2] = 0x01000101;\n",
       "    }\n",
       "    pSieve[1] = 1;\n",
       "    clock_t lap1 = clock() - start;\n",
       "    for (i = 5; i * i < max; i+=2)\n",
       "    {\n",
       "        if (pSieve[i / 2])\n",
       "        {\n",
       "            j = i * i / 2;\n",
       "            pSieve[j] = 0;\n",
       "            j += i * (i % 3 - 1);\n",
       "            for (; j < max / 2 - i * 2; j += i)\n",
       "            {\n",
       "                pSieve[j] = 0;\n",
       "                j += i * 2;\n",
       "                pSieve[j] = 0;\n",
       "            }\n",
       "            if (j < max / 2)\n",
       "            {\n",
       "                pSieve[j] = 0;\n",
       "            }\n",
       "        }\n",
       "    }\n",
       "    clock_t lap2 = clock() - start;\n",
       "    pPrime[0] = 2;\n",
       "    pnum++;\n",
       "    for (i = 1; i < max / 2; i++)\n",
       "    {\n",
       "        pPrime[pnum] = i*2+1;\n",
       "        pnum+= pSieve[i];\n",
       "    }\n",
       "    clock_t lap3 = clock() - start;\n",
       "    \n",
       "    printf(\"%ld.%03ldsec\\n\", lap1 / 1000, lap1 % 1000);\n",
       "    printf(\"%ld.%03ldsec\\n\", lap2 / 1000, lap2 % 1000);\n",
       "    printf(\"%ld.%03ldsec\\n\", lap3 / 1000, lap3 % 1000);\n",
       "    printf(\"素数が%d個見つかりました\\n\", pnum);\n",
       "    free(pSieve);\n",
       "    free(pPrime);\n",
       "    return EXIT_SUCCESS;\n",
       "}\n",
       "\n",
       "```\n"
      ]
     },
     "metadata": {},
     "output_type": "display_data"
    },
    {
     "name": "stdout",
     "output_type": "stream",
     "text": [
      "\n",
      "$ gcc -Wall -O3 -march=native ideone_usLDXm.c -o ideone_usLDXm.exe\n"
     ]
    },
    {
     "name": "stderr",
     "output_type": "stream",
     "text": [
      "ideone_usLDXm.c: In function 'main':\n",
      "ideone_usLDXm.c:31:20: warning: initialization of 'int *' from incompatible pointer type 'char *' [-Wincompatible-pointer-types]\n",
      "   31 |     int* ipSieve = pSieve;\n",
      "      |                    ^~~~~~\n"
     ]
    },
    {
     "name": "stdout",
     "output_type": "stream",
     "text": [
      "\n",
      "$ echo 1000000000 | ./ideone_usLDXm.exe\n",
      "素数調査の最大数を入力してください（2以上の整数）\n",
      "0.113sec\n",
      "5.250sec\n",
      "5.517sec\n",
      "素数が50847534個見つかりました\n",
      "\n",
      "$ echo 1000000000 | ./ideone_usLDXm.exe\n",
      "素数調査の最大数を入力してください（2以上の整数）\n",
      "0.117sec\n",
      "5.152sec\n",
      "5.430sec\n",
      "素数が50847534個見つかりました\n",
      "\n",
      "$ echo 1000000000 | ./ideone_usLDXm.exe\n",
      "素数調査の最大数を入力してください（2以上の整数）\n",
      "0.123sec\n",
      "5.045sec\n",
      "5.309sec\n",
      "素数が50847534個見つかりました\n",
      "\n",
      "$ echo 2000000000 | ./ideone_usLDXm.exe\n",
      "素数調査の最大数を入力してください（2以上の整数）\n",
      "0.233sec\n",
      "10.581sec\n",
      "11.118sec\n",
      "素数が98222287個見つかりました\n",
      "\n",
      "$ echo 2000000000 | ./ideone_usLDXm.exe\n",
      "素数調査の最大数を入力してください（2以上の整数）\n",
      "0.229sec\n",
      "10.438sec\n",
      "10.965sec\n",
      "素数が98222287個見つかりました\n",
      "\n",
      "$ echo 2000000000 | ./ideone_usLDXm.exe\n",
      "素数調査の最大数を入力してください（2以上の整数）\n",
      "0.236sec\n",
      "10.433sec\n",
      "10.962sec\n",
      "素数が98222287個見つかりました\n"
     ]
    },
    {
     "data": {
      "text/plain": [
       "Base.ProcessChain(Base.Process[Process(`\u001b[4mecho\u001b[24m \u001b[4m2000000000\u001b[24m`, ProcessExited(0)), Process(`\u001b[4m./ideone_usLDXm.exe\u001b[24m`, ProcessExited(0))], Base.DevNull(), Base.DevNull(), Base.DevNull())"
      ]
     },
     "execution_count": 2,
     "metadata": {},
     "output_type": "execute_result"
    }
   ],
   "source": [
    "# https://x.com/toku51n/status/1809557670296449179\n",
    "ideone_usLDXm_c = read(\"ideone_usLDXm.c\", String)\n",
    "println(\"\\$ cat ideone_usLDXm.c\\n\")\n",
    "display(\"text/markdown\", \"```C\\n\" * ideone_usLDXm_c * \"\\n```\\n\")\n",
    "println(\"\\n\\$ gcc -Wall -O3 -march=native ideone_usLDXm.c -o ideone_usLDXm.exe\")\n",
    "run(`gcc -Wall -O3 -march=native ideone_usLDXm.c -o ideone_usLDXm.exe`)\n",
    "\n",
    "println(\"\\n\\$ echo 1000000000 | ./ideone_usLDXm.exe\")\n",
    "run(pipeline(`echo 1000000000`, `./ideone_usLDXm.exe`))\n",
    "println(\"\\n\\$ echo 1000000000 | ./ideone_usLDXm.exe\")\n",
    "run(pipeline(`echo 1000000000`, `./ideone_usLDXm.exe`))\n",
    "println(\"\\n\\$ echo 1000000000 | ./ideone_usLDXm.exe\")\n",
    "run(pipeline(`echo 1000000000`, `./ideone_usLDXm.exe`))\n",
    "\n",
    "println(\"\\n\\$ echo 2000000000 | ./ideone_usLDXm.exe\")\n",
    "run(pipeline(`echo 2000000000`, `./ideone_usLDXm.exe`))\n",
    "println(\"\\n\\$ echo 2000000000 | ./ideone_usLDXm.exe\")\n",
    "run(pipeline(`echo 2000000000`, `./ideone_usLDXm.exe`))\n",
    "println(\"\\n\\$ echo 2000000000 | ./ideone_usLDXm.exe\")\n",
    "run(pipeline(`echo 2000000000`, `./ideone_usLDXm.exe`))"
   ]
  },
  {
   "cell_type": "code",
   "execution_count": 3,
   "id": "14fb5fe5-7be0-41ae-9427-a764bbcbc0d0",
   "metadata": {},
   "outputs": [
    {
     "name": "stdout",
     "output_type": "stream",
     "text": [
      "  5.434845 seconds (5 allocations: 501.392 MiB, 0.87% gc time)\n",
      "  5.408793 seconds (5 allocations: 501.392 MiB)\n",
      "  5.419530 seconds (5 allocations: 501.392 MiB)\n",
      "length(My_primes) = 50847534\n",
      " 11.384251 seconds (5 allocations: 974.187 MiB)\n",
      " 11.721612 seconds (5 allocations: 974.187 MiB)\n",
      " 12.252541 seconds (5 allocations: 974.187 MiB)\n",
      "length(My_primes) = 98222287\n"
     ]
    }
   ],
   "source": [
    "# https://x.com/dc1394/status/1809778241525485747\n",
    "\n",
    "function my_primes_naive(limit)\n",
    "    smax = (limit - 1) ÷ 2\n",
    "    s2max = floor(Int, sqrt(smax)) + 1\n",
    "    pSieve = trues(smax)\n",
    "    @inbounds for i in 1:s2max\n",
    "        if pSieve[i]\n",
    "            for j in (2i*(i+1)):(2i+1):smax\n",
    "                pSieve[j] = false\n",
    "            end\n",
    "        end\n",
    "    end\n",
    "    pPrime = [2]\n",
    "    sizehint!(pPrime, round(Int, 1.2*limit/log(limit)))\n",
    "    @inbounds for i in 1:smax\n",
    "        if pSieve[i]\n",
    "            push!(pPrime, 2i + 1)\n",
    "        end\n",
    "    end\n",
    "    pPrime\n",
    "end\n",
    "\n",
    "my_primes_naive(100); # compile\n",
    "\n",
    "@time my_primes_naive(10^9);\n",
    "@time my_primes_naive(10^9);\n",
    "My_primes = @time my_primes_naive(10^9);\n",
    "@show length(My_primes);\n",
    "\n",
    "@time my_primes_naive(2*10^9);\n",
    "@time my_primes_naive(2*10^9);\n",
    "My_primes = @time my_primes_naive(2*10^9);\n",
    "@show length(My_primes);"
   ]
  },
  {
   "cell_type": "code",
   "execution_count": 4,
   "id": "ec19df1f-732b-40e1-9719-618b6c13925b",
   "metadata": {},
   "outputs": [
    {
     "name": "stdout",
     "output_type": "stream",
     "text": [
      "  4.351312 seconds (5 allocations: 643.503 MiB)\n",
      "  4.451281 seconds (5 allocations: 643.503 MiB, 0.97% gc time)\n",
      "  4.457305 seconds (5 allocations: 643.503 MiB, 1.73% gc time)\n",
      "length(My_primes) = 50847534\n",
      "  8.998100 seconds (5 allocations: 1.231 GiB, 0.30% gc time)\n",
      "  9.351234 seconds (5 allocations: 1.231 GiB, 1.06% gc time)\n",
      "  9.073681 seconds (5 allocations: 1.231 GiB, 0.53% gc time)\n",
      "length(My_primes) = 98222287\n"
     ]
    }
   ],
   "source": [
    "using Primes\n",
    "\n",
    "primes(100); # compile\n",
    "\n",
    "@time primes(10^9);\n",
    "@time primes(10^9);\n",
    "My_primes = @time primes(10^9);\n",
    "@show length(My_primes);\n",
    "\n",
    "@time primes(2*10^9);\n",
    "@time primes(2*10^9);\n",
    "My_primes = @time primes(2*10^9);\n",
    "@show length(My_primes);"
   ]
  },
  {
   "cell_type": "code",
   "execution_count": 5,
   "id": "08a85a2b-7ddc-40b7-a788-aaf1bbd1231d",
   "metadata": {},
   "outputs": [
    {
     "name": "stdout",
     "output_type": "stream",
     "text": [
      "  4.302334 seconds (5 allocations: 420.979 MiB, 1.03% gc time)\n",
      "  4.184291 seconds (5 allocations: 420.979 MiB)\n",
      "  4.278623 seconds (5 allocations: 420.979 MiB, 1.76% gc time)\n",
      "length(My_primes) = 50847534\n",
      "  8.952208 seconds (5 allocations: 815.376 MiB, 0.22% gc time)\n",
      "  8.976325 seconds (5 allocations: 815.376 MiB, 0.94% gc time)\n",
      "  8.796468 seconds (5 allocations: 815.376 MiB)\n",
      "length(My_primes) = 98222287\n"
     ]
    }
   ],
   "source": [
    "using BenchmarkTools\n",
    "using Primes\n",
    "using Primes: wheel, wheel_index, wheel_prime\n",
    "\n",
    "function _primesmask_BitVector(limit::Int)\n",
    "    limit < 7 && throw(ArgumentError(\"The condition limit ≥ 7 must be met.\"))\n",
    "    n = wheel_index(limit)\n",
    "    m = wheel_prime(n)\n",
    "    sieve = trues(n)\n",
    "    @inbounds for i = 1:wheel_index(isqrt(limit))\n",
    "        if sieve[i]\n",
    "            p = wheel_prime(i)\n",
    "            q = p^2\n",
    "            j = (i - 1) & 7 + 1\n",
    "            while q ≤ m\n",
    "                sieve[wheel_index(q)] = false\n",
    "                q += wheel[j] * p\n",
    "                j = j & 7 + 1\n",
    "            end\n",
    "        end\n",
    "    end\n",
    "    return sieve\n",
    "end\n",
    "\n",
    "function my_primes(n)\n",
    "    list = [2, 3, 5]\n",
    "    lo, hi = 2, n\n",
    "    # http://projecteuclid.org/euclid.rmjm/1181070157\n",
    "    sizehint!(list, 5 + floor(Int, hi / (log(hi) - 1.12) - lo / (log(lo) - 1.12 * (lo > 7))))\n",
    "    sieve = _primesmask_BitVector(n)\n",
    "    @inbounds for i = 1:length(sieve)   # don't use eachindex here\n",
    "        sieve[i] && push!(list, wheel_prime(i))\n",
    "    end\n",
    "    list\n",
    "end\n",
    "\n",
    "my_primes(100); # compile\n",
    "\n",
    "@time my_primes(10^9);\n",
    "@time my_primes(10^9);\n",
    "My_primes = @time my_primes(10^9);\n",
    "@show length(My_primes);\n",
    "\n",
    "@time my_primes(2*10^9);\n",
    "@time my_primes(2*10^9);\n",
    "My_primes = @time my_primes(2*10^9);\\\n",
    "@show length(My_primes);"
   ]
  },
  {
   "cell_type": "code",
   "execution_count": 6,
   "id": "5d8935aa-6d55-4d7d-8eb7-1c9bee541b8f",
   "metadata": {},
   "outputs": [
    {
     "name": "stdout",
     "output_type": "stream",
     "text": [
      "--- ideone_usLDXm.c.orig\t2024-07-06 21:10:56.363589700 +0900\n",
      "+++ ideone_usLDXm.c\t2024-07-06 22:08:20.911785600 +0900\n",
      "@@ -6,7 +6,7 @@\n",
      " \n",
      " int main()\n",
      " {\n",
      "-    int max, pnum = 0, pmax, i, j, num = 0;\n",
      "+    int max, pnum = 0, pmax, i, j;\n",
      "     char* pSieve;\n",
      "     int* pPrime;\n",
      "     printf(\"素数調査の最大数を入力してください（2以上の整数）\\n\");\n",
      "@@ -66,9 +66,9 @@\n",
      "     }\n",
      "     clock_t lap3 = clock() - start;\n",
      "     \n",
      "-    printf(\"%d.%03dsec\\n\", lap1 / 1000, lap1 % 1000);\n",
      "-    printf(\"%d.%03dsec\\n\", lap2 / 1000, lap2 % 1000);\n",
      "-    printf(\"%d.%03dsec\\n\", lap3 / 1000, lap3 % 1000);\n",
      "+    printf(\"%ld.%03ldsec\\n\", lap1 / 1000, lap1 % 1000);\n",
      "+    printf(\"%ld.%03ldsec\\n\", lap2 / 1000, lap2 % 1000);\n",
      "+    printf(\"%ld.%03ldsec\\n\", lap3 / 1000, lap3 % 1000);\n",
      "     printf(\"素数が%d個見つかりました\\n\", pnum);\n",
      "     free(pSieve);\n",
      "     free(pPrime);\n"
     ]
    }
   ],
   "source": [
    ";\"c:/Program Files/Git/usr/bin/diff\" -u ideone_usLDXm.c.orig ideone_usLDXm.c"
   ]
  },
  {
   "cell_type": "code",
   "execution_count": 7,
   "id": "75298888-b993-476c-8d56-1047fc00809d",
   "metadata": {},
   "outputs": [
    {
     "name": "stdout",
     "output_type": "stream",
     "text": [
      "gcc (Rev3, Built by MSYS2 project) 13.2.0\n",
      "Copyright (C) 2023 Free Software Foundation, Inc.\n",
      "This is free software; see the source for copying conditions.  There is NO\n",
      "warranty; not even for MERCHANTABILITY or FITNESS FOR A PARTICULAR PURPOSE.\n",
      "\n"
     ]
    }
   ],
   "source": [
    "; gcc --version"
   ]
  },
  {
   "cell_type": "code",
   "execution_count": 8,
   "id": "5e659319-444e-42da-8a01-7c405e942652",
   "metadata": {},
   "outputs": [
    {
     "name": "stdout",
     "output_type": "stream",
     "text": [
      "Julia Version 1.10.4\n",
      "Commit 48d4fd4843 (2024-06-04 10:41 UTC)\n",
      "Build Info:\n",
      "  Official https://julialang.org/ release\n",
      "Platform Info:\n",
      "  OS: Windows (x86_64-w64-mingw32)\n",
      "  CPU: 12 × Intel(R) Core(TM) i7-10750H CPU @ 2.60GHz\n",
      "  WORD_SIZE: 64\n",
      "  LIBM: libopenlibm\n",
      "  LLVM: libLLVM-15.0.7 (ORCJIT, skylake)\n",
      "Threads: 12 default, 0 interactive, 6 GC (on 12 virtual cores)\n",
      "Environment:\n",
      "  JULIA_DEPOT_PATH = D:\\.julia\n",
      "  JULIA_NUM_PRECOMPILE_TASKS = 4\n",
      "  JULIA_NUM_THREADS = 12\n",
      "  JULIA_PYTHONCALL_EXE = D:\\.julia\\conda\\3\\python.exe\n"
     ]
    }
   ],
   "source": [
    "versioninfo()"
   ]
  },
  {
   "cell_type": "code",
   "execution_count": 9,
   "id": "1c5ffcb5-c7d0-412a-9a09-9d8c7bd72996",
   "metadata": {},
   "outputs": [
    {
     "name": "stdout",
     "output_type": "stream",
     "text": [
      " 62.966608 seconds (5 allocations: 4.465 GiB, 0.09% gc time)\n",
      " 49.931619 seconds (5 allocations: 5.885 GiB, 0.22% gc time)\n",
      "A == B = true\n"
     ]
    },
    {
     "data": {
      "text/plain": [
       "455052511"
      ]
     },
     "execution_count": 9,
     "metadata": {},
     "output_type": "execute_result"
    }
   ],
   "source": [
    "N = 10^10\n",
    "A = @time my_primes_naive(N);\n",
    "B = @time Primes.primes(N);\n",
    "@show A == B;\n",
    "length(A)"
   ]
  },
  {
   "cell_type": "code",
   "execution_count": 10,
   "id": "8c535e11-330a-4998-bf32-ee844ea4cc47",
   "metadata": {},
   "outputs": [
    {
     "name": "stdout",
     "output_type": "stream",
     "text": [
      " 51.839958 seconds (5 allocations: 3.712 GiB, 1.91% gc time)\n"
     ]
    },
    {
     "data": {
      "text/plain": [
       "455052511"
      ]
     },
     "execution_count": 10,
     "metadata": {},
     "output_type": "execute_result"
    }
   ],
   "source": [
    "length(@time my_primes(N))"
   ]
  },
  {
   "cell_type": "code",
   "execution_count": null,
   "id": "b06c151a-1b09-41b3-b74a-43b55a1c2341",
   "metadata": {},
   "outputs": [],
   "source": []
  }
 ],
 "metadata": {
  "jupytext": {
   "encoding": "# -*- coding: utf-8 -*-",
   "formats": "ipynb,jl:hydrogen"
  },
  "kernelspec": {
   "display_name": "Julia 1.10.4",
   "language": "julia",
   "name": "julia-1.10"
  },
  "language_info": {
   "file_extension": ".jl",
   "mimetype": "application/julia",
   "name": "julia",
   "version": "1.10.4"
  }
 },
 "nbformat": 4,
 "nbformat_minor": 5
}
