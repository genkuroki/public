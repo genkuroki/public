{
 "cells": [
  {
   "cell_type": "markdown",
   "id": "e521f9f4-c5dc-4aa4-b195-75caa99c2889",
   "metadata": {},
   "source": [
    "cf. https://x.com/toku51n/status/1809063593704632457"
   ]
  },
  {
   "cell_type": "code",
   "execution_count": 1,
   "id": "4db04ec8-800a-4afc-a1d2-f20c2cc14cf8",
   "metadata": {},
   "outputs": [
    {
     "name": "stdout",
     "output_type": "stream",
     "text": [
      "$ cat CodeTest.c\n",
      "\n"
     ]
    },
    {
     "data": {
      "text/markdown": [
       "```C\n",
       "#include <stdio.h>\n",
       "#include <stdlib.h>\n",
       "#include <memory.h>\n",
       "#include <math.h>\n",
       "#include <time.h>\n",
       "/*\n",
       "#pragma warning(disable:6011)\n",
       "#pragma warning(disable:6385)\n",
       "#pragma warning(disable:6386)\n",
       "*/\n",
       "\n",
       "int main()\n",
       "{\n",
       "    int max, pnum = 0, pmax, i, j;\n",
       "    char* pSieve;\n",
       "    int* pPrime;\n",
       "    /*\n",
       "    printf(\"素数調査の最大数を入力してください (2以上の整数) \\n\");\n",
       "    do\n",
       "    {\n",
       "        scanf_s(\"%d\", &max);\n",
       "    } while (max < 2);\n",
       "    */\n",
       "    max = 1000000000;\n",
       "    printf(\"max = %d\\n\", max);\n",
       "    max++;\n",
       "    if (max < 10000)\n",
       "    {\n",
       "        pmax = max / 2;\n",
       "    }\n",
       "    else\n",
       "    {\n",
       "        pmax = max / log(max) * 1.2;\n",
       "    }\n",
       "    clock_t start = clock();\n",
       "    pSieve = malloc(sizeof (char) * max / 2);\n",
       "    if (!pSieve) exit(1);\n",
       "    pPrime = malloc(sizeof(int) * pmax);\n",
       "    if (!pPrime) exit(1);\n",
       "    memset(pSieve, 1, max / 2);\n",
       "    for (i =3; i * i < max; i += 2)\n",
       "    {\n",
       "        if (pSieve[i / 2])\n",
       "        {\n",
       "            for (j= i * i / 2; j< max / 2; j += i)\n",
       "            {\n",
       "                pSieve[j] = 0;\n",
       "            }\n",
       "        }\n",
       "    }\n",
       "    pPrime[0] = 2;\n",
       "    pnum++;\n",
       "    for (i = 1; i < max / 2; i++)\n",
       "    {\n",
       "        if (pSieve[i])\n",
       "        {\n",
       "            pPrime[pnum] = i*2+1;\n",
       "            pnum++;\n",
       "        }\n",
       "    }\n",
       "    clock_t t = clock() - start;\n",
       "    \n",
       "    printf(\"%ld.%ldsec\\n\", t / 1000, t % 1000);\n",
       "    printf(\"素数が%d個見つかりました\\n\", pnum);\n",
       "    free (pSieve);\n",
       "    free (pPrime);\n",
       "    return EXIT_SUCCESS;\n",
       "}\n",
       "\n",
       "```\n"
      ]
     },
     "metadata": {},
     "output_type": "display_data"
    },
    {
     "name": "stdout",
     "output_type": "stream",
     "text": [
      "\n",
      "$ gcc -Wall -O3 -march=native CodeTest.c -o CodeTest.exe\n",
      "\n",
      "$ ./CodeTest.exe\n",
      "max = 1000000000\n",
      "9.36sec\n",
      "素数が50847534個見つかりました\n"
     ]
    },
    {
     "data": {
      "text/plain": [
       "Process(`\u001b[4m./CodeTest.exe\u001b[24m`, ProcessExited(0))"
      ]
     },
     "execution_count": 1,
     "metadata": {},
     "output_type": "execute_result"
    }
   ],
   "source": [
    "# https://x.com/toku51n/status/1809063593704632457\n",
    "CodeTest_c = read(\"CodeTest.c\", String)\n",
    "println(\"\\$ cat CodeTest.c\\n\")\n",
    "display(\"text/markdown\", \"```C\\n\" * CodeTest_c * \"\\n```\\n\")\n",
    "println(\"\\n\\$ gcc -Wall -O3 -march=native CodeTest.c -o CodeTest.exe\")\n",
    "run(`gcc -Wall -O3 -march=native CodeTest.c -o CodeTest.exe`)\n",
    "println(\"\\n\\$ ./CodeTest.exe\")\n",
    "run(`./CodeTest.exe`)"
   ]
  },
  {
   "cell_type": "code",
   "execution_count": 2,
   "id": "64040d30-863a-42f9-90a5-c87f055f9149",
   "metadata": {},
   "outputs": [
    {
     "name": "stdout",
     "output_type": "stream",
     "text": [
      "  7.317264 seconds (5 allocations: 501.392 MiB, 0.45% gc time)\n"
     ]
    },
    {
     "data": {
      "text/plain": [
       "50847534"
      ]
     },
     "execution_count": 2,
     "metadata": {},
     "output_type": "execute_result"
    }
   ],
   "source": [
    "function my_primes_naive(limit)\n",
    "    smax = (limit - 1) ÷ 2\n",
    "    pSieve = trues(smax)\n",
    "    @inbounds for i in 1:smax\n",
    "        if pSieve[i]\n",
    "            for j in (2i*(i+1)):(2i+1):smax\n",
    "                pSieve[j] = false\n",
    "            end\n",
    "        end\n",
    "    end\n",
    "    pPrime = [2]\n",
    "    sizehint!(pPrime, round(Int, 1.2*limit/log(limit)))\n",
    "    @inbounds for i in 1:smax\n",
    "        if pSieve[i]\n",
    "            push!(pPrime, 2i + 1)\n",
    "        end\n",
    "    end\n",
    "    pPrime\n",
    "end\n",
    "\n",
    "@time My_primes_naive = my_primes_naive(10^9)\n",
    "length(My_primes_naive)"
   ]
  },
  {
   "cell_type": "code",
   "execution_count": 3,
   "id": "ec19df1f-732b-40e1-9719-618b6c13925b",
   "metadata": {},
   "outputs": [
    {
     "name": "stdout",
     "output_type": "stream",
     "text": [
      "  5.004105 seconds (5 allocations: 643.503 MiB, 1.29% gc time)\n"
     ]
    },
    {
     "data": {
      "text/plain": [
       "50847534"
      ]
     },
     "execution_count": 3,
     "metadata": {},
     "output_type": "execute_result"
    }
   ],
   "source": [
    "using Primes\n",
    "\n",
    "@time My_primes = primes(10^9)\n",
    "length(My_primes)"
   ]
  },
  {
   "cell_type": "code",
   "execution_count": null,
   "id": "c9442c42-84ce-4198-b437-344893d2b25f",
   "metadata": {},
   "outputs": [],
   "source": []
  }
 ],
 "metadata": {
  "jupytext": {
   "formats": "ipynb,jl:hydrogen"
  },
  "kernelspec": {
   "display_name": "Julia 1.10.4",
   "language": "julia",
   "name": "julia-1.10"
  },
  "language_info": {
   "file_extension": ".jl",
   "mimetype": "application/julia",
   "name": "julia",
   "version": "1.10.4"
  }
 },
 "nbformat": 4,
 "nbformat_minor": 5
}
