{
 "cells": [
  {
   "cell_type": "markdown",
   "id": "df6cbc88-de28-4c70-a062-638de9adbf31",
   "metadata": {},
   "source": [
    "https://x.com/reel_47/status/1810901570571386994\n",
    "\n",
    "<img src=\"IMG_4974.png\" width=70%>"
   ]
  },
  {
   "cell_type": "code",
   "execution_count": 1,
   "id": "359d980c-3ac2-468c-8b54-8e0db6768dfe",
   "metadata": {},
   "outputs": [
    {
     "name": "stdout",
     "output_type": "stream",
     "text": [
      "(mean(Red), std(Red)) = (92.44444444444444, 127.12996412245926)\n",
      "(mean(Gold), std(Gold)) = (47.473684210526315, 42.72309864575295)\n"
     ]
    },
    {
     "data": {
      "text/plain": [
       "Two sample t-test (unequal variance)\n",
       "------------------------------------\n",
       "Population details:\n",
       "    parameter of interest:   Mean difference\n",
       "    value under h_0:         0\n",
       "    point estimate:          44.9708\n",
       "    95% confidence interval: (-53.65, 143.6)\n",
       "\n",
       "Test summary:\n",
       "    outcome with 95% confidence: fail to reject h_0\n",
       "    two-sided p-value:           0.3285\n",
       "\n",
       "Details:\n",
       "    number of observations:   [9,19]\n",
       "    t-statistic:              1.0339205904513213\n",
       "    degrees of freedom:       8.867546166168912\n",
       "    empirical standard error: 43.49537154907394\n"
      ]
     },
     "execution_count": 1,
     "metadata": {},
     "output_type": "execute_result"
    }
   ],
   "source": [
    "using Distributions\n",
    "using HypothesisTests\n",
    "\n",
    "Red = [18, 22, 81, 45, 14, 31, 37, 183, 401]\n",
    "Gold = [11, 73, 14, 18, 71, 25, 15, 2, 77, 24, 114, 26, 17, 11, 159, 25, 47, 78, 95]\n",
    "\n",
    "@show mean(Red), std(Red)\n",
    "@show mean(Gold), std(Gold)\n",
    "UnequalVarianceTTest(Red, Gold)"
   ]
  },
  {
   "cell_type": "code",
   "execution_count": 2,
   "id": "c5e2b19c-be6c-4ed8-ba2f-bd62da50daf0",
   "metadata": {},
   "outputs": [
    {
     "data": {
      "text/plain": [
       "Exact Mann-Whitney U test\n",
       "-------------------------\n",
       "Population details:\n",
       "    parameter of interest:   Location parameter (pseudomedian)\n",
       "    value under h_0:         0\n",
       "    point estimate:          12.0\n",
       "\n",
       "Test summary:\n",
       "    outcome with 95% confidence: fail to reject h_0\n",
       "    two-sided p-value:           0.3760\n",
       "\n",
       "Details:\n",
       "    number of observations in each group: [9, 19]\n",
       "    Mann-Whitney-U statistic:             104.0\n",
       "    rank sums:                            [149.0, 257.0]\n",
       "    adjustment for ties:                  24.0\n"
      ]
     },
     "execution_count": 2,
     "metadata": {},
     "output_type": "execute_result"
    }
   ],
   "source": [
    "ExactMannWhitneyUTest(Red, Gold)"
   ]
  },
  {
   "cell_type": "code",
   "execution_count": 3,
   "id": "53834174-32a9-4b4b-a6d4-562557fe8719",
   "metadata": {},
   "outputs": [
    {
     "data": {
      "text/plain": [
       "Approximate Mann-Whitney U test\n",
       "-------------------------------\n",
       "Population details:\n",
       "    parameter of interest:   Location parameter (pseudomedian)\n",
       "    value under h_0:         0\n",
       "    point estimate:          12.0\n",
       "\n",
       "Test summary:\n",
       "    outcome with 95% confidence: fail to reject h_0\n",
       "    two-sided p-value:           0.3757\n",
       "\n",
       "Details:\n",
       "    number of observations in each group: [9, 19]\n",
       "    Mann-Whitney-U statistic:             104.0\n",
       "    rank sums:                            [149.0, 257.0]\n",
       "    adjustment for ties:                  24.0\n",
       "    normal approximation (μ, σ):          (18.5, 20.3174)\n"
      ]
     },
     "execution_count": 3,
     "metadata": {},
     "output_type": "execute_result"
    }
   ],
   "source": [
    "ApproximateMannWhitneyUTest(Red, Gold)"
   ]
  },
  {
   "cell_type": "code",
   "execution_count": 4,
   "id": "d4b8588c-c2e8-4be8-aa40-65ca0e3af820",
   "metadata": {},
   "outputs": [
    {
     "data": {
      "text/plain": [
       "Dict{Symbol, Float64} with 6 entries:\n",
       "  :p      => 0.5\n",
       "  :df     => 16.3103\n",
       "  :phat   => 0.391813\n",
       "  :sehat  => 0.118641\n",
       "  :tvalue => -0.911883\n",
       "  :pvalue => 0.375112"
      ]
     },
     "execution_count": 4,
     "metadata": {},
     "output_type": "execute_result"
    }
   ],
   "source": [
    "function brunner_munzel_test(X, Y; p=1/2)\n",
    "    m, n = length(X), length(Y)\n",
    "    phat = mean((x < y) + (x == y)/2 for x in X, y in Y)\n",
    "    Hbarx = n*(1 - phat)\n",
    "    Hbary = m*phat\n",
    "    sx2 = 1/n^2 * 1/(m-1) * sum(x -> (sum((y < x) + (y == x)/2 for y in Y) - Hbarx)^2, X)\n",
    "    sy2 = 1/m^2 * 1/(n-1) * sum(y -> (sum((x < y) + (x == y)/2 for x in X) - Hbary)^2, Y)\n",
    "    sehat = √(sx2/m + sy2/n)\n",
    "    tvalue = (phat - p)/sehat\n",
    "    df = (sx2/m + sy2/n)^2 / ((sx2/m)^2/(m-1) + (sy2/n)^2/(n-1))\n",
    "    pvalue = sehat > 0 ? 2ccdf(TDist(df), abs(tvalue)) : phat ≈ p ? 1.0 : 0.0\n",
    "    (; phat, sehat, tvalue, df, pvalue, p)\n",
    "end\n",
    "\n",
    "brunner_munzel_test(Red, Gold) |> pairs |> Dict"
   ]
  },
  {
   "cell_type": "code",
   "execution_count": null,
   "id": "bdcb20a1-9294-4a57-95a6-d15149728b5a",
   "metadata": {},
   "outputs": [],
   "source": []
  }
 ],
 "metadata": {
  "jupytext": {
   "formats": "ipynb,jl:hydrogen"
  },
  "kernelspec": {
   "display_name": "Julia 1.10.4",
   "language": "julia",
   "name": "julia-1.10"
  },
  "language_info": {
   "file_extension": ".jl",
   "mimetype": "application/julia",
   "name": "julia",
   "version": "1.10.4"
  }
 },
 "nbformat": 4,
 "nbformat_minor": 5
}
