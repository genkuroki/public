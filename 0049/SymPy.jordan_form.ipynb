{
 "cells": [
  {
   "cell_type": "code",
   "execution_count": 1,
   "id": "5ed3607e-6408-476b-b8cb-182239ed13be",
   "metadata": {},
   "outputs": [
    {
     "data": {
      "text/latex": [
       "$\\left[\\begin{smallmatrix}4 & 1 & 5 & 0\\\\-3 & 0 & -3 & 1\\\\2 & 0 & 1 & 0\\\\-1 & 0 & 1 & 0\\end{smallmatrix}\\right]$"
      ],
      "text/plain": [
       "4×4 Matrix{Sym{PyCall.PyObject}}:\n",
       "  4  1   5  0\n",
       " -3  0  -3  1\n",
       "  2  0   1  0\n",
       " -1  0   1  0"
      ]
     },
     "metadata": {},
     "output_type": "display_data"
    },
    {
     "data": {
      "text/latex": [
       "$\\left[\\begin{smallmatrix}2 & 1 & 0 & 0\\\\0 & 2 & 0 & 0\\\\0 & 0 & 2 & 1\\\\0 & 0 & 0 & 2\\end{smallmatrix}\\right]$"
      ],
      "text/plain": [
       "4×4 Matrix{Sym{PyCall.PyObject}}:\n",
       " 2  1  0  0\n",
       " 0  2  0  0\n",
       " 0  0  2  1\n",
       " 0  0  0  2"
      ]
     },
     "metadata": {},
     "output_type": "display_data"
    },
    {
     "data": {
      "text/latex": [
       "$\\left[\\begin{smallmatrix}6 & 5 & -2 & -3\\\\-3 & -1 & 3 & 3\\\\2 & 1 & -2 & -3\\\\-1 & 1 & 5 & 5\\end{smallmatrix}\\right]$"
      ],
      "text/plain": [
       "4×4 Matrix{Sym{PyCall.PyObject}}:\n",
       "  6   5  -2  -3\n",
       " -3  -1   3   3\n",
       "  2   1  -2  -3\n",
       " -1   1   5   5"
      ]
     },
     "execution_count": 1,
     "metadata": {},
     "output_type": "execute_result"
    }
   ],
   "source": [
    "using SymPy\n",
    "\n",
    "M = Sym[\n",
    "     6  5 -2 -3\n",
    "    -3 -1  3  3\n",
    "     2  1 -2 -3\n",
    "    -1  1  5  5\n",
    "]\n",
    "P, J = M.jordan_form()\n",
    "display(P)\n",
    "display(J)\n",
    "P*J/P"
   ]
  },
  {
   "cell_type": "code",
   "execution_count": 2,
   "id": "fe2d84dc-187d-413e-a794-23107ac92154",
   "metadata": {},
   "outputs": [
    {
     "data": {
      "text/plain": [
       "4×4 Matrix{Rational{Int64}}:\n",
       "  4  1   5  0\n",
       " -3  0  -3  1\n",
       "  2  0   1  0\n",
       " -1  0   1  0"
      ]
     },
     "metadata": {},
     "output_type": "display_data"
    },
    {
     "data": {
      "text/plain": [
       "4×4 Matrix{Int64}:\n",
       " 2  1  0  0\n",
       " 0  2  0  0\n",
       " 0  0  2  1\n",
       " 0  0  0  2"
      ]
     },
     "metadata": {},
     "output_type": "display_data"
    },
    {
     "data": {
      "text/plain": [
       "4×4 Matrix{Rational{Int64}}:\n",
       "  6   5  -2  -3\n",
       " -3  -1   3   3\n",
       "  2   1  -2  -3\n",
       " -1   1   5   5"
      ]
     },
     "execution_count": 2,
     "metadata": {},
     "output_type": "execute_result"
    }
   ],
   "source": [
    "Q = Rational.(Int.(P))\n",
    "K = Int.(J)\n",
    "display(Q)\n",
    "display(K)\n",
    "Q*K/Q"
   ]
  },
  {
   "cell_type": "code",
   "execution_count": null,
   "id": "67869499-a5e4-4c10-8b5f-74b5ab75db1d",
   "metadata": {},
   "outputs": [],
   "source": []
  }
 ],
 "metadata": {
  "jupytext": {
   "formats": "ipynb,jl:hydrogen"
  },
  "kernelspec": {
   "display_name": "Julia 1.10.4",
   "language": "julia",
   "name": "julia-1.10"
  },
  "language_info": {
   "file_extension": ".jl",
   "mimetype": "application/julia",
   "name": "julia",
   "version": "1.10.4"
  }
 },
 "nbformat": 4,
 "nbformat_minor": 5
}
