{
 "cells": [
  {
   "cell_type": "markdown",
   "id": "19b5a41f-08f3-476d-a1ab-67db87d9922f",
   "metadata": {},
   "source": [
    "次のセルのコードは\n",
    "\n",
    "* https://github.com/JuliaMath/Primes.jl/blob/master/src/Primes.jl\n",
    "\n",
    "のコードのBitVector版である。一般にVector{Bool}版よりもBitVector版の方が計算は遅くなる。"
   ]
  },
  {
   "cell_type": "code",
   "execution_count": 1,
   "id": "82dd6e9d-d002-4ab1-a00d-94c4543fd968",
   "metadata": {},
   "outputs": [
    {
     "name": "stdout",
     "output_type": "stream",
     "text": [
      "_primesmask_BitVector(100) = Bool[1, 1, 1, 1, 1, 1, 1, 1, 1, 1, 1, 1, 0, 1, 1, 1, 1, 1, 1, 0, 1, 1, 1, 0, 1]\n",
      "my_primes(100) = [2, 3, 5, 7, 11, 13, 17, 19, 23, 29, 31, 37, 41, 43, 47, 53, 59, 61, 67, 71, 73, 79, 83, 89, 97]\n"
     ]
    }
   ],
   "source": [
    "using Primes\n",
    "using Primes: wheel, wheel_index, wheel_prime\n",
    "\n",
    "function _primesmask_BitVector(limit::Int)\n",
    "    limit < 7 && throw(ArgumentError(\"The condition limit ≥ 7 must be met.\"))\n",
    "    n = wheel_index(limit)\n",
    "    m = wheel_prime(n)\n",
    "    sieve = trues(n)\n",
    "    @inbounds for i = 1:wheel_index(isqrt(limit))\n",
    "        if sieve[i]\n",
    "            p = wheel_prime(i)\n",
    "            q = p^2\n",
    "            j = (i - 1) & 7 + 1\n",
    "            while q ≤ m\n",
    "                sieve[wheel_index(q)] = false\n",
    "                q += wheel[j] * p\n",
    "                j = j & 7 + 1\n",
    "            end\n",
    "        end\n",
    "    end\n",
    "    return sieve\n",
    "end\n",
    "\n",
    "function my_primes(n)\n",
    "    list = [2, 3, 5]\n",
    "    lo, hi = 2, n\n",
    "    # http://projecteuclid.org/euclid.rmjm/1181070157\n",
    "    sizehint!(list, 5 + floor(Int, hi / (log(hi) - 1.12) - lo / (log(lo) - 1.12 * (lo > 7))))\n",
    "    sieve = _primesmask_BitVector(n)\n",
    "    @inbounds for i = 1:length(sieve)   # don't use eachindex here\n",
    "        sieve[i] && push!(list, wheel_prime(i))\n",
    "    end\n",
    "    list\n",
    "end\n",
    "\n",
    "@show _primesmask_BitVector(100)\n",
    "@show my_primes(100);"
   ]
  },
  {
   "cell_type": "code",
   "execution_count": 2,
   "id": "2f4233e6-f21e-461f-ab8b-b0e40dd301e6",
   "metadata": {},
   "outputs": [
    {
     "data": {
      "text/plain": [
       "BitVector\u001b[90m (alias for \u001b[39m\u001b[90mBitArray{1}\u001b[39m\u001b[90m)\u001b[39m"
      ]
     },
     "execution_count": 2,
     "metadata": {},
     "output_type": "execute_result"
    }
   ],
   "source": [
    "typeof(_primesmask_BitVector(100))"
   ]
  },
  {
   "cell_type": "code",
   "execution_count": 3,
   "id": "082ac1d9-7d80-4090-b880-18a0028efaaf",
   "metadata": {},
   "outputs": [
    {
     "data": {
      "text/plain": [
       "Vector{Bool}\u001b[90m (alias for \u001b[39m\u001b[90mArray{Bool, 1}\u001b[39m\u001b[90m)\u001b[39m"
      ]
     },
     "execution_count": 3,
     "metadata": {},
     "output_type": "execute_result"
    }
   ],
   "source": [
    "typeof(Primes._primesmask(100))"
   ]
  },
  {
   "cell_type": "code",
   "execution_count": 4,
   "id": "9dd5a8a1-7ec4-401d-a110-60b7f9c60402",
   "metadata": {},
   "outputs": [
    {
     "data": {
      "text/plain": [
       "true"
      ]
     },
     "execution_count": 4,
     "metadata": {},
     "output_type": "execute_result"
    }
   ],
   "source": [
    "_primesmask_BitVector(10^6) == Primes._primesmask(10^6)"
   ]
  },
  {
   "cell_type": "code",
   "execution_count": 5,
   "id": "986a94aa-534f-42df-b5ae-8d5270e9f31b",
   "metadata": {},
   "outputs": [
    {
     "data": {
      "text/plain": [
       "true"
      ]
     },
     "execution_count": 5,
     "metadata": {},
     "output_type": "execute_result"
    }
   ],
   "source": [
    "my_primes(10^6) == primes(10^6)"
   ]
  },
  {
   "cell_type": "code",
   "execution_count": 6,
   "id": "4a57ad12-9b4c-4e2a-9092-1702f522cd40",
   "metadata": {},
   "outputs": [
    {
     "name": "stdout",
     "output_type": "stream",
     "text": [
      "  3.786417 seconds (3 allocations: 31.789 MiB, 0.75% gc time)\n"
     ]
    },
    {
     "data": {
      "text/plain": [
       "266666665-element BitVector:\n",
       " 1\n",
       " 1\n",
       " 1\n",
       " 1\n",
       " 1\n",
       " 1\n",
       " 1\n",
       " 1\n",
       " 1\n",
       " 1\n",
       " 1\n",
       " 1\n",
       " 0\n",
       " ⋮\n",
       " 0\n",
       " 0\n",
       " 0\n",
       " 0\n",
       " 0\n",
       " 0\n",
       " 0\n",
       " 0\n",
       " 0\n",
       " 0\n",
       " 0\n",
       " 0"
      ]
     },
     "execution_count": 6,
     "metadata": {},
     "output_type": "execute_result"
    }
   ],
   "source": [
    "@time S_BitVector = _primesmask_BitVector(10^9)"
   ]
  },
  {
   "cell_type": "code",
   "execution_count": 7,
   "id": "1864da49-aa63-43ea-8b67-00e57e41435c",
   "metadata": {},
   "outputs": [
    {
     "name": "stdout",
     "output_type": "stream",
     "text": [
      "  4.081141 seconds (2 allocations: 254.313 MiB, 0.27% gc time)\n"
     ]
    },
    {
     "data": {
      "text/plain": [
       "266666665-element Vector{Bool}:\n",
       " 1\n",
       " 1\n",
       " 1\n",
       " 1\n",
       " 1\n",
       " 1\n",
       " 1\n",
       " 1\n",
       " 1\n",
       " 1\n",
       " 1\n",
       " 1\n",
       " 0\n",
       " ⋮\n",
       " 0\n",
       " 0\n",
       " 0\n",
       " 0\n",
       " 0\n",
       " 0\n",
       " 0\n",
       " 0\n",
       " 0\n",
       " 0\n",
       " 0\n",
       " 0"
      ]
     },
     "execution_count": 7,
     "metadata": {},
     "output_type": "execute_result"
    }
   ],
   "source": [
    "@time S_VectorBool = Primes._primesmask(10^9)"
   ]
  },
  {
   "cell_type": "code",
   "execution_count": 8,
   "id": "d53af12a-77b2-4eb5-aa65-b22c08669b0e",
   "metadata": {},
   "outputs": [
    {
     "data": {
      "text/plain": [
       "true"
      ]
     },
     "execution_count": 8,
     "metadata": {},
     "output_type": "execute_result"
    }
   ],
   "source": [
    "S_BitVector == S_VectorBool"
   ]
  },
  {
   "cell_type": "code",
   "execution_count": 9,
   "id": "85bfbd6a-19cc-4fcd-9299-8323c7b23aad",
   "metadata": {},
   "outputs": [
    {
     "name": "stdout",
     "output_type": "stream",
     "text": [
      "  4.692525 seconds (5 allocations: 420.979 MiB, 0.13% gc time)\n"
     ]
    },
    {
     "data": {
      "text/plain": [
       "50847534-element Vector{Int64}:\n",
       "         2\n",
       "         3\n",
       "         5\n",
       "         7\n",
       "        11\n",
       "        13\n",
       "        17\n",
       "        19\n",
       "        23\n",
       "        29\n",
       "        31\n",
       "        37\n",
       "        41\n",
       "         ⋮\n",
       " 999999667\n",
       " 999999677\n",
       " 999999733\n",
       " 999999739\n",
       " 999999751\n",
       " 999999757\n",
       " 999999761\n",
       " 999999797\n",
       " 999999883\n",
       " 999999893\n",
       " 999999929\n",
       " 999999937"
      ]
     },
     "execution_count": 9,
     "metadata": {},
     "output_type": "execute_result"
    }
   ],
   "source": [
    "@time P_BitVector = my_primes(10^9)"
   ]
  },
  {
   "cell_type": "code",
   "execution_count": 10,
   "id": "60d5bdcc-3763-4781-b8a2-90f6304795c8",
   "metadata": {},
   "outputs": [
    {
     "name": "stdout",
     "output_type": "stream",
     "text": [
      "  4.937125 seconds (5 allocations: 643.503 MiB, 0.47% gc time)\n"
     ]
    },
    {
     "data": {
      "text/plain": [
       "50847534-element Vector{Int64}:\n",
       "         2\n",
       "         3\n",
       "         5\n",
       "         7\n",
       "        11\n",
       "        13\n",
       "        17\n",
       "        19\n",
       "        23\n",
       "        29\n",
       "        31\n",
       "        37\n",
       "        41\n",
       "         ⋮\n",
       " 999999667\n",
       " 999999677\n",
       " 999999733\n",
       " 999999739\n",
       " 999999751\n",
       " 999999757\n",
       " 999999761\n",
       " 999999797\n",
       " 999999883\n",
       " 999999893\n",
       " 999999929\n",
       " 999999937"
      ]
     },
     "execution_count": 10,
     "metadata": {},
     "output_type": "execute_result"
    }
   ],
   "source": [
    "@time P_VectorBool = primes(10^9)"
   ]
  },
  {
   "cell_type": "code",
   "execution_count": 11,
   "id": "632f7ae1-11a2-4983-9b8c-eea9beb4dfa8",
   "metadata": {},
   "outputs": [
    {
     "data": {
      "text/plain": [
       "true"
      ]
     },
     "execution_count": 11,
     "metadata": {},
     "output_type": "execute_result"
    }
   ],
   "source": [
    "P_BitVector == P_VectorBool"
   ]
  },
  {
   "cell_type": "markdown",
   "id": "80e19233-72ae-455f-a3e6-03af66134b3a",
   "metadata": {},
   "source": [
    "次のセルのコードは\n",
    "\n",
    "* https://github.com/JuliaMath/Primes.jl/blob/master/src/Primes.jl\n",
    "\n",
    "のコードのBitVector版である。一般にVector{Bool}版よりもBitVector版の方が計算は遅くなる。"
   ]
  },
  {
   "cell_type": "code",
   "execution_count": 12,
   "id": "2116f82d-c566-444d-b933-eaadf693efbb",
   "metadata": {},
   "outputs": [
    {
     "name": "stdout",
     "output_type": "stream",
     "text": [
      "my_primes(100) = [2, 3, 5, 7, 11, 13, 17, 19, 23, 29, 31, 37, 41, 43, 47, 53, 59, 61, 67, 71, 73, 79, 83, 89, 97]\n",
      "  4.982567 seconds (5 allocations: 420.979 MiB, 1.39% gc time)\n"
     ]
    },
    {
     "data": {
      "text/plain": [
       "50847534-element Vector{Int64}:\n",
       "         2\n",
       "         3\n",
       "         5\n",
       "         7\n",
       "        11\n",
       "        13\n",
       "        17\n",
       "        19\n",
       "        23\n",
       "        29\n",
       "        31\n",
       "        37\n",
       "        41\n",
       "         ⋮\n",
       " 999999667\n",
       " 999999677\n",
       " 999999733\n",
       " 999999739\n",
       " 999999751\n",
       " 999999757\n",
       " 999999761\n",
       " 999999797\n",
       " 999999883\n",
       " 999999893\n",
       " 999999929\n",
       " 999999937"
      ]
     },
     "execution_count": 12,
     "metadata": {},
     "output_type": "execute_result"
    }
   ],
   "source": [
    "using Primes\n",
    "using Primes: wheel, wheel_index, wheel_prime\n",
    "\n",
    "function _primesmask_BitVector(limit::Int)\n",
    "    limit < 7 && throw(ArgumentError(\"The condition limit ≥ 7 must be met.\"))\n",
    "    n = wheel_index(limit)\n",
    "    m = wheel_prime(n)\n",
    "    sieve = trues(n)\n",
    "    @inbounds for i = 1:wheel_index(isqrt(limit))\n",
    "        if sieve[i]\n",
    "            p = wheel_prime(i)\n",
    "            q = p^2\n",
    "            j = (i - 1) & 7 + 1\n",
    "            while q ≤ m\n",
    "                sieve[wheel_index(q)] = false\n",
    "                q += wheel[j] * p\n",
    "                j = j & 7 + 1\n",
    "            end\n",
    "        end\n",
    "    end\n",
    "    return sieve\n",
    "end\n",
    "\n",
    "function my_primes(n)\n",
    "    list = [2, 3, 5]\n",
    "    lo, hi = 2, n\n",
    "    # http://projecteuclid.org/euclid.rmjm/1181070157\n",
    "    sizehint!(list, 5 + floor(Int, hi / (log(hi) - 1.12) - lo / (log(lo) - 1.12 * (lo > 7))))\n",
    "    sieve = _primesmask_BitVector(n)\n",
    "    @inbounds for i = 1:length(sieve)   # don't use eachindex here\n",
    "        sieve[i] && push!(list, wheel_prime(i))\n",
    "    end\n",
    "    list\n",
    "end\n",
    "\n",
    "@show my_primes(100)\n",
    "@time My_Primes = my_primes(10^9)"
   ]
  },
  {
   "cell_type": "code",
   "execution_count": 13,
   "id": "0617b082-2425-425d-a7a4-a7d874cdfed7",
   "metadata": {},
   "outputs": [
    {
     "name": "stdout",
     "output_type": "stream",
     "text": [
      "$ cat CodeTest.c\n",
      "\n"
     ]
    },
    {
     "data": {
      "text/markdown": [
       "```C\n",
       "#include <stdio.h>\n",
       "#include <stdlib.h>\n",
       "#include <memory.h>\n",
       "#include <math.h>\n",
       "#include <time.h>\n",
       "/*\n",
       "#pragma warning(disable:6011)\n",
       "#pragma warning(disable:6385)\n",
       "#pragma warning(disable:6386)\n",
       "*/\n",
       "\n",
       "int main()\n",
       "{\n",
       "    int max, pnum = 0, pmax, i, j;\n",
       "    char* pSieve;\n",
       "    int* pPrime;\n",
       "    /*\n",
       "    printf(\"素数調査の最大数を入力してください (2以上の整数) \\n\");\n",
       "    do\n",
       "    {\n",
       "        scanf_s(\"%d\", &max);\n",
       "    } while (max < 2);\n",
       "    */\n",
       "    max = 1000000000;\n",
       "    printf(\"max = %d\\n\", max);\n",
       "    max++;\n",
       "    if (max < 10000)\n",
       "    {\n",
       "        pmax = max / 2;\n",
       "    }\n",
       "    else\n",
       "    {\n",
       "        pmax = max / log(max) * 1.2;\n",
       "    }\n",
       "    clock_t start = clock();\n",
       "    pSieve = malloc(sizeof (char) * max / 2);\n",
       "    if (!pSieve) exit(1);\n",
       "    pPrime = malloc(sizeof(int) * pmax);\n",
       "    if (!pPrime) exit(1);\n",
       "    memset(pSieve, 1, max / 2);\n",
       "    for (i =3; i * i < max; i += 2)\n",
       "    {\n",
       "        if (pSieve[i / 2])\n",
       "        {\n",
       "            for (j= i * i / 2; j< max / 2; j += i)\n",
       "            {\n",
       "                pSieve[j] = 0;\n",
       "            }\n",
       "        }\n",
       "    }\n",
       "    pPrime[0] = 2;\n",
       "    pnum++;\n",
       "    for (i = 1; i < max / 2; i++)\n",
       "    {\n",
       "        if (pSieve[i])\n",
       "        {\n",
       "            pPrime[pnum] = i*2+1;\n",
       "            pnum++;\n",
       "        }\n",
       "    }\n",
       "    clock_t t = clock() - start;\n",
       "    \n",
       "    printf(\"%ld.%ldsec\\n\", t / 1000, t % 1000);\n",
       "    printf(\"素数が%d個見つかりました\\n\", pnum);\n",
       "    free (pSieve);\n",
       "    free (pPrime);\n",
       "    return EXIT_SUCCESS;\n",
       "}\n",
       "\n",
       "```\n"
      ]
     },
     "metadata": {},
     "output_type": "display_data"
    },
    {
     "name": "stdout",
     "output_type": "stream",
     "text": [
      "\n",
      "$ gcc -Wall -O3 -march=native CodeTest.c -o CodeTest.exe\n",
      "\n",
      "$ ./CodeTest.exe\n",
      "max = 1000000000\n",
      "9.181sec\n",
      "素数が50847534個見つかりました\n"
     ]
    },
    {
     "data": {
      "text/plain": [
       "Process(`\u001b[4m./CodeTest.exe\u001b[24m`, ProcessExited(0))"
      ]
     },
     "execution_count": 13,
     "metadata": {},
     "output_type": "execute_result"
    }
   ],
   "source": [
    "# https://x.com/toku51n/status/1809063593704632457\n",
    "CodeTest_c = read(\"CodeTest.c\", String)\n",
    "println(\"\\$ cat CodeTest.c\\n\")\n",
    "display(\"text/markdown\", \"```C\\n\" * CodeTest_c * \"\\n```\\n\")\n",
    "println(\"\\n\\$ gcc -Wall -O3 -march=native CodeTest.c -o CodeTest.exe\")\n",
    "run(`gcc -Wall -O3 -march=native CodeTest.c -o CodeTest.exe`)\n",
    "println(\"\\n\\$ ./CodeTest.exe\")\n",
    "run(`./CodeTest.exe`)"
   ]
  },
  {
   "cell_type": "code",
   "execution_count": 14,
   "id": "7d3efae8-12cd-4700-8199-5584e334504c",
   "metadata": {},
   "outputs": [
    {
     "name": "stdout",
     "output_type": "stream",
     "text": [
      "my_primes_naive(10 ^ 8) == my_primes(10 ^ 8) = true\n",
      "  6.927204 seconds (5 allocations: 501.392 MiB)\n"
     ]
    },
    {
     "data": {
      "text/plain": [
       "50847534"
      ]
     },
     "execution_count": 14,
     "metadata": {},
     "output_type": "execute_result"
    }
   ],
   "source": [
    "function my_primes_naive(limit)\n",
    "    smax = (limit - 1) ÷ 2\n",
    "    pSieve = trues(smax)\n",
    "    @inbounds for i in 1:smax\n",
    "        if pSieve[i]\n",
    "            for j in (2i*(i+1)):(2i+1):smax\n",
    "                pSieve[j] = false\n",
    "            end\n",
    "        end\n",
    "    end\n",
    "    pPrime = [2]\n",
    "    sizehint!(pPrime, round(Int, 1.2*limit/log(limit)))\n",
    "    @inbounds for i in 1:smax\n",
    "        if pSieve[i]\n",
    "            push!(pPrime, 2i + 1)\n",
    "        end\n",
    "    end\n",
    "    pPrime\n",
    "end\n",
    "\n",
    "@show my_primes_naive(10^8) == my_primes(10^8)\n",
    "\n",
    "@time My_Primes = my_primes_naive(10^9)\n",
    "length(My_Primes)"
   ]
  },
  {
   "cell_type": "code",
   "execution_count": null,
   "id": "4ef70276-9bf2-4b22-b146-f7d4d8393b05",
   "metadata": {},
   "outputs": [],
   "source": []
  }
 ],
 "metadata": {
  "kernelspec": {
   "display_name": "Julia 1.10.4",
   "language": "julia",
   "name": "julia-1.10"
  },
  "language_info": {
   "file_extension": ".jl",
   "mimetype": "application/julia",
   "name": "julia",
   "version": "1.10.4"
  }
 },
 "nbformat": 4,
 "nbformat_minor": 5
}
