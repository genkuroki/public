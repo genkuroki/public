{
 "cells": [
  {
   "cell_type": "code",
   "execution_count": 1,
   "id": "e950b94c-de2b-48bf-a6f7-e5833cc287c2",
   "metadata": {},
   "outputs": [
    {
     "data": {
      "text/plain": [
       "b (generic function with 1 method)"
      ]
     },
     "execution_count": 1,
     "metadata": {},
     "output_type": "execute_result"
    }
   ],
   "source": [
    "ENV[\"COLUMNS\"] = 100\n",
    "using SymPy\n",
    "\n",
    "a(n) = 8(n-1) + 15\n",
    "b(n) = 2^n - 1"
   ]
  },
  {
   "cell_type": "code",
   "execution_count": 2,
   "id": "cd3de496-8a74-40ef-959a-071a2e8f514d",
   "metadata": {},
   "outputs": [
    {
     "name": "stdout",
     "output_type": "stream",
     "text": [
      "a(4) = 39\n",
      "a(7) = 63\n",
      "b(1) = 1\n",
      "(b(n + 1) - (2 * b(n) + 1)).simplify() = 0\n"
     ]
    }
   ],
   "source": [
    "@syms n\n",
    "@show a(4) a(7)\n",
    "@show b(1) (b(n+1) - (2b(n)+1)).simplify()\n",
    ";"
   ]
  },
  {
   "cell_type": "code",
   "execution_count": 3,
   "id": "a7d61af6-502c-4437-97b7-74235b96e066",
   "metadata": {},
   "outputs": [
    {
     "data": {
      "text/plain": [
       "1×45 adjoint(::Vector{Int64}) with eltype Int64:\n",
       " 15  23  31  39  47  55  63  71  79  87  95  103  …  303  311  319  327  335  343  351  359  367"
      ]
     },
     "execution_count": 3,
     "metadata": {},
     "output_type": "execute_result"
    }
   ],
   "source": [
    "as = [a(n) for n in 1:45]\n",
    "as'"
   ]
  },
  {
   "cell_type": "code",
   "execution_count": 4,
   "id": "7b554a7b-f131-4293-a5c9-311f4613db5b",
   "metadata": {},
   "outputs": [
    {
     "data": {
      "text/plain": [
       "1×20 adjoint(::Vector{Int64}) with eltype Int64:\n",
       " 1  3  7  15  31  63  127  255  511  1023  2047  …  32767  65535  131071  262143  524287  1048575"
      ]
     },
     "execution_count": 4,
     "metadata": {},
     "output_type": "execute_result"
    }
   ],
   "source": [
    "bs = [b(k) for k in 1:20]\n",
    "bs'"
   ]
  },
  {
   "cell_type": "code",
   "execution_count": 5,
   "id": "fb9480bb-6aca-4c85-956d-af40ec88bda3",
   "metadata": {},
   "outputs": [
    {
     "data": {
      "text/plain": [
       "1×40 adjoint(::Vector{Int64}) with eltype Int64:\n",
       " 23  39  47  55  71  79  87  95  103  111  119  …  303  311  319  327  335  343  351  359  367"
      ]
     },
     "execution_count": 5,
     "metadata": {},
     "output_type": "execute_result"
    }
   ],
   "source": [
    "cs = setdiff(as, bs)\n",
    "cs'"
   ]
  },
  {
   "cell_type": "code",
   "execution_count": 6,
   "id": "cfcbea5c-f535-435b-9e90-cc7a933f7c0b",
   "metadata": {},
   "outputs": [
    {
     "data": {
      "text/plain": [
       "8104"
      ]
     },
     "execution_count": 6,
     "metadata": {},
     "output_type": "execute_result"
    }
   ],
   "source": [
    "sum(cs)"
   ]
  },
  {
   "cell_type": "code",
   "execution_count": null,
   "id": "74b6ed90-f52b-410b-874f-744e3da41700",
   "metadata": {},
   "outputs": [],
   "source": []
  }
 ],
 "metadata": {
  "jupytext": {
   "formats": "ipynb,jl:hydrogen"
  },
  "kernelspec": {
   "display_name": "Julia 1.10.4",
   "language": "julia",
   "name": "julia-1.10"
  },
  "language_info": {
   "file_extension": ".jl",
   "mimetype": "application/julia",
   "name": "julia",
   "version": "1.10.4"
  }
 },
 "nbformat": 4,
 "nbformat_minor": 5
}
