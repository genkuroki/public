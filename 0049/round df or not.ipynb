{
 "cells": [
  {
   "cell_type": "code",
   "execution_count": 1,
   "id": "bb130c1e-9f5d-4ab2-8104-ac819d01c4b6",
   "metadata": {},
   "outputs": [
    {
     "name": "stdout",
     "output_type": "stream",
     "text": [
      "X = [80, 87, 78, 72]\n",
      "Y = [119, 78, 95, 124, 85, 92]\n",
      "degree_of_freedom(X, Y) = 6.50027434076389\n",
      "pvalue_welch_t(X, Y) = 0.050836543911200315\n",
      "pvalue_welch_t(X, Y; roundfunc = round) = 0.048148917771018214\n"
     ]
    }
   ],
   "source": [
    "using Distributions\n",
    "using StatsPlots\n",
    "default(fmt=:png)\n",
    "\n",
    "pvalue_welch_t(X, Y; Δμ=0.0, roundfunc=identity) =\n",
    "    pvalue_welch_t(length(X), mean(X), var(X), length(Y), mean(Y), var(Y); Δμ, roundfunc)\n",
    "\n",
    "function pvalue_welch_t(m, X̄, U, n, Ȳ, V; Δμ=0.0, roundfunc=round)\n",
    "    t = (X̄ - Ȳ - Δμ) / √(U/m + V/n)\n",
    "    df = degree_of_freedom(m, U, n, V)\n",
    "    2ccdf(TDist(roundfunc(df)), abs(t))\n",
    "end\n",
    "\n",
    "function degree_of_freedom(m, U, n, V)\n",
    "    (U/m + V/n)^2 / ((U/m)^2/(m-1) + (V/n)^2/(n-1))\n",
    "end\n",
    "\n",
    "degree_of_freedom(X, Y) = degree_of_freedom(length(X), var(X), length(Y), var(Y))\n",
    "\n",
    "X = [80, 87, 78, 72]\n",
    "Y = [119, 78, 95, 124, 85, 92]\n",
    "@show X Y\n",
    "@show degree_of_freedom(X, Y);\n",
    "@show pvalue_welch_t(X, Y);\n",
    "@show pvalue_welch_t(X, Y; roundfunc=round);"
   ]
  },
  {
   "cell_type": "code",
   "execution_count": 2,
   "id": "f91d7e44-2568-46d4-85df-4a0ce4ead1f2",
   "metadata": {},
   "outputs": [
    {
     "name": "stdout",
     "output_type": "stream",
     "text": [
      "X = [8, 21, 22, 30]\n",
      "Y = [5, 42, 43, 83, 83, 119]\n",
      "degree_of_freedom(X, Y) = 5.737389602352075\n",
      "pvalue_welch_t(X, Y) = 0.050133803058240396\n",
      "pvalue_welch_t(X, Y; roundfunc = round) = 0.048306826291412475\n"
     ]
    }
   ],
   "source": [
    "X = [8, 21, 22, 30]\n",
    "Y = [5, 42, 43, 83, 83, 119]\n",
    "@show X Y\n",
    "@show degree_of_freedom(X, Y);\n",
    "@show pvalue_welch_t(X, Y);\n",
    "@show pvalue_welch_t(X, Y; roundfunc=round);"
   ]
  },
  {
   "cell_type": "code",
   "execution_count": 3,
   "id": "a1b728cf-fceb-469c-9a85-f18c1c58cac5",
   "metadata": {},
   "outputs": [
    {
     "name": "stdout",
     "output_type": "stream",
     "text": [
      "X = [8, 21, 22, 30]\n",
      "Y = [5, 42, 43, 83, 83, 119]\n",
      "degree_of_freedom(X, Y) = 5.737389602352075\n",
      "pvalue_welch_t(X, Y) = 0.050133803058240396\n",
      "pvalue_welch_t(X, Y; roundfunc = round) = 0.048306826291412475\n"
     ]
    }
   ],
   "source": [
    "X = sort(round.(Int, 20*[-0.8392321454441508, -0.13632577223881945, -0.1907178263261891, 0.25603978994522353] .+ 25))\n",
    "Y = sort(round.(Int, 20*[-0.9932984206053254, 2.913878236092646, 2.8891275856381764, 4.716892383695555, 0.8317174086782941, 0.8766881245471467] .+ 25))\n",
    "@show X Y\n",
    "@show degree_of_freedom(X, Y);\n",
    "@show pvalue_welch_t(X, Y);\n",
    "@show pvalue_welch_t(X, Y; roundfunc=round);"
   ]
  },
  {
   "cell_type": "code",
   "execution_count": 4,
   "id": "007308b8-28cb-44ef-a1d7-9fae6e9f6378",
   "metadata": {},
   "outputs": [
    {
     "name": "stdout",
     "output_type": "stream",
     "text": [
      "X = [-0.8392321454441508, -0.13632577223881945, -0.1907178263261891, 0.25603978994522353]\n",
      "Y = [-0.9932984206053254, 2.913878236092646, 2.8891275856381764, 4.716892383695555, 0.8317174086782941, 0.8766881245471467]\n",
      "degree_of_freedom(X, Y) = 5.727616620520906\n",
      "pvalue_welch_t(X, Y) = 0.05170351982251145\n",
      "pvalue_welch_t(X, Y; roundfunc = round) = 0.04978472882544727\n"
     ]
    }
   ],
   "source": [
    "X = [-0.8392321454441508, -0.13632577223881945, -0.1907178263261891, 0.25603978994522353]\n",
    "Y = [-0.9932984206053254, 2.913878236092646, 2.8891275856381764, 4.716892383695555, 0.8317174086782941, 0.8766881245471467]\n",
    "@show X Y\n",
    "@show degree_of_freedom(X, Y);\n",
    "@show pvalue_welch_t(X, Y);\n",
    "@show pvalue_welch_t(X, Y; roundfunc=round);"
   ]
  },
  {
   "cell_type": "code",
   "execution_count": 5,
   "id": "3e3d6f92-9c54-49ea-8357-da93b851d5c2",
   "metadata": {},
   "outputs": [
    {
     "name": "stdout",
     "output_type": "stream",
     "text": [
      "X = [0.8115162043087973, -0.8404363548455143, 1.6727606354453446, 0.533847620210447]\n",
      "Y = [1.6339095622225246, 2.065488181473473, 2.0345943286959765, 1.7579073472598687, 3.3451457705490997, 1.8267931745140344]\n",
      "degree_of_freedom(X, Y) = 4.463541829417354\n",
      "pvalue_welch_t(X, Y) = 0.04833942741104785\n",
      "pvalue_welch_t(X, Y; roundfunc = round) = 0.0542844038045889\n"
     ]
    }
   ],
   "source": [
    "X = [0.8115162043087973, -0.8404363548455143, 1.6727606354453446, 0.533847620210447]\n",
    "Y = [1.6339095622225246, 2.065488181473473, 2.0345943286959765, 1.7579073472598687, 3.3451457705490997, 1.8267931745140344]\n",
    "@show X Y\n",
    "@show degree_of_freedom(X, Y);\n",
    "@show pvalue_welch_t(X, Y);\n",
    "@show pvalue_welch_t(X, Y; roundfunc=round);"
   ]
  },
  {
   "cell_type": "code",
   "execution_count": 6,
   "id": "890dc5e5-75b7-49b7-aad4-602b1af3f9e2",
   "metadata": {},
   "outputs": [
    {
     "name": "stdout",
     "output_type": "stream",
     "text": [
      "X = [66, 95, 90, 86]\n",
      "Y = [75, 50, 77, 40, 75, 62]\n",
      "degree_of_freedom(X, Y) = 7.453706582327547\n",
      "pvalue_welch_t(X, Y) = 0.0482133680890127\n",
      "pvalue_welch_t(X, Y; roundfunc = round) = 0.05035674953284885\n"
     ]
    }
   ],
   "source": [
    "# using HypothesisTests\n",
    "\n",
    "for _ in 1:10^6\n",
    "    X = round.(Int, rand(Normal(80, 10), 4))\n",
    "    Y = round.(Int, rand(Normal(80, 20), 6))\n",
    "    abs(rem(degree_of_freedom(X, Y), 1) - 0.5) ≥ 0.05 && continue\n",
    "    (pvalue_welch_t(X, Y) - 0.05) * (pvalue_welch_t(X, Y; roundfunc=round) - 0.05) < 0 && break\n",
    "end\n",
    "\n",
    "@show X Y\n",
    "@show degree_of_freedom(X, Y);\n",
    "@show pvalue_welch_t(X, Y);\n",
    "@show pvalue_welch_t(X, Y; roundfunc=round);\n",
    "# UnequalVarianceTTest(X, Y)"
   ]
  },
  {
   "cell_type": "code",
   "execution_count": null,
   "id": "4a2889b1-e55c-4118-ae45-249c1c57108d",
   "metadata": {},
   "outputs": [],
   "source": []
  }
 ],
 "metadata": {
  "jupytext": {
   "encoding": "# -*- coding: utf-8 -*-",
   "formats": "ipynb,jl:hydrogen"
  },
  "kernelspec": {
   "display_name": "Julia 1.10.4",
   "language": "julia",
   "name": "julia-1.10"
  },
  "language_info": {
   "file_extension": ".jl",
   "mimetype": "application/julia",
   "name": "julia",
   "version": "1.10.4"
  }
 },
 "nbformat": 4,
 "nbformat_minor": 5
}
