{
 "cells": [
  {
   "cell_type": "code",
   "execution_count": 1,
   "id": "6e353491-fb1e-4e18-8a53-d3d426f4d2e9",
   "metadata": {},
   "outputs": [
    {
     "name": "stdout",
     "output_type": "stream",
     "text": [
      "X = [80, 87, 78, 72]\n",
      "Y = [119, 78, 95, 124, 85, 92]\n",
      "degree_of_freedom(X, Y) = 6.50027434076389\n",
      "pvalue_welch_t(X, Y) = 0.050836543911200315\n",
      "pvalue_welch_t(X, Y; roundfunc = round) = 0.048148917771018214\n"
     ]
    }
   ],
   "source": [
    "using Distributions\n",
    "#using StatsPlots\n",
    "#default(fmt=:png)\n",
    "\n",
    "function pvalue_welch_t(m, X̄, U, n, Ȳ, V; Δμ=0.0, roundfunc=identity, dffunc=degree_of_freedom)\n",
    "    t = tvalue_welch(m, X̄, U, n, Ȳ, V; Δμ)\n",
    "    dfhat = dffunc(m, U, n, V)\n",
    "    2ccdf(TDist(roundfunc(dfhat)), abs(t))\n",
    "end\n",
    "\n",
    "pvalue_welch_t(X, Y; Δμ=0.0, roundfunc=identity, dffunc=degree_of_freedom) =\n",
    "    pvalue_welch_t(length(X), mean(X), var(X), length(Y), mean(Y), var(Y); Δμ, roundfunc, dffunc)\n",
    "\n",
    "tvalue_welch(m, X̄, U, n, Ȳ, V; Δμ=0.0) = (X̄ - Ȳ - Δμ) / √(U/m + V/n)\n",
    "tvalue_welch(X, Y; Δμ=0.0) =\n",
    "    tvalue_welch(length(X), mean(X), var(X), length(Y), mean(Y), var(Y); Δμ)\n",
    "\n",
    "degree_of_freedom(m, U, n, V) = (U/m + V/n)^2 / ((U/m)^2/(m-1) + (V/n)^2/(n-1))\n",
    "degree_of_freedom(X, Y) = degree_of_freedom(length(X), var(X), length(Y), var(Y))\n",
    "\n",
    "degree_of_freedom_not_Satterthwaite(m, U, n, V) =\n",
    "    (U/m + V/n)^2 / ((U/m)^2/(m+1) + (V/n)^2/(n+1)) - 2\n",
    "degree_of_freedom_not_Satterthwaite(X, Y) =\n",
    "    degree_of_freedom_not_Satterthwaite(length(X), var(X), length(Y), var(Y))\n",
    "\n",
    "X = [80, 87, 78, 72]\n",
    "Y = [119, 78, 95, 124, 85, 92]\n",
    "@show X Y\n",
    "@show degree_of_freedom(X, Y);\n",
    "@show pvalue_welch_t(X, Y);\n",
    "@show pvalue_welch_t(X, Y; roundfunc=round);"
   ]
  },
  {
   "cell_type": "code",
   "execution_count": 2,
   "id": "f91d7e44-2568-46d4-85df-4a0ce4ead1f2",
   "metadata": {},
   "outputs": [
    {
     "name": "stdout",
     "output_type": "stream",
     "text": [
      "X = [8, 21, 22, 30]\n",
      "Y = [5, 42, 43, 83, 83, 119]\n",
      "degree_of_freedom(X, Y) = 5.737389602352075\n",
      "pvalue_welch_t(X, Y) = 0.050133803058240396\n",
      "pvalue_welch_t(X, Y; roundfunc = round) = 0.048306826291412475\n"
     ]
    }
   ],
   "source": [
    "X = [8, 21, 22, 30]\n",
    "Y = [5, 42, 43, 83, 83, 119]\n",
    "@show X Y\n",
    "@show degree_of_freedom(X, Y);\n",
    "@show pvalue_welch_t(X, Y);\n",
    "@show pvalue_welch_t(X, Y; roundfunc=round);"
   ]
  },
  {
   "cell_type": "code",
   "execution_count": 3,
   "id": "a1b728cf-fceb-469c-9a85-f18c1c58cac5",
   "metadata": {},
   "outputs": [
    {
     "name": "stdout",
     "output_type": "stream",
     "text": [
      "X = [8, 21, 22, 30]\n",
      "Y = [5, 42, 43, 83, 83, 119]\n",
      "degree_of_freedom(X, Y) = 5.737389602352075\n",
      "pvalue_welch_t(X, Y) = 0.050133803058240396\n",
      "pvalue_welch_t(X, Y; roundfunc = round) = 0.048306826291412475\n"
     ]
    }
   ],
   "source": [
    "X = sort(round.(Int, 20*[-0.8392321454441508, -0.13632577223881945, -0.1907178263261891, 0.25603978994522353] .+ 25))\n",
    "Y = sort(round.(Int, 20*[-0.9932984206053254, 2.913878236092646, 2.8891275856381764, 4.716892383695555, 0.8317174086782941, 0.8766881245471467] .+ 25))\n",
    "@show X Y\n",
    "@show degree_of_freedom(X, Y);\n",
    "@show pvalue_welch_t(X, Y);\n",
    "@show pvalue_welch_t(X, Y; roundfunc=round);"
   ]
  },
  {
   "cell_type": "code",
   "execution_count": 4,
   "id": "007308b8-28cb-44ef-a1d7-9fae6e9f6378",
   "metadata": {},
   "outputs": [
    {
     "name": "stdout",
     "output_type": "stream",
     "text": [
      "X = [-0.8392321454441508, -0.13632577223881945, -0.1907178263261891, 0.25603978994522353]\n",
      "Y = [-0.9932984206053254, 2.913878236092646, 2.8891275856381764, 4.716892383695555, 0.8317174086782941, 0.8766881245471467]\n",
      "degree_of_freedom(X, Y) = 5.727616620520906\n",
      "pvalue_welch_t(X, Y) = 0.05170351982251145\n",
      "pvalue_welch_t(X, Y; roundfunc = round) = 0.04978472882544727\n"
     ]
    }
   ],
   "source": [
    "X = [-0.8392321454441508, -0.13632577223881945, -0.1907178263261891, 0.25603978994522353]\n",
    "Y = [-0.9932984206053254, 2.913878236092646, 2.8891275856381764, 4.716892383695555, 0.8317174086782941, 0.8766881245471467]\n",
    "@show X Y\n",
    "@show degree_of_freedom(X, Y);\n",
    "@show pvalue_welch_t(X, Y);\n",
    "@show pvalue_welch_t(X, Y; roundfunc=round);"
   ]
  },
  {
   "cell_type": "code",
   "execution_count": 5,
   "id": "3e3d6f92-9c54-49ea-8357-da93b851d5c2",
   "metadata": {},
   "outputs": [
    {
     "name": "stdout",
     "output_type": "stream",
     "text": [
      "X = [0.8115162043087973, -0.8404363548455143, 1.6727606354453446, 0.533847620210447]\n",
      "Y = [1.6339095622225246, 2.065488181473473, 2.0345943286959765, 1.7579073472598687, 3.3451457705490997, 1.8267931745140344]\n",
      "degree_of_freedom(X, Y) = 4.463541829417354\n",
      "pvalue_welch_t(X, Y) = 0.04833942741104785\n",
      "pvalue_welch_t(X, Y; roundfunc = round) = 0.0542844038045889\n"
     ]
    }
   ],
   "source": [
    "X = [0.8115162043087973, -0.8404363548455143, 1.6727606354453446, 0.533847620210447]\n",
    "Y = [1.6339095622225246, 2.065488181473473, 2.0345943286959765, 1.7579073472598687, 3.3451457705490997, 1.8267931745140344]\n",
    "@show X Y\n",
    "@show degree_of_freedom(X, Y);\n",
    "@show pvalue_welch_t(X, Y);\n",
    "@show pvalue_welch_t(X, Y; roundfunc=round);"
   ]
  },
  {
   "cell_type": "code",
   "execution_count": 6,
   "id": "890dc5e5-75b7-49b7-aad4-602b1af3f9e2",
   "metadata": {},
   "outputs": [
    {
     "name": "stdout",
     "output_type": "stream",
     "text": [
      "X = [103, 85, 75, 87]\n",
      "Y = [83, 67, 55, 73, 69, 75]\n",
      "degree_of_freedom(X, Y) = 5.543070191690063\n",
      "pvalue_welch_t(X, Y) = 0.051515311832126216\n",
      "pvalue_welch_t(X, Y; roundfunc = round) = 0.048218711286918195\n"
     ]
    }
   ],
   "source": [
    "# using HypothesisTests\n",
    "\n",
    "for _ in 1:10^6\n",
    "    X = round.(Int, rand(Normal(80, 10), 4))\n",
    "    Y = round.(Int, rand(Normal(80, 20), 6))\n",
    "    abs(rem(degree_of_freedom(X, Y), 1) - 0.5) ≥ 0.05 && continue\n",
    "    (pvalue_welch_t(X, Y) - 0.05) * (pvalue_welch_t(X, Y; roundfunc=round) - 0.05) < 0 && break\n",
    "end\n",
    "\n",
    "@show X Y\n",
    "@show degree_of_freedom(X, Y);\n",
    "@show pvalue_welch_t(X, Y);\n",
    "@show pvalue_welch_t(X, Y; roundfunc=round);\n",
    "# UnequalVarianceTTest(X, Y)"
   ]
  },
  {
   "cell_type": "markdown",
   "id": "d34258c4-2015-4ca3-b211-8cf13b277c97",
   "metadata": {},
   "source": [
    "## R"
   ]
  },
  {
   "cell_type": "code",
   "execution_count": 7,
   "id": "3afea752-1374-4c48-947e-80962a569718",
   "metadata": {},
   "outputs": [
    {
     "data": {
      "text/plain": [
       "RObject{VecSxp}\n",
       "\n",
       "\tWelch Two Sample t-test\n",
       "\n",
       "data:  X and Y\n",
       "t = -2.3903, df = 6.5003, p-value = 0.05084\n",
       "alternative hypothesis: true difference in means is not equal to 0\n",
       "95 percent confidence interval:\n",
       " -39.26251228   0.09584561\n",
       "sample estimates:\n",
       "mean of x mean of y \n",
       " 79.25000  98.83333 \n",
       "\n"
      ]
     },
     "execution_count": 7,
     "metadata": {},
     "output_type": "execute_result"
    }
   ],
   "source": [
    "using RCall\n",
    "X = [80, 87, 78, 72]\n",
    "Y = [119, 78, 95, 124, 85, 92]\n",
    "@rput X Y\n",
    "R\"\"\"t.test(X, Y)\"\"\""
   ]
  },
  {
   "cell_type": "code",
   "execution_count": 8,
   "id": "48f38c3e-11a9-4e22-93b2-107bb2bb5a99",
   "metadata": {},
   "outputs": [
    {
     "name": "stdout",
     "output_type": "stream",
     "text": [
      "tvalue_welch(X, Y) = -2.3902810031928428\n",
      "degree_of_freedom(X, Y) = 6.50027434076389\n",
      "pvalue_welch_t(X, Y) = 0.050836543911200315\n"
     ]
    }
   ],
   "source": [
    "@show tvalue_welch(X, Y);\n",
    "@show degree_of_freedom(X, Y);\n",
    "@show pvalue_welch_t(X, Y);"
   ]
  },
  {
   "cell_type": "markdown",
   "id": "fd1bc522-75b6-4f4d-950e-a6073e1d7d6c",
   "metadata": {},
   "source": [
    "## STATA"
   ]
  },
  {
   "cell_type": "markdown",
   "id": "6cc74f93-0f48-4c86-9cbe-0664d0b0878b",
   "metadata": {},
   "source": [
    "https://www.statology.org/welchs-t-test-stata/\n",
    "\n",
    "<img src=\"IMG_5204.png\">"
   ]
  },
  {
   "cell_type": "code",
   "execution_count": 9,
   "id": "edd7515b-4696-4f7f-a12d-a4d928173446",
   "metadata": {},
   "outputs": [
    {
     "name": "stdout",
     "output_type": "stream",
     "text": [
      "(; N = m, Mean = X̄, Std = √U, SE = √(U / m)) = (N = 12, Mean = 21.0, Std = 2.730301, SE = 0.7881700086593522)\n",
      "(; N = n, Mean = Ȳ, Std = √V, SE = √(V / n)) = (N = 12, Mean = 22.75, Std = 3.250874, SE = 0.9384464895007777)\n",
      "tvalue_welch(m, X̄, U, n, Ȳ, V) = -1.4279678837572058\n",
      "\n",
      "degree_of_freedom(m, U, n, V) = 21.36240412790263\n",
      "pvalue_welch_t(m, X̄, U, n, Ȳ, V) = 0.16775823959526698\n",
      "\n",
      "degree_of_freedom_not_Satterthwaite(m, U, n, V) = 23.246477605703106\n",
      "pvalue_welch_t(m, X̄, U, n, Ȳ, V; dffunc = degree_of_freedom_not_Satterthwaite) = 0.16659877018134617\n"
     ]
    }
   ],
   "source": [
    "m, X̄, U = 12, 21.00, 2.730301^2\n",
    "n, Ȳ, V = 12, 22.75, 3.250874^2\n",
    "@show (; N=m, Mean=X̄, Std=√U, SE=√(U/m));\n",
    "@show (; N=n, Mean=Ȳ, Std=√V, SE=√(V/n));\n",
    "@show tvalue_welch(m, X̄, U, n, Ȳ, V);\n",
    "println()\n",
    "@show degree_of_freedom(m, U, n, V);\n",
    "@show pvalue_welch_t(m, X̄, U, n, Ȳ, V);\n",
    "println()\n",
    "@show degree_of_freedom_not_Satterthwaite(m, U, n, V);\n",
    "@show pvalue_welch_t(m, X̄, U, n, Ȳ, V; dffunc=degree_of_freedom_not_Satterthwaite);"
   ]
  },
  {
   "cell_type": "code",
   "execution_count": 10,
   "id": "d040256e-8cb2-415f-b777-e679a4ba1b24",
   "metadata": {},
   "outputs": [
    {
     "data": {
      "text/latex": [
       "$\\frac{\\left(- U n^{2} - U n + V m^{2} + V m\\right)^{2}}{U^{2} n^{3} + U^{2} n^{2} + V^{2} m^{3} + V^{2} m^{2}}$"
      ],
      "text/plain": [
       "                            2\n",
       " /     2            2      \\ \n",
       " \\- U*n  - U*n + V*m  + V*m/ \n",
       "-----------------------------\n",
       " 2  3    2  2    2  3    2  2\n",
       "U *n  + U *n  + V *m  + V *m "
      ]
     },
     "execution_count": 10,
     "metadata": {},
     "output_type": "execute_result"
    }
   ],
   "source": [
    "using SymPy\n",
    "@syms U V m n\n",
    "expr = m + n - degree_of_freedom_not_Satterthwaite(m, U, n, V)\n",
    "factor(expr)"
   ]
  },
  {
   "cell_type": "code",
   "execution_count": 11,
   "id": "347e820f-52b8-42ad-961b-e100ca47707a",
   "metadata": {},
   "outputs": [
    {
     "data": {
      "text/latex": [
       "$\\frac{\\left(- U n^{2} + U n + V m^{2} - V m\\right)^{2}}{U^{2} n^{3} - U^{2} n^{2} + V^{2} m^{3} - V^{2} m^{2}}$"
      ],
      "text/plain": [
       "                            2\n",
       " /     2            2      \\ \n",
       " \\- U*n  + U*n + V*m  - V*m/ \n",
       "-----------------------------\n",
       " 2  3    2  2    2  3    2  2\n",
       "U *n  - U *n  + V *m  - V *m "
      ]
     },
     "execution_count": 11,
     "metadata": {},
     "output_type": "execute_result"
    }
   ],
   "source": [
    "using SymPy\n",
    "@syms U V m n\n",
    "expr = m + n - 2 - degree_of_freedom(m, U, n, V)\n",
    "factor(expr)"
   ]
  },
  {
   "cell_type": "code",
   "execution_count": 12,
   "id": "d7bbf15e-9335-47fb-8bb2-16742ecdb38e",
   "metadata": {},
   "outputs": [
    {
     "data": {
      "text/latex": [
       "$\\frac{\\left(- U n^{2} + V m^{2}\\right)^{2}}{U^{2} n^{3} + V^{2} m^{3}}$"
      ],
      "text/plain": [
       "               2\n",
       "/     2      2\\ \n",
       "\\- U*n  + V*m / \n",
       "----------------\n",
       "  2  3    2  3  \n",
       " U *n  + V *m   "
      ]
     },
     "execution_count": 12,
     "metadata": {},
     "output_type": "execute_result"
    }
   ],
   "source": [
    "using SymPy\n",
    "@syms U V m n\n",
    "expr = m + n - (U/m + V/n)^2 / ((U/m)^2/m + (V/n)^2/n)\n",
    "factor(expr)"
   ]
  },
  {
   "cell_type": "markdown",
   "id": "81dc68da-9595-4f4c-a735-83efadb75266",
   "metadata": {},
   "source": [
    "https://stats.oarc.ucla.edu/stata/output/t-test/\n",
    "\n",
    "<img src=\"IMG_5209.jpeg\" width=60%>"
   ]
  },
  {
   "cell_type": "code",
   "execution_count": 13,
   "id": "daa64e63-46b2-4340-9b61-66468fec414c",
   "metadata": {},
   "outputs": [
    {
     "name": "stdout",
     "output_type": "stream",
     "text": [
      "(; N = m, Mean = X̄, Std = √U, SE = √(U / m)) = (N = 91, Mean = 50.12088, Std = 10.30516, SE = 1.0802742967993244)\n",
      "(; N = n, Mean = Ȳ, Std = √V, SE = √(V / n)) = (N = 109, Mean = 54.99083, Std = 8.133715, SE = 0.7790686023497558)\n",
      "tvalue_welch(m, X̄, U, n, Ȳ, V) = -3.6564108141106053\n",
      "degree_of_freedom(m, U, n, V) = 169.70738506446347\n",
      "pvalue_welch_t(m, X̄, U, n, Ȳ, V) = 0.00034088152683966214\n"
     ]
    }
   ],
   "source": [
    "m, X̄, U =  91, 50.12088, 10.30516^2\n",
    "n, Ȳ, V = 109, 54.99083, 8.133715^2\n",
    "@show (; N=m, Mean=X̄, Std=√U, SE=√(U/m));\n",
    "@show (; N=n, Mean=Ȳ, Std=√V, SE=√(V/n));\n",
    "@show tvalue_welch(m, X̄, U, n, Ȳ, V);\n",
    "@show degree_of_freedom(m, U, n, V);\n",
    "@show pvalue_welch_t(m, X̄, U, n, Ȳ, V);"
   ]
  },
  {
   "cell_type": "markdown",
   "id": "4b6b032e-dcb6-431e-baf3-3bc1254ee0c4",
   "metadata": {},
   "source": [
    "## SAS"
   ]
  },
  {
   "cell_type": "markdown",
   "id": "ab7d7c49-7395-4981-97ee-cb75e652370e",
   "metadata": {},
   "source": [
    "https://support.sas.com/documentation/onlinedoc/stat/132/ttest.pdf\n",
    "\n",
    "<img src=\"IMG_5210.jpeg\" width=60%>\n",
    "<img src=\"IMG_5211.jpeg\" width=50%>"
   ]
  },
  {
   "cell_type": "code",
   "execution_count": 14,
   "id": "9f72caee-e163-40d0-9962-bb9bb5c59cec",
   "metadata": {},
   "outputs": [
    {
     "name": "stdout",
     "output_type": "stream",
     "text": [
      "(; N = m, Mean = X̄, Std = √U, SE = √(U / m)) = (N = 7, Mean = 76.8571, Std = 2.5448, SE = 0.9618439909138814)\n",
      "(; N = n, Mean = Ȳ, Std = √V, SE = √(V / n)) = (N = 7, Mean = 82.7143, Std = 3.1472, SE = 1.18952978945464)\n",
      "tvalue_welch(m, X̄, U, n, Ȳ, V) = -3.828869171023611\n",
      "\n",
      "degree_of_freedom(m, U, n, V) = 11.496287043561036\n",
      "pvalue_welch_t(m, X̄, U, n, Ȳ, V) = 0.00258864569606385\n"
     ]
    }
   ],
   "source": [
    "m, X̄, U = 7, 76.8571, 2.5448^2\n",
    "n, Ȳ, V = 7, 82.7143, 3.1472^2\n",
    "@show (; N=m, Mean=X̄, Std=√U, SE=√(U/m));\n",
    "@show (; N=n, Mean=Ȳ, Std=√V, SE=√(V/n));\n",
    "@show tvalue_welch(m, X̄, U, n, Ȳ, V);\n",
    "println()\n",
    "@show degree_of_freedom(m, U, n, V);\n",
    "@show pvalue_welch_t(m, X̄, U, n, Ȳ, V);"
   ]
  },
  {
   "cell_type": "markdown",
   "id": "f29ee590-cf97-49c8-adfa-94073da0118d",
   "metadata": {},
   "source": [
    "## SPSS"
   ]
  },
  {
   "cell_type": "markdown",
   "id": "a8f5cdf0-a4da-4d5c-92e3-a832bf6304be",
   "metadata": {},
   "source": [
    "https://www.stats-guild.com/analytics/15678\n",
    "\n",
    "<img src=\"IMG_5212.jpeg\" width=100%>"
   ]
  },
  {
   "cell_type": "code",
   "execution_count": 15,
   "id": "f09463df-4c6e-4470-b0af-f6e71d47767b",
   "metadata": {},
   "outputs": [
    {
     "name": "stdout",
     "output_type": "stream",
     "text": [
      "(; N = m, Mean = X̄, Std = √U, SE = √(U / m)) = (N = 115, Mean = 3054.17, Std = 751.684, SE = 70.0948944277312)\n",
      "(; N = n, Mean = Ȳ, Std = √V, SE = √(V / n)) = (N = 74, Mean = 2773.16, Std = 660.34, SE = 76.76296576809364)\n",
      "tvalue_welch(m, X̄, U, n, Ȳ, V) = 2.703288302330104\n",
      "degree_of_freedom(m, U, n, V) = 169.86547915064858\n",
      "pvalue_welch_t(m, X̄, U, n, Ȳ, V) = 0.007563638533469261\n"
     ]
    }
   ],
   "source": [
    "m, X̄, U = 115, 3054.17, 751.684^2\n",
    "n, Ȳ, V =  74, 2773.16, 660.340^2\n",
    "@show (; N=m, Mean=X̄, Std=√U, SE=√(U/m));\n",
    "@show (; N=n, Mean=Ȳ, Std=√V, SE=√(V/n));\n",
    "@show tvalue_welch(m, X̄, U, n, Ȳ, V);\n",
    "@show degree_of_freedom(m, U, n, V);\n",
    "@show pvalue_welch_t(m, X̄, U, n, Ȳ, V);"
   ]
  },
  {
   "cell_type": "code",
   "execution_count": null,
   "id": "c3a82bd6-afe7-4fd0-942d-114aa17bcb38",
   "metadata": {},
   "outputs": [],
   "source": []
  }
 ],
 "metadata": {
  "jupytext": {
   "encoding": "# -*- coding: utf-8 -*-",
   "formats": "ipynb,jl:hydrogen"
  },
  "kernelspec": {
   "display_name": "Julia 1.10.4",
   "language": "julia",
   "name": "julia-1.10"
  },
  "language_info": {
   "file_extension": ".jl",
   "mimetype": "application/julia",
   "name": "julia",
   "version": "1.10.4"
  }
 },
 "nbformat": 4,
 "nbformat_minor": 5
}
