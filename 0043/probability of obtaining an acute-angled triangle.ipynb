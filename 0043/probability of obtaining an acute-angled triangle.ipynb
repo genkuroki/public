{
 "cells": [
  {
   "cell_type": "markdown",
   "id": "c07510fa-6cb8-4bb9-8c48-8617f6e2a702",
   "metadata": {},
   "source": [
    "* https://twitter.com/dannchu/status/1672880182427004929\n",
    "* https://twitter.com/aoki_taichi/status/1673834965694566401"
   ]
  },
  {
   "cell_type": "code",
   "execution_count": 1,
   "id": "8fe6ae46-eaf6-41dd-b392-a8aa5f1542cf",
   "metadata": {},
   "outputs": [
    {
     "name": "stdout",
     "output_type": "stream",
     "text": [
      " 57.902647 seconds (1.22 G allocations: 73.388 GiB, 11.60% gc time)\n",
      "24.995065%\n"
     ]
    }
   ],
   "source": [
    "n=10^8 #1億回\n",
    "k=0\n",
    "@time for i=1:n\n",
    "    a1=randn(2);a2=randn(2);a3=randn(2) #3点ランダムにとる。\n",
    "    x1=a2-a1;x2=a3-a1;t1=(x1[1]*x2[1]+x1[2]*x2[2])/(sqrt(x1[1]^2+x1[2]^2)*sqrt(x2[1]^2+x2[2]^2))# 1つ目の角のcos\n",
    "    x1=a1-a2;x2=a3-a2;t2=(x1[1]*x2[1]+x1[2]*x2[2])/(sqrt(x1[1]^2+x1[2]^2)*sqrt(x2[1]^2+x2[2]^2))# 2つ目の角のcos\n",
    "    x1=a1-a3;x2=a2-a3;t3=(x1[1]*x2[1]+x1[2]*x2[2])/(sqrt(x1[1]^2+x1[2]^2)*sqrt(x2[1]^2+x2[2]^2))# 3つ目の角のcos\n",
    "    if t1>0.0 && t2>0.0 && t3>0.0 # 3つの角が鋭角という条件\n",
    "        k+=1 # 条件を満たしたらカウントする。\n",
    "    end\n",
    "end\n",
    "println(k*100/n,\"%\")"
   ]
  },
  {
   "cell_type": "code",
   "execution_count": 2,
   "id": "07c0d381-4820-4598-a82c-d11f4766519f",
   "metadata": {},
   "outputs": [
    {
     "name": "stdout",
     "output_type": "stream",
     "text": [
      "25.005918%\n",
      " 50.768309 seconds (900.00 M allocations: 67.055 GiB, 12.55% gc time)\n"
     ]
    }
   ],
   "source": [
    "function f(n = 10^8)\n",
    "    k=0\n",
    "    for i=1:n\n",
    "        a1=randn(2);a2=randn(2);a3=randn(2) #3点ランダムにとる。\n",
    "        x1=a2-a1;x2=a3-a1;t1=(x1[1]*x2[1]+x1[2]*x2[2])/(sqrt(x1[1]^2+x1[2]^2)*sqrt(x2[1]^2+x2[2]^2))# 1つ目の角のcos\n",
    "        x1=a1-a2;x2=a3-a2;t2=(x1[1]*x2[1]+x1[2]*x2[2])/(sqrt(x1[1]^2+x1[2]^2)*sqrt(x2[1]^2+x2[2]^2))# 2つ目の角のcos\n",
    "        x1=a1-a3;x2=a2-a3;t3=(x1[1]*x2[1]+x1[2]*x2[2])/(sqrt(x1[1]^2+x1[2]^2)*sqrt(x2[1]^2+x2[2]^2))# 3つ目の角のcos\n",
    "        if t1>0.0 && t2>0.0 && t3>0.0 # 3つの角が鋭角という条件\n",
    "            k+=1 # 条件を満たしたらカウントする。\n",
    "        end\n",
    "    end\n",
    "    println(k*100/n,\"%\")\n",
    "end\n",
    "@time f()"
   ]
  },
  {
   "cell_type": "code",
   "execution_count": 4,
   "id": "df2c6ec2-c496-47fc-b1e1-7c736b861502",
   "metadata": {},
   "outputs": [
    {
     "name": "stdout",
     "output_type": "stream",
     "text": [
      "  4.503367 seconds\n",
      "  4.628079 seconds\n",
      "  4.628748 seconds\n"
     ]
    },
    {
     "data": {
      "text/plain": [
       "24.991691"
      ]
     },
     "execution_count": 4,
     "metadata": {},
     "output_type": "execute_result"
    }
   ],
   "source": [
    "using Random\n",
    "using StaticArrays\n",
    "\n",
    "function f1(n = 10^8)\n",
    "    a1, a2, a3 = (MVector{2, Float64}(undef) for _ in 1:3)\n",
    "    k = 0\n",
    "    for i in 1:n\n",
    "        randn!(a1); randn!(a2); randn!(a3) #3点ランダムにとる。\n",
    "        x1=a2-a1; x2=a3-a1; t1=(x1[1]*x2[1]+x1[2]*x2[2])/(sqrt(x1[1]^2+x1[2]^2)*sqrt(x2[1]^2+x2[2]^2)) # 1つ目の角のcos\n",
    "        x1=a1-a2; x2=a3-a2; t2=(x1[1]*x2[1]+x1[2]*x2[2])/(sqrt(x1[1]^2+x1[2]^2)*sqrt(x2[1]^2+x2[2]^2)) # 2つ目の角のcos\n",
    "        x1=a1-a3; x2=a2-a3; t3=(x1[1]*x2[1]+x1[2]*x2[2])/(sqrt(x1[1]^2+x1[2]^2)*sqrt(x2[1]^2+x2[2]^2)) # 3つ目の角のcos\n",
    "        if t1>0.0 && t2>0.0 && t3>0.0 # 3つの角が鋭角という条件\n",
    "            k+=1 # 条件を満たしたらカウントする。\n",
    "        end\n",
    "    end\n",
    "    100k/n\n",
    "end\n",
    "@time f1()\n",
    "@time f1()\n",
    "@time f1()"
   ]
  },
  {
   "cell_type": "code",
   "execution_count": 14,
   "id": "ce07a740-462e-472d-9fa2-bc9705807acb",
   "metadata": {},
   "outputs": [
    {
     "name": "stdout",
     "output_type": "stream",
     "text": [
      "  3.892183 seconds\n",
      "  4.069856 seconds\n",
      "  4.172848 seconds\n"
     ]
    },
    {
     "data": {
      "text/plain": [
       "24.999082"
      ]
     },
     "execution_count": 14,
     "metadata": {},
     "output_type": "execute_result"
    }
   ],
   "source": [
    "using LinearAlgebra\n",
    "using Random\n",
    "using StaticArrays\n",
    "\n",
    "function f2(n = 10^8)\n",
    "    a, b, c = (MVector{2, Float64}(undef) for _ in 1:3)\n",
    "    k = 0\n",
    "    for i in 1:n\n",
    "        randn!(a); randn!(b); randn!(c)\n",
    "        dot(b - a, c - a) ≤ 0 && continue\n",
    "        dot(c - b, a - b) ≤ 0 && continue\n",
    "        dot(a - c, b - c) ≤ 0 && continue\n",
    "        k += 1\n",
    "    end\n",
    "    100k/n\n",
    "end\n",
    "@time f2()\n",
    "@time f2()\n",
    "@time f2()"
   ]
  },
  {
   "cell_type": "code",
   "execution_count": 19,
   "id": "01425c35-bc1b-482e-863a-2b179fe2db8b",
   "metadata": {},
   "outputs": [
    {
     "name": "stdout",
     "output_type": "stream",
     "text": [
      "  3.285170 seconds\n",
      "  3.486152 seconds\n",
      "  3.502881 seconds\n"
     ]
    },
    {
     "data": {
      "text/plain": [
       "25.005378"
      ]
     },
     "execution_count": 19,
     "metadata": {},
     "output_type": "execute_result"
    }
   ],
   "source": [
    "using LinearAlgebra\n",
    "using Random\n",
    "using StaticArrays\n",
    "\n",
    "function f3(n = 10^8)\n",
    "    a, b, c = (MVector{2, Float64}(undef) for _ in 1:3)\n",
    "    k = 0\n",
    "    for i in 1:n\n",
    "        randn!(a); randn!(b); randn!(c)\n",
    "        k += (dot(b - a, c - a) > 0) & (dot(c - b, a - b) > 0) & (dot(a - c, b - c) > 0)\n",
    "    end\n",
    "    100k/n\n",
    "end\n",
    "@time f3()\n",
    "@time f3()\n",
    "@time f3()"
   ]
  },
  {
   "cell_type": "code",
   "execution_count": 16,
   "id": "5531c85f-d1c9-4e04-bdc6-88e5272ab46f",
   "metadata": {},
   "outputs": [
    {
     "name": "stdout",
     "output_type": "stream",
     "text": [
      "ENV[\"JULIA_NUM_THREADS\"] = \"12\"\n",
      "Threads.nthreads() = 12\n",
      "  1.287578 seconds (35.10 k allocations: 2.276 MiB, 37.44% compilation time)\n",
      "  1.310439 seconds (249 allocations: 20.812 KiB)\n",
      "  1.216011 seconds (244 allocations: 20.773 KiB)\n"
     ]
    },
    {
     "data": {
      "text/plain": [
       "24.997505"
      ]
     },
     "execution_count": 16,
     "metadata": {},
     "output_type": "execute_result"
    }
   ],
   "source": [
    "using LinearAlgebra\n",
    "using Random\n",
    "using StaticArrays\n",
    "\n",
    "@show ENV[\"JULIA_NUM_THREADS\"]\n",
    "@show Threads.nthreads();\n",
    "\n",
    "function f2threads(n = 10^8)\n",
    "    A, B, C = ([MVector{2, Float64}(undef) for _ in 1:Threads.nthreads()] for _ in 1:3)\n",
    "    K = zeros(Int, Threads.nthreads())\n",
    "    Threads.@threads for i in 1:n\n",
    "        tid = Threads.threadid()\n",
    "        a, b, c = A[tid], B[tid], C[tid]\n",
    "        randn!(a); randn!(b); randn!(c)\n",
    "        dot(b - a, c - a) ≤ 0 && continue\n",
    "        dot(c - b, a - b) ≤ 0 && continue\n",
    "        dot(a - c, b - c) ≤ 0 && continue\n",
    "        K[tid] += 1\n",
    "    end\n",
    "    100sum(K)/n\n",
    "end\n",
    "@time f2threads()\n",
    "@time f2threads()\n",
    "@time f2threads()"
   ]
  },
  {
   "cell_type": "code",
   "execution_count": 17,
   "id": "ac106b65-1cf7-498a-8b0d-f59171d24008",
   "metadata": {},
   "outputs": [
    {
     "name": "stdout",
     "output_type": "stream",
     "text": [
      "ENV[\"JULIA_NUM_THREADS\"] = \"12\"\n",
      "Threads.nthreads() = 12\n",
      "  1.869761 seconds (35.95 k allocations: 2.319 MiB, 24.28% compilation time)\n",
      "  1.768028 seconds (254 allocations: 21.406 KiB)\n",
      "  1.769308 seconds (258 allocations: 21.008 KiB)\n"
     ]
    },
    {
     "data": {
      "text/plain": [
       "24.998003"
      ]
     },
     "execution_count": 17,
     "metadata": {},
     "output_type": "execute_result"
    }
   ],
   "source": [
    "using LinearAlgebra\n",
    "using Random\n",
    "using StaticArrays\n",
    "\n",
    "@show ENV[\"JULIA_NUM_THREADS\"]\n",
    "@show Threads.nthreads();\n",
    "\n",
    "function f3threads(n = 10^8)\n",
    "    A, B, C = ([MVector{2, Float64}(undef) for _ in 1:Threads.nthreads()] for _ in 1:3)\n",
    "    K = zeros(Int, Threads.nthreads())\n",
    "    Threads.@threads for i in 1:n\n",
    "        tid = Threads.threadid()\n",
    "        a, b, c = A[tid], B[tid], C[tid]\n",
    "        randn!(a); randn!(b); randn!(c)\n",
    "        K[tid] += (dot(b - a, c - a) > 0) & (dot(c - b, a - b) > 0) & (dot(a - c, b - c) > 0)\n",
    "    end\n",
    "    100sum(K)/n\n",
    "end\n",
    "@time f3threads()\n",
    "@time f3threads()\n",
    "@time f3threads()"
   ]
  },
  {
   "cell_type": "code",
   "execution_count": null,
   "id": "82e80ed0-9886-46a4-b32d-3e2e6c7c33b3",
   "metadata": {},
   "outputs": [],
   "source": []
  }
 ],
 "metadata": {
  "jupytext": {
   "formats": "ipynb,jl:hydrogen"
  },
  "kernelspec": {
   "display_name": "Julia 1.9.1",
   "language": "julia",
   "name": "julia-1.9"
  },
  "language_info": {
   "file_extension": ".jl",
   "mimetype": "application/julia",
   "name": "julia",
   "version": "1.9.1"
  }
 },
 "nbformat": 4,
 "nbformat_minor": 5
}
