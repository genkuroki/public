{
 "cells": [
  {
   "cell_type": "code",
   "execution_count": 14,
   "id": "cdb1e4cc-11ab-4c62-8b23-5608acfa24ee",
   "metadata": {},
   "outputs": [
    {
     "name": "stdout",
     "output_type": "stream",
     "text": [
      "ts = symbols(\"ts\") = ts\n",
      "a = ((1 + 2im) * ts) / (ts ^ 2 + 2 ^ 2) = ts*(1 + 2*I)/(ts^2 + 4)\n",
      "as = imag(a) = 2*re(ts/(ts^2 + 4)) + im(ts/(ts^2 + 4))\n"
     ]
    },
    {
     "data": {
      "text/latex": [
       "$0.538461538461539$"
      ],
      "text/plain": [
       "0.538461538461539"
      ]
     },
     "execution_count": 14,
     "metadata": {},
     "output_type": "execute_result"
    }
   ],
   "source": [
    "using SymPy\n",
    "\n",
    "@show ts = symbols(\"ts\")\n",
    "@show a = (1 + 2im) * ts / (ts^2 + 2^2)\n",
    "@show as = imag(a)\n",
    "as.subs(ts, 2 + im).simplify()"
   ]
  },
  {
   "cell_type": "code",
   "execution_count": 13,
   "id": "77373ef3-3a87-42e2-a361-07a19abd73b4",
   "metadata": {},
   "outputs": [
    {
     "name": "stdout",
     "output_type": "stream",
     "text": [
      "ts = symbols(\"ts\", real = true) = ts\n",
      "a = ((1 + 2im) * ts) / (ts ^ 2 + 2 ^ 2) = ts*(1 + 2*I)/(ts^2 + 4)\n",
      "as = imag(a) = 2*ts/(ts^2 + 4)\n"
     ]
    },
    {
     "data": {
      "text/latex": [
       "$0.553846153846154 - 0.0307692307692308 i$"
      ],
      "text/plain": [
       "0.553846153846154 - 0.0307692307692308*I"
      ]
     },
     "execution_count": 13,
     "metadata": {},
     "output_type": "execute_result"
    }
   ],
   "source": [
    "using SymPy\n",
    "\n",
    "@show ts = symbols(\"ts\", real=true)\n",
    "@show a = (1 + 2im) * ts / (ts^2 + 2^2)\n",
    "@show as = imag(a)\n",
    "as.subs(ts, 2 + im).simplify()"
   ]
  },
  {
   "cell_type": "code",
   "execution_count": 12,
   "id": "a983913f-098c-4a2c-9426-cda8906c0f72",
   "metadata": {},
   "outputs": [
    {
     "name": "stdout",
     "output_type": "stream",
     "text": [
      "ts = symbols(\"ts\", real = true) = ts\n",
      "a = ((1 + 2 * Sym(im)) * ts) / (ts ^ 2 + 2 ^ 2) = ts*(1 + 2*I)/(ts^2 + 4)\n",
      "as = imag(a) = 2*ts/(ts^2 + 4)\n"
     ]
    },
    {
     "data": {
      "text/latex": [
       "$\\frac{36}{65} - \\frac{2 i}{65}$"
      ],
      "text/plain": [
       "36   2*I\n",
       "-- - ---\n",
       "65    65"
      ]
     },
     "execution_count": 12,
     "metadata": {},
     "output_type": "execute_result"
    }
   ],
   "source": [
    "using SymPy\n",
    "\n",
    "@show ts = symbols(\"ts\", real=true)\n",
    "@show a = (1 + 2Sym(im)) * ts / (ts^2 + 2^2)\n",
    "@show as = imag(a)\n",
    "as.subs(ts, (2 + Sym(im))).simplify()"
   ]
  },
  {
   "cell_type": "code",
   "execution_count": 11,
   "id": "888471b5-56ae-4c4c-8a94-a1f2f10de7d4",
   "metadata": {},
   "outputs": [
    {
     "name": "stdout",
     "output_type": "stream",
     "text": [
      "ts = symbols(\"ts\", real = true) = ts\n",
      "a = ((1 + 2 * sympy.I) * ts) / (ts ^ 2 + 2 ^ 2) = ts*(1 + 2*I)/(ts^2 + 4)\n",
      "as = imag(a) = 2*ts/(ts^2 + 4)\n"
     ]
    },
    {
     "data": {
      "text/latex": [
       "$\\frac{36}{65} - \\frac{2 i}{65}$"
      ],
      "text/plain": [
       "36   2*I\n",
       "-- - ---\n",
       "65    65"
      ]
     },
     "execution_count": 11,
     "metadata": {},
     "output_type": "execute_result"
    }
   ],
   "source": [
    "using SymPy\n",
    "\n",
    "@show ts = symbols(\"ts\", real=true)\n",
    "@show a = (1 + 2sympy.I) * ts / (ts^2 + 2^2)\n",
    "@show as = imag(a)\n",
    "as.subs(ts, Sym(2 + sympy.I)).simplify()"
   ]
  },
  {
   "cell_type": "code",
   "execution_count": 40,
   "id": "b8d0b9b4-9902-49f6-a498-cfdfaa1f4512",
   "metadata": {},
   "outputs": [
    {
     "data": {
      "text/plain": [
       "2.718281828516473148174028417211248398699578352121261784244806901486781839924938"
      ]
     },
     "execution_count": 40,
     "metadata": {},
     "output_type": "execute_result"
    }
   ],
   "source": [
    "using DifferentialEquations\n",
    "\n",
    "f(u, p, t) = u\n",
    "u0 = 1//1\n",
    "span = (0//1, 1//1)\n",
    "prob = ODEProblem(f, big(u0), big.(span))\n",
    "sol = solve(prob; dt=big(1//10))\n",
    "float(sol(1))"
   ]
  },
  {
   "cell_type": "code",
   "execution_count": 26,
   "id": "f77b3982-29de-4003-b722-acd80f221161",
   "metadata": {},
   "outputs": [
    {
     "data": {
      "text/plain": [
       "2.718281828459045235360287471352662497757247093699959574966967627724076630353555"
      ]
     },
     "execution_count": 26,
     "metadata": {},
     "output_type": "execute_result"
    }
   ],
   "source": [
    "big(ℯ)"
   ]
  },
  {
   "cell_type": "code",
   "execution_count": null,
   "id": "539f3379-1bff-489f-aae1-5fab5d89e9d9",
   "metadata": {},
   "outputs": [],
   "source": []
  }
 ],
 "metadata": {
  "kernelspec": {
   "display_name": "Julia 1.9.0",
   "language": "julia",
   "name": "julia-1.9"
  },
  "language_info": {
   "file_extension": ".jl",
   "mimetype": "application/julia",
   "name": "julia",
   "version": "1.9.0"
  }
 },
 "nbformat": 4,
 "nbformat_minor": 5
}
