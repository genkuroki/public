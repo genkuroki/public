{
 "cells": [
  {
   "cell_type": "code",
   "execution_count": 1,
   "id": "705de8bb-33f1-461e-b9c9-30678f82c4b5",
   "metadata": {},
   "outputs": [],
   "source": [
    "using Distributions\n",
    "using StatsPlots\n",
    "default(fmt=:png)"
   ]
  },
  {
   "cell_type": "code",
   "execution_count": 2,
   "id": "61e67d79-134f-4937-a24a-e5523a1a8736",
   "metadata": {},
   "outputs": [
    {
     "data": {
      "text/plain": [
       "0.039455413818359396"
      ]
     },
     "execution_count": 2,
     "metadata": {},
     "output_type": "execute_result"
    }
   ],
   "source": [
    "function pvalue_clopper_pearson(k, n, p)\n",
    "    bin = Binomial(n, p)\n",
    "    min(1, 2cdf(bin, k), 2ccdf(bin, k-1))\n",
    "end\n",
    "\n",
    "pvalue_clopper_pearson(6, 10, 1/4)"
   ]
  },
  {
   "cell_type": "code",
   "execution_count": 3,
   "id": "eb5d6d4a-cb70-4d93-a03d-7105946398ba",
   "metadata": {},
   "outputs": [
    {
     "data": {
      "text/plain": [
       "0.039455413818359396"
      ]
     },
     "execution_count": 3,
     "metadata": {},
     "output_type": "execute_result"
    }
   ],
   "source": [
    "2cdf(Beta(6, 10-6+1), 1/4)"
   ]
  },
  {
   "cell_type": "code",
   "execution_count": 4,
   "id": "31fa10d2-66cd-4478-947a-1b5806265b78",
   "metadata": {},
   "outputs": [
    {
     "data": {
      "text/plain": [
       "0.019727706909179726"
      ]
     },
     "execution_count": 4,
     "metadata": {},
     "output_type": "execute_result"
    }
   ],
   "source": [
    "x ⪅ y = x < y || x ≈ y\n",
    "\n",
    "function pvalue_sterne(k, n, p)\n",
    "    bin = Binomial(n, p)\n",
    "    sum(pdf(bin, j) for j in support(bin) if pdf(bin, j) ⪅ pdf(bin, k))\n",
    "end\n",
    "\n",
    "pvalue_sterne(6, 10, 1/4)"
   ]
  },
  {
   "cell_type": "code",
   "execution_count": 5,
   "id": "8000861f-b6c0-449e-85cd-f2be24930078",
   "metadata": {},
   "outputs": [
    {
     "data": {
      "text/plain": [
       "0.010587137334056944"
      ]
     },
     "execution_count": 5,
     "metadata": {},
     "output_type": "execute_result"
    }
   ],
   "source": [
    "function pvalue_wilson(k, n, p)\n",
    "    bin = Binomial(n, p)\n",
    "    μ, σ = mean(bin), std(bin)\n",
    "    normal = Normal(μ, σ)\n",
    "    min(1, 2cdf(normal, k), 2ccdf(normal, k))\n",
    "end\n",
    "\n",
    "pvalue_wilson(6, 10, 1/4)"
   ]
  },
  {
   "cell_type": "code",
   "execution_count": 6,
   "id": "46d1b21b-94c4-4e22-a702-0704b5724e2f",
   "metadata": {},
   "outputs": [
    {
     "data": {
      "text/plain": [
       "0.02386844216457435"
      ]
     },
     "execution_count": 6,
     "metadata": {},
     "output_type": "execute_result"
    }
   ],
   "source": [
    "function pvalue_wald(k, n, p)\n",
    "    bin = Binomial(n, p)\n",
    "    p̂ = k/n\n",
    "    μ, σ = mean(bin), √(n * p̂ * (1 - p̂))\n",
    "    normal = Normal(μ, σ)\n",
    "    min(1, 2cdf(normal, k), 2ccdf(normal, k))\n",
    "end\n",
    "\n",
    "pvalue_wald(6, 10, 1/4)"
   ]
  },
  {
   "cell_type": "code",
   "execution_count": null,
   "id": "475fb671-88b6-4868-aad1-61cf8dea377a",
   "metadata": {},
   "outputs": [],
   "source": []
  }
 ],
 "metadata": {
  "jupytext": {
   "formats": "ipynb,jl:hydrogen"
  },
  "kernelspec": {
   "display_name": "Julia 1.9.1",
   "language": "julia",
   "name": "julia-1.9"
  },
  "language_info": {
   "file_extension": ".jl",
   "mimetype": "application/julia",
   "name": "julia",
   "version": "1.9.1"
  }
 },
 "nbformat": 4,
 "nbformat_minor": 5
}
