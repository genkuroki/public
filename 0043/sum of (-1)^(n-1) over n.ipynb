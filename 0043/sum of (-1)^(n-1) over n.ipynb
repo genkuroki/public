{
 "cells": [
  {
   "cell_type": "markdown",
   "id": "87763c7c-3bb4-4d51-a50c-d4c7b2cf4e41",
   "metadata": {},
   "source": [
    "$\\displaystyle\\sum_{n=1}^L \\frac{(-1)^{n-1}}{n}$"
   ]
  },
  {
   "cell_type": "code",
   "execution_count": 1,
   "id": "036658df-8139-41eb-9b2c-5b37c949aa5e",
   "metadata": {},
   "outputs": [
    {
     "data": {
      "text/plain": [
       "0.6931471805599453"
      ]
     },
     "execution_count": 1,
     "metadata": {},
     "output_type": "execute_result"
    }
   ],
   "source": [
    "log(2)"
   ]
  },
  {
   "cell_type": "code",
   "execution_count": 2,
   "id": "eabf9823-bc66-44ff-b0cf-806fe80bf1ba",
   "metadata": {},
   "outputs": [
    {
     "name": "stdout",
     "output_type": "stream",
     "text": [
      "  0.508115 seconds (93.55 k allocations: 6.462 MiB, 1.52% gc time, 11.78% compilation time)\n",
      "  0.450990 seconds (4 allocations: 112 bytes)\n",
      "  0.452695 seconds (4 allocations: 112 bytes)\n"
     ]
    },
    {
     "data": {
      "text/plain": [
       "0.6931471305599488"
      ]
     },
     "execution_count": 2,
     "metadata": {},
     "output_type": "execute_result"
    }
   ],
   "source": [
    "a(n) = (-1)^(n-1)/n\n",
    "L = 10^7\n",
    "@time sum(a, 1:L)\n",
    "@time sum(a, 1:L)\n",
    "@time sum(a, 1:L)"
   ]
  },
  {
   "cell_type": "code",
   "execution_count": 3,
   "id": "950e63f0-11cf-4c9f-bb6c-1d3bae8d2264",
   "metadata": {},
   "outputs": [
    {
     "name": "stdout",
     "output_type": "stream",
     "text": [
      "  0.008668 seconds\n",
      "  0.008789 seconds\n",
      "  0.008613 seconds\n"
     ]
    },
    {
     "data": {
      "text/plain": [
       "0.6931471305598542"
      ]
     },
     "execution_count": 3,
     "metadata": {},
     "output_type": "execute_result"
    }
   ],
   "source": [
    "using LoopVectorization\n",
    "\n",
    "function f(L = 10^7)\n",
    "    s = 0.0\n",
    "    @turbo for n in 1:L\n",
    "        s += (-1)^(n-1)/n\n",
    "    end\n",
    "    s\n",
    "end\n",
    "\n",
    "@time f(10^7)\n",
    "@time f(10^7)\n",
    "@time f(10^7)"
   ]
  },
  {
   "cell_type": "code",
   "execution_count": null,
   "id": "57179275-99cb-40c9-9cb0-0174b2c4e4bf",
   "metadata": {},
   "outputs": [],
   "source": []
  }
 ],
 "metadata": {
  "jupytext": {
   "formats": "ipynb,jl:hydrogen"
  },
  "kernelspec": {
   "display_name": "Julia 1.9.1",
   "language": "julia",
   "name": "julia-1.9"
  },
  "language_info": {
   "file_extension": ".jl",
   "mimetype": "application/julia",
   "name": "julia",
   "version": "1.9.1"
  }
 },
 "nbformat": 4,
 "nbformat_minor": 5
}
