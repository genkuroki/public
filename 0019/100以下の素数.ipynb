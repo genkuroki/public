{
 "cells": [
  {
   "cell_type": "code",
   "execution_count": 1,
   "id": "9baee062-f5bb-477f-918f-cb5726f074b8",
   "metadata": {},
   "outputs": [
    {
     "data": {
      "text/plain": [
       "25-element Vector{Int64}:\n",
       "  2\n",
       "  3\n",
       "  5\n",
       "  7\n",
       " 11\n",
       " 13\n",
       " 17\n",
       " 19\n",
       " 23\n",
       " 29\n",
       " 31\n",
       " 37\n",
       " 41\n",
       " 43\n",
       " 47\n",
       " 53\n",
       " 59\n",
       " 61\n",
       " 67\n",
       " 71\n",
       " 73\n",
       " 79\n",
       " 83\n",
       " 89\n",
       " 97"
      ]
     },
     "execution_count": 1,
     "metadata": {},
     "output_type": "execute_result"
    }
   ],
   "source": [
    "(a->a[a.∉(a*a',)])(2:100)"
   ]
  },
  {
   "cell_type": "code",
   "execution_count": 2,
   "id": "211cbbce-423a-4f87-bdd0-60a0b0b93f86",
   "metadata": {},
   "outputs": [
    {
     "data": {
      "text/plain": [
       "supertypes (generic function with 1 method)"
      ]
     },
     "execution_count": 2,
     "metadata": {},
     "output_type": "execute_result"
    }
   ],
   "source": [
    "function supertypes(x)\n",
    "    T = typeof(x)\n",
    "    t = DataType[]\n",
    "    while T != Any\n",
    "        push!(t, T)\n",
    "        T = supertype(T)\n",
    "    end\n",
    "    t\n",
    "end"
   ]
  },
  {
   "cell_type": "code",
   "execution_count": 3,
   "id": "39201ad3-d81b-417f-8456-100beb7aea39",
   "metadata": {},
   "outputs": [
    {
     "data": {
      "text/plain": [
       "2:100"
      ]
     },
     "execution_count": 3,
     "metadata": {},
     "output_type": "execute_result"
    }
   ],
   "source": [
    "a = 2:100"
   ]
  },
  {
   "cell_type": "code",
   "execution_count": 4,
   "id": "8dc46592-285e-46c9-9eb4-094f43bf7354",
   "metadata": {},
   "outputs": [
    {
     "data": {
      "text/plain": [
       "5-element Vector{DataType}:\n",
       " UnitRange{Int64}\n",
       " AbstractUnitRange{Int64}\n",
       " OrdinalRange{Int64, Int64}\n",
       " AbstractRange{Int64}\n",
       " AbstractVector{Int64} (alias for AbstractArray{Int64, 1})"
      ]
     },
     "execution_count": 4,
     "metadata": {},
     "output_type": "execute_result"
    }
   ],
   "source": [
    "supertypes(a)"
   ]
  },
  {
   "cell_type": "code",
   "execution_count": 5,
   "id": "0c8bd329-4f33-4baf-afed-e143c29f30b5",
   "metadata": {},
   "outputs": [
    {
     "data": {
      "text/plain": [
       "99×99 Matrix{Int64}:\n",
       "   4    6    8   10   12   14   16  …   190   192   194   196   198    200\n",
       "   6    9   12   15   18   21   24      285   288   291   294   297    300\n",
       "   8   12   16   20   24   28   32      380   384   388   392   396    400\n",
       "  10   15   20   25   30   35   40      475   480   485   490   495    500\n",
       "  12   18   24   30   36   42   48      570   576   582   588   594    600\n",
       "  14   21   28   35   42   49   56  …   665   672   679   686   693    700\n",
       "  16   24   32   40   48   56   64      760   768   776   784   792    800\n",
       "  18   27   36   45   54   63   72      855   864   873   882   891    900\n",
       "  20   30   40   50   60   70   80      950   960   970   980   990   1000\n",
       "  22   33   44   55   66   77   88     1045  1056  1067  1078  1089   1100\n",
       "  24   36   48   60   72   84   96  …  1140  1152  1164  1176  1188   1200\n",
       "  26   39   52   65   78   91  104     1235  1248  1261  1274  1287   1300\n",
       "  28   42   56   70   84   98  112     1330  1344  1358  1372  1386   1400\n",
       "   ⋮                        ⋮       ⋱                 ⋮              \n",
       " 178  267  356  445  534  623  712     8455  8544  8633  8722  8811   8900\n",
       " 180  270  360  450  540  630  720     8550  8640  8730  8820  8910   9000\n",
       " 182  273  364  455  546  637  728     8645  8736  8827  8918  9009   9100\n",
       " 184  276  368  460  552  644  736  …  8740  8832  8924  9016  9108   9200\n",
       " 186  279  372  465  558  651  744     8835  8928  9021  9114  9207   9300\n",
       " 188  282  376  470  564  658  752     8930  9024  9118  9212  9306   9400\n",
       " 190  285  380  475  570  665  760     9025  9120  9215  9310  9405   9500\n",
       " 192  288  384  480  576  672  768     9120  9216  9312  9408  9504   9600\n",
       " 194  291  388  485  582  679  776  …  9215  9312  9409  9506  9603   9700\n",
       " 196  294  392  490  588  686  784     9310  9408  9506  9604  9702   9800\n",
       " 198  297  396  495  594  693  792     9405  9504  9603  9702  9801   9900\n",
       " 200  300  400  500  600  700  800     9500  9600  9700  9800  9900  10000"
      ]
     },
     "execution_count": 5,
     "metadata": {},
     "output_type": "execute_result"
    }
   ],
   "source": [
    "a*a'"
   ]
  },
  {
   "cell_type": "code",
   "execution_count": 6,
   "id": "5a2c5e2e-e1b5-4671-bd2d-bfe91566f8ce",
   "metadata": {},
   "outputs": [
    {
     "data": {
      "text/plain": [
       "3-element Vector{DataType}:\n",
       " Matrix{Int64} (alias for Array{Int64, 2})\n",
       " DenseMatrix{Int64} (alias for DenseArray{Int64, 2})\n",
       " AbstractMatrix{Int64} (alias for AbstractArray{Int64, 2})"
      ]
     },
     "execution_count": 6,
     "metadata": {},
     "output_type": "execute_result"
    }
   ],
   "source": [
    "supertypes(a*a')"
   ]
  },
  {
   "cell_type": "code",
   "execution_count": 7,
   "id": "00d077cd-f144-4ef3-9497-96036968f400",
   "metadata": {},
   "outputs": [
    {
     "data": {
      "text/plain": [
       "99-element BitVector:\n",
       " 1\n",
       " 1\n",
       " 0\n",
       " 1\n",
       " 0\n",
       " 1\n",
       " 0\n",
       " 0\n",
       " 0\n",
       " 1\n",
       " 0\n",
       " 1\n",
       " 0\n",
       " ⋮\n",
       " 1\n",
       " 0\n",
       " 0\n",
       " 0\n",
       " 0\n",
       " 0\n",
       " 0\n",
       " 0\n",
       " 1\n",
       " 0\n",
       " 0\n",
       " 0"
      ]
     },
     "execution_count": 7,
     "metadata": {},
     "output_type": "execute_result"
    }
   ],
   "source": [
    "a .∉ (a*a',)"
   ]
  },
  {
   "cell_type": "code",
   "execution_count": 8,
   "id": "4664dac0-11bf-46f3-a1b3-7f4c78586a54",
   "metadata": {},
   "outputs": [
    {
     "data": {
      "text/plain": [
       "2-element Vector{DataType}:\n",
       " BitVector (alias for BitArray{1})\n",
       " AbstractVector{Bool} (alias for AbstractArray{Bool, 1})"
      ]
     },
     "execution_count": 8,
     "metadata": {},
     "output_type": "execute_result"
    }
   ],
   "source": [
    "supertypes(a .∉ (a*a',))"
   ]
  },
  {
   "cell_type": "code",
   "execution_count": 9,
   "id": "2d11809b-d0d0-4993-8bd4-42d3dc763e8b",
   "metadata": {},
   "outputs": [
    {
     "data": {
      "text/plain": [
       "25-element Vector{Int64}:\n",
       "  2\n",
       "  3\n",
       "  5\n",
       "  7\n",
       " 11\n",
       " 13\n",
       " 17\n",
       " 19\n",
       " 23\n",
       " 29\n",
       " 31\n",
       " 37\n",
       " 41\n",
       " 43\n",
       " 47\n",
       " 53\n",
       " 59\n",
       " 61\n",
       " 67\n",
       " 71\n",
       " 73\n",
       " 79\n",
       " 83\n",
       " 89\n",
       " 97"
      ]
     },
     "execution_count": 9,
     "metadata": {},
     "output_type": "execute_result"
    }
   ],
   "source": [
    "a[a .∉ (a*a',)]"
   ]
  },
  {
   "cell_type": "code",
   "execution_count": 10,
   "id": "47e3bdf8-44dc-4113-8d07-893dcd12bf0e",
   "metadata": {},
   "outputs": [
    {
     "data": {
      "text/plain": [
       "3-element Vector{DataType}:\n",
       " Vector{Int64} (alias for Array{Int64, 1})\n",
       " DenseVector{Int64} (alias for DenseArray{Int64, 1})\n",
       " AbstractVector{Int64} (alias for AbstractArray{Int64, 1})"
      ]
     },
     "execution_count": 10,
     "metadata": {},
     "output_type": "execute_result"
    }
   ],
   "source": [
    "supertypes(a[a .∉ (a*a',)])"
   ]
  },
  {
   "cell_type": "code",
   "execution_count": null,
   "id": "bfb1721d-4648-49be-aaad-2cdfffc66f08",
   "metadata": {},
   "outputs": [],
   "source": []
  }
 ],
 "metadata": {
  "jupytext": {
   "encoding": "# -*- coding: utf-8 -*-",
   "formats": "ipynb,jl:hydrogen"
  },
  "kernelspec": {
   "display_name": "Julia 1.6.2",
   "language": "julia",
   "name": "julia-1.6"
  },
  "language_info": {
   "file_extension": ".jl",
   "mimetype": "application/julia",
   "name": "julia",
   "version": "1.6.2"
  }
 },
 "nbformat": 4,
 "nbformat_minor": 5
}
