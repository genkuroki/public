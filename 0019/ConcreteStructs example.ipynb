{
 "cells": [
  {
   "cell_type": "code",
   "execution_count": 1,
   "id": "b9831bfb-d51d-4da1-a299-ca38b5b662b4",
   "metadata": {},
   "outputs": [],
   "source": [
    "using Parameters"
   ]
  },
  {
   "cell_type": "code",
   "execution_count": 2,
   "id": "d7d7df8f-be9c-4edb-8dd1-a80f69d0a5e5",
   "metadata": {},
   "outputs": [
    {
     "data": {
      "text/plain": [
       "(a = 1, b = 2.0, c = \"three\", d = 1267650600228229401496703205376)"
      ]
     },
     "execution_count": 2,
     "metadata": {},
     "output_type": "execute_result"
    }
   ],
   "source": [
    "nt = (\n",
    "    a = 1,\n",
    "    b = 2.0,\n",
    "    c = \"three\",\n",
    "    d = big(2)^100,\n",
    ")"
   ]
  },
  {
   "cell_type": "code",
   "execution_count": 3,
   "id": "777262c2-90f8-427f-a0f5-0a30cddb5812",
   "metadata": {},
   "outputs": [
    {
     "name": "stdout",
     "output_type": "stream",
     "text": [
      "b = 2.0\n",
      "d = 1267650600228229401496703205376\n"
     ]
    }
   ],
   "source": [
    "@unpack d, b = nt\n",
    "@show b d;"
   ]
  },
  {
   "cell_type": "code",
   "execution_count": 4,
   "id": "6f013f09-0852-4904-9cbe-37ea169c08c3",
   "metadata": {},
   "outputs": [
    {
     "data": {
      "text/plain": [
       "Foo{Int64, Float64, String, BigInt}(10, 20.0, \"thirty\", 10633823966279326983230456482242756608)"
      ]
     },
     "execution_count": 4,
     "metadata": {},
     "output_type": "execute_result"
    }
   ],
   "source": [
    "using ConcreteStructs\n",
    "\n",
    "Base.@kwdef @concrete struct Foo\n",
    "    a = 10\n",
    "    b = 20.0\n",
    "    c = \"thirty\"\n",
    "    d = big(2)^123\n",
    "end\n",
    "\n",
    "foo = Foo()"
   ]
  },
  {
   "cell_type": "code",
   "execution_count": 5,
   "id": "1a2127de-af5e-486e-b719-56418a0a984b",
   "metadata": {},
   "outputs": [
    {
     "data": {
      "text/plain": [
       "(Int64, Float64, String, BigInt)"
      ]
     },
     "execution_count": 5,
     "metadata": {},
     "output_type": "execute_result"
    }
   ],
   "source": [
    "fieldtypes(typeof(foo))"
   ]
  },
  {
   "cell_type": "code",
   "execution_count": 6,
   "id": "7da65aa4-f019-471d-939e-a93e40203033",
   "metadata": {},
   "outputs": [
    {
     "name": "stdout",
     "output_type": "stream",
     "text": [
      "b = 20.0\n",
      "d = 10633823966279326983230456482242756608\n"
     ]
    }
   ],
   "source": [
    "@unpack d, b = foo\n",
    "@show b d;"
   ]
  },
  {
   "cell_type": "code",
   "execution_count": 7,
   "id": "53dfa70f-7d27-498a-804c-7432dcc7f490",
   "metadata": {},
   "outputs": [
    {
     "name": "stdout",
     "output_type": "stream",
     "text": [
      "a = 10\n",
      "c = \"thirty\"\n"
     ]
    }
   ],
   "source": [
    "(; a, c) = foo\n",
    "@show a c;"
   ]
  },
  {
   "cell_type": "code",
   "execution_count": 8,
   "id": "318f065c-3282-4c4b-b619-3996e6fd33e8",
   "metadata": {},
   "outputs": [
    {
     "data": {
      "text/plain": [
       "v\"1.8.0-DEV.470\""
      ]
     },
     "execution_count": 8,
     "metadata": {},
     "output_type": "execute_result"
    }
   ],
   "source": [
    "VERSION"
   ]
  },
  {
   "cell_type": "code",
   "execution_count": null,
   "id": "cb8f944f-b8cf-4528-abf5-89dd7089147b",
   "metadata": {},
   "outputs": [],
   "source": []
  }
 ],
 "metadata": {
  "kernelspec": {
   "display_name": "Julia 1.8.0-DEV",
   "language": "julia",
   "name": "julia-1.8"
  },
  "language_info": {
   "file_extension": ".jl",
   "mimetype": "application/julia",
   "name": "julia",
   "version": "1.8.0"
  }
 },
 "nbformat": 4,
 "nbformat_minor": 5
}
