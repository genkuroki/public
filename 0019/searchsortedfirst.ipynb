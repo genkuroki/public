{
 "cells": [
  {
   "cell_type": "code",
   "execution_count": 1,
   "id": "374cd0d6-5838-4925-8087-6b8d7a04c886",
   "metadata": {},
   "outputs": [],
   "source": [
    "using BenchmarkTools\n",
    "using Base.Sort"
   ]
  },
  {
   "cell_type": "code",
   "execution_count": 2,
   "id": "5599b23c-97a7-44e0-9426-e9eb557b0c35",
   "metadata": {},
   "outputs": [
    {
     "data": {
      "text/plain": [
       "h! (generic function with 1 method)"
      ]
     },
     "execution_count": 2,
     "metadata": {},
     "output_type": "execute_result"
    }
   ],
   "source": [
    "function f!(a, b)\n",
    "    for x in b\n",
    "        push!(a, x)\n",
    "        sort!(a)\n",
    "    end\n",
    "    a\n",
    "end\n",
    "\n",
    "function g!(a, b)\n",
    "    append!(a, b)\n",
    "    sort!(a)\n",
    "end\n",
    "\n",
    "function h!(a, b)\n",
    "    for x in b\n",
    "        i = Base.Sort.searchsortedfirst(a, x)\n",
    "        insert!(a, i, x)\n",
    "    end\n",
    "    a\n",
    "end"
   ]
  },
  {
   "cell_type": "code",
   "execution_count": 13,
   "id": "9c7d9c43-ea5a-439f-b29d-aeac54e974cb",
   "metadata": {},
   "outputs": [
    {
     "data": {
      "text/plain": [
       "([0.0020643061514924455, 0.003159625469048244, 0.004698699657677219, 0.004951307470823618, 0.005119495927695894, 0.005686257941762474, 0.005737246710419974, 0.006293463018844259, 0.0065981903672351905, 0.006817309334387733  …  0.9921246611004808, 0.9925083638691115, 0.9925266203001877, 0.9946039414083103, 0.9966202139248339, 0.9966547034276048, 0.9972614083494313, 0.997455688235342, 0.9976310779076223, 0.9977889657854624], [0.15944570583984619, 0.45953224718794794, 0.27647902085294884, 0.933811892138106, 0.2612007835974035, 0.38150261028509624, 0.1845282246789035, 0.09380565053461787, 0.09712827811891844, 0.2817566460678367])"
      ]
     },
     "execution_count": 13,
     "metadata": {},
     "output_type": "execute_result"
    }
   ],
   "source": [
    "a, b = sort(rand(1000)), rand(10)"
   ]
  },
  {
   "cell_type": "code",
   "execution_count": 4,
   "id": "4cceb1ca-4e94-480e-8bd0-8169b6076044",
   "metadata": {},
   "outputs": [
    {
     "data": {
      "text/plain": [
       "true"
      ]
     },
     "execution_count": 4,
     "metadata": {},
     "output_type": "execute_result"
    }
   ],
   "source": [
    "f!(copy(a), b) == g!(copy(a), b) == h!(copy(a), b)"
   ]
  },
  {
   "cell_type": "code",
   "execution_count": 5,
   "id": "b2de9272-16fb-42d3-8628-75ec6c67c0d9",
   "metadata": {},
   "outputs": [
    {
     "name": "stdout",
     "output_type": "stream",
     "text": [
      "  48.300 μs (1 allocation: 15.69 KiB)\n"
     ]
    }
   ],
   "source": [
    "@btime f!(A, $b) setup=(A = copy(a));"
   ]
  },
  {
   "cell_type": "code",
   "execution_count": 6,
   "id": "f73f9e9f-57b3-47d3-8981-cc8b93c868b3",
   "metadata": {},
   "outputs": [
    {
     "name": "stdout",
     "output_type": "stream",
     "text": [
      "  6.000 μs (1 allocation: 15.69 KiB)\n"
     ]
    }
   ],
   "source": [
    "@btime g!(A, $b) setup=(A = copy(a));"
   ]
  },
  {
   "cell_type": "code",
   "execution_count": 7,
   "id": "30cad775-a5e8-41d6-bbf9-0e31d5e16c49",
   "metadata": {},
   "outputs": [
    {
     "name": "stdout",
     "output_type": "stream",
     "text": [
      "  706.250 ns (0 allocations: 1004 bytes)\n"
     ]
    }
   ],
   "source": [
    "@btime h!(A, $b) setup=(A = copy(a));"
   ]
  },
  {
   "cell_type": "code",
   "execution_count": 8,
   "id": "da17ac70-2a6c-4c91-8039-71a19c64f053",
   "metadata": {},
   "outputs": [
    {
     "name": "stdout",
     "output_type": "stream",
     "text": [
      "  47.500 μs (0 allocations: 0 bytes)\n"
     ]
    }
   ],
   "source": [
    "@btime f!(A, $b) setup=(A = copy(a); sizehint!(A, length(a)+length(b)));"
   ]
  },
  {
   "cell_type": "code",
   "execution_count": 9,
   "id": "d0a39eb3-9100-485f-bd17-bf3336d92380",
   "metadata": {},
   "outputs": [
    {
     "name": "stdout",
     "output_type": "stream",
     "text": [
      "  5.300 μs (0 allocations: 0 bytes)\n"
     ]
    }
   ],
   "source": [
    "@btime g!(A, $b) setup=(A = copy(a); sizehint!(A, length(a)+length(b)));"
   ]
  },
  {
   "cell_type": "code",
   "execution_count": 10,
   "id": "c437830f-92eb-441f-a9c6-386f993b1bbd",
   "metadata": {},
   "outputs": [
    {
     "name": "stdout",
     "output_type": "stream",
     "text": [
      "  717.647 ns (0 allocations: 0 bytes)\n"
     ]
    }
   ],
   "source": [
    "@btime h!(A, $b) setup=(A = copy(a); sizehint!(A, length(a)+length(b)));"
   ]
  },
  {
   "cell_type": "code",
   "execution_count": 18,
   "id": "0572c841-2fca-4985-b0b0-e292f8f0bba8",
   "metadata": {},
   "outputs": [
    {
     "name": "stdout",
     "output_type": "stream",
     "text": [
      "  3.129 ms (10 allocations: 160 bytes)\n"
     ]
    },
    {
     "data": {
      "text/plain": [
       "48200-element Vector{Float64}:\n",
       " 0.0020643061514924455\n",
       " 0.003159625469048244\n",
       " 0.004698699657677219\n",
       " 0.004951307470823618\n",
       " 0.005119495927695894\n",
       " 0.005686257941762474\n",
       " 0.005737246710419974\n",
       " 0.006293463018844259\n",
       " 0.0065981903672351905\n",
       " 0.006817309334387733\n",
       " 0.007284505129242502\n",
       " 0.00832386523540074\n",
       " 0.011937050227307067\n",
       " ⋮\n",
       " 0.9917959829385872\n",
       " 0.9918062433272767\n",
       " 0.9921246611004808\n",
       " 0.9925083638691115\n",
       " 0.9925266203001877\n",
       " 0.9946039414083103\n",
       " 0.9966202139248339\n",
       " 0.9966547034276048\n",
       " 0.9972614083494313\n",
       " 0.997455688235342\n",
       " 0.9976310779076223\n",
       " 0.9977889657854624"
      ]
     },
     "execution_count": 18,
     "metadata": {},
     "output_type": "execute_result"
    }
   ],
   "source": [
    "A = copy(a)\n",
    "@btime begin\n",
    "    for i in 1:10\n",
    "        push!(A, b[i])\n",
    "        sort!(A)\n",
    "    end\n",
    "    A\n",
    "end"
   ]
  },
  {
   "cell_type": "code",
   "execution_count": 19,
   "id": "b4bce9d9-c725-4704-814f-107ebadf8c8a",
   "metadata": {},
   "outputs": [
    {
     "name": "stdout",
     "output_type": "stream",
     "text": [
      "  53.500 μs (10 allocations: 160 bytes)\n"
     ]
    }
   ],
   "source": [
    "@btime begin\n",
    "    for i in 1:10\n",
    "        push!(B, b[i])\n",
    "        sort!(B)\n",
    "    end\n",
    "    B\n",
    "end setup=(B = copy(a); sizehint!(B, length(a)+length(b)));"
   ]
  },
  {
   "cell_type": "code",
   "execution_count": null,
   "id": "1f06bf12-7d7c-4872-a9ae-b36c62ee356b",
   "metadata": {},
   "outputs": [],
   "source": []
  }
 ],
 "metadata": {
  "jupytext": {
   "formats": "ipynb,auto:hydrogen"
  },
  "kernelspec": {
   "display_name": "Julia 1.6.2",
   "language": "julia",
   "name": "julia-1.6"
  },
  "language_info": {
   "file_extension": ".jl",
   "mimetype": "application/julia",
   "name": "julia",
   "version": "1.6.2"
  }
 },
 "nbformat": 4,
 "nbformat_minor": 5
}
