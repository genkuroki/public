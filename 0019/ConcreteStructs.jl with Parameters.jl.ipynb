{
 "cells": [
  {
   "cell_type": "markdown",
   "id": "21f8d1d2-2d28-4501-8588-8b7c01a39e98",
   "metadata": {},
   "source": [
    "# Attempt to use ConcreteStructs.jl with Parameters.jl\n",
    "\n",
    "* Gen Kuroki\n",
    "* 2021-09-06\n",
    "\n",
    "I have independently tried to make ConcreteStructs.jl and Parameters.jl work together well.\n",
    "\n",
    "__Conclusion:__ It is possible to do so by making the following two changes.\n",
    "\n",
    "* Change `@concrete` not creating the inner constructor, so that the `Foo{__T_a, __T_b, __T_c}(a, b, c)`-type default constructor will be defined.\n",
    "* Change `@with_kw` expanding macros in the argument, like `Base.@kwdef`.\n",
    "\n",
    "Then `@concrete` works well with `@with_kw` and more completely with `Base.@kwdef`.\n",
    "\n",
    "See below for details."
   ]
  },
  {
   "cell_type": "code",
   "execution_count": 1,
   "id": "83684c3d-6073-4229-9be6-506f260aa70d",
   "metadata": {},
   "outputs": [
    {
     "data": {
      "text/plain": [
       "v\"1.6.2\""
      ]
     },
     "execution_count": 1,
     "metadata": {},
     "output_type": "execute_result"
    }
   ],
   "source": [
    "VERSION"
   ]
  },
  {
   "cell_type": "code",
   "execution_count": 2,
   "id": "6d85a390-9f76-4d9e-9bbd-415de4a254f3",
   "metadata": {},
   "outputs": [
    {
     "data": {
      "text/plain": [
       "@macroexpand_rmln (macro with 1 method)"
      ]
     },
     "execution_count": 2,
     "metadata": {},
     "output_type": "execute_result"
    }
   ],
   "source": [
    "using ConcreteStructs\n",
    "using Parameters\n",
    "\n",
    "macro macroexpand_rmln(code)\n",
    "    :(macroexpand($__module__, $(QuoteNode(code)), recursive=true) |>\n",
    "        Base.remove_linenums!)\n",
    "end"
   ]
  },
  {
   "cell_type": "markdown",
   "id": "86d54c33-b20d-4b63-a559-0ed5a10d872b",
   "metadata": {},
   "source": [
    "## Plain struct"
   ]
  },
  {
   "cell_type": "code",
   "execution_count": 3,
   "id": "1f87c721-f85d-4f71-a027-a78cb57209b3",
   "metadata": {},
   "outputs": [],
   "source": [
    "struct Foo{A, B, C}\n",
    "    a::A\n",
    "    b::B\n",
    "    c::C\n",
    "end"
   ]
  },
  {
   "cell_type": "code",
   "execution_count": 4,
   "id": "96fa6476-5065-49e9-aa93-ca315327018e",
   "metadata": {},
   "outputs": [
    {
     "data": {
      "text/html": [
       "# 1 method for type constructor:<ul><li> Foo(a::<b>A</b>, b::<b>B</b>, c::<b>C</b>)<i> where {A, B, C}</i> in Main at In[3]:2</li> </ul>"
      ],
      "text/plain": [
       "# 1 method for type constructor:\n",
       "[1] Foo(a::A, b::B, c::C) where {A, B, C} in Main at In[3]:2"
      ]
     },
     "execution_count": 4,
     "metadata": {},
     "output_type": "execute_result"
    }
   ],
   "source": [
    "methods(Foo)"
   ]
  },
  {
   "cell_type": "code",
   "execution_count": 5,
   "id": "d1f0cd3a-3dd1-43df-b6f0-b9f1a9862c62",
   "metadata": {},
   "outputs": [
    {
     "data": {
      "text/html": [
       "# 1 method for type constructor:<ul><li> Foo{A, B, C}(a, b, c)<i> where {A, B, C}</i> in Main at In[3]:2</li> </ul>"
      ],
      "text/plain": [
       "# 1 method for type constructor:\n",
       "[1] Foo{A, B, C}(a, b, c) where {A, B, C} in Main at In[3]:2"
      ]
     },
     "execution_count": 5,
     "metadata": {},
     "output_type": "execute_result"
    }
   ],
   "source": [
    "methods(Foo{1,2,3})"
   ]
  },
  {
   "cell_type": "markdown",
   "id": "bfc79448-f72c-4201-b338-979f0e4d76d8",
   "metadata": {},
   "source": [
    "The default constructor `Foo{A, B, C}(a, b, c)` is defined."
   ]
  },
  {
   "cell_type": "markdown",
   "id": "faa08cc8-1bbe-477a-8d66-008eec7edaf9",
   "metadata": {},
   "source": [
    "## @concrete struct\n",
    "\n",
    "`@concrete` removes the `Foo_concrete{__T_a, __T_b, __T_c}(a, b, c)`-type default constructor."
   ]
  },
  {
   "cell_type": "code",
   "execution_count": 6,
   "id": "ead18047-3617-4add-a744-36015ebff04e",
   "metadata": {},
   "outputs": [],
   "source": [
    "@concrete struct Foo_concrete\n",
    "    a\n",
    "    b\n",
    "    c\n",
    "end"
   ]
  },
  {
   "cell_type": "code",
   "execution_count": 7,
   "id": "f7c7a3fb-833d-416a-b109-aa7571a30dbf",
   "metadata": {},
   "outputs": [
    {
     "data": {
      "text/html": [
       "# 1 method for type constructor:<ul><li> Foo_concrete(a::<b>__T_a</b>, b::<b>__T_b</b>, c::<b>__T_c</b>)<i> where {__T_a, __T_b, __T_c}</i> in Main at <a href=\"file://D:/.julia/packages/ConcreteStructs/7Lv7u/src/ConcreteStructs.jl\" target=\"_blank\">D:\\.julia\\packages\\ConcreteStructs\\7Lv7u\\src\\ConcreteStructs.jl:142</a></li> </ul>"
      ],
      "text/plain": [
       "# 1 method for type constructor:\n",
       "[1] Foo_concrete(a::__T_a, b::__T_b, c::__T_c) where {__T_a, __T_b, __T_c} in Main at D:\\.julia\\packages\\ConcreteStructs\\7Lv7u\\src\\ConcreteStructs.jl:142"
      ]
     },
     "execution_count": 7,
     "metadata": {},
     "output_type": "execute_result"
    }
   ],
   "source": [
    "methods(Foo_concrete)"
   ]
  },
  {
   "cell_type": "code",
   "execution_count": 8,
   "id": "0519be09-563a-4cc1-947e-6c12c1a36669",
   "metadata": {},
   "outputs": [
    {
     "data": {
      "text/html": [
       "# 0 methods for type constructor:<ul></ul>"
      ],
      "text/plain": [
       "# 0 methods for type constructor:"
      ]
     },
     "execution_count": 8,
     "metadata": {},
     "output_type": "execute_result"
    }
   ],
   "source": [
    "methods(Foo_concrete{1,2,3})"
   ]
  },
  {
   "cell_type": "markdown",
   "id": "ab60f0a4-67dd-486f-ad4e-96d7182a6d3f",
   "metadata": {},
   "source": [
    "`Foo_concrete{__T_a, __T_b, __T_c}(a, b, c)` is not defined because only the inner constructor `Foo_concrete(a::__T_a, b::__T_b, c::__T_c)` is defined."
   ]
  },
  {
   "cell_type": "code",
   "execution_count": 9,
   "id": "623a3801-a41c-4e3c-aa83-028eb21352fd",
   "metadata": {},
   "outputs": [
    {
     "data": {
      "text/plain": [
       ":(struct Foo_concrete{__T_a, __T_b, __T_c} <: Any\n",
       "      a::__T_a\n",
       "      b::__T_b\n",
       "      c::__T_c\n",
       "      function Foo_concrete(a::__T_a, b::__T_b, c::__T_c) where {__T_a, __T_b, __T_c}\n",
       "          return new{__T_a, __T_b, __T_c}(a, b, c)\n",
       "      end\n",
       "  end)"
      ]
     },
     "execution_count": 9,
     "metadata": {},
     "output_type": "execute_result"
    }
   ],
   "source": [
    "@macroexpand_rmln @concrete struct Foo_concrete\n",
    "    a\n",
    "    b\n",
    "    c\n",
    "end"
   ]
  },
  {
   "cell_type": "markdown",
   "id": "ce10d568-af5c-4757-8701-ee7a1c2cce22",
   "metadata": {},
   "source": [
    "## Base.@kwdef concrete struct"
   ]
  },
  {
   "cell_type": "code",
   "execution_count": 10,
   "id": "1f98e19d-4055-456d-91f9-e3923811afcb",
   "metadata": {},
   "outputs": [],
   "source": [
    "Base.@kwdef @concrete struct Foo_kwdef_concrete\n",
    "    a = 1\n",
    "    b = 2.0\n",
    "    c = \"three\"\n",
    "end"
   ]
  },
  {
   "cell_type": "code",
   "execution_count": 11,
   "id": "fbfc7d91-7ae5-4202-a099-e799f2ea5458",
   "metadata": {},
   "outputs": [
    {
     "data": {
      "text/plain": [
       "Foo_kwdef_concrete{Int64, Float64, String}(1, 2.0, \"three\")"
      ]
     },
     "execution_count": 11,
     "metadata": {},
     "output_type": "execute_result"
    }
   ],
   "source": [
    "Foo_kwdef_concrete()"
   ]
  },
  {
   "cell_type": "code",
   "execution_count": 12,
   "id": "59ad8e9c-aa08-4d02-8be5-b9fc5fb4a837",
   "metadata": {},
   "outputs": [
    {
     "ename": "LoadError",
     "evalue": "MethodError: no method matching Foo_kwdef_concrete{Int64, Float64, String}(::Int64, ::Float64, ::String)",
     "output_type": "error",
     "traceback": [
      "MethodError: no method matching Foo_kwdef_concrete{Int64, Float64, String}(::Int64, ::Float64, ::String)",
      "",
      "Stacktrace:",
      " [1] Foo_kwdef_concrete{Int64, Float64, String}(; a::Int64, b::Float64, c::String)",
      "   @ Main .\\util.jl:462",
      " [2] top-level scope",
      "   @ In[12]:1",
      " [3] eval",
      "   @ .\\boot.jl:360 [inlined]",
      " [4] include_string(mapexpr::typeof(REPL.softscope), mod::Module, code::String, filename::String)",
      "   @ Base .\\loading.jl:1116"
     ]
    }
   ],
   "source": [
    "Foo_kwdef_concrete{Int, Float64, String}(a = 4, b = 5.0, c = \"six\")"
   ]
  },
  {
   "cell_type": "markdown",
   "id": "4666838d-7b70-4cd9-be21-ebad56c6c563",
   "metadata": {},
   "source": [
    "The reason for this error is that `Foo_kwdef_concrete{__T_a, __T_b, __T_c}(a, b, c)` is not defined."
   ]
  },
  {
   "cell_type": "code",
   "execution_count": 13,
   "id": "7bd1e17f-3eb2-4620-a15d-26cc74bd73ad",
   "metadata": {},
   "outputs": [
    {
     "data": {
      "text/html": [
       "# 2 methods for type constructor:<ul><li> Foo_kwdef_concrete(; <i>a, b, c</i>) in Main at <a href=\"file://D:\\Julia-1.6.2\\share\\julia\\base\\util.jl\" target=\"_blank\">util.jl:461</a></li> <li> Foo_kwdef_concrete(a::<b>__T_a</b>, b::<b>__T_b</b>, c::<b>__T_c</b>)<i> where {__T_a, __T_b, __T_c}</i> in Main at <a href=\"file://D:/.julia/packages/ConcreteStructs/7Lv7u/src/ConcreteStructs.jl\" target=\"_blank\">D:\\.julia\\packages\\ConcreteStructs\\7Lv7u\\src\\ConcreteStructs.jl:142</a></li> </ul>"
      ],
      "text/plain": [
       "# 2 methods for type constructor:\n",
       "[1] Foo_kwdef_concrete(; a, b, c) in Main at util.jl:461\n",
       "[2] Foo_kwdef_concrete(a::__T_a, b::__T_b, c::__T_c) where {__T_a, __T_b, __T_c} in Main at D:\\.julia\\packages\\ConcreteStructs\\7Lv7u\\src\\ConcreteStructs.jl:142"
      ]
     },
     "execution_count": 13,
     "metadata": {},
     "output_type": "execute_result"
    }
   ],
   "source": [
    "methods(Foo_kwdef_concrete)"
   ]
  },
  {
   "cell_type": "code",
   "execution_count": 14,
   "id": "d12340e2-ba67-4f64-8d16-4bdc2158d655",
   "metadata": {},
   "outputs": [
    {
     "data": {
      "text/html": [
       "# 1 method for type constructor:<ul><li> Foo_kwdef_concrete{__T_a, __T_b, __T_c}(; <i>a, b, c</i>)<i> where {__T_a, __T_b, __T_c}</i> in Main at <a href=\"file://D:\\Julia-1.6.2\\share\\julia\\base\\util.jl\" target=\"_blank\">util.jl:462</a></li> </ul>"
      ],
      "text/plain": [
       "# 1 method for type constructor:\n",
       "[1] Foo_kwdef_concrete{__T_a, __T_b, __T_c}(; a, b, c) where {__T_a, __T_b, __T_c} in Main at util.jl:462"
      ]
     },
     "execution_count": 14,
     "metadata": {},
     "output_type": "execute_result"
    }
   ],
   "source": [
    "methods(Foo_kwdef_concrete{1,2,3})"
   ]
  },
  {
   "cell_type": "code",
   "execution_count": 15,
   "id": "43fad65c-d852-4ce1-9a62-e8b743154449",
   "metadata": {},
   "outputs": [
    {
     "data": {
      "text/plain": [
       "quote\n",
       "    begin\n",
       "        $(Expr(:meta, :doc))\n",
       "        struct Foo_kwdef_concrete{__T_a, __T_b, __T_c} <: Any\n",
       "            a::__T_a\n",
       "            b::__T_b\n",
       "            c::__T_c\n",
       "            function Foo_kwdef_concrete(a::__T_a, b::__T_b, c::__T_c) where {__T_a, __T_b, __T_c}\n",
       "                return new{__T_a, __T_b, __T_c}(a, b, c)\n",
       "            end\n",
       "        end\n",
       "    end\n",
       "    begin\n",
       "        Foo_kwdef_concrete(; a, b, c) = begin\n",
       "                Foo_kwdef_concrete(a, b, c)\n",
       "            end\n",
       "        (Foo_kwdef_concrete{__T_a, __T_b, __T_c}(; a, b, c) where {__T_a, __T_b, __T_c}) = begin\n",
       "                Foo_kwdef_concrete{__T_a, __T_b, __T_c}(a, b, c)\n",
       "            end\n",
       "    end\n",
       "end"
      ]
     },
     "execution_count": 15,
     "metadata": {},
     "output_type": "execute_result"
    }
   ],
   "source": [
    "@macroexpand_rmln Base.@kwdef @concrete struct Foo_kwdef_concrete\n",
    "    a\n",
    "    b\n",
    "    c\n",
    "end"
   ]
  },
  {
   "cell_type": "markdown",
   "id": "ad7d24ef-8613-4c8b-a014-7816b82bb182",
   "metadata": {},
   "source": [
    "## @with_kw @concrete struct causes error"
   ]
  },
  {
   "cell_type": "code",
   "execution_count": 16,
   "id": "a7bfa108-1b42-4a4d-a007-ada7c0d4d41d",
   "metadata": {},
   "outputs": [
    {
     "ename": "LoadError",
     "evalue": "LoadError: Only works on type-defs or named tuples.\nMake sure to have a space after `@with_kw`, e.g. `@with_kw (a=1,)\nAlso, make sure to use a trailing comma for single-field NamedTuples.\n\nin expression starting at In[16]:1",
     "output_type": "error",
     "traceback": [
      "LoadError: Only works on type-defs or named tuples.\nMake sure to have a space after `@with_kw`, e.g. `@with_kw (a=1,)\nAlso, make sure to use a trailing comma for single-field NamedTuples.\n\nin expression starting at In[16]:1",
      "",
      "Stacktrace:",
      " [1] error(s::String)",
      "   @ Base .\\error.jl:33",
      " [2] with_kw(typedef::Expr, mod::Module, withshow::Bool)",
      "   @ Parameters D:\\.julia\\packages\\Parameters\\cGriM\\src\\Parameters.jl:309",
      " [3] var\"@with_kw\"(__source__::LineNumberNode, __module__::Module, typedef::Any)",
      "   @ Parameters D:\\.julia\\packages\\Parameters\\cGriM\\src\\Parameters.jl:633",
      " [4] eval",
      "   @ .\\boot.jl:360 [inlined]",
      " [5] include_string(mapexpr::typeof(REPL.softscope), mod::Module, code::String, filename::String)",
      "   @ Base .\\loading.jl:1116"
     ]
    }
   ],
   "source": [
    "@with_kw @concrete struct Foo_with_kw_concrete\n",
    "    a = 1\n",
    "    b = 2.0\n",
    "    c = \"three\"\n",
    "end"
   ]
  },
  {
   "cell_type": "markdown",
   "id": "2502379e-6a33-48b9-99ed-96f781c44552",
   "metadata": {},
   "source": [
    "[The first line of `Base.@kwdef`](https://github.com/JuliaLang/julia/blob/4931faa34a8a1c98b39fb52ed4eb277729120128/base/util.jl#L455) expands macros in the argument expression:\n",
    "\n",
    "```julia\n",
    "    expr = macroexpand(__module__, expr) # to expand @static\n",
    "```\n",
    "\n",
    "This is what makes `Base.@kwdef @concrete struct` possible.  Make a similar change to `Parameters.@with_kw`."
   ]
  },
  {
   "cell_type": "markdown",
   "id": "91326030-92b2-4d84-8c57-7ae93c3114dc",
   "metadata": {},
   "source": [
    "## Change @with_kw expanding macros in the argument"
   ]
  },
  {
   "cell_type": "code",
   "execution_count": 17,
   "id": "22ecb7c5-6df2-49d6-b60c-133bc2491210",
   "metadata": {},
   "outputs": [
    {
     "data": {
      "text/plain": [
       "@with_kw (macro with 2 methods)"
      ]
     },
     "execution_count": 17,
     "metadata": {},
     "output_type": "execute_result"
    }
   ],
   "source": [
    "@eval Parameters macro with_kw(typedef)\n",
    "    typedef = macroexpand(__module__, typedef) # inserted\n",
    "    return esc(with_kw(typedef, __module__, true))\n",
    "end"
   ]
  },
  {
   "cell_type": "code",
   "execution_count": 18,
   "id": "46c16670-d49d-4a92-909e-565f36a7a724",
   "metadata": {},
   "outputs": [
    {
     "data": {
      "text/plain": [
       "Foo_with_kw_concrete"
      ]
     },
     "execution_count": 18,
     "metadata": {},
     "output_type": "execute_result"
    }
   ],
   "source": [
    "@with_kw @concrete struct Foo_with_kw_concrete\n",
    "    a = 1\n",
    "    b = 2.0\n",
    "    c = \"three\"\n",
    "end"
   ]
  },
  {
   "cell_type": "markdown",
   "id": "0a956284-a6a8-4fe6-8f59-eaaa5559733d",
   "metadata": {},
   "source": [
    "Okay, it seems to have worked.  But..."
   ]
  },
  {
   "cell_type": "code",
   "execution_count": 19,
   "id": "441a3cef-661f-4c9d-a9cb-54e27c498705",
   "metadata": {},
   "outputs": [
    {
     "data": {
      "text/html": [
       "# 5 methods for type constructor:<ul><li> Foo_with_kw_concrete(; <i>a, b, c</i>) in Main at <a href=\"file://D:/.julia/packages/Parameters/cGriM/src/Parameters.jl\" target=\"_blank\">D:\\.julia\\packages\\Parameters\\cGriM\\src\\Parameters.jl:520</a></li> <li> Foo_with_kw_concrete(pp::<b>Foo_with_kw_concrete</b>; <i>kws...</i>) in Main at <a href=\"file://D:/.julia/packages/Parameters/cGriM/src/Parameters.jl\" target=\"_blank\">D:\\.julia\\packages\\Parameters\\cGriM\\src\\Parameters.jl:530</a></li> <li> Foo_with_kw_concrete(pp::<b>Foo_with_kw_concrete</b>, di::<b>AbstractDict</b>) in Main at <a href=\"file://D:/.julia/packages/Parameters/cGriM/src/Parameters.jl\" target=\"_blank\">D:\\.julia\\packages\\Parameters\\cGriM\\src\\Parameters.jl:533</a></li> <li> Foo_with_kw_concrete(pp::<b>Foo_with_kw_concrete</b>, di::<b>Tuple{Symbol, Any}...</b>) in Main at <a href=\"file://D:/.julia/packages/Parameters/cGriM/src/Parameters.jl\" target=\"_blank\">D:\\.julia\\packages\\Parameters\\cGriM\\src\\Parameters.jl:534</a></li> <li> Foo_with_kw_concrete(a::<b>__T_a</b>, b::<b>__T_b</b>, c::<b>__T_c</b>)<i> where {__T_a, __T_b, __T_c}</i> in Main at <a href=\"file://D:/.julia/packages/Parameters/cGriM/src/Parameters.jl\" target=\"_blank\">D:\\.julia\\packages\\Parameters\\cGriM\\src\\Parameters.jl:501</a></li> </ul>"
      ],
      "text/plain": [
       "# 5 methods for type constructor:\n",
       "[1] Foo_with_kw_concrete(; a, b, c) in Main at D:\\.julia\\packages\\Parameters\\cGriM\\src\\Parameters.jl:520\n",
       "[2] Foo_with_kw_concrete(pp::Foo_with_kw_concrete; kws...) in Main at D:\\.julia\\packages\\Parameters\\cGriM\\src\\Parameters.jl:530\n",
       "[3] Foo_with_kw_concrete(pp::Foo_with_kw_concrete, di::AbstractDict) in Main at D:\\.julia\\packages\\Parameters\\cGriM\\src\\Parameters.jl:533\n",
       "[4] Foo_with_kw_concrete(pp::Foo_with_kw_concrete, di::Tuple{Symbol, Any}...) in Main at D:\\.julia\\packages\\Parameters\\cGriM\\src\\Parameters.jl:534\n",
       "[5] Foo_with_kw_concrete(a::__T_a, b::__T_b, c::__T_c) where {__T_a, __T_b, __T_c} in Main at D:\\.julia\\packages\\Parameters\\cGriM\\src\\Parameters.jl:501"
      ]
     },
     "execution_count": 19,
     "metadata": {},
     "output_type": "execute_result"
    }
   ],
   "source": [
    "methods(Foo_with_kw_concrete)"
   ]
  },
  {
   "cell_type": "code",
   "execution_count": 20,
   "id": "f4c73014-2114-4351-a84c-23193b2889ee",
   "metadata": {},
   "outputs": [
    {
     "data": {
      "text/html": [
       "# 1 method for type constructor:<ul><li> Foo_with_kw_concrete{__T_a, __T_b, __T_c}(; <i>a, b, c</i>)<i> where {__T_a, __T_b, __T_c}</i> in Main at <a href=\"file://D:/.julia/packages/Parameters/cGriM/src/Parameters.jl\" target=\"_blank\">D:\\.julia\\packages\\Parameters\\cGriM\\src\\Parameters.jl:466</a></li> </ul>"
      ],
      "text/plain": [
       "# 1 method for type constructor:\n",
       "[1] Foo_with_kw_concrete{__T_a, __T_b, __T_c}(; a, b, c) where {__T_a, __T_b, __T_c} in Main at D:\\.julia\\packages\\Parameters\\cGriM\\src\\Parameters.jl:466"
      ]
     },
     "execution_count": 20,
     "metadata": {},
     "output_type": "execute_result"
    }
   ],
   "source": [
    "methods(Foo_with_kw_concrete{1,2,3})"
   ]
  },
  {
   "cell_type": "code",
   "execution_count": 21,
   "id": "2974f8f4-77f1-4c13-a916-c0c68878d433",
   "metadata": {},
   "outputs": [
    {
     "ename": "LoadError",
     "evalue": "MethodError: no method matching Foo_with_kw_concrete{Int64, Float64, String}(::Int64, ::Float64, ::String)",
     "output_type": "error",
     "traceback": [
      "MethodError: no method matching Foo_with_kw_concrete{Int64, Float64, String}(::Int64, ::Float64, ::String)",
      "",
      "Stacktrace:",
      " [1] Foo_with_kw_concrete(a::Int64, b::Float64, c::String)",
      "   @ Main D:\\.julia\\packages\\Parameters\\cGriM\\src\\Parameters.jl:501",
      " [2] Foo_with_kw_concrete(; a::Int64, b::Float64, c::String)",
      "   @ Main D:\\.julia\\packages\\Parameters\\cGriM\\src\\Parameters.jl:520",
      " [3] Foo_with_kw_concrete()",
      "   @ Main D:\\.julia\\packages\\Parameters\\cGriM\\src\\Parameters.jl:520",
      " [4] top-level scope",
      "   @ In[21]:1",
      " [5] eval",
      "   @ .\\boot.jl:360 [inlined]",
      " [6] include_string(mapexpr::typeof(REPL.softscope), mod::Module, code::String, filename::String)",
      "   @ Base .\\loading.jl:1116"
     ]
    }
   ],
   "source": [
    "Foo_with_kw_concrete()"
   ]
  },
  {
   "cell_type": "markdown",
   "id": "dfa1cbd9-d67d-49d5-9af7-d7f8ce4de2f9",
   "metadata": {},
   "source": [
    "The reason for this error is that `Foo_with_kw_concrete{__T_a, __T_b, __T_c}(a, b, c)` is not defined again."
   ]
  },
  {
   "cell_type": "code",
   "execution_count": 22,
   "id": "c1b3e9f3-fe77-4147-bc7b-21baa24cbd00",
   "metadata": {},
   "outputs": [
    {
     "data": {
      "text/plain": [
       "quote\n",
       "    begin\n",
       "        $(Expr(:meta, :doc))\n",
       "        struct Foo_with_kw_concrete{__T_a, __T_b, __T_c} <: Any\n",
       "            \"Default: 1\"\n",
       "            a::__T_a\n",
       "            \"Default: 2.0\"\n",
       "            b::__T_b\n",
       "            \"Default: three\"\n",
       "            c::__T_c\n",
       "            (Foo_with_kw_concrete{__T_a, __T_b, __T_c}(; a = 1, b = 2.0, c = \"three\") where {__T_a, __T_b, __T_c}) = begin\n",
       "                    Foo_with_kw_concrete{__T_a, __T_b, __T_c}(a, b, c)\n",
       "                end\n",
       "            function Foo_with_kw_concrete(a::__T_a, b::__T_b, c::__T_c) where {__T_a, __T_b, __T_c}\n",
       "                return new{__T_a, __T_b, __T_c}(a, b, c)\n",
       "            end\n",
       "        end\n",
       "    end\n",
       "    (Foo_with_kw_concrete(a::__T_a, b::__T_b, c::__T_c) where {__T_a, __T_b, __T_c}) = begin\n",
       "            Foo_with_kw_concrete{__T_a, __T_b, __T_c}(a, b, c)\n",
       "        end\n",
       "    Foo_with_kw_concrete(; a = 1, b = 2.0, c = \"three\") = begin\n",
       "            Foo_with_kw_concrete(a, b, c)\n",
       "        end\n",
       "    begin\n",
       "        Foo_with_kw_concrete(pp::Foo_with_kw_concrete; kws...) = begin\n",
       "                (Parameters).reconstruct(pp, kws)\n",
       "            end\n",
       "        Foo_with_kw_concrete(pp::Foo_with_kw_concrete, di::(Parameters).AbstractDict) = begin\n",
       "                (Parameters).reconstruct(pp, di)\n",
       "            end\n",
       "        Foo_with_kw_concrete(pp::Foo_with_kw_concrete, di::Vararg{Tuple{Symbol, Any}}) = begin\n",
       "                (Parameters).reconstruct(pp, di)\n",
       "            end\n",
       "    end\n",
       "    function Base.show(io::IO, p::Foo_with_kw_concrete)\n",
       "        if get(io, :compact, false) || get(io, :typeinfo, nothing) == Foo_with_kw_concrete\n",
       "            Base.show_default(IOContext(io, :limit => true), p)\n",
       "        else\n",
       "            dump(IOContext(io, :limit => true), p, maxdepth = 1)\n",
       "        end\n",
       "    end\n",
       "    macro unpack_Foo_with_kw_concrete(ex)\n",
       "        esc((Parameters)._unpack(ex, Any[:a, :b, :c]))\n",
       "    end\n",
       "    begin\n",
       "        macro pack_Foo_with_kw_concrete()\n",
       "            esc((Parameters)._pack_new(Foo_with_kw_concrete, Any[:a, :b, :c]))\n",
       "        end\n",
       "    end\n",
       "    Foo_with_kw_concrete\n",
       "end"
      ]
     },
     "execution_count": 22,
     "metadata": {},
     "output_type": "execute_result"
    }
   ],
   "source": [
    "@macroexpand_rmln @with_kw @concrete struct Foo_with_kw_concrete\n",
    "    a = 1\n",
    "    b = 2.0\n",
    "    c = \"three\"\n",
    "end"
   ]
  },
  {
   "cell_type": "markdown",
   "id": "f92ef516-ec06-4ca6-bb82-504b308959f4",
   "metadata": {},
   "source": [
    "## Change `@concrete` not creating the inner constructor\n",
    "\n",
    "Change `ConcreteStructs._concretize(expr)` not creating the inner constructor."
   ]
  },
  {
   "cell_type": "code",
   "execution_count": 23,
   "id": "d699d7b3-4c2a-493b-893a-b0e839e2e4a9",
   "metadata": {},
   "outputs": [
    {
     "data": {
      "text/plain": [
       "_concretize (generic function with 1 method)"
      ]
     },
     "execution_count": 23,
     "metadata": {},
     "output_type": "execute_result"
    }
   ],
   "source": [
    "@eval ConcreteStructs function _concretize(expr)\n",
    "    expr isa Expr && expr.head == :struct || error(\"Invalid usage of @concrete\")\n",
    "    \n",
    "    is_mutable = expr.args[1]\n",
    "    struct_name, type_params, super = _parse_head(expr.args[2])\n",
    "    line_tuples = _parse_line.(expr.args[3].args)\n",
    "    lines = first.(line_tuples)\n",
    "    type_params_full = (type_params..., filter(x -> x!==nothing, last.(line_tuples))...)\n",
    "\n",
    "    struct_type = if length(type_params_full) == 0\n",
    "        struct_name\n",
    "    else\n",
    "        Expr(:curly, struct_name, type_params_full...)\n",
    "    end\n",
    "\n",
    "    head = Expr(:(<:), struct_type, super)\n",
    "    # constructor_expr = _make_constructor(struct_name, type_params, type_params_full, lines)\n",
    "    # body = Expr(:block, lines..., constructor_expr)\n",
    "    body = Expr(:block, lines...)\n",
    "    struct_expr = Expr(:struct, is_mutable, head, body)\n",
    "    \n",
    "    return struct_expr, struct_name, type_params\n",
    "end"
   ]
  },
  {
   "cell_type": "code",
   "execution_count": 24,
   "id": "fe6f099b-28d6-460d-bd1c-ad66b92a3449",
   "metadata": {},
   "outputs": [
    {
     "data": {
      "text/plain": [
       ":(struct Bar_concrete{__T_a, __T_b, __T_c} <: Any\n",
       "      a::__T_a = 1\n",
       "      b::__T_b = 2.0\n",
       "      c::__T_c = \"three\"\n",
       "  end)"
      ]
     },
     "execution_count": 24,
     "metadata": {},
     "output_type": "execute_result"
    }
   ],
   "source": [
    "@macroexpand_rmln @concrete struct Bar_concrete\n",
    "    a = 1\n",
    "    b = 2.0\n",
    "    c = \"three\"\n",
    "end"
   ]
  },
  {
   "cell_type": "markdown",
   "id": "6964102e-1d5a-4b36-b818-a864cc0231fc",
   "metadata": {},
   "source": [
    "The inner constructor has been deleted."
   ]
  },
  {
   "cell_type": "markdown",
   "id": "44fc0f11-4b5c-4179-8863-21921d473063",
   "metadata": {},
   "source": [
    "## @concrete works well with @with_kw"
   ]
  },
  {
   "cell_type": "code",
   "execution_count": 25,
   "id": "1c6a0e5b-225c-466d-bba7-1e527bb003d7",
   "metadata": {},
   "outputs": [
    {
     "data": {
      "text/plain": [
       "Bar_with_kw_concrete"
      ]
     },
     "execution_count": 25,
     "metadata": {},
     "output_type": "execute_result"
    }
   ],
   "source": [
    "@with_kw @concrete struct Bar_with_kw_concrete\n",
    "    a = 1\n",
    "    b = 2.0\n",
    "    c = \"three\"\n",
    "end"
   ]
  },
  {
   "cell_type": "code",
   "execution_count": 26,
   "id": "fc9fd668-e208-48e6-8117-1c08fccef46a",
   "metadata": {},
   "outputs": [
    {
     "data": {
      "text/html": [
       "# 5 methods for type constructor:<ul><li> Bar_with_kw_concrete(; <i>a, b, c</i>) in Main at <a href=\"file://D:/.julia/packages/Parameters/cGriM/src/Parameters.jl\" target=\"_blank\">D:\\.julia\\packages\\Parameters\\cGriM\\src\\Parameters.jl:520</a></li> <li> Bar_with_kw_concrete(pp::<b>Bar_with_kw_concrete</b>; <i>kws...</i>) in Main at <a href=\"file://D:/.julia/packages/Parameters/cGriM/src/Parameters.jl\" target=\"_blank\">D:\\.julia\\packages\\Parameters\\cGriM\\src\\Parameters.jl:530</a></li> <li> Bar_with_kw_concrete(pp::<b>Bar_with_kw_concrete</b>, di::<b>AbstractDict</b>) in Main at <a href=\"file://D:/.julia/packages/Parameters/cGriM/src/Parameters.jl\" target=\"_blank\">D:\\.julia\\packages\\Parameters\\cGriM\\src\\Parameters.jl:533</a></li> <li> Bar_with_kw_concrete(pp::<b>Bar_with_kw_concrete</b>, di::<b>Tuple{Symbol, Any}...</b>) in Main at <a href=\"file://D:/.julia/packages/Parameters/cGriM/src/Parameters.jl\" target=\"_blank\">D:\\.julia\\packages\\Parameters\\cGriM\\src\\Parameters.jl:534</a></li> <li> Bar_with_kw_concrete(a::<b>__T_a</b>, b::<b>__T_b</b>, c::<b>__T_c</b>)<i> where {__T_a, __T_b, __T_c}</i> in Main at <a href=\"file://D:/.julia/packages/Parameters/cGriM/src/Parameters.jl\" target=\"_blank\">D:\\.julia\\packages\\Parameters\\cGriM\\src\\Parameters.jl:501</a></li> </ul>"
      ],
      "text/plain": [
       "# 5 methods for type constructor:\n",
       "[1] Bar_with_kw_concrete(; a, b, c) in Main at D:\\.julia\\packages\\Parameters\\cGriM\\src\\Parameters.jl:520\n",
       "[2] Bar_with_kw_concrete(pp::Bar_with_kw_concrete; kws...) in Main at D:\\.julia\\packages\\Parameters\\cGriM\\src\\Parameters.jl:530\n",
       "[3] Bar_with_kw_concrete(pp::Bar_with_kw_concrete, di::AbstractDict) in Main at D:\\.julia\\packages\\Parameters\\cGriM\\src\\Parameters.jl:533\n",
       "[4] Bar_with_kw_concrete(pp::Bar_with_kw_concrete, di::Tuple{Symbol, Any}...) in Main at D:\\.julia\\packages\\Parameters\\cGriM\\src\\Parameters.jl:534\n",
       "[5] Bar_with_kw_concrete(a::__T_a, b::__T_b, c::__T_c) where {__T_a, __T_b, __T_c} in Main at D:\\.julia\\packages\\Parameters\\cGriM\\src\\Parameters.jl:501"
      ]
     },
     "execution_count": 26,
     "metadata": {},
     "output_type": "execute_result"
    }
   ],
   "source": [
    "methods(Bar_with_kw_concrete)"
   ]
  },
  {
   "cell_type": "code",
   "execution_count": 27,
   "id": "a95f8f2b-9564-4dc5-8b03-943a0f3cf0d9",
   "metadata": {},
   "outputs": [
    {
     "data": {
      "text/html": [
       "# 2 methods for type constructor:<ul><li> Bar_with_kw_concrete{__T_a, __T_b, __T_c}(; <i>a, b, c</i>)<i> where {__T_a, __T_b, __T_c}</i> in Main at <a href=\"file://D:/.julia/packages/Parameters/cGriM/src/Parameters.jl\" target=\"_blank\">D:\\.julia\\packages\\Parameters\\cGriM\\src\\Parameters.jl:466</a></li> <li> Bar_with_kw_concrete{__T_a, __T_b, __T_c}(a, b, c)<i> where {__T_a, __T_b, __T_c}</i> in Main at <a href=\"file://D:/.julia/packages/Parameters/cGriM/src/Parameters.jl\" target=\"_blank\">D:\\.julia\\packages\\Parameters\\cGriM\\src\\Parameters.jl:478</a></li> </ul>"
      ],
      "text/plain": [
       "# 2 methods for type constructor:\n",
       "[1] Bar_with_kw_concrete{__T_a, __T_b, __T_c}(; a, b, c) where {__T_a, __T_b, __T_c} in Main at D:\\.julia\\packages\\Parameters\\cGriM\\src\\Parameters.jl:466\n",
       "[2] Bar_with_kw_concrete{__T_a, __T_b, __T_c}(a, b, c) where {__T_a, __T_b, __T_c} in Main at D:\\.julia\\packages\\Parameters\\cGriM\\src\\Parameters.jl:478"
      ]
     },
     "execution_count": 27,
     "metadata": {},
     "output_type": "execute_result"
    }
   ],
   "source": [
    "methods(Bar_with_kw_concrete{1,2,3})"
   ]
  },
  {
   "cell_type": "markdown",
   "id": "c4ed6a43-6fe7-48f1-b161-08d4e7f4416d",
   "metadata": {},
   "source": [
    "The default constructor `Bar_with_kw_concrete{__T_a, __T_b, __T_c}(a, b, c)` is implicitly defined."
   ]
  },
  {
   "cell_type": "code",
   "execution_count": 28,
   "id": "b29beb96-cdbe-48fd-b2ff-be31fdfc06e3",
   "metadata": {},
   "outputs": [
    {
     "data": {
      "text/plain": [
       "Bar_with_kw_concrete{Int64, Float64, String}\n",
       "  a: Int64 1\n",
       "  b: Float64 2.0\n",
       "  c: String \"three\"\n"
      ]
     },
     "execution_count": 28,
     "metadata": {},
     "output_type": "execute_result"
    }
   ],
   "source": [
    "Bar_with_kw_concrete()"
   ]
  },
  {
   "cell_type": "code",
   "execution_count": 29,
   "id": "635c65b4-a461-4c0f-813a-4432720007fd",
   "metadata": {},
   "outputs": [
    {
     "data": {
      "text/plain": [
       "Bar_with_kw_concrete{Int64, Float64, Char}\n",
       "  a: Int64 1\n",
       "  b: Float64 2.0\n",
       "  c: Char '3'\n"
      ]
     },
     "execution_count": 29,
     "metadata": {},
     "output_type": "execute_result"
    }
   ],
   "source": [
    "Bar_with_kw_concrete(c = '3')"
   ]
  },
  {
   "cell_type": "code",
   "execution_count": 30,
   "id": "ed95e571-7c88-435a-92e3-3d4ca95a7c92",
   "metadata": {},
   "outputs": [
    {
     "data": {
      "text/plain": [
       "Bar_with_kw_concrete{Int64, Float64, String}\n",
       "  a: Int64 4\n",
       "  b: Float64 5.0\n",
       "  c: String \"six\"\n"
      ]
     },
     "execution_count": 30,
     "metadata": {},
     "output_type": "execute_result"
    }
   ],
   "source": [
    "Bar_with_kw_concrete{Int, Float64, String}(a = 4, b = 5.0, c = \"six\")"
   ]
  },
  {
   "cell_type": "code",
   "execution_count": 31,
   "id": "bc8b630e-d643-4cdd-9880-5f99256c4b12",
   "metadata": {},
   "outputs": [
    {
     "data": {
      "text/plain": [
       "Bar_with_kw_concrete{Int64, Float64, String}\n",
       "  a: Int64 4\n",
       "  b: Float64 5.0\n",
       "  c: String \"six\"\n"
      ]
     },
     "execution_count": 31,
     "metadata": {},
     "output_type": "execute_result"
    }
   ],
   "source": [
    "Bar_with_kw_concrete(4, 5.0, \"six\")"
   ]
  },
  {
   "cell_type": "markdown",
   "id": "4b8c3a4a-ab8a-44af-9c84-b780253c4bff",
   "metadata": {},
   "source": [
    "`ConcreteStructs.@concrete` works well with `Parameters.@with_kw`!"
   ]
  },
  {
   "cell_type": "code",
   "execution_count": 32,
   "id": "c209cca5-615b-41b0-808c-29e164dbc588",
   "metadata": {},
   "outputs": [
    {
     "data": {
      "text/plain": [
       "quote\n",
       "    begin\n",
       "        $(Expr(:meta, :doc))\n",
       "        struct Bar_with_kw_concrete{__T_a, __T_b, __T_c} <: Any\n",
       "            \"Default: 1\"\n",
       "            a::__T_a\n",
       "            \"Default: 2.0\"\n",
       "            b::__T_b\n",
       "            \"Default: three\"\n",
       "            c::__T_c\n",
       "            (Bar_with_kw_concrete{__T_a, __T_b, __T_c}(; a = 1, b = 2.0, c = \"three\") where {__T_a, __T_b, __T_c}) = begin\n",
       "                    Bar_with_kw_concrete{__T_a, __T_b, __T_c}(a, b, c)\n",
       "                end\n",
       "            (Bar_with_kw_concrete{__T_a, __T_b, __T_c}(a, b, c) where {__T_a, __T_b, __T_c}) = begin\n",
       "                    new{__T_a, __T_b, __T_c}(a, b, c)\n",
       "                end\n",
       "        end\n",
       "    end\n",
       "    (Bar_with_kw_concrete(a::__T_a, b::__T_b, c::__T_c) where {__T_a, __T_b, __T_c}) = begin\n",
       "            Bar_with_kw_concrete{__T_a, __T_b, __T_c}(a, b, c)\n",
       "        end\n",
       "    Bar_with_kw_concrete(; a = 1, b = 2.0, c = \"three\") = begin\n",
       "            Bar_with_kw_concrete(a, b, c)\n",
       "        end\n",
       "    begin\n",
       "        Bar_with_kw_concrete(pp::Bar_with_kw_concrete; kws...) = begin\n",
       "                (Parameters).reconstruct(pp, kws)\n",
       "            end\n",
       "        Bar_with_kw_concrete(pp::Bar_with_kw_concrete, di::(Parameters).AbstractDict) = begin\n",
       "                (Parameters).reconstruct(pp, di)\n",
       "            end\n",
       "        Bar_with_kw_concrete(pp::Bar_with_kw_concrete, di::Vararg{Tuple{Symbol, Any}}) = begin\n",
       "                (Parameters).reconstruct(pp, di)\n",
       "            end\n",
       "    end\n",
       "    function Base.show(io::IO, p::Bar_with_kw_concrete)\n",
       "        if get(io, :compact, false) || get(io, :typeinfo, nothing) == Bar_with_kw_concrete\n",
       "            Base.show_default(IOContext(io, :limit => true), p)\n",
       "        else\n",
       "            dump(IOContext(io, :limit => true), p, maxdepth = 1)\n",
       "        end\n",
       "    end\n",
       "    macro unpack_Bar_with_kw_concrete(ex)\n",
       "        esc((Parameters)._unpack(ex, Any[:a, :b, :c]))\n",
       "    end\n",
       "    begin\n",
       "        macro pack_Bar_with_kw_concrete()\n",
       "            esc((Parameters)._pack_new(Bar_with_kw_concrete, Any[:a, :b, :c]))\n",
       "        end\n",
       "    end\n",
       "    Bar_with_kw_concrete\n",
       "end"
      ]
     },
     "execution_count": 32,
     "metadata": {},
     "output_type": "execute_result"
    }
   ],
   "source": [
    "@macroexpand_rmln @with_kw @concrete struct Bar_with_kw_concrete\n",
    "    a = 1\n",
    "    b = 2.0\n",
    "    c = \"three\"\n",
    "end"
   ]
  },
  {
   "cell_type": "markdown",
   "id": "5810c29e-24aa-4215-93df-f0bbf4557838",
   "metadata": {},
   "source": [
    "## @concrete works well more completely with Base.@kwdef"
   ]
  },
  {
   "cell_type": "code",
   "execution_count": 33,
   "id": "447e30f3-d27e-4904-93fa-05de71fff98f",
   "metadata": {},
   "outputs": [],
   "source": [
    "Base.@kwdef @concrete struct Bar_kwdef_concrete\n",
    "    a = 1\n",
    "    b = 2.0\n",
    "    c = \"three\"\n",
    "end"
   ]
  },
  {
   "cell_type": "code",
   "execution_count": 34,
   "id": "a6e88d03-4c29-41a2-b184-72b0698c2cb7",
   "metadata": {},
   "outputs": [
    {
     "data": {
      "text/plain": [
       "Bar_kwdef_concrete{Int64, Float64, String}(1, 2.0, \"three\")"
      ]
     },
     "execution_count": 34,
     "metadata": {},
     "output_type": "execute_result"
    }
   ],
   "source": [
    "Bar_kwdef_concrete()"
   ]
  },
  {
   "cell_type": "code",
   "execution_count": 35,
   "id": "526dfce2-84a2-42e8-86bf-c94ab59bd3c4",
   "metadata": {},
   "outputs": [
    {
     "data": {
      "text/plain": [
       "Bar_kwdef_concrete{Int64, Float64, Char}(1, 2.0, '3')"
      ]
     },
     "execution_count": 35,
     "metadata": {},
     "output_type": "execute_result"
    }
   ],
   "source": [
    "Bar_kwdef_concrete(c = '3')"
   ]
  },
  {
   "cell_type": "code",
   "execution_count": 36,
   "id": "49a6cb9d-12c5-4027-8cd1-056989f9f799",
   "metadata": {},
   "outputs": [
    {
     "data": {
      "text/plain": [
       "Bar_kwdef_concrete{Int64, Float64, String}(4, 5.0, \"six\")"
      ]
     },
     "execution_count": 36,
     "metadata": {},
     "output_type": "execute_result"
    }
   ],
   "source": [
    "Bar_kwdef_concrete{Int, Float64, String}(a = 4, b = 5.0, c = \"six\") # not error"
   ]
  },
  {
   "cell_type": "code",
   "execution_count": 37,
   "id": "ee3790ac-0e7a-4847-9ad7-0214355c0506",
   "metadata": {},
   "outputs": [
    {
     "data": {
      "text/plain": [
       "Bar_kwdef_concrete{Int64, Float64, String}(4, 5.0, \"six\")"
      ]
     },
     "execution_count": 37,
     "metadata": {},
     "output_type": "execute_result"
    }
   ],
   "source": [
    "Bar_kwdef_concrete(4, 5.0, \"six\")"
   ]
  },
  {
   "cell_type": "markdown",
   "id": "1413ac67-fad7-4688-98a9-eaaeadd4a1aa",
   "metadata": {},
   "source": [
    "`ConcreteStructs.@concrete` works more completely well with `Base.@kwdef`!"
   ]
  },
  {
   "cell_type": "code",
   "execution_count": 38,
   "id": "50146a37-a20f-4583-9cac-a3d2ab68cdbd",
   "metadata": {},
   "outputs": [
    {
     "data": {
      "text/plain": [
       "quote\n",
       "    begin\n",
       "        $(Expr(:meta, :doc))\n",
       "        struct Bar_kwdef_concrete{__T_a, __T_b, __T_c} <: Any\n",
       "            a::__T_a\n",
       "            b::__T_b\n",
       "            c::__T_c\n",
       "        end\n",
       "    end\n",
       "    begin\n",
       "        Bar_kwdef_concrete(; a = 1, b = 2.0, c = \"three\") = begin\n",
       "                Bar_kwdef_concrete(a, b, c)\n",
       "            end\n",
       "        (Bar_kwdef_concrete{__T_a, __T_b, __T_c}(; a = 1, b = 2.0, c = \"three\") where {__T_a, __T_b, __T_c}) = begin\n",
       "                Bar_kwdef_concrete{__T_a, __T_b, __T_c}(a, b, c)\n",
       "            end\n",
       "    end\n",
       "end"
      ]
     },
     "execution_count": 38,
     "metadata": {},
     "output_type": "execute_result"
    }
   ],
   "source": [
    "@macroexpand_rmln Base.@kwdef @concrete struct Bar_kwdef_concrete\n",
    "    a = 1\n",
    "    b = 2.0\n",
    "    c = \"three\"\n",
    "end"
   ]
  },
  {
   "cell_type": "code",
   "execution_count": null,
   "id": "7e532603-32e4-4e1f-84a5-c2955154c0d3",
   "metadata": {},
   "outputs": [],
   "source": []
  }
 ],
 "metadata": {
  "jupytext": {
   "formats": "ipynb,jl:hydrogen"
  },
  "kernelspec": {
   "display_name": "Julia 1.6.2",
   "language": "julia",
   "name": "julia-1.6"
  },
  "language_info": {
   "file_extension": ".jl",
   "mimetype": "application/julia",
   "name": "julia",
   "version": "1.6.2"
  }
 },
 "nbformat": 4,
 "nbformat_minor": 5
}
