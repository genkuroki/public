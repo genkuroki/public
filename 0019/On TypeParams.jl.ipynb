{
 "cells": [
  {
   "cell_type": "markdown",
   "id": "02e305ef-86cb-44b3-84e0-6fe2d7d82dbe",
   "metadata": {},
   "source": [
    "cf. https://github.com/genkuroki/public/blob/main/0019/ConcreteStructs.jl%20with%20Parameters.jl.ipynb"
   ]
  },
  {
   "cell_type": "code",
   "execution_count": 1,
   "id": "915c46ad-720b-473e-b9fe-69513d71f507",
   "metadata": {},
   "outputs": [
    {
     "data": {
      "text/plain": [
       "@macroexpand_rmln (macro with 1 method)"
      ]
     },
     "execution_count": 1,
     "metadata": {},
     "output_type": "execute_result"
    }
   ],
   "source": [
    "using TypeParams\n",
    "\n",
    "macro macroexpand_rmln(code)\n",
    "    :(macroexpand($__module__, $(QuoteNode(code)), recursive=true) |>\n",
    "        Base.remove_linenums!)\n",
    "end"
   ]
  },
  {
   "cell_type": "code",
   "execution_count": 2,
   "id": "c1cde607-9adc-4489-bcb8-4bc4990d7d01",
   "metadata": {},
   "outputs": [
    {
     "data": {
      "text/plain": [
       ":(struct Foo_typedef{var\"##a#257\", var\"##b#258\", var\"##c#259\"}\n",
       "      a::var\"##a#257\"\n",
       "      b::var\"##b#258\"\n",
       "      c::var\"##c#259\"\n",
       "  end)"
      ]
     },
     "execution_count": 2,
     "metadata": {},
     "output_type": "execute_result"
    }
   ],
   "source": [
    "@macroexpand_rmln @typeparams struct Foo_typedef\n",
    "    a::{}\n",
    "    b::{}\n",
    "    c::{}\n",
    "end"
   ]
  },
  {
   "cell_type": "code",
   "execution_count": 3,
   "id": "d967595b-671d-4d5e-ba4d-af9a6a1d3e65",
   "metadata": {},
   "outputs": [
    {
     "data": {
      "text/plain": [
       ":(struct Foo_typedef{var\"##a#260\", var\"##b#261\", var\"##c#262\" <: AbstractString}\n",
       "      a::var\"##a#260\"\n",
       "      b::var\"##b#261\"\n",
       "      c::var\"##c#262\"\n",
       "  end)"
      ]
     },
     "execution_count": 3,
     "metadata": {},
     "output_type": "execute_result"
    }
   ],
   "source": [
    "@macroexpand_rmln @typeparams struct Foo_typedef\n",
    "    a::{}\n",
    "    b::{}\n",
    "    c::{<:AbstractString}\n",
    "end"
   ]
  },
  {
   "cell_type": "code",
   "execution_count": 4,
   "id": "d5b84683-ac58-49f6-adc5-cadbed0901cc",
   "metadata": {},
   "outputs": [
    {
     "data": {
      "text/plain": [
       "quote\n",
       "    begin\n",
       "        $(Expr(:meta, :doc))\n",
       "        struct Foo_typedef{var\"##a#263\", var\"##b#264\", var\"##c#265\" <: AbstractString}\n",
       "            a::var\"##a#263\"\n",
       "            b::var\"##b#264\"\n",
       "            c::var\"##c#265\"\n",
       "        end\n",
       "    end\n",
       "    begin\n",
       "        Foo_typedef(; a = 1, b = 2.0, c = \"three\") = begin\n",
       "                Foo_typedef(a, b, c)\n",
       "            end\n",
       "        (Foo_typedef{var\"##a#263\", var\"##b#264\", var\"##c#265\"}(; a = 1, b = 2.0, c = \"three\") where {var\"##a#263\", var\"##b#264\", var\"##c#265\" <: AbstractString}) = begin\n",
       "                Foo_typedef{var\"##a#263\", var\"##b#264\", var\"##c#265\"}(a, b, c)\n",
       "            end\n",
       "    end\n",
       "end"
      ]
     },
     "execution_count": 4,
     "metadata": {},
     "output_type": "execute_result"
    }
   ],
   "source": [
    "@macroexpand_rmln Base.@kwdef @typeparams struct Foo_typedef\n",
    "    a::{} = 1\n",
    "    b::{} = 2.0\n",
    "    c::{<:AbstractString} = \"three\"\n",
    "end"
   ]
  },
  {
   "cell_type": "code",
   "execution_count": 5,
   "id": "bf1c4108-1850-4122-9d0a-b0e778267155",
   "metadata": {},
   "outputs": [],
   "source": [
    "using Parameters"
   ]
  },
  {
   "cell_type": "code",
   "execution_count": 6,
   "id": "69e40040-6b07-47cc-99fe-7605b747b65b",
   "metadata": {},
   "outputs": [
    {
     "data": {
      "text/plain": [
       "Foo_typedef{Int64, Float64, String}(1, 2.0, \"three\")"
      ]
     },
     "execution_count": 6,
     "metadata": {},
     "output_type": "execute_result"
    }
   ],
   "source": [
    "Base.@kwdef @typeparams struct Foo_typedef\n",
    "    a::{} = 1\n",
    "    b::{} = 2.0\n",
    "    c::{<:AbstractString} = \"three\"\n",
    "end\n",
    "\n",
    "Foo_typedef()"
   ]
  },
  {
   "cell_type": "code",
   "execution_count": 7,
   "id": "625a352b-7344-489f-85e9-1d83fd47e903",
   "metadata": {},
   "outputs": [
    {
     "ename": "LoadError",
     "evalue": "LoadError: Only works on type-defs or named tuples.\nMake sure to have a space after `@with_kw`, e.g. `@with_kw (a=1,)\nAlso, make sure to use a trailing comma for single-field NamedTuples.\n\nin expression starting at In[7]:1",
     "output_type": "error",
     "traceback": [
      "LoadError: Only works on type-defs or named tuples.\nMake sure to have a space after `@with_kw`, e.g. `@with_kw (a=1,)\nAlso, make sure to use a trailing comma for single-field NamedTuples.\n\nin expression starting at In[7]:1",
      "",
      "Stacktrace:",
      " [1] error(s::String)",
      "   @ Base .\\error.jl:33",
      " [2] with_kw(typedef::Expr, mod::Module, withshow::Bool)",
      "   @ Parameters D:\\.julia\\packages\\Parameters\\cGriM\\src\\Parameters.jl:309",
      " [3] var\"@with_kw\"(__source__::LineNumberNode, __module__::Module, typedef::Any)",
      "   @ Parameters D:\\.julia\\packages\\Parameters\\cGriM\\src\\Parameters.jl:633",
      " [4] eval",
      "   @ .\\boot.jl:360 [inlined]",
      " [5] include_string(mapexpr::typeof(REPL.softscope), mod::Module, code::String, filename::String)",
      "   @ Base .\\loading.jl:1116"
     ]
    }
   ],
   "source": [
    "@with_kw @typeparams struct Foo_with_jw\n",
    "    a::{} = 1\n",
    "    b::{} = 2.0\n",
    "    c::{<:AbstractString} = \"three\"\n",
    "end"
   ]
  },
  {
   "cell_type": "markdown",
   "id": "82e4f5c9-b01f-4345-a461-21dbf97cd941",
   "metadata": {},
   "source": [
    "cf. https://github.com/JuliaLang/julia/blob/4931faa34a8a1c98b39fb52ed4eb277729120128/base/util.jl#L455"
   ]
  },
  {
   "cell_type": "code",
   "execution_count": 8,
   "id": "89ee58fd-52e9-4142-a5d2-7c5bcbe18136",
   "metadata": {},
   "outputs": [
    {
     "data": {
      "text/plain": [
       "@with_kw (macro with 2 methods)"
      ]
     },
     "execution_count": 8,
     "metadata": {},
     "output_type": "execute_result"
    }
   ],
   "source": [
    "@eval Parameters macro with_kw(typedef)\n",
    "    typedef = macroexpand(__module__, typedef) # inserted\n",
    "    return esc(with_kw(typedef, __module__, true))\n",
    "end"
   ]
  },
  {
   "cell_type": "code",
   "execution_count": 9,
   "id": "5e781e2b-9ed8-4d72-92e8-d5cc77b48dd1",
   "metadata": {},
   "outputs": [
    {
     "data": {
      "text/plain": [
       "Foo_with_kw{Int64, Float64, String}\n",
       "  a: Int64 1\n",
       "  b: Float64 2.0\n",
       "  c: String \"three\"\n"
      ]
     },
     "execution_count": 9,
     "metadata": {},
     "output_type": "execute_result"
    }
   ],
   "source": [
    "@with_kw @typeparams struct Foo_with_kw\n",
    "    a::{} = 1\n",
    "    b::{} = 2.0\n",
    "    c::{<:AbstractString} = \"three\"\n",
    "end\n",
    "\n",
    "Foo_with_kw()"
   ]
  },
  {
   "cell_type": "code",
   "execution_count": 10,
   "id": "2376e5e7-9b6b-4781-9dcf-18ae60fe21b1",
   "metadata": {},
   "outputs": [
    {
     "data": {
      "text/plain": [
       "quote\n",
       "    begin\n",
       "        $(Expr(:meta, :doc))\n",
       "        struct Foo_with_kw{var\"##a#272\", var\"##b#273\", var\"##c#274\" <: AbstractString}\n",
       "            \"Default: 1\"\n",
       "            a::var\"##a#272\"\n",
       "            \"Default: 2.0\"\n",
       "            b::var\"##b#273\"\n",
       "            \"Default: three\"\n",
       "            c::var\"##c#274\"\n",
       "            (Foo_with_kw{var\"##a#272\", var\"##b#273\", var\"##c#274\"}(; a = 1, b = 2.0, c = \"three\") where {var\"##a#272\", var\"##b#273\", var\"##c#274\"}) = begin\n",
       "                    Foo_with_kw{var\"##a#272\", var\"##b#273\", var\"##c#274\"}(a, b, c)\n",
       "                end\n",
       "            (Foo_with_kw{var\"##a#272\", var\"##b#273\", var\"##c#274\"}(a, b, c) where {var\"##a#272\", var\"##b#273\", var\"##c#274\"}) = begin\n",
       "                    new{var\"##a#272\", var\"##b#273\", var\"##c#274\"}(a, b, c)\n",
       "                end\n",
       "        end\n",
       "    end\n",
       "    (Foo_with_kw(a::var\"##a#272\", b::var\"##b#273\", c::var\"##c#274\") where {var\"##a#272\", var\"##b#273\", var\"##c#274\" <: AbstractString}) = begin\n",
       "            Foo_with_kw{var\"##a#272\", var\"##b#273\", var\"##c#274\"}(a, b, c)\n",
       "        end\n",
       "    Foo_with_kw(; a = 1, b = 2.0, c = \"three\") = begin\n",
       "            Foo_with_kw(a, b, c)\n",
       "        end\n",
       "    begin\n",
       "        Foo_with_kw(pp::Foo_with_kw; kws...) = begin\n",
       "                (Parameters).reconstruct(pp, kws)\n",
       "            end\n",
       "        Foo_with_kw(pp::Foo_with_kw, di::(Parameters).AbstractDict) = begin\n",
       "                (Parameters).reconstruct(pp, di)\n",
       "            end\n",
       "        Foo_with_kw(pp::Foo_with_kw, di::Vararg{Tuple{Symbol, Any}}) = begin\n",
       "                (Parameters).reconstruct(pp, di)\n",
       "            end\n",
       "    end\n",
       "    function Base.show(io::IO, p::Foo_with_kw)\n",
       "        if get(io, :compact, false) || get(io, :typeinfo, nothing) == Foo_with_kw\n",
       "            Base.show_default(IOContext(io, :limit => true), p)\n",
       "        else\n",
       "            dump(IOContext(io, :limit => true), p, maxdepth = 1)\n",
       "        end\n",
       "    end\n",
       "    macro unpack_Foo_with_kw(ex)\n",
       "        esc((Parameters)._unpack(ex, Any[:a, :b, :c]))\n",
       "    end\n",
       "    begin\n",
       "        macro pack_Foo_with_kw()\n",
       "            esc((Parameters)._pack_new(Foo_with_kw, Any[:a, :b, :c]))\n",
       "        end\n",
       "    end\n",
       "    Foo_with_kw\n",
       "end"
      ]
     },
     "execution_count": 10,
     "metadata": {},
     "output_type": "execute_result"
    }
   ],
   "source": [
    "@macroexpand_rmln @with_kw @typeparams struct Foo_with_kw\n",
    "    a::{} = 1\n",
    "    b::{} = 2.0\n",
    "    c::{<:AbstractString} = \"three\"\n",
    "end"
   ]
  },
  {
   "cell_type": "code",
   "execution_count": null,
   "id": "3356ba5e-8b0b-46ff-b6a2-920a2b8bfc96",
   "metadata": {},
   "outputs": [],
   "source": []
  }
 ],
 "metadata": {
  "jupytext": {
   "formats": "ipynb,jl:hydrogen"
  },
  "kernelspec": {
   "display_name": "Julia 1.6.2",
   "language": "julia",
   "name": "julia-1.6"
  },
  "language_info": {
   "file_extension": ".jl",
   "mimetype": "application/julia",
   "name": "julia",
   "version": "1.6.2"
  }
 },
 "nbformat": 4,
 "nbformat_minor": 5
}
