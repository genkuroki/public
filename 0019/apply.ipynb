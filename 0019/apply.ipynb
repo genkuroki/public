{
 "cells": [
  {
   "cell_type": "code",
   "execution_count": 1,
   "id": "223ab8da-f087-4969-b549-0e17be324728",
   "metadata": {},
   "outputs": [
    {
     "data": {
      "text/plain": [
       "0.5"
      ]
     },
     "execution_count": 1,
     "metadata": {},
     "output_type": "execute_result"
    }
   ],
   "source": [
    "sinpi(1/6)"
   ]
  },
  {
   "cell_type": "code",
   "execution_count": 2,
   "id": "9aab5780-9bf7-4dea-a274-87e643a79f58",
   "metadata": {},
   "outputs": [
    {
     "data": {
      "text/plain": [
       "0.5"
      ]
     },
     "execution_count": 2,
     "metadata": {},
     "output_type": "execute_result"
    }
   ],
   "source": [
    "apply_Function(f::Function, x) = f(x)\n",
    "\n",
    "apply_Function(sinpi, 1/6)"
   ]
  },
  {
   "cell_type": "code",
   "execution_count": 3,
   "id": "123d9b6b-70e2-4282-9f50-23c89b48883d",
   "metadata": {},
   "outputs": [
    {
     "data": {
      "text/plain": [
       "0.5"
      ]
     },
     "execution_count": 3,
     "metadata": {},
     "output_type": "execute_result"
    }
   ],
   "source": [
    "struct Foo{F} f::F end\n",
    "(foo::Foo)(x) = foo.f(x)\n",
    "\n",
    "Foo(sinpi)(1/6)"
   ]
  },
  {
   "cell_type": "code",
   "execution_count": 4,
   "id": "002ec4f3-2dea-4c9e-a15a-7d7c94be3d47",
   "metadata": {},
   "outputs": [
    {
     "ename": "LoadError",
     "evalue": "MethodError: no method matching apply_Function(::Foo{typeof(sinpi)}, ::Float64)\n\u001b[0mClosest candidates are:\n\u001b[0m  apply_Function(\u001b[91m::Function\u001b[39m, ::Any) at In[2]:1",
     "output_type": "error",
     "traceback": [
      "MethodError: no method matching apply_Function(::Foo{typeof(sinpi)}, ::Float64)\n\u001b[0mClosest candidates are:\n\u001b[0m  apply_Function(\u001b[91m::Function\u001b[39m, ::Any) at In[2]:1",
      "",
      "Stacktrace:",
      " [1] top-level scope",
      "   @ In[4]:1",
      " [2] eval",
      "   @ .\\boot.jl:360 [inlined]",
      " [3] include_string(mapexpr::typeof(REPL.softscope), mod::Module, code::String, filename::String)",
      "   @ Base .\\loading.jl:1116"
     ]
    }
   ],
   "source": [
    "apply_Function(Foo(sinpi), 1/6)"
   ]
  },
  {
   "cell_type": "code",
   "execution_count": 5,
   "id": "4c298829-65d6-4361-aa66-f0eb2dd153b1",
   "metadata": {},
   "outputs": [
    {
     "data": {
      "text/plain": [
       "0.5"
      ]
     },
     "execution_count": 5,
     "metadata": {},
     "output_type": "execute_result"
    }
   ],
   "source": [
    "apply(f, x) = f(x)\n",
    "\n",
    "apply(Foo(sinpi), 1/6)"
   ]
  },
  {
   "cell_type": "code",
   "execution_count": null,
   "id": "1c7948d2-8a9f-4fb4-866f-3897ee982dad",
   "metadata": {},
   "outputs": [],
   "source": []
  }
 ],
 "metadata": {
  "jupytext": {
   "formats": "ipynb,auto:hydrogen"
  },
  "kernelspec": {
   "display_name": "Julia 1.6.2",
   "language": "julia",
   "name": "julia-1.6"
  },
  "language_info": {
   "file_extension": ".jl",
   "mimetype": "application/julia",
   "name": "julia",
   "version": "1.6.2"
  }
 },
 "nbformat": 4,
 "nbformat_minor": 5
}
