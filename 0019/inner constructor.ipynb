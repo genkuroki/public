{
 "cells": [
  {
   "cell_type": "code",
   "execution_count": 1,
   "id": "3f50a0ba-2f88-438b-b320-e8f1613dcff0",
   "metadata": {},
   "outputs": [
    {
     "data": {
      "text/plain": [
       "Main.O"
      ]
     },
     "execution_count": 1,
     "metadata": {},
     "output_type": "execute_result"
    }
   ],
   "source": [
    "module O\n",
    "\n",
    "struct Foo{A, B}\n",
    "    a::A\n",
    "    b::B\n",
    "end\n",
    "\n",
    "struct Bar{A, B}\n",
    "    a::A\n",
    "    b::B\n",
    "    Bar(a::A = 12) where A = new{A, A}(a, 2a)\n",
    "end\n",
    "\n",
    "end"
   ]
  },
  {
   "cell_type": "code",
   "execution_count": 2,
   "id": "93baac5e-1340-40cf-a976-4fd5658ddbc1",
   "metadata": {},
   "outputs": [
    {
     "data": {
      "text/plain": [
       "Main.O.Foo{Int64, Int64}(12, 34)"
      ]
     },
     "execution_count": 2,
     "metadata": {},
     "output_type": "execute_result"
    }
   ],
   "source": [
    "O.Foo(12, 34)"
   ]
  },
  {
   "cell_type": "code",
   "execution_count": 3,
   "id": "6b8b66d5-f859-4e73-903b-e6a3a00a7184",
   "metadata": {},
   "outputs": [
    {
     "data": {
      "text/plain": [
       "Main.O.Foo{Float64, Float64}(12.0, 34.0)"
      ]
     },
     "execution_count": 3,
     "metadata": {},
     "output_type": "execute_result"
    }
   ],
   "source": [
    "O.Foo{Float64, Float64}(12, 34)"
   ]
  },
  {
   "cell_type": "code",
   "execution_count": 4,
   "id": "696e4c2c-f38a-4b07-a337-24ddf0219067",
   "metadata": {},
   "outputs": [
    {
     "data": {
      "text/html": [
       "# 1 method for type constructor:<ul><li> Main.O.Foo(a::<b>A</b>, b::<b>B</b>)<i> where {A, B}</i> in Main.O at In[1]:4</li> </ul>"
      ],
      "text/plain": [
       "# 1 method for type constructor:\n",
       "[1] Main.O.Foo(a::A, b::B) where {A, B} in Main.O at In[1]:4"
      ]
     },
     "execution_count": 4,
     "metadata": {},
     "output_type": "execute_result"
    }
   ],
   "source": [
    "methods(O.Foo)"
   ]
  },
  {
   "cell_type": "code",
   "execution_count": 5,
   "id": "9770bb4c-5889-4ced-820c-74587679ecf3",
   "metadata": {},
   "outputs": [
    {
     "data": {
      "text/html": [
       "# 1 method for type constructor:<ul><li> Main.O.Foo{A, B}(a, b)<i> where {A, B}</i> in Main.O at In[1]:4</li> </ul>"
      ],
      "text/plain": [
       "# 1 method for type constructor:\n",
       "[1] Main.O.Foo{A, B}(a, b) where {A, B} in Main.O at In[1]:4"
      ]
     },
     "execution_count": 5,
     "metadata": {},
     "output_type": "execute_result"
    }
   ],
   "source": [
    "methods(O.Foo{Float64, Float64})"
   ]
  },
  {
   "cell_type": "code",
   "execution_count": 6,
   "id": "0d31cefb-bb70-40b4-ba2f-2e7b2eb87634",
   "metadata": {},
   "outputs": [
    {
     "data": {
      "text/plain": [
       "Main.O.Bar{Int64, Int64}(12, 24)"
      ]
     },
     "execution_count": 6,
     "metadata": {},
     "output_type": "execute_result"
    }
   ],
   "source": [
    "O.Bar()"
   ]
  },
  {
   "cell_type": "code",
   "execution_count": 7,
   "id": "ccef78bc-7407-4903-8f7a-064b68cb51d8",
   "metadata": {},
   "outputs": [
    {
     "data": {
      "text/plain": [
       "Main.O.Bar{Float64, Float64}(12.34, 24.68)"
      ]
     },
     "execution_count": 7,
     "metadata": {},
     "output_type": "execute_result"
    }
   ],
   "source": [
    "O.Bar(12.34)"
   ]
  },
  {
   "cell_type": "code",
   "execution_count": 8,
   "id": "f2dafaa7-d9e7-4fba-9a92-ee5e224d940a",
   "metadata": {},
   "outputs": [
    {
     "data": {
      "text/html": [
       "# 2 methods for type constructor:<ul><li> Main.O.Bar() in Main.O at In[1]:11</li> <li> Main.O.Bar(a::<b>A</b>)<i> where A</i> in Main.O at In[1]:11</li> </ul>"
      ],
      "text/plain": [
       "# 2 methods for type constructor:\n",
       "[1] Main.O.Bar() in Main.O at In[1]:11\n",
       "[2] Main.O.Bar(a::A) where A in Main.O at In[1]:11"
      ]
     },
     "execution_count": 8,
     "metadata": {},
     "output_type": "execute_result"
    }
   ],
   "source": [
    "methods(O.Bar)"
   ]
  },
  {
   "cell_type": "code",
   "execution_count": 9,
   "id": "a11f6b41-dceb-4e2d-a70b-a89b1aeee3c0",
   "metadata": {},
   "outputs": [
    {
     "data": {
      "text/html": [
       "# 0 methods for type constructor:<ul></ul>"
      ],
      "text/plain": [
       "# 0 methods for type constructor:"
      ]
     },
     "execution_count": 9,
     "metadata": {},
     "output_type": "execute_result"
    }
   ],
   "source": [
    "methods(O.Bar{Float64, Float64})"
   ]
  },
  {
   "cell_type": "code",
   "execution_count": 10,
   "id": "6685d8f4-b5c8-4e2f-86fd-dcb4026f8fe0",
   "metadata": {},
   "outputs": [
    {
     "data": {
      "text/plain": [
       "Main.O.Bar{Int8, Int8}(3, 6)"
      ]
     },
     "execution_count": 10,
     "metadata": {},
     "output_type": "execute_result"
    }
   ],
   "source": [
    "O.Bar(Int8(3))"
   ]
  },
  {
   "cell_type": "code",
   "execution_count": 11,
   "id": "0d5f24fc-51a5-455a-86af-39da1416e1c2",
   "metadata": {},
   "outputs": [
    {
     "ename": "LoadError",
     "evalue": "InexactError: trunc(Int8, 128)",
     "output_type": "error",
     "traceback": [
      "InexactError: trunc(Int8, 128)",
      "",
      "Stacktrace:",
      " [1] throw_inexacterror(f::Symbol, #unused#::Type{Int8}, val::Int64)",
      "   @ Core .\\boot.jl:602",
      " [2] checked_trunc_sint",
      "   @ .\\boot.jl:624 [inlined]",
      " [3] toInt8",
      "   @ .\\boot.jl:639 [inlined]",
      " [4] Int8",
      "   @ .\\boot.jl:749 [inlined]",
      " [5] convert",
      "   @ .\\number.jl:7 [inlined]",
      " [6] Main.O.Bar(a::Int8)",
      "   @ Main.O .\\In[1]:11",
      " [7] top-level scope",
      "   @ In[11]:1",
      " [8] eval",
      "   @ .\\boot.jl:360 [inlined]",
      " [9] include_string(mapexpr::typeof(REPL.softscope), mod::Module, code::String, filename::String)",
      "   @ Base .\\loading.jl:1116"
     ]
    }
   ],
   "source": [
    "O.Bar(Int8(64))"
   ]
  },
  {
   "cell_type": "code",
   "execution_count": 12,
   "id": "7273a12b-f893-4b21-9c25-90b4d248548e",
   "metadata": {},
   "outputs": [],
   "source": [
    "@eval O struct Bar{A, B}\n",
    "    a::A\n",
    "    b::B\n",
    "    Bar(a::A = 12) where A = new{A, A}(a, A(2)a)\n",
    "end"
   ]
  },
  {
   "cell_type": "code",
   "execution_count": 13,
   "id": "7d3c1b19-6a5f-4ec9-95a7-f727d928d40b",
   "metadata": {},
   "outputs": [
    {
     "data": {
      "text/plain": [
       "Main.O.Bar{Int8, Int8}(64, -128)"
      ]
     },
     "execution_count": 13,
     "metadata": {},
     "output_type": "execute_result"
    }
   ],
   "source": [
    "O.Bar(Int8(64))"
   ]
  },
  {
   "cell_type": "code",
   "execution_count": 14,
   "id": "3c0335c3-8d9a-43b9-b870-0d7959866089",
   "metadata": {},
   "outputs": [
    {
     "data": {
      "text/plain": [
       "Main.O.Bar{UInt8, UInt8}(0x80, 0x00)"
      ]
     },
     "execution_count": 14,
     "metadata": {},
     "output_type": "execute_result"
    }
   ],
   "source": [
    "O.Bar(UInt8(128))"
   ]
  },
  {
   "cell_type": "code",
   "execution_count": 15,
   "id": "0b03a6bd-f47c-4cd0-b328-274e0e7155b3",
   "metadata": {},
   "outputs": [
    {
     "data": {
      "text/plain": [
       "256"
      ]
     },
     "execution_count": 15,
     "metadata": {},
     "output_type": "execute_result"
    }
   ],
   "source": [
    "2UInt8(128)"
   ]
  },
  {
   "cell_type": "code",
   "execution_count": 16,
   "id": "074f977c-d38e-4b3d-bc7e-9a1648691777",
   "metadata": {},
   "outputs": [
    {
     "data": {
      "text/plain": [
       "0x00"
      ]
     },
     "execution_count": 16,
     "metadata": {},
     "output_type": "execute_result"
    }
   ],
   "source": [
    "UInt8(2)UInt8(128)"
   ]
  },
  {
   "cell_type": "code",
   "execution_count": null,
   "id": "da4dcef0-3f71-42c7-98eb-f70db7cda3fa",
   "metadata": {},
   "outputs": [],
   "source": []
  }
 ],
 "metadata": {
  "jupytext": {
   "formats": "ipynb,auto:hydrogen"
  },
  "kernelspec": {
   "display_name": "Julia 1.6.2",
   "language": "julia",
   "name": "julia-1.6"
  },
  "language_info": {
   "file_extension": ".jl",
   "mimetype": "application/julia",
   "name": "julia",
   "version": "1.6.2"
  }
 },
 "nbformat": 4,
 "nbformat_minor": 5
}
