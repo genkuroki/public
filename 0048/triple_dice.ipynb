{
 "cells": [
  {
   "cell_type": "code",
   "execution_count": 1,
   "id": "7c50cdf0-7f0a-4b09-a540-0dc139c771c2",
   "metadata": {},
   "outputs": [
    {
     "name": "stdout",
     "output_type": "stream",
     "text": [
      "  0.857533 seconds\n",
      "  0.868665 seconds\n",
      "  0.865549 seconds\n"
     ]
    },
    {
     "data": {
      "text/plain": [
       "0.49999741"
      ]
     },
     "execution_count": 1,
     "metadata": {},
     "output_type": "execute_result"
    }
   ],
   "source": [
    "function triple_dice(N::Int)\n",
    "    count = 0\n",
    "    for _ in 1:N\n",
    "        k = rand(1:6) + rand(1:6) + rand(1:6)\n",
    "        if k % 2 == 1\n",
    "            count += 1\n",
    "        end\n",
    "    end\n",
    "    return count / N\n",
    "end\n",
    "\n",
    "@time triple_dice(10^8)\n",
    "@time triple_dice(10^8)\n",
    "@time triple_dice(10^8)"
   ]
  },
  {
   "cell_type": "code",
   "execution_count": 2,
   "id": "9014ebad-73d7-408d-b382-f7c0d32faae3",
   "metadata": {},
   "outputs": [
    {
     "name": "stdout",
     "output_type": "stream",
     "text": [
      "N = Int32(10) ^ 8 = 100000000\n"
     ]
    },
    {
     "ename": "LoadError",
     "evalue": "MethodError: no method matching triple_dice(::Int32)\n\n\u001b[0mClosest candidates are:\n\u001b[0m  triple_dice(\u001b[91m::Int64\u001b[39m)\n\u001b[0m\u001b[90m   @\u001b[39m \u001b[35mMain\u001b[39m \u001b[90m\u001b[4mIn[1]:1\u001b[24m\u001b[39m\n",
     "output_type": "error",
     "traceback": [
      "MethodError: no method matching triple_dice(::Int32)\n\n\u001b[0mClosest candidates are:\n\u001b[0m  triple_dice(\u001b[91m::Int64\u001b[39m)\n\u001b[0m\u001b[90m   @\u001b[39m \u001b[35mMain\u001b[39m \u001b[90m\u001b[4mIn[1]:1\u001b[24m\u001b[39m\n",
      "",
      "Stacktrace:",
      " [1] top-level scope",
      "   @ In[2]:2"
     ]
    }
   ],
   "source": [
    "@show N = Int32(10)^8\n",
    "triple_dice(N)"
   ]
  },
  {
   "cell_type": "code",
   "execution_count": 3,
   "id": "73ea0725-f390-45d8-b70a-1f7ed059f656",
   "metadata": {},
   "outputs": [
    {
     "name": "stdout",
     "output_type": "stream",
     "text": [
      "  0.846856 seconds\n",
      "  0.856264 seconds\n",
      "  0.853757 seconds\n"
     ]
    },
    {
     "data": {
      "text/plain": [
       "0.4999949"
      ]
     },
     "execution_count": 3,
     "metadata": {},
     "output_type": "execute_result"
    }
   ],
   "source": [
    "function triple_dice_rev1(N::Integer)\n",
    "    count = 0\n",
    "    for _ in 1:N\n",
    "        k = rand(1:6) + rand(1:6) + rand(1:6)\n",
    "        count += k % 2 == 1\n",
    "    end\n",
    "    count / N\n",
    "end\n",
    "\n",
    "@time triple_dice_rev1(10^8)\n",
    "@time triple_dice_rev1(10^8)\n",
    "@time triple_dice_rev1(10^8)"
   ]
  },
  {
   "cell_type": "code",
   "execution_count": 4,
   "id": "3c51adf9-14ce-471d-a79a-eefa41abc26b",
   "metadata": {},
   "outputs": [
    {
     "name": "stdout",
     "output_type": "stream",
     "text": [
      "N = Int32(10) ^ 8 = 100000000\n"
     ]
    },
    {
     "data": {
      "text/plain": [
       "0.49993318"
      ]
     },
     "execution_count": 4,
     "metadata": {},
     "output_type": "execute_result"
    }
   ],
   "source": [
    "@show N = Int32(10)^8\n",
    "triple_dice_rev1(N)"
   ]
  },
  {
   "cell_type": "code",
   "execution_count": null,
   "id": "7b379889-878a-41e0-ba52-952fe126c16a",
   "metadata": {},
   "outputs": [],
   "source": []
  }
 ],
 "metadata": {
  "jupytext": {
   "formats": "ipynb,jl:hydrogen"
  },
  "kernelspec": {
   "display_name": "Julia 1.10.2",
   "language": "julia",
   "name": "julia-1.10"
  },
  "language_info": {
   "file_extension": ".jl",
   "mimetype": "application/julia",
   "name": "julia",
   "version": "1.10.2"
  }
 },
 "nbformat": 4,
 "nbformat_minor": 5
}
