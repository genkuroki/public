{
 "cells": [
  {
   "cell_type": "code",
   "execution_count": 3,
   "id": "036435b2-ac65-46c7-a398-a8754a1729ef",
   "metadata": {},
   "outputs": [
    {
     "name": "stdout",
     "output_type": "stream",
     "text": [
      "F[2024] = 8\n",
      "F[1:28] = [1, 1, 2, 3, 5, 8, 0, 8, 8, 3, 11, 1, 12, 0, 12, 12, 11, 10, 8, 5, 0, 5, 5, 10, 2, 12, 1, 0]\n",
      "F[29:56] = [1, 1, 2, 3, 5, 8, 0, 8, 8, 3, 11, 1, 12, 0, 12, 12, 11, 10, 8, 5, 0, 5, 5, 10, 2, 12, 1, 0]\n"
     ]
    }
   ],
   "source": [
    "function fibmod(k, N)\n",
    "    F = zeros(Int, k)\n",
    "    F[1] = F[2] = 1\n",
    "    for i in 1:k-2\n",
    "        F[i+2] = mod(F[i+1] + F[i], N)\n",
    "    end\n",
    "    F\n",
    "end\n",
    "\n",
    "F = fibmod(2024, 13)\n",
    "@show F[2024]\n",
    "@show F[1:28]\n",
    "@show F[29:56];"
   ]
  },
  {
   "cell_type": "code",
   "execution_count": 8,
   "id": "84964cf5-4368-44fa-8495-21fd0082e63a",
   "metadata": {},
   "outputs": [
    {
     "name": "stdout",
     "output_type": "stream",
     "text": [
      "1 ⊞ 1 = 2\n",
      "1 ⊞ 2 = 3\n",
      "3 ⊞ 4 = 5\n",
      "5 ⊞ 2 = 6\n",
      "5 ⊞ 7 = 9\n",
      "6 ⊞ 9 = 11\n",
      "10 ⊞ 20 = 25\n",
      "100 ⊞ 200 = 274\n"
     ]
    }
   ],
   "source": [
    "using Primes\n",
    "\n",
    "# \\boxplus TAB → ⊞\n",
    "a ⊞ b = length(primes(prime(a) + prime(b)))\n",
    "\n",
    "for (a, b) in ((1, 1), (1, 2), (3, 4), (5, 2), (5, 7), (6, 9), (10, 20), (100, 200))\n",
    "    @eval @show $a ⊞ $b\n",
    "end"
   ]
  },
  {
   "cell_type": "code",
   "execution_count": null,
   "id": "b972f604-da40-411b-bfd1-a3e08351ad03",
   "metadata": {},
   "outputs": [],
   "source": []
  }
 ],
 "metadata": {
  "jupytext": {
   "formats": "ipynb,jl:hydrogen"
  },
  "kernelspec": {
   "display_name": "Julia 1.10.2",
   "language": "julia",
   "name": "julia-1.10"
  },
  "language_info": {
   "file_extension": ".jl",
   "mimetype": "application/julia",
   "name": "julia",
   "version": "1.10.2"
  }
 },
 "nbformat": 4,
 "nbformat_minor": 5
}
