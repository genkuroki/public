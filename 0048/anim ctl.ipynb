{
 "cells": [
  {
   "cell_type": "code",
   "execution_count": 1,
   "id": "343fa6c3-fe42-4189-8d30-45647835c716",
   "metadata": {},
   "outputs": [
    {
     "data": {
      "text/plain": [
       "anim_lln_clt_rw (generic function with 1 method)"
      ]
     },
     "execution_count": 1,
     "metadata": {},
     "output_type": "execute_result"
    }
   ],
   "source": [
    "using Distributions\n",
    "using StatsPlots\n",
    "default(fmt=:png)\n",
    "\n",
    "function anim_lln_clt_rw(dist; nstart=1, nstep=5, nmax=1001, L=200,\n",
    "        gn=\"lln_clt_rw.gif\")\n",
    "    μ, σ = mean(dist), std(dist)\n",
    "    X = cumsum(rand(dist - μ, nmax, L); dims=1)\n",
    "    anim = @animate for n in [nstart:nstep:nmax; fill(nmax, 30)]\n",
    "        P = @views plot(1:n, X[1:n, :]; label=\"\", alpha=0.5, lw=0.2)\n",
    "        plot!(x-> 2σ*√x, 0, n; label=\"\", c=:red, ls=:dot)\n",
    "        plot!(x->-2σ*√x, 0, n; label=\"\", c=:red, ls=:dot)\n",
    "        Q = @views plot(1:n, X[1:n, :] ./ .√(1:n); label=\"\", alpha=0.5, lw=0.2)\n",
    "        plot!(x-> 2σ, 0, n; label=\"\", c=:red, ls=:dot)\n",
    "        plot!(x->-2σ, 0, n; label=\"\", c=:red, ls=:dot)\n",
    "        R = @views plot(1:n, X[1:n, :] ./ (1:n); label=\"\", alpha=0.5, lw=0.2)\n",
    "        plot!(x-> 2σ/√x, 1, n; label=\"\", c=:red, ls=:dot)\n",
    "        plot!(x->-2σ/√x, 1, n; label=\"\", c=:red, ls=:dot)\n",
    "        plot(P, Q, R; size=(500, 800), layout=(3, 1))\n",
    "    end\n",
    "    gif(anim, gn)\n",
    "end"
   ]
  },
  {
   "cell_type": "code",
   "execution_count": null,
   "id": "00451ae0-a8d4-4b2e-ba27-99138093bf02",
   "metadata": {},
   "outputs": [],
   "source": [
    "anim_lln_clt_rw(Exponential())"
   ]
  },
  {
   "cell_type": "code",
   "execution_count": null,
   "id": "c5945b1a-d5cc-423f-952e-af79db7eb3d0",
   "metadata": {},
   "outputs": [],
   "source": []
  }
 ],
 "metadata": {
  "jupytext": {
   "formats": "ipynb,jl:hydrogen"
  },
  "kernelspec": {
   "display_name": "Julia 1.10.3",
   "language": "julia",
   "name": "julia-1.10"
  },
  "language_info": {
   "file_extension": ".jl",
   "mimetype": "application/julia",
   "name": "julia",
   "version": "1.10.3"
  }
 },
 "nbformat": 4,
 "nbformat_minor": 5
}
