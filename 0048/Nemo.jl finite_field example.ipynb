{
 "cells": [
  {
   "cell_type": "code",
   "execution_count": 1,
   "id": "8be8afd6-4d35-45f5-999c-ed97583ea6e6",
   "metadata": {},
   "outputs": [
    {
     "name": "stdout",
     "output_type": "stream",
     "text": [
      "\n",
      "Welcome to Nemo version 0.45.4\n",
      "\n",
      "Nemo comes with absolutely no warranty whatsoever\n"
     ]
    }
   ],
   "source": [
    "using Nemo"
   ]
  },
  {
   "cell_type": "code",
   "execution_count": 2,
   "id": "638aeae4-5163-4856-bbe9-838416ab63e4",
   "metadata": {},
   "outputs": [
    {
     "data": {
      "text/plain": [
       "(Finite field of degree 2 and characteristic 2, ω)"
      ]
     },
     "execution_count": 2,
     "metadata": {},
     "output_type": "execute_result"
    }
   ],
   "source": [
    "F4, ω = finite_field(4, \"ω\")"
   ]
  },
  {
   "cell_type": "code",
   "execution_count": 3,
   "id": "6ebc2e42-af2e-430c-a55b-67f42f7bdb9a",
   "metadata": {},
   "outputs": [
    {
     "data": {
      "text/plain": [
       "ω + 1"
      ]
     },
     "execution_count": 3,
     "metadata": {},
     "output_type": "execute_result"
    }
   ],
   "source": [
    "ω^2"
   ]
  },
  {
   "cell_type": "code",
   "execution_count": 4,
   "id": "6550b0e8-4f62-4bac-a778-1a4f24785e97",
   "metadata": {},
   "outputs": [
    {
     "data": {
      "text/plain": [
       "(Univariate polynomial ring in x over F4, x)"
      ]
     },
     "execution_count": 4,
     "metadata": {},
     "output_type": "execute_result"
    }
   ],
   "source": [
    "F4x, x = F4[\"x\"]"
   ]
  },
  {
   "cell_type": "code",
   "execution_count": 5,
   "id": "db081552-2915-4399-8534-0250554677e3",
   "metadata": {},
   "outputs": [
    {
     "data": {
      "text/plain": [
       "x^3 + x^2 + x + ω"
      ]
     },
     "execution_count": 5,
     "metadata": {},
     "output_type": "execute_result"
    }
   ],
   "source": [
    "f = x^3 + x^2 + x + ω"
   ]
  },
  {
   "cell_type": "code",
   "execution_count": 6,
   "id": "d3532f2e-5761-44bf-aad7-72872c20fb48",
   "metadata": {},
   "outputs": [
    {
     "data": {
      "text/plain": [
       "(Finite field of degree 3 over F4, α)"
      ]
     },
     "execution_count": 6,
     "metadata": {},
     "output_type": "execute_result"
    }
   ],
   "source": [
    "F64, α = finite_field(f, \"α\")-"
   ]
  },
  {
   "cell_type": "code",
   "execution_count": 7,
   "id": "b180e4de-f8c9-4401-ae1b-50836e6fe418",
   "metadata": {},
   "outputs": [
    {
     "data": {
      "text/plain": [
       "64"
      ]
     },
     "execution_count": 7,
     "metadata": {},
     "output_type": "execute_result"
    }
   ],
   "source": [
    "order(F64)"
   ]
  },
  {
   "cell_type": "code",
   "execution_count": 8,
   "id": "46f23685-af69-4605-9907-11f556566fa4",
   "metadata": {},
   "outputs": [
    {
     "data": {
      "text/plain": [
       "63-element Vector{Tuple{Int64, FqFieldElem}}:\n",
       " (1, α)\n",
       " (2, α^2)\n",
       " (3, α^2 + α + ω)\n",
       " (4, (ω + 1)*α + ω)\n",
       " (5, (ω + 1)*α^2 + ω*α)\n",
       " (6, α^2 + (ω + 1)*α + 1)\n",
       " (7, ω*α^2 + ω)\n",
       " (8, ω*α^2 + ω + 1)\n",
       " (9, ω*α^2 + α + ω + 1)\n",
       " (10, (ω + 1)*α^2 + α + ω + 1)\n",
       " (11, ω*α^2 + 1)\n",
       " (12, ω*α^2 + (ω + 1)*α + ω + 1)\n",
       " (13, α^2 + α + ω + 1)\n",
       " (14, ω*α + ω)\n",
       " (15, ω*α^2 + ω*α)\n",
       " (16, ω*α + ω + 1)\n",
       " (17, ω*α^2 + (ω + 1)*α)\n",
       " (18, α^2 + ω*α + ω + 1)\n",
       " (19, (ω + 1)*α^2 + ω*α + ω)\n",
       " (20, α^2 + α + 1)\n",
       " (21, ω)\n",
       " (22, ω*α)\n",
       " (23, ω*α^2)\n",
       " (24, ω*α^2 + ω*α + ω + 1)\n",
       " (25, α + ω + 1)\n",
       " (26, α^2 + (ω + 1)*α)\n",
       " (27, ω*α^2 + α + ω)\n",
       " (28, (ω + 1)*α^2 + ω + 1)\n",
       " (29, (ω + 1)*α^2 + 1)\n",
       " (30, (ω + 1)*α^2 + ω*α + 1)\n",
       " (31, α^2 + ω*α + 1)\n",
       " (32, (ω + 1)*α^2 + ω)\n",
       " (33, (ω + 1)*α^2 + α + 1)\n",
       " (34, ω*α^2 + ω*α + 1)\n",
       " (35, (ω + 1)*α + ω + 1)\n",
       " (36, (ω + 1)*α^2 + (ω + 1)*α)\n",
       " (37, (ω + 1)*α + 1)\n",
       " (38, (ω + 1)*α^2 + α)\n",
       " (39, ω*α^2 + (ω + 1)*α + 1)\n",
       " (40, α^2 + (ω + 1)*α + ω + 1)\n",
       " (41, ω*α^2 + ω*α + ω)\n",
       " (42, ω + 1)\n",
       " (43, (ω + 1)*α)\n",
       " (44, (ω + 1)*α^2)\n",
       " (45, (ω + 1)*α^2 + (ω + 1)*α + 1)\n",
       " (46, ω*α + 1)\n",
       " (47, ω*α^2 + α)\n",
       " (48, (ω + 1)*α^2 + ω*α + ω + 1)\n",
       " (49, α^2 + 1)\n",
       " (50, α^2 + ω)\n",
       " (51, α^2 + (ω + 1)*α + ω)\n",
       " (52, ω*α^2 + (ω + 1)*α + ω)\n",
       " (53, α^2 + ω + 1)\n",
       " (54, α^2 + ω*α + ω)\n",
       " (55, (ω + 1)*α^2 + (ω + 1)*α + ω)\n",
       " (56, α + 1)\n",
       " (57, α^2 + α)\n",
       " (58, α + ω)\n",
       " (59, α^2 + ω*α)\n",
       " (60, (ω + 1)*α^2 + α + ω)\n",
       " (61, ω*α^2 + α + 1)\n",
       " (62, (ω + 1)*α^2 + (ω + 1)*α + ω + 1)\n",
       " (63, 1)"
      ]
     },
     "execution_count": 8,
     "metadata": {},
     "output_type": "execute_result"
    }
   ],
   "source": [
    "ENV[\"LINES\"] = 200\n",
    "[(k, α^k) for k in 1:63]"
   ]
  },
  {
   "cell_type": "code",
   "execution_count": 12,
   "id": "f91ee929-2c65-43b3-92ad-fe9e952c3f8a",
   "metadata": {},
   "outputs": [
    {
     "data": {
      "text/plain": [
       "x^6 + x^4 + x^3 + x + 1"
      ]
     },
     "execution_count": 12,
     "metadata": {},
     "output_type": "execute_result"
    }
   ],
   "source": [
    "(x^3 + x^2 + x + ω) * (x^3 + x^2 + x + ω + 1)"
   ]
  },
  {
   "cell_type": "code",
   "execution_count": 10,
   "id": "4391b125-43c5-48fd-927b-9af6713fe123",
   "metadata": {},
   "outputs": [
    {
     "data": {
      "text/plain": [
       "(Prime field of characteristic 2, 0)"
      ]
     },
     "execution_count": 10,
     "metadata": {},
     "output_type": "execute_result"
    }
   ],
   "source": [
    "F2, _ = finite_field(2)"
   ]
  },
  {
   "cell_type": "code",
   "execution_count": 13,
   "id": "e0f9b072-5cd9-40fd-a7ac-8c9b464cdf84",
   "metadata": {},
   "outputs": [
    {
     "data": {
      "text/plain": [
       "(Univariate polynomial ring in t over F2, t)"
      ]
     },
     "execution_count": 13,
     "metadata": {},
     "output_type": "execute_result"
    }
   ],
   "source": [
    "F2t, t = F2[\"t\"]"
   ]
  },
  {
   "cell_type": "code",
   "execution_count": 14,
   "id": "11adf547-29db-4025-a1ec-4df40870b87b",
   "metadata": {},
   "outputs": [
    {
     "data": {
      "text/plain": [
       "t^6 + t^4 + t^3 + t + 1"
      ]
     },
     "execution_count": 14,
     "metadata": {},
     "output_type": "execute_result"
    }
   ],
   "source": [
    "g = t^6 + t^4 + t^3 + t + 1"
   ]
  },
  {
   "cell_type": "code",
   "execution_count": 15,
   "id": "a675d876-e745-4085-a41f-4d7c81e5b84b",
   "metadata": {},
   "outputs": [
    {
     "data": {
      "text/plain": [
       "(Finite field of degree 6 and characteristic 2, a)"
      ]
     },
     "execution_count": 15,
     "metadata": {},
     "output_type": "execute_result"
    }
   ],
   "source": [
    "FF64, a = finite_field(g, \"a\")"
   ]
  },
  {
   "cell_type": "code",
   "execution_count": 16,
   "id": "22ea8b64-6cc6-4577-a482-82a116f77fab",
   "metadata": {},
   "outputs": [
    {
     "data": {
      "text/plain": [
       "63-element Vector{Tuple{Int64, FqFieldElem}}:\n",
       " (1, a)\n",
       " (2, a^2)\n",
       " (3, a^3)\n",
       " (4, a^4)\n",
       " (5, a^5)\n",
       " (6, a^4 + a^3 + a + 1)\n",
       " (7, a^5 + a^4 + a^2 + a)\n",
       " (8, a^5 + a^4 + a^2 + a + 1)\n",
       " (9, a^5 + a^4 + a^2 + 1)\n",
       " (10, a^5 + a^4 + 1)\n",
       " (11, a^5 + a^4 + a^3 + 1)\n",
       " (12, a^5 + a^3 + 1)\n",
       " (13, a^3 + 1)\n",
       " (14, a^4 + a)\n",
       " (15, a^5 + a^2)\n",
       " (16, a^4 + a + 1)\n",
       " (17, a^5 + a^2 + a)\n",
       " (18, a^4 + a^2 + a + 1)\n",
       " (19, a^5 + a^3 + a^2 + a)\n",
       " (20, a^2 + a + 1)\n",
       " (21, a^3 + a^2 + a)\n",
       " (22, a^4 + a^3 + a^2)\n",
       " (23, a^5 + a^4 + a^3)\n",
       " (24, a^5 + a^3 + a + 1)\n",
       " (25, a^3 + a^2 + 1)\n",
       " (26, a^4 + a^3 + a)\n",
       " (27, a^5 + a^4 + a^2)\n",
       " (28, a^5 + a^4 + a + 1)\n",
       " (29, a^5 + a^4 + a^3 + a^2 + 1)\n",
       " (30, a^5 + 1)\n",
       " (31, a^4 + a^3 + 1)\n",
       " (32, a^5 + a^4 + a)\n",
       " (33, a^5 + a^4 + a^3 + a^2 + a + 1)\n",
       " (34, a^5 + a^2 + 1)\n",
       " (35, a^4 + 1)\n",
       " (36, a^5 + a)\n",
       " (37, a^4 + a^3 + a^2 + a + 1)\n",
       " (38, a^5 + a^4 + a^3 + a^2 + a)\n",
       " (39, a^5 + a^2 + a + 1)\n",
       " (40, a^4 + a^2 + 1)\n",
       " (41, a^5 + a^3 + a)\n",
       " (42, a^3 + a^2 + a + 1)\n",
       " (43, a^4 + a^3 + a^2 + a)\n",
       " (44, a^5 + a^4 + a^3 + a^2)\n",
       " (45, a^5 + a + 1)\n",
       " (46, a^4 + a^3 + a^2 + 1)\n",
       " (47, a^5 + a^4 + a^3 + a)\n",
       " (48, a^5 + a^3 + a^2 + a + 1)\n",
       " (49, a^2 + 1)\n",
       " (50, a^3 + a)\n",
       " (51, a^4 + a^2)\n",
       " (52, a^5 + a^3)\n",
       " (53, a^3 + a + 1)\n",
       " (54, a^4 + a^2 + a)\n",
       " (55, a^5 + a^3 + a^2)\n",
       " (56, a + 1)\n",
       " (57, a^2 + a)\n",
       " (58, a^3 + a^2)\n",
       " (59, a^4 + a^3)\n",
       " (60, a^5 + a^4)\n",
       " (61, a^5 + a^4 + a^3 + a + 1)\n",
       " (62, a^5 + a^3 + a^2 + 1)\n",
       " (63, 1)"
      ]
     },
     "execution_count": 16,
     "metadata": {},
     "output_type": "execute_result"
    }
   ],
   "source": [
    "ENV[\"LINES\"] = 200\n",
    "[(k, a^k) for k in 1:63]"
   ]
  },
  {
   "cell_type": "code",
   "execution_count": null,
   "id": "187d30ca-166a-4a0e-ac2c-6960deb32625",
   "metadata": {},
   "outputs": [],
   "source": []
  }
 ],
 "metadata": {
  "jupytext": {
   "encoding": "# -*- coding: utf-8 -*-",
   "formats": "ipynb,jl:hydrogen"
  },
  "kernelspec": {
   "display_name": "Julia 1.10.4",
   "language": "julia",
   "name": "julia-1.10"
  },
  "language_info": {
   "file_extension": ".jl",
   "mimetype": "application/julia",
   "name": "julia",
   "version": "1.10.4"
  }
 },
 "nbformat": 4,
 "nbformat_minor": 5
}
