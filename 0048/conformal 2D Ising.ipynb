{
 "cells": [
  {
   "cell_type": "code",
   "execution_count": 25,
   "id": "c57f55c5-5365-4e0f-be17-ce59ae0f9a57",
   "metadata": {},
   "outputs": [
    {
     "name": "stdout",
     "output_type": "stream",
     "text": [
      "z = Sym(1 // 16) = 1/16\n",
      "y = (k ^ 2 - 1) / 48 = k^2/48 - 1/48\n",
      "expr = factor(expr) = -(-k^2 - 2*k + 48*x)*(-k^2 + 2*k + 48*x)*(-k^2 - 14*k + 48*x - 48)*(-k^2 + 14*k + 48*x - 48)/1327104\n",
      "sol = solve(expr, x) = Sym{PyCall.PyObject}[k*(k - 2)/48, k*(k + 2)/48, k^2/48 - 7*k/24 + 1, k^2/48 + 7*k/24 + 1]\n"
     ]
    },
    {
     "data": {
      "text/plain": [
       "4-element Vector{Sym{PyCall.PyObject}}:\n",
       " (k - 1)^2\n",
       " (k + 1)^2\n",
       " (k - 7)^2\n",
       " (k + 7)^2"
      ]
     },
     "execution_count": 25,
     "metadata": {},
     "output_type": "execute_result"
    }
   ],
   "source": [
    "using SymPy\n",
    "@syms x r s k\n",
    "\n",
    "@show z = Sym(1//16)\n",
    "@show y = (k^2-1)/48\n",
    "expr = -(x-4y-z) - (22//3)*(x-y-z)*(x-3y-z-1) - (49//36)*(x-2y-z)*(x-2y-z-2) - (50//3)*(x-y-z)*(x-y-z-1)*(x-2y-z-2) - 4*(x-y-z)*(x-y-z-1)*(x-y-z-2)*(x-y-z-3)\n",
    "@show expr = factor(expr)\n",
    "@show sol = solve(expr, x)\n",
    "[factor(48f + 1) for f in sol]"
   ]
  },
  {
   "cell_type": "code",
   "execution_count": 29,
   "id": "f462cead-73ab-4bc3-9a19-65b5fc318805",
   "metadata": {},
   "outputs": [
    {
     "name": "stdout",
     "output_type": "stream",
     "text": [
      "expr = factor(expr) = -h*(2*h - 1)*(16*h - 1)/54\n"
     ]
    },
    {
     "data": {
      "text/plain": [
       "3-element Vector{Sym{PyCall.PyObject}}:\n",
       "    0\n",
       " 1/16\n",
       "  1/2"
      ]
     },
     "execution_count": 29,
     "metadata": {},
     "output_type": "execute_result"
    }
   ],
   "source": [
    "using SymPy\n",
    "@syms h\n",
    "\n",
    "expr = 5h + (22//9)*(-h)*(-3h-2) - (31//36)*(-2h)*(-2h-3) - (16//27)*(-(-h)*(-h-2)*(-h-4))\n",
    "@show expr = factor(expr)\n",
    "sol = solve(expr, h)"
   ]
  },
  {
   "cell_type": "code",
   "execution_count": null,
   "id": "78580d02-6a06-4db7-8851-50ac0efb8ac3",
   "metadata": {},
   "outputs": [],
   "source": []
  }
 ],
 "metadata": {
  "jupytext": {
   "formats": "ipynb,jl:hydrogen"
  },
  "kernelspec": {
   "display_name": "Julia 1.10.2",
   "language": "julia",
   "name": "julia-1.10"
  },
  "language_info": {
   "file_extension": ".jl",
   "mimetype": "application/julia",
   "name": "julia",
   "version": "1.10.2"
  }
 },
 "nbformat": 4,
 "nbformat_minor": 5
}
