{
 "cells": [
  {
   "cell_type": "code",
   "execution_count": 3,
   "id": "e4296c2d-150f-422e-91d2-262843c7bb81",
   "metadata": {},
   "outputs": [],
   "source": [
    "using Distributions\n",
    "using StatsPlots\n",
    "default(fmt=:png)"
   ]
  },
  {
   "cell_type": "code",
   "execution_count": 32,
   "id": "72f48806-8e2f-45d1-a66f-827c8a727ff7",
   "metadata": {},
   "outputs": [
    {
     "data": {
      "text/plain": [
       "power_ztest (generic function with 1 method)"
      ]
     },
     "execution_count": 32,
     "metadata": {},
     "output_type": "execute_result"
    }
   ],
   "source": [
    "function pvalue_ztest(x̄, n)\n",
    "    2ccdf(Normal(), abs(√n * x̄))\n",
    "end\n",
    "\n",
    "function suffsize_ztest(μ; α=0.05, β=0.20)\n",
    "    c = cquantile(Normal(), α/2)\n",
    "    d = cquantile(Normal(), 1-β)\n",
    "    n = ceil(Int, ((d - c)/μ)^2)\n",
    "end\n",
    "\n",
    "function power_ztest(μ, n; α=0.05)\n",
    "    c = cquantile(Normal(), α/2)\n",
    "    dist_x̄ = Normal(μ, 1/√n)\n",
    "    cdf(dist_x̄, -c/√n) + ccdf(dist_x̄, c/√n)\n",
    "end"
   ]
  },
  {
   "cell_type": "code",
   "execution_count": 31,
   "id": "2517d6ed-0d8d-4073-bcd4-0f5d0b855bb5",
   "metadata": {},
   "outputs": [
    {
     "name": "stdout",
     "output_type": "stream",
     "text": [
      "μ = -0.5 = -0.5\n",
      "n = suffsize_ztest(μ) = 32\n"
     ]
    },
    {
     "data": {
      "text/plain": [
       "0.8074304194325558"
      ]
     },
     "execution_count": 31,
     "metadata": {},
     "output_type": "execute_result"
    }
   ],
   "source": [
    "@show μ = -0.5\n",
    "@show n = suffsize_ztest(μ)\n",
    "power_ztest(μ, n)"
   ]
  },
  {
   "cell_type": "code",
   "execution_count": 46,
   "id": "d9a52100-37b6-450d-9a8e-d9603c628e6b",
   "metadata": {},
   "outputs": [
    {
     "data": {
      "text/plain": [
       "sim (generic function with 1 method)"
      ]
     },
     "execution_count": 46,
     "metadata": {},
     "output_type": "execute_result"
    }
   ],
   "source": [
    "function sim(; α=0.05, β=0.02, n0=100, Niters=10^6)\n",
    "    pval = zeros(Niters)\n",
    "    for i in 1:Niters\n",
    "        x̄0 = rand(Normal(0, 1/√n0))\n",
    "        n = suffsize_ztest(x̄0; α, β)\n",
    "        if n ≤ n0\n",
    "            pval[i] = pvalue_ztest(x̄0, n0)\n",
    "        else\n",
    "            x̄1 = rand(Normal(0, 1/√(n-n0)))\n",
    "            x̄ = (n0 * x̄0 + (n-n0) * x̄1) / n\n",
    "            pval[i] = pvalue_ztest(x̄, n)\n",
    "        end\n",
    "    end\n",
    "    @show mean(pval .< α)\n",
    "    pval\n",
    "end"
   ]
  },
  {
   "cell_type": "code",
   "execution_count": 49,
   "id": "212f5fcc-905e-450b-9a7f-4c1b18c198c8",
   "metadata": {},
   "outputs": [
    {
     "name": "stdout",
     "output_type": "stream",
     "text": [
      "mean(pval .< α) = 0.064173\n"
     ]
    },
    {
     "data": {
      "text/plain": [
       "1000000-element Vector{Float64}:\n",
       " 0.8213412277759424\n",
       " 0.011413643163700332\n",
       " 0.7003289778425896\n",
       " 0.5144722675198288\n",
       " 0.38986467650750434\n",
       " 0.35329539937284626\n",
       " 0.05372098940746021\n",
       " 0.44573519512030857\n",
       " 0.12164312222818327\n",
       " 0.9943052017570592\n",
       " 0.8308661486062813\n",
       " 0.46861380211383935\n",
       " 0.6452915112645947\n",
       " ⋮\n",
       " 0.4144442854349303\n",
       " 0.29894083525195203\n",
       " 0.928562425323632\n",
       " 0.9240815971486427\n",
       " 0.883121960741366\n",
       " 0.20845534905581692\n",
       " 0.7116554176250787\n",
       " 0.4660101028424251\n",
       " 0.920388735309709\n",
       " 0.8921388397341667\n",
       " 0.95461725413778\n",
       " 0.7860936620836702"
      ]
     },
     "execution_count": 49,
     "metadata": {},
     "output_type": "execute_result"
    }
   ],
   "source": [
    "sim(n0=100)"
   ]
  },
  {
   "cell_type": "code",
   "execution_count": null,
   "id": "eb5584b6-6475-4ddd-a361-62ddd61706f2",
   "metadata": {},
   "outputs": [],
   "source": []
  }
 ],
 "metadata": {
  "jupytext": {
   "formats": "ipynb,jl:hydrogen"
  },
  "kernelspec": {
   "display_name": "Julia 1.10.2",
   "language": "julia",
   "name": "julia-1.10"
  },
  "language_info": {
   "file_extension": ".jl",
   "mimetype": "application/julia",
   "name": "julia",
   "version": "1.10.2"
  }
 },
 "nbformat": 4,
 "nbformat_minor": 5
}
