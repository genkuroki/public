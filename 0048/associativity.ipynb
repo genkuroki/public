{
 "cells": [
  {
   "cell_type": "code",
   "execution_count": 1,
   "id": "eb9ef7ac-0ef7-4246-8e45-9e1b75ca5cd8",
   "metadata": {},
   "outputs": [
    {
     "name": "stdout",
     "output_type": "stream",
     "text": [
      "a * b * c * d = 0.0\n",
      "a * (b * c) * d = 1.0\n",
      "a * b * (c * d) = NaN\n"
     ]
    }
   ],
   "source": [
    "a = b = 1e-200\n",
    "c = d = 1e200\n",
    "\n",
    "@show a * b * c * d\n",
    "@show a * (b * c) * d\n",
    "@show a * b * (c * d);"
   ]
  },
  {
   "cell_type": "code",
   "execution_count": 2,
   "id": "d6087bb2-7cda-420e-9f3c-40f535eb99d0",
   "metadata": {},
   "outputs": [
    {
     "name": "stdout",
     "output_type": "stream",
     "text": [
      "exp(log(a) + log(b) + log(c) + log(d)) = 1.0\n",
      "exp(log(a) + (log(b) + log(c)) + log(d)) = 1.0\n",
      "exp(log(a) + log(b) + (log(c) + log(d))) = 1.0\n"
     ]
    }
   ],
   "source": [
    "@show exp(log(a) + log(b) + log(c) + log(d))\n",
    "@show exp(log(a) + (log(b) + log(c)) + log(d))\n",
    "@show exp(log(a) + log(b) + (log(c) + log(d)));"
   ]
  },
  {
   "cell_type": "code",
   "execution_count": null,
   "id": "5f465196-67cc-4e18-aac5-24145792ed08",
   "metadata": {},
   "outputs": [],
   "source": []
  }
 ],
 "metadata": {
  "jupytext": {
   "formats": "ipynb,jl:hydrogen"
  },
  "kernelspec": {
   "display_name": "Julia 1.10.2",
   "language": "julia",
   "name": "julia-1.10"
  },
  "language_info": {
   "file_extension": ".jl",
   "mimetype": "application/julia",
   "name": "julia",
   "version": "1.10.2"
  }
 },
 "nbformat": 4,
 "nbformat_minor": 5
}
