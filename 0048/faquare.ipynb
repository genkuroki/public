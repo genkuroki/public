{
 "cells": [
  {
   "cell_type": "markdown",
   "id": "933fcf06-f551-4691-8fe1-9040f52d729a",
   "metadata": {},
   "source": [
    "https://x.com/magna81407795/status/1784068317986296093"
   ]
  },
  {
   "cell_type": "code",
   "execution_count": 1,
   "id": "60b6498f-d3f4-40d5-a8dc-4686067b3add",
   "metadata": {},
   "outputs": [
    {
     "name": "stdout",
     "output_type": "stream",
     "text": [
      "  2.003856 seconds (6.62 M allocations: 915.486 MiB, 7.82% gc time, 3.07% compilation time)\n",
      "  1.918603 seconds (6.49 M allocations: 907.020 MiB, 5.64% gc time)\n",
      "  1.876251 seconds (6.49 M allocations: 907.020 MiB, 5.39% gc time)\n"
     ]
    },
    {
     "data": {
      "text/plain": [
       "2-element Vector{Any}:\n",
       " (2, Any[(1, 1)])\n",
       " (3, Any[(2, 2)])"
      ]
     },
     "execution_count": 1,
     "metadata": {},
     "output_type": "execute_result"
    }
   ],
   "source": [
    "function factorials_misint(N, T=BigInt)\n",
    "    fact = ones(T, N)\n",
    "    for i in 2:N\n",
    "        fact[i] = fact[i-1] * T(i)\n",
    "    end\n",
    "    fact\n",
    "end\n",
    "\n",
    "function faquare_misint_rev1(M, T=BigInt)\n",
    "    fact = factorials_misint(M, T)\n",
    "    result = []\n",
    "    for N in 1:M\n",
    "        ans = []\n",
    "        for a in 1:N-1\n",
    "            d = fact[N] - fact[a]\n",
    "            b = isqrt(d)\n",
    "            if b^2 == d\n",
    "                push!(ans, (a, b))\n",
    "            end\n",
    "        end\n",
    "        if length(ans) ≥ 1 # 3\n",
    "            push!(result, (N, ans))\n",
    "        end\n",
    "    end\n",
    "    result\n",
    "end\n",
    "\n",
    "M = 1000\n",
    "@time faquare_misint_rev1(M)\n",
    "@time faquare_misint_rev1(M)\n",
    "@time faquare_misint_rev1(M)"
   ]
  },
  {
   "cell_type": "code",
   "execution_count": 2,
   "id": "c2516eae-360e-46ef-bbb0-a1fca09f5a8d",
   "metadata": {
    "tags": []
   },
   "outputs": [
    {
     "name": "stdout",
     "output_type": "stream",
     "text": [
      "factorialsle(M) = [1, 2, 6, 24, 120, 720, 5040, 40320]\n",
      "  0.036973 seconds (79.85 k allocations: 3.930 MiB, 19.04% gc time, 60.37% compilation time)\n",
      "  0.005382 seconds (68.81 k allocations: 3.178 MiB)\n",
      "  0.005756 seconds (68.81 k allocations: 3.178 MiB)\n"
     ]
    },
    {
     "data": {
      "text/plain": [
       "3-element Vector{Any}:\n",
       " (145, Any[(1, 12), (4, 11), (5, 5)])\n",
       " (46249, Any[(4, 215), (7, 203), (8, 77)])\n",
       " (63121, Any[(5, 251), (7, 241), (8, 151)])"
      ]
     },
     "execution_count": 2,
     "metadata": {},
     "output_type": "execute_result"
    }
   ],
   "source": [
    "function factorialsle(N, T=typeof(N))\n",
    "    fact = T[]\n",
    "    f = T(1)\n",
    "    for i in T(1):T(N)\n",
    "        f *= i\n",
    "        f > N && break\n",
    "        push!(fact, f)\n",
    "    end\n",
    "    fact\n",
    "end\n",
    "\n",
    "function faquare_rev(M)\n",
    "    fact = factorialsle(M)\n",
    "    result = []\n",
    "    for N in 1:M\n",
    "        ans = []\n",
    "        for a in eachindex(fact)\n",
    "            d = N - fact[a]\n",
    "            d < 0 && break\n",
    "            b = isqrt(d)\n",
    "            b^2 == d && push!(ans, (a, b))\n",
    "        end\n",
    "        length(ans) ≥ 3 && push!(result, (N, ans))\n",
    "    end\n",
    "    result\n",
    "end\n",
    "\n",
    "M = 65000\n",
    "@show factorialsle(M)\n",
    "@time faquare_rev(M)\n",
    "@time faquare_rev(M)\n",
    "@time faquare_rev(M)"
   ]
  },
  {
   "cell_type": "code",
   "execution_count": null,
   "id": "c2eb3240-2498-4d17-b9a0-e11fea89a173",
   "metadata": {},
   "outputs": [],
   "source": []
  }
 ],
 "metadata": {
  "kernelspec": {
   "display_name": "Julia 1.10.3",
   "language": "julia",
   "name": "julia-1.10"
  },
  "language_info": {
   "file_extension": ".jl",
   "mimetype": "application/julia",
   "name": "julia",
   "version": "1.10.3"
  }
 },
 "nbformat": 4,
 "nbformat_minor": 5
}
