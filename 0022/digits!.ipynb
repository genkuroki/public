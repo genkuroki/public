{
 "cells": [
  {
   "cell_type": "code",
   "execution_count": 22,
   "id": "0ce060fd-0c3e-47da-98f8-580b80589f06",
   "metadata": {},
   "outputs": [
    {
     "name": "stdout",
     "output_type": "stream",
     "text": [
      " 26.453675 seconds (456.89 k allocations: 7.544 GiB, 0.97% gc time)\n",
      "  0.340094 seconds (121.71 k allocations: 126.517 MiB, 1.56% gc time, 8.33% compilation time)\n"
     ]
    },
    {
     "data": {
      "text/plain": [
       "10-element Vector{Float64}:\n",
       " 0.10002288\n",
       " 0.10000295\n",
       " 0.10001925\n",
       " 0.0999723\n",
       " 0.09995492\n",
       " 0.1000115\n",
       " 0.10000568\n",
       " 0.09999194\n",
       " 0.10003179\n",
       " 0.09998679"
      ]
     },
     "execution_count": 22,
     "metadata": {},
     "output_type": "execute_result"
    }
   ],
   "source": [
    "n = 10^8\n",
    "@time X = digits!(zeros(Int8, n), round(BigInt, big(10)^(n-1) * π))\n",
    "@time (d -> count(X .== d)).(0:9)/n"
   ]
  },
  {
   "cell_type": "code",
   "execution_count": null,
   "id": "39ac282f-6607-4180-af73-b19e078dc14a",
   "metadata": {},
   "outputs": [],
   "source": []
  }
 ],
 "metadata": {
  "kernelspec": {
   "display_name": "Julia 1.6.3",
   "language": "julia",
   "name": "julia-1.6"
  },
  "language_info": {
   "file_extension": ".jl",
   "mimetype": "application/julia",
   "name": "julia",
   "version": "1.6.3"
  }
 },
 "nbformat": 4,
 "nbformat_minor": 5
}
