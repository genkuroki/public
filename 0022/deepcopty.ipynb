{
 "cells": [
  {
   "cell_type": "code",
   "execution_count": 3,
   "id": "d400daab-7745-44d7-abf6-59e33e3ccfe8",
   "metadata": {},
   "outputs": [],
   "source": [
    "struct Foo{A, B} a::A; b::B end"
   ]
  },
  {
   "cell_type": "code",
   "execution_count": 4,
   "id": "6508c492-9ba3-45c0-a44f-3a960fcca433",
   "metadata": {},
   "outputs": [
    {
     "data": {
      "text/plain": [
       "Foo{Int64, Int64}(1, 2)"
      ]
     },
     "execution_count": 4,
     "metadata": {},
     "output_type": "execute_result"
    }
   ],
   "source": [
    "foo = Foo(1, 2)"
   ]
  },
  {
   "cell_type": "code",
   "execution_count": 6,
   "id": "a21e92f4-557e-4925-8860-d22da8ac289e",
   "metadata": {},
   "outputs": [
    {
     "data": {
      "text/plain": [
       "Foo{Int64, Int64}(1, 2)"
      ]
     },
     "execution_count": 6,
     "metadata": {},
     "output_type": "execute_result"
    }
   ],
   "source": [
    "foo1 = deepcopy(foo)"
   ]
  },
  {
   "cell_type": "code",
   "execution_count": 7,
   "id": "1db8ece8-33ec-4e67-a2ff-75f332b4adb1",
   "metadata": {},
   "outputs": [
    {
     "data": {
      "text/html": [
       "deepcopy(x) in Base at <a href=\"https://github.com/JuliaLang/julia/tree/ae8452a9e0b973991c30f27beb2201db1b0ea0d3/base/deepcopy.jl#L24\" target=\"_blank\">deepcopy.jl:24</a>"
      ],
      "text/plain": [
       "deepcopy(x) in Base at deepcopy.jl:24"
      ]
     },
     "execution_count": 7,
     "metadata": {},
     "output_type": "execute_result"
    }
   ],
   "source": [
    "@which deepcopy(foo)"
   ]
  },
  {
   "cell_type": "code",
   "execution_count": 8,
   "id": "670dad3c-ebcb-451d-b383-e9de54ca18dd",
   "metadata": {},
   "outputs": [],
   "source": [
    "struct Bar{T}\n",
    "    a::T\n",
    "    b::T\n",
    "    Bar(a) = new{typeof(a)}(a, oftype(a, 2)a)\n",
    "end"
   ]
  },
  {
   "cell_type": "code",
   "execution_count": 9,
   "id": "a2e364a8-93e5-4b94-8a77-630170d69710",
   "metadata": {},
   "outputs": [
    {
     "data": {
      "text/plain": [
       "Bar{Int64}(1, 2)"
      ]
     },
     "execution_count": 9,
     "metadata": {},
     "output_type": "execute_result"
    }
   ],
   "source": [
    "bar = Bar(1)"
   ]
  },
  {
   "cell_type": "code",
   "execution_count": 10,
   "id": "cebf6192-4870-4e59-a340-600530f58cf1",
   "metadata": {},
   "outputs": [
    {
     "data": {
      "text/plain": [
       "Bar{Int64}(1, 2)"
      ]
     },
     "execution_count": 10,
     "metadata": {},
     "output_type": "execute_result"
    }
   ],
   "source": [
    "bar1 = deepcopy(bar)"
   ]
  },
  {
   "cell_type": "code",
   "execution_count": 12,
   "id": "bb51fed1-921e-4a60-8170-f0f1ca6d579f",
   "metadata": {},
   "outputs": [
    {
     "ename": "LoadError",
     "evalue": "setfield! immutable struct of type Bar cannot be changed",
     "output_type": "error",
     "traceback": [
      "setfield! immutable struct of type Bar cannot be changed",
      "",
      "Stacktrace:",
      " [1] top-level scope",
      "   @ .\\In[12]:2",
      " [2] eval",
      "   @ .\\boot.jl:360 [inlined]",
      " [3] include_string(mapexpr::typeof(REPL.softscope), mod::Module, code::String, filename::String)",
      "   @ Base .\\loading.jl:1116"
     ]
    }
   ],
   "source": [
    "y = ccall(:jl_new_struct_uninit, Any, (Any,), typeof(bar))\n",
    "ccall(:jl_set_nth_field, Cvoid, (Any, Csize_t, Any), y, 2-1, 3)"
   ]
  },
  {
   "cell_type": "code",
   "execution_count": null,
   "id": "091ebc8b-090b-4f20-9e0e-a3bf0ff32ed4",
   "metadata": {},
   "outputs": [],
   "source": []
  }
 ],
 "metadata": {
  "kernelspec": {
   "display_name": "Julia 1.6.3",
   "language": "julia",
   "name": "julia-1.6"
  },
  "language_info": {
   "file_extension": ".jl",
   "mimetype": "application/julia",
   "name": "julia",
   "version": "1.6.3"
  }
 },
 "nbformat": 4,
 "nbformat_minor": 5
}
