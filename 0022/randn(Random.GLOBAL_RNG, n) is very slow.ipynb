{
 "cells": [
  {
   "cell_type": "code",
   "execution_count": 1,
   "id": "955d1f63-47a8-4513-9105-e579dee80fba",
   "metadata": {},
   "outputs": [
    {
     "name": "stdout",
     "output_type": "stream",
     "text": [
      "  1.240 ms (2 allocations: 7.63 MiB)\n",
      "  1.425 ms (2 allocations: 7.63 MiB)\n",
      "  1.405 ms (2 allocations: 7.63 MiB)\n",
      "  557.700 μs (0 allocations: 0 bytes)\n",
      "  565.000 μs (0 allocations: 0 bytes)\n",
      "  564.900 μs (0 allocations: 0 bytes)\n"
     ]
    }
   ],
   "source": [
    "using BenchmarkTools\n",
    "using Random\n",
    "\n",
    "n = 10^6\n",
    "A = zeros(n)\n",
    "\n",
    "@btime rand(n)\n",
    "@btime rand($(Random.default_rng()), n)\n",
    "@btime rand($(Random.GLOBAL_RNG), n)\n",
    "\n",
    "@btime rand!(A)\n",
    "@btime rand!($(Random.default_rng()), A)\n",
    "@btime rand!($(Random.GLOBAL_RNG), A);"
   ]
  },
  {
   "cell_type": "code",
   "execution_count": 2,
   "id": "590f77db-ab3d-4b4d-86ed-c33da72593a6",
   "metadata": {},
   "outputs": [
    {
     "name": "stdout",
     "output_type": "stream",
     "text": [
      "  3.208 ms (2 allocations: 7.63 MiB)\n",
      "  2.869 ms (2 allocations: 7.63 MiB)\n",
      "  9.169 ms (2 allocations: 7.63 MiB)\n",
      "  2.034 ms (0 allocations: 0 bytes)\n",
      "  2.026 ms (0 allocations: 0 bytes)\n",
      "  7.941 ms (0 allocations: 0 bytes)\n"
     ]
    }
   ],
   "source": [
    "@btime randn(n)\n",
    "@btime randn($(Random.default_rng()), n)\n",
    "@btime randn($(Random.GLOBAL_RNG), n)\n",
    "\n",
    "@btime randn!(A)\n",
    "@btime randn!($(Random.default_rng()), A)\n",
    "@btime randn!($(Random.GLOBAL_RNG), A);"
   ]
  },
  {
   "cell_type": "code",
   "execution_count": 3,
   "id": "8f04d19a-5926-48e4-b9b3-b0085b340443",
   "metadata": {},
   "outputs": [
    {
     "data": {
      "text/plain": [
       "v\"1.6.3\""
      ]
     },
     "execution_count": 3,
     "metadata": {},
     "output_type": "execute_result"
    }
   ],
   "source": [
    "VERSION"
   ]
  },
  {
   "cell_type": "code",
   "execution_count": null,
   "id": "64ee4021-80c3-4017-b280-7f482d9a04ac",
   "metadata": {},
   "outputs": [
    {
     "name": "stdout",
     "output_type": "stream",
     "text": [
      "  8.805 ms (2 allocations: 7.63 MiB)\n",
      "  3.260 ms (2 allocations: 7.63 MiB)"
     ]
    }
   ],
   "source": [
    "using Distributions\n",
    "\n",
    "@btime rand($(Normal()), n)\n",
    "@btime rand($(Random.default_rng()), $(Normal()), n)\n",
    "@btime rand($(Random.GLOBAL_RNG), $(Normal()), n)\n",
    "\n",
    "@btime rand!($(Normal()), A)\n",
    "@btime rand!($(Random.default_rng()), $(Normal()), A)\n",
    "@btime rand!($(Random.GLOBAL_RNG), $(Normal()), A);"
   ]
  },
  {
   "cell_type": "code",
   "execution_count": null,
   "id": "6ac41eb6-59ef-46e6-b8b8-bb45c11c84c5",
   "metadata": {},
   "outputs": [],
   "source": []
  }
 ],
 "metadata": {
  "kernelspec": {
   "display_name": "Julia 1.6.3",
   "language": "julia",
   "name": "julia-1.6"
  },
  "language_info": {
   "file_extension": ".jl",
   "mimetype": "application/julia",
   "name": "julia",
   "version": "1.6.3"
  }
 },
 "nbformat": 4,
 "nbformat_minor": 5
}
