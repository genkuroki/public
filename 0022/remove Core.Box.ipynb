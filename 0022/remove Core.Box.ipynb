{
 "cells": [
  {
   "cell_type": "code",
   "execution_count": 1,
   "id": "467effd4-85ec-4e9e-a887-1e88f5f8c41c",
   "metadata": {},
   "outputs": [
    {
     "name": "stdout",
     "output_type": "stream",
     "text": [
      "f (function of type typeof(f))\n",
      "  a: Core.Box\n",
      "    contents: Int64 3\n"
     ]
    }
   ],
   "source": [
    "function makef(a)\n",
    "    f(x) = a = x\n",
    "    f\n",
    "end\n",
    "\n",
    "f = makef(3)\n",
    "dump(f)"
   ]
  },
  {
   "cell_type": "code",
   "execution_count": 2,
   "id": "9019edfd-c834-4bcc-a54c-8af6f7723130",
   "metadata": {},
   "outputs": [
    {
     "name": "stdout",
     "output_type": "stream",
     "text": [
      "f (function of type var\"#f#2\"{Base.RefValue{Int64}})\n",
      "  A: Base.RefValue{Int64}\n",
      "    x: Int64 3\n"
     ]
    }
   ],
   "source": [
    "function makef(a)\n",
    "    A = Ref(a)\n",
    "    f(x) = A[] = x\n",
    "    f\n",
    "end\n",
    "\n",
    "f = makef(3)\n",
    "dump(f)"
   ]
  },
  {
   "cell_type": "code",
   "execution_count": 3,
   "id": "f05752c3-6605-426d-91d2-8a5550851a6b",
   "metadata": {},
   "outputs": [
    {
     "name": "stdout",
     "output_type": "stream",
     "text": [
      "f (function of type var\"#f#3\"{Array{Int64, 0}})\n",
      "  A: Array{Int64}(()) fill(3)\n"
     ]
    }
   ],
   "source": [
    "function makef(a)\n",
    "    A = fill(a)\n",
    "    f(x) = A[] = x\n",
    "    f\n",
    "end\n",
    "\n",
    "f = makef(3)\n",
    "dump(f)"
   ]
  },
  {
   "cell_type": "code",
   "execution_count": null,
   "id": "54023468-b014-43b6-a3b8-432d3a57d9b6",
   "metadata": {},
   "outputs": [],
   "source": []
  }
 ],
 "metadata": {
  "kernelspec": {
   "display_name": "Julia 1.6.3",
   "language": "julia",
   "name": "julia-1.6"
  },
  "language_info": {
   "file_extension": ".jl",
   "mimetype": "application/julia",
   "name": "julia",
   "version": "1.6.3"
  }
 },
 "nbformat": 4,
 "nbformat_minor": 5
}
