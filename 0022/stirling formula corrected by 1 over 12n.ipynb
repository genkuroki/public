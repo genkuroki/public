{
 "cells": [
  {
   "cell_type": "code",
   "execution_count": 1,
   "id": "f934df21-4ada-4377-b82a-b6183795924d",
   "metadata": {},
   "outputs": [
    {
     "data": {
      "text/plain": [
       "1"
      ]
     },
     "execution_count": 1,
     "metadata": {},
     "output_type": "execute_result"
    }
   ],
   "source": [
    "n = 1"
   ]
  },
  {
   "cell_type": "code",
   "execution_count": 2,
   "id": "828f4cda-85da-40bf-97e8-cc6d1b86a560",
   "metadata": {},
   "outputs": [
    {
     "data": {
      "text/plain": [
       "1"
      ]
     },
     "execution_count": 2,
     "metadata": {},
     "output_type": "execute_result"
    }
   ],
   "source": [
    "factorial(n)"
   ]
  },
  {
   "cell_type": "code",
   "execution_count": 3,
   "id": "68d24792-5362-4111-8609-33bea5af1665",
   "metadata": {},
   "outputs": [
    {
     "data": {
      "text/plain": [
       "0.9989817596371048"
      ]
     },
     "execution_count": 3,
     "metadata": {},
     "output_type": "execute_result"
    }
   ],
   "source": [
    "n^n * exp(-n) * √(2π*n) * (1 + 1/(12n))"
   ]
  },
  {
   "cell_type": "code",
   "execution_count": 4,
   "id": "0e598374-a363-4cf8-91a7-ec386b2236f2",
   "metadata": {},
   "outputs": [
    {
     "data": {
      "text/plain": [
       "0.9989817596371049"
      ]
     },
     "execution_count": 4,
     "metadata": {},
     "output_type": "execute_result"
    }
   ],
   "source": [
    "√(2π)/ℯ * 13/12"
   ]
  },
  {
   "cell_type": "code",
   "execution_count": null,
   "id": "612334bd-4bf2-4390-9cad-3609f095d703",
   "metadata": {},
   "outputs": [],
   "source": []
  }
 ],
 "metadata": {
  "kernelspec": {
   "display_name": "Julia 1.6.3",
   "language": "julia",
   "name": "julia-1.6"
  },
  "language_info": {
   "file_extension": ".jl",
   "mimetype": "application/julia",
   "name": "julia",
   "version": "1.6.3"
  }
 },
 "nbformat": 4,
 "nbformat_minor": 5
}
