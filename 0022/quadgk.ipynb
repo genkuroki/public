{
 "cells": [
  {
   "cell_type": "code",
   "execution_count": 1,
   "id": "b165ba7a-f324-40aa-aa98-e0863bb90344",
   "metadata": {},
   "outputs": [],
   "source": [
    "using QuadGK"
   ]
  },
  {
   "cell_type": "code",
   "execution_count": 2,
   "id": "864af614-ff70-4f47-bfb0-034af1c013e2",
   "metadata": {},
   "outputs": [
    {
     "name": "stdout",
     "output_type": "stream",
     "text": [
      "  0.680974 seconds (1.17 M allocations: 69.585 MiB, 1.12% gc time, 99.99% compilation time)\n",
      "  0.000026 seconds (184 allocations: 4.422 KiB)\n",
      "  0.000025 seconds (184 allocations: 4.422 KiB)\n"
     ]
    },
    {
     "data": {
      "text/plain": [
       "(2.506628274639168, 3.608438072243189e-8)"
      ]
     },
     "execution_count": 2,
     "metadata": {},
     "output_type": "execute_result"
    }
   ],
   "source": [
    "function int1(a)\n",
    "    f(x) = exp(-0.5a*x^2)\n",
    "    val, err = quadgk(f, -Inf, Inf)\n",
    "end\n",
    "\n",
    "@time int1(1.0)\n",
    "@time int1(1.0)\n",
    "@time int1(1.0)"
   ]
  },
  {
   "cell_type": "code",
   "execution_count": 3,
   "id": "040286a7-9a38-4350-ba33-066aeaa7ae3f",
   "metadata": {},
   "outputs": [
    {
     "name": "stdout",
     "output_type": "stream",
     "text": [
      "  0.154317 seconds (15.96 k allocations: 691.391 KiB, 99.97% compilation time)\n",
      "  0.000029 seconds (180 allocations: 4.359 KiB)\n",
      "  0.000027 seconds (180 allocations: 4.359 KiB)\n"
     ]
    },
    {
     "data": {
      "text/plain": [
       "(2.506628274639168, 3.608438072243189e-8)"
      ]
     },
     "execution_count": 3,
     "metadata": {},
     "output_type": "execute_result"
    }
   ],
   "source": [
    "function int2(f, a)\n",
    "    integrand(x) = f(x, a)\n",
    "    val, err = quadgk(integrand, -Inf, Inf)\n",
    "end\n",
    "\n",
    "f(x, a) = exp(-0.5a*x^2)\n",
    "\n",
    "@time int2(f, 1.0)\n",
    "@time int2(f, 1.0)\n",
    "@time int2(f, 1.0)"
   ]
  },
  {
   "cell_type": "code",
   "execution_count": 4,
   "id": "7b8f56fa-3eeb-4c37-9672-defced6ca2d4",
   "metadata": {},
   "outputs": [
    {
     "name": "stdout",
     "output_type": "stream",
     "text": [
      "  0.158914 seconds (15.96 k allocations: 691.391 KiB, 99.98% compilation time)\n",
      "  0.000026 seconds (180 allocations: 4.359 KiB)\n",
      "  0.000027 seconds (180 allocations: 4.359 KiB)\n"
     ]
    },
    {
     "data": {
      "text/plain": [
       "(2.506628274639168, 3.608438072243189e-8)"
      ]
     },
     "execution_count": 4,
     "metadata": {},
     "output_type": "execute_result"
    }
   ],
   "source": [
    "function int3(f, a)\n",
    "    val, err = quadgk(x -> f(x, a), -Inf, Inf)\n",
    "end\n",
    "\n",
    "f(x, a) = exp(-0.5a*x^2)\n",
    "\n",
    "@time int3(f, 1.0)\n",
    "@time int3(f, 1.0)\n",
    "@time int3(f, 1.0)"
   ]
  },
  {
   "cell_type": "code",
   "execution_count": 5,
   "id": "0b8abb5e-1a46-41ad-a48e-3a1a9d7138a4",
   "metadata": {},
   "outputs": [
    {
     "data": {
      "text/plain": [
       "CodeInfo(\n",
       "\u001b[90m1 ─\u001b[39m %1 = %new(var\"#f#1\"{Float64}, a)\u001b[36m::var\"#f#1\"{Float64}\u001b[39m\n",
       "\u001b[90m│  \u001b[39m %2 = invoke Main.quadgk(%1::Function, -Inf::Float64, Main.Inf::Float64)\u001b[36m::Tuple{Float64, Float64}\u001b[39m\n",
       "\u001b[90m└──\u001b[39m      return %2\n",
       ") => Tuple{Float64, Float64}"
      ]
     },
     "execution_count": 5,
     "metadata": {},
     "output_type": "execute_result"
    }
   ],
   "source": [
    "@code_typed int1(1.0)"
   ]
  },
  {
   "cell_type": "code",
   "execution_count": 6,
   "id": "5207f1af-9bca-4a0e-af82-96b5498ef93e",
   "metadata": {},
   "outputs": [
    {
     "data": {
      "text/plain": [
       "CodeInfo(\n",
       "\u001b[90m1 ─\u001b[39m %1 = %new(var\"#integrand#2\"{typeof(f), Float64}, f, a)\u001b[36m::var\"#integrand#2\"{typeof(f), Float64}\u001b[39m\n",
       "\u001b[90m│  \u001b[39m %2 = invoke Main.quadgk(%1::Function, -Inf::Float64, Main.Inf::Float64)\u001b[36m::Tuple{Float64, Float64}\u001b[39m\n",
       "\u001b[90m└──\u001b[39m      return %2\n",
       ") => Tuple{Float64, Float64}"
      ]
     },
     "execution_count": 6,
     "metadata": {},
     "output_type": "execute_result"
    }
   ],
   "source": [
    "@code_typed int2(f, 1.0)"
   ]
  },
  {
   "cell_type": "code",
   "execution_count": 7,
   "id": "051404ad-2d01-44d6-9162-61b591a39e1c",
   "metadata": {},
   "outputs": [
    {
     "data": {
      "text/plain": [
       "CodeInfo(\n",
       "\u001b[90m1 ─\u001b[39m %1 = %new(var\"#3#4\"{typeof(f), Float64}, f, a)\u001b[36m::var\"#3#4\"{typeof(f), Float64}\u001b[39m\n",
       "\u001b[90m│  \u001b[39m %2 = invoke Main.quadgk(%1::Function, -Inf::Float64, Main.Inf::Float64)\u001b[36m::Tuple{Float64, Float64}\u001b[39m\n",
       "\u001b[90m└──\u001b[39m      return %2\n",
       ") => Tuple{Float64, Float64}"
      ]
     },
     "execution_count": 7,
     "metadata": {},
     "output_type": "execute_result"
    }
   ],
   "source": [
    "@code_typed int3(f, 1.0)"
   ]
  },
  {
   "cell_type": "code",
   "execution_count": null,
   "id": "e982c5ad-e31d-4786-8bcd-439604656504",
   "metadata": {},
   "outputs": [],
   "source": []
  }
 ],
 "metadata": {
  "kernelspec": {
   "display_name": "Julia 1.6.2",
   "language": "julia",
   "name": "julia-1.6"
  },
  "language_info": {
   "file_extension": ".jl",
   "mimetype": "application/julia",
   "name": "julia",
   "version": "1.6.2"
  }
 },
 "nbformat": 4,
 "nbformat_minor": 5
}
