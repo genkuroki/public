{
 "cells": [
  {
   "cell_type": "code",
   "execution_count": 1,
   "id": "14baa97a-eebe-4a73-8cf6-b139112c7f0d",
   "metadata": {},
   "outputs": [
    {
     "data": {
      "text/latex": [
       "$\\begin{equation*}a + x \\left(b + x \\left(c + d x\\right)\\right)\\end{equation*}$\n"
      ],
      "text/plain": [
       "a + x*(b + x*(c + d*x))"
      ]
     },
     "execution_count": 1,
     "metadata": {},
     "output_type": "execute_result"
    }
   ],
   "source": [
    "using SymPy\n",
    "@vars x a b c d\n",
    "Base.Math.@horner x a b c d"
   ]
  },
  {
   "cell_type": "code",
   "execution_count": 2,
   "id": "cc3d7951-e0bd-4134-a24d-c347e9778b4e",
   "metadata": {},
   "outputs": [
    {
     "data": {
      "text/latex": [
       "$\\begin{equation*}a + x \\left(b + x \\left(c + d x\\right)\\right)\\end{equation*}$\n"
      ],
      "text/plain": [
       "a + x*(b + x*(c + d*x))"
      ]
     },
     "execution_count": 2,
     "metadata": {},
     "output_type": "execute_result"
    }
   ],
   "source": [
    "evalpoly(x, (a, b, c, d))"
   ]
  },
  {
   "cell_type": "code",
   "execution_count": null,
   "id": "08dfcb62-1872-4ddb-843d-cfaa00b34bfa",
   "metadata": {},
   "outputs": [],
   "source": []
  }
 ],
 "metadata": {
  "kernelspec": {
   "display_name": "Julia 1.6.3",
   "language": "julia",
   "name": "julia-1.6"
  },
  "language_info": {
   "file_extension": ".jl",
   "mimetype": "application/julia",
   "name": "julia",
   "version": "1.6.3"
  }
 },
 "nbformat": 4,
 "nbformat_minor": 5
}
