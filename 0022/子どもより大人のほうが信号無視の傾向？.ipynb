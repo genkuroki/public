{
 "cells": [
  {
   "cell_type": "markdown",
   "id": "9b470f2c-de8a-4add-abdf-3f34dce12dd0",
   "metadata": {},
   "source": [
    "* https://www3.nhk.or.jp/kansai-news/20210921/2000051589.html\n",
    "* [public/0014/2×2の分割表の独立性検定の信頼区間.ipynb](https://github.com/genkuroki/public/blob/main/0014/2%C3%972%E3%81%AE%E5%88%86%E5%89%B2%E8%A1%A8%E3%81%AE%E7%8B%AC%E7%AB%8B%E6%80%A7%E6%A4%9C%E5%AE%9A%E3%81%AE%E4%BF%A1%E9%A0%BC%E5%8C%BA%E9%96%93.ipynb)\n",
    "\n",
    "![2021-09-23.png](2021-09-23.png)"
   ]
  },
  {
   "cell_type": "code",
   "execution_count": 1,
   "id": "341168f2-8c0b-4553-a63d-0414cd0a9b05",
   "metadata": {},
   "outputs": [
    {
     "data": {
      "text/plain": [
       "0.0946372239747634"
      ]
     },
     "execution_count": 1,
     "metadata": {},
     "output_type": "execute_result"
    }
   ],
   "source": [
    "using Distributions\n",
    "\n",
    "A = [\n",
    "     14-0   0\n",
    "    833-78 78\n",
    "    104-12 12\n",
    "]\n",
    "\n",
    "p = sum(A[:,2])/sum(A)"
   ]
  },
  {
   "cell_type": "code",
   "execution_count": 2,
   "id": "9f9b93bc-72a2-4418-8400-c14f051c130b",
   "metadata": {},
   "outputs": [
    {
     "data": {
      "text/plain": [
       "Product{Discrete, Binomial{Float64}, Vector{Binomial{Float64}}}(v=Binomial{Float64}[Binomial{Float64}(n=14, p=0.0946372239747634), Binomial{Float64}(n=833, p=0.0946372239747634), Binomial{Float64}(n=104, p=0.0946372239747634)])"
      ]
     },
     "execution_count": 2,
     "metadata": {},
     "output_type": "execute_result"
    }
   ],
   "source": [
    "null = product_distribution([Binomial(sum(A[i,:]), p) for i in axes(A, 1)])"
   ]
  },
  {
   "cell_type": "code",
   "execution_count": 3,
   "id": "3c2084f4-b6c5-4d1a-b207-206c6e5a0532",
   "metadata": {},
   "outputs": [
    {
     "data": {
      "text/plain": [
       "3×1000000 Matrix{Int64}:\n",
       "  0   3   2   1   0   2   1   1   2  …   3   0   2   0   3   0   2   1   1\n",
       " 92  74  88  83  83  60  88  83  66     93  80  97  76  85  92  70  77  66\n",
       " 11   7   3  10  11   8   9  11  10      8   6  12   6  12  13   6   9   5"
      ]
     },
     "execution_count": 3,
     "metadata": {},
     "output_type": "execute_result"
    }
   ],
   "source": [
    "L = 10^6\n",
    "X = rand(null, L)"
   ]
  },
  {
   "cell_type": "code",
   "execution_count": 4,
   "id": "6cdb666b-c8d5-4e88-b4bd-6b11faf6b196",
   "metadata": {},
   "outputs": [
    {
     "data": {
      "text/plain": [
       "1×1000000 Matrix{Bool}:\n",
       " 1  0  0  0  1  0  0  0  0  0  0  1  0  …  0  0  0  0  0  0  0  0  1  0  0  0"
      ]
     },
     "execution_count": 4,
     "metadata": {},
     "output_type": "execute_result"
    }
   ],
   "source": [
    "a = mapslices(v -> v[1] ≤ A[1,2] && v[2]+v[3] ≥ A[2,2]+A[3,2], X; dims=1)"
   ]
  },
  {
   "cell_type": "code",
   "execution_count": 5,
   "id": "32d6e132-dfd5-473e-b4e0-1c101127404c",
   "metadata": {},
   "outputs": [
    {
     "data": {
      "text/plain": [
       "0.113447"
      ]
     },
     "execution_count": 5,
     "metadata": {},
     "output_type": "execute_result"
    }
   ],
   "source": [
    "mean(a)"
   ]
  },
  {
   "cell_type": "markdown",
   "id": "3693178f-79cb-4c93-a613-94e8bcb6f6c4",
   "metadata": {},
   "source": [
    "仮に子供も大人もお年寄りも信号無視する割合が同じ9.5%程度であったときに、子供14人、大人833人、お年寄り104人の調査で、子供が誰も信号無視せず、大人とお年寄りで信号無視する人達の人数の合計が78人+12人以上になる確率は、11％程度になる。"
   ]
  },
  {
   "cell_type": "code",
   "execution_count": 6,
   "id": "dca1a056-0adc-4352-87ae-ce7dc96d8246",
   "metadata": {},
   "outputs": [
    {
     "data": {
      "text/plain": [
       "0.280535"
      ]
     },
     "execution_count": 6,
     "metadata": {},
     "output_type": "execute_result"
    }
   ],
   "source": [
    "A = [\n",
    "     14-1   1\n",
    "    833-78 78\n",
    "    104-12 12\n",
    "]\n",
    "q = sum(A[:,2])/sum(A)\n",
    "\n",
    "null2 = product_distribution([Binomial(sum(A[i,:]), p) for i in axes(A, 1)])\n",
    "L = 10^6\n",
    "X2 = rand(null2, L)\n",
    "a2 = mapslices(v -> v[1] ≤ A[1,2] && v[2]+v[3] ≥ A[2,2]+A[3,2], X; dims=1)\n",
    "mean(a2)"
   ]
  },
  {
   "cell_type": "markdown",
   "id": "4f53a6c4-300a-41db-84ce-be156150bdba",
   "metadata": {},
   "source": [
    "上と同じ計算を、仮に子供14人中信号無視をしてしまった子が１人出てしまった場合に行ってみると、結果は28%程度になる。"
   ]
  },
  {
   "cell_type": "code",
   "execution_count": null,
   "id": "59535665-b758-419e-96a9-f17b0d775a37",
   "metadata": {},
   "outputs": [],
   "source": []
  }
 ],
 "metadata": {
  "jupytext": {
   "formats": "ipynb,auto:hydrogen"
  },
  "kernelspec": {
   "display_name": "Julia 1.6.2",
   "language": "julia",
   "name": "julia-1.6"
  },
  "language_info": {
   "file_extension": ".jl",
   "mimetype": "application/julia",
   "name": "julia",
   "version": "1.6.2"
  }
 },
 "nbformat": 4,
 "nbformat_minor": 5
}
