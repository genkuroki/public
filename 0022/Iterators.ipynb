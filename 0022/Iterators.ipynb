{
 "cells": [
  {
   "cell_type": "markdown",
   "id": "a66f587a-0291-41e0-a31c-5e029dc7621f",
   "metadata": {},
   "source": [
    "https://docs.julialang.org/en/v1/base/iterators/"
   ]
  },
  {
   "cell_type": "code",
   "execution_count": 1,
   "id": "0a7e3069-b05c-421b-be4b-b93d7ef24874",
   "metadata": {},
   "outputs": [
    {
     "data": {
      "text/plain": [
       "f (generic function with 1 method)"
      ]
     },
     "execution_count": 1,
     "metadata": {},
     "output_type": "execute_result"
    }
   ],
   "source": [
    "f(i, n) = zip(Iterators.repeated(i), Iterators.filter(!=(i), 1:n))"
   ]
  },
  {
   "cell_type": "code",
   "execution_count": 2,
   "id": "1f1ad54f-6eda-466b-bd71-5425f2dfc55a",
   "metadata": {},
   "outputs": [
    {
     "data": {
      "text/plain": [
       "zip(Base.Iterators.Repeated{Int64}(2), Base.Iterators.Filter{Base.Fix2{typeof(!=), Int64}, UnitRange{Int64}}(Base.Fix2{typeof(!=), Int64}(!=, 2), 1:6))"
      ]
     },
     "execution_count": 2,
     "metadata": {},
     "output_type": "execute_result"
    }
   ],
   "source": [
    "f(2, 6)"
   ]
  },
  {
   "cell_type": "code",
   "execution_count": 3,
   "id": "35bb1386-58d0-4087-a98f-c40e76f4e890",
   "metadata": {},
   "outputs": [
    {
     "data": {
      "text/plain": [
       "5-element Vector{Tuple{Int64, Int64}}:\n",
       " (2, 1)\n",
       " (2, 3)\n",
       " (2, 4)\n",
       " (2, 5)\n",
       " (2, 6)"
      ]
     },
     "execution_count": 3,
     "metadata": {},
     "output_type": "execute_result"
    }
   ],
   "source": [
    "f(2, 6) |>collect"
   ]
  },
  {
   "cell_type": "code",
   "execution_count": 4,
   "id": "c8f8398e-e4f0-4bcd-b805-55dc04fc18b4",
   "metadata": {},
   "outputs": [
    {
     "name": "stdout",
     "output_type": "stream",
     "text": [
      "(i, j) = (2, 1)\n",
      "(i, j) = (2, 3)\n",
      "(i, j) = (2, 4)\n",
      "(i, j) = (2, 5)\n",
      "(i, j) = (2, 6)\n"
     ]
    }
   ],
   "source": [
    "for (i, j) in f(2, 6)\n",
    "    @show (i, j)\n",
    "end"
   ]
  },
  {
   "cell_type": "code",
   "execution_count": 5,
   "id": "2e83d29a-2e17-4574-bf8b-06c8b46f4321",
   "metadata": {},
   "outputs": [
    {
     "data": {
      "text/plain": [
       "5-element Vector{Tuple{Int64, Int64}}:\n",
       " (2, 1)\n",
       " (2, 3)\n",
       " (2, 4)\n",
       " (2, 5)\n",
       " (2, 6)"
      ]
     },
     "execution_count": 5,
     "metadata": {},
     "output_type": "execute_result"
    }
   ],
   "source": [
    "function f_naive(i, n)\n",
    "    c = similar([(0, 0)], n - 1)\n",
    "    for j in 1:i-1\n",
    "        c[j] = (i, j)\n",
    "    end\n",
    "    for j in i+1:n\n",
    "        c[j-1] = (i, j)\n",
    "    end\n",
    "    c\n",
    "end\n",
    "\n",
    "f_naive(2, 6)"
   ]
  },
  {
   "cell_type": "code",
   "execution_count": 6,
   "id": "69b5b8a1-c061-4943-8070-b64d4b852f53",
   "metadata": {},
   "outputs": [
    {
     "data": {
      "text/plain": [
       "5-element Vector{Any}:\n",
       " (2, 1)\n",
       " (2, 3)\n",
       " (2, 4)\n",
       " (2, 5)\n",
       " (2, 6)"
      ]
     },
     "execution_count": 6,
     "metadata": {},
     "output_type": "execute_result"
    }
   ],
   "source": [
    "function f_bad(i, n)\n",
    "    c = []\n",
    "    for j in 1:i-1\n",
    "        push!(c, (i, j))\n",
    "    end\n",
    "    for j in i+1:n\n",
    "        push!(c, (i, j))\n",
    "    end\n",
    "    c\n",
    "end\n",
    "\n",
    "f_bad(2, 6)"
   ]
  },
  {
   "cell_type": "code",
   "execution_count": 7,
   "id": "b70f7a6c-68f6-40a5-afce-85790618c0a9",
   "metadata": {},
   "outputs": [
    {
     "data": {
      "text/plain": [
       "5-element Vector{Tuple{Int64, Int64}}:\n",
       " (2, 1)\n",
       " (2, 3)\n",
       " (2, 4)\n",
       " (2, 5)\n",
       " (2, 6)"
      ]
     },
     "execution_count": 7,
     "metadata": {},
     "output_type": "execute_result"
    }
   ],
   "source": [
    "f_revised(i, n) = zip(Iterators.repeated(i), Iterators.flatten((1:i-1, i+1:n)))\n",
    "\n",
    "f_revised(2, 6) |> collect"
   ]
  },
  {
   "cell_type": "code",
   "execution_count": 8,
   "id": "d4ff3c1a-6607-4158-b377-957088b4ceb7",
   "metadata": {},
   "outputs": [
    {
     "data": {
      "text/plain": [
       "6-element Vector{Vector{Tuple{Int64, Int64}}}:\n",
       " [(1, 2), (1, 3), (1, 4), (1, 5), (1, 6)]\n",
       " [(2, 1), (2, 3), (2, 4), (2, 5), (2, 6)]\n",
       " [(3, 1), (3, 2), (3, 4), (3, 5), (3, 6)]\n",
       " [(4, 1), (4, 2), (4, 3), (4, 5), (4, 6)]\n",
       " [(5, 1), (5, 2), (5, 3), (5, 4), (5, 6)]\n",
       " [(6, 1), (6, 2), (6, 3), (6, 4), (6, 5)]"
      ]
     },
     "execution_count": 8,
     "metadata": {},
     "output_type": "execute_result"
    }
   ],
   "source": [
    "[f_revised(i, 6) |> collect for i in 1:6]"
   ]
  },
  {
   "cell_type": "code",
   "execution_count": null,
   "id": "ed781302-54ae-4f2b-8a91-950afa2aa8a3",
   "metadata": {},
   "outputs": [],
   "source": []
  }
 ],
 "metadata": {
  "kernelspec": {
   "display_name": "Julia 1.6.3",
   "language": "julia",
   "name": "julia-1.6"
  },
  "language_info": {
   "file_extension": ".jl",
   "mimetype": "application/julia",
   "name": "julia",
   "version": "1.6.3"
  }
 },
 "nbformat": 4,
 "nbformat_minor": 5
}
