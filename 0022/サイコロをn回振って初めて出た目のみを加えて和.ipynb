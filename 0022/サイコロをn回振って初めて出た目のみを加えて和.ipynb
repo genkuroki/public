{
 "cells": [
  {
   "cell_type": "markdown",
   "id": "9f80fc3c-21d7-495f-b94a-f01d924aea16",
   "metadata": {},
   "source": [
    "https://twitter.com/dannchu/status/1443524638252810248"
   ]
  },
  {
   "cell_type": "code",
   "execution_count": null,
   "id": "6940a91b-1bbd-4ea1-a106-089d5694867f",
   "metadata": {},
   "outputs": [],
   "source": [
    "using Plots\n",
    "default(titlefontsize=12, tickfontsize=6)\n",
    "\n",
    "function f!(a, n)\n",
    "    a .= false\n",
    "    s = 0\n",
    "    for _ in 1:n\n",
    "        i = rand(1:6)\n",
    "        a[i] && continue\n",
    "        a[i] = true\n",
    "        s += i\n",
    "        all(a) && break\n",
    "    end\n",
    "    s\n",
    "end\n",
    "\n",
    "function countf!(X, a, n, L)\n",
    "    X .= 0\n",
    "    for _ in 1:L\n",
    "        @inbounds X[f!(a, n)] +=1\n",
    "    end\n",
    "    X\n",
    "end\n",
    "\n",
    "X = zeros(Int, 21)\n",
    "a = falses(6)\n",
    "L = 10^6\n",
    "PP = []\n",
    "for n in 1:10\n",
    "    @time countf!(X, a, n, L); flush(stdout)\n",
    "    P = bar(1:21, X/L; alpha=0.3, xtick=1:21, label=\"\", title=\"n = $n\")\n",
    "    push!(PP, P)\n",
    "end\n",
    "plot(PP...; layout=(5, 2), size=(700, 1000))"
   ]
  },
  {
   "cell_type": "code",
   "execution_count": null,
   "id": "03e423d8-9235-4e68-b3c0-83a4dd661ccd",
   "metadata": {},
   "outputs": [],
   "source": []
  }
 ],
 "metadata": {
  "jupytext": {
   "formats": "ipynb,jl:hydrogen"
  },
  "kernelspec": {
   "display_name": "Julia 1.6.3",
   "language": "julia",
   "name": "julia-1.6"
  },
  "language_info": {
   "file_extension": ".jl",
   "mimetype": "application/julia",
   "name": "julia",
   "version": "1.6.3"
  }
 },
 "nbformat": 4,
 "nbformat_minor": 5
}
