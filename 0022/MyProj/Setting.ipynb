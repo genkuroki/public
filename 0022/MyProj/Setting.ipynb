{
 "cells": [
  {
   "cell_type": "code",
   "execution_count": 1,
   "id": "565ab712-410e-4c07-baeb-b53a5d7c5dce",
   "metadata": {},
   "outputs": [
    {
     "name": "stderr",
     "output_type": "stream",
     "text": [
      "\u001b[32m\u001b[1m  Activating\u001b[22m\u001b[39m new environment at `D:\\OneDrive\\public\\0022\\MyProj\\Project.toml`\n"
     ]
    }
   ],
   "source": [
    "]activate ."
   ]
  },
  {
   "cell_type": "code",
   "execution_count": 2,
   "id": "39ddbe64-fe04-4b96-928a-b1251698daca",
   "metadata": {},
   "outputs": [
    {
     "name": "stdout",
     "output_type": "stream",
     "text": [
      "\u001b[32m\u001b[1m      Status\u001b[22m\u001b[39m `D:\\OneDrive\\public\\0022\\MyProj\\Project.toml` (empty project)\n"
     ]
    }
   ],
   "source": [
    "]st"
   ]
  },
  {
   "cell_type": "code",
   "execution_count": 3,
   "id": "d26e3556-02e3-40fa-a179-0a289286a540",
   "metadata": {},
   "outputs": [
    {
     "name": "stderr",
     "output_type": "stream",
     "text": [
      "\u001b[32m\u001b[1m    Updating\u001b[22m\u001b[39m registry at `D:\\.julia\\registries\\General`\n",
      "\u001b[32m\u001b[1m    Updating\u001b[22m\u001b[39m git-repo `https://github.com/JuliaRegistries/General.git`\n",
      "\u001b[32m\u001b[1m   Resolving\u001b[22m\u001b[39m package versions...\n",
      "\u001b[32m\u001b[1m    Updating\u001b[22m\u001b[39m `D:\\OneDrive\\public\\0022\\MyProj\\Project.toml`\n",
      " \u001b[90m [5789e2e9] \u001b[39m\u001b[92m+ FileIO v1.11.1\u001b[39m\n",
      "\u001b[32m\u001b[1m    Updating\u001b[22m\u001b[39m `D:\\OneDrive\\public\\0022\\MyProj\\Manifest.toml`\n",
      " \u001b[90m [5789e2e9] \u001b[39m\u001b[92m+ FileIO v1.11.1\u001b[39m\n",
      " \u001b[90m [ae029012] \u001b[39m\u001b[92m+ Requires v1.1.3\u001b[39m\n",
      " \u001b[90m [0dad84c5] \u001b[39m\u001b[92m+ ArgTools\u001b[39m\n",
      " \u001b[90m [56f22d72] \u001b[39m\u001b[92m+ Artifacts\u001b[39m\n",
      " \u001b[90m [2a0f44e3] \u001b[39m\u001b[92m+ Base64\u001b[39m\n",
      " \u001b[90m [ade2ca70] \u001b[39m\u001b[92m+ Dates\u001b[39m\n",
      " \u001b[90m [f43a241f] \u001b[39m\u001b[92m+ Downloads\u001b[39m\n",
      " \u001b[90m [b77e0a4c] \u001b[39m\u001b[92m+ InteractiveUtils\u001b[39m\n",
      " \u001b[90m [b27032c2] \u001b[39m\u001b[92m+ LibCURL\u001b[39m\n",
      " \u001b[90m [76f85450] \u001b[39m\u001b[92m+ LibGit2\u001b[39m\n",
      " \u001b[90m [8f399da3] \u001b[39m\u001b[92m+ Libdl\u001b[39m\n",
      " \u001b[90m [56ddb016] \u001b[39m\u001b[92m+ Logging\u001b[39m\n",
      " \u001b[90m [d6f4376e] \u001b[39m\u001b[92m+ Markdown\u001b[39m\n",
      " \u001b[90m [ca575930] \u001b[39m\u001b[92m+ NetworkOptions\u001b[39m\n",
      " \u001b[90m [44cfe95a] \u001b[39m\u001b[92m+ Pkg\u001b[39m\n",
      " \u001b[90m [de0858da] \u001b[39m\u001b[92m+ Printf\u001b[39m\n",
      " \u001b[90m [3fa0cd96] \u001b[39m\u001b[92m+ REPL\u001b[39m\n",
      " \u001b[90m [9a3f8284] \u001b[39m\u001b[92m+ Random\u001b[39m\n",
      " \u001b[90m [ea8e919c] \u001b[39m\u001b[92m+ SHA\u001b[39m\n",
      " \u001b[90m [9e88b42a] \u001b[39m\u001b[92m+ Serialization\u001b[39m\n",
      " \u001b[90m [6462fe0b] \u001b[39m\u001b[92m+ Sockets\u001b[39m\n",
      " \u001b[90m [fa267f1f] \u001b[39m\u001b[92m+ TOML\u001b[39m\n",
      " \u001b[90m [a4e569a6] \u001b[39m\u001b[92m+ Tar\u001b[39m\n",
      " \u001b[90m [cf7118a7] \u001b[39m\u001b[92m+ UUIDs\u001b[39m\n",
      " \u001b[90m [4ec0a83e] \u001b[39m\u001b[92m+ Unicode\u001b[39m\n",
      " \u001b[90m [deac9b47] \u001b[39m\u001b[92m+ LibCURL_jll\u001b[39m\n",
      " \u001b[90m [29816b5a] \u001b[39m\u001b[92m+ LibSSH2_jll\u001b[39m\n",
      " \u001b[90m [c8ffd9c3] \u001b[39m\u001b[92m+ MbedTLS_jll\u001b[39m\n",
      " \u001b[90m [14a3606d] \u001b[39m\u001b[92m+ MozillaCACerts_jll\u001b[39m\n",
      " \u001b[90m [83775a58] \u001b[39m\u001b[92m+ Zlib_jll\u001b[39m\n",
      " \u001b[90m [8e850ede] \u001b[39m\u001b[92m+ nghttp2_jll\u001b[39m\n",
      " \u001b[90m [3f19e933] \u001b[39m\u001b[92m+ p7zip_jll\u001b[39m\n"
     ]
    }
   ],
   "source": [
    "]add FileIO"
   ]
  },
  {
   "cell_type": "code",
   "execution_count": 4,
   "id": "4a24f378-0d1b-450b-a916-ec288f1fd84a",
   "metadata": {},
   "outputs": [
    {
     "name": "stderr",
     "output_type": "stream",
     "text": [
      "\u001b[32m\u001b[1m   Resolving\u001b[22m\u001b[39m package versions...\n",
      "\u001b[32m\u001b[1m    Updating\u001b[22m\u001b[39m `D:\\OneDrive\\public\\0022\\MyProj\\Project.toml`\n",
      " \u001b[90m [b13ce0c6] \u001b[39m\u001b[92m+ LibSndFile v2.4.0\u001b[39m\n",
      "\u001b[32m\u001b[1m    Updating\u001b[22m\u001b[39m `D:\\OneDrive\\public\\0022\\MyProj\\Manifest.toml`\n",
      " \u001b[90m [621f4979] \u001b[39m\u001b[92m+ AbstractFFTs v1.0.1\u001b[39m\n",
      " \u001b[90m [79e6a3ab] \u001b[39m\u001b[92m+ Adapt v3.3.1\u001b[39m\n",
      " \u001b[90m [4fba245c] \u001b[39m\u001b[92m+ ArrayInterface v3.1.33\u001b[39m\n",
      " \u001b[90m [d360d2e6] \u001b[39m\u001b[92m+ ChainRulesCore v1.7.2\u001b[39m\n",
      " \u001b[90m [34da2185] \u001b[39m\u001b[92m+ Compat v3.39.0\u001b[39m\n",
      " \u001b[90m [187b0558] \u001b[39m\u001b[92m+ ConstructionBase v1.3.0\u001b[39m\n",
      " \u001b[90m [6add18c4] \u001b[39m\u001b[92m+ ContextVariablesX v0.1.2\u001b[39m\n",
      " \u001b[90m [717857b8] \u001b[39m\u001b[92m+ DSP v0.6.10\u001b[39m\n",
      " \u001b[90m [ffbed154] \u001b[39m\u001b[92m+ DocStringExtensions v0.8.5\u001b[39m\n",
      " \u001b[90m [da5c29d0] \u001b[39m\u001b[92m+ EllipsisNotation v1.1.0\u001b[39m\n",
      " \u001b[90m [e2ba6199] \u001b[39m\u001b[92m+ ExprTools v0.1.6\u001b[39m\n",
      " \u001b[90m [7a1cc6ca] \u001b[39m\u001b[92m+ FFTW v1.4.5\u001b[39m\n",
      " \u001b[90m [53c48c17] \u001b[39m\u001b[92m+ FixedPointNumbers v0.8.4\u001b[39m\n",
      " \u001b[90m [615f187c] \u001b[39m\u001b[92m+ IfElse v0.1.0\u001b[39m\n",
      " \u001b[90m [8197267c] \u001b[39m\u001b[92m+ IntervalSets v0.5.3\u001b[39m\n",
      " \u001b[90m [d8418881] \u001b[39m\u001b[92m+ Intervals v1.5.0\u001b[39m\n",
      " \u001b[90m [92d709cd] \u001b[39m\u001b[92m+ IrrationalConstants v0.1.0\u001b[39m\n",
      " \u001b[90m [c8e1da08] \u001b[39m\u001b[92m+ IterTools v1.3.0\u001b[39m\n",
      " \u001b[90m [692b3bcd] \u001b[39m\u001b[92m+ JLLWrappers v1.3.0\u001b[39m\n",
      " \u001b[90m [b13ce0c6] \u001b[39m\u001b[92m+ LibSndFile v2.4.0\u001b[39m\n",
      " \u001b[90m [2ab3a3ac] \u001b[39m\u001b[92m+ LogExpFunctions v0.3.3\u001b[39m\n",
      " \u001b[90m [78c3b35d] \u001b[39m\u001b[92m+ Mocking v0.7.4\u001b[39m\n",
      " \u001b[90m [6fe1bfb0] \u001b[39m\u001b[92m+ OffsetArrays v1.10.7\u001b[39m\n",
      " \u001b[90m [f27b6e38] \u001b[39m\u001b[92m+ Polynomials v1.2.1\u001b[39m\n",
      " \u001b[90m [21216c6a] \u001b[39m\u001b[92m+ Preferences v1.2.2\u001b[39m\n",
      " \u001b[90m [3cdcf5f2] \u001b[39m\u001b[92m+ RecipesBase v1.1.2\u001b[39m\n",
      " \u001b[90m [189a3867] \u001b[39m\u001b[92m+ Reexport v1.2.2\u001b[39m\n",
      " \u001b[90m [bd7594eb] \u001b[39m\u001b[92m+ SampledSignals v2.1.2\u001b[39m\n",
      " \u001b[90m [276daf66] \u001b[39m\u001b[92m+ SpecialFunctions v1.7.0\u001b[39m\n",
      " \u001b[90m [aedffcd0] \u001b[39m\u001b[92m+ Static v0.3.3\u001b[39m\n",
      " \u001b[90m [f269a46b] \u001b[39m\u001b[92m+ TimeZones v1.5.7\u001b[39m\n",
      " \u001b[90m [a2a6695c] \u001b[39m\u001b[92m+ TreeViews v0.3.0\u001b[39m\n",
      " \u001b[90m [1986cc42] \u001b[39m\u001b[92m+ Unitful v1.9.0\u001b[39m\n",
      " \u001b[90m [f5851436] \u001b[39m\u001b[92m+ FFTW_jll v3.3.10+0\u001b[39m\n",
      " \u001b[90m [1d38b3a6] \u001b[39m\u001b[92m+ FLAC_jll v1.3.3+2\u001b[39m\n",
      " \u001b[90m [1d5cc7b8] \u001b[39m\u001b[92m+ IntelOpenMP_jll v2018.0.3+2\u001b[39m\n",
      " \u001b[90m [856f044c] \u001b[39m\u001b[92m+ MKL_jll v2021.1.1+2\u001b[39m\n",
      " \u001b[90m [e7412a2a] \u001b[39m\u001b[92m+ Ogg_jll v1.3.5+0\u001b[39m\n",
      " \u001b[90m [efe28fd5] \u001b[39m\u001b[92m+ OpenSpecFun_jll v0.5.5+0\u001b[39m\n",
      " \u001b[90m [45378030] \u001b[39m\u001b[92m+ alsa_jll v1.2.5+0\u001b[39m\n",
      " \u001b[90m [5bf562c0] \u001b[39m\u001b[92m+ libsndfile_jll v1.0.31+0\u001b[39m\n",
      " \u001b[90m [f27f6e37] \u001b[39m\u001b[92m+ libvorbis_jll v1.3.7+0\u001b[39m\n",
      " \u001b[90m [8bb1440f] \u001b[39m\u001b[92m+ DelimitedFiles\u001b[39m\n",
      " \u001b[90m [8ba89e20] \u001b[39m\u001b[92m+ Distributed\u001b[39m\n",
      " \u001b[90m [9fa8497b] \u001b[39m\u001b[92m+ Future\u001b[39m\n",
      " \u001b[90m [4af54fe1] \u001b[39m\u001b[92m+ LazyArtifacts\u001b[39m\n",
      " \u001b[90m [37e2e46d] \u001b[39m\u001b[92m+ LinearAlgebra\u001b[39m\n",
      " \u001b[90m [a63ad114] \u001b[39m\u001b[92m+ Mmap\u001b[39m\n",
      " \u001b[90m [1a1011a3] \u001b[39m\u001b[92m+ SharedArrays\u001b[39m\n",
      " \u001b[90m [2f01184e] \u001b[39m\u001b[92m+ SparseArrays\u001b[39m\n",
      " \u001b[90m [10745b16] \u001b[39m\u001b[92m+ Statistics\u001b[39m\n",
      " \u001b[90m [8dfed614] \u001b[39m\u001b[92m+ Test\u001b[39m\n",
      " \u001b[90m [e66e0078] \u001b[39m\u001b[92m+ CompilerSupportLibraries_jll\u001b[39m\n",
      " \u001b[90m [05823500] \u001b[39m\u001b[92m+ OpenLibm_jll\u001b[39m\n"
     ]
    }
   ],
   "source": [
    "]add LibSndFile"
   ]
  },
  {
   "cell_type": "code",
   "execution_count": 5,
   "id": "727e2585-c912-432a-9d4b-76856aee396b",
   "metadata": {},
   "outputs": [
    {
     "name": "stdout",
     "output_type": "stream",
     "text": [
      "\u001b[32m\u001b[1m      Status\u001b[22m\u001b[39m `D:\\OneDrive\\public\\0022\\MyProj\\Project.toml`\n",
      " \u001b[90m [5789e2e9] \u001b[39mFileIO v1.11.1\n",
      " \u001b[90m [b13ce0c6] \u001b[39mLibSndFile v2.4.0\n"
     ]
    }
   ],
   "source": [
    "]st"
   ]
  },
  {
   "cell_type": "code",
   "execution_count": 6,
   "id": "4e3c57bb-55ce-43a2-99b2-968c98b00009",
   "metadata": {},
   "outputs": [
    {
     "name": "stdout",
     "output_type": "stream",
     "text": [
      "\u001b[32m\u001b[1m      Status\u001b[22m\u001b[39m `D:\\OneDrive\\public\\0022\\MyProj\\Manifest.toml`\n",
      " \u001b[90m [621f4979] \u001b[39mAbstractFFTs v1.0.1\n",
      " \u001b[90m [79e6a3ab] \u001b[39mAdapt v3.3.1\n",
      " \u001b[90m [4fba245c] \u001b[39mArrayInterface v3.1.33\n",
      " \u001b[90m [d360d2e6] \u001b[39mChainRulesCore v1.7.2\n",
      " \u001b[90m [34da2185] \u001b[39mCompat v3.39.0\n",
      " \u001b[90m [187b0558] \u001b[39mConstructionBase v1.3.0\n",
      " \u001b[90m [6add18c4] \u001b[39mContextVariablesX v0.1.2\n",
      " \u001b[90m [717857b8] \u001b[39mDSP v0.6.10\n",
      " \u001b[90m [ffbed154] \u001b[39mDocStringExtensions v0.8.5\n",
      " \u001b[90m [da5c29d0] \u001b[39mEllipsisNotation v1.1.0\n",
      " \u001b[90m [e2ba6199] \u001b[39mExprTools v0.1.6\n",
      " \u001b[90m [7a1cc6ca] \u001b[39mFFTW v1.4.5\n",
      " \u001b[90m [5789e2e9] \u001b[39mFileIO v1.11.1\n",
      " \u001b[90m [53c48c17] \u001b[39mFixedPointNumbers v0.8.4\n",
      " \u001b[90m [615f187c] \u001b[39mIfElse v0.1.0\n",
      " \u001b[90m [8197267c] \u001b[39mIntervalSets v0.5.3\n",
      " \u001b[90m [d8418881] \u001b[39mIntervals v1.5.0\n",
      " \u001b[90m [92d709cd] \u001b[39mIrrationalConstants v0.1.0\n",
      " \u001b[90m [c8e1da08] \u001b[39mIterTools v1.3.0\n",
      " \u001b[90m [692b3bcd] \u001b[39mJLLWrappers v1.3.0\n",
      " \u001b[90m [b13ce0c6] \u001b[39mLibSndFile v2.4.0\n",
      " \u001b[90m [2ab3a3ac] \u001b[39mLogExpFunctions v0.3.3\n",
      " \u001b[90m [78c3b35d] \u001b[39mMocking v0.7.4\n",
      " \u001b[90m [6fe1bfb0] \u001b[39mOffsetArrays v1.10.7\n",
      " \u001b[90m [f27b6e38] \u001b[39mPolynomials v1.2.1\n",
      " \u001b[90m [21216c6a] \u001b[39mPreferences v1.2.2\n",
      " \u001b[90m [3cdcf5f2] \u001b[39mRecipesBase v1.1.2\n",
      " \u001b[90m [189a3867] \u001b[39mReexport v1.2.2\n",
      " \u001b[90m [ae029012] \u001b[39mRequires v1.1.3\n",
      " \u001b[90m [bd7594eb] \u001b[39mSampledSignals v2.1.2\n",
      " \u001b[90m [276daf66] \u001b[39mSpecialFunctions v1.7.0\n",
      " \u001b[90m [aedffcd0] \u001b[39mStatic v0.3.3\n",
      " \u001b[90m [f269a46b] \u001b[39mTimeZones v1.5.7\n",
      " \u001b[90m [a2a6695c] \u001b[39mTreeViews v0.3.0\n",
      " \u001b[90m [1986cc42] \u001b[39mUnitful v1.9.0\n",
      " \u001b[90m [f5851436] \u001b[39mFFTW_jll v3.3.10+0\n",
      " \u001b[90m [1d38b3a6] \u001b[39mFLAC_jll v1.3.3+2\n",
      " \u001b[90m [1d5cc7b8] \u001b[39mIntelOpenMP_jll v2018.0.3+2\n",
      " \u001b[90m [856f044c] \u001b[39mMKL_jll v2021.1.1+2\n",
      " \u001b[90m [e7412a2a] \u001b[39mOgg_jll v1.3.5+0\n",
      " \u001b[90m [efe28fd5] \u001b[39mOpenSpecFun_jll v0.5.5+0\n",
      " \u001b[90m [45378030] \u001b[39malsa_jll v1.2.5+0\n",
      " \u001b[90m [5bf562c0] \u001b[39mlibsndfile_jll v1.0.31+0\n",
      " \u001b[90m [f27f6e37] \u001b[39mlibvorbis_jll v1.3.7+0\n",
      " \u001b[90m [0dad84c5] \u001b[39mArgTools\n",
      " \u001b[90m [56f22d72] \u001b[39mArtifacts\n",
      " \u001b[90m [2a0f44e3] \u001b[39mBase64\n",
      " \u001b[90m [ade2ca70] \u001b[39mDates\n",
      " \u001b[90m [8bb1440f] \u001b[39mDelimitedFiles\n",
      " \u001b[90m [8ba89e20] \u001b[39mDistributed\n",
      " \u001b[90m [f43a241f] \u001b[39mDownloads\n",
      " \u001b[90m [9fa8497b] \u001b[39mFuture\n",
      " \u001b[90m [b77e0a4c] \u001b[39mInteractiveUtils\n",
      " \u001b[90m [4af54fe1] \u001b[39mLazyArtifacts\n",
      " \u001b[90m [b27032c2] \u001b[39mLibCURL\n",
      " \u001b[90m [76f85450] \u001b[39mLibGit2\n",
      " \u001b[90m [8f399da3] \u001b[39mLibdl\n",
      " \u001b[90m [37e2e46d] \u001b[39mLinearAlgebra\n",
      " \u001b[90m [56ddb016] \u001b[39mLogging\n",
      " \u001b[90m [d6f4376e] \u001b[39mMarkdown\n",
      " \u001b[90m [a63ad114] \u001b[39mMmap\n",
      " \u001b[90m [ca575930] \u001b[39mNetworkOptions\n",
      " \u001b[90m [44cfe95a] \u001b[39mPkg\n",
      " \u001b[90m [de0858da] \u001b[39mPrintf\n",
      " \u001b[90m [3fa0cd96] \u001b[39mREPL\n",
      " \u001b[90m [9a3f8284] \u001b[39mRandom\n",
      " \u001b[90m [ea8e919c] \u001b[39mSHA\n",
      " \u001b[90m [9e88b42a] \u001b[39mSerialization\n",
      " \u001b[90m [1a1011a3] \u001b[39mSharedArrays\n",
      " \u001b[90m [6462fe0b] \u001b[39mSockets\n",
      " \u001b[90m [2f01184e] \u001b[39mSparseArrays\n",
      " \u001b[90m [10745b16] \u001b[39mStatistics\n",
      " \u001b[90m [fa267f1f] \u001b[39mTOML\n",
      " \u001b[90m [a4e569a6] \u001b[39mTar\n",
      " \u001b[90m [8dfed614] \u001b[39mTest\n",
      " \u001b[90m [cf7118a7] \u001b[39mUUIDs\n",
      " \u001b[90m [4ec0a83e] \u001b[39mUnicode\n",
      " \u001b[90m [e66e0078] \u001b[39mCompilerSupportLibraries_jll\n",
      " \u001b[90m [deac9b47] \u001b[39mLibCURL_jll\n",
      " \u001b[90m [29816b5a] \u001b[39mLibSSH2_jll\n",
      " \u001b[90m [c8ffd9c3] \u001b[39mMbedTLS_jll\n",
      " \u001b[90m [14a3606d] \u001b[39mMozillaCACerts_jll\n",
      " \u001b[90m [05823500] \u001b[39mOpenLibm_jll\n",
      " \u001b[90m [83775a58] \u001b[39mZlib_jll\n",
      " \u001b[90m [8e850ede] \u001b[39mnghttp2_jll\n",
      " \u001b[90m [3f19e933] \u001b[39mp7zip_jll\n"
     ]
    }
   ],
   "source": [
    "]st -m"
   ]
  },
  {
   "cell_type": "code",
   "execution_count": null,
   "id": "42f7f2ad-2c83-4ed0-9305-9d3048627ce7",
   "metadata": {},
   "outputs": [],
   "source": []
  }
 ],
 "metadata": {
  "kernelspec": {
   "display_name": "Julia 1.6.3",
   "language": "julia",
   "name": "julia-1.6"
  },
  "language_info": {
   "file_extension": ".jl",
   "mimetype": "application/julia",
   "name": "julia",
   "version": "1.6.3"
  }
 },
 "nbformat": 4,
 "nbformat_minor": 5
}
